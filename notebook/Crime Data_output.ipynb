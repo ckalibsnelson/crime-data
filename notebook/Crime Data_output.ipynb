{
 "cells": [
  {
   "cell_type": "markdown",
   "id": "0c992c2f",
   "metadata": {
    "papermill": {
     "duration": 0.007581,
     "end_time": "2025-05-18T01:07:08.987071",
     "exception": false,
     "start_time": "2025-05-18T01:07:08.979490",
     "status": "completed"
    },
    "tags": []
   },
   "source": [
    "# Charlottesville Open Data Porttal: Crime Data"
   ]
  },
  {
   "cell_type": "markdown",
   "id": "2fa3d51d",
   "metadata": {
    "papermill": {
     "duration": 0.005119,
     "end_time": "2025-05-18T01:07:08.997722",
     "exception": false,
     "start_time": "2025-05-18T01:07:08.992603",
     "status": "completed"
    },
    "tags": []
   },
   "source": [
    "## Import Relevant Librarires & Set WD"
   ]
  },
  {
   "cell_type": "code",
   "execution_count": 1,
   "id": "3605fc91",
   "metadata": {
    "execution": {
     "iopub.execute_input": "2025-05-18T01:07:09.009693Z",
     "iopub.status.busy": "2025-05-18T01:07:09.008986Z",
     "iopub.status.idle": "2025-05-18T01:07:09.603993Z",
     "shell.execute_reply": "2025-05-18T01:07:09.603317Z"
    },
    "papermill": {
     "duration": 0.602461,
     "end_time": "2025-05-18T01:07:09.605342",
     "exception": false,
     "start_time": "2025-05-18T01:07:09.002881",
     "status": "completed"
    },
    "tags": []
   },
   "outputs": [],
   "source": [
    "import requests\n",
    "import pandas as pd\n",
    "import numpy as np\n",
    "import pickle\n",
    "import googlemaps\n",
    "import plotly.express as px\n",
    "from geopy.geocoders import Nominatim\n",
    "import time\n",
    "from dotenv import load_dotenv\n",
    "import os\n",
    "\n",
    "env_path = os.path.join(\"..\", \".env\")\n",
    "#print(\"Looking for .env file at:\", os.path.abspath(env_path))\n",
    "load_dotenv(dotenv_path=env_path)\n",
    "\n",
    "# Retrieve the variables\n",
    "GOOGLE_API_KEY = os.getenv(\"GOOGLE_API_KEY\")\n",
    "WORKING_DIR = os.getenv(\"WORKING_DIR\")\n",
    "\n",
    "if GOOGLE_API_KEY is None or WORKING_DIR is None:\n",
    "    raise RuntimeError(\"No configuration found. Please ensure that your .env file exists with the required variables, or create a local config.py file.\")\n",
    "\n",
    "#print(\"Google API Key:\", GOOGLE_API_KEY)\n",
    "#print(\"Working Directory:\", WORKING_DIR)"
   ]
  },
  {
   "cell_type": "markdown",
   "id": "79a0f81c",
   "metadata": {
    "papermill": {
     "duration": 0.005012,
     "end_time": "2025-05-18T01:07:09.615847",
     "exception": false,
     "start_time": "2025-05-18T01:07:09.610835",
     "status": "completed"
    },
    "tags": []
   },
   "source": [
    "## Import Data\n",
    "\n",
    "URL: https://opendata.charlottesville.org/datasets/charlottesville::crime-data/about"
   ]
  },
  {
   "cell_type": "code",
   "execution_count": 2,
   "id": "2fb4aba9",
   "metadata": {
    "execution": {
     "iopub.execute_input": "2025-05-18T01:07:09.628225Z",
     "iopub.status.busy": "2025-05-18T01:07:09.627515Z",
     "iopub.status.idle": "2025-05-18T01:08:09.728681Z",
     "shell.execute_reply": "2025-05-18T01:08:09.727916Z"
    },
    "papermill": {
     "duration": 60.142948,
     "end_time": "2025-05-18T01:08:09.764522",
     "exception": false,
     "start_time": "2025-05-18T01:07:09.621574",
     "status": "completed"
    },
    "tags": []
   },
   "outputs": [
    {
     "name": "stdout",
     "output_type": "stream",
     "text": [
      "Total records imported: 25389\n"
     ]
    }
   ],
   "source": [
    "# Define the endpoint and initial parameters.\n",
    "url = \"https://gisweb.charlottesville.org/arcgis/rest/services/OpenData_2/MapServer/6/query\"\n",
    "params = {\n",
    "    \"where\": \"1=1\",\n",
    "    \"outFields\": \"*\",\n",
    "    \"outSR\": 4326,\n",
    "    \"f\": \"json\",\n",
    "    \"resultOffset\": 0,       # Starting index for results\n",
    "    \"resultRecordCount\": 10000  # Maximum records per batch (if allowed by the API)\n",
    "}\n",
    "\n",
    "records = []\n",
    "\n",
    "while True:\n",
    "    response = requests.get(url, params=params)\n",
    "    response.raise_for_status()\n",
    "    data = response.json()\n",
    "    \n",
    "    # Get the current batch of features.\n",
    "    features = data.get(\"features\", [])\n",
    "    if not features:\n",
    "        break\n",
    "\n",
    "    # Extract the attributes from the features.\n",
    "    batch_records = [feature.get(\"attributes\", {}) for feature in features]\n",
    "    records.extend(batch_records)\n",
    "    \n",
    "    # If the batch size is less than the requested count, we reached the end.\n",
    "    if len(features) < params[\"resultRecordCount\"]:\n",
    "        break\n",
    "\n",
    "    # Update the resultOffset for the next batch.\n",
    "    params[\"resultOffset\"] += params[\"resultRecordCount\"]\n",
    "\n",
    "# Create a DataFrame from the combined records.\n",
    "df = pd.DataFrame(records)\n",
    "print(\"Total records imported:\", len(df))\n"
   ]
  },
  {
   "cell_type": "code",
   "execution_count": 3,
   "id": "64bb30e3",
   "metadata": {
    "execution": {
     "iopub.execute_input": "2025-05-18T01:08:09.776635Z",
     "iopub.status.busy": "2025-05-18T01:08:09.776148Z",
     "iopub.status.idle": "2025-05-18T01:08:09.788776Z",
     "shell.execute_reply": "2025-05-18T01:08:09.788083Z"
    },
    "papermill": {
     "duration": 0.019945,
     "end_time": "2025-05-18T01:08:09.789865",
     "exception": false,
     "start_time": "2025-05-18T01:08:09.769920",
     "status": "completed"
    },
    "tags": []
   },
   "outputs": [
    {
     "data": {
      "text/html": [
       "<div>\n",
       "<style scoped>\n",
       "    .dataframe tbody tr th:only-of-type {\n",
       "        vertical-align: middle;\n",
       "    }\n",
       "\n",
       "    .dataframe tbody tr th {\n",
       "        vertical-align: top;\n",
       "    }\n",
       "\n",
       "    .dataframe thead th {\n",
       "        text-align: right;\n",
       "    }\n",
       "</style>\n",
       "<table border=\"1\" class=\"dataframe\">\n",
       "  <thead>\n",
       "    <tr style=\"text-align: right;\">\n",
       "      <th></th>\n",
       "      <th>RecordID</th>\n",
       "      <th>Offense</th>\n",
       "      <th>IncidentID</th>\n",
       "      <th>BlockNumber</th>\n",
       "      <th>StreetName</th>\n",
       "      <th>Agency</th>\n",
       "      <th>DateReported</th>\n",
       "      <th>HourReported</th>\n",
       "      <th>ReportingOfficer</th>\n",
       "    </tr>\n",
       "  </thead>\n",
       "  <tbody>\n",
       "    <tr>\n",
       "      <th>0</th>\n",
       "      <td>1</td>\n",
       "      <td>Lost/FoundProperty</td>\n",
       "      <td>202500016506</td>\n",
       "      <td>800</td>\n",
       "      <td>W MAIN ST</td>\n",
       "      <td>CPD</td>\n",
       "      <td>1747366034000</td>\n",
       "      <td>2327</td>\n",
       "      <td>McLeod, Dustin</td>\n",
       "    </tr>\n",
       "    <tr>\n",
       "      <th>1</th>\n",
       "      <td>2</td>\n",
       "      <td>Assault Simple</td>\n",
       "      <td>202500016468</td>\n",
       "      <td>900</td>\n",
       "      <td>HENRY AVE, A</td>\n",
       "      <td>CPD</td>\n",
       "      <td>1747348148000</td>\n",
       "      <td>1829</td>\n",
       "      <td>Abdelgayed, Adam</td>\n",
       "    </tr>\n",
       "    <tr>\n",
       "      <th>2</th>\n",
       "      <td>3</td>\n",
       "      <td>Suspicious Activity</td>\n",
       "      <td>202500016461</td>\n",
       "      <td>900</td>\n",
       "      <td>HARRIS ST</td>\n",
       "      <td>CPD</td>\n",
       "      <td>1747344346000</td>\n",
       "      <td>1725</td>\n",
       "      <td>Oakes, Maithe</td>\n",
       "    </tr>\n",
       "    <tr>\n",
       "      <th>3</th>\n",
       "      <td>4</td>\n",
       "      <td>Larceny - Shoplifitng</td>\n",
       "      <td>202500016455</td>\n",
       "      <td>200</td>\n",
       "      <td>E MAIN ST</td>\n",
       "      <td>CPD</td>\n",
       "      <td>1747342130000</td>\n",
       "      <td>1648</td>\n",
       "      <td>Rigsby, Lloyd</td>\n",
       "    </tr>\n",
       "    <tr>\n",
       "      <th>4</th>\n",
       "      <td>5</td>\n",
       "      <td>Drug Investigation</td>\n",
       "      <td>202500016442</td>\n",
       "      <td>500</td>\n",
       "      <td>PARK ST</td>\n",
       "      <td>CPD</td>\n",
       "      <td>1747338186000</td>\n",
       "      <td>1543</td>\n",
       "      <td>Bentz, Benjamin</td>\n",
       "    </tr>\n",
       "  </tbody>\n",
       "</table>\n",
       "</div>"
      ],
      "text/plain": [
       "   RecordID                Offense    IncidentID BlockNumber    StreetName  \\\n",
       "0         1     Lost/FoundProperty  202500016506         800     W MAIN ST   \n",
       "1         2         Assault Simple  202500016468         900  HENRY AVE, A   \n",
       "2         3    Suspicious Activity  202500016461         900     HARRIS ST   \n",
       "3         4  Larceny - Shoplifitng  202500016455         200     E MAIN ST   \n",
       "4         5     Drug Investigation  202500016442         500       PARK ST   \n",
       "\n",
       "  Agency   DateReported HourReported  ReportingOfficer  \n",
       "0    CPD  1747366034000         2327    McLeod, Dustin  \n",
       "1    CPD  1747348148000         1829  Abdelgayed, Adam  \n",
       "2    CPD  1747344346000         1725     Oakes, Maithe  \n",
       "3    CPD  1747342130000         1648     Rigsby, Lloyd  \n",
       "4    CPD  1747338186000         1543  Bentz, Benjamin   "
      ]
     },
     "execution_count": 3,
     "metadata": {},
     "output_type": "execute_result"
    }
   ],
   "source": [
    "df.head()"
   ]
  },
  {
   "cell_type": "code",
   "execution_count": 4,
   "id": "2f90ffe7",
   "metadata": {
    "execution": {
     "iopub.execute_input": "2025-05-18T01:08:09.802333Z",
     "iopub.status.busy": "2025-05-18T01:08:09.801886Z",
     "iopub.status.idle": "2025-05-18T01:08:09.806782Z",
     "shell.execute_reply": "2025-05-18T01:08:09.806215Z"
    },
    "papermill": {
     "duration": 0.012355,
     "end_time": "2025-05-18T01:08:09.807804",
     "exception": false,
     "start_time": "2025-05-18T01:08:09.795449",
     "status": "completed"
    },
    "tags": []
   },
   "outputs": [
    {
     "data": {
      "text/plain": [
       "Index(['RecordID', 'Offense', 'IncidentID', 'BlockNumber', 'StreetName',\n",
       "       'Agency', 'DateReported', 'HourReported', 'ReportingOfficer'],\n",
       "      dtype='object')"
      ]
     },
     "execution_count": 4,
     "metadata": {},
     "output_type": "execute_result"
    }
   ],
   "source": [
    "df.columns"
   ]
  },
  {
   "cell_type": "code",
   "execution_count": 5,
   "id": "65bc34f2",
   "metadata": {
    "execution": {
     "iopub.execute_input": "2025-05-18T01:08:09.820162Z",
     "iopub.status.busy": "2025-05-18T01:08:09.819913Z",
     "iopub.status.idle": "2025-05-18T01:08:09.845590Z",
     "shell.execute_reply": "2025-05-18T01:08:09.844936Z"
    },
    "papermill": {
     "duration": 0.033183,
     "end_time": "2025-05-18T01:08:09.846738",
     "exception": false,
     "start_time": "2025-05-18T01:08:09.813555",
     "status": "completed"
    },
    "tags": []
   },
   "outputs": [
    {
     "name": "stdout",
     "output_type": "stream",
     "text": [
      "<class 'pandas.core.frame.DataFrame'>\n",
      "RangeIndex: 25389 entries, 0 to 25388\n",
      "Data columns (total 9 columns):\n",
      " #   Column            Non-Null Count  Dtype \n",
      "---  ------            --------------  ----- \n",
      " 0   RecordID          25389 non-null  int64 \n",
      " 1   Offense           25389 non-null  object\n",
      " 2   IncidentID        25389 non-null  object\n",
      " 3   BlockNumber       25389 non-null  object\n",
      " 4   StreetName        25389 non-null  object\n",
      " 5   Agency            25389 non-null  object\n",
      " 6   DateReported      25389 non-null  int64 \n",
      " 7   HourReported      25389 non-null  object\n",
      " 8   ReportingOfficer  25372 non-null  object\n",
      "dtypes: int64(2), object(7)\n",
      "memory usage: 1.7+ MB\n"
     ]
    }
   ],
   "source": [
    "df.info()"
   ]
  },
  {
   "cell_type": "markdown",
   "id": "a2bd12e8",
   "metadata": {
    "papermill": {
     "duration": 0.005806,
     "end_time": "2025-05-18T01:08:09.858486",
     "exception": false,
     "start_time": "2025-05-18T01:08:09.852680",
     "status": "completed"
    },
    "tags": []
   },
   "source": [
    "### Missing Values"
   ]
  },
  {
   "cell_type": "code",
   "execution_count": 6,
   "id": "ba4a9aab",
   "metadata": {
    "execution": {
     "iopub.execute_input": "2025-05-18T01:08:09.871339Z",
     "iopub.status.busy": "2025-05-18T01:08:09.870806Z",
     "iopub.status.idle": "2025-05-18T01:08:09.896371Z",
     "shell.execute_reply": "2025-05-18T01:08:09.895778Z"
    },
    "papermill": {
     "duration": 0.033222,
     "end_time": "2025-05-18T01:08:09.897386",
     "exception": false,
     "start_time": "2025-05-18T01:08:09.864164",
     "status": "completed"
    },
    "tags": []
   },
   "outputs": [
    {
     "name": "stdout",
     "output_type": "stream",
     "text": [
      "                  MissingCount  MissingPercentage\n",
      "RecordID                     0               0.00\n",
      "Offense                      0               0.00\n",
      "IncidentID                   0               0.00\n",
      "BlockNumber                  0               0.00\n",
      "StreetName                   0               0.00\n",
      "Agency                       0               0.00\n",
      "DateReported                 0               0.00\n",
      "HourReported                 0               0.00\n",
      "ReportingOfficer            17               0.07\n"
     ]
    }
   ],
   "source": [
    "def missing_percentage(df):\n",
    "    \"\"\"\n",
    "    Returns a DataFrame with the count and percentage of missing values for each column.\n",
    "    \n",
    "    Parameters:\n",
    "        df (pd.DataFrame): The input DataFrame.\n",
    "    \n",
    "    Returns:\n",
    "        pd.DataFrame: A DataFrame with columns 'MissingCount' and 'MissingPercentage'.\n",
    "    \"\"\"\n",
    "    total_rows = len(df)\n",
    "    missing_count = df.isnull().sum()\n",
    "    missing_percent = (missing_count / total_rows) * 100\n",
    "    \n",
    "    result = pd.DataFrame({\n",
    "        'MissingCount': missing_count,\n",
    "        'MissingPercentage': missing_percent.round(2)\n",
    "    })\n",
    "    \n",
    "    return result\n",
    "\n",
    "# Example usage:\n",
    "missing_info = missing_percentage(df)\n",
    "print(missing_info)\n"
   ]
  },
  {
   "cell_type": "markdown",
   "id": "5ce0d07c",
   "metadata": {
    "papermill": {
     "duration": 0.005928,
     "end_time": "2025-05-18T01:08:09.909447",
     "exception": false,
     "start_time": "2025-05-18T01:08:09.903519",
     "status": "completed"
    },
    "tags": []
   },
   "source": [
    "## Data Preparation"
   ]
  },
  {
   "cell_type": "markdown",
   "id": "263e72e0",
   "metadata": {
    "papermill": {
     "duration": 0.005627,
     "end_time": "2025-05-18T01:08:09.920749",
     "exception": false,
     "start_time": "2025-05-18T01:08:09.915122",
     "status": "completed"
    },
    "tags": []
   },
   "source": [
    "### Data Conversion"
   ]
  },
  {
   "cell_type": "code",
   "execution_count": 7,
   "id": "d344dd22",
   "metadata": {
    "execution": {
     "iopub.execute_input": "2025-05-18T01:08:09.933662Z",
     "iopub.status.busy": "2025-05-18T01:08:09.933123Z",
     "iopub.status.idle": "2025-05-18T01:08:10.311786Z",
     "shell.execute_reply": "2025-05-18T01:08:10.311089Z"
    },
    "papermill": {
     "duration": 0.386385,
     "end_time": "2025-05-18T01:08:10.312793",
     "exception": false,
     "start_time": "2025-05-18T01:08:09.926408",
     "status": "completed"
    },
    "tags": []
   },
   "outputs": [
    {
     "data": {
      "text/html": [
       "<div>\n",
       "<style scoped>\n",
       "    .dataframe tbody tr th:only-of-type {\n",
       "        vertical-align: middle;\n",
       "    }\n",
       "\n",
       "    .dataframe tbody tr th {\n",
       "        vertical-align: top;\n",
       "    }\n",
       "\n",
       "    .dataframe thead th {\n",
       "        text-align: right;\n",
       "    }\n",
       "</style>\n",
       "<table border=\"1\" class=\"dataframe\">\n",
       "  <thead>\n",
       "    <tr style=\"text-align: right;\">\n",
       "      <th></th>\n",
       "      <th>RecordID</th>\n",
       "      <th>Offense</th>\n",
       "      <th>IncidentID</th>\n",
       "      <th>BlockNumber</th>\n",
       "      <th>StreetName</th>\n",
       "      <th>Agency</th>\n",
       "      <th>HourReported</th>\n",
       "      <th>ReportingOfficer</th>\n",
       "      <th>Date</th>\n",
       "      <th>DateString</th>\n",
       "      <th>DayOfWeek</th>\n",
       "      <th>Weekend</th>\n",
       "      <th>Season</th>\n",
       "      <th>HourAMPM</th>\n",
       "      <th>TimeOfDay</th>\n",
       "    </tr>\n",
       "  </thead>\n",
       "  <tbody>\n",
       "    <tr>\n",
       "      <th>0</th>\n",
       "      <td>1</td>\n",
       "      <td>Lost/FoundProperty</td>\n",
       "      <td>202500016506</td>\n",
       "      <td>800</td>\n",
       "      <td>W MAIN ST</td>\n",
       "      <td>CPD</td>\n",
       "      <td>2327</td>\n",
       "      <td>McLeod, Dustin</td>\n",
       "      <td>2025-05-15 23:27:14</td>\n",
       "      <td>2025-05-15 11:27:14 PM</td>\n",
       "      <td>Thursday</td>\n",
       "      <td>False</td>\n",
       "      <td>Spring</td>\n",
       "      <td>11:27 PM</td>\n",
       "      <td>Night</td>\n",
       "    </tr>\n",
       "    <tr>\n",
       "      <th>1</th>\n",
       "      <td>2</td>\n",
       "      <td>Assault Simple</td>\n",
       "      <td>202500016468</td>\n",
       "      <td>900</td>\n",
       "      <td>HENRY AVE, A</td>\n",
       "      <td>CPD</td>\n",
       "      <td>1829</td>\n",
       "      <td>Abdelgayed, Adam</td>\n",
       "      <td>2025-05-15 18:29:08</td>\n",
       "      <td>2025-05-15 06:29:08 PM</td>\n",
       "      <td>Thursday</td>\n",
       "      <td>False</td>\n",
       "      <td>Spring</td>\n",
       "      <td>06:29 PM</td>\n",
       "      <td>Evening</td>\n",
       "    </tr>\n",
       "    <tr>\n",
       "      <th>2</th>\n",
       "      <td>3</td>\n",
       "      <td>Suspicious Activity</td>\n",
       "      <td>202500016461</td>\n",
       "      <td>900</td>\n",
       "      <td>HARRIS ST</td>\n",
       "      <td>CPD</td>\n",
       "      <td>1725</td>\n",
       "      <td>Oakes, Maithe</td>\n",
       "      <td>2025-05-15 17:25:46</td>\n",
       "      <td>2025-05-15 05:25:46 PM</td>\n",
       "      <td>Thursday</td>\n",
       "      <td>False</td>\n",
       "      <td>Spring</td>\n",
       "      <td>05:25 PM</td>\n",
       "      <td>Evening</td>\n",
       "    </tr>\n",
       "    <tr>\n",
       "      <th>3</th>\n",
       "      <td>4</td>\n",
       "      <td>Larceny - Shoplifitng</td>\n",
       "      <td>202500016455</td>\n",
       "      <td>200</td>\n",
       "      <td>E MAIN ST</td>\n",
       "      <td>CPD</td>\n",
       "      <td>1648</td>\n",
       "      <td>Rigsby, Lloyd</td>\n",
       "      <td>2025-05-15 16:48:50</td>\n",
       "      <td>2025-05-15 04:48:50 PM</td>\n",
       "      <td>Thursday</td>\n",
       "      <td>False</td>\n",
       "      <td>Spring</td>\n",
       "      <td>04:48 PM</td>\n",
       "      <td>Afternoon</td>\n",
       "    </tr>\n",
       "    <tr>\n",
       "      <th>4</th>\n",
       "      <td>5</td>\n",
       "      <td>Drug Investigation</td>\n",
       "      <td>202500016442</td>\n",
       "      <td>500</td>\n",
       "      <td>PARK ST</td>\n",
       "      <td>CPD</td>\n",
       "      <td>1543</td>\n",
       "      <td>Bentz, Benjamin</td>\n",
       "      <td>2025-05-15 15:43:06</td>\n",
       "      <td>2025-05-15 03:43:06 PM</td>\n",
       "      <td>Thursday</td>\n",
       "      <td>False</td>\n",
       "      <td>Spring</td>\n",
       "      <td>03:43 PM</td>\n",
       "      <td>Afternoon</td>\n",
       "    </tr>\n",
       "  </tbody>\n",
       "</table>\n",
       "</div>"
      ],
      "text/plain": [
       "   RecordID                Offense    IncidentID BlockNumber    StreetName  \\\n",
       "0         1     Lost/FoundProperty  202500016506         800     W MAIN ST   \n",
       "1         2         Assault Simple  202500016468         900  HENRY AVE, A   \n",
       "2         3    Suspicious Activity  202500016461         900     HARRIS ST   \n",
       "3         4  Larceny - Shoplifitng  202500016455         200     E MAIN ST   \n",
       "4         5     Drug Investigation  202500016442         500       PARK ST   \n",
       "\n",
       "  Agency HourReported  ReportingOfficer                Date  \\\n",
       "0    CPD         2327    McLeod, Dustin 2025-05-15 23:27:14   \n",
       "1    CPD         1829  Abdelgayed, Adam 2025-05-15 18:29:08   \n",
       "2    CPD         1725     Oakes, Maithe 2025-05-15 17:25:46   \n",
       "3    CPD         1648     Rigsby, Lloyd 2025-05-15 16:48:50   \n",
       "4    CPD         1543  Bentz, Benjamin  2025-05-15 15:43:06   \n",
       "\n",
       "               DateString DayOfWeek  Weekend  Season  HourAMPM  TimeOfDay  \n",
       "0  2025-05-15 11:27:14 PM  Thursday    False  Spring  11:27 PM      Night  \n",
       "1  2025-05-15 06:29:08 PM  Thursday    False  Spring  06:29 PM    Evening  \n",
       "2  2025-05-15 05:25:46 PM  Thursday    False  Spring  05:25 PM    Evening  \n",
       "3  2025-05-15 04:48:50 PM  Thursday    False  Spring  04:48 PM  Afternoon  \n",
       "4  2025-05-15 03:43:06 PM  Thursday    False  Spring  03:43 PM  Afternoon  "
      ]
     },
     "execution_count": 7,
     "metadata": {},
     "output_type": "execute_result"
    }
   ],
   "source": [
    "def convert_and_categorize_datereported(df, col='DateReported'):\n",
    "    \"\"\"\n",
    "    Converts an epoch (in milliseconds) date column into a timezone-aware datetime,\n",
    "    converts it to Eastern Time, and then creates columns for day-of-week, weekend flag,\n",
    "    season, 12-hour formatted time, and time-of-day. Keeps both a real datetime column\n",
    "    (Date) and a string representation (DateString).\n",
    "    \"\"\"\n",
    "    import pandas as pd\n",
    "\n",
    "    # Convert the epoch timestamp to a pandas datetime object as UTC, then convert to US/Eastern.\n",
    "    df[\"DateReported_dt\"] = (\n",
    "        pd.to_datetime(df[col], unit=\"ms\", errors=\"coerce\", utc=True)\n",
    "        .dt.tz_convert(\"US/Eastern\")\n",
    "    )\n",
    "    \n",
    "    # Create a true datetime column (remove timezone if you prefer naive datetime)\n",
    "    df[\"Date\"] = df[\"DateReported_dt\"].dt.tz_localize(None)\n",
    "\n",
    "    # Optionally, create a separate string-formatted column\n",
    "    df[\"DateString\"] = df[\"DateReported_dt\"].dt.strftime(\"%Y-%m-%d %I:%M:%S %p\")\n",
    "    \n",
    "    # DayOfWeek\n",
    "    df[\"DayOfWeek\"] = df[\"DateReported_dt\"].dt.day_name()\n",
    "    \n",
    "    # Weekend\n",
    "    df[\"Weekend\"] = df[\"DayOfWeek\"].isin([\"Saturday\", \"Sunday\"])\n",
    "    \n",
    "    # Helper function to determine the season\n",
    "    def get_season(dt):\n",
    "        month = dt.month\n",
    "        day = dt.day\n",
    "        # Approximate Northern Hemisphere season boundaries:\n",
    "        if (month == 12 and day >= 21) or (month < 3) or (month == 3 and day < 20):\n",
    "            return \"Winter\"\n",
    "        elif (month == 3 and day >= 20) or (month < 6) or (month == 6 and day < 21):\n",
    "            return \"Spring\"\n",
    "        elif (month == 6 and day >= 21) or (month < 9) or (month == 9 and day < 22):\n",
    "            return \"Summer\"\n",
    "        else:\n",
    "            return \"Autumn\"\n",
    "    \n",
    "    df[\"Season\"] = df[\"DateReported_dt\"].apply(get_season)\n",
    "    \n",
    "    # 12-hour formatted time (HourAMPM)\n",
    "    df[\"HourAMPM\"] = df[\"DateReported_dt\"].dt.strftime(\"%I:%M %p\")\n",
    "    \n",
    "    # Extract hour (0-23) for time-of-day\n",
    "    df[\"HourValue\"] = df[\"DateReported_dt\"].dt.hour\n",
    "    \n",
    "    def time_of_day(hour):\n",
    "        if pd.isnull(hour):\n",
    "            return None\n",
    "        if 5 <= hour < 12:\n",
    "            return \"Morning\"\n",
    "        elif 12 <= hour < 17:\n",
    "            return \"Afternoon\"\n",
    "        elif 17 <= hour < 21:\n",
    "            return \"Evening\"\n",
    "        else:\n",
    "            return \"Night\"\n",
    "    \n",
    "    df[\"TimeOfDay\"] = df[\"HourValue\"].apply(time_of_day)\n",
    "    \n",
    "    # Drop columns you no longer need\n",
    "    df.drop(columns=[col, \"DateReported_dt\", \"HourValue\"], inplace=True)\n",
    "    \n",
    "    return df\n",
    "\n",
    "# Example usage:\n",
    "df = convert_and_categorize_datereported(df)\n",
    "df.head()\n"
   ]
  },
  {
   "cell_type": "code",
   "execution_count": 8,
   "id": "d21094ad",
   "metadata": {
    "execution": {
     "iopub.execute_input": "2025-05-18T01:08:10.326123Z",
     "iopub.status.busy": "2025-05-18T01:08:10.325859Z",
     "iopub.status.idle": "2025-05-18T01:08:10.356128Z",
     "shell.execute_reply": "2025-05-18T01:08:10.355529Z"
    },
    "papermill": {
     "duration": 0.038272,
     "end_time": "2025-05-18T01:08:10.357265",
     "exception": false,
     "start_time": "2025-05-18T01:08:10.318993",
     "status": "completed"
    },
    "tags": []
   },
   "outputs": [
    {
     "name": "stdout",
     "output_type": "stream",
     "text": [
      "<class 'pandas.core.frame.DataFrame'>\n",
      "RangeIndex: 25389 entries, 0 to 25388\n",
      "Data columns (total 15 columns):\n",
      " #   Column            Non-Null Count  Dtype         \n",
      "---  ------            --------------  -----         \n",
      " 0   RecordID          25389 non-null  int64         \n",
      " 1   Offense           25389 non-null  object        \n",
      " 2   IncidentID        25389 non-null  object        \n",
      " 3   BlockNumber       25389 non-null  object        \n",
      " 4   StreetName        25389 non-null  object        \n",
      " 5   Agency            25389 non-null  object        \n",
      " 6   HourReported      25389 non-null  object        \n",
      " 7   ReportingOfficer  25372 non-null  object        \n",
      " 8   Date              25389 non-null  datetime64[ns]\n",
      " 9   DateString        25389 non-null  object        \n",
      " 10  DayOfWeek         25389 non-null  object        \n",
      " 11  Weekend           25389 non-null  bool          \n",
      " 12  Season            25389 non-null  object        \n",
      " 13  HourAMPM          25389 non-null  object        \n",
      " 14  TimeOfDay         25389 non-null  object        \n",
      "dtypes: bool(1), datetime64[ns](1), int64(1), object(12)\n",
      "memory usage: 2.7+ MB\n"
     ]
    }
   ],
   "source": [
    "df.info()"
   ]
  },
  {
   "cell_type": "markdown",
   "id": "9e3fbb77",
   "metadata": {
    "papermill": {
     "duration": 0.005932,
     "end_time": "2025-05-18T01:08:10.369428",
     "exception": false,
     "start_time": "2025-05-18T01:08:10.363496",
     "status": "completed"
    },
    "tags": []
   },
   "source": [
    "### Coordinates"
   ]
  },
  {
   "cell_type": "code",
   "execution_count": 9,
   "id": "f5e5a383",
   "metadata": {
    "execution": {
     "iopub.execute_input": "2025-05-18T01:08:10.382607Z",
     "iopub.status.busy": "2025-05-18T01:08:10.382336Z",
     "iopub.status.idle": "2025-05-18T01:08:10.701436Z",
     "shell.execute_reply": "2025-05-18T01:08:10.700764Z"
    },
    "papermill": {
     "duration": 0.327177,
     "end_time": "2025-05-18T01:08:10.702507",
     "exception": false,
     "start_time": "2025-05-18T01:08:10.375330",
     "status": "completed"
    },
    "tags": []
   },
   "outputs": [
    {
     "name": "stdout",
     "output_type": "stream",
     "text": [
      "Loaded geocode cache.\n"
     ]
    },
    {
     "name": "stdout",
     "output_type": "stream",
     "text": [
      "Geocoded 900 HENRY AVE, A: 38.0389446, -78.4867582\n"
     ]
    },
    {
     "name": "stdout",
     "output_type": "stream",
     "text": [
      "Geocoded 400 BYPASS 250: 38.0301826, -78.4769353\n",
      "Geocode cache updated and saved.\n"
     ]
    },
    {
     "data": {
      "text/html": [
       "<div>\n",
       "<style scoped>\n",
       "    .dataframe tbody tr th:only-of-type {\n",
       "        vertical-align: middle;\n",
       "    }\n",
       "\n",
       "    .dataframe tbody tr th {\n",
       "        vertical-align: top;\n",
       "    }\n",
       "\n",
       "    .dataframe thead th {\n",
       "        text-align: right;\n",
       "    }\n",
       "</style>\n",
       "<table border=\"1\" class=\"dataframe\">\n",
       "  <thead>\n",
       "    <tr style=\"text-align: right;\">\n",
       "      <th></th>\n",
       "      <th>RecordID</th>\n",
       "      <th>Offense</th>\n",
       "      <th>IncidentID</th>\n",
       "      <th>BlockNumber</th>\n",
       "      <th>StreetName</th>\n",
       "      <th>Agency</th>\n",
       "      <th>HourReported</th>\n",
       "      <th>ReportingOfficer</th>\n",
       "      <th>Date</th>\n",
       "      <th>DateString</th>\n",
       "      <th>DayOfWeek</th>\n",
       "      <th>Weekend</th>\n",
       "      <th>Season</th>\n",
       "      <th>HourAMPM</th>\n",
       "      <th>TimeOfDay</th>\n",
       "      <th>FullStreet</th>\n",
       "      <th>lat</th>\n",
       "      <th>lon</th>\n",
       "    </tr>\n",
       "  </thead>\n",
       "  <tbody>\n",
       "    <tr>\n",
       "      <th>0</th>\n",
       "      <td>1</td>\n",
       "      <td>Lost/FoundProperty</td>\n",
       "      <td>202500016506</td>\n",
       "      <td>800</td>\n",
       "      <td>W MAIN ST</td>\n",
       "      <td>CPD</td>\n",
       "      <td>2327</td>\n",
       "      <td>McLeod, Dustin</td>\n",
       "      <td>2025-05-15 23:27:14</td>\n",
       "      <td>2025-05-15 11:27:14 PM</td>\n",
       "      <td>Thursday</td>\n",
       "      <td>False</td>\n",
       "      <td>Spring</td>\n",
       "      <td>11:27 PM</td>\n",
       "      <td>Night</td>\n",
       "      <td>800 W MAIN ST</td>\n",
       "      <td>38.031480</td>\n",
       "      <td>-78.490333</td>\n",
       "    </tr>\n",
       "    <tr>\n",
       "      <th>1</th>\n",
       "      <td>2</td>\n",
       "      <td>Assault Simple</td>\n",
       "      <td>202500016468</td>\n",
       "      <td>900</td>\n",
       "      <td>HENRY AVE, A</td>\n",
       "      <td>CPD</td>\n",
       "      <td>1829</td>\n",
       "      <td>Abdelgayed, Adam</td>\n",
       "      <td>2025-05-15 18:29:08</td>\n",
       "      <td>2025-05-15 06:29:08 PM</td>\n",
       "      <td>Thursday</td>\n",
       "      <td>False</td>\n",
       "      <td>Spring</td>\n",
       "      <td>06:29 PM</td>\n",
       "      <td>Evening</td>\n",
       "      <td>900 HENRY AVE, A</td>\n",
       "      <td>38.038945</td>\n",
       "      <td>-78.486758</td>\n",
       "    </tr>\n",
       "    <tr>\n",
       "      <th>2</th>\n",
       "      <td>3</td>\n",
       "      <td>Suspicious Activity</td>\n",
       "      <td>202500016461</td>\n",
       "      <td>900</td>\n",
       "      <td>HARRIS ST</td>\n",
       "      <td>CPD</td>\n",
       "      <td>1725</td>\n",
       "      <td>Oakes, Maithe</td>\n",
       "      <td>2025-05-15 17:25:46</td>\n",
       "      <td>2025-05-15 05:25:46 PM</td>\n",
       "      <td>Thursday</td>\n",
       "      <td>False</td>\n",
       "      <td>Spring</td>\n",
       "      <td>05:25 PM</td>\n",
       "      <td>Evening</td>\n",
       "      <td>900 HARRIS ST</td>\n",
       "      <td>38.037621</td>\n",
       "      <td>-78.482520</td>\n",
       "    </tr>\n",
       "    <tr>\n",
       "      <th>3</th>\n",
       "      <td>4</td>\n",
       "      <td>Larceny - Shoplifitng</td>\n",
       "      <td>202500016455</td>\n",
       "      <td>200</td>\n",
       "      <td>E MAIN ST</td>\n",
       "      <td>CPD</td>\n",
       "      <td>1648</td>\n",
       "      <td>Rigsby, Lloyd</td>\n",
       "      <td>2025-05-15 16:48:50</td>\n",
       "      <td>2025-05-15 04:48:50 PM</td>\n",
       "      <td>Thursday</td>\n",
       "      <td>False</td>\n",
       "      <td>Spring</td>\n",
       "      <td>04:48 PM</td>\n",
       "      <td>Afternoon</td>\n",
       "      <td>200 E MAIN ST</td>\n",
       "      <td>38.030572</td>\n",
       "      <td>-78.480764</td>\n",
       "    </tr>\n",
       "    <tr>\n",
       "      <th>4</th>\n",
       "      <td>5</td>\n",
       "      <td>Drug Investigation</td>\n",
       "      <td>202500016442</td>\n",
       "      <td>500</td>\n",
       "      <td>PARK ST</td>\n",
       "      <td>CPD</td>\n",
       "      <td>1543</td>\n",
       "      <td>Bentz, Benjamin</td>\n",
       "      <td>2025-05-15 15:43:06</td>\n",
       "      <td>2025-05-15 03:43:06 PM</td>\n",
       "      <td>Thursday</td>\n",
       "      <td>False</td>\n",
       "      <td>Spring</td>\n",
       "      <td>03:43 PM</td>\n",
       "      <td>Afternoon</td>\n",
       "      <td>500 PARK ST</td>\n",
       "      <td>38.033037</td>\n",
       "      <td>-78.475772</td>\n",
       "    </tr>\n",
       "  </tbody>\n",
       "</table>\n",
       "</div>"
      ],
      "text/plain": [
       "   RecordID                Offense    IncidentID BlockNumber    StreetName  \\\n",
       "0         1     Lost/FoundProperty  202500016506         800     W MAIN ST   \n",
       "1         2         Assault Simple  202500016468         900  HENRY AVE, A   \n",
       "2         3    Suspicious Activity  202500016461         900     HARRIS ST   \n",
       "3         4  Larceny - Shoplifitng  202500016455         200     E MAIN ST   \n",
       "4         5     Drug Investigation  202500016442         500       PARK ST   \n",
       "\n",
       "  Agency HourReported  ReportingOfficer                Date  \\\n",
       "0    CPD         2327    McLeod, Dustin 2025-05-15 23:27:14   \n",
       "1    CPD         1829  Abdelgayed, Adam 2025-05-15 18:29:08   \n",
       "2    CPD         1725     Oakes, Maithe 2025-05-15 17:25:46   \n",
       "3    CPD         1648     Rigsby, Lloyd 2025-05-15 16:48:50   \n",
       "4    CPD         1543  Bentz, Benjamin  2025-05-15 15:43:06   \n",
       "\n",
       "               DateString DayOfWeek  Weekend  Season  HourAMPM  TimeOfDay  \\\n",
       "0  2025-05-15 11:27:14 PM  Thursday    False  Spring  11:27 PM      Night   \n",
       "1  2025-05-15 06:29:08 PM  Thursday    False  Spring  06:29 PM    Evening   \n",
       "2  2025-05-15 05:25:46 PM  Thursday    False  Spring  05:25 PM    Evening   \n",
       "3  2025-05-15 04:48:50 PM  Thursday    False  Spring  04:48 PM  Afternoon   \n",
       "4  2025-05-15 03:43:06 PM  Thursday    False  Spring  03:43 PM  Afternoon   \n",
       "\n",
       "         FullStreet        lat        lon  \n",
       "0     800 W MAIN ST  38.031480 -78.490333  \n",
       "1  900 HENRY AVE, A  38.038945 -78.486758  \n",
       "2     900 HARRIS ST  38.037621 -78.482520  \n",
       "3     200 E MAIN ST  38.030572 -78.480764  \n",
       "4       500 PARK ST  38.033037 -78.475772  "
      ]
     },
     "execution_count": 9,
     "metadata": {},
     "output_type": "execute_result"
    }
   ],
   "source": [
    "# Combine BlockNumber and StreetName into a full address string\n",
    "df['FullStreet'] = df['BlockNumber'].astype(str) + \" \" + df['StreetName']\n",
    "\n",
    "# --- Step 1: Setup the Google Maps Client and Cache ---\n",
    "gmaps = googlemaps.Client(key=GOOGLE_API_KEY)\n",
    "\n",
    "# Try to load cached geocoding results if available.\n",
    "try:\n",
    "    with open(\"geocode_cache_google.pkl\", \"rb\") as f:\n",
    "        street_coords = pickle.load(f)\n",
    "    print(\"Loaded geocode cache.\")\n",
    "except FileNotFoundError:\n",
    "    street_coords = {}\n",
    "    print(\"No cache found; starting fresh.\")\n",
    "\n",
    "def geocode_address(address):\n",
    "    try:\n",
    "        # Append city and state to help geocoding\n",
    "        result = gmaps.geocode(f\"{address}, Charlottesville, VA\")\n",
    "        if result:\n",
    "            lat = result[0]['geometry']['location']['lat']\n",
    "            lon = result[0]['geometry']['location']['lng']\n",
    "            return lat, lon\n",
    "    except Exception as e:\n",
    "        print(f\"Error geocoding {address}: {e}\")\n",
    "    return None, None\n",
    "\n",
    "# --- Step 2: Geocode Only New Addresses ---\n",
    "unique_addresses = df['FullStreet'].unique()\n",
    "for address in unique_addresses:\n",
    "    if address not in street_coords:\n",
    "        lat, lon = geocode_address(address)\n",
    "        street_coords[address] = (lat, lon)\n",
    "        print(f\"Geocoded {address}: {lat}, {lon}\")\n",
    "\n",
    "# Save the updated cache to disk.\n",
    "with open(\"geocode_cache_google.pkl\", \"wb\") as f:\n",
    "    pickle.dump(street_coords, f)\n",
    "    print(\"Geocode cache updated and saved.\")\n",
    "\n",
    "# --- Step 3: Map Coordinates Back to DataFrame ---\n",
    "df['lat'] = df['FullStreet'].map(lambda s: street_coords.get(s, (None, None))[0])\n",
    "df['lon'] = df['FullStreet'].map(lambda s: street_coords.get(s, (None, None))[1])\n",
    "\n",
    "df.head()"
   ]
  },
  {
   "cell_type": "markdown",
   "id": "eda6c84b",
   "metadata": {
    "papermill": {
     "duration": 0.006404,
     "end_time": "2025-05-18T01:08:10.715648",
     "exception": false,
     "start_time": "2025-05-18T01:08:10.709244",
     "status": "completed"
    },
    "tags": []
   },
   "source": [
    "### Neighborhood"
   ]
  },
  {
   "cell_type": "code",
   "execution_count": 10,
   "id": "de662523",
   "metadata": {
    "execution": {
     "iopub.execute_input": "2025-05-18T01:08:10.729764Z",
     "iopub.status.busy": "2025-05-18T01:08:10.729266Z",
     "iopub.status.idle": "2025-05-18T01:08:11.157924Z",
     "shell.execute_reply": "2025-05-18T01:08:11.157224Z"
    },
    "papermill": {
     "duration": 0.437059,
     "end_time": "2025-05-18T01:08:11.159003",
     "exception": false,
     "start_time": "2025-05-18T01:08:10.721944",
     "status": "completed"
    },
    "tags": []
   },
   "outputs": [
    {
     "name": "stdout",
     "output_type": "stream",
     "text": [
      "Loaded neighborhood cache.\n"
     ]
    },
    {
     "data": {
      "text/html": [
       "<div>\n",
       "<style scoped>\n",
       "    .dataframe tbody tr th:only-of-type {\n",
       "        vertical-align: middle;\n",
       "    }\n",
       "\n",
       "    .dataframe tbody tr th {\n",
       "        vertical-align: top;\n",
       "    }\n",
       "\n",
       "    .dataframe thead th {\n",
       "        text-align: right;\n",
       "    }\n",
       "</style>\n",
       "<table border=\"1\" class=\"dataframe\">\n",
       "  <thead>\n",
       "    <tr style=\"text-align: right;\">\n",
       "      <th></th>\n",
       "      <th>RecordID</th>\n",
       "      <th>Offense</th>\n",
       "      <th>IncidentID</th>\n",
       "      <th>BlockNumber</th>\n",
       "      <th>StreetName</th>\n",
       "      <th>Agency</th>\n",
       "      <th>HourReported</th>\n",
       "      <th>ReportingOfficer</th>\n",
       "      <th>Date</th>\n",
       "      <th>DateString</th>\n",
       "      <th>DayOfWeek</th>\n",
       "      <th>Weekend</th>\n",
       "      <th>Season</th>\n",
       "      <th>HourAMPM</th>\n",
       "      <th>TimeOfDay</th>\n",
       "      <th>FullStreet</th>\n",
       "      <th>lat</th>\n",
       "      <th>lon</th>\n",
       "      <th>neighborhood</th>\n",
       "    </tr>\n",
       "  </thead>\n",
       "  <tbody>\n",
       "    <tr>\n",
       "      <th>0</th>\n",
       "      <td>1</td>\n",
       "      <td>Lost/FoundProperty</td>\n",
       "      <td>202500016506</td>\n",
       "      <td>800</td>\n",
       "      <td>W MAIN ST</td>\n",
       "      <td>CPD</td>\n",
       "      <td>2327</td>\n",
       "      <td>McLeod, Dustin</td>\n",
       "      <td>2025-05-15 23:27:14</td>\n",
       "      <td>2025-05-15 11:27:14 PM</td>\n",
       "      <td>Thursday</td>\n",
       "      <td>False</td>\n",
       "      <td>Spring</td>\n",
       "      <td>11:27 PM</td>\n",
       "      <td>Night</td>\n",
       "      <td>800 W MAIN ST</td>\n",
       "      <td>38.031480</td>\n",
       "      <td>-78.490333</td>\n",
       "      <td>Starr Hill</td>\n",
       "    </tr>\n",
       "    <tr>\n",
       "      <th>1</th>\n",
       "      <td>2</td>\n",
       "      <td>Assault Simple</td>\n",
       "      <td>202500016468</td>\n",
       "      <td>900</td>\n",
       "      <td>HENRY AVE, A</td>\n",
       "      <td>CPD</td>\n",
       "      <td>1829</td>\n",
       "      <td>Abdelgayed, Adam</td>\n",
       "      <td>2025-05-15 18:29:08</td>\n",
       "      <td>2025-05-15 06:29:08 PM</td>\n",
       "      <td>Thursday</td>\n",
       "      <td>False</td>\n",
       "      <td>Spring</td>\n",
       "      <td>06:29 PM</td>\n",
       "      <td>Evening</td>\n",
       "      <td>900 HENRY AVE, A</td>\n",
       "      <td>38.038945</td>\n",
       "      <td>-78.486758</td>\n",
       "      <td>Rose Hill</td>\n",
       "    </tr>\n",
       "    <tr>\n",
       "      <th>2</th>\n",
       "      <td>3</td>\n",
       "      <td>Suspicious Activity</td>\n",
       "      <td>202500016461</td>\n",
       "      <td>900</td>\n",
       "      <td>HARRIS ST</td>\n",
       "      <td>CPD</td>\n",
       "      <td>1725</td>\n",
       "      <td>Oakes, Maithe</td>\n",
       "      <td>2025-05-15 17:25:46</td>\n",
       "      <td>2025-05-15 05:25:46 PM</td>\n",
       "      <td>Thursday</td>\n",
       "      <td>False</td>\n",
       "      <td>Spring</td>\n",
       "      <td>05:25 PM</td>\n",
       "      <td>Evening</td>\n",
       "      <td>900 HARRIS ST</td>\n",
       "      <td>38.037621</td>\n",
       "      <td>-78.482520</td>\n",
       "      <td>Rose Hill</td>\n",
       "    </tr>\n",
       "    <tr>\n",
       "      <th>3</th>\n",
       "      <td>4</td>\n",
       "      <td>Larceny - Shoplifitng</td>\n",
       "      <td>202500016455</td>\n",
       "      <td>200</td>\n",
       "      <td>E MAIN ST</td>\n",
       "      <td>CPD</td>\n",
       "      <td>1648</td>\n",
       "      <td>Rigsby, Lloyd</td>\n",
       "      <td>2025-05-15 16:48:50</td>\n",
       "      <td>2025-05-15 04:48:50 PM</td>\n",
       "      <td>Thursday</td>\n",
       "      <td>False</td>\n",
       "      <td>Spring</td>\n",
       "      <td>04:48 PM</td>\n",
       "      <td>Afternoon</td>\n",
       "      <td>200 E MAIN ST</td>\n",
       "      <td>38.030572</td>\n",
       "      <td>-78.480764</td>\n",
       "      <td>Downtown Mall</td>\n",
       "    </tr>\n",
       "    <tr>\n",
       "      <th>4</th>\n",
       "      <td>5</td>\n",
       "      <td>Drug Investigation</td>\n",
       "      <td>202500016442</td>\n",
       "      <td>500</td>\n",
       "      <td>PARK ST</td>\n",
       "      <td>CPD</td>\n",
       "      <td>1543</td>\n",
       "      <td>Bentz, Benjamin</td>\n",
       "      <td>2025-05-15 15:43:06</td>\n",
       "      <td>2025-05-15 03:43:06 PM</td>\n",
       "      <td>Thursday</td>\n",
       "      <td>False</td>\n",
       "      <td>Spring</td>\n",
       "      <td>03:43 PM</td>\n",
       "      <td>Afternoon</td>\n",
       "      <td>500 PARK ST</td>\n",
       "      <td>38.033037</td>\n",
       "      <td>-78.475772</td>\n",
       "      <td>North Downtown</td>\n",
       "    </tr>\n",
       "  </tbody>\n",
       "</table>\n",
       "</div>"
      ],
      "text/plain": [
       "   RecordID                Offense    IncidentID BlockNumber    StreetName  \\\n",
       "0         1     Lost/FoundProperty  202500016506         800     W MAIN ST   \n",
       "1         2         Assault Simple  202500016468         900  HENRY AVE, A   \n",
       "2         3    Suspicious Activity  202500016461         900     HARRIS ST   \n",
       "3         4  Larceny - Shoplifitng  202500016455         200     E MAIN ST   \n",
       "4         5     Drug Investigation  202500016442         500       PARK ST   \n",
       "\n",
       "  Agency HourReported  ReportingOfficer                Date  \\\n",
       "0    CPD         2327    McLeod, Dustin 2025-05-15 23:27:14   \n",
       "1    CPD         1829  Abdelgayed, Adam 2025-05-15 18:29:08   \n",
       "2    CPD         1725     Oakes, Maithe 2025-05-15 17:25:46   \n",
       "3    CPD         1648     Rigsby, Lloyd 2025-05-15 16:48:50   \n",
       "4    CPD         1543  Bentz, Benjamin  2025-05-15 15:43:06   \n",
       "\n",
       "               DateString DayOfWeek  Weekend  Season  HourAMPM  TimeOfDay  \\\n",
       "0  2025-05-15 11:27:14 PM  Thursday    False  Spring  11:27 PM      Night   \n",
       "1  2025-05-15 06:29:08 PM  Thursday    False  Spring  06:29 PM    Evening   \n",
       "2  2025-05-15 05:25:46 PM  Thursday    False  Spring  05:25 PM    Evening   \n",
       "3  2025-05-15 04:48:50 PM  Thursday    False  Spring  04:48 PM  Afternoon   \n",
       "4  2025-05-15 03:43:06 PM  Thursday    False  Spring  03:43 PM  Afternoon   \n",
       "\n",
       "         FullStreet        lat        lon    neighborhood  \n",
       "0     800 W MAIN ST  38.031480 -78.490333      Starr Hill  \n",
       "1  900 HENRY AVE, A  38.038945 -78.486758       Rose Hill  \n",
       "2     900 HARRIS ST  38.037621 -78.482520       Rose Hill  \n",
       "3     200 E MAIN ST  38.030572 -78.480764   Downtown Mall  \n",
       "4       500 PARK ST  38.033037 -78.475772  North Downtown  "
      ]
     },
     "execution_count": 10,
     "metadata": {},
     "output_type": "execute_result"
    }
   ],
   "source": [
    "# Initialize the Google Maps client.\n",
    "gmaps = googlemaps.Client(key=GOOGLE_API_KEY)\n",
    "\n",
    "# Try to load a persistent neighborhood cache if available.\n",
    "try:\n",
    "    with open(\"neighborhood_cache.pkl\", \"rb\") as f:\n",
    "        neighborhood_cache = pickle.load(f)\n",
    "    print(\"Loaded neighborhood cache.\")\n",
    "except FileNotFoundError:\n",
    "    neighborhood_cache = {}\n",
    "    print(\"No neighborhood cache found; starting fresh.\")\n",
    "\n",
    "def get_neighborhood(lat, lon):\n",
    "    \"\"\"\n",
    "    Reverse geocodes a latitude and longitude to retrieve the neighborhood.\n",
    "    Caches results to speed up subsequent lookups.\n",
    "    \"\"\"\n",
    "    key = (lat, lon)\n",
    "    if key in neighborhood_cache:\n",
    "        return neighborhood_cache[key]\n",
    "    \n",
    "    try:\n",
    "        result = gmaps.reverse_geocode((lat, lon))\n",
    "        if result:\n",
    "            # Look for the 'neighborhood' component in the first result.\n",
    "            for component in result[0]['address_components']:\n",
    "                if 'neighborhood' in component['types']:\n",
    "                    neighborhood = component['long_name']\n",
    "                    neighborhood_cache[key] = neighborhood\n",
    "                    return neighborhood\n",
    "            # If no neighborhood is found, return \"N/A\"\n",
    "            neighborhood_cache[key] = \"N/A\"\n",
    "            return \"N/A\"\n",
    "    except Exception as e:\n",
    "        print(f\"Error getting neighborhood for {lat}, {lon}: {e}\")\n",
    "        return \"N/A\"\n",
    "    \n",
    "    # Pause to respect usage limits.\n",
    "    time.sleep(1)\n",
    "\n",
    "# Example usage: Apply to your DataFrame 'df' that already has 'lat' and 'lon' columns.\n",
    "df['neighborhood'] = df.apply(lambda row: get_neighborhood(row['lat'], row['lon']), axis=1)\n",
    "\n",
    "# Save the updated neighborhood cache.\n",
    "with open(\"neighborhood_cache.pkl\", \"wb\") as f:\n",
    "    pickle.dump(neighborhood_cache, f)\n",
    "\n",
    "df.head()\n"
   ]
  },
  {
   "cell_type": "markdown",
   "id": "6ddf61a6",
   "metadata": {
    "papermill": {
     "duration": 0.006652,
     "end_time": "2025-05-18T01:08:11.172537",
     "exception": false,
     "start_time": "2025-05-18T01:08:11.165885",
     "status": "completed"
    },
    "tags": []
   },
   "source": [
    "### Zip"
   ]
  },
  {
   "cell_type": "code",
   "execution_count": 11,
   "id": "0fc5e83d",
   "metadata": {
    "execution": {
     "iopub.execute_input": "2025-05-18T01:08:11.187158Z",
     "iopub.status.busy": "2025-05-18T01:08:11.186665Z",
     "iopub.status.idle": "2025-05-18T01:08:11.458652Z",
     "shell.execute_reply": "2025-05-18T01:08:11.457510Z"
    },
    "papermill": {
     "duration": 0.280955,
     "end_time": "2025-05-18T01:08:11.459954",
     "exception": false,
     "start_time": "2025-05-18T01:08:11.178999",
     "status": "completed"
    },
    "tags": []
   },
   "outputs": [
    {
     "name": "stdout",
     "output_type": "stream",
     "text": [
      "Loaded zip cache.\n"
     ]
    },
    {
     "data": {
      "text/html": [
       "<div>\n",
       "<style scoped>\n",
       "    .dataframe tbody tr th:only-of-type {\n",
       "        vertical-align: middle;\n",
       "    }\n",
       "\n",
       "    .dataframe tbody tr th {\n",
       "        vertical-align: top;\n",
       "    }\n",
       "\n",
       "    .dataframe thead th {\n",
       "        text-align: right;\n",
       "    }\n",
       "</style>\n",
       "<table border=\"1\" class=\"dataframe\">\n",
       "  <thead>\n",
       "    <tr style=\"text-align: right;\">\n",
       "      <th></th>\n",
       "      <th>RecordID</th>\n",
       "      <th>Offense</th>\n",
       "      <th>IncidentID</th>\n",
       "      <th>BlockNumber</th>\n",
       "      <th>StreetName</th>\n",
       "      <th>Agency</th>\n",
       "      <th>HourReported</th>\n",
       "      <th>ReportingOfficer</th>\n",
       "      <th>Date</th>\n",
       "      <th>DateString</th>\n",
       "      <th>DayOfWeek</th>\n",
       "      <th>Weekend</th>\n",
       "      <th>Season</th>\n",
       "      <th>HourAMPM</th>\n",
       "      <th>TimeOfDay</th>\n",
       "      <th>FullStreet</th>\n",
       "      <th>lat</th>\n",
       "      <th>lon</th>\n",
       "      <th>neighborhood</th>\n",
       "      <th>zip</th>\n",
       "    </tr>\n",
       "  </thead>\n",
       "  <tbody>\n",
       "    <tr>\n",
       "      <th>0</th>\n",
       "      <td>1</td>\n",
       "      <td>Lost/FoundProperty</td>\n",
       "      <td>202500016506</td>\n",
       "      <td>800</td>\n",
       "      <td>W MAIN ST</td>\n",
       "      <td>CPD</td>\n",
       "      <td>2327</td>\n",
       "      <td>McLeod, Dustin</td>\n",
       "      <td>2025-05-15 23:27:14</td>\n",
       "      <td>2025-05-15 11:27:14 PM</td>\n",
       "      <td>Thursday</td>\n",
       "      <td>False</td>\n",
       "      <td>Spring</td>\n",
       "      <td>11:27 PM</td>\n",
       "      <td>Night</td>\n",
       "      <td>800 W MAIN ST</td>\n",
       "      <td>38.031480</td>\n",
       "      <td>-78.490333</td>\n",
       "      <td>Starr Hill</td>\n",
       "      <td>22903</td>\n",
       "    </tr>\n",
       "    <tr>\n",
       "      <th>1</th>\n",
       "      <td>2</td>\n",
       "      <td>Assault Simple</td>\n",
       "      <td>202500016468</td>\n",
       "      <td>900</td>\n",
       "      <td>HENRY AVE, A</td>\n",
       "      <td>CPD</td>\n",
       "      <td>1829</td>\n",
       "      <td>Abdelgayed, Adam</td>\n",
       "      <td>2025-05-15 18:29:08</td>\n",
       "      <td>2025-05-15 06:29:08 PM</td>\n",
       "      <td>Thursday</td>\n",
       "      <td>False</td>\n",
       "      <td>Spring</td>\n",
       "      <td>06:29 PM</td>\n",
       "      <td>Evening</td>\n",
       "      <td>900 HENRY AVE, A</td>\n",
       "      <td>38.038945</td>\n",
       "      <td>-78.486758</td>\n",
       "      <td>Rose Hill</td>\n",
       "      <td>22903</td>\n",
       "    </tr>\n",
       "    <tr>\n",
       "      <th>2</th>\n",
       "      <td>3</td>\n",
       "      <td>Suspicious Activity</td>\n",
       "      <td>202500016461</td>\n",
       "      <td>900</td>\n",
       "      <td>HARRIS ST</td>\n",
       "      <td>CPD</td>\n",
       "      <td>1725</td>\n",
       "      <td>Oakes, Maithe</td>\n",
       "      <td>2025-05-15 17:25:46</td>\n",
       "      <td>2025-05-15 05:25:46 PM</td>\n",
       "      <td>Thursday</td>\n",
       "      <td>False</td>\n",
       "      <td>Spring</td>\n",
       "      <td>05:25 PM</td>\n",
       "      <td>Evening</td>\n",
       "      <td>900 HARRIS ST</td>\n",
       "      <td>38.037621</td>\n",
       "      <td>-78.482520</td>\n",
       "      <td>Rose Hill</td>\n",
       "      <td>22903</td>\n",
       "    </tr>\n",
       "    <tr>\n",
       "      <th>3</th>\n",
       "      <td>4</td>\n",
       "      <td>Larceny - Shoplifitng</td>\n",
       "      <td>202500016455</td>\n",
       "      <td>200</td>\n",
       "      <td>E MAIN ST</td>\n",
       "      <td>CPD</td>\n",
       "      <td>1648</td>\n",
       "      <td>Rigsby, Lloyd</td>\n",
       "      <td>2025-05-15 16:48:50</td>\n",
       "      <td>2025-05-15 04:48:50 PM</td>\n",
       "      <td>Thursday</td>\n",
       "      <td>False</td>\n",
       "      <td>Spring</td>\n",
       "      <td>04:48 PM</td>\n",
       "      <td>Afternoon</td>\n",
       "      <td>200 E MAIN ST</td>\n",
       "      <td>38.030572</td>\n",
       "      <td>-78.480764</td>\n",
       "      <td>Downtown Mall</td>\n",
       "      <td>22902</td>\n",
       "    </tr>\n",
       "    <tr>\n",
       "      <th>4</th>\n",
       "      <td>5</td>\n",
       "      <td>Drug Investigation</td>\n",
       "      <td>202500016442</td>\n",
       "      <td>500</td>\n",
       "      <td>PARK ST</td>\n",
       "      <td>CPD</td>\n",
       "      <td>1543</td>\n",
       "      <td>Bentz, Benjamin</td>\n",
       "      <td>2025-05-15 15:43:06</td>\n",
       "      <td>2025-05-15 03:43:06 PM</td>\n",
       "      <td>Thursday</td>\n",
       "      <td>False</td>\n",
       "      <td>Spring</td>\n",
       "      <td>03:43 PM</td>\n",
       "      <td>Afternoon</td>\n",
       "      <td>500 PARK ST</td>\n",
       "      <td>38.033037</td>\n",
       "      <td>-78.475772</td>\n",
       "      <td>North Downtown</td>\n",
       "      <td>22902</td>\n",
       "    </tr>\n",
       "  </tbody>\n",
       "</table>\n",
       "</div>"
      ],
      "text/plain": [
       "   RecordID                Offense    IncidentID BlockNumber    StreetName  \\\n",
       "0         1     Lost/FoundProperty  202500016506         800     W MAIN ST   \n",
       "1         2         Assault Simple  202500016468         900  HENRY AVE, A   \n",
       "2         3    Suspicious Activity  202500016461         900     HARRIS ST   \n",
       "3         4  Larceny - Shoplifitng  202500016455         200     E MAIN ST   \n",
       "4         5     Drug Investigation  202500016442         500       PARK ST   \n",
       "\n",
       "  Agency HourReported  ReportingOfficer                Date  \\\n",
       "0    CPD         2327    McLeod, Dustin 2025-05-15 23:27:14   \n",
       "1    CPD         1829  Abdelgayed, Adam 2025-05-15 18:29:08   \n",
       "2    CPD         1725     Oakes, Maithe 2025-05-15 17:25:46   \n",
       "3    CPD         1648     Rigsby, Lloyd 2025-05-15 16:48:50   \n",
       "4    CPD         1543  Bentz, Benjamin  2025-05-15 15:43:06   \n",
       "\n",
       "               DateString DayOfWeek  Weekend  Season  HourAMPM  TimeOfDay  \\\n",
       "0  2025-05-15 11:27:14 PM  Thursday    False  Spring  11:27 PM      Night   \n",
       "1  2025-05-15 06:29:08 PM  Thursday    False  Spring  06:29 PM    Evening   \n",
       "2  2025-05-15 05:25:46 PM  Thursday    False  Spring  05:25 PM    Evening   \n",
       "3  2025-05-15 04:48:50 PM  Thursday    False  Spring  04:48 PM  Afternoon   \n",
       "4  2025-05-15 03:43:06 PM  Thursday    False  Spring  03:43 PM  Afternoon   \n",
       "\n",
       "         FullStreet        lat        lon    neighborhood    zip  \n",
       "0     800 W MAIN ST  38.031480 -78.490333      Starr Hill  22903  \n",
       "1  900 HENRY AVE, A  38.038945 -78.486758       Rose Hill  22903  \n",
       "2     900 HARRIS ST  38.037621 -78.482520       Rose Hill  22903  \n",
       "3     200 E MAIN ST  38.030572 -78.480764   Downtown Mall  22902  \n",
       "4       500 PARK ST  38.033037 -78.475772  North Downtown  22902  "
      ]
     },
     "execution_count": 11,
     "metadata": {},
     "output_type": "execute_result"
    }
   ],
   "source": [
    "# Initialize the geocoder.\n",
    "geolocator = Nominatim(user_agent=\"zip_lookup\")\n",
    "\n",
    "# Try to load a persistent ZIP cache if available.\n",
    "try:\n",
    "    with open(\"zip_cache.pkl\", \"rb\") as f:\n",
    "        zip_cache = pickle.load(f)\n",
    "    print(\"Loaded zip cache.\")\n",
    "except FileNotFoundError:\n",
    "    zip_cache = {}\n",
    "    print(\"No zip cache found; starting fresh.\")\n",
    "\n",
    "def get_zip(lat, lon):\n",
    "    \"\"\"\n",
    "    Reverse geocodes a latitude and longitude to retrieve the ZIP code.\n",
    "    Caches results to speed up subsequent lookups.\n",
    "    \"\"\"\n",
    "    key = (lat, lon)\n",
    "    if key in zip_cache:\n",
    "        return zip_cache[key]\n",
    "    \n",
    "    try:\n",
    "        location = geolocator.reverse((lat, lon), exactly_one=True, timeout=10)\n",
    "        address = location.raw.get('address', {})\n",
    "        postal_code = address.get('postcode', \"N/A\")\n",
    "    except Exception as e:\n",
    "        print(f\"Error getting ZIP for {lat}, {lon}: {e}\")\n",
    "        postal_code = \"N/A\"\n",
    "    \n",
    "    zip_cache[key] = postal_code\n",
    "    # Pause to respect the usage policy.\n",
    "    time.sleep(1)\n",
    "    return postal_code\n",
    "\n",
    "# Apply the function to each row in the DataFrame.\n",
    "df['zip'] = df.apply(lambda row: get_zip(row['lat'], row['lon']), axis=1)\n",
    "\n",
    "# Save the updated ZIP cache.\n",
    "with open(\"zip_cache.pkl\", \"wb\") as f:\n",
    "    pickle.dump(zip_cache, f)\n",
    "\n",
    "df.head()\n"
   ]
  },
  {
   "cell_type": "code",
   "execution_count": 12,
   "id": "dc836d95",
   "metadata": {
    "execution": {
     "iopub.execute_input": "2025-05-18T01:08:11.476684Z",
     "iopub.status.busy": "2025-05-18T01:08:11.475821Z",
     "iopub.status.idle": "2025-05-18T01:08:11.513825Z",
     "shell.execute_reply": "2025-05-18T01:08:11.513236Z"
    },
    "papermill": {
     "duration": 0.047406,
     "end_time": "2025-05-18T01:08:11.514878",
     "exception": false,
     "start_time": "2025-05-18T01:08:11.467472",
     "status": "completed"
    },
    "tags": []
   },
   "outputs": [
    {
     "name": "stdout",
     "output_type": "stream",
     "text": [
      "                  MissingCount  MissingPercentage\n",
      "RecordID                     0               0.00\n",
      "Offense                      0               0.00\n",
      "IncidentID                   0               0.00\n",
      "BlockNumber                  0               0.00\n",
      "StreetName                   0               0.00\n",
      "Agency                       0               0.00\n",
      "HourReported                 0               0.00\n",
      "ReportingOfficer            17               0.07\n",
      "Date                         0               0.00\n",
      "DateString                   0               0.00\n",
      "DayOfWeek                    0               0.00\n",
      "Weekend                      0               0.00\n",
      "Season                       0               0.00\n",
      "HourAMPM                     0               0.00\n",
      "TimeOfDay                    0               0.00\n",
      "FullStreet                   0               0.00\n",
      "lat                          0               0.00\n",
      "lon                          0               0.00\n",
      "neighborhood                 0               0.00\n",
      "zip                          0               0.00\n"
     ]
    }
   ],
   "source": [
    "missing_info = missing_percentage(df)\n",
    "print(missing_info)\n"
   ]
  },
  {
   "cell_type": "code",
   "execution_count": 13,
   "id": "d7a06f3d",
   "metadata": {
    "execution": {
     "iopub.execute_input": "2025-05-18T01:08:11.530616Z",
     "iopub.status.busy": "2025-05-18T01:08:11.529996Z",
     "iopub.status.idle": "2025-05-18T01:08:11.563413Z",
     "shell.execute_reply": "2025-05-18T01:08:11.562731Z"
    },
    "papermill": {
     "duration": 0.042401,
     "end_time": "2025-05-18T01:08:11.564528",
     "exception": false,
     "start_time": "2025-05-18T01:08:11.522127",
     "status": "completed"
    },
    "tags": []
   },
   "outputs": [
    {
     "name": "stdout",
     "output_type": "stream",
     "text": [
      "<class 'pandas.core.frame.DataFrame'>\n",
      "RangeIndex: 25389 entries, 0 to 25388\n",
      "Data columns (total 20 columns):\n",
      " #   Column            Non-Null Count  Dtype         \n",
      "---  ------            --------------  -----         \n",
      " 0   RecordID          25389 non-null  int64         \n",
      " 1   Offense           25389 non-null  object        \n",
      " 2   IncidentID        25389 non-null  object        \n",
      " 3   BlockNumber       25389 non-null  object        \n",
      " 4   StreetName        25389 non-null  object        \n",
      " 5   Agency            25389 non-null  object        \n",
      " 6   HourReported      25389 non-null  object        \n",
      " 7   ReportingOfficer  25372 non-null  object        \n",
      " 8   Date              25389 non-null  datetime64[ns]\n",
      " 9   DateString        25389 non-null  object        \n",
      " 10  DayOfWeek         25389 non-null  object        \n",
      " 11  Weekend           25389 non-null  bool          \n",
      " 12  Season            25389 non-null  object        \n",
      " 13  HourAMPM          25389 non-null  object        \n",
      " 14  TimeOfDay         25389 non-null  object        \n",
      " 15  FullStreet        25389 non-null  object        \n",
      " 16  lat               25389 non-null  float64       \n",
      " 17  lon               25389 non-null  float64       \n",
      " 18  neighborhood      25389 non-null  object        \n",
      " 19  zip               25389 non-null  object        \n",
      "dtypes: bool(1), datetime64[ns](1), float64(2), int64(1), object(15)\n",
      "memory usage: 3.7+ MB\n"
     ]
    }
   ],
   "source": [
    "df.info()"
   ]
  },
  {
   "cell_type": "code",
   "execution_count": 14,
   "id": "cba73fcf",
   "metadata": {
    "execution": {
     "iopub.execute_input": "2025-05-18T01:08:11.580630Z",
     "iopub.status.busy": "2025-05-18T01:08:11.580027Z",
     "iopub.status.idle": "2025-05-18T01:08:11.629706Z",
     "shell.execute_reply": "2025-05-18T01:08:11.628954Z"
    },
    "papermill": {
     "duration": 0.058725,
     "end_time": "2025-05-18T01:08:11.630725",
     "exception": false,
     "start_time": "2025-05-18T01:08:11.572000",
     "status": "completed"
    },
    "tags": []
   },
   "outputs": [
    {
     "data": {
      "text/html": [
       "<div>\n",
       "<style scoped>\n",
       "    .dataframe tbody tr th:only-of-type {\n",
       "        vertical-align: middle;\n",
       "    }\n",
       "\n",
       "    .dataframe tbody tr th {\n",
       "        vertical-align: top;\n",
       "    }\n",
       "\n",
       "    .dataframe thead th {\n",
       "        text-align: right;\n",
       "    }\n",
       "</style>\n",
       "<table border=\"1\" class=\"dataframe\">\n",
       "  <thead>\n",
       "    <tr style=\"text-align: right;\">\n",
       "      <th></th>\n",
       "      <th>RecordID</th>\n",
       "      <th>Offense</th>\n",
       "      <th>IncidentID</th>\n",
       "      <th>Agency</th>\n",
       "      <th>ReportingOfficer</th>\n",
       "      <th>Date</th>\n",
       "      <th>DayOfWeek</th>\n",
       "      <th>Weekend</th>\n",
       "      <th>Season</th>\n",
       "      <th>TimeOfDay</th>\n",
       "      <th>FullStreet</th>\n",
       "      <th>lat</th>\n",
       "      <th>lon</th>\n",
       "      <th>neighborhood</th>\n",
       "      <th>zip</th>\n",
       "    </tr>\n",
       "  </thead>\n",
       "  <tbody>\n",
       "    <tr>\n",
       "      <th>0</th>\n",
       "      <td>1</td>\n",
       "      <td>Lost/FoundProperty</td>\n",
       "      <td>202500016506</td>\n",
       "      <td>CPD</td>\n",
       "      <td>McLeod, Dustin</td>\n",
       "      <td>2025-05-15 23:27:14</td>\n",
       "      <td>Thursday</td>\n",
       "      <td>False</td>\n",
       "      <td>Spring</td>\n",
       "      <td>Night</td>\n",
       "      <td>800 W MAIN ST</td>\n",
       "      <td>38.031480</td>\n",
       "      <td>-78.490333</td>\n",
       "      <td>Starr Hill</td>\n",
       "      <td>22903</td>\n",
       "    </tr>\n",
       "    <tr>\n",
       "      <th>1</th>\n",
       "      <td>2</td>\n",
       "      <td>Assault Simple</td>\n",
       "      <td>202500016468</td>\n",
       "      <td>CPD</td>\n",
       "      <td>Abdelgayed, Adam</td>\n",
       "      <td>2025-05-15 18:29:08</td>\n",
       "      <td>Thursday</td>\n",
       "      <td>False</td>\n",
       "      <td>Spring</td>\n",
       "      <td>Evening</td>\n",
       "      <td>900 HENRY AVE, A</td>\n",
       "      <td>38.038945</td>\n",
       "      <td>-78.486758</td>\n",
       "      <td>Rose Hill</td>\n",
       "      <td>22903</td>\n",
       "    </tr>\n",
       "    <tr>\n",
       "      <th>2</th>\n",
       "      <td>3</td>\n",
       "      <td>Suspicious Activity</td>\n",
       "      <td>202500016461</td>\n",
       "      <td>CPD</td>\n",
       "      <td>Oakes, Maithe</td>\n",
       "      <td>2025-05-15 17:25:46</td>\n",
       "      <td>Thursday</td>\n",
       "      <td>False</td>\n",
       "      <td>Spring</td>\n",
       "      <td>Evening</td>\n",
       "      <td>900 HARRIS ST</td>\n",
       "      <td>38.037621</td>\n",
       "      <td>-78.482520</td>\n",
       "      <td>Rose Hill</td>\n",
       "      <td>22903</td>\n",
       "    </tr>\n",
       "    <tr>\n",
       "      <th>3</th>\n",
       "      <td>4</td>\n",
       "      <td>Larceny - Shoplifitng</td>\n",
       "      <td>202500016455</td>\n",
       "      <td>CPD</td>\n",
       "      <td>Rigsby, Lloyd</td>\n",
       "      <td>2025-05-15 16:48:50</td>\n",
       "      <td>Thursday</td>\n",
       "      <td>False</td>\n",
       "      <td>Spring</td>\n",
       "      <td>Afternoon</td>\n",
       "      <td>200 E MAIN ST</td>\n",
       "      <td>38.030572</td>\n",
       "      <td>-78.480764</td>\n",
       "      <td>Downtown Mall</td>\n",
       "      <td>22902</td>\n",
       "    </tr>\n",
       "    <tr>\n",
       "      <th>4</th>\n",
       "      <td>5</td>\n",
       "      <td>Drug Investigation</td>\n",
       "      <td>202500016442</td>\n",
       "      <td>CPD</td>\n",
       "      <td>Bentz, Benjamin</td>\n",
       "      <td>2025-05-15 15:43:06</td>\n",
       "      <td>Thursday</td>\n",
       "      <td>False</td>\n",
       "      <td>Spring</td>\n",
       "      <td>Afternoon</td>\n",
       "      <td>500 PARK ST</td>\n",
       "      <td>38.033037</td>\n",
       "      <td>-78.475772</td>\n",
       "      <td>North Downtown</td>\n",
       "      <td>22902</td>\n",
       "    </tr>\n",
       "  </tbody>\n",
       "</table>\n",
       "</div>"
      ],
      "text/plain": [
       "   RecordID                Offense    IncidentID Agency  ReportingOfficer  \\\n",
       "0         1     Lost/FoundProperty  202500016506    CPD    McLeod, Dustin   \n",
       "1         2         Assault Simple  202500016468    CPD  Abdelgayed, Adam   \n",
       "2         3    Suspicious Activity  202500016461    CPD     Oakes, Maithe   \n",
       "3         4  Larceny - Shoplifitng  202500016455    CPD     Rigsby, Lloyd   \n",
       "4         5     Drug Investigation  202500016442    CPD  Bentz, Benjamin    \n",
       "\n",
       "                 Date DayOfWeek  Weekend  Season  TimeOfDay        FullStreet  \\\n",
       "0 2025-05-15 23:27:14  Thursday    False  Spring      Night     800 W MAIN ST   \n",
       "1 2025-05-15 18:29:08  Thursday    False  Spring    Evening  900 HENRY AVE, A   \n",
       "2 2025-05-15 17:25:46  Thursday    False  Spring    Evening     900 HARRIS ST   \n",
       "3 2025-05-15 16:48:50  Thursday    False  Spring  Afternoon     200 E MAIN ST   \n",
       "4 2025-05-15 15:43:06  Thursday    False  Spring  Afternoon       500 PARK ST   \n",
       "\n",
       "         lat        lon    neighborhood    zip  \n",
       "0  38.031480 -78.490333      Starr Hill  22903  \n",
       "1  38.038945 -78.486758       Rose Hill  22903  \n",
       "2  38.037621 -78.482520       Rose Hill  22903  \n",
       "3  38.030572 -78.480764   Downtown Mall  22902  \n",
       "4  38.033037 -78.475772  North Downtown  22902  "
      ]
     },
     "execution_count": 14,
     "metadata": {},
     "output_type": "execute_result"
    }
   ],
   "source": [
    "# Now drop the original BlockNumber and StreetName columns\n",
    "df.drop(columns=['BlockNumber', 'StreetName','HourAMPM','HourReported','DateString'], inplace=True)\n",
    "df[\"zip\"] = df[\"zip\"].astype(str)\n",
    "\n",
    "# Fill all missing values in the DataFrame with \"N/A\"\n",
    "df.replace({None: \"N/A\", np.nan: \"N/A\", \"\": \"N/A\"}, inplace=True)\n",
    "df.head()"
   ]
  },
  {
   "cell_type": "code",
   "execution_count": 15,
   "id": "5471e189",
   "metadata": {
    "execution": {
     "iopub.execute_input": "2025-05-18T01:08:11.647195Z",
     "iopub.status.busy": "2025-05-18T01:08:11.646564Z",
     "iopub.status.idle": "2025-05-18T01:08:11.669192Z",
     "shell.execute_reply": "2025-05-18T01:08:11.668510Z"
    },
    "papermill": {
     "duration": 0.031996,
     "end_time": "2025-05-18T01:08:11.670262",
     "exception": false,
     "start_time": "2025-05-18T01:08:11.638266",
     "status": "completed"
    },
    "tags": []
   },
   "outputs": [
    {
     "name": "stdout",
     "output_type": "stream",
     "text": [
      "                  MissingCount  MissingPercentage\n",
      "RecordID                     0                0.0\n",
      "Offense                      0                0.0\n",
      "IncidentID                   0                0.0\n",
      "Agency                       0                0.0\n",
      "ReportingOfficer             0                0.0\n",
      "Date                         0                0.0\n",
      "DayOfWeek                    0                0.0\n",
      "Weekend                      0                0.0\n",
      "Season                       0                0.0\n",
      "TimeOfDay                    0                0.0\n",
      "FullStreet                   0                0.0\n",
      "lat                          0                0.0\n",
      "lon                          0                0.0\n",
      "neighborhood                 0                0.0\n",
      "zip                          0                0.0\n"
     ]
    }
   ],
   "source": [
    "missing_info = missing_percentage(df)\n",
    "print(missing_info)"
   ]
  },
  {
   "cell_type": "code",
   "execution_count": 16,
   "id": "c109b25c",
   "metadata": {
    "execution": {
     "iopub.execute_input": "2025-05-18T01:08:11.686575Z",
     "iopub.status.busy": "2025-05-18T01:08:11.686298Z",
     "iopub.status.idle": "2025-05-18T01:08:11.691140Z",
     "shell.execute_reply": "2025-05-18T01:08:11.690473Z"
    },
    "papermill": {
     "duration": 0.014234,
     "end_time": "2025-05-18T01:08:11.692309",
     "exception": false,
     "start_time": "2025-05-18T01:08:11.678075",
     "status": "completed"
    },
    "tags": []
   },
   "outputs": [
    {
     "data": {
      "text/plain": [
       "Index(['RecordID', 'Offense', 'IncidentID', 'Agency', 'ReportingOfficer',\n",
       "       'Date', 'DayOfWeek', 'Weekend', 'Season', 'TimeOfDay', 'FullStreet',\n",
       "       'lat', 'lon', 'neighborhood', 'zip'],\n",
       "      dtype='object')"
      ]
     },
     "execution_count": 16,
     "metadata": {},
     "output_type": "execute_result"
    }
   ],
   "source": [
    "df.columns"
   ]
  },
  {
   "cell_type": "code",
   "execution_count": 17,
   "id": "ef64a1de",
   "metadata": {
    "execution": {
     "iopub.execute_input": "2025-05-18T01:08:11.708875Z",
     "iopub.status.busy": "2025-05-18T01:08:11.708408Z",
     "iopub.status.idle": "2025-05-18T01:08:11.731996Z",
     "shell.execute_reply": "2025-05-18T01:08:11.731352Z"
    },
    "papermill": {
     "duration": 0.033188,
     "end_time": "2025-05-18T01:08:11.733106",
     "exception": false,
     "start_time": "2025-05-18T01:08:11.699918",
     "status": "completed"
    },
    "tags": []
   },
   "outputs": [
    {
     "name": "stdout",
     "output_type": "stream",
     "text": [
      "<class 'pandas.core.frame.DataFrame'>\n",
      "RangeIndex: 25389 entries, 0 to 25388\n",
      "Data columns (total 15 columns):\n",
      " #   Column            Non-Null Count  Dtype         \n",
      "---  ------            --------------  -----         \n",
      " 0   RecordID          25389 non-null  int64         \n",
      " 1   Offense           25389 non-null  object        \n",
      " 2   IncidentID        25389 non-null  object        \n",
      " 3   Agency            25389 non-null  object        \n",
      " 4   ReportingOfficer  25389 non-null  object        \n",
      " 5   Date              25389 non-null  datetime64[ns]\n",
      " 6   DayOfWeek         25389 non-null  object        \n",
      " 7   Weekend           25389 non-null  bool          \n",
      " 8   Season            25389 non-null  object        \n",
      " 9   TimeOfDay         25389 non-null  object        \n",
      " 10  FullStreet        25389 non-null  object        \n",
      " 11  lat               25389 non-null  float64       \n",
      " 12  lon               25389 non-null  float64       \n",
      " 13  neighborhood      25389 non-null  object        \n",
      " 14  zip               25389 non-null  object        \n",
      "dtypes: bool(1), datetime64[ns](1), float64(2), int64(1), object(10)\n",
      "memory usage: 2.7+ MB\n"
     ]
    }
   ],
   "source": [
    "df.info()"
   ]
  },
  {
   "cell_type": "markdown",
   "id": "9943a326",
   "metadata": {
    "papermill": {
     "duration": 0.00758,
     "end_time": "2025-05-18T01:08:11.748650",
     "exception": false,
     "start_time": "2025-05-18T01:08:11.741070",
     "status": "completed"
    },
    "tags": []
   },
   "source": [
    "### Export Clean Data"
   ]
  },
  {
   "cell_type": "code",
   "execution_count": 18,
   "id": "45719f5c",
   "metadata": {
    "execution": {
     "iopub.execute_input": "2025-05-18T01:08:11.765295Z",
     "iopub.status.busy": "2025-05-18T01:08:11.764808Z",
     "iopub.status.idle": "2025-05-18T01:08:21.144712Z",
     "shell.execute_reply": "2025-05-18T01:08:21.144043Z"
    },
    "papermill": {
     "duration": 9.389508,
     "end_time": "2025-05-18T01:08:21.145810",
     "exception": false,
     "start_time": "2025-05-18T01:08:11.756302",
     "status": "completed"
    },
    "tags": []
   },
   "outputs": [
    {
     "name": "stdout",
     "output_type": "stream",
     "text": [
      "Project Root: /home/runner/work/crime-data/crime-data\n"
     ]
    },
    {
     "name": "stdout",
     "output_type": "stream",
     "text": [
      "Data saved to:"
     ]
    },
    {
     "name": "stdout",
     "output_type": "stream",
     "text": [
      " /home/runner/work/crime-data/crime-data/data/charlottesville_crime_incidents.csv\n"
     ]
    },
    {
     "name": "stdout",
     "output_type": "stream",
     "text": [
      "Excel saved to: /home/runner/work/crime-data/crime-data/data/charlottesville_crime_incidents.xlsx\n"
     ]
    }
   ],
   "source": [
    "# Determine the project root (assuming papermill is run from the repository root)\n",
    "project_root = os.getcwd()\n",
    "print(\"Project Root:\", project_root)\n",
    "\n",
    "# Set the data directory within the project root\n",
    "data_dir = os.path.join(project_root, \"data\")\n",
    "\n",
    "# Ensure the \"data\" directory exists (create it if it doesn't)\n",
    "if not os.path.exists(data_dir):\n",
    "    os.makedirs(data_dir)\n",
    "\n",
    "# Export the DataFrame to CSV in the \"data\" folder located in the project root\n",
    "csv_path = os.path.join(data_dir, \"charlottesville_crime_incidents.csv\")\n",
    "df.to_csv(csv_path, index=False)\n",
    "print(\"Data saved to:\", csv_path)\n",
    "\n",
    "# Construct the path to your Excel file\n",
    "excel_path = os.path.join(data_dir, \"charlottesville_crime_incidents.xlsx\")\n",
    "\n",
    "# Export the DataFrame to Excel\n",
    "df.to_excel(excel_path, index=False)\n",
    "print(\"Excel saved to:\", excel_path)\n"
   ]
  },
  {
   "cell_type": "markdown",
   "id": "4c7c6cc9",
   "metadata": {
    "papermill": {
     "duration": 0.007899,
     "end_time": "2025-05-18T01:08:21.162026",
     "exception": false,
     "start_time": "2025-05-18T01:08:21.154127",
     "status": "completed"
    },
    "tags": []
   },
   "source": [
    "## Predictive Analytics"
   ]
  },
  {
   "cell_type": "code",
   "execution_count": 19,
   "id": "aae84279",
   "metadata": {
    "execution": {
     "iopub.execute_input": "2025-05-18T01:08:21.179118Z",
     "iopub.status.busy": "2025-05-18T01:08:21.178626Z",
     "iopub.status.idle": "2025-05-18T01:08:21.190765Z",
     "shell.execute_reply": "2025-05-18T01:08:21.190079Z"
    },
    "papermill": {
     "duration": 0.022017,
     "end_time": "2025-05-18T01:08:21.191896",
     "exception": false,
     "start_time": "2025-05-18T01:08:21.169879",
     "status": "completed"
    },
    "tags": []
   },
   "outputs": [
    {
     "data": {
      "text/html": [
       "<div>\n",
       "<style scoped>\n",
       "    .dataframe tbody tr th:only-of-type {\n",
       "        vertical-align: middle;\n",
       "    }\n",
       "\n",
       "    .dataframe tbody tr th {\n",
       "        vertical-align: top;\n",
       "    }\n",
       "\n",
       "    .dataframe thead th {\n",
       "        text-align: right;\n",
       "    }\n",
       "</style>\n",
       "<table border=\"1\" class=\"dataframe\">\n",
       "  <thead>\n",
       "    <tr style=\"text-align: right;\">\n",
       "      <th></th>\n",
       "      <th>RecordID</th>\n",
       "      <th>Offense</th>\n",
       "      <th>IncidentID</th>\n",
       "      <th>Agency</th>\n",
       "      <th>ReportingOfficer</th>\n",
       "      <th>Date</th>\n",
       "      <th>DayOfWeek</th>\n",
       "      <th>Weekend</th>\n",
       "      <th>Season</th>\n",
       "      <th>TimeOfDay</th>\n",
       "      <th>FullStreet</th>\n",
       "      <th>lat</th>\n",
       "      <th>lon</th>\n",
       "      <th>neighborhood</th>\n",
       "      <th>zip</th>\n",
       "    </tr>\n",
       "  </thead>\n",
       "  <tbody>\n",
       "    <tr>\n",
       "      <th>0</th>\n",
       "      <td>1</td>\n",
       "      <td>Lost/FoundProperty</td>\n",
       "      <td>202500016506</td>\n",
       "      <td>CPD</td>\n",
       "      <td>McLeod, Dustin</td>\n",
       "      <td>2025-05-15 23:27:14</td>\n",
       "      <td>Thursday</td>\n",
       "      <td>False</td>\n",
       "      <td>Spring</td>\n",
       "      <td>Night</td>\n",
       "      <td>800 W MAIN ST</td>\n",
       "      <td>38.031480</td>\n",
       "      <td>-78.490333</td>\n",
       "      <td>Starr Hill</td>\n",
       "      <td>22903</td>\n",
       "    </tr>\n",
       "    <tr>\n",
       "      <th>1</th>\n",
       "      <td>2</td>\n",
       "      <td>Assault Simple</td>\n",
       "      <td>202500016468</td>\n",
       "      <td>CPD</td>\n",
       "      <td>Abdelgayed, Adam</td>\n",
       "      <td>2025-05-15 18:29:08</td>\n",
       "      <td>Thursday</td>\n",
       "      <td>False</td>\n",
       "      <td>Spring</td>\n",
       "      <td>Evening</td>\n",
       "      <td>900 HENRY AVE, A</td>\n",
       "      <td>38.038945</td>\n",
       "      <td>-78.486758</td>\n",
       "      <td>Rose Hill</td>\n",
       "      <td>22903</td>\n",
       "    </tr>\n",
       "    <tr>\n",
       "      <th>2</th>\n",
       "      <td>3</td>\n",
       "      <td>Suspicious Activity</td>\n",
       "      <td>202500016461</td>\n",
       "      <td>CPD</td>\n",
       "      <td>Oakes, Maithe</td>\n",
       "      <td>2025-05-15 17:25:46</td>\n",
       "      <td>Thursday</td>\n",
       "      <td>False</td>\n",
       "      <td>Spring</td>\n",
       "      <td>Evening</td>\n",
       "      <td>900 HARRIS ST</td>\n",
       "      <td>38.037621</td>\n",
       "      <td>-78.482520</td>\n",
       "      <td>Rose Hill</td>\n",
       "      <td>22903</td>\n",
       "    </tr>\n",
       "    <tr>\n",
       "      <th>3</th>\n",
       "      <td>4</td>\n",
       "      <td>Larceny - Shoplifitng</td>\n",
       "      <td>202500016455</td>\n",
       "      <td>CPD</td>\n",
       "      <td>Rigsby, Lloyd</td>\n",
       "      <td>2025-05-15 16:48:50</td>\n",
       "      <td>Thursday</td>\n",
       "      <td>False</td>\n",
       "      <td>Spring</td>\n",
       "      <td>Afternoon</td>\n",
       "      <td>200 E MAIN ST</td>\n",
       "      <td>38.030572</td>\n",
       "      <td>-78.480764</td>\n",
       "      <td>Downtown Mall</td>\n",
       "      <td>22902</td>\n",
       "    </tr>\n",
       "    <tr>\n",
       "      <th>4</th>\n",
       "      <td>5</td>\n",
       "      <td>Drug Investigation</td>\n",
       "      <td>202500016442</td>\n",
       "      <td>CPD</td>\n",
       "      <td>Bentz, Benjamin</td>\n",
       "      <td>2025-05-15 15:43:06</td>\n",
       "      <td>Thursday</td>\n",
       "      <td>False</td>\n",
       "      <td>Spring</td>\n",
       "      <td>Afternoon</td>\n",
       "      <td>500 PARK ST</td>\n",
       "      <td>38.033037</td>\n",
       "      <td>-78.475772</td>\n",
       "      <td>North Downtown</td>\n",
       "      <td>22902</td>\n",
       "    </tr>\n",
       "  </tbody>\n",
       "</table>\n",
       "</div>"
      ],
      "text/plain": [
       "   RecordID                Offense    IncidentID Agency  ReportingOfficer  \\\n",
       "0         1     Lost/FoundProperty  202500016506    CPD    McLeod, Dustin   \n",
       "1         2         Assault Simple  202500016468    CPD  Abdelgayed, Adam   \n",
       "2         3    Suspicious Activity  202500016461    CPD     Oakes, Maithe   \n",
       "3         4  Larceny - Shoplifitng  202500016455    CPD     Rigsby, Lloyd   \n",
       "4         5     Drug Investigation  202500016442    CPD  Bentz, Benjamin    \n",
       "\n",
       "                 Date DayOfWeek  Weekend  Season  TimeOfDay        FullStreet  \\\n",
       "0 2025-05-15 23:27:14  Thursday    False  Spring      Night     800 W MAIN ST   \n",
       "1 2025-05-15 18:29:08  Thursday    False  Spring    Evening  900 HENRY AVE, A   \n",
       "2 2025-05-15 17:25:46  Thursday    False  Spring    Evening     900 HARRIS ST   \n",
       "3 2025-05-15 16:48:50  Thursday    False  Spring  Afternoon     200 E MAIN ST   \n",
       "4 2025-05-15 15:43:06  Thursday    False  Spring  Afternoon       500 PARK ST   \n",
       "\n",
       "         lat        lon    neighborhood    zip  \n",
       "0  38.031480 -78.490333      Starr Hill  22903  \n",
       "1  38.038945 -78.486758       Rose Hill  22903  \n",
       "2  38.037621 -78.482520       Rose Hill  22903  \n",
       "3  38.030572 -78.480764   Downtown Mall  22902  \n",
       "4  38.033037 -78.475772  North Downtown  22902  "
      ]
     },
     "execution_count": 19,
     "metadata": {},
     "output_type": "execute_result"
    }
   ],
   "source": [
    "df.head()"
   ]
  },
  {
   "cell_type": "code",
   "execution_count": 20,
   "id": "c30ed129",
   "metadata": {
    "execution": {
     "iopub.execute_input": "2025-05-18T01:08:21.209724Z",
     "iopub.status.busy": "2025-05-18T01:08:21.209215Z",
     "iopub.status.idle": "2025-05-18T01:08:21.213997Z",
     "shell.execute_reply": "2025-05-18T01:08:21.213355Z"
    },
    "papermill": {
     "duration": 0.014824,
     "end_time": "2025-05-18T01:08:21.214982",
     "exception": false,
     "start_time": "2025-05-18T01:08:21.200158",
     "status": "completed"
    },
    "tags": []
   },
   "outputs": [
    {
     "data": {
      "text/plain": [
       "Index(['RecordID', 'Offense', 'IncidentID', 'Agency', 'ReportingOfficer',\n",
       "       'Date', 'DayOfWeek', 'Weekend', 'Season', 'TimeOfDay', 'FullStreet',\n",
       "       'lat', 'lon', 'neighborhood', 'zip'],\n",
       "      dtype='object')"
      ]
     },
     "execution_count": 20,
     "metadata": {},
     "output_type": "execute_result"
    }
   ],
   "source": [
    "df.columns"
   ]
  },
  {
   "cell_type": "markdown",
   "id": "a4c71a9b",
   "metadata": {
    "papermill": {
     "duration": 0.00789,
     "end_time": "2025-05-18T01:08:21.231137",
     "exception": false,
     "start_time": "2025-05-18T01:08:21.223247",
     "status": "completed"
    },
    "tags": []
   },
   "source": [
    "### Data Preparation\n",
    "\n",
    "We need to ensure the data is in the correct format for modeling and can handle missing values, categorical variables, and dates. Here's how to prepare your data:"
   ]
  },
  {
   "cell_type": "code",
   "execution_count": 21,
   "id": "0de9861e",
   "metadata": {
    "execution": {
     "iopub.execute_input": "2025-05-18T01:08:21.249028Z",
     "iopub.status.busy": "2025-05-18T01:08:21.248536Z",
     "iopub.status.idle": "2025-05-18T01:08:23.758030Z",
     "shell.execute_reply": "2025-05-18T01:08:23.757231Z"
    },
    "papermill": {
     "duration": 2.520106,
     "end_time": "2025-05-18T01:08:23.759419",
     "exception": false,
     "start_time": "2025-05-18T01:08:21.239313",
     "status": "completed"
    },
    "tags": []
   },
   "outputs": [],
   "source": [
    "import pandas as pd\n",
    "from sklearn.model_selection import train_test_split\n",
    "from sklearn.preprocessing import OneHotEncoder, LabelEncoder\n",
    "from sklearn.ensemble import RandomForestClassifier\n",
    "from sklearn.linear_model import LogisticRegression\n",
    "from sklearn.tree import DecisionTreeClassifier\n",
    "from sklearn.metrics import classification_report, accuracy_score\n",
    "import seaborn as sns\n",
    "import matplotlib.pyplot as plt\n",
    "\n",
    "# Convert 'Date' to datetime\n",
    "df['Date'] = pd.to_datetime(df['Date'])\n",
    "\n",
    "# Feature engineering: Extract additional time-based features\n",
    "df['Year'] = df['Date'].dt.year\n",
    "df['Month'] = df['Date'].dt.month\n",
    "df['DayOfMonth'] = df['Date'].dt.day\n",
    "\n",
    "# One-hot encoding for 'FullStreet', 'neighborhood', 'zip'\n",
    "df = pd.get_dummies(df, columns=['FullStreet', 'neighborhood', 'zip'], drop_first=True)\n",
    "\n",
    "# Label encoding for ordered variables (those with a natural order like 'DayOfWeek', 'Season', 'TimeOfDay')\n",
    "label_encoders = {}\n",
    "for column in ['DayOfWeek', 'Season', 'TimeOfDay', 'Agency', 'ReportingOfficer']:  # Example ordinal variables\n",
    "    le = LabelEncoder()\n",
    "    df[column] = le.fit_transform(df[column])\n",
    "    label_encoders[column] = le\n",
    "\n",
    "# Filter the dataset to include only the offenses of interest\n",
    "offenses_of_interest = [\n",
    "    'Hit and Run', 'Assault Simple', 'Suspicious Activity', 'Vandalism', \n",
    "    'Larceny - From Mot Vehicle', 'Larceny - All Other', \n",
    "    'Assist Citizen - Mental/TDO/ECO', 'Lost/FoundProperty'\n",
    "]\n",
    "\n",
    "df = df[df['Offense'].isin(offenses_of_interest)]\n",
    "\n",
    "# Label encode the target variable (Offense)\n",
    "offense_encoder = LabelEncoder()\n",
    "df['Offense'] = offense_encoder.fit_transform(df['Offense'])\n",
    "\n",
    "# Separate features (X) and target (y)\n",
    "X = df[['Year', 'Month', 'DayOfMonth', 'DayOfWeek', 'Weekend', 'Season', 'TimeOfDay', 'lat', 'lon', 'Agency', 'ReportingOfficer']]\n",
    "y = df['Offense']  # Offense is now the encoded target variable\n",
    "\n",
    "# Split the data into training and testing sets\n",
    "X_train, X_test, y_train, y_test = train_test_split(X, y, test_size=0.3, random_state=42)\n"
   ]
  },
  {
   "cell_type": "markdown",
   "id": "9c90d893",
   "metadata": {
    "papermill": {
     "duration": 0.008041,
     "end_time": "2025-05-18T01:08:23.775882",
     "exception": false,
     "start_time": "2025-05-18T01:08:23.767841",
     "status": "completed"
    },
    "tags": []
   },
   "source": [
    "### Model Training\n",
    "\n",
    "Here we will train several models (e.g., Random Forest, Logistic Regression, and Decision Tree). We will use cross-validation to choose the best model based on accuracy, and then explain the impact of the variables."
   ]
  },
  {
   "cell_type": "code",
   "execution_count": 22,
   "id": "51b4901c",
   "metadata": {
    "execution": {
     "iopub.execute_input": "2025-05-18T01:08:23.793806Z",
     "iopub.status.busy": "2025-05-18T01:08:23.792937Z",
     "iopub.status.idle": "2025-05-18T01:08:27.340006Z",
     "shell.execute_reply": "2025-05-18T01:08:27.339413Z"
    },
    "papermill": {
     "duration": 3.557203,
     "end_time": "2025-05-18T01:08:27.341082",
     "exception": false,
     "start_time": "2025-05-18T01:08:23.783879",
     "status": "completed"
    },
    "tags": []
   },
   "outputs": [
    {
     "name": "stderr",
     "output_type": "stream",
     "text": [
      "/opt/hostedtoolcache/Python/3.9.22/x64/lib/python3.9/site-packages/sklearn/linear_model/_logistic.py:465: ConvergenceWarning: lbfgs failed to converge (status=1):\n",
      "STOP: TOTAL NO. of ITERATIONS REACHED LIMIT.\n",
      "\n",
      "Increase the number of iterations (max_iter) or scale the data as shown in:\n",
      "    https://scikit-learn.org/stable/modules/preprocessing.html\n",
      "Please also refer to the documentation for alternative solver options:\n",
      "    https://scikit-learn.org/stable/modules/linear_model.html#logistic-regression\n",
      "  n_iter_i = _check_optimize_result(\n",
      "/opt/hostedtoolcache/Python/3.9.22/x64/lib/python3.9/site-packages/sklearn/metrics/_classification.py:1565: UndefinedMetricWarning: Precision is ill-defined and being set to 0.0 in labels with no predicted samples. Use `zero_division` parameter to control this behavior.\n",
      "  _warn_prf(average, modifier, f\"{metric.capitalize()} is\", len(result))\n",
      "/opt/hostedtoolcache/Python/3.9.22/x64/lib/python3.9/site-packages/sklearn/metrics/_classification.py:1565: UndefinedMetricWarning: Precision is ill-defined and being set to 0.0 in labels with no predicted samples. Use `zero_division` parameter to control this behavior.\n",
      "  _warn_prf(average, modifier, f\"{metric.capitalize()} is\", len(result))\n",
      "/opt/hostedtoolcache/Python/3.9.22/x64/lib/python3.9/site-packages/sklearn/metrics/_classification.py:1565: UndefinedMetricWarning: Precision is ill-defined and being set to 0.0 in labels with no predicted samples. Use `zero_division` parameter to control this behavior.\n",
      "  _warn_prf(average, modifier, f\"{metric.capitalize()} is\", len(result))\n"
     ]
    },
    {
     "name": "stdout",
     "output_type": "stream",
     "text": [
      "\n",
      "Classification Report for All Models:\n",
      "\n",
      "Model: RandomForest\n",
      "Accuracy: 0.2924\n",
      "              precision    recall  f1-score      support\n",
      "0              0.292848  0.378049  0.330038   574.000000\n",
      "1              0.279412  0.223529  0.248366   425.000000\n",
      "2              0.326464  0.443953  0.376250   678.000000\n",
      "3              0.209184  0.176724  0.191589   464.000000\n",
      "4              0.399123  0.235142  0.295935   387.000000\n",
      "5              0.244898  0.212181  0.227368   509.000000\n",
      "6              0.296912  0.279018  0.287687   448.000000\n",
      "accuracy       0.292396  0.292396  0.292396     0.292396\n",
      "macro avg      0.292691  0.278371  0.279605  3485.000000\n",
      "weighted avg   0.291931  0.292396  0.286408  3485.000000\n"
     ]
    },
    {
     "data": {
      "image/png": "[encoded data removed]",
      "text/plain": [
       "<Figure size 800x600 with 2 Axes>"
      ]
     },
     "metadata": {},
     "output_type": "display_data"
    },
    {
     "name": "stdout",
     "output_type": "stream",
     "text": [
      "\n",
      "Model: LogisticRegression\n",
      "Accuracy: 0.2103\n",
      "              precision    recall  f1-score     support\n",
      "0              0.192476  0.534843  0.283080   574.00000\n",
      "1              0.000000  0.000000  0.000000   425.00000\n",
      "2              0.224544  0.617994  0.329403   678.00000\n",
      "3              0.000000  0.000000  0.000000   464.00000\n",
      "4              0.000000  0.000000  0.000000   387.00000\n",
      "5              0.000000  0.000000  0.000000   509.00000\n",
      "6              0.291667  0.015625  0.029661   448.00000\n",
      "accuracy       0.210330  0.210330  0.210330     0.21033\n",
      "macro avg      0.101241  0.166923  0.091735  3485.00000\n",
      "weighted avg   0.112881  0.210330  0.114522  3485.00000\n"
     ]
    },
    {
     "data": {
      "image/png": "[encoded data removed]",
      "text/plain": [
       "<Figure size 800x600 with 2 Axes>"
      ]
     },
     "metadata": {},
     "output_type": "display_data"
    },
    {
     "name": "stdout",
     "output_type": "stream",
     "text": [
      "\n",
      "Model: DecisionTree\n",
      "Accuracy: 0.2250\n",
      "              precision    recall  f1-score      support\n",
      "0              0.227642  0.243902  0.235492   574.000000\n",
      "1              0.195599  0.188235  0.191847   425.000000\n",
      "2              0.302521  0.265487  0.282797   678.000000\n",
      "3              0.199597  0.213362  0.206250   464.000000\n",
      "4              0.227154  0.224806  0.225974   387.000000\n",
      "5              0.204918  0.196464  0.200602   509.000000\n",
      "6              0.196393  0.218750  0.206969   448.000000\n",
      "accuracy       0.224964  0.224964  0.224964     0.224964\n",
      "macro avg      0.221975  0.221572  0.221419  3485.000000\n",
      "weighted avg   0.227178  0.224964  0.225660  3485.000000\n"
     ]
    },
    {
     "data": {
      "image/png": "[encoded data removed]",
      "text/plain": [
       "<Figure size 800x600 with 2 Axes>"
      ]
     },
     "metadata": {},
     "output_type": "display_data"
    },
    {
     "name": "stdout",
     "output_type": "stream",
     "text": [
      "\n",
      "Best Model:\n",
      "Best Model: RandomForestClassifier()\n",
      "Best Model Accuracy: 0.2924\n"
     ]
    }
   ],
   "source": [
    "import pandas as pd\n",
    "from sklearn.model_selection import train_test_split\n",
    "from sklearn.ensemble import RandomForestClassifier\n",
    "from sklearn.linear_model import LogisticRegression\n",
    "from sklearn.tree import DecisionTreeClassifier\n",
    "from sklearn.metrics import classification_report, accuracy_score, confusion_matrix\n",
    "import seaborn as sns\n",
    "import matplotlib.pyplot as plt\n",
    "\n",
    "# Define models\n",
    "models = {\n",
    "    'RandomForest': RandomForestClassifier(),\n",
    "    'LogisticRegression': LogisticRegression(max_iter=1000),\n",
    "    'DecisionTree': DecisionTreeClassifier()\n",
    "}\n",
    "\n",
    "# Train models and evaluate them\n",
    "best_model = None\n",
    "best_score = 0\n",
    "model_reports = {}\n",
    "\n",
    "for model_name, model in models.items():\n",
    "    model.fit(X_train, y_train)  # Train model\n",
    "    y_pred = model.predict(X_test)  # Make predictions\n",
    "    \n",
    "    # Calculate accuracy and generate classification report\n",
    "    accuracy = accuracy_score(y_test, y_pred)\n",
    "    model_reports[model_name] = classification_report(y_test, y_pred, output_dict=True)  # Store as a dictionary for easier analysis\n",
    "    \n",
    "    # Track best performing model\n",
    "    if accuracy > best_score:\n",
    "        best_score = accuracy\n",
    "        best_model = model\n",
    "\n",
    "# Display classification reports and confusion matrices\n",
    "print(\"\\nClassification Report for All Models:\")\n",
    "for model_name, report in model_reports.items():\n",
    "    print(f\"\\nModel: {model_name}\")\n",
    "    print(\"Accuracy: {:.4f}\".format(accuracy_score(y_test, models[model_name].predict(X_test))))  # Display accuracy\n",
    "    print(pd.DataFrame(report).transpose())  # Display classification report as a DataFrame\n",
    "\n",
    "    # Plot Confusion Matrix\n",
    "    cm = confusion_matrix(y_test, models[model_name].predict(X_test))\n",
    "    plt.figure(figsize=(8, 6))\n",
    "    sns.heatmap(cm, annot=True, fmt=\"d\", cmap='Blues', xticklabels=offense_encoder.classes_, yticklabels=offense_encoder.classes_)\n",
    "    plt.title(f\"Confusion Matrix - {model_name}\")\n",
    "    plt.xlabel('Predicted Labels')\n",
    "    plt.ylabel('True Labels')\n",
    "    plt.show()\n",
    "\n",
    "# Display best model details\n",
    "print(\"\\nBest Model:\")\n",
    "print(f\"Best Model: {best_model}\")\n",
    "print(f\"Best Model Accuracy: {best_score:.4f}\")\n"
   ]
  },
  {
   "cell_type": "markdown",
   "id": "6e0af7f7",
   "metadata": {
    "papermill": {
     "duration": 0.011514,
     "end_time": "2025-05-18T01:08:27.364502",
     "exception": false,
     "start_time": "2025-05-18T01:08:27.352988",
     "status": "completed"
    },
    "tags": []
   },
   "source": [
    "#### Classification Report for All Models:\n",
    "\n",
    "### Explanation of the Classification Results (RandomForest Model)\n",
    "\n",
    "The results you provided are from a **Random Forest** model, which is used for predicting different types of offenses. Let's break down the key components of the results:\n",
    "\n",
    "#### 1. **Accuracy: 0.2822**\n",
    "   - **Accuracy** measures the overall percentage of correct predictions made by the model. An accuracy of 28.22% means the model correctly predicted the offense in about 28% of the cases. This indicates the model's predictions are not highly reliable, as the accuracy is quite low.\n",
    "\n",
    "#### 2. **Classification Report:**\n",
    "   The classification report includes precision, recall, and F1-score for each offense. Let's go over these terms and how they apply to the results:\n",
    "\n",
    "   - **Precision**: The proportion of true positive predictions out of all positive predictions made by the model for a specific class (offense).\n",
    "   - **Recall**: The proportion of true positive predictions out of all actual positive instances in the dataset.\n",
    "   - **F1-Score**: The harmonic mean of precision and recall, providing a balance between the two metrics.\n",
    "   - **Support**: The number of actual occurrences of each class in the test set.\n",
    "\n",
    "   Let's analyze each offense based on these metrics:\n",
    "\n",
    "   | **Offense**                        | **Precision** | **Recall** | **F1-Score** | **Support** |\n",
    "   |------------------------------------|---------------|------------|--------------|-------------|\n",
    "   | **Assault Simple**                 | 0.2892        | 0.3754     | 0.3267       | 594         |\n",
    "   | **Assist Citizen - Mental/TDO/ECO**| 0.3182        | 0.2274     | 0.2652       | 431         |\n",
    "   | **Hit and Run**                    | 0.2963        | 0.4765     | 0.3654       | 638         |\n",
    "   | **Larceny - All Other**            | 0.2270        | 0.1453     | 0.1772       | 475         |\n",
    "   | **Lost/FoundProperty**             | 0.3333        | 0.2102     | 0.2578       | 352         |\n",
    "   | **Suspicious Activity**            | 0.2344        | 0.2169     | 0.2253       | 484         |\n",
    "   | **Vandalism**                      | 0.2712        | 0.2106     | 0.2371       | 470         |\n",
    "\n",
    "#### 3. **Key Insights from the Report:**\n",
    "\n",
    "- **Precision**:\n",
    "   - The highest precision is for **Larceny - All Other** (0.3333), indicating that when the model predicts this offense, it is correct about 33% of the time. However, this is still quite low.\n",
    "   - **Assist Citizen - Mental/TDO/ECO** has the lowest precision (0.2269), meaning that the model's predictions for this offense tend to be wrong more often than correct.\n",
    "\n",
    "- **Recall**:\n",
    "   - **Hit and Run** has the highest recall (0.4765), meaning the model identifies about 48% of the actual occurrences of this offense. This is better than the precision, which indicates it is missing many true positives but is still able to identify a fair number of cases.\n",
    "   - **Larceny - All Other** and **Suspicious Activity** have the lowest recall values (0.1453 and 0.2169, respectively), indicating that the model is failing to identify most of the actual cases for these offenses.\n",
    "\n",
    "- **F1-Score**:\n",
    "   - The **F1-Score** balances precision and recall. It is highest for **Hit and Run** (0.3654), but still relatively low overall. This suggests the model is better at identifying **Hit and Run** than other offenses but still has room for improvement.\n",
    "   - **Larceny - All Other** has the lowest F1-Score (0.1772), indicating a poor balance between precision and recall for this offense.\n",
    "\n",
    "#### 4. **Macro Average and Weighted Average:**\n",
    "   - **Macro Average**: This gives the average precision, recall, and F1-Score across all classes (offenses) without considering the class distribution. It averages the results for all offenses equally.\n",
    "     - Precision: 0.2814\n",
    "     - Recall: 0.2661\n",
    "     - F1-Score: 0.2649\n",
    "   - **Weighted Average**: This averages the metrics but weighs each class by its support (the number of true instances in the test set). This gives a better sense of overall performance, considering the class distribution.\n",
    "     - Precision: 0.2799\n",
    "     - Recall: 0.2822\n",
    "     - F1-Score: 0.2720\n",
    "\n",
    "#### 5. **Confusion Matrix (Visualization Analysis)**:\n",
    "   - The confusion matrix shows the distribution of true positive, false positive, true negative, and false negative predictions for each class.\n",
    "     - For **Hit and Run**, the model performs relatively well in identifying this offense (304 true positives). However, it also misclassifies some **Hit and Run** instances as other offenses (e.g., **Assault Simple**, **Suspicious Activity**, etc.).\n",
    "     - **Larceny - All Other** is frequently misclassified as **Hit and Run**, **Suspicious Activity**, and others. This is evident from the large number of off-diagonal elements in its row.\n",
    "     - **Assist Citizen - Mental/TDO/ECO** and **Suspicious Activity** are frequently misclassified, as seen by the off-diagonal values in their rows.\n",
    "\n",
    "### Conclusion:\n",
    "The Random Forest model has low accuracy (28.22%), suggesting that it struggles to predict most offenses accurately. Some offenses like **Hit and Run** are better predicted than others, but overall, the model shows a high level of misclassification across all offenses. There may be a need for further tuning of the model, additional feature engineering, or trying different models for better performance.\n",
    "\n",
    "Let me know if you'd like to improve the model or make adjustments based on these results!\n",
    "\n"
   ]
  },
  {
   "cell_type": "markdown",
   "id": "ff502934",
   "metadata": {
    "papermill": {
     "duration": 0.010983,
     "end_time": "2025-05-18T01:08:27.386448",
     "exception": false,
     "start_time": "2025-05-18T01:08:27.375465",
     "status": "completed"
    },
    "tags": []
   },
   "source": [
    "### Model Explanation\n",
    "\n",
    "Once we’ve chosen the best model, we will explain its predictions by examining feature importance for tree-based models and using statistical methods like logistic regression coefficients for linear models."
   ]
  },
  {
   "cell_type": "markdown",
   "id": "fa7290ef",
   "metadata": {
    "papermill": {
     "duration": 0.010987,
     "end_time": "2025-05-18T01:08:27.408376",
     "exception": false,
     "start_time": "2025-05-18T01:08:27.397389",
     "status": "completed"
    },
    "tags": []
   },
   "source": [
    "#### Feature Importance for Random Forest / Decision Tree\n",
    "\n",
    "##### For Tree-based Models (Random Forest, Decision Tree)\n",
    "\n",
    "For Random Forest or Decision Tree, we can look at feature importance to understand which variables contribute the most to the model's predictions. Here's how you can visualize and interpret the importance of each feature:"
   ]
  },
  {
   "cell_type": "code",
   "execution_count": 23,
   "id": "faa0b008",
   "metadata": {
    "execution": {
     "iopub.execute_input": "2025-05-18T01:08:27.431982Z",
     "iopub.status.busy": "2025-05-18T01:08:27.431380Z",
     "iopub.status.idle": "2025-05-18T01:08:27.700281Z",
     "shell.execute_reply": "2025-05-18T01:08:27.699627Z"
    },
    "papermill": {
     "duration": 0.282114,
     "end_time": "2025-05-18T01:08:27.701419",
     "exception": false,
     "start_time": "2025-05-18T01:08:27.419305",
     "status": "completed"
    },
    "tags": []
   },
   "outputs": [
    {
     "data": {
      "image/png": "[encoded data removed]",
      "text/plain": [
       "<Figure size 1000x600 with 1 Axes>"
      ]
     },
     "metadata": {},
     "output_type": "display_data"
    }
   ],
   "source": [
    "# For RandomForest or DecisionTree models, we can check feature importance\n",
    "if isinstance(best_model, RandomForestClassifier) or isinstance(best_model, DecisionTreeClassifier):\n",
    "    feature_importance = best_model.feature_importances_\n",
    "    feature_names = X.columns\n",
    "    importance_df = pd.DataFrame({'Feature': feature_names, 'Importance': feature_importance})\n",
    "    importance_df = importance_df.sort_values(by='Importance', ascending=False)\n",
    "    \n",
    "    # Plotting the feature importances\n",
    "    plt.figure(figsize=(10, 6))\n",
    "    sns.barplot(x='Importance', y='Feature', data=importance_df)\n",
    "    plt.title(\"Feature Importance\")\n",
    "    plt.show()\n"
   ]
  },
  {
   "cell_type": "code",
   "execution_count": null,
   "id": "3204c2e7",
   "metadata": {
    "papermill": {
     "duration": 0.011147,
     "end_time": "2025-05-18T01:08:27.724056",
     "exception": false,
     "start_time": "2025-05-18T01:08:27.712909",
     "status": "completed"
    },
    "tags": []
   },
   "outputs": [],
   "source": []
  },
  {
   "cell_type": "markdown",
   "id": "608029cd",
   "metadata": {
    "papermill": {
     "duration": 0.011003,
     "end_time": "2025-05-18T01:08:27.746114",
     "exception": false,
     "start_time": "2025-05-18T01:08:27.735111",
     "status": "completed"
    },
    "tags": []
   },
   "source": [
    "### Evaluation\n",
    "\n",
    "After training the models and examining their performance, we evaluate the chosen model based on metrics like accuracy, precision, recall, and F1 score.\n",
    "\n"
   ]
  },
  {
   "cell_type": "code",
   "execution_count": 24,
   "id": "32f47f98",
   "metadata": {
    "execution": {
     "iopub.execute_input": "2025-05-18T01:08:27.770059Z",
     "iopub.status.busy": "2025-05-18T01:08:27.769557Z",
     "iopub.status.idle": "2025-05-18T01:08:27.859806Z",
     "shell.execute_reply": "2025-05-18T01:08:27.859073Z"
    },
    "papermill": {
     "duration": 0.103507,
     "end_time": "2025-05-18T01:08:27.860864",
     "exception": false,
     "start_time": "2025-05-18T01:08:27.757357",
     "status": "completed"
    },
    "tags": []
   },
   "outputs": [
    {
     "name": "stdout",
     "output_type": "stream",
     "text": [
      "Accuracy: 0.2924\n",
      "Classification Report:\n",
      "              precision    recall  f1-score   support\n",
      "\n",
      "           0       0.29      0.38      0.33       574\n",
      "           1       0.28      0.22      0.25       425\n",
      "           2       0.33      0.44      0.38       678\n",
      "           3       0.21      0.18      0.19       464\n",
      "           4       0.40      0.24      0.30       387\n",
      "           5       0.24      0.21      0.23       509\n",
      "           6       0.30      0.28      0.29       448\n",
      "\n",
      "    accuracy                           0.29      3485\n",
      "   macro avg       0.29      0.28      0.28      3485\n",
      "weighted avg       0.29      0.29      0.29      3485\n",
      "\n",
      "Confusion Matrix:\n",
      "[[217  67 133  52  14  48  43]\n",
      " [ 89  95 100  38  15  49  39]\n",
      " [114  46 301  81  17  78  41]\n",
      " [ 72  29 112  82  29  72  68]\n",
      " [ 54  27  75  49  91  31  60]\n",
      " [118  49 113  46  30 108  45]\n",
      " [ 77  27  88  44  32  55 125]]\n",
      "Precision: 0.2919\n",
      "Recall: 0.2924\n",
      "F1 Score: 0.2864\n"
     ]
    }
   ],
   "source": [
    "from sklearn.metrics import classification_report, confusion_matrix, accuracy_score, precision_score, recall_score, f1_score\n",
    "\n",
    "# Predict on the test set\n",
    "y_pred = best_model.predict(X_test)\n",
    "\n",
    "# Calculate Accuracy\n",
    "accuracy = accuracy_score(y_test, y_pred)\n",
    "print(f\"Accuracy: {accuracy:.4f}\")\n",
    "\n",
    "# Classification Report\n",
    "print(\"Classification Report:\")\n",
    "print(classification_report(y_test, y_pred))\n",
    "\n",
    "# Confusion Matrix\n",
    "conf_matrix = confusion_matrix(y_test, y_pred)\n",
    "print(\"Confusion Matrix:\")\n",
    "print(conf_matrix)\n",
    "\n",
    "# Precision, Recall, F1 Score for each class (Offense Type)\n",
    "precision = precision_score(y_test, y_pred, average='weighted')\n",
    "recall = recall_score(y_test, y_pred, average='weighted')\n",
    "f1 = f1_score(y_test, y_pred, average='weighted')\n",
    "\n",
    "print(f\"Precision: {precision:.4f}\")\n",
    "print(f\"Recall: {recall:.4f}\")\n",
    "print(f\"F1 Score: {f1:.4f}\")\n"
   ]
  },
  {
   "cell_type": "markdown",
   "id": "7f7a70f7",
   "metadata": {
    "papermill": {
     "duration": 0.01107,
     "end_time": "2025-05-18T01:08:27.883518",
     "exception": false,
     "start_time": "2025-05-18T01:08:27.872448",
     "status": "completed"
    },
    "tags": []
   },
   "source": [
    "#### For Logistic Regression (Coefficient Interpretation)\n",
    "\n",
    "For Logistic Regression, the model coefficients can help us understand how each feature affects the likelihood of an offense happening. A positive coefficient indicates a feature increases the likelihood of the offense, and a negative coefficient indicates the opposite."
   ]
  },
  {
   "cell_type": "code",
   "execution_count": 25,
   "id": "993539c9",
   "metadata": {
    "execution": {
     "iopub.execute_input": "2025-05-18T01:08:27.907780Z",
     "iopub.status.busy": "2025-05-18T01:08:27.907008Z",
     "iopub.status.idle": "2025-05-18T01:08:27.912055Z",
     "shell.execute_reply": "2025-05-18T01:08:27.911517Z"
    },
    "papermill": {
     "duration": 0.018279,
     "end_time": "2025-05-18T01:08:27.913047",
     "exception": false,
     "start_time": "2025-05-18T01:08:27.894768",
     "status": "completed"
    },
    "tags": []
   },
   "outputs": [],
   "source": [
    "if isinstance(best_model, LogisticRegression):\n",
    "    # Logistic regression coefficients\n",
    "    coef_df = pd.DataFrame({\n",
    "        'Feature': X.columns,\n",
    "        'Coefficient': best_model.coef_[0]\n",
    "    })\n",
    "    coef_df['AbsCoefficient'] = coef_df['Coefficient'].abs()\n",
    "    coef_df = coef_df.sort_values(by='AbsCoefficient', ascending=False)\n",
    "    \n",
    "    # Plotting the coefficients\n",
    "    plt.figure(figsize=(10, 6))\n",
    "    sns.barplot(x='AbsCoefficient', y='Feature', data=coef_df)\n",
    "    plt.title(\"Logistic Regression Coefficients Impact\")\n",
    "    plt.show()\n",
    "\n",
    "    # Print the top 5 most impactful features (by absolute coefficient value)\n",
    "    print(\"Top 5 most impactful features based on coefficients:\")\n",
    "    print(coef_df.head())\n"
   ]
  },
  {
   "cell_type": "markdown",
   "id": "0ca2188d",
   "metadata": {
    "papermill": {
     "duration": 0.011309,
     "end_time": "2025-05-18T01:08:27.935854",
     "exception": false,
     "start_time": "2025-05-18T01:08:27.924545",
     "status": "completed"
    },
    "tags": []
   },
   "source": [
    "Explanation of Output:\n",
    "\n",
    "Feature Importance (Random Forest/Decision Tree): The bar plot will show how important each feature is in the decision-making process. Features at the top of the list are the most influential in predicting the occurrence of offenses.\n",
    "\n",
    "Logistic Regression Coefficients: The bar plot will show the magnitude of the coefficients for each feature. Features with larger absolute values (either positive or negative) have a stronger impact on the model’s predictions. Positive coefficients increase the probability of an offense, while negative coefficients decrease it."
   ]
  },
  {
   "cell_type": "markdown",
   "id": "1b427ac0",
   "metadata": {
    "papermill": {
     "duration": 0.011356,
     "end_time": "2025-05-18T01:08:27.958434",
     "exception": false,
     "start_time": "2025-05-18T01:08:27.947078",
     "status": "completed"
    },
    "tags": []
   },
   "source": []
  }
 ],
 "metadata": {
  "kernelspec": {
   "display_name": "Python 3",
   "language": "python",
   "name": "python3"
  },
  "language_info": {
   "codemirror_mode": {
    "name": "ipython",
    "version": 3
   },
   "file_extension": ".py",
   "mimetype": "text/x-python",
   "name": "python",
   "nbconvert_exporter": "python",
   "pygments_lexer": "ipython3",
   "version": "3.9.22"
  },
  "papermill": {
   "default_parameters": {},
   "duration": 80.442702,
   "end_time": "2025-05-18T01:08:28.487387",
   "environment_variables": {},
   "exception": null,
   "input_path": "notebook/Crime Data.ipynb",
   "output_path": "notebook/Crime Data_output.ipynb",
   "parameters": {},
   "start_time": "2025-05-18T01:07:08.044685",
   "version": "2.6.0"
  }
 },
 "nbformat": 4,
 "nbformat_minor": 5
}