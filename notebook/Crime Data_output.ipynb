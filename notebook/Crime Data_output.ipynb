{
 "cells": [
  {
   "cell_type": "markdown",
   "id": "14ea5cbd",
   "metadata": {
    "papermill": {
     "duration": 0.004253,
     "end_time": "2025-08-06T01:10:33.459890",
     "exception": false,
     "start_time": "2025-08-06T01:10:33.455637",
     "status": "completed"
    },
    "tags": []
   },
   "source": [
    "# Charlottesville Open Data Porttal: Crime Data"
   ]
  },
  {
   "cell_type": "markdown",
   "id": "b719f140",
   "metadata": {
    "papermill": {
     "duration": 0.004256,
     "end_time": "2025-08-06T01:10:33.467769",
     "exception": false,
     "start_time": "2025-08-06T01:10:33.463513",
     "status": "completed"
    },
    "tags": []
   },
   "source": [
    "## Import Relevant Librarires & Set WD"
   ]
  },
  {
   "cell_type": "code",
   "execution_count": 1,
   "id": "d3eade5b",
   "metadata": {
    "execution": {
     "iopub.execute_input": "2025-08-06T01:10:33.475528Z",
     "iopub.status.busy": "2025-08-06T01:10:33.475259Z",
     "iopub.status.idle": "2025-08-06T01:10:34.026611Z",
     "shell.execute_reply": "2025-08-06T01:10:34.025836Z"
    },
    "papermill": {
     "duration": 0.556875,
     "end_time": "2025-08-06T01:10:34.027968",
     "exception": false,
     "start_time": "2025-08-06T01:10:33.471093",
     "status": "completed"
    },
    "tags": []
   },
   "outputs": [],
   "source": [
    "import requests\n",
    "import pandas as pd\n",
    "import numpy as np\n",
    "import pickle\n",
    "import googlemaps\n",
    "import plotly.express as px\n",
    "from geopy.geocoders import Nominatim\n",
    "import time\n",
    "from dotenv import load_dotenv\n",
    "import os\n",
    "\n",
    "env_path = os.path.join(\"..\", \".env\")\n",
    "#print(\"Looking for .env file at:\", os.path.abspath(env_path))\n",
    "load_dotenv(dotenv_path=env_path)\n",
    "\n",
    "# Retrieve the variables\n",
    "GOOGLE_API_KEY = os.getenv(\"GOOGLE_API_KEY\")\n",
    "WORKING_DIR = os.getenv(\"WORKING_DIR\")\n",
    "\n",
    "if GOOGLE_API_KEY is None or WORKING_DIR is None:\n",
    "    raise RuntimeError(\"No configuration found. Please ensure that your .env file exists with the required variables, or create a local config.py file.\")\n",
    "\n",
    "#print(\"Google API Key:\", GOOGLE_API_KEY)\n",
    "#print(\"Working Directory:\", WORKING_DIR)"
   ]
  },
  {
   "cell_type": "markdown",
   "id": "9fc698a5",
   "metadata": {
    "papermill": {
     "duration": 0.003321,
     "end_time": "2025-08-06T01:10:34.034933",
     "exception": false,
     "start_time": "2025-08-06T01:10:34.031612",
     "status": "completed"
    },
    "tags": []
   },
   "source": [
    "## Import Data\n",
    "\n",
    "URL: https://opendata.charlottesville.org/datasets/charlottesville::crime-data/about"
   ]
  },
  {
   "cell_type": "code",
   "execution_count": 2,
   "id": "3cba3ac5",
   "metadata": {
    "execution": {
     "iopub.execute_input": "2025-08-06T01:10:34.042533Z",
     "iopub.status.busy": "2025-08-06T01:10:34.042254Z",
     "iopub.status.idle": "2025-08-06T01:11:41.034445Z",
     "shell.execute_reply": "2025-08-06T01:11:41.033681Z"
    },
    "papermill": {
     "duration": 67.000533,
     "end_time": "2025-08-06T01:11:41.038780",
     "exception": false,
     "start_time": "2025-08-06T01:10:34.038247",
     "status": "completed"
    },
    "tags": []
   },
   "outputs": [
    {
     "name": "stdout",
     "output_type": "stream",
     "text": [
      "Total records imported: 25622\n"
     ]
    }
   ],
   "source": [
    "# Define the endpoint and initial parameters.\n",
    "url = \"https://gisweb.charlottesville.org/arcgis/rest/services/OpenData_2/MapServer/6/query\"\n",
    "params = {\n",
    "    \"where\": \"1=1\",\n",
    "    \"outFields\": \"*\",\n",
    "    \"outSR\": 4326,\n",
    "    \"f\": \"json\",\n",
    "    \"resultOffset\": 0,       # Starting index for results\n",
    "    \"resultRecordCount\": 10000  # Maximum records per batch (if allowed by the API)\n",
    "}\n",
    "\n",
    "records = []\n",
    "\n",
    "while True:\n",
    "    response = requests.get(url, params=params)\n",
    "    response.raise_for_status()\n",
    "    data = response.json()\n",
    "    \n",
    "    # Get the current batch of features.\n",
    "    features = data.get(\"features\", [])\n",
    "    if not features:\n",
    "        break\n",
    "\n",
    "    # Extract the attributes from the features.\n",
    "    batch_records = [feature.get(\"attributes\", {}) for feature in features]\n",
    "    records.extend(batch_records)\n",
    "    \n",
    "    # If the batch size is less than the requested count, we reached the end.\n",
    "    if len(features) < params[\"resultRecordCount\"]:\n",
    "        break\n",
    "\n",
    "    # Update the resultOffset for the next batch.\n",
    "    params[\"resultOffset\"] += params[\"resultRecordCount\"]\n",
    "\n",
    "# Create a DataFrame from the combined records.\n",
    "df = pd.DataFrame(records)\n",
    "print(\"Total records imported:\", len(df))\n"
   ]
  },
  {
   "cell_type": "code",
   "execution_count": 3,
   "id": "cf833550",
   "metadata": {
    "execution": {
     "iopub.execute_input": "2025-08-06T01:11:41.046557Z",
     "iopub.status.busy": "2025-08-06T01:11:41.046359Z",
     "iopub.status.idle": "2025-08-06T01:11:41.058832Z",
     "shell.execute_reply": "2025-08-06T01:11:41.058182Z"
    },
    "papermill": {
     "duration": 0.017612,
     "end_time": "2025-08-06T01:11:41.059923",
     "exception": false,
     "start_time": "2025-08-06T01:11:41.042311",
     "status": "completed"
    },
    "tags": []
   },
   "outputs": [
    {
     "data": {
      "text/html": [
       "<div>\n",
       "<style scoped>\n",
       "    .dataframe tbody tr th:only-of-type {\n",
       "        vertical-align: middle;\n",
       "    }\n",
       "\n",
       "    .dataframe tbody tr th {\n",
       "        vertical-align: top;\n",
       "    }\n",
       "\n",
       "    .dataframe thead th {\n",
       "        text-align: right;\n",
       "    }\n",
       "</style>\n",
       "<table border=\"1\" class=\"dataframe\">\n",
       "  <thead>\n",
       "    <tr style=\"text-align: right;\">\n",
       "      <th></th>\n",
       "      <th>RecordID</th>\n",
       "      <th>Offense</th>\n",
       "      <th>IncidentID</th>\n",
       "      <th>BlockNumber</th>\n",
       "      <th>StreetName</th>\n",
       "      <th>Agency</th>\n",
       "      <th>DateReported</th>\n",
       "      <th>HourReported</th>\n",
       "      <th>ReportingOfficer</th>\n",
       "    </tr>\n",
       "  </thead>\n",
       "  <tbody>\n",
       "    <tr>\n",
       "      <th>0</th>\n",
       "      <td>1</td>\n",
       "      <td>Shots Fired/Illegal Hunting</td>\n",
       "      <td>202500027407</td>\n",
       "      <td>1000</td>\n",
       "      <td>LINDEN AVE</td>\n",
       "      <td>CPD</td>\n",
       "      <td>1754270959000</td>\n",
       "      <td>2129</td>\n",
       "      <td>Khaleefa, Hamzeh</td>\n",
       "    </tr>\n",
       "    <tr>\n",
       "      <th>1</th>\n",
       "      <td>2</td>\n",
       "      <td>Disorderly Conduct</td>\n",
       "      <td>202500027395</td>\n",
       "      <td>500</td>\n",
       "      <td>CHERRY AVE</td>\n",
       "      <td>CPD</td>\n",
       "      <td>1754260952000</td>\n",
       "      <td>1842</td>\n",
       "      <td>Carrasco, Julio</td>\n",
       "    </tr>\n",
       "    <tr>\n",
       "      <th>2</th>\n",
       "      <td>3</td>\n",
       "      <td>Assault Simple</td>\n",
       "      <td>202500027367</td>\n",
       "      <td>1000</td>\n",
       "      <td>PRESTON AVE, A</td>\n",
       "      <td>CPD</td>\n",
       "      <td>1754242708000</td>\n",
       "      <td>1338</td>\n",
       "      <td>Mian, Ghulam</td>\n",
       "    </tr>\n",
       "    <tr>\n",
       "      <th>3</th>\n",
       "      <td>4</td>\n",
       "      <td>Lost/FoundProperty</td>\n",
       "      <td>202500027348</td>\n",
       "      <td>1600</td>\n",
       "      <td>MONTICELLO AVE, F</td>\n",
       "      <td>CPD</td>\n",
       "      <td>1754225180000</td>\n",
       "      <td>0846</td>\n",
       "      <td>Lowry, Ryan</td>\n",
       "    </tr>\n",
       "    <tr>\n",
       "      <th>4</th>\n",
       "      <td>5</td>\n",
       "      <td>Assist Citizen - Mental/TDO/ECO</td>\n",
       "      <td>202500027339</td>\n",
       "      <td>100</td>\n",
       "      <td>PENICK CT</td>\n",
       "      <td>CPD</td>\n",
       "      <td>1754207122000</td>\n",
       "      <td>0345</td>\n",
       "      <td>Whitfield, Dylan</td>\n",
       "    </tr>\n",
       "  </tbody>\n",
       "</table>\n",
       "</div>"
      ],
      "text/plain": [
       "   RecordID                          Offense    IncidentID BlockNumber  \\\n",
       "0         1      Shots Fired/Illegal Hunting  202500027407        1000   \n",
       "1         2               Disorderly Conduct  202500027395         500   \n",
       "2         3                   Assault Simple  202500027367        1000   \n",
       "3         4               Lost/FoundProperty  202500027348        1600   \n",
       "4         5  Assist Citizen - Mental/TDO/ECO  202500027339         100   \n",
       "\n",
       "          StreetName Agency   DateReported HourReported  ReportingOfficer  \n",
       "0         LINDEN AVE    CPD  1754270959000         2129  Khaleefa, Hamzeh  \n",
       "1         CHERRY AVE    CPD  1754260952000         1842   Carrasco, Julio  \n",
       "2     PRESTON AVE, A    CPD  1754242708000         1338      Mian, Ghulam  \n",
       "3  MONTICELLO AVE, F    CPD  1754225180000         0846       Lowry, Ryan  \n",
       "4          PENICK CT    CPD  1754207122000         0345  Whitfield, Dylan  "
      ]
     },
     "execution_count": 3,
     "metadata": {},
     "output_type": "execute_result"
    }
   ],
   "source": [
    "df.head()"
   ]
  },
  {
   "cell_type": "code",
   "execution_count": 4,
   "id": "ffd1d777",
   "metadata": {
    "execution": {
     "iopub.execute_input": "2025-08-06T01:11:41.067932Z",
     "iopub.status.busy": "2025-08-06T01:11:41.067700Z",
     "iopub.status.idle": "2025-08-06T01:11:41.072165Z",
     "shell.execute_reply": "2025-08-06T01:11:41.071513Z"
    },
    "papermill": {
     "duration": 0.009663,
     "end_time": "2025-08-06T01:11:41.073214",
     "exception": false,
     "start_time": "2025-08-06T01:11:41.063551",
     "status": "completed"
    },
    "tags": []
   },
   "outputs": [
    {
     "data": {
      "text/plain": [
       "Index(['RecordID', 'Offense', 'IncidentID', 'BlockNumber', 'StreetName',\n",
       "       'Agency', 'DateReported', 'HourReported', 'ReportingOfficer'],\n",
       "      dtype='object')"
      ]
     },
     "execution_count": 4,
     "metadata": {},
     "output_type": "execute_result"
    }
   ],
   "source": [
    "df.columns"
   ]
  },
  {
   "cell_type": "code",
   "execution_count": 5,
   "id": "6b2dc3b3",
   "metadata": {
    "execution": {
     "iopub.execute_input": "2025-08-06T01:11:41.081342Z",
     "iopub.status.busy": "2025-08-06T01:11:41.081114Z",
     "iopub.status.idle": "2025-08-06T01:11:41.103273Z",
     "shell.execute_reply": "2025-08-06T01:11:41.102587Z"
    },
    "papermill": {
     "duration": 0.027282,
     "end_time": "2025-08-06T01:11:41.104278",
     "exception": false,
     "start_time": "2025-08-06T01:11:41.076996",
     "status": "completed"
    },
    "tags": []
   },
   "outputs": [
    {
     "name": "stdout",
     "output_type": "stream",
     "text": [
      "<class 'pandas.core.frame.DataFrame'>\n",
      "RangeIndex: 25622 entries, 0 to 25621\n",
      "Data columns (total 9 columns):\n",
      " #   Column            Non-Null Count  Dtype \n",
      "---  ------            --------------  ----- \n",
      " 0   RecordID          25622 non-null  int64 \n",
      " 1   Offense           25622 non-null  object\n",
      " 2   IncidentID        25622 non-null  object\n",
      " 3   BlockNumber       25622 non-null  object\n",
      " 4   StreetName        25622 non-null  object\n",
      " 5   Agency            25622 non-null  object\n",
      " 6   DateReported      25622 non-null  int64 \n",
      " 7   HourReported      25622 non-null  object\n",
      " 8   ReportingOfficer  25606 non-null  object\n",
      "dtypes: int64(2), object(7)\n",
      "memory usage: 1.8+ MB\n"
     ]
    }
   ],
   "source": [
    "df.info()"
   ]
  },
  {
   "cell_type": "markdown",
   "id": "7090ca6f",
   "metadata": {
    "papermill": {
     "duration": 0.003813,
     "end_time": "2025-08-06T01:11:41.111977",
     "exception": false,
     "start_time": "2025-08-06T01:11:41.108164",
     "status": "completed"
    },
    "tags": []
   },
   "source": [
    "### Missing Values"
   ]
  },
  {
   "cell_type": "code",
   "execution_count": 6,
   "id": "e37a5677",
   "metadata": {
    "execution": {
     "iopub.execute_input": "2025-08-06T01:11:41.120124Z",
     "iopub.status.busy": "2025-08-06T01:11:41.119927Z",
     "iopub.status.idle": "2025-08-06T01:11:41.139090Z",
     "shell.execute_reply": "2025-08-06T01:11:41.138427Z"
    },
    "papermill": {
     "duration": 0.024487,
     "end_time": "2025-08-06T01:11:41.140153",
     "exception": false,
     "start_time": "2025-08-06T01:11:41.115666",
     "status": "completed"
    },
    "tags": []
   },
   "outputs": [
    {
     "name": "stdout",
     "output_type": "stream",
     "text": [
      "                  MissingCount  MissingPercentage\n",
      "RecordID                     0               0.00\n",
      "Offense                      0               0.00\n",
      "IncidentID                   0               0.00\n",
      "BlockNumber                  0               0.00\n",
      "StreetName                   0               0.00\n",
      "Agency                       0               0.00\n",
      "DateReported                 0               0.00\n",
      "HourReported                 0               0.00\n",
      "ReportingOfficer            16               0.06\n"
     ]
    }
   ],
   "source": [
    "def missing_percentage(df):\n",
    "    \"\"\"\n",
    "    Returns a DataFrame with the count and percentage of missing values for each column.\n",
    "    \n",
    "    Parameters:\n",
    "        df (pd.DataFrame): The input DataFrame.\n",
    "    \n",
    "    Returns:\n",
    "        pd.DataFrame: A DataFrame with columns 'MissingCount' and 'MissingPercentage'.\n",
    "    \"\"\"\n",
    "    total_rows = len(df)\n",
    "    missing_count = df.isnull().sum()\n",
    "    missing_percent = (missing_count / total_rows) * 100\n",
    "    \n",
    "    result = pd.DataFrame({\n",
    "        'MissingCount': missing_count,\n",
    "        'MissingPercentage': missing_percent.round(2)\n",
    "    })\n",
    "    \n",
    "    return result\n",
    "\n",
    "# Example usage:\n",
    "missing_info = missing_percentage(df)\n",
    "print(missing_info)\n"
   ]
  },
  {
   "cell_type": "markdown",
   "id": "2fe7e208",
   "metadata": {
    "papermill": {
     "duration": 0.003794,
     "end_time": "2025-08-06T01:11:41.148051",
     "exception": false,
     "start_time": "2025-08-06T01:11:41.144257",
     "status": "completed"
    },
    "tags": []
   },
   "source": [
    "## Data Preparation"
   ]
  },
  {
   "cell_type": "markdown",
   "id": "4bfb0826",
   "metadata": {
    "papermill": {
     "duration": 0.003785,
     "end_time": "2025-08-06T01:11:41.155590",
     "exception": false,
     "start_time": "2025-08-06T01:11:41.151805",
     "status": "completed"
    },
    "tags": []
   },
   "source": [
    "### Data Conversion"
   ]
  },
  {
   "cell_type": "code",
   "execution_count": 7,
   "id": "fbf9cca2",
   "metadata": {
    "execution": {
     "iopub.execute_input": "2025-08-06T01:11:41.163993Z",
     "iopub.status.busy": "2025-08-06T01:11:41.163778Z",
     "iopub.status.idle": "2025-08-06T01:11:41.525117Z",
     "shell.execute_reply": "2025-08-06T01:11:41.524388Z"
    },
    "papermill": {
     "duration": 0.366779,
     "end_time": "2025-08-06T01:11:41.526235",
     "exception": false,
     "start_time": "2025-08-06T01:11:41.159456",
     "status": "completed"
    },
    "tags": []
   },
   "outputs": [
    {
     "data": {
      "text/html": [
       "<div>\n",
       "<style scoped>\n",
       "    .dataframe tbody tr th:only-of-type {\n",
       "        vertical-align: middle;\n",
       "    }\n",
       "\n",
       "    .dataframe tbody tr th {\n",
       "        vertical-align: top;\n",
       "    }\n",
       "\n",
       "    .dataframe thead th {\n",
       "        text-align: right;\n",
       "    }\n",
       "</style>\n",
       "<table border=\"1\" class=\"dataframe\">\n",
       "  <thead>\n",
       "    <tr style=\"text-align: right;\">\n",
       "      <th></th>\n",
       "      <th>RecordID</th>\n",
       "      <th>Offense</th>\n",
       "      <th>IncidentID</th>\n",
       "      <th>BlockNumber</th>\n",
       "      <th>StreetName</th>\n",
       "      <th>Agency</th>\n",
       "      <th>HourReported</th>\n",
       "      <th>ReportingOfficer</th>\n",
       "      <th>Date</th>\n",
       "      <th>DateString</th>\n",
       "      <th>DayOfWeek</th>\n",
       "      <th>Weekend</th>\n",
       "      <th>Season</th>\n",
       "      <th>HourAMPM</th>\n",
       "      <th>TimeOfDay</th>\n",
       "    </tr>\n",
       "  </thead>\n",
       "  <tbody>\n",
       "    <tr>\n",
       "      <th>0</th>\n",
       "      <td>1</td>\n",
       "      <td>Shots Fired/Illegal Hunting</td>\n",
       "      <td>202500027407</td>\n",
       "      <td>1000</td>\n",
       "      <td>LINDEN AVE</td>\n",
       "      <td>CPD</td>\n",
       "      <td>2129</td>\n",
       "      <td>Khaleefa, Hamzeh</td>\n",
       "      <td>2025-08-03 21:29:19</td>\n",
       "      <td>2025-08-03 09:29:19 PM</td>\n",
       "      <td>Sunday</td>\n",
       "      <td>True</td>\n",
       "      <td>Summer</td>\n",
       "      <td>09:29 PM</td>\n",
       "      <td>Night</td>\n",
       "    </tr>\n",
       "    <tr>\n",
       "      <th>1</th>\n",
       "      <td>2</td>\n",
       "      <td>Disorderly Conduct</td>\n",
       "      <td>202500027395</td>\n",
       "      <td>500</td>\n",
       "      <td>CHERRY AVE</td>\n",
       "      <td>CPD</td>\n",
       "      <td>1842</td>\n",
       "      <td>Carrasco, Julio</td>\n",
       "      <td>2025-08-03 18:42:32</td>\n",
       "      <td>2025-08-03 06:42:32 PM</td>\n",
       "      <td>Sunday</td>\n",
       "      <td>True</td>\n",
       "      <td>Summer</td>\n",
       "      <td>06:42 PM</td>\n",
       "      <td>Evening</td>\n",
       "    </tr>\n",
       "    <tr>\n",
       "      <th>2</th>\n",
       "      <td>3</td>\n",
       "      <td>Assault Simple</td>\n",
       "      <td>202500027367</td>\n",
       "      <td>1000</td>\n",
       "      <td>PRESTON AVE, A</td>\n",
       "      <td>CPD</td>\n",
       "      <td>1338</td>\n",
       "      <td>Mian, Ghulam</td>\n",
       "      <td>2025-08-03 13:38:28</td>\n",
       "      <td>2025-08-03 01:38:28 PM</td>\n",
       "      <td>Sunday</td>\n",
       "      <td>True</td>\n",
       "      <td>Summer</td>\n",
       "      <td>01:38 PM</td>\n",
       "      <td>Afternoon</td>\n",
       "    </tr>\n",
       "    <tr>\n",
       "      <th>3</th>\n",
       "      <td>4</td>\n",
       "      <td>Lost/FoundProperty</td>\n",
       "      <td>202500027348</td>\n",
       "      <td>1600</td>\n",
       "      <td>MONTICELLO AVE, F</td>\n",
       "      <td>CPD</td>\n",
       "      <td>0846</td>\n",
       "      <td>Lowry, Ryan</td>\n",
       "      <td>2025-08-03 08:46:20</td>\n",
       "      <td>2025-08-03 08:46:20 AM</td>\n",
       "      <td>Sunday</td>\n",
       "      <td>True</td>\n",
       "      <td>Summer</td>\n",
       "      <td>08:46 AM</td>\n",
       "      <td>Morning</td>\n",
       "    </tr>\n",
       "    <tr>\n",
       "      <th>4</th>\n",
       "      <td>5</td>\n",
       "      <td>Assist Citizen - Mental/TDO/ECO</td>\n",
       "      <td>202500027339</td>\n",
       "      <td>100</td>\n",
       "      <td>PENICK CT</td>\n",
       "      <td>CPD</td>\n",
       "      <td>0345</td>\n",
       "      <td>Whitfield, Dylan</td>\n",
       "      <td>2025-08-03 03:45:22</td>\n",
       "      <td>2025-08-03 03:45:22 AM</td>\n",
       "      <td>Sunday</td>\n",
       "      <td>True</td>\n",
       "      <td>Summer</td>\n",
       "      <td>03:45 AM</td>\n",
       "      <td>Night</td>\n",
       "    </tr>\n",
       "  </tbody>\n",
       "</table>\n",
       "</div>"
      ],
      "text/plain": [
       "   RecordID                          Offense    IncidentID BlockNumber  \\\n",
       "0         1      Shots Fired/Illegal Hunting  202500027407        1000   \n",
       "1         2               Disorderly Conduct  202500027395         500   \n",
       "2         3                   Assault Simple  202500027367        1000   \n",
       "3         4               Lost/FoundProperty  202500027348        1600   \n",
       "4         5  Assist Citizen - Mental/TDO/ECO  202500027339         100   \n",
       "\n",
       "          StreetName Agency HourReported  ReportingOfficer  \\\n",
       "0         LINDEN AVE    CPD         2129  Khaleefa, Hamzeh   \n",
       "1         CHERRY AVE    CPD         1842   Carrasco, Julio   \n",
       "2     PRESTON AVE, A    CPD         1338      Mian, Ghulam   \n",
       "3  MONTICELLO AVE, F    CPD         0846       Lowry, Ryan   \n",
       "4          PENICK CT    CPD         0345  Whitfield, Dylan   \n",
       "\n",
       "                 Date              DateString DayOfWeek  Weekend  Season  \\\n",
       "0 2025-08-03 21:29:19  2025-08-03 09:29:19 PM    Sunday     True  Summer   \n",
       "1 2025-08-03 18:42:32  2025-08-03 06:42:32 PM    Sunday     True  Summer   \n",
       "2 2025-08-03 13:38:28  2025-08-03 01:38:28 PM    Sunday     True  Summer   \n",
       "3 2025-08-03 08:46:20  2025-08-03 08:46:20 AM    Sunday     True  Summer   \n",
       "4 2025-08-03 03:45:22  2025-08-03 03:45:22 AM    Sunday     True  Summer   \n",
       "\n",
       "   HourAMPM  TimeOfDay  \n",
       "0  09:29 PM      Night  \n",
       "1  06:42 PM    Evening  \n",
       "2  01:38 PM  Afternoon  \n",
       "3  08:46 AM    Morning  \n",
       "4  03:45 AM      Night  "
      ]
     },
     "execution_count": 7,
     "metadata": {},
     "output_type": "execute_result"
    }
   ],
   "source": [
    "def convert_and_categorize_datereported(df, col='DateReported'):\n",
    "    \"\"\"\n",
    "    Converts an epoch (in milliseconds) date column into a timezone-aware datetime,\n",
    "    converts it to Eastern Time, and then creates columns for day-of-week, weekend flag,\n",
    "    season, 12-hour formatted time, and time-of-day. Keeps both a real datetime column\n",
    "    (Date) and a string representation (DateString).\n",
    "    \"\"\"\n",
    "    import pandas as pd\n",
    "\n",
    "    # Convert the epoch timestamp to a pandas datetime object as UTC, then convert to US/Eastern.\n",
    "    df[\"DateReported_dt\"] = (\n",
    "        pd.to_datetime(df[col], unit=\"ms\", errors=\"coerce\", utc=True)\n",
    "        .dt.tz_convert(\"US/Eastern\")\n",
    "    )\n",
    "    \n",
    "    # Create a true datetime column (remove timezone if you prefer naive datetime)\n",
    "    df[\"Date\"] = df[\"DateReported_dt\"].dt.tz_localize(None)\n",
    "\n",
    "    # Optionally, create a separate string-formatted column\n",
    "    df[\"DateString\"] = df[\"DateReported_dt\"].dt.strftime(\"%Y-%m-%d %I:%M:%S %p\")\n",
    "    \n",
    "    # DayOfWeek\n",
    "    df[\"DayOfWeek\"] = df[\"DateReported_dt\"].dt.day_name()\n",
    "    \n",
    "    # Weekend\n",
    "    df[\"Weekend\"] = df[\"DayOfWeek\"].isin([\"Saturday\", \"Sunday\"])\n",
    "    \n",
    "    # Helper function to determine the season\n",
    "    def get_season(dt):\n",
    "        month = dt.month\n",
    "        day = dt.day\n",
    "        # Approximate Northern Hemisphere season boundaries:\n",
    "        if (month == 12 and day >= 21) or (month < 3) or (month == 3 and day < 20):\n",
    "            return \"Winter\"\n",
    "        elif (month == 3 and day >= 20) or (month < 6) or (month == 6 and day < 21):\n",
    "            return \"Spring\"\n",
    "        elif (month == 6 and day >= 21) or (month < 9) or (month == 9 and day < 22):\n",
    "            return \"Summer\"\n",
    "        else:\n",
    "            return \"Autumn\"\n",
    "    \n",
    "    df[\"Season\"] = df[\"DateReported_dt\"].apply(get_season)\n",
    "    \n",
    "    # 12-hour formatted time (HourAMPM)\n",
    "    df[\"HourAMPM\"] = df[\"DateReported_dt\"].dt.strftime(\"%I:%M %p\")\n",
    "    \n",
    "    # Extract hour (0-23) for time-of-day\n",
    "    df[\"HourValue\"] = df[\"DateReported_dt\"].dt.hour\n",
    "    \n",
    "    def time_of_day(hour):\n",
    "        if pd.isnull(hour):\n",
    "            return None\n",
    "        if 5 <= hour < 12:\n",
    "            return \"Morning\"\n",
    "        elif 12 <= hour < 17:\n",
    "            return \"Afternoon\"\n",
    "        elif 17 <= hour < 21:\n",
    "            return \"Evening\"\n",
    "        else:\n",
    "            return \"Night\"\n",
    "    \n",
    "    df[\"TimeOfDay\"] = df[\"HourValue\"].apply(time_of_day)\n",
    "    \n",
    "    # Drop columns you no longer need\n",
    "    df.drop(columns=[col, \"DateReported_dt\", \"HourValue\"], inplace=True)\n",
    "    \n",
    "    return df\n",
    "\n",
    "# Example usage:\n",
    "df = convert_and_categorize_datereported(df)\n",
    "df.head()\n"
   ]
  },
  {
   "cell_type": "code",
   "execution_count": 8,
   "id": "61817c2b",
   "metadata": {
    "execution": {
     "iopub.execute_input": "2025-08-06T01:11:41.535574Z",
     "iopub.status.busy": "2025-08-06T01:11:41.535378Z",
     "iopub.status.idle": "2025-08-06T01:11:41.560364Z",
     "shell.execute_reply": "2025-08-06T01:11:41.559701Z"
    },
    "papermill": {
     "duration": 0.030716,
     "end_time": "2025-08-06T01:11:41.561353",
     "exception": false,
     "start_time": "2025-08-06T01:11:41.530637",
     "status": "completed"
    },
    "tags": []
   },
   "outputs": [
    {
     "name": "stdout",
     "output_type": "stream",
     "text": [
      "<class 'pandas.core.frame.DataFrame'>\n",
      "RangeIndex: 25622 entries, 0 to 25621\n",
      "Data columns (total 15 columns):\n",
      " #   Column            Non-Null Count  Dtype         \n",
      "---  ------            --------------  -----         \n",
      " 0   RecordID          25622 non-null  int64         \n",
      " 1   Offense           25622 non-null  object        \n",
      " 2   IncidentID        25622 non-null  object        \n",
      " 3   BlockNumber       25622 non-null  object        \n",
      " 4   StreetName        25622 non-null  object        \n",
      " 5   Agency            25622 non-null  object        \n",
      " 6   HourReported      25622 non-null  object        \n",
      " 7   ReportingOfficer  25606 non-null  object        \n",
      " 8   Date              25622 non-null  datetime64[ns]\n",
      " 9   DateString        25622 non-null  object        \n",
      " 10  DayOfWeek         25622 non-null  object        \n",
      " 11  Weekend           25622 non-null  bool          \n",
      " 12  Season            25622 non-null  object        \n",
      " 13  HourAMPM          25622 non-null  object        \n",
      " 14  TimeOfDay         25622 non-null  object        \n",
      "dtypes: bool(1), datetime64[ns](1), int64(1), object(12)\n",
      "memory usage: 2.8+ MB\n"
     ]
    }
   ],
   "source": [
    "df.info()"
   ]
  },
  {
   "cell_type": "markdown",
   "id": "cdb6ab3f",
   "metadata": {
    "papermill": {
     "duration": 0.004059,
     "end_time": "2025-08-06T01:11:41.569712",
     "exception": false,
     "start_time": "2025-08-06T01:11:41.565653",
     "status": "completed"
    },
    "tags": []
   },
   "source": [
    "### Coordinates"
   ]
  },
  {
   "cell_type": "code",
   "execution_count": 9,
   "id": "7ff75471",
   "metadata": {
    "execution": {
     "iopub.execute_input": "2025-08-06T01:11:41.578737Z",
     "iopub.status.busy": "2025-08-06T01:11:41.578526Z",
     "iopub.status.idle": "2025-08-06T01:11:41.620871Z",
     "shell.execute_reply": "2025-08-06T01:11:41.620225Z"
    },
    "papermill": {
     "duration": 0.048049,
     "end_time": "2025-08-06T01:11:41.621865",
     "exception": false,
     "start_time": "2025-08-06T01:11:41.573816",
     "status": "completed"
    },
    "tags": []
   },
   "outputs": [
    {
     "name": "stdout",
     "output_type": "stream",
     "text": [
      "Loaded geocode cache.\n",
      "Geocode cache updated and saved.\n"
     ]
    },
    {
     "data": {
      "text/html": [
       "<div>\n",
       "<style scoped>\n",
       "    .dataframe tbody tr th:only-of-type {\n",
       "        vertical-align: middle;\n",
       "    }\n",
       "\n",
       "    .dataframe tbody tr th {\n",
       "        vertical-align: top;\n",
       "    }\n",
       "\n",
       "    .dataframe thead th {\n",
       "        text-align: right;\n",
       "    }\n",
       "</style>\n",
       "<table border=\"1\" class=\"dataframe\">\n",
       "  <thead>\n",
       "    <tr style=\"text-align: right;\">\n",
       "      <th></th>\n",
       "      <th>RecordID</th>\n",
       "      <th>Offense</th>\n",
       "      <th>IncidentID</th>\n",
       "      <th>BlockNumber</th>\n",
       "      <th>StreetName</th>\n",
       "      <th>Agency</th>\n",
       "      <th>HourReported</th>\n",
       "      <th>ReportingOfficer</th>\n",
       "      <th>Date</th>\n",
       "      <th>DateString</th>\n",
       "      <th>DayOfWeek</th>\n",
       "      <th>Weekend</th>\n",
       "      <th>Season</th>\n",
       "      <th>HourAMPM</th>\n",
       "      <th>TimeOfDay</th>\n",
       "      <th>FullStreet</th>\n",
       "      <th>lat</th>\n",
       "      <th>lon</th>\n",
       "    </tr>\n",
       "  </thead>\n",
       "  <tbody>\n",
       "    <tr>\n",
       "      <th>0</th>\n",
       "      <td>1</td>\n",
       "      <td>Shots Fired/Illegal Hunting</td>\n",
       "      <td>202500027407</td>\n",
       "      <td>1000</td>\n",
       "      <td>LINDEN AVE</td>\n",
       "      <td>CPD</td>\n",
       "      <td>2129</td>\n",
       "      <td>Khaleefa, Hamzeh</td>\n",
       "      <td>2025-08-03 21:29:19</td>\n",
       "      <td>2025-08-03 09:29:19 PM</td>\n",
       "      <td>Sunday</td>\n",
       "      <td>True</td>\n",
       "      <td>Summer</td>\n",
       "      <td>09:29 PM</td>\n",
       "      <td>Night</td>\n",
       "      <td>1000 LINDEN AVE</td>\n",
       "      <td>38.014255</td>\n",
       "      <td>-78.470047</td>\n",
       "    </tr>\n",
       "    <tr>\n",
       "      <th>1</th>\n",
       "      <td>2</td>\n",
       "      <td>Disorderly Conduct</td>\n",
       "      <td>202500027395</td>\n",
       "      <td>500</td>\n",
       "      <td>CHERRY AVE</td>\n",
       "      <td>CPD</td>\n",
       "      <td>1842</td>\n",
       "      <td>Carrasco, Julio</td>\n",
       "      <td>2025-08-03 18:42:32</td>\n",
       "      <td>2025-08-03 06:42:32 PM</td>\n",
       "      <td>Sunday</td>\n",
       "      <td>True</td>\n",
       "      <td>Summer</td>\n",
       "      <td>06:42 PM</td>\n",
       "      <td>Evening</td>\n",
       "      <td>500 CHERRY AVE</td>\n",
       "      <td>38.026066</td>\n",
       "      <td>-78.490892</td>\n",
       "    </tr>\n",
       "    <tr>\n",
       "      <th>2</th>\n",
       "      <td>3</td>\n",
       "      <td>Assault Simple</td>\n",
       "      <td>202500027367</td>\n",
       "      <td>1000</td>\n",
       "      <td>PRESTON AVE, A</td>\n",
       "      <td>CPD</td>\n",
       "      <td>1338</td>\n",
       "      <td>Mian, Ghulam</td>\n",
       "      <td>2025-08-03 13:38:28</td>\n",
       "      <td>2025-08-03 01:38:28 PM</td>\n",
       "      <td>Sunday</td>\n",
       "      <td>True</td>\n",
       "      <td>Summer</td>\n",
       "      <td>01:38 PM</td>\n",
       "      <td>Afternoon</td>\n",
       "      <td>1000 PRESTON AVE, A</td>\n",
       "      <td>38.039264</td>\n",
       "      <td>-78.491428</td>\n",
       "    </tr>\n",
       "    <tr>\n",
       "      <th>3</th>\n",
       "      <td>4</td>\n",
       "      <td>Lost/FoundProperty</td>\n",
       "      <td>202500027348</td>\n",
       "      <td>1600</td>\n",
       "      <td>MONTICELLO AVE, F</td>\n",
       "      <td>CPD</td>\n",
       "      <td>0846</td>\n",
       "      <td>Lowry, Ryan</td>\n",
       "      <td>2025-08-03 08:46:20</td>\n",
       "      <td>2025-08-03 08:46:20 AM</td>\n",
       "      <td>Sunday</td>\n",
       "      <td>True</td>\n",
       "      <td>Summer</td>\n",
       "      <td>08:46 AM</td>\n",
       "      <td>Morning</td>\n",
       "      <td>1600 MONTICELLO AVE, F</td>\n",
       "      <td>38.016118</td>\n",
       "      <td>-78.475877</td>\n",
       "    </tr>\n",
       "    <tr>\n",
       "      <th>4</th>\n",
       "      <td>5</td>\n",
       "      <td>Assist Citizen - Mental/TDO/ECO</td>\n",
       "      <td>202500027339</td>\n",
       "      <td>100</td>\n",
       "      <td>PENICK CT</td>\n",
       "      <td>CPD</td>\n",
       "      <td>0345</td>\n",
       "      <td>Whitfield, Dylan</td>\n",
       "      <td>2025-08-03 03:45:22</td>\n",
       "      <td>2025-08-03 03:45:22 AM</td>\n",
       "      <td>Sunday</td>\n",
       "      <td>True</td>\n",
       "      <td>Summer</td>\n",
       "      <td>03:45 AM</td>\n",
       "      <td>Night</td>\n",
       "      <td>100 PENICK CT</td>\n",
       "      <td>38.025125</td>\n",
       "      <td>-78.488221</td>\n",
       "    </tr>\n",
       "  </tbody>\n",
       "</table>\n",
       "</div>"
      ],
      "text/plain": [
       "   RecordID                          Offense    IncidentID BlockNumber  \\\n",
       "0         1      Shots Fired/Illegal Hunting  202500027407        1000   \n",
       "1         2               Disorderly Conduct  202500027395         500   \n",
       "2         3                   Assault Simple  202500027367        1000   \n",
       "3         4               Lost/FoundProperty  202500027348        1600   \n",
       "4         5  Assist Citizen - Mental/TDO/ECO  202500027339         100   \n",
       "\n",
       "          StreetName Agency HourReported  ReportingOfficer  \\\n",
       "0         LINDEN AVE    CPD         2129  Khaleefa, Hamzeh   \n",
       "1         CHERRY AVE    CPD         1842   Carrasco, Julio   \n",
       "2     PRESTON AVE, A    CPD         1338      Mian, Ghulam   \n",
       "3  MONTICELLO AVE, F    CPD         0846       Lowry, Ryan   \n",
       "4          PENICK CT    CPD         0345  Whitfield, Dylan   \n",
       "\n",
       "                 Date              DateString DayOfWeek  Weekend  Season  \\\n",
       "0 2025-08-03 21:29:19  2025-08-03 09:29:19 PM    Sunday     True  Summer   \n",
       "1 2025-08-03 18:42:32  2025-08-03 06:42:32 PM    Sunday     True  Summer   \n",
       "2 2025-08-03 13:38:28  2025-08-03 01:38:28 PM    Sunday     True  Summer   \n",
       "3 2025-08-03 08:46:20  2025-08-03 08:46:20 AM    Sunday     True  Summer   \n",
       "4 2025-08-03 03:45:22  2025-08-03 03:45:22 AM    Sunday     True  Summer   \n",
       "\n",
       "   HourAMPM  TimeOfDay              FullStreet        lat        lon  \n",
       "0  09:29 PM      Night         1000 LINDEN AVE  38.014255 -78.470047  \n",
       "1  06:42 PM    Evening          500 CHERRY AVE  38.026066 -78.490892  \n",
       "2  01:38 PM  Afternoon     1000 PRESTON AVE, A  38.039264 -78.491428  \n",
       "3  08:46 AM    Morning  1600 MONTICELLO AVE, F  38.016118 -78.475877  \n",
       "4  03:45 AM      Night           100 PENICK CT  38.025125 -78.488221  "
      ]
     },
     "execution_count": 9,
     "metadata": {},
     "output_type": "execute_result"
    }
   ],
   "source": [
    "# Combine BlockNumber and StreetName into a full address string\n",
    "df['FullStreet'] = df['BlockNumber'].astype(str) + \" \" + df['StreetName']\n",
    "\n",
    "# --- Step 1: Setup the Google Maps Client and Cache ---\n",
    "gmaps = googlemaps.Client(key=GOOGLE_API_KEY)\n",
    "\n",
    "# Try to load cached geocoding results if available.\n",
    "try:\n",
    "    with open(\"geocode_cache_google.pkl\", \"rb\") as f:\n",
    "        street_coords = pickle.load(f)\n",
    "    print(\"Loaded geocode cache.\")\n",
    "except FileNotFoundError:\n",
    "    street_coords = {}\n",
    "    print(\"No cache found; starting fresh.\")\n",
    "\n",
    "def geocode_address(address):\n",
    "    try:\n",
    "        # Append city and state to help geocoding\n",
    "        result = gmaps.geocode(f\"{address}, Charlottesville, VA\")\n",
    "        if result:\n",
    "            lat = result[0]['geometry']['location']['lat']\n",
    "            lon = result[0]['geometry']['location']['lng']\n",
    "            return lat, lon\n",
    "    except Exception as e:\n",
    "        print(f\"Error geocoding {address}: {e}\")\n",
    "    return None, None\n",
    "\n",
    "# --- Step 2: Geocode Only New Addresses ---\n",
    "unique_addresses = df['FullStreet'].unique()\n",
    "for address in unique_addresses:\n",
    "    if address not in street_coords:\n",
    "        lat, lon = geocode_address(address)\n",
    "        street_coords[address] = (lat, lon)\n",
    "        print(f\"Geocoded {address}: {lat}, {lon}\")\n",
    "\n",
    "# Save the updated cache to disk.\n",
    "with open(\"geocode_cache_google.pkl\", \"wb\") as f:\n",
    "    pickle.dump(street_coords, f)\n",
    "    print(\"Geocode cache updated and saved.\")\n",
    "\n",
    "# --- Step 3: Map Coordinates Back to DataFrame ---\n",
    "df['lat'] = df['FullStreet'].map(lambda s: street_coords.get(s, (None, None))[0])\n",
    "df['lon'] = df['FullStreet'].map(lambda s: street_coords.get(s, (None, None))[1])\n",
    "\n",
    "df.head()"
   ]
  },
  {
   "cell_type": "markdown",
   "id": "df404d9f",
   "metadata": {
    "papermill": {
     "duration": 0.004359,
     "end_time": "2025-08-06T01:11:41.630815",
     "exception": false,
     "start_time": "2025-08-06T01:11:41.626456",
     "status": "completed"
    },
    "tags": []
   },
   "source": [
    "### Neighborhood"
   ]
  },
  {
   "cell_type": "code",
   "execution_count": 10,
   "id": "c58a759c",
   "metadata": {
    "execution": {
     "iopub.execute_input": "2025-08-06T01:11:41.640587Z",
     "iopub.status.busy": "2025-08-06T01:11:41.640354Z",
     "iopub.status.idle": "2025-08-06T01:11:43.602156Z",
     "shell.execute_reply": "2025-08-06T01:11:43.601437Z"
    },
    "papermill": {
     "duration": 1.967911,
     "end_time": "2025-08-06T01:11:43.603190",
     "exception": false,
     "start_time": "2025-08-06T01:11:41.635279",
     "status": "completed"
    },
    "tags": []
   },
   "outputs": [
    {
     "name": "stdout",
     "output_type": "stream",
     "text": [
      "Loaded neighborhood cache.\n"
     ]
    },
    {
     "name": "stdout",
     "output_type": "stream",
     "text": [
      "Error getting neighborhood for nan, nan: HTTP Error: 400\n"
     ]
    },
    {
     "name": "stdout",
     "output_type": "stream",
     "text": [
      "Error getting neighborhood for nan, nan: HTTP Error: 400\n",
      "Error getting neighborhood for nan, nan: HTTP Error: 400\n"
     ]
    },
    {
     "name": "stdout",
     "output_type": "stream",
     "text": [
      "Error getting neighborhood for nan, nan: HTTP Error: 400\n",
      "Error getting neighborhood for nan, nan: HTTP Error: 400\n",
      "Error getting neighborhood for nan, nan: HTTP Error: 400\n"
     ]
    },
    {
     "name": "stdout",
     "output_type": "stream",
     "text": [
      "Error getting neighborhood for nan, nan: HTTP Error: 400\n"
     ]
    },
    {
     "name": "stdout",
     "output_type": "stream",
     "text": [
      "Error getting neighborhood for nan, nan: HTTP Error: 400\n",
      "Error getting neighborhood for nan, nan: HTTP Error: 400\n",
      "Error getting neighborhood for nan, nan: HTTP Error: 400\n"
     ]
    },
    {
     "name": "stdout",
     "output_type": "stream",
     "text": [
      "Error getting neighborhood for nan, nan: HTTP Error: 400\n",
      "Error getting neighborhood for nan, nan: HTTP Error: 400\n",
      "Error getting neighborhood for nan, nan: HTTP Error: 400\n",
      "Error getting neighborhood for nan, nan: HTTP Error: 400\n",
      "Error getting neighborhood for nan, nan: HTTP Error: 400\n"
     ]
    },
    {
     "name": "stdout",
     "output_type": "stream",
     "text": [
      "Error getting neighborhood for nan, nan: HTTP Error: 400\n",
      "Error getting neighborhood for nan, nan: HTTP Error: 400\n"
     ]
    },
    {
     "name": "stdout",
     "output_type": "stream",
     "text": [
      "Error getting neighborhood for nan, nan: HTTP Error: 400\n",
      "Error getting neighborhood for nan, nan: HTTP Error: 400\n",
      "Error getting neighborhood for nan, nan: HTTP Error: 400\n",
      "Error getting neighborhood for nan, nan: HTTP Error: 400\n"
     ]
    },
    {
     "name": "stdout",
     "output_type": "stream",
     "text": [
      "Error getting neighborhood for nan, nan: HTTP Error: 400\n",
      "Error getting neighborhood for nan, nan: HTTP Error: 400\n",
      "Error getting neighborhood for nan, nan: HTTP Error: 400\n",
      "Error getting neighborhood for nan, nan: HTTP Error: 400\n",
      "Error getting neighborhood for nan, nan: HTTP Error: 400\n",
      "Error getting neighborhood for nan, nan: HTTP Error: 400\n"
     ]
    },
    {
     "name": "stdout",
     "output_type": "stream",
     "text": [
      "Error getting neighborhood for nan, nan: HTTP Error: 400\n",
      "Error getting neighborhood for nan, nan: HTTP Error: 400\n"
     ]
    },
    {
     "name": "stdout",
     "output_type": "stream",
     "text": [
      "Error getting neighborhood for nan, nan: HTTP Error: 400\n",
      "Error getting neighborhood for nan, nan: HTTP Error: 400\n",
      "Error getting neighborhood for nan, nan: HTTP Error: 400\n",
      "Error getting neighborhood for nan, nan: HTTP Error: 400\n"
     ]
    },
    {
     "name": "stdout",
     "output_type": "stream",
     "text": [
      "Error getting neighborhood for nan, nan: HTTP Error: 400\n",
      "Error getting neighborhood for nan, nan: HTTP Error: 400\n",
      "Error getting neighborhood for nan, nan: HTTP Error: 400\n",
      "Error getting neighborhood for nan, nan: HTTP Error: 400\n",
      "Error getting neighborhood for nan, nan: HTTP Error: 400\n",
      "Error getting neighborhood for nan, nan: HTTP Error: 400\n"
     ]
    },
    {
     "name": "stdout",
     "output_type": "stream",
     "text": [
      "Error getting neighborhood for nan, nan: HTTP Error: 400\n",
      "Error getting neighborhood for nan, nan: HTTP Error: 400\n"
     ]
    },
    {
     "name": "stdout",
     "output_type": "stream",
     "text": [
      "Error getting neighborhood for nan, nan: HTTP Error: 400\n",
      "Error getting neighborhood for nan, nan: HTTP Error: 400\n",
      "Error getting neighborhood for nan, nan: HTTP Error: 400\n",
      "Error getting neighborhood for nan, nan: HTTP Error: 400\n"
     ]
    },
    {
     "name": "stdout",
     "output_type": "stream",
     "text": [
      "Error getting neighborhood for nan, nan: HTTP Error: 400\n",
      "Error getting neighborhood for nan, nan: HTTP Error: 400\n",
      "Error getting neighborhood for nan, nan: HTTP Error: 400\n",
      "Error getting neighborhood for nan, nan: HTTP Error: 400\n",
      "Error getting neighborhood for nan, nan: HTTP Error: 400\n",
      "Error getting neighborhood for nan, nan: HTTP Error: 400\n"
     ]
    },
    {
     "name": "stdout",
     "output_type": "stream",
     "text": [
      "Error getting neighborhood for nan, nan: HTTP Error: 400\n",
      "Error getting neighborhood for nan, nan: HTTP Error: 400\n"
     ]
    },
    {
     "name": "stdout",
     "output_type": "stream",
     "text": [
      "Error getting neighborhood for nan, nan: HTTP Error: 400\n",
      "Error getting neighborhood for nan, nan: HTTP Error: 400\n",
      "Error getting neighborhood for nan, nan: HTTP Error: 400\n",
      "Error getting neighborhood for nan, nan: HTTP Error: 400\n"
     ]
    },
    {
     "name": "stdout",
     "output_type": "stream",
     "text": [
      "Error getting neighborhood for nan, nan: HTTP Error: 400\n",
      "Error getting neighborhood for nan, nan: HTTP Error: 400\n",
      "Error getting neighborhood for nan, nan: HTTP Error: 400\n",
      "Error getting neighborhood for nan, nan: HTTP Error: 400\n",
      "Error getting neighborhood for nan, nan: HTTP Error: 400\n"
     ]
    },
    {
     "name": "stdout",
     "output_type": "stream",
     "text": [
      "Error getting neighborhood for nan, nan: HTTP Error: 400\n",
      "Error getting neighborhood for nan, nan: HTTP Error: 400\n"
     ]
    },
    {
     "name": "stdout",
     "output_type": "stream",
     "text": [
      "Error getting neighborhood for nan, nan: HTTP Error: 400\n",
      "Error getting neighborhood for nan, nan: HTTP Error: 400\n",
      "Error getting neighborhood for nan, nan: HTTP Error: 400\n",
      "Error getting neighborhood for nan, nan: HTTP Error: 400\n"
     ]
    },
    {
     "name": "stdout",
     "output_type": "stream",
     "text": [
      "Error getting neighborhood for nan, nan: HTTP Error: 400\n",
      "Error getting neighborhood for nan, nan: HTTP Error: 400\n",
      "Error getting neighborhood for nan, nan: HTTP Error: 400\n",
      "Error getting neighborhood for nan, nan: HTTP Error: 400\n",
      "Error getting neighborhood for nan, nan: HTTP Error: 400\n",
      "Error getting neighborhood for nan, nan: HTTP Error: 400\n"
     ]
    },
    {
     "name": "stdout",
     "output_type": "stream",
     "text": [
      "Error getting neighborhood for nan, nan: HTTP Error: 400\n"
     ]
    },
    {
     "name": "stdout",
     "output_type": "stream",
     "text": [
      "Error getting neighborhood for nan, nan: HTTP Error: 400\n",
      "Error getting neighborhood for nan, nan: HTTP Error: 400\n",
      "Error getting neighborhood for nan, nan: HTTP Error: 400\n",
      "Error getting neighborhood for nan, nan: HTTP Error: 400\n",
      "Error getting neighborhood for nan, nan: HTTP Error: 400\n"
     ]
    },
    {
     "name": "stdout",
     "output_type": "stream",
     "text": [
      "Error getting neighborhood for nan, nan: HTTP Error: 400\n",
      "Error getting neighborhood for nan, nan: HTTP Error: 400\n",
      "Error getting neighborhood for nan, nan: HTTP Error: 400\n"
     ]
    },
    {
     "data": {
      "text/html": [
       "<div>\n",
       "<style scoped>\n",
       "    .dataframe tbody tr th:only-of-type {\n",
       "        vertical-align: middle;\n",
       "    }\n",
       "\n",
       "    .dataframe tbody tr th {\n",
       "        vertical-align: top;\n",
       "    }\n",
       "\n",
       "    .dataframe thead th {\n",
       "        text-align: right;\n",
       "    }\n",
       "</style>\n",
       "<table border=\"1\" class=\"dataframe\">\n",
       "  <thead>\n",
       "    <tr style=\"text-align: right;\">\n",
       "      <th></th>\n",
       "      <th>RecordID</th>\n",
       "      <th>Offense</th>\n",
       "      <th>IncidentID</th>\n",
       "      <th>BlockNumber</th>\n",
       "      <th>StreetName</th>\n",
       "      <th>Agency</th>\n",
       "      <th>HourReported</th>\n",
       "      <th>ReportingOfficer</th>\n",
       "      <th>Date</th>\n",
       "      <th>DateString</th>\n",
       "      <th>DayOfWeek</th>\n",
       "      <th>Weekend</th>\n",
       "      <th>Season</th>\n",
       "      <th>HourAMPM</th>\n",
       "      <th>TimeOfDay</th>\n",
       "      <th>FullStreet</th>\n",
       "      <th>lat</th>\n",
       "      <th>lon</th>\n",
       "      <th>neighborhood</th>\n",
       "    </tr>\n",
       "  </thead>\n",
       "  <tbody>\n",
       "    <tr>\n",
       "      <th>0</th>\n",
       "      <td>1</td>\n",
       "      <td>Shots Fired/Illegal Hunting</td>\n",
       "      <td>202500027407</td>\n",
       "      <td>1000</td>\n",
       "      <td>LINDEN AVE</td>\n",
       "      <td>CPD</td>\n",
       "      <td>2129</td>\n",
       "      <td>Khaleefa, Hamzeh</td>\n",
       "      <td>2025-08-03 21:29:19</td>\n",
       "      <td>2025-08-03 09:29:19 PM</td>\n",
       "      <td>Sunday</td>\n",
       "      <td>True</td>\n",
       "      <td>Summer</td>\n",
       "      <td>09:29 PM</td>\n",
       "      <td>Night</td>\n",
       "      <td>1000 LINDEN AVE</td>\n",
       "      <td>38.014255</td>\n",
       "      <td>-78.470047</td>\n",
       "      <td>Belmont</td>\n",
       "    </tr>\n",
       "    <tr>\n",
       "      <th>1</th>\n",
       "      <td>2</td>\n",
       "      <td>Disorderly Conduct</td>\n",
       "      <td>202500027395</td>\n",
       "      <td>500</td>\n",
       "      <td>CHERRY AVE</td>\n",
       "      <td>CPD</td>\n",
       "      <td>1842</td>\n",
       "      <td>Carrasco, Julio</td>\n",
       "      <td>2025-08-03 18:42:32</td>\n",
       "      <td>2025-08-03 06:42:32 PM</td>\n",
       "      <td>Sunday</td>\n",
       "      <td>True</td>\n",
       "      <td>Summer</td>\n",
       "      <td>06:42 PM</td>\n",
       "      <td>Evening</td>\n",
       "      <td>500 CHERRY AVE</td>\n",
       "      <td>38.026066</td>\n",
       "      <td>-78.490892</td>\n",
       "      <td>Fifeville</td>\n",
       "    </tr>\n",
       "    <tr>\n",
       "      <th>2</th>\n",
       "      <td>3</td>\n",
       "      <td>Assault Simple</td>\n",
       "      <td>202500027367</td>\n",
       "      <td>1000</td>\n",
       "      <td>PRESTON AVE, A</td>\n",
       "      <td>CPD</td>\n",
       "      <td>1338</td>\n",
       "      <td>Mian, Ghulam</td>\n",
       "      <td>2025-08-03 13:38:28</td>\n",
       "      <td>2025-08-03 01:38:28 PM</td>\n",
       "      <td>Sunday</td>\n",
       "      <td>True</td>\n",
       "      <td>Summer</td>\n",
       "      <td>01:38 PM</td>\n",
       "      <td>Afternoon</td>\n",
       "      <td>1000 PRESTON AVE, A</td>\n",
       "      <td>38.039264</td>\n",
       "      <td>-78.491428</td>\n",
       "      <td>Venable</td>\n",
       "    </tr>\n",
       "    <tr>\n",
       "      <th>3</th>\n",
       "      <td>4</td>\n",
       "      <td>Lost/FoundProperty</td>\n",
       "      <td>202500027348</td>\n",
       "      <td>1600</td>\n",
       "      <td>MONTICELLO AVE, F</td>\n",
       "      <td>CPD</td>\n",
       "      <td>0846</td>\n",
       "      <td>Lowry, Ryan</td>\n",
       "      <td>2025-08-03 08:46:20</td>\n",
       "      <td>2025-08-03 08:46:20 AM</td>\n",
       "      <td>Sunday</td>\n",
       "      <td>True</td>\n",
       "      <td>Summer</td>\n",
       "      <td>08:46 AM</td>\n",
       "      <td>Morning</td>\n",
       "      <td>1600 MONTICELLO AVE, F</td>\n",
       "      <td>38.016118</td>\n",
       "      <td>-78.475877</td>\n",
       "      <td>Belmont</td>\n",
       "    </tr>\n",
       "    <tr>\n",
       "      <th>4</th>\n",
       "      <td>5</td>\n",
       "      <td>Assist Citizen - Mental/TDO/ECO</td>\n",
       "      <td>202500027339</td>\n",
       "      <td>100</td>\n",
       "      <td>PENICK CT</td>\n",
       "      <td>CPD</td>\n",
       "      <td>0345</td>\n",
       "      <td>Whitfield, Dylan</td>\n",
       "      <td>2025-08-03 03:45:22</td>\n",
       "      <td>2025-08-03 03:45:22 AM</td>\n",
       "      <td>Sunday</td>\n",
       "      <td>True</td>\n",
       "      <td>Summer</td>\n",
       "      <td>03:45 AM</td>\n",
       "      <td>Night</td>\n",
       "      <td>100 PENICK CT</td>\n",
       "      <td>38.025125</td>\n",
       "      <td>-78.488221</td>\n",
       "      <td>Ridge St.</td>\n",
       "    </tr>\n",
       "  </tbody>\n",
       "</table>\n",
       "</div>"
      ],
      "text/plain": [
       "   RecordID                          Offense    IncidentID BlockNumber  \\\n",
       "0         1      Shots Fired/Illegal Hunting  202500027407        1000   \n",
       "1         2               Disorderly Conduct  202500027395         500   \n",
       "2         3                   Assault Simple  202500027367        1000   \n",
       "3         4               Lost/FoundProperty  202500027348        1600   \n",
       "4         5  Assist Citizen - Mental/TDO/ECO  202500027339         100   \n",
       "\n",
       "          StreetName Agency HourReported  ReportingOfficer  \\\n",
       "0         LINDEN AVE    CPD         2129  Khaleefa, Hamzeh   \n",
       "1         CHERRY AVE    CPD         1842   Carrasco, Julio   \n",
       "2     PRESTON AVE, A    CPD         1338      Mian, Ghulam   \n",
       "3  MONTICELLO AVE, F    CPD         0846       Lowry, Ryan   \n",
       "4          PENICK CT    CPD         0345  Whitfield, Dylan   \n",
       "\n",
       "                 Date              DateString DayOfWeek  Weekend  Season  \\\n",
       "0 2025-08-03 21:29:19  2025-08-03 09:29:19 PM    Sunday     True  Summer   \n",
       "1 2025-08-03 18:42:32  2025-08-03 06:42:32 PM    Sunday     True  Summer   \n",
       "2 2025-08-03 13:38:28  2025-08-03 01:38:28 PM    Sunday     True  Summer   \n",
       "3 2025-08-03 08:46:20  2025-08-03 08:46:20 AM    Sunday     True  Summer   \n",
       "4 2025-08-03 03:45:22  2025-08-03 03:45:22 AM    Sunday     True  Summer   \n",
       "\n",
       "   HourAMPM  TimeOfDay              FullStreet        lat        lon  \\\n",
       "0  09:29 PM      Night         1000 LINDEN AVE  38.014255 -78.470047   \n",
       "1  06:42 PM    Evening          500 CHERRY AVE  38.026066 -78.490892   \n",
       "2  01:38 PM  Afternoon     1000 PRESTON AVE, A  38.039264 -78.491428   \n",
       "3  08:46 AM    Morning  1600 MONTICELLO AVE, F  38.016118 -78.475877   \n",
       "4  03:45 AM      Night           100 PENICK CT  38.025125 -78.488221   \n",
       "\n",
       "  neighborhood  \n",
       "0      Belmont  \n",
       "1    Fifeville  \n",
       "2      Venable  \n",
       "3      Belmont  \n",
       "4    Ridge St.  "
      ]
     },
     "execution_count": 10,
     "metadata": {},
     "output_type": "execute_result"
    }
   ],
   "source": [
    "# Initialize the Google Maps client.\n",
    "gmaps = googlemaps.Client(key=GOOGLE_API_KEY)\n",
    "\n",
    "# Try to load a persistent neighborhood cache if available.\n",
    "try:\n",
    "    with open(\"neighborhood_cache.pkl\", \"rb\") as f:\n",
    "        neighborhood_cache = pickle.load(f)\n",
    "    print(\"Loaded neighborhood cache.\")\n",
    "except FileNotFoundError:\n",
    "    neighborhood_cache = {}\n",
    "    print(\"No neighborhood cache found; starting fresh.\")\n",
    "\n",
    "def get_neighborhood(lat, lon):\n",
    "    \"\"\"\n",
    "    Reverse geocodes a latitude and longitude to retrieve the neighborhood.\n",
    "    Caches results to speed up subsequent lookups.\n",
    "    \"\"\"\n",
    "    key = (lat, lon)\n",
    "    if key in neighborhood_cache:\n",
    "        return neighborhood_cache[key]\n",
    "    \n",
    "    try:\n",
    "        result = gmaps.reverse_geocode((lat, lon))\n",
    "        if result:\n",
    "            # Look for the 'neighborhood' component in the first result.\n",
    "            for component in result[0]['address_components']:\n",
    "                if 'neighborhood' in component['types']:\n",
    "                    neighborhood = component['long_name']\n",
    "                    neighborhood_cache[key] = neighborhood\n",
    "                    return neighborhood\n",
    "            # If no neighborhood is found, return \"N/A\"\n",
    "            neighborhood_cache[key] = \"N/A\"\n",
    "            return \"N/A\"\n",
    "    except Exception as e:\n",
    "        print(f\"Error getting neighborhood for {lat}, {lon}: {e}\")\n",
    "        return \"N/A\"\n",
    "    \n",
    "    # Pause to respect usage limits.\n",
    "    time.sleep(1)\n",
    "\n",
    "# Example usage: Apply to your DataFrame 'df' that already has 'lat' and 'lon' columns.\n",
    "df['neighborhood'] = df.apply(lambda row: get_neighborhood(row['lat'], row['lon']), axis=1)\n",
    "\n",
    "# Save the updated neighborhood cache.\n",
    "with open(\"neighborhood_cache.pkl\", \"wb\") as f:\n",
    "    pickle.dump(neighborhood_cache, f)\n",
    "\n",
    "df.head()\n"
   ]
  },
  {
   "cell_type": "markdown",
   "id": "1b4898f7",
   "metadata": {
    "papermill": {
     "duration": 0.005597,
     "end_time": "2025-08-06T01:11:43.614849",
     "exception": false,
     "start_time": "2025-08-06T01:11:43.609252",
     "status": "completed"
    },
    "tags": []
   },
   "source": [
    "### Zip"
   ]
  },
  {
   "cell_type": "code",
   "execution_count": 11,
   "id": "3f2b8f9b",
   "metadata": {
    "execution": {
     "iopub.execute_input": "2025-08-06T01:11:43.626978Z",
     "iopub.status.busy": "2025-08-06T01:11:43.626761Z",
     "iopub.status.idle": "2025-08-06T01:13:07.101593Z",
     "shell.execute_reply": "2025-08-06T01:13:07.100927Z"
    },
    "papermill": {
     "duration": 83.482206,
     "end_time": "2025-08-06T01:13:07.102697",
     "exception": false,
     "start_time": "2025-08-06T01:11:43.620491",
     "status": "completed"
    },
    "tags": []
   },
   "outputs": [
    {
     "name": "stdout",
     "output_type": "stream",
     "text": [
      "Loaded zip cache.\n",
      "Error getting ZIP for nan, nan: Must be a coordinate pair or Point\n"
     ]
    },
    {
     "name": "stdout",
     "output_type": "stream",
     "text": [
      "Error getting ZIP for nan, nan: Must be a coordinate pair or Point\n"
     ]
    },
    {
     "name": "stdout",
     "output_type": "stream",
     "text": [
      "Error getting ZIP for nan, nan: Must be a coordinate pair or Point\n"
     ]
    },
    {
     "name": "stdout",
     "output_type": "stream",
     "text": [
      "Error getting ZIP for nan, nan: Must be a coordinate pair or Point\n"
     ]
    },
    {
     "name": "stdout",
     "output_type": "stream",
     "text": [
      "Error getting ZIP for nan, nan: Must be a coordinate pair or Point\n"
     ]
    },
    {
     "name": "stdout",
     "output_type": "stream",
     "text": [
      "Error getting ZIP for nan, nan: Must be a coordinate pair or Point\n"
     ]
    },
    {
     "name": "stdout",
     "output_type": "stream",
     "text": [
      "Error getting ZIP for nan, nan: Must be a coordinate pair or Point\n"
     ]
    },
    {
     "name": "stdout",
     "output_type": "stream",
     "text": [
      "Error getting ZIP for nan, nan: Must be a coordinate pair or Point\n"
     ]
    },
    {
     "name": "stdout",
     "output_type": "stream",
     "text": [
      "Error getting ZIP for nan, nan: Must be a coordinate pair or Point\n"
     ]
    },
    {
     "name": "stdout",
     "output_type": "stream",
     "text": [
      "Error getting ZIP for nan, nan: Must be a coordinate pair or Point\n"
     ]
    },
    {
     "name": "stdout",
     "output_type": "stream",
     "text": [
      "Error getting ZIP for nan, nan: Must be a coordinate pair or Point\n"
     ]
    },
    {
     "name": "stdout",
     "output_type": "stream",
     "text": [
      "Error getting ZIP for nan, nan: Must be a coordinate pair or Point\n"
     ]
    },
    {
     "name": "stdout",
     "output_type": "stream",
     "text": [
      "Error getting ZIP for nan, nan: Must be a coordinate pair or Point\n"
     ]
    },
    {
     "name": "stdout",
     "output_type": "stream",
     "text": [
      "Error getting ZIP for nan, nan: Must be a coordinate pair or Point\n"
     ]
    },
    {
     "name": "stdout",
     "output_type": "stream",
     "text": [
      "Error getting ZIP for nan, nan: Must be a coordinate pair or Point\n"
     ]
    },
    {
     "name": "stdout",
     "output_type": "stream",
     "text": [
      "Error getting ZIP for nan, nan: Must be a coordinate pair or Point\n"
     ]
    },
    {
     "name": "stdout",
     "output_type": "stream",
     "text": [
      "Error getting ZIP for nan, nan: Must be a coordinate pair or Point\n"
     ]
    },
    {
     "name": "stdout",
     "output_type": "stream",
     "text": [
      "Error getting ZIP for nan, nan: Must be a coordinate pair or Point\n"
     ]
    },
    {
     "name": "stdout",
     "output_type": "stream",
     "text": [
      "Error getting ZIP for nan, nan: Must be a coordinate pair or Point\n"
     ]
    },
    {
     "name": "stdout",
     "output_type": "stream",
     "text": [
      "Error getting ZIP for nan, nan: Must be a coordinate pair or Point\n"
     ]
    },
    {
     "name": "stdout",
     "output_type": "stream",
     "text": [
      "Error getting ZIP for nan, nan: Must be a coordinate pair or Point\n"
     ]
    },
    {
     "name": "stdout",
     "output_type": "stream",
     "text": [
      "Error getting ZIP for nan, nan: Must be a coordinate pair or Point\n"
     ]
    },
    {
     "name": "stdout",
     "output_type": "stream",
     "text": [
      "Error getting ZIP for nan, nan: Must be a coordinate pair or Point\n"
     ]
    },
    {
     "name": "stdout",
     "output_type": "stream",
     "text": [
      "Error getting ZIP for nan, nan: Must be a coordinate pair or Point\n"
     ]
    },
    {
     "name": "stdout",
     "output_type": "stream",
     "text": [
      "Error getting ZIP for nan, nan: Must be a coordinate pair or Point\n"
     ]
    },
    {
     "name": "stdout",
     "output_type": "stream",
     "text": [
      "Error getting ZIP for nan, nan: Must be a coordinate pair or Point\n"
     ]
    },
    {
     "name": "stdout",
     "output_type": "stream",
     "text": [
      "Error getting ZIP for nan, nan: Must be a coordinate pair or Point\n"
     ]
    },
    {
     "name": "stdout",
     "output_type": "stream",
     "text": [
      "Error getting ZIP for nan, nan: Must be a coordinate pair or Point\n"
     ]
    },
    {
     "name": "stdout",
     "output_type": "stream",
     "text": [
      "Error getting ZIP for nan, nan: Must be a coordinate pair or Point\n"
     ]
    },
    {
     "name": "stdout",
     "output_type": "stream",
     "text": [
      "Error getting ZIP for nan, nan: Must be a coordinate pair or Point\n"
     ]
    },
    {
     "name": "stdout",
     "output_type": "stream",
     "text": [
      "Error getting ZIP for nan, nan: Must be a coordinate pair or Point\n"
     ]
    },
    {
     "name": "stdout",
     "output_type": "stream",
     "text": [
      "Error getting ZIP for nan, nan: Must be a coordinate pair or Point\n"
     ]
    },
    {
     "name": "stdout",
     "output_type": "stream",
     "text": [
      "Error getting ZIP for nan, nan: Must be a coordinate pair or Point\n"
     ]
    },
    {
     "name": "stdout",
     "output_type": "stream",
     "text": [
      "Error getting ZIP for nan, nan: Must be a coordinate pair or Point\n"
     ]
    },
    {
     "name": "stdout",
     "output_type": "stream",
     "text": [
      "Error getting ZIP for nan, nan: Must be a coordinate pair or Point\n"
     ]
    },
    {
     "name": "stdout",
     "output_type": "stream",
     "text": [
      "Error getting ZIP for nan, nan: Must be a coordinate pair or Point\n"
     ]
    },
    {
     "name": "stdout",
     "output_type": "stream",
     "text": [
      "Error getting ZIP for nan, nan: Must be a coordinate pair or Point\n"
     ]
    },
    {
     "name": "stdout",
     "output_type": "stream",
     "text": [
      "Error getting ZIP for nan, nan: Must be a coordinate pair or Point\n"
     ]
    },
    {
     "name": "stdout",
     "output_type": "stream",
     "text": [
      "Error getting ZIP for nan, nan: Must be a coordinate pair or Point\n"
     ]
    },
    {
     "name": "stdout",
     "output_type": "stream",
     "text": [
      "Error getting ZIP for nan, nan: Must be a coordinate pair or Point\n"
     ]
    },
    {
     "name": "stdout",
     "output_type": "stream",
     "text": [
      "Error getting ZIP for nan, nan: Must be a coordinate pair or Point\n"
     ]
    },
    {
     "name": "stdout",
     "output_type": "stream",
     "text": [
      "Error getting ZIP for nan, nan: Must be a coordinate pair or Point\n"
     ]
    },
    {
     "name": "stdout",
     "output_type": "stream",
     "text": [
      "Error getting ZIP for nan, nan: Must be a coordinate pair or Point\n"
     ]
    },
    {
     "name": "stdout",
     "output_type": "stream",
     "text": [
      "Error getting ZIP for nan, nan: Must be a coordinate pair or Point\n"
     ]
    },
    {
     "name": "stdout",
     "output_type": "stream",
     "text": [
      "Error getting ZIP for nan, nan: Must be a coordinate pair or Point\n"
     ]
    },
    {
     "name": "stdout",
     "output_type": "stream",
     "text": [
      "Error getting ZIP for nan, nan: Must be a coordinate pair or Point\n"
     ]
    },
    {
     "name": "stdout",
     "output_type": "stream",
     "text": [
      "Error getting ZIP for nan, nan: Must be a coordinate pair or Point\n"
     ]
    },
    {
     "name": "stdout",
     "output_type": "stream",
     "text": [
      "Error getting ZIP for nan, nan: Must be a coordinate pair or Point\n"
     ]
    },
    {
     "name": "stdout",
     "output_type": "stream",
     "text": [
      "Error getting ZIP for nan, nan: Must be a coordinate pair or Point\n"
     ]
    },
    {
     "name": "stdout",
     "output_type": "stream",
     "text": [
      "Error getting ZIP for nan, nan: Must be a coordinate pair or Point\n"
     ]
    },
    {
     "name": "stdout",
     "output_type": "stream",
     "text": [
      "Error getting ZIP for nan, nan: Must be a coordinate pair or Point\n"
     ]
    },
    {
     "name": "stdout",
     "output_type": "stream",
     "text": [
      "Error getting ZIP for nan, nan: Must be a coordinate pair or Point\n"
     ]
    },
    {
     "name": "stdout",
     "output_type": "stream",
     "text": [
      "Error getting ZIP for nan, nan: Must be a coordinate pair or Point\n"
     ]
    },
    {
     "name": "stdout",
     "output_type": "stream",
     "text": [
      "Error getting ZIP for nan, nan: Must be a coordinate pair or Point\n"
     ]
    },
    {
     "name": "stdout",
     "output_type": "stream",
     "text": [
      "Error getting ZIP for nan, nan: Must be a coordinate pair or Point\n"
     ]
    },
    {
     "name": "stdout",
     "output_type": "stream",
     "text": [
      "Error getting ZIP for nan, nan: Must be a coordinate pair or Point\n"
     ]
    },
    {
     "name": "stdout",
     "output_type": "stream",
     "text": [
      "Error getting ZIP for nan, nan: Must be a coordinate pair or Point\n"
     ]
    },
    {
     "name": "stdout",
     "output_type": "stream",
     "text": [
      "Error getting ZIP for nan, nan: Must be a coordinate pair or Point\n"
     ]
    },
    {
     "name": "stdout",
     "output_type": "stream",
     "text": [
      "Error getting ZIP for nan, nan: Must be a coordinate pair or Point\n"
     ]
    },
    {
     "name": "stdout",
     "output_type": "stream",
     "text": [
      "Error getting ZIP for nan, nan: Must be a coordinate pair or Point\n"
     ]
    },
    {
     "name": "stdout",
     "output_type": "stream",
     "text": [
      "Error getting ZIP for nan, nan: Must be a coordinate pair or Point\n"
     ]
    },
    {
     "name": "stdout",
     "output_type": "stream",
     "text": [
      "Error getting ZIP for nan, nan: Must be a coordinate pair or Point\n"
     ]
    },
    {
     "name": "stdout",
     "output_type": "stream",
     "text": [
      "Error getting ZIP for nan, nan: Must be a coordinate pair or Point\n"
     ]
    },
    {
     "name": "stdout",
     "output_type": "stream",
     "text": [
      "Error getting ZIP for nan, nan: Must be a coordinate pair or Point\n"
     ]
    },
    {
     "name": "stdout",
     "output_type": "stream",
     "text": [
      "Error getting ZIP for nan, nan: Must be a coordinate pair or Point\n"
     ]
    },
    {
     "name": "stdout",
     "output_type": "stream",
     "text": [
      "Error getting ZIP for nan, nan: Must be a coordinate pair or Point\n"
     ]
    },
    {
     "name": "stdout",
     "output_type": "stream",
     "text": [
      "Error getting ZIP for nan, nan: Must be a coordinate pair or Point\n"
     ]
    },
    {
     "name": "stdout",
     "output_type": "stream",
     "text": [
      "Error getting ZIP for nan, nan: Must be a coordinate pair or Point\n"
     ]
    },
    {
     "name": "stdout",
     "output_type": "stream",
     "text": [
      "Error getting ZIP for nan, nan: Must be a coordinate pair or Point\n"
     ]
    },
    {
     "name": "stdout",
     "output_type": "stream",
     "text": [
      "Error getting ZIP for nan, nan: Must be a coordinate pair or Point\n"
     ]
    },
    {
     "name": "stdout",
     "output_type": "stream",
     "text": [
      "Error getting ZIP for nan, nan: Must be a coordinate pair or Point\n"
     ]
    },
    {
     "name": "stdout",
     "output_type": "stream",
     "text": [
      "Error getting ZIP for nan, nan: Must be a coordinate pair or Point\n"
     ]
    },
    {
     "name": "stdout",
     "output_type": "stream",
     "text": [
      "Error getting ZIP for nan, nan: Must be a coordinate pair or Point\n"
     ]
    },
    {
     "name": "stdout",
     "output_type": "stream",
     "text": [
      "Error getting ZIP for nan, nan: Must be a coordinate pair or Point\n"
     ]
    },
    {
     "name": "stdout",
     "output_type": "stream",
     "text": [
      "Error getting ZIP for nan, nan: Must be a coordinate pair or Point\n"
     ]
    },
    {
     "name": "stdout",
     "output_type": "stream",
     "text": [
      "Error getting ZIP for nan, nan: Must be a coordinate pair or Point\n"
     ]
    },
    {
     "name": "stdout",
     "output_type": "stream",
     "text": [
      "Error getting ZIP for nan, nan: Must be a coordinate pair or Point\n"
     ]
    },
    {
     "name": "stdout",
     "output_type": "stream",
     "text": [
      "Error getting ZIP for nan, nan: Must be a coordinate pair or Point\n"
     ]
    },
    {
     "name": "stdout",
     "output_type": "stream",
     "text": [
      "Error getting ZIP for nan, nan: Must be a coordinate pair or Point\n"
     ]
    },
    {
     "name": "stdout",
     "output_type": "stream",
     "text": [
      "Error getting ZIP for nan, nan: Must be a coordinate pair or Point\n"
     ]
    },
    {
     "name": "stdout",
     "output_type": "stream",
     "text": [
      "Error getting ZIP for nan, nan: Must be a coordinate pair or Point\n"
     ]
    },
    {
     "name": "stdout",
     "output_type": "stream",
     "text": [
      "Error getting ZIP for nan, nan: Must be a coordinate pair or Point\n"
     ]
    },
    {
     "name": "stdout",
     "output_type": "stream",
     "text": [
      "Error getting ZIP for nan, nan: Must be a coordinate pair or Point\n"
     ]
    },
    {
     "data": {
      "text/html": [
       "<div>\n",
       "<style scoped>\n",
       "    .dataframe tbody tr th:only-of-type {\n",
       "        vertical-align: middle;\n",
       "    }\n",
       "\n",
       "    .dataframe tbody tr th {\n",
       "        vertical-align: top;\n",
       "    }\n",
       "\n",
       "    .dataframe thead th {\n",
       "        text-align: right;\n",
       "    }\n",
       "</style>\n",
       "<table border=\"1\" class=\"dataframe\">\n",
       "  <thead>\n",
       "    <tr style=\"text-align: right;\">\n",
       "      <th></th>\n",
       "      <th>RecordID</th>\n",
       "      <th>Offense</th>\n",
       "      <th>IncidentID</th>\n",
       "      <th>BlockNumber</th>\n",
       "      <th>StreetName</th>\n",
       "      <th>Agency</th>\n",
       "      <th>HourReported</th>\n",
       "      <th>ReportingOfficer</th>\n",
       "      <th>Date</th>\n",
       "      <th>DateString</th>\n",
       "      <th>DayOfWeek</th>\n",
       "      <th>Weekend</th>\n",
       "      <th>Season</th>\n",
       "      <th>HourAMPM</th>\n",
       "      <th>TimeOfDay</th>\n",
       "      <th>FullStreet</th>\n",
       "      <th>lat</th>\n",
       "      <th>lon</th>\n",
       "      <th>neighborhood</th>\n",
       "      <th>zip</th>\n",
       "    </tr>\n",
       "  </thead>\n",
       "  <tbody>\n",
       "    <tr>\n",
       "      <th>0</th>\n",
       "      <td>1</td>\n",
       "      <td>Shots Fired/Illegal Hunting</td>\n",
       "      <td>202500027407</td>\n",
       "      <td>1000</td>\n",
       "      <td>LINDEN AVE</td>\n",
       "      <td>CPD</td>\n",
       "      <td>2129</td>\n",
       "      <td>Khaleefa, Hamzeh</td>\n",
       "      <td>2025-08-03 21:29:19</td>\n",
       "      <td>2025-08-03 09:29:19 PM</td>\n",
       "      <td>Sunday</td>\n",
       "      <td>True</td>\n",
       "      <td>Summer</td>\n",
       "      <td>09:29 PM</td>\n",
       "      <td>Night</td>\n",
       "      <td>1000 LINDEN AVE</td>\n",
       "      <td>38.014255</td>\n",
       "      <td>-78.470047</td>\n",
       "      <td>Belmont</td>\n",
       "      <td>22902</td>\n",
       "    </tr>\n",
       "    <tr>\n",
       "      <th>1</th>\n",
       "      <td>2</td>\n",
       "      <td>Disorderly Conduct</td>\n",
       "      <td>202500027395</td>\n",
       "      <td>500</td>\n",
       "      <td>CHERRY AVE</td>\n",
       "      <td>CPD</td>\n",
       "      <td>1842</td>\n",
       "      <td>Carrasco, Julio</td>\n",
       "      <td>2025-08-03 18:42:32</td>\n",
       "      <td>2025-08-03 06:42:32 PM</td>\n",
       "      <td>Sunday</td>\n",
       "      <td>True</td>\n",
       "      <td>Summer</td>\n",
       "      <td>06:42 PM</td>\n",
       "      <td>Evening</td>\n",
       "      <td>500 CHERRY AVE</td>\n",
       "      <td>38.026066</td>\n",
       "      <td>-78.490892</td>\n",
       "      <td>Fifeville</td>\n",
       "      <td>22903</td>\n",
       "    </tr>\n",
       "    <tr>\n",
       "      <th>2</th>\n",
       "      <td>3</td>\n",
       "      <td>Assault Simple</td>\n",
       "      <td>202500027367</td>\n",
       "      <td>1000</td>\n",
       "      <td>PRESTON AVE, A</td>\n",
       "      <td>CPD</td>\n",
       "      <td>1338</td>\n",
       "      <td>Mian, Ghulam</td>\n",
       "      <td>2025-08-03 13:38:28</td>\n",
       "      <td>2025-08-03 01:38:28 PM</td>\n",
       "      <td>Sunday</td>\n",
       "      <td>True</td>\n",
       "      <td>Summer</td>\n",
       "      <td>01:38 PM</td>\n",
       "      <td>Afternoon</td>\n",
       "      <td>1000 PRESTON AVE, A</td>\n",
       "      <td>38.039264</td>\n",
       "      <td>-78.491428</td>\n",
       "      <td>Venable</td>\n",
       "      <td>22908</td>\n",
       "    </tr>\n",
       "    <tr>\n",
       "      <th>3</th>\n",
       "      <td>4</td>\n",
       "      <td>Lost/FoundProperty</td>\n",
       "      <td>202500027348</td>\n",
       "      <td>1600</td>\n",
       "      <td>MONTICELLO AVE, F</td>\n",
       "      <td>CPD</td>\n",
       "      <td>0846</td>\n",
       "      <td>Lowry, Ryan</td>\n",
       "      <td>2025-08-03 08:46:20</td>\n",
       "      <td>2025-08-03 08:46:20 AM</td>\n",
       "      <td>Sunday</td>\n",
       "      <td>True</td>\n",
       "      <td>Summer</td>\n",
       "      <td>08:46 AM</td>\n",
       "      <td>Morning</td>\n",
       "      <td>1600 MONTICELLO AVE, F</td>\n",
       "      <td>38.016118</td>\n",
       "      <td>-78.475877</td>\n",
       "      <td>Belmont</td>\n",
       "      <td>22903</td>\n",
       "    </tr>\n",
       "    <tr>\n",
       "      <th>4</th>\n",
       "      <td>5</td>\n",
       "      <td>Assist Citizen - Mental/TDO/ECO</td>\n",
       "      <td>202500027339</td>\n",
       "      <td>100</td>\n",
       "      <td>PENICK CT</td>\n",
       "      <td>CPD</td>\n",
       "      <td>0345</td>\n",
       "      <td>Whitfield, Dylan</td>\n",
       "      <td>2025-08-03 03:45:22</td>\n",
       "      <td>2025-08-03 03:45:22 AM</td>\n",
       "      <td>Sunday</td>\n",
       "      <td>True</td>\n",
       "      <td>Summer</td>\n",
       "      <td>03:45 AM</td>\n",
       "      <td>Night</td>\n",
       "      <td>100 PENICK CT</td>\n",
       "      <td>38.025125</td>\n",
       "      <td>-78.488221</td>\n",
       "      <td>Ridge St.</td>\n",
       "      <td>22903</td>\n",
       "    </tr>\n",
       "  </tbody>\n",
       "</table>\n",
       "</div>"
      ],
      "text/plain": [
       "   RecordID                          Offense    IncidentID BlockNumber  \\\n",
       "0         1      Shots Fired/Illegal Hunting  202500027407        1000   \n",
       "1         2               Disorderly Conduct  202500027395         500   \n",
       "2         3                   Assault Simple  202500027367        1000   \n",
       "3         4               Lost/FoundProperty  202500027348        1600   \n",
       "4         5  Assist Citizen - Mental/TDO/ECO  202500027339         100   \n",
       "\n",
       "          StreetName Agency HourReported  ReportingOfficer  \\\n",
       "0         LINDEN AVE    CPD         2129  Khaleefa, Hamzeh   \n",
       "1         CHERRY AVE    CPD         1842   Carrasco, Julio   \n",
       "2     PRESTON AVE, A    CPD         1338      Mian, Ghulam   \n",
       "3  MONTICELLO AVE, F    CPD         0846       Lowry, Ryan   \n",
       "4          PENICK CT    CPD         0345  Whitfield, Dylan   \n",
       "\n",
       "                 Date              DateString DayOfWeek  Weekend  Season  \\\n",
       "0 2025-08-03 21:29:19  2025-08-03 09:29:19 PM    Sunday     True  Summer   \n",
       "1 2025-08-03 18:42:32  2025-08-03 06:42:32 PM    Sunday     True  Summer   \n",
       "2 2025-08-03 13:38:28  2025-08-03 01:38:28 PM    Sunday     True  Summer   \n",
       "3 2025-08-03 08:46:20  2025-08-03 08:46:20 AM    Sunday     True  Summer   \n",
       "4 2025-08-03 03:45:22  2025-08-03 03:45:22 AM    Sunday     True  Summer   \n",
       "\n",
       "   HourAMPM  TimeOfDay              FullStreet        lat        lon  \\\n",
       "0  09:29 PM      Night         1000 LINDEN AVE  38.014255 -78.470047   \n",
       "1  06:42 PM    Evening          500 CHERRY AVE  38.026066 -78.490892   \n",
       "2  01:38 PM  Afternoon     1000 PRESTON AVE, A  38.039264 -78.491428   \n",
       "3  08:46 AM    Morning  1600 MONTICELLO AVE, F  38.016118 -78.475877   \n",
       "4  03:45 AM      Night           100 PENICK CT  38.025125 -78.488221   \n",
       "\n",
       "  neighborhood    zip  \n",
       "0      Belmont  22902  \n",
       "1    Fifeville  22903  \n",
       "2      Venable  22908  \n",
       "3      Belmont  22903  \n",
       "4    Ridge St.  22903  "
      ]
     },
     "execution_count": 11,
     "metadata": {},
     "output_type": "execute_result"
    }
   ],
   "source": [
    "# Initialize the geocoder.\n",
    "geolocator = Nominatim(user_agent=\"zip_lookup\")\n",
    "\n",
    "# Try to load a persistent ZIP cache if available.\n",
    "try:\n",
    "    with open(\"zip_cache.pkl\", \"rb\") as f:\n",
    "        zip_cache = pickle.load(f)\n",
    "    print(\"Loaded zip cache.\")\n",
    "except FileNotFoundError:\n",
    "    zip_cache = {}\n",
    "    print(\"No zip cache found; starting fresh.\")\n",
    "\n",
    "def get_zip(lat, lon):\n",
    "    \"\"\"\n",
    "    Reverse geocodes a latitude and longitude to retrieve the ZIP code.\n",
    "    Caches results to speed up subsequent lookups.\n",
    "    \"\"\"\n",
    "    key = (lat, lon)\n",
    "    if key in zip_cache:\n",
    "        return zip_cache[key]\n",
    "    \n",
    "    try:\n",
    "        location = geolocator.reverse((lat, lon), exactly_one=True, timeout=10)\n",
    "        address = location.raw.get('address', {})\n",
    "        postal_code = address.get('postcode', \"N/A\")\n",
    "    except Exception as e:\n",
    "        print(f\"Error getting ZIP for {lat}, {lon}: {e}\")\n",
    "        postal_code = \"N/A\"\n",
    "    \n",
    "    zip_cache[key] = postal_code\n",
    "    # Pause to respect the usage policy.\n",
    "    time.sleep(1)\n",
    "    return postal_code\n",
    "\n",
    "# Apply the function to each row in the DataFrame.\n",
    "df['zip'] = df.apply(lambda row: get_zip(row['lat'], row['lon']), axis=1)\n",
    "\n",
    "# Save the updated ZIP cache.\n",
    "with open(\"zip_cache.pkl\", \"wb\") as f:\n",
    "    pickle.dump(zip_cache, f)\n",
    "\n",
    "df.head()\n"
   ]
  },
  {
   "cell_type": "code",
   "execution_count": 12,
   "id": "d267751b",
   "metadata": {
    "execution": {
     "iopub.execute_input": "2025-08-06T01:13:07.122531Z",
     "iopub.status.busy": "2025-08-06T01:13:07.122336Z",
     "iopub.status.idle": "2025-08-06T01:13:07.149454Z",
     "shell.execute_reply": "2025-08-06T01:13:07.148789Z"
    },
    "papermill": {
     "duration": 0.038057,
     "end_time": "2025-08-06T01:13:07.150450",
     "exception": false,
     "start_time": "2025-08-06T01:13:07.112393",
     "status": "completed"
    },
    "tags": []
   },
   "outputs": [
    {
     "name": "stdout",
     "output_type": "stream",
     "text": [
      "                  MissingCount  MissingPercentage\n",
      "RecordID                     0               0.00\n",
      "Offense                      0               0.00\n",
      "IncidentID                   0               0.00\n",
      "BlockNumber                  0               0.00\n",
      "StreetName                   0               0.00\n",
      "Agency                       0               0.00\n",
      "HourReported                 0               0.00\n",
      "ReportingOfficer            16               0.06\n",
      "Date                         0               0.00\n",
      "DateString                   0               0.00\n",
      "DayOfWeek                    0               0.00\n",
      "Weekend                      0               0.00\n",
      "Season                       0               0.00\n",
      "HourAMPM                     0               0.00\n",
      "TimeOfDay                    0               0.00\n",
      "FullStreet                   0               0.00\n",
      "lat                         83               0.32\n",
      "lon                         83               0.32\n",
      "neighborhood                 0               0.00\n",
      "zip                          0               0.00\n"
     ]
    }
   ],
   "source": [
    "missing_info = missing_percentage(df)\n",
    "print(missing_info)\n"
   ]
  },
  {
   "cell_type": "code",
   "execution_count": 13,
   "id": "9a548cb5",
   "metadata": {
    "execution": {
     "iopub.execute_input": "2025-08-06T01:13:07.170192Z",
     "iopub.status.busy": "2025-08-06T01:13:07.170010Z",
     "iopub.status.idle": "2025-08-06T01:13:07.198354Z",
     "shell.execute_reply": "2025-08-06T01:13:07.197803Z"
    },
    "papermill": {
     "duration": 0.039283,
     "end_time": "2025-08-06T01:13:07.199368",
     "exception": false,
     "start_time": "2025-08-06T01:13:07.160085",
     "status": "completed"
    },
    "tags": []
   },
   "outputs": [
    {
     "name": "stdout",
     "output_type": "stream",
     "text": [
      "<class 'pandas.core.frame.DataFrame'>\n",
      "RangeIndex: 25622 entries, 0 to 25621\n",
      "Data columns (total 20 columns):\n",
      " #   Column            Non-Null Count  Dtype         \n",
      "---  ------            --------------  -----         \n",
      " 0   RecordID          25622 non-null  int64         \n",
      " 1   Offense           25622 non-null  object        \n",
      " 2   IncidentID        25622 non-null  object        \n",
      " 3   BlockNumber       25622 non-null  object        \n",
      " 4   StreetName        25622 non-null  object        \n",
      " 5   Agency            25622 non-null  object        \n",
      " 6   HourReported      25622 non-null  object        \n",
      " 7   ReportingOfficer  25606 non-null  object        \n",
      " 8   Date              25622 non-null  datetime64[ns]\n",
      " 9   DateString        25622 non-null  object        \n",
      " 10  DayOfWeek         25622 non-null  object        \n",
      " 11  Weekend           25622 non-null  bool          \n",
      " 12  Season            25622 non-null  object        \n",
      " 13  HourAMPM          25622 non-null  object        \n",
      " 14  TimeOfDay         25622 non-null  object        \n",
      " 15  FullStreet        25622 non-null  object        \n",
      " 16  lat               25539 non-null  float64       \n",
      " 17  lon               25539 non-null  float64       \n",
      " 18  neighborhood      25622 non-null  object        \n",
      " 19  zip               25622 non-null  object        \n",
      "dtypes: bool(1), datetime64[ns](1), float64(2), int64(1), object(15)\n",
      "memory usage: 3.7+ MB\n"
     ]
    }
   ],
   "source": [
    "df.info()"
   ]
  },
  {
   "cell_type": "code",
   "execution_count": 14,
   "id": "e8f65715",
   "metadata": {
    "execution": {
     "iopub.execute_input": "2025-08-06T01:13:07.219789Z",
     "iopub.status.busy": "2025-08-06T01:13:07.219567Z",
     "iopub.status.idle": "2025-08-06T01:13:07.263550Z",
     "shell.execute_reply": "2025-08-06T01:13:07.262965Z"
    },
    "papermill": {
     "duration": 0.055334,
     "end_time": "2025-08-06T01:13:07.264597",
     "exception": false,
     "start_time": "2025-08-06T01:13:07.209263",
     "status": "completed"
    },
    "tags": []
   },
   "outputs": [
    {
     "data": {
      "text/html": [
       "<div>\n",
       "<style scoped>\n",
       "    .dataframe tbody tr th:only-of-type {\n",
       "        vertical-align: middle;\n",
       "    }\n",
       "\n",
       "    .dataframe tbody tr th {\n",
       "        vertical-align: top;\n",
       "    }\n",
       "\n",
       "    .dataframe thead th {\n",
       "        text-align: right;\n",
       "    }\n",
       "</style>\n",
       "<table border=\"1\" class=\"dataframe\">\n",
       "  <thead>\n",
       "    <tr style=\"text-align: right;\">\n",
       "      <th></th>\n",
       "      <th>RecordID</th>\n",
       "      <th>Offense</th>\n",
       "      <th>IncidentID</th>\n",
       "      <th>Agency</th>\n",
       "      <th>ReportingOfficer</th>\n",
       "      <th>Date</th>\n",
       "      <th>DayOfWeek</th>\n",
       "      <th>Weekend</th>\n",
       "      <th>Season</th>\n",
       "      <th>TimeOfDay</th>\n",
       "      <th>FullStreet</th>\n",
       "      <th>lat</th>\n",
       "      <th>lon</th>\n",
       "      <th>neighborhood</th>\n",
       "      <th>zip</th>\n",
       "    </tr>\n",
       "  </thead>\n",
       "  <tbody>\n",
       "    <tr>\n",
       "      <th>0</th>\n",
       "      <td>1</td>\n",
       "      <td>Shots Fired/Illegal Hunting</td>\n",
       "      <td>202500027407</td>\n",
       "      <td>CPD</td>\n",
       "      <td>Khaleefa, Hamzeh</td>\n",
       "      <td>2025-08-03 21:29:19</td>\n",
       "      <td>Sunday</td>\n",
       "      <td>True</td>\n",
       "      <td>Summer</td>\n",
       "      <td>Night</td>\n",
       "      <td>1000 LINDEN AVE</td>\n",
       "      <td>38.014255</td>\n",
       "      <td>-78.470047</td>\n",
       "      <td>Belmont</td>\n",
       "      <td>22902</td>\n",
       "    </tr>\n",
       "    <tr>\n",
       "      <th>1</th>\n",
       "      <td>2</td>\n",
       "      <td>Disorderly Conduct</td>\n",
       "      <td>202500027395</td>\n",
       "      <td>CPD</td>\n",
       "      <td>Carrasco, Julio</td>\n",
       "      <td>2025-08-03 18:42:32</td>\n",
       "      <td>Sunday</td>\n",
       "      <td>True</td>\n",
       "      <td>Summer</td>\n",
       "      <td>Evening</td>\n",
       "      <td>500 CHERRY AVE</td>\n",
       "      <td>38.026066</td>\n",
       "      <td>-78.490892</td>\n",
       "      <td>Fifeville</td>\n",
       "      <td>22903</td>\n",
       "    </tr>\n",
       "    <tr>\n",
       "      <th>2</th>\n",
       "      <td>3</td>\n",
       "      <td>Assault Simple</td>\n",
       "      <td>202500027367</td>\n",
       "      <td>CPD</td>\n",
       "      <td>Mian, Ghulam</td>\n",
       "      <td>2025-08-03 13:38:28</td>\n",
       "      <td>Sunday</td>\n",
       "      <td>True</td>\n",
       "      <td>Summer</td>\n",
       "      <td>Afternoon</td>\n",
       "      <td>1000 PRESTON AVE, A</td>\n",
       "      <td>38.039264</td>\n",
       "      <td>-78.491428</td>\n",
       "      <td>Venable</td>\n",
       "      <td>22908</td>\n",
       "    </tr>\n",
       "    <tr>\n",
       "      <th>3</th>\n",
       "      <td>4</td>\n",
       "      <td>Lost/FoundProperty</td>\n",
       "      <td>202500027348</td>\n",
       "      <td>CPD</td>\n",
       "      <td>Lowry, Ryan</td>\n",
       "      <td>2025-08-03 08:46:20</td>\n",
       "      <td>Sunday</td>\n",
       "      <td>True</td>\n",
       "      <td>Summer</td>\n",
       "      <td>Morning</td>\n",
       "      <td>1600 MONTICELLO AVE, F</td>\n",
       "      <td>38.016118</td>\n",
       "      <td>-78.475877</td>\n",
       "      <td>Belmont</td>\n",
       "      <td>22903</td>\n",
       "    </tr>\n",
       "    <tr>\n",
       "      <th>4</th>\n",
       "      <td>5</td>\n",
       "      <td>Assist Citizen - Mental/TDO/ECO</td>\n",
       "      <td>202500027339</td>\n",
       "      <td>CPD</td>\n",
       "      <td>Whitfield, Dylan</td>\n",
       "      <td>2025-08-03 03:45:22</td>\n",
       "      <td>Sunday</td>\n",
       "      <td>True</td>\n",
       "      <td>Summer</td>\n",
       "      <td>Night</td>\n",
       "      <td>100 PENICK CT</td>\n",
       "      <td>38.025125</td>\n",
       "      <td>-78.488221</td>\n",
       "      <td>Ridge St.</td>\n",
       "      <td>22903</td>\n",
       "    </tr>\n",
       "  </tbody>\n",
       "</table>\n",
       "</div>"
      ],
      "text/plain": [
       "   RecordID                          Offense    IncidentID Agency  \\\n",
       "0         1      Shots Fired/Illegal Hunting  202500027407    CPD   \n",
       "1         2               Disorderly Conduct  202500027395    CPD   \n",
       "2         3                   Assault Simple  202500027367    CPD   \n",
       "3         4               Lost/FoundProperty  202500027348    CPD   \n",
       "4         5  Assist Citizen - Mental/TDO/ECO  202500027339    CPD   \n",
       "\n",
       "   ReportingOfficer                Date DayOfWeek  Weekend  Season  TimeOfDay  \\\n",
       "0  Khaleefa, Hamzeh 2025-08-03 21:29:19    Sunday     True  Summer      Night   \n",
       "1   Carrasco, Julio 2025-08-03 18:42:32    Sunday     True  Summer    Evening   \n",
       "2      Mian, Ghulam 2025-08-03 13:38:28    Sunday     True  Summer  Afternoon   \n",
       "3       Lowry, Ryan 2025-08-03 08:46:20    Sunday     True  Summer    Morning   \n",
       "4  Whitfield, Dylan 2025-08-03 03:45:22    Sunday     True  Summer      Night   \n",
       "\n",
       "               FullStreet        lat        lon neighborhood    zip  \n",
       "0         1000 LINDEN AVE  38.014255 -78.470047      Belmont  22902  \n",
       "1          500 CHERRY AVE  38.026066 -78.490892    Fifeville  22903  \n",
       "2     1000 PRESTON AVE, A  38.039264 -78.491428      Venable  22908  \n",
       "3  1600 MONTICELLO AVE, F  38.016118 -78.475877      Belmont  22903  \n",
       "4           100 PENICK CT  38.025125 -78.488221    Ridge St.  22903  "
      ]
     },
     "execution_count": 14,
     "metadata": {},
     "output_type": "execute_result"
    }
   ],
   "source": [
    "# Now drop the original BlockNumber and StreetName columns\n",
    "df.drop(columns=['BlockNumber', 'StreetName','HourAMPM','HourReported','DateString'], inplace=True)\n",
    "df[\"zip\"] = df[\"zip\"].astype(str)\n",
    "\n",
    "# Fill all missing values in the DataFrame with \"N/A\"\n",
    "df.replace({None: \"N/A\", np.nan: \"N/A\", \"\": \"N/A\"}, inplace=True)\n",
    "df.head()"
   ]
  },
  {
   "cell_type": "code",
   "execution_count": 15,
   "id": "65c6d88a",
   "metadata": {
    "execution": {
     "iopub.execute_input": "2025-08-06T01:13:07.285213Z",
     "iopub.status.busy": "2025-08-06T01:13:07.284985Z",
     "iopub.status.idle": "2025-08-06T01:13:07.301766Z",
     "shell.execute_reply": "2025-08-06T01:13:07.301241Z"
    },
    "papermill": {
     "duration": 0.028017,
     "end_time": "2025-08-06T01:13:07.302748",
     "exception": false,
     "start_time": "2025-08-06T01:13:07.274731",
     "status": "completed"
    },
    "tags": []
   },
   "outputs": [
    {
     "name": "stdout",
     "output_type": "stream",
     "text": [
      "                  MissingCount  MissingPercentage\n",
      "RecordID                     0                0.0\n",
      "Offense                      0                0.0\n",
      "IncidentID                   0                0.0\n",
      "Agency                       0                0.0\n",
      "ReportingOfficer             0                0.0\n",
      "Date                         0                0.0\n",
      "DayOfWeek                    0                0.0\n",
      "Weekend                      0                0.0\n",
      "Season                       0                0.0\n",
      "TimeOfDay                    0                0.0\n",
      "FullStreet                   0                0.0\n",
      "lat                          0                0.0\n",
      "lon                          0                0.0\n",
      "neighborhood                 0                0.0\n",
      "zip                          0                0.0\n"
     ]
    }
   ],
   "source": [
    "missing_info = missing_percentage(df)\n",
    "print(missing_info)"
   ]
  },
  {
   "cell_type": "code",
   "execution_count": 16,
   "id": "ffb79d83",
   "metadata": {
    "execution": {
     "iopub.execute_input": "2025-08-06T01:13:07.323012Z",
     "iopub.status.busy": "2025-08-06T01:13:07.322750Z",
     "iopub.status.idle": "2025-08-06T01:13:07.326976Z",
     "shell.execute_reply": "2025-08-06T01:13:07.326395Z"
    },
    "papermill": {
     "duration": 0.01541,
     "end_time": "2025-08-06T01:13:07.327958",
     "exception": false,
     "start_time": "2025-08-06T01:13:07.312548",
     "status": "completed"
    },
    "tags": []
   },
   "outputs": [
    {
     "data": {
      "text/plain": [
       "Index(['RecordID', 'Offense', 'IncidentID', 'Agency', 'ReportingOfficer',\n",
       "       'Date', 'DayOfWeek', 'Weekend', 'Season', 'TimeOfDay', 'FullStreet',\n",
       "       'lat', 'lon', 'neighborhood', 'zip'],\n",
       "      dtype='object')"
      ]
     },
     "execution_count": 16,
     "metadata": {},
     "output_type": "execute_result"
    }
   ],
   "source": [
    "df.columns"
   ]
  },
  {
   "cell_type": "code",
   "execution_count": 17,
   "id": "56e76fbc",
   "metadata": {
    "execution": {
     "iopub.execute_input": "2025-08-06T01:13:07.348297Z",
     "iopub.status.busy": "2025-08-06T01:13:07.348126Z",
     "iopub.status.idle": "2025-08-06T01:13:07.366578Z",
     "shell.execute_reply": "2025-08-06T01:13:07.366057Z"
    },
    "papermill": {
     "duration": 0.029749,
     "end_time": "2025-08-06T01:13:07.367566",
     "exception": false,
     "start_time": "2025-08-06T01:13:07.337817",
     "status": "completed"
    },
    "tags": []
   },
   "outputs": [
    {
     "name": "stdout",
     "output_type": "stream",
     "text": [
      "<class 'pandas.core.frame.DataFrame'>\n",
      "RangeIndex: 25622 entries, 0 to 25621\n",
      "Data columns (total 15 columns):\n",
      " #   Column            Non-Null Count  Dtype         \n",
      "---  ------            --------------  -----         \n",
      " 0   RecordID          25622 non-null  int64         \n",
      " 1   Offense           25622 non-null  object        \n",
      " 2   IncidentID        25622 non-null  object        \n",
      " 3   Agency            25622 non-null  object        \n",
      " 4   ReportingOfficer  25622 non-null  object        \n",
      " 5   Date              25622 non-null  datetime64[ns]\n",
      " 6   DayOfWeek         25622 non-null  object        \n",
      " 7   Weekend           25622 non-null  bool          \n",
      " 8   Season            25622 non-null  object        \n",
      " 9   TimeOfDay         25622 non-null  object        \n",
      " 10  FullStreet        25622 non-null  object        \n",
      " 11  lat               25622 non-null  object        \n",
      " 12  lon               25622 non-null  object        \n",
      " 13  neighborhood      25622 non-null  object        \n",
      " 14  zip               25622 non-null  object        \n",
      "dtypes: bool(1), datetime64[ns](1), int64(1), object(12)\n",
      "memory usage: 2.8+ MB\n"
     ]
    }
   ],
   "source": [
    "df.info()"
   ]
  },
  {
   "cell_type": "markdown",
   "id": "bc4f818c",
   "metadata": {
    "papermill": {
     "duration": 0.010078,
     "end_time": "2025-08-06T01:13:07.387940",
     "exception": false,
     "start_time": "2025-08-06T01:13:07.377862",
     "status": "completed"
    },
    "tags": []
   },
   "source": [
    "### Export Clean Data"
   ]
  },
  {
   "cell_type": "code",
   "execution_count": 18,
   "id": "698400fb",
   "metadata": {
    "execution": {
     "iopub.execute_input": "2025-08-06T01:13:07.408457Z",
     "iopub.status.busy": "2025-08-06T01:13:07.408266Z",
     "iopub.status.idle": "2025-08-06T01:13:16.533033Z",
     "shell.execute_reply": "2025-08-06T01:13:16.532364Z"
    },
    "papermill": {
     "duration": 9.136281,
     "end_time": "2025-08-06T01:13:16.534147",
     "exception": false,
     "start_time": "2025-08-06T01:13:07.397866",
     "status": "completed"
    },
    "tags": []
   },
   "outputs": [
    {
     "name": "stdout",
     "output_type": "stream",
     "text": [
      "Project Root: /home/runner/work/crime-data/crime-data\n"
     ]
    },
    {
     "name": "stdout",
     "output_type": "stream",
     "text": [
      "Data saved to: /home/runner/work/crime-data/crime-data/data/charlottesville_crime_incidents.csv\n"
     ]
    },
    {
     "name": "stdout",
     "output_type": "stream",
     "text": [
      "Excel saved to: /home/runner/work/crime-data/crime-data/data/charlottesville_crime_incidents.xlsx\n"
     ]
    }
   ],
   "source": [
    "# Determine the project root (assuming papermill is run from the repository root)\n",
    "project_root = os.getcwd()\n",
    "print(\"Project Root:\", project_root)\n",
    "\n",
    "# Set the data directory within the project root\n",
    "data_dir = os.path.join(project_root, \"data\")\n",
    "\n",
    "# Ensure the \"data\" directory exists (create it if it doesn't)\n",
    "if not os.path.exists(data_dir):\n",
    "    os.makedirs(data_dir)\n",
    "\n",
    "# Export the DataFrame to CSV in the \"data\" folder located in the project root\n",
    "csv_path = os.path.join(data_dir, \"charlottesville_crime_incidents.csv\")\n",
    "df.to_csv(csv_path, index=False)\n",
    "print(\"Data saved to:\", csv_path)\n",
    "\n",
    "# Construct the path to your Excel file\n",
    "excel_path = os.path.join(data_dir, \"charlottesville_crime_incidents.xlsx\")\n",
    "\n",
    "# Export the DataFrame to Excel\n",
    "df.to_excel(excel_path, index=False)\n",
    "print(\"Excel saved to:\", excel_path)\n"
   ]
  }
 ],
 "metadata": {
  "kernelspec": {
   "display_name": "Python 3",
   "language": "python",
   "name": "python3"
  },
  "language_info": {
   "codemirror_mode": {
    "name": "ipython",
    "version": 3
   },
   "file_extension": ".py",
   "mimetype": "text/x-python",
   "name": "python",
   "nbconvert_exporter": "python",
   "pygments_lexer": "ipython3",
   "version": "3.9.23"
  },
  "papermill": {
   "default_parameters": {},
   "duration": 164.473107,
   "end_time": "2025-08-06T01:13:16.960291",
   "environment_variables": {},
   "exception": null,
   "input_path": "notebook/Crime Data.ipynb",
   "output_path": "notebook/Crime Data_output.ipynb",
   "parameters": {},
   "start_time": "2025-08-06T01:10:32.487184",
   "version": "2.6.0"
  }
 },
 "nbformat": 4,
 "nbformat_minor": 5
}