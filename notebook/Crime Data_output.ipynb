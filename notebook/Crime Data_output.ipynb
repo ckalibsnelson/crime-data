{
 "cells": [
  {
   "cell_type": "markdown",
   "id": "18080a4f",
   "metadata": {
    "papermill": {
     "duration": 0.006165,
     "end_time": "2025-04-21T01:03:25.641159",
     "exception": false,
     "start_time": "2025-04-21T01:03:25.634994",
     "status": "completed"
    },
    "tags": []
   },
   "source": [
    "# Charlottesville Open Data Porttal: Crime Data"
   ]
  },
  {
   "cell_type": "markdown",
   "id": "d032be67",
   "metadata": {
    "papermill": {
     "duration": 0.005084,
     "end_time": "2025-04-21T01:03:25.651786",
     "exception": false,
     "start_time": "2025-04-21T01:03:25.646702",
     "status": "completed"
    },
    "tags": []
   },
   "source": [
    "## Import Relevant Librarires & Set WD"
   ]
  },
  {
   "cell_type": "code",
   "execution_count": 1,
   "id": "47d88efc",
   "metadata": {
    "execution": {
     "iopub.execute_input": "2025-04-21T01:03:25.663788Z",
     "iopub.status.busy": "2025-04-21T01:03:25.663180Z",
     "iopub.status.idle": "2025-04-21T01:03:26.419568Z",
     "shell.execute_reply": "2025-04-21T01:03:26.418929Z"
    },
    "papermill": {
     "duration": 0.763907,
     "end_time": "2025-04-21T01:03:26.420920",
     "exception": false,
     "start_time": "2025-04-21T01:03:25.657013",
     "status": "completed"
    },
    "tags": []
   },
   "outputs": [],
   "source": [
    "import requests\n",
    "import pandas as pd\n",
    "import numpy as np\n",
    "import pickle\n",
    "import googlemaps\n",
    "import plotly.express as px\n",
    "from geopy.geocoders import Nominatim\n",
    "import time\n",
    "from dotenv import load_dotenv\n",
    "import os\n",
    "\n",
    "env_path = os.path.join(\"..\", \".env\")\n",
    "#print(\"Looking for .env file at:\", os.path.abspath(env_path))\n",
    "load_dotenv(dotenv_path=env_path)\n",
    "\n",
    "# Retrieve the variables\n",
    "GOOGLE_API_KEY = os.getenv(\"GOOGLE_API_KEY\")\n",
    "WORKING_DIR = os.getenv(\"WORKING_DIR\")\n",
    "\n",
    "if GOOGLE_API_KEY is None or WORKING_DIR is None:\n",
    "    raise RuntimeError(\"No configuration found. Please ensure that your .env file exists with the required variables, or create a local config.py file.\")\n",
    "\n",
    "#print(\"Google API Key:\", GOOGLE_API_KEY)\n",
    "#print(\"Working Directory:\", WORKING_DIR)"
   ]
  },
  {
   "cell_type": "markdown",
   "id": "f5120149",
   "metadata": {
    "papermill": {
     "duration": 0.005055,
     "end_time": "2025-04-21T01:03:26.431696",
     "exception": false,
     "start_time": "2025-04-21T01:03:26.426641",
     "status": "completed"
    },
    "tags": []
   },
   "source": [
    "## Import Data\n",
    "\n",
    "URL: https://opendata.charlottesville.org/datasets/charlottesville::crime-data/about"
   ]
  },
  {
   "cell_type": "code",
   "execution_count": 2,
   "id": "27d2f82a",
   "metadata": {
    "execution": {
     "iopub.execute_input": "2025-04-21T01:03:26.443071Z",
     "iopub.status.busy": "2025-04-21T01:03:26.442711Z",
     "iopub.status.idle": "2025-04-21T01:04:27.728210Z",
     "shell.execute_reply": "2025-04-21T01:04:27.727386Z"
    },
    "papermill": {
     "duration": 61.295827,
     "end_time": "2025-04-21T01:04:27.732760",
     "exception": false,
     "start_time": "2025-04-21T01:03:26.436933",
     "status": "completed"
    },
    "tags": []
   },
   "outputs": [
    {
     "name": "stdout",
     "output_type": "stream",
     "text": [
      "Total records imported: 25235\n"
     ]
    }
   ],
   "source": [
    "# Define the endpoint and initial parameters.\n",
    "url = \"https://gisweb.charlottesville.org/arcgis/rest/services/OpenData_2/MapServer/6/query\"\n",
    "params = {\n",
    "    \"where\": \"1=1\",\n",
    "    \"outFields\": \"*\",\n",
    "    \"outSR\": 4326,\n",
    "    \"f\": \"json\",\n",
    "    \"resultOffset\": 0,       # Starting index for results\n",
    "    \"resultRecordCount\": 10000  # Maximum records per batch (if allowed by the API)\n",
    "}\n",
    "\n",
    "records = []\n",
    "\n",
    "while True:\n",
    "    response = requests.get(url, params=params)\n",
    "    response.raise_for_status()\n",
    "    data = response.json()\n",
    "    \n",
    "    # Get the current batch of features.\n",
    "    features = data.get(\"features\", [])\n",
    "    if not features:\n",
    "        break\n",
    "\n",
    "    # Extract the attributes from the features.\n",
    "    batch_records = [feature.get(\"attributes\", {}) for feature in features]\n",
    "    records.extend(batch_records)\n",
    "    \n",
    "    # If the batch size is less than the requested count, we reached the end.\n",
    "    if len(features) < params[\"resultRecordCount\"]:\n",
    "        break\n",
    "\n",
    "    # Update the resultOffset for the next batch.\n",
    "    params[\"resultOffset\"] += params[\"resultRecordCount\"]\n",
    "\n",
    "# Create a DataFrame from the combined records.\n",
    "df = pd.DataFrame(records)\n",
    "print(\"Total records imported:\", len(df))\n"
   ]
  },
  {
   "cell_type": "code",
   "execution_count": 3,
   "id": "8ab526c5",
   "metadata": {
    "execution": {
     "iopub.execute_input": "2025-04-21T01:04:27.745287Z",
     "iopub.status.busy": "2025-04-21T01:04:27.744866Z",
     "iopub.status.idle": "2025-04-21T01:04:27.757275Z",
     "shell.execute_reply": "2025-04-21T01:04:27.756606Z"
    },
    "papermill": {
     "duration": 0.020126,
     "end_time": "2025-04-21T01:04:27.758312",
     "exception": false,
     "start_time": "2025-04-21T01:04:27.738186",
     "status": "completed"
    },
    "tags": []
   },
   "outputs": [
    {
     "data": {
      "text/html": [
       "<div>\n",
       "<style scoped>\n",
       "    .dataframe tbody tr th:only-of-type {\n",
       "        vertical-align: middle;\n",
       "    }\n",
       "\n",
       "    .dataframe tbody tr th {\n",
       "        vertical-align: top;\n",
       "    }\n",
       "\n",
       "    .dataframe thead th {\n",
       "        text-align: right;\n",
       "    }\n",
       "</style>\n",
       "<table border=\"1\" class=\"dataframe\">\n",
       "  <thead>\n",
       "    <tr style=\"text-align: right;\">\n",
       "      <th></th>\n",
       "      <th>RecordID</th>\n",
       "      <th>Offense</th>\n",
       "      <th>IncidentID</th>\n",
       "      <th>BlockNumber</th>\n",
       "      <th>StreetName</th>\n",
       "      <th>Agency</th>\n",
       "      <th>DateReported</th>\n",
       "      <th>HourReported</th>\n",
       "      <th>ReportingOfficer</th>\n",
       "    </tr>\n",
       "  </thead>\n",
       "  <tbody>\n",
       "    <tr>\n",
       "      <th>0</th>\n",
       "      <td>1</td>\n",
       "      <td>Trespass</td>\n",
       "      <td>202500012596</td>\n",
       "      <td>1600</td>\n",
       "      <td>EMMET ST N, 328</td>\n",
       "      <td>CPD</td>\n",
       "      <td>1745017487000</td>\n",
       "      <td>1904</td>\n",
       "      <td>Mcdougal, Jordan</td>\n",
       "    </tr>\n",
       "    <tr>\n",
       "      <th>1</th>\n",
       "      <td>2</td>\n",
       "      <td>Larceny - Shoplifitng</td>\n",
       "      <td>202500012589</td>\n",
       "      <td>1200</td>\n",
       "      <td>EMMET ST N, 120</td>\n",
       "      <td>CPD</td>\n",
       "      <td>1745015370000</td>\n",
       "      <td>1829</td>\n",
       "      <td>Essex, Dominique</td>\n",
       "    </tr>\n",
       "    <tr>\n",
       "      <th>2</th>\n",
       "      <td>3</td>\n",
       "      <td>Drunkeness DIP</td>\n",
       "      <td>202500012574</td>\n",
       "      <td>200</td>\n",
       "      <td>W MAIN ST</td>\n",
       "      <td>CPD</td>\n",
       "      <td>1745009218000</td>\n",
       "      <td>1646</td>\n",
       "      <td>Turner, Devon</td>\n",
       "    </tr>\n",
       "    <tr>\n",
       "      <th>3</th>\n",
       "      <td>4</td>\n",
       "      <td>Weapons Violations</td>\n",
       "      <td>202500012558</td>\n",
       "      <td>900</td>\n",
       "      <td>ROCK CREEK RD</td>\n",
       "      <td>CPD</td>\n",
       "      <td>1745003064000</td>\n",
       "      <td>1504</td>\n",
       "      <td>Venereo, Arturo</td>\n",
       "    </tr>\n",
       "    <tr>\n",
       "      <th>4</th>\n",
       "      <td>5</td>\n",
       "      <td>Assist Citizen - Mental/TDO/ECO</td>\n",
       "      <td>202500012547</td>\n",
       "      <td>200</td>\n",
       "      <td>E MARKET ST</td>\n",
       "      <td>CPD</td>\n",
       "      <td>1744999646000</td>\n",
       "      <td>1407</td>\n",
       "      <td>Shiflett, Tammy</td>\n",
       "    </tr>\n",
       "  </tbody>\n",
       "</table>\n",
       "</div>"
      ],
      "text/plain": [
       "   RecordID                          Offense    IncidentID BlockNumber  \\\n",
       "0         1                         Trespass  202500012596        1600   \n",
       "1         2            Larceny - Shoplifitng  202500012589        1200   \n",
       "2         3                   Drunkeness DIP  202500012574         200   \n",
       "3         4               Weapons Violations  202500012558         900   \n",
       "4         5  Assist Citizen - Mental/TDO/ECO  202500012547         200   \n",
       "\n",
       "        StreetName Agency   DateReported HourReported  ReportingOfficer  \n",
       "0  EMMET ST N, 328    CPD  1745017487000         1904  Mcdougal, Jordan  \n",
       "1  EMMET ST N, 120    CPD  1745015370000         1829  Essex, Dominique  \n",
       "2        W MAIN ST    CPD  1745009218000         1646     Turner, Devon  \n",
       "3    ROCK CREEK RD    CPD  1745003064000         1504   Venereo, Arturo  \n",
       "4      E MARKET ST    CPD  1744999646000         1407   Shiflett, Tammy  "
      ]
     },
     "execution_count": 3,
     "metadata": {},
     "output_type": "execute_result"
    }
   ],
   "source": [
    "df.head()"
   ]
  },
  {
   "cell_type": "code",
   "execution_count": 4,
   "id": "ec122f0f",
   "metadata": {
    "execution": {
     "iopub.execute_input": "2025-04-21T01:04:27.770297Z",
     "iopub.status.busy": "2025-04-21T01:04:27.769854Z",
     "iopub.status.idle": "2025-04-21T01:04:27.774938Z",
     "shell.execute_reply": "2025-04-21T01:04:27.774361Z"
    },
    "papermill": {
     "duration": 0.012088,
     "end_time": "2025-04-21T01:04:27.775934",
     "exception": false,
     "start_time": "2025-04-21T01:04:27.763846",
     "status": "completed"
    },
    "tags": []
   },
   "outputs": [
    {
     "data": {
      "text/plain": [
       "Index(['RecordID', 'Offense', 'IncidentID', 'BlockNumber', 'StreetName',\n",
       "       'Agency', 'DateReported', 'HourReported', 'ReportingOfficer'],\n",
       "      dtype='object')"
      ]
     },
     "execution_count": 4,
     "metadata": {},
     "output_type": "execute_result"
    }
   ],
   "source": [
    "df.columns"
   ]
  },
  {
   "cell_type": "code",
   "execution_count": 5,
   "id": "57a65ce8",
   "metadata": {
    "execution": {
     "iopub.execute_input": "2025-04-21T01:04:27.787979Z",
     "iopub.status.busy": "2025-04-21T01:04:27.787781Z",
     "iopub.status.idle": "2025-04-21T01:04:27.811266Z",
     "shell.execute_reply": "2025-04-21T01:04:27.810708Z"
    },
    "papermill": {
     "duration": 0.03097,
     "end_time": "2025-04-21T01:04:27.812474",
     "exception": false,
     "start_time": "2025-04-21T01:04:27.781504",
     "status": "completed"
    },
    "tags": []
   },
   "outputs": [
    {
     "name": "stdout",
     "output_type": "stream",
     "text": [
      "<class 'pandas.core.frame.DataFrame'>\n",
      "RangeIndex: 25235 entries, 0 to 25234\n",
      "Data columns (total 9 columns):\n",
      " #   Column            Non-Null Count  Dtype \n",
      "---  ------            --------------  ----- \n",
      " 0   RecordID          25235 non-null  int64 \n",
      " 1   Offense           25235 non-null  object\n",
      " 2   IncidentID        25235 non-null  object\n",
      " 3   BlockNumber       25235 non-null  object\n",
      " 4   StreetName        25235 non-null  object\n",
      " 5   Agency            25235 non-null  object\n",
      " 6   DateReported      25235 non-null  int64 \n",
      " 7   HourReported      25235 non-null  object\n",
      " 8   ReportingOfficer  25218 non-null  object\n",
      "dtypes: int64(2), object(7)\n",
      "memory usage: 1.7+ MB\n"
     ]
    }
   ],
   "source": [
    "df.info()"
   ]
  },
  {
   "cell_type": "markdown",
   "id": "25ede31c",
   "metadata": {
    "papermill": {
     "duration": 0.005673,
     "end_time": "2025-04-21T01:04:27.823911",
     "exception": false,
     "start_time": "2025-04-21T01:04:27.818238",
     "status": "completed"
    },
    "tags": []
   },
   "source": [
    "### Missing Values"
   ]
  },
  {
   "cell_type": "code",
   "execution_count": 6,
   "id": "17e98eb5",
   "metadata": {
    "execution": {
     "iopub.execute_input": "2025-04-21T01:04:27.836142Z",
     "iopub.status.busy": "2025-04-21T01:04:27.835904Z",
     "iopub.status.idle": "2025-04-21T01:04:27.860505Z",
     "shell.execute_reply": "2025-04-21T01:04:27.859927Z"
    },
    "papermill": {
     "duration": 0.031996,
     "end_time": "2025-04-21T01:04:27.861489",
     "exception": false,
     "start_time": "2025-04-21T01:04:27.829493",
     "status": "completed"
    },
    "tags": []
   },
   "outputs": [
    {
     "name": "stdout",
     "output_type": "stream",
     "text": [
      "                  MissingCount  MissingPercentage\n",
      "RecordID                     0               0.00\n",
      "Offense                      0               0.00\n",
      "IncidentID                   0               0.00\n",
      "BlockNumber                  0               0.00\n",
      "StreetName                   0               0.00\n",
      "Agency                       0               0.00\n",
      "DateReported                 0               0.00\n",
      "HourReported                 0               0.00\n",
      "ReportingOfficer            17               0.07\n"
     ]
    }
   ],
   "source": [
    "def missing_percentage(df):\n",
    "    \"\"\"\n",
    "    Returns a DataFrame with the count and percentage of missing values for each column.\n",
    "    \n",
    "    Parameters:\n",
    "        df (pd.DataFrame): The input DataFrame.\n",
    "    \n",
    "    Returns:\n",
    "        pd.DataFrame: A DataFrame with columns 'MissingCount' and 'MissingPercentage'.\n",
    "    \"\"\"\n",
    "    total_rows = len(df)\n",
    "    missing_count = df.isnull().sum()\n",
    "    missing_percent = (missing_count / total_rows) * 100\n",
    "    \n",
    "    result = pd.DataFrame({\n",
    "        'MissingCount': missing_count,\n",
    "        'MissingPercentage': missing_percent.round(2)\n",
    "    })\n",
    "    \n",
    "    return result\n",
    "\n",
    "# Example usage:\n",
    "missing_info = missing_percentage(df)\n",
    "print(missing_info)\n"
   ]
  },
  {
   "cell_type": "markdown",
   "id": "1d4df8ee",
   "metadata": {
    "papermill": {
     "duration": 0.00577,
     "end_time": "2025-04-21T01:04:27.873653",
     "exception": false,
     "start_time": "2025-04-21T01:04:27.867883",
     "status": "completed"
    },
    "tags": []
   },
   "source": [
    "## Data Preparation"
   ]
  },
  {
   "cell_type": "markdown",
   "id": "c2e4804f",
   "metadata": {
    "papermill": {
     "duration": 0.005741,
     "end_time": "2025-04-21T01:04:27.885081",
     "exception": false,
     "start_time": "2025-04-21T01:04:27.879340",
     "status": "completed"
    },
    "tags": []
   },
   "source": [
    "### Data Conversion"
   ]
  },
  {
   "cell_type": "code",
   "execution_count": 7,
   "id": "adf3157d",
   "metadata": {
    "execution": {
     "iopub.execute_input": "2025-04-21T01:04:27.897771Z",
     "iopub.status.busy": "2025-04-21T01:04:27.897465Z",
     "iopub.status.idle": "2025-04-21T01:04:28.271108Z",
     "shell.execute_reply": "2025-04-21T01:04:28.270366Z"
    },
    "papermill": {
     "duration": 0.381429,
     "end_time": "2025-04-21T01:04:28.272219",
     "exception": false,
     "start_time": "2025-04-21T01:04:27.890790",
     "status": "completed"
    },
    "tags": []
   },
   "outputs": [
    {
     "data": {
      "text/html": [
       "<div>\n",
       "<style scoped>\n",
       "    .dataframe tbody tr th:only-of-type {\n",
       "        vertical-align: middle;\n",
       "    }\n",
       "\n",
       "    .dataframe tbody tr th {\n",
       "        vertical-align: top;\n",
       "    }\n",
       "\n",
       "    .dataframe thead th {\n",
       "        text-align: right;\n",
       "    }\n",
       "</style>\n",
       "<table border=\"1\" class=\"dataframe\">\n",
       "  <thead>\n",
       "    <tr style=\"text-align: right;\">\n",
       "      <th></th>\n",
       "      <th>RecordID</th>\n",
       "      <th>Offense</th>\n",
       "      <th>IncidentID</th>\n",
       "      <th>BlockNumber</th>\n",
       "      <th>StreetName</th>\n",
       "      <th>Agency</th>\n",
       "      <th>HourReported</th>\n",
       "      <th>ReportingOfficer</th>\n",
       "      <th>Date</th>\n",
       "      <th>DateString</th>\n",
       "      <th>DayOfWeek</th>\n",
       "      <th>Weekend</th>\n",
       "      <th>Season</th>\n",
       "      <th>HourAMPM</th>\n",
       "      <th>TimeOfDay</th>\n",
       "    </tr>\n",
       "  </thead>\n",
       "  <tbody>\n",
       "    <tr>\n",
       "      <th>0</th>\n",
       "      <td>1</td>\n",
       "      <td>Trespass</td>\n",
       "      <td>202500012596</td>\n",
       "      <td>1600</td>\n",
       "      <td>EMMET ST N, 328</td>\n",
       "      <td>CPD</td>\n",
       "      <td>1904</td>\n",
       "      <td>Mcdougal, Jordan</td>\n",
       "      <td>2025-04-18 19:04:47</td>\n",
       "      <td>2025-04-18 07:04:47 PM</td>\n",
       "      <td>Friday</td>\n",
       "      <td>False</td>\n",
       "      <td>Spring</td>\n",
       "      <td>07:04 PM</td>\n",
       "      <td>Evening</td>\n",
       "    </tr>\n",
       "    <tr>\n",
       "      <th>1</th>\n",
       "      <td>2</td>\n",
       "      <td>Larceny - Shoplifitng</td>\n",
       "      <td>202500012589</td>\n",
       "      <td>1200</td>\n",
       "      <td>EMMET ST N, 120</td>\n",
       "      <td>CPD</td>\n",
       "      <td>1829</td>\n",
       "      <td>Essex, Dominique</td>\n",
       "      <td>2025-04-18 18:29:30</td>\n",
       "      <td>2025-04-18 06:29:30 PM</td>\n",
       "      <td>Friday</td>\n",
       "      <td>False</td>\n",
       "      <td>Spring</td>\n",
       "      <td>06:29 PM</td>\n",
       "      <td>Evening</td>\n",
       "    </tr>\n",
       "    <tr>\n",
       "      <th>2</th>\n",
       "      <td>3</td>\n",
       "      <td>Drunkeness DIP</td>\n",
       "      <td>202500012574</td>\n",
       "      <td>200</td>\n",
       "      <td>W MAIN ST</td>\n",
       "      <td>CPD</td>\n",
       "      <td>1646</td>\n",
       "      <td>Turner, Devon</td>\n",
       "      <td>2025-04-18 16:46:58</td>\n",
       "      <td>2025-04-18 04:46:58 PM</td>\n",
       "      <td>Friday</td>\n",
       "      <td>False</td>\n",
       "      <td>Spring</td>\n",
       "      <td>04:46 PM</td>\n",
       "      <td>Afternoon</td>\n",
       "    </tr>\n",
       "    <tr>\n",
       "      <th>3</th>\n",
       "      <td>4</td>\n",
       "      <td>Weapons Violations</td>\n",
       "      <td>202500012558</td>\n",
       "      <td>900</td>\n",
       "      <td>ROCK CREEK RD</td>\n",
       "      <td>CPD</td>\n",
       "      <td>1504</td>\n",
       "      <td>Venereo, Arturo</td>\n",
       "      <td>2025-04-18 15:04:24</td>\n",
       "      <td>2025-04-18 03:04:24 PM</td>\n",
       "      <td>Friday</td>\n",
       "      <td>False</td>\n",
       "      <td>Spring</td>\n",
       "      <td>03:04 PM</td>\n",
       "      <td>Afternoon</td>\n",
       "    </tr>\n",
       "    <tr>\n",
       "      <th>4</th>\n",
       "      <td>5</td>\n",
       "      <td>Assist Citizen - Mental/TDO/ECO</td>\n",
       "      <td>202500012547</td>\n",
       "      <td>200</td>\n",
       "      <td>E MARKET ST</td>\n",
       "      <td>CPD</td>\n",
       "      <td>1407</td>\n",
       "      <td>Shiflett, Tammy</td>\n",
       "      <td>2025-04-18 14:07:26</td>\n",
       "      <td>2025-04-18 02:07:26 PM</td>\n",
       "      <td>Friday</td>\n",
       "      <td>False</td>\n",
       "      <td>Spring</td>\n",
       "      <td>02:07 PM</td>\n",
       "      <td>Afternoon</td>\n",
       "    </tr>\n",
       "  </tbody>\n",
       "</table>\n",
       "</div>"
      ],
      "text/plain": [
       "   RecordID                          Offense    IncidentID BlockNumber  \\\n",
       "0         1                         Trespass  202500012596        1600   \n",
       "1         2            Larceny - Shoplifitng  202500012589        1200   \n",
       "2         3                   Drunkeness DIP  202500012574         200   \n",
       "3         4               Weapons Violations  202500012558         900   \n",
       "4         5  Assist Citizen - Mental/TDO/ECO  202500012547         200   \n",
       "\n",
       "        StreetName Agency HourReported  ReportingOfficer                Date  \\\n",
       "0  EMMET ST N, 328    CPD         1904  Mcdougal, Jordan 2025-04-18 19:04:47   \n",
       "1  EMMET ST N, 120    CPD         1829  Essex, Dominique 2025-04-18 18:29:30   \n",
       "2        W MAIN ST    CPD         1646     Turner, Devon 2025-04-18 16:46:58   \n",
       "3    ROCK CREEK RD    CPD         1504   Venereo, Arturo 2025-04-18 15:04:24   \n",
       "4      E MARKET ST    CPD         1407   Shiflett, Tammy 2025-04-18 14:07:26   \n",
       "\n",
       "               DateString DayOfWeek  Weekend  Season  HourAMPM  TimeOfDay  \n",
       "0  2025-04-18 07:04:47 PM    Friday    False  Spring  07:04 PM    Evening  \n",
       "1  2025-04-18 06:29:30 PM    Friday    False  Spring  06:29 PM    Evening  \n",
       "2  2025-04-18 04:46:58 PM    Friday    False  Spring  04:46 PM  Afternoon  \n",
       "3  2025-04-18 03:04:24 PM    Friday    False  Spring  03:04 PM  Afternoon  \n",
       "4  2025-04-18 02:07:26 PM    Friday    False  Spring  02:07 PM  Afternoon  "
      ]
     },
     "execution_count": 7,
     "metadata": {},
     "output_type": "execute_result"
    }
   ],
   "source": [
    "def convert_and_categorize_datereported(df, col='DateReported'):\n",
    "    \"\"\"\n",
    "    Converts an epoch (in milliseconds) date column into a timezone-aware datetime,\n",
    "    converts it to Eastern Time, and then creates columns for day-of-week, weekend flag,\n",
    "    season, 12-hour formatted time, and time-of-day. Keeps both a real datetime column\n",
    "    (Date) and a string representation (DateString).\n",
    "    \"\"\"\n",
    "    import pandas as pd\n",
    "\n",
    "    # Convert the epoch timestamp to a pandas datetime object as UTC, then convert to US/Eastern.\n",
    "    df[\"DateReported_dt\"] = (\n",
    "        pd.to_datetime(df[col], unit=\"ms\", errors=\"coerce\", utc=True)\n",
    "        .dt.tz_convert(\"US/Eastern\")\n",
    "    )\n",
    "    \n",
    "    # Create a true datetime column (remove timezone if you prefer naive datetime)\n",
    "    df[\"Date\"] = df[\"DateReported_dt\"].dt.tz_localize(None)\n",
    "\n",
    "    # Optionally, create a separate string-formatted column\n",
    "    df[\"DateString\"] = df[\"DateReported_dt\"].dt.strftime(\"%Y-%m-%d %I:%M:%S %p\")\n",
    "    \n",
    "    # DayOfWeek\n",
    "    df[\"DayOfWeek\"] = df[\"DateReported_dt\"].dt.day_name()\n",
    "    \n",
    "    # Weekend\n",
    "    df[\"Weekend\"] = df[\"DayOfWeek\"].isin([\"Saturday\", \"Sunday\"])\n",
    "    \n",
    "    # Helper function to determine the season\n",
    "    def get_season(dt):\n",
    "        month = dt.month\n",
    "        day = dt.day\n",
    "        # Approximate Northern Hemisphere season boundaries:\n",
    "        if (month == 12 and day >= 21) or (month < 3) or (month == 3 and day < 20):\n",
    "            return \"Winter\"\n",
    "        elif (month == 3 and day >= 20) or (month < 6) or (month == 6 and day < 21):\n",
    "            return \"Spring\"\n",
    "        elif (month == 6 and day >= 21) or (month < 9) or (month == 9 and day < 22):\n",
    "            return \"Summer\"\n",
    "        else:\n",
    "            return \"Autumn\"\n",
    "    \n",
    "    df[\"Season\"] = df[\"DateReported_dt\"].apply(get_season)\n",
    "    \n",
    "    # 12-hour formatted time (HourAMPM)\n",
    "    df[\"HourAMPM\"] = df[\"DateReported_dt\"].dt.strftime(\"%I:%M %p\")\n",
    "    \n",
    "    # Extract hour (0-23) for time-of-day\n",
    "    df[\"HourValue\"] = df[\"DateReported_dt\"].dt.hour\n",
    "    \n",
    "    def time_of_day(hour):\n",
    "        if pd.isnull(hour):\n",
    "            return None\n",
    "        if 5 <= hour < 12:\n",
    "            return \"Morning\"\n",
    "        elif 12 <= hour < 17:\n",
    "            return \"Afternoon\"\n",
    "        elif 17 <= hour < 21:\n",
    "            return \"Evening\"\n",
    "        else:\n",
    "            return \"Night\"\n",
    "    \n",
    "    df[\"TimeOfDay\"] = df[\"HourValue\"].apply(time_of_day)\n",
    "    \n",
    "    # Drop columns you no longer need\n",
    "    df.drop(columns=[col, \"DateReported_dt\", \"HourValue\"], inplace=True)\n",
    "    \n",
    "    return df\n",
    "\n",
    "# Example usage:\n",
    "df = convert_and_categorize_datereported(df)\n",
    "df.head()\n"
   ]
  },
  {
   "cell_type": "code",
   "execution_count": 8,
   "id": "67b1c0d1",
   "metadata": {
    "execution": {
     "iopub.execute_input": "2025-04-21T01:04:28.285884Z",
     "iopub.status.busy": "2025-04-21T01:04:28.285451Z",
     "iopub.status.idle": "2025-04-21T01:04:28.314123Z",
     "shell.execute_reply": "2025-04-21T01:04:28.313549Z"
    },
    "papermill": {
     "duration": 0.036512,
     "end_time": "2025-04-21T01:04:28.315130",
     "exception": false,
     "start_time": "2025-04-21T01:04:28.278618",
     "status": "completed"
    },
    "tags": []
   },
   "outputs": [
    {
     "name": "stdout",
     "output_type": "stream",
     "text": [
      "<class 'pandas.core.frame.DataFrame'>\n",
      "RangeIndex: 25235 entries, 0 to 25234\n",
      "Data columns (total 15 columns):\n",
      " #   Column            Non-Null Count  Dtype         \n",
      "---  ------            --------------  -----         \n",
      " 0   RecordID          25235 non-null  int64         \n",
      " 1   Offense           25235 non-null  object        \n",
      " 2   IncidentID        25235 non-null  object        \n",
      " 3   BlockNumber       25235 non-null  object        \n",
      " 4   StreetName        25235 non-null  object        \n",
      " 5   Agency            25235 non-null  object        \n",
      " 6   HourReported      25235 non-null  object        \n",
      " 7   ReportingOfficer  25218 non-null  object        \n",
      " 8   Date              25235 non-null  datetime64[ns]\n",
      " 9   DateString        25235 non-null  object        \n",
      " 10  DayOfWeek         25235 non-null  object        \n",
      " 11  Weekend           25235 non-null  bool          \n",
      " 12  Season            25235 non-null  object        \n",
      " 13  HourAMPM          25235 non-null  object        \n",
      " 14  TimeOfDay         25235 non-null  object        \n",
      "dtypes: bool(1), datetime64[ns](1), int64(1), object(12)\n",
      "memory usage: 2.7+ MB\n"
     ]
    }
   ],
   "source": [
    "df.info()"
   ]
  },
  {
   "cell_type": "markdown",
   "id": "456ae6fd",
   "metadata": {
    "papermill": {
     "duration": 0.006007,
     "end_time": "2025-04-21T01:04:28.327364",
     "exception": false,
     "start_time": "2025-04-21T01:04:28.321357",
     "status": "completed"
    },
    "tags": []
   },
   "source": [
    "### Coordinates"
   ]
  },
  {
   "cell_type": "code",
   "execution_count": 9,
   "id": "151b4bec",
   "metadata": {
    "execution": {
     "iopub.execute_input": "2025-04-21T01:04:28.340510Z",
     "iopub.status.busy": "2025-04-21T01:04:28.340235Z",
     "iopub.status.idle": "2025-04-21T01:04:28.625943Z",
     "shell.execute_reply": "2025-04-21T01:04:28.625295Z"
    },
    "papermill": {
     "duration": 0.293648,
     "end_time": "2025-04-21T01:04:28.627001",
     "exception": false,
     "start_time": "2025-04-21T01:04:28.333353",
     "status": "completed"
    },
    "tags": []
   },
   "outputs": [
    {
     "name": "stdout",
     "output_type": "stream",
     "text": [
      "Loaded geocode cache.\n",
      "Geocoded 1600 EMMET ST N, 328: 38.0579473, -78.4939113\n"
     ]
    },
    {
     "name": "stdout",
     "output_type": "stream",
     "text": [
      "Geocoded 600 RIDGE ST, C: 38.0254406, -78.4891703\n",
      "Geocode cache updated and saved.\n"
     ]
    },
    {
     "data": {
      "text/html": [
       "<div>\n",
       "<style scoped>\n",
       "    .dataframe tbody tr th:only-of-type {\n",
       "        vertical-align: middle;\n",
       "    }\n",
       "\n",
       "    .dataframe tbody tr th {\n",
       "        vertical-align: top;\n",
       "    }\n",
       "\n",
       "    .dataframe thead th {\n",
       "        text-align: right;\n",
       "    }\n",
       "</style>\n",
       "<table border=\"1\" class=\"dataframe\">\n",
       "  <thead>\n",
       "    <tr style=\"text-align: right;\">\n",
       "      <th></th>\n",
       "      <th>RecordID</th>\n",
       "      <th>Offense</th>\n",
       "      <th>IncidentID</th>\n",
       "      <th>BlockNumber</th>\n",
       "      <th>StreetName</th>\n",
       "      <th>Agency</th>\n",
       "      <th>HourReported</th>\n",
       "      <th>ReportingOfficer</th>\n",
       "      <th>Date</th>\n",
       "      <th>DateString</th>\n",
       "      <th>DayOfWeek</th>\n",
       "      <th>Weekend</th>\n",
       "      <th>Season</th>\n",
       "      <th>HourAMPM</th>\n",
       "      <th>TimeOfDay</th>\n",
       "      <th>FullStreet</th>\n",
       "      <th>lat</th>\n",
       "      <th>lon</th>\n",
       "    </tr>\n",
       "  </thead>\n",
       "  <tbody>\n",
       "    <tr>\n",
       "      <th>0</th>\n",
       "      <td>1</td>\n",
       "      <td>Trespass</td>\n",
       "      <td>202500012596</td>\n",
       "      <td>1600</td>\n",
       "      <td>EMMET ST N, 328</td>\n",
       "      <td>CPD</td>\n",
       "      <td>1904</td>\n",
       "      <td>Mcdougal, Jordan</td>\n",
       "      <td>2025-04-18 19:04:47</td>\n",
       "      <td>2025-04-18 07:04:47 PM</td>\n",
       "      <td>Friday</td>\n",
       "      <td>False</td>\n",
       "      <td>Spring</td>\n",
       "      <td>07:04 PM</td>\n",
       "      <td>Evening</td>\n",
       "      <td>1600 EMMET ST N, 328</td>\n",
       "      <td>38.057947</td>\n",
       "      <td>-78.493911</td>\n",
       "    </tr>\n",
       "    <tr>\n",
       "      <th>1</th>\n",
       "      <td>2</td>\n",
       "      <td>Larceny - Shoplifitng</td>\n",
       "      <td>202500012589</td>\n",
       "      <td>1200</td>\n",
       "      <td>EMMET ST N, 120</td>\n",
       "      <td>CPD</td>\n",
       "      <td>1829</td>\n",
       "      <td>Essex, Dominique</td>\n",
       "      <td>2025-04-18 18:29:30</td>\n",
       "      <td>2025-04-18 06:29:30 PM</td>\n",
       "      <td>Friday</td>\n",
       "      <td>False</td>\n",
       "      <td>Spring</td>\n",
       "      <td>06:29 PM</td>\n",
       "      <td>Evening</td>\n",
       "      <td>1200 EMMET ST N, 120</td>\n",
       "      <td>38.052917</td>\n",
       "      <td>-78.498591</td>\n",
       "    </tr>\n",
       "    <tr>\n",
       "      <th>2</th>\n",
       "      <td>3</td>\n",
       "      <td>Drunkeness DIP</td>\n",
       "      <td>202500012574</td>\n",
       "      <td>200</td>\n",
       "      <td>W MAIN ST</td>\n",
       "      <td>CPD</td>\n",
       "      <td>1646</td>\n",
       "      <td>Turner, Devon</td>\n",
       "      <td>2025-04-18 16:46:58</td>\n",
       "      <td>2025-04-18 04:46:58 PM</td>\n",
       "      <td>Friday</td>\n",
       "      <td>False</td>\n",
       "      <td>Spring</td>\n",
       "      <td>04:46 PM</td>\n",
       "      <td>Afternoon</td>\n",
       "      <td>200 W MAIN ST</td>\n",
       "      <td>38.030841</td>\n",
       "      <td>-78.482517</td>\n",
       "    </tr>\n",
       "    <tr>\n",
       "      <th>3</th>\n",
       "      <td>4</td>\n",
       "      <td>Weapons Violations</td>\n",
       "      <td>202500012558</td>\n",
       "      <td>900</td>\n",
       "      <td>ROCK CREEK RD</td>\n",
       "      <td>CPD</td>\n",
       "      <td>1504</td>\n",
       "      <td>Venereo, Arturo</td>\n",
       "      <td>2025-04-18 15:04:24</td>\n",
       "      <td>2025-04-18 03:04:24 PM</td>\n",
       "      <td>Friday</td>\n",
       "      <td>False</td>\n",
       "      <td>Spring</td>\n",
       "      <td>03:04 PM</td>\n",
       "      <td>Afternoon</td>\n",
       "      <td>900 ROCK CREEK RD</td>\n",
       "      <td>38.020764</td>\n",
       "      <td>-78.498952</td>\n",
       "    </tr>\n",
       "    <tr>\n",
       "      <th>4</th>\n",
       "      <td>5</td>\n",
       "      <td>Assist Citizen - Mental/TDO/ECO</td>\n",
       "      <td>202500012547</td>\n",
       "      <td>200</td>\n",
       "      <td>E MARKET ST</td>\n",
       "      <td>CPD</td>\n",
       "      <td>1407</td>\n",
       "      <td>Shiflett, Tammy</td>\n",
       "      <td>2025-04-18 14:07:26</td>\n",
       "      <td>2025-04-18 02:07:26 PM</td>\n",
       "      <td>Friday</td>\n",
       "      <td>False</td>\n",
       "      <td>Spring</td>\n",
       "      <td>02:07 PM</td>\n",
       "      <td>Afternoon</td>\n",
       "      <td>200 E MARKET ST</td>\n",
       "      <td>38.031104</td>\n",
       "      <td>-78.480367</td>\n",
       "    </tr>\n",
       "  </tbody>\n",
       "</table>\n",
       "</div>"
      ],
      "text/plain": [
       "   RecordID                          Offense    IncidentID BlockNumber  \\\n",
       "0         1                         Trespass  202500012596        1600   \n",
       "1         2            Larceny - Shoplifitng  202500012589        1200   \n",
       "2         3                   Drunkeness DIP  202500012574         200   \n",
       "3         4               Weapons Violations  202500012558         900   \n",
       "4         5  Assist Citizen - Mental/TDO/ECO  202500012547         200   \n",
       "\n",
       "        StreetName Agency HourReported  ReportingOfficer                Date  \\\n",
       "0  EMMET ST N, 328    CPD         1904  Mcdougal, Jordan 2025-04-18 19:04:47   \n",
       "1  EMMET ST N, 120    CPD         1829  Essex, Dominique 2025-04-18 18:29:30   \n",
       "2        W MAIN ST    CPD         1646     Turner, Devon 2025-04-18 16:46:58   \n",
       "3    ROCK CREEK RD    CPD         1504   Venereo, Arturo 2025-04-18 15:04:24   \n",
       "4      E MARKET ST    CPD         1407   Shiflett, Tammy 2025-04-18 14:07:26   \n",
       "\n",
       "               DateString DayOfWeek  Weekend  Season  HourAMPM  TimeOfDay  \\\n",
       "0  2025-04-18 07:04:47 PM    Friday    False  Spring  07:04 PM    Evening   \n",
       "1  2025-04-18 06:29:30 PM    Friday    False  Spring  06:29 PM    Evening   \n",
       "2  2025-04-18 04:46:58 PM    Friday    False  Spring  04:46 PM  Afternoon   \n",
       "3  2025-04-18 03:04:24 PM    Friday    False  Spring  03:04 PM  Afternoon   \n",
       "4  2025-04-18 02:07:26 PM    Friday    False  Spring  02:07 PM  Afternoon   \n",
       "\n",
       "             FullStreet        lat        lon  \n",
       "0  1600 EMMET ST N, 328  38.057947 -78.493911  \n",
       "1  1200 EMMET ST N, 120  38.052917 -78.498591  \n",
       "2         200 W MAIN ST  38.030841 -78.482517  \n",
       "3     900 ROCK CREEK RD  38.020764 -78.498952  \n",
       "4       200 E MARKET ST  38.031104 -78.480367  "
      ]
     },
     "execution_count": 9,
     "metadata": {},
     "output_type": "execute_result"
    }
   ],
   "source": [
    "# Combine BlockNumber and StreetName into a full address string\n",
    "df['FullStreet'] = df['BlockNumber'].astype(str) + \" \" + df['StreetName']\n",
    "\n",
    "# --- Step 1: Setup the Google Maps Client and Cache ---\n",
    "gmaps = googlemaps.Client(key=GOOGLE_API_KEY)\n",
    "\n",
    "# Try to load cached geocoding results if available.\n",
    "try:\n",
    "    with open(\"geocode_cache_google.pkl\", \"rb\") as f:\n",
    "        street_coords = pickle.load(f)\n",
    "    print(\"Loaded geocode cache.\")\n",
    "except FileNotFoundError:\n",
    "    street_coords = {}\n",
    "    print(\"No cache found; starting fresh.\")\n",
    "\n",
    "def geocode_address(address):\n",
    "    try:\n",
    "        # Append city and state to help geocoding\n",
    "        result = gmaps.geocode(f\"{address}, Charlottesville, VA\")\n",
    "        if result:\n",
    "            lat = result[0]['geometry']['location']['lat']\n",
    "            lon = result[0]['geometry']['location']['lng']\n",
    "            return lat, lon\n",
    "    except Exception as e:\n",
    "        print(f\"Error geocoding {address}: {e}\")\n",
    "    return None, None\n",
    "\n",
    "# --- Step 2: Geocode Only New Addresses ---\n",
    "unique_addresses = df['FullStreet'].unique()\n",
    "for address in unique_addresses:\n",
    "    if address not in street_coords:\n",
    "        lat, lon = geocode_address(address)\n",
    "        street_coords[address] = (lat, lon)\n",
    "        print(f\"Geocoded {address}: {lat}, {lon}\")\n",
    "\n",
    "# Save the updated cache to disk.\n",
    "with open(\"geocode_cache_google.pkl\", \"wb\") as f:\n",
    "    pickle.dump(street_coords, f)\n",
    "    print(\"Geocode cache updated and saved.\")\n",
    "\n",
    "# --- Step 3: Map Coordinates Back to DataFrame ---\n",
    "df['lat'] = df['FullStreet'].map(lambda s: street_coords.get(s, (None, None))[0])\n",
    "df['lon'] = df['FullStreet'].map(lambda s: street_coords.get(s, (None, None))[1])\n",
    "\n",
    "df.head()"
   ]
  },
  {
   "cell_type": "markdown",
   "id": "1a833242",
   "metadata": {
    "papermill": {
     "duration": 0.006397,
     "end_time": "2025-04-21T01:04:28.640051",
     "exception": false,
     "start_time": "2025-04-21T01:04:28.633654",
     "status": "completed"
    },
    "tags": []
   },
   "source": [
    "### Neighborhood"
   ]
  },
  {
   "cell_type": "code",
   "execution_count": 10,
   "id": "5e5289f3",
   "metadata": {
    "execution": {
     "iopub.execute_input": "2025-04-21T01:04:28.654058Z",
     "iopub.status.busy": "2025-04-21T01:04:28.653501Z",
     "iopub.status.idle": "2025-04-21T01:04:28.913231Z",
     "shell.execute_reply": "2025-04-21T01:04:28.912532Z"
    },
    "papermill": {
     "duration": 0.267984,
     "end_time": "2025-04-21T01:04:28.914371",
     "exception": false,
     "start_time": "2025-04-21T01:04:28.646387",
     "status": "completed"
    },
    "tags": []
   },
   "outputs": [
    {
     "name": "stdout",
     "output_type": "stream",
     "text": [
      "Loaded neighborhood cache.\n"
     ]
    },
    {
     "data": {
      "text/html": [
       "<div>\n",
       "<style scoped>\n",
       "    .dataframe tbody tr th:only-of-type {\n",
       "        vertical-align: middle;\n",
       "    }\n",
       "\n",
       "    .dataframe tbody tr th {\n",
       "        vertical-align: top;\n",
       "    }\n",
       "\n",
       "    .dataframe thead th {\n",
       "        text-align: right;\n",
       "    }\n",
       "</style>\n",
       "<table border=\"1\" class=\"dataframe\">\n",
       "  <thead>\n",
       "    <tr style=\"text-align: right;\">\n",
       "      <th></th>\n",
       "      <th>RecordID</th>\n",
       "      <th>Offense</th>\n",
       "      <th>IncidentID</th>\n",
       "      <th>BlockNumber</th>\n",
       "      <th>StreetName</th>\n",
       "      <th>Agency</th>\n",
       "      <th>HourReported</th>\n",
       "      <th>ReportingOfficer</th>\n",
       "      <th>Date</th>\n",
       "      <th>DateString</th>\n",
       "      <th>DayOfWeek</th>\n",
       "      <th>Weekend</th>\n",
       "      <th>Season</th>\n",
       "      <th>HourAMPM</th>\n",
       "      <th>TimeOfDay</th>\n",
       "      <th>FullStreet</th>\n",
       "      <th>lat</th>\n",
       "      <th>lon</th>\n",
       "      <th>neighborhood</th>\n",
       "    </tr>\n",
       "  </thead>\n",
       "  <tbody>\n",
       "    <tr>\n",
       "      <th>0</th>\n",
       "      <td>1</td>\n",
       "      <td>Trespass</td>\n",
       "      <td>202500012596</td>\n",
       "      <td>1600</td>\n",
       "      <td>EMMET ST N, 328</td>\n",
       "      <td>CPD</td>\n",
       "      <td>1904</td>\n",
       "      <td>Mcdougal, Jordan</td>\n",
       "      <td>2025-04-18 19:04:47</td>\n",
       "      <td>2025-04-18 07:04:47 PM</td>\n",
       "      <td>Friday</td>\n",
       "      <td>False</td>\n",
       "      <td>Spring</td>\n",
       "      <td>07:04 PM</td>\n",
       "      <td>Evening</td>\n",
       "      <td>1600 EMMET ST N, 328</td>\n",
       "      <td>38.057947</td>\n",
       "      <td>-78.493911</td>\n",
       "      <td>The Meadows</td>\n",
       "    </tr>\n",
       "    <tr>\n",
       "      <th>1</th>\n",
       "      <td>2</td>\n",
       "      <td>Larceny - Shoplifitng</td>\n",
       "      <td>202500012589</td>\n",
       "      <td>1200</td>\n",
       "      <td>EMMET ST N, 120</td>\n",
       "      <td>CPD</td>\n",
       "      <td>1829</td>\n",
       "      <td>Essex, Dominique</td>\n",
       "      <td>2025-04-18 18:29:30</td>\n",
       "      <td>2025-04-18 06:29:30 PM</td>\n",
       "      <td>Friday</td>\n",
       "      <td>False</td>\n",
       "      <td>Spring</td>\n",
       "      <td>06:29 PM</td>\n",
       "      <td>Evening</td>\n",
       "      <td>1200 EMMET ST N, 120</td>\n",
       "      <td>38.052917</td>\n",
       "      <td>-78.498591</td>\n",
       "      <td>The Meadows</td>\n",
       "    </tr>\n",
       "    <tr>\n",
       "      <th>2</th>\n",
       "      <td>3</td>\n",
       "      <td>Drunkeness DIP</td>\n",
       "      <td>202500012574</td>\n",
       "      <td>200</td>\n",
       "      <td>W MAIN ST</td>\n",
       "      <td>CPD</td>\n",
       "      <td>1646</td>\n",
       "      <td>Turner, Devon</td>\n",
       "      <td>2025-04-18 16:46:58</td>\n",
       "      <td>2025-04-18 04:46:58 PM</td>\n",
       "      <td>Friday</td>\n",
       "      <td>False</td>\n",
       "      <td>Spring</td>\n",
       "      <td>04:46 PM</td>\n",
       "      <td>Afternoon</td>\n",
       "      <td>200 W MAIN ST</td>\n",
       "      <td>38.030841</td>\n",
       "      <td>-78.482517</td>\n",
       "      <td>Downtown Mall</td>\n",
       "    </tr>\n",
       "    <tr>\n",
       "      <th>3</th>\n",
       "      <td>4</td>\n",
       "      <td>Weapons Violations</td>\n",
       "      <td>202500012558</td>\n",
       "      <td>900</td>\n",
       "      <td>ROCK CREEK RD</td>\n",
       "      <td>CPD</td>\n",
       "      <td>1504</td>\n",
       "      <td>Venereo, Arturo</td>\n",
       "      <td>2025-04-18 15:04:24</td>\n",
       "      <td>2025-04-18 03:04:24 PM</td>\n",
       "      <td>Friday</td>\n",
       "      <td>False</td>\n",
       "      <td>Spring</td>\n",
       "      <td>03:04 PM</td>\n",
       "      <td>Afternoon</td>\n",
       "      <td>900 ROCK CREEK RD</td>\n",
       "      <td>38.020764</td>\n",
       "      <td>-78.498952</td>\n",
       "      <td>Johnson Village</td>\n",
       "    </tr>\n",
       "    <tr>\n",
       "      <th>4</th>\n",
       "      <td>5</td>\n",
       "      <td>Assist Citizen - Mental/TDO/ECO</td>\n",
       "      <td>202500012547</td>\n",
       "      <td>200</td>\n",
       "      <td>E MARKET ST</td>\n",
       "      <td>CPD</td>\n",
       "      <td>1407</td>\n",
       "      <td>Shiflett, Tammy</td>\n",
       "      <td>2025-04-18 14:07:26</td>\n",
       "      <td>2025-04-18 02:07:26 PM</td>\n",
       "      <td>Friday</td>\n",
       "      <td>False</td>\n",
       "      <td>Spring</td>\n",
       "      <td>02:07 PM</td>\n",
       "      <td>Afternoon</td>\n",
       "      <td>200 E MARKET ST</td>\n",
       "      <td>38.031104</td>\n",
       "      <td>-78.480367</td>\n",
       "      <td>Downtown Mall</td>\n",
       "    </tr>\n",
       "  </tbody>\n",
       "</table>\n",
       "</div>"
      ],
      "text/plain": [
       "   RecordID                          Offense    IncidentID BlockNumber  \\\n",
       "0         1                         Trespass  202500012596        1600   \n",
       "1         2            Larceny - Shoplifitng  202500012589        1200   \n",
       "2         3                   Drunkeness DIP  202500012574         200   \n",
       "3         4               Weapons Violations  202500012558         900   \n",
       "4         5  Assist Citizen - Mental/TDO/ECO  202500012547         200   \n",
       "\n",
       "        StreetName Agency HourReported  ReportingOfficer                Date  \\\n",
       "0  EMMET ST N, 328    CPD         1904  Mcdougal, Jordan 2025-04-18 19:04:47   \n",
       "1  EMMET ST N, 120    CPD         1829  Essex, Dominique 2025-04-18 18:29:30   \n",
       "2        W MAIN ST    CPD         1646     Turner, Devon 2025-04-18 16:46:58   \n",
       "3    ROCK CREEK RD    CPD         1504   Venereo, Arturo 2025-04-18 15:04:24   \n",
       "4      E MARKET ST    CPD         1407   Shiflett, Tammy 2025-04-18 14:07:26   \n",
       "\n",
       "               DateString DayOfWeek  Weekend  Season  HourAMPM  TimeOfDay  \\\n",
       "0  2025-04-18 07:04:47 PM    Friday    False  Spring  07:04 PM    Evening   \n",
       "1  2025-04-18 06:29:30 PM    Friday    False  Spring  06:29 PM    Evening   \n",
       "2  2025-04-18 04:46:58 PM    Friday    False  Spring  04:46 PM  Afternoon   \n",
       "3  2025-04-18 03:04:24 PM    Friday    False  Spring  03:04 PM  Afternoon   \n",
       "4  2025-04-18 02:07:26 PM    Friday    False  Spring  02:07 PM  Afternoon   \n",
       "\n",
       "             FullStreet        lat        lon     neighborhood  \n",
       "0  1600 EMMET ST N, 328  38.057947 -78.493911      The Meadows  \n",
       "1  1200 EMMET ST N, 120  38.052917 -78.498591      The Meadows  \n",
       "2         200 W MAIN ST  38.030841 -78.482517    Downtown Mall  \n",
       "3     900 ROCK CREEK RD  38.020764 -78.498952  Johnson Village  \n",
       "4       200 E MARKET ST  38.031104 -78.480367    Downtown Mall  "
      ]
     },
     "execution_count": 10,
     "metadata": {},
     "output_type": "execute_result"
    }
   ],
   "source": [
    "# Initialize the Google Maps client.\n",
    "gmaps = googlemaps.Client(key=GOOGLE_API_KEY)\n",
    "\n",
    "# Try to load a persistent neighborhood cache if available.\n",
    "try:\n",
    "    with open(\"neighborhood_cache.pkl\", \"rb\") as f:\n",
    "        neighborhood_cache = pickle.load(f)\n",
    "    print(\"Loaded neighborhood cache.\")\n",
    "except FileNotFoundError:\n",
    "    neighborhood_cache = {}\n",
    "    print(\"No neighborhood cache found; starting fresh.\")\n",
    "\n",
    "def get_neighborhood(lat, lon):\n",
    "    \"\"\"\n",
    "    Reverse geocodes a latitude and longitude to retrieve the neighborhood.\n",
    "    Caches results to speed up subsequent lookups.\n",
    "    \"\"\"\n",
    "    key = (lat, lon)\n",
    "    if key in neighborhood_cache:\n",
    "        return neighborhood_cache[key]\n",
    "    \n",
    "    try:\n",
    "        result = gmaps.reverse_geocode((lat, lon))\n",
    "        if result:\n",
    "            # Look for the 'neighborhood' component in the first result.\n",
    "            for component in result[0]['address_components']:\n",
    "                if 'neighborhood' in component['types']:\n",
    "                    neighborhood = component['long_name']\n",
    "                    neighborhood_cache[key] = neighborhood\n",
    "                    return neighborhood\n",
    "            # If no neighborhood is found, return \"N/A\"\n",
    "            neighborhood_cache[key] = \"N/A\"\n",
    "            return \"N/A\"\n",
    "    except Exception as e:\n",
    "        print(f\"Error getting neighborhood for {lat}, {lon}: {e}\")\n",
    "        return \"N/A\"\n",
    "    \n",
    "    # Pause to respect usage limits.\n",
    "    time.sleep(1)\n",
    "\n",
    "# Example usage: Apply to your DataFrame 'df' that already has 'lat' and 'lon' columns.\n",
    "df['neighborhood'] = df.apply(lambda row: get_neighborhood(row['lat'], row['lon']), axis=1)\n",
    "\n",
    "# Save the updated neighborhood cache.\n",
    "with open(\"neighborhood_cache.pkl\", \"wb\") as f:\n",
    "    pickle.dump(neighborhood_cache, f)\n",
    "\n",
    "df.head()\n"
   ]
  },
  {
   "cell_type": "markdown",
   "id": "c9883c3b",
   "metadata": {
    "papermill": {
     "duration": 0.006741,
     "end_time": "2025-04-21T01:04:28.927952",
     "exception": false,
     "start_time": "2025-04-21T01:04:28.921211",
     "status": "completed"
    },
    "tags": []
   },
   "source": [
    "### Zip"
   ]
  },
  {
   "cell_type": "code",
   "execution_count": 11,
   "id": "15fcf999",
   "metadata": {
    "execution": {
     "iopub.execute_input": "2025-04-21T01:04:28.942360Z",
     "iopub.status.busy": "2025-04-21T01:04:28.941832Z",
     "iopub.status.idle": "2025-04-21T01:04:29.183004Z",
     "shell.execute_reply": "2025-04-21T01:04:29.182326Z"
    },
    "papermill": {
     "duration": 0.249544,
     "end_time": "2025-04-21T01:04:29.184037",
     "exception": false,
     "start_time": "2025-04-21T01:04:28.934493",
     "status": "completed"
    },
    "tags": []
   },
   "outputs": [
    {
     "name": "stdout",
     "output_type": "stream",
     "text": [
      "Loaded zip cache.\n"
     ]
    },
    {
     "data": {
      "text/html": [
       "<div>\n",
       "<style scoped>\n",
       "    .dataframe tbody tr th:only-of-type {\n",
       "        vertical-align: middle;\n",
       "    }\n",
       "\n",
       "    .dataframe tbody tr th {\n",
       "        vertical-align: top;\n",
       "    }\n",
       "\n",
       "    .dataframe thead th {\n",
       "        text-align: right;\n",
       "    }\n",
       "</style>\n",
       "<table border=\"1\" class=\"dataframe\">\n",
       "  <thead>\n",
       "    <tr style=\"text-align: right;\">\n",
       "      <th></th>\n",
       "      <th>RecordID</th>\n",
       "      <th>Offense</th>\n",
       "      <th>IncidentID</th>\n",
       "      <th>BlockNumber</th>\n",
       "      <th>StreetName</th>\n",
       "      <th>Agency</th>\n",
       "      <th>HourReported</th>\n",
       "      <th>ReportingOfficer</th>\n",
       "      <th>Date</th>\n",
       "      <th>DateString</th>\n",
       "      <th>DayOfWeek</th>\n",
       "      <th>Weekend</th>\n",
       "      <th>Season</th>\n",
       "      <th>HourAMPM</th>\n",
       "      <th>TimeOfDay</th>\n",
       "      <th>FullStreet</th>\n",
       "      <th>lat</th>\n",
       "      <th>lon</th>\n",
       "      <th>neighborhood</th>\n",
       "      <th>zip</th>\n",
       "    </tr>\n",
       "  </thead>\n",
       "  <tbody>\n",
       "    <tr>\n",
       "      <th>0</th>\n",
       "      <td>1</td>\n",
       "      <td>Trespass</td>\n",
       "      <td>202500012596</td>\n",
       "      <td>1600</td>\n",
       "      <td>EMMET ST N, 328</td>\n",
       "      <td>CPD</td>\n",
       "      <td>1904</td>\n",
       "      <td>Mcdougal, Jordan</td>\n",
       "      <td>2025-04-18 19:04:47</td>\n",
       "      <td>2025-04-18 07:04:47 PM</td>\n",
       "      <td>Friday</td>\n",
       "      <td>False</td>\n",
       "      <td>Spring</td>\n",
       "      <td>07:04 PM</td>\n",
       "      <td>Evening</td>\n",
       "      <td>1600 EMMET ST N, 328</td>\n",
       "      <td>38.057947</td>\n",
       "      <td>-78.493911</td>\n",
       "      <td>The Meadows</td>\n",
       "      <td>22901</td>\n",
       "    </tr>\n",
       "    <tr>\n",
       "      <th>1</th>\n",
       "      <td>2</td>\n",
       "      <td>Larceny - Shoplifitng</td>\n",
       "      <td>202500012589</td>\n",
       "      <td>1200</td>\n",
       "      <td>EMMET ST N, 120</td>\n",
       "      <td>CPD</td>\n",
       "      <td>1829</td>\n",
       "      <td>Essex, Dominique</td>\n",
       "      <td>2025-04-18 18:29:30</td>\n",
       "      <td>2025-04-18 06:29:30 PM</td>\n",
       "      <td>Friday</td>\n",
       "      <td>False</td>\n",
       "      <td>Spring</td>\n",
       "      <td>06:29 PM</td>\n",
       "      <td>Evening</td>\n",
       "      <td>1200 EMMET ST N, 120</td>\n",
       "      <td>38.052917</td>\n",
       "      <td>-78.498591</td>\n",
       "      <td>The Meadows</td>\n",
       "      <td>22905</td>\n",
       "    </tr>\n",
       "    <tr>\n",
       "      <th>2</th>\n",
       "      <td>3</td>\n",
       "      <td>Drunkeness DIP</td>\n",
       "      <td>202500012574</td>\n",
       "      <td>200</td>\n",
       "      <td>W MAIN ST</td>\n",
       "      <td>CPD</td>\n",
       "      <td>1646</td>\n",
       "      <td>Turner, Devon</td>\n",
       "      <td>2025-04-18 16:46:58</td>\n",
       "      <td>2025-04-18 04:46:58 PM</td>\n",
       "      <td>Friday</td>\n",
       "      <td>False</td>\n",
       "      <td>Spring</td>\n",
       "      <td>04:46 PM</td>\n",
       "      <td>Afternoon</td>\n",
       "      <td>200 W MAIN ST</td>\n",
       "      <td>38.030841</td>\n",
       "      <td>-78.482517</td>\n",
       "      <td>Downtown Mall</td>\n",
       "      <td>22902</td>\n",
       "    </tr>\n",
       "    <tr>\n",
       "      <th>3</th>\n",
       "      <td>4</td>\n",
       "      <td>Weapons Violations</td>\n",
       "      <td>202500012558</td>\n",
       "      <td>900</td>\n",
       "      <td>ROCK CREEK RD</td>\n",
       "      <td>CPD</td>\n",
       "      <td>1504</td>\n",
       "      <td>Venereo, Arturo</td>\n",
       "      <td>2025-04-18 15:04:24</td>\n",
       "      <td>2025-04-18 03:04:24 PM</td>\n",
       "      <td>Friday</td>\n",
       "      <td>False</td>\n",
       "      <td>Spring</td>\n",
       "      <td>03:04 PM</td>\n",
       "      <td>Afternoon</td>\n",
       "      <td>900 ROCK CREEK RD</td>\n",
       "      <td>38.020764</td>\n",
       "      <td>-78.498952</td>\n",
       "      <td>Johnson Village</td>\n",
       "      <td>22903</td>\n",
       "    </tr>\n",
       "    <tr>\n",
       "      <th>4</th>\n",
       "      <td>5</td>\n",
       "      <td>Assist Citizen - Mental/TDO/ECO</td>\n",
       "      <td>202500012547</td>\n",
       "      <td>200</td>\n",
       "      <td>E MARKET ST</td>\n",
       "      <td>CPD</td>\n",
       "      <td>1407</td>\n",
       "      <td>Shiflett, Tammy</td>\n",
       "      <td>2025-04-18 14:07:26</td>\n",
       "      <td>2025-04-18 02:07:26 PM</td>\n",
       "      <td>Friday</td>\n",
       "      <td>False</td>\n",
       "      <td>Spring</td>\n",
       "      <td>02:07 PM</td>\n",
       "      <td>Afternoon</td>\n",
       "      <td>200 E MARKET ST</td>\n",
       "      <td>38.031104</td>\n",
       "      <td>-78.480367</td>\n",
       "      <td>Downtown Mall</td>\n",
       "      <td>22902</td>\n",
       "    </tr>\n",
       "  </tbody>\n",
       "</table>\n",
       "</div>"
      ],
      "text/plain": [
       "   RecordID                          Offense    IncidentID BlockNumber  \\\n",
       "0         1                         Trespass  202500012596        1600   \n",
       "1         2            Larceny - Shoplifitng  202500012589        1200   \n",
       "2         3                   Drunkeness DIP  202500012574         200   \n",
       "3         4               Weapons Violations  202500012558         900   \n",
       "4         5  Assist Citizen - Mental/TDO/ECO  202500012547         200   \n",
       "\n",
       "        StreetName Agency HourReported  ReportingOfficer                Date  \\\n",
       "0  EMMET ST N, 328    CPD         1904  Mcdougal, Jordan 2025-04-18 19:04:47   \n",
       "1  EMMET ST N, 120    CPD         1829  Essex, Dominique 2025-04-18 18:29:30   \n",
       "2        W MAIN ST    CPD         1646     Turner, Devon 2025-04-18 16:46:58   \n",
       "3    ROCK CREEK RD    CPD         1504   Venereo, Arturo 2025-04-18 15:04:24   \n",
       "4      E MARKET ST    CPD         1407   Shiflett, Tammy 2025-04-18 14:07:26   \n",
       "\n",
       "               DateString DayOfWeek  Weekend  Season  HourAMPM  TimeOfDay  \\\n",
       "0  2025-04-18 07:04:47 PM    Friday    False  Spring  07:04 PM    Evening   \n",
       "1  2025-04-18 06:29:30 PM    Friday    False  Spring  06:29 PM    Evening   \n",
       "2  2025-04-18 04:46:58 PM    Friday    False  Spring  04:46 PM  Afternoon   \n",
       "3  2025-04-18 03:04:24 PM    Friday    False  Spring  03:04 PM  Afternoon   \n",
       "4  2025-04-18 02:07:26 PM    Friday    False  Spring  02:07 PM  Afternoon   \n",
       "\n",
       "             FullStreet        lat        lon     neighborhood    zip  \n",
       "0  1600 EMMET ST N, 328  38.057947 -78.493911      The Meadows  22901  \n",
       "1  1200 EMMET ST N, 120  38.052917 -78.498591      The Meadows  22905  \n",
       "2         200 W MAIN ST  38.030841 -78.482517    Downtown Mall  22902  \n",
       "3     900 ROCK CREEK RD  38.020764 -78.498952  Johnson Village  22903  \n",
       "4       200 E MARKET ST  38.031104 -78.480367    Downtown Mall  22902  "
      ]
     },
     "execution_count": 11,
     "metadata": {},
     "output_type": "execute_result"
    }
   ],
   "source": [
    "# Initialize the geocoder.\n",
    "geolocator = Nominatim(user_agent=\"zip_lookup\")\n",
    "\n",
    "# Try to load a persistent ZIP cache if available.\n",
    "try:\n",
    "    with open(\"zip_cache.pkl\", \"rb\") as f:\n",
    "        zip_cache = pickle.load(f)\n",
    "    print(\"Loaded zip cache.\")\n",
    "except FileNotFoundError:\n",
    "    zip_cache = {}\n",
    "    print(\"No zip cache found; starting fresh.\")\n",
    "\n",
    "def get_zip(lat, lon):\n",
    "    \"\"\"\n",
    "    Reverse geocodes a latitude and longitude to retrieve the ZIP code.\n",
    "    Caches results to speed up subsequent lookups.\n",
    "    \"\"\"\n",
    "    key = (lat, lon)\n",
    "    if key in zip_cache:\n",
    "        return zip_cache[key]\n",
    "    \n",
    "    try:\n",
    "        location = geolocator.reverse((lat, lon), exactly_one=True, timeout=10)\n",
    "        address = location.raw.get('address', {})\n",
    "        postal_code = address.get('postcode', \"N/A\")\n",
    "    except Exception as e:\n",
    "        print(f\"Error getting ZIP for {lat}, {lon}: {e}\")\n",
    "        postal_code = \"N/A\"\n",
    "    \n",
    "    zip_cache[key] = postal_code\n",
    "    # Pause to respect the usage policy.\n",
    "    time.sleep(1)\n",
    "    return postal_code\n",
    "\n",
    "# Apply the function to each row in the DataFrame.\n",
    "df['zip'] = df.apply(lambda row: get_zip(row['lat'], row['lon']), axis=1)\n",
    "\n",
    "# Save the updated ZIP cache.\n",
    "with open(\"zip_cache.pkl\", \"wb\") as f:\n",
    "    pickle.dump(zip_cache, f)\n",
    "\n",
    "df.head()\n"
   ]
  },
  {
   "cell_type": "code",
   "execution_count": 12,
   "id": "16d20151",
   "metadata": {
    "execution": {
     "iopub.execute_input": "2025-04-21T01:04:29.199311Z",
     "iopub.status.busy": "2025-04-21T01:04:29.198768Z",
     "iopub.status.idle": "2025-04-21T01:04:29.227631Z",
     "shell.execute_reply": "2025-04-21T01:04:29.226975Z"
    },
    "papermill": {
     "duration": 0.037547,
     "end_time": "2025-04-21T01:04:29.228767",
     "exception": false,
     "start_time": "2025-04-21T01:04:29.191220",
     "status": "completed"
    },
    "tags": []
   },
   "outputs": [
    {
     "name": "stdout",
     "output_type": "stream",
     "text": [
      "                  MissingCount  MissingPercentage\n",
      "RecordID                     0               0.00\n",
      "Offense                      0               0.00\n",
      "IncidentID                   0               0.00\n",
      "BlockNumber                  0               0.00\n",
      "StreetName                   0               0.00\n",
      "Agency                       0               0.00\n",
      "HourReported                 0               0.00\n",
      "ReportingOfficer            17               0.07\n",
      "Date                         0               0.00\n",
      "DateString                   0               0.00\n",
      "DayOfWeek                    0               0.00\n",
      "Weekend                      0               0.00\n",
      "Season                       0               0.00\n",
      "HourAMPM                     0               0.00\n",
      "TimeOfDay                    0               0.00\n",
      "FullStreet                   0               0.00\n",
      "lat                          0               0.00\n",
      "lon                          0               0.00\n",
      "neighborhood                 0               0.00\n",
      "zip                          0               0.00\n"
     ]
    }
   ],
   "source": [
    "missing_info = missing_percentage(df)\n",
    "print(missing_info)\n"
   ]
  },
  {
   "cell_type": "code",
   "execution_count": 13,
   "id": "2ee8f556",
   "metadata": {
    "execution": {
     "iopub.execute_input": "2025-04-21T01:04:29.243959Z",
     "iopub.status.busy": "2025-04-21T01:04:29.243478Z",
     "iopub.status.idle": "2025-04-21T01:04:29.273802Z",
     "shell.execute_reply": "2025-04-21T01:04:29.273117Z"
    },
    "papermill": {
     "duration": 0.038999,
     "end_time": "2025-04-21T01:04:29.274936",
     "exception": false,
     "start_time": "2025-04-21T01:04:29.235937",
     "status": "completed"
    },
    "tags": []
   },
   "outputs": [
    {
     "name": "stdout",
     "output_type": "stream",
     "text": [
      "<class 'pandas.core.frame.DataFrame'>\n",
      "RangeIndex: 25235 entries, 0 to 25234\n",
      "Data columns (total 20 columns):\n",
      " #   Column            Non-Null Count  Dtype         \n",
      "---  ------            --------------  -----         \n",
      " 0   RecordID          25235 non-null  int64         \n",
      " 1   Offense           25235 non-null  object        \n",
      " 2   IncidentID        25235 non-null  object        \n",
      " 3   BlockNumber       25235 non-null  object        \n",
      " 4   StreetName        25235 non-null  object        \n",
      " 5   Agency            25235 non-null  object        \n",
      " 6   HourReported      25235 non-null  object        \n",
      " 7   ReportingOfficer  25218 non-null  object        \n",
      " 8   Date              25235 non-null  datetime64[ns]\n",
      " 9   DateString        25235 non-null  object        \n",
      " 10  DayOfWeek         25235 non-null  object        \n",
      " 11  Weekend           25235 non-null  bool          \n",
      " 12  Season            25235 non-null  object        \n",
      " 13  HourAMPM          25235 non-null  object        \n",
      " 14  TimeOfDay         25235 non-null  object        \n",
      " 15  FullStreet        25235 non-null  object        \n",
      " 16  lat               25235 non-null  float64       \n",
      " 17  lon               25235 non-null  float64       \n",
      " 18  neighborhood      25235 non-null  object        \n",
      " 19  zip               25235 non-null  object        \n",
      "dtypes: bool(1), datetime64[ns](1), float64(2), int64(1), object(15)\n",
      "memory usage: 3.7+ MB\n"
     ]
    }
   ],
   "source": [
    "df.info()"
   ]
  },
  {
   "cell_type": "code",
   "execution_count": 14,
   "id": "efe2b1e4",
   "metadata": {
    "execution": {
     "iopub.execute_input": "2025-04-21T01:04:29.290501Z",
     "iopub.status.busy": "2025-04-21T01:04:29.289945Z",
     "iopub.status.idle": "2025-04-21T01:04:29.334715Z",
     "shell.execute_reply": "2025-04-21T01:04:29.334094Z"
    },
    "papermill": {
     "duration": 0.053587,
     "end_time": "2025-04-21T01:04:29.335853",
     "exception": false,
     "start_time": "2025-04-21T01:04:29.282266",
     "status": "completed"
    },
    "tags": []
   },
   "outputs": [
    {
     "data": {
      "text/html": [
       "<div>\n",
       "<style scoped>\n",
       "    .dataframe tbody tr th:only-of-type {\n",
       "        vertical-align: middle;\n",
       "    }\n",
       "\n",
       "    .dataframe tbody tr th {\n",
       "        vertical-align: top;\n",
       "    }\n",
       "\n",
       "    .dataframe thead th {\n",
       "        text-align: right;\n",
       "    }\n",
       "</style>\n",
       "<table border=\"1\" class=\"dataframe\">\n",
       "  <thead>\n",
       "    <tr style=\"text-align: right;\">\n",
       "      <th></th>\n",
       "      <th>RecordID</th>\n",
       "      <th>Offense</th>\n",
       "      <th>IncidentID</th>\n",
       "      <th>Agency</th>\n",
       "      <th>ReportingOfficer</th>\n",
       "      <th>Date</th>\n",
       "      <th>DayOfWeek</th>\n",
       "      <th>Weekend</th>\n",
       "      <th>Season</th>\n",
       "      <th>TimeOfDay</th>\n",
       "      <th>FullStreet</th>\n",
       "      <th>lat</th>\n",
       "      <th>lon</th>\n",
       "      <th>neighborhood</th>\n",
       "      <th>zip</th>\n",
       "    </tr>\n",
       "  </thead>\n",
       "  <tbody>\n",
       "    <tr>\n",
       "      <th>0</th>\n",
       "      <td>1</td>\n",
       "      <td>Trespass</td>\n",
       "      <td>202500012596</td>\n",
       "      <td>CPD</td>\n",
       "      <td>Mcdougal, Jordan</td>\n",
       "      <td>2025-04-18 19:04:47</td>\n",
       "      <td>Friday</td>\n",
       "      <td>False</td>\n",
       "      <td>Spring</td>\n",
       "      <td>Evening</td>\n",
       "      <td>1600 EMMET ST N, 328</td>\n",
       "      <td>38.057947</td>\n",
       "      <td>-78.493911</td>\n",
       "      <td>The Meadows</td>\n",
       "      <td>22901</td>\n",
       "    </tr>\n",
       "    <tr>\n",
       "      <th>1</th>\n",
       "      <td>2</td>\n",
       "      <td>Larceny - Shoplifitng</td>\n",
       "      <td>202500012589</td>\n",
       "      <td>CPD</td>\n",
       "      <td>Essex, Dominique</td>\n",
       "      <td>2025-04-18 18:29:30</td>\n",
       "      <td>Friday</td>\n",
       "      <td>False</td>\n",
       "      <td>Spring</td>\n",
       "      <td>Evening</td>\n",
       "      <td>1200 EMMET ST N, 120</td>\n",
       "      <td>38.052917</td>\n",
       "      <td>-78.498591</td>\n",
       "      <td>The Meadows</td>\n",
       "      <td>22905</td>\n",
       "    </tr>\n",
       "    <tr>\n",
       "      <th>2</th>\n",
       "      <td>3</td>\n",
       "      <td>Drunkeness DIP</td>\n",
       "      <td>202500012574</td>\n",
       "      <td>CPD</td>\n",
       "      <td>Turner, Devon</td>\n",
       "      <td>2025-04-18 16:46:58</td>\n",
       "      <td>Friday</td>\n",
       "      <td>False</td>\n",
       "      <td>Spring</td>\n",
       "      <td>Afternoon</td>\n",
       "      <td>200 W MAIN ST</td>\n",
       "      <td>38.030841</td>\n",
       "      <td>-78.482517</td>\n",
       "      <td>Downtown Mall</td>\n",
       "      <td>22902</td>\n",
       "    </tr>\n",
       "    <tr>\n",
       "      <th>3</th>\n",
       "      <td>4</td>\n",
       "      <td>Weapons Violations</td>\n",
       "      <td>202500012558</td>\n",
       "      <td>CPD</td>\n",
       "      <td>Venereo, Arturo</td>\n",
       "      <td>2025-04-18 15:04:24</td>\n",
       "      <td>Friday</td>\n",
       "      <td>False</td>\n",
       "      <td>Spring</td>\n",
       "      <td>Afternoon</td>\n",
       "      <td>900 ROCK CREEK RD</td>\n",
       "      <td>38.020764</td>\n",
       "      <td>-78.498952</td>\n",
       "      <td>Johnson Village</td>\n",
       "      <td>22903</td>\n",
       "    </tr>\n",
       "    <tr>\n",
       "      <th>4</th>\n",
       "      <td>5</td>\n",
       "      <td>Assist Citizen - Mental/TDO/ECO</td>\n",
       "      <td>202500012547</td>\n",
       "      <td>CPD</td>\n",
       "      <td>Shiflett, Tammy</td>\n",
       "      <td>2025-04-18 14:07:26</td>\n",
       "      <td>Friday</td>\n",
       "      <td>False</td>\n",
       "      <td>Spring</td>\n",
       "      <td>Afternoon</td>\n",
       "      <td>200 E MARKET ST</td>\n",
       "      <td>38.031104</td>\n",
       "      <td>-78.480367</td>\n",
       "      <td>Downtown Mall</td>\n",
       "      <td>22902</td>\n",
       "    </tr>\n",
       "  </tbody>\n",
       "</table>\n",
       "</div>"
      ],
      "text/plain": [
       "   RecordID                          Offense    IncidentID Agency  \\\n",
       "0         1                         Trespass  202500012596    CPD   \n",
       "1         2            Larceny - Shoplifitng  202500012589    CPD   \n",
       "2         3                   Drunkeness DIP  202500012574    CPD   \n",
       "3         4               Weapons Violations  202500012558    CPD   \n",
       "4         5  Assist Citizen - Mental/TDO/ECO  202500012547    CPD   \n",
       "\n",
       "   ReportingOfficer                Date DayOfWeek  Weekend  Season  TimeOfDay  \\\n",
       "0  Mcdougal, Jordan 2025-04-18 19:04:47    Friday    False  Spring    Evening   \n",
       "1  Essex, Dominique 2025-04-18 18:29:30    Friday    False  Spring    Evening   \n",
       "2     Turner, Devon 2025-04-18 16:46:58    Friday    False  Spring  Afternoon   \n",
       "3   Venereo, Arturo 2025-04-18 15:04:24    Friday    False  Spring  Afternoon   \n",
       "4   Shiflett, Tammy 2025-04-18 14:07:26    Friday    False  Spring  Afternoon   \n",
       "\n",
       "             FullStreet        lat        lon     neighborhood    zip  \n",
       "0  1600 EMMET ST N, 328  38.057947 -78.493911      The Meadows  22901  \n",
       "1  1200 EMMET ST N, 120  38.052917 -78.498591      The Meadows  22905  \n",
       "2         200 W MAIN ST  38.030841 -78.482517    Downtown Mall  22902  \n",
       "3     900 ROCK CREEK RD  38.020764 -78.498952  Johnson Village  22903  \n",
       "4       200 E MARKET ST  38.031104 -78.480367    Downtown Mall  22902  "
      ]
     },
     "execution_count": 14,
     "metadata": {},
     "output_type": "execute_result"
    }
   ],
   "source": [
    "# Now drop the original BlockNumber and StreetName columns\n",
    "df.drop(columns=['BlockNumber', 'StreetName','HourAMPM','HourReported','DateString'], inplace=True)\n",
    "df[\"zip\"] = df[\"zip\"].astype(str)\n",
    "\n",
    "# Fill all missing values in the DataFrame with \"N/A\"\n",
    "df.replace({None: \"N/A\", np.nan: \"N/A\", \"\": \"N/A\"}, inplace=True)\n",
    "df.head()"
   ]
  },
  {
   "cell_type": "code",
   "execution_count": 15,
   "id": "aa15d091",
   "metadata": {
    "execution": {
     "iopub.execute_input": "2025-04-21T01:04:29.352178Z",
     "iopub.status.busy": "2025-04-21T01:04:29.351544Z",
     "iopub.status.idle": "2025-04-21T01:04:29.370332Z",
     "shell.execute_reply": "2025-04-21T01:04:29.369795Z"
    },
    "papermill": {
     "duration": 0.027915,
     "end_time": "2025-04-21T01:04:29.371427",
     "exception": false,
     "start_time": "2025-04-21T01:04:29.343512",
     "status": "completed"
    },
    "tags": []
   },
   "outputs": [
    {
     "name": "stdout",
     "output_type": "stream",
     "text": [
      "                  MissingCount  MissingPercentage\n",
      "RecordID                     0                0.0\n",
      "Offense                      0                0.0\n",
      "IncidentID                   0                0.0\n",
      "Agency                       0                0.0\n",
      "ReportingOfficer             0                0.0\n",
      "Date                         0                0.0\n",
      "DayOfWeek                    0                0.0\n",
      "Weekend                      0                0.0\n",
      "Season                       0                0.0\n",
      "TimeOfDay                    0                0.0\n",
      "FullStreet                   0                0.0\n",
      "lat                          0                0.0\n",
      "lon                          0                0.0\n",
      "neighborhood                 0                0.0\n",
      "zip                          0                0.0\n"
     ]
    }
   ],
   "source": [
    "missing_info = missing_percentage(df)\n",
    "print(missing_info)"
   ]
  },
  {
   "cell_type": "code",
   "execution_count": 16,
   "id": "b762f9cd",
   "metadata": {
    "execution": {
     "iopub.execute_input": "2025-04-21T01:04:29.387142Z",
     "iopub.status.busy": "2025-04-21T01:04:29.386934Z",
     "iopub.status.idle": "2025-04-21T01:04:29.391367Z",
     "shell.execute_reply": "2025-04-21T01:04:29.390710Z"
    },
    "papermill": {
     "duration": 0.013423,
     "end_time": "2025-04-21T01:04:29.392374",
     "exception": false,
     "start_time": "2025-04-21T01:04:29.378951",
     "status": "completed"
    },
    "tags": []
   },
   "outputs": [
    {
     "data": {
      "text/plain": [
       "Index(['RecordID', 'Offense', 'IncidentID', 'Agency', 'ReportingOfficer',\n",
       "       'Date', 'DayOfWeek', 'Weekend', 'Season', 'TimeOfDay', 'FullStreet',\n",
       "       'lat', 'lon', 'neighborhood', 'zip'],\n",
       "      dtype='object')"
      ]
     },
     "execution_count": 16,
     "metadata": {},
     "output_type": "execute_result"
    }
   ],
   "source": [
    "df.columns"
   ]
  },
  {
   "cell_type": "code",
   "execution_count": 17,
   "id": "0ef7ba30",
   "metadata": {
    "execution": {
     "iopub.execute_input": "2025-04-21T01:04:29.408017Z",
     "iopub.status.busy": "2025-04-21T01:04:29.407828Z",
     "iopub.status.idle": "2025-04-21T01:04:29.428554Z",
     "shell.execute_reply": "2025-04-21T01:04:29.427981Z"
    },
    "papermill": {
     "duration": 0.029702,
     "end_time": "2025-04-21T01:04:29.429574",
     "exception": false,
     "start_time": "2025-04-21T01:04:29.399872",
     "status": "completed"
    },
    "tags": []
   },
   "outputs": [
    {
     "name": "stdout",
     "output_type": "stream",
     "text": [
      "<class 'pandas.core.frame.DataFrame'>\n",
      "RangeIndex: 25235 entries, 0 to 25234\n",
      "Data columns (total 15 columns):\n",
      " #   Column            Non-Null Count  Dtype         \n",
      "---  ------            --------------  -----         \n",
      " 0   RecordID          25235 non-null  int64         \n",
      " 1   Offense           25235 non-null  object        \n",
      " 2   IncidentID        25235 non-null  object        \n",
      " 3   Agency            25235 non-null  object        \n",
      " 4   ReportingOfficer  25235 non-null  object        \n",
      " 5   Date              25235 non-null  datetime64[ns]\n",
      " 6   DayOfWeek         25235 non-null  object        \n",
      " 7   Weekend           25235 non-null  bool          \n",
      " 8   Season            25235 non-null  object        \n",
      " 9   TimeOfDay         25235 non-null  object        \n",
      " 10  FullStreet        25235 non-null  object        \n",
      " 11  lat               25235 non-null  float64       \n",
      " 12  lon               25235 non-null  float64       \n",
      " 13  neighborhood      25235 non-null  object        \n",
      " 14  zip               25235 non-null  object        \n",
      "dtypes: bool(1), datetime64[ns](1), float64(2), int64(1), object(10)\n",
      "memory usage: 2.7+ MB\n"
     ]
    }
   ],
   "source": [
    "df.info()"
   ]
  },
  {
   "cell_type": "markdown",
   "id": "10d2b385",
   "metadata": {
    "papermill": {
     "duration": 0.007448,
     "end_time": "2025-04-21T01:04:29.444810",
     "exception": false,
     "start_time": "2025-04-21T01:04:29.437362",
     "status": "completed"
    },
    "tags": []
   },
   "source": [
    "### Export Clean Data"
   ]
  },
  {
   "cell_type": "code",
   "execution_count": 18,
   "id": "70018502",
   "metadata": {
    "execution": {
     "iopub.execute_input": "2025-04-21T01:04:29.461000Z",
     "iopub.status.busy": "2025-04-21T01:04:29.460563Z",
     "iopub.status.idle": "2025-04-21T01:04:38.847620Z",
     "shell.execute_reply": "2025-04-21T01:04:38.847014Z"
    },
    "papermill": {
     "duration": 9.39631,
     "end_time": "2025-04-21T01:04:38.848713",
     "exception": false,
     "start_time": "2025-04-21T01:04:29.452403",
     "status": "completed"
    },
    "tags": []
   },
   "outputs": [
    {
     "name": "stdout",
     "output_type": "stream",
     "text": [
      "Project Root: /home/runner/work/crime-data/crime-data\n"
     ]
    },
    {
     "name": "stdout",
     "output_type": "stream",
     "text": [
      "Data saved to: /home/runner/work/crime-data/crime-data/data/charlottesville_crime_incidents.csv\n"
     ]
    },
    {
     "name": "stdout",
     "output_type": "stream",
     "text": [
      "Excel saved to: /home/runner/work/crime-data/crime-data/data/charlottesville_crime_incidents.xlsx\n"
     ]
    }
   ],
   "source": [
    "# Determine the project root (assuming papermill is run from the repository root)\n",
    "project_root = os.getcwd()\n",
    "print(\"Project Root:\", project_root)\n",
    "\n",
    "# Set the data directory within the project root\n",
    "data_dir = os.path.join(project_root, \"data\")\n",
    "\n",
    "# Ensure the \"data\" directory exists (create it if it doesn't)\n",
    "if not os.path.exists(data_dir):\n",
    "    os.makedirs(data_dir)\n",
    "\n",
    "# Export the DataFrame to CSV in the \"data\" folder located in the project root\n",
    "csv_path = os.path.join(data_dir, \"charlottesville_crime_incidents.csv\")\n",
    "df.to_csv(csv_path, index=False)\n",
    "print(\"Data saved to:\", csv_path)\n",
    "\n",
    "# Construct the path to your Excel file\n",
    "excel_path = os.path.join(data_dir, \"charlottesville_crime_incidents.xlsx\")\n",
    "\n",
    "# Export the DataFrame to Excel\n",
    "df.to_excel(excel_path, index=False)\n",
    "print(\"Excel saved to:\", excel_path)\n"
   ]
  },
  {
   "cell_type": "markdown",
   "id": "96317c50",
   "metadata": {
    "papermill": {
     "duration": 0.007532,
     "end_time": "2025-04-21T01:04:38.864168",
     "exception": false,
     "start_time": "2025-04-21T01:04:38.856636",
     "status": "completed"
    },
    "tags": []
   },
   "source": [
    "## Predictive Analytics"
   ]
  },
  {
   "cell_type": "code",
   "execution_count": 19,
   "id": "3848f1b5",
   "metadata": {
    "execution": {
     "iopub.execute_input": "2025-04-21T01:04:38.903266Z",
     "iopub.status.busy": "2025-04-21T01:04:38.902791Z",
     "iopub.status.idle": "2025-04-21T01:04:38.914873Z",
     "shell.execute_reply": "2025-04-21T01:04:38.914209Z"
    },
    "papermill": {
     "duration": 0.02178,
     "end_time": "2025-04-21T01:04:38.915966",
     "exception": false,
     "start_time": "2025-04-21T01:04:38.894186",
     "status": "completed"
    },
    "tags": []
   },
   "outputs": [
    {
     "data": {
      "text/html": [
       "<div>\n",
       "<style scoped>\n",
       "    .dataframe tbody tr th:only-of-type {\n",
       "        vertical-align: middle;\n",
       "    }\n",
       "\n",
       "    .dataframe tbody tr th {\n",
       "        vertical-align: top;\n",
       "    }\n",
       "\n",
       "    .dataframe thead th {\n",
       "        text-align: right;\n",
       "    }\n",
       "</style>\n",
       "<table border=\"1\" class=\"dataframe\">\n",
       "  <thead>\n",
       "    <tr style=\"text-align: right;\">\n",
       "      <th></th>\n",
       "      <th>RecordID</th>\n",
       "      <th>Offense</th>\n",
       "      <th>IncidentID</th>\n",
       "      <th>Agency</th>\n",
       "      <th>ReportingOfficer</th>\n",
       "      <th>Date</th>\n",
       "      <th>DayOfWeek</th>\n",
       "      <th>Weekend</th>\n",
       "      <th>Season</th>\n",
       "      <th>TimeOfDay</th>\n",
       "      <th>FullStreet</th>\n",
       "      <th>lat</th>\n",
       "      <th>lon</th>\n",
       "      <th>neighborhood</th>\n",
       "      <th>zip</th>\n",
       "    </tr>\n",
       "  </thead>\n",
       "  <tbody>\n",
       "    <tr>\n",
       "      <th>0</th>\n",
       "      <td>1</td>\n",
       "      <td>Trespass</td>\n",
       "      <td>202500012596</td>\n",
       "      <td>CPD</td>\n",
       "      <td>Mcdougal, Jordan</td>\n",
       "      <td>2025-04-18 19:04:47</td>\n",
       "      <td>Friday</td>\n",
       "      <td>False</td>\n",
       "      <td>Spring</td>\n",
       "      <td>Evening</td>\n",
       "      <td>1600 EMMET ST N, 328</td>\n",
       "      <td>38.057947</td>\n",
       "      <td>-78.493911</td>\n",
       "      <td>The Meadows</td>\n",
       "      <td>22901</td>\n",
       "    </tr>\n",
       "    <tr>\n",
       "      <th>1</th>\n",
       "      <td>2</td>\n",
       "      <td>Larceny - Shoplifitng</td>\n",
       "      <td>202500012589</td>\n",
       "      <td>CPD</td>\n",
       "      <td>Essex, Dominique</td>\n",
       "      <td>2025-04-18 18:29:30</td>\n",
       "      <td>Friday</td>\n",
       "      <td>False</td>\n",
       "      <td>Spring</td>\n",
       "      <td>Evening</td>\n",
       "      <td>1200 EMMET ST N, 120</td>\n",
       "      <td>38.052917</td>\n",
       "      <td>-78.498591</td>\n",
       "      <td>The Meadows</td>\n",
       "      <td>22905</td>\n",
       "    </tr>\n",
       "    <tr>\n",
       "      <th>2</th>\n",
       "      <td>3</td>\n",
       "      <td>Drunkeness DIP</td>\n",
       "      <td>202500012574</td>\n",
       "      <td>CPD</td>\n",
       "      <td>Turner, Devon</td>\n",
       "      <td>2025-04-18 16:46:58</td>\n",
       "      <td>Friday</td>\n",
       "      <td>False</td>\n",
       "      <td>Spring</td>\n",
       "      <td>Afternoon</td>\n",
       "      <td>200 W MAIN ST</td>\n",
       "      <td>38.030841</td>\n",
       "      <td>-78.482517</td>\n",
       "      <td>Downtown Mall</td>\n",
       "      <td>22902</td>\n",
       "    </tr>\n",
       "    <tr>\n",
       "      <th>3</th>\n",
       "      <td>4</td>\n",
       "      <td>Weapons Violations</td>\n",
       "      <td>202500012558</td>\n",
       "      <td>CPD</td>\n",
       "      <td>Venereo, Arturo</td>\n",
       "      <td>2025-04-18 15:04:24</td>\n",
       "      <td>Friday</td>\n",
       "      <td>False</td>\n",
       "      <td>Spring</td>\n",
       "      <td>Afternoon</td>\n",
       "      <td>900 ROCK CREEK RD</td>\n",
       "      <td>38.020764</td>\n",
       "      <td>-78.498952</td>\n",
       "      <td>Johnson Village</td>\n",
       "      <td>22903</td>\n",
       "    </tr>\n",
       "    <tr>\n",
       "      <th>4</th>\n",
       "      <td>5</td>\n",
       "      <td>Assist Citizen - Mental/TDO/ECO</td>\n",
       "      <td>202500012547</td>\n",
       "      <td>CPD</td>\n",
       "      <td>Shiflett, Tammy</td>\n",
       "      <td>2025-04-18 14:07:26</td>\n",
       "      <td>Friday</td>\n",
       "      <td>False</td>\n",
       "      <td>Spring</td>\n",
       "      <td>Afternoon</td>\n",
       "      <td>200 E MARKET ST</td>\n",
       "      <td>38.031104</td>\n",
       "      <td>-78.480367</td>\n",
       "      <td>Downtown Mall</td>\n",
       "      <td>22902</td>\n",
       "    </tr>\n",
       "  </tbody>\n",
       "</table>\n",
       "</div>"
      ],
      "text/plain": [
       "   RecordID                          Offense    IncidentID Agency  \\\n",
       "0         1                         Trespass  202500012596    CPD   \n",
       "1         2            Larceny - Shoplifitng  202500012589    CPD   \n",
       "2         3                   Drunkeness DIP  202500012574    CPD   \n",
       "3         4               Weapons Violations  202500012558    CPD   \n",
       "4         5  Assist Citizen - Mental/TDO/ECO  202500012547    CPD   \n",
       "\n",
       "   ReportingOfficer                Date DayOfWeek  Weekend  Season  TimeOfDay  \\\n",
       "0  Mcdougal, Jordan 2025-04-18 19:04:47    Friday    False  Spring    Evening   \n",
       "1  Essex, Dominique 2025-04-18 18:29:30    Friday    False  Spring    Evening   \n",
       "2     Turner, Devon 2025-04-18 16:46:58    Friday    False  Spring  Afternoon   \n",
       "3   Venereo, Arturo 2025-04-18 15:04:24    Friday    False  Spring  Afternoon   \n",
       "4   Shiflett, Tammy 2025-04-18 14:07:26    Friday    False  Spring  Afternoon   \n",
       "\n",
       "             FullStreet        lat        lon     neighborhood    zip  \n",
       "0  1600 EMMET ST N, 328  38.057947 -78.493911      The Meadows  22901  \n",
       "1  1200 EMMET ST N, 120  38.052917 -78.498591      The Meadows  22905  \n",
       "2         200 W MAIN ST  38.030841 -78.482517    Downtown Mall  22902  \n",
       "3     900 ROCK CREEK RD  38.020764 -78.498952  Johnson Village  22903  \n",
       "4       200 E MARKET ST  38.031104 -78.480367    Downtown Mall  22902  "
      ]
     },
     "execution_count": 19,
     "metadata": {},
     "output_type": "execute_result"
    }
   ],
   "source": [
    "df.head()"
   ]
  },
  {
   "cell_type": "code",
   "execution_count": 20,
   "id": "59143765",
   "metadata": {
    "execution": {
     "iopub.execute_input": "2025-04-21T01:04:38.933110Z",
     "iopub.status.busy": "2025-04-21T01:04:38.932688Z",
     "iopub.status.idle": "2025-04-21T01:04:38.937295Z",
     "shell.execute_reply": "2025-04-21T01:04:38.936639Z"
    },
    "papermill": {
     "duration": 0.014184,
     "end_time": "2025-04-21T01:04:38.938355",
     "exception": false,
     "start_time": "2025-04-21T01:04:38.924171",
     "status": "completed"
    },
    "tags": []
   },
   "outputs": [
    {
     "data": {
      "text/plain": [
       "Index(['RecordID', 'Offense', 'IncidentID', 'Agency', 'ReportingOfficer',\n",
       "       'Date', 'DayOfWeek', 'Weekend', 'Season', 'TimeOfDay', 'FullStreet',\n",
       "       'lat', 'lon', 'neighborhood', 'zip'],\n",
       "      dtype='object')"
      ]
     },
     "execution_count": 20,
     "metadata": {},
     "output_type": "execute_result"
    }
   ],
   "source": [
    "df.columns"
   ]
  },
  {
   "cell_type": "markdown",
   "id": "7becf53f",
   "metadata": {
    "papermill": {
     "duration": 0.007913,
     "end_time": "2025-04-21T01:04:38.954348",
     "exception": false,
     "start_time": "2025-04-21T01:04:38.946435",
     "status": "completed"
    },
    "tags": []
   },
   "source": [
    "### Data Preparation\n",
    "\n",
    "We need to ensure the data is in the correct format for modeling and can handle missing values, categorical variables, and dates. Here's how to prepare your data:"
   ]
  },
  {
   "cell_type": "code",
   "execution_count": 21,
   "id": "510606bb",
   "metadata": {
    "execution": {
     "iopub.execute_input": "2025-04-21T01:04:38.971768Z",
     "iopub.status.busy": "2025-04-21T01:04:38.971210Z",
     "iopub.status.idle": "2025-04-21T01:04:42.363782Z",
     "shell.execute_reply": "2025-04-21T01:04:42.362994Z"
    },
    "papermill": {
     "duration": 3.40281,
     "end_time": "2025-04-21T01:04:42.365253",
     "exception": false,
     "start_time": "2025-04-21T01:04:38.962443",
     "status": "completed"
    },
    "tags": []
   },
   "outputs": [],
   "source": [
    "import pandas as pd\n",
    "from sklearn.model_selection import train_test_split\n",
    "from sklearn.preprocessing import OneHotEncoder, LabelEncoder\n",
    "from sklearn.ensemble import RandomForestClassifier\n",
    "from sklearn.linear_model import LogisticRegression\n",
    "from sklearn.tree import DecisionTreeClassifier\n",
    "from sklearn.metrics import classification_report, accuracy_score\n",
    "import seaborn as sns\n",
    "import matplotlib.pyplot as plt\n",
    "\n",
    "# Convert 'Date' to datetime\n",
    "df['Date'] = pd.to_datetime(df['Date'])\n",
    "\n",
    "# Feature engineering: Extract additional time-based features\n",
    "df['Year'] = df['Date'].dt.year\n",
    "df['Month'] = df['Date'].dt.month\n",
    "df['DayOfMonth'] = df['Date'].dt.day\n",
    "\n",
    "# One-hot encoding for 'FullStreet', 'neighborhood', 'zip'\n",
    "df = pd.get_dummies(df, columns=['FullStreet', 'neighborhood', 'zip'], drop_first=True)\n",
    "\n",
    "# Label encoding for ordered variables (those with a natural order like 'DayOfWeek', 'Season', 'TimeOfDay')\n",
    "label_encoders = {}\n",
    "for column in ['DayOfWeek', 'Season', 'TimeOfDay', 'Agency', 'ReportingOfficer']:  # Example ordinal variables\n",
    "    le = LabelEncoder()\n",
    "    df[column] = le.fit_transform(df[column])\n",
    "    label_encoders[column] = le\n",
    "\n",
    "# Filter the dataset to include only the offenses of interest\n",
    "offenses_of_interest = [\n",
    "    'Hit and Run', 'Assault Simple', 'Suspicious Activity', 'Vandalism', \n",
    "    'Larceny - From Mot Vehicle', 'Larceny - All Other', \n",
    "    'Assist Citizen - Mental/TDO/ECO', 'Lost/FoundProperty'\n",
    "]\n",
    "\n",
    "df = df[df['Offense'].isin(offenses_of_interest)]\n",
    "\n",
    "# Label encode the target variable (Offense)\n",
    "offense_encoder = LabelEncoder()\n",
    "df['Offense'] = offense_encoder.fit_transform(df['Offense'])\n",
    "\n",
    "# Separate features (X) and target (y)\n",
    "X = df[['Year', 'Month', 'DayOfMonth', 'DayOfWeek', 'Weekend', 'Season', 'TimeOfDay', 'lat', 'lon', 'Agency', 'ReportingOfficer']]\n",
    "y = df['Offense']  # Offense is now the encoded target variable\n",
    "\n",
    "# Split the data into training and testing sets\n",
    "X_train, X_test, y_train, y_test = train_test_split(X, y, test_size=0.3, random_state=42)\n"
   ]
  },
  {
   "cell_type": "markdown",
   "id": "f3641a96",
   "metadata": {
    "papermill": {
     "duration": 0.008166,
     "end_time": "2025-04-21T01:04:42.381825",
     "exception": false,
     "start_time": "2025-04-21T01:04:42.373659",
     "status": "completed"
    },
    "tags": []
   },
   "source": [
    "### Model Training\n",
    "\n",
    "Here we will train several models (e.g., Random Forest, Logistic Regression, and Decision Tree). We will use cross-validation to choose the best model based on accuracy, and then explain the impact of the variables."
   ]
  },
  {
   "cell_type": "code",
   "execution_count": 22,
   "id": "f38ed5b9",
   "metadata": {
    "execution": {
     "iopub.execute_input": "2025-04-21T01:04:42.399303Z",
     "iopub.status.busy": "2025-04-21T01:04:42.398699Z",
     "iopub.status.idle": "2025-04-21T01:04:45.878301Z",
     "shell.execute_reply": "2025-04-21T01:04:45.877683Z"
    },
    "papermill": {
     "duration": 3.489411,
     "end_time": "2025-04-21T01:04:45.879299",
     "exception": false,
     "start_time": "2025-04-21T01:04:42.389888",
     "status": "completed"
    },
    "tags": []
   },
   "outputs": [
    {
     "name": "stderr",
     "output_type": "stream",
     "text": [
      "/opt/hostedtoolcache/Python/3.9.22/x64/lib/python3.9/site-packages/sklearn/linear_model/_logistic.py:465: ConvergenceWarning: lbfgs failed to converge (status=1):\n",
      "STOP: TOTAL NO. of ITERATIONS REACHED LIMIT.\n",
      "\n",
      "Increase the number of iterations (max_iter) or scale the data as shown in:\n",
      "    https://scikit-learn.org/stable/modules/preprocessing.html\n",
      "Please also refer to the documentation for alternative solver options:\n",
      "    https://scikit-learn.org/stable/modules/linear_model.html#logistic-regression\n",
      "  n_iter_i = _check_optimize_result(\n",
      "/opt/hostedtoolcache/Python/3.9.22/x64/lib/python3.9/site-packages/sklearn/metrics/_classification.py:1565: UndefinedMetricWarning: Precision is ill-defined and being set to 0.0 in labels with no predicted samples. Use `zero_division` parameter to control this behavior.\n",
      "  _warn_prf(average, modifier, f\"{metric.capitalize()} is\", len(result))\n",
      "/opt/hostedtoolcache/Python/3.9.22/x64/lib/python3.9/site-packages/sklearn/metrics/_classification.py:1565: UndefinedMetricWarning: Precision is ill-defined and being set to 0.0 in labels with no predicted samples. Use `zero_division` parameter to control this behavior.\n",
      "  _warn_prf(average, modifier, f\"{metric.capitalize()} is\", len(result))\n",
      "/opt/hostedtoolcache/Python/3.9.22/x64/lib/python3.9/site-packages/sklearn/metrics/_classification.py:1565: UndefinedMetricWarning: Precision is ill-defined and being set to 0.0 in labels with no predicted samples. Use `zero_division` parameter to control this behavior.\n",
      "  _warn_prf(average, modifier, f\"{metric.capitalize()} is\", len(result))\n"
     ]
    },
    {
     "name": "stdout",
     "output_type": "stream",
     "text": [
      "\n",
      "Classification Report for All Models:\n",
      "\n",
      "Model: RandomForest\n",
      "Accuracy: 0.2926\n",
      "              precision    recall  f1-score      support\n",
      "0              0.274667  0.373866  0.316679   551.000000\n",
      "1              0.308869  0.232184  0.265092   435.000000\n",
      "2              0.319876  0.463268  0.378445   667.000000\n",
      "3              0.223242  0.158351  0.185279   461.000000\n",
      "4              0.334711  0.237537  0.277873   341.000000\n",
      "5              0.244060  0.225100  0.234197   502.000000\n",
      "6              0.335917  0.257426  0.291480   505.000000\n",
      "accuracy       0.292605  0.292605  0.292605     0.292605\n",
      "macro avg      0.291620  0.278247  0.278435  3462.000000\n",
      "weighted avg   0.291237  0.292605  0.285142  3462.000000\n"
     ]
    },
    {
     "data": {
      "image/png": "[encoded data removed]",
      "text/plain": [
       "<Figure size 800x600 with 2 Axes>"
      ]
     },
     "metadata": {},
     "output_type": "display_data"
    },
    {
     "name": "stdout",
     "output_type": "stream",
     "text": [
      "\n",
      "Model: LogisticRegression\n",
      "Accuracy: 0.2034\n",
      "              precision    recall  f1-score      support\n",
      "0              0.183572  0.535390  0.273401   551.000000\n",
      "1              0.000000  0.000000  0.000000   435.000000\n",
      "2              0.220660  0.611694  0.324324   667.000000\n",
      "3              0.166667  0.002169  0.004283   461.000000\n",
      "4              0.000000  0.000000  0.000000   341.000000\n",
      "5              0.000000  0.000000  0.000000   502.000000\n",
      "6              0.000000  0.000000  0.000000   505.000000\n",
      "accuracy       0.203351  0.203351  0.203351     0.203351\n",
      "macro avg      0.081557  0.164179  0.086001  3462.000000\n",
      "weighted avg   0.093923  0.203351  0.106569  3462.000000\n"
     ]
    },
    {
     "data": {
      "image/png": "[encoded data removed]",
      "text/plain": [
       "<Figure size 800x600 with 2 Axes>"
      ]
     },
     "metadata": {},
     "output_type": "display_data"
    },
    {
     "name": "stdout",
     "output_type": "stream",
     "text": [
      "\n",
      "Model: DecisionTree\n",
      "Accuracy: 0.2276\n",
      "              precision    recall  f1-score      support\n",
      "0              0.233553  0.257713  0.245039   551.000000\n",
      "1              0.245658  0.227586  0.236277   435.000000\n",
      "2              0.285714  0.260870  0.272727   667.000000\n",
      "3              0.185682  0.180043  0.182819   461.000000\n",
      "4              0.179625  0.196481  0.187675   341.000000\n",
      "5              0.200000  0.211155  0.205426   502.000000\n",
      "6              0.237805  0.231683  0.234704   505.000000\n",
      "accuracy       0.227614  0.227614  0.227614     0.227614\n",
      "macro avg      0.224005  0.223647  0.223524  3462.000000\n",
      "weighted avg   0.229192  0.227614  0.228086  3462.000000\n"
     ]
    },
    {
     "data": {
      "image/png": "[encoded data removed]",
      "text/plain": [
       "<Figure size 800x600 with 2 Axes>"
      ]
     },
     "metadata": {},
     "output_type": "display_data"
    },
    {
     "name": "stdout",
     "output_type": "stream",
     "text": [
      "\n",
      "Best Model:\n",
      "Best Model: RandomForestClassifier()\n",
      "Best Model Accuracy: 0.2926\n"
     ]
    }
   ],
   "source": [
    "import pandas as pd\n",
    "from sklearn.model_selection import train_test_split\n",
    "from sklearn.ensemble import RandomForestClassifier\n",
    "from sklearn.linear_model import LogisticRegression\n",
    "from sklearn.tree import DecisionTreeClassifier\n",
    "from sklearn.metrics import classification_report, accuracy_score, confusion_matrix\n",
    "import seaborn as sns\n",
    "import matplotlib.pyplot as plt\n",
    "\n",
    "# Define models\n",
    "models = {\n",
    "    'RandomForest': RandomForestClassifier(),\n",
    "    'LogisticRegression': LogisticRegression(max_iter=1000),\n",
    "    'DecisionTree': DecisionTreeClassifier()\n",
    "}\n",
    "\n",
    "# Train models and evaluate them\n",
    "best_model = None\n",
    "best_score = 0\n",
    "model_reports = {}\n",
    "\n",
    "for model_name, model in models.items():\n",
    "    model.fit(X_train, y_train)  # Train model\n",
    "    y_pred = model.predict(X_test)  # Make predictions\n",
    "    \n",
    "    # Calculate accuracy and generate classification report\n",
    "    accuracy = accuracy_score(y_test, y_pred)\n",
    "    model_reports[model_name] = classification_report(y_test, y_pred, output_dict=True)  # Store as a dictionary for easier analysis\n",
    "    \n",
    "    # Track best performing model\n",
    "    if accuracy > best_score:\n",
    "        best_score = accuracy\n",
    "        best_model = model\n",
    "\n",
    "# Display classification reports and confusion matrices\n",
    "print(\"\\nClassification Report for All Models:\")\n",
    "for model_name, report in model_reports.items():\n",
    "    print(f\"\\nModel: {model_name}\")\n",
    "    print(\"Accuracy: {:.4f}\".format(accuracy_score(y_test, models[model_name].predict(X_test))))  # Display accuracy\n",
    "    print(pd.DataFrame(report).transpose())  # Display classification report as a DataFrame\n",
    "\n",
    "    # Plot Confusion Matrix\n",
    "    cm = confusion_matrix(y_test, models[model_name].predict(X_test))\n",
    "    plt.figure(figsize=(8, 6))\n",
    "    sns.heatmap(cm, annot=True, fmt=\"d\", cmap='Blues', xticklabels=offense_encoder.classes_, yticklabels=offense_encoder.classes_)\n",
    "    plt.title(f\"Confusion Matrix - {model_name}\")\n",
    "    plt.xlabel('Predicted Labels')\n",
    "    plt.ylabel('True Labels')\n",
    "    plt.show()\n",
    "\n",
    "# Display best model details\n",
    "print(\"\\nBest Model:\")\n",
    "print(f\"Best Model: {best_model}\")\n",
    "print(f\"Best Model Accuracy: {best_score:.4f}\")\n"
   ]
  },
  {
   "cell_type": "markdown",
   "id": "330bf178",
   "metadata": {
    "papermill": {
     "duration": 0.010625,
     "end_time": "2025-04-21T01:04:45.901509",
     "exception": false,
     "start_time": "2025-04-21T01:04:45.890884",
     "status": "completed"
    },
    "tags": []
   },
   "source": [
    "#### Classification Report for All Models:\n",
    "\n",
    "### Explanation of the Classification Results (RandomForest Model)\n",
    "\n",
    "The results you provided are from a **Random Forest** model, which is used for predicting different types of offenses. Let's break down the key components of the results:\n",
    "\n",
    "#### 1. **Accuracy: 0.2822**\n",
    "   - **Accuracy** measures the overall percentage of correct predictions made by the model. An accuracy of 28.22% means the model correctly predicted the offense in about 28% of the cases. This indicates the model's predictions are not highly reliable, as the accuracy is quite low.\n",
    "\n",
    "#### 2. **Classification Report:**\n",
    "   The classification report includes precision, recall, and F1-score for each offense. Let's go over these terms and how they apply to the results:\n",
    "\n",
    "   - **Precision**: The proportion of true positive predictions out of all positive predictions made by the model for a specific class (offense).\n",
    "   - **Recall**: The proportion of true positive predictions out of all actual positive instances in the dataset.\n",
    "   - **F1-Score**: The harmonic mean of precision and recall, providing a balance between the two metrics.\n",
    "   - **Support**: The number of actual occurrences of each class in the test set.\n",
    "\n",
    "   Let's analyze each offense based on these metrics:\n",
    "\n",
    "   | **Offense**                        | **Precision** | **Recall** | **F1-Score** | **Support** |\n",
    "   |------------------------------------|---------------|------------|--------------|-------------|\n",
    "   | **Assault Simple**                 | 0.2892        | 0.3754     | 0.3267       | 594         |\n",
    "   | **Assist Citizen - Mental/TDO/ECO**| 0.3182        | 0.2274     | 0.2652       | 431         |\n",
    "   | **Hit and Run**                    | 0.2963        | 0.4765     | 0.3654       | 638         |\n",
    "   | **Larceny - All Other**            | 0.2270        | 0.1453     | 0.1772       | 475         |\n",
    "   | **Lost/FoundProperty**             | 0.3333        | 0.2102     | 0.2578       | 352         |\n",
    "   | **Suspicious Activity**            | 0.2344        | 0.2169     | 0.2253       | 484         |\n",
    "   | **Vandalism**                      | 0.2712        | 0.2106     | 0.2371       | 470         |\n",
    "\n",
    "#### 3. **Key Insights from the Report:**\n",
    "\n",
    "- **Precision**:\n",
    "   - The highest precision is for **Larceny - All Other** (0.3333), indicating that when the model predicts this offense, it is correct about 33% of the time. However, this is still quite low.\n",
    "   - **Assist Citizen - Mental/TDO/ECO** has the lowest precision (0.2269), meaning that the model's predictions for this offense tend to be wrong more often than correct.\n",
    "\n",
    "- **Recall**:\n",
    "   - **Hit and Run** has the highest recall (0.4765), meaning the model identifies about 48% of the actual occurrences of this offense. This is better than the precision, which indicates it is missing many true positives but is still able to identify a fair number of cases.\n",
    "   - **Larceny - All Other** and **Suspicious Activity** have the lowest recall values (0.1453 and 0.2169, respectively), indicating that the model is failing to identify most of the actual cases for these offenses.\n",
    "\n",
    "- **F1-Score**:\n",
    "   - The **F1-Score** balances precision and recall. It is highest for **Hit and Run** (0.3654), but still relatively low overall. This suggests the model is better at identifying **Hit and Run** than other offenses but still has room for improvement.\n",
    "   - **Larceny - All Other** has the lowest F1-Score (0.1772), indicating a poor balance between precision and recall for this offense.\n",
    "\n",
    "#### 4. **Macro Average and Weighted Average:**\n",
    "   - **Macro Average**: This gives the average precision, recall, and F1-Score across all classes (offenses) without considering the class distribution. It averages the results for all offenses equally.\n",
    "     - Precision: 0.2814\n",
    "     - Recall: 0.2661\n",
    "     - F1-Score: 0.2649\n",
    "   - **Weighted Average**: This averages the metrics but weighs each class by its support (the number of true instances in the test set). This gives a better sense of overall performance, considering the class distribution.\n",
    "     - Precision: 0.2799\n",
    "     - Recall: 0.2822\n",
    "     - F1-Score: 0.2720\n",
    "\n",
    "#### 5. **Confusion Matrix (Visualization Analysis)**:\n",
    "   - The confusion matrix shows the distribution of true positive, false positive, true negative, and false negative predictions for each class.\n",
    "     - For **Hit and Run**, the model performs relatively well in identifying this offense (304 true positives). However, it also misclassifies some **Hit and Run** instances as other offenses (e.g., **Assault Simple**, **Suspicious Activity**, etc.).\n",
    "     - **Larceny - All Other** is frequently misclassified as **Hit and Run**, **Suspicious Activity**, and others. This is evident from the large number of off-diagonal elements in its row.\n",
    "     - **Assist Citizen - Mental/TDO/ECO** and **Suspicious Activity** are frequently misclassified, as seen by the off-diagonal values in their rows.\n",
    "\n",
    "### Conclusion:\n",
    "The Random Forest model has low accuracy (28.22%), suggesting that it struggles to predict most offenses accurately. Some offenses like **Hit and Run** are better predicted than others, but overall, the model shows a high level of misclassification across all offenses. There may be a need for further tuning of the model, additional feature engineering, or trying different models for better performance.\n",
    "\n",
    "Let me know if you'd like to improve the model or make adjustments based on these results!\n",
    "\n"
   ]
  },
  {
   "cell_type": "markdown",
   "id": "2038da6b",
   "metadata": {
    "papermill": {
     "duration": 0.010586,
     "end_time": "2025-04-21T01:04:45.922880",
     "exception": false,
     "start_time": "2025-04-21T01:04:45.912294",
     "status": "completed"
    },
    "tags": []
   },
   "source": [
    "### Model Explanation\n",
    "\n",
    "Once we’ve chosen the best model, we will explain its predictions by examining feature importance for tree-based models and using statistical methods like logistic regression coefficients for linear models."
   ]
  },
  {
   "cell_type": "markdown",
   "id": "db8d4c08",
   "metadata": {
    "papermill": {
     "duration": 0.010672,
     "end_time": "2025-04-21T01:04:45.944228",
     "exception": false,
     "start_time": "2025-04-21T01:04:45.933556",
     "status": "completed"
    },
    "tags": []
   },
   "source": [
    "#### Feature Importance for Random Forest / Decision Tree\n",
    "\n",
    "##### For Tree-based Models (Random Forest, Decision Tree)\n",
    "\n",
    "For Random Forest or Decision Tree, we can look at feature importance to understand which variables contribute the most to the model's predictions. Here's how you can visualize and interpret the importance of each feature:"
   ]
  },
  {
   "cell_type": "code",
   "execution_count": 23,
   "id": "25990089",
   "metadata": {
    "execution": {
     "iopub.execute_input": "2025-04-21T01:04:45.967168Z",
     "iopub.status.busy": "2025-04-21T01:04:45.966680Z",
     "iopub.status.idle": "2025-04-21T01:04:46.132979Z",
     "shell.execute_reply": "2025-04-21T01:04:46.132274Z"
    },
    "papermill": {
     "duration": 0.179121,
     "end_time": "2025-04-21T01:04:46.134083",
     "exception": false,
     "start_time": "2025-04-21T01:04:45.954962",
     "status": "completed"
    },
    "tags": []
   },
   "outputs": [
    {
     "data": {
      "image/png": "[encoded data removed]",
      "text/plain": [
       "<Figure size 1000x600 with 1 Axes>"
      ]
     },
     "metadata": {},
     "output_type": "display_data"
    }
   ],
   "source": [
    "# For RandomForest or DecisionTree models, we can check feature importance\n",
    "if isinstance(best_model, RandomForestClassifier) or isinstance(best_model, DecisionTreeClassifier):\n",
    "    feature_importance = best_model.feature_importances_\n",
    "    feature_names = X.columns\n",
    "    importance_df = pd.DataFrame({'Feature': feature_names, 'Importance': feature_importance})\n",
    "    importance_df = importance_df.sort_values(by='Importance', ascending=False)\n",
    "    \n",
    "    # Plotting the feature importances\n",
    "    plt.figure(figsize=(10, 6))\n",
    "    sns.barplot(x='Importance', y='Feature', data=importance_df)\n",
    "    plt.title(\"Feature Importance\")\n",
    "    plt.show()\n"
   ]
  },
  {
   "cell_type": "code",
   "execution_count": null,
   "id": "80100d23",
   "metadata": {
    "papermill": {
     "duration": 0.011012,
     "end_time": "2025-04-21T01:04:46.156623",
     "exception": false,
     "start_time": "2025-04-21T01:04:46.145611",
     "status": "completed"
    },
    "tags": []
   },
   "outputs": [],
   "source": []
  },
  {
   "cell_type": "markdown",
   "id": "9d485a90",
   "metadata": {
    "papermill": {
     "duration": 0.010925,
     "end_time": "2025-04-21T01:04:46.178586",
     "exception": false,
     "start_time": "2025-04-21T01:04:46.167661",
     "status": "completed"
    },
    "tags": []
   },
   "source": [
    "### Evaluation\n",
    "\n",
    "After training the models and examining their performance, we evaluate the chosen model based on metrics like accuracy, precision, recall, and F1 score.\n",
    "\n"
   ]
  },
  {
   "cell_type": "code",
   "execution_count": 24,
   "id": "42fdbe57",
   "metadata": {
    "execution": {
     "iopub.execute_input": "2025-04-21T01:04:46.202016Z",
     "iopub.status.busy": "2025-04-21T01:04:46.201510Z",
     "iopub.status.idle": "2025-04-21T01:04:46.293902Z",
     "shell.execute_reply": "2025-04-21T01:04:46.293244Z"
    },
    "papermill": {
     "duration": 0.10529,
     "end_time": "2025-04-21T01:04:46.294957",
     "exception": false,
     "start_time": "2025-04-21T01:04:46.189667",
     "status": "completed"
    },
    "tags": []
   },
   "outputs": [
    {
     "name": "stdout",
     "output_type": "stream",
     "text": [
      "Accuracy: 0.2926\n",
      "Classification Report:\n",
      "              precision    recall  f1-score   support\n",
      "\n",
      "           0       0.27      0.37      0.32       551\n",
      "           1       0.31      0.23      0.27       435\n",
      "           2       0.32      0.46      0.38       667\n",
      "           3       0.22      0.16      0.19       461\n",
      "           4       0.33      0.24      0.28       341\n",
      "           5       0.24      0.23      0.23       502\n",
      "           6       0.34      0.26      0.29       505\n",
      "\n",
      "    accuracy                           0.29      3462\n",
      "   macro avg       0.29      0.28      0.28      3462\n",
      "weighted avg       0.29      0.29      0.29      3462\n",
      "\n",
      "Confusion Matrix:\n",
      "[[206  53 137  36  16  61  42]\n",
      " [110 101 103  19  18  57  27]\n",
      " [124  33 309  69  25  61  46]\n",
      " [ 78  30 128  73  29  64  59]\n",
      " [ 46  27  73  36  81  35  43]\n",
      " [113  44 108  50  34 113  40]\n",
      " [ 73  39 108  44  39  72 130]]\n",
      "Precision: 0.2912\n",
      "Recall: 0.2926\n",
      "F1 Score: 0.2851\n"
     ]
    }
   ],
   "source": [
    "from sklearn.metrics import classification_report, confusion_matrix, accuracy_score, precision_score, recall_score, f1_score\n",
    "\n",
    "# Predict on the test set\n",
    "y_pred = best_model.predict(X_test)\n",
    "\n",
    "# Calculate Accuracy\n",
    "accuracy = accuracy_score(y_test, y_pred)\n",
    "print(f\"Accuracy: {accuracy:.4f}\")\n",
    "\n",
    "# Classification Report\n",
    "print(\"Classification Report:\")\n",
    "print(classification_report(y_test, y_pred))\n",
    "\n",
    "# Confusion Matrix\n",
    "conf_matrix = confusion_matrix(y_test, y_pred)\n",
    "print(\"Confusion Matrix:\")\n",
    "print(conf_matrix)\n",
    "\n",
    "# Precision, Recall, F1 Score for each class (Offense Type)\n",
    "precision = precision_score(y_test, y_pred, average='weighted')\n",
    "recall = recall_score(y_test, y_pred, average='weighted')\n",
    "f1 = f1_score(y_test, y_pred, average='weighted')\n",
    "\n",
    "print(f\"Precision: {precision:.4f}\")\n",
    "print(f\"Recall: {recall:.4f}\")\n",
    "print(f\"F1 Score: {f1:.4f}\")\n"
   ]
  },
  {
   "cell_type": "markdown",
   "id": "3ef3774d",
   "metadata": {
    "papermill": {
     "duration": 0.014434,
     "end_time": "2025-04-21T01:04:46.321421",
     "exception": false,
     "start_time": "2025-04-21T01:04:46.306987",
     "status": "completed"
    },
    "tags": []
   },
   "source": [
    "#### For Logistic Regression (Coefficient Interpretation)\n",
    "\n",
    "For Logistic Regression, the model coefficients can help us understand how each feature affects the likelihood of an offense happening. A positive coefficient indicates a feature increases the likelihood of the offense, and a negative coefficient indicates the opposite."
   ]
  },
  {
   "cell_type": "code",
   "execution_count": 25,
   "id": "13f3af60",
   "metadata": {
    "execution": {
     "iopub.execute_input": "2025-04-21T01:04:46.345473Z",
     "iopub.status.busy": "2025-04-21T01:04:46.344982Z",
     "iopub.status.idle": "2025-04-21T01:04:46.349835Z",
     "shell.execute_reply": "2025-04-21T01:04:46.349261Z"
    },
    "papermill": {
     "duration": 0.018109,
     "end_time": "2025-04-21T01:04:46.350875",
     "exception": false,
     "start_time": "2025-04-21T01:04:46.332766",
     "status": "completed"
    },
    "tags": []
   },
   "outputs": [],
   "source": [
    "if isinstance(best_model, LogisticRegression):\n",
    "    # Logistic regression coefficients\n",
    "    coef_df = pd.DataFrame({\n",
    "        'Feature': X.columns,\n",
    "        'Coefficient': best_model.coef_[0]\n",
    "    })\n",
    "    coef_df['AbsCoefficient'] = coef_df['Coefficient'].abs()\n",
    "    coef_df = coef_df.sort_values(by='AbsCoefficient', ascending=False)\n",
    "    \n",
    "    # Plotting the coefficients\n",
    "    plt.figure(figsize=(10, 6))\n",
    "    sns.barplot(x='AbsCoefficient', y='Feature', data=coef_df)\n",
    "    plt.title(\"Logistic Regression Coefficients Impact\")\n",
    "    plt.show()\n",
    "\n",
    "    # Print the top 5 most impactful features (by absolute coefficient value)\n",
    "    print(\"Top 5 most impactful features based on coefficients:\")\n",
    "    print(coef_df.head())\n"
   ]
  },
  {
   "cell_type": "markdown",
   "id": "b919d01c",
   "metadata": {
    "papermill": {
     "duration": 0.011295,
     "end_time": "2025-04-21T01:04:46.373495",
     "exception": false,
     "start_time": "2025-04-21T01:04:46.362200",
     "status": "completed"
    },
    "tags": []
   },
   "source": [
    "Explanation of Output:\n",
    "\n",
    "Feature Importance (Random Forest/Decision Tree): The bar plot will show how important each feature is in the decision-making process. Features at the top of the list are the most influential in predicting the occurrence of offenses.\n",
    "\n",
    "Logistic Regression Coefficients: The bar plot will show the magnitude of the coefficients for each feature. Features with larger absolute values (either positive or negative) have a stronger impact on the model’s predictions. Positive coefficients increase the probability of an offense, while negative coefficients decrease it."
   ]
  },
  {
   "cell_type": "markdown",
   "id": "bf7f23a0",
   "metadata": {
    "papermill": {
     "duration": 0.011212,
     "end_time": "2025-04-21T01:04:46.396061",
     "exception": false,
     "start_time": "2025-04-21T01:04:46.384849",
     "status": "completed"
    },
    "tags": []
   },
   "source": []
  }
 ],
 "metadata": {
  "kernelspec": {
   "display_name": "Python 3",
   "language": "python",
   "name": "python3"
  },
  "language_info": {
   "codemirror_mode": {
    "name": "ipython",
    "version": 3
   },
   "file_extension": ".py",
   "mimetype": "text/x-python",
   "name": "python",
   "nbconvert_exporter": "python",
   "pygments_lexer": "ipython3",
   "version": "3.9.22"
  },
  "papermill": {
   "default_parameters": {},
   "duration": 82.244042,
   "end_time": "2025-04-21T01:04:46.924400",
   "environment_variables": {},
   "exception": null,
   "input_path": "notebook/Crime Data.ipynb",
   "output_path": "notebook/Crime Data_output.ipynb",
   "parameters": {},
   "start_time": "2025-04-21T01:03:24.680358",
   "version": "2.6.0"
  }
 },
 "nbformat": 4,
 "nbformat_minor": 5
}