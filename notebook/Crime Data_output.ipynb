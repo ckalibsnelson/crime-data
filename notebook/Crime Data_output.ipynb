{
 "cells": [
  {
   "cell_type": "markdown",
   "id": "bebb41b8",
   "metadata": {
    "papermill": {
     "duration": 0.004342,
     "end_time": "2025-08-21T01:00:24.407826",
     "exception": false,
     "start_time": "2025-08-21T01:00:24.403484",
     "status": "completed"
    },
    "tags": []
   },
   "source": [
    "# Charlottesville Open Data Porttal: Crime Data"
   ]
  },
  {
   "cell_type": "markdown",
   "id": "0e62cdda",
   "metadata": {
    "papermill": {
     "duration": 0.00426,
     "end_time": "2025-08-21T01:00:24.415649",
     "exception": false,
     "start_time": "2025-08-21T01:00:24.411389",
     "status": "completed"
    },
    "tags": []
   },
   "source": [
    "## Import Relevant Librarires & Set WD"
   ]
  },
  {
   "cell_type": "code",
   "execution_count": 1,
   "id": "264d8336",
   "metadata": {
    "execution": {
     "iopub.execute_input": "2025-08-21T01:00:24.423291Z",
     "iopub.status.busy": "2025-08-21T01:00:24.423040Z",
     "iopub.status.idle": "2025-08-21T01:00:25.124515Z",
     "shell.execute_reply": "2025-08-21T01:00:25.123875Z"
    },
    "papermill": {
     "duration": 0.706903,
     "end_time": "2025-08-21T01:00:25.125836",
     "exception": false,
     "start_time": "2025-08-21T01:00:24.418933",
     "status": "completed"
    },
    "tags": []
   },
   "outputs": [],
   "source": [
    "import requests\n",
    "import pandas as pd\n",
    "import numpy as np\n",
    "import pickle\n",
    "import googlemaps\n",
    "import plotly.express as px\n",
    "from geopy.geocoders import Nominatim\n",
    "import time\n",
    "from dotenv import load_dotenv\n",
    "import os\n",
    "\n",
    "env_path = os.path.join(\"..\", \".env\")\n",
    "#print(\"Looking for .env file at:\", os.path.abspath(env_path))\n",
    "load_dotenv(dotenv_path=env_path)\n",
    "\n",
    "# Retrieve the variables\n",
    "GOOGLE_API_KEY = os.getenv(\"GOOGLE_API_KEY\")\n",
    "WORKING_DIR = os.getenv(\"WORKING_DIR\")\n",
    "\n",
    "if GOOGLE_API_KEY is None or WORKING_DIR is None:\n",
    "    raise RuntimeError(\"No configuration found. Please ensure that your .env file exists with the required variables, or create a local config.py file.\")\n",
    "\n",
    "#print(\"Google API Key:\", GOOGLE_API_KEY)\n",
    "#print(\"Working Directory:\", WORKING_DIR)"
   ]
  },
  {
   "cell_type": "markdown",
   "id": "b470fe64",
   "metadata": {
    "papermill": {
     "duration": 0.003264,
     "end_time": "2025-08-21T01:00:25.132753",
     "exception": false,
     "start_time": "2025-08-21T01:00:25.129489",
     "status": "completed"
    },
    "tags": []
   },
   "source": [
    "## Import Data\n",
    "\n",
    "URL: https://opendata.charlottesville.org/datasets/charlottesville::crime-data/about"
   ]
  },
  {
   "cell_type": "code",
   "execution_count": 2,
   "id": "c651a947",
   "metadata": {
    "execution": {
     "iopub.execute_input": "2025-08-21T01:00:25.140291Z",
     "iopub.status.busy": "2025-08-21T01:00:25.139971Z",
     "iopub.status.idle": "2025-08-21T01:01:33.755254Z",
     "shell.execute_reply": "2025-08-21T01:01:33.754503Z"
    },
    "papermill": {
     "duration": 68.623589,
     "end_time": "2025-08-21T01:01:33.759612",
     "exception": false,
     "start_time": "2025-08-21T01:00:25.136023",
     "status": "completed"
    },
    "tags": []
   },
   "outputs": [
    {
     "name": "stdout",
     "output_type": "stream",
     "text": [
      "Total records imported: 25664\n"
     ]
    }
   ],
   "source": [
    "# Define the endpoint and initial parameters.\n",
    "url = \"https://gisweb.charlottesville.org/arcgis/rest/services/OpenData_2/MapServer/6/query\"\n",
    "params = {\n",
    "    \"where\": \"1=1\",\n",
    "    \"outFields\": \"*\",\n",
    "    \"outSR\": 4326,\n",
    "    \"f\": \"json\",\n",
    "    \"resultOffset\": 0,       # Starting index for results\n",
    "    \"resultRecordCount\": 10000  # Maximum records per batch (if allowed by the API)\n",
    "}\n",
    "\n",
    "records = []\n",
    "\n",
    "while True:\n",
    "    response = requests.get(url, params=params)\n",
    "    response.raise_for_status()\n",
    "    data = response.json()\n",
    "    \n",
    "    # Get the current batch of features.\n",
    "    features = data.get(\"features\", [])\n",
    "    if not features:\n",
    "        break\n",
    "\n",
    "    # Extract the attributes from the features.\n",
    "    batch_records = [feature.get(\"attributes\", {}) for feature in features]\n",
    "    records.extend(batch_records)\n",
    "    \n",
    "    # If the batch size is less than the requested count, we reached the end.\n",
    "    if len(features) < params[\"resultRecordCount\"]:\n",
    "        break\n",
    "\n",
    "    # Update the resultOffset for the next batch.\n",
    "    params[\"resultOffset\"] += params[\"resultRecordCount\"]\n",
    "\n",
    "# Create a DataFrame from the combined records.\n",
    "df = pd.DataFrame(records)\n",
    "print(\"Total records imported:\", len(df))\n"
   ]
  },
  {
   "cell_type": "code",
   "execution_count": 3,
   "id": "d13385e0",
   "metadata": {
    "execution": {
     "iopub.execute_input": "2025-08-21T01:01:33.767382Z",
     "iopub.status.busy": "2025-08-21T01:01:33.767168Z",
     "iopub.status.idle": "2025-08-21T01:01:33.779173Z",
     "shell.execute_reply": "2025-08-21T01:01:33.778627Z"
    },
    "papermill": {
     "duration": 0.017062,
     "end_time": "2025-08-21T01:01:33.780185",
     "exception": false,
     "start_time": "2025-08-21T01:01:33.763123",
     "status": "completed"
    },
    "tags": []
   },
   "outputs": [
    {
     "data": {
      "text/html": [
       "<div>\n",
       "<style scoped>\n",
       "    .dataframe tbody tr th:only-of-type {\n",
       "        vertical-align: middle;\n",
       "    }\n",
       "\n",
       "    .dataframe tbody tr th {\n",
       "        vertical-align: top;\n",
       "    }\n",
       "\n",
       "    .dataframe thead th {\n",
       "        text-align: right;\n",
       "    }\n",
       "</style>\n",
       "<table border=\"1\" class=\"dataframe\">\n",
       "  <thead>\n",
       "    <tr style=\"text-align: right;\">\n",
       "      <th></th>\n",
       "      <th>RecordID</th>\n",
       "      <th>Offense</th>\n",
       "      <th>IncidentID</th>\n",
       "      <th>BlockNumber</th>\n",
       "      <th>StreetName</th>\n",
       "      <th>Agency</th>\n",
       "      <th>DateReported</th>\n",
       "      <th>HourReported</th>\n",
       "      <th>ReportingOfficer</th>\n",
       "    </tr>\n",
       "  </thead>\n",
       "  <tbody>\n",
       "    <tr>\n",
       "      <th>0</th>\n",
       "      <td>1</td>\n",
       "      <td>Lost/FoundProperty</td>\n",
       "      <td>202500029346</td>\n",
       "      <td>200</td>\n",
       "      <td>W MAIN ST</td>\n",
       "      <td>CPD</td>\n",
       "      <td>1755564678000</td>\n",
       "      <td>2051</td>\n",
       "      <td>Benbow, Lauren</td>\n",
       "    </tr>\n",
       "    <tr>\n",
       "      <th>1</th>\n",
       "      <td>2</td>\n",
       "      <td>Drug Equipment Violation</td>\n",
       "      <td>202500029334</td>\n",
       "      <td>100</td>\n",
       "      <td>1ST ST S</td>\n",
       "      <td>CPD</td>\n",
       "      <td>1755558206000</td>\n",
       "      <td>1903</td>\n",
       "      <td>Essex, Dominique</td>\n",
       "    </tr>\n",
       "    <tr>\n",
       "      <th>2</th>\n",
       "      <td>3</td>\n",
       "      <td>Fraud-false pretense</td>\n",
       "      <td>202500029324</td>\n",
       "      <td>500</td>\n",
       "      <td>RIDGE ST</td>\n",
       "      <td>CPD</td>\n",
       "      <td>1755552717000</td>\n",
       "      <td>1731</td>\n",
       "      <td>Benbow, Lauren</td>\n",
       "    </tr>\n",
       "    <tr>\n",
       "      <th>3</th>\n",
       "      <td>4</td>\n",
       "      <td>Hit and Run</td>\n",
       "      <td>202500029320</td>\n",
       "      <td></td>\n",
       "      <td>INTERNATIONAL DR / ALMERE AVE</td>\n",
       "      <td>CPD</td>\n",
       "      <td>1755550837000</td>\n",
       "      <td>1700</td>\n",
       "      <td>Carrasco, Julio</td>\n",
       "    </tr>\n",
       "    <tr>\n",
       "      <th>4</th>\n",
       "      <td>5</td>\n",
       "      <td>Larceny - Shoplifitng</td>\n",
       "      <td>202500029314</td>\n",
       "      <td>400</td>\n",
       "      <td>E MARKET ST</td>\n",
       "      <td>CPD</td>\n",
       "      <td>1755549407000</td>\n",
       "      <td>1636</td>\n",
       "      <td>Crowley, Raeann</td>\n",
       "    </tr>\n",
       "  </tbody>\n",
       "</table>\n",
       "</div>"
      ],
      "text/plain": [
       "   RecordID                   Offense    IncidentID BlockNumber  \\\n",
       "0         1        Lost/FoundProperty  202500029346         200   \n",
       "1         2  Drug Equipment Violation  202500029334         100   \n",
       "2         3      Fraud-false pretense  202500029324         500   \n",
       "3         4               Hit and Run  202500029320               \n",
       "4         5     Larceny - Shoplifitng  202500029314         400   \n",
       "\n",
       "                      StreetName Agency   DateReported HourReported  \\\n",
       "0                      W MAIN ST    CPD  1755564678000         2051   \n",
       "1                       1ST ST S    CPD  1755558206000         1903   \n",
       "2                       RIDGE ST    CPD  1755552717000         1731   \n",
       "3  INTERNATIONAL DR / ALMERE AVE    CPD  1755550837000         1700   \n",
       "4                    E MARKET ST    CPD  1755549407000         1636   \n",
       "\n",
       "   ReportingOfficer  \n",
       "0    Benbow, Lauren  \n",
       "1  Essex, Dominique  \n",
       "2    Benbow, Lauren  \n",
       "3   Carrasco, Julio  \n",
       "4   Crowley, Raeann  "
      ]
     },
     "execution_count": 3,
     "metadata": {},
     "output_type": "execute_result"
    }
   ],
   "source": [
    "df.head()"
   ]
  },
  {
   "cell_type": "code",
   "execution_count": 4,
   "id": "b1fdfddc",
   "metadata": {
    "execution": {
     "iopub.execute_input": "2025-08-21T01:01:33.788066Z",
     "iopub.status.busy": "2025-08-21T01:01:33.787847Z",
     "iopub.status.idle": "2025-08-21T01:01:33.791904Z",
     "shell.execute_reply": "2025-08-21T01:01:33.791301Z"
    },
    "papermill": {
     "duration": 0.009042,
     "end_time": "2025-08-21T01:01:33.792852",
     "exception": false,
     "start_time": "2025-08-21T01:01:33.783810",
     "status": "completed"
    },
    "tags": []
   },
   "outputs": [
    {
     "data": {
      "text/plain": [
       "Index(['RecordID', 'Offense', 'IncidentID', 'BlockNumber', 'StreetName',\n",
       "       'Agency', 'DateReported', 'HourReported', 'ReportingOfficer'],\n",
       "      dtype='object')"
      ]
     },
     "execution_count": 4,
     "metadata": {},
     "output_type": "execute_result"
    }
   ],
   "source": [
    "df.columns"
   ]
  },
  {
   "cell_type": "code",
   "execution_count": 5,
   "id": "663e322e",
   "metadata": {
    "execution": {
     "iopub.execute_input": "2025-08-21T01:01:33.800882Z",
     "iopub.status.busy": "2025-08-21T01:01:33.800669Z",
     "iopub.status.idle": "2025-08-21T01:01:33.822307Z",
     "shell.execute_reply": "2025-08-21T01:01:33.821796Z"
    },
    "papermill": {
     "duration": 0.026755,
     "end_time": "2025-08-21T01:01:33.823311",
     "exception": false,
     "start_time": "2025-08-21T01:01:33.796556",
     "status": "completed"
    },
    "tags": []
   },
   "outputs": [
    {
     "name": "stdout",
     "output_type": "stream",
     "text": [
      "<class 'pandas.core.frame.DataFrame'>\n",
      "RangeIndex: 25664 entries, 0 to 25663\n",
      "Data columns (total 9 columns):\n",
      " #   Column            Non-Null Count  Dtype \n",
      "---  ------            --------------  ----- \n",
      " 0   RecordID          25664 non-null  int64 \n",
      " 1   Offense           25664 non-null  object\n",
      " 2   IncidentID        25664 non-null  object\n",
      " 3   BlockNumber       25664 non-null  object\n",
      " 4   StreetName        25664 non-null  object\n",
      " 5   Agency            25664 non-null  object\n",
      " 6   DateReported      25664 non-null  int64 \n",
      " 7   HourReported      25664 non-null  object\n",
      " 8   ReportingOfficer  25649 non-null  object\n",
      "dtypes: int64(2), object(7)\n",
      "memory usage: 1.8+ MB\n"
     ]
    }
   ],
   "source": [
    "df.info()"
   ]
  },
  {
   "cell_type": "markdown",
   "id": "c5091a21",
   "metadata": {
    "papermill": {
     "duration": 0.00377,
     "end_time": "2025-08-21T01:01:33.830924",
     "exception": false,
     "start_time": "2025-08-21T01:01:33.827154",
     "status": "completed"
    },
    "tags": []
   },
   "source": [
    "### Missing Values"
   ]
  },
  {
   "cell_type": "code",
   "execution_count": 6,
   "id": "702acb67",
   "metadata": {
    "execution": {
     "iopub.execute_input": "2025-08-21T01:01:33.839166Z",
     "iopub.status.busy": "2025-08-21T01:01:33.838974Z",
     "iopub.status.idle": "2025-08-21T01:01:33.857461Z",
     "shell.execute_reply": "2025-08-21T01:01:33.856950Z"
    },
    "papermill": {
     "duration": 0.023769,
     "end_time": "2025-08-21T01:01:33.858443",
     "exception": false,
     "start_time": "2025-08-21T01:01:33.834674",
     "status": "completed"
    },
    "tags": []
   },
   "outputs": [
    {
     "name": "stdout",
     "output_type": "stream",
     "text": [
      "                  MissingCount  MissingPercentage\n",
      "RecordID                     0               0.00\n",
      "Offense                      0               0.00\n",
      "IncidentID                   0               0.00\n",
      "BlockNumber                  0               0.00\n",
      "StreetName                   0               0.00\n",
      "Agency                       0               0.00\n",
      "DateReported                 0               0.00\n",
      "HourReported                 0               0.00\n",
      "ReportingOfficer            15               0.06\n"
     ]
    }
   ],
   "source": [
    "def missing_percentage(df):\n",
    "    \"\"\"\n",
    "    Returns a DataFrame with the count and percentage of missing values for each column.\n",
    "    \n",
    "    Parameters:\n",
    "        df (pd.DataFrame): The input DataFrame.\n",
    "    \n",
    "    Returns:\n",
    "        pd.DataFrame: A DataFrame with columns 'MissingCount' and 'MissingPercentage'.\n",
    "    \"\"\"\n",
    "    total_rows = len(df)\n",
    "    missing_count = df.isnull().sum()\n",
    "    missing_percent = (missing_count / total_rows) * 100\n",
    "    \n",
    "    result = pd.DataFrame({\n",
    "        'MissingCount': missing_count,\n",
    "        'MissingPercentage': missing_percent.round(2)\n",
    "    })\n",
    "    \n",
    "    return result\n",
    "\n",
    "# Example usage:\n",
    "missing_info = missing_percentage(df)\n",
    "print(missing_info)\n"
   ]
  },
  {
   "cell_type": "markdown",
   "id": "8b608e57",
   "metadata": {
    "papermill": {
     "duration": 0.003717,
     "end_time": "2025-08-21T01:01:33.866097",
     "exception": false,
     "start_time": "2025-08-21T01:01:33.862380",
     "status": "completed"
    },
    "tags": []
   },
   "source": [
    "## Data Preparation"
   ]
  },
  {
   "cell_type": "markdown",
   "id": "f7351cd6",
   "metadata": {
    "papermill": {
     "duration": 0.003823,
     "end_time": "2025-08-21T01:01:33.873814",
     "exception": false,
     "start_time": "2025-08-21T01:01:33.869991",
     "status": "completed"
    },
    "tags": []
   },
   "source": [
    "### Data Conversion"
   ]
  },
  {
   "cell_type": "code",
   "execution_count": 7,
   "id": "19ab4a84",
   "metadata": {
    "execution": {
     "iopub.execute_input": "2025-08-21T01:01:33.882255Z",
     "iopub.status.busy": "2025-08-21T01:01:33.882066Z",
     "iopub.status.idle": "2025-08-21T01:01:34.241764Z",
     "shell.execute_reply": "2025-08-21T01:01:34.241034Z"
    },
    "papermill": {
     "duration": 0.365161,
     "end_time": "2025-08-21T01:01:34.242809",
     "exception": false,
     "start_time": "2025-08-21T01:01:33.877648",
     "status": "completed"
    },
    "tags": []
   },
   "outputs": [
    {
     "data": {
      "text/html": [
       "<div>\n",
       "<style scoped>\n",
       "    .dataframe tbody tr th:only-of-type {\n",
       "        vertical-align: middle;\n",
       "    }\n",
       "\n",
       "    .dataframe tbody tr th {\n",
       "        vertical-align: top;\n",
       "    }\n",
       "\n",
       "    .dataframe thead th {\n",
       "        text-align: right;\n",
       "    }\n",
       "</style>\n",
       "<table border=\"1\" class=\"dataframe\">\n",
       "  <thead>\n",
       "    <tr style=\"text-align: right;\">\n",
       "      <th></th>\n",
       "      <th>RecordID</th>\n",
       "      <th>Offense</th>\n",
       "      <th>IncidentID</th>\n",
       "      <th>BlockNumber</th>\n",
       "      <th>StreetName</th>\n",
       "      <th>Agency</th>\n",
       "      <th>HourReported</th>\n",
       "      <th>ReportingOfficer</th>\n",
       "      <th>Date</th>\n",
       "      <th>DateString</th>\n",
       "      <th>DayOfWeek</th>\n",
       "      <th>Weekend</th>\n",
       "      <th>Season</th>\n",
       "      <th>HourAMPM</th>\n",
       "      <th>TimeOfDay</th>\n",
       "    </tr>\n",
       "  </thead>\n",
       "  <tbody>\n",
       "    <tr>\n",
       "      <th>0</th>\n",
       "      <td>1</td>\n",
       "      <td>Lost/FoundProperty</td>\n",
       "      <td>202500029346</td>\n",
       "      <td>200</td>\n",
       "      <td>W MAIN ST</td>\n",
       "      <td>CPD</td>\n",
       "      <td>2051</td>\n",
       "      <td>Benbow, Lauren</td>\n",
       "      <td>2025-08-18 20:51:18</td>\n",
       "      <td>2025-08-18 08:51:18 PM</td>\n",
       "      <td>Monday</td>\n",
       "      <td>False</td>\n",
       "      <td>Summer</td>\n",
       "      <td>08:51 PM</td>\n",
       "      <td>Evening</td>\n",
       "    </tr>\n",
       "    <tr>\n",
       "      <th>1</th>\n",
       "      <td>2</td>\n",
       "      <td>Drug Equipment Violation</td>\n",
       "      <td>202500029334</td>\n",
       "      <td>100</td>\n",
       "      <td>1ST ST S</td>\n",
       "      <td>CPD</td>\n",
       "      <td>1903</td>\n",
       "      <td>Essex, Dominique</td>\n",
       "      <td>2025-08-18 19:03:26</td>\n",
       "      <td>2025-08-18 07:03:26 PM</td>\n",
       "      <td>Monday</td>\n",
       "      <td>False</td>\n",
       "      <td>Summer</td>\n",
       "      <td>07:03 PM</td>\n",
       "      <td>Evening</td>\n",
       "    </tr>\n",
       "    <tr>\n",
       "      <th>2</th>\n",
       "      <td>3</td>\n",
       "      <td>Fraud-false pretense</td>\n",
       "      <td>202500029324</td>\n",
       "      <td>500</td>\n",
       "      <td>RIDGE ST</td>\n",
       "      <td>CPD</td>\n",
       "      <td>1731</td>\n",
       "      <td>Benbow, Lauren</td>\n",
       "      <td>2025-08-18 17:31:57</td>\n",
       "      <td>2025-08-18 05:31:57 PM</td>\n",
       "      <td>Monday</td>\n",
       "      <td>False</td>\n",
       "      <td>Summer</td>\n",
       "      <td>05:31 PM</td>\n",
       "      <td>Evening</td>\n",
       "    </tr>\n",
       "    <tr>\n",
       "      <th>3</th>\n",
       "      <td>4</td>\n",
       "      <td>Hit and Run</td>\n",
       "      <td>202500029320</td>\n",
       "      <td></td>\n",
       "      <td>INTERNATIONAL DR / ALMERE AVE</td>\n",
       "      <td>CPD</td>\n",
       "      <td>1700</td>\n",
       "      <td>Carrasco, Julio</td>\n",
       "      <td>2025-08-18 17:00:37</td>\n",
       "      <td>2025-08-18 05:00:37 PM</td>\n",
       "      <td>Monday</td>\n",
       "      <td>False</td>\n",
       "      <td>Summer</td>\n",
       "      <td>05:00 PM</td>\n",
       "      <td>Evening</td>\n",
       "    </tr>\n",
       "    <tr>\n",
       "      <th>4</th>\n",
       "      <td>5</td>\n",
       "      <td>Larceny - Shoplifitng</td>\n",
       "      <td>202500029314</td>\n",
       "      <td>400</td>\n",
       "      <td>E MARKET ST</td>\n",
       "      <td>CPD</td>\n",
       "      <td>1636</td>\n",
       "      <td>Crowley, Raeann</td>\n",
       "      <td>2025-08-18 16:36:47</td>\n",
       "      <td>2025-08-18 04:36:47 PM</td>\n",
       "      <td>Monday</td>\n",
       "      <td>False</td>\n",
       "      <td>Summer</td>\n",
       "      <td>04:36 PM</td>\n",
       "      <td>Afternoon</td>\n",
       "    </tr>\n",
       "  </tbody>\n",
       "</table>\n",
       "</div>"
      ],
      "text/plain": [
       "   RecordID                   Offense    IncidentID BlockNumber  \\\n",
       "0         1        Lost/FoundProperty  202500029346         200   \n",
       "1         2  Drug Equipment Violation  202500029334         100   \n",
       "2         3      Fraud-false pretense  202500029324         500   \n",
       "3         4               Hit and Run  202500029320               \n",
       "4         5     Larceny - Shoplifitng  202500029314         400   \n",
       "\n",
       "                      StreetName Agency HourReported  ReportingOfficer  \\\n",
       "0                      W MAIN ST    CPD         2051    Benbow, Lauren   \n",
       "1                       1ST ST S    CPD         1903  Essex, Dominique   \n",
       "2                       RIDGE ST    CPD         1731    Benbow, Lauren   \n",
       "3  INTERNATIONAL DR / ALMERE AVE    CPD         1700   Carrasco, Julio   \n",
       "4                    E MARKET ST    CPD         1636   Crowley, Raeann   \n",
       "\n",
       "                 Date              DateString DayOfWeek  Weekend  Season  \\\n",
       "0 2025-08-18 20:51:18  2025-08-18 08:51:18 PM    Monday    False  Summer   \n",
       "1 2025-08-18 19:03:26  2025-08-18 07:03:26 PM    Monday    False  Summer   \n",
       "2 2025-08-18 17:31:57  2025-08-18 05:31:57 PM    Monday    False  Summer   \n",
       "3 2025-08-18 17:00:37  2025-08-18 05:00:37 PM    Monday    False  Summer   \n",
       "4 2025-08-18 16:36:47  2025-08-18 04:36:47 PM    Monday    False  Summer   \n",
       "\n",
       "   HourAMPM  TimeOfDay  \n",
       "0  08:51 PM    Evening  \n",
       "1  07:03 PM    Evening  \n",
       "2  05:31 PM    Evening  \n",
       "3  05:00 PM    Evening  \n",
       "4  04:36 PM  Afternoon  "
      ]
     },
     "execution_count": 7,
     "metadata": {},
     "output_type": "execute_result"
    }
   ],
   "source": [
    "def convert_and_categorize_datereported(df, col='DateReported'):\n",
    "    \"\"\"\n",
    "    Converts an epoch (in milliseconds) date column into a timezone-aware datetime,\n",
    "    converts it to Eastern Time, and then creates columns for day-of-week, weekend flag,\n",
    "    season, 12-hour formatted time, and time-of-day. Keeps both a real datetime column\n",
    "    (Date) and a string representation (DateString).\n",
    "    \"\"\"\n",
    "    import pandas as pd\n",
    "\n",
    "    # Convert the epoch timestamp to a pandas datetime object as UTC, then convert to US/Eastern.\n",
    "    df[\"DateReported_dt\"] = (\n",
    "        pd.to_datetime(df[col], unit=\"ms\", errors=\"coerce\", utc=True)\n",
    "        .dt.tz_convert(\"US/Eastern\")\n",
    "    )\n",
    "    \n",
    "    # Create a true datetime column (remove timezone if you prefer naive datetime)\n",
    "    df[\"Date\"] = df[\"DateReported_dt\"].dt.tz_localize(None)\n",
    "\n",
    "    # Optionally, create a separate string-formatted column\n",
    "    df[\"DateString\"] = df[\"DateReported_dt\"].dt.strftime(\"%Y-%m-%d %I:%M:%S %p\")\n",
    "    \n",
    "    # DayOfWeek\n",
    "    df[\"DayOfWeek\"] = df[\"DateReported_dt\"].dt.day_name()\n",
    "    \n",
    "    # Weekend\n",
    "    df[\"Weekend\"] = df[\"DayOfWeek\"].isin([\"Saturday\", \"Sunday\"])\n",
    "    \n",
    "    # Helper function to determine the season\n",
    "    def get_season(dt):\n",
    "        month = dt.month\n",
    "        day = dt.day\n",
    "        # Approximate Northern Hemisphere season boundaries:\n",
    "        if (month == 12 and day >= 21) or (month < 3) or (month == 3 and day < 20):\n",
    "            return \"Winter\"\n",
    "        elif (month == 3 and day >= 20) or (month < 6) or (month == 6 and day < 21):\n",
    "            return \"Spring\"\n",
    "        elif (month == 6 and day >= 21) or (month < 9) or (month == 9 and day < 22):\n",
    "            return \"Summer\"\n",
    "        else:\n",
    "            return \"Autumn\"\n",
    "    \n",
    "    df[\"Season\"] = df[\"DateReported_dt\"].apply(get_season)\n",
    "    \n",
    "    # 12-hour formatted time (HourAMPM)\n",
    "    df[\"HourAMPM\"] = df[\"DateReported_dt\"].dt.strftime(\"%I:%M %p\")\n",
    "    \n",
    "    # Extract hour (0-23) for time-of-day\n",
    "    df[\"HourValue\"] = df[\"DateReported_dt\"].dt.hour\n",
    "    \n",
    "    def time_of_day(hour):\n",
    "        if pd.isnull(hour):\n",
    "            return None\n",
    "        if 5 <= hour < 12:\n",
    "            return \"Morning\"\n",
    "        elif 12 <= hour < 17:\n",
    "            return \"Afternoon\"\n",
    "        elif 17 <= hour < 21:\n",
    "            return \"Evening\"\n",
    "        else:\n",
    "            return \"Night\"\n",
    "    \n",
    "    df[\"TimeOfDay\"] = df[\"HourValue\"].apply(time_of_day)\n",
    "    \n",
    "    # Drop columns you no longer need\n",
    "    df.drop(columns=[col, \"DateReported_dt\", \"HourValue\"], inplace=True)\n",
    "    \n",
    "    return df\n",
    "\n",
    "# Example usage:\n",
    "df = convert_and_categorize_datereported(df)\n",
    "df.head()\n"
   ]
  },
  {
   "cell_type": "code",
   "execution_count": 8,
   "id": "ce357bc9",
   "metadata": {
    "execution": {
     "iopub.execute_input": "2025-08-21T01:01:34.251813Z",
     "iopub.status.busy": "2025-08-21T01:01:34.251591Z",
     "iopub.status.idle": "2025-08-21T01:01:34.277165Z",
     "shell.execute_reply": "2025-08-21T01:01:34.276476Z"
    },
    "papermill": {
     "duration": 0.031234,
     "end_time": "2025-08-21T01:01:34.278269",
     "exception": false,
     "start_time": "2025-08-21T01:01:34.247035",
     "status": "completed"
    },
    "tags": []
   },
   "outputs": [
    {
     "name": "stdout",
     "output_type": "stream",
     "text": [
      "<class 'pandas.core.frame.DataFrame'>\n",
      "RangeIndex: 25664 entries, 0 to 25663\n",
      "Data columns (total 15 columns):\n",
      " #   Column            Non-Null Count  Dtype         \n",
      "---  ------            --------------  -----         \n",
      " 0   RecordID          25664 non-null  int64         \n",
      " 1   Offense           25664 non-null  object        \n",
      " 2   IncidentID        25664 non-null  object        \n",
      " 3   BlockNumber       25664 non-null  object        \n",
      " 4   StreetName        25664 non-null  object        \n",
      " 5   Agency            25664 non-null  object        \n",
      " 6   HourReported      25664 non-null  object        \n",
      " 7   ReportingOfficer  25649 non-null  object        \n",
      " 8   Date              25664 non-null  datetime64[ns]\n",
      " 9   DateString        25664 non-null  object        \n",
      " 10  DayOfWeek         25664 non-null  object        \n",
      " 11  Weekend           25664 non-null  bool          \n",
      " 12  Season            25664 non-null  object        \n",
      " 13  HourAMPM          25664 non-null  object        \n",
      " 14  TimeOfDay         25664 non-null  object        \n",
      "dtypes: bool(1), datetime64[ns](1), int64(1), object(12)\n",
      "memory usage: 2.8+ MB\n"
     ]
    }
   ],
   "source": [
    "df.info()"
   ]
  },
  {
   "cell_type": "markdown",
   "id": "96cf5c99",
   "metadata": {
    "papermill": {
     "duration": 0.004112,
     "end_time": "2025-08-21T01:01:34.286936",
     "exception": false,
     "start_time": "2025-08-21T01:01:34.282824",
     "status": "completed"
    },
    "tags": []
   },
   "source": [
    "### Coordinates"
   ]
  },
  {
   "cell_type": "code",
   "execution_count": 9,
   "id": "d692d095",
   "metadata": {
    "execution": {
     "iopub.execute_input": "2025-08-21T01:01:34.295874Z",
     "iopub.status.busy": "2025-08-21T01:01:34.295644Z",
     "iopub.status.idle": "2025-08-21T01:01:34.876407Z",
     "shell.execute_reply": "2025-08-21T01:01:34.875739Z"
    },
    "papermill": {
     "duration": 0.586422,
     "end_time": "2025-08-21T01:01:34.877408",
     "exception": false,
     "start_time": "2025-08-21T01:01:34.290986",
     "status": "completed"
    },
    "tags": []
   },
   "outputs": [
    {
     "name": "stdout",
     "output_type": "stream",
     "text": [
      "Loaded geocode cache.\n",
      "Error geocoding  INTERNATIONAL DR / ALMERE AVE: REQUEST_DENIED (You must enable Billing on the Google Cloud Project at https://console.cloud.google.com/project/_/billing/enable Learn more at https://developers.google.com/maps/gmp-get-started)\n",
      "Geocoded  INTERNATIONAL DR / ALMERE AVE: None, None\n"
     ]
    },
    {
     "name": "stdout",
     "output_type": "stream",
     "text": [
      "Error geocoding 100 BLINCOE LN: REQUEST_DENIED (You must enable Billing on the Google Cloud Project at https://console.cloud.google.com/project/_/billing/enable Learn more at https://developers.google.com/maps/gmp-get-started)\n",
      "Geocoded 100 BLINCOE LN: None, None\n"
     ]
    },
    {
     "name": "stdout",
     "output_type": "stream",
     "text": [
      "Error geocoding 400 GARRETT ST, 208: REQUEST_DENIED (You must enable Billing on the Google Cloud Project at https://console.cloud.google.com/project/_/billing/enable Learn more at https://developers.google.com/maps/gmp-get-started)\n",
      "Geocoded 400 GARRETT ST, 208: None, None\n",
      "Error geocoding  HARRIS RD / 5TH ST SW: REQUEST_DENIED (You must enable Billing on the Google Cloud Project at https://console.cloud.google.com/project/_/billing/enable Learn more at https://developers.google.com/maps/gmp-get-started)\n",
      "Geocoded  HARRIS RD / 5TH ST SW: None, None\n",
      "Error geocoding  FOXHAVEN FARM / RESERVOIR RD: REQUEST_DENIED (You must enable Billing on the Google Cloud Project at https://console.cloud.google.com/project/_/billing/enable Learn more at https://developers.google.com/maps/gmp-get-started)\n",
      "Geocoded  FOXHAVEN FARM / RESERVOIR RD: None, None\n"
     ]
    },
    {
     "name": "stdout",
     "output_type": "stream",
     "text": [
      "Error geocoding 1600 GROVE ST EXT: REQUEST_DENIED (You must enable Billing on the Google Cloud Project at https://console.cloud.google.com/project/_/billing/enable Learn more at https://developers.google.com/maps/gmp-get-started)\n",
      "Geocoded 1600 GROVE ST EXT: None, None\n"
     ]
    },
    {
     "name": "stdout",
     "output_type": "stream",
     "text": [
      "Error geocoding  JEFFERSON PARK AVE / KENT TER: REQUEST_DENIED (You must enable Billing on the Google Cloud Project at https://console.cloud.google.com/project/_/billing/enable Learn more at https://developers.google.com/maps/gmp-get-started)\n",
      "Geocoded  JEFFERSON PARK AVE / KENT TER: None, None\n",
      "Error geocoding 400 RIALTO ST, 18: REQUEST_DENIED (You must enable Billing on the Google Cloud Project at https://console.cloud.google.com/project/_/billing/enable Learn more at https://developers.google.com/maps/gmp-get-started)\n",
      "Geocoded 400 RIALTO ST, 18: None, None\n",
      "Geocode cache updated and saved.\n"
     ]
    },
    {
     "data": {
      "text/html": [
       "<div>\n",
       "<style scoped>\n",
       "    .dataframe tbody tr th:only-of-type {\n",
       "        vertical-align: middle;\n",
       "    }\n",
       "\n",
       "    .dataframe tbody tr th {\n",
       "        vertical-align: top;\n",
       "    }\n",
       "\n",
       "    .dataframe thead th {\n",
       "        text-align: right;\n",
       "    }\n",
       "</style>\n",
       "<table border=\"1\" class=\"dataframe\">\n",
       "  <thead>\n",
       "    <tr style=\"text-align: right;\">\n",
       "      <th></th>\n",
       "      <th>RecordID</th>\n",
       "      <th>Offense</th>\n",
       "      <th>IncidentID</th>\n",
       "      <th>BlockNumber</th>\n",
       "      <th>StreetName</th>\n",
       "      <th>Agency</th>\n",
       "      <th>HourReported</th>\n",
       "      <th>ReportingOfficer</th>\n",
       "      <th>Date</th>\n",
       "      <th>DateString</th>\n",
       "      <th>DayOfWeek</th>\n",
       "      <th>Weekend</th>\n",
       "      <th>Season</th>\n",
       "      <th>HourAMPM</th>\n",
       "      <th>TimeOfDay</th>\n",
       "      <th>FullStreet</th>\n",
       "      <th>lat</th>\n",
       "      <th>lon</th>\n",
       "    </tr>\n",
       "  </thead>\n",
       "  <tbody>\n",
       "    <tr>\n",
       "      <th>0</th>\n",
       "      <td>1</td>\n",
       "      <td>Lost/FoundProperty</td>\n",
       "      <td>202500029346</td>\n",
       "      <td>200</td>\n",
       "      <td>W MAIN ST</td>\n",
       "      <td>CPD</td>\n",
       "      <td>2051</td>\n",
       "      <td>Benbow, Lauren</td>\n",
       "      <td>2025-08-18 20:51:18</td>\n",
       "      <td>2025-08-18 08:51:18 PM</td>\n",
       "      <td>Monday</td>\n",
       "      <td>False</td>\n",
       "      <td>Summer</td>\n",
       "      <td>08:51 PM</td>\n",
       "      <td>Evening</td>\n",
       "      <td>200 W MAIN ST</td>\n",
       "      <td>38.030841</td>\n",
       "      <td>-78.482517</td>\n",
       "    </tr>\n",
       "    <tr>\n",
       "      <th>1</th>\n",
       "      <td>2</td>\n",
       "      <td>Drug Equipment Violation</td>\n",
       "      <td>202500029334</td>\n",
       "      <td>100</td>\n",
       "      <td>1ST ST S</td>\n",
       "      <td>CPD</td>\n",
       "      <td>1903</td>\n",
       "      <td>Essex, Dominique</td>\n",
       "      <td>2025-08-18 19:03:26</td>\n",
       "      <td>2025-08-18 07:03:26 PM</td>\n",
       "      <td>Monday</td>\n",
       "      <td>False</td>\n",
       "      <td>Summer</td>\n",
       "      <td>07:03 PM</td>\n",
       "      <td>Evening</td>\n",
       "      <td>100 1ST ST S</td>\n",
       "      <td>38.030310</td>\n",
       "      <td>-78.481732</td>\n",
       "    </tr>\n",
       "    <tr>\n",
       "      <th>2</th>\n",
       "      <td>3</td>\n",
       "      <td>Fraud-false pretense</td>\n",
       "      <td>202500029324</td>\n",
       "      <td>500</td>\n",
       "      <td>RIDGE ST</td>\n",
       "      <td>CPD</td>\n",
       "      <td>1731</td>\n",
       "      <td>Benbow, Lauren</td>\n",
       "      <td>2025-08-18 17:31:57</td>\n",
       "      <td>2025-08-18 05:31:57 PM</td>\n",
       "      <td>Monday</td>\n",
       "      <td>False</td>\n",
       "      <td>Summer</td>\n",
       "      <td>05:31 PM</td>\n",
       "      <td>Evening</td>\n",
       "      <td>500 RIDGE ST</td>\n",
       "      <td>38.027107</td>\n",
       "      <td>-78.486703</td>\n",
       "    </tr>\n",
       "    <tr>\n",
       "      <th>3</th>\n",
       "      <td>4</td>\n",
       "      <td>Hit and Run</td>\n",
       "      <td>202500029320</td>\n",
       "      <td></td>\n",
       "      <td>INTERNATIONAL DR / ALMERE AVE</td>\n",
       "      <td>CPD</td>\n",
       "      <td>1700</td>\n",
       "      <td>Carrasco, Julio</td>\n",
       "      <td>2025-08-18 17:00:37</td>\n",
       "      <td>2025-08-18 05:00:37 PM</td>\n",
       "      <td>Monday</td>\n",
       "      <td>False</td>\n",
       "      <td>Summer</td>\n",
       "      <td>05:00 PM</td>\n",
       "      <td>Evening</td>\n",
       "      <td>INTERNATIONAL DR / ALMERE AVE</td>\n",
       "      <td>NaN</td>\n",
       "      <td>NaN</td>\n",
       "    </tr>\n",
       "    <tr>\n",
       "      <th>4</th>\n",
       "      <td>5</td>\n",
       "      <td>Larceny - Shoplifitng</td>\n",
       "      <td>202500029314</td>\n",
       "      <td>400</td>\n",
       "      <td>E MARKET ST</td>\n",
       "      <td>CPD</td>\n",
       "      <td>1636</td>\n",
       "      <td>Crowley, Raeann</td>\n",
       "      <td>2025-08-18 16:36:47</td>\n",
       "      <td>2025-08-18 04:36:47 PM</td>\n",
       "      <td>Monday</td>\n",
       "      <td>False</td>\n",
       "      <td>Summer</td>\n",
       "      <td>04:36 PM</td>\n",
       "      <td>Afternoon</td>\n",
       "      <td>400 E MARKET ST</td>\n",
       "      <td>38.030642</td>\n",
       "      <td>-78.478791</td>\n",
       "    </tr>\n",
       "  </tbody>\n",
       "</table>\n",
       "</div>"
      ],
      "text/plain": [
       "   RecordID                   Offense    IncidentID BlockNumber  \\\n",
       "0         1        Lost/FoundProperty  202500029346         200   \n",
       "1         2  Drug Equipment Violation  202500029334         100   \n",
       "2         3      Fraud-false pretense  202500029324         500   \n",
       "3         4               Hit and Run  202500029320               \n",
       "4         5     Larceny - Shoplifitng  202500029314         400   \n",
       "\n",
       "                      StreetName Agency HourReported  ReportingOfficer  \\\n",
       "0                      W MAIN ST    CPD         2051    Benbow, Lauren   \n",
       "1                       1ST ST S    CPD         1903  Essex, Dominique   \n",
       "2                       RIDGE ST    CPD         1731    Benbow, Lauren   \n",
       "3  INTERNATIONAL DR / ALMERE AVE    CPD         1700   Carrasco, Julio   \n",
       "4                    E MARKET ST    CPD         1636   Crowley, Raeann   \n",
       "\n",
       "                 Date              DateString DayOfWeek  Weekend  Season  \\\n",
       "0 2025-08-18 20:51:18  2025-08-18 08:51:18 PM    Monday    False  Summer   \n",
       "1 2025-08-18 19:03:26  2025-08-18 07:03:26 PM    Monday    False  Summer   \n",
       "2 2025-08-18 17:31:57  2025-08-18 05:31:57 PM    Monday    False  Summer   \n",
       "3 2025-08-18 17:00:37  2025-08-18 05:00:37 PM    Monday    False  Summer   \n",
       "4 2025-08-18 16:36:47  2025-08-18 04:36:47 PM    Monday    False  Summer   \n",
       "\n",
       "   HourAMPM  TimeOfDay                      FullStreet        lat        lon  \n",
       "0  08:51 PM    Evening                   200 W MAIN ST  38.030841 -78.482517  \n",
       "1  07:03 PM    Evening                    100 1ST ST S  38.030310 -78.481732  \n",
       "2  05:31 PM    Evening                    500 RIDGE ST  38.027107 -78.486703  \n",
       "3  05:00 PM    Evening   INTERNATIONAL DR / ALMERE AVE        NaN        NaN  \n",
       "4  04:36 PM  Afternoon                 400 E MARKET ST  38.030642 -78.478791  "
      ]
     },
     "execution_count": 9,
     "metadata": {},
     "output_type": "execute_result"
    }
   ],
   "source": [
    "# Combine BlockNumber and StreetName into a full address string\n",
    "df['FullStreet'] = df['BlockNumber'].astype(str) + \" \" + df['StreetName']\n",
    "\n",
    "# --- Step 1: Setup the Google Maps Client and Cache ---\n",
    "gmaps = googlemaps.Client(key=GOOGLE_API_KEY)\n",
    "\n",
    "# Try to load cached geocoding results if available.\n",
    "try:\n",
    "    with open(\"geocode_cache_google.pkl\", \"rb\") as f:\n",
    "        street_coords = pickle.load(f)\n",
    "    print(\"Loaded geocode cache.\")\n",
    "except FileNotFoundError:\n",
    "    street_coords = {}\n",
    "    print(\"No cache found; starting fresh.\")\n",
    "\n",
    "def geocode_address(address):\n",
    "    try:\n",
    "        # Append city and state to help geocoding\n",
    "        result = gmaps.geocode(f\"{address}, Charlottesville, VA\")\n",
    "        if result:\n",
    "            lat = result[0]['geometry']['location']['lat']\n",
    "            lon = result[0]['geometry']['location']['lng']\n",
    "            return lat, lon\n",
    "    except Exception as e:\n",
    "        print(f\"Error geocoding {address}: {e}\")\n",
    "    return None, None\n",
    "\n",
    "# --- Step 2: Geocode Only New Addresses ---\n",
    "unique_addresses = df['FullStreet'].unique()\n",
    "for address in unique_addresses:\n",
    "    if address not in street_coords:\n",
    "        lat, lon = geocode_address(address)\n",
    "        street_coords[address] = (lat, lon)\n",
    "        print(f\"Geocoded {address}: {lat}, {lon}\")\n",
    "\n",
    "# Save the updated cache to disk.\n",
    "with open(\"geocode_cache_google.pkl\", \"wb\") as f:\n",
    "    pickle.dump(street_coords, f)\n",
    "    print(\"Geocode cache updated and saved.\")\n",
    "\n",
    "# --- Step 3: Map Coordinates Back to DataFrame ---\n",
    "df['lat'] = df['FullStreet'].map(lambda s: street_coords.get(s, (None, None))[0])\n",
    "df['lon'] = df['FullStreet'].map(lambda s: street_coords.get(s, (None, None))[1])\n",
    "\n",
    "df.head()"
   ]
  },
  {
   "cell_type": "markdown",
   "id": "f94bed85",
   "metadata": {
    "papermill": {
     "duration": 0.004507,
     "end_time": "2025-08-21T01:01:34.886908",
     "exception": false,
     "start_time": "2025-08-21T01:01:34.882401",
     "status": "completed"
    },
    "tags": []
   },
   "source": [
    "### Neighborhood"
   ]
  },
  {
   "cell_type": "code",
   "execution_count": 10,
   "id": "1b435f91",
   "metadata": {
    "execution": {
     "iopub.execute_input": "2025-08-21T01:01:34.897533Z",
     "iopub.status.busy": "2025-08-21T01:01:34.897315Z",
     "iopub.status.idle": "2025-08-21T01:01:37.130645Z",
     "shell.execute_reply": "2025-08-21T01:01:37.129975Z"
    },
    "papermill": {
     "duration": 2.240178,
     "end_time": "2025-08-21T01:01:37.131782",
     "exception": false,
     "start_time": "2025-08-21T01:01:34.891604",
     "status": "completed"
    },
    "tags": []
   },
   "outputs": [
    {
     "name": "stdout",
     "output_type": "stream",
     "text": [
      "Loaded neighborhood cache.\n"
     ]
    },
    {
     "name": "stdout",
     "output_type": "stream",
     "text": [
      "Error getting neighborhood for nan, nan: HTTP Error: 400\n",
      "Error getting neighborhood for nan, nan: HTTP Error: 400\n",
      "Error getting neighborhood for nan, nan: HTTP Error: 400\n"
     ]
    },
    {
     "name": "stdout",
     "output_type": "stream",
     "text": [
      "Error getting neighborhood for nan, nan: HTTP Error: 400\n",
      "Error getting neighborhood for nan, nan: HTTP Error: 400\n",
      "Error getting neighborhood for nan, nan: HTTP Error: 400\n"
     ]
    },
    {
     "name": "stdout",
     "output_type": "stream",
     "text": [
      "Error getting neighborhood for nan, nan: HTTP Error: 400\n",
      "Error getting neighborhood for nan, nan: HTTP Error: 400\n",
      "Error getting neighborhood for nan, nan: HTTP Error: 400\n",
      "Error getting neighborhood for nan, nan: HTTP Error: 400\n",
      "Error getting neighborhood for nan, nan: HTTP Error: 400\n"
     ]
    },
    {
     "name": "stdout",
     "output_type": "stream",
     "text": [
      "Error getting neighborhood for nan, nan: HTTP Error: 400\n",
      "Error getting neighborhood for nan, nan: HTTP Error: 400\n",
      "Error getting neighborhood for nan, nan: HTTP Error: 400\n",
      "Error getting neighborhood for nan, nan: HTTP Error: 400\n",
      "Error getting neighborhood for nan, nan: HTTP Error: 400\n",
      "Error getting neighborhood for nan, nan: HTTP Error: 400\n"
     ]
    },
    {
     "name": "stdout",
     "output_type": "stream",
     "text": [
      "Error getting neighborhood for nan, nan: HTTP Error: 400\n",
      "Error getting neighborhood for nan, nan: HTTP Error: 400\n",
      "Error getting neighborhood for nan, nan: HTTP Error: 400\n",
      "Error getting neighborhood for nan, nan: HTTP Error: 400\n",
      "Error getting neighborhood for nan, nan: HTTP Error: 400\n",
      "Error getting neighborhood for nan, nan: HTTP Error: 400\n",
      "Error getting neighborhood for nan, nan: HTTP Error: 400\n"
     ]
    },
    {
     "name": "stdout",
     "output_type": "stream",
     "text": [
      "Error getting neighborhood for nan, nan: HTTP Error: 400\n",
      "Error getting neighborhood for nan, nan: HTTP Error: 400\n",
      "Error getting neighborhood for nan, nan: HTTP Error: 400\n",
      "Error getting neighborhood for nan, nan: HTTP Error: 400\n",
      "Error getting neighborhood for nan, nan: HTTP Error: 400\n",
      "Error getting neighborhood for nan, nan: HTTP Error: 400\n"
     ]
    },
    {
     "name": "stdout",
     "output_type": "stream",
     "text": [
      "Error getting neighborhood for nan, nan: HTTP Error: 400\n",
      "Error getting neighborhood for nan, nan: HTTP Error: 400\n",
      "Error getting neighborhood for nan, nan: HTTP Error: 400\n",
      "Error getting neighborhood for nan, nan: HTTP Error: 400\n",
      "Error getting neighborhood for nan, nan: HTTP Error: 400\n",
      "Error getting neighborhood for nan, nan: HTTP Error: 400\n",
      "Error getting neighborhood for nan, nan: HTTP Error: 400\n",
      "Error getting neighborhood for nan, nan: HTTP Error: 400\n"
     ]
    },
    {
     "name": "stdout",
     "output_type": "stream",
     "text": [
      "Error getting neighborhood for nan, nan: HTTP Error: 400\n",
      "Error getting neighborhood for nan, nan: HTTP Error: 400\n",
      "Error getting neighborhood for nan, nan: HTTP Error: 400\n",
      "Error getting neighborhood for nan, nan: HTTP Error: 400\n",
      "Error getting neighborhood for nan, nan: HTTP Error: 400\n",
      "Error getting neighborhood for nan, nan: HTTP Error: 400\n"
     ]
    },
    {
     "name": "stdout",
     "output_type": "stream",
     "text": [
      "Error getting neighborhood for nan, nan: HTTP Error: 400\n",
      "Error getting neighborhood for nan, nan: HTTP Error: 400\n",
      "Error getting neighborhood for nan, nan: HTTP Error: 400\n",
      "Error getting neighborhood for nan, nan: HTTP Error: 400\n",
      "Error getting neighborhood for nan, nan: HTTP Error: 400\n",
      "Error getting neighborhood for nan, nan: HTTP Error: 400\n",
      "Error getting neighborhood for nan, nan: HTTP Error: 400\n",
      "Error getting neighborhood for nan, nan: HTTP Error: 400\n"
     ]
    },
    {
     "name": "stdout",
     "output_type": "stream",
     "text": [
      "Error getting neighborhood for nan, nan: HTTP Error: 400\n",
      "Error getting neighborhood for nan, nan: HTTP Error: 400\n",
      "Error getting neighborhood for nan, nan: HTTP Error: 400\n",
      "Error getting neighborhood for nan, nan: HTTP Error: 400\n",
      "Error getting neighborhood for nan, nan: HTTP Error: 400\n",
      "Error getting neighborhood for nan, nan: HTTP Error: 400\n"
     ]
    },
    {
     "name": "stdout",
     "output_type": "stream",
     "text": [
      "Error getting neighborhood for nan, nan: HTTP Error: 400\n",
      "Error getting neighborhood for nan, nan: HTTP Error: 400\n",
      "Error getting neighborhood for nan, nan: HTTP Error: 400\n",
      "Error getting neighborhood for nan, nan: HTTP Error: 400\n",
      "Error getting neighborhood for nan, nan: HTTP Error: 400\n",
      "Error getting neighborhood for nan, nan: HTTP Error: 400\n",
      "Error getting neighborhood for nan, nan: HTTP Error: 400\n",
      "Error getting neighborhood for nan, nan: HTTP Error: 400\n"
     ]
    },
    {
     "name": "stdout",
     "output_type": "stream",
     "text": [
      "Error getting neighborhood for nan, nan: HTTP Error: 400\n",
      "Error getting neighborhood for nan, nan: HTTP Error: 400\n",
      "Error getting neighborhood for nan, nan: HTTP Error: 400\n",
      "Error getting neighborhood for nan, nan: HTTP Error: 400\n",
      "Error getting neighborhood for nan, nan: HTTP Error: 400\n",
      "Error getting neighborhood for nan, nan: HTTP Error: 400\n"
     ]
    },
    {
     "name": "stdout",
     "output_type": "stream",
     "text": [
      "Error getting neighborhood for nan, nan: HTTP Error: 400\n",
      "Error getting neighborhood for nan, nan: HTTP Error: 400\n",
      "Error getting neighborhood for nan, nan: HTTP Error: 400\n",
      "Error getting neighborhood for nan, nan: HTTP Error: 400\n",
      "Error getting neighborhood for nan, nan: HTTP Error: 400\n",
      "Error getting neighborhood for nan, nan: HTTP Error: 400\n",
      "Error getting neighborhood for nan, nan: HTTP Error: 400\n",
      "Error getting neighborhood for nan, nan: HTTP Error: 400\n"
     ]
    },
    {
     "name": "stdout",
     "output_type": "stream",
     "text": [
      "Error getting neighborhood for nan, nan: HTTP Error: 400\n",
      "Error getting neighborhood for nan, nan: HTTP Error: 400\n",
      "Error getting neighborhood for nan, nan: HTTP Error: 400\n",
      "Error getting neighborhood for nan, nan: HTTP Error: 400\n",
      "Error getting neighborhood for nan, nan: HTTP Error: 400\n",
      "Error getting neighborhood for nan, nan: HTTP Error: 400\n"
     ]
    },
    {
     "name": "stdout",
     "output_type": "stream",
     "text": [
      "Error getting neighborhood for nan, nan: HTTP Error: 400\n",
      "Error getting neighborhood for nan, nan: HTTP Error: 400\n",
      "Error getting neighborhood for nan, nan: HTTP Error: 400\n",
      "Error getting neighborhood for nan, nan: HTTP Error: 400\n",
      "Error getting neighborhood for nan, nan: HTTP Error: 400\n",
      "Error getting neighborhood for nan, nan: HTTP Error: 400\n",
      "Error getting neighborhood for nan, nan: HTTP Error: 400\n",
      "Error getting neighborhood for nan, nan: HTTP Error: 400\n"
     ]
    },
    {
     "name": "stdout",
     "output_type": "stream",
     "text": [
      "Error getting neighborhood for nan, nan: HTTP Error: 400\n",
      "Error getting neighborhood for nan, nan: HTTP Error: 400\n",
      "Error getting neighborhood for nan, nan: HTTP Error: 400\n",
      "Error getting neighborhood for nan, nan: HTTP Error: 400\n",
      "Error getting neighborhood for nan, nan: HTTP Error: 400\n",
      "Error getting neighborhood for nan, nan: HTTP Error: 400\n"
     ]
    },
    {
     "name": "stdout",
     "output_type": "stream",
     "text": [
      "Error getting neighborhood for nan, nan: HTTP Error: 400\n",
      "Error getting neighborhood for nan, nan: HTTP Error: 400\n",
      "Error getting neighborhood for nan, nan: HTTP Error: 400\n",
      "Error getting neighborhood for nan, nan: HTTP Error: 400\n",
      "Error getting neighborhood for nan, nan: HTTP Error: 400\n",
      "Error getting neighborhood for nan, nan: HTTP Error: 400\n",
      "Error getting neighborhood for nan, nan: HTTP Error: 400\n"
     ]
    },
    {
     "name": "stdout",
     "output_type": "stream",
     "text": [
      "Error getting neighborhood for nan, nan: HTTP Error: 400\n",
      "Error getting neighborhood for nan, nan: HTTP Error: 400\n",
      "Error getting neighborhood for nan, nan: HTTP Error: 400\n",
      "Error getting neighborhood for nan, nan: HTTP Error: 400\n",
      "Error getting neighborhood for nan, nan: HTTP Error: 400\n"
     ]
    },
    {
     "name": "stdout",
     "output_type": "stream",
     "text": [
      "Error getting neighborhood for nan, nan: HTTP Error: 400\n",
      "Error getting neighborhood for nan, nan: HTTP Error: 400\n",
      "Error getting neighborhood for nan, nan: HTTP Error: 400\n",
      "Error getting neighborhood for nan, nan: HTTP Error: 400\n"
     ]
    },
    {
     "name": "stdout",
     "output_type": "stream",
     "text": [
      "Error getting neighborhood for nan, nan: HTTP Error: 400\n"
     ]
    },
    {
     "data": {
      "text/html": [
       "<div>\n",
       "<style scoped>\n",
       "    .dataframe tbody tr th:only-of-type {\n",
       "        vertical-align: middle;\n",
       "    }\n",
       "\n",
       "    .dataframe tbody tr th {\n",
       "        vertical-align: top;\n",
       "    }\n",
       "\n",
       "    .dataframe thead th {\n",
       "        text-align: right;\n",
       "    }\n",
       "</style>\n",
       "<table border=\"1\" class=\"dataframe\">\n",
       "  <thead>\n",
       "    <tr style=\"text-align: right;\">\n",
       "      <th></th>\n",
       "      <th>RecordID</th>\n",
       "      <th>Offense</th>\n",
       "      <th>IncidentID</th>\n",
       "      <th>BlockNumber</th>\n",
       "      <th>StreetName</th>\n",
       "      <th>Agency</th>\n",
       "      <th>HourReported</th>\n",
       "      <th>ReportingOfficer</th>\n",
       "      <th>Date</th>\n",
       "      <th>DateString</th>\n",
       "      <th>DayOfWeek</th>\n",
       "      <th>Weekend</th>\n",
       "      <th>Season</th>\n",
       "      <th>HourAMPM</th>\n",
       "      <th>TimeOfDay</th>\n",
       "      <th>FullStreet</th>\n",
       "      <th>lat</th>\n",
       "      <th>lon</th>\n",
       "      <th>neighborhood</th>\n",
       "    </tr>\n",
       "  </thead>\n",
       "  <tbody>\n",
       "    <tr>\n",
       "      <th>0</th>\n",
       "      <td>1</td>\n",
       "      <td>Lost/FoundProperty</td>\n",
       "      <td>202500029346</td>\n",
       "      <td>200</td>\n",
       "      <td>W MAIN ST</td>\n",
       "      <td>CPD</td>\n",
       "      <td>2051</td>\n",
       "      <td>Benbow, Lauren</td>\n",
       "      <td>2025-08-18 20:51:18</td>\n",
       "      <td>2025-08-18 08:51:18 PM</td>\n",
       "      <td>Monday</td>\n",
       "      <td>False</td>\n",
       "      <td>Summer</td>\n",
       "      <td>08:51 PM</td>\n",
       "      <td>Evening</td>\n",
       "      <td>200 W MAIN ST</td>\n",
       "      <td>38.030841</td>\n",
       "      <td>-78.482517</td>\n",
       "      <td>Downtown Mall</td>\n",
       "    </tr>\n",
       "    <tr>\n",
       "      <th>1</th>\n",
       "      <td>2</td>\n",
       "      <td>Drug Equipment Violation</td>\n",
       "      <td>202500029334</td>\n",
       "      <td>100</td>\n",
       "      <td>1ST ST S</td>\n",
       "      <td>CPD</td>\n",
       "      <td>1903</td>\n",
       "      <td>Essex, Dominique</td>\n",
       "      <td>2025-08-18 19:03:26</td>\n",
       "      <td>2025-08-18 07:03:26 PM</td>\n",
       "      <td>Monday</td>\n",
       "      <td>False</td>\n",
       "      <td>Summer</td>\n",
       "      <td>07:03 PM</td>\n",
       "      <td>Evening</td>\n",
       "      <td>100 1ST ST S</td>\n",
       "      <td>38.030310</td>\n",
       "      <td>-78.481732</td>\n",
       "      <td>Downtown Mall</td>\n",
       "    </tr>\n",
       "    <tr>\n",
       "      <th>2</th>\n",
       "      <td>3</td>\n",
       "      <td>Fraud-false pretense</td>\n",
       "      <td>202500029324</td>\n",
       "      <td>500</td>\n",
       "      <td>RIDGE ST</td>\n",
       "      <td>CPD</td>\n",
       "      <td>1731</td>\n",
       "      <td>Benbow, Lauren</td>\n",
       "      <td>2025-08-18 17:31:57</td>\n",
       "      <td>2025-08-18 05:31:57 PM</td>\n",
       "      <td>Monday</td>\n",
       "      <td>False</td>\n",
       "      <td>Summer</td>\n",
       "      <td>05:31 PM</td>\n",
       "      <td>Evening</td>\n",
       "      <td>500 RIDGE ST</td>\n",
       "      <td>38.027107</td>\n",
       "      <td>-78.486703</td>\n",
       "      <td>Fifeville</td>\n",
       "    </tr>\n",
       "    <tr>\n",
       "      <th>3</th>\n",
       "      <td>4</td>\n",
       "      <td>Hit and Run</td>\n",
       "      <td>202500029320</td>\n",
       "      <td></td>\n",
       "      <td>INTERNATIONAL DR / ALMERE AVE</td>\n",
       "      <td>CPD</td>\n",
       "      <td>1700</td>\n",
       "      <td>Carrasco, Julio</td>\n",
       "      <td>2025-08-18 17:00:37</td>\n",
       "      <td>2025-08-18 05:00:37 PM</td>\n",
       "      <td>Monday</td>\n",
       "      <td>False</td>\n",
       "      <td>Summer</td>\n",
       "      <td>05:00 PM</td>\n",
       "      <td>Evening</td>\n",
       "      <td>INTERNATIONAL DR / ALMERE AVE</td>\n",
       "      <td>NaN</td>\n",
       "      <td>NaN</td>\n",
       "      <td>N/A</td>\n",
       "    </tr>\n",
       "    <tr>\n",
       "      <th>4</th>\n",
       "      <td>5</td>\n",
       "      <td>Larceny - Shoplifitng</td>\n",
       "      <td>202500029314</td>\n",
       "      <td>400</td>\n",
       "      <td>E MARKET ST</td>\n",
       "      <td>CPD</td>\n",
       "      <td>1636</td>\n",
       "      <td>Crowley, Raeann</td>\n",
       "      <td>2025-08-18 16:36:47</td>\n",
       "      <td>2025-08-18 04:36:47 PM</td>\n",
       "      <td>Monday</td>\n",
       "      <td>False</td>\n",
       "      <td>Summer</td>\n",
       "      <td>04:36 PM</td>\n",
       "      <td>Afternoon</td>\n",
       "      <td>400 E MARKET ST</td>\n",
       "      <td>38.030642</td>\n",
       "      <td>-78.478791</td>\n",
       "      <td>Downtown Mall</td>\n",
       "    </tr>\n",
       "  </tbody>\n",
       "</table>\n",
       "</div>"
      ],
      "text/plain": [
       "   RecordID                   Offense    IncidentID BlockNumber  \\\n",
       "0         1        Lost/FoundProperty  202500029346         200   \n",
       "1         2  Drug Equipment Violation  202500029334         100   \n",
       "2         3      Fraud-false pretense  202500029324         500   \n",
       "3         4               Hit and Run  202500029320               \n",
       "4         5     Larceny - Shoplifitng  202500029314         400   \n",
       "\n",
       "                      StreetName Agency HourReported  ReportingOfficer  \\\n",
       "0                      W MAIN ST    CPD         2051    Benbow, Lauren   \n",
       "1                       1ST ST S    CPD         1903  Essex, Dominique   \n",
       "2                       RIDGE ST    CPD         1731    Benbow, Lauren   \n",
       "3  INTERNATIONAL DR / ALMERE AVE    CPD         1700   Carrasco, Julio   \n",
       "4                    E MARKET ST    CPD         1636   Crowley, Raeann   \n",
       "\n",
       "                 Date              DateString DayOfWeek  Weekend  Season  \\\n",
       "0 2025-08-18 20:51:18  2025-08-18 08:51:18 PM    Monday    False  Summer   \n",
       "1 2025-08-18 19:03:26  2025-08-18 07:03:26 PM    Monday    False  Summer   \n",
       "2 2025-08-18 17:31:57  2025-08-18 05:31:57 PM    Monday    False  Summer   \n",
       "3 2025-08-18 17:00:37  2025-08-18 05:00:37 PM    Monday    False  Summer   \n",
       "4 2025-08-18 16:36:47  2025-08-18 04:36:47 PM    Monday    False  Summer   \n",
       "\n",
       "   HourAMPM  TimeOfDay                      FullStreet        lat        lon  \\\n",
       "0  08:51 PM    Evening                   200 W MAIN ST  38.030841 -78.482517   \n",
       "1  07:03 PM    Evening                    100 1ST ST S  38.030310 -78.481732   \n",
       "2  05:31 PM    Evening                    500 RIDGE ST  38.027107 -78.486703   \n",
       "3  05:00 PM    Evening   INTERNATIONAL DR / ALMERE AVE        NaN        NaN   \n",
       "4  04:36 PM  Afternoon                 400 E MARKET ST  38.030642 -78.478791   \n",
       "\n",
       "    neighborhood  \n",
       "0  Downtown Mall  \n",
       "1  Downtown Mall  \n",
       "2      Fifeville  \n",
       "3            N/A  \n",
       "4  Downtown Mall  "
      ]
     },
     "execution_count": 10,
     "metadata": {},
     "output_type": "execute_result"
    }
   ],
   "source": [
    "# Initialize the Google Maps client.\n",
    "gmaps = googlemaps.Client(key=GOOGLE_API_KEY)\n",
    "\n",
    "# Try to load a persistent neighborhood cache if available.\n",
    "try:\n",
    "    with open(\"neighborhood_cache.pkl\", \"rb\") as f:\n",
    "        neighborhood_cache = pickle.load(f)\n",
    "    print(\"Loaded neighborhood cache.\")\n",
    "except FileNotFoundError:\n",
    "    neighborhood_cache = {}\n",
    "    print(\"No neighborhood cache found; starting fresh.\")\n",
    "\n",
    "def get_neighborhood(lat, lon):\n",
    "    \"\"\"\n",
    "    Reverse geocodes a latitude and longitude to retrieve the neighborhood.\n",
    "    Caches results to speed up subsequent lookups.\n",
    "    \"\"\"\n",
    "    key = (lat, lon)\n",
    "    if key in neighborhood_cache:\n",
    "        return neighborhood_cache[key]\n",
    "    \n",
    "    try:\n",
    "        result = gmaps.reverse_geocode((lat, lon))\n",
    "        if result:\n",
    "            # Look for the 'neighborhood' component in the first result.\n",
    "            for component in result[0]['address_components']:\n",
    "                if 'neighborhood' in component['types']:\n",
    "                    neighborhood = component['long_name']\n",
    "                    neighborhood_cache[key] = neighborhood\n",
    "                    return neighborhood\n",
    "            # If no neighborhood is found, return \"N/A\"\n",
    "            neighborhood_cache[key] = \"N/A\"\n",
    "            return \"N/A\"\n",
    "    except Exception as e:\n",
    "        print(f\"Error getting neighborhood for {lat}, {lon}: {e}\")\n",
    "        return \"N/A\"\n",
    "    \n",
    "    # Pause to respect usage limits.\n",
    "    time.sleep(1)\n",
    "\n",
    "# Example usage: Apply to your DataFrame 'df' that already has 'lat' and 'lon' columns.\n",
    "df['neighborhood'] = df.apply(lambda row: get_neighborhood(row['lat'], row['lon']), axis=1)\n",
    "\n",
    "# Save the updated neighborhood cache.\n",
    "with open(\"neighborhood_cache.pkl\", \"wb\") as f:\n",
    "    pickle.dump(neighborhood_cache, f)\n",
    "\n",
    "df.head()\n"
   ]
  },
  {
   "cell_type": "markdown",
   "id": "4fe0e083",
   "metadata": {
    "papermill": {
     "duration": 0.005557,
     "end_time": "2025-08-21T01:01:37.143464",
     "exception": false,
     "start_time": "2025-08-21T01:01:37.137907",
     "status": "completed"
    },
    "tags": []
   },
   "source": [
    "### Zip"
   ]
  },
  {
   "cell_type": "code",
   "execution_count": 11,
   "id": "acd06441",
   "metadata": {
    "execution": {
     "iopub.execute_input": "2025-08-21T01:01:37.155606Z",
     "iopub.status.busy": "2025-08-21T01:01:37.155398Z",
     "iopub.status.idle": "2025-08-21T01:03:34.849530Z",
     "shell.execute_reply": "2025-08-21T01:03:34.848885Z"
    },
    "papermill": {
     "duration": 117.701562,
     "end_time": "2025-08-21T01:03:34.850619",
     "exception": false,
     "start_time": "2025-08-21T01:01:37.149057",
     "status": "completed"
    },
    "tags": []
   },
   "outputs": [
    {
     "name": "stdout",
     "output_type": "stream",
     "text": [
      "Loaded zip cache.\n",
      "Error getting ZIP for nan, nan: Must be a coordinate pair or Point\n"
     ]
    },
    {
     "name": "stdout",
     "output_type": "stream",
     "text": [
      "Error getting ZIP for nan, nan: Must be a coordinate pair or Point\n"
     ]
    },
    {
     "name": "stdout",
     "output_type": "stream",
     "text": [
      "Error getting ZIP for nan, nan: Must be a coordinate pair or Point\n"
     ]
    },
    {
     "name": "stdout",
     "output_type": "stream",
     "text": [
      "Error getting ZIP for nan, nan: Must be a coordinate pair or Point\n"
     ]
    },
    {
     "name": "stdout",
     "output_type": "stream",
     "text": [
      "Error getting ZIP for nan, nan: Must be a coordinate pair or Point\n"
     ]
    },
    {
     "name": "stdout",
     "output_type": "stream",
     "text": [
      "Error getting ZIP for nan, nan: Must be a coordinate pair or Point\n"
     ]
    },
    {
     "name": "stdout",
     "output_type": "stream",
     "text": [
      "Error getting ZIP for nan, nan: Must be a coordinate pair or Point\n"
     ]
    },
    {
     "name": "stdout",
     "output_type": "stream",
     "text": [
      "Error getting ZIP for nan, nan: Must be a coordinate pair or Point\n"
     ]
    },
    {
     "name": "stdout",
     "output_type": "stream",
     "text": [
      "Error getting ZIP for nan, nan: Must be a coordinate pair or Point\n"
     ]
    },
    {
     "name": "stdout",
     "output_type": "stream",
     "text": [
      "Error getting ZIP for nan, nan: Must be a coordinate pair or Point\n"
     ]
    },
    {
     "name": "stdout",
     "output_type": "stream",
     "text": [
      "Error getting ZIP for nan, nan: Must be a coordinate pair or Point\n"
     ]
    },
    {
     "name": "stdout",
     "output_type": "stream",
     "text": [
      "Error getting ZIP for nan, nan: Must be a coordinate pair or Point\n"
     ]
    },
    {
     "name": "stdout",
     "output_type": "stream",
     "text": [
      "Error getting ZIP for nan, nan: Must be a coordinate pair or Point\n"
     ]
    },
    {
     "name": "stdout",
     "output_type": "stream",
     "text": [
      "Error getting ZIP for nan, nan: Must be a coordinate pair or Point\n"
     ]
    },
    {
     "name": "stdout",
     "output_type": "stream",
     "text": [
      "Error getting ZIP for nan, nan: Must be a coordinate pair or Point\n"
     ]
    },
    {
     "name": "stdout",
     "output_type": "stream",
     "text": [
      "Error getting ZIP for nan, nan: Must be a coordinate pair or Point\n"
     ]
    },
    {
     "name": "stdout",
     "output_type": "stream",
     "text": [
      "Error getting ZIP for nan, nan: Must be a coordinate pair or Point\n"
     ]
    },
    {
     "name": "stdout",
     "output_type": "stream",
     "text": [
      "Error getting ZIP for nan, nan: Must be a coordinate pair or Point\n"
     ]
    },
    {
     "name": "stdout",
     "output_type": "stream",
     "text": [
      "Error getting ZIP for nan, nan: Must be a coordinate pair or Point\n"
     ]
    },
    {
     "name": "stdout",
     "output_type": "stream",
     "text": [
      "Error getting ZIP for nan, nan: Must be a coordinate pair or Point\n"
     ]
    },
    {
     "name": "stdout",
     "output_type": "stream",
     "text": [
      "Error getting ZIP for nan, nan: Must be a coordinate pair or Point\n"
     ]
    },
    {
     "name": "stdout",
     "output_type": "stream",
     "text": [
      "Error getting ZIP for nan, nan: Must be a coordinate pair or Point\n"
     ]
    },
    {
     "name": "stdout",
     "output_type": "stream",
     "text": [
      "Error getting ZIP for nan, nan: Must be a coordinate pair or Point\n"
     ]
    },
    {
     "name": "stdout",
     "output_type": "stream",
     "text": [
      "Error getting ZIP for nan, nan: Must be a coordinate pair or Point\n"
     ]
    },
    {
     "name": "stdout",
     "output_type": "stream",
     "text": [
      "Error getting ZIP for nan, nan: Must be a coordinate pair or Point\n"
     ]
    },
    {
     "name": "stdout",
     "output_type": "stream",
     "text": [
      "Error getting ZIP for nan, nan: Must be a coordinate pair or Point\n"
     ]
    },
    {
     "name": "stdout",
     "output_type": "stream",
     "text": [
      "Error getting ZIP for nan, nan: Must be a coordinate pair or Point\n"
     ]
    },
    {
     "name": "stdout",
     "output_type": "stream",
     "text": [
      "Error getting ZIP for nan, nan: Must be a coordinate pair or Point\n"
     ]
    },
    {
     "name": "stdout",
     "output_type": "stream",
     "text": [
      "Error getting ZIP for nan, nan: Must be a coordinate pair or Point\n"
     ]
    },
    {
     "name": "stdout",
     "output_type": "stream",
     "text": [
      "Error getting ZIP for nan, nan: Must be a coordinate pair or Point\n"
     ]
    },
    {
     "name": "stdout",
     "output_type": "stream",
     "text": [
      "Error getting ZIP for nan, nan: Must be a coordinate pair or Point\n"
     ]
    },
    {
     "name": "stdout",
     "output_type": "stream",
     "text": [
      "Error getting ZIP for nan, nan: Must be a coordinate pair or Point\n"
     ]
    },
    {
     "name": "stdout",
     "output_type": "stream",
     "text": [
      "Error getting ZIP for nan, nan: Must be a coordinate pair or Point\n"
     ]
    },
    {
     "name": "stdout",
     "output_type": "stream",
     "text": [
      "Error getting ZIP for nan, nan: Must be a coordinate pair or Point\n"
     ]
    },
    {
     "name": "stdout",
     "output_type": "stream",
     "text": [
      "Error getting ZIP for nan, nan: Must be a coordinate pair or Point\n"
     ]
    },
    {
     "name": "stdout",
     "output_type": "stream",
     "text": [
      "Error getting ZIP for nan, nan: Must be a coordinate pair or Point\n"
     ]
    },
    {
     "name": "stdout",
     "output_type": "stream",
     "text": [
      "Error getting ZIP for nan, nan: Must be a coordinate pair or Point\n"
     ]
    },
    {
     "name": "stdout",
     "output_type": "stream",
     "text": [
      "Error getting ZIP for nan, nan: Must be a coordinate pair or Point\n"
     ]
    },
    {
     "name": "stdout",
     "output_type": "stream",
     "text": [
      "Error getting ZIP for nan, nan: Must be a coordinate pair or Point\n"
     ]
    },
    {
     "name": "stdout",
     "output_type": "stream",
     "text": [
      "Error getting ZIP for nan, nan: Must be a coordinate pair or Point\n"
     ]
    },
    {
     "name": "stdout",
     "output_type": "stream",
     "text": [
      "Error getting ZIP for nan, nan: Must be a coordinate pair or Point\n"
     ]
    },
    {
     "name": "stdout",
     "output_type": "stream",
     "text": [
      "Error getting ZIP for nan, nan: Must be a coordinate pair or Point\n"
     ]
    },
    {
     "name": "stdout",
     "output_type": "stream",
     "text": [
      "Error getting ZIP for nan, nan: Must be a coordinate pair or Point\n"
     ]
    },
    {
     "name": "stdout",
     "output_type": "stream",
     "text": [
      "Error getting ZIP for nan, nan: Must be a coordinate pair or Point\n"
     ]
    },
    {
     "name": "stdout",
     "output_type": "stream",
     "text": [
      "Error getting ZIP for nan, nan: Must be a coordinate pair or Point\n"
     ]
    },
    {
     "name": "stdout",
     "output_type": "stream",
     "text": [
      "Error getting ZIP for nan, nan: Must be a coordinate pair or Point\n"
     ]
    },
    {
     "name": "stdout",
     "output_type": "stream",
     "text": [
      "Error getting ZIP for nan, nan: Must be a coordinate pair or Point\n"
     ]
    },
    {
     "name": "stdout",
     "output_type": "stream",
     "text": [
      "Error getting ZIP for nan, nan: Must be a coordinate pair or Point\n"
     ]
    },
    {
     "name": "stdout",
     "output_type": "stream",
     "text": [
      "Error getting ZIP for nan, nan: Must be a coordinate pair or Point\n"
     ]
    },
    {
     "name": "stdout",
     "output_type": "stream",
     "text": [
      "Error getting ZIP for nan, nan: Must be a coordinate pair or Point\n"
     ]
    },
    {
     "name": "stdout",
     "output_type": "stream",
     "text": [
      "Error getting ZIP for nan, nan: Must be a coordinate pair or Point\n"
     ]
    },
    {
     "name": "stdout",
     "output_type": "stream",
     "text": [
      "Error getting ZIP for nan, nan: Must be a coordinate pair or Point\n"
     ]
    },
    {
     "name": "stdout",
     "output_type": "stream",
     "text": [
      "Error getting ZIP for nan, nan: Must be a coordinate pair or Point\n"
     ]
    },
    {
     "name": "stdout",
     "output_type": "stream",
     "text": [
      "Error getting ZIP for nan, nan: Must be a coordinate pair or Point\n"
     ]
    },
    {
     "name": "stdout",
     "output_type": "stream",
     "text": [
      "Error getting ZIP for nan, nan: Must be a coordinate pair or Point\n"
     ]
    },
    {
     "name": "stdout",
     "output_type": "stream",
     "text": [
      "Error getting ZIP for nan, nan: Must be a coordinate pair or Point\n"
     ]
    },
    {
     "name": "stdout",
     "output_type": "stream",
     "text": [
      "Error getting ZIP for nan, nan: Must be a coordinate pair or Point\n"
     ]
    },
    {
     "name": "stdout",
     "output_type": "stream",
     "text": [
      "Error getting ZIP for nan, nan: Must be a coordinate pair or Point\n"
     ]
    },
    {
     "name": "stdout",
     "output_type": "stream",
     "text": [
      "Error getting ZIP for nan, nan: Must be a coordinate pair or Point\n"
     ]
    },
    {
     "name": "stdout",
     "output_type": "stream",
     "text": [
      "Error getting ZIP for nan, nan: Must be a coordinate pair or Point\n"
     ]
    },
    {
     "name": "stdout",
     "output_type": "stream",
     "text": [
      "Error getting ZIP for nan, nan: Must be a coordinate pair or Point\n"
     ]
    },
    {
     "name": "stdout",
     "output_type": "stream",
     "text": [
      "Error getting ZIP for nan, nan: Must be a coordinate pair or Point\n"
     ]
    },
    {
     "name": "stdout",
     "output_type": "stream",
     "text": [
      "Error getting ZIP for nan, nan: Must be a coordinate pair or Point\n"
     ]
    },
    {
     "name": "stdout",
     "output_type": "stream",
     "text": [
      "Error getting ZIP for nan, nan: Must be a coordinate pair or Point\n"
     ]
    },
    {
     "name": "stdout",
     "output_type": "stream",
     "text": [
      "Error getting ZIP for nan, nan: Must be a coordinate pair or Point\n"
     ]
    },
    {
     "name": "stdout",
     "output_type": "stream",
     "text": [
      "Error getting ZIP for nan, nan: Must be a coordinate pair or Point\n"
     ]
    },
    {
     "name": "stdout",
     "output_type": "stream",
     "text": [
      "Error getting ZIP for nan, nan: Must be a coordinate pair or Point\n"
     ]
    },
    {
     "name": "stdout",
     "output_type": "stream",
     "text": [
      "Error getting ZIP for nan, nan: Must be a coordinate pair or Point\n"
     ]
    },
    {
     "name": "stdout",
     "output_type": "stream",
     "text": [
      "Error getting ZIP for nan, nan: Must be a coordinate pair or Point\n"
     ]
    },
    {
     "name": "stdout",
     "output_type": "stream",
     "text": [
      "Error getting ZIP for nan, nan: Must be a coordinate pair or Point\n"
     ]
    },
    {
     "name": "stdout",
     "output_type": "stream",
     "text": [
      "Error getting ZIP for nan, nan: Must be a coordinate pair or Point\n"
     ]
    },
    {
     "name": "stdout",
     "output_type": "stream",
     "text": [
      "Error getting ZIP for nan, nan: Must be a coordinate pair or Point\n"
     ]
    },
    {
     "name": "stdout",
     "output_type": "stream",
     "text": [
      "Error getting ZIP for nan, nan: Must be a coordinate pair or Point\n"
     ]
    },
    {
     "name": "stdout",
     "output_type": "stream",
     "text": [
      "Error getting ZIP for nan, nan: Must be a coordinate pair or Point\n"
     ]
    },
    {
     "name": "stdout",
     "output_type": "stream",
     "text": [
      "Error getting ZIP for nan, nan: Must be a coordinate pair or Point\n"
     ]
    },
    {
     "name": "stdout",
     "output_type": "stream",
     "text": [
      "Error getting ZIP for nan, nan: Must be a coordinate pair or Point\n"
     ]
    },
    {
     "name": "stdout",
     "output_type": "stream",
     "text": [
      "Error getting ZIP for nan, nan: Must be a coordinate pair or Point\n"
     ]
    },
    {
     "name": "stdout",
     "output_type": "stream",
     "text": [
      "Error getting ZIP for nan, nan: Must be a coordinate pair or Point\n"
     ]
    },
    {
     "name": "stdout",
     "output_type": "stream",
     "text": [
      "Error getting ZIP for nan, nan: Must be a coordinate pair or Point\n"
     ]
    },
    {
     "name": "stdout",
     "output_type": "stream",
     "text": [
      "Error getting ZIP for nan, nan: Must be a coordinate pair or Point\n"
     ]
    },
    {
     "name": "stdout",
     "output_type": "stream",
     "text": [
      "Error getting ZIP for nan, nan: Must be a coordinate pair or Point\n"
     ]
    },
    {
     "name": "stdout",
     "output_type": "stream",
     "text": [
      "Error getting ZIP for nan, nan: Must be a coordinate pair or Point\n"
     ]
    },
    {
     "name": "stdout",
     "output_type": "stream",
     "text": [
      "Error getting ZIP for nan, nan: Must be a coordinate pair or Point\n"
     ]
    },
    {
     "name": "stdout",
     "output_type": "stream",
     "text": [
      "Error getting ZIP for nan, nan: Must be a coordinate pair or Point\n"
     ]
    },
    {
     "name": "stdout",
     "output_type": "stream",
     "text": [
      "Error getting ZIP for nan, nan: Must be a coordinate pair or Point\n"
     ]
    },
    {
     "name": "stdout",
     "output_type": "stream",
     "text": [
      "Error getting ZIP for nan, nan: Must be a coordinate pair or Point\n"
     ]
    },
    {
     "name": "stdout",
     "output_type": "stream",
     "text": [
      "Error getting ZIP for nan, nan: Must be a coordinate pair or Point\n"
     ]
    },
    {
     "name": "stdout",
     "output_type": "stream",
     "text": [
      "Error getting ZIP for nan, nan: Must be a coordinate pair or Point\n"
     ]
    },
    {
     "name": "stdout",
     "output_type": "stream",
     "text": [
      "Error getting ZIP for nan, nan: Must be a coordinate pair or Point\n"
     ]
    },
    {
     "name": "stdout",
     "output_type": "stream",
     "text": [
      "Error getting ZIP for nan, nan: Must be a coordinate pair or Point\n"
     ]
    },
    {
     "name": "stdout",
     "output_type": "stream",
     "text": [
      "Error getting ZIP for nan, nan: Must be a coordinate pair or Point\n"
     ]
    },
    {
     "name": "stdout",
     "output_type": "stream",
     "text": [
      "Error getting ZIP for nan, nan: Must be a coordinate pair or Point\n"
     ]
    },
    {
     "name": "stdout",
     "output_type": "stream",
     "text": [
      "Error getting ZIP for nan, nan: Must be a coordinate pair or Point\n"
     ]
    },
    {
     "name": "stdout",
     "output_type": "stream",
     "text": [
      "Error getting ZIP for nan, nan: Must be a coordinate pair or Point\n"
     ]
    },
    {
     "name": "stdout",
     "output_type": "stream",
     "text": [
      "Error getting ZIP for nan, nan: Must be a coordinate pair or Point\n"
     ]
    },
    {
     "name": "stdout",
     "output_type": "stream",
     "text": [
      "Error getting ZIP for nan, nan: Must be a coordinate pair or Point\n"
     ]
    },
    {
     "name": "stdout",
     "output_type": "stream",
     "text": [
      "Error getting ZIP for nan, nan: Must be a coordinate pair or Point\n"
     ]
    },
    {
     "name": "stdout",
     "output_type": "stream",
     "text": [
      "Error getting ZIP for nan, nan: Must be a coordinate pair or Point\n"
     ]
    },
    {
     "name": "stdout",
     "output_type": "stream",
     "text": [
      "Error getting ZIP for nan, nan: Must be a coordinate pair or Point\n"
     ]
    },
    {
     "name": "stdout",
     "output_type": "stream",
     "text": [
      "Error getting ZIP for nan, nan: Must be a coordinate pair or Point\n"
     ]
    },
    {
     "name": "stdout",
     "output_type": "stream",
     "text": [
      "Error getting ZIP for nan, nan: Must be a coordinate pair or Point\n"
     ]
    },
    {
     "name": "stdout",
     "output_type": "stream",
     "text": [
      "Error getting ZIP for nan, nan: Must be a coordinate pair or Point\n"
     ]
    },
    {
     "name": "stdout",
     "output_type": "stream",
     "text": [
      "Error getting ZIP for nan, nan: Must be a coordinate pair or Point\n"
     ]
    },
    {
     "name": "stdout",
     "output_type": "stream",
     "text": [
      "Error getting ZIP for nan, nan: Must be a coordinate pair or Point\n"
     ]
    },
    {
     "name": "stdout",
     "output_type": "stream",
     "text": [
      "Error getting ZIP for nan, nan: Must be a coordinate pair or Point\n"
     ]
    },
    {
     "name": "stdout",
     "output_type": "stream",
     "text": [
      "Error getting ZIP for nan, nan: Must be a coordinate pair or Point\n"
     ]
    },
    {
     "name": "stdout",
     "output_type": "stream",
     "text": [
      "Error getting ZIP for nan, nan: Must be a coordinate pair or Point\n"
     ]
    },
    {
     "name": "stdout",
     "output_type": "stream",
     "text": [
      "Error getting ZIP for nan, nan: Must be a coordinate pair or Point\n"
     ]
    },
    {
     "name": "stdout",
     "output_type": "stream",
     "text": [
      "Error getting ZIP for nan, nan: Must be a coordinate pair or Point\n"
     ]
    },
    {
     "name": "stdout",
     "output_type": "stream",
     "text": [
      "Error getting ZIP for nan, nan: Must be a coordinate pair or Point\n"
     ]
    },
    {
     "name": "stdout",
     "output_type": "stream",
     "text": [
      "Error getting ZIP for nan, nan: Must be a coordinate pair or Point\n"
     ]
    },
    {
     "name": "stdout",
     "output_type": "stream",
     "text": [
      "Error getting ZIP for nan, nan: Must be a coordinate pair or Point\n"
     ]
    },
    {
     "name": "stdout",
     "output_type": "stream",
     "text": [
      "Error getting ZIP for nan, nan: Must be a coordinate pair or Point\n"
     ]
    },
    {
     "name": "stdout",
     "output_type": "stream",
     "text": [
      "Error getting ZIP for nan, nan: Must be a coordinate pair or Point\n"
     ]
    },
    {
     "name": "stdout",
     "output_type": "stream",
     "text": [
      "Error getting ZIP for nan, nan: Must be a coordinate pair or Point\n"
     ]
    },
    {
     "name": "stdout",
     "output_type": "stream",
     "text": [
      "Error getting ZIP for nan, nan: Must be a coordinate pair or Point\n"
     ]
    },
    {
     "name": "stdout",
     "output_type": "stream",
     "text": [
      "Error getting ZIP for nan, nan: Must be a coordinate pair or Point\n"
     ]
    },
    {
     "data": {
      "text/html": [
       "<div>\n",
       "<style scoped>\n",
       "    .dataframe tbody tr th:only-of-type {\n",
       "        vertical-align: middle;\n",
       "    }\n",
       "\n",
       "    .dataframe tbody tr th {\n",
       "        vertical-align: top;\n",
       "    }\n",
       "\n",
       "    .dataframe thead th {\n",
       "        text-align: right;\n",
       "    }\n",
       "</style>\n",
       "<table border=\"1\" class=\"dataframe\">\n",
       "  <thead>\n",
       "    <tr style=\"text-align: right;\">\n",
       "      <th></th>\n",
       "      <th>RecordID</th>\n",
       "      <th>Offense</th>\n",
       "      <th>IncidentID</th>\n",
       "      <th>BlockNumber</th>\n",
       "      <th>StreetName</th>\n",
       "      <th>Agency</th>\n",
       "      <th>HourReported</th>\n",
       "      <th>ReportingOfficer</th>\n",
       "      <th>Date</th>\n",
       "      <th>DateString</th>\n",
       "      <th>DayOfWeek</th>\n",
       "      <th>Weekend</th>\n",
       "      <th>Season</th>\n",
       "      <th>HourAMPM</th>\n",
       "      <th>TimeOfDay</th>\n",
       "      <th>FullStreet</th>\n",
       "      <th>lat</th>\n",
       "      <th>lon</th>\n",
       "      <th>neighborhood</th>\n",
       "      <th>zip</th>\n",
       "    </tr>\n",
       "  </thead>\n",
       "  <tbody>\n",
       "    <tr>\n",
       "      <th>0</th>\n",
       "      <td>1</td>\n",
       "      <td>Lost/FoundProperty</td>\n",
       "      <td>202500029346</td>\n",
       "      <td>200</td>\n",
       "      <td>W MAIN ST</td>\n",
       "      <td>CPD</td>\n",
       "      <td>2051</td>\n",
       "      <td>Benbow, Lauren</td>\n",
       "      <td>2025-08-18 20:51:18</td>\n",
       "      <td>2025-08-18 08:51:18 PM</td>\n",
       "      <td>Monday</td>\n",
       "      <td>False</td>\n",
       "      <td>Summer</td>\n",
       "      <td>08:51 PM</td>\n",
       "      <td>Evening</td>\n",
       "      <td>200 W MAIN ST</td>\n",
       "      <td>38.030841</td>\n",
       "      <td>-78.482517</td>\n",
       "      <td>Downtown Mall</td>\n",
       "      <td>22902</td>\n",
       "    </tr>\n",
       "    <tr>\n",
       "      <th>1</th>\n",
       "      <td>2</td>\n",
       "      <td>Drug Equipment Violation</td>\n",
       "      <td>202500029334</td>\n",
       "      <td>100</td>\n",
       "      <td>1ST ST S</td>\n",
       "      <td>CPD</td>\n",
       "      <td>1903</td>\n",
       "      <td>Essex, Dominique</td>\n",
       "      <td>2025-08-18 19:03:26</td>\n",
       "      <td>2025-08-18 07:03:26 PM</td>\n",
       "      <td>Monday</td>\n",
       "      <td>False</td>\n",
       "      <td>Summer</td>\n",
       "      <td>07:03 PM</td>\n",
       "      <td>Evening</td>\n",
       "      <td>100 1ST ST S</td>\n",
       "      <td>38.030310</td>\n",
       "      <td>-78.481732</td>\n",
       "      <td>Downtown Mall</td>\n",
       "      <td>22902</td>\n",
       "    </tr>\n",
       "    <tr>\n",
       "      <th>2</th>\n",
       "      <td>3</td>\n",
       "      <td>Fraud-false pretense</td>\n",
       "      <td>202500029324</td>\n",
       "      <td>500</td>\n",
       "      <td>RIDGE ST</td>\n",
       "      <td>CPD</td>\n",
       "      <td>1731</td>\n",
       "      <td>Benbow, Lauren</td>\n",
       "      <td>2025-08-18 17:31:57</td>\n",
       "      <td>2025-08-18 05:31:57 PM</td>\n",
       "      <td>Monday</td>\n",
       "      <td>False</td>\n",
       "      <td>Summer</td>\n",
       "      <td>05:31 PM</td>\n",
       "      <td>Evening</td>\n",
       "      <td>500 RIDGE ST</td>\n",
       "      <td>38.027107</td>\n",
       "      <td>-78.486703</td>\n",
       "      <td>Fifeville</td>\n",
       "      <td>22903</td>\n",
       "    </tr>\n",
       "    <tr>\n",
       "      <th>3</th>\n",
       "      <td>4</td>\n",
       "      <td>Hit and Run</td>\n",
       "      <td>202500029320</td>\n",
       "      <td></td>\n",
       "      <td>INTERNATIONAL DR / ALMERE AVE</td>\n",
       "      <td>CPD</td>\n",
       "      <td>1700</td>\n",
       "      <td>Carrasco, Julio</td>\n",
       "      <td>2025-08-18 17:00:37</td>\n",
       "      <td>2025-08-18 05:00:37 PM</td>\n",
       "      <td>Monday</td>\n",
       "      <td>False</td>\n",
       "      <td>Summer</td>\n",
       "      <td>05:00 PM</td>\n",
       "      <td>Evening</td>\n",
       "      <td>INTERNATIONAL DR / ALMERE AVE</td>\n",
       "      <td>NaN</td>\n",
       "      <td>NaN</td>\n",
       "      <td>N/A</td>\n",
       "      <td>N/A</td>\n",
       "    </tr>\n",
       "    <tr>\n",
       "      <th>4</th>\n",
       "      <td>5</td>\n",
       "      <td>Larceny - Shoplifitng</td>\n",
       "      <td>202500029314</td>\n",
       "      <td>400</td>\n",
       "      <td>E MARKET ST</td>\n",
       "      <td>CPD</td>\n",
       "      <td>1636</td>\n",
       "      <td>Crowley, Raeann</td>\n",
       "      <td>2025-08-18 16:36:47</td>\n",
       "      <td>2025-08-18 04:36:47 PM</td>\n",
       "      <td>Monday</td>\n",
       "      <td>False</td>\n",
       "      <td>Summer</td>\n",
       "      <td>04:36 PM</td>\n",
       "      <td>Afternoon</td>\n",
       "      <td>400 E MARKET ST</td>\n",
       "      <td>38.030642</td>\n",
       "      <td>-78.478791</td>\n",
       "      <td>Downtown Mall</td>\n",
       "      <td>22902</td>\n",
       "    </tr>\n",
       "  </tbody>\n",
       "</table>\n",
       "</div>"
      ],
      "text/plain": [
       "   RecordID                   Offense    IncidentID BlockNumber  \\\n",
       "0         1        Lost/FoundProperty  202500029346         200   \n",
       "1         2  Drug Equipment Violation  202500029334         100   \n",
       "2         3      Fraud-false pretense  202500029324         500   \n",
       "3         4               Hit and Run  202500029320               \n",
       "4         5     Larceny - Shoplifitng  202500029314         400   \n",
       "\n",
       "                      StreetName Agency HourReported  ReportingOfficer  \\\n",
       "0                      W MAIN ST    CPD         2051    Benbow, Lauren   \n",
       "1                       1ST ST S    CPD         1903  Essex, Dominique   \n",
       "2                       RIDGE ST    CPD         1731    Benbow, Lauren   \n",
       "3  INTERNATIONAL DR / ALMERE AVE    CPD         1700   Carrasco, Julio   \n",
       "4                    E MARKET ST    CPD         1636   Crowley, Raeann   \n",
       "\n",
       "                 Date              DateString DayOfWeek  Weekend  Season  \\\n",
       "0 2025-08-18 20:51:18  2025-08-18 08:51:18 PM    Monday    False  Summer   \n",
       "1 2025-08-18 19:03:26  2025-08-18 07:03:26 PM    Monday    False  Summer   \n",
       "2 2025-08-18 17:31:57  2025-08-18 05:31:57 PM    Monday    False  Summer   \n",
       "3 2025-08-18 17:00:37  2025-08-18 05:00:37 PM    Monday    False  Summer   \n",
       "4 2025-08-18 16:36:47  2025-08-18 04:36:47 PM    Monday    False  Summer   \n",
       "\n",
       "   HourAMPM  TimeOfDay                      FullStreet        lat        lon  \\\n",
       "0  08:51 PM    Evening                   200 W MAIN ST  38.030841 -78.482517   \n",
       "1  07:03 PM    Evening                    100 1ST ST S  38.030310 -78.481732   \n",
       "2  05:31 PM    Evening                    500 RIDGE ST  38.027107 -78.486703   \n",
       "3  05:00 PM    Evening   INTERNATIONAL DR / ALMERE AVE        NaN        NaN   \n",
       "4  04:36 PM  Afternoon                 400 E MARKET ST  38.030642 -78.478791   \n",
       "\n",
       "    neighborhood    zip  \n",
       "0  Downtown Mall  22902  \n",
       "1  Downtown Mall  22902  \n",
       "2      Fifeville  22903  \n",
       "3            N/A    N/A  \n",
       "4  Downtown Mall  22902  "
      ]
     },
     "execution_count": 11,
     "metadata": {},
     "output_type": "execute_result"
    }
   ],
   "source": [
    "# Initialize the geocoder.\n",
    "geolocator = Nominatim(user_agent=\"zip_lookup\")\n",
    "\n",
    "# Try to load a persistent ZIP cache if available.\n",
    "try:\n",
    "    with open(\"zip_cache.pkl\", \"rb\") as f:\n",
    "        zip_cache = pickle.load(f)\n",
    "    print(\"Loaded zip cache.\")\n",
    "except FileNotFoundError:\n",
    "    zip_cache = {}\n",
    "    print(\"No zip cache found; starting fresh.\")\n",
    "\n",
    "def get_zip(lat, lon):\n",
    "    \"\"\"\n",
    "    Reverse geocodes a latitude and longitude to retrieve the ZIP code.\n",
    "    Caches results to speed up subsequent lookups.\n",
    "    \"\"\"\n",
    "    key = (lat, lon)\n",
    "    if key in zip_cache:\n",
    "        return zip_cache[key]\n",
    "    \n",
    "    try:\n",
    "        location = geolocator.reverse((lat, lon), exactly_one=True, timeout=10)\n",
    "        address = location.raw.get('address', {})\n",
    "        postal_code = address.get('postcode', \"N/A\")\n",
    "    except Exception as e:\n",
    "        print(f\"Error getting ZIP for {lat}, {lon}: {e}\")\n",
    "        postal_code = \"N/A\"\n",
    "    \n",
    "    zip_cache[key] = postal_code\n",
    "    # Pause to respect the usage policy.\n",
    "    time.sleep(1)\n",
    "    return postal_code\n",
    "\n",
    "# Apply the function to each row in the DataFrame.\n",
    "df['zip'] = df.apply(lambda row: get_zip(row['lat'], row['lon']), axis=1)\n",
    "\n",
    "# Save the updated ZIP cache.\n",
    "with open(\"zip_cache.pkl\", \"wb\") as f:\n",
    "    pickle.dump(zip_cache, f)\n",
    "\n",
    "df.head()\n"
   ]
  },
  {
   "cell_type": "code",
   "execution_count": 12,
   "id": "f17d7ebf",
   "metadata": {
    "execution": {
     "iopub.execute_input": "2025-08-21T01:03:34.873419Z",
     "iopub.status.busy": "2025-08-21T01:03:34.873233Z",
     "iopub.status.idle": "2025-08-21T01:03:34.900304Z",
     "shell.execute_reply": "2025-08-21T01:03:34.899774Z"
    },
    "papermill": {
     "duration": 0.039308,
     "end_time": "2025-08-21T01:03:34.901326",
     "exception": false,
     "start_time": "2025-08-21T01:03:34.862018",
     "status": "completed"
    },
    "tags": []
   },
   "outputs": [
    {
     "name": "stdout",
     "output_type": "stream",
     "text": [
      "                  MissingCount  MissingPercentage\n",
      "RecordID                     0               0.00\n",
      "Offense                      0               0.00\n",
      "IncidentID                   0               0.00\n",
      "BlockNumber                  0               0.00\n",
      "StreetName                   0               0.00\n",
      "Agency                       0               0.00\n",
      "HourReported                 0               0.00\n",
      "ReportingOfficer            15               0.06\n",
      "Date                         0               0.00\n",
      "DateString                   0               0.00\n",
      "DayOfWeek                    0               0.00\n",
      "Weekend                      0               0.00\n",
      "Season                       0               0.00\n",
      "HourAMPM                     0               0.00\n",
      "TimeOfDay                    0               0.00\n",
      "FullStreet                   0               0.00\n",
      "lat                        117               0.46\n",
      "lon                        117               0.46\n",
      "neighborhood                 0               0.00\n",
      "zip                          0               0.00\n"
     ]
    }
   ],
   "source": [
    "missing_info = missing_percentage(df)\n",
    "print(missing_info)\n"
   ]
  },
  {
   "cell_type": "code",
   "execution_count": 13,
   "id": "6dbab505",
   "metadata": {
    "execution": {
     "iopub.execute_input": "2025-08-21T01:03:34.923650Z",
     "iopub.status.busy": "2025-08-21T01:03:34.923448Z",
     "iopub.status.idle": "2025-08-21T01:03:34.951268Z",
     "shell.execute_reply": "2025-08-21T01:03:34.950599Z"
    },
    "papermill": {
     "duration": 0.039977,
     "end_time": "2025-08-21T01:03:34.952321",
     "exception": false,
     "start_time": "2025-08-21T01:03:34.912344",
     "status": "completed"
    },
    "tags": []
   },
   "outputs": [
    {
     "name": "stdout",
     "output_type": "stream",
     "text": [
      "<class 'pandas.core.frame.DataFrame'>\n",
      "RangeIndex: 25664 entries, 0 to 25663\n",
      "Data columns (total 20 columns):\n",
      " #   Column            Non-Null Count  Dtype         \n",
      "---  ------            --------------  -----         \n",
      " 0   RecordID          25664 non-null  int64         \n",
      " 1   Offense           25664 non-null  object        \n",
      " 2   IncidentID        25664 non-null  object        \n",
      " 3   BlockNumber       25664 non-null  object        \n",
      " 4   StreetName        25664 non-null  object        \n",
      " 5   Agency            25664 non-null  object        \n",
      " 6   HourReported      25664 non-null  object        \n",
      " 7   ReportingOfficer  25649 non-null  object        \n",
      " 8   Date              25664 non-null  datetime64[ns]\n",
      " 9   DateString        25664 non-null  object        \n",
      " 10  DayOfWeek         25664 non-null  object        \n",
      " 11  Weekend           25664 non-null  bool          \n",
      " 12  Season            25664 non-null  object        \n",
      " 13  HourAMPM          25664 non-null  object        \n",
      " 14  TimeOfDay         25664 non-null  object        \n",
      " 15  FullStreet        25664 non-null  object        \n",
      " 16  lat               25547 non-null  float64       \n",
      " 17  lon               25547 non-null  float64       \n",
      " 18  neighborhood      25664 non-null  object        \n",
      " 19  zip               25664 non-null  object        \n",
      "dtypes: bool(1), datetime64[ns](1), float64(2), int64(1), object(15)\n",
      "memory usage: 3.7+ MB\n"
     ]
    }
   ],
   "source": [
    "df.info()"
   ]
  },
  {
   "cell_type": "code",
   "execution_count": 14,
   "id": "4cea4dda",
   "metadata": {
    "execution": {
     "iopub.execute_input": "2025-08-21T01:03:34.975314Z",
     "iopub.status.busy": "2025-08-21T01:03:34.975078Z",
     "iopub.status.idle": "2025-08-21T01:03:35.020069Z",
     "shell.execute_reply": "2025-08-21T01:03:35.019431Z"
    },
    "papermill": {
     "duration": 0.057598,
     "end_time": "2025-08-21T01:03:35.021138",
     "exception": false,
     "start_time": "2025-08-21T01:03:34.963540",
     "status": "completed"
    },
    "tags": []
   },
   "outputs": [
    {
     "data": {
      "text/html": [
       "<div>\n",
       "<style scoped>\n",
       "    .dataframe tbody tr th:only-of-type {\n",
       "        vertical-align: middle;\n",
       "    }\n",
       "\n",
       "    .dataframe tbody tr th {\n",
       "        vertical-align: top;\n",
       "    }\n",
       "\n",
       "    .dataframe thead th {\n",
       "        text-align: right;\n",
       "    }\n",
       "</style>\n",
       "<table border=\"1\" class=\"dataframe\">\n",
       "  <thead>\n",
       "    <tr style=\"text-align: right;\">\n",
       "      <th></th>\n",
       "      <th>RecordID</th>\n",
       "      <th>Offense</th>\n",
       "      <th>IncidentID</th>\n",
       "      <th>Agency</th>\n",
       "      <th>ReportingOfficer</th>\n",
       "      <th>Date</th>\n",
       "      <th>DayOfWeek</th>\n",
       "      <th>Weekend</th>\n",
       "      <th>Season</th>\n",
       "      <th>TimeOfDay</th>\n",
       "      <th>FullStreet</th>\n",
       "      <th>lat</th>\n",
       "      <th>lon</th>\n",
       "      <th>neighborhood</th>\n",
       "      <th>zip</th>\n",
       "    </tr>\n",
       "  </thead>\n",
       "  <tbody>\n",
       "    <tr>\n",
       "      <th>0</th>\n",
       "      <td>1</td>\n",
       "      <td>Lost/FoundProperty</td>\n",
       "      <td>202500029346</td>\n",
       "      <td>CPD</td>\n",
       "      <td>Benbow, Lauren</td>\n",
       "      <td>2025-08-18 20:51:18</td>\n",
       "      <td>Monday</td>\n",
       "      <td>False</td>\n",
       "      <td>Summer</td>\n",
       "      <td>Evening</td>\n",
       "      <td>200 W MAIN ST</td>\n",
       "      <td>38.030841</td>\n",
       "      <td>-78.482517</td>\n",
       "      <td>Downtown Mall</td>\n",
       "      <td>22902</td>\n",
       "    </tr>\n",
       "    <tr>\n",
       "      <th>1</th>\n",
       "      <td>2</td>\n",
       "      <td>Drug Equipment Violation</td>\n",
       "      <td>202500029334</td>\n",
       "      <td>CPD</td>\n",
       "      <td>Essex, Dominique</td>\n",
       "      <td>2025-08-18 19:03:26</td>\n",
       "      <td>Monday</td>\n",
       "      <td>False</td>\n",
       "      <td>Summer</td>\n",
       "      <td>Evening</td>\n",
       "      <td>100 1ST ST S</td>\n",
       "      <td>38.03031</td>\n",
       "      <td>-78.481732</td>\n",
       "      <td>Downtown Mall</td>\n",
       "      <td>22902</td>\n",
       "    </tr>\n",
       "    <tr>\n",
       "      <th>2</th>\n",
       "      <td>3</td>\n",
       "      <td>Fraud-false pretense</td>\n",
       "      <td>202500029324</td>\n",
       "      <td>CPD</td>\n",
       "      <td>Benbow, Lauren</td>\n",
       "      <td>2025-08-18 17:31:57</td>\n",
       "      <td>Monday</td>\n",
       "      <td>False</td>\n",
       "      <td>Summer</td>\n",
       "      <td>Evening</td>\n",
       "      <td>500 RIDGE ST</td>\n",
       "      <td>38.027107</td>\n",
       "      <td>-78.486703</td>\n",
       "      <td>Fifeville</td>\n",
       "      <td>22903</td>\n",
       "    </tr>\n",
       "    <tr>\n",
       "      <th>3</th>\n",
       "      <td>4</td>\n",
       "      <td>Hit and Run</td>\n",
       "      <td>202500029320</td>\n",
       "      <td>CPD</td>\n",
       "      <td>Carrasco, Julio</td>\n",
       "      <td>2025-08-18 17:00:37</td>\n",
       "      <td>Monday</td>\n",
       "      <td>False</td>\n",
       "      <td>Summer</td>\n",
       "      <td>Evening</td>\n",
       "      <td>INTERNATIONAL DR / ALMERE AVE</td>\n",
       "      <td>N/A</td>\n",
       "      <td>N/A</td>\n",
       "      <td>N/A</td>\n",
       "      <td>N/A</td>\n",
       "    </tr>\n",
       "    <tr>\n",
       "      <th>4</th>\n",
       "      <td>5</td>\n",
       "      <td>Larceny - Shoplifitng</td>\n",
       "      <td>202500029314</td>\n",
       "      <td>CPD</td>\n",
       "      <td>Crowley, Raeann</td>\n",
       "      <td>2025-08-18 16:36:47</td>\n",
       "      <td>Monday</td>\n",
       "      <td>False</td>\n",
       "      <td>Summer</td>\n",
       "      <td>Afternoon</td>\n",
       "      <td>400 E MARKET ST</td>\n",
       "      <td>38.030642</td>\n",
       "      <td>-78.478791</td>\n",
       "      <td>Downtown Mall</td>\n",
       "      <td>22902</td>\n",
       "    </tr>\n",
       "  </tbody>\n",
       "</table>\n",
       "</div>"
      ],
      "text/plain": [
       "   RecordID                   Offense    IncidentID Agency  ReportingOfficer  \\\n",
       "0         1        Lost/FoundProperty  202500029346    CPD    Benbow, Lauren   \n",
       "1         2  Drug Equipment Violation  202500029334    CPD  Essex, Dominique   \n",
       "2         3      Fraud-false pretense  202500029324    CPD    Benbow, Lauren   \n",
       "3         4               Hit and Run  202500029320    CPD   Carrasco, Julio   \n",
       "4         5     Larceny - Shoplifitng  202500029314    CPD   Crowley, Raeann   \n",
       "\n",
       "                 Date DayOfWeek  Weekend  Season  TimeOfDay  \\\n",
       "0 2025-08-18 20:51:18    Monday    False  Summer    Evening   \n",
       "1 2025-08-18 19:03:26    Monday    False  Summer    Evening   \n",
       "2 2025-08-18 17:31:57    Monday    False  Summer    Evening   \n",
       "3 2025-08-18 17:00:37    Monday    False  Summer    Evening   \n",
       "4 2025-08-18 16:36:47    Monday    False  Summer  Afternoon   \n",
       "\n",
       "                       FullStreet        lat        lon   neighborhood    zip  \n",
       "0                   200 W MAIN ST  38.030841 -78.482517  Downtown Mall  22902  \n",
       "1                    100 1ST ST S   38.03031 -78.481732  Downtown Mall  22902  \n",
       "2                    500 RIDGE ST  38.027107 -78.486703      Fifeville  22903  \n",
       "3   INTERNATIONAL DR / ALMERE AVE        N/A        N/A            N/A    N/A  \n",
       "4                 400 E MARKET ST  38.030642 -78.478791  Downtown Mall  22902  "
      ]
     },
     "execution_count": 14,
     "metadata": {},
     "output_type": "execute_result"
    }
   ],
   "source": [
    "# Now drop the original BlockNumber and StreetName columns\n",
    "df.drop(columns=['BlockNumber', 'StreetName','HourAMPM','HourReported','DateString'], inplace=True)\n",
    "df[\"zip\"] = df[\"zip\"].astype(str)\n",
    "\n",
    "# Fill all missing values in the DataFrame with \"N/A\"\n",
    "df.replace({None: \"N/A\", np.nan: \"N/A\", \"\": \"N/A\"}, inplace=True)\n",
    "df.head()"
   ]
  },
  {
   "cell_type": "code",
   "execution_count": 15,
   "id": "9ca9704c",
   "metadata": {
    "execution": {
     "iopub.execute_input": "2025-08-21T01:03:35.044322Z",
     "iopub.status.busy": "2025-08-21T01:03:35.044095Z",
     "iopub.status.idle": "2025-08-21T01:03:35.063116Z",
     "shell.execute_reply": "2025-08-21T01:03:35.062441Z"
    },
    "papermill": {
     "duration": 0.031638,
     "end_time": "2025-08-21T01:03:35.064159",
     "exception": false,
     "start_time": "2025-08-21T01:03:35.032521",
     "status": "completed"
    },
    "tags": []
   },
   "outputs": [
    {
     "name": "stdout",
     "output_type": "stream",
     "text": [
      "                  MissingCount  MissingPercentage\n",
      "RecordID                     0                0.0\n",
      "Offense                      0                0.0\n",
      "IncidentID                   0                0.0\n",
      "Agency                       0                0.0\n",
      "ReportingOfficer             0                0.0\n",
      "Date                         0                0.0\n",
      "DayOfWeek                    0                0.0\n",
      "Weekend                      0                0.0\n",
      "Season                       0                0.0\n",
      "TimeOfDay                    0                0.0\n",
      "FullStreet                   0                0.0\n",
      "lat                          0                0.0\n",
      "lon                          0                0.0\n",
      "neighborhood                 0                0.0\n",
      "zip                          0                0.0\n"
     ]
    }
   ],
   "source": [
    "missing_info = missing_percentage(df)\n",
    "print(missing_info)"
   ]
  },
  {
   "cell_type": "code",
   "execution_count": 16,
   "id": "5054a3f2",
   "metadata": {
    "execution": {
     "iopub.execute_input": "2025-08-21T01:03:35.087542Z",
     "iopub.status.busy": "2025-08-21T01:03:35.087313Z",
     "iopub.status.idle": "2025-08-21T01:03:35.091722Z",
     "shell.execute_reply": "2025-08-21T01:03:35.091172Z"
    },
    "papermill": {
     "duration": 0.017178,
     "end_time": "2025-08-21T01:03:35.092692",
     "exception": false,
     "start_time": "2025-08-21T01:03:35.075514",
     "status": "completed"
    },
    "tags": []
   },
   "outputs": [
    {
     "data": {
      "text/plain": [
       "Index(['RecordID', 'Offense', 'IncidentID', 'Agency', 'ReportingOfficer',\n",
       "       'Date', 'DayOfWeek', 'Weekend', 'Season', 'TimeOfDay', 'FullStreet',\n",
       "       'lat', 'lon', 'neighborhood', 'zip'],\n",
       "      dtype='object')"
      ]
     },
     "execution_count": 16,
     "metadata": {},
     "output_type": "execute_result"
    }
   ],
   "source": [
    "df.columns"
   ]
  },
  {
   "cell_type": "code",
   "execution_count": 17,
   "id": "4e9eadb4",
   "metadata": {
    "execution": {
     "iopub.execute_input": "2025-08-21T01:03:35.115669Z",
     "iopub.status.busy": "2025-08-21T01:03:35.115459Z",
     "iopub.status.idle": "2025-08-21T01:03:35.137327Z",
     "shell.execute_reply": "2025-08-21T01:03:35.136761Z"
    },
    "papermill": {
     "duration": 0.034408,
     "end_time": "2025-08-21T01:03:35.138316",
     "exception": false,
     "start_time": "2025-08-21T01:03:35.103908",
     "status": "completed"
    },
    "tags": []
   },
   "outputs": [
    {
     "name": "stdout",
     "output_type": "stream",
     "text": [
      "<class 'pandas.core.frame.DataFrame'>\n",
      "RangeIndex: 25664 entries, 0 to 25663\n",
      "Data columns (total 15 columns):\n",
      " #   Column            Non-Null Count  Dtype         \n",
      "---  ------            --------------  -----         \n",
      " 0   RecordID          25664 non-null  int64         \n",
      " 1   Offense           25664 non-null  object        \n",
      " 2   IncidentID        25664 non-null  object        \n",
      " 3   Agency            25664 non-null  object        \n",
      " 4   ReportingOfficer  25664 non-null  object        \n",
      " 5   Date              25664 non-null  datetime64[ns]\n",
      " 6   DayOfWeek         25664 non-null  object        \n",
      " 7   Weekend           25664 non-null  bool          \n",
      " 8   Season            25664 non-null  object        \n",
      " 9   TimeOfDay         25664 non-null  object        \n",
      " 10  FullStreet        25664 non-null  object        \n",
      " 11  lat               25664 non-null  object        \n",
      " 12  lon               25664 non-null  object        \n",
      " 13  neighborhood      25664 non-null  object        \n",
      " 14  zip               25664 non-null  object        \n",
      "dtypes: bool(1), datetime64[ns](1), int64(1), object(12)\n",
      "memory usage: 2.8+ MB\n"
     ]
    }
   ],
   "source": [
    "df.info()"
   ]
  },
  {
   "cell_type": "markdown",
   "id": "1dc12be9",
   "metadata": {
    "papermill": {
     "duration": 0.011371,
     "end_time": "2025-08-21T01:03:35.161649",
     "exception": false,
     "start_time": "2025-08-21T01:03:35.150278",
     "status": "completed"
    },
    "tags": []
   },
   "source": [
    "### Export Clean Data"
   ]
  },
  {
   "cell_type": "code",
   "execution_count": 18,
   "id": "32dd544b",
   "metadata": {
    "execution": {
     "iopub.execute_input": "2025-08-21T01:03:35.185341Z",
     "iopub.status.busy": "2025-08-21T01:03:35.185100Z",
     "iopub.status.idle": "2025-08-21T01:03:44.317598Z",
     "shell.execute_reply": "2025-08-21T01:03:44.316901Z"
    },
    "papermill": {
     "duration": 9.145807,
     "end_time": "2025-08-21T01:03:44.318792",
     "exception": false,
     "start_time": "2025-08-21T01:03:35.172985",
     "status": "completed"
    },
    "tags": []
   },
   "outputs": [
    {
     "name": "stdout",
     "output_type": "stream",
     "text": [
      "Project Root: /home/runner/work/crime-data/crime-data\n"
     ]
    },
    {
     "name": "stdout",
     "output_type": "stream",
     "text": [
      "Data saved to: /home/runner/work/crime-data/crime-data/data/charlottesville_crime_incidents.csv\n"
     ]
    },
    {
     "name": "stdout",
     "output_type": "stream",
     "text": [
      "Excel saved to: /home/runner/work/crime-data/crime-data/data/charlottesville_crime_incidents.xlsx\n"
     ]
    }
   ],
   "source": [
    "# Determine the project root (assuming papermill is run from the repository root)\n",
    "project_root = os.getcwd()\n",
    "print(\"Project Root:\", project_root)\n",
    "\n",
    "# Set the data directory within the project root\n",
    "data_dir = os.path.join(project_root, \"data\")\n",
    "\n",
    "# Ensure the \"data\" directory exists (create it if it doesn't)\n",
    "if not os.path.exists(data_dir):\n",
    "    os.makedirs(data_dir)\n",
    "\n",
    "# Export the DataFrame to CSV in the \"data\" folder located in the project root\n",
    "csv_path = os.path.join(data_dir, \"charlottesville_crime_incidents.csv\")\n",
    "df.to_csv(csv_path, index=False)\n",
    "print(\"Data saved to:\", csv_path)\n",
    "\n",
    "# Construct the path to your Excel file\n",
    "excel_path = os.path.join(data_dir, \"charlottesville_crime_incidents.xlsx\")\n",
    "\n",
    "# Export the DataFrame to Excel\n",
    "df.to_excel(excel_path, index=False)\n",
    "print(\"Excel saved to:\", excel_path)\n"
   ]
  }
 ],
 "metadata": {
  "kernelspec": {
   "display_name": "Python 3",
   "language": "python",
   "name": "python3"
  },
  "language_info": {
   "codemirror_mode": {
    "name": "ipython",
    "version": 3
   },
   "file_extension": ".py",
   "mimetype": "text/x-python",
   "name": "python",
   "nbconvert_exporter": "python",
   "pygments_lexer": "ipython3",
   "version": "3.9.23"
  },
  "papermill": {
   "default_parameters": {},
   "duration": 201.376101,
   "end_time": "2025-08-21T01:03:44.746485",
   "environment_variables": {},
   "exception": null,
   "input_path": "notebook/Crime Data.ipynb",
   "output_path": "notebook/Crime Data_output.ipynb",
   "parameters": {},
   "start_time": "2025-08-21T01:00:23.370384",
   "version": "2.6.0"
  }
 },
 "nbformat": 4,
 "nbformat_minor": 5
}