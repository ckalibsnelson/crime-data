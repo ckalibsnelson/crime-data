{
 "cells": [
  {
   "cell_type": "markdown",
   "id": "6a72c551",
   "metadata": {
    "papermill": {
     "duration": 0.006346,
     "end_time": "2025-04-18T00:59:23.563569",
     "exception": false,
     "start_time": "2025-04-18T00:59:23.557223",
     "status": "completed"
    },
    "tags": []
   },
   "source": [
    "# Charlottesville Open Data Porttal: Crime Data"
   ]
  },
  {
   "cell_type": "markdown",
   "id": "fd2c8a4d",
   "metadata": {
    "papermill": {
     "duration": 0.004991,
     "end_time": "2025-04-18T00:59:23.573994",
     "exception": false,
     "start_time": "2025-04-18T00:59:23.569003",
     "status": "completed"
    },
    "tags": []
   },
   "source": [
    "## Import Relevant Librarires & Set WD"
   ]
  },
  {
   "cell_type": "code",
   "execution_count": 1,
   "id": "9a8926ed",
   "metadata": {
    "execution": {
     "iopub.execute_input": "2025-04-18T00:59:23.585476Z",
     "iopub.status.busy": "2025-04-18T00:59:23.585038Z",
     "iopub.status.idle": "2025-04-18T00:59:24.483247Z",
     "shell.execute_reply": "2025-04-18T00:59:24.482535Z"
    },
    "papermill": {
     "duration": 0.90567,
     "end_time": "2025-04-18T00:59:24.484738",
     "exception": false,
     "start_time": "2025-04-18T00:59:23.579068",
     "status": "completed"
    },
    "tags": []
   },
   "outputs": [],
   "source": [
    "import requests\n",
    "import pandas as pd\n",
    "import numpy as np\n",
    "import pickle\n",
    "import googlemaps\n",
    "import plotly.express as px\n",
    "from geopy.geocoders import Nominatim\n",
    "import time\n",
    "from dotenv import load_dotenv\n",
    "import os\n",
    "\n",
    "env_path = os.path.join(\"..\", \".env\")\n",
    "#print(\"Looking for .env file at:\", os.path.abspath(env_path))\n",
    "load_dotenv(dotenv_path=env_path)\n",
    "\n",
    "# Retrieve the variables\n",
    "GOOGLE_API_KEY = os.getenv(\"GOOGLE_API_KEY\")\n",
    "WORKING_DIR = os.getenv(\"WORKING_DIR\")\n",
    "\n",
    "if GOOGLE_API_KEY is None or WORKING_DIR is None:\n",
    "    raise RuntimeError(\"No configuration found. Please ensure that your .env file exists with the required variables, or create a local config.py file.\")\n",
    "\n",
    "#print(\"Google API Key:\", GOOGLE_API_KEY)\n",
    "#print(\"Working Directory:\", WORKING_DIR)"
   ]
  },
  {
   "cell_type": "markdown",
   "id": "57484d2a",
   "metadata": {
    "papermill": {
     "duration": 0.00501,
     "end_time": "2025-04-18T00:59:24.495254",
     "exception": false,
     "start_time": "2025-04-18T00:59:24.490244",
     "status": "completed"
    },
    "tags": []
   },
   "source": [
    "## Import Data\n",
    "\n",
    "URL: https://opendata.charlottesville.org/datasets/charlottesville::crime-data/about"
   ]
  },
  {
   "cell_type": "code",
   "execution_count": 2,
   "id": "6aa3a969",
   "metadata": {
    "execution": {
     "iopub.execute_input": "2025-04-18T00:59:24.507098Z",
     "iopub.status.busy": "2025-04-18T00:59:24.506590Z",
     "iopub.status.idle": "2025-04-18T01:00:24.905385Z",
     "shell.execute_reply": "2025-04-18T01:00:24.904688Z"
    },
    "papermill": {
     "duration": 60.410192,
     "end_time": "2025-04-18T01:00:24.911013",
     "exception": false,
     "start_time": "2025-04-18T00:59:24.500821",
     "status": "completed"
    },
    "tags": []
   },
   "outputs": [
    {
     "name": "stdout",
     "output_type": "stream",
     "text": [
      "Total records imported: 25205\n"
     ]
    }
   ],
   "source": [
    "# Define the endpoint and initial parameters.\n",
    "url = \"https://gisweb.charlottesville.org/arcgis/rest/services/OpenData_2/MapServer/6/query\"\n",
    "params = {\n",
    "    \"where\": \"1=1\",\n",
    "    \"outFields\": \"*\",\n",
    "    \"outSR\": 4326,\n",
    "    \"f\": \"json\",\n",
    "    \"resultOffset\": 0,       # Starting index for results\n",
    "    \"resultRecordCount\": 10000  # Maximum records per batch (if allowed by the API)\n",
    "}\n",
    "\n",
    "records = []\n",
    "\n",
    "while True:\n",
    "    response = requests.get(url, params=params)\n",
    "    response.raise_for_status()\n",
    "    data = response.json()\n",
    "    \n",
    "    # Get the current batch of features.\n",
    "    features = data.get(\"features\", [])\n",
    "    if not features:\n",
    "        break\n",
    "\n",
    "    # Extract the attributes from the features.\n",
    "    batch_records = [feature.get(\"attributes\", {}) for feature in features]\n",
    "    records.extend(batch_records)\n",
    "    \n",
    "    # If the batch size is less than the requested count, we reached the end.\n",
    "    if len(features) < params[\"resultRecordCount\"]:\n",
    "        break\n",
    "\n",
    "    # Update the resultOffset for the next batch.\n",
    "    params[\"resultOffset\"] += params[\"resultRecordCount\"]\n",
    "\n",
    "# Create a DataFrame from the combined records.\n",
    "df = pd.DataFrame(records)\n",
    "print(\"Total records imported:\", len(df))\n"
   ]
  },
  {
   "cell_type": "code",
   "execution_count": 3,
   "id": "41d31496",
   "metadata": {
    "execution": {
     "iopub.execute_input": "2025-04-18T01:00:24.923400Z",
     "iopub.status.busy": "2025-04-18T01:00:24.922847Z",
     "iopub.status.idle": "2025-04-18T01:00:24.935322Z",
     "shell.execute_reply": "2025-04-18T01:00:24.934685Z"
    },
    "papermill": {
     "duration": 0.020003,
     "end_time": "2025-04-18T01:00:24.936371",
     "exception": false,
     "start_time": "2025-04-18T01:00:24.916368",
     "status": "completed"
    },
    "tags": []
   },
   "outputs": [
    {
     "data": {
      "text/html": [
       "<div>\n",
       "<style scoped>\n",
       "    .dataframe tbody tr th:only-of-type {\n",
       "        vertical-align: middle;\n",
       "    }\n",
       "\n",
       "    .dataframe tbody tr th {\n",
       "        vertical-align: top;\n",
       "    }\n",
       "\n",
       "    .dataframe thead th {\n",
       "        text-align: right;\n",
       "    }\n",
       "</style>\n",
       "<table border=\"1\" class=\"dataframe\">\n",
       "  <thead>\n",
       "    <tr style=\"text-align: right;\">\n",
       "      <th></th>\n",
       "      <th>RecordID</th>\n",
       "      <th>Offense</th>\n",
       "      <th>IncidentID</th>\n",
       "      <th>BlockNumber</th>\n",
       "      <th>StreetName</th>\n",
       "      <th>Agency</th>\n",
       "      <th>DateReported</th>\n",
       "      <th>HourReported</th>\n",
       "      <th>ReportingOfficer</th>\n",
       "    </tr>\n",
       "  </thead>\n",
       "  <tbody>\n",
       "    <tr>\n",
       "      <th>0</th>\n",
       "      <td>1</td>\n",
       "      <td>Larceny - Shoplifitng</td>\n",
       "      <td>202500012166</td>\n",
       "      <td>500</td>\n",
       "      <td>W MAIN ST</td>\n",
       "      <td>CPD</td>\n",
       "      <td>1744762809000</td>\n",
       "      <td>2020</td>\n",
       "      <td>Essex, Dominique</td>\n",
       "    </tr>\n",
       "    <tr>\n",
       "      <th>1</th>\n",
       "      <td>2</td>\n",
       "      <td>Motor Vehicle Theft</td>\n",
       "      <td>202500012142</td>\n",
       "      <td>100</td>\n",
       "      <td>2ND ST NW</td>\n",
       "      <td>CPD</td>\n",
       "      <td>1744746589000</td>\n",
       "      <td>1549</td>\n",
       "      <td>Bentz, Benjamin</td>\n",
       "    </tr>\n",
       "    <tr>\n",
       "      <th>2</th>\n",
       "      <td>3</td>\n",
       "      <td>Vandalism</td>\n",
       "      <td>202500012150</td>\n",
       "      <td>800</td>\n",
       "      <td>E JEFFERSON ST</td>\n",
       "      <td>CPD</td>\n",
       "      <td>1744745971000</td>\n",
       "      <td>1539</td>\n",
       "      <td>Bentz, Benjamin</td>\n",
       "    </tr>\n",
       "    <tr>\n",
       "      <th>3</th>\n",
       "      <td>4</td>\n",
       "      <td>Fraud-wire fraud</td>\n",
       "      <td>202500012140</td>\n",
       "      <td>1000</td>\n",
       "      <td>PRESTON AVE</td>\n",
       "      <td>CPD</td>\n",
       "      <td>1744745065000</td>\n",
       "      <td>1524</td>\n",
       "      <td>Mian, Ghulam</td>\n",
       "    </tr>\n",
       "    <tr>\n",
       "      <th>4</th>\n",
       "      <td>5</td>\n",
       "      <td>Assault Simple</td>\n",
       "      <td>202500012135</td>\n",
       "      <td>1200</td>\n",
       "      <td>CEDARS CT</td>\n",
       "      <td>CPD</td>\n",
       "      <td>1744744587000</td>\n",
       "      <td>1516</td>\n",
       "      <td>Benbow, Lauren</td>\n",
       "    </tr>\n",
       "  </tbody>\n",
       "</table>\n",
       "</div>"
      ],
      "text/plain": [
       "   RecordID                Offense    IncidentID BlockNumber      StreetName  \\\n",
       "0         1  Larceny - Shoplifitng  202500012166         500       W MAIN ST   \n",
       "1         2    Motor Vehicle Theft  202500012142         100       2ND ST NW   \n",
       "2         3              Vandalism  202500012150         800  E JEFFERSON ST   \n",
       "3         4       Fraud-wire fraud  202500012140        1000     PRESTON AVE   \n",
       "4         5         Assault Simple  202500012135        1200       CEDARS CT   \n",
       "\n",
       "  Agency   DateReported HourReported  ReportingOfficer  \n",
       "0    CPD  1744762809000         2020  Essex, Dominique  \n",
       "1    CPD  1744746589000         1549  Bentz, Benjamin   \n",
       "2    CPD  1744745971000         1539  Bentz, Benjamin   \n",
       "3    CPD  1744745065000         1524      Mian, Ghulam  \n",
       "4    CPD  1744744587000         1516    Benbow, Lauren  "
      ]
     },
     "execution_count": 3,
     "metadata": {},
     "output_type": "execute_result"
    }
   ],
   "source": [
    "df.head()"
   ]
  },
  {
   "cell_type": "code",
   "execution_count": 4,
   "id": "c5452f5b",
   "metadata": {
    "execution": {
     "iopub.execute_input": "2025-04-18T01:00:24.948355Z",
     "iopub.status.busy": "2025-04-18T01:00:24.947946Z",
     "iopub.status.idle": "2025-04-18T01:00:24.952293Z",
     "shell.execute_reply": "2025-04-18T01:00:24.951677Z"
    },
    "papermill": {
     "duration": 0.011453,
     "end_time": "2025-04-18T01:00:24.953364",
     "exception": false,
     "start_time": "2025-04-18T01:00:24.941911",
     "status": "completed"
    },
    "tags": []
   },
   "outputs": [
    {
     "data": {
      "text/plain": [
       "Index(['RecordID', 'Offense', 'IncidentID', 'BlockNumber', 'StreetName',\n",
       "       'Agency', 'DateReported', 'HourReported', 'ReportingOfficer'],\n",
       "      dtype='object')"
      ]
     },
     "execution_count": 4,
     "metadata": {},
     "output_type": "execute_result"
    }
   ],
   "source": [
    "df.columns"
   ]
  },
  {
   "cell_type": "code",
   "execution_count": 5,
   "id": "60040fff",
   "metadata": {
    "execution": {
     "iopub.execute_input": "2025-04-18T01:00:24.965585Z",
     "iopub.status.busy": "2025-04-18T01:00:24.965033Z",
     "iopub.status.idle": "2025-04-18T01:00:24.987962Z",
     "shell.execute_reply": "2025-04-18T01:00:24.987386Z"
    },
    "papermill": {
     "duration": 0.030161,
     "end_time": "2025-04-18T01:00:24.989027",
     "exception": false,
     "start_time": "2025-04-18T01:00:24.958866",
     "status": "completed"
    },
    "tags": []
   },
   "outputs": [
    {
     "name": "stdout",
     "output_type": "stream",
     "text": [
      "<class 'pandas.core.frame.DataFrame'>\n",
      "RangeIndex: 25205 entries, 0 to 25204\n",
      "Data columns (total 9 columns):\n",
      " #   Column            Non-Null Count  Dtype \n",
      "---  ------            --------------  ----- \n",
      " 0   RecordID          25205 non-null  int64 \n",
      " 1   Offense           25205 non-null  object\n",
      " 2   IncidentID        25205 non-null  object\n",
      " 3   BlockNumber       25205 non-null  object\n",
      " 4   StreetName        25205 non-null  object\n",
      " 5   Agency            25205 non-null  object\n",
      " 6   DateReported      25205 non-null  int64 \n",
      " 7   HourReported      25205 non-null  object\n",
      " 8   ReportingOfficer  25188 non-null  object\n",
      "dtypes: int64(2), object(7)\n",
      "memory usage: 1.7+ MB\n"
     ]
    }
   ],
   "source": [
    "df.info()"
   ]
  },
  {
   "cell_type": "markdown",
   "id": "c4de175d",
   "metadata": {
    "papermill": {
     "duration": 0.005569,
     "end_time": "2025-04-18T01:00:25.000418",
     "exception": false,
     "start_time": "2025-04-18T01:00:24.994849",
     "status": "completed"
    },
    "tags": []
   },
   "source": [
    "### Missing Values"
   ]
  },
  {
   "cell_type": "code",
   "execution_count": 6,
   "id": "4ce12946",
   "metadata": {
    "execution": {
     "iopub.execute_input": "2025-04-18T01:00:25.012454Z",
     "iopub.status.busy": "2025-04-18T01:00:25.012224Z",
     "iopub.status.idle": "2025-04-18T01:00:25.034565Z",
     "shell.execute_reply": "2025-04-18T01:00:25.034002Z"
    },
    "papermill": {
     "duration": 0.029727,
     "end_time": "2025-04-18T01:00:25.035704",
     "exception": false,
     "start_time": "2025-04-18T01:00:25.005977",
     "status": "completed"
    },
    "tags": []
   },
   "outputs": [
    {
     "name": "stdout",
     "output_type": "stream",
     "text": [
      "                  MissingCount  MissingPercentage\n",
      "RecordID                     0               0.00\n",
      "Offense                      0               0.00\n",
      "IncidentID                   0               0.00\n",
      "BlockNumber                  0               0.00\n",
      "StreetName                   0               0.00\n",
      "Agency                       0               0.00\n",
      "DateReported                 0               0.00\n",
      "HourReported                 0               0.00\n",
      "ReportingOfficer            17               0.07\n"
     ]
    }
   ],
   "source": [
    "def missing_percentage(df):\n",
    "    \"\"\"\n",
    "    Returns a DataFrame with the count and percentage of missing values for each column.\n",
    "    \n",
    "    Parameters:\n",
    "        df (pd.DataFrame): The input DataFrame.\n",
    "    \n",
    "    Returns:\n",
    "        pd.DataFrame: A DataFrame with columns 'MissingCount' and 'MissingPercentage'.\n",
    "    \"\"\"\n",
    "    total_rows = len(df)\n",
    "    missing_count = df.isnull().sum()\n",
    "    missing_percent = (missing_count / total_rows) * 100\n",
    "    \n",
    "    result = pd.DataFrame({\n",
    "        'MissingCount': missing_count,\n",
    "        'MissingPercentage': missing_percent.round(2)\n",
    "    })\n",
    "    \n",
    "    return result\n",
    "\n",
    "# Example usage:\n",
    "missing_info = missing_percentage(df)\n",
    "print(missing_info)\n"
   ]
  },
  {
   "cell_type": "markdown",
   "id": "80523e31",
   "metadata": {
    "papermill": {
     "duration": 0.005732,
     "end_time": "2025-04-18T01:00:25.047479",
     "exception": false,
     "start_time": "2025-04-18T01:00:25.041747",
     "status": "completed"
    },
    "tags": []
   },
   "source": [
    "## Data Preparation"
   ]
  },
  {
   "cell_type": "markdown",
   "id": "a44a8401",
   "metadata": {
    "papermill": {
     "duration": 0.005575,
     "end_time": "2025-04-18T01:00:25.058613",
     "exception": false,
     "start_time": "2025-04-18T01:00:25.053038",
     "status": "completed"
    },
    "tags": []
   },
   "source": [
    "### Data Conversion"
   ]
  },
  {
   "cell_type": "code",
   "execution_count": 7,
   "id": "b8ea864a",
   "metadata": {
    "execution": {
     "iopub.execute_input": "2025-04-18T01:00:25.071088Z",
     "iopub.status.busy": "2025-04-18T01:00:25.070607Z",
     "iopub.status.idle": "2025-04-18T01:00:25.445146Z",
     "shell.execute_reply": "2025-04-18T01:00:25.444541Z"
    },
    "papermill": {
     "duration": 0.382082,
     "end_time": "2025-04-18T01:00:25.446233",
     "exception": false,
     "start_time": "2025-04-18T01:00:25.064151",
     "status": "completed"
    },
    "tags": []
   },
   "outputs": [
    {
     "data": {
      "text/html": [
       "<div>\n",
       "<style scoped>\n",
       "    .dataframe tbody tr th:only-of-type {\n",
       "        vertical-align: middle;\n",
       "    }\n",
       "\n",
       "    .dataframe tbody tr th {\n",
       "        vertical-align: top;\n",
       "    }\n",
       "\n",
       "    .dataframe thead th {\n",
       "        text-align: right;\n",
       "    }\n",
       "</style>\n",
       "<table border=\"1\" class=\"dataframe\">\n",
       "  <thead>\n",
       "    <tr style=\"text-align: right;\">\n",
       "      <th></th>\n",
       "      <th>RecordID</th>\n",
       "      <th>Offense</th>\n",
       "      <th>IncidentID</th>\n",
       "      <th>BlockNumber</th>\n",
       "      <th>StreetName</th>\n",
       "      <th>Agency</th>\n",
       "      <th>HourReported</th>\n",
       "      <th>ReportingOfficer</th>\n",
       "      <th>Date</th>\n",
       "      <th>DateString</th>\n",
       "      <th>DayOfWeek</th>\n",
       "      <th>Weekend</th>\n",
       "      <th>Season</th>\n",
       "      <th>HourAMPM</th>\n",
       "      <th>TimeOfDay</th>\n",
       "    </tr>\n",
       "  </thead>\n",
       "  <tbody>\n",
       "    <tr>\n",
       "      <th>0</th>\n",
       "      <td>1</td>\n",
       "      <td>Larceny - Shoplifitng</td>\n",
       "      <td>202500012166</td>\n",
       "      <td>500</td>\n",
       "      <td>W MAIN ST</td>\n",
       "      <td>CPD</td>\n",
       "      <td>2020</td>\n",
       "      <td>Essex, Dominique</td>\n",
       "      <td>2025-04-15 20:20:09</td>\n",
       "      <td>2025-04-15 08:20:09 PM</td>\n",
       "      <td>Tuesday</td>\n",
       "      <td>False</td>\n",
       "      <td>Spring</td>\n",
       "      <td>08:20 PM</td>\n",
       "      <td>Evening</td>\n",
       "    </tr>\n",
       "    <tr>\n",
       "      <th>1</th>\n",
       "      <td>2</td>\n",
       "      <td>Motor Vehicle Theft</td>\n",
       "      <td>202500012142</td>\n",
       "      <td>100</td>\n",
       "      <td>2ND ST NW</td>\n",
       "      <td>CPD</td>\n",
       "      <td>1549</td>\n",
       "      <td>Bentz, Benjamin</td>\n",
       "      <td>2025-04-15 15:49:49</td>\n",
       "      <td>2025-04-15 03:49:49 PM</td>\n",
       "      <td>Tuesday</td>\n",
       "      <td>False</td>\n",
       "      <td>Spring</td>\n",
       "      <td>03:49 PM</td>\n",
       "      <td>Afternoon</td>\n",
       "    </tr>\n",
       "    <tr>\n",
       "      <th>2</th>\n",
       "      <td>3</td>\n",
       "      <td>Vandalism</td>\n",
       "      <td>202500012150</td>\n",
       "      <td>800</td>\n",
       "      <td>E JEFFERSON ST</td>\n",
       "      <td>CPD</td>\n",
       "      <td>1539</td>\n",
       "      <td>Bentz, Benjamin</td>\n",
       "      <td>2025-04-15 15:39:31</td>\n",
       "      <td>2025-04-15 03:39:31 PM</td>\n",
       "      <td>Tuesday</td>\n",
       "      <td>False</td>\n",
       "      <td>Spring</td>\n",
       "      <td>03:39 PM</td>\n",
       "      <td>Afternoon</td>\n",
       "    </tr>\n",
       "    <tr>\n",
       "      <th>3</th>\n",
       "      <td>4</td>\n",
       "      <td>Fraud-wire fraud</td>\n",
       "      <td>202500012140</td>\n",
       "      <td>1000</td>\n",
       "      <td>PRESTON AVE</td>\n",
       "      <td>CPD</td>\n",
       "      <td>1524</td>\n",
       "      <td>Mian, Ghulam</td>\n",
       "      <td>2025-04-15 15:24:25</td>\n",
       "      <td>2025-04-15 03:24:25 PM</td>\n",
       "      <td>Tuesday</td>\n",
       "      <td>False</td>\n",
       "      <td>Spring</td>\n",
       "      <td>03:24 PM</td>\n",
       "      <td>Afternoon</td>\n",
       "    </tr>\n",
       "    <tr>\n",
       "      <th>4</th>\n",
       "      <td>5</td>\n",
       "      <td>Assault Simple</td>\n",
       "      <td>202500012135</td>\n",
       "      <td>1200</td>\n",
       "      <td>CEDARS CT</td>\n",
       "      <td>CPD</td>\n",
       "      <td>1516</td>\n",
       "      <td>Benbow, Lauren</td>\n",
       "      <td>2025-04-15 15:16:27</td>\n",
       "      <td>2025-04-15 03:16:27 PM</td>\n",
       "      <td>Tuesday</td>\n",
       "      <td>False</td>\n",
       "      <td>Spring</td>\n",
       "      <td>03:16 PM</td>\n",
       "      <td>Afternoon</td>\n",
       "    </tr>\n",
       "  </tbody>\n",
       "</table>\n",
       "</div>"
      ],
      "text/plain": [
       "   RecordID                Offense    IncidentID BlockNumber      StreetName  \\\n",
       "0         1  Larceny - Shoplifitng  202500012166         500       W MAIN ST   \n",
       "1         2    Motor Vehicle Theft  202500012142         100       2ND ST NW   \n",
       "2         3              Vandalism  202500012150         800  E JEFFERSON ST   \n",
       "3         4       Fraud-wire fraud  202500012140        1000     PRESTON AVE   \n",
       "4         5         Assault Simple  202500012135        1200       CEDARS CT   \n",
       "\n",
       "  Agency HourReported  ReportingOfficer                Date  \\\n",
       "0    CPD         2020  Essex, Dominique 2025-04-15 20:20:09   \n",
       "1    CPD         1549  Bentz, Benjamin  2025-04-15 15:49:49   \n",
       "2    CPD         1539  Bentz, Benjamin  2025-04-15 15:39:31   \n",
       "3    CPD         1524      Mian, Ghulam 2025-04-15 15:24:25   \n",
       "4    CPD         1516    Benbow, Lauren 2025-04-15 15:16:27   \n",
       "\n",
       "               DateString DayOfWeek  Weekend  Season  HourAMPM  TimeOfDay  \n",
       "0  2025-04-15 08:20:09 PM   Tuesday    False  Spring  08:20 PM    Evening  \n",
       "1  2025-04-15 03:49:49 PM   Tuesday    False  Spring  03:49 PM  Afternoon  \n",
       "2  2025-04-15 03:39:31 PM   Tuesday    False  Spring  03:39 PM  Afternoon  \n",
       "3  2025-04-15 03:24:25 PM   Tuesday    False  Spring  03:24 PM  Afternoon  \n",
       "4  2025-04-15 03:16:27 PM   Tuesday    False  Spring  03:16 PM  Afternoon  "
      ]
     },
     "execution_count": 7,
     "metadata": {},
     "output_type": "execute_result"
    }
   ],
   "source": [
    "def convert_and_categorize_datereported(df, col='DateReported'):\n",
    "    \"\"\"\n",
    "    Converts an epoch (in milliseconds) date column into a timezone-aware datetime,\n",
    "    converts it to Eastern Time, and then creates columns for day-of-week, weekend flag,\n",
    "    season, 12-hour formatted time, and time-of-day. Keeps both a real datetime column\n",
    "    (Date) and a string representation (DateString).\n",
    "    \"\"\"\n",
    "    import pandas as pd\n",
    "\n",
    "    # Convert the epoch timestamp to a pandas datetime object as UTC, then convert to US/Eastern.\n",
    "    df[\"DateReported_dt\"] = (\n",
    "        pd.to_datetime(df[col], unit=\"ms\", errors=\"coerce\", utc=True)\n",
    "        .dt.tz_convert(\"US/Eastern\")\n",
    "    )\n",
    "    \n",
    "    # Create a true datetime column (remove timezone if you prefer naive datetime)\n",
    "    df[\"Date\"] = df[\"DateReported_dt\"].dt.tz_localize(None)\n",
    "\n",
    "    # Optionally, create a separate string-formatted column\n",
    "    df[\"DateString\"] = df[\"DateReported_dt\"].dt.strftime(\"%Y-%m-%d %I:%M:%S %p\")\n",
    "    \n",
    "    # DayOfWeek\n",
    "    df[\"DayOfWeek\"] = df[\"DateReported_dt\"].dt.day_name()\n",
    "    \n",
    "    # Weekend\n",
    "    df[\"Weekend\"] = df[\"DayOfWeek\"].isin([\"Saturday\", \"Sunday\"])\n",
    "    \n",
    "    # Helper function to determine the season\n",
    "    def get_season(dt):\n",
    "        month = dt.month\n",
    "        day = dt.day\n",
    "        # Approximate Northern Hemisphere season boundaries:\n",
    "        if (month == 12 and day >= 21) or (month < 3) or (month == 3 and day < 20):\n",
    "            return \"Winter\"\n",
    "        elif (month == 3 and day >= 20) or (month < 6) or (month == 6 and day < 21):\n",
    "            return \"Spring\"\n",
    "        elif (month == 6 and day >= 21) or (month < 9) or (month == 9 and day < 22):\n",
    "            return \"Summer\"\n",
    "        else:\n",
    "            return \"Autumn\"\n",
    "    \n",
    "    df[\"Season\"] = df[\"DateReported_dt\"].apply(get_season)\n",
    "    \n",
    "    # 12-hour formatted time (HourAMPM)\n",
    "    df[\"HourAMPM\"] = df[\"DateReported_dt\"].dt.strftime(\"%I:%M %p\")\n",
    "    \n",
    "    # Extract hour (0-23) for time-of-day\n",
    "    df[\"HourValue\"] = df[\"DateReported_dt\"].dt.hour\n",
    "    \n",
    "    def time_of_day(hour):\n",
    "        if pd.isnull(hour):\n",
    "            return None\n",
    "        if 5 <= hour < 12:\n",
    "            return \"Morning\"\n",
    "        elif 12 <= hour < 17:\n",
    "            return \"Afternoon\"\n",
    "        elif 17 <= hour < 21:\n",
    "            return \"Evening\"\n",
    "        else:\n",
    "            return \"Night\"\n",
    "    \n",
    "    df[\"TimeOfDay\"] = df[\"HourValue\"].apply(time_of_day)\n",
    "    \n",
    "    # Drop columns you no longer need\n",
    "    df.drop(columns=[col, \"DateReported_dt\", \"HourValue\"], inplace=True)\n",
    "    \n",
    "    return df\n",
    "\n",
    "# Example usage:\n",
    "df = convert_and_categorize_datereported(df)\n",
    "df.head()\n"
   ]
  },
  {
   "cell_type": "code",
   "execution_count": 8,
   "id": "528ae293",
   "metadata": {
    "execution": {
     "iopub.execute_input": "2025-04-18T01:00:25.459645Z",
     "iopub.status.busy": "2025-04-18T01:00:25.459098Z",
     "iopub.status.idle": "2025-04-18T01:00:25.485909Z",
     "shell.execute_reply": "2025-04-18T01:00:25.485318Z"
    },
    "papermill": {
     "duration": 0.034502,
     "end_time": "2025-04-18T01:00:25.486947",
     "exception": false,
     "start_time": "2025-04-18T01:00:25.452445",
     "status": "completed"
    },
    "tags": []
   },
   "outputs": [
    {
     "name": "stdout",
     "output_type": "stream",
     "text": [
      "<class 'pandas.core.frame.DataFrame'>\n",
      "RangeIndex: 25205 entries, 0 to 25204\n",
      "Data columns (total 15 columns):\n",
      " #   Column            Non-Null Count  Dtype         \n",
      "---  ------            --------------  -----         \n",
      " 0   RecordID          25205 non-null  int64         \n",
      " 1   Offense           25205 non-null  object        \n",
      " 2   IncidentID        25205 non-null  object        \n",
      " 3   BlockNumber       25205 non-null  object        \n",
      " 4   StreetName        25205 non-null  object        \n",
      " 5   Agency            25205 non-null  object        \n",
      " 6   HourReported      25205 non-null  object        \n",
      " 7   ReportingOfficer  25188 non-null  object        \n",
      " 8   Date              25205 non-null  datetime64[ns]\n",
      " 9   DateString        25205 non-null  object        \n",
      " 10  DayOfWeek         25205 non-null  object        \n",
      " 11  Weekend           25205 non-null  bool          \n",
      " 12  Season            25205 non-null  object        \n",
      " 13  HourAMPM          25205 non-null  object        \n",
      " 14  TimeOfDay         25205 non-null  object        \n",
      "dtypes: bool(1), datetime64[ns](1), int64(1), object(12)\n",
      "memory usage: 2.7+ MB\n"
     ]
    }
   ],
   "source": [
    "df.info()"
   ]
  },
  {
   "cell_type": "markdown",
   "id": "a24b95fc",
   "metadata": {
    "papermill": {
     "duration": 0.005979,
     "end_time": "2025-04-18T01:00:25.499069",
     "exception": false,
     "start_time": "2025-04-18T01:00:25.493090",
     "status": "completed"
    },
    "tags": []
   },
   "source": [
    "### Coordinates"
   ]
  },
  {
   "cell_type": "code",
   "execution_count": 9,
   "id": "2e79a9d3",
   "metadata": {
    "execution": {
     "iopub.execute_input": "2025-04-18T01:00:25.512068Z",
     "iopub.status.busy": "2025-04-18T01:00:25.511592Z",
     "iopub.status.idle": "2025-04-18T01:00:25.861607Z",
     "shell.execute_reply": "2025-04-18T01:00:25.861007Z"
    },
    "papermill": {
     "duration": 0.357678,
     "end_time": "2025-04-18T01:00:25.862691",
     "exception": false,
     "start_time": "2025-04-18T01:00:25.505013",
     "status": "completed"
    },
    "tags": []
   },
   "outputs": [
    {
     "name": "stdout",
     "output_type": "stream",
     "text": [
      "Loaded geocode cache.\n"
     ]
    },
    {
     "name": "stdout",
     "output_type": "stream",
     "text": [
      "Geocoded 1400 VINE ST, A1: 38.0197156, -78.4685837\n"
     ]
    },
    {
     "name": "stdout",
     "output_type": "stream",
     "text": [
      "Geocoded 2200 FONTAINE AVE EXT: 38.0257495, -78.5152492\n",
      "Geocode cache updated and saved.\n"
     ]
    },
    {
     "data": {
      "text/html": [
       "<div>\n",
       "<style scoped>\n",
       "    .dataframe tbody tr th:only-of-type {\n",
       "        vertical-align: middle;\n",
       "    }\n",
       "\n",
       "    .dataframe tbody tr th {\n",
       "        vertical-align: top;\n",
       "    }\n",
       "\n",
       "    .dataframe thead th {\n",
       "        text-align: right;\n",
       "    }\n",
       "</style>\n",
       "<table border=\"1\" class=\"dataframe\">\n",
       "  <thead>\n",
       "    <tr style=\"text-align: right;\">\n",
       "      <th></th>\n",
       "      <th>RecordID</th>\n",
       "      <th>Offense</th>\n",
       "      <th>IncidentID</th>\n",
       "      <th>BlockNumber</th>\n",
       "      <th>StreetName</th>\n",
       "      <th>Agency</th>\n",
       "      <th>HourReported</th>\n",
       "      <th>ReportingOfficer</th>\n",
       "      <th>Date</th>\n",
       "      <th>DateString</th>\n",
       "      <th>DayOfWeek</th>\n",
       "      <th>Weekend</th>\n",
       "      <th>Season</th>\n",
       "      <th>HourAMPM</th>\n",
       "      <th>TimeOfDay</th>\n",
       "      <th>FullStreet</th>\n",
       "      <th>lat</th>\n",
       "      <th>lon</th>\n",
       "    </tr>\n",
       "  </thead>\n",
       "  <tbody>\n",
       "    <tr>\n",
       "      <th>0</th>\n",
       "      <td>1</td>\n",
       "      <td>Larceny - Shoplifitng</td>\n",
       "      <td>202500012166</td>\n",
       "      <td>500</td>\n",
       "      <td>W MAIN ST</td>\n",
       "      <td>CPD</td>\n",
       "      <td>2020</td>\n",
       "      <td>Essex, Dominique</td>\n",
       "      <td>2025-04-15 20:20:09</td>\n",
       "      <td>2025-04-15 08:20:09 PM</td>\n",
       "      <td>Tuesday</td>\n",
       "      <td>False</td>\n",
       "      <td>Spring</td>\n",
       "      <td>08:20 PM</td>\n",
       "      <td>Evening</td>\n",
       "      <td>500 W MAIN ST</td>\n",
       "      <td>38.030793</td>\n",
       "      <td>-78.487912</td>\n",
       "    </tr>\n",
       "    <tr>\n",
       "      <th>1</th>\n",
       "      <td>2</td>\n",
       "      <td>Motor Vehicle Theft</td>\n",
       "      <td>202500012142</td>\n",
       "      <td>100</td>\n",
       "      <td>2ND ST NW</td>\n",
       "      <td>CPD</td>\n",
       "      <td>1549</td>\n",
       "      <td>Bentz, Benjamin</td>\n",
       "      <td>2025-04-15 15:49:49</td>\n",
       "      <td>2025-04-15 03:49:49 PM</td>\n",
       "      <td>Tuesday</td>\n",
       "      <td>False</td>\n",
       "      <td>Spring</td>\n",
       "      <td>03:49 PM</td>\n",
       "      <td>Afternoon</td>\n",
       "      <td>100 2ND ST NW</td>\n",
       "      <td>38.031244</td>\n",
       "      <td>-78.482054</td>\n",
       "    </tr>\n",
       "    <tr>\n",
       "      <th>2</th>\n",
       "      <td>3</td>\n",
       "      <td>Vandalism</td>\n",
       "      <td>202500012150</td>\n",
       "      <td>800</td>\n",
       "      <td>E JEFFERSON ST</td>\n",
       "      <td>CPD</td>\n",
       "      <td>1539</td>\n",
       "      <td>Bentz, Benjamin</td>\n",
       "      <td>2025-04-15 15:39:31</td>\n",
       "      <td>2025-04-15 03:39:31 PM</td>\n",
       "      <td>Tuesday</td>\n",
       "      <td>False</td>\n",
       "      <td>Spring</td>\n",
       "      <td>03:39 PM</td>\n",
       "      <td>Afternoon</td>\n",
       "      <td>800 E JEFFERSON ST</td>\n",
       "      <td>38.030798</td>\n",
       "      <td>-78.475416</td>\n",
       "    </tr>\n",
       "    <tr>\n",
       "      <th>3</th>\n",
       "      <td>4</td>\n",
       "      <td>Fraud-wire fraud</td>\n",
       "      <td>202500012140</td>\n",
       "      <td>1000</td>\n",
       "      <td>PRESTON AVE</td>\n",
       "      <td>CPD</td>\n",
       "      <td>1524</td>\n",
       "      <td>Mian, Ghulam</td>\n",
       "      <td>2025-04-15 15:24:25</td>\n",
       "      <td>2025-04-15 03:24:25 PM</td>\n",
       "      <td>Tuesday</td>\n",
       "      <td>False</td>\n",
       "      <td>Spring</td>\n",
       "      <td>03:24 PM</td>\n",
       "      <td>Afternoon</td>\n",
       "      <td>1000 PRESTON AVE</td>\n",
       "      <td>38.039155</td>\n",
       "      <td>-78.491633</td>\n",
       "    </tr>\n",
       "    <tr>\n",
       "      <th>4</th>\n",
       "      <td>5</td>\n",
       "      <td>Assault Simple</td>\n",
       "      <td>202500012135</td>\n",
       "      <td>1200</td>\n",
       "      <td>CEDARS CT</td>\n",
       "      <td>CPD</td>\n",
       "      <td>1516</td>\n",
       "      <td>Benbow, Lauren</td>\n",
       "      <td>2025-04-15 15:16:27</td>\n",
       "      <td>2025-04-15 03:16:27 PM</td>\n",
       "      <td>Tuesday</td>\n",
       "      <td>False</td>\n",
       "      <td>Spring</td>\n",
       "      <td>03:16 PM</td>\n",
       "      <td>Afternoon</td>\n",
       "      <td>1200 CEDARS CT</td>\n",
       "      <td>38.055355</td>\n",
       "      <td>-78.501478</td>\n",
       "    </tr>\n",
       "  </tbody>\n",
       "</table>\n",
       "</div>"
      ],
      "text/plain": [
       "   RecordID                Offense    IncidentID BlockNumber      StreetName  \\\n",
       "0         1  Larceny - Shoplifitng  202500012166         500       W MAIN ST   \n",
       "1         2    Motor Vehicle Theft  202500012142         100       2ND ST NW   \n",
       "2         3              Vandalism  202500012150         800  E JEFFERSON ST   \n",
       "3         4       Fraud-wire fraud  202500012140        1000     PRESTON AVE   \n",
       "4         5         Assault Simple  202500012135        1200       CEDARS CT   \n",
       "\n",
       "  Agency HourReported  ReportingOfficer                Date  \\\n",
       "0    CPD         2020  Essex, Dominique 2025-04-15 20:20:09   \n",
       "1    CPD         1549  Bentz, Benjamin  2025-04-15 15:49:49   \n",
       "2    CPD         1539  Bentz, Benjamin  2025-04-15 15:39:31   \n",
       "3    CPD         1524      Mian, Ghulam 2025-04-15 15:24:25   \n",
       "4    CPD         1516    Benbow, Lauren 2025-04-15 15:16:27   \n",
       "\n",
       "               DateString DayOfWeek  Weekend  Season  HourAMPM  TimeOfDay  \\\n",
       "0  2025-04-15 08:20:09 PM   Tuesday    False  Spring  08:20 PM    Evening   \n",
       "1  2025-04-15 03:49:49 PM   Tuesday    False  Spring  03:49 PM  Afternoon   \n",
       "2  2025-04-15 03:39:31 PM   Tuesday    False  Spring  03:39 PM  Afternoon   \n",
       "3  2025-04-15 03:24:25 PM   Tuesday    False  Spring  03:24 PM  Afternoon   \n",
       "4  2025-04-15 03:16:27 PM   Tuesday    False  Spring  03:16 PM  Afternoon   \n",
       "\n",
       "           FullStreet        lat        lon  \n",
       "0       500 W MAIN ST  38.030793 -78.487912  \n",
       "1       100 2ND ST NW  38.031244 -78.482054  \n",
       "2  800 E JEFFERSON ST  38.030798 -78.475416  \n",
       "3    1000 PRESTON AVE  38.039155 -78.491633  \n",
       "4      1200 CEDARS CT  38.055355 -78.501478  "
      ]
     },
     "execution_count": 9,
     "metadata": {},
     "output_type": "execute_result"
    }
   ],
   "source": [
    "# Combine BlockNumber and StreetName into a full address string\n",
    "df['FullStreet'] = df['BlockNumber'].astype(str) + \" \" + df['StreetName']\n",
    "\n",
    "# --- Step 1: Setup the Google Maps Client and Cache ---\n",
    "gmaps = googlemaps.Client(key=GOOGLE_API_KEY)\n",
    "\n",
    "# Try to load cached geocoding results if available.\n",
    "try:\n",
    "    with open(\"geocode_cache_google.pkl\", \"rb\") as f:\n",
    "        street_coords = pickle.load(f)\n",
    "    print(\"Loaded geocode cache.\")\n",
    "except FileNotFoundError:\n",
    "    street_coords = {}\n",
    "    print(\"No cache found; starting fresh.\")\n",
    "\n",
    "def geocode_address(address):\n",
    "    try:\n",
    "        # Append city and state to help geocoding\n",
    "        result = gmaps.geocode(f\"{address}, Charlottesville, VA\")\n",
    "        if result:\n",
    "            lat = result[0]['geometry']['location']['lat']\n",
    "            lon = result[0]['geometry']['location']['lng']\n",
    "            return lat, lon\n",
    "    except Exception as e:\n",
    "        print(f\"Error geocoding {address}: {e}\")\n",
    "    return None, None\n",
    "\n",
    "# --- Step 2: Geocode Only New Addresses ---\n",
    "unique_addresses = df['FullStreet'].unique()\n",
    "for address in unique_addresses:\n",
    "    if address not in street_coords:\n",
    "        lat, lon = geocode_address(address)\n",
    "        street_coords[address] = (lat, lon)\n",
    "        print(f\"Geocoded {address}: {lat}, {lon}\")\n",
    "\n",
    "# Save the updated cache to disk.\n",
    "with open(\"geocode_cache_google.pkl\", \"wb\") as f:\n",
    "    pickle.dump(street_coords, f)\n",
    "    print(\"Geocode cache updated and saved.\")\n",
    "\n",
    "# --- Step 3: Map Coordinates Back to DataFrame ---\n",
    "df['lat'] = df['FullStreet'].map(lambda s: street_coords.get(s, (None, None))[0])\n",
    "df['lon'] = df['FullStreet'].map(lambda s: street_coords.get(s, (None, None))[1])\n",
    "\n",
    "df.head()"
   ]
  },
  {
   "cell_type": "markdown",
   "id": "9cba1a3e",
   "metadata": {
    "papermill": {
     "duration": 0.006377,
     "end_time": "2025-04-18T01:00:25.875694",
     "exception": false,
     "start_time": "2025-04-18T01:00:25.869317",
     "status": "completed"
    },
    "tags": []
   },
   "source": [
    "### Neighborhood"
   ]
  },
  {
   "cell_type": "code",
   "execution_count": 10,
   "id": "e5619264",
   "metadata": {
    "execution": {
     "iopub.execute_input": "2025-04-18T01:00:25.889294Z",
     "iopub.status.busy": "2025-04-18T01:00:25.888869Z",
     "iopub.status.idle": "2025-04-18T01:00:26.150644Z",
     "shell.execute_reply": "2025-04-18T01:00:26.150048Z"
    },
    "papermill": {
     "duration": 0.269837,
     "end_time": "2025-04-18T01:00:26.151750",
     "exception": false,
     "start_time": "2025-04-18T01:00:25.881913",
     "status": "completed"
    },
    "tags": []
   },
   "outputs": [
    {
     "name": "stdout",
     "output_type": "stream",
     "text": [
      "Loaded neighborhood cache.\n"
     ]
    },
    {
     "data": {
      "text/html": [
       "<div>\n",
       "<style scoped>\n",
       "    .dataframe tbody tr th:only-of-type {\n",
       "        vertical-align: middle;\n",
       "    }\n",
       "\n",
       "    .dataframe tbody tr th {\n",
       "        vertical-align: top;\n",
       "    }\n",
       "\n",
       "    .dataframe thead th {\n",
       "        text-align: right;\n",
       "    }\n",
       "</style>\n",
       "<table border=\"1\" class=\"dataframe\">\n",
       "  <thead>\n",
       "    <tr style=\"text-align: right;\">\n",
       "      <th></th>\n",
       "      <th>RecordID</th>\n",
       "      <th>Offense</th>\n",
       "      <th>IncidentID</th>\n",
       "      <th>BlockNumber</th>\n",
       "      <th>StreetName</th>\n",
       "      <th>Agency</th>\n",
       "      <th>HourReported</th>\n",
       "      <th>ReportingOfficer</th>\n",
       "      <th>Date</th>\n",
       "      <th>DateString</th>\n",
       "      <th>DayOfWeek</th>\n",
       "      <th>Weekend</th>\n",
       "      <th>Season</th>\n",
       "      <th>HourAMPM</th>\n",
       "      <th>TimeOfDay</th>\n",
       "      <th>FullStreet</th>\n",
       "      <th>lat</th>\n",
       "      <th>lon</th>\n",
       "      <th>neighborhood</th>\n",
       "    </tr>\n",
       "  </thead>\n",
       "  <tbody>\n",
       "    <tr>\n",
       "      <th>0</th>\n",
       "      <td>1</td>\n",
       "      <td>Larceny - Shoplifitng</td>\n",
       "      <td>202500012166</td>\n",
       "      <td>500</td>\n",
       "      <td>W MAIN ST</td>\n",
       "      <td>CPD</td>\n",
       "      <td>2020</td>\n",
       "      <td>Essex, Dominique</td>\n",
       "      <td>2025-04-15 20:20:09</td>\n",
       "      <td>2025-04-15 08:20:09 PM</td>\n",
       "      <td>Tuesday</td>\n",
       "      <td>False</td>\n",
       "      <td>Spring</td>\n",
       "      <td>08:20 PM</td>\n",
       "      <td>Evening</td>\n",
       "      <td>500 W MAIN ST</td>\n",
       "      <td>38.030793</td>\n",
       "      <td>-78.487912</td>\n",
       "      <td>Starr Hill</td>\n",
       "    </tr>\n",
       "    <tr>\n",
       "      <th>1</th>\n",
       "      <td>2</td>\n",
       "      <td>Motor Vehicle Theft</td>\n",
       "      <td>202500012142</td>\n",
       "      <td>100</td>\n",
       "      <td>2ND ST NW</td>\n",
       "      <td>CPD</td>\n",
       "      <td>1549</td>\n",
       "      <td>Bentz, Benjamin</td>\n",
       "      <td>2025-04-15 15:49:49</td>\n",
       "      <td>2025-04-15 03:49:49 PM</td>\n",
       "      <td>Tuesday</td>\n",
       "      <td>False</td>\n",
       "      <td>Spring</td>\n",
       "      <td>03:49 PM</td>\n",
       "      <td>Afternoon</td>\n",
       "      <td>100 2ND ST NW</td>\n",
       "      <td>38.031244</td>\n",
       "      <td>-78.482054</td>\n",
       "      <td>Downtown Mall</td>\n",
       "    </tr>\n",
       "    <tr>\n",
       "      <th>2</th>\n",
       "      <td>3</td>\n",
       "      <td>Vandalism</td>\n",
       "      <td>202500012150</td>\n",
       "      <td>800</td>\n",
       "      <td>E JEFFERSON ST</td>\n",
       "      <td>CPD</td>\n",
       "      <td>1539</td>\n",
       "      <td>Bentz, Benjamin</td>\n",
       "      <td>2025-04-15 15:39:31</td>\n",
       "      <td>2025-04-15 03:39:31 PM</td>\n",
       "      <td>Tuesday</td>\n",
       "      <td>False</td>\n",
       "      <td>Spring</td>\n",
       "      <td>03:39 PM</td>\n",
       "      <td>Afternoon</td>\n",
       "      <td>800 E JEFFERSON ST</td>\n",
       "      <td>38.030798</td>\n",
       "      <td>-78.475416</td>\n",
       "      <td>North Downtown</td>\n",
       "    </tr>\n",
       "    <tr>\n",
       "      <th>3</th>\n",
       "      <td>4</td>\n",
       "      <td>Fraud-wire fraud</td>\n",
       "      <td>202500012140</td>\n",
       "      <td>1000</td>\n",
       "      <td>PRESTON AVE</td>\n",
       "      <td>CPD</td>\n",
       "      <td>1524</td>\n",
       "      <td>Mian, Ghulam</td>\n",
       "      <td>2025-04-15 15:24:25</td>\n",
       "      <td>2025-04-15 03:24:25 PM</td>\n",
       "      <td>Tuesday</td>\n",
       "      <td>False</td>\n",
       "      <td>Spring</td>\n",
       "      <td>03:24 PM</td>\n",
       "      <td>Afternoon</td>\n",
       "      <td>1000 PRESTON AVE</td>\n",
       "      <td>38.039155</td>\n",
       "      <td>-78.491633</td>\n",
       "      <td>Venable</td>\n",
       "    </tr>\n",
       "    <tr>\n",
       "      <th>4</th>\n",
       "      <td>5</td>\n",
       "      <td>Assault Simple</td>\n",
       "      <td>202500012135</td>\n",
       "      <td>1200</td>\n",
       "      <td>CEDARS CT</td>\n",
       "      <td>CPD</td>\n",
       "      <td>1516</td>\n",
       "      <td>Benbow, Lauren</td>\n",
       "      <td>2025-04-15 15:16:27</td>\n",
       "      <td>2025-04-15 03:16:27 PM</td>\n",
       "      <td>Tuesday</td>\n",
       "      <td>False</td>\n",
       "      <td>Spring</td>\n",
       "      <td>03:16 PM</td>\n",
       "      <td>Afternoon</td>\n",
       "      <td>1200 CEDARS CT</td>\n",
       "      <td>38.055355</td>\n",
       "      <td>-78.501478</td>\n",
       "      <td>The Meadows</td>\n",
       "    </tr>\n",
       "  </tbody>\n",
       "</table>\n",
       "</div>"
      ],
      "text/plain": [
       "   RecordID                Offense    IncidentID BlockNumber      StreetName  \\\n",
       "0         1  Larceny - Shoplifitng  202500012166         500       W MAIN ST   \n",
       "1         2    Motor Vehicle Theft  202500012142         100       2ND ST NW   \n",
       "2         3              Vandalism  202500012150         800  E JEFFERSON ST   \n",
       "3         4       Fraud-wire fraud  202500012140        1000     PRESTON AVE   \n",
       "4         5         Assault Simple  202500012135        1200       CEDARS CT   \n",
       "\n",
       "  Agency HourReported  ReportingOfficer                Date  \\\n",
       "0    CPD         2020  Essex, Dominique 2025-04-15 20:20:09   \n",
       "1    CPD         1549  Bentz, Benjamin  2025-04-15 15:49:49   \n",
       "2    CPD         1539  Bentz, Benjamin  2025-04-15 15:39:31   \n",
       "3    CPD         1524      Mian, Ghulam 2025-04-15 15:24:25   \n",
       "4    CPD         1516    Benbow, Lauren 2025-04-15 15:16:27   \n",
       "\n",
       "               DateString DayOfWeek  Weekend  Season  HourAMPM  TimeOfDay  \\\n",
       "0  2025-04-15 08:20:09 PM   Tuesday    False  Spring  08:20 PM    Evening   \n",
       "1  2025-04-15 03:49:49 PM   Tuesday    False  Spring  03:49 PM  Afternoon   \n",
       "2  2025-04-15 03:39:31 PM   Tuesday    False  Spring  03:39 PM  Afternoon   \n",
       "3  2025-04-15 03:24:25 PM   Tuesday    False  Spring  03:24 PM  Afternoon   \n",
       "4  2025-04-15 03:16:27 PM   Tuesday    False  Spring  03:16 PM  Afternoon   \n",
       "\n",
       "           FullStreet        lat        lon    neighborhood  \n",
       "0       500 W MAIN ST  38.030793 -78.487912      Starr Hill  \n",
       "1       100 2ND ST NW  38.031244 -78.482054   Downtown Mall  \n",
       "2  800 E JEFFERSON ST  38.030798 -78.475416  North Downtown  \n",
       "3    1000 PRESTON AVE  38.039155 -78.491633         Venable  \n",
       "4      1200 CEDARS CT  38.055355 -78.501478     The Meadows  "
      ]
     },
     "execution_count": 10,
     "metadata": {},
     "output_type": "execute_result"
    }
   ],
   "source": [
    "# Initialize the Google Maps client.\n",
    "gmaps = googlemaps.Client(key=GOOGLE_API_KEY)\n",
    "\n",
    "# Try to load a persistent neighborhood cache if available.\n",
    "try:\n",
    "    with open(\"neighborhood_cache.pkl\", \"rb\") as f:\n",
    "        neighborhood_cache = pickle.load(f)\n",
    "    print(\"Loaded neighborhood cache.\")\n",
    "except FileNotFoundError:\n",
    "    neighborhood_cache = {}\n",
    "    print(\"No neighborhood cache found; starting fresh.\")\n",
    "\n",
    "def get_neighborhood(lat, lon):\n",
    "    \"\"\"\n",
    "    Reverse geocodes a latitude and longitude to retrieve the neighborhood.\n",
    "    Caches results to speed up subsequent lookups.\n",
    "    \"\"\"\n",
    "    key = (lat, lon)\n",
    "    if key in neighborhood_cache:\n",
    "        return neighborhood_cache[key]\n",
    "    \n",
    "    try:\n",
    "        result = gmaps.reverse_geocode((lat, lon))\n",
    "        if result:\n",
    "            # Look for the 'neighborhood' component in the first result.\n",
    "            for component in result[0]['address_components']:\n",
    "                if 'neighborhood' in component['types']:\n",
    "                    neighborhood = component['long_name']\n",
    "                    neighborhood_cache[key] = neighborhood\n",
    "                    return neighborhood\n",
    "            # If no neighborhood is found, return \"N/A\"\n",
    "            neighborhood_cache[key] = \"N/A\"\n",
    "            return \"N/A\"\n",
    "    except Exception as e:\n",
    "        print(f\"Error getting neighborhood for {lat}, {lon}: {e}\")\n",
    "        return \"N/A\"\n",
    "    \n",
    "    # Pause to respect usage limits.\n",
    "    time.sleep(1)\n",
    "\n",
    "# Example usage: Apply to your DataFrame 'df' that already has 'lat' and 'lon' columns.\n",
    "df['neighborhood'] = df.apply(lambda row: get_neighborhood(row['lat'], row['lon']), axis=1)\n",
    "\n",
    "# Save the updated neighborhood cache.\n",
    "with open(\"neighborhood_cache.pkl\", \"wb\") as f:\n",
    "    pickle.dump(neighborhood_cache, f)\n",
    "\n",
    "df.head()\n"
   ]
  },
  {
   "cell_type": "markdown",
   "id": "37d174e3",
   "metadata": {
    "papermill": {
     "duration": 0.006622,
     "end_time": "2025-04-18T01:00:26.165230",
     "exception": false,
     "start_time": "2025-04-18T01:00:26.158608",
     "status": "completed"
    },
    "tags": []
   },
   "source": [
    "### Zip"
   ]
  },
  {
   "cell_type": "code",
   "execution_count": 11,
   "id": "5e3e4f92",
   "metadata": {
    "execution": {
     "iopub.execute_input": "2025-04-18T01:00:26.180694Z",
     "iopub.status.busy": "2025-04-18T01:00:26.180202Z",
     "iopub.status.idle": "2025-04-18T01:00:26.421210Z",
     "shell.execute_reply": "2025-04-18T01:00:26.420637Z"
    },
    "papermill": {
     "duration": 0.250564,
     "end_time": "2025-04-18T01:00:26.422315",
     "exception": false,
     "start_time": "2025-04-18T01:00:26.171751",
     "status": "completed"
    },
    "tags": []
   },
   "outputs": [
    {
     "name": "stdout",
     "output_type": "stream",
     "text": [
      "Loaded zip cache.\n"
     ]
    },
    {
     "data": {
      "text/html": [
       "<div>\n",
       "<style scoped>\n",
       "    .dataframe tbody tr th:only-of-type {\n",
       "        vertical-align: middle;\n",
       "    }\n",
       "\n",
       "    .dataframe tbody tr th {\n",
       "        vertical-align: top;\n",
       "    }\n",
       "\n",
       "    .dataframe thead th {\n",
       "        text-align: right;\n",
       "    }\n",
       "</style>\n",
       "<table border=\"1\" class=\"dataframe\">\n",
       "  <thead>\n",
       "    <tr style=\"text-align: right;\">\n",
       "      <th></th>\n",
       "      <th>RecordID</th>\n",
       "      <th>Offense</th>\n",
       "      <th>IncidentID</th>\n",
       "      <th>BlockNumber</th>\n",
       "      <th>StreetName</th>\n",
       "      <th>Agency</th>\n",
       "      <th>HourReported</th>\n",
       "      <th>ReportingOfficer</th>\n",
       "      <th>Date</th>\n",
       "      <th>DateString</th>\n",
       "      <th>DayOfWeek</th>\n",
       "      <th>Weekend</th>\n",
       "      <th>Season</th>\n",
       "      <th>HourAMPM</th>\n",
       "      <th>TimeOfDay</th>\n",
       "      <th>FullStreet</th>\n",
       "      <th>lat</th>\n",
       "      <th>lon</th>\n",
       "      <th>neighborhood</th>\n",
       "      <th>zip</th>\n",
       "    </tr>\n",
       "  </thead>\n",
       "  <tbody>\n",
       "    <tr>\n",
       "      <th>0</th>\n",
       "      <td>1</td>\n",
       "      <td>Larceny - Shoplifitng</td>\n",
       "      <td>202500012166</td>\n",
       "      <td>500</td>\n",
       "      <td>W MAIN ST</td>\n",
       "      <td>CPD</td>\n",
       "      <td>2020</td>\n",
       "      <td>Essex, Dominique</td>\n",
       "      <td>2025-04-15 20:20:09</td>\n",
       "      <td>2025-04-15 08:20:09 PM</td>\n",
       "      <td>Tuesday</td>\n",
       "      <td>False</td>\n",
       "      <td>Spring</td>\n",
       "      <td>08:20 PM</td>\n",
       "      <td>Evening</td>\n",
       "      <td>500 W MAIN ST</td>\n",
       "      <td>38.030793</td>\n",
       "      <td>-78.487912</td>\n",
       "      <td>Starr Hill</td>\n",
       "      <td>22903</td>\n",
       "    </tr>\n",
       "    <tr>\n",
       "      <th>1</th>\n",
       "      <td>2</td>\n",
       "      <td>Motor Vehicle Theft</td>\n",
       "      <td>202500012142</td>\n",
       "      <td>100</td>\n",
       "      <td>2ND ST NW</td>\n",
       "      <td>CPD</td>\n",
       "      <td>1549</td>\n",
       "      <td>Bentz, Benjamin</td>\n",
       "      <td>2025-04-15 15:49:49</td>\n",
       "      <td>2025-04-15 03:49:49 PM</td>\n",
       "      <td>Tuesday</td>\n",
       "      <td>False</td>\n",
       "      <td>Spring</td>\n",
       "      <td>03:49 PM</td>\n",
       "      <td>Afternoon</td>\n",
       "      <td>100 2ND ST NW</td>\n",
       "      <td>38.031244</td>\n",
       "      <td>-78.482054</td>\n",
       "      <td>Downtown Mall</td>\n",
       "      <td>22902</td>\n",
       "    </tr>\n",
       "    <tr>\n",
       "      <th>2</th>\n",
       "      <td>3</td>\n",
       "      <td>Vandalism</td>\n",
       "      <td>202500012150</td>\n",
       "      <td>800</td>\n",
       "      <td>E JEFFERSON ST</td>\n",
       "      <td>CPD</td>\n",
       "      <td>1539</td>\n",
       "      <td>Bentz, Benjamin</td>\n",
       "      <td>2025-04-15 15:39:31</td>\n",
       "      <td>2025-04-15 03:39:31 PM</td>\n",
       "      <td>Tuesday</td>\n",
       "      <td>False</td>\n",
       "      <td>Spring</td>\n",
       "      <td>03:39 PM</td>\n",
       "      <td>Afternoon</td>\n",
       "      <td>800 E JEFFERSON ST</td>\n",
       "      <td>38.030798</td>\n",
       "      <td>-78.475416</td>\n",
       "      <td>North Downtown</td>\n",
       "      <td>22902</td>\n",
       "    </tr>\n",
       "    <tr>\n",
       "      <th>3</th>\n",
       "      <td>4</td>\n",
       "      <td>Fraud-wire fraud</td>\n",
       "      <td>202500012140</td>\n",
       "      <td>1000</td>\n",
       "      <td>PRESTON AVE</td>\n",
       "      <td>CPD</td>\n",
       "      <td>1524</td>\n",
       "      <td>Mian, Ghulam</td>\n",
       "      <td>2025-04-15 15:24:25</td>\n",
       "      <td>2025-04-15 03:24:25 PM</td>\n",
       "      <td>Tuesday</td>\n",
       "      <td>False</td>\n",
       "      <td>Spring</td>\n",
       "      <td>03:24 PM</td>\n",
       "      <td>Afternoon</td>\n",
       "      <td>1000 PRESTON AVE</td>\n",
       "      <td>38.039155</td>\n",
       "      <td>-78.491633</td>\n",
       "      <td>Venable</td>\n",
       "      <td>22908</td>\n",
       "    </tr>\n",
       "    <tr>\n",
       "      <th>4</th>\n",
       "      <td>5</td>\n",
       "      <td>Assault Simple</td>\n",
       "      <td>202500012135</td>\n",
       "      <td>1200</td>\n",
       "      <td>CEDARS CT</td>\n",
       "      <td>CPD</td>\n",
       "      <td>1516</td>\n",
       "      <td>Benbow, Lauren</td>\n",
       "      <td>2025-04-15 15:16:27</td>\n",
       "      <td>2025-04-15 03:16:27 PM</td>\n",
       "      <td>Tuesday</td>\n",
       "      <td>False</td>\n",
       "      <td>Spring</td>\n",
       "      <td>03:16 PM</td>\n",
       "      <td>Afternoon</td>\n",
       "      <td>1200 CEDARS CT</td>\n",
       "      <td>38.055355</td>\n",
       "      <td>-78.501478</td>\n",
       "      <td>The Meadows</td>\n",
       "      <td>22903</td>\n",
       "    </tr>\n",
       "  </tbody>\n",
       "</table>\n",
       "</div>"
      ],
      "text/plain": [
       "   RecordID                Offense    IncidentID BlockNumber      StreetName  \\\n",
       "0         1  Larceny - Shoplifitng  202500012166         500       W MAIN ST   \n",
       "1         2    Motor Vehicle Theft  202500012142         100       2ND ST NW   \n",
       "2         3              Vandalism  202500012150         800  E JEFFERSON ST   \n",
       "3         4       Fraud-wire fraud  202500012140        1000     PRESTON AVE   \n",
       "4         5         Assault Simple  202500012135        1200       CEDARS CT   \n",
       "\n",
       "  Agency HourReported  ReportingOfficer                Date  \\\n",
       "0    CPD         2020  Essex, Dominique 2025-04-15 20:20:09   \n",
       "1    CPD         1549  Bentz, Benjamin  2025-04-15 15:49:49   \n",
       "2    CPD         1539  Bentz, Benjamin  2025-04-15 15:39:31   \n",
       "3    CPD         1524      Mian, Ghulam 2025-04-15 15:24:25   \n",
       "4    CPD         1516    Benbow, Lauren 2025-04-15 15:16:27   \n",
       "\n",
       "               DateString DayOfWeek  Weekend  Season  HourAMPM  TimeOfDay  \\\n",
       "0  2025-04-15 08:20:09 PM   Tuesday    False  Spring  08:20 PM    Evening   \n",
       "1  2025-04-15 03:49:49 PM   Tuesday    False  Spring  03:49 PM  Afternoon   \n",
       "2  2025-04-15 03:39:31 PM   Tuesday    False  Spring  03:39 PM  Afternoon   \n",
       "3  2025-04-15 03:24:25 PM   Tuesday    False  Spring  03:24 PM  Afternoon   \n",
       "4  2025-04-15 03:16:27 PM   Tuesday    False  Spring  03:16 PM  Afternoon   \n",
       "\n",
       "           FullStreet        lat        lon    neighborhood    zip  \n",
       "0       500 W MAIN ST  38.030793 -78.487912      Starr Hill  22903  \n",
       "1       100 2ND ST NW  38.031244 -78.482054   Downtown Mall  22902  \n",
       "2  800 E JEFFERSON ST  38.030798 -78.475416  North Downtown  22902  \n",
       "3    1000 PRESTON AVE  38.039155 -78.491633         Venable  22908  \n",
       "4      1200 CEDARS CT  38.055355 -78.501478     The Meadows  22903  "
      ]
     },
     "execution_count": 11,
     "metadata": {},
     "output_type": "execute_result"
    }
   ],
   "source": [
    "# Initialize the geocoder.\n",
    "geolocator = Nominatim(user_agent=\"zip_lookup\")\n",
    "\n",
    "# Try to load a persistent ZIP cache if available.\n",
    "try:\n",
    "    with open(\"zip_cache.pkl\", \"rb\") as f:\n",
    "        zip_cache = pickle.load(f)\n",
    "    print(\"Loaded zip cache.\")\n",
    "except FileNotFoundError:\n",
    "    zip_cache = {}\n",
    "    print(\"No zip cache found; starting fresh.\")\n",
    "\n",
    "def get_zip(lat, lon):\n",
    "    \"\"\"\n",
    "    Reverse geocodes a latitude and longitude to retrieve the ZIP code.\n",
    "    Caches results to speed up subsequent lookups.\n",
    "    \"\"\"\n",
    "    key = (lat, lon)\n",
    "    if key in zip_cache:\n",
    "        return zip_cache[key]\n",
    "    \n",
    "    try:\n",
    "        location = geolocator.reverse((lat, lon), exactly_one=True, timeout=10)\n",
    "        address = location.raw.get('address', {})\n",
    "        postal_code = address.get('postcode', \"N/A\")\n",
    "    except Exception as e:\n",
    "        print(f\"Error getting ZIP for {lat}, {lon}: {e}\")\n",
    "        postal_code = \"N/A\"\n",
    "    \n",
    "    zip_cache[key] = postal_code\n",
    "    # Pause to respect the usage policy.\n",
    "    time.sleep(1)\n",
    "    return postal_code\n",
    "\n",
    "# Apply the function to each row in the DataFrame.\n",
    "df['zip'] = df.apply(lambda row: get_zip(row['lat'], row['lon']), axis=1)\n",
    "\n",
    "# Save the updated ZIP cache.\n",
    "with open(\"zip_cache.pkl\", \"wb\") as f:\n",
    "    pickle.dump(zip_cache, f)\n",
    "\n",
    "df.head()\n"
   ]
  },
  {
   "cell_type": "code",
   "execution_count": 12,
   "id": "246096e5",
   "metadata": {
    "execution": {
     "iopub.execute_input": "2025-04-18T01:00:26.437422Z",
     "iopub.status.busy": "2025-04-18T01:00:26.437170Z",
     "iopub.status.idle": "2025-04-18T01:00:26.465561Z",
     "shell.execute_reply": "2025-04-18T01:00:26.464983Z"
    },
    "papermill": {
     "duration": 0.037027,
     "end_time": "2025-04-18T01:00:26.466574",
     "exception": false,
     "start_time": "2025-04-18T01:00:26.429547",
     "status": "completed"
    },
    "tags": []
   },
   "outputs": [
    {
     "name": "stdout",
     "output_type": "stream",
     "text": [
      "                  MissingCount  MissingPercentage\n",
      "RecordID                     0               0.00\n",
      "Offense                      0               0.00\n",
      "IncidentID                   0               0.00\n",
      "BlockNumber                  0               0.00\n",
      "StreetName                   0               0.00\n",
      "Agency                       0               0.00\n",
      "HourReported                 0               0.00\n",
      "ReportingOfficer            17               0.07\n",
      "Date                         0               0.00\n",
      "DateString                   0               0.00\n",
      "DayOfWeek                    0               0.00\n",
      "Weekend                      0               0.00\n",
      "Season                       0               0.00\n",
      "HourAMPM                     0               0.00\n",
      "TimeOfDay                    0               0.00\n",
      "FullStreet                   0               0.00\n",
      "lat                          0               0.00\n",
      "lon                          0               0.00\n",
      "neighborhood                 0               0.00\n",
      "zip                          0               0.00\n"
     ]
    }
   ],
   "source": [
    "missing_info = missing_percentage(df)\n",
    "print(missing_info)\n"
   ]
  },
  {
   "cell_type": "code",
   "execution_count": 13,
   "id": "2464f5f7",
   "metadata": {
    "execution": {
     "iopub.execute_input": "2025-04-18T01:00:26.481933Z",
     "iopub.status.busy": "2025-04-18T01:00:26.481446Z",
     "iopub.status.idle": "2025-04-18T01:00:26.511157Z",
     "shell.execute_reply": "2025-04-18T01:00:26.510575Z"
    },
    "papermill": {
     "duration": 0.038452,
     "end_time": "2025-04-18T01:00:26.512215",
     "exception": false,
     "start_time": "2025-04-18T01:00:26.473763",
     "status": "completed"
    },
    "tags": []
   },
   "outputs": [
    {
     "name": "stdout",
     "output_type": "stream",
     "text": [
      "<class 'pandas.core.frame.DataFrame'>\n",
      "RangeIndex: 25205 entries, 0 to 25204\n",
      "Data columns (total 20 columns):\n",
      " #   Column            Non-Null Count  Dtype         \n",
      "---  ------            --------------  -----         \n",
      " 0   RecordID          25205 non-null  int64         \n",
      " 1   Offense           25205 non-null  object        \n",
      " 2   IncidentID        25205 non-null  object        \n",
      " 3   BlockNumber       25205 non-null  object        \n",
      " 4   StreetName        25205 non-null  object        \n",
      " 5   Agency            25205 non-null  object        \n",
      " 6   HourReported      25205 non-null  object        \n",
      " 7   ReportingOfficer  25188 non-null  object        \n",
      " 8   Date              25205 non-null  datetime64[ns]\n",
      " 9   DateString        25205 non-null  object        \n",
      " 10  DayOfWeek         25205 non-null  object        \n",
      " 11  Weekend           25205 non-null  bool          \n",
      " 12  Season            25205 non-null  object        \n",
      " 13  HourAMPM          25205 non-null  object        \n",
      " 14  TimeOfDay         25205 non-null  object        \n",
      " 15  FullStreet        25205 non-null  object        \n",
      " 16  lat               25205 non-null  float64       \n",
      " 17  lon               25205 non-null  float64       \n",
      " 18  neighborhood      25205 non-null  object        \n",
      " 19  zip               25205 non-null  object        \n",
      "dtypes: bool(1), datetime64[ns](1), float64(2), int64(1), object(15)\n",
      "memory usage: 3.7+ MB\n"
     ]
    }
   ],
   "source": [
    "df.info()"
   ]
  },
  {
   "cell_type": "code",
   "execution_count": 14,
   "id": "53f5712a",
   "metadata": {
    "execution": {
     "iopub.execute_input": "2025-04-18T01:00:26.527767Z",
     "iopub.status.busy": "2025-04-18T01:00:26.527137Z",
     "iopub.status.idle": "2025-04-18T01:00:26.571942Z",
     "shell.execute_reply": "2025-04-18T01:00:26.571220Z"
    },
    "papermill": {
     "duration": 0.05357,
     "end_time": "2025-04-18T01:00:26.573033",
     "exception": false,
     "start_time": "2025-04-18T01:00:26.519463",
     "status": "completed"
    },
    "tags": []
   },
   "outputs": [
    {
     "data": {
      "text/html": [
       "<div>\n",
       "<style scoped>\n",
       "    .dataframe tbody tr th:only-of-type {\n",
       "        vertical-align: middle;\n",
       "    }\n",
       "\n",
       "    .dataframe tbody tr th {\n",
       "        vertical-align: top;\n",
       "    }\n",
       "\n",
       "    .dataframe thead th {\n",
       "        text-align: right;\n",
       "    }\n",
       "</style>\n",
       "<table border=\"1\" class=\"dataframe\">\n",
       "  <thead>\n",
       "    <tr style=\"text-align: right;\">\n",
       "      <th></th>\n",
       "      <th>RecordID</th>\n",
       "      <th>Offense</th>\n",
       "      <th>IncidentID</th>\n",
       "      <th>Agency</th>\n",
       "      <th>ReportingOfficer</th>\n",
       "      <th>Date</th>\n",
       "      <th>DayOfWeek</th>\n",
       "      <th>Weekend</th>\n",
       "      <th>Season</th>\n",
       "      <th>TimeOfDay</th>\n",
       "      <th>FullStreet</th>\n",
       "      <th>lat</th>\n",
       "      <th>lon</th>\n",
       "      <th>neighborhood</th>\n",
       "      <th>zip</th>\n",
       "    </tr>\n",
       "  </thead>\n",
       "  <tbody>\n",
       "    <tr>\n",
       "      <th>0</th>\n",
       "      <td>1</td>\n",
       "      <td>Larceny - Shoplifitng</td>\n",
       "      <td>202500012166</td>\n",
       "      <td>CPD</td>\n",
       "      <td>Essex, Dominique</td>\n",
       "      <td>2025-04-15 20:20:09</td>\n",
       "      <td>Tuesday</td>\n",
       "      <td>False</td>\n",
       "      <td>Spring</td>\n",
       "      <td>Evening</td>\n",
       "      <td>500 W MAIN ST</td>\n",
       "      <td>38.030793</td>\n",
       "      <td>-78.487912</td>\n",
       "      <td>Starr Hill</td>\n",
       "      <td>22903</td>\n",
       "    </tr>\n",
       "    <tr>\n",
       "      <th>1</th>\n",
       "      <td>2</td>\n",
       "      <td>Motor Vehicle Theft</td>\n",
       "      <td>202500012142</td>\n",
       "      <td>CPD</td>\n",
       "      <td>Bentz, Benjamin</td>\n",
       "      <td>2025-04-15 15:49:49</td>\n",
       "      <td>Tuesday</td>\n",
       "      <td>False</td>\n",
       "      <td>Spring</td>\n",
       "      <td>Afternoon</td>\n",
       "      <td>100 2ND ST NW</td>\n",
       "      <td>38.031244</td>\n",
       "      <td>-78.482054</td>\n",
       "      <td>Downtown Mall</td>\n",
       "      <td>22902</td>\n",
       "    </tr>\n",
       "    <tr>\n",
       "      <th>2</th>\n",
       "      <td>3</td>\n",
       "      <td>Vandalism</td>\n",
       "      <td>202500012150</td>\n",
       "      <td>CPD</td>\n",
       "      <td>Bentz, Benjamin</td>\n",
       "      <td>2025-04-15 15:39:31</td>\n",
       "      <td>Tuesday</td>\n",
       "      <td>False</td>\n",
       "      <td>Spring</td>\n",
       "      <td>Afternoon</td>\n",
       "      <td>800 E JEFFERSON ST</td>\n",
       "      <td>38.030798</td>\n",
       "      <td>-78.475416</td>\n",
       "      <td>North Downtown</td>\n",
       "      <td>22902</td>\n",
       "    </tr>\n",
       "    <tr>\n",
       "      <th>3</th>\n",
       "      <td>4</td>\n",
       "      <td>Fraud-wire fraud</td>\n",
       "      <td>202500012140</td>\n",
       "      <td>CPD</td>\n",
       "      <td>Mian, Ghulam</td>\n",
       "      <td>2025-04-15 15:24:25</td>\n",
       "      <td>Tuesday</td>\n",
       "      <td>False</td>\n",
       "      <td>Spring</td>\n",
       "      <td>Afternoon</td>\n",
       "      <td>1000 PRESTON AVE</td>\n",
       "      <td>38.039155</td>\n",
       "      <td>-78.491633</td>\n",
       "      <td>Venable</td>\n",
       "      <td>22908</td>\n",
       "    </tr>\n",
       "    <tr>\n",
       "      <th>4</th>\n",
       "      <td>5</td>\n",
       "      <td>Assault Simple</td>\n",
       "      <td>202500012135</td>\n",
       "      <td>CPD</td>\n",
       "      <td>Benbow, Lauren</td>\n",
       "      <td>2025-04-15 15:16:27</td>\n",
       "      <td>Tuesday</td>\n",
       "      <td>False</td>\n",
       "      <td>Spring</td>\n",
       "      <td>Afternoon</td>\n",
       "      <td>1200 CEDARS CT</td>\n",
       "      <td>38.055355</td>\n",
       "      <td>-78.501478</td>\n",
       "      <td>The Meadows</td>\n",
       "      <td>22903</td>\n",
       "    </tr>\n",
       "  </tbody>\n",
       "</table>\n",
       "</div>"
      ],
      "text/plain": [
       "   RecordID                Offense    IncidentID Agency  ReportingOfficer  \\\n",
       "0         1  Larceny - Shoplifitng  202500012166    CPD  Essex, Dominique   \n",
       "1         2    Motor Vehicle Theft  202500012142    CPD  Bentz, Benjamin    \n",
       "2         3              Vandalism  202500012150    CPD  Bentz, Benjamin    \n",
       "3         4       Fraud-wire fraud  202500012140    CPD      Mian, Ghulam   \n",
       "4         5         Assault Simple  202500012135    CPD    Benbow, Lauren   \n",
       "\n",
       "                 Date DayOfWeek  Weekend  Season  TimeOfDay  \\\n",
       "0 2025-04-15 20:20:09   Tuesday    False  Spring    Evening   \n",
       "1 2025-04-15 15:49:49   Tuesday    False  Spring  Afternoon   \n",
       "2 2025-04-15 15:39:31   Tuesday    False  Spring  Afternoon   \n",
       "3 2025-04-15 15:24:25   Tuesday    False  Spring  Afternoon   \n",
       "4 2025-04-15 15:16:27   Tuesday    False  Spring  Afternoon   \n",
       "\n",
       "           FullStreet        lat        lon    neighborhood    zip  \n",
       "0       500 W MAIN ST  38.030793 -78.487912      Starr Hill  22903  \n",
       "1       100 2ND ST NW  38.031244 -78.482054   Downtown Mall  22902  \n",
       "2  800 E JEFFERSON ST  38.030798 -78.475416  North Downtown  22902  \n",
       "3    1000 PRESTON AVE  38.039155 -78.491633         Venable  22908  \n",
       "4      1200 CEDARS CT  38.055355 -78.501478     The Meadows  22903  "
      ]
     },
     "execution_count": 14,
     "metadata": {},
     "output_type": "execute_result"
    }
   ],
   "source": [
    "# Now drop the original BlockNumber and StreetName columns\n",
    "df.drop(columns=['BlockNumber', 'StreetName','HourAMPM','HourReported','DateString'], inplace=True)\n",
    "df[\"zip\"] = df[\"zip\"].astype(str)\n",
    "\n",
    "# Fill all missing values in the DataFrame with \"N/A\"\n",
    "df.replace({None: \"N/A\", np.nan: \"N/A\", \"\": \"N/A\"}, inplace=True)\n",
    "df.head()"
   ]
  },
  {
   "cell_type": "code",
   "execution_count": 15,
   "id": "fe1e0f06",
   "metadata": {
    "execution": {
     "iopub.execute_input": "2025-04-18T01:00:26.589328Z",
     "iopub.status.busy": "2025-04-18T01:00:26.588702Z",
     "iopub.status.idle": "2025-04-18T01:00:26.608934Z",
     "shell.execute_reply": "2025-04-18T01:00:26.608354Z"
    },
    "papermill": {
     "duration": 0.029285,
     "end_time": "2025-04-18T01:00:26.609966",
     "exception": false,
     "start_time": "2025-04-18T01:00:26.580681",
     "status": "completed"
    },
    "tags": []
   },
   "outputs": [
    {
     "name": "stdout",
     "output_type": "stream",
     "text": [
      "                  MissingCount  MissingPercentage\n",
      "RecordID                     0                0.0\n",
      "Offense                      0                0.0\n",
      "IncidentID                   0                0.0\n",
      "Agency                       0                0.0\n",
      "ReportingOfficer             0                0.0\n",
      "Date                         0                0.0\n",
      "DayOfWeek                    0                0.0\n",
      "Weekend                      0                0.0\n",
      "Season                       0                0.0\n",
      "TimeOfDay                    0                0.0\n",
      "FullStreet                   0                0.0\n",
      "lat                          0                0.0\n",
      "lon                          0                0.0\n",
      "neighborhood                 0                0.0\n",
      "zip                          0                0.0\n"
     ]
    }
   ],
   "source": [
    "missing_info = missing_percentage(df)\n",
    "print(missing_info)"
   ]
  },
  {
   "cell_type": "code",
   "execution_count": 16,
   "id": "a725f67d",
   "metadata": {
    "execution": {
     "iopub.execute_input": "2025-04-18T01:00:26.626208Z",
     "iopub.status.busy": "2025-04-18T01:00:26.625722Z",
     "iopub.status.idle": "2025-04-18T01:00:26.630238Z",
     "shell.execute_reply": "2025-04-18T01:00:26.629699Z"
    },
    "papermill": {
     "duration": 0.013725,
     "end_time": "2025-04-18T01:00:26.631220",
     "exception": false,
     "start_time": "2025-04-18T01:00:26.617495",
     "status": "completed"
    },
    "tags": []
   },
   "outputs": [
    {
     "data": {
      "text/plain": [
       "Index(['RecordID', 'Offense', 'IncidentID', 'Agency', 'ReportingOfficer',\n",
       "       'Date', 'DayOfWeek', 'Weekend', 'Season', 'TimeOfDay', 'FullStreet',\n",
       "       'lat', 'lon', 'neighborhood', 'zip'],\n",
       "      dtype='object')"
      ]
     },
     "execution_count": 16,
     "metadata": {},
     "output_type": "execute_result"
    }
   ],
   "source": [
    "df.columns"
   ]
  },
  {
   "cell_type": "code",
   "execution_count": 17,
   "id": "42453420",
   "metadata": {
    "execution": {
     "iopub.execute_input": "2025-04-18T01:00:26.647071Z",
     "iopub.status.busy": "2025-04-18T01:00:26.646850Z",
     "iopub.status.idle": "2025-04-18T01:00:26.668885Z",
     "shell.execute_reply": "2025-04-18T01:00:26.668276Z"
    },
    "papermill": {
     "duration": 0.031241,
     "end_time": "2025-04-18T01:00:26.670023",
     "exception": false,
     "start_time": "2025-04-18T01:00:26.638782",
     "status": "completed"
    },
    "tags": []
   },
   "outputs": [
    {
     "name": "stdout",
     "output_type": "stream",
     "text": [
      "<class 'pandas.core.frame.DataFrame'>\n",
      "RangeIndex: 25205 entries, 0 to 25204\n",
      "Data columns (total 15 columns):\n",
      " #   Column            Non-Null Count  Dtype         \n",
      "---  ------            --------------  -----         \n",
      " 0   RecordID          25205 non-null  int64         \n",
      " 1   Offense           25205 non-null  object        \n",
      " 2   IncidentID        25205 non-null  object        \n",
      " 3   Agency            25205 non-null  object        \n",
      " 4   ReportingOfficer  25205 non-null  object        \n",
      " 5   Date              25205 non-null  datetime64[ns]\n",
      " 6   DayOfWeek         25205 non-null  object        \n",
      " 7   Weekend           25205 non-null  bool          \n",
      " 8   Season            25205 non-null  object        \n",
      " 9   TimeOfDay         25205 non-null  object        \n",
      " 10  FullStreet        25205 non-null  object        \n",
      " 11  lat               25205 non-null  float64       \n",
      " 12  lon               25205 non-null  float64       \n",
      " 13  neighborhood      25205 non-null  object        \n",
      " 14  zip               25205 non-null  object        \n",
      "dtypes: bool(1), datetime64[ns](1), float64(2), int64(1), object(10)\n",
      "memory usage: 2.7+ MB\n"
     ]
    }
   ],
   "source": [
    "df.info()"
   ]
  },
  {
   "cell_type": "markdown",
   "id": "ec9f2cb4",
   "metadata": {
    "papermill": {
     "duration": 0.00745,
     "end_time": "2025-04-18T01:00:26.685380",
     "exception": false,
     "start_time": "2025-04-18T01:00:26.677930",
     "status": "completed"
    },
    "tags": []
   },
   "source": [
    "### Export Clean Data"
   ]
  },
  {
   "cell_type": "code",
   "execution_count": 18,
   "id": "05fd7873",
   "metadata": {
    "execution": {
     "iopub.execute_input": "2025-04-18T01:00:26.702140Z",
     "iopub.status.busy": "2025-04-18T01:00:26.701442Z",
     "iopub.status.idle": "2025-04-18T01:00:35.860922Z",
     "shell.execute_reply": "2025-04-18T01:00:35.860215Z"
    },
    "papermill": {
     "duration": 9.168987,
     "end_time": "2025-04-18T01:00:35.862042",
     "exception": false,
     "start_time": "2025-04-18T01:00:26.693055",
     "status": "completed"
    },
    "tags": []
   },
   "outputs": [
    {
     "name": "stdout",
     "output_type": "stream",
     "text": [
      "Project Root: /home/runner/work/crime-data/crime-data\n"
     ]
    },
    {
     "name": "stdout",
     "output_type": "stream",
     "text": [
      "Data saved to: /home/runner/work/crime-data/crime-data/data/charlottesville_crime_incidents.csv\n"
     ]
    },
    {
     "name": "stdout",
     "output_type": "stream",
     "text": [
      "Excel saved to: /home/runner/work/crime-data/crime-data/data/charlottesville_crime_incidents.xlsx\n"
     ]
    }
   ],
   "source": [
    "# Determine the project root (assuming papermill is run from the repository root)\n",
    "project_root = os.getcwd()\n",
    "print(\"Project Root:\", project_root)\n",
    "\n",
    "# Set the data directory within the project root\n",
    "data_dir = os.path.join(project_root, \"data\")\n",
    "\n",
    "# Ensure the \"data\" directory exists (create it if it doesn't)\n",
    "if not os.path.exists(data_dir):\n",
    "    os.makedirs(data_dir)\n",
    "\n",
    "# Export the DataFrame to CSV in the \"data\" folder located in the project root\n",
    "csv_path = os.path.join(data_dir, \"charlottesville_crime_incidents.csv\")\n",
    "df.to_csv(csv_path, index=False)\n",
    "print(\"Data saved to:\", csv_path)\n",
    "\n",
    "# Construct the path to your Excel file\n",
    "excel_path = os.path.join(data_dir, \"charlottesville_crime_incidents.xlsx\")\n",
    "\n",
    "# Export the DataFrame to Excel\n",
    "df.to_excel(excel_path, index=False)\n",
    "print(\"Excel saved to:\", excel_path)\n"
   ]
  },
  {
   "cell_type": "markdown",
   "id": "3c89c95d",
   "metadata": {
    "papermill": {
     "duration": 0.007803,
     "end_time": "2025-04-18T01:00:35.903903",
     "exception": false,
     "start_time": "2025-04-18T01:00:35.896100",
     "status": "completed"
    },
    "tags": []
   },
   "source": [
    "## Predictive Analytics"
   ]
  },
  {
   "cell_type": "code",
   "execution_count": 19,
   "id": "dfbfa656",
   "metadata": {
    "execution": {
     "iopub.execute_input": "2025-04-18T01:00:35.920695Z",
     "iopub.status.busy": "2025-04-18T01:00:35.920388Z",
     "iopub.status.idle": "2025-04-18T01:00:35.932807Z",
     "shell.execute_reply": "2025-04-18T01:00:35.932130Z"
    },
    "papermill": {
     "duration": 0.022172,
     "end_time": "2025-04-18T01:00:35.933918",
     "exception": false,
     "start_time": "2025-04-18T01:00:35.911746",
     "status": "completed"
    },
    "tags": []
   },
   "outputs": [
    {
     "data": {
      "text/html": [
       "<div>\n",
       "<style scoped>\n",
       "    .dataframe tbody tr th:only-of-type {\n",
       "        vertical-align: middle;\n",
       "    }\n",
       "\n",
       "    .dataframe tbody tr th {\n",
       "        vertical-align: top;\n",
       "    }\n",
       "\n",
       "    .dataframe thead th {\n",
       "        text-align: right;\n",
       "    }\n",
       "</style>\n",
       "<table border=\"1\" class=\"dataframe\">\n",
       "  <thead>\n",
       "    <tr style=\"text-align: right;\">\n",
       "      <th></th>\n",
       "      <th>RecordID</th>\n",
       "      <th>Offense</th>\n",
       "      <th>IncidentID</th>\n",
       "      <th>Agency</th>\n",
       "      <th>ReportingOfficer</th>\n",
       "      <th>Date</th>\n",
       "      <th>DayOfWeek</th>\n",
       "      <th>Weekend</th>\n",
       "      <th>Season</th>\n",
       "      <th>TimeOfDay</th>\n",
       "      <th>FullStreet</th>\n",
       "      <th>lat</th>\n",
       "      <th>lon</th>\n",
       "      <th>neighborhood</th>\n",
       "      <th>zip</th>\n",
       "    </tr>\n",
       "  </thead>\n",
       "  <tbody>\n",
       "    <tr>\n",
       "      <th>0</th>\n",
       "      <td>1</td>\n",
       "      <td>Larceny - Shoplifitng</td>\n",
       "      <td>202500012166</td>\n",
       "      <td>CPD</td>\n",
       "      <td>Essex, Dominique</td>\n",
       "      <td>2025-04-15 20:20:09</td>\n",
       "      <td>Tuesday</td>\n",
       "      <td>False</td>\n",
       "      <td>Spring</td>\n",
       "      <td>Evening</td>\n",
       "      <td>500 W MAIN ST</td>\n",
       "      <td>38.030793</td>\n",
       "      <td>-78.487912</td>\n",
       "      <td>Starr Hill</td>\n",
       "      <td>22903</td>\n",
       "    </tr>\n",
       "    <tr>\n",
       "      <th>1</th>\n",
       "      <td>2</td>\n",
       "      <td>Motor Vehicle Theft</td>\n",
       "      <td>202500012142</td>\n",
       "      <td>CPD</td>\n",
       "      <td>Bentz, Benjamin</td>\n",
       "      <td>2025-04-15 15:49:49</td>\n",
       "      <td>Tuesday</td>\n",
       "      <td>False</td>\n",
       "      <td>Spring</td>\n",
       "      <td>Afternoon</td>\n",
       "      <td>100 2ND ST NW</td>\n",
       "      <td>38.031244</td>\n",
       "      <td>-78.482054</td>\n",
       "      <td>Downtown Mall</td>\n",
       "      <td>22902</td>\n",
       "    </tr>\n",
       "    <tr>\n",
       "      <th>2</th>\n",
       "      <td>3</td>\n",
       "      <td>Vandalism</td>\n",
       "      <td>202500012150</td>\n",
       "      <td>CPD</td>\n",
       "      <td>Bentz, Benjamin</td>\n",
       "      <td>2025-04-15 15:39:31</td>\n",
       "      <td>Tuesday</td>\n",
       "      <td>False</td>\n",
       "      <td>Spring</td>\n",
       "      <td>Afternoon</td>\n",
       "      <td>800 E JEFFERSON ST</td>\n",
       "      <td>38.030798</td>\n",
       "      <td>-78.475416</td>\n",
       "      <td>North Downtown</td>\n",
       "      <td>22902</td>\n",
       "    </tr>\n",
       "    <tr>\n",
       "      <th>3</th>\n",
       "      <td>4</td>\n",
       "      <td>Fraud-wire fraud</td>\n",
       "      <td>202500012140</td>\n",
       "      <td>CPD</td>\n",
       "      <td>Mian, Ghulam</td>\n",
       "      <td>2025-04-15 15:24:25</td>\n",
       "      <td>Tuesday</td>\n",
       "      <td>False</td>\n",
       "      <td>Spring</td>\n",
       "      <td>Afternoon</td>\n",
       "      <td>1000 PRESTON AVE</td>\n",
       "      <td>38.039155</td>\n",
       "      <td>-78.491633</td>\n",
       "      <td>Venable</td>\n",
       "      <td>22908</td>\n",
       "    </tr>\n",
       "    <tr>\n",
       "      <th>4</th>\n",
       "      <td>5</td>\n",
       "      <td>Assault Simple</td>\n",
       "      <td>202500012135</td>\n",
       "      <td>CPD</td>\n",
       "      <td>Benbow, Lauren</td>\n",
       "      <td>2025-04-15 15:16:27</td>\n",
       "      <td>Tuesday</td>\n",
       "      <td>False</td>\n",
       "      <td>Spring</td>\n",
       "      <td>Afternoon</td>\n",
       "      <td>1200 CEDARS CT</td>\n",
       "      <td>38.055355</td>\n",
       "      <td>-78.501478</td>\n",
       "      <td>The Meadows</td>\n",
       "      <td>22903</td>\n",
       "    </tr>\n",
       "  </tbody>\n",
       "</table>\n",
       "</div>"
      ],
      "text/plain": [
       "   RecordID                Offense    IncidentID Agency  ReportingOfficer  \\\n",
       "0         1  Larceny - Shoplifitng  202500012166    CPD  Essex, Dominique   \n",
       "1         2    Motor Vehicle Theft  202500012142    CPD  Bentz, Benjamin    \n",
       "2         3              Vandalism  202500012150    CPD  Bentz, Benjamin    \n",
       "3         4       Fraud-wire fraud  202500012140    CPD      Mian, Ghulam   \n",
       "4         5         Assault Simple  202500012135    CPD    Benbow, Lauren   \n",
       "\n",
       "                 Date DayOfWeek  Weekend  Season  TimeOfDay  \\\n",
       "0 2025-04-15 20:20:09   Tuesday    False  Spring    Evening   \n",
       "1 2025-04-15 15:49:49   Tuesday    False  Spring  Afternoon   \n",
       "2 2025-04-15 15:39:31   Tuesday    False  Spring  Afternoon   \n",
       "3 2025-04-15 15:24:25   Tuesday    False  Spring  Afternoon   \n",
       "4 2025-04-15 15:16:27   Tuesday    False  Spring  Afternoon   \n",
       "\n",
       "           FullStreet        lat        lon    neighborhood    zip  \n",
       "0       500 W MAIN ST  38.030793 -78.487912      Starr Hill  22903  \n",
       "1       100 2ND ST NW  38.031244 -78.482054   Downtown Mall  22902  \n",
       "2  800 E JEFFERSON ST  38.030798 -78.475416  North Downtown  22902  \n",
       "3    1000 PRESTON AVE  38.039155 -78.491633         Venable  22908  \n",
       "4      1200 CEDARS CT  38.055355 -78.501478     The Meadows  22903  "
      ]
     },
     "execution_count": 19,
     "metadata": {},
     "output_type": "execute_result"
    }
   ],
   "source": [
    "df.head()"
   ]
  },
  {
   "cell_type": "code",
   "execution_count": 20,
   "id": "3f6fea3f",
   "metadata": {
    "execution": {
     "iopub.execute_input": "2025-04-18T01:00:35.951373Z",
     "iopub.status.busy": "2025-04-18T01:00:35.950798Z",
     "iopub.status.idle": "2025-04-18T01:00:35.955310Z",
     "shell.execute_reply": "2025-04-18T01:00:35.954791Z"
    },
    "papermill": {
     "duration": 0.014134,
     "end_time": "2025-04-18T01:00:35.956333",
     "exception": false,
     "start_time": "2025-04-18T01:00:35.942199",
     "status": "completed"
    },
    "tags": []
   },
   "outputs": [
    {
     "data": {
      "text/plain": [
       "Index(['RecordID', 'Offense', 'IncidentID', 'Agency', 'ReportingOfficer',\n",
       "       'Date', 'DayOfWeek', 'Weekend', 'Season', 'TimeOfDay', 'FullStreet',\n",
       "       'lat', 'lon', 'neighborhood', 'zip'],\n",
       "      dtype='object')"
      ]
     },
     "execution_count": 20,
     "metadata": {},
     "output_type": "execute_result"
    }
   ],
   "source": [
    "df.columns"
   ]
  },
  {
   "cell_type": "markdown",
   "id": "6ebacb85",
   "metadata": {
    "papermill": {
     "duration": 0.007859,
     "end_time": "2025-04-18T01:00:35.972300",
     "exception": false,
     "start_time": "2025-04-18T01:00:35.964441",
     "status": "completed"
    },
    "tags": []
   },
   "source": [
    "### Data Preparation\n",
    "\n",
    "We need to ensure the data is in the correct format for modeling and can handle missing values, categorical variables, and dates. Here's how to prepare your data:"
   ]
  },
  {
   "cell_type": "code",
   "execution_count": 21,
   "id": "39392954",
   "metadata": {
    "execution": {
     "iopub.execute_input": "2025-04-18T01:00:35.989373Z",
     "iopub.status.busy": "2025-04-18T01:00:35.988901Z",
     "iopub.status.idle": "2025-04-18T01:00:42.479908Z",
     "shell.execute_reply": "2025-04-18T01:00:42.479131Z"
    },
    "papermill": {
     "duration": 6.500983,
     "end_time": "2025-04-18T01:00:42.481208",
     "exception": false,
     "start_time": "2025-04-18T01:00:35.980225",
     "status": "completed"
    },
    "tags": []
   },
   "outputs": [],
   "source": [
    "import pandas as pd\n",
    "from sklearn.model_selection import train_test_split\n",
    "from sklearn.preprocessing import OneHotEncoder, LabelEncoder\n",
    "from sklearn.ensemble import RandomForestClassifier\n",
    "from sklearn.linear_model import LogisticRegression\n",
    "from sklearn.tree import DecisionTreeClassifier\n",
    "from sklearn.metrics import classification_report, accuracy_score\n",
    "import seaborn as sns\n",
    "import matplotlib.pyplot as plt\n",
    "\n",
    "# Convert 'Date' to datetime\n",
    "df['Date'] = pd.to_datetime(df['Date'])\n",
    "\n",
    "# Feature engineering: Extract additional time-based features\n",
    "df['Year'] = df['Date'].dt.year\n",
    "df['Month'] = df['Date'].dt.month\n",
    "df['DayOfMonth'] = df['Date'].dt.day\n",
    "\n",
    "# One-hot encoding for 'FullStreet', 'neighborhood', 'zip'\n",
    "df = pd.get_dummies(df, columns=['FullStreet', 'neighborhood', 'zip'], drop_first=True)\n",
    "\n",
    "# Label encoding for ordered variables (those with a natural order like 'DayOfWeek', 'Season', 'TimeOfDay')\n",
    "label_encoders = {}\n",
    "for column in ['DayOfWeek', 'Season', 'TimeOfDay', 'Agency', 'ReportingOfficer']:  # Example ordinal variables\n",
    "    le = LabelEncoder()\n",
    "    df[column] = le.fit_transform(df[column])\n",
    "    label_encoders[column] = le\n",
    "\n",
    "# Filter the dataset to include only the offenses of interest\n",
    "offenses_of_interest = [\n",
    "    'Hit and Run', 'Assault Simple', 'Suspicious Activity', 'Vandalism', \n",
    "    'Larceny - From Mot Vehicle', 'Larceny - All Other', \n",
    "    'Assist Citizen - Mental/TDO/ECO', 'Lost/FoundProperty'\n",
    "]\n",
    "\n",
    "df = df[df['Offense'].isin(offenses_of_interest)]\n",
    "\n",
    "# Label encode the target variable (Offense)\n",
    "offense_encoder = LabelEncoder()\n",
    "df['Offense'] = offense_encoder.fit_transform(df['Offense'])\n",
    "\n",
    "# Separate features (X) and target (y)\n",
    "X = df[['Year', 'Month', 'DayOfMonth', 'DayOfWeek', 'Weekend', 'Season', 'TimeOfDay', 'lat', 'lon', 'Agency', 'ReportingOfficer']]\n",
    "y = df['Offense']  # Offense is now the encoded target variable\n",
    "\n",
    "# Split the data into training and testing sets\n",
    "X_train, X_test, y_train, y_test = train_test_split(X, y, test_size=0.3, random_state=42)\n"
   ]
  },
  {
   "cell_type": "markdown",
   "id": "5f7ed550",
   "metadata": {
    "papermill": {
     "duration": 0.008023,
     "end_time": "2025-04-18T01:00:42.497637",
     "exception": false,
     "start_time": "2025-04-18T01:00:42.489614",
     "status": "completed"
    },
    "tags": []
   },
   "source": [
    "### Model Training\n",
    "\n",
    "Here we will train several models (e.g., Random Forest, Logistic Regression, and Decision Tree). We will use cross-validation to choose the best model based on accuracy, and then explain the impact of the variables."
   ]
  },
  {
   "cell_type": "code",
   "execution_count": 22,
   "id": "c53a69a7",
   "metadata": {
    "execution": {
     "iopub.execute_input": "2025-04-18T01:00:42.515168Z",
     "iopub.status.busy": "2025-04-18T01:00:42.514437Z",
     "iopub.status.idle": "2025-04-18T01:00:46.036195Z",
     "shell.execute_reply": "2025-04-18T01:00:46.035614Z"
    },
    "papermill": {
     "duration": 3.531667,
     "end_time": "2025-04-18T01:00:46.037277",
     "exception": false,
     "start_time": "2025-04-18T01:00:42.505610",
     "status": "completed"
    },
    "tags": []
   },
   "outputs": [
    {
     "name": "stderr",
     "output_type": "stream",
     "text": [
      "/opt/hostedtoolcache/Python/3.9.22/x64/lib/python3.9/site-packages/sklearn/linear_model/_logistic.py:465: ConvergenceWarning: lbfgs failed to converge (status=1):\n",
      "STOP: TOTAL NO. of ITERATIONS REACHED LIMIT.\n",
      "\n",
      "Increase the number of iterations (max_iter) or scale the data as shown in:\n",
      "    https://scikit-learn.org/stable/modules/preprocessing.html\n",
      "Please also refer to the documentation for alternative solver options:\n",
      "    https://scikit-learn.org/stable/modules/linear_model.html#logistic-regression\n",
      "  n_iter_i = _check_optimize_result(\n",
      "/opt/hostedtoolcache/Python/3.9.22/x64/lib/python3.9/site-packages/sklearn/metrics/_classification.py:1565: UndefinedMetricWarning: Precision is ill-defined and being set to 0.0 in labels with no predicted samples. Use `zero_division` parameter to control this behavior.\n",
      "  _warn_prf(average, modifier, f\"{metric.capitalize()} is\", len(result))\n",
      "/opt/hostedtoolcache/Python/3.9.22/x64/lib/python3.9/site-packages/sklearn/metrics/_classification.py:1565: UndefinedMetricWarning: Precision is ill-defined and being set to 0.0 in labels with no predicted samples. Use `zero_division` parameter to control this behavior.\n",
      "  _warn_prf(average, modifier, f\"{metric.capitalize()} is\", len(result))\n",
      "/opt/hostedtoolcache/Python/3.9.22/x64/lib/python3.9/site-packages/sklearn/metrics/_classification.py:1565: UndefinedMetricWarning: Precision is ill-defined and being set to 0.0 in labels with no predicted samples. Use `zero_division` parameter to control this behavior.\n",
      "  _warn_prf(average, modifier, f\"{metric.capitalize()} is\", len(result))\n"
     ]
    },
    {
     "name": "stdout",
     "output_type": "stream",
     "text": [
      "\n",
      "Classification Report for All Models:\n",
      "\n",
      "Model: RandomForest\n",
      "Accuracy: 0.2832\n",
      "              precision    recall  f1-score      support\n",
      "0              0.282640  0.331092  0.304954   595.000000\n",
      "1              0.279141  0.233333  0.254190   390.000000\n",
      "2              0.298493  0.484709  0.369464   654.000000\n",
      "3              0.242424  0.153191  0.187744   470.000000\n",
      "4              0.347639  0.223757  0.272269   362.000000\n",
      "5              0.240741  0.208000  0.223176   500.000000\n",
      "6              0.285366  0.240741  0.261161   486.000000\n",
      "accuracy       0.283194  0.283194  0.283194     0.283194\n",
      "macro avg      0.282349  0.267832  0.267565  3457.000000\n",
      "weighted avg   0.280906  0.283194  0.274089  3457.000000\n"
     ]
    },
    {
     "data": {
      "image/png": "[encoded data removed]",
      "text/plain": [
       "<Figure size 800x600 with 2 Axes>"
      ]
     },
     "metadata": {},
     "output_type": "display_data"
    },
    {
     "name": "stdout",
     "output_type": "stream",
     "text": [
      "\n",
      "Model: LogisticRegression\n",
      "Accuracy: 0.2216\n",
      "              precision    recall  f1-score      support\n",
      "0              0.226107  0.489076  0.309245   595.000000\n",
      "1              0.000000  0.000000  0.000000   390.000000\n",
      "2              0.218995  0.726300  0.336521   654.000000\n",
      "3              0.000000  0.000000  0.000000   470.000000\n",
      "4              0.000000  0.000000  0.000000   362.000000\n",
      "5              0.000000  0.000000  0.000000   500.000000\n",
      "6              0.000000  0.000000  0.000000   486.000000\n",
      "accuracy       0.221579  0.221579  0.221579     0.221579\n",
      "macro avg      0.063586  0.173625  0.092252  3457.000000\n",
      "weighted avg   0.080346  0.221579  0.116889  3457.000000\n"
     ]
    },
    {
     "data": {
      "image/png": "[encoded data removed]",
      "text/plain": [
       "<Figure size 800x600 with 2 Axes>"
      ]
     },
     "metadata": {},
     "output_type": "display_data"
    },
    {
     "name": "stdout",
     "output_type": "stream",
     "text": [
      "\n",
      "Model: DecisionTree\n",
      "Accuracy: 0.2314\n",
      "              precision    recall  f1-score      support\n",
      "0              0.269231  0.247059  0.257669   595.000000\n",
      "1              0.235981  0.258974  0.246944   390.000000\n",
      "2              0.255464  0.285933  0.269841   654.000000\n",
      "3              0.190578  0.189362  0.189968   470.000000\n",
      "4              0.213213  0.196133  0.204317   362.000000\n",
      "5              0.217647  0.222000  0.219802   500.000000\n",
      "6              0.213152  0.193416  0.202805   486.000000\n",
      "accuracy       0.231415  0.231415  0.231415     0.231415\n",
      "macro avg      0.227895  0.227554  0.227335  3457.000000\n",
      "weighted avg   0.230972  0.231415  0.230781  3457.000000\n"
     ]
    },
    {
     "data": {
      "image/png": "[encoded data removed]",
      "text/plain": [
       "<Figure size 800x600 with 2 Axes>"
      ]
     },
     "metadata": {},
     "output_type": "display_data"
    },
    {
     "name": "stdout",
     "output_type": "stream",
     "text": [
      "\n",
      "Best Model:\n",
      "Best Model: RandomForestClassifier()\n",
      "Best Model Accuracy: 0.2832\n"
     ]
    }
   ],
   "source": [
    "import pandas as pd\n",
    "from sklearn.model_selection import train_test_split\n",
    "from sklearn.ensemble import RandomForestClassifier\n",
    "from sklearn.linear_model import LogisticRegression\n",
    "from sklearn.tree import DecisionTreeClassifier\n",
    "from sklearn.metrics import classification_report, accuracy_score, confusion_matrix\n",
    "import seaborn as sns\n",
    "import matplotlib.pyplot as plt\n",
    "\n",
    "# Define models\n",
    "models = {\n",
    "    'RandomForest': RandomForestClassifier(),\n",
    "    'LogisticRegression': LogisticRegression(max_iter=1000),\n",
    "    'DecisionTree': DecisionTreeClassifier()\n",
    "}\n",
    "\n",
    "# Train models and evaluate them\n",
    "best_model = None\n",
    "best_score = 0\n",
    "model_reports = {}\n",
    "\n",
    "for model_name, model in models.items():\n",
    "    model.fit(X_train, y_train)  # Train model\n",
    "    y_pred = model.predict(X_test)  # Make predictions\n",
    "    \n",
    "    # Calculate accuracy and generate classification report\n",
    "    accuracy = accuracy_score(y_test, y_pred)\n",
    "    model_reports[model_name] = classification_report(y_test, y_pred, output_dict=True)  # Store as a dictionary for easier analysis\n",
    "    \n",
    "    # Track best performing model\n",
    "    if accuracy > best_score:\n",
    "        best_score = accuracy\n",
    "        best_model = model\n",
    "\n",
    "# Display classification reports and confusion matrices\n",
    "print(\"\\nClassification Report for All Models:\")\n",
    "for model_name, report in model_reports.items():\n",
    "    print(f\"\\nModel: {model_name}\")\n",
    "    print(\"Accuracy: {:.4f}\".format(accuracy_score(y_test, models[model_name].predict(X_test))))  # Display accuracy\n",
    "    print(pd.DataFrame(report).transpose())  # Display classification report as a DataFrame\n",
    "\n",
    "    # Plot Confusion Matrix\n",
    "    cm = confusion_matrix(y_test, models[model_name].predict(X_test))\n",
    "    plt.figure(figsize=(8, 6))\n",
    "    sns.heatmap(cm, annot=True, fmt=\"d\", cmap='Blues', xticklabels=offense_encoder.classes_, yticklabels=offense_encoder.classes_)\n",
    "    plt.title(f\"Confusion Matrix - {model_name}\")\n",
    "    plt.xlabel('Predicted Labels')\n",
    "    plt.ylabel('True Labels')\n",
    "    plt.show()\n",
    "\n",
    "# Display best model details\n",
    "print(\"\\nBest Model:\")\n",
    "print(f\"Best Model: {best_model}\")\n",
    "print(f\"Best Model Accuracy: {best_score:.4f}\")\n"
   ]
  },
  {
   "cell_type": "markdown",
   "id": "6b160455",
   "metadata": {
    "papermill": {
     "duration": 0.01069,
     "end_time": "2025-04-18T01:00:46.059497",
     "exception": false,
     "start_time": "2025-04-18T01:00:46.048807",
     "status": "completed"
    },
    "tags": []
   },
   "source": [
    "#### Classification Report for All Models:\n",
    "\n",
    "### Explanation of the Classification Results (RandomForest Model)\n",
    "\n",
    "The results you provided are from a **Random Forest** model, which is used for predicting different types of offenses. Let's break down the key components of the results:\n",
    "\n",
    "#### 1. **Accuracy: 0.2822**\n",
    "   - **Accuracy** measures the overall percentage of correct predictions made by the model. An accuracy of 28.22% means the model correctly predicted the offense in about 28% of the cases. This indicates the model's predictions are not highly reliable, as the accuracy is quite low.\n",
    "\n",
    "#### 2. **Classification Report:**\n",
    "   The classification report includes precision, recall, and F1-score for each offense. Let's go over these terms and how they apply to the results:\n",
    "\n",
    "   - **Precision**: The proportion of true positive predictions out of all positive predictions made by the model for a specific class (offense).\n",
    "   - **Recall**: The proportion of true positive predictions out of all actual positive instances in the dataset.\n",
    "   - **F1-Score**: The harmonic mean of precision and recall, providing a balance between the two metrics.\n",
    "   - **Support**: The number of actual occurrences of each class in the test set.\n",
    "\n",
    "   Let's analyze each offense based on these metrics:\n",
    "\n",
    "   | **Offense**                        | **Precision** | **Recall** | **F1-Score** | **Support** |\n",
    "   |------------------------------------|---------------|------------|--------------|-------------|\n",
    "   | **Assault Simple**                 | 0.2892        | 0.3754     | 0.3267       | 594         |\n",
    "   | **Assist Citizen - Mental/TDO/ECO**| 0.3182        | 0.2274     | 0.2652       | 431         |\n",
    "   | **Hit and Run**                    | 0.2963        | 0.4765     | 0.3654       | 638         |\n",
    "   | **Larceny - All Other**            | 0.2270        | 0.1453     | 0.1772       | 475         |\n",
    "   | **Lost/FoundProperty**             | 0.3333        | 0.2102     | 0.2578       | 352         |\n",
    "   | **Suspicious Activity**            | 0.2344        | 0.2169     | 0.2253       | 484         |\n",
    "   | **Vandalism**                      | 0.2712        | 0.2106     | 0.2371       | 470         |\n",
    "\n",
    "#### 3. **Key Insights from the Report:**\n",
    "\n",
    "- **Precision**:\n",
    "   - The highest precision is for **Larceny - All Other** (0.3333), indicating that when the model predicts this offense, it is correct about 33% of the time. However, this is still quite low.\n",
    "   - **Assist Citizen - Mental/TDO/ECO** has the lowest precision (0.2269), meaning that the model's predictions for this offense tend to be wrong more often than correct.\n",
    "\n",
    "- **Recall**:\n",
    "   - **Hit and Run** has the highest recall (0.4765), meaning the model identifies about 48% of the actual occurrences of this offense. This is better than the precision, which indicates it is missing many true positives but is still able to identify a fair number of cases.\n",
    "   - **Larceny - All Other** and **Suspicious Activity** have the lowest recall values (0.1453 and 0.2169, respectively), indicating that the model is failing to identify most of the actual cases for these offenses.\n",
    "\n",
    "- **F1-Score**:\n",
    "   - The **F1-Score** balances precision and recall. It is highest for **Hit and Run** (0.3654), but still relatively low overall. This suggests the model is better at identifying **Hit and Run** than other offenses but still has room for improvement.\n",
    "   - **Larceny - All Other** has the lowest F1-Score (0.1772), indicating a poor balance between precision and recall for this offense.\n",
    "\n",
    "#### 4. **Macro Average and Weighted Average:**\n",
    "   - **Macro Average**: This gives the average precision, recall, and F1-Score across all classes (offenses) without considering the class distribution. It averages the results for all offenses equally.\n",
    "     - Precision: 0.2814\n",
    "     - Recall: 0.2661\n",
    "     - F1-Score: 0.2649\n",
    "   - **Weighted Average**: This averages the metrics but weighs each class by its support (the number of true instances in the test set). This gives a better sense of overall performance, considering the class distribution.\n",
    "     - Precision: 0.2799\n",
    "     - Recall: 0.2822\n",
    "     - F1-Score: 0.2720\n",
    "\n",
    "#### 5. **Confusion Matrix (Visualization Analysis)**:\n",
    "   - The confusion matrix shows the distribution of true positive, false positive, true negative, and false negative predictions for each class.\n",
    "     - For **Hit and Run**, the model performs relatively well in identifying this offense (304 true positives). However, it also misclassifies some **Hit and Run** instances as other offenses (e.g., **Assault Simple**, **Suspicious Activity**, etc.).\n",
    "     - **Larceny - All Other** is frequently misclassified as **Hit and Run**, **Suspicious Activity**, and others. This is evident from the large number of off-diagonal elements in its row.\n",
    "     - **Assist Citizen - Mental/TDO/ECO** and **Suspicious Activity** are frequently misclassified, as seen by the off-diagonal values in their rows.\n",
    "\n",
    "### Conclusion:\n",
    "The Random Forest model has low accuracy (28.22%), suggesting that it struggles to predict most offenses accurately. Some offenses like **Hit and Run** are better predicted than others, but overall, the model shows a high level of misclassification across all offenses. There may be a need for further tuning of the model, additional feature engineering, or trying different models for better performance.\n",
    "\n",
    "Let me know if you'd like to improve the model or make adjustments based on these results!\n",
    "\n"
   ]
  },
  {
   "cell_type": "markdown",
   "id": "6549782a",
   "metadata": {
    "papermill": {
     "duration": 0.010589,
     "end_time": "2025-04-18T01:00:46.080775",
     "exception": false,
     "start_time": "2025-04-18T01:00:46.070186",
     "status": "completed"
    },
    "tags": []
   },
   "source": [
    "### Model Explanation\n",
    "\n",
    "Once we’ve chosen the best model, we will explain its predictions by examining feature importance for tree-based models and using statistical methods like logistic regression coefficients for linear models."
   ]
  },
  {
   "cell_type": "markdown",
   "id": "64769cec",
   "metadata": {
    "papermill": {
     "duration": 0.010574,
     "end_time": "2025-04-18T01:00:46.101964",
     "exception": false,
     "start_time": "2025-04-18T01:00:46.091390",
     "status": "completed"
    },
    "tags": []
   },
   "source": [
    "#### Feature Importance for Random Forest / Decision Tree\n",
    "\n",
    "##### For Tree-based Models (Random Forest, Decision Tree)\n",
    "\n",
    "For Random Forest or Decision Tree, we can look at feature importance to understand which variables contribute the most to the model's predictions. Here's how you can visualize and interpret the importance of each feature:"
   ]
  },
  {
   "cell_type": "code",
   "execution_count": 23,
   "id": "9d13befc",
   "metadata": {
    "execution": {
     "iopub.execute_input": "2025-04-18T01:00:46.124611Z",
     "iopub.status.busy": "2025-04-18T01:00:46.124164Z",
     "iopub.status.idle": "2025-04-18T01:00:46.289189Z",
     "shell.execute_reply": "2025-04-18T01:00:46.288578Z"
    },
    "papermill": {
     "duration": 0.177666,
     "end_time": "2025-04-18T01:00:46.290209",
     "exception": false,
     "start_time": "2025-04-18T01:00:46.112543",
     "status": "completed"
    },
    "tags": []
   },
   "outputs": [
    {
     "data": {
      "image/png": "[encoded data removed]",
      "text/plain": [
       "<Figure size 1000x600 with 1 Axes>"
      ]
     },
     "metadata": {},
     "output_type": "display_data"
    }
   ],
   "source": [
    "# For RandomForest or DecisionTree models, we can check feature importance\n",
    "if isinstance(best_model, RandomForestClassifier) or isinstance(best_model, DecisionTreeClassifier):\n",
    "    feature_importance = best_model.feature_importances_\n",
    "    feature_names = X.columns\n",
    "    importance_df = pd.DataFrame({'Feature': feature_names, 'Importance': feature_importance})\n",
    "    importance_df = importance_df.sort_values(by='Importance', ascending=False)\n",
    "    \n",
    "    # Plotting the feature importances\n",
    "    plt.figure(figsize=(10, 6))\n",
    "    sns.barplot(x='Importance', y='Feature', data=importance_df)\n",
    "    plt.title(\"Feature Importance\")\n",
    "    plt.show()\n"
   ]
  },
  {
   "cell_type": "code",
   "execution_count": null,
   "id": "39fbd34b",
   "metadata": {
    "papermill": {
     "duration": 0.011084,
     "end_time": "2025-04-18T01:00:46.312721",
     "exception": false,
     "start_time": "2025-04-18T01:00:46.301637",
     "status": "completed"
    },
    "tags": []
   },
   "outputs": [],
   "source": []
  },
  {
   "cell_type": "markdown",
   "id": "739052df",
   "metadata": {
    "papermill": {
     "duration": 0.010912,
     "end_time": "2025-04-18T01:00:46.334644",
     "exception": false,
     "start_time": "2025-04-18T01:00:46.323732",
     "status": "completed"
    },
    "tags": []
   },
   "source": [
    "### Evaluation\n",
    "\n",
    "After training the models and examining their performance, we evaluate the chosen model based on metrics like accuracy, precision, recall, and F1 score.\n",
    "\n"
   ]
  },
  {
   "cell_type": "code",
   "execution_count": 24,
   "id": "130b7b17",
   "metadata": {
    "execution": {
     "iopub.execute_input": "2025-04-18T01:00:46.358055Z",
     "iopub.status.busy": "2025-04-18T01:00:46.357787Z",
     "iopub.status.idle": "2025-04-18T01:00:46.445817Z",
     "shell.execute_reply": "2025-04-18T01:00:46.445096Z"
    },
    "papermill": {
     "duration": 0.10116,
     "end_time": "2025-04-18T01:00:46.446899",
     "exception": false,
     "start_time": "2025-04-18T01:00:46.345739",
     "status": "completed"
    },
    "tags": []
   },
   "outputs": [
    {
     "name": "stdout",
     "output_type": "stream",
     "text": [
      "Accuracy: 0.2832\n",
      "Classification Report:\n",
      "              precision    recall  f1-score   support\n",
      "\n",
      "           0       0.28      0.33      0.30       595\n",
      "           1       0.28      0.23      0.25       390\n",
      "           2       0.30      0.48      0.37       654\n",
      "           3       0.24      0.15      0.19       470\n",
      "           4       0.35      0.22      0.27       362\n",
      "           5       0.24      0.21      0.22       500\n",
      "           6       0.29      0.24      0.26       486\n",
      "\n",
      "    accuracy                           0.28      3457\n",
      "   macro avg       0.28      0.27      0.27      3457\n",
      "weighted avg       0.28      0.28      0.27      3457\n",
      "\n",
      "Confusion Matrix:\n",
      "[[197  63 170  43  21  55  46]\n",
      " [ 93  91  93  26  22  37  28]\n",
      " [102  43 317  42  16  75  59]\n",
      " [ 71  29 146  72  27  60  65]\n",
      " [ 47  22  88  33  81  35  56]\n",
      " [109  42 135  43  28 104  39]\n",
      " [ 78  36 113  38  38  66 117]]\n",
      "Precision: 0.2809\n",
      "Recall: 0.2832\n",
      "F1 Score: 0.2741\n"
     ]
    }
   ],
   "source": [
    "from sklearn.metrics import classification_report, confusion_matrix, accuracy_score, precision_score, recall_score, f1_score\n",
    "\n",
    "# Predict on the test set\n",
    "y_pred = best_model.predict(X_test)\n",
    "\n",
    "# Calculate Accuracy\n",
    "accuracy = accuracy_score(y_test, y_pred)\n",
    "print(f\"Accuracy: {accuracy:.4f}\")\n",
    "\n",
    "# Classification Report\n",
    "print(\"Classification Report:\")\n",
    "print(classification_report(y_test, y_pred))\n",
    "\n",
    "# Confusion Matrix\n",
    "conf_matrix = confusion_matrix(y_test, y_pred)\n",
    "print(\"Confusion Matrix:\")\n",
    "print(conf_matrix)\n",
    "\n",
    "# Precision, Recall, F1 Score for each class (Offense Type)\n",
    "precision = precision_score(y_test, y_pred, average='weighted')\n",
    "recall = recall_score(y_test, y_pred, average='weighted')\n",
    "f1 = f1_score(y_test, y_pred, average='weighted')\n",
    "\n",
    "print(f\"Precision: {precision:.4f}\")\n",
    "print(f\"Recall: {recall:.4f}\")\n",
    "print(f\"F1 Score: {f1:.4f}\")\n"
   ]
  },
  {
   "cell_type": "markdown",
   "id": "c84e1613",
   "metadata": {
    "papermill": {
     "duration": 0.011081,
     "end_time": "2025-04-18T01:00:46.469539",
     "exception": false,
     "start_time": "2025-04-18T01:00:46.458458",
     "status": "completed"
    },
    "tags": []
   },
   "source": [
    "#### For Logistic Regression (Coefficient Interpretation)\n",
    "\n",
    "For Logistic Regression, the model coefficients can help us understand how each feature affects the likelihood of an offense happening. A positive coefficient indicates a feature increases the likelihood of the offense, and a negative coefficient indicates the opposite."
   ]
  },
  {
   "cell_type": "code",
   "execution_count": 25,
   "id": "ab0c3b64",
   "metadata": {
    "execution": {
     "iopub.execute_input": "2025-04-18T01:00:46.493225Z",
     "iopub.status.busy": "2025-04-18T01:00:46.492818Z",
     "iopub.status.idle": "2025-04-18T01:00:46.497540Z",
     "shell.execute_reply": "2025-04-18T01:00:46.497008Z"
    },
    "papermill": {
     "duration": 0.017842,
     "end_time": "2025-04-18T01:00:46.498527",
     "exception": false,
     "start_time": "2025-04-18T01:00:46.480685",
     "status": "completed"
    },
    "tags": []
   },
   "outputs": [],
   "source": [
    "if isinstance(best_model, LogisticRegression):\n",
    "    # Logistic regression coefficients\n",
    "    coef_df = pd.DataFrame({\n",
    "        'Feature': X.columns,\n",
    "        'Coefficient': best_model.coef_[0]\n",
    "    })\n",
    "    coef_df['AbsCoefficient'] = coef_df['Coefficient'].abs()\n",
    "    coef_df = coef_df.sort_values(by='AbsCoefficient', ascending=False)\n",
    "    \n",
    "    # Plotting the coefficients\n",
    "    plt.figure(figsize=(10, 6))\n",
    "    sns.barplot(x='AbsCoefficient', y='Feature', data=coef_df)\n",
    "    plt.title(\"Logistic Regression Coefficients Impact\")\n",
    "    plt.show()\n",
    "\n",
    "    # Print the top 5 most impactful features (by absolute coefficient value)\n",
    "    print(\"Top 5 most impactful features based on coefficients:\")\n",
    "    print(coef_df.head())\n"
   ]
  },
  {
   "cell_type": "markdown",
   "id": "bb3bcc20",
   "metadata": {
    "papermill": {
     "duration": 0.011105,
     "end_time": "2025-04-18T01:00:46.521015",
     "exception": false,
     "start_time": "2025-04-18T01:00:46.509910",
     "status": "completed"
    },
    "tags": []
   },
   "source": [
    "Explanation of Output:\n",
    "\n",
    "Feature Importance (Random Forest/Decision Tree): The bar plot will show how important each feature is in the decision-making process. Features at the top of the list are the most influential in predicting the occurrence of offenses.\n",
    "\n",
    "Logistic Regression Coefficients: The bar plot will show the magnitude of the coefficients for each feature. Features with larger absolute values (either positive or negative) have a stronger impact on the model’s predictions. Positive coefficients increase the probability of an offense, while negative coefficients decrease it."
   ]
  },
  {
   "cell_type": "markdown",
   "id": "a85b77bf",
   "metadata": {
    "papermill": {
     "duration": 0.011134,
     "end_time": "2025-04-18T01:00:46.543255",
     "exception": false,
     "start_time": "2025-04-18T01:00:46.532121",
     "status": "completed"
    },
    "tags": []
   },
   "source": []
  }
 ],
 "metadata": {
  "kernelspec": {
   "display_name": "Python 3",
   "language": "python",
   "name": "python3"
  },
  "language_info": {
   "codemirror_mode": {
    "name": "ipython",
    "version": 3
   },
   "file_extension": ".py",
   "mimetype": "text/x-python",
   "name": "python",
   "nbconvert_exporter": "python",
   "pygments_lexer": "ipython3",
   "version": "3.9.22"
  },
  "papermill": {
   "default_parameters": {},
   "duration": 84.508029,
   "end_time": "2025-04-18T01:00:47.071152",
   "environment_variables": {},
   "exception": null,
   "input_path": "notebook/Crime Data.ipynb",
   "output_path": "notebook/Crime Data_output.ipynb",
   "parameters": {},
   "start_time": "2025-04-18T00:59:22.563123",
   "version": "2.6.0"
  }
 },
 "nbformat": 4,
 "nbformat_minor": 5
}