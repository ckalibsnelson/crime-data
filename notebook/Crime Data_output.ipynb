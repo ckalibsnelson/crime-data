{
 "cells": [
  {
   "cell_type": "markdown",
   "id": "aed6a412",
   "metadata": {
    "papermill": {
     "duration": 0.006194,
     "end_time": "2025-05-19T01:05:54.562170",
     "exception": false,
     "start_time": "2025-05-19T01:05:54.555976",
     "status": "completed"
    },
    "tags": []
   },
   "source": [
    "# Charlottesville Open Data Porttal: Crime Data"
   ]
  },
  {
   "cell_type": "markdown",
   "id": "6018d1b7",
   "metadata": {
    "papermill": {
     "duration": 0.00493,
     "end_time": "2025-05-19T01:05:54.572883",
     "exception": false,
     "start_time": "2025-05-19T01:05:54.567953",
     "status": "completed"
    },
    "tags": []
   },
   "source": [
    "## Import Relevant Librarires & Set WD"
   ]
  },
  {
   "cell_type": "code",
   "execution_count": 1,
   "id": "57ea08a7",
   "metadata": {
    "execution": {
     "iopub.execute_input": "2025-05-19T01:05:54.584671Z",
     "iopub.status.busy": "2025-05-19T01:05:54.583974Z",
     "iopub.status.idle": "2025-05-19T01:05:55.245598Z",
     "shell.execute_reply": "2025-05-19T01:05:55.244869Z"
    },
    "papermill": {
     "duration": 0.669024,
     "end_time": "2025-05-19T01:05:55.247029",
     "exception": false,
     "start_time": "2025-05-19T01:05:54.578005",
     "status": "completed"
    },
    "tags": []
   },
   "outputs": [],
   "source": [
    "import requests\n",
    "import pandas as pd\n",
    "import numpy as np\n",
    "import pickle\n",
    "import googlemaps\n",
    "import plotly.express as px\n",
    "from geopy.geocoders import Nominatim\n",
    "import time\n",
    "from dotenv import load_dotenv\n",
    "import os\n",
    "\n",
    "env_path = os.path.join(\"..\", \".env\")\n",
    "#print(\"Looking for .env file at:\", os.path.abspath(env_path))\n",
    "load_dotenv(dotenv_path=env_path)\n",
    "\n",
    "# Retrieve the variables\n",
    "GOOGLE_API_KEY = os.getenv(\"GOOGLE_API_KEY\")\n",
    "WORKING_DIR = os.getenv(\"WORKING_DIR\")\n",
    "\n",
    "if GOOGLE_API_KEY is None or WORKING_DIR is None:\n",
    "    raise RuntimeError(\"No configuration found. Please ensure that your .env file exists with the required variables, or create a local config.py file.\")\n",
    "\n",
    "#print(\"Google API Key:\", GOOGLE_API_KEY)\n",
    "#print(\"Working Directory:\", WORKING_DIR)"
   ]
  },
  {
   "cell_type": "markdown",
   "id": "05099bb8",
   "metadata": {
    "papermill": {
     "duration": 0.005126,
     "end_time": "2025-05-19T01:05:55.257661",
     "exception": false,
     "start_time": "2025-05-19T01:05:55.252535",
     "status": "completed"
    },
    "tags": []
   },
   "source": [
    "## Import Data\n",
    "\n",
    "URL: https://opendata.charlottesville.org/datasets/charlottesville::crime-data/about"
   ]
  },
  {
   "cell_type": "code",
   "execution_count": 2,
   "id": "f91ebd4b",
   "metadata": {
    "execution": {
     "iopub.execute_input": "2025-05-19T01:05:55.269731Z",
     "iopub.status.busy": "2025-05-19T01:05:55.269210Z",
     "iopub.status.idle": "2025-05-19T01:06:51.761138Z",
     "shell.execute_reply": "2025-05-19T01:06:51.760420Z"
    },
    "papermill": {
     "duration": 56.531599,
     "end_time": "2025-05-19T01:06:51.795002",
     "exception": false,
     "start_time": "2025-05-19T01:05:55.263403",
     "status": "completed"
    },
    "tags": []
   },
   "outputs": [
    {
     "name": "stdout",
     "output_type": "stream",
     "text": [
      "Total records imported: 25394\n"
     ]
    }
   ],
   "source": [
    "# Define the endpoint and initial parameters.\n",
    "url = \"https://gisweb.charlottesville.org/arcgis/rest/services/OpenData_2/MapServer/6/query\"\n",
    "params = {\n",
    "    \"where\": \"1=1\",\n",
    "    \"outFields\": \"*\",\n",
    "    \"outSR\": 4326,\n",
    "    \"f\": \"json\",\n",
    "    \"resultOffset\": 0,       # Starting index for results\n",
    "    \"resultRecordCount\": 10000  # Maximum records per batch (if allowed by the API)\n",
    "}\n",
    "\n",
    "records = []\n",
    "\n",
    "while True:\n",
    "    response = requests.get(url, params=params)\n",
    "    response.raise_for_status()\n",
    "    data = response.json()\n",
    "    \n",
    "    # Get the current batch of features.\n",
    "    features = data.get(\"features\", [])\n",
    "    if not features:\n",
    "        break\n",
    "\n",
    "    # Extract the attributes from the features.\n",
    "    batch_records = [feature.get(\"attributes\", {}) for feature in features]\n",
    "    records.extend(batch_records)\n",
    "    \n",
    "    # If the batch size is less than the requested count, we reached the end.\n",
    "    if len(features) < params[\"resultRecordCount\"]:\n",
    "        break\n",
    "\n",
    "    # Update the resultOffset for the next batch.\n",
    "    params[\"resultOffset\"] += params[\"resultRecordCount\"]\n",
    "\n",
    "# Create a DataFrame from the combined records.\n",
    "df = pd.DataFrame(records)\n",
    "print(\"Total records imported:\", len(df))\n"
   ]
  },
  {
   "cell_type": "code",
   "execution_count": 3,
   "id": "3e743a2f",
   "metadata": {
    "execution": {
     "iopub.execute_input": "2025-05-19T01:06:51.807292Z",
     "iopub.status.busy": "2025-05-19T01:06:51.806597Z",
     "iopub.status.idle": "2025-05-19T01:06:51.819851Z",
     "shell.execute_reply": "2025-05-19T01:06:51.818896Z"
    },
    "papermill": {
     "duration": 0.020638,
     "end_time": "2025-05-19T01:06:51.821062",
     "exception": false,
     "start_time": "2025-05-19T01:06:51.800424",
     "status": "completed"
    },
    "tags": []
   },
   "outputs": [
    {
     "data": {
      "text/html": [
       "<div>\n",
       "<style scoped>\n",
       "    .dataframe tbody tr th:only-of-type {\n",
       "        vertical-align: middle;\n",
       "    }\n",
       "\n",
       "    .dataframe tbody tr th {\n",
       "        vertical-align: top;\n",
       "    }\n",
       "\n",
       "    .dataframe thead th {\n",
       "        text-align: right;\n",
       "    }\n",
       "</style>\n",
       "<table border=\"1\" class=\"dataframe\">\n",
       "  <thead>\n",
       "    <tr style=\"text-align: right;\">\n",
       "      <th></th>\n",
       "      <th>RecordID</th>\n",
       "      <th>Offense</th>\n",
       "      <th>IncidentID</th>\n",
       "      <th>BlockNumber</th>\n",
       "      <th>StreetName</th>\n",
       "      <th>Agency</th>\n",
       "      <th>DateReported</th>\n",
       "      <th>HourReported</th>\n",
       "      <th>ReportingOfficer</th>\n",
       "    </tr>\n",
       "  </thead>\n",
       "  <tbody>\n",
       "    <tr>\n",
       "      <th>0</th>\n",
       "      <td>1</td>\n",
       "      <td>Narcotics</td>\n",
       "      <td>202500016704</td>\n",
       "      <td>900</td>\n",
       "      <td>5TH ST SW</td>\n",
       "      <td>CPD</td>\n",
       "      <td>1747457292000</td>\n",
       "      <td>0048</td>\n",
       "      <td>Pleasants, Bradley</td>\n",
       "    </tr>\n",
       "    <tr>\n",
       "      <th>1</th>\n",
       "      <td>2</td>\n",
       "      <td>Assist Citizen - Mental/TDO/ECO</td>\n",
       "      <td>202500016698</td>\n",
       "      <td>1000</td>\n",
       "      <td>6TH ST SE</td>\n",
       "      <td>CPD</td>\n",
       "      <td>1747454357000</td>\n",
       "      <td>2359</td>\n",
       "      <td>Essex, Dominique</td>\n",
       "    </tr>\n",
       "    <tr>\n",
       "      <th>2</th>\n",
       "      <td>3</td>\n",
       "      <td>Missing Person-juvenile</td>\n",
       "      <td>202500016660</td>\n",
       "      <td>1400</td>\n",
       "      <td>BAKER ST</td>\n",
       "      <td>CPD</td>\n",
       "      <td>1747444199000</td>\n",
       "      <td>2109</td>\n",
       "      <td>Bentz, Benjamin</td>\n",
       "    </tr>\n",
       "    <tr>\n",
       "      <th>3</th>\n",
       "      <td>4</td>\n",
       "      <td>Missing Person-juvenile</td>\n",
       "      <td>202500016653</td>\n",
       "      <td>500</td>\n",
       "      <td>PARK ST</td>\n",
       "      <td>CPD</td>\n",
       "      <td>1747437597000</td>\n",
       "      <td>1919</td>\n",
       "      <td>Hannay, Jacob</td>\n",
       "    </tr>\n",
       "    <tr>\n",
       "      <th>4</th>\n",
       "      <td>5</td>\n",
       "      <td>Missing Person-juvenile</td>\n",
       "      <td>202500016644</td>\n",
       "      <td>500</td>\n",
       "      <td>PARK ST</td>\n",
       "      <td>CPD</td>\n",
       "      <td>1747437597000</td>\n",
       "      <td>1919</td>\n",
       "      <td>Hannay, Jacob</td>\n",
       "    </tr>\n",
       "  </tbody>\n",
       "</table>\n",
       "</div>"
      ],
      "text/plain": [
       "   RecordID                          Offense    IncidentID BlockNumber  \\\n",
       "0         1                        Narcotics  202500016704         900   \n",
       "1         2  Assist Citizen - Mental/TDO/ECO  202500016698        1000   \n",
       "2         3          Missing Person-juvenile  202500016660        1400   \n",
       "3         4          Missing Person-juvenile  202500016653         500   \n",
       "4         5          Missing Person-juvenile  202500016644         500   \n",
       "\n",
       "  StreetName Agency   DateReported HourReported    ReportingOfficer  \n",
       "0  5TH ST SW    CPD  1747457292000         0048  Pleasants, Bradley  \n",
       "1  6TH ST SE    CPD  1747454357000         2359    Essex, Dominique  \n",
       "2   BAKER ST    CPD  1747444199000         2109    Bentz, Benjamin   \n",
       "3    PARK ST    CPD  1747437597000         1919       Hannay, Jacob  \n",
       "4    PARK ST    CPD  1747437597000         1919       Hannay, Jacob  "
      ]
     },
     "execution_count": 3,
     "metadata": {},
     "output_type": "execute_result"
    }
   ],
   "source": [
    "df.head()"
   ]
  },
  {
   "cell_type": "code",
   "execution_count": 4,
   "id": "e0944e6e",
   "metadata": {
    "execution": {
     "iopub.execute_input": "2025-05-19T01:06:51.833548Z",
     "iopub.status.busy": "2025-05-19T01:06:51.833060Z",
     "iopub.status.idle": "2025-05-19T01:06:51.837592Z",
     "shell.execute_reply": "2025-05-19T01:06:51.837012Z"
    },
    "papermill": {
     "duration": 0.011953,
     "end_time": "2025-05-19T01:06:51.838640",
     "exception": false,
     "start_time": "2025-05-19T01:06:51.826687",
     "status": "completed"
    },
    "tags": []
   },
   "outputs": [
    {
     "data": {
      "text/plain": [
       "Index(['RecordID', 'Offense', 'IncidentID', 'BlockNumber', 'StreetName',\n",
       "       'Agency', 'DateReported', 'HourReported', 'ReportingOfficer'],\n",
       "      dtype='object')"
      ]
     },
     "execution_count": 4,
     "metadata": {},
     "output_type": "execute_result"
    }
   ],
   "source": [
    "df.columns"
   ]
  },
  {
   "cell_type": "code",
   "execution_count": 5,
   "id": "fef97976",
   "metadata": {
    "execution": {
     "iopub.execute_input": "2025-05-19T01:06:51.851255Z",
     "iopub.status.busy": "2025-05-19T01:06:51.850745Z",
     "iopub.status.idle": "2025-05-19T01:06:51.877224Z",
     "shell.execute_reply": "2025-05-19T01:06:51.876635Z"
    },
    "papermill": {
     "duration": 0.03392,
     "end_time": "2025-05-19T01:06:51.878320",
     "exception": false,
     "start_time": "2025-05-19T01:06:51.844400",
     "status": "completed"
    },
    "tags": []
   },
   "outputs": [
    {
     "name": "stdout",
     "output_type": "stream",
     "text": [
      "<class 'pandas.core.frame.DataFrame'>\n",
      "RangeIndex: 25394 entries, 0 to 25393\n",
      "Data columns (total 9 columns):\n",
      " #   Column            Non-Null Count  Dtype \n",
      "---  ------            --------------  ----- \n",
      " 0   RecordID          25394 non-null  int64 \n",
      " 1   Offense           25394 non-null  object\n",
      " 2   IncidentID        25394 non-null  object\n",
      " 3   BlockNumber       25394 non-null  object\n",
      " 4   StreetName        25394 non-null  object\n",
      " 5   Agency            25394 non-null  object\n",
      " 6   DateReported      25394 non-null  int64 \n",
      " 7   HourReported      25394 non-null  object\n",
      " 8   ReportingOfficer  25377 non-null  object\n",
      "dtypes: int64(2), object(7)\n",
      "memory usage: 1.7+ MB\n"
     ]
    }
   ],
   "source": [
    "df.info()"
   ]
  },
  {
   "cell_type": "markdown",
   "id": "bedf5baf",
   "metadata": {
    "papermill": {
     "duration": 0.005864,
     "end_time": "2025-05-19T01:06:51.890110",
     "exception": false,
     "start_time": "2025-05-19T01:06:51.884246",
     "status": "completed"
    },
    "tags": []
   },
   "source": [
    "### Missing Values"
   ]
  },
  {
   "cell_type": "code",
   "execution_count": 6,
   "id": "963f2357",
   "metadata": {
    "execution": {
     "iopub.execute_input": "2025-05-19T01:06:51.903272Z",
     "iopub.status.busy": "2025-05-19T01:06:51.902625Z",
     "iopub.status.idle": "2025-05-19T01:06:51.927693Z",
     "shell.execute_reply": "2025-05-19T01:06:51.927117Z"
    },
    "papermill": {
     "duration": 0.032869,
     "end_time": "2025-05-19T01:06:51.928728",
     "exception": false,
     "start_time": "2025-05-19T01:06:51.895859",
     "status": "completed"
    },
    "tags": []
   },
   "outputs": [
    {
     "name": "stdout",
     "output_type": "stream",
     "text": [
      "                  MissingCount  MissingPercentage\n",
      "RecordID                     0               0.00\n",
      "Offense                      0               0.00\n",
      "IncidentID                   0               0.00\n",
      "BlockNumber                  0               0.00\n",
      "StreetName                   0               0.00\n",
      "Agency                       0               0.00\n",
      "DateReported                 0               0.00\n",
      "HourReported                 0               0.00\n",
      "ReportingOfficer            17               0.07\n"
     ]
    }
   ],
   "source": [
    "def missing_percentage(df):\n",
    "    \"\"\"\n",
    "    Returns a DataFrame with the count and percentage of missing values for each column.\n",
    "    \n",
    "    Parameters:\n",
    "        df (pd.DataFrame): The input DataFrame.\n",
    "    \n",
    "    Returns:\n",
    "        pd.DataFrame: A DataFrame with columns 'MissingCount' and 'MissingPercentage'.\n",
    "    \"\"\"\n",
    "    total_rows = len(df)\n",
    "    missing_count = df.isnull().sum()\n",
    "    missing_percent = (missing_count / total_rows) * 100\n",
    "    \n",
    "    result = pd.DataFrame({\n",
    "        'MissingCount': missing_count,\n",
    "        'MissingPercentage': missing_percent.round(2)\n",
    "    })\n",
    "    \n",
    "    return result\n",
    "\n",
    "# Example usage:\n",
    "missing_info = missing_percentage(df)\n",
    "print(missing_info)\n"
   ]
  },
  {
   "cell_type": "markdown",
   "id": "5df8a643",
   "metadata": {
    "papermill": {
     "duration": 0.006177,
     "end_time": "2025-05-19T01:06:51.941045",
     "exception": false,
     "start_time": "2025-05-19T01:06:51.934868",
     "status": "completed"
    },
    "tags": []
   },
   "source": [
    "## Data Preparation"
   ]
  },
  {
   "cell_type": "markdown",
   "id": "8daaa9fd",
   "metadata": {
    "papermill": {
     "duration": 0.005798,
     "end_time": "2025-05-19T01:06:51.952615",
     "exception": false,
     "start_time": "2025-05-19T01:06:51.946817",
     "status": "completed"
    },
    "tags": []
   },
   "source": [
    "### Data Conversion"
   ]
  },
  {
   "cell_type": "code",
   "execution_count": 7,
   "id": "7580dab3",
   "metadata": {
    "execution": {
     "iopub.execute_input": "2025-05-19T01:06:51.965722Z",
     "iopub.status.busy": "2025-05-19T01:06:51.965421Z",
     "iopub.status.idle": "2025-05-19T01:06:52.336725Z",
     "shell.execute_reply": "2025-05-19T01:06:52.335980Z"
    },
    "papermill": {
     "duration": 0.379308,
     "end_time": "2025-05-19T01:06:52.337879",
     "exception": false,
     "start_time": "2025-05-19T01:06:51.958571",
     "status": "completed"
    },
    "tags": []
   },
   "outputs": [
    {
     "data": {
      "text/html": [
       "<div>\n",
       "<style scoped>\n",
       "    .dataframe tbody tr th:only-of-type {\n",
       "        vertical-align: middle;\n",
       "    }\n",
       "\n",
       "    .dataframe tbody tr th {\n",
       "        vertical-align: top;\n",
       "    }\n",
       "\n",
       "    .dataframe thead th {\n",
       "        text-align: right;\n",
       "    }\n",
       "</style>\n",
       "<table border=\"1\" class=\"dataframe\">\n",
       "  <thead>\n",
       "    <tr style=\"text-align: right;\">\n",
       "      <th></th>\n",
       "      <th>RecordID</th>\n",
       "      <th>Offense</th>\n",
       "      <th>IncidentID</th>\n",
       "      <th>BlockNumber</th>\n",
       "      <th>StreetName</th>\n",
       "      <th>Agency</th>\n",
       "      <th>HourReported</th>\n",
       "      <th>ReportingOfficer</th>\n",
       "      <th>Date</th>\n",
       "      <th>DateString</th>\n",
       "      <th>DayOfWeek</th>\n",
       "      <th>Weekend</th>\n",
       "      <th>Season</th>\n",
       "      <th>HourAMPM</th>\n",
       "      <th>TimeOfDay</th>\n",
       "    </tr>\n",
       "  </thead>\n",
       "  <tbody>\n",
       "    <tr>\n",
       "      <th>0</th>\n",
       "      <td>1</td>\n",
       "      <td>Narcotics</td>\n",
       "      <td>202500016704</td>\n",
       "      <td>900</td>\n",
       "      <td>5TH ST SW</td>\n",
       "      <td>CPD</td>\n",
       "      <td>0048</td>\n",
       "      <td>Pleasants, Bradley</td>\n",
       "      <td>2025-05-17 00:48:12</td>\n",
       "      <td>2025-05-17 12:48:12 AM</td>\n",
       "      <td>Saturday</td>\n",
       "      <td>True</td>\n",
       "      <td>Spring</td>\n",
       "      <td>12:48 AM</td>\n",
       "      <td>Night</td>\n",
       "    </tr>\n",
       "    <tr>\n",
       "      <th>1</th>\n",
       "      <td>2</td>\n",
       "      <td>Assist Citizen - Mental/TDO/ECO</td>\n",
       "      <td>202500016698</td>\n",
       "      <td>1000</td>\n",
       "      <td>6TH ST SE</td>\n",
       "      <td>CPD</td>\n",
       "      <td>2359</td>\n",
       "      <td>Essex, Dominique</td>\n",
       "      <td>2025-05-16 23:59:17</td>\n",
       "      <td>2025-05-16 11:59:17 PM</td>\n",
       "      <td>Friday</td>\n",
       "      <td>False</td>\n",
       "      <td>Spring</td>\n",
       "      <td>11:59 PM</td>\n",
       "      <td>Night</td>\n",
       "    </tr>\n",
       "    <tr>\n",
       "      <th>2</th>\n",
       "      <td>3</td>\n",
       "      <td>Missing Person-juvenile</td>\n",
       "      <td>202500016660</td>\n",
       "      <td>1400</td>\n",
       "      <td>BAKER ST</td>\n",
       "      <td>CPD</td>\n",
       "      <td>2109</td>\n",
       "      <td>Bentz, Benjamin</td>\n",
       "      <td>2025-05-16 21:09:59</td>\n",
       "      <td>2025-05-16 09:09:59 PM</td>\n",
       "      <td>Friday</td>\n",
       "      <td>False</td>\n",
       "      <td>Spring</td>\n",
       "      <td>09:09 PM</td>\n",
       "      <td>Night</td>\n",
       "    </tr>\n",
       "    <tr>\n",
       "      <th>3</th>\n",
       "      <td>4</td>\n",
       "      <td>Missing Person-juvenile</td>\n",
       "      <td>202500016653</td>\n",
       "      <td>500</td>\n",
       "      <td>PARK ST</td>\n",
       "      <td>CPD</td>\n",
       "      <td>1919</td>\n",
       "      <td>Hannay, Jacob</td>\n",
       "      <td>2025-05-16 19:19:57</td>\n",
       "      <td>2025-05-16 07:19:57 PM</td>\n",
       "      <td>Friday</td>\n",
       "      <td>False</td>\n",
       "      <td>Spring</td>\n",
       "      <td>07:19 PM</td>\n",
       "      <td>Evening</td>\n",
       "    </tr>\n",
       "    <tr>\n",
       "      <th>4</th>\n",
       "      <td>5</td>\n",
       "      <td>Missing Person-juvenile</td>\n",
       "      <td>202500016644</td>\n",
       "      <td>500</td>\n",
       "      <td>PARK ST</td>\n",
       "      <td>CPD</td>\n",
       "      <td>1919</td>\n",
       "      <td>Hannay, Jacob</td>\n",
       "      <td>2025-05-16 19:19:57</td>\n",
       "      <td>2025-05-16 07:19:57 PM</td>\n",
       "      <td>Friday</td>\n",
       "      <td>False</td>\n",
       "      <td>Spring</td>\n",
       "      <td>07:19 PM</td>\n",
       "      <td>Evening</td>\n",
       "    </tr>\n",
       "  </tbody>\n",
       "</table>\n",
       "</div>"
      ],
      "text/plain": [
       "   RecordID                          Offense    IncidentID BlockNumber  \\\n",
       "0         1                        Narcotics  202500016704         900   \n",
       "1         2  Assist Citizen - Mental/TDO/ECO  202500016698        1000   \n",
       "2         3          Missing Person-juvenile  202500016660        1400   \n",
       "3         4          Missing Person-juvenile  202500016653         500   \n",
       "4         5          Missing Person-juvenile  202500016644         500   \n",
       "\n",
       "  StreetName Agency HourReported    ReportingOfficer                Date  \\\n",
       "0  5TH ST SW    CPD         0048  Pleasants, Bradley 2025-05-17 00:48:12   \n",
       "1  6TH ST SE    CPD         2359    Essex, Dominique 2025-05-16 23:59:17   \n",
       "2   BAKER ST    CPD         2109    Bentz, Benjamin  2025-05-16 21:09:59   \n",
       "3    PARK ST    CPD         1919       Hannay, Jacob 2025-05-16 19:19:57   \n",
       "4    PARK ST    CPD         1919       Hannay, Jacob 2025-05-16 19:19:57   \n",
       "\n",
       "               DateString DayOfWeek  Weekend  Season  HourAMPM TimeOfDay  \n",
       "0  2025-05-17 12:48:12 AM  Saturday     True  Spring  12:48 AM     Night  \n",
       "1  2025-05-16 11:59:17 PM    Friday    False  Spring  11:59 PM     Night  \n",
       "2  2025-05-16 09:09:59 PM    Friday    False  Spring  09:09 PM     Night  \n",
       "3  2025-05-16 07:19:57 PM    Friday    False  Spring  07:19 PM   Evening  \n",
       "4  2025-05-16 07:19:57 PM    Friday    False  Spring  07:19 PM   Evening  "
      ]
     },
     "execution_count": 7,
     "metadata": {},
     "output_type": "execute_result"
    }
   ],
   "source": [
    "def convert_and_categorize_datereported(df, col='DateReported'):\n",
    "    \"\"\"\n",
    "    Converts an epoch (in milliseconds) date column into a timezone-aware datetime,\n",
    "    converts it to Eastern Time, and then creates columns for day-of-week, weekend flag,\n",
    "    season, 12-hour formatted time, and time-of-day. Keeps both a real datetime column\n",
    "    (Date) and a string representation (DateString).\n",
    "    \"\"\"\n",
    "    import pandas as pd\n",
    "\n",
    "    # Convert the epoch timestamp to a pandas datetime object as UTC, then convert to US/Eastern.\n",
    "    df[\"DateReported_dt\"] = (\n",
    "        pd.to_datetime(df[col], unit=\"ms\", errors=\"coerce\", utc=True)\n",
    "        .dt.tz_convert(\"US/Eastern\")\n",
    "    )\n",
    "    \n",
    "    # Create a true datetime column (remove timezone if you prefer naive datetime)\n",
    "    df[\"Date\"] = df[\"DateReported_dt\"].dt.tz_localize(None)\n",
    "\n",
    "    # Optionally, create a separate string-formatted column\n",
    "    df[\"DateString\"] = df[\"DateReported_dt\"].dt.strftime(\"%Y-%m-%d %I:%M:%S %p\")\n",
    "    \n",
    "    # DayOfWeek\n",
    "    df[\"DayOfWeek\"] = df[\"DateReported_dt\"].dt.day_name()\n",
    "    \n",
    "    # Weekend\n",
    "    df[\"Weekend\"] = df[\"DayOfWeek\"].isin([\"Saturday\", \"Sunday\"])\n",
    "    \n",
    "    # Helper function to determine the season\n",
    "    def get_season(dt):\n",
    "        month = dt.month\n",
    "        day = dt.day\n",
    "        # Approximate Northern Hemisphere season boundaries:\n",
    "        if (month == 12 and day >= 21) or (month < 3) or (month == 3 and day < 20):\n",
    "            return \"Winter\"\n",
    "        elif (month == 3 and day >= 20) or (month < 6) or (month == 6 and day < 21):\n",
    "            return \"Spring\"\n",
    "        elif (month == 6 and day >= 21) or (month < 9) or (month == 9 and day < 22):\n",
    "            return \"Summer\"\n",
    "        else:\n",
    "            return \"Autumn\"\n",
    "    \n",
    "    df[\"Season\"] = df[\"DateReported_dt\"].apply(get_season)\n",
    "    \n",
    "    # 12-hour formatted time (HourAMPM)\n",
    "    df[\"HourAMPM\"] = df[\"DateReported_dt\"].dt.strftime(\"%I:%M %p\")\n",
    "    \n",
    "    # Extract hour (0-23) for time-of-day\n",
    "    df[\"HourValue\"] = df[\"DateReported_dt\"].dt.hour\n",
    "    \n",
    "    def time_of_day(hour):\n",
    "        if pd.isnull(hour):\n",
    "            return None\n",
    "        if 5 <= hour < 12:\n",
    "            return \"Morning\"\n",
    "        elif 12 <= hour < 17:\n",
    "            return \"Afternoon\"\n",
    "        elif 17 <= hour < 21:\n",
    "            return \"Evening\"\n",
    "        else:\n",
    "            return \"Night\"\n",
    "    \n",
    "    df[\"TimeOfDay\"] = df[\"HourValue\"].apply(time_of_day)\n",
    "    \n",
    "    # Drop columns you no longer need\n",
    "    df.drop(columns=[col, \"DateReported_dt\", \"HourValue\"], inplace=True)\n",
    "    \n",
    "    return df\n",
    "\n",
    "# Example usage:\n",
    "df = convert_and_categorize_datereported(df)\n",
    "df.head()\n"
   ]
  },
  {
   "cell_type": "code",
   "execution_count": 8,
   "id": "1877315c",
   "metadata": {
    "execution": {
     "iopub.execute_input": "2025-05-19T01:06:52.354445Z",
     "iopub.status.busy": "2025-05-19T01:06:52.353763Z",
     "iopub.status.idle": "2025-05-19T01:06:52.383140Z",
     "shell.execute_reply": "2025-05-19T01:06:52.382431Z"
    },
    "papermill": {
     "duration": 0.037719,
     "end_time": "2025-05-19T01:06:52.384228",
     "exception": false,
     "start_time": "2025-05-19T01:06:52.346509",
     "status": "completed"
    },
    "tags": []
   },
   "outputs": [
    {
     "name": "stdout",
     "output_type": "stream",
     "text": [
      "<class 'pandas.core.frame.DataFrame'>\n",
      "RangeIndex: 25394 entries, 0 to 25393\n",
      "Data columns (total 15 columns):\n",
      " #   Column            Non-Null Count  Dtype         \n",
      "---  ------            --------------  -----         \n",
      " 0   RecordID          25394 non-null  int64         \n",
      " 1   Offense           25394 non-null  object        \n",
      " 2   IncidentID        25394 non-null  object        \n",
      " 3   BlockNumber       25394 non-null  object        \n",
      " 4   StreetName        25394 non-null  object        \n",
      " 5   Agency            25394 non-null  object        \n",
      " 6   HourReported      25394 non-null  object        \n",
      " 7   ReportingOfficer  25377 non-null  object        \n",
      " 8   Date              25394 non-null  datetime64[ns]\n",
      " 9   DateString        25394 non-null  object        \n",
      " 10  DayOfWeek         25394 non-null  object        \n",
      " 11  Weekend           25394 non-null  bool          \n",
      " 12  Season            25394 non-null  object        \n",
      " 13  HourAMPM          25394 non-null  object        \n",
      " 14  TimeOfDay         25394 non-null  object        \n",
      "dtypes: bool(1), datetime64[ns](1), int64(1), object(12)\n",
      "memory usage: 2.7+ MB\n"
     ]
    }
   ],
   "source": [
    "df.info()"
   ]
  },
  {
   "cell_type": "markdown",
   "id": "9d3f9a82",
   "metadata": {
    "papermill": {
     "duration": 0.006069,
     "end_time": "2025-05-19T01:06:52.396528",
     "exception": false,
     "start_time": "2025-05-19T01:06:52.390459",
     "status": "completed"
    },
    "tags": []
   },
   "source": [
    "### Coordinates"
   ]
  },
  {
   "cell_type": "code",
   "execution_count": 9,
   "id": "1c632246",
   "metadata": {
    "execution": {
     "iopub.execute_input": "2025-05-19T01:06:52.410053Z",
     "iopub.status.busy": "2025-05-19T01:06:52.409544Z",
     "iopub.status.idle": "2025-05-19T01:06:52.456282Z",
     "shell.execute_reply": "2025-05-19T01:06:52.455574Z"
    },
    "papermill": {
     "duration": 0.054859,
     "end_time": "2025-05-19T01:06:52.457397",
     "exception": false,
     "start_time": "2025-05-19T01:06:52.402538",
     "status": "completed"
    },
    "tags": []
   },
   "outputs": [
    {
     "name": "stdout",
     "output_type": "stream",
     "text": [
      "Loaded geocode cache.\n",
      "Geocode cache updated and saved.\n"
     ]
    },
    {
     "data": {
      "text/html": [
       "<div>\n",
       "<style scoped>\n",
       "    .dataframe tbody tr th:only-of-type {\n",
       "        vertical-align: middle;\n",
       "    }\n",
       "\n",
       "    .dataframe tbody tr th {\n",
       "        vertical-align: top;\n",
       "    }\n",
       "\n",
       "    .dataframe thead th {\n",
       "        text-align: right;\n",
       "    }\n",
       "</style>\n",
       "<table border=\"1\" class=\"dataframe\">\n",
       "  <thead>\n",
       "    <tr style=\"text-align: right;\">\n",
       "      <th></th>\n",
       "      <th>RecordID</th>\n",
       "      <th>Offense</th>\n",
       "      <th>IncidentID</th>\n",
       "      <th>BlockNumber</th>\n",
       "      <th>StreetName</th>\n",
       "      <th>Agency</th>\n",
       "      <th>HourReported</th>\n",
       "      <th>ReportingOfficer</th>\n",
       "      <th>Date</th>\n",
       "      <th>DateString</th>\n",
       "      <th>DayOfWeek</th>\n",
       "      <th>Weekend</th>\n",
       "      <th>Season</th>\n",
       "      <th>HourAMPM</th>\n",
       "      <th>TimeOfDay</th>\n",
       "      <th>FullStreet</th>\n",
       "      <th>lat</th>\n",
       "      <th>lon</th>\n",
       "    </tr>\n",
       "  </thead>\n",
       "  <tbody>\n",
       "    <tr>\n",
       "      <th>0</th>\n",
       "      <td>1</td>\n",
       "      <td>Narcotics</td>\n",
       "      <td>202500016704</td>\n",
       "      <td>900</td>\n",
       "      <td>5TH ST SW</td>\n",
       "      <td>CPD</td>\n",
       "      <td>0048</td>\n",
       "      <td>Pleasants, Bradley</td>\n",
       "      <td>2025-05-17 00:48:12</td>\n",
       "      <td>2025-05-17 12:48:12 AM</td>\n",
       "      <td>Saturday</td>\n",
       "      <td>True</td>\n",
       "      <td>Spring</td>\n",
       "      <td>12:48 AM</td>\n",
       "      <td>Night</td>\n",
       "      <td>900 5TH ST SW</td>\n",
       "      <td>38.021689</td>\n",
       "      <td>-78.493655</td>\n",
       "    </tr>\n",
       "    <tr>\n",
       "      <th>1</th>\n",
       "      <td>2</td>\n",
       "      <td>Assist Citizen - Mental/TDO/ECO</td>\n",
       "      <td>202500016698</td>\n",
       "      <td>1000</td>\n",
       "      <td>6TH ST SE</td>\n",
       "      <td>CPD</td>\n",
       "      <td>2359</td>\n",
       "      <td>Essex, Dominique</td>\n",
       "      <td>2025-05-16 23:59:17</td>\n",
       "      <td>2025-05-16 11:59:17 PM</td>\n",
       "      <td>Friday</td>\n",
       "      <td>False</td>\n",
       "      <td>Spring</td>\n",
       "      <td>11:59 PM</td>\n",
       "      <td>Night</td>\n",
       "      <td>1000 6TH ST SE</td>\n",
       "      <td>38.022767</td>\n",
       "      <td>-78.482388</td>\n",
       "    </tr>\n",
       "    <tr>\n",
       "      <th>2</th>\n",
       "      <td>3</td>\n",
       "      <td>Missing Person-juvenile</td>\n",
       "      <td>202500016660</td>\n",
       "      <td>1400</td>\n",
       "      <td>BAKER ST</td>\n",
       "      <td>CPD</td>\n",
       "      <td>2109</td>\n",
       "      <td>Bentz, Benjamin</td>\n",
       "      <td>2025-05-16 21:09:59</td>\n",
       "      <td>2025-05-16 09:09:59 PM</td>\n",
       "      <td>Friday</td>\n",
       "      <td>False</td>\n",
       "      <td>Spring</td>\n",
       "      <td>09:09 PM</td>\n",
       "      <td>Night</td>\n",
       "      <td>1400 BAKER ST</td>\n",
       "      <td>38.025760</td>\n",
       "      <td>-78.502157</td>\n",
       "    </tr>\n",
       "    <tr>\n",
       "      <th>3</th>\n",
       "      <td>4</td>\n",
       "      <td>Missing Person-juvenile</td>\n",
       "      <td>202500016653</td>\n",
       "      <td>500</td>\n",
       "      <td>PARK ST</td>\n",
       "      <td>CPD</td>\n",
       "      <td>1919</td>\n",
       "      <td>Hannay, Jacob</td>\n",
       "      <td>2025-05-16 19:19:57</td>\n",
       "      <td>2025-05-16 07:19:57 PM</td>\n",
       "      <td>Friday</td>\n",
       "      <td>False</td>\n",
       "      <td>Spring</td>\n",
       "      <td>07:19 PM</td>\n",
       "      <td>Evening</td>\n",
       "      <td>500 PARK ST</td>\n",
       "      <td>38.033037</td>\n",
       "      <td>-78.475772</td>\n",
       "    </tr>\n",
       "    <tr>\n",
       "      <th>4</th>\n",
       "      <td>5</td>\n",
       "      <td>Missing Person-juvenile</td>\n",
       "      <td>202500016644</td>\n",
       "      <td>500</td>\n",
       "      <td>PARK ST</td>\n",
       "      <td>CPD</td>\n",
       "      <td>1919</td>\n",
       "      <td>Hannay, Jacob</td>\n",
       "      <td>2025-05-16 19:19:57</td>\n",
       "      <td>2025-05-16 07:19:57 PM</td>\n",
       "      <td>Friday</td>\n",
       "      <td>False</td>\n",
       "      <td>Spring</td>\n",
       "      <td>07:19 PM</td>\n",
       "      <td>Evening</td>\n",
       "      <td>500 PARK ST</td>\n",
       "      <td>38.033037</td>\n",
       "      <td>-78.475772</td>\n",
       "    </tr>\n",
       "  </tbody>\n",
       "</table>\n",
       "</div>"
      ],
      "text/plain": [
       "   RecordID                          Offense    IncidentID BlockNumber  \\\n",
       "0         1                        Narcotics  202500016704         900   \n",
       "1         2  Assist Citizen - Mental/TDO/ECO  202500016698        1000   \n",
       "2         3          Missing Person-juvenile  202500016660        1400   \n",
       "3         4          Missing Person-juvenile  202500016653         500   \n",
       "4         5          Missing Person-juvenile  202500016644         500   \n",
       "\n",
       "  StreetName Agency HourReported    ReportingOfficer                Date  \\\n",
       "0  5TH ST SW    CPD         0048  Pleasants, Bradley 2025-05-17 00:48:12   \n",
       "1  6TH ST SE    CPD         2359    Essex, Dominique 2025-05-16 23:59:17   \n",
       "2   BAKER ST    CPD         2109    Bentz, Benjamin  2025-05-16 21:09:59   \n",
       "3    PARK ST    CPD         1919       Hannay, Jacob 2025-05-16 19:19:57   \n",
       "4    PARK ST    CPD         1919       Hannay, Jacob 2025-05-16 19:19:57   \n",
       "\n",
       "               DateString DayOfWeek  Weekend  Season  HourAMPM TimeOfDay  \\\n",
       "0  2025-05-17 12:48:12 AM  Saturday     True  Spring  12:48 AM     Night   \n",
       "1  2025-05-16 11:59:17 PM    Friday    False  Spring  11:59 PM     Night   \n",
       "2  2025-05-16 09:09:59 PM    Friday    False  Spring  09:09 PM     Night   \n",
       "3  2025-05-16 07:19:57 PM    Friday    False  Spring  07:19 PM   Evening   \n",
       "4  2025-05-16 07:19:57 PM    Friday    False  Spring  07:19 PM   Evening   \n",
       "\n",
       "       FullStreet        lat        lon  \n",
       "0   900 5TH ST SW  38.021689 -78.493655  \n",
       "1  1000 6TH ST SE  38.022767 -78.482388  \n",
       "2   1400 BAKER ST  38.025760 -78.502157  \n",
       "3     500 PARK ST  38.033037 -78.475772  \n",
       "4     500 PARK ST  38.033037 -78.475772  "
      ]
     },
     "execution_count": 9,
     "metadata": {},
     "output_type": "execute_result"
    }
   ],
   "source": [
    "# Combine BlockNumber and StreetName into a full address string\n",
    "df['FullStreet'] = df['BlockNumber'].astype(str) + \" \" + df['StreetName']\n",
    "\n",
    "# --- Step 1: Setup the Google Maps Client and Cache ---\n",
    "gmaps = googlemaps.Client(key=GOOGLE_API_KEY)\n",
    "\n",
    "# Try to load cached geocoding results if available.\n",
    "try:\n",
    "    with open(\"geocode_cache_google.pkl\", \"rb\") as f:\n",
    "        street_coords = pickle.load(f)\n",
    "    print(\"Loaded geocode cache.\")\n",
    "except FileNotFoundError:\n",
    "    street_coords = {}\n",
    "    print(\"No cache found; starting fresh.\")\n",
    "\n",
    "def geocode_address(address):\n",
    "    try:\n",
    "        # Append city and state to help geocoding\n",
    "        result = gmaps.geocode(f\"{address}, Charlottesville, VA\")\n",
    "        if result:\n",
    "            lat = result[0]['geometry']['location']['lat']\n",
    "            lon = result[0]['geometry']['location']['lng']\n",
    "            return lat, lon\n",
    "    except Exception as e:\n",
    "        print(f\"Error geocoding {address}: {e}\")\n",
    "    return None, None\n",
    "\n",
    "# --- Step 2: Geocode Only New Addresses ---\n",
    "unique_addresses = df['FullStreet'].unique()\n",
    "for address in unique_addresses:\n",
    "    if address not in street_coords:\n",
    "        lat, lon = geocode_address(address)\n",
    "        street_coords[address] = (lat, lon)\n",
    "        print(f\"Geocoded {address}: {lat}, {lon}\")\n",
    "\n",
    "# Save the updated cache to disk.\n",
    "with open(\"geocode_cache_google.pkl\", \"wb\") as f:\n",
    "    pickle.dump(street_coords, f)\n",
    "    print(\"Geocode cache updated and saved.\")\n",
    "\n",
    "# --- Step 3: Map Coordinates Back to DataFrame ---\n",
    "df['lat'] = df['FullStreet'].map(lambda s: street_coords.get(s, (None, None))[0])\n",
    "df['lon'] = df['FullStreet'].map(lambda s: street_coords.get(s, (None, None))[1])\n",
    "\n",
    "df.head()"
   ]
  },
  {
   "cell_type": "markdown",
   "id": "f2865c96",
   "metadata": {
    "papermill": {
     "duration": 0.006526,
     "end_time": "2025-05-19T01:06:52.470641",
     "exception": false,
     "start_time": "2025-05-19T01:06:52.464115",
     "status": "completed"
    },
    "tags": []
   },
   "source": [
    "### Neighborhood"
   ]
  },
  {
   "cell_type": "code",
   "execution_count": 10,
   "id": "89b8e360",
   "metadata": {
    "execution": {
     "iopub.execute_input": "2025-05-19T01:06:52.484906Z",
     "iopub.status.busy": "2025-05-19T01:06:52.484428Z",
     "iopub.status.idle": "2025-05-19T01:06:52.753599Z",
     "shell.execute_reply": "2025-05-19T01:06:52.752872Z"
    },
    "papermill": {
     "duration": 0.277627,
     "end_time": "2025-05-19T01:06:52.754657",
     "exception": false,
     "start_time": "2025-05-19T01:06:52.477030",
     "status": "completed"
    },
    "tags": []
   },
   "outputs": [
    {
     "name": "stdout",
     "output_type": "stream",
     "text": [
      "Loaded neighborhood cache.\n"
     ]
    },
    {
     "data": {
      "text/html": [
       "<div>\n",
       "<style scoped>\n",
       "    .dataframe tbody tr th:only-of-type {\n",
       "        vertical-align: middle;\n",
       "    }\n",
       "\n",
       "    .dataframe tbody tr th {\n",
       "        vertical-align: top;\n",
       "    }\n",
       "\n",
       "    .dataframe thead th {\n",
       "        text-align: right;\n",
       "    }\n",
       "</style>\n",
       "<table border=\"1\" class=\"dataframe\">\n",
       "  <thead>\n",
       "    <tr style=\"text-align: right;\">\n",
       "      <th></th>\n",
       "      <th>RecordID</th>\n",
       "      <th>Offense</th>\n",
       "      <th>IncidentID</th>\n",
       "      <th>BlockNumber</th>\n",
       "      <th>StreetName</th>\n",
       "      <th>Agency</th>\n",
       "      <th>HourReported</th>\n",
       "      <th>ReportingOfficer</th>\n",
       "      <th>Date</th>\n",
       "      <th>DateString</th>\n",
       "      <th>DayOfWeek</th>\n",
       "      <th>Weekend</th>\n",
       "      <th>Season</th>\n",
       "      <th>HourAMPM</th>\n",
       "      <th>TimeOfDay</th>\n",
       "      <th>FullStreet</th>\n",
       "      <th>lat</th>\n",
       "      <th>lon</th>\n",
       "      <th>neighborhood</th>\n",
       "    </tr>\n",
       "  </thead>\n",
       "  <tbody>\n",
       "    <tr>\n",
       "      <th>0</th>\n",
       "      <td>1</td>\n",
       "      <td>Narcotics</td>\n",
       "      <td>202500016704</td>\n",
       "      <td>900</td>\n",
       "      <td>5TH ST SW</td>\n",
       "      <td>CPD</td>\n",
       "      <td>0048</td>\n",
       "      <td>Pleasants, Bradley</td>\n",
       "      <td>2025-05-17 00:48:12</td>\n",
       "      <td>2025-05-17 12:48:12 AM</td>\n",
       "      <td>Saturday</td>\n",
       "      <td>True</td>\n",
       "      <td>Spring</td>\n",
       "      <td>12:48 AM</td>\n",
       "      <td>Night</td>\n",
       "      <td>900 5TH ST SW</td>\n",
       "      <td>38.021689</td>\n",
       "      <td>-78.493655</td>\n",
       "      <td>Fifeville</td>\n",
       "    </tr>\n",
       "    <tr>\n",
       "      <th>1</th>\n",
       "      <td>2</td>\n",
       "      <td>Assist Citizen - Mental/TDO/ECO</td>\n",
       "      <td>202500016698</td>\n",
       "      <td>1000</td>\n",
       "      <td>6TH ST SE</td>\n",
       "      <td>CPD</td>\n",
       "      <td>2359</td>\n",
       "      <td>Essex, Dominique</td>\n",
       "      <td>2025-05-16 23:59:17</td>\n",
       "      <td>2025-05-16 11:59:17 PM</td>\n",
       "      <td>Friday</td>\n",
       "      <td>False</td>\n",
       "      <td>Spring</td>\n",
       "      <td>11:59 PM</td>\n",
       "      <td>Night</td>\n",
       "      <td>1000 6TH ST SE</td>\n",
       "      <td>38.022767</td>\n",
       "      <td>-78.482388</td>\n",
       "      <td>Ridge St.</td>\n",
       "    </tr>\n",
       "    <tr>\n",
       "      <th>2</th>\n",
       "      <td>3</td>\n",
       "      <td>Missing Person-juvenile</td>\n",
       "      <td>202500016660</td>\n",
       "      <td>1400</td>\n",
       "      <td>BAKER ST</td>\n",
       "      <td>CPD</td>\n",
       "      <td>2109</td>\n",
       "      <td>Bentz, Benjamin</td>\n",
       "      <td>2025-05-16 21:09:59</td>\n",
       "      <td>2025-05-16 09:09:59 PM</td>\n",
       "      <td>Friday</td>\n",
       "      <td>False</td>\n",
       "      <td>Spring</td>\n",
       "      <td>09:09 PM</td>\n",
       "      <td>Night</td>\n",
       "      <td>1400 BAKER ST</td>\n",
       "      <td>38.025760</td>\n",
       "      <td>-78.502157</td>\n",
       "      <td>Fifeville</td>\n",
       "    </tr>\n",
       "    <tr>\n",
       "      <th>3</th>\n",
       "      <td>4</td>\n",
       "      <td>Missing Person-juvenile</td>\n",
       "      <td>202500016653</td>\n",
       "      <td>500</td>\n",
       "      <td>PARK ST</td>\n",
       "      <td>CPD</td>\n",
       "      <td>1919</td>\n",
       "      <td>Hannay, Jacob</td>\n",
       "      <td>2025-05-16 19:19:57</td>\n",
       "      <td>2025-05-16 07:19:57 PM</td>\n",
       "      <td>Friday</td>\n",
       "      <td>False</td>\n",
       "      <td>Spring</td>\n",
       "      <td>07:19 PM</td>\n",
       "      <td>Evening</td>\n",
       "      <td>500 PARK ST</td>\n",
       "      <td>38.033037</td>\n",
       "      <td>-78.475772</td>\n",
       "      <td>North Downtown</td>\n",
       "    </tr>\n",
       "    <tr>\n",
       "      <th>4</th>\n",
       "      <td>5</td>\n",
       "      <td>Missing Person-juvenile</td>\n",
       "      <td>202500016644</td>\n",
       "      <td>500</td>\n",
       "      <td>PARK ST</td>\n",
       "      <td>CPD</td>\n",
       "      <td>1919</td>\n",
       "      <td>Hannay, Jacob</td>\n",
       "      <td>2025-05-16 19:19:57</td>\n",
       "      <td>2025-05-16 07:19:57 PM</td>\n",
       "      <td>Friday</td>\n",
       "      <td>False</td>\n",
       "      <td>Spring</td>\n",
       "      <td>07:19 PM</td>\n",
       "      <td>Evening</td>\n",
       "      <td>500 PARK ST</td>\n",
       "      <td>38.033037</td>\n",
       "      <td>-78.475772</td>\n",
       "      <td>North Downtown</td>\n",
       "    </tr>\n",
       "  </tbody>\n",
       "</table>\n",
       "</div>"
      ],
      "text/plain": [
       "   RecordID                          Offense    IncidentID BlockNumber  \\\n",
       "0         1                        Narcotics  202500016704         900   \n",
       "1         2  Assist Citizen - Mental/TDO/ECO  202500016698        1000   \n",
       "2         3          Missing Person-juvenile  202500016660        1400   \n",
       "3         4          Missing Person-juvenile  202500016653         500   \n",
       "4         5          Missing Person-juvenile  202500016644         500   \n",
       "\n",
       "  StreetName Agency HourReported    ReportingOfficer                Date  \\\n",
       "0  5TH ST SW    CPD         0048  Pleasants, Bradley 2025-05-17 00:48:12   \n",
       "1  6TH ST SE    CPD         2359    Essex, Dominique 2025-05-16 23:59:17   \n",
       "2   BAKER ST    CPD         2109    Bentz, Benjamin  2025-05-16 21:09:59   \n",
       "3    PARK ST    CPD         1919       Hannay, Jacob 2025-05-16 19:19:57   \n",
       "4    PARK ST    CPD         1919       Hannay, Jacob 2025-05-16 19:19:57   \n",
       "\n",
       "               DateString DayOfWeek  Weekend  Season  HourAMPM TimeOfDay  \\\n",
       "0  2025-05-17 12:48:12 AM  Saturday     True  Spring  12:48 AM     Night   \n",
       "1  2025-05-16 11:59:17 PM    Friday    False  Spring  11:59 PM     Night   \n",
       "2  2025-05-16 09:09:59 PM    Friday    False  Spring  09:09 PM     Night   \n",
       "3  2025-05-16 07:19:57 PM    Friday    False  Spring  07:19 PM   Evening   \n",
       "4  2025-05-16 07:19:57 PM    Friday    False  Spring  07:19 PM   Evening   \n",
       "\n",
       "       FullStreet        lat        lon    neighborhood  \n",
       "0   900 5TH ST SW  38.021689 -78.493655       Fifeville  \n",
       "1  1000 6TH ST SE  38.022767 -78.482388       Ridge St.  \n",
       "2   1400 BAKER ST  38.025760 -78.502157       Fifeville  \n",
       "3     500 PARK ST  38.033037 -78.475772  North Downtown  \n",
       "4     500 PARK ST  38.033037 -78.475772  North Downtown  "
      ]
     },
     "execution_count": 10,
     "metadata": {},
     "output_type": "execute_result"
    }
   ],
   "source": [
    "# Initialize the Google Maps client.\n",
    "gmaps = googlemaps.Client(key=GOOGLE_API_KEY)\n",
    "\n",
    "# Try to load a persistent neighborhood cache if available.\n",
    "try:\n",
    "    with open(\"neighborhood_cache.pkl\", \"rb\") as f:\n",
    "        neighborhood_cache = pickle.load(f)\n",
    "    print(\"Loaded neighborhood cache.\")\n",
    "except FileNotFoundError:\n",
    "    neighborhood_cache = {}\n",
    "    print(\"No neighborhood cache found; starting fresh.\")\n",
    "\n",
    "def get_neighborhood(lat, lon):\n",
    "    \"\"\"\n",
    "    Reverse geocodes a latitude and longitude to retrieve the neighborhood.\n",
    "    Caches results to speed up subsequent lookups.\n",
    "    \"\"\"\n",
    "    key = (lat, lon)\n",
    "    if key in neighborhood_cache:\n",
    "        return neighborhood_cache[key]\n",
    "    \n",
    "    try:\n",
    "        result = gmaps.reverse_geocode((lat, lon))\n",
    "        if result:\n",
    "            # Look for the 'neighborhood' component in the first result.\n",
    "            for component in result[0]['address_components']:\n",
    "                if 'neighborhood' in component['types']:\n",
    "                    neighborhood = component['long_name']\n",
    "                    neighborhood_cache[key] = neighborhood\n",
    "                    return neighborhood\n",
    "            # If no neighborhood is found, return \"N/A\"\n",
    "            neighborhood_cache[key] = \"N/A\"\n",
    "            return \"N/A\"\n",
    "    except Exception as e:\n",
    "        print(f\"Error getting neighborhood for {lat}, {lon}: {e}\")\n",
    "        return \"N/A\"\n",
    "    \n",
    "    # Pause to respect usage limits.\n",
    "    time.sleep(1)\n",
    "\n",
    "# Example usage: Apply to your DataFrame 'df' that already has 'lat' and 'lon' columns.\n",
    "df['neighborhood'] = df.apply(lambda row: get_neighborhood(row['lat'], row['lon']), axis=1)\n",
    "\n",
    "# Save the updated neighborhood cache.\n",
    "with open(\"neighborhood_cache.pkl\", \"wb\") as f:\n",
    "    pickle.dump(neighborhood_cache, f)\n",
    "\n",
    "df.head()\n"
   ]
  },
  {
   "cell_type": "markdown",
   "id": "81de8a49",
   "metadata": {
    "papermill": {
     "duration": 0.006621,
     "end_time": "2025-05-19T01:06:52.768237",
     "exception": false,
     "start_time": "2025-05-19T01:06:52.761616",
     "status": "completed"
    },
    "tags": []
   },
   "source": [
    "### Zip"
   ]
  },
  {
   "cell_type": "code",
   "execution_count": 11,
   "id": "52832b19",
   "metadata": {
    "execution": {
     "iopub.execute_input": "2025-05-19T01:06:52.782697Z",
     "iopub.status.busy": "2025-05-19T01:06:52.782198Z",
     "iopub.status.idle": "2025-05-19T01:06:53.026533Z",
     "shell.execute_reply": "2025-05-19T01:06:53.025863Z"
    },
    "papermill": {
     "duration": 0.252954,
     "end_time": "2025-05-19T01:06:53.027682",
     "exception": false,
     "start_time": "2025-05-19T01:06:52.774728",
     "status": "completed"
    },
    "tags": []
   },
   "outputs": [
    {
     "name": "stdout",
     "output_type": "stream",
     "text": [
      "Loaded zip cache.\n"
     ]
    },
    {
     "data": {
      "text/html": [
       "<div>\n",
       "<style scoped>\n",
       "    .dataframe tbody tr th:only-of-type {\n",
       "        vertical-align: middle;\n",
       "    }\n",
       "\n",
       "    .dataframe tbody tr th {\n",
       "        vertical-align: top;\n",
       "    }\n",
       "\n",
       "    .dataframe thead th {\n",
       "        text-align: right;\n",
       "    }\n",
       "</style>\n",
       "<table border=\"1\" class=\"dataframe\">\n",
       "  <thead>\n",
       "    <tr style=\"text-align: right;\">\n",
       "      <th></th>\n",
       "      <th>RecordID</th>\n",
       "      <th>Offense</th>\n",
       "      <th>IncidentID</th>\n",
       "      <th>BlockNumber</th>\n",
       "      <th>StreetName</th>\n",
       "      <th>Agency</th>\n",
       "      <th>HourReported</th>\n",
       "      <th>ReportingOfficer</th>\n",
       "      <th>Date</th>\n",
       "      <th>DateString</th>\n",
       "      <th>DayOfWeek</th>\n",
       "      <th>Weekend</th>\n",
       "      <th>Season</th>\n",
       "      <th>HourAMPM</th>\n",
       "      <th>TimeOfDay</th>\n",
       "      <th>FullStreet</th>\n",
       "      <th>lat</th>\n",
       "      <th>lon</th>\n",
       "      <th>neighborhood</th>\n",
       "      <th>zip</th>\n",
       "    </tr>\n",
       "  </thead>\n",
       "  <tbody>\n",
       "    <tr>\n",
       "      <th>0</th>\n",
       "      <td>1</td>\n",
       "      <td>Narcotics</td>\n",
       "      <td>202500016704</td>\n",
       "      <td>900</td>\n",
       "      <td>5TH ST SW</td>\n",
       "      <td>CPD</td>\n",
       "      <td>0048</td>\n",
       "      <td>Pleasants, Bradley</td>\n",
       "      <td>2025-05-17 00:48:12</td>\n",
       "      <td>2025-05-17 12:48:12 AM</td>\n",
       "      <td>Saturday</td>\n",
       "      <td>True</td>\n",
       "      <td>Spring</td>\n",
       "      <td>12:48 AM</td>\n",
       "      <td>Night</td>\n",
       "      <td>900 5TH ST SW</td>\n",
       "      <td>38.021689</td>\n",
       "      <td>-78.493655</td>\n",
       "      <td>Fifeville</td>\n",
       "      <td>22903</td>\n",
       "    </tr>\n",
       "    <tr>\n",
       "      <th>1</th>\n",
       "      <td>2</td>\n",
       "      <td>Assist Citizen - Mental/TDO/ECO</td>\n",
       "      <td>202500016698</td>\n",
       "      <td>1000</td>\n",
       "      <td>6TH ST SE</td>\n",
       "      <td>CPD</td>\n",
       "      <td>2359</td>\n",
       "      <td>Essex, Dominique</td>\n",
       "      <td>2025-05-16 23:59:17</td>\n",
       "      <td>2025-05-16 11:59:17 PM</td>\n",
       "      <td>Friday</td>\n",
       "      <td>False</td>\n",
       "      <td>Spring</td>\n",
       "      <td>11:59 PM</td>\n",
       "      <td>Night</td>\n",
       "      <td>1000 6TH ST SE</td>\n",
       "      <td>38.022767</td>\n",
       "      <td>-78.482388</td>\n",
       "      <td>Ridge St.</td>\n",
       "      <td>22903</td>\n",
       "    </tr>\n",
       "    <tr>\n",
       "      <th>2</th>\n",
       "      <td>3</td>\n",
       "      <td>Missing Person-juvenile</td>\n",
       "      <td>202500016660</td>\n",
       "      <td>1400</td>\n",
       "      <td>BAKER ST</td>\n",
       "      <td>CPD</td>\n",
       "      <td>2109</td>\n",
       "      <td>Bentz, Benjamin</td>\n",
       "      <td>2025-05-16 21:09:59</td>\n",
       "      <td>2025-05-16 09:09:59 PM</td>\n",
       "      <td>Friday</td>\n",
       "      <td>False</td>\n",
       "      <td>Spring</td>\n",
       "      <td>09:09 PM</td>\n",
       "      <td>Night</td>\n",
       "      <td>1400 BAKER ST</td>\n",
       "      <td>38.025760</td>\n",
       "      <td>-78.502157</td>\n",
       "      <td>Fifeville</td>\n",
       "      <td>22903</td>\n",
       "    </tr>\n",
       "    <tr>\n",
       "      <th>3</th>\n",
       "      <td>4</td>\n",
       "      <td>Missing Person-juvenile</td>\n",
       "      <td>202500016653</td>\n",
       "      <td>500</td>\n",
       "      <td>PARK ST</td>\n",
       "      <td>CPD</td>\n",
       "      <td>1919</td>\n",
       "      <td>Hannay, Jacob</td>\n",
       "      <td>2025-05-16 19:19:57</td>\n",
       "      <td>2025-05-16 07:19:57 PM</td>\n",
       "      <td>Friday</td>\n",
       "      <td>False</td>\n",
       "      <td>Spring</td>\n",
       "      <td>07:19 PM</td>\n",
       "      <td>Evening</td>\n",
       "      <td>500 PARK ST</td>\n",
       "      <td>38.033037</td>\n",
       "      <td>-78.475772</td>\n",
       "      <td>North Downtown</td>\n",
       "      <td>22902</td>\n",
       "    </tr>\n",
       "    <tr>\n",
       "      <th>4</th>\n",
       "      <td>5</td>\n",
       "      <td>Missing Person-juvenile</td>\n",
       "      <td>202500016644</td>\n",
       "      <td>500</td>\n",
       "      <td>PARK ST</td>\n",
       "      <td>CPD</td>\n",
       "      <td>1919</td>\n",
       "      <td>Hannay, Jacob</td>\n",
       "      <td>2025-05-16 19:19:57</td>\n",
       "      <td>2025-05-16 07:19:57 PM</td>\n",
       "      <td>Friday</td>\n",
       "      <td>False</td>\n",
       "      <td>Spring</td>\n",
       "      <td>07:19 PM</td>\n",
       "      <td>Evening</td>\n",
       "      <td>500 PARK ST</td>\n",
       "      <td>38.033037</td>\n",
       "      <td>-78.475772</td>\n",
       "      <td>North Downtown</td>\n",
       "      <td>22902</td>\n",
       "    </tr>\n",
       "  </tbody>\n",
       "</table>\n",
       "</div>"
      ],
      "text/plain": [
       "   RecordID                          Offense    IncidentID BlockNumber  \\\n",
       "0         1                        Narcotics  202500016704         900   \n",
       "1         2  Assist Citizen - Mental/TDO/ECO  202500016698        1000   \n",
       "2         3          Missing Person-juvenile  202500016660        1400   \n",
       "3         4          Missing Person-juvenile  202500016653         500   \n",
       "4         5          Missing Person-juvenile  202500016644         500   \n",
       "\n",
       "  StreetName Agency HourReported    ReportingOfficer                Date  \\\n",
       "0  5TH ST SW    CPD         0048  Pleasants, Bradley 2025-05-17 00:48:12   \n",
       "1  6TH ST SE    CPD         2359    Essex, Dominique 2025-05-16 23:59:17   \n",
       "2   BAKER ST    CPD         2109    Bentz, Benjamin  2025-05-16 21:09:59   \n",
       "3    PARK ST    CPD         1919       Hannay, Jacob 2025-05-16 19:19:57   \n",
       "4    PARK ST    CPD         1919       Hannay, Jacob 2025-05-16 19:19:57   \n",
       "\n",
       "               DateString DayOfWeek  Weekend  Season  HourAMPM TimeOfDay  \\\n",
       "0  2025-05-17 12:48:12 AM  Saturday     True  Spring  12:48 AM     Night   \n",
       "1  2025-05-16 11:59:17 PM    Friday    False  Spring  11:59 PM     Night   \n",
       "2  2025-05-16 09:09:59 PM    Friday    False  Spring  09:09 PM     Night   \n",
       "3  2025-05-16 07:19:57 PM    Friday    False  Spring  07:19 PM   Evening   \n",
       "4  2025-05-16 07:19:57 PM    Friday    False  Spring  07:19 PM   Evening   \n",
       "\n",
       "       FullStreet        lat        lon    neighborhood    zip  \n",
       "0   900 5TH ST SW  38.021689 -78.493655       Fifeville  22903  \n",
       "1  1000 6TH ST SE  38.022767 -78.482388       Ridge St.  22903  \n",
       "2   1400 BAKER ST  38.025760 -78.502157       Fifeville  22903  \n",
       "3     500 PARK ST  38.033037 -78.475772  North Downtown  22902  \n",
       "4     500 PARK ST  38.033037 -78.475772  North Downtown  22902  "
      ]
     },
     "execution_count": 11,
     "metadata": {},
     "output_type": "execute_result"
    }
   ],
   "source": [
    "# Initialize the geocoder.\n",
    "geolocator = Nominatim(user_agent=\"zip_lookup\")\n",
    "\n",
    "# Try to load a persistent ZIP cache if available.\n",
    "try:\n",
    "    with open(\"zip_cache.pkl\", \"rb\") as f:\n",
    "        zip_cache = pickle.load(f)\n",
    "    print(\"Loaded zip cache.\")\n",
    "except FileNotFoundError:\n",
    "    zip_cache = {}\n",
    "    print(\"No zip cache found; starting fresh.\")\n",
    "\n",
    "def get_zip(lat, lon):\n",
    "    \"\"\"\n",
    "    Reverse geocodes a latitude and longitude to retrieve the ZIP code.\n",
    "    Caches results to speed up subsequent lookups.\n",
    "    \"\"\"\n",
    "    key = (lat, lon)\n",
    "    if key in zip_cache:\n",
    "        return zip_cache[key]\n",
    "    \n",
    "    try:\n",
    "        location = geolocator.reverse((lat, lon), exactly_one=True, timeout=10)\n",
    "        address = location.raw.get('address', {})\n",
    "        postal_code = address.get('postcode', \"N/A\")\n",
    "    except Exception as e:\n",
    "        print(f\"Error getting ZIP for {lat}, {lon}: {e}\")\n",
    "        postal_code = \"N/A\"\n",
    "    \n",
    "    zip_cache[key] = postal_code\n",
    "    # Pause to respect the usage policy.\n",
    "    time.sleep(1)\n",
    "    return postal_code\n",
    "\n",
    "# Apply the function to each row in the DataFrame.\n",
    "df['zip'] = df.apply(lambda row: get_zip(row['lat'], row['lon']), axis=1)\n",
    "\n",
    "# Save the updated ZIP cache.\n",
    "with open(\"zip_cache.pkl\", \"wb\") as f:\n",
    "    pickle.dump(zip_cache, f)\n",
    "\n",
    "df.head()\n"
   ]
  },
  {
   "cell_type": "code",
   "execution_count": 12,
   "id": "f0ce8cab",
   "metadata": {
    "execution": {
     "iopub.execute_input": "2025-05-19T01:06:53.043283Z",
     "iopub.status.busy": "2025-05-19T01:06:53.042797Z",
     "iopub.status.idle": "2025-05-19T01:06:53.072788Z",
     "shell.execute_reply": "2025-05-19T01:06:53.072181Z"
    },
    "papermill": {
     "duration": 0.038807,
     "end_time": "2025-05-19T01:06:53.073847",
     "exception": false,
     "start_time": "2025-05-19T01:06:53.035040",
     "status": "completed"
    },
    "tags": []
   },
   "outputs": [
    {
     "name": "stdout",
     "output_type": "stream",
     "text": [
      "                  MissingCount  MissingPercentage\n",
      "RecordID                     0               0.00\n",
      "Offense                      0               0.00\n",
      "IncidentID                   0               0.00\n",
      "BlockNumber                  0               0.00\n",
      "StreetName                   0               0.00\n",
      "Agency                       0               0.00\n",
      "HourReported                 0               0.00\n",
      "ReportingOfficer            17               0.07\n",
      "Date                         0               0.00\n",
      "DateString                   0               0.00\n",
      "DayOfWeek                    0               0.00\n",
      "Weekend                      0               0.00\n",
      "Season                       0               0.00\n",
      "HourAMPM                     0               0.00\n",
      "TimeOfDay                    0               0.00\n",
      "FullStreet                   0               0.00\n",
      "lat                          0               0.00\n",
      "lon                          0               0.00\n",
      "neighborhood                 0               0.00\n",
      "zip                          0               0.00\n"
     ]
    }
   ],
   "source": [
    "missing_info = missing_percentage(df)\n",
    "print(missing_info)\n"
   ]
  },
  {
   "cell_type": "code",
   "execution_count": 13,
   "id": "361cd42a",
   "metadata": {
    "execution": {
     "iopub.execute_input": "2025-05-19T01:06:53.089418Z",
     "iopub.status.busy": "2025-05-19T01:06:53.088888Z",
     "iopub.status.idle": "2025-05-19T01:06:53.120175Z",
     "shell.execute_reply": "2025-05-19T01:06:53.119541Z"
    },
    "papermill": {
     "duration": 0.040202,
     "end_time": "2025-05-19T01:06:53.121231",
     "exception": false,
     "start_time": "2025-05-19T01:06:53.081029",
     "status": "completed"
    },
    "tags": []
   },
   "outputs": [
    {
     "name": "stdout",
     "output_type": "stream",
     "text": [
      "<class 'pandas.core.frame.DataFrame'>\n",
      "RangeIndex: 25394 entries, 0 to 25393\n",
      "Data columns (total 20 columns):\n",
      " #   Column            Non-Null Count  Dtype         \n",
      "---  ------            --------------  -----         \n",
      " 0   RecordID          25394 non-null  int64         \n",
      " 1   Offense           25394 non-null  object        \n",
      " 2   IncidentID        25394 non-null  object        \n",
      " 3   BlockNumber       25394 non-null  object        \n",
      " 4   StreetName        25394 non-null  object        \n",
      " 5   Agency            25394 non-null  object        \n",
      " 6   HourReported      25394 non-null  object        \n",
      " 7   ReportingOfficer  25377 non-null  object        \n",
      " 8   Date              25394 non-null  datetime64[ns]\n",
      " 9   DateString        25394 non-null  object        \n",
      " 10  DayOfWeek         25394 non-null  object        \n",
      " 11  Weekend           25394 non-null  bool          \n",
      " 12  Season            25394 non-null  object        \n",
      " 13  HourAMPM          25394 non-null  object        \n",
      " 14  TimeOfDay         25394 non-null  object        \n",
      " 15  FullStreet        25394 non-null  object        \n",
      " 16  lat               25394 non-null  float64       \n",
      " 17  lon               25394 non-null  float64       \n",
      " 18  neighborhood      25394 non-null  object        \n",
      " 19  zip               25394 non-null  object        \n",
      "dtypes: bool(1), datetime64[ns](1), float64(2), int64(1), object(15)\n",
      "memory usage: 3.7+ MB\n"
     ]
    }
   ],
   "source": [
    "df.info()"
   ]
  },
  {
   "cell_type": "code",
   "execution_count": 14,
   "id": "34c565c7",
   "metadata": {
    "execution": {
     "iopub.execute_input": "2025-05-19T01:06:53.138115Z",
     "iopub.status.busy": "2025-05-19T01:06:53.137373Z",
     "iopub.status.idle": "2025-05-19T01:06:53.193266Z",
     "shell.execute_reply": "2025-05-19T01:06:53.192604Z"
    },
    "papermill": {
     "duration": 0.065632,
     "end_time": "2025-05-19T01:06:53.194374",
     "exception": false,
     "start_time": "2025-05-19T01:06:53.128742",
     "status": "completed"
    },
    "tags": []
   },
   "outputs": [
    {
     "data": {
      "text/html": [
       "<div>\n",
       "<style scoped>\n",
       "    .dataframe tbody tr th:only-of-type {\n",
       "        vertical-align: middle;\n",
       "    }\n",
       "\n",
       "    .dataframe tbody tr th {\n",
       "        vertical-align: top;\n",
       "    }\n",
       "\n",
       "    .dataframe thead th {\n",
       "        text-align: right;\n",
       "    }\n",
       "</style>\n",
       "<table border=\"1\" class=\"dataframe\">\n",
       "  <thead>\n",
       "    <tr style=\"text-align: right;\">\n",
       "      <th></th>\n",
       "      <th>RecordID</th>\n",
       "      <th>Offense</th>\n",
       "      <th>IncidentID</th>\n",
       "      <th>Agency</th>\n",
       "      <th>ReportingOfficer</th>\n",
       "      <th>Date</th>\n",
       "      <th>DayOfWeek</th>\n",
       "      <th>Weekend</th>\n",
       "      <th>Season</th>\n",
       "      <th>TimeOfDay</th>\n",
       "      <th>FullStreet</th>\n",
       "      <th>lat</th>\n",
       "      <th>lon</th>\n",
       "      <th>neighborhood</th>\n",
       "      <th>zip</th>\n",
       "    </tr>\n",
       "  </thead>\n",
       "  <tbody>\n",
       "    <tr>\n",
       "      <th>0</th>\n",
       "      <td>1</td>\n",
       "      <td>Narcotics</td>\n",
       "      <td>202500016704</td>\n",
       "      <td>CPD</td>\n",
       "      <td>Pleasants, Bradley</td>\n",
       "      <td>2025-05-17 00:48:12</td>\n",
       "      <td>Saturday</td>\n",
       "      <td>True</td>\n",
       "      <td>Spring</td>\n",
       "      <td>Night</td>\n",
       "      <td>900 5TH ST SW</td>\n",
       "      <td>38.021689</td>\n",
       "      <td>-78.493655</td>\n",
       "      <td>Fifeville</td>\n",
       "      <td>22903</td>\n",
       "    </tr>\n",
       "    <tr>\n",
       "      <th>1</th>\n",
       "      <td>2</td>\n",
       "      <td>Assist Citizen - Mental/TDO/ECO</td>\n",
       "      <td>202500016698</td>\n",
       "      <td>CPD</td>\n",
       "      <td>Essex, Dominique</td>\n",
       "      <td>2025-05-16 23:59:17</td>\n",
       "      <td>Friday</td>\n",
       "      <td>False</td>\n",
       "      <td>Spring</td>\n",
       "      <td>Night</td>\n",
       "      <td>1000 6TH ST SE</td>\n",
       "      <td>38.022767</td>\n",
       "      <td>-78.482388</td>\n",
       "      <td>Ridge St.</td>\n",
       "      <td>22903</td>\n",
       "    </tr>\n",
       "    <tr>\n",
       "      <th>2</th>\n",
       "      <td>3</td>\n",
       "      <td>Missing Person-juvenile</td>\n",
       "      <td>202500016660</td>\n",
       "      <td>CPD</td>\n",
       "      <td>Bentz, Benjamin</td>\n",
       "      <td>2025-05-16 21:09:59</td>\n",
       "      <td>Friday</td>\n",
       "      <td>False</td>\n",
       "      <td>Spring</td>\n",
       "      <td>Night</td>\n",
       "      <td>1400 BAKER ST</td>\n",
       "      <td>38.025760</td>\n",
       "      <td>-78.502157</td>\n",
       "      <td>Fifeville</td>\n",
       "      <td>22903</td>\n",
       "    </tr>\n",
       "    <tr>\n",
       "      <th>3</th>\n",
       "      <td>4</td>\n",
       "      <td>Missing Person-juvenile</td>\n",
       "      <td>202500016653</td>\n",
       "      <td>CPD</td>\n",
       "      <td>Hannay, Jacob</td>\n",
       "      <td>2025-05-16 19:19:57</td>\n",
       "      <td>Friday</td>\n",
       "      <td>False</td>\n",
       "      <td>Spring</td>\n",
       "      <td>Evening</td>\n",
       "      <td>500 PARK ST</td>\n",
       "      <td>38.033037</td>\n",
       "      <td>-78.475772</td>\n",
       "      <td>North Downtown</td>\n",
       "      <td>22902</td>\n",
       "    </tr>\n",
       "    <tr>\n",
       "      <th>4</th>\n",
       "      <td>5</td>\n",
       "      <td>Missing Person-juvenile</td>\n",
       "      <td>202500016644</td>\n",
       "      <td>CPD</td>\n",
       "      <td>Hannay, Jacob</td>\n",
       "      <td>2025-05-16 19:19:57</td>\n",
       "      <td>Friday</td>\n",
       "      <td>False</td>\n",
       "      <td>Spring</td>\n",
       "      <td>Evening</td>\n",
       "      <td>500 PARK ST</td>\n",
       "      <td>38.033037</td>\n",
       "      <td>-78.475772</td>\n",
       "      <td>North Downtown</td>\n",
       "      <td>22902</td>\n",
       "    </tr>\n",
       "  </tbody>\n",
       "</table>\n",
       "</div>"
      ],
      "text/plain": [
       "   RecordID                          Offense    IncidentID Agency  \\\n",
       "0         1                        Narcotics  202500016704    CPD   \n",
       "1         2  Assist Citizen - Mental/TDO/ECO  202500016698    CPD   \n",
       "2         3          Missing Person-juvenile  202500016660    CPD   \n",
       "3         4          Missing Person-juvenile  202500016653    CPD   \n",
       "4         5          Missing Person-juvenile  202500016644    CPD   \n",
       "\n",
       "     ReportingOfficer                Date DayOfWeek  Weekend  Season  \\\n",
       "0  Pleasants, Bradley 2025-05-17 00:48:12  Saturday     True  Spring   \n",
       "1    Essex, Dominique 2025-05-16 23:59:17    Friday    False  Spring   \n",
       "2    Bentz, Benjamin  2025-05-16 21:09:59    Friday    False  Spring   \n",
       "3       Hannay, Jacob 2025-05-16 19:19:57    Friday    False  Spring   \n",
       "4       Hannay, Jacob 2025-05-16 19:19:57    Friday    False  Spring   \n",
       "\n",
       "  TimeOfDay      FullStreet        lat        lon    neighborhood    zip  \n",
       "0     Night   900 5TH ST SW  38.021689 -78.493655       Fifeville  22903  \n",
       "1     Night  1000 6TH ST SE  38.022767 -78.482388       Ridge St.  22903  \n",
       "2     Night   1400 BAKER ST  38.025760 -78.502157       Fifeville  22903  \n",
       "3   Evening     500 PARK ST  38.033037 -78.475772  North Downtown  22902  \n",
       "4   Evening     500 PARK ST  38.033037 -78.475772  North Downtown  22902  "
      ]
     },
     "execution_count": 14,
     "metadata": {},
     "output_type": "execute_result"
    }
   ],
   "source": [
    "# Now drop the original BlockNumber and StreetName columns\n",
    "df.drop(columns=['BlockNumber', 'StreetName','HourAMPM','HourReported','DateString'], inplace=True)\n",
    "df[\"zip\"] = df[\"zip\"].astype(str)\n",
    "\n",
    "# Fill all missing values in the DataFrame with \"N/A\"\n",
    "df.replace({None: \"N/A\", np.nan: \"N/A\", \"\": \"N/A\"}, inplace=True)\n",
    "df.head()"
   ]
  },
  {
   "cell_type": "code",
   "execution_count": 15,
   "id": "afae924f",
   "metadata": {
    "execution": {
     "iopub.execute_input": "2025-05-19T01:06:53.210741Z",
     "iopub.status.busy": "2025-05-19T01:06:53.210251Z",
     "iopub.status.idle": "2025-05-19T01:06:53.232736Z",
     "shell.execute_reply": "2025-05-19T01:06:53.232135Z"
    },
    "papermill": {
     "duration": 0.031884,
     "end_time": "2025-05-19T01:06:53.233865",
     "exception": false,
     "start_time": "2025-05-19T01:06:53.201981",
     "status": "completed"
    },
    "tags": []
   },
   "outputs": [
    {
     "name": "stdout",
     "output_type": "stream",
     "text": [
      "                  MissingCount  MissingPercentage\n",
      "RecordID                     0                0.0\n",
      "Offense                      0                0.0\n",
      "IncidentID                   0                0.0\n",
      "Agency                       0                0.0\n",
      "ReportingOfficer             0                0.0\n",
      "Date                         0                0.0\n",
      "DayOfWeek                    0                0.0\n",
      "Weekend                      0                0.0\n",
      "Season                       0                0.0\n",
      "TimeOfDay                    0                0.0\n",
      "FullStreet                   0                0.0\n",
      "lat                          0                0.0\n",
      "lon                          0                0.0\n",
      "neighborhood                 0                0.0\n",
      "zip                          0                0.0\n"
     ]
    }
   ],
   "source": [
    "missing_info = missing_percentage(df)\n",
    "print(missing_info)"
   ]
  },
  {
   "cell_type": "code",
   "execution_count": 16,
   "id": "9216bdd4",
   "metadata": {
    "execution": {
     "iopub.execute_input": "2025-05-19T01:06:53.250360Z",
     "iopub.status.busy": "2025-05-19T01:06:53.249671Z",
     "iopub.status.idle": "2025-05-19T01:06:53.254492Z",
     "shell.execute_reply": "2025-05-19T01:06:53.253940Z"
    },
    "papermill": {
     "duration": 0.014079,
     "end_time": "2025-05-19T01:06:53.255543",
     "exception": false,
     "start_time": "2025-05-19T01:06:53.241464",
     "status": "completed"
    },
    "tags": []
   },
   "outputs": [
    {
     "data": {
      "text/plain": [
       "Index(['RecordID', 'Offense', 'IncidentID', 'Agency', 'ReportingOfficer',\n",
       "       'Date', 'DayOfWeek', 'Weekend', 'Season', 'TimeOfDay', 'FullStreet',\n",
       "       'lat', 'lon', 'neighborhood', 'zip'],\n",
       "      dtype='object')"
      ]
     },
     "execution_count": 16,
     "metadata": {},
     "output_type": "execute_result"
    }
   ],
   "source": [
    "df.columns"
   ]
  },
  {
   "cell_type": "code",
   "execution_count": 17,
   "id": "240bac58",
   "metadata": {
    "execution": {
     "iopub.execute_input": "2025-05-19T01:06:53.271690Z",
     "iopub.status.busy": "2025-05-19T01:06:53.271303Z",
     "iopub.status.idle": "2025-05-19T01:06:53.295469Z",
     "shell.execute_reply": "2025-05-19T01:06:53.294880Z"
    },
    "papermill": {
     "duration": 0.033437,
     "end_time": "2025-05-19T01:06:53.296563",
     "exception": false,
     "start_time": "2025-05-19T01:06:53.263126",
     "status": "completed"
    },
    "tags": []
   },
   "outputs": [
    {
     "name": "stdout",
     "output_type": "stream",
     "text": [
      "<class 'pandas.core.frame.DataFrame'>\n",
      "RangeIndex: 25394 entries, 0 to 25393\n",
      "Data columns (total 15 columns):\n",
      " #   Column            Non-Null Count  Dtype         \n",
      "---  ------            --------------  -----         \n",
      " 0   RecordID          25394 non-null  int64         \n",
      " 1   Offense           25394 non-null  object        \n",
      " 2   IncidentID        25394 non-null  object        \n",
      " 3   Agency            25394 non-null  object        \n",
      " 4   ReportingOfficer  25394 non-null  object        \n",
      " 5   Date              25394 non-null  datetime64[ns]\n",
      " 6   DayOfWeek         25394 non-null  object        \n",
      " 7   Weekend           25394 non-null  bool          \n",
      " 8   Season            25394 non-null  object        \n",
      " 9   TimeOfDay         25394 non-null  object        \n",
      " 10  FullStreet        25394 non-null  object        \n",
      " 11  lat               25394 non-null  float64       \n",
      " 12  lon               25394 non-null  float64       \n",
      " 13  neighborhood      25394 non-null  object        \n",
      " 14  zip               25394 non-null  object        \n",
      "dtypes: bool(1), datetime64[ns](1), float64(2), int64(1), object(10)\n",
      "memory usage: 2.7+ MB\n"
     ]
    }
   ],
   "source": [
    "df.info()"
   ]
  },
  {
   "cell_type": "markdown",
   "id": "f8872cff",
   "metadata": {
    "papermill": {
     "duration": 0.007526,
     "end_time": "2025-05-19T01:06:53.312126",
     "exception": false,
     "start_time": "2025-05-19T01:06:53.304600",
     "status": "completed"
    },
    "tags": []
   },
   "source": [
    "### Export Clean Data"
   ]
  },
  {
   "cell_type": "code",
   "execution_count": 18,
   "id": "c6218bf5",
   "metadata": {
    "execution": {
     "iopub.execute_input": "2025-05-19T01:06:53.328588Z",
     "iopub.status.busy": "2025-05-19T01:06:53.328079Z",
     "iopub.status.idle": "2025-05-19T01:07:02.675368Z",
     "shell.execute_reply": "2025-05-19T01:07:02.674692Z"
    },
    "papermill": {
     "duration": 9.356777,
     "end_time": "2025-05-19T01:07:02.676405",
     "exception": false,
     "start_time": "2025-05-19T01:06:53.319628",
     "status": "completed"
    },
    "tags": []
   },
   "outputs": [
    {
     "name": "stdout",
     "output_type": "stream",
     "text": [
      "Project Root: /home/runner/work/crime-data/crime-data\n"
     ]
    },
    {
     "name": "stdout",
     "output_type": "stream",
     "text": [
      "Data saved to: /home/runner/work/crime-data/crime-data/data/charlottesville_crime_incidents.csv\n"
     ]
    },
    {
     "name": "stdout",
     "output_type": "stream",
     "text": [
      "Excel saved to: /home/runner/work/crime-data/crime-data/data/charlottesville_crime_incidents.xlsx\n"
     ]
    }
   ],
   "source": [
    "# Determine the project root (assuming papermill is run from the repository root)\n",
    "project_root = os.getcwd()\n",
    "print(\"Project Root:\", project_root)\n",
    "\n",
    "# Set the data directory within the project root\n",
    "data_dir = os.path.join(project_root, \"data\")\n",
    "\n",
    "# Ensure the \"data\" directory exists (create it if it doesn't)\n",
    "if not os.path.exists(data_dir):\n",
    "    os.makedirs(data_dir)\n",
    "\n",
    "# Export the DataFrame to CSV in the \"data\" folder located in the project root\n",
    "csv_path = os.path.join(data_dir, \"charlottesville_crime_incidents.csv\")\n",
    "df.to_csv(csv_path, index=False)\n",
    "print(\"Data saved to:\", csv_path)\n",
    "\n",
    "# Construct the path to your Excel file\n",
    "excel_path = os.path.join(data_dir, \"charlottesville_crime_incidents.xlsx\")\n",
    "\n",
    "# Export the DataFrame to Excel\n",
    "df.to_excel(excel_path, index=False)\n",
    "print(\"Excel saved to:\", excel_path)\n"
   ]
  },
  {
   "cell_type": "markdown",
   "id": "75f9cc0c",
   "metadata": {
    "papermill": {
     "duration": 0.007693,
     "end_time": "2025-05-19T01:07:02.692017",
     "exception": false,
     "start_time": "2025-05-19T01:07:02.684324",
     "status": "completed"
    },
    "tags": []
   },
   "source": [
    "## Predictive Analytics"
   ]
  },
  {
   "cell_type": "code",
   "execution_count": 19,
   "id": "f2191974",
   "metadata": {
    "execution": {
     "iopub.execute_input": "2025-05-19T01:07:02.708327Z",
     "iopub.status.busy": "2025-05-19T01:07:02.707842Z",
     "iopub.status.idle": "2025-05-19T01:07:02.719848Z",
     "shell.execute_reply": "2025-05-19T01:07:02.719273Z"
    },
    "papermill": {
     "duration": 0.021336,
     "end_time": "2025-05-19T01:07:02.720876",
     "exception": false,
     "start_time": "2025-05-19T01:07:02.699540",
     "status": "completed"
    },
    "tags": []
   },
   "outputs": [
    {
     "data": {
      "text/html": [
       "<div>\n",
       "<style scoped>\n",
       "    .dataframe tbody tr th:only-of-type {\n",
       "        vertical-align: middle;\n",
       "    }\n",
       "\n",
       "    .dataframe tbody tr th {\n",
       "        vertical-align: top;\n",
       "    }\n",
       "\n",
       "    .dataframe thead th {\n",
       "        text-align: right;\n",
       "    }\n",
       "</style>\n",
       "<table border=\"1\" class=\"dataframe\">\n",
       "  <thead>\n",
       "    <tr style=\"text-align: right;\">\n",
       "      <th></th>\n",
       "      <th>RecordID</th>\n",
       "      <th>Offense</th>\n",
       "      <th>IncidentID</th>\n",
       "      <th>Agency</th>\n",
       "      <th>ReportingOfficer</th>\n",
       "      <th>Date</th>\n",
       "      <th>DayOfWeek</th>\n",
       "      <th>Weekend</th>\n",
       "      <th>Season</th>\n",
       "      <th>TimeOfDay</th>\n",
       "      <th>FullStreet</th>\n",
       "      <th>lat</th>\n",
       "      <th>lon</th>\n",
       "      <th>neighborhood</th>\n",
       "      <th>zip</th>\n",
       "    </tr>\n",
       "  </thead>\n",
       "  <tbody>\n",
       "    <tr>\n",
       "      <th>0</th>\n",
       "      <td>1</td>\n",
       "      <td>Narcotics</td>\n",
       "      <td>202500016704</td>\n",
       "      <td>CPD</td>\n",
       "      <td>Pleasants, Bradley</td>\n",
       "      <td>2025-05-17 00:48:12</td>\n",
       "      <td>Saturday</td>\n",
       "      <td>True</td>\n",
       "      <td>Spring</td>\n",
       "      <td>Night</td>\n",
       "      <td>900 5TH ST SW</td>\n",
       "      <td>38.021689</td>\n",
       "      <td>-78.493655</td>\n",
       "      <td>Fifeville</td>\n",
       "      <td>22903</td>\n",
       "    </tr>\n",
       "    <tr>\n",
       "      <th>1</th>\n",
       "      <td>2</td>\n",
       "      <td>Assist Citizen - Mental/TDO/ECO</td>\n",
       "      <td>202500016698</td>\n",
       "      <td>CPD</td>\n",
       "      <td>Essex, Dominique</td>\n",
       "      <td>2025-05-16 23:59:17</td>\n",
       "      <td>Friday</td>\n",
       "      <td>False</td>\n",
       "      <td>Spring</td>\n",
       "      <td>Night</td>\n",
       "      <td>1000 6TH ST SE</td>\n",
       "      <td>38.022767</td>\n",
       "      <td>-78.482388</td>\n",
       "      <td>Ridge St.</td>\n",
       "      <td>22903</td>\n",
       "    </tr>\n",
       "    <tr>\n",
       "      <th>2</th>\n",
       "      <td>3</td>\n",
       "      <td>Missing Person-juvenile</td>\n",
       "      <td>202500016660</td>\n",
       "      <td>CPD</td>\n",
       "      <td>Bentz, Benjamin</td>\n",
       "      <td>2025-05-16 21:09:59</td>\n",
       "      <td>Friday</td>\n",
       "      <td>False</td>\n",
       "      <td>Spring</td>\n",
       "      <td>Night</td>\n",
       "      <td>1400 BAKER ST</td>\n",
       "      <td>38.025760</td>\n",
       "      <td>-78.502157</td>\n",
       "      <td>Fifeville</td>\n",
       "      <td>22903</td>\n",
       "    </tr>\n",
       "    <tr>\n",
       "      <th>3</th>\n",
       "      <td>4</td>\n",
       "      <td>Missing Person-juvenile</td>\n",
       "      <td>202500016653</td>\n",
       "      <td>CPD</td>\n",
       "      <td>Hannay, Jacob</td>\n",
       "      <td>2025-05-16 19:19:57</td>\n",
       "      <td>Friday</td>\n",
       "      <td>False</td>\n",
       "      <td>Spring</td>\n",
       "      <td>Evening</td>\n",
       "      <td>500 PARK ST</td>\n",
       "      <td>38.033037</td>\n",
       "      <td>-78.475772</td>\n",
       "      <td>North Downtown</td>\n",
       "      <td>22902</td>\n",
       "    </tr>\n",
       "    <tr>\n",
       "      <th>4</th>\n",
       "      <td>5</td>\n",
       "      <td>Missing Person-juvenile</td>\n",
       "      <td>202500016644</td>\n",
       "      <td>CPD</td>\n",
       "      <td>Hannay, Jacob</td>\n",
       "      <td>2025-05-16 19:19:57</td>\n",
       "      <td>Friday</td>\n",
       "      <td>False</td>\n",
       "      <td>Spring</td>\n",
       "      <td>Evening</td>\n",
       "      <td>500 PARK ST</td>\n",
       "      <td>38.033037</td>\n",
       "      <td>-78.475772</td>\n",
       "      <td>North Downtown</td>\n",
       "      <td>22902</td>\n",
       "    </tr>\n",
       "  </tbody>\n",
       "</table>\n",
       "</div>"
      ],
      "text/plain": [
       "   RecordID                          Offense    IncidentID Agency  \\\n",
       "0         1                        Narcotics  202500016704    CPD   \n",
       "1         2  Assist Citizen - Mental/TDO/ECO  202500016698    CPD   \n",
       "2         3          Missing Person-juvenile  202500016660    CPD   \n",
       "3         4          Missing Person-juvenile  202500016653    CPD   \n",
       "4         5          Missing Person-juvenile  202500016644    CPD   \n",
       "\n",
       "     ReportingOfficer                Date DayOfWeek  Weekend  Season  \\\n",
       "0  Pleasants, Bradley 2025-05-17 00:48:12  Saturday     True  Spring   \n",
       "1    Essex, Dominique 2025-05-16 23:59:17    Friday    False  Spring   \n",
       "2    Bentz, Benjamin  2025-05-16 21:09:59    Friday    False  Spring   \n",
       "3       Hannay, Jacob 2025-05-16 19:19:57    Friday    False  Spring   \n",
       "4       Hannay, Jacob 2025-05-16 19:19:57    Friday    False  Spring   \n",
       "\n",
       "  TimeOfDay      FullStreet        lat        lon    neighborhood    zip  \n",
       "0     Night   900 5TH ST SW  38.021689 -78.493655       Fifeville  22903  \n",
       "1     Night  1000 6TH ST SE  38.022767 -78.482388       Ridge St.  22903  \n",
       "2     Night   1400 BAKER ST  38.025760 -78.502157       Fifeville  22903  \n",
       "3   Evening     500 PARK ST  38.033037 -78.475772  North Downtown  22902  \n",
       "4   Evening     500 PARK ST  38.033037 -78.475772  North Downtown  22902  "
      ]
     },
     "execution_count": 19,
     "metadata": {},
     "output_type": "execute_result"
    }
   ],
   "source": [
    "df.head()"
   ]
  },
  {
   "cell_type": "code",
   "execution_count": 20,
   "id": "b25fb860",
   "metadata": {
    "execution": {
     "iopub.execute_input": "2025-05-19T01:07:02.738060Z",
     "iopub.status.busy": "2025-05-19T01:07:02.737616Z",
     "iopub.status.idle": "2025-05-19T01:07:02.742479Z",
     "shell.execute_reply": "2025-05-19T01:07:02.741810Z"
    },
    "papermill": {
     "duration": 0.014444,
     "end_time": "2025-05-19T01:07:02.743473",
     "exception": false,
     "start_time": "2025-05-19T01:07:02.729029",
     "status": "completed"
    },
    "tags": []
   },
   "outputs": [
    {
     "data": {
      "text/plain": [
       "Index(['RecordID', 'Offense', 'IncidentID', 'Agency', 'ReportingOfficer',\n",
       "       'Date', 'DayOfWeek', 'Weekend', 'Season', 'TimeOfDay', 'FullStreet',\n",
       "       'lat', 'lon', 'neighborhood', 'zip'],\n",
       "      dtype='object')"
      ]
     },
     "execution_count": 20,
     "metadata": {},
     "output_type": "execute_result"
    }
   ],
   "source": [
    "df.columns"
   ]
  },
  {
   "cell_type": "markdown",
   "id": "4f471b26",
   "metadata": {
    "papermill": {
     "duration": 0.007878,
     "end_time": "2025-05-19T01:07:02.759379",
     "exception": false,
     "start_time": "2025-05-19T01:07:02.751501",
     "status": "completed"
    },
    "tags": []
   },
   "source": [
    "### Data Preparation\n",
    "\n",
    "We need to ensure the data is in the correct format for modeling and can handle missing values, categorical variables, and dates. Here's how to prepare your data:"
   ]
  },
  {
   "cell_type": "code",
   "execution_count": 21,
   "id": "2a40e342",
   "metadata": {
    "execution": {
     "iopub.execute_input": "2025-05-19T01:07:02.776521Z",
     "iopub.status.busy": "2025-05-19T01:07:02.776079Z",
     "iopub.status.idle": "2025-05-19T01:07:05.739743Z",
     "shell.execute_reply": "2025-05-19T01:07:05.738952Z"
    },
    "papermill": {
     "duration": 2.973953,
     "end_time": "2025-05-19T01:07:05.741225",
     "exception": false,
     "start_time": "2025-05-19T01:07:02.767272",
     "status": "completed"
    },
    "tags": []
   },
   "outputs": [],
   "source": [
    "import pandas as pd\n",
    "from sklearn.model_selection import train_test_split\n",
    "from sklearn.preprocessing import OneHotEncoder, LabelEncoder\n",
    "from sklearn.ensemble import RandomForestClassifier\n",
    "from sklearn.linear_model import LogisticRegression\n",
    "from sklearn.tree import DecisionTreeClassifier\n",
    "from sklearn.metrics import classification_report, accuracy_score\n",
    "import seaborn as sns\n",
    "import matplotlib.pyplot as plt\n",
    "\n",
    "# Convert 'Date' to datetime\n",
    "df['Date'] = pd.to_datetime(df['Date'])\n",
    "\n",
    "# Feature engineering: Extract additional time-based features\n",
    "df['Year'] = df['Date'].dt.year\n",
    "df['Month'] = df['Date'].dt.month\n",
    "df['DayOfMonth'] = df['Date'].dt.day\n",
    "\n",
    "# One-hot encoding for 'FullStreet', 'neighborhood', 'zip'\n",
    "df = pd.get_dummies(df, columns=['FullStreet', 'neighborhood', 'zip'], drop_first=True)\n",
    "\n",
    "# Label encoding for ordered variables (those with a natural order like 'DayOfWeek', 'Season', 'TimeOfDay')\n",
    "label_encoders = {}\n",
    "for column in ['DayOfWeek', 'Season', 'TimeOfDay', 'Agency', 'ReportingOfficer']:  # Example ordinal variables\n",
    "    le = LabelEncoder()\n",
    "    df[column] = le.fit_transform(df[column])\n",
    "    label_encoders[column] = le\n",
    "\n",
    "# Filter the dataset to include only the offenses of interest\n",
    "offenses_of_interest = [\n",
    "    'Hit and Run', 'Assault Simple', 'Suspicious Activity', 'Vandalism', \n",
    "    'Larceny - From Mot Vehicle', 'Larceny - All Other', \n",
    "    'Assist Citizen - Mental/TDO/ECO', 'Lost/FoundProperty'\n",
    "]\n",
    "\n",
    "df = df[df['Offense'].isin(offenses_of_interest)]\n",
    "\n",
    "# Label encode the target variable (Offense)\n",
    "offense_encoder = LabelEncoder()\n",
    "df['Offense'] = offense_encoder.fit_transform(df['Offense'])\n",
    "\n",
    "# Separate features (X) and target (y)\n",
    "X = df[['Year', 'Month', 'DayOfMonth', 'DayOfWeek', 'Weekend', 'Season', 'TimeOfDay', 'lat', 'lon', 'Agency', 'ReportingOfficer']]\n",
    "y = df['Offense']  # Offense is now the encoded target variable\n",
    "\n",
    "# Split the data into training and testing sets\n",
    "X_train, X_test, y_train, y_test = train_test_split(X, y, test_size=0.3, random_state=42)\n"
   ]
  },
  {
   "cell_type": "markdown",
   "id": "269b5df5",
   "metadata": {
    "papermill": {
     "duration": 0.008074,
     "end_time": "2025-05-19T01:07:05.757562",
     "exception": false,
     "start_time": "2025-05-19T01:07:05.749488",
     "status": "completed"
    },
    "tags": []
   },
   "source": [
    "### Model Training\n",
    "\n",
    "Here we will train several models (e.g., Random Forest, Logistic Regression, and Decision Tree). We will use cross-validation to choose the best model based on accuracy, and then explain the impact of the variables."
   ]
  },
  {
   "cell_type": "code",
   "execution_count": 22,
   "id": "9a8bb7a6",
   "metadata": {
    "execution": {
     "iopub.execute_input": "2025-05-19T01:07:05.775377Z",
     "iopub.status.busy": "2025-05-19T01:07:05.774711Z",
     "iopub.status.idle": "2025-05-19T01:07:09.290752Z",
     "shell.execute_reply": "2025-05-19T01:07:09.290067Z"
    },
    "papermill": {
     "duration": 3.526402,
     "end_time": "2025-05-19T01:07:09.291937",
     "exception": false,
     "start_time": "2025-05-19T01:07:05.765535",
     "status": "completed"
    },
    "tags": []
   },
   "outputs": [
    {
     "name": "stderr",
     "output_type": "stream",
     "text": [
      "/opt/hostedtoolcache/Python/3.9.22/x64/lib/python3.9/site-packages/sklearn/linear_model/_logistic.py:465: ConvergenceWarning: lbfgs failed to converge (status=1):\n",
      "STOP: TOTAL NO. of ITERATIONS REACHED LIMIT.\n",
      "\n",
      "Increase the number of iterations (max_iter) or scale the data as shown in:\n",
      "    https://scikit-learn.org/stable/modules/preprocessing.html\n",
      "Please also refer to the documentation for alternative solver options:\n",
      "    https://scikit-learn.org/stable/modules/linear_model.html#logistic-regression\n",
      "  n_iter_i = _check_optimize_result(\n",
      "/opt/hostedtoolcache/Python/3.9.22/x64/lib/python3.9/site-packages/sklearn/metrics/_classification.py:1565: UndefinedMetricWarning: Precision is ill-defined and being set to 0.0 in labels with no predicted samples. Use `zero_division` parameter to control this behavior.\n",
      "  _warn_prf(average, modifier, f\"{metric.capitalize()} is\", len(result))\n",
      "/opt/hostedtoolcache/Python/3.9.22/x64/lib/python3.9/site-packages/sklearn/metrics/_classification.py:1565: UndefinedMetricWarning: Precision is ill-defined and being set to 0.0 in labels with no predicted samples. Use `zero_division` parameter to control this behavior.\n",
      "  _warn_prf(average, modifier, f\"{metric.capitalize()} is\", len(result))\n",
      "/opt/hostedtoolcache/Python/3.9.22/x64/lib/python3.9/site-packages/sklearn/metrics/_classification.py:1565: UndefinedMetricWarning: Precision is ill-defined and being set to 0.0 in labels with no predicted samples. Use `zero_division` parameter to control this behavior.\n",
      "  _warn_prf(average, modifier, f\"{metric.capitalize()} is\", len(result))\n"
     ]
    },
    {
     "name": "stdout",
     "output_type": "stream",
     "text": [
      "\n",
      "Classification Report for All Models:\n",
      "\n",
      "Model: RandomForest\n",
      "Accuracy: 0.2864\n",
      "              precision    recall  f1-score     support\n",
      "0              0.281853  0.375000  0.321822   584.00000\n",
      "1              0.350168  0.229075  0.276964   454.00000\n",
      "2              0.305978  0.465331  0.369193   649.00000\n",
      "3              0.222506  0.193764  0.207143   449.00000\n",
      "4              0.315271  0.168865  0.219931   379.00000\n",
      "5              0.242857  0.201183  0.220065   507.00000\n",
      "6              0.292683  0.259179  0.274914   463.00000\n",
      "accuracy       0.286370  0.286370  0.286370     0.28637\n",
      "macro avg      0.287331  0.270343  0.270005  3485.00000\n",
      "weighted avg   0.286999  0.286370  0.277909  3485.00000\n"
     ]
    },
    {
     "data": {
      "image/png": "[encoded data removed]",
      "text/plain": [
       "<Figure size 800x600 with 2 Axes>"
      ]
     },
     "metadata": {},
     "output_type": "display_data"
    },
    {
     "name": "stdout",
     "output_type": "stream",
     "text": [
      "\n",
      "Model: LogisticRegression\n",
      "Accuracy: 0.2092\n",
      "              precision    recall  f1-score      support\n",
      "0              0.200697  0.493151  0.285290   584.000000\n",
      "1              0.000000  0.000000  0.000000   454.000000\n",
      "2              0.214601  0.674884  0.325651   649.000000\n",
      "3              0.000000  0.000000  0.000000   449.000000\n",
      "4              0.000000  0.000000  0.000000   379.000000\n",
      "5              0.000000  0.000000  0.000000   507.000000\n",
      "6              0.333333  0.006479  0.012712   463.000000\n",
      "accuracy       0.209182  0.209182  0.209182     0.209182\n",
      "macro avg      0.106947  0.167788  0.089093  3485.000000\n",
      "weighted avg   0.117881  0.209182  0.110141  3485.000000\n"
     ]
    },
    {
     "data": {
      "image/png": "[encoded data removed]",
      "text/plain": [
       "<Figure size 800x600 with 2 Axes>"
      ]
     },
     "metadata": {},
     "output_type": "display_data"
    },
    {
     "name": "stdout",
     "output_type": "stream",
     "text": [
      "\n",
      "Model: DecisionTree\n",
      "Accuracy: 0.2109\n",
      "              precision    recall  f1-score      support\n",
      "0              0.213703  0.224315  0.218881   584.000000\n",
      "1              0.223325  0.198238  0.210035   454.000000\n",
      "2              0.254072  0.240370  0.247031   649.000000\n",
      "3              0.175337  0.202673  0.188017   449.000000\n",
      "4              0.192412  0.187335  0.189840   379.000000\n",
      "5              0.193227  0.191321  0.192270   507.000000\n",
      "6              0.212903  0.213823  0.213362   463.000000\n",
      "accuracy       0.210904  0.210904  0.210904     0.210904\n",
      "macro avg      0.209283  0.208296  0.208491  3485.000000\n",
      "weighted avg   0.212131  0.210904  0.211231  3485.000000\n"
     ]
    },
    {
     "data": {
      "image/png": "[encoded data removed]",
      "text/plain": [
       "<Figure size 800x600 with 2 Axes>"
      ]
     },
     "metadata": {},
     "output_type": "display_data"
    },
    {
     "name": "stdout",
     "output_type": "stream",
     "text": [
      "\n",
      "Best Model:\n",
      "Best Model: RandomForestClassifier()\n",
      "Best Model Accuracy: 0.2864\n"
     ]
    }
   ],
   "source": [
    "import pandas as pd\n",
    "from sklearn.model_selection import train_test_split\n",
    "from sklearn.ensemble import RandomForestClassifier\n",
    "from sklearn.linear_model import LogisticRegression\n",
    "from sklearn.tree import DecisionTreeClassifier\n",
    "from sklearn.metrics import classification_report, accuracy_score, confusion_matrix\n",
    "import seaborn as sns\n",
    "import matplotlib.pyplot as plt\n",
    "\n",
    "# Define models\n",
    "models = {\n",
    "    'RandomForest': RandomForestClassifier(),\n",
    "    'LogisticRegression': LogisticRegression(max_iter=1000),\n",
    "    'DecisionTree': DecisionTreeClassifier()\n",
    "}\n",
    "\n",
    "# Train models and evaluate them\n",
    "best_model = None\n",
    "best_score = 0\n",
    "model_reports = {}\n",
    "\n",
    "for model_name, model in models.items():\n",
    "    model.fit(X_train, y_train)  # Train model\n",
    "    y_pred = model.predict(X_test)  # Make predictions\n",
    "    \n",
    "    # Calculate accuracy and generate classification report\n",
    "    accuracy = accuracy_score(y_test, y_pred)\n",
    "    model_reports[model_name] = classification_report(y_test, y_pred, output_dict=True)  # Store as a dictionary for easier analysis\n",
    "    \n",
    "    # Track best performing model\n",
    "    if accuracy > best_score:\n",
    "        best_score = accuracy\n",
    "        best_model = model\n",
    "\n",
    "# Display classification reports and confusion matrices\n",
    "print(\"\\nClassification Report for All Models:\")\n",
    "for model_name, report in model_reports.items():\n",
    "    print(f\"\\nModel: {model_name}\")\n",
    "    print(\"Accuracy: {:.4f}\".format(accuracy_score(y_test, models[model_name].predict(X_test))))  # Display accuracy\n",
    "    print(pd.DataFrame(report).transpose())  # Display classification report as a DataFrame\n",
    "\n",
    "    # Plot Confusion Matrix\n",
    "    cm = confusion_matrix(y_test, models[model_name].predict(X_test))\n",
    "    plt.figure(figsize=(8, 6))\n",
    "    sns.heatmap(cm, annot=True, fmt=\"d\", cmap='Blues', xticklabels=offense_encoder.classes_, yticklabels=offense_encoder.classes_)\n",
    "    plt.title(f\"Confusion Matrix - {model_name}\")\n",
    "    plt.xlabel('Predicted Labels')\n",
    "    plt.ylabel('True Labels')\n",
    "    plt.show()\n",
    "\n",
    "# Display best model details\n",
    "print(\"\\nBest Model:\")\n",
    "print(f\"Best Model: {best_model}\")\n",
    "print(f\"Best Model Accuracy: {best_score:.4f}\")\n"
   ]
  },
  {
   "cell_type": "markdown",
   "id": "f83c5f4b",
   "metadata": {
    "papermill": {
     "duration": 0.010663,
     "end_time": "2025-05-19T01:07:09.313971",
     "exception": false,
     "start_time": "2025-05-19T01:07:09.303308",
     "status": "completed"
    },
    "tags": []
   },
   "source": [
    "#### Classification Report for All Models:\n",
    "\n",
    "### Explanation of the Classification Results (RandomForest Model)\n",
    "\n",
    "The results you provided are from a **Random Forest** model, which is used for predicting different types of offenses. Let's break down the key components of the results:\n",
    "\n",
    "#### 1. **Accuracy: 0.2822**\n",
    "   - **Accuracy** measures the overall percentage of correct predictions made by the model. An accuracy of 28.22% means the model correctly predicted the offense in about 28% of the cases. This indicates the model's predictions are not highly reliable, as the accuracy is quite low.\n",
    "\n",
    "#### 2. **Classification Report:**\n",
    "   The classification report includes precision, recall, and F1-score for each offense. Let's go over these terms and how they apply to the results:\n",
    "\n",
    "   - **Precision**: The proportion of true positive predictions out of all positive predictions made by the model for a specific class (offense).\n",
    "   - **Recall**: The proportion of true positive predictions out of all actual positive instances in the dataset.\n",
    "   - **F1-Score**: The harmonic mean of precision and recall, providing a balance between the two metrics.\n",
    "   - **Support**: The number of actual occurrences of each class in the test set.\n",
    "\n",
    "   Let's analyze each offense based on these metrics:\n",
    "\n",
    "   | **Offense**                        | **Precision** | **Recall** | **F1-Score** | **Support** |\n",
    "   |------------------------------------|---------------|------------|--------------|-------------|\n",
    "   | **Assault Simple**                 | 0.2892        | 0.3754     | 0.3267       | 594         |\n",
    "   | **Assist Citizen - Mental/TDO/ECO**| 0.3182        | 0.2274     | 0.2652       | 431         |\n",
    "   | **Hit and Run**                    | 0.2963        | 0.4765     | 0.3654       | 638         |\n",
    "   | **Larceny - All Other**            | 0.2270        | 0.1453     | 0.1772       | 475         |\n",
    "   | **Lost/FoundProperty**             | 0.3333        | 0.2102     | 0.2578       | 352         |\n",
    "   | **Suspicious Activity**            | 0.2344        | 0.2169     | 0.2253       | 484         |\n",
    "   | **Vandalism**                      | 0.2712        | 0.2106     | 0.2371       | 470         |\n",
    "\n",
    "#### 3. **Key Insights from the Report:**\n",
    "\n",
    "- **Precision**:\n",
    "   - The highest precision is for **Larceny - All Other** (0.3333), indicating that when the model predicts this offense, it is correct about 33% of the time. However, this is still quite low.\n",
    "   - **Assist Citizen - Mental/TDO/ECO** has the lowest precision (0.2269), meaning that the model's predictions for this offense tend to be wrong more often than correct.\n",
    "\n",
    "- **Recall**:\n",
    "   - **Hit and Run** has the highest recall (0.4765), meaning the model identifies about 48% of the actual occurrences of this offense. This is better than the precision, which indicates it is missing many true positives but is still able to identify a fair number of cases.\n",
    "   - **Larceny - All Other** and **Suspicious Activity** have the lowest recall values (0.1453 and 0.2169, respectively), indicating that the model is failing to identify most of the actual cases for these offenses.\n",
    "\n",
    "- **F1-Score**:\n",
    "   - The **F1-Score** balances precision and recall. It is highest for **Hit and Run** (0.3654), but still relatively low overall. This suggests the model is better at identifying **Hit and Run** than other offenses but still has room for improvement.\n",
    "   - **Larceny - All Other** has the lowest F1-Score (0.1772), indicating a poor balance between precision and recall for this offense.\n",
    "\n",
    "#### 4. **Macro Average and Weighted Average:**\n",
    "   - **Macro Average**: This gives the average precision, recall, and F1-Score across all classes (offenses) without considering the class distribution. It averages the results for all offenses equally.\n",
    "     - Precision: 0.2814\n",
    "     - Recall: 0.2661\n",
    "     - F1-Score: 0.2649\n",
    "   - **Weighted Average**: This averages the metrics but weighs each class by its support (the number of true instances in the test set). This gives a better sense of overall performance, considering the class distribution.\n",
    "     - Precision: 0.2799\n",
    "     - Recall: 0.2822\n",
    "     - F1-Score: 0.2720\n",
    "\n",
    "#### 5. **Confusion Matrix (Visualization Analysis)**:\n",
    "   - The confusion matrix shows the distribution of true positive, false positive, true negative, and false negative predictions for each class.\n",
    "     - For **Hit and Run**, the model performs relatively well in identifying this offense (304 true positives). However, it also misclassifies some **Hit and Run** instances as other offenses (e.g., **Assault Simple**, **Suspicious Activity**, etc.).\n",
    "     - **Larceny - All Other** is frequently misclassified as **Hit and Run**, **Suspicious Activity**, and others. This is evident from the large number of off-diagonal elements in its row.\n",
    "     - **Assist Citizen - Mental/TDO/ECO** and **Suspicious Activity** are frequently misclassified, as seen by the off-diagonal values in their rows.\n",
    "\n",
    "### Conclusion:\n",
    "The Random Forest model has low accuracy (28.22%), suggesting that it struggles to predict most offenses accurately. Some offenses like **Hit and Run** are better predicted than others, but overall, the model shows a high level of misclassification across all offenses. There may be a need for further tuning of the model, additional feature engineering, or trying different models for better performance.\n",
    "\n",
    "Let me know if you'd like to improve the model or make adjustments based on these results!\n",
    "\n"
   ]
  },
  {
   "cell_type": "markdown",
   "id": "2a2bbf0b",
   "metadata": {
    "papermill": {
     "duration": 0.010576,
     "end_time": "2025-05-19T01:07:09.335134",
     "exception": false,
     "start_time": "2025-05-19T01:07:09.324558",
     "status": "completed"
    },
    "tags": []
   },
   "source": [
    "### Model Explanation\n",
    "\n",
    "Once we’ve chosen the best model, we will explain its predictions by examining feature importance for tree-based models and using statistical methods like logistic regression coefficients for linear models."
   ]
  },
  {
   "cell_type": "markdown",
   "id": "490b8cf2",
   "metadata": {
    "papermill": {
     "duration": 0.010601,
     "end_time": "2025-05-19T01:07:09.356310",
     "exception": false,
     "start_time": "2025-05-19T01:07:09.345709",
     "status": "completed"
    },
    "tags": []
   },
   "source": [
    "#### Feature Importance for Random Forest / Decision Tree\n",
    "\n",
    "##### For Tree-based Models (Random Forest, Decision Tree)\n",
    "\n",
    "For Random Forest or Decision Tree, we can look at feature importance to understand which variables contribute the most to the model's predictions. Here's how you can visualize and interpret the importance of each feature:"
   ]
  },
  {
   "cell_type": "code",
   "execution_count": 23,
   "id": "b8e8a3a5",
   "metadata": {
    "execution": {
     "iopub.execute_input": "2025-05-19T01:07:09.379177Z",
     "iopub.status.busy": "2025-05-19T01:07:09.378653Z",
     "iopub.status.idle": "2025-05-19T01:07:09.640396Z",
     "shell.execute_reply": "2025-05-19T01:07:09.639694Z"
    },
    "papermill": {
     "duration": 0.274537,
     "end_time": "2025-05-19T01:07:09.641576",
     "exception": false,
     "start_time": "2025-05-19T01:07:09.367039",
     "status": "completed"
    },
    "tags": []
   },
   "outputs": [
    {
     "data": {
      "image/png": "[encoded data removed]",
      "text/plain": [
       "<Figure size 1000x600 with 1 Axes>"
      ]
     },
     "metadata": {},
     "output_type": "display_data"
    }
   ],
   "source": [
    "# For RandomForest or DecisionTree models, we can check feature importance\n",
    "if isinstance(best_model, RandomForestClassifier) or isinstance(best_model, DecisionTreeClassifier):\n",
    "    feature_importance = best_model.feature_importances_\n",
    "    feature_names = X.columns\n",
    "    importance_df = pd.DataFrame({'Feature': feature_names, 'Importance': feature_importance})\n",
    "    importance_df = importance_df.sort_values(by='Importance', ascending=False)\n",
    "    \n",
    "    # Plotting the feature importances\n",
    "    plt.figure(figsize=(10, 6))\n",
    "    sns.barplot(x='Importance', y='Feature', data=importance_df)\n",
    "    plt.title(\"Feature Importance\")\n",
    "    plt.show()\n"
   ]
  },
  {
   "cell_type": "code",
   "execution_count": null,
   "id": "afaeb9c0",
   "metadata": {
    "papermill": {
     "duration": 0.011241,
     "end_time": "2025-05-19T01:07:09.664486",
     "exception": false,
     "start_time": "2025-05-19T01:07:09.653245",
     "status": "completed"
    },
    "tags": []
   },
   "outputs": [],
   "source": []
  },
  {
   "cell_type": "markdown",
   "id": "424438ec",
   "metadata": {
    "papermill": {
     "duration": 0.011193,
     "end_time": "2025-05-19T01:07:09.687063",
     "exception": false,
     "start_time": "2025-05-19T01:07:09.675870",
     "status": "completed"
    },
    "tags": []
   },
   "source": [
    "### Evaluation\n",
    "\n",
    "After training the models and examining their performance, we evaluate the chosen model based on metrics like accuracy, precision, recall, and F1 score.\n",
    "\n"
   ]
  },
  {
   "cell_type": "code",
   "execution_count": 24,
   "id": "a6f8cf92",
   "metadata": {
    "execution": {
     "iopub.execute_input": "2025-05-19T01:07:09.710795Z",
     "iopub.status.busy": "2025-05-19T01:07:09.710292Z",
     "iopub.status.idle": "2025-05-19T01:07:09.800192Z",
     "shell.execute_reply": "2025-05-19T01:07:09.799530Z"
    },
    "papermill": {
     "duration": 0.103048,
     "end_time": "2025-05-19T01:07:09.801287",
     "exception": false,
     "start_time": "2025-05-19T01:07:09.698239",
     "status": "completed"
    },
    "tags": []
   },
   "outputs": [
    {
     "name": "stdout",
     "output_type": "stream",
     "text": [
      "Accuracy: 0.2864\n",
      "Classification Report:\n",
      "              precision    recall  f1-score   support\n",
      "\n",
      "           0       0.28      0.38      0.32       584\n",
      "           1       0.35      0.23      0.28       454\n",
      "           2       0.31      0.47      0.37       649\n",
      "           3       0.22      0.19      0.21       449\n",
      "           4       0.32      0.17      0.22       379\n",
      "           5       0.24      0.20      0.22       507\n",
      "           6       0.29      0.26      0.27       463\n",
      "\n",
      "    accuracy                           0.29      3485\n",
      "   macro avg       0.29      0.27      0.27      3485\n",
      "weighted avg       0.29      0.29      0.28      3485\n",
      "\n",
      "Confusion Matrix:\n",
      "[[219  45 146  49  18  67  40]\n",
      " [115 104 113  39  11  48  24]\n",
      " [117  30 302  72  26  53  49]\n",
      " [ 73  25 120  87  28  51  65]\n",
      " [ 51  21  84  51  64  43  65]\n",
      " [113  38 123  55  29 102  47]\n",
      " [ 89  34  99  38  27  56 120]]\n",
      "Precision: 0.2870\n",
      "Recall: 0.2864\n",
      "F1 Score: 0.2779\n"
     ]
    }
   ],
   "source": [
    "from sklearn.metrics import classification_report, confusion_matrix, accuracy_score, precision_score, recall_score, f1_score\n",
    "\n",
    "# Predict on the test set\n",
    "y_pred = best_model.predict(X_test)\n",
    "\n",
    "# Calculate Accuracy\n",
    "accuracy = accuracy_score(y_test, y_pred)\n",
    "print(f\"Accuracy: {accuracy:.4f}\")\n",
    "\n",
    "# Classification Report\n",
    "print(\"Classification Report:\")\n",
    "print(classification_report(y_test, y_pred))\n",
    "\n",
    "# Confusion Matrix\n",
    "conf_matrix = confusion_matrix(y_test, y_pred)\n",
    "print(\"Confusion Matrix:\")\n",
    "print(conf_matrix)\n",
    "\n",
    "# Precision, Recall, F1 Score for each class (Offense Type)\n",
    "precision = precision_score(y_test, y_pred, average='weighted')\n",
    "recall = recall_score(y_test, y_pred, average='weighted')\n",
    "f1 = f1_score(y_test, y_pred, average='weighted')\n",
    "\n",
    "print(f\"Precision: {precision:.4f}\")\n",
    "print(f\"Recall: {recall:.4f}\")\n",
    "print(f\"F1 Score: {f1:.4f}\")\n"
   ]
  },
  {
   "cell_type": "markdown",
   "id": "185b5a19",
   "metadata": {
    "papermill": {
     "duration": 0.011118,
     "end_time": "2025-05-19T01:07:09.824144",
     "exception": false,
     "start_time": "2025-05-19T01:07:09.813026",
     "status": "completed"
    },
    "tags": []
   },
   "source": [
    "#### For Logistic Regression (Coefficient Interpretation)\n",
    "\n",
    "For Logistic Regression, the model coefficients can help us understand how each feature affects the likelihood of an offense happening. A positive coefficient indicates a feature increases the likelihood of the offense, and a negative coefficient indicates the opposite."
   ]
  },
  {
   "cell_type": "code",
   "execution_count": 25,
   "id": "85c152fc",
   "metadata": {
    "execution": {
     "iopub.execute_input": "2025-05-19T01:07:09.848108Z",
     "iopub.status.busy": "2025-05-19T01:07:09.847479Z",
     "iopub.status.idle": "2025-05-19T01:07:09.852371Z",
     "shell.execute_reply": "2025-05-19T01:07:09.851799Z"
    },
    "papermill": {
     "duration": 0.018197,
     "end_time": "2025-05-19T01:07:09.853475",
     "exception": false,
     "start_time": "2025-05-19T01:07:09.835278",
     "status": "completed"
    },
    "tags": []
   },
   "outputs": [],
   "source": [
    "if isinstance(best_model, LogisticRegression):\n",
    "    # Logistic regression coefficients\n",
    "    coef_df = pd.DataFrame({\n",
    "        'Feature': X.columns,\n",
    "        'Coefficient': best_model.coef_[0]\n",
    "    })\n",
    "    coef_df['AbsCoefficient'] = coef_df['Coefficient'].abs()\n",
    "    coef_df = coef_df.sort_values(by='AbsCoefficient', ascending=False)\n",
    "    \n",
    "    # Plotting the coefficients\n",
    "    plt.figure(figsize=(10, 6))\n",
    "    sns.barplot(x='AbsCoefficient', y='Feature', data=coef_df)\n",
    "    plt.title(\"Logistic Regression Coefficients Impact\")\n",
    "    plt.show()\n",
    "\n",
    "    # Print the top 5 most impactful features (by absolute coefficient value)\n",
    "    print(\"Top 5 most impactful features based on coefficients:\")\n",
    "    print(coef_df.head())\n"
   ]
  },
  {
   "cell_type": "markdown",
   "id": "86a687c6",
   "metadata": {
    "papermill": {
     "duration": 0.011151,
     "end_time": "2025-05-19T01:07:09.875999",
     "exception": false,
     "start_time": "2025-05-19T01:07:09.864848",
     "status": "completed"
    },
    "tags": []
   },
   "source": [
    "Explanation of Output:\n",
    "\n",
    "Feature Importance (Random Forest/Decision Tree): The bar plot will show how important each feature is in the decision-making process. Features at the top of the list are the most influential in predicting the occurrence of offenses.\n",
    "\n",
    "Logistic Regression Coefficients: The bar plot will show the magnitude of the coefficients for each feature. Features with larger absolute values (either positive or negative) have a stronger impact on the model’s predictions. Positive coefficients increase the probability of an offense, while negative coefficients decrease it."
   ]
  },
  {
   "cell_type": "markdown",
   "id": "d6dc9aed",
   "metadata": {
    "papermill": {
     "duration": 0.011011,
     "end_time": "2025-05-19T01:07:09.898131",
     "exception": false,
     "start_time": "2025-05-19T01:07:09.887120",
     "status": "completed"
    },
    "tags": []
   },
   "source": []
  }
 ],
 "metadata": {
  "kernelspec": {
   "display_name": "Python 3",
   "language": "python",
   "name": "python3"
  },
  "language_info": {
   "codemirror_mode": {
    "name": "ipython",
    "version": 3
   },
   "file_extension": ".py",
   "mimetype": "text/x-python",
   "name": "python",
   "nbconvert_exporter": "python",
   "pygments_lexer": "ipython3",
   "version": "3.9.22"
  },
  "papermill": {
   "default_parameters": {},
   "duration": 76.784272,
   "end_time": "2025-05-19T01:07:10.425996",
   "environment_variables": {},
   "exception": null,
   "input_path": "notebook/Crime Data.ipynb",
   "output_path": "notebook/Crime Data_output.ipynb",
   "parameters": {},
   "start_time": "2025-05-19T01:05:53.641724",
   "version": "2.6.0"
  }
 },
 "nbformat": 4,
 "nbformat_minor": 5
}