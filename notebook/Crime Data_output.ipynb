{
 "cells": [
  {
   "cell_type": "markdown",
   "id": "cf822646",
   "metadata": {
    "papermill": {
     "duration": 0.00433,
     "end_time": "2025-07-09T01:06:36.091959",
     "exception": false,
     "start_time": "2025-07-09T01:06:36.087629",
     "status": "completed"
    },
    "tags": []
   },
   "source": [
    "# Charlottesville Open Data Porttal: Crime Data"
   ]
  },
  {
   "cell_type": "markdown",
   "id": "ab1f5d63",
   "metadata": {
    "papermill": {
     "duration": 0.003189,
     "end_time": "2025-07-09T01:06:36.098772",
     "exception": false,
     "start_time": "2025-07-09T01:06:36.095583",
     "status": "completed"
    },
    "tags": []
   },
   "source": [
    "## Import Relevant Librarires & Set WD"
   ]
  },
  {
   "cell_type": "code",
   "execution_count": 1,
   "id": "a5c44f57",
   "metadata": {
    "execution": {
     "iopub.execute_input": "2025-07-09T01:06:36.106945Z",
     "iopub.status.busy": "2025-07-09T01:06:36.106287Z",
     "iopub.status.idle": "2025-07-09T01:06:36.699565Z",
     "shell.execute_reply": "2025-07-09T01:06:36.698889Z"
    },
    "papermill": {
     "duration": 0.598887,
     "end_time": "2025-07-09T01:06:36.700905",
     "exception": false,
     "start_time": "2025-07-09T01:06:36.102018",
     "status": "completed"
    },
    "tags": []
   },
   "outputs": [],
   "source": [
    "import requests\n",
    "import pandas as pd\n",
    "import numpy as np\n",
    "import pickle\n",
    "import googlemaps\n",
    "import plotly.express as px\n",
    "from geopy.geocoders import Nominatim\n",
    "import time\n",
    "from dotenv import load_dotenv\n",
    "import os\n",
    "\n",
    "env_path = os.path.join(\"..\", \".env\")\n",
    "#print(\"Looking for .env file at:\", os.path.abspath(env_path))\n",
    "load_dotenv(dotenv_path=env_path)\n",
    "\n",
    "# Retrieve the variables\n",
    "GOOGLE_API_KEY = os.getenv(\"GOOGLE_API_KEY\")\n",
    "WORKING_DIR = os.getenv(\"WORKING_DIR\")\n",
    "\n",
    "if GOOGLE_API_KEY is None or WORKING_DIR is None:\n",
    "    raise RuntimeError(\"No configuration found. Please ensure that your .env file exists with the required variables, or create a local config.py file.\")\n",
    "\n",
    "#print(\"Google API Key:\", GOOGLE_API_KEY)\n",
    "#print(\"Working Directory:\", WORKING_DIR)"
   ]
  },
  {
   "cell_type": "markdown",
   "id": "25023ea4",
   "metadata": {
    "papermill": {
     "duration": 0.003203,
     "end_time": "2025-07-09T01:06:36.707730",
     "exception": false,
     "start_time": "2025-07-09T01:06:36.704527",
     "status": "completed"
    },
    "tags": []
   },
   "source": [
    "## Import Data\n",
    "\n",
    "URL: https://opendata.charlottesville.org/datasets/charlottesville::crime-data/about"
   ]
  },
  {
   "cell_type": "code",
   "execution_count": 2,
   "id": "ccd560a8",
   "metadata": {
    "execution": {
     "iopub.execute_input": "2025-07-09T01:06:36.715407Z",
     "iopub.status.busy": "2025-07-09T01:06:36.715041Z",
     "iopub.status.idle": "2025-07-09T01:07:43.260215Z",
     "shell.execute_reply": "2025-07-09T01:07:43.259448Z"
    },
    "papermill": {
     "duration": 66.553332,
     "end_time": "2025-07-09T01:07:43.264395",
     "exception": false,
     "start_time": "2025-07-09T01:06:36.711063",
     "status": "completed"
    },
    "tags": []
   },
   "outputs": [
    {
     "name": "stdout",
     "output_type": "stream",
     "text": [
      "Total records imported: 25515\n"
     ]
    }
   ],
   "source": [
    "# Define the endpoint and initial parameters.\n",
    "url = \"https://gisweb.charlottesville.org/arcgis/rest/services/OpenData_2/MapServer/6/query\"\n",
    "params = {\n",
    "    \"where\": \"1=1\",\n",
    "    \"outFields\": \"*\",\n",
    "    \"outSR\": 4326,\n",
    "    \"f\": \"json\",\n",
    "    \"resultOffset\": 0,       # Starting index for results\n",
    "    \"resultRecordCount\": 10000  # Maximum records per batch (if allowed by the API)\n",
    "}\n",
    "\n",
    "records = []\n",
    "\n",
    "while True:\n",
    "    response = requests.get(url, params=params)\n",
    "    response.raise_for_status()\n",
    "    data = response.json()\n",
    "    \n",
    "    # Get the current batch of features.\n",
    "    features = data.get(\"features\", [])\n",
    "    if not features:\n",
    "        break\n",
    "\n",
    "    # Extract the attributes from the features.\n",
    "    batch_records = [feature.get(\"attributes\", {}) for feature in features]\n",
    "    records.extend(batch_records)\n",
    "    \n",
    "    # If the batch size is less than the requested count, we reached the end.\n",
    "    if len(features) < params[\"resultRecordCount\"]:\n",
    "        break\n",
    "\n",
    "    # Update the resultOffset for the next batch.\n",
    "    params[\"resultOffset\"] += params[\"resultRecordCount\"]\n",
    "\n",
    "# Create a DataFrame from the combined records.\n",
    "df = pd.DataFrame(records)\n",
    "print(\"Total records imported:\", len(df))\n"
   ]
  },
  {
   "cell_type": "code",
   "execution_count": 3,
   "id": "67a91ae7",
   "metadata": {
    "execution": {
     "iopub.execute_input": "2025-07-09T01:07:43.272271Z",
     "iopub.status.busy": "2025-07-09T01:07:43.271855Z",
     "iopub.status.idle": "2025-07-09T01:07:43.284339Z",
     "shell.execute_reply": "2025-07-09T01:07:43.283767Z"
    },
    "papermill": {
     "duration": 0.01741,
     "end_time": "2025-07-09T01:07:43.285267",
     "exception": false,
     "start_time": "2025-07-09T01:07:43.267857",
     "status": "completed"
    },
    "tags": []
   },
   "outputs": [
    {
     "data": {
      "text/html": [
       "<div>\n",
       "<style scoped>\n",
       "    .dataframe tbody tr th:only-of-type {\n",
       "        vertical-align: middle;\n",
       "    }\n",
       "\n",
       "    .dataframe tbody tr th {\n",
       "        vertical-align: top;\n",
       "    }\n",
       "\n",
       "    .dataframe thead th {\n",
       "        text-align: right;\n",
       "    }\n",
       "</style>\n",
       "<table border=\"1\" class=\"dataframe\">\n",
       "  <thead>\n",
       "    <tr style=\"text-align: right;\">\n",
       "      <th></th>\n",
       "      <th>RecordID</th>\n",
       "      <th>Offense</th>\n",
       "      <th>IncidentID</th>\n",
       "      <th>BlockNumber</th>\n",
       "      <th>StreetName</th>\n",
       "      <th>Agency</th>\n",
       "      <th>DateReported</th>\n",
       "      <th>HourReported</th>\n",
       "      <th>ReportingOfficer</th>\n",
       "    </tr>\n",
       "  </thead>\n",
       "  <tbody>\n",
       "    <tr>\n",
       "      <th>0</th>\n",
       "      <td>1</td>\n",
       "      <td>Larceny - From Motor Vehicle</td>\n",
       "      <td>202500023376</td>\n",
       "      <td>1000</td>\n",
       "      <td>WERTLAND ST</td>\n",
       "      <td>CPD</td>\n",
       "      <td>1751821963000</td>\n",
       "      <td>1312</td>\n",
       "      <td>Love-Baker, Sydney</td>\n",
       "    </tr>\n",
       "    <tr>\n",
       "      <th>1</th>\n",
       "      <td>2</td>\n",
       "      <td>Hit and Run</td>\n",
       "      <td>202500023368</td>\n",
       "      <td>300</td>\n",
       "      <td>PRESTON AVE</td>\n",
       "      <td>CPD</td>\n",
       "      <td>1751813650000</td>\n",
       "      <td>1054</td>\n",
       "      <td>Love-Baker, Sydney</td>\n",
       "    </tr>\n",
       "    <tr>\n",
       "      <th>2</th>\n",
       "      <td>3</td>\n",
       "      <td>Shots Fired/Illegal Hunting</td>\n",
       "      <td>202500023361</td>\n",
       "      <td>300</td>\n",
       "      <td>OLD LYNCHBURG RD</td>\n",
       "      <td>CPD</td>\n",
       "      <td>1751804347000</td>\n",
       "      <td>0819</td>\n",
       "      <td>Lowry, Ryan</td>\n",
       "    </tr>\n",
       "    <tr>\n",
       "      <th>3</th>\n",
       "      <td>4</td>\n",
       "      <td>Assault Intimidation</td>\n",
       "      <td>202500023358</td>\n",
       "      <td>100</td>\n",
       "      <td>W MARKET ST</td>\n",
       "      <td>CPD</td>\n",
       "      <td>1751793240000</td>\n",
       "      <td>0514</td>\n",
       "      <td>Phillips, Nicole</td>\n",
       "    </tr>\n",
       "    <tr>\n",
       "      <th>4</th>\n",
       "      <td>5</td>\n",
       "      <td>Weapons Violations</td>\n",
       "      <td>202500023331</td>\n",
       "      <td>1900</td>\n",
       "      <td>CEDAR HILL RD, B</td>\n",
       "      <td>CPD</td>\n",
       "      <td>1751772772000</td>\n",
       "      <td>2332</td>\n",
       "      <td>Pinkman, Jackson</td>\n",
       "    </tr>\n",
       "  </tbody>\n",
       "</table>\n",
       "</div>"
      ],
      "text/plain": [
       "   RecordID                       Offense    IncidentID BlockNumber  \\\n",
       "0         1  Larceny - From Motor Vehicle  202500023376        1000   \n",
       "1         2                   Hit and Run  202500023368         300   \n",
       "2         3   Shots Fired/Illegal Hunting  202500023361         300   \n",
       "3         4          Assault Intimidation  202500023358         100   \n",
       "4         5            Weapons Violations  202500023331        1900   \n",
       "\n",
       "         StreetName Agency   DateReported HourReported    ReportingOfficer  \n",
       "0       WERTLAND ST    CPD  1751821963000         1312  Love-Baker, Sydney  \n",
       "1       PRESTON AVE    CPD  1751813650000         1054  Love-Baker, Sydney  \n",
       "2  OLD LYNCHBURG RD    CPD  1751804347000         0819         Lowry, Ryan  \n",
       "3       W MARKET ST    CPD  1751793240000         0514    Phillips, Nicole  \n",
       "4  CEDAR HILL RD, B    CPD  1751772772000         2332    Pinkman, Jackson  "
      ]
     },
     "execution_count": 3,
     "metadata": {},
     "output_type": "execute_result"
    }
   ],
   "source": [
    "df.head()"
   ]
  },
  {
   "cell_type": "code",
   "execution_count": 4,
   "id": "61d3024d",
   "metadata": {
    "execution": {
     "iopub.execute_input": "2025-07-09T01:07:43.293285Z",
     "iopub.status.busy": "2025-07-09T01:07:43.292929Z",
     "iopub.status.idle": "2025-07-09T01:07:43.297274Z",
     "shell.execute_reply": "2025-07-09T01:07:43.296627Z"
    },
    "papermill": {
     "duration": 0.009381,
     "end_time": "2025-07-09T01:07:43.298281",
     "exception": false,
     "start_time": "2025-07-09T01:07:43.288900",
     "status": "completed"
    },
    "tags": []
   },
   "outputs": [
    {
     "data": {
      "text/plain": [
       "Index(['RecordID', 'Offense', 'IncidentID', 'BlockNumber', 'StreetName',\n",
       "       'Agency', 'DateReported', 'HourReported', 'ReportingOfficer'],\n",
       "      dtype='object')"
      ]
     },
     "execution_count": 4,
     "metadata": {},
     "output_type": "execute_result"
    }
   ],
   "source": [
    "df.columns"
   ]
  },
  {
   "cell_type": "code",
   "execution_count": 5,
   "id": "903f9a24",
   "metadata": {
    "execution": {
     "iopub.execute_input": "2025-07-09T01:07:43.306910Z",
     "iopub.status.busy": "2025-07-09T01:07:43.306534Z",
     "iopub.status.idle": "2025-07-09T01:07:43.328982Z",
     "shell.execute_reply": "2025-07-09T01:07:43.328337Z"
    },
    "papermill": {
     "duration": 0.028062,
     "end_time": "2025-07-09T01:07:43.329989",
     "exception": false,
     "start_time": "2025-07-09T01:07:43.301927",
     "status": "completed"
    },
    "tags": []
   },
   "outputs": [
    {
     "name": "stdout",
     "output_type": "stream",
     "text": [
      "<class 'pandas.core.frame.DataFrame'>\n",
      "RangeIndex: 25515 entries, 0 to 25514\n",
      "Data columns (total 9 columns):\n",
      " #   Column            Non-Null Count  Dtype \n",
      "---  ------            --------------  ----- \n",
      " 0   RecordID          25515 non-null  int64 \n",
      " 1   Offense           25515 non-null  object\n",
      " 2   IncidentID        25515 non-null  object\n",
      " 3   BlockNumber       25515 non-null  object\n",
      " 4   StreetName        25515 non-null  object\n",
      " 5   Agency            25515 non-null  object\n",
      " 6   DateReported      25515 non-null  int64 \n",
      " 7   HourReported      25515 non-null  object\n",
      " 8   ReportingOfficer  25498 non-null  object\n",
      "dtypes: int64(2), object(7)\n",
      "memory usage: 1.8+ MB\n"
     ]
    }
   ],
   "source": [
    "df.info()"
   ]
  },
  {
   "cell_type": "markdown",
   "id": "5f6850e4",
   "metadata": {
    "papermill": {
     "duration": 0.003666,
     "end_time": "2025-07-09T01:07:43.337575",
     "exception": false,
     "start_time": "2025-07-09T01:07:43.333909",
     "status": "completed"
    },
    "tags": []
   },
   "source": [
    "### Missing Values"
   ]
  },
  {
   "cell_type": "code",
   "execution_count": 6,
   "id": "b1eb4d73",
   "metadata": {
    "execution": {
     "iopub.execute_input": "2025-07-09T01:07:43.374185Z",
     "iopub.status.busy": "2025-07-09T01:07:43.373537Z",
     "iopub.status.idle": "2025-07-09T01:07:43.397286Z",
     "shell.execute_reply": "2025-07-09T01:07:43.396725Z"
    },
    "papermill": {
     "duration": 0.029406,
     "end_time": "2025-07-09T01:07:43.398220",
     "exception": false,
     "start_time": "2025-07-09T01:07:43.368814",
     "status": "completed"
    },
    "tags": []
   },
   "outputs": [
    {
     "name": "stdout",
     "output_type": "stream",
     "text": [
      "                  MissingCount  MissingPercentage\n",
      "RecordID                     0               0.00\n",
      "Offense                      0               0.00\n",
      "IncidentID                   0               0.00\n",
      "BlockNumber                  0               0.00\n",
      "StreetName                   0               0.00\n",
      "Agency                       0               0.00\n",
      "DateReported                 0               0.00\n",
      "HourReported                 0               0.00\n",
      "ReportingOfficer            17               0.07\n"
     ]
    }
   ],
   "source": [
    "def missing_percentage(df):\n",
    "    \"\"\"\n",
    "    Returns a DataFrame with the count and percentage of missing values for each column.\n",
    "    \n",
    "    Parameters:\n",
    "        df (pd.DataFrame): The input DataFrame.\n",
    "    \n",
    "    Returns:\n",
    "        pd.DataFrame: A DataFrame with columns 'MissingCount' and 'MissingPercentage'.\n",
    "    \"\"\"\n",
    "    total_rows = len(df)\n",
    "    missing_count = df.isnull().sum()\n",
    "    missing_percent = (missing_count / total_rows) * 100\n",
    "    \n",
    "    result = pd.DataFrame({\n",
    "        'MissingCount': missing_count,\n",
    "        'MissingPercentage': missing_percent.round(2)\n",
    "    })\n",
    "    \n",
    "    return result\n",
    "\n",
    "# Example usage:\n",
    "missing_info = missing_percentage(df)\n",
    "print(missing_info)\n"
   ]
  },
  {
   "cell_type": "markdown",
   "id": "7e3a1b59",
   "metadata": {
    "papermill": {
     "duration": 0.003744,
     "end_time": "2025-07-09T01:07:43.405911",
     "exception": false,
     "start_time": "2025-07-09T01:07:43.402167",
     "status": "completed"
    },
    "tags": []
   },
   "source": [
    "## Data Preparation"
   ]
  },
  {
   "cell_type": "markdown",
   "id": "0fcf8912",
   "metadata": {
    "papermill": {
     "duration": 0.003647,
     "end_time": "2025-07-09T01:07:43.413306",
     "exception": false,
     "start_time": "2025-07-09T01:07:43.409659",
     "status": "completed"
    },
    "tags": []
   },
   "source": [
    "### Data Conversion"
   ]
  },
  {
   "cell_type": "code",
   "execution_count": 7,
   "id": "e063edd3",
   "metadata": {
    "execution": {
     "iopub.execute_input": "2025-07-09T01:07:43.423040Z",
     "iopub.status.busy": "2025-07-09T01:07:43.422511Z",
     "iopub.status.idle": "2025-07-09T01:07:43.780703Z",
     "shell.execute_reply": "2025-07-09T01:07:43.780097Z"
    },
    "papermill": {
     "duration": 0.364719,
     "end_time": "2025-07-09T01:07:43.781803",
     "exception": false,
     "start_time": "2025-07-09T01:07:43.417084",
     "status": "completed"
    },
    "tags": []
   },
   "outputs": [
    {
     "data": {
      "text/html": [
       "<div>\n",
       "<style scoped>\n",
       "    .dataframe tbody tr th:only-of-type {\n",
       "        vertical-align: middle;\n",
       "    }\n",
       "\n",
       "    .dataframe tbody tr th {\n",
       "        vertical-align: top;\n",
       "    }\n",
       "\n",
       "    .dataframe thead th {\n",
       "        text-align: right;\n",
       "    }\n",
       "</style>\n",
       "<table border=\"1\" class=\"dataframe\">\n",
       "  <thead>\n",
       "    <tr style=\"text-align: right;\">\n",
       "      <th></th>\n",
       "      <th>RecordID</th>\n",
       "      <th>Offense</th>\n",
       "      <th>IncidentID</th>\n",
       "      <th>BlockNumber</th>\n",
       "      <th>StreetName</th>\n",
       "      <th>Agency</th>\n",
       "      <th>HourReported</th>\n",
       "      <th>ReportingOfficer</th>\n",
       "      <th>Date</th>\n",
       "      <th>DateString</th>\n",
       "      <th>DayOfWeek</th>\n",
       "      <th>Weekend</th>\n",
       "      <th>Season</th>\n",
       "      <th>HourAMPM</th>\n",
       "      <th>TimeOfDay</th>\n",
       "    </tr>\n",
       "  </thead>\n",
       "  <tbody>\n",
       "    <tr>\n",
       "      <th>0</th>\n",
       "      <td>1</td>\n",
       "      <td>Larceny - From Motor Vehicle</td>\n",
       "      <td>202500023376</td>\n",
       "      <td>1000</td>\n",
       "      <td>WERTLAND ST</td>\n",
       "      <td>CPD</td>\n",
       "      <td>1312</td>\n",
       "      <td>Love-Baker, Sydney</td>\n",
       "      <td>2025-07-06 13:12:43</td>\n",
       "      <td>2025-07-06 01:12:43 PM</td>\n",
       "      <td>Sunday</td>\n",
       "      <td>True</td>\n",
       "      <td>Summer</td>\n",
       "      <td>01:12 PM</td>\n",
       "      <td>Afternoon</td>\n",
       "    </tr>\n",
       "    <tr>\n",
       "      <th>1</th>\n",
       "      <td>2</td>\n",
       "      <td>Hit and Run</td>\n",
       "      <td>202500023368</td>\n",
       "      <td>300</td>\n",
       "      <td>PRESTON AVE</td>\n",
       "      <td>CPD</td>\n",
       "      <td>1054</td>\n",
       "      <td>Love-Baker, Sydney</td>\n",
       "      <td>2025-07-06 10:54:10</td>\n",
       "      <td>2025-07-06 10:54:10 AM</td>\n",
       "      <td>Sunday</td>\n",
       "      <td>True</td>\n",
       "      <td>Summer</td>\n",
       "      <td>10:54 AM</td>\n",
       "      <td>Morning</td>\n",
       "    </tr>\n",
       "    <tr>\n",
       "      <th>2</th>\n",
       "      <td>3</td>\n",
       "      <td>Shots Fired/Illegal Hunting</td>\n",
       "      <td>202500023361</td>\n",
       "      <td>300</td>\n",
       "      <td>OLD LYNCHBURG RD</td>\n",
       "      <td>CPD</td>\n",
       "      <td>0819</td>\n",
       "      <td>Lowry, Ryan</td>\n",
       "      <td>2025-07-06 08:19:07</td>\n",
       "      <td>2025-07-06 08:19:07 AM</td>\n",
       "      <td>Sunday</td>\n",
       "      <td>True</td>\n",
       "      <td>Summer</td>\n",
       "      <td>08:19 AM</td>\n",
       "      <td>Morning</td>\n",
       "    </tr>\n",
       "    <tr>\n",
       "      <th>3</th>\n",
       "      <td>4</td>\n",
       "      <td>Assault Intimidation</td>\n",
       "      <td>202500023358</td>\n",
       "      <td>100</td>\n",
       "      <td>W MARKET ST</td>\n",
       "      <td>CPD</td>\n",
       "      <td>0514</td>\n",
       "      <td>Phillips, Nicole</td>\n",
       "      <td>2025-07-06 05:14:00</td>\n",
       "      <td>2025-07-06 05:14:00 AM</td>\n",
       "      <td>Sunday</td>\n",
       "      <td>True</td>\n",
       "      <td>Summer</td>\n",
       "      <td>05:14 AM</td>\n",
       "      <td>Morning</td>\n",
       "    </tr>\n",
       "    <tr>\n",
       "      <th>4</th>\n",
       "      <td>5</td>\n",
       "      <td>Weapons Violations</td>\n",
       "      <td>202500023331</td>\n",
       "      <td>1900</td>\n",
       "      <td>CEDAR HILL RD, B</td>\n",
       "      <td>CPD</td>\n",
       "      <td>2332</td>\n",
       "      <td>Pinkman, Jackson</td>\n",
       "      <td>2025-07-05 23:32:52</td>\n",
       "      <td>2025-07-05 11:32:52 PM</td>\n",
       "      <td>Saturday</td>\n",
       "      <td>True</td>\n",
       "      <td>Summer</td>\n",
       "      <td>11:32 PM</td>\n",
       "      <td>Night</td>\n",
       "    </tr>\n",
       "  </tbody>\n",
       "</table>\n",
       "</div>"
      ],
      "text/plain": [
       "   RecordID                       Offense    IncidentID BlockNumber  \\\n",
       "0         1  Larceny - From Motor Vehicle  202500023376        1000   \n",
       "1         2                   Hit and Run  202500023368         300   \n",
       "2         3   Shots Fired/Illegal Hunting  202500023361         300   \n",
       "3         4          Assault Intimidation  202500023358         100   \n",
       "4         5            Weapons Violations  202500023331        1900   \n",
       "\n",
       "         StreetName Agency HourReported    ReportingOfficer  \\\n",
       "0       WERTLAND ST    CPD         1312  Love-Baker, Sydney   \n",
       "1       PRESTON AVE    CPD         1054  Love-Baker, Sydney   \n",
       "2  OLD LYNCHBURG RD    CPD         0819         Lowry, Ryan   \n",
       "3       W MARKET ST    CPD         0514    Phillips, Nicole   \n",
       "4  CEDAR HILL RD, B    CPD         2332    Pinkman, Jackson   \n",
       "\n",
       "                 Date              DateString DayOfWeek  Weekend  Season  \\\n",
       "0 2025-07-06 13:12:43  2025-07-06 01:12:43 PM    Sunday     True  Summer   \n",
       "1 2025-07-06 10:54:10  2025-07-06 10:54:10 AM    Sunday     True  Summer   \n",
       "2 2025-07-06 08:19:07  2025-07-06 08:19:07 AM    Sunday     True  Summer   \n",
       "3 2025-07-06 05:14:00  2025-07-06 05:14:00 AM    Sunday     True  Summer   \n",
       "4 2025-07-05 23:32:52  2025-07-05 11:32:52 PM  Saturday     True  Summer   \n",
       "\n",
       "   HourAMPM  TimeOfDay  \n",
       "0  01:12 PM  Afternoon  \n",
       "1  10:54 AM    Morning  \n",
       "2  08:19 AM    Morning  \n",
       "3  05:14 AM    Morning  \n",
       "4  11:32 PM      Night  "
      ]
     },
     "execution_count": 7,
     "metadata": {},
     "output_type": "execute_result"
    }
   ],
   "source": [
    "def convert_and_categorize_datereported(df, col='DateReported'):\n",
    "    \"\"\"\n",
    "    Converts an epoch (in milliseconds) date column into a timezone-aware datetime,\n",
    "    converts it to Eastern Time, and then creates columns for day-of-week, weekend flag,\n",
    "    season, 12-hour formatted time, and time-of-day. Keeps both a real datetime column\n",
    "    (Date) and a string representation (DateString).\n",
    "    \"\"\"\n",
    "    import pandas as pd\n",
    "\n",
    "    # Convert the epoch timestamp to a pandas datetime object as UTC, then convert to US/Eastern.\n",
    "    df[\"DateReported_dt\"] = (\n",
    "        pd.to_datetime(df[col], unit=\"ms\", errors=\"coerce\", utc=True)\n",
    "        .dt.tz_convert(\"US/Eastern\")\n",
    "    )\n",
    "    \n",
    "    # Create a true datetime column (remove timezone if you prefer naive datetime)\n",
    "    df[\"Date\"] = df[\"DateReported_dt\"].dt.tz_localize(None)\n",
    "\n",
    "    # Optionally, create a separate string-formatted column\n",
    "    df[\"DateString\"] = df[\"DateReported_dt\"].dt.strftime(\"%Y-%m-%d %I:%M:%S %p\")\n",
    "    \n",
    "    # DayOfWeek\n",
    "    df[\"DayOfWeek\"] = df[\"DateReported_dt\"].dt.day_name()\n",
    "    \n",
    "    # Weekend\n",
    "    df[\"Weekend\"] = df[\"DayOfWeek\"].isin([\"Saturday\", \"Sunday\"])\n",
    "    \n",
    "    # Helper function to determine the season\n",
    "    def get_season(dt):\n",
    "        month = dt.month\n",
    "        day = dt.day\n",
    "        # Approximate Northern Hemisphere season boundaries:\n",
    "        if (month == 12 and day >= 21) or (month < 3) or (month == 3 and day < 20):\n",
    "            return \"Winter\"\n",
    "        elif (month == 3 and day >= 20) or (month < 6) or (month == 6 and day < 21):\n",
    "            return \"Spring\"\n",
    "        elif (month == 6 and day >= 21) or (month < 9) or (month == 9 and day < 22):\n",
    "            return \"Summer\"\n",
    "        else:\n",
    "            return \"Autumn\"\n",
    "    \n",
    "    df[\"Season\"] = df[\"DateReported_dt\"].apply(get_season)\n",
    "    \n",
    "    # 12-hour formatted time (HourAMPM)\n",
    "    df[\"HourAMPM\"] = df[\"DateReported_dt\"].dt.strftime(\"%I:%M %p\")\n",
    "    \n",
    "    # Extract hour (0-23) for time-of-day\n",
    "    df[\"HourValue\"] = df[\"DateReported_dt\"].dt.hour\n",
    "    \n",
    "    def time_of_day(hour):\n",
    "        if pd.isnull(hour):\n",
    "            return None\n",
    "        if 5 <= hour < 12:\n",
    "            return \"Morning\"\n",
    "        elif 12 <= hour < 17:\n",
    "            return \"Afternoon\"\n",
    "        elif 17 <= hour < 21:\n",
    "            return \"Evening\"\n",
    "        else:\n",
    "            return \"Night\"\n",
    "    \n",
    "    df[\"TimeOfDay\"] = df[\"HourValue\"].apply(time_of_day)\n",
    "    \n",
    "    # Drop columns you no longer need\n",
    "    df.drop(columns=[col, \"DateReported_dt\", \"HourValue\"], inplace=True)\n",
    "    \n",
    "    return df\n",
    "\n",
    "# Example usage:\n",
    "df = convert_and_categorize_datereported(df)\n",
    "df.head()\n"
   ]
  },
  {
   "cell_type": "code",
   "execution_count": 8,
   "id": "2f546411",
   "metadata": {
    "execution": {
     "iopub.execute_input": "2025-07-09T01:07:43.791353Z",
     "iopub.status.busy": "2025-07-09T01:07:43.790832Z",
     "iopub.status.idle": "2025-07-09T01:07:43.816444Z",
     "shell.execute_reply": "2025-07-09T01:07:43.815827Z"
    },
    "papermill": {
     "duration": 0.031354,
     "end_time": "2025-07-09T01:07:43.817442",
     "exception": false,
     "start_time": "2025-07-09T01:07:43.786088",
     "status": "completed"
    },
    "tags": []
   },
   "outputs": [
    {
     "name": "stdout",
     "output_type": "stream",
     "text": [
      "<class 'pandas.core.frame.DataFrame'>\n",
      "RangeIndex: 25515 entries, 0 to 25514\n",
      "Data columns (total 15 columns):\n",
      " #   Column            Non-Null Count  Dtype         \n",
      "---  ------            --------------  -----         \n",
      " 0   RecordID          25515 non-null  int64         \n",
      " 1   Offense           25515 non-null  object        \n",
      " 2   IncidentID        25515 non-null  object        \n",
      " 3   BlockNumber       25515 non-null  object        \n",
      " 4   StreetName        25515 non-null  object        \n",
      " 5   Agency            25515 non-null  object        \n",
      " 6   HourReported      25515 non-null  object        \n",
      " 7   ReportingOfficer  25498 non-null  object        \n",
      " 8   Date              25515 non-null  datetime64[ns]\n",
      " 9   DateString        25515 non-null  object        \n",
      " 10  DayOfWeek         25515 non-null  object        \n",
      " 11  Weekend           25515 non-null  bool          \n",
      " 12  Season            25515 non-null  object        \n",
      " 13  HourAMPM          25515 non-null  object        \n",
      " 14  TimeOfDay         25515 non-null  object        \n",
      "dtypes: bool(1), datetime64[ns](1), int64(1), object(12)\n",
      "memory usage: 2.7+ MB\n"
     ]
    }
   ],
   "source": [
    "df.info()"
   ]
  },
  {
   "cell_type": "markdown",
   "id": "e1e1d38c",
   "metadata": {
    "papermill": {
     "duration": 0.004105,
     "end_time": "2025-07-09T01:07:43.825733",
     "exception": false,
     "start_time": "2025-07-09T01:07:43.821628",
     "status": "completed"
    },
    "tags": []
   },
   "source": [
    "### Coordinates"
   ]
  },
  {
   "cell_type": "code",
   "execution_count": 9,
   "id": "cb171f7b",
   "metadata": {
    "execution": {
     "iopub.execute_input": "2025-07-09T01:07:43.834869Z",
     "iopub.status.busy": "2025-07-09T01:07:43.834628Z",
     "iopub.status.idle": "2025-07-09T01:07:43.962424Z",
     "shell.execute_reply": "2025-07-09T01:07:43.961813Z"
    },
    "papermill": {
     "duration": 0.133534,
     "end_time": "2025-07-09T01:07:43.963419",
     "exception": false,
     "start_time": "2025-07-09T01:07:43.829885",
     "status": "completed"
    },
    "tags": []
   },
   "outputs": [
    {
     "name": "stdout",
     "output_type": "stream",
     "text": [
      "Loaded geocode cache.\n",
      "Error geocoding 500 S 1ST ST, 213: REQUEST_DENIED (You must enable Billing on the Google Cloud Project at https://console.cloud.google.com/project/_/billing/enable Learn more at https://developers.google.com/maps/gmp-get-started)\n",
      "Geocoded 500 S 1ST ST, 213: None, None\n",
      "Geocode cache updated and saved.\n"
     ]
    },
    {
     "data": {
      "text/html": [
       "<div>\n",
       "<style scoped>\n",
       "    .dataframe tbody tr th:only-of-type {\n",
       "        vertical-align: middle;\n",
       "    }\n",
       "\n",
       "    .dataframe tbody tr th {\n",
       "        vertical-align: top;\n",
       "    }\n",
       "\n",
       "    .dataframe thead th {\n",
       "        text-align: right;\n",
       "    }\n",
       "</style>\n",
       "<table border=\"1\" class=\"dataframe\">\n",
       "  <thead>\n",
       "    <tr style=\"text-align: right;\">\n",
       "      <th></th>\n",
       "      <th>RecordID</th>\n",
       "      <th>Offense</th>\n",
       "      <th>IncidentID</th>\n",
       "      <th>BlockNumber</th>\n",
       "      <th>StreetName</th>\n",
       "      <th>Agency</th>\n",
       "      <th>HourReported</th>\n",
       "      <th>ReportingOfficer</th>\n",
       "      <th>Date</th>\n",
       "      <th>DateString</th>\n",
       "      <th>DayOfWeek</th>\n",
       "      <th>Weekend</th>\n",
       "      <th>Season</th>\n",
       "      <th>HourAMPM</th>\n",
       "      <th>TimeOfDay</th>\n",
       "      <th>FullStreet</th>\n",
       "      <th>lat</th>\n",
       "      <th>lon</th>\n",
       "    </tr>\n",
       "  </thead>\n",
       "  <tbody>\n",
       "    <tr>\n",
       "      <th>0</th>\n",
       "      <td>1</td>\n",
       "      <td>Larceny - From Motor Vehicle</td>\n",
       "      <td>202500023376</td>\n",
       "      <td>1000</td>\n",
       "      <td>WERTLAND ST</td>\n",
       "      <td>CPD</td>\n",
       "      <td>1312</td>\n",
       "      <td>Love-Baker, Sydney</td>\n",
       "      <td>2025-07-06 13:12:43</td>\n",
       "      <td>2025-07-06 01:12:43 PM</td>\n",
       "      <td>Sunday</td>\n",
       "      <td>True</td>\n",
       "      <td>Summer</td>\n",
       "      <td>01:12 PM</td>\n",
       "      <td>Afternoon</td>\n",
       "      <td>1000 WERTLAND ST</td>\n",
       "      <td>38.033911</td>\n",
       "      <td>-78.494253</td>\n",
       "    </tr>\n",
       "    <tr>\n",
       "      <th>1</th>\n",
       "      <td>2</td>\n",
       "      <td>Hit and Run</td>\n",
       "      <td>202500023368</td>\n",
       "      <td>300</td>\n",
       "      <td>PRESTON AVE</td>\n",
       "      <td>CPD</td>\n",
       "      <td>1054</td>\n",
       "      <td>Love-Baker, Sydney</td>\n",
       "      <td>2025-07-06 10:54:10</td>\n",
       "      <td>2025-07-06 10:54:10 AM</td>\n",
       "      <td>Sunday</td>\n",
       "      <td>True</td>\n",
       "      <td>Summer</td>\n",
       "      <td>10:54 AM</td>\n",
       "      <td>Morning</td>\n",
       "      <td>300 PRESTON AVE</td>\n",
       "      <td>38.033020</td>\n",
       "      <td>-78.483852</td>\n",
       "    </tr>\n",
       "    <tr>\n",
       "      <th>2</th>\n",
       "      <td>3</td>\n",
       "      <td>Shots Fired/Illegal Hunting</td>\n",
       "      <td>202500023361</td>\n",
       "      <td>300</td>\n",
       "      <td>OLD LYNCHBURG RD</td>\n",
       "      <td>CPD</td>\n",
       "      <td>0819</td>\n",
       "      <td>Lowry, Ryan</td>\n",
       "      <td>2025-07-06 08:19:07</td>\n",
       "      <td>2025-07-06 08:19:07 AM</td>\n",
       "      <td>Sunday</td>\n",
       "      <td>True</td>\n",
       "      <td>Summer</td>\n",
       "      <td>08:19 AM</td>\n",
       "      <td>Morning</td>\n",
       "      <td>300 OLD LYNCHBURG RD</td>\n",
       "      <td>38.013285</td>\n",
       "      <td>-78.516411</td>\n",
       "    </tr>\n",
       "    <tr>\n",
       "      <th>3</th>\n",
       "      <td>4</td>\n",
       "      <td>Assault Intimidation</td>\n",
       "      <td>202500023358</td>\n",
       "      <td>100</td>\n",
       "      <td>W MARKET ST</td>\n",
       "      <td>CPD</td>\n",
       "      <td>0514</td>\n",
       "      <td>Phillips, Nicole</td>\n",
       "      <td>2025-07-06 05:14:00</td>\n",
       "      <td>2025-07-06 05:14:00 AM</td>\n",
       "      <td>Sunday</td>\n",
       "      <td>True</td>\n",
       "      <td>Summer</td>\n",
       "      <td>05:14 AM</td>\n",
       "      <td>Morning</td>\n",
       "      <td>100 W MARKET ST</td>\n",
       "      <td>38.031964</td>\n",
       "      <td>-78.482537</td>\n",
       "    </tr>\n",
       "    <tr>\n",
       "      <th>4</th>\n",
       "      <td>5</td>\n",
       "      <td>Weapons Violations</td>\n",
       "      <td>202500023331</td>\n",
       "      <td>1900</td>\n",
       "      <td>CEDAR HILL RD, B</td>\n",
       "      <td>CPD</td>\n",
       "      <td>2332</td>\n",
       "      <td>Pinkman, Jackson</td>\n",
       "      <td>2025-07-05 23:32:52</td>\n",
       "      <td>2025-07-05 11:32:52 PM</td>\n",
       "      <td>Saturday</td>\n",
       "      <td>True</td>\n",
       "      <td>Summer</td>\n",
       "      <td>11:32 PM</td>\n",
       "      <td>Night</td>\n",
       "      <td>1900 CEDAR HILL RD, B</td>\n",
       "      <td>38.063340</td>\n",
       "      <td>-78.495715</td>\n",
       "    </tr>\n",
       "  </tbody>\n",
       "</table>\n",
       "</div>"
      ],
      "text/plain": [
       "   RecordID                       Offense    IncidentID BlockNumber  \\\n",
       "0         1  Larceny - From Motor Vehicle  202500023376        1000   \n",
       "1         2                   Hit and Run  202500023368         300   \n",
       "2         3   Shots Fired/Illegal Hunting  202500023361         300   \n",
       "3         4          Assault Intimidation  202500023358         100   \n",
       "4         5            Weapons Violations  202500023331        1900   \n",
       "\n",
       "         StreetName Agency HourReported    ReportingOfficer  \\\n",
       "0       WERTLAND ST    CPD         1312  Love-Baker, Sydney   \n",
       "1       PRESTON AVE    CPD         1054  Love-Baker, Sydney   \n",
       "2  OLD LYNCHBURG RD    CPD         0819         Lowry, Ryan   \n",
       "3       W MARKET ST    CPD         0514    Phillips, Nicole   \n",
       "4  CEDAR HILL RD, B    CPD         2332    Pinkman, Jackson   \n",
       "\n",
       "                 Date              DateString DayOfWeek  Weekend  Season  \\\n",
       "0 2025-07-06 13:12:43  2025-07-06 01:12:43 PM    Sunday     True  Summer   \n",
       "1 2025-07-06 10:54:10  2025-07-06 10:54:10 AM    Sunday     True  Summer   \n",
       "2 2025-07-06 08:19:07  2025-07-06 08:19:07 AM    Sunday     True  Summer   \n",
       "3 2025-07-06 05:14:00  2025-07-06 05:14:00 AM    Sunday     True  Summer   \n",
       "4 2025-07-05 23:32:52  2025-07-05 11:32:52 PM  Saturday     True  Summer   \n",
       "\n",
       "   HourAMPM  TimeOfDay             FullStreet        lat        lon  \n",
       "0  01:12 PM  Afternoon       1000 WERTLAND ST  38.033911 -78.494253  \n",
       "1  10:54 AM    Morning        300 PRESTON AVE  38.033020 -78.483852  \n",
       "2  08:19 AM    Morning   300 OLD LYNCHBURG RD  38.013285 -78.516411  \n",
       "3  05:14 AM    Morning        100 W MARKET ST  38.031964 -78.482537  \n",
       "4  11:32 PM      Night  1900 CEDAR HILL RD, B  38.063340 -78.495715  "
      ]
     },
     "execution_count": 9,
     "metadata": {},
     "output_type": "execute_result"
    }
   ],
   "source": [
    "# Combine BlockNumber and StreetName into a full address string\n",
    "df['FullStreet'] = df['BlockNumber'].astype(str) + \" \" + df['StreetName']\n",
    "\n",
    "# --- Step 1: Setup the Google Maps Client and Cache ---\n",
    "gmaps = googlemaps.Client(key=GOOGLE_API_KEY)\n",
    "\n",
    "# Try to load cached geocoding results if available.\n",
    "try:\n",
    "    with open(\"geocode_cache_google.pkl\", \"rb\") as f:\n",
    "        street_coords = pickle.load(f)\n",
    "    print(\"Loaded geocode cache.\")\n",
    "except FileNotFoundError:\n",
    "    street_coords = {}\n",
    "    print(\"No cache found; starting fresh.\")\n",
    "\n",
    "def geocode_address(address):\n",
    "    try:\n",
    "        # Append city and state to help geocoding\n",
    "        result = gmaps.geocode(f\"{address}, Charlottesville, VA\")\n",
    "        if result:\n",
    "            lat = result[0]['geometry']['location']['lat']\n",
    "            lon = result[0]['geometry']['location']['lng']\n",
    "            return lat, lon\n",
    "    except Exception as e:\n",
    "        print(f\"Error geocoding {address}: {e}\")\n",
    "    return None, None\n",
    "\n",
    "# --- Step 2: Geocode Only New Addresses ---\n",
    "unique_addresses = df['FullStreet'].unique()\n",
    "for address in unique_addresses:\n",
    "    if address not in street_coords:\n",
    "        lat, lon = geocode_address(address)\n",
    "        street_coords[address] = (lat, lon)\n",
    "        print(f\"Geocoded {address}: {lat}, {lon}\")\n",
    "\n",
    "# Save the updated cache to disk.\n",
    "with open(\"geocode_cache_google.pkl\", \"wb\") as f:\n",
    "    pickle.dump(street_coords, f)\n",
    "    print(\"Geocode cache updated and saved.\")\n",
    "\n",
    "# --- Step 3: Map Coordinates Back to DataFrame ---\n",
    "df['lat'] = df['FullStreet'].map(lambda s: street_coords.get(s, (None, None))[0])\n",
    "df['lon'] = df['FullStreet'].map(lambda s: street_coords.get(s, (None, None))[1])\n",
    "\n",
    "df.head()"
   ]
  },
  {
   "cell_type": "markdown",
   "id": "194ece8f",
   "metadata": {
    "papermill": {
     "duration": 0.0044,
     "end_time": "2025-07-09T01:07:43.972489",
     "exception": false,
     "start_time": "2025-07-09T01:07:43.968089",
     "status": "completed"
    },
    "tags": []
   },
   "source": [
    "### Neighborhood"
   ]
  },
  {
   "cell_type": "code",
   "execution_count": 10,
   "id": "5adb5dd0",
   "metadata": {
    "execution": {
     "iopub.execute_input": "2025-07-09T01:07:43.982011Z",
     "iopub.status.busy": "2025-07-09T01:07:43.981755Z",
     "iopub.status.idle": "2025-07-09T01:07:45.071552Z",
     "shell.execute_reply": "2025-07-09T01:07:45.070881Z"
    },
    "papermill": {
     "duration": 1.095906,
     "end_time": "2025-07-09T01:07:45.072639",
     "exception": false,
     "start_time": "2025-07-09T01:07:43.976733",
     "status": "completed"
    },
    "tags": []
   },
   "outputs": [
    {
     "name": "stdout",
     "output_type": "stream",
     "text": [
      "Loaded neighborhood cache.\n"
     ]
    },
    {
     "name": "stdout",
     "output_type": "stream",
     "text": [
      "Error getting neighborhood for nan, nan: HTTP Error: 400\n",
      "Error getting neighborhood for nan, nan: HTTP Error: 400\n",
      "Error getting neighborhood for nan, nan: HTTP Error: 400\n",
      "Error getting neighborhood for nan, nan: HTTP Error: 400\n"
     ]
    },
    {
     "name": "stdout",
     "output_type": "stream",
     "text": [
      "Error getting neighborhood for nan, nan: HTTP Error: 400\n",
      "Error getting neighborhood for nan, nan: HTTP Error: 400\n",
      "Error getting neighborhood for nan, nan: HTTP Error: 400\n",
      "Error getting neighborhood for nan, nan: HTTP Error: 400\n"
     ]
    },
    {
     "name": "stdout",
     "output_type": "stream",
     "text": [
      "Error getting neighborhood for nan, nan: HTTP Error: 400\n",
      "Error getting neighborhood for nan, nan: HTTP Error: 400\n",
      "Error getting neighborhood for nan, nan: HTTP Error: 400\n",
      "Error getting neighborhood for nan, nan: HTTP Error: 400\n"
     ]
    },
    {
     "name": "stdout",
     "output_type": "stream",
     "text": [
      "Error getting neighborhood for nan, nan: HTTP Error: 400\n",
      "Error getting neighborhood for nan, nan: HTTP Error: 400\n",
      "Error getting neighborhood for nan, nan: HTTP Error: 400\n",
      "Error getting neighborhood for nan, nan: HTTP Error: 400\n",
      "Error getting neighborhood for nan, nan: HTTP Error: 400\n",
      "Error getting neighborhood for nan, nan: HTTP Error: 400\n",
      "Error getting neighborhood for nan, nan: HTTP Error: 400\n"
     ]
    },
    {
     "name": "stdout",
     "output_type": "stream",
     "text": [
      "Error getting neighborhood for nan, nan: HTTP Error: 400\n",
      "Error getting neighborhood for nan, nan: HTTP Error: 400\n",
      "Error getting neighborhood for nan, nan: HTTP Error: 400\n",
      "Error getting neighborhood for nan, nan: HTTP Error: 400\n",
      "Error getting neighborhood for nan, nan: HTTP Error: 400\n",
      "Error getting neighborhood for nan, nan: HTTP Error: 400\n",
      "Error getting neighborhood for nan, nan: HTTP Error: 400\n"
     ]
    },
    {
     "name": "stdout",
     "output_type": "stream",
     "text": [
      "Error getting neighborhood for nan, nan: HTTP Error: 400\n",
      "Error getting neighborhood for nan, nan: HTTP Error: 400\n",
      "Error getting neighborhood for nan, nan: HTTP Error: 400\n",
      "Error getting neighborhood for nan, nan: HTTP Error: 400\n",
      "Error getting neighborhood for nan, nan: HTTP Error: 400\n",
      "Error getting neighborhood for nan, nan: HTTP Error: 400\n",
      "Error getting neighborhood for nan, nan: HTTP Error: 400\n",
      "Error getting neighborhood for nan, nan: HTTP Error: 400\n"
     ]
    },
    {
     "name": "stdout",
     "output_type": "stream",
     "text": [
      "Error getting neighborhood for nan, nan: HTTP Error: 400\n",
      "Error getting neighborhood for nan, nan: HTTP Error: 400\n",
      "Error getting neighborhood for nan, nan: HTTP Error: 400\n",
      "Error getting neighborhood for nan, nan: HTTP Error: 400\n",
      "Error getting neighborhood for nan, nan: HTTP Error: 400\n",
      "Error getting neighborhood for nan, nan: HTTP Error: 400\n"
     ]
    },
    {
     "name": "stdout",
     "output_type": "stream",
     "text": [
      "Error getting neighborhood for nan, nan: HTTP Error: 400\n",
      "Error getting neighborhood for nan, nan: HTTP Error: 400\n",
      "Error getting neighborhood for nan, nan: HTTP Error: 400\n",
      "Error getting neighborhood for nan, nan: HTTP Error: 400\n"
     ]
    },
    {
     "data": {
      "text/html": [
       "<div>\n",
       "<style scoped>\n",
       "    .dataframe tbody tr th:only-of-type {\n",
       "        vertical-align: middle;\n",
       "    }\n",
       "\n",
       "    .dataframe tbody tr th {\n",
       "        vertical-align: top;\n",
       "    }\n",
       "\n",
       "    .dataframe thead th {\n",
       "        text-align: right;\n",
       "    }\n",
       "</style>\n",
       "<table border=\"1\" class=\"dataframe\">\n",
       "  <thead>\n",
       "    <tr style=\"text-align: right;\">\n",
       "      <th></th>\n",
       "      <th>RecordID</th>\n",
       "      <th>Offense</th>\n",
       "      <th>IncidentID</th>\n",
       "      <th>BlockNumber</th>\n",
       "      <th>StreetName</th>\n",
       "      <th>Agency</th>\n",
       "      <th>HourReported</th>\n",
       "      <th>ReportingOfficer</th>\n",
       "      <th>Date</th>\n",
       "      <th>DateString</th>\n",
       "      <th>DayOfWeek</th>\n",
       "      <th>Weekend</th>\n",
       "      <th>Season</th>\n",
       "      <th>HourAMPM</th>\n",
       "      <th>TimeOfDay</th>\n",
       "      <th>FullStreet</th>\n",
       "      <th>lat</th>\n",
       "      <th>lon</th>\n",
       "      <th>neighborhood</th>\n",
       "    </tr>\n",
       "  </thead>\n",
       "  <tbody>\n",
       "    <tr>\n",
       "      <th>0</th>\n",
       "      <td>1</td>\n",
       "      <td>Larceny - From Motor Vehicle</td>\n",
       "      <td>202500023376</td>\n",
       "      <td>1000</td>\n",
       "      <td>WERTLAND ST</td>\n",
       "      <td>CPD</td>\n",
       "      <td>1312</td>\n",
       "      <td>Love-Baker, Sydney</td>\n",
       "      <td>2025-07-06 13:12:43</td>\n",
       "      <td>2025-07-06 01:12:43 PM</td>\n",
       "      <td>Sunday</td>\n",
       "      <td>True</td>\n",
       "      <td>Summer</td>\n",
       "      <td>01:12 PM</td>\n",
       "      <td>Afternoon</td>\n",
       "      <td>1000 WERTLAND ST</td>\n",
       "      <td>38.033911</td>\n",
       "      <td>-78.494253</td>\n",
       "      <td>N/A</td>\n",
       "    </tr>\n",
       "    <tr>\n",
       "      <th>1</th>\n",
       "      <td>2</td>\n",
       "      <td>Hit and Run</td>\n",
       "      <td>202500023368</td>\n",
       "      <td>300</td>\n",
       "      <td>PRESTON AVE</td>\n",
       "      <td>CPD</td>\n",
       "      <td>1054</td>\n",
       "      <td>Love-Baker, Sydney</td>\n",
       "      <td>2025-07-06 10:54:10</td>\n",
       "      <td>2025-07-06 10:54:10 AM</td>\n",
       "      <td>Sunday</td>\n",
       "      <td>True</td>\n",
       "      <td>Summer</td>\n",
       "      <td>10:54 AM</td>\n",
       "      <td>Morning</td>\n",
       "      <td>300 PRESTON AVE</td>\n",
       "      <td>38.033020</td>\n",
       "      <td>-78.483852</td>\n",
       "      <td>North Downtown</td>\n",
       "    </tr>\n",
       "    <tr>\n",
       "      <th>2</th>\n",
       "      <td>3</td>\n",
       "      <td>Shots Fired/Illegal Hunting</td>\n",
       "      <td>202500023361</td>\n",
       "      <td>300</td>\n",
       "      <td>OLD LYNCHBURG RD</td>\n",
       "      <td>CPD</td>\n",
       "      <td>0819</td>\n",
       "      <td>Lowry, Ryan</td>\n",
       "      <td>2025-07-06 08:19:07</td>\n",
       "      <td>2025-07-06 08:19:07 AM</td>\n",
       "      <td>Sunday</td>\n",
       "      <td>True</td>\n",
       "      <td>Summer</td>\n",
       "      <td>08:19 AM</td>\n",
       "      <td>Morning</td>\n",
       "      <td>300 OLD LYNCHBURG RD</td>\n",
       "      <td>38.013285</td>\n",
       "      <td>-78.516411</td>\n",
       "      <td>Fry's Spring</td>\n",
       "    </tr>\n",
       "    <tr>\n",
       "      <th>3</th>\n",
       "      <td>4</td>\n",
       "      <td>Assault Intimidation</td>\n",
       "      <td>202500023358</td>\n",
       "      <td>100</td>\n",
       "      <td>W MARKET ST</td>\n",
       "      <td>CPD</td>\n",
       "      <td>0514</td>\n",
       "      <td>Phillips, Nicole</td>\n",
       "      <td>2025-07-06 05:14:00</td>\n",
       "      <td>2025-07-06 05:14:00 AM</td>\n",
       "      <td>Sunday</td>\n",
       "      <td>True</td>\n",
       "      <td>Summer</td>\n",
       "      <td>05:14 AM</td>\n",
       "      <td>Morning</td>\n",
       "      <td>100 W MARKET ST</td>\n",
       "      <td>38.031964</td>\n",
       "      <td>-78.482537</td>\n",
       "      <td>Downtown Mall</td>\n",
       "    </tr>\n",
       "    <tr>\n",
       "      <th>4</th>\n",
       "      <td>5</td>\n",
       "      <td>Weapons Violations</td>\n",
       "      <td>202500023331</td>\n",
       "      <td>1900</td>\n",
       "      <td>CEDAR HILL RD, B</td>\n",
       "      <td>CPD</td>\n",
       "      <td>2332</td>\n",
       "      <td>Pinkman, Jackson</td>\n",
       "      <td>2025-07-05 23:32:52</td>\n",
       "      <td>2025-07-05 11:32:52 PM</td>\n",
       "      <td>Saturday</td>\n",
       "      <td>True</td>\n",
       "      <td>Summer</td>\n",
       "      <td>11:32 PM</td>\n",
       "      <td>Night</td>\n",
       "      <td>1900 CEDAR HILL RD, B</td>\n",
       "      <td>38.063340</td>\n",
       "      <td>-78.495715</td>\n",
       "      <td>The Meadows</td>\n",
       "    </tr>\n",
       "  </tbody>\n",
       "</table>\n",
       "</div>"
      ],
      "text/plain": [
       "   RecordID                       Offense    IncidentID BlockNumber  \\\n",
       "0         1  Larceny - From Motor Vehicle  202500023376        1000   \n",
       "1         2                   Hit and Run  202500023368         300   \n",
       "2         3   Shots Fired/Illegal Hunting  202500023361         300   \n",
       "3         4          Assault Intimidation  202500023358         100   \n",
       "4         5            Weapons Violations  202500023331        1900   \n",
       "\n",
       "         StreetName Agency HourReported    ReportingOfficer  \\\n",
       "0       WERTLAND ST    CPD         1312  Love-Baker, Sydney   \n",
       "1       PRESTON AVE    CPD         1054  Love-Baker, Sydney   \n",
       "2  OLD LYNCHBURG RD    CPD         0819         Lowry, Ryan   \n",
       "3       W MARKET ST    CPD         0514    Phillips, Nicole   \n",
       "4  CEDAR HILL RD, B    CPD         2332    Pinkman, Jackson   \n",
       "\n",
       "                 Date              DateString DayOfWeek  Weekend  Season  \\\n",
       "0 2025-07-06 13:12:43  2025-07-06 01:12:43 PM    Sunday     True  Summer   \n",
       "1 2025-07-06 10:54:10  2025-07-06 10:54:10 AM    Sunday     True  Summer   \n",
       "2 2025-07-06 08:19:07  2025-07-06 08:19:07 AM    Sunday     True  Summer   \n",
       "3 2025-07-06 05:14:00  2025-07-06 05:14:00 AM    Sunday     True  Summer   \n",
       "4 2025-07-05 23:32:52  2025-07-05 11:32:52 PM  Saturday     True  Summer   \n",
       "\n",
       "   HourAMPM  TimeOfDay             FullStreet        lat        lon  \\\n",
       "0  01:12 PM  Afternoon       1000 WERTLAND ST  38.033911 -78.494253   \n",
       "1  10:54 AM    Morning        300 PRESTON AVE  38.033020 -78.483852   \n",
       "2  08:19 AM    Morning   300 OLD LYNCHBURG RD  38.013285 -78.516411   \n",
       "3  05:14 AM    Morning        100 W MARKET ST  38.031964 -78.482537   \n",
       "4  11:32 PM      Night  1900 CEDAR HILL RD, B  38.063340 -78.495715   \n",
       "\n",
       "     neighborhood  \n",
       "0             N/A  \n",
       "1  North Downtown  \n",
       "2    Fry's Spring  \n",
       "3   Downtown Mall  \n",
       "4     The Meadows  "
      ]
     },
     "execution_count": 10,
     "metadata": {},
     "output_type": "execute_result"
    }
   ],
   "source": [
    "# Initialize the Google Maps client.\n",
    "gmaps = googlemaps.Client(key=GOOGLE_API_KEY)\n",
    "\n",
    "# Try to load a persistent neighborhood cache if available.\n",
    "try:\n",
    "    with open(\"neighborhood_cache.pkl\", \"rb\") as f:\n",
    "        neighborhood_cache = pickle.load(f)\n",
    "    print(\"Loaded neighborhood cache.\")\n",
    "except FileNotFoundError:\n",
    "    neighborhood_cache = {}\n",
    "    print(\"No neighborhood cache found; starting fresh.\")\n",
    "\n",
    "def get_neighborhood(lat, lon):\n",
    "    \"\"\"\n",
    "    Reverse geocodes a latitude and longitude to retrieve the neighborhood.\n",
    "    Caches results to speed up subsequent lookups.\n",
    "    \"\"\"\n",
    "    key = (lat, lon)\n",
    "    if key in neighborhood_cache:\n",
    "        return neighborhood_cache[key]\n",
    "    \n",
    "    try:\n",
    "        result = gmaps.reverse_geocode((lat, lon))\n",
    "        if result:\n",
    "            # Look for the 'neighborhood' component in the first result.\n",
    "            for component in result[0]['address_components']:\n",
    "                if 'neighborhood' in component['types']:\n",
    "                    neighborhood = component['long_name']\n",
    "                    neighborhood_cache[key] = neighborhood\n",
    "                    return neighborhood\n",
    "            # If no neighborhood is found, return \"N/A\"\n",
    "            neighborhood_cache[key] = \"N/A\"\n",
    "            return \"N/A\"\n",
    "    except Exception as e:\n",
    "        print(f\"Error getting neighborhood for {lat}, {lon}: {e}\")\n",
    "        return \"N/A\"\n",
    "    \n",
    "    # Pause to respect usage limits.\n",
    "    time.sleep(1)\n",
    "\n",
    "# Example usage: Apply to your DataFrame 'df' that already has 'lat' and 'lon' columns.\n",
    "df['neighborhood'] = df.apply(lambda row: get_neighborhood(row['lat'], row['lon']), axis=1)\n",
    "\n",
    "# Save the updated neighborhood cache.\n",
    "with open(\"neighborhood_cache.pkl\", \"wb\") as f:\n",
    "    pickle.dump(neighborhood_cache, f)\n",
    "\n",
    "df.head()\n"
   ]
  },
  {
   "cell_type": "markdown",
   "id": "cb998fae",
   "metadata": {
    "papermill": {
     "duration": 0.004853,
     "end_time": "2025-07-09T01:07:45.082833",
     "exception": false,
     "start_time": "2025-07-09T01:07:45.077980",
     "status": "completed"
    },
    "tags": []
   },
   "source": [
    "### Zip"
   ]
  },
  {
   "cell_type": "code",
   "execution_count": 11,
   "id": "e736bb38",
   "metadata": {
    "execution": {
     "iopub.execute_input": "2025-07-09T01:07:45.093405Z",
     "iopub.status.busy": "2025-07-09T01:07:45.093166Z",
     "iopub.status.idle": "2025-07-09T01:08:29.401916Z",
     "shell.execute_reply": "2025-07-09T01:08:29.401350Z"
    },
    "papermill": {
     "duration": 44.315388,
     "end_time": "2025-07-09T01:08:29.403073",
     "exception": false,
     "start_time": "2025-07-09T01:07:45.087685",
     "status": "completed"
    },
    "tags": []
   },
   "outputs": [
    {
     "name": "stdout",
     "output_type": "stream",
     "text": [
      "Loaded zip cache.\n",
      "Error getting ZIP for nan, nan: Must be a coordinate pair or Point\n"
     ]
    },
    {
     "name": "stdout",
     "output_type": "stream",
     "text": [
      "Error getting ZIP for nan, nan: Must be a coordinate pair or Point\n"
     ]
    },
    {
     "name": "stdout",
     "output_type": "stream",
     "text": [
      "Error getting ZIP for nan, nan: Must be a coordinate pair or Point\n"
     ]
    },
    {
     "name": "stdout",
     "output_type": "stream",
     "text": [
      "Error getting ZIP for nan, nan: Must be a coordinate pair or Point\n"
     ]
    },
    {
     "name": "stdout",
     "output_type": "stream",
     "text": [
      "Error getting ZIP for nan, nan: Must be a coordinate pair or Point\n"
     ]
    },
    {
     "name": "stdout",
     "output_type": "stream",
     "text": [
      "Error getting ZIP for nan, nan: Must be a coordinate pair or Point\n"
     ]
    },
    {
     "name": "stdout",
     "output_type": "stream",
     "text": [
      "Error getting ZIP for nan, nan: Must be a coordinate pair or Point\n"
     ]
    },
    {
     "name": "stdout",
     "output_type": "stream",
     "text": [
      "Error getting ZIP for nan, nan: Must be a coordinate pair or Point\n"
     ]
    },
    {
     "name": "stdout",
     "output_type": "stream",
     "text": [
      "Error getting ZIP for nan, nan: Must be a coordinate pair or Point\n"
     ]
    },
    {
     "name": "stdout",
     "output_type": "stream",
     "text": [
      "Error getting ZIP for nan, nan: Must be a coordinate pair or Point\n"
     ]
    },
    {
     "name": "stdout",
     "output_type": "stream",
     "text": [
      "Error getting ZIP for nan, nan: Must be a coordinate pair or Point\n"
     ]
    },
    {
     "name": "stdout",
     "output_type": "stream",
     "text": [
      "Error getting ZIP for nan, nan: Must be a coordinate pair or Point\n"
     ]
    },
    {
     "name": "stdout",
     "output_type": "stream",
     "text": [
      "Error getting ZIP for nan, nan: Must be a coordinate pair or Point\n"
     ]
    },
    {
     "name": "stdout",
     "output_type": "stream",
     "text": [
      "Error getting ZIP for nan, nan: Must be a coordinate pair or Point\n"
     ]
    },
    {
     "name": "stdout",
     "output_type": "stream",
     "text": [
      "Error getting ZIP for nan, nan: Must be a coordinate pair or Point\n"
     ]
    },
    {
     "name": "stdout",
     "output_type": "stream",
     "text": [
      "Error getting ZIP for nan, nan: Must be a coordinate pair or Point\n"
     ]
    },
    {
     "name": "stdout",
     "output_type": "stream",
     "text": [
      "Error getting ZIP for nan, nan: Must be a coordinate pair or Point\n"
     ]
    },
    {
     "name": "stdout",
     "output_type": "stream",
     "text": [
      "Error getting ZIP for nan, nan: Must be a coordinate pair or Point\n"
     ]
    },
    {
     "name": "stdout",
     "output_type": "stream",
     "text": [
      "Error getting ZIP for nan, nan: Must be a coordinate pair or Point\n"
     ]
    },
    {
     "name": "stdout",
     "output_type": "stream",
     "text": [
      "Error getting ZIP for nan, nan: Must be a coordinate pair or Point\n"
     ]
    },
    {
     "name": "stdout",
     "output_type": "stream",
     "text": [
      "Error getting ZIP for nan, nan: Must be a coordinate pair or Point\n"
     ]
    },
    {
     "name": "stdout",
     "output_type": "stream",
     "text": [
      "Error getting ZIP for nan, nan: Must be a coordinate pair or Point\n"
     ]
    },
    {
     "name": "stdout",
     "output_type": "stream",
     "text": [
      "Error getting ZIP for nan, nan: Must be a coordinate pair or Point\n"
     ]
    },
    {
     "name": "stdout",
     "output_type": "stream",
     "text": [
      "Error getting ZIP for nan, nan: Must be a coordinate pair or Point\n"
     ]
    },
    {
     "name": "stdout",
     "output_type": "stream",
     "text": [
      "Error getting ZIP for nan, nan: Must be a coordinate pair or Point\n"
     ]
    },
    {
     "name": "stdout",
     "output_type": "stream",
     "text": [
      "Error getting ZIP for nan, nan: Must be a coordinate pair or Point\n"
     ]
    },
    {
     "name": "stdout",
     "output_type": "stream",
     "text": [
      "Error getting ZIP for nan, nan: Must be a coordinate pair or Point\n"
     ]
    },
    {
     "name": "stdout",
     "output_type": "stream",
     "text": [
      "Error getting ZIP for nan, nan: Must be a coordinate pair or Point\n"
     ]
    },
    {
     "name": "stdout",
     "output_type": "stream",
     "text": [
      "Error getting ZIP for nan, nan: Must be a coordinate pair or Point\n"
     ]
    },
    {
     "name": "stdout",
     "output_type": "stream",
     "text": [
      "Error getting ZIP for nan, nan: Must be a coordinate pair or Point\n"
     ]
    },
    {
     "name": "stdout",
     "output_type": "stream",
     "text": [
      "Error getting ZIP for nan, nan: Must be a coordinate pair or Point\n"
     ]
    },
    {
     "name": "stdout",
     "output_type": "stream",
     "text": [
      "Error getting ZIP for nan, nan: Must be a coordinate pair or Point\n"
     ]
    },
    {
     "name": "stdout",
     "output_type": "stream",
     "text": [
      "Error getting ZIP for nan, nan: Must be a coordinate pair or Point\n"
     ]
    },
    {
     "name": "stdout",
     "output_type": "stream",
     "text": [
      "Error getting ZIP for nan, nan: Must be a coordinate pair or Point\n"
     ]
    },
    {
     "name": "stdout",
     "output_type": "stream",
     "text": [
      "Error getting ZIP for nan, nan: Must be a coordinate pair or Point\n"
     ]
    },
    {
     "name": "stdout",
     "output_type": "stream",
     "text": [
      "Error getting ZIP for nan, nan: Must be a coordinate pair or Point\n"
     ]
    },
    {
     "name": "stdout",
     "output_type": "stream",
     "text": [
      "Error getting ZIP for nan, nan: Must be a coordinate pair or Point\n"
     ]
    },
    {
     "name": "stdout",
     "output_type": "stream",
     "text": [
      "Error getting ZIP for nan, nan: Must be a coordinate pair or Point\n"
     ]
    },
    {
     "name": "stdout",
     "output_type": "stream",
     "text": [
      "Error getting ZIP for nan, nan: Must be a coordinate pair or Point\n"
     ]
    },
    {
     "name": "stdout",
     "output_type": "stream",
     "text": [
      "Error getting ZIP for nan, nan: Must be a coordinate pair or Point\n"
     ]
    },
    {
     "name": "stdout",
     "output_type": "stream",
     "text": [
      "Error getting ZIP for nan, nan: Must be a coordinate pair or Point\n"
     ]
    },
    {
     "name": "stdout",
     "output_type": "stream",
     "text": [
      "Error getting ZIP for nan, nan: Must be a coordinate pair or Point\n"
     ]
    },
    {
     "name": "stdout",
     "output_type": "stream",
     "text": [
      "Error getting ZIP for nan, nan: Must be a coordinate pair or Point\n"
     ]
    },
    {
     "name": "stdout",
     "output_type": "stream",
     "text": [
      "Error getting ZIP for nan, nan: Must be a coordinate pair or Point\n"
     ]
    },
    {
     "data": {
      "text/html": [
       "<div>\n",
       "<style scoped>\n",
       "    .dataframe tbody tr th:only-of-type {\n",
       "        vertical-align: middle;\n",
       "    }\n",
       "\n",
       "    .dataframe tbody tr th {\n",
       "        vertical-align: top;\n",
       "    }\n",
       "\n",
       "    .dataframe thead th {\n",
       "        text-align: right;\n",
       "    }\n",
       "</style>\n",
       "<table border=\"1\" class=\"dataframe\">\n",
       "  <thead>\n",
       "    <tr style=\"text-align: right;\">\n",
       "      <th></th>\n",
       "      <th>RecordID</th>\n",
       "      <th>Offense</th>\n",
       "      <th>IncidentID</th>\n",
       "      <th>BlockNumber</th>\n",
       "      <th>StreetName</th>\n",
       "      <th>Agency</th>\n",
       "      <th>HourReported</th>\n",
       "      <th>ReportingOfficer</th>\n",
       "      <th>Date</th>\n",
       "      <th>DateString</th>\n",
       "      <th>DayOfWeek</th>\n",
       "      <th>Weekend</th>\n",
       "      <th>Season</th>\n",
       "      <th>HourAMPM</th>\n",
       "      <th>TimeOfDay</th>\n",
       "      <th>FullStreet</th>\n",
       "      <th>lat</th>\n",
       "      <th>lon</th>\n",
       "      <th>neighborhood</th>\n",
       "      <th>zip</th>\n",
       "    </tr>\n",
       "  </thead>\n",
       "  <tbody>\n",
       "    <tr>\n",
       "      <th>0</th>\n",
       "      <td>1</td>\n",
       "      <td>Larceny - From Motor Vehicle</td>\n",
       "      <td>202500023376</td>\n",
       "      <td>1000</td>\n",
       "      <td>WERTLAND ST</td>\n",
       "      <td>CPD</td>\n",
       "      <td>1312</td>\n",
       "      <td>Love-Baker, Sydney</td>\n",
       "      <td>2025-07-06 13:12:43</td>\n",
       "      <td>2025-07-06 01:12:43 PM</td>\n",
       "      <td>Sunday</td>\n",
       "      <td>True</td>\n",
       "      <td>Summer</td>\n",
       "      <td>01:12 PM</td>\n",
       "      <td>Afternoon</td>\n",
       "      <td>1000 WERTLAND ST</td>\n",
       "      <td>38.033911</td>\n",
       "      <td>-78.494253</td>\n",
       "      <td>N/A</td>\n",
       "      <td>22903</td>\n",
       "    </tr>\n",
       "    <tr>\n",
       "      <th>1</th>\n",
       "      <td>2</td>\n",
       "      <td>Hit and Run</td>\n",
       "      <td>202500023368</td>\n",
       "      <td>300</td>\n",
       "      <td>PRESTON AVE</td>\n",
       "      <td>CPD</td>\n",
       "      <td>1054</td>\n",
       "      <td>Love-Baker, Sydney</td>\n",
       "      <td>2025-07-06 10:54:10</td>\n",
       "      <td>2025-07-06 10:54:10 AM</td>\n",
       "      <td>Sunday</td>\n",
       "      <td>True</td>\n",
       "      <td>Summer</td>\n",
       "      <td>10:54 AM</td>\n",
       "      <td>Morning</td>\n",
       "      <td>300 PRESTON AVE</td>\n",
       "      <td>38.033020</td>\n",
       "      <td>-78.483852</td>\n",
       "      <td>North Downtown</td>\n",
       "      <td>22902</td>\n",
       "    </tr>\n",
       "    <tr>\n",
       "      <th>2</th>\n",
       "      <td>3</td>\n",
       "      <td>Shots Fired/Illegal Hunting</td>\n",
       "      <td>202500023361</td>\n",
       "      <td>300</td>\n",
       "      <td>OLD LYNCHBURG RD</td>\n",
       "      <td>CPD</td>\n",
       "      <td>0819</td>\n",
       "      <td>Lowry, Ryan</td>\n",
       "      <td>2025-07-06 08:19:07</td>\n",
       "      <td>2025-07-06 08:19:07 AM</td>\n",
       "      <td>Sunday</td>\n",
       "      <td>True</td>\n",
       "      <td>Summer</td>\n",
       "      <td>08:19 AM</td>\n",
       "      <td>Morning</td>\n",
       "      <td>300 OLD LYNCHBURG RD</td>\n",
       "      <td>38.013285</td>\n",
       "      <td>-78.516411</td>\n",
       "      <td>Fry's Spring</td>\n",
       "      <td>22903</td>\n",
       "    </tr>\n",
       "    <tr>\n",
       "      <th>3</th>\n",
       "      <td>4</td>\n",
       "      <td>Assault Intimidation</td>\n",
       "      <td>202500023358</td>\n",
       "      <td>100</td>\n",
       "      <td>W MARKET ST</td>\n",
       "      <td>CPD</td>\n",
       "      <td>0514</td>\n",
       "      <td>Phillips, Nicole</td>\n",
       "      <td>2025-07-06 05:14:00</td>\n",
       "      <td>2025-07-06 05:14:00 AM</td>\n",
       "      <td>Sunday</td>\n",
       "      <td>True</td>\n",
       "      <td>Summer</td>\n",
       "      <td>05:14 AM</td>\n",
       "      <td>Morning</td>\n",
       "      <td>100 W MARKET ST</td>\n",
       "      <td>38.031964</td>\n",
       "      <td>-78.482537</td>\n",
       "      <td>Downtown Mall</td>\n",
       "      <td>22902</td>\n",
       "    </tr>\n",
       "    <tr>\n",
       "      <th>4</th>\n",
       "      <td>5</td>\n",
       "      <td>Weapons Violations</td>\n",
       "      <td>202500023331</td>\n",
       "      <td>1900</td>\n",
       "      <td>CEDAR HILL RD, B</td>\n",
       "      <td>CPD</td>\n",
       "      <td>2332</td>\n",
       "      <td>Pinkman, Jackson</td>\n",
       "      <td>2025-07-05 23:32:52</td>\n",
       "      <td>2025-07-05 11:32:52 PM</td>\n",
       "      <td>Saturday</td>\n",
       "      <td>True</td>\n",
       "      <td>Summer</td>\n",
       "      <td>11:32 PM</td>\n",
       "      <td>Night</td>\n",
       "      <td>1900 CEDAR HILL RD, B</td>\n",
       "      <td>38.063340</td>\n",
       "      <td>-78.495715</td>\n",
       "      <td>The Meadows</td>\n",
       "      <td>22901</td>\n",
       "    </tr>\n",
       "  </tbody>\n",
       "</table>\n",
       "</div>"
      ],
      "text/plain": [
       "   RecordID                       Offense    IncidentID BlockNumber  \\\n",
       "0         1  Larceny - From Motor Vehicle  202500023376        1000   \n",
       "1         2                   Hit and Run  202500023368         300   \n",
       "2         3   Shots Fired/Illegal Hunting  202500023361         300   \n",
       "3         4          Assault Intimidation  202500023358         100   \n",
       "4         5            Weapons Violations  202500023331        1900   \n",
       "\n",
       "         StreetName Agency HourReported    ReportingOfficer  \\\n",
       "0       WERTLAND ST    CPD         1312  Love-Baker, Sydney   \n",
       "1       PRESTON AVE    CPD         1054  Love-Baker, Sydney   \n",
       "2  OLD LYNCHBURG RD    CPD         0819         Lowry, Ryan   \n",
       "3       W MARKET ST    CPD         0514    Phillips, Nicole   \n",
       "4  CEDAR HILL RD, B    CPD         2332    Pinkman, Jackson   \n",
       "\n",
       "                 Date              DateString DayOfWeek  Weekend  Season  \\\n",
       "0 2025-07-06 13:12:43  2025-07-06 01:12:43 PM    Sunday     True  Summer   \n",
       "1 2025-07-06 10:54:10  2025-07-06 10:54:10 AM    Sunday     True  Summer   \n",
       "2 2025-07-06 08:19:07  2025-07-06 08:19:07 AM    Sunday     True  Summer   \n",
       "3 2025-07-06 05:14:00  2025-07-06 05:14:00 AM    Sunday     True  Summer   \n",
       "4 2025-07-05 23:32:52  2025-07-05 11:32:52 PM  Saturday     True  Summer   \n",
       "\n",
       "   HourAMPM  TimeOfDay             FullStreet        lat        lon  \\\n",
       "0  01:12 PM  Afternoon       1000 WERTLAND ST  38.033911 -78.494253   \n",
       "1  10:54 AM    Morning        300 PRESTON AVE  38.033020 -78.483852   \n",
       "2  08:19 AM    Morning   300 OLD LYNCHBURG RD  38.013285 -78.516411   \n",
       "3  05:14 AM    Morning        100 W MARKET ST  38.031964 -78.482537   \n",
       "4  11:32 PM      Night  1900 CEDAR HILL RD, B  38.063340 -78.495715   \n",
       "\n",
       "     neighborhood    zip  \n",
       "0             N/A  22903  \n",
       "1  North Downtown  22902  \n",
       "2    Fry's Spring  22903  \n",
       "3   Downtown Mall  22902  \n",
       "4     The Meadows  22901  "
      ]
     },
     "execution_count": 11,
     "metadata": {},
     "output_type": "execute_result"
    }
   ],
   "source": [
    "# Initialize the geocoder.\n",
    "geolocator = Nominatim(user_agent=\"zip_lookup\")\n",
    "\n",
    "# Try to load a persistent ZIP cache if available.\n",
    "try:\n",
    "    with open(\"zip_cache.pkl\", \"rb\") as f:\n",
    "        zip_cache = pickle.load(f)\n",
    "    print(\"Loaded zip cache.\")\n",
    "except FileNotFoundError:\n",
    "    zip_cache = {}\n",
    "    print(\"No zip cache found; starting fresh.\")\n",
    "\n",
    "def get_zip(lat, lon):\n",
    "    \"\"\"\n",
    "    Reverse geocodes a latitude and longitude to retrieve the ZIP code.\n",
    "    Caches results to speed up subsequent lookups.\n",
    "    \"\"\"\n",
    "    key = (lat, lon)\n",
    "    if key in zip_cache:\n",
    "        return zip_cache[key]\n",
    "    \n",
    "    try:\n",
    "        location = geolocator.reverse((lat, lon), exactly_one=True, timeout=10)\n",
    "        address = location.raw.get('address', {})\n",
    "        postal_code = address.get('postcode', \"N/A\")\n",
    "    except Exception as e:\n",
    "        print(f\"Error getting ZIP for {lat}, {lon}: {e}\")\n",
    "        postal_code = \"N/A\"\n",
    "    \n",
    "    zip_cache[key] = postal_code\n",
    "    # Pause to respect the usage policy.\n",
    "    time.sleep(1)\n",
    "    return postal_code\n",
    "\n",
    "# Apply the function to each row in the DataFrame.\n",
    "df['zip'] = df.apply(lambda row: get_zip(row['lat'], row['lon']), axis=1)\n",
    "\n",
    "# Save the updated ZIP cache.\n",
    "with open(\"zip_cache.pkl\", \"wb\") as f:\n",
    "    pickle.dump(zip_cache, f)\n",
    "\n",
    "df.head()\n"
   ]
  },
  {
   "cell_type": "code",
   "execution_count": 12,
   "id": "ecf9aca5",
   "metadata": {
    "execution": {
     "iopub.execute_input": "2025-07-09T01:08:29.418502Z",
     "iopub.status.busy": "2025-07-09T01:08:29.418048Z",
     "iopub.status.idle": "2025-07-09T01:08:29.445649Z",
     "shell.execute_reply": "2025-07-09T01:08:29.445112Z"
    },
    "papermill": {
     "duration": 0.036208,
     "end_time": "2025-07-09T01:08:29.446677",
     "exception": false,
     "start_time": "2025-07-09T01:08:29.410469",
     "status": "completed"
    },
    "tags": []
   },
   "outputs": [
    {
     "name": "stdout",
     "output_type": "stream",
     "text": [
      "                  MissingCount  MissingPercentage\n",
      "RecordID                     0               0.00\n",
      "Offense                      0               0.00\n",
      "IncidentID                   0               0.00\n",
      "BlockNumber                  0               0.00\n",
      "StreetName                   0               0.00\n",
      "Agency                       0               0.00\n",
      "HourReported                 0               0.00\n",
      "ReportingOfficer            17               0.07\n",
      "Date                         0               0.00\n",
      "DateString                   0               0.00\n",
      "DayOfWeek                    0               0.00\n",
      "Weekend                      0               0.00\n",
      "Season                       0               0.00\n",
      "HourAMPM                     0               0.00\n",
      "TimeOfDay                    0               0.00\n",
      "FullStreet                   0               0.00\n",
      "lat                         44               0.17\n",
      "lon                         44               0.17\n",
      "neighborhood                 0               0.00\n",
      "zip                          0               0.00\n"
     ]
    }
   ],
   "source": [
    "missing_info = missing_percentage(df)\n",
    "print(missing_info)\n"
   ]
  },
  {
   "cell_type": "code",
   "execution_count": 13,
   "id": "8bd16cd9",
   "metadata": {
    "execution": {
     "iopub.execute_input": "2025-07-09T01:08:29.461951Z",
     "iopub.status.busy": "2025-07-09T01:08:29.461616Z",
     "iopub.status.idle": "2025-07-09T01:08:29.489851Z",
     "shell.execute_reply": "2025-07-09T01:08:29.489265Z"
    },
    "papermill": {
     "duration": 0.036914,
     "end_time": "2025-07-09T01:08:29.490943",
     "exception": false,
     "start_time": "2025-07-09T01:08:29.454029",
     "status": "completed"
    },
    "tags": []
   },
   "outputs": [
    {
     "name": "stdout",
     "output_type": "stream",
     "text": [
      "<class 'pandas.core.frame.DataFrame'>\n",
      "RangeIndex: 25515 entries, 0 to 25514\n",
      "Data columns (total 20 columns):\n",
      " #   Column            Non-Null Count  Dtype         \n",
      "---  ------            --------------  -----         \n",
      " 0   RecordID          25515 non-null  int64         \n",
      " 1   Offense           25515 non-null  object        \n",
      " 2   IncidentID        25515 non-null  object        \n",
      " 3   BlockNumber       25515 non-null  object        \n",
      " 4   StreetName        25515 non-null  object        \n",
      " 5   Agency            25515 non-null  object        \n",
      " 6   HourReported      25515 non-null  object        \n",
      " 7   ReportingOfficer  25498 non-null  object        \n",
      " 8   Date              25515 non-null  datetime64[ns]\n",
      " 9   DateString        25515 non-null  object        \n",
      " 10  DayOfWeek         25515 non-null  object        \n",
      " 11  Weekend           25515 non-null  bool          \n",
      " 12  Season            25515 non-null  object        \n",
      " 13  HourAMPM          25515 non-null  object        \n",
      " 14  TimeOfDay         25515 non-null  object        \n",
      " 15  FullStreet        25515 non-null  object        \n",
      " 16  lat               25471 non-null  float64       \n",
      " 17  lon               25471 non-null  float64       \n",
      " 18  neighborhood      25515 non-null  object        \n",
      " 19  zip               25515 non-null  object        \n",
      "dtypes: bool(1), datetime64[ns](1), float64(2), int64(1), object(15)\n",
      "memory usage: 3.7+ MB\n"
     ]
    }
   ],
   "source": [
    "df.info()"
   ]
  },
  {
   "cell_type": "code",
   "execution_count": 14,
   "id": "c9e1a2fc",
   "metadata": {
    "execution": {
     "iopub.execute_input": "2025-07-09T01:08:29.506736Z",
     "iopub.status.busy": "2025-07-09T01:08:29.506235Z",
     "iopub.status.idle": "2025-07-09T01:08:29.552973Z",
     "shell.execute_reply": "2025-07-09T01:08:29.552292Z"
    },
    "papermill": {
     "duration": 0.055549,
     "end_time": "2025-07-09T01:08:29.553998",
     "exception": false,
     "start_time": "2025-07-09T01:08:29.498449",
     "status": "completed"
    },
    "tags": []
   },
   "outputs": [
    {
     "data": {
      "text/html": [
       "<div>\n",
       "<style scoped>\n",
       "    .dataframe tbody tr th:only-of-type {\n",
       "        vertical-align: middle;\n",
       "    }\n",
       "\n",
       "    .dataframe tbody tr th {\n",
       "        vertical-align: top;\n",
       "    }\n",
       "\n",
       "    .dataframe thead th {\n",
       "        text-align: right;\n",
       "    }\n",
       "</style>\n",
       "<table border=\"1\" class=\"dataframe\">\n",
       "  <thead>\n",
       "    <tr style=\"text-align: right;\">\n",
       "      <th></th>\n",
       "      <th>RecordID</th>\n",
       "      <th>Offense</th>\n",
       "      <th>IncidentID</th>\n",
       "      <th>Agency</th>\n",
       "      <th>ReportingOfficer</th>\n",
       "      <th>Date</th>\n",
       "      <th>DayOfWeek</th>\n",
       "      <th>Weekend</th>\n",
       "      <th>Season</th>\n",
       "      <th>TimeOfDay</th>\n",
       "      <th>FullStreet</th>\n",
       "      <th>lat</th>\n",
       "      <th>lon</th>\n",
       "      <th>neighborhood</th>\n",
       "      <th>zip</th>\n",
       "    </tr>\n",
       "  </thead>\n",
       "  <tbody>\n",
       "    <tr>\n",
       "      <th>0</th>\n",
       "      <td>1</td>\n",
       "      <td>Larceny - From Motor Vehicle</td>\n",
       "      <td>202500023376</td>\n",
       "      <td>CPD</td>\n",
       "      <td>Love-Baker, Sydney</td>\n",
       "      <td>2025-07-06 13:12:43</td>\n",
       "      <td>Sunday</td>\n",
       "      <td>True</td>\n",
       "      <td>Summer</td>\n",
       "      <td>Afternoon</td>\n",
       "      <td>1000 WERTLAND ST</td>\n",
       "      <td>38.033911</td>\n",
       "      <td>-78.494253</td>\n",
       "      <td>N/A</td>\n",
       "      <td>22903</td>\n",
       "    </tr>\n",
       "    <tr>\n",
       "      <th>1</th>\n",
       "      <td>2</td>\n",
       "      <td>Hit and Run</td>\n",
       "      <td>202500023368</td>\n",
       "      <td>CPD</td>\n",
       "      <td>Love-Baker, Sydney</td>\n",
       "      <td>2025-07-06 10:54:10</td>\n",
       "      <td>Sunday</td>\n",
       "      <td>True</td>\n",
       "      <td>Summer</td>\n",
       "      <td>Morning</td>\n",
       "      <td>300 PRESTON AVE</td>\n",
       "      <td>38.03302</td>\n",
       "      <td>-78.483852</td>\n",
       "      <td>North Downtown</td>\n",
       "      <td>22902</td>\n",
       "    </tr>\n",
       "    <tr>\n",
       "      <th>2</th>\n",
       "      <td>3</td>\n",
       "      <td>Shots Fired/Illegal Hunting</td>\n",
       "      <td>202500023361</td>\n",
       "      <td>CPD</td>\n",
       "      <td>Lowry, Ryan</td>\n",
       "      <td>2025-07-06 08:19:07</td>\n",
       "      <td>Sunday</td>\n",
       "      <td>True</td>\n",
       "      <td>Summer</td>\n",
       "      <td>Morning</td>\n",
       "      <td>300 OLD LYNCHBURG RD</td>\n",
       "      <td>38.013285</td>\n",
       "      <td>-78.516411</td>\n",
       "      <td>Fry's Spring</td>\n",
       "      <td>22903</td>\n",
       "    </tr>\n",
       "    <tr>\n",
       "      <th>3</th>\n",
       "      <td>4</td>\n",
       "      <td>Assault Intimidation</td>\n",
       "      <td>202500023358</td>\n",
       "      <td>CPD</td>\n",
       "      <td>Phillips, Nicole</td>\n",
       "      <td>2025-07-06 05:14:00</td>\n",
       "      <td>Sunday</td>\n",
       "      <td>True</td>\n",
       "      <td>Summer</td>\n",
       "      <td>Morning</td>\n",
       "      <td>100 W MARKET ST</td>\n",
       "      <td>38.031964</td>\n",
       "      <td>-78.482537</td>\n",
       "      <td>Downtown Mall</td>\n",
       "      <td>22902</td>\n",
       "    </tr>\n",
       "    <tr>\n",
       "      <th>4</th>\n",
       "      <td>5</td>\n",
       "      <td>Weapons Violations</td>\n",
       "      <td>202500023331</td>\n",
       "      <td>CPD</td>\n",
       "      <td>Pinkman, Jackson</td>\n",
       "      <td>2025-07-05 23:32:52</td>\n",
       "      <td>Saturday</td>\n",
       "      <td>True</td>\n",
       "      <td>Summer</td>\n",
       "      <td>Night</td>\n",
       "      <td>1900 CEDAR HILL RD, B</td>\n",
       "      <td>38.06334</td>\n",
       "      <td>-78.495715</td>\n",
       "      <td>The Meadows</td>\n",
       "      <td>22901</td>\n",
       "    </tr>\n",
       "  </tbody>\n",
       "</table>\n",
       "</div>"
      ],
      "text/plain": [
       "   RecordID                       Offense    IncidentID Agency  \\\n",
       "0         1  Larceny - From Motor Vehicle  202500023376    CPD   \n",
       "1         2                   Hit and Run  202500023368    CPD   \n",
       "2         3   Shots Fired/Illegal Hunting  202500023361    CPD   \n",
       "3         4          Assault Intimidation  202500023358    CPD   \n",
       "4         5            Weapons Violations  202500023331    CPD   \n",
       "\n",
       "     ReportingOfficer                Date DayOfWeek  Weekend  Season  \\\n",
       "0  Love-Baker, Sydney 2025-07-06 13:12:43    Sunday     True  Summer   \n",
       "1  Love-Baker, Sydney 2025-07-06 10:54:10    Sunday     True  Summer   \n",
       "2         Lowry, Ryan 2025-07-06 08:19:07    Sunday     True  Summer   \n",
       "3    Phillips, Nicole 2025-07-06 05:14:00    Sunday     True  Summer   \n",
       "4    Pinkman, Jackson 2025-07-05 23:32:52  Saturday     True  Summer   \n",
       "\n",
       "   TimeOfDay             FullStreet        lat        lon    neighborhood  \\\n",
       "0  Afternoon       1000 WERTLAND ST  38.033911 -78.494253             N/A   \n",
       "1    Morning        300 PRESTON AVE   38.03302 -78.483852  North Downtown   \n",
       "2    Morning   300 OLD LYNCHBURG RD  38.013285 -78.516411    Fry's Spring   \n",
       "3    Morning        100 W MARKET ST  38.031964 -78.482537   Downtown Mall   \n",
       "4      Night  1900 CEDAR HILL RD, B   38.06334 -78.495715     The Meadows   \n",
       "\n",
       "     zip  \n",
       "0  22903  \n",
       "1  22902  \n",
       "2  22903  \n",
       "3  22902  \n",
       "4  22901  "
      ]
     },
     "execution_count": 14,
     "metadata": {},
     "output_type": "execute_result"
    }
   ],
   "source": [
    "# Now drop the original BlockNumber and StreetName columns\n",
    "df.drop(columns=['BlockNumber', 'StreetName','HourAMPM','HourReported','DateString'], inplace=True)\n",
    "df[\"zip\"] = df[\"zip\"].astype(str)\n",
    "\n",
    "# Fill all missing values in the DataFrame with \"N/A\"\n",
    "df.replace({None: \"N/A\", np.nan: \"N/A\", \"\": \"N/A\"}, inplace=True)\n",
    "df.head()"
   ]
  },
  {
   "cell_type": "code",
   "execution_count": 15,
   "id": "79d1b513",
   "metadata": {
    "execution": {
     "iopub.execute_input": "2025-07-09T01:08:29.570257Z",
     "iopub.status.busy": "2025-07-09T01:08:29.569830Z",
     "iopub.status.idle": "2025-07-09T01:08:29.588821Z",
     "shell.execute_reply": "2025-07-09T01:08:29.588214Z"
    },
    "papermill": {
     "duration": 0.027999,
     "end_time": "2025-07-09T01:08:29.589859",
     "exception": false,
     "start_time": "2025-07-09T01:08:29.561860",
     "status": "completed"
    },
    "tags": []
   },
   "outputs": [
    {
     "name": "stdout",
     "output_type": "stream",
     "text": [
      "                  MissingCount  MissingPercentage\n",
      "RecordID                     0                0.0\n",
      "Offense                      0                0.0\n",
      "IncidentID                   0                0.0\n",
      "Agency                       0                0.0\n",
      "ReportingOfficer             0                0.0\n",
      "Date                         0                0.0\n",
      "DayOfWeek                    0                0.0\n",
      "Weekend                      0                0.0\n",
      "Season                       0                0.0\n",
      "TimeOfDay                    0                0.0\n",
      "FullStreet                   0                0.0\n",
      "lat                          0                0.0\n",
      "lon                          0                0.0\n",
      "neighborhood                 0                0.0\n",
      "zip                          0                0.0\n"
     ]
    }
   ],
   "source": [
    "missing_info = missing_percentage(df)\n",
    "print(missing_info)"
   ]
  },
  {
   "cell_type": "code",
   "execution_count": 16,
   "id": "99842c58",
   "metadata": {
    "execution": {
     "iopub.execute_input": "2025-07-09T01:08:29.605695Z",
     "iopub.status.busy": "2025-07-09T01:08:29.605479Z",
     "iopub.status.idle": "2025-07-09T01:08:29.609747Z",
     "shell.execute_reply": "2025-07-09T01:08:29.609212Z"
    },
    "papermill": {
     "duration": 0.013235,
     "end_time": "2025-07-09T01:08:29.610717",
     "exception": false,
     "start_time": "2025-07-09T01:08:29.597482",
     "status": "completed"
    },
    "tags": []
   },
   "outputs": [
    {
     "data": {
      "text/plain": [
       "Index(['RecordID', 'Offense', 'IncidentID', 'Agency', 'ReportingOfficer',\n",
       "       'Date', 'DayOfWeek', 'Weekend', 'Season', 'TimeOfDay', 'FullStreet',\n",
       "       'lat', 'lon', 'neighborhood', 'zip'],\n",
       "      dtype='object')"
      ]
     },
     "execution_count": 16,
     "metadata": {},
     "output_type": "execute_result"
    }
   ],
   "source": [
    "df.columns"
   ]
  },
  {
   "cell_type": "code",
   "execution_count": 17,
   "id": "ab96457b",
   "metadata": {
    "execution": {
     "iopub.execute_input": "2025-07-09T01:08:29.626793Z",
     "iopub.status.busy": "2025-07-09T01:08:29.626367Z",
     "iopub.status.idle": "2025-07-09T01:08:29.647655Z",
     "shell.execute_reply": "2025-07-09T01:08:29.647110Z"
    },
    "papermill": {
     "duration": 0.030344,
     "end_time": "2025-07-09T01:08:29.648683",
     "exception": false,
     "start_time": "2025-07-09T01:08:29.618339",
     "status": "completed"
    },
    "tags": []
   },
   "outputs": [
    {
     "name": "stdout",
     "output_type": "stream",
     "text": [
      "<class 'pandas.core.frame.DataFrame'>\n",
      "RangeIndex: 25515 entries, 0 to 25514\n",
      "Data columns (total 15 columns):\n",
      " #   Column            Non-Null Count  Dtype         \n",
      "---  ------            --------------  -----         \n",
      " 0   RecordID          25515 non-null  int64         \n",
      " 1   Offense           25515 non-null  object        \n",
      " 2   IncidentID        25515 non-null  object        \n",
      " 3   Agency            25515 non-null  object        \n",
      " 4   ReportingOfficer  25515 non-null  object        \n",
      " 5   Date              25515 non-null  datetime64[ns]\n",
      " 6   DayOfWeek         25515 non-null  object        \n",
      " 7   Weekend           25515 non-null  bool          \n",
      " 8   Season            25515 non-null  object        \n",
      " 9   TimeOfDay         25515 non-null  object        \n",
      " 10  FullStreet        25515 non-null  object        \n",
      " 11  lat               25515 non-null  object        \n",
      " 12  lon               25515 non-null  object        \n",
      " 13  neighborhood      25515 non-null  object        \n",
      " 14  zip               25515 non-null  object        \n",
      "dtypes: bool(1), datetime64[ns](1), int64(1), object(12)\n",
      "memory usage: 2.7+ MB\n"
     ]
    }
   ],
   "source": [
    "df.info()"
   ]
  },
  {
   "cell_type": "markdown",
   "id": "20c7ccb1",
   "metadata": {
    "papermill": {
     "duration": 0.007425,
     "end_time": "2025-07-09T01:08:29.663829",
     "exception": false,
     "start_time": "2025-07-09T01:08:29.656404",
     "status": "completed"
    },
    "tags": []
   },
   "source": [
    "### Export Clean Data"
   ]
  },
  {
   "cell_type": "code",
   "execution_count": 18,
   "id": "21206392",
   "metadata": {
    "execution": {
     "iopub.execute_input": "2025-07-09T01:08:29.679963Z",
     "iopub.status.busy": "2025-07-09T01:08:29.679570Z",
     "iopub.status.idle": "2025-07-09T01:08:38.920030Z",
     "shell.execute_reply": "2025-07-09T01:08:38.919442Z"
    },
    "papermill": {
     "duration": 9.249625,
     "end_time": "2025-07-09T01:08:38.921121",
     "exception": false,
     "start_time": "2025-07-09T01:08:29.671496",
     "status": "completed"
    },
    "tags": []
   },
   "outputs": [
    {
     "name": "stdout",
     "output_type": "stream",
     "text": [
      "Project Root: /home/runner/work/crime-data/crime-data\n"
     ]
    },
    {
     "name": "stdout",
     "output_type": "stream",
     "text": [
      "Data saved to: /home/runner/work/crime-data/crime-data/data/charlottesville_crime_incidents.csv\n"
     ]
    },
    {
     "name": "stdout",
     "output_type": "stream",
     "text": [
      "Excel saved to: /home/runner/work/crime-data/crime-data/data/charlottesville_crime_incidents.xlsx\n"
     ]
    }
   ],
   "source": [
    "# Determine the project root (assuming papermill is run from the repository root)\n",
    "project_root = os.getcwd()\n",
    "print(\"Project Root:\", project_root)\n",
    "\n",
    "# Set the data directory within the project root\n",
    "data_dir = os.path.join(project_root, \"data\")\n",
    "\n",
    "# Ensure the \"data\" directory exists (create it if it doesn't)\n",
    "if not os.path.exists(data_dir):\n",
    "    os.makedirs(data_dir)\n",
    "\n",
    "# Export the DataFrame to CSV in the \"data\" folder located in the project root\n",
    "csv_path = os.path.join(data_dir, \"charlottesville_crime_incidents.csv\")\n",
    "df.to_csv(csv_path, index=False)\n",
    "print(\"Data saved to:\", csv_path)\n",
    "\n",
    "# Construct the path to your Excel file\n",
    "excel_path = os.path.join(data_dir, \"charlottesville_crime_incidents.xlsx\")\n",
    "\n",
    "# Export the DataFrame to Excel\n",
    "df.to_excel(excel_path, index=False)\n",
    "print(\"Excel saved to:\", excel_path)\n"
   ]
  }
 ],
 "metadata": {
  "kernelspec": {
   "display_name": "Python 3",
   "language": "python",
   "name": "python3"
  },
  "language_info": {
   "codemirror_mode": {
    "name": "ipython",
    "version": 3
   },
   "file_extension": ".py",
   "mimetype": "text/x-python",
   "name": "python",
   "nbconvert_exporter": "python",
   "pygments_lexer": "ipython3",
   "version": "3.9.23"
  },
  "papermill": {
   "default_parameters": {},
   "duration": 124.377693,
   "end_time": "2025-07-09T01:08:39.345256",
   "environment_variables": {},
   "exception": null,
   "input_path": "notebook/Crime Data.ipynb",
   "output_path": "notebook/Crime Data_output.ipynb",
   "parameters": {},
   "start_time": "2025-07-09T01:06:34.967563",
   "version": "2.6.0"
  }
 },
 "nbformat": 4,
 "nbformat_minor": 5
}