{
 "cells": [
  {
   "cell_type": "markdown",
   "id": "808bf6db",
   "metadata": {
    "papermill": {
     "duration": 0.004407,
     "end_time": "2025-08-17T01:10:36.968366",
     "exception": false,
     "start_time": "2025-08-17T01:10:36.963959",
     "status": "completed"
    },
    "tags": []
   },
   "source": [
    "# Charlottesville Open Data Porttal: Crime Data"
   ]
  },
  {
   "cell_type": "markdown",
   "id": "f0fc6cd8",
   "metadata": {
    "papermill": {
     "duration": 0.003266,
     "end_time": "2025-08-17T01:10:36.975244",
     "exception": false,
     "start_time": "2025-08-17T01:10:36.971978",
     "status": "completed"
    },
    "tags": []
   },
   "source": [
    "## Import Relevant Librarires & Set WD"
   ]
  },
  {
   "cell_type": "code",
   "execution_count": 1,
   "id": "dee45534",
   "metadata": {
    "execution": {
     "iopub.execute_input": "2025-08-17T01:10:36.982892Z",
     "iopub.status.busy": "2025-08-17T01:10:36.982639Z",
     "iopub.status.idle": "2025-08-17T01:10:37.570459Z",
     "shell.execute_reply": "2025-08-17T01:10:37.569801Z"
    },
    "papermill": {
     "duration": 0.593318,
     "end_time": "2025-08-17T01:10:37.571811",
     "exception": false,
     "start_time": "2025-08-17T01:10:36.978493",
     "status": "completed"
    },
    "tags": []
   },
   "outputs": [],
   "source": [
    "import requests\n",
    "import pandas as pd\n",
    "import numpy as np\n",
    "import pickle\n",
    "import googlemaps\n",
    "import plotly.express as px\n",
    "from geopy.geocoders import Nominatim\n",
    "import time\n",
    "from dotenv import load_dotenv\n",
    "import os\n",
    "\n",
    "env_path = os.path.join(\"..\", \".env\")\n",
    "#print(\"Looking for .env file at:\", os.path.abspath(env_path))\n",
    "load_dotenv(dotenv_path=env_path)\n",
    "\n",
    "# Retrieve the variables\n",
    "GOOGLE_API_KEY = os.getenv(\"GOOGLE_API_KEY\")\n",
    "WORKING_DIR = os.getenv(\"WORKING_DIR\")\n",
    "\n",
    "if GOOGLE_API_KEY is None or WORKING_DIR is None:\n",
    "    raise RuntimeError(\"No configuration found. Please ensure that your .env file exists with the required variables, or create a local config.py file.\")\n",
    "\n",
    "#print(\"Google API Key:\", GOOGLE_API_KEY)\n",
    "#print(\"Working Directory:\", WORKING_DIR)"
   ]
  },
  {
   "cell_type": "markdown",
   "id": "c3897384",
   "metadata": {
    "papermill": {
     "duration": 0.00332,
     "end_time": "2025-08-17T01:10:37.579716",
     "exception": false,
     "start_time": "2025-08-17T01:10:37.576396",
     "status": "completed"
    },
    "tags": []
   },
   "source": [
    "## Import Data\n",
    "\n",
    "URL: https://opendata.charlottesville.org/datasets/charlottesville::crime-data/about"
   ]
  },
  {
   "cell_type": "code",
   "execution_count": 2,
   "id": "514bd3a6",
   "metadata": {
    "execution": {
     "iopub.execute_input": "2025-08-17T01:10:37.587325Z",
     "iopub.status.busy": "2025-08-17T01:10:37.586956Z",
     "iopub.status.idle": "2025-08-17T01:11:47.354552Z",
     "shell.execute_reply": "2025-08-17T01:11:47.353825Z"
    },
    "papermill": {
     "duration": 69.775818,
     "end_time": "2025-08-17T01:11:47.358839",
     "exception": false,
     "start_time": "2025-08-17T01:10:37.583021",
     "status": "completed"
    },
    "tags": []
   },
   "outputs": [
    {
     "name": "stdout",
     "output_type": "stream",
     "text": [
      "Total records imported: 25657\n"
     ]
    }
   ],
   "source": [
    "# Define the endpoint and initial parameters.\n",
    "url = \"https://gisweb.charlottesville.org/arcgis/rest/services/OpenData_2/MapServer/6/query\"\n",
    "params = {\n",
    "    \"where\": \"1=1\",\n",
    "    \"outFields\": \"*\",\n",
    "    \"outSR\": 4326,\n",
    "    \"f\": \"json\",\n",
    "    \"resultOffset\": 0,       # Starting index for results\n",
    "    \"resultRecordCount\": 10000  # Maximum records per batch (if allowed by the API)\n",
    "}\n",
    "\n",
    "records = []\n",
    "\n",
    "while True:\n",
    "    response = requests.get(url, params=params)\n",
    "    response.raise_for_status()\n",
    "    data = response.json()\n",
    "    \n",
    "    # Get the current batch of features.\n",
    "    features = data.get(\"features\", [])\n",
    "    if not features:\n",
    "        break\n",
    "\n",
    "    # Extract the attributes from the features.\n",
    "    batch_records = [feature.get(\"attributes\", {}) for feature in features]\n",
    "    records.extend(batch_records)\n",
    "    \n",
    "    # If the batch size is less than the requested count, we reached the end.\n",
    "    if len(features) < params[\"resultRecordCount\"]:\n",
    "        break\n",
    "\n",
    "    # Update the resultOffset for the next batch.\n",
    "    params[\"resultOffset\"] += params[\"resultRecordCount\"]\n",
    "\n",
    "# Create a DataFrame from the combined records.\n",
    "df = pd.DataFrame(records)\n",
    "print(\"Total records imported:\", len(df))\n"
   ]
  },
  {
   "cell_type": "code",
   "execution_count": 3,
   "id": "82bb4929",
   "metadata": {
    "execution": {
     "iopub.execute_input": "2025-08-17T01:11:47.366684Z",
     "iopub.status.busy": "2025-08-17T01:11:47.366491Z",
     "iopub.status.idle": "2025-08-17T01:11:47.378493Z",
     "shell.execute_reply": "2025-08-17T01:11:47.377936Z"
    },
    "papermill": {
     "duration": 0.017085,
     "end_time": "2025-08-17T01:11:47.379458",
     "exception": false,
     "start_time": "2025-08-17T01:11:47.362373",
     "status": "completed"
    },
    "tags": []
   },
   "outputs": [
    {
     "data": {
      "text/html": [
       "<div>\n",
       "<style scoped>\n",
       "    .dataframe tbody tr th:only-of-type {\n",
       "        vertical-align: middle;\n",
       "    }\n",
       "\n",
       "    .dataframe tbody tr th {\n",
       "        vertical-align: top;\n",
       "    }\n",
       "\n",
       "    .dataframe thead th {\n",
       "        text-align: right;\n",
       "    }\n",
       "</style>\n",
       "<table border=\"1\" class=\"dataframe\">\n",
       "  <thead>\n",
       "    <tr style=\"text-align: right;\">\n",
       "      <th></th>\n",
       "      <th>RecordID</th>\n",
       "      <th>Offense</th>\n",
       "      <th>IncidentID</th>\n",
       "      <th>BlockNumber</th>\n",
       "      <th>StreetName</th>\n",
       "      <th>Agency</th>\n",
       "      <th>DateReported</th>\n",
       "      <th>HourReported</th>\n",
       "      <th>ReportingOfficer</th>\n",
       "    </tr>\n",
       "  </thead>\n",
       "  <tbody>\n",
       "    <tr>\n",
       "      <th>0</th>\n",
       "      <td>1</td>\n",
       "      <td>Larceny - Shoplifitng</td>\n",
       "      <td>202500028812</td>\n",
       "      <td>500</td>\n",
       "      <td>W MAIN ST</td>\n",
       "      <td>CPD</td>\n",
       "      <td>1755208586000</td>\n",
       "      <td>1756</td>\n",
       "      <td>Venereo, Arturo</td>\n",
       "    </tr>\n",
       "    <tr>\n",
       "      <th>1</th>\n",
       "      <td>2</td>\n",
       "      <td>Hit and Run</td>\n",
       "      <td>202500028809</td>\n",
       "      <td></td>\n",
       "      <td>HARRIS ST @ PRESTON AVE</td>\n",
       "      <td>CPD</td>\n",
       "      <td>1755207012000</td>\n",
       "      <td>1730</td>\n",
       "      <td>Rigsby, Lloyd</td>\n",
       "    </tr>\n",
       "    <tr>\n",
       "      <th>2</th>\n",
       "      <td>3</td>\n",
       "      <td>Larceny - Of Veh Parts/Access</td>\n",
       "      <td>202500028796</td>\n",
       "      <td>900</td>\n",
       "      <td>CHARLTON AVE</td>\n",
       "      <td>CPD</td>\n",
       "      <td>1755201801000</td>\n",
       "      <td>1603</td>\n",
       "      <td>Abdelgayed, Adam</td>\n",
       "    </tr>\n",
       "    <tr>\n",
       "      <th>3</th>\n",
       "      <td>4</td>\n",
       "      <td>Stalking</td>\n",
       "      <td>202500028788</td>\n",
       "      <td>400</td>\n",
       "      <td>13TH ST NW, D</td>\n",
       "      <td>CPD</td>\n",
       "      <td>1755198922000</td>\n",
       "      <td>1515</td>\n",
       "      <td>Abdelgayed, Adam</td>\n",
       "    </tr>\n",
       "    <tr>\n",
       "      <th>4</th>\n",
       "      <td>5</td>\n",
       "      <td>Driving Under the Influence</td>\n",
       "      <td>202500028786</td>\n",
       "      <td></td>\n",
       "      <td>AVON ST @ MONTICELLO AVE</td>\n",
       "      <td>CPD</td>\n",
       "      <td>1755198197000</td>\n",
       "      <td>1503</td>\n",
       "      <td>Reed, Danielle</td>\n",
       "    </tr>\n",
       "  </tbody>\n",
       "</table>\n",
       "</div>"
      ],
      "text/plain": [
       "   RecordID                        Offense    IncidentID BlockNumber  \\\n",
       "0         1          Larceny - Shoplifitng  202500028812         500   \n",
       "1         2                    Hit and Run  202500028809               \n",
       "2         3  Larceny - Of Veh Parts/Access  202500028796         900   \n",
       "3         4                       Stalking  202500028788         400   \n",
       "4         5    Driving Under the Influence  202500028786               \n",
       "\n",
       "                 StreetName Agency   DateReported HourReported  \\\n",
       "0                 W MAIN ST    CPD  1755208586000         1756   \n",
       "1   HARRIS ST @ PRESTON AVE    CPD  1755207012000         1730   \n",
       "2              CHARLTON AVE    CPD  1755201801000         1603   \n",
       "3             13TH ST NW, D    CPD  1755198922000         1515   \n",
       "4  AVON ST @ MONTICELLO AVE    CPD  1755198197000         1503   \n",
       "\n",
       "   ReportingOfficer  \n",
       "0   Venereo, Arturo  \n",
       "1     Rigsby, Lloyd  \n",
       "2  Abdelgayed, Adam  \n",
       "3  Abdelgayed, Adam  \n",
       "4    Reed, Danielle  "
      ]
     },
     "execution_count": 3,
     "metadata": {},
     "output_type": "execute_result"
    }
   ],
   "source": [
    "df.head()"
   ]
  },
  {
   "cell_type": "code",
   "execution_count": 4,
   "id": "05fd2465",
   "metadata": {
    "execution": {
     "iopub.execute_input": "2025-08-17T01:11:47.387302Z",
     "iopub.status.busy": "2025-08-17T01:11:47.387085Z",
     "iopub.status.idle": "2025-08-17T01:11:47.390890Z",
     "shell.execute_reply": "2025-08-17T01:11:47.390393Z"
    },
    "papermill": {
     "duration": 0.008796,
     "end_time": "2025-08-17T01:11:47.391823",
     "exception": false,
     "start_time": "2025-08-17T01:11:47.383027",
     "status": "completed"
    },
    "tags": []
   },
   "outputs": [
    {
     "data": {
      "text/plain": [
       "Index(['RecordID', 'Offense', 'IncidentID', 'BlockNumber', 'StreetName',\n",
       "       'Agency', 'DateReported', 'HourReported', 'ReportingOfficer'],\n",
       "      dtype='object')"
      ]
     },
     "execution_count": 4,
     "metadata": {},
     "output_type": "execute_result"
    }
   ],
   "source": [
    "df.columns"
   ]
  },
  {
   "cell_type": "code",
   "execution_count": 5,
   "id": "4ce126df",
   "metadata": {
    "execution": {
     "iopub.execute_input": "2025-08-17T01:11:47.399916Z",
     "iopub.status.busy": "2025-08-17T01:11:47.399693Z",
     "iopub.status.idle": "2025-08-17T01:11:47.420494Z",
     "shell.execute_reply": "2025-08-17T01:11:47.419823Z"
    },
    "papermill": {
     "duration": 0.025991,
     "end_time": "2025-08-17T01:11:47.421536",
     "exception": false,
     "start_time": "2025-08-17T01:11:47.395545",
     "status": "completed"
    },
    "tags": []
   },
   "outputs": [
    {
     "name": "stdout",
     "output_type": "stream",
     "text": [
      "<class 'pandas.core.frame.DataFrame'>\n",
      "RangeIndex: 25657 entries, 0 to 25656\n",
      "Data columns (total 9 columns):\n",
      " #   Column            Non-Null Count  Dtype \n",
      "---  ------            --------------  ----- \n",
      " 0   RecordID          25657 non-null  int64 \n",
      " 1   Offense           25657 non-null  object\n",
      " 2   IncidentID        25657 non-null  object\n",
      " 3   BlockNumber       25657 non-null  object\n",
      " 4   StreetName        25657 non-null  object\n",
      " 5   Agency            25657 non-null  object\n",
      " 6   DateReported      25657 non-null  int64 \n",
      " 7   HourReported      25657 non-null  object\n",
      " 8   ReportingOfficer  25642 non-null  object\n",
      "dtypes: int64(2), object(7)\n",
      "memory usage: 1.8+ MB\n"
     ]
    }
   ],
   "source": [
    "df.info()"
   ]
  },
  {
   "cell_type": "markdown",
   "id": "6d779acb",
   "metadata": {
    "papermill": {
     "duration": 0.003731,
     "end_time": "2025-08-17T01:11:47.429098",
     "exception": false,
     "start_time": "2025-08-17T01:11:47.425367",
     "status": "completed"
    },
    "tags": []
   },
   "source": [
    "### Missing Values"
   ]
  },
  {
   "cell_type": "code",
   "execution_count": 6,
   "id": "623da099",
   "metadata": {
    "execution": {
     "iopub.execute_input": "2025-08-17T01:11:47.437248Z",
     "iopub.status.busy": "2025-08-17T01:11:47.437036Z",
     "iopub.status.idle": "2025-08-17T01:11:47.456351Z",
     "shell.execute_reply": "2025-08-17T01:11:47.455696Z"
    },
    "papermill": {
     "duration": 0.02455,
     "end_time": "2025-08-17T01:11:47.457363",
     "exception": false,
     "start_time": "2025-08-17T01:11:47.432813",
     "status": "completed"
    },
    "tags": []
   },
   "outputs": [
    {
     "name": "stdout",
     "output_type": "stream",
     "text": [
      "                  MissingCount  MissingPercentage\n",
      "RecordID                     0               0.00\n",
      "Offense                      0               0.00\n",
      "IncidentID                   0               0.00\n",
      "BlockNumber                  0               0.00\n",
      "StreetName                   0               0.00\n",
      "Agency                       0               0.00\n",
      "DateReported                 0               0.00\n",
      "HourReported                 0               0.00\n",
      "ReportingOfficer            15               0.06\n"
     ]
    }
   ],
   "source": [
    "def missing_percentage(df):\n",
    "    \"\"\"\n",
    "    Returns a DataFrame with the count and percentage of missing values for each column.\n",
    "    \n",
    "    Parameters:\n",
    "        df (pd.DataFrame): The input DataFrame.\n",
    "    \n",
    "    Returns:\n",
    "        pd.DataFrame: A DataFrame with columns 'MissingCount' and 'MissingPercentage'.\n",
    "    \"\"\"\n",
    "    total_rows = len(df)\n",
    "    missing_count = df.isnull().sum()\n",
    "    missing_percent = (missing_count / total_rows) * 100\n",
    "    \n",
    "    result = pd.DataFrame({\n",
    "        'MissingCount': missing_count,\n",
    "        'MissingPercentage': missing_percent.round(2)\n",
    "    })\n",
    "    \n",
    "    return result\n",
    "\n",
    "# Example usage:\n",
    "missing_info = missing_percentage(df)\n",
    "print(missing_info)\n"
   ]
  },
  {
   "cell_type": "markdown",
   "id": "08dd2ffe",
   "metadata": {
    "papermill": {
     "duration": 0.003701,
     "end_time": "2025-08-17T01:11:47.465030",
     "exception": false,
     "start_time": "2025-08-17T01:11:47.461329",
     "status": "completed"
    },
    "tags": []
   },
   "source": [
    "## Data Preparation"
   ]
  },
  {
   "cell_type": "markdown",
   "id": "a896f09a",
   "metadata": {
    "papermill": {
     "duration": 0.003891,
     "end_time": "2025-08-17T01:11:47.472813",
     "exception": false,
     "start_time": "2025-08-17T01:11:47.468922",
     "status": "completed"
    },
    "tags": []
   },
   "source": [
    "### Data Conversion"
   ]
  },
  {
   "cell_type": "code",
   "execution_count": 7,
   "id": "94f087cd",
   "metadata": {
    "execution": {
     "iopub.execute_input": "2025-08-17T01:11:47.481532Z",
     "iopub.status.busy": "2025-08-17T01:11:47.481336Z",
     "iopub.status.idle": "2025-08-17T01:11:47.842323Z",
     "shell.execute_reply": "2025-08-17T01:11:47.841644Z"
    },
    "papermill": {
     "duration": 0.366592,
     "end_time": "2025-08-17T01:11:47.843445",
     "exception": false,
     "start_time": "2025-08-17T01:11:47.476853",
     "status": "completed"
    },
    "tags": []
   },
   "outputs": [
    {
     "data": {
      "text/html": [
       "<div>\n",
       "<style scoped>\n",
       "    .dataframe tbody tr th:only-of-type {\n",
       "        vertical-align: middle;\n",
       "    }\n",
       "\n",
       "    .dataframe tbody tr th {\n",
       "        vertical-align: top;\n",
       "    }\n",
       "\n",
       "    .dataframe thead th {\n",
       "        text-align: right;\n",
       "    }\n",
       "</style>\n",
       "<table border=\"1\" class=\"dataframe\">\n",
       "  <thead>\n",
       "    <tr style=\"text-align: right;\">\n",
       "      <th></th>\n",
       "      <th>RecordID</th>\n",
       "      <th>Offense</th>\n",
       "      <th>IncidentID</th>\n",
       "      <th>BlockNumber</th>\n",
       "      <th>StreetName</th>\n",
       "      <th>Agency</th>\n",
       "      <th>HourReported</th>\n",
       "      <th>ReportingOfficer</th>\n",
       "      <th>Date</th>\n",
       "      <th>DateString</th>\n",
       "      <th>DayOfWeek</th>\n",
       "      <th>Weekend</th>\n",
       "      <th>Season</th>\n",
       "      <th>HourAMPM</th>\n",
       "      <th>TimeOfDay</th>\n",
       "    </tr>\n",
       "  </thead>\n",
       "  <tbody>\n",
       "    <tr>\n",
       "      <th>0</th>\n",
       "      <td>1</td>\n",
       "      <td>Larceny - Shoplifitng</td>\n",
       "      <td>202500028812</td>\n",
       "      <td>500</td>\n",
       "      <td>W MAIN ST</td>\n",
       "      <td>CPD</td>\n",
       "      <td>1756</td>\n",
       "      <td>Venereo, Arturo</td>\n",
       "      <td>2025-08-14 17:56:26</td>\n",
       "      <td>2025-08-14 05:56:26 PM</td>\n",
       "      <td>Thursday</td>\n",
       "      <td>False</td>\n",
       "      <td>Summer</td>\n",
       "      <td>05:56 PM</td>\n",
       "      <td>Evening</td>\n",
       "    </tr>\n",
       "    <tr>\n",
       "      <th>1</th>\n",
       "      <td>2</td>\n",
       "      <td>Hit and Run</td>\n",
       "      <td>202500028809</td>\n",
       "      <td></td>\n",
       "      <td>HARRIS ST @ PRESTON AVE</td>\n",
       "      <td>CPD</td>\n",
       "      <td>1730</td>\n",
       "      <td>Rigsby, Lloyd</td>\n",
       "      <td>2025-08-14 17:30:12</td>\n",
       "      <td>2025-08-14 05:30:12 PM</td>\n",
       "      <td>Thursday</td>\n",
       "      <td>False</td>\n",
       "      <td>Summer</td>\n",
       "      <td>05:30 PM</td>\n",
       "      <td>Evening</td>\n",
       "    </tr>\n",
       "    <tr>\n",
       "      <th>2</th>\n",
       "      <td>3</td>\n",
       "      <td>Larceny - Of Veh Parts/Access</td>\n",
       "      <td>202500028796</td>\n",
       "      <td>900</td>\n",
       "      <td>CHARLTON AVE</td>\n",
       "      <td>CPD</td>\n",
       "      <td>1603</td>\n",
       "      <td>Abdelgayed, Adam</td>\n",
       "      <td>2025-08-14 16:03:21</td>\n",
       "      <td>2025-08-14 04:03:21 PM</td>\n",
       "      <td>Thursday</td>\n",
       "      <td>False</td>\n",
       "      <td>Summer</td>\n",
       "      <td>04:03 PM</td>\n",
       "      <td>Afternoon</td>\n",
       "    </tr>\n",
       "    <tr>\n",
       "      <th>3</th>\n",
       "      <td>4</td>\n",
       "      <td>Stalking</td>\n",
       "      <td>202500028788</td>\n",
       "      <td>400</td>\n",
       "      <td>13TH ST NW, D</td>\n",
       "      <td>CPD</td>\n",
       "      <td>1515</td>\n",
       "      <td>Abdelgayed, Adam</td>\n",
       "      <td>2025-08-14 15:15:22</td>\n",
       "      <td>2025-08-14 03:15:22 PM</td>\n",
       "      <td>Thursday</td>\n",
       "      <td>False</td>\n",
       "      <td>Summer</td>\n",
       "      <td>03:15 PM</td>\n",
       "      <td>Afternoon</td>\n",
       "    </tr>\n",
       "    <tr>\n",
       "      <th>4</th>\n",
       "      <td>5</td>\n",
       "      <td>Driving Under the Influence</td>\n",
       "      <td>202500028786</td>\n",
       "      <td></td>\n",
       "      <td>AVON ST @ MONTICELLO AVE</td>\n",
       "      <td>CPD</td>\n",
       "      <td>1503</td>\n",
       "      <td>Reed, Danielle</td>\n",
       "      <td>2025-08-14 15:03:17</td>\n",
       "      <td>2025-08-14 03:03:17 PM</td>\n",
       "      <td>Thursday</td>\n",
       "      <td>False</td>\n",
       "      <td>Summer</td>\n",
       "      <td>03:03 PM</td>\n",
       "      <td>Afternoon</td>\n",
       "    </tr>\n",
       "  </tbody>\n",
       "</table>\n",
       "</div>"
      ],
      "text/plain": [
       "   RecordID                        Offense    IncidentID BlockNumber  \\\n",
       "0         1          Larceny - Shoplifitng  202500028812         500   \n",
       "1         2                    Hit and Run  202500028809               \n",
       "2         3  Larceny - Of Veh Parts/Access  202500028796         900   \n",
       "3         4                       Stalking  202500028788         400   \n",
       "4         5    Driving Under the Influence  202500028786               \n",
       "\n",
       "                 StreetName Agency HourReported  ReportingOfficer  \\\n",
       "0                 W MAIN ST    CPD         1756   Venereo, Arturo   \n",
       "1   HARRIS ST @ PRESTON AVE    CPD         1730     Rigsby, Lloyd   \n",
       "2              CHARLTON AVE    CPD         1603  Abdelgayed, Adam   \n",
       "3             13TH ST NW, D    CPD         1515  Abdelgayed, Adam   \n",
       "4  AVON ST @ MONTICELLO AVE    CPD         1503    Reed, Danielle   \n",
       "\n",
       "                 Date              DateString DayOfWeek  Weekend  Season  \\\n",
       "0 2025-08-14 17:56:26  2025-08-14 05:56:26 PM  Thursday    False  Summer   \n",
       "1 2025-08-14 17:30:12  2025-08-14 05:30:12 PM  Thursday    False  Summer   \n",
       "2 2025-08-14 16:03:21  2025-08-14 04:03:21 PM  Thursday    False  Summer   \n",
       "3 2025-08-14 15:15:22  2025-08-14 03:15:22 PM  Thursday    False  Summer   \n",
       "4 2025-08-14 15:03:17  2025-08-14 03:03:17 PM  Thursday    False  Summer   \n",
       "\n",
       "   HourAMPM  TimeOfDay  \n",
       "0  05:56 PM    Evening  \n",
       "1  05:30 PM    Evening  \n",
       "2  04:03 PM  Afternoon  \n",
       "3  03:15 PM  Afternoon  \n",
       "4  03:03 PM  Afternoon  "
      ]
     },
     "execution_count": 7,
     "metadata": {},
     "output_type": "execute_result"
    }
   ],
   "source": [
    "def convert_and_categorize_datereported(df, col='DateReported'):\n",
    "    \"\"\"\n",
    "    Converts an epoch (in milliseconds) date column into a timezone-aware datetime,\n",
    "    converts it to Eastern Time, and then creates columns for day-of-week, weekend flag,\n",
    "    season, 12-hour formatted time, and time-of-day. Keeps both a real datetime column\n",
    "    (Date) and a string representation (DateString).\n",
    "    \"\"\"\n",
    "    import pandas as pd\n",
    "\n",
    "    # Convert the epoch timestamp to a pandas datetime object as UTC, then convert to US/Eastern.\n",
    "    df[\"DateReported_dt\"] = (\n",
    "        pd.to_datetime(df[col], unit=\"ms\", errors=\"coerce\", utc=True)\n",
    "        .dt.tz_convert(\"US/Eastern\")\n",
    "    )\n",
    "    \n",
    "    # Create a true datetime column (remove timezone if you prefer naive datetime)\n",
    "    df[\"Date\"] = df[\"DateReported_dt\"].dt.tz_localize(None)\n",
    "\n",
    "    # Optionally, create a separate string-formatted column\n",
    "    df[\"DateString\"] = df[\"DateReported_dt\"].dt.strftime(\"%Y-%m-%d %I:%M:%S %p\")\n",
    "    \n",
    "    # DayOfWeek\n",
    "    df[\"DayOfWeek\"] = df[\"DateReported_dt\"].dt.day_name()\n",
    "    \n",
    "    # Weekend\n",
    "    df[\"Weekend\"] = df[\"DayOfWeek\"].isin([\"Saturday\", \"Sunday\"])\n",
    "    \n",
    "    # Helper function to determine the season\n",
    "    def get_season(dt):\n",
    "        month = dt.month\n",
    "        day = dt.day\n",
    "        # Approximate Northern Hemisphere season boundaries:\n",
    "        if (month == 12 and day >= 21) or (month < 3) or (month == 3 and day < 20):\n",
    "            return \"Winter\"\n",
    "        elif (month == 3 and day >= 20) or (month < 6) or (month == 6 and day < 21):\n",
    "            return \"Spring\"\n",
    "        elif (month == 6 and day >= 21) or (month < 9) or (month == 9 and day < 22):\n",
    "            return \"Summer\"\n",
    "        else:\n",
    "            return \"Autumn\"\n",
    "    \n",
    "    df[\"Season\"] = df[\"DateReported_dt\"].apply(get_season)\n",
    "    \n",
    "    # 12-hour formatted time (HourAMPM)\n",
    "    df[\"HourAMPM\"] = df[\"DateReported_dt\"].dt.strftime(\"%I:%M %p\")\n",
    "    \n",
    "    # Extract hour (0-23) for time-of-day\n",
    "    df[\"HourValue\"] = df[\"DateReported_dt\"].dt.hour\n",
    "    \n",
    "    def time_of_day(hour):\n",
    "        if pd.isnull(hour):\n",
    "            return None\n",
    "        if 5 <= hour < 12:\n",
    "            return \"Morning\"\n",
    "        elif 12 <= hour < 17:\n",
    "            return \"Afternoon\"\n",
    "        elif 17 <= hour < 21:\n",
    "            return \"Evening\"\n",
    "        else:\n",
    "            return \"Night\"\n",
    "    \n",
    "    df[\"TimeOfDay\"] = df[\"HourValue\"].apply(time_of_day)\n",
    "    \n",
    "    # Drop columns you no longer need\n",
    "    df.drop(columns=[col, \"DateReported_dt\", \"HourValue\"], inplace=True)\n",
    "    \n",
    "    return df\n",
    "\n",
    "# Example usage:\n",
    "df = convert_and_categorize_datereported(df)\n",
    "df.head()\n"
   ]
  },
  {
   "cell_type": "code",
   "execution_count": 8,
   "id": "c935cebb",
   "metadata": {
    "execution": {
     "iopub.execute_input": "2025-08-17T01:11:47.852544Z",
     "iopub.status.busy": "2025-08-17T01:11:47.852347Z",
     "iopub.status.idle": "2025-08-17T01:11:47.877975Z",
     "shell.execute_reply": "2025-08-17T01:11:47.877403Z"
    },
    "papermill": {
     "duration": 0.031302,
     "end_time": "2025-08-17T01:11:47.879005",
     "exception": false,
     "start_time": "2025-08-17T01:11:47.847703",
     "status": "completed"
    },
    "tags": []
   },
   "outputs": [
    {
     "name": "stdout",
     "output_type": "stream",
     "text": [
      "<class 'pandas.core.frame.DataFrame'>\n",
      "RangeIndex: 25657 entries, 0 to 25656\n",
      "Data columns (total 15 columns):\n",
      " #   Column            Non-Null Count  Dtype         \n",
      "---  ------            --------------  -----         \n",
      " 0   RecordID          25657 non-null  int64         \n",
      " 1   Offense           25657 non-null  object        \n",
      " 2   IncidentID        25657 non-null  object        \n",
      " 3   BlockNumber       25657 non-null  object        \n",
      " 4   StreetName        25657 non-null  object        \n",
      " 5   Agency            25657 non-null  object        \n",
      " 6   HourReported      25657 non-null  object        \n",
      " 7   ReportingOfficer  25642 non-null  object        \n",
      " 8   Date              25657 non-null  datetime64[ns]\n",
      " 9   DateString        25657 non-null  object        \n",
      " 10  DayOfWeek         25657 non-null  object        \n",
      " 11  Weekend           25657 non-null  bool          \n",
      " 12  Season            25657 non-null  object        \n",
      " 13  HourAMPM          25657 non-null  object        \n",
      " 14  TimeOfDay         25657 non-null  object        \n",
      "dtypes: bool(1), datetime64[ns](1), int64(1), object(12)\n",
      "memory usage: 2.8+ MB\n"
     ]
    }
   ],
   "source": [
    "df.info()"
   ]
  },
  {
   "cell_type": "markdown",
   "id": "832ff7fd",
   "metadata": {
    "papermill": {
     "duration": 0.004133,
     "end_time": "2025-08-17T01:11:47.887605",
     "exception": false,
     "start_time": "2025-08-17T01:11:47.883472",
     "status": "completed"
    },
    "tags": []
   },
   "source": [
    "### Coordinates"
   ]
  },
  {
   "cell_type": "code",
   "execution_count": 9,
   "id": "7f68cd02",
   "metadata": {
    "execution": {
     "iopub.execute_input": "2025-08-17T01:11:47.896618Z",
     "iopub.status.busy": "2025-08-17T01:11:47.896368Z",
     "iopub.status.idle": "2025-08-17T01:11:48.101920Z",
     "shell.execute_reply": "2025-08-17T01:11:48.101372Z"
    },
    "papermill": {
     "duration": 0.211321,
     "end_time": "2025-08-17T01:11:48.102957",
     "exception": false,
     "start_time": "2025-08-17T01:11:47.891636",
     "status": "completed"
    },
    "tags": []
   },
   "outputs": [
    {
     "name": "stdout",
     "output_type": "stream",
     "text": [
      "Loaded geocode cache.\n",
      "Error geocoding 400 13TH ST NW, D: REQUEST_DENIED (You must enable Billing on the Google Cloud Project at https://console.cloud.google.com/project/_/billing/enable Learn more at https://developers.google.com/maps/gmp-get-started)\n",
      "Geocoded 400 13TH ST NW, D: None, None\n",
      "Error geocoding 500 1ST ST N, 413: REQUEST_DENIED (You must enable Billing on the Google Cloud Project at https://console.cloud.google.com/project/_/billing/enable Learn more at https://developers.google.com/maps/gmp-get-started)\n",
      "Geocoded 500 1ST ST N, 413: None, None\n",
      "Geocode cache updated and saved.\n"
     ]
    },
    {
     "data": {
      "text/html": [
       "<div>\n",
       "<style scoped>\n",
       "    .dataframe tbody tr th:only-of-type {\n",
       "        vertical-align: middle;\n",
       "    }\n",
       "\n",
       "    .dataframe tbody tr th {\n",
       "        vertical-align: top;\n",
       "    }\n",
       "\n",
       "    .dataframe thead th {\n",
       "        text-align: right;\n",
       "    }\n",
       "</style>\n",
       "<table border=\"1\" class=\"dataframe\">\n",
       "  <thead>\n",
       "    <tr style=\"text-align: right;\">\n",
       "      <th></th>\n",
       "      <th>RecordID</th>\n",
       "      <th>Offense</th>\n",
       "      <th>IncidentID</th>\n",
       "      <th>BlockNumber</th>\n",
       "      <th>StreetName</th>\n",
       "      <th>Agency</th>\n",
       "      <th>HourReported</th>\n",
       "      <th>ReportingOfficer</th>\n",
       "      <th>Date</th>\n",
       "      <th>DateString</th>\n",
       "      <th>DayOfWeek</th>\n",
       "      <th>Weekend</th>\n",
       "      <th>Season</th>\n",
       "      <th>HourAMPM</th>\n",
       "      <th>TimeOfDay</th>\n",
       "      <th>FullStreet</th>\n",
       "      <th>lat</th>\n",
       "      <th>lon</th>\n",
       "    </tr>\n",
       "  </thead>\n",
       "  <tbody>\n",
       "    <tr>\n",
       "      <th>0</th>\n",
       "      <td>1</td>\n",
       "      <td>Larceny - Shoplifitng</td>\n",
       "      <td>202500028812</td>\n",
       "      <td>500</td>\n",
       "      <td>W MAIN ST</td>\n",
       "      <td>CPD</td>\n",
       "      <td>1756</td>\n",
       "      <td>Venereo, Arturo</td>\n",
       "      <td>2025-08-14 17:56:26</td>\n",
       "      <td>2025-08-14 05:56:26 PM</td>\n",
       "      <td>Thursday</td>\n",
       "      <td>False</td>\n",
       "      <td>Summer</td>\n",
       "      <td>05:56 PM</td>\n",
       "      <td>Evening</td>\n",
       "      <td>500 W MAIN ST</td>\n",
       "      <td>38.030793</td>\n",
       "      <td>-78.487912</td>\n",
       "    </tr>\n",
       "    <tr>\n",
       "      <th>1</th>\n",
       "      <td>2</td>\n",
       "      <td>Hit and Run</td>\n",
       "      <td>202500028809</td>\n",
       "      <td></td>\n",
       "      <td>HARRIS ST @ PRESTON AVE</td>\n",
       "      <td>CPD</td>\n",
       "      <td>1730</td>\n",
       "      <td>Rigsby, Lloyd</td>\n",
       "      <td>2025-08-14 17:30:12</td>\n",
       "      <td>2025-08-14 05:30:12 PM</td>\n",
       "      <td>Thursday</td>\n",
       "      <td>False</td>\n",
       "      <td>Summer</td>\n",
       "      <td>05:30 PM</td>\n",
       "      <td>Evening</td>\n",
       "      <td>HARRIS ST @ PRESTON AVE</td>\n",
       "      <td>38.035120</td>\n",
       "      <td>-78.485555</td>\n",
       "    </tr>\n",
       "    <tr>\n",
       "      <th>2</th>\n",
       "      <td>3</td>\n",
       "      <td>Larceny - Of Veh Parts/Access</td>\n",
       "      <td>202500028796</td>\n",
       "      <td>900</td>\n",
       "      <td>CHARLTON AVE</td>\n",
       "      <td>CPD</td>\n",
       "      <td>1603</td>\n",
       "      <td>Abdelgayed, Adam</td>\n",
       "      <td>2025-08-14 16:03:21</td>\n",
       "      <td>2025-08-14 04:03:21 PM</td>\n",
       "      <td>Thursday</td>\n",
       "      <td>False</td>\n",
       "      <td>Summer</td>\n",
       "      <td>04:03 PM</td>\n",
       "      <td>Afternoon</td>\n",
       "      <td>900 CHARLTON AVE</td>\n",
       "      <td>38.038284</td>\n",
       "      <td>-78.487238</td>\n",
       "    </tr>\n",
       "    <tr>\n",
       "      <th>3</th>\n",
       "      <td>4</td>\n",
       "      <td>Stalking</td>\n",
       "      <td>202500028788</td>\n",
       "      <td>400</td>\n",
       "      <td>13TH ST NW, D</td>\n",
       "      <td>CPD</td>\n",
       "      <td>1515</td>\n",
       "      <td>Abdelgayed, Adam</td>\n",
       "      <td>2025-08-14 15:15:22</td>\n",
       "      <td>2025-08-14 03:15:22 PM</td>\n",
       "      <td>Thursday</td>\n",
       "      <td>False</td>\n",
       "      <td>Summer</td>\n",
       "      <td>03:15 PM</td>\n",
       "      <td>Afternoon</td>\n",
       "      <td>400 13TH ST NW, D</td>\n",
       "      <td>NaN</td>\n",
       "      <td>NaN</td>\n",
       "    </tr>\n",
       "    <tr>\n",
       "      <th>4</th>\n",
       "      <td>5</td>\n",
       "      <td>Driving Under the Influence</td>\n",
       "      <td>202500028786</td>\n",
       "      <td></td>\n",
       "      <td>AVON ST @ MONTICELLO AVE</td>\n",
       "      <td>CPD</td>\n",
       "      <td>1503</td>\n",
       "      <td>Reed, Danielle</td>\n",
       "      <td>2025-08-14 15:03:17</td>\n",
       "      <td>2025-08-14 03:03:17 PM</td>\n",
       "      <td>Thursday</td>\n",
       "      <td>False</td>\n",
       "      <td>Summer</td>\n",
       "      <td>03:03 PM</td>\n",
       "      <td>Afternoon</td>\n",
       "      <td>AVON ST @ MONTICELLO AVE</td>\n",
       "      <td>38.024386</td>\n",
       "      <td>-78.479117</td>\n",
       "    </tr>\n",
       "  </tbody>\n",
       "</table>\n",
       "</div>"
      ],
      "text/plain": [
       "   RecordID                        Offense    IncidentID BlockNumber  \\\n",
       "0         1          Larceny - Shoplifitng  202500028812         500   \n",
       "1         2                    Hit and Run  202500028809               \n",
       "2         3  Larceny - Of Veh Parts/Access  202500028796         900   \n",
       "3         4                       Stalking  202500028788         400   \n",
       "4         5    Driving Under the Influence  202500028786               \n",
       "\n",
       "                 StreetName Agency HourReported  ReportingOfficer  \\\n",
       "0                 W MAIN ST    CPD         1756   Venereo, Arturo   \n",
       "1   HARRIS ST @ PRESTON AVE    CPD         1730     Rigsby, Lloyd   \n",
       "2              CHARLTON AVE    CPD         1603  Abdelgayed, Adam   \n",
       "3             13TH ST NW, D    CPD         1515  Abdelgayed, Adam   \n",
       "4  AVON ST @ MONTICELLO AVE    CPD         1503    Reed, Danielle   \n",
       "\n",
       "                 Date              DateString DayOfWeek  Weekend  Season  \\\n",
       "0 2025-08-14 17:56:26  2025-08-14 05:56:26 PM  Thursday    False  Summer   \n",
       "1 2025-08-14 17:30:12  2025-08-14 05:30:12 PM  Thursday    False  Summer   \n",
       "2 2025-08-14 16:03:21  2025-08-14 04:03:21 PM  Thursday    False  Summer   \n",
       "3 2025-08-14 15:15:22  2025-08-14 03:15:22 PM  Thursday    False  Summer   \n",
       "4 2025-08-14 15:03:17  2025-08-14 03:03:17 PM  Thursday    False  Summer   \n",
       "\n",
       "   HourAMPM  TimeOfDay                 FullStreet        lat        lon  \n",
       "0  05:56 PM    Evening              500 W MAIN ST  38.030793 -78.487912  \n",
       "1  05:30 PM    Evening    HARRIS ST @ PRESTON AVE  38.035120 -78.485555  \n",
       "2  04:03 PM  Afternoon           900 CHARLTON AVE  38.038284 -78.487238  \n",
       "3  03:15 PM  Afternoon          400 13TH ST NW, D        NaN        NaN  \n",
       "4  03:03 PM  Afternoon   AVON ST @ MONTICELLO AVE  38.024386 -78.479117  "
      ]
     },
     "execution_count": 9,
     "metadata": {},
     "output_type": "execute_result"
    }
   ],
   "source": [
    "# Combine BlockNumber and StreetName into a full address string\n",
    "df['FullStreet'] = df['BlockNumber'].astype(str) + \" \" + df['StreetName']\n",
    "\n",
    "# --- Step 1: Setup the Google Maps Client and Cache ---\n",
    "gmaps = googlemaps.Client(key=GOOGLE_API_KEY)\n",
    "\n",
    "# Try to load cached geocoding results if available.\n",
    "try:\n",
    "    with open(\"geocode_cache_google.pkl\", \"rb\") as f:\n",
    "        street_coords = pickle.load(f)\n",
    "    print(\"Loaded geocode cache.\")\n",
    "except FileNotFoundError:\n",
    "    street_coords = {}\n",
    "    print(\"No cache found; starting fresh.\")\n",
    "\n",
    "def geocode_address(address):\n",
    "    try:\n",
    "        # Append city and state to help geocoding\n",
    "        result = gmaps.geocode(f\"{address}, Charlottesville, VA\")\n",
    "        if result:\n",
    "            lat = result[0]['geometry']['location']['lat']\n",
    "            lon = result[0]['geometry']['location']['lng']\n",
    "            return lat, lon\n",
    "    except Exception as e:\n",
    "        print(f\"Error geocoding {address}: {e}\")\n",
    "    return None, None\n",
    "\n",
    "# --- Step 2: Geocode Only New Addresses ---\n",
    "unique_addresses = df['FullStreet'].unique()\n",
    "for address in unique_addresses:\n",
    "    if address not in street_coords:\n",
    "        lat, lon = geocode_address(address)\n",
    "        street_coords[address] = (lat, lon)\n",
    "        print(f\"Geocoded {address}: {lat}, {lon}\")\n",
    "\n",
    "# Save the updated cache to disk.\n",
    "with open(\"geocode_cache_google.pkl\", \"wb\") as f:\n",
    "    pickle.dump(street_coords, f)\n",
    "    print(\"Geocode cache updated and saved.\")\n",
    "\n",
    "# --- Step 3: Map Coordinates Back to DataFrame ---\n",
    "df['lat'] = df['FullStreet'].map(lambda s: street_coords.get(s, (None, None))[0])\n",
    "df['lon'] = df['FullStreet'].map(lambda s: street_coords.get(s, (None, None))[1])\n",
    "\n",
    "df.head()"
   ]
  },
  {
   "cell_type": "markdown",
   "id": "36f806de",
   "metadata": {
    "papermill": {
     "duration": 0.004315,
     "end_time": "2025-08-17T01:11:48.112108",
     "exception": false,
     "start_time": "2025-08-17T01:11:48.107793",
     "status": "completed"
    },
    "tags": []
   },
   "source": [
    "### Neighborhood"
   ]
  },
  {
   "cell_type": "code",
   "execution_count": 10,
   "id": "ae286602",
   "metadata": {
    "execution": {
     "iopub.execute_input": "2025-08-17T01:11:48.121641Z",
     "iopub.status.busy": "2025-08-17T01:11:48.121448Z",
     "iopub.status.idle": "2025-08-17T01:11:50.435232Z",
     "shell.execute_reply": "2025-08-17T01:11:50.434609Z"
    },
    "papermill": {
     "duration": 2.319776,
     "end_time": "2025-08-17T01:11:50.436253",
     "exception": false,
     "start_time": "2025-08-17T01:11:48.116477",
     "status": "completed"
    },
    "tags": []
   },
   "outputs": [
    {
     "name": "stdout",
     "output_type": "stream",
     "text": [
      "Loaded neighborhood cache.\n",
      "Error getting neighborhood for nan, nan: HTTP Error: 400\n",
      "Error getting neighborhood for nan, nan: HTTP Error: 400\n",
      "Error getting neighborhood for nan, nan: HTTP Error: 400\n"
     ]
    },
    {
     "name": "stdout",
     "output_type": "stream",
     "text": [
      "Error getting neighborhood for nan, nan: HTTP Error: 400\n",
      "Error getting neighborhood for nan, nan: HTTP Error: 400\n",
      "Error getting neighborhood for nan, nan: HTTP Error: 400\n",
      "Error getting neighborhood for nan, nan: HTTP Error: 400\n",
      "Error getting neighborhood for nan, nan: HTTP Error: 400\n",
      "Error getting neighborhood for nan, nan: HTTP Error: 400\n"
     ]
    },
    {
     "name": "stdout",
     "output_type": "stream",
     "text": [
      "Error getting neighborhood for nan, nan: HTTP Error: 400\n",
      "Error getting neighborhood for nan, nan: HTTP Error: 400\n",
      "Error getting neighborhood for nan, nan: HTTP Error: 400\n",
      "Error getting neighborhood for nan, nan: HTTP Error: 400\n",
      "Error getting neighborhood for nan, nan: HTTP Error: 400\n",
      "Error getting neighborhood for nan, nan: HTTP Error: 400\n",
      "Error getting neighborhood for nan, nan: HTTP Error: 400\n",
      "Error getting neighborhood for nan, nan: HTTP Error: 400\n",
      "Error getting neighborhood for nan, nan: HTTP Error: 400\n",
      "Error getting neighborhood for nan, nan: HTTP Error: 400\n",
      "Error getting neighborhood for nan, nan: HTTP Error: 400\n",
      "Error getting neighborhood for nan, nan: HTTP Error: 400\n"
     ]
    },
    {
     "name": "stdout",
     "output_type": "stream",
     "text": [
      "Error getting neighborhood for nan, nan: HTTP Error: 400\n",
      "Error getting neighborhood for nan, nan: HTTP Error: 400\n",
      "Error getting neighborhood for nan, nan: HTTP Error: 400\n",
      "Error getting neighborhood for nan, nan: HTTP Error: 400\n",
      "Error getting neighborhood for nan, nan: HTTP Error: 400\n",
      "Error getting neighborhood for nan, nan: HTTP Error: 400\n",
      "Error getting neighborhood for nan, nan: HTTP Error: 400\n",
      "Error getting neighborhood for nan, nan: HTTP Error: 400\n",
      "Error getting neighborhood for nan, nan: HTTP Error: 400\n",
      "Error getting neighborhood for nan, nan: HTTP Error: 400\n",
      "Error getting neighborhood for nan, nan: HTTP Error: 400\n",
      "Error getting neighborhood for nan, nan: HTTP Error: 400\n"
     ]
    },
    {
     "name": "stdout",
     "output_type": "stream",
     "text": [
      "Error getting neighborhood for nan, nan: HTTP Error: 400\n",
      "Error getting neighborhood for nan, nan: HTTP Error: 400\n",
      "Error getting neighborhood for nan, nan: HTTP Error: 400\n",
      "Error getting neighborhood for nan, nan: HTTP Error: 400\n",
      "Error getting neighborhood for nan, nan: HTTP Error: 400\n",
      "Error getting neighborhood for nan, nan: HTTP Error: 400\n",
      "Error getting neighborhood for nan, nan: HTTP Error: 400\n",
      "Error getting neighborhood for nan, nan: HTTP Error: 400\n",
      "Error getting neighborhood for nan, nan: HTTP Error: 400\n",
      "Error getting neighborhood for nan, nan: HTTP Error: 400\n",
      "Error getting neighborhood for nan, nan: HTTP Error: 400\n",
      "Error getting neighborhood for nan, nan: HTTP Error: 400\n"
     ]
    },
    {
     "name": "stdout",
     "output_type": "stream",
     "text": [
      "Error getting neighborhood for nan, nan: HTTP Error: 400\n",
      "Error getting neighborhood for nan, nan: HTTP Error: 400\n",
      "Error getting neighborhood for nan, nan: HTTP Error: 400\n",
      "Error getting neighborhood for nan, nan: HTTP Error: 400\n",
      "Error getting neighborhood for nan, nan: HTTP Error: 400\n",
      "Error getting neighborhood for nan, nan: HTTP Error: 400\n",
      "Error getting neighborhood for nan, nan: HTTP Error: 400\n",
      "Error getting neighborhood for nan, nan: HTTP Error: 400\n",
      "Error getting neighborhood for nan, nan: HTTP Error: 400\n",
      "Error getting neighborhood for nan, nan: HTTP Error: 400\n",
      "Error getting neighborhood for nan, nan: HTTP Error: 400\n"
     ]
    },
    {
     "name": "stdout",
     "output_type": "stream",
     "text": [
      "Error getting neighborhood for nan, nan: HTTP Error: 400\n",
      "Error getting neighborhood for nan, nan: HTTP Error: 400\n",
      "Error getting neighborhood for nan, nan: HTTP Error: 400\n",
      "Error getting neighborhood for nan, nan: HTTP Error: 400\n",
      "Error getting neighborhood for nan, nan: HTTP Error: 400\n",
      "Error getting neighborhood for nan, nan: HTTP Error: 400\n",
      "Error getting neighborhood for nan, nan: HTTP Error: 400\n",
      "Error getting neighborhood for nan, nan: HTTP Error: 400\n",
      "Error getting neighborhood for nan, nan: HTTP Error: 400\n",
      "Error getting neighborhood for nan, nan: HTTP Error: 400\n",
      "Error getting neighborhood for nan, nan: HTTP Error: 400\n"
     ]
    },
    {
     "name": "stdout",
     "output_type": "stream",
     "text": [
      "Error getting neighborhood for nan, nan: HTTP Error: 400\n",
      "Error getting neighborhood for nan, nan: HTTP Error: 400\n",
      "Error getting neighborhood for nan, nan: HTTP Error: 400\n",
      "Error getting neighborhood for nan, nan: HTTP Error: 400\n",
      "Error getting neighborhood for nan, nan: HTTP Error: 400\n",
      "Error getting neighborhood for nan, nan: HTTP Error: 400\n",
      "Error getting neighborhood for nan, nan: HTTP Error: 400\n",
      "Error getting neighborhood for nan, nan: HTTP Error: 400\n",
      "Error getting neighborhood for nan, nan: HTTP Error: 400\n",
      "Error getting neighborhood for nan, nan: HTTP Error: 400\n",
      "Error getting neighborhood for nan, nan: HTTP Error: 400\n"
     ]
    },
    {
     "name": "stdout",
     "output_type": "stream",
     "text": [
      "Error getting neighborhood for nan, nan: HTTP Error: 400\n",
      "Error getting neighborhood for nan, nan: HTTP Error: 400\n",
      "Error getting neighborhood for nan, nan: HTTP Error: 400\n",
      "Error getting neighborhood for nan, nan: HTTP Error: 400\n",
      "Error getting neighborhood for nan, nan: HTTP Error: 400\n",
      "Error getting neighborhood for nan, nan: HTTP Error: 400\n",
      "Error getting neighborhood for nan, nan: HTTP Error: 400\n",
      "Error getting neighborhood for nan, nan: HTTP Error: 400\n",
      "Error getting neighborhood for nan, nan: HTTP Error: 400\n",
      "Error getting neighborhood for nan, nan: HTTP Error: 400\n",
      "Error getting neighborhood for nan, nan: HTTP Error: 400\n",
      "Error getting neighborhood for nan, nan: HTTP Error: 400\n"
     ]
    },
    {
     "name": "stdout",
     "output_type": "stream",
     "text": [
      "Error getting neighborhood for nan, nan: HTTP Error: 400\n",
      "Error getting neighborhood for nan, nan: HTTP Error: 400\n",
      "Error getting neighborhood for nan, nan: HTTP Error: 400\n",
      "Error getting neighborhood for nan, nan: HTTP Error: 400\n",
      "Error getting neighborhood for nan, nan: HTTP Error: 400\n",
      "Error getting neighborhood for nan, nan: HTTP Error: 400\n",
      "Error getting neighborhood for nan, nan: HTTP Error: 400\n",
      "Error getting neighborhood for nan, nan: HTTP Error: 400\n",
      "Error getting neighborhood for nan, nan: HTTP Error: 400\n",
      "Error getting neighborhood for nan, nan: HTTP Error: 400\n",
      "Error getting neighborhood for nan, nan: HTTP Error: 400\n",
      "Error getting neighborhood for nan, nan: HTTP Error: 400\n"
     ]
    },
    {
     "name": "stdout",
     "output_type": "stream",
     "text": [
      "Error getting neighborhood for nan, nan: HTTP Error: 400\n"
     ]
    },
    {
     "data": {
      "text/html": [
       "<div>\n",
       "<style scoped>\n",
       "    .dataframe tbody tr th:only-of-type {\n",
       "        vertical-align: middle;\n",
       "    }\n",
       "\n",
       "    .dataframe tbody tr th {\n",
       "        vertical-align: top;\n",
       "    }\n",
       "\n",
       "    .dataframe thead th {\n",
       "        text-align: right;\n",
       "    }\n",
       "</style>\n",
       "<table border=\"1\" class=\"dataframe\">\n",
       "  <thead>\n",
       "    <tr style=\"text-align: right;\">\n",
       "      <th></th>\n",
       "      <th>RecordID</th>\n",
       "      <th>Offense</th>\n",
       "      <th>IncidentID</th>\n",
       "      <th>BlockNumber</th>\n",
       "      <th>StreetName</th>\n",
       "      <th>Agency</th>\n",
       "      <th>HourReported</th>\n",
       "      <th>ReportingOfficer</th>\n",
       "      <th>Date</th>\n",
       "      <th>DateString</th>\n",
       "      <th>DayOfWeek</th>\n",
       "      <th>Weekend</th>\n",
       "      <th>Season</th>\n",
       "      <th>HourAMPM</th>\n",
       "      <th>TimeOfDay</th>\n",
       "      <th>FullStreet</th>\n",
       "      <th>lat</th>\n",
       "      <th>lon</th>\n",
       "      <th>neighborhood</th>\n",
       "    </tr>\n",
       "  </thead>\n",
       "  <tbody>\n",
       "    <tr>\n",
       "      <th>0</th>\n",
       "      <td>1</td>\n",
       "      <td>Larceny - Shoplifitng</td>\n",
       "      <td>202500028812</td>\n",
       "      <td>500</td>\n",
       "      <td>W MAIN ST</td>\n",
       "      <td>CPD</td>\n",
       "      <td>1756</td>\n",
       "      <td>Venereo, Arturo</td>\n",
       "      <td>2025-08-14 17:56:26</td>\n",
       "      <td>2025-08-14 05:56:26 PM</td>\n",
       "      <td>Thursday</td>\n",
       "      <td>False</td>\n",
       "      <td>Summer</td>\n",
       "      <td>05:56 PM</td>\n",
       "      <td>Evening</td>\n",
       "      <td>500 W MAIN ST</td>\n",
       "      <td>38.030793</td>\n",
       "      <td>-78.487912</td>\n",
       "      <td>Starr Hill</td>\n",
       "    </tr>\n",
       "    <tr>\n",
       "      <th>1</th>\n",
       "      <td>2</td>\n",
       "      <td>Hit and Run</td>\n",
       "      <td>202500028809</td>\n",
       "      <td></td>\n",
       "      <td>HARRIS ST @ PRESTON AVE</td>\n",
       "      <td>CPD</td>\n",
       "      <td>1730</td>\n",
       "      <td>Rigsby, Lloyd</td>\n",
       "      <td>2025-08-14 17:30:12</td>\n",
       "      <td>2025-08-14 05:30:12 PM</td>\n",
       "      <td>Thursday</td>\n",
       "      <td>False</td>\n",
       "      <td>Summer</td>\n",
       "      <td>05:30 PM</td>\n",
       "      <td>Evening</td>\n",
       "      <td>HARRIS ST @ PRESTON AVE</td>\n",
       "      <td>38.035120</td>\n",
       "      <td>-78.485555</td>\n",
       "      <td>North Downtown</td>\n",
       "    </tr>\n",
       "    <tr>\n",
       "      <th>2</th>\n",
       "      <td>3</td>\n",
       "      <td>Larceny - Of Veh Parts/Access</td>\n",
       "      <td>202500028796</td>\n",
       "      <td>900</td>\n",
       "      <td>CHARLTON AVE</td>\n",
       "      <td>CPD</td>\n",
       "      <td>1603</td>\n",
       "      <td>Abdelgayed, Adam</td>\n",
       "      <td>2025-08-14 16:03:21</td>\n",
       "      <td>2025-08-14 04:03:21 PM</td>\n",
       "      <td>Thursday</td>\n",
       "      <td>False</td>\n",
       "      <td>Summer</td>\n",
       "      <td>04:03 PM</td>\n",
       "      <td>Afternoon</td>\n",
       "      <td>900 CHARLTON AVE</td>\n",
       "      <td>38.038284</td>\n",
       "      <td>-78.487238</td>\n",
       "      <td>Rose Hill</td>\n",
       "    </tr>\n",
       "    <tr>\n",
       "      <th>3</th>\n",
       "      <td>4</td>\n",
       "      <td>Stalking</td>\n",
       "      <td>202500028788</td>\n",
       "      <td>400</td>\n",
       "      <td>13TH ST NW, D</td>\n",
       "      <td>CPD</td>\n",
       "      <td>1515</td>\n",
       "      <td>Abdelgayed, Adam</td>\n",
       "      <td>2025-08-14 15:15:22</td>\n",
       "      <td>2025-08-14 03:15:22 PM</td>\n",
       "      <td>Thursday</td>\n",
       "      <td>False</td>\n",
       "      <td>Summer</td>\n",
       "      <td>03:15 PM</td>\n",
       "      <td>Afternoon</td>\n",
       "      <td>400 13TH ST NW, D</td>\n",
       "      <td>NaN</td>\n",
       "      <td>NaN</td>\n",
       "      <td>N/A</td>\n",
       "    </tr>\n",
       "    <tr>\n",
       "      <th>4</th>\n",
       "      <td>5</td>\n",
       "      <td>Driving Under the Influence</td>\n",
       "      <td>202500028786</td>\n",
       "      <td></td>\n",
       "      <td>AVON ST @ MONTICELLO AVE</td>\n",
       "      <td>CPD</td>\n",
       "      <td>1503</td>\n",
       "      <td>Reed, Danielle</td>\n",
       "      <td>2025-08-14 15:03:17</td>\n",
       "      <td>2025-08-14 03:03:17 PM</td>\n",
       "      <td>Thursday</td>\n",
       "      <td>False</td>\n",
       "      <td>Summer</td>\n",
       "      <td>03:03 PM</td>\n",
       "      <td>Afternoon</td>\n",
       "      <td>AVON ST @ MONTICELLO AVE</td>\n",
       "      <td>38.024386</td>\n",
       "      <td>-78.479117</td>\n",
       "      <td>Belmont</td>\n",
       "    </tr>\n",
       "  </tbody>\n",
       "</table>\n",
       "</div>"
      ],
      "text/plain": [
       "   RecordID                        Offense    IncidentID BlockNumber  \\\n",
       "0         1          Larceny - Shoplifitng  202500028812         500   \n",
       "1         2                    Hit and Run  202500028809               \n",
       "2         3  Larceny - Of Veh Parts/Access  202500028796         900   \n",
       "3         4                       Stalking  202500028788         400   \n",
       "4         5    Driving Under the Influence  202500028786               \n",
       "\n",
       "                 StreetName Agency HourReported  ReportingOfficer  \\\n",
       "0                 W MAIN ST    CPD         1756   Venereo, Arturo   \n",
       "1   HARRIS ST @ PRESTON AVE    CPD         1730     Rigsby, Lloyd   \n",
       "2              CHARLTON AVE    CPD         1603  Abdelgayed, Adam   \n",
       "3             13TH ST NW, D    CPD         1515  Abdelgayed, Adam   \n",
       "4  AVON ST @ MONTICELLO AVE    CPD         1503    Reed, Danielle   \n",
       "\n",
       "                 Date              DateString DayOfWeek  Weekend  Season  \\\n",
       "0 2025-08-14 17:56:26  2025-08-14 05:56:26 PM  Thursday    False  Summer   \n",
       "1 2025-08-14 17:30:12  2025-08-14 05:30:12 PM  Thursday    False  Summer   \n",
       "2 2025-08-14 16:03:21  2025-08-14 04:03:21 PM  Thursday    False  Summer   \n",
       "3 2025-08-14 15:15:22  2025-08-14 03:15:22 PM  Thursday    False  Summer   \n",
       "4 2025-08-14 15:03:17  2025-08-14 03:03:17 PM  Thursday    False  Summer   \n",
       "\n",
       "   HourAMPM  TimeOfDay                 FullStreet        lat        lon  \\\n",
       "0  05:56 PM    Evening              500 W MAIN ST  38.030793 -78.487912   \n",
       "1  05:30 PM    Evening    HARRIS ST @ PRESTON AVE  38.035120 -78.485555   \n",
       "2  04:03 PM  Afternoon           900 CHARLTON AVE  38.038284 -78.487238   \n",
       "3  03:15 PM  Afternoon          400 13TH ST NW, D        NaN        NaN   \n",
       "4  03:03 PM  Afternoon   AVON ST @ MONTICELLO AVE  38.024386 -78.479117   \n",
       "\n",
       "     neighborhood  \n",
       "0      Starr Hill  \n",
       "1  North Downtown  \n",
       "2       Rose Hill  \n",
       "3             N/A  \n",
       "4         Belmont  "
      ]
     },
     "execution_count": 10,
     "metadata": {},
     "output_type": "execute_result"
    }
   ],
   "source": [
    "# Initialize the Google Maps client.\n",
    "gmaps = googlemaps.Client(key=GOOGLE_API_KEY)\n",
    "\n",
    "# Try to load a persistent neighborhood cache if available.\n",
    "try:\n",
    "    with open(\"neighborhood_cache.pkl\", \"rb\") as f:\n",
    "        neighborhood_cache = pickle.load(f)\n",
    "    print(\"Loaded neighborhood cache.\")\n",
    "except FileNotFoundError:\n",
    "    neighborhood_cache = {}\n",
    "    print(\"No neighborhood cache found; starting fresh.\")\n",
    "\n",
    "def get_neighborhood(lat, lon):\n",
    "    \"\"\"\n",
    "    Reverse geocodes a latitude and longitude to retrieve the neighborhood.\n",
    "    Caches results to speed up subsequent lookups.\n",
    "    \"\"\"\n",
    "    key = (lat, lon)\n",
    "    if key in neighborhood_cache:\n",
    "        return neighborhood_cache[key]\n",
    "    \n",
    "    try:\n",
    "        result = gmaps.reverse_geocode((lat, lon))\n",
    "        if result:\n",
    "            # Look for the 'neighborhood' component in the first result.\n",
    "            for component in result[0]['address_components']:\n",
    "                if 'neighborhood' in component['types']:\n",
    "                    neighborhood = component['long_name']\n",
    "                    neighborhood_cache[key] = neighborhood\n",
    "                    return neighborhood\n",
    "            # If no neighborhood is found, return \"N/A\"\n",
    "            neighborhood_cache[key] = \"N/A\"\n",
    "            return \"N/A\"\n",
    "    except Exception as e:\n",
    "        print(f\"Error getting neighborhood for {lat}, {lon}: {e}\")\n",
    "        return \"N/A\"\n",
    "    \n",
    "    # Pause to respect usage limits.\n",
    "    time.sleep(1)\n",
    "\n",
    "# Example usage: Apply to your DataFrame 'df' that already has 'lat' and 'lon' columns.\n",
    "df['neighborhood'] = df.apply(lambda row: get_neighborhood(row['lat'], row['lon']), axis=1)\n",
    "\n",
    "# Save the updated neighborhood cache.\n",
    "with open(\"neighborhood_cache.pkl\", \"wb\") as f:\n",
    "    pickle.dump(neighborhood_cache, f)\n",
    "\n",
    "df.head()\n"
   ]
  },
  {
   "cell_type": "markdown",
   "id": "ac268e61",
   "metadata": {
    "papermill": {
     "duration": 0.00513,
     "end_time": "2025-08-17T01:11:50.446911",
     "exception": false,
     "start_time": "2025-08-17T01:11:50.441781",
     "status": "completed"
    },
    "tags": []
   },
   "source": [
    "### Zip"
   ]
  },
  {
   "cell_type": "code",
   "execution_count": 11,
   "id": "6b27a763",
   "metadata": {
    "execution": {
     "iopub.execute_input": "2025-08-17T01:11:50.458039Z",
     "iopub.status.busy": "2025-08-17T01:11:50.457821Z",
     "iopub.status.idle": "2025-08-17T01:13:34.069472Z",
     "shell.execute_reply": "2025-08-17T01:13:34.068852Z"
    },
    "papermill": {
     "duration": 103.618482,
     "end_time": "2025-08-17T01:13:34.070512",
     "exception": false,
     "start_time": "2025-08-17T01:11:50.452030",
     "status": "completed"
    },
    "tags": []
   },
   "outputs": [
    {
     "name": "stdout",
     "output_type": "stream",
     "text": [
      "Loaded zip cache.\n",
      "Error getting ZIP for nan, nan: Must be a coordinate pair or Point\n"
     ]
    },
    {
     "name": "stdout",
     "output_type": "stream",
     "text": [
      "Error getting ZIP for nan, nan: Must be a coordinate pair or Point\n"
     ]
    },
    {
     "name": "stdout",
     "output_type": "stream",
     "text": [
      "Error getting ZIP for nan, nan: Must be a coordinate pair or Point\n"
     ]
    },
    {
     "name": "stdout",
     "output_type": "stream",
     "text": [
      "Error getting ZIP for nan, nan: Must be a coordinate pair or Point\n"
     ]
    },
    {
     "name": "stdout",
     "output_type": "stream",
     "text": [
      "Error getting ZIP for nan, nan: Must be a coordinate pair or Point\n"
     ]
    },
    {
     "name": "stdout",
     "output_type": "stream",
     "text": [
      "Error getting ZIP for nan, nan: Must be a coordinate pair or Point\n"
     ]
    },
    {
     "name": "stdout",
     "output_type": "stream",
     "text": [
      "Error getting ZIP for nan, nan: Must be a coordinate pair or Point\n"
     ]
    },
    {
     "name": "stdout",
     "output_type": "stream",
     "text": [
      "Error getting ZIP for nan, nan: Must be a coordinate pair or Point\n"
     ]
    },
    {
     "name": "stdout",
     "output_type": "stream",
     "text": [
      "Error getting ZIP for nan, nan: Must be a coordinate pair or Point\n"
     ]
    },
    {
     "name": "stdout",
     "output_type": "stream",
     "text": [
      "Error getting ZIP for nan, nan: Must be a coordinate pair or Point\n"
     ]
    },
    {
     "name": "stdout",
     "output_type": "stream",
     "text": [
      "Error getting ZIP for nan, nan: Must be a coordinate pair or Point\n"
     ]
    },
    {
     "name": "stdout",
     "output_type": "stream",
     "text": [
      "Error getting ZIP for nan, nan: Must be a coordinate pair or Point\n"
     ]
    },
    {
     "name": "stdout",
     "output_type": "stream",
     "text": [
      "Error getting ZIP for nan, nan: Must be a coordinate pair or Point\n"
     ]
    },
    {
     "name": "stdout",
     "output_type": "stream",
     "text": [
      "Error getting ZIP for nan, nan: Must be a coordinate pair or Point\n"
     ]
    },
    {
     "name": "stdout",
     "output_type": "stream",
     "text": [
      "Error getting ZIP for nan, nan: Must be a coordinate pair or Point\n"
     ]
    },
    {
     "name": "stdout",
     "output_type": "stream",
     "text": [
      "Error getting ZIP for nan, nan: Must be a coordinate pair or Point\n"
     ]
    },
    {
     "name": "stdout",
     "output_type": "stream",
     "text": [
      "Error getting ZIP for nan, nan: Must be a coordinate pair or Point\n"
     ]
    },
    {
     "name": "stdout",
     "output_type": "stream",
     "text": [
      "Error getting ZIP for nan, nan: Must be a coordinate pair or Point\n"
     ]
    },
    {
     "name": "stdout",
     "output_type": "stream",
     "text": [
      "Error getting ZIP for nan, nan: Must be a coordinate pair or Point\n"
     ]
    },
    {
     "name": "stdout",
     "output_type": "stream",
     "text": [
      "Error getting ZIP for nan, nan: Must be a coordinate pair or Point\n"
     ]
    },
    {
     "name": "stdout",
     "output_type": "stream",
     "text": [
      "Error getting ZIP for nan, nan: Must be a coordinate pair or Point\n"
     ]
    },
    {
     "name": "stdout",
     "output_type": "stream",
     "text": [
      "Error getting ZIP for nan, nan: Must be a coordinate pair or Point\n"
     ]
    },
    {
     "name": "stdout",
     "output_type": "stream",
     "text": [
      "Error getting ZIP for nan, nan: Must be a coordinate pair or Point\n"
     ]
    },
    {
     "name": "stdout",
     "output_type": "stream",
     "text": [
      "Error getting ZIP for nan, nan: Must be a coordinate pair or Point\n"
     ]
    },
    {
     "name": "stdout",
     "output_type": "stream",
     "text": [
      "Error getting ZIP for nan, nan: Must be a coordinate pair or Point\n"
     ]
    },
    {
     "name": "stdout",
     "output_type": "stream",
     "text": [
      "Error getting ZIP for nan, nan: Must be a coordinate pair or Point\n"
     ]
    },
    {
     "name": "stdout",
     "output_type": "stream",
     "text": [
      "Error getting ZIP for nan, nan: Must be a coordinate pair or Point\n"
     ]
    },
    {
     "name": "stdout",
     "output_type": "stream",
     "text": [
      "Error getting ZIP for nan, nan: Must be a coordinate pair or Point\n"
     ]
    },
    {
     "name": "stdout",
     "output_type": "stream",
     "text": [
      "Error getting ZIP for nan, nan: Must be a coordinate pair or Point\n"
     ]
    },
    {
     "name": "stdout",
     "output_type": "stream",
     "text": [
      "Error getting ZIP for nan, nan: Must be a coordinate pair or Point\n"
     ]
    },
    {
     "name": "stdout",
     "output_type": "stream",
     "text": [
      "Error getting ZIP for nan, nan: Must be a coordinate pair or Point\n"
     ]
    },
    {
     "name": "stdout",
     "output_type": "stream",
     "text": [
      "Error getting ZIP for nan, nan: Must be a coordinate pair or Point\n"
     ]
    },
    {
     "name": "stdout",
     "output_type": "stream",
     "text": [
      "Error getting ZIP for nan, nan: Must be a coordinate pair or Point\n"
     ]
    },
    {
     "name": "stdout",
     "output_type": "stream",
     "text": [
      "Error getting ZIP for nan, nan: Must be a coordinate pair or Point\n"
     ]
    },
    {
     "name": "stdout",
     "output_type": "stream",
     "text": [
      "Error getting ZIP for nan, nan: Must be a coordinate pair or Point\n"
     ]
    },
    {
     "name": "stdout",
     "output_type": "stream",
     "text": [
      "Error getting ZIP for nan, nan: Must be a coordinate pair or Point\n"
     ]
    },
    {
     "name": "stdout",
     "output_type": "stream",
     "text": [
      "Error getting ZIP for nan, nan: Must be a coordinate pair or Point\n"
     ]
    },
    {
     "name": "stdout",
     "output_type": "stream",
     "text": [
      "Error getting ZIP for nan, nan: Must be a coordinate pair or Point\n"
     ]
    },
    {
     "name": "stdout",
     "output_type": "stream",
     "text": [
      "Error getting ZIP for nan, nan: Must be a coordinate pair or Point\n"
     ]
    },
    {
     "name": "stdout",
     "output_type": "stream",
     "text": [
      "Error getting ZIP for nan, nan: Must be a coordinate pair or Point\n"
     ]
    },
    {
     "name": "stdout",
     "output_type": "stream",
     "text": [
      "Error getting ZIP for nan, nan: Must be a coordinate pair or Point\n"
     ]
    },
    {
     "name": "stdout",
     "output_type": "stream",
     "text": [
      "Error getting ZIP for nan, nan: Must be a coordinate pair or Point\n"
     ]
    },
    {
     "name": "stdout",
     "output_type": "stream",
     "text": [
      "Error getting ZIP for nan, nan: Must be a coordinate pair or Point\n"
     ]
    },
    {
     "name": "stdout",
     "output_type": "stream",
     "text": [
      "Error getting ZIP for nan, nan: Must be a coordinate pair or Point\n"
     ]
    },
    {
     "name": "stdout",
     "output_type": "stream",
     "text": [
      "Error getting ZIP for nan, nan: Must be a coordinate pair or Point\n"
     ]
    },
    {
     "name": "stdout",
     "output_type": "stream",
     "text": [
      "Error getting ZIP for nan, nan: Must be a coordinate pair or Point\n"
     ]
    },
    {
     "name": "stdout",
     "output_type": "stream",
     "text": [
      "Error getting ZIP for nan, nan: Must be a coordinate pair or Point\n"
     ]
    },
    {
     "name": "stdout",
     "output_type": "stream",
     "text": [
      "Error getting ZIP for nan, nan: Must be a coordinate pair or Point\n"
     ]
    },
    {
     "name": "stdout",
     "output_type": "stream",
     "text": [
      "Error getting ZIP for nan, nan: Must be a coordinate pair or Point\n"
     ]
    },
    {
     "name": "stdout",
     "output_type": "stream",
     "text": [
      "Error getting ZIP for nan, nan: Must be a coordinate pair or Point\n"
     ]
    },
    {
     "name": "stdout",
     "output_type": "stream",
     "text": [
      "Error getting ZIP for nan, nan: Must be a coordinate pair or Point\n"
     ]
    },
    {
     "name": "stdout",
     "output_type": "stream",
     "text": [
      "Error getting ZIP for nan, nan: Must be a coordinate pair or Point\n"
     ]
    },
    {
     "name": "stdout",
     "output_type": "stream",
     "text": [
      "Error getting ZIP for nan, nan: Must be a coordinate pair or Point\n"
     ]
    },
    {
     "name": "stdout",
     "output_type": "stream",
     "text": [
      "Error getting ZIP for nan, nan: Must be a coordinate pair or Point\n"
     ]
    },
    {
     "name": "stdout",
     "output_type": "stream",
     "text": [
      "Error getting ZIP for nan, nan: Must be a coordinate pair or Point\n"
     ]
    },
    {
     "name": "stdout",
     "output_type": "stream",
     "text": [
      "Error getting ZIP for nan, nan: Must be a coordinate pair or Point\n"
     ]
    },
    {
     "name": "stdout",
     "output_type": "stream",
     "text": [
      "Error getting ZIP for nan, nan: Must be a coordinate pair or Point\n"
     ]
    },
    {
     "name": "stdout",
     "output_type": "stream",
     "text": [
      "Error getting ZIP for nan, nan: Must be a coordinate pair or Point\n"
     ]
    },
    {
     "name": "stdout",
     "output_type": "stream",
     "text": [
      "Error getting ZIP for nan, nan: Must be a coordinate pair or Point\n"
     ]
    },
    {
     "name": "stdout",
     "output_type": "stream",
     "text": [
      "Error getting ZIP for nan, nan: Must be a coordinate pair or Point\n"
     ]
    },
    {
     "name": "stdout",
     "output_type": "stream",
     "text": [
      "Error getting ZIP for nan, nan: Must be a coordinate pair or Point\n"
     ]
    },
    {
     "name": "stdout",
     "output_type": "stream",
     "text": [
      "Error getting ZIP for nan, nan: Must be a coordinate pair or Point\n"
     ]
    },
    {
     "name": "stdout",
     "output_type": "stream",
     "text": [
      "Error getting ZIP for nan, nan: Must be a coordinate pair or Point\n"
     ]
    },
    {
     "name": "stdout",
     "output_type": "stream",
     "text": [
      "Error getting ZIP for nan, nan: Must be a coordinate pair or Point\n"
     ]
    },
    {
     "name": "stdout",
     "output_type": "stream",
     "text": [
      "Error getting ZIP for nan, nan: Must be a coordinate pair or Point\n"
     ]
    },
    {
     "name": "stdout",
     "output_type": "stream",
     "text": [
      "Error getting ZIP for nan, nan: Must be a coordinate pair or Point\n"
     ]
    },
    {
     "name": "stdout",
     "output_type": "stream",
     "text": [
      "Error getting ZIP for nan, nan: Must be a coordinate pair or Point\n"
     ]
    },
    {
     "name": "stdout",
     "output_type": "stream",
     "text": [
      "Error getting ZIP for nan, nan: Must be a coordinate pair or Point\n"
     ]
    },
    {
     "name": "stdout",
     "output_type": "stream",
     "text": [
      "Error getting ZIP for nan, nan: Must be a coordinate pair or Point\n"
     ]
    },
    {
     "name": "stdout",
     "output_type": "stream",
     "text": [
      "Error getting ZIP for nan, nan: Must be a coordinate pair or Point\n"
     ]
    },
    {
     "name": "stdout",
     "output_type": "stream",
     "text": [
      "Error getting ZIP for nan, nan: Must be a coordinate pair or Point\n"
     ]
    },
    {
     "name": "stdout",
     "output_type": "stream",
     "text": [
      "Error getting ZIP for nan, nan: Must be a coordinate pair or Point\n"
     ]
    },
    {
     "name": "stdout",
     "output_type": "stream",
     "text": [
      "Error getting ZIP for nan, nan: Must be a coordinate pair or Point\n"
     ]
    },
    {
     "name": "stdout",
     "output_type": "stream",
     "text": [
      "Error getting ZIP for nan, nan: Must be a coordinate pair or Point\n"
     ]
    },
    {
     "name": "stdout",
     "output_type": "stream",
     "text": [
      "Error getting ZIP for nan, nan: Must be a coordinate pair or Point\n"
     ]
    },
    {
     "name": "stdout",
     "output_type": "stream",
     "text": [
      "Error getting ZIP for nan, nan: Must be a coordinate pair or Point\n"
     ]
    },
    {
     "name": "stdout",
     "output_type": "stream",
     "text": [
      "Error getting ZIP for nan, nan: Must be a coordinate pair or Point\n"
     ]
    },
    {
     "name": "stdout",
     "output_type": "stream",
     "text": [
      "Error getting ZIP for nan, nan: Must be a coordinate pair or Point\n"
     ]
    },
    {
     "name": "stdout",
     "output_type": "stream",
     "text": [
      "Error getting ZIP for nan, nan: Must be a coordinate pair or Point\n"
     ]
    },
    {
     "name": "stdout",
     "output_type": "stream",
     "text": [
      "Error getting ZIP for nan, nan: Must be a coordinate pair or Point\n"
     ]
    },
    {
     "name": "stdout",
     "output_type": "stream",
     "text": [
      "Error getting ZIP for nan, nan: Must be a coordinate pair or Point\n"
     ]
    },
    {
     "name": "stdout",
     "output_type": "stream",
     "text": [
      "Error getting ZIP for nan, nan: Must be a coordinate pair or Point\n"
     ]
    },
    {
     "name": "stdout",
     "output_type": "stream",
     "text": [
      "Error getting ZIP for nan, nan: Must be a coordinate pair or Point\n"
     ]
    },
    {
     "name": "stdout",
     "output_type": "stream",
     "text": [
      "Error getting ZIP for nan, nan: Must be a coordinate pair or Point\n"
     ]
    },
    {
     "name": "stdout",
     "output_type": "stream",
     "text": [
      "Error getting ZIP for nan, nan: Must be a coordinate pair or Point\n"
     ]
    },
    {
     "name": "stdout",
     "output_type": "stream",
     "text": [
      "Error getting ZIP for nan, nan: Must be a coordinate pair or Point\n"
     ]
    },
    {
     "name": "stdout",
     "output_type": "stream",
     "text": [
      "Error getting ZIP for nan, nan: Must be a coordinate pair or Point\n"
     ]
    },
    {
     "name": "stdout",
     "output_type": "stream",
     "text": [
      "Error getting ZIP for nan, nan: Must be a coordinate pair or Point\n"
     ]
    },
    {
     "name": "stdout",
     "output_type": "stream",
     "text": [
      "Error getting ZIP for nan, nan: Must be a coordinate pair or Point\n"
     ]
    },
    {
     "name": "stdout",
     "output_type": "stream",
     "text": [
      "Error getting ZIP for nan, nan: Must be a coordinate pair or Point\n"
     ]
    },
    {
     "name": "stdout",
     "output_type": "stream",
     "text": [
      "Error getting ZIP for nan, nan: Must be a coordinate pair or Point\n"
     ]
    },
    {
     "name": "stdout",
     "output_type": "stream",
     "text": [
      "Error getting ZIP for nan, nan: Must be a coordinate pair or Point\n"
     ]
    },
    {
     "name": "stdout",
     "output_type": "stream",
     "text": [
      "Error getting ZIP for nan, nan: Must be a coordinate pair or Point\n"
     ]
    },
    {
     "name": "stdout",
     "output_type": "stream",
     "text": [
      "Error getting ZIP for nan, nan: Must be a coordinate pair or Point\n"
     ]
    },
    {
     "name": "stdout",
     "output_type": "stream",
     "text": [
      "Error getting ZIP for nan, nan: Must be a coordinate pair or Point\n"
     ]
    },
    {
     "name": "stdout",
     "output_type": "stream",
     "text": [
      "Error getting ZIP for nan, nan: Must be a coordinate pair or Point\n"
     ]
    },
    {
     "name": "stdout",
     "output_type": "stream",
     "text": [
      "Error getting ZIP for nan, nan: Must be a coordinate pair or Point\n"
     ]
    },
    {
     "name": "stdout",
     "output_type": "stream",
     "text": [
      "Error getting ZIP for nan, nan: Must be a coordinate pair or Point\n"
     ]
    },
    {
     "name": "stdout",
     "output_type": "stream",
     "text": [
      "Error getting ZIP for nan, nan: Must be a coordinate pair or Point\n"
     ]
    },
    {
     "name": "stdout",
     "output_type": "stream",
     "text": [
      "Error getting ZIP for nan, nan: Must be a coordinate pair or Point\n"
     ]
    },
    {
     "name": "stdout",
     "output_type": "stream",
     "text": [
      "Error getting ZIP for nan, nan: Must be a coordinate pair or Point\n"
     ]
    },
    {
     "name": "stdout",
     "output_type": "stream",
     "text": [
      "Error getting ZIP for nan, nan: Must be a coordinate pair or Point\n"
     ]
    },
    {
     "name": "stdout",
     "output_type": "stream",
     "text": [
      "Error getting ZIP for nan, nan: Must be a coordinate pair or Point\n"
     ]
    },
    {
     "data": {
      "text/html": [
       "<div>\n",
       "<style scoped>\n",
       "    .dataframe tbody tr th:only-of-type {\n",
       "        vertical-align: middle;\n",
       "    }\n",
       "\n",
       "    .dataframe tbody tr th {\n",
       "        vertical-align: top;\n",
       "    }\n",
       "\n",
       "    .dataframe thead th {\n",
       "        text-align: right;\n",
       "    }\n",
       "</style>\n",
       "<table border=\"1\" class=\"dataframe\">\n",
       "  <thead>\n",
       "    <tr style=\"text-align: right;\">\n",
       "      <th></th>\n",
       "      <th>RecordID</th>\n",
       "      <th>Offense</th>\n",
       "      <th>IncidentID</th>\n",
       "      <th>BlockNumber</th>\n",
       "      <th>StreetName</th>\n",
       "      <th>Agency</th>\n",
       "      <th>HourReported</th>\n",
       "      <th>ReportingOfficer</th>\n",
       "      <th>Date</th>\n",
       "      <th>DateString</th>\n",
       "      <th>DayOfWeek</th>\n",
       "      <th>Weekend</th>\n",
       "      <th>Season</th>\n",
       "      <th>HourAMPM</th>\n",
       "      <th>TimeOfDay</th>\n",
       "      <th>FullStreet</th>\n",
       "      <th>lat</th>\n",
       "      <th>lon</th>\n",
       "      <th>neighborhood</th>\n",
       "      <th>zip</th>\n",
       "    </tr>\n",
       "  </thead>\n",
       "  <tbody>\n",
       "    <tr>\n",
       "      <th>0</th>\n",
       "      <td>1</td>\n",
       "      <td>Larceny - Shoplifitng</td>\n",
       "      <td>202500028812</td>\n",
       "      <td>500</td>\n",
       "      <td>W MAIN ST</td>\n",
       "      <td>CPD</td>\n",
       "      <td>1756</td>\n",
       "      <td>Venereo, Arturo</td>\n",
       "      <td>2025-08-14 17:56:26</td>\n",
       "      <td>2025-08-14 05:56:26 PM</td>\n",
       "      <td>Thursday</td>\n",
       "      <td>False</td>\n",
       "      <td>Summer</td>\n",
       "      <td>05:56 PM</td>\n",
       "      <td>Evening</td>\n",
       "      <td>500 W MAIN ST</td>\n",
       "      <td>38.030793</td>\n",
       "      <td>-78.487912</td>\n",
       "      <td>Starr Hill</td>\n",
       "      <td>22903</td>\n",
       "    </tr>\n",
       "    <tr>\n",
       "      <th>1</th>\n",
       "      <td>2</td>\n",
       "      <td>Hit and Run</td>\n",
       "      <td>202500028809</td>\n",
       "      <td></td>\n",
       "      <td>HARRIS ST @ PRESTON AVE</td>\n",
       "      <td>CPD</td>\n",
       "      <td>1730</td>\n",
       "      <td>Rigsby, Lloyd</td>\n",
       "      <td>2025-08-14 17:30:12</td>\n",
       "      <td>2025-08-14 05:30:12 PM</td>\n",
       "      <td>Thursday</td>\n",
       "      <td>False</td>\n",
       "      <td>Summer</td>\n",
       "      <td>05:30 PM</td>\n",
       "      <td>Evening</td>\n",
       "      <td>HARRIS ST @ PRESTON AVE</td>\n",
       "      <td>38.035120</td>\n",
       "      <td>-78.485555</td>\n",
       "      <td>North Downtown</td>\n",
       "      <td>22903</td>\n",
       "    </tr>\n",
       "    <tr>\n",
       "      <th>2</th>\n",
       "      <td>3</td>\n",
       "      <td>Larceny - Of Veh Parts/Access</td>\n",
       "      <td>202500028796</td>\n",
       "      <td>900</td>\n",
       "      <td>CHARLTON AVE</td>\n",
       "      <td>CPD</td>\n",
       "      <td>1603</td>\n",
       "      <td>Abdelgayed, Adam</td>\n",
       "      <td>2025-08-14 16:03:21</td>\n",
       "      <td>2025-08-14 04:03:21 PM</td>\n",
       "      <td>Thursday</td>\n",
       "      <td>False</td>\n",
       "      <td>Summer</td>\n",
       "      <td>04:03 PM</td>\n",
       "      <td>Afternoon</td>\n",
       "      <td>900 CHARLTON AVE</td>\n",
       "      <td>38.038284</td>\n",
       "      <td>-78.487238</td>\n",
       "      <td>Rose Hill</td>\n",
       "      <td>22903</td>\n",
       "    </tr>\n",
       "    <tr>\n",
       "      <th>3</th>\n",
       "      <td>4</td>\n",
       "      <td>Stalking</td>\n",
       "      <td>202500028788</td>\n",
       "      <td>400</td>\n",
       "      <td>13TH ST NW, D</td>\n",
       "      <td>CPD</td>\n",
       "      <td>1515</td>\n",
       "      <td>Abdelgayed, Adam</td>\n",
       "      <td>2025-08-14 15:15:22</td>\n",
       "      <td>2025-08-14 03:15:22 PM</td>\n",
       "      <td>Thursday</td>\n",
       "      <td>False</td>\n",
       "      <td>Summer</td>\n",
       "      <td>03:15 PM</td>\n",
       "      <td>Afternoon</td>\n",
       "      <td>400 13TH ST NW, D</td>\n",
       "      <td>NaN</td>\n",
       "      <td>NaN</td>\n",
       "      <td>N/A</td>\n",
       "      <td>N/A</td>\n",
       "    </tr>\n",
       "    <tr>\n",
       "      <th>4</th>\n",
       "      <td>5</td>\n",
       "      <td>Driving Under the Influence</td>\n",
       "      <td>202500028786</td>\n",
       "      <td></td>\n",
       "      <td>AVON ST @ MONTICELLO AVE</td>\n",
       "      <td>CPD</td>\n",
       "      <td>1503</td>\n",
       "      <td>Reed, Danielle</td>\n",
       "      <td>2025-08-14 15:03:17</td>\n",
       "      <td>2025-08-14 03:03:17 PM</td>\n",
       "      <td>Thursday</td>\n",
       "      <td>False</td>\n",
       "      <td>Summer</td>\n",
       "      <td>03:03 PM</td>\n",
       "      <td>Afternoon</td>\n",
       "      <td>AVON ST @ MONTICELLO AVE</td>\n",
       "      <td>38.024386</td>\n",
       "      <td>-78.479117</td>\n",
       "      <td>Belmont</td>\n",
       "      <td>22903</td>\n",
       "    </tr>\n",
       "  </tbody>\n",
       "</table>\n",
       "</div>"
      ],
      "text/plain": [
       "   RecordID                        Offense    IncidentID BlockNumber  \\\n",
       "0         1          Larceny - Shoplifitng  202500028812         500   \n",
       "1         2                    Hit and Run  202500028809               \n",
       "2         3  Larceny - Of Veh Parts/Access  202500028796         900   \n",
       "3         4                       Stalking  202500028788         400   \n",
       "4         5    Driving Under the Influence  202500028786               \n",
       "\n",
       "                 StreetName Agency HourReported  ReportingOfficer  \\\n",
       "0                 W MAIN ST    CPD         1756   Venereo, Arturo   \n",
       "1   HARRIS ST @ PRESTON AVE    CPD         1730     Rigsby, Lloyd   \n",
       "2              CHARLTON AVE    CPD         1603  Abdelgayed, Adam   \n",
       "3             13TH ST NW, D    CPD         1515  Abdelgayed, Adam   \n",
       "4  AVON ST @ MONTICELLO AVE    CPD         1503    Reed, Danielle   \n",
       "\n",
       "                 Date              DateString DayOfWeek  Weekend  Season  \\\n",
       "0 2025-08-14 17:56:26  2025-08-14 05:56:26 PM  Thursday    False  Summer   \n",
       "1 2025-08-14 17:30:12  2025-08-14 05:30:12 PM  Thursday    False  Summer   \n",
       "2 2025-08-14 16:03:21  2025-08-14 04:03:21 PM  Thursday    False  Summer   \n",
       "3 2025-08-14 15:15:22  2025-08-14 03:15:22 PM  Thursday    False  Summer   \n",
       "4 2025-08-14 15:03:17  2025-08-14 03:03:17 PM  Thursday    False  Summer   \n",
       "\n",
       "   HourAMPM  TimeOfDay                 FullStreet        lat        lon  \\\n",
       "0  05:56 PM    Evening              500 W MAIN ST  38.030793 -78.487912   \n",
       "1  05:30 PM    Evening    HARRIS ST @ PRESTON AVE  38.035120 -78.485555   \n",
       "2  04:03 PM  Afternoon           900 CHARLTON AVE  38.038284 -78.487238   \n",
       "3  03:15 PM  Afternoon          400 13TH ST NW, D        NaN        NaN   \n",
       "4  03:03 PM  Afternoon   AVON ST @ MONTICELLO AVE  38.024386 -78.479117   \n",
       "\n",
       "     neighborhood    zip  \n",
       "0      Starr Hill  22903  \n",
       "1  North Downtown  22903  \n",
       "2       Rose Hill  22903  \n",
       "3             N/A    N/A  \n",
       "4         Belmont  22903  "
      ]
     },
     "execution_count": 11,
     "metadata": {},
     "output_type": "execute_result"
    }
   ],
   "source": [
    "# Initialize the geocoder.\n",
    "geolocator = Nominatim(user_agent=\"zip_lookup\")\n",
    "\n",
    "# Try to load a persistent ZIP cache if available.\n",
    "try:\n",
    "    with open(\"zip_cache.pkl\", \"rb\") as f:\n",
    "        zip_cache = pickle.load(f)\n",
    "    print(\"Loaded zip cache.\")\n",
    "except FileNotFoundError:\n",
    "    zip_cache = {}\n",
    "    print(\"No zip cache found; starting fresh.\")\n",
    "\n",
    "def get_zip(lat, lon):\n",
    "    \"\"\"\n",
    "    Reverse geocodes a latitude and longitude to retrieve the ZIP code.\n",
    "    Caches results to speed up subsequent lookups.\n",
    "    \"\"\"\n",
    "    key = (lat, lon)\n",
    "    if key in zip_cache:\n",
    "        return zip_cache[key]\n",
    "    \n",
    "    try:\n",
    "        location = geolocator.reverse((lat, lon), exactly_one=True, timeout=10)\n",
    "        address = location.raw.get('address', {})\n",
    "        postal_code = address.get('postcode', \"N/A\")\n",
    "    except Exception as e:\n",
    "        print(f\"Error getting ZIP for {lat}, {lon}: {e}\")\n",
    "        postal_code = \"N/A\"\n",
    "    \n",
    "    zip_cache[key] = postal_code\n",
    "    # Pause to respect the usage policy.\n",
    "    time.sleep(1)\n",
    "    return postal_code\n",
    "\n",
    "# Apply the function to each row in the DataFrame.\n",
    "df['zip'] = df.apply(lambda row: get_zip(row['lat'], row['lon']), axis=1)\n",
    "\n",
    "# Save the updated ZIP cache.\n",
    "with open(\"zip_cache.pkl\", \"wb\") as f:\n",
    "    pickle.dump(zip_cache, f)\n",
    "\n",
    "df.head()\n"
   ]
  },
  {
   "cell_type": "code",
   "execution_count": 12,
   "id": "35583a7c",
   "metadata": {
    "execution": {
     "iopub.execute_input": "2025-08-17T01:13:34.090720Z",
     "iopub.status.busy": "2025-08-17T01:13:34.090515Z",
     "iopub.status.idle": "2025-08-17T01:13:34.117803Z",
     "shell.execute_reply": "2025-08-17T01:13:34.117253Z"
    },
    "papermill": {
     "duration": 0.038287,
     "end_time": "2025-08-17T01:13:34.118781",
     "exception": false,
     "start_time": "2025-08-17T01:13:34.080494",
     "status": "completed"
    },
    "tags": []
   },
   "outputs": [
    {
     "name": "stdout",
     "output_type": "stream",
     "text": [
      "                  MissingCount  MissingPercentage\n",
      "RecordID                     0               0.00\n",
      "Offense                      0               0.00\n",
      "IncidentID                   0               0.00\n",
      "BlockNumber                  0               0.00\n",
      "StreetName                   0               0.00\n",
      "Agency                       0               0.00\n",
      "HourReported                 0               0.00\n",
      "ReportingOfficer            15               0.06\n",
      "Date                         0               0.00\n",
      "DateString                   0               0.00\n",
      "DayOfWeek                    0               0.00\n",
      "Weekend                      0               0.00\n",
      "Season                       0               0.00\n",
      "HourAMPM                     0               0.00\n",
      "TimeOfDay                    0               0.00\n",
      "FullStreet                   0               0.00\n",
      "lat                        103               0.40\n",
      "lon                        103               0.40\n",
      "neighborhood                 0               0.00\n",
      "zip                          0               0.00\n"
     ]
    }
   ],
   "source": [
    "missing_info = missing_percentage(df)\n",
    "print(missing_info)\n"
   ]
  },
  {
   "cell_type": "code",
   "execution_count": 13,
   "id": "0c83119f",
   "metadata": {
    "execution": {
     "iopub.execute_input": "2025-08-17T01:13:34.139208Z",
     "iopub.status.busy": "2025-08-17T01:13:34.138985Z",
     "iopub.status.idle": "2025-08-17T01:13:34.165381Z",
     "shell.execute_reply": "2025-08-17T01:13:34.164844Z"
    },
    "papermill": {
     "duration": 0.037678,
     "end_time": "2025-08-17T01:13:34.166397",
     "exception": false,
     "start_time": "2025-08-17T01:13:34.128719",
     "status": "completed"
    },
    "tags": []
   },
   "outputs": [
    {
     "name": "stdout",
     "output_type": "stream",
     "text": [
      "<class 'pandas.core.frame.DataFrame'>\n",
      "RangeIndex: 25657 entries, 0 to 25656\n",
      "Data columns (total 20 columns):\n",
      " #   Column            Non-Null Count  Dtype         \n",
      "---  ------            --------------  -----         \n",
      " 0   RecordID          25657 non-null  int64         \n",
      " 1   Offense           25657 non-null  object        \n",
      " 2   IncidentID        25657 non-null  object        \n",
      " 3   BlockNumber       25657 non-null  object        \n",
      " 4   StreetName        25657 non-null  object        \n",
      " 5   Agency            25657 non-null  object        \n",
      " 6   HourReported      25657 non-null  object        \n",
      " 7   ReportingOfficer  25642 non-null  object        \n",
      " 8   Date              25657 non-null  datetime64[ns]\n",
      " 9   DateString        25657 non-null  object        \n",
      " 10  DayOfWeek         25657 non-null  object        \n",
      " 11  Weekend           25657 non-null  bool          \n",
      " 12  Season            25657 non-null  object        \n",
      " 13  HourAMPM          25657 non-null  object        \n",
      " 14  TimeOfDay         25657 non-null  object        \n",
      " 15  FullStreet        25657 non-null  object        \n",
      " 16  lat               25554 non-null  float64       \n",
      " 17  lon               25554 non-null  float64       \n",
      " 18  neighborhood      25657 non-null  object        \n",
      " 19  zip               25657 non-null  object        \n",
      "dtypes: bool(1), datetime64[ns](1), float64(2), int64(1), object(15)\n",
      "memory usage: 3.7+ MB\n"
     ]
    }
   ],
   "source": [
    "df.info()"
   ]
  },
  {
   "cell_type": "code",
   "execution_count": 14,
   "id": "3ee98d59",
   "metadata": {
    "execution": {
     "iopub.execute_input": "2025-08-17T01:13:34.186803Z",
     "iopub.status.busy": "2025-08-17T01:13:34.186617Z",
     "iopub.status.idle": "2025-08-17T01:13:34.228983Z",
     "shell.execute_reply": "2025-08-17T01:13:34.228409Z"
    },
    "papermill": {
     "duration": 0.053708,
     "end_time": "2025-08-17T01:13:34.230059",
     "exception": false,
     "start_time": "2025-08-17T01:13:34.176351",
     "status": "completed"
    },
    "tags": []
   },
   "outputs": [
    {
     "data": {
      "text/html": [
       "<div>\n",
       "<style scoped>\n",
       "    .dataframe tbody tr th:only-of-type {\n",
       "        vertical-align: middle;\n",
       "    }\n",
       "\n",
       "    .dataframe tbody tr th {\n",
       "        vertical-align: top;\n",
       "    }\n",
       "\n",
       "    .dataframe thead th {\n",
       "        text-align: right;\n",
       "    }\n",
       "</style>\n",
       "<table border=\"1\" class=\"dataframe\">\n",
       "  <thead>\n",
       "    <tr style=\"text-align: right;\">\n",
       "      <th></th>\n",
       "      <th>RecordID</th>\n",
       "      <th>Offense</th>\n",
       "      <th>IncidentID</th>\n",
       "      <th>Agency</th>\n",
       "      <th>ReportingOfficer</th>\n",
       "      <th>Date</th>\n",
       "      <th>DayOfWeek</th>\n",
       "      <th>Weekend</th>\n",
       "      <th>Season</th>\n",
       "      <th>TimeOfDay</th>\n",
       "      <th>FullStreet</th>\n",
       "      <th>lat</th>\n",
       "      <th>lon</th>\n",
       "      <th>neighborhood</th>\n",
       "      <th>zip</th>\n",
       "    </tr>\n",
       "  </thead>\n",
       "  <tbody>\n",
       "    <tr>\n",
       "      <th>0</th>\n",
       "      <td>1</td>\n",
       "      <td>Larceny - Shoplifitng</td>\n",
       "      <td>202500028812</td>\n",
       "      <td>CPD</td>\n",
       "      <td>Venereo, Arturo</td>\n",
       "      <td>2025-08-14 17:56:26</td>\n",
       "      <td>Thursday</td>\n",
       "      <td>False</td>\n",
       "      <td>Summer</td>\n",
       "      <td>Evening</td>\n",
       "      <td>500 W MAIN ST</td>\n",
       "      <td>38.030793</td>\n",
       "      <td>-78.487912</td>\n",
       "      <td>Starr Hill</td>\n",
       "      <td>22903</td>\n",
       "    </tr>\n",
       "    <tr>\n",
       "      <th>1</th>\n",
       "      <td>2</td>\n",
       "      <td>Hit and Run</td>\n",
       "      <td>202500028809</td>\n",
       "      <td>CPD</td>\n",
       "      <td>Rigsby, Lloyd</td>\n",
       "      <td>2025-08-14 17:30:12</td>\n",
       "      <td>Thursday</td>\n",
       "      <td>False</td>\n",
       "      <td>Summer</td>\n",
       "      <td>Evening</td>\n",
       "      <td>HARRIS ST @ PRESTON AVE</td>\n",
       "      <td>38.03512</td>\n",
       "      <td>-78.485555</td>\n",
       "      <td>North Downtown</td>\n",
       "      <td>22903</td>\n",
       "    </tr>\n",
       "    <tr>\n",
       "      <th>2</th>\n",
       "      <td>3</td>\n",
       "      <td>Larceny - Of Veh Parts/Access</td>\n",
       "      <td>202500028796</td>\n",
       "      <td>CPD</td>\n",
       "      <td>Abdelgayed, Adam</td>\n",
       "      <td>2025-08-14 16:03:21</td>\n",
       "      <td>Thursday</td>\n",
       "      <td>False</td>\n",
       "      <td>Summer</td>\n",
       "      <td>Afternoon</td>\n",
       "      <td>900 CHARLTON AVE</td>\n",
       "      <td>38.038284</td>\n",
       "      <td>-78.487238</td>\n",
       "      <td>Rose Hill</td>\n",
       "      <td>22903</td>\n",
       "    </tr>\n",
       "    <tr>\n",
       "      <th>3</th>\n",
       "      <td>4</td>\n",
       "      <td>Stalking</td>\n",
       "      <td>202500028788</td>\n",
       "      <td>CPD</td>\n",
       "      <td>Abdelgayed, Adam</td>\n",
       "      <td>2025-08-14 15:15:22</td>\n",
       "      <td>Thursday</td>\n",
       "      <td>False</td>\n",
       "      <td>Summer</td>\n",
       "      <td>Afternoon</td>\n",
       "      <td>400 13TH ST NW, D</td>\n",
       "      <td>N/A</td>\n",
       "      <td>N/A</td>\n",
       "      <td>N/A</td>\n",
       "      <td>N/A</td>\n",
       "    </tr>\n",
       "    <tr>\n",
       "      <th>4</th>\n",
       "      <td>5</td>\n",
       "      <td>Driving Under the Influence</td>\n",
       "      <td>202500028786</td>\n",
       "      <td>CPD</td>\n",
       "      <td>Reed, Danielle</td>\n",
       "      <td>2025-08-14 15:03:17</td>\n",
       "      <td>Thursday</td>\n",
       "      <td>False</td>\n",
       "      <td>Summer</td>\n",
       "      <td>Afternoon</td>\n",
       "      <td>AVON ST @ MONTICELLO AVE</td>\n",
       "      <td>38.024386</td>\n",
       "      <td>-78.479117</td>\n",
       "      <td>Belmont</td>\n",
       "      <td>22903</td>\n",
       "    </tr>\n",
       "  </tbody>\n",
       "</table>\n",
       "</div>"
      ],
      "text/plain": [
       "   RecordID                        Offense    IncidentID Agency  \\\n",
       "0         1          Larceny - Shoplifitng  202500028812    CPD   \n",
       "1         2                    Hit and Run  202500028809    CPD   \n",
       "2         3  Larceny - Of Veh Parts/Access  202500028796    CPD   \n",
       "3         4                       Stalking  202500028788    CPD   \n",
       "4         5    Driving Under the Influence  202500028786    CPD   \n",
       "\n",
       "   ReportingOfficer                Date DayOfWeek  Weekend  Season  TimeOfDay  \\\n",
       "0   Venereo, Arturo 2025-08-14 17:56:26  Thursday    False  Summer    Evening   \n",
       "1     Rigsby, Lloyd 2025-08-14 17:30:12  Thursday    False  Summer    Evening   \n",
       "2  Abdelgayed, Adam 2025-08-14 16:03:21  Thursday    False  Summer  Afternoon   \n",
       "3  Abdelgayed, Adam 2025-08-14 15:15:22  Thursday    False  Summer  Afternoon   \n",
       "4    Reed, Danielle 2025-08-14 15:03:17  Thursday    False  Summer  Afternoon   \n",
       "\n",
       "                  FullStreet        lat        lon    neighborhood    zip  \n",
       "0              500 W MAIN ST  38.030793 -78.487912      Starr Hill  22903  \n",
       "1    HARRIS ST @ PRESTON AVE   38.03512 -78.485555  North Downtown  22903  \n",
       "2           900 CHARLTON AVE  38.038284 -78.487238       Rose Hill  22903  \n",
       "3          400 13TH ST NW, D        N/A        N/A             N/A    N/A  \n",
       "4   AVON ST @ MONTICELLO AVE  38.024386 -78.479117         Belmont  22903  "
      ]
     },
     "execution_count": 14,
     "metadata": {},
     "output_type": "execute_result"
    }
   ],
   "source": [
    "# Now drop the original BlockNumber and StreetName columns\n",
    "df.drop(columns=['BlockNumber', 'StreetName','HourAMPM','HourReported','DateString'], inplace=True)\n",
    "df[\"zip\"] = df[\"zip\"].astype(str)\n",
    "\n",
    "# Fill all missing values in the DataFrame with \"N/A\"\n",
    "df.replace({None: \"N/A\", np.nan: \"N/A\", \"\": \"N/A\"}, inplace=True)\n",
    "df.head()"
   ]
  },
  {
   "cell_type": "code",
   "execution_count": 15,
   "id": "2d5bc746",
   "metadata": {
    "execution": {
     "iopub.execute_input": "2025-08-17T01:13:34.251253Z",
     "iopub.status.busy": "2025-08-17T01:13:34.250973Z",
     "iopub.status.idle": "2025-08-17T01:13:34.271760Z",
     "shell.execute_reply": "2025-08-17T01:13:34.271039Z"
    },
    "papermill": {
     "duration": 0.032419,
     "end_time": "2025-08-17T01:13:34.272860",
     "exception": false,
     "start_time": "2025-08-17T01:13:34.240441",
     "status": "completed"
    },
    "tags": []
   },
   "outputs": [
    {
     "name": "stdout",
     "output_type": "stream",
     "text": [
      "                  MissingCount  MissingPercentage\n",
      "RecordID                     0                0.0\n",
      "Offense                      0                0.0\n",
      "IncidentID                   0                0.0\n",
      "Agency                       0                0.0\n",
      "ReportingOfficer             0                0.0\n",
      "Date                         0                0.0\n",
      "DayOfWeek                    0                0.0\n",
      "Weekend                      0                0.0\n",
      "Season                       0                0.0\n",
      "TimeOfDay                    0                0.0\n",
      "FullStreet                   0                0.0\n",
      "lat                          0                0.0\n",
      "lon                          0                0.0\n",
      "neighborhood                 0                0.0\n",
      "zip                          0                0.0\n"
     ]
    }
   ],
   "source": [
    "missing_info = missing_percentage(df)\n",
    "print(missing_info)"
   ]
  },
  {
   "cell_type": "code",
   "execution_count": 16,
   "id": "03d5a0ef",
   "metadata": {
    "execution": {
     "iopub.execute_input": "2025-08-17T01:13:34.293915Z",
     "iopub.status.busy": "2025-08-17T01:13:34.293721Z",
     "iopub.status.idle": "2025-08-17T01:13:34.297968Z",
     "shell.execute_reply": "2025-08-17T01:13:34.297452Z"
    },
    "papermill": {
     "duration": 0.015716,
     "end_time": "2025-08-17T01:13:34.298978",
     "exception": false,
     "start_time": "2025-08-17T01:13:34.283262",
     "status": "completed"
    },
    "tags": []
   },
   "outputs": [
    {
     "data": {
      "text/plain": [
       "Index(['RecordID', 'Offense', 'IncidentID', 'Agency', 'ReportingOfficer',\n",
       "       'Date', 'DayOfWeek', 'Weekend', 'Season', 'TimeOfDay', 'FullStreet',\n",
       "       'lat', 'lon', 'neighborhood', 'zip'],\n",
       "      dtype='object')"
      ]
     },
     "execution_count": 16,
     "metadata": {},
     "output_type": "execute_result"
    }
   ],
   "source": [
    "df.columns"
   ]
  },
  {
   "cell_type": "code",
   "execution_count": 17,
   "id": "a2baf018",
   "metadata": {
    "execution": {
     "iopub.execute_input": "2025-08-17T01:13:34.319897Z",
     "iopub.status.busy": "2025-08-17T01:13:34.319685Z",
     "iopub.status.idle": "2025-08-17T01:13:34.340998Z",
     "shell.execute_reply": "2025-08-17T01:13:34.340453Z"
    },
    "papermill": {
     "duration": 0.03293,
     "end_time": "2025-08-17T01:13:34.342015",
     "exception": false,
     "start_time": "2025-08-17T01:13:34.309085",
     "status": "completed"
    },
    "tags": []
   },
   "outputs": [
    {
     "name": "stdout",
     "output_type": "stream",
     "text": [
      "<class 'pandas.core.frame.DataFrame'>\n",
      "RangeIndex: 25657 entries, 0 to 25656\n",
      "Data columns (total 15 columns):\n",
      " #   Column            Non-Null Count  Dtype         \n",
      "---  ------            --------------  -----         \n",
      " 0   RecordID          25657 non-null  int64         \n",
      " 1   Offense           25657 non-null  object        \n",
      " 2   IncidentID        25657 non-null  object        \n",
      " 3   Agency            25657 non-null  object        \n",
      " 4   ReportingOfficer  25657 non-null  object        \n",
      " 5   Date              25657 non-null  datetime64[ns]\n",
      " 6   DayOfWeek         25657 non-null  object        \n",
      " 7   Weekend           25657 non-null  bool          \n",
      " 8   Season            25657 non-null  object        \n",
      " 9   TimeOfDay         25657 non-null  object        \n",
      " 10  FullStreet        25657 non-null  object        \n",
      " 11  lat               25657 non-null  object        \n",
      " 12  lon               25657 non-null  object        \n",
      " 13  neighborhood      25657 non-null  object        \n",
      " 14  zip               25657 non-null  object        \n",
      "dtypes: bool(1), datetime64[ns](1), int64(1), object(12)\n",
      "memory usage: 2.8+ MB\n"
     ]
    }
   ],
   "source": [
    "df.info()"
   ]
  },
  {
   "cell_type": "markdown",
   "id": "2a3fe52c",
   "metadata": {
    "papermill": {
     "duration": 0.010138,
     "end_time": "2025-08-17T01:13:34.362563",
     "exception": false,
     "start_time": "2025-08-17T01:13:34.352425",
     "status": "completed"
    },
    "tags": []
   },
   "source": [
    "### Export Clean Data"
   ]
  },
  {
   "cell_type": "code",
   "execution_count": 18,
   "id": "3a5066c7",
   "metadata": {
    "execution": {
     "iopub.execute_input": "2025-08-17T01:13:34.384001Z",
     "iopub.status.busy": "2025-08-17T01:13:34.383778Z",
     "iopub.status.idle": "2025-08-17T01:13:43.439158Z",
     "shell.execute_reply": "2025-08-17T01:13:43.438457Z"
    },
    "papermill": {
     "duration": 9.067235,
     "end_time": "2025-08-17T01:13:43.440226",
     "exception": false,
     "start_time": "2025-08-17T01:13:34.372991",
     "status": "completed"
    },
    "tags": []
   },
   "outputs": [
    {
     "name": "stdout",
     "output_type": "stream",
     "text": [
      "Project Root: /home/runner/work/crime-data/crime-data\n"
     ]
    },
    {
     "name": "stdout",
     "output_type": "stream",
     "text": [
      "Data saved to: /home/runner/work/crime-data/crime-data/data/charlottesville_crime_incidents.csv\n"
     ]
    },
    {
     "name": "stdout",
     "output_type": "stream",
     "text": [
      "Excel saved to: /home/runner/work/crime-data/crime-data/data/charlottesville_crime_incidents.xlsx\n"
     ]
    }
   ],
   "source": [
    "# Determine the project root (assuming papermill is run from the repository root)\n",
    "project_root = os.getcwd()\n",
    "print(\"Project Root:\", project_root)\n",
    "\n",
    "# Set the data directory within the project root\n",
    "data_dir = os.path.join(project_root, \"data\")\n",
    "\n",
    "# Ensure the \"data\" directory exists (create it if it doesn't)\n",
    "if not os.path.exists(data_dir):\n",
    "    os.makedirs(data_dir)\n",
    "\n",
    "# Export the DataFrame to CSV in the \"data\" folder located in the project root\n",
    "csv_path = os.path.join(data_dir, \"charlottesville_crime_incidents.csv\")\n",
    "df.to_csv(csv_path, index=False)\n",
    "print(\"Data saved to:\", csv_path)\n",
    "\n",
    "# Construct the path to your Excel file\n",
    "excel_path = os.path.join(data_dir, \"charlottesville_crime_incidents.xlsx\")\n",
    "\n",
    "# Export the DataFrame to Excel\n",
    "df.to_excel(excel_path, index=False)\n",
    "print(\"Excel saved to:\", excel_path)\n"
   ]
  }
 ],
 "metadata": {
  "kernelspec": {
   "display_name": "Python 3",
   "language": "python",
   "name": "python3"
  },
  "language_info": {
   "codemirror_mode": {
    "name": "ipython",
    "version": 3
   },
   "file_extension": ".py",
   "mimetype": "text/x-python",
   "name": "python",
   "nbconvert_exporter": "python",
   "pygments_lexer": "ipython3",
   "version": "3.9.23"
  },
  "papermill": {
   "default_parameters": {},
   "duration": 187.84833,
   "end_time": "2025-08-17T01:13:43.866831",
   "environment_variables": {},
   "exception": null,
   "input_path": "notebook/Crime Data.ipynb",
   "output_path": "notebook/Crime Data_output.ipynb",
   "parameters": {},
   "start_time": "2025-08-17T01:10:36.018501",
   "version": "2.6.0"
  }
 },
 "nbformat": 4,
 "nbformat_minor": 5
}