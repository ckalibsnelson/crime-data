{
 "cells": [
  {
   "cell_type": "markdown",
   "id": "311089c8",
   "metadata": {
    "papermill": {
     "duration": 0.004385,
     "end_time": "2025-07-11T01:07:09.972527",
     "exception": false,
     "start_time": "2025-07-11T01:07:09.968142",
     "status": "completed"
    },
    "tags": []
   },
   "source": [
    "# Charlottesville Open Data Porttal: Crime Data"
   ]
  },
  {
   "cell_type": "markdown",
   "id": "9858e1d4",
   "metadata": {
    "papermill": {
     "duration": 0.003291,
     "end_time": "2025-07-11T01:07:09.979522",
     "exception": false,
     "start_time": "2025-07-11T01:07:09.976231",
     "status": "completed"
    },
    "tags": []
   },
   "source": [
    "## Import Relevant Librarires & Set WD"
   ]
  },
  {
   "cell_type": "code",
   "execution_count": 1,
   "id": "0a163e4c",
   "metadata": {
    "execution": {
     "iopub.execute_input": "2025-07-11T01:07:09.987466Z",
     "iopub.status.busy": "2025-07-11T01:07:09.987177Z",
     "iopub.status.idle": "2025-07-11T01:07:10.613533Z",
     "shell.execute_reply": "2025-07-11T01:07:10.612798Z"
    },
    "papermill": {
     "duration": 0.632232,
     "end_time": "2025-07-11T01:07:10.615060",
     "exception": false,
     "start_time": "2025-07-11T01:07:09.982828",
     "status": "completed"
    },
    "tags": []
   },
   "outputs": [],
   "source": [
    "import requests\n",
    "import pandas as pd\n",
    "import numpy as np\n",
    "import pickle\n",
    "import googlemaps\n",
    "import plotly.express as px\n",
    "from geopy.geocoders import Nominatim\n",
    "import time\n",
    "from dotenv import load_dotenv\n",
    "import os\n",
    "\n",
    "env_path = os.path.join(\"..\", \".env\")\n",
    "#print(\"Looking for .env file at:\", os.path.abspath(env_path))\n",
    "load_dotenv(dotenv_path=env_path)\n",
    "\n",
    "# Retrieve the variables\n",
    "GOOGLE_API_KEY = os.getenv(\"GOOGLE_API_KEY\")\n",
    "WORKING_DIR = os.getenv(\"WORKING_DIR\")\n",
    "\n",
    "if GOOGLE_API_KEY is None or WORKING_DIR is None:\n",
    "    raise RuntimeError(\"No configuration found. Please ensure that your .env file exists with the required variables, or create a local config.py file.\")\n",
    "\n",
    "#print(\"Google API Key:\", GOOGLE_API_KEY)\n",
    "#print(\"Working Directory:\", WORKING_DIR)"
   ]
  },
  {
   "cell_type": "markdown",
   "id": "7ea2c3d6",
   "metadata": {
    "papermill": {
     "duration": 0.00327,
     "end_time": "2025-07-11T01:07:10.622028",
     "exception": false,
     "start_time": "2025-07-11T01:07:10.618758",
     "status": "completed"
    },
    "tags": []
   },
   "source": [
    "## Import Data\n",
    "\n",
    "URL: https://opendata.charlottesville.org/datasets/charlottesville::crime-data/about"
   ]
  },
  {
   "cell_type": "code",
   "execution_count": 2,
   "id": "c513c2b2",
   "metadata": {
    "execution": {
     "iopub.execute_input": "2025-07-11T01:07:10.630509Z",
     "iopub.status.busy": "2025-07-11T01:07:10.629781Z",
     "iopub.status.idle": "2025-07-11T01:08:16.815123Z",
     "shell.execute_reply": "2025-07-11T01:08:16.814370Z"
    },
    "papermill": {
     "duration": 66.194034,
     "end_time": "2025-07-11T01:08:16.819555",
     "exception": false,
     "start_time": "2025-07-11T01:07:10.625521",
     "status": "completed"
    },
    "tags": []
   },
   "outputs": [
    {
     "name": "stdout",
     "output_type": "stream",
     "text": [
      "Total records imported: 25512\n"
     ]
    }
   ],
   "source": [
    "# Define the endpoint and initial parameters.\n",
    "url = \"https://gisweb.charlottesville.org/arcgis/rest/services/OpenData_2/MapServer/6/query\"\n",
    "params = {\n",
    "    \"where\": \"1=1\",\n",
    "    \"outFields\": \"*\",\n",
    "    \"outSR\": 4326,\n",
    "    \"f\": \"json\",\n",
    "    \"resultOffset\": 0,       # Starting index for results\n",
    "    \"resultRecordCount\": 10000  # Maximum records per batch (if allowed by the API)\n",
    "}\n",
    "\n",
    "records = []\n",
    "\n",
    "while True:\n",
    "    response = requests.get(url, params=params)\n",
    "    response.raise_for_status()\n",
    "    data = response.json()\n",
    "    \n",
    "    # Get the current batch of features.\n",
    "    features = data.get(\"features\", [])\n",
    "    if not features:\n",
    "        break\n",
    "\n",
    "    # Extract the attributes from the features.\n",
    "    batch_records = [feature.get(\"attributes\", {}) for feature in features]\n",
    "    records.extend(batch_records)\n",
    "    \n",
    "    # If the batch size is less than the requested count, we reached the end.\n",
    "    if len(features) < params[\"resultRecordCount\"]:\n",
    "        break\n",
    "\n",
    "    # Update the resultOffset for the next batch.\n",
    "    params[\"resultOffset\"] += params[\"resultRecordCount\"]\n",
    "\n",
    "# Create a DataFrame from the combined records.\n",
    "df = pd.DataFrame(records)\n",
    "print(\"Total records imported:\", len(df))\n"
   ]
  },
  {
   "cell_type": "code",
   "execution_count": 3,
   "id": "1120f04f",
   "metadata": {
    "execution": {
     "iopub.execute_input": "2025-07-11T01:08:16.827712Z",
     "iopub.status.busy": "2025-07-11T01:08:16.827169Z",
     "iopub.status.idle": "2025-07-11T01:08:16.839735Z",
     "shell.execute_reply": "2025-07-11T01:08:16.839140Z"
    },
    "papermill": {
     "duration": 0.017753,
     "end_time": "2025-07-11T01:08:16.840813",
     "exception": false,
     "start_time": "2025-07-11T01:08:16.823060",
     "status": "completed"
    },
    "tags": []
   },
   "outputs": [
    {
     "data": {
      "text/html": [
       "<div>\n",
       "<style scoped>\n",
       "    .dataframe tbody tr th:only-of-type {\n",
       "        vertical-align: middle;\n",
       "    }\n",
       "\n",
       "    .dataframe tbody tr th {\n",
       "        vertical-align: top;\n",
       "    }\n",
       "\n",
       "    .dataframe thead th {\n",
       "        text-align: right;\n",
       "    }\n",
       "</style>\n",
       "<table border=\"1\" class=\"dataframe\">\n",
       "  <thead>\n",
       "    <tr style=\"text-align: right;\">\n",
       "      <th></th>\n",
       "      <th>RecordID</th>\n",
       "      <th>Offense</th>\n",
       "      <th>IncidentID</th>\n",
       "      <th>BlockNumber</th>\n",
       "      <th>StreetName</th>\n",
       "      <th>Agency</th>\n",
       "      <th>DateReported</th>\n",
       "      <th>HourReported</th>\n",
       "      <th>ReportingOfficer</th>\n",
       "    </tr>\n",
       "  </thead>\n",
       "  <tbody>\n",
       "    <tr>\n",
       "      <th>0</th>\n",
       "      <td>1</td>\n",
       "      <td>Assist Citizen - Mental/TDO/ECO</td>\n",
       "      <td>202500023705</td>\n",
       "      <td>2100</td>\n",
       "      <td>MICHIE DR, 35B</td>\n",
       "      <td>CPD</td>\n",
       "      <td>1752009783000</td>\n",
       "      <td>1723</td>\n",
       "      <td>Crowley, Raeann</td>\n",
       "    </tr>\n",
       "    <tr>\n",
       "      <th>1</th>\n",
       "      <td>2</td>\n",
       "      <td>Shots Fired/Illegal Hunting</td>\n",
       "      <td>202500023699</td>\n",
       "      <td>600</td>\n",
       "      <td>10 1/2 ST NW</td>\n",
       "      <td>CPD</td>\n",
       "      <td>1752007707000</td>\n",
       "      <td>1648</td>\n",
       "      <td>Curry, Brian</td>\n",
       "    </tr>\n",
       "    <tr>\n",
       "      <th>2</th>\n",
       "      <td>3</td>\n",
       "      <td>Sex Offense - Forcible Sodomy</td>\n",
       "      <td>202500023694</td>\n",
       "      <td>200</td>\n",
       "      <td>2ND ST NW</td>\n",
       "      <td>CPD</td>\n",
       "      <td>1752006932000</td>\n",
       "      <td>1635</td>\n",
       "      <td>O'Briant, Landon</td>\n",
       "    </tr>\n",
       "    <tr>\n",
       "      <th>3</th>\n",
       "      <td>4</td>\n",
       "      <td>Vandalism</td>\n",
       "      <td>202500023691</td>\n",
       "      <td>1100</td>\n",
       "      <td>E MARKET ST</td>\n",
       "      <td>CPD</td>\n",
       "      <td>1752006149000</td>\n",
       "      <td>1622</td>\n",
       "      <td>Benbow, Lauren</td>\n",
       "    </tr>\n",
       "    <tr>\n",
       "      <th>4</th>\n",
       "      <td>5</td>\n",
       "      <td>Larceny - Shoplifitng</td>\n",
       "      <td>202500023686</td>\n",
       "      <td>500</td>\n",
       "      <td>W MAIN ST</td>\n",
       "      <td>CPD</td>\n",
       "      <td>1752005553000</td>\n",
       "      <td>1612</td>\n",
       "      <td>Benbow, Lauren</td>\n",
       "    </tr>\n",
       "  </tbody>\n",
       "</table>\n",
       "</div>"
      ],
      "text/plain": [
       "   RecordID                          Offense    IncidentID BlockNumber  \\\n",
       "0         1  Assist Citizen - Mental/TDO/ECO  202500023705        2100   \n",
       "1         2      Shots Fired/Illegal Hunting  202500023699         600   \n",
       "2         3    Sex Offense - Forcible Sodomy  202500023694         200   \n",
       "3         4                        Vandalism  202500023691        1100   \n",
       "4         5            Larceny - Shoplifitng  202500023686         500   \n",
       "\n",
       "       StreetName Agency   DateReported HourReported  ReportingOfficer  \n",
       "0  MICHIE DR, 35B    CPD  1752009783000         1723   Crowley, Raeann  \n",
       "1    10 1/2 ST NW    CPD  1752007707000         1648      Curry, Brian  \n",
       "2       2ND ST NW    CPD  1752006932000         1635  O'Briant, Landon  \n",
       "3     E MARKET ST    CPD  1752006149000         1622    Benbow, Lauren  \n",
       "4       W MAIN ST    CPD  1752005553000         1612    Benbow, Lauren  "
      ]
     },
     "execution_count": 3,
     "metadata": {},
     "output_type": "execute_result"
    }
   ],
   "source": [
    "df.head()"
   ]
  },
  {
   "cell_type": "code",
   "execution_count": 4,
   "id": "50d9e5f8",
   "metadata": {
    "execution": {
     "iopub.execute_input": "2025-07-11T01:08:16.849146Z",
     "iopub.status.busy": "2025-07-11T01:08:16.848814Z",
     "iopub.status.idle": "2025-07-11T01:08:16.853308Z",
     "shell.execute_reply": "2025-07-11T01:08:16.852767Z"
    },
    "papermill": {
     "duration": 0.009795,
     "end_time": "2025-07-11T01:08:16.854366",
     "exception": false,
     "start_time": "2025-07-11T01:08:16.844571",
     "status": "completed"
    },
    "tags": []
   },
   "outputs": [
    {
     "data": {
      "text/plain": [
       "Index(['RecordID', 'Offense', 'IncidentID', 'BlockNumber', 'StreetName',\n",
       "       'Agency', 'DateReported', 'HourReported', 'ReportingOfficer'],\n",
       "      dtype='object')"
      ]
     },
     "execution_count": 4,
     "metadata": {},
     "output_type": "execute_result"
    }
   ],
   "source": [
    "df.columns"
   ]
  },
  {
   "cell_type": "code",
   "execution_count": 5,
   "id": "dd344f4c",
   "metadata": {
    "execution": {
     "iopub.execute_input": "2025-07-11T01:08:16.863459Z",
     "iopub.status.busy": "2025-07-11T01:08:16.863044Z",
     "iopub.status.idle": "2025-07-11T01:08:16.887040Z",
     "shell.execute_reply": "2025-07-11T01:08:16.886461Z"
    },
    "papermill": {
     "duration": 0.029949,
     "end_time": "2025-07-11T01:08:16.888109",
     "exception": false,
     "start_time": "2025-07-11T01:08:16.858160",
     "status": "completed"
    },
    "tags": []
   },
   "outputs": [
    {
     "name": "stdout",
     "output_type": "stream",
     "text": [
      "<class 'pandas.core.frame.DataFrame'>\n",
      "RangeIndex: 25512 entries, 0 to 25511\n",
      "Data columns (total 9 columns):\n",
      " #   Column            Non-Null Count  Dtype \n",
      "---  ------            --------------  ----- \n",
      " 0   RecordID          25512 non-null  int64 \n",
      " 1   Offense           25512 non-null  object\n",
      " 2   IncidentID        25512 non-null  object\n",
      " 3   BlockNumber       25512 non-null  object\n",
      " 4   StreetName        25512 non-null  object\n",
      " 5   Agency            25512 non-null  object\n",
      " 6   DateReported      25512 non-null  int64 \n",
      " 7   HourReported      25512 non-null  object\n",
      " 8   ReportingOfficer  25495 non-null  object\n",
      "dtypes: int64(2), object(7)\n",
      "memory usage: 1.8+ MB\n"
     ]
    }
   ],
   "source": [
    "df.info()"
   ]
  },
  {
   "cell_type": "markdown",
   "id": "5221a1a4",
   "metadata": {
    "papermill": {
     "duration": 0.003677,
     "end_time": "2025-07-11T01:08:16.895759",
     "exception": false,
     "start_time": "2025-07-11T01:08:16.892082",
     "status": "completed"
    },
    "tags": []
   },
   "source": [
    "### Missing Values"
   ]
  },
  {
   "cell_type": "code",
   "execution_count": 6,
   "id": "e7cf6bc6",
   "metadata": {
    "execution": {
     "iopub.execute_input": "2025-07-11T01:08:16.924974Z",
     "iopub.status.busy": "2025-07-11T01:08:16.924438Z",
     "iopub.status.idle": "2025-07-11T01:08:16.949176Z",
     "shell.execute_reply": "2025-07-11T01:08:16.948580Z"
    },
    "papermill": {
     "duration": 0.030311,
     "end_time": "2025-07-11T01:08:16.950196",
     "exception": false,
     "start_time": "2025-07-11T01:08:16.919885",
     "status": "completed"
    },
    "tags": []
   },
   "outputs": [
    {
     "name": "stdout",
     "output_type": "stream",
     "text": [
      "                  MissingCount  MissingPercentage\n",
      "RecordID                     0               0.00\n",
      "Offense                      0               0.00\n",
      "IncidentID                   0               0.00\n",
      "BlockNumber                  0               0.00\n",
      "StreetName                   0               0.00\n",
      "Agency                       0               0.00\n",
      "DateReported                 0               0.00\n",
      "HourReported                 0               0.00\n",
      "ReportingOfficer            17               0.07\n"
     ]
    }
   ],
   "source": [
    "def missing_percentage(df):\n",
    "    \"\"\"\n",
    "    Returns a DataFrame with the count and percentage of missing values for each column.\n",
    "    \n",
    "    Parameters:\n",
    "        df (pd.DataFrame): The input DataFrame.\n",
    "    \n",
    "    Returns:\n",
    "        pd.DataFrame: A DataFrame with columns 'MissingCount' and 'MissingPercentage'.\n",
    "    \"\"\"\n",
    "    total_rows = len(df)\n",
    "    missing_count = df.isnull().sum()\n",
    "    missing_percent = (missing_count / total_rows) * 100\n",
    "    \n",
    "    result = pd.DataFrame({\n",
    "        'MissingCount': missing_count,\n",
    "        'MissingPercentage': missing_percent.round(2)\n",
    "    })\n",
    "    \n",
    "    return result\n",
    "\n",
    "# Example usage:\n",
    "missing_info = missing_percentage(df)\n",
    "print(missing_info)\n"
   ]
  },
  {
   "cell_type": "markdown",
   "id": "81b2d200",
   "metadata": {
    "papermill": {
     "duration": 0.003855,
     "end_time": "2025-07-11T01:08:16.958087",
     "exception": false,
     "start_time": "2025-07-11T01:08:16.954232",
     "status": "completed"
    },
    "tags": []
   },
   "source": [
    "## Data Preparation"
   ]
  },
  {
   "cell_type": "markdown",
   "id": "85694004",
   "metadata": {
    "papermill": {
     "duration": 0.003726,
     "end_time": "2025-07-11T01:08:16.965573",
     "exception": false,
     "start_time": "2025-07-11T01:08:16.961847",
     "status": "completed"
    },
    "tags": []
   },
   "source": [
    "### Data Conversion"
   ]
  },
  {
   "cell_type": "code",
   "execution_count": 7,
   "id": "4665fd92",
   "metadata": {
    "execution": {
     "iopub.execute_input": "2025-07-11T01:08:16.974280Z",
     "iopub.status.busy": "2025-07-11T01:08:16.973888Z",
     "iopub.status.idle": "2025-07-11T01:08:17.331244Z",
     "shell.execute_reply": "2025-07-11T01:08:17.330531Z"
    },
    "papermill": {
     "duration": 0.362871,
     "end_time": "2025-07-11T01:08:17.332363",
     "exception": false,
     "start_time": "2025-07-11T01:08:16.969492",
     "status": "completed"
    },
    "tags": []
   },
   "outputs": [
    {
     "data": {
      "text/html": [
       "<div>\n",
       "<style scoped>\n",
       "    .dataframe tbody tr th:only-of-type {\n",
       "        vertical-align: middle;\n",
       "    }\n",
       "\n",
       "    .dataframe tbody tr th {\n",
       "        vertical-align: top;\n",
       "    }\n",
       "\n",
       "    .dataframe thead th {\n",
       "        text-align: right;\n",
       "    }\n",
       "</style>\n",
       "<table border=\"1\" class=\"dataframe\">\n",
       "  <thead>\n",
       "    <tr style=\"text-align: right;\">\n",
       "      <th></th>\n",
       "      <th>RecordID</th>\n",
       "      <th>Offense</th>\n",
       "      <th>IncidentID</th>\n",
       "      <th>BlockNumber</th>\n",
       "      <th>StreetName</th>\n",
       "      <th>Agency</th>\n",
       "      <th>HourReported</th>\n",
       "      <th>ReportingOfficer</th>\n",
       "      <th>Date</th>\n",
       "      <th>DateString</th>\n",
       "      <th>DayOfWeek</th>\n",
       "      <th>Weekend</th>\n",
       "      <th>Season</th>\n",
       "      <th>HourAMPM</th>\n",
       "      <th>TimeOfDay</th>\n",
       "    </tr>\n",
       "  </thead>\n",
       "  <tbody>\n",
       "    <tr>\n",
       "      <th>0</th>\n",
       "      <td>1</td>\n",
       "      <td>Assist Citizen - Mental/TDO/ECO</td>\n",
       "      <td>202500023705</td>\n",
       "      <td>2100</td>\n",
       "      <td>MICHIE DR, 35B</td>\n",
       "      <td>CPD</td>\n",
       "      <td>1723</td>\n",
       "      <td>Crowley, Raeann</td>\n",
       "      <td>2025-07-08 17:23:03</td>\n",
       "      <td>2025-07-08 05:23:03 PM</td>\n",
       "      <td>Tuesday</td>\n",
       "      <td>False</td>\n",
       "      <td>Summer</td>\n",
       "      <td>05:23 PM</td>\n",
       "      <td>Evening</td>\n",
       "    </tr>\n",
       "    <tr>\n",
       "      <th>1</th>\n",
       "      <td>2</td>\n",
       "      <td>Shots Fired/Illegal Hunting</td>\n",
       "      <td>202500023699</td>\n",
       "      <td>600</td>\n",
       "      <td>10 1/2 ST NW</td>\n",
       "      <td>CPD</td>\n",
       "      <td>1648</td>\n",
       "      <td>Curry, Brian</td>\n",
       "      <td>2025-07-08 16:48:27</td>\n",
       "      <td>2025-07-08 04:48:27 PM</td>\n",
       "      <td>Tuesday</td>\n",
       "      <td>False</td>\n",
       "      <td>Summer</td>\n",
       "      <td>04:48 PM</td>\n",
       "      <td>Afternoon</td>\n",
       "    </tr>\n",
       "    <tr>\n",
       "      <th>2</th>\n",
       "      <td>3</td>\n",
       "      <td>Sex Offense - Forcible Sodomy</td>\n",
       "      <td>202500023694</td>\n",
       "      <td>200</td>\n",
       "      <td>2ND ST NW</td>\n",
       "      <td>CPD</td>\n",
       "      <td>1635</td>\n",
       "      <td>O'Briant, Landon</td>\n",
       "      <td>2025-07-08 16:35:32</td>\n",
       "      <td>2025-07-08 04:35:32 PM</td>\n",
       "      <td>Tuesday</td>\n",
       "      <td>False</td>\n",
       "      <td>Summer</td>\n",
       "      <td>04:35 PM</td>\n",
       "      <td>Afternoon</td>\n",
       "    </tr>\n",
       "    <tr>\n",
       "      <th>3</th>\n",
       "      <td>4</td>\n",
       "      <td>Vandalism</td>\n",
       "      <td>202500023691</td>\n",
       "      <td>1100</td>\n",
       "      <td>E MARKET ST</td>\n",
       "      <td>CPD</td>\n",
       "      <td>1622</td>\n",
       "      <td>Benbow, Lauren</td>\n",
       "      <td>2025-07-08 16:22:29</td>\n",
       "      <td>2025-07-08 04:22:29 PM</td>\n",
       "      <td>Tuesday</td>\n",
       "      <td>False</td>\n",
       "      <td>Summer</td>\n",
       "      <td>04:22 PM</td>\n",
       "      <td>Afternoon</td>\n",
       "    </tr>\n",
       "    <tr>\n",
       "      <th>4</th>\n",
       "      <td>5</td>\n",
       "      <td>Larceny - Shoplifitng</td>\n",
       "      <td>202500023686</td>\n",
       "      <td>500</td>\n",
       "      <td>W MAIN ST</td>\n",
       "      <td>CPD</td>\n",
       "      <td>1612</td>\n",
       "      <td>Benbow, Lauren</td>\n",
       "      <td>2025-07-08 16:12:33</td>\n",
       "      <td>2025-07-08 04:12:33 PM</td>\n",
       "      <td>Tuesday</td>\n",
       "      <td>False</td>\n",
       "      <td>Summer</td>\n",
       "      <td>04:12 PM</td>\n",
       "      <td>Afternoon</td>\n",
       "    </tr>\n",
       "  </tbody>\n",
       "</table>\n",
       "</div>"
      ],
      "text/plain": [
       "   RecordID                          Offense    IncidentID BlockNumber  \\\n",
       "0         1  Assist Citizen - Mental/TDO/ECO  202500023705        2100   \n",
       "1         2      Shots Fired/Illegal Hunting  202500023699         600   \n",
       "2         3    Sex Offense - Forcible Sodomy  202500023694         200   \n",
       "3         4                        Vandalism  202500023691        1100   \n",
       "4         5            Larceny - Shoplifitng  202500023686         500   \n",
       "\n",
       "       StreetName Agency HourReported  ReportingOfficer                Date  \\\n",
       "0  MICHIE DR, 35B    CPD         1723   Crowley, Raeann 2025-07-08 17:23:03   \n",
       "1    10 1/2 ST NW    CPD         1648      Curry, Brian 2025-07-08 16:48:27   \n",
       "2       2ND ST NW    CPD         1635  O'Briant, Landon 2025-07-08 16:35:32   \n",
       "3     E MARKET ST    CPD         1622    Benbow, Lauren 2025-07-08 16:22:29   \n",
       "4       W MAIN ST    CPD         1612    Benbow, Lauren 2025-07-08 16:12:33   \n",
       "\n",
       "               DateString DayOfWeek  Weekend  Season  HourAMPM  TimeOfDay  \n",
       "0  2025-07-08 05:23:03 PM   Tuesday    False  Summer  05:23 PM    Evening  \n",
       "1  2025-07-08 04:48:27 PM   Tuesday    False  Summer  04:48 PM  Afternoon  \n",
       "2  2025-07-08 04:35:32 PM   Tuesday    False  Summer  04:35 PM  Afternoon  \n",
       "3  2025-07-08 04:22:29 PM   Tuesday    False  Summer  04:22 PM  Afternoon  \n",
       "4  2025-07-08 04:12:33 PM   Tuesday    False  Summer  04:12 PM  Afternoon  "
      ]
     },
     "execution_count": 7,
     "metadata": {},
     "output_type": "execute_result"
    }
   ],
   "source": [
    "def convert_and_categorize_datereported(df, col='DateReported'):\n",
    "    \"\"\"\n",
    "    Converts an epoch (in milliseconds) date column into a timezone-aware datetime,\n",
    "    converts it to Eastern Time, and then creates columns for day-of-week, weekend flag,\n",
    "    season, 12-hour formatted time, and time-of-day. Keeps both a real datetime column\n",
    "    (Date) and a string representation (DateString).\n",
    "    \"\"\"\n",
    "    import pandas as pd\n",
    "\n",
    "    # Convert the epoch timestamp to a pandas datetime object as UTC, then convert to US/Eastern.\n",
    "    df[\"DateReported_dt\"] = (\n",
    "        pd.to_datetime(df[col], unit=\"ms\", errors=\"coerce\", utc=True)\n",
    "        .dt.tz_convert(\"US/Eastern\")\n",
    "    )\n",
    "    \n",
    "    # Create a true datetime column (remove timezone if you prefer naive datetime)\n",
    "    df[\"Date\"] = df[\"DateReported_dt\"].dt.tz_localize(None)\n",
    "\n",
    "    # Optionally, create a separate string-formatted column\n",
    "    df[\"DateString\"] = df[\"DateReported_dt\"].dt.strftime(\"%Y-%m-%d %I:%M:%S %p\")\n",
    "    \n",
    "    # DayOfWeek\n",
    "    df[\"DayOfWeek\"] = df[\"DateReported_dt\"].dt.day_name()\n",
    "    \n",
    "    # Weekend\n",
    "    df[\"Weekend\"] = df[\"DayOfWeek\"].isin([\"Saturday\", \"Sunday\"])\n",
    "    \n",
    "    # Helper function to determine the season\n",
    "    def get_season(dt):\n",
    "        month = dt.month\n",
    "        day = dt.day\n",
    "        # Approximate Northern Hemisphere season boundaries:\n",
    "        if (month == 12 and day >= 21) or (month < 3) or (month == 3 and day < 20):\n",
    "            return \"Winter\"\n",
    "        elif (month == 3 and day >= 20) or (month < 6) or (month == 6 and day < 21):\n",
    "            return \"Spring\"\n",
    "        elif (month == 6 and day >= 21) or (month < 9) or (month == 9 and day < 22):\n",
    "            return \"Summer\"\n",
    "        else:\n",
    "            return \"Autumn\"\n",
    "    \n",
    "    df[\"Season\"] = df[\"DateReported_dt\"].apply(get_season)\n",
    "    \n",
    "    # 12-hour formatted time (HourAMPM)\n",
    "    df[\"HourAMPM\"] = df[\"DateReported_dt\"].dt.strftime(\"%I:%M %p\")\n",
    "    \n",
    "    # Extract hour (0-23) for time-of-day\n",
    "    df[\"HourValue\"] = df[\"DateReported_dt\"].dt.hour\n",
    "    \n",
    "    def time_of_day(hour):\n",
    "        if pd.isnull(hour):\n",
    "            return None\n",
    "        if 5 <= hour < 12:\n",
    "            return \"Morning\"\n",
    "        elif 12 <= hour < 17:\n",
    "            return \"Afternoon\"\n",
    "        elif 17 <= hour < 21:\n",
    "            return \"Evening\"\n",
    "        else:\n",
    "            return \"Night\"\n",
    "    \n",
    "    df[\"TimeOfDay\"] = df[\"HourValue\"].apply(time_of_day)\n",
    "    \n",
    "    # Drop columns you no longer need\n",
    "    df.drop(columns=[col, \"DateReported_dt\", \"HourValue\"], inplace=True)\n",
    "    \n",
    "    return df\n",
    "\n",
    "# Example usage:\n",
    "df = convert_and_categorize_datereported(df)\n",
    "df.head()\n"
   ]
  },
  {
   "cell_type": "code",
   "execution_count": 8,
   "id": "2e8fa906",
   "metadata": {
    "execution": {
     "iopub.execute_input": "2025-07-11T01:08:17.341695Z",
     "iopub.status.busy": "2025-07-11T01:08:17.341470Z",
     "iopub.status.idle": "2025-07-11T01:08:17.369586Z",
     "shell.execute_reply": "2025-07-11T01:08:17.368997Z"
    },
    "papermill": {
     "duration": 0.033918,
     "end_time": "2025-07-11T01:08:17.370662",
     "exception": false,
     "start_time": "2025-07-11T01:08:17.336744",
     "status": "completed"
    },
    "tags": []
   },
   "outputs": [
    {
     "name": "stdout",
     "output_type": "stream",
     "text": [
      "<class 'pandas.core.frame.DataFrame'>\n",
      "RangeIndex: 25512 entries, 0 to 25511\n",
      "Data columns (total 15 columns):\n",
      " #   Column            Non-Null Count  Dtype         \n",
      "---  ------            --------------  -----         \n",
      " 0   RecordID          25512 non-null  int64         \n",
      " 1   Offense           25512 non-null  object        \n",
      " 2   IncidentID        25512 non-null  object        \n",
      " 3   BlockNumber       25512 non-null  object        \n",
      " 4   StreetName        25512 non-null  object        \n",
      " 5   Agency            25512 non-null  object        \n",
      " 6   HourReported      25512 non-null  object        \n",
      " 7   ReportingOfficer  25495 non-null  object        \n",
      " 8   Date              25512 non-null  datetime64[ns]\n",
      " 9   DateString        25512 non-null  object        \n",
      " 10  DayOfWeek         25512 non-null  object        \n",
      " 11  Weekend           25512 non-null  bool          \n",
      " 12  Season            25512 non-null  object        \n",
      " 13  HourAMPM          25512 non-null  object        \n",
      " 14  TimeOfDay         25512 non-null  object        \n",
      "dtypes: bool(1), datetime64[ns](1), int64(1), object(12)\n",
      "memory usage: 2.7+ MB\n"
     ]
    }
   ],
   "source": [
    "df.info()"
   ]
  },
  {
   "cell_type": "markdown",
   "id": "0517f2a4",
   "metadata": {
    "papermill": {
     "duration": 0.00413,
     "end_time": "2025-07-11T01:08:17.379136",
     "exception": false,
     "start_time": "2025-07-11T01:08:17.375006",
     "status": "completed"
    },
    "tags": []
   },
   "source": [
    "### Coordinates"
   ]
  },
  {
   "cell_type": "code",
   "execution_count": 9,
   "id": "4e6ac6d0",
   "metadata": {
    "execution": {
     "iopub.execute_input": "2025-07-11T01:08:17.389003Z",
     "iopub.status.busy": "2025-07-11T01:08:17.388499Z",
     "iopub.status.idle": "2025-07-11T01:08:17.502524Z",
     "shell.execute_reply": "2025-07-11T01:08:17.501917Z"
    },
    "papermill": {
     "duration": 0.120166,
     "end_time": "2025-07-11T01:08:17.503575",
     "exception": false,
     "start_time": "2025-07-11T01:08:17.383409",
     "status": "completed"
    },
    "tags": []
   },
   "outputs": [
    {
     "name": "stdout",
     "output_type": "stream",
     "text": [
      "Loaded geocode cache.\n",
      "Error geocoding 700 MONTICELLO AVE, C: REQUEST_DENIED (You must enable Billing on the Google Cloud Project at https://console.cloud.google.com/project/_/billing/enable Learn more at https://developers.google.com/maps/gmp-get-started)\n",
      "Geocoded 700 MONTICELLO AVE, C: None, None\n",
      "Geocode cache updated and saved.\n"
     ]
    },
    {
     "data": {
      "text/html": [
       "<div>\n",
       "<style scoped>\n",
       "    .dataframe tbody tr th:only-of-type {\n",
       "        vertical-align: middle;\n",
       "    }\n",
       "\n",
       "    .dataframe tbody tr th {\n",
       "        vertical-align: top;\n",
       "    }\n",
       "\n",
       "    .dataframe thead th {\n",
       "        text-align: right;\n",
       "    }\n",
       "</style>\n",
       "<table border=\"1\" class=\"dataframe\">\n",
       "  <thead>\n",
       "    <tr style=\"text-align: right;\">\n",
       "      <th></th>\n",
       "      <th>RecordID</th>\n",
       "      <th>Offense</th>\n",
       "      <th>IncidentID</th>\n",
       "      <th>BlockNumber</th>\n",
       "      <th>StreetName</th>\n",
       "      <th>Agency</th>\n",
       "      <th>HourReported</th>\n",
       "      <th>ReportingOfficer</th>\n",
       "      <th>Date</th>\n",
       "      <th>DateString</th>\n",
       "      <th>DayOfWeek</th>\n",
       "      <th>Weekend</th>\n",
       "      <th>Season</th>\n",
       "      <th>HourAMPM</th>\n",
       "      <th>TimeOfDay</th>\n",
       "      <th>FullStreet</th>\n",
       "      <th>lat</th>\n",
       "      <th>lon</th>\n",
       "    </tr>\n",
       "  </thead>\n",
       "  <tbody>\n",
       "    <tr>\n",
       "      <th>0</th>\n",
       "      <td>1</td>\n",
       "      <td>Assist Citizen - Mental/TDO/ECO</td>\n",
       "      <td>202500023705</td>\n",
       "      <td>2100</td>\n",
       "      <td>MICHIE DR, 35B</td>\n",
       "      <td>CPD</td>\n",
       "      <td>1723</td>\n",
       "      <td>Crowley, Raeann</td>\n",
       "      <td>2025-07-08 17:23:03</td>\n",
       "      <td>2025-07-08 05:23:03 PM</td>\n",
       "      <td>Tuesday</td>\n",
       "      <td>False</td>\n",
       "      <td>Summer</td>\n",
       "      <td>05:23 PM</td>\n",
       "      <td>Evening</td>\n",
       "      <td>2100 MICHIE DR, 35B</td>\n",
       "      <td>38.062986</td>\n",
       "      <td>-78.483828</td>\n",
       "    </tr>\n",
       "    <tr>\n",
       "      <th>1</th>\n",
       "      <td>2</td>\n",
       "      <td>Shots Fired/Illegal Hunting</td>\n",
       "      <td>202500023699</td>\n",
       "      <td>600</td>\n",
       "      <td>10 1/2 ST NW</td>\n",
       "      <td>CPD</td>\n",
       "      <td>1648</td>\n",
       "      <td>Curry, Brian</td>\n",
       "      <td>2025-07-08 16:48:27</td>\n",
       "      <td>2025-07-08 04:48:27 PM</td>\n",
       "      <td>Tuesday</td>\n",
       "      <td>False</td>\n",
       "      <td>Summer</td>\n",
       "      <td>04:48 PM</td>\n",
       "      <td>Afternoon</td>\n",
       "      <td>600 10 1/2 ST NW</td>\n",
       "      <td>38.039125</td>\n",
       "      <td>-78.492246</td>\n",
       "    </tr>\n",
       "    <tr>\n",
       "      <th>2</th>\n",
       "      <td>3</td>\n",
       "      <td>Sex Offense - Forcible Sodomy</td>\n",
       "      <td>202500023694</td>\n",
       "      <td>200</td>\n",
       "      <td>2ND ST NW</td>\n",
       "      <td>CPD</td>\n",
       "      <td>1635</td>\n",
       "      <td>O'Briant, Landon</td>\n",
       "      <td>2025-07-08 16:35:32</td>\n",
       "      <td>2025-07-08 04:35:32 PM</td>\n",
       "      <td>Tuesday</td>\n",
       "      <td>False</td>\n",
       "      <td>Summer</td>\n",
       "      <td>04:35 PM</td>\n",
       "      <td>Afternoon</td>\n",
       "      <td>200 2ND ST NW</td>\n",
       "      <td>38.032199</td>\n",
       "      <td>-78.481542</td>\n",
       "    </tr>\n",
       "    <tr>\n",
       "      <th>3</th>\n",
       "      <td>4</td>\n",
       "      <td>Vandalism</td>\n",
       "      <td>202500023691</td>\n",
       "      <td>1100</td>\n",
       "      <td>E MARKET ST</td>\n",
       "      <td>CPD</td>\n",
       "      <td>1622</td>\n",
       "      <td>Benbow, Lauren</td>\n",
       "      <td>2025-07-08 16:22:29</td>\n",
       "      <td>2025-07-08 04:22:29 PM</td>\n",
       "      <td>Tuesday</td>\n",
       "      <td>False</td>\n",
       "      <td>Summer</td>\n",
       "      <td>04:22 PM</td>\n",
       "      <td>Afternoon</td>\n",
       "      <td>1100 E MARKET ST</td>\n",
       "      <td>38.027920</td>\n",
       "      <td>-78.472110</td>\n",
       "    </tr>\n",
       "    <tr>\n",
       "      <th>4</th>\n",
       "      <td>5</td>\n",
       "      <td>Larceny - Shoplifitng</td>\n",
       "      <td>202500023686</td>\n",
       "      <td>500</td>\n",
       "      <td>W MAIN ST</td>\n",
       "      <td>CPD</td>\n",
       "      <td>1612</td>\n",
       "      <td>Benbow, Lauren</td>\n",
       "      <td>2025-07-08 16:12:33</td>\n",
       "      <td>2025-07-08 04:12:33 PM</td>\n",
       "      <td>Tuesday</td>\n",
       "      <td>False</td>\n",
       "      <td>Summer</td>\n",
       "      <td>04:12 PM</td>\n",
       "      <td>Afternoon</td>\n",
       "      <td>500 W MAIN ST</td>\n",
       "      <td>38.030793</td>\n",
       "      <td>-78.487912</td>\n",
       "    </tr>\n",
       "  </tbody>\n",
       "</table>\n",
       "</div>"
      ],
      "text/plain": [
       "   RecordID                          Offense    IncidentID BlockNumber  \\\n",
       "0         1  Assist Citizen - Mental/TDO/ECO  202500023705        2100   \n",
       "1         2      Shots Fired/Illegal Hunting  202500023699         600   \n",
       "2         3    Sex Offense - Forcible Sodomy  202500023694         200   \n",
       "3         4                        Vandalism  202500023691        1100   \n",
       "4         5            Larceny - Shoplifitng  202500023686         500   \n",
       "\n",
       "       StreetName Agency HourReported  ReportingOfficer                Date  \\\n",
       "0  MICHIE DR, 35B    CPD         1723   Crowley, Raeann 2025-07-08 17:23:03   \n",
       "1    10 1/2 ST NW    CPD         1648      Curry, Brian 2025-07-08 16:48:27   \n",
       "2       2ND ST NW    CPD         1635  O'Briant, Landon 2025-07-08 16:35:32   \n",
       "3     E MARKET ST    CPD         1622    Benbow, Lauren 2025-07-08 16:22:29   \n",
       "4       W MAIN ST    CPD         1612    Benbow, Lauren 2025-07-08 16:12:33   \n",
       "\n",
       "               DateString DayOfWeek  Weekend  Season  HourAMPM  TimeOfDay  \\\n",
       "0  2025-07-08 05:23:03 PM   Tuesday    False  Summer  05:23 PM    Evening   \n",
       "1  2025-07-08 04:48:27 PM   Tuesday    False  Summer  04:48 PM  Afternoon   \n",
       "2  2025-07-08 04:35:32 PM   Tuesday    False  Summer  04:35 PM  Afternoon   \n",
       "3  2025-07-08 04:22:29 PM   Tuesday    False  Summer  04:22 PM  Afternoon   \n",
       "4  2025-07-08 04:12:33 PM   Tuesday    False  Summer  04:12 PM  Afternoon   \n",
       "\n",
       "            FullStreet        lat        lon  \n",
       "0  2100 MICHIE DR, 35B  38.062986 -78.483828  \n",
       "1     600 10 1/2 ST NW  38.039125 -78.492246  \n",
       "2        200 2ND ST NW  38.032199 -78.481542  \n",
       "3     1100 E MARKET ST  38.027920 -78.472110  \n",
       "4        500 W MAIN ST  38.030793 -78.487912  "
      ]
     },
     "execution_count": 9,
     "metadata": {},
     "output_type": "execute_result"
    }
   ],
   "source": [
    "# Combine BlockNumber and StreetName into a full address string\n",
    "df['FullStreet'] = df['BlockNumber'].astype(str) + \" \" + df['StreetName']\n",
    "\n",
    "# --- Step 1: Setup the Google Maps Client and Cache ---\n",
    "gmaps = googlemaps.Client(key=GOOGLE_API_KEY)\n",
    "\n",
    "# Try to load cached geocoding results if available.\n",
    "try:\n",
    "    with open(\"geocode_cache_google.pkl\", \"rb\") as f:\n",
    "        street_coords = pickle.load(f)\n",
    "    print(\"Loaded geocode cache.\")\n",
    "except FileNotFoundError:\n",
    "    street_coords = {}\n",
    "    print(\"No cache found; starting fresh.\")\n",
    "\n",
    "def geocode_address(address):\n",
    "    try:\n",
    "        # Append city and state to help geocoding\n",
    "        result = gmaps.geocode(f\"{address}, Charlottesville, VA\")\n",
    "        if result:\n",
    "            lat = result[0]['geometry']['location']['lat']\n",
    "            lon = result[0]['geometry']['location']['lng']\n",
    "            return lat, lon\n",
    "    except Exception as e:\n",
    "        print(f\"Error geocoding {address}: {e}\")\n",
    "    return None, None\n",
    "\n",
    "# --- Step 2: Geocode Only New Addresses ---\n",
    "unique_addresses = df['FullStreet'].unique()\n",
    "for address in unique_addresses:\n",
    "    if address not in street_coords:\n",
    "        lat, lon = geocode_address(address)\n",
    "        street_coords[address] = (lat, lon)\n",
    "        print(f\"Geocoded {address}: {lat}, {lon}\")\n",
    "\n",
    "# Save the updated cache to disk.\n",
    "with open(\"geocode_cache_google.pkl\", \"wb\") as f:\n",
    "    pickle.dump(street_coords, f)\n",
    "    print(\"Geocode cache updated and saved.\")\n",
    "\n",
    "# --- Step 3: Map Coordinates Back to DataFrame ---\n",
    "df['lat'] = df['FullStreet'].map(lambda s: street_coords.get(s, (None, None))[0])\n",
    "df['lon'] = df['FullStreet'].map(lambda s: street_coords.get(s, (None, None))[1])\n",
    "\n",
    "df.head()"
   ]
  },
  {
   "cell_type": "markdown",
   "id": "02bae269",
   "metadata": {
    "papermill": {
     "duration": 0.004445,
     "end_time": "2025-07-11T01:08:17.512680",
     "exception": false,
     "start_time": "2025-07-11T01:08:17.508235",
     "status": "completed"
    },
    "tags": []
   },
   "source": [
    "### Neighborhood"
   ]
  },
  {
   "cell_type": "code",
   "execution_count": 10,
   "id": "f71dc722",
   "metadata": {
    "execution": {
     "iopub.execute_input": "2025-07-11T01:08:17.522538Z",
     "iopub.status.busy": "2025-07-11T01:08:17.522067Z",
     "iopub.status.idle": "2025-07-11T01:08:18.695655Z",
     "shell.execute_reply": "2025-07-11T01:08:18.695035Z"
    },
    "papermill": {
     "duration": 1.179608,
     "end_time": "2025-07-11T01:08:18.696669",
     "exception": false,
     "start_time": "2025-07-11T01:08:17.517061",
     "status": "completed"
    },
    "tags": []
   },
   "outputs": [
    {
     "name": "stdout",
     "output_type": "stream",
     "text": [
      "Loaded neighborhood cache.\n"
     ]
    },
    {
     "name": "stdout",
     "output_type": "stream",
     "text": [
      "Error getting neighborhood for nan, nan: HTTP Error: 400\n",
      "Error getting neighborhood for nan, nan: HTTP Error: 400\n",
      "Error getting neighborhood for nan, nan: HTTP Error: 400\n",
      "Error getting neighborhood for nan, nan: HTTP Error: 400\n",
      "Error getting neighborhood for nan, nan: HTTP Error: 400\n"
     ]
    },
    {
     "name": "stdout",
     "output_type": "stream",
     "text": [
      "Error getting neighborhood for nan, nan: HTTP Error: 400\n",
      "Error getting neighborhood for nan, nan: HTTP Error: 400\n",
      "Error getting neighborhood for nan, nan: HTTP Error: 400\n",
      "Error getting neighborhood for nan, nan: HTTP Error: 400\n"
     ]
    },
    {
     "name": "stdout",
     "output_type": "stream",
     "text": [
      "Error getting neighborhood for nan, nan: HTTP Error: 400\n",
      "Error getting neighborhood for nan, nan: HTTP Error: 400\n",
      "Error getting neighborhood for nan, nan: HTTP Error: 400\n",
      "Error getting neighborhood for nan, nan: HTTP Error: 400\n",
      "Error getting neighborhood for nan, nan: HTTP Error: 400\n",
      "Error getting neighborhood for nan, nan: HTTP Error: 400\n"
     ]
    },
    {
     "name": "stdout",
     "output_type": "stream",
     "text": [
      "Error getting neighborhood for nan, nan: HTTP Error: 400\n",
      "Error getting neighborhood for nan, nan: HTTP Error: 400\n",
      "Error getting neighborhood for nan, nan: HTTP Error: 400\n",
      "Error getting neighborhood for nan, nan: HTTP Error: 400\n",
      "Error getting neighborhood for nan, nan: HTTP Error: 400\n",
      "Error getting neighborhood for nan, nan: HTTP Error: 400\n"
     ]
    },
    {
     "name": "stdout",
     "output_type": "stream",
     "text": [
      "Error getting neighborhood for nan, nan: HTTP Error: 400\n",
      "Error getting neighborhood for nan, nan: HTTP Error: 400\n",
      "Error getting neighborhood for nan, nan: HTTP Error: 400\n",
      "Error getting neighborhood for nan, nan: HTTP Error: 400\n",
      "Error getting neighborhood for nan, nan: HTTP Error: 400\n",
      "Error getting neighborhood for nan, nan: HTTP Error: 400\n"
     ]
    },
    {
     "name": "stdout",
     "output_type": "stream",
     "text": [
      "Error getting neighborhood for nan, nan: HTTP Error: 400\n",
      "Error getting neighborhood for nan, nan: HTTP Error: 400\n",
      "Error getting neighborhood for nan, nan: HTTP Error: 400\n",
      "Error getting neighborhood for nan, nan: HTTP Error: 400\n",
      "Error getting neighborhood for nan, nan: HTTP Error: 400\n",
      "Error getting neighborhood for nan, nan: HTTP Error: 400\n"
     ]
    },
    {
     "name": "stdout",
     "output_type": "stream",
     "text": [
      "Error getting neighborhood for nan, nan: HTTP Error: 400\n",
      "Error getting neighborhood for nan, nan: HTTP Error: 400\n",
      "Error getting neighborhood for nan, nan: HTTP Error: 400\n",
      "Error getting neighborhood for nan, nan: HTTP Error: 400\n",
      "Error getting neighborhood for nan, nan: HTTP Error: 400\n",
      "Error getting neighborhood for nan, nan: HTTP Error: 400\n"
     ]
    },
    {
     "name": "stdout",
     "output_type": "stream",
     "text": [
      "Error getting neighborhood for nan, nan: HTTP Error: 400\n",
      "Error getting neighborhood for nan, nan: HTTP Error: 400\n",
      "Error getting neighborhood for nan, nan: HTTP Error: 400\n",
      "Error getting neighborhood for nan, nan: HTTP Error: 400\n",
      "Error getting neighborhood for nan, nan: HTTP Error: 400\n",
      "Error getting neighborhood for nan, nan: HTTP Error: 400\n"
     ]
    },
    {
     "name": "stdout",
     "output_type": "stream",
     "text": [
      "Error getting neighborhood for nan, nan: HTTP Error: 400\n",
      "Error getting neighborhood for nan, nan: HTTP Error: 400\n",
      "Error getting neighborhood for nan, nan: HTTP Error: 400\n"
     ]
    },
    {
     "data": {
      "text/html": [
       "<div>\n",
       "<style scoped>\n",
       "    .dataframe tbody tr th:only-of-type {\n",
       "        vertical-align: middle;\n",
       "    }\n",
       "\n",
       "    .dataframe tbody tr th {\n",
       "        vertical-align: top;\n",
       "    }\n",
       "\n",
       "    .dataframe thead th {\n",
       "        text-align: right;\n",
       "    }\n",
       "</style>\n",
       "<table border=\"1\" class=\"dataframe\">\n",
       "  <thead>\n",
       "    <tr style=\"text-align: right;\">\n",
       "      <th></th>\n",
       "      <th>RecordID</th>\n",
       "      <th>Offense</th>\n",
       "      <th>IncidentID</th>\n",
       "      <th>BlockNumber</th>\n",
       "      <th>StreetName</th>\n",
       "      <th>Agency</th>\n",
       "      <th>HourReported</th>\n",
       "      <th>ReportingOfficer</th>\n",
       "      <th>Date</th>\n",
       "      <th>DateString</th>\n",
       "      <th>DayOfWeek</th>\n",
       "      <th>Weekend</th>\n",
       "      <th>Season</th>\n",
       "      <th>HourAMPM</th>\n",
       "      <th>TimeOfDay</th>\n",
       "      <th>FullStreet</th>\n",
       "      <th>lat</th>\n",
       "      <th>lon</th>\n",
       "      <th>neighborhood</th>\n",
       "    </tr>\n",
       "  </thead>\n",
       "  <tbody>\n",
       "    <tr>\n",
       "      <th>0</th>\n",
       "      <td>1</td>\n",
       "      <td>Assist Citizen - Mental/TDO/ECO</td>\n",
       "      <td>202500023705</td>\n",
       "      <td>2100</td>\n",
       "      <td>MICHIE DR, 35B</td>\n",
       "      <td>CPD</td>\n",
       "      <td>1723</td>\n",
       "      <td>Crowley, Raeann</td>\n",
       "      <td>2025-07-08 17:23:03</td>\n",
       "      <td>2025-07-08 05:23:03 PM</td>\n",
       "      <td>Tuesday</td>\n",
       "      <td>False</td>\n",
       "      <td>Summer</td>\n",
       "      <td>05:23 PM</td>\n",
       "      <td>Evening</td>\n",
       "      <td>2100 MICHIE DR, 35B</td>\n",
       "      <td>38.062986</td>\n",
       "      <td>-78.483828</td>\n",
       "      <td>Greenbrier</td>\n",
       "    </tr>\n",
       "    <tr>\n",
       "      <th>1</th>\n",
       "      <td>2</td>\n",
       "      <td>Shots Fired/Illegal Hunting</td>\n",
       "      <td>202500023699</td>\n",
       "      <td>600</td>\n",
       "      <td>10 1/2 ST NW</td>\n",
       "      <td>CPD</td>\n",
       "      <td>1648</td>\n",
       "      <td>Curry, Brian</td>\n",
       "      <td>2025-07-08 16:48:27</td>\n",
       "      <td>2025-07-08 04:48:27 PM</td>\n",
       "      <td>Tuesday</td>\n",
       "      <td>False</td>\n",
       "      <td>Summer</td>\n",
       "      <td>04:48 PM</td>\n",
       "      <td>Afternoon</td>\n",
       "      <td>600 10 1/2 ST NW</td>\n",
       "      <td>38.039125</td>\n",
       "      <td>-78.492246</td>\n",
       "      <td>Venable</td>\n",
       "    </tr>\n",
       "    <tr>\n",
       "      <th>2</th>\n",
       "      <td>3</td>\n",
       "      <td>Sex Offense - Forcible Sodomy</td>\n",
       "      <td>202500023694</td>\n",
       "      <td>200</td>\n",
       "      <td>2ND ST NW</td>\n",
       "      <td>CPD</td>\n",
       "      <td>1635</td>\n",
       "      <td>O'Briant, Landon</td>\n",
       "      <td>2025-07-08 16:35:32</td>\n",
       "      <td>2025-07-08 04:35:32 PM</td>\n",
       "      <td>Tuesday</td>\n",
       "      <td>False</td>\n",
       "      <td>Summer</td>\n",
       "      <td>04:35 PM</td>\n",
       "      <td>Afternoon</td>\n",
       "      <td>200 2ND ST NW</td>\n",
       "      <td>38.032199</td>\n",
       "      <td>-78.481542</td>\n",
       "      <td>North Downtown</td>\n",
       "    </tr>\n",
       "    <tr>\n",
       "      <th>3</th>\n",
       "      <td>4</td>\n",
       "      <td>Vandalism</td>\n",
       "      <td>202500023691</td>\n",
       "      <td>1100</td>\n",
       "      <td>E MARKET ST</td>\n",
       "      <td>CPD</td>\n",
       "      <td>1622</td>\n",
       "      <td>Benbow, Lauren</td>\n",
       "      <td>2025-07-08 16:22:29</td>\n",
       "      <td>2025-07-08 04:22:29 PM</td>\n",
       "      <td>Tuesday</td>\n",
       "      <td>False</td>\n",
       "      <td>Summer</td>\n",
       "      <td>04:22 PM</td>\n",
       "      <td>Afternoon</td>\n",
       "      <td>1100 E MARKET ST</td>\n",
       "      <td>38.027920</td>\n",
       "      <td>-78.472110</td>\n",
       "      <td>Martha Jefferson</td>\n",
       "    </tr>\n",
       "    <tr>\n",
       "      <th>4</th>\n",
       "      <td>5</td>\n",
       "      <td>Larceny - Shoplifitng</td>\n",
       "      <td>202500023686</td>\n",
       "      <td>500</td>\n",
       "      <td>W MAIN ST</td>\n",
       "      <td>CPD</td>\n",
       "      <td>1612</td>\n",
       "      <td>Benbow, Lauren</td>\n",
       "      <td>2025-07-08 16:12:33</td>\n",
       "      <td>2025-07-08 04:12:33 PM</td>\n",
       "      <td>Tuesday</td>\n",
       "      <td>False</td>\n",
       "      <td>Summer</td>\n",
       "      <td>04:12 PM</td>\n",
       "      <td>Afternoon</td>\n",
       "      <td>500 W MAIN ST</td>\n",
       "      <td>38.030793</td>\n",
       "      <td>-78.487912</td>\n",
       "      <td>Starr Hill</td>\n",
       "    </tr>\n",
       "  </tbody>\n",
       "</table>\n",
       "</div>"
      ],
      "text/plain": [
       "   RecordID                          Offense    IncidentID BlockNumber  \\\n",
       "0         1  Assist Citizen - Mental/TDO/ECO  202500023705        2100   \n",
       "1         2      Shots Fired/Illegal Hunting  202500023699         600   \n",
       "2         3    Sex Offense - Forcible Sodomy  202500023694         200   \n",
       "3         4                        Vandalism  202500023691        1100   \n",
       "4         5            Larceny - Shoplifitng  202500023686         500   \n",
       "\n",
       "       StreetName Agency HourReported  ReportingOfficer                Date  \\\n",
       "0  MICHIE DR, 35B    CPD         1723   Crowley, Raeann 2025-07-08 17:23:03   \n",
       "1    10 1/2 ST NW    CPD         1648      Curry, Brian 2025-07-08 16:48:27   \n",
       "2       2ND ST NW    CPD         1635  O'Briant, Landon 2025-07-08 16:35:32   \n",
       "3     E MARKET ST    CPD         1622    Benbow, Lauren 2025-07-08 16:22:29   \n",
       "4       W MAIN ST    CPD         1612    Benbow, Lauren 2025-07-08 16:12:33   \n",
       "\n",
       "               DateString DayOfWeek  Weekend  Season  HourAMPM  TimeOfDay  \\\n",
       "0  2025-07-08 05:23:03 PM   Tuesday    False  Summer  05:23 PM    Evening   \n",
       "1  2025-07-08 04:48:27 PM   Tuesday    False  Summer  04:48 PM  Afternoon   \n",
       "2  2025-07-08 04:35:32 PM   Tuesday    False  Summer  04:35 PM  Afternoon   \n",
       "3  2025-07-08 04:22:29 PM   Tuesday    False  Summer  04:22 PM  Afternoon   \n",
       "4  2025-07-08 04:12:33 PM   Tuesday    False  Summer  04:12 PM  Afternoon   \n",
       "\n",
       "            FullStreet        lat        lon      neighborhood  \n",
       "0  2100 MICHIE DR, 35B  38.062986 -78.483828        Greenbrier  \n",
       "1     600 10 1/2 ST NW  38.039125 -78.492246           Venable  \n",
       "2        200 2ND ST NW  38.032199 -78.481542    North Downtown  \n",
       "3     1100 E MARKET ST  38.027920 -78.472110  Martha Jefferson  \n",
       "4        500 W MAIN ST  38.030793 -78.487912        Starr Hill  "
      ]
     },
     "execution_count": 10,
     "metadata": {},
     "output_type": "execute_result"
    }
   ],
   "source": [
    "# Initialize the Google Maps client.\n",
    "gmaps = googlemaps.Client(key=GOOGLE_API_KEY)\n",
    "\n",
    "# Try to load a persistent neighborhood cache if available.\n",
    "try:\n",
    "    with open(\"neighborhood_cache.pkl\", \"rb\") as f:\n",
    "        neighborhood_cache = pickle.load(f)\n",
    "    print(\"Loaded neighborhood cache.\")\n",
    "except FileNotFoundError:\n",
    "    neighborhood_cache = {}\n",
    "    print(\"No neighborhood cache found; starting fresh.\")\n",
    "\n",
    "def get_neighborhood(lat, lon):\n",
    "    \"\"\"\n",
    "    Reverse geocodes a latitude and longitude to retrieve the neighborhood.\n",
    "    Caches results to speed up subsequent lookups.\n",
    "    \"\"\"\n",
    "    key = (lat, lon)\n",
    "    if key in neighborhood_cache:\n",
    "        return neighborhood_cache[key]\n",
    "    \n",
    "    try:\n",
    "        result = gmaps.reverse_geocode((lat, lon))\n",
    "        if result:\n",
    "            # Look for the 'neighborhood' component in the first result.\n",
    "            for component in result[0]['address_components']:\n",
    "                if 'neighborhood' in component['types']:\n",
    "                    neighborhood = component['long_name']\n",
    "                    neighborhood_cache[key] = neighborhood\n",
    "                    return neighborhood\n",
    "            # If no neighborhood is found, return \"N/A\"\n",
    "            neighborhood_cache[key] = \"N/A\"\n",
    "            return \"N/A\"\n",
    "    except Exception as e:\n",
    "        print(f\"Error getting neighborhood for {lat}, {lon}: {e}\")\n",
    "        return \"N/A\"\n",
    "    \n",
    "    # Pause to respect usage limits.\n",
    "    time.sleep(1)\n",
    "\n",
    "# Example usage: Apply to your DataFrame 'df' that already has 'lat' and 'lon' columns.\n",
    "df['neighborhood'] = df.apply(lambda row: get_neighborhood(row['lat'], row['lon']), axis=1)\n",
    "\n",
    "# Save the updated neighborhood cache.\n",
    "with open(\"neighborhood_cache.pkl\", \"wb\") as f:\n",
    "    pickle.dump(neighborhood_cache, f)\n",
    "\n",
    "df.head()\n"
   ]
  },
  {
   "cell_type": "markdown",
   "id": "0e8b4d17",
   "metadata": {
    "papermill": {
     "duration": 0.005044,
     "end_time": "2025-07-11T01:08:18.707150",
     "exception": false,
     "start_time": "2025-07-11T01:08:18.702106",
     "status": "completed"
    },
    "tags": []
   },
   "source": [
    "### Zip"
   ]
  },
  {
   "cell_type": "code",
   "execution_count": 11,
   "id": "81353c8a",
   "metadata": {
    "execution": {
     "iopub.execute_input": "2025-07-11T01:08:18.718286Z",
     "iopub.status.busy": "2025-07-11T01:08:18.717816Z",
     "iopub.status.idle": "2025-07-11T01:09:07.039985Z",
     "shell.execute_reply": "2025-07-11T01:09:07.039364Z"
    },
    "papermill": {
     "duration": 48.328991,
     "end_time": "2025-07-11T01:09:07.041109",
     "exception": false,
     "start_time": "2025-07-11T01:08:18.712118",
     "status": "completed"
    },
    "tags": []
   },
   "outputs": [
    {
     "name": "stdout",
     "output_type": "stream",
     "text": [
      "Loaded zip cache.\n",
      "Error getting ZIP for nan, nan: Must be a coordinate pair or Point\n"
     ]
    },
    {
     "name": "stdout",
     "output_type": "stream",
     "text": [
      "Error getting ZIP for nan, nan: Must be a coordinate pair or Point\n"
     ]
    },
    {
     "name": "stdout",
     "output_type": "stream",
     "text": [
      "Error getting ZIP for nan, nan: Must be a coordinate pair or Point\n"
     ]
    },
    {
     "name": "stdout",
     "output_type": "stream",
     "text": [
      "Error getting ZIP for nan, nan: Must be a coordinate pair or Point\n"
     ]
    },
    {
     "name": "stdout",
     "output_type": "stream",
     "text": [
      "Error getting ZIP for nan, nan: Must be a coordinate pair or Point\n"
     ]
    },
    {
     "name": "stdout",
     "output_type": "stream",
     "text": [
      "Error getting ZIP for nan, nan: Must be a coordinate pair or Point\n"
     ]
    },
    {
     "name": "stdout",
     "output_type": "stream",
     "text": [
      "Error getting ZIP for nan, nan: Must be a coordinate pair or Point\n"
     ]
    },
    {
     "name": "stdout",
     "output_type": "stream",
     "text": [
      "Error getting ZIP for nan, nan: Must be a coordinate pair or Point\n"
     ]
    },
    {
     "name": "stdout",
     "output_type": "stream",
     "text": [
      "Error getting ZIP for nan, nan: Must be a coordinate pair or Point\n"
     ]
    },
    {
     "name": "stdout",
     "output_type": "stream",
     "text": [
      "Error getting ZIP for nan, nan: Must be a coordinate pair or Point\n"
     ]
    },
    {
     "name": "stdout",
     "output_type": "stream",
     "text": [
      "Error getting ZIP for nan, nan: Must be a coordinate pair or Point\n"
     ]
    },
    {
     "name": "stdout",
     "output_type": "stream",
     "text": [
      "Error getting ZIP for nan, nan: Must be a coordinate pair or Point\n"
     ]
    },
    {
     "name": "stdout",
     "output_type": "stream",
     "text": [
      "Error getting ZIP for nan, nan: Must be a coordinate pair or Point\n"
     ]
    },
    {
     "name": "stdout",
     "output_type": "stream",
     "text": [
      "Error getting ZIP for nan, nan: Must be a coordinate pair or Point\n"
     ]
    },
    {
     "name": "stdout",
     "output_type": "stream",
     "text": [
      "Error getting ZIP for nan, nan: Must be a coordinate pair or Point\n"
     ]
    },
    {
     "name": "stdout",
     "output_type": "stream",
     "text": [
      "Error getting ZIP for nan, nan: Must be a coordinate pair or Point\n"
     ]
    },
    {
     "name": "stdout",
     "output_type": "stream",
     "text": [
      "Error getting ZIP for nan, nan: Must be a coordinate pair or Point\n"
     ]
    },
    {
     "name": "stdout",
     "output_type": "stream",
     "text": [
      "Error getting ZIP for nan, nan: Must be a coordinate pair or Point\n"
     ]
    },
    {
     "name": "stdout",
     "output_type": "stream",
     "text": [
      "Error getting ZIP for nan, nan: Must be a coordinate pair or Point\n"
     ]
    },
    {
     "name": "stdout",
     "output_type": "stream",
     "text": [
      "Error getting ZIP for nan, nan: Must be a coordinate pair or Point\n"
     ]
    },
    {
     "name": "stdout",
     "output_type": "stream",
     "text": [
      "Error getting ZIP for nan, nan: Must be a coordinate pair or Point\n"
     ]
    },
    {
     "name": "stdout",
     "output_type": "stream",
     "text": [
      "Error getting ZIP for nan, nan: Must be a coordinate pair or Point\n"
     ]
    },
    {
     "name": "stdout",
     "output_type": "stream",
     "text": [
      "Error getting ZIP for nan, nan: Must be a coordinate pair or Point\n"
     ]
    },
    {
     "name": "stdout",
     "output_type": "stream",
     "text": [
      "Error getting ZIP for nan, nan: Must be a coordinate pair or Point\n"
     ]
    },
    {
     "name": "stdout",
     "output_type": "stream",
     "text": [
      "Error getting ZIP for nan, nan: Must be a coordinate pair or Point\n"
     ]
    },
    {
     "name": "stdout",
     "output_type": "stream",
     "text": [
      "Error getting ZIP for nan, nan: Must be a coordinate pair or Point\n"
     ]
    },
    {
     "name": "stdout",
     "output_type": "stream",
     "text": [
      "Error getting ZIP for nan, nan: Must be a coordinate pair or Point\n"
     ]
    },
    {
     "name": "stdout",
     "output_type": "stream",
     "text": [
      "Error getting ZIP for nan, nan: Must be a coordinate pair or Point\n"
     ]
    },
    {
     "name": "stdout",
     "output_type": "stream",
     "text": [
      "Error getting ZIP for nan, nan: Must be a coordinate pair or Point\n"
     ]
    },
    {
     "name": "stdout",
     "output_type": "stream",
     "text": [
      "Error getting ZIP for nan, nan: Must be a coordinate pair or Point\n"
     ]
    },
    {
     "name": "stdout",
     "output_type": "stream",
     "text": [
      "Error getting ZIP for nan, nan: Must be a coordinate pair or Point\n"
     ]
    },
    {
     "name": "stdout",
     "output_type": "stream",
     "text": [
      "Error getting ZIP for nan, nan: Must be a coordinate pair or Point\n"
     ]
    },
    {
     "name": "stdout",
     "output_type": "stream",
     "text": [
      "Error getting ZIP for nan, nan: Must be a coordinate pair or Point\n"
     ]
    },
    {
     "name": "stdout",
     "output_type": "stream",
     "text": [
      "Error getting ZIP for nan, nan: Must be a coordinate pair or Point\n"
     ]
    },
    {
     "name": "stdout",
     "output_type": "stream",
     "text": [
      "Error getting ZIP for nan, nan: Must be a coordinate pair or Point\n"
     ]
    },
    {
     "name": "stdout",
     "output_type": "stream",
     "text": [
      "Error getting ZIP for nan, nan: Must be a coordinate pair or Point\n"
     ]
    },
    {
     "name": "stdout",
     "output_type": "stream",
     "text": [
      "Error getting ZIP for nan, nan: Must be a coordinate pair or Point\n"
     ]
    },
    {
     "name": "stdout",
     "output_type": "stream",
     "text": [
      "Error getting ZIP for nan, nan: Must be a coordinate pair or Point\n"
     ]
    },
    {
     "name": "stdout",
     "output_type": "stream",
     "text": [
      "Error getting ZIP for nan, nan: Must be a coordinate pair or Point\n"
     ]
    },
    {
     "name": "stdout",
     "output_type": "stream",
     "text": [
      "Error getting ZIP for nan, nan: Must be a coordinate pair or Point\n"
     ]
    },
    {
     "name": "stdout",
     "output_type": "stream",
     "text": [
      "Error getting ZIP for nan, nan: Must be a coordinate pair or Point\n"
     ]
    },
    {
     "name": "stdout",
     "output_type": "stream",
     "text": [
      "Error getting ZIP for nan, nan: Must be a coordinate pair or Point\n"
     ]
    },
    {
     "name": "stdout",
     "output_type": "stream",
     "text": [
      "Error getting ZIP for nan, nan: Must be a coordinate pair or Point\n"
     ]
    },
    {
     "name": "stdout",
     "output_type": "stream",
     "text": [
      "Error getting ZIP for nan, nan: Must be a coordinate pair or Point\n"
     ]
    },
    {
     "name": "stdout",
     "output_type": "stream",
     "text": [
      "Error getting ZIP for nan, nan: Must be a coordinate pair or Point\n"
     ]
    },
    {
     "name": "stdout",
     "output_type": "stream",
     "text": [
      "Error getting ZIP for nan, nan: Must be a coordinate pair or Point\n"
     ]
    },
    {
     "name": "stdout",
     "output_type": "stream",
     "text": [
      "Error getting ZIP for nan, nan: Must be a coordinate pair or Point\n"
     ]
    },
    {
     "name": "stdout",
     "output_type": "stream",
     "text": [
      "Error getting ZIP for nan, nan: Must be a coordinate pair or Point\n"
     ]
    },
    {
     "data": {
      "text/html": [
       "<div>\n",
       "<style scoped>\n",
       "    .dataframe tbody tr th:only-of-type {\n",
       "        vertical-align: middle;\n",
       "    }\n",
       "\n",
       "    .dataframe tbody tr th {\n",
       "        vertical-align: top;\n",
       "    }\n",
       "\n",
       "    .dataframe thead th {\n",
       "        text-align: right;\n",
       "    }\n",
       "</style>\n",
       "<table border=\"1\" class=\"dataframe\">\n",
       "  <thead>\n",
       "    <tr style=\"text-align: right;\">\n",
       "      <th></th>\n",
       "      <th>RecordID</th>\n",
       "      <th>Offense</th>\n",
       "      <th>IncidentID</th>\n",
       "      <th>BlockNumber</th>\n",
       "      <th>StreetName</th>\n",
       "      <th>Agency</th>\n",
       "      <th>HourReported</th>\n",
       "      <th>ReportingOfficer</th>\n",
       "      <th>Date</th>\n",
       "      <th>DateString</th>\n",
       "      <th>DayOfWeek</th>\n",
       "      <th>Weekend</th>\n",
       "      <th>Season</th>\n",
       "      <th>HourAMPM</th>\n",
       "      <th>TimeOfDay</th>\n",
       "      <th>FullStreet</th>\n",
       "      <th>lat</th>\n",
       "      <th>lon</th>\n",
       "      <th>neighborhood</th>\n",
       "      <th>zip</th>\n",
       "    </tr>\n",
       "  </thead>\n",
       "  <tbody>\n",
       "    <tr>\n",
       "      <th>0</th>\n",
       "      <td>1</td>\n",
       "      <td>Assist Citizen - Mental/TDO/ECO</td>\n",
       "      <td>202500023705</td>\n",
       "      <td>2100</td>\n",
       "      <td>MICHIE DR, 35B</td>\n",
       "      <td>CPD</td>\n",
       "      <td>1723</td>\n",
       "      <td>Crowley, Raeann</td>\n",
       "      <td>2025-07-08 17:23:03</td>\n",
       "      <td>2025-07-08 05:23:03 PM</td>\n",
       "      <td>Tuesday</td>\n",
       "      <td>False</td>\n",
       "      <td>Summer</td>\n",
       "      <td>05:23 PM</td>\n",
       "      <td>Evening</td>\n",
       "      <td>2100 MICHIE DR, 35B</td>\n",
       "      <td>38.062986</td>\n",
       "      <td>-78.483828</td>\n",
       "      <td>Greenbrier</td>\n",
       "      <td>22901</td>\n",
       "    </tr>\n",
       "    <tr>\n",
       "      <th>1</th>\n",
       "      <td>2</td>\n",
       "      <td>Shots Fired/Illegal Hunting</td>\n",
       "      <td>202500023699</td>\n",
       "      <td>600</td>\n",
       "      <td>10 1/2 ST NW</td>\n",
       "      <td>CPD</td>\n",
       "      <td>1648</td>\n",
       "      <td>Curry, Brian</td>\n",
       "      <td>2025-07-08 16:48:27</td>\n",
       "      <td>2025-07-08 04:48:27 PM</td>\n",
       "      <td>Tuesday</td>\n",
       "      <td>False</td>\n",
       "      <td>Summer</td>\n",
       "      <td>04:48 PM</td>\n",
       "      <td>Afternoon</td>\n",
       "      <td>600 10 1/2 ST NW</td>\n",
       "      <td>38.039125</td>\n",
       "      <td>-78.492246</td>\n",
       "      <td>Venable</td>\n",
       "      <td>22903</td>\n",
       "    </tr>\n",
       "    <tr>\n",
       "      <th>2</th>\n",
       "      <td>3</td>\n",
       "      <td>Sex Offense - Forcible Sodomy</td>\n",
       "      <td>202500023694</td>\n",
       "      <td>200</td>\n",
       "      <td>2ND ST NW</td>\n",
       "      <td>CPD</td>\n",
       "      <td>1635</td>\n",
       "      <td>O'Briant, Landon</td>\n",
       "      <td>2025-07-08 16:35:32</td>\n",
       "      <td>2025-07-08 04:35:32 PM</td>\n",
       "      <td>Tuesday</td>\n",
       "      <td>False</td>\n",
       "      <td>Summer</td>\n",
       "      <td>04:35 PM</td>\n",
       "      <td>Afternoon</td>\n",
       "      <td>200 2ND ST NW</td>\n",
       "      <td>38.032199</td>\n",
       "      <td>-78.481542</td>\n",
       "      <td>North Downtown</td>\n",
       "      <td>22902</td>\n",
       "    </tr>\n",
       "    <tr>\n",
       "      <th>3</th>\n",
       "      <td>4</td>\n",
       "      <td>Vandalism</td>\n",
       "      <td>202500023691</td>\n",
       "      <td>1100</td>\n",
       "      <td>E MARKET ST</td>\n",
       "      <td>CPD</td>\n",
       "      <td>1622</td>\n",
       "      <td>Benbow, Lauren</td>\n",
       "      <td>2025-07-08 16:22:29</td>\n",
       "      <td>2025-07-08 04:22:29 PM</td>\n",
       "      <td>Tuesday</td>\n",
       "      <td>False</td>\n",
       "      <td>Summer</td>\n",
       "      <td>04:22 PM</td>\n",
       "      <td>Afternoon</td>\n",
       "      <td>1100 E MARKET ST</td>\n",
       "      <td>38.027920</td>\n",
       "      <td>-78.472110</td>\n",
       "      <td>Martha Jefferson</td>\n",
       "      <td>22902</td>\n",
       "    </tr>\n",
       "    <tr>\n",
       "      <th>4</th>\n",
       "      <td>5</td>\n",
       "      <td>Larceny - Shoplifitng</td>\n",
       "      <td>202500023686</td>\n",
       "      <td>500</td>\n",
       "      <td>W MAIN ST</td>\n",
       "      <td>CPD</td>\n",
       "      <td>1612</td>\n",
       "      <td>Benbow, Lauren</td>\n",
       "      <td>2025-07-08 16:12:33</td>\n",
       "      <td>2025-07-08 04:12:33 PM</td>\n",
       "      <td>Tuesday</td>\n",
       "      <td>False</td>\n",
       "      <td>Summer</td>\n",
       "      <td>04:12 PM</td>\n",
       "      <td>Afternoon</td>\n",
       "      <td>500 W MAIN ST</td>\n",
       "      <td>38.030793</td>\n",
       "      <td>-78.487912</td>\n",
       "      <td>Starr Hill</td>\n",
       "      <td>22903</td>\n",
       "    </tr>\n",
       "  </tbody>\n",
       "</table>\n",
       "</div>"
      ],
      "text/plain": [
       "   RecordID                          Offense    IncidentID BlockNumber  \\\n",
       "0         1  Assist Citizen - Mental/TDO/ECO  202500023705        2100   \n",
       "1         2      Shots Fired/Illegal Hunting  202500023699         600   \n",
       "2         3    Sex Offense - Forcible Sodomy  202500023694         200   \n",
       "3         4                        Vandalism  202500023691        1100   \n",
       "4         5            Larceny - Shoplifitng  202500023686         500   \n",
       "\n",
       "       StreetName Agency HourReported  ReportingOfficer                Date  \\\n",
       "0  MICHIE DR, 35B    CPD         1723   Crowley, Raeann 2025-07-08 17:23:03   \n",
       "1    10 1/2 ST NW    CPD         1648      Curry, Brian 2025-07-08 16:48:27   \n",
       "2       2ND ST NW    CPD         1635  O'Briant, Landon 2025-07-08 16:35:32   \n",
       "3     E MARKET ST    CPD         1622    Benbow, Lauren 2025-07-08 16:22:29   \n",
       "4       W MAIN ST    CPD         1612    Benbow, Lauren 2025-07-08 16:12:33   \n",
       "\n",
       "               DateString DayOfWeek  Weekend  Season  HourAMPM  TimeOfDay  \\\n",
       "0  2025-07-08 05:23:03 PM   Tuesday    False  Summer  05:23 PM    Evening   \n",
       "1  2025-07-08 04:48:27 PM   Tuesday    False  Summer  04:48 PM  Afternoon   \n",
       "2  2025-07-08 04:35:32 PM   Tuesday    False  Summer  04:35 PM  Afternoon   \n",
       "3  2025-07-08 04:22:29 PM   Tuesday    False  Summer  04:22 PM  Afternoon   \n",
       "4  2025-07-08 04:12:33 PM   Tuesday    False  Summer  04:12 PM  Afternoon   \n",
       "\n",
       "            FullStreet        lat        lon      neighborhood    zip  \n",
       "0  2100 MICHIE DR, 35B  38.062986 -78.483828        Greenbrier  22901  \n",
       "1     600 10 1/2 ST NW  38.039125 -78.492246           Venable  22903  \n",
       "2        200 2ND ST NW  38.032199 -78.481542    North Downtown  22902  \n",
       "3     1100 E MARKET ST  38.027920 -78.472110  Martha Jefferson  22902  \n",
       "4        500 W MAIN ST  38.030793 -78.487912        Starr Hill  22903  "
      ]
     },
     "execution_count": 11,
     "metadata": {},
     "output_type": "execute_result"
    }
   ],
   "source": [
    "# Initialize the geocoder.\n",
    "geolocator = Nominatim(user_agent=\"zip_lookup\")\n",
    "\n",
    "# Try to load a persistent ZIP cache if available.\n",
    "try:\n",
    "    with open(\"zip_cache.pkl\", \"rb\") as f:\n",
    "        zip_cache = pickle.load(f)\n",
    "    print(\"Loaded zip cache.\")\n",
    "except FileNotFoundError:\n",
    "    zip_cache = {}\n",
    "    print(\"No zip cache found; starting fresh.\")\n",
    "\n",
    "def get_zip(lat, lon):\n",
    "    \"\"\"\n",
    "    Reverse geocodes a latitude and longitude to retrieve the ZIP code.\n",
    "    Caches results to speed up subsequent lookups.\n",
    "    \"\"\"\n",
    "    key = (lat, lon)\n",
    "    if key in zip_cache:\n",
    "        return zip_cache[key]\n",
    "    \n",
    "    try:\n",
    "        location = geolocator.reverse((lat, lon), exactly_one=True, timeout=10)\n",
    "        address = location.raw.get('address', {})\n",
    "        postal_code = address.get('postcode', \"N/A\")\n",
    "    except Exception as e:\n",
    "        print(f\"Error getting ZIP for {lat}, {lon}: {e}\")\n",
    "        postal_code = \"N/A\"\n",
    "    \n",
    "    zip_cache[key] = postal_code\n",
    "    # Pause to respect the usage policy.\n",
    "    time.sleep(1)\n",
    "    return postal_code\n",
    "\n",
    "# Apply the function to each row in the DataFrame.\n",
    "df['zip'] = df.apply(lambda row: get_zip(row['lat'], row['lon']), axis=1)\n",
    "\n",
    "# Save the updated ZIP cache.\n",
    "with open(\"zip_cache.pkl\", \"wb\") as f:\n",
    "    pickle.dump(zip_cache, f)\n",
    "\n",
    "df.head()\n"
   ]
  },
  {
   "cell_type": "code",
   "execution_count": 12,
   "id": "6ded1413",
   "metadata": {
    "execution": {
     "iopub.execute_input": "2025-07-11T01:09:07.057334Z",
     "iopub.status.busy": "2025-07-11T01:09:07.056806Z",
     "iopub.status.idle": "2025-07-11T01:09:07.086140Z",
     "shell.execute_reply": "2025-07-11T01:09:07.085513Z"
    },
    "papermill": {
     "duration": 0.038507,
     "end_time": "2025-07-11T01:09:07.087245",
     "exception": false,
     "start_time": "2025-07-11T01:09:07.048738",
     "status": "completed"
    },
    "tags": []
   },
   "outputs": [
    {
     "name": "stdout",
     "output_type": "stream",
     "text": [
      "                  MissingCount  MissingPercentage\n",
      "RecordID                     0               0.00\n",
      "Offense                      0               0.00\n",
      "IncidentID                   0               0.00\n",
      "BlockNumber                  0               0.00\n",
      "StreetName                   0               0.00\n",
      "Agency                       0               0.00\n",
      "HourReported                 0               0.00\n",
      "ReportingOfficer            17               0.07\n",
      "Date                         0               0.00\n",
      "DateString                   0               0.00\n",
      "DayOfWeek                    0               0.00\n",
      "Weekend                      0               0.00\n",
      "Season                       0               0.00\n",
      "HourAMPM                     0               0.00\n",
      "TimeOfDay                    0               0.00\n",
      "FullStreet                   0               0.00\n",
      "lat                         48               0.19\n",
      "lon                         48               0.19\n",
      "neighborhood                 0               0.00\n",
      "zip                          0               0.00\n"
     ]
    }
   ],
   "source": [
    "missing_info = missing_percentage(df)\n",
    "print(missing_info)\n"
   ]
  },
  {
   "cell_type": "code",
   "execution_count": 13,
   "id": "1281de22",
   "metadata": {
    "execution": {
     "iopub.execute_input": "2025-07-11T01:09:07.103755Z",
     "iopub.status.busy": "2025-07-11T01:09:07.103255Z",
     "iopub.status.idle": "2025-07-11T01:09:07.134736Z",
     "shell.execute_reply": "2025-07-11T01:09:07.134153Z"
    },
    "papermill": {
     "duration": 0.040898,
     "end_time": "2025-07-11T01:09:07.135812",
     "exception": false,
     "start_time": "2025-07-11T01:09:07.094914",
     "status": "completed"
    },
    "tags": []
   },
   "outputs": [
    {
     "name": "stdout",
     "output_type": "stream",
     "text": [
      "<class 'pandas.core.frame.DataFrame'>\n",
      "RangeIndex: 25512 entries, 0 to 25511\n",
      "Data columns (total 20 columns):\n",
      " #   Column            Non-Null Count  Dtype         \n",
      "---  ------            --------------  -----         \n",
      " 0   RecordID          25512 non-null  int64         \n",
      " 1   Offense           25512 non-null  object        \n",
      " 2   IncidentID        25512 non-null  object        \n",
      " 3   BlockNumber       25512 non-null  object        \n",
      " 4   StreetName        25512 non-null  object        \n",
      " 5   Agency            25512 non-null  object        \n",
      " 6   HourReported      25512 non-null  object        \n",
      " 7   ReportingOfficer  25495 non-null  object        \n",
      " 8   Date              25512 non-null  datetime64[ns]\n",
      " 9   DateString        25512 non-null  object        \n",
      " 10  DayOfWeek         25512 non-null  object        \n",
      " 11  Weekend           25512 non-null  bool          \n",
      " 12  Season            25512 non-null  object        \n",
      " 13  HourAMPM          25512 non-null  object        \n",
      " 14  TimeOfDay         25512 non-null  object        \n",
      " 15  FullStreet        25512 non-null  object        \n",
      " 16  lat               25464 non-null  float64       \n",
      " 17  lon               25464 non-null  float64       \n",
      " 18  neighborhood      25512 non-null  object        \n",
      " 19  zip               25512 non-null  object        \n",
      "dtypes: bool(1), datetime64[ns](1), float64(2), int64(1), object(15)\n",
      "memory usage: 3.7+ MB\n"
     ]
    }
   ],
   "source": [
    "df.info()"
   ]
  },
  {
   "cell_type": "code",
   "execution_count": 14,
   "id": "8058b51f",
   "metadata": {
    "execution": {
     "iopub.execute_input": "2025-07-11T01:09:07.152521Z",
     "iopub.status.busy": "2025-07-11T01:09:07.152048Z",
     "iopub.status.idle": "2025-07-11T01:09:07.203608Z",
     "shell.execute_reply": "2025-07-11T01:09:07.202990Z"
    },
    "papermill": {
     "duration": 0.061184,
     "end_time": "2025-07-11T01:09:07.204784",
     "exception": false,
     "start_time": "2025-07-11T01:09:07.143600",
     "status": "completed"
    },
    "tags": []
   },
   "outputs": [
    {
     "data": {
      "text/html": [
       "<div>\n",
       "<style scoped>\n",
       "    .dataframe tbody tr th:only-of-type {\n",
       "        vertical-align: middle;\n",
       "    }\n",
       "\n",
       "    .dataframe tbody tr th {\n",
       "        vertical-align: top;\n",
       "    }\n",
       "\n",
       "    .dataframe thead th {\n",
       "        text-align: right;\n",
       "    }\n",
       "</style>\n",
       "<table border=\"1\" class=\"dataframe\">\n",
       "  <thead>\n",
       "    <tr style=\"text-align: right;\">\n",
       "      <th></th>\n",
       "      <th>RecordID</th>\n",
       "      <th>Offense</th>\n",
       "      <th>IncidentID</th>\n",
       "      <th>Agency</th>\n",
       "      <th>ReportingOfficer</th>\n",
       "      <th>Date</th>\n",
       "      <th>DayOfWeek</th>\n",
       "      <th>Weekend</th>\n",
       "      <th>Season</th>\n",
       "      <th>TimeOfDay</th>\n",
       "      <th>FullStreet</th>\n",
       "      <th>lat</th>\n",
       "      <th>lon</th>\n",
       "      <th>neighborhood</th>\n",
       "      <th>zip</th>\n",
       "    </tr>\n",
       "  </thead>\n",
       "  <tbody>\n",
       "    <tr>\n",
       "      <th>0</th>\n",
       "      <td>1</td>\n",
       "      <td>Assist Citizen - Mental/TDO/ECO</td>\n",
       "      <td>202500023705</td>\n",
       "      <td>CPD</td>\n",
       "      <td>Crowley, Raeann</td>\n",
       "      <td>2025-07-08 17:23:03</td>\n",
       "      <td>Tuesday</td>\n",
       "      <td>False</td>\n",
       "      <td>Summer</td>\n",
       "      <td>Evening</td>\n",
       "      <td>2100 MICHIE DR, 35B</td>\n",
       "      <td>38.062986</td>\n",
       "      <td>-78.483828</td>\n",
       "      <td>Greenbrier</td>\n",
       "      <td>22901</td>\n",
       "    </tr>\n",
       "    <tr>\n",
       "      <th>1</th>\n",
       "      <td>2</td>\n",
       "      <td>Shots Fired/Illegal Hunting</td>\n",
       "      <td>202500023699</td>\n",
       "      <td>CPD</td>\n",
       "      <td>Curry, Brian</td>\n",
       "      <td>2025-07-08 16:48:27</td>\n",
       "      <td>Tuesday</td>\n",
       "      <td>False</td>\n",
       "      <td>Summer</td>\n",
       "      <td>Afternoon</td>\n",
       "      <td>600 10 1/2 ST NW</td>\n",
       "      <td>38.039125</td>\n",
       "      <td>-78.492246</td>\n",
       "      <td>Venable</td>\n",
       "      <td>22903</td>\n",
       "    </tr>\n",
       "    <tr>\n",
       "      <th>2</th>\n",
       "      <td>3</td>\n",
       "      <td>Sex Offense - Forcible Sodomy</td>\n",
       "      <td>202500023694</td>\n",
       "      <td>CPD</td>\n",
       "      <td>O'Briant, Landon</td>\n",
       "      <td>2025-07-08 16:35:32</td>\n",
       "      <td>Tuesday</td>\n",
       "      <td>False</td>\n",
       "      <td>Summer</td>\n",
       "      <td>Afternoon</td>\n",
       "      <td>200 2ND ST NW</td>\n",
       "      <td>38.032199</td>\n",
       "      <td>-78.481542</td>\n",
       "      <td>North Downtown</td>\n",
       "      <td>22902</td>\n",
       "    </tr>\n",
       "    <tr>\n",
       "      <th>3</th>\n",
       "      <td>4</td>\n",
       "      <td>Vandalism</td>\n",
       "      <td>202500023691</td>\n",
       "      <td>CPD</td>\n",
       "      <td>Benbow, Lauren</td>\n",
       "      <td>2025-07-08 16:22:29</td>\n",
       "      <td>Tuesday</td>\n",
       "      <td>False</td>\n",
       "      <td>Summer</td>\n",
       "      <td>Afternoon</td>\n",
       "      <td>1100 E MARKET ST</td>\n",
       "      <td>38.02792</td>\n",
       "      <td>-78.47211</td>\n",
       "      <td>Martha Jefferson</td>\n",
       "      <td>22902</td>\n",
       "    </tr>\n",
       "    <tr>\n",
       "      <th>4</th>\n",
       "      <td>5</td>\n",
       "      <td>Larceny - Shoplifitng</td>\n",
       "      <td>202500023686</td>\n",
       "      <td>CPD</td>\n",
       "      <td>Benbow, Lauren</td>\n",
       "      <td>2025-07-08 16:12:33</td>\n",
       "      <td>Tuesday</td>\n",
       "      <td>False</td>\n",
       "      <td>Summer</td>\n",
       "      <td>Afternoon</td>\n",
       "      <td>500 W MAIN ST</td>\n",
       "      <td>38.030793</td>\n",
       "      <td>-78.487912</td>\n",
       "      <td>Starr Hill</td>\n",
       "      <td>22903</td>\n",
       "    </tr>\n",
       "  </tbody>\n",
       "</table>\n",
       "</div>"
      ],
      "text/plain": [
       "   RecordID                          Offense    IncidentID Agency  \\\n",
       "0         1  Assist Citizen - Mental/TDO/ECO  202500023705    CPD   \n",
       "1         2      Shots Fired/Illegal Hunting  202500023699    CPD   \n",
       "2         3    Sex Offense - Forcible Sodomy  202500023694    CPD   \n",
       "3         4                        Vandalism  202500023691    CPD   \n",
       "4         5            Larceny - Shoplifitng  202500023686    CPD   \n",
       "\n",
       "   ReportingOfficer                Date DayOfWeek  Weekend  Season  TimeOfDay  \\\n",
       "0   Crowley, Raeann 2025-07-08 17:23:03   Tuesday    False  Summer    Evening   \n",
       "1      Curry, Brian 2025-07-08 16:48:27   Tuesday    False  Summer  Afternoon   \n",
       "2  O'Briant, Landon 2025-07-08 16:35:32   Tuesday    False  Summer  Afternoon   \n",
       "3    Benbow, Lauren 2025-07-08 16:22:29   Tuesday    False  Summer  Afternoon   \n",
       "4    Benbow, Lauren 2025-07-08 16:12:33   Tuesday    False  Summer  Afternoon   \n",
       "\n",
       "            FullStreet        lat        lon      neighborhood    zip  \n",
       "0  2100 MICHIE DR, 35B  38.062986 -78.483828        Greenbrier  22901  \n",
       "1     600 10 1/2 ST NW  38.039125 -78.492246           Venable  22903  \n",
       "2        200 2ND ST NW  38.032199 -78.481542    North Downtown  22902  \n",
       "3     1100 E MARKET ST   38.02792  -78.47211  Martha Jefferson  22902  \n",
       "4        500 W MAIN ST  38.030793 -78.487912        Starr Hill  22903  "
      ]
     },
     "execution_count": 14,
     "metadata": {},
     "output_type": "execute_result"
    }
   ],
   "source": [
    "# Now drop the original BlockNumber and StreetName columns\n",
    "df.drop(columns=['BlockNumber', 'StreetName','HourAMPM','HourReported','DateString'], inplace=True)\n",
    "df[\"zip\"] = df[\"zip\"].astype(str)\n",
    "\n",
    "# Fill all missing values in the DataFrame with \"N/A\"\n",
    "df.replace({None: \"N/A\", np.nan: \"N/A\", \"\": \"N/A\"}, inplace=True)\n",
    "df.head()"
   ]
  },
  {
   "cell_type": "code",
   "execution_count": 15,
   "id": "663eb854",
   "metadata": {
    "execution": {
     "iopub.execute_input": "2025-07-11T01:09:07.223008Z",
     "iopub.status.busy": "2025-07-11T01:09:07.222388Z",
     "iopub.status.idle": "2025-07-11T01:09:07.245332Z",
     "shell.execute_reply": "2025-07-11T01:09:07.244756Z"
    },
    "papermill": {
     "duration": 0.033444,
     "end_time": "2025-07-11T01:09:07.246346",
     "exception": false,
     "start_time": "2025-07-11T01:09:07.212902",
     "status": "completed"
    },
    "tags": []
   },
   "outputs": [
    {
     "name": "stdout",
     "output_type": "stream",
     "text": [
      "                  MissingCount  MissingPercentage\n",
      "RecordID                     0                0.0\n",
      "Offense                      0                0.0\n",
      "IncidentID                   0                0.0\n",
      "Agency                       0                0.0\n",
      "ReportingOfficer             0                0.0\n",
      "Date                         0                0.0\n",
      "DayOfWeek                    0                0.0\n",
      "Weekend                      0                0.0\n",
      "Season                       0                0.0\n",
      "TimeOfDay                    0                0.0\n",
      "FullStreet                   0                0.0\n",
      "lat                          0                0.0\n",
      "lon                          0                0.0\n",
      "neighborhood                 0                0.0\n",
      "zip                          0                0.0\n"
     ]
    }
   ],
   "source": [
    "missing_info = missing_percentage(df)\n",
    "print(missing_info)"
   ]
  },
  {
   "cell_type": "code",
   "execution_count": 16,
   "id": "9fce5df2",
   "metadata": {
    "execution": {
     "iopub.execute_input": "2025-07-11T01:09:07.263657Z",
     "iopub.status.busy": "2025-07-11T01:09:07.263142Z",
     "iopub.status.idle": "2025-07-11T01:09:07.267928Z",
     "shell.execute_reply": "2025-07-11T01:09:07.267253Z"
    },
    "papermill": {
     "duration": 0.014536,
     "end_time": "2025-07-11T01:09:07.268965",
     "exception": false,
     "start_time": "2025-07-11T01:09:07.254429",
     "status": "completed"
    },
    "tags": []
   },
   "outputs": [
    {
     "data": {
      "text/plain": [
       "Index(['RecordID', 'Offense', 'IncidentID', 'Agency', 'ReportingOfficer',\n",
       "       'Date', 'DayOfWeek', 'Weekend', 'Season', 'TimeOfDay', 'FullStreet',\n",
       "       'lat', 'lon', 'neighborhood', 'zip'],\n",
       "      dtype='object')"
      ]
     },
     "execution_count": 16,
     "metadata": {},
     "output_type": "execute_result"
    }
   ],
   "source": [
    "df.columns"
   ]
  },
  {
   "cell_type": "code",
   "execution_count": 17,
   "id": "158b76f9",
   "metadata": {
    "execution": {
     "iopub.execute_input": "2025-07-11T01:09:07.286381Z",
     "iopub.status.busy": "2025-07-11T01:09:07.285905Z",
     "iopub.status.idle": "2025-07-11T01:09:07.310277Z",
     "shell.execute_reply": "2025-07-11T01:09:07.309673Z"
    },
    "papermill": {
     "duration": 0.034335,
     "end_time": "2025-07-11T01:09:07.311389",
     "exception": false,
     "start_time": "2025-07-11T01:09:07.277054",
     "status": "completed"
    },
    "tags": []
   },
   "outputs": [
    {
     "name": "stdout",
     "output_type": "stream",
     "text": [
      "<class 'pandas.core.frame.DataFrame'>\n",
      "RangeIndex: 25512 entries, 0 to 25511\n",
      "Data columns (total 15 columns):\n",
      " #   Column            Non-Null Count  Dtype         \n",
      "---  ------            --------------  -----         \n",
      " 0   RecordID          25512 non-null  int64         \n",
      " 1   Offense           25512 non-null  object        \n",
      " 2   IncidentID        25512 non-null  object        \n",
      " 3   Agency            25512 non-null  object        \n",
      " 4   ReportingOfficer  25512 non-null  object        \n",
      " 5   Date              25512 non-null  datetime64[ns]\n",
      " 6   DayOfWeek         25512 non-null  object        \n",
      " 7   Weekend           25512 non-null  bool          \n",
      " 8   Season            25512 non-null  object        \n",
      " 9   TimeOfDay         25512 non-null  object        \n",
      " 10  FullStreet        25512 non-null  object        \n",
      " 11  lat               25512 non-null  object        \n",
      " 12  lon               25512 non-null  object        \n",
      " 13  neighborhood      25512 non-null  object        \n",
      " 14  zip               25512 non-null  object        \n",
      "dtypes: bool(1), datetime64[ns](1), int64(1), object(12)\n",
      "memory usage: 2.7+ MB\n"
     ]
    }
   ],
   "source": [
    "df.info()"
   ]
  },
  {
   "cell_type": "markdown",
   "id": "755a652a",
   "metadata": {
    "papermill": {
     "duration": 0.008025,
     "end_time": "2025-07-11T01:09:07.327714",
     "exception": false,
     "start_time": "2025-07-11T01:09:07.319689",
     "status": "completed"
    },
    "tags": []
   },
   "source": [
    "### Export Clean Data"
   ]
  },
  {
   "cell_type": "code",
   "execution_count": 18,
   "id": "2f7f1db9",
   "metadata": {
    "execution": {
     "iopub.execute_input": "2025-07-11T01:09:07.345174Z",
     "iopub.status.busy": "2025-07-11T01:09:07.344669Z",
     "iopub.status.idle": "2025-07-11T01:09:16.480246Z",
     "shell.execute_reply": "2025-07-11T01:09:16.479642Z"
    },
    "papermill": {
     "duration": 9.1455,
     "end_time": "2025-07-11T01:09:16.481240",
     "exception": false,
     "start_time": "2025-07-11T01:09:07.335740",
     "status": "completed"
    },
    "tags": []
   },
   "outputs": [
    {
     "name": "stdout",
     "output_type": "stream",
     "text": [
      "Project Root: /home/runner/work/crime-data/crime-data\n"
     ]
    },
    {
     "name": "stdout",
     "output_type": "stream",
     "text": [
      "Data saved to: /home/runner/work/crime-data/crime-data/data/charlottesville_crime_incidents.csv\n"
     ]
    },
    {
     "name": "stdout",
     "output_type": "stream",
     "text": [
      "Excel saved to: /home/runner/work/crime-data/crime-data/data/charlottesville_crime_incidents.xlsx\n"
     ]
    }
   ],
   "source": [
    "# Determine the project root (assuming papermill is run from the repository root)\n",
    "project_root = os.getcwd()\n",
    "print(\"Project Root:\", project_root)\n",
    "\n",
    "# Set the data directory within the project root\n",
    "data_dir = os.path.join(project_root, \"data\")\n",
    "\n",
    "# Ensure the \"data\" directory exists (create it if it doesn't)\n",
    "if not os.path.exists(data_dir):\n",
    "    os.makedirs(data_dir)\n",
    "\n",
    "# Export the DataFrame to CSV in the \"data\" folder located in the project root\n",
    "csv_path = os.path.join(data_dir, \"charlottesville_crime_incidents.csv\")\n",
    "df.to_csv(csv_path, index=False)\n",
    "print(\"Data saved to:\", csv_path)\n",
    "\n",
    "# Construct the path to your Excel file\n",
    "excel_path = os.path.join(data_dir, \"charlottesville_crime_incidents.xlsx\")\n",
    "\n",
    "# Export the DataFrame to Excel\n",
    "df.to_excel(excel_path, index=False)\n",
    "print(\"Excel saved to:\", excel_path)\n"
   ]
  }
 ],
 "metadata": {
  "kernelspec": {
   "display_name": "Python 3",
   "language": "python",
   "name": "python3"
  },
  "language_info": {
   "codemirror_mode": {
    "name": "ipython",
    "version": 3
   },
   "file_extension": ".py",
   "mimetype": "text/x-python",
   "name": "python",
   "nbconvert_exporter": "python",
   "pygments_lexer": "ipython3",
   "version": "3.9.23"
  },
  "papermill": {
   "default_parameters": {},
   "duration": 127.892702,
   "end_time": "2025-07-11T01:09:16.905915",
   "environment_variables": {},
   "exception": null,
   "input_path": "notebook/Crime Data.ipynb",
   "output_path": "notebook/Crime Data_output.ipynb",
   "parameters": {},
   "start_time": "2025-07-11T01:07:09.013213",
   "version": "2.6.0"
  }
 },
 "nbformat": 4,
 "nbformat_minor": 5
}