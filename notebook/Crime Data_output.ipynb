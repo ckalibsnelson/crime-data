{
 "cells": [
  {
   "cell_type": "markdown",
   "id": "dc314615",
   "metadata": {
    "papermill": {
     "duration": 0.006029,
     "end_time": "2025-05-26T01:04:42.461620",
     "exception": false,
     "start_time": "2025-05-26T01:04:42.455591",
     "status": "completed"
    },
    "tags": []
   },
   "source": [
    "# Charlottesville Open Data Porttal: Crime Data"
   ]
  },
  {
   "cell_type": "markdown",
   "id": "753764e1",
   "metadata": {
    "papermill": {
     "duration": 0.005051,
     "end_time": "2025-05-26T01:04:42.472064",
     "exception": false,
     "start_time": "2025-05-26T01:04:42.467013",
     "status": "completed"
    },
    "tags": []
   },
   "source": [
    "## Import Relevant Librarires & Set WD"
   ]
  },
  {
   "cell_type": "code",
   "execution_count": 1,
   "id": "c0a941b1",
   "metadata": {
    "execution": {
     "iopub.execute_input": "2025-05-26T01:04:42.483585Z",
     "iopub.status.busy": "2025-05-26T01:04:42.483109Z",
     "iopub.status.idle": "2025-05-26T01:04:42.999274Z",
     "shell.execute_reply": "2025-05-26T01:04:42.998595Z"
    },
    "papermill": {
     "duration": 0.523476,
     "end_time": "2025-05-26T01:04:43.000626",
     "exception": false,
     "start_time": "2025-05-26T01:04:42.477150",
     "status": "completed"
    },
    "tags": []
   },
   "outputs": [],
   "source": [
    "import requests\n",
    "import pandas as pd\n",
    "import numpy as np\n",
    "import pickle\n",
    "import googlemaps\n",
    "import plotly.express as px\n",
    "from geopy.geocoders import Nominatim\n",
    "import time\n",
    "from dotenv import load_dotenv\n",
    "import os\n",
    "\n",
    "env_path = os.path.join(\"..\", \".env\")\n",
    "#print(\"Looking for .env file at:\", os.path.abspath(env_path))\n",
    "load_dotenv(dotenv_path=env_path)\n",
    "\n",
    "# Retrieve the variables\n",
    "GOOGLE_API_KEY = os.getenv(\"GOOGLE_API_KEY\")\n",
    "WORKING_DIR = os.getenv(\"WORKING_DIR\")\n",
    "\n",
    "if GOOGLE_API_KEY is None or WORKING_DIR is None:\n",
    "    raise RuntimeError(\"No configuration found. Please ensure that your .env file exists with the required variables, or create a local config.py file.\")\n",
    "\n",
    "#print(\"Google API Key:\", GOOGLE_API_KEY)\n",
    "#print(\"Working Directory:\", WORKING_DIR)"
   ]
  },
  {
   "cell_type": "markdown",
   "id": "d768d10e",
   "metadata": {
    "papermill": {
     "duration": 0.005055,
     "end_time": "2025-05-26T01:04:43.011110",
     "exception": false,
     "start_time": "2025-05-26T01:04:43.006055",
     "status": "completed"
    },
    "tags": []
   },
   "source": [
    "## Import Data\n",
    "\n",
    "URL: https://opendata.charlottesville.org/datasets/charlottesville::crime-data/about"
   ]
  },
  {
   "cell_type": "code",
   "execution_count": 2,
   "id": "c613faf2",
   "metadata": {
    "execution": {
     "iopub.execute_input": "2025-05-26T01:04:43.023119Z",
     "iopub.status.busy": "2025-05-26T01:04:43.022551Z",
     "iopub.status.idle": "2025-05-26T01:05:39.156672Z",
     "shell.execute_reply": "2025-05-26T01:05:39.155907Z"
    },
    "papermill": {
     "duration": 56.167205,
     "end_time": "2025-05-26T01:05:39.183977",
     "exception": false,
     "start_time": "2025-05-26T01:04:43.016772",
     "status": "completed"
    },
    "tags": []
   },
   "outputs": [
    {
     "name": "stdout",
     "output_type": "stream",
     "text": [
      "Total records imported: 25428\n"
     ]
    }
   ],
   "source": [
    "# Define the endpoint and initial parameters.\n",
    "url = \"https://gisweb.charlottesville.org/arcgis/rest/services/OpenData_2/MapServer/6/query\"\n",
    "params = {\n",
    "    \"where\": \"1=1\",\n",
    "    \"outFields\": \"*\",\n",
    "    \"outSR\": 4326,\n",
    "    \"f\": \"json\",\n",
    "    \"resultOffset\": 0,       # Starting index for results\n",
    "    \"resultRecordCount\": 10000  # Maximum records per batch (if allowed by the API)\n",
    "}\n",
    "\n",
    "records = []\n",
    "\n",
    "while True:\n",
    "    response = requests.get(url, params=params)\n",
    "    response.raise_for_status()\n",
    "    data = response.json()\n",
    "    \n",
    "    # Get the current batch of features.\n",
    "    features = data.get(\"features\", [])\n",
    "    if not features:\n",
    "        break\n",
    "\n",
    "    # Extract the attributes from the features.\n",
    "    batch_records = [feature.get(\"attributes\", {}) for feature in features]\n",
    "    records.extend(batch_records)\n",
    "    \n",
    "    # If the batch size is less than the requested count, we reached the end.\n",
    "    if len(features) < params[\"resultRecordCount\"]:\n",
    "        break\n",
    "\n",
    "    # Update the resultOffset for the next batch.\n",
    "    params[\"resultOffset\"] += params[\"resultRecordCount\"]\n",
    "\n",
    "# Create a DataFrame from the combined records.\n",
    "df = pd.DataFrame(records)\n",
    "print(\"Total records imported:\", len(df))\n"
   ]
  },
  {
   "cell_type": "code",
   "execution_count": 3,
   "id": "64da3ef7",
   "metadata": {
    "execution": {
     "iopub.execute_input": "2025-05-26T01:05:39.195978Z",
     "iopub.status.busy": "2025-05-26T01:05:39.195337Z",
     "iopub.status.idle": "2025-05-26T01:05:39.207751Z",
     "shell.execute_reply": "2025-05-26T01:05:39.207217Z"
    },
    "papermill": {
     "duration": 0.01948,
     "end_time": "2025-05-26T01:05:39.208742",
     "exception": false,
     "start_time": "2025-05-26T01:05:39.189262",
     "status": "completed"
    },
    "tags": []
   },
   "outputs": [
    {
     "data": {
      "text/html": [
       "<div>\n",
       "<style scoped>\n",
       "    .dataframe tbody tr th:only-of-type {\n",
       "        vertical-align: middle;\n",
       "    }\n",
       "\n",
       "    .dataframe tbody tr th {\n",
       "        vertical-align: top;\n",
       "    }\n",
       "\n",
       "    .dataframe thead th {\n",
       "        text-align: right;\n",
       "    }\n",
       "</style>\n",
       "<table border=\"1\" class=\"dataframe\">\n",
       "  <thead>\n",
       "    <tr style=\"text-align: right;\">\n",
       "      <th></th>\n",
       "      <th>RecordID</th>\n",
       "      <th>Offense</th>\n",
       "      <th>IncidentID</th>\n",
       "      <th>BlockNumber</th>\n",
       "      <th>StreetName</th>\n",
       "      <th>Agency</th>\n",
       "      <th>DateReported</th>\n",
       "      <th>HourReported</th>\n",
       "      <th>ReportingOfficer</th>\n",
       "    </tr>\n",
       "  </thead>\n",
       "  <tbody>\n",
       "    <tr>\n",
       "      <th>0</th>\n",
       "      <td>1</td>\n",
       "      <td>Disorderly Conduct</td>\n",
       "      <td>202500017669</td>\n",
       "      <td>1400</td>\n",
       "      <td>UNIVERSITY AVE</td>\n",
       "      <td>CPD</td>\n",
       "      <td>1748059202000</td>\n",
       "      <td>0000</td>\n",
       "      <td>Ritter, Kobe</td>\n",
       "    </tr>\n",
       "    <tr>\n",
       "      <th>1</th>\n",
       "      <td>2</td>\n",
       "      <td>Lost/FoundProperty</td>\n",
       "      <td>202500017626</td>\n",
       "      <td>2300</td>\n",
       "      <td>DELLMEAD LN</td>\n",
       "      <td>CPD</td>\n",
       "      <td>1748041641000</td>\n",
       "      <td>1907</td>\n",
       "      <td>Rigsby, Lloyd</td>\n",
       "    </tr>\n",
       "    <tr>\n",
       "      <th>2</th>\n",
       "      <td>3</td>\n",
       "      <td>Sex Offense-forcible fondling</td>\n",
       "      <td>202500017618</td>\n",
       "      <td>1500</td>\n",
       "      <td>ANTOINETTE AVE, B</td>\n",
       "      <td>CPD</td>\n",
       "      <td>1748038107000</td>\n",
       "      <td>1808</td>\n",
       "      <td>Bentz, Benjamin</td>\n",
       "    </tr>\n",
       "    <tr>\n",
       "      <th>3</th>\n",
       "      <td>4</td>\n",
       "      <td>Death Investigation - DOA</td>\n",
       "      <td>202500017593</td>\n",
       "      <td>800</td>\n",
       "      <td>ORANGEDALE AVE</td>\n",
       "      <td>CPD</td>\n",
       "      <td>1748025449000</td>\n",
       "      <td>1437</td>\n",
       "      <td>Kinney, Dylan</td>\n",
       "    </tr>\n",
       "    <tr>\n",
       "      <th>4</th>\n",
       "      <td>5</td>\n",
       "      <td>Assault Simple</td>\n",
       "      <td>202500017536</td>\n",
       "      <td>300</td>\n",
       "      <td>PRESTON AVE</td>\n",
       "      <td>CPD</td>\n",
       "      <td>1747978335000</td>\n",
       "      <td>0132</td>\n",
       "      <td>McLeod, Dustin</td>\n",
       "    </tr>\n",
       "  </tbody>\n",
       "</table>\n",
       "</div>"
      ],
      "text/plain": [
       "   RecordID                        Offense    IncidentID BlockNumber  \\\n",
       "0         1             Disorderly Conduct  202500017669        1400   \n",
       "1         2             Lost/FoundProperty  202500017626        2300   \n",
       "2         3  Sex Offense-forcible fondling  202500017618        1500   \n",
       "3         4      Death Investigation - DOA  202500017593         800   \n",
       "4         5                 Assault Simple  202500017536         300   \n",
       "\n",
       "          StreetName Agency   DateReported HourReported  ReportingOfficer  \n",
       "0     UNIVERSITY AVE    CPD  1748059202000         0000      Ritter, Kobe  \n",
       "1        DELLMEAD LN    CPD  1748041641000         1907     Rigsby, Lloyd  \n",
       "2  ANTOINETTE AVE, B    CPD  1748038107000         1808  Bentz, Benjamin   \n",
       "3     ORANGEDALE AVE    CPD  1748025449000         1437     Kinney, Dylan  \n",
       "4        PRESTON AVE    CPD  1747978335000         0132    McLeod, Dustin  "
      ]
     },
     "execution_count": 3,
     "metadata": {},
     "output_type": "execute_result"
    }
   ],
   "source": [
    "df.head()"
   ]
  },
  {
   "cell_type": "code",
   "execution_count": 4,
   "id": "59499f3b",
   "metadata": {
    "execution": {
     "iopub.execute_input": "2025-05-26T01:05:39.220408Z",
     "iopub.status.busy": "2025-05-26T01:05:39.219907Z",
     "iopub.status.idle": "2025-05-26T01:05:39.224167Z",
     "shell.execute_reply": "2025-05-26T01:05:39.223622Z"
    },
    "papermill": {
     "duration": 0.011099,
     "end_time": "2025-05-26T01:05:39.225167",
     "exception": false,
     "start_time": "2025-05-26T01:05:39.214068",
     "status": "completed"
    },
    "tags": []
   },
   "outputs": [
    {
     "data": {
      "text/plain": [
       "Index(['RecordID', 'Offense', 'IncidentID', 'BlockNumber', 'StreetName',\n",
       "       'Agency', 'DateReported', 'HourReported', 'ReportingOfficer'],\n",
       "      dtype='object')"
      ]
     },
     "execution_count": 4,
     "metadata": {},
     "output_type": "execute_result"
    }
   ],
   "source": [
    "df.columns"
   ]
  },
  {
   "cell_type": "code",
   "execution_count": 5,
   "id": "8222efba",
   "metadata": {
    "execution": {
     "iopub.execute_input": "2025-05-26T01:05:39.237124Z",
     "iopub.status.busy": "2025-05-26T01:05:39.236633Z",
     "iopub.status.idle": "2025-05-26T01:05:39.258748Z",
     "shell.execute_reply": "2025-05-26T01:05:39.258211Z"
    },
    "papermill": {
     "duration": 0.029221,
     "end_time": "2025-05-26T01:05:39.259811",
     "exception": false,
     "start_time": "2025-05-26T01:05:39.230590",
     "status": "completed"
    },
    "tags": []
   },
   "outputs": [
    {
     "name": "stdout",
     "output_type": "stream",
     "text": [
      "<class 'pandas.core.frame.DataFrame'>\n",
      "RangeIndex: 25428 entries, 0 to 25427\n",
      "Data columns (total 9 columns):\n",
      " #   Column            Non-Null Count  Dtype \n",
      "---  ------            --------------  ----- \n",
      " 0   RecordID          25428 non-null  int64 \n",
      " 1   Offense           25428 non-null  object\n",
      " 2   IncidentID        25428 non-null  object\n",
      " 3   BlockNumber       25428 non-null  object\n",
      " 4   StreetName        25428 non-null  object\n",
      " 5   Agency            25428 non-null  object\n",
      " 6   DateReported      25428 non-null  int64 \n",
      " 7   HourReported      25428 non-null  object\n",
      " 8   ReportingOfficer  25411 non-null  object\n",
      "dtypes: int64(2), object(7)\n",
      "memory usage: 1.7+ MB\n"
     ]
    }
   ],
   "source": [
    "df.info()"
   ]
  },
  {
   "cell_type": "markdown",
   "id": "3ac6806a",
   "metadata": {
    "papermill": {
     "duration": 0.005519,
     "end_time": "2025-05-26T01:05:39.271069",
     "exception": false,
     "start_time": "2025-05-26T01:05:39.265550",
     "status": "completed"
    },
    "tags": []
   },
   "source": [
    "### Missing Values"
   ]
  },
  {
   "cell_type": "code",
   "execution_count": 6,
   "id": "0ebc5e31",
   "metadata": {
    "execution": {
     "iopub.execute_input": "2025-05-26T01:05:39.283157Z",
     "iopub.status.busy": "2025-05-26T01:05:39.282666Z",
     "iopub.status.idle": "2025-05-26T01:05:39.301925Z",
     "shell.execute_reply": "2025-05-26T01:05:39.301394Z"
    },
    "papermill": {
     "duration": 0.026446,
     "end_time": "2025-05-26T01:05:39.302958",
     "exception": false,
     "start_time": "2025-05-26T01:05:39.276512",
     "status": "completed"
    },
    "tags": []
   },
   "outputs": [
    {
     "name": "stdout",
     "output_type": "stream",
     "text": [
      "                  MissingCount  MissingPercentage\n",
      "RecordID                     0               0.00\n",
      "Offense                      0               0.00\n",
      "IncidentID                   0               0.00\n",
      "BlockNumber                  0               0.00\n",
      "StreetName                   0               0.00\n",
      "Agency                       0               0.00\n",
      "DateReported                 0               0.00\n",
      "HourReported                 0               0.00\n",
      "ReportingOfficer            17               0.07\n"
     ]
    }
   ],
   "source": [
    "def missing_percentage(df):\n",
    "    \"\"\"\n",
    "    Returns a DataFrame with the count and percentage of missing values for each column.\n",
    "    \n",
    "    Parameters:\n",
    "        df (pd.DataFrame): The input DataFrame.\n",
    "    \n",
    "    Returns:\n",
    "        pd.DataFrame: A DataFrame with columns 'MissingCount' and 'MissingPercentage'.\n",
    "    \"\"\"\n",
    "    total_rows = len(df)\n",
    "    missing_count = df.isnull().sum()\n",
    "    missing_percent = (missing_count / total_rows) * 100\n",
    "    \n",
    "    result = pd.DataFrame({\n",
    "        'MissingCount': missing_count,\n",
    "        'MissingPercentage': missing_percent.round(2)\n",
    "    })\n",
    "    \n",
    "    return result\n",
    "\n",
    "# Example usage:\n",
    "missing_info = missing_percentage(df)\n",
    "print(missing_info)\n"
   ]
  },
  {
   "cell_type": "markdown",
   "id": "a32e56f0",
   "metadata": {
    "papermill": {
     "duration": 0.005616,
     "end_time": "2025-05-26T01:05:39.314415",
     "exception": false,
     "start_time": "2025-05-26T01:05:39.308799",
     "status": "completed"
    },
    "tags": []
   },
   "source": [
    "## Data Preparation"
   ]
  },
  {
   "cell_type": "markdown",
   "id": "496ca99a",
   "metadata": {
    "papermill": {
     "duration": 0.005521,
     "end_time": "2025-05-26T01:05:39.325489",
     "exception": false,
     "start_time": "2025-05-26T01:05:39.319968",
     "status": "completed"
    },
    "tags": []
   },
   "source": [
    "### Data Conversion"
   ]
  },
  {
   "cell_type": "code",
   "execution_count": 7,
   "id": "58a6ef46",
   "metadata": {
    "execution": {
     "iopub.execute_input": "2025-05-26T01:05:39.337459Z",
     "iopub.status.busy": "2025-05-26T01:05:39.337272Z",
     "iopub.status.idle": "2025-05-26T01:05:39.700300Z",
     "shell.execute_reply": "2025-05-26T01:05:39.699617Z"
    },
    "papermill": {
     "duration": 0.370247,
     "end_time": "2025-05-26T01:05:39.701300",
     "exception": false,
     "start_time": "2025-05-26T01:05:39.331053",
     "status": "completed"
    },
    "tags": []
   },
   "outputs": [
    {
     "data": {
      "text/html": [
       "<div>\n",
       "<style scoped>\n",
       "    .dataframe tbody tr th:only-of-type {\n",
       "        vertical-align: middle;\n",
       "    }\n",
       "\n",
       "    .dataframe tbody tr th {\n",
       "        vertical-align: top;\n",
       "    }\n",
       "\n",
       "    .dataframe thead th {\n",
       "        text-align: right;\n",
       "    }\n",
       "</style>\n",
       "<table border=\"1\" class=\"dataframe\">\n",
       "  <thead>\n",
       "    <tr style=\"text-align: right;\">\n",
       "      <th></th>\n",
       "      <th>RecordID</th>\n",
       "      <th>Offense</th>\n",
       "      <th>IncidentID</th>\n",
       "      <th>BlockNumber</th>\n",
       "      <th>StreetName</th>\n",
       "      <th>Agency</th>\n",
       "      <th>HourReported</th>\n",
       "      <th>ReportingOfficer</th>\n",
       "      <th>Date</th>\n",
       "      <th>DateString</th>\n",
       "      <th>DayOfWeek</th>\n",
       "      <th>Weekend</th>\n",
       "      <th>Season</th>\n",
       "      <th>HourAMPM</th>\n",
       "      <th>TimeOfDay</th>\n",
       "    </tr>\n",
       "  </thead>\n",
       "  <tbody>\n",
       "    <tr>\n",
       "      <th>0</th>\n",
       "      <td>1</td>\n",
       "      <td>Disorderly Conduct</td>\n",
       "      <td>202500017669</td>\n",
       "      <td>1400</td>\n",
       "      <td>UNIVERSITY AVE</td>\n",
       "      <td>CPD</td>\n",
       "      <td>0000</td>\n",
       "      <td>Ritter, Kobe</td>\n",
       "      <td>2025-05-24 00:00:02</td>\n",
       "      <td>2025-05-24 12:00:02 AM</td>\n",
       "      <td>Saturday</td>\n",
       "      <td>True</td>\n",
       "      <td>Spring</td>\n",
       "      <td>12:00 AM</td>\n",
       "      <td>Night</td>\n",
       "    </tr>\n",
       "    <tr>\n",
       "      <th>1</th>\n",
       "      <td>2</td>\n",
       "      <td>Lost/FoundProperty</td>\n",
       "      <td>202500017626</td>\n",
       "      <td>2300</td>\n",
       "      <td>DELLMEAD LN</td>\n",
       "      <td>CPD</td>\n",
       "      <td>1907</td>\n",
       "      <td>Rigsby, Lloyd</td>\n",
       "      <td>2025-05-23 19:07:21</td>\n",
       "      <td>2025-05-23 07:07:21 PM</td>\n",
       "      <td>Friday</td>\n",
       "      <td>False</td>\n",
       "      <td>Spring</td>\n",
       "      <td>07:07 PM</td>\n",
       "      <td>Evening</td>\n",
       "    </tr>\n",
       "    <tr>\n",
       "      <th>2</th>\n",
       "      <td>3</td>\n",
       "      <td>Sex Offense-forcible fondling</td>\n",
       "      <td>202500017618</td>\n",
       "      <td>1500</td>\n",
       "      <td>ANTOINETTE AVE, B</td>\n",
       "      <td>CPD</td>\n",
       "      <td>1808</td>\n",
       "      <td>Bentz, Benjamin</td>\n",
       "      <td>2025-05-23 18:08:27</td>\n",
       "      <td>2025-05-23 06:08:27 PM</td>\n",
       "      <td>Friday</td>\n",
       "      <td>False</td>\n",
       "      <td>Spring</td>\n",
       "      <td>06:08 PM</td>\n",
       "      <td>Evening</td>\n",
       "    </tr>\n",
       "    <tr>\n",
       "      <th>3</th>\n",
       "      <td>4</td>\n",
       "      <td>Death Investigation - DOA</td>\n",
       "      <td>202500017593</td>\n",
       "      <td>800</td>\n",
       "      <td>ORANGEDALE AVE</td>\n",
       "      <td>CPD</td>\n",
       "      <td>1437</td>\n",
       "      <td>Kinney, Dylan</td>\n",
       "      <td>2025-05-23 14:37:29</td>\n",
       "      <td>2025-05-23 02:37:29 PM</td>\n",
       "      <td>Friday</td>\n",
       "      <td>False</td>\n",
       "      <td>Spring</td>\n",
       "      <td>02:37 PM</td>\n",
       "      <td>Afternoon</td>\n",
       "    </tr>\n",
       "    <tr>\n",
       "      <th>4</th>\n",
       "      <td>5</td>\n",
       "      <td>Assault Simple</td>\n",
       "      <td>202500017536</td>\n",
       "      <td>300</td>\n",
       "      <td>PRESTON AVE</td>\n",
       "      <td>CPD</td>\n",
       "      <td>0132</td>\n",
       "      <td>McLeod, Dustin</td>\n",
       "      <td>2025-05-23 01:32:15</td>\n",
       "      <td>2025-05-23 01:32:15 AM</td>\n",
       "      <td>Friday</td>\n",
       "      <td>False</td>\n",
       "      <td>Spring</td>\n",
       "      <td>01:32 AM</td>\n",
       "      <td>Night</td>\n",
       "    </tr>\n",
       "  </tbody>\n",
       "</table>\n",
       "</div>"
      ],
      "text/plain": [
       "   RecordID                        Offense    IncidentID BlockNumber  \\\n",
       "0         1             Disorderly Conduct  202500017669        1400   \n",
       "1         2             Lost/FoundProperty  202500017626        2300   \n",
       "2         3  Sex Offense-forcible fondling  202500017618        1500   \n",
       "3         4      Death Investigation - DOA  202500017593         800   \n",
       "4         5                 Assault Simple  202500017536         300   \n",
       "\n",
       "          StreetName Agency HourReported  ReportingOfficer  \\\n",
       "0     UNIVERSITY AVE    CPD         0000      Ritter, Kobe   \n",
       "1        DELLMEAD LN    CPD         1907     Rigsby, Lloyd   \n",
       "2  ANTOINETTE AVE, B    CPD         1808  Bentz, Benjamin    \n",
       "3     ORANGEDALE AVE    CPD         1437     Kinney, Dylan   \n",
       "4        PRESTON AVE    CPD         0132    McLeod, Dustin   \n",
       "\n",
       "                 Date              DateString DayOfWeek  Weekend  Season  \\\n",
       "0 2025-05-24 00:00:02  2025-05-24 12:00:02 AM  Saturday     True  Spring   \n",
       "1 2025-05-23 19:07:21  2025-05-23 07:07:21 PM    Friday    False  Spring   \n",
       "2 2025-05-23 18:08:27  2025-05-23 06:08:27 PM    Friday    False  Spring   \n",
       "3 2025-05-23 14:37:29  2025-05-23 02:37:29 PM    Friday    False  Spring   \n",
       "4 2025-05-23 01:32:15  2025-05-23 01:32:15 AM    Friday    False  Spring   \n",
       "\n",
       "   HourAMPM  TimeOfDay  \n",
       "0  12:00 AM      Night  \n",
       "1  07:07 PM    Evening  \n",
       "2  06:08 PM    Evening  \n",
       "3  02:37 PM  Afternoon  \n",
       "4  01:32 AM      Night  "
      ]
     },
     "execution_count": 7,
     "metadata": {},
     "output_type": "execute_result"
    }
   ],
   "source": [
    "def convert_and_categorize_datereported(df, col='DateReported'):\n",
    "    \"\"\"\n",
    "    Converts an epoch (in milliseconds) date column into a timezone-aware datetime,\n",
    "    converts it to Eastern Time, and then creates columns for day-of-week, weekend flag,\n",
    "    season, 12-hour formatted time, and time-of-day. Keeps both a real datetime column\n",
    "    (Date) and a string representation (DateString).\n",
    "    \"\"\"\n",
    "    import pandas as pd\n",
    "\n",
    "    # Convert the epoch timestamp to a pandas datetime object as UTC, then convert to US/Eastern.\n",
    "    df[\"DateReported_dt\"] = (\n",
    "        pd.to_datetime(df[col], unit=\"ms\", errors=\"coerce\", utc=True)\n",
    "        .dt.tz_convert(\"US/Eastern\")\n",
    "    )\n",
    "    \n",
    "    # Create a true datetime column (remove timezone if you prefer naive datetime)\n",
    "    df[\"Date\"] = df[\"DateReported_dt\"].dt.tz_localize(None)\n",
    "\n",
    "    # Optionally, create a separate string-formatted column\n",
    "    df[\"DateString\"] = df[\"DateReported_dt\"].dt.strftime(\"%Y-%m-%d %I:%M:%S %p\")\n",
    "    \n",
    "    # DayOfWeek\n",
    "    df[\"DayOfWeek\"] = df[\"DateReported_dt\"].dt.day_name()\n",
    "    \n",
    "    # Weekend\n",
    "    df[\"Weekend\"] = df[\"DayOfWeek\"].isin([\"Saturday\", \"Sunday\"])\n",
    "    \n",
    "    # Helper function to determine the season\n",
    "    def get_season(dt):\n",
    "        month = dt.month\n",
    "        day = dt.day\n",
    "        # Approximate Northern Hemisphere season boundaries:\n",
    "        if (month == 12 and day >= 21) or (month < 3) or (month == 3 and day < 20):\n",
    "            return \"Winter\"\n",
    "        elif (month == 3 and day >= 20) or (month < 6) or (month == 6 and day < 21):\n",
    "            return \"Spring\"\n",
    "        elif (month == 6 and day >= 21) or (month < 9) or (month == 9 and day < 22):\n",
    "            return \"Summer\"\n",
    "        else:\n",
    "            return \"Autumn\"\n",
    "    \n",
    "    df[\"Season\"] = df[\"DateReported_dt\"].apply(get_season)\n",
    "    \n",
    "    # 12-hour formatted time (HourAMPM)\n",
    "    df[\"HourAMPM\"] = df[\"DateReported_dt\"].dt.strftime(\"%I:%M %p\")\n",
    "    \n",
    "    # Extract hour (0-23) for time-of-day\n",
    "    df[\"HourValue\"] = df[\"DateReported_dt\"].dt.hour\n",
    "    \n",
    "    def time_of_day(hour):\n",
    "        if pd.isnull(hour):\n",
    "            return None\n",
    "        if 5 <= hour < 12:\n",
    "            return \"Morning\"\n",
    "        elif 12 <= hour < 17:\n",
    "            return \"Afternoon\"\n",
    "        elif 17 <= hour < 21:\n",
    "            return \"Evening\"\n",
    "        else:\n",
    "            return \"Night\"\n",
    "    \n",
    "    df[\"TimeOfDay\"] = df[\"HourValue\"].apply(time_of_day)\n",
    "    \n",
    "    # Drop columns you no longer need\n",
    "    df.drop(columns=[col, \"DateReported_dt\", \"HourValue\"], inplace=True)\n",
    "    \n",
    "    return df\n",
    "\n",
    "# Example usage:\n",
    "df = convert_and_categorize_datereported(df)\n",
    "df.head()\n"
   ]
  },
  {
   "cell_type": "code",
   "execution_count": 8,
   "id": "c24d45d5",
   "metadata": {
    "execution": {
     "iopub.execute_input": "2025-05-26T01:05:39.714599Z",
     "iopub.status.busy": "2025-05-26T01:05:39.714119Z",
     "iopub.status.idle": "2025-05-26T01:05:39.739616Z",
     "shell.execute_reply": "2025-05-26T01:05:39.739005Z"
    },
    "papermill": {
     "duration": 0.03311,
     "end_time": "2025-05-26T01:05:39.740627",
     "exception": false,
     "start_time": "2025-05-26T01:05:39.707517",
     "status": "completed"
    },
    "tags": []
   },
   "outputs": [
    {
     "name": "stdout",
     "output_type": "stream",
     "text": [
      "<class 'pandas.core.frame.DataFrame'>\n",
      "RangeIndex: 25428 entries, 0 to 25427\n",
      "Data columns (total 15 columns):\n",
      " #   Column            Non-Null Count  Dtype         \n",
      "---  ------            --------------  -----         \n",
      " 0   RecordID          25428 non-null  int64         \n",
      " 1   Offense           25428 non-null  object        \n",
      " 2   IncidentID        25428 non-null  object        \n",
      " 3   BlockNumber       25428 non-null  object        \n",
      " 4   StreetName        25428 non-null  object        \n",
      " 5   Agency            25428 non-null  object        \n",
      " 6   HourReported      25428 non-null  object        \n",
      " 7   ReportingOfficer  25411 non-null  object        \n",
      " 8   Date              25428 non-null  datetime64[ns]\n",
      " 9   DateString        25428 non-null  object        \n",
      " 10  DayOfWeek         25428 non-null  object        \n",
      " 11  Weekend           25428 non-null  bool          \n",
      " 12  Season            25428 non-null  object        \n",
      " 13  HourAMPM          25428 non-null  object        \n",
      " 14  TimeOfDay         25428 non-null  object        \n",
      "dtypes: bool(1), datetime64[ns](1), int64(1), object(12)\n",
      "memory usage: 2.7+ MB\n"
     ]
    }
   ],
   "source": [
    "df.info()"
   ]
  },
  {
   "cell_type": "markdown",
   "id": "9ac61ce3",
   "metadata": {
    "papermill": {
     "duration": 0.005832,
     "end_time": "2025-05-26T01:05:39.752448",
     "exception": false,
     "start_time": "2025-05-26T01:05:39.746616",
     "status": "completed"
    },
    "tags": []
   },
   "source": [
    "### Coordinates"
   ]
  },
  {
   "cell_type": "code",
   "execution_count": 9,
   "id": "94664e93",
   "metadata": {
    "execution": {
     "iopub.execute_input": "2025-05-26T01:05:39.765100Z",
     "iopub.status.busy": "2025-05-26T01:05:39.764823Z",
     "iopub.status.idle": "2025-05-26T01:05:39.807601Z",
     "shell.execute_reply": "2025-05-26T01:05:39.807054Z"
    },
    "papermill": {
     "duration": 0.050352,
     "end_time": "2025-05-26T01:05:39.808624",
     "exception": false,
     "start_time": "2025-05-26T01:05:39.758272",
     "status": "completed"
    },
    "tags": []
   },
   "outputs": [
    {
     "name": "stdout",
     "output_type": "stream",
     "text": [
      "Loaded geocode cache.\n",
      "Geocode cache updated and saved.\n"
     ]
    },
    {
     "data": {
      "text/html": [
       "<div>\n",
       "<style scoped>\n",
       "    .dataframe tbody tr th:only-of-type {\n",
       "        vertical-align: middle;\n",
       "    }\n",
       "\n",
       "    .dataframe tbody tr th {\n",
       "        vertical-align: top;\n",
       "    }\n",
       "\n",
       "    .dataframe thead th {\n",
       "        text-align: right;\n",
       "    }\n",
       "</style>\n",
       "<table border=\"1\" class=\"dataframe\">\n",
       "  <thead>\n",
       "    <tr style=\"text-align: right;\">\n",
       "      <th></th>\n",
       "      <th>RecordID</th>\n",
       "      <th>Offense</th>\n",
       "      <th>IncidentID</th>\n",
       "      <th>BlockNumber</th>\n",
       "      <th>StreetName</th>\n",
       "      <th>Agency</th>\n",
       "      <th>HourReported</th>\n",
       "      <th>ReportingOfficer</th>\n",
       "      <th>Date</th>\n",
       "      <th>DateString</th>\n",
       "      <th>DayOfWeek</th>\n",
       "      <th>Weekend</th>\n",
       "      <th>Season</th>\n",
       "      <th>HourAMPM</th>\n",
       "      <th>TimeOfDay</th>\n",
       "      <th>FullStreet</th>\n",
       "      <th>lat</th>\n",
       "      <th>lon</th>\n",
       "    </tr>\n",
       "  </thead>\n",
       "  <tbody>\n",
       "    <tr>\n",
       "      <th>0</th>\n",
       "      <td>1</td>\n",
       "      <td>Disorderly Conduct</td>\n",
       "      <td>202500017669</td>\n",
       "      <td>1400</td>\n",
       "      <td>UNIVERSITY AVE</td>\n",
       "      <td>CPD</td>\n",
       "      <td>0000</td>\n",
       "      <td>Ritter, Kobe</td>\n",
       "      <td>2025-05-24 00:00:02</td>\n",
       "      <td>2025-05-24 12:00:02 AM</td>\n",
       "      <td>Saturday</td>\n",
       "      <td>True</td>\n",
       "      <td>Spring</td>\n",
       "      <td>12:00 AM</td>\n",
       "      <td>Night</td>\n",
       "      <td>1400 UNIVERSITY AVE</td>\n",
       "      <td>38.033936</td>\n",
       "      <td>-78.499972</td>\n",
       "    </tr>\n",
       "    <tr>\n",
       "      <th>1</th>\n",
       "      <td>2</td>\n",
       "      <td>Lost/FoundProperty</td>\n",
       "      <td>202500017626</td>\n",
       "      <td>2300</td>\n",
       "      <td>DELLMEAD LN</td>\n",
       "      <td>CPD</td>\n",
       "      <td>1907</td>\n",
       "      <td>Rigsby, Lloyd</td>\n",
       "      <td>2025-05-23 19:07:21</td>\n",
       "      <td>2025-05-23 07:07:21 PM</td>\n",
       "      <td>Friday</td>\n",
       "      <td>False</td>\n",
       "      <td>Spring</td>\n",
       "      <td>07:07 PM</td>\n",
       "      <td>Evening</td>\n",
       "      <td>2300 DELLMEAD LN</td>\n",
       "      <td>38.060428</td>\n",
       "      <td>-78.498656</td>\n",
       "    </tr>\n",
       "    <tr>\n",
       "      <th>2</th>\n",
       "      <td>3</td>\n",
       "      <td>Sex Offense-forcible fondling</td>\n",
       "      <td>202500017618</td>\n",
       "      <td>1500</td>\n",
       "      <td>ANTOINETTE AVE, B</td>\n",
       "      <td>CPD</td>\n",
       "      <td>1808</td>\n",
       "      <td>Bentz, Benjamin</td>\n",
       "      <td>2025-05-23 18:08:27</td>\n",
       "      <td>2025-05-23 06:08:27 PM</td>\n",
       "      <td>Friday</td>\n",
       "      <td>False</td>\n",
       "      <td>Spring</td>\n",
       "      <td>06:08 PM</td>\n",
       "      <td>Evening</td>\n",
       "      <td>1500 ANTOINETTE AVE, B</td>\n",
       "      <td>38.020606</td>\n",
       "      <td>-78.499495</td>\n",
       "    </tr>\n",
       "    <tr>\n",
       "      <th>3</th>\n",
       "      <td>4</td>\n",
       "      <td>Death Investigation - DOA</td>\n",
       "      <td>202500017593</td>\n",
       "      <td>800</td>\n",
       "      <td>ORANGEDALE AVE</td>\n",
       "      <td>CPD</td>\n",
       "      <td>1437</td>\n",
       "      <td>Kinney, Dylan</td>\n",
       "      <td>2025-05-23 14:37:29</td>\n",
       "      <td>2025-05-23 02:37:29 PM</td>\n",
       "      <td>Friday</td>\n",
       "      <td>False</td>\n",
       "      <td>Spring</td>\n",
       "      <td>02:37 PM</td>\n",
       "      <td>Afternoon</td>\n",
       "      <td>800 ORANGEDALE AVE</td>\n",
       "      <td>38.021528</td>\n",
       "      <td>-78.497505</td>\n",
       "    </tr>\n",
       "    <tr>\n",
       "      <th>4</th>\n",
       "      <td>5</td>\n",
       "      <td>Assault Simple</td>\n",
       "      <td>202500017536</td>\n",
       "      <td>300</td>\n",
       "      <td>PRESTON AVE</td>\n",
       "      <td>CPD</td>\n",
       "      <td>0132</td>\n",
       "      <td>McLeod, Dustin</td>\n",
       "      <td>2025-05-23 01:32:15</td>\n",
       "      <td>2025-05-23 01:32:15 AM</td>\n",
       "      <td>Friday</td>\n",
       "      <td>False</td>\n",
       "      <td>Spring</td>\n",
       "      <td>01:32 AM</td>\n",
       "      <td>Night</td>\n",
       "      <td>300 PRESTON AVE</td>\n",
       "      <td>38.033020</td>\n",
       "      <td>-78.483852</td>\n",
       "    </tr>\n",
       "  </tbody>\n",
       "</table>\n",
       "</div>"
      ],
      "text/plain": [
       "   RecordID                        Offense    IncidentID BlockNumber  \\\n",
       "0         1             Disorderly Conduct  202500017669        1400   \n",
       "1         2             Lost/FoundProperty  202500017626        2300   \n",
       "2         3  Sex Offense-forcible fondling  202500017618        1500   \n",
       "3         4      Death Investigation - DOA  202500017593         800   \n",
       "4         5                 Assault Simple  202500017536         300   \n",
       "\n",
       "          StreetName Agency HourReported  ReportingOfficer  \\\n",
       "0     UNIVERSITY AVE    CPD         0000      Ritter, Kobe   \n",
       "1        DELLMEAD LN    CPD         1907     Rigsby, Lloyd   \n",
       "2  ANTOINETTE AVE, B    CPD         1808  Bentz, Benjamin    \n",
       "3     ORANGEDALE AVE    CPD         1437     Kinney, Dylan   \n",
       "4        PRESTON AVE    CPD         0132    McLeod, Dustin   \n",
       "\n",
       "                 Date              DateString DayOfWeek  Weekend  Season  \\\n",
       "0 2025-05-24 00:00:02  2025-05-24 12:00:02 AM  Saturday     True  Spring   \n",
       "1 2025-05-23 19:07:21  2025-05-23 07:07:21 PM    Friday    False  Spring   \n",
       "2 2025-05-23 18:08:27  2025-05-23 06:08:27 PM    Friday    False  Spring   \n",
       "3 2025-05-23 14:37:29  2025-05-23 02:37:29 PM    Friday    False  Spring   \n",
       "4 2025-05-23 01:32:15  2025-05-23 01:32:15 AM    Friday    False  Spring   \n",
       "\n",
       "   HourAMPM  TimeOfDay              FullStreet        lat        lon  \n",
       "0  12:00 AM      Night     1400 UNIVERSITY AVE  38.033936 -78.499972  \n",
       "1  07:07 PM    Evening        2300 DELLMEAD LN  38.060428 -78.498656  \n",
       "2  06:08 PM    Evening  1500 ANTOINETTE AVE, B  38.020606 -78.499495  \n",
       "3  02:37 PM  Afternoon      800 ORANGEDALE AVE  38.021528 -78.497505  \n",
       "4  01:32 AM      Night         300 PRESTON AVE  38.033020 -78.483852  "
      ]
     },
     "execution_count": 9,
     "metadata": {},
     "output_type": "execute_result"
    }
   ],
   "source": [
    "# Combine BlockNumber and StreetName into a full address string\n",
    "df['FullStreet'] = df['BlockNumber'].astype(str) + \" \" + df['StreetName']\n",
    "\n",
    "# --- Step 1: Setup the Google Maps Client and Cache ---\n",
    "gmaps = googlemaps.Client(key=GOOGLE_API_KEY)\n",
    "\n",
    "# Try to load cached geocoding results if available.\n",
    "try:\n",
    "    with open(\"geocode_cache_google.pkl\", \"rb\") as f:\n",
    "        street_coords = pickle.load(f)\n",
    "    print(\"Loaded geocode cache.\")\n",
    "except FileNotFoundError:\n",
    "    street_coords = {}\n",
    "    print(\"No cache found; starting fresh.\")\n",
    "\n",
    "def geocode_address(address):\n",
    "    try:\n",
    "        # Append city and state to help geocoding\n",
    "        result = gmaps.geocode(f\"{address}, Charlottesville, VA\")\n",
    "        if result:\n",
    "            lat = result[0]['geometry']['location']['lat']\n",
    "            lon = result[0]['geometry']['location']['lng']\n",
    "            return lat, lon\n",
    "    except Exception as e:\n",
    "        print(f\"Error geocoding {address}: {e}\")\n",
    "    return None, None\n",
    "\n",
    "# --- Step 2: Geocode Only New Addresses ---\n",
    "unique_addresses = df['FullStreet'].unique()\n",
    "for address in unique_addresses:\n",
    "    if address not in street_coords:\n",
    "        lat, lon = geocode_address(address)\n",
    "        street_coords[address] = (lat, lon)\n",
    "        print(f\"Geocoded {address}: {lat}, {lon}\")\n",
    "\n",
    "# Save the updated cache to disk.\n",
    "with open(\"geocode_cache_google.pkl\", \"wb\") as f:\n",
    "    pickle.dump(street_coords, f)\n",
    "    print(\"Geocode cache updated and saved.\")\n",
    "\n",
    "# --- Step 3: Map Coordinates Back to DataFrame ---\n",
    "df['lat'] = df['FullStreet'].map(lambda s: street_coords.get(s, (None, None))[0])\n",
    "df['lon'] = df['FullStreet'].map(lambda s: street_coords.get(s, (None, None))[1])\n",
    "\n",
    "df.head()"
   ]
  },
  {
   "cell_type": "markdown",
   "id": "7d187cd6",
   "metadata": {
    "papermill": {
     "duration": 0.006174,
     "end_time": "2025-05-26T01:05:39.821154",
     "exception": false,
     "start_time": "2025-05-26T01:05:39.814980",
     "status": "completed"
    },
    "tags": []
   },
   "source": [
    "### Neighborhood"
   ]
  },
  {
   "cell_type": "code",
   "execution_count": 10,
   "id": "ccb68e5b",
   "metadata": {
    "execution": {
     "iopub.execute_input": "2025-05-26T01:05:39.834411Z",
     "iopub.status.busy": "2025-05-26T01:05:39.833948Z",
     "iopub.status.idle": "2025-05-26T01:05:40.095724Z",
     "shell.execute_reply": "2025-05-26T01:05:40.095062Z"
    },
    "papermill": {
     "duration": 0.269631,
     "end_time": "2025-05-26T01:05:40.096833",
     "exception": false,
     "start_time": "2025-05-26T01:05:39.827202",
     "status": "completed"
    },
    "tags": []
   },
   "outputs": [
    {
     "name": "stdout",
     "output_type": "stream",
     "text": [
      "Loaded neighborhood cache.\n"
     ]
    },
    {
     "data": {
      "text/html": [
       "<div>\n",
       "<style scoped>\n",
       "    .dataframe tbody tr th:only-of-type {\n",
       "        vertical-align: middle;\n",
       "    }\n",
       "\n",
       "    .dataframe tbody tr th {\n",
       "        vertical-align: top;\n",
       "    }\n",
       "\n",
       "    .dataframe thead th {\n",
       "        text-align: right;\n",
       "    }\n",
       "</style>\n",
       "<table border=\"1\" class=\"dataframe\">\n",
       "  <thead>\n",
       "    <tr style=\"text-align: right;\">\n",
       "      <th></th>\n",
       "      <th>RecordID</th>\n",
       "      <th>Offense</th>\n",
       "      <th>IncidentID</th>\n",
       "      <th>BlockNumber</th>\n",
       "      <th>StreetName</th>\n",
       "      <th>Agency</th>\n",
       "      <th>HourReported</th>\n",
       "      <th>ReportingOfficer</th>\n",
       "      <th>Date</th>\n",
       "      <th>DateString</th>\n",
       "      <th>DayOfWeek</th>\n",
       "      <th>Weekend</th>\n",
       "      <th>Season</th>\n",
       "      <th>HourAMPM</th>\n",
       "      <th>TimeOfDay</th>\n",
       "      <th>FullStreet</th>\n",
       "      <th>lat</th>\n",
       "      <th>lon</th>\n",
       "      <th>neighborhood</th>\n",
       "    </tr>\n",
       "  </thead>\n",
       "  <tbody>\n",
       "    <tr>\n",
       "      <th>0</th>\n",
       "      <td>1</td>\n",
       "      <td>Disorderly Conduct</td>\n",
       "      <td>202500017669</td>\n",
       "      <td>1400</td>\n",
       "      <td>UNIVERSITY AVE</td>\n",
       "      <td>CPD</td>\n",
       "      <td>0000</td>\n",
       "      <td>Ritter, Kobe</td>\n",
       "      <td>2025-05-24 00:00:02</td>\n",
       "      <td>2025-05-24 12:00:02 AM</td>\n",
       "      <td>Saturday</td>\n",
       "      <td>True</td>\n",
       "      <td>Spring</td>\n",
       "      <td>12:00 AM</td>\n",
       "      <td>Night</td>\n",
       "      <td>1400 UNIVERSITY AVE</td>\n",
       "      <td>38.033936</td>\n",
       "      <td>-78.499972</td>\n",
       "      <td>N/A</td>\n",
       "    </tr>\n",
       "    <tr>\n",
       "      <th>1</th>\n",
       "      <td>2</td>\n",
       "      <td>Lost/FoundProperty</td>\n",
       "      <td>202500017626</td>\n",
       "      <td>2300</td>\n",
       "      <td>DELLMEAD LN</td>\n",
       "      <td>CPD</td>\n",
       "      <td>1907</td>\n",
       "      <td>Rigsby, Lloyd</td>\n",
       "      <td>2025-05-23 19:07:21</td>\n",
       "      <td>2025-05-23 07:07:21 PM</td>\n",
       "      <td>Friday</td>\n",
       "      <td>False</td>\n",
       "      <td>Spring</td>\n",
       "      <td>07:07 PM</td>\n",
       "      <td>Evening</td>\n",
       "      <td>2300 DELLMEAD LN</td>\n",
       "      <td>38.060428</td>\n",
       "      <td>-78.498656</td>\n",
       "      <td>The Meadows</td>\n",
       "    </tr>\n",
       "    <tr>\n",
       "      <th>2</th>\n",
       "      <td>3</td>\n",
       "      <td>Sex Offense-forcible fondling</td>\n",
       "      <td>202500017618</td>\n",
       "      <td>1500</td>\n",
       "      <td>ANTOINETTE AVE, B</td>\n",
       "      <td>CPD</td>\n",
       "      <td>1808</td>\n",
       "      <td>Bentz, Benjamin</td>\n",
       "      <td>2025-05-23 18:08:27</td>\n",
       "      <td>2025-05-23 06:08:27 PM</td>\n",
       "      <td>Friday</td>\n",
       "      <td>False</td>\n",
       "      <td>Spring</td>\n",
       "      <td>06:08 PM</td>\n",
       "      <td>Evening</td>\n",
       "      <td>1500 ANTOINETTE AVE, B</td>\n",
       "      <td>38.020606</td>\n",
       "      <td>-78.499495</td>\n",
       "      <td>Johnson Village</td>\n",
       "    </tr>\n",
       "    <tr>\n",
       "      <th>3</th>\n",
       "      <td>4</td>\n",
       "      <td>Death Investigation - DOA</td>\n",
       "      <td>202500017593</td>\n",
       "      <td>800</td>\n",
       "      <td>ORANGEDALE AVE</td>\n",
       "      <td>CPD</td>\n",
       "      <td>1437</td>\n",
       "      <td>Kinney, Dylan</td>\n",
       "      <td>2025-05-23 14:37:29</td>\n",
       "      <td>2025-05-23 02:37:29 PM</td>\n",
       "      <td>Friday</td>\n",
       "      <td>False</td>\n",
       "      <td>Spring</td>\n",
       "      <td>02:37 PM</td>\n",
       "      <td>Afternoon</td>\n",
       "      <td>800 ORANGEDALE AVE</td>\n",
       "      <td>38.021528</td>\n",
       "      <td>-78.497505</td>\n",
       "      <td>Fifeville</td>\n",
       "    </tr>\n",
       "    <tr>\n",
       "      <th>4</th>\n",
       "      <td>5</td>\n",
       "      <td>Assault Simple</td>\n",
       "      <td>202500017536</td>\n",
       "      <td>300</td>\n",
       "      <td>PRESTON AVE</td>\n",
       "      <td>CPD</td>\n",
       "      <td>0132</td>\n",
       "      <td>McLeod, Dustin</td>\n",
       "      <td>2025-05-23 01:32:15</td>\n",
       "      <td>2025-05-23 01:32:15 AM</td>\n",
       "      <td>Friday</td>\n",
       "      <td>False</td>\n",
       "      <td>Spring</td>\n",
       "      <td>01:32 AM</td>\n",
       "      <td>Night</td>\n",
       "      <td>300 PRESTON AVE</td>\n",
       "      <td>38.033020</td>\n",
       "      <td>-78.483852</td>\n",
       "      <td>North Downtown</td>\n",
       "    </tr>\n",
       "  </tbody>\n",
       "</table>\n",
       "</div>"
      ],
      "text/plain": [
       "   RecordID                        Offense    IncidentID BlockNumber  \\\n",
       "0         1             Disorderly Conduct  202500017669        1400   \n",
       "1         2             Lost/FoundProperty  202500017626        2300   \n",
       "2         3  Sex Offense-forcible fondling  202500017618        1500   \n",
       "3         4      Death Investigation - DOA  202500017593         800   \n",
       "4         5                 Assault Simple  202500017536         300   \n",
       "\n",
       "          StreetName Agency HourReported  ReportingOfficer  \\\n",
       "0     UNIVERSITY AVE    CPD         0000      Ritter, Kobe   \n",
       "1        DELLMEAD LN    CPD         1907     Rigsby, Lloyd   \n",
       "2  ANTOINETTE AVE, B    CPD         1808  Bentz, Benjamin    \n",
       "3     ORANGEDALE AVE    CPD         1437     Kinney, Dylan   \n",
       "4        PRESTON AVE    CPD         0132    McLeod, Dustin   \n",
       "\n",
       "                 Date              DateString DayOfWeek  Weekend  Season  \\\n",
       "0 2025-05-24 00:00:02  2025-05-24 12:00:02 AM  Saturday     True  Spring   \n",
       "1 2025-05-23 19:07:21  2025-05-23 07:07:21 PM    Friday    False  Spring   \n",
       "2 2025-05-23 18:08:27  2025-05-23 06:08:27 PM    Friday    False  Spring   \n",
       "3 2025-05-23 14:37:29  2025-05-23 02:37:29 PM    Friday    False  Spring   \n",
       "4 2025-05-23 01:32:15  2025-05-23 01:32:15 AM    Friday    False  Spring   \n",
       "\n",
       "   HourAMPM  TimeOfDay              FullStreet        lat        lon  \\\n",
       "0  12:00 AM      Night     1400 UNIVERSITY AVE  38.033936 -78.499972   \n",
       "1  07:07 PM    Evening        2300 DELLMEAD LN  38.060428 -78.498656   \n",
       "2  06:08 PM    Evening  1500 ANTOINETTE AVE, B  38.020606 -78.499495   \n",
       "3  02:37 PM  Afternoon      800 ORANGEDALE AVE  38.021528 -78.497505   \n",
       "4  01:32 AM      Night         300 PRESTON AVE  38.033020 -78.483852   \n",
       "\n",
       "      neighborhood  \n",
       "0              N/A  \n",
       "1      The Meadows  \n",
       "2  Johnson Village  \n",
       "3        Fifeville  \n",
       "4   North Downtown  "
      ]
     },
     "execution_count": 10,
     "metadata": {},
     "output_type": "execute_result"
    }
   ],
   "source": [
    "# Initialize the Google Maps client.\n",
    "gmaps = googlemaps.Client(key=GOOGLE_API_KEY)\n",
    "\n",
    "# Try to load a persistent neighborhood cache if available.\n",
    "try:\n",
    "    with open(\"neighborhood_cache.pkl\", \"rb\") as f:\n",
    "        neighborhood_cache = pickle.load(f)\n",
    "    print(\"Loaded neighborhood cache.\")\n",
    "except FileNotFoundError:\n",
    "    neighborhood_cache = {}\n",
    "    print(\"No neighborhood cache found; starting fresh.\")\n",
    "\n",
    "def get_neighborhood(lat, lon):\n",
    "    \"\"\"\n",
    "    Reverse geocodes a latitude and longitude to retrieve the neighborhood.\n",
    "    Caches results to speed up subsequent lookups.\n",
    "    \"\"\"\n",
    "    key = (lat, lon)\n",
    "    if key in neighborhood_cache:\n",
    "        return neighborhood_cache[key]\n",
    "    \n",
    "    try:\n",
    "        result = gmaps.reverse_geocode((lat, lon))\n",
    "        if result:\n",
    "            # Look for the 'neighborhood' component in the first result.\n",
    "            for component in result[0]['address_components']:\n",
    "                if 'neighborhood' in component['types']:\n",
    "                    neighborhood = component['long_name']\n",
    "                    neighborhood_cache[key] = neighborhood\n",
    "                    return neighborhood\n",
    "            # If no neighborhood is found, return \"N/A\"\n",
    "            neighborhood_cache[key] = \"N/A\"\n",
    "            return \"N/A\"\n",
    "    except Exception as e:\n",
    "        print(f\"Error getting neighborhood for {lat}, {lon}: {e}\")\n",
    "        return \"N/A\"\n",
    "    \n",
    "    # Pause to respect usage limits.\n",
    "    time.sleep(1)\n",
    "\n",
    "# Example usage: Apply to your DataFrame 'df' that already has 'lat' and 'lon' columns.\n",
    "df['neighborhood'] = df.apply(lambda row: get_neighborhood(row['lat'], row['lon']), axis=1)\n",
    "\n",
    "# Save the updated neighborhood cache.\n",
    "with open(\"neighborhood_cache.pkl\", \"wb\") as f:\n",
    "    pickle.dump(neighborhood_cache, f)\n",
    "\n",
    "df.head()\n"
   ]
  },
  {
   "cell_type": "markdown",
   "id": "153852fe",
   "metadata": {
    "papermill": {
     "duration": 0.006518,
     "end_time": "2025-05-26T01:05:40.110320",
     "exception": false,
     "start_time": "2025-05-26T01:05:40.103802",
     "status": "completed"
    },
    "tags": []
   },
   "source": [
    "### Zip"
   ]
  },
  {
   "cell_type": "code",
   "execution_count": 11,
   "id": "d735eb68",
   "metadata": {
    "execution": {
     "iopub.execute_input": "2025-05-26T01:05:40.124092Z",
     "iopub.status.busy": "2025-05-26T01:05:40.123869Z",
     "iopub.status.idle": "2025-05-26T01:05:40.366896Z",
     "shell.execute_reply": "2025-05-26T01:05:40.366327Z"
    },
    "papermill": {
     "duration": 0.251353,
     "end_time": "2025-05-26T01:05:40.368033",
     "exception": false,
     "start_time": "2025-05-26T01:05:40.116680",
     "status": "completed"
    },
    "tags": []
   },
   "outputs": [
    {
     "name": "stdout",
     "output_type": "stream",
     "text": [
      "Loaded zip cache.\n"
     ]
    },
    {
     "data": {
      "text/html": [
       "<div>\n",
       "<style scoped>\n",
       "    .dataframe tbody tr th:only-of-type {\n",
       "        vertical-align: middle;\n",
       "    }\n",
       "\n",
       "    .dataframe tbody tr th {\n",
       "        vertical-align: top;\n",
       "    }\n",
       "\n",
       "    .dataframe thead th {\n",
       "        text-align: right;\n",
       "    }\n",
       "</style>\n",
       "<table border=\"1\" class=\"dataframe\">\n",
       "  <thead>\n",
       "    <tr style=\"text-align: right;\">\n",
       "      <th></th>\n",
       "      <th>RecordID</th>\n",
       "      <th>Offense</th>\n",
       "      <th>IncidentID</th>\n",
       "      <th>BlockNumber</th>\n",
       "      <th>StreetName</th>\n",
       "      <th>Agency</th>\n",
       "      <th>HourReported</th>\n",
       "      <th>ReportingOfficer</th>\n",
       "      <th>Date</th>\n",
       "      <th>DateString</th>\n",
       "      <th>DayOfWeek</th>\n",
       "      <th>Weekend</th>\n",
       "      <th>Season</th>\n",
       "      <th>HourAMPM</th>\n",
       "      <th>TimeOfDay</th>\n",
       "      <th>FullStreet</th>\n",
       "      <th>lat</th>\n",
       "      <th>lon</th>\n",
       "      <th>neighborhood</th>\n",
       "      <th>zip</th>\n",
       "    </tr>\n",
       "  </thead>\n",
       "  <tbody>\n",
       "    <tr>\n",
       "      <th>0</th>\n",
       "      <td>1</td>\n",
       "      <td>Disorderly Conduct</td>\n",
       "      <td>202500017669</td>\n",
       "      <td>1400</td>\n",
       "      <td>UNIVERSITY AVE</td>\n",
       "      <td>CPD</td>\n",
       "      <td>0000</td>\n",
       "      <td>Ritter, Kobe</td>\n",
       "      <td>2025-05-24 00:00:02</td>\n",
       "      <td>2025-05-24 12:00:02 AM</td>\n",
       "      <td>Saturday</td>\n",
       "      <td>True</td>\n",
       "      <td>Spring</td>\n",
       "      <td>12:00 AM</td>\n",
       "      <td>Night</td>\n",
       "      <td>1400 UNIVERSITY AVE</td>\n",
       "      <td>38.033936</td>\n",
       "      <td>-78.499972</td>\n",
       "      <td>N/A</td>\n",
       "      <td>22903</td>\n",
       "    </tr>\n",
       "    <tr>\n",
       "      <th>1</th>\n",
       "      <td>2</td>\n",
       "      <td>Lost/FoundProperty</td>\n",
       "      <td>202500017626</td>\n",
       "      <td>2300</td>\n",
       "      <td>DELLMEAD LN</td>\n",
       "      <td>CPD</td>\n",
       "      <td>1907</td>\n",
       "      <td>Rigsby, Lloyd</td>\n",
       "      <td>2025-05-23 19:07:21</td>\n",
       "      <td>2025-05-23 07:07:21 PM</td>\n",
       "      <td>Friday</td>\n",
       "      <td>False</td>\n",
       "      <td>Spring</td>\n",
       "      <td>07:07 PM</td>\n",
       "      <td>Evening</td>\n",
       "      <td>2300 DELLMEAD LN</td>\n",
       "      <td>38.060428</td>\n",
       "      <td>-78.498656</td>\n",
       "      <td>The Meadows</td>\n",
       "      <td>22901</td>\n",
       "    </tr>\n",
       "    <tr>\n",
       "      <th>2</th>\n",
       "      <td>3</td>\n",
       "      <td>Sex Offense-forcible fondling</td>\n",
       "      <td>202500017618</td>\n",
       "      <td>1500</td>\n",
       "      <td>ANTOINETTE AVE, B</td>\n",
       "      <td>CPD</td>\n",
       "      <td>1808</td>\n",
       "      <td>Bentz, Benjamin</td>\n",
       "      <td>2025-05-23 18:08:27</td>\n",
       "      <td>2025-05-23 06:08:27 PM</td>\n",
       "      <td>Friday</td>\n",
       "      <td>False</td>\n",
       "      <td>Spring</td>\n",
       "      <td>06:08 PM</td>\n",
       "      <td>Evening</td>\n",
       "      <td>1500 ANTOINETTE AVE, B</td>\n",
       "      <td>38.020606</td>\n",
       "      <td>-78.499495</td>\n",
       "      <td>Johnson Village</td>\n",
       "      <td>22903</td>\n",
       "    </tr>\n",
       "    <tr>\n",
       "      <th>3</th>\n",
       "      <td>4</td>\n",
       "      <td>Death Investigation - DOA</td>\n",
       "      <td>202500017593</td>\n",
       "      <td>800</td>\n",
       "      <td>ORANGEDALE AVE</td>\n",
       "      <td>CPD</td>\n",
       "      <td>1437</td>\n",
       "      <td>Kinney, Dylan</td>\n",
       "      <td>2025-05-23 14:37:29</td>\n",
       "      <td>2025-05-23 02:37:29 PM</td>\n",
       "      <td>Friday</td>\n",
       "      <td>False</td>\n",
       "      <td>Spring</td>\n",
       "      <td>02:37 PM</td>\n",
       "      <td>Afternoon</td>\n",
       "      <td>800 ORANGEDALE AVE</td>\n",
       "      <td>38.021528</td>\n",
       "      <td>-78.497505</td>\n",
       "      <td>Fifeville</td>\n",
       "      <td>22903</td>\n",
       "    </tr>\n",
       "    <tr>\n",
       "      <th>4</th>\n",
       "      <td>5</td>\n",
       "      <td>Assault Simple</td>\n",
       "      <td>202500017536</td>\n",
       "      <td>300</td>\n",
       "      <td>PRESTON AVE</td>\n",
       "      <td>CPD</td>\n",
       "      <td>0132</td>\n",
       "      <td>McLeod, Dustin</td>\n",
       "      <td>2025-05-23 01:32:15</td>\n",
       "      <td>2025-05-23 01:32:15 AM</td>\n",
       "      <td>Friday</td>\n",
       "      <td>False</td>\n",
       "      <td>Spring</td>\n",
       "      <td>01:32 AM</td>\n",
       "      <td>Night</td>\n",
       "      <td>300 PRESTON AVE</td>\n",
       "      <td>38.033020</td>\n",
       "      <td>-78.483852</td>\n",
       "      <td>North Downtown</td>\n",
       "      <td>22902</td>\n",
       "    </tr>\n",
       "  </tbody>\n",
       "</table>\n",
       "</div>"
      ],
      "text/plain": [
       "   RecordID                        Offense    IncidentID BlockNumber  \\\n",
       "0         1             Disorderly Conduct  202500017669        1400   \n",
       "1         2             Lost/FoundProperty  202500017626        2300   \n",
       "2         3  Sex Offense-forcible fondling  202500017618        1500   \n",
       "3         4      Death Investigation - DOA  202500017593         800   \n",
       "4         5                 Assault Simple  202500017536         300   \n",
       "\n",
       "          StreetName Agency HourReported  ReportingOfficer  \\\n",
       "0     UNIVERSITY AVE    CPD         0000      Ritter, Kobe   \n",
       "1        DELLMEAD LN    CPD         1907     Rigsby, Lloyd   \n",
       "2  ANTOINETTE AVE, B    CPD         1808  Bentz, Benjamin    \n",
       "3     ORANGEDALE AVE    CPD         1437     Kinney, Dylan   \n",
       "4        PRESTON AVE    CPD         0132    McLeod, Dustin   \n",
       "\n",
       "                 Date              DateString DayOfWeek  Weekend  Season  \\\n",
       "0 2025-05-24 00:00:02  2025-05-24 12:00:02 AM  Saturday     True  Spring   \n",
       "1 2025-05-23 19:07:21  2025-05-23 07:07:21 PM    Friday    False  Spring   \n",
       "2 2025-05-23 18:08:27  2025-05-23 06:08:27 PM    Friday    False  Spring   \n",
       "3 2025-05-23 14:37:29  2025-05-23 02:37:29 PM    Friday    False  Spring   \n",
       "4 2025-05-23 01:32:15  2025-05-23 01:32:15 AM    Friday    False  Spring   \n",
       "\n",
       "   HourAMPM  TimeOfDay              FullStreet        lat        lon  \\\n",
       "0  12:00 AM      Night     1400 UNIVERSITY AVE  38.033936 -78.499972   \n",
       "1  07:07 PM    Evening        2300 DELLMEAD LN  38.060428 -78.498656   \n",
       "2  06:08 PM    Evening  1500 ANTOINETTE AVE, B  38.020606 -78.499495   \n",
       "3  02:37 PM  Afternoon      800 ORANGEDALE AVE  38.021528 -78.497505   \n",
       "4  01:32 AM      Night         300 PRESTON AVE  38.033020 -78.483852   \n",
       "\n",
       "      neighborhood    zip  \n",
       "0              N/A  22903  \n",
       "1      The Meadows  22901  \n",
       "2  Johnson Village  22903  \n",
       "3        Fifeville  22903  \n",
       "4   North Downtown  22902  "
      ]
     },
     "execution_count": 11,
     "metadata": {},
     "output_type": "execute_result"
    }
   ],
   "source": [
    "# Initialize the geocoder.\n",
    "geolocator = Nominatim(user_agent=\"zip_lookup\")\n",
    "\n",
    "# Try to load a persistent ZIP cache if available.\n",
    "try:\n",
    "    with open(\"zip_cache.pkl\", \"rb\") as f:\n",
    "        zip_cache = pickle.load(f)\n",
    "    print(\"Loaded zip cache.\")\n",
    "except FileNotFoundError:\n",
    "    zip_cache = {}\n",
    "    print(\"No zip cache found; starting fresh.\")\n",
    "\n",
    "def get_zip(lat, lon):\n",
    "    \"\"\"\n",
    "    Reverse geocodes a latitude and longitude to retrieve the ZIP code.\n",
    "    Caches results to speed up subsequent lookups.\n",
    "    \"\"\"\n",
    "    key = (lat, lon)\n",
    "    if key in zip_cache:\n",
    "        return zip_cache[key]\n",
    "    \n",
    "    try:\n",
    "        location = geolocator.reverse((lat, lon), exactly_one=True, timeout=10)\n",
    "        address = location.raw.get('address', {})\n",
    "        postal_code = address.get('postcode', \"N/A\")\n",
    "    except Exception as e:\n",
    "        print(f\"Error getting ZIP for {lat}, {lon}: {e}\")\n",
    "        postal_code = \"N/A\"\n",
    "    \n",
    "    zip_cache[key] = postal_code\n",
    "    # Pause to respect the usage policy.\n",
    "    time.sleep(1)\n",
    "    return postal_code\n",
    "\n",
    "# Apply the function to each row in the DataFrame.\n",
    "df['zip'] = df.apply(lambda row: get_zip(row['lat'], row['lon']), axis=1)\n",
    "\n",
    "# Save the updated ZIP cache.\n",
    "with open(\"zip_cache.pkl\", \"wb\") as f:\n",
    "    pickle.dump(zip_cache, f)\n",
    "\n",
    "df.head()\n"
   ]
  },
  {
   "cell_type": "code",
   "execution_count": 12,
   "id": "04c5178c",
   "metadata": {
    "execution": {
     "iopub.execute_input": "2025-05-26T01:05:40.383206Z",
     "iopub.status.busy": "2025-05-26T01:05:40.382694Z",
     "iopub.status.idle": "2025-05-26T01:05:40.410222Z",
     "shell.execute_reply": "2025-05-26T01:05:40.409548Z"
    },
    "papermill": {
     "duration": 0.036204,
     "end_time": "2025-05-26T01:05:40.411387",
     "exception": false,
     "start_time": "2025-05-26T01:05:40.375183",
     "status": "completed"
    },
    "tags": []
   },
   "outputs": [
    {
     "name": "stdout",
     "output_type": "stream",
     "text": [
      "                  MissingCount  MissingPercentage\n",
      "RecordID                     0               0.00\n",
      "Offense                      0               0.00\n",
      "IncidentID                   0               0.00\n",
      "BlockNumber                  0               0.00\n",
      "StreetName                   0               0.00\n",
      "Agency                       0               0.00\n",
      "HourReported                 0               0.00\n",
      "ReportingOfficer            17               0.07\n",
      "Date                         0               0.00\n",
      "DateString                   0               0.00\n",
      "DayOfWeek                    0               0.00\n",
      "Weekend                      0               0.00\n",
      "Season                       0               0.00\n",
      "HourAMPM                     0               0.00\n",
      "TimeOfDay                    0               0.00\n",
      "FullStreet                   0               0.00\n",
      "lat                          0               0.00\n",
      "lon                          0               0.00\n",
      "neighborhood                 0               0.00\n",
      "zip                          0               0.00\n"
     ]
    }
   ],
   "source": [
    "missing_info = missing_percentage(df)\n",
    "print(missing_info)\n"
   ]
  },
  {
   "cell_type": "code",
   "execution_count": 13,
   "id": "ca21bc07",
   "metadata": {
    "execution": {
     "iopub.execute_input": "2025-05-26T01:05:40.426388Z",
     "iopub.status.busy": "2025-05-26T01:05:40.425892Z",
     "iopub.status.idle": "2025-05-26T01:05:40.453892Z",
     "shell.execute_reply": "2025-05-26T01:05:40.453241Z"
    },
    "papermill": {
     "duration": 0.036575,
     "end_time": "2025-05-26T01:05:40.454945",
     "exception": false,
     "start_time": "2025-05-26T01:05:40.418370",
     "status": "completed"
    },
    "tags": []
   },
   "outputs": [
    {
     "name": "stdout",
     "output_type": "stream",
     "text": [
      "<class 'pandas.core.frame.DataFrame'>\n",
      "RangeIndex: 25428 entries, 0 to 25427\n",
      "Data columns (total 20 columns):\n",
      " #   Column            Non-Null Count  Dtype         \n",
      "---  ------            --------------  -----         \n",
      " 0   RecordID          25428 non-null  int64         \n",
      " 1   Offense           25428 non-null  object        \n",
      " 2   IncidentID        25428 non-null  object        \n",
      " 3   BlockNumber       25428 non-null  object        \n",
      " 4   StreetName        25428 non-null  object        \n",
      " 5   Agency            25428 non-null  object        \n",
      " 6   HourReported      25428 non-null  object        \n",
      " 7   ReportingOfficer  25411 non-null  object        \n",
      " 8   Date              25428 non-null  datetime64[ns]\n",
      " 9   DateString        25428 non-null  object        \n",
      " 10  DayOfWeek         25428 non-null  object        \n",
      " 11  Weekend           25428 non-null  bool          \n",
      " 12  Season            25428 non-null  object        \n",
      " 13  HourAMPM          25428 non-null  object        \n",
      " 14  TimeOfDay         25428 non-null  object        \n",
      " 15  FullStreet        25428 non-null  object        \n",
      " 16  lat               25428 non-null  float64       \n",
      " 17  lon               25428 non-null  float64       \n",
      " 18  neighborhood      25428 non-null  object        \n",
      " 19  zip               25428 non-null  object        \n",
      "dtypes: bool(1), datetime64[ns](1), float64(2), int64(1), object(15)\n",
      "memory usage: 3.7+ MB\n"
     ]
    }
   ],
   "source": [
    "df.info()"
   ]
  },
  {
   "cell_type": "code",
   "execution_count": 14,
   "id": "ec86cdf8",
   "metadata": {
    "execution": {
     "iopub.execute_input": "2025-05-26T01:05:40.469922Z",
     "iopub.status.busy": "2025-05-26T01:05:40.469454Z",
     "iopub.status.idle": "2025-05-26T01:05:40.510444Z",
     "shell.execute_reply": "2025-05-26T01:05:40.509751Z"
    },
    "papermill": {
     "duration": 0.049549,
     "end_time": "2025-05-26T01:05:40.511475",
     "exception": false,
     "start_time": "2025-05-26T01:05:40.461926",
     "status": "completed"
    },
    "tags": []
   },
   "outputs": [
    {
     "data": {
      "text/html": [
       "<div>\n",
       "<style scoped>\n",
       "    .dataframe tbody tr th:only-of-type {\n",
       "        vertical-align: middle;\n",
       "    }\n",
       "\n",
       "    .dataframe tbody tr th {\n",
       "        vertical-align: top;\n",
       "    }\n",
       "\n",
       "    .dataframe thead th {\n",
       "        text-align: right;\n",
       "    }\n",
       "</style>\n",
       "<table border=\"1\" class=\"dataframe\">\n",
       "  <thead>\n",
       "    <tr style=\"text-align: right;\">\n",
       "      <th></th>\n",
       "      <th>RecordID</th>\n",
       "      <th>Offense</th>\n",
       "      <th>IncidentID</th>\n",
       "      <th>Agency</th>\n",
       "      <th>ReportingOfficer</th>\n",
       "      <th>Date</th>\n",
       "      <th>DayOfWeek</th>\n",
       "      <th>Weekend</th>\n",
       "      <th>Season</th>\n",
       "      <th>TimeOfDay</th>\n",
       "      <th>FullStreet</th>\n",
       "      <th>lat</th>\n",
       "      <th>lon</th>\n",
       "      <th>neighborhood</th>\n",
       "      <th>zip</th>\n",
       "    </tr>\n",
       "  </thead>\n",
       "  <tbody>\n",
       "    <tr>\n",
       "      <th>0</th>\n",
       "      <td>1</td>\n",
       "      <td>Disorderly Conduct</td>\n",
       "      <td>202500017669</td>\n",
       "      <td>CPD</td>\n",
       "      <td>Ritter, Kobe</td>\n",
       "      <td>2025-05-24 00:00:02</td>\n",
       "      <td>Saturday</td>\n",
       "      <td>True</td>\n",
       "      <td>Spring</td>\n",
       "      <td>Night</td>\n",
       "      <td>1400 UNIVERSITY AVE</td>\n",
       "      <td>38.033936</td>\n",
       "      <td>-78.499972</td>\n",
       "      <td>N/A</td>\n",
       "      <td>22903</td>\n",
       "    </tr>\n",
       "    <tr>\n",
       "      <th>1</th>\n",
       "      <td>2</td>\n",
       "      <td>Lost/FoundProperty</td>\n",
       "      <td>202500017626</td>\n",
       "      <td>CPD</td>\n",
       "      <td>Rigsby, Lloyd</td>\n",
       "      <td>2025-05-23 19:07:21</td>\n",
       "      <td>Friday</td>\n",
       "      <td>False</td>\n",
       "      <td>Spring</td>\n",
       "      <td>Evening</td>\n",
       "      <td>2300 DELLMEAD LN</td>\n",
       "      <td>38.060428</td>\n",
       "      <td>-78.498656</td>\n",
       "      <td>The Meadows</td>\n",
       "      <td>22901</td>\n",
       "    </tr>\n",
       "    <tr>\n",
       "      <th>2</th>\n",
       "      <td>3</td>\n",
       "      <td>Sex Offense-forcible fondling</td>\n",
       "      <td>202500017618</td>\n",
       "      <td>CPD</td>\n",
       "      <td>Bentz, Benjamin</td>\n",
       "      <td>2025-05-23 18:08:27</td>\n",
       "      <td>Friday</td>\n",
       "      <td>False</td>\n",
       "      <td>Spring</td>\n",
       "      <td>Evening</td>\n",
       "      <td>1500 ANTOINETTE AVE, B</td>\n",
       "      <td>38.020606</td>\n",
       "      <td>-78.499495</td>\n",
       "      <td>Johnson Village</td>\n",
       "      <td>22903</td>\n",
       "    </tr>\n",
       "    <tr>\n",
       "      <th>3</th>\n",
       "      <td>4</td>\n",
       "      <td>Death Investigation - DOA</td>\n",
       "      <td>202500017593</td>\n",
       "      <td>CPD</td>\n",
       "      <td>Kinney, Dylan</td>\n",
       "      <td>2025-05-23 14:37:29</td>\n",
       "      <td>Friday</td>\n",
       "      <td>False</td>\n",
       "      <td>Spring</td>\n",
       "      <td>Afternoon</td>\n",
       "      <td>800 ORANGEDALE AVE</td>\n",
       "      <td>38.021528</td>\n",
       "      <td>-78.497505</td>\n",
       "      <td>Fifeville</td>\n",
       "      <td>22903</td>\n",
       "    </tr>\n",
       "    <tr>\n",
       "      <th>4</th>\n",
       "      <td>5</td>\n",
       "      <td>Assault Simple</td>\n",
       "      <td>202500017536</td>\n",
       "      <td>CPD</td>\n",
       "      <td>McLeod, Dustin</td>\n",
       "      <td>2025-05-23 01:32:15</td>\n",
       "      <td>Friday</td>\n",
       "      <td>False</td>\n",
       "      <td>Spring</td>\n",
       "      <td>Night</td>\n",
       "      <td>300 PRESTON AVE</td>\n",
       "      <td>38.033020</td>\n",
       "      <td>-78.483852</td>\n",
       "      <td>North Downtown</td>\n",
       "      <td>22902</td>\n",
       "    </tr>\n",
       "  </tbody>\n",
       "</table>\n",
       "</div>"
      ],
      "text/plain": [
       "   RecordID                        Offense    IncidentID Agency  \\\n",
       "0         1             Disorderly Conduct  202500017669    CPD   \n",
       "1         2             Lost/FoundProperty  202500017626    CPD   \n",
       "2         3  Sex Offense-forcible fondling  202500017618    CPD   \n",
       "3         4      Death Investigation - DOA  202500017593    CPD   \n",
       "4         5                 Assault Simple  202500017536    CPD   \n",
       "\n",
       "   ReportingOfficer                Date DayOfWeek  Weekend  Season  TimeOfDay  \\\n",
       "0      Ritter, Kobe 2025-05-24 00:00:02  Saturday     True  Spring      Night   \n",
       "1     Rigsby, Lloyd 2025-05-23 19:07:21    Friday    False  Spring    Evening   \n",
       "2  Bentz, Benjamin  2025-05-23 18:08:27    Friday    False  Spring    Evening   \n",
       "3     Kinney, Dylan 2025-05-23 14:37:29    Friday    False  Spring  Afternoon   \n",
       "4    McLeod, Dustin 2025-05-23 01:32:15    Friday    False  Spring      Night   \n",
       "\n",
       "               FullStreet        lat        lon     neighborhood    zip  \n",
       "0     1400 UNIVERSITY AVE  38.033936 -78.499972              N/A  22903  \n",
       "1        2300 DELLMEAD LN  38.060428 -78.498656      The Meadows  22901  \n",
       "2  1500 ANTOINETTE AVE, B  38.020606 -78.499495  Johnson Village  22903  \n",
       "3      800 ORANGEDALE AVE  38.021528 -78.497505        Fifeville  22903  \n",
       "4         300 PRESTON AVE  38.033020 -78.483852   North Downtown  22902  "
      ]
     },
     "execution_count": 14,
     "metadata": {},
     "output_type": "execute_result"
    }
   ],
   "source": [
    "# Now drop the original BlockNumber and StreetName columns\n",
    "df.drop(columns=['BlockNumber', 'StreetName','HourAMPM','HourReported','DateString'], inplace=True)\n",
    "df[\"zip\"] = df[\"zip\"].astype(str)\n",
    "\n",
    "# Fill all missing values in the DataFrame with \"N/A\"\n",
    "df.replace({None: \"N/A\", np.nan: \"N/A\", \"\": \"N/A\"}, inplace=True)\n",
    "df.head()"
   ]
  },
  {
   "cell_type": "code",
   "execution_count": 15,
   "id": "83b0a07f",
   "metadata": {
    "execution": {
     "iopub.execute_input": "2025-05-26T01:05:40.527150Z",
     "iopub.status.busy": "2025-05-26T01:05:40.526847Z",
     "iopub.status.idle": "2025-05-26T01:05:40.542862Z",
     "shell.execute_reply": "2025-05-26T01:05:40.542204Z"
    },
    "papermill": {
     "duration": 0.024891,
     "end_time": "2025-05-26T01:05:40.543860",
     "exception": false,
     "start_time": "2025-05-26T01:05:40.518969",
     "status": "completed"
    },
    "tags": []
   },
   "outputs": [
    {
     "name": "stdout",
     "output_type": "stream",
     "text": [
      "                  MissingCount  MissingPercentage\n",
      "RecordID                     0                0.0\n",
      "Offense                      0                0.0\n",
      "IncidentID                   0                0.0\n",
      "Agency                       0                0.0\n",
      "ReportingOfficer             0                0.0\n",
      "Date                         0                0.0\n",
      "DayOfWeek                    0                0.0\n",
      "Weekend                      0                0.0\n",
      "Season                       0                0.0\n",
      "TimeOfDay                    0                0.0\n",
      "FullStreet                   0                0.0\n",
      "lat                          0                0.0\n",
      "lon                          0                0.0\n",
      "neighborhood                 0                0.0\n",
      "zip                          0                0.0\n"
     ]
    }
   ],
   "source": [
    "missing_info = missing_percentage(df)\n",
    "print(missing_info)"
   ]
  },
  {
   "cell_type": "code",
   "execution_count": 16,
   "id": "d9d7dfac",
   "metadata": {
    "execution": {
     "iopub.execute_input": "2025-05-26T01:05:40.561350Z",
     "iopub.status.busy": "2025-05-26T01:05:40.560842Z",
     "iopub.status.idle": "2025-05-26T01:05:40.565291Z",
     "shell.execute_reply": "2025-05-26T01:05:40.564735Z"
    },
    "papermill": {
     "duration": 0.01527,
     "end_time": "2025-05-26T01:05:40.566338",
     "exception": false,
     "start_time": "2025-05-26T01:05:40.551068",
     "status": "completed"
    },
    "tags": []
   },
   "outputs": [
    {
     "data": {
      "text/plain": [
       "Index(['RecordID', 'Offense', 'IncidentID', 'Agency', 'ReportingOfficer',\n",
       "       'Date', 'DayOfWeek', 'Weekend', 'Season', 'TimeOfDay', 'FullStreet',\n",
       "       'lat', 'lon', 'neighborhood', 'zip'],\n",
       "      dtype='object')"
      ]
     },
     "execution_count": 16,
     "metadata": {},
     "output_type": "execute_result"
    }
   ],
   "source": [
    "df.columns"
   ]
  },
  {
   "cell_type": "code",
   "execution_count": 17,
   "id": "9c385398",
   "metadata": {
    "execution": {
     "iopub.execute_input": "2025-05-26T01:05:40.581833Z",
     "iopub.status.busy": "2025-05-26T01:05:40.581444Z",
     "iopub.status.idle": "2025-05-26T01:05:40.602766Z",
     "shell.execute_reply": "2025-05-26T01:05:40.602229Z"
    },
    "papermill": {
     "duration": 0.030212,
     "end_time": "2025-05-26T01:05:40.603838",
     "exception": false,
     "start_time": "2025-05-26T01:05:40.573626",
     "status": "completed"
    },
    "tags": []
   },
   "outputs": [
    {
     "name": "stdout",
     "output_type": "stream",
     "text": [
      "<class 'pandas.core.frame.DataFrame'>\n",
      "RangeIndex: 25428 entries, 0 to 25427\n",
      "Data columns (total 15 columns):\n",
      " #   Column            Non-Null Count  Dtype         \n",
      "---  ------            --------------  -----         \n",
      " 0   RecordID          25428 non-null  int64         \n",
      " 1   Offense           25428 non-null  object        \n",
      " 2   IncidentID        25428 non-null  object        \n",
      " 3   Agency            25428 non-null  object        \n",
      " 4   ReportingOfficer  25428 non-null  object        \n",
      " 5   Date              25428 non-null  datetime64[ns]\n",
      " 6   DayOfWeek         25428 non-null  object        \n",
      " 7   Weekend           25428 non-null  bool          \n",
      " 8   Season            25428 non-null  object        \n",
      " 9   TimeOfDay         25428 non-null  object        \n",
      " 10  FullStreet        25428 non-null  object        \n",
      " 11  lat               25428 non-null  float64       \n",
      " 12  lon               25428 non-null  float64       \n",
      " 13  neighborhood      25428 non-null  object        \n",
      " 14  zip               25428 non-null  object        \n",
      "dtypes: bool(1), datetime64[ns](1), float64(2), int64(1), object(10)\n",
      "memory usage: 2.7+ MB\n"
     ]
    }
   ],
   "source": [
    "df.info()"
   ]
  },
  {
   "cell_type": "markdown",
   "id": "8f042dfa",
   "metadata": {
    "papermill": {
     "duration": 0.00723,
     "end_time": "2025-05-26T01:05:40.618659",
     "exception": false,
     "start_time": "2025-05-26T01:05:40.611429",
     "status": "completed"
    },
    "tags": []
   },
   "source": [
    "### Export Clean Data"
   ]
  },
  {
   "cell_type": "code",
   "execution_count": 18,
   "id": "a1b7e415",
   "metadata": {
    "execution": {
     "iopub.execute_input": "2025-05-26T01:05:40.634485Z",
     "iopub.status.busy": "2025-05-26T01:05:40.633983Z",
     "iopub.status.idle": "2025-05-26T01:05:49.856449Z",
     "shell.execute_reply": "2025-05-26T01:05:49.855790Z"
    },
    "papermill": {
     "duration": 9.231366,
     "end_time": "2025-05-26T01:05:49.857466",
     "exception": false,
     "start_time": "2025-05-26T01:05:40.626100",
     "status": "completed"
    },
    "tags": []
   },
   "outputs": [
    {
     "name": "stdout",
     "output_type": "stream",
     "text": [
      "Project Root: /home/runner/work/crime-data/crime-data\n"
     ]
    },
    {
     "name": "stdout",
     "output_type": "stream",
     "text": [
      "Data saved to: /home/runner/work/crime-data/crime-data/data/charlottesville_crime_incidents.csv\n"
     ]
    },
    {
     "name": "stdout",
     "output_type": "stream",
     "text": [
      "Excel saved to: /home/runner/work/crime-data/crime-data/data/charlottesville_crime_incidents.xlsx\n"
     ]
    }
   ],
   "source": [
    "# Determine the project root (assuming papermill is run from the repository root)\n",
    "project_root = os.getcwd()\n",
    "print(\"Project Root:\", project_root)\n",
    "\n",
    "# Set the data directory within the project root\n",
    "data_dir = os.path.join(project_root, \"data\")\n",
    "\n",
    "# Ensure the \"data\" directory exists (create it if it doesn't)\n",
    "if not os.path.exists(data_dir):\n",
    "    os.makedirs(data_dir)\n",
    "\n",
    "# Export the DataFrame to CSV in the \"data\" folder located in the project root\n",
    "csv_path = os.path.join(data_dir, \"charlottesville_crime_incidents.csv\")\n",
    "df.to_csv(csv_path, index=False)\n",
    "print(\"Data saved to:\", csv_path)\n",
    "\n",
    "# Construct the path to your Excel file\n",
    "excel_path = os.path.join(data_dir, \"charlottesville_crime_incidents.xlsx\")\n",
    "\n",
    "# Export the DataFrame to Excel\n",
    "df.to_excel(excel_path, index=False)\n",
    "print(\"Excel saved to:\", excel_path)\n"
   ]
  },
  {
   "cell_type": "markdown",
   "id": "2a4c92aa",
   "metadata": {
    "papermill": {
     "duration": 0.007481,
     "end_time": "2025-05-26T01:05:49.872780",
     "exception": false,
     "start_time": "2025-05-26T01:05:49.865299",
     "status": "completed"
    },
    "tags": []
   },
   "source": [
    "## Predictive Analytics"
   ]
  },
  {
   "cell_type": "code",
   "execution_count": 19,
   "id": "1efb0688",
   "metadata": {
    "execution": {
     "iopub.execute_input": "2025-05-26T01:05:49.889048Z",
     "iopub.status.busy": "2025-05-26T01:05:49.888578Z",
     "iopub.status.idle": "2025-05-26T01:05:49.900272Z",
     "shell.execute_reply": "2025-05-26T01:05:49.899591Z"
    },
    "papermill": {
     "duration": 0.02107,
     "end_time": "2025-05-26T01:05:49.901393",
     "exception": false,
     "start_time": "2025-05-26T01:05:49.880323",
     "status": "completed"
    },
    "tags": []
   },
   "outputs": [
    {
     "data": {
      "text/html": [
       "<div>\n",
       "<style scoped>\n",
       "    .dataframe tbody tr th:only-of-type {\n",
       "        vertical-align: middle;\n",
       "    }\n",
       "\n",
       "    .dataframe tbody tr th {\n",
       "        vertical-align: top;\n",
       "    }\n",
       "\n",
       "    .dataframe thead th {\n",
       "        text-align: right;\n",
       "    }\n",
       "</style>\n",
       "<table border=\"1\" class=\"dataframe\">\n",
       "  <thead>\n",
       "    <tr style=\"text-align: right;\">\n",
       "      <th></th>\n",
       "      <th>RecordID</th>\n",
       "      <th>Offense</th>\n",
       "      <th>IncidentID</th>\n",
       "      <th>Agency</th>\n",
       "      <th>ReportingOfficer</th>\n",
       "      <th>Date</th>\n",
       "      <th>DayOfWeek</th>\n",
       "      <th>Weekend</th>\n",
       "      <th>Season</th>\n",
       "      <th>TimeOfDay</th>\n",
       "      <th>FullStreet</th>\n",
       "      <th>lat</th>\n",
       "      <th>lon</th>\n",
       "      <th>neighborhood</th>\n",
       "      <th>zip</th>\n",
       "    </tr>\n",
       "  </thead>\n",
       "  <tbody>\n",
       "    <tr>\n",
       "      <th>0</th>\n",
       "      <td>1</td>\n",
       "      <td>Disorderly Conduct</td>\n",
       "      <td>202500017669</td>\n",
       "      <td>CPD</td>\n",
       "      <td>Ritter, Kobe</td>\n",
       "      <td>2025-05-24 00:00:02</td>\n",
       "      <td>Saturday</td>\n",
       "      <td>True</td>\n",
       "      <td>Spring</td>\n",
       "      <td>Night</td>\n",
       "      <td>1400 UNIVERSITY AVE</td>\n",
       "      <td>38.033936</td>\n",
       "      <td>-78.499972</td>\n",
       "      <td>N/A</td>\n",
       "      <td>22903</td>\n",
       "    </tr>\n",
       "    <tr>\n",
       "      <th>1</th>\n",
       "      <td>2</td>\n",
       "      <td>Lost/FoundProperty</td>\n",
       "      <td>202500017626</td>\n",
       "      <td>CPD</td>\n",
       "      <td>Rigsby, Lloyd</td>\n",
       "      <td>2025-05-23 19:07:21</td>\n",
       "      <td>Friday</td>\n",
       "      <td>False</td>\n",
       "      <td>Spring</td>\n",
       "      <td>Evening</td>\n",
       "      <td>2300 DELLMEAD LN</td>\n",
       "      <td>38.060428</td>\n",
       "      <td>-78.498656</td>\n",
       "      <td>The Meadows</td>\n",
       "      <td>22901</td>\n",
       "    </tr>\n",
       "    <tr>\n",
       "      <th>2</th>\n",
       "      <td>3</td>\n",
       "      <td>Sex Offense-forcible fondling</td>\n",
       "      <td>202500017618</td>\n",
       "      <td>CPD</td>\n",
       "      <td>Bentz, Benjamin</td>\n",
       "      <td>2025-05-23 18:08:27</td>\n",
       "      <td>Friday</td>\n",
       "      <td>False</td>\n",
       "      <td>Spring</td>\n",
       "      <td>Evening</td>\n",
       "      <td>1500 ANTOINETTE AVE, B</td>\n",
       "      <td>38.020606</td>\n",
       "      <td>-78.499495</td>\n",
       "      <td>Johnson Village</td>\n",
       "      <td>22903</td>\n",
       "    </tr>\n",
       "    <tr>\n",
       "      <th>3</th>\n",
       "      <td>4</td>\n",
       "      <td>Death Investigation - DOA</td>\n",
       "      <td>202500017593</td>\n",
       "      <td>CPD</td>\n",
       "      <td>Kinney, Dylan</td>\n",
       "      <td>2025-05-23 14:37:29</td>\n",
       "      <td>Friday</td>\n",
       "      <td>False</td>\n",
       "      <td>Spring</td>\n",
       "      <td>Afternoon</td>\n",
       "      <td>800 ORANGEDALE AVE</td>\n",
       "      <td>38.021528</td>\n",
       "      <td>-78.497505</td>\n",
       "      <td>Fifeville</td>\n",
       "      <td>22903</td>\n",
       "    </tr>\n",
       "    <tr>\n",
       "      <th>4</th>\n",
       "      <td>5</td>\n",
       "      <td>Assault Simple</td>\n",
       "      <td>202500017536</td>\n",
       "      <td>CPD</td>\n",
       "      <td>McLeod, Dustin</td>\n",
       "      <td>2025-05-23 01:32:15</td>\n",
       "      <td>Friday</td>\n",
       "      <td>False</td>\n",
       "      <td>Spring</td>\n",
       "      <td>Night</td>\n",
       "      <td>300 PRESTON AVE</td>\n",
       "      <td>38.033020</td>\n",
       "      <td>-78.483852</td>\n",
       "      <td>North Downtown</td>\n",
       "      <td>22902</td>\n",
       "    </tr>\n",
       "  </tbody>\n",
       "</table>\n",
       "</div>"
      ],
      "text/plain": [
       "   RecordID                        Offense    IncidentID Agency  \\\n",
       "0         1             Disorderly Conduct  202500017669    CPD   \n",
       "1         2             Lost/FoundProperty  202500017626    CPD   \n",
       "2         3  Sex Offense-forcible fondling  202500017618    CPD   \n",
       "3         4      Death Investigation - DOA  202500017593    CPD   \n",
       "4         5                 Assault Simple  202500017536    CPD   \n",
       "\n",
       "   ReportingOfficer                Date DayOfWeek  Weekend  Season  TimeOfDay  \\\n",
       "0      Ritter, Kobe 2025-05-24 00:00:02  Saturday     True  Spring      Night   \n",
       "1     Rigsby, Lloyd 2025-05-23 19:07:21    Friday    False  Spring    Evening   \n",
       "2  Bentz, Benjamin  2025-05-23 18:08:27    Friday    False  Spring    Evening   \n",
       "3     Kinney, Dylan 2025-05-23 14:37:29    Friday    False  Spring  Afternoon   \n",
       "4    McLeod, Dustin 2025-05-23 01:32:15    Friday    False  Spring      Night   \n",
       "\n",
       "               FullStreet        lat        lon     neighborhood    zip  \n",
       "0     1400 UNIVERSITY AVE  38.033936 -78.499972              N/A  22903  \n",
       "1        2300 DELLMEAD LN  38.060428 -78.498656      The Meadows  22901  \n",
       "2  1500 ANTOINETTE AVE, B  38.020606 -78.499495  Johnson Village  22903  \n",
       "3      800 ORANGEDALE AVE  38.021528 -78.497505        Fifeville  22903  \n",
       "4         300 PRESTON AVE  38.033020 -78.483852   North Downtown  22902  "
      ]
     },
     "execution_count": 19,
     "metadata": {},
     "output_type": "execute_result"
    }
   ],
   "source": [
    "df.head()"
   ]
  },
  {
   "cell_type": "code",
   "execution_count": 20,
   "id": "aff3896d",
   "metadata": {
    "execution": {
     "iopub.execute_input": "2025-05-26T01:05:49.918335Z",
     "iopub.status.busy": "2025-05-26T01:05:49.917900Z",
     "iopub.status.idle": "2025-05-26T01:05:49.922469Z",
     "shell.execute_reply": "2025-05-26T01:05:49.921817Z"
    },
    "papermill": {
     "duration": 0.014086,
     "end_time": "2025-05-26T01:05:49.923457",
     "exception": false,
     "start_time": "2025-05-26T01:05:49.909371",
     "status": "completed"
    },
    "tags": []
   },
   "outputs": [
    {
     "data": {
      "text/plain": [
       "Index(['RecordID', 'Offense', 'IncidentID', 'Agency', 'ReportingOfficer',\n",
       "       'Date', 'DayOfWeek', 'Weekend', 'Season', 'TimeOfDay', 'FullStreet',\n",
       "       'lat', 'lon', 'neighborhood', 'zip'],\n",
       "      dtype='object')"
      ]
     },
     "execution_count": 20,
     "metadata": {},
     "output_type": "execute_result"
    }
   ],
   "source": [
    "df.columns"
   ]
  },
  {
   "cell_type": "markdown",
   "id": "2564fd5e",
   "metadata": {
    "papermill": {
     "duration": 0.007828,
     "end_time": "2025-05-26T01:05:49.939524",
     "exception": false,
     "start_time": "2025-05-26T01:05:49.931696",
     "status": "completed"
    },
    "tags": []
   },
   "source": [
    "### Data Preparation\n",
    "\n",
    "We need to ensure the data is in the correct format for modeling and can handle missing values, categorical variables, and dates. Here's how to prepare your data:"
   ]
  },
  {
   "cell_type": "code",
   "execution_count": 21,
   "id": "893a651a",
   "metadata": {
    "execution": {
     "iopub.execute_input": "2025-05-26T01:05:49.956112Z",
     "iopub.status.busy": "2025-05-26T01:05:49.955861Z",
     "iopub.status.idle": "2025-05-26T01:05:51.614139Z",
     "shell.execute_reply": "2025-05-26T01:05:51.613326Z"
    },
    "papermill": {
     "duration": 1.668271,
     "end_time": "2025-05-26T01:05:51.615586",
     "exception": false,
     "start_time": "2025-05-26T01:05:49.947315",
     "status": "completed"
    },
    "tags": []
   },
   "outputs": [],
   "source": [
    "import pandas as pd\n",
    "from sklearn.model_selection import train_test_split\n",
    "from sklearn.preprocessing import OneHotEncoder, LabelEncoder\n",
    "from sklearn.ensemble import RandomForestClassifier\n",
    "from sklearn.linear_model import LogisticRegression\n",
    "from sklearn.tree import DecisionTreeClassifier\n",
    "from sklearn.metrics import classification_report, accuracy_score\n",
    "import seaborn as sns\n",
    "import matplotlib.pyplot as plt\n",
    "\n",
    "# Convert 'Date' to datetime\n",
    "df['Date'] = pd.to_datetime(df['Date'])\n",
    "\n",
    "# Feature engineering: Extract additional time-based features\n",
    "df['Year'] = df['Date'].dt.year\n",
    "df['Month'] = df['Date'].dt.month\n",
    "df['DayOfMonth'] = df['Date'].dt.day\n",
    "\n",
    "# One-hot encoding for 'FullStreet', 'neighborhood', 'zip'\n",
    "df = pd.get_dummies(df, columns=['FullStreet', 'neighborhood', 'zip'], drop_first=True)\n",
    "\n",
    "# Label encoding for ordered variables (those with a natural order like 'DayOfWeek', 'Season', 'TimeOfDay')\n",
    "label_encoders = {}\n",
    "for column in ['DayOfWeek', 'Season', 'TimeOfDay', 'Agency', 'ReportingOfficer']:  # Example ordinal variables\n",
    "    le = LabelEncoder()\n",
    "    df[column] = le.fit_transform(df[column])\n",
    "    label_encoders[column] = le\n",
    "\n",
    "# Filter the dataset to include only the offenses of interest\n",
    "offenses_of_interest = [\n",
    "    'Hit and Run', 'Assault Simple', 'Suspicious Activity', 'Vandalism', \n",
    "    'Larceny - From Mot Vehicle', 'Larceny - All Other', \n",
    "    'Assist Citizen - Mental/TDO/ECO', 'Lost/FoundProperty'\n",
    "]\n",
    "\n",
    "df = df[df['Offense'].isin(offenses_of_interest)]\n",
    "\n",
    "# Label encode the target variable (Offense)\n",
    "offense_encoder = LabelEncoder()\n",
    "df['Offense'] = offense_encoder.fit_transform(df['Offense'])\n",
    "\n",
    "# Separate features (X) and target (y)\n",
    "X = df[['Year', 'Month', 'DayOfMonth', 'DayOfWeek', 'Weekend', 'Season', 'TimeOfDay', 'lat', 'lon', 'Agency', 'ReportingOfficer']]\n",
    "y = df['Offense']  # Offense is now the encoded target variable\n",
    "\n",
    "# Split the data into training and testing sets\n",
    "X_train, X_test, y_train, y_test = train_test_split(X, y, test_size=0.3, random_state=42)\n"
   ]
  },
  {
   "cell_type": "markdown",
   "id": "00191b9d",
   "metadata": {
    "papermill": {
     "duration": 0.007844,
     "end_time": "2025-05-26T01:05:51.631872",
     "exception": false,
     "start_time": "2025-05-26T01:05:51.624028",
     "status": "completed"
    },
    "tags": []
   },
   "source": [
    "### Model Training\n",
    "\n",
    "Here we will train several models (e.g., Random Forest, Logistic Regression, and Decision Tree). We will use cross-validation to choose the best model based on accuracy, and then explain the impact of the variables."
   ]
  },
  {
   "cell_type": "code",
   "execution_count": 22,
   "id": "84c6a181",
   "metadata": {
    "execution": {
     "iopub.execute_input": "2025-05-26T01:05:51.649131Z",
     "iopub.status.busy": "2025-05-26T01:05:51.648532Z",
     "iopub.status.idle": "2025-05-26T01:05:55.214656Z",
     "shell.execute_reply": "2025-05-26T01:05:55.214105Z"
    },
    "papermill": {
     "duration": 3.575999,
     "end_time": "2025-05-26T01:05:55.215748",
     "exception": false,
     "start_time": "2025-05-26T01:05:51.639749",
     "status": "completed"
    },
    "tags": []
   },
   "outputs": [
    {
     "name": "stderr",
     "output_type": "stream",
     "text": [
      "/opt/hostedtoolcache/Python/3.9.22/x64/lib/python3.9/site-packages/sklearn/linear_model/_logistic.py:465: ConvergenceWarning: lbfgs failed to converge (status=1):\n",
      "STOP: TOTAL NO. of ITERATIONS REACHED LIMIT.\n",
      "\n",
      "Increase the number of iterations (max_iter) or scale the data as shown in:\n",
      "    https://scikit-learn.org/stable/modules/preprocessing.html\n",
      "Please also refer to the documentation for alternative solver options:\n",
      "    https://scikit-learn.org/stable/modules/linear_model.html#logistic-regression\n",
      "  n_iter_i = _check_optimize_result(\n",
      "/opt/hostedtoolcache/Python/3.9.22/x64/lib/python3.9/site-packages/sklearn/metrics/_classification.py:1565: UndefinedMetricWarning: Precision is ill-defined and being set to 0.0 in labels with no predicted samples. Use `zero_division` parameter to control this behavior.\n",
      "  _warn_prf(average, modifier, f\"{metric.capitalize()} is\", len(result))\n",
      "/opt/hostedtoolcache/Python/3.9.22/x64/lib/python3.9/site-packages/sklearn/metrics/_classification.py:1565: UndefinedMetricWarning: Precision is ill-defined and being set to 0.0 in labels with no predicted samples. Use `zero_division` parameter to control this behavior.\n",
      "  _warn_prf(average, modifier, f\"{metric.capitalize()} is\", len(result))\n",
      "/opt/hostedtoolcache/Python/3.9.22/x64/lib/python3.9/site-packages/sklearn/metrics/_classification.py:1565: UndefinedMetricWarning: Precision is ill-defined and being set to 0.0 in labels with no predicted samples. Use `zero_division` parameter to control this behavior.\n",
      "  _warn_prf(average, modifier, f\"{metric.capitalize()} is\", len(result))\n"
     ]
    },
    {
     "name": "stdout",
     "output_type": "stream",
     "text": [
      "\n",
      "Classification Report for All Models:\n",
      "\n",
      "Model: RandomForest\n",
      "Accuracy: 0.2883\n",
      "              precision    recall  f1-score      support\n",
      "0              0.257256  0.352622  0.297483   553.000000\n",
      "1              0.264516  0.205514  0.231312   399.000000\n",
      "2              0.325103  0.475904  0.386308   664.000000\n",
      "3              0.271233  0.201629  0.231308   491.000000\n",
      "4              0.342857  0.190981  0.245315   377.000000\n",
      "5              0.276549  0.234082  0.253550   534.000000\n",
      "6              0.276596  0.247881  0.261453   472.000000\n",
      "accuracy       0.288252  0.288252  0.288252     0.288252\n",
      "macro avg      0.287730  0.272659  0.272390  3490.000000\n",
      "weighted avg   0.287775  0.288252  0.280277  3490.000000\n"
     ]
    },
    {
     "data": {
      "image/png": "[encoded data removed]",
      "text/plain": [
       "<Figure size 800x600 with 2 Axes>"
      ]
     },
     "metadata": {},
     "output_type": "display_data"
    },
    {
     "name": "stdout",
     "output_type": "stream",
     "text": [
      "\n",
      "Model: LogisticRegression\n",
      "Accuracy: 0.2049\n",
      "              precision    recall  f1-score      support\n",
      "0              0.184963  0.502712  0.270428   553.000000\n",
      "1              0.000000  0.000000  0.000000   399.000000\n",
      "2              0.220151  0.658133  0.329936   664.000000\n",
      "3              0.000000  0.000000  0.000000   491.000000\n",
      "4              0.000000  0.000000  0.000000   377.000000\n",
      "5              0.000000  0.000000  0.000000   534.000000\n",
      "6              0.000000  0.000000  0.000000   472.000000\n",
      "accuracy       0.204871  0.204871  0.204871     0.204871\n",
      "macro avg      0.057874  0.165835  0.085766  3490.000000\n",
      "weighted avg   0.071193  0.204871  0.105623  3490.000000\n"
     ]
    },
    {
     "data": {
      "image/png": "[encoded data removed]",
      "text/plain": [
       "<Figure size 800x600 with 2 Axes>"
      ]
     },
     "metadata": {},
     "output_type": "display_data"
    },
    {
     "name": "stdout",
     "output_type": "stream",
     "text": [
      "\n",
      "Model: DecisionTree\n",
      "Accuracy: 0.2269\n",
      "              precision    recall  f1-score      support\n",
      "0              0.217905  0.233273  0.225328   553.000000\n",
      "1              0.210066  0.240602  0.224299   399.000000\n",
      "2              0.303082  0.266566  0.283654   664.000000\n",
      "3              0.186335  0.183299  0.184805   491.000000\n",
      "4              0.189560  0.183024  0.186235   377.000000\n",
      "5              0.241650  0.230337  0.235858   534.000000\n",
      "6              0.215569  0.228814  0.221994   472.000000\n",
      "accuracy       0.226934  0.226934  0.226934     0.226934\n",
      "macro avg      0.223453  0.223702  0.223167  3490.000000\n",
      "weighted avg   0.229028  0.226934  0.227543  3490.000000\n"
     ]
    },
    {
     "data": {
      "image/png": "[encoded data removed]",
      "text/plain": [
       "<Figure size 800x600 with 2 Axes>"
      ]
     },
     "metadata": {},
     "output_type": "display_data"
    },
    {
     "name": "stdout",
     "output_type": "stream",
     "text": [
      "\n",
      "Best Model:\n",
      "Best Model: RandomForestClassifier()\n",
      "Best Model Accuracy: 0.2883\n"
     ]
    }
   ],
   "source": [
    "import pandas as pd\n",
    "from sklearn.model_selection import train_test_split\n",
    "from sklearn.ensemble import RandomForestClassifier\n",
    "from sklearn.linear_model import LogisticRegression\n",
    "from sklearn.tree import DecisionTreeClassifier\n",
    "from sklearn.metrics import classification_report, accuracy_score, confusion_matrix\n",
    "import seaborn as sns\n",
    "import matplotlib.pyplot as plt\n",
    "\n",
    "# Define models\n",
    "models = {\n",
    "    'RandomForest': RandomForestClassifier(),\n",
    "    'LogisticRegression': LogisticRegression(max_iter=1000),\n",
    "    'DecisionTree': DecisionTreeClassifier()\n",
    "}\n",
    "\n",
    "# Train models and evaluate them\n",
    "best_model = None\n",
    "best_score = 0\n",
    "model_reports = {}\n",
    "\n",
    "for model_name, model in models.items():\n",
    "    model.fit(X_train, y_train)  # Train model\n",
    "    y_pred = model.predict(X_test)  # Make predictions\n",
    "    \n",
    "    # Calculate accuracy and generate classification report\n",
    "    accuracy = accuracy_score(y_test, y_pred)\n",
    "    model_reports[model_name] = classification_report(y_test, y_pred, output_dict=True)  # Store as a dictionary for easier analysis\n",
    "    \n",
    "    # Track best performing model\n",
    "    if accuracy > best_score:\n",
    "        best_score = accuracy\n",
    "        best_model = model\n",
    "\n",
    "# Display classification reports and confusion matrices\n",
    "print(\"\\nClassification Report for All Models:\")\n",
    "for model_name, report in model_reports.items():\n",
    "    print(f\"\\nModel: {model_name}\")\n",
    "    print(\"Accuracy: {:.4f}\".format(accuracy_score(y_test, models[model_name].predict(X_test))))  # Display accuracy\n",
    "    print(pd.DataFrame(report).transpose())  # Display classification report as a DataFrame\n",
    "\n",
    "    # Plot Confusion Matrix\n",
    "    cm = confusion_matrix(y_test, models[model_name].predict(X_test))\n",
    "    plt.figure(figsize=(8, 6))\n",
    "    sns.heatmap(cm, annot=True, fmt=\"d\", cmap='Blues', xticklabels=offense_encoder.classes_, yticklabels=offense_encoder.classes_)\n",
    "    plt.title(f\"Confusion Matrix - {model_name}\")\n",
    "    plt.xlabel('Predicted Labels')\n",
    "    plt.ylabel('True Labels')\n",
    "    plt.show()\n",
    "\n",
    "# Display best model details\n",
    "print(\"\\nBest Model:\")\n",
    "print(f\"Best Model: {best_model}\")\n",
    "print(f\"Best Model Accuracy: {best_score:.4f}\")\n"
   ]
  },
  {
   "cell_type": "markdown",
   "id": "eafd3d9f",
   "metadata": {
    "papermill": {
     "duration": 0.010551,
     "end_time": "2025-05-26T01:05:55.237688",
     "exception": false,
     "start_time": "2025-05-26T01:05:55.227137",
     "status": "completed"
    },
    "tags": []
   },
   "source": [
    "#### Classification Report for All Models:\n",
    "\n",
    "### Explanation of the Classification Results (RandomForest Model)\n",
    "\n",
    "The results you provided are from a **Random Forest** model, which is used for predicting different types of offenses. Let's break down the key components of the results:\n",
    "\n",
    "#### 1. **Accuracy: 0.2822**\n",
    "   - **Accuracy** measures the overall percentage of correct predictions made by the model. An accuracy of 28.22% means the model correctly predicted the offense in about 28% of the cases. This indicates the model's predictions are not highly reliable, as the accuracy is quite low.\n",
    "\n",
    "#### 2. **Classification Report:**\n",
    "   The classification report includes precision, recall, and F1-score for each offense. Let's go over these terms and how they apply to the results:\n",
    "\n",
    "   - **Precision**: The proportion of true positive predictions out of all positive predictions made by the model for a specific class (offense).\n",
    "   - **Recall**: The proportion of true positive predictions out of all actual positive instances in the dataset.\n",
    "   - **F1-Score**: The harmonic mean of precision and recall, providing a balance between the two metrics.\n",
    "   - **Support**: The number of actual occurrences of each class in the test set.\n",
    "\n",
    "   Let's analyze each offense based on these metrics:\n",
    "\n",
    "   | **Offense**                        | **Precision** | **Recall** | **F1-Score** | **Support** |\n",
    "   |------------------------------------|---------------|------------|--------------|-------------|\n",
    "   | **Assault Simple**                 | 0.2892        | 0.3754     | 0.3267       | 594         |\n",
    "   | **Assist Citizen - Mental/TDO/ECO**| 0.3182        | 0.2274     | 0.2652       | 431         |\n",
    "   | **Hit and Run**                    | 0.2963        | 0.4765     | 0.3654       | 638         |\n",
    "   | **Larceny - All Other**            | 0.2270        | 0.1453     | 0.1772       | 475         |\n",
    "   | **Lost/FoundProperty**             | 0.3333        | 0.2102     | 0.2578       | 352         |\n",
    "   | **Suspicious Activity**            | 0.2344        | 0.2169     | 0.2253       | 484         |\n",
    "   | **Vandalism**                      | 0.2712        | 0.2106     | 0.2371       | 470         |\n",
    "\n",
    "#### 3. **Key Insights from the Report:**\n",
    "\n",
    "- **Precision**:\n",
    "   - The highest precision is for **Larceny - All Other** (0.3333), indicating that when the model predicts this offense, it is correct about 33% of the time. However, this is still quite low.\n",
    "   - **Assist Citizen - Mental/TDO/ECO** has the lowest precision (0.2269), meaning that the model's predictions for this offense tend to be wrong more often than correct.\n",
    "\n",
    "- **Recall**:\n",
    "   - **Hit and Run** has the highest recall (0.4765), meaning the model identifies about 48% of the actual occurrences of this offense. This is better than the precision, which indicates it is missing many true positives but is still able to identify a fair number of cases.\n",
    "   - **Larceny - All Other** and **Suspicious Activity** have the lowest recall values (0.1453 and 0.2169, respectively), indicating that the model is failing to identify most of the actual cases for these offenses.\n",
    "\n",
    "- **F1-Score**:\n",
    "   - The **F1-Score** balances precision and recall. It is highest for **Hit and Run** (0.3654), but still relatively low overall. This suggests the model is better at identifying **Hit and Run** than other offenses but still has room for improvement.\n",
    "   - **Larceny - All Other** has the lowest F1-Score (0.1772), indicating a poor balance between precision and recall for this offense.\n",
    "\n",
    "#### 4. **Macro Average and Weighted Average:**\n",
    "   - **Macro Average**: This gives the average precision, recall, and F1-Score across all classes (offenses) without considering the class distribution. It averages the results for all offenses equally.\n",
    "     - Precision: 0.2814\n",
    "     - Recall: 0.2661\n",
    "     - F1-Score: 0.2649\n",
    "   - **Weighted Average**: This averages the metrics but weighs each class by its support (the number of true instances in the test set). This gives a better sense of overall performance, considering the class distribution.\n",
    "     - Precision: 0.2799\n",
    "     - Recall: 0.2822\n",
    "     - F1-Score: 0.2720\n",
    "\n",
    "#### 5. **Confusion Matrix (Visualization Analysis)**:\n",
    "   - The confusion matrix shows the distribution of true positive, false positive, true negative, and false negative predictions for each class.\n",
    "     - For **Hit and Run**, the model performs relatively well in identifying this offense (304 true positives). However, it also misclassifies some **Hit and Run** instances as other offenses (e.g., **Assault Simple**, **Suspicious Activity**, etc.).\n",
    "     - **Larceny - All Other** is frequently misclassified as **Hit and Run**, **Suspicious Activity**, and others. This is evident from the large number of off-diagonal elements in its row.\n",
    "     - **Assist Citizen - Mental/TDO/ECO** and **Suspicious Activity** are frequently misclassified, as seen by the off-diagonal values in their rows.\n",
    "\n",
    "### Conclusion:\n",
    "The Random Forest model has low accuracy (28.22%), suggesting that it struggles to predict most offenses accurately. Some offenses like **Hit and Run** are better predicted than others, but overall, the model shows a high level of misclassification across all offenses. There may be a need for further tuning of the model, additional feature engineering, or trying different models for better performance.\n",
    "\n",
    "Let me know if you'd like to improve the model or make adjustments based on these results!\n",
    "\n"
   ]
  },
  {
   "cell_type": "markdown",
   "id": "dde7f452",
   "metadata": {
    "papermill": {
     "duration": 0.010475,
     "end_time": "2025-05-26T01:05:55.258727",
     "exception": false,
     "start_time": "2025-05-26T01:05:55.248252",
     "status": "completed"
    },
    "tags": []
   },
   "source": [
    "### Model Explanation\n",
    "\n",
    "Once we’ve chosen the best model, we will explain its predictions by examining feature importance for tree-based models and using statistical methods like logistic regression coefficients for linear models."
   ]
  },
  {
   "cell_type": "markdown",
   "id": "d3e8238d",
   "metadata": {
    "papermill": {
     "duration": 0.010378,
     "end_time": "2025-05-26T01:05:55.279618",
     "exception": false,
     "start_time": "2025-05-26T01:05:55.269240",
     "status": "completed"
    },
    "tags": []
   },
   "source": [
    "#### Feature Importance for Random Forest / Decision Tree\n",
    "\n",
    "##### For Tree-based Models (Random Forest, Decision Tree)\n",
    "\n",
    "For Random Forest or Decision Tree, we can look at feature importance to understand which variables contribute the most to the model's predictions. Here's how you can visualize and interpret the importance of each feature:"
   ]
  },
  {
   "cell_type": "code",
   "execution_count": 23,
   "id": "416ba312",
   "metadata": {
    "execution": {
     "iopub.execute_input": "2025-05-26T01:05:55.301771Z",
     "iopub.status.busy": "2025-05-26T01:05:55.301337Z",
     "iopub.status.idle": "2025-05-26T01:05:55.465441Z",
     "shell.execute_reply": "2025-05-26T01:05:55.464797Z"
    },
    "papermill": {
     "duration": 0.17632,
     "end_time": "2025-05-26T01:05:55.466468",
     "exception": false,
     "start_time": "2025-05-26T01:05:55.290148",
     "status": "completed"
    },
    "tags": []
   },
   "outputs": [
    {
     "data": {
      "image/png": "[encoded data removed]",
      "text/plain": [
       "<Figure size 1000x600 with 1 Axes>"
      ]
     },
     "metadata": {},
     "output_type": "display_data"
    }
   ],
   "source": [
    "# For RandomForest or DecisionTree models, we can check feature importance\n",
    "if isinstance(best_model, RandomForestClassifier) or isinstance(best_model, DecisionTreeClassifier):\n",
    "    feature_importance = best_model.feature_importances_\n",
    "    feature_names = X.columns\n",
    "    importance_df = pd.DataFrame({'Feature': feature_names, 'Importance': feature_importance})\n",
    "    importance_df = importance_df.sort_values(by='Importance', ascending=False)\n",
    "    \n",
    "    # Plotting the feature importances\n",
    "    plt.figure(figsize=(10, 6))\n",
    "    sns.barplot(x='Importance', y='Feature', data=importance_df)\n",
    "    plt.title(\"Feature Importance\")\n",
    "    plt.show()\n"
   ]
  },
  {
   "cell_type": "code",
   "execution_count": null,
   "id": "127fcf5b",
   "metadata": {
    "papermill": {
     "duration": 0.010829,
     "end_time": "2025-05-26T01:05:55.488655",
     "exception": false,
     "start_time": "2025-05-26T01:05:55.477826",
     "status": "completed"
    },
    "tags": []
   },
   "outputs": [],
   "source": []
  },
  {
   "cell_type": "markdown",
   "id": "381e9e46",
   "metadata": {
    "papermill": {
     "duration": 0.010746,
     "end_time": "2025-05-26T01:05:55.510257",
     "exception": false,
     "start_time": "2025-05-26T01:05:55.499511",
     "status": "completed"
    },
    "tags": []
   },
   "source": [
    "### Evaluation\n",
    "\n",
    "After training the models and examining their performance, we evaluate the chosen model based on metrics like accuracy, precision, recall, and F1 score.\n",
    "\n"
   ]
  },
  {
   "cell_type": "code",
   "execution_count": 24,
   "id": "d6e5271b",
   "metadata": {
    "execution": {
     "iopub.execute_input": "2025-05-26T01:05:55.533020Z",
     "iopub.status.busy": "2025-05-26T01:05:55.532568Z",
     "iopub.status.idle": "2025-05-26T01:05:55.620376Z",
     "shell.execute_reply": "2025-05-26T01:05:55.619675Z"
    },
    "papermill": {
     "duration": 0.100354,
     "end_time": "2025-05-26T01:05:55.621386",
     "exception": false,
     "start_time": "2025-05-26T01:05:55.521032",
     "status": "completed"
    },
    "tags": []
   },
   "outputs": [
    {
     "name": "stdout",
     "output_type": "stream",
     "text": [
      "Accuracy: 0.2883\n",
      "Classification Report:\n",
      "              precision    recall  f1-score   support\n",
      "\n",
      "           0       0.26      0.35      0.30       553\n",
      "           1       0.26      0.21      0.23       399\n",
      "           2       0.33      0.48      0.39       664\n",
      "           3       0.27      0.20      0.23       491\n",
      "           4       0.34      0.19      0.25       377\n",
      "           5       0.28      0.23      0.25       534\n",
      "           6       0.28      0.25      0.26       472\n",
      "\n",
      "    accuracy                           0.29      3490\n",
      "   macro avg       0.29      0.27      0.27      3490\n",
      "weighted avg       0.29      0.29      0.28      3490\n",
      "\n",
      "Confusion Matrix:\n",
      "[[195  58 124  49  19  60  48]\n",
      " [ 92  82  89  27  20  53  36]\n",
      " [119  31 316  55  19  67  57]\n",
      " [ 84  33 128  99  27  57  63]\n",
      " [ 59  29  68  53  72  41  55]\n",
      " [124  44 132  44  18 125  47]\n",
      " [ 85  33 115  38  35  49 117]]\n",
      "Precision: 0.2878\n",
      "Recall: 0.2883\n",
      "F1 Score: 0.2803\n"
     ]
    }
   ],
   "source": [
    "from sklearn.metrics import classification_report, confusion_matrix, accuracy_score, precision_score, recall_score, f1_score\n",
    "\n",
    "# Predict on the test set\n",
    "y_pred = best_model.predict(X_test)\n",
    "\n",
    "# Calculate Accuracy\n",
    "accuracy = accuracy_score(y_test, y_pred)\n",
    "print(f\"Accuracy: {accuracy:.4f}\")\n",
    "\n",
    "# Classification Report\n",
    "print(\"Classification Report:\")\n",
    "print(classification_report(y_test, y_pred))\n",
    "\n",
    "# Confusion Matrix\n",
    "conf_matrix = confusion_matrix(y_test, y_pred)\n",
    "print(\"Confusion Matrix:\")\n",
    "print(conf_matrix)\n",
    "\n",
    "# Precision, Recall, F1 Score for each class (Offense Type)\n",
    "precision = precision_score(y_test, y_pred, average='weighted')\n",
    "recall = recall_score(y_test, y_pred, average='weighted')\n",
    "f1 = f1_score(y_test, y_pred, average='weighted')\n",
    "\n",
    "print(f\"Precision: {precision:.4f}\")\n",
    "print(f\"Recall: {recall:.4f}\")\n",
    "print(f\"F1 Score: {f1:.4f}\")\n"
   ]
  },
  {
   "cell_type": "markdown",
   "id": "7fb474cf",
   "metadata": {
    "papermill": {
     "duration": 0.010931,
     "end_time": "2025-05-26T01:05:55.643784",
     "exception": false,
     "start_time": "2025-05-26T01:05:55.632853",
     "status": "completed"
    },
    "tags": []
   },
   "source": [
    "#### For Logistic Regression (Coefficient Interpretation)\n",
    "\n",
    "For Logistic Regression, the model coefficients can help us understand how each feature affects the likelihood of an offense happening. A positive coefficient indicates a feature increases the likelihood of the offense, and a negative coefficient indicates the opposite."
   ]
  },
  {
   "cell_type": "code",
   "execution_count": 25,
   "id": "e94fa788",
   "metadata": {
    "execution": {
     "iopub.execute_input": "2025-05-26T01:05:55.666778Z",
     "iopub.status.busy": "2025-05-26T01:05:55.666516Z",
     "iopub.status.idle": "2025-05-26T01:05:55.671374Z",
     "shell.execute_reply": "2025-05-26T01:05:55.670790Z"
    },
    "papermill": {
     "duration": 0.017534,
     "end_time": "2025-05-26T01:05:55.672397",
     "exception": false,
     "start_time": "2025-05-26T01:05:55.654863",
     "status": "completed"
    },
    "tags": []
   },
   "outputs": [],
   "source": [
    "if isinstance(best_model, LogisticRegression):\n",
    "    # Logistic regression coefficients\n",
    "    coef_df = pd.DataFrame({\n",
    "        'Feature': X.columns,\n",
    "        'Coefficient': best_model.coef_[0]\n",
    "    })\n",
    "    coef_df['AbsCoefficient'] = coef_df['Coefficient'].abs()\n",
    "    coef_df = coef_df.sort_values(by='AbsCoefficient', ascending=False)\n",
    "    \n",
    "    # Plotting the coefficients\n",
    "    plt.figure(figsize=(10, 6))\n",
    "    sns.barplot(x='AbsCoefficient', y='Feature', data=coef_df)\n",
    "    plt.title(\"Logistic Regression Coefficients Impact\")\n",
    "    plt.show()\n",
    "\n",
    "    # Print the top 5 most impactful features (by absolute coefficient value)\n",
    "    print(\"Top 5 most impactful features based on coefficients:\")\n",
    "    print(coef_df.head())\n"
   ]
  },
  {
   "cell_type": "markdown",
   "id": "162ac4b5",
   "metadata": {
    "papermill": {
     "duration": 0.01107,
     "end_time": "2025-05-26T01:05:55.694515",
     "exception": false,
     "start_time": "2025-05-26T01:05:55.683445",
     "status": "completed"
    },
    "tags": []
   },
   "source": [
    "Explanation of Output:\n",
    "\n",
    "Feature Importance (Random Forest/Decision Tree): The bar plot will show how important each feature is in the decision-making process. Features at the top of the list are the most influential in predicting the occurrence of offenses.\n",
    "\n",
    "Logistic Regression Coefficients: The bar plot will show the magnitude of the coefficients for each feature. Features with larger absolute values (either positive or negative) have a stronger impact on the model’s predictions. Positive coefficients increase the probability of an offense, while negative coefficients decrease it."
   ]
  },
  {
   "cell_type": "markdown",
   "id": "2f18811c",
   "metadata": {
    "papermill": {
     "duration": 0.011045,
     "end_time": "2025-05-26T01:05:55.716711",
     "exception": false,
     "start_time": "2025-05-26T01:05:55.705666",
     "status": "completed"
    },
    "tags": []
   },
   "source": []
  }
 ],
 "metadata": {
  "kernelspec": {
   "display_name": "Python 3",
   "language": "python",
   "name": "python3"
  },
  "language_info": {
   "codemirror_mode": {
    "name": "ipython",
    "version": 3
   },
   "file_extension": ".py",
   "mimetype": "text/x-python",
   "name": "python",
   "nbconvert_exporter": "python",
   "pygments_lexer": "ipython3",
   "version": "3.9.22"
  },
  "papermill": {
   "default_parameters": {},
   "duration": 74.634485,
   "end_time": "2025-05-26T01:05:56.143617",
   "environment_variables": {},
   "exception": null,
   "input_path": "notebook/Crime Data.ipynb",
   "output_path": "notebook/Crime Data_output.ipynb",
   "parameters": {},
   "start_time": "2025-05-26T01:04:41.509132",
   "version": "2.6.0"
  }
 },
 "nbformat": 4,
 "nbformat_minor": 5
}