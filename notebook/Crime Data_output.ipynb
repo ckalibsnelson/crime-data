{
 "cells": [
  {
   "cell_type": "markdown",
   "id": "b2b43948",
   "metadata": {
    "papermill": {
     "duration": 0.00611,
     "end_time": "2025-04-15T01:00:53.704211",
     "exception": false,
     "start_time": "2025-04-15T01:00:53.698101",
     "status": "completed"
    },
    "tags": []
   },
   "source": [
    "# Charlottesville Open Data Porttal: Crime Data"
   ]
  },
  {
   "cell_type": "markdown",
   "id": "441eca22",
   "metadata": {
    "papermill": {
     "duration": 0.00494,
     "end_time": "2025-04-15T01:00:53.714592",
     "exception": false,
     "start_time": "2025-04-15T01:00:53.709652",
     "status": "completed"
    },
    "tags": []
   },
   "source": [
    "## Import Relevant Librarires & Set WD"
   ]
  },
  {
   "cell_type": "code",
   "execution_count": 1,
   "id": "60e10fda",
   "metadata": {
    "execution": {
     "iopub.execute_input": "2025-04-15T01:00:53.726284Z",
     "iopub.status.busy": "2025-04-15T01:00:53.725697Z",
     "iopub.status.idle": "2025-04-15T01:00:54.237280Z",
     "shell.execute_reply": "2025-04-15T01:00:54.236622Z"
    },
    "papermill": {
     "duration": 0.518975,
     "end_time": "2025-04-15T01:00:54.238669",
     "exception": false,
     "start_time": "2025-04-15T01:00:53.719694",
     "status": "completed"
    },
    "tags": []
   },
   "outputs": [],
   "source": [
    "import requests\n",
    "import pandas as pd\n",
    "import numpy as np\n",
    "import pickle\n",
    "import googlemaps\n",
    "import plotly.express as px\n",
    "from geopy.geocoders import Nominatim\n",
    "import time\n",
    "from dotenv import load_dotenv\n",
    "import os\n",
    "\n",
    "env_path = os.path.join(\"..\", \".env\")\n",
    "#print(\"Looking for .env file at:\", os.path.abspath(env_path))\n",
    "load_dotenv(dotenv_path=env_path)\n",
    "\n",
    "# Retrieve the variables\n",
    "GOOGLE_API_KEY = os.getenv(\"GOOGLE_API_KEY\")\n",
    "WORKING_DIR = os.getenv(\"WORKING_DIR\")\n",
    "\n",
    "if GOOGLE_API_KEY is None or WORKING_DIR is None:\n",
    "    raise RuntimeError(\"No configuration found. Please ensure that your .env file exists with the required variables, or create a local config.py file.\")\n",
    "\n",
    "#print(\"Google API Key:\", GOOGLE_API_KEY)\n",
    "#print(\"Working Directory:\", WORKING_DIR)"
   ]
  },
  {
   "cell_type": "markdown",
   "id": "845c82b5",
   "metadata": {
    "papermill": {
     "duration": 0.005037,
     "end_time": "2025-04-15T01:00:54.249221",
     "exception": false,
     "start_time": "2025-04-15T01:00:54.244184",
     "status": "completed"
    },
    "tags": []
   },
   "source": [
    "## Import Data\n",
    "\n",
    "URL: https://opendata.charlottesville.org/datasets/charlottesville::crime-data/about"
   ]
  },
  {
   "cell_type": "code",
   "execution_count": 2,
   "id": "da46c077",
   "metadata": {
    "execution": {
     "iopub.execute_input": "2025-04-15T01:00:54.260235Z",
     "iopub.status.busy": "2025-04-15T01:00:54.259955Z",
     "iopub.status.idle": "2025-04-15T01:01:52.089738Z",
     "shell.execute_reply": "2025-04-15T01:01:52.088927Z"
    },
    "papermill": {
     "duration": 57.841345,
     "end_time": "2025-04-15T01:01:52.095633",
     "exception": false,
     "start_time": "2025-04-15T01:00:54.254288",
     "status": "completed"
    },
    "tags": []
   },
   "outputs": [
    {
     "name": "stdout",
     "output_type": "stream",
     "text": [
      "Total records imported: 25168\n"
     ]
    }
   ],
   "source": [
    "# Define the endpoint and initial parameters.\n",
    "url = \"https://gisweb.charlottesville.org/arcgis/rest/services/OpenData_2/MapServer/6/query\"\n",
    "params = {\n",
    "    \"where\": \"1=1\",\n",
    "    \"outFields\": \"*\",\n",
    "    \"outSR\": 4326,\n",
    "    \"f\": \"json\",\n",
    "    \"resultOffset\": 0,       # Starting index for results\n",
    "    \"resultRecordCount\": 10000  # Maximum records per batch (if allowed by the API)\n",
    "}\n",
    "\n",
    "records = []\n",
    "\n",
    "while True:\n",
    "    response = requests.get(url, params=params)\n",
    "    response.raise_for_status()\n",
    "    data = response.json()\n",
    "    \n",
    "    # Get the current batch of features.\n",
    "    features = data.get(\"features\", [])\n",
    "    if not features:\n",
    "        break\n",
    "\n",
    "    # Extract the attributes from the features.\n",
    "    batch_records = [feature.get(\"attributes\", {}) for feature in features]\n",
    "    records.extend(batch_records)\n",
    "    \n",
    "    # If the batch size is less than the requested count, we reached the end.\n",
    "    if len(features) < params[\"resultRecordCount\"]:\n",
    "        break\n",
    "\n",
    "    # Update the resultOffset for the next batch.\n",
    "    params[\"resultOffset\"] += params[\"resultRecordCount\"]\n",
    "\n",
    "# Create a DataFrame from the combined records.\n",
    "df = pd.DataFrame(records)\n",
    "print(\"Total records imported:\", len(df))\n"
   ]
  },
  {
   "cell_type": "code",
   "execution_count": 3,
   "id": "efc14f6a",
   "metadata": {
    "execution": {
     "iopub.execute_input": "2025-04-15T01:01:52.108056Z",
     "iopub.status.busy": "2025-04-15T01:01:52.107447Z",
     "iopub.status.idle": "2025-04-15T01:01:52.119962Z",
     "shell.execute_reply": "2025-04-15T01:01:52.119363Z"
    },
    "papermill": {
     "duration": 0.019492,
     "end_time": "2025-04-15T01:01:52.120968",
     "exception": false,
     "start_time": "2025-04-15T01:01:52.101476",
     "status": "completed"
    },
    "tags": []
   },
   "outputs": [
    {
     "data": {
      "text/html": [
       "<div>\n",
       "<style scoped>\n",
       "    .dataframe tbody tr th:only-of-type {\n",
       "        vertical-align: middle;\n",
       "    }\n",
       "\n",
       "    .dataframe tbody tr th {\n",
       "        vertical-align: top;\n",
       "    }\n",
       "\n",
       "    .dataframe thead th {\n",
       "        text-align: right;\n",
       "    }\n",
       "</style>\n",
       "<table border=\"1\" class=\"dataframe\">\n",
       "  <thead>\n",
       "    <tr style=\"text-align: right;\">\n",
       "      <th></th>\n",
       "      <th>RecordID</th>\n",
       "      <th>Offense</th>\n",
       "      <th>IncidentID</th>\n",
       "      <th>BlockNumber</th>\n",
       "      <th>StreetName</th>\n",
       "      <th>Agency</th>\n",
       "      <th>DateReported</th>\n",
       "      <th>HourReported</th>\n",
       "      <th>ReportingOfficer</th>\n",
       "    </tr>\n",
       "  </thead>\n",
       "  <tbody>\n",
       "    <tr>\n",
       "      <th>0</th>\n",
       "      <td>1</td>\n",
       "      <td>Lost/FoundProperty</td>\n",
       "      <td>202500011773</td>\n",
       "      <td>100</td>\n",
       "      <td>PEREGORY LN</td>\n",
       "      <td>CPD</td>\n",
       "      <td>1744496968000</td>\n",
       "      <td>1829</td>\n",
       "      <td>Mcdougal, Jordan</td>\n",
       "    </tr>\n",
       "    <tr>\n",
       "      <th>1</th>\n",
       "      <td>2</td>\n",
       "      <td>Trespass</td>\n",
       "      <td>202500011750</td>\n",
       "      <td>1600</td>\n",
       "      <td>EMMET ST N, 234</td>\n",
       "      <td>CPD</td>\n",
       "      <td>1744480886000</td>\n",
       "      <td>1401</td>\n",
       "      <td>Burnett, James</td>\n",
       "    </tr>\n",
       "    <tr>\n",
       "      <th>2</th>\n",
       "      <td>3</td>\n",
       "      <td>Hit and Run</td>\n",
       "      <td>202500011742</td>\n",
       "      <td></td>\n",
       "      <td>EMMET ST N @ MORTON DR</td>\n",
       "      <td>CPD</td>\n",
       "      <td>1744474951000</td>\n",
       "      <td>1222</td>\n",
       "      <td>Burnett, James</td>\n",
       "    </tr>\n",
       "    <tr>\n",
       "      <th>3</th>\n",
       "      <td>4</td>\n",
       "      <td>Burglary</td>\n",
       "      <td>202500011738</td>\n",
       "      <td>1100</td>\n",
       "      <td>HARRIS ST</td>\n",
       "      <td>CPD</td>\n",
       "      <td>1744473747000</td>\n",
       "      <td>1202</td>\n",
       "      <td>Wisser, Shawn</td>\n",
       "    </tr>\n",
       "    <tr>\n",
       "      <th>4</th>\n",
       "      <td>5</td>\n",
       "      <td>Larceny - From Motor Vehicle</td>\n",
       "      <td>202500011735</td>\n",
       "      <td>1500</td>\n",
       "      <td>ROSE HILL DR</td>\n",
       "      <td>CPD</td>\n",
       "      <td>1744472355000</td>\n",
       "      <td>1139</td>\n",
       "      <td>Burnett, James</td>\n",
       "    </tr>\n",
       "  </tbody>\n",
       "</table>\n",
       "</div>"
      ],
      "text/plain": [
       "   RecordID                       Offense    IncidentID BlockNumber  \\\n",
       "0         1            Lost/FoundProperty  202500011773         100   \n",
       "1         2                      Trespass  202500011750        1600   \n",
       "2         3                   Hit and Run  202500011742               \n",
       "3         4                      Burglary  202500011738        1100   \n",
       "4         5  Larceny - From Motor Vehicle  202500011735        1500   \n",
       "\n",
       "               StreetName Agency   DateReported HourReported  ReportingOfficer  \n",
       "0             PEREGORY LN    CPD  1744496968000         1829  Mcdougal, Jordan  \n",
       "1         EMMET ST N, 234    CPD  1744480886000         1401    Burnett, James  \n",
       "2  EMMET ST N @ MORTON DR    CPD  1744474951000         1222    Burnett, James  \n",
       "3               HARRIS ST    CPD  1744473747000         1202     Wisser, Shawn  \n",
       "4            ROSE HILL DR    CPD  1744472355000         1139    Burnett, James  "
      ]
     },
     "execution_count": 3,
     "metadata": {},
     "output_type": "execute_result"
    }
   ],
   "source": [
    "df.head()"
   ]
  },
  {
   "cell_type": "code",
   "execution_count": 4,
   "id": "94dd934b",
   "metadata": {
    "execution": {
     "iopub.execute_input": "2025-04-15T01:01:52.132522Z",
     "iopub.status.busy": "2025-04-15T01:01:52.132284Z",
     "iopub.status.idle": "2025-04-15T01:01:52.136731Z",
     "shell.execute_reply": "2025-04-15T01:01:52.136172Z"
    },
    "papermill": {
     "duration": 0.01125,
     "end_time": "2025-04-15T01:01:52.137659",
     "exception": false,
     "start_time": "2025-04-15T01:01:52.126409",
     "status": "completed"
    },
    "tags": []
   },
   "outputs": [
    {
     "data": {
      "text/plain": [
       "Index(['RecordID', 'Offense', 'IncidentID', 'BlockNumber', 'StreetName',\n",
       "       'Agency', 'DateReported', 'HourReported', 'ReportingOfficer'],\n",
       "      dtype='object')"
      ]
     },
     "execution_count": 4,
     "metadata": {},
     "output_type": "execute_result"
    }
   ],
   "source": [
    "df.columns"
   ]
  },
  {
   "cell_type": "code",
   "execution_count": 5,
   "id": "1327797c",
   "metadata": {
    "execution": {
     "iopub.execute_input": "2025-04-15T01:01:52.149752Z",
     "iopub.status.busy": "2025-04-15T01:01:52.149523Z",
     "iopub.status.idle": "2025-04-15T01:01:52.173022Z",
     "shell.execute_reply": "2025-04-15T01:01:52.172482Z"
    },
    "papermill": {
     "duration": 0.030895,
     "end_time": "2025-04-15T01:01:52.174005",
     "exception": false,
     "start_time": "2025-04-15T01:01:52.143110",
     "status": "completed"
    },
    "tags": []
   },
   "outputs": [
    {
     "name": "stdout",
     "output_type": "stream",
     "text": [
      "<class 'pandas.core.frame.DataFrame'>\n",
      "RangeIndex: 25168 entries, 0 to 25167\n",
      "Data columns (total 9 columns):\n",
      " #   Column            Non-Null Count  Dtype \n",
      "---  ------            --------------  ----- \n",
      " 0   RecordID          25168 non-null  int64 \n",
      " 1   Offense           25168 non-null  object\n",
      " 2   IncidentID        25168 non-null  object\n",
      " 3   BlockNumber       25168 non-null  object\n",
      " 4   StreetName        25168 non-null  object\n",
      " 5   Agency            25168 non-null  object\n",
      " 6   DateReported      25168 non-null  int64 \n",
      " 7   HourReported      25168 non-null  object\n",
      " 8   ReportingOfficer  25151 non-null  object\n",
      "dtypes: int64(2), object(7)\n",
      "memory usage: 1.7+ MB\n"
     ]
    }
   ],
   "source": [
    "df.info()"
   ]
  },
  {
   "cell_type": "markdown",
   "id": "7237b806",
   "metadata": {
    "papermill": {
     "duration": 0.005526,
     "end_time": "2025-04-15T01:01:52.185237",
     "exception": false,
     "start_time": "2025-04-15T01:01:52.179711",
     "status": "completed"
    },
    "tags": []
   },
   "source": [
    "### Missing Values"
   ]
  },
  {
   "cell_type": "code",
   "execution_count": 6,
   "id": "065b229f",
   "metadata": {
    "execution": {
     "iopub.execute_input": "2025-04-15T01:01:52.197254Z",
     "iopub.status.busy": "2025-04-15T01:01:52.196864Z",
     "iopub.status.idle": "2025-04-15T01:01:52.220796Z",
     "shell.execute_reply": "2025-04-15T01:01:52.220188Z"
    },
    "papermill": {
     "duration": 0.031078,
     "end_time": "2025-04-15T01:01:52.221808",
     "exception": false,
     "start_time": "2025-04-15T01:01:52.190730",
     "status": "completed"
    },
    "tags": []
   },
   "outputs": [
    {
     "name": "stdout",
     "output_type": "stream",
     "text": [
      "                  MissingCount  MissingPercentage\n",
      "RecordID                     0               0.00\n",
      "Offense                      0               0.00\n",
      "IncidentID                   0               0.00\n",
      "BlockNumber                  0               0.00\n",
      "StreetName                   0               0.00\n",
      "Agency                       0               0.00\n",
      "DateReported                 0               0.00\n",
      "HourReported                 0               0.00\n",
      "ReportingOfficer            17               0.07\n"
     ]
    }
   ],
   "source": [
    "def missing_percentage(df):\n",
    "    \"\"\"\n",
    "    Returns a DataFrame with the count and percentage of missing values for each column.\n",
    "    \n",
    "    Parameters:\n",
    "        df (pd.DataFrame): The input DataFrame.\n",
    "    \n",
    "    Returns:\n",
    "        pd.DataFrame: A DataFrame with columns 'MissingCount' and 'MissingPercentage'.\n",
    "    \"\"\"\n",
    "    total_rows = len(df)\n",
    "    missing_count = df.isnull().sum()\n",
    "    missing_percent = (missing_count / total_rows) * 100\n",
    "    \n",
    "    result = pd.DataFrame({\n",
    "        'MissingCount': missing_count,\n",
    "        'MissingPercentage': missing_percent.round(2)\n",
    "    })\n",
    "    \n",
    "    return result\n",
    "\n",
    "# Example usage:\n",
    "missing_info = missing_percentage(df)\n",
    "print(missing_info)\n"
   ]
  },
  {
   "cell_type": "markdown",
   "id": "1596203a",
   "metadata": {
    "papermill": {
     "duration": 0.00561,
     "end_time": "2025-04-15T01:01:52.233255",
     "exception": false,
     "start_time": "2025-04-15T01:01:52.227645",
     "status": "completed"
    },
    "tags": []
   },
   "source": [
    "## Data Preparation"
   ]
  },
  {
   "cell_type": "markdown",
   "id": "f9f3b09f",
   "metadata": {
    "papermill": {
     "duration": 0.005543,
     "end_time": "2025-04-15T01:01:52.244357",
     "exception": false,
     "start_time": "2025-04-15T01:01:52.238814",
     "status": "completed"
    },
    "tags": []
   },
   "source": [
    "### Data Conversion"
   ]
  },
  {
   "cell_type": "code",
   "execution_count": 7,
   "id": "e588aaa1",
   "metadata": {
    "execution": {
     "iopub.execute_input": "2025-04-15T01:01:52.256517Z",
     "iopub.status.busy": "2025-04-15T01:01:52.256103Z",
     "iopub.status.idle": "2025-04-15T01:01:52.631297Z",
     "shell.execute_reply": "2025-04-15T01:01:52.630570Z"
    },
    "papermill": {
     "duration": 0.382619,
     "end_time": "2025-04-15T01:01:52.632499",
     "exception": false,
     "start_time": "2025-04-15T01:01:52.249880",
     "status": "completed"
    },
    "tags": []
   },
   "outputs": [
    {
     "data": {
      "text/html": [
       "<div>\n",
       "<style scoped>\n",
       "    .dataframe tbody tr th:only-of-type {\n",
       "        vertical-align: middle;\n",
       "    }\n",
       "\n",
       "    .dataframe tbody tr th {\n",
       "        vertical-align: top;\n",
       "    }\n",
       "\n",
       "    .dataframe thead th {\n",
       "        text-align: right;\n",
       "    }\n",
       "</style>\n",
       "<table border=\"1\" class=\"dataframe\">\n",
       "  <thead>\n",
       "    <tr style=\"text-align: right;\">\n",
       "      <th></th>\n",
       "      <th>RecordID</th>\n",
       "      <th>Offense</th>\n",
       "      <th>IncidentID</th>\n",
       "      <th>BlockNumber</th>\n",
       "      <th>StreetName</th>\n",
       "      <th>Agency</th>\n",
       "      <th>HourReported</th>\n",
       "      <th>ReportingOfficer</th>\n",
       "      <th>Date</th>\n",
       "      <th>DateString</th>\n",
       "      <th>DayOfWeek</th>\n",
       "      <th>Weekend</th>\n",
       "      <th>Season</th>\n",
       "      <th>HourAMPM</th>\n",
       "      <th>TimeOfDay</th>\n",
       "    </tr>\n",
       "  </thead>\n",
       "  <tbody>\n",
       "    <tr>\n",
       "      <th>0</th>\n",
       "      <td>1</td>\n",
       "      <td>Lost/FoundProperty</td>\n",
       "      <td>202500011773</td>\n",
       "      <td>100</td>\n",
       "      <td>PEREGORY LN</td>\n",
       "      <td>CPD</td>\n",
       "      <td>1829</td>\n",
       "      <td>Mcdougal, Jordan</td>\n",
       "      <td>2025-04-12 18:29:28</td>\n",
       "      <td>2025-04-12 06:29:28 PM</td>\n",
       "      <td>Saturday</td>\n",
       "      <td>True</td>\n",
       "      <td>Spring</td>\n",
       "      <td>06:29 PM</td>\n",
       "      <td>Evening</td>\n",
       "    </tr>\n",
       "    <tr>\n",
       "      <th>1</th>\n",
       "      <td>2</td>\n",
       "      <td>Trespass</td>\n",
       "      <td>202500011750</td>\n",
       "      <td>1600</td>\n",
       "      <td>EMMET ST N, 234</td>\n",
       "      <td>CPD</td>\n",
       "      <td>1401</td>\n",
       "      <td>Burnett, James</td>\n",
       "      <td>2025-04-12 14:01:26</td>\n",
       "      <td>2025-04-12 02:01:26 PM</td>\n",
       "      <td>Saturday</td>\n",
       "      <td>True</td>\n",
       "      <td>Spring</td>\n",
       "      <td>02:01 PM</td>\n",
       "      <td>Afternoon</td>\n",
       "    </tr>\n",
       "    <tr>\n",
       "      <th>2</th>\n",
       "      <td>3</td>\n",
       "      <td>Hit and Run</td>\n",
       "      <td>202500011742</td>\n",
       "      <td></td>\n",
       "      <td>EMMET ST N @ MORTON DR</td>\n",
       "      <td>CPD</td>\n",
       "      <td>1222</td>\n",
       "      <td>Burnett, James</td>\n",
       "      <td>2025-04-12 12:22:31</td>\n",
       "      <td>2025-04-12 12:22:31 PM</td>\n",
       "      <td>Saturday</td>\n",
       "      <td>True</td>\n",
       "      <td>Spring</td>\n",
       "      <td>12:22 PM</td>\n",
       "      <td>Afternoon</td>\n",
       "    </tr>\n",
       "    <tr>\n",
       "      <th>3</th>\n",
       "      <td>4</td>\n",
       "      <td>Burglary</td>\n",
       "      <td>202500011738</td>\n",
       "      <td>1100</td>\n",
       "      <td>HARRIS ST</td>\n",
       "      <td>CPD</td>\n",
       "      <td>1202</td>\n",
       "      <td>Wisser, Shawn</td>\n",
       "      <td>2025-04-12 12:02:27</td>\n",
       "      <td>2025-04-12 12:02:27 PM</td>\n",
       "      <td>Saturday</td>\n",
       "      <td>True</td>\n",
       "      <td>Spring</td>\n",
       "      <td>12:02 PM</td>\n",
       "      <td>Afternoon</td>\n",
       "    </tr>\n",
       "    <tr>\n",
       "      <th>4</th>\n",
       "      <td>5</td>\n",
       "      <td>Larceny - From Motor Vehicle</td>\n",
       "      <td>202500011735</td>\n",
       "      <td>1500</td>\n",
       "      <td>ROSE HILL DR</td>\n",
       "      <td>CPD</td>\n",
       "      <td>1139</td>\n",
       "      <td>Burnett, James</td>\n",
       "      <td>2025-04-12 11:39:15</td>\n",
       "      <td>2025-04-12 11:39:15 AM</td>\n",
       "      <td>Saturday</td>\n",
       "      <td>True</td>\n",
       "      <td>Spring</td>\n",
       "      <td>11:39 AM</td>\n",
       "      <td>Morning</td>\n",
       "    </tr>\n",
       "  </tbody>\n",
       "</table>\n",
       "</div>"
      ],
      "text/plain": [
       "   RecordID                       Offense    IncidentID BlockNumber  \\\n",
       "0         1            Lost/FoundProperty  202500011773         100   \n",
       "1         2                      Trespass  202500011750        1600   \n",
       "2         3                   Hit and Run  202500011742               \n",
       "3         4                      Burglary  202500011738        1100   \n",
       "4         5  Larceny - From Motor Vehicle  202500011735        1500   \n",
       "\n",
       "               StreetName Agency HourReported  ReportingOfficer  \\\n",
       "0             PEREGORY LN    CPD         1829  Mcdougal, Jordan   \n",
       "1         EMMET ST N, 234    CPD         1401    Burnett, James   \n",
       "2  EMMET ST N @ MORTON DR    CPD         1222    Burnett, James   \n",
       "3               HARRIS ST    CPD         1202     Wisser, Shawn   \n",
       "4            ROSE HILL DR    CPD         1139    Burnett, James   \n",
       "\n",
       "                 Date              DateString DayOfWeek  Weekend  Season  \\\n",
       "0 2025-04-12 18:29:28  2025-04-12 06:29:28 PM  Saturday     True  Spring   \n",
       "1 2025-04-12 14:01:26  2025-04-12 02:01:26 PM  Saturday     True  Spring   \n",
       "2 2025-04-12 12:22:31  2025-04-12 12:22:31 PM  Saturday     True  Spring   \n",
       "3 2025-04-12 12:02:27  2025-04-12 12:02:27 PM  Saturday     True  Spring   \n",
       "4 2025-04-12 11:39:15  2025-04-12 11:39:15 AM  Saturday     True  Spring   \n",
       "\n",
       "   HourAMPM  TimeOfDay  \n",
       "0  06:29 PM    Evening  \n",
       "1  02:01 PM  Afternoon  \n",
       "2  12:22 PM  Afternoon  \n",
       "3  12:02 PM  Afternoon  \n",
       "4  11:39 AM    Morning  "
      ]
     },
     "execution_count": 7,
     "metadata": {},
     "output_type": "execute_result"
    }
   ],
   "source": [
    "def convert_and_categorize_datereported(df, col='DateReported'):\n",
    "    \"\"\"\n",
    "    Converts an epoch (in milliseconds) date column into a timezone-aware datetime,\n",
    "    converts it to Eastern Time, and then creates columns for day-of-week, weekend flag,\n",
    "    season, 12-hour formatted time, and time-of-day. Keeps both a real datetime column\n",
    "    (Date) and a string representation (DateString).\n",
    "    \"\"\"\n",
    "    import pandas as pd\n",
    "\n",
    "    # Convert the epoch timestamp to a pandas datetime object as UTC, then convert to US/Eastern.\n",
    "    df[\"DateReported_dt\"] = (\n",
    "        pd.to_datetime(df[col], unit=\"ms\", errors=\"coerce\", utc=True)\n",
    "        .dt.tz_convert(\"US/Eastern\")\n",
    "    )\n",
    "    \n",
    "    # Create a true datetime column (remove timezone if you prefer naive datetime)\n",
    "    df[\"Date\"] = df[\"DateReported_dt\"].dt.tz_localize(None)\n",
    "\n",
    "    # Optionally, create a separate string-formatted column\n",
    "    df[\"DateString\"] = df[\"DateReported_dt\"].dt.strftime(\"%Y-%m-%d %I:%M:%S %p\")\n",
    "    \n",
    "    # DayOfWeek\n",
    "    df[\"DayOfWeek\"] = df[\"DateReported_dt\"].dt.day_name()\n",
    "    \n",
    "    # Weekend\n",
    "    df[\"Weekend\"] = df[\"DayOfWeek\"].isin([\"Saturday\", \"Sunday\"])\n",
    "    \n",
    "    # Helper function to determine the season\n",
    "    def get_season(dt):\n",
    "        month = dt.month\n",
    "        day = dt.day\n",
    "        # Approximate Northern Hemisphere season boundaries:\n",
    "        if (month == 12 and day >= 21) or (month < 3) or (month == 3 and day < 20):\n",
    "            return \"Winter\"\n",
    "        elif (month == 3 and day >= 20) or (month < 6) or (month == 6 and day < 21):\n",
    "            return \"Spring\"\n",
    "        elif (month == 6 and day >= 21) or (month < 9) or (month == 9 and day < 22):\n",
    "            return \"Summer\"\n",
    "        else:\n",
    "            return \"Autumn\"\n",
    "    \n",
    "    df[\"Season\"] = df[\"DateReported_dt\"].apply(get_season)\n",
    "    \n",
    "    # 12-hour formatted time (HourAMPM)\n",
    "    df[\"HourAMPM\"] = df[\"DateReported_dt\"].dt.strftime(\"%I:%M %p\")\n",
    "    \n",
    "    # Extract hour (0-23) for time-of-day\n",
    "    df[\"HourValue\"] = df[\"DateReported_dt\"].dt.hour\n",
    "    \n",
    "    def time_of_day(hour):\n",
    "        if pd.isnull(hour):\n",
    "            return None\n",
    "        if 5 <= hour < 12:\n",
    "            return \"Morning\"\n",
    "        elif 12 <= hour < 17:\n",
    "            return \"Afternoon\"\n",
    "        elif 17 <= hour < 21:\n",
    "            return \"Evening\"\n",
    "        else:\n",
    "            return \"Night\"\n",
    "    \n",
    "    df[\"TimeOfDay\"] = df[\"HourValue\"].apply(time_of_day)\n",
    "    \n",
    "    # Drop columns you no longer need\n",
    "    df.drop(columns=[col, \"DateReported_dt\", \"HourValue\"], inplace=True)\n",
    "    \n",
    "    return df\n",
    "\n",
    "# Example usage:\n",
    "df = convert_and_categorize_datereported(df)\n",
    "df.head()\n"
   ]
  },
  {
   "cell_type": "code",
   "execution_count": 8,
   "id": "af731874",
   "metadata": {
    "execution": {
     "iopub.execute_input": "2025-04-15T01:01:52.645692Z",
     "iopub.status.busy": "2025-04-15T01:01:52.645454Z",
     "iopub.status.idle": "2025-04-15T01:01:52.672109Z",
     "shell.execute_reply": "2025-04-15T01:01:52.671519Z"
    },
    "papermill": {
     "duration": 0.034418,
     "end_time": "2025-04-15T01:01:52.673184",
     "exception": false,
     "start_time": "2025-04-15T01:01:52.638766",
     "status": "completed"
    },
    "tags": []
   },
   "outputs": [
    {
     "name": "stdout",
     "output_type": "stream",
     "text": [
      "<class 'pandas.core.frame.DataFrame'>\n",
      "RangeIndex: 25168 entries, 0 to 25167\n",
      "Data columns (total 15 columns):\n",
      " #   Column            Non-Null Count  Dtype         \n",
      "---  ------            --------------  -----         \n",
      " 0   RecordID          25168 non-null  int64         \n",
      " 1   Offense           25168 non-null  object        \n",
      " 2   IncidentID        25168 non-null  object        \n",
      " 3   BlockNumber       25168 non-null  object        \n",
      " 4   StreetName        25168 non-null  object        \n",
      " 5   Agency            25168 non-null  object        \n",
      " 6   HourReported      25168 non-null  object        \n",
      " 7   ReportingOfficer  25151 non-null  object        \n",
      " 8   Date              25168 non-null  datetime64[ns]\n",
      " 9   DateString        25168 non-null  object        \n",
      " 10  DayOfWeek         25168 non-null  object        \n",
      " 11  Weekend           25168 non-null  bool          \n",
      " 12  Season            25168 non-null  object        \n",
      " 13  HourAMPM          25168 non-null  object        \n",
      " 14  TimeOfDay         25168 non-null  object        \n",
      "dtypes: bool(1), datetime64[ns](1), int64(1), object(12)\n",
      "memory usage: 2.7+ MB\n"
     ]
    }
   ],
   "source": [
    "df.info()"
   ]
  },
  {
   "cell_type": "markdown",
   "id": "d38b74e4",
   "metadata": {
    "papermill": {
     "duration": 0.005892,
     "end_time": "2025-04-15T01:01:52.685183",
     "exception": false,
     "start_time": "2025-04-15T01:01:52.679291",
     "status": "completed"
    },
    "tags": []
   },
   "source": [
    "### Coordinates"
   ]
  },
  {
   "cell_type": "code",
   "execution_count": 9,
   "id": "a124a4df",
   "metadata": {
    "execution": {
     "iopub.execute_input": "2025-04-15T01:01:52.698065Z",
     "iopub.status.busy": "2025-04-15T01:01:52.697663Z",
     "iopub.status.idle": "2025-04-15T01:01:53.042734Z",
     "shell.execute_reply": "2025-04-15T01:01:53.042108Z"
    },
    "papermill": {
     "duration": 0.352765,
     "end_time": "2025-04-15T01:01:53.043824",
     "exception": false,
     "start_time": "2025-04-15T01:01:52.691059",
     "status": "completed"
    },
    "tags": []
   },
   "outputs": [
    {
     "name": "stdout",
     "output_type": "stream",
     "text": [
      "Loaded geocode cache.\n"
     ]
    },
    {
     "name": "stdout",
     "output_type": "stream",
     "text": [
      "Geocoded 1600 EMMET ST N, 234: 38.0579473, -78.4939113\n"
     ]
    },
    {
     "name": "stdout",
     "output_type": "stream",
     "text": [
      "Geocoded 1500 ANTOINETTE AVE, B: 38.0206057, -78.499495\n",
      "Geocode cache updated and saved.\n"
     ]
    },
    {
     "data": {
      "text/html": [
       "<div>\n",
       "<style scoped>\n",
       "    .dataframe tbody tr th:only-of-type {\n",
       "        vertical-align: middle;\n",
       "    }\n",
       "\n",
       "    .dataframe tbody tr th {\n",
       "        vertical-align: top;\n",
       "    }\n",
       "\n",
       "    .dataframe thead th {\n",
       "        text-align: right;\n",
       "    }\n",
       "</style>\n",
       "<table border=\"1\" class=\"dataframe\">\n",
       "  <thead>\n",
       "    <tr style=\"text-align: right;\">\n",
       "      <th></th>\n",
       "      <th>RecordID</th>\n",
       "      <th>Offense</th>\n",
       "      <th>IncidentID</th>\n",
       "      <th>BlockNumber</th>\n",
       "      <th>StreetName</th>\n",
       "      <th>Agency</th>\n",
       "      <th>HourReported</th>\n",
       "      <th>ReportingOfficer</th>\n",
       "      <th>Date</th>\n",
       "      <th>DateString</th>\n",
       "      <th>DayOfWeek</th>\n",
       "      <th>Weekend</th>\n",
       "      <th>Season</th>\n",
       "      <th>HourAMPM</th>\n",
       "      <th>TimeOfDay</th>\n",
       "      <th>FullStreet</th>\n",
       "      <th>lat</th>\n",
       "      <th>lon</th>\n",
       "    </tr>\n",
       "  </thead>\n",
       "  <tbody>\n",
       "    <tr>\n",
       "      <th>0</th>\n",
       "      <td>1</td>\n",
       "      <td>Lost/FoundProperty</td>\n",
       "      <td>202500011773</td>\n",
       "      <td>100</td>\n",
       "      <td>PEREGORY LN</td>\n",
       "      <td>CPD</td>\n",
       "      <td>1829</td>\n",
       "      <td>Mcdougal, Jordan</td>\n",
       "      <td>2025-04-12 18:29:28</td>\n",
       "      <td>2025-04-12 06:29:28 PM</td>\n",
       "      <td>Saturday</td>\n",
       "      <td>True</td>\n",
       "      <td>Spring</td>\n",
       "      <td>06:29 PM</td>\n",
       "      <td>Evening</td>\n",
       "      <td>100 PEREGORY LN</td>\n",
       "      <td>38.005663</td>\n",
       "      <td>-78.496773</td>\n",
       "    </tr>\n",
       "    <tr>\n",
       "      <th>1</th>\n",
       "      <td>2</td>\n",
       "      <td>Trespass</td>\n",
       "      <td>202500011750</td>\n",
       "      <td>1600</td>\n",
       "      <td>EMMET ST N, 234</td>\n",
       "      <td>CPD</td>\n",
       "      <td>1401</td>\n",
       "      <td>Burnett, James</td>\n",
       "      <td>2025-04-12 14:01:26</td>\n",
       "      <td>2025-04-12 02:01:26 PM</td>\n",
       "      <td>Saturday</td>\n",
       "      <td>True</td>\n",
       "      <td>Spring</td>\n",
       "      <td>02:01 PM</td>\n",
       "      <td>Afternoon</td>\n",
       "      <td>1600 EMMET ST N, 234</td>\n",
       "      <td>38.057947</td>\n",
       "      <td>-78.493911</td>\n",
       "    </tr>\n",
       "    <tr>\n",
       "      <th>2</th>\n",
       "      <td>3</td>\n",
       "      <td>Hit and Run</td>\n",
       "      <td>202500011742</td>\n",
       "      <td></td>\n",
       "      <td>EMMET ST N @ MORTON DR</td>\n",
       "      <td>CPD</td>\n",
       "      <td>1222</td>\n",
       "      <td>Burnett, James</td>\n",
       "      <td>2025-04-12 12:22:31</td>\n",
       "      <td>2025-04-12 12:22:31 PM</td>\n",
       "      <td>Saturday</td>\n",
       "      <td>True</td>\n",
       "      <td>Spring</td>\n",
       "      <td>12:22 PM</td>\n",
       "      <td>Afternoon</td>\n",
       "      <td>EMMET ST N @ MORTON DR</td>\n",
       "      <td>38.055966</td>\n",
       "      <td>-78.496346</td>\n",
       "    </tr>\n",
       "    <tr>\n",
       "      <th>3</th>\n",
       "      <td>4</td>\n",
       "      <td>Burglary</td>\n",
       "      <td>202500011738</td>\n",
       "      <td>1100</td>\n",
       "      <td>HARRIS ST</td>\n",
       "      <td>CPD</td>\n",
       "      <td>1202</td>\n",
       "      <td>Wisser, Shawn</td>\n",
       "      <td>2025-04-12 12:02:27</td>\n",
       "      <td>2025-04-12 12:02:27 PM</td>\n",
       "      <td>Saturday</td>\n",
       "      <td>True</td>\n",
       "      <td>Spring</td>\n",
       "      <td>12:02 PM</td>\n",
       "      <td>Afternoon</td>\n",
       "      <td>1100 HARRIS ST</td>\n",
       "      <td>38.039288</td>\n",
       "      <td>-78.480390</td>\n",
       "    </tr>\n",
       "    <tr>\n",
       "      <th>4</th>\n",
       "      <td>5</td>\n",
       "      <td>Larceny - From Motor Vehicle</td>\n",
       "      <td>202500011735</td>\n",
       "      <td>1500</td>\n",
       "      <td>ROSE HILL DR</td>\n",
       "      <td>CPD</td>\n",
       "      <td>1139</td>\n",
       "      <td>Burnett, James</td>\n",
       "      <td>2025-04-12 11:39:15</td>\n",
       "      <td>2025-04-12 11:39:15 AM</td>\n",
       "      <td>Saturday</td>\n",
       "      <td>True</td>\n",
       "      <td>Spring</td>\n",
       "      <td>11:39 AM</td>\n",
       "      <td>Morning</td>\n",
       "      <td>1500 ROSE HILL DR</td>\n",
       "      <td>38.048752</td>\n",
       "      <td>-78.482931</td>\n",
       "    </tr>\n",
       "  </tbody>\n",
       "</table>\n",
       "</div>"
      ],
      "text/plain": [
       "   RecordID                       Offense    IncidentID BlockNumber  \\\n",
       "0         1            Lost/FoundProperty  202500011773         100   \n",
       "1         2                      Trespass  202500011750        1600   \n",
       "2         3                   Hit and Run  202500011742               \n",
       "3         4                      Burglary  202500011738        1100   \n",
       "4         5  Larceny - From Motor Vehicle  202500011735        1500   \n",
       "\n",
       "               StreetName Agency HourReported  ReportingOfficer  \\\n",
       "0             PEREGORY LN    CPD         1829  Mcdougal, Jordan   \n",
       "1         EMMET ST N, 234    CPD         1401    Burnett, James   \n",
       "2  EMMET ST N @ MORTON DR    CPD         1222    Burnett, James   \n",
       "3               HARRIS ST    CPD         1202     Wisser, Shawn   \n",
       "4            ROSE HILL DR    CPD         1139    Burnett, James   \n",
       "\n",
       "                 Date              DateString DayOfWeek  Weekend  Season  \\\n",
       "0 2025-04-12 18:29:28  2025-04-12 06:29:28 PM  Saturday     True  Spring   \n",
       "1 2025-04-12 14:01:26  2025-04-12 02:01:26 PM  Saturday     True  Spring   \n",
       "2 2025-04-12 12:22:31  2025-04-12 12:22:31 PM  Saturday     True  Spring   \n",
       "3 2025-04-12 12:02:27  2025-04-12 12:02:27 PM  Saturday     True  Spring   \n",
       "4 2025-04-12 11:39:15  2025-04-12 11:39:15 AM  Saturday     True  Spring   \n",
       "\n",
       "   HourAMPM  TimeOfDay               FullStreet        lat        lon  \n",
       "0  06:29 PM    Evening          100 PEREGORY LN  38.005663 -78.496773  \n",
       "1  02:01 PM  Afternoon     1600 EMMET ST N, 234  38.057947 -78.493911  \n",
       "2  12:22 PM  Afternoon   EMMET ST N @ MORTON DR  38.055966 -78.496346  \n",
       "3  12:02 PM  Afternoon           1100 HARRIS ST  38.039288 -78.480390  \n",
       "4  11:39 AM    Morning        1500 ROSE HILL DR  38.048752 -78.482931  "
      ]
     },
     "execution_count": 9,
     "metadata": {},
     "output_type": "execute_result"
    }
   ],
   "source": [
    "# Combine BlockNumber and StreetName into a full address string\n",
    "df['FullStreet'] = df['BlockNumber'].astype(str) + \" \" + df['StreetName']\n",
    "\n",
    "# --- Step 1: Setup the Google Maps Client and Cache ---\n",
    "gmaps = googlemaps.Client(key=GOOGLE_API_KEY)\n",
    "\n",
    "# Try to load cached geocoding results if available.\n",
    "try:\n",
    "    with open(\"geocode_cache_google.pkl\", \"rb\") as f:\n",
    "        street_coords = pickle.load(f)\n",
    "    print(\"Loaded geocode cache.\")\n",
    "except FileNotFoundError:\n",
    "    street_coords = {}\n",
    "    print(\"No cache found; starting fresh.\")\n",
    "\n",
    "def geocode_address(address):\n",
    "    try:\n",
    "        # Append city and state to help geocoding\n",
    "        result = gmaps.geocode(f\"{address}, Charlottesville, VA\")\n",
    "        if result:\n",
    "            lat = result[0]['geometry']['location']['lat']\n",
    "            lon = result[0]['geometry']['location']['lng']\n",
    "            return lat, lon\n",
    "    except Exception as e:\n",
    "        print(f\"Error geocoding {address}: {e}\")\n",
    "    return None, None\n",
    "\n",
    "# --- Step 2: Geocode Only New Addresses ---\n",
    "unique_addresses = df['FullStreet'].unique()\n",
    "for address in unique_addresses:\n",
    "    if address not in street_coords:\n",
    "        lat, lon = geocode_address(address)\n",
    "        street_coords[address] = (lat, lon)\n",
    "        print(f\"Geocoded {address}: {lat}, {lon}\")\n",
    "\n",
    "# Save the updated cache to disk.\n",
    "with open(\"geocode_cache_google.pkl\", \"wb\") as f:\n",
    "    pickle.dump(street_coords, f)\n",
    "    print(\"Geocode cache updated and saved.\")\n",
    "\n",
    "# --- Step 3: Map Coordinates Back to DataFrame ---\n",
    "df['lat'] = df['FullStreet'].map(lambda s: street_coords.get(s, (None, None))[0])\n",
    "df['lon'] = df['FullStreet'].map(lambda s: street_coords.get(s, (None, None))[1])\n",
    "\n",
    "df.head()"
   ]
  },
  {
   "cell_type": "markdown",
   "id": "d3fcd9a8",
   "metadata": {
    "papermill": {
     "duration": 0.006295,
     "end_time": "2025-04-15T01:01:53.056845",
     "exception": false,
     "start_time": "2025-04-15T01:01:53.050550",
     "status": "completed"
    },
    "tags": []
   },
   "source": [
    "### Neighborhood"
   ]
  },
  {
   "cell_type": "code",
   "execution_count": 10,
   "id": "45506c60",
   "metadata": {
    "execution": {
     "iopub.execute_input": "2025-04-15T01:01:53.070577Z",
     "iopub.status.busy": "2025-04-15T01:01:53.070117Z",
     "iopub.status.idle": "2025-04-15T01:01:53.331413Z",
     "shell.execute_reply": "2025-04-15T01:01:53.330797Z"
    },
    "papermill": {
     "duration": 0.269416,
     "end_time": "2025-04-15T01:01:53.332524",
     "exception": false,
     "start_time": "2025-04-15T01:01:53.063108",
     "status": "completed"
    },
    "tags": []
   },
   "outputs": [
    {
     "name": "stdout",
     "output_type": "stream",
     "text": [
      "Loaded neighborhood cache.\n"
     ]
    },
    {
     "data": {
      "text/html": [
       "<div>\n",
       "<style scoped>\n",
       "    .dataframe tbody tr th:only-of-type {\n",
       "        vertical-align: middle;\n",
       "    }\n",
       "\n",
       "    .dataframe tbody tr th {\n",
       "        vertical-align: top;\n",
       "    }\n",
       "\n",
       "    .dataframe thead th {\n",
       "        text-align: right;\n",
       "    }\n",
       "</style>\n",
       "<table border=\"1\" class=\"dataframe\">\n",
       "  <thead>\n",
       "    <tr style=\"text-align: right;\">\n",
       "      <th></th>\n",
       "      <th>RecordID</th>\n",
       "      <th>Offense</th>\n",
       "      <th>IncidentID</th>\n",
       "      <th>BlockNumber</th>\n",
       "      <th>StreetName</th>\n",
       "      <th>Agency</th>\n",
       "      <th>HourReported</th>\n",
       "      <th>ReportingOfficer</th>\n",
       "      <th>Date</th>\n",
       "      <th>DateString</th>\n",
       "      <th>DayOfWeek</th>\n",
       "      <th>Weekend</th>\n",
       "      <th>Season</th>\n",
       "      <th>HourAMPM</th>\n",
       "      <th>TimeOfDay</th>\n",
       "      <th>FullStreet</th>\n",
       "      <th>lat</th>\n",
       "      <th>lon</th>\n",
       "      <th>neighborhood</th>\n",
       "    </tr>\n",
       "  </thead>\n",
       "  <tbody>\n",
       "    <tr>\n",
       "      <th>0</th>\n",
       "      <td>1</td>\n",
       "      <td>Lost/FoundProperty</td>\n",
       "      <td>202500011773</td>\n",
       "      <td>100</td>\n",
       "      <td>PEREGORY LN</td>\n",
       "      <td>CPD</td>\n",
       "      <td>1829</td>\n",
       "      <td>Mcdougal, Jordan</td>\n",
       "      <td>2025-04-12 18:29:28</td>\n",
       "      <td>2025-04-12 06:29:28 PM</td>\n",
       "      <td>Saturday</td>\n",
       "      <td>True</td>\n",
       "      <td>Spring</td>\n",
       "      <td>06:29 PM</td>\n",
       "      <td>Evening</td>\n",
       "      <td>100 PEREGORY LN</td>\n",
       "      <td>38.005663</td>\n",
       "      <td>-78.496773</td>\n",
       "      <td>Mill Creek</td>\n",
       "    </tr>\n",
       "    <tr>\n",
       "      <th>1</th>\n",
       "      <td>2</td>\n",
       "      <td>Trespass</td>\n",
       "      <td>202500011750</td>\n",
       "      <td>1600</td>\n",
       "      <td>EMMET ST N, 234</td>\n",
       "      <td>CPD</td>\n",
       "      <td>1401</td>\n",
       "      <td>Burnett, James</td>\n",
       "      <td>2025-04-12 14:01:26</td>\n",
       "      <td>2025-04-12 02:01:26 PM</td>\n",
       "      <td>Saturday</td>\n",
       "      <td>True</td>\n",
       "      <td>Spring</td>\n",
       "      <td>02:01 PM</td>\n",
       "      <td>Afternoon</td>\n",
       "      <td>1600 EMMET ST N, 234</td>\n",
       "      <td>38.057947</td>\n",
       "      <td>-78.493911</td>\n",
       "      <td>The Meadows</td>\n",
       "    </tr>\n",
       "    <tr>\n",
       "      <th>2</th>\n",
       "      <td>3</td>\n",
       "      <td>Hit and Run</td>\n",
       "      <td>202500011742</td>\n",
       "      <td></td>\n",
       "      <td>EMMET ST N @ MORTON DR</td>\n",
       "      <td>CPD</td>\n",
       "      <td>1222</td>\n",
       "      <td>Burnett, James</td>\n",
       "      <td>2025-04-12 12:22:31</td>\n",
       "      <td>2025-04-12 12:22:31 PM</td>\n",
       "      <td>Saturday</td>\n",
       "      <td>True</td>\n",
       "      <td>Spring</td>\n",
       "      <td>12:22 PM</td>\n",
       "      <td>Afternoon</td>\n",
       "      <td>EMMET ST N @ MORTON DR</td>\n",
       "      <td>38.055966</td>\n",
       "      <td>-78.496346</td>\n",
       "      <td>The Meadows</td>\n",
       "    </tr>\n",
       "    <tr>\n",
       "      <th>3</th>\n",
       "      <td>4</td>\n",
       "      <td>Burglary</td>\n",
       "      <td>202500011738</td>\n",
       "      <td>1100</td>\n",
       "      <td>HARRIS ST</td>\n",
       "      <td>CPD</td>\n",
       "      <td>1202</td>\n",
       "      <td>Wisser, Shawn</td>\n",
       "      <td>2025-04-12 12:02:27</td>\n",
       "      <td>2025-04-12 12:02:27 PM</td>\n",
       "      <td>Saturday</td>\n",
       "      <td>True</td>\n",
       "      <td>Spring</td>\n",
       "      <td>12:02 PM</td>\n",
       "      <td>Afternoon</td>\n",
       "      <td>1100 HARRIS ST</td>\n",
       "      <td>38.039288</td>\n",
       "      <td>-78.480390</td>\n",
       "      <td>North Downtown</td>\n",
       "    </tr>\n",
       "    <tr>\n",
       "      <th>4</th>\n",
       "      <td>5</td>\n",
       "      <td>Larceny - From Motor Vehicle</td>\n",
       "      <td>202500011735</td>\n",
       "      <td>1500</td>\n",
       "      <td>ROSE HILL DR</td>\n",
       "      <td>CPD</td>\n",
       "      <td>1139</td>\n",
       "      <td>Burnett, James</td>\n",
       "      <td>2025-04-12 11:39:15</td>\n",
       "      <td>2025-04-12 11:39:15 AM</td>\n",
       "      <td>Saturday</td>\n",
       "      <td>True</td>\n",
       "      <td>Spring</td>\n",
       "      <td>11:39 AM</td>\n",
       "      <td>Morning</td>\n",
       "      <td>1500 ROSE HILL DR</td>\n",
       "      <td>38.048752</td>\n",
       "      <td>-78.482931</td>\n",
       "      <td>Barracks Rugby</td>\n",
       "    </tr>\n",
       "  </tbody>\n",
       "</table>\n",
       "</div>"
      ],
      "text/plain": [
       "   RecordID                       Offense    IncidentID BlockNumber  \\\n",
       "0         1            Lost/FoundProperty  202500011773         100   \n",
       "1         2                      Trespass  202500011750        1600   \n",
       "2         3                   Hit and Run  202500011742               \n",
       "3         4                      Burglary  202500011738        1100   \n",
       "4         5  Larceny - From Motor Vehicle  202500011735        1500   \n",
       "\n",
       "               StreetName Agency HourReported  ReportingOfficer  \\\n",
       "0             PEREGORY LN    CPD         1829  Mcdougal, Jordan   \n",
       "1         EMMET ST N, 234    CPD         1401    Burnett, James   \n",
       "2  EMMET ST N @ MORTON DR    CPD         1222    Burnett, James   \n",
       "3               HARRIS ST    CPD         1202     Wisser, Shawn   \n",
       "4            ROSE HILL DR    CPD         1139    Burnett, James   \n",
       "\n",
       "                 Date              DateString DayOfWeek  Weekend  Season  \\\n",
       "0 2025-04-12 18:29:28  2025-04-12 06:29:28 PM  Saturday     True  Spring   \n",
       "1 2025-04-12 14:01:26  2025-04-12 02:01:26 PM  Saturday     True  Spring   \n",
       "2 2025-04-12 12:22:31  2025-04-12 12:22:31 PM  Saturday     True  Spring   \n",
       "3 2025-04-12 12:02:27  2025-04-12 12:02:27 PM  Saturday     True  Spring   \n",
       "4 2025-04-12 11:39:15  2025-04-12 11:39:15 AM  Saturday     True  Spring   \n",
       "\n",
       "   HourAMPM  TimeOfDay               FullStreet        lat        lon  \\\n",
       "0  06:29 PM    Evening          100 PEREGORY LN  38.005663 -78.496773   \n",
       "1  02:01 PM  Afternoon     1600 EMMET ST N, 234  38.057947 -78.493911   \n",
       "2  12:22 PM  Afternoon   EMMET ST N @ MORTON DR  38.055966 -78.496346   \n",
       "3  12:02 PM  Afternoon           1100 HARRIS ST  38.039288 -78.480390   \n",
       "4  11:39 AM    Morning        1500 ROSE HILL DR  38.048752 -78.482931   \n",
       "\n",
       "     neighborhood  \n",
       "0      Mill Creek  \n",
       "1     The Meadows  \n",
       "2     The Meadows  \n",
       "3  North Downtown  \n",
       "4  Barracks Rugby  "
      ]
     },
     "execution_count": 10,
     "metadata": {},
     "output_type": "execute_result"
    }
   ],
   "source": [
    "# Initialize the Google Maps client.\n",
    "gmaps = googlemaps.Client(key=GOOGLE_API_KEY)\n",
    "\n",
    "# Try to load a persistent neighborhood cache if available.\n",
    "try:\n",
    "    with open(\"neighborhood_cache.pkl\", \"rb\") as f:\n",
    "        neighborhood_cache = pickle.load(f)\n",
    "    print(\"Loaded neighborhood cache.\")\n",
    "except FileNotFoundError:\n",
    "    neighborhood_cache = {}\n",
    "    print(\"No neighborhood cache found; starting fresh.\")\n",
    "\n",
    "def get_neighborhood(lat, lon):\n",
    "    \"\"\"\n",
    "    Reverse geocodes a latitude and longitude to retrieve the neighborhood.\n",
    "    Caches results to speed up subsequent lookups.\n",
    "    \"\"\"\n",
    "    key = (lat, lon)\n",
    "    if key in neighborhood_cache:\n",
    "        return neighborhood_cache[key]\n",
    "    \n",
    "    try:\n",
    "        result = gmaps.reverse_geocode((lat, lon))\n",
    "        if result:\n",
    "            # Look for the 'neighborhood' component in the first result.\n",
    "            for component in result[0]['address_components']:\n",
    "                if 'neighborhood' in component['types']:\n",
    "                    neighborhood = component['long_name']\n",
    "                    neighborhood_cache[key] = neighborhood\n",
    "                    return neighborhood\n",
    "            # If no neighborhood is found, return \"N/A\"\n",
    "            neighborhood_cache[key] = \"N/A\"\n",
    "            return \"N/A\"\n",
    "    except Exception as e:\n",
    "        print(f\"Error getting neighborhood for {lat}, {lon}: {e}\")\n",
    "        return \"N/A\"\n",
    "    \n",
    "    # Pause to respect usage limits.\n",
    "    time.sleep(1)\n",
    "\n",
    "# Example usage: Apply to your DataFrame 'df' that already has 'lat' and 'lon' columns.\n",
    "df['neighborhood'] = df.apply(lambda row: get_neighborhood(row['lat'], row['lon']), axis=1)\n",
    "\n",
    "# Save the updated neighborhood cache.\n",
    "with open(\"neighborhood_cache.pkl\", \"wb\") as f:\n",
    "    pickle.dump(neighborhood_cache, f)\n",
    "\n",
    "df.head()\n"
   ]
  },
  {
   "cell_type": "markdown",
   "id": "f585e188",
   "metadata": {
    "papermill": {
     "duration": 0.006586,
     "end_time": "2025-04-15T01:01:53.345944",
     "exception": false,
     "start_time": "2025-04-15T01:01:53.339358",
     "status": "completed"
    },
    "tags": []
   },
   "source": [
    "### Zip"
   ]
  },
  {
   "cell_type": "code",
   "execution_count": 11,
   "id": "9231d32f",
   "metadata": {
    "execution": {
     "iopub.execute_input": "2025-04-15T01:01:53.360378Z",
     "iopub.status.busy": "2025-04-15T01:01:53.359790Z",
     "iopub.status.idle": "2025-04-15T01:01:53.598773Z",
     "shell.execute_reply": "2025-04-15T01:01:53.598043Z"
    },
    "papermill": {
     "duration": 0.247411,
     "end_time": "2025-04-15T01:01:53.599885",
     "exception": false,
     "start_time": "2025-04-15T01:01:53.352474",
     "status": "completed"
    },
    "tags": []
   },
   "outputs": [
    {
     "name": "stdout",
     "output_type": "stream",
     "text": [
      "Loaded zip cache.\n"
     ]
    },
    {
     "data": {
      "text/html": [
       "<div>\n",
       "<style scoped>\n",
       "    .dataframe tbody tr th:only-of-type {\n",
       "        vertical-align: middle;\n",
       "    }\n",
       "\n",
       "    .dataframe tbody tr th {\n",
       "        vertical-align: top;\n",
       "    }\n",
       "\n",
       "    .dataframe thead th {\n",
       "        text-align: right;\n",
       "    }\n",
       "</style>\n",
       "<table border=\"1\" class=\"dataframe\">\n",
       "  <thead>\n",
       "    <tr style=\"text-align: right;\">\n",
       "      <th></th>\n",
       "      <th>RecordID</th>\n",
       "      <th>Offense</th>\n",
       "      <th>IncidentID</th>\n",
       "      <th>BlockNumber</th>\n",
       "      <th>StreetName</th>\n",
       "      <th>Agency</th>\n",
       "      <th>HourReported</th>\n",
       "      <th>ReportingOfficer</th>\n",
       "      <th>Date</th>\n",
       "      <th>DateString</th>\n",
       "      <th>DayOfWeek</th>\n",
       "      <th>Weekend</th>\n",
       "      <th>Season</th>\n",
       "      <th>HourAMPM</th>\n",
       "      <th>TimeOfDay</th>\n",
       "      <th>FullStreet</th>\n",
       "      <th>lat</th>\n",
       "      <th>lon</th>\n",
       "      <th>neighborhood</th>\n",
       "      <th>zip</th>\n",
       "    </tr>\n",
       "  </thead>\n",
       "  <tbody>\n",
       "    <tr>\n",
       "      <th>0</th>\n",
       "      <td>1</td>\n",
       "      <td>Lost/FoundProperty</td>\n",
       "      <td>202500011773</td>\n",
       "      <td>100</td>\n",
       "      <td>PEREGORY LN</td>\n",
       "      <td>CPD</td>\n",
       "      <td>1829</td>\n",
       "      <td>Mcdougal, Jordan</td>\n",
       "      <td>2025-04-12 18:29:28</td>\n",
       "      <td>2025-04-12 06:29:28 PM</td>\n",
       "      <td>Saturday</td>\n",
       "      <td>True</td>\n",
       "      <td>Spring</td>\n",
       "      <td>06:29 PM</td>\n",
       "      <td>Evening</td>\n",
       "      <td>100 PEREGORY LN</td>\n",
       "      <td>38.005663</td>\n",
       "      <td>-78.496773</td>\n",
       "      <td>Mill Creek</td>\n",
       "      <td>22902</td>\n",
       "    </tr>\n",
       "    <tr>\n",
       "      <th>1</th>\n",
       "      <td>2</td>\n",
       "      <td>Trespass</td>\n",
       "      <td>202500011750</td>\n",
       "      <td>1600</td>\n",
       "      <td>EMMET ST N, 234</td>\n",
       "      <td>CPD</td>\n",
       "      <td>1401</td>\n",
       "      <td>Burnett, James</td>\n",
       "      <td>2025-04-12 14:01:26</td>\n",
       "      <td>2025-04-12 02:01:26 PM</td>\n",
       "      <td>Saturday</td>\n",
       "      <td>True</td>\n",
       "      <td>Spring</td>\n",
       "      <td>02:01 PM</td>\n",
       "      <td>Afternoon</td>\n",
       "      <td>1600 EMMET ST N, 234</td>\n",
       "      <td>38.057947</td>\n",
       "      <td>-78.493911</td>\n",
       "      <td>The Meadows</td>\n",
       "      <td>22901</td>\n",
       "    </tr>\n",
       "    <tr>\n",
       "      <th>2</th>\n",
       "      <td>3</td>\n",
       "      <td>Hit and Run</td>\n",
       "      <td>202500011742</td>\n",
       "      <td></td>\n",
       "      <td>EMMET ST N @ MORTON DR</td>\n",
       "      <td>CPD</td>\n",
       "      <td>1222</td>\n",
       "      <td>Burnett, James</td>\n",
       "      <td>2025-04-12 12:22:31</td>\n",
       "      <td>2025-04-12 12:22:31 PM</td>\n",
       "      <td>Saturday</td>\n",
       "      <td>True</td>\n",
       "      <td>Spring</td>\n",
       "      <td>12:22 PM</td>\n",
       "      <td>Afternoon</td>\n",
       "      <td>EMMET ST N @ MORTON DR</td>\n",
       "      <td>38.055966</td>\n",
       "      <td>-78.496346</td>\n",
       "      <td>The Meadows</td>\n",
       "      <td>22905</td>\n",
       "    </tr>\n",
       "    <tr>\n",
       "      <th>3</th>\n",
       "      <td>4</td>\n",
       "      <td>Burglary</td>\n",
       "      <td>202500011738</td>\n",
       "      <td>1100</td>\n",
       "      <td>HARRIS ST</td>\n",
       "      <td>CPD</td>\n",
       "      <td>1202</td>\n",
       "      <td>Wisser, Shawn</td>\n",
       "      <td>2025-04-12 12:02:27</td>\n",
       "      <td>2025-04-12 12:02:27 PM</td>\n",
       "      <td>Saturday</td>\n",
       "      <td>True</td>\n",
       "      <td>Spring</td>\n",
       "      <td>12:02 PM</td>\n",
       "      <td>Afternoon</td>\n",
       "      <td>1100 HARRIS ST</td>\n",
       "      <td>38.039288</td>\n",
       "      <td>-78.480390</td>\n",
       "      <td>North Downtown</td>\n",
       "      <td>22903</td>\n",
       "    </tr>\n",
       "    <tr>\n",
       "      <th>4</th>\n",
       "      <td>5</td>\n",
       "      <td>Larceny - From Motor Vehicle</td>\n",
       "      <td>202500011735</td>\n",
       "      <td>1500</td>\n",
       "      <td>ROSE HILL DR</td>\n",
       "      <td>CPD</td>\n",
       "      <td>1139</td>\n",
       "      <td>Burnett, James</td>\n",
       "      <td>2025-04-12 11:39:15</td>\n",
       "      <td>2025-04-12 11:39:15 AM</td>\n",
       "      <td>Saturday</td>\n",
       "      <td>True</td>\n",
       "      <td>Spring</td>\n",
       "      <td>11:39 AM</td>\n",
       "      <td>Morning</td>\n",
       "      <td>1500 ROSE HILL DR</td>\n",
       "      <td>38.048752</td>\n",
       "      <td>-78.482931</td>\n",
       "      <td>Barracks Rugby</td>\n",
       "      <td>22903</td>\n",
       "    </tr>\n",
       "  </tbody>\n",
       "</table>\n",
       "</div>"
      ],
      "text/plain": [
       "   RecordID                       Offense    IncidentID BlockNumber  \\\n",
       "0         1            Lost/FoundProperty  202500011773         100   \n",
       "1         2                      Trespass  202500011750        1600   \n",
       "2         3                   Hit and Run  202500011742               \n",
       "3         4                      Burglary  202500011738        1100   \n",
       "4         5  Larceny - From Motor Vehicle  202500011735        1500   \n",
       "\n",
       "               StreetName Agency HourReported  ReportingOfficer  \\\n",
       "0             PEREGORY LN    CPD         1829  Mcdougal, Jordan   \n",
       "1         EMMET ST N, 234    CPD         1401    Burnett, James   \n",
       "2  EMMET ST N @ MORTON DR    CPD         1222    Burnett, James   \n",
       "3               HARRIS ST    CPD         1202     Wisser, Shawn   \n",
       "4            ROSE HILL DR    CPD         1139    Burnett, James   \n",
       "\n",
       "                 Date              DateString DayOfWeek  Weekend  Season  \\\n",
       "0 2025-04-12 18:29:28  2025-04-12 06:29:28 PM  Saturday     True  Spring   \n",
       "1 2025-04-12 14:01:26  2025-04-12 02:01:26 PM  Saturday     True  Spring   \n",
       "2 2025-04-12 12:22:31  2025-04-12 12:22:31 PM  Saturday     True  Spring   \n",
       "3 2025-04-12 12:02:27  2025-04-12 12:02:27 PM  Saturday     True  Spring   \n",
       "4 2025-04-12 11:39:15  2025-04-12 11:39:15 AM  Saturday     True  Spring   \n",
       "\n",
       "   HourAMPM  TimeOfDay               FullStreet        lat        lon  \\\n",
       "0  06:29 PM    Evening          100 PEREGORY LN  38.005663 -78.496773   \n",
       "1  02:01 PM  Afternoon     1600 EMMET ST N, 234  38.057947 -78.493911   \n",
       "2  12:22 PM  Afternoon   EMMET ST N @ MORTON DR  38.055966 -78.496346   \n",
       "3  12:02 PM  Afternoon           1100 HARRIS ST  38.039288 -78.480390   \n",
       "4  11:39 AM    Morning        1500 ROSE HILL DR  38.048752 -78.482931   \n",
       "\n",
       "     neighborhood    zip  \n",
       "0      Mill Creek  22902  \n",
       "1     The Meadows  22901  \n",
       "2     The Meadows  22905  \n",
       "3  North Downtown  22903  \n",
       "4  Barracks Rugby  22903  "
      ]
     },
     "execution_count": 11,
     "metadata": {},
     "output_type": "execute_result"
    }
   ],
   "source": [
    "# Initialize the geocoder.\n",
    "geolocator = Nominatim(user_agent=\"zip_lookup\")\n",
    "\n",
    "# Try to load a persistent ZIP cache if available.\n",
    "try:\n",
    "    with open(\"zip_cache.pkl\", \"rb\") as f:\n",
    "        zip_cache = pickle.load(f)\n",
    "    print(\"Loaded zip cache.\")\n",
    "except FileNotFoundError:\n",
    "    zip_cache = {}\n",
    "    print(\"No zip cache found; starting fresh.\")\n",
    "\n",
    "def get_zip(lat, lon):\n",
    "    \"\"\"\n",
    "    Reverse geocodes a latitude and longitude to retrieve the ZIP code.\n",
    "    Caches results to speed up subsequent lookups.\n",
    "    \"\"\"\n",
    "    key = (lat, lon)\n",
    "    if key in zip_cache:\n",
    "        return zip_cache[key]\n",
    "    \n",
    "    try:\n",
    "        location = geolocator.reverse((lat, lon), exactly_one=True, timeout=10)\n",
    "        address = location.raw.get('address', {})\n",
    "        postal_code = address.get('postcode', \"N/A\")\n",
    "    except Exception as e:\n",
    "        print(f\"Error getting ZIP for {lat}, {lon}: {e}\")\n",
    "        postal_code = \"N/A\"\n",
    "    \n",
    "    zip_cache[key] = postal_code\n",
    "    # Pause to respect the usage policy.\n",
    "    time.sleep(1)\n",
    "    return postal_code\n",
    "\n",
    "# Apply the function to each row in the DataFrame.\n",
    "df['zip'] = df.apply(lambda row: get_zip(row['lat'], row['lon']), axis=1)\n",
    "\n",
    "# Save the updated ZIP cache.\n",
    "with open(\"zip_cache.pkl\", \"wb\") as f:\n",
    "    pickle.dump(zip_cache, f)\n",
    "\n",
    "df.head()\n"
   ]
  },
  {
   "cell_type": "code",
   "execution_count": 12,
   "id": "ecd9b374",
   "metadata": {
    "execution": {
     "iopub.execute_input": "2025-04-15T01:01:53.615072Z",
     "iopub.status.busy": "2025-04-15T01:01:53.614555Z",
     "iopub.status.idle": "2025-04-15T01:01:53.645048Z",
     "shell.execute_reply": "2025-04-15T01:01:53.644360Z"
    },
    "papermill": {
     "duration": 0.038997,
     "end_time": "2025-04-15T01:01:53.646050",
     "exception": false,
     "start_time": "2025-04-15T01:01:53.607053",
     "status": "completed"
    },
    "tags": []
   },
   "outputs": [
    {
     "name": "stdout",
     "output_type": "stream",
     "text": [
      "                  MissingCount  MissingPercentage\n",
      "RecordID                     0               0.00\n",
      "Offense                      0               0.00\n",
      "IncidentID                   0               0.00\n",
      "BlockNumber                  0               0.00\n",
      "StreetName                   0               0.00\n",
      "Agency                       0               0.00\n",
      "HourReported                 0               0.00\n",
      "ReportingOfficer            17               0.07\n",
      "Date                         0               0.00\n",
      "DateString                   0               0.00\n",
      "DayOfWeek                    0               0.00\n",
      "Weekend                      0               0.00\n",
      "Season                       0               0.00\n",
      "HourAMPM                     0               0.00\n",
      "TimeOfDay                    0               0.00\n",
      "FullStreet                   0               0.00\n",
      "lat                          0               0.00\n",
      "lon                          0               0.00\n",
      "neighborhood                 0               0.00\n",
      "zip                          0               0.00\n"
     ]
    }
   ],
   "source": [
    "missing_info = missing_percentage(df)\n",
    "print(missing_info)\n"
   ]
  },
  {
   "cell_type": "code",
   "execution_count": 13,
   "id": "4688441d",
   "metadata": {
    "execution": {
     "iopub.execute_input": "2025-04-15T01:01:53.661220Z",
     "iopub.status.busy": "2025-04-15T01:01:53.660777Z",
     "iopub.status.idle": "2025-04-15T01:01:53.692014Z",
     "shell.execute_reply": "2025-04-15T01:01:53.691419Z"
    },
    "papermill": {
     "duration": 0.039932,
     "end_time": "2025-04-15T01:01:53.693135",
     "exception": false,
     "start_time": "2025-04-15T01:01:53.653203",
     "status": "completed"
    },
    "tags": []
   },
   "outputs": [
    {
     "name": "stdout",
     "output_type": "stream",
     "text": [
      "<class 'pandas.core.frame.DataFrame'>\n",
      "RangeIndex: 25168 entries, 0 to 25167\n",
      "Data columns (total 20 columns):\n",
      " #   Column            Non-Null Count  Dtype         \n",
      "---  ------            --------------  -----         \n",
      " 0   RecordID          25168 non-null  int64         \n",
      " 1   Offense           25168 non-null  object        \n",
      " 2   IncidentID        25168 non-null  object        \n",
      " 3   BlockNumber       25168 non-null  object        \n",
      " 4   StreetName        25168 non-null  object        \n",
      " 5   Agency            25168 non-null  object        \n",
      " 6   HourReported      25168 non-null  object        \n",
      " 7   ReportingOfficer  25151 non-null  object        \n",
      " 8   Date              25168 non-null  datetime64[ns]\n",
      " 9   DateString        25168 non-null  object        \n",
      " 10  DayOfWeek         25168 non-null  object        \n",
      " 11  Weekend           25168 non-null  bool          \n",
      " 12  Season            25168 non-null  object        \n",
      " 13  HourAMPM          25168 non-null  object        \n",
      " 14  TimeOfDay         25168 non-null  object        \n",
      " 15  FullStreet        25168 non-null  object        \n",
      " 16  lat               25168 non-null  float64       \n",
      " 17  lon               25168 non-null  float64       \n",
      " 18  neighborhood      25168 non-null  object        \n",
      " 19  zip               25168 non-null  object        \n",
      "dtypes: bool(1), datetime64[ns](1), float64(2), int64(1), object(15)\n",
      "memory usage: 3.7+ MB\n"
     ]
    }
   ],
   "source": [
    "df.info()"
   ]
  },
  {
   "cell_type": "code",
   "execution_count": 14,
   "id": "73c13e6c",
   "metadata": {
    "execution": {
     "iopub.execute_input": "2025-04-15T01:01:53.708524Z",
     "iopub.status.busy": "2025-04-15T01:01:53.708079Z",
     "iopub.status.idle": "2025-04-15T01:01:53.752731Z",
     "shell.execute_reply": "2025-04-15T01:01:53.752024Z"
    },
    "papermill": {
     "duration": 0.053472,
     "end_time": "2025-04-15T01:01:53.753862",
     "exception": false,
     "start_time": "2025-04-15T01:01:53.700390",
     "status": "completed"
    },
    "tags": []
   },
   "outputs": [
    {
     "data": {
      "text/html": [
       "<div>\n",
       "<style scoped>\n",
       "    .dataframe tbody tr th:only-of-type {\n",
       "        vertical-align: middle;\n",
       "    }\n",
       "\n",
       "    .dataframe tbody tr th {\n",
       "        vertical-align: top;\n",
       "    }\n",
       "\n",
       "    .dataframe thead th {\n",
       "        text-align: right;\n",
       "    }\n",
       "</style>\n",
       "<table border=\"1\" class=\"dataframe\">\n",
       "  <thead>\n",
       "    <tr style=\"text-align: right;\">\n",
       "      <th></th>\n",
       "      <th>RecordID</th>\n",
       "      <th>Offense</th>\n",
       "      <th>IncidentID</th>\n",
       "      <th>Agency</th>\n",
       "      <th>ReportingOfficer</th>\n",
       "      <th>Date</th>\n",
       "      <th>DayOfWeek</th>\n",
       "      <th>Weekend</th>\n",
       "      <th>Season</th>\n",
       "      <th>TimeOfDay</th>\n",
       "      <th>FullStreet</th>\n",
       "      <th>lat</th>\n",
       "      <th>lon</th>\n",
       "      <th>neighborhood</th>\n",
       "      <th>zip</th>\n",
       "    </tr>\n",
       "  </thead>\n",
       "  <tbody>\n",
       "    <tr>\n",
       "      <th>0</th>\n",
       "      <td>1</td>\n",
       "      <td>Lost/FoundProperty</td>\n",
       "      <td>202500011773</td>\n",
       "      <td>CPD</td>\n",
       "      <td>Mcdougal, Jordan</td>\n",
       "      <td>2025-04-12 18:29:28</td>\n",
       "      <td>Saturday</td>\n",
       "      <td>True</td>\n",
       "      <td>Spring</td>\n",
       "      <td>Evening</td>\n",
       "      <td>100 PEREGORY LN</td>\n",
       "      <td>38.005663</td>\n",
       "      <td>-78.496773</td>\n",
       "      <td>Mill Creek</td>\n",
       "      <td>22902</td>\n",
       "    </tr>\n",
       "    <tr>\n",
       "      <th>1</th>\n",
       "      <td>2</td>\n",
       "      <td>Trespass</td>\n",
       "      <td>202500011750</td>\n",
       "      <td>CPD</td>\n",
       "      <td>Burnett, James</td>\n",
       "      <td>2025-04-12 14:01:26</td>\n",
       "      <td>Saturday</td>\n",
       "      <td>True</td>\n",
       "      <td>Spring</td>\n",
       "      <td>Afternoon</td>\n",
       "      <td>1600 EMMET ST N, 234</td>\n",
       "      <td>38.057947</td>\n",
       "      <td>-78.493911</td>\n",
       "      <td>The Meadows</td>\n",
       "      <td>22901</td>\n",
       "    </tr>\n",
       "    <tr>\n",
       "      <th>2</th>\n",
       "      <td>3</td>\n",
       "      <td>Hit and Run</td>\n",
       "      <td>202500011742</td>\n",
       "      <td>CPD</td>\n",
       "      <td>Burnett, James</td>\n",
       "      <td>2025-04-12 12:22:31</td>\n",
       "      <td>Saturday</td>\n",
       "      <td>True</td>\n",
       "      <td>Spring</td>\n",
       "      <td>Afternoon</td>\n",
       "      <td>EMMET ST N @ MORTON DR</td>\n",
       "      <td>38.055966</td>\n",
       "      <td>-78.496346</td>\n",
       "      <td>The Meadows</td>\n",
       "      <td>22905</td>\n",
       "    </tr>\n",
       "    <tr>\n",
       "      <th>3</th>\n",
       "      <td>4</td>\n",
       "      <td>Burglary</td>\n",
       "      <td>202500011738</td>\n",
       "      <td>CPD</td>\n",
       "      <td>Wisser, Shawn</td>\n",
       "      <td>2025-04-12 12:02:27</td>\n",
       "      <td>Saturday</td>\n",
       "      <td>True</td>\n",
       "      <td>Spring</td>\n",
       "      <td>Afternoon</td>\n",
       "      <td>1100 HARRIS ST</td>\n",
       "      <td>38.039288</td>\n",
       "      <td>-78.480390</td>\n",
       "      <td>North Downtown</td>\n",
       "      <td>22903</td>\n",
       "    </tr>\n",
       "    <tr>\n",
       "      <th>4</th>\n",
       "      <td>5</td>\n",
       "      <td>Larceny - From Motor Vehicle</td>\n",
       "      <td>202500011735</td>\n",
       "      <td>CPD</td>\n",
       "      <td>Burnett, James</td>\n",
       "      <td>2025-04-12 11:39:15</td>\n",
       "      <td>Saturday</td>\n",
       "      <td>True</td>\n",
       "      <td>Spring</td>\n",
       "      <td>Morning</td>\n",
       "      <td>1500 ROSE HILL DR</td>\n",
       "      <td>38.048752</td>\n",
       "      <td>-78.482931</td>\n",
       "      <td>Barracks Rugby</td>\n",
       "      <td>22903</td>\n",
       "    </tr>\n",
       "  </tbody>\n",
       "</table>\n",
       "</div>"
      ],
      "text/plain": [
       "   RecordID                       Offense    IncidentID Agency  \\\n",
       "0         1            Lost/FoundProperty  202500011773    CPD   \n",
       "1         2                      Trespass  202500011750    CPD   \n",
       "2         3                   Hit and Run  202500011742    CPD   \n",
       "3         4                      Burglary  202500011738    CPD   \n",
       "4         5  Larceny - From Motor Vehicle  202500011735    CPD   \n",
       "\n",
       "   ReportingOfficer                Date DayOfWeek  Weekend  Season  TimeOfDay  \\\n",
       "0  Mcdougal, Jordan 2025-04-12 18:29:28  Saturday     True  Spring    Evening   \n",
       "1    Burnett, James 2025-04-12 14:01:26  Saturday     True  Spring  Afternoon   \n",
       "2    Burnett, James 2025-04-12 12:22:31  Saturday     True  Spring  Afternoon   \n",
       "3     Wisser, Shawn 2025-04-12 12:02:27  Saturday     True  Spring  Afternoon   \n",
       "4    Burnett, James 2025-04-12 11:39:15  Saturday     True  Spring    Morning   \n",
       "\n",
       "                FullStreet        lat        lon    neighborhood    zip  \n",
       "0          100 PEREGORY LN  38.005663 -78.496773      Mill Creek  22902  \n",
       "1     1600 EMMET ST N, 234  38.057947 -78.493911     The Meadows  22901  \n",
       "2   EMMET ST N @ MORTON DR  38.055966 -78.496346     The Meadows  22905  \n",
       "3           1100 HARRIS ST  38.039288 -78.480390  North Downtown  22903  \n",
       "4        1500 ROSE HILL DR  38.048752 -78.482931  Barracks Rugby  22903  "
      ]
     },
     "execution_count": 14,
     "metadata": {},
     "output_type": "execute_result"
    }
   ],
   "source": [
    "# Now drop the original BlockNumber and StreetName columns\n",
    "df.drop(columns=['BlockNumber', 'StreetName','HourAMPM','HourReported','DateString'], inplace=True)\n",
    "df[\"zip\"] = df[\"zip\"].astype(str)\n",
    "\n",
    "# Fill all missing values in the DataFrame with \"N/A\"\n",
    "df.replace({None: \"N/A\", np.nan: \"N/A\", \"\": \"N/A\"}, inplace=True)\n",
    "df.head()"
   ]
  },
  {
   "cell_type": "code",
   "execution_count": 15,
   "id": "73dd14cf",
   "metadata": {
    "execution": {
     "iopub.execute_input": "2025-04-15T01:01:53.770082Z",
     "iopub.status.busy": "2025-04-15T01:01:53.769541Z",
     "iopub.status.idle": "2025-04-15T01:01:53.789072Z",
     "shell.execute_reply": "2025-04-15T01:01:53.788504Z"
    },
    "papermill": {
     "duration": 0.028478,
     "end_time": "2025-04-15T01:01:53.790062",
     "exception": false,
     "start_time": "2025-04-15T01:01:53.761584",
     "status": "completed"
    },
    "tags": []
   },
   "outputs": [
    {
     "name": "stdout",
     "output_type": "stream",
     "text": [
      "                  MissingCount  MissingPercentage\n",
      "RecordID                     0                0.0\n",
      "Offense                      0                0.0\n",
      "IncidentID                   0                0.0\n",
      "Agency                       0                0.0\n",
      "ReportingOfficer             0                0.0\n",
      "Date                         0                0.0\n",
      "DayOfWeek                    0                0.0\n",
      "Weekend                      0                0.0\n",
      "Season                       0                0.0\n",
      "TimeOfDay                    0                0.0\n",
      "FullStreet                   0                0.0\n",
      "lat                          0                0.0\n",
      "lon                          0                0.0\n",
      "neighborhood                 0                0.0\n",
      "zip                          0                0.0\n"
     ]
    }
   ],
   "source": [
    "missing_info = missing_percentage(df)\n",
    "print(missing_info)"
   ]
  },
  {
   "cell_type": "code",
   "execution_count": 16,
   "id": "5779a22e",
   "metadata": {
    "execution": {
     "iopub.execute_input": "2025-04-15T01:01:53.806300Z",
     "iopub.status.busy": "2025-04-15T01:01:53.805819Z",
     "iopub.status.idle": "2025-04-15T01:01:53.810251Z",
     "shell.execute_reply": "2025-04-15T01:01:53.809734Z"
    },
    "papermill": {
     "duration": 0.013629,
     "end_time": "2025-04-15T01:01:53.811298",
     "exception": false,
     "start_time": "2025-04-15T01:01:53.797669",
     "status": "completed"
    },
    "tags": []
   },
   "outputs": [
    {
     "data": {
      "text/plain": [
       "Index(['RecordID', 'Offense', 'IncidentID', 'Agency', 'ReportingOfficer',\n",
       "       'Date', 'DayOfWeek', 'Weekend', 'Season', 'TimeOfDay', 'FullStreet',\n",
       "       'lat', 'lon', 'neighborhood', 'zip'],\n",
       "      dtype='object')"
      ]
     },
     "execution_count": 16,
     "metadata": {},
     "output_type": "execute_result"
    }
   ],
   "source": [
    "df.columns"
   ]
  },
  {
   "cell_type": "code",
   "execution_count": 17,
   "id": "f48fd1a5",
   "metadata": {
    "execution": {
     "iopub.execute_input": "2025-04-15T01:01:53.827200Z",
     "iopub.status.busy": "2025-04-15T01:01:53.826802Z",
     "iopub.status.idle": "2025-04-15T01:01:53.848797Z",
     "shell.execute_reply": "2025-04-15T01:01:53.848193Z"
    },
    "papermill": {
     "duration": 0.03101,
     "end_time": "2025-04-15T01:01:53.849762",
     "exception": false,
     "start_time": "2025-04-15T01:01:53.818752",
     "status": "completed"
    },
    "tags": []
   },
   "outputs": [
    {
     "name": "stdout",
     "output_type": "stream",
     "text": [
      "<class 'pandas.core.frame.DataFrame'>\n",
      "RangeIndex: 25168 entries, 0 to 25167\n",
      "Data columns (total 15 columns):\n",
      " #   Column            Non-Null Count  Dtype         \n",
      "---  ------            --------------  -----         \n",
      " 0   RecordID          25168 non-null  int64         \n",
      " 1   Offense           25168 non-null  object        \n",
      " 2   IncidentID        25168 non-null  object        \n",
      " 3   Agency            25168 non-null  object        \n",
      " 4   ReportingOfficer  25168 non-null  object        \n",
      " 5   Date              25168 non-null  datetime64[ns]\n",
      " 6   DayOfWeek         25168 non-null  object        \n",
      " 7   Weekend           25168 non-null  bool          \n",
      " 8   Season            25168 non-null  object        \n",
      " 9   TimeOfDay         25168 non-null  object        \n",
      " 10  FullStreet        25168 non-null  object        \n",
      " 11  lat               25168 non-null  float64       \n",
      " 12  lon               25168 non-null  float64       \n",
      " 13  neighborhood      25168 non-null  object        \n",
      " 14  zip               25168 non-null  object        \n",
      "dtypes: bool(1), datetime64[ns](1), float64(2), int64(1), object(10)\n",
      "memory usage: 2.7+ MB\n"
     ]
    }
   ],
   "source": [
    "df.info()"
   ]
  },
  {
   "cell_type": "markdown",
   "id": "50056e64",
   "metadata": {
    "papermill": {
     "duration": 0.007527,
     "end_time": "2025-04-15T01:01:53.865236",
     "exception": false,
     "start_time": "2025-04-15T01:01:53.857709",
     "status": "completed"
    },
    "tags": []
   },
   "source": [
    "### Export Clean Data"
   ]
  },
  {
   "cell_type": "code",
   "execution_count": 18,
   "id": "393f3518",
   "metadata": {
    "execution": {
     "iopub.execute_input": "2025-04-15T01:01:53.882080Z",
     "iopub.status.busy": "2025-04-15T01:01:53.881651Z",
     "iopub.status.idle": "2025-04-15T01:02:03.137595Z",
     "shell.execute_reply": "2025-04-15T01:02:03.136950Z"
    },
    "papermill": {
     "duration": 9.265651,
     "end_time": "2025-04-15T01:02:03.138739",
     "exception": false,
     "start_time": "2025-04-15T01:01:53.873088",
     "status": "completed"
    },
    "tags": []
   },
   "outputs": [
    {
     "name": "stdout",
     "output_type": "stream",
     "text": [
      "Project Root: /home/runner/work/crime-data/crime-data\n"
     ]
    },
    {
     "name": "stdout",
     "output_type": "stream",
     "text": [
      "Data saved to: /home/runner/work/crime-data/crime-data/data/charlottesville_crime_incidents.csv\n"
     ]
    },
    {
     "name": "stdout",
     "output_type": "stream",
     "text": [
      "Excel saved to: /home/runner/work/crime-data/crime-data/data/charlottesville_crime_incidents.xlsx\n"
     ]
    }
   ],
   "source": [
    "# Determine the project root (assuming papermill is run from the repository root)\n",
    "project_root = os.getcwd()\n",
    "print(\"Project Root:\", project_root)\n",
    "\n",
    "# Set the data directory within the project root\n",
    "data_dir = os.path.join(project_root, \"data\")\n",
    "\n",
    "# Ensure the \"data\" directory exists (create it if it doesn't)\n",
    "if not os.path.exists(data_dir):\n",
    "    os.makedirs(data_dir)\n",
    "\n",
    "# Export the DataFrame to CSV in the \"data\" folder located in the project root\n",
    "csv_path = os.path.join(data_dir, \"charlottesville_crime_incidents.csv\")\n",
    "df.to_csv(csv_path, index=False)\n",
    "print(\"Data saved to:\", csv_path)\n",
    "\n",
    "# Construct the path to your Excel file\n",
    "excel_path = os.path.join(data_dir, \"charlottesville_crime_incidents.xlsx\")\n",
    "\n",
    "# Export the DataFrame to Excel\n",
    "df.to_excel(excel_path, index=False)\n",
    "print(\"Excel saved to:\", excel_path)\n"
   ]
  },
  {
   "cell_type": "markdown",
   "id": "46f4d0be",
   "metadata": {
    "papermill": {
     "duration": 0.00781,
     "end_time": "2025-04-15T01:02:03.154748",
     "exception": false,
     "start_time": "2025-04-15T01:02:03.146938",
     "status": "completed"
    },
    "tags": []
   },
   "source": [
    "## Predictive Analytics"
   ]
  },
  {
   "cell_type": "code",
   "execution_count": 19,
   "id": "17755376",
   "metadata": {
    "execution": {
     "iopub.execute_input": "2025-04-15T01:02:03.194758Z",
     "iopub.status.busy": "2025-04-15T01:02:03.194236Z",
     "iopub.status.idle": "2025-04-15T01:02:03.206157Z",
     "shell.execute_reply": "2025-04-15T01:02:03.205577Z"
    },
    "papermill": {
     "duration": 0.021772,
     "end_time": "2025-04-15T01:02:03.207198",
     "exception": false,
     "start_time": "2025-04-15T01:02:03.185426",
     "status": "completed"
    },
    "tags": []
   },
   "outputs": [
    {
     "data": {
      "text/html": [
       "<div>\n",
       "<style scoped>\n",
       "    .dataframe tbody tr th:only-of-type {\n",
       "        vertical-align: middle;\n",
       "    }\n",
       "\n",
       "    .dataframe tbody tr th {\n",
       "        vertical-align: top;\n",
       "    }\n",
       "\n",
       "    .dataframe thead th {\n",
       "        text-align: right;\n",
       "    }\n",
       "</style>\n",
       "<table border=\"1\" class=\"dataframe\">\n",
       "  <thead>\n",
       "    <tr style=\"text-align: right;\">\n",
       "      <th></th>\n",
       "      <th>RecordID</th>\n",
       "      <th>Offense</th>\n",
       "      <th>IncidentID</th>\n",
       "      <th>Agency</th>\n",
       "      <th>ReportingOfficer</th>\n",
       "      <th>Date</th>\n",
       "      <th>DayOfWeek</th>\n",
       "      <th>Weekend</th>\n",
       "      <th>Season</th>\n",
       "      <th>TimeOfDay</th>\n",
       "      <th>FullStreet</th>\n",
       "      <th>lat</th>\n",
       "      <th>lon</th>\n",
       "      <th>neighborhood</th>\n",
       "      <th>zip</th>\n",
       "    </tr>\n",
       "  </thead>\n",
       "  <tbody>\n",
       "    <tr>\n",
       "      <th>0</th>\n",
       "      <td>1</td>\n",
       "      <td>Lost/FoundProperty</td>\n",
       "      <td>202500011773</td>\n",
       "      <td>CPD</td>\n",
       "      <td>Mcdougal, Jordan</td>\n",
       "      <td>2025-04-12 18:29:28</td>\n",
       "      <td>Saturday</td>\n",
       "      <td>True</td>\n",
       "      <td>Spring</td>\n",
       "      <td>Evening</td>\n",
       "      <td>100 PEREGORY LN</td>\n",
       "      <td>38.005663</td>\n",
       "      <td>-78.496773</td>\n",
       "      <td>Mill Creek</td>\n",
       "      <td>22902</td>\n",
       "    </tr>\n",
       "    <tr>\n",
       "      <th>1</th>\n",
       "      <td>2</td>\n",
       "      <td>Trespass</td>\n",
       "      <td>202500011750</td>\n",
       "      <td>CPD</td>\n",
       "      <td>Burnett, James</td>\n",
       "      <td>2025-04-12 14:01:26</td>\n",
       "      <td>Saturday</td>\n",
       "      <td>True</td>\n",
       "      <td>Spring</td>\n",
       "      <td>Afternoon</td>\n",
       "      <td>1600 EMMET ST N, 234</td>\n",
       "      <td>38.057947</td>\n",
       "      <td>-78.493911</td>\n",
       "      <td>The Meadows</td>\n",
       "      <td>22901</td>\n",
       "    </tr>\n",
       "    <tr>\n",
       "      <th>2</th>\n",
       "      <td>3</td>\n",
       "      <td>Hit and Run</td>\n",
       "      <td>202500011742</td>\n",
       "      <td>CPD</td>\n",
       "      <td>Burnett, James</td>\n",
       "      <td>2025-04-12 12:22:31</td>\n",
       "      <td>Saturday</td>\n",
       "      <td>True</td>\n",
       "      <td>Spring</td>\n",
       "      <td>Afternoon</td>\n",
       "      <td>EMMET ST N @ MORTON DR</td>\n",
       "      <td>38.055966</td>\n",
       "      <td>-78.496346</td>\n",
       "      <td>The Meadows</td>\n",
       "      <td>22905</td>\n",
       "    </tr>\n",
       "    <tr>\n",
       "      <th>3</th>\n",
       "      <td>4</td>\n",
       "      <td>Burglary</td>\n",
       "      <td>202500011738</td>\n",
       "      <td>CPD</td>\n",
       "      <td>Wisser, Shawn</td>\n",
       "      <td>2025-04-12 12:02:27</td>\n",
       "      <td>Saturday</td>\n",
       "      <td>True</td>\n",
       "      <td>Spring</td>\n",
       "      <td>Afternoon</td>\n",
       "      <td>1100 HARRIS ST</td>\n",
       "      <td>38.039288</td>\n",
       "      <td>-78.480390</td>\n",
       "      <td>North Downtown</td>\n",
       "      <td>22903</td>\n",
       "    </tr>\n",
       "    <tr>\n",
       "      <th>4</th>\n",
       "      <td>5</td>\n",
       "      <td>Larceny - From Motor Vehicle</td>\n",
       "      <td>202500011735</td>\n",
       "      <td>CPD</td>\n",
       "      <td>Burnett, James</td>\n",
       "      <td>2025-04-12 11:39:15</td>\n",
       "      <td>Saturday</td>\n",
       "      <td>True</td>\n",
       "      <td>Spring</td>\n",
       "      <td>Morning</td>\n",
       "      <td>1500 ROSE HILL DR</td>\n",
       "      <td>38.048752</td>\n",
       "      <td>-78.482931</td>\n",
       "      <td>Barracks Rugby</td>\n",
       "      <td>22903</td>\n",
       "    </tr>\n",
       "  </tbody>\n",
       "</table>\n",
       "</div>"
      ],
      "text/plain": [
       "   RecordID                       Offense    IncidentID Agency  \\\n",
       "0         1            Lost/FoundProperty  202500011773    CPD   \n",
       "1         2                      Trespass  202500011750    CPD   \n",
       "2         3                   Hit and Run  202500011742    CPD   \n",
       "3         4                      Burglary  202500011738    CPD   \n",
       "4         5  Larceny - From Motor Vehicle  202500011735    CPD   \n",
       "\n",
       "   ReportingOfficer                Date DayOfWeek  Weekend  Season  TimeOfDay  \\\n",
       "0  Mcdougal, Jordan 2025-04-12 18:29:28  Saturday     True  Spring    Evening   \n",
       "1    Burnett, James 2025-04-12 14:01:26  Saturday     True  Spring  Afternoon   \n",
       "2    Burnett, James 2025-04-12 12:22:31  Saturday     True  Spring  Afternoon   \n",
       "3     Wisser, Shawn 2025-04-12 12:02:27  Saturday     True  Spring  Afternoon   \n",
       "4    Burnett, James 2025-04-12 11:39:15  Saturday     True  Spring    Morning   \n",
       "\n",
       "                FullStreet        lat        lon    neighborhood    zip  \n",
       "0          100 PEREGORY LN  38.005663 -78.496773      Mill Creek  22902  \n",
       "1     1600 EMMET ST N, 234  38.057947 -78.493911     The Meadows  22901  \n",
       "2   EMMET ST N @ MORTON DR  38.055966 -78.496346     The Meadows  22905  \n",
       "3           1100 HARRIS ST  38.039288 -78.480390  North Downtown  22903  \n",
       "4        1500 ROSE HILL DR  38.048752 -78.482931  Barracks Rugby  22903  "
      ]
     },
     "execution_count": 19,
     "metadata": {},
     "output_type": "execute_result"
    }
   ],
   "source": [
    "df.head()"
   ]
  },
  {
   "cell_type": "code",
   "execution_count": 20,
   "id": "0e0539ff",
   "metadata": {
    "execution": {
     "iopub.execute_input": "2025-04-15T01:02:03.224271Z",
     "iopub.status.busy": "2025-04-15T01:02:03.223828Z",
     "iopub.status.idle": "2025-04-15T01:02:03.228088Z",
     "shell.execute_reply": "2025-04-15T01:02:03.227572Z"
    },
    "papermill": {
     "duration": 0.013935,
     "end_time": "2025-04-15T01:02:03.229085",
     "exception": false,
     "start_time": "2025-04-15T01:02:03.215150",
     "status": "completed"
    },
    "tags": []
   },
   "outputs": [
    {
     "data": {
      "text/plain": [
       "Index(['RecordID', 'Offense', 'IncidentID', 'Agency', 'ReportingOfficer',\n",
       "       'Date', 'DayOfWeek', 'Weekend', 'Season', 'TimeOfDay', 'FullStreet',\n",
       "       'lat', 'lon', 'neighborhood', 'zip'],\n",
       "      dtype='object')"
      ]
     },
     "execution_count": 20,
     "metadata": {},
     "output_type": "execute_result"
    }
   ],
   "source": [
    "df.columns"
   ]
  },
  {
   "cell_type": "markdown",
   "id": "588c6a47",
   "metadata": {
    "papermill": {
     "duration": 0.008021,
     "end_time": "2025-04-15T01:02:03.245237",
     "exception": false,
     "start_time": "2025-04-15T01:02:03.237216",
     "status": "completed"
    },
    "tags": []
   },
   "source": [
    "### Data Preparation\n",
    "\n",
    "We need to ensure the data is in the correct format for modeling and can handle missing values, categorical variables, and dates. Here's how to prepare your data:"
   ]
  },
  {
   "cell_type": "code",
   "execution_count": 21,
   "id": "9fbd68fa",
   "metadata": {
    "execution": {
     "iopub.execute_input": "2025-04-15T01:02:03.262071Z",
     "iopub.status.busy": "2025-04-15T01:02:03.261830Z",
     "iopub.status.idle": "2025-04-15T01:02:04.829820Z",
     "shell.execute_reply": "2025-04-15T01:02:04.829061Z"
    },
    "papermill": {
     "duration": 1.577882,
     "end_time": "2025-04-15T01:02:04.831180",
     "exception": false,
     "start_time": "2025-04-15T01:02:03.253298",
     "status": "completed"
    },
    "tags": []
   },
   "outputs": [],
   "source": [
    "import pandas as pd\n",
    "from sklearn.model_selection import train_test_split\n",
    "from sklearn.preprocessing import OneHotEncoder, LabelEncoder\n",
    "from sklearn.ensemble import RandomForestClassifier\n",
    "from sklearn.linear_model import LogisticRegression\n",
    "from sklearn.tree import DecisionTreeClassifier\n",
    "from sklearn.metrics import classification_report, accuracy_score\n",
    "import seaborn as sns\n",
    "import matplotlib.pyplot as plt\n",
    "\n",
    "# Convert 'Date' to datetime\n",
    "df['Date'] = pd.to_datetime(df['Date'])\n",
    "\n",
    "# Feature engineering: Extract additional time-based features\n",
    "df['Year'] = df['Date'].dt.year\n",
    "df['Month'] = df['Date'].dt.month\n",
    "df['DayOfMonth'] = df['Date'].dt.day\n",
    "\n",
    "# One-hot encoding for 'FullStreet', 'neighborhood', 'zip'\n",
    "df = pd.get_dummies(df, columns=['FullStreet', 'neighborhood', 'zip'], drop_first=True)\n",
    "\n",
    "# Label encoding for ordered variables (those with a natural order like 'DayOfWeek', 'Season', 'TimeOfDay')\n",
    "label_encoders = {}\n",
    "for column in ['DayOfWeek', 'Season', 'TimeOfDay', 'Agency', 'ReportingOfficer']:  # Example ordinal variables\n",
    "    le = LabelEncoder()\n",
    "    df[column] = le.fit_transform(df[column])\n",
    "    label_encoders[column] = le\n",
    "\n",
    "# Filter the dataset to include only the offenses of interest\n",
    "offenses_of_interest = [\n",
    "    'Hit and Run', 'Assault Simple', 'Suspicious Activity', 'Vandalism', \n",
    "    'Larceny - From Mot Vehicle', 'Larceny - All Other', \n",
    "    'Assist Citizen - Mental/TDO/ECO', 'Lost/FoundProperty'\n",
    "]\n",
    "\n",
    "df = df[df['Offense'].isin(offenses_of_interest)]\n",
    "\n",
    "# Label encode the target variable (Offense)\n",
    "offense_encoder = LabelEncoder()\n",
    "df['Offense'] = offense_encoder.fit_transform(df['Offense'])\n",
    "\n",
    "# Separate features (X) and target (y)\n",
    "X = df[['Year', 'Month', 'DayOfMonth', 'DayOfWeek', 'Weekend', 'Season', 'TimeOfDay', 'lat', 'lon', 'Agency', 'ReportingOfficer']]\n",
    "y = df['Offense']  # Offense is now the encoded target variable\n",
    "\n",
    "# Split the data into training and testing sets\n",
    "X_train, X_test, y_train, y_test = train_test_split(X, y, test_size=0.3, random_state=42)\n"
   ]
  },
  {
   "cell_type": "markdown",
   "id": "0cc371dd",
   "metadata": {
    "papermill": {
     "duration": 0.007888,
     "end_time": "2025-04-15T01:02:04.847594",
     "exception": false,
     "start_time": "2025-04-15T01:02:04.839706",
     "status": "completed"
    },
    "tags": []
   },
   "source": [
    "### Model Training\n",
    "\n",
    "Here we will train several models (e.g., Random Forest, Logistic Regression, and Decision Tree). We will use cross-validation to choose the best model based on accuracy, and then explain the impact of the variables."
   ]
  },
  {
   "cell_type": "code",
   "execution_count": 22,
   "id": "d37819b6",
   "metadata": {
    "execution": {
     "iopub.execute_input": "2025-04-15T01:02:04.864693Z",
     "iopub.status.busy": "2025-04-15T01:02:04.864098Z",
     "iopub.status.idle": "2025-04-15T01:02:08.425614Z",
     "shell.execute_reply": "2025-04-15T01:02:08.424983Z"
    },
    "papermill": {
     "duration": 3.571221,
     "end_time": "2025-04-15T01:02:08.426708",
     "exception": false,
     "start_time": "2025-04-15T01:02:04.855487",
     "status": "completed"
    },
    "tags": []
   },
   "outputs": [
    {
     "name": "stderr",
     "output_type": "stream",
     "text": [
      "/opt/hostedtoolcache/Python/3.9.21/x64/lib/python3.9/site-packages/sklearn/linear_model/_logistic.py:465: ConvergenceWarning: lbfgs failed to converge (status=1):\n",
      "STOP: TOTAL NO. of ITERATIONS REACHED LIMIT.\n",
      "\n",
      "Increase the number of iterations (max_iter) or scale the data as shown in:\n",
      "    https://scikit-learn.org/stable/modules/preprocessing.html\n",
      "Please also refer to the documentation for alternative solver options:\n",
      "    https://scikit-learn.org/stable/modules/linear_model.html#logistic-regression\n",
      "  n_iter_i = _check_optimize_result(\n",
      "/opt/hostedtoolcache/Python/3.9.21/x64/lib/python3.9/site-packages/sklearn/metrics/_classification.py:1565: UndefinedMetricWarning: Precision is ill-defined and being set to 0.0 in labels with no predicted samples. Use `zero_division` parameter to control this behavior.\n",
      "  _warn_prf(average, modifier, f\"{metric.capitalize()} is\", len(result))\n",
      "/opt/hostedtoolcache/Python/3.9.21/x64/lib/python3.9/site-packages/sklearn/metrics/_classification.py:1565: UndefinedMetricWarning: Precision is ill-defined and being set to 0.0 in labels with no predicted samples. Use `zero_division` parameter to control this behavior.\n",
      "  _warn_prf(average, modifier, f\"{metric.capitalize()} is\", len(result))\n",
      "/opt/hostedtoolcache/Python/3.9.21/x64/lib/python3.9/site-packages/sklearn/metrics/_classification.py:1565: UndefinedMetricWarning: Precision is ill-defined and being set to 0.0 in labels with no predicted samples. Use `zero_division` parameter to control this behavior.\n",
      "  _warn_prf(average, modifier, f\"{metric.capitalize()} is\", len(result))\n"
     ]
    },
    {
     "name": "stdout",
     "output_type": "stream",
     "text": [
      "\n",
      "Classification Report for All Models:\n",
      "\n",
      "Model: RandomForest\n",
      "Accuracy: 0.2755\n",
      "              precision    recall  f1-score      support\n",
      "0              0.283626  0.320661  0.301009   605.000000\n",
      "1              0.274052  0.222222  0.245431   423.000000\n",
      "2              0.307615  0.467275  0.370997   657.000000\n",
      "3              0.204852  0.174312  0.188352   436.000000\n",
      "4              0.282869  0.217125  0.245675   327.000000\n",
      "5              0.251670  0.219844  0.234683   514.000000\n",
      "6              0.270195  0.196755  0.227700   493.000000\n",
      "accuracy       0.275543  0.275543  0.275543     0.275543\n",
      "macro avg      0.267840  0.259742  0.259121  3455.000000\n",
      "weighted avg   0.270333  0.275543  0.267732  3455.000000\n"
     ]
    },
    {
     "data": {
      "image/png": "[encoded data removed]",
      "text/plain": [
       "<Figure size 800x600 with 2 Axes>"
      ]
     },
     "metadata": {},
     "output_type": "display_data"
    },
    {
     "name": "stdout",
     "output_type": "stream",
     "text": [
      "\n",
      "Model: LogisticRegression\n",
      "Accuracy: 0.2058\n",
      "              precision    recall  f1-score      support\n",
      "0              0.204112  0.459504  0.282664   605.000000\n",
      "1              0.000000  0.000000  0.000000   423.000000\n",
      "2              0.206517  0.656012  0.314140   657.000000\n",
      "3              0.000000  0.000000  0.000000   436.000000\n",
      "4              0.000000  0.000000  0.000000   327.000000\n",
      "5              0.000000  0.000000  0.000000   514.000000\n",
      "6              0.666667  0.004057  0.008065   493.000000\n",
      "accuracy       0.205789  0.205789  0.205789     0.205789\n",
      "macro avg      0.153899  0.159939  0.086410  3455.000000\n",
      "weighted avg   0.170141  0.205789  0.110384  3455.000000\n"
     ]
    },
    {
     "data": {
      "image/png": "[encoded data removed]",
      "text/plain": [
       "<Figure size 800x600 with 2 Axes>"
      ]
     },
     "metadata": {},
     "output_type": "display_data"
    },
    {
     "name": "stdout",
     "output_type": "stream",
     "text": [
      "\n",
      "Model: DecisionTree\n",
      "Accuracy: 0.2130\n",
      "              precision    recall  f1-score      support\n",
      "0              0.238179  0.224793  0.231293   605.000000\n",
      "1              0.236364  0.245863  0.241020   423.000000\n",
      "2              0.269173  0.272451  0.270802   657.000000\n",
      "3              0.149660  0.151376  0.150513   436.000000\n",
      "4              0.179191  0.189602  0.184250   327.000000\n",
      "5              0.179298  0.188716  0.183886   514.000000\n",
      "6              0.203991  0.186613  0.194915   493.000000\n",
      "accuracy       0.213025  0.213025  0.213025     0.213025\n",
      "macro avg      0.207979  0.208488  0.208097  3455.000000\n",
      "weighted avg   0.213459  0.213025  0.213107  3455.000000\n"
     ]
    },
    {
     "data": {
      "image/png": "[encoded data removed]",
      "text/plain": [
       "<Figure size 800x600 with 2 Axes>"
      ]
     },
     "metadata": {},
     "output_type": "display_data"
    },
    {
     "name": "stdout",
     "output_type": "stream",
     "text": [
      "\n",
      "Best Model:\n",
      "Best Model: RandomForestClassifier()\n",
      "Best Model Accuracy: 0.2755\n"
     ]
    }
   ],
   "source": [
    "import pandas as pd\n",
    "from sklearn.model_selection import train_test_split\n",
    "from sklearn.ensemble import RandomForestClassifier\n",
    "from sklearn.linear_model import LogisticRegression\n",
    "from sklearn.tree import DecisionTreeClassifier\n",
    "from sklearn.metrics import classification_report, accuracy_score, confusion_matrix\n",
    "import seaborn as sns\n",
    "import matplotlib.pyplot as plt\n",
    "\n",
    "# Define models\n",
    "models = {\n",
    "    'RandomForest': RandomForestClassifier(),\n",
    "    'LogisticRegression': LogisticRegression(max_iter=1000),\n",
    "    'DecisionTree': DecisionTreeClassifier()\n",
    "}\n",
    "\n",
    "# Train models and evaluate them\n",
    "best_model = None\n",
    "best_score = 0\n",
    "model_reports = {}\n",
    "\n",
    "for model_name, model in models.items():\n",
    "    model.fit(X_train, y_train)  # Train model\n",
    "    y_pred = model.predict(X_test)  # Make predictions\n",
    "    \n",
    "    # Calculate accuracy and generate classification report\n",
    "    accuracy = accuracy_score(y_test, y_pred)\n",
    "    model_reports[model_name] = classification_report(y_test, y_pred, output_dict=True)  # Store as a dictionary for easier analysis\n",
    "    \n",
    "    # Track best performing model\n",
    "    if accuracy > best_score:\n",
    "        best_score = accuracy\n",
    "        best_model = model\n",
    "\n",
    "# Display classification reports and confusion matrices\n",
    "print(\"\\nClassification Report for All Models:\")\n",
    "for model_name, report in model_reports.items():\n",
    "    print(f\"\\nModel: {model_name}\")\n",
    "    print(\"Accuracy: {:.4f}\".format(accuracy_score(y_test, models[model_name].predict(X_test))))  # Display accuracy\n",
    "    print(pd.DataFrame(report).transpose())  # Display classification report as a DataFrame\n",
    "\n",
    "    # Plot Confusion Matrix\n",
    "    cm = confusion_matrix(y_test, models[model_name].predict(X_test))\n",
    "    plt.figure(figsize=(8, 6))\n",
    "    sns.heatmap(cm, annot=True, fmt=\"d\", cmap='Blues', xticklabels=offense_encoder.classes_, yticklabels=offense_encoder.classes_)\n",
    "    plt.title(f\"Confusion Matrix - {model_name}\")\n",
    "    plt.xlabel('Predicted Labels')\n",
    "    plt.ylabel('True Labels')\n",
    "    plt.show()\n",
    "\n",
    "# Display best model details\n",
    "print(\"\\nBest Model:\")\n",
    "print(f\"Best Model: {best_model}\")\n",
    "print(f\"Best Model Accuracy: {best_score:.4f}\")\n"
   ]
  },
  {
   "cell_type": "markdown",
   "id": "7b178ee1",
   "metadata": {
    "papermill": {
     "duration": 0.010529,
     "end_time": "2025-04-15T01:02:08.448633",
     "exception": false,
     "start_time": "2025-04-15T01:02:08.438104",
     "status": "completed"
    },
    "tags": []
   },
   "source": [
    "#### Classification Report for All Models:\n",
    "\n",
    "### Explanation of the Classification Results (RandomForest Model)\n",
    "\n",
    "The results you provided are from a **Random Forest** model, which is used for predicting different types of offenses. Let's break down the key components of the results:\n",
    "\n",
    "#### 1. **Accuracy: 0.2822**\n",
    "   - **Accuracy** measures the overall percentage of correct predictions made by the model. An accuracy of 28.22% means the model correctly predicted the offense in about 28% of the cases. This indicates the model's predictions are not highly reliable, as the accuracy is quite low.\n",
    "\n",
    "#### 2. **Classification Report:**\n",
    "   The classification report includes precision, recall, and F1-score for each offense. Let's go over these terms and how they apply to the results:\n",
    "\n",
    "   - **Precision**: The proportion of true positive predictions out of all positive predictions made by the model for a specific class (offense).\n",
    "   - **Recall**: The proportion of true positive predictions out of all actual positive instances in the dataset.\n",
    "   - **F1-Score**: The harmonic mean of precision and recall, providing a balance between the two metrics.\n",
    "   - **Support**: The number of actual occurrences of each class in the test set.\n",
    "\n",
    "   Let's analyze each offense based on these metrics:\n",
    "\n",
    "   | **Offense**                        | **Precision** | **Recall** | **F1-Score** | **Support** |\n",
    "   |------------------------------------|---------------|------------|--------------|-------------|\n",
    "   | **Assault Simple**                 | 0.2892        | 0.3754     | 0.3267       | 594         |\n",
    "   | **Assist Citizen - Mental/TDO/ECO**| 0.3182        | 0.2274     | 0.2652       | 431         |\n",
    "   | **Hit and Run**                    | 0.2963        | 0.4765     | 0.3654       | 638         |\n",
    "   | **Larceny - All Other**            | 0.2270        | 0.1453     | 0.1772       | 475         |\n",
    "   | **Lost/FoundProperty**             | 0.3333        | 0.2102     | 0.2578       | 352         |\n",
    "   | **Suspicious Activity**            | 0.2344        | 0.2169     | 0.2253       | 484         |\n",
    "   | **Vandalism**                      | 0.2712        | 0.2106     | 0.2371       | 470         |\n",
    "\n",
    "#### 3. **Key Insights from the Report:**\n",
    "\n",
    "- **Precision**:\n",
    "   - The highest precision is for **Larceny - All Other** (0.3333), indicating that when the model predicts this offense, it is correct about 33% of the time. However, this is still quite low.\n",
    "   - **Assist Citizen - Mental/TDO/ECO** has the lowest precision (0.2269), meaning that the model's predictions for this offense tend to be wrong more often than correct.\n",
    "\n",
    "- **Recall**:\n",
    "   - **Hit and Run** has the highest recall (0.4765), meaning the model identifies about 48% of the actual occurrences of this offense. This is better than the precision, which indicates it is missing many true positives but is still able to identify a fair number of cases.\n",
    "   - **Larceny - All Other** and **Suspicious Activity** have the lowest recall values (0.1453 and 0.2169, respectively), indicating that the model is failing to identify most of the actual cases for these offenses.\n",
    "\n",
    "- **F1-Score**:\n",
    "   - The **F1-Score** balances precision and recall. It is highest for **Hit and Run** (0.3654), but still relatively low overall. This suggests the model is better at identifying **Hit and Run** than other offenses but still has room for improvement.\n",
    "   - **Larceny - All Other** has the lowest F1-Score (0.1772), indicating a poor balance between precision and recall for this offense.\n",
    "\n",
    "#### 4. **Macro Average and Weighted Average:**\n",
    "   - **Macro Average**: This gives the average precision, recall, and F1-Score across all classes (offenses) without considering the class distribution. It averages the results for all offenses equally.\n",
    "     - Precision: 0.2814\n",
    "     - Recall: 0.2661\n",
    "     - F1-Score: 0.2649\n",
    "   - **Weighted Average**: This averages the metrics but weighs each class by its support (the number of true instances in the test set). This gives a better sense of overall performance, considering the class distribution.\n",
    "     - Precision: 0.2799\n",
    "     - Recall: 0.2822\n",
    "     - F1-Score: 0.2720\n",
    "\n",
    "#### 5. **Confusion Matrix (Visualization Analysis)**:\n",
    "   - The confusion matrix shows the distribution of true positive, false positive, true negative, and false negative predictions for each class.\n",
    "     - For **Hit and Run**, the model performs relatively well in identifying this offense (304 true positives). However, it also misclassifies some **Hit and Run** instances as other offenses (e.g., **Assault Simple**, **Suspicious Activity**, etc.).\n",
    "     - **Larceny - All Other** is frequently misclassified as **Hit and Run**, **Suspicious Activity**, and others. This is evident from the large number of off-diagonal elements in its row.\n",
    "     - **Assist Citizen - Mental/TDO/ECO** and **Suspicious Activity** are frequently misclassified, as seen by the off-diagonal values in their rows.\n",
    "\n",
    "### Conclusion:\n",
    "The Random Forest model has low accuracy (28.22%), suggesting that it struggles to predict most offenses accurately. Some offenses like **Hit and Run** are better predicted than others, but overall, the model shows a high level of misclassification across all offenses. There may be a need for further tuning of the model, additional feature engineering, or trying different models for better performance.\n",
    "\n",
    "Let me know if you'd like to improve the model or make adjustments based on these results!\n",
    "\n"
   ]
  },
  {
   "cell_type": "markdown",
   "id": "d98b7a08",
   "metadata": {
    "papermill": {
     "duration": 0.010477,
     "end_time": "2025-04-15T01:02:08.469687",
     "exception": false,
     "start_time": "2025-04-15T01:02:08.459210",
     "status": "completed"
    },
    "tags": []
   },
   "source": [
    "### Model Explanation\n",
    "\n",
    "Once we’ve chosen the best model, we will explain its predictions by examining feature importance for tree-based models and using statistical methods like logistic regression coefficients for linear models."
   ]
  },
  {
   "cell_type": "markdown",
   "id": "e06ebb38",
   "metadata": {
    "papermill": {
     "duration": 0.010448,
     "end_time": "2025-04-15T01:02:08.490689",
     "exception": false,
     "start_time": "2025-04-15T01:02:08.480241",
     "status": "completed"
    },
    "tags": []
   },
   "source": [
    "#### Feature Importance for Random Forest / Decision Tree\n",
    "\n",
    "##### For Tree-based Models (Random Forest, Decision Tree)\n",
    "\n",
    "For Random Forest or Decision Tree, we can look at feature importance to understand which variables contribute the most to the model's predictions. Here's how you can visualize and interpret the importance of each feature:"
   ]
  },
  {
   "cell_type": "code",
   "execution_count": 23,
   "id": "6a56e147",
   "metadata": {
    "execution": {
     "iopub.execute_input": "2025-04-15T01:02:08.513730Z",
     "iopub.status.busy": "2025-04-15T01:02:08.513053Z",
     "iopub.status.idle": "2025-04-15T01:02:08.680036Z",
     "shell.execute_reply": "2025-04-15T01:02:08.679336Z"
    },
    "papermill": {
     "duration": 0.179785,
     "end_time": "2025-04-15T01:02:08.681134",
     "exception": false,
     "start_time": "2025-04-15T01:02:08.501349",
     "status": "completed"
    },
    "tags": []
   },
   "outputs": [
    {
     "data": {
      "image/png": "[encoded data removed]",
      "text/plain": [
       "<Figure size 1000x600 with 1 Axes>"
      ]
     },
     "metadata": {},
     "output_type": "display_data"
    }
   ],
   "source": [
    "# For RandomForest or DecisionTree models, we can check feature importance\n",
    "if isinstance(best_model, RandomForestClassifier) or isinstance(best_model, DecisionTreeClassifier):\n",
    "    feature_importance = best_model.feature_importances_\n",
    "    feature_names = X.columns\n",
    "    importance_df = pd.DataFrame({'Feature': feature_names, 'Importance': feature_importance})\n",
    "    importance_df = importance_df.sort_values(by='Importance', ascending=False)\n",
    "    \n",
    "    # Plotting the feature importances\n",
    "    plt.figure(figsize=(10, 6))\n",
    "    sns.barplot(x='Importance', y='Feature', data=importance_df)\n",
    "    plt.title(\"Feature Importance\")\n",
    "    plt.show()\n"
   ]
  },
  {
   "cell_type": "code",
   "execution_count": null,
   "id": "dc3b3e8f",
   "metadata": {
    "papermill": {
     "duration": 0.0109,
     "end_time": "2025-04-15T01:02:08.703498",
     "exception": false,
     "start_time": "2025-04-15T01:02:08.692598",
     "status": "completed"
    },
    "tags": []
   },
   "outputs": [],
   "source": []
  },
  {
   "cell_type": "markdown",
   "id": "0f7f3396",
   "metadata": {
    "papermill": {
     "duration": 0.010784,
     "end_time": "2025-04-15T01:02:08.725266",
     "exception": false,
     "start_time": "2025-04-15T01:02:08.714482",
     "status": "completed"
    },
    "tags": []
   },
   "source": [
    "### Evaluation\n",
    "\n",
    "After training the models and examining their performance, we evaluate the chosen model based on metrics like accuracy, precision, recall, and F1 score.\n",
    "\n"
   ]
  },
  {
   "cell_type": "code",
   "execution_count": 24,
   "id": "913a4dc3",
   "metadata": {
    "execution": {
     "iopub.execute_input": "2025-04-15T01:02:08.748428Z",
     "iopub.status.busy": "2025-04-15T01:02:08.747889Z",
     "iopub.status.idle": "2025-04-15T01:02:08.837544Z",
     "shell.execute_reply": "2025-04-15T01:02:08.836783Z"
    },
    "papermill": {
     "duration": 0.10247,
     "end_time": "2025-04-15T01:02:08.838619",
     "exception": false,
     "start_time": "2025-04-15T01:02:08.736149",
     "status": "completed"
    },
    "tags": []
   },
   "outputs": [
    {
     "name": "stdout",
     "output_type": "stream",
     "text": [
      "Accuracy: 0.2755\n",
      "Classification Report:\n",
      "              precision    recall  f1-score   support\n",
      "\n",
      "           0       0.28      0.32      0.30       605\n",
      "           1       0.27      0.22      0.25       423\n",
      "           2       0.31      0.47      0.37       657\n",
      "           3       0.20      0.17      0.19       436\n",
      "           4       0.28      0.22      0.25       327\n",
      "           5       0.25      0.22      0.23       514\n",
      "           6       0.27      0.20      0.23       493\n",
      "\n",
      "    accuracy                           0.28      3455\n",
      "   macro avg       0.27      0.26      0.26      3455\n",
      "weighted avg       0.27      0.28      0.27      3455\n",
      "\n",
      "Confusion Matrix:\n",
      "[[194  79 147  49  21  77  38]\n",
      " [114  94  94  25  26  38  32]\n",
      " [ 92  47 307  57  23  73  58]\n",
      " [ 67  34 125  76  31  59  44]\n",
      " [ 41  17  77  48  71  32  41]\n",
      " [ 92  40 139  53  28 113  49]\n",
      " [ 84  32 109  63  51  57  97]]\n",
      "Precision: 0.2703\n",
      "Recall: 0.2755\n",
      "F1 Score: 0.2677\n"
     ]
    }
   ],
   "source": [
    "from sklearn.metrics import classification_report, confusion_matrix, accuracy_score, precision_score, recall_score, f1_score\n",
    "\n",
    "# Predict on the test set\n",
    "y_pred = best_model.predict(X_test)\n",
    "\n",
    "# Calculate Accuracy\n",
    "accuracy = accuracy_score(y_test, y_pred)\n",
    "print(f\"Accuracy: {accuracy:.4f}\")\n",
    "\n",
    "# Classification Report\n",
    "print(\"Classification Report:\")\n",
    "print(classification_report(y_test, y_pred))\n",
    "\n",
    "# Confusion Matrix\n",
    "conf_matrix = confusion_matrix(y_test, y_pred)\n",
    "print(\"Confusion Matrix:\")\n",
    "print(conf_matrix)\n",
    "\n",
    "# Precision, Recall, F1 Score for each class (Offense Type)\n",
    "precision = precision_score(y_test, y_pred, average='weighted')\n",
    "recall = recall_score(y_test, y_pred, average='weighted')\n",
    "f1 = f1_score(y_test, y_pred, average='weighted')\n",
    "\n",
    "print(f\"Precision: {precision:.4f}\")\n",
    "print(f\"Recall: {recall:.4f}\")\n",
    "print(f\"F1 Score: {f1:.4f}\")\n"
   ]
  },
  {
   "cell_type": "markdown",
   "id": "75d55e4a",
   "metadata": {
    "papermill": {
     "duration": 0.011017,
     "end_time": "2025-04-15T01:02:08.861049",
     "exception": false,
     "start_time": "2025-04-15T01:02:08.850032",
     "status": "completed"
    },
    "tags": []
   },
   "source": [
    "#### For Logistic Regression (Coefficient Interpretation)\n",
    "\n",
    "For Logistic Regression, the model coefficients can help us understand how each feature affects the likelihood of an offense happening. A positive coefficient indicates a feature increases the likelihood of the offense, and a negative coefficient indicates the opposite."
   ]
  },
  {
   "cell_type": "code",
   "execution_count": 25,
   "id": "58bfc74b",
   "metadata": {
    "execution": {
     "iopub.execute_input": "2025-04-15T01:02:08.884606Z",
     "iopub.status.busy": "2025-04-15T01:02:08.884013Z",
     "iopub.status.idle": "2025-04-15T01:02:08.888793Z",
     "shell.execute_reply": "2025-04-15T01:02:08.888207Z"
    },
    "papermill": {
     "duration": 0.01757,
     "end_time": "2025-04-15T01:02:08.889743",
     "exception": false,
     "start_time": "2025-04-15T01:02:08.872173",
     "status": "completed"
    },
    "tags": []
   },
   "outputs": [],
   "source": [
    "if isinstance(best_model, LogisticRegression):\n",
    "    # Logistic regression coefficients\n",
    "    coef_df = pd.DataFrame({\n",
    "        'Feature': X.columns,\n",
    "        'Coefficient': best_model.coef_[0]\n",
    "    })\n",
    "    coef_df['AbsCoefficient'] = coef_df['Coefficient'].abs()\n",
    "    coef_df = coef_df.sort_values(by='AbsCoefficient', ascending=False)\n",
    "    \n",
    "    # Plotting the coefficients\n",
    "    plt.figure(figsize=(10, 6))\n",
    "    sns.barplot(x='AbsCoefficient', y='Feature', data=coef_df)\n",
    "    plt.title(\"Logistic Regression Coefficients Impact\")\n",
    "    plt.show()\n",
    "\n",
    "    # Print the top 5 most impactful features (by absolute coefficient value)\n",
    "    print(\"Top 5 most impactful features based on coefficients:\")\n",
    "    print(coef_df.head())\n"
   ]
  },
  {
   "cell_type": "markdown",
   "id": "bffd3fc4",
   "metadata": {
    "papermill": {
     "duration": 0.011103,
     "end_time": "2025-04-15T01:02:08.912007",
     "exception": false,
     "start_time": "2025-04-15T01:02:08.900904",
     "status": "completed"
    },
    "tags": []
   },
   "source": [
    "Explanation of Output:\n",
    "\n",
    "Feature Importance (Random Forest/Decision Tree): The bar plot will show how important each feature is in the decision-making process. Features at the top of the list are the most influential in predicting the occurrence of offenses.\n",
    "\n",
    "Logistic Regression Coefficients: The bar plot will show the magnitude of the coefficients for each feature. Features with larger absolute values (either positive or negative) have a stronger impact on the model’s predictions. Positive coefficients increase the probability of an offense, while negative coefficients decrease it."
   ]
  },
  {
   "cell_type": "markdown",
   "id": "4a47f539",
   "metadata": {
    "papermill": {
     "duration": 0.011595,
     "end_time": "2025-04-15T01:02:08.934654",
     "exception": false,
     "start_time": "2025-04-15T01:02:08.923059",
     "status": "completed"
    },
    "tags": []
   },
   "source": []
  }
 ],
 "metadata": {
  "kernelspec": {
   "display_name": "Python 3",
   "language": "python",
   "name": "python3"
  },
  "language_info": {
   "codemirror_mode": {
    "name": "ipython",
    "version": 3
   },
   "file_extension": ".py",
   "mimetype": "text/x-python",
   "name": "python",
   "nbconvert_exporter": "python",
   "pygments_lexer": "ipython3",
   "version": "3.9.21"
  },
  "papermill": {
   "default_parameters": {},
   "duration": 76.646178,
   "end_time": "2025-04-15T01:02:09.464071",
   "environment_variables": {},
   "exception": null,
   "input_path": "notebook/Crime Data.ipynb",
   "output_path": "notebook/Crime Data_output.ipynb",
   "parameters": {},
   "start_time": "2025-04-15T01:00:52.817893",
   "version": "2.6.0"
  }
 },
 "nbformat": 4,
 "nbformat_minor": 5
}