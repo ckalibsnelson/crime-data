{
 "cells": [
  {
   "cell_type": "markdown",
   "id": "d315a64a",
   "metadata": {
    "papermill": {
     "duration": 0.004217,
     "end_time": "2025-08-19T01:03:09.650710",
     "exception": false,
     "start_time": "2025-08-19T01:03:09.646493",
     "status": "completed"
    },
    "tags": []
   },
   "source": [
    "# Charlottesville Open Data Porttal: Crime Data"
   ]
  },
  {
   "cell_type": "markdown",
   "id": "0e18243a",
   "metadata": {
    "papermill": {
     "duration": 0.004252,
     "end_time": "2025-08-19T01:03:09.658572",
     "exception": false,
     "start_time": "2025-08-19T01:03:09.654320",
     "status": "completed"
    },
    "tags": []
   },
   "source": [
    "## Import Relevant Librarires & Set WD"
   ]
  },
  {
   "cell_type": "code",
   "execution_count": 1,
   "id": "173bd13f",
   "metadata": {
    "execution": {
     "iopub.execute_input": "2025-08-19T01:03:09.666139Z",
     "iopub.status.busy": "2025-08-19T01:03:09.665873Z",
     "iopub.status.idle": "2025-08-19T01:03:10.309738Z",
     "shell.execute_reply": "2025-08-19T01:03:10.309094Z"
    },
    "papermill": {
     "duration": 0.649298,
     "end_time": "2025-08-19T01:03:10.311097",
     "exception": false,
     "start_time": "2025-08-19T01:03:09.661799",
     "status": "completed"
    },
    "tags": []
   },
   "outputs": [],
   "source": [
    "import requests\n",
    "import pandas as pd\n",
    "import numpy as np\n",
    "import pickle\n",
    "import googlemaps\n",
    "import plotly.express as px\n",
    "from geopy.geocoders import Nominatim\n",
    "import time\n",
    "from dotenv import load_dotenv\n",
    "import os\n",
    "\n",
    "env_path = os.path.join(\"..\", \".env\")\n",
    "#print(\"Looking for .env file at:\", os.path.abspath(env_path))\n",
    "load_dotenv(dotenv_path=env_path)\n",
    "\n",
    "# Retrieve the variables\n",
    "GOOGLE_API_KEY = os.getenv(\"GOOGLE_API_KEY\")\n",
    "WORKING_DIR = os.getenv(\"WORKING_DIR\")\n",
    "\n",
    "if GOOGLE_API_KEY is None or WORKING_DIR is None:\n",
    "    raise RuntimeError(\"No configuration found. Please ensure that your .env file exists with the required variables, or create a local config.py file.\")\n",
    "\n",
    "#print(\"Google API Key:\", GOOGLE_API_KEY)\n",
    "#print(\"Working Directory:\", WORKING_DIR)"
   ]
  },
  {
   "cell_type": "markdown",
   "id": "a187a6b6",
   "metadata": {
    "papermill": {
     "duration": 0.003287,
     "end_time": "2025-08-19T01:03:10.318064",
     "exception": false,
     "start_time": "2025-08-19T01:03:10.314777",
     "status": "completed"
    },
    "tags": []
   },
   "source": [
    "## Import Data\n",
    "\n",
    "URL: https://opendata.charlottesville.org/datasets/charlottesville::crime-data/about"
   ]
  },
  {
   "cell_type": "code",
   "execution_count": 2,
   "id": "d932c645",
   "metadata": {
    "execution": {
     "iopub.execute_input": "2025-08-19T01:03:10.325494Z",
     "iopub.status.busy": "2025-08-19T01:03:10.325231Z",
     "iopub.status.idle": "2025-08-19T01:04:18.933538Z",
     "shell.execute_reply": "2025-08-19T01:04:18.932755Z"
    },
    "papermill": {
     "duration": 68.616411,
     "end_time": "2025-08-19T01:04:18.937737",
     "exception": false,
     "start_time": "2025-08-19T01:03:10.321326",
     "status": "completed"
    },
    "tags": []
   },
   "outputs": [
    {
     "name": "stdout",
     "output_type": "stream",
     "text": [
      "Total records imported: 25659\n"
     ]
    }
   ],
   "source": [
    "# Define the endpoint and initial parameters.\n",
    "url = \"https://gisweb.charlottesville.org/arcgis/rest/services/OpenData_2/MapServer/6/query\"\n",
    "params = {\n",
    "    \"where\": \"1=1\",\n",
    "    \"outFields\": \"*\",\n",
    "    \"outSR\": 4326,\n",
    "    \"f\": \"json\",\n",
    "    \"resultOffset\": 0,       # Starting index for results\n",
    "    \"resultRecordCount\": 10000  # Maximum records per batch (if allowed by the API)\n",
    "}\n",
    "\n",
    "records = []\n",
    "\n",
    "while True:\n",
    "    response = requests.get(url, params=params)\n",
    "    response.raise_for_status()\n",
    "    data = response.json()\n",
    "    \n",
    "    # Get the current batch of features.\n",
    "    features = data.get(\"features\", [])\n",
    "    if not features:\n",
    "        break\n",
    "\n",
    "    # Extract the attributes from the features.\n",
    "    batch_records = [feature.get(\"attributes\", {}) for feature in features]\n",
    "    records.extend(batch_records)\n",
    "    \n",
    "    # If the batch size is less than the requested count, we reached the end.\n",
    "    if len(features) < params[\"resultRecordCount\"]:\n",
    "        break\n",
    "\n",
    "    # Update the resultOffset for the next batch.\n",
    "    params[\"resultOffset\"] += params[\"resultRecordCount\"]\n",
    "\n",
    "# Create a DataFrame from the combined records.\n",
    "df = pd.DataFrame(records)\n",
    "print(\"Total records imported:\", len(df))\n"
   ]
  },
  {
   "cell_type": "code",
   "execution_count": 3,
   "id": "099b8c39",
   "metadata": {
    "execution": {
     "iopub.execute_input": "2025-08-19T01:04:18.945442Z",
     "iopub.status.busy": "2025-08-19T01:04:18.945243Z",
     "iopub.status.idle": "2025-08-19T01:04:18.957082Z",
     "shell.execute_reply": "2025-08-19T01:04:18.956490Z"
    },
    "papermill": {
     "duration": 0.016798,
     "end_time": "2025-08-19T01:04:18.958052",
     "exception": false,
     "start_time": "2025-08-19T01:04:18.941254",
     "status": "completed"
    },
    "tags": []
   },
   "outputs": [
    {
     "data": {
      "text/html": [
       "<div>\n",
       "<style scoped>\n",
       "    .dataframe tbody tr th:only-of-type {\n",
       "        vertical-align: middle;\n",
       "    }\n",
       "\n",
       "    .dataframe tbody tr th {\n",
       "        vertical-align: top;\n",
       "    }\n",
       "\n",
       "    .dataframe thead th {\n",
       "        text-align: right;\n",
       "    }\n",
       "</style>\n",
       "<table border=\"1\" class=\"dataframe\">\n",
       "  <thead>\n",
       "    <tr style=\"text-align: right;\">\n",
       "      <th></th>\n",
       "      <th>RecordID</th>\n",
       "      <th>Offense</th>\n",
       "      <th>IncidentID</th>\n",
       "      <th>BlockNumber</th>\n",
       "      <th>StreetName</th>\n",
       "      <th>Agency</th>\n",
       "      <th>DateReported</th>\n",
       "      <th>HourReported</th>\n",
       "      <th>ReportingOfficer</th>\n",
       "    </tr>\n",
       "  </thead>\n",
       "  <tbody>\n",
       "    <tr>\n",
       "      <th>0</th>\n",
       "      <td>1</td>\n",
       "      <td>Driving Under the Influence</td>\n",
       "      <td>202500029125</td>\n",
       "      <td></td>\n",
       "      <td>SWAN LAKE DR / AVON STREET EXT</td>\n",
       "      <td>CPD</td>\n",
       "      <td>1755397315000</td>\n",
       "      <td>2221</td>\n",
       "      <td>Darby, Michael</td>\n",
       "    </tr>\n",
       "    <tr>\n",
       "      <th>1</th>\n",
       "      <td>2</td>\n",
       "      <td>Larceny - Shoplifitng</td>\n",
       "      <td>202500029120</td>\n",
       "      <td>1100</td>\n",
       "      <td>5TH ST SW</td>\n",
       "      <td>CPD</td>\n",
       "      <td>1755395459000</td>\n",
       "      <td>2150</td>\n",
       "      <td>Rigsby, Lloyd</td>\n",
       "    </tr>\n",
       "    <tr>\n",
       "      <th>2</th>\n",
       "      <td>3</td>\n",
       "      <td>Death Investigation - DOA</td>\n",
       "      <td>202500029101</td>\n",
       "      <td>500</td>\n",
       "      <td>MERIDIAN ST</td>\n",
       "      <td>CPD</td>\n",
       "      <td>1755385273000</td>\n",
       "      <td>1901</td>\n",
       "      <td>Adams, Austin</td>\n",
       "    </tr>\n",
       "    <tr>\n",
       "      <th>3</th>\n",
       "      <td>4</td>\n",
       "      <td>Lost/FoundProperty</td>\n",
       "      <td>202500029068</td>\n",
       "      <td>100</td>\n",
       "      <td>W MAIN ST, 1</td>\n",
       "      <td>CPD</td>\n",
       "      <td>1755367748000</td>\n",
       "      <td>1409</td>\n",
       "      <td>Kinney, Dylan</td>\n",
       "    </tr>\n",
       "    <tr>\n",
       "      <th>4</th>\n",
       "      <td>5</td>\n",
       "      <td>Lost/FoundProperty</td>\n",
       "      <td>202500029073</td>\n",
       "      <td>1200</td>\n",
       "      <td>MOWBRAY PL</td>\n",
       "      <td>CPD</td>\n",
       "      <td>1755366389000</td>\n",
       "      <td>1346</td>\n",
       "      <td>Khaleefa, Hamzeh</td>\n",
       "    </tr>\n",
       "  </tbody>\n",
       "</table>\n",
       "</div>"
      ],
      "text/plain": [
       "   RecordID                      Offense    IncidentID BlockNumber  \\\n",
       "0         1  Driving Under the Influence  202500029125               \n",
       "1         2        Larceny - Shoplifitng  202500029120        1100   \n",
       "2         3    Death Investigation - DOA  202500029101         500   \n",
       "3         4           Lost/FoundProperty  202500029068         100   \n",
       "4         5           Lost/FoundProperty  202500029073        1200   \n",
       "\n",
       "                       StreetName Agency   DateReported HourReported  \\\n",
       "0  SWAN LAKE DR / AVON STREET EXT    CPD  1755397315000         2221   \n",
       "1                       5TH ST SW    CPD  1755395459000         2150   \n",
       "2                     MERIDIAN ST    CPD  1755385273000         1901   \n",
       "3                    W MAIN ST, 1    CPD  1755367748000         1409   \n",
       "4                      MOWBRAY PL    CPD  1755366389000         1346   \n",
       "\n",
       "   ReportingOfficer  \n",
       "0    Darby, Michael  \n",
       "1     Rigsby, Lloyd  \n",
       "2     Adams, Austin  \n",
       "3     Kinney, Dylan  \n",
       "4  Khaleefa, Hamzeh  "
      ]
     },
     "execution_count": 3,
     "metadata": {},
     "output_type": "execute_result"
    }
   ],
   "source": [
    "df.head()"
   ]
  },
  {
   "cell_type": "code",
   "execution_count": 4,
   "id": "43fb1f48",
   "metadata": {
    "execution": {
     "iopub.execute_input": "2025-08-19T01:04:18.965922Z",
     "iopub.status.busy": "2025-08-19T01:04:18.965737Z",
     "iopub.status.idle": "2025-08-19T01:04:18.969543Z",
     "shell.execute_reply": "2025-08-19T01:04:18.969033Z"
    },
    "papermill": {
     "duration": 0.008856,
     "end_time": "2025-08-19T01:04:18.970535",
     "exception": false,
     "start_time": "2025-08-19T01:04:18.961679",
     "status": "completed"
    },
    "tags": []
   },
   "outputs": [
    {
     "data": {
      "text/plain": [
       "Index(['RecordID', 'Offense', 'IncidentID', 'BlockNumber', 'StreetName',\n",
       "       'Agency', 'DateReported', 'HourReported', 'ReportingOfficer'],\n",
       "      dtype='object')"
      ]
     },
     "execution_count": 4,
     "metadata": {},
     "output_type": "execute_result"
    }
   ],
   "source": [
    "df.columns"
   ]
  },
  {
   "cell_type": "code",
   "execution_count": 5,
   "id": "f561b6aa",
   "metadata": {
    "execution": {
     "iopub.execute_input": "2025-08-19T01:04:18.978667Z",
     "iopub.status.busy": "2025-08-19T01:04:18.978452Z",
     "iopub.status.idle": "2025-08-19T01:04:19.001811Z",
     "shell.execute_reply": "2025-08-19T01:04:19.001203Z"
    },
    "papermill": {
     "duration": 0.028477,
     "end_time": "2025-08-19T01:04:19.002793",
     "exception": false,
     "start_time": "2025-08-19T01:04:18.974316",
     "status": "completed"
    },
    "tags": []
   },
   "outputs": [
    {
     "name": "stdout",
     "output_type": "stream",
     "text": [
      "<class 'pandas.core.frame.DataFrame'>\n",
      "RangeIndex: 25659 entries, 0 to 25658\n",
      "Data columns (total 9 columns):\n",
      " #   Column            Non-Null Count  Dtype \n",
      "---  ------            --------------  ----- \n",
      " 0   RecordID          25659 non-null  int64 \n",
      " 1   Offense           25659 non-null  object\n",
      " 2   IncidentID        25659 non-null  object\n",
      " 3   BlockNumber       25659 non-null  object\n",
      " 4   StreetName        25659 non-null  object\n",
      " 5   Agency            25659 non-null  object\n",
      " 6   DateReported      25659 non-null  int64 \n",
      " 7   HourReported      25659 non-null  object\n",
      " 8   ReportingOfficer  25644 non-null  object\n",
      "dtypes: int64(2), object(7)\n",
      "memory usage: 1.8+ MB\n"
     ]
    }
   ],
   "source": [
    "df.info()"
   ]
  },
  {
   "cell_type": "markdown",
   "id": "e9b9317e",
   "metadata": {
    "papermill": {
     "duration": 0.003726,
     "end_time": "2025-08-19T01:04:19.010342",
     "exception": false,
     "start_time": "2025-08-19T01:04:19.006616",
     "status": "completed"
    },
    "tags": []
   },
   "source": [
    "### Missing Values"
   ]
  },
  {
   "cell_type": "code",
   "execution_count": 6,
   "id": "9d8d1b35",
   "metadata": {
    "execution": {
     "iopub.execute_input": "2025-08-19T01:04:19.018436Z",
     "iopub.status.busy": "2025-08-19T01:04:19.018250Z",
     "iopub.status.idle": "2025-08-19T01:04:19.038401Z",
     "shell.execute_reply": "2025-08-19T01:04:19.037803Z"
    },
    "papermill": {
     "duration": 0.025415,
     "end_time": "2025-08-19T01:04:19.039435",
     "exception": false,
     "start_time": "2025-08-19T01:04:19.014020",
     "status": "completed"
    },
    "tags": []
   },
   "outputs": [
    {
     "name": "stdout",
     "output_type": "stream",
     "text": [
      "                  MissingCount  MissingPercentage\n",
      "RecordID                     0               0.00\n",
      "Offense                      0               0.00\n",
      "IncidentID                   0               0.00\n",
      "BlockNumber                  0               0.00\n",
      "StreetName                   0               0.00\n",
      "Agency                       0               0.00\n",
      "DateReported                 0               0.00\n",
      "HourReported                 0               0.00\n",
      "ReportingOfficer            15               0.06\n"
     ]
    }
   ],
   "source": [
    "def missing_percentage(df):\n",
    "    \"\"\"\n",
    "    Returns a DataFrame with the count and percentage of missing values for each column.\n",
    "    \n",
    "    Parameters:\n",
    "        df (pd.DataFrame): The input DataFrame.\n",
    "    \n",
    "    Returns:\n",
    "        pd.DataFrame: A DataFrame with columns 'MissingCount' and 'MissingPercentage'.\n",
    "    \"\"\"\n",
    "    total_rows = len(df)\n",
    "    missing_count = df.isnull().sum()\n",
    "    missing_percent = (missing_count / total_rows) * 100\n",
    "    \n",
    "    result = pd.DataFrame({\n",
    "        'MissingCount': missing_count,\n",
    "        'MissingPercentage': missing_percent.round(2)\n",
    "    })\n",
    "    \n",
    "    return result\n",
    "\n",
    "# Example usage:\n",
    "missing_info = missing_percentage(df)\n",
    "print(missing_info)\n"
   ]
  },
  {
   "cell_type": "markdown",
   "id": "c97bc69e",
   "metadata": {
    "papermill": {
     "duration": 0.003846,
     "end_time": "2025-08-19T01:04:19.047366",
     "exception": false,
     "start_time": "2025-08-19T01:04:19.043520",
     "status": "completed"
    },
    "tags": []
   },
   "source": [
    "## Data Preparation"
   ]
  },
  {
   "cell_type": "markdown",
   "id": "34c4c7b9",
   "metadata": {
    "papermill": {
     "duration": 0.003674,
     "end_time": "2025-08-19T01:04:19.054813",
     "exception": false,
     "start_time": "2025-08-19T01:04:19.051139",
     "status": "completed"
    },
    "tags": []
   },
   "source": [
    "### Data Conversion"
   ]
  },
  {
   "cell_type": "code",
   "execution_count": 7,
   "id": "139b506f",
   "metadata": {
    "execution": {
     "iopub.execute_input": "2025-08-19T01:04:19.063184Z",
     "iopub.status.busy": "2025-08-19T01:04:19.062972Z",
     "iopub.status.idle": "2025-08-19T01:04:19.418749Z",
     "shell.execute_reply": "2025-08-19T01:04:19.418138Z"
    },
    "papermill": {
     "duration": 0.361187,
     "end_time": "2025-08-19T01:04:19.419819",
     "exception": false,
     "start_time": "2025-08-19T01:04:19.058632",
     "status": "completed"
    },
    "tags": []
   },
   "outputs": [
    {
     "data": {
      "text/html": [
       "<div>\n",
       "<style scoped>\n",
       "    .dataframe tbody tr th:only-of-type {\n",
       "        vertical-align: middle;\n",
       "    }\n",
       "\n",
       "    .dataframe tbody tr th {\n",
       "        vertical-align: top;\n",
       "    }\n",
       "\n",
       "    .dataframe thead th {\n",
       "        text-align: right;\n",
       "    }\n",
       "</style>\n",
       "<table border=\"1\" class=\"dataframe\">\n",
       "  <thead>\n",
       "    <tr style=\"text-align: right;\">\n",
       "      <th></th>\n",
       "      <th>RecordID</th>\n",
       "      <th>Offense</th>\n",
       "      <th>IncidentID</th>\n",
       "      <th>BlockNumber</th>\n",
       "      <th>StreetName</th>\n",
       "      <th>Agency</th>\n",
       "      <th>HourReported</th>\n",
       "      <th>ReportingOfficer</th>\n",
       "      <th>Date</th>\n",
       "      <th>DateString</th>\n",
       "      <th>DayOfWeek</th>\n",
       "      <th>Weekend</th>\n",
       "      <th>Season</th>\n",
       "      <th>HourAMPM</th>\n",
       "      <th>TimeOfDay</th>\n",
       "    </tr>\n",
       "  </thead>\n",
       "  <tbody>\n",
       "    <tr>\n",
       "      <th>0</th>\n",
       "      <td>1</td>\n",
       "      <td>Driving Under the Influence</td>\n",
       "      <td>202500029125</td>\n",
       "      <td></td>\n",
       "      <td>SWAN LAKE DR / AVON STREET EXT</td>\n",
       "      <td>CPD</td>\n",
       "      <td>2221</td>\n",
       "      <td>Darby, Michael</td>\n",
       "      <td>2025-08-16 22:21:55</td>\n",
       "      <td>2025-08-16 10:21:55 PM</td>\n",
       "      <td>Saturday</td>\n",
       "      <td>True</td>\n",
       "      <td>Summer</td>\n",
       "      <td>10:21 PM</td>\n",
       "      <td>Night</td>\n",
       "    </tr>\n",
       "    <tr>\n",
       "      <th>1</th>\n",
       "      <td>2</td>\n",
       "      <td>Larceny - Shoplifitng</td>\n",
       "      <td>202500029120</td>\n",
       "      <td>1100</td>\n",
       "      <td>5TH ST SW</td>\n",
       "      <td>CPD</td>\n",
       "      <td>2150</td>\n",
       "      <td>Rigsby, Lloyd</td>\n",
       "      <td>2025-08-16 21:50:59</td>\n",
       "      <td>2025-08-16 09:50:59 PM</td>\n",
       "      <td>Saturday</td>\n",
       "      <td>True</td>\n",
       "      <td>Summer</td>\n",
       "      <td>09:50 PM</td>\n",
       "      <td>Night</td>\n",
       "    </tr>\n",
       "    <tr>\n",
       "      <th>2</th>\n",
       "      <td>3</td>\n",
       "      <td>Death Investigation - DOA</td>\n",
       "      <td>202500029101</td>\n",
       "      <td>500</td>\n",
       "      <td>MERIDIAN ST</td>\n",
       "      <td>CPD</td>\n",
       "      <td>1901</td>\n",
       "      <td>Adams, Austin</td>\n",
       "      <td>2025-08-16 19:01:13</td>\n",
       "      <td>2025-08-16 07:01:13 PM</td>\n",
       "      <td>Saturday</td>\n",
       "      <td>True</td>\n",
       "      <td>Summer</td>\n",
       "      <td>07:01 PM</td>\n",
       "      <td>Evening</td>\n",
       "    </tr>\n",
       "    <tr>\n",
       "      <th>3</th>\n",
       "      <td>4</td>\n",
       "      <td>Lost/FoundProperty</td>\n",
       "      <td>202500029068</td>\n",
       "      <td>100</td>\n",
       "      <td>W MAIN ST, 1</td>\n",
       "      <td>CPD</td>\n",
       "      <td>1409</td>\n",
       "      <td>Kinney, Dylan</td>\n",
       "      <td>2025-08-16 14:09:08</td>\n",
       "      <td>2025-08-16 02:09:08 PM</td>\n",
       "      <td>Saturday</td>\n",
       "      <td>True</td>\n",
       "      <td>Summer</td>\n",
       "      <td>02:09 PM</td>\n",
       "      <td>Afternoon</td>\n",
       "    </tr>\n",
       "    <tr>\n",
       "      <th>4</th>\n",
       "      <td>5</td>\n",
       "      <td>Lost/FoundProperty</td>\n",
       "      <td>202500029073</td>\n",
       "      <td>1200</td>\n",
       "      <td>MOWBRAY PL</td>\n",
       "      <td>CPD</td>\n",
       "      <td>1346</td>\n",
       "      <td>Khaleefa, Hamzeh</td>\n",
       "      <td>2025-08-16 13:46:29</td>\n",
       "      <td>2025-08-16 01:46:29 PM</td>\n",
       "      <td>Saturday</td>\n",
       "      <td>True</td>\n",
       "      <td>Summer</td>\n",
       "      <td>01:46 PM</td>\n",
       "      <td>Afternoon</td>\n",
       "    </tr>\n",
       "  </tbody>\n",
       "</table>\n",
       "</div>"
      ],
      "text/plain": [
       "   RecordID                      Offense    IncidentID BlockNumber  \\\n",
       "0         1  Driving Under the Influence  202500029125               \n",
       "1         2        Larceny - Shoplifitng  202500029120        1100   \n",
       "2         3    Death Investigation - DOA  202500029101         500   \n",
       "3         4           Lost/FoundProperty  202500029068         100   \n",
       "4         5           Lost/FoundProperty  202500029073        1200   \n",
       "\n",
       "                       StreetName Agency HourReported  ReportingOfficer  \\\n",
       "0  SWAN LAKE DR / AVON STREET EXT    CPD         2221    Darby, Michael   \n",
       "1                       5TH ST SW    CPD         2150     Rigsby, Lloyd   \n",
       "2                     MERIDIAN ST    CPD         1901     Adams, Austin   \n",
       "3                    W MAIN ST, 1    CPD         1409     Kinney, Dylan   \n",
       "4                      MOWBRAY PL    CPD         1346  Khaleefa, Hamzeh   \n",
       "\n",
       "                 Date              DateString DayOfWeek  Weekend  Season  \\\n",
       "0 2025-08-16 22:21:55  2025-08-16 10:21:55 PM  Saturday     True  Summer   \n",
       "1 2025-08-16 21:50:59  2025-08-16 09:50:59 PM  Saturday     True  Summer   \n",
       "2 2025-08-16 19:01:13  2025-08-16 07:01:13 PM  Saturday     True  Summer   \n",
       "3 2025-08-16 14:09:08  2025-08-16 02:09:08 PM  Saturday     True  Summer   \n",
       "4 2025-08-16 13:46:29  2025-08-16 01:46:29 PM  Saturday     True  Summer   \n",
       "\n",
       "   HourAMPM  TimeOfDay  \n",
       "0  10:21 PM      Night  \n",
       "1  09:50 PM      Night  \n",
       "2  07:01 PM    Evening  \n",
       "3  02:09 PM  Afternoon  \n",
       "4  01:46 PM  Afternoon  "
      ]
     },
     "execution_count": 7,
     "metadata": {},
     "output_type": "execute_result"
    }
   ],
   "source": [
    "def convert_and_categorize_datereported(df, col='DateReported'):\n",
    "    \"\"\"\n",
    "    Converts an epoch (in milliseconds) date column into a timezone-aware datetime,\n",
    "    converts it to Eastern Time, and then creates columns for day-of-week, weekend flag,\n",
    "    season, 12-hour formatted time, and time-of-day. Keeps both a real datetime column\n",
    "    (Date) and a string representation (DateString).\n",
    "    \"\"\"\n",
    "    import pandas as pd\n",
    "\n",
    "    # Convert the epoch timestamp to a pandas datetime object as UTC, then convert to US/Eastern.\n",
    "    df[\"DateReported_dt\"] = (\n",
    "        pd.to_datetime(df[col], unit=\"ms\", errors=\"coerce\", utc=True)\n",
    "        .dt.tz_convert(\"US/Eastern\")\n",
    "    )\n",
    "    \n",
    "    # Create a true datetime column (remove timezone if you prefer naive datetime)\n",
    "    df[\"Date\"] = df[\"DateReported_dt\"].dt.tz_localize(None)\n",
    "\n",
    "    # Optionally, create a separate string-formatted column\n",
    "    df[\"DateString\"] = df[\"DateReported_dt\"].dt.strftime(\"%Y-%m-%d %I:%M:%S %p\")\n",
    "    \n",
    "    # DayOfWeek\n",
    "    df[\"DayOfWeek\"] = df[\"DateReported_dt\"].dt.day_name()\n",
    "    \n",
    "    # Weekend\n",
    "    df[\"Weekend\"] = df[\"DayOfWeek\"].isin([\"Saturday\", \"Sunday\"])\n",
    "    \n",
    "    # Helper function to determine the season\n",
    "    def get_season(dt):\n",
    "        month = dt.month\n",
    "        day = dt.day\n",
    "        # Approximate Northern Hemisphere season boundaries:\n",
    "        if (month == 12 and day >= 21) or (month < 3) or (month == 3 and day < 20):\n",
    "            return \"Winter\"\n",
    "        elif (month == 3 and day >= 20) or (month < 6) or (month == 6 and day < 21):\n",
    "            return \"Spring\"\n",
    "        elif (month == 6 and day >= 21) or (month < 9) or (month == 9 and day < 22):\n",
    "            return \"Summer\"\n",
    "        else:\n",
    "            return \"Autumn\"\n",
    "    \n",
    "    df[\"Season\"] = df[\"DateReported_dt\"].apply(get_season)\n",
    "    \n",
    "    # 12-hour formatted time (HourAMPM)\n",
    "    df[\"HourAMPM\"] = df[\"DateReported_dt\"].dt.strftime(\"%I:%M %p\")\n",
    "    \n",
    "    # Extract hour (0-23) for time-of-day\n",
    "    df[\"HourValue\"] = df[\"DateReported_dt\"].dt.hour\n",
    "    \n",
    "    def time_of_day(hour):\n",
    "        if pd.isnull(hour):\n",
    "            return None\n",
    "        if 5 <= hour < 12:\n",
    "            return \"Morning\"\n",
    "        elif 12 <= hour < 17:\n",
    "            return \"Afternoon\"\n",
    "        elif 17 <= hour < 21:\n",
    "            return \"Evening\"\n",
    "        else:\n",
    "            return \"Night\"\n",
    "    \n",
    "    df[\"TimeOfDay\"] = df[\"HourValue\"].apply(time_of_day)\n",
    "    \n",
    "    # Drop columns you no longer need\n",
    "    df.drop(columns=[col, \"DateReported_dt\", \"HourValue\"], inplace=True)\n",
    "    \n",
    "    return df\n",
    "\n",
    "# Example usage:\n",
    "df = convert_and_categorize_datereported(df)\n",
    "df.head()\n"
   ]
  },
  {
   "cell_type": "code",
   "execution_count": 8,
   "id": "5702f1ef",
   "metadata": {
    "execution": {
     "iopub.execute_input": "2025-08-19T01:04:19.429121Z",
     "iopub.status.busy": "2025-08-19T01:04:19.428908Z",
     "iopub.status.idle": "2025-08-19T01:04:19.455830Z",
     "shell.execute_reply": "2025-08-19T01:04:19.455272Z"
    },
    "papermill": {
     "duration": 0.032544,
     "end_time": "2025-08-19T01:04:19.456849",
     "exception": false,
     "start_time": "2025-08-19T01:04:19.424305",
     "status": "completed"
    },
    "tags": []
   },
   "outputs": [
    {
     "name": "stdout",
     "output_type": "stream",
     "text": [
      "<class 'pandas.core.frame.DataFrame'>\n",
      "RangeIndex: 25659 entries, 0 to 25658\n",
      "Data columns (total 15 columns):\n",
      " #   Column            Non-Null Count  Dtype         \n",
      "---  ------            --------------  -----         \n",
      " 0   RecordID          25659 non-null  int64         \n",
      " 1   Offense           25659 non-null  object        \n",
      " 2   IncidentID        25659 non-null  object        \n",
      " 3   BlockNumber       25659 non-null  object        \n",
      " 4   StreetName        25659 non-null  object        \n",
      " 5   Agency            25659 non-null  object        \n",
      " 6   HourReported      25659 non-null  object        \n",
      " 7   ReportingOfficer  25644 non-null  object        \n",
      " 8   Date              25659 non-null  datetime64[ns]\n",
      " 9   DateString        25659 non-null  object        \n",
      " 10  DayOfWeek         25659 non-null  object        \n",
      " 11  Weekend           25659 non-null  bool          \n",
      " 12  Season            25659 non-null  object        \n",
      " 13  HourAMPM          25659 non-null  object        \n",
      " 14  TimeOfDay         25659 non-null  object        \n",
      "dtypes: bool(1), datetime64[ns](1), int64(1), object(12)\n",
      "memory usage: 2.8+ MB\n"
     ]
    }
   ],
   "source": [
    "df.info()"
   ]
  },
  {
   "cell_type": "markdown",
   "id": "3b3a32c9",
   "metadata": {
    "papermill": {
     "duration": 0.004009,
     "end_time": "2025-08-19T01:04:19.465283",
     "exception": false,
     "start_time": "2025-08-19T01:04:19.461274",
     "status": "completed"
    },
    "tags": []
   },
   "source": [
    "### Coordinates"
   ]
  },
  {
   "cell_type": "code",
   "execution_count": 9,
   "id": "6ecbe138",
   "metadata": {
    "execution": {
     "iopub.execute_input": "2025-08-19T01:04:19.474217Z",
     "iopub.status.busy": "2025-08-19T01:04:19.474026Z",
     "iopub.status.idle": "2025-08-19T01:04:19.836453Z",
     "shell.execute_reply": "2025-08-19T01:04:19.835743Z"
    },
    "papermill": {
     "duration": 0.368215,
     "end_time": "2025-08-19T01:04:19.837569",
     "exception": false,
     "start_time": "2025-08-19T01:04:19.469354",
     "status": "completed"
    },
    "tags": []
   },
   "outputs": [
    {
     "name": "stdout",
     "output_type": "stream",
     "text": [
      "Loaded geocode cache.\n",
      "Error geocoding  SWAN LAKE DR / AVON STREET EXT: REQUEST_DENIED (You must enable Billing on the Google Cloud Project at https://console.cloud.google.com/project/_/billing/enable Learn more at https://developers.google.com/maps/gmp-get-started)\n",
      "Geocoded  SWAN LAKE DR / AVON STREET EXT: None, None\n"
     ]
    },
    {
     "name": "stdout",
     "output_type": "stream",
     "text": [
      "Error geocoding 1800 JEFFERSON PARK AVE, D131: REQUEST_DENIED (You must enable Billing on the Google Cloud Project at https://console.cloud.google.com/project/_/billing/enable Learn more at https://developers.google.com/maps/gmp-get-started)\n",
      "Geocoded 1800 JEFFERSON PARK AVE, D131: None, None\n"
     ]
    },
    {
     "name": "stdout",
     "output_type": "stream",
     "text": [
      "Error geocoding  CARLTON AVE / SPRUCE ST: REQUEST_DENIED (You must enable Billing on the Google Cloud Project at https://console.cloud.google.com/project/_/billing/enable Learn more at https://developers.google.com/maps/gmp-get-started)\n",
      "Geocoded  CARLTON AVE / SPRUCE ST: None, None\n",
      "Geocode cache updated and saved.\n"
     ]
    },
    {
     "data": {
      "text/html": [
       "<div>\n",
       "<style scoped>\n",
       "    .dataframe tbody tr th:only-of-type {\n",
       "        vertical-align: middle;\n",
       "    }\n",
       "\n",
       "    .dataframe tbody tr th {\n",
       "        vertical-align: top;\n",
       "    }\n",
       "\n",
       "    .dataframe thead th {\n",
       "        text-align: right;\n",
       "    }\n",
       "</style>\n",
       "<table border=\"1\" class=\"dataframe\">\n",
       "  <thead>\n",
       "    <tr style=\"text-align: right;\">\n",
       "      <th></th>\n",
       "      <th>RecordID</th>\n",
       "      <th>Offense</th>\n",
       "      <th>IncidentID</th>\n",
       "      <th>BlockNumber</th>\n",
       "      <th>StreetName</th>\n",
       "      <th>Agency</th>\n",
       "      <th>HourReported</th>\n",
       "      <th>ReportingOfficer</th>\n",
       "      <th>Date</th>\n",
       "      <th>DateString</th>\n",
       "      <th>DayOfWeek</th>\n",
       "      <th>Weekend</th>\n",
       "      <th>Season</th>\n",
       "      <th>HourAMPM</th>\n",
       "      <th>TimeOfDay</th>\n",
       "      <th>FullStreet</th>\n",
       "      <th>lat</th>\n",
       "      <th>lon</th>\n",
       "    </tr>\n",
       "  </thead>\n",
       "  <tbody>\n",
       "    <tr>\n",
       "      <th>0</th>\n",
       "      <td>1</td>\n",
       "      <td>Driving Under the Influence</td>\n",
       "      <td>202500029125</td>\n",
       "      <td></td>\n",
       "      <td>SWAN LAKE DR / AVON STREET EXT</td>\n",
       "      <td>CPD</td>\n",
       "      <td>2221</td>\n",
       "      <td>Darby, Michael</td>\n",
       "      <td>2025-08-16 22:21:55</td>\n",
       "      <td>2025-08-16 10:21:55 PM</td>\n",
       "      <td>Saturday</td>\n",
       "      <td>True</td>\n",
       "      <td>Summer</td>\n",
       "      <td>10:21 PM</td>\n",
       "      <td>Night</td>\n",
       "      <td>SWAN LAKE DR / AVON STREET EXT</td>\n",
       "      <td>NaN</td>\n",
       "      <td>NaN</td>\n",
       "    </tr>\n",
       "    <tr>\n",
       "      <th>1</th>\n",
       "      <td>2</td>\n",
       "      <td>Larceny - Shoplifitng</td>\n",
       "      <td>202500029120</td>\n",
       "      <td>1100</td>\n",
       "      <td>5TH ST SW</td>\n",
       "      <td>CPD</td>\n",
       "      <td>2150</td>\n",
       "      <td>Rigsby, Lloyd</td>\n",
       "      <td>2025-08-16 21:50:59</td>\n",
       "      <td>2025-08-16 09:50:59 PM</td>\n",
       "      <td>Saturday</td>\n",
       "      <td>True</td>\n",
       "      <td>Summer</td>\n",
       "      <td>09:50 PM</td>\n",
       "      <td>Night</td>\n",
       "      <td>1100 5TH ST SW</td>\n",
       "      <td>38.017130</td>\n",
       "      <td>-78.497806</td>\n",
       "    </tr>\n",
       "    <tr>\n",
       "      <th>2</th>\n",
       "      <td>3</td>\n",
       "      <td>Death Investigation - DOA</td>\n",
       "      <td>202500029101</td>\n",
       "      <td>500</td>\n",
       "      <td>MERIDIAN ST</td>\n",
       "      <td>CPD</td>\n",
       "      <td>1901</td>\n",
       "      <td>Adams, Austin</td>\n",
       "      <td>2025-08-16 19:01:13</td>\n",
       "      <td>2025-08-16 07:01:13 PM</td>\n",
       "      <td>Saturday</td>\n",
       "      <td>True</td>\n",
       "      <td>Summer</td>\n",
       "      <td>07:01 PM</td>\n",
       "      <td>Evening</td>\n",
       "      <td>500 MERIDIAN ST</td>\n",
       "      <td>38.024364</td>\n",
       "      <td>-78.474871</td>\n",
       "    </tr>\n",
       "    <tr>\n",
       "      <th>3</th>\n",
       "      <td>4</td>\n",
       "      <td>Lost/FoundProperty</td>\n",
       "      <td>202500029068</td>\n",
       "      <td>100</td>\n",
       "      <td>W MAIN ST, 1</td>\n",
       "      <td>CPD</td>\n",
       "      <td>1409</td>\n",
       "      <td>Kinney, Dylan</td>\n",
       "      <td>2025-08-16 14:09:08</td>\n",
       "      <td>2025-08-16 02:09:08 PM</td>\n",
       "      <td>Saturday</td>\n",
       "      <td>True</td>\n",
       "      <td>Summer</td>\n",
       "      <td>02:09 PM</td>\n",
       "      <td>Afternoon</td>\n",
       "      <td>100 W MAIN ST, 1</td>\n",
       "      <td>38.030718</td>\n",
       "      <td>-78.481656</td>\n",
       "    </tr>\n",
       "    <tr>\n",
       "      <th>4</th>\n",
       "      <td>5</td>\n",
       "      <td>Lost/FoundProperty</td>\n",
       "      <td>202500029073</td>\n",
       "      <td>1200</td>\n",
       "      <td>MOWBRAY PL</td>\n",
       "      <td>CPD</td>\n",
       "      <td>1346</td>\n",
       "      <td>Khaleefa, Hamzeh</td>\n",
       "      <td>2025-08-16 13:46:29</td>\n",
       "      <td>2025-08-16 01:46:29 PM</td>\n",
       "      <td>Saturday</td>\n",
       "      <td>True</td>\n",
       "      <td>Summer</td>\n",
       "      <td>01:46 PM</td>\n",
       "      <td>Afternoon</td>\n",
       "      <td>1200 MOWBRAY PL</td>\n",
       "      <td>38.036444</td>\n",
       "      <td>-78.465157</td>\n",
       "    </tr>\n",
       "  </tbody>\n",
       "</table>\n",
       "</div>"
      ],
      "text/plain": [
       "   RecordID                      Offense    IncidentID BlockNumber  \\\n",
       "0         1  Driving Under the Influence  202500029125               \n",
       "1         2        Larceny - Shoplifitng  202500029120        1100   \n",
       "2         3    Death Investigation - DOA  202500029101         500   \n",
       "3         4           Lost/FoundProperty  202500029068         100   \n",
       "4         5           Lost/FoundProperty  202500029073        1200   \n",
       "\n",
       "                       StreetName Agency HourReported  ReportingOfficer  \\\n",
       "0  SWAN LAKE DR / AVON STREET EXT    CPD         2221    Darby, Michael   \n",
       "1                       5TH ST SW    CPD         2150     Rigsby, Lloyd   \n",
       "2                     MERIDIAN ST    CPD         1901     Adams, Austin   \n",
       "3                    W MAIN ST, 1    CPD         1409     Kinney, Dylan   \n",
       "4                      MOWBRAY PL    CPD         1346  Khaleefa, Hamzeh   \n",
       "\n",
       "                 Date              DateString DayOfWeek  Weekend  Season  \\\n",
       "0 2025-08-16 22:21:55  2025-08-16 10:21:55 PM  Saturday     True  Summer   \n",
       "1 2025-08-16 21:50:59  2025-08-16 09:50:59 PM  Saturday     True  Summer   \n",
       "2 2025-08-16 19:01:13  2025-08-16 07:01:13 PM  Saturday     True  Summer   \n",
       "3 2025-08-16 14:09:08  2025-08-16 02:09:08 PM  Saturday     True  Summer   \n",
       "4 2025-08-16 13:46:29  2025-08-16 01:46:29 PM  Saturday     True  Summer   \n",
       "\n",
       "   HourAMPM  TimeOfDay                       FullStreet        lat        lon  \n",
       "0  10:21 PM      Night   SWAN LAKE DR / AVON STREET EXT        NaN        NaN  \n",
       "1  09:50 PM      Night                   1100 5TH ST SW  38.017130 -78.497806  \n",
       "2  07:01 PM    Evening                  500 MERIDIAN ST  38.024364 -78.474871  \n",
       "3  02:09 PM  Afternoon                 100 W MAIN ST, 1  38.030718 -78.481656  \n",
       "4  01:46 PM  Afternoon                  1200 MOWBRAY PL  38.036444 -78.465157  "
      ]
     },
     "execution_count": 9,
     "metadata": {},
     "output_type": "execute_result"
    }
   ],
   "source": [
    "# Combine BlockNumber and StreetName into a full address string\n",
    "df['FullStreet'] = df['BlockNumber'].astype(str) + \" \" + df['StreetName']\n",
    "\n",
    "# --- Step 1: Setup the Google Maps Client and Cache ---\n",
    "gmaps = googlemaps.Client(key=GOOGLE_API_KEY)\n",
    "\n",
    "# Try to load cached geocoding results if available.\n",
    "try:\n",
    "    with open(\"geocode_cache_google.pkl\", \"rb\") as f:\n",
    "        street_coords = pickle.load(f)\n",
    "    print(\"Loaded geocode cache.\")\n",
    "except FileNotFoundError:\n",
    "    street_coords = {}\n",
    "    print(\"No cache found; starting fresh.\")\n",
    "\n",
    "def geocode_address(address):\n",
    "    try:\n",
    "        # Append city and state to help geocoding\n",
    "        result = gmaps.geocode(f\"{address}, Charlottesville, VA\")\n",
    "        if result:\n",
    "            lat = result[0]['geometry']['location']['lat']\n",
    "            lon = result[0]['geometry']['location']['lng']\n",
    "            return lat, lon\n",
    "    except Exception as e:\n",
    "        print(f\"Error geocoding {address}: {e}\")\n",
    "    return None, None\n",
    "\n",
    "# --- Step 2: Geocode Only New Addresses ---\n",
    "unique_addresses = df['FullStreet'].unique()\n",
    "for address in unique_addresses:\n",
    "    if address not in street_coords:\n",
    "        lat, lon = geocode_address(address)\n",
    "        street_coords[address] = (lat, lon)\n",
    "        print(f\"Geocoded {address}: {lat}, {lon}\")\n",
    "\n",
    "# Save the updated cache to disk.\n",
    "with open(\"geocode_cache_google.pkl\", \"wb\") as f:\n",
    "    pickle.dump(street_coords, f)\n",
    "    print(\"Geocode cache updated and saved.\")\n",
    "\n",
    "# --- Step 3: Map Coordinates Back to DataFrame ---\n",
    "df['lat'] = df['FullStreet'].map(lambda s: street_coords.get(s, (None, None))[0])\n",
    "df['lon'] = df['FullStreet'].map(lambda s: street_coords.get(s, (None, None))[1])\n",
    "\n",
    "df.head()"
   ]
  },
  {
   "cell_type": "markdown",
   "id": "d8b903c7",
   "metadata": {
    "papermill": {
     "duration": 0.004567,
     "end_time": "2025-08-19T01:04:19.847066",
     "exception": false,
     "start_time": "2025-08-19T01:04:19.842499",
     "status": "completed"
    },
    "tags": []
   },
   "source": [
    "### Neighborhood"
   ]
  },
  {
   "cell_type": "code",
   "execution_count": 10,
   "id": "a2b33204",
   "metadata": {
    "execution": {
     "iopub.execute_input": "2025-08-19T01:04:19.856543Z",
     "iopub.status.busy": "2025-08-19T01:04:19.856336Z",
     "iopub.status.idle": "2025-08-19T01:04:24.487085Z",
     "shell.execute_reply": "2025-08-19T01:04:24.486372Z"
    },
    "papermill": {
     "duration": 4.636769,
     "end_time": "2025-08-19T01:04:24.488205",
     "exception": false,
     "start_time": "2025-08-19T01:04:19.851436",
     "status": "completed"
    },
    "tags": []
   },
   "outputs": [
    {
     "name": "stdout",
     "output_type": "stream",
     "text": [
      "Loaded neighborhood cache.\n"
     ]
    },
    {
     "name": "stdout",
     "output_type": "stream",
     "text": [
      "Error getting neighborhood for nan, nan: HTTP Error: 400\n"
     ]
    },
    {
     "name": "stdout",
     "output_type": "stream",
     "text": [
      "Error getting neighborhood for nan, nan: HTTP Error: 400\n",
      "Error getting neighborhood for nan, nan: HTTP Error: 400\n",
      "Error getting neighborhood for nan, nan: HTTP Error: 400\n",
      "Error getting neighborhood for nan, nan: HTTP Error: 400\n"
     ]
    },
    {
     "name": "stdout",
     "output_type": "stream",
     "text": [
      "Error getting neighborhood for nan, nan: HTTP Error: 400\n",
      "Error getting neighborhood for nan, nan: HTTP Error: 400\n",
      "Error getting neighborhood for nan, nan: HTTP Error: 400\n",
      "Error getting neighborhood for nan, nan: HTTP Error: 400\n",
      "Error getting neighborhood for nan, nan: HTTP Error: 400\n"
     ]
    },
    {
     "name": "stdout",
     "output_type": "stream",
     "text": [
      "Error getting neighborhood for nan, nan: HTTP Error: 400\n",
      "Error getting neighborhood for nan, nan: HTTP Error: 400\n",
      "Error getting neighborhood for nan, nan: HTTP Error: 400\n",
      "Error getting neighborhood for nan, nan: HTTP Error: 400\n",
      "Error getting neighborhood for nan, nan: HTTP Error: 400\n"
     ]
    },
    {
     "name": "stdout",
     "output_type": "stream",
     "text": [
      "Error getting neighborhood for nan, nan: HTTP Error: 400\n",
      "Error getting neighborhood for nan, nan: HTTP Error: 400\n",
      "Error getting neighborhood for nan, nan: HTTP Error: 400\n",
      "Error getting neighborhood for nan, nan: HTTP Error: 400\n",
      "Error getting neighborhood for nan, nan: HTTP Error: 400\n",
      "Error getting neighborhood for nan, nan: HTTP Error: 400\n"
     ]
    },
    {
     "name": "stdout",
     "output_type": "stream",
     "text": [
      "Error getting neighborhood for nan, nan: HTTP Error: 400\n",
      "Error getting neighborhood for nan, nan: HTTP Error: 400\n",
      "Error getting neighborhood for nan, nan: HTTP Error: 400\n",
      "Error getting neighborhood for nan, nan: HTTP Error: 400\n",
      "Error getting neighborhood for nan, nan: HTTP Error: 400\n",
      "Error getting neighborhood for nan, nan: HTTP Error: 400\n"
     ]
    },
    {
     "name": "stdout",
     "output_type": "stream",
     "text": [
      "Error getting neighborhood for nan, nan: HTTP Error: 400\n",
      "Error getting neighborhood for nan, nan: HTTP Error: 400\n",
      "Error getting neighborhood for nan, nan: HTTP Error: 400\n",
      "Error getting neighborhood for nan, nan: HTTP Error: 400\n",
      "Error getting neighborhood for nan, nan: HTTP Error: 400\n",
      "Error getting neighborhood for nan, nan: HTTP Error: 400\n"
     ]
    },
    {
     "name": "stdout",
     "output_type": "stream",
     "text": [
      "Error getting neighborhood for nan, nan: HTTP Error: 400\n",
      "Error getting neighborhood for nan, nan: HTTP Error: 400\n",
      "Error getting neighborhood for nan, nan: HTTP Error: 400\n",
      "Error getting neighborhood for nan, nan: HTTP Error: 400\n",
      "Error getting neighborhood for nan, nan: HTTP Error: 400\n",
      "Error getting neighborhood for nan, nan: HTTP Error: 400\n"
     ]
    },
    {
     "name": "stdout",
     "output_type": "stream",
     "text": [
      "Error getting neighborhood for nan, nan: HTTP Error: 400\n",
      "Error getting neighborhood for nan, nan: HTTP Error: 400\n",
      "Error getting neighborhood for nan, nan: HTTP Error: 400\n",
      "Error getting neighborhood for nan, nan: HTTP Error: 400\n",
      "Error getting neighborhood for nan, nan: HTTP Error: 400\n",
      "Error getting neighborhood for nan, nan: HTTP Error: 400\n"
     ]
    },
    {
     "name": "stdout",
     "output_type": "stream",
     "text": [
      "Error getting neighborhood for nan, nan: HTTP Error: 400\n",
      "Error getting neighborhood for nan, nan: HTTP Error: 400\n",
      "Error getting neighborhood for nan, nan: HTTP Error: 400\n",
      "Error getting neighborhood for nan, nan: HTTP Error: 400\n",
      "Error getting neighborhood for nan, nan: HTTP Error: 400\n",
      "Error getting neighborhood for nan, nan: HTTP Error: 400\n"
     ]
    },
    {
     "name": "stdout",
     "output_type": "stream",
     "text": [
      "Error getting neighborhood for nan, nan: HTTP Error: 400\n",
      "Error getting neighborhood for nan, nan: HTTP Error: 400\n",
      "Error getting neighborhood for nan, nan: HTTP Error: 400\n",
      "Error getting neighborhood for nan, nan: HTTP Error: 400\n",
      "Error getting neighborhood for nan, nan: HTTP Error: 400\n",
      "Error getting neighborhood for nan, nan: HTTP Error: 400\n"
     ]
    },
    {
     "name": "stdout",
     "output_type": "stream",
     "text": [
      "Error getting neighborhood for nan, nan: HTTP Error: 400\n",
      "Error getting neighborhood for nan, nan: HTTP Error: 400\n",
      "Error getting neighborhood for nan, nan: HTTP Error: 400\n",
      "Error getting neighborhood for nan, nan: HTTP Error: 400\n",
      "Error getting neighborhood for nan, nan: HTTP Error: 400\n",
      "Error getting neighborhood for nan, nan: HTTP Error: 400\n"
     ]
    },
    {
     "name": "stdout",
     "output_type": "stream",
     "text": [
      "Error getting neighborhood for nan, nan: HTTP Error: 400\n",
      "Error getting neighborhood for nan, nan: HTTP Error: 400\n",
      "Error getting neighborhood for nan, nan: HTTP Error: 400\n",
      "Error getting neighborhood for nan, nan: HTTP Error: 400\n",
      "Error getting neighborhood for nan, nan: HTTP Error: 400\n",
      "Error getting neighborhood for nan, nan: HTTP Error: 400\n"
     ]
    },
    {
     "name": "stdout",
     "output_type": "stream",
     "text": [
      "Error getting neighborhood for nan, nan: HTTP Error: 400\n",
      "Error getting neighborhood for nan, nan: HTTP Error: 400\n",
      "Error getting neighborhood for nan, nan: HTTP Error: 400\n",
      "Error getting neighborhood for nan, nan: HTTP Error: 400\n",
      "Error getting neighborhood for nan, nan: HTTP Error: 400\n",
      "Error getting neighborhood for nan, nan: HTTP Error: 400\n"
     ]
    },
    {
     "name": "stdout",
     "output_type": "stream",
     "text": [
      "Error getting neighborhood for nan, nan: HTTP Error: 400\n",
      "Error getting neighborhood for nan, nan: HTTP Error: 400\n",
      "Error getting neighborhood for nan, nan: HTTP Error: 400\n",
      "Error getting neighborhood for nan, nan: HTTP Error: 400\n",
      "Error getting neighborhood for nan, nan: HTTP Error: 400\n",
      "Error getting neighborhood for nan, nan: HTTP Error: 400\n"
     ]
    },
    {
     "name": "stdout",
     "output_type": "stream",
     "text": [
      "Error getting neighborhood for nan, nan: HTTP Error: 400\n",
      "Error getting neighborhood for nan, nan: HTTP Error: 400\n",
      "Error getting neighborhood for nan, nan: HTTP Error: 400\n",
      "Error getting neighborhood for nan, nan: HTTP Error: 400\n",
      "Error getting neighborhood for nan, nan: HTTP Error: 400\n",
      "Error getting neighborhood for nan, nan: HTTP Error: 400\n"
     ]
    },
    {
     "name": "stdout",
     "output_type": "stream",
     "text": [
      "Error getting neighborhood for nan, nan: HTTP Error: 400\n",
      "Error getting neighborhood for nan, nan: HTTP Error: 400\n",
      "Error getting neighborhood for nan, nan: HTTP Error: 400\n",
      "Error getting neighborhood for nan, nan: HTTP Error: 400\n",
      "Error getting neighborhood for nan, nan: HTTP Error: 400\n",
      "Error getting neighborhood for nan, nan: HTTP Error: 400\n"
     ]
    },
    {
     "name": "stdout",
     "output_type": "stream",
     "text": [
      "Error getting neighborhood for nan, nan: HTTP Error: 400\n",
      "Error getting neighborhood for nan, nan: HTTP Error: 400\n",
      "Error getting neighborhood for nan, nan: HTTP Error: 400\n",
      "Error getting neighborhood for nan, nan: HTTP Error: 400\n",
      "Error getting neighborhood for nan, nan: HTTP Error: 400\n",
      "Error getting neighborhood for nan, nan: HTTP Error: 400\n"
     ]
    },
    {
     "name": "stdout",
     "output_type": "stream",
     "text": [
      "Error getting neighborhood for nan, nan: HTTP Error: 400\n",
      "Error getting neighborhood for nan, nan: HTTP Error: 400\n",
      "Error getting neighborhood for nan, nan: HTTP Error: 400\n",
      "Error getting neighborhood for nan, nan: HTTP Error: 400\n",
      "Error getting neighborhood for nan, nan: HTTP Error: 400\n",
      "Error getting neighborhood for nan, nan: HTTP Error: 400\n"
     ]
    },
    {
     "name": "stdout",
     "output_type": "stream",
     "text": [
      "Error getting neighborhood for nan, nan: HTTP Error: 400\n",
      "Error getting neighborhood for nan, nan: HTTP Error: 400\n",
      "Error getting neighborhood for nan, nan: HTTP Error: 400\n"
     ]
    },
    {
     "data": {
      "text/html": [
       "<div>\n",
       "<style scoped>\n",
       "    .dataframe tbody tr th:only-of-type {\n",
       "        vertical-align: middle;\n",
       "    }\n",
       "\n",
       "    .dataframe tbody tr th {\n",
       "        vertical-align: top;\n",
       "    }\n",
       "\n",
       "    .dataframe thead th {\n",
       "        text-align: right;\n",
       "    }\n",
       "</style>\n",
       "<table border=\"1\" class=\"dataframe\">\n",
       "  <thead>\n",
       "    <tr style=\"text-align: right;\">\n",
       "      <th></th>\n",
       "      <th>RecordID</th>\n",
       "      <th>Offense</th>\n",
       "      <th>IncidentID</th>\n",
       "      <th>BlockNumber</th>\n",
       "      <th>StreetName</th>\n",
       "      <th>Agency</th>\n",
       "      <th>HourReported</th>\n",
       "      <th>ReportingOfficer</th>\n",
       "      <th>Date</th>\n",
       "      <th>DateString</th>\n",
       "      <th>DayOfWeek</th>\n",
       "      <th>Weekend</th>\n",
       "      <th>Season</th>\n",
       "      <th>HourAMPM</th>\n",
       "      <th>TimeOfDay</th>\n",
       "      <th>FullStreet</th>\n",
       "      <th>lat</th>\n",
       "      <th>lon</th>\n",
       "      <th>neighborhood</th>\n",
       "    </tr>\n",
       "  </thead>\n",
       "  <tbody>\n",
       "    <tr>\n",
       "      <th>0</th>\n",
       "      <td>1</td>\n",
       "      <td>Driving Under the Influence</td>\n",
       "      <td>202500029125</td>\n",
       "      <td></td>\n",
       "      <td>SWAN LAKE DR / AVON STREET EXT</td>\n",
       "      <td>CPD</td>\n",
       "      <td>2221</td>\n",
       "      <td>Darby, Michael</td>\n",
       "      <td>2025-08-16 22:21:55</td>\n",
       "      <td>2025-08-16 10:21:55 PM</td>\n",
       "      <td>Saturday</td>\n",
       "      <td>True</td>\n",
       "      <td>Summer</td>\n",
       "      <td>10:21 PM</td>\n",
       "      <td>Night</td>\n",
       "      <td>SWAN LAKE DR / AVON STREET EXT</td>\n",
       "      <td>NaN</td>\n",
       "      <td>NaN</td>\n",
       "      <td>N/A</td>\n",
       "    </tr>\n",
       "    <tr>\n",
       "      <th>1</th>\n",
       "      <td>2</td>\n",
       "      <td>Larceny - Shoplifitng</td>\n",
       "      <td>202500029120</td>\n",
       "      <td>1100</td>\n",
       "      <td>5TH ST SW</td>\n",
       "      <td>CPD</td>\n",
       "      <td>2150</td>\n",
       "      <td>Rigsby, Lloyd</td>\n",
       "      <td>2025-08-16 21:50:59</td>\n",
       "      <td>2025-08-16 09:50:59 PM</td>\n",
       "      <td>Saturday</td>\n",
       "      <td>True</td>\n",
       "      <td>Summer</td>\n",
       "      <td>09:50 PM</td>\n",
       "      <td>Night</td>\n",
       "      <td>1100 5TH ST SW</td>\n",
       "      <td>38.017130</td>\n",
       "      <td>-78.497806</td>\n",
       "      <td>Johnson Village</td>\n",
       "    </tr>\n",
       "    <tr>\n",
       "      <th>2</th>\n",
       "      <td>3</td>\n",
       "      <td>Death Investigation - DOA</td>\n",
       "      <td>202500029101</td>\n",
       "      <td>500</td>\n",
       "      <td>MERIDIAN ST</td>\n",
       "      <td>CPD</td>\n",
       "      <td>1901</td>\n",
       "      <td>Adams, Austin</td>\n",
       "      <td>2025-08-16 19:01:13</td>\n",
       "      <td>2025-08-16 07:01:13 PM</td>\n",
       "      <td>Saturday</td>\n",
       "      <td>True</td>\n",
       "      <td>Summer</td>\n",
       "      <td>07:01 PM</td>\n",
       "      <td>Evening</td>\n",
       "      <td>500 MERIDIAN ST</td>\n",
       "      <td>38.024364</td>\n",
       "      <td>-78.474871</td>\n",
       "      <td>Belmont</td>\n",
       "    </tr>\n",
       "    <tr>\n",
       "      <th>3</th>\n",
       "      <td>4</td>\n",
       "      <td>Lost/FoundProperty</td>\n",
       "      <td>202500029068</td>\n",
       "      <td>100</td>\n",
       "      <td>W MAIN ST, 1</td>\n",
       "      <td>CPD</td>\n",
       "      <td>1409</td>\n",
       "      <td>Kinney, Dylan</td>\n",
       "      <td>2025-08-16 14:09:08</td>\n",
       "      <td>2025-08-16 02:09:08 PM</td>\n",
       "      <td>Saturday</td>\n",
       "      <td>True</td>\n",
       "      <td>Summer</td>\n",
       "      <td>02:09 PM</td>\n",
       "      <td>Afternoon</td>\n",
       "      <td>100 W MAIN ST, 1</td>\n",
       "      <td>38.030718</td>\n",
       "      <td>-78.481656</td>\n",
       "      <td>Downtown Mall</td>\n",
       "    </tr>\n",
       "    <tr>\n",
       "      <th>4</th>\n",
       "      <td>5</td>\n",
       "      <td>Lost/FoundProperty</td>\n",
       "      <td>202500029073</td>\n",
       "      <td>1200</td>\n",
       "      <td>MOWBRAY PL</td>\n",
       "      <td>CPD</td>\n",
       "      <td>1346</td>\n",
       "      <td>Khaleefa, Hamzeh</td>\n",
       "      <td>2025-08-16 13:46:29</td>\n",
       "      <td>2025-08-16 01:46:29 PM</td>\n",
       "      <td>Saturday</td>\n",
       "      <td>True</td>\n",
       "      <td>Summer</td>\n",
       "      <td>01:46 PM</td>\n",
       "      <td>Afternoon</td>\n",
       "      <td>1200 MOWBRAY PL</td>\n",
       "      <td>38.036444</td>\n",
       "      <td>-78.465157</td>\n",
       "      <td>Martha Jefferson</td>\n",
       "    </tr>\n",
       "  </tbody>\n",
       "</table>\n",
       "</div>"
      ],
      "text/plain": [
       "   RecordID                      Offense    IncidentID BlockNumber  \\\n",
       "0         1  Driving Under the Influence  202500029125               \n",
       "1         2        Larceny - Shoplifitng  202500029120        1100   \n",
       "2         3    Death Investigation - DOA  202500029101         500   \n",
       "3         4           Lost/FoundProperty  202500029068         100   \n",
       "4         5           Lost/FoundProperty  202500029073        1200   \n",
       "\n",
       "                       StreetName Agency HourReported  ReportingOfficer  \\\n",
       "0  SWAN LAKE DR / AVON STREET EXT    CPD         2221    Darby, Michael   \n",
       "1                       5TH ST SW    CPD         2150     Rigsby, Lloyd   \n",
       "2                     MERIDIAN ST    CPD         1901     Adams, Austin   \n",
       "3                    W MAIN ST, 1    CPD         1409     Kinney, Dylan   \n",
       "4                      MOWBRAY PL    CPD         1346  Khaleefa, Hamzeh   \n",
       "\n",
       "                 Date              DateString DayOfWeek  Weekend  Season  \\\n",
       "0 2025-08-16 22:21:55  2025-08-16 10:21:55 PM  Saturday     True  Summer   \n",
       "1 2025-08-16 21:50:59  2025-08-16 09:50:59 PM  Saturday     True  Summer   \n",
       "2 2025-08-16 19:01:13  2025-08-16 07:01:13 PM  Saturday     True  Summer   \n",
       "3 2025-08-16 14:09:08  2025-08-16 02:09:08 PM  Saturday     True  Summer   \n",
       "4 2025-08-16 13:46:29  2025-08-16 01:46:29 PM  Saturday     True  Summer   \n",
       "\n",
       "   HourAMPM  TimeOfDay                       FullStreet        lat        lon  \\\n",
       "0  10:21 PM      Night   SWAN LAKE DR / AVON STREET EXT        NaN        NaN   \n",
       "1  09:50 PM      Night                   1100 5TH ST SW  38.017130 -78.497806   \n",
       "2  07:01 PM    Evening                  500 MERIDIAN ST  38.024364 -78.474871   \n",
       "3  02:09 PM  Afternoon                 100 W MAIN ST, 1  38.030718 -78.481656   \n",
       "4  01:46 PM  Afternoon                  1200 MOWBRAY PL  38.036444 -78.465157   \n",
       "\n",
       "       neighborhood  \n",
       "0               N/A  \n",
       "1   Johnson Village  \n",
       "2           Belmont  \n",
       "3     Downtown Mall  \n",
       "4  Martha Jefferson  "
      ]
     },
     "execution_count": 10,
     "metadata": {},
     "output_type": "execute_result"
    }
   ],
   "source": [
    "# Initialize the Google Maps client.\n",
    "gmaps = googlemaps.Client(key=GOOGLE_API_KEY)\n",
    "\n",
    "# Try to load a persistent neighborhood cache if available.\n",
    "try:\n",
    "    with open(\"neighborhood_cache.pkl\", \"rb\") as f:\n",
    "        neighborhood_cache = pickle.load(f)\n",
    "    print(\"Loaded neighborhood cache.\")\n",
    "except FileNotFoundError:\n",
    "    neighborhood_cache = {}\n",
    "    print(\"No neighborhood cache found; starting fresh.\")\n",
    "\n",
    "def get_neighborhood(lat, lon):\n",
    "    \"\"\"\n",
    "    Reverse geocodes a latitude and longitude to retrieve the neighborhood.\n",
    "    Caches results to speed up subsequent lookups.\n",
    "    \"\"\"\n",
    "    key = (lat, lon)\n",
    "    if key in neighborhood_cache:\n",
    "        return neighborhood_cache[key]\n",
    "    \n",
    "    try:\n",
    "        result = gmaps.reverse_geocode((lat, lon))\n",
    "        if result:\n",
    "            # Look for the 'neighborhood' component in the first result.\n",
    "            for component in result[0]['address_components']:\n",
    "                if 'neighborhood' in component['types']:\n",
    "                    neighborhood = component['long_name']\n",
    "                    neighborhood_cache[key] = neighborhood\n",
    "                    return neighborhood\n",
    "            # If no neighborhood is found, return \"N/A\"\n",
    "            neighborhood_cache[key] = \"N/A\"\n",
    "            return \"N/A\"\n",
    "    except Exception as e:\n",
    "        print(f\"Error getting neighborhood for {lat}, {lon}: {e}\")\n",
    "        return \"N/A\"\n",
    "    \n",
    "    # Pause to respect usage limits.\n",
    "    time.sleep(1)\n",
    "\n",
    "# Example usage: Apply to your DataFrame 'df' that already has 'lat' and 'lon' columns.\n",
    "df['neighborhood'] = df.apply(lambda row: get_neighborhood(row['lat'], row['lon']), axis=1)\n",
    "\n",
    "# Save the updated neighborhood cache.\n",
    "with open(\"neighborhood_cache.pkl\", \"wb\") as f:\n",
    "    pickle.dump(neighborhood_cache, f)\n",
    "\n",
    "df.head()\n"
   ]
  },
  {
   "cell_type": "markdown",
   "id": "063ff94f",
   "metadata": {
    "papermill": {
     "duration": 0.005608,
     "end_time": "2025-08-19T01:04:24.499907",
     "exception": false,
     "start_time": "2025-08-19T01:04:24.494299",
     "status": "completed"
    },
    "tags": []
   },
   "source": [
    "### Zip"
   ]
  },
  {
   "cell_type": "code",
   "execution_count": 11,
   "id": "4ba4040e",
   "metadata": {
    "execution": {
     "iopub.execute_input": "2025-08-19T01:04:24.512063Z",
     "iopub.status.busy": "2025-08-19T01:04:24.511797Z",
     "iopub.status.idle": "2025-08-19T01:06:13.167094Z",
     "shell.execute_reply": "2025-08-19T01:06:13.166396Z"
    },
    "papermill": {
     "duration": 108.662618,
     "end_time": "2025-08-19T01:06:13.168101",
     "exception": false,
     "start_time": "2025-08-19T01:04:24.505483",
     "status": "completed"
    },
    "tags": []
   },
   "outputs": [
    {
     "name": "stdout",
     "output_type": "stream",
     "text": [
      "Loaded zip cache.\n",
      "Error getting ZIP for nan, nan: Must be a coordinate pair or Point\n"
     ]
    },
    {
     "name": "stdout",
     "output_type": "stream",
     "text": [
      "Error getting ZIP for nan, nan: Must be a coordinate pair or Point\n"
     ]
    },
    {
     "name": "stdout",
     "output_type": "stream",
     "text": [
      "Error getting ZIP for nan, nan: Must be a coordinate pair or Point\n"
     ]
    },
    {
     "name": "stdout",
     "output_type": "stream",
     "text": [
      "Error getting ZIP for nan, nan: Must be a coordinate pair or Point\n"
     ]
    },
    {
     "name": "stdout",
     "output_type": "stream",
     "text": [
      "Error getting ZIP for nan, nan: Must be a coordinate pair or Point\n"
     ]
    },
    {
     "name": "stdout",
     "output_type": "stream",
     "text": [
      "Error getting ZIP for nan, nan: Must be a coordinate pair or Point\n"
     ]
    },
    {
     "name": "stdout",
     "output_type": "stream",
     "text": [
      "Error getting ZIP for nan, nan: Must be a coordinate pair or Point\n"
     ]
    },
    {
     "name": "stdout",
     "output_type": "stream",
     "text": [
      "Error getting ZIP for nan, nan: Must be a coordinate pair or Point\n"
     ]
    },
    {
     "name": "stdout",
     "output_type": "stream",
     "text": [
      "Error getting ZIP for nan, nan: Must be a coordinate pair or Point\n"
     ]
    },
    {
     "name": "stdout",
     "output_type": "stream",
     "text": [
      "Error getting ZIP for nan, nan: Must be a coordinate pair or Point\n"
     ]
    },
    {
     "name": "stdout",
     "output_type": "stream",
     "text": [
      "Error getting ZIP for nan, nan: Must be a coordinate pair or Point\n"
     ]
    },
    {
     "name": "stdout",
     "output_type": "stream",
     "text": [
      "Error getting ZIP for nan, nan: Must be a coordinate pair or Point\n"
     ]
    },
    {
     "name": "stdout",
     "output_type": "stream",
     "text": [
      "Error getting ZIP for nan, nan: Must be a coordinate pair or Point\n"
     ]
    },
    {
     "name": "stdout",
     "output_type": "stream",
     "text": [
      "Error getting ZIP for nan, nan: Must be a coordinate pair or Point\n"
     ]
    },
    {
     "name": "stdout",
     "output_type": "stream",
     "text": [
      "Error getting ZIP for nan, nan: Must be a coordinate pair or Point\n"
     ]
    },
    {
     "name": "stdout",
     "output_type": "stream",
     "text": [
      "Error getting ZIP for nan, nan: Must be a coordinate pair or Point\n"
     ]
    },
    {
     "name": "stdout",
     "output_type": "stream",
     "text": [
      "Error getting ZIP for nan, nan: Must be a coordinate pair or Point\n"
     ]
    },
    {
     "name": "stdout",
     "output_type": "stream",
     "text": [
      "Error getting ZIP for nan, nan: Must be a coordinate pair or Point\n"
     ]
    },
    {
     "name": "stdout",
     "output_type": "stream",
     "text": [
      "Error getting ZIP for nan, nan: Must be a coordinate pair or Point\n"
     ]
    },
    {
     "name": "stdout",
     "output_type": "stream",
     "text": [
      "Error getting ZIP for nan, nan: Must be a coordinate pair or Point\n"
     ]
    },
    {
     "name": "stdout",
     "output_type": "stream",
     "text": [
      "Error getting ZIP for nan, nan: Must be a coordinate pair or Point\n"
     ]
    },
    {
     "name": "stdout",
     "output_type": "stream",
     "text": [
      "Error getting ZIP for nan, nan: Must be a coordinate pair or Point\n"
     ]
    },
    {
     "name": "stdout",
     "output_type": "stream",
     "text": [
      "Error getting ZIP for nan, nan: Must be a coordinate pair or Point\n"
     ]
    },
    {
     "name": "stdout",
     "output_type": "stream",
     "text": [
      "Error getting ZIP for nan, nan: Must be a coordinate pair or Point\n"
     ]
    },
    {
     "name": "stdout",
     "output_type": "stream",
     "text": [
      "Error getting ZIP for nan, nan: Must be a coordinate pair or Point\n"
     ]
    },
    {
     "name": "stdout",
     "output_type": "stream",
     "text": [
      "Error getting ZIP for nan, nan: Must be a coordinate pair or Point\n"
     ]
    },
    {
     "name": "stdout",
     "output_type": "stream",
     "text": [
      "Error getting ZIP for nan, nan: Must be a coordinate pair or Point\n"
     ]
    },
    {
     "name": "stdout",
     "output_type": "stream",
     "text": [
      "Error getting ZIP for nan, nan: Must be a coordinate pair or Point\n"
     ]
    },
    {
     "name": "stdout",
     "output_type": "stream",
     "text": [
      "Error getting ZIP for nan, nan: Must be a coordinate pair or Point\n"
     ]
    },
    {
     "name": "stdout",
     "output_type": "stream",
     "text": [
      "Error getting ZIP for nan, nan: Must be a coordinate pair or Point\n"
     ]
    },
    {
     "name": "stdout",
     "output_type": "stream",
     "text": [
      "Error getting ZIP for nan, nan: Must be a coordinate pair or Point\n"
     ]
    },
    {
     "name": "stdout",
     "output_type": "stream",
     "text": [
      "Error getting ZIP for nan, nan: Must be a coordinate pair or Point\n"
     ]
    },
    {
     "name": "stdout",
     "output_type": "stream",
     "text": [
      "Error getting ZIP for nan, nan: Must be a coordinate pair or Point\n"
     ]
    },
    {
     "name": "stdout",
     "output_type": "stream",
     "text": [
      "Error getting ZIP for nan, nan: Must be a coordinate pair or Point\n"
     ]
    },
    {
     "name": "stdout",
     "output_type": "stream",
     "text": [
      "Error getting ZIP for nan, nan: Must be a coordinate pair or Point\n"
     ]
    },
    {
     "name": "stdout",
     "output_type": "stream",
     "text": [
      "Error getting ZIP for nan, nan: Must be a coordinate pair or Point\n"
     ]
    },
    {
     "name": "stdout",
     "output_type": "stream",
     "text": [
      "Error getting ZIP for nan, nan: Must be a coordinate pair or Point\n"
     ]
    },
    {
     "name": "stdout",
     "output_type": "stream",
     "text": [
      "Error getting ZIP for nan, nan: Must be a coordinate pair or Point\n"
     ]
    },
    {
     "name": "stdout",
     "output_type": "stream",
     "text": [
      "Error getting ZIP for nan, nan: Must be a coordinate pair or Point\n"
     ]
    },
    {
     "name": "stdout",
     "output_type": "stream",
     "text": [
      "Error getting ZIP for nan, nan: Must be a coordinate pair or Point\n"
     ]
    },
    {
     "name": "stdout",
     "output_type": "stream",
     "text": [
      "Error getting ZIP for nan, nan: Must be a coordinate pair or Point\n"
     ]
    },
    {
     "name": "stdout",
     "output_type": "stream",
     "text": [
      "Error getting ZIP for nan, nan: Must be a coordinate pair or Point\n"
     ]
    },
    {
     "name": "stdout",
     "output_type": "stream",
     "text": [
      "Error getting ZIP for nan, nan: Must be a coordinate pair or Point\n"
     ]
    },
    {
     "name": "stdout",
     "output_type": "stream",
     "text": [
      "Error getting ZIP for nan, nan: Must be a coordinate pair or Point\n"
     ]
    },
    {
     "name": "stdout",
     "output_type": "stream",
     "text": [
      "Error getting ZIP for nan, nan: Must be a coordinate pair or Point\n"
     ]
    },
    {
     "name": "stdout",
     "output_type": "stream",
     "text": [
      "Error getting ZIP for nan, nan: Must be a coordinate pair or Point\n"
     ]
    },
    {
     "name": "stdout",
     "output_type": "stream",
     "text": [
      "Error getting ZIP for nan, nan: Must be a coordinate pair or Point\n"
     ]
    },
    {
     "name": "stdout",
     "output_type": "stream",
     "text": [
      "Error getting ZIP for nan, nan: Must be a coordinate pair or Point\n"
     ]
    },
    {
     "name": "stdout",
     "output_type": "stream",
     "text": [
      "Error getting ZIP for nan, nan: Must be a coordinate pair or Point\n"
     ]
    },
    {
     "name": "stdout",
     "output_type": "stream",
     "text": [
      "Error getting ZIP for nan, nan: Must be a coordinate pair or Point\n"
     ]
    },
    {
     "name": "stdout",
     "output_type": "stream",
     "text": [
      "Error getting ZIP for nan, nan: Must be a coordinate pair or Point\n"
     ]
    },
    {
     "name": "stdout",
     "output_type": "stream",
     "text": [
      "Error getting ZIP for nan, nan: Must be a coordinate pair or Point\n"
     ]
    },
    {
     "name": "stdout",
     "output_type": "stream",
     "text": [
      "Error getting ZIP for nan, nan: Must be a coordinate pair or Point\n"
     ]
    },
    {
     "name": "stdout",
     "output_type": "stream",
     "text": [
      "Error getting ZIP for nan, nan: Must be a coordinate pair or Point\n"
     ]
    },
    {
     "name": "stdout",
     "output_type": "stream",
     "text": [
      "Error getting ZIP for nan, nan: Must be a coordinate pair or Point\n"
     ]
    },
    {
     "name": "stdout",
     "output_type": "stream",
     "text": [
      "Error getting ZIP for nan, nan: Must be a coordinate pair or Point\n"
     ]
    },
    {
     "name": "stdout",
     "output_type": "stream",
     "text": [
      "Error getting ZIP for nan, nan: Must be a coordinate pair or Point\n"
     ]
    },
    {
     "name": "stdout",
     "output_type": "stream",
     "text": [
      "Error getting ZIP for nan, nan: Must be a coordinate pair or Point\n"
     ]
    },
    {
     "name": "stdout",
     "output_type": "stream",
     "text": [
      "Error getting ZIP for nan, nan: Must be a coordinate pair or Point\n"
     ]
    },
    {
     "name": "stdout",
     "output_type": "stream",
     "text": [
      "Error getting ZIP for nan, nan: Must be a coordinate pair or Point\n"
     ]
    },
    {
     "name": "stdout",
     "output_type": "stream",
     "text": [
      "Error getting ZIP for nan, nan: Must be a coordinate pair or Point\n"
     ]
    },
    {
     "name": "stdout",
     "output_type": "stream",
     "text": [
      "Error getting ZIP for nan, nan: Must be a coordinate pair or Point\n"
     ]
    },
    {
     "name": "stdout",
     "output_type": "stream",
     "text": [
      "Error getting ZIP for nan, nan: Must be a coordinate pair or Point\n"
     ]
    },
    {
     "name": "stdout",
     "output_type": "stream",
     "text": [
      "Error getting ZIP for nan, nan: Must be a coordinate pair or Point\n"
     ]
    },
    {
     "name": "stdout",
     "output_type": "stream",
     "text": [
      "Error getting ZIP for nan, nan: Must be a coordinate pair or Point\n"
     ]
    },
    {
     "name": "stdout",
     "output_type": "stream",
     "text": [
      "Error getting ZIP for nan, nan: Must be a coordinate pair or Point\n"
     ]
    },
    {
     "name": "stdout",
     "output_type": "stream",
     "text": [
      "Error getting ZIP for nan, nan: Must be a coordinate pair or Point\n"
     ]
    },
    {
     "name": "stdout",
     "output_type": "stream",
     "text": [
      "Error getting ZIP for nan, nan: Must be a coordinate pair or Point\n"
     ]
    },
    {
     "name": "stdout",
     "output_type": "stream",
     "text": [
      "Error getting ZIP for nan, nan: Must be a coordinate pair or Point\n"
     ]
    },
    {
     "name": "stdout",
     "output_type": "stream",
     "text": [
      "Error getting ZIP for nan, nan: Must be a coordinate pair or Point\n"
     ]
    },
    {
     "name": "stdout",
     "output_type": "stream",
     "text": [
      "Error getting ZIP for nan, nan: Must be a coordinate pair or Point\n"
     ]
    },
    {
     "name": "stdout",
     "output_type": "stream",
     "text": [
      "Error getting ZIP for nan, nan: Must be a coordinate pair or Point\n"
     ]
    },
    {
     "name": "stdout",
     "output_type": "stream",
     "text": [
      "Error getting ZIP for nan, nan: Must be a coordinate pair or Point\n"
     ]
    },
    {
     "name": "stdout",
     "output_type": "stream",
     "text": [
      "Error getting ZIP for nan, nan: Must be a coordinate pair or Point\n"
     ]
    },
    {
     "name": "stdout",
     "output_type": "stream",
     "text": [
      "Error getting ZIP for nan, nan: Must be a coordinate pair or Point\n"
     ]
    },
    {
     "name": "stdout",
     "output_type": "stream",
     "text": [
      "Error getting ZIP for nan, nan: Must be a coordinate pair or Point\n"
     ]
    },
    {
     "name": "stdout",
     "output_type": "stream",
     "text": [
      "Error getting ZIP for nan, nan: Must be a coordinate pair or Point\n"
     ]
    },
    {
     "name": "stdout",
     "output_type": "stream",
     "text": [
      "Error getting ZIP for nan, nan: Must be a coordinate pair or Point\n"
     ]
    },
    {
     "name": "stdout",
     "output_type": "stream",
     "text": [
      "Error getting ZIP for nan, nan: Must be a coordinate pair or Point\n"
     ]
    },
    {
     "name": "stdout",
     "output_type": "stream",
     "text": [
      "Error getting ZIP for nan, nan: Must be a coordinate pair or Point\n"
     ]
    },
    {
     "name": "stdout",
     "output_type": "stream",
     "text": [
      "Error getting ZIP for nan, nan: Must be a coordinate pair or Point\n"
     ]
    },
    {
     "name": "stdout",
     "output_type": "stream",
     "text": [
      "Error getting ZIP for nan, nan: Must be a coordinate pair or Point\n"
     ]
    },
    {
     "name": "stdout",
     "output_type": "stream",
     "text": [
      "Error getting ZIP for nan, nan: Must be a coordinate pair or Point\n"
     ]
    },
    {
     "name": "stdout",
     "output_type": "stream",
     "text": [
      "Error getting ZIP for nan, nan: Must be a coordinate pair or Point\n"
     ]
    },
    {
     "name": "stdout",
     "output_type": "stream",
     "text": [
      "Error getting ZIP for nan, nan: Must be a coordinate pair or Point\n"
     ]
    },
    {
     "name": "stdout",
     "output_type": "stream",
     "text": [
      "Error getting ZIP for nan, nan: Must be a coordinate pair or Point\n"
     ]
    },
    {
     "name": "stdout",
     "output_type": "stream",
     "text": [
      "Error getting ZIP for nan, nan: Must be a coordinate pair or Point\n"
     ]
    },
    {
     "name": "stdout",
     "output_type": "stream",
     "text": [
      "Error getting ZIP for nan, nan: Must be a coordinate pair or Point\n"
     ]
    },
    {
     "name": "stdout",
     "output_type": "stream",
     "text": [
      "Error getting ZIP for nan, nan: Must be a coordinate pair or Point\n"
     ]
    },
    {
     "name": "stdout",
     "output_type": "stream",
     "text": [
      "Error getting ZIP for nan, nan: Must be a coordinate pair or Point\n"
     ]
    },
    {
     "name": "stdout",
     "output_type": "stream",
     "text": [
      "Error getting ZIP for nan, nan: Must be a coordinate pair or Point\n"
     ]
    },
    {
     "name": "stdout",
     "output_type": "stream",
     "text": [
      "Error getting ZIP for nan, nan: Must be a coordinate pair or Point\n"
     ]
    },
    {
     "name": "stdout",
     "output_type": "stream",
     "text": [
      "Error getting ZIP for nan, nan: Must be a coordinate pair or Point\n"
     ]
    },
    {
     "name": "stdout",
     "output_type": "stream",
     "text": [
      "Error getting ZIP for nan, nan: Must be a coordinate pair or Point\n"
     ]
    },
    {
     "name": "stdout",
     "output_type": "stream",
     "text": [
      "Error getting ZIP for nan, nan: Must be a coordinate pair or Point\n"
     ]
    },
    {
     "name": "stdout",
     "output_type": "stream",
     "text": [
      "Error getting ZIP for nan, nan: Must be a coordinate pair or Point\n"
     ]
    },
    {
     "name": "stdout",
     "output_type": "stream",
     "text": [
      "Error getting ZIP for nan, nan: Must be a coordinate pair or Point\n"
     ]
    },
    {
     "name": "stdout",
     "output_type": "stream",
     "text": [
      "Error getting ZIP for nan, nan: Must be a coordinate pair or Point\n"
     ]
    },
    {
     "name": "stdout",
     "output_type": "stream",
     "text": [
      "Error getting ZIP for nan, nan: Must be a coordinate pair or Point\n"
     ]
    },
    {
     "name": "stdout",
     "output_type": "stream",
     "text": [
      "Error getting ZIP for nan, nan: Must be a coordinate pair or Point\n"
     ]
    },
    {
     "name": "stdout",
     "output_type": "stream",
     "text": [
      "Error getting ZIP for nan, nan: Must be a coordinate pair or Point\n"
     ]
    },
    {
     "name": "stdout",
     "output_type": "stream",
     "text": [
      "Error getting ZIP for nan, nan: Must be a coordinate pair or Point\n"
     ]
    },
    {
     "name": "stdout",
     "output_type": "stream",
     "text": [
      "Error getting ZIP for nan, nan: Must be a coordinate pair or Point\n"
     ]
    },
    {
     "name": "stdout",
     "output_type": "stream",
     "text": [
      "Error getting ZIP for nan, nan: Must be a coordinate pair or Point\n"
     ]
    },
    {
     "name": "stdout",
     "output_type": "stream",
     "text": [
      "Error getting ZIP for nan, nan: Must be a coordinate pair or Point\n"
     ]
    },
    {
     "name": "stdout",
     "output_type": "stream",
     "text": [
      "Error getting ZIP for nan, nan: Must be a coordinate pair or Point\n"
     ]
    },
    {
     "name": "stdout",
     "output_type": "stream",
     "text": [
      "Error getting ZIP for nan, nan: Must be a coordinate pair or Point\n"
     ]
    },
    {
     "name": "stdout",
     "output_type": "stream",
     "text": [
      "Error getting ZIP for nan, nan: Must be a coordinate pair or Point\n"
     ]
    },
    {
     "data": {
      "text/html": [
       "<div>\n",
       "<style scoped>\n",
       "    .dataframe tbody tr th:only-of-type {\n",
       "        vertical-align: middle;\n",
       "    }\n",
       "\n",
       "    .dataframe tbody tr th {\n",
       "        vertical-align: top;\n",
       "    }\n",
       "\n",
       "    .dataframe thead th {\n",
       "        text-align: right;\n",
       "    }\n",
       "</style>\n",
       "<table border=\"1\" class=\"dataframe\">\n",
       "  <thead>\n",
       "    <tr style=\"text-align: right;\">\n",
       "      <th></th>\n",
       "      <th>RecordID</th>\n",
       "      <th>Offense</th>\n",
       "      <th>IncidentID</th>\n",
       "      <th>BlockNumber</th>\n",
       "      <th>StreetName</th>\n",
       "      <th>Agency</th>\n",
       "      <th>HourReported</th>\n",
       "      <th>ReportingOfficer</th>\n",
       "      <th>Date</th>\n",
       "      <th>DateString</th>\n",
       "      <th>DayOfWeek</th>\n",
       "      <th>Weekend</th>\n",
       "      <th>Season</th>\n",
       "      <th>HourAMPM</th>\n",
       "      <th>TimeOfDay</th>\n",
       "      <th>FullStreet</th>\n",
       "      <th>lat</th>\n",
       "      <th>lon</th>\n",
       "      <th>neighborhood</th>\n",
       "      <th>zip</th>\n",
       "    </tr>\n",
       "  </thead>\n",
       "  <tbody>\n",
       "    <tr>\n",
       "      <th>0</th>\n",
       "      <td>1</td>\n",
       "      <td>Driving Under the Influence</td>\n",
       "      <td>202500029125</td>\n",
       "      <td></td>\n",
       "      <td>SWAN LAKE DR / AVON STREET EXT</td>\n",
       "      <td>CPD</td>\n",
       "      <td>2221</td>\n",
       "      <td>Darby, Michael</td>\n",
       "      <td>2025-08-16 22:21:55</td>\n",
       "      <td>2025-08-16 10:21:55 PM</td>\n",
       "      <td>Saturday</td>\n",
       "      <td>True</td>\n",
       "      <td>Summer</td>\n",
       "      <td>10:21 PM</td>\n",
       "      <td>Night</td>\n",
       "      <td>SWAN LAKE DR / AVON STREET EXT</td>\n",
       "      <td>NaN</td>\n",
       "      <td>NaN</td>\n",
       "      <td>N/A</td>\n",
       "      <td>N/A</td>\n",
       "    </tr>\n",
       "    <tr>\n",
       "      <th>1</th>\n",
       "      <td>2</td>\n",
       "      <td>Larceny - Shoplifitng</td>\n",
       "      <td>202500029120</td>\n",
       "      <td>1100</td>\n",
       "      <td>5TH ST SW</td>\n",
       "      <td>CPD</td>\n",
       "      <td>2150</td>\n",
       "      <td>Rigsby, Lloyd</td>\n",
       "      <td>2025-08-16 21:50:59</td>\n",
       "      <td>2025-08-16 09:50:59 PM</td>\n",
       "      <td>Saturday</td>\n",
       "      <td>True</td>\n",
       "      <td>Summer</td>\n",
       "      <td>09:50 PM</td>\n",
       "      <td>Night</td>\n",
       "      <td>1100 5TH ST SW</td>\n",
       "      <td>38.017130</td>\n",
       "      <td>-78.497806</td>\n",
       "      <td>Johnson Village</td>\n",
       "      <td>22903</td>\n",
       "    </tr>\n",
       "    <tr>\n",
       "      <th>2</th>\n",
       "      <td>3</td>\n",
       "      <td>Death Investigation - DOA</td>\n",
       "      <td>202500029101</td>\n",
       "      <td>500</td>\n",
       "      <td>MERIDIAN ST</td>\n",
       "      <td>CPD</td>\n",
       "      <td>1901</td>\n",
       "      <td>Adams, Austin</td>\n",
       "      <td>2025-08-16 19:01:13</td>\n",
       "      <td>2025-08-16 07:01:13 PM</td>\n",
       "      <td>Saturday</td>\n",
       "      <td>True</td>\n",
       "      <td>Summer</td>\n",
       "      <td>07:01 PM</td>\n",
       "      <td>Evening</td>\n",
       "      <td>500 MERIDIAN ST</td>\n",
       "      <td>38.024364</td>\n",
       "      <td>-78.474871</td>\n",
       "      <td>Belmont</td>\n",
       "      <td>22903</td>\n",
       "    </tr>\n",
       "    <tr>\n",
       "      <th>3</th>\n",
       "      <td>4</td>\n",
       "      <td>Lost/FoundProperty</td>\n",
       "      <td>202500029068</td>\n",
       "      <td>100</td>\n",
       "      <td>W MAIN ST, 1</td>\n",
       "      <td>CPD</td>\n",
       "      <td>1409</td>\n",
       "      <td>Kinney, Dylan</td>\n",
       "      <td>2025-08-16 14:09:08</td>\n",
       "      <td>2025-08-16 02:09:08 PM</td>\n",
       "      <td>Saturday</td>\n",
       "      <td>True</td>\n",
       "      <td>Summer</td>\n",
       "      <td>02:09 PM</td>\n",
       "      <td>Afternoon</td>\n",
       "      <td>100 W MAIN ST, 1</td>\n",
       "      <td>38.030718</td>\n",
       "      <td>-78.481656</td>\n",
       "      <td>Downtown Mall</td>\n",
       "      <td>22902</td>\n",
       "    </tr>\n",
       "    <tr>\n",
       "      <th>4</th>\n",
       "      <td>5</td>\n",
       "      <td>Lost/FoundProperty</td>\n",
       "      <td>202500029073</td>\n",
       "      <td>1200</td>\n",
       "      <td>MOWBRAY PL</td>\n",
       "      <td>CPD</td>\n",
       "      <td>1346</td>\n",
       "      <td>Khaleefa, Hamzeh</td>\n",
       "      <td>2025-08-16 13:46:29</td>\n",
       "      <td>2025-08-16 01:46:29 PM</td>\n",
       "      <td>Saturday</td>\n",
       "      <td>True</td>\n",
       "      <td>Summer</td>\n",
       "      <td>01:46 PM</td>\n",
       "      <td>Afternoon</td>\n",
       "      <td>1200 MOWBRAY PL</td>\n",
       "      <td>38.036444</td>\n",
       "      <td>-78.465157</td>\n",
       "      <td>Martha Jefferson</td>\n",
       "      <td>22902</td>\n",
       "    </tr>\n",
       "  </tbody>\n",
       "</table>\n",
       "</div>"
      ],
      "text/plain": [
       "   RecordID                      Offense    IncidentID BlockNumber  \\\n",
       "0         1  Driving Under the Influence  202500029125               \n",
       "1         2        Larceny - Shoplifitng  202500029120        1100   \n",
       "2         3    Death Investigation - DOA  202500029101         500   \n",
       "3         4           Lost/FoundProperty  202500029068         100   \n",
       "4         5           Lost/FoundProperty  202500029073        1200   \n",
       "\n",
       "                       StreetName Agency HourReported  ReportingOfficer  \\\n",
       "0  SWAN LAKE DR / AVON STREET EXT    CPD         2221    Darby, Michael   \n",
       "1                       5TH ST SW    CPD         2150     Rigsby, Lloyd   \n",
       "2                     MERIDIAN ST    CPD         1901     Adams, Austin   \n",
       "3                    W MAIN ST, 1    CPD         1409     Kinney, Dylan   \n",
       "4                      MOWBRAY PL    CPD         1346  Khaleefa, Hamzeh   \n",
       "\n",
       "                 Date              DateString DayOfWeek  Weekend  Season  \\\n",
       "0 2025-08-16 22:21:55  2025-08-16 10:21:55 PM  Saturday     True  Summer   \n",
       "1 2025-08-16 21:50:59  2025-08-16 09:50:59 PM  Saturday     True  Summer   \n",
       "2 2025-08-16 19:01:13  2025-08-16 07:01:13 PM  Saturday     True  Summer   \n",
       "3 2025-08-16 14:09:08  2025-08-16 02:09:08 PM  Saturday     True  Summer   \n",
       "4 2025-08-16 13:46:29  2025-08-16 01:46:29 PM  Saturday     True  Summer   \n",
       "\n",
       "   HourAMPM  TimeOfDay                       FullStreet        lat        lon  \\\n",
       "0  10:21 PM      Night   SWAN LAKE DR / AVON STREET EXT        NaN        NaN   \n",
       "1  09:50 PM      Night                   1100 5TH ST SW  38.017130 -78.497806   \n",
       "2  07:01 PM    Evening                  500 MERIDIAN ST  38.024364 -78.474871   \n",
       "3  02:09 PM  Afternoon                 100 W MAIN ST, 1  38.030718 -78.481656   \n",
       "4  01:46 PM  Afternoon                  1200 MOWBRAY PL  38.036444 -78.465157   \n",
       "\n",
       "       neighborhood    zip  \n",
       "0               N/A    N/A  \n",
       "1   Johnson Village  22903  \n",
       "2           Belmont  22903  \n",
       "3     Downtown Mall  22902  \n",
       "4  Martha Jefferson  22902  "
      ]
     },
     "execution_count": 11,
     "metadata": {},
     "output_type": "execute_result"
    }
   ],
   "source": [
    "# Initialize the geocoder.\n",
    "geolocator = Nominatim(user_agent=\"zip_lookup\")\n",
    "\n",
    "# Try to load a persistent ZIP cache if available.\n",
    "try:\n",
    "    with open(\"zip_cache.pkl\", \"rb\") as f:\n",
    "        zip_cache = pickle.load(f)\n",
    "    print(\"Loaded zip cache.\")\n",
    "except FileNotFoundError:\n",
    "    zip_cache = {}\n",
    "    print(\"No zip cache found; starting fresh.\")\n",
    "\n",
    "def get_zip(lat, lon):\n",
    "    \"\"\"\n",
    "    Reverse geocodes a latitude and longitude to retrieve the ZIP code.\n",
    "    Caches results to speed up subsequent lookups.\n",
    "    \"\"\"\n",
    "    key = (lat, lon)\n",
    "    if key in zip_cache:\n",
    "        return zip_cache[key]\n",
    "    \n",
    "    try:\n",
    "        location = geolocator.reverse((lat, lon), exactly_one=True, timeout=10)\n",
    "        address = location.raw.get('address', {})\n",
    "        postal_code = address.get('postcode', \"N/A\")\n",
    "    except Exception as e:\n",
    "        print(f\"Error getting ZIP for {lat}, {lon}: {e}\")\n",
    "        postal_code = \"N/A\"\n",
    "    \n",
    "    zip_cache[key] = postal_code\n",
    "    # Pause to respect the usage policy.\n",
    "    time.sleep(1)\n",
    "    return postal_code\n",
    "\n",
    "# Apply the function to each row in the DataFrame.\n",
    "df['zip'] = df.apply(lambda row: get_zip(row['lat'], row['lon']), axis=1)\n",
    "\n",
    "# Save the updated ZIP cache.\n",
    "with open(\"zip_cache.pkl\", \"wb\") as f:\n",
    "    pickle.dump(zip_cache, f)\n",
    "\n",
    "df.head()\n"
   ]
  },
  {
   "cell_type": "code",
   "execution_count": 12,
   "id": "6634f59a",
   "metadata": {
    "execution": {
     "iopub.execute_input": "2025-08-19T01:06:13.189915Z",
     "iopub.status.busy": "2025-08-19T01:06:13.189681Z",
     "iopub.status.idle": "2025-08-19T01:06:13.218304Z",
     "shell.execute_reply": "2025-08-19T01:06:13.217746Z"
    },
    "papermill": {
     "duration": 0.040516,
     "end_time": "2025-08-19T01:06:13.219365",
     "exception": false,
     "start_time": "2025-08-19T01:06:13.178849",
     "status": "completed"
    },
    "tags": []
   },
   "outputs": [
    {
     "name": "stdout",
     "output_type": "stream",
     "text": [
      "                  MissingCount  MissingPercentage\n",
      "RecordID                     0               0.00\n",
      "Offense                      0               0.00\n",
      "IncidentID                   0               0.00\n",
      "BlockNumber                  0               0.00\n",
      "StreetName                   0               0.00\n",
      "Agency                       0               0.00\n",
      "HourReported                 0               0.00\n",
      "ReportingOfficer            15               0.06\n",
      "Date                         0               0.00\n",
      "DateString                   0               0.00\n",
      "DayOfWeek                    0               0.00\n",
      "Weekend                      0               0.00\n",
      "Season                       0               0.00\n",
      "HourAMPM                     0               0.00\n",
      "TimeOfDay                    0               0.00\n",
      "FullStreet                   0               0.00\n",
      "lat                        108               0.42\n",
      "lon                        108               0.42\n",
      "neighborhood                 0               0.00\n",
      "zip                          0               0.00\n"
     ]
    }
   ],
   "source": [
    "missing_info = missing_percentage(df)\n",
    "print(missing_info)\n"
   ]
  },
  {
   "cell_type": "code",
   "execution_count": 13,
   "id": "42ea3f02",
   "metadata": {
    "execution": {
     "iopub.execute_input": "2025-08-19T01:06:13.240820Z",
     "iopub.status.busy": "2025-08-19T01:06:13.240635Z",
     "iopub.status.idle": "2025-08-19T01:06:13.268900Z",
     "shell.execute_reply": "2025-08-19T01:06:13.268328Z"
    },
    "papermill": {
     "duration": 0.039921,
     "end_time": "2025-08-19T01:06:13.269881",
     "exception": false,
     "start_time": "2025-08-19T01:06:13.229960",
     "status": "completed"
    },
    "tags": []
   },
   "outputs": [
    {
     "name": "stdout",
     "output_type": "stream",
     "text": [
      "<class 'pandas.core.frame.DataFrame'>\n",
      "RangeIndex: 25659 entries, 0 to 25658\n",
      "Data columns (total 20 columns):\n",
      " #   Column            Non-Null Count  Dtype         \n",
      "---  ------            --------------  -----         \n",
      " 0   RecordID          25659 non-null  int64         \n",
      " 1   Offense           25659 non-null  object        \n",
      " 2   IncidentID        25659 non-null  object        \n",
      " 3   BlockNumber       25659 non-null  object        \n",
      " 4   StreetName        25659 non-null  object        \n",
      " 5   Agency            25659 non-null  object        \n",
      " 6   HourReported      25659 non-null  object        \n",
      " 7   ReportingOfficer  25644 non-null  object        \n",
      " 8   Date              25659 non-null  datetime64[ns]\n",
      " 9   DateString        25659 non-null  object        \n",
      " 10  DayOfWeek         25659 non-null  object        \n",
      " 11  Weekend           25659 non-null  bool          \n",
      " 12  Season            25659 non-null  object        \n",
      " 13  HourAMPM          25659 non-null  object        \n",
      " 14  TimeOfDay         25659 non-null  object        \n",
      " 15  FullStreet        25659 non-null  object        \n",
      " 16  lat               25551 non-null  float64       \n",
      " 17  lon               25551 non-null  float64       \n",
      " 18  neighborhood      25659 non-null  object        \n",
      " 19  zip               25659 non-null  object        \n",
      "dtypes: bool(1), datetime64[ns](1), float64(2), int64(1), object(15)\n",
      "memory usage: 3.7+ MB\n"
     ]
    }
   ],
   "source": [
    "df.info()"
   ]
  },
  {
   "cell_type": "code",
   "execution_count": 14,
   "id": "2ca38127",
   "metadata": {
    "execution": {
     "iopub.execute_input": "2025-08-19T01:06:13.291764Z",
     "iopub.status.busy": "2025-08-19T01:06:13.291575Z",
     "iopub.status.idle": "2025-08-19T01:06:13.336565Z",
     "shell.execute_reply": "2025-08-19T01:06:13.335673Z"
    },
    "papermill": {
     "duration": 0.057073,
     "end_time": "2025-08-19T01:06:13.337662",
     "exception": false,
     "start_time": "2025-08-19T01:06:13.280589",
     "status": "completed"
    },
    "tags": []
   },
   "outputs": [
    {
     "data": {
      "text/html": [
       "<div>\n",
       "<style scoped>\n",
       "    .dataframe tbody tr th:only-of-type {\n",
       "        vertical-align: middle;\n",
       "    }\n",
       "\n",
       "    .dataframe tbody tr th {\n",
       "        vertical-align: top;\n",
       "    }\n",
       "\n",
       "    .dataframe thead th {\n",
       "        text-align: right;\n",
       "    }\n",
       "</style>\n",
       "<table border=\"1\" class=\"dataframe\">\n",
       "  <thead>\n",
       "    <tr style=\"text-align: right;\">\n",
       "      <th></th>\n",
       "      <th>RecordID</th>\n",
       "      <th>Offense</th>\n",
       "      <th>IncidentID</th>\n",
       "      <th>Agency</th>\n",
       "      <th>ReportingOfficer</th>\n",
       "      <th>Date</th>\n",
       "      <th>DayOfWeek</th>\n",
       "      <th>Weekend</th>\n",
       "      <th>Season</th>\n",
       "      <th>TimeOfDay</th>\n",
       "      <th>FullStreet</th>\n",
       "      <th>lat</th>\n",
       "      <th>lon</th>\n",
       "      <th>neighborhood</th>\n",
       "      <th>zip</th>\n",
       "    </tr>\n",
       "  </thead>\n",
       "  <tbody>\n",
       "    <tr>\n",
       "      <th>0</th>\n",
       "      <td>1</td>\n",
       "      <td>Driving Under the Influence</td>\n",
       "      <td>202500029125</td>\n",
       "      <td>CPD</td>\n",
       "      <td>Darby, Michael</td>\n",
       "      <td>2025-08-16 22:21:55</td>\n",
       "      <td>Saturday</td>\n",
       "      <td>True</td>\n",
       "      <td>Summer</td>\n",
       "      <td>Night</td>\n",
       "      <td>SWAN LAKE DR / AVON STREET EXT</td>\n",
       "      <td>N/A</td>\n",
       "      <td>N/A</td>\n",
       "      <td>N/A</td>\n",
       "      <td>N/A</td>\n",
       "    </tr>\n",
       "    <tr>\n",
       "      <th>1</th>\n",
       "      <td>2</td>\n",
       "      <td>Larceny - Shoplifitng</td>\n",
       "      <td>202500029120</td>\n",
       "      <td>CPD</td>\n",
       "      <td>Rigsby, Lloyd</td>\n",
       "      <td>2025-08-16 21:50:59</td>\n",
       "      <td>Saturday</td>\n",
       "      <td>True</td>\n",
       "      <td>Summer</td>\n",
       "      <td>Night</td>\n",
       "      <td>1100 5TH ST SW</td>\n",
       "      <td>38.01713</td>\n",
       "      <td>-78.497806</td>\n",
       "      <td>Johnson Village</td>\n",
       "      <td>22903</td>\n",
       "    </tr>\n",
       "    <tr>\n",
       "      <th>2</th>\n",
       "      <td>3</td>\n",
       "      <td>Death Investigation - DOA</td>\n",
       "      <td>202500029101</td>\n",
       "      <td>CPD</td>\n",
       "      <td>Adams, Austin</td>\n",
       "      <td>2025-08-16 19:01:13</td>\n",
       "      <td>Saturday</td>\n",
       "      <td>True</td>\n",
       "      <td>Summer</td>\n",
       "      <td>Evening</td>\n",
       "      <td>500 MERIDIAN ST</td>\n",
       "      <td>38.024364</td>\n",
       "      <td>-78.474871</td>\n",
       "      <td>Belmont</td>\n",
       "      <td>22903</td>\n",
       "    </tr>\n",
       "    <tr>\n",
       "      <th>3</th>\n",
       "      <td>4</td>\n",
       "      <td>Lost/FoundProperty</td>\n",
       "      <td>202500029068</td>\n",
       "      <td>CPD</td>\n",
       "      <td>Kinney, Dylan</td>\n",
       "      <td>2025-08-16 14:09:08</td>\n",
       "      <td>Saturday</td>\n",
       "      <td>True</td>\n",
       "      <td>Summer</td>\n",
       "      <td>Afternoon</td>\n",
       "      <td>100 W MAIN ST, 1</td>\n",
       "      <td>38.030718</td>\n",
       "      <td>-78.481656</td>\n",
       "      <td>Downtown Mall</td>\n",
       "      <td>22902</td>\n",
       "    </tr>\n",
       "    <tr>\n",
       "      <th>4</th>\n",
       "      <td>5</td>\n",
       "      <td>Lost/FoundProperty</td>\n",
       "      <td>202500029073</td>\n",
       "      <td>CPD</td>\n",
       "      <td>Khaleefa, Hamzeh</td>\n",
       "      <td>2025-08-16 13:46:29</td>\n",
       "      <td>Saturday</td>\n",
       "      <td>True</td>\n",
       "      <td>Summer</td>\n",
       "      <td>Afternoon</td>\n",
       "      <td>1200 MOWBRAY PL</td>\n",
       "      <td>38.036444</td>\n",
       "      <td>-78.465157</td>\n",
       "      <td>Martha Jefferson</td>\n",
       "      <td>22902</td>\n",
       "    </tr>\n",
       "  </tbody>\n",
       "</table>\n",
       "</div>"
      ],
      "text/plain": [
       "   RecordID                      Offense    IncidentID Agency  \\\n",
       "0         1  Driving Under the Influence  202500029125    CPD   \n",
       "1         2        Larceny - Shoplifitng  202500029120    CPD   \n",
       "2         3    Death Investigation - DOA  202500029101    CPD   \n",
       "3         4           Lost/FoundProperty  202500029068    CPD   \n",
       "4         5           Lost/FoundProperty  202500029073    CPD   \n",
       "\n",
       "   ReportingOfficer                Date DayOfWeek  Weekend  Season  TimeOfDay  \\\n",
       "0    Darby, Michael 2025-08-16 22:21:55  Saturday     True  Summer      Night   \n",
       "1     Rigsby, Lloyd 2025-08-16 21:50:59  Saturday     True  Summer      Night   \n",
       "2     Adams, Austin 2025-08-16 19:01:13  Saturday     True  Summer    Evening   \n",
       "3     Kinney, Dylan 2025-08-16 14:09:08  Saturday     True  Summer  Afternoon   \n",
       "4  Khaleefa, Hamzeh 2025-08-16 13:46:29  Saturday     True  Summer  Afternoon   \n",
       "\n",
       "                        FullStreet        lat        lon      neighborhood  \\\n",
       "0   SWAN LAKE DR / AVON STREET EXT        N/A        N/A               N/A   \n",
       "1                   1100 5TH ST SW   38.01713 -78.497806   Johnson Village   \n",
       "2                  500 MERIDIAN ST  38.024364 -78.474871           Belmont   \n",
       "3                 100 W MAIN ST, 1  38.030718 -78.481656     Downtown Mall   \n",
       "4                  1200 MOWBRAY PL  38.036444 -78.465157  Martha Jefferson   \n",
       "\n",
       "     zip  \n",
       "0    N/A  \n",
       "1  22903  \n",
       "2  22903  \n",
       "3  22902  \n",
       "4  22902  "
      ]
     },
     "execution_count": 14,
     "metadata": {},
     "output_type": "execute_result"
    }
   ],
   "source": [
    "# Now drop the original BlockNumber and StreetName columns\n",
    "df.drop(columns=['BlockNumber', 'StreetName','HourAMPM','HourReported','DateString'], inplace=True)\n",
    "df[\"zip\"] = df[\"zip\"].astype(str)\n",
    "\n",
    "# Fill all missing values in the DataFrame with \"N/A\"\n",
    "df.replace({None: \"N/A\", np.nan: \"N/A\", \"\": \"N/A\"}, inplace=True)\n",
    "df.head()"
   ]
  },
  {
   "cell_type": "code",
   "execution_count": 15,
   "id": "3e6060f0",
   "metadata": {
    "execution": {
     "iopub.execute_input": "2025-08-19T01:06:13.359884Z",
     "iopub.status.busy": "2025-08-19T01:06:13.359673Z",
     "iopub.status.idle": "2025-08-19T01:06:13.377901Z",
     "shell.execute_reply": "2025-08-19T01:06:13.377227Z"
    },
    "papermill": {
     "duration": 0.030209,
     "end_time": "2025-08-19T01:06:13.378848",
     "exception": false,
     "start_time": "2025-08-19T01:06:13.348639",
     "status": "completed"
    },
    "tags": []
   },
   "outputs": [
    {
     "name": "stdout",
     "output_type": "stream",
     "text": [
      "                  MissingCount  MissingPercentage\n",
      "RecordID                     0                0.0\n",
      "Offense                      0                0.0\n",
      "IncidentID                   0                0.0\n",
      "Agency                       0                0.0\n",
      "ReportingOfficer             0                0.0\n",
      "Date                         0                0.0\n",
      "DayOfWeek                    0                0.0\n",
      "Weekend                      0                0.0\n",
      "Season                       0                0.0\n",
      "TimeOfDay                    0                0.0\n",
      "FullStreet                   0                0.0\n",
      "lat                          0                0.0\n",
      "lon                          0                0.0\n",
      "neighborhood                 0                0.0\n",
      "zip                          0                0.0\n"
     ]
    }
   ],
   "source": [
    "missing_info = missing_percentage(df)\n",
    "print(missing_info)"
   ]
  },
  {
   "cell_type": "code",
   "execution_count": 16,
   "id": "1020908c",
   "metadata": {
    "execution": {
     "iopub.execute_input": "2025-08-19T01:06:13.401028Z",
     "iopub.status.busy": "2025-08-19T01:06:13.400814Z",
     "iopub.status.idle": "2025-08-19T01:06:13.405014Z",
     "shell.execute_reply": "2025-08-19T01:06:13.404491Z"
    },
    "papermill": {
     "duration": 0.01616,
     "end_time": "2025-08-19T01:06:13.405941",
     "exception": false,
     "start_time": "2025-08-19T01:06:13.389781",
     "status": "completed"
    },
    "tags": []
   },
   "outputs": [
    {
     "data": {
      "text/plain": [
       "Index(['RecordID', 'Offense', 'IncidentID', 'Agency', 'ReportingOfficer',\n",
       "       'Date', 'DayOfWeek', 'Weekend', 'Season', 'TimeOfDay', 'FullStreet',\n",
       "       'lat', 'lon', 'neighborhood', 'zip'],\n",
       "      dtype='object')"
      ]
     },
     "execution_count": 16,
     "metadata": {},
     "output_type": "execute_result"
    }
   ],
   "source": [
    "df.columns"
   ]
  },
  {
   "cell_type": "code",
   "execution_count": 17,
   "id": "cf49d5b2",
   "metadata": {
    "execution": {
     "iopub.execute_input": "2025-08-19T01:06:13.428163Z",
     "iopub.status.busy": "2025-08-19T01:06:13.427899Z",
     "iopub.status.idle": "2025-08-19T01:06:13.448667Z",
     "shell.execute_reply": "2025-08-19T01:06:13.448016Z"
    },
    "papermill": {
     "duration": 0.032829,
     "end_time": "2025-08-19T01:06:13.449608",
     "exception": false,
     "start_time": "2025-08-19T01:06:13.416779",
     "status": "completed"
    },
    "tags": []
   },
   "outputs": [
    {
     "name": "stdout",
     "output_type": "stream",
     "text": [
      "<class 'pandas.core.frame.DataFrame'>\n",
      "RangeIndex: 25659 entries, 0 to 25658\n",
      "Data columns (total 15 columns):\n",
      " #   Column            Non-Null Count  Dtype         \n",
      "---  ------            --------------  -----         \n",
      " 0   RecordID          25659 non-null  int64         \n",
      " 1   Offense           25659 non-null  object        \n",
      " 2   IncidentID        25659 non-null  object        \n",
      " 3   Agency            25659 non-null  object        \n",
      " 4   ReportingOfficer  25659 non-null  object        \n",
      " 5   Date              25659 non-null  datetime64[ns]\n",
      " 6   DayOfWeek         25659 non-null  object        \n",
      " 7   Weekend           25659 non-null  bool          \n",
      " 8   Season            25659 non-null  object        \n",
      " 9   TimeOfDay         25659 non-null  object        \n",
      " 10  FullStreet        25659 non-null  object        \n",
      " 11  lat               25659 non-null  object        \n",
      " 12  lon               25659 non-null  object        \n",
      " 13  neighborhood      25659 non-null  object        \n",
      " 14  zip               25659 non-null  object        \n",
      "dtypes: bool(1), datetime64[ns](1), int64(1), object(12)\n",
      "memory usage: 2.8+ MB\n"
     ]
    }
   ],
   "source": [
    "df.info()"
   ]
  },
  {
   "cell_type": "markdown",
   "id": "b37c40db",
   "metadata": {
    "papermill": {
     "duration": 0.010717,
     "end_time": "2025-08-19T01:06:13.471240",
     "exception": false,
     "start_time": "2025-08-19T01:06:13.460523",
     "status": "completed"
    },
    "tags": []
   },
   "source": [
    "### Export Clean Data"
   ]
  },
  {
   "cell_type": "code",
   "execution_count": 18,
   "id": "af677a25",
   "metadata": {
    "execution": {
     "iopub.execute_input": "2025-08-19T01:06:13.493535Z",
     "iopub.status.busy": "2025-08-19T01:06:13.493276Z",
     "iopub.status.idle": "2025-08-19T01:06:22.687663Z",
     "shell.execute_reply": "2025-08-19T01:06:22.687030Z"
    },
    "papermill": {
     "duration": 9.206734,
     "end_time": "2025-08-19T01:06:22.688654",
     "exception": false,
     "start_time": "2025-08-19T01:06:13.481920",
     "status": "completed"
    },
    "tags": []
   },
   "outputs": [
    {
     "name": "stdout",
     "output_type": "stream",
     "text": [
      "Project Root: /home/runner/work/crime-data/crime-data\n"
     ]
    },
    {
     "name": "stdout",
     "output_type": "stream",
     "text": [
      "Data saved to: /home/runner/work/crime-data/crime-data/data/charlottesville_crime_incidents.csv\n"
     ]
    },
    {
     "name": "stdout",
     "output_type": "stream",
     "text": [
      "Excel saved to: /home/runner/work/crime-data/crime-data/data/charlottesville_crime_incidents.xlsx\n"
     ]
    }
   ],
   "source": [
    "# Determine the project root (assuming papermill is run from the repository root)\n",
    "project_root = os.getcwd()\n",
    "print(\"Project Root:\", project_root)\n",
    "\n",
    "# Set the data directory within the project root\n",
    "data_dir = os.path.join(project_root, \"data\")\n",
    "\n",
    "# Ensure the \"data\" directory exists (create it if it doesn't)\n",
    "if not os.path.exists(data_dir):\n",
    "    os.makedirs(data_dir)\n",
    "\n",
    "# Export the DataFrame to CSV in the \"data\" folder located in the project root\n",
    "csv_path = os.path.join(data_dir, \"charlottesville_crime_incidents.csv\")\n",
    "df.to_csv(csv_path, index=False)\n",
    "print(\"Data saved to:\", csv_path)\n",
    "\n",
    "# Construct the path to your Excel file\n",
    "excel_path = os.path.join(data_dir, \"charlottesville_crime_incidents.xlsx\")\n",
    "\n",
    "# Export the DataFrame to Excel\n",
    "df.to_excel(excel_path, index=False)\n",
    "print(\"Excel saved to:\", excel_path)\n"
   ]
  }
 ],
 "metadata": {
  "kernelspec": {
   "display_name": "Python 3",
   "language": "python",
   "name": "python3"
  },
  "language_info": {
   "codemirror_mode": {
    "name": "ipython",
    "version": 3
   },
   "file_extension": ".py",
   "mimetype": "text/x-python",
   "name": "python",
   "nbconvert_exporter": "python",
   "pygments_lexer": "ipython3",
   "version": "3.9.23"
  },
  "papermill": {
   "default_parameters": {},
   "duration": 194.453003,
   "end_time": "2025-08-19T01:06:23.115900",
   "environment_variables": {},
   "exception": null,
   "input_path": "notebook/Crime Data.ipynb",
   "output_path": "notebook/Crime Data_output.ipynb",
   "parameters": {},
   "start_time": "2025-08-19T01:03:08.662897",
   "version": "2.6.0"
  }
 },
 "nbformat": 4,
 "nbformat_minor": 5
}