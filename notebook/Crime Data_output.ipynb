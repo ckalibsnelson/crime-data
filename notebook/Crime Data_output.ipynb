{
 "cells": [
  {
   "cell_type": "markdown",
   "id": "b76689c9",
   "metadata": {
    "papermill": {
     "duration": 0.006322,
     "end_time": "2025-05-12T01:04:59.984531",
     "exception": false,
     "start_time": "2025-05-12T01:04:59.978209",
     "status": "completed"
    },
    "tags": []
   },
   "source": [
    "# Charlottesville Open Data Porttal: Crime Data"
   ]
  },
  {
   "cell_type": "markdown",
   "id": "9d07dabc",
   "metadata": {
    "papermill": {
     "duration": 0.005065,
     "end_time": "2025-05-12T01:04:59.995059",
     "exception": false,
     "start_time": "2025-05-12T01:04:59.989994",
     "status": "completed"
    },
    "tags": []
   },
   "source": [
    "## Import Relevant Librarires & Set WD"
   ]
  },
  {
   "cell_type": "code",
   "execution_count": 1,
   "id": "12b8c2db",
   "metadata": {
    "execution": {
     "iopub.execute_input": "2025-05-12T01:05:00.006838Z",
     "iopub.status.busy": "2025-05-12T01:05:00.006217Z",
     "iopub.status.idle": "2025-05-12T01:05:00.740680Z",
     "shell.execute_reply": "2025-05-12T01:05:00.739950Z"
    },
    "papermill": {
     "duration": 0.741844,
     "end_time": "2025-05-12T01:05:00.742007",
     "exception": false,
     "start_time": "2025-05-12T01:05:00.000163",
     "status": "completed"
    },
    "tags": []
   },
   "outputs": [],
   "source": [
    "import requests\n",
    "import pandas as pd\n",
    "import numpy as np\n",
    "import pickle\n",
    "import googlemaps\n",
    "import plotly.express as px\n",
    "from geopy.geocoders import Nominatim\n",
    "import time\n",
    "from dotenv import load_dotenv\n",
    "import os\n",
    "\n",
    "env_path = os.path.join(\"..\", \".env\")\n",
    "#print(\"Looking for .env file at:\", os.path.abspath(env_path))\n",
    "load_dotenv(dotenv_path=env_path)\n",
    "\n",
    "# Retrieve the variables\n",
    "GOOGLE_API_KEY = os.getenv(\"GOOGLE_API_KEY\")\n",
    "WORKING_DIR = os.getenv(\"WORKING_DIR\")\n",
    "\n",
    "if GOOGLE_API_KEY is None or WORKING_DIR is None:\n",
    "    raise RuntimeError(\"No configuration found. Please ensure that your .env file exists with the required variables, or create a local config.py file.\")\n",
    "\n",
    "#print(\"Google API Key:\", GOOGLE_API_KEY)\n",
    "#print(\"Working Directory:\", WORKING_DIR)"
   ]
  },
  {
   "cell_type": "markdown",
   "id": "7a603300",
   "metadata": {
    "papermill": {
     "duration": 0.00506,
     "end_time": "2025-05-12T01:05:00.752516",
     "exception": false,
     "start_time": "2025-05-12T01:05:00.747456",
     "status": "completed"
    },
    "tags": []
   },
   "source": [
    "## Import Data\n",
    "\n",
    "URL: https://opendata.charlottesville.org/datasets/charlottesville::crime-data/about"
   ]
  },
  {
   "cell_type": "code",
   "execution_count": 2,
   "id": "adbd216b",
   "metadata": {
    "execution": {
     "iopub.execute_input": "2025-05-12T01:05:00.764269Z",
     "iopub.status.busy": "2025-05-12T01:05:00.763923Z",
     "iopub.status.idle": "2025-05-12T01:06:00.891612Z",
     "shell.execute_reply": "2025-05-12T01:06:00.890852Z"
    },
    "papermill": {
     "duration": 60.164253,
     "end_time": "2025-05-12T01:06:00.922444",
     "exception": false,
     "start_time": "2025-05-12T01:05:00.758191",
     "status": "completed"
    },
    "tags": []
   },
   "outputs": [
    {
     "name": "stdout",
     "output_type": "stream",
     "text": [
      "Total records imported: 25384\n"
     ]
    }
   ],
   "source": [
    "# Define the endpoint and initial parameters.\n",
    "url = \"https://gisweb.charlottesville.org/arcgis/rest/services/OpenData_2/MapServer/6/query\"\n",
    "params = {\n",
    "    \"where\": \"1=1\",\n",
    "    \"outFields\": \"*\",\n",
    "    \"outSR\": 4326,\n",
    "    \"f\": \"json\",\n",
    "    \"resultOffset\": 0,       # Starting index for results\n",
    "    \"resultRecordCount\": 10000  # Maximum records per batch (if allowed by the API)\n",
    "}\n",
    "\n",
    "records = []\n",
    "\n",
    "while True:\n",
    "    response = requests.get(url, params=params)\n",
    "    response.raise_for_status()\n",
    "    data = response.json()\n",
    "    \n",
    "    # Get the current batch of features.\n",
    "    features = data.get(\"features\", [])\n",
    "    if not features:\n",
    "        break\n",
    "\n",
    "    # Extract the attributes from the features.\n",
    "    batch_records = [feature.get(\"attributes\", {}) for feature in features]\n",
    "    records.extend(batch_records)\n",
    "    \n",
    "    # If the batch size is less than the requested count, we reached the end.\n",
    "    if len(features) < params[\"resultRecordCount\"]:\n",
    "        break\n",
    "\n",
    "    # Update the resultOffset for the next batch.\n",
    "    params[\"resultOffset\"] += params[\"resultRecordCount\"]\n",
    "\n",
    "# Create a DataFrame from the combined records.\n",
    "df = pd.DataFrame(records)\n",
    "print(\"Total records imported:\", len(df))\n"
   ]
  },
  {
   "cell_type": "code",
   "execution_count": 3,
   "id": "61ea557e",
   "metadata": {
    "execution": {
     "iopub.execute_input": "2025-05-12T01:06:00.934426Z",
     "iopub.status.busy": "2025-05-12T01:06:00.933922Z",
     "iopub.status.idle": "2025-05-12T01:06:00.946529Z",
     "shell.execute_reply": "2025-05-12T01:06:00.945947Z"
    },
    "papermill": {
     "duration": 0.019688,
     "end_time": "2025-05-12T01:06:00.947477",
     "exception": false,
     "start_time": "2025-05-12T01:06:00.927789",
     "status": "completed"
    },
    "tags": []
   },
   "outputs": [
    {
     "data": {
      "text/html": [
       "<div>\n",
       "<style scoped>\n",
       "    .dataframe tbody tr th:only-of-type {\n",
       "        vertical-align: middle;\n",
       "    }\n",
       "\n",
       "    .dataframe tbody tr th {\n",
       "        vertical-align: top;\n",
       "    }\n",
       "\n",
       "    .dataframe thead th {\n",
       "        text-align: right;\n",
       "    }\n",
       "</style>\n",
       "<table border=\"1\" class=\"dataframe\">\n",
       "  <thead>\n",
       "    <tr style=\"text-align: right;\">\n",
       "      <th></th>\n",
       "      <th>RecordID</th>\n",
       "      <th>Offense</th>\n",
       "      <th>IncidentID</th>\n",
       "      <th>BlockNumber</th>\n",
       "      <th>StreetName</th>\n",
       "      <th>Agency</th>\n",
       "      <th>DateReported</th>\n",
       "      <th>HourReported</th>\n",
       "      <th>ReportingOfficer</th>\n",
       "    </tr>\n",
       "  </thead>\n",
       "  <tbody>\n",
       "    <tr>\n",
       "      <th>0</th>\n",
       "      <td>1</td>\n",
       "      <td>Assist Citizen - Mental/TDO/ECO</td>\n",
       "      <td>202500015721</td>\n",
       "      <td>800</td>\n",
       "      <td>CHERRY AVE</td>\n",
       "      <td>CPD</td>\n",
       "      <td>1746850150000</td>\n",
       "      <td>0009</td>\n",
       "      <td>Troche, Nicholas</td>\n",
       "    </tr>\n",
       "    <tr>\n",
       "      <th>1</th>\n",
       "      <td>2</td>\n",
       "      <td>Lost/FoundProperty</td>\n",
       "      <td>202500015665</td>\n",
       "      <td>100</td>\n",
       "      <td>W MAIN ST</td>\n",
       "      <td>CPD</td>\n",
       "      <td>1746832527000</td>\n",
       "      <td>1915</td>\n",
       "      <td>Ryan, Matthew</td>\n",
       "    </tr>\n",
       "    <tr>\n",
       "      <th>2</th>\n",
       "      <td>3</td>\n",
       "      <td>Larceny - Shoplifitng</td>\n",
       "      <td>202500015650</td>\n",
       "      <td>1100</td>\n",
       "      <td>5TH ST SW</td>\n",
       "      <td>CPD</td>\n",
       "      <td>1746827743000</td>\n",
       "      <td>1755</td>\n",
       "      <td>Bentz, Benjamin</td>\n",
       "    </tr>\n",
       "    <tr>\n",
       "      <th>3</th>\n",
       "      <td>4</td>\n",
       "      <td>Drug Equipment Violation</td>\n",
       "      <td>202500015645</td>\n",
       "      <td>600</td>\n",
       "      <td>E WATER ST</td>\n",
       "      <td>CPD</td>\n",
       "      <td>1746826442000</td>\n",
       "      <td>1734</td>\n",
       "      <td>Ryan, Matthew</td>\n",
       "    </tr>\n",
       "    <tr>\n",
       "      <th>4</th>\n",
       "      <td>5</td>\n",
       "      <td>Larceny - All Other</td>\n",
       "      <td>202500015638</td>\n",
       "      <td>1100</td>\n",
       "      <td>E MARKET ST</td>\n",
       "      <td>CPD</td>\n",
       "      <td>1746822826000</td>\n",
       "      <td>1633</td>\n",
       "      <td>Kinney, Dylan</td>\n",
       "    </tr>\n",
       "  </tbody>\n",
       "</table>\n",
       "</div>"
      ],
      "text/plain": [
       "   RecordID                          Offense    IncidentID BlockNumber  \\\n",
       "0         1  Assist Citizen - Mental/TDO/ECO  202500015721         800   \n",
       "1         2               Lost/FoundProperty  202500015665         100   \n",
       "2         3            Larceny - Shoplifitng  202500015650        1100   \n",
       "3         4         Drug Equipment Violation  202500015645         600   \n",
       "4         5              Larceny - All Other  202500015638        1100   \n",
       "\n",
       "    StreetName Agency   DateReported HourReported  ReportingOfficer  \n",
       "0   CHERRY AVE    CPD  1746850150000         0009  Troche, Nicholas  \n",
       "1    W MAIN ST    CPD  1746832527000         1915     Ryan, Matthew  \n",
       "2    5TH ST SW    CPD  1746827743000         1755  Bentz, Benjamin   \n",
       "3   E WATER ST    CPD  1746826442000         1734     Ryan, Matthew  \n",
       "4  E MARKET ST    CPD  1746822826000         1633     Kinney, Dylan  "
      ]
     },
     "execution_count": 3,
     "metadata": {},
     "output_type": "execute_result"
    }
   ],
   "source": [
    "df.head()"
   ]
  },
  {
   "cell_type": "code",
   "execution_count": 4,
   "id": "5964023d",
   "metadata": {
    "execution": {
     "iopub.execute_input": "2025-05-12T01:06:00.959551Z",
     "iopub.status.busy": "2025-05-12T01:06:00.958894Z",
     "iopub.status.idle": "2025-05-12T01:06:00.963444Z",
     "shell.execute_reply": "2025-05-12T01:06:00.962799Z"
    },
    "papermill": {
     "duration": 0.011687,
     "end_time": "2025-05-12T01:06:00.964550",
     "exception": false,
     "start_time": "2025-05-12T01:06:00.952863",
     "status": "completed"
    },
    "tags": []
   },
   "outputs": [
    {
     "data": {
      "text/plain": [
       "Index(['RecordID', 'Offense', 'IncidentID', 'BlockNumber', 'StreetName',\n",
       "       'Agency', 'DateReported', 'HourReported', 'ReportingOfficer'],\n",
       "      dtype='object')"
      ]
     },
     "execution_count": 4,
     "metadata": {},
     "output_type": "execute_result"
    }
   ],
   "source": [
    "df.columns"
   ]
  },
  {
   "cell_type": "code",
   "execution_count": 5,
   "id": "4ea29b26",
   "metadata": {
    "execution": {
     "iopub.execute_input": "2025-05-12T01:06:00.976579Z",
     "iopub.status.busy": "2025-05-12T01:06:00.976117Z",
     "iopub.status.idle": "2025-05-12T01:06:01.001532Z",
     "shell.execute_reply": "2025-05-12T01:06:01.000969Z"
    },
    "papermill": {
     "duration": 0.032531,
     "end_time": "2025-05-12T01:06:01.002610",
     "exception": false,
     "start_time": "2025-05-12T01:06:00.970079",
     "status": "completed"
    },
    "tags": []
   },
   "outputs": [
    {
     "name": "stdout",
     "output_type": "stream",
     "text": [
      "<class 'pandas.core.frame.DataFrame'>\n",
      "RangeIndex: 25384 entries, 0 to 25383\n",
      "Data columns (total 9 columns):\n",
      " #   Column            Non-Null Count  Dtype \n",
      "---  ------            --------------  ----- \n",
      " 0   RecordID          25384 non-null  int64 \n",
      " 1   Offense           25384 non-null  object\n",
      " 2   IncidentID        25384 non-null  object\n",
      " 3   BlockNumber       25384 non-null  object\n",
      " 4   StreetName        25384 non-null  object\n",
      " 5   Agency            25384 non-null  object\n",
      " 6   DateReported      25384 non-null  int64 \n",
      " 7   HourReported      25384 non-null  object\n",
      " 8   ReportingOfficer  25367 non-null  object\n",
      "dtypes: int64(2), object(7)\n",
      "memory usage: 1.7+ MB\n"
     ]
    }
   ],
   "source": [
    "df.info()"
   ]
  },
  {
   "cell_type": "markdown",
   "id": "68e9c459",
   "metadata": {
    "papermill": {
     "duration": 0.005571,
     "end_time": "2025-05-12T01:06:01.013945",
     "exception": false,
     "start_time": "2025-05-12T01:06:01.008374",
     "status": "completed"
    },
    "tags": []
   },
   "source": [
    "### Missing Values"
   ]
  },
  {
   "cell_type": "code",
   "execution_count": 6,
   "id": "24ddd96b",
   "metadata": {
    "execution": {
     "iopub.execute_input": "2025-05-12T01:06:01.026460Z",
     "iopub.status.busy": "2025-05-12T01:06:01.025947Z",
     "iopub.status.idle": "2025-05-12T01:06:01.052082Z",
     "shell.execute_reply": "2025-05-12T01:06:01.051380Z"
    },
    "papermill": {
     "duration": 0.03363,
     "end_time": "2025-05-12T01:06:01.053123",
     "exception": false,
     "start_time": "2025-05-12T01:06:01.019493",
     "status": "completed"
    },
    "tags": []
   },
   "outputs": [
    {
     "name": "stdout",
     "output_type": "stream",
     "text": [
      "                  MissingCount  MissingPercentage\n",
      "RecordID                     0               0.00\n",
      "Offense                      0               0.00\n",
      "IncidentID                   0               0.00\n",
      "BlockNumber                  0               0.00\n",
      "StreetName                   0               0.00\n",
      "Agency                       0               0.00\n",
      "DateReported                 0               0.00\n",
      "HourReported                 0               0.00\n",
      "ReportingOfficer            17               0.07\n"
     ]
    }
   ],
   "source": [
    "def missing_percentage(df):\n",
    "    \"\"\"\n",
    "    Returns a DataFrame with the count and percentage of missing values for each column.\n",
    "    \n",
    "    Parameters:\n",
    "        df (pd.DataFrame): The input DataFrame.\n",
    "    \n",
    "    Returns:\n",
    "        pd.DataFrame: A DataFrame with columns 'MissingCount' and 'MissingPercentage'.\n",
    "    \"\"\"\n",
    "    total_rows = len(df)\n",
    "    missing_count = df.isnull().sum()\n",
    "    missing_percent = (missing_count / total_rows) * 100\n",
    "    \n",
    "    result = pd.DataFrame({\n",
    "        'MissingCount': missing_count,\n",
    "        'MissingPercentage': missing_percent.round(2)\n",
    "    })\n",
    "    \n",
    "    return result\n",
    "\n",
    "# Example usage:\n",
    "missing_info = missing_percentage(df)\n",
    "print(missing_info)\n"
   ]
  },
  {
   "cell_type": "markdown",
   "id": "e8750aa9",
   "metadata": {
    "papermill": {
     "duration": 0.005709,
     "end_time": "2025-05-12T01:06:01.064914",
     "exception": false,
     "start_time": "2025-05-12T01:06:01.059205",
     "status": "completed"
    },
    "tags": []
   },
   "source": [
    "## Data Preparation"
   ]
  },
  {
   "cell_type": "markdown",
   "id": "0040208e",
   "metadata": {
    "papermill": {
     "duration": 0.00563,
     "end_time": "2025-05-12T01:06:01.076174",
     "exception": false,
     "start_time": "2025-05-12T01:06:01.070544",
     "status": "completed"
    },
    "tags": []
   },
   "source": [
    "### Data Conversion"
   ]
  },
  {
   "cell_type": "code",
   "execution_count": 7,
   "id": "6a2edb15",
   "metadata": {
    "execution": {
     "iopub.execute_input": "2025-05-12T01:06:01.089105Z",
     "iopub.status.busy": "2025-05-12T01:06:01.088476Z",
     "iopub.status.idle": "2025-05-12T01:06:01.466903Z",
     "shell.execute_reply": "2025-05-12T01:06:01.466158Z"
    },
    "papermill": {
     "duration": 0.386251,
     "end_time": "2025-05-12T01:06:01.468067",
     "exception": false,
     "start_time": "2025-05-12T01:06:01.081816",
     "status": "completed"
    },
    "tags": []
   },
   "outputs": [
    {
     "data": {
      "text/html": [
       "<div>\n",
       "<style scoped>\n",
       "    .dataframe tbody tr th:only-of-type {\n",
       "        vertical-align: middle;\n",
       "    }\n",
       "\n",
       "    .dataframe tbody tr th {\n",
       "        vertical-align: top;\n",
       "    }\n",
       "\n",
       "    .dataframe thead th {\n",
       "        text-align: right;\n",
       "    }\n",
       "</style>\n",
       "<table border=\"1\" class=\"dataframe\">\n",
       "  <thead>\n",
       "    <tr style=\"text-align: right;\">\n",
       "      <th></th>\n",
       "      <th>RecordID</th>\n",
       "      <th>Offense</th>\n",
       "      <th>IncidentID</th>\n",
       "      <th>BlockNumber</th>\n",
       "      <th>StreetName</th>\n",
       "      <th>Agency</th>\n",
       "      <th>HourReported</th>\n",
       "      <th>ReportingOfficer</th>\n",
       "      <th>Date</th>\n",
       "      <th>DateString</th>\n",
       "      <th>DayOfWeek</th>\n",
       "      <th>Weekend</th>\n",
       "      <th>Season</th>\n",
       "      <th>HourAMPM</th>\n",
       "      <th>TimeOfDay</th>\n",
       "    </tr>\n",
       "  </thead>\n",
       "  <tbody>\n",
       "    <tr>\n",
       "      <th>0</th>\n",
       "      <td>1</td>\n",
       "      <td>Assist Citizen - Mental/TDO/ECO</td>\n",
       "      <td>202500015721</td>\n",
       "      <td>800</td>\n",
       "      <td>CHERRY AVE</td>\n",
       "      <td>CPD</td>\n",
       "      <td>0009</td>\n",
       "      <td>Troche, Nicholas</td>\n",
       "      <td>2025-05-10 00:09:10</td>\n",
       "      <td>2025-05-10 12:09:10 AM</td>\n",
       "      <td>Saturday</td>\n",
       "      <td>True</td>\n",
       "      <td>Spring</td>\n",
       "      <td>12:09 AM</td>\n",
       "      <td>Night</td>\n",
       "    </tr>\n",
       "    <tr>\n",
       "      <th>1</th>\n",
       "      <td>2</td>\n",
       "      <td>Lost/FoundProperty</td>\n",
       "      <td>202500015665</td>\n",
       "      <td>100</td>\n",
       "      <td>W MAIN ST</td>\n",
       "      <td>CPD</td>\n",
       "      <td>1915</td>\n",
       "      <td>Ryan, Matthew</td>\n",
       "      <td>2025-05-09 19:15:27</td>\n",
       "      <td>2025-05-09 07:15:27 PM</td>\n",
       "      <td>Friday</td>\n",
       "      <td>False</td>\n",
       "      <td>Spring</td>\n",
       "      <td>07:15 PM</td>\n",
       "      <td>Evening</td>\n",
       "    </tr>\n",
       "    <tr>\n",
       "      <th>2</th>\n",
       "      <td>3</td>\n",
       "      <td>Larceny - Shoplifitng</td>\n",
       "      <td>202500015650</td>\n",
       "      <td>1100</td>\n",
       "      <td>5TH ST SW</td>\n",
       "      <td>CPD</td>\n",
       "      <td>1755</td>\n",
       "      <td>Bentz, Benjamin</td>\n",
       "      <td>2025-05-09 17:55:43</td>\n",
       "      <td>2025-05-09 05:55:43 PM</td>\n",
       "      <td>Friday</td>\n",
       "      <td>False</td>\n",
       "      <td>Spring</td>\n",
       "      <td>05:55 PM</td>\n",
       "      <td>Evening</td>\n",
       "    </tr>\n",
       "    <tr>\n",
       "      <th>3</th>\n",
       "      <td>4</td>\n",
       "      <td>Drug Equipment Violation</td>\n",
       "      <td>202500015645</td>\n",
       "      <td>600</td>\n",
       "      <td>E WATER ST</td>\n",
       "      <td>CPD</td>\n",
       "      <td>1734</td>\n",
       "      <td>Ryan, Matthew</td>\n",
       "      <td>2025-05-09 17:34:02</td>\n",
       "      <td>2025-05-09 05:34:02 PM</td>\n",
       "      <td>Friday</td>\n",
       "      <td>False</td>\n",
       "      <td>Spring</td>\n",
       "      <td>05:34 PM</td>\n",
       "      <td>Evening</td>\n",
       "    </tr>\n",
       "    <tr>\n",
       "      <th>4</th>\n",
       "      <td>5</td>\n",
       "      <td>Larceny - All Other</td>\n",
       "      <td>202500015638</td>\n",
       "      <td>1100</td>\n",
       "      <td>E MARKET ST</td>\n",
       "      <td>CPD</td>\n",
       "      <td>1633</td>\n",
       "      <td>Kinney, Dylan</td>\n",
       "      <td>2025-05-09 16:33:46</td>\n",
       "      <td>2025-05-09 04:33:46 PM</td>\n",
       "      <td>Friday</td>\n",
       "      <td>False</td>\n",
       "      <td>Spring</td>\n",
       "      <td>04:33 PM</td>\n",
       "      <td>Afternoon</td>\n",
       "    </tr>\n",
       "  </tbody>\n",
       "</table>\n",
       "</div>"
      ],
      "text/plain": [
       "   RecordID                          Offense    IncidentID BlockNumber  \\\n",
       "0         1  Assist Citizen - Mental/TDO/ECO  202500015721         800   \n",
       "1         2               Lost/FoundProperty  202500015665         100   \n",
       "2         3            Larceny - Shoplifitng  202500015650        1100   \n",
       "3         4         Drug Equipment Violation  202500015645         600   \n",
       "4         5              Larceny - All Other  202500015638        1100   \n",
       "\n",
       "    StreetName Agency HourReported  ReportingOfficer                Date  \\\n",
       "0   CHERRY AVE    CPD         0009  Troche, Nicholas 2025-05-10 00:09:10   \n",
       "1    W MAIN ST    CPD         1915     Ryan, Matthew 2025-05-09 19:15:27   \n",
       "2    5TH ST SW    CPD         1755  Bentz, Benjamin  2025-05-09 17:55:43   \n",
       "3   E WATER ST    CPD         1734     Ryan, Matthew 2025-05-09 17:34:02   \n",
       "4  E MARKET ST    CPD         1633     Kinney, Dylan 2025-05-09 16:33:46   \n",
       "\n",
       "               DateString DayOfWeek  Weekend  Season  HourAMPM  TimeOfDay  \n",
       "0  2025-05-10 12:09:10 AM  Saturday     True  Spring  12:09 AM      Night  \n",
       "1  2025-05-09 07:15:27 PM    Friday    False  Spring  07:15 PM    Evening  \n",
       "2  2025-05-09 05:55:43 PM    Friday    False  Spring  05:55 PM    Evening  \n",
       "3  2025-05-09 05:34:02 PM    Friday    False  Spring  05:34 PM    Evening  \n",
       "4  2025-05-09 04:33:46 PM    Friday    False  Spring  04:33 PM  Afternoon  "
      ]
     },
     "execution_count": 7,
     "metadata": {},
     "output_type": "execute_result"
    }
   ],
   "source": [
    "def convert_and_categorize_datereported(df, col='DateReported'):\n",
    "    \"\"\"\n",
    "    Converts an epoch (in milliseconds) date column into a timezone-aware datetime,\n",
    "    converts it to Eastern Time, and then creates columns for day-of-week, weekend flag,\n",
    "    season, 12-hour formatted time, and time-of-day. Keeps both a real datetime column\n",
    "    (Date) and a string representation (DateString).\n",
    "    \"\"\"\n",
    "    import pandas as pd\n",
    "\n",
    "    # Convert the epoch timestamp to a pandas datetime object as UTC, then convert to US/Eastern.\n",
    "    df[\"DateReported_dt\"] = (\n",
    "        pd.to_datetime(df[col], unit=\"ms\", errors=\"coerce\", utc=True)\n",
    "        .dt.tz_convert(\"US/Eastern\")\n",
    "    )\n",
    "    \n",
    "    # Create a true datetime column (remove timezone if you prefer naive datetime)\n",
    "    df[\"Date\"] = df[\"DateReported_dt\"].dt.tz_localize(None)\n",
    "\n",
    "    # Optionally, create a separate string-formatted column\n",
    "    df[\"DateString\"] = df[\"DateReported_dt\"].dt.strftime(\"%Y-%m-%d %I:%M:%S %p\")\n",
    "    \n",
    "    # DayOfWeek\n",
    "    df[\"DayOfWeek\"] = df[\"DateReported_dt\"].dt.day_name()\n",
    "    \n",
    "    # Weekend\n",
    "    df[\"Weekend\"] = df[\"DayOfWeek\"].isin([\"Saturday\", \"Sunday\"])\n",
    "    \n",
    "    # Helper function to determine the season\n",
    "    def get_season(dt):\n",
    "        month = dt.month\n",
    "        day = dt.day\n",
    "        # Approximate Northern Hemisphere season boundaries:\n",
    "        if (month == 12 and day >= 21) or (month < 3) or (month == 3 and day < 20):\n",
    "            return \"Winter\"\n",
    "        elif (month == 3 and day >= 20) or (month < 6) or (month == 6 and day < 21):\n",
    "            return \"Spring\"\n",
    "        elif (month == 6 and day >= 21) or (month < 9) or (month == 9 and day < 22):\n",
    "            return \"Summer\"\n",
    "        else:\n",
    "            return \"Autumn\"\n",
    "    \n",
    "    df[\"Season\"] = df[\"DateReported_dt\"].apply(get_season)\n",
    "    \n",
    "    # 12-hour formatted time (HourAMPM)\n",
    "    df[\"HourAMPM\"] = df[\"DateReported_dt\"].dt.strftime(\"%I:%M %p\")\n",
    "    \n",
    "    # Extract hour (0-23) for time-of-day\n",
    "    df[\"HourValue\"] = df[\"DateReported_dt\"].dt.hour\n",
    "    \n",
    "    def time_of_day(hour):\n",
    "        if pd.isnull(hour):\n",
    "            return None\n",
    "        if 5 <= hour < 12:\n",
    "            return \"Morning\"\n",
    "        elif 12 <= hour < 17:\n",
    "            return \"Afternoon\"\n",
    "        elif 17 <= hour < 21:\n",
    "            return \"Evening\"\n",
    "        else:\n",
    "            return \"Night\"\n",
    "    \n",
    "    df[\"TimeOfDay\"] = df[\"HourValue\"].apply(time_of_day)\n",
    "    \n",
    "    # Drop columns you no longer need\n",
    "    df.drop(columns=[col, \"DateReported_dt\", \"HourValue\"], inplace=True)\n",
    "    \n",
    "    return df\n",
    "\n",
    "# Example usage:\n",
    "df = convert_and_categorize_datereported(df)\n",
    "df.head()\n"
   ]
  },
  {
   "cell_type": "code",
   "execution_count": 8,
   "id": "d7299f68",
   "metadata": {
    "execution": {
     "iopub.execute_input": "2025-05-12T01:06:01.481894Z",
     "iopub.status.busy": "2025-05-12T01:06:01.481378Z",
     "iopub.status.idle": "2025-05-12T01:06:01.512173Z",
     "shell.execute_reply": "2025-05-12T01:06:01.511474Z"
    },
    "papermill": {
     "duration": 0.038824,
     "end_time": "2025-05-12T01:06:01.513240",
     "exception": false,
     "start_time": "2025-05-12T01:06:01.474416",
     "status": "completed"
    },
    "tags": []
   },
   "outputs": [
    {
     "name": "stdout",
     "output_type": "stream",
     "text": [
      "<class 'pandas.core.frame.DataFrame'>\n",
      "RangeIndex: 25384 entries, 0 to 25383\n",
      "Data columns (total 15 columns):\n",
      " #   Column            Non-Null Count  Dtype         \n",
      "---  ------            --------------  -----         \n",
      " 0   RecordID          25384 non-null  int64         \n",
      " 1   Offense           25384 non-null  object        \n",
      " 2   IncidentID        25384 non-null  object        \n",
      " 3   BlockNumber       25384 non-null  object        \n",
      " 4   StreetName        25384 non-null  object        \n",
      " 5   Agency            25384 non-null  object        \n",
      " 6   HourReported      25384 non-null  object        \n",
      " 7   ReportingOfficer  25367 non-null  object        \n",
      " 8   Date              25384 non-null  datetime64[ns]\n",
      " 9   DateString        25384 non-null  object        \n",
      " 10  DayOfWeek         25384 non-null  object        \n",
      " 11  Weekend           25384 non-null  bool          \n",
      " 12  Season            25384 non-null  object        \n",
      " 13  HourAMPM          25384 non-null  object        \n",
      " 14  TimeOfDay         25384 non-null  object        \n",
      "dtypes: bool(1), datetime64[ns](1), int64(1), object(12)\n",
      "memory usage: 2.7+ MB\n"
     ]
    }
   ],
   "source": [
    "df.info()"
   ]
  },
  {
   "cell_type": "markdown",
   "id": "7b7823b9",
   "metadata": {
    "papermill": {
     "duration": 0.005949,
     "end_time": "2025-05-12T01:06:01.525387",
     "exception": false,
     "start_time": "2025-05-12T01:06:01.519438",
     "status": "completed"
    },
    "tags": []
   },
   "source": [
    "### Coordinates"
   ]
  },
  {
   "cell_type": "code",
   "execution_count": 9,
   "id": "d1d1fec5",
   "metadata": {
    "execution": {
     "iopub.execute_input": "2025-05-12T01:06:01.538872Z",
     "iopub.status.busy": "2025-05-12T01:06:01.538311Z",
     "iopub.status.idle": "2025-05-12T01:06:02.155521Z",
     "shell.execute_reply": "2025-05-12T01:06:02.154944Z"
    },
    "papermill": {
     "duration": 0.625152,
     "end_time": "2025-05-12T01:06:02.156540",
     "exception": false,
     "start_time": "2025-05-12T01:06:01.531388",
     "status": "completed"
    },
    "tags": []
   },
   "outputs": [
    {
     "name": "stdout",
     "output_type": "stream",
     "text": [
      "Loaded geocode cache.\n"
     ]
    },
    {
     "name": "stdout",
     "output_type": "stream",
     "text": [
      "Geocoded  CARLTON AVE / BROADWAY ST: 38.0221102, -78.4688601\n"
     ]
    },
    {
     "name": "stdout",
     "output_type": "stream",
     "text": [
      "Geocoded 2000 HOLIDAY DR, 120: 38.0576812, -78.4914019\n"
     ]
    },
    {
     "name": "stdout",
     "output_type": "stream",
     "text": [
      "Geocoded 1300 CARLTON AVE, 107: 38.0220596, -78.4693363\n"
     ]
    },
    {
     "name": "stdout",
     "output_type": "stream",
     "text": [
      "Geocoded 1700 ALLIED ST, 2-B: 38.0405711, -78.47791540000001\n",
      "Geocode cache updated and saved.\n"
     ]
    },
    {
     "data": {
      "text/html": [
       "<div>\n",
       "<style scoped>\n",
       "    .dataframe tbody tr th:only-of-type {\n",
       "        vertical-align: middle;\n",
       "    }\n",
       "\n",
       "    .dataframe tbody tr th {\n",
       "        vertical-align: top;\n",
       "    }\n",
       "\n",
       "    .dataframe thead th {\n",
       "        text-align: right;\n",
       "    }\n",
       "</style>\n",
       "<table border=\"1\" class=\"dataframe\">\n",
       "  <thead>\n",
       "    <tr style=\"text-align: right;\">\n",
       "      <th></th>\n",
       "      <th>RecordID</th>\n",
       "      <th>Offense</th>\n",
       "      <th>IncidentID</th>\n",
       "      <th>BlockNumber</th>\n",
       "      <th>StreetName</th>\n",
       "      <th>Agency</th>\n",
       "      <th>HourReported</th>\n",
       "      <th>ReportingOfficer</th>\n",
       "      <th>Date</th>\n",
       "      <th>DateString</th>\n",
       "      <th>DayOfWeek</th>\n",
       "      <th>Weekend</th>\n",
       "      <th>Season</th>\n",
       "      <th>HourAMPM</th>\n",
       "      <th>TimeOfDay</th>\n",
       "      <th>FullStreet</th>\n",
       "      <th>lat</th>\n",
       "      <th>lon</th>\n",
       "    </tr>\n",
       "  </thead>\n",
       "  <tbody>\n",
       "    <tr>\n",
       "      <th>0</th>\n",
       "      <td>1</td>\n",
       "      <td>Assist Citizen - Mental/TDO/ECO</td>\n",
       "      <td>202500015721</td>\n",
       "      <td>800</td>\n",
       "      <td>CHERRY AVE</td>\n",
       "      <td>CPD</td>\n",
       "      <td>0009</td>\n",
       "      <td>Troche, Nicholas</td>\n",
       "      <td>2025-05-10 00:09:10</td>\n",
       "      <td>2025-05-10 12:09:10 AM</td>\n",
       "      <td>Saturday</td>\n",
       "      <td>True</td>\n",
       "      <td>Spring</td>\n",
       "      <td>12:09 AM</td>\n",
       "      <td>Night</td>\n",
       "      <td>800 CHERRY AVE</td>\n",
       "      <td>38.028312</td>\n",
       "      <td>-78.493379</td>\n",
       "    </tr>\n",
       "    <tr>\n",
       "      <th>1</th>\n",
       "      <td>2</td>\n",
       "      <td>Lost/FoundProperty</td>\n",
       "      <td>202500015665</td>\n",
       "      <td>100</td>\n",
       "      <td>W MAIN ST</td>\n",
       "      <td>CPD</td>\n",
       "      <td>1915</td>\n",
       "      <td>Ryan, Matthew</td>\n",
       "      <td>2025-05-09 19:15:27</td>\n",
       "      <td>2025-05-09 07:15:27 PM</td>\n",
       "      <td>Friday</td>\n",
       "      <td>False</td>\n",
       "      <td>Spring</td>\n",
       "      <td>07:15 PM</td>\n",
       "      <td>Evening</td>\n",
       "      <td>100 W MAIN ST</td>\n",
       "      <td>38.030718</td>\n",
       "      <td>-78.481656</td>\n",
       "    </tr>\n",
       "    <tr>\n",
       "      <th>2</th>\n",
       "      <td>3</td>\n",
       "      <td>Larceny - Shoplifitng</td>\n",
       "      <td>202500015650</td>\n",
       "      <td>1100</td>\n",
       "      <td>5TH ST SW</td>\n",
       "      <td>CPD</td>\n",
       "      <td>1755</td>\n",
       "      <td>Bentz, Benjamin</td>\n",
       "      <td>2025-05-09 17:55:43</td>\n",
       "      <td>2025-05-09 05:55:43 PM</td>\n",
       "      <td>Friday</td>\n",
       "      <td>False</td>\n",
       "      <td>Spring</td>\n",
       "      <td>05:55 PM</td>\n",
       "      <td>Evening</td>\n",
       "      <td>1100 5TH ST SW</td>\n",
       "      <td>38.017130</td>\n",
       "      <td>-78.497806</td>\n",
       "    </tr>\n",
       "    <tr>\n",
       "      <th>3</th>\n",
       "      <td>4</td>\n",
       "      <td>Drug Equipment Violation</td>\n",
       "      <td>202500015645</td>\n",
       "      <td>600</td>\n",
       "      <td>E WATER ST</td>\n",
       "      <td>CPD</td>\n",
       "      <td>1734</td>\n",
       "      <td>Ryan, Matthew</td>\n",
       "      <td>2025-05-09 17:34:02</td>\n",
       "      <td>2025-05-09 05:34:02 PM</td>\n",
       "      <td>Friday</td>\n",
       "      <td>False</td>\n",
       "      <td>Spring</td>\n",
       "      <td>05:34 PM</td>\n",
       "      <td>Evening</td>\n",
       "      <td>600 E WATER ST</td>\n",
       "      <td>38.028757</td>\n",
       "      <td>-78.477608</td>\n",
       "    </tr>\n",
       "    <tr>\n",
       "      <th>4</th>\n",
       "      <td>5</td>\n",
       "      <td>Larceny - All Other</td>\n",
       "      <td>202500015638</td>\n",
       "      <td>1100</td>\n",
       "      <td>E MARKET ST</td>\n",
       "      <td>CPD</td>\n",
       "      <td>1633</td>\n",
       "      <td>Kinney, Dylan</td>\n",
       "      <td>2025-05-09 16:33:46</td>\n",
       "      <td>2025-05-09 04:33:46 PM</td>\n",
       "      <td>Friday</td>\n",
       "      <td>False</td>\n",
       "      <td>Spring</td>\n",
       "      <td>04:33 PM</td>\n",
       "      <td>Afternoon</td>\n",
       "      <td>1100 E MARKET ST</td>\n",
       "      <td>38.027920</td>\n",
       "      <td>-78.472110</td>\n",
       "    </tr>\n",
       "  </tbody>\n",
       "</table>\n",
       "</div>"
      ],
      "text/plain": [
       "   RecordID                          Offense    IncidentID BlockNumber  \\\n",
       "0         1  Assist Citizen - Mental/TDO/ECO  202500015721         800   \n",
       "1         2               Lost/FoundProperty  202500015665         100   \n",
       "2         3            Larceny - Shoplifitng  202500015650        1100   \n",
       "3         4         Drug Equipment Violation  202500015645         600   \n",
       "4         5              Larceny - All Other  202500015638        1100   \n",
       "\n",
       "    StreetName Agency HourReported  ReportingOfficer                Date  \\\n",
       "0   CHERRY AVE    CPD         0009  Troche, Nicholas 2025-05-10 00:09:10   \n",
       "1    W MAIN ST    CPD         1915     Ryan, Matthew 2025-05-09 19:15:27   \n",
       "2    5TH ST SW    CPD         1755  Bentz, Benjamin  2025-05-09 17:55:43   \n",
       "3   E WATER ST    CPD         1734     Ryan, Matthew 2025-05-09 17:34:02   \n",
       "4  E MARKET ST    CPD         1633     Kinney, Dylan 2025-05-09 16:33:46   \n",
       "\n",
       "               DateString DayOfWeek  Weekend  Season  HourAMPM  TimeOfDay  \\\n",
       "0  2025-05-10 12:09:10 AM  Saturday     True  Spring  12:09 AM      Night   \n",
       "1  2025-05-09 07:15:27 PM    Friday    False  Spring  07:15 PM    Evening   \n",
       "2  2025-05-09 05:55:43 PM    Friday    False  Spring  05:55 PM    Evening   \n",
       "3  2025-05-09 05:34:02 PM    Friday    False  Spring  05:34 PM    Evening   \n",
       "4  2025-05-09 04:33:46 PM    Friday    False  Spring  04:33 PM  Afternoon   \n",
       "\n",
       "         FullStreet        lat        lon  \n",
       "0    800 CHERRY AVE  38.028312 -78.493379  \n",
       "1     100 W MAIN ST  38.030718 -78.481656  \n",
       "2    1100 5TH ST SW  38.017130 -78.497806  \n",
       "3    600 E WATER ST  38.028757 -78.477608  \n",
       "4  1100 E MARKET ST  38.027920 -78.472110  "
      ]
     },
     "execution_count": 9,
     "metadata": {},
     "output_type": "execute_result"
    }
   ],
   "source": [
    "# Combine BlockNumber and StreetName into a full address string\n",
    "df['FullStreet'] = df['BlockNumber'].astype(str) + \" \" + df['StreetName']\n",
    "\n",
    "# --- Step 1: Setup the Google Maps Client and Cache ---\n",
    "gmaps = googlemaps.Client(key=GOOGLE_API_KEY)\n",
    "\n",
    "# Try to load cached geocoding results if available.\n",
    "try:\n",
    "    with open(\"geocode_cache_google.pkl\", \"rb\") as f:\n",
    "        street_coords = pickle.load(f)\n",
    "    print(\"Loaded geocode cache.\")\n",
    "except FileNotFoundError:\n",
    "    street_coords = {}\n",
    "    print(\"No cache found; starting fresh.\")\n",
    "\n",
    "def geocode_address(address):\n",
    "    try:\n",
    "        # Append city and state to help geocoding\n",
    "        result = gmaps.geocode(f\"{address}, Charlottesville, VA\")\n",
    "        if result:\n",
    "            lat = result[0]['geometry']['location']['lat']\n",
    "            lon = result[0]['geometry']['location']['lng']\n",
    "            return lat, lon\n",
    "    except Exception as e:\n",
    "        print(f\"Error geocoding {address}: {e}\")\n",
    "    return None, None\n",
    "\n",
    "# --- Step 2: Geocode Only New Addresses ---\n",
    "unique_addresses = df['FullStreet'].unique()\n",
    "for address in unique_addresses:\n",
    "    if address not in street_coords:\n",
    "        lat, lon = geocode_address(address)\n",
    "        street_coords[address] = (lat, lon)\n",
    "        print(f\"Geocoded {address}: {lat}, {lon}\")\n",
    "\n",
    "# Save the updated cache to disk.\n",
    "with open(\"geocode_cache_google.pkl\", \"wb\") as f:\n",
    "    pickle.dump(street_coords, f)\n",
    "    print(\"Geocode cache updated and saved.\")\n",
    "\n",
    "# --- Step 3: Map Coordinates Back to DataFrame ---\n",
    "df['lat'] = df['FullStreet'].map(lambda s: street_coords.get(s, (None, None))[0])\n",
    "df['lon'] = df['FullStreet'].map(lambda s: street_coords.get(s, (None, None))[1])\n",
    "\n",
    "df.head()"
   ]
  },
  {
   "cell_type": "markdown",
   "id": "ac6deee9",
   "metadata": {
    "papermill": {
     "duration": 0.006425,
     "end_time": "2025-05-12T01:06:02.169765",
     "exception": false,
     "start_time": "2025-05-12T01:06:02.163340",
     "status": "completed"
    },
    "tags": []
   },
   "source": [
    "### Neighborhood"
   ]
  },
  {
   "cell_type": "code",
   "execution_count": 10,
   "id": "350a0884",
   "metadata": {
    "execution": {
     "iopub.execute_input": "2025-05-12T01:06:02.183187Z",
     "iopub.status.busy": "2025-05-12T01:06:02.182943Z",
     "iopub.status.idle": "2025-05-12T01:06:02.444800Z",
     "shell.execute_reply": "2025-05-12T01:06:02.444193Z"
    },
    "papermill": {
     "duration": 0.269831,
     "end_time": "2025-05-12T01:06:02.445845",
     "exception": false,
     "start_time": "2025-05-12T01:06:02.176014",
     "status": "completed"
    },
    "tags": []
   },
   "outputs": [
    {
     "name": "stdout",
     "output_type": "stream",
     "text": [
      "Loaded neighborhood cache.\n"
     ]
    },
    {
     "data": {
      "text/html": [
       "<div>\n",
       "<style scoped>\n",
       "    .dataframe tbody tr th:only-of-type {\n",
       "        vertical-align: middle;\n",
       "    }\n",
       "\n",
       "    .dataframe tbody tr th {\n",
       "        vertical-align: top;\n",
       "    }\n",
       "\n",
       "    .dataframe thead th {\n",
       "        text-align: right;\n",
       "    }\n",
       "</style>\n",
       "<table border=\"1\" class=\"dataframe\">\n",
       "  <thead>\n",
       "    <tr style=\"text-align: right;\">\n",
       "      <th></th>\n",
       "      <th>RecordID</th>\n",
       "      <th>Offense</th>\n",
       "      <th>IncidentID</th>\n",
       "      <th>BlockNumber</th>\n",
       "      <th>StreetName</th>\n",
       "      <th>Agency</th>\n",
       "      <th>HourReported</th>\n",
       "      <th>ReportingOfficer</th>\n",
       "      <th>Date</th>\n",
       "      <th>DateString</th>\n",
       "      <th>DayOfWeek</th>\n",
       "      <th>Weekend</th>\n",
       "      <th>Season</th>\n",
       "      <th>HourAMPM</th>\n",
       "      <th>TimeOfDay</th>\n",
       "      <th>FullStreet</th>\n",
       "      <th>lat</th>\n",
       "      <th>lon</th>\n",
       "      <th>neighborhood</th>\n",
       "    </tr>\n",
       "  </thead>\n",
       "  <tbody>\n",
       "    <tr>\n",
       "      <th>0</th>\n",
       "      <td>1</td>\n",
       "      <td>Assist Citizen - Mental/TDO/ECO</td>\n",
       "      <td>202500015721</td>\n",
       "      <td>800</td>\n",
       "      <td>CHERRY AVE</td>\n",
       "      <td>CPD</td>\n",
       "      <td>0009</td>\n",
       "      <td>Troche, Nicholas</td>\n",
       "      <td>2025-05-10 00:09:10</td>\n",
       "      <td>2025-05-10 12:09:10 AM</td>\n",
       "      <td>Saturday</td>\n",
       "      <td>True</td>\n",
       "      <td>Spring</td>\n",
       "      <td>12:09 AM</td>\n",
       "      <td>Night</td>\n",
       "      <td>800 CHERRY AVE</td>\n",
       "      <td>38.028312</td>\n",
       "      <td>-78.493379</td>\n",
       "      <td>Fifeville</td>\n",
       "    </tr>\n",
       "    <tr>\n",
       "      <th>1</th>\n",
       "      <td>2</td>\n",
       "      <td>Lost/FoundProperty</td>\n",
       "      <td>202500015665</td>\n",
       "      <td>100</td>\n",
       "      <td>W MAIN ST</td>\n",
       "      <td>CPD</td>\n",
       "      <td>1915</td>\n",
       "      <td>Ryan, Matthew</td>\n",
       "      <td>2025-05-09 19:15:27</td>\n",
       "      <td>2025-05-09 07:15:27 PM</td>\n",
       "      <td>Friday</td>\n",
       "      <td>False</td>\n",
       "      <td>Spring</td>\n",
       "      <td>07:15 PM</td>\n",
       "      <td>Evening</td>\n",
       "      <td>100 W MAIN ST</td>\n",
       "      <td>38.030718</td>\n",
       "      <td>-78.481656</td>\n",
       "      <td>Downtown Mall</td>\n",
       "    </tr>\n",
       "    <tr>\n",
       "      <th>2</th>\n",
       "      <td>3</td>\n",
       "      <td>Larceny - Shoplifitng</td>\n",
       "      <td>202500015650</td>\n",
       "      <td>1100</td>\n",
       "      <td>5TH ST SW</td>\n",
       "      <td>CPD</td>\n",
       "      <td>1755</td>\n",
       "      <td>Bentz, Benjamin</td>\n",
       "      <td>2025-05-09 17:55:43</td>\n",
       "      <td>2025-05-09 05:55:43 PM</td>\n",
       "      <td>Friday</td>\n",
       "      <td>False</td>\n",
       "      <td>Spring</td>\n",
       "      <td>05:55 PM</td>\n",
       "      <td>Evening</td>\n",
       "      <td>1100 5TH ST SW</td>\n",
       "      <td>38.017130</td>\n",
       "      <td>-78.497806</td>\n",
       "      <td>Johnson Village</td>\n",
       "    </tr>\n",
       "    <tr>\n",
       "      <th>3</th>\n",
       "      <td>4</td>\n",
       "      <td>Drug Equipment Violation</td>\n",
       "      <td>202500015645</td>\n",
       "      <td>600</td>\n",
       "      <td>E WATER ST</td>\n",
       "      <td>CPD</td>\n",
       "      <td>1734</td>\n",
       "      <td>Ryan, Matthew</td>\n",
       "      <td>2025-05-09 17:34:02</td>\n",
       "      <td>2025-05-09 05:34:02 PM</td>\n",
       "      <td>Friday</td>\n",
       "      <td>False</td>\n",
       "      <td>Spring</td>\n",
       "      <td>05:34 PM</td>\n",
       "      <td>Evening</td>\n",
       "      <td>600 E WATER ST</td>\n",
       "      <td>38.028757</td>\n",
       "      <td>-78.477608</td>\n",
       "      <td>North Downtown</td>\n",
       "    </tr>\n",
       "    <tr>\n",
       "      <th>4</th>\n",
       "      <td>5</td>\n",
       "      <td>Larceny - All Other</td>\n",
       "      <td>202500015638</td>\n",
       "      <td>1100</td>\n",
       "      <td>E MARKET ST</td>\n",
       "      <td>CPD</td>\n",
       "      <td>1633</td>\n",
       "      <td>Kinney, Dylan</td>\n",
       "      <td>2025-05-09 16:33:46</td>\n",
       "      <td>2025-05-09 04:33:46 PM</td>\n",
       "      <td>Friday</td>\n",
       "      <td>False</td>\n",
       "      <td>Spring</td>\n",
       "      <td>04:33 PM</td>\n",
       "      <td>Afternoon</td>\n",
       "      <td>1100 E MARKET ST</td>\n",
       "      <td>38.027920</td>\n",
       "      <td>-78.472110</td>\n",
       "      <td>Martha Jefferson</td>\n",
       "    </tr>\n",
       "  </tbody>\n",
       "</table>\n",
       "</div>"
      ],
      "text/plain": [
       "   RecordID                          Offense    IncidentID BlockNumber  \\\n",
       "0         1  Assist Citizen - Mental/TDO/ECO  202500015721         800   \n",
       "1         2               Lost/FoundProperty  202500015665         100   \n",
       "2         3            Larceny - Shoplifitng  202500015650        1100   \n",
       "3         4         Drug Equipment Violation  202500015645         600   \n",
       "4         5              Larceny - All Other  202500015638        1100   \n",
       "\n",
       "    StreetName Agency HourReported  ReportingOfficer                Date  \\\n",
       "0   CHERRY AVE    CPD         0009  Troche, Nicholas 2025-05-10 00:09:10   \n",
       "1    W MAIN ST    CPD         1915     Ryan, Matthew 2025-05-09 19:15:27   \n",
       "2    5TH ST SW    CPD         1755  Bentz, Benjamin  2025-05-09 17:55:43   \n",
       "3   E WATER ST    CPD         1734     Ryan, Matthew 2025-05-09 17:34:02   \n",
       "4  E MARKET ST    CPD         1633     Kinney, Dylan 2025-05-09 16:33:46   \n",
       "\n",
       "               DateString DayOfWeek  Weekend  Season  HourAMPM  TimeOfDay  \\\n",
       "0  2025-05-10 12:09:10 AM  Saturday     True  Spring  12:09 AM      Night   \n",
       "1  2025-05-09 07:15:27 PM    Friday    False  Spring  07:15 PM    Evening   \n",
       "2  2025-05-09 05:55:43 PM    Friday    False  Spring  05:55 PM    Evening   \n",
       "3  2025-05-09 05:34:02 PM    Friday    False  Spring  05:34 PM    Evening   \n",
       "4  2025-05-09 04:33:46 PM    Friday    False  Spring  04:33 PM  Afternoon   \n",
       "\n",
       "         FullStreet        lat        lon      neighborhood  \n",
       "0    800 CHERRY AVE  38.028312 -78.493379         Fifeville  \n",
       "1     100 W MAIN ST  38.030718 -78.481656     Downtown Mall  \n",
       "2    1100 5TH ST SW  38.017130 -78.497806   Johnson Village  \n",
       "3    600 E WATER ST  38.028757 -78.477608    North Downtown  \n",
       "4  1100 E MARKET ST  38.027920 -78.472110  Martha Jefferson  "
      ]
     },
     "execution_count": 10,
     "metadata": {},
     "output_type": "execute_result"
    }
   ],
   "source": [
    "# Initialize the Google Maps client.\n",
    "gmaps = googlemaps.Client(key=GOOGLE_API_KEY)\n",
    "\n",
    "# Try to load a persistent neighborhood cache if available.\n",
    "try:\n",
    "    with open(\"neighborhood_cache.pkl\", \"rb\") as f:\n",
    "        neighborhood_cache = pickle.load(f)\n",
    "    print(\"Loaded neighborhood cache.\")\n",
    "except FileNotFoundError:\n",
    "    neighborhood_cache = {}\n",
    "    print(\"No neighborhood cache found; starting fresh.\")\n",
    "\n",
    "def get_neighborhood(lat, lon):\n",
    "    \"\"\"\n",
    "    Reverse geocodes a latitude and longitude to retrieve the neighborhood.\n",
    "    Caches results to speed up subsequent lookups.\n",
    "    \"\"\"\n",
    "    key = (lat, lon)\n",
    "    if key in neighborhood_cache:\n",
    "        return neighborhood_cache[key]\n",
    "    \n",
    "    try:\n",
    "        result = gmaps.reverse_geocode((lat, lon))\n",
    "        if result:\n",
    "            # Look for the 'neighborhood' component in the first result.\n",
    "            for component in result[0]['address_components']:\n",
    "                if 'neighborhood' in component['types']:\n",
    "                    neighborhood = component['long_name']\n",
    "                    neighborhood_cache[key] = neighborhood\n",
    "                    return neighborhood\n",
    "            # If no neighborhood is found, return \"N/A\"\n",
    "            neighborhood_cache[key] = \"N/A\"\n",
    "            return \"N/A\"\n",
    "    except Exception as e:\n",
    "        print(f\"Error getting neighborhood for {lat}, {lon}: {e}\")\n",
    "        return \"N/A\"\n",
    "    \n",
    "    # Pause to respect usage limits.\n",
    "    time.sleep(1)\n",
    "\n",
    "# Example usage: Apply to your DataFrame 'df' that already has 'lat' and 'lon' columns.\n",
    "df['neighborhood'] = df.apply(lambda row: get_neighborhood(row['lat'], row['lon']), axis=1)\n",
    "\n",
    "# Save the updated neighborhood cache.\n",
    "with open(\"neighborhood_cache.pkl\", \"wb\") as f:\n",
    "    pickle.dump(neighborhood_cache, f)\n",
    "\n",
    "df.head()\n"
   ]
  },
  {
   "cell_type": "markdown",
   "id": "4db58b8f",
   "metadata": {
    "papermill": {
     "duration": 0.006702,
     "end_time": "2025-05-12T01:06:02.459533",
     "exception": false,
     "start_time": "2025-05-12T01:06:02.452831",
     "status": "completed"
    },
    "tags": []
   },
   "source": [
    "### Zip"
   ]
  },
  {
   "cell_type": "code",
   "execution_count": 11,
   "id": "73ab4485",
   "metadata": {
    "execution": {
     "iopub.execute_input": "2025-05-12T01:06:02.474050Z",
     "iopub.status.busy": "2025-05-12T01:06:02.473585Z",
     "iopub.status.idle": "2025-05-12T01:06:02.715588Z",
     "shell.execute_reply": "2025-05-12T01:06:02.715016Z"
    },
    "papermill": {
     "duration": 0.250488,
     "end_time": "2025-05-12T01:06:02.716632",
     "exception": false,
     "start_time": "2025-05-12T01:06:02.466144",
     "status": "completed"
    },
    "tags": []
   },
   "outputs": [
    {
     "name": "stdout",
     "output_type": "stream",
     "text": [
      "Loaded zip cache.\n"
     ]
    },
    {
     "data": {
      "text/html": [
       "<div>\n",
       "<style scoped>\n",
       "    .dataframe tbody tr th:only-of-type {\n",
       "        vertical-align: middle;\n",
       "    }\n",
       "\n",
       "    .dataframe tbody tr th {\n",
       "        vertical-align: top;\n",
       "    }\n",
       "\n",
       "    .dataframe thead th {\n",
       "        text-align: right;\n",
       "    }\n",
       "</style>\n",
       "<table border=\"1\" class=\"dataframe\">\n",
       "  <thead>\n",
       "    <tr style=\"text-align: right;\">\n",
       "      <th></th>\n",
       "      <th>RecordID</th>\n",
       "      <th>Offense</th>\n",
       "      <th>IncidentID</th>\n",
       "      <th>BlockNumber</th>\n",
       "      <th>StreetName</th>\n",
       "      <th>Agency</th>\n",
       "      <th>HourReported</th>\n",
       "      <th>ReportingOfficer</th>\n",
       "      <th>Date</th>\n",
       "      <th>DateString</th>\n",
       "      <th>DayOfWeek</th>\n",
       "      <th>Weekend</th>\n",
       "      <th>Season</th>\n",
       "      <th>HourAMPM</th>\n",
       "      <th>TimeOfDay</th>\n",
       "      <th>FullStreet</th>\n",
       "      <th>lat</th>\n",
       "      <th>lon</th>\n",
       "      <th>neighborhood</th>\n",
       "      <th>zip</th>\n",
       "    </tr>\n",
       "  </thead>\n",
       "  <tbody>\n",
       "    <tr>\n",
       "      <th>0</th>\n",
       "      <td>1</td>\n",
       "      <td>Assist Citizen - Mental/TDO/ECO</td>\n",
       "      <td>202500015721</td>\n",
       "      <td>800</td>\n",
       "      <td>CHERRY AVE</td>\n",
       "      <td>CPD</td>\n",
       "      <td>0009</td>\n",
       "      <td>Troche, Nicholas</td>\n",
       "      <td>2025-05-10 00:09:10</td>\n",
       "      <td>2025-05-10 12:09:10 AM</td>\n",
       "      <td>Saturday</td>\n",
       "      <td>True</td>\n",
       "      <td>Spring</td>\n",
       "      <td>12:09 AM</td>\n",
       "      <td>Night</td>\n",
       "      <td>800 CHERRY AVE</td>\n",
       "      <td>38.028312</td>\n",
       "      <td>-78.493379</td>\n",
       "      <td>Fifeville</td>\n",
       "      <td>22903</td>\n",
       "    </tr>\n",
       "    <tr>\n",
       "      <th>1</th>\n",
       "      <td>2</td>\n",
       "      <td>Lost/FoundProperty</td>\n",
       "      <td>202500015665</td>\n",
       "      <td>100</td>\n",
       "      <td>W MAIN ST</td>\n",
       "      <td>CPD</td>\n",
       "      <td>1915</td>\n",
       "      <td>Ryan, Matthew</td>\n",
       "      <td>2025-05-09 19:15:27</td>\n",
       "      <td>2025-05-09 07:15:27 PM</td>\n",
       "      <td>Friday</td>\n",
       "      <td>False</td>\n",
       "      <td>Spring</td>\n",
       "      <td>07:15 PM</td>\n",
       "      <td>Evening</td>\n",
       "      <td>100 W MAIN ST</td>\n",
       "      <td>38.030718</td>\n",
       "      <td>-78.481656</td>\n",
       "      <td>Downtown Mall</td>\n",
       "      <td>22902</td>\n",
       "    </tr>\n",
       "    <tr>\n",
       "      <th>2</th>\n",
       "      <td>3</td>\n",
       "      <td>Larceny - Shoplifitng</td>\n",
       "      <td>202500015650</td>\n",
       "      <td>1100</td>\n",
       "      <td>5TH ST SW</td>\n",
       "      <td>CPD</td>\n",
       "      <td>1755</td>\n",
       "      <td>Bentz, Benjamin</td>\n",
       "      <td>2025-05-09 17:55:43</td>\n",
       "      <td>2025-05-09 05:55:43 PM</td>\n",
       "      <td>Friday</td>\n",
       "      <td>False</td>\n",
       "      <td>Spring</td>\n",
       "      <td>05:55 PM</td>\n",
       "      <td>Evening</td>\n",
       "      <td>1100 5TH ST SW</td>\n",
       "      <td>38.017130</td>\n",
       "      <td>-78.497806</td>\n",
       "      <td>Johnson Village</td>\n",
       "      <td>22903</td>\n",
       "    </tr>\n",
       "    <tr>\n",
       "      <th>3</th>\n",
       "      <td>4</td>\n",
       "      <td>Drug Equipment Violation</td>\n",
       "      <td>202500015645</td>\n",
       "      <td>600</td>\n",
       "      <td>E WATER ST</td>\n",
       "      <td>CPD</td>\n",
       "      <td>1734</td>\n",
       "      <td>Ryan, Matthew</td>\n",
       "      <td>2025-05-09 17:34:02</td>\n",
       "      <td>2025-05-09 05:34:02 PM</td>\n",
       "      <td>Friday</td>\n",
       "      <td>False</td>\n",
       "      <td>Spring</td>\n",
       "      <td>05:34 PM</td>\n",
       "      <td>Evening</td>\n",
       "      <td>600 E WATER ST</td>\n",
       "      <td>38.028757</td>\n",
       "      <td>-78.477608</td>\n",
       "      <td>North Downtown</td>\n",
       "      <td>22902</td>\n",
       "    </tr>\n",
       "    <tr>\n",
       "      <th>4</th>\n",
       "      <td>5</td>\n",
       "      <td>Larceny - All Other</td>\n",
       "      <td>202500015638</td>\n",
       "      <td>1100</td>\n",
       "      <td>E MARKET ST</td>\n",
       "      <td>CPD</td>\n",
       "      <td>1633</td>\n",
       "      <td>Kinney, Dylan</td>\n",
       "      <td>2025-05-09 16:33:46</td>\n",
       "      <td>2025-05-09 04:33:46 PM</td>\n",
       "      <td>Friday</td>\n",
       "      <td>False</td>\n",
       "      <td>Spring</td>\n",
       "      <td>04:33 PM</td>\n",
       "      <td>Afternoon</td>\n",
       "      <td>1100 E MARKET ST</td>\n",
       "      <td>38.027920</td>\n",
       "      <td>-78.472110</td>\n",
       "      <td>Martha Jefferson</td>\n",
       "      <td>22902</td>\n",
       "    </tr>\n",
       "  </tbody>\n",
       "</table>\n",
       "</div>"
      ],
      "text/plain": [
       "   RecordID                          Offense    IncidentID BlockNumber  \\\n",
       "0         1  Assist Citizen - Mental/TDO/ECO  202500015721         800   \n",
       "1         2               Lost/FoundProperty  202500015665         100   \n",
       "2         3            Larceny - Shoplifitng  202500015650        1100   \n",
       "3         4         Drug Equipment Violation  202500015645         600   \n",
       "4         5              Larceny - All Other  202500015638        1100   \n",
       "\n",
       "    StreetName Agency HourReported  ReportingOfficer                Date  \\\n",
       "0   CHERRY AVE    CPD         0009  Troche, Nicholas 2025-05-10 00:09:10   \n",
       "1    W MAIN ST    CPD         1915     Ryan, Matthew 2025-05-09 19:15:27   \n",
       "2    5TH ST SW    CPD         1755  Bentz, Benjamin  2025-05-09 17:55:43   \n",
       "3   E WATER ST    CPD         1734     Ryan, Matthew 2025-05-09 17:34:02   \n",
       "4  E MARKET ST    CPD         1633     Kinney, Dylan 2025-05-09 16:33:46   \n",
       "\n",
       "               DateString DayOfWeek  Weekend  Season  HourAMPM  TimeOfDay  \\\n",
       "0  2025-05-10 12:09:10 AM  Saturday     True  Spring  12:09 AM      Night   \n",
       "1  2025-05-09 07:15:27 PM    Friday    False  Spring  07:15 PM    Evening   \n",
       "2  2025-05-09 05:55:43 PM    Friday    False  Spring  05:55 PM    Evening   \n",
       "3  2025-05-09 05:34:02 PM    Friday    False  Spring  05:34 PM    Evening   \n",
       "4  2025-05-09 04:33:46 PM    Friday    False  Spring  04:33 PM  Afternoon   \n",
       "\n",
       "         FullStreet        lat        lon      neighborhood    zip  \n",
       "0    800 CHERRY AVE  38.028312 -78.493379         Fifeville  22903  \n",
       "1     100 W MAIN ST  38.030718 -78.481656     Downtown Mall  22902  \n",
       "2    1100 5TH ST SW  38.017130 -78.497806   Johnson Village  22903  \n",
       "3    600 E WATER ST  38.028757 -78.477608    North Downtown  22902  \n",
       "4  1100 E MARKET ST  38.027920 -78.472110  Martha Jefferson  22902  "
      ]
     },
     "execution_count": 11,
     "metadata": {},
     "output_type": "execute_result"
    }
   ],
   "source": [
    "# Initialize the geocoder.\n",
    "geolocator = Nominatim(user_agent=\"zip_lookup\")\n",
    "\n",
    "# Try to load a persistent ZIP cache if available.\n",
    "try:\n",
    "    with open(\"zip_cache.pkl\", \"rb\") as f:\n",
    "        zip_cache = pickle.load(f)\n",
    "    print(\"Loaded zip cache.\")\n",
    "except FileNotFoundError:\n",
    "    zip_cache = {}\n",
    "    print(\"No zip cache found; starting fresh.\")\n",
    "\n",
    "def get_zip(lat, lon):\n",
    "    \"\"\"\n",
    "    Reverse geocodes a latitude and longitude to retrieve the ZIP code.\n",
    "    Caches results to speed up subsequent lookups.\n",
    "    \"\"\"\n",
    "    key = (lat, lon)\n",
    "    if key in zip_cache:\n",
    "        return zip_cache[key]\n",
    "    \n",
    "    try:\n",
    "        location = geolocator.reverse((lat, lon), exactly_one=True, timeout=10)\n",
    "        address = location.raw.get('address', {})\n",
    "        postal_code = address.get('postcode', \"N/A\")\n",
    "    except Exception as e:\n",
    "        print(f\"Error getting ZIP for {lat}, {lon}: {e}\")\n",
    "        postal_code = \"N/A\"\n",
    "    \n",
    "    zip_cache[key] = postal_code\n",
    "    # Pause to respect the usage policy.\n",
    "    time.sleep(1)\n",
    "    return postal_code\n",
    "\n",
    "# Apply the function to each row in the DataFrame.\n",
    "df['zip'] = df.apply(lambda row: get_zip(row['lat'], row['lon']), axis=1)\n",
    "\n",
    "# Save the updated ZIP cache.\n",
    "with open(\"zip_cache.pkl\", \"wb\") as f:\n",
    "    pickle.dump(zip_cache, f)\n",
    "\n",
    "df.head()\n"
   ]
  },
  {
   "cell_type": "code",
   "execution_count": 12,
   "id": "f4af6029",
   "metadata": {
    "execution": {
     "iopub.execute_input": "2025-05-12T01:06:02.731748Z",
     "iopub.status.busy": "2025-05-12T01:06:02.731541Z",
     "iopub.status.idle": "2025-05-12T01:06:02.760609Z",
     "shell.execute_reply": "2025-05-12T01:06:02.760057Z"
    },
    "papermill": {
     "duration": 0.037695,
     "end_time": "2025-05-12T01:06:02.761622",
     "exception": false,
     "start_time": "2025-05-12T01:06:02.723927",
     "status": "completed"
    },
    "tags": []
   },
   "outputs": [
    {
     "name": "stdout",
     "output_type": "stream",
     "text": [
      "                  MissingCount  MissingPercentage\n",
      "RecordID                     0               0.00\n",
      "Offense                      0               0.00\n",
      "IncidentID                   0               0.00\n",
      "BlockNumber                  0               0.00\n",
      "StreetName                   0               0.00\n",
      "Agency                       0               0.00\n",
      "HourReported                 0               0.00\n",
      "ReportingOfficer            17               0.07\n",
      "Date                         0               0.00\n",
      "DateString                   0               0.00\n",
      "DayOfWeek                    0               0.00\n",
      "Weekend                      0               0.00\n",
      "Season                       0               0.00\n",
      "HourAMPM                     0               0.00\n",
      "TimeOfDay                    0               0.00\n",
      "FullStreet                   0               0.00\n",
      "lat                          0               0.00\n",
      "lon                          0               0.00\n",
      "neighborhood                 0               0.00\n",
      "zip                          0               0.00\n"
     ]
    }
   ],
   "source": [
    "missing_info = missing_percentage(df)\n",
    "print(missing_info)\n"
   ]
  },
  {
   "cell_type": "code",
   "execution_count": 13,
   "id": "af46f504",
   "metadata": {
    "execution": {
     "iopub.execute_input": "2025-05-12T01:06:02.777039Z",
     "iopub.status.busy": "2025-05-12T01:06:02.776578Z",
     "iopub.status.idle": "2025-05-12T01:06:02.805734Z",
     "shell.execute_reply": "2025-05-12T01:06:02.805168Z"
    },
    "papermill": {
     "duration": 0.037976,
     "end_time": "2025-05-12T01:06:02.806847",
     "exception": false,
     "start_time": "2025-05-12T01:06:02.768871",
     "status": "completed"
    },
    "tags": []
   },
   "outputs": [
    {
     "name": "stdout",
     "output_type": "stream",
     "text": [
      "<class 'pandas.core.frame.DataFrame'>\n",
      "RangeIndex: 25384 entries, 0 to 25383\n",
      "Data columns (total 20 columns):\n",
      " #   Column            Non-Null Count  Dtype         \n",
      "---  ------            --------------  -----         \n",
      " 0   RecordID          25384 non-null  int64         \n",
      " 1   Offense           25384 non-null  object        \n",
      " 2   IncidentID        25384 non-null  object        \n",
      " 3   BlockNumber       25384 non-null  object        \n",
      " 4   StreetName        25384 non-null  object        \n",
      " 5   Agency            25384 non-null  object        \n",
      " 6   HourReported      25384 non-null  object        \n",
      " 7   ReportingOfficer  25367 non-null  object        \n",
      " 8   Date              25384 non-null  datetime64[ns]\n",
      " 9   DateString        25384 non-null  object        \n",
      " 10  DayOfWeek         25384 non-null  object        \n",
      " 11  Weekend           25384 non-null  bool          \n",
      " 12  Season            25384 non-null  object        \n",
      " 13  HourAMPM          25384 non-null  object        \n",
      " 14  TimeOfDay         25384 non-null  object        \n",
      " 15  FullStreet        25384 non-null  object        \n",
      " 16  lat               25384 non-null  float64       \n",
      " 17  lon               25384 non-null  float64       \n",
      " 18  neighborhood      25384 non-null  object        \n",
      " 19  zip               25384 non-null  object        \n",
      "dtypes: bool(1), datetime64[ns](1), float64(2), int64(1), object(15)\n",
      "memory usage: 3.7+ MB\n"
     ]
    }
   ],
   "source": [
    "df.info()"
   ]
  },
  {
   "cell_type": "code",
   "execution_count": 14,
   "id": "a0e7a5a1",
   "metadata": {
    "execution": {
     "iopub.execute_input": "2025-05-12T01:06:02.822292Z",
     "iopub.status.busy": "2025-05-12T01:06:02.822077Z",
     "iopub.status.idle": "2025-05-12T01:06:02.867010Z",
     "shell.execute_reply": "2025-05-12T01:06:02.866406Z"
    },
    "papermill": {
     "duration": 0.053957,
     "end_time": "2025-05-12T01:06:02.868144",
     "exception": false,
     "start_time": "2025-05-12T01:06:02.814187",
     "status": "completed"
    },
    "tags": []
   },
   "outputs": [
    {
     "data": {
      "text/html": [
       "<div>\n",
       "<style scoped>\n",
       "    .dataframe tbody tr th:only-of-type {\n",
       "        vertical-align: middle;\n",
       "    }\n",
       "\n",
       "    .dataframe tbody tr th {\n",
       "        vertical-align: top;\n",
       "    }\n",
       "\n",
       "    .dataframe thead th {\n",
       "        text-align: right;\n",
       "    }\n",
       "</style>\n",
       "<table border=\"1\" class=\"dataframe\">\n",
       "  <thead>\n",
       "    <tr style=\"text-align: right;\">\n",
       "      <th></th>\n",
       "      <th>RecordID</th>\n",
       "      <th>Offense</th>\n",
       "      <th>IncidentID</th>\n",
       "      <th>Agency</th>\n",
       "      <th>ReportingOfficer</th>\n",
       "      <th>Date</th>\n",
       "      <th>DayOfWeek</th>\n",
       "      <th>Weekend</th>\n",
       "      <th>Season</th>\n",
       "      <th>TimeOfDay</th>\n",
       "      <th>FullStreet</th>\n",
       "      <th>lat</th>\n",
       "      <th>lon</th>\n",
       "      <th>neighborhood</th>\n",
       "      <th>zip</th>\n",
       "    </tr>\n",
       "  </thead>\n",
       "  <tbody>\n",
       "    <tr>\n",
       "      <th>0</th>\n",
       "      <td>1</td>\n",
       "      <td>Assist Citizen - Mental/TDO/ECO</td>\n",
       "      <td>202500015721</td>\n",
       "      <td>CPD</td>\n",
       "      <td>Troche, Nicholas</td>\n",
       "      <td>2025-05-10 00:09:10</td>\n",
       "      <td>Saturday</td>\n",
       "      <td>True</td>\n",
       "      <td>Spring</td>\n",
       "      <td>Night</td>\n",
       "      <td>800 CHERRY AVE</td>\n",
       "      <td>38.028312</td>\n",
       "      <td>-78.493379</td>\n",
       "      <td>Fifeville</td>\n",
       "      <td>22903</td>\n",
       "    </tr>\n",
       "    <tr>\n",
       "      <th>1</th>\n",
       "      <td>2</td>\n",
       "      <td>Lost/FoundProperty</td>\n",
       "      <td>202500015665</td>\n",
       "      <td>CPD</td>\n",
       "      <td>Ryan, Matthew</td>\n",
       "      <td>2025-05-09 19:15:27</td>\n",
       "      <td>Friday</td>\n",
       "      <td>False</td>\n",
       "      <td>Spring</td>\n",
       "      <td>Evening</td>\n",
       "      <td>100 W MAIN ST</td>\n",
       "      <td>38.030718</td>\n",
       "      <td>-78.481656</td>\n",
       "      <td>Downtown Mall</td>\n",
       "      <td>22902</td>\n",
       "    </tr>\n",
       "    <tr>\n",
       "      <th>2</th>\n",
       "      <td>3</td>\n",
       "      <td>Larceny - Shoplifitng</td>\n",
       "      <td>202500015650</td>\n",
       "      <td>CPD</td>\n",
       "      <td>Bentz, Benjamin</td>\n",
       "      <td>2025-05-09 17:55:43</td>\n",
       "      <td>Friday</td>\n",
       "      <td>False</td>\n",
       "      <td>Spring</td>\n",
       "      <td>Evening</td>\n",
       "      <td>1100 5TH ST SW</td>\n",
       "      <td>38.017130</td>\n",
       "      <td>-78.497806</td>\n",
       "      <td>Johnson Village</td>\n",
       "      <td>22903</td>\n",
       "    </tr>\n",
       "    <tr>\n",
       "      <th>3</th>\n",
       "      <td>4</td>\n",
       "      <td>Drug Equipment Violation</td>\n",
       "      <td>202500015645</td>\n",
       "      <td>CPD</td>\n",
       "      <td>Ryan, Matthew</td>\n",
       "      <td>2025-05-09 17:34:02</td>\n",
       "      <td>Friday</td>\n",
       "      <td>False</td>\n",
       "      <td>Spring</td>\n",
       "      <td>Evening</td>\n",
       "      <td>600 E WATER ST</td>\n",
       "      <td>38.028757</td>\n",
       "      <td>-78.477608</td>\n",
       "      <td>North Downtown</td>\n",
       "      <td>22902</td>\n",
       "    </tr>\n",
       "    <tr>\n",
       "      <th>4</th>\n",
       "      <td>5</td>\n",
       "      <td>Larceny - All Other</td>\n",
       "      <td>202500015638</td>\n",
       "      <td>CPD</td>\n",
       "      <td>Kinney, Dylan</td>\n",
       "      <td>2025-05-09 16:33:46</td>\n",
       "      <td>Friday</td>\n",
       "      <td>False</td>\n",
       "      <td>Spring</td>\n",
       "      <td>Afternoon</td>\n",
       "      <td>1100 E MARKET ST</td>\n",
       "      <td>38.027920</td>\n",
       "      <td>-78.472110</td>\n",
       "      <td>Martha Jefferson</td>\n",
       "      <td>22902</td>\n",
       "    </tr>\n",
       "  </tbody>\n",
       "</table>\n",
       "</div>"
      ],
      "text/plain": [
       "   RecordID                          Offense    IncidentID Agency  \\\n",
       "0         1  Assist Citizen - Mental/TDO/ECO  202500015721    CPD   \n",
       "1         2               Lost/FoundProperty  202500015665    CPD   \n",
       "2         3            Larceny - Shoplifitng  202500015650    CPD   \n",
       "3         4         Drug Equipment Violation  202500015645    CPD   \n",
       "4         5              Larceny - All Other  202500015638    CPD   \n",
       "\n",
       "   ReportingOfficer                Date DayOfWeek  Weekend  Season  TimeOfDay  \\\n",
       "0  Troche, Nicholas 2025-05-10 00:09:10  Saturday     True  Spring      Night   \n",
       "1     Ryan, Matthew 2025-05-09 19:15:27    Friday    False  Spring    Evening   \n",
       "2  Bentz, Benjamin  2025-05-09 17:55:43    Friday    False  Spring    Evening   \n",
       "3     Ryan, Matthew 2025-05-09 17:34:02    Friday    False  Spring    Evening   \n",
       "4     Kinney, Dylan 2025-05-09 16:33:46    Friday    False  Spring  Afternoon   \n",
       "\n",
       "         FullStreet        lat        lon      neighborhood    zip  \n",
       "0    800 CHERRY AVE  38.028312 -78.493379         Fifeville  22903  \n",
       "1     100 W MAIN ST  38.030718 -78.481656     Downtown Mall  22902  \n",
       "2    1100 5TH ST SW  38.017130 -78.497806   Johnson Village  22903  \n",
       "3    600 E WATER ST  38.028757 -78.477608    North Downtown  22902  \n",
       "4  1100 E MARKET ST  38.027920 -78.472110  Martha Jefferson  22902  "
      ]
     },
     "execution_count": 14,
     "metadata": {},
     "output_type": "execute_result"
    }
   ],
   "source": [
    "# Now drop the original BlockNumber and StreetName columns\n",
    "df.drop(columns=['BlockNumber', 'StreetName','HourAMPM','HourReported','DateString'], inplace=True)\n",
    "df[\"zip\"] = df[\"zip\"].astype(str)\n",
    "\n",
    "# Fill all missing values in the DataFrame with \"N/A\"\n",
    "df.replace({None: \"N/A\", np.nan: \"N/A\", \"\": \"N/A\"}, inplace=True)\n",
    "df.head()"
   ]
  },
  {
   "cell_type": "code",
   "execution_count": 15,
   "id": "0ff5453f",
   "metadata": {
    "execution": {
     "iopub.execute_input": "2025-05-12T01:06:02.884634Z",
     "iopub.status.busy": "2025-05-12T01:06:02.884132Z",
     "iopub.status.idle": "2025-05-12T01:06:02.905613Z",
     "shell.execute_reply": "2025-05-12T01:06:02.905039Z"
    },
    "papermill": {
     "duration": 0.030842,
     "end_time": "2025-05-12T01:06:02.906700",
     "exception": false,
     "start_time": "2025-05-12T01:06:02.875858",
     "status": "completed"
    },
    "tags": []
   },
   "outputs": [
    {
     "name": "stdout",
     "output_type": "stream",
     "text": [
      "                  MissingCount  MissingPercentage\n",
      "RecordID                     0                0.0\n",
      "Offense                      0                0.0\n",
      "IncidentID                   0                0.0\n",
      "Agency                       0                0.0\n",
      "ReportingOfficer             0                0.0\n",
      "Date                         0                0.0\n",
      "DayOfWeek                    0                0.0\n",
      "Weekend                      0                0.0\n",
      "Season                       0                0.0\n",
      "TimeOfDay                    0                0.0\n",
      "FullStreet                   0                0.0\n",
      "lat                          0                0.0\n",
      "lon                          0                0.0\n",
      "neighborhood                 0                0.0\n",
      "zip                          0                0.0\n"
     ]
    }
   ],
   "source": [
    "missing_info = missing_percentage(df)\n",
    "print(missing_info)"
   ]
  },
  {
   "cell_type": "code",
   "execution_count": 16,
   "id": "464517f1",
   "metadata": {
    "execution": {
     "iopub.execute_input": "2025-05-12T01:06:02.923036Z",
     "iopub.status.busy": "2025-05-12T01:06:02.922552Z",
     "iopub.status.idle": "2025-05-12T01:06:02.926974Z",
     "shell.execute_reply": "2025-05-12T01:06:02.926450Z"
    },
    "papermill": {
     "duration": 0.013643,
     "end_time": "2025-05-12T01:06:02.928058",
     "exception": false,
     "start_time": "2025-05-12T01:06:02.914415",
     "status": "completed"
    },
    "tags": []
   },
   "outputs": [
    {
     "data": {
      "text/plain": [
       "Index(['RecordID', 'Offense', 'IncidentID', 'Agency', 'ReportingOfficer',\n",
       "       'Date', 'DayOfWeek', 'Weekend', 'Season', 'TimeOfDay', 'FullStreet',\n",
       "       'lat', 'lon', 'neighborhood', 'zip'],\n",
       "      dtype='object')"
      ]
     },
     "execution_count": 16,
     "metadata": {},
     "output_type": "execute_result"
    }
   ],
   "source": [
    "df.columns"
   ]
  },
  {
   "cell_type": "code",
   "execution_count": 17,
   "id": "8b9a6d9f",
   "metadata": {
    "execution": {
     "iopub.execute_input": "2025-05-12T01:06:02.944184Z",
     "iopub.status.busy": "2025-05-12T01:06:02.943750Z",
     "iopub.status.idle": "2025-05-12T01:06:02.966231Z",
     "shell.execute_reply": "2025-05-12T01:06:02.965547Z"
    },
    "papermill": {
     "duration": 0.031776,
     "end_time": "2025-05-12T01:06:02.967403",
     "exception": false,
     "start_time": "2025-05-12T01:06:02.935627",
     "status": "completed"
    },
    "tags": []
   },
   "outputs": [
    {
     "name": "stdout",
     "output_type": "stream",
     "text": [
      "<class 'pandas.core.frame.DataFrame'>\n",
      "RangeIndex: 25384 entries, 0 to 25383\n",
      "Data columns (total 15 columns):\n",
      " #   Column            Non-Null Count  Dtype         \n",
      "---  ------            --------------  -----         \n",
      " 0   RecordID          25384 non-null  int64         \n",
      " 1   Offense           25384 non-null  object        \n",
      " 2   IncidentID        25384 non-null  object        \n",
      " 3   Agency            25384 non-null  object        \n",
      " 4   ReportingOfficer  25384 non-null  object        \n",
      " 5   Date              25384 non-null  datetime64[ns]\n",
      " 6   DayOfWeek         25384 non-null  object        \n",
      " 7   Weekend           25384 non-null  bool          \n",
      " 8   Season            25384 non-null  object        \n",
      " 9   TimeOfDay         25384 non-null  object        \n",
      " 10  FullStreet        25384 non-null  object        \n",
      " 11  lat               25384 non-null  float64       \n",
      " 12  lon               25384 non-null  float64       \n",
      " 13  neighborhood      25384 non-null  object        \n",
      " 14  zip               25384 non-null  object        \n",
      "dtypes: bool(1), datetime64[ns](1), float64(2), int64(1), object(10)\n",
      "memory usage: 2.7+ MB\n"
     ]
    }
   ],
   "source": [
    "df.info()"
   ]
  },
  {
   "cell_type": "markdown",
   "id": "ee480395",
   "metadata": {
    "papermill": {
     "duration": 0.007499,
     "end_time": "2025-05-12T01:06:02.982812",
     "exception": false,
     "start_time": "2025-05-12T01:06:02.975313",
     "status": "completed"
    },
    "tags": []
   },
   "source": [
    "### Export Clean Data"
   ]
  },
  {
   "cell_type": "code",
   "execution_count": 18,
   "id": "c358d27e",
   "metadata": {
    "execution": {
     "iopub.execute_input": "2025-05-12T01:06:02.999759Z",
     "iopub.status.busy": "2025-05-12T01:06:02.999148Z",
     "iopub.status.idle": "2025-05-12T01:06:12.418914Z",
     "shell.execute_reply": "2025-05-12T01:06:12.418161Z"
    },
    "papermill": {
     "duration": 9.429648,
     "end_time": "2025-05-12T01:06:12.420155",
     "exception": false,
     "start_time": "2025-05-12T01:06:02.990507",
     "status": "completed"
    },
    "tags": []
   },
   "outputs": [
    {
     "name": "stdout",
     "output_type": "stream",
     "text": [
      "Project Root: /home/runner/work/crime-data/crime-data\n"
     ]
    },
    {
     "name": "stdout",
     "output_type": "stream",
     "text": [
      "Data saved to: /home/runner/work/crime-data/crime-data/data/charlottesville_crime_incidents.csv\n"
     ]
    },
    {
     "name": "stdout",
     "output_type": "stream",
     "text": [
      "Excel saved to: /home/runner/work/crime-data/crime-data/data/charlottesville_crime_incidents.xlsx\n"
     ]
    }
   ],
   "source": [
    "# Determine the project root (assuming papermill is run from the repository root)\n",
    "project_root = os.getcwd()\n",
    "print(\"Project Root:\", project_root)\n",
    "\n",
    "# Set the data directory within the project root\n",
    "data_dir = os.path.join(project_root, \"data\")\n",
    "\n",
    "# Ensure the \"data\" directory exists (create it if it doesn't)\n",
    "if not os.path.exists(data_dir):\n",
    "    os.makedirs(data_dir)\n",
    "\n",
    "# Export the DataFrame to CSV in the \"data\" folder located in the project root\n",
    "csv_path = os.path.join(data_dir, \"charlottesville_crime_incidents.csv\")\n",
    "df.to_csv(csv_path, index=False)\n",
    "print(\"Data saved to:\", csv_path)\n",
    "\n",
    "# Construct the path to your Excel file\n",
    "excel_path = os.path.join(data_dir, \"charlottesville_crime_incidents.xlsx\")\n",
    "\n",
    "# Export the DataFrame to Excel\n",
    "df.to_excel(excel_path, index=False)\n",
    "print(\"Excel saved to:\", excel_path)\n"
   ]
  },
  {
   "cell_type": "markdown",
   "id": "30254c14",
   "metadata": {
    "papermill": {
     "duration": 0.007761,
     "end_time": "2025-05-12T01:06:12.436134",
     "exception": false,
     "start_time": "2025-05-12T01:06:12.428373",
     "status": "completed"
    },
    "tags": []
   },
   "source": [
    "## Predictive Analytics"
   ]
  },
  {
   "cell_type": "code",
   "execution_count": 19,
   "id": "3c6fdb02",
   "metadata": {
    "execution": {
     "iopub.execute_input": "2025-05-12T01:06:12.453078Z",
     "iopub.status.busy": "2025-05-12T01:06:12.452622Z",
     "iopub.status.idle": "2025-05-12T01:06:12.464546Z",
     "shell.execute_reply": "2025-05-12T01:06:12.463848Z"
    },
    "papermill": {
     "duration": 0.021608,
     "end_time": "2025-05-12T01:06:12.465615",
     "exception": false,
     "start_time": "2025-05-12T01:06:12.444007",
     "status": "completed"
    },
    "tags": []
   },
   "outputs": [
    {
     "data": {
      "text/html": [
       "<div>\n",
       "<style scoped>\n",
       "    .dataframe tbody tr th:only-of-type {\n",
       "        vertical-align: middle;\n",
       "    }\n",
       "\n",
       "    .dataframe tbody tr th {\n",
       "        vertical-align: top;\n",
       "    }\n",
       "\n",
       "    .dataframe thead th {\n",
       "        text-align: right;\n",
       "    }\n",
       "</style>\n",
       "<table border=\"1\" class=\"dataframe\">\n",
       "  <thead>\n",
       "    <tr style=\"text-align: right;\">\n",
       "      <th></th>\n",
       "      <th>RecordID</th>\n",
       "      <th>Offense</th>\n",
       "      <th>IncidentID</th>\n",
       "      <th>Agency</th>\n",
       "      <th>ReportingOfficer</th>\n",
       "      <th>Date</th>\n",
       "      <th>DayOfWeek</th>\n",
       "      <th>Weekend</th>\n",
       "      <th>Season</th>\n",
       "      <th>TimeOfDay</th>\n",
       "      <th>FullStreet</th>\n",
       "      <th>lat</th>\n",
       "      <th>lon</th>\n",
       "      <th>neighborhood</th>\n",
       "      <th>zip</th>\n",
       "    </tr>\n",
       "  </thead>\n",
       "  <tbody>\n",
       "    <tr>\n",
       "      <th>0</th>\n",
       "      <td>1</td>\n",
       "      <td>Assist Citizen - Mental/TDO/ECO</td>\n",
       "      <td>202500015721</td>\n",
       "      <td>CPD</td>\n",
       "      <td>Troche, Nicholas</td>\n",
       "      <td>2025-05-10 00:09:10</td>\n",
       "      <td>Saturday</td>\n",
       "      <td>True</td>\n",
       "      <td>Spring</td>\n",
       "      <td>Night</td>\n",
       "      <td>800 CHERRY AVE</td>\n",
       "      <td>38.028312</td>\n",
       "      <td>-78.493379</td>\n",
       "      <td>Fifeville</td>\n",
       "      <td>22903</td>\n",
       "    </tr>\n",
       "    <tr>\n",
       "      <th>1</th>\n",
       "      <td>2</td>\n",
       "      <td>Lost/FoundProperty</td>\n",
       "      <td>202500015665</td>\n",
       "      <td>CPD</td>\n",
       "      <td>Ryan, Matthew</td>\n",
       "      <td>2025-05-09 19:15:27</td>\n",
       "      <td>Friday</td>\n",
       "      <td>False</td>\n",
       "      <td>Spring</td>\n",
       "      <td>Evening</td>\n",
       "      <td>100 W MAIN ST</td>\n",
       "      <td>38.030718</td>\n",
       "      <td>-78.481656</td>\n",
       "      <td>Downtown Mall</td>\n",
       "      <td>22902</td>\n",
       "    </tr>\n",
       "    <tr>\n",
       "      <th>2</th>\n",
       "      <td>3</td>\n",
       "      <td>Larceny - Shoplifitng</td>\n",
       "      <td>202500015650</td>\n",
       "      <td>CPD</td>\n",
       "      <td>Bentz, Benjamin</td>\n",
       "      <td>2025-05-09 17:55:43</td>\n",
       "      <td>Friday</td>\n",
       "      <td>False</td>\n",
       "      <td>Spring</td>\n",
       "      <td>Evening</td>\n",
       "      <td>1100 5TH ST SW</td>\n",
       "      <td>38.017130</td>\n",
       "      <td>-78.497806</td>\n",
       "      <td>Johnson Village</td>\n",
       "      <td>22903</td>\n",
       "    </tr>\n",
       "    <tr>\n",
       "      <th>3</th>\n",
       "      <td>4</td>\n",
       "      <td>Drug Equipment Violation</td>\n",
       "      <td>202500015645</td>\n",
       "      <td>CPD</td>\n",
       "      <td>Ryan, Matthew</td>\n",
       "      <td>2025-05-09 17:34:02</td>\n",
       "      <td>Friday</td>\n",
       "      <td>False</td>\n",
       "      <td>Spring</td>\n",
       "      <td>Evening</td>\n",
       "      <td>600 E WATER ST</td>\n",
       "      <td>38.028757</td>\n",
       "      <td>-78.477608</td>\n",
       "      <td>North Downtown</td>\n",
       "      <td>22902</td>\n",
       "    </tr>\n",
       "    <tr>\n",
       "      <th>4</th>\n",
       "      <td>5</td>\n",
       "      <td>Larceny - All Other</td>\n",
       "      <td>202500015638</td>\n",
       "      <td>CPD</td>\n",
       "      <td>Kinney, Dylan</td>\n",
       "      <td>2025-05-09 16:33:46</td>\n",
       "      <td>Friday</td>\n",
       "      <td>False</td>\n",
       "      <td>Spring</td>\n",
       "      <td>Afternoon</td>\n",
       "      <td>1100 E MARKET ST</td>\n",
       "      <td>38.027920</td>\n",
       "      <td>-78.472110</td>\n",
       "      <td>Martha Jefferson</td>\n",
       "      <td>22902</td>\n",
       "    </tr>\n",
       "  </tbody>\n",
       "</table>\n",
       "</div>"
      ],
      "text/plain": [
       "   RecordID                          Offense    IncidentID Agency  \\\n",
       "0         1  Assist Citizen - Mental/TDO/ECO  202500015721    CPD   \n",
       "1         2               Lost/FoundProperty  202500015665    CPD   \n",
       "2         3            Larceny - Shoplifitng  202500015650    CPD   \n",
       "3         4         Drug Equipment Violation  202500015645    CPD   \n",
       "4         5              Larceny - All Other  202500015638    CPD   \n",
       "\n",
       "   ReportingOfficer                Date DayOfWeek  Weekend  Season  TimeOfDay  \\\n",
       "0  Troche, Nicholas 2025-05-10 00:09:10  Saturday     True  Spring      Night   \n",
       "1     Ryan, Matthew 2025-05-09 19:15:27    Friday    False  Spring    Evening   \n",
       "2  Bentz, Benjamin  2025-05-09 17:55:43    Friday    False  Spring    Evening   \n",
       "3     Ryan, Matthew 2025-05-09 17:34:02    Friday    False  Spring    Evening   \n",
       "4     Kinney, Dylan 2025-05-09 16:33:46    Friday    False  Spring  Afternoon   \n",
       "\n",
       "         FullStreet        lat        lon      neighborhood    zip  \n",
       "0    800 CHERRY AVE  38.028312 -78.493379         Fifeville  22903  \n",
       "1     100 W MAIN ST  38.030718 -78.481656     Downtown Mall  22902  \n",
       "2    1100 5TH ST SW  38.017130 -78.497806   Johnson Village  22903  \n",
       "3    600 E WATER ST  38.028757 -78.477608    North Downtown  22902  \n",
       "4  1100 E MARKET ST  38.027920 -78.472110  Martha Jefferson  22902  "
      ]
     },
     "execution_count": 19,
     "metadata": {},
     "output_type": "execute_result"
    }
   ],
   "source": [
    "df.head()"
   ]
  },
  {
   "cell_type": "code",
   "execution_count": 20,
   "id": "8172040f",
   "metadata": {
    "execution": {
     "iopub.execute_input": "2025-05-12T01:06:12.482444Z",
     "iopub.status.busy": "2025-05-12T01:06:12.482196Z",
     "iopub.status.idle": "2025-05-12T01:06:12.486725Z",
     "shell.execute_reply": "2025-05-12T01:06:12.486193Z"
    },
    "papermill": {
     "duration": 0.014103,
     "end_time": "2025-05-12T01:06:12.487746",
     "exception": false,
     "start_time": "2025-05-12T01:06:12.473643",
     "status": "completed"
    },
    "tags": []
   },
   "outputs": [
    {
     "data": {
      "text/plain": [
       "Index(['RecordID', 'Offense', 'IncidentID', 'Agency', 'ReportingOfficer',\n",
       "       'Date', 'DayOfWeek', 'Weekend', 'Season', 'TimeOfDay', 'FullStreet',\n",
       "       'lat', 'lon', 'neighborhood', 'zip'],\n",
       "      dtype='object')"
      ]
     },
     "execution_count": 20,
     "metadata": {},
     "output_type": "execute_result"
    }
   ],
   "source": [
    "df.columns"
   ]
  },
  {
   "cell_type": "markdown",
   "id": "4f61b6a8",
   "metadata": {
    "papermill": {
     "duration": 0.009036,
     "end_time": "2025-05-12T01:06:12.504942",
     "exception": false,
     "start_time": "2025-05-12T01:06:12.495906",
     "status": "completed"
    },
    "tags": []
   },
   "source": [
    "### Data Preparation\n",
    "\n",
    "We need to ensure the data is in the correct format for modeling and can handle missing values, categorical variables, and dates. Here's how to prepare your data:"
   ]
  },
  {
   "cell_type": "code",
   "execution_count": 21,
   "id": "52e9a9ee",
   "metadata": {
    "execution": {
     "iopub.execute_input": "2025-05-12T01:06:12.522125Z",
     "iopub.status.busy": "2025-05-12T01:06:12.521876Z",
     "iopub.status.idle": "2025-05-12T01:06:16.160711Z",
     "shell.execute_reply": "2025-05-12T01:06:16.159997Z"
    },
    "papermill": {
     "duration": 3.64912,
     "end_time": "2025-05-12T01:06:16.162096",
     "exception": false,
     "start_time": "2025-05-12T01:06:12.512976",
     "status": "completed"
    },
    "tags": []
   },
   "outputs": [],
   "source": [
    "import pandas as pd\n",
    "from sklearn.model_selection import train_test_split\n",
    "from sklearn.preprocessing import OneHotEncoder, LabelEncoder\n",
    "from sklearn.ensemble import RandomForestClassifier\n",
    "from sklearn.linear_model import LogisticRegression\n",
    "from sklearn.tree import DecisionTreeClassifier\n",
    "from sklearn.metrics import classification_report, accuracy_score\n",
    "import seaborn as sns\n",
    "import matplotlib.pyplot as plt\n",
    "\n",
    "# Convert 'Date' to datetime\n",
    "df['Date'] = pd.to_datetime(df['Date'])\n",
    "\n",
    "# Feature engineering: Extract additional time-based features\n",
    "df['Year'] = df['Date'].dt.year\n",
    "df['Month'] = df['Date'].dt.month\n",
    "df['DayOfMonth'] = df['Date'].dt.day\n",
    "\n",
    "# One-hot encoding for 'FullStreet', 'neighborhood', 'zip'\n",
    "df = pd.get_dummies(df, columns=['FullStreet', 'neighborhood', 'zip'], drop_first=True)\n",
    "\n",
    "# Label encoding for ordered variables (those with a natural order like 'DayOfWeek', 'Season', 'TimeOfDay')\n",
    "label_encoders = {}\n",
    "for column in ['DayOfWeek', 'Season', 'TimeOfDay', 'Agency', 'ReportingOfficer']:  # Example ordinal variables\n",
    "    le = LabelEncoder()\n",
    "    df[column] = le.fit_transform(df[column])\n",
    "    label_encoders[column] = le\n",
    "\n",
    "# Filter the dataset to include only the offenses of interest\n",
    "offenses_of_interest = [\n",
    "    'Hit and Run', 'Assault Simple', 'Suspicious Activity', 'Vandalism', \n",
    "    'Larceny - From Mot Vehicle', 'Larceny - All Other', \n",
    "    'Assist Citizen - Mental/TDO/ECO', 'Lost/FoundProperty'\n",
    "]\n",
    "\n",
    "df = df[df['Offense'].isin(offenses_of_interest)]\n",
    "\n",
    "# Label encode the target variable (Offense)\n",
    "offense_encoder = LabelEncoder()\n",
    "df['Offense'] = offense_encoder.fit_transform(df['Offense'])\n",
    "\n",
    "# Separate features (X) and target (y)\n",
    "X = df[['Year', 'Month', 'DayOfMonth', 'DayOfWeek', 'Weekend', 'Season', 'TimeOfDay', 'lat', 'lon', 'Agency', 'ReportingOfficer']]\n",
    "y = df['Offense']  # Offense is now the encoded target variable\n",
    "\n",
    "# Split the data into training and testing sets\n",
    "X_train, X_test, y_train, y_test = train_test_split(X, y, test_size=0.3, random_state=42)\n"
   ]
  },
  {
   "cell_type": "markdown",
   "id": "788cf148",
   "metadata": {
    "papermill": {
     "duration": 0.008202,
     "end_time": "2025-05-12T01:06:16.178834",
     "exception": false,
     "start_time": "2025-05-12T01:06:16.170632",
     "status": "completed"
    },
    "tags": []
   },
   "source": [
    "### Model Training\n",
    "\n",
    "Here we will train several models (e.g., Random Forest, Logistic Regression, and Decision Tree). We will use cross-validation to choose the best model based on accuracy, and then explain the impact of the variables."
   ]
  },
  {
   "cell_type": "code",
   "execution_count": 22,
   "id": "72822396",
   "metadata": {
    "execution": {
     "iopub.execute_input": "2025-05-12T01:06:16.196496Z",
     "iopub.status.busy": "2025-05-12T01:06:16.195767Z",
     "iopub.status.idle": "2025-05-12T01:06:19.679614Z",
     "shell.execute_reply": "2025-05-12T01:06:19.679042Z"
    },
    "papermill": {
     "duration": 3.493836,
     "end_time": "2025-05-12T01:06:19.680699",
     "exception": false,
     "start_time": "2025-05-12T01:06:16.186863",
     "status": "completed"
    },
    "tags": []
   },
   "outputs": [
    {
     "name": "stderr",
     "output_type": "stream",
     "text": [
      "/opt/hostedtoolcache/Python/3.9.22/x64/lib/python3.9/site-packages/sklearn/linear_model/_logistic.py:465: ConvergenceWarning: lbfgs failed to converge (status=1):\n",
      "STOP: TOTAL NO. of ITERATIONS REACHED LIMIT.\n",
      "\n",
      "Increase the number of iterations (max_iter) or scale the data as shown in:\n",
      "    https://scikit-learn.org/stable/modules/preprocessing.html\n",
      "Please also refer to the documentation for alternative solver options:\n",
      "    https://scikit-learn.org/stable/modules/linear_model.html#logistic-regression\n",
      "  n_iter_i = _check_optimize_result(\n",
      "/opt/hostedtoolcache/Python/3.9.22/x64/lib/python3.9/site-packages/sklearn/metrics/_classification.py:1565: UndefinedMetricWarning: Precision is ill-defined and being set to 0.0 in labels with no predicted samples. Use `zero_division` parameter to control this behavior.\n",
      "  _warn_prf(average, modifier, f\"{metric.capitalize()} is\", len(result))\n",
      "/opt/hostedtoolcache/Python/3.9.22/x64/lib/python3.9/site-packages/sklearn/metrics/_classification.py:1565: UndefinedMetricWarning: Precision is ill-defined and being set to 0.0 in labels with no predicted samples. Use `zero_division` parameter to control this behavior.\n",
      "  _warn_prf(average, modifier, f\"{metric.capitalize()} is\", len(result))\n",
      "/opt/hostedtoolcache/Python/3.9.22/x64/lib/python3.9/site-packages/sklearn/metrics/_classification.py:1565: UndefinedMetricWarning: Precision is ill-defined and being set to 0.0 in labels with no predicted samples. Use `zero_division` parameter to control this behavior.\n",
      "  _warn_prf(average, modifier, f\"{metric.capitalize()} is\", len(result))\n"
     ]
    },
    {
     "name": "stdout",
     "output_type": "stream",
     "text": [
      "\n",
      "Classification Report for All Models:\n",
      "\n",
      "Model: RandomForest\n",
      "Accuracy: 0.2939\n",
      "              precision    recall  f1-score      support\n",
      "0              0.290411  0.350993  0.317841   604.000000\n",
      "1              0.354949  0.228070  0.277704   456.000000\n",
      "2              0.310769  0.454273  0.369062   667.000000\n",
      "3              0.235589  0.222749  0.228989   422.000000\n",
      "4              0.326848  0.240688  0.277228   349.000000\n",
      "5              0.251685  0.226263  0.238298   495.000000\n",
      "6              0.298701  0.234216  0.262557   491.000000\n",
      "accuracy       0.293915  0.293915  0.293915     0.293915\n",
      "macro avg      0.295565  0.279607  0.281668  3484.000000\n",
      "weighted avg   0.295431  0.293915  0.288471  3484.000000\n"
     ]
    },
    {
     "data": {
      "image/png": "[encoded data removed]",
      "text/plain": [
       "<Figure size 800x600 with 2 Axes>"
      ]
     },
     "metadata": {},
     "output_type": "display_data"
    },
    {
     "name": "stdout",
     "output_type": "stream",
     "text": [
      "\n",
      "Model: LogisticRegression\n",
      "Accuracy: 0.2058\n",
      "              precision    recall  f1-score      support\n",
      "0              0.202721  0.493377  0.287367   604.000000\n",
      "1              0.000000  0.000000  0.000000   456.000000\n",
      "2              0.208354  0.628186  0.312920   667.000000\n",
      "3              0.000000  0.000000  0.000000   422.000000\n",
      "4              0.000000  0.000000  0.000000   349.000000\n",
      "5              0.000000  0.000000  0.000000   495.000000\n",
      "6              0.000000  0.000000  0.000000   491.000000\n",
      "accuracy       0.205798  0.205798  0.205798     0.205798\n",
      "macro avg      0.058725  0.160223  0.085755  3484.000000\n",
      "weighted avg   0.075033  0.205798  0.109727  3484.000000\n"
     ]
    },
    {
     "data": {
      "image/png": "[encoded data removed]",
      "text/plain": [
       "<Figure size 800x600 with 2 Axes>"
      ]
     },
     "metadata": {},
     "output_type": "display_data"
    },
    {
     "name": "stdout",
     "output_type": "stream",
     "text": [
      "\n",
      "Model: DecisionTree\n",
      "Accuracy: 0.2253\n",
      "              precision    recall  f1-score      support\n",
      "0              0.236842  0.223510  0.229983   604.000000\n",
      "1              0.272512  0.252193  0.261959   456.000000\n",
      "2              0.287009  0.284858  0.285929   667.000000\n",
      "3              0.199561  0.215640  0.207289   422.000000\n",
      "4              0.185185  0.171920  0.178306   349.000000\n",
      "5              0.172348  0.183838  0.177908   495.000000\n",
      "6              0.197318  0.209776  0.203356   491.000000\n",
      "accuracy       0.225316  0.225316  0.225316     0.225316\n",
      "macro avg      0.221539  0.220248  0.220676  3484.000000\n",
      "weighted avg   0.226692  0.225316  0.225802  3484.000000\n"
     ]
    },
    {
     "data": {
      "image/png": "[encoded data removed]",
      "text/plain": [
       "<Figure size 800x600 with 2 Axes>"
      ]
     },
     "metadata": {},
     "output_type": "display_data"
    },
    {
     "name": "stdout",
     "output_type": "stream",
     "text": [
      "\n",
      "Best Model:\n",
      "Best Model: RandomForestClassifier()\n",
      "Best Model Accuracy: 0.2939\n"
     ]
    }
   ],
   "source": [
    "import pandas as pd\n",
    "from sklearn.model_selection import train_test_split\n",
    "from sklearn.ensemble import RandomForestClassifier\n",
    "from sklearn.linear_model import LogisticRegression\n",
    "from sklearn.tree import DecisionTreeClassifier\n",
    "from sklearn.metrics import classification_report, accuracy_score, confusion_matrix\n",
    "import seaborn as sns\n",
    "import matplotlib.pyplot as plt\n",
    "\n",
    "# Define models\n",
    "models = {\n",
    "    'RandomForest': RandomForestClassifier(),\n",
    "    'LogisticRegression': LogisticRegression(max_iter=1000),\n",
    "    'DecisionTree': DecisionTreeClassifier()\n",
    "}\n",
    "\n",
    "# Train models and evaluate them\n",
    "best_model = None\n",
    "best_score = 0\n",
    "model_reports = {}\n",
    "\n",
    "for model_name, model in models.items():\n",
    "    model.fit(X_train, y_train)  # Train model\n",
    "    y_pred = model.predict(X_test)  # Make predictions\n",
    "    \n",
    "    # Calculate accuracy and generate classification report\n",
    "    accuracy = accuracy_score(y_test, y_pred)\n",
    "    model_reports[model_name] = classification_report(y_test, y_pred, output_dict=True)  # Store as a dictionary for easier analysis\n",
    "    \n",
    "    # Track best performing model\n",
    "    if accuracy > best_score:\n",
    "        best_score = accuracy\n",
    "        best_model = model\n",
    "\n",
    "# Display classification reports and confusion matrices\n",
    "print(\"\\nClassification Report for All Models:\")\n",
    "for model_name, report in model_reports.items():\n",
    "    print(f\"\\nModel: {model_name}\")\n",
    "    print(\"Accuracy: {:.4f}\".format(accuracy_score(y_test, models[model_name].predict(X_test))))  # Display accuracy\n",
    "    print(pd.DataFrame(report).transpose())  # Display classification report as a DataFrame\n",
    "\n",
    "    # Plot Confusion Matrix\n",
    "    cm = confusion_matrix(y_test, models[model_name].predict(X_test))\n",
    "    plt.figure(figsize=(8, 6))\n",
    "    sns.heatmap(cm, annot=True, fmt=\"d\", cmap='Blues', xticklabels=offense_encoder.classes_, yticklabels=offense_encoder.classes_)\n",
    "    plt.title(f\"Confusion Matrix - {model_name}\")\n",
    "    plt.xlabel('Predicted Labels')\n",
    "    plt.ylabel('True Labels')\n",
    "    plt.show()\n",
    "\n",
    "# Display best model details\n",
    "print(\"\\nBest Model:\")\n",
    "print(f\"Best Model: {best_model}\")\n",
    "print(f\"Best Model Accuracy: {best_score:.4f}\")\n"
   ]
  },
  {
   "cell_type": "markdown",
   "id": "013eea64",
   "metadata": {
    "papermill": {
     "duration": 0.010664,
     "end_time": "2025-05-12T01:06:19.702893",
     "exception": false,
     "start_time": "2025-05-12T01:06:19.692229",
     "status": "completed"
    },
    "tags": []
   },
   "source": [
    "#### Classification Report for All Models:\n",
    "\n",
    "### Explanation of the Classification Results (RandomForest Model)\n",
    "\n",
    "The results you provided are from a **Random Forest** model, which is used for predicting different types of offenses. Let's break down the key components of the results:\n",
    "\n",
    "#### 1. **Accuracy: 0.2822**\n",
    "   - **Accuracy** measures the overall percentage of correct predictions made by the model. An accuracy of 28.22% means the model correctly predicted the offense in about 28% of the cases. This indicates the model's predictions are not highly reliable, as the accuracy is quite low.\n",
    "\n",
    "#### 2. **Classification Report:**\n",
    "   The classification report includes precision, recall, and F1-score for each offense. Let's go over these terms and how they apply to the results:\n",
    "\n",
    "   - **Precision**: The proportion of true positive predictions out of all positive predictions made by the model for a specific class (offense).\n",
    "   - **Recall**: The proportion of true positive predictions out of all actual positive instances in the dataset.\n",
    "   - **F1-Score**: The harmonic mean of precision and recall, providing a balance between the two metrics.\n",
    "   - **Support**: The number of actual occurrences of each class in the test set.\n",
    "\n",
    "   Let's analyze each offense based on these metrics:\n",
    "\n",
    "   | **Offense**                        | **Precision** | **Recall** | **F1-Score** | **Support** |\n",
    "   |------------------------------------|---------------|------------|--------------|-------------|\n",
    "   | **Assault Simple**                 | 0.2892        | 0.3754     | 0.3267       | 594         |\n",
    "   | **Assist Citizen - Mental/TDO/ECO**| 0.3182        | 0.2274     | 0.2652       | 431         |\n",
    "   | **Hit and Run**                    | 0.2963        | 0.4765     | 0.3654       | 638         |\n",
    "   | **Larceny - All Other**            | 0.2270        | 0.1453     | 0.1772       | 475         |\n",
    "   | **Lost/FoundProperty**             | 0.3333        | 0.2102     | 0.2578       | 352         |\n",
    "   | **Suspicious Activity**            | 0.2344        | 0.2169     | 0.2253       | 484         |\n",
    "   | **Vandalism**                      | 0.2712        | 0.2106     | 0.2371       | 470         |\n",
    "\n",
    "#### 3. **Key Insights from the Report:**\n",
    "\n",
    "- **Precision**:\n",
    "   - The highest precision is for **Larceny - All Other** (0.3333), indicating that when the model predicts this offense, it is correct about 33% of the time. However, this is still quite low.\n",
    "   - **Assist Citizen - Mental/TDO/ECO** has the lowest precision (0.2269), meaning that the model's predictions for this offense tend to be wrong more often than correct.\n",
    "\n",
    "- **Recall**:\n",
    "   - **Hit and Run** has the highest recall (0.4765), meaning the model identifies about 48% of the actual occurrences of this offense. This is better than the precision, which indicates it is missing many true positives but is still able to identify a fair number of cases.\n",
    "   - **Larceny - All Other** and **Suspicious Activity** have the lowest recall values (0.1453 and 0.2169, respectively), indicating that the model is failing to identify most of the actual cases for these offenses.\n",
    "\n",
    "- **F1-Score**:\n",
    "   - The **F1-Score** balances precision and recall. It is highest for **Hit and Run** (0.3654), but still relatively low overall. This suggests the model is better at identifying **Hit and Run** than other offenses but still has room for improvement.\n",
    "   - **Larceny - All Other** has the lowest F1-Score (0.1772), indicating a poor balance between precision and recall for this offense.\n",
    "\n",
    "#### 4. **Macro Average and Weighted Average:**\n",
    "   - **Macro Average**: This gives the average precision, recall, and F1-Score across all classes (offenses) without considering the class distribution. It averages the results for all offenses equally.\n",
    "     - Precision: 0.2814\n",
    "     - Recall: 0.2661\n",
    "     - F1-Score: 0.2649\n",
    "   - **Weighted Average**: This averages the metrics but weighs each class by its support (the number of true instances in the test set). This gives a better sense of overall performance, considering the class distribution.\n",
    "     - Precision: 0.2799\n",
    "     - Recall: 0.2822\n",
    "     - F1-Score: 0.2720\n",
    "\n",
    "#### 5. **Confusion Matrix (Visualization Analysis)**:\n",
    "   - The confusion matrix shows the distribution of true positive, false positive, true negative, and false negative predictions for each class.\n",
    "     - For **Hit and Run**, the model performs relatively well in identifying this offense (304 true positives). However, it also misclassifies some **Hit and Run** instances as other offenses (e.g., **Assault Simple**, **Suspicious Activity**, etc.).\n",
    "     - **Larceny - All Other** is frequently misclassified as **Hit and Run**, **Suspicious Activity**, and others. This is evident from the large number of off-diagonal elements in its row.\n",
    "     - **Assist Citizen - Mental/TDO/ECO** and **Suspicious Activity** are frequently misclassified, as seen by the off-diagonal values in their rows.\n",
    "\n",
    "### Conclusion:\n",
    "The Random Forest model has low accuracy (28.22%), suggesting that it struggles to predict most offenses accurately. Some offenses like **Hit and Run** are better predicted than others, but overall, the model shows a high level of misclassification across all offenses. There may be a need for further tuning of the model, additional feature engineering, or trying different models for better performance.\n",
    "\n",
    "Let me know if you'd like to improve the model or make adjustments based on these results!\n",
    "\n"
   ]
  },
  {
   "cell_type": "markdown",
   "id": "6aded811",
   "metadata": {
    "papermill": {
     "duration": 0.01066,
     "end_time": "2025-05-12T01:06:19.724343",
     "exception": false,
     "start_time": "2025-05-12T01:06:19.713683",
     "status": "completed"
    },
    "tags": []
   },
   "source": [
    "### Model Explanation\n",
    "\n",
    "Once we’ve chosen the best model, we will explain its predictions by examining feature importance for tree-based models and using statistical methods like logistic regression coefficients for linear models."
   ]
  },
  {
   "cell_type": "markdown",
   "id": "b9026501",
   "metadata": {
    "papermill": {
     "duration": 0.010666,
     "end_time": "2025-05-12T01:06:19.745718",
     "exception": false,
     "start_time": "2025-05-12T01:06:19.735052",
     "status": "completed"
    },
    "tags": []
   },
   "source": [
    "#### Feature Importance for Random Forest / Decision Tree\n",
    "\n",
    "##### For Tree-based Models (Random Forest, Decision Tree)\n",
    "\n",
    "For Random Forest or Decision Tree, we can look at feature importance to understand which variables contribute the most to the model's predictions. Here's how you can visualize and interpret the importance of each feature:"
   ]
  },
  {
   "cell_type": "code",
   "execution_count": 23,
   "id": "203608c5",
   "metadata": {
    "execution": {
     "iopub.execute_input": "2025-05-12T01:06:19.768299Z",
     "iopub.status.busy": "2025-05-12T01:06:19.767786Z",
     "iopub.status.idle": "2025-05-12T01:06:20.020831Z",
     "shell.execute_reply": "2025-05-12T01:06:20.020121Z"
    },
    "papermill": {
     "duration": 0.265591,
     "end_time": "2025-05-12T01:06:20.021972",
     "exception": false,
     "start_time": "2025-05-12T01:06:19.756381",
     "status": "completed"
    },
    "tags": []
   },
   "outputs": [
    {
     "data": {
      "image/png": "[encoded data removed]",
      "text/plain": [
       "<Figure size 1000x600 with 1 Axes>"
      ]
     },
     "metadata": {},
     "output_type": "display_data"
    }
   ],
   "source": [
    "# For RandomForest or DecisionTree models, we can check feature importance\n",
    "if isinstance(best_model, RandomForestClassifier) or isinstance(best_model, DecisionTreeClassifier):\n",
    "    feature_importance = best_model.feature_importances_\n",
    "    feature_names = X.columns\n",
    "    importance_df = pd.DataFrame({'Feature': feature_names, 'Importance': feature_importance})\n",
    "    importance_df = importance_df.sort_values(by='Importance', ascending=False)\n",
    "    \n",
    "    # Plotting the feature importances\n",
    "    plt.figure(figsize=(10, 6))\n",
    "    sns.barplot(x='Importance', y='Feature', data=importance_df)\n",
    "    plt.title(\"Feature Importance\")\n",
    "    plt.show()\n"
   ]
  },
  {
   "cell_type": "code",
   "execution_count": null,
   "id": "1e6221b2",
   "metadata": {
    "papermill": {
     "duration": 0.011096,
     "end_time": "2025-05-12T01:06:20.044559",
     "exception": false,
     "start_time": "2025-05-12T01:06:20.033463",
     "status": "completed"
    },
    "tags": []
   },
   "outputs": [],
   "source": []
  },
  {
   "cell_type": "markdown",
   "id": "f0cd0e28",
   "metadata": {
    "papermill": {
     "duration": 0.011044,
     "end_time": "2025-05-12T01:06:20.066669",
     "exception": false,
     "start_time": "2025-05-12T01:06:20.055625",
     "status": "completed"
    },
    "tags": []
   },
   "source": [
    "### Evaluation\n",
    "\n",
    "After training the models and examining their performance, we evaluate the chosen model based on metrics like accuracy, precision, recall, and F1 score.\n",
    "\n"
   ]
  },
  {
   "cell_type": "code",
   "execution_count": 24,
   "id": "ead4a201",
   "metadata": {
    "execution": {
     "iopub.execute_input": "2025-05-12T01:06:20.090236Z",
     "iopub.status.busy": "2025-05-12T01:06:20.089943Z",
     "iopub.status.idle": "2025-05-12T01:06:20.179512Z",
     "shell.execute_reply": "2025-05-12T01:06:20.178778Z"
    },
    "papermill": {
     "duration": 0.102683,
     "end_time": "2025-05-12T01:06:20.180561",
     "exception": false,
     "start_time": "2025-05-12T01:06:20.077878",
     "status": "completed"
    },
    "tags": []
   },
   "outputs": [
    {
     "name": "stdout",
     "output_type": "stream",
     "text": [
      "Accuracy: 0.2939\n",
      "Classification Report:\n",
      "              precision    recall  f1-score   support\n",
      "\n",
      "           0       0.29      0.35      0.32       604\n",
      "           1       0.35      0.23      0.28       456\n",
      "           2       0.31      0.45      0.37       667\n",
      "           3       0.24      0.22      0.23       422\n",
      "           4       0.33      0.24      0.28       349\n",
      "           5       0.25      0.23      0.24       495\n",
      "           6       0.30      0.23      0.26       491\n",
      "\n",
      "    accuracy                           0.29      3484\n",
      "   macro avg       0.30      0.28      0.28      3484\n",
      "weighted avg       0.30      0.29      0.29      3484\n",
      "\n",
      "Confusion Matrix:\n",
      "[[212  47 150  64  24  66  41]\n",
      " [115 104 107  30  17  46  37]\n",
      " [122  34 303  49  29  76  54]\n",
      " [ 64  21 111  94  30  50  52]\n",
      " [ 46  17  80  44  84  29  49]\n",
      " [ 97  41 123  56  29 112  37]\n",
      " [ 74  29 101  62  44  66 115]]\n",
      "Precision: 0.2954\n",
      "Recall: 0.2939\n",
      "F1 Score: 0.2885\n"
     ]
    }
   ],
   "source": [
    "from sklearn.metrics import classification_report, confusion_matrix, accuracy_score, precision_score, recall_score, f1_score\n",
    "\n",
    "# Predict on the test set\n",
    "y_pred = best_model.predict(X_test)\n",
    "\n",
    "# Calculate Accuracy\n",
    "accuracy = accuracy_score(y_test, y_pred)\n",
    "print(f\"Accuracy: {accuracy:.4f}\")\n",
    "\n",
    "# Classification Report\n",
    "print(\"Classification Report:\")\n",
    "print(classification_report(y_test, y_pred))\n",
    "\n",
    "# Confusion Matrix\n",
    "conf_matrix = confusion_matrix(y_test, y_pred)\n",
    "print(\"Confusion Matrix:\")\n",
    "print(conf_matrix)\n",
    "\n",
    "# Precision, Recall, F1 Score for each class (Offense Type)\n",
    "precision = precision_score(y_test, y_pred, average='weighted')\n",
    "recall = recall_score(y_test, y_pred, average='weighted')\n",
    "f1 = f1_score(y_test, y_pred, average='weighted')\n",
    "\n",
    "print(f\"Precision: {precision:.4f}\")\n",
    "print(f\"Recall: {recall:.4f}\")\n",
    "print(f\"F1 Score: {f1:.4f}\")\n"
   ]
  },
  {
   "cell_type": "markdown",
   "id": "a94f2893",
   "metadata": {
    "papermill": {
     "duration": 0.011263,
     "end_time": "2025-05-12T01:06:20.203485",
     "exception": false,
     "start_time": "2025-05-12T01:06:20.192222",
     "status": "completed"
    },
    "tags": []
   },
   "source": [
    "#### For Logistic Regression (Coefficient Interpretation)\n",
    "\n",
    "For Logistic Regression, the model coefficients can help us understand how each feature affects the likelihood of an offense happening. A positive coefficient indicates a feature increases the likelihood of the offense, and a negative coefficient indicates the opposite."
   ]
  },
  {
   "cell_type": "code",
   "execution_count": 25,
   "id": "fe557642",
   "metadata": {
    "execution": {
     "iopub.execute_input": "2025-05-12T01:06:20.226929Z",
     "iopub.status.busy": "2025-05-12T01:06:20.226498Z",
     "iopub.status.idle": "2025-05-12T01:06:20.231513Z",
     "shell.execute_reply": "2025-05-12T01:06:20.230827Z"
    },
    "papermill": {
     "duration": 0.017968,
     "end_time": "2025-05-12T01:06:20.232586",
     "exception": false,
     "start_time": "2025-05-12T01:06:20.214618",
     "status": "completed"
    },
    "tags": []
   },
   "outputs": [],
   "source": [
    "if isinstance(best_model, LogisticRegression):\n",
    "    # Logistic regression coefficients\n",
    "    coef_df = pd.DataFrame({\n",
    "        'Feature': X.columns,\n",
    "        'Coefficient': best_model.coef_[0]\n",
    "    })\n",
    "    coef_df['AbsCoefficient'] = coef_df['Coefficient'].abs()\n",
    "    coef_df = coef_df.sort_values(by='AbsCoefficient', ascending=False)\n",
    "    \n",
    "    # Plotting the coefficients\n",
    "    plt.figure(figsize=(10, 6))\n",
    "    sns.barplot(x='AbsCoefficient', y='Feature', data=coef_df)\n",
    "    plt.title(\"Logistic Regression Coefficients Impact\")\n",
    "    plt.show()\n",
    "\n",
    "    # Print the top 5 most impactful features (by absolute coefficient value)\n",
    "    print(\"Top 5 most impactful features based on coefficients:\")\n",
    "    print(coef_df.head())\n"
   ]
  },
  {
   "cell_type": "markdown",
   "id": "855f727c",
   "metadata": {
    "papermill": {
     "duration": 0.011025,
     "end_time": "2025-05-12T01:06:20.254901",
     "exception": false,
     "start_time": "2025-05-12T01:06:20.243876",
     "status": "completed"
    },
    "tags": []
   },
   "source": [
    "Explanation of Output:\n",
    "\n",
    "Feature Importance (Random Forest/Decision Tree): The bar plot will show how important each feature is in the decision-making process. Features at the top of the list are the most influential in predicting the occurrence of offenses.\n",
    "\n",
    "Logistic Regression Coefficients: The bar plot will show the magnitude of the coefficients for each feature. Features with larger absolute values (either positive or negative) have a stronger impact on the model’s predictions. Positive coefficients increase the probability of an offense, while negative coefficients decrease it."
   ]
  },
  {
   "cell_type": "markdown",
   "id": "e64c102b",
   "metadata": {
    "papermill": {
     "duration": 0.011143,
     "end_time": "2025-05-12T01:06:20.277151",
     "exception": false,
     "start_time": "2025-05-12T01:06:20.266008",
     "status": "completed"
    },
    "tags": []
   },
   "source": []
  }
 ],
 "metadata": {
  "kernelspec": {
   "display_name": "Python 3",
   "language": "python",
   "name": "python3"
  },
  "language_info": {
   "codemirror_mode": {
    "name": "ipython",
    "version": 3
   },
   "file_extension": ".py",
   "mimetype": "text/x-python",
   "name": "python",
   "nbconvert_exporter": "python",
   "pygments_lexer": "ipython3",
   "version": "3.9.22"
  },
  "papermill": {
   "default_parameters": {},
   "duration": 81.759473,
   "end_time": "2025-05-12T01:06:20.805263",
   "environment_variables": {},
   "exception": null,
   "input_path": "notebook/Crime Data.ipynb",
   "output_path": "notebook/Crime Data_output.ipynb",
   "parameters": {},
   "start_time": "2025-05-12T01:04:59.045790",
   "version": "2.6.0"
  }
 },
 "nbformat": 4,
 "nbformat_minor": 5
}