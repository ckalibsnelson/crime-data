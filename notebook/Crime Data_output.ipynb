{
 "cells": [
  {
   "cell_type": "markdown",
   "id": "ffc4dc05",
   "metadata": {
    "papermill": {
     "duration": 0.004207,
     "end_time": "2025-06-26T01:04:55.285077",
     "exception": false,
     "start_time": "2025-06-26T01:04:55.280870",
     "status": "completed"
    },
    "tags": []
   },
   "source": [
    "# Charlottesville Open Data Porttal: Crime Data"
   ]
  },
  {
   "cell_type": "markdown",
   "id": "b80ab9ef",
   "metadata": {
    "papermill": {
     "duration": 0.003194,
     "end_time": "2025-06-26T01:04:55.291870",
     "exception": false,
     "start_time": "2025-06-26T01:04:55.288676",
     "status": "completed"
    },
    "tags": []
   },
   "source": [
    "## Import Relevant Librarires & Set WD"
   ]
  },
  {
   "cell_type": "code",
   "execution_count": 1,
   "id": "c2d0b002",
   "metadata": {
    "execution": {
     "iopub.execute_input": "2025-06-26T01:04:55.299954Z",
     "iopub.status.busy": "2025-06-26T01:04:55.299433Z",
     "iopub.status.idle": "2025-06-26T01:04:55.819341Z",
     "shell.execute_reply": "2025-06-26T01:04:55.818726Z"
    },
    "papermill": {
     "duration": 0.52564,
     "end_time": "2025-06-26T01:04:55.820802",
     "exception": false,
     "start_time": "2025-06-26T01:04:55.295162",
     "status": "completed"
    },
    "tags": []
   },
   "outputs": [],
   "source": [
    "import requests\n",
    "import pandas as pd\n",
    "import numpy as np\n",
    "import pickle\n",
    "import googlemaps\n",
    "import plotly.express as px\n",
    "from geopy.geocoders import Nominatim\n",
    "import time\n",
    "from dotenv import load_dotenv\n",
    "import os\n",
    "\n",
    "env_path = os.path.join(\"..\", \".env\")\n",
    "#print(\"Looking for .env file at:\", os.path.abspath(env_path))\n",
    "load_dotenv(dotenv_path=env_path)\n",
    "\n",
    "# Retrieve the variables\n",
    "GOOGLE_API_KEY = os.getenv(\"GOOGLE_API_KEY\")\n",
    "WORKING_DIR = os.getenv(\"WORKING_DIR\")\n",
    "\n",
    "if GOOGLE_API_KEY is None or WORKING_DIR is None:\n",
    "    raise RuntimeError(\"No configuration found. Please ensure that your .env file exists with the required variables, or create a local config.py file.\")\n",
    "\n",
    "#print(\"Google API Key:\", GOOGLE_API_KEY)\n",
    "#print(\"Working Directory:\", WORKING_DIR)"
   ]
  },
  {
   "cell_type": "markdown",
   "id": "75570815",
   "metadata": {
    "papermill": {
     "duration": 0.003393,
     "end_time": "2025-06-26T01:04:55.827939",
     "exception": false,
     "start_time": "2025-06-26T01:04:55.824546",
     "status": "completed"
    },
    "tags": []
   },
   "source": [
    "## Import Data\n",
    "\n",
    "URL: https://opendata.charlottesville.org/datasets/charlottesville::crime-data/about"
   ]
  },
  {
   "cell_type": "code",
   "execution_count": 2,
   "id": "8a9cc16e",
   "metadata": {
    "execution": {
     "iopub.execute_input": "2025-06-26T01:04:55.835789Z",
     "iopub.status.busy": "2025-06-26T01:04:55.835298Z",
     "iopub.status.idle": "2025-06-26T01:06:07.868326Z",
     "shell.execute_reply": "2025-06-26T01:06:07.867515Z"
    },
    "papermill": {
     "duration": 72.041314,
     "end_time": "2025-06-26T01:06:07.872676",
     "exception": false,
     "start_time": "2025-06-26T01:04:55.831362",
     "status": "completed"
    },
    "tags": []
   },
   "outputs": [
    {
     "name": "stdout",
     "output_type": "stream",
     "text": [
      "Total records imported: 25540\n"
     ]
    }
   ],
   "source": [
    "# Define the endpoint and initial parameters.\n",
    "url = \"https://gisweb.charlottesville.org/arcgis/rest/services/OpenData_2/MapServer/6/query\"\n",
    "params = {\n",
    "    \"where\": \"1=1\",\n",
    "    \"outFields\": \"*\",\n",
    "    \"outSR\": 4326,\n",
    "    \"f\": \"json\",\n",
    "    \"resultOffset\": 0,       # Starting index for results\n",
    "    \"resultRecordCount\": 10000  # Maximum records per batch (if allowed by the API)\n",
    "}\n",
    "\n",
    "records = []\n",
    "\n",
    "while True:\n",
    "    response = requests.get(url, params=params)\n",
    "    response.raise_for_status()\n",
    "    data = response.json()\n",
    "    \n",
    "    # Get the current batch of features.\n",
    "    features = data.get(\"features\", [])\n",
    "    if not features:\n",
    "        break\n",
    "\n",
    "    # Extract the attributes from the features.\n",
    "    batch_records = [feature.get(\"attributes\", {}) for feature in features]\n",
    "    records.extend(batch_records)\n",
    "    \n",
    "    # If the batch size is less than the requested count, we reached the end.\n",
    "    if len(features) < params[\"resultRecordCount\"]:\n",
    "        break\n",
    "\n",
    "    # Update the resultOffset for the next batch.\n",
    "    params[\"resultOffset\"] += params[\"resultRecordCount\"]\n",
    "\n",
    "# Create a DataFrame from the combined records.\n",
    "df = pd.DataFrame(records)\n",
    "print(\"Total records imported:\", len(df))\n"
   ]
  },
  {
   "cell_type": "code",
   "execution_count": 3,
   "id": "7fd414c3",
   "metadata": {
    "execution": {
     "iopub.execute_input": "2025-06-26T01:06:07.880359Z",
     "iopub.status.busy": "2025-06-26T01:06:07.880154Z",
     "iopub.status.idle": "2025-06-26T01:06:07.892939Z",
     "shell.execute_reply": "2025-06-26T01:06:07.892249Z"
    },
    "papermill": {
     "duration": 0.01786,
     "end_time": "2025-06-26T01:06:07.894031",
     "exception": false,
     "start_time": "2025-06-26T01:06:07.876171",
     "status": "completed"
    },
    "tags": []
   },
   "outputs": [
    {
     "data": {
      "text/html": [
       "<div>\n",
       "<style scoped>\n",
       "    .dataframe tbody tr th:only-of-type {\n",
       "        vertical-align: middle;\n",
       "    }\n",
       "\n",
       "    .dataframe tbody tr th {\n",
       "        vertical-align: top;\n",
       "    }\n",
       "\n",
       "    .dataframe thead th {\n",
       "        text-align: right;\n",
       "    }\n",
       "</style>\n",
       "<table border=\"1\" class=\"dataframe\">\n",
       "  <thead>\n",
       "    <tr style=\"text-align: right;\">\n",
       "      <th></th>\n",
       "      <th>RecordID</th>\n",
       "      <th>Offense</th>\n",
       "      <th>IncidentID</th>\n",
       "      <th>BlockNumber</th>\n",
       "      <th>StreetName</th>\n",
       "      <th>Agency</th>\n",
       "      <th>DateReported</th>\n",
       "      <th>HourReported</th>\n",
       "      <th>ReportingOfficer</th>\n",
       "    </tr>\n",
       "  </thead>\n",
       "  <tbody>\n",
       "    <tr>\n",
       "      <th>0</th>\n",
       "      <td>1</td>\n",
       "      <td>Vandalism</td>\n",
       "      <td>202500021698</td>\n",
       "      <td>100</td>\n",
       "      <td>PIEDMONT AVE S, B</td>\n",
       "      <td>CPD</td>\n",
       "      <td>1750728325000</td>\n",
       "      <td>2125</td>\n",
       "      <td>Essex, Dominique</td>\n",
       "    </tr>\n",
       "    <tr>\n",
       "      <th>1</th>\n",
       "      <td>2</td>\n",
       "      <td>Trespass</td>\n",
       "      <td>202500021683</td>\n",
       "      <td>1100</td>\n",
       "      <td>5TH ST SW</td>\n",
       "      <td>CPD</td>\n",
       "      <td>1750722168000</td>\n",
       "      <td>1942</td>\n",
       "      <td>Essex, Dominique</td>\n",
       "    </tr>\n",
       "    <tr>\n",
       "      <th>2</th>\n",
       "      <td>3</td>\n",
       "      <td>Trespass</td>\n",
       "      <td>202500021678</td>\n",
       "      <td>1100</td>\n",
       "      <td>5TH ST SW</td>\n",
       "      <td>CPD</td>\n",
       "      <td>1750719031000</td>\n",
       "      <td>1850</td>\n",
       "      <td>Crowley, Raeann</td>\n",
       "    </tr>\n",
       "    <tr>\n",
       "      <th>3</th>\n",
       "      <td>4</td>\n",
       "      <td>Misc - Criminal Call</td>\n",
       "      <td>202500021657</td>\n",
       "      <td>800</td>\n",
       "      <td>ST CLAIR AVE</td>\n",
       "      <td>CPD</td>\n",
       "      <td>1750711041000</td>\n",
       "      <td>1637</td>\n",
       "      <td>Bland, Johnnà</td>\n",
       "    </tr>\n",
       "    <tr>\n",
       "      <th>4</th>\n",
       "      <td>5</td>\n",
       "      <td>Larceny - Shoplifitng</td>\n",
       "      <td>202500021656</td>\n",
       "      <td>1100</td>\n",
       "      <td>5TH ST SW</td>\n",
       "      <td>CPD</td>\n",
       "      <td>1750710969000</td>\n",
       "      <td>1636</td>\n",
       "      <td>Lowry, Ryan</td>\n",
       "    </tr>\n",
       "  </tbody>\n",
       "</table>\n",
       "</div>"
      ],
      "text/plain": [
       "   RecordID                Offense    IncidentID BlockNumber  \\\n",
       "0         1              Vandalism  202500021698         100   \n",
       "1         2               Trespass  202500021683        1100   \n",
       "2         3               Trespass  202500021678        1100   \n",
       "3         4   Misc - Criminal Call  202500021657         800   \n",
       "4         5  Larceny - Shoplifitng  202500021656        1100   \n",
       "\n",
       "          StreetName Agency   DateReported HourReported  ReportingOfficer  \n",
       "0  PIEDMONT AVE S, B    CPD  1750728325000         2125  Essex, Dominique  \n",
       "1          5TH ST SW    CPD  1750722168000         1942  Essex, Dominique  \n",
       "2          5TH ST SW    CPD  1750719031000         1850   Crowley, Raeann  \n",
       "3       ST CLAIR AVE    CPD  1750711041000         1637     Bland, Johnnà  \n",
       "4          5TH ST SW    CPD  1750710969000         1636       Lowry, Ryan  "
      ]
     },
     "execution_count": 3,
     "metadata": {},
     "output_type": "execute_result"
    }
   ],
   "source": [
    "df.head()"
   ]
  },
  {
   "cell_type": "code",
   "execution_count": 4,
   "id": "ffaa16cc",
   "metadata": {
    "execution": {
     "iopub.execute_input": "2025-06-26T01:06:07.902155Z",
     "iopub.status.busy": "2025-06-26T01:06:07.901954Z",
     "iopub.status.idle": "2025-06-26T01:06:07.906122Z",
     "shell.execute_reply": "2025-06-26T01:06:07.905571Z"
    },
    "papermill": {
     "duration": 0.009297,
     "end_time": "2025-06-26T01:06:07.907092",
     "exception": false,
     "start_time": "2025-06-26T01:06:07.897795",
     "status": "completed"
    },
    "tags": []
   },
   "outputs": [
    {
     "data": {
      "text/plain": [
       "Index(['RecordID', 'Offense', 'IncidentID', 'BlockNumber', 'StreetName',\n",
       "       'Agency', 'DateReported', 'HourReported', 'ReportingOfficer'],\n",
       "      dtype='object')"
      ]
     },
     "execution_count": 4,
     "metadata": {},
     "output_type": "execute_result"
    }
   ],
   "source": [
    "df.columns"
   ]
  },
  {
   "cell_type": "code",
   "execution_count": 5,
   "id": "525f9619",
   "metadata": {
    "execution": {
     "iopub.execute_input": "2025-06-26T01:06:07.915893Z",
     "iopub.status.busy": "2025-06-26T01:06:07.915656Z",
     "iopub.status.idle": "2025-06-26T01:06:07.939458Z",
     "shell.execute_reply": "2025-06-26T01:06:07.938830Z"
    },
    "papermill": {
     "duration": 0.029686,
     "end_time": "2025-06-26T01:06:07.940519",
     "exception": false,
     "start_time": "2025-06-26T01:06:07.910833",
     "status": "completed"
    },
    "tags": []
   },
   "outputs": [
    {
     "name": "stdout",
     "output_type": "stream",
     "text": [
      "<class 'pandas.core.frame.DataFrame'>\n",
      "RangeIndex: 25540 entries, 0 to 25539\n",
      "Data columns (total 9 columns):\n",
      " #   Column            Non-Null Count  Dtype \n",
      "---  ------            --------------  ----- \n",
      " 0   RecordID          25540 non-null  int64 \n",
      " 1   Offense           25540 non-null  object\n",
      " 2   IncidentID        25540 non-null  object\n",
      " 3   BlockNumber       25540 non-null  object\n",
      " 4   StreetName        25540 non-null  object\n",
      " 5   Agency            25540 non-null  object\n",
      " 6   DateReported      25540 non-null  int64 \n",
      " 7   HourReported      25540 non-null  object\n",
      " 8   ReportingOfficer  25523 non-null  object\n",
      "dtypes: int64(2), object(7)\n",
      "memory usage: 1.8+ MB\n"
     ]
    }
   ],
   "source": [
    "df.info()"
   ]
  },
  {
   "cell_type": "markdown",
   "id": "f5ad0317",
   "metadata": {
    "papermill": {
     "duration": 0.003703,
     "end_time": "2025-06-26T01:06:07.948255",
     "exception": false,
     "start_time": "2025-06-26T01:06:07.944552",
     "status": "completed"
    },
    "tags": []
   },
   "source": [
    "### Missing Values"
   ]
  },
  {
   "cell_type": "code",
   "execution_count": 6,
   "id": "67ea2c09",
   "metadata": {
    "execution": {
     "iopub.execute_input": "2025-06-26T01:06:07.981679Z",
     "iopub.status.busy": "2025-06-26T01:06:07.981031Z",
     "iopub.status.idle": "2025-06-26T01:06:08.007493Z",
     "shell.execute_reply": "2025-06-26T01:06:08.006930Z"
    },
    "papermill": {
     "duration": 0.032263,
     "end_time": "2025-06-26T01:06:08.008538",
     "exception": false,
     "start_time": "2025-06-26T01:06:07.976275",
     "status": "completed"
    },
    "tags": []
   },
   "outputs": [
    {
     "name": "stdout",
     "output_type": "stream",
     "text": [
      "                  MissingCount  MissingPercentage\n",
      "RecordID                     0               0.00\n",
      "Offense                      0               0.00\n",
      "IncidentID                   0               0.00\n",
      "BlockNumber                  0               0.00\n",
      "StreetName                   0               0.00\n",
      "Agency                       0               0.00\n",
      "DateReported                 0               0.00\n",
      "HourReported                 0               0.00\n",
      "ReportingOfficer            17               0.07\n"
     ]
    }
   ],
   "source": [
    "def missing_percentage(df):\n",
    "    \"\"\"\n",
    "    Returns a DataFrame with the count and percentage of missing values for each column.\n",
    "    \n",
    "    Parameters:\n",
    "        df (pd.DataFrame): The input DataFrame.\n",
    "    \n",
    "    Returns:\n",
    "        pd.DataFrame: A DataFrame with columns 'MissingCount' and 'MissingPercentage'.\n",
    "    \"\"\"\n",
    "    total_rows = len(df)\n",
    "    missing_count = df.isnull().sum()\n",
    "    missing_percent = (missing_count / total_rows) * 100\n",
    "    \n",
    "    result = pd.DataFrame({\n",
    "        'MissingCount': missing_count,\n",
    "        'MissingPercentage': missing_percent.round(2)\n",
    "    })\n",
    "    \n",
    "    return result\n",
    "\n",
    "# Example usage:\n",
    "missing_info = missing_percentage(df)\n",
    "print(missing_info)\n"
   ]
  },
  {
   "cell_type": "markdown",
   "id": "a3f7d496",
   "metadata": {
    "papermill": {
     "duration": 0.003828,
     "end_time": "2025-06-26T01:06:08.016345",
     "exception": false,
     "start_time": "2025-06-26T01:06:08.012517",
     "status": "completed"
    },
    "tags": []
   },
   "source": [
    "## Data Preparation"
   ]
  },
  {
   "cell_type": "markdown",
   "id": "47c1d99a",
   "metadata": {
    "papermill": {
     "duration": 0.003712,
     "end_time": "2025-06-26T01:06:08.023851",
     "exception": false,
     "start_time": "2025-06-26T01:06:08.020139",
     "status": "completed"
    },
    "tags": []
   },
   "source": [
    "### Data Conversion"
   ]
  },
  {
   "cell_type": "code",
   "execution_count": 7,
   "id": "50816b3f",
   "metadata": {
    "execution": {
     "iopub.execute_input": "2025-06-26T01:06:08.032543Z",
     "iopub.status.busy": "2025-06-26T01:06:08.032060Z",
     "iopub.status.idle": "2025-06-26T01:06:08.394082Z",
     "shell.execute_reply": "2025-06-26T01:06:08.393368Z"
    },
    "papermill": {
     "duration": 0.367501,
     "end_time": "2025-06-26T01:06:08.395174",
     "exception": false,
     "start_time": "2025-06-26T01:06:08.027673",
     "status": "completed"
    },
    "tags": []
   },
   "outputs": [
    {
     "data": {
      "text/html": [
       "<div>\n",
       "<style scoped>\n",
       "    .dataframe tbody tr th:only-of-type {\n",
       "        vertical-align: middle;\n",
       "    }\n",
       "\n",
       "    .dataframe tbody tr th {\n",
       "        vertical-align: top;\n",
       "    }\n",
       "\n",
       "    .dataframe thead th {\n",
       "        text-align: right;\n",
       "    }\n",
       "</style>\n",
       "<table border=\"1\" class=\"dataframe\">\n",
       "  <thead>\n",
       "    <tr style=\"text-align: right;\">\n",
       "      <th></th>\n",
       "      <th>RecordID</th>\n",
       "      <th>Offense</th>\n",
       "      <th>IncidentID</th>\n",
       "      <th>BlockNumber</th>\n",
       "      <th>StreetName</th>\n",
       "      <th>Agency</th>\n",
       "      <th>HourReported</th>\n",
       "      <th>ReportingOfficer</th>\n",
       "      <th>Date</th>\n",
       "      <th>DateString</th>\n",
       "      <th>DayOfWeek</th>\n",
       "      <th>Weekend</th>\n",
       "      <th>Season</th>\n",
       "      <th>HourAMPM</th>\n",
       "      <th>TimeOfDay</th>\n",
       "    </tr>\n",
       "  </thead>\n",
       "  <tbody>\n",
       "    <tr>\n",
       "      <th>0</th>\n",
       "      <td>1</td>\n",
       "      <td>Vandalism</td>\n",
       "      <td>202500021698</td>\n",
       "      <td>100</td>\n",
       "      <td>PIEDMONT AVE S, B</td>\n",
       "      <td>CPD</td>\n",
       "      <td>2125</td>\n",
       "      <td>Essex, Dominique</td>\n",
       "      <td>2025-06-23 21:25:25</td>\n",
       "      <td>2025-06-23 09:25:25 PM</td>\n",
       "      <td>Monday</td>\n",
       "      <td>False</td>\n",
       "      <td>Summer</td>\n",
       "      <td>09:25 PM</td>\n",
       "      <td>Night</td>\n",
       "    </tr>\n",
       "    <tr>\n",
       "      <th>1</th>\n",
       "      <td>2</td>\n",
       "      <td>Trespass</td>\n",
       "      <td>202500021683</td>\n",
       "      <td>1100</td>\n",
       "      <td>5TH ST SW</td>\n",
       "      <td>CPD</td>\n",
       "      <td>1942</td>\n",
       "      <td>Essex, Dominique</td>\n",
       "      <td>2025-06-23 19:42:48</td>\n",
       "      <td>2025-06-23 07:42:48 PM</td>\n",
       "      <td>Monday</td>\n",
       "      <td>False</td>\n",
       "      <td>Summer</td>\n",
       "      <td>07:42 PM</td>\n",
       "      <td>Evening</td>\n",
       "    </tr>\n",
       "    <tr>\n",
       "      <th>2</th>\n",
       "      <td>3</td>\n",
       "      <td>Trespass</td>\n",
       "      <td>202500021678</td>\n",
       "      <td>1100</td>\n",
       "      <td>5TH ST SW</td>\n",
       "      <td>CPD</td>\n",
       "      <td>1850</td>\n",
       "      <td>Crowley, Raeann</td>\n",
       "      <td>2025-06-23 18:50:31</td>\n",
       "      <td>2025-06-23 06:50:31 PM</td>\n",
       "      <td>Monday</td>\n",
       "      <td>False</td>\n",
       "      <td>Summer</td>\n",
       "      <td>06:50 PM</td>\n",
       "      <td>Evening</td>\n",
       "    </tr>\n",
       "    <tr>\n",
       "      <th>3</th>\n",
       "      <td>4</td>\n",
       "      <td>Misc - Criminal Call</td>\n",
       "      <td>202500021657</td>\n",
       "      <td>800</td>\n",
       "      <td>ST CLAIR AVE</td>\n",
       "      <td>CPD</td>\n",
       "      <td>1637</td>\n",
       "      <td>Bland, Johnnà</td>\n",
       "      <td>2025-06-23 16:37:21</td>\n",
       "      <td>2025-06-23 04:37:21 PM</td>\n",
       "      <td>Monday</td>\n",
       "      <td>False</td>\n",
       "      <td>Summer</td>\n",
       "      <td>04:37 PM</td>\n",
       "      <td>Afternoon</td>\n",
       "    </tr>\n",
       "    <tr>\n",
       "      <th>4</th>\n",
       "      <td>5</td>\n",
       "      <td>Larceny - Shoplifitng</td>\n",
       "      <td>202500021656</td>\n",
       "      <td>1100</td>\n",
       "      <td>5TH ST SW</td>\n",
       "      <td>CPD</td>\n",
       "      <td>1636</td>\n",
       "      <td>Lowry, Ryan</td>\n",
       "      <td>2025-06-23 16:36:09</td>\n",
       "      <td>2025-06-23 04:36:09 PM</td>\n",
       "      <td>Monday</td>\n",
       "      <td>False</td>\n",
       "      <td>Summer</td>\n",
       "      <td>04:36 PM</td>\n",
       "      <td>Afternoon</td>\n",
       "    </tr>\n",
       "  </tbody>\n",
       "</table>\n",
       "</div>"
      ],
      "text/plain": [
       "   RecordID                Offense    IncidentID BlockNumber  \\\n",
       "0         1              Vandalism  202500021698         100   \n",
       "1         2               Trespass  202500021683        1100   \n",
       "2         3               Trespass  202500021678        1100   \n",
       "3         4   Misc - Criminal Call  202500021657         800   \n",
       "4         5  Larceny - Shoplifitng  202500021656        1100   \n",
       "\n",
       "          StreetName Agency HourReported  ReportingOfficer  \\\n",
       "0  PIEDMONT AVE S, B    CPD         2125  Essex, Dominique   \n",
       "1          5TH ST SW    CPD         1942  Essex, Dominique   \n",
       "2          5TH ST SW    CPD         1850   Crowley, Raeann   \n",
       "3       ST CLAIR AVE    CPD         1637     Bland, Johnnà   \n",
       "4          5TH ST SW    CPD         1636       Lowry, Ryan   \n",
       "\n",
       "                 Date              DateString DayOfWeek  Weekend  Season  \\\n",
       "0 2025-06-23 21:25:25  2025-06-23 09:25:25 PM    Monday    False  Summer   \n",
       "1 2025-06-23 19:42:48  2025-06-23 07:42:48 PM    Monday    False  Summer   \n",
       "2 2025-06-23 18:50:31  2025-06-23 06:50:31 PM    Monday    False  Summer   \n",
       "3 2025-06-23 16:37:21  2025-06-23 04:37:21 PM    Monday    False  Summer   \n",
       "4 2025-06-23 16:36:09  2025-06-23 04:36:09 PM    Monday    False  Summer   \n",
       "\n",
       "   HourAMPM  TimeOfDay  \n",
       "0  09:25 PM      Night  \n",
       "1  07:42 PM    Evening  \n",
       "2  06:50 PM    Evening  \n",
       "3  04:37 PM  Afternoon  \n",
       "4  04:36 PM  Afternoon  "
      ]
     },
     "execution_count": 7,
     "metadata": {},
     "output_type": "execute_result"
    }
   ],
   "source": [
    "def convert_and_categorize_datereported(df, col='DateReported'):\n",
    "    \"\"\"\n",
    "    Converts an epoch (in milliseconds) date column into a timezone-aware datetime,\n",
    "    converts it to Eastern Time, and then creates columns for day-of-week, weekend flag,\n",
    "    season, 12-hour formatted time, and time-of-day. Keeps both a real datetime column\n",
    "    (Date) and a string representation (DateString).\n",
    "    \"\"\"\n",
    "    import pandas as pd\n",
    "\n",
    "    # Convert the epoch timestamp to a pandas datetime object as UTC, then convert to US/Eastern.\n",
    "    df[\"DateReported_dt\"] = (\n",
    "        pd.to_datetime(df[col], unit=\"ms\", errors=\"coerce\", utc=True)\n",
    "        .dt.tz_convert(\"US/Eastern\")\n",
    "    )\n",
    "    \n",
    "    # Create a true datetime column (remove timezone if you prefer naive datetime)\n",
    "    df[\"Date\"] = df[\"DateReported_dt\"].dt.tz_localize(None)\n",
    "\n",
    "    # Optionally, create a separate string-formatted column\n",
    "    df[\"DateString\"] = df[\"DateReported_dt\"].dt.strftime(\"%Y-%m-%d %I:%M:%S %p\")\n",
    "    \n",
    "    # DayOfWeek\n",
    "    df[\"DayOfWeek\"] = df[\"DateReported_dt\"].dt.day_name()\n",
    "    \n",
    "    # Weekend\n",
    "    df[\"Weekend\"] = df[\"DayOfWeek\"].isin([\"Saturday\", \"Sunday\"])\n",
    "    \n",
    "    # Helper function to determine the season\n",
    "    def get_season(dt):\n",
    "        month = dt.month\n",
    "        day = dt.day\n",
    "        # Approximate Northern Hemisphere season boundaries:\n",
    "        if (month == 12 and day >= 21) or (month < 3) or (month == 3 and day < 20):\n",
    "            return \"Winter\"\n",
    "        elif (month == 3 and day >= 20) or (month < 6) or (month == 6 and day < 21):\n",
    "            return \"Spring\"\n",
    "        elif (month == 6 and day >= 21) or (month < 9) or (month == 9 and day < 22):\n",
    "            return \"Summer\"\n",
    "        else:\n",
    "            return \"Autumn\"\n",
    "    \n",
    "    df[\"Season\"] = df[\"DateReported_dt\"].apply(get_season)\n",
    "    \n",
    "    # 12-hour formatted time (HourAMPM)\n",
    "    df[\"HourAMPM\"] = df[\"DateReported_dt\"].dt.strftime(\"%I:%M %p\")\n",
    "    \n",
    "    # Extract hour (0-23) for time-of-day\n",
    "    df[\"HourValue\"] = df[\"DateReported_dt\"].dt.hour\n",
    "    \n",
    "    def time_of_day(hour):\n",
    "        if pd.isnull(hour):\n",
    "            return None\n",
    "        if 5 <= hour < 12:\n",
    "            return \"Morning\"\n",
    "        elif 12 <= hour < 17:\n",
    "            return \"Afternoon\"\n",
    "        elif 17 <= hour < 21:\n",
    "            return \"Evening\"\n",
    "        else:\n",
    "            return \"Night\"\n",
    "    \n",
    "    df[\"TimeOfDay\"] = df[\"HourValue\"].apply(time_of_day)\n",
    "    \n",
    "    # Drop columns you no longer need\n",
    "    df.drop(columns=[col, \"DateReported_dt\", \"HourValue\"], inplace=True)\n",
    "    \n",
    "    return df\n",
    "\n",
    "# Example usage:\n",
    "df = convert_and_categorize_datereported(df)\n",
    "df.head()\n"
   ]
  },
  {
   "cell_type": "code",
   "execution_count": 8,
   "id": "04c1eb78",
   "metadata": {
    "execution": {
     "iopub.execute_input": "2025-06-26T01:06:08.405166Z",
     "iopub.status.busy": "2025-06-26T01:06:08.404523Z",
     "iopub.status.idle": "2025-06-26T01:06:08.433692Z",
     "shell.execute_reply": "2025-06-26T01:06:08.433048Z"
    },
    "papermill": {
     "duration": 0.035189,
     "end_time": "2025-06-26T01:06:08.434793",
     "exception": false,
     "start_time": "2025-06-26T01:06:08.399604",
     "status": "completed"
    },
    "tags": []
   },
   "outputs": [
    {
     "name": "stdout",
     "output_type": "stream",
     "text": [
      "<class 'pandas.core.frame.DataFrame'>\n",
      "RangeIndex: 25540 entries, 0 to 25539\n",
      "Data columns (total 15 columns):\n",
      " #   Column            Non-Null Count  Dtype         \n",
      "---  ------            --------------  -----         \n",
      " 0   RecordID          25540 non-null  int64         \n",
      " 1   Offense           25540 non-null  object        \n",
      " 2   IncidentID        25540 non-null  object        \n",
      " 3   BlockNumber       25540 non-null  object        \n",
      " 4   StreetName        25540 non-null  object        \n",
      " 5   Agency            25540 non-null  object        \n",
      " 6   HourReported      25540 non-null  object        \n",
      " 7   ReportingOfficer  25523 non-null  object        \n",
      " 8   Date              25540 non-null  datetime64[ns]\n",
      " 9   DateString        25540 non-null  object        \n",
      " 10  DayOfWeek         25540 non-null  object        \n",
      " 11  Weekend           25540 non-null  bool          \n",
      " 12  Season            25540 non-null  object        \n",
      " 13  HourAMPM          25540 non-null  object        \n",
      " 14  TimeOfDay         25540 non-null  object        \n",
      "dtypes: bool(1), datetime64[ns](1), int64(1), object(12)\n",
      "memory usage: 2.8+ MB\n"
     ]
    }
   ],
   "source": [
    "df.info()"
   ]
  },
  {
   "cell_type": "markdown",
   "id": "06cd4084",
   "metadata": {
    "papermill": {
     "duration": 0.004136,
     "end_time": "2025-06-26T01:06:08.443373",
     "exception": false,
     "start_time": "2025-06-26T01:06:08.439237",
     "status": "completed"
    },
    "tags": []
   },
   "source": [
    "### Coordinates"
   ]
  },
  {
   "cell_type": "code",
   "execution_count": 9,
   "id": "6cc8c4ef",
   "metadata": {
    "execution": {
     "iopub.execute_input": "2025-06-26T01:06:08.453087Z",
     "iopub.status.busy": "2025-06-26T01:06:08.452454Z",
     "iopub.status.idle": "2025-06-26T01:06:08.630948Z",
     "shell.execute_reply": "2025-06-26T01:06:08.630323Z"
    },
    "papermill": {
     "duration": 0.184418,
     "end_time": "2025-06-26T01:06:08.632027",
     "exception": false,
     "start_time": "2025-06-26T01:06:08.447609",
     "status": "completed"
    },
    "tags": []
   },
   "outputs": [
    {
     "name": "stdout",
     "output_type": "stream",
     "text": [
      "Loaded geocode cache.\n",
      "Error geocoding 2100 MICHIE DR, 52B: REQUEST_DENIED (You must enable Billing on the Google Cloud Project at https://console.cloud.google.com/project/_/billing/enable Learn more at https://developers.google.com/maps/gmp-get-started)\n",
      "Geocoded 2100 MICHIE DR, 52B: None, None\n",
      "Error geocoding 500 1ST ST N, 204: REQUEST_DENIED (You must enable Billing on the Google Cloud Project at https://console.cloud.google.com/project/_/billing/enable Learn more at https://developers.google.com/maps/gmp-get-started)\n",
      "Geocoded 500 1ST ST N, 204: None, None\n",
      "Geocode cache updated and saved.\n"
     ]
    },
    {
     "data": {
      "text/html": [
       "<div>\n",
       "<style scoped>\n",
       "    .dataframe tbody tr th:only-of-type {\n",
       "        vertical-align: middle;\n",
       "    }\n",
       "\n",
       "    .dataframe tbody tr th {\n",
       "        vertical-align: top;\n",
       "    }\n",
       "\n",
       "    .dataframe thead th {\n",
       "        text-align: right;\n",
       "    }\n",
       "</style>\n",
       "<table border=\"1\" class=\"dataframe\">\n",
       "  <thead>\n",
       "    <tr style=\"text-align: right;\">\n",
       "      <th></th>\n",
       "      <th>RecordID</th>\n",
       "      <th>Offense</th>\n",
       "      <th>IncidentID</th>\n",
       "      <th>BlockNumber</th>\n",
       "      <th>StreetName</th>\n",
       "      <th>Agency</th>\n",
       "      <th>HourReported</th>\n",
       "      <th>ReportingOfficer</th>\n",
       "      <th>Date</th>\n",
       "      <th>DateString</th>\n",
       "      <th>DayOfWeek</th>\n",
       "      <th>Weekend</th>\n",
       "      <th>Season</th>\n",
       "      <th>HourAMPM</th>\n",
       "      <th>TimeOfDay</th>\n",
       "      <th>FullStreet</th>\n",
       "      <th>lat</th>\n",
       "      <th>lon</th>\n",
       "    </tr>\n",
       "  </thead>\n",
       "  <tbody>\n",
       "    <tr>\n",
       "      <th>0</th>\n",
       "      <td>1</td>\n",
       "      <td>Vandalism</td>\n",
       "      <td>202500021698</td>\n",
       "      <td>100</td>\n",
       "      <td>PIEDMONT AVE S, B</td>\n",
       "      <td>CPD</td>\n",
       "      <td>2125</td>\n",
       "      <td>Essex, Dominique</td>\n",
       "      <td>2025-06-23 21:25:25</td>\n",
       "      <td>2025-06-23 09:25:25 PM</td>\n",
       "      <td>Monday</td>\n",
       "      <td>False</td>\n",
       "      <td>Summer</td>\n",
       "      <td>09:25 PM</td>\n",
       "      <td>Night</td>\n",
       "      <td>100 PIEDMONT AVE S, B</td>\n",
       "      <td>38.025907</td>\n",
       "      <td>-78.518736</td>\n",
       "    </tr>\n",
       "    <tr>\n",
       "      <th>1</th>\n",
       "      <td>2</td>\n",
       "      <td>Trespass</td>\n",
       "      <td>202500021683</td>\n",
       "      <td>1100</td>\n",
       "      <td>5TH ST SW</td>\n",
       "      <td>CPD</td>\n",
       "      <td>1942</td>\n",
       "      <td>Essex, Dominique</td>\n",
       "      <td>2025-06-23 19:42:48</td>\n",
       "      <td>2025-06-23 07:42:48 PM</td>\n",
       "      <td>Monday</td>\n",
       "      <td>False</td>\n",
       "      <td>Summer</td>\n",
       "      <td>07:42 PM</td>\n",
       "      <td>Evening</td>\n",
       "      <td>1100 5TH ST SW</td>\n",
       "      <td>38.017130</td>\n",
       "      <td>-78.497806</td>\n",
       "    </tr>\n",
       "    <tr>\n",
       "      <th>2</th>\n",
       "      <td>3</td>\n",
       "      <td>Trespass</td>\n",
       "      <td>202500021678</td>\n",
       "      <td>1100</td>\n",
       "      <td>5TH ST SW</td>\n",
       "      <td>CPD</td>\n",
       "      <td>1850</td>\n",
       "      <td>Crowley, Raeann</td>\n",
       "      <td>2025-06-23 18:50:31</td>\n",
       "      <td>2025-06-23 06:50:31 PM</td>\n",
       "      <td>Monday</td>\n",
       "      <td>False</td>\n",
       "      <td>Summer</td>\n",
       "      <td>06:50 PM</td>\n",
       "      <td>Evening</td>\n",
       "      <td>1100 5TH ST SW</td>\n",
       "      <td>38.017130</td>\n",
       "      <td>-78.497806</td>\n",
       "    </tr>\n",
       "    <tr>\n",
       "      <th>3</th>\n",
       "      <td>4</td>\n",
       "      <td>Misc - Criminal Call</td>\n",
       "      <td>202500021657</td>\n",
       "      <td>800</td>\n",
       "      <td>ST CLAIR AVE</td>\n",
       "      <td>CPD</td>\n",
       "      <td>1637</td>\n",
       "      <td>Bland, Johnnà</td>\n",
       "      <td>2025-06-23 16:37:21</td>\n",
       "      <td>2025-06-23 04:37:21 PM</td>\n",
       "      <td>Monday</td>\n",
       "      <td>False</td>\n",
       "      <td>Summer</td>\n",
       "      <td>04:37 PM</td>\n",
       "      <td>Afternoon</td>\n",
       "      <td>800 ST CLAIR AVE</td>\n",
       "      <td>38.034619</td>\n",
       "      <td>-78.466916</td>\n",
       "    </tr>\n",
       "    <tr>\n",
       "      <th>4</th>\n",
       "      <td>5</td>\n",
       "      <td>Larceny - Shoplifitng</td>\n",
       "      <td>202500021656</td>\n",
       "      <td>1100</td>\n",
       "      <td>5TH ST SW</td>\n",
       "      <td>CPD</td>\n",
       "      <td>1636</td>\n",
       "      <td>Lowry, Ryan</td>\n",
       "      <td>2025-06-23 16:36:09</td>\n",
       "      <td>2025-06-23 04:36:09 PM</td>\n",
       "      <td>Monday</td>\n",
       "      <td>False</td>\n",
       "      <td>Summer</td>\n",
       "      <td>04:36 PM</td>\n",
       "      <td>Afternoon</td>\n",
       "      <td>1100 5TH ST SW</td>\n",
       "      <td>38.017130</td>\n",
       "      <td>-78.497806</td>\n",
       "    </tr>\n",
       "  </tbody>\n",
       "</table>\n",
       "</div>"
      ],
      "text/plain": [
       "   RecordID                Offense    IncidentID BlockNumber  \\\n",
       "0         1              Vandalism  202500021698         100   \n",
       "1         2               Trespass  202500021683        1100   \n",
       "2         3               Trespass  202500021678        1100   \n",
       "3         4   Misc - Criminal Call  202500021657         800   \n",
       "4         5  Larceny - Shoplifitng  202500021656        1100   \n",
       "\n",
       "          StreetName Agency HourReported  ReportingOfficer  \\\n",
       "0  PIEDMONT AVE S, B    CPD         2125  Essex, Dominique   \n",
       "1          5TH ST SW    CPD         1942  Essex, Dominique   \n",
       "2          5TH ST SW    CPD         1850   Crowley, Raeann   \n",
       "3       ST CLAIR AVE    CPD         1637     Bland, Johnnà   \n",
       "4          5TH ST SW    CPD         1636       Lowry, Ryan   \n",
       "\n",
       "                 Date              DateString DayOfWeek  Weekend  Season  \\\n",
       "0 2025-06-23 21:25:25  2025-06-23 09:25:25 PM    Monday    False  Summer   \n",
       "1 2025-06-23 19:42:48  2025-06-23 07:42:48 PM    Monday    False  Summer   \n",
       "2 2025-06-23 18:50:31  2025-06-23 06:50:31 PM    Monday    False  Summer   \n",
       "3 2025-06-23 16:37:21  2025-06-23 04:37:21 PM    Monday    False  Summer   \n",
       "4 2025-06-23 16:36:09  2025-06-23 04:36:09 PM    Monday    False  Summer   \n",
       "\n",
       "   HourAMPM  TimeOfDay             FullStreet        lat        lon  \n",
       "0  09:25 PM      Night  100 PIEDMONT AVE S, B  38.025907 -78.518736  \n",
       "1  07:42 PM    Evening         1100 5TH ST SW  38.017130 -78.497806  \n",
       "2  06:50 PM    Evening         1100 5TH ST SW  38.017130 -78.497806  \n",
       "3  04:37 PM  Afternoon       800 ST CLAIR AVE  38.034619 -78.466916  \n",
       "4  04:36 PM  Afternoon         1100 5TH ST SW  38.017130 -78.497806  "
      ]
     },
     "execution_count": 9,
     "metadata": {},
     "output_type": "execute_result"
    }
   ],
   "source": [
    "# Combine BlockNumber and StreetName into a full address string\n",
    "df['FullStreet'] = df['BlockNumber'].astype(str) + \" \" + df['StreetName']\n",
    "\n",
    "# --- Step 1: Setup the Google Maps Client and Cache ---\n",
    "gmaps = googlemaps.Client(key=GOOGLE_API_KEY)\n",
    "\n",
    "# Try to load cached geocoding results if available.\n",
    "try:\n",
    "    with open(\"geocode_cache_google.pkl\", \"rb\") as f:\n",
    "        street_coords = pickle.load(f)\n",
    "    print(\"Loaded geocode cache.\")\n",
    "except FileNotFoundError:\n",
    "    street_coords = {}\n",
    "    print(\"No cache found; starting fresh.\")\n",
    "\n",
    "def geocode_address(address):\n",
    "    try:\n",
    "        # Append city and state to help geocoding\n",
    "        result = gmaps.geocode(f\"{address}, Charlottesville, VA\")\n",
    "        if result:\n",
    "            lat = result[0]['geometry']['location']['lat']\n",
    "            lon = result[0]['geometry']['location']['lng']\n",
    "            return lat, lon\n",
    "    except Exception as e:\n",
    "        print(f\"Error geocoding {address}: {e}\")\n",
    "    return None, None\n",
    "\n",
    "# --- Step 2: Geocode Only New Addresses ---\n",
    "unique_addresses = df['FullStreet'].unique()\n",
    "for address in unique_addresses:\n",
    "    if address not in street_coords:\n",
    "        lat, lon = geocode_address(address)\n",
    "        street_coords[address] = (lat, lon)\n",
    "        print(f\"Geocoded {address}: {lat}, {lon}\")\n",
    "\n",
    "# Save the updated cache to disk.\n",
    "with open(\"geocode_cache_google.pkl\", \"wb\") as f:\n",
    "    pickle.dump(street_coords, f)\n",
    "    print(\"Geocode cache updated and saved.\")\n",
    "\n",
    "# --- Step 3: Map Coordinates Back to DataFrame ---\n",
    "df['lat'] = df['FullStreet'].map(lambda s: street_coords.get(s, (None, None))[0])\n",
    "df['lon'] = df['FullStreet'].map(lambda s: street_coords.get(s, (None, None))[1])\n",
    "\n",
    "df.head()"
   ]
  },
  {
   "cell_type": "markdown",
   "id": "5458c3ea",
   "metadata": {
    "papermill": {
     "duration": 0.004476,
     "end_time": "2025-06-26T01:06:08.641418",
     "exception": false,
     "start_time": "2025-06-26T01:06:08.636942",
     "status": "completed"
    },
    "tags": []
   },
   "source": [
    "### Neighborhood"
   ]
  },
  {
   "cell_type": "code",
   "execution_count": 10,
   "id": "b182dc20",
   "metadata": {
    "execution": {
     "iopub.execute_input": "2025-06-26T01:06:08.651444Z",
     "iopub.status.busy": "2025-06-26T01:06:08.651192Z",
     "iopub.status.idle": "2025-06-26T01:06:09.438484Z",
     "shell.execute_reply": "2025-06-26T01:06:09.437838Z"
    },
    "papermill": {
     "duration": 0.793687,
     "end_time": "2025-06-26T01:06:09.439537",
     "exception": false,
     "start_time": "2025-06-26T01:06:08.645850",
     "status": "completed"
    },
    "tags": []
   },
   "outputs": [
    {
     "name": "stdout",
     "output_type": "stream",
     "text": [
      "Loaded neighborhood cache.\n"
     ]
    },
    {
     "name": "stdout",
     "output_type": "stream",
     "text": [
      "Error getting neighborhood for nan, nan: HTTP Error: 400\n",
      "Error getting neighborhood for nan, nan: HTTP Error: 400\n",
      "Error getting neighborhood for nan, nan: HTTP Error: 400\n",
      "Error getting neighborhood for nan, nan: HTTP Error: 400\n",
      "Error getting neighborhood for nan, nan: HTTP Error: 400\n"
     ]
    },
    {
     "name": "stdout",
     "output_type": "stream",
     "text": [
      "Error getting neighborhood for nan, nan: HTTP Error: 400\n",
      "Error getting neighborhood for nan, nan: HTTP Error: 400\n",
      "Error getting neighborhood for nan, nan: HTTP Error: 400\n",
      "Error getting neighborhood for nan, nan: HTTP Error: 400\n",
      "Error getting neighborhood for nan, nan: HTTP Error: 400\n"
     ]
    },
    {
     "name": "stdout",
     "output_type": "stream",
     "text": [
      "Error getting neighborhood for nan, nan: HTTP Error: 400\n",
      "Error getting neighborhood for nan, nan: HTTP Error: 400\n",
      "Error getting neighborhood for nan, nan: HTTP Error: 400\n",
      "Error getting neighborhood for nan, nan: HTTP Error: 400\n",
      "Error getting neighborhood for nan, nan: HTTP Error: 400\n",
      "Error getting neighborhood for nan, nan: HTTP Error: 400\n",
      "Error getting neighborhood for nan, nan: HTTP Error: 400\n"
     ]
    },
    {
     "name": "stdout",
     "output_type": "stream",
     "text": [
      "Error getting neighborhood for nan, nan: HTTP Error: 400\n",
      "Error getting neighborhood for nan, nan: HTTP Error: 400\n",
      "Error getting neighborhood for nan, nan: HTTP Error: 400\n",
      "Error getting neighborhood for nan, nan: HTTP Error: 400\n",
      "Error getting neighborhood for nan, nan: HTTP Error: 400\n",
      "Error getting neighborhood for nan, nan: HTTP Error: 400\n",
      "Error getting neighborhood for nan, nan: HTTP Error: 400\n"
     ]
    },
    {
     "name": "stdout",
     "output_type": "stream",
     "text": [
      "Error getting neighborhood for nan, nan: HTTP Error: 400\n",
      "Error getting neighborhood for nan, nan: HTTP Error: 400\n",
      "Error getting neighborhood for nan, nan: HTTP Error: 400\n",
      "Error getting neighborhood for nan, nan: HTTP Error: 400\n",
      "Error getting neighborhood for nan, nan: HTTP Error: 400\n",
      "Error getting neighborhood for nan, nan: HTTP Error: 400\n"
     ]
    },
    {
     "data": {
      "text/html": [
       "<div>\n",
       "<style scoped>\n",
       "    .dataframe tbody tr th:only-of-type {\n",
       "        vertical-align: middle;\n",
       "    }\n",
       "\n",
       "    .dataframe tbody tr th {\n",
       "        vertical-align: top;\n",
       "    }\n",
       "\n",
       "    .dataframe thead th {\n",
       "        text-align: right;\n",
       "    }\n",
       "</style>\n",
       "<table border=\"1\" class=\"dataframe\">\n",
       "  <thead>\n",
       "    <tr style=\"text-align: right;\">\n",
       "      <th></th>\n",
       "      <th>RecordID</th>\n",
       "      <th>Offense</th>\n",
       "      <th>IncidentID</th>\n",
       "      <th>BlockNumber</th>\n",
       "      <th>StreetName</th>\n",
       "      <th>Agency</th>\n",
       "      <th>HourReported</th>\n",
       "      <th>ReportingOfficer</th>\n",
       "      <th>Date</th>\n",
       "      <th>DateString</th>\n",
       "      <th>DayOfWeek</th>\n",
       "      <th>Weekend</th>\n",
       "      <th>Season</th>\n",
       "      <th>HourAMPM</th>\n",
       "      <th>TimeOfDay</th>\n",
       "      <th>FullStreet</th>\n",
       "      <th>lat</th>\n",
       "      <th>lon</th>\n",
       "      <th>neighborhood</th>\n",
       "    </tr>\n",
       "  </thead>\n",
       "  <tbody>\n",
       "    <tr>\n",
       "      <th>0</th>\n",
       "      <td>1</td>\n",
       "      <td>Vandalism</td>\n",
       "      <td>202500021698</td>\n",
       "      <td>100</td>\n",
       "      <td>PIEDMONT AVE S, B</td>\n",
       "      <td>CPD</td>\n",
       "      <td>2125</td>\n",
       "      <td>Essex, Dominique</td>\n",
       "      <td>2025-06-23 21:25:25</td>\n",
       "      <td>2025-06-23 09:25:25 PM</td>\n",
       "      <td>Monday</td>\n",
       "      <td>False</td>\n",
       "      <td>Summer</td>\n",
       "      <td>09:25 PM</td>\n",
       "      <td>Night</td>\n",
       "      <td>100 PIEDMONT AVE S, B</td>\n",
       "      <td>38.025907</td>\n",
       "      <td>-78.518736</td>\n",
       "      <td>Jefferson Park Avenue</td>\n",
       "    </tr>\n",
       "    <tr>\n",
       "      <th>1</th>\n",
       "      <td>2</td>\n",
       "      <td>Trespass</td>\n",
       "      <td>202500021683</td>\n",
       "      <td>1100</td>\n",
       "      <td>5TH ST SW</td>\n",
       "      <td>CPD</td>\n",
       "      <td>1942</td>\n",
       "      <td>Essex, Dominique</td>\n",
       "      <td>2025-06-23 19:42:48</td>\n",
       "      <td>2025-06-23 07:42:48 PM</td>\n",
       "      <td>Monday</td>\n",
       "      <td>False</td>\n",
       "      <td>Summer</td>\n",
       "      <td>07:42 PM</td>\n",
       "      <td>Evening</td>\n",
       "      <td>1100 5TH ST SW</td>\n",
       "      <td>38.017130</td>\n",
       "      <td>-78.497806</td>\n",
       "      <td>Johnson Village</td>\n",
       "    </tr>\n",
       "    <tr>\n",
       "      <th>2</th>\n",
       "      <td>3</td>\n",
       "      <td>Trespass</td>\n",
       "      <td>202500021678</td>\n",
       "      <td>1100</td>\n",
       "      <td>5TH ST SW</td>\n",
       "      <td>CPD</td>\n",
       "      <td>1850</td>\n",
       "      <td>Crowley, Raeann</td>\n",
       "      <td>2025-06-23 18:50:31</td>\n",
       "      <td>2025-06-23 06:50:31 PM</td>\n",
       "      <td>Monday</td>\n",
       "      <td>False</td>\n",
       "      <td>Summer</td>\n",
       "      <td>06:50 PM</td>\n",
       "      <td>Evening</td>\n",
       "      <td>1100 5TH ST SW</td>\n",
       "      <td>38.017130</td>\n",
       "      <td>-78.497806</td>\n",
       "      <td>Johnson Village</td>\n",
       "    </tr>\n",
       "    <tr>\n",
       "      <th>3</th>\n",
       "      <td>4</td>\n",
       "      <td>Misc - Criminal Call</td>\n",
       "      <td>202500021657</td>\n",
       "      <td>800</td>\n",
       "      <td>ST CLAIR AVE</td>\n",
       "      <td>CPD</td>\n",
       "      <td>1637</td>\n",
       "      <td>Bland, Johnnà</td>\n",
       "      <td>2025-06-23 16:37:21</td>\n",
       "      <td>2025-06-23 04:37:21 PM</td>\n",
       "      <td>Monday</td>\n",
       "      <td>False</td>\n",
       "      <td>Summer</td>\n",
       "      <td>04:37 PM</td>\n",
       "      <td>Afternoon</td>\n",
       "      <td>800 ST CLAIR AVE</td>\n",
       "      <td>38.034619</td>\n",
       "      <td>-78.466916</td>\n",
       "      <td>Martha Jefferson</td>\n",
       "    </tr>\n",
       "    <tr>\n",
       "      <th>4</th>\n",
       "      <td>5</td>\n",
       "      <td>Larceny - Shoplifitng</td>\n",
       "      <td>202500021656</td>\n",
       "      <td>1100</td>\n",
       "      <td>5TH ST SW</td>\n",
       "      <td>CPD</td>\n",
       "      <td>1636</td>\n",
       "      <td>Lowry, Ryan</td>\n",
       "      <td>2025-06-23 16:36:09</td>\n",
       "      <td>2025-06-23 04:36:09 PM</td>\n",
       "      <td>Monday</td>\n",
       "      <td>False</td>\n",
       "      <td>Summer</td>\n",
       "      <td>04:36 PM</td>\n",
       "      <td>Afternoon</td>\n",
       "      <td>1100 5TH ST SW</td>\n",
       "      <td>38.017130</td>\n",
       "      <td>-78.497806</td>\n",
       "      <td>Johnson Village</td>\n",
       "    </tr>\n",
       "  </tbody>\n",
       "</table>\n",
       "</div>"
      ],
      "text/plain": [
       "   RecordID                Offense    IncidentID BlockNumber  \\\n",
       "0         1              Vandalism  202500021698         100   \n",
       "1         2               Trespass  202500021683        1100   \n",
       "2         3               Trespass  202500021678        1100   \n",
       "3         4   Misc - Criminal Call  202500021657         800   \n",
       "4         5  Larceny - Shoplifitng  202500021656        1100   \n",
       "\n",
       "          StreetName Agency HourReported  ReportingOfficer  \\\n",
       "0  PIEDMONT AVE S, B    CPD         2125  Essex, Dominique   \n",
       "1          5TH ST SW    CPD         1942  Essex, Dominique   \n",
       "2          5TH ST SW    CPD         1850   Crowley, Raeann   \n",
       "3       ST CLAIR AVE    CPD         1637     Bland, Johnnà   \n",
       "4          5TH ST SW    CPD         1636       Lowry, Ryan   \n",
       "\n",
       "                 Date              DateString DayOfWeek  Weekend  Season  \\\n",
       "0 2025-06-23 21:25:25  2025-06-23 09:25:25 PM    Monday    False  Summer   \n",
       "1 2025-06-23 19:42:48  2025-06-23 07:42:48 PM    Monday    False  Summer   \n",
       "2 2025-06-23 18:50:31  2025-06-23 06:50:31 PM    Monday    False  Summer   \n",
       "3 2025-06-23 16:37:21  2025-06-23 04:37:21 PM    Monday    False  Summer   \n",
       "4 2025-06-23 16:36:09  2025-06-23 04:36:09 PM    Monday    False  Summer   \n",
       "\n",
       "   HourAMPM  TimeOfDay             FullStreet        lat        lon  \\\n",
       "0  09:25 PM      Night  100 PIEDMONT AVE S, B  38.025907 -78.518736   \n",
       "1  07:42 PM    Evening         1100 5TH ST SW  38.017130 -78.497806   \n",
       "2  06:50 PM    Evening         1100 5TH ST SW  38.017130 -78.497806   \n",
       "3  04:37 PM  Afternoon       800 ST CLAIR AVE  38.034619 -78.466916   \n",
       "4  04:36 PM  Afternoon         1100 5TH ST SW  38.017130 -78.497806   \n",
       "\n",
       "            neighborhood  \n",
       "0  Jefferson Park Avenue  \n",
       "1        Johnson Village  \n",
       "2        Johnson Village  \n",
       "3       Martha Jefferson  \n",
       "4        Johnson Village  "
      ]
     },
     "execution_count": 10,
     "metadata": {},
     "output_type": "execute_result"
    }
   ],
   "source": [
    "# Initialize the Google Maps client.\n",
    "gmaps = googlemaps.Client(key=GOOGLE_API_KEY)\n",
    "\n",
    "# Try to load a persistent neighborhood cache if available.\n",
    "try:\n",
    "    with open(\"neighborhood_cache.pkl\", \"rb\") as f:\n",
    "        neighborhood_cache = pickle.load(f)\n",
    "    print(\"Loaded neighborhood cache.\")\n",
    "except FileNotFoundError:\n",
    "    neighborhood_cache = {}\n",
    "    print(\"No neighborhood cache found; starting fresh.\")\n",
    "\n",
    "def get_neighborhood(lat, lon):\n",
    "    \"\"\"\n",
    "    Reverse geocodes a latitude and longitude to retrieve the neighborhood.\n",
    "    Caches results to speed up subsequent lookups.\n",
    "    \"\"\"\n",
    "    key = (lat, lon)\n",
    "    if key in neighborhood_cache:\n",
    "        return neighborhood_cache[key]\n",
    "    \n",
    "    try:\n",
    "        result = gmaps.reverse_geocode((lat, lon))\n",
    "        if result:\n",
    "            # Look for the 'neighborhood' component in the first result.\n",
    "            for component in result[0]['address_components']:\n",
    "                if 'neighborhood' in component['types']:\n",
    "                    neighborhood = component['long_name']\n",
    "                    neighborhood_cache[key] = neighborhood\n",
    "                    return neighborhood\n",
    "            # If no neighborhood is found, return \"N/A\"\n",
    "            neighborhood_cache[key] = \"N/A\"\n",
    "            return \"N/A\"\n",
    "    except Exception as e:\n",
    "        print(f\"Error getting neighborhood for {lat}, {lon}: {e}\")\n",
    "        return \"N/A\"\n",
    "    \n",
    "    # Pause to respect usage limits.\n",
    "    time.sleep(1)\n",
    "\n",
    "# Example usage: Apply to your DataFrame 'df' that already has 'lat' and 'lon' columns.\n",
    "df['neighborhood'] = df.apply(lambda row: get_neighborhood(row['lat'], row['lon']), axis=1)\n",
    "\n",
    "# Save the updated neighborhood cache.\n",
    "with open(\"neighborhood_cache.pkl\", \"wb\") as f:\n",
    "    pickle.dump(neighborhood_cache, f)\n",
    "\n",
    "df.head()\n"
   ]
  },
  {
   "cell_type": "markdown",
   "id": "86390392",
   "metadata": {
    "papermill": {
     "duration": 0.004938,
     "end_time": "2025-06-26T01:06:09.449870",
     "exception": false,
     "start_time": "2025-06-26T01:06:09.444932",
     "status": "completed"
    },
    "tags": []
   },
   "source": [
    "### Zip"
   ]
  },
  {
   "cell_type": "code",
   "execution_count": 11,
   "id": "67008c3a",
   "metadata": {
    "execution": {
     "iopub.execute_input": "2025-06-26T01:06:09.460647Z",
     "iopub.status.busy": "2025-06-26T01:06:09.460375Z",
     "iopub.status.idle": "2025-06-26T01:06:39.748949Z",
     "shell.execute_reply": "2025-06-26T01:06:39.748169Z"
    },
    "papermill": {
     "duration": 30.302041,
     "end_time": "2025-06-26T01:06:39.756819",
     "exception": false,
     "start_time": "2025-06-26T01:06:09.454778",
     "status": "completed"
    },
    "tags": []
   },
   "outputs": [
    {
     "name": "stdout",
     "output_type": "stream",
     "text": [
      "Loaded zip cache.\n",
      "Error getting ZIP for nan, nan: Must be a coordinate pair or Point\n"
     ]
    },
    {
     "name": "stdout",
     "output_type": "stream",
     "text": [
      "Error getting ZIP for nan, nan: Must be a coordinate pair or Point\n"
     ]
    },
    {
     "name": "stdout",
     "output_type": "stream",
     "text": [
      "Error getting ZIP for nan, nan: Must be a coordinate pair or Point\n"
     ]
    },
    {
     "name": "stdout",
     "output_type": "stream",
     "text": [
      "Error getting ZIP for nan, nan: Must be a coordinate pair or Point\n"
     ]
    },
    {
     "name": "stdout",
     "output_type": "stream",
     "text": [
      "Error getting ZIP for nan, nan: Must be a coordinate pair or Point\n"
     ]
    },
    {
     "name": "stdout",
     "output_type": "stream",
     "text": [
      "Error getting ZIP for nan, nan: Must be a coordinate pair or Point\n"
     ]
    },
    {
     "name": "stdout",
     "output_type": "stream",
     "text": [
      "Error getting ZIP for nan, nan: Must be a coordinate pair or Point\n"
     ]
    },
    {
     "name": "stdout",
     "output_type": "stream",
     "text": [
      "Error getting ZIP for nan, nan: Must be a coordinate pair or Point\n"
     ]
    },
    {
     "name": "stdout",
     "output_type": "stream",
     "text": [
      "Error getting ZIP for nan, nan: Must be a coordinate pair or Point\n"
     ]
    },
    {
     "name": "stdout",
     "output_type": "stream",
     "text": [
      "Error getting ZIP for nan, nan: Must be a coordinate pair or Point\n"
     ]
    },
    {
     "name": "stdout",
     "output_type": "stream",
     "text": [
      "Error getting ZIP for nan, nan: Must be a coordinate pair or Point\n"
     ]
    },
    {
     "name": "stdout",
     "output_type": "stream",
     "text": [
      "Error getting ZIP for nan, nan: Must be a coordinate pair or Point\n"
     ]
    },
    {
     "name": "stdout",
     "output_type": "stream",
     "text": [
      "Error getting ZIP for nan, nan: Must be a coordinate pair or Point\n"
     ]
    },
    {
     "name": "stdout",
     "output_type": "stream",
     "text": [
      "Error getting ZIP for nan, nan: Must be a coordinate pair or Point\n"
     ]
    },
    {
     "name": "stdout",
     "output_type": "stream",
     "text": [
      "Error getting ZIP for nan, nan: Must be a coordinate pair or Point\n"
     ]
    },
    {
     "name": "stdout",
     "output_type": "stream",
     "text": [
      "Error getting ZIP for nan, nan: Must be a coordinate pair or Point\n"
     ]
    },
    {
     "name": "stdout",
     "output_type": "stream",
     "text": [
      "Error getting ZIP for nan, nan: Must be a coordinate pair or Point\n"
     ]
    },
    {
     "name": "stdout",
     "output_type": "stream",
     "text": [
      "Error getting ZIP for nan, nan: Must be a coordinate pair or Point\n"
     ]
    },
    {
     "name": "stdout",
     "output_type": "stream",
     "text": [
      "Error getting ZIP for nan, nan: Must be a coordinate pair or Point\n"
     ]
    },
    {
     "name": "stdout",
     "output_type": "stream",
     "text": [
      "Error getting ZIP for nan, nan: Must be a coordinate pair or Point\n"
     ]
    },
    {
     "name": "stdout",
     "output_type": "stream",
     "text": [
      "Error getting ZIP for nan, nan: Must be a coordinate pair or Point\n"
     ]
    },
    {
     "name": "stdout",
     "output_type": "stream",
     "text": [
      "Error getting ZIP for nan, nan: Must be a coordinate pair or Point\n"
     ]
    },
    {
     "name": "stdout",
     "output_type": "stream",
     "text": [
      "Error getting ZIP for nan, nan: Must be a coordinate pair or Point\n"
     ]
    },
    {
     "name": "stdout",
     "output_type": "stream",
     "text": [
      "Error getting ZIP for nan, nan: Must be a coordinate pair or Point\n"
     ]
    },
    {
     "name": "stdout",
     "output_type": "stream",
     "text": [
      "Error getting ZIP for nan, nan: Must be a coordinate pair or Point\n"
     ]
    },
    {
     "name": "stdout",
     "output_type": "stream",
     "text": [
      "Error getting ZIP for nan, nan: Must be a coordinate pair or Point\n"
     ]
    },
    {
     "name": "stdout",
     "output_type": "stream",
     "text": [
      "Error getting ZIP for nan, nan: Must be a coordinate pair or Point\n"
     ]
    },
    {
     "name": "stdout",
     "output_type": "stream",
     "text": [
      "Error getting ZIP for nan, nan: Must be a coordinate pair or Point\n"
     ]
    },
    {
     "name": "stdout",
     "output_type": "stream",
     "text": [
      "Error getting ZIP for nan, nan: Must be a coordinate pair or Point\n"
     ]
    },
    {
     "name": "stdout",
     "output_type": "stream",
     "text": [
      "Error getting ZIP for nan, nan: Must be a coordinate pair or Point\n"
     ]
    },
    {
     "data": {
      "text/html": [
       "<div>\n",
       "<style scoped>\n",
       "    .dataframe tbody tr th:only-of-type {\n",
       "        vertical-align: middle;\n",
       "    }\n",
       "\n",
       "    .dataframe tbody tr th {\n",
       "        vertical-align: top;\n",
       "    }\n",
       "\n",
       "    .dataframe thead th {\n",
       "        text-align: right;\n",
       "    }\n",
       "</style>\n",
       "<table border=\"1\" class=\"dataframe\">\n",
       "  <thead>\n",
       "    <tr style=\"text-align: right;\">\n",
       "      <th></th>\n",
       "      <th>RecordID</th>\n",
       "      <th>Offense</th>\n",
       "      <th>IncidentID</th>\n",
       "      <th>BlockNumber</th>\n",
       "      <th>StreetName</th>\n",
       "      <th>Agency</th>\n",
       "      <th>HourReported</th>\n",
       "      <th>ReportingOfficer</th>\n",
       "      <th>Date</th>\n",
       "      <th>DateString</th>\n",
       "      <th>DayOfWeek</th>\n",
       "      <th>Weekend</th>\n",
       "      <th>Season</th>\n",
       "      <th>HourAMPM</th>\n",
       "      <th>TimeOfDay</th>\n",
       "      <th>FullStreet</th>\n",
       "      <th>lat</th>\n",
       "      <th>lon</th>\n",
       "      <th>neighborhood</th>\n",
       "      <th>zip</th>\n",
       "    </tr>\n",
       "  </thead>\n",
       "  <tbody>\n",
       "    <tr>\n",
       "      <th>0</th>\n",
       "      <td>1</td>\n",
       "      <td>Vandalism</td>\n",
       "      <td>202500021698</td>\n",
       "      <td>100</td>\n",
       "      <td>PIEDMONT AVE S, B</td>\n",
       "      <td>CPD</td>\n",
       "      <td>2125</td>\n",
       "      <td>Essex, Dominique</td>\n",
       "      <td>2025-06-23 21:25:25</td>\n",
       "      <td>2025-06-23 09:25:25 PM</td>\n",
       "      <td>Monday</td>\n",
       "      <td>False</td>\n",
       "      <td>Summer</td>\n",
       "      <td>09:25 PM</td>\n",
       "      <td>Night</td>\n",
       "      <td>100 PIEDMONT AVE S, B</td>\n",
       "      <td>38.025907</td>\n",
       "      <td>-78.518736</td>\n",
       "      <td>Jefferson Park Avenue</td>\n",
       "      <td>22903</td>\n",
       "    </tr>\n",
       "    <tr>\n",
       "      <th>1</th>\n",
       "      <td>2</td>\n",
       "      <td>Trespass</td>\n",
       "      <td>202500021683</td>\n",
       "      <td>1100</td>\n",
       "      <td>5TH ST SW</td>\n",
       "      <td>CPD</td>\n",
       "      <td>1942</td>\n",
       "      <td>Essex, Dominique</td>\n",
       "      <td>2025-06-23 19:42:48</td>\n",
       "      <td>2025-06-23 07:42:48 PM</td>\n",
       "      <td>Monday</td>\n",
       "      <td>False</td>\n",
       "      <td>Summer</td>\n",
       "      <td>07:42 PM</td>\n",
       "      <td>Evening</td>\n",
       "      <td>1100 5TH ST SW</td>\n",
       "      <td>38.017130</td>\n",
       "      <td>-78.497806</td>\n",
       "      <td>Johnson Village</td>\n",
       "      <td>22903</td>\n",
       "    </tr>\n",
       "    <tr>\n",
       "      <th>2</th>\n",
       "      <td>3</td>\n",
       "      <td>Trespass</td>\n",
       "      <td>202500021678</td>\n",
       "      <td>1100</td>\n",
       "      <td>5TH ST SW</td>\n",
       "      <td>CPD</td>\n",
       "      <td>1850</td>\n",
       "      <td>Crowley, Raeann</td>\n",
       "      <td>2025-06-23 18:50:31</td>\n",
       "      <td>2025-06-23 06:50:31 PM</td>\n",
       "      <td>Monday</td>\n",
       "      <td>False</td>\n",
       "      <td>Summer</td>\n",
       "      <td>06:50 PM</td>\n",
       "      <td>Evening</td>\n",
       "      <td>1100 5TH ST SW</td>\n",
       "      <td>38.017130</td>\n",
       "      <td>-78.497806</td>\n",
       "      <td>Johnson Village</td>\n",
       "      <td>22903</td>\n",
       "    </tr>\n",
       "    <tr>\n",
       "      <th>3</th>\n",
       "      <td>4</td>\n",
       "      <td>Misc - Criminal Call</td>\n",
       "      <td>202500021657</td>\n",
       "      <td>800</td>\n",
       "      <td>ST CLAIR AVE</td>\n",
       "      <td>CPD</td>\n",
       "      <td>1637</td>\n",
       "      <td>Bland, Johnnà</td>\n",
       "      <td>2025-06-23 16:37:21</td>\n",
       "      <td>2025-06-23 04:37:21 PM</td>\n",
       "      <td>Monday</td>\n",
       "      <td>False</td>\n",
       "      <td>Summer</td>\n",
       "      <td>04:37 PM</td>\n",
       "      <td>Afternoon</td>\n",
       "      <td>800 ST CLAIR AVE</td>\n",
       "      <td>38.034619</td>\n",
       "      <td>-78.466916</td>\n",
       "      <td>Martha Jefferson</td>\n",
       "      <td>22901</td>\n",
       "    </tr>\n",
       "    <tr>\n",
       "      <th>4</th>\n",
       "      <td>5</td>\n",
       "      <td>Larceny - Shoplifitng</td>\n",
       "      <td>202500021656</td>\n",
       "      <td>1100</td>\n",
       "      <td>5TH ST SW</td>\n",
       "      <td>CPD</td>\n",
       "      <td>1636</td>\n",
       "      <td>Lowry, Ryan</td>\n",
       "      <td>2025-06-23 16:36:09</td>\n",
       "      <td>2025-06-23 04:36:09 PM</td>\n",
       "      <td>Monday</td>\n",
       "      <td>False</td>\n",
       "      <td>Summer</td>\n",
       "      <td>04:36 PM</td>\n",
       "      <td>Afternoon</td>\n",
       "      <td>1100 5TH ST SW</td>\n",
       "      <td>38.017130</td>\n",
       "      <td>-78.497806</td>\n",
       "      <td>Johnson Village</td>\n",
       "      <td>22903</td>\n",
       "    </tr>\n",
       "  </tbody>\n",
       "</table>\n",
       "</div>"
      ],
      "text/plain": [
       "   RecordID                Offense    IncidentID BlockNumber  \\\n",
       "0         1              Vandalism  202500021698         100   \n",
       "1         2               Trespass  202500021683        1100   \n",
       "2         3               Trespass  202500021678        1100   \n",
       "3         4   Misc - Criminal Call  202500021657         800   \n",
       "4         5  Larceny - Shoplifitng  202500021656        1100   \n",
       "\n",
       "          StreetName Agency HourReported  ReportingOfficer  \\\n",
       "0  PIEDMONT AVE S, B    CPD         2125  Essex, Dominique   \n",
       "1          5TH ST SW    CPD         1942  Essex, Dominique   \n",
       "2          5TH ST SW    CPD         1850   Crowley, Raeann   \n",
       "3       ST CLAIR AVE    CPD         1637     Bland, Johnnà   \n",
       "4          5TH ST SW    CPD         1636       Lowry, Ryan   \n",
       "\n",
       "                 Date              DateString DayOfWeek  Weekend  Season  \\\n",
       "0 2025-06-23 21:25:25  2025-06-23 09:25:25 PM    Monday    False  Summer   \n",
       "1 2025-06-23 19:42:48  2025-06-23 07:42:48 PM    Monday    False  Summer   \n",
       "2 2025-06-23 18:50:31  2025-06-23 06:50:31 PM    Monday    False  Summer   \n",
       "3 2025-06-23 16:37:21  2025-06-23 04:37:21 PM    Monday    False  Summer   \n",
       "4 2025-06-23 16:36:09  2025-06-23 04:36:09 PM    Monday    False  Summer   \n",
       "\n",
       "   HourAMPM  TimeOfDay             FullStreet        lat        lon  \\\n",
       "0  09:25 PM      Night  100 PIEDMONT AVE S, B  38.025907 -78.518736   \n",
       "1  07:42 PM    Evening         1100 5TH ST SW  38.017130 -78.497806   \n",
       "2  06:50 PM    Evening         1100 5TH ST SW  38.017130 -78.497806   \n",
       "3  04:37 PM  Afternoon       800 ST CLAIR AVE  38.034619 -78.466916   \n",
       "4  04:36 PM  Afternoon         1100 5TH ST SW  38.017130 -78.497806   \n",
       "\n",
       "            neighborhood    zip  \n",
       "0  Jefferson Park Avenue  22903  \n",
       "1        Johnson Village  22903  \n",
       "2        Johnson Village  22903  \n",
       "3       Martha Jefferson  22901  \n",
       "4        Johnson Village  22903  "
      ]
     },
     "execution_count": 11,
     "metadata": {},
     "output_type": "execute_result"
    }
   ],
   "source": [
    "# Initialize the geocoder.\n",
    "geolocator = Nominatim(user_agent=\"zip_lookup\")\n",
    "\n",
    "# Try to load a persistent ZIP cache if available.\n",
    "try:\n",
    "    with open(\"zip_cache.pkl\", \"rb\") as f:\n",
    "        zip_cache = pickle.load(f)\n",
    "    print(\"Loaded zip cache.\")\n",
    "except FileNotFoundError:\n",
    "    zip_cache = {}\n",
    "    print(\"No zip cache found; starting fresh.\")\n",
    "\n",
    "def get_zip(lat, lon):\n",
    "    \"\"\"\n",
    "    Reverse geocodes a latitude and longitude to retrieve the ZIP code.\n",
    "    Caches results to speed up subsequent lookups.\n",
    "    \"\"\"\n",
    "    key = (lat, lon)\n",
    "    if key in zip_cache:\n",
    "        return zip_cache[key]\n",
    "    \n",
    "    try:\n",
    "        location = geolocator.reverse((lat, lon), exactly_one=True, timeout=10)\n",
    "        address = location.raw.get('address', {})\n",
    "        postal_code = address.get('postcode', \"N/A\")\n",
    "    except Exception as e:\n",
    "        print(f\"Error getting ZIP for {lat}, {lon}: {e}\")\n",
    "        postal_code = \"N/A\"\n",
    "    \n",
    "    zip_cache[key] = postal_code\n",
    "    # Pause to respect the usage policy.\n",
    "    time.sleep(1)\n",
    "    return postal_code\n",
    "\n",
    "# Apply the function to each row in the DataFrame.\n",
    "df['zip'] = df.apply(lambda row: get_zip(row['lat'], row['lon']), axis=1)\n",
    "\n",
    "# Save the updated ZIP cache.\n",
    "with open(\"zip_cache.pkl\", \"wb\") as f:\n",
    "    pickle.dump(zip_cache, f)\n",
    "\n",
    "df.head()\n"
   ]
  },
  {
   "cell_type": "code",
   "execution_count": 12,
   "id": "86f9aedb",
   "metadata": {
    "execution": {
     "iopub.execute_input": "2025-06-26T01:06:39.770902Z",
     "iopub.status.busy": "2025-06-26T01:06:39.770416Z",
     "iopub.status.idle": "2025-06-26T01:06:39.799412Z",
     "shell.execute_reply": "2025-06-26T01:06:39.798822Z"
    },
    "papermill": {
     "duration": 0.037161,
     "end_time": "2025-06-26T01:06:39.800485",
     "exception": false,
     "start_time": "2025-06-26T01:06:39.763324",
     "status": "completed"
    },
    "tags": []
   },
   "outputs": [
    {
     "name": "stdout",
     "output_type": "stream",
     "text": [
      "                  MissingCount  MissingPercentage\n",
      "RecordID                     0               0.00\n",
      "Offense                      0               0.00\n",
      "IncidentID                   0               0.00\n",
      "BlockNumber                  0               0.00\n",
      "StreetName                   0               0.00\n",
      "Agency                       0               0.00\n",
      "HourReported                 0               0.00\n",
      "ReportingOfficer            17               0.07\n",
      "Date                         0               0.00\n",
      "DateString                   0               0.00\n",
      "DayOfWeek                    0               0.00\n",
      "Weekend                      0               0.00\n",
      "Season                       0               0.00\n",
      "HourAMPM                     0               0.00\n",
      "TimeOfDay                    0               0.00\n",
      "FullStreet                   0               0.00\n",
      "lat                         30               0.12\n",
      "lon                         30               0.12\n",
      "neighborhood                 0               0.00\n",
      "zip                          0               0.00\n"
     ]
    }
   ],
   "source": [
    "missing_info = missing_percentage(df)\n",
    "print(missing_info)\n"
   ]
  },
  {
   "cell_type": "code",
   "execution_count": 13,
   "id": "9ae3661a",
   "metadata": {
    "execution": {
     "iopub.execute_input": "2025-06-26T01:06:39.814753Z",
     "iopub.status.busy": "2025-06-26T01:06:39.814381Z",
     "iopub.status.idle": "2025-06-26T01:06:39.844346Z",
     "shell.execute_reply": "2025-06-26T01:06:39.843676Z"
    },
    "papermill": {
     "duration": 0.038165,
     "end_time": "2025-06-26T01:06:39.845462",
     "exception": false,
     "start_time": "2025-06-26T01:06:39.807297",
     "status": "completed"
    },
    "tags": []
   },
   "outputs": [
    {
     "name": "stdout",
     "output_type": "stream",
     "text": [
      "<class 'pandas.core.frame.DataFrame'>\n",
      "RangeIndex: 25540 entries, 0 to 25539\n",
      "Data columns (total 20 columns):\n",
      " #   Column            Non-Null Count  Dtype         \n",
      "---  ------            --------------  -----         \n",
      " 0   RecordID          25540 non-null  int64         \n",
      " 1   Offense           25540 non-null  object        \n",
      " 2   IncidentID        25540 non-null  object        \n",
      " 3   BlockNumber       25540 non-null  object        \n",
      " 4   StreetName        25540 non-null  object        \n",
      " 5   Agency            25540 non-null  object        \n",
      " 6   HourReported      25540 non-null  object        \n",
      " 7   ReportingOfficer  25523 non-null  object        \n",
      " 8   Date              25540 non-null  datetime64[ns]\n",
      " 9   DateString        25540 non-null  object        \n",
      " 10  DayOfWeek         25540 non-null  object        \n",
      " 11  Weekend           25540 non-null  bool          \n",
      " 12  Season            25540 non-null  object        \n",
      " 13  HourAMPM          25540 non-null  object        \n",
      " 14  TimeOfDay         25540 non-null  object        \n",
      " 15  FullStreet        25540 non-null  object        \n",
      " 16  lat               25510 non-null  float64       \n",
      " 17  lon               25510 non-null  float64       \n",
      " 18  neighborhood      25540 non-null  object        \n",
      " 19  zip               25540 non-null  object        \n",
      "dtypes: bool(1), datetime64[ns](1), float64(2), int64(1), object(15)\n",
      "memory usage: 3.7+ MB\n"
     ]
    }
   ],
   "source": [
    "df.info()"
   ]
  },
  {
   "cell_type": "code",
   "execution_count": 14,
   "id": "a6b5e0b6",
   "metadata": {
    "execution": {
     "iopub.execute_input": "2025-06-26T01:06:39.860307Z",
     "iopub.status.busy": "2025-06-26T01:06:39.859788Z",
     "iopub.status.idle": "2025-06-26T01:06:39.906212Z",
     "shell.execute_reply": "2025-06-26T01:06:39.905503Z"
    },
    "papermill": {
     "duration": 0.054998,
     "end_time": "2025-06-26T01:06:39.907360",
     "exception": false,
     "start_time": "2025-06-26T01:06:39.852362",
     "status": "completed"
    },
    "tags": []
   },
   "outputs": [
    {
     "data": {
      "text/html": [
       "<div>\n",
       "<style scoped>\n",
       "    .dataframe tbody tr th:only-of-type {\n",
       "        vertical-align: middle;\n",
       "    }\n",
       "\n",
       "    .dataframe tbody tr th {\n",
       "        vertical-align: top;\n",
       "    }\n",
       "\n",
       "    .dataframe thead th {\n",
       "        text-align: right;\n",
       "    }\n",
       "</style>\n",
       "<table border=\"1\" class=\"dataframe\">\n",
       "  <thead>\n",
       "    <tr style=\"text-align: right;\">\n",
       "      <th></th>\n",
       "      <th>RecordID</th>\n",
       "      <th>Offense</th>\n",
       "      <th>IncidentID</th>\n",
       "      <th>Agency</th>\n",
       "      <th>ReportingOfficer</th>\n",
       "      <th>Date</th>\n",
       "      <th>DayOfWeek</th>\n",
       "      <th>Weekend</th>\n",
       "      <th>Season</th>\n",
       "      <th>TimeOfDay</th>\n",
       "      <th>FullStreet</th>\n",
       "      <th>lat</th>\n",
       "      <th>lon</th>\n",
       "      <th>neighborhood</th>\n",
       "      <th>zip</th>\n",
       "    </tr>\n",
       "  </thead>\n",
       "  <tbody>\n",
       "    <tr>\n",
       "      <th>0</th>\n",
       "      <td>1</td>\n",
       "      <td>Vandalism</td>\n",
       "      <td>202500021698</td>\n",
       "      <td>CPD</td>\n",
       "      <td>Essex, Dominique</td>\n",
       "      <td>2025-06-23 21:25:25</td>\n",
       "      <td>Monday</td>\n",
       "      <td>False</td>\n",
       "      <td>Summer</td>\n",
       "      <td>Night</td>\n",
       "      <td>100 PIEDMONT AVE S, B</td>\n",
       "      <td>38.025907</td>\n",
       "      <td>-78.518736</td>\n",
       "      <td>Jefferson Park Avenue</td>\n",
       "      <td>22903</td>\n",
       "    </tr>\n",
       "    <tr>\n",
       "      <th>1</th>\n",
       "      <td>2</td>\n",
       "      <td>Trespass</td>\n",
       "      <td>202500021683</td>\n",
       "      <td>CPD</td>\n",
       "      <td>Essex, Dominique</td>\n",
       "      <td>2025-06-23 19:42:48</td>\n",
       "      <td>Monday</td>\n",
       "      <td>False</td>\n",
       "      <td>Summer</td>\n",
       "      <td>Evening</td>\n",
       "      <td>1100 5TH ST SW</td>\n",
       "      <td>38.01713</td>\n",
       "      <td>-78.497806</td>\n",
       "      <td>Johnson Village</td>\n",
       "      <td>22903</td>\n",
       "    </tr>\n",
       "    <tr>\n",
       "      <th>2</th>\n",
       "      <td>3</td>\n",
       "      <td>Trespass</td>\n",
       "      <td>202500021678</td>\n",
       "      <td>CPD</td>\n",
       "      <td>Crowley, Raeann</td>\n",
       "      <td>2025-06-23 18:50:31</td>\n",
       "      <td>Monday</td>\n",
       "      <td>False</td>\n",
       "      <td>Summer</td>\n",
       "      <td>Evening</td>\n",
       "      <td>1100 5TH ST SW</td>\n",
       "      <td>38.01713</td>\n",
       "      <td>-78.497806</td>\n",
       "      <td>Johnson Village</td>\n",
       "      <td>22903</td>\n",
       "    </tr>\n",
       "    <tr>\n",
       "      <th>3</th>\n",
       "      <td>4</td>\n",
       "      <td>Misc - Criminal Call</td>\n",
       "      <td>202500021657</td>\n",
       "      <td>CPD</td>\n",
       "      <td>Bland, Johnnà</td>\n",
       "      <td>2025-06-23 16:37:21</td>\n",
       "      <td>Monday</td>\n",
       "      <td>False</td>\n",
       "      <td>Summer</td>\n",
       "      <td>Afternoon</td>\n",
       "      <td>800 ST CLAIR AVE</td>\n",
       "      <td>38.034619</td>\n",
       "      <td>-78.466916</td>\n",
       "      <td>Martha Jefferson</td>\n",
       "      <td>22901</td>\n",
       "    </tr>\n",
       "    <tr>\n",
       "      <th>4</th>\n",
       "      <td>5</td>\n",
       "      <td>Larceny - Shoplifitng</td>\n",
       "      <td>202500021656</td>\n",
       "      <td>CPD</td>\n",
       "      <td>Lowry, Ryan</td>\n",
       "      <td>2025-06-23 16:36:09</td>\n",
       "      <td>Monday</td>\n",
       "      <td>False</td>\n",
       "      <td>Summer</td>\n",
       "      <td>Afternoon</td>\n",
       "      <td>1100 5TH ST SW</td>\n",
       "      <td>38.01713</td>\n",
       "      <td>-78.497806</td>\n",
       "      <td>Johnson Village</td>\n",
       "      <td>22903</td>\n",
       "    </tr>\n",
       "  </tbody>\n",
       "</table>\n",
       "</div>"
      ],
      "text/plain": [
       "   RecordID                Offense    IncidentID Agency  ReportingOfficer  \\\n",
       "0         1              Vandalism  202500021698    CPD  Essex, Dominique   \n",
       "1         2               Trespass  202500021683    CPD  Essex, Dominique   \n",
       "2         3               Trespass  202500021678    CPD   Crowley, Raeann   \n",
       "3         4   Misc - Criminal Call  202500021657    CPD     Bland, Johnnà   \n",
       "4         5  Larceny - Shoplifitng  202500021656    CPD       Lowry, Ryan   \n",
       "\n",
       "                 Date DayOfWeek  Weekend  Season  TimeOfDay  \\\n",
       "0 2025-06-23 21:25:25    Monday    False  Summer      Night   \n",
       "1 2025-06-23 19:42:48    Monday    False  Summer    Evening   \n",
       "2 2025-06-23 18:50:31    Monday    False  Summer    Evening   \n",
       "3 2025-06-23 16:37:21    Monday    False  Summer  Afternoon   \n",
       "4 2025-06-23 16:36:09    Monday    False  Summer  Afternoon   \n",
       "\n",
       "              FullStreet        lat        lon           neighborhood    zip  \n",
       "0  100 PIEDMONT AVE S, B  38.025907 -78.518736  Jefferson Park Avenue  22903  \n",
       "1         1100 5TH ST SW   38.01713 -78.497806        Johnson Village  22903  \n",
       "2         1100 5TH ST SW   38.01713 -78.497806        Johnson Village  22903  \n",
       "3       800 ST CLAIR AVE  38.034619 -78.466916       Martha Jefferson  22901  \n",
       "4         1100 5TH ST SW   38.01713 -78.497806        Johnson Village  22903  "
      ]
     },
     "execution_count": 14,
     "metadata": {},
     "output_type": "execute_result"
    }
   ],
   "source": [
    "# Now drop the original BlockNumber and StreetName columns\n",
    "df.drop(columns=['BlockNumber', 'StreetName','HourAMPM','HourReported','DateString'], inplace=True)\n",
    "df[\"zip\"] = df[\"zip\"].astype(str)\n",
    "\n",
    "# Fill all missing values in the DataFrame with \"N/A\"\n",
    "df.replace({None: \"N/A\", np.nan: \"N/A\", \"\": \"N/A\"}, inplace=True)\n",
    "df.head()"
   ]
  },
  {
   "cell_type": "code",
   "execution_count": 15,
   "id": "8271c982",
   "metadata": {
    "execution": {
     "iopub.execute_input": "2025-06-26T01:06:39.922754Z",
     "iopub.status.busy": "2025-06-26T01:06:39.922301Z",
     "iopub.status.idle": "2025-06-26T01:06:39.940753Z",
     "shell.execute_reply": "2025-06-26T01:06:39.940108Z"
    },
    "papermill": {
     "duration": 0.02716,
     "end_time": "2025-06-26T01:06:39.941822",
     "exception": false,
     "start_time": "2025-06-26T01:06:39.914662",
     "status": "completed"
    },
    "tags": []
   },
   "outputs": [
    {
     "name": "stdout",
     "output_type": "stream",
     "text": [
      "                  MissingCount  MissingPercentage\n",
      "RecordID                     0                0.0\n",
      "Offense                      0                0.0\n",
      "IncidentID                   0                0.0\n",
      "Agency                       0                0.0\n",
      "ReportingOfficer             0                0.0\n",
      "Date                         0                0.0\n",
      "DayOfWeek                    0                0.0\n",
      "Weekend                      0                0.0\n",
      "Season                       0                0.0\n",
      "TimeOfDay                    0                0.0\n",
      "FullStreet                   0                0.0\n",
      "lat                          0                0.0\n",
      "lon                          0                0.0\n",
      "neighborhood                 0                0.0\n",
      "zip                          0                0.0\n"
     ]
    }
   ],
   "source": [
    "missing_info = missing_percentage(df)\n",
    "print(missing_info)"
   ]
  },
  {
   "cell_type": "code",
   "execution_count": 16,
   "id": "bea9f505",
   "metadata": {
    "execution": {
     "iopub.execute_input": "2025-06-26T01:06:39.956947Z",
     "iopub.status.busy": "2025-06-26T01:06:39.956462Z",
     "iopub.status.idle": "2025-06-26T01:06:39.961136Z",
     "shell.execute_reply": "2025-06-26T01:06:39.960519Z"
    },
    "papermill": {
     "duration": 0.013151,
     "end_time": "2025-06-26T01:06:39.962141",
     "exception": false,
     "start_time": "2025-06-26T01:06:39.948990",
     "status": "completed"
    },
    "tags": []
   },
   "outputs": [
    {
     "data": {
      "text/plain": [
       "Index(['RecordID', 'Offense', 'IncidentID', 'Agency', 'ReportingOfficer',\n",
       "       'Date', 'DayOfWeek', 'Weekend', 'Season', 'TimeOfDay', 'FullStreet',\n",
       "       'lat', 'lon', 'neighborhood', 'zip'],\n",
       "      dtype='object')"
      ]
     },
     "execution_count": 16,
     "metadata": {},
     "output_type": "execute_result"
    }
   ],
   "source": [
    "df.columns"
   ]
  },
  {
   "cell_type": "code",
   "execution_count": 17,
   "id": "49daabad",
   "metadata": {
    "execution": {
     "iopub.execute_input": "2025-06-26T01:06:39.976994Z",
     "iopub.status.busy": "2025-06-26T01:06:39.976766Z",
     "iopub.status.idle": "2025-06-26T01:06:39.998076Z",
     "shell.execute_reply": "2025-06-26T01:06:39.997473Z"
    },
    "papermill": {
     "duration": 0.029878,
     "end_time": "2025-06-26T01:06:39.999097",
     "exception": false,
     "start_time": "2025-06-26T01:06:39.969219",
     "status": "completed"
    },
    "tags": []
   },
   "outputs": [
    {
     "name": "stdout",
     "output_type": "stream",
     "text": [
      "<class 'pandas.core.frame.DataFrame'>\n",
      "RangeIndex: 25540 entries, 0 to 25539\n",
      "Data columns (total 15 columns):\n",
      " #   Column            Non-Null Count  Dtype         \n",
      "---  ------            --------------  -----         \n",
      " 0   RecordID          25540 non-null  int64         \n",
      " 1   Offense           25540 non-null  object        \n",
      " 2   IncidentID        25540 non-null  object        \n",
      " 3   Agency            25540 non-null  object        \n",
      " 4   ReportingOfficer  25540 non-null  object        \n",
      " 5   Date              25540 non-null  datetime64[ns]\n",
      " 6   DayOfWeek         25540 non-null  object        \n",
      " 7   Weekend           25540 non-null  bool          \n",
      " 8   Season            25540 non-null  object        \n",
      " 9   TimeOfDay         25540 non-null  object        \n",
      " 10  FullStreet        25540 non-null  object        \n",
      " 11  lat               25540 non-null  object        \n",
      " 12  lon               25540 non-null  object        \n",
      " 13  neighborhood      25540 non-null  object        \n",
      " 14  zip               25540 non-null  object        \n",
      "dtypes: bool(1), datetime64[ns](1), int64(1), object(12)\n",
      "memory usage: 2.8+ MB\n"
     ]
    }
   ],
   "source": [
    "df.info()"
   ]
  },
  {
   "cell_type": "markdown",
   "id": "7bd08434",
   "metadata": {
    "papermill": {
     "duration": 0.006962,
     "end_time": "2025-06-26T01:06:40.013293",
     "exception": false,
     "start_time": "2025-06-26T01:06:40.006331",
     "status": "completed"
    },
    "tags": []
   },
   "source": [
    "### Export Clean Data"
   ]
  },
  {
   "cell_type": "code",
   "execution_count": 18,
   "id": "cb9fbbc1",
   "metadata": {
    "execution": {
     "iopub.execute_input": "2025-06-26T01:06:40.028538Z",
     "iopub.status.busy": "2025-06-26T01:06:40.028313Z",
     "iopub.status.idle": "2025-06-26T01:06:49.267716Z",
     "shell.execute_reply": "2025-06-26T01:06:49.266989Z"
    },
    "papermill": {
     "duration": 9.248489,
     "end_time": "2025-06-26T01:06:49.268928",
     "exception": false,
     "start_time": "2025-06-26T01:06:40.020439",
     "status": "completed"
    },
    "tags": []
   },
   "outputs": [
    {
     "name": "stdout",
     "output_type": "stream",
     "text": [
      "Project Root: /home/runner/work/crime-data/crime-data\n"
     ]
    },
    {
     "name": "stdout",
     "output_type": "stream",
     "text": [
      "Data saved to: /home/runner/work/crime-data/crime-data/data/charlottesville_crime_incidents.csv\n"
     ]
    },
    {
     "name": "stdout",
     "output_type": "stream",
     "text": [
      "Excel saved to: /home/runner/work/crime-data/crime-data/data/charlottesville_crime_incidents.xlsx\n"
     ]
    }
   ],
   "source": [
    "# Determine the project root (assuming papermill is run from the repository root)\n",
    "project_root = os.getcwd()\n",
    "print(\"Project Root:\", project_root)\n",
    "\n",
    "# Set the data directory within the project root\n",
    "data_dir = os.path.join(project_root, \"data\")\n",
    "\n",
    "# Ensure the \"data\" directory exists (create it if it doesn't)\n",
    "if not os.path.exists(data_dir):\n",
    "    os.makedirs(data_dir)\n",
    "\n",
    "# Export the DataFrame to CSV in the \"data\" folder located in the project root\n",
    "csv_path = os.path.join(data_dir, \"charlottesville_crime_incidents.csv\")\n",
    "df.to_csv(csv_path, index=False)\n",
    "print(\"Data saved to:\", csv_path)\n",
    "\n",
    "# Construct the path to your Excel file\n",
    "excel_path = os.path.join(data_dir, \"charlottesville_crime_incidents.xlsx\")\n",
    "\n",
    "# Export the DataFrame to Excel\n",
    "df.to_excel(excel_path, index=False)\n",
    "print(\"Excel saved to:\", excel_path)\n"
   ]
  }
 ],
 "metadata": {
  "kernelspec": {
   "display_name": "Python 3",
   "language": "python",
   "name": "python3"
  },
  "language_info": {
   "codemirror_mode": {
    "name": "ipython",
    "version": 3
   },
   "file_extension": ".py",
   "mimetype": "text/x-python",
   "name": "python",
   "nbconvert_exporter": "python",
   "pygments_lexer": "ipython3",
   "version": "3.9.23"
  },
  "papermill": {
   "default_parameters": {},
   "duration": 115.335844,
   "end_time": "2025-06-26T01:06:49.692269",
   "environment_variables": {},
   "exception": null,
   "input_path": "notebook/Crime Data.ipynb",
   "output_path": "notebook/Crime Data_output.ipynb",
   "parameters": {},
   "start_time": "2025-06-26T01:04:54.356425",
   "version": "2.6.0"
  }
 },
 "nbformat": 4,
 "nbformat_minor": 5
}