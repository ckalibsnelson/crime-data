{
 "cells": [
  {
   "cell_type": "markdown",
   "id": "8b94e238",
   "metadata": {
    "papermill": {
     "duration": 0.00621,
     "end_time": "2025-05-28T01:03:25.017523",
     "exception": false,
     "start_time": "2025-05-28T01:03:25.011313",
     "status": "completed"
    },
    "tags": []
   },
   "source": [
    "# Charlottesville Open Data Porttal: Crime Data"
   ]
  },
  {
   "cell_type": "markdown",
   "id": "743c3412",
   "metadata": {
    "papermill": {
     "duration": 0.005017,
     "end_time": "2025-05-28T01:03:25.027983",
     "exception": false,
     "start_time": "2025-05-28T01:03:25.022966",
     "status": "completed"
    },
    "tags": []
   },
   "source": [
    "## Import Relevant Librarires & Set WD"
   ]
  },
  {
   "cell_type": "code",
   "execution_count": 1,
   "id": "8e39f206",
   "metadata": {
    "execution": {
     "iopub.execute_input": "2025-05-28T01:03:25.039792Z",
     "iopub.status.busy": "2025-05-28T01:03:25.039164Z",
     "iopub.status.idle": "2025-05-28T01:03:25.564965Z",
     "shell.execute_reply": "2025-05-28T01:03:25.564207Z"
    },
    "papermill": {
     "duration": 0.533337,
     "end_time": "2025-05-28T01:03:25.566415",
     "exception": false,
     "start_time": "2025-05-28T01:03:25.033078",
     "status": "completed"
    },
    "tags": []
   },
   "outputs": [],
   "source": [
    "import requests\n",
    "import pandas as pd\n",
    "import numpy as np\n",
    "import pickle\n",
    "import googlemaps\n",
    "import plotly.express as px\n",
    "from geopy.geocoders import Nominatim\n",
    "import time\n",
    "from dotenv import load_dotenv\n",
    "import os\n",
    "\n",
    "env_path = os.path.join(\"..\", \".env\")\n",
    "#print(\"Looking for .env file at:\", os.path.abspath(env_path))\n",
    "load_dotenv(dotenv_path=env_path)\n",
    "\n",
    "# Retrieve the variables\n",
    "GOOGLE_API_KEY = os.getenv(\"GOOGLE_API_KEY\")\n",
    "WORKING_DIR = os.getenv(\"WORKING_DIR\")\n",
    "\n",
    "if GOOGLE_API_KEY is None or WORKING_DIR is None:\n",
    "    raise RuntimeError(\"No configuration found. Please ensure that your .env file exists with the required variables, or create a local config.py file.\")\n",
    "\n",
    "#print(\"Google API Key:\", GOOGLE_API_KEY)\n",
    "#print(\"Working Directory:\", WORKING_DIR)"
   ]
  },
  {
   "cell_type": "markdown",
   "id": "c494e969",
   "metadata": {
    "papermill": {
     "duration": 0.005179,
     "end_time": "2025-05-28T01:03:25.577140",
     "exception": false,
     "start_time": "2025-05-28T01:03:25.571961",
     "status": "completed"
    },
    "tags": []
   },
   "source": [
    "## Import Data\n",
    "\n",
    "URL: https://opendata.charlottesville.org/datasets/charlottesville::crime-data/about"
   ]
  },
  {
   "cell_type": "code",
   "execution_count": 2,
   "id": "9a9e8616",
   "metadata": {
    "execution": {
     "iopub.execute_input": "2025-05-28T01:03:25.589209Z",
     "iopub.status.busy": "2025-05-28T01:03:25.588859Z",
     "iopub.status.idle": "2025-05-28T01:04:26.960640Z",
     "shell.execute_reply": "2025-05-28T01:04:26.959934Z"
    },
    "papermill": {
     "duration": 61.410585,
     "end_time": "2025-05-28T01:04:26.993514",
     "exception": false,
     "start_time": "2025-05-28T01:03:25.582929",
     "status": "completed"
    },
    "tags": []
   },
   "outputs": [
    {
     "name": "stdout",
     "output_type": "stream",
     "text": [
      "Total records imported: 25421\n"
     ]
    }
   ],
   "source": [
    "# Define the endpoint and initial parameters.\n",
    "url = \"https://gisweb.charlottesville.org/arcgis/rest/services/OpenData_2/MapServer/6/query\"\n",
    "params = {\n",
    "    \"where\": \"1=1\",\n",
    "    \"outFields\": \"*\",\n",
    "    \"outSR\": 4326,\n",
    "    \"f\": \"json\",\n",
    "    \"resultOffset\": 0,       # Starting index for results\n",
    "    \"resultRecordCount\": 10000  # Maximum records per batch (if allowed by the API)\n",
    "}\n",
    "\n",
    "records = []\n",
    "\n",
    "while True:\n",
    "    response = requests.get(url, params=params)\n",
    "    response.raise_for_status()\n",
    "    data = response.json()\n",
    "    \n",
    "    # Get the current batch of features.\n",
    "    features = data.get(\"features\", [])\n",
    "    if not features:\n",
    "        break\n",
    "\n",
    "    # Extract the attributes from the features.\n",
    "    batch_records = [feature.get(\"attributes\", {}) for feature in features]\n",
    "    records.extend(batch_records)\n",
    "    \n",
    "    # If the batch size is less than the requested count, we reached the end.\n",
    "    if len(features) < params[\"resultRecordCount\"]:\n",
    "        break\n",
    "\n",
    "    # Update the resultOffset for the next batch.\n",
    "    params[\"resultOffset\"] += params[\"resultRecordCount\"]\n",
    "\n",
    "# Create a DataFrame from the combined records.\n",
    "df = pd.DataFrame(records)\n",
    "print(\"Total records imported:\", len(df))\n"
   ]
  },
  {
   "cell_type": "code",
   "execution_count": 3,
   "id": "0ee29e73",
   "metadata": {
    "execution": {
     "iopub.execute_input": "2025-05-28T01:04:27.005929Z",
     "iopub.status.busy": "2025-05-28T01:04:27.005199Z",
     "iopub.status.idle": "2025-05-28T01:04:27.018366Z",
     "shell.execute_reply": "2025-05-28T01:04:27.017789Z"
    },
    "papermill": {
     "duration": 0.020628,
     "end_time": "2025-05-28T01:04:27.019550",
     "exception": false,
     "start_time": "2025-05-28T01:04:26.998922",
     "status": "completed"
    },
    "tags": []
   },
   "outputs": [
    {
     "data": {
      "text/html": [
       "<div>\n",
       "<style scoped>\n",
       "    .dataframe tbody tr th:only-of-type {\n",
       "        vertical-align: middle;\n",
       "    }\n",
       "\n",
       "    .dataframe tbody tr th {\n",
       "        vertical-align: top;\n",
       "    }\n",
       "\n",
       "    .dataframe thead th {\n",
       "        text-align: right;\n",
       "    }\n",
       "</style>\n",
       "<table border=\"1\" class=\"dataframe\">\n",
       "  <thead>\n",
       "    <tr style=\"text-align: right;\">\n",
       "      <th></th>\n",
       "      <th>RecordID</th>\n",
       "      <th>Offense</th>\n",
       "      <th>IncidentID</th>\n",
       "      <th>BlockNumber</th>\n",
       "      <th>StreetName</th>\n",
       "      <th>Agency</th>\n",
       "      <th>DateReported</th>\n",
       "      <th>HourReported</th>\n",
       "      <th>ReportingOfficer</th>\n",
       "    </tr>\n",
       "  </thead>\n",
       "  <tbody>\n",
       "    <tr>\n",
       "      <th>0</th>\n",
       "      <td>1</td>\n",
       "      <td>Animal Complaint</td>\n",
       "      <td>202500017824</td>\n",
       "      <td>1500</td>\n",
       "      <td>ROSA TER</td>\n",
       "      <td>CPD</td>\n",
       "      <td>1748198841000</td>\n",
       "      <td>1447</td>\n",
       "      <td>Schwartz, Honora</td>\n",
       "    </tr>\n",
       "    <tr>\n",
       "      <th>1</th>\n",
       "      <td>2</td>\n",
       "      <td>Assist Citizen - Mental/TDO/ECO</td>\n",
       "      <td>202500017812</td>\n",
       "      <td>600</td>\n",
       "      <td>6TH ST SE, 120</td>\n",
       "      <td>CPD</td>\n",
       "      <td>1748190113000</td>\n",
       "      <td>1221</td>\n",
       "      <td>Wisser, Shawn</td>\n",
       "    </tr>\n",
       "    <tr>\n",
       "      <th>2</th>\n",
       "      <td>3</td>\n",
       "      <td>Lost/FoundProperty</td>\n",
       "      <td>202500017811</td>\n",
       "      <td>900</td>\n",
       "      <td>E MARKET ST</td>\n",
       "      <td>CPD</td>\n",
       "      <td>1748189394000</td>\n",
       "      <td>1209</td>\n",
       "      <td>Kirby, Tyree</td>\n",
       "    </tr>\n",
       "    <tr>\n",
       "      <th>3</th>\n",
       "      <td>4</td>\n",
       "      <td>Assault Simple</td>\n",
       "      <td>202500017792</td>\n",
       "      <td>800</td>\n",
       "      <td>HARDY DR</td>\n",
       "      <td>CPD</td>\n",
       "      <td>1748153105000</td>\n",
       "      <td>0205</td>\n",
       "      <td>Folston, Elliott</td>\n",
       "    </tr>\n",
       "    <tr>\n",
       "      <th>4</th>\n",
       "      <td>5</td>\n",
       "      <td>Assist Citizen - Mental/TDO/ECO</td>\n",
       "      <td>202500017788</td>\n",
       "      <td>1400</td>\n",
       "      <td>BURGESS LN</td>\n",
       "      <td>CPD</td>\n",
       "      <td>1748146948000</td>\n",
       "      <td>0022</td>\n",
       "      <td>Bland, Johnnà</td>\n",
       "    </tr>\n",
       "  </tbody>\n",
       "</table>\n",
       "</div>"
      ],
      "text/plain": [
       "   RecordID                          Offense    IncidentID BlockNumber  \\\n",
       "0         1                 Animal Complaint  202500017824        1500   \n",
       "1         2  Assist Citizen - Mental/TDO/ECO  202500017812         600   \n",
       "2         3               Lost/FoundProperty  202500017811         900   \n",
       "3         4                   Assault Simple  202500017792         800   \n",
       "4         5  Assist Citizen - Mental/TDO/ECO  202500017788        1400   \n",
       "\n",
       "       StreetName Agency   DateReported HourReported  ReportingOfficer  \n",
       "0        ROSA TER    CPD  1748198841000         1447  Schwartz, Honora  \n",
       "1  6TH ST SE, 120    CPD  1748190113000         1221     Wisser, Shawn  \n",
       "2     E MARKET ST    CPD  1748189394000         1209      Kirby, Tyree  \n",
       "3        HARDY DR    CPD  1748153105000         0205  Folston, Elliott  \n",
       "4      BURGESS LN    CPD  1748146948000         0022     Bland, Johnnà  "
      ]
     },
     "execution_count": 3,
     "metadata": {},
     "output_type": "execute_result"
    }
   ],
   "source": [
    "df.head()"
   ]
  },
  {
   "cell_type": "code",
   "execution_count": 4,
   "id": "d4e3c91e",
   "metadata": {
    "execution": {
     "iopub.execute_input": "2025-05-28T01:04:27.031685Z",
     "iopub.status.busy": "2025-05-28T01:04:27.031214Z",
     "iopub.status.idle": "2025-05-28T01:04:27.035734Z",
     "shell.execute_reply": "2025-05-28T01:04:27.035193Z"
    },
    "papermill": {
     "duration": 0.011699,
     "end_time": "2025-05-28T01:04:27.036771",
     "exception": false,
     "start_time": "2025-05-28T01:04:27.025072",
     "status": "completed"
    },
    "tags": []
   },
   "outputs": [
    {
     "data": {
      "text/plain": [
       "Index(['RecordID', 'Offense', 'IncidentID', 'BlockNumber', 'StreetName',\n",
       "       'Agency', 'DateReported', 'HourReported', 'ReportingOfficer'],\n",
       "      dtype='object')"
      ]
     },
     "execution_count": 4,
     "metadata": {},
     "output_type": "execute_result"
    }
   ],
   "source": [
    "df.columns"
   ]
  },
  {
   "cell_type": "code",
   "execution_count": 5,
   "id": "0423838f",
   "metadata": {
    "execution": {
     "iopub.execute_input": "2025-05-28T01:04:27.049001Z",
     "iopub.status.busy": "2025-05-28T01:04:27.048588Z",
     "iopub.status.idle": "2025-05-28T01:04:27.076345Z",
     "shell.execute_reply": "2025-05-28T01:04:27.075769Z"
    },
    "papermill": {
     "duration": 0.035035,
     "end_time": "2025-05-28T01:04:27.077350",
     "exception": false,
     "start_time": "2025-05-28T01:04:27.042315",
     "status": "completed"
    },
    "tags": []
   },
   "outputs": [
    {
     "name": "stdout",
     "output_type": "stream",
     "text": [
      "<class 'pandas.core.frame.DataFrame'>\n",
      "RangeIndex: 25421 entries, 0 to 25420\n",
      "Data columns (total 9 columns):\n",
      " #   Column            Non-Null Count  Dtype \n",
      "---  ------            --------------  ----- \n",
      " 0   RecordID          25421 non-null  int64 \n",
      " 1   Offense           25421 non-null  object\n",
      " 2   IncidentID        25421 non-null  object\n",
      " 3   BlockNumber       25421 non-null  object\n",
      " 4   StreetName        25421 non-null  object\n",
      " 5   Agency            25421 non-null  object\n",
      " 6   DateReported      25421 non-null  int64 \n",
      " 7   HourReported      25421 non-null  object\n",
      " 8   ReportingOfficer  25404 non-null  object\n",
      "dtypes: int64(2), object(7)\n",
      "memory usage: 1.7+ MB\n"
     ]
    }
   ],
   "source": [
    "df.info()"
   ]
  },
  {
   "cell_type": "markdown",
   "id": "f09b36fa",
   "metadata": {
    "papermill": {
     "duration": 0.005667,
     "end_time": "2025-05-28T01:04:27.088901",
     "exception": false,
     "start_time": "2025-05-28T01:04:27.083234",
     "status": "completed"
    },
    "tags": []
   },
   "source": [
    "### Missing Values"
   ]
  },
  {
   "cell_type": "code",
   "execution_count": 6,
   "id": "5f6cce12",
   "metadata": {
    "execution": {
     "iopub.execute_input": "2025-05-28T01:04:27.101506Z",
     "iopub.status.busy": "2025-05-28T01:04:27.100989Z",
     "iopub.status.idle": "2025-05-28T01:04:27.126709Z",
     "shell.execute_reply": "2025-05-28T01:04:27.126130Z"
    },
    "papermill": {
     "duration": 0.03314,
     "end_time": "2025-05-28T01:04:27.127736",
     "exception": false,
     "start_time": "2025-05-28T01:04:27.094596",
     "status": "completed"
    },
    "tags": []
   },
   "outputs": [
    {
     "name": "stdout",
     "output_type": "stream",
     "text": [
      "                  MissingCount  MissingPercentage\n",
      "RecordID                     0               0.00\n",
      "Offense                      0               0.00\n",
      "IncidentID                   0               0.00\n",
      "BlockNumber                  0               0.00\n",
      "StreetName                   0               0.00\n",
      "Agency                       0               0.00\n",
      "DateReported                 0               0.00\n",
      "HourReported                 0               0.00\n",
      "ReportingOfficer            17               0.07\n"
     ]
    }
   ],
   "source": [
    "def missing_percentage(df):\n",
    "    \"\"\"\n",
    "    Returns a DataFrame with the count and percentage of missing values for each column.\n",
    "    \n",
    "    Parameters:\n",
    "        df (pd.DataFrame): The input DataFrame.\n",
    "    \n",
    "    Returns:\n",
    "        pd.DataFrame: A DataFrame with columns 'MissingCount' and 'MissingPercentage'.\n",
    "    \"\"\"\n",
    "    total_rows = len(df)\n",
    "    missing_count = df.isnull().sum()\n",
    "    missing_percent = (missing_count / total_rows) * 100\n",
    "    \n",
    "    result = pd.DataFrame({\n",
    "        'MissingCount': missing_count,\n",
    "        'MissingPercentage': missing_percent.round(2)\n",
    "    })\n",
    "    \n",
    "    return result\n",
    "\n",
    "# Example usage:\n",
    "missing_info = missing_percentage(df)\n",
    "print(missing_info)\n"
   ]
  },
  {
   "cell_type": "markdown",
   "id": "93a0f88f",
   "metadata": {
    "papermill": {
     "duration": 0.005733,
     "end_time": "2025-05-28T01:04:27.139455",
     "exception": false,
     "start_time": "2025-05-28T01:04:27.133722",
     "status": "completed"
    },
    "tags": []
   },
   "source": [
    "## Data Preparation"
   ]
  },
  {
   "cell_type": "markdown",
   "id": "597c9478",
   "metadata": {
    "papermill": {
     "duration": 0.005658,
     "end_time": "2025-05-28T01:04:27.150792",
     "exception": false,
     "start_time": "2025-05-28T01:04:27.145134",
     "status": "completed"
    },
    "tags": []
   },
   "source": [
    "### Data Conversion"
   ]
  },
  {
   "cell_type": "code",
   "execution_count": 7,
   "id": "3bc6319d",
   "metadata": {
    "execution": {
     "iopub.execute_input": "2025-05-28T01:04:27.163519Z",
     "iopub.status.busy": "2025-05-28T01:04:27.163025Z",
     "iopub.status.idle": "2025-05-28T01:04:27.539250Z",
     "shell.execute_reply": "2025-05-28T01:04:27.538570Z"
    },
    "papermill": {
     "duration": 0.384018,
     "end_time": "2025-05-28T01:04:27.540482",
     "exception": false,
     "start_time": "2025-05-28T01:04:27.156464",
     "status": "completed"
    },
    "tags": []
   },
   "outputs": [
    {
     "data": {
      "text/html": [
       "<div>\n",
       "<style scoped>\n",
       "    .dataframe tbody tr th:only-of-type {\n",
       "        vertical-align: middle;\n",
       "    }\n",
       "\n",
       "    .dataframe tbody tr th {\n",
       "        vertical-align: top;\n",
       "    }\n",
       "\n",
       "    .dataframe thead th {\n",
       "        text-align: right;\n",
       "    }\n",
       "</style>\n",
       "<table border=\"1\" class=\"dataframe\">\n",
       "  <thead>\n",
       "    <tr style=\"text-align: right;\">\n",
       "      <th></th>\n",
       "      <th>RecordID</th>\n",
       "      <th>Offense</th>\n",
       "      <th>IncidentID</th>\n",
       "      <th>BlockNumber</th>\n",
       "      <th>StreetName</th>\n",
       "      <th>Agency</th>\n",
       "      <th>HourReported</th>\n",
       "      <th>ReportingOfficer</th>\n",
       "      <th>Date</th>\n",
       "      <th>DateString</th>\n",
       "      <th>DayOfWeek</th>\n",
       "      <th>Weekend</th>\n",
       "      <th>Season</th>\n",
       "      <th>HourAMPM</th>\n",
       "      <th>TimeOfDay</th>\n",
       "    </tr>\n",
       "  </thead>\n",
       "  <tbody>\n",
       "    <tr>\n",
       "      <th>0</th>\n",
       "      <td>1</td>\n",
       "      <td>Animal Complaint</td>\n",
       "      <td>202500017824</td>\n",
       "      <td>1500</td>\n",
       "      <td>ROSA TER</td>\n",
       "      <td>CPD</td>\n",
       "      <td>1447</td>\n",
       "      <td>Schwartz, Honora</td>\n",
       "      <td>2025-05-25 14:47:21</td>\n",
       "      <td>2025-05-25 02:47:21 PM</td>\n",
       "      <td>Sunday</td>\n",
       "      <td>True</td>\n",
       "      <td>Spring</td>\n",
       "      <td>02:47 PM</td>\n",
       "      <td>Afternoon</td>\n",
       "    </tr>\n",
       "    <tr>\n",
       "      <th>1</th>\n",
       "      <td>2</td>\n",
       "      <td>Assist Citizen - Mental/TDO/ECO</td>\n",
       "      <td>202500017812</td>\n",
       "      <td>600</td>\n",
       "      <td>6TH ST SE, 120</td>\n",
       "      <td>CPD</td>\n",
       "      <td>1221</td>\n",
       "      <td>Wisser, Shawn</td>\n",
       "      <td>2025-05-25 12:21:53</td>\n",
       "      <td>2025-05-25 12:21:53 PM</td>\n",
       "      <td>Sunday</td>\n",
       "      <td>True</td>\n",
       "      <td>Spring</td>\n",
       "      <td>12:21 PM</td>\n",
       "      <td>Afternoon</td>\n",
       "    </tr>\n",
       "    <tr>\n",
       "      <th>2</th>\n",
       "      <td>3</td>\n",
       "      <td>Lost/FoundProperty</td>\n",
       "      <td>202500017811</td>\n",
       "      <td>900</td>\n",
       "      <td>E MARKET ST</td>\n",
       "      <td>CPD</td>\n",
       "      <td>1209</td>\n",
       "      <td>Kirby, Tyree</td>\n",
       "      <td>2025-05-25 12:09:54</td>\n",
       "      <td>2025-05-25 12:09:54 PM</td>\n",
       "      <td>Sunday</td>\n",
       "      <td>True</td>\n",
       "      <td>Spring</td>\n",
       "      <td>12:09 PM</td>\n",
       "      <td>Afternoon</td>\n",
       "    </tr>\n",
       "    <tr>\n",
       "      <th>3</th>\n",
       "      <td>4</td>\n",
       "      <td>Assault Simple</td>\n",
       "      <td>202500017792</td>\n",
       "      <td>800</td>\n",
       "      <td>HARDY DR</td>\n",
       "      <td>CPD</td>\n",
       "      <td>0205</td>\n",
       "      <td>Folston, Elliott</td>\n",
       "      <td>2025-05-25 02:05:05</td>\n",
       "      <td>2025-05-25 02:05:05 AM</td>\n",
       "      <td>Sunday</td>\n",
       "      <td>True</td>\n",
       "      <td>Spring</td>\n",
       "      <td>02:05 AM</td>\n",
       "      <td>Night</td>\n",
       "    </tr>\n",
       "    <tr>\n",
       "      <th>4</th>\n",
       "      <td>5</td>\n",
       "      <td>Assist Citizen - Mental/TDO/ECO</td>\n",
       "      <td>202500017788</td>\n",
       "      <td>1400</td>\n",
       "      <td>BURGESS LN</td>\n",
       "      <td>CPD</td>\n",
       "      <td>0022</td>\n",
       "      <td>Bland, Johnnà</td>\n",
       "      <td>2025-05-25 00:22:28</td>\n",
       "      <td>2025-05-25 12:22:28 AM</td>\n",
       "      <td>Sunday</td>\n",
       "      <td>True</td>\n",
       "      <td>Spring</td>\n",
       "      <td>12:22 AM</td>\n",
       "      <td>Night</td>\n",
       "    </tr>\n",
       "  </tbody>\n",
       "</table>\n",
       "</div>"
      ],
      "text/plain": [
       "   RecordID                          Offense    IncidentID BlockNumber  \\\n",
       "0         1                 Animal Complaint  202500017824        1500   \n",
       "1         2  Assist Citizen - Mental/TDO/ECO  202500017812         600   \n",
       "2         3               Lost/FoundProperty  202500017811         900   \n",
       "3         4                   Assault Simple  202500017792         800   \n",
       "4         5  Assist Citizen - Mental/TDO/ECO  202500017788        1400   \n",
       "\n",
       "       StreetName Agency HourReported  ReportingOfficer                Date  \\\n",
       "0        ROSA TER    CPD         1447  Schwartz, Honora 2025-05-25 14:47:21   \n",
       "1  6TH ST SE, 120    CPD         1221     Wisser, Shawn 2025-05-25 12:21:53   \n",
       "2     E MARKET ST    CPD         1209      Kirby, Tyree 2025-05-25 12:09:54   \n",
       "3        HARDY DR    CPD         0205  Folston, Elliott 2025-05-25 02:05:05   \n",
       "4      BURGESS LN    CPD         0022     Bland, Johnnà 2025-05-25 00:22:28   \n",
       "\n",
       "               DateString DayOfWeek  Weekend  Season  HourAMPM  TimeOfDay  \n",
       "0  2025-05-25 02:47:21 PM    Sunday     True  Spring  02:47 PM  Afternoon  \n",
       "1  2025-05-25 12:21:53 PM    Sunday     True  Spring  12:21 PM  Afternoon  \n",
       "2  2025-05-25 12:09:54 PM    Sunday     True  Spring  12:09 PM  Afternoon  \n",
       "3  2025-05-25 02:05:05 AM    Sunday     True  Spring  02:05 AM      Night  \n",
       "4  2025-05-25 12:22:28 AM    Sunday     True  Spring  12:22 AM      Night  "
      ]
     },
     "execution_count": 7,
     "metadata": {},
     "output_type": "execute_result"
    }
   ],
   "source": [
    "def convert_and_categorize_datereported(df, col='DateReported'):\n",
    "    \"\"\"\n",
    "    Converts an epoch (in milliseconds) date column into a timezone-aware datetime,\n",
    "    converts it to Eastern Time, and then creates columns for day-of-week, weekend flag,\n",
    "    season, 12-hour formatted time, and time-of-day. Keeps both a real datetime column\n",
    "    (Date) and a string representation (DateString).\n",
    "    \"\"\"\n",
    "    import pandas as pd\n",
    "\n",
    "    # Convert the epoch timestamp to a pandas datetime object as UTC, then convert to US/Eastern.\n",
    "    df[\"DateReported_dt\"] = (\n",
    "        pd.to_datetime(df[col], unit=\"ms\", errors=\"coerce\", utc=True)\n",
    "        .dt.tz_convert(\"US/Eastern\")\n",
    "    )\n",
    "    \n",
    "    # Create a true datetime column (remove timezone if you prefer naive datetime)\n",
    "    df[\"Date\"] = df[\"DateReported_dt\"].dt.tz_localize(None)\n",
    "\n",
    "    # Optionally, create a separate string-formatted column\n",
    "    df[\"DateString\"] = df[\"DateReported_dt\"].dt.strftime(\"%Y-%m-%d %I:%M:%S %p\")\n",
    "    \n",
    "    # DayOfWeek\n",
    "    df[\"DayOfWeek\"] = df[\"DateReported_dt\"].dt.day_name()\n",
    "    \n",
    "    # Weekend\n",
    "    df[\"Weekend\"] = df[\"DayOfWeek\"].isin([\"Saturday\", \"Sunday\"])\n",
    "    \n",
    "    # Helper function to determine the season\n",
    "    def get_season(dt):\n",
    "        month = dt.month\n",
    "        day = dt.day\n",
    "        # Approximate Northern Hemisphere season boundaries:\n",
    "        if (month == 12 and day >= 21) or (month < 3) or (month == 3 and day < 20):\n",
    "            return \"Winter\"\n",
    "        elif (month == 3 and day >= 20) or (month < 6) or (month == 6 and day < 21):\n",
    "            return \"Spring\"\n",
    "        elif (month == 6 and day >= 21) or (month < 9) or (month == 9 and day < 22):\n",
    "            return \"Summer\"\n",
    "        else:\n",
    "            return \"Autumn\"\n",
    "    \n",
    "    df[\"Season\"] = df[\"DateReported_dt\"].apply(get_season)\n",
    "    \n",
    "    # 12-hour formatted time (HourAMPM)\n",
    "    df[\"HourAMPM\"] = df[\"DateReported_dt\"].dt.strftime(\"%I:%M %p\")\n",
    "    \n",
    "    # Extract hour (0-23) for time-of-day\n",
    "    df[\"HourValue\"] = df[\"DateReported_dt\"].dt.hour\n",
    "    \n",
    "    def time_of_day(hour):\n",
    "        if pd.isnull(hour):\n",
    "            return None\n",
    "        if 5 <= hour < 12:\n",
    "            return \"Morning\"\n",
    "        elif 12 <= hour < 17:\n",
    "            return \"Afternoon\"\n",
    "        elif 17 <= hour < 21:\n",
    "            return \"Evening\"\n",
    "        else:\n",
    "            return \"Night\"\n",
    "    \n",
    "    df[\"TimeOfDay\"] = df[\"HourValue\"].apply(time_of_day)\n",
    "    \n",
    "    # Drop columns you no longer need\n",
    "    df.drop(columns=[col, \"DateReported_dt\", \"HourValue\"], inplace=True)\n",
    "    \n",
    "    return df\n",
    "\n",
    "# Example usage:\n",
    "df = convert_and_categorize_datereported(df)\n",
    "df.head()\n"
   ]
  },
  {
   "cell_type": "code",
   "execution_count": 8,
   "id": "28656fb9",
   "metadata": {
    "execution": {
     "iopub.execute_input": "2025-05-28T01:04:27.555065Z",
     "iopub.status.busy": "2025-05-28T01:04:27.554618Z",
     "iopub.status.idle": "2025-05-28T01:04:27.586626Z",
     "shell.execute_reply": "2025-05-28T01:04:27.585825Z"
    },
    "papermill": {
     "duration": 0.041009,
     "end_time": "2025-05-28T01:04:27.587828",
     "exception": false,
     "start_time": "2025-05-28T01:04:27.546819",
     "status": "completed"
    },
    "tags": []
   },
   "outputs": [
    {
     "name": "stdout",
     "output_type": "stream",
     "text": [
      "<class 'pandas.core.frame.DataFrame'>\n",
      "RangeIndex: 25421 entries, 0 to 25420\n",
      "Data columns (total 15 columns):\n",
      " #   Column            Non-Null Count  Dtype         \n",
      "---  ------            --------------  -----         \n",
      " 0   RecordID          25421 non-null  int64         \n",
      " 1   Offense           25421 non-null  object        \n",
      " 2   IncidentID        25421 non-null  object        \n",
      " 3   BlockNumber       25421 non-null  object        \n",
      " 4   StreetName        25421 non-null  object        \n",
      " 5   Agency            25421 non-null  object        \n",
      " 6   HourReported      25421 non-null  object        \n",
      " 7   ReportingOfficer  25404 non-null  object        \n",
      " 8   Date              25421 non-null  datetime64[ns]\n",
      " 9   DateString        25421 non-null  object        \n",
      " 10  DayOfWeek         25421 non-null  object        \n",
      " 11  Weekend           25421 non-null  bool          \n",
      " 12  Season            25421 non-null  object        \n",
      " 13  HourAMPM          25421 non-null  object        \n",
      " 14  TimeOfDay         25421 non-null  object        \n",
      "dtypes: bool(1), datetime64[ns](1), int64(1), object(12)\n",
      "memory usage: 2.7+ MB\n"
     ]
    }
   ],
   "source": [
    "df.info()"
   ]
  },
  {
   "cell_type": "markdown",
   "id": "558d2bc1",
   "metadata": {
    "papermill": {
     "duration": 0.006019,
     "end_time": "2025-05-28T01:04:27.600179",
     "exception": false,
     "start_time": "2025-05-28T01:04:27.594160",
     "status": "completed"
    },
    "tags": []
   },
   "source": [
    "### Coordinates"
   ]
  },
  {
   "cell_type": "code",
   "execution_count": 9,
   "id": "8d81acf2",
   "metadata": {
    "execution": {
     "iopub.execute_input": "2025-05-28T01:04:27.613856Z",
     "iopub.status.busy": "2025-05-28T01:04:27.613270Z",
     "iopub.status.idle": "2025-05-28T01:04:27.883748Z",
     "shell.execute_reply": "2025-05-28T01:04:27.882883Z"
    },
    "papermill": {
     "duration": 0.278451,
     "end_time": "2025-05-28T01:04:27.884920",
     "exception": false,
     "start_time": "2025-05-28T01:04:27.606469",
     "status": "completed"
    },
    "tags": []
   },
   "outputs": [
    {
     "name": "stdout",
     "output_type": "stream",
     "text": [
      "Loaded geocode cache.\n"
     ]
    },
    {
     "name": "stdout",
     "output_type": "stream",
     "text": [
      "Geocoded 1400 VINE ST, B1: 38.0197156, -78.4685837\n",
      "Geocode cache updated and saved.\n"
     ]
    },
    {
     "data": {
      "text/html": [
       "<div>\n",
       "<style scoped>\n",
       "    .dataframe tbody tr th:only-of-type {\n",
       "        vertical-align: middle;\n",
       "    }\n",
       "\n",
       "    .dataframe tbody tr th {\n",
       "        vertical-align: top;\n",
       "    }\n",
       "\n",
       "    .dataframe thead th {\n",
       "        text-align: right;\n",
       "    }\n",
       "</style>\n",
       "<table border=\"1\" class=\"dataframe\">\n",
       "  <thead>\n",
       "    <tr style=\"text-align: right;\">\n",
       "      <th></th>\n",
       "      <th>RecordID</th>\n",
       "      <th>Offense</th>\n",
       "      <th>IncidentID</th>\n",
       "      <th>BlockNumber</th>\n",
       "      <th>StreetName</th>\n",
       "      <th>Agency</th>\n",
       "      <th>HourReported</th>\n",
       "      <th>ReportingOfficer</th>\n",
       "      <th>Date</th>\n",
       "      <th>DateString</th>\n",
       "      <th>DayOfWeek</th>\n",
       "      <th>Weekend</th>\n",
       "      <th>Season</th>\n",
       "      <th>HourAMPM</th>\n",
       "      <th>TimeOfDay</th>\n",
       "      <th>FullStreet</th>\n",
       "      <th>lat</th>\n",
       "      <th>lon</th>\n",
       "    </tr>\n",
       "  </thead>\n",
       "  <tbody>\n",
       "    <tr>\n",
       "      <th>0</th>\n",
       "      <td>1</td>\n",
       "      <td>Animal Complaint</td>\n",
       "      <td>202500017824</td>\n",
       "      <td>1500</td>\n",
       "      <td>ROSA TER</td>\n",
       "      <td>CPD</td>\n",
       "      <td>1447</td>\n",
       "      <td>Schwartz, Honora</td>\n",
       "      <td>2025-05-25 14:47:21</td>\n",
       "      <td>2025-05-25 02:47:21 PM</td>\n",
       "      <td>Sunday</td>\n",
       "      <td>True</td>\n",
       "      <td>Spring</td>\n",
       "      <td>02:47 PM</td>\n",
       "      <td>Afternoon</td>\n",
       "      <td>1500 ROSA TER</td>\n",
       "      <td>38.019629</td>\n",
       "      <td>-78.485985</td>\n",
       "    </tr>\n",
       "    <tr>\n",
       "      <th>1</th>\n",
       "      <td>2</td>\n",
       "      <td>Assist Citizen - Mental/TDO/ECO</td>\n",
       "      <td>202500017812</td>\n",
       "      <td>600</td>\n",
       "      <td>6TH ST SE, 120</td>\n",
       "      <td>CPD</td>\n",
       "      <td>1221</td>\n",
       "      <td>Wisser, Shawn</td>\n",
       "      <td>2025-05-25 12:21:53</td>\n",
       "      <td>2025-05-25 12:21:53 PM</td>\n",
       "      <td>Sunday</td>\n",
       "      <td>True</td>\n",
       "      <td>Spring</td>\n",
       "      <td>12:21 PM</td>\n",
       "      <td>Afternoon</td>\n",
       "      <td>600 6TH ST SE, 120</td>\n",
       "      <td>38.025815</td>\n",
       "      <td>-78.480160</td>\n",
       "    </tr>\n",
       "    <tr>\n",
       "      <th>2</th>\n",
       "      <td>3</td>\n",
       "      <td>Lost/FoundProperty</td>\n",
       "      <td>202500017811</td>\n",
       "      <td>900</td>\n",
       "      <td>E MARKET ST</td>\n",
       "      <td>CPD</td>\n",
       "      <td>1209</td>\n",
       "      <td>Kirby, Tyree</td>\n",
       "      <td>2025-05-25 12:09:54</td>\n",
       "      <td>2025-05-25 12:09:54 PM</td>\n",
       "      <td>Sunday</td>\n",
       "      <td>True</td>\n",
       "      <td>Spring</td>\n",
       "      <td>12:09 PM</td>\n",
       "      <td>Afternoon</td>\n",
       "      <td>900 E MARKET ST</td>\n",
       "      <td>38.029506</td>\n",
       "      <td>-78.475093</td>\n",
       "    </tr>\n",
       "    <tr>\n",
       "      <th>3</th>\n",
       "      <td>4</td>\n",
       "      <td>Assault Simple</td>\n",
       "      <td>202500017792</td>\n",
       "      <td>800</td>\n",
       "      <td>HARDY DR</td>\n",
       "      <td>CPD</td>\n",
       "      <td>0205</td>\n",
       "      <td>Folston, Elliott</td>\n",
       "      <td>2025-05-25 02:05:05</td>\n",
       "      <td>2025-05-25 02:05:05 AM</td>\n",
       "      <td>Sunday</td>\n",
       "      <td>True</td>\n",
       "      <td>Spring</td>\n",
       "      <td>02:05 AM</td>\n",
       "      <td>Night</td>\n",
       "      <td>800 HARDY DR</td>\n",
       "      <td>38.033239</td>\n",
       "      <td>-78.490398</td>\n",
       "    </tr>\n",
       "    <tr>\n",
       "      <th>4</th>\n",
       "      <td>5</td>\n",
       "      <td>Assist Citizen - Mental/TDO/ECO</td>\n",
       "      <td>202500017788</td>\n",
       "      <td>1400</td>\n",
       "      <td>BURGESS LN</td>\n",
       "      <td>CPD</td>\n",
       "      <td>0022</td>\n",
       "      <td>Bland, Johnnà</td>\n",
       "      <td>2025-05-25 00:22:28</td>\n",
       "      <td>2025-05-25 12:22:28 AM</td>\n",
       "      <td>Sunday</td>\n",
       "      <td>True</td>\n",
       "      <td>Spring</td>\n",
       "      <td>12:22 AM</td>\n",
       "      <td>Night</td>\n",
       "      <td>1400 BURGESS LN</td>\n",
       "      <td>38.023206</td>\n",
       "      <td>-78.465142</td>\n",
       "    </tr>\n",
       "  </tbody>\n",
       "</table>\n",
       "</div>"
      ],
      "text/plain": [
       "   RecordID                          Offense    IncidentID BlockNumber  \\\n",
       "0         1                 Animal Complaint  202500017824        1500   \n",
       "1         2  Assist Citizen - Mental/TDO/ECO  202500017812         600   \n",
       "2         3               Lost/FoundProperty  202500017811         900   \n",
       "3         4                   Assault Simple  202500017792         800   \n",
       "4         5  Assist Citizen - Mental/TDO/ECO  202500017788        1400   \n",
       "\n",
       "       StreetName Agency HourReported  ReportingOfficer                Date  \\\n",
       "0        ROSA TER    CPD         1447  Schwartz, Honora 2025-05-25 14:47:21   \n",
       "1  6TH ST SE, 120    CPD         1221     Wisser, Shawn 2025-05-25 12:21:53   \n",
       "2     E MARKET ST    CPD         1209      Kirby, Tyree 2025-05-25 12:09:54   \n",
       "3        HARDY DR    CPD         0205  Folston, Elliott 2025-05-25 02:05:05   \n",
       "4      BURGESS LN    CPD         0022     Bland, Johnnà 2025-05-25 00:22:28   \n",
       "\n",
       "               DateString DayOfWeek  Weekend  Season  HourAMPM  TimeOfDay  \\\n",
       "0  2025-05-25 02:47:21 PM    Sunday     True  Spring  02:47 PM  Afternoon   \n",
       "1  2025-05-25 12:21:53 PM    Sunday     True  Spring  12:21 PM  Afternoon   \n",
       "2  2025-05-25 12:09:54 PM    Sunday     True  Spring  12:09 PM  Afternoon   \n",
       "3  2025-05-25 02:05:05 AM    Sunday     True  Spring  02:05 AM      Night   \n",
       "4  2025-05-25 12:22:28 AM    Sunday     True  Spring  12:22 AM      Night   \n",
       "\n",
       "           FullStreet        lat        lon  \n",
       "0       1500 ROSA TER  38.019629 -78.485985  \n",
       "1  600 6TH ST SE, 120  38.025815 -78.480160  \n",
       "2     900 E MARKET ST  38.029506 -78.475093  \n",
       "3        800 HARDY DR  38.033239 -78.490398  \n",
       "4     1400 BURGESS LN  38.023206 -78.465142  "
      ]
     },
     "execution_count": 9,
     "metadata": {},
     "output_type": "execute_result"
    }
   ],
   "source": [
    "# Combine BlockNumber and StreetName into a full address string\n",
    "df['FullStreet'] = df['BlockNumber'].astype(str) + \" \" + df['StreetName']\n",
    "\n",
    "# --- Step 1: Setup the Google Maps Client and Cache ---\n",
    "gmaps = googlemaps.Client(key=GOOGLE_API_KEY)\n",
    "\n",
    "# Try to load cached geocoding results if available.\n",
    "try:\n",
    "    with open(\"geocode_cache_google.pkl\", \"rb\") as f:\n",
    "        street_coords = pickle.load(f)\n",
    "    print(\"Loaded geocode cache.\")\n",
    "except FileNotFoundError:\n",
    "    street_coords = {}\n",
    "    print(\"No cache found; starting fresh.\")\n",
    "\n",
    "def geocode_address(address):\n",
    "    try:\n",
    "        # Append city and state to help geocoding\n",
    "        result = gmaps.geocode(f\"{address}, Charlottesville, VA\")\n",
    "        if result:\n",
    "            lat = result[0]['geometry']['location']['lat']\n",
    "            lon = result[0]['geometry']['location']['lng']\n",
    "            return lat, lon\n",
    "    except Exception as e:\n",
    "        print(f\"Error geocoding {address}: {e}\")\n",
    "    return None, None\n",
    "\n",
    "# --- Step 2: Geocode Only New Addresses ---\n",
    "unique_addresses = df['FullStreet'].unique()\n",
    "for address in unique_addresses:\n",
    "    if address not in street_coords:\n",
    "        lat, lon = geocode_address(address)\n",
    "        street_coords[address] = (lat, lon)\n",
    "        print(f\"Geocoded {address}: {lat}, {lon}\")\n",
    "\n",
    "# Save the updated cache to disk.\n",
    "with open(\"geocode_cache_google.pkl\", \"wb\") as f:\n",
    "    pickle.dump(street_coords, f)\n",
    "    print(\"Geocode cache updated and saved.\")\n",
    "\n",
    "# --- Step 3: Map Coordinates Back to DataFrame ---\n",
    "df['lat'] = df['FullStreet'].map(lambda s: street_coords.get(s, (None, None))[0])\n",
    "df['lon'] = df['FullStreet'].map(lambda s: street_coords.get(s, (None, None))[1])\n",
    "\n",
    "df.head()"
   ]
  },
  {
   "cell_type": "markdown",
   "id": "04a3303b",
   "metadata": {
    "papermill": {
     "duration": 0.006555,
     "end_time": "2025-05-28T01:04:27.898415",
     "exception": false,
     "start_time": "2025-05-28T01:04:27.891860",
     "status": "completed"
    },
    "tags": []
   },
   "source": [
    "### Neighborhood"
   ]
  },
  {
   "cell_type": "code",
   "execution_count": 10,
   "id": "70c8aade",
   "metadata": {
    "execution": {
     "iopub.execute_input": "2025-05-28T01:04:27.912851Z",
     "iopub.status.busy": "2025-05-28T01:04:27.912162Z",
     "iopub.status.idle": "2025-05-28T01:04:28.193512Z",
     "shell.execute_reply": "2025-05-28T01:04:28.192770Z"
    },
    "papermill": {
     "duration": 0.289883,
     "end_time": "2025-05-28T01:04:28.194656",
     "exception": false,
     "start_time": "2025-05-28T01:04:27.904773",
     "status": "completed"
    },
    "tags": []
   },
   "outputs": [
    {
     "name": "stdout",
     "output_type": "stream",
     "text": [
      "Loaded neighborhood cache.\n"
     ]
    },
    {
     "data": {
      "text/html": [
       "<div>\n",
       "<style scoped>\n",
       "    .dataframe tbody tr th:only-of-type {\n",
       "        vertical-align: middle;\n",
       "    }\n",
       "\n",
       "    .dataframe tbody tr th {\n",
       "        vertical-align: top;\n",
       "    }\n",
       "\n",
       "    .dataframe thead th {\n",
       "        text-align: right;\n",
       "    }\n",
       "</style>\n",
       "<table border=\"1\" class=\"dataframe\">\n",
       "  <thead>\n",
       "    <tr style=\"text-align: right;\">\n",
       "      <th></th>\n",
       "      <th>RecordID</th>\n",
       "      <th>Offense</th>\n",
       "      <th>IncidentID</th>\n",
       "      <th>BlockNumber</th>\n",
       "      <th>StreetName</th>\n",
       "      <th>Agency</th>\n",
       "      <th>HourReported</th>\n",
       "      <th>ReportingOfficer</th>\n",
       "      <th>Date</th>\n",
       "      <th>DateString</th>\n",
       "      <th>DayOfWeek</th>\n",
       "      <th>Weekend</th>\n",
       "      <th>Season</th>\n",
       "      <th>HourAMPM</th>\n",
       "      <th>TimeOfDay</th>\n",
       "      <th>FullStreet</th>\n",
       "      <th>lat</th>\n",
       "      <th>lon</th>\n",
       "      <th>neighborhood</th>\n",
       "    </tr>\n",
       "  </thead>\n",
       "  <tbody>\n",
       "    <tr>\n",
       "      <th>0</th>\n",
       "      <td>1</td>\n",
       "      <td>Animal Complaint</td>\n",
       "      <td>202500017824</td>\n",
       "      <td>1500</td>\n",
       "      <td>ROSA TER</td>\n",
       "      <td>CPD</td>\n",
       "      <td>1447</td>\n",
       "      <td>Schwartz, Honora</td>\n",
       "      <td>2025-05-25 14:47:21</td>\n",
       "      <td>2025-05-25 02:47:21 PM</td>\n",
       "      <td>Sunday</td>\n",
       "      <td>True</td>\n",
       "      <td>Spring</td>\n",
       "      <td>02:47 PM</td>\n",
       "      <td>Afternoon</td>\n",
       "      <td>1500 ROSA TER</td>\n",
       "      <td>38.019629</td>\n",
       "      <td>-78.485985</td>\n",
       "      <td>Ridge St.</td>\n",
       "    </tr>\n",
       "    <tr>\n",
       "      <th>1</th>\n",
       "      <td>2</td>\n",
       "      <td>Assist Citizen - Mental/TDO/ECO</td>\n",
       "      <td>202500017812</td>\n",
       "      <td>600</td>\n",
       "      <td>6TH ST SE, 120</td>\n",
       "      <td>CPD</td>\n",
       "      <td>1221</td>\n",
       "      <td>Wisser, Shawn</td>\n",
       "      <td>2025-05-25 12:21:53</td>\n",
       "      <td>2025-05-25 12:21:53 PM</td>\n",
       "      <td>Sunday</td>\n",
       "      <td>True</td>\n",
       "      <td>Spring</td>\n",
       "      <td>12:21 PM</td>\n",
       "      <td>Afternoon</td>\n",
       "      <td>600 6TH ST SE, 120</td>\n",
       "      <td>38.025815</td>\n",
       "      <td>-78.480160</td>\n",
       "      <td>North Downtown</td>\n",
       "    </tr>\n",
       "    <tr>\n",
       "      <th>2</th>\n",
       "      <td>3</td>\n",
       "      <td>Lost/FoundProperty</td>\n",
       "      <td>202500017811</td>\n",
       "      <td>900</td>\n",
       "      <td>E MARKET ST</td>\n",
       "      <td>CPD</td>\n",
       "      <td>1209</td>\n",
       "      <td>Kirby, Tyree</td>\n",
       "      <td>2025-05-25 12:09:54</td>\n",
       "      <td>2025-05-25 12:09:54 PM</td>\n",
       "      <td>Sunday</td>\n",
       "      <td>True</td>\n",
       "      <td>Spring</td>\n",
       "      <td>12:09 PM</td>\n",
       "      <td>Afternoon</td>\n",
       "      <td>900 E MARKET ST</td>\n",
       "      <td>38.029506</td>\n",
       "      <td>-78.475093</td>\n",
       "      <td>North Downtown</td>\n",
       "    </tr>\n",
       "    <tr>\n",
       "      <th>3</th>\n",
       "      <td>4</td>\n",
       "      <td>Assault Simple</td>\n",
       "      <td>202500017792</td>\n",
       "      <td>800</td>\n",
       "      <td>HARDY DR</td>\n",
       "      <td>CPD</td>\n",
       "      <td>0205</td>\n",
       "      <td>Folston, Elliott</td>\n",
       "      <td>2025-05-25 02:05:05</td>\n",
       "      <td>2025-05-25 02:05:05 AM</td>\n",
       "      <td>Sunday</td>\n",
       "      <td>True</td>\n",
       "      <td>Spring</td>\n",
       "      <td>02:05 AM</td>\n",
       "      <td>Night</td>\n",
       "      <td>800 HARDY DR</td>\n",
       "      <td>38.033239</td>\n",
       "      <td>-78.490398</td>\n",
       "      <td>10th &amp; Page</td>\n",
       "    </tr>\n",
       "    <tr>\n",
       "      <th>4</th>\n",
       "      <td>5</td>\n",
       "      <td>Assist Citizen - Mental/TDO/ECO</td>\n",
       "      <td>202500017788</td>\n",
       "      <td>1400</td>\n",
       "      <td>BURGESS LN</td>\n",
       "      <td>CPD</td>\n",
       "      <td>0022</td>\n",
       "      <td>Bland, Johnnà</td>\n",
       "      <td>2025-05-25 00:22:28</td>\n",
       "      <td>2025-05-25 12:22:28 AM</td>\n",
       "      <td>Sunday</td>\n",
       "      <td>True</td>\n",
       "      <td>Spring</td>\n",
       "      <td>12:22 AM</td>\n",
       "      <td>Night</td>\n",
       "      <td>1400 BURGESS LN</td>\n",
       "      <td>38.023206</td>\n",
       "      <td>-78.465142</td>\n",
       "      <td>Woolen Mills</td>\n",
       "    </tr>\n",
       "  </tbody>\n",
       "</table>\n",
       "</div>"
      ],
      "text/plain": [
       "   RecordID                          Offense    IncidentID BlockNumber  \\\n",
       "0         1                 Animal Complaint  202500017824        1500   \n",
       "1         2  Assist Citizen - Mental/TDO/ECO  202500017812         600   \n",
       "2         3               Lost/FoundProperty  202500017811         900   \n",
       "3         4                   Assault Simple  202500017792         800   \n",
       "4         5  Assist Citizen - Mental/TDO/ECO  202500017788        1400   \n",
       "\n",
       "       StreetName Agency HourReported  ReportingOfficer                Date  \\\n",
       "0        ROSA TER    CPD         1447  Schwartz, Honora 2025-05-25 14:47:21   \n",
       "1  6TH ST SE, 120    CPD         1221     Wisser, Shawn 2025-05-25 12:21:53   \n",
       "2     E MARKET ST    CPD         1209      Kirby, Tyree 2025-05-25 12:09:54   \n",
       "3        HARDY DR    CPD         0205  Folston, Elliott 2025-05-25 02:05:05   \n",
       "4      BURGESS LN    CPD         0022     Bland, Johnnà 2025-05-25 00:22:28   \n",
       "\n",
       "               DateString DayOfWeek  Weekend  Season  HourAMPM  TimeOfDay  \\\n",
       "0  2025-05-25 02:47:21 PM    Sunday     True  Spring  02:47 PM  Afternoon   \n",
       "1  2025-05-25 12:21:53 PM    Sunday     True  Spring  12:21 PM  Afternoon   \n",
       "2  2025-05-25 12:09:54 PM    Sunday     True  Spring  12:09 PM  Afternoon   \n",
       "3  2025-05-25 02:05:05 AM    Sunday     True  Spring  02:05 AM      Night   \n",
       "4  2025-05-25 12:22:28 AM    Sunday     True  Spring  12:22 AM      Night   \n",
       "\n",
       "           FullStreet        lat        lon    neighborhood  \n",
       "0       1500 ROSA TER  38.019629 -78.485985       Ridge St.  \n",
       "1  600 6TH ST SE, 120  38.025815 -78.480160  North Downtown  \n",
       "2     900 E MARKET ST  38.029506 -78.475093  North Downtown  \n",
       "3        800 HARDY DR  38.033239 -78.490398     10th & Page  \n",
       "4     1400 BURGESS LN  38.023206 -78.465142    Woolen Mills  "
      ]
     },
     "execution_count": 10,
     "metadata": {},
     "output_type": "execute_result"
    }
   ],
   "source": [
    "# Initialize the Google Maps client.\n",
    "gmaps = googlemaps.Client(key=GOOGLE_API_KEY)\n",
    "\n",
    "# Try to load a persistent neighborhood cache if available.\n",
    "try:\n",
    "    with open(\"neighborhood_cache.pkl\", \"rb\") as f:\n",
    "        neighborhood_cache = pickle.load(f)\n",
    "    print(\"Loaded neighborhood cache.\")\n",
    "except FileNotFoundError:\n",
    "    neighborhood_cache = {}\n",
    "    print(\"No neighborhood cache found; starting fresh.\")\n",
    "\n",
    "def get_neighborhood(lat, lon):\n",
    "    \"\"\"\n",
    "    Reverse geocodes a latitude and longitude to retrieve the neighborhood.\n",
    "    Caches results to speed up subsequent lookups.\n",
    "    \"\"\"\n",
    "    key = (lat, lon)\n",
    "    if key in neighborhood_cache:\n",
    "        return neighborhood_cache[key]\n",
    "    \n",
    "    try:\n",
    "        result = gmaps.reverse_geocode((lat, lon))\n",
    "        if result:\n",
    "            # Look for the 'neighborhood' component in the first result.\n",
    "            for component in result[0]['address_components']:\n",
    "                if 'neighborhood' in component['types']:\n",
    "                    neighborhood = component['long_name']\n",
    "                    neighborhood_cache[key] = neighborhood\n",
    "                    return neighborhood\n",
    "            # If no neighborhood is found, return \"N/A\"\n",
    "            neighborhood_cache[key] = \"N/A\"\n",
    "            return \"N/A\"\n",
    "    except Exception as e:\n",
    "        print(f\"Error getting neighborhood for {lat}, {lon}: {e}\")\n",
    "        return \"N/A\"\n",
    "    \n",
    "    # Pause to respect usage limits.\n",
    "    time.sleep(1)\n",
    "\n",
    "# Example usage: Apply to your DataFrame 'df' that already has 'lat' and 'lon' columns.\n",
    "df['neighborhood'] = df.apply(lambda row: get_neighborhood(row['lat'], row['lon']), axis=1)\n",
    "\n",
    "# Save the updated neighborhood cache.\n",
    "with open(\"neighborhood_cache.pkl\", \"wb\") as f:\n",
    "    pickle.dump(neighborhood_cache, f)\n",
    "\n",
    "df.head()\n"
   ]
  },
  {
   "cell_type": "markdown",
   "id": "26d181e4",
   "metadata": {
    "papermill": {
     "duration": 0.006818,
     "end_time": "2025-05-28T01:04:28.208491",
     "exception": false,
     "start_time": "2025-05-28T01:04:28.201673",
     "status": "completed"
    },
    "tags": []
   },
   "source": [
    "### Zip"
   ]
  },
  {
   "cell_type": "code",
   "execution_count": 11,
   "id": "a342daf5",
   "metadata": {
    "execution": {
     "iopub.execute_input": "2025-05-28T01:04:28.222919Z",
     "iopub.status.busy": "2025-05-28T01:04:28.222283Z",
     "iopub.status.idle": "2025-05-28T01:04:28.467710Z",
     "shell.execute_reply": "2025-05-28T01:04:28.467098Z"
    },
    "papermill": {
     "duration": 0.253872,
     "end_time": "2025-05-28T01:04:28.468839",
     "exception": false,
     "start_time": "2025-05-28T01:04:28.214967",
     "status": "completed"
    },
    "tags": []
   },
   "outputs": [
    {
     "name": "stdout",
     "output_type": "stream",
     "text": [
      "Loaded zip cache.\n"
     ]
    },
    {
     "data": {
      "text/html": [
       "<div>\n",
       "<style scoped>\n",
       "    .dataframe tbody tr th:only-of-type {\n",
       "        vertical-align: middle;\n",
       "    }\n",
       "\n",
       "    .dataframe tbody tr th {\n",
       "        vertical-align: top;\n",
       "    }\n",
       "\n",
       "    .dataframe thead th {\n",
       "        text-align: right;\n",
       "    }\n",
       "</style>\n",
       "<table border=\"1\" class=\"dataframe\">\n",
       "  <thead>\n",
       "    <tr style=\"text-align: right;\">\n",
       "      <th></th>\n",
       "      <th>RecordID</th>\n",
       "      <th>Offense</th>\n",
       "      <th>IncidentID</th>\n",
       "      <th>BlockNumber</th>\n",
       "      <th>StreetName</th>\n",
       "      <th>Agency</th>\n",
       "      <th>HourReported</th>\n",
       "      <th>ReportingOfficer</th>\n",
       "      <th>Date</th>\n",
       "      <th>DateString</th>\n",
       "      <th>DayOfWeek</th>\n",
       "      <th>Weekend</th>\n",
       "      <th>Season</th>\n",
       "      <th>HourAMPM</th>\n",
       "      <th>TimeOfDay</th>\n",
       "      <th>FullStreet</th>\n",
       "      <th>lat</th>\n",
       "      <th>lon</th>\n",
       "      <th>neighborhood</th>\n",
       "      <th>zip</th>\n",
       "    </tr>\n",
       "  </thead>\n",
       "  <tbody>\n",
       "    <tr>\n",
       "      <th>0</th>\n",
       "      <td>1</td>\n",
       "      <td>Animal Complaint</td>\n",
       "      <td>202500017824</td>\n",
       "      <td>1500</td>\n",
       "      <td>ROSA TER</td>\n",
       "      <td>CPD</td>\n",
       "      <td>1447</td>\n",
       "      <td>Schwartz, Honora</td>\n",
       "      <td>2025-05-25 14:47:21</td>\n",
       "      <td>2025-05-25 02:47:21 PM</td>\n",
       "      <td>Sunday</td>\n",
       "      <td>True</td>\n",
       "      <td>Spring</td>\n",
       "      <td>02:47 PM</td>\n",
       "      <td>Afternoon</td>\n",
       "      <td>1500 ROSA TER</td>\n",
       "      <td>38.019629</td>\n",
       "      <td>-78.485985</td>\n",
       "      <td>Ridge St.</td>\n",
       "      <td>22903</td>\n",
       "    </tr>\n",
       "    <tr>\n",
       "      <th>1</th>\n",
       "      <td>2</td>\n",
       "      <td>Assist Citizen - Mental/TDO/ECO</td>\n",
       "      <td>202500017812</td>\n",
       "      <td>600</td>\n",
       "      <td>6TH ST SE, 120</td>\n",
       "      <td>CPD</td>\n",
       "      <td>1221</td>\n",
       "      <td>Wisser, Shawn</td>\n",
       "      <td>2025-05-25 12:21:53</td>\n",
       "      <td>2025-05-25 12:21:53 PM</td>\n",
       "      <td>Sunday</td>\n",
       "      <td>True</td>\n",
       "      <td>Spring</td>\n",
       "      <td>12:21 PM</td>\n",
       "      <td>Afternoon</td>\n",
       "      <td>600 6TH ST SE, 120</td>\n",
       "      <td>38.025815</td>\n",
       "      <td>-78.480160</td>\n",
       "      <td>North Downtown</td>\n",
       "      <td>22903</td>\n",
       "    </tr>\n",
       "    <tr>\n",
       "      <th>2</th>\n",
       "      <td>3</td>\n",
       "      <td>Lost/FoundProperty</td>\n",
       "      <td>202500017811</td>\n",
       "      <td>900</td>\n",
       "      <td>E MARKET ST</td>\n",
       "      <td>CPD</td>\n",
       "      <td>1209</td>\n",
       "      <td>Kirby, Tyree</td>\n",
       "      <td>2025-05-25 12:09:54</td>\n",
       "      <td>2025-05-25 12:09:54 PM</td>\n",
       "      <td>Sunday</td>\n",
       "      <td>True</td>\n",
       "      <td>Spring</td>\n",
       "      <td>12:09 PM</td>\n",
       "      <td>Afternoon</td>\n",
       "      <td>900 E MARKET ST</td>\n",
       "      <td>38.029506</td>\n",
       "      <td>-78.475093</td>\n",
       "      <td>North Downtown</td>\n",
       "      <td>22902</td>\n",
       "    </tr>\n",
       "    <tr>\n",
       "      <th>3</th>\n",
       "      <td>4</td>\n",
       "      <td>Assault Simple</td>\n",
       "      <td>202500017792</td>\n",
       "      <td>800</td>\n",
       "      <td>HARDY DR</td>\n",
       "      <td>CPD</td>\n",
       "      <td>0205</td>\n",
       "      <td>Folston, Elliott</td>\n",
       "      <td>2025-05-25 02:05:05</td>\n",
       "      <td>2025-05-25 02:05:05 AM</td>\n",
       "      <td>Sunday</td>\n",
       "      <td>True</td>\n",
       "      <td>Spring</td>\n",
       "      <td>02:05 AM</td>\n",
       "      <td>Night</td>\n",
       "      <td>800 HARDY DR</td>\n",
       "      <td>38.033239</td>\n",
       "      <td>-78.490398</td>\n",
       "      <td>10th &amp; Page</td>\n",
       "      <td>22903</td>\n",
       "    </tr>\n",
       "    <tr>\n",
       "      <th>4</th>\n",
       "      <td>5</td>\n",
       "      <td>Assist Citizen - Mental/TDO/ECO</td>\n",
       "      <td>202500017788</td>\n",
       "      <td>1400</td>\n",
       "      <td>BURGESS LN</td>\n",
       "      <td>CPD</td>\n",
       "      <td>0022</td>\n",
       "      <td>Bland, Johnnà</td>\n",
       "      <td>2025-05-25 00:22:28</td>\n",
       "      <td>2025-05-25 12:22:28 AM</td>\n",
       "      <td>Sunday</td>\n",
       "      <td>True</td>\n",
       "      <td>Spring</td>\n",
       "      <td>12:22 AM</td>\n",
       "      <td>Night</td>\n",
       "      <td>1400 BURGESS LN</td>\n",
       "      <td>38.023206</td>\n",
       "      <td>-78.465142</td>\n",
       "      <td>Woolen Mills</td>\n",
       "      <td>22902</td>\n",
       "    </tr>\n",
       "  </tbody>\n",
       "</table>\n",
       "</div>"
      ],
      "text/plain": [
       "   RecordID                          Offense    IncidentID BlockNumber  \\\n",
       "0         1                 Animal Complaint  202500017824        1500   \n",
       "1         2  Assist Citizen - Mental/TDO/ECO  202500017812         600   \n",
       "2         3               Lost/FoundProperty  202500017811         900   \n",
       "3         4                   Assault Simple  202500017792         800   \n",
       "4         5  Assist Citizen - Mental/TDO/ECO  202500017788        1400   \n",
       "\n",
       "       StreetName Agency HourReported  ReportingOfficer                Date  \\\n",
       "0        ROSA TER    CPD         1447  Schwartz, Honora 2025-05-25 14:47:21   \n",
       "1  6TH ST SE, 120    CPD         1221     Wisser, Shawn 2025-05-25 12:21:53   \n",
       "2     E MARKET ST    CPD         1209      Kirby, Tyree 2025-05-25 12:09:54   \n",
       "3        HARDY DR    CPD         0205  Folston, Elliott 2025-05-25 02:05:05   \n",
       "4      BURGESS LN    CPD         0022     Bland, Johnnà 2025-05-25 00:22:28   \n",
       "\n",
       "               DateString DayOfWeek  Weekend  Season  HourAMPM  TimeOfDay  \\\n",
       "0  2025-05-25 02:47:21 PM    Sunday     True  Spring  02:47 PM  Afternoon   \n",
       "1  2025-05-25 12:21:53 PM    Sunday     True  Spring  12:21 PM  Afternoon   \n",
       "2  2025-05-25 12:09:54 PM    Sunday     True  Spring  12:09 PM  Afternoon   \n",
       "3  2025-05-25 02:05:05 AM    Sunday     True  Spring  02:05 AM      Night   \n",
       "4  2025-05-25 12:22:28 AM    Sunday     True  Spring  12:22 AM      Night   \n",
       "\n",
       "           FullStreet        lat        lon    neighborhood    zip  \n",
       "0       1500 ROSA TER  38.019629 -78.485985       Ridge St.  22903  \n",
       "1  600 6TH ST SE, 120  38.025815 -78.480160  North Downtown  22903  \n",
       "2     900 E MARKET ST  38.029506 -78.475093  North Downtown  22902  \n",
       "3        800 HARDY DR  38.033239 -78.490398     10th & Page  22903  \n",
       "4     1400 BURGESS LN  38.023206 -78.465142    Woolen Mills  22902  "
      ]
     },
     "execution_count": 11,
     "metadata": {},
     "output_type": "execute_result"
    }
   ],
   "source": [
    "# Initialize the geocoder.\n",
    "geolocator = Nominatim(user_agent=\"zip_lookup\")\n",
    "\n",
    "# Try to load a persistent ZIP cache if available.\n",
    "try:\n",
    "    with open(\"zip_cache.pkl\", \"rb\") as f:\n",
    "        zip_cache = pickle.load(f)\n",
    "    print(\"Loaded zip cache.\")\n",
    "except FileNotFoundError:\n",
    "    zip_cache = {}\n",
    "    print(\"No zip cache found; starting fresh.\")\n",
    "\n",
    "def get_zip(lat, lon):\n",
    "    \"\"\"\n",
    "    Reverse geocodes a latitude and longitude to retrieve the ZIP code.\n",
    "    Caches results to speed up subsequent lookups.\n",
    "    \"\"\"\n",
    "    key = (lat, lon)\n",
    "    if key in zip_cache:\n",
    "        return zip_cache[key]\n",
    "    \n",
    "    try:\n",
    "        location = geolocator.reverse((lat, lon), exactly_one=True, timeout=10)\n",
    "        address = location.raw.get('address', {})\n",
    "        postal_code = address.get('postcode', \"N/A\")\n",
    "    except Exception as e:\n",
    "        print(f\"Error getting ZIP for {lat}, {lon}: {e}\")\n",
    "        postal_code = \"N/A\"\n",
    "    \n",
    "    zip_cache[key] = postal_code\n",
    "    # Pause to respect the usage policy.\n",
    "    time.sleep(1)\n",
    "    return postal_code\n",
    "\n",
    "# Apply the function to each row in the DataFrame.\n",
    "df['zip'] = df.apply(lambda row: get_zip(row['lat'], row['lon']), axis=1)\n",
    "\n",
    "# Save the updated ZIP cache.\n",
    "with open(\"zip_cache.pkl\", \"wb\") as f:\n",
    "    pickle.dump(zip_cache, f)\n",
    "\n",
    "df.head()\n"
   ]
  },
  {
   "cell_type": "code",
   "execution_count": 12,
   "id": "61841c17",
   "metadata": {
    "execution": {
     "iopub.execute_input": "2025-05-28T01:04:28.484052Z",
     "iopub.status.busy": "2025-05-28T01:04:28.483586Z",
     "iopub.status.idle": "2025-05-28T01:04:28.515237Z",
     "shell.execute_reply": "2025-05-28T01:04:28.514628Z"
    },
    "papermill": {
     "duration": 0.040378,
     "end_time": "2025-05-28T01:04:28.516408",
     "exception": false,
     "start_time": "2025-05-28T01:04:28.476030",
     "status": "completed"
    },
    "tags": []
   },
   "outputs": [
    {
     "name": "stdout",
     "output_type": "stream",
     "text": [
      "                  MissingCount  MissingPercentage\n",
      "RecordID                     0               0.00\n",
      "Offense                      0               0.00\n",
      "IncidentID                   0               0.00\n",
      "BlockNumber                  0               0.00\n",
      "StreetName                   0               0.00\n",
      "Agency                       0               0.00\n",
      "HourReported                 0               0.00\n",
      "ReportingOfficer            17               0.07\n",
      "Date                         0               0.00\n",
      "DateString                   0               0.00\n",
      "DayOfWeek                    0               0.00\n",
      "Weekend                      0               0.00\n",
      "Season                       0               0.00\n",
      "HourAMPM                     0               0.00\n",
      "TimeOfDay                    0               0.00\n",
      "FullStreet                   0               0.00\n",
      "lat                          0               0.00\n",
      "lon                          0               0.00\n",
      "neighborhood                 0               0.00\n",
      "zip                          0               0.00\n"
     ]
    }
   ],
   "source": [
    "missing_info = missing_percentage(df)\n",
    "print(missing_info)\n"
   ]
  },
  {
   "cell_type": "code",
   "execution_count": 13,
   "id": "93234011",
   "metadata": {
    "execution": {
     "iopub.execute_input": "2025-05-28T01:04:28.531922Z",
     "iopub.status.busy": "2025-05-28T01:04:28.531396Z",
     "iopub.status.idle": "2025-05-28T01:04:28.564418Z",
     "shell.execute_reply": "2025-05-28T01:04:28.563781Z"
    },
    "papermill": {
     "duration": 0.041862,
     "end_time": "2025-05-28T01:04:28.565544",
     "exception": false,
     "start_time": "2025-05-28T01:04:28.523682",
     "status": "completed"
    },
    "tags": []
   },
   "outputs": [
    {
     "name": "stdout",
     "output_type": "stream",
     "text": [
      "<class 'pandas.core.frame.DataFrame'>\n",
      "RangeIndex: 25421 entries, 0 to 25420\n",
      "Data columns (total 20 columns):\n",
      " #   Column            Non-Null Count  Dtype         \n",
      "---  ------            --------------  -----         \n",
      " 0   RecordID          25421 non-null  int64         \n",
      " 1   Offense           25421 non-null  object        \n",
      " 2   IncidentID        25421 non-null  object        \n",
      " 3   BlockNumber       25421 non-null  object        \n",
      " 4   StreetName        25421 non-null  object        \n",
      " 5   Agency            25421 non-null  object        \n",
      " 6   HourReported      25421 non-null  object        \n",
      " 7   ReportingOfficer  25404 non-null  object        \n",
      " 8   Date              25421 non-null  datetime64[ns]\n",
      " 9   DateString        25421 non-null  object        \n",
      " 10  DayOfWeek         25421 non-null  object        \n",
      " 11  Weekend           25421 non-null  bool          \n",
      " 12  Season            25421 non-null  object        \n",
      " 13  HourAMPM          25421 non-null  object        \n",
      " 14  TimeOfDay         25421 non-null  object        \n",
      " 15  FullStreet        25421 non-null  object        \n",
      " 16  lat               25421 non-null  float64       \n",
      " 17  lon               25421 non-null  float64       \n",
      " 18  neighborhood      25421 non-null  object        \n",
      " 19  zip               25421 non-null  object        \n",
      "dtypes: bool(1), datetime64[ns](1), float64(2), int64(1), object(15)\n",
      "memory usage: 3.7+ MB\n"
     ]
    }
   ],
   "source": [
    "df.info()"
   ]
  },
  {
   "cell_type": "code",
   "execution_count": 14,
   "id": "18ce1e40",
   "metadata": {
    "execution": {
     "iopub.execute_input": "2025-05-28T01:04:28.581002Z",
     "iopub.status.busy": "2025-05-28T01:04:28.580500Z",
     "iopub.status.idle": "2025-05-28T01:04:28.630226Z",
     "shell.execute_reply": "2025-05-28T01:04:28.629507Z"
    },
    "papermill": {
     "duration": 0.058533,
     "end_time": "2025-05-28T01:04:28.631275",
     "exception": false,
     "start_time": "2025-05-28T01:04:28.572742",
     "status": "completed"
    },
    "tags": []
   },
   "outputs": [
    {
     "data": {
      "text/html": [
       "<div>\n",
       "<style scoped>\n",
       "    .dataframe tbody tr th:only-of-type {\n",
       "        vertical-align: middle;\n",
       "    }\n",
       "\n",
       "    .dataframe tbody tr th {\n",
       "        vertical-align: top;\n",
       "    }\n",
       "\n",
       "    .dataframe thead th {\n",
       "        text-align: right;\n",
       "    }\n",
       "</style>\n",
       "<table border=\"1\" class=\"dataframe\">\n",
       "  <thead>\n",
       "    <tr style=\"text-align: right;\">\n",
       "      <th></th>\n",
       "      <th>RecordID</th>\n",
       "      <th>Offense</th>\n",
       "      <th>IncidentID</th>\n",
       "      <th>Agency</th>\n",
       "      <th>ReportingOfficer</th>\n",
       "      <th>Date</th>\n",
       "      <th>DayOfWeek</th>\n",
       "      <th>Weekend</th>\n",
       "      <th>Season</th>\n",
       "      <th>TimeOfDay</th>\n",
       "      <th>FullStreet</th>\n",
       "      <th>lat</th>\n",
       "      <th>lon</th>\n",
       "      <th>neighborhood</th>\n",
       "      <th>zip</th>\n",
       "    </tr>\n",
       "  </thead>\n",
       "  <tbody>\n",
       "    <tr>\n",
       "      <th>0</th>\n",
       "      <td>1</td>\n",
       "      <td>Animal Complaint</td>\n",
       "      <td>202500017824</td>\n",
       "      <td>CPD</td>\n",
       "      <td>Schwartz, Honora</td>\n",
       "      <td>2025-05-25 14:47:21</td>\n",
       "      <td>Sunday</td>\n",
       "      <td>True</td>\n",
       "      <td>Spring</td>\n",
       "      <td>Afternoon</td>\n",
       "      <td>1500 ROSA TER</td>\n",
       "      <td>38.019629</td>\n",
       "      <td>-78.485985</td>\n",
       "      <td>Ridge St.</td>\n",
       "      <td>22903</td>\n",
       "    </tr>\n",
       "    <tr>\n",
       "      <th>1</th>\n",
       "      <td>2</td>\n",
       "      <td>Assist Citizen - Mental/TDO/ECO</td>\n",
       "      <td>202500017812</td>\n",
       "      <td>CPD</td>\n",
       "      <td>Wisser, Shawn</td>\n",
       "      <td>2025-05-25 12:21:53</td>\n",
       "      <td>Sunday</td>\n",
       "      <td>True</td>\n",
       "      <td>Spring</td>\n",
       "      <td>Afternoon</td>\n",
       "      <td>600 6TH ST SE, 120</td>\n",
       "      <td>38.025815</td>\n",
       "      <td>-78.480160</td>\n",
       "      <td>North Downtown</td>\n",
       "      <td>22903</td>\n",
       "    </tr>\n",
       "    <tr>\n",
       "      <th>2</th>\n",
       "      <td>3</td>\n",
       "      <td>Lost/FoundProperty</td>\n",
       "      <td>202500017811</td>\n",
       "      <td>CPD</td>\n",
       "      <td>Kirby, Tyree</td>\n",
       "      <td>2025-05-25 12:09:54</td>\n",
       "      <td>Sunday</td>\n",
       "      <td>True</td>\n",
       "      <td>Spring</td>\n",
       "      <td>Afternoon</td>\n",
       "      <td>900 E MARKET ST</td>\n",
       "      <td>38.029506</td>\n",
       "      <td>-78.475093</td>\n",
       "      <td>North Downtown</td>\n",
       "      <td>22902</td>\n",
       "    </tr>\n",
       "    <tr>\n",
       "      <th>3</th>\n",
       "      <td>4</td>\n",
       "      <td>Assault Simple</td>\n",
       "      <td>202500017792</td>\n",
       "      <td>CPD</td>\n",
       "      <td>Folston, Elliott</td>\n",
       "      <td>2025-05-25 02:05:05</td>\n",
       "      <td>Sunday</td>\n",
       "      <td>True</td>\n",
       "      <td>Spring</td>\n",
       "      <td>Night</td>\n",
       "      <td>800 HARDY DR</td>\n",
       "      <td>38.033239</td>\n",
       "      <td>-78.490398</td>\n",
       "      <td>10th &amp; Page</td>\n",
       "      <td>22903</td>\n",
       "    </tr>\n",
       "    <tr>\n",
       "      <th>4</th>\n",
       "      <td>5</td>\n",
       "      <td>Assist Citizen - Mental/TDO/ECO</td>\n",
       "      <td>202500017788</td>\n",
       "      <td>CPD</td>\n",
       "      <td>Bland, Johnnà</td>\n",
       "      <td>2025-05-25 00:22:28</td>\n",
       "      <td>Sunday</td>\n",
       "      <td>True</td>\n",
       "      <td>Spring</td>\n",
       "      <td>Night</td>\n",
       "      <td>1400 BURGESS LN</td>\n",
       "      <td>38.023206</td>\n",
       "      <td>-78.465142</td>\n",
       "      <td>Woolen Mills</td>\n",
       "      <td>22902</td>\n",
       "    </tr>\n",
       "  </tbody>\n",
       "</table>\n",
       "</div>"
      ],
      "text/plain": [
       "   RecordID                          Offense    IncidentID Agency  \\\n",
       "0         1                 Animal Complaint  202500017824    CPD   \n",
       "1         2  Assist Citizen - Mental/TDO/ECO  202500017812    CPD   \n",
       "2         3               Lost/FoundProperty  202500017811    CPD   \n",
       "3         4                   Assault Simple  202500017792    CPD   \n",
       "4         5  Assist Citizen - Mental/TDO/ECO  202500017788    CPD   \n",
       "\n",
       "   ReportingOfficer                Date DayOfWeek  Weekend  Season  TimeOfDay  \\\n",
       "0  Schwartz, Honora 2025-05-25 14:47:21    Sunday     True  Spring  Afternoon   \n",
       "1     Wisser, Shawn 2025-05-25 12:21:53    Sunday     True  Spring  Afternoon   \n",
       "2      Kirby, Tyree 2025-05-25 12:09:54    Sunday     True  Spring  Afternoon   \n",
       "3  Folston, Elliott 2025-05-25 02:05:05    Sunday     True  Spring      Night   \n",
       "4     Bland, Johnnà 2025-05-25 00:22:28    Sunday     True  Spring      Night   \n",
       "\n",
       "           FullStreet        lat        lon    neighborhood    zip  \n",
       "0       1500 ROSA TER  38.019629 -78.485985       Ridge St.  22903  \n",
       "1  600 6TH ST SE, 120  38.025815 -78.480160  North Downtown  22903  \n",
       "2     900 E MARKET ST  38.029506 -78.475093  North Downtown  22902  \n",
       "3        800 HARDY DR  38.033239 -78.490398     10th & Page  22903  \n",
       "4     1400 BURGESS LN  38.023206 -78.465142    Woolen Mills  22902  "
      ]
     },
     "execution_count": 14,
     "metadata": {},
     "output_type": "execute_result"
    }
   ],
   "source": [
    "# Now drop the original BlockNumber and StreetName columns\n",
    "df.drop(columns=['BlockNumber', 'StreetName','HourAMPM','HourReported','DateString'], inplace=True)\n",
    "df[\"zip\"] = df[\"zip\"].astype(str)\n",
    "\n",
    "# Fill all missing values in the DataFrame with \"N/A\"\n",
    "df.replace({None: \"N/A\", np.nan: \"N/A\", \"\": \"N/A\"}, inplace=True)\n",
    "df.head()"
   ]
  },
  {
   "cell_type": "code",
   "execution_count": 15,
   "id": "bc42d489",
   "metadata": {
    "execution": {
     "iopub.execute_input": "2025-05-28T01:04:28.647643Z",
     "iopub.status.busy": "2025-05-28T01:04:28.647160Z",
     "iopub.status.idle": "2025-05-28T01:04:28.667530Z",
     "shell.execute_reply": "2025-05-28T01:04:28.666854Z"
    },
    "papermill": {
     "duration": 0.029547,
     "end_time": "2025-05-28T01:04:28.668552",
     "exception": false,
     "start_time": "2025-05-28T01:04:28.639005",
     "status": "completed"
    },
    "tags": []
   },
   "outputs": [
    {
     "name": "stdout",
     "output_type": "stream",
     "text": [
      "                  MissingCount  MissingPercentage\n",
      "RecordID                     0                0.0\n",
      "Offense                      0                0.0\n",
      "IncidentID                   0                0.0\n",
      "Agency                       0                0.0\n",
      "ReportingOfficer             0                0.0\n",
      "Date                         0                0.0\n",
      "DayOfWeek                    0                0.0\n",
      "Weekend                      0                0.0\n",
      "Season                       0                0.0\n",
      "TimeOfDay                    0                0.0\n",
      "FullStreet                   0                0.0\n",
      "lat                          0                0.0\n",
      "lon                          0                0.0\n",
      "neighborhood                 0                0.0\n",
      "zip                          0                0.0\n"
     ]
    }
   ],
   "source": [
    "missing_info = missing_percentage(df)\n",
    "print(missing_info)"
   ]
  },
  {
   "cell_type": "code",
   "execution_count": 16,
   "id": "5dd9c37f",
   "metadata": {
    "execution": {
     "iopub.execute_input": "2025-05-28T01:04:28.685563Z",
     "iopub.status.busy": "2025-05-28T01:04:28.684916Z",
     "iopub.status.idle": "2025-05-28T01:04:28.690712Z",
     "shell.execute_reply": "2025-05-28T01:04:28.690137Z"
    },
    "papermill": {
     "duration": 0.015817,
     "end_time": "2025-05-28T01:04:28.691766",
     "exception": false,
     "start_time": "2025-05-28T01:04:28.675949",
     "status": "completed"
    },
    "tags": []
   },
   "outputs": [
    {
     "data": {
      "text/plain": [
       "Index(['RecordID', 'Offense', 'IncidentID', 'Agency', 'ReportingOfficer',\n",
       "       'Date', 'DayOfWeek', 'Weekend', 'Season', 'TimeOfDay', 'FullStreet',\n",
       "       'lat', 'lon', 'neighborhood', 'zip'],\n",
       "      dtype='object')"
      ]
     },
     "execution_count": 16,
     "metadata": {},
     "output_type": "execute_result"
    }
   ],
   "source": [
    "df.columns"
   ]
  },
  {
   "cell_type": "code",
   "execution_count": 17,
   "id": "15e4fe44",
   "metadata": {
    "execution": {
     "iopub.execute_input": "2025-05-28T01:04:28.707741Z",
     "iopub.status.busy": "2025-05-28T01:04:28.707289Z",
     "iopub.status.idle": "2025-05-28T01:04:28.731282Z",
     "shell.execute_reply": "2025-05-28T01:04:28.730596Z"
    },
    "papermill": {
     "duration": 0.033399,
     "end_time": "2025-05-28T01:04:28.732680",
     "exception": false,
     "start_time": "2025-05-28T01:04:28.699281",
     "status": "completed"
    },
    "tags": []
   },
   "outputs": [
    {
     "name": "stdout",
     "output_type": "stream",
     "text": [
      "<class 'pandas.core.frame.DataFrame'>\n",
      "RangeIndex: 25421 entries, 0 to 25420\n",
      "Data columns (total 15 columns):\n",
      " #   Column            Non-Null Count  Dtype         \n",
      "---  ------            --------------  -----         \n",
      " 0   RecordID          25421 non-null  int64         \n",
      " 1   Offense           25421 non-null  object        \n",
      " 2   IncidentID        25421 non-null  object        \n",
      " 3   Agency            25421 non-null  object        \n",
      " 4   ReportingOfficer  25421 non-null  object        \n",
      " 5   Date              25421 non-null  datetime64[ns]\n",
      " 6   DayOfWeek         25421 non-null  object        \n",
      " 7   Weekend           25421 non-null  bool          \n",
      " 8   Season            25421 non-null  object        \n",
      " 9   TimeOfDay         25421 non-null  object        \n",
      " 10  FullStreet        25421 non-null  object        \n",
      " 11  lat               25421 non-null  float64       \n",
      " 12  lon               25421 non-null  float64       \n",
      " 13  neighborhood      25421 non-null  object        \n",
      " 14  zip               25421 non-null  object        \n",
      "dtypes: bool(1), datetime64[ns](1), float64(2), int64(1), object(10)\n",
      "memory usage: 2.7+ MB\n"
     ]
    }
   ],
   "source": [
    "df.info()"
   ]
  },
  {
   "cell_type": "markdown",
   "id": "b089118c",
   "metadata": {
    "papermill": {
     "duration": 0.007562,
     "end_time": "2025-05-28T01:04:28.748322",
     "exception": false,
     "start_time": "2025-05-28T01:04:28.740760",
     "status": "completed"
    },
    "tags": []
   },
   "source": [
    "### Export Clean Data"
   ]
  },
  {
   "cell_type": "code",
   "execution_count": 18,
   "id": "1ec38831",
   "metadata": {
    "execution": {
     "iopub.execute_input": "2025-05-28T01:04:28.764509Z",
     "iopub.status.busy": "2025-05-28T01:04:28.764227Z",
     "iopub.status.idle": "2025-05-28T01:04:38.287171Z",
     "shell.execute_reply": "2025-05-28T01:04:38.286363Z"
    },
    "papermill": {
     "duration": 9.532484,
     "end_time": "2025-05-28T01:04:38.288444",
     "exception": false,
     "start_time": "2025-05-28T01:04:28.755960",
     "status": "completed"
    },
    "tags": []
   },
   "outputs": [
    {
     "name": "stdout",
     "output_type": "stream",
     "text": [
      "Project Root: /home/runner/work/crime-data/crime-data\n"
     ]
    },
    {
     "name": "stdout",
     "output_type": "stream",
     "text": [
      "Data saved to: /home/runner/work/crime-data/crime-data/data/charlottesville_crime_incidents.csv\n"
     ]
    },
    {
     "name": "stdout",
     "output_type": "stream",
     "text": [
      "Excel saved to: /home/runner/work/crime-data/crime-data/data/charlottesville_crime_incidents.xlsx\n"
     ]
    }
   ],
   "source": [
    "# Determine the project root (assuming papermill is run from the repository root)\n",
    "project_root = os.getcwd()\n",
    "print(\"Project Root:\", project_root)\n",
    "\n",
    "# Set the data directory within the project root\n",
    "data_dir = os.path.join(project_root, \"data\")\n",
    "\n",
    "# Ensure the \"data\" directory exists (create it if it doesn't)\n",
    "if not os.path.exists(data_dir):\n",
    "    os.makedirs(data_dir)\n",
    "\n",
    "# Export the DataFrame to CSV in the \"data\" folder located in the project root\n",
    "csv_path = os.path.join(data_dir, \"charlottesville_crime_incidents.csv\")\n",
    "df.to_csv(csv_path, index=False)\n",
    "print(\"Data saved to:\", csv_path)\n",
    "\n",
    "# Construct the path to your Excel file\n",
    "excel_path = os.path.join(data_dir, \"charlottesville_crime_incidents.xlsx\")\n",
    "\n",
    "# Export the DataFrame to Excel\n",
    "df.to_excel(excel_path, index=False)\n",
    "print(\"Excel saved to:\", excel_path)\n"
   ]
  },
  {
   "cell_type": "markdown",
   "id": "007e0cbc",
   "metadata": {
    "papermill": {
     "duration": 0.007816,
     "end_time": "2025-05-28T01:04:38.304722",
     "exception": false,
     "start_time": "2025-05-28T01:04:38.296906",
     "status": "completed"
    },
    "tags": []
   },
   "source": [
    "## Predictive Analytics"
   ]
  },
  {
   "cell_type": "code",
   "execution_count": 19,
   "id": "39116a18",
   "metadata": {
    "execution": {
     "iopub.execute_input": "2025-05-28T01:04:38.321665Z",
     "iopub.status.busy": "2025-05-28T01:04:38.321022Z",
     "iopub.status.idle": "2025-05-28T01:04:38.333144Z",
     "shell.execute_reply": "2025-05-28T01:04:38.332453Z"
    },
    "papermill": {
     "duration": 0.021778,
     "end_time": "2025-05-28T01:04:38.334222",
     "exception": false,
     "start_time": "2025-05-28T01:04:38.312444",
     "status": "completed"
    },
    "tags": []
   },
   "outputs": [
    {
     "data": {
      "text/html": [
       "<div>\n",
       "<style scoped>\n",
       "    .dataframe tbody tr th:only-of-type {\n",
       "        vertical-align: middle;\n",
       "    }\n",
       "\n",
       "    .dataframe tbody tr th {\n",
       "        vertical-align: top;\n",
       "    }\n",
       "\n",
       "    .dataframe thead th {\n",
       "        text-align: right;\n",
       "    }\n",
       "</style>\n",
       "<table border=\"1\" class=\"dataframe\">\n",
       "  <thead>\n",
       "    <tr style=\"text-align: right;\">\n",
       "      <th></th>\n",
       "      <th>RecordID</th>\n",
       "      <th>Offense</th>\n",
       "      <th>IncidentID</th>\n",
       "      <th>Agency</th>\n",
       "      <th>ReportingOfficer</th>\n",
       "      <th>Date</th>\n",
       "      <th>DayOfWeek</th>\n",
       "      <th>Weekend</th>\n",
       "      <th>Season</th>\n",
       "      <th>TimeOfDay</th>\n",
       "      <th>FullStreet</th>\n",
       "      <th>lat</th>\n",
       "      <th>lon</th>\n",
       "      <th>neighborhood</th>\n",
       "      <th>zip</th>\n",
       "    </tr>\n",
       "  </thead>\n",
       "  <tbody>\n",
       "    <tr>\n",
       "      <th>0</th>\n",
       "      <td>1</td>\n",
       "      <td>Animal Complaint</td>\n",
       "      <td>202500017824</td>\n",
       "      <td>CPD</td>\n",
       "      <td>Schwartz, Honora</td>\n",
       "      <td>2025-05-25 14:47:21</td>\n",
       "      <td>Sunday</td>\n",
       "      <td>True</td>\n",
       "      <td>Spring</td>\n",
       "      <td>Afternoon</td>\n",
       "      <td>1500 ROSA TER</td>\n",
       "      <td>38.019629</td>\n",
       "      <td>-78.485985</td>\n",
       "      <td>Ridge St.</td>\n",
       "      <td>22903</td>\n",
       "    </tr>\n",
       "    <tr>\n",
       "      <th>1</th>\n",
       "      <td>2</td>\n",
       "      <td>Assist Citizen - Mental/TDO/ECO</td>\n",
       "      <td>202500017812</td>\n",
       "      <td>CPD</td>\n",
       "      <td>Wisser, Shawn</td>\n",
       "      <td>2025-05-25 12:21:53</td>\n",
       "      <td>Sunday</td>\n",
       "      <td>True</td>\n",
       "      <td>Spring</td>\n",
       "      <td>Afternoon</td>\n",
       "      <td>600 6TH ST SE, 120</td>\n",
       "      <td>38.025815</td>\n",
       "      <td>-78.480160</td>\n",
       "      <td>North Downtown</td>\n",
       "      <td>22903</td>\n",
       "    </tr>\n",
       "    <tr>\n",
       "      <th>2</th>\n",
       "      <td>3</td>\n",
       "      <td>Lost/FoundProperty</td>\n",
       "      <td>202500017811</td>\n",
       "      <td>CPD</td>\n",
       "      <td>Kirby, Tyree</td>\n",
       "      <td>2025-05-25 12:09:54</td>\n",
       "      <td>Sunday</td>\n",
       "      <td>True</td>\n",
       "      <td>Spring</td>\n",
       "      <td>Afternoon</td>\n",
       "      <td>900 E MARKET ST</td>\n",
       "      <td>38.029506</td>\n",
       "      <td>-78.475093</td>\n",
       "      <td>North Downtown</td>\n",
       "      <td>22902</td>\n",
       "    </tr>\n",
       "    <tr>\n",
       "      <th>3</th>\n",
       "      <td>4</td>\n",
       "      <td>Assault Simple</td>\n",
       "      <td>202500017792</td>\n",
       "      <td>CPD</td>\n",
       "      <td>Folston, Elliott</td>\n",
       "      <td>2025-05-25 02:05:05</td>\n",
       "      <td>Sunday</td>\n",
       "      <td>True</td>\n",
       "      <td>Spring</td>\n",
       "      <td>Night</td>\n",
       "      <td>800 HARDY DR</td>\n",
       "      <td>38.033239</td>\n",
       "      <td>-78.490398</td>\n",
       "      <td>10th &amp; Page</td>\n",
       "      <td>22903</td>\n",
       "    </tr>\n",
       "    <tr>\n",
       "      <th>4</th>\n",
       "      <td>5</td>\n",
       "      <td>Assist Citizen - Mental/TDO/ECO</td>\n",
       "      <td>202500017788</td>\n",
       "      <td>CPD</td>\n",
       "      <td>Bland, Johnnà</td>\n",
       "      <td>2025-05-25 00:22:28</td>\n",
       "      <td>Sunday</td>\n",
       "      <td>True</td>\n",
       "      <td>Spring</td>\n",
       "      <td>Night</td>\n",
       "      <td>1400 BURGESS LN</td>\n",
       "      <td>38.023206</td>\n",
       "      <td>-78.465142</td>\n",
       "      <td>Woolen Mills</td>\n",
       "      <td>22902</td>\n",
       "    </tr>\n",
       "  </tbody>\n",
       "</table>\n",
       "</div>"
      ],
      "text/plain": [
       "   RecordID                          Offense    IncidentID Agency  \\\n",
       "0         1                 Animal Complaint  202500017824    CPD   \n",
       "1         2  Assist Citizen - Mental/TDO/ECO  202500017812    CPD   \n",
       "2         3               Lost/FoundProperty  202500017811    CPD   \n",
       "3         4                   Assault Simple  202500017792    CPD   \n",
       "4         5  Assist Citizen - Mental/TDO/ECO  202500017788    CPD   \n",
       "\n",
       "   ReportingOfficer                Date DayOfWeek  Weekend  Season  TimeOfDay  \\\n",
       "0  Schwartz, Honora 2025-05-25 14:47:21    Sunday     True  Spring  Afternoon   \n",
       "1     Wisser, Shawn 2025-05-25 12:21:53    Sunday     True  Spring  Afternoon   \n",
       "2      Kirby, Tyree 2025-05-25 12:09:54    Sunday     True  Spring  Afternoon   \n",
       "3  Folston, Elliott 2025-05-25 02:05:05    Sunday     True  Spring      Night   \n",
       "4     Bland, Johnnà 2025-05-25 00:22:28    Sunday     True  Spring      Night   \n",
       "\n",
       "           FullStreet        lat        lon    neighborhood    zip  \n",
       "0       1500 ROSA TER  38.019629 -78.485985       Ridge St.  22903  \n",
       "1  600 6TH ST SE, 120  38.025815 -78.480160  North Downtown  22903  \n",
       "2     900 E MARKET ST  38.029506 -78.475093  North Downtown  22902  \n",
       "3        800 HARDY DR  38.033239 -78.490398     10th & Page  22903  \n",
       "4     1400 BURGESS LN  38.023206 -78.465142    Woolen Mills  22902  "
      ]
     },
     "execution_count": 19,
     "metadata": {},
     "output_type": "execute_result"
    }
   ],
   "source": [
    "df.head()"
   ]
  },
  {
   "cell_type": "code",
   "execution_count": 20,
   "id": "1d220f2b",
   "metadata": {
    "execution": {
     "iopub.execute_input": "2025-05-28T01:04:38.351521Z",
     "iopub.status.busy": "2025-05-28T01:04:38.351055Z",
     "iopub.status.idle": "2025-05-28T01:04:38.355762Z",
     "shell.execute_reply": "2025-05-28T01:04:38.355086Z"
    },
    "papermill": {
     "duration": 0.014339,
     "end_time": "2025-05-28T01:04:38.356803",
     "exception": false,
     "start_time": "2025-05-28T01:04:38.342464",
     "status": "completed"
    },
    "tags": []
   },
   "outputs": [
    {
     "data": {
      "text/plain": [
       "Index(['RecordID', 'Offense', 'IncidentID', 'Agency', 'ReportingOfficer',\n",
       "       'Date', 'DayOfWeek', 'Weekend', 'Season', 'TimeOfDay', 'FullStreet',\n",
       "       'lat', 'lon', 'neighborhood', 'zip'],\n",
       "      dtype='object')"
      ]
     },
     "execution_count": 20,
     "metadata": {},
     "output_type": "execute_result"
    }
   ],
   "source": [
    "df.columns"
   ]
  },
  {
   "cell_type": "markdown",
   "id": "6b737c97",
   "metadata": {
    "papermill": {
     "duration": 0.007895,
     "end_time": "2025-05-28T01:04:38.372949",
     "exception": false,
     "start_time": "2025-05-28T01:04:38.365054",
     "status": "completed"
    },
    "tags": []
   },
   "source": [
    "### Data Preparation\n",
    "\n",
    "We need to ensure the data is in the correct format for modeling and can handle missing values, categorical variables, and dates. Here's how to prepare your data:"
   ]
  },
  {
   "cell_type": "code",
   "execution_count": 21,
   "id": "d484ff27",
   "metadata": {
    "execution": {
     "iopub.execute_input": "2025-05-28T01:04:38.390619Z",
     "iopub.status.busy": "2025-05-28T01:04:38.389921Z",
     "iopub.status.idle": "2025-05-28T01:04:40.157581Z",
     "shell.execute_reply": "2025-05-28T01:04:40.156808Z"
    },
    "papermill": {
     "duration": 1.778127,
     "end_time": "2025-05-28T01:04:40.158994",
     "exception": false,
     "start_time": "2025-05-28T01:04:38.380867",
     "status": "completed"
    },
    "tags": []
   },
   "outputs": [],
   "source": [
    "import pandas as pd\n",
    "from sklearn.model_selection import train_test_split\n",
    "from sklearn.preprocessing import OneHotEncoder, LabelEncoder\n",
    "from sklearn.ensemble import RandomForestClassifier\n",
    "from sklearn.linear_model import LogisticRegression\n",
    "from sklearn.tree import DecisionTreeClassifier\n",
    "from sklearn.metrics import classification_report, accuracy_score\n",
    "import seaborn as sns\n",
    "import matplotlib.pyplot as plt\n",
    "\n",
    "# Convert 'Date' to datetime\n",
    "df['Date'] = pd.to_datetime(df['Date'])\n",
    "\n",
    "# Feature engineering: Extract additional time-based features\n",
    "df['Year'] = df['Date'].dt.year\n",
    "df['Month'] = df['Date'].dt.month\n",
    "df['DayOfMonth'] = df['Date'].dt.day\n",
    "\n",
    "# One-hot encoding for 'FullStreet', 'neighborhood', 'zip'\n",
    "df = pd.get_dummies(df, columns=['FullStreet', 'neighborhood', 'zip'], drop_first=True)\n",
    "\n",
    "# Label encoding for ordered variables (those with a natural order like 'DayOfWeek', 'Season', 'TimeOfDay')\n",
    "label_encoders = {}\n",
    "for column in ['DayOfWeek', 'Season', 'TimeOfDay', 'Agency', 'ReportingOfficer']:  # Example ordinal variables\n",
    "    le = LabelEncoder()\n",
    "    df[column] = le.fit_transform(df[column])\n",
    "    label_encoders[column] = le\n",
    "\n",
    "# Filter the dataset to include only the offenses of interest\n",
    "offenses_of_interest = [\n",
    "    'Hit and Run', 'Assault Simple', 'Suspicious Activity', 'Vandalism', \n",
    "    'Larceny - From Mot Vehicle', 'Larceny - All Other', \n",
    "    'Assist Citizen - Mental/TDO/ECO', 'Lost/FoundProperty'\n",
    "]\n",
    "\n",
    "df = df[df['Offense'].isin(offenses_of_interest)]\n",
    "\n",
    "# Label encode the target variable (Offense)\n",
    "offense_encoder = LabelEncoder()\n",
    "df['Offense'] = offense_encoder.fit_transform(df['Offense'])\n",
    "\n",
    "# Separate features (X) and target (y)\n",
    "X = df[['Year', 'Month', 'DayOfMonth', 'DayOfWeek', 'Weekend', 'Season', 'TimeOfDay', 'lat', 'lon', 'Agency', 'ReportingOfficer']]\n",
    "y = df['Offense']  # Offense is now the encoded target variable\n",
    "\n",
    "# Split the data into training and testing sets\n",
    "X_train, X_test, y_train, y_test = train_test_split(X, y, test_size=0.3, random_state=42)\n"
   ]
  },
  {
   "cell_type": "markdown",
   "id": "cbf32952",
   "metadata": {
    "papermill": {
     "duration": 0.008024,
     "end_time": "2025-05-28T01:04:40.175652",
     "exception": false,
     "start_time": "2025-05-28T01:04:40.167628",
     "status": "completed"
    },
    "tags": []
   },
   "source": [
    "### Model Training\n",
    "\n",
    "Here we will train several models (e.g., Random Forest, Logistic Regression, and Decision Tree). We will use cross-validation to choose the best model based on accuracy, and then explain the impact of the variables."
   ]
  },
  {
   "cell_type": "code",
   "execution_count": 22,
   "id": "9bec7e70",
   "metadata": {
    "execution": {
     "iopub.execute_input": "2025-05-28T01:04:40.193451Z",
     "iopub.status.busy": "2025-05-28T01:04:40.192602Z",
     "iopub.status.idle": "2025-05-28T01:04:43.836732Z",
     "shell.execute_reply": "2025-05-28T01:04:43.836056Z"
    },
    "papermill": {
     "duration": 3.654241,
     "end_time": "2025-05-28T01:04:43.837903",
     "exception": false,
     "start_time": "2025-05-28T01:04:40.183662",
     "status": "completed"
    },
    "tags": []
   },
   "outputs": [
    {
     "name": "stderr",
     "output_type": "stream",
     "text": [
      "/opt/hostedtoolcache/Python/3.9.22/x64/lib/python3.9/site-packages/sklearn/linear_model/_logistic.py:465: ConvergenceWarning: lbfgs failed to converge (status=1):\n",
      "STOP: TOTAL NO. of ITERATIONS REACHED LIMIT.\n",
      "\n",
      "Increase the number of iterations (max_iter) or scale the data as shown in:\n",
      "    https://scikit-learn.org/stable/modules/preprocessing.html\n",
      "Please also refer to the documentation for alternative solver options:\n",
      "    https://scikit-learn.org/stable/modules/linear_model.html#logistic-regression\n",
      "  n_iter_i = _check_optimize_result(\n",
      "/opt/hostedtoolcache/Python/3.9.22/x64/lib/python3.9/site-packages/sklearn/metrics/_classification.py:1565: UndefinedMetricWarning: Precision is ill-defined and being set to 0.0 in labels with no predicted samples. Use `zero_division` parameter to control this behavior.\n",
      "  _warn_prf(average, modifier, f\"{metric.capitalize()} is\", len(result))\n",
      "/opt/hostedtoolcache/Python/3.9.22/x64/lib/python3.9/site-packages/sklearn/metrics/_classification.py:1565: UndefinedMetricWarning: Precision is ill-defined and being set to 0.0 in labels with no predicted samples. Use `zero_division` parameter to control this behavior.\n",
      "  _warn_prf(average, modifier, f\"{metric.capitalize()} is\", len(result))\n",
      "/opt/hostedtoolcache/Python/3.9.22/x64/lib/python3.9/site-packages/sklearn/metrics/_classification.py:1565: UndefinedMetricWarning: Precision is ill-defined and being set to 0.0 in labels with no predicted samples. Use `zero_division` parameter to control this behavior.\n",
      "  _warn_prf(average, modifier, f\"{metric.capitalize()} is\", len(result))\n"
     ]
    },
    {
     "name": "stdout",
     "output_type": "stream",
     "text": [
      "\n",
      "Classification Report for All Models:\n",
      "\n",
      "Model: RandomForest\n",
      "Accuracy: 0.2844\n",
      "              precision    recall  f1-score      support\n",
      "0              0.279039  0.364747  0.316188   573.000000\n",
      "1              0.306991  0.245742  0.272973   411.000000\n",
      "2              0.296154  0.482759  0.367104   638.000000\n",
      "3              0.225000  0.171247  0.194478   473.000000\n",
      "4              0.367257  0.222520  0.277129   373.000000\n",
      "5              0.234694  0.178295  0.202643   516.000000\n",
      "6              0.301266  0.234714  0.263858   507.000000\n",
      "accuracy       0.284446  0.284446  0.284446     0.284446\n",
      "macro avg      0.287200  0.271432  0.270625  3491.000000\n",
      "weighted avg   0.284235  0.284446  0.275358  3491.000000\n"
     ]
    },
    {
     "data": {
      "image/png": "[encoded data removed]",
      "text/plain": [
       "<Figure size 800x600 with 2 Axes>"
      ]
     },
     "metadata": {},
     "output_type": "display_data"
    },
    {
     "name": "stdout",
     "output_type": "stream",
     "text": [
      "\n",
      "Model: LogisticRegression\n",
      "Accuracy: 0.2057\n",
      "              precision    recall  f1-score      support\n",
      "0              0.206255  0.483421  0.289144   573.000000\n",
      "1              0.000000  0.000000  0.000000   411.000000\n",
      "2              0.205307  0.691223  0.316583   638.000000\n",
      "3              0.000000  0.000000  0.000000   473.000000\n",
      "4              0.000000  0.000000  0.000000   373.000000\n",
      "5              0.000000  0.000000  0.000000   516.000000\n",
      "6              0.000000  0.000000  0.000000   507.000000\n",
      "accuracy       0.205672  0.205672  0.205672     0.205672\n",
      "macro avg      0.058795  0.167806  0.086532  3491.000000\n",
      "weighted avg   0.071375  0.205672  0.105316  3491.000000\n"
     ]
    },
    {
     "data": {
      "image/png": "[encoded data removed]",
      "text/plain": [
       "<Figure size 800x600 with 2 Axes>"
      ]
     },
     "metadata": {},
     "output_type": "display_data"
    },
    {
     "name": "stdout",
     "output_type": "stream",
     "text": [
      "\n",
      "Model: DecisionTree\n",
      "Accuracy: 0.2220\n",
      "              precision    recall  f1-score      support\n",
      "0              0.205592  0.218150  0.211685   573.000000\n",
      "1              0.258373  0.262774  0.260555   411.000000\n",
      "2              0.285494  0.289969  0.287714   638.000000\n",
      "3              0.169265  0.160677  0.164859   473.000000\n",
      "4              0.201657  0.195710  0.198639   373.000000\n",
      "5              0.190291  0.189922  0.190107   516.000000\n",
      "6              0.224033  0.216963  0.220441   507.000000\n",
      "accuracy       0.221999  0.221999  0.221999     0.221999\n",
      "macro avg      0.219244  0.219166  0.219143  3491.000000\n",
      "weighted avg   0.221483  0.221999  0.221677  3491.000000\n"
     ]
    },
    {
     "data": {
      "image/png": "[encoded data removed]",
      "text/plain": [
       "<Figure size 800x600 with 2 Axes>"
      ]
     },
     "metadata": {},
     "output_type": "display_data"
    },
    {
     "name": "stdout",
     "output_type": "stream",
     "text": [
      "\n",
      "Best Model:\n",
      "Best Model: RandomForestClassifier()\n",
      "Best Model Accuracy: 0.2844\n"
     ]
    }
   ],
   "source": [
    "import pandas as pd\n",
    "from sklearn.model_selection import train_test_split\n",
    "from sklearn.ensemble import RandomForestClassifier\n",
    "from sklearn.linear_model import LogisticRegression\n",
    "from sklearn.tree import DecisionTreeClassifier\n",
    "from sklearn.metrics import classification_report, accuracy_score, confusion_matrix\n",
    "import seaborn as sns\n",
    "import matplotlib.pyplot as plt\n",
    "\n",
    "# Define models\n",
    "models = {\n",
    "    'RandomForest': RandomForestClassifier(),\n",
    "    'LogisticRegression': LogisticRegression(max_iter=1000),\n",
    "    'DecisionTree': DecisionTreeClassifier()\n",
    "}\n",
    "\n",
    "# Train models and evaluate them\n",
    "best_model = None\n",
    "best_score = 0\n",
    "model_reports = {}\n",
    "\n",
    "for model_name, model in models.items():\n",
    "    model.fit(X_train, y_train)  # Train model\n",
    "    y_pred = model.predict(X_test)  # Make predictions\n",
    "    \n",
    "    # Calculate accuracy and generate classification report\n",
    "    accuracy = accuracy_score(y_test, y_pred)\n",
    "    model_reports[model_name] = classification_report(y_test, y_pred, output_dict=True)  # Store as a dictionary for easier analysis\n",
    "    \n",
    "    # Track best performing model\n",
    "    if accuracy > best_score:\n",
    "        best_score = accuracy\n",
    "        best_model = model\n",
    "\n",
    "# Display classification reports and confusion matrices\n",
    "print(\"\\nClassification Report for All Models:\")\n",
    "for model_name, report in model_reports.items():\n",
    "    print(f\"\\nModel: {model_name}\")\n",
    "    print(\"Accuracy: {:.4f}\".format(accuracy_score(y_test, models[model_name].predict(X_test))))  # Display accuracy\n",
    "    print(pd.DataFrame(report).transpose())  # Display classification report as a DataFrame\n",
    "\n",
    "    # Plot Confusion Matrix\n",
    "    cm = confusion_matrix(y_test, models[model_name].predict(X_test))\n",
    "    plt.figure(figsize=(8, 6))\n",
    "    sns.heatmap(cm, annot=True, fmt=\"d\", cmap='Blues', xticklabels=offense_encoder.classes_, yticklabels=offense_encoder.classes_)\n",
    "    plt.title(f\"Confusion Matrix - {model_name}\")\n",
    "    plt.xlabel('Predicted Labels')\n",
    "    plt.ylabel('True Labels')\n",
    "    plt.show()\n",
    "\n",
    "# Display best model details\n",
    "print(\"\\nBest Model:\")\n",
    "print(f\"Best Model: {best_model}\")\n",
    "print(f\"Best Model Accuracy: {best_score:.4f}\")\n"
   ]
  },
  {
   "cell_type": "markdown",
   "id": "fe3f08fc",
   "metadata": {
    "papermill": {
     "duration": 0.01101,
     "end_time": "2025-05-28T01:04:43.860891",
     "exception": false,
     "start_time": "2025-05-28T01:04:43.849881",
     "status": "completed"
    },
    "tags": []
   },
   "source": [
    "#### Classification Report for All Models:\n",
    "\n",
    "### Explanation of the Classification Results (RandomForest Model)\n",
    "\n",
    "The results you provided are from a **Random Forest** model, which is used for predicting different types of offenses. Let's break down the key components of the results:\n",
    "\n",
    "#### 1. **Accuracy: 0.2822**\n",
    "   - **Accuracy** measures the overall percentage of correct predictions made by the model. An accuracy of 28.22% means the model correctly predicted the offense in about 28% of the cases. This indicates the model's predictions are not highly reliable, as the accuracy is quite low.\n",
    "\n",
    "#### 2. **Classification Report:**\n",
    "   The classification report includes precision, recall, and F1-score for each offense. Let's go over these terms and how they apply to the results:\n",
    "\n",
    "   - **Precision**: The proportion of true positive predictions out of all positive predictions made by the model for a specific class (offense).\n",
    "   - **Recall**: The proportion of true positive predictions out of all actual positive instances in the dataset.\n",
    "   - **F1-Score**: The harmonic mean of precision and recall, providing a balance between the two metrics.\n",
    "   - **Support**: The number of actual occurrences of each class in the test set.\n",
    "\n",
    "   Let's analyze each offense based on these metrics:\n",
    "\n",
    "   | **Offense**                        | **Precision** | **Recall** | **F1-Score** | **Support** |\n",
    "   |------------------------------------|---------------|------------|--------------|-------------|\n",
    "   | **Assault Simple**                 | 0.2892        | 0.3754     | 0.3267       | 594         |\n",
    "   | **Assist Citizen - Mental/TDO/ECO**| 0.3182        | 0.2274     | 0.2652       | 431         |\n",
    "   | **Hit and Run**                    | 0.2963        | 0.4765     | 0.3654       | 638         |\n",
    "   | **Larceny - All Other**            | 0.2270        | 0.1453     | 0.1772       | 475         |\n",
    "   | **Lost/FoundProperty**             | 0.3333        | 0.2102     | 0.2578       | 352         |\n",
    "   | **Suspicious Activity**            | 0.2344        | 0.2169     | 0.2253       | 484         |\n",
    "   | **Vandalism**                      | 0.2712        | 0.2106     | 0.2371       | 470         |\n",
    "\n",
    "#### 3. **Key Insights from the Report:**\n",
    "\n",
    "- **Precision**:\n",
    "   - The highest precision is for **Larceny - All Other** (0.3333), indicating that when the model predicts this offense, it is correct about 33% of the time. However, this is still quite low.\n",
    "   - **Assist Citizen - Mental/TDO/ECO** has the lowest precision (0.2269), meaning that the model's predictions for this offense tend to be wrong more often than correct.\n",
    "\n",
    "- **Recall**:\n",
    "   - **Hit and Run** has the highest recall (0.4765), meaning the model identifies about 48% of the actual occurrences of this offense. This is better than the precision, which indicates it is missing many true positives but is still able to identify a fair number of cases.\n",
    "   - **Larceny - All Other** and **Suspicious Activity** have the lowest recall values (0.1453 and 0.2169, respectively), indicating that the model is failing to identify most of the actual cases for these offenses.\n",
    "\n",
    "- **F1-Score**:\n",
    "   - The **F1-Score** balances precision and recall. It is highest for **Hit and Run** (0.3654), but still relatively low overall. This suggests the model is better at identifying **Hit and Run** than other offenses but still has room for improvement.\n",
    "   - **Larceny - All Other** has the lowest F1-Score (0.1772), indicating a poor balance between precision and recall for this offense.\n",
    "\n",
    "#### 4. **Macro Average and Weighted Average:**\n",
    "   - **Macro Average**: This gives the average precision, recall, and F1-Score across all classes (offenses) without considering the class distribution. It averages the results for all offenses equally.\n",
    "     - Precision: 0.2814\n",
    "     - Recall: 0.2661\n",
    "     - F1-Score: 0.2649\n",
    "   - **Weighted Average**: This averages the metrics but weighs each class by its support (the number of true instances in the test set). This gives a better sense of overall performance, considering the class distribution.\n",
    "     - Precision: 0.2799\n",
    "     - Recall: 0.2822\n",
    "     - F1-Score: 0.2720\n",
    "\n",
    "#### 5. **Confusion Matrix (Visualization Analysis)**:\n",
    "   - The confusion matrix shows the distribution of true positive, false positive, true negative, and false negative predictions for each class.\n",
    "     - For **Hit and Run**, the model performs relatively well in identifying this offense (304 true positives). However, it also misclassifies some **Hit and Run** instances as other offenses (e.g., **Assault Simple**, **Suspicious Activity**, etc.).\n",
    "     - **Larceny - All Other** is frequently misclassified as **Hit and Run**, **Suspicious Activity**, and others. This is evident from the large number of off-diagonal elements in its row.\n",
    "     - **Assist Citizen - Mental/TDO/ECO** and **Suspicious Activity** are frequently misclassified, as seen by the off-diagonal values in their rows.\n",
    "\n",
    "### Conclusion:\n",
    "The Random Forest model has low accuracy (28.22%), suggesting that it struggles to predict most offenses accurately. Some offenses like **Hit and Run** are better predicted than others, but overall, the model shows a high level of misclassification across all offenses. There may be a need for further tuning of the model, additional feature engineering, or trying different models for better performance.\n",
    "\n",
    "Let me know if you'd like to improve the model or make adjustments based on these results!\n",
    "\n"
   ]
  },
  {
   "cell_type": "markdown",
   "id": "5b243a03",
   "metadata": {
    "papermill": {
     "duration": 0.010806,
     "end_time": "2025-05-28T01:04:43.882565",
     "exception": false,
     "start_time": "2025-05-28T01:04:43.871759",
     "status": "completed"
    },
    "tags": []
   },
   "source": [
    "### Model Explanation\n",
    "\n",
    "Once we’ve chosen the best model, we will explain its predictions by examining feature importance for tree-based models and using statistical methods like logistic regression coefficients for linear models."
   ]
  },
  {
   "cell_type": "markdown",
   "id": "b154063d",
   "metadata": {
    "papermill": {
     "duration": 0.010707,
     "end_time": "2025-05-28T01:04:43.904115",
     "exception": false,
     "start_time": "2025-05-28T01:04:43.893408",
     "status": "completed"
    },
    "tags": []
   },
   "source": [
    "#### Feature Importance for Random Forest / Decision Tree\n",
    "\n",
    "##### For Tree-based Models (Random Forest, Decision Tree)\n",
    "\n",
    "For Random Forest or Decision Tree, we can look at feature importance to understand which variables contribute the most to the model's predictions. Here's how you can visualize and interpret the importance of each feature:"
   ]
  },
  {
   "cell_type": "code",
   "execution_count": 23,
   "id": "a98d17c0",
   "metadata": {
    "execution": {
     "iopub.execute_input": "2025-05-28T01:04:43.927029Z",
     "iopub.status.busy": "2025-05-28T01:04:43.926569Z",
     "iopub.status.idle": "2025-05-28T01:04:44.099381Z",
     "shell.execute_reply": "2025-05-28T01:04:44.098699Z"
    },
    "papermill": {
     "duration": 0.185583,
     "end_time": "2025-05-28T01:04:44.100497",
     "exception": false,
     "start_time": "2025-05-28T01:04:43.914914",
     "status": "completed"
    },
    "tags": []
   },
   "outputs": [
    {
     "data": {
      "image/png": "[encoded data removed]",
      "text/plain": [
       "<Figure size 1000x600 with 1 Axes>"
      ]
     },
     "metadata": {},
     "output_type": "display_data"
    }
   ],
   "source": [
    "# For RandomForest or DecisionTree models, we can check feature importance\n",
    "if isinstance(best_model, RandomForestClassifier) or isinstance(best_model, DecisionTreeClassifier):\n",
    "    feature_importance = best_model.feature_importances_\n",
    "    feature_names = X.columns\n",
    "    importance_df = pd.DataFrame({'Feature': feature_names, 'Importance': feature_importance})\n",
    "    importance_df = importance_df.sort_values(by='Importance', ascending=False)\n",
    "    \n",
    "    # Plotting the feature importances\n",
    "    plt.figure(figsize=(10, 6))\n",
    "    sns.barplot(x='Importance', y='Feature', data=importance_df)\n",
    "    plt.title(\"Feature Importance\")\n",
    "    plt.show()\n"
   ]
  },
  {
   "cell_type": "code",
   "execution_count": null,
   "id": "3fcedfc7",
   "metadata": {
    "papermill": {
     "duration": 0.01107,
     "end_time": "2025-05-28T01:04:44.123081",
     "exception": false,
     "start_time": "2025-05-28T01:04:44.112011",
     "status": "completed"
    },
    "tags": []
   },
   "outputs": [],
   "source": []
  },
  {
   "cell_type": "markdown",
   "id": "b9dee7a0",
   "metadata": {
    "papermill": {
     "duration": 0.010944,
     "end_time": "2025-05-28T01:04:44.144983",
     "exception": false,
     "start_time": "2025-05-28T01:04:44.134039",
     "status": "completed"
    },
    "tags": []
   },
   "source": [
    "### Evaluation\n",
    "\n",
    "After training the models and examining their performance, we evaluate the chosen model based on metrics like accuracy, precision, recall, and F1 score.\n",
    "\n"
   ]
  },
  {
   "cell_type": "code",
   "execution_count": 24,
   "id": "85430c1a",
   "metadata": {
    "execution": {
     "iopub.execute_input": "2025-05-28T01:04:44.168117Z",
     "iopub.status.busy": "2025-05-28T01:04:44.167836Z",
     "iopub.status.idle": "2025-05-28T01:04:44.260678Z",
     "shell.execute_reply": "2025-05-28T01:04:44.259939Z"
    },
    "papermill": {
     "duration": 0.105819,
     "end_time": "2025-05-28T01:04:44.261833",
     "exception": false,
     "start_time": "2025-05-28T01:04:44.156014",
     "status": "completed"
    },
    "tags": []
   },
   "outputs": [
    {
     "name": "stdout",
     "output_type": "stream",
     "text": [
      "Accuracy: 0.2844\n",
      "Classification Report:\n",
      "              precision    recall  f1-score   support\n",
      "\n",
      "           0       0.28      0.36      0.32       573\n",
      "           1       0.31      0.25      0.27       411\n",
      "           2       0.30      0.48      0.37       638\n",
      "           3       0.23      0.17      0.19       473\n",
      "           4       0.37      0.22      0.28       373\n",
      "           5       0.23      0.18      0.20       516\n",
      "           6       0.30      0.23      0.26       507\n",
      "\n",
      "    accuracy                           0.28      3491\n",
      "   macro avg       0.29      0.27      0.27      3491\n",
      "weighted avg       0.28      0.28      0.28      3491\n",
      "\n",
      "Confusion Matrix:\n",
      "[[209  70 150  39  13  57  35]\n",
      " [ 99 101  92  35  15  39  30]\n",
      " [106  24 308  63  21  67  49]\n",
      " [ 78  30 140  81  33  53  58]\n",
      " [ 55  22  88  44  83  28  53]\n",
      " [106  44 143  50  30  92  51]\n",
      " [ 96  38 119  48  31  56 119]]\n",
      "Precision: 0.2842\n",
      "Recall: 0.2844\n",
      "F1 Score: 0.2754\n"
     ]
    }
   ],
   "source": [
    "from sklearn.metrics import classification_report, confusion_matrix, accuracy_score, precision_score, recall_score, f1_score\n",
    "\n",
    "# Predict on the test set\n",
    "y_pred = best_model.predict(X_test)\n",
    "\n",
    "# Calculate Accuracy\n",
    "accuracy = accuracy_score(y_test, y_pred)\n",
    "print(f\"Accuracy: {accuracy:.4f}\")\n",
    "\n",
    "# Classification Report\n",
    "print(\"Classification Report:\")\n",
    "print(classification_report(y_test, y_pred))\n",
    "\n",
    "# Confusion Matrix\n",
    "conf_matrix = confusion_matrix(y_test, y_pred)\n",
    "print(\"Confusion Matrix:\")\n",
    "print(conf_matrix)\n",
    "\n",
    "# Precision, Recall, F1 Score for each class (Offense Type)\n",
    "precision = precision_score(y_test, y_pred, average='weighted')\n",
    "recall = recall_score(y_test, y_pred, average='weighted')\n",
    "f1 = f1_score(y_test, y_pred, average='weighted')\n",
    "\n",
    "print(f\"Precision: {precision:.4f}\")\n",
    "print(f\"Recall: {recall:.4f}\")\n",
    "print(f\"F1 Score: {f1:.4f}\")\n"
   ]
  },
  {
   "cell_type": "markdown",
   "id": "8089bf9e",
   "metadata": {
    "papermill": {
     "duration": 0.011072,
     "end_time": "2025-05-28T01:04:44.284520",
     "exception": false,
     "start_time": "2025-05-28T01:04:44.273448",
     "status": "completed"
    },
    "tags": []
   },
   "source": [
    "#### For Logistic Regression (Coefficient Interpretation)\n",
    "\n",
    "For Logistic Regression, the model coefficients can help us understand how each feature affects the likelihood of an offense happening. A positive coefficient indicates a feature increases the likelihood of the offense, and a negative coefficient indicates the opposite."
   ]
  },
  {
   "cell_type": "code",
   "execution_count": 25,
   "id": "58e9088d",
   "metadata": {
    "execution": {
     "iopub.execute_input": "2025-05-28T01:04:44.307754Z",
     "iopub.status.busy": "2025-05-28T01:04:44.307470Z",
     "iopub.status.idle": "2025-05-28T01:04:44.312454Z",
     "shell.execute_reply": "2025-05-28T01:04:44.311868Z"
    },
    "papermill": {
     "duration": 0.017782,
     "end_time": "2025-05-28T01:04:44.313481",
     "exception": false,
     "start_time": "2025-05-28T01:04:44.295699",
     "status": "completed"
    },
    "tags": []
   },
   "outputs": [],
   "source": [
    "if isinstance(best_model, LogisticRegression):\n",
    "    # Logistic regression coefficients\n",
    "    coef_df = pd.DataFrame({\n",
    "        'Feature': X.columns,\n",
    "        'Coefficient': best_model.coef_[0]\n",
    "    })\n",
    "    coef_df['AbsCoefficient'] = coef_df['Coefficient'].abs()\n",
    "    coef_df = coef_df.sort_values(by='AbsCoefficient', ascending=False)\n",
    "    \n",
    "    # Plotting the coefficients\n",
    "    plt.figure(figsize=(10, 6))\n",
    "    sns.barplot(x='AbsCoefficient', y='Feature', data=coef_df)\n",
    "    plt.title(\"Logistic Regression Coefficients Impact\")\n",
    "    plt.show()\n",
    "\n",
    "    # Print the top 5 most impactful features (by absolute coefficient value)\n",
    "    print(\"Top 5 most impactful features based on coefficients:\")\n",
    "    print(coef_df.head())\n"
   ]
  },
  {
   "cell_type": "markdown",
   "id": "0769a4c6",
   "metadata": {
    "papermill": {
     "duration": 0.011132,
     "end_time": "2025-05-28T01:04:44.335904",
     "exception": false,
     "start_time": "2025-05-28T01:04:44.324772",
     "status": "completed"
    },
    "tags": []
   },
   "source": [
    "Explanation of Output:\n",
    "\n",
    "Feature Importance (Random Forest/Decision Tree): The bar plot will show how important each feature is in the decision-making process. Features at the top of the list are the most influential in predicting the occurrence of offenses.\n",
    "\n",
    "Logistic Regression Coefficients: The bar plot will show the magnitude of the coefficients for each feature. Features with larger absolute values (either positive or negative) have a stronger impact on the model’s predictions. Positive coefficients increase the probability of an offense, while negative coefficients decrease it."
   ]
  },
  {
   "cell_type": "markdown",
   "id": "be5cf2ac",
   "metadata": {
    "papermill": {
     "duration": 0.011204,
     "end_time": "2025-05-28T01:04:44.358295",
     "exception": false,
     "start_time": "2025-05-28T01:04:44.347091",
     "status": "completed"
    },
    "tags": []
   },
   "source": []
  }
 ],
 "metadata": {
  "kernelspec": {
   "display_name": "Python 3",
   "language": "python",
   "name": "python3"
  },
  "language_info": {
   "codemirror_mode": {
    "name": "ipython",
    "version": 3
   },
   "file_extension": ".py",
   "mimetype": "text/x-python",
   "name": "python",
   "nbconvert_exporter": "python",
   "pygments_lexer": "ipython3",
   "version": "3.9.22"
  },
  "papermill": {
   "default_parameters": {},
   "duration": 80.79496,
   "end_time": "2025-05-28T01:04:44.886945",
   "environment_variables": {},
   "exception": null,
   "input_path": "notebook/Crime Data.ipynb",
   "output_path": "notebook/Crime Data_output.ipynb",
   "parameters": {},
   "start_time": "2025-05-28T01:03:24.091985",
   "version": "2.6.0"
  }
 },
 "nbformat": 4,
 "nbformat_minor": 5
}