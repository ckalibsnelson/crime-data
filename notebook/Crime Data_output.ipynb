{
 "cells": [
  {
   "cell_type": "markdown",
   "id": "f81e8b13",
   "metadata": {
    "papermill": {
     "duration": 0.004886,
     "end_time": "2025-06-08T01:09:56.540063",
     "exception": false,
     "start_time": "2025-06-08T01:09:56.535177",
     "status": "completed"
    },
    "tags": []
   },
   "source": [
    "# Charlottesville Open Data Porttal: Crime Data"
   ]
  },
  {
   "cell_type": "markdown",
   "id": "c8238a81",
   "metadata": {
    "papermill": {
     "duration": 0.003342,
     "end_time": "2025-06-08T01:09:56.547204",
     "exception": false,
     "start_time": "2025-06-08T01:09:56.543862",
     "status": "completed"
    },
    "tags": []
   },
   "source": [
    "## Import Relevant Librarires & Set WD"
   ]
  },
  {
   "cell_type": "code",
   "execution_count": 1,
   "id": "638033fc",
   "metadata": {
    "execution": {
     "iopub.execute_input": "2025-06-08T01:09:56.555543Z",
     "iopub.status.busy": "2025-06-08T01:09:56.555058Z",
     "iopub.status.idle": "2025-06-08T01:09:57.245335Z",
     "shell.execute_reply": "2025-06-08T01:09:57.244675Z"
    },
    "papermill": {
     "duration": 0.696161,
     "end_time": "2025-06-08T01:09:57.246781",
     "exception": false,
     "start_time": "2025-06-08T01:09:56.550620",
     "status": "completed"
    },
    "tags": []
   },
   "outputs": [],
   "source": [
    "import requests\n",
    "import pandas as pd\n",
    "import numpy as np\n",
    "import pickle\n",
    "import googlemaps\n",
    "import plotly.express as px\n",
    "from geopy.geocoders import Nominatim\n",
    "import time\n",
    "from dotenv import load_dotenv\n",
    "import os\n",
    "\n",
    "env_path = os.path.join(\"..\", \".env\")\n",
    "#print(\"Looking for .env file at:\", os.path.abspath(env_path))\n",
    "load_dotenv(dotenv_path=env_path)\n",
    "\n",
    "# Retrieve the variables\n",
    "GOOGLE_API_KEY = os.getenv(\"GOOGLE_API_KEY\")\n",
    "WORKING_DIR = os.getenv(\"WORKING_DIR\")\n",
    "\n",
    "if GOOGLE_API_KEY is None or WORKING_DIR is None:\n",
    "    raise RuntimeError(\"No configuration found. Please ensure that your .env file exists with the required variables, or create a local config.py file.\")\n",
    "\n",
    "#print(\"Google API Key:\", GOOGLE_API_KEY)\n",
    "#print(\"Working Directory:\", WORKING_DIR)"
   ]
  },
  {
   "cell_type": "markdown",
   "id": "41558f13",
   "metadata": {
    "papermill": {
     "duration": 0.003404,
     "end_time": "2025-06-08T01:09:57.253996",
     "exception": false,
     "start_time": "2025-06-08T01:09:57.250592",
     "status": "completed"
    },
    "tags": []
   },
   "source": [
    "## Import Data\n",
    "\n",
    "URL: https://opendata.charlottesville.org/datasets/charlottesville::crime-data/about"
   ]
  },
  {
   "cell_type": "code",
   "execution_count": 2,
   "id": "ee9ac634",
   "metadata": {
    "execution": {
     "iopub.execute_input": "2025-06-08T01:09:57.262073Z",
     "iopub.status.busy": "2025-06-08T01:09:57.261520Z",
     "iopub.status.idle": "2025-06-08T01:11:03.977389Z",
     "shell.execute_reply": "2025-06-08T01:11:03.976605Z"
    },
    "papermill": {
     "duration": 66.724275,
     "end_time": "2025-06-08T01:11:03.981745",
     "exception": false,
     "start_time": "2025-06-08T01:09:57.257470",
     "status": "completed"
    },
    "tags": []
   },
   "outputs": [
    {
     "name": "stdout",
     "output_type": "stream",
     "text": [
      "Total records imported: 25458\n"
     ]
    }
   ],
   "source": [
    "# Define the endpoint and initial parameters.\n",
    "url = \"https://gisweb.charlottesville.org/arcgis/rest/services/OpenData_2/MapServer/6/query\"\n",
    "params = {\n",
    "    \"where\": \"1=1\",\n",
    "    \"outFields\": \"*\",\n",
    "    \"outSR\": 4326,\n",
    "    \"f\": \"json\",\n",
    "    \"resultOffset\": 0,       # Starting index for results\n",
    "    \"resultRecordCount\": 10000  # Maximum records per batch (if allowed by the API)\n",
    "}\n",
    "\n",
    "records = []\n",
    "\n",
    "while True:\n",
    "    response = requests.get(url, params=params)\n",
    "    response.raise_for_status()\n",
    "    data = response.json()\n",
    "    \n",
    "    # Get the current batch of features.\n",
    "    features = data.get(\"features\", [])\n",
    "    if not features:\n",
    "        break\n",
    "\n",
    "    # Extract the attributes from the features.\n",
    "    batch_records = [feature.get(\"attributes\", {}) for feature in features]\n",
    "    records.extend(batch_records)\n",
    "    \n",
    "    # If the batch size is less than the requested count, we reached the end.\n",
    "    if len(features) < params[\"resultRecordCount\"]:\n",
    "        break\n",
    "\n",
    "    # Update the resultOffset for the next batch.\n",
    "    params[\"resultOffset\"] += params[\"resultRecordCount\"]\n",
    "\n",
    "# Create a DataFrame from the combined records.\n",
    "df = pd.DataFrame(records)\n",
    "print(\"Total records imported:\", len(df))\n"
   ]
  },
  {
   "cell_type": "code",
   "execution_count": 3,
   "id": "fca080c6",
   "metadata": {
    "execution": {
     "iopub.execute_input": "2025-06-08T01:11:03.989787Z",
     "iopub.status.busy": "2025-06-08T01:11:03.989535Z",
     "iopub.status.idle": "2025-06-08T01:11:04.002259Z",
     "shell.execute_reply": "2025-06-08T01:11:04.001718Z"
    },
    "papermill": {
     "duration": 0.017867,
     "end_time": "2025-06-08T01:11:04.003234",
     "exception": false,
     "start_time": "2025-06-08T01:11:03.985367",
     "status": "completed"
    },
    "tags": []
   },
   "outputs": [
    {
     "data": {
      "text/html": [
       "<div>\n",
       "<style scoped>\n",
       "    .dataframe tbody tr th:only-of-type {\n",
       "        vertical-align: middle;\n",
       "    }\n",
       "\n",
       "    .dataframe tbody tr th {\n",
       "        vertical-align: top;\n",
       "    }\n",
       "\n",
       "    .dataframe thead th {\n",
       "        text-align: right;\n",
       "    }\n",
       "</style>\n",
       "<table border=\"1\" class=\"dataframe\">\n",
       "  <thead>\n",
       "    <tr style=\"text-align: right;\">\n",
       "      <th></th>\n",
       "      <th>RecordID</th>\n",
       "      <th>Offense</th>\n",
       "      <th>IncidentID</th>\n",
       "      <th>BlockNumber</th>\n",
       "      <th>StreetName</th>\n",
       "      <th>Agency</th>\n",
       "      <th>DateReported</th>\n",
       "      <th>HourReported</th>\n",
       "      <th>ReportingOfficer</th>\n",
       "    </tr>\n",
       "  </thead>\n",
       "  <tbody>\n",
       "    <tr>\n",
       "      <th>0</th>\n",
       "      <td>1</td>\n",
       "      <td>Family Offense - Non-Violent</td>\n",
       "      <td>202500019263</td>\n",
       "      <td>500</td>\n",
       "      <td>ROCKLAND AVE</td>\n",
       "      <td>CPD</td>\n",
       "      <td>1749175750000</td>\n",
       "      <td>2209</td>\n",
       "      <td>Venereo, Arturo</td>\n",
       "    </tr>\n",
       "    <tr>\n",
       "      <th>1</th>\n",
       "      <td>2</td>\n",
       "      <td>Drug/Narcotics Violation</td>\n",
       "      <td>202500019257</td>\n",
       "      <td>1000</td>\n",
       "      <td>PRESTON AVE</td>\n",
       "      <td>CPD</td>\n",
       "      <td>1749171890000</td>\n",
       "      <td>2104</td>\n",
       "      <td>Thomas, Eric</td>\n",
       "    </tr>\n",
       "    <tr>\n",
       "      <th>2</th>\n",
       "      <td>3</td>\n",
       "      <td>Vandalism</td>\n",
       "      <td>202500019247</td>\n",
       "      <td>1100</td>\n",
       "      <td>W MAIN ST</td>\n",
       "      <td>CPD</td>\n",
       "      <td>1749167611000</td>\n",
       "      <td>1953</td>\n",
       "      <td>Whitfield, Dylan</td>\n",
       "    </tr>\n",
       "    <tr>\n",
       "      <th>3</th>\n",
       "      <td>4</td>\n",
       "      <td>Larceny - All Other</td>\n",
       "      <td>202500019238</td>\n",
       "      <td>300</td>\n",
       "      <td>CARLTON RD</td>\n",
       "      <td>CPD</td>\n",
       "      <td>1749161869000</td>\n",
       "      <td>1817</td>\n",
       "      <td>Love-Baker, Sydney</td>\n",
       "    </tr>\n",
       "    <tr>\n",
       "      <th>4</th>\n",
       "      <td>5</td>\n",
       "      <td>Larceny - Shoplifitng</td>\n",
       "      <td>202500019220</td>\n",
       "      <td>600</td>\n",
       "      <td>PRESTON AVE</td>\n",
       "      <td>CPD</td>\n",
       "      <td>1749151978000</td>\n",
       "      <td>1532</td>\n",
       "      <td>Brannon, Devin</td>\n",
       "    </tr>\n",
       "  </tbody>\n",
       "</table>\n",
       "</div>"
      ],
      "text/plain": [
       "   RecordID                       Offense    IncidentID BlockNumber  \\\n",
       "0         1  Family Offense - Non-Violent  202500019263         500   \n",
       "1         2      Drug/Narcotics Violation  202500019257        1000   \n",
       "2         3                     Vandalism  202500019247        1100   \n",
       "3         4           Larceny - All Other  202500019238         300   \n",
       "4         5         Larceny - Shoplifitng  202500019220         600   \n",
       "\n",
       "     StreetName Agency   DateReported HourReported    ReportingOfficer  \n",
       "0  ROCKLAND AVE    CPD  1749175750000         2209     Venereo, Arturo  \n",
       "1   PRESTON AVE    CPD  1749171890000         2104        Thomas, Eric  \n",
       "2     W MAIN ST    CPD  1749167611000         1953    Whitfield, Dylan  \n",
       "3    CARLTON RD    CPD  1749161869000         1817  Love-Baker, Sydney  \n",
       "4   PRESTON AVE    CPD  1749151978000         1532      Brannon, Devin  "
      ]
     },
     "execution_count": 3,
     "metadata": {},
     "output_type": "execute_result"
    }
   ],
   "source": [
    "df.head()"
   ]
  },
  {
   "cell_type": "code",
   "execution_count": 4,
   "id": "768aa202",
   "metadata": {
    "execution": {
     "iopub.execute_input": "2025-06-08T01:11:04.011259Z",
     "iopub.status.busy": "2025-06-08T01:11:04.011069Z",
     "iopub.status.idle": "2025-06-08T01:11:04.015186Z",
     "shell.execute_reply": "2025-06-08T01:11:04.014689Z"
    },
    "papermill": {
     "duration": 0.009148,
     "end_time": "2025-06-08T01:11:04.016141",
     "exception": false,
     "start_time": "2025-06-08T01:11:04.006993",
     "status": "completed"
    },
    "tags": []
   },
   "outputs": [
    {
     "data": {
      "text/plain": [
       "Index(['RecordID', 'Offense', 'IncidentID', 'BlockNumber', 'StreetName',\n",
       "       'Agency', 'DateReported', 'HourReported', 'ReportingOfficer'],\n",
       "      dtype='object')"
      ]
     },
     "execution_count": 4,
     "metadata": {},
     "output_type": "execute_result"
    }
   ],
   "source": [
    "df.columns"
   ]
  },
  {
   "cell_type": "code",
   "execution_count": 5,
   "id": "48d243ef",
   "metadata": {
    "execution": {
     "iopub.execute_input": "2025-06-08T01:11:04.024815Z",
     "iopub.status.busy": "2025-06-08T01:11:04.024630Z",
     "iopub.status.idle": "2025-06-08T01:11:04.051377Z",
     "shell.execute_reply": "2025-06-08T01:11:04.050787Z"
    },
    "papermill": {
     "duration": 0.03261,
     "end_time": "2025-06-08T01:11:04.052463",
     "exception": false,
     "start_time": "2025-06-08T01:11:04.019853",
     "status": "completed"
    },
    "tags": []
   },
   "outputs": [
    {
     "name": "stdout",
     "output_type": "stream",
     "text": [
      "<class 'pandas.core.frame.DataFrame'>\n",
      "RangeIndex: 25458 entries, 0 to 25457\n",
      "Data columns (total 9 columns):\n",
      " #   Column            Non-Null Count  Dtype \n",
      "---  ------            --------------  ----- \n",
      " 0   RecordID          25458 non-null  int64 \n",
      " 1   Offense           25458 non-null  object\n",
      " 2   IncidentID        25458 non-null  object\n",
      " 3   BlockNumber       25458 non-null  object\n",
      " 4   StreetName        25458 non-null  object\n",
      " 5   Agency            25458 non-null  object\n",
      " 6   DateReported      25458 non-null  int64 \n",
      " 7   HourReported      25458 non-null  object\n",
      " 8   ReportingOfficer  25441 non-null  object\n",
      "dtypes: int64(2), object(7)\n",
      "memory usage: 1.7+ MB\n"
     ]
    }
   ],
   "source": [
    "df.info()"
   ]
  },
  {
   "cell_type": "markdown",
   "id": "f6be06ab",
   "metadata": {
    "papermill": {
     "duration": 0.003673,
     "end_time": "2025-06-08T01:11:04.060197",
     "exception": false,
     "start_time": "2025-06-08T01:11:04.056524",
     "status": "completed"
    },
    "tags": []
   },
   "source": [
    "### Missing Values"
   ]
  },
  {
   "cell_type": "code",
   "execution_count": 6,
   "id": "38532b17",
   "metadata": {
    "execution": {
     "iopub.execute_input": "2025-06-08T01:11:04.094756Z",
     "iopub.status.busy": "2025-06-08T01:11:04.094244Z",
     "iopub.status.idle": "2025-06-08T01:11:04.120052Z",
     "shell.execute_reply": "2025-06-08T01:11:04.119482Z"
    },
    "papermill": {
     "duration": 0.031618,
     "end_time": "2025-06-08T01:11:04.121094",
     "exception": false,
     "start_time": "2025-06-08T01:11:04.089476",
     "status": "completed"
    },
    "tags": []
   },
   "outputs": [
    {
     "name": "stdout",
     "output_type": "stream",
     "text": [
      "                  MissingCount  MissingPercentage\n",
      "RecordID                     0               0.00\n",
      "Offense                      0               0.00\n",
      "IncidentID                   0               0.00\n",
      "BlockNumber                  0               0.00\n",
      "StreetName                   0               0.00\n",
      "Agency                       0               0.00\n",
      "DateReported                 0               0.00\n",
      "HourReported                 0               0.00\n",
      "ReportingOfficer            17               0.07\n"
     ]
    }
   ],
   "source": [
    "def missing_percentage(df):\n",
    "    \"\"\"\n",
    "    Returns a DataFrame with the count and percentage of missing values for each column.\n",
    "    \n",
    "    Parameters:\n",
    "        df (pd.DataFrame): The input DataFrame.\n",
    "    \n",
    "    Returns:\n",
    "        pd.DataFrame: A DataFrame with columns 'MissingCount' and 'MissingPercentage'.\n",
    "    \"\"\"\n",
    "    total_rows = len(df)\n",
    "    missing_count = df.isnull().sum()\n",
    "    missing_percent = (missing_count / total_rows) * 100\n",
    "    \n",
    "    result = pd.DataFrame({\n",
    "        'MissingCount': missing_count,\n",
    "        'MissingPercentage': missing_percent.round(2)\n",
    "    })\n",
    "    \n",
    "    return result\n",
    "\n",
    "# Example usage:\n",
    "missing_info = missing_percentage(df)\n",
    "print(missing_info)\n"
   ]
  },
  {
   "cell_type": "markdown",
   "id": "a29cbe6b",
   "metadata": {
    "papermill": {
     "duration": 0.003883,
     "end_time": "2025-06-08T01:11:04.129033",
     "exception": false,
     "start_time": "2025-06-08T01:11:04.125150",
     "status": "completed"
    },
    "tags": []
   },
   "source": [
    "## Data Preparation"
   ]
  },
  {
   "cell_type": "markdown",
   "id": "db948cc7",
   "metadata": {
    "papermill": {
     "duration": 0.003769,
     "end_time": "2025-06-08T01:11:04.144611",
     "exception": false,
     "start_time": "2025-06-08T01:11:04.140842",
     "status": "completed"
    },
    "tags": []
   },
   "source": [
    "### Data Conversion"
   ]
  },
  {
   "cell_type": "code",
   "execution_count": 7,
   "id": "a9f50e9a",
   "metadata": {
    "execution": {
     "iopub.execute_input": "2025-06-08T01:11:04.153633Z",
     "iopub.status.busy": "2025-06-08T01:11:04.153054Z",
     "iopub.status.idle": "2025-06-08T01:11:04.521265Z",
     "shell.execute_reply": "2025-06-08T01:11:04.520546Z"
    },
    "papermill": {
     "duration": 0.373778,
     "end_time": "2025-06-08T01:11:04.522294",
     "exception": false,
     "start_time": "2025-06-08T01:11:04.148516",
     "status": "completed"
    },
    "tags": []
   },
   "outputs": [
    {
     "data": {
      "text/html": [
       "<div>\n",
       "<style scoped>\n",
       "    .dataframe tbody tr th:only-of-type {\n",
       "        vertical-align: middle;\n",
       "    }\n",
       "\n",
       "    .dataframe tbody tr th {\n",
       "        vertical-align: top;\n",
       "    }\n",
       "\n",
       "    .dataframe thead th {\n",
       "        text-align: right;\n",
       "    }\n",
       "</style>\n",
       "<table border=\"1\" class=\"dataframe\">\n",
       "  <thead>\n",
       "    <tr style=\"text-align: right;\">\n",
       "      <th></th>\n",
       "      <th>RecordID</th>\n",
       "      <th>Offense</th>\n",
       "      <th>IncidentID</th>\n",
       "      <th>BlockNumber</th>\n",
       "      <th>StreetName</th>\n",
       "      <th>Agency</th>\n",
       "      <th>HourReported</th>\n",
       "      <th>ReportingOfficer</th>\n",
       "      <th>Date</th>\n",
       "      <th>DateString</th>\n",
       "      <th>DayOfWeek</th>\n",
       "      <th>Weekend</th>\n",
       "      <th>Season</th>\n",
       "      <th>HourAMPM</th>\n",
       "      <th>TimeOfDay</th>\n",
       "    </tr>\n",
       "  </thead>\n",
       "  <tbody>\n",
       "    <tr>\n",
       "      <th>0</th>\n",
       "      <td>1</td>\n",
       "      <td>Family Offense - Non-Violent</td>\n",
       "      <td>202500019263</td>\n",
       "      <td>500</td>\n",
       "      <td>ROCKLAND AVE</td>\n",
       "      <td>CPD</td>\n",
       "      <td>2209</td>\n",
       "      <td>Venereo, Arturo</td>\n",
       "      <td>2025-06-05 22:09:10</td>\n",
       "      <td>2025-06-05 10:09:10 PM</td>\n",
       "      <td>Thursday</td>\n",
       "      <td>False</td>\n",
       "      <td>Spring</td>\n",
       "      <td>10:09 PM</td>\n",
       "      <td>Night</td>\n",
       "    </tr>\n",
       "    <tr>\n",
       "      <th>1</th>\n",
       "      <td>2</td>\n",
       "      <td>Drug/Narcotics Violation</td>\n",
       "      <td>202500019257</td>\n",
       "      <td>1000</td>\n",
       "      <td>PRESTON AVE</td>\n",
       "      <td>CPD</td>\n",
       "      <td>2104</td>\n",
       "      <td>Thomas, Eric</td>\n",
       "      <td>2025-06-05 21:04:50</td>\n",
       "      <td>2025-06-05 09:04:50 PM</td>\n",
       "      <td>Thursday</td>\n",
       "      <td>False</td>\n",
       "      <td>Spring</td>\n",
       "      <td>09:04 PM</td>\n",
       "      <td>Night</td>\n",
       "    </tr>\n",
       "    <tr>\n",
       "      <th>2</th>\n",
       "      <td>3</td>\n",
       "      <td>Vandalism</td>\n",
       "      <td>202500019247</td>\n",
       "      <td>1100</td>\n",
       "      <td>W MAIN ST</td>\n",
       "      <td>CPD</td>\n",
       "      <td>1953</td>\n",
       "      <td>Whitfield, Dylan</td>\n",
       "      <td>2025-06-05 19:53:31</td>\n",
       "      <td>2025-06-05 07:53:31 PM</td>\n",
       "      <td>Thursday</td>\n",
       "      <td>False</td>\n",
       "      <td>Spring</td>\n",
       "      <td>07:53 PM</td>\n",
       "      <td>Evening</td>\n",
       "    </tr>\n",
       "    <tr>\n",
       "      <th>3</th>\n",
       "      <td>4</td>\n",
       "      <td>Larceny - All Other</td>\n",
       "      <td>202500019238</td>\n",
       "      <td>300</td>\n",
       "      <td>CARLTON RD</td>\n",
       "      <td>CPD</td>\n",
       "      <td>1817</td>\n",
       "      <td>Love-Baker, Sydney</td>\n",
       "      <td>2025-06-05 18:17:49</td>\n",
       "      <td>2025-06-05 06:17:49 PM</td>\n",
       "      <td>Thursday</td>\n",
       "      <td>False</td>\n",
       "      <td>Spring</td>\n",
       "      <td>06:17 PM</td>\n",
       "      <td>Evening</td>\n",
       "    </tr>\n",
       "    <tr>\n",
       "      <th>4</th>\n",
       "      <td>5</td>\n",
       "      <td>Larceny - Shoplifitng</td>\n",
       "      <td>202500019220</td>\n",
       "      <td>600</td>\n",
       "      <td>PRESTON AVE</td>\n",
       "      <td>CPD</td>\n",
       "      <td>1532</td>\n",
       "      <td>Brannon, Devin</td>\n",
       "      <td>2025-06-05 15:32:58</td>\n",
       "      <td>2025-06-05 03:32:58 PM</td>\n",
       "      <td>Thursday</td>\n",
       "      <td>False</td>\n",
       "      <td>Spring</td>\n",
       "      <td>03:32 PM</td>\n",
       "      <td>Afternoon</td>\n",
       "    </tr>\n",
       "  </tbody>\n",
       "</table>\n",
       "</div>"
      ],
      "text/plain": [
       "   RecordID                       Offense    IncidentID BlockNumber  \\\n",
       "0         1  Family Offense - Non-Violent  202500019263         500   \n",
       "1         2      Drug/Narcotics Violation  202500019257        1000   \n",
       "2         3                     Vandalism  202500019247        1100   \n",
       "3         4           Larceny - All Other  202500019238         300   \n",
       "4         5         Larceny - Shoplifitng  202500019220         600   \n",
       "\n",
       "     StreetName Agency HourReported    ReportingOfficer                Date  \\\n",
       "0  ROCKLAND AVE    CPD         2209     Venereo, Arturo 2025-06-05 22:09:10   \n",
       "1   PRESTON AVE    CPD         2104        Thomas, Eric 2025-06-05 21:04:50   \n",
       "2     W MAIN ST    CPD         1953    Whitfield, Dylan 2025-06-05 19:53:31   \n",
       "3    CARLTON RD    CPD         1817  Love-Baker, Sydney 2025-06-05 18:17:49   \n",
       "4   PRESTON AVE    CPD         1532      Brannon, Devin 2025-06-05 15:32:58   \n",
       "\n",
       "               DateString DayOfWeek  Weekend  Season  HourAMPM  TimeOfDay  \n",
       "0  2025-06-05 10:09:10 PM  Thursday    False  Spring  10:09 PM      Night  \n",
       "1  2025-06-05 09:04:50 PM  Thursday    False  Spring  09:04 PM      Night  \n",
       "2  2025-06-05 07:53:31 PM  Thursday    False  Spring  07:53 PM    Evening  \n",
       "3  2025-06-05 06:17:49 PM  Thursday    False  Spring  06:17 PM    Evening  \n",
       "4  2025-06-05 03:32:58 PM  Thursday    False  Spring  03:32 PM  Afternoon  "
      ]
     },
     "execution_count": 7,
     "metadata": {},
     "output_type": "execute_result"
    }
   ],
   "source": [
    "def convert_and_categorize_datereported(df, col='DateReported'):\n",
    "    \"\"\"\n",
    "    Converts an epoch (in milliseconds) date column into a timezone-aware datetime,\n",
    "    converts it to Eastern Time, and then creates columns for day-of-week, weekend flag,\n",
    "    season, 12-hour formatted time, and time-of-day. Keeps both a real datetime column\n",
    "    (Date) and a string representation (DateString).\n",
    "    \"\"\"\n",
    "    import pandas as pd\n",
    "\n",
    "    # Convert the epoch timestamp to a pandas datetime object as UTC, then convert to US/Eastern.\n",
    "    df[\"DateReported_dt\"] = (\n",
    "        pd.to_datetime(df[col], unit=\"ms\", errors=\"coerce\", utc=True)\n",
    "        .dt.tz_convert(\"US/Eastern\")\n",
    "    )\n",
    "    \n",
    "    # Create a true datetime column (remove timezone if you prefer naive datetime)\n",
    "    df[\"Date\"] = df[\"DateReported_dt\"].dt.tz_localize(None)\n",
    "\n",
    "    # Optionally, create a separate string-formatted column\n",
    "    df[\"DateString\"] = df[\"DateReported_dt\"].dt.strftime(\"%Y-%m-%d %I:%M:%S %p\")\n",
    "    \n",
    "    # DayOfWeek\n",
    "    df[\"DayOfWeek\"] = df[\"DateReported_dt\"].dt.day_name()\n",
    "    \n",
    "    # Weekend\n",
    "    df[\"Weekend\"] = df[\"DayOfWeek\"].isin([\"Saturday\", \"Sunday\"])\n",
    "    \n",
    "    # Helper function to determine the season\n",
    "    def get_season(dt):\n",
    "        month = dt.month\n",
    "        day = dt.day\n",
    "        # Approximate Northern Hemisphere season boundaries:\n",
    "        if (month == 12 and day >= 21) or (month < 3) or (month == 3 and day < 20):\n",
    "            return \"Winter\"\n",
    "        elif (month == 3 and day >= 20) or (month < 6) or (month == 6 and day < 21):\n",
    "            return \"Spring\"\n",
    "        elif (month == 6 and day >= 21) or (month < 9) or (month == 9 and day < 22):\n",
    "            return \"Summer\"\n",
    "        else:\n",
    "            return \"Autumn\"\n",
    "    \n",
    "    df[\"Season\"] = df[\"DateReported_dt\"].apply(get_season)\n",
    "    \n",
    "    # 12-hour formatted time (HourAMPM)\n",
    "    df[\"HourAMPM\"] = df[\"DateReported_dt\"].dt.strftime(\"%I:%M %p\")\n",
    "    \n",
    "    # Extract hour (0-23) for time-of-day\n",
    "    df[\"HourValue\"] = df[\"DateReported_dt\"].dt.hour\n",
    "    \n",
    "    def time_of_day(hour):\n",
    "        if pd.isnull(hour):\n",
    "            return None\n",
    "        if 5 <= hour < 12:\n",
    "            return \"Morning\"\n",
    "        elif 12 <= hour < 17:\n",
    "            return \"Afternoon\"\n",
    "        elif 17 <= hour < 21:\n",
    "            return \"Evening\"\n",
    "        else:\n",
    "            return \"Night\"\n",
    "    \n",
    "    df[\"TimeOfDay\"] = df[\"HourValue\"].apply(time_of_day)\n",
    "    \n",
    "    # Drop columns you no longer need\n",
    "    df.drop(columns=[col, \"DateReported_dt\", \"HourValue\"], inplace=True)\n",
    "    \n",
    "    return df\n",
    "\n",
    "# Example usage:\n",
    "df = convert_and_categorize_datereported(df)\n",
    "df.head()\n"
   ]
  },
  {
   "cell_type": "code",
   "execution_count": 8,
   "id": "173e666a",
   "metadata": {
    "execution": {
     "iopub.execute_input": "2025-06-08T01:11:04.532086Z",
     "iopub.status.busy": "2025-06-08T01:11:04.531670Z",
     "iopub.status.idle": "2025-06-08T01:11:04.562749Z",
     "shell.execute_reply": "2025-06-08T01:11:04.562068Z"
    },
    "papermill": {
     "duration": 0.037175,
     "end_time": "2025-06-08T01:11:04.563897",
     "exception": false,
     "start_time": "2025-06-08T01:11:04.526722",
     "status": "completed"
    },
    "tags": []
   },
   "outputs": [
    {
     "name": "stdout",
     "output_type": "stream",
     "text": [
      "<class 'pandas.core.frame.DataFrame'>\n",
      "RangeIndex: 25458 entries, 0 to 25457\n",
      "Data columns (total 15 columns):\n",
      " #   Column            Non-Null Count  Dtype         \n",
      "---  ------            --------------  -----         \n",
      " 0   RecordID          25458 non-null  int64         \n",
      " 1   Offense           25458 non-null  object        \n",
      " 2   IncidentID        25458 non-null  object        \n",
      " 3   BlockNumber       25458 non-null  object        \n",
      " 4   StreetName        25458 non-null  object        \n",
      " 5   Agency            25458 non-null  object        \n",
      " 6   HourReported      25458 non-null  object        \n",
      " 7   ReportingOfficer  25441 non-null  object        \n",
      " 8   Date              25458 non-null  datetime64[ns]\n",
      " 9   DateString        25458 non-null  object        \n",
      " 10  DayOfWeek         25458 non-null  object        \n",
      " 11  Weekend           25458 non-null  bool          \n",
      " 12  Season            25458 non-null  object        \n",
      " 13  HourAMPM          25458 non-null  object        \n",
      " 14  TimeOfDay         25458 non-null  object        \n",
      "dtypes: bool(1), datetime64[ns](1), int64(1), object(12)\n",
      "memory usage: 2.7+ MB\n"
     ]
    }
   ],
   "source": [
    "df.info()"
   ]
  },
  {
   "cell_type": "markdown",
   "id": "257f911c",
   "metadata": {
    "papermill": {
     "duration": 0.004134,
     "end_time": "2025-06-08T01:11:04.572423",
     "exception": false,
     "start_time": "2025-06-08T01:11:04.568289",
     "status": "completed"
    },
    "tags": []
   },
   "source": [
    "### Coordinates"
   ]
  },
  {
   "cell_type": "code",
   "execution_count": 9,
   "id": "7e89fcc0",
   "metadata": {
    "execution": {
     "iopub.execute_input": "2025-06-08T01:11:04.582130Z",
     "iopub.status.busy": "2025-06-08T01:11:04.581664Z",
     "iopub.status.idle": "2025-06-08T01:11:04.626761Z",
     "shell.execute_reply": "2025-06-08T01:11:04.626153Z"
    },
    "papermill": {
     "duration": 0.051029,
     "end_time": "2025-06-08T01:11:04.627772",
     "exception": false,
     "start_time": "2025-06-08T01:11:04.576743",
     "status": "completed"
    },
    "tags": []
   },
   "outputs": [
    {
     "name": "stdout",
     "output_type": "stream",
     "text": [
      "Loaded geocode cache.\n",
      "Geocode cache updated and saved.\n"
     ]
    },
    {
     "data": {
      "text/html": [
       "<div>\n",
       "<style scoped>\n",
       "    .dataframe tbody tr th:only-of-type {\n",
       "        vertical-align: middle;\n",
       "    }\n",
       "\n",
       "    .dataframe tbody tr th {\n",
       "        vertical-align: top;\n",
       "    }\n",
       "\n",
       "    .dataframe thead th {\n",
       "        text-align: right;\n",
       "    }\n",
       "</style>\n",
       "<table border=\"1\" class=\"dataframe\">\n",
       "  <thead>\n",
       "    <tr style=\"text-align: right;\">\n",
       "      <th></th>\n",
       "      <th>RecordID</th>\n",
       "      <th>Offense</th>\n",
       "      <th>IncidentID</th>\n",
       "      <th>BlockNumber</th>\n",
       "      <th>StreetName</th>\n",
       "      <th>Agency</th>\n",
       "      <th>HourReported</th>\n",
       "      <th>ReportingOfficer</th>\n",
       "      <th>Date</th>\n",
       "      <th>DateString</th>\n",
       "      <th>DayOfWeek</th>\n",
       "      <th>Weekend</th>\n",
       "      <th>Season</th>\n",
       "      <th>HourAMPM</th>\n",
       "      <th>TimeOfDay</th>\n",
       "      <th>FullStreet</th>\n",
       "      <th>lat</th>\n",
       "      <th>lon</th>\n",
       "    </tr>\n",
       "  </thead>\n",
       "  <tbody>\n",
       "    <tr>\n",
       "      <th>0</th>\n",
       "      <td>1</td>\n",
       "      <td>Family Offense - Non-Violent</td>\n",
       "      <td>202500019263</td>\n",
       "      <td>500</td>\n",
       "      <td>ROCKLAND AVE</td>\n",
       "      <td>CPD</td>\n",
       "      <td>2209</td>\n",
       "      <td>Venereo, Arturo</td>\n",
       "      <td>2025-06-05 22:09:10</td>\n",
       "      <td>2025-06-05 10:09:10 PM</td>\n",
       "      <td>Thursday</td>\n",
       "      <td>False</td>\n",
       "      <td>Spring</td>\n",
       "      <td>10:09 PM</td>\n",
       "      <td>Night</td>\n",
       "      <td>500 ROCKLAND AVE</td>\n",
       "      <td>38.019715</td>\n",
       "      <td>-78.486133</td>\n",
       "    </tr>\n",
       "    <tr>\n",
       "      <th>1</th>\n",
       "      <td>2</td>\n",
       "      <td>Drug/Narcotics Violation</td>\n",
       "      <td>202500019257</td>\n",
       "      <td>1000</td>\n",
       "      <td>PRESTON AVE</td>\n",
       "      <td>CPD</td>\n",
       "      <td>2104</td>\n",
       "      <td>Thomas, Eric</td>\n",
       "      <td>2025-06-05 21:04:50</td>\n",
       "      <td>2025-06-05 09:04:50 PM</td>\n",
       "      <td>Thursday</td>\n",
       "      <td>False</td>\n",
       "      <td>Spring</td>\n",
       "      <td>09:04 PM</td>\n",
       "      <td>Night</td>\n",
       "      <td>1000 PRESTON AVE</td>\n",
       "      <td>38.039155</td>\n",
       "      <td>-78.491633</td>\n",
       "    </tr>\n",
       "    <tr>\n",
       "      <th>2</th>\n",
       "      <td>3</td>\n",
       "      <td>Vandalism</td>\n",
       "      <td>202500019247</td>\n",
       "      <td>1100</td>\n",
       "      <td>W MAIN ST</td>\n",
       "      <td>CPD</td>\n",
       "      <td>1953</td>\n",
       "      <td>Whitfield, Dylan</td>\n",
       "      <td>2025-06-05 19:53:31</td>\n",
       "      <td>2025-06-05 07:53:31 PM</td>\n",
       "      <td>Thursday</td>\n",
       "      <td>False</td>\n",
       "      <td>Spring</td>\n",
       "      <td>07:53 PM</td>\n",
       "      <td>Evening</td>\n",
       "      <td>1100 W MAIN ST</td>\n",
       "      <td>38.032623</td>\n",
       "      <td>-78.496334</td>\n",
       "    </tr>\n",
       "    <tr>\n",
       "      <th>3</th>\n",
       "      <td>4</td>\n",
       "      <td>Larceny - All Other</td>\n",
       "      <td>202500019238</td>\n",
       "      <td>300</td>\n",
       "      <td>CARLTON RD</td>\n",
       "      <td>CPD</td>\n",
       "      <td>1817</td>\n",
       "      <td>Love-Baker, Sydney</td>\n",
       "      <td>2025-06-05 18:17:49</td>\n",
       "      <td>2025-06-05 06:17:49 PM</td>\n",
       "      <td>Thursday</td>\n",
       "      <td>False</td>\n",
       "      <td>Spring</td>\n",
       "      <td>06:17 PM</td>\n",
       "      <td>Evening</td>\n",
       "      <td>300 CARLTON RD</td>\n",
       "      <td>38.022411</td>\n",
       "      <td>-78.469889</td>\n",
       "    </tr>\n",
       "    <tr>\n",
       "      <th>4</th>\n",
       "      <td>5</td>\n",
       "      <td>Larceny - Shoplifitng</td>\n",
       "      <td>202500019220</td>\n",
       "      <td>600</td>\n",
       "      <td>PRESTON AVE</td>\n",
       "      <td>CPD</td>\n",
       "      <td>1532</td>\n",
       "      <td>Brannon, Devin</td>\n",
       "      <td>2025-06-05 15:32:58</td>\n",
       "      <td>2025-06-05 03:32:58 PM</td>\n",
       "      <td>Thursday</td>\n",
       "      <td>False</td>\n",
       "      <td>Spring</td>\n",
       "      <td>03:32 PM</td>\n",
       "      <td>Afternoon</td>\n",
       "      <td>600 PRESTON AVE</td>\n",
       "      <td>38.034709</td>\n",
       "      <td>-78.486265</td>\n",
       "    </tr>\n",
       "  </tbody>\n",
       "</table>\n",
       "</div>"
      ],
      "text/plain": [
       "   RecordID                       Offense    IncidentID BlockNumber  \\\n",
       "0         1  Family Offense - Non-Violent  202500019263         500   \n",
       "1         2      Drug/Narcotics Violation  202500019257        1000   \n",
       "2         3                     Vandalism  202500019247        1100   \n",
       "3         4           Larceny - All Other  202500019238         300   \n",
       "4         5         Larceny - Shoplifitng  202500019220         600   \n",
       "\n",
       "     StreetName Agency HourReported    ReportingOfficer                Date  \\\n",
       "0  ROCKLAND AVE    CPD         2209     Venereo, Arturo 2025-06-05 22:09:10   \n",
       "1   PRESTON AVE    CPD         2104        Thomas, Eric 2025-06-05 21:04:50   \n",
       "2     W MAIN ST    CPD         1953    Whitfield, Dylan 2025-06-05 19:53:31   \n",
       "3    CARLTON RD    CPD         1817  Love-Baker, Sydney 2025-06-05 18:17:49   \n",
       "4   PRESTON AVE    CPD         1532      Brannon, Devin 2025-06-05 15:32:58   \n",
       "\n",
       "               DateString DayOfWeek  Weekend  Season  HourAMPM  TimeOfDay  \\\n",
       "0  2025-06-05 10:09:10 PM  Thursday    False  Spring  10:09 PM      Night   \n",
       "1  2025-06-05 09:04:50 PM  Thursday    False  Spring  09:04 PM      Night   \n",
       "2  2025-06-05 07:53:31 PM  Thursday    False  Spring  07:53 PM    Evening   \n",
       "3  2025-06-05 06:17:49 PM  Thursday    False  Spring  06:17 PM    Evening   \n",
       "4  2025-06-05 03:32:58 PM  Thursday    False  Spring  03:32 PM  Afternoon   \n",
       "\n",
       "         FullStreet        lat        lon  \n",
       "0  500 ROCKLAND AVE  38.019715 -78.486133  \n",
       "1  1000 PRESTON AVE  38.039155 -78.491633  \n",
       "2    1100 W MAIN ST  38.032623 -78.496334  \n",
       "3    300 CARLTON RD  38.022411 -78.469889  \n",
       "4   600 PRESTON AVE  38.034709 -78.486265  "
      ]
     },
     "execution_count": 9,
     "metadata": {},
     "output_type": "execute_result"
    }
   ],
   "source": [
    "# Combine BlockNumber and StreetName into a full address string\n",
    "df['FullStreet'] = df['BlockNumber'].astype(str) + \" \" + df['StreetName']\n",
    "\n",
    "# --- Step 1: Setup the Google Maps Client and Cache ---\n",
    "gmaps = googlemaps.Client(key=GOOGLE_API_KEY)\n",
    "\n",
    "# Try to load cached geocoding results if available.\n",
    "try:\n",
    "    with open(\"geocode_cache_google.pkl\", \"rb\") as f:\n",
    "        street_coords = pickle.load(f)\n",
    "    print(\"Loaded geocode cache.\")\n",
    "except FileNotFoundError:\n",
    "    street_coords = {}\n",
    "    print(\"No cache found; starting fresh.\")\n",
    "\n",
    "def geocode_address(address):\n",
    "    try:\n",
    "        # Append city and state to help geocoding\n",
    "        result = gmaps.geocode(f\"{address}, Charlottesville, VA\")\n",
    "        if result:\n",
    "            lat = result[0]['geometry']['location']['lat']\n",
    "            lon = result[0]['geometry']['location']['lng']\n",
    "            return lat, lon\n",
    "    except Exception as e:\n",
    "        print(f\"Error geocoding {address}: {e}\")\n",
    "    return None, None\n",
    "\n",
    "# --- Step 2: Geocode Only New Addresses ---\n",
    "unique_addresses = df['FullStreet'].unique()\n",
    "for address in unique_addresses:\n",
    "    if address not in street_coords:\n",
    "        lat, lon = geocode_address(address)\n",
    "        street_coords[address] = (lat, lon)\n",
    "        print(f\"Geocoded {address}: {lat}, {lon}\")\n",
    "\n",
    "# Save the updated cache to disk.\n",
    "with open(\"geocode_cache_google.pkl\", \"wb\") as f:\n",
    "    pickle.dump(street_coords, f)\n",
    "    print(\"Geocode cache updated and saved.\")\n",
    "\n",
    "# --- Step 3: Map Coordinates Back to DataFrame ---\n",
    "df['lat'] = df['FullStreet'].map(lambda s: street_coords.get(s, (None, None))[0])\n",
    "df['lon'] = df['FullStreet'].map(lambda s: street_coords.get(s, (None, None))[1])\n",
    "\n",
    "df.head()"
   ]
  },
  {
   "cell_type": "markdown",
   "id": "1c3f9246",
   "metadata": {
    "papermill": {
     "duration": 0.00447,
     "end_time": "2025-06-08T01:11:04.637093",
     "exception": false,
     "start_time": "2025-06-08T01:11:04.632623",
     "status": "completed"
    },
    "tags": []
   },
   "source": [
    "### Neighborhood"
   ]
  },
  {
   "cell_type": "code",
   "execution_count": 10,
   "id": "e2901b41",
   "metadata": {
    "execution": {
     "iopub.execute_input": "2025-06-08T01:11:04.646725Z",
     "iopub.status.busy": "2025-06-08T01:11:04.646506Z",
     "iopub.status.idle": "2025-06-08T01:11:05.202747Z",
     "shell.execute_reply": "2025-06-08T01:11:05.202028Z"
    },
    "papermill": {
     "duration": 0.562448,
     "end_time": "2025-06-08T01:11:05.203932",
     "exception": false,
     "start_time": "2025-06-08T01:11:04.641484",
     "status": "completed"
    },
    "tags": []
   },
   "outputs": [
    {
     "name": "stdout",
     "output_type": "stream",
     "text": [
      "Loaded neighborhood cache.\n"
     ]
    },
    {
     "name": "stdout",
     "output_type": "stream",
     "text": [
      "Error getting neighborhood for nan, nan: HTTP Error: 400\n"
     ]
    },
    {
     "name": "stdout",
     "output_type": "stream",
     "text": [
      "Error getting neighborhood for nan, nan: HTTP Error: 400\n",
      "Error getting neighborhood for nan, nan: HTTP Error: 400\n"
     ]
    },
    {
     "name": "stdout",
     "output_type": "stream",
     "text": [
      "Error getting neighborhood for nan, nan: HTTP Error: 400\n",
      "Error getting neighborhood for nan, nan: HTTP Error: 400\n",
      "Error getting neighborhood for nan, nan: HTTP Error: 400\n",
      "Error getting neighborhood for nan, nan: HTTP Error: 400\n"
     ]
    },
    {
     "name": "stdout",
     "output_type": "stream",
     "text": [
      "Error getting neighborhood for nan, nan: HTTP Error: 400\n"
     ]
    },
    {
     "data": {
      "text/html": [
       "<div>\n",
       "<style scoped>\n",
       "    .dataframe tbody tr th:only-of-type {\n",
       "        vertical-align: middle;\n",
       "    }\n",
       "\n",
       "    .dataframe tbody tr th {\n",
       "        vertical-align: top;\n",
       "    }\n",
       "\n",
       "    .dataframe thead th {\n",
       "        text-align: right;\n",
       "    }\n",
       "</style>\n",
       "<table border=\"1\" class=\"dataframe\">\n",
       "  <thead>\n",
       "    <tr style=\"text-align: right;\">\n",
       "      <th></th>\n",
       "      <th>RecordID</th>\n",
       "      <th>Offense</th>\n",
       "      <th>IncidentID</th>\n",
       "      <th>BlockNumber</th>\n",
       "      <th>StreetName</th>\n",
       "      <th>Agency</th>\n",
       "      <th>HourReported</th>\n",
       "      <th>ReportingOfficer</th>\n",
       "      <th>Date</th>\n",
       "      <th>DateString</th>\n",
       "      <th>DayOfWeek</th>\n",
       "      <th>Weekend</th>\n",
       "      <th>Season</th>\n",
       "      <th>HourAMPM</th>\n",
       "      <th>TimeOfDay</th>\n",
       "      <th>FullStreet</th>\n",
       "      <th>lat</th>\n",
       "      <th>lon</th>\n",
       "      <th>neighborhood</th>\n",
       "    </tr>\n",
       "  </thead>\n",
       "  <tbody>\n",
       "    <tr>\n",
       "      <th>0</th>\n",
       "      <td>1</td>\n",
       "      <td>Family Offense - Non-Violent</td>\n",
       "      <td>202500019263</td>\n",
       "      <td>500</td>\n",
       "      <td>ROCKLAND AVE</td>\n",
       "      <td>CPD</td>\n",
       "      <td>2209</td>\n",
       "      <td>Venereo, Arturo</td>\n",
       "      <td>2025-06-05 22:09:10</td>\n",
       "      <td>2025-06-05 10:09:10 PM</td>\n",
       "      <td>Thursday</td>\n",
       "      <td>False</td>\n",
       "      <td>Spring</td>\n",
       "      <td>10:09 PM</td>\n",
       "      <td>Night</td>\n",
       "      <td>500 ROCKLAND AVE</td>\n",
       "      <td>38.019715</td>\n",
       "      <td>-78.486133</td>\n",
       "      <td>Ridge St.</td>\n",
       "    </tr>\n",
       "    <tr>\n",
       "      <th>1</th>\n",
       "      <td>2</td>\n",
       "      <td>Drug/Narcotics Violation</td>\n",
       "      <td>202500019257</td>\n",
       "      <td>1000</td>\n",
       "      <td>PRESTON AVE</td>\n",
       "      <td>CPD</td>\n",
       "      <td>2104</td>\n",
       "      <td>Thomas, Eric</td>\n",
       "      <td>2025-06-05 21:04:50</td>\n",
       "      <td>2025-06-05 09:04:50 PM</td>\n",
       "      <td>Thursday</td>\n",
       "      <td>False</td>\n",
       "      <td>Spring</td>\n",
       "      <td>09:04 PM</td>\n",
       "      <td>Night</td>\n",
       "      <td>1000 PRESTON AVE</td>\n",
       "      <td>38.039155</td>\n",
       "      <td>-78.491633</td>\n",
       "      <td>Venable</td>\n",
       "    </tr>\n",
       "    <tr>\n",
       "      <th>2</th>\n",
       "      <td>3</td>\n",
       "      <td>Vandalism</td>\n",
       "      <td>202500019247</td>\n",
       "      <td>1100</td>\n",
       "      <td>W MAIN ST</td>\n",
       "      <td>CPD</td>\n",
       "      <td>1953</td>\n",
       "      <td>Whitfield, Dylan</td>\n",
       "      <td>2025-06-05 19:53:31</td>\n",
       "      <td>2025-06-05 07:53:31 PM</td>\n",
       "      <td>Thursday</td>\n",
       "      <td>False</td>\n",
       "      <td>Spring</td>\n",
       "      <td>07:53 PM</td>\n",
       "      <td>Evening</td>\n",
       "      <td>1100 W MAIN ST</td>\n",
       "      <td>38.032623</td>\n",
       "      <td>-78.496334</td>\n",
       "      <td>10th &amp; Page</td>\n",
       "    </tr>\n",
       "    <tr>\n",
       "      <th>3</th>\n",
       "      <td>4</td>\n",
       "      <td>Larceny - All Other</td>\n",
       "      <td>202500019238</td>\n",
       "      <td>300</td>\n",
       "      <td>CARLTON RD</td>\n",
       "      <td>CPD</td>\n",
       "      <td>1817</td>\n",
       "      <td>Love-Baker, Sydney</td>\n",
       "      <td>2025-06-05 18:17:49</td>\n",
       "      <td>2025-06-05 06:17:49 PM</td>\n",
       "      <td>Thursday</td>\n",
       "      <td>False</td>\n",
       "      <td>Spring</td>\n",
       "      <td>06:17 PM</td>\n",
       "      <td>Evening</td>\n",
       "      <td>300 CARLTON RD</td>\n",
       "      <td>38.022411</td>\n",
       "      <td>-78.469889</td>\n",
       "      <td>Belmont</td>\n",
       "    </tr>\n",
       "    <tr>\n",
       "      <th>4</th>\n",
       "      <td>5</td>\n",
       "      <td>Larceny - Shoplifitng</td>\n",
       "      <td>202500019220</td>\n",
       "      <td>600</td>\n",
       "      <td>PRESTON AVE</td>\n",
       "      <td>CPD</td>\n",
       "      <td>1532</td>\n",
       "      <td>Brannon, Devin</td>\n",
       "      <td>2025-06-05 15:32:58</td>\n",
       "      <td>2025-06-05 03:32:58 PM</td>\n",
       "      <td>Thursday</td>\n",
       "      <td>False</td>\n",
       "      <td>Spring</td>\n",
       "      <td>03:32 PM</td>\n",
       "      <td>Afternoon</td>\n",
       "      <td>600 PRESTON AVE</td>\n",
       "      <td>38.034709</td>\n",
       "      <td>-78.486265</td>\n",
       "      <td>Starr Hill</td>\n",
       "    </tr>\n",
       "  </tbody>\n",
       "</table>\n",
       "</div>"
      ],
      "text/plain": [
       "   RecordID                       Offense    IncidentID BlockNumber  \\\n",
       "0         1  Family Offense - Non-Violent  202500019263         500   \n",
       "1         2      Drug/Narcotics Violation  202500019257        1000   \n",
       "2         3                     Vandalism  202500019247        1100   \n",
       "3         4           Larceny - All Other  202500019238         300   \n",
       "4         5         Larceny - Shoplifitng  202500019220         600   \n",
       "\n",
       "     StreetName Agency HourReported    ReportingOfficer                Date  \\\n",
       "0  ROCKLAND AVE    CPD         2209     Venereo, Arturo 2025-06-05 22:09:10   \n",
       "1   PRESTON AVE    CPD         2104        Thomas, Eric 2025-06-05 21:04:50   \n",
       "2     W MAIN ST    CPD         1953    Whitfield, Dylan 2025-06-05 19:53:31   \n",
       "3    CARLTON RD    CPD         1817  Love-Baker, Sydney 2025-06-05 18:17:49   \n",
       "4   PRESTON AVE    CPD         1532      Brannon, Devin 2025-06-05 15:32:58   \n",
       "\n",
       "               DateString DayOfWeek  Weekend  Season  HourAMPM  TimeOfDay  \\\n",
       "0  2025-06-05 10:09:10 PM  Thursday    False  Spring  10:09 PM      Night   \n",
       "1  2025-06-05 09:04:50 PM  Thursday    False  Spring  09:04 PM      Night   \n",
       "2  2025-06-05 07:53:31 PM  Thursday    False  Spring  07:53 PM    Evening   \n",
       "3  2025-06-05 06:17:49 PM  Thursday    False  Spring  06:17 PM    Evening   \n",
       "4  2025-06-05 03:32:58 PM  Thursday    False  Spring  03:32 PM  Afternoon   \n",
       "\n",
       "         FullStreet        lat        lon neighborhood  \n",
       "0  500 ROCKLAND AVE  38.019715 -78.486133    Ridge St.  \n",
       "1  1000 PRESTON AVE  38.039155 -78.491633      Venable  \n",
       "2    1100 W MAIN ST  38.032623 -78.496334  10th & Page  \n",
       "3    300 CARLTON RD  38.022411 -78.469889      Belmont  \n",
       "4   600 PRESTON AVE  38.034709 -78.486265   Starr Hill  "
      ]
     },
     "execution_count": 10,
     "metadata": {},
     "output_type": "execute_result"
    }
   ],
   "source": [
    "# Initialize the Google Maps client.\n",
    "gmaps = googlemaps.Client(key=GOOGLE_API_KEY)\n",
    "\n",
    "# Try to load a persistent neighborhood cache if available.\n",
    "try:\n",
    "    with open(\"neighborhood_cache.pkl\", \"rb\") as f:\n",
    "        neighborhood_cache = pickle.load(f)\n",
    "    print(\"Loaded neighborhood cache.\")\n",
    "except FileNotFoundError:\n",
    "    neighborhood_cache = {}\n",
    "    print(\"No neighborhood cache found; starting fresh.\")\n",
    "\n",
    "def get_neighborhood(lat, lon):\n",
    "    \"\"\"\n",
    "    Reverse geocodes a latitude and longitude to retrieve the neighborhood.\n",
    "    Caches results to speed up subsequent lookups.\n",
    "    \"\"\"\n",
    "    key = (lat, lon)\n",
    "    if key in neighborhood_cache:\n",
    "        return neighborhood_cache[key]\n",
    "    \n",
    "    try:\n",
    "        result = gmaps.reverse_geocode((lat, lon))\n",
    "        if result:\n",
    "            # Look for the 'neighborhood' component in the first result.\n",
    "            for component in result[0]['address_components']:\n",
    "                if 'neighborhood' in component['types']:\n",
    "                    neighborhood = component['long_name']\n",
    "                    neighborhood_cache[key] = neighborhood\n",
    "                    return neighborhood\n",
    "            # If no neighborhood is found, return \"N/A\"\n",
    "            neighborhood_cache[key] = \"N/A\"\n",
    "            return \"N/A\"\n",
    "    except Exception as e:\n",
    "        print(f\"Error getting neighborhood for {lat}, {lon}: {e}\")\n",
    "        return \"N/A\"\n",
    "    \n",
    "    # Pause to respect usage limits.\n",
    "    time.sleep(1)\n",
    "\n",
    "# Example usage: Apply to your DataFrame 'df' that already has 'lat' and 'lon' columns.\n",
    "df['neighborhood'] = df.apply(lambda row: get_neighborhood(row['lat'], row['lon']), axis=1)\n",
    "\n",
    "# Save the updated neighborhood cache.\n",
    "with open(\"neighborhood_cache.pkl\", \"wb\") as f:\n",
    "    pickle.dump(neighborhood_cache, f)\n",
    "\n",
    "df.head()\n"
   ]
  },
  {
   "cell_type": "markdown",
   "id": "297ee7c4",
   "metadata": {
    "papermill": {
     "duration": 0.004947,
     "end_time": "2025-06-08T01:11:05.214304",
     "exception": false,
     "start_time": "2025-06-08T01:11:05.209357",
     "status": "completed"
    },
    "tags": []
   },
   "source": [
    "### Zip"
   ]
  },
  {
   "cell_type": "code",
   "execution_count": 11,
   "id": "4372ccfb",
   "metadata": {
    "execution": {
     "iopub.execute_input": "2025-06-08T01:11:05.225162Z",
     "iopub.status.busy": "2025-06-08T01:11:05.224636Z",
     "iopub.status.idle": "2025-06-08T01:11:13.477876Z",
     "shell.execute_reply": "2025-06-08T01:11:13.477252Z"
    },
    "papermill": {
     "duration": 8.259783,
     "end_time": "2025-06-08T01:11:13.478903",
     "exception": false,
     "start_time": "2025-06-08T01:11:05.219120",
     "status": "completed"
    },
    "tags": []
   },
   "outputs": [
    {
     "name": "stdout",
     "output_type": "stream",
     "text": [
      "Loaded zip cache.\n",
      "Error getting ZIP for nan, nan: Must be a coordinate pair or Point\n"
     ]
    },
    {
     "name": "stdout",
     "output_type": "stream",
     "text": [
      "Error getting ZIP for nan, nan: Must be a coordinate pair or Point\n"
     ]
    },
    {
     "name": "stdout",
     "output_type": "stream",
     "text": [
      "Error getting ZIP for nan, nan: Must be a coordinate pair or Point\n"
     ]
    },
    {
     "name": "stdout",
     "output_type": "stream",
     "text": [
      "Error getting ZIP for nan, nan: Must be a coordinate pair or Point\n"
     ]
    },
    {
     "name": "stdout",
     "output_type": "stream",
     "text": [
      "Error getting ZIP for nan, nan: Must be a coordinate pair or Point\n"
     ]
    },
    {
     "name": "stdout",
     "output_type": "stream",
     "text": [
      "Error getting ZIP for nan, nan: Must be a coordinate pair or Point\n"
     ]
    },
    {
     "name": "stdout",
     "output_type": "stream",
     "text": [
      "Error getting ZIP for nan, nan: Must be a coordinate pair or Point\n"
     ]
    },
    {
     "name": "stdout",
     "output_type": "stream",
     "text": [
      "Error getting ZIP for nan, nan: Must be a coordinate pair or Point\n"
     ]
    },
    {
     "data": {
      "text/html": [
       "<div>\n",
       "<style scoped>\n",
       "    .dataframe tbody tr th:only-of-type {\n",
       "        vertical-align: middle;\n",
       "    }\n",
       "\n",
       "    .dataframe tbody tr th {\n",
       "        vertical-align: top;\n",
       "    }\n",
       "\n",
       "    .dataframe thead th {\n",
       "        text-align: right;\n",
       "    }\n",
       "</style>\n",
       "<table border=\"1\" class=\"dataframe\">\n",
       "  <thead>\n",
       "    <tr style=\"text-align: right;\">\n",
       "      <th></th>\n",
       "      <th>RecordID</th>\n",
       "      <th>Offense</th>\n",
       "      <th>IncidentID</th>\n",
       "      <th>BlockNumber</th>\n",
       "      <th>StreetName</th>\n",
       "      <th>Agency</th>\n",
       "      <th>HourReported</th>\n",
       "      <th>ReportingOfficer</th>\n",
       "      <th>Date</th>\n",
       "      <th>DateString</th>\n",
       "      <th>DayOfWeek</th>\n",
       "      <th>Weekend</th>\n",
       "      <th>Season</th>\n",
       "      <th>HourAMPM</th>\n",
       "      <th>TimeOfDay</th>\n",
       "      <th>FullStreet</th>\n",
       "      <th>lat</th>\n",
       "      <th>lon</th>\n",
       "      <th>neighborhood</th>\n",
       "      <th>zip</th>\n",
       "    </tr>\n",
       "  </thead>\n",
       "  <tbody>\n",
       "    <tr>\n",
       "      <th>0</th>\n",
       "      <td>1</td>\n",
       "      <td>Family Offense - Non-Violent</td>\n",
       "      <td>202500019263</td>\n",
       "      <td>500</td>\n",
       "      <td>ROCKLAND AVE</td>\n",
       "      <td>CPD</td>\n",
       "      <td>2209</td>\n",
       "      <td>Venereo, Arturo</td>\n",
       "      <td>2025-06-05 22:09:10</td>\n",
       "      <td>2025-06-05 10:09:10 PM</td>\n",
       "      <td>Thursday</td>\n",
       "      <td>False</td>\n",
       "      <td>Spring</td>\n",
       "      <td>10:09 PM</td>\n",
       "      <td>Night</td>\n",
       "      <td>500 ROCKLAND AVE</td>\n",
       "      <td>38.019715</td>\n",
       "      <td>-78.486133</td>\n",
       "      <td>Ridge St.</td>\n",
       "      <td>22903</td>\n",
       "    </tr>\n",
       "    <tr>\n",
       "      <th>1</th>\n",
       "      <td>2</td>\n",
       "      <td>Drug/Narcotics Violation</td>\n",
       "      <td>202500019257</td>\n",
       "      <td>1000</td>\n",
       "      <td>PRESTON AVE</td>\n",
       "      <td>CPD</td>\n",
       "      <td>2104</td>\n",
       "      <td>Thomas, Eric</td>\n",
       "      <td>2025-06-05 21:04:50</td>\n",
       "      <td>2025-06-05 09:04:50 PM</td>\n",
       "      <td>Thursday</td>\n",
       "      <td>False</td>\n",
       "      <td>Spring</td>\n",
       "      <td>09:04 PM</td>\n",
       "      <td>Night</td>\n",
       "      <td>1000 PRESTON AVE</td>\n",
       "      <td>38.039155</td>\n",
       "      <td>-78.491633</td>\n",
       "      <td>Venable</td>\n",
       "      <td>22908</td>\n",
       "    </tr>\n",
       "    <tr>\n",
       "      <th>2</th>\n",
       "      <td>3</td>\n",
       "      <td>Vandalism</td>\n",
       "      <td>202500019247</td>\n",
       "      <td>1100</td>\n",
       "      <td>W MAIN ST</td>\n",
       "      <td>CPD</td>\n",
       "      <td>1953</td>\n",
       "      <td>Whitfield, Dylan</td>\n",
       "      <td>2025-06-05 19:53:31</td>\n",
       "      <td>2025-06-05 07:53:31 PM</td>\n",
       "      <td>Thursday</td>\n",
       "      <td>False</td>\n",
       "      <td>Spring</td>\n",
       "      <td>07:53 PM</td>\n",
       "      <td>Evening</td>\n",
       "      <td>1100 W MAIN ST</td>\n",
       "      <td>38.032623</td>\n",
       "      <td>-78.496334</td>\n",
       "      <td>10th &amp; Page</td>\n",
       "      <td>22903</td>\n",
       "    </tr>\n",
       "    <tr>\n",
       "      <th>3</th>\n",
       "      <td>4</td>\n",
       "      <td>Larceny - All Other</td>\n",
       "      <td>202500019238</td>\n",
       "      <td>300</td>\n",
       "      <td>CARLTON RD</td>\n",
       "      <td>CPD</td>\n",
       "      <td>1817</td>\n",
       "      <td>Love-Baker, Sydney</td>\n",
       "      <td>2025-06-05 18:17:49</td>\n",
       "      <td>2025-06-05 06:17:49 PM</td>\n",
       "      <td>Thursday</td>\n",
       "      <td>False</td>\n",
       "      <td>Spring</td>\n",
       "      <td>06:17 PM</td>\n",
       "      <td>Evening</td>\n",
       "      <td>300 CARLTON RD</td>\n",
       "      <td>38.022411</td>\n",
       "      <td>-78.469889</td>\n",
       "      <td>Belmont</td>\n",
       "      <td>22902</td>\n",
       "    </tr>\n",
       "    <tr>\n",
       "      <th>4</th>\n",
       "      <td>5</td>\n",
       "      <td>Larceny - Shoplifitng</td>\n",
       "      <td>202500019220</td>\n",
       "      <td>600</td>\n",
       "      <td>PRESTON AVE</td>\n",
       "      <td>CPD</td>\n",
       "      <td>1532</td>\n",
       "      <td>Brannon, Devin</td>\n",
       "      <td>2025-06-05 15:32:58</td>\n",
       "      <td>2025-06-05 03:32:58 PM</td>\n",
       "      <td>Thursday</td>\n",
       "      <td>False</td>\n",
       "      <td>Spring</td>\n",
       "      <td>03:32 PM</td>\n",
       "      <td>Afternoon</td>\n",
       "      <td>600 PRESTON AVE</td>\n",
       "      <td>38.034709</td>\n",
       "      <td>-78.486265</td>\n",
       "      <td>Starr Hill</td>\n",
       "      <td>22903</td>\n",
       "    </tr>\n",
       "  </tbody>\n",
       "</table>\n",
       "</div>"
      ],
      "text/plain": [
       "   RecordID                       Offense    IncidentID BlockNumber  \\\n",
       "0         1  Family Offense - Non-Violent  202500019263         500   \n",
       "1         2      Drug/Narcotics Violation  202500019257        1000   \n",
       "2         3                     Vandalism  202500019247        1100   \n",
       "3         4           Larceny - All Other  202500019238         300   \n",
       "4         5         Larceny - Shoplifitng  202500019220         600   \n",
       "\n",
       "     StreetName Agency HourReported    ReportingOfficer                Date  \\\n",
       "0  ROCKLAND AVE    CPD         2209     Venereo, Arturo 2025-06-05 22:09:10   \n",
       "1   PRESTON AVE    CPD         2104        Thomas, Eric 2025-06-05 21:04:50   \n",
       "2     W MAIN ST    CPD         1953    Whitfield, Dylan 2025-06-05 19:53:31   \n",
       "3    CARLTON RD    CPD         1817  Love-Baker, Sydney 2025-06-05 18:17:49   \n",
       "4   PRESTON AVE    CPD         1532      Brannon, Devin 2025-06-05 15:32:58   \n",
       "\n",
       "               DateString DayOfWeek  Weekend  Season  HourAMPM  TimeOfDay  \\\n",
       "0  2025-06-05 10:09:10 PM  Thursday    False  Spring  10:09 PM      Night   \n",
       "1  2025-06-05 09:04:50 PM  Thursday    False  Spring  09:04 PM      Night   \n",
       "2  2025-06-05 07:53:31 PM  Thursday    False  Spring  07:53 PM    Evening   \n",
       "3  2025-06-05 06:17:49 PM  Thursday    False  Spring  06:17 PM    Evening   \n",
       "4  2025-06-05 03:32:58 PM  Thursday    False  Spring  03:32 PM  Afternoon   \n",
       "\n",
       "         FullStreet        lat        lon neighborhood    zip  \n",
       "0  500 ROCKLAND AVE  38.019715 -78.486133    Ridge St.  22903  \n",
       "1  1000 PRESTON AVE  38.039155 -78.491633      Venable  22908  \n",
       "2    1100 W MAIN ST  38.032623 -78.496334  10th & Page  22903  \n",
       "3    300 CARLTON RD  38.022411 -78.469889      Belmont  22902  \n",
       "4   600 PRESTON AVE  38.034709 -78.486265   Starr Hill  22903  "
      ]
     },
     "execution_count": 11,
     "metadata": {},
     "output_type": "execute_result"
    }
   ],
   "source": [
    "# Initialize the geocoder.\n",
    "geolocator = Nominatim(user_agent=\"zip_lookup\")\n",
    "\n",
    "# Try to load a persistent ZIP cache if available.\n",
    "try:\n",
    "    with open(\"zip_cache.pkl\", \"rb\") as f:\n",
    "        zip_cache = pickle.load(f)\n",
    "    print(\"Loaded zip cache.\")\n",
    "except FileNotFoundError:\n",
    "    zip_cache = {}\n",
    "    print(\"No zip cache found; starting fresh.\")\n",
    "\n",
    "def get_zip(lat, lon):\n",
    "    \"\"\"\n",
    "    Reverse geocodes a latitude and longitude to retrieve the ZIP code.\n",
    "    Caches results to speed up subsequent lookups.\n",
    "    \"\"\"\n",
    "    key = (lat, lon)\n",
    "    if key in zip_cache:\n",
    "        return zip_cache[key]\n",
    "    \n",
    "    try:\n",
    "        location = geolocator.reverse((lat, lon), exactly_one=True, timeout=10)\n",
    "        address = location.raw.get('address', {})\n",
    "        postal_code = address.get('postcode', \"N/A\")\n",
    "    except Exception as e:\n",
    "        print(f\"Error getting ZIP for {lat}, {lon}: {e}\")\n",
    "        postal_code = \"N/A\"\n",
    "    \n",
    "    zip_cache[key] = postal_code\n",
    "    # Pause to respect the usage policy.\n",
    "    time.sleep(1)\n",
    "    return postal_code\n",
    "\n",
    "# Apply the function to each row in the DataFrame.\n",
    "df['zip'] = df.apply(lambda row: get_zip(row['lat'], row['lon']), axis=1)\n",
    "\n",
    "# Save the updated ZIP cache.\n",
    "with open(\"zip_cache.pkl\", \"wb\") as f:\n",
    "    pickle.dump(zip_cache, f)\n",
    "\n",
    "df.head()\n"
   ]
  },
  {
   "cell_type": "code",
   "execution_count": 12,
   "id": "9451d596",
   "metadata": {
    "execution": {
     "iopub.execute_input": "2025-06-08T01:11:13.491592Z",
     "iopub.status.busy": "2025-06-08T01:11:13.491038Z",
     "iopub.status.idle": "2025-06-08T01:11:13.524300Z",
     "shell.execute_reply": "2025-06-08T01:11:13.523588Z"
    },
    "papermill": {
     "duration": 0.04045,
     "end_time": "2025-06-08T01:11:13.525320",
     "exception": false,
     "start_time": "2025-06-08T01:11:13.484870",
     "status": "completed"
    },
    "tags": []
   },
   "outputs": [
    {
     "name": "stdout",
     "output_type": "stream",
     "text": [
      "                  MissingCount  MissingPercentage\n",
      "RecordID                     0               0.00\n",
      "Offense                      0               0.00\n",
      "IncidentID                   0               0.00\n",
      "BlockNumber                  0               0.00\n",
      "StreetName                   0               0.00\n",
      "Agency                       0               0.00\n",
      "HourReported                 0               0.00\n",
      "ReportingOfficer            17               0.07\n",
      "Date                         0               0.00\n",
      "DateString                   0               0.00\n",
      "DayOfWeek                    0               0.00\n",
      "Weekend                      0               0.00\n",
      "Season                       0               0.00\n",
      "HourAMPM                     0               0.00\n",
      "TimeOfDay                    0               0.00\n",
      "FullStreet                   0               0.00\n",
      "lat                          8               0.03\n",
      "lon                          8               0.03\n",
      "neighborhood                 0               0.00\n",
      "zip                          0               0.00\n"
     ]
    }
   ],
   "source": [
    "missing_info = missing_percentage(df)\n",
    "print(missing_info)\n"
   ]
  },
  {
   "cell_type": "code",
   "execution_count": 13,
   "id": "2c2104bb",
   "metadata": {
    "execution": {
     "iopub.execute_input": "2025-06-08T01:11:13.538023Z",
     "iopub.status.busy": "2025-06-08T01:11:13.537523Z",
     "iopub.status.idle": "2025-06-08T01:11:13.570473Z",
     "shell.execute_reply": "2025-06-08T01:11:13.569861Z"
    },
    "papermill": {
     "duration": 0.04032,
     "end_time": "2025-06-08T01:11:13.571566",
     "exception": false,
     "start_time": "2025-06-08T01:11:13.531246",
     "status": "completed"
    },
    "tags": []
   },
   "outputs": [
    {
     "name": "stdout",
     "output_type": "stream",
     "text": [
      "<class 'pandas.core.frame.DataFrame'>\n",
      "RangeIndex: 25458 entries, 0 to 25457\n",
      "Data columns (total 20 columns):\n",
      " #   Column            Non-Null Count  Dtype         \n",
      "---  ------            --------------  -----         \n",
      " 0   RecordID          25458 non-null  int64         \n",
      " 1   Offense           25458 non-null  object        \n",
      " 2   IncidentID        25458 non-null  object        \n",
      " 3   BlockNumber       25458 non-null  object        \n",
      " 4   StreetName        25458 non-null  object        \n",
      " 5   Agency            25458 non-null  object        \n",
      " 6   HourReported      25458 non-null  object        \n",
      " 7   ReportingOfficer  25441 non-null  object        \n",
      " 8   Date              25458 non-null  datetime64[ns]\n",
      " 9   DateString        25458 non-null  object        \n",
      " 10  DayOfWeek         25458 non-null  object        \n",
      " 11  Weekend           25458 non-null  bool          \n",
      " 12  Season            25458 non-null  object        \n",
      " 13  HourAMPM          25458 non-null  object        \n",
      " 14  TimeOfDay         25458 non-null  object        \n",
      " 15  FullStreet        25458 non-null  object        \n",
      " 16  lat               25450 non-null  float64       \n",
      " 17  lon               25450 non-null  float64       \n",
      " 18  neighborhood      25458 non-null  object        \n",
      " 19  zip               25458 non-null  object        \n",
      "dtypes: bool(1), datetime64[ns](1), float64(2), int64(1), object(15)\n",
      "memory usage: 3.7+ MB\n"
     ]
    }
   ],
   "source": [
    "df.info()"
   ]
  },
  {
   "cell_type": "code",
   "execution_count": 14,
   "id": "e1231450",
   "metadata": {
    "execution": {
     "iopub.execute_input": "2025-06-08T01:11:13.584198Z",
     "iopub.status.busy": "2025-06-08T01:11:13.583766Z",
     "iopub.status.idle": "2025-06-08T01:11:13.631155Z",
     "shell.execute_reply": "2025-06-08T01:11:13.630512Z"
    },
    "papermill": {
     "duration": 0.054813,
     "end_time": "2025-06-08T01:11:13.632275",
     "exception": false,
     "start_time": "2025-06-08T01:11:13.577462",
     "status": "completed"
    },
    "tags": []
   },
   "outputs": [
    {
     "data": {
      "text/html": [
       "<div>\n",
       "<style scoped>\n",
       "    .dataframe tbody tr th:only-of-type {\n",
       "        vertical-align: middle;\n",
       "    }\n",
       "\n",
       "    .dataframe tbody tr th {\n",
       "        vertical-align: top;\n",
       "    }\n",
       "\n",
       "    .dataframe thead th {\n",
       "        text-align: right;\n",
       "    }\n",
       "</style>\n",
       "<table border=\"1\" class=\"dataframe\">\n",
       "  <thead>\n",
       "    <tr style=\"text-align: right;\">\n",
       "      <th></th>\n",
       "      <th>RecordID</th>\n",
       "      <th>Offense</th>\n",
       "      <th>IncidentID</th>\n",
       "      <th>Agency</th>\n",
       "      <th>ReportingOfficer</th>\n",
       "      <th>Date</th>\n",
       "      <th>DayOfWeek</th>\n",
       "      <th>Weekend</th>\n",
       "      <th>Season</th>\n",
       "      <th>TimeOfDay</th>\n",
       "      <th>FullStreet</th>\n",
       "      <th>lat</th>\n",
       "      <th>lon</th>\n",
       "      <th>neighborhood</th>\n",
       "      <th>zip</th>\n",
       "    </tr>\n",
       "  </thead>\n",
       "  <tbody>\n",
       "    <tr>\n",
       "      <th>0</th>\n",
       "      <td>1</td>\n",
       "      <td>Family Offense - Non-Violent</td>\n",
       "      <td>202500019263</td>\n",
       "      <td>CPD</td>\n",
       "      <td>Venereo, Arturo</td>\n",
       "      <td>2025-06-05 22:09:10</td>\n",
       "      <td>Thursday</td>\n",
       "      <td>False</td>\n",
       "      <td>Spring</td>\n",
       "      <td>Night</td>\n",
       "      <td>500 ROCKLAND AVE</td>\n",
       "      <td>38.019715</td>\n",
       "      <td>-78.486133</td>\n",
       "      <td>Ridge St.</td>\n",
       "      <td>22903</td>\n",
       "    </tr>\n",
       "    <tr>\n",
       "      <th>1</th>\n",
       "      <td>2</td>\n",
       "      <td>Drug/Narcotics Violation</td>\n",
       "      <td>202500019257</td>\n",
       "      <td>CPD</td>\n",
       "      <td>Thomas, Eric</td>\n",
       "      <td>2025-06-05 21:04:50</td>\n",
       "      <td>Thursday</td>\n",
       "      <td>False</td>\n",
       "      <td>Spring</td>\n",
       "      <td>Night</td>\n",
       "      <td>1000 PRESTON AVE</td>\n",
       "      <td>38.039155</td>\n",
       "      <td>-78.491633</td>\n",
       "      <td>Venable</td>\n",
       "      <td>22908</td>\n",
       "    </tr>\n",
       "    <tr>\n",
       "      <th>2</th>\n",
       "      <td>3</td>\n",
       "      <td>Vandalism</td>\n",
       "      <td>202500019247</td>\n",
       "      <td>CPD</td>\n",
       "      <td>Whitfield, Dylan</td>\n",
       "      <td>2025-06-05 19:53:31</td>\n",
       "      <td>Thursday</td>\n",
       "      <td>False</td>\n",
       "      <td>Spring</td>\n",
       "      <td>Evening</td>\n",
       "      <td>1100 W MAIN ST</td>\n",
       "      <td>38.032623</td>\n",
       "      <td>-78.496334</td>\n",
       "      <td>10th &amp; Page</td>\n",
       "      <td>22903</td>\n",
       "    </tr>\n",
       "    <tr>\n",
       "      <th>3</th>\n",
       "      <td>4</td>\n",
       "      <td>Larceny - All Other</td>\n",
       "      <td>202500019238</td>\n",
       "      <td>CPD</td>\n",
       "      <td>Love-Baker, Sydney</td>\n",
       "      <td>2025-06-05 18:17:49</td>\n",
       "      <td>Thursday</td>\n",
       "      <td>False</td>\n",
       "      <td>Spring</td>\n",
       "      <td>Evening</td>\n",
       "      <td>300 CARLTON RD</td>\n",
       "      <td>38.022411</td>\n",
       "      <td>-78.469889</td>\n",
       "      <td>Belmont</td>\n",
       "      <td>22902</td>\n",
       "    </tr>\n",
       "    <tr>\n",
       "      <th>4</th>\n",
       "      <td>5</td>\n",
       "      <td>Larceny - Shoplifitng</td>\n",
       "      <td>202500019220</td>\n",
       "      <td>CPD</td>\n",
       "      <td>Brannon, Devin</td>\n",
       "      <td>2025-06-05 15:32:58</td>\n",
       "      <td>Thursday</td>\n",
       "      <td>False</td>\n",
       "      <td>Spring</td>\n",
       "      <td>Afternoon</td>\n",
       "      <td>600 PRESTON AVE</td>\n",
       "      <td>38.034709</td>\n",
       "      <td>-78.486265</td>\n",
       "      <td>Starr Hill</td>\n",
       "      <td>22903</td>\n",
       "    </tr>\n",
       "  </tbody>\n",
       "</table>\n",
       "</div>"
      ],
      "text/plain": [
       "   RecordID                       Offense    IncidentID Agency  \\\n",
       "0         1  Family Offense - Non-Violent  202500019263    CPD   \n",
       "1         2      Drug/Narcotics Violation  202500019257    CPD   \n",
       "2         3                     Vandalism  202500019247    CPD   \n",
       "3         4           Larceny - All Other  202500019238    CPD   \n",
       "4         5         Larceny - Shoplifitng  202500019220    CPD   \n",
       "\n",
       "     ReportingOfficer                Date DayOfWeek  Weekend  Season  \\\n",
       "0     Venereo, Arturo 2025-06-05 22:09:10  Thursday    False  Spring   \n",
       "1        Thomas, Eric 2025-06-05 21:04:50  Thursday    False  Spring   \n",
       "2    Whitfield, Dylan 2025-06-05 19:53:31  Thursday    False  Spring   \n",
       "3  Love-Baker, Sydney 2025-06-05 18:17:49  Thursday    False  Spring   \n",
       "4      Brannon, Devin 2025-06-05 15:32:58  Thursday    False  Spring   \n",
       "\n",
       "   TimeOfDay        FullStreet        lat        lon neighborhood    zip  \n",
       "0      Night  500 ROCKLAND AVE  38.019715 -78.486133    Ridge St.  22903  \n",
       "1      Night  1000 PRESTON AVE  38.039155 -78.491633      Venable  22908  \n",
       "2    Evening    1100 W MAIN ST  38.032623 -78.496334  10th & Page  22903  \n",
       "3    Evening    300 CARLTON RD  38.022411 -78.469889      Belmont  22902  \n",
       "4  Afternoon   600 PRESTON AVE  38.034709 -78.486265   Starr Hill  22903  "
      ]
     },
     "execution_count": 14,
     "metadata": {},
     "output_type": "execute_result"
    }
   ],
   "source": [
    "# Now drop the original BlockNumber and StreetName columns\n",
    "df.drop(columns=['BlockNumber', 'StreetName','HourAMPM','HourReported','DateString'], inplace=True)\n",
    "df[\"zip\"] = df[\"zip\"].astype(str)\n",
    "\n",
    "# Fill all missing values in the DataFrame with \"N/A\"\n",
    "df.replace({None: \"N/A\", np.nan: \"N/A\", \"\": \"N/A\"}, inplace=True)\n",
    "df.head()"
   ]
  },
  {
   "cell_type": "code",
   "execution_count": 15,
   "id": "4643b046",
   "metadata": {
    "execution": {
     "iopub.execute_input": "2025-06-08T01:11:13.645716Z",
     "iopub.status.busy": "2025-06-08T01:11:13.645210Z",
     "iopub.status.idle": "2025-06-08T01:11:13.665556Z",
     "shell.execute_reply": "2025-06-08T01:11:13.664948Z"
    },
    "papermill": {
     "duration": 0.027897,
     "end_time": "2025-06-08T01:11:13.666592",
     "exception": false,
     "start_time": "2025-06-08T01:11:13.638695",
     "status": "completed"
    },
    "tags": []
   },
   "outputs": [
    {
     "name": "stdout",
     "output_type": "stream",
     "text": [
      "                  MissingCount  MissingPercentage\n",
      "RecordID                     0                0.0\n",
      "Offense                      0                0.0\n",
      "IncidentID                   0                0.0\n",
      "Agency                       0                0.0\n",
      "ReportingOfficer             0                0.0\n",
      "Date                         0                0.0\n",
      "DayOfWeek                    0                0.0\n",
      "Weekend                      0                0.0\n",
      "Season                       0                0.0\n",
      "TimeOfDay                    0                0.0\n",
      "FullStreet                   0                0.0\n",
      "lat                          0                0.0\n",
      "lon                          0                0.0\n",
      "neighborhood                 0                0.0\n",
      "zip                          0                0.0\n"
     ]
    }
   ],
   "source": [
    "missing_info = missing_percentage(df)\n",
    "print(missing_info)"
   ]
  },
  {
   "cell_type": "code",
   "execution_count": 16,
   "id": "b3d97191",
   "metadata": {
    "execution": {
     "iopub.execute_input": "2025-06-08T01:11:13.679673Z",
     "iopub.status.busy": "2025-06-08T01:11:13.679308Z",
     "iopub.status.idle": "2025-06-08T01:11:13.683884Z",
     "shell.execute_reply": "2025-06-08T01:11:13.683220Z"
    },
    "papermill": {
     "duration": 0.012084,
     "end_time": "2025-06-08T01:11:13.684906",
     "exception": false,
     "start_time": "2025-06-08T01:11:13.672822",
     "status": "completed"
    },
    "tags": []
   },
   "outputs": [
    {
     "data": {
      "text/plain": [
       "Index(['RecordID', 'Offense', 'IncidentID', 'Agency', 'ReportingOfficer',\n",
       "       'Date', 'DayOfWeek', 'Weekend', 'Season', 'TimeOfDay', 'FullStreet',\n",
       "       'lat', 'lon', 'neighborhood', 'zip'],\n",
       "      dtype='object')"
      ]
     },
     "execution_count": 16,
     "metadata": {},
     "output_type": "execute_result"
    }
   ],
   "source": [
    "df.columns"
   ]
  },
  {
   "cell_type": "code",
   "execution_count": 17,
   "id": "e2b5d91a",
   "metadata": {
    "execution": {
     "iopub.execute_input": "2025-06-08T01:11:13.697506Z",
     "iopub.status.busy": "2025-06-08T01:11:13.697286Z",
     "iopub.status.idle": "2025-06-08T01:11:13.720443Z",
     "shell.execute_reply": "2025-06-08T01:11:13.719734Z"
    },
    "papermill": {
     "duration": 0.030667,
     "end_time": "2025-06-08T01:11:13.721590",
     "exception": false,
     "start_time": "2025-06-08T01:11:13.690923",
     "status": "completed"
    },
    "tags": []
   },
   "outputs": [
    {
     "name": "stdout",
     "output_type": "stream",
     "text": [
      "<class 'pandas.core.frame.DataFrame'>\n",
      "RangeIndex: 25458 entries, 0 to 25457\n",
      "Data columns (total 15 columns):\n",
      " #   Column            Non-Null Count  Dtype         \n",
      "---  ------            --------------  -----         \n",
      " 0   RecordID          25458 non-null  int64         \n",
      " 1   Offense           25458 non-null  object        \n",
      " 2   IncidentID        25458 non-null  object        \n",
      " 3   Agency            25458 non-null  object        \n",
      " 4   ReportingOfficer  25458 non-null  object        \n",
      " 5   Date              25458 non-null  datetime64[ns]\n",
      " 6   DayOfWeek         25458 non-null  object        \n",
      " 7   Weekend           25458 non-null  bool          \n",
      " 8   Season            25458 non-null  object        \n",
      " 9   TimeOfDay         25458 non-null  object        \n",
      " 10  FullStreet        25458 non-null  object        \n",
      " 11  lat               25458 non-null  object        \n",
      " 12  lon               25458 non-null  object        \n",
      " 13  neighborhood      25458 non-null  object        \n",
      " 14  zip               25458 non-null  object        \n",
      "dtypes: bool(1), datetime64[ns](1), int64(1), object(12)\n",
      "memory usage: 2.7+ MB\n"
     ]
    }
   ],
   "source": [
    "df.info()"
   ]
  },
  {
   "cell_type": "markdown",
   "id": "3d7b23de",
   "metadata": {
    "papermill": {
     "duration": 0.005955,
     "end_time": "2025-06-08T01:11:13.734051",
     "exception": false,
     "start_time": "2025-06-08T01:11:13.728096",
     "status": "completed"
    },
    "tags": []
   },
   "source": [
    "### Export Clean Data"
   ]
  },
  {
   "cell_type": "code",
   "execution_count": 18,
   "id": "b6cc9856",
   "metadata": {
    "execution": {
     "iopub.execute_input": "2025-06-08T01:11:13.747783Z",
     "iopub.status.busy": "2025-06-08T01:11:13.747237Z",
     "iopub.status.idle": "2025-06-08T01:11:23.231838Z",
     "shell.execute_reply": "2025-06-08T01:11:23.231117Z"
    },
    "papermill": {
     "duration": 9.492707,
     "end_time": "2025-06-08T01:11:23.232938",
     "exception": false,
     "start_time": "2025-06-08T01:11:13.740231",
     "status": "completed"
    },
    "tags": []
   },
   "outputs": [
    {
     "name": "stdout",
     "output_type": "stream",
     "text": [
      "Project Root: /home/runner/work/crime-data/crime-data\n"
     ]
    },
    {
     "name": "stdout",
     "output_type": "stream",
     "text": [
      "Data saved to: /home/runner/work/crime-data/crime-data/data/charlottesville_crime_incidents.csv\n"
     ]
    },
    {
     "name": "stdout",
     "output_type": "stream",
     "text": [
      "Excel saved to: /home/runner/work/crime-data/crime-data/data/charlottesville_crime_incidents.xlsx\n"
     ]
    }
   ],
   "source": [
    "# Determine the project root (assuming papermill is run from the repository root)\n",
    "project_root = os.getcwd()\n",
    "print(\"Project Root:\", project_root)\n",
    "\n",
    "# Set the data directory within the project root\n",
    "data_dir = os.path.join(project_root, \"data\")\n",
    "\n",
    "# Ensure the \"data\" directory exists (create it if it doesn't)\n",
    "if not os.path.exists(data_dir):\n",
    "    os.makedirs(data_dir)\n",
    "\n",
    "# Export the DataFrame to CSV in the \"data\" folder located in the project root\n",
    "csv_path = os.path.join(data_dir, \"charlottesville_crime_incidents.csv\")\n",
    "df.to_csv(csv_path, index=False)\n",
    "print(\"Data saved to:\", csv_path)\n",
    "\n",
    "# Construct the path to your Excel file\n",
    "excel_path = os.path.join(data_dir, \"charlottesville_crime_incidents.xlsx\")\n",
    "\n",
    "# Export the DataFrame to Excel\n",
    "df.to_excel(excel_path, index=False)\n",
    "print(\"Excel saved to:\", excel_path)\n"
   ]
  }
 ],
 "metadata": {
  "kernelspec": {
   "display_name": "Python 3",
   "language": "python",
   "name": "python3"
  },
  "language_info": {
   "codemirror_mode": {
    "name": "ipython",
    "version": 3
   },
   "file_extension": ".py",
   "mimetype": "text/x-python",
   "name": "python",
   "nbconvert_exporter": "python",
   "pygments_lexer": "ipython3",
   "version": "3.9.22"
  },
  "papermill": {
   "default_parameters": {},
   "duration": 88.093858,
   "end_time": "2025-06-08T01:11:23.655546",
   "environment_variables": {},
   "exception": null,
   "input_path": "notebook/Crime Data.ipynb",
   "output_path": "notebook/Crime Data_output.ipynb",
   "parameters": {},
   "start_time": "2025-06-08T01:09:55.561688",
   "version": "2.6.0"
  }
 },
 "nbformat": 4,
 "nbformat_minor": 5
}