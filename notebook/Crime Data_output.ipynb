{
 "cells": [
  {
   "cell_type": "markdown",
   "id": "78d56680",
   "metadata": {
    "papermill": {
     "duration": 0.006093,
     "end_time": "2025-05-05T01:04:36.569630",
     "exception": false,
     "start_time": "2025-05-05T01:04:36.563537",
     "status": "completed"
    },
    "tags": []
   },
   "source": [
    "# Charlottesville Open Data Porttal: Crime Data"
   ]
  },
  {
   "cell_type": "markdown",
   "id": "f6977751",
   "metadata": {
    "papermill": {
     "duration": 0.004988,
     "end_time": "2025-05-05T01:04:36.580046",
     "exception": false,
     "start_time": "2025-05-05T01:04:36.575058",
     "status": "completed"
    },
    "tags": []
   },
   "source": [
    "## Import Relevant Librarires & Set WD"
   ]
  },
  {
   "cell_type": "code",
   "execution_count": 1,
   "id": "8c222abd",
   "metadata": {
    "execution": {
     "iopub.execute_input": "2025-05-05T01:04:36.591239Z",
     "iopub.status.busy": "2025-05-05T01:04:36.590824Z",
     "iopub.status.idle": "2025-05-05T01:04:37.141420Z",
     "shell.execute_reply": "2025-05-05T01:04:37.140790Z"
    },
    "papermill": {
     "duration": 0.557664,
     "end_time": "2025-05-05T01:04:37.142772",
     "exception": false,
     "start_time": "2025-05-05T01:04:36.585108",
     "status": "completed"
    },
    "tags": []
   },
   "outputs": [],
   "source": [
    "import requests\n",
    "import pandas as pd\n",
    "import numpy as np\n",
    "import pickle\n",
    "import googlemaps\n",
    "import plotly.express as px\n",
    "from geopy.geocoders import Nominatim\n",
    "import time\n",
    "from dotenv import load_dotenv\n",
    "import os\n",
    "\n",
    "env_path = os.path.join(\"..\", \".env\")\n",
    "#print(\"Looking for .env file at:\", os.path.abspath(env_path))\n",
    "load_dotenv(dotenv_path=env_path)\n",
    "\n",
    "# Retrieve the variables\n",
    "GOOGLE_API_KEY = os.getenv(\"GOOGLE_API_KEY\")\n",
    "WORKING_DIR = os.getenv(\"WORKING_DIR\")\n",
    "\n",
    "if GOOGLE_API_KEY is None or WORKING_DIR is None:\n",
    "    raise RuntimeError(\"No configuration found. Please ensure that your .env file exists with the required variables, or create a local config.py file.\")\n",
    "\n",
    "#print(\"Google API Key:\", GOOGLE_API_KEY)\n",
    "#print(\"Working Directory:\", WORKING_DIR)"
   ]
  },
  {
   "cell_type": "markdown",
   "id": "016cfab8",
   "metadata": {
    "papermill": {
     "duration": 0.005023,
     "end_time": "2025-05-05T01:04:37.153198",
     "exception": false,
     "start_time": "2025-05-05T01:04:37.148175",
     "status": "completed"
    },
    "tags": []
   },
   "source": [
    "## Import Data\n",
    "\n",
    "URL: https://opendata.charlottesville.org/datasets/charlottesville::crime-data/about"
   ]
  },
  {
   "cell_type": "code",
   "execution_count": 2,
   "id": "0d971d63",
   "metadata": {
    "execution": {
     "iopub.execute_input": "2025-05-05T01:04:37.164144Z",
     "iopub.status.busy": "2025-05-05T01:04:37.163874Z",
     "iopub.status.idle": "2025-05-05T01:05:37.286423Z",
     "shell.execute_reply": "2025-05-05T01:05:37.285727Z"
    },
    "papermill": {
     "duration": 60.134414,
     "end_time": "2025-05-05T01:05:37.292694",
     "exception": false,
     "start_time": "2025-05-05T01:04:37.158280",
     "status": "completed"
    },
    "tags": []
   },
   "outputs": [
    {
     "name": "stdout",
     "output_type": "stream",
     "text": [
      "Total records imported: 25330\n"
     ]
    }
   ],
   "source": [
    "# Define the endpoint and initial parameters.\n",
    "url = \"https://gisweb.charlottesville.org/arcgis/rest/services/OpenData_2/MapServer/6/query\"\n",
    "params = {\n",
    "    \"where\": \"1=1\",\n",
    "    \"outFields\": \"*\",\n",
    "    \"outSR\": 4326,\n",
    "    \"f\": \"json\",\n",
    "    \"resultOffset\": 0,       # Starting index for results\n",
    "    \"resultRecordCount\": 10000  # Maximum records per batch (if allowed by the API)\n",
    "}\n",
    "\n",
    "records = []\n",
    "\n",
    "while True:\n",
    "    response = requests.get(url, params=params)\n",
    "    response.raise_for_status()\n",
    "    data = response.json()\n",
    "    \n",
    "    # Get the current batch of features.\n",
    "    features = data.get(\"features\", [])\n",
    "    if not features:\n",
    "        break\n",
    "\n",
    "    # Extract the attributes from the features.\n",
    "    batch_records = [feature.get(\"attributes\", {}) for feature in features]\n",
    "    records.extend(batch_records)\n",
    "    \n",
    "    # If the batch size is less than the requested count, we reached the end.\n",
    "    if len(features) < params[\"resultRecordCount\"]:\n",
    "        break\n",
    "\n",
    "    # Update the resultOffset for the next batch.\n",
    "    params[\"resultOffset\"] += params[\"resultRecordCount\"]\n",
    "\n",
    "# Create a DataFrame from the combined records.\n",
    "df = pd.DataFrame(records)\n",
    "print(\"Total records imported:\", len(df))\n"
   ]
  },
  {
   "cell_type": "code",
   "execution_count": 3,
   "id": "1c77a5d1",
   "metadata": {
    "execution": {
     "iopub.execute_input": "2025-05-05T01:05:37.330694Z",
     "iopub.status.busy": "2025-05-05T01:05:37.330063Z",
     "iopub.status.idle": "2025-05-05T01:05:37.342644Z",
     "shell.execute_reply": "2025-05-05T01:05:37.341957Z"
    },
    "papermill": {
     "duration": 0.045635,
     "end_time": "2025-05-05T01:05:37.343695",
     "exception": false,
     "start_time": "2025-05-05T01:05:37.298060",
     "status": "completed"
    },
    "tags": []
   },
   "outputs": [
    {
     "data": {
      "text/html": [
       "<div>\n",
       "<style scoped>\n",
       "    .dataframe tbody tr th:only-of-type {\n",
       "        vertical-align: middle;\n",
       "    }\n",
       "\n",
       "    .dataframe tbody tr th {\n",
       "        vertical-align: top;\n",
       "    }\n",
       "\n",
       "    .dataframe thead th {\n",
       "        text-align: right;\n",
       "    }\n",
       "</style>\n",
       "<table border=\"1\" class=\"dataframe\">\n",
       "  <thead>\n",
       "    <tr style=\"text-align: right;\">\n",
       "      <th></th>\n",
       "      <th>RecordID</th>\n",
       "      <th>Offense</th>\n",
       "      <th>IncidentID</th>\n",
       "      <th>BlockNumber</th>\n",
       "      <th>StreetName</th>\n",
       "      <th>Agency</th>\n",
       "      <th>DateReported</th>\n",
       "      <th>HourReported</th>\n",
       "      <th>ReportingOfficer</th>\n",
       "    </tr>\n",
       "  </thead>\n",
       "  <tbody>\n",
       "    <tr>\n",
       "      <th>0</th>\n",
       "      <td>1</td>\n",
       "      <td>Hit and Run</td>\n",
       "      <td>202500014631</td>\n",
       "      <td></td>\n",
       "      <td>W MAIN ST / 9TH ST SW</td>\n",
       "      <td>CPD</td>\n",
       "      <td>1746237398000</td>\n",
       "      <td>2156</td>\n",
       "      <td>Essex, Dominique</td>\n",
       "    </tr>\n",
       "    <tr>\n",
       "      <th>1</th>\n",
       "      <td>2</td>\n",
       "      <td>Lost/FoundProperty</td>\n",
       "      <td>202500014577</td>\n",
       "      <td>200</td>\n",
       "      <td>E WATER ST</td>\n",
       "      <td>CPD</td>\n",
       "      <td>1746216135000</td>\n",
       "      <td>1602</td>\n",
       "      <td>Reed, Danielle</td>\n",
       "    </tr>\n",
       "    <tr>\n",
       "      <th>2</th>\n",
       "      <td>3</td>\n",
       "      <td>Sex Offense - Forcible Rape</td>\n",
       "      <td>202500014557</td>\n",
       "      <td>900</td>\n",
       "      <td>BLENHEIM AVE</td>\n",
       "      <td>CPD</td>\n",
       "      <td>1746209470000</td>\n",
       "      <td>1411</td>\n",
       "      <td>Turner, Devon</td>\n",
       "    </tr>\n",
       "    <tr>\n",
       "      <th>3</th>\n",
       "      <td>4</td>\n",
       "      <td>Assist Citizen - Mental/TDO/ECO</td>\n",
       "      <td>202500014546</td>\n",
       "      <td></td>\n",
       "      <td>4TH ST SE / E MAIN ST</td>\n",
       "      <td>CPD</td>\n",
       "      <td>1746205246000</td>\n",
       "      <td>1300</td>\n",
       "      <td>Lucas, Todd</td>\n",
       "    </tr>\n",
       "    <tr>\n",
       "      <th>4</th>\n",
       "      <td>5</td>\n",
       "      <td>Larceny - Shoplifitng</td>\n",
       "      <td>202500014528</td>\n",
       "      <td>1100</td>\n",
       "      <td>5TH ST SW</td>\n",
       "      <td>CPD</td>\n",
       "      <td>1746197764000</td>\n",
       "      <td>1056</td>\n",
       "      <td>Turner, Devon</td>\n",
       "    </tr>\n",
       "  </tbody>\n",
       "</table>\n",
       "</div>"
      ],
      "text/plain": [
       "   RecordID                          Offense    IncidentID BlockNumber  \\\n",
       "0         1                      Hit and Run  202500014631               \n",
       "1         2               Lost/FoundProperty  202500014577         200   \n",
       "2         3      Sex Offense - Forcible Rape  202500014557         900   \n",
       "3         4  Assist Citizen - Mental/TDO/ECO  202500014546               \n",
       "4         5            Larceny - Shoplifitng  202500014528        1100   \n",
       "\n",
       "              StreetName Agency   DateReported HourReported  ReportingOfficer  \n",
       "0  W MAIN ST / 9TH ST SW    CPD  1746237398000         2156  Essex, Dominique  \n",
       "1             E WATER ST    CPD  1746216135000         1602    Reed, Danielle  \n",
       "2           BLENHEIM AVE    CPD  1746209470000         1411     Turner, Devon  \n",
       "3  4TH ST SE / E MAIN ST    CPD  1746205246000         1300       Lucas, Todd  \n",
       "4              5TH ST SW    CPD  1746197764000         1056     Turner, Devon  "
      ]
     },
     "execution_count": 3,
     "metadata": {},
     "output_type": "execute_result"
    }
   ],
   "source": [
    "df.head()"
   ]
  },
  {
   "cell_type": "code",
   "execution_count": 4,
   "id": "ef6bbafd",
   "metadata": {
    "execution": {
     "iopub.execute_input": "2025-05-05T01:05:37.355735Z",
     "iopub.status.busy": "2025-05-05T01:05:37.355236Z",
     "iopub.status.idle": "2025-05-05T01:05:37.359542Z",
     "shell.execute_reply": "2025-05-05T01:05:37.359018Z"
    },
    "papermill": {
     "duration": 0.011347,
     "end_time": "2025-05-05T01:05:37.360607",
     "exception": false,
     "start_time": "2025-05-05T01:05:37.349260",
     "status": "completed"
    },
    "tags": []
   },
   "outputs": [
    {
     "data": {
      "text/plain": [
       "Index(['RecordID', 'Offense', 'IncidentID', 'BlockNumber', 'StreetName',\n",
       "       'Agency', 'DateReported', 'HourReported', 'ReportingOfficer'],\n",
       "      dtype='object')"
      ]
     },
     "execution_count": 4,
     "metadata": {},
     "output_type": "execute_result"
    }
   ],
   "source": [
    "df.columns"
   ]
  },
  {
   "cell_type": "code",
   "execution_count": 5,
   "id": "45525aaf",
   "metadata": {
    "execution": {
     "iopub.execute_input": "2025-05-05T01:05:37.372654Z",
     "iopub.status.busy": "2025-05-05T01:05:37.372198Z",
     "iopub.status.idle": "2025-05-05T01:05:37.397477Z",
     "shell.execute_reply": "2025-05-05T01:05:37.396811Z"
    },
    "papermill": {
     "duration": 0.032291,
     "end_time": "2025-05-05T01:05:37.398469",
     "exception": false,
     "start_time": "2025-05-05T01:05:37.366178",
     "status": "completed"
    },
    "tags": []
   },
   "outputs": [
    {
     "name": "stdout",
     "output_type": "stream",
     "text": [
      "<class 'pandas.core.frame.DataFrame'>\n",
      "RangeIndex: 25330 entries, 0 to 25329\n",
      "Data columns (total 9 columns):\n",
      " #   Column            Non-Null Count  Dtype \n",
      "---  ------            --------------  ----- \n",
      " 0   RecordID          25330 non-null  int64 \n",
      " 1   Offense           25330 non-null  object\n",
      " 2   IncidentID        25330 non-null  object\n",
      " 3   BlockNumber       25330 non-null  object\n",
      " 4   StreetName        25330 non-null  object\n",
      " 5   Agency            25330 non-null  object\n",
      " 6   DateReported      25330 non-null  int64 \n",
      " 7   HourReported      25330 non-null  object\n",
      " 8   ReportingOfficer  25313 non-null  object\n",
      "dtypes: int64(2), object(7)\n",
      "memory usage: 1.7+ MB\n"
     ]
    }
   ],
   "source": [
    "df.info()"
   ]
  },
  {
   "cell_type": "markdown",
   "id": "80097be1",
   "metadata": {
    "papermill": {
     "duration": 0.005697,
     "end_time": "2025-05-05T01:05:37.410146",
     "exception": false,
     "start_time": "2025-05-05T01:05:37.404449",
     "status": "completed"
    },
    "tags": []
   },
   "source": [
    "### Missing Values"
   ]
  },
  {
   "cell_type": "code",
   "execution_count": 6,
   "id": "8ba96ef9",
   "metadata": {
    "execution": {
     "iopub.execute_input": "2025-05-05T01:05:37.423675Z",
     "iopub.status.busy": "2025-05-05T01:05:37.423183Z",
     "iopub.status.idle": "2025-05-05T01:05:37.449310Z",
     "shell.execute_reply": "2025-05-05T01:05:37.448723Z"
    },
    "papermill": {
     "duration": 0.033449,
     "end_time": "2025-05-05T01:05:37.450305",
     "exception": false,
     "start_time": "2025-05-05T01:05:37.416856",
     "status": "completed"
    },
    "tags": []
   },
   "outputs": [
    {
     "name": "stdout",
     "output_type": "stream",
     "text": [
      "                  MissingCount  MissingPercentage\n",
      "RecordID                     0               0.00\n",
      "Offense                      0               0.00\n",
      "IncidentID                   0               0.00\n",
      "BlockNumber                  0               0.00\n",
      "StreetName                   0               0.00\n",
      "Agency                       0               0.00\n",
      "DateReported                 0               0.00\n",
      "HourReported                 0               0.00\n",
      "ReportingOfficer            17               0.07\n"
     ]
    }
   ],
   "source": [
    "def missing_percentage(df):\n",
    "    \"\"\"\n",
    "    Returns a DataFrame with the count and percentage of missing values for each column.\n",
    "    \n",
    "    Parameters:\n",
    "        df (pd.DataFrame): The input DataFrame.\n",
    "    \n",
    "    Returns:\n",
    "        pd.DataFrame: A DataFrame with columns 'MissingCount' and 'MissingPercentage'.\n",
    "    \"\"\"\n",
    "    total_rows = len(df)\n",
    "    missing_count = df.isnull().sum()\n",
    "    missing_percent = (missing_count / total_rows) * 100\n",
    "    \n",
    "    result = pd.DataFrame({\n",
    "        'MissingCount': missing_count,\n",
    "        'MissingPercentage': missing_percent.round(2)\n",
    "    })\n",
    "    \n",
    "    return result\n",
    "\n",
    "# Example usage:\n",
    "missing_info = missing_percentage(df)\n",
    "print(missing_info)\n"
   ]
  },
  {
   "cell_type": "markdown",
   "id": "dfed16a8",
   "metadata": {
    "papermill": {
     "duration": 0.005597,
     "end_time": "2025-05-05T01:05:37.461872",
     "exception": false,
     "start_time": "2025-05-05T01:05:37.456275",
     "status": "completed"
    },
    "tags": []
   },
   "source": [
    "## Data Preparation"
   ]
  },
  {
   "cell_type": "markdown",
   "id": "cfa4b2cd",
   "metadata": {
    "papermill": {
     "duration": 0.005514,
     "end_time": "2025-05-05T01:05:37.473038",
     "exception": false,
     "start_time": "2025-05-05T01:05:37.467524",
     "status": "completed"
    },
    "tags": []
   },
   "source": [
    "### Data Conversion"
   ]
  },
  {
   "cell_type": "code",
   "execution_count": 7,
   "id": "2aaaadef",
   "metadata": {
    "execution": {
     "iopub.execute_input": "2025-05-05T01:05:37.485566Z",
     "iopub.status.busy": "2025-05-05T01:05:37.485298Z",
     "iopub.status.idle": "2025-05-05T01:05:37.853133Z",
     "shell.execute_reply": "2025-05-05T01:05:37.852427Z"
    },
    "papermill": {
     "duration": 0.375492,
     "end_time": "2025-05-05T01:05:37.854169",
     "exception": false,
     "start_time": "2025-05-05T01:05:37.478677",
     "status": "completed"
    },
    "tags": []
   },
   "outputs": [
    {
     "data": {
      "text/html": [
       "<div>\n",
       "<style scoped>\n",
       "    .dataframe tbody tr th:only-of-type {\n",
       "        vertical-align: middle;\n",
       "    }\n",
       "\n",
       "    .dataframe tbody tr th {\n",
       "        vertical-align: top;\n",
       "    }\n",
       "\n",
       "    .dataframe thead th {\n",
       "        text-align: right;\n",
       "    }\n",
       "</style>\n",
       "<table border=\"1\" class=\"dataframe\">\n",
       "  <thead>\n",
       "    <tr style=\"text-align: right;\">\n",
       "      <th></th>\n",
       "      <th>RecordID</th>\n",
       "      <th>Offense</th>\n",
       "      <th>IncidentID</th>\n",
       "      <th>BlockNumber</th>\n",
       "      <th>StreetName</th>\n",
       "      <th>Agency</th>\n",
       "      <th>HourReported</th>\n",
       "      <th>ReportingOfficer</th>\n",
       "      <th>Date</th>\n",
       "      <th>DateString</th>\n",
       "      <th>DayOfWeek</th>\n",
       "      <th>Weekend</th>\n",
       "      <th>Season</th>\n",
       "      <th>HourAMPM</th>\n",
       "      <th>TimeOfDay</th>\n",
       "    </tr>\n",
       "  </thead>\n",
       "  <tbody>\n",
       "    <tr>\n",
       "      <th>0</th>\n",
       "      <td>1</td>\n",
       "      <td>Hit and Run</td>\n",
       "      <td>202500014631</td>\n",
       "      <td></td>\n",
       "      <td>W MAIN ST / 9TH ST SW</td>\n",
       "      <td>CPD</td>\n",
       "      <td>2156</td>\n",
       "      <td>Essex, Dominique</td>\n",
       "      <td>2025-05-02 21:56:38</td>\n",
       "      <td>2025-05-02 09:56:38 PM</td>\n",
       "      <td>Friday</td>\n",
       "      <td>False</td>\n",
       "      <td>Spring</td>\n",
       "      <td>09:56 PM</td>\n",
       "      <td>Night</td>\n",
       "    </tr>\n",
       "    <tr>\n",
       "      <th>1</th>\n",
       "      <td>2</td>\n",
       "      <td>Lost/FoundProperty</td>\n",
       "      <td>202500014577</td>\n",
       "      <td>200</td>\n",
       "      <td>E WATER ST</td>\n",
       "      <td>CPD</td>\n",
       "      <td>1602</td>\n",
       "      <td>Reed, Danielle</td>\n",
       "      <td>2025-05-02 16:02:15</td>\n",
       "      <td>2025-05-02 04:02:15 PM</td>\n",
       "      <td>Friday</td>\n",
       "      <td>False</td>\n",
       "      <td>Spring</td>\n",
       "      <td>04:02 PM</td>\n",
       "      <td>Afternoon</td>\n",
       "    </tr>\n",
       "    <tr>\n",
       "      <th>2</th>\n",
       "      <td>3</td>\n",
       "      <td>Sex Offense - Forcible Rape</td>\n",
       "      <td>202500014557</td>\n",
       "      <td>900</td>\n",
       "      <td>BLENHEIM AVE</td>\n",
       "      <td>CPD</td>\n",
       "      <td>1411</td>\n",
       "      <td>Turner, Devon</td>\n",
       "      <td>2025-05-02 14:11:10</td>\n",
       "      <td>2025-05-02 02:11:10 PM</td>\n",
       "      <td>Friday</td>\n",
       "      <td>False</td>\n",
       "      <td>Spring</td>\n",
       "      <td>02:11 PM</td>\n",
       "      <td>Afternoon</td>\n",
       "    </tr>\n",
       "    <tr>\n",
       "      <th>3</th>\n",
       "      <td>4</td>\n",
       "      <td>Assist Citizen - Mental/TDO/ECO</td>\n",
       "      <td>202500014546</td>\n",
       "      <td></td>\n",
       "      <td>4TH ST SE / E MAIN ST</td>\n",
       "      <td>CPD</td>\n",
       "      <td>1300</td>\n",
       "      <td>Lucas, Todd</td>\n",
       "      <td>2025-05-02 13:00:46</td>\n",
       "      <td>2025-05-02 01:00:46 PM</td>\n",
       "      <td>Friday</td>\n",
       "      <td>False</td>\n",
       "      <td>Spring</td>\n",
       "      <td>01:00 PM</td>\n",
       "      <td>Afternoon</td>\n",
       "    </tr>\n",
       "    <tr>\n",
       "      <th>4</th>\n",
       "      <td>5</td>\n",
       "      <td>Larceny - Shoplifitng</td>\n",
       "      <td>202500014528</td>\n",
       "      <td>1100</td>\n",
       "      <td>5TH ST SW</td>\n",
       "      <td>CPD</td>\n",
       "      <td>1056</td>\n",
       "      <td>Turner, Devon</td>\n",
       "      <td>2025-05-02 10:56:04</td>\n",
       "      <td>2025-05-02 10:56:04 AM</td>\n",
       "      <td>Friday</td>\n",
       "      <td>False</td>\n",
       "      <td>Spring</td>\n",
       "      <td>10:56 AM</td>\n",
       "      <td>Morning</td>\n",
       "    </tr>\n",
       "  </tbody>\n",
       "</table>\n",
       "</div>"
      ],
      "text/plain": [
       "   RecordID                          Offense    IncidentID BlockNumber  \\\n",
       "0         1                      Hit and Run  202500014631               \n",
       "1         2               Lost/FoundProperty  202500014577         200   \n",
       "2         3      Sex Offense - Forcible Rape  202500014557         900   \n",
       "3         4  Assist Citizen - Mental/TDO/ECO  202500014546               \n",
       "4         5            Larceny - Shoplifitng  202500014528        1100   \n",
       "\n",
       "              StreetName Agency HourReported  ReportingOfficer  \\\n",
       "0  W MAIN ST / 9TH ST SW    CPD         2156  Essex, Dominique   \n",
       "1             E WATER ST    CPD         1602    Reed, Danielle   \n",
       "2           BLENHEIM AVE    CPD         1411     Turner, Devon   \n",
       "3  4TH ST SE / E MAIN ST    CPD         1300       Lucas, Todd   \n",
       "4              5TH ST SW    CPD         1056     Turner, Devon   \n",
       "\n",
       "                 Date              DateString DayOfWeek  Weekend  Season  \\\n",
       "0 2025-05-02 21:56:38  2025-05-02 09:56:38 PM    Friday    False  Spring   \n",
       "1 2025-05-02 16:02:15  2025-05-02 04:02:15 PM    Friday    False  Spring   \n",
       "2 2025-05-02 14:11:10  2025-05-02 02:11:10 PM    Friday    False  Spring   \n",
       "3 2025-05-02 13:00:46  2025-05-02 01:00:46 PM    Friday    False  Spring   \n",
       "4 2025-05-02 10:56:04  2025-05-02 10:56:04 AM    Friday    False  Spring   \n",
       "\n",
       "   HourAMPM  TimeOfDay  \n",
       "0  09:56 PM      Night  \n",
       "1  04:02 PM  Afternoon  \n",
       "2  02:11 PM  Afternoon  \n",
       "3  01:00 PM  Afternoon  \n",
       "4  10:56 AM    Morning  "
      ]
     },
     "execution_count": 7,
     "metadata": {},
     "output_type": "execute_result"
    }
   ],
   "source": [
    "def convert_and_categorize_datereported(df, col='DateReported'):\n",
    "    \"\"\"\n",
    "    Converts an epoch (in milliseconds) date column into a timezone-aware datetime,\n",
    "    converts it to Eastern Time, and then creates columns for day-of-week, weekend flag,\n",
    "    season, 12-hour formatted time, and time-of-day. Keeps both a real datetime column\n",
    "    (Date) and a string representation (DateString).\n",
    "    \"\"\"\n",
    "    import pandas as pd\n",
    "\n",
    "    # Convert the epoch timestamp to a pandas datetime object as UTC, then convert to US/Eastern.\n",
    "    df[\"DateReported_dt\"] = (\n",
    "        pd.to_datetime(df[col], unit=\"ms\", errors=\"coerce\", utc=True)\n",
    "        .dt.tz_convert(\"US/Eastern\")\n",
    "    )\n",
    "    \n",
    "    # Create a true datetime column (remove timezone if you prefer naive datetime)\n",
    "    df[\"Date\"] = df[\"DateReported_dt\"].dt.tz_localize(None)\n",
    "\n",
    "    # Optionally, create a separate string-formatted column\n",
    "    df[\"DateString\"] = df[\"DateReported_dt\"].dt.strftime(\"%Y-%m-%d %I:%M:%S %p\")\n",
    "    \n",
    "    # DayOfWeek\n",
    "    df[\"DayOfWeek\"] = df[\"DateReported_dt\"].dt.day_name()\n",
    "    \n",
    "    # Weekend\n",
    "    df[\"Weekend\"] = df[\"DayOfWeek\"].isin([\"Saturday\", \"Sunday\"])\n",
    "    \n",
    "    # Helper function to determine the season\n",
    "    def get_season(dt):\n",
    "        month = dt.month\n",
    "        day = dt.day\n",
    "        # Approximate Northern Hemisphere season boundaries:\n",
    "        if (month == 12 and day >= 21) or (month < 3) or (month == 3 and day < 20):\n",
    "            return \"Winter\"\n",
    "        elif (month == 3 and day >= 20) or (month < 6) or (month == 6 and day < 21):\n",
    "            return \"Spring\"\n",
    "        elif (month == 6 and day >= 21) or (month < 9) or (month == 9 and day < 22):\n",
    "            return \"Summer\"\n",
    "        else:\n",
    "            return \"Autumn\"\n",
    "    \n",
    "    df[\"Season\"] = df[\"DateReported_dt\"].apply(get_season)\n",
    "    \n",
    "    # 12-hour formatted time (HourAMPM)\n",
    "    df[\"HourAMPM\"] = df[\"DateReported_dt\"].dt.strftime(\"%I:%M %p\")\n",
    "    \n",
    "    # Extract hour (0-23) for time-of-day\n",
    "    df[\"HourValue\"] = df[\"DateReported_dt\"].dt.hour\n",
    "    \n",
    "    def time_of_day(hour):\n",
    "        if pd.isnull(hour):\n",
    "            return None\n",
    "        if 5 <= hour < 12:\n",
    "            return \"Morning\"\n",
    "        elif 12 <= hour < 17:\n",
    "            return \"Afternoon\"\n",
    "        elif 17 <= hour < 21:\n",
    "            return \"Evening\"\n",
    "        else:\n",
    "            return \"Night\"\n",
    "    \n",
    "    df[\"TimeOfDay\"] = df[\"HourValue\"].apply(time_of_day)\n",
    "    \n",
    "    # Drop columns you no longer need\n",
    "    df.drop(columns=[col, \"DateReported_dt\", \"HourValue\"], inplace=True)\n",
    "    \n",
    "    return df\n",
    "\n",
    "# Example usage:\n",
    "df = convert_and_categorize_datereported(df)\n",
    "df.head()\n"
   ]
  },
  {
   "cell_type": "code",
   "execution_count": 8,
   "id": "4634abd3",
   "metadata": {
    "execution": {
     "iopub.execute_input": "2025-05-05T01:05:37.867498Z",
     "iopub.status.busy": "2025-05-05T01:05:37.867083Z",
     "iopub.status.idle": "2025-05-05T01:05:37.896797Z",
     "shell.execute_reply": "2025-05-05T01:05:37.896091Z"
    },
    "papermill": {
     "duration": 0.037423,
     "end_time": "2025-05-05T01:05:37.897956",
     "exception": false,
     "start_time": "2025-05-05T01:05:37.860533",
     "status": "completed"
    },
    "tags": []
   },
   "outputs": [
    {
     "name": "stdout",
     "output_type": "stream",
     "text": [
      "<class 'pandas.core.frame.DataFrame'>\n",
      "RangeIndex: 25330 entries, 0 to 25329\n",
      "Data columns (total 15 columns):\n",
      " #   Column            Non-Null Count  Dtype         \n",
      "---  ------            --------------  -----         \n",
      " 0   RecordID          25330 non-null  int64         \n",
      " 1   Offense           25330 non-null  object        \n",
      " 2   IncidentID        25330 non-null  object        \n",
      " 3   BlockNumber       25330 non-null  object        \n",
      " 4   StreetName        25330 non-null  object        \n",
      " 5   Agency            25330 non-null  object        \n",
      " 6   HourReported      25330 non-null  object        \n",
      " 7   ReportingOfficer  25313 non-null  object        \n",
      " 8   Date              25330 non-null  datetime64[ns]\n",
      " 9   DateString        25330 non-null  object        \n",
      " 10  DayOfWeek         25330 non-null  object        \n",
      " 11  Weekend           25330 non-null  bool          \n",
      " 12  Season            25330 non-null  object        \n",
      " 13  HourAMPM          25330 non-null  object        \n",
      " 14  TimeOfDay         25330 non-null  object        \n",
      "dtypes: bool(1), datetime64[ns](1), int64(1), object(12)\n",
      "memory usage: 2.7+ MB\n"
     ]
    }
   ],
   "source": [
    "df.info()"
   ]
  },
  {
   "cell_type": "markdown",
   "id": "9829373e",
   "metadata": {
    "papermill": {
     "duration": 0.005986,
     "end_time": "2025-05-05T01:05:37.910310",
     "exception": false,
     "start_time": "2025-05-05T01:05:37.904324",
     "status": "completed"
    },
    "tags": []
   },
   "source": [
    "### Coordinates"
   ]
  },
  {
   "cell_type": "code",
   "execution_count": 9,
   "id": "42b2b6a2",
   "metadata": {
    "execution": {
     "iopub.execute_input": "2025-05-05T01:05:37.923767Z",
     "iopub.status.busy": "2025-05-05T01:05:37.923145Z",
     "iopub.status.idle": "2025-05-05T01:05:37.968940Z",
     "shell.execute_reply": "2025-05-05T01:05:37.968331Z"
    },
    "papermill": {
     "duration": 0.053668,
     "end_time": "2025-05-05T01:05:37.969981",
     "exception": false,
     "start_time": "2025-05-05T01:05:37.916313",
     "status": "completed"
    },
    "tags": []
   },
   "outputs": [
    {
     "name": "stdout",
     "output_type": "stream",
     "text": [
      "Loaded geocode cache.\n",
      "Geocode cache updated and saved.\n"
     ]
    },
    {
     "data": {
      "text/html": [
       "<div>\n",
       "<style scoped>\n",
       "    .dataframe tbody tr th:only-of-type {\n",
       "        vertical-align: middle;\n",
       "    }\n",
       "\n",
       "    .dataframe tbody tr th {\n",
       "        vertical-align: top;\n",
       "    }\n",
       "\n",
       "    .dataframe thead th {\n",
       "        text-align: right;\n",
       "    }\n",
       "</style>\n",
       "<table border=\"1\" class=\"dataframe\">\n",
       "  <thead>\n",
       "    <tr style=\"text-align: right;\">\n",
       "      <th></th>\n",
       "      <th>RecordID</th>\n",
       "      <th>Offense</th>\n",
       "      <th>IncidentID</th>\n",
       "      <th>BlockNumber</th>\n",
       "      <th>StreetName</th>\n",
       "      <th>Agency</th>\n",
       "      <th>HourReported</th>\n",
       "      <th>ReportingOfficer</th>\n",
       "      <th>Date</th>\n",
       "      <th>DateString</th>\n",
       "      <th>DayOfWeek</th>\n",
       "      <th>Weekend</th>\n",
       "      <th>Season</th>\n",
       "      <th>HourAMPM</th>\n",
       "      <th>TimeOfDay</th>\n",
       "      <th>FullStreet</th>\n",
       "      <th>lat</th>\n",
       "      <th>lon</th>\n",
       "    </tr>\n",
       "  </thead>\n",
       "  <tbody>\n",
       "    <tr>\n",
       "      <th>0</th>\n",
       "      <td>1</td>\n",
       "      <td>Hit and Run</td>\n",
       "      <td>202500014631</td>\n",
       "      <td></td>\n",
       "      <td>W MAIN ST / 9TH ST SW</td>\n",
       "      <td>CPD</td>\n",
       "      <td>2156</td>\n",
       "      <td>Essex, Dominique</td>\n",
       "      <td>2025-05-02 21:56:38</td>\n",
       "      <td>2025-05-02 09:56:38 PM</td>\n",
       "      <td>Friday</td>\n",
       "      <td>False</td>\n",
       "      <td>Spring</td>\n",
       "      <td>09:56 PM</td>\n",
       "      <td>Night</td>\n",
       "      <td>W MAIN ST / 9TH ST SW</td>\n",
       "      <td>38.032400</td>\n",
       "      <td>-78.493849</td>\n",
       "    </tr>\n",
       "    <tr>\n",
       "      <th>1</th>\n",
       "      <td>2</td>\n",
       "      <td>Lost/FoundProperty</td>\n",
       "      <td>202500014577</td>\n",
       "      <td>200</td>\n",
       "      <td>E WATER ST</td>\n",
       "      <td>CPD</td>\n",
       "      <td>1602</td>\n",
       "      <td>Reed, Danielle</td>\n",
       "      <td>2025-05-02 16:02:15</td>\n",
       "      <td>2025-05-02 04:02:15 PM</td>\n",
       "      <td>Friday</td>\n",
       "      <td>False</td>\n",
       "      <td>Spring</td>\n",
       "      <td>04:02 PM</td>\n",
       "      <td>Afternoon</td>\n",
       "      <td>200 E WATER ST</td>\n",
       "      <td>38.029430</td>\n",
       "      <td>-78.481109</td>\n",
       "    </tr>\n",
       "    <tr>\n",
       "      <th>2</th>\n",
       "      <td>3</td>\n",
       "      <td>Sex Offense - Forcible Rape</td>\n",
       "      <td>202500014557</td>\n",
       "      <td>900</td>\n",
       "      <td>BLENHEIM AVE</td>\n",
       "      <td>CPD</td>\n",
       "      <td>1411</td>\n",
       "      <td>Turner, Devon</td>\n",
       "      <td>2025-05-02 14:11:10</td>\n",
       "      <td>2025-05-02 02:11:10 PM</td>\n",
       "      <td>Friday</td>\n",
       "      <td>False</td>\n",
       "      <td>Spring</td>\n",
       "      <td>02:11 PM</td>\n",
       "      <td>Afternoon</td>\n",
       "      <td>900 BLENHEIM AVE</td>\n",
       "      <td>38.021093</td>\n",
       "      <td>-78.477064</td>\n",
       "    </tr>\n",
       "    <tr>\n",
       "      <th>3</th>\n",
       "      <td>4</td>\n",
       "      <td>Assist Citizen - Mental/TDO/ECO</td>\n",
       "      <td>202500014546</td>\n",
       "      <td></td>\n",
       "      <td>4TH ST SE / E MAIN ST</td>\n",
       "      <td>CPD</td>\n",
       "      <td>1300</td>\n",
       "      <td>Lucas, Todd</td>\n",
       "      <td>2025-05-02 13:00:46</td>\n",
       "      <td>2025-05-02 01:00:46 PM</td>\n",
       "      <td>Friday</td>\n",
       "      <td>False</td>\n",
       "      <td>Spring</td>\n",
       "      <td>01:00 PM</td>\n",
       "      <td>Afternoon</td>\n",
       "      <td>4TH ST SE / E MAIN ST</td>\n",
       "      <td>38.030075</td>\n",
       "      <td>-78.479238</td>\n",
       "    </tr>\n",
       "    <tr>\n",
       "      <th>4</th>\n",
       "      <td>5</td>\n",
       "      <td>Larceny - Shoplifitng</td>\n",
       "      <td>202500014528</td>\n",
       "      <td>1100</td>\n",
       "      <td>5TH ST SW</td>\n",
       "      <td>CPD</td>\n",
       "      <td>1056</td>\n",
       "      <td>Turner, Devon</td>\n",
       "      <td>2025-05-02 10:56:04</td>\n",
       "      <td>2025-05-02 10:56:04 AM</td>\n",
       "      <td>Friday</td>\n",
       "      <td>False</td>\n",
       "      <td>Spring</td>\n",
       "      <td>10:56 AM</td>\n",
       "      <td>Morning</td>\n",
       "      <td>1100 5TH ST SW</td>\n",
       "      <td>38.017130</td>\n",
       "      <td>-78.497806</td>\n",
       "    </tr>\n",
       "  </tbody>\n",
       "</table>\n",
       "</div>"
      ],
      "text/plain": [
       "   RecordID                          Offense    IncidentID BlockNumber  \\\n",
       "0         1                      Hit and Run  202500014631               \n",
       "1         2               Lost/FoundProperty  202500014577         200   \n",
       "2         3      Sex Offense - Forcible Rape  202500014557         900   \n",
       "3         4  Assist Citizen - Mental/TDO/ECO  202500014546               \n",
       "4         5            Larceny - Shoplifitng  202500014528        1100   \n",
       "\n",
       "              StreetName Agency HourReported  ReportingOfficer  \\\n",
       "0  W MAIN ST / 9TH ST SW    CPD         2156  Essex, Dominique   \n",
       "1             E WATER ST    CPD         1602    Reed, Danielle   \n",
       "2           BLENHEIM AVE    CPD         1411     Turner, Devon   \n",
       "3  4TH ST SE / E MAIN ST    CPD         1300       Lucas, Todd   \n",
       "4              5TH ST SW    CPD         1056     Turner, Devon   \n",
       "\n",
       "                 Date              DateString DayOfWeek  Weekend  Season  \\\n",
       "0 2025-05-02 21:56:38  2025-05-02 09:56:38 PM    Friday    False  Spring   \n",
       "1 2025-05-02 16:02:15  2025-05-02 04:02:15 PM    Friday    False  Spring   \n",
       "2 2025-05-02 14:11:10  2025-05-02 02:11:10 PM    Friday    False  Spring   \n",
       "3 2025-05-02 13:00:46  2025-05-02 01:00:46 PM    Friday    False  Spring   \n",
       "4 2025-05-02 10:56:04  2025-05-02 10:56:04 AM    Friday    False  Spring   \n",
       "\n",
       "   HourAMPM  TimeOfDay              FullStreet        lat        lon  \n",
       "0  09:56 PM      Night   W MAIN ST / 9TH ST SW  38.032400 -78.493849  \n",
       "1  04:02 PM  Afternoon          200 E WATER ST  38.029430 -78.481109  \n",
       "2  02:11 PM  Afternoon        900 BLENHEIM AVE  38.021093 -78.477064  \n",
       "3  01:00 PM  Afternoon   4TH ST SE / E MAIN ST  38.030075 -78.479238  \n",
       "4  10:56 AM    Morning          1100 5TH ST SW  38.017130 -78.497806  "
      ]
     },
     "execution_count": 9,
     "metadata": {},
     "output_type": "execute_result"
    }
   ],
   "source": [
    "# Combine BlockNumber and StreetName into a full address string\n",
    "df['FullStreet'] = df['BlockNumber'].astype(str) + \" \" + df['StreetName']\n",
    "\n",
    "# --- Step 1: Setup the Google Maps Client and Cache ---\n",
    "gmaps = googlemaps.Client(key=GOOGLE_API_KEY)\n",
    "\n",
    "# Try to load cached geocoding results if available.\n",
    "try:\n",
    "    with open(\"geocode_cache_google.pkl\", \"rb\") as f:\n",
    "        street_coords = pickle.load(f)\n",
    "    print(\"Loaded geocode cache.\")\n",
    "except FileNotFoundError:\n",
    "    street_coords = {}\n",
    "    print(\"No cache found; starting fresh.\")\n",
    "\n",
    "def geocode_address(address):\n",
    "    try:\n",
    "        # Append city and state to help geocoding\n",
    "        result = gmaps.geocode(f\"{address}, Charlottesville, VA\")\n",
    "        if result:\n",
    "            lat = result[0]['geometry']['location']['lat']\n",
    "            lon = result[0]['geometry']['location']['lng']\n",
    "            return lat, lon\n",
    "    except Exception as e:\n",
    "        print(f\"Error geocoding {address}: {e}\")\n",
    "    return None, None\n",
    "\n",
    "# --- Step 2: Geocode Only New Addresses ---\n",
    "unique_addresses = df['FullStreet'].unique()\n",
    "for address in unique_addresses:\n",
    "    if address not in street_coords:\n",
    "        lat, lon = geocode_address(address)\n",
    "        street_coords[address] = (lat, lon)\n",
    "        print(f\"Geocoded {address}: {lat}, {lon}\")\n",
    "\n",
    "# Save the updated cache to disk.\n",
    "with open(\"geocode_cache_google.pkl\", \"wb\") as f:\n",
    "    pickle.dump(street_coords, f)\n",
    "    print(\"Geocode cache updated and saved.\")\n",
    "\n",
    "# --- Step 3: Map Coordinates Back to DataFrame ---\n",
    "df['lat'] = df['FullStreet'].map(lambda s: street_coords.get(s, (None, None))[0])\n",
    "df['lon'] = df['FullStreet'].map(lambda s: street_coords.get(s, (None, None))[1])\n",
    "\n",
    "df.head()"
   ]
  },
  {
   "cell_type": "markdown",
   "id": "d0296aa1",
   "metadata": {
    "papermill": {
     "duration": 0.006223,
     "end_time": "2025-05-05T01:05:37.982919",
     "exception": false,
     "start_time": "2025-05-05T01:05:37.976696",
     "status": "completed"
    },
    "tags": []
   },
   "source": [
    "### Neighborhood"
   ]
  },
  {
   "cell_type": "code",
   "execution_count": 10,
   "id": "634f2b4e",
   "metadata": {
    "execution": {
     "iopub.execute_input": "2025-05-05T01:05:37.996683Z",
     "iopub.status.busy": "2025-05-05T01:05:37.996183Z",
     "iopub.status.idle": "2025-05-05T01:05:38.264479Z",
     "shell.execute_reply": "2025-05-05T01:05:38.263785Z"
    },
    "papermill": {
     "duration": 0.276533,
     "end_time": "2025-05-05T01:05:38.265699",
     "exception": false,
     "start_time": "2025-05-05T01:05:37.989166",
     "status": "completed"
    },
    "tags": []
   },
   "outputs": [
    {
     "name": "stdout",
     "output_type": "stream",
     "text": [
      "Loaded neighborhood cache.\n"
     ]
    },
    {
     "data": {
      "text/html": [
       "<div>\n",
       "<style scoped>\n",
       "    .dataframe tbody tr th:only-of-type {\n",
       "        vertical-align: middle;\n",
       "    }\n",
       "\n",
       "    .dataframe tbody tr th {\n",
       "        vertical-align: top;\n",
       "    }\n",
       "\n",
       "    .dataframe thead th {\n",
       "        text-align: right;\n",
       "    }\n",
       "</style>\n",
       "<table border=\"1\" class=\"dataframe\">\n",
       "  <thead>\n",
       "    <tr style=\"text-align: right;\">\n",
       "      <th></th>\n",
       "      <th>RecordID</th>\n",
       "      <th>Offense</th>\n",
       "      <th>IncidentID</th>\n",
       "      <th>BlockNumber</th>\n",
       "      <th>StreetName</th>\n",
       "      <th>Agency</th>\n",
       "      <th>HourReported</th>\n",
       "      <th>ReportingOfficer</th>\n",
       "      <th>Date</th>\n",
       "      <th>DateString</th>\n",
       "      <th>DayOfWeek</th>\n",
       "      <th>Weekend</th>\n",
       "      <th>Season</th>\n",
       "      <th>HourAMPM</th>\n",
       "      <th>TimeOfDay</th>\n",
       "      <th>FullStreet</th>\n",
       "      <th>lat</th>\n",
       "      <th>lon</th>\n",
       "      <th>neighborhood</th>\n",
       "    </tr>\n",
       "  </thead>\n",
       "  <tbody>\n",
       "    <tr>\n",
       "      <th>0</th>\n",
       "      <td>1</td>\n",
       "      <td>Hit and Run</td>\n",
       "      <td>202500014631</td>\n",
       "      <td></td>\n",
       "      <td>W MAIN ST / 9TH ST SW</td>\n",
       "      <td>CPD</td>\n",
       "      <td>2156</td>\n",
       "      <td>Essex, Dominique</td>\n",
       "      <td>2025-05-02 21:56:38</td>\n",
       "      <td>2025-05-02 09:56:38 PM</td>\n",
       "      <td>Friday</td>\n",
       "      <td>False</td>\n",
       "      <td>Spring</td>\n",
       "      <td>09:56 PM</td>\n",
       "      <td>Night</td>\n",
       "      <td>W MAIN ST / 9TH ST SW</td>\n",
       "      <td>38.032400</td>\n",
       "      <td>-78.493849</td>\n",
       "      <td>10th &amp; Page</td>\n",
       "    </tr>\n",
       "    <tr>\n",
       "      <th>1</th>\n",
       "      <td>2</td>\n",
       "      <td>Lost/FoundProperty</td>\n",
       "      <td>202500014577</td>\n",
       "      <td>200</td>\n",
       "      <td>E WATER ST</td>\n",
       "      <td>CPD</td>\n",
       "      <td>1602</td>\n",
       "      <td>Reed, Danielle</td>\n",
       "      <td>2025-05-02 16:02:15</td>\n",
       "      <td>2025-05-02 04:02:15 PM</td>\n",
       "      <td>Friday</td>\n",
       "      <td>False</td>\n",
       "      <td>Spring</td>\n",
       "      <td>04:02 PM</td>\n",
       "      <td>Afternoon</td>\n",
       "      <td>200 E WATER ST</td>\n",
       "      <td>38.029430</td>\n",
       "      <td>-78.481109</td>\n",
       "      <td>North Downtown</td>\n",
       "    </tr>\n",
       "    <tr>\n",
       "      <th>2</th>\n",
       "      <td>3</td>\n",
       "      <td>Sex Offense - Forcible Rape</td>\n",
       "      <td>202500014557</td>\n",
       "      <td>900</td>\n",
       "      <td>BLENHEIM AVE</td>\n",
       "      <td>CPD</td>\n",
       "      <td>1411</td>\n",
       "      <td>Turner, Devon</td>\n",
       "      <td>2025-05-02 14:11:10</td>\n",
       "      <td>2025-05-02 02:11:10 PM</td>\n",
       "      <td>Friday</td>\n",
       "      <td>False</td>\n",
       "      <td>Spring</td>\n",
       "      <td>02:11 PM</td>\n",
       "      <td>Afternoon</td>\n",
       "      <td>900 BLENHEIM AVE</td>\n",
       "      <td>38.021093</td>\n",
       "      <td>-78.477064</td>\n",
       "      <td>Belmont</td>\n",
       "    </tr>\n",
       "    <tr>\n",
       "      <th>3</th>\n",
       "      <td>4</td>\n",
       "      <td>Assist Citizen - Mental/TDO/ECO</td>\n",
       "      <td>202500014546</td>\n",
       "      <td></td>\n",
       "      <td>4TH ST SE / E MAIN ST</td>\n",
       "      <td>CPD</td>\n",
       "      <td>1300</td>\n",
       "      <td>Lucas, Todd</td>\n",
       "      <td>2025-05-02 13:00:46</td>\n",
       "      <td>2025-05-02 01:00:46 PM</td>\n",
       "      <td>Friday</td>\n",
       "      <td>False</td>\n",
       "      <td>Spring</td>\n",
       "      <td>01:00 PM</td>\n",
       "      <td>Afternoon</td>\n",
       "      <td>4TH ST SE / E MAIN ST</td>\n",
       "      <td>38.030075</td>\n",
       "      <td>-78.479238</td>\n",
       "      <td>Downtown Mall</td>\n",
       "    </tr>\n",
       "    <tr>\n",
       "      <th>4</th>\n",
       "      <td>5</td>\n",
       "      <td>Larceny - Shoplifitng</td>\n",
       "      <td>202500014528</td>\n",
       "      <td>1100</td>\n",
       "      <td>5TH ST SW</td>\n",
       "      <td>CPD</td>\n",
       "      <td>1056</td>\n",
       "      <td>Turner, Devon</td>\n",
       "      <td>2025-05-02 10:56:04</td>\n",
       "      <td>2025-05-02 10:56:04 AM</td>\n",
       "      <td>Friday</td>\n",
       "      <td>False</td>\n",
       "      <td>Spring</td>\n",
       "      <td>10:56 AM</td>\n",
       "      <td>Morning</td>\n",
       "      <td>1100 5TH ST SW</td>\n",
       "      <td>38.017130</td>\n",
       "      <td>-78.497806</td>\n",
       "      <td>Johnson Village</td>\n",
       "    </tr>\n",
       "  </tbody>\n",
       "</table>\n",
       "</div>"
      ],
      "text/plain": [
       "   RecordID                          Offense    IncidentID BlockNumber  \\\n",
       "0         1                      Hit and Run  202500014631               \n",
       "1         2               Lost/FoundProperty  202500014577         200   \n",
       "2         3      Sex Offense - Forcible Rape  202500014557         900   \n",
       "3         4  Assist Citizen - Mental/TDO/ECO  202500014546               \n",
       "4         5            Larceny - Shoplifitng  202500014528        1100   \n",
       "\n",
       "              StreetName Agency HourReported  ReportingOfficer  \\\n",
       "0  W MAIN ST / 9TH ST SW    CPD         2156  Essex, Dominique   \n",
       "1             E WATER ST    CPD         1602    Reed, Danielle   \n",
       "2           BLENHEIM AVE    CPD         1411     Turner, Devon   \n",
       "3  4TH ST SE / E MAIN ST    CPD         1300       Lucas, Todd   \n",
       "4              5TH ST SW    CPD         1056     Turner, Devon   \n",
       "\n",
       "                 Date              DateString DayOfWeek  Weekend  Season  \\\n",
       "0 2025-05-02 21:56:38  2025-05-02 09:56:38 PM    Friday    False  Spring   \n",
       "1 2025-05-02 16:02:15  2025-05-02 04:02:15 PM    Friday    False  Spring   \n",
       "2 2025-05-02 14:11:10  2025-05-02 02:11:10 PM    Friday    False  Spring   \n",
       "3 2025-05-02 13:00:46  2025-05-02 01:00:46 PM    Friday    False  Spring   \n",
       "4 2025-05-02 10:56:04  2025-05-02 10:56:04 AM    Friday    False  Spring   \n",
       "\n",
       "   HourAMPM  TimeOfDay              FullStreet        lat        lon  \\\n",
       "0  09:56 PM      Night   W MAIN ST / 9TH ST SW  38.032400 -78.493849   \n",
       "1  04:02 PM  Afternoon          200 E WATER ST  38.029430 -78.481109   \n",
       "2  02:11 PM  Afternoon        900 BLENHEIM AVE  38.021093 -78.477064   \n",
       "3  01:00 PM  Afternoon   4TH ST SE / E MAIN ST  38.030075 -78.479238   \n",
       "4  10:56 AM    Morning          1100 5TH ST SW  38.017130 -78.497806   \n",
       "\n",
       "      neighborhood  \n",
       "0      10th & Page  \n",
       "1   North Downtown  \n",
       "2          Belmont  \n",
       "3    Downtown Mall  \n",
       "4  Johnson Village  "
      ]
     },
     "execution_count": 10,
     "metadata": {},
     "output_type": "execute_result"
    }
   ],
   "source": [
    "# Initialize the Google Maps client.\n",
    "gmaps = googlemaps.Client(key=GOOGLE_API_KEY)\n",
    "\n",
    "# Try to load a persistent neighborhood cache if available.\n",
    "try:\n",
    "    with open(\"neighborhood_cache.pkl\", \"rb\") as f:\n",
    "        neighborhood_cache = pickle.load(f)\n",
    "    print(\"Loaded neighborhood cache.\")\n",
    "except FileNotFoundError:\n",
    "    neighborhood_cache = {}\n",
    "    print(\"No neighborhood cache found; starting fresh.\")\n",
    "\n",
    "def get_neighborhood(lat, lon):\n",
    "    \"\"\"\n",
    "    Reverse geocodes a latitude and longitude to retrieve the neighborhood.\n",
    "    Caches results to speed up subsequent lookups.\n",
    "    \"\"\"\n",
    "    key = (lat, lon)\n",
    "    if key in neighborhood_cache:\n",
    "        return neighborhood_cache[key]\n",
    "    \n",
    "    try:\n",
    "        result = gmaps.reverse_geocode((lat, lon))\n",
    "        if result:\n",
    "            # Look for the 'neighborhood' component in the first result.\n",
    "            for component in result[0]['address_components']:\n",
    "                if 'neighborhood' in component['types']:\n",
    "                    neighborhood = component['long_name']\n",
    "                    neighborhood_cache[key] = neighborhood\n",
    "                    return neighborhood\n",
    "            # If no neighborhood is found, return \"N/A\"\n",
    "            neighborhood_cache[key] = \"N/A\"\n",
    "            return \"N/A\"\n",
    "    except Exception as e:\n",
    "        print(f\"Error getting neighborhood for {lat}, {lon}: {e}\")\n",
    "        return \"N/A\"\n",
    "    \n",
    "    # Pause to respect usage limits.\n",
    "    time.sleep(1)\n",
    "\n",
    "# Example usage: Apply to your DataFrame 'df' that already has 'lat' and 'lon' columns.\n",
    "df['neighborhood'] = df.apply(lambda row: get_neighborhood(row['lat'], row['lon']), axis=1)\n",
    "\n",
    "# Save the updated neighborhood cache.\n",
    "with open(\"neighborhood_cache.pkl\", \"wb\") as f:\n",
    "    pickle.dump(neighborhood_cache, f)\n",
    "\n",
    "df.head()\n"
   ]
  },
  {
   "cell_type": "markdown",
   "id": "e1462ce2",
   "metadata": {
    "papermill": {
     "duration": 0.006408,
     "end_time": "2025-05-05T01:05:38.279167",
     "exception": false,
     "start_time": "2025-05-05T01:05:38.272759",
     "status": "completed"
    },
    "tags": []
   },
   "source": [
    "### Zip"
   ]
  },
  {
   "cell_type": "code",
   "execution_count": 11,
   "id": "45b454aa",
   "metadata": {
    "execution": {
     "iopub.execute_input": "2025-05-05T01:05:38.293483Z",
     "iopub.status.busy": "2025-05-05T01:05:38.292868Z",
     "iopub.status.idle": "2025-05-05T01:05:38.537298Z",
     "shell.execute_reply": "2025-05-05T01:05:38.536700Z"
    },
    "papermill": {
     "duration": 0.252691,
     "end_time": "2025-05-05T01:05:38.538363",
     "exception": false,
     "start_time": "2025-05-05T01:05:38.285672",
     "status": "completed"
    },
    "tags": []
   },
   "outputs": [
    {
     "name": "stdout",
     "output_type": "stream",
     "text": [
      "Loaded zip cache.\n"
     ]
    },
    {
     "data": {
      "text/html": [
       "<div>\n",
       "<style scoped>\n",
       "    .dataframe tbody tr th:only-of-type {\n",
       "        vertical-align: middle;\n",
       "    }\n",
       "\n",
       "    .dataframe tbody tr th {\n",
       "        vertical-align: top;\n",
       "    }\n",
       "\n",
       "    .dataframe thead th {\n",
       "        text-align: right;\n",
       "    }\n",
       "</style>\n",
       "<table border=\"1\" class=\"dataframe\">\n",
       "  <thead>\n",
       "    <tr style=\"text-align: right;\">\n",
       "      <th></th>\n",
       "      <th>RecordID</th>\n",
       "      <th>Offense</th>\n",
       "      <th>IncidentID</th>\n",
       "      <th>BlockNumber</th>\n",
       "      <th>StreetName</th>\n",
       "      <th>Agency</th>\n",
       "      <th>HourReported</th>\n",
       "      <th>ReportingOfficer</th>\n",
       "      <th>Date</th>\n",
       "      <th>DateString</th>\n",
       "      <th>DayOfWeek</th>\n",
       "      <th>Weekend</th>\n",
       "      <th>Season</th>\n",
       "      <th>HourAMPM</th>\n",
       "      <th>TimeOfDay</th>\n",
       "      <th>FullStreet</th>\n",
       "      <th>lat</th>\n",
       "      <th>lon</th>\n",
       "      <th>neighborhood</th>\n",
       "      <th>zip</th>\n",
       "    </tr>\n",
       "  </thead>\n",
       "  <tbody>\n",
       "    <tr>\n",
       "      <th>0</th>\n",
       "      <td>1</td>\n",
       "      <td>Hit and Run</td>\n",
       "      <td>202500014631</td>\n",
       "      <td></td>\n",
       "      <td>W MAIN ST / 9TH ST SW</td>\n",
       "      <td>CPD</td>\n",
       "      <td>2156</td>\n",
       "      <td>Essex, Dominique</td>\n",
       "      <td>2025-05-02 21:56:38</td>\n",
       "      <td>2025-05-02 09:56:38 PM</td>\n",
       "      <td>Friday</td>\n",
       "      <td>False</td>\n",
       "      <td>Spring</td>\n",
       "      <td>09:56 PM</td>\n",
       "      <td>Night</td>\n",
       "      <td>W MAIN ST / 9TH ST SW</td>\n",
       "      <td>38.032400</td>\n",
       "      <td>-78.493849</td>\n",
       "      <td>10th &amp; Page</td>\n",
       "      <td>22903</td>\n",
       "    </tr>\n",
       "    <tr>\n",
       "      <th>1</th>\n",
       "      <td>2</td>\n",
       "      <td>Lost/FoundProperty</td>\n",
       "      <td>202500014577</td>\n",
       "      <td>200</td>\n",
       "      <td>E WATER ST</td>\n",
       "      <td>CPD</td>\n",
       "      <td>1602</td>\n",
       "      <td>Reed, Danielle</td>\n",
       "      <td>2025-05-02 16:02:15</td>\n",
       "      <td>2025-05-02 04:02:15 PM</td>\n",
       "      <td>Friday</td>\n",
       "      <td>False</td>\n",
       "      <td>Spring</td>\n",
       "      <td>04:02 PM</td>\n",
       "      <td>Afternoon</td>\n",
       "      <td>200 E WATER ST</td>\n",
       "      <td>38.029430</td>\n",
       "      <td>-78.481109</td>\n",
       "      <td>North Downtown</td>\n",
       "      <td>22903</td>\n",
       "    </tr>\n",
       "    <tr>\n",
       "      <th>2</th>\n",
       "      <td>3</td>\n",
       "      <td>Sex Offense - Forcible Rape</td>\n",
       "      <td>202500014557</td>\n",
       "      <td>900</td>\n",
       "      <td>BLENHEIM AVE</td>\n",
       "      <td>CPD</td>\n",
       "      <td>1411</td>\n",
       "      <td>Turner, Devon</td>\n",
       "      <td>2025-05-02 14:11:10</td>\n",
       "      <td>2025-05-02 02:11:10 PM</td>\n",
       "      <td>Friday</td>\n",
       "      <td>False</td>\n",
       "      <td>Spring</td>\n",
       "      <td>02:11 PM</td>\n",
       "      <td>Afternoon</td>\n",
       "      <td>900 BLENHEIM AVE</td>\n",
       "      <td>38.021093</td>\n",
       "      <td>-78.477064</td>\n",
       "      <td>Belmont</td>\n",
       "      <td>22903</td>\n",
       "    </tr>\n",
       "    <tr>\n",
       "      <th>3</th>\n",
       "      <td>4</td>\n",
       "      <td>Assist Citizen - Mental/TDO/ECO</td>\n",
       "      <td>202500014546</td>\n",
       "      <td></td>\n",
       "      <td>4TH ST SE / E MAIN ST</td>\n",
       "      <td>CPD</td>\n",
       "      <td>1300</td>\n",
       "      <td>Lucas, Todd</td>\n",
       "      <td>2025-05-02 13:00:46</td>\n",
       "      <td>2025-05-02 01:00:46 PM</td>\n",
       "      <td>Friday</td>\n",
       "      <td>False</td>\n",
       "      <td>Spring</td>\n",
       "      <td>01:00 PM</td>\n",
       "      <td>Afternoon</td>\n",
       "      <td>4TH ST SE / E MAIN ST</td>\n",
       "      <td>38.030075</td>\n",
       "      <td>-78.479238</td>\n",
       "      <td>Downtown Mall</td>\n",
       "      <td>22902</td>\n",
       "    </tr>\n",
       "    <tr>\n",
       "      <th>4</th>\n",
       "      <td>5</td>\n",
       "      <td>Larceny - Shoplifitng</td>\n",
       "      <td>202500014528</td>\n",
       "      <td>1100</td>\n",
       "      <td>5TH ST SW</td>\n",
       "      <td>CPD</td>\n",
       "      <td>1056</td>\n",
       "      <td>Turner, Devon</td>\n",
       "      <td>2025-05-02 10:56:04</td>\n",
       "      <td>2025-05-02 10:56:04 AM</td>\n",
       "      <td>Friday</td>\n",
       "      <td>False</td>\n",
       "      <td>Spring</td>\n",
       "      <td>10:56 AM</td>\n",
       "      <td>Morning</td>\n",
       "      <td>1100 5TH ST SW</td>\n",
       "      <td>38.017130</td>\n",
       "      <td>-78.497806</td>\n",
       "      <td>Johnson Village</td>\n",
       "      <td>22903</td>\n",
       "    </tr>\n",
       "  </tbody>\n",
       "</table>\n",
       "</div>"
      ],
      "text/plain": [
       "   RecordID                          Offense    IncidentID BlockNumber  \\\n",
       "0         1                      Hit and Run  202500014631               \n",
       "1         2               Lost/FoundProperty  202500014577         200   \n",
       "2         3      Sex Offense - Forcible Rape  202500014557         900   \n",
       "3         4  Assist Citizen - Mental/TDO/ECO  202500014546               \n",
       "4         5            Larceny - Shoplifitng  202500014528        1100   \n",
       "\n",
       "              StreetName Agency HourReported  ReportingOfficer  \\\n",
       "0  W MAIN ST / 9TH ST SW    CPD         2156  Essex, Dominique   \n",
       "1             E WATER ST    CPD         1602    Reed, Danielle   \n",
       "2           BLENHEIM AVE    CPD         1411     Turner, Devon   \n",
       "3  4TH ST SE / E MAIN ST    CPD         1300       Lucas, Todd   \n",
       "4              5TH ST SW    CPD         1056     Turner, Devon   \n",
       "\n",
       "                 Date              DateString DayOfWeek  Weekend  Season  \\\n",
       "0 2025-05-02 21:56:38  2025-05-02 09:56:38 PM    Friday    False  Spring   \n",
       "1 2025-05-02 16:02:15  2025-05-02 04:02:15 PM    Friday    False  Spring   \n",
       "2 2025-05-02 14:11:10  2025-05-02 02:11:10 PM    Friday    False  Spring   \n",
       "3 2025-05-02 13:00:46  2025-05-02 01:00:46 PM    Friday    False  Spring   \n",
       "4 2025-05-02 10:56:04  2025-05-02 10:56:04 AM    Friday    False  Spring   \n",
       "\n",
       "   HourAMPM  TimeOfDay              FullStreet        lat        lon  \\\n",
       "0  09:56 PM      Night   W MAIN ST / 9TH ST SW  38.032400 -78.493849   \n",
       "1  04:02 PM  Afternoon          200 E WATER ST  38.029430 -78.481109   \n",
       "2  02:11 PM  Afternoon        900 BLENHEIM AVE  38.021093 -78.477064   \n",
       "3  01:00 PM  Afternoon   4TH ST SE / E MAIN ST  38.030075 -78.479238   \n",
       "4  10:56 AM    Morning          1100 5TH ST SW  38.017130 -78.497806   \n",
       "\n",
       "      neighborhood    zip  \n",
       "0      10th & Page  22903  \n",
       "1   North Downtown  22903  \n",
       "2          Belmont  22903  \n",
       "3    Downtown Mall  22902  \n",
       "4  Johnson Village  22903  "
      ]
     },
     "execution_count": 11,
     "metadata": {},
     "output_type": "execute_result"
    }
   ],
   "source": [
    "# Initialize the geocoder.\n",
    "geolocator = Nominatim(user_agent=\"zip_lookup\")\n",
    "\n",
    "# Try to load a persistent ZIP cache if available.\n",
    "try:\n",
    "    with open(\"zip_cache.pkl\", \"rb\") as f:\n",
    "        zip_cache = pickle.load(f)\n",
    "    print(\"Loaded zip cache.\")\n",
    "except FileNotFoundError:\n",
    "    zip_cache = {}\n",
    "    print(\"No zip cache found; starting fresh.\")\n",
    "\n",
    "def get_zip(lat, lon):\n",
    "    \"\"\"\n",
    "    Reverse geocodes a latitude and longitude to retrieve the ZIP code.\n",
    "    Caches results to speed up subsequent lookups.\n",
    "    \"\"\"\n",
    "    key = (lat, lon)\n",
    "    if key in zip_cache:\n",
    "        return zip_cache[key]\n",
    "    \n",
    "    try:\n",
    "        location = geolocator.reverse((lat, lon), exactly_one=True, timeout=10)\n",
    "        address = location.raw.get('address', {})\n",
    "        postal_code = address.get('postcode', \"N/A\")\n",
    "    except Exception as e:\n",
    "        print(f\"Error getting ZIP for {lat}, {lon}: {e}\")\n",
    "        postal_code = \"N/A\"\n",
    "    \n",
    "    zip_cache[key] = postal_code\n",
    "    # Pause to respect the usage policy.\n",
    "    time.sleep(1)\n",
    "    return postal_code\n",
    "\n",
    "# Apply the function to each row in the DataFrame.\n",
    "df['zip'] = df.apply(lambda row: get_zip(row['lat'], row['lon']), axis=1)\n",
    "\n",
    "# Save the updated ZIP cache.\n",
    "with open(\"zip_cache.pkl\", \"wb\") as f:\n",
    "    pickle.dump(zip_cache, f)\n",
    "\n",
    "df.head()\n"
   ]
  },
  {
   "cell_type": "code",
   "execution_count": 12,
   "id": "468300ea",
   "metadata": {
    "execution": {
     "iopub.execute_input": "2025-05-05T01:05:38.553719Z",
     "iopub.status.busy": "2025-05-05T01:05:38.553236Z",
     "iopub.status.idle": "2025-05-05T01:05:38.584948Z",
     "shell.execute_reply": "2025-05-05T01:05:38.584321Z"
    },
    "papermill": {
     "duration": 0.04038,
     "end_time": "2025-05-05T01:05:38.585997",
     "exception": false,
     "start_time": "2025-05-05T01:05:38.545617",
     "status": "completed"
    },
    "tags": []
   },
   "outputs": [
    {
     "name": "stdout",
     "output_type": "stream",
     "text": [
      "                  MissingCount  MissingPercentage\n",
      "RecordID                     0               0.00\n",
      "Offense                      0               0.00\n",
      "IncidentID                   0               0.00\n",
      "BlockNumber                  0               0.00\n",
      "StreetName                   0               0.00\n",
      "Agency                       0               0.00\n",
      "HourReported                 0               0.00\n",
      "ReportingOfficer            17               0.07\n",
      "Date                         0               0.00\n",
      "DateString                   0               0.00\n",
      "DayOfWeek                    0               0.00\n",
      "Weekend                      0               0.00\n",
      "Season                       0               0.00\n",
      "HourAMPM                     0               0.00\n",
      "TimeOfDay                    0               0.00\n",
      "FullStreet                   0               0.00\n",
      "lat                          0               0.00\n",
      "lon                          0               0.00\n",
      "neighborhood                 0               0.00\n",
      "zip                          0               0.00\n"
     ]
    }
   ],
   "source": [
    "missing_info = missing_percentage(df)\n",
    "print(missing_info)\n"
   ]
  },
  {
   "cell_type": "code",
   "execution_count": 13,
   "id": "09a496e4",
   "metadata": {
    "execution": {
     "iopub.execute_input": "2025-05-05T01:05:38.601501Z",
     "iopub.status.busy": "2025-05-05T01:05:38.601010Z",
     "iopub.status.idle": "2025-05-05T01:05:38.634008Z",
     "shell.execute_reply": "2025-05-05T01:05:38.633379Z"
    },
    "papermill": {
     "duration": 0.041737,
     "end_time": "2025-05-05T01:05:38.635130",
     "exception": false,
     "start_time": "2025-05-05T01:05:38.593393",
     "status": "completed"
    },
    "tags": []
   },
   "outputs": [
    {
     "name": "stdout",
     "output_type": "stream",
     "text": [
      "<class 'pandas.core.frame.DataFrame'>\n",
      "RangeIndex: 25330 entries, 0 to 25329\n",
      "Data columns (total 20 columns):\n",
      " #   Column            Non-Null Count  Dtype         \n",
      "---  ------            --------------  -----         \n",
      " 0   RecordID          25330 non-null  int64         \n",
      " 1   Offense           25330 non-null  object        \n",
      " 2   IncidentID        25330 non-null  object        \n",
      " 3   BlockNumber       25330 non-null  object        \n",
      " 4   StreetName        25330 non-null  object        \n",
      " 5   Agency            25330 non-null  object        \n",
      " 6   HourReported      25330 non-null  object        \n",
      " 7   ReportingOfficer  25313 non-null  object        \n",
      " 8   Date              25330 non-null  datetime64[ns]\n",
      " 9   DateString        25330 non-null  object        \n",
      " 10  DayOfWeek         25330 non-null  object        \n",
      " 11  Weekend           25330 non-null  bool          \n",
      " 12  Season            25330 non-null  object        \n",
      " 13  HourAMPM          25330 non-null  object        \n",
      " 14  TimeOfDay         25330 non-null  object        \n",
      " 15  FullStreet        25330 non-null  object        \n",
      " 16  lat               25330 non-null  float64       \n",
      " 17  lon               25330 non-null  float64       \n",
      " 18  neighborhood      25330 non-null  object        \n",
      " 19  zip               25330 non-null  object        \n",
      "dtypes: bool(1), datetime64[ns](1), float64(2), int64(1), object(15)\n",
      "memory usage: 3.7+ MB\n"
     ]
    }
   ],
   "source": [
    "df.info()"
   ]
  },
  {
   "cell_type": "code",
   "execution_count": 14,
   "id": "bf56f32a",
   "metadata": {
    "execution": {
     "iopub.execute_input": "2025-05-05T01:05:38.650619Z",
     "iopub.status.busy": "2025-05-05T01:05:38.650121Z",
     "iopub.status.idle": "2025-05-05T01:05:38.697416Z",
     "shell.execute_reply": "2025-05-05T01:05:38.696806Z"
    },
    "papermill": {
     "duration": 0.056077,
     "end_time": "2025-05-05T01:05:38.698528",
     "exception": false,
     "start_time": "2025-05-05T01:05:38.642451",
     "status": "completed"
    },
    "tags": []
   },
   "outputs": [
    {
     "data": {
      "text/html": [
       "<div>\n",
       "<style scoped>\n",
       "    .dataframe tbody tr th:only-of-type {\n",
       "        vertical-align: middle;\n",
       "    }\n",
       "\n",
       "    .dataframe tbody tr th {\n",
       "        vertical-align: top;\n",
       "    }\n",
       "\n",
       "    .dataframe thead th {\n",
       "        text-align: right;\n",
       "    }\n",
       "</style>\n",
       "<table border=\"1\" class=\"dataframe\">\n",
       "  <thead>\n",
       "    <tr style=\"text-align: right;\">\n",
       "      <th></th>\n",
       "      <th>RecordID</th>\n",
       "      <th>Offense</th>\n",
       "      <th>IncidentID</th>\n",
       "      <th>Agency</th>\n",
       "      <th>ReportingOfficer</th>\n",
       "      <th>Date</th>\n",
       "      <th>DayOfWeek</th>\n",
       "      <th>Weekend</th>\n",
       "      <th>Season</th>\n",
       "      <th>TimeOfDay</th>\n",
       "      <th>FullStreet</th>\n",
       "      <th>lat</th>\n",
       "      <th>lon</th>\n",
       "      <th>neighborhood</th>\n",
       "      <th>zip</th>\n",
       "    </tr>\n",
       "  </thead>\n",
       "  <tbody>\n",
       "    <tr>\n",
       "      <th>0</th>\n",
       "      <td>1</td>\n",
       "      <td>Hit and Run</td>\n",
       "      <td>202500014631</td>\n",
       "      <td>CPD</td>\n",
       "      <td>Essex, Dominique</td>\n",
       "      <td>2025-05-02 21:56:38</td>\n",
       "      <td>Friday</td>\n",
       "      <td>False</td>\n",
       "      <td>Spring</td>\n",
       "      <td>Night</td>\n",
       "      <td>W MAIN ST / 9TH ST SW</td>\n",
       "      <td>38.032400</td>\n",
       "      <td>-78.493849</td>\n",
       "      <td>10th &amp; Page</td>\n",
       "      <td>22903</td>\n",
       "    </tr>\n",
       "    <tr>\n",
       "      <th>1</th>\n",
       "      <td>2</td>\n",
       "      <td>Lost/FoundProperty</td>\n",
       "      <td>202500014577</td>\n",
       "      <td>CPD</td>\n",
       "      <td>Reed, Danielle</td>\n",
       "      <td>2025-05-02 16:02:15</td>\n",
       "      <td>Friday</td>\n",
       "      <td>False</td>\n",
       "      <td>Spring</td>\n",
       "      <td>Afternoon</td>\n",
       "      <td>200 E WATER ST</td>\n",
       "      <td>38.029430</td>\n",
       "      <td>-78.481109</td>\n",
       "      <td>North Downtown</td>\n",
       "      <td>22903</td>\n",
       "    </tr>\n",
       "    <tr>\n",
       "      <th>2</th>\n",
       "      <td>3</td>\n",
       "      <td>Sex Offense - Forcible Rape</td>\n",
       "      <td>202500014557</td>\n",
       "      <td>CPD</td>\n",
       "      <td>Turner, Devon</td>\n",
       "      <td>2025-05-02 14:11:10</td>\n",
       "      <td>Friday</td>\n",
       "      <td>False</td>\n",
       "      <td>Spring</td>\n",
       "      <td>Afternoon</td>\n",
       "      <td>900 BLENHEIM AVE</td>\n",
       "      <td>38.021093</td>\n",
       "      <td>-78.477064</td>\n",
       "      <td>Belmont</td>\n",
       "      <td>22903</td>\n",
       "    </tr>\n",
       "    <tr>\n",
       "      <th>3</th>\n",
       "      <td>4</td>\n",
       "      <td>Assist Citizen - Mental/TDO/ECO</td>\n",
       "      <td>202500014546</td>\n",
       "      <td>CPD</td>\n",
       "      <td>Lucas, Todd</td>\n",
       "      <td>2025-05-02 13:00:46</td>\n",
       "      <td>Friday</td>\n",
       "      <td>False</td>\n",
       "      <td>Spring</td>\n",
       "      <td>Afternoon</td>\n",
       "      <td>4TH ST SE / E MAIN ST</td>\n",
       "      <td>38.030075</td>\n",
       "      <td>-78.479238</td>\n",
       "      <td>Downtown Mall</td>\n",
       "      <td>22902</td>\n",
       "    </tr>\n",
       "    <tr>\n",
       "      <th>4</th>\n",
       "      <td>5</td>\n",
       "      <td>Larceny - Shoplifitng</td>\n",
       "      <td>202500014528</td>\n",
       "      <td>CPD</td>\n",
       "      <td>Turner, Devon</td>\n",
       "      <td>2025-05-02 10:56:04</td>\n",
       "      <td>Friday</td>\n",
       "      <td>False</td>\n",
       "      <td>Spring</td>\n",
       "      <td>Morning</td>\n",
       "      <td>1100 5TH ST SW</td>\n",
       "      <td>38.017130</td>\n",
       "      <td>-78.497806</td>\n",
       "      <td>Johnson Village</td>\n",
       "      <td>22903</td>\n",
       "    </tr>\n",
       "  </tbody>\n",
       "</table>\n",
       "</div>"
      ],
      "text/plain": [
       "   RecordID                          Offense    IncidentID Agency  \\\n",
       "0         1                      Hit and Run  202500014631    CPD   \n",
       "1         2               Lost/FoundProperty  202500014577    CPD   \n",
       "2         3      Sex Offense - Forcible Rape  202500014557    CPD   \n",
       "3         4  Assist Citizen - Mental/TDO/ECO  202500014546    CPD   \n",
       "4         5            Larceny - Shoplifitng  202500014528    CPD   \n",
       "\n",
       "   ReportingOfficer                Date DayOfWeek  Weekend  Season  TimeOfDay  \\\n",
       "0  Essex, Dominique 2025-05-02 21:56:38    Friday    False  Spring      Night   \n",
       "1    Reed, Danielle 2025-05-02 16:02:15    Friday    False  Spring  Afternoon   \n",
       "2     Turner, Devon 2025-05-02 14:11:10    Friday    False  Spring  Afternoon   \n",
       "3       Lucas, Todd 2025-05-02 13:00:46    Friday    False  Spring  Afternoon   \n",
       "4     Turner, Devon 2025-05-02 10:56:04    Friday    False  Spring    Morning   \n",
       "\n",
       "               FullStreet        lat        lon     neighborhood    zip  \n",
       "0   W MAIN ST / 9TH ST SW  38.032400 -78.493849      10th & Page  22903  \n",
       "1          200 E WATER ST  38.029430 -78.481109   North Downtown  22903  \n",
       "2        900 BLENHEIM AVE  38.021093 -78.477064          Belmont  22903  \n",
       "3   4TH ST SE / E MAIN ST  38.030075 -78.479238    Downtown Mall  22902  \n",
       "4          1100 5TH ST SW  38.017130 -78.497806  Johnson Village  22903  "
      ]
     },
     "execution_count": 14,
     "metadata": {},
     "output_type": "execute_result"
    }
   ],
   "source": [
    "# Now drop the original BlockNumber and StreetName columns\n",
    "df.drop(columns=['BlockNumber', 'StreetName','HourAMPM','HourReported','DateString'], inplace=True)\n",
    "df[\"zip\"] = df[\"zip\"].astype(str)\n",
    "\n",
    "# Fill all missing values in the DataFrame with \"N/A\"\n",
    "df.replace({None: \"N/A\", np.nan: \"N/A\", \"\": \"N/A\"}, inplace=True)\n",
    "df.head()"
   ]
  },
  {
   "cell_type": "code",
   "execution_count": 15,
   "id": "38667979",
   "metadata": {
    "execution": {
     "iopub.execute_input": "2025-05-05T01:05:38.714585Z",
     "iopub.status.busy": "2025-05-05T01:05:38.714107Z",
     "iopub.status.idle": "2025-05-05T01:05:38.735530Z",
     "shell.execute_reply": "2025-05-05T01:05:38.734924Z"
    },
    "papermill": {
     "duration": 0.030383,
     "end_time": "2025-05-05T01:05:38.736548",
     "exception": false,
     "start_time": "2025-05-05T01:05:38.706165",
     "status": "completed"
    },
    "tags": []
   },
   "outputs": [
    {
     "name": "stdout",
     "output_type": "stream",
     "text": [
      "                  MissingCount  MissingPercentage\n",
      "RecordID                     0                0.0\n",
      "Offense                      0                0.0\n",
      "IncidentID                   0                0.0\n",
      "Agency                       0                0.0\n",
      "ReportingOfficer             0                0.0\n",
      "Date                         0                0.0\n",
      "DayOfWeek                    0                0.0\n",
      "Weekend                      0                0.0\n",
      "Season                       0                0.0\n",
      "TimeOfDay                    0                0.0\n",
      "FullStreet                   0                0.0\n",
      "lat                          0                0.0\n",
      "lon                          0                0.0\n",
      "neighborhood                 0                0.0\n",
      "zip                          0                0.0\n"
     ]
    }
   ],
   "source": [
    "missing_info = missing_percentage(df)\n",
    "print(missing_info)"
   ]
  },
  {
   "cell_type": "code",
   "execution_count": 16,
   "id": "a3fb2ca2",
   "metadata": {
    "execution": {
     "iopub.execute_input": "2025-05-05T01:05:38.752555Z",
     "iopub.status.busy": "2025-05-05T01:05:38.752113Z",
     "iopub.status.idle": "2025-05-05T01:05:38.756770Z",
     "shell.execute_reply": "2025-05-05T01:05:38.756207Z"
    },
    "papermill": {
     "duration": 0.013669,
     "end_time": "2025-05-05T01:05:38.757794",
     "exception": false,
     "start_time": "2025-05-05T01:05:38.744125",
     "status": "completed"
    },
    "tags": []
   },
   "outputs": [
    {
     "data": {
      "text/plain": [
       "Index(['RecordID', 'Offense', 'IncidentID', 'Agency', 'ReportingOfficer',\n",
       "       'Date', 'DayOfWeek', 'Weekend', 'Season', 'TimeOfDay', 'FullStreet',\n",
       "       'lat', 'lon', 'neighborhood', 'zip'],\n",
       "      dtype='object')"
      ]
     },
     "execution_count": 16,
     "metadata": {},
     "output_type": "execute_result"
    }
   ],
   "source": [
    "df.columns"
   ]
  },
  {
   "cell_type": "code",
   "execution_count": 17,
   "id": "0585c2a7",
   "metadata": {
    "execution": {
     "iopub.execute_input": "2025-05-05T01:05:38.773850Z",
     "iopub.status.busy": "2025-05-05T01:05:38.773390Z",
     "iopub.status.idle": "2025-05-05T01:05:38.796531Z",
     "shell.execute_reply": "2025-05-05T01:05:38.795956Z"
    },
    "papermill": {
     "duration": 0.032308,
     "end_time": "2025-05-05T01:05:38.797657",
     "exception": false,
     "start_time": "2025-05-05T01:05:38.765349",
     "status": "completed"
    },
    "tags": []
   },
   "outputs": [
    {
     "name": "stdout",
     "output_type": "stream",
     "text": [
      "<class 'pandas.core.frame.DataFrame'>\n",
      "RangeIndex: 25330 entries, 0 to 25329\n",
      "Data columns (total 15 columns):\n",
      " #   Column            Non-Null Count  Dtype         \n",
      "---  ------            --------------  -----         \n",
      " 0   RecordID          25330 non-null  int64         \n",
      " 1   Offense           25330 non-null  object        \n",
      " 2   IncidentID        25330 non-null  object        \n",
      " 3   Agency            25330 non-null  object        \n",
      " 4   ReportingOfficer  25330 non-null  object        \n",
      " 5   Date              25330 non-null  datetime64[ns]\n",
      " 6   DayOfWeek         25330 non-null  object        \n",
      " 7   Weekend           25330 non-null  bool          \n",
      " 8   Season            25330 non-null  object        \n",
      " 9   TimeOfDay         25330 non-null  object        \n",
      " 10  FullStreet        25330 non-null  object        \n",
      " 11  lat               25330 non-null  float64       \n",
      " 12  lon               25330 non-null  float64       \n",
      " 13  neighborhood      25330 non-null  object        \n",
      " 14  zip               25330 non-null  object        \n",
      "dtypes: bool(1), datetime64[ns](1), float64(2), int64(1), object(10)\n",
      "memory usage: 2.7+ MB\n"
     ]
    }
   ],
   "source": [
    "df.info()"
   ]
  },
  {
   "cell_type": "markdown",
   "id": "511b8098",
   "metadata": {
    "papermill": {
     "duration": 0.007373,
     "end_time": "2025-05-05T01:05:38.812812",
     "exception": false,
     "start_time": "2025-05-05T01:05:38.805439",
     "status": "completed"
    },
    "tags": []
   },
   "source": [
    "### Export Clean Data"
   ]
  },
  {
   "cell_type": "code",
   "execution_count": 18,
   "id": "a73b1997",
   "metadata": {
    "execution": {
     "iopub.execute_input": "2025-05-05T01:05:38.829255Z",
     "iopub.status.busy": "2025-05-05T01:05:38.828769Z",
     "iopub.status.idle": "2025-05-05T01:05:48.133711Z",
     "shell.execute_reply": "2025-05-05T01:05:48.133010Z"
    },
    "papermill": {
     "duration": 9.314458,
     "end_time": "2025-05-05T01:05:48.134804",
     "exception": false,
     "start_time": "2025-05-05T01:05:38.820346",
     "status": "completed"
    },
    "tags": []
   },
   "outputs": [
    {
     "name": "stdout",
     "output_type": "stream",
     "text": [
      "Project Root: /home/runner/work/crime-data/crime-data\n"
     ]
    },
    {
     "name": "stdout",
     "output_type": "stream",
     "text": [
      "Data saved to: /home/runner/work/crime-data/crime-data/data/charlottesville_crime_incidents.csv\n"
     ]
    },
    {
     "name": "stdout",
     "output_type": "stream",
     "text": [
      "Excel saved to: /home/runner/work/crime-data/crime-data/data/charlottesville_crime_incidents.xlsx\n"
     ]
    }
   ],
   "source": [
    "# Determine the project root (assuming papermill is run from the repository root)\n",
    "project_root = os.getcwd()\n",
    "print(\"Project Root:\", project_root)\n",
    "\n",
    "# Set the data directory within the project root\n",
    "data_dir = os.path.join(project_root, \"data\")\n",
    "\n",
    "# Ensure the \"data\" directory exists (create it if it doesn't)\n",
    "if not os.path.exists(data_dir):\n",
    "    os.makedirs(data_dir)\n",
    "\n",
    "# Export the DataFrame to CSV in the \"data\" folder located in the project root\n",
    "csv_path = os.path.join(data_dir, \"charlottesville_crime_incidents.csv\")\n",
    "df.to_csv(csv_path, index=False)\n",
    "print(\"Data saved to:\", csv_path)\n",
    "\n",
    "# Construct the path to your Excel file\n",
    "excel_path = os.path.join(data_dir, \"charlottesville_crime_incidents.xlsx\")\n",
    "\n",
    "# Export the DataFrame to Excel\n",
    "df.to_excel(excel_path, index=False)\n",
    "print(\"Excel saved to:\", excel_path)\n"
   ]
  },
  {
   "cell_type": "markdown",
   "id": "130299be",
   "metadata": {
    "papermill": {
     "duration": 0.007573,
     "end_time": "2025-05-05T01:05:48.150351",
     "exception": false,
     "start_time": "2025-05-05T01:05:48.142778",
     "status": "completed"
    },
    "tags": []
   },
   "source": [
    "## Predictive Analytics"
   ]
  },
  {
   "cell_type": "code",
   "execution_count": 19,
   "id": "c4aa672d",
   "metadata": {
    "execution": {
     "iopub.execute_input": "2025-05-05T01:05:48.167149Z",
     "iopub.status.busy": "2025-05-05T01:05:48.166524Z",
     "iopub.status.idle": "2025-05-05T01:05:48.179015Z",
     "shell.execute_reply": "2025-05-05T01:05:48.178430Z"
    },
    "papermill": {
     "duration": 0.022213,
     "end_time": "2025-05-05T01:05:48.180147",
     "exception": false,
     "start_time": "2025-05-05T01:05:48.157934",
     "status": "completed"
    },
    "tags": []
   },
   "outputs": [
    {
     "data": {
      "text/html": [
       "<div>\n",
       "<style scoped>\n",
       "    .dataframe tbody tr th:only-of-type {\n",
       "        vertical-align: middle;\n",
       "    }\n",
       "\n",
       "    .dataframe tbody tr th {\n",
       "        vertical-align: top;\n",
       "    }\n",
       "\n",
       "    .dataframe thead th {\n",
       "        text-align: right;\n",
       "    }\n",
       "</style>\n",
       "<table border=\"1\" class=\"dataframe\">\n",
       "  <thead>\n",
       "    <tr style=\"text-align: right;\">\n",
       "      <th></th>\n",
       "      <th>RecordID</th>\n",
       "      <th>Offense</th>\n",
       "      <th>IncidentID</th>\n",
       "      <th>Agency</th>\n",
       "      <th>ReportingOfficer</th>\n",
       "      <th>Date</th>\n",
       "      <th>DayOfWeek</th>\n",
       "      <th>Weekend</th>\n",
       "      <th>Season</th>\n",
       "      <th>TimeOfDay</th>\n",
       "      <th>FullStreet</th>\n",
       "      <th>lat</th>\n",
       "      <th>lon</th>\n",
       "      <th>neighborhood</th>\n",
       "      <th>zip</th>\n",
       "    </tr>\n",
       "  </thead>\n",
       "  <tbody>\n",
       "    <tr>\n",
       "      <th>0</th>\n",
       "      <td>1</td>\n",
       "      <td>Hit and Run</td>\n",
       "      <td>202500014631</td>\n",
       "      <td>CPD</td>\n",
       "      <td>Essex, Dominique</td>\n",
       "      <td>2025-05-02 21:56:38</td>\n",
       "      <td>Friday</td>\n",
       "      <td>False</td>\n",
       "      <td>Spring</td>\n",
       "      <td>Night</td>\n",
       "      <td>W MAIN ST / 9TH ST SW</td>\n",
       "      <td>38.032400</td>\n",
       "      <td>-78.493849</td>\n",
       "      <td>10th &amp; Page</td>\n",
       "      <td>22903</td>\n",
       "    </tr>\n",
       "    <tr>\n",
       "      <th>1</th>\n",
       "      <td>2</td>\n",
       "      <td>Lost/FoundProperty</td>\n",
       "      <td>202500014577</td>\n",
       "      <td>CPD</td>\n",
       "      <td>Reed, Danielle</td>\n",
       "      <td>2025-05-02 16:02:15</td>\n",
       "      <td>Friday</td>\n",
       "      <td>False</td>\n",
       "      <td>Spring</td>\n",
       "      <td>Afternoon</td>\n",
       "      <td>200 E WATER ST</td>\n",
       "      <td>38.029430</td>\n",
       "      <td>-78.481109</td>\n",
       "      <td>North Downtown</td>\n",
       "      <td>22903</td>\n",
       "    </tr>\n",
       "    <tr>\n",
       "      <th>2</th>\n",
       "      <td>3</td>\n",
       "      <td>Sex Offense - Forcible Rape</td>\n",
       "      <td>202500014557</td>\n",
       "      <td>CPD</td>\n",
       "      <td>Turner, Devon</td>\n",
       "      <td>2025-05-02 14:11:10</td>\n",
       "      <td>Friday</td>\n",
       "      <td>False</td>\n",
       "      <td>Spring</td>\n",
       "      <td>Afternoon</td>\n",
       "      <td>900 BLENHEIM AVE</td>\n",
       "      <td>38.021093</td>\n",
       "      <td>-78.477064</td>\n",
       "      <td>Belmont</td>\n",
       "      <td>22903</td>\n",
       "    </tr>\n",
       "    <tr>\n",
       "      <th>3</th>\n",
       "      <td>4</td>\n",
       "      <td>Assist Citizen - Mental/TDO/ECO</td>\n",
       "      <td>202500014546</td>\n",
       "      <td>CPD</td>\n",
       "      <td>Lucas, Todd</td>\n",
       "      <td>2025-05-02 13:00:46</td>\n",
       "      <td>Friday</td>\n",
       "      <td>False</td>\n",
       "      <td>Spring</td>\n",
       "      <td>Afternoon</td>\n",
       "      <td>4TH ST SE / E MAIN ST</td>\n",
       "      <td>38.030075</td>\n",
       "      <td>-78.479238</td>\n",
       "      <td>Downtown Mall</td>\n",
       "      <td>22902</td>\n",
       "    </tr>\n",
       "    <tr>\n",
       "      <th>4</th>\n",
       "      <td>5</td>\n",
       "      <td>Larceny - Shoplifitng</td>\n",
       "      <td>202500014528</td>\n",
       "      <td>CPD</td>\n",
       "      <td>Turner, Devon</td>\n",
       "      <td>2025-05-02 10:56:04</td>\n",
       "      <td>Friday</td>\n",
       "      <td>False</td>\n",
       "      <td>Spring</td>\n",
       "      <td>Morning</td>\n",
       "      <td>1100 5TH ST SW</td>\n",
       "      <td>38.017130</td>\n",
       "      <td>-78.497806</td>\n",
       "      <td>Johnson Village</td>\n",
       "      <td>22903</td>\n",
       "    </tr>\n",
       "  </tbody>\n",
       "</table>\n",
       "</div>"
      ],
      "text/plain": [
       "   RecordID                          Offense    IncidentID Agency  \\\n",
       "0         1                      Hit and Run  202500014631    CPD   \n",
       "1         2               Lost/FoundProperty  202500014577    CPD   \n",
       "2         3      Sex Offense - Forcible Rape  202500014557    CPD   \n",
       "3         4  Assist Citizen - Mental/TDO/ECO  202500014546    CPD   \n",
       "4         5            Larceny - Shoplifitng  202500014528    CPD   \n",
       "\n",
       "   ReportingOfficer                Date DayOfWeek  Weekend  Season  TimeOfDay  \\\n",
       "0  Essex, Dominique 2025-05-02 21:56:38    Friday    False  Spring      Night   \n",
       "1    Reed, Danielle 2025-05-02 16:02:15    Friday    False  Spring  Afternoon   \n",
       "2     Turner, Devon 2025-05-02 14:11:10    Friday    False  Spring  Afternoon   \n",
       "3       Lucas, Todd 2025-05-02 13:00:46    Friday    False  Spring  Afternoon   \n",
       "4     Turner, Devon 2025-05-02 10:56:04    Friday    False  Spring    Morning   \n",
       "\n",
       "               FullStreet        lat        lon     neighborhood    zip  \n",
       "0   W MAIN ST / 9TH ST SW  38.032400 -78.493849      10th & Page  22903  \n",
       "1          200 E WATER ST  38.029430 -78.481109   North Downtown  22903  \n",
       "2        900 BLENHEIM AVE  38.021093 -78.477064          Belmont  22903  \n",
       "3   4TH ST SE / E MAIN ST  38.030075 -78.479238    Downtown Mall  22902  \n",
       "4          1100 5TH ST SW  38.017130 -78.497806  Johnson Village  22903  "
      ]
     },
     "execution_count": 19,
     "metadata": {},
     "output_type": "execute_result"
    }
   ],
   "source": [
    "df.head()"
   ]
  },
  {
   "cell_type": "code",
   "execution_count": 20,
   "id": "af616236",
   "metadata": {
    "execution": {
     "iopub.execute_input": "2025-05-05T01:05:48.197960Z",
     "iopub.status.busy": "2025-05-05T01:05:48.197337Z",
     "iopub.status.idle": "2025-05-05T01:05:48.202257Z",
     "shell.execute_reply": "2025-05-05T01:05:48.201699Z"
    },
    "papermill": {
     "duration": 0.014706,
     "end_time": "2025-05-05T01:05:48.203252",
     "exception": false,
     "start_time": "2025-05-05T01:05:48.188546",
     "status": "completed"
    },
    "tags": []
   },
   "outputs": [
    {
     "data": {
      "text/plain": [
       "Index(['RecordID', 'Offense', 'IncidentID', 'Agency', 'ReportingOfficer',\n",
       "       'Date', 'DayOfWeek', 'Weekend', 'Season', 'TimeOfDay', 'FullStreet',\n",
       "       'lat', 'lon', 'neighborhood', 'zip'],\n",
       "      dtype='object')"
      ]
     },
     "execution_count": 20,
     "metadata": {},
     "output_type": "execute_result"
    }
   ],
   "source": [
    "df.columns"
   ]
  },
  {
   "cell_type": "markdown",
   "id": "ed4bf41d",
   "metadata": {
    "papermill": {
     "duration": 0.008023,
     "end_time": "2025-05-05T01:05:48.219545",
     "exception": false,
     "start_time": "2025-05-05T01:05:48.211522",
     "status": "completed"
    },
    "tags": []
   },
   "source": [
    "### Data Preparation\n",
    "\n",
    "We need to ensure the data is in the correct format for modeling and can handle missing values, categorical variables, and dates. Here's how to prepare your data:"
   ]
  },
  {
   "cell_type": "code",
   "execution_count": 21,
   "id": "b9542f91",
   "metadata": {
    "execution": {
     "iopub.execute_input": "2025-05-05T01:05:48.237036Z",
     "iopub.status.busy": "2025-05-05T01:05:48.236496Z",
     "iopub.status.idle": "2025-05-05T01:05:49.838028Z",
     "shell.execute_reply": "2025-05-05T01:05:49.837271Z"
    },
    "papermill": {
     "duration": 1.611936,
     "end_time": "2025-05-05T01:05:49.839449",
     "exception": false,
     "start_time": "2025-05-05T01:05:48.227513",
     "status": "completed"
    },
    "tags": []
   },
   "outputs": [],
   "source": [
    "import pandas as pd\n",
    "from sklearn.model_selection import train_test_split\n",
    "from sklearn.preprocessing import OneHotEncoder, LabelEncoder\n",
    "from sklearn.ensemble import RandomForestClassifier\n",
    "from sklearn.linear_model import LogisticRegression\n",
    "from sklearn.tree import DecisionTreeClassifier\n",
    "from sklearn.metrics import classification_report, accuracy_score\n",
    "import seaborn as sns\n",
    "import matplotlib.pyplot as plt\n",
    "\n",
    "# Convert 'Date' to datetime\n",
    "df['Date'] = pd.to_datetime(df['Date'])\n",
    "\n",
    "# Feature engineering: Extract additional time-based features\n",
    "df['Year'] = df['Date'].dt.year\n",
    "df['Month'] = df['Date'].dt.month\n",
    "df['DayOfMonth'] = df['Date'].dt.day\n",
    "\n",
    "# One-hot encoding for 'FullStreet', 'neighborhood', 'zip'\n",
    "df = pd.get_dummies(df, columns=['FullStreet', 'neighborhood', 'zip'], drop_first=True)\n",
    "\n",
    "# Label encoding for ordered variables (those with a natural order like 'DayOfWeek', 'Season', 'TimeOfDay')\n",
    "label_encoders = {}\n",
    "for column in ['DayOfWeek', 'Season', 'TimeOfDay', 'Agency', 'ReportingOfficer']:  # Example ordinal variables\n",
    "    le = LabelEncoder()\n",
    "    df[column] = le.fit_transform(df[column])\n",
    "    label_encoders[column] = le\n",
    "\n",
    "# Filter the dataset to include only the offenses of interest\n",
    "offenses_of_interest = [\n",
    "    'Hit and Run', 'Assault Simple', 'Suspicious Activity', 'Vandalism', \n",
    "    'Larceny - From Mot Vehicle', 'Larceny - All Other', \n",
    "    'Assist Citizen - Mental/TDO/ECO', 'Lost/FoundProperty'\n",
    "]\n",
    "\n",
    "df = df[df['Offense'].isin(offenses_of_interest)]\n",
    "\n",
    "# Label encode the target variable (Offense)\n",
    "offense_encoder = LabelEncoder()\n",
    "df['Offense'] = offense_encoder.fit_transform(df['Offense'])\n",
    "\n",
    "# Separate features (X) and target (y)\n",
    "X = df[['Year', 'Month', 'DayOfMonth', 'DayOfWeek', 'Weekend', 'Season', 'TimeOfDay', 'lat', 'lon', 'Agency', 'ReportingOfficer']]\n",
    "y = df['Offense']  # Offense is now the encoded target variable\n",
    "\n",
    "# Split the data into training and testing sets\n",
    "X_train, X_test, y_train, y_test = train_test_split(X, y, test_size=0.3, random_state=42)\n"
   ]
  },
  {
   "cell_type": "markdown",
   "id": "31142fef",
   "metadata": {
    "papermill": {
     "duration": 0.008116,
     "end_time": "2025-05-05T01:05:49.856043",
     "exception": false,
     "start_time": "2025-05-05T01:05:49.847927",
     "status": "completed"
    },
    "tags": []
   },
   "source": [
    "### Model Training\n",
    "\n",
    "Here we will train several models (e.g., Random Forest, Logistic Regression, and Decision Tree). We will use cross-validation to choose the best model based on accuracy, and then explain the impact of the variables."
   ]
  },
  {
   "cell_type": "code",
   "execution_count": 22,
   "id": "b3f50e60",
   "metadata": {
    "execution": {
     "iopub.execute_input": "2025-05-05T01:05:49.873504Z",
     "iopub.status.busy": "2025-05-05T01:05:49.873102Z",
     "iopub.status.idle": "2025-05-05T01:05:53.522768Z",
     "shell.execute_reply": "2025-05-05T01:05:53.522144Z"
    },
    "papermill": {
     "duration": 3.659827,
     "end_time": "2025-05-05T01:05:53.523792",
     "exception": false,
     "start_time": "2025-05-05T01:05:49.863965",
     "status": "completed"
    },
    "tags": []
   },
   "outputs": [
    {
     "name": "stderr",
     "output_type": "stream",
     "text": [
      "/opt/hostedtoolcache/Python/3.9.22/x64/lib/python3.9/site-packages/sklearn/linear_model/_logistic.py:465: ConvergenceWarning: lbfgs failed to converge (status=1):\n",
      "STOP: TOTAL NO. of ITERATIONS REACHED LIMIT.\n",
      "\n",
      "Increase the number of iterations (max_iter) or scale the data as shown in:\n",
      "    https://scikit-learn.org/stable/modules/preprocessing.html\n",
      "Please also refer to the documentation for alternative solver options:\n",
      "    https://scikit-learn.org/stable/modules/linear_model.html#logistic-regression\n",
      "  n_iter_i = _check_optimize_result(\n",
      "/opt/hostedtoolcache/Python/3.9.22/x64/lib/python3.9/site-packages/sklearn/metrics/_classification.py:1565: UndefinedMetricWarning: Precision is ill-defined and being set to 0.0 in labels with no predicted samples. Use `zero_division` parameter to control this behavior.\n",
      "  _warn_prf(average, modifier, f\"{metric.capitalize()} is\", len(result))\n",
      "/opt/hostedtoolcache/Python/3.9.22/x64/lib/python3.9/site-packages/sklearn/metrics/_classification.py:1565: UndefinedMetricWarning: Precision is ill-defined and being set to 0.0 in labels with no predicted samples. Use `zero_division` parameter to control this behavior.\n",
      "  _warn_prf(average, modifier, f\"{metric.capitalize()} is\", len(result))\n",
      "/opt/hostedtoolcache/Python/3.9.22/x64/lib/python3.9/site-packages/sklearn/metrics/_classification.py:1565: UndefinedMetricWarning: Precision is ill-defined and being set to 0.0 in labels with no predicted samples. Use `zero_division` parameter to control this behavior.\n",
      "  _warn_prf(average, modifier, f\"{metric.capitalize()} is\", len(result))\n"
     ]
    },
    {
     "name": "stdout",
     "output_type": "stream",
     "text": [
      "\n",
      "Classification Report for All Models:\n",
      "\n",
      "Model: RandomForest\n",
      "Accuracy: 0.2880\n",
      "              precision    recall  f1-score      support\n",
      "0              0.259758  0.347122  0.297152   556.000000\n",
      "1              0.316327  0.215278  0.256198   432.000000\n",
      "2              0.317298  0.462687  0.376442   670.000000\n",
      "3              0.249284  0.180873  0.209639   481.000000\n",
      "4              0.318681  0.245763  0.277512   354.000000\n",
      "5              0.272289  0.218992  0.242750   516.000000\n",
      "6              0.277647  0.252677  0.264574   467.000000\n",
      "accuracy       0.287975  0.287975  0.287975     0.287975\n",
      "macro avg      0.287326  0.274770  0.274895  3476.000000\n",
      "weighted avg   0.286694  0.287975  0.280783  3476.000000\n"
     ]
    },
    {
     "data": {
      "image/png": "[encoded data removed]",
      "text/plain": [
       "<Figure size 800x600 with 2 Axes>"
      ]
     },
     "metadata": {},
     "output_type": "display_data"
    },
    {
     "name": "stdout",
     "output_type": "stream",
     "text": [
      "\n",
      "Model: LogisticRegression\n",
      "Accuracy: 0.2005\n",
      "              precision    recall  f1-score      support\n",
      "0              0.175529  0.492806  0.258857   556.000000\n",
      "1              0.000000  0.000000  0.000000   432.000000\n",
      "2              0.220888  0.631343  0.327273   670.000000\n",
      "3              0.000000  0.000000  0.000000   481.000000\n",
      "4              0.000000  0.000000  0.000000   354.000000\n",
      "5              0.000000  0.000000  0.000000   516.000000\n",
      "6              0.000000  0.000000  0.000000   467.000000\n",
      "accuracy       0.200518  0.200518  0.200518     0.200518\n",
      "macro avg      0.056631  0.160593  0.083733  3476.000000\n",
      "weighted avg   0.070653  0.200518  0.104487  3476.000000\n"
     ]
    },
    {
     "data": {
      "image/png": "[encoded data removed]",
      "text/plain": [
       "<Figure size 800x600 with 2 Axes>"
      ]
     },
     "metadata": {},
     "output_type": "display_data"
    },
    {
     "name": "stdout",
     "output_type": "stream",
     "text": [
      "\n",
      "Model: DecisionTree\n",
      "Accuracy: 0.2158\n",
      "              precision    recall  f1-score      support\n",
      "0              0.196864  0.203237  0.200000   556.000000\n",
      "1              0.212329  0.215278  0.213793   432.000000\n",
      "2              0.281150  0.262687  0.271605   670.000000\n",
      "3              0.194570  0.178794  0.186349   481.000000\n",
      "4              0.206061  0.192090  0.198830   354.000000\n",
      "5              0.206287  0.203488  0.204878   516.000000\n",
      "6              0.195691  0.233405  0.212891   467.000000\n",
      "accuracy       0.215765  0.215765  0.215765     0.215765\n",
      "macro avg      0.213279  0.212711  0.212621  3476.000000\n",
      "weighted avg   0.216893  0.215765  0.215964  3476.000000\n"
     ]
    },
    {
     "data": {
      "image/png": "[encoded data removed]",
      "text/plain": [
       "<Figure size 800x600 with 2 Axes>"
      ]
     },
     "metadata": {},
     "output_type": "display_data"
    },
    {
     "name": "stdout",
     "output_type": "stream",
     "text": [
      "\n",
      "Best Model:\n",
      "Best Model: RandomForestClassifier()\n",
      "Best Model Accuracy: 0.2880\n"
     ]
    }
   ],
   "source": [
    "import pandas as pd\n",
    "from sklearn.model_selection import train_test_split\n",
    "from sklearn.ensemble import RandomForestClassifier\n",
    "from sklearn.linear_model import LogisticRegression\n",
    "from sklearn.tree import DecisionTreeClassifier\n",
    "from sklearn.metrics import classification_report, accuracy_score, confusion_matrix\n",
    "import seaborn as sns\n",
    "import matplotlib.pyplot as plt\n",
    "\n",
    "# Define models\n",
    "models = {\n",
    "    'RandomForest': RandomForestClassifier(),\n",
    "    'LogisticRegression': LogisticRegression(max_iter=1000),\n",
    "    'DecisionTree': DecisionTreeClassifier()\n",
    "}\n",
    "\n",
    "# Train models and evaluate them\n",
    "best_model = None\n",
    "best_score = 0\n",
    "model_reports = {}\n",
    "\n",
    "for model_name, model in models.items():\n",
    "    model.fit(X_train, y_train)  # Train model\n",
    "    y_pred = model.predict(X_test)  # Make predictions\n",
    "    \n",
    "    # Calculate accuracy and generate classification report\n",
    "    accuracy = accuracy_score(y_test, y_pred)\n",
    "    model_reports[model_name] = classification_report(y_test, y_pred, output_dict=True)  # Store as a dictionary for easier analysis\n",
    "    \n",
    "    # Track best performing model\n",
    "    if accuracy > best_score:\n",
    "        best_score = accuracy\n",
    "        best_model = model\n",
    "\n",
    "# Display classification reports and confusion matrices\n",
    "print(\"\\nClassification Report for All Models:\")\n",
    "for model_name, report in model_reports.items():\n",
    "    print(f\"\\nModel: {model_name}\")\n",
    "    print(\"Accuracy: {:.4f}\".format(accuracy_score(y_test, models[model_name].predict(X_test))))  # Display accuracy\n",
    "    print(pd.DataFrame(report).transpose())  # Display classification report as a DataFrame\n",
    "\n",
    "    # Plot Confusion Matrix\n",
    "    cm = confusion_matrix(y_test, models[model_name].predict(X_test))\n",
    "    plt.figure(figsize=(8, 6))\n",
    "    sns.heatmap(cm, annot=True, fmt=\"d\", cmap='Blues', xticklabels=offense_encoder.classes_, yticklabels=offense_encoder.classes_)\n",
    "    plt.title(f\"Confusion Matrix - {model_name}\")\n",
    "    plt.xlabel('Predicted Labels')\n",
    "    plt.ylabel('True Labels')\n",
    "    plt.show()\n",
    "\n",
    "# Display best model details\n",
    "print(\"\\nBest Model:\")\n",
    "print(f\"Best Model: {best_model}\")\n",
    "print(f\"Best Model Accuracy: {best_score:.4f}\")\n"
   ]
  },
  {
   "cell_type": "markdown",
   "id": "f18f1f24",
   "metadata": {
    "papermill": {
     "duration": 0.010874,
     "end_time": "2025-05-05T01:05:53.546261",
     "exception": false,
     "start_time": "2025-05-05T01:05:53.535387",
     "status": "completed"
    },
    "tags": []
   },
   "source": [
    "#### Classification Report for All Models:\n",
    "\n",
    "### Explanation of the Classification Results (RandomForest Model)\n",
    "\n",
    "The results you provided are from a **Random Forest** model, which is used for predicting different types of offenses. Let's break down the key components of the results:\n",
    "\n",
    "#### 1. **Accuracy: 0.2822**\n",
    "   - **Accuracy** measures the overall percentage of correct predictions made by the model. An accuracy of 28.22% means the model correctly predicted the offense in about 28% of the cases. This indicates the model's predictions are not highly reliable, as the accuracy is quite low.\n",
    "\n",
    "#### 2. **Classification Report:**\n",
    "   The classification report includes precision, recall, and F1-score for each offense. Let's go over these terms and how they apply to the results:\n",
    "\n",
    "   - **Precision**: The proportion of true positive predictions out of all positive predictions made by the model for a specific class (offense).\n",
    "   - **Recall**: The proportion of true positive predictions out of all actual positive instances in the dataset.\n",
    "   - **F1-Score**: The harmonic mean of precision and recall, providing a balance between the two metrics.\n",
    "   - **Support**: The number of actual occurrences of each class in the test set.\n",
    "\n",
    "   Let's analyze each offense based on these metrics:\n",
    "\n",
    "   | **Offense**                        | **Precision** | **Recall** | **F1-Score** | **Support** |\n",
    "   |------------------------------------|---------------|------------|--------------|-------------|\n",
    "   | **Assault Simple**                 | 0.2892        | 0.3754     | 0.3267       | 594         |\n",
    "   | **Assist Citizen - Mental/TDO/ECO**| 0.3182        | 0.2274     | 0.2652       | 431         |\n",
    "   | **Hit and Run**                    | 0.2963        | 0.4765     | 0.3654       | 638         |\n",
    "   | **Larceny - All Other**            | 0.2270        | 0.1453     | 0.1772       | 475         |\n",
    "   | **Lost/FoundProperty**             | 0.3333        | 0.2102     | 0.2578       | 352         |\n",
    "   | **Suspicious Activity**            | 0.2344        | 0.2169     | 0.2253       | 484         |\n",
    "   | **Vandalism**                      | 0.2712        | 0.2106     | 0.2371       | 470         |\n",
    "\n",
    "#### 3. **Key Insights from the Report:**\n",
    "\n",
    "- **Precision**:\n",
    "   - The highest precision is for **Larceny - All Other** (0.3333), indicating that when the model predicts this offense, it is correct about 33% of the time. However, this is still quite low.\n",
    "   - **Assist Citizen - Mental/TDO/ECO** has the lowest precision (0.2269), meaning that the model's predictions for this offense tend to be wrong more often than correct.\n",
    "\n",
    "- **Recall**:\n",
    "   - **Hit and Run** has the highest recall (0.4765), meaning the model identifies about 48% of the actual occurrences of this offense. This is better than the precision, which indicates it is missing many true positives but is still able to identify a fair number of cases.\n",
    "   - **Larceny - All Other** and **Suspicious Activity** have the lowest recall values (0.1453 and 0.2169, respectively), indicating that the model is failing to identify most of the actual cases for these offenses.\n",
    "\n",
    "- **F1-Score**:\n",
    "   - The **F1-Score** balances precision and recall. It is highest for **Hit and Run** (0.3654), but still relatively low overall. This suggests the model is better at identifying **Hit and Run** than other offenses but still has room for improvement.\n",
    "   - **Larceny - All Other** has the lowest F1-Score (0.1772), indicating a poor balance between precision and recall for this offense.\n",
    "\n",
    "#### 4. **Macro Average and Weighted Average:**\n",
    "   - **Macro Average**: This gives the average precision, recall, and F1-Score across all classes (offenses) without considering the class distribution. It averages the results for all offenses equally.\n",
    "     - Precision: 0.2814\n",
    "     - Recall: 0.2661\n",
    "     - F1-Score: 0.2649\n",
    "   - **Weighted Average**: This averages the metrics but weighs each class by its support (the number of true instances in the test set). This gives a better sense of overall performance, considering the class distribution.\n",
    "     - Precision: 0.2799\n",
    "     - Recall: 0.2822\n",
    "     - F1-Score: 0.2720\n",
    "\n",
    "#### 5. **Confusion Matrix (Visualization Analysis)**:\n",
    "   - The confusion matrix shows the distribution of true positive, false positive, true negative, and false negative predictions for each class.\n",
    "     - For **Hit and Run**, the model performs relatively well in identifying this offense (304 true positives). However, it also misclassifies some **Hit and Run** instances as other offenses (e.g., **Assault Simple**, **Suspicious Activity**, etc.).\n",
    "     - **Larceny - All Other** is frequently misclassified as **Hit and Run**, **Suspicious Activity**, and others. This is evident from the large number of off-diagonal elements in its row.\n",
    "     - **Assist Citizen - Mental/TDO/ECO** and **Suspicious Activity** are frequently misclassified, as seen by the off-diagonal values in their rows.\n",
    "\n",
    "### Conclusion:\n",
    "The Random Forest model has low accuracy (28.22%), suggesting that it struggles to predict most offenses accurately. Some offenses like **Hit and Run** are better predicted than others, but overall, the model shows a high level of misclassification across all offenses. There may be a need for further tuning of the model, additional feature engineering, or trying different models for better performance.\n",
    "\n",
    "Let me know if you'd like to improve the model or make adjustments based on these results!\n",
    "\n"
   ]
  },
  {
   "cell_type": "markdown",
   "id": "bd47b0e5",
   "metadata": {
    "papermill": {
     "duration": 0.010726,
     "end_time": "2025-05-05T01:05:53.567707",
     "exception": false,
     "start_time": "2025-05-05T01:05:53.556981",
     "status": "completed"
    },
    "tags": []
   },
   "source": [
    "### Model Explanation\n",
    "\n",
    "Once we’ve chosen the best model, we will explain its predictions by examining feature importance for tree-based models and using statistical methods like logistic regression coefficients for linear models."
   ]
  },
  {
   "cell_type": "markdown",
   "id": "c03e6db7",
   "metadata": {
    "papermill": {
     "duration": 0.010625,
     "end_time": "2025-05-05T01:05:53.589046",
     "exception": false,
     "start_time": "2025-05-05T01:05:53.578421",
     "status": "completed"
    },
    "tags": []
   },
   "source": [
    "#### Feature Importance for Random Forest / Decision Tree\n",
    "\n",
    "##### For Tree-based Models (Random Forest, Decision Tree)\n",
    "\n",
    "For Random Forest or Decision Tree, we can look at feature importance to understand which variables contribute the most to the model's predictions. Here's how you can visualize and interpret the importance of each feature:"
   ]
  },
  {
   "cell_type": "code",
   "execution_count": 23,
   "id": "91370a09",
   "metadata": {
    "execution": {
     "iopub.execute_input": "2025-05-05T01:05:53.612443Z",
     "iopub.status.busy": "2025-05-05T01:05:53.611812Z",
     "iopub.status.idle": "2025-05-05T01:05:53.777821Z",
     "shell.execute_reply": "2025-05-05T01:05:53.777093Z"
    },
    "papermill": {
     "duration": 0.179058,
     "end_time": "2025-05-05T01:05:53.779006",
     "exception": false,
     "start_time": "2025-05-05T01:05:53.599948",
     "status": "completed"
    },
    "tags": []
   },
   "outputs": [
    {
     "data": {
      "image/png": "[encoded data removed]",
      "text/plain": [
       "<Figure size 1000x600 with 1 Axes>"
      ]
     },
     "metadata": {},
     "output_type": "display_data"
    }
   ],
   "source": [
    "# For RandomForest or DecisionTree models, we can check feature importance\n",
    "if isinstance(best_model, RandomForestClassifier) or isinstance(best_model, DecisionTreeClassifier):\n",
    "    feature_importance = best_model.feature_importances_\n",
    "    feature_names = X.columns\n",
    "    importance_df = pd.DataFrame({'Feature': feature_names, 'Importance': feature_importance})\n",
    "    importance_df = importance_df.sort_values(by='Importance', ascending=False)\n",
    "    \n",
    "    # Plotting the feature importances\n",
    "    plt.figure(figsize=(10, 6))\n",
    "    sns.barplot(x='Importance', y='Feature', data=importance_df)\n",
    "    plt.title(\"Feature Importance\")\n",
    "    plt.show()\n"
   ]
  },
  {
   "cell_type": "code",
   "execution_count": null,
   "id": "01f89902",
   "metadata": {
    "papermill": {
     "duration": 0.011012,
     "end_time": "2025-05-05T01:05:53.801634",
     "exception": false,
     "start_time": "2025-05-05T01:05:53.790622",
     "status": "completed"
    },
    "tags": []
   },
   "outputs": [],
   "source": []
  },
  {
   "cell_type": "markdown",
   "id": "b94fa1f2",
   "metadata": {
    "papermill": {
     "duration": 0.010872,
     "end_time": "2025-05-05T01:05:53.823546",
     "exception": false,
     "start_time": "2025-05-05T01:05:53.812674",
     "status": "completed"
    },
    "tags": []
   },
   "source": [
    "### Evaluation\n",
    "\n",
    "After training the models and examining their performance, we evaluate the chosen model based on metrics like accuracy, precision, recall, and F1 score.\n",
    "\n"
   ]
  },
  {
   "cell_type": "code",
   "execution_count": 24,
   "id": "b918e4b5",
   "metadata": {
    "execution": {
     "iopub.execute_input": "2025-05-05T01:05:53.846878Z",
     "iopub.status.busy": "2025-05-05T01:05:53.846362Z",
     "iopub.status.idle": "2025-05-05T01:05:53.935729Z",
     "shell.execute_reply": "2025-05-05T01:05:53.934994Z"
    },
    "papermill": {
     "duration": 0.102365,
     "end_time": "2025-05-05T01:05:53.936812",
     "exception": false,
     "start_time": "2025-05-05T01:05:53.834447",
     "status": "completed"
    },
    "tags": []
   },
   "outputs": [
    {
     "name": "stdout",
     "output_type": "stream",
     "text": [
      "Accuracy: 0.2880\n",
      "Classification Report:\n",
      "              precision    recall  f1-score   support\n",
      "\n",
      "           0       0.26      0.35      0.30       556\n",
      "           1       0.32      0.22      0.26       432\n",
      "           2       0.32      0.46      0.38       670\n",
      "           3       0.25      0.18      0.21       481\n",
      "           4       0.32      0.25      0.28       354\n",
      "           5       0.27      0.22      0.24       516\n",
      "           6       0.28      0.25      0.26       467\n",
      "\n",
      "    accuracy                           0.29      3476\n",
      "   macro avg       0.29      0.27      0.27      3476\n",
      "weighted avg       0.29      0.29      0.28      3476\n",
      "\n",
      "Confusion Matrix:\n",
      "[[193  54 137  40  33  59  40]\n",
      " [114  93  97  27  30  45  26]\n",
      " [113  45 310  66  19  62  55]\n",
      " [ 76  17 132  87  46  56  67]\n",
      " [ 56  19  73  31  87  29  59]\n",
      " [105  43 125  47  23 113  60]\n",
      " [ 86  23 103  51  35  51 118]]\n",
      "Precision: 0.2867\n",
      "Recall: 0.2880\n",
      "F1 Score: 0.2808\n"
     ]
    }
   ],
   "source": [
    "from sklearn.metrics import classification_report, confusion_matrix, accuracy_score, precision_score, recall_score, f1_score\n",
    "\n",
    "# Predict on the test set\n",
    "y_pred = best_model.predict(X_test)\n",
    "\n",
    "# Calculate Accuracy\n",
    "accuracy = accuracy_score(y_test, y_pred)\n",
    "print(f\"Accuracy: {accuracy:.4f}\")\n",
    "\n",
    "# Classification Report\n",
    "print(\"Classification Report:\")\n",
    "print(classification_report(y_test, y_pred))\n",
    "\n",
    "# Confusion Matrix\n",
    "conf_matrix = confusion_matrix(y_test, y_pred)\n",
    "print(\"Confusion Matrix:\")\n",
    "print(conf_matrix)\n",
    "\n",
    "# Precision, Recall, F1 Score for each class (Offense Type)\n",
    "precision = precision_score(y_test, y_pred, average='weighted')\n",
    "recall = recall_score(y_test, y_pred, average='weighted')\n",
    "f1 = f1_score(y_test, y_pred, average='weighted')\n",
    "\n",
    "print(f\"Precision: {precision:.4f}\")\n",
    "print(f\"Recall: {recall:.4f}\")\n",
    "print(f\"F1 Score: {f1:.4f}\")\n"
   ]
  },
  {
   "cell_type": "markdown",
   "id": "dcd5b18a",
   "metadata": {
    "papermill": {
     "duration": 0.011506,
     "end_time": "2025-05-05T01:05:53.959839",
     "exception": false,
     "start_time": "2025-05-05T01:05:53.948333",
     "status": "completed"
    },
    "tags": []
   },
   "source": [
    "#### For Logistic Regression (Coefficient Interpretation)\n",
    "\n",
    "For Logistic Regression, the model coefficients can help us understand how each feature affects the likelihood of an offense happening. A positive coefficient indicates a feature increases the likelihood of the offense, and a negative coefficient indicates the opposite."
   ]
  },
  {
   "cell_type": "code",
   "execution_count": 25,
   "id": "d17ce0e9",
   "metadata": {
    "execution": {
     "iopub.execute_input": "2025-05-05T01:05:53.983830Z",
     "iopub.status.busy": "2025-05-05T01:05:53.983277Z",
     "iopub.status.idle": "2025-05-05T01:05:53.988141Z",
     "shell.execute_reply": "2025-05-05T01:05:53.987564Z"
    },
    "papermill": {
     "duration": 0.018111,
     "end_time": "2025-05-05T01:05:53.989198",
     "exception": false,
     "start_time": "2025-05-05T01:05:53.971087",
     "status": "completed"
    },
    "tags": []
   },
   "outputs": [],
   "source": [
    "if isinstance(best_model, LogisticRegression):\n",
    "    # Logistic regression coefficients\n",
    "    coef_df = pd.DataFrame({\n",
    "        'Feature': X.columns,\n",
    "        'Coefficient': best_model.coef_[0]\n",
    "    })\n",
    "    coef_df['AbsCoefficient'] = coef_df['Coefficient'].abs()\n",
    "    coef_df = coef_df.sort_values(by='AbsCoefficient', ascending=False)\n",
    "    \n",
    "    # Plotting the coefficients\n",
    "    plt.figure(figsize=(10, 6))\n",
    "    sns.barplot(x='AbsCoefficient', y='Feature', data=coef_df)\n",
    "    plt.title(\"Logistic Regression Coefficients Impact\")\n",
    "    plt.show()\n",
    "\n",
    "    # Print the top 5 most impactful features (by absolute coefficient value)\n",
    "    print(\"Top 5 most impactful features based on coefficients:\")\n",
    "    print(coef_df.head())\n"
   ]
  },
  {
   "cell_type": "markdown",
   "id": "88c5595e",
   "metadata": {
    "papermill": {
     "duration": 0.011298,
     "end_time": "2025-05-05T01:05:54.011917",
     "exception": false,
     "start_time": "2025-05-05T01:05:54.000619",
     "status": "completed"
    },
    "tags": []
   },
   "source": [
    "Explanation of Output:\n",
    "\n",
    "Feature Importance (Random Forest/Decision Tree): The bar plot will show how important each feature is in the decision-making process. Features at the top of the list are the most influential in predicting the occurrence of offenses.\n",
    "\n",
    "Logistic Regression Coefficients: The bar plot will show the magnitude of the coefficients for each feature. Features with larger absolute values (either positive or negative) have a stronger impact on the model’s predictions. Positive coefficients increase the probability of an offense, while negative coefficients decrease it."
   ]
  },
  {
   "cell_type": "markdown",
   "id": "64b0bc85",
   "metadata": {
    "papermill": {
     "duration": 0.01108,
     "end_time": "2025-05-05T01:05:54.034280",
     "exception": false,
     "start_time": "2025-05-05T01:05:54.023200",
     "status": "completed"
    },
    "tags": []
   },
   "source": []
  }
 ],
 "metadata": {
  "kernelspec": {
   "display_name": "Python 3",
   "language": "python",
   "name": "python3"
  },
  "language_info": {
   "codemirror_mode": {
    "name": "ipython",
    "version": 3
   },
   "file_extension": ".py",
   "mimetype": "text/x-python",
   "name": "python",
   "nbconvert_exporter": "python",
   "pygments_lexer": "ipython3",
   "version": "3.9.22"
  },
  "papermill": {
   "default_parameters": {},
   "duration": 78.882775,
   "end_time": "2025-05-05T01:05:54.562769",
   "environment_variables": {},
   "exception": null,
   "input_path": "notebook/Crime Data.ipynb",
   "output_path": "notebook/Crime Data_output.ipynb",
   "parameters": {},
   "start_time": "2025-05-05T01:04:35.679994",
   "version": "2.6.0"
  }
 },
 "nbformat": 4,
 "nbformat_minor": 5
}