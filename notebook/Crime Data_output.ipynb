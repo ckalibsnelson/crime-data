{
 "cells": [
  {
   "cell_type": "markdown",
   "id": "624cafbd",
   "metadata": {
    "papermill": {
     "duration": 0.004306,
     "end_time": "2025-08-20T01:01:14.216049",
     "exception": false,
     "start_time": "2025-08-20T01:01:14.211743",
     "status": "completed"
    },
    "tags": []
   },
   "source": [
    "# Charlottesville Open Data Porttal: Crime Data"
   ]
  },
  {
   "cell_type": "markdown",
   "id": "77aad35e",
   "metadata": {
    "papermill": {
     "duration": 0.004199,
     "end_time": "2025-08-20T01:01:14.223822",
     "exception": false,
     "start_time": "2025-08-20T01:01:14.219623",
     "status": "completed"
    },
    "tags": []
   },
   "source": [
    "## Import Relevant Librarires & Set WD"
   ]
  },
  {
   "cell_type": "code",
   "execution_count": 1,
   "id": "2e7c9e63",
   "metadata": {
    "execution": {
     "iopub.execute_input": "2025-08-20T01:01:14.231231Z",
     "iopub.status.busy": "2025-08-20T01:01:14.231000Z",
     "iopub.status.idle": "2025-08-20T01:01:14.812539Z",
     "shell.execute_reply": "2025-08-20T01:01:14.811780Z"
    },
    "papermill": {
     "duration": 0.58694,
     "end_time": "2025-08-20T01:01:14.814007",
     "exception": false,
     "start_time": "2025-08-20T01:01:14.227067",
     "status": "completed"
    },
    "tags": []
   },
   "outputs": [],
   "source": [
    "import requests\n",
    "import pandas as pd\n",
    "import numpy as np\n",
    "import pickle\n",
    "import googlemaps\n",
    "import plotly.express as px\n",
    "from geopy.geocoders import Nominatim\n",
    "import time\n",
    "from dotenv import load_dotenv\n",
    "import os\n",
    "\n",
    "env_path = os.path.join(\"..\", \".env\")\n",
    "#print(\"Looking for .env file at:\", os.path.abspath(env_path))\n",
    "load_dotenv(dotenv_path=env_path)\n",
    "\n",
    "# Retrieve the variables\n",
    "GOOGLE_API_KEY = os.getenv(\"GOOGLE_API_KEY\")\n",
    "WORKING_DIR = os.getenv(\"WORKING_DIR\")\n",
    "\n",
    "if GOOGLE_API_KEY is None or WORKING_DIR is None:\n",
    "    raise RuntimeError(\"No configuration found. Please ensure that your .env file exists with the required variables, or create a local config.py file.\")\n",
    "\n",
    "#print(\"Google API Key:\", GOOGLE_API_KEY)\n",
    "#print(\"Working Directory:\", WORKING_DIR)"
   ]
  },
  {
   "cell_type": "markdown",
   "id": "900cf707",
   "metadata": {
    "papermill": {
     "duration": 0.003402,
     "end_time": "2025-08-20T01:01:14.821071",
     "exception": false,
     "start_time": "2025-08-20T01:01:14.817669",
     "status": "completed"
    },
    "tags": []
   },
   "source": [
    "## Import Data\n",
    "\n",
    "URL: https://opendata.charlottesville.org/datasets/charlottesville::crime-data/about"
   ]
  },
  {
   "cell_type": "code",
   "execution_count": 2,
   "id": "25de6fd9",
   "metadata": {
    "execution": {
     "iopub.execute_input": "2025-08-20T01:01:14.828557Z",
     "iopub.status.busy": "2025-08-20T01:01:14.828249Z",
     "iopub.status.idle": "2025-08-20T01:02:23.747886Z",
     "shell.execute_reply": "2025-08-20T01:02:23.747128Z"
    },
    "papermill": {
     "duration": 68.927571,
     "end_time": "2025-08-20T01:02:23.751943",
     "exception": false,
     "start_time": "2025-08-20T01:01:14.824372",
     "status": "completed"
    },
    "tags": []
   },
   "outputs": [
    {
     "name": "stdout",
     "output_type": "stream",
     "text": [
      "Total records imported: 25656\n"
     ]
    }
   ],
   "source": [
    "# Define the endpoint and initial parameters.\n",
    "url = \"https://gisweb.charlottesville.org/arcgis/rest/services/OpenData_2/MapServer/6/query\"\n",
    "params = {\n",
    "    \"where\": \"1=1\",\n",
    "    \"outFields\": \"*\",\n",
    "    \"outSR\": 4326,\n",
    "    \"f\": \"json\",\n",
    "    \"resultOffset\": 0,       # Starting index for results\n",
    "    \"resultRecordCount\": 10000  # Maximum records per batch (if allowed by the API)\n",
    "}\n",
    "\n",
    "records = []\n",
    "\n",
    "while True:\n",
    "    response = requests.get(url, params=params)\n",
    "    response.raise_for_status()\n",
    "    data = response.json()\n",
    "    \n",
    "    # Get the current batch of features.\n",
    "    features = data.get(\"features\", [])\n",
    "    if not features:\n",
    "        break\n",
    "\n",
    "    # Extract the attributes from the features.\n",
    "    batch_records = [feature.get(\"attributes\", {}) for feature in features]\n",
    "    records.extend(batch_records)\n",
    "    \n",
    "    # If the batch size is less than the requested count, we reached the end.\n",
    "    if len(features) < params[\"resultRecordCount\"]:\n",
    "        break\n",
    "\n",
    "    # Update the resultOffset for the next batch.\n",
    "    params[\"resultOffset\"] += params[\"resultRecordCount\"]\n",
    "\n",
    "# Create a DataFrame from the combined records.\n",
    "df = pd.DataFrame(records)\n",
    "print(\"Total records imported:\", len(df))\n"
   ]
  },
  {
   "cell_type": "code",
   "execution_count": 3,
   "id": "cac62675",
   "metadata": {
    "execution": {
     "iopub.execute_input": "2025-08-20T01:02:23.759858Z",
     "iopub.status.busy": "2025-08-20T01:02:23.759633Z",
     "iopub.status.idle": "2025-08-20T01:02:23.771748Z",
     "shell.execute_reply": "2025-08-20T01:02:23.771194Z"
    },
    "papermill": {
     "duration": 0.017221,
     "end_time": "2025-08-20T01:02:23.772712",
     "exception": false,
     "start_time": "2025-08-20T01:02:23.755491",
     "status": "completed"
    },
    "tags": []
   },
   "outputs": [
    {
     "data": {
      "text/html": [
       "<div>\n",
       "<style scoped>\n",
       "    .dataframe tbody tr th:only-of-type {\n",
       "        vertical-align: middle;\n",
       "    }\n",
       "\n",
       "    .dataframe tbody tr th {\n",
       "        vertical-align: top;\n",
       "    }\n",
       "\n",
       "    .dataframe thead th {\n",
       "        text-align: right;\n",
       "    }\n",
       "</style>\n",
       "<table border=\"1\" class=\"dataframe\">\n",
       "  <thead>\n",
       "    <tr style=\"text-align: right;\">\n",
       "      <th></th>\n",
       "      <th>RecordID</th>\n",
       "      <th>Offense</th>\n",
       "      <th>IncidentID</th>\n",
       "      <th>BlockNumber</th>\n",
       "      <th>StreetName</th>\n",
       "      <th>Agency</th>\n",
       "      <th>DateReported</th>\n",
       "      <th>HourReported</th>\n",
       "      <th>ReportingOfficer</th>\n",
       "    </tr>\n",
       "  </thead>\n",
       "  <tbody>\n",
       "    <tr>\n",
       "      <th>0</th>\n",
       "      <td>1</td>\n",
       "      <td>Larceny - Theft from Building</td>\n",
       "      <td>202500029216</td>\n",
       "      <td>1400</td>\n",
       "      <td>VINE ST</td>\n",
       "      <td>CPD</td>\n",
       "      <td>1755468979000</td>\n",
       "      <td>1816</td>\n",
       "      <td>Ritter, Kobe</td>\n",
       "    </tr>\n",
       "    <tr>\n",
       "      <th>1</th>\n",
       "      <td>2</td>\n",
       "      <td>Larceny - Theft from Building</td>\n",
       "      <td>202500029168</td>\n",
       "      <td>1000</td>\n",
       "      <td>SEMINOLE</td>\n",
       "      <td>CPD</td>\n",
       "      <td>1755436045000</td>\n",
       "      <td>0907</td>\n",
       "      <td>Mian, Ghulam</td>\n",
       "    </tr>\n",
       "    <tr>\n",
       "      <th>2</th>\n",
       "      <td>3</td>\n",
       "      <td>Assault Simple</td>\n",
       "      <td>202500029163</td>\n",
       "      <td>800</td>\n",
       "      <td>HARDY DR, B</td>\n",
       "      <td>CPD</td>\n",
       "      <td>1755416012000</td>\n",
       "      <td>0333</td>\n",
       "      <td>Verdin, Alejandra</td>\n",
       "    </tr>\n",
       "    <tr>\n",
       "      <th>3</th>\n",
       "      <td>4</td>\n",
       "      <td>Traffic Stops</td>\n",
       "      <td>202500029160</td>\n",
       "      <td></td>\n",
       "      <td>WOODSTOCK DR / ANGUS RD</td>\n",
       "      <td>CPD</td>\n",
       "      <td>1755412660000</td>\n",
       "      <td>0237</td>\n",
       "      <td>Anderson, Kristopher</td>\n",
       "    </tr>\n",
       "    <tr>\n",
       "      <th>4</th>\n",
       "      <td>5</td>\n",
       "      <td>Assault Aggravated</td>\n",
       "      <td>202500029142</td>\n",
       "      <td>800</td>\n",
       "      <td>W MAIN ST</td>\n",
       "      <td>CPD</td>\n",
       "      <td>1755400655000</td>\n",
       "      <td>2317</td>\n",
       "      <td>Benbow, Lauren</td>\n",
       "    </tr>\n",
       "  </tbody>\n",
       "</table>\n",
       "</div>"
      ],
      "text/plain": [
       "   RecordID                        Offense    IncidentID BlockNumber  \\\n",
       "0         1  Larceny - Theft from Building  202500029216        1400   \n",
       "1         2  Larceny - Theft from Building  202500029168        1000   \n",
       "2         3                 Assault Simple  202500029163         800   \n",
       "3         4                  Traffic Stops  202500029160               \n",
       "4         5             Assault Aggravated  202500029142         800   \n",
       "\n",
       "                StreetName Agency   DateReported HourReported  \\\n",
       "0                  VINE ST    CPD  1755468979000         1816   \n",
       "1                 SEMINOLE    CPD  1755436045000         0907   \n",
       "2              HARDY DR, B    CPD  1755416012000         0333   \n",
       "3  WOODSTOCK DR / ANGUS RD    CPD  1755412660000         0237   \n",
       "4                W MAIN ST    CPD  1755400655000         2317   \n",
       "\n",
       "       ReportingOfficer  \n",
       "0          Ritter, Kobe  \n",
       "1          Mian, Ghulam  \n",
       "2     Verdin, Alejandra  \n",
       "3  Anderson, Kristopher  \n",
       "4        Benbow, Lauren  "
      ]
     },
     "execution_count": 3,
     "metadata": {},
     "output_type": "execute_result"
    }
   ],
   "source": [
    "df.head()"
   ]
  },
  {
   "cell_type": "code",
   "execution_count": 4,
   "id": "409cf52c",
   "metadata": {
    "execution": {
     "iopub.execute_input": "2025-08-20T01:02:23.780639Z",
     "iopub.status.busy": "2025-08-20T01:02:23.780421Z",
     "iopub.status.idle": "2025-08-20T01:02:23.784308Z",
     "shell.execute_reply": "2025-08-20T01:02:23.783814Z"
    },
    "papermill": {
     "duration": 0.008915,
     "end_time": "2025-08-20T01:02:23.785223",
     "exception": false,
     "start_time": "2025-08-20T01:02:23.776308",
     "status": "completed"
    },
    "tags": []
   },
   "outputs": [
    {
     "data": {
      "text/plain": [
       "Index(['RecordID', 'Offense', 'IncidentID', 'BlockNumber', 'StreetName',\n",
       "       'Agency', 'DateReported', 'HourReported', 'ReportingOfficer'],\n",
       "      dtype='object')"
      ]
     },
     "execution_count": 4,
     "metadata": {},
     "output_type": "execute_result"
    }
   ],
   "source": [
    "df.columns"
   ]
  },
  {
   "cell_type": "code",
   "execution_count": 5,
   "id": "90e59e5a",
   "metadata": {
    "execution": {
     "iopub.execute_input": "2025-08-20T01:02:23.793384Z",
     "iopub.status.busy": "2025-08-20T01:02:23.793132Z",
     "iopub.status.idle": "2025-08-20T01:02:23.811999Z",
     "shell.execute_reply": "2025-08-20T01:02:23.811441Z"
    },
    "papermill": {
     "duration": 0.02401,
     "end_time": "2025-08-20T01:02:23.812973",
     "exception": false,
     "start_time": "2025-08-20T01:02:23.788963",
     "status": "completed"
    },
    "tags": []
   },
   "outputs": [
    {
     "name": "stdout",
     "output_type": "stream",
     "text": [
      "<class 'pandas.core.frame.DataFrame'>\n",
      "RangeIndex: 25656 entries, 0 to 25655\n",
      "Data columns (total 9 columns):\n",
      " #   Column            Non-Null Count  Dtype \n",
      "---  ------            --------------  ----- \n",
      " 0   RecordID          25656 non-null  int64 \n",
      " 1   Offense           25656 non-null  object\n",
      " 2   IncidentID        25656 non-null  object\n",
      " 3   BlockNumber       25656 non-null  object\n",
      " 4   StreetName        25656 non-null  object\n",
      " 5   Agency            25656 non-null  object\n",
      " 6   DateReported      25656 non-null  int64 \n",
      " 7   HourReported      25656 non-null  object\n",
      " 8   ReportingOfficer  25641 non-null  object\n",
      "dtypes: int64(2), object(7)\n",
      "memory usage: 1.8+ MB\n"
     ]
    }
   ],
   "source": [
    "df.info()"
   ]
  },
  {
   "cell_type": "markdown",
   "id": "662d332e",
   "metadata": {
    "papermill": {
     "duration": 0.003784,
     "end_time": "2025-08-20T01:02:23.820649",
     "exception": false,
     "start_time": "2025-08-20T01:02:23.816865",
     "status": "completed"
    },
    "tags": []
   },
   "source": [
    "### Missing Values"
   ]
  },
  {
   "cell_type": "code",
   "execution_count": 6,
   "id": "36d51085",
   "metadata": {
    "execution": {
     "iopub.execute_input": "2025-08-20T01:02:23.828896Z",
     "iopub.status.busy": "2025-08-20T01:02:23.828661Z",
     "iopub.status.idle": "2025-08-20T01:02:23.845807Z",
     "shell.execute_reply": "2025-08-20T01:02:23.845254Z"
    },
    "papermill": {
     "duration": 0.022458,
     "end_time": "2025-08-20T01:02:23.846834",
     "exception": false,
     "start_time": "2025-08-20T01:02:23.824376",
     "status": "completed"
    },
    "tags": []
   },
   "outputs": [
    {
     "name": "stdout",
     "output_type": "stream",
     "text": [
      "                  MissingCount  MissingPercentage\n",
      "RecordID                     0               0.00\n",
      "Offense                      0               0.00\n",
      "IncidentID                   0               0.00\n",
      "BlockNumber                  0               0.00\n",
      "StreetName                   0               0.00\n",
      "Agency                       0               0.00\n",
      "DateReported                 0               0.00\n",
      "HourReported                 0               0.00\n",
      "ReportingOfficer            15               0.06\n"
     ]
    }
   ],
   "source": [
    "def missing_percentage(df):\n",
    "    \"\"\"\n",
    "    Returns a DataFrame with the count and percentage of missing values for each column.\n",
    "    \n",
    "    Parameters:\n",
    "        df (pd.DataFrame): The input DataFrame.\n",
    "    \n",
    "    Returns:\n",
    "        pd.DataFrame: A DataFrame with columns 'MissingCount' and 'MissingPercentage'.\n",
    "    \"\"\"\n",
    "    total_rows = len(df)\n",
    "    missing_count = df.isnull().sum()\n",
    "    missing_percent = (missing_count / total_rows) * 100\n",
    "    \n",
    "    result = pd.DataFrame({\n",
    "        'MissingCount': missing_count,\n",
    "        'MissingPercentage': missing_percent.round(2)\n",
    "    })\n",
    "    \n",
    "    return result\n",
    "\n",
    "# Example usage:\n",
    "missing_info = missing_percentage(df)\n",
    "print(missing_info)\n"
   ]
  },
  {
   "cell_type": "markdown",
   "id": "d9def2c0",
   "metadata": {
    "papermill": {
     "duration": 0.00383,
     "end_time": "2025-08-20T01:02:23.854693",
     "exception": false,
     "start_time": "2025-08-20T01:02:23.850863",
     "status": "completed"
    },
    "tags": []
   },
   "source": [
    "## Data Preparation"
   ]
  },
  {
   "cell_type": "markdown",
   "id": "85942ace",
   "metadata": {
    "papermill": {
     "duration": 0.00385,
     "end_time": "2025-08-20T01:02:23.862452",
     "exception": false,
     "start_time": "2025-08-20T01:02:23.858602",
     "status": "completed"
    },
    "tags": []
   },
   "source": [
    "### Data Conversion"
   ]
  },
  {
   "cell_type": "code",
   "execution_count": 7,
   "id": "4da5af7f",
   "metadata": {
    "execution": {
     "iopub.execute_input": "2025-08-20T01:02:23.870914Z",
     "iopub.status.busy": "2025-08-20T01:02:23.870734Z",
     "iopub.status.idle": "2025-08-20T01:02:24.230037Z",
     "shell.execute_reply": "2025-08-20T01:02:24.229325Z"
    },
    "papermill": {
     "duration": 0.364758,
     "end_time": "2025-08-20T01:02:24.231138",
     "exception": false,
     "start_time": "2025-08-20T01:02:23.866380",
     "status": "completed"
    },
    "tags": []
   },
   "outputs": [
    {
     "data": {
      "text/html": [
       "<div>\n",
       "<style scoped>\n",
       "    .dataframe tbody tr th:only-of-type {\n",
       "        vertical-align: middle;\n",
       "    }\n",
       "\n",
       "    .dataframe tbody tr th {\n",
       "        vertical-align: top;\n",
       "    }\n",
       "\n",
       "    .dataframe thead th {\n",
       "        text-align: right;\n",
       "    }\n",
       "</style>\n",
       "<table border=\"1\" class=\"dataframe\">\n",
       "  <thead>\n",
       "    <tr style=\"text-align: right;\">\n",
       "      <th></th>\n",
       "      <th>RecordID</th>\n",
       "      <th>Offense</th>\n",
       "      <th>IncidentID</th>\n",
       "      <th>BlockNumber</th>\n",
       "      <th>StreetName</th>\n",
       "      <th>Agency</th>\n",
       "      <th>HourReported</th>\n",
       "      <th>ReportingOfficer</th>\n",
       "      <th>Date</th>\n",
       "      <th>DateString</th>\n",
       "      <th>DayOfWeek</th>\n",
       "      <th>Weekend</th>\n",
       "      <th>Season</th>\n",
       "      <th>HourAMPM</th>\n",
       "      <th>TimeOfDay</th>\n",
       "    </tr>\n",
       "  </thead>\n",
       "  <tbody>\n",
       "    <tr>\n",
       "      <th>0</th>\n",
       "      <td>1</td>\n",
       "      <td>Larceny - Theft from Building</td>\n",
       "      <td>202500029216</td>\n",
       "      <td>1400</td>\n",
       "      <td>VINE ST</td>\n",
       "      <td>CPD</td>\n",
       "      <td>1816</td>\n",
       "      <td>Ritter, Kobe</td>\n",
       "      <td>2025-08-17 18:16:19</td>\n",
       "      <td>2025-08-17 06:16:19 PM</td>\n",
       "      <td>Sunday</td>\n",
       "      <td>True</td>\n",
       "      <td>Summer</td>\n",
       "      <td>06:16 PM</td>\n",
       "      <td>Evening</td>\n",
       "    </tr>\n",
       "    <tr>\n",
       "      <th>1</th>\n",
       "      <td>2</td>\n",
       "      <td>Larceny - Theft from Building</td>\n",
       "      <td>202500029168</td>\n",
       "      <td>1000</td>\n",
       "      <td>SEMINOLE</td>\n",
       "      <td>CPD</td>\n",
       "      <td>0907</td>\n",
       "      <td>Mian, Ghulam</td>\n",
       "      <td>2025-08-17 09:07:25</td>\n",
       "      <td>2025-08-17 09:07:25 AM</td>\n",
       "      <td>Sunday</td>\n",
       "      <td>True</td>\n",
       "      <td>Summer</td>\n",
       "      <td>09:07 AM</td>\n",
       "      <td>Morning</td>\n",
       "    </tr>\n",
       "    <tr>\n",
       "      <th>2</th>\n",
       "      <td>3</td>\n",
       "      <td>Assault Simple</td>\n",
       "      <td>202500029163</td>\n",
       "      <td>800</td>\n",
       "      <td>HARDY DR, B</td>\n",
       "      <td>CPD</td>\n",
       "      <td>0333</td>\n",
       "      <td>Verdin, Alejandra</td>\n",
       "      <td>2025-08-17 03:33:32</td>\n",
       "      <td>2025-08-17 03:33:32 AM</td>\n",
       "      <td>Sunday</td>\n",
       "      <td>True</td>\n",
       "      <td>Summer</td>\n",
       "      <td>03:33 AM</td>\n",
       "      <td>Night</td>\n",
       "    </tr>\n",
       "    <tr>\n",
       "      <th>3</th>\n",
       "      <td>4</td>\n",
       "      <td>Traffic Stops</td>\n",
       "      <td>202500029160</td>\n",
       "      <td></td>\n",
       "      <td>WOODSTOCK DR / ANGUS RD</td>\n",
       "      <td>CPD</td>\n",
       "      <td>0237</td>\n",
       "      <td>Anderson, Kristopher</td>\n",
       "      <td>2025-08-17 02:37:40</td>\n",
       "      <td>2025-08-17 02:37:40 AM</td>\n",
       "      <td>Sunday</td>\n",
       "      <td>True</td>\n",
       "      <td>Summer</td>\n",
       "      <td>02:37 AM</td>\n",
       "      <td>Night</td>\n",
       "    </tr>\n",
       "    <tr>\n",
       "      <th>4</th>\n",
       "      <td>5</td>\n",
       "      <td>Assault Aggravated</td>\n",
       "      <td>202500029142</td>\n",
       "      <td>800</td>\n",
       "      <td>W MAIN ST</td>\n",
       "      <td>CPD</td>\n",
       "      <td>2317</td>\n",
       "      <td>Benbow, Lauren</td>\n",
       "      <td>2025-08-16 23:17:35</td>\n",
       "      <td>2025-08-16 11:17:35 PM</td>\n",
       "      <td>Saturday</td>\n",
       "      <td>True</td>\n",
       "      <td>Summer</td>\n",
       "      <td>11:17 PM</td>\n",
       "      <td>Night</td>\n",
       "    </tr>\n",
       "  </tbody>\n",
       "</table>\n",
       "</div>"
      ],
      "text/plain": [
       "   RecordID                        Offense    IncidentID BlockNumber  \\\n",
       "0         1  Larceny - Theft from Building  202500029216        1400   \n",
       "1         2  Larceny - Theft from Building  202500029168        1000   \n",
       "2         3                 Assault Simple  202500029163         800   \n",
       "3         4                  Traffic Stops  202500029160               \n",
       "4         5             Assault Aggravated  202500029142         800   \n",
       "\n",
       "                StreetName Agency HourReported      ReportingOfficer  \\\n",
       "0                  VINE ST    CPD         1816          Ritter, Kobe   \n",
       "1                 SEMINOLE    CPD         0907          Mian, Ghulam   \n",
       "2              HARDY DR, B    CPD         0333     Verdin, Alejandra   \n",
       "3  WOODSTOCK DR / ANGUS RD    CPD         0237  Anderson, Kristopher   \n",
       "4                W MAIN ST    CPD         2317        Benbow, Lauren   \n",
       "\n",
       "                 Date              DateString DayOfWeek  Weekend  Season  \\\n",
       "0 2025-08-17 18:16:19  2025-08-17 06:16:19 PM    Sunday     True  Summer   \n",
       "1 2025-08-17 09:07:25  2025-08-17 09:07:25 AM    Sunday     True  Summer   \n",
       "2 2025-08-17 03:33:32  2025-08-17 03:33:32 AM    Sunday     True  Summer   \n",
       "3 2025-08-17 02:37:40  2025-08-17 02:37:40 AM    Sunday     True  Summer   \n",
       "4 2025-08-16 23:17:35  2025-08-16 11:17:35 PM  Saturday     True  Summer   \n",
       "\n",
       "   HourAMPM TimeOfDay  \n",
       "0  06:16 PM   Evening  \n",
       "1  09:07 AM   Morning  \n",
       "2  03:33 AM     Night  \n",
       "3  02:37 AM     Night  \n",
       "4  11:17 PM     Night  "
      ]
     },
     "execution_count": 7,
     "metadata": {},
     "output_type": "execute_result"
    }
   ],
   "source": [
    "def convert_and_categorize_datereported(df, col='DateReported'):\n",
    "    \"\"\"\n",
    "    Converts an epoch (in milliseconds) date column into a timezone-aware datetime,\n",
    "    converts it to Eastern Time, and then creates columns for day-of-week, weekend flag,\n",
    "    season, 12-hour formatted time, and time-of-day. Keeps both a real datetime column\n",
    "    (Date) and a string representation (DateString).\n",
    "    \"\"\"\n",
    "    import pandas as pd\n",
    "\n",
    "    # Convert the epoch timestamp to a pandas datetime object as UTC, then convert to US/Eastern.\n",
    "    df[\"DateReported_dt\"] = (\n",
    "        pd.to_datetime(df[col], unit=\"ms\", errors=\"coerce\", utc=True)\n",
    "        .dt.tz_convert(\"US/Eastern\")\n",
    "    )\n",
    "    \n",
    "    # Create a true datetime column (remove timezone if you prefer naive datetime)\n",
    "    df[\"Date\"] = df[\"DateReported_dt\"].dt.tz_localize(None)\n",
    "\n",
    "    # Optionally, create a separate string-formatted column\n",
    "    df[\"DateString\"] = df[\"DateReported_dt\"].dt.strftime(\"%Y-%m-%d %I:%M:%S %p\")\n",
    "    \n",
    "    # DayOfWeek\n",
    "    df[\"DayOfWeek\"] = df[\"DateReported_dt\"].dt.day_name()\n",
    "    \n",
    "    # Weekend\n",
    "    df[\"Weekend\"] = df[\"DayOfWeek\"].isin([\"Saturday\", \"Sunday\"])\n",
    "    \n",
    "    # Helper function to determine the season\n",
    "    def get_season(dt):\n",
    "        month = dt.month\n",
    "        day = dt.day\n",
    "        # Approximate Northern Hemisphere season boundaries:\n",
    "        if (month == 12 and day >= 21) or (month < 3) or (month == 3 and day < 20):\n",
    "            return \"Winter\"\n",
    "        elif (month == 3 and day >= 20) or (month < 6) or (month == 6 and day < 21):\n",
    "            return \"Spring\"\n",
    "        elif (month == 6 and day >= 21) or (month < 9) or (month == 9 and day < 22):\n",
    "            return \"Summer\"\n",
    "        else:\n",
    "            return \"Autumn\"\n",
    "    \n",
    "    df[\"Season\"] = df[\"DateReported_dt\"].apply(get_season)\n",
    "    \n",
    "    # 12-hour formatted time (HourAMPM)\n",
    "    df[\"HourAMPM\"] = df[\"DateReported_dt\"].dt.strftime(\"%I:%M %p\")\n",
    "    \n",
    "    # Extract hour (0-23) for time-of-day\n",
    "    df[\"HourValue\"] = df[\"DateReported_dt\"].dt.hour\n",
    "    \n",
    "    def time_of_day(hour):\n",
    "        if pd.isnull(hour):\n",
    "            return None\n",
    "        if 5 <= hour < 12:\n",
    "            return \"Morning\"\n",
    "        elif 12 <= hour < 17:\n",
    "            return \"Afternoon\"\n",
    "        elif 17 <= hour < 21:\n",
    "            return \"Evening\"\n",
    "        else:\n",
    "            return \"Night\"\n",
    "    \n",
    "    df[\"TimeOfDay\"] = df[\"HourValue\"].apply(time_of_day)\n",
    "    \n",
    "    # Drop columns you no longer need\n",
    "    df.drop(columns=[col, \"DateReported_dt\", \"HourValue\"], inplace=True)\n",
    "    \n",
    "    return df\n",
    "\n",
    "# Example usage:\n",
    "df = convert_and_categorize_datereported(df)\n",
    "df.head()\n"
   ]
  },
  {
   "cell_type": "code",
   "execution_count": 8,
   "id": "5573f4d6",
   "metadata": {
    "execution": {
     "iopub.execute_input": "2025-08-20T01:02:24.240440Z",
     "iopub.status.busy": "2025-08-20T01:02:24.240215Z",
     "iopub.status.idle": "2025-08-20T01:02:24.265955Z",
     "shell.execute_reply": "2025-08-20T01:02:24.265275Z"
    },
    "papermill": {
     "duration": 0.031499,
     "end_time": "2025-08-20T01:02:24.267031",
     "exception": false,
     "start_time": "2025-08-20T01:02:24.235532",
     "status": "completed"
    },
    "tags": []
   },
   "outputs": [
    {
     "name": "stdout",
     "output_type": "stream",
     "text": [
      "<class 'pandas.core.frame.DataFrame'>\n",
      "RangeIndex: 25656 entries, 0 to 25655\n",
      "Data columns (total 15 columns):\n",
      " #   Column            Non-Null Count  Dtype         \n",
      "---  ------            --------------  -----         \n",
      " 0   RecordID          25656 non-null  int64         \n",
      " 1   Offense           25656 non-null  object        \n",
      " 2   IncidentID        25656 non-null  object        \n",
      " 3   BlockNumber       25656 non-null  object        \n",
      " 4   StreetName        25656 non-null  object        \n",
      " 5   Agency            25656 non-null  object        \n",
      " 6   HourReported      25656 non-null  object        \n",
      " 7   ReportingOfficer  25641 non-null  object        \n",
      " 8   Date              25656 non-null  datetime64[ns]\n",
      " 9   DateString        25656 non-null  object        \n",
      " 10  DayOfWeek         25656 non-null  object        \n",
      " 11  Weekend           25656 non-null  bool          \n",
      " 12  Season            25656 non-null  object        \n",
      " 13  HourAMPM          25656 non-null  object        \n",
      " 14  TimeOfDay         25656 non-null  object        \n",
      "dtypes: bool(1), datetime64[ns](1), int64(1), object(12)\n",
      "memory usage: 2.8+ MB\n"
     ]
    }
   ],
   "source": [
    "df.info()"
   ]
  },
  {
   "cell_type": "markdown",
   "id": "2383fcca",
   "metadata": {
    "papermill": {
     "duration": 0.004115,
     "end_time": "2025-08-20T01:02:24.275628",
     "exception": false,
     "start_time": "2025-08-20T01:02:24.271513",
     "status": "completed"
    },
    "tags": []
   },
   "source": [
    "### Coordinates"
   ]
  },
  {
   "cell_type": "code",
   "execution_count": 9,
   "id": "1dea3951",
   "metadata": {
    "execution": {
     "iopub.execute_input": "2025-08-20T01:02:24.284702Z",
     "iopub.status.busy": "2025-08-20T01:02:24.284520Z",
     "iopub.status.idle": "2025-08-20T01:02:24.447060Z",
     "shell.execute_reply": "2025-08-20T01:02:24.446382Z"
    },
    "papermill": {
     "duration": 0.168338,
     "end_time": "2025-08-20T01:02:24.448061",
     "exception": false,
     "start_time": "2025-08-20T01:02:24.279723",
     "status": "completed"
    },
    "tags": []
   },
   "outputs": [
    {
     "name": "stdout",
     "output_type": "stream",
     "text": [
      "Loaded geocode cache.\n",
      "Error geocoding  WOODSTOCK DR / ANGUS RD: REQUEST_DENIED (You must enable Billing on the Google Cloud Project at https://console.cloud.google.com/project/_/billing/enable Learn more at https://developers.google.com/maps/gmp-get-started)\n",
      "Geocoded  WOODSTOCK DR / ANGUS RD: None, None\n",
      "Geocode cache updated and saved.\n"
     ]
    },
    {
     "data": {
      "text/html": [
       "<div>\n",
       "<style scoped>\n",
       "    .dataframe tbody tr th:only-of-type {\n",
       "        vertical-align: middle;\n",
       "    }\n",
       "\n",
       "    .dataframe tbody tr th {\n",
       "        vertical-align: top;\n",
       "    }\n",
       "\n",
       "    .dataframe thead th {\n",
       "        text-align: right;\n",
       "    }\n",
       "</style>\n",
       "<table border=\"1\" class=\"dataframe\">\n",
       "  <thead>\n",
       "    <tr style=\"text-align: right;\">\n",
       "      <th></th>\n",
       "      <th>RecordID</th>\n",
       "      <th>Offense</th>\n",
       "      <th>IncidentID</th>\n",
       "      <th>BlockNumber</th>\n",
       "      <th>StreetName</th>\n",
       "      <th>Agency</th>\n",
       "      <th>HourReported</th>\n",
       "      <th>ReportingOfficer</th>\n",
       "      <th>Date</th>\n",
       "      <th>DateString</th>\n",
       "      <th>DayOfWeek</th>\n",
       "      <th>Weekend</th>\n",
       "      <th>Season</th>\n",
       "      <th>HourAMPM</th>\n",
       "      <th>TimeOfDay</th>\n",
       "      <th>FullStreet</th>\n",
       "      <th>lat</th>\n",
       "      <th>lon</th>\n",
       "    </tr>\n",
       "  </thead>\n",
       "  <tbody>\n",
       "    <tr>\n",
       "      <th>0</th>\n",
       "      <td>1</td>\n",
       "      <td>Larceny - Theft from Building</td>\n",
       "      <td>202500029216</td>\n",
       "      <td>1400</td>\n",
       "      <td>VINE ST</td>\n",
       "      <td>CPD</td>\n",
       "      <td>1816</td>\n",
       "      <td>Ritter, Kobe</td>\n",
       "      <td>2025-08-17 18:16:19</td>\n",
       "      <td>2025-08-17 06:16:19 PM</td>\n",
       "      <td>Sunday</td>\n",
       "      <td>True</td>\n",
       "      <td>Summer</td>\n",
       "      <td>06:16 PM</td>\n",
       "      <td>Evening</td>\n",
       "      <td>1400 VINE ST</td>\n",
       "      <td>38.019716</td>\n",
       "      <td>-78.468584</td>\n",
       "    </tr>\n",
       "    <tr>\n",
       "      <th>1</th>\n",
       "      <td>2</td>\n",
       "      <td>Larceny - Theft from Building</td>\n",
       "      <td>202500029168</td>\n",
       "      <td>1000</td>\n",
       "      <td>SEMINOLE</td>\n",
       "      <td>CPD</td>\n",
       "      <td>0907</td>\n",
       "      <td>Mian, Ghulam</td>\n",
       "      <td>2025-08-17 09:07:25</td>\n",
       "      <td>2025-08-17 09:07:25 AM</td>\n",
       "      <td>Sunday</td>\n",
       "      <td>True</td>\n",
       "      <td>Summer</td>\n",
       "      <td>09:07 AM</td>\n",
       "      <td>Morning</td>\n",
       "      <td>1000 SEMINOLE</td>\n",
       "      <td>38.063882</td>\n",
       "      <td>-78.490122</td>\n",
       "    </tr>\n",
       "    <tr>\n",
       "      <th>2</th>\n",
       "      <td>3</td>\n",
       "      <td>Assault Simple</td>\n",
       "      <td>202500029163</td>\n",
       "      <td>800</td>\n",
       "      <td>HARDY DR, B</td>\n",
       "      <td>CPD</td>\n",
       "      <td>0333</td>\n",
       "      <td>Verdin, Alejandra</td>\n",
       "      <td>2025-08-17 03:33:32</td>\n",
       "      <td>2025-08-17 03:33:32 AM</td>\n",
       "      <td>Sunday</td>\n",
       "      <td>True</td>\n",
       "      <td>Summer</td>\n",
       "      <td>03:33 AM</td>\n",
       "      <td>Night</td>\n",
       "      <td>800 HARDY DR, B</td>\n",
       "      <td>38.033239</td>\n",
       "      <td>-78.490398</td>\n",
       "    </tr>\n",
       "    <tr>\n",
       "      <th>3</th>\n",
       "      <td>4</td>\n",
       "      <td>Traffic Stops</td>\n",
       "      <td>202500029160</td>\n",
       "      <td></td>\n",
       "      <td>WOODSTOCK DR / ANGUS RD</td>\n",
       "      <td>CPD</td>\n",
       "      <td>0237</td>\n",
       "      <td>Anderson, Kristopher</td>\n",
       "      <td>2025-08-17 02:37:40</td>\n",
       "      <td>2025-08-17 02:37:40 AM</td>\n",
       "      <td>Sunday</td>\n",
       "      <td>True</td>\n",
       "      <td>Summer</td>\n",
       "      <td>02:37 AM</td>\n",
       "      <td>Night</td>\n",
       "      <td>WOODSTOCK DR / ANGUS RD</td>\n",
       "      <td>NaN</td>\n",
       "      <td>NaN</td>\n",
       "    </tr>\n",
       "    <tr>\n",
       "      <th>4</th>\n",
       "      <td>5</td>\n",
       "      <td>Assault Aggravated</td>\n",
       "      <td>202500029142</td>\n",
       "      <td>800</td>\n",
       "      <td>W MAIN ST</td>\n",
       "      <td>CPD</td>\n",
       "      <td>2317</td>\n",
       "      <td>Benbow, Lauren</td>\n",
       "      <td>2025-08-16 23:17:35</td>\n",
       "      <td>2025-08-16 11:17:35 PM</td>\n",
       "      <td>Saturday</td>\n",
       "      <td>True</td>\n",
       "      <td>Summer</td>\n",
       "      <td>11:17 PM</td>\n",
       "      <td>Night</td>\n",
       "      <td>800 W MAIN ST</td>\n",
       "      <td>38.031480</td>\n",
       "      <td>-78.490333</td>\n",
       "    </tr>\n",
       "  </tbody>\n",
       "</table>\n",
       "</div>"
      ],
      "text/plain": [
       "   RecordID                        Offense    IncidentID BlockNumber  \\\n",
       "0         1  Larceny - Theft from Building  202500029216        1400   \n",
       "1         2  Larceny - Theft from Building  202500029168        1000   \n",
       "2         3                 Assault Simple  202500029163         800   \n",
       "3         4                  Traffic Stops  202500029160               \n",
       "4         5             Assault Aggravated  202500029142         800   \n",
       "\n",
       "                StreetName Agency HourReported      ReportingOfficer  \\\n",
       "0                  VINE ST    CPD         1816          Ritter, Kobe   \n",
       "1                 SEMINOLE    CPD         0907          Mian, Ghulam   \n",
       "2              HARDY DR, B    CPD         0333     Verdin, Alejandra   \n",
       "3  WOODSTOCK DR / ANGUS RD    CPD         0237  Anderson, Kristopher   \n",
       "4                W MAIN ST    CPD         2317        Benbow, Lauren   \n",
       "\n",
       "                 Date              DateString DayOfWeek  Weekend  Season  \\\n",
       "0 2025-08-17 18:16:19  2025-08-17 06:16:19 PM    Sunday     True  Summer   \n",
       "1 2025-08-17 09:07:25  2025-08-17 09:07:25 AM    Sunday     True  Summer   \n",
       "2 2025-08-17 03:33:32  2025-08-17 03:33:32 AM    Sunday     True  Summer   \n",
       "3 2025-08-17 02:37:40  2025-08-17 02:37:40 AM    Sunday     True  Summer   \n",
       "4 2025-08-16 23:17:35  2025-08-16 11:17:35 PM  Saturday     True  Summer   \n",
       "\n",
       "   HourAMPM TimeOfDay                FullStreet        lat        lon  \n",
       "0  06:16 PM   Evening              1400 VINE ST  38.019716 -78.468584  \n",
       "1  09:07 AM   Morning             1000 SEMINOLE  38.063882 -78.490122  \n",
       "2  03:33 AM     Night           800 HARDY DR, B  38.033239 -78.490398  \n",
       "3  02:37 AM     Night   WOODSTOCK DR / ANGUS RD        NaN        NaN  \n",
       "4  11:17 PM     Night             800 W MAIN ST  38.031480 -78.490333  "
      ]
     },
     "execution_count": 9,
     "metadata": {},
     "output_type": "execute_result"
    }
   ],
   "source": [
    "# Combine BlockNumber and StreetName into a full address string\n",
    "df['FullStreet'] = df['BlockNumber'].astype(str) + \" \" + df['StreetName']\n",
    "\n",
    "# --- Step 1: Setup the Google Maps Client and Cache ---\n",
    "gmaps = googlemaps.Client(key=GOOGLE_API_KEY)\n",
    "\n",
    "# Try to load cached geocoding results if available.\n",
    "try:\n",
    "    with open(\"geocode_cache_google.pkl\", \"rb\") as f:\n",
    "        street_coords = pickle.load(f)\n",
    "    print(\"Loaded geocode cache.\")\n",
    "except FileNotFoundError:\n",
    "    street_coords = {}\n",
    "    print(\"No cache found; starting fresh.\")\n",
    "\n",
    "def geocode_address(address):\n",
    "    try:\n",
    "        # Append city and state to help geocoding\n",
    "        result = gmaps.geocode(f\"{address}, Charlottesville, VA\")\n",
    "        if result:\n",
    "            lat = result[0]['geometry']['location']['lat']\n",
    "            lon = result[0]['geometry']['location']['lng']\n",
    "            return lat, lon\n",
    "    except Exception as e:\n",
    "        print(f\"Error geocoding {address}: {e}\")\n",
    "    return None, None\n",
    "\n",
    "# --- Step 2: Geocode Only New Addresses ---\n",
    "unique_addresses = df['FullStreet'].unique()\n",
    "for address in unique_addresses:\n",
    "    if address not in street_coords:\n",
    "        lat, lon = geocode_address(address)\n",
    "        street_coords[address] = (lat, lon)\n",
    "        print(f\"Geocoded {address}: {lat}, {lon}\")\n",
    "\n",
    "# Save the updated cache to disk.\n",
    "with open(\"geocode_cache_google.pkl\", \"wb\") as f:\n",
    "    pickle.dump(street_coords, f)\n",
    "    print(\"Geocode cache updated and saved.\")\n",
    "\n",
    "# --- Step 3: Map Coordinates Back to DataFrame ---\n",
    "df['lat'] = df['FullStreet'].map(lambda s: street_coords.get(s, (None, None))[0])\n",
    "df['lon'] = df['FullStreet'].map(lambda s: street_coords.get(s, (None, None))[1])\n",
    "\n",
    "df.head()"
   ]
  },
  {
   "cell_type": "markdown",
   "id": "a66f2da2",
   "metadata": {
    "papermill": {
     "duration": 0.004394,
     "end_time": "2025-08-20T01:02:24.457313",
     "exception": false,
     "start_time": "2025-08-20T01:02:24.452919",
     "status": "completed"
    },
    "tags": []
   },
   "source": [
    "### Neighborhood"
   ]
  },
  {
   "cell_type": "code",
   "execution_count": 10,
   "id": "b8d4a0d2",
   "metadata": {
    "execution": {
     "iopub.execute_input": "2025-08-20T01:02:24.466980Z",
     "iopub.status.busy": "2025-08-20T01:02:24.466739Z",
     "iopub.status.idle": "2025-08-20T01:02:26.977500Z",
     "shell.execute_reply": "2025-08-20T01:02:26.976855Z"
    },
    "papermill": {
     "duration": 2.516819,
     "end_time": "2025-08-20T01:02:26.978531",
     "exception": false,
     "start_time": "2025-08-20T01:02:24.461712",
     "status": "completed"
    },
    "tags": []
   },
   "outputs": [
    {
     "name": "stdout",
     "output_type": "stream",
     "text": [
      "Loaded neighborhood cache.\n"
     ]
    },
    {
     "name": "stdout",
     "output_type": "stream",
     "text": [
      "Error getting neighborhood for nan, nan: HTTP Error: 400\n",
      "Error getting neighborhood for nan, nan: HTTP Error: 400\n",
      "Error getting neighborhood for nan, nan: HTTP Error: 400\n"
     ]
    },
    {
     "name": "stdout",
     "output_type": "stream",
     "text": [
      "Error getting neighborhood for nan, nan: HTTP Error: 400\n",
      "Error getting neighborhood for nan, nan: HTTP Error: 400\n",
      "Error getting neighborhood for nan, nan: HTTP Error: 400\n",
      "Error getting neighborhood for nan, nan: HTTP Error: 400\n"
     ]
    },
    {
     "name": "stdout",
     "output_type": "stream",
     "text": [
      "Error getting neighborhood for nan, nan: HTTP Error: 400\n",
      "Error getting neighborhood for nan, nan: HTTP Error: 400\n",
      "Error getting neighborhood for nan, nan: HTTP Error: 400\n"
     ]
    },
    {
     "name": "stdout",
     "output_type": "stream",
     "text": [
      "Error getting neighborhood for nan, nan: HTTP Error: 400\n",
      "Error getting neighborhood for nan, nan: HTTP Error: 400\n",
      "Error getting neighborhood for nan, nan: HTTP Error: 400\n",
      "Error getting neighborhood for nan, nan: HTTP Error: 400\n",
      "Error getting neighborhood for nan, nan: HTTP Error: 400\n",
      "Error getting neighborhood for nan, nan: HTTP Error: 400\n"
     ]
    },
    {
     "name": "stdout",
     "output_type": "stream",
     "text": [
      "Error getting neighborhood for nan, nan: HTTP Error: 400\n",
      "Error getting neighborhood for nan, nan: HTTP Error: 400\n",
      "Error getting neighborhood for nan, nan: HTTP Error: 400\n",
      "Error getting neighborhood for nan, nan: HTTP Error: 400\n"
     ]
    },
    {
     "name": "stdout",
     "output_type": "stream",
     "text": [
      "Error getting neighborhood for nan, nan: HTTP Error: 400\n",
      "Error getting neighborhood for nan, nan: HTTP Error: 400\n",
      "Error getting neighborhood for nan, nan: HTTP Error: 400\n",
      "Error getting neighborhood for nan, nan: HTTP Error: 400\n",
      "Error getting neighborhood for nan, nan: HTTP Error: 400\n",
      "Error getting neighborhood for nan, nan: HTTP Error: 400\n",
      "Error getting neighborhood for nan, nan: HTTP Error: 400\n"
     ]
    },
    {
     "name": "stdout",
     "output_type": "stream",
     "text": [
      "Error getting neighborhood for nan, nan: HTTP Error: 400\n",
      "Error getting neighborhood for nan, nan: HTTP Error: 400\n"
     ]
    },
    {
     "name": "stdout",
     "output_type": "stream",
     "text": [
      "Error getting neighborhood for nan, nan: HTTP Error: 400\n",
      "Error getting neighborhood for nan, nan: HTTP Error: 400\n",
      "Error getting neighborhood for nan, nan: HTTP Error: 400\n",
      "Error getting neighborhood for nan, nan: HTTP Error: 400\n",
      "Error getting neighborhood for nan, nan: HTTP Error: 400\n",
      "Error getting neighborhood for nan, nan: HTTP Error: 400\n",
      "Error getting neighborhood for nan, nan: HTTP Error: 400\n"
     ]
    },
    {
     "name": "stdout",
     "output_type": "stream",
     "text": [
      "Error getting neighborhood for nan, nan: HTTP Error: 400\n",
      "Error getting neighborhood for nan, nan: HTTP Error: 400\n",
      "Error getting neighborhood for nan, nan: HTTP Error: 400\n",
      "Error getting neighborhood for nan, nan: HTTP Error: 400\n"
     ]
    },
    {
     "name": "stdout",
     "output_type": "stream",
     "text": [
      "Error getting neighborhood for nan, nan: HTTP Error: 400\n",
      "Error getting neighborhood for nan, nan: HTTP Error: 400\n",
      "Error getting neighborhood for nan, nan: HTTP Error: 400\n",
      "Error getting neighborhood for nan, nan: HTTP Error: 400\n",
      "Error getting neighborhood for nan, nan: HTTP Error: 400\n",
      "Error getting neighborhood for nan, nan: HTTP Error: 400\n",
      "Error getting neighborhood for nan, nan: HTTP Error: 400\n"
     ]
    },
    {
     "name": "stdout",
     "output_type": "stream",
     "text": [
      "Error getting neighborhood for nan, nan: HTTP Error: 400\n",
      "Error getting neighborhood for nan, nan: HTTP Error: 400\n",
      "Error getting neighborhood for nan, nan: HTTP Error: 400\n",
      "Error getting neighborhood for nan, nan: HTTP Error: 400\n",
      "Error getting neighborhood for nan, nan: HTTP Error: 400\n"
     ]
    },
    {
     "name": "stdout",
     "output_type": "stream",
     "text": [
      "Error getting neighborhood for nan, nan: HTTP Error: 400\n",
      "Error getting neighborhood for nan, nan: HTTP Error: 400\n",
      "Error getting neighborhood for nan, nan: HTTP Error: 400\n",
      "Error getting neighborhood for nan, nan: HTTP Error: 400\n",
      "Error getting neighborhood for nan, nan: HTTP Error: 400\n",
      "Error getting neighborhood for nan, nan: HTTP Error: 400\n"
     ]
    },
    {
     "name": "stdout",
     "output_type": "stream",
     "text": [
      "Error getting neighborhood for nan, nan: HTTP Error: 400\n",
      "Error getting neighborhood for nan, nan: HTTP Error: 400\n",
      "Error getting neighborhood for nan, nan: HTTP Error: 400\n",
      "Error getting neighborhood for nan, nan: HTTP Error: 400\n",
      "Error getting neighborhood for nan, nan: HTTP Error: 400\n"
     ]
    },
    {
     "name": "stdout",
     "output_type": "stream",
     "text": [
      "Error getting neighborhood for nan, nan: HTTP Error: 400\n",
      "Error getting neighborhood for nan, nan: HTTP Error: 400\n",
      "Error getting neighborhood for nan, nan: HTTP Error: 400\n",
      "Error getting neighborhood for nan, nan: HTTP Error: 400\n",
      "Error getting neighborhood for nan, nan: HTTP Error: 400\n",
      "Error getting neighborhood for nan, nan: HTTP Error: 400\n",
      "Error getting neighborhood for nan, nan: HTTP Error: 400\n"
     ]
    },
    {
     "name": "stdout",
     "output_type": "stream",
     "text": [
      "Error getting neighborhood for nan, nan: HTTP Error: 400\n",
      "Error getting neighborhood for nan, nan: HTTP Error: 400\n",
      "Error getting neighborhood for nan, nan: HTTP Error: 400\n",
      "Error getting neighborhood for nan, nan: HTTP Error: 400\n",
      "Error getting neighborhood for nan, nan: HTTP Error: 400\n"
     ]
    },
    {
     "name": "stdout",
     "output_type": "stream",
     "text": [
      "Error getting neighborhood for nan, nan: HTTP Error: 400\n",
      "Error getting neighborhood for nan, nan: HTTP Error: 400\n",
      "Error getting neighborhood for nan, nan: HTTP Error: 400\n",
      "Error getting neighborhood for nan, nan: HTTP Error: 400\n",
      "Error getting neighborhood for nan, nan: HTTP Error: 400\n",
      "Error getting neighborhood for nan, nan: HTTP Error: 400\n",
      "Error getting neighborhood for nan, nan: HTTP Error: 400\n"
     ]
    },
    {
     "name": "stdout",
     "output_type": "stream",
     "text": [
      "Error getting neighborhood for nan, nan: HTTP Error: 400\n",
      "Error getting neighborhood for nan, nan: HTTP Error: 400\n",
      "Error getting neighborhood for nan, nan: HTTP Error: 400\n",
      "Error getting neighborhood for nan, nan: HTTP Error: 400\n"
     ]
    },
    {
     "name": "stdout",
     "output_type": "stream",
     "text": [
      "Error getting neighborhood for nan, nan: HTTP Error: 400\n",
      "Error getting neighborhood for nan, nan: HTTP Error: 400\n",
      "Error getting neighborhood for nan, nan: HTTP Error: 400\n",
      "Error getting neighborhood for nan, nan: HTTP Error: 400\n",
      "Error getting neighborhood for nan, nan: HTTP Error: 400\n",
      "Error getting neighborhood for nan, nan: HTTP Error: 400\n",
      "Error getting neighborhood for nan, nan: HTTP Error: 400\n"
     ]
    },
    {
     "name": "stdout",
     "output_type": "stream",
     "text": [
      "Error getting neighborhood for nan, nan: HTTP Error: 400\n",
      "Error getting neighborhood for nan, nan: HTTP Error: 400\n",
      "Error getting neighborhood for nan, nan: HTTP Error: 400\n",
      "Error getting neighborhood for nan, nan: HTTP Error: 400\n",
      "Error getting neighborhood for nan, nan: HTTP Error: 400\n"
     ]
    },
    {
     "name": "stdout",
     "output_type": "stream",
     "text": [
      "Error getting neighborhood for nan, nan: HTTP Error: 400\n",
      "Error getting neighborhood for nan, nan: HTTP Error: 400\n",
      "Error getting neighborhood for nan, nan: HTTP Error: 400\n",
      "Error getting neighborhood for nan, nan: HTTP Error: 400\n",
      "Error getting neighborhood for nan, nan: HTTP Error: 400\n",
      "Error getting neighborhood for nan, nan: HTTP Error: 400\n",
      "Error getting neighborhood for nan, nan: HTTP Error: 400\n"
     ]
    },
    {
     "name": "stdout",
     "output_type": "stream",
     "text": [
      "Error getting neighborhood for nan, nan: HTTP Error: 400\n",
      "Error getting neighborhood for nan, nan: HTTP Error: 400\n",
      "Error getting neighborhood for nan, nan: HTTP Error: 400\n",
      "Error getting neighborhood for nan, nan: HTTP Error: 400\n"
     ]
    },
    {
     "data": {
      "text/html": [
       "<div>\n",
       "<style scoped>\n",
       "    .dataframe tbody tr th:only-of-type {\n",
       "        vertical-align: middle;\n",
       "    }\n",
       "\n",
       "    .dataframe tbody tr th {\n",
       "        vertical-align: top;\n",
       "    }\n",
       "\n",
       "    .dataframe thead th {\n",
       "        text-align: right;\n",
       "    }\n",
       "</style>\n",
       "<table border=\"1\" class=\"dataframe\">\n",
       "  <thead>\n",
       "    <tr style=\"text-align: right;\">\n",
       "      <th></th>\n",
       "      <th>RecordID</th>\n",
       "      <th>Offense</th>\n",
       "      <th>IncidentID</th>\n",
       "      <th>BlockNumber</th>\n",
       "      <th>StreetName</th>\n",
       "      <th>Agency</th>\n",
       "      <th>HourReported</th>\n",
       "      <th>ReportingOfficer</th>\n",
       "      <th>Date</th>\n",
       "      <th>DateString</th>\n",
       "      <th>DayOfWeek</th>\n",
       "      <th>Weekend</th>\n",
       "      <th>Season</th>\n",
       "      <th>HourAMPM</th>\n",
       "      <th>TimeOfDay</th>\n",
       "      <th>FullStreet</th>\n",
       "      <th>lat</th>\n",
       "      <th>lon</th>\n",
       "      <th>neighborhood</th>\n",
       "    </tr>\n",
       "  </thead>\n",
       "  <tbody>\n",
       "    <tr>\n",
       "      <th>0</th>\n",
       "      <td>1</td>\n",
       "      <td>Larceny - Theft from Building</td>\n",
       "      <td>202500029216</td>\n",
       "      <td>1400</td>\n",
       "      <td>VINE ST</td>\n",
       "      <td>CPD</td>\n",
       "      <td>1816</td>\n",
       "      <td>Ritter, Kobe</td>\n",
       "      <td>2025-08-17 18:16:19</td>\n",
       "      <td>2025-08-17 06:16:19 PM</td>\n",
       "      <td>Sunday</td>\n",
       "      <td>True</td>\n",
       "      <td>Summer</td>\n",
       "      <td>06:16 PM</td>\n",
       "      <td>Evening</td>\n",
       "      <td>1400 VINE ST</td>\n",
       "      <td>38.019716</td>\n",
       "      <td>-78.468584</td>\n",
       "      <td>Belmont</td>\n",
       "    </tr>\n",
       "    <tr>\n",
       "      <th>1</th>\n",
       "      <td>2</td>\n",
       "      <td>Larceny - Theft from Building</td>\n",
       "      <td>202500029168</td>\n",
       "      <td>1000</td>\n",
       "      <td>SEMINOLE</td>\n",
       "      <td>CPD</td>\n",
       "      <td>0907</td>\n",
       "      <td>Mian, Ghulam</td>\n",
       "      <td>2025-08-17 09:07:25</td>\n",
       "      <td>2025-08-17 09:07:25 AM</td>\n",
       "      <td>Sunday</td>\n",
       "      <td>True</td>\n",
       "      <td>Summer</td>\n",
       "      <td>09:07 AM</td>\n",
       "      <td>Morning</td>\n",
       "      <td>1000 SEMINOLE</td>\n",
       "      <td>38.063882</td>\n",
       "      <td>-78.490122</td>\n",
       "      <td>N/A</td>\n",
       "    </tr>\n",
       "    <tr>\n",
       "      <th>2</th>\n",
       "      <td>3</td>\n",
       "      <td>Assault Simple</td>\n",
       "      <td>202500029163</td>\n",
       "      <td>800</td>\n",
       "      <td>HARDY DR, B</td>\n",
       "      <td>CPD</td>\n",
       "      <td>0333</td>\n",
       "      <td>Verdin, Alejandra</td>\n",
       "      <td>2025-08-17 03:33:32</td>\n",
       "      <td>2025-08-17 03:33:32 AM</td>\n",
       "      <td>Sunday</td>\n",
       "      <td>True</td>\n",
       "      <td>Summer</td>\n",
       "      <td>03:33 AM</td>\n",
       "      <td>Night</td>\n",
       "      <td>800 HARDY DR, B</td>\n",
       "      <td>38.033239</td>\n",
       "      <td>-78.490398</td>\n",
       "      <td>10th &amp; Page</td>\n",
       "    </tr>\n",
       "    <tr>\n",
       "      <th>3</th>\n",
       "      <td>4</td>\n",
       "      <td>Traffic Stops</td>\n",
       "      <td>202500029160</td>\n",
       "      <td></td>\n",
       "      <td>WOODSTOCK DR / ANGUS RD</td>\n",
       "      <td>CPD</td>\n",
       "      <td>0237</td>\n",
       "      <td>Anderson, Kristopher</td>\n",
       "      <td>2025-08-17 02:37:40</td>\n",
       "      <td>2025-08-17 02:37:40 AM</td>\n",
       "      <td>Sunday</td>\n",
       "      <td>True</td>\n",
       "      <td>Summer</td>\n",
       "      <td>02:37 AM</td>\n",
       "      <td>Night</td>\n",
       "      <td>WOODSTOCK DR / ANGUS RD</td>\n",
       "      <td>NaN</td>\n",
       "      <td>NaN</td>\n",
       "      <td>N/A</td>\n",
       "    </tr>\n",
       "    <tr>\n",
       "      <th>4</th>\n",
       "      <td>5</td>\n",
       "      <td>Assault Aggravated</td>\n",
       "      <td>202500029142</td>\n",
       "      <td>800</td>\n",
       "      <td>W MAIN ST</td>\n",
       "      <td>CPD</td>\n",
       "      <td>2317</td>\n",
       "      <td>Benbow, Lauren</td>\n",
       "      <td>2025-08-16 23:17:35</td>\n",
       "      <td>2025-08-16 11:17:35 PM</td>\n",
       "      <td>Saturday</td>\n",
       "      <td>True</td>\n",
       "      <td>Summer</td>\n",
       "      <td>11:17 PM</td>\n",
       "      <td>Night</td>\n",
       "      <td>800 W MAIN ST</td>\n",
       "      <td>38.031480</td>\n",
       "      <td>-78.490333</td>\n",
       "      <td>Starr Hill</td>\n",
       "    </tr>\n",
       "  </tbody>\n",
       "</table>\n",
       "</div>"
      ],
      "text/plain": [
       "   RecordID                        Offense    IncidentID BlockNumber  \\\n",
       "0         1  Larceny - Theft from Building  202500029216        1400   \n",
       "1         2  Larceny - Theft from Building  202500029168        1000   \n",
       "2         3                 Assault Simple  202500029163         800   \n",
       "3         4                  Traffic Stops  202500029160               \n",
       "4         5             Assault Aggravated  202500029142         800   \n",
       "\n",
       "                StreetName Agency HourReported      ReportingOfficer  \\\n",
       "0                  VINE ST    CPD         1816          Ritter, Kobe   \n",
       "1                 SEMINOLE    CPD         0907          Mian, Ghulam   \n",
       "2              HARDY DR, B    CPD         0333     Verdin, Alejandra   \n",
       "3  WOODSTOCK DR / ANGUS RD    CPD         0237  Anderson, Kristopher   \n",
       "4                W MAIN ST    CPD         2317        Benbow, Lauren   \n",
       "\n",
       "                 Date              DateString DayOfWeek  Weekend  Season  \\\n",
       "0 2025-08-17 18:16:19  2025-08-17 06:16:19 PM    Sunday     True  Summer   \n",
       "1 2025-08-17 09:07:25  2025-08-17 09:07:25 AM    Sunday     True  Summer   \n",
       "2 2025-08-17 03:33:32  2025-08-17 03:33:32 AM    Sunday     True  Summer   \n",
       "3 2025-08-17 02:37:40  2025-08-17 02:37:40 AM    Sunday     True  Summer   \n",
       "4 2025-08-16 23:17:35  2025-08-16 11:17:35 PM  Saturday     True  Summer   \n",
       "\n",
       "   HourAMPM TimeOfDay                FullStreet        lat        lon  \\\n",
       "0  06:16 PM   Evening              1400 VINE ST  38.019716 -78.468584   \n",
       "1  09:07 AM   Morning             1000 SEMINOLE  38.063882 -78.490122   \n",
       "2  03:33 AM     Night           800 HARDY DR, B  38.033239 -78.490398   \n",
       "3  02:37 AM     Night   WOODSTOCK DR / ANGUS RD        NaN        NaN   \n",
       "4  11:17 PM     Night             800 W MAIN ST  38.031480 -78.490333   \n",
       "\n",
       "  neighborhood  \n",
       "0      Belmont  \n",
       "1          N/A  \n",
       "2  10th & Page  \n",
       "3          N/A  \n",
       "4   Starr Hill  "
      ]
     },
     "execution_count": 10,
     "metadata": {},
     "output_type": "execute_result"
    }
   ],
   "source": [
    "# Initialize the Google Maps client.\n",
    "gmaps = googlemaps.Client(key=GOOGLE_API_KEY)\n",
    "\n",
    "# Try to load a persistent neighborhood cache if available.\n",
    "try:\n",
    "    with open(\"neighborhood_cache.pkl\", \"rb\") as f:\n",
    "        neighborhood_cache = pickle.load(f)\n",
    "    print(\"Loaded neighborhood cache.\")\n",
    "except FileNotFoundError:\n",
    "    neighborhood_cache = {}\n",
    "    print(\"No neighborhood cache found; starting fresh.\")\n",
    "\n",
    "def get_neighborhood(lat, lon):\n",
    "    \"\"\"\n",
    "    Reverse geocodes a latitude and longitude to retrieve the neighborhood.\n",
    "    Caches results to speed up subsequent lookups.\n",
    "    \"\"\"\n",
    "    key = (lat, lon)\n",
    "    if key in neighborhood_cache:\n",
    "        return neighborhood_cache[key]\n",
    "    \n",
    "    try:\n",
    "        result = gmaps.reverse_geocode((lat, lon))\n",
    "        if result:\n",
    "            # Look for the 'neighborhood' component in the first result.\n",
    "            for component in result[0]['address_components']:\n",
    "                if 'neighborhood' in component['types']:\n",
    "                    neighborhood = component['long_name']\n",
    "                    neighborhood_cache[key] = neighborhood\n",
    "                    return neighborhood\n",
    "            # If no neighborhood is found, return \"N/A\"\n",
    "            neighborhood_cache[key] = \"N/A\"\n",
    "            return \"N/A\"\n",
    "    except Exception as e:\n",
    "        print(f\"Error getting neighborhood for {lat}, {lon}: {e}\")\n",
    "        return \"N/A\"\n",
    "    \n",
    "    # Pause to respect usage limits.\n",
    "    time.sleep(1)\n",
    "\n",
    "# Example usage: Apply to your DataFrame 'df' that already has 'lat' and 'lon' columns.\n",
    "df['neighborhood'] = df.apply(lambda row: get_neighborhood(row['lat'], row['lon']), axis=1)\n",
    "\n",
    "# Save the updated neighborhood cache.\n",
    "with open(\"neighborhood_cache.pkl\", \"wb\") as f:\n",
    "    pickle.dump(neighborhood_cache, f)\n",
    "\n",
    "df.head()\n"
   ]
  },
  {
   "cell_type": "markdown",
   "id": "769e6f1c",
   "metadata": {
    "papermill": {
     "duration": 0.005641,
     "end_time": "2025-08-20T01:02:26.990308",
     "exception": false,
     "start_time": "2025-08-20T01:02:26.984667",
     "status": "completed"
    },
    "tags": []
   },
   "source": [
    "### Zip"
   ]
  },
  {
   "cell_type": "code",
   "execution_count": 11,
   "id": "d9401a5d",
   "metadata": {
    "execution": {
     "iopub.execute_input": "2025-08-20T01:02:27.002306Z",
     "iopub.status.busy": "2025-08-20T01:02:27.002061Z",
     "iopub.status.idle": "2025-08-20T01:04:16.663011Z",
     "shell.execute_reply": "2025-08-20T01:04:16.662366Z"
    },
    "papermill": {
     "duration": 109.668214,
     "end_time": "2025-08-20T01:04:16.664072",
     "exception": false,
     "start_time": "2025-08-20T01:02:26.995858",
     "status": "completed"
    },
    "tags": []
   },
   "outputs": [
    {
     "name": "stdout",
     "output_type": "stream",
     "text": [
      "Loaded zip cache.\n",
      "Error getting ZIP for nan, nan: Must be a coordinate pair or Point\n"
     ]
    },
    {
     "name": "stdout",
     "output_type": "stream",
     "text": [
      "Error getting ZIP for nan, nan: Must be a coordinate pair or Point\n"
     ]
    },
    {
     "name": "stdout",
     "output_type": "stream",
     "text": [
      "Error getting ZIP for nan, nan: Must be a coordinate pair or Point\n"
     ]
    },
    {
     "name": "stdout",
     "output_type": "stream",
     "text": [
      "Error getting ZIP for nan, nan: Must be a coordinate pair or Point\n"
     ]
    },
    {
     "name": "stdout",
     "output_type": "stream",
     "text": [
      "Error getting ZIP for nan, nan: Must be a coordinate pair or Point\n"
     ]
    },
    {
     "name": "stdout",
     "output_type": "stream",
     "text": [
      "Error getting ZIP for nan, nan: Must be a coordinate pair or Point\n"
     ]
    },
    {
     "name": "stdout",
     "output_type": "stream",
     "text": [
      "Error getting ZIP for nan, nan: Must be a coordinate pair or Point\n"
     ]
    },
    {
     "name": "stdout",
     "output_type": "stream",
     "text": [
      "Error getting ZIP for nan, nan: Must be a coordinate pair or Point\n"
     ]
    },
    {
     "name": "stdout",
     "output_type": "stream",
     "text": [
      "Error getting ZIP for nan, nan: Must be a coordinate pair or Point\n"
     ]
    },
    {
     "name": "stdout",
     "output_type": "stream",
     "text": [
      "Error getting ZIP for nan, nan: Must be a coordinate pair or Point\n"
     ]
    },
    {
     "name": "stdout",
     "output_type": "stream",
     "text": [
      "Error getting ZIP for nan, nan: Must be a coordinate pair or Point\n"
     ]
    },
    {
     "name": "stdout",
     "output_type": "stream",
     "text": [
      "Error getting ZIP for nan, nan: Must be a coordinate pair or Point\n"
     ]
    },
    {
     "name": "stdout",
     "output_type": "stream",
     "text": [
      "Error getting ZIP for nan, nan: Must be a coordinate pair or Point\n"
     ]
    },
    {
     "name": "stdout",
     "output_type": "stream",
     "text": [
      "Error getting ZIP for nan, nan: Must be a coordinate pair or Point\n"
     ]
    },
    {
     "name": "stdout",
     "output_type": "stream",
     "text": [
      "Error getting ZIP for nan, nan: Must be a coordinate pair or Point\n"
     ]
    },
    {
     "name": "stdout",
     "output_type": "stream",
     "text": [
      "Error getting ZIP for nan, nan: Must be a coordinate pair or Point\n"
     ]
    },
    {
     "name": "stdout",
     "output_type": "stream",
     "text": [
      "Error getting ZIP for nan, nan: Must be a coordinate pair or Point\n"
     ]
    },
    {
     "name": "stdout",
     "output_type": "stream",
     "text": [
      "Error getting ZIP for nan, nan: Must be a coordinate pair or Point\n"
     ]
    },
    {
     "name": "stdout",
     "output_type": "stream",
     "text": [
      "Error getting ZIP for nan, nan: Must be a coordinate pair or Point\n"
     ]
    },
    {
     "name": "stdout",
     "output_type": "stream",
     "text": [
      "Error getting ZIP for nan, nan: Must be a coordinate pair or Point\n"
     ]
    },
    {
     "name": "stdout",
     "output_type": "stream",
     "text": [
      "Error getting ZIP for nan, nan: Must be a coordinate pair or Point\n"
     ]
    },
    {
     "name": "stdout",
     "output_type": "stream",
     "text": [
      "Error getting ZIP for nan, nan: Must be a coordinate pair or Point\n"
     ]
    },
    {
     "name": "stdout",
     "output_type": "stream",
     "text": [
      "Error getting ZIP for nan, nan: Must be a coordinate pair or Point\n"
     ]
    },
    {
     "name": "stdout",
     "output_type": "stream",
     "text": [
      "Error getting ZIP for nan, nan: Must be a coordinate pair or Point\n"
     ]
    },
    {
     "name": "stdout",
     "output_type": "stream",
     "text": [
      "Error getting ZIP for nan, nan: Must be a coordinate pair or Point\n"
     ]
    },
    {
     "name": "stdout",
     "output_type": "stream",
     "text": [
      "Error getting ZIP for nan, nan: Must be a coordinate pair or Point\n"
     ]
    },
    {
     "name": "stdout",
     "output_type": "stream",
     "text": [
      "Error getting ZIP for nan, nan: Must be a coordinate pair or Point\n"
     ]
    },
    {
     "name": "stdout",
     "output_type": "stream",
     "text": [
      "Error getting ZIP for nan, nan: Must be a coordinate pair or Point\n"
     ]
    },
    {
     "name": "stdout",
     "output_type": "stream",
     "text": [
      "Error getting ZIP for nan, nan: Must be a coordinate pair or Point\n"
     ]
    },
    {
     "name": "stdout",
     "output_type": "stream",
     "text": [
      "Error getting ZIP for nan, nan: Must be a coordinate pair or Point\n"
     ]
    },
    {
     "name": "stdout",
     "output_type": "stream",
     "text": [
      "Error getting ZIP for nan, nan: Must be a coordinate pair or Point\n"
     ]
    },
    {
     "name": "stdout",
     "output_type": "stream",
     "text": [
      "Error getting ZIP for nan, nan: Must be a coordinate pair or Point\n"
     ]
    },
    {
     "name": "stdout",
     "output_type": "stream",
     "text": [
      "Error getting ZIP for nan, nan: Must be a coordinate pair or Point\n"
     ]
    },
    {
     "name": "stdout",
     "output_type": "stream",
     "text": [
      "Error getting ZIP for nan, nan: Must be a coordinate pair or Point\n"
     ]
    },
    {
     "name": "stdout",
     "output_type": "stream",
     "text": [
      "Error getting ZIP for nan, nan: Must be a coordinate pair or Point\n"
     ]
    },
    {
     "name": "stdout",
     "output_type": "stream",
     "text": [
      "Error getting ZIP for nan, nan: Must be a coordinate pair or Point\n"
     ]
    },
    {
     "name": "stdout",
     "output_type": "stream",
     "text": [
      "Error getting ZIP for nan, nan: Must be a coordinate pair or Point\n"
     ]
    },
    {
     "name": "stdout",
     "output_type": "stream",
     "text": [
      "Error getting ZIP for nan, nan: Must be a coordinate pair or Point\n"
     ]
    },
    {
     "name": "stdout",
     "output_type": "stream",
     "text": [
      "Error getting ZIP for nan, nan: Must be a coordinate pair or Point\n"
     ]
    },
    {
     "name": "stdout",
     "output_type": "stream",
     "text": [
      "Error getting ZIP for nan, nan: Must be a coordinate pair or Point\n"
     ]
    },
    {
     "name": "stdout",
     "output_type": "stream",
     "text": [
      "Error getting ZIP for nan, nan: Must be a coordinate pair or Point\n"
     ]
    },
    {
     "name": "stdout",
     "output_type": "stream",
     "text": [
      "Error getting ZIP for nan, nan: Must be a coordinate pair or Point\n"
     ]
    },
    {
     "name": "stdout",
     "output_type": "stream",
     "text": [
      "Error getting ZIP for nan, nan: Must be a coordinate pair or Point\n"
     ]
    },
    {
     "name": "stdout",
     "output_type": "stream",
     "text": [
      "Error getting ZIP for nan, nan: Must be a coordinate pair or Point\n"
     ]
    },
    {
     "name": "stdout",
     "output_type": "stream",
     "text": [
      "Error getting ZIP for nan, nan: Must be a coordinate pair or Point\n"
     ]
    },
    {
     "name": "stdout",
     "output_type": "stream",
     "text": [
      "Error getting ZIP for nan, nan: Must be a coordinate pair or Point\n"
     ]
    },
    {
     "name": "stdout",
     "output_type": "stream",
     "text": [
      "Error getting ZIP for nan, nan: Must be a coordinate pair or Point\n"
     ]
    },
    {
     "name": "stdout",
     "output_type": "stream",
     "text": [
      "Error getting ZIP for nan, nan: Must be a coordinate pair or Point\n"
     ]
    },
    {
     "name": "stdout",
     "output_type": "stream",
     "text": [
      "Error getting ZIP for nan, nan: Must be a coordinate pair or Point\n"
     ]
    },
    {
     "name": "stdout",
     "output_type": "stream",
     "text": [
      "Error getting ZIP for nan, nan: Must be a coordinate pair or Point\n"
     ]
    },
    {
     "name": "stdout",
     "output_type": "stream",
     "text": [
      "Error getting ZIP for nan, nan: Must be a coordinate pair or Point\n"
     ]
    },
    {
     "name": "stdout",
     "output_type": "stream",
     "text": [
      "Error getting ZIP for nan, nan: Must be a coordinate pair or Point\n"
     ]
    },
    {
     "name": "stdout",
     "output_type": "stream",
     "text": [
      "Error getting ZIP for nan, nan: Must be a coordinate pair or Point\n"
     ]
    },
    {
     "name": "stdout",
     "output_type": "stream",
     "text": [
      "Error getting ZIP for nan, nan: Must be a coordinate pair or Point\n"
     ]
    },
    {
     "name": "stdout",
     "output_type": "stream",
     "text": [
      "Error getting ZIP for nan, nan: Must be a coordinate pair or Point\n"
     ]
    },
    {
     "name": "stdout",
     "output_type": "stream",
     "text": [
      "Error getting ZIP for nan, nan: Must be a coordinate pair or Point\n"
     ]
    },
    {
     "name": "stdout",
     "output_type": "stream",
     "text": [
      "Error getting ZIP for nan, nan: Must be a coordinate pair or Point\n"
     ]
    },
    {
     "name": "stdout",
     "output_type": "stream",
     "text": [
      "Error getting ZIP for nan, nan: Must be a coordinate pair or Point\n"
     ]
    },
    {
     "name": "stdout",
     "output_type": "stream",
     "text": [
      "Error getting ZIP for nan, nan: Must be a coordinate pair or Point\n"
     ]
    },
    {
     "name": "stdout",
     "output_type": "stream",
     "text": [
      "Error getting ZIP for nan, nan: Must be a coordinate pair or Point\n"
     ]
    },
    {
     "name": "stdout",
     "output_type": "stream",
     "text": [
      "Error getting ZIP for nan, nan: Must be a coordinate pair or Point\n"
     ]
    },
    {
     "name": "stdout",
     "output_type": "stream",
     "text": [
      "Error getting ZIP for nan, nan: Must be a coordinate pair or Point\n"
     ]
    },
    {
     "name": "stdout",
     "output_type": "stream",
     "text": [
      "Error getting ZIP for nan, nan: Must be a coordinate pair or Point\n"
     ]
    },
    {
     "name": "stdout",
     "output_type": "stream",
     "text": [
      "Error getting ZIP for nan, nan: Must be a coordinate pair or Point\n"
     ]
    },
    {
     "name": "stdout",
     "output_type": "stream",
     "text": [
      "Error getting ZIP for nan, nan: Must be a coordinate pair or Point\n"
     ]
    },
    {
     "name": "stdout",
     "output_type": "stream",
     "text": [
      "Error getting ZIP for nan, nan: Must be a coordinate pair or Point\n"
     ]
    },
    {
     "name": "stdout",
     "output_type": "stream",
     "text": [
      "Error getting ZIP for nan, nan: Must be a coordinate pair or Point\n"
     ]
    },
    {
     "name": "stdout",
     "output_type": "stream",
     "text": [
      "Error getting ZIP for nan, nan: Must be a coordinate pair or Point\n"
     ]
    },
    {
     "name": "stdout",
     "output_type": "stream",
     "text": [
      "Error getting ZIP for nan, nan: Must be a coordinate pair or Point\n"
     ]
    },
    {
     "name": "stdout",
     "output_type": "stream",
     "text": [
      "Error getting ZIP for nan, nan: Must be a coordinate pair or Point\n"
     ]
    },
    {
     "name": "stdout",
     "output_type": "stream",
     "text": [
      "Error getting ZIP for nan, nan: Must be a coordinate pair or Point\n"
     ]
    },
    {
     "name": "stdout",
     "output_type": "stream",
     "text": [
      "Error getting ZIP for nan, nan: Must be a coordinate pair or Point\n"
     ]
    },
    {
     "name": "stdout",
     "output_type": "stream",
     "text": [
      "Error getting ZIP for nan, nan: Must be a coordinate pair or Point\n"
     ]
    },
    {
     "name": "stdout",
     "output_type": "stream",
     "text": [
      "Error getting ZIP for nan, nan: Must be a coordinate pair or Point\n"
     ]
    },
    {
     "name": "stdout",
     "output_type": "stream",
     "text": [
      "Error getting ZIP for nan, nan: Must be a coordinate pair or Point\n"
     ]
    },
    {
     "name": "stdout",
     "output_type": "stream",
     "text": [
      "Error getting ZIP for nan, nan: Must be a coordinate pair or Point\n"
     ]
    },
    {
     "name": "stdout",
     "output_type": "stream",
     "text": [
      "Error getting ZIP for nan, nan: Must be a coordinate pair or Point\n"
     ]
    },
    {
     "name": "stdout",
     "output_type": "stream",
     "text": [
      "Error getting ZIP for nan, nan: Must be a coordinate pair or Point\n"
     ]
    },
    {
     "name": "stdout",
     "output_type": "stream",
     "text": [
      "Error getting ZIP for nan, nan: Must be a coordinate pair or Point\n"
     ]
    },
    {
     "name": "stdout",
     "output_type": "stream",
     "text": [
      "Error getting ZIP for nan, nan: Must be a coordinate pair or Point\n"
     ]
    },
    {
     "name": "stdout",
     "output_type": "stream",
     "text": [
      "Error getting ZIP for nan, nan: Must be a coordinate pair or Point\n"
     ]
    },
    {
     "name": "stdout",
     "output_type": "stream",
     "text": [
      "Error getting ZIP for nan, nan: Must be a coordinate pair or Point\n"
     ]
    },
    {
     "name": "stdout",
     "output_type": "stream",
     "text": [
      "Error getting ZIP for nan, nan: Must be a coordinate pair or Point\n"
     ]
    },
    {
     "name": "stdout",
     "output_type": "stream",
     "text": [
      "Error getting ZIP for nan, nan: Must be a coordinate pair or Point\n"
     ]
    },
    {
     "name": "stdout",
     "output_type": "stream",
     "text": [
      "Error getting ZIP for nan, nan: Must be a coordinate pair or Point\n"
     ]
    },
    {
     "name": "stdout",
     "output_type": "stream",
     "text": [
      "Error getting ZIP for nan, nan: Must be a coordinate pair or Point\n"
     ]
    },
    {
     "name": "stdout",
     "output_type": "stream",
     "text": [
      "Error getting ZIP for nan, nan: Must be a coordinate pair or Point\n"
     ]
    },
    {
     "name": "stdout",
     "output_type": "stream",
     "text": [
      "Error getting ZIP for nan, nan: Must be a coordinate pair or Point\n"
     ]
    },
    {
     "name": "stdout",
     "output_type": "stream",
     "text": [
      "Error getting ZIP for nan, nan: Must be a coordinate pair or Point\n"
     ]
    },
    {
     "name": "stdout",
     "output_type": "stream",
     "text": [
      "Error getting ZIP for nan, nan: Must be a coordinate pair or Point\n"
     ]
    },
    {
     "name": "stdout",
     "output_type": "stream",
     "text": [
      "Error getting ZIP for nan, nan: Must be a coordinate pair or Point\n"
     ]
    },
    {
     "name": "stdout",
     "output_type": "stream",
     "text": [
      "Error getting ZIP for nan, nan: Must be a coordinate pair or Point\n"
     ]
    },
    {
     "name": "stdout",
     "output_type": "stream",
     "text": [
      "Error getting ZIP for nan, nan: Must be a coordinate pair or Point\n"
     ]
    },
    {
     "name": "stdout",
     "output_type": "stream",
     "text": [
      "Error getting ZIP for nan, nan: Must be a coordinate pair or Point\n"
     ]
    },
    {
     "name": "stdout",
     "output_type": "stream",
     "text": [
      "Error getting ZIP for nan, nan: Must be a coordinate pair or Point\n"
     ]
    },
    {
     "name": "stdout",
     "output_type": "stream",
     "text": [
      "Error getting ZIP for nan, nan: Must be a coordinate pair or Point\n"
     ]
    },
    {
     "name": "stdout",
     "output_type": "stream",
     "text": [
      "Error getting ZIP for nan, nan: Must be a coordinate pair or Point\n"
     ]
    },
    {
     "name": "stdout",
     "output_type": "stream",
     "text": [
      "Error getting ZIP for nan, nan: Must be a coordinate pair or Point\n"
     ]
    },
    {
     "name": "stdout",
     "output_type": "stream",
     "text": [
      "Error getting ZIP for nan, nan: Must be a coordinate pair or Point\n"
     ]
    },
    {
     "name": "stdout",
     "output_type": "stream",
     "text": [
      "Error getting ZIP for nan, nan: Must be a coordinate pair or Point\n"
     ]
    },
    {
     "name": "stdout",
     "output_type": "stream",
     "text": [
      "Error getting ZIP for nan, nan: Must be a coordinate pair or Point\n"
     ]
    },
    {
     "name": "stdout",
     "output_type": "stream",
     "text": [
      "Error getting ZIP for nan, nan: Must be a coordinate pair or Point\n"
     ]
    },
    {
     "name": "stdout",
     "output_type": "stream",
     "text": [
      "Error getting ZIP for nan, nan: Must be a coordinate pair or Point\n"
     ]
    },
    {
     "name": "stdout",
     "output_type": "stream",
     "text": [
      "Error getting ZIP for nan, nan: Must be a coordinate pair or Point\n"
     ]
    },
    {
     "name": "stdout",
     "output_type": "stream",
     "text": [
      "Error getting ZIP for nan, nan: Must be a coordinate pair or Point\n"
     ]
    },
    {
     "name": "stdout",
     "output_type": "stream",
     "text": [
      "Error getting ZIP for nan, nan: Must be a coordinate pair or Point\n"
     ]
    },
    {
     "name": "stdout",
     "output_type": "stream",
     "text": [
      "Error getting ZIP for nan, nan: Must be a coordinate pair or Point\n"
     ]
    },
    {
     "name": "stdout",
     "output_type": "stream",
     "text": [
      "Error getting ZIP for nan, nan: Must be a coordinate pair or Point\n"
     ]
    },
    {
     "name": "stdout",
     "output_type": "stream",
     "text": [
      "Error getting ZIP for nan, nan: Must be a coordinate pair or Point\n"
     ]
    },
    {
     "data": {
      "text/html": [
       "<div>\n",
       "<style scoped>\n",
       "    .dataframe tbody tr th:only-of-type {\n",
       "        vertical-align: middle;\n",
       "    }\n",
       "\n",
       "    .dataframe tbody tr th {\n",
       "        vertical-align: top;\n",
       "    }\n",
       "\n",
       "    .dataframe thead th {\n",
       "        text-align: right;\n",
       "    }\n",
       "</style>\n",
       "<table border=\"1\" class=\"dataframe\">\n",
       "  <thead>\n",
       "    <tr style=\"text-align: right;\">\n",
       "      <th></th>\n",
       "      <th>RecordID</th>\n",
       "      <th>Offense</th>\n",
       "      <th>IncidentID</th>\n",
       "      <th>BlockNumber</th>\n",
       "      <th>StreetName</th>\n",
       "      <th>Agency</th>\n",
       "      <th>HourReported</th>\n",
       "      <th>ReportingOfficer</th>\n",
       "      <th>Date</th>\n",
       "      <th>DateString</th>\n",
       "      <th>DayOfWeek</th>\n",
       "      <th>Weekend</th>\n",
       "      <th>Season</th>\n",
       "      <th>HourAMPM</th>\n",
       "      <th>TimeOfDay</th>\n",
       "      <th>FullStreet</th>\n",
       "      <th>lat</th>\n",
       "      <th>lon</th>\n",
       "      <th>neighborhood</th>\n",
       "      <th>zip</th>\n",
       "    </tr>\n",
       "  </thead>\n",
       "  <tbody>\n",
       "    <tr>\n",
       "      <th>0</th>\n",
       "      <td>1</td>\n",
       "      <td>Larceny - Theft from Building</td>\n",
       "      <td>202500029216</td>\n",
       "      <td>1400</td>\n",
       "      <td>VINE ST</td>\n",
       "      <td>CPD</td>\n",
       "      <td>1816</td>\n",
       "      <td>Ritter, Kobe</td>\n",
       "      <td>2025-08-17 18:16:19</td>\n",
       "      <td>2025-08-17 06:16:19 PM</td>\n",
       "      <td>Sunday</td>\n",
       "      <td>True</td>\n",
       "      <td>Summer</td>\n",
       "      <td>06:16 PM</td>\n",
       "      <td>Evening</td>\n",
       "      <td>1400 VINE ST</td>\n",
       "      <td>38.019716</td>\n",
       "      <td>-78.468584</td>\n",
       "      <td>Belmont</td>\n",
       "      <td>22902</td>\n",
       "    </tr>\n",
       "    <tr>\n",
       "      <th>1</th>\n",
       "      <td>2</td>\n",
       "      <td>Larceny - Theft from Building</td>\n",
       "      <td>202500029168</td>\n",
       "      <td>1000</td>\n",
       "      <td>SEMINOLE</td>\n",
       "      <td>CPD</td>\n",
       "      <td>0907</td>\n",
       "      <td>Mian, Ghulam</td>\n",
       "      <td>2025-08-17 09:07:25</td>\n",
       "      <td>2025-08-17 09:07:25 AM</td>\n",
       "      <td>Sunday</td>\n",
       "      <td>True</td>\n",
       "      <td>Summer</td>\n",
       "      <td>09:07 AM</td>\n",
       "      <td>Morning</td>\n",
       "      <td>1000 SEMINOLE</td>\n",
       "      <td>38.063882</td>\n",
       "      <td>-78.490122</td>\n",
       "      <td>N/A</td>\n",
       "      <td>22901</td>\n",
       "    </tr>\n",
       "    <tr>\n",
       "      <th>2</th>\n",
       "      <td>3</td>\n",
       "      <td>Assault Simple</td>\n",
       "      <td>202500029163</td>\n",
       "      <td>800</td>\n",
       "      <td>HARDY DR, B</td>\n",
       "      <td>CPD</td>\n",
       "      <td>0333</td>\n",
       "      <td>Verdin, Alejandra</td>\n",
       "      <td>2025-08-17 03:33:32</td>\n",
       "      <td>2025-08-17 03:33:32 AM</td>\n",
       "      <td>Sunday</td>\n",
       "      <td>True</td>\n",
       "      <td>Summer</td>\n",
       "      <td>03:33 AM</td>\n",
       "      <td>Night</td>\n",
       "      <td>800 HARDY DR, B</td>\n",
       "      <td>38.033239</td>\n",
       "      <td>-78.490398</td>\n",
       "      <td>10th &amp; Page</td>\n",
       "      <td>22903</td>\n",
       "    </tr>\n",
       "    <tr>\n",
       "      <th>3</th>\n",
       "      <td>4</td>\n",
       "      <td>Traffic Stops</td>\n",
       "      <td>202500029160</td>\n",
       "      <td></td>\n",
       "      <td>WOODSTOCK DR / ANGUS RD</td>\n",
       "      <td>CPD</td>\n",
       "      <td>0237</td>\n",
       "      <td>Anderson, Kristopher</td>\n",
       "      <td>2025-08-17 02:37:40</td>\n",
       "      <td>2025-08-17 02:37:40 AM</td>\n",
       "      <td>Sunday</td>\n",
       "      <td>True</td>\n",
       "      <td>Summer</td>\n",
       "      <td>02:37 AM</td>\n",
       "      <td>Night</td>\n",
       "      <td>WOODSTOCK DR / ANGUS RD</td>\n",
       "      <td>NaN</td>\n",
       "      <td>NaN</td>\n",
       "      <td>N/A</td>\n",
       "      <td>N/A</td>\n",
       "    </tr>\n",
       "    <tr>\n",
       "      <th>4</th>\n",
       "      <td>5</td>\n",
       "      <td>Assault Aggravated</td>\n",
       "      <td>202500029142</td>\n",
       "      <td>800</td>\n",
       "      <td>W MAIN ST</td>\n",
       "      <td>CPD</td>\n",
       "      <td>2317</td>\n",
       "      <td>Benbow, Lauren</td>\n",
       "      <td>2025-08-16 23:17:35</td>\n",
       "      <td>2025-08-16 11:17:35 PM</td>\n",
       "      <td>Saturday</td>\n",
       "      <td>True</td>\n",
       "      <td>Summer</td>\n",
       "      <td>11:17 PM</td>\n",
       "      <td>Night</td>\n",
       "      <td>800 W MAIN ST</td>\n",
       "      <td>38.031480</td>\n",
       "      <td>-78.490333</td>\n",
       "      <td>Starr Hill</td>\n",
       "      <td>22903</td>\n",
       "    </tr>\n",
       "  </tbody>\n",
       "</table>\n",
       "</div>"
      ],
      "text/plain": [
       "   RecordID                        Offense    IncidentID BlockNumber  \\\n",
       "0         1  Larceny - Theft from Building  202500029216        1400   \n",
       "1         2  Larceny - Theft from Building  202500029168        1000   \n",
       "2         3                 Assault Simple  202500029163         800   \n",
       "3         4                  Traffic Stops  202500029160               \n",
       "4         5             Assault Aggravated  202500029142         800   \n",
       "\n",
       "                StreetName Agency HourReported      ReportingOfficer  \\\n",
       "0                  VINE ST    CPD         1816          Ritter, Kobe   \n",
       "1                 SEMINOLE    CPD         0907          Mian, Ghulam   \n",
       "2              HARDY DR, B    CPD         0333     Verdin, Alejandra   \n",
       "3  WOODSTOCK DR / ANGUS RD    CPD         0237  Anderson, Kristopher   \n",
       "4                W MAIN ST    CPD         2317        Benbow, Lauren   \n",
       "\n",
       "                 Date              DateString DayOfWeek  Weekend  Season  \\\n",
       "0 2025-08-17 18:16:19  2025-08-17 06:16:19 PM    Sunday     True  Summer   \n",
       "1 2025-08-17 09:07:25  2025-08-17 09:07:25 AM    Sunday     True  Summer   \n",
       "2 2025-08-17 03:33:32  2025-08-17 03:33:32 AM    Sunday     True  Summer   \n",
       "3 2025-08-17 02:37:40  2025-08-17 02:37:40 AM    Sunday     True  Summer   \n",
       "4 2025-08-16 23:17:35  2025-08-16 11:17:35 PM  Saturday     True  Summer   \n",
       "\n",
       "   HourAMPM TimeOfDay                FullStreet        lat        lon  \\\n",
       "0  06:16 PM   Evening              1400 VINE ST  38.019716 -78.468584   \n",
       "1  09:07 AM   Morning             1000 SEMINOLE  38.063882 -78.490122   \n",
       "2  03:33 AM     Night           800 HARDY DR, B  38.033239 -78.490398   \n",
       "3  02:37 AM     Night   WOODSTOCK DR / ANGUS RD        NaN        NaN   \n",
       "4  11:17 PM     Night             800 W MAIN ST  38.031480 -78.490333   \n",
       "\n",
       "  neighborhood    zip  \n",
       "0      Belmont  22902  \n",
       "1          N/A  22901  \n",
       "2  10th & Page  22903  \n",
       "3          N/A    N/A  \n",
       "4   Starr Hill  22903  "
      ]
     },
     "execution_count": 11,
     "metadata": {},
     "output_type": "execute_result"
    }
   ],
   "source": [
    "# Initialize the geocoder.\n",
    "geolocator = Nominatim(user_agent=\"zip_lookup\")\n",
    "\n",
    "# Try to load a persistent ZIP cache if available.\n",
    "try:\n",
    "    with open(\"zip_cache.pkl\", \"rb\") as f:\n",
    "        zip_cache = pickle.load(f)\n",
    "    print(\"Loaded zip cache.\")\n",
    "except FileNotFoundError:\n",
    "    zip_cache = {}\n",
    "    print(\"No zip cache found; starting fresh.\")\n",
    "\n",
    "def get_zip(lat, lon):\n",
    "    \"\"\"\n",
    "    Reverse geocodes a latitude and longitude to retrieve the ZIP code.\n",
    "    Caches results to speed up subsequent lookups.\n",
    "    \"\"\"\n",
    "    key = (lat, lon)\n",
    "    if key in zip_cache:\n",
    "        return zip_cache[key]\n",
    "    \n",
    "    try:\n",
    "        location = geolocator.reverse((lat, lon), exactly_one=True, timeout=10)\n",
    "        address = location.raw.get('address', {})\n",
    "        postal_code = address.get('postcode', \"N/A\")\n",
    "    except Exception as e:\n",
    "        print(f\"Error getting ZIP for {lat}, {lon}: {e}\")\n",
    "        postal_code = \"N/A\"\n",
    "    \n",
    "    zip_cache[key] = postal_code\n",
    "    # Pause to respect the usage policy.\n",
    "    time.sleep(1)\n",
    "    return postal_code\n",
    "\n",
    "# Apply the function to each row in the DataFrame.\n",
    "df['zip'] = df.apply(lambda row: get_zip(row['lat'], row['lon']), axis=1)\n",
    "\n",
    "# Save the updated ZIP cache.\n",
    "with open(\"zip_cache.pkl\", \"wb\") as f:\n",
    "    pickle.dump(zip_cache, f)\n",
    "\n",
    "df.head()\n"
   ]
  },
  {
   "cell_type": "code",
   "execution_count": 12,
   "id": "7928ea15",
   "metadata": {
    "execution": {
     "iopub.execute_input": "2025-08-20T01:04:16.686088Z",
     "iopub.status.busy": "2025-08-20T01:04:16.685857Z",
     "iopub.status.idle": "2025-08-20T01:04:16.711912Z",
     "shell.execute_reply": "2025-08-20T01:04:16.711244Z"
    },
    "papermill": {
     "duration": 0.038102,
     "end_time": "2025-08-20T01:04:16.712904",
     "exception": false,
     "start_time": "2025-08-20T01:04:16.674802",
     "status": "completed"
    },
    "tags": []
   },
   "outputs": [
    {
     "name": "stdout",
     "output_type": "stream",
     "text": [
      "                  MissingCount  MissingPercentage\n",
      "RecordID                     0               0.00\n",
      "Offense                      0               0.00\n",
      "IncidentID                   0               0.00\n",
      "BlockNumber                  0               0.00\n",
      "StreetName                   0               0.00\n",
      "Agency                       0               0.00\n",
      "HourReported                 0               0.00\n",
      "ReportingOfficer            15               0.06\n",
      "Date                         0               0.00\n",
      "DateString                   0               0.00\n",
      "DayOfWeek                    0               0.00\n",
      "Weekend                      0               0.00\n",
      "Season                       0               0.00\n",
      "HourAMPM                     0               0.00\n",
      "TimeOfDay                    0               0.00\n",
      "FullStreet                   0               0.00\n",
      "lat                        109               0.42\n",
      "lon                        109               0.42\n",
      "neighborhood                 0               0.00\n",
      "zip                          0               0.00\n"
     ]
    }
   ],
   "source": [
    "missing_info = missing_percentage(df)\n",
    "print(missing_info)\n"
   ]
  },
  {
   "cell_type": "code",
   "execution_count": 13,
   "id": "dfbc2445",
   "metadata": {
    "execution": {
     "iopub.execute_input": "2025-08-20T01:04:16.734820Z",
     "iopub.status.busy": "2025-08-20T01:04:16.734614Z",
     "iopub.status.idle": "2025-08-20T01:04:16.759811Z",
     "shell.execute_reply": "2025-08-20T01:04:16.759242Z"
    },
    "papermill": {
     "duration": 0.037224,
     "end_time": "2025-08-20T01:04:16.760815",
     "exception": false,
     "start_time": "2025-08-20T01:04:16.723591",
     "status": "completed"
    },
    "tags": []
   },
   "outputs": [
    {
     "name": "stdout",
     "output_type": "stream",
     "text": [
      "<class 'pandas.core.frame.DataFrame'>\n",
      "RangeIndex: 25656 entries, 0 to 25655\n",
      "Data columns (total 20 columns):\n",
      " #   Column            Non-Null Count  Dtype         \n",
      "---  ------            --------------  -----         \n",
      " 0   RecordID          25656 non-null  int64         \n",
      " 1   Offense           25656 non-null  object        \n",
      " 2   IncidentID        25656 non-null  object        \n",
      " 3   BlockNumber       25656 non-null  object        \n",
      " 4   StreetName        25656 non-null  object        \n",
      " 5   Agency            25656 non-null  object        \n",
      " 6   HourReported      25656 non-null  object        \n",
      " 7   ReportingOfficer  25641 non-null  object        \n",
      " 8   Date              25656 non-null  datetime64[ns]\n",
      " 9   DateString        25656 non-null  object        \n",
      " 10  DayOfWeek         25656 non-null  object        \n",
      " 11  Weekend           25656 non-null  bool          \n",
      " 12  Season            25656 non-null  object        \n",
      " 13  HourAMPM          25656 non-null  object        \n",
      " 14  TimeOfDay         25656 non-null  object        \n",
      " 15  FullStreet        25656 non-null  object        \n",
      " 16  lat               25547 non-null  float64       \n",
      " 17  lon               25547 non-null  float64       \n",
      " 18  neighborhood      25656 non-null  object        \n",
      " 19  zip               25656 non-null  object        \n",
      "dtypes: bool(1), datetime64[ns](1), float64(2), int64(1), object(15)\n",
      "memory usage: 3.7+ MB\n"
     ]
    }
   ],
   "source": [
    "df.info()"
   ]
  },
  {
   "cell_type": "code",
   "execution_count": 14,
   "id": "b3af8436",
   "metadata": {
    "execution": {
     "iopub.execute_input": "2025-08-20T01:04:16.782745Z",
     "iopub.status.busy": "2025-08-20T01:04:16.782505Z",
     "iopub.status.idle": "2025-08-20T01:04:16.823024Z",
     "shell.execute_reply": "2025-08-20T01:04:16.822373Z"
    },
    "papermill": {
     "duration": 0.052557,
     "end_time": "2025-08-20T01:04:16.824081",
     "exception": false,
     "start_time": "2025-08-20T01:04:16.771524",
     "status": "completed"
    },
    "tags": []
   },
   "outputs": [
    {
     "data": {
      "text/html": [
       "<div>\n",
       "<style scoped>\n",
       "    .dataframe tbody tr th:only-of-type {\n",
       "        vertical-align: middle;\n",
       "    }\n",
       "\n",
       "    .dataframe tbody tr th {\n",
       "        vertical-align: top;\n",
       "    }\n",
       "\n",
       "    .dataframe thead th {\n",
       "        text-align: right;\n",
       "    }\n",
       "</style>\n",
       "<table border=\"1\" class=\"dataframe\">\n",
       "  <thead>\n",
       "    <tr style=\"text-align: right;\">\n",
       "      <th></th>\n",
       "      <th>RecordID</th>\n",
       "      <th>Offense</th>\n",
       "      <th>IncidentID</th>\n",
       "      <th>Agency</th>\n",
       "      <th>ReportingOfficer</th>\n",
       "      <th>Date</th>\n",
       "      <th>DayOfWeek</th>\n",
       "      <th>Weekend</th>\n",
       "      <th>Season</th>\n",
       "      <th>TimeOfDay</th>\n",
       "      <th>FullStreet</th>\n",
       "      <th>lat</th>\n",
       "      <th>lon</th>\n",
       "      <th>neighborhood</th>\n",
       "      <th>zip</th>\n",
       "    </tr>\n",
       "  </thead>\n",
       "  <tbody>\n",
       "    <tr>\n",
       "      <th>0</th>\n",
       "      <td>1</td>\n",
       "      <td>Larceny - Theft from Building</td>\n",
       "      <td>202500029216</td>\n",
       "      <td>CPD</td>\n",
       "      <td>Ritter, Kobe</td>\n",
       "      <td>2025-08-17 18:16:19</td>\n",
       "      <td>Sunday</td>\n",
       "      <td>True</td>\n",
       "      <td>Summer</td>\n",
       "      <td>Evening</td>\n",
       "      <td>1400 VINE ST</td>\n",
       "      <td>38.019716</td>\n",
       "      <td>-78.468584</td>\n",
       "      <td>Belmont</td>\n",
       "      <td>22902</td>\n",
       "    </tr>\n",
       "    <tr>\n",
       "      <th>1</th>\n",
       "      <td>2</td>\n",
       "      <td>Larceny - Theft from Building</td>\n",
       "      <td>202500029168</td>\n",
       "      <td>CPD</td>\n",
       "      <td>Mian, Ghulam</td>\n",
       "      <td>2025-08-17 09:07:25</td>\n",
       "      <td>Sunday</td>\n",
       "      <td>True</td>\n",
       "      <td>Summer</td>\n",
       "      <td>Morning</td>\n",
       "      <td>1000 SEMINOLE</td>\n",
       "      <td>38.063882</td>\n",
       "      <td>-78.490122</td>\n",
       "      <td>N/A</td>\n",
       "      <td>22901</td>\n",
       "    </tr>\n",
       "    <tr>\n",
       "      <th>2</th>\n",
       "      <td>3</td>\n",
       "      <td>Assault Simple</td>\n",
       "      <td>202500029163</td>\n",
       "      <td>CPD</td>\n",
       "      <td>Verdin, Alejandra</td>\n",
       "      <td>2025-08-17 03:33:32</td>\n",
       "      <td>Sunday</td>\n",
       "      <td>True</td>\n",
       "      <td>Summer</td>\n",
       "      <td>Night</td>\n",
       "      <td>800 HARDY DR, B</td>\n",
       "      <td>38.033239</td>\n",
       "      <td>-78.490398</td>\n",
       "      <td>10th &amp; Page</td>\n",
       "      <td>22903</td>\n",
       "    </tr>\n",
       "    <tr>\n",
       "      <th>3</th>\n",
       "      <td>4</td>\n",
       "      <td>Traffic Stops</td>\n",
       "      <td>202500029160</td>\n",
       "      <td>CPD</td>\n",
       "      <td>Anderson, Kristopher</td>\n",
       "      <td>2025-08-17 02:37:40</td>\n",
       "      <td>Sunday</td>\n",
       "      <td>True</td>\n",
       "      <td>Summer</td>\n",
       "      <td>Night</td>\n",
       "      <td>WOODSTOCK DR / ANGUS RD</td>\n",
       "      <td>N/A</td>\n",
       "      <td>N/A</td>\n",
       "      <td>N/A</td>\n",
       "      <td>N/A</td>\n",
       "    </tr>\n",
       "    <tr>\n",
       "      <th>4</th>\n",
       "      <td>5</td>\n",
       "      <td>Assault Aggravated</td>\n",
       "      <td>202500029142</td>\n",
       "      <td>CPD</td>\n",
       "      <td>Benbow, Lauren</td>\n",
       "      <td>2025-08-16 23:17:35</td>\n",
       "      <td>Saturday</td>\n",
       "      <td>True</td>\n",
       "      <td>Summer</td>\n",
       "      <td>Night</td>\n",
       "      <td>800 W MAIN ST</td>\n",
       "      <td>38.03148</td>\n",
       "      <td>-78.490333</td>\n",
       "      <td>Starr Hill</td>\n",
       "      <td>22903</td>\n",
       "    </tr>\n",
       "  </tbody>\n",
       "</table>\n",
       "</div>"
      ],
      "text/plain": [
       "   RecordID                        Offense    IncidentID Agency  \\\n",
       "0         1  Larceny - Theft from Building  202500029216    CPD   \n",
       "1         2  Larceny - Theft from Building  202500029168    CPD   \n",
       "2         3                 Assault Simple  202500029163    CPD   \n",
       "3         4                  Traffic Stops  202500029160    CPD   \n",
       "4         5             Assault Aggravated  202500029142    CPD   \n",
       "\n",
       "       ReportingOfficer                Date DayOfWeek  Weekend  Season  \\\n",
       "0          Ritter, Kobe 2025-08-17 18:16:19    Sunday     True  Summer   \n",
       "1          Mian, Ghulam 2025-08-17 09:07:25    Sunday     True  Summer   \n",
       "2     Verdin, Alejandra 2025-08-17 03:33:32    Sunday     True  Summer   \n",
       "3  Anderson, Kristopher 2025-08-17 02:37:40    Sunday     True  Summer   \n",
       "4        Benbow, Lauren 2025-08-16 23:17:35  Saturday     True  Summer   \n",
       "\n",
       "  TimeOfDay                FullStreet        lat        lon neighborhood  \\\n",
       "0   Evening              1400 VINE ST  38.019716 -78.468584      Belmont   \n",
       "1   Morning             1000 SEMINOLE  38.063882 -78.490122          N/A   \n",
       "2     Night           800 HARDY DR, B  38.033239 -78.490398  10th & Page   \n",
       "3     Night   WOODSTOCK DR / ANGUS RD        N/A        N/A          N/A   \n",
       "4     Night             800 W MAIN ST   38.03148 -78.490333   Starr Hill   \n",
       "\n",
       "     zip  \n",
       "0  22902  \n",
       "1  22901  \n",
       "2  22903  \n",
       "3    N/A  \n",
       "4  22903  "
      ]
     },
     "execution_count": 14,
     "metadata": {},
     "output_type": "execute_result"
    }
   ],
   "source": [
    "# Now drop the original BlockNumber and StreetName columns\n",
    "df.drop(columns=['BlockNumber', 'StreetName','HourAMPM','HourReported','DateString'], inplace=True)\n",
    "df[\"zip\"] = df[\"zip\"].astype(str)\n",
    "\n",
    "# Fill all missing values in the DataFrame with \"N/A\"\n",
    "df.replace({None: \"N/A\", np.nan: \"N/A\", \"\": \"N/A\"}, inplace=True)\n",
    "df.head()"
   ]
  },
  {
   "cell_type": "code",
   "execution_count": 15,
   "id": "3fb4f875",
   "metadata": {
    "execution": {
     "iopub.execute_input": "2025-08-20T01:04:16.847045Z",
     "iopub.status.busy": "2025-08-20T01:04:16.846834Z",
     "iopub.status.idle": "2025-08-20T01:04:16.862978Z",
     "shell.execute_reply": "2025-08-20T01:04:16.862447Z"
    },
    "papermill": {
     "duration": 0.028684,
     "end_time": "2025-08-20T01:04:16.863987",
     "exception": false,
     "start_time": "2025-08-20T01:04:16.835303",
     "status": "completed"
    },
    "tags": []
   },
   "outputs": [
    {
     "name": "stdout",
     "output_type": "stream",
     "text": [
      "                  MissingCount  MissingPercentage\n",
      "RecordID                     0                0.0\n",
      "Offense                      0                0.0\n",
      "IncidentID                   0                0.0\n",
      "Agency                       0                0.0\n",
      "ReportingOfficer             0                0.0\n",
      "Date                         0                0.0\n",
      "DayOfWeek                    0                0.0\n",
      "Weekend                      0                0.0\n",
      "Season                       0                0.0\n",
      "TimeOfDay                    0                0.0\n",
      "FullStreet                   0                0.0\n",
      "lat                          0                0.0\n",
      "lon                          0                0.0\n",
      "neighborhood                 0                0.0\n",
      "zip                          0                0.0\n"
     ]
    }
   ],
   "source": [
    "missing_info = missing_percentage(df)\n",
    "print(missing_info)"
   ]
  },
  {
   "cell_type": "code",
   "execution_count": 16,
   "id": "4af18870",
   "metadata": {
    "execution": {
     "iopub.execute_input": "2025-08-20T01:04:16.886501Z",
     "iopub.status.busy": "2025-08-20T01:04:16.886221Z",
     "iopub.status.idle": "2025-08-20T01:04:16.890440Z",
     "shell.execute_reply": "2025-08-20T01:04:16.889918Z"
    },
    "papermill": {
     "duration": 0.016465,
     "end_time": "2025-08-20T01:04:16.891420",
     "exception": false,
     "start_time": "2025-08-20T01:04:16.874955",
     "status": "completed"
    },
    "tags": []
   },
   "outputs": [
    {
     "data": {
      "text/plain": [
       "Index(['RecordID', 'Offense', 'IncidentID', 'Agency', 'ReportingOfficer',\n",
       "       'Date', 'DayOfWeek', 'Weekend', 'Season', 'TimeOfDay', 'FullStreet',\n",
       "       'lat', 'lon', 'neighborhood', 'zip'],\n",
       "      dtype='object')"
      ]
     },
     "execution_count": 16,
     "metadata": {},
     "output_type": "execute_result"
    }
   ],
   "source": [
    "df.columns"
   ]
  },
  {
   "cell_type": "code",
   "execution_count": 17,
   "id": "d6bf384c",
   "metadata": {
    "execution": {
     "iopub.execute_input": "2025-08-20T01:04:16.914049Z",
     "iopub.status.busy": "2025-08-20T01:04:16.913832Z",
     "iopub.status.idle": "2025-08-20T01:04:16.936145Z",
     "shell.execute_reply": "2025-08-20T01:04:16.935595Z"
    },
    "papermill": {
     "duration": 0.034834,
     "end_time": "2025-08-20T01:04:16.937158",
     "exception": false,
     "start_time": "2025-08-20T01:04:16.902324",
     "status": "completed"
    },
    "tags": []
   },
   "outputs": [
    {
     "name": "stdout",
     "output_type": "stream",
     "text": [
      "<class 'pandas.core.frame.DataFrame'>\n",
      "RangeIndex: 25656 entries, 0 to 25655\n",
      "Data columns (total 15 columns):\n",
      " #   Column            Non-Null Count  Dtype         \n",
      "---  ------            --------------  -----         \n",
      " 0   RecordID          25656 non-null  int64         \n",
      " 1   Offense           25656 non-null  object        \n",
      " 2   IncidentID        25656 non-null  object        \n",
      " 3   Agency            25656 non-null  object        \n",
      " 4   ReportingOfficer  25656 non-null  object        \n",
      " 5   Date              25656 non-null  datetime64[ns]\n",
      " 6   DayOfWeek         25656 non-null  object        \n",
      " 7   Weekend           25656 non-null  bool          \n",
      " 8   Season            25656 non-null  object        \n",
      " 9   TimeOfDay         25656 non-null  object        \n",
      " 10  FullStreet        25656 non-null  object        \n",
      " 11  lat               25656 non-null  object        \n",
      " 12  lon               25656 non-null  object        \n",
      " 13  neighborhood      25656 non-null  object        \n",
      " 14  zip               25656 non-null  object        \n",
      "dtypes: bool(1), datetime64[ns](1), int64(1), object(12)\n",
      "memory usage: 2.8+ MB\n"
     ]
    }
   ],
   "source": [
    "df.info()"
   ]
  },
  {
   "cell_type": "markdown",
   "id": "634dcdee",
   "metadata": {
    "papermill": {
     "duration": 0.010956,
     "end_time": "2025-08-20T01:04:16.959629",
     "exception": false,
     "start_time": "2025-08-20T01:04:16.948673",
     "status": "completed"
    },
    "tags": []
   },
   "source": [
    "### Export Clean Data"
   ]
  },
  {
   "cell_type": "code",
   "execution_count": 18,
   "id": "32ef1f13",
   "metadata": {
    "execution": {
     "iopub.execute_input": "2025-08-20T01:04:16.982687Z",
     "iopub.status.busy": "2025-08-20T01:04:16.982443Z",
     "iopub.status.idle": "2025-08-20T01:04:26.126054Z",
     "shell.execute_reply": "2025-08-20T01:04:26.125377Z"
    },
    "papermill": {
     "duration": 9.156499,
     "end_time": "2025-08-20T01:04:26.127160",
     "exception": false,
     "start_time": "2025-08-20T01:04:16.970661",
     "status": "completed"
    },
    "tags": []
   },
   "outputs": [
    {
     "name": "stdout",
     "output_type": "stream",
     "text": [
      "Project Root: /home/runner/work/crime-data/crime-data\n"
     ]
    },
    {
     "name": "stdout",
     "output_type": "stream",
     "text": [
      "Data saved to: /home/runner/work/crime-data/crime-data/data/charlottesville_crime_incidents.csv\n"
     ]
    },
    {
     "name": "stdout",
     "output_type": "stream",
     "text": [
      "Excel saved to: /home/runner/work/crime-data/crime-data/data/charlottesville_crime_incidents.xlsx\n"
     ]
    }
   ],
   "source": [
    "# Determine the project root (assuming papermill is run from the repository root)\n",
    "project_root = os.getcwd()\n",
    "print(\"Project Root:\", project_root)\n",
    "\n",
    "# Set the data directory within the project root\n",
    "data_dir = os.path.join(project_root, \"data\")\n",
    "\n",
    "# Ensure the \"data\" directory exists (create it if it doesn't)\n",
    "if not os.path.exists(data_dir):\n",
    "    os.makedirs(data_dir)\n",
    "\n",
    "# Export the DataFrame to CSV in the \"data\" folder located in the project root\n",
    "csv_path = os.path.join(data_dir, \"charlottesville_crime_incidents.csv\")\n",
    "df.to_csv(csv_path, index=False)\n",
    "print(\"Data saved to:\", csv_path)\n",
    "\n",
    "# Construct the path to your Excel file\n",
    "excel_path = os.path.join(data_dir, \"charlottesville_crime_incidents.xlsx\")\n",
    "\n",
    "# Export the DataFrame to Excel\n",
    "df.to_excel(excel_path, index=False)\n",
    "print(\"Excel saved to:\", excel_path)\n"
   ]
  }
 ],
 "metadata": {
  "kernelspec": {
   "display_name": "Python 3",
   "language": "python",
   "name": "python3"
  },
  "language_info": {
   "codemirror_mode": {
    "name": "ipython",
    "version": 3
   },
   "file_extension": ".py",
   "mimetype": "text/x-python",
   "name": "python",
   "nbconvert_exporter": "python",
   "pygments_lexer": "ipython3",
   "version": "3.9.23"
  },
  "papermill": {
   "default_parameters": {},
   "duration": 193.342494,
   "end_time": "2025-08-20T01:04:26.555109",
   "environment_variables": {},
   "exception": null,
   "input_path": "notebook/Crime Data.ipynb",
   "output_path": "notebook/Crime Data_output.ipynb",
   "parameters": {},
   "start_time": "2025-08-20T01:01:13.212615",
   "version": "2.6.0"
  }
 },
 "nbformat": 4,
 "nbformat_minor": 5
}