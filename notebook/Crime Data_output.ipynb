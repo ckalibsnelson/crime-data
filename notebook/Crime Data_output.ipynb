{
 "cells": [
  {
   "cell_type": "markdown",
   "id": "360cc453",
   "metadata": {
    "papermill": {
     "duration": 0.004442,
     "end_time": "2025-06-21T01:03:27.083576",
     "exception": false,
     "start_time": "2025-06-21T01:03:27.079134",
     "status": "completed"
    },
    "tags": []
   },
   "source": [
    "# Charlottesville Open Data Porttal: Crime Data"
   ]
  },
  {
   "cell_type": "markdown",
   "id": "30ebe446",
   "metadata": {
    "papermill": {
     "duration": 0.003239,
     "end_time": "2025-06-21T01:03:27.090459",
     "exception": false,
     "start_time": "2025-06-21T01:03:27.087220",
     "status": "completed"
    },
    "tags": []
   },
   "source": [
    "## Import Relevant Librarires & Set WD"
   ]
  },
  {
   "cell_type": "code",
   "execution_count": 1,
   "id": "b8e59862",
   "metadata": {
    "execution": {
     "iopub.execute_input": "2025-06-21T01:03:27.098241Z",
     "iopub.status.busy": "2025-06-21T01:03:27.097966Z",
     "iopub.status.idle": "2025-06-21T01:03:27.612229Z",
     "shell.execute_reply": "2025-06-21T01:03:27.611574Z"
    },
    "papermill": {
     "duration": 0.519858,
     "end_time": "2025-06-21T01:03:27.613544",
     "exception": false,
     "start_time": "2025-06-21T01:03:27.093686",
     "status": "completed"
    },
    "tags": []
   },
   "outputs": [],
   "source": [
    "import requests\n",
    "import pandas as pd\n",
    "import numpy as np\n",
    "import pickle\n",
    "import googlemaps\n",
    "import plotly.express as px\n",
    "from geopy.geocoders import Nominatim\n",
    "import time\n",
    "from dotenv import load_dotenv\n",
    "import os\n",
    "\n",
    "env_path = os.path.join(\"..\", \".env\")\n",
    "#print(\"Looking for .env file at:\", os.path.abspath(env_path))\n",
    "load_dotenv(dotenv_path=env_path)\n",
    "\n",
    "# Retrieve the variables\n",
    "GOOGLE_API_KEY = os.getenv(\"GOOGLE_API_KEY\")\n",
    "WORKING_DIR = os.getenv(\"WORKING_DIR\")\n",
    "\n",
    "if GOOGLE_API_KEY is None or WORKING_DIR is None:\n",
    "    raise RuntimeError(\"No configuration found. Please ensure that your .env file exists with the required variables, or create a local config.py file.\")\n",
    "\n",
    "#print(\"Google API Key:\", GOOGLE_API_KEY)\n",
    "#print(\"Working Directory:\", WORKING_DIR)"
   ]
  },
  {
   "cell_type": "markdown",
   "id": "5fc85a0d",
   "metadata": {
    "papermill": {
     "duration": 0.003247,
     "end_time": "2025-06-21T01:03:27.620425",
     "exception": false,
     "start_time": "2025-06-21T01:03:27.617178",
     "status": "completed"
    },
    "tags": []
   },
   "source": [
    "## Import Data\n",
    "\n",
    "URL: https://opendata.charlottesville.org/datasets/charlottesville::crime-data/about"
   ]
  },
  {
   "cell_type": "code",
   "execution_count": 2,
   "id": "ff4c9c40",
   "metadata": {
    "execution": {
     "iopub.execute_input": "2025-06-21T01:03:27.628310Z",
     "iopub.status.busy": "2025-06-21T01:03:27.627831Z",
     "iopub.status.idle": "2025-06-21T01:04:47.503275Z",
     "shell.execute_reply": "2025-06-21T01:04:47.502498Z"
    },
    "papermill": {
     "duration": 79.883499,
     "end_time": "2025-06-21T01:04:47.507300",
     "exception": false,
     "start_time": "2025-06-21T01:03:27.623801",
     "status": "completed"
    },
    "tags": []
   },
   "outputs": [
    {
     "name": "stdout",
     "output_type": "stream",
     "text": [
      "Total records imported: 25536\n"
     ]
    }
   ],
   "source": [
    "# Define the endpoint and initial parameters.\n",
    "url = \"https://gisweb.charlottesville.org/arcgis/rest/services/OpenData_2/MapServer/6/query\"\n",
    "params = {\n",
    "    \"where\": \"1=1\",\n",
    "    \"outFields\": \"*\",\n",
    "    \"outSR\": 4326,\n",
    "    \"f\": \"json\",\n",
    "    \"resultOffset\": 0,       # Starting index for results\n",
    "    \"resultRecordCount\": 10000  # Maximum records per batch (if allowed by the API)\n",
    "}\n",
    "\n",
    "records = []\n",
    "\n",
    "while True:\n",
    "    response = requests.get(url, params=params)\n",
    "    response.raise_for_status()\n",
    "    data = response.json()\n",
    "    \n",
    "    # Get the current batch of features.\n",
    "    features = data.get(\"features\", [])\n",
    "    if not features:\n",
    "        break\n",
    "\n",
    "    # Extract the attributes from the features.\n",
    "    batch_records = [feature.get(\"attributes\", {}) for feature in features]\n",
    "    records.extend(batch_records)\n",
    "    \n",
    "    # If the batch size is less than the requested count, we reached the end.\n",
    "    if len(features) < params[\"resultRecordCount\"]:\n",
    "        break\n",
    "\n",
    "    # Update the resultOffset for the next batch.\n",
    "    params[\"resultOffset\"] += params[\"resultRecordCount\"]\n",
    "\n",
    "# Create a DataFrame from the combined records.\n",
    "df = pd.DataFrame(records)\n",
    "print(\"Total records imported:\", len(df))\n"
   ]
  },
  {
   "cell_type": "code",
   "execution_count": 3,
   "id": "5ed3a8ab",
   "metadata": {
    "execution": {
     "iopub.execute_input": "2025-06-21T01:04:47.515235Z",
     "iopub.status.busy": "2025-06-21T01:04:47.514763Z",
     "iopub.status.idle": "2025-06-21T01:04:47.527184Z",
     "shell.execute_reply": "2025-06-21T01:04:47.526613Z"
    },
    "papermill": {
     "duration": 0.017393,
     "end_time": "2025-06-21T01:04:47.528142",
     "exception": false,
     "start_time": "2025-06-21T01:04:47.510749",
     "status": "completed"
    },
    "tags": []
   },
   "outputs": [
    {
     "data": {
      "text/html": [
       "<div>\n",
       "<style scoped>\n",
       "    .dataframe tbody tr th:only-of-type {\n",
       "        vertical-align: middle;\n",
       "    }\n",
       "\n",
       "    .dataframe tbody tr th {\n",
       "        vertical-align: top;\n",
       "    }\n",
       "\n",
       "    .dataframe thead th {\n",
       "        text-align: right;\n",
       "    }\n",
       "</style>\n",
       "<table border=\"1\" class=\"dataframe\">\n",
       "  <thead>\n",
       "    <tr style=\"text-align: right;\">\n",
       "      <th></th>\n",
       "      <th>RecordID</th>\n",
       "      <th>Offense</th>\n",
       "      <th>IncidentID</th>\n",
       "      <th>BlockNumber</th>\n",
       "      <th>StreetName</th>\n",
       "      <th>Agency</th>\n",
       "      <th>DateReported</th>\n",
       "      <th>HourReported</th>\n",
       "      <th>ReportingOfficer</th>\n",
       "    </tr>\n",
       "  </thead>\n",
       "  <tbody>\n",
       "    <tr>\n",
       "      <th>0</th>\n",
       "      <td>1</td>\n",
       "      <td>Assault Aggravated</td>\n",
       "      <td>202500021021</td>\n",
       "      <td>800</td>\n",
       "      <td>RUGBY RD</td>\n",
       "      <td>CPD</td>\n",
       "      <td>1750285106000</td>\n",
       "      <td>1818</td>\n",
       "      <td>Reed, Danielle</td>\n",
       "    </tr>\n",
       "    <tr>\n",
       "      <th>1</th>\n",
       "      <td>2</td>\n",
       "      <td>Assault Simple</td>\n",
       "      <td>202500021020</td>\n",
       "      <td>200</td>\n",
       "      <td>RIDGE MCINTIRE RD</td>\n",
       "      <td>CPD</td>\n",
       "      <td>1750284177000</td>\n",
       "      <td>1802</td>\n",
       "      <td>Abdelgayed, Adam</td>\n",
       "    </tr>\n",
       "    <tr>\n",
       "      <th>2</th>\n",
       "      <td>3</td>\n",
       "      <td>Vandalism</td>\n",
       "      <td>202500021019</td>\n",
       "      <td></td>\n",
       "      <td>MILLMONT ST @ BARRACKS RD</td>\n",
       "      <td>CPD</td>\n",
       "      <td>1750283786000</td>\n",
       "      <td>1756</td>\n",
       "      <td>Rigsby, Lloyd</td>\n",
       "    </tr>\n",
       "    <tr>\n",
       "      <th>3</th>\n",
       "      <td>4</td>\n",
       "      <td>Fraud-false pretense</td>\n",
       "      <td>202500020981</td>\n",
       "      <td>600</td>\n",
       "      <td>E MARKET ST</td>\n",
       "      <td>CPD</td>\n",
       "      <td>1750263530000</td>\n",
       "      <td>1218</td>\n",
       "      <td>Nash, Darius</td>\n",
       "    </tr>\n",
       "    <tr>\n",
       "      <th>4</th>\n",
       "      <td>5</td>\n",
       "      <td>Fraud-false pretense</td>\n",
       "      <td>202500020966</td>\n",
       "      <td>400</td>\n",
       "      <td>10TH ST NW</td>\n",
       "      <td>CPD</td>\n",
       "      <td>1750256073000</td>\n",
       "      <td>1014</td>\n",
       "      <td>Khaleefa, Hamzeh</td>\n",
       "    </tr>\n",
       "  </tbody>\n",
       "</table>\n",
       "</div>"
      ],
      "text/plain": [
       "   RecordID               Offense    IncidentID BlockNumber  \\\n",
       "0         1    Assault Aggravated  202500021021         800   \n",
       "1         2        Assault Simple  202500021020         200   \n",
       "2         3             Vandalism  202500021019               \n",
       "3         4  Fraud-false pretense  202500020981         600   \n",
       "4         5  Fraud-false pretense  202500020966         400   \n",
       "\n",
       "                  StreetName Agency   DateReported HourReported  \\\n",
       "0                   RUGBY RD    CPD  1750285106000         1818   \n",
       "1          RIDGE MCINTIRE RD    CPD  1750284177000         1802   \n",
       "2  MILLMONT ST @ BARRACKS RD    CPD  1750283786000         1756   \n",
       "3                E MARKET ST    CPD  1750263530000         1218   \n",
       "4                 10TH ST NW    CPD  1750256073000         1014   \n",
       "\n",
       "   ReportingOfficer  \n",
       "0    Reed, Danielle  \n",
       "1  Abdelgayed, Adam  \n",
       "2     Rigsby, Lloyd  \n",
       "3      Nash, Darius  \n",
       "4  Khaleefa, Hamzeh  "
      ]
     },
     "execution_count": 3,
     "metadata": {},
     "output_type": "execute_result"
    }
   ],
   "source": [
    "df.head()"
   ]
  },
  {
   "cell_type": "code",
   "execution_count": 4,
   "id": "1c784834",
   "metadata": {
    "execution": {
     "iopub.execute_input": "2025-06-21T01:04:47.536300Z",
     "iopub.status.busy": "2025-06-21T01:04:47.535886Z",
     "iopub.status.idle": "2025-06-21T01:04:47.540282Z",
     "shell.execute_reply": "2025-06-21T01:04:47.539649Z"
    },
    "papermill": {
     "duration": 0.009498,
     "end_time": "2025-06-21T01:04:47.541284",
     "exception": false,
     "start_time": "2025-06-21T01:04:47.531786",
     "status": "completed"
    },
    "tags": []
   },
   "outputs": [
    {
     "data": {
      "text/plain": [
       "Index(['RecordID', 'Offense', 'IncidentID', 'BlockNumber', 'StreetName',\n",
       "       'Agency', 'DateReported', 'HourReported', 'ReportingOfficer'],\n",
       "      dtype='object')"
      ]
     },
     "execution_count": 4,
     "metadata": {},
     "output_type": "execute_result"
    }
   ],
   "source": [
    "df.columns"
   ]
  },
  {
   "cell_type": "code",
   "execution_count": 5,
   "id": "041d778a",
   "metadata": {
    "execution": {
     "iopub.execute_input": "2025-06-21T01:04:47.550122Z",
     "iopub.status.busy": "2025-06-21T01:04:47.549873Z",
     "iopub.status.idle": "2025-06-21T01:04:47.573484Z",
     "shell.execute_reply": "2025-06-21T01:04:47.572931Z"
    },
    "papermill": {
     "duration": 0.029476,
     "end_time": "2025-06-21T01:04:47.574521",
     "exception": false,
     "start_time": "2025-06-21T01:04:47.545045",
     "status": "completed"
    },
    "tags": []
   },
   "outputs": [
    {
     "name": "stdout",
     "output_type": "stream",
     "text": [
      "<class 'pandas.core.frame.DataFrame'>\n",
      "RangeIndex: 25536 entries, 0 to 25535\n",
      "Data columns (total 9 columns):\n",
      " #   Column            Non-Null Count  Dtype \n",
      "---  ------            --------------  ----- \n",
      " 0   RecordID          25536 non-null  int64 \n",
      " 1   Offense           25536 non-null  object\n",
      " 2   IncidentID        25536 non-null  object\n",
      " 3   BlockNumber       25536 non-null  object\n",
      " 4   StreetName        25536 non-null  object\n",
      " 5   Agency            25536 non-null  object\n",
      " 6   DateReported      25536 non-null  int64 \n",
      " 7   HourReported      25536 non-null  object\n",
      " 8   ReportingOfficer  25519 non-null  object\n",
      "dtypes: int64(2), object(7)\n",
      "memory usage: 1.8+ MB\n"
     ]
    }
   ],
   "source": [
    "df.info()"
   ]
  },
  {
   "cell_type": "markdown",
   "id": "54f9d4b6",
   "metadata": {
    "papermill": {
     "duration": 0.00371,
     "end_time": "2025-06-21T01:04:47.582181",
     "exception": false,
     "start_time": "2025-06-21T01:04:47.578471",
     "status": "completed"
    },
    "tags": []
   },
   "source": [
    "### Missing Values"
   ]
  },
  {
   "cell_type": "code",
   "execution_count": 6,
   "id": "b5bf003a",
   "metadata": {
    "execution": {
     "iopub.execute_input": "2025-06-21T01:04:47.616248Z",
     "iopub.status.busy": "2025-06-21T01:04:47.615669Z",
     "iopub.status.idle": "2025-06-21T01:04:47.639732Z",
     "shell.execute_reply": "2025-06-21T01:04:47.639107Z"
    },
    "papermill": {
     "duration": 0.029953,
     "end_time": "2025-06-21T01:04:47.640837",
     "exception": false,
     "start_time": "2025-06-21T01:04:47.610884",
     "status": "completed"
    },
    "tags": []
   },
   "outputs": [
    {
     "name": "stdout",
     "output_type": "stream",
     "text": [
      "                  MissingCount  MissingPercentage\n",
      "RecordID                     0               0.00\n",
      "Offense                      0               0.00\n",
      "IncidentID                   0               0.00\n",
      "BlockNumber                  0               0.00\n",
      "StreetName                   0               0.00\n",
      "Agency                       0               0.00\n",
      "DateReported                 0               0.00\n",
      "HourReported                 0               0.00\n",
      "ReportingOfficer            17               0.07\n"
     ]
    }
   ],
   "source": [
    "def missing_percentage(df):\n",
    "    \"\"\"\n",
    "    Returns a DataFrame with the count and percentage of missing values for each column.\n",
    "    \n",
    "    Parameters:\n",
    "        df (pd.DataFrame): The input DataFrame.\n",
    "    \n",
    "    Returns:\n",
    "        pd.DataFrame: A DataFrame with columns 'MissingCount' and 'MissingPercentage'.\n",
    "    \"\"\"\n",
    "    total_rows = len(df)\n",
    "    missing_count = df.isnull().sum()\n",
    "    missing_percent = (missing_count / total_rows) * 100\n",
    "    \n",
    "    result = pd.DataFrame({\n",
    "        'MissingCount': missing_count,\n",
    "        'MissingPercentage': missing_percent.round(2)\n",
    "    })\n",
    "    \n",
    "    return result\n",
    "\n",
    "# Example usage:\n",
    "missing_info = missing_percentage(df)\n",
    "print(missing_info)\n"
   ]
  },
  {
   "cell_type": "markdown",
   "id": "9d72b581",
   "metadata": {
    "papermill": {
     "duration": 0.003784,
     "end_time": "2025-06-21T01:04:47.648660",
     "exception": false,
     "start_time": "2025-06-21T01:04:47.644876",
     "status": "completed"
    },
    "tags": []
   },
   "source": [
    "## Data Preparation"
   ]
  },
  {
   "cell_type": "markdown",
   "id": "2dc096f3",
   "metadata": {
    "papermill": {
     "duration": 0.00379,
     "end_time": "2025-06-21T01:04:47.656210",
     "exception": false,
     "start_time": "2025-06-21T01:04:47.652420",
     "status": "completed"
    },
    "tags": []
   },
   "source": [
    "### Data Conversion"
   ]
  },
  {
   "cell_type": "code",
   "execution_count": 7,
   "id": "f9269805",
   "metadata": {
    "execution": {
     "iopub.execute_input": "2025-06-21T01:04:47.664878Z",
     "iopub.status.busy": "2025-06-21T01:04:47.664639Z",
     "iopub.status.idle": "2025-06-21T01:04:48.028912Z",
     "shell.execute_reply": "2025-06-21T01:04:48.028235Z"
    },
    "papermill": {
     "duration": 0.369905,
     "end_time": "2025-06-21T01:04:48.029979",
     "exception": false,
     "start_time": "2025-06-21T01:04:47.660074",
     "status": "completed"
    },
    "tags": []
   },
   "outputs": [
    {
     "data": {
      "text/html": [
       "<div>\n",
       "<style scoped>\n",
       "    .dataframe tbody tr th:only-of-type {\n",
       "        vertical-align: middle;\n",
       "    }\n",
       "\n",
       "    .dataframe tbody tr th {\n",
       "        vertical-align: top;\n",
       "    }\n",
       "\n",
       "    .dataframe thead th {\n",
       "        text-align: right;\n",
       "    }\n",
       "</style>\n",
       "<table border=\"1\" class=\"dataframe\">\n",
       "  <thead>\n",
       "    <tr style=\"text-align: right;\">\n",
       "      <th></th>\n",
       "      <th>RecordID</th>\n",
       "      <th>Offense</th>\n",
       "      <th>IncidentID</th>\n",
       "      <th>BlockNumber</th>\n",
       "      <th>StreetName</th>\n",
       "      <th>Agency</th>\n",
       "      <th>HourReported</th>\n",
       "      <th>ReportingOfficer</th>\n",
       "      <th>Date</th>\n",
       "      <th>DateString</th>\n",
       "      <th>DayOfWeek</th>\n",
       "      <th>Weekend</th>\n",
       "      <th>Season</th>\n",
       "      <th>HourAMPM</th>\n",
       "      <th>TimeOfDay</th>\n",
       "    </tr>\n",
       "  </thead>\n",
       "  <tbody>\n",
       "    <tr>\n",
       "      <th>0</th>\n",
       "      <td>1</td>\n",
       "      <td>Assault Aggravated</td>\n",
       "      <td>202500021021</td>\n",
       "      <td>800</td>\n",
       "      <td>RUGBY RD</td>\n",
       "      <td>CPD</td>\n",
       "      <td>1818</td>\n",
       "      <td>Reed, Danielle</td>\n",
       "      <td>2025-06-18 18:18:26</td>\n",
       "      <td>2025-06-18 06:18:26 PM</td>\n",
       "      <td>Wednesday</td>\n",
       "      <td>False</td>\n",
       "      <td>Spring</td>\n",
       "      <td>06:18 PM</td>\n",
       "      <td>Evening</td>\n",
       "    </tr>\n",
       "    <tr>\n",
       "      <th>1</th>\n",
       "      <td>2</td>\n",
       "      <td>Assault Simple</td>\n",
       "      <td>202500021020</td>\n",
       "      <td>200</td>\n",
       "      <td>RIDGE MCINTIRE RD</td>\n",
       "      <td>CPD</td>\n",
       "      <td>1802</td>\n",
       "      <td>Abdelgayed, Adam</td>\n",
       "      <td>2025-06-18 18:02:57</td>\n",
       "      <td>2025-06-18 06:02:57 PM</td>\n",
       "      <td>Wednesday</td>\n",
       "      <td>False</td>\n",
       "      <td>Spring</td>\n",
       "      <td>06:02 PM</td>\n",
       "      <td>Evening</td>\n",
       "    </tr>\n",
       "    <tr>\n",
       "      <th>2</th>\n",
       "      <td>3</td>\n",
       "      <td>Vandalism</td>\n",
       "      <td>202500021019</td>\n",
       "      <td></td>\n",
       "      <td>MILLMONT ST @ BARRACKS RD</td>\n",
       "      <td>CPD</td>\n",
       "      <td>1756</td>\n",
       "      <td>Rigsby, Lloyd</td>\n",
       "      <td>2025-06-18 17:56:26</td>\n",
       "      <td>2025-06-18 05:56:26 PM</td>\n",
       "      <td>Wednesday</td>\n",
       "      <td>False</td>\n",
       "      <td>Spring</td>\n",
       "      <td>05:56 PM</td>\n",
       "      <td>Evening</td>\n",
       "    </tr>\n",
       "    <tr>\n",
       "      <th>3</th>\n",
       "      <td>4</td>\n",
       "      <td>Fraud-false pretense</td>\n",
       "      <td>202500020981</td>\n",
       "      <td>600</td>\n",
       "      <td>E MARKET ST</td>\n",
       "      <td>CPD</td>\n",
       "      <td>1218</td>\n",
       "      <td>Nash, Darius</td>\n",
       "      <td>2025-06-18 12:18:50</td>\n",
       "      <td>2025-06-18 12:18:50 PM</td>\n",
       "      <td>Wednesday</td>\n",
       "      <td>False</td>\n",
       "      <td>Spring</td>\n",
       "      <td>12:18 PM</td>\n",
       "      <td>Afternoon</td>\n",
       "    </tr>\n",
       "    <tr>\n",
       "      <th>4</th>\n",
       "      <td>5</td>\n",
       "      <td>Fraud-false pretense</td>\n",
       "      <td>202500020966</td>\n",
       "      <td>400</td>\n",
       "      <td>10TH ST NW</td>\n",
       "      <td>CPD</td>\n",
       "      <td>1014</td>\n",
       "      <td>Khaleefa, Hamzeh</td>\n",
       "      <td>2025-06-18 10:14:33</td>\n",
       "      <td>2025-06-18 10:14:33 AM</td>\n",
       "      <td>Wednesday</td>\n",
       "      <td>False</td>\n",
       "      <td>Spring</td>\n",
       "      <td>10:14 AM</td>\n",
       "      <td>Morning</td>\n",
       "    </tr>\n",
       "  </tbody>\n",
       "</table>\n",
       "</div>"
      ],
      "text/plain": [
       "   RecordID               Offense    IncidentID BlockNumber  \\\n",
       "0         1    Assault Aggravated  202500021021         800   \n",
       "1         2        Assault Simple  202500021020         200   \n",
       "2         3             Vandalism  202500021019               \n",
       "3         4  Fraud-false pretense  202500020981         600   \n",
       "4         5  Fraud-false pretense  202500020966         400   \n",
       "\n",
       "                  StreetName Agency HourReported  ReportingOfficer  \\\n",
       "0                   RUGBY RD    CPD         1818    Reed, Danielle   \n",
       "1          RIDGE MCINTIRE RD    CPD         1802  Abdelgayed, Adam   \n",
       "2  MILLMONT ST @ BARRACKS RD    CPD         1756     Rigsby, Lloyd   \n",
       "3                E MARKET ST    CPD         1218      Nash, Darius   \n",
       "4                 10TH ST NW    CPD         1014  Khaleefa, Hamzeh   \n",
       "\n",
       "                 Date              DateString  DayOfWeek  Weekend  Season  \\\n",
       "0 2025-06-18 18:18:26  2025-06-18 06:18:26 PM  Wednesday    False  Spring   \n",
       "1 2025-06-18 18:02:57  2025-06-18 06:02:57 PM  Wednesday    False  Spring   \n",
       "2 2025-06-18 17:56:26  2025-06-18 05:56:26 PM  Wednesday    False  Spring   \n",
       "3 2025-06-18 12:18:50  2025-06-18 12:18:50 PM  Wednesday    False  Spring   \n",
       "4 2025-06-18 10:14:33  2025-06-18 10:14:33 AM  Wednesday    False  Spring   \n",
       "\n",
       "   HourAMPM  TimeOfDay  \n",
       "0  06:18 PM    Evening  \n",
       "1  06:02 PM    Evening  \n",
       "2  05:56 PM    Evening  \n",
       "3  12:18 PM  Afternoon  \n",
       "4  10:14 AM    Morning  "
      ]
     },
     "execution_count": 7,
     "metadata": {},
     "output_type": "execute_result"
    }
   ],
   "source": [
    "def convert_and_categorize_datereported(df, col='DateReported'):\n",
    "    \"\"\"\n",
    "    Converts an epoch (in milliseconds) date column into a timezone-aware datetime,\n",
    "    converts it to Eastern Time, and then creates columns for day-of-week, weekend flag,\n",
    "    season, 12-hour formatted time, and time-of-day. Keeps both a real datetime column\n",
    "    (Date) and a string representation (DateString).\n",
    "    \"\"\"\n",
    "    import pandas as pd\n",
    "\n",
    "    # Convert the epoch timestamp to a pandas datetime object as UTC, then convert to US/Eastern.\n",
    "    df[\"DateReported_dt\"] = (\n",
    "        pd.to_datetime(df[col], unit=\"ms\", errors=\"coerce\", utc=True)\n",
    "        .dt.tz_convert(\"US/Eastern\")\n",
    "    )\n",
    "    \n",
    "    # Create a true datetime column (remove timezone if you prefer naive datetime)\n",
    "    df[\"Date\"] = df[\"DateReported_dt\"].dt.tz_localize(None)\n",
    "\n",
    "    # Optionally, create a separate string-formatted column\n",
    "    df[\"DateString\"] = df[\"DateReported_dt\"].dt.strftime(\"%Y-%m-%d %I:%M:%S %p\")\n",
    "    \n",
    "    # DayOfWeek\n",
    "    df[\"DayOfWeek\"] = df[\"DateReported_dt\"].dt.day_name()\n",
    "    \n",
    "    # Weekend\n",
    "    df[\"Weekend\"] = df[\"DayOfWeek\"].isin([\"Saturday\", \"Sunday\"])\n",
    "    \n",
    "    # Helper function to determine the season\n",
    "    def get_season(dt):\n",
    "        month = dt.month\n",
    "        day = dt.day\n",
    "        # Approximate Northern Hemisphere season boundaries:\n",
    "        if (month == 12 and day >= 21) or (month < 3) or (month == 3 and day < 20):\n",
    "            return \"Winter\"\n",
    "        elif (month == 3 and day >= 20) or (month < 6) or (month == 6 and day < 21):\n",
    "            return \"Spring\"\n",
    "        elif (month == 6 and day >= 21) or (month < 9) or (month == 9 and day < 22):\n",
    "            return \"Summer\"\n",
    "        else:\n",
    "            return \"Autumn\"\n",
    "    \n",
    "    df[\"Season\"] = df[\"DateReported_dt\"].apply(get_season)\n",
    "    \n",
    "    # 12-hour formatted time (HourAMPM)\n",
    "    df[\"HourAMPM\"] = df[\"DateReported_dt\"].dt.strftime(\"%I:%M %p\")\n",
    "    \n",
    "    # Extract hour (0-23) for time-of-day\n",
    "    df[\"HourValue\"] = df[\"DateReported_dt\"].dt.hour\n",
    "    \n",
    "    def time_of_day(hour):\n",
    "        if pd.isnull(hour):\n",
    "            return None\n",
    "        if 5 <= hour < 12:\n",
    "            return \"Morning\"\n",
    "        elif 12 <= hour < 17:\n",
    "            return \"Afternoon\"\n",
    "        elif 17 <= hour < 21:\n",
    "            return \"Evening\"\n",
    "        else:\n",
    "            return \"Night\"\n",
    "    \n",
    "    df[\"TimeOfDay\"] = df[\"HourValue\"].apply(time_of_day)\n",
    "    \n",
    "    # Drop columns you no longer need\n",
    "    df.drop(columns=[col, \"DateReported_dt\", \"HourValue\"], inplace=True)\n",
    "    \n",
    "    return df\n",
    "\n",
    "# Example usage:\n",
    "df = convert_and_categorize_datereported(df)\n",
    "df.head()\n"
   ]
  },
  {
   "cell_type": "code",
   "execution_count": 8,
   "id": "439f5363",
   "metadata": {
    "execution": {
     "iopub.execute_input": "2025-06-21T01:04:48.039277Z",
     "iopub.status.busy": "2025-06-21T01:04:48.039082Z",
     "iopub.status.idle": "2025-06-21T01:04:48.065497Z",
     "shell.execute_reply": "2025-06-21T01:04:48.064805Z"
    },
    "papermill": {
     "duration": 0.032235,
     "end_time": "2025-06-21T01:04:48.066544",
     "exception": false,
     "start_time": "2025-06-21T01:04:48.034309",
     "status": "completed"
    },
    "tags": []
   },
   "outputs": [
    {
     "name": "stdout",
     "output_type": "stream",
     "text": [
      "<class 'pandas.core.frame.DataFrame'>\n",
      "RangeIndex: 25536 entries, 0 to 25535\n",
      "Data columns (total 15 columns):\n",
      " #   Column            Non-Null Count  Dtype         \n",
      "---  ------            --------------  -----         \n",
      " 0   RecordID          25536 non-null  int64         \n",
      " 1   Offense           25536 non-null  object        \n",
      " 2   IncidentID        25536 non-null  object        \n",
      " 3   BlockNumber       25536 non-null  object        \n",
      " 4   StreetName        25536 non-null  object        \n",
      " 5   Agency            25536 non-null  object        \n",
      " 6   HourReported      25536 non-null  object        \n",
      " 7   ReportingOfficer  25519 non-null  object        \n",
      " 8   Date              25536 non-null  datetime64[ns]\n",
      " 9   DateString        25536 non-null  object        \n",
      " 10  DayOfWeek         25536 non-null  object        \n",
      " 11  Weekend           25536 non-null  bool          \n",
      " 12  Season            25536 non-null  object        \n",
      " 13  HourAMPM          25536 non-null  object        \n",
      " 14  TimeOfDay         25536 non-null  object        \n",
      "dtypes: bool(1), datetime64[ns](1), int64(1), object(12)\n",
      "memory usage: 2.8+ MB\n"
     ]
    }
   ],
   "source": [
    "df.info()"
   ]
  },
  {
   "cell_type": "markdown",
   "id": "1a8920db",
   "metadata": {
    "papermill": {
     "duration": 0.004029,
     "end_time": "2025-06-21T01:04:48.074835",
     "exception": false,
     "start_time": "2025-06-21T01:04:48.070806",
     "status": "completed"
    },
    "tags": []
   },
   "source": [
    "### Coordinates"
   ]
  },
  {
   "cell_type": "code",
   "execution_count": 9,
   "id": "90f4640c",
   "metadata": {
    "execution": {
     "iopub.execute_input": "2025-06-21T01:04:48.084118Z",
     "iopub.status.busy": "2025-06-21T01:04:48.083666Z",
     "iopub.status.idle": "2025-06-21T01:04:48.224335Z",
     "shell.execute_reply": "2025-06-21T01:04:48.223638Z"
    },
    "papermill": {
     "duration": 0.146456,
     "end_time": "2025-06-21T01:04:48.225398",
     "exception": false,
     "start_time": "2025-06-21T01:04:48.078942",
     "status": "completed"
    },
    "tags": []
   },
   "outputs": [
    {
     "name": "stdout",
     "output_type": "stream",
     "text": [
      "Loaded geocode cache.\n",
      "Error geocoding  SUNSET AVENUE: REQUEST_DENIED (You must enable Billing on the Google Cloud Project at https://console.cloud.google.com/project/_/billing/enable Learn more at https://developers.google.com/maps/gmp-get-started)\n",
      "Geocoded  SUNSET AVENUE: None, None\n",
      "Geocode cache updated and saved.\n"
     ]
    },
    {
     "data": {
      "text/html": [
       "<div>\n",
       "<style scoped>\n",
       "    .dataframe tbody tr th:only-of-type {\n",
       "        vertical-align: middle;\n",
       "    }\n",
       "\n",
       "    .dataframe tbody tr th {\n",
       "        vertical-align: top;\n",
       "    }\n",
       "\n",
       "    .dataframe thead th {\n",
       "        text-align: right;\n",
       "    }\n",
       "</style>\n",
       "<table border=\"1\" class=\"dataframe\">\n",
       "  <thead>\n",
       "    <tr style=\"text-align: right;\">\n",
       "      <th></th>\n",
       "      <th>RecordID</th>\n",
       "      <th>Offense</th>\n",
       "      <th>IncidentID</th>\n",
       "      <th>BlockNumber</th>\n",
       "      <th>StreetName</th>\n",
       "      <th>Agency</th>\n",
       "      <th>HourReported</th>\n",
       "      <th>ReportingOfficer</th>\n",
       "      <th>Date</th>\n",
       "      <th>DateString</th>\n",
       "      <th>DayOfWeek</th>\n",
       "      <th>Weekend</th>\n",
       "      <th>Season</th>\n",
       "      <th>HourAMPM</th>\n",
       "      <th>TimeOfDay</th>\n",
       "      <th>FullStreet</th>\n",
       "      <th>lat</th>\n",
       "      <th>lon</th>\n",
       "    </tr>\n",
       "  </thead>\n",
       "  <tbody>\n",
       "    <tr>\n",
       "      <th>0</th>\n",
       "      <td>1</td>\n",
       "      <td>Assault Aggravated</td>\n",
       "      <td>202500021021</td>\n",
       "      <td>800</td>\n",
       "      <td>RUGBY RD</td>\n",
       "      <td>CPD</td>\n",
       "      <td>1818</td>\n",
       "      <td>Reed, Danielle</td>\n",
       "      <td>2025-06-18 18:18:26</td>\n",
       "      <td>2025-06-18 06:18:26 PM</td>\n",
       "      <td>Wednesday</td>\n",
       "      <td>False</td>\n",
       "      <td>Spring</td>\n",
       "      <td>06:18 PM</td>\n",
       "      <td>Evening</td>\n",
       "      <td>800 RUGBY RD</td>\n",
       "      <td>38.043610</td>\n",
       "      <td>-78.497503</td>\n",
       "    </tr>\n",
       "    <tr>\n",
       "      <th>1</th>\n",
       "      <td>2</td>\n",
       "      <td>Assault Simple</td>\n",
       "      <td>202500021020</td>\n",
       "      <td>200</td>\n",
       "      <td>RIDGE MCINTIRE RD</td>\n",
       "      <td>CPD</td>\n",
       "      <td>1802</td>\n",
       "      <td>Abdelgayed, Adam</td>\n",
       "      <td>2025-06-18 18:02:57</td>\n",
       "      <td>2025-06-18 06:02:57 PM</td>\n",
       "      <td>Wednesday</td>\n",
       "      <td>False</td>\n",
       "      <td>Spring</td>\n",
       "      <td>06:02 PM</td>\n",
       "      <td>Evening</td>\n",
       "      <td>200 RIDGE MCINTIRE RD</td>\n",
       "      <td>38.031221</td>\n",
       "      <td>-78.483889</td>\n",
       "    </tr>\n",
       "    <tr>\n",
       "      <th>2</th>\n",
       "      <td>3</td>\n",
       "      <td>Vandalism</td>\n",
       "      <td>202500021019</td>\n",
       "      <td></td>\n",
       "      <td>MILLMONT ST @ BARRACKS RD</td>\n",
       "      <td>CPD</td>\n",
       "      <td>1756</td>\n",
       "      <td>Rigsby, Lloyd</td>\n",
       "      <td>2025-06-18 17:56:26</td>\n",
       "      <td>2025-06-18 05:56:26 PM</td>\n",
       "      <td>Wednesday</td>\n",
       "      <td>False</td>\n",
       "      <td>Spring</td>\n",
       "      <td>05:56 PM</td>\n",
       "      <td>Evening</td>\n",
       "      <td>MILLMONT ST @ BARRACKS RD</td>\n",
       "      <td>38.054292</td>\n",
       "      <td>-78.500528</td>\n",
       "    </tr>\n",
       "    <tr>\n",
       "      <th>3</th>\n",
       "      <td>4</td>\n",
       "      <td>Fraud-false pretense</td>\n",
       "      <td>202500020981</td>\n",
       "      <td>600</td>\n",
       "      <td>E MARKET ST</td>\n",
       "      <td>CPD</td>\n",
       "      <td>1218</td>\n",
       "      <td>Nash, Darius</td>\n",
       "      <td>2025-06-18 12:18:50</td>\n",
       "      <td>2025-06-18 12:18:50 PM</td>\n",
       "      <td>Wednesday</td>\n",
       "      <td>False</td>\n",
       "      <td>Spring</td>\n",
       "      <td>12:18 PM</td>\n",
       "      <td>Afternoon</td>\n",
       "      <td>600 E MARKET ST</td>\n",
       "      <td>38.030175</td>\n",
       "      <td>-78.477574</td>\n",
       "    </tr>\n",
       "    <tr>\n",
       "      <th>4</th>\n",
       "      <td>5</td>\n",
       "      <td>Fraud-false pretense</td>\n",
       "      <td>202500020966</td>\n",
       "      <td>400</td>\n",
       "      <td>10TH ST NW</td>\n",
       "      <td>CPD</td>\n",
       "      <td>1014</td>\n",
       "      <td>Khaleefa, Hamzeh</td>\n",
       "      <td>2025-06-18 10:14:33</td>\n",
       "      <td>2025-06-18 10:14:33 AM</td>\n",
       "      <td>Wednesday</td>\n",
       "      <td>False</td>\n",
       "      <td>Spring</td>\n",
       "      <td>10:14 AM</td>\n",
       "      <td>Morning</td>\n",
       "      <td>400 10TH ST NW</td>\n",
       "      <td>38.037244</td>\n",
       "      <td>-78.491465</td>\n",
       "    </tr>\n",
       "  </tbody>\n",
       "</table>\n",
       "</div>"
      ],
      "text/plain": [
       "   RecordID               Offense    IncidentID BlockNumber  \\\n",
       "0         1    Assault Aggravated  202500021021         800   \n",
       "1         2        Assault Simple  202500021020         200   \n",
       "2         3             Vandalism  202500021019               \n",
       "3         4  Fraud-false pretense  202500020981         600   \n",
       "4         5  Fraud-false pretense  202500020966         400   \n",
       "\n",
       "                  StreetName Agency HourReported  ReportingOfficer  \\\n",
       "0                   RUGBY RD    CPD         1818    Reed, Danielle   \n",
       "1          RIDGE MCINTIRE RD    CPD         1802  Abdelgayed, Adam   \n",
       "2  MILLMONT ST @ BARRACKS RD    CPD         1756     Rigsby, Lloyd   \n",
       "3                E MARKET ST    CPD         1218      Nash, Darius   \n",
       "4                 10TH ST NW    CPD         1014  Khaleefa, Hamzeh   \n",
       "\n",
       "                 Date              DateString  DayOfWeek  Weekend  Season  \\\n",
       "0 2025-06-18 18:18:26  2025-06-18 06:18:26 PM  Wednesday    False  Spring   \n",
       "1 2025-06-18 18:02:57  2025-06-18 06:02:57 PM  Wednesday    False  Spring   \n",
       "2 2025-06-18 17:56:26  2025-06-18 05:56:26 PM  Wednesday    False  Spring   \n",
       "3 2025-06-18 12:18:50  2025-06-18 12:18:50 PM  Wednesday    False  Spring   \n",
       "4 2025-06-18 10:14:33  2025-06-18 10:14:33 AM  Wednesday    False  Spring   \n",
       "\n",
       "   HourAMPM  TimeOfDay                  FullStreet        lat        lon  \n",
       "0  06:18 PM    Evening                800 RUGBY RD  38.043610 -78.497503  \n",
       "1  06:02 PM    Evening       200 RIDGE MCINTIRE RD  38.031221 -78.483889  \n",
       "2  05:56 PM    Evening   MILLMONT ST @ BARRACKS RD  38.054292 -78.500528  \n",
       "3  12:18 PM  Afternoon             600 E MARKET ST  38.030175 -78.477574  \n",
       "4  10:14 AM    Morning              400 10TH ST NW  38.037244 -78.491465  "
      ]
     },
     "execution_count": 9,
     "metadata": {},
     "output_type": "execute_result"
    }
   ],
   "source": [
    "# Combine BlockNumber and StreetName into a full address string\n",
    "df['FullStreet'] = df['BlockNumber'].astype(str) + \" \" + df['StreetName']\n",
    "\n",
    "# --- Step 1: Setup the Google Maps Client and Cache ---\n",
    "gmaps = googlemaps.Client(key=GOOGLE_API_KEY)\n",
    "\n",
    "# Try to load cached geocoding results if available.\n",
    "try:\n",
    "    with open(\"geocode_cache_google.pkl\", \"rb\") as f:\n",
    "        street_coords = pickle.load(f)\n",
    "    print(\"Loaded geocode cache.\")\n",
    "except FileNotFoundError:\n",
    "    street_coords = {}\n",
    "    print(\"No cache found; starting fresh.\")\n",
    "\n",
    "def geocode_address(address):\n",
    "    try:\n",
    "        # Append city and state to help geocoding\n",
    "        result = gmaps.geocode(f\"{address}, Charlottesville, VA\")\n",
    "        if result:\n",
    "            lat = result[0]['geometry']['location']['lat']\n",
    "            lon = result[0]['geometry']['location']['lng']\n",
    "            return lat, lon\n",
    "    except Exception as e:\n",
    "        print(f\"Error geocoding {address}: {e}\")\n",
    "    return None, None\n",
    "\n",
    "# --- Step 2: Geocode Only New Addresses ---\n",
    "unique_addresses = df['FullStreet'].unique()\n",
    "for address in unique_addresses:\n",
    "    if address not in street_coords:\n",
    "        lat, lon = geocode_address(address)\n",
    "        street_coords[address] = (lat, lon)\n",
    "        print(f\"Geocoded {address}: {lat}, {lon}\")\n",
    "\n",
    "# Save the updated cache to disk.\n",
    "with open(\"geocode_cache_google.pkl\", \"wb\") as f:\n",
    "    pickle.dump(street_coords, f)\n",
    "    print(\"Geocode cache updated and saved.\")\n",
    "\n",
    "# --- Step 3: Map Coordinates Back to DataFrame ---\n",
    "df['lat'] = df['FullStreet'].map(lambda s: street_coords.get(s, (None, None))[0])\n",
    "df['lon'] = df['FullStreet'].map(lambda s: street_coords.get(s, (None, None))[1])\n",
    "\n",
    "df.head()"
   ]
  },
  {
   "cell_type": "markdown",
   "id": "6e8f4e17",
   "metadata": {
    "papermill": {
     "duration": 0.004417,
     "end_time": "2025-06-21T01:04:48.234534",
     "exception": false,
     "start_time": "2025-06-21T01:04:48.230117",
     "status": "completed"
    },
    "tags": []
   },
   "source": [
    "### Neighborhood"
   ]
  },
  {
   "cell_type": "code",
   "execution_count": 10,
   "id": "5640e59a",
   "metadata": {
    "execution": {
     "iopub.execute_input": "2025-06-21T01:04:48.244461Z",
     "iopub.status.busy": "2025-06-21T01:04:48.243991Z",
     "iopub.status.idle": "2025-06-21T01:04:49.123272Z",
     "shell.execute_reply": "2025-06-21T01:04:49.122552Z"
    },
    "papermill": {
     "duration": 0.885437,
     "end_time": "2025-06-21T01:04:49.124337",
     "exception": false,
     "start_time": "2025-06-21T01:04:48.238900",
     "status": "completed"
    },
    "tags": []
   },
   "outputs": [
    {
     "name": "stdout",
     "output_type": "stream",
     "text": [
      "Loaded neighborhood cache.\n"
     ]
    },
    {
     "name": "stdout",
     "output_type": "stream",
     "text": [
      "Error getting neighborhood for nan, nan: HTTP Error: 400\n",
      "Error getting neighborhood for nan, nan: HTTP Error: 400\n",
      "Error getting neighborhood for nan, nan: HTTP Error: 400\n"
     ]
    },
    {
     "name": "stdout",
     "output_type": "stream",
     "text": [
      "Error getting neighborhood for nan, nan: HTTP Error: 400\n",
      "Error getting neighborhood for nan, nan: HTTP Error: 400\n",
      "Error getting neighborhood for nan, nan: HTTP Error: 400\n"
     ]
    },
    {
     "name": "stdout",
     "output_type": "stream",
     "text": [
      "Error getting neighborhood for nan, nan: HTTP Error: 400\n",
      "Error getting neighborhood for nan, nan: HTTP Error: 400\n",
      "Error getting neighborhood for nan, nan: HTTP Error: 400\n",
      "Error getting neighborhood for nan, nan: HTTP Error: 400\n"
     ]
    },
    {
     "name": "stdout",
     "output_type": "stream",
     "text": [
      "Error getting neighborhood for nan, nan: HTTP Error: 400\n",
      "Error getting neighborhood for nan, nan: HTTP Error: 400\n",
      "Error getting neighborhood for nan, nan: HTTP Error: 400\n",
      "Error getting neighborhood for nan, nan: HTTP Error: 400\n"
     ]
    },
    {
     "name": "stdout",
     "output_type": "stream",
     "text": [
      "Error getting neighborhood for nan, nan: HTTP Error: 400\n",
      "Error getting neighborhood for nan, nan: HTTP Error: 400\n",
      "Error getting neighborhood for nan, nan: HTTP Error: 400\n",
      "Error getting neighborhood for nan, nan: HTTP Error: 400\n",
      "Error getting neighborhood for nan, nan: HTTP Error: 400\n",
      "Error getting neighborhood for nan, nan: HTTP Error: 400\n",
      "Error getting neighborhood for nan, nan: HTTP Error: 400\n",
      "Error getting neighborhood for nan, nan: HTTP Error: 400\n"
     ]
    },
    {
     "name": "stdout",
     "output_type": "stream",
     "text": [
      "Error getting neighborhood for nan, nan: HTTP Error: 400\n",
      "Error getting neighborhood for nan, nan: HTTP Error: 400\n"
     ]
    },
    {
     "data": {
      "text/html": [
       "<div>\n",
       "<style scoped>\n",
       "    .dataframe tbody tr th:only-of-type {\n",
       "        vertical-align: middle;\n",
       "    }\n",
       "\n",
       "    .dataframe tbody tr th {\n",
       "        vertical-align: top;\n",
       "    }\n",
       "\n",
       "    .dataframe thead th {\n",
       "        text-align: right;\n",
       "    }\n",
       "</style>\n",
       "<table border=\"1\" class=\"dataframe\">\n",
       "  <thead>\n",
       "    <tr style=\"text-align: right;\">\n",
       "      <th></th>\n",
       "      <th>RecordID</th>\n",
       "      <th>Offense</th>\n",
       "      <th>IncidentID</th>\n",
       "      <th>BlockNumber</th>\n",
       "      <th>StreetName</th>\n",
       "      <th>Agency</th>\n",
       "      <th>HourReported</th>\n",
       "      <th>ReportingOfficer</th>\n",
       "      <th>Date</th>\n",
       "      <th>DateString</th>\n",
       "      <th>DayOfWeek</th>\n",
       "      <th>Weekend</th>\n",
       "      <th>Season</th>\n",
       "      <th>HourAMPM</th>\n",
       "      <th>TimeOfDay</th>\n",
       "      <th>FullStreet</th>\n",
       "      <th>lat</th>\n",
       "      <th>lon</th>\n",
       "      <th>neighborhood</th>\n",
       "    </tr>\n",
       "  </thead>\n",
       "  <tbody>\n",
       "    <tr>\n",
       "      <th>0</th>\n",
       "      <td>1</td>\n",
       "      <td>Assault Aggravated</td>\n",
       "      <td>202500021021</td>\n",
       "      <td>800</td>\n",
       "      <td>RUGBY RD</td>\n",
       "      <td>CPD</td>\n",
       "      <td>1818</td>\n",
       "      <td>Reed, Danielle</td>\n",
       "      <td>2025-06-18 18:18:26</td>\n",
       "      <td>2025-06-18 06:18:26 PM</td>\n",
       "      <td>Wednesday</td>\n",
       "      <td>False</td>\n",
       "      <td>Spring</td>\n",
       "      <td>06:18 PM</td>\n",
       "      <td>Evening</td>\n",
       "      <td>800 RUGBY RD</td>\n",
       "      <td>38.043610</td>\n",
       "      <td>-78.497503</td>\n",
       "      <td>Venable</td>\n",
       "    </tr>\n",
       "    <tr>\n",
       "      <th>1</th>\n",
       "      <td>2</td>\n",
       "      <td>Assault Simple</td>\n",
       "      <td>202500021020</td>\n",
       "      <td>200</td>\n",
       "      <td>RIDGE MCINTIRE RD</td>\n",
       "      <td>CPD</td>\n",
       "      <td>1802</td>\n",
       "      <td>Abdelgayed, Adam</td>\n",
       "      <td>2025-06-18 18:02:57</td>\n",
       "      <td>2025-06-18 06:02:57 PM</td>\n",
       "      <td>Wednesday</td>\n",
       "      <td>False</td>\n",
       "      <td>Spring</td>\n",
       "      <td>06:02 PM</td>\n",
       "      <td>Evening</td>\n",
       "      <td>200 RIDGE MCINTIRE RD</td>\n",
       "      <td>38.031221</td>\n",
       "      <td>-78.483889</td>\n",
       "      <td>Downtown Mall</td>\n",
       "    </tr>\n",
       "    <tr>\n",
       "      <th>2</th>\n",
       "      <td>3</td>\n",
       "      <td>Vandalism</td>\n",
       "      <td>202500021019</td>\n",
       "      <td></td>\n",
       "      <td>MILLMONT ST @ BARRACKS RD</td>\n",
       "      <td>CPD</td>\n",
       "      <td>1756</td>\n",
       "      <td>Rigsby, Lloyd</td>\n",
       "      <td>2025-06-18 17:56:26</td>\n",
       "      <td>2025-06-18 05:56:26 PM</td>\n",
       "      <td>Wednesday</td>\n",
       "      <td>False</td>\n",
       "      <td>Spring</td>\n",
       "      <td>05:56 PM</td>\n",
       "      <td>Evening</td>\n",
       "      <td>MILLMONT ST @ BARRACKS RD</td>\n",
       "      <td>38.054292</td>\n",
       "      <td>-78.500528</td>\n",
       "      <td>Barracks Road</td>\n",
       "    </tr>\n",
       "    <tr>\n",
       "      <th>3</th>\n",
       "      <td>4</td>\n",
       "      <td>Fraud-false pretense</td>\n",
       "      <td>202500020981</td>\n",
       "      <td>600</td>\n",
       "      <td>E MARKET ST</td>\n",
       "      <td>CPD</td>\n",
       "      <td>1218</td>\n",
       "      <td>Nash, Darius</td>\n",
       "      <td>2025-06-18 12:18:50</td>\n",
       "      <td>2025-06-18 12:18:50 PM</td>\n",
       "      <td>Wednesday</td>\n",
       "      <td>False</td>\n",
       "      <td>Spring</td>\n",
       "      <td>12:18 PM</td>\n",
       "      <td>Afternoon</td>\n",
       "      <td>600 E MARKET ST</td>\n",
       "      <td>38.030175</td>\n",
       "      <td>-78.477574</td>\n",
       "      <td>Downtown Mall</td>\n",
       "    </tr>\n",
       "    <tr>\n",
       "      <th>4</th>\n",
       "      <td>5</td>\n",
       "      <td>Fraud-false pretense</td>\n",
       "      <td>202500020966</td>\n",
       "      <td>400</td>\n",
       "      <td>10TH ST NW</td>\n",
       "      <td>CPD</td>\n",
       "      <td>1014</td>\n",
       "      <td>Khaleefa, Hamzeh</td>\n",
       "      <td>2025-06-18 10:14:33</td>\n",
       "      <td>2025-06-18 10:14:33 AM</td>\n",
       "      <td>Wednesday</td>\n",
       "      <td>False</td>\n",
       "      <td>Spring</td>\n",
       "      <td>10:14 AM</td>\n",
       "      <td>Morning</td>\n",
       "      <td>400 10TH ST NW</td>\n",
       "      <td>38.037244</td>\n",
       "      <td>-78.491465</td>\n",
       "      <td>10th &amp; Page</td>\n",
       "    </tr>\n",
       "  </tbody>\n",
       "</table>\n",
       "</div>"
      ],
      "text/plain": [
       "   RecordID               Offense    IncidentID BlockNumber  \\\n",
       "0         1    Assault Aggravated  202500021021         800   \n",
       "1         2        Assault Simple  202500021020         200   \n",
       "2         3             Vandalism  202500021019               \n",
       "3         4  Fraud-false pretense  202500020981         600   \n",
       "4         5  Fraud-false pretense  202500020966         400   \n",
       "\n",
       "                  StreetName Agency HourReported  ReportingOfficer  \\\n",
       "0                   RUGBY RD    CPD         1818    Reed, Danielle   \n",
       "1          RIDGE MCINTIRE RD    CPD         1802  Abdelgayed, Adam   \n",
       "2  MILLMONT ST @ BARRACKS RD    CPD         1756     Rigsby, Lloyd   \n",
       "3                E MARKET ST    CPD         1218      Nash, Darius   \n",
       "4                 10TH ST NW    CPD         1014  Khaleefa, Hamzeh   \n",
       "\n",
       "                 Date              DateString  DayOfWeek  Weekend  Season  \\\n",
       "0 2025-06-18 18:18:26  2025-06-18 06:18:26 PM  Wednesday    False  Spring   \n",
       "1 2025-06-18 18:02:57  2025-06-18 06:02:57 PM  Wednesday    False  Spring   \n",
       "2 2025-06-18 17:56:26  2025-06-18 05:56:26 PM  Wednesday    False  Spring   \n",
       "3 2025-06-18 12:18:50  2025-06-18 12:18:50 PM  Wednesday    False  Spring   \n",
       "4 2025-06-18 10:14:33  2025-06-18 10:14:33 AM  Wednesday    False  Spring   \n",
       "\n",
       "   HourAMPM  TimeOfDay                  FullStreet        lat        lon  \\\n",
       "0  06:18 PM    Evening                800 RUGBY RD  38.043610 -78.497503   \n",
       "1  06:02 PM    Evening       200 RIDGE MCINTIRE RD  38.031221 -78.483889   \n",
       "2  05:56 PM    Evening   MILLMONT ST @ BARRACKS RD  38.054292 -78.500528   \n",
       "3  12:18 PM  Afternoon             600 E MARKET ST  38.030175 -78.477574   \n",
       "4  10:14 AM    Morning              400 10TH ST NW  38.037244 -78.491465   \n",
       "\n",
       "    neighborhood  \n",
       "0        Venable  \n",
       "1  Downtown Mall  \n",
       "2  Barracks Road  \n",
       "3  Downtown Mall  \n",
       "4    10th & Page  "
      ]
     },
     "execution_count": 10,
     "metadata": {},
     "output_type": "execute_result"
    }
   ],
   "source": [
    "# Initialize the Google Maps client.\n",
    "gmaps = googlemaps.Client(key=GOOGLE_API_KEY)\n",
    "\n",
    "# Try to load a persistent neighborhood cache if available.\n",
    "try:\n",
    "    with open(\"neighborhood_cache.pkl\", \"rb\") as f:\n",
    "        neighborhood_cache = pickle.load(f)\n",
    "    print(\"Loaded neighborhood cache.\")\n",
    "except FileNotFoundError:\n",
    "    neighborhood_cache = {}\n",
    "    print(\"No neighborhood cache found; starting fresh.\")\n",
    "\n",
    "def get_neighborhood(lat, lon):\n",
    "    \"\"\"\n",
    "    Reverse geocodes a latitude and longitude to retrieve the neighborhood.\n",
    "    Caches results to speed up subsequent lookups.\n",
    "    \"\"\"\n",
    "    key = (lat, lon)\n",
    "    if key in neighborhood_cache:\n",
    "        return neighborhood_cache[key]\n",
    "    \n",
    "    try:\n",
    "        result = gmaps.reverse_geocode((lat, lon))\n",
    "        if result:\n",
    "            # Look for the 'neighborhood' component in the first result.\n",
    "            for component in result[0]['address_components']:\n",
    "                if 'neighborhood' in component['types']:\n",
    "                    neighborhood = component['long_name']\n",
    "                    neighborhood_cache[key] = neighborhood\n",
    "                    return neighborhood\n",
    "            # If no neighborhood is found, return \"N/A\"\n",
    "            neighborhood_cache[key] = \"N/A\"\n",
    "            return \"N/A\"\n",
    "    except Exception as e:\n",
    "        print(f\"Error getting neighborhood for {lat}, {lon}: {e}\")\n",
    "        return \"N/A\"\n",
    "    \n",
    "    # Pause to respect usage limits.\n",
    "    time.sleep(1)\n",
    "\n",
    "# Example usage: Apply to your DataFrame 'df' that already has 'lat' and 'lon' columns.\n",
    "df['neighborhood'] = df.apply(lambda row: get_neighborhood(row['lat'], row['lon']), axis=1)\n",
    "\n",
    "# Save the updated neighborhood cache.\n",
    "with open(\"neighborhood_cache.pkl\", \"wb\") as f:\n",
    "    pickle.dump(neighborhood_cache, f)\n",
    "\n",
    "df.head()\n"
   ]
  },
  {
   "cell_type": "markdown",
   "id": "2010c853",
   "metadata": {
    "papermill": {
     "duration": 0.004823,
     "end_time": "2025-06-21T01:04:49.134486",
     "exception": false,
     "start_time": "2025-06-21T01:04:49.129663",
     "status": "completed"
    },
    "tags": []
   },
   "source": [
    "### Zip"
   ]
  },
  {
   "cell_type": "code",
   "execution_count": 11,
   "id": "32f7bc5f",
   "metadata": {
    "execution": {
     "iopub.execute_input": "2025-06-21T01:04:49.145344Z",
     "iopub.status.busy": "2025-06-21T01:04:49.144896Z",
     "iopub.status.idle": "2025-06-21T01:05:13.418539Z",
     "shell.execute_reply": "2025-06-21T01:05:13.417847Z"
    },
    "papermill": {
     "duration": 24.28039,
     "end_time": "2025-06-21T01:05:13.419748",
     "exception": false,
     "start_time": "2025-06-21T01:04:49.139358",
     "status": "completed"
    },
    "tags": []
   },
   "outputs": [
    {
     "name": "stdout",
     "output_type": "stream",
     "text": [
      "Loaded zip cache.\n",
      "Error getting ZIP for nan, nan: Must be a coordinate pair or Point\n"
     ]
    },
    {
     "name": "stdout",
     "output_type": "stream",
     "text": [
      "Error getting ZIP for nan, nan: Must be a coordinate pair or Point\n"
     ]
    },
    {
     "name": "stdout",
     "output_type": "stream",
     "text": [
      "Error getting ZIP for nan, nan: Must be a coordinate pair or Point\n"
     ]
    },
    {
     "name": "stdout",
     "output_type": "stream",
     "text": [
      "Error getting ZIP for nan, nan: Must be a coordinate pair or Point\n"
     ]
    },
    {
     "name": "stdout",
     "output_type": "stream",
     "text": [
      "Error getting ZIP for nan, nan: Must be a coordinate pair or Point\n"
     ]
    },
    {
     "name": "stdout",
     "output_type": "stream",
     "text": [
      "Error getting ZIP for nan, nan: Must be a coordinate pair or Point\n"
     ]
    },
    {
     "name": "stdout",
     "output_type": "stream",
     "text": [
      "Error getting ZIP for nan, nan: Must be a coordinate pair or Point\n"
     ]
    },
    {
     "name": "stdout",
     "output_type": "stream",
     "text": [
      "Error getting ZIP for nan, nan: Must be a coordinate pair or Point\n"
     ]
    },
    {
     "name": "stdout",
     "output_type": "stream",
     "text": [
      "Error getting ZIP for nan, nan: Must be a coordinate pair or Point\n"
     ]
    },
    {
     "name": "stdout",
     "output_type": "stream",
     "text": [
      "Error getting ZIP for nan, nan: Must be a coordinate pair or Point\n"
     ]
    },
    {
     "name": "stdout",
     "output_type": "stream",
     "text": [
      "Error getting ZIP for nan, nan: Must be a coordinate pair or Point\n"
     ]
    },
    {
     "name": "stdout",
     "output_type": "stream",
     "text": [
      "Error getting ZIP for nan, nan: Must be a coordinate pair or Point\n"
     ]
    },
    {
     "name": "stdout",
     "output_type": "stream",
     "text": [
      "Error getting ZIP for nan, nan: Must be a coordinate pair or Point\n"
     ]
    },
    {
     "name": "stdout",
     "output_type": "stream",
     "text": [
      "Error getting ZIP for nan, nan: Must be a coordinate pair or Point\n"
     ]
    },
    {
     "name": "stdout",
     "output_type": "stream",
     "text": [
      "Error getting ZIP for nan, nan: Must be a coordinate pair or Point\n"
     ]
    },
    {
     "name": "stdout",
     "output_type": "stream",
     "text": [
      "Error getting ZIP for nan, nan: Must be a coordinate pair or Point\n"
     ]
    },
    {
     "name": "stdout",
     "output_type": "stream",
     "text": [
      "Error getting ZIP for nan, nan: Must be a coordinate pair or Point\n"
     ]
    },
    {
     "name": "stdout",
     "output_type": "stream",
     "text": [
      "Error getting ZIP for nan, nan: Must be a coordinate pair or Point\n"
     ]
    },
    {
     "name": "stdout",
     "output_type": "stream",
     "text": [
      "Error getting ZIP for nan, nan: Must be a coordinate pair or Point\n"
     ]
    },
    {
     "name": "stdout",
     "output_type": "stream",
     "text": [
      "Error getting ZIP for nan, nan: Must be a coordinate pair or Point\n"
     ]
    },
    {
     "name": "stdout",
     "output_type": "stream",
     "text": [
      "Error getting ZIP for nan, nan: Must be a coordinate pair or Point\n"
     ]
    },
    {
     "name": "stdout",
     "output_type": "stream",
     "text": [
      "Error getting ZIP for nan, nan: Must be a coordinate pair or Point\n"
     ]
    },
    {
     "name": "stdout",
     "output_type": "stream",
     "text": [
      "Error getting ZIP for nan, nan: Must be a coordinate pair or Point\n"
     ]
    },
    {
     "name": "stdout",
     "output_type": "stream",
     "text": [
      "Error getting ZIP for nan, nan: Must be a coordinate pair or Point\n"
     ]
    },
    {
     "data": {
      "text/html": [
       "<div>\n",
       "<style scoped>\n",
       "    .dataframe tbody tr th:only-of-type {\n",
       "        vertical-align: middle;\n",
       "    }\n",
       "\n",
       "    .dataframe tbody tr th {\n",
       "        vertical-align: top;\n",
       "    }\n",
       "\n",
       "    .dataframe thead th {\n",
       "        text-align: right;\n",
       "    }\n",
       "</style>\n",
       "<table border=\"1\" class=\"dataframe\">\n",
       "  <thead>\n",
       "    <tr style=\"text-align: right;\">\n",
       "      <th></th>\n",
       "      <th>RecordID</th>\n",
       "      <th>Offense</th>\n",
       "      <th>IncidentID</th>\n",
       "      <th>BlockNumber</th>\n",
       "      <th>StreetName</th>\n",
       "      <th>Agency</th>\n",
       "      <th>HourReported</th>\n",
       "      <th>ReportingOfficer</th>\n",
       "      <th>Date</th>\n",
       "      <th>DateString</th>\n",
       "      <th>DayOfWeek</th>\n",
       "      <th>Weekend</th>\n",
       "      <th>Season</th>\n",
       "      <th>HourAMPM</th>\n",
       "      <th>TimeOfDay</th>\n",
       "      <th>FullStreet</th>\n",
       "      <th>lat</th>\n",
       "      <th>lon</th>\n",
       "      <th>neighborhood</th>\n",
       "      <th>zip</th>\n",
       "    </tr>\n",
       "  </thead>\n",
       "  <tbody>\n",
       "    <tr>\n",
       "      <th>0</th>\n",
       "      <td>1</td>\n",
       "      <td>Assault Aggravated</td>\n",
       "      <td>202500021021</td>\n",
       "      <td>800</td>\n",
       "      <td>RUGBY RD</td>\n",
       "      <td>CPD</td>\n",
       "      <td>1818</td>\n",
       "      <td>Reed, Danielle</td>\n",
       "      <td>2025-06-18 18:18:26</td>\n",
       "      <td>2025-06-18 06:18:26 PM</td>\n",
       "      <td>Wednesday</td>\n",
       "      <td>False</td>\n",
       "      <td>Spring</td>\n",
       "      <td>06:18 PM</td>\n",
       "      <td>Evening</td>\n",
       "      <td>800 RUGBY RD</td>\n",
       "      <td>38.043610</td>\n",
       "      <td>-78.497503</td>\n",
       "      <td>Venable</td>\n",
       "      <td>22903</td>\n",
       "    </tr>\n",
       "    <tr>\n",
       "      <th>1</th>\n",
       "      <td>2</td>\n",
       "      <td>Assault Simple</td>\n",
       "      <td>202500021020</td>\n",
       "      <td>200</td>\n",
       "      <td>RIDGE MCINTIRE RD</td>\n",
       "      <td>CPD</td>\n",
       "      <td>1802</td>\n",
       "      <td>Abdelgayed, Adam</td>\n",
       "      <td>2025-06-18 18:02:57</td>\n",
       "      <td>2025-06-18 06:02:57 PM</td>\n",
       "      <td>Wednesday</td>\n",
       "      <td>False</td>\n",
       "      <td>Spring</td>\n",
       "      <td>06:02 PM</td>\n",
       "      <td>Evening</td>\n",
       "      <td>200 RIDGE MCINTIRE RD</td>\n",
       "      <td>38.031221</td>\n",
       "      <td>-78.483889</td>\n",
       "      <td>Downtown Mall</td>\n",
       "      <td>22903</td>\n",
       "    </tr>\n",
       "    <tr>\n",
       "      <th>2</th>\n",
       "      <td>3</td>\n",
       "      <td>Vandalism</td>\n",
       "      <td>202500021019</td>\n",
       "      <td></td>\n",
       "      <td>MILLMONT ST @ BARRACKS RD</td>\n",
       "      <td>CPD</td>\n",
       "      <td>1756</td>\n",
       "      <td>Rigsby, Lloyd</td>\n",
       "      <td>2025-06-18 17:56:26</td>\n",
       "      <td>2025-06-18 05:56:26 PM</td>\n",
       "      <td>Wednesday</td>\n",
       "      <td>False</td>\n",
       "      <td>Spring</td>\n",
       "      <td>05:56 PM</td>\n",
       "      <td>Evening</td>\n",
       "      <td>MILLMONT ST @ BARRACKS RD</td>\n",
       "      <td>38.054292</td>\n",
       "      <td>-78.500528</td>\n",
       "      <td>Barracks Road</td>\n",
       "      <td>22903</td>\n",
       "    </tr>\n",
       "    <tr>\n",
       "      <th>3</th>\n",
       "      <td>4</td>\n",
       "      <td>Fraud-false pretense</td>\n",
       "      <td>202500020981</td>\n",
       "      <td>600</td>\n",
       "      <td>E MARKET ST</td>\n",
       "      <td>CPD</td>\n",
       "      <td>1218</td>\n",
       "      <td>Nash, Darius</td>\n",
       "      <td>2025-06-18 12:18:50</td>\n",
       "      <td>2025-06-18 12:18:50 PM</td>\n",
       "      <td>Wednesday</td>\n",
       "      <td>False</td>\n",
       "      <td>Spring</td>\n",
       "      <td>12:18 PM</td>\n",
       "      <td>Afternoon</td>\n",
       "      <td>600 E MARKET ST</td>\n",
       "      <td>38.030175</td>\n",
       "      <td>-78.477574</td>\n",
       "      <td>Downtown Mall</td>\n",
       "      <td>22902</td>\n",
       "    </tr>\n",
       "    <tr>\n",
       "      <th>4</th>\n",
       "      <td>5</td>\n",
       "      <td>Fraud-false pretense</td>\n",
       "      <td>202500020966</td>\n",
       "      <td>400</td>\n",
       "      <td>10TH ST NW</td>\n",
       "      <td>CPD</td>\n",
       "      <td>1014</td>\n",
       "      <td>Khaleefa, Hamzeh</td>\n",
       "      <td>2025-06-18 10:14:33</td>\n",
       "      <td>2025-06-18 10:14:33 AM</td>\n",
       "      <td>Wednesday</td>\n",
       "      <td>False</td>\n",
       "      <td>Spring</td>\n",
       "      <td>10:14 AM</td>\n",
       "      <td>Morning</td>\n",
       "      <td>400 10TH ST NW</td>\n",
       "      <td>38.037244</td>\n",
       "      <td>-78.491465</td>\n",
       "      <td>10th &amp; Page</td>\n",
       "      <td>22903</td>\n",
       "    </tr>\n",
       "  </tbody>\n",
       "</table>\n",
       "</div>"
      ],
      "text/plain": [
       "   RecordID               Offense    IncidentID BlockNumber  \\\n",
       "0         1    Assault Aggravated  202500021021         800   \n",
       "1         2        Assault Simple  202500021020         200   \n",
       "2         3             Vandalism  202500021019               \n",
       "3         4  Fraud-false pretense  202500020981         600   \n",
       "4         5  Fraud-false pretense  202500020966         400   \n",
       "\n",
       "                  StreetName Agency HourReported  ReportingOfficer  \\\n",
       "0                   RUGBY RD    CPD         1818    Reed, Danielle   \n",
       "1          RIDGE MCINTIRE RD    CPD         1802  Abdelgayed, Adam   \n",
       "2  MILLMONT ST @ BARRACKS RD    CPD         1756     Rigsby, Lloyd   \n",
       "3                E MARKET ST    CPD         1218      Nash, Darius   \n",
       "4                 10TH ST NW    CPD         1014  Khaleefa, Hamzeh   \n",
       "\n",
       "                 Date              DateString  DayOfWeek  Weekend  Season  \\\n",
       "0 2025-06-18 18:18:26  2025-06-18 06:18:26 PM  Wednesday    False  Spring   \n",
       "1 2025-06-18 18:02:57  2025-06-18 06:02:57 PM  Wednesday    False  Spring   \n",
       "2 2025-06-18 17:56:26  2025-06-18 05:56:26 PM  Wednesday    False  Spring   \n",
       "3 2025-06-18 12:18:50  2025-06-18 12:18:50 PM  Wednesday    False  Spring   \n",
       "4 2025-06-18 10:14:33  2025-06-18 10:14:33 AM  Wednesday    False  Spring   \n",
       "\n",
       "   HourAMPM  TimeOfDay                  FullStreet        lat        lon  \\\n",
       "0  06:18 PM    Evening                800 RUGBY RD  38.043610 -78.497503   \n",
       "1  06:02 PM    Evening       200 RIDGE MCINTIRE RD  38.031221 -78.483889   \n",
       "2  05:56 PM    Evening   MILLMONT ST @ BARRACKS RD  38.054292 -78.500528   \n",
       "3  12:18 PM  Afternoon             600 E MARKET ST  38.030175 -78.477574   \n",
       "4  10:14 AM    Morning              400 10TH ST NW  38.037244 -78.491465   \n",
       "\n",
       "    neighborhood    zip  \n",
       "0        Venable  22903  \n",
       "1  Downtown Mall  22903  \n",
       "2  Barracks Road  22903  \n",
       "3  Downtown Mall  22902  \n",
       "4    10th & Page  22903  "
      ]
     },
     "execution_count": 11,
     "metadata": {},
     "output_type": "execute_result"
    }
   ],
   "source": [
    "# Initialize the geocoder.\n",
    "geolocator = Nominatim(user_agent=\"zip_lookup\")\n",
    "\n",
    "# Try to load a persistent ZIP cache if available.\n",
    "try:\n",
    "    with open(\"zip_cache.pkl\", \"rb\") as f:\n",
    "        zip_cache = pickle.load(f)\n",
    "    print(\"Loaded zip cache.\")\n",
    "except FileNotFoundError:\n",
    "    zip_cache = {}\n",
    "    print(\"No zip cache found; starting fresh.\")\n",
    "\n",
    "def get_zip(lat, lon):\n",
    "    \"\"\"\n",
    "    Reverse geocodes a latitude and longitude to retrieve the ZIP code.\n",
    "    Caches results to speed up subsequent lookups.\n",
    "    \"\"\"\n",
    "    key = (lat, lon)\n",
    "    if key in zip_cache:\n",
    "        return zip_cache[key]\n",
    "    \n",
    "    try:\n",
    "        location = geolocator.reverse((lat, lon), exactly_one=True, timeout=10)\n",
    "        address = location.raw.get('address', {})\n",
    "        postal_code = address.get('postcode', \"N/A\")\n",
    "    except Exception as e:\n",
    "        print(f\"Error getting ZIP for {lat}, {lon}: {e}\")\n",
    "        postal_code = \"N/A\"\n",
    "    \n",
    "    zip_cache[key] = postal_code\n",
    "    # Pause to respect the usage policy.\n",
    "    time.sleep(1)\n",
    "    return postal_code\n",
    "\n",
    "# Apply the function to each row in the DataFrame.\n",
    "df['zip'] = df.apply(lambda row: get_zip(row['lat'], row['lon']), axis=1)\n",
    "\n",
    "# Save the updated ZIP cache.\n",
    "with open(\"zip_cache.pkl\", \"wb\") as f:\n",
    "    pickle.dump(zip_cache, f)\n",
    "\n",
    "df.head()\n"
   ]
  },
  {
   "cell_type": "code",
   "execution_count": 12,
   "id": "7aea80fd",
   "metadata": {
    "execution": {
     "iopub.execute_input": "2025-06-21T01:05:13.433848Z",
     "iopub.status.busy": "2025-06-21T01:05:13.433431Z",
     "iopub.status.idle": "2025-06-21T01:05:13.462026Z",
     "shell.execute_reply": "2025-06-21T01:05:13.461457Z"
    },
    "papermill": {
     "duration": 0.036327,
     "end_time": "2025-06-21T01:05:13.463000",
     "exception": false,
     "start_time": "2025-06-21T01:05:13.426673",
     "status": "completed"
    },
    "tags": []
   },
   "outputs": [
    {
     "name": "stdout",
     "output_type": "stream",
     "text": [
      "                  MissingCount  MissingPercentage\n",
      "RecordID                     0               0.00\n",
      "Offense                      0               0.00\n",
      "IncidentID                   0               0.00\n",
      "BlockNumber                  0               0.00\n",
      "StreetName                   0               0.00\n",
      "Agency                       0               0.00\n",
      "HourReported                 0               0.00\n",
      "ReportingOfficer            17               0.07\n",
      "Date                         0               0.00\n",
      "DateString                   0               0.00\n",
      "DayOfWeek                    0               0.00\n",
      "Weekend                      0               0.00\n",
      "Season                       0               0.00\n",
      "HourAMPM                     0               0.00\n",
      "TimeOfDay                    0               0.00\n",
      "FullStreet                   0               0.00\n",
      "lat                         24               0.09\n",
      "lon                         24               0.09\n",
      "neighborhood                 0               0.00\n",
      "zip                          0               0.00\n"
     ]
    }
   ],
   "source": [
    "missing_info = missing_percentage(df)\n",
    "print(missing_info)\n"
   ]
  },
  {
   "cell_type": "code",
   "execution_count": 13,
   "id": "432eac40",
   "metadata": {
    "execution": {
     "iopub.execute_input": "2025-06-21T01:05:13.476737Z",
     "iopub.status.busy": "2025-06-21T01:05:13.476276Z",
     "iopub.status.idle": "2025-06-21T01:05:13.504991Z",
     "shell.execute_reply": "2025-06-21T01:05:13.504401Z"
    },
    "papermill": {
     "duration": 0.03665,
     "end_time": "2025-06-21T01:05:13.506049",
     "exception": false,
     "start_time": "2025-06-21T01:05:13.469399",
     "status": "completed"
    },
    "tags": []
   },
   "outputs": [
    {
     "name": "stdout",
     "output_type": "stream",
     "text": [
      "<class 'pandas.core.frame.DataFrame'>\n",
      "RangeIndex: 25536 entries, 0 to 25535\n",
      "Data columns (total 20 columns):\n",
      " #   Column            Non-Null Count  Dtype         \n",
      "---  ------            --------------  -----         \n",
      " 0   RecordID          25536 non-null  int64         \n",
      " 1   Offense           25536 non-null  object        \n",
      " 2   IncidentID        25536 non-null  object        \n",
      " 3   BlockNumber       25536 non-null  object        \n",
      " 4   StreetName        25536 non-null  object        \n",
      " 5   Agency            25536 non-null  object        \n",
      " 6   HourReported      25536 non-null  object        \n",
      " 7   ReportingOfficer  25519 non-null  object        \n",
      " 8   Date              25536 non-null  datetime64[ns]\n",
      " 9   DateString        25536 non-null  object        \n",
      " 10  DayOfWeek         25536 non-null  object        \n",
      " 11  Weekend           25536 non-null  bool          \n",
      " 12  Season            25536 non-null  object        \n",
      " 13  HourAMPM          25536 non-null  object        \n",
      " 14  TimeOfDay         25536 non-null  object        \n",
      " 15  FullStreet        25536 non-null  object        \n",
      " 16  lat               25512 non-null  float64       \n",
      " 17  lon               25512 non-null  float64       \n",
      " 18  neighborhood      25536 non-null  object        \n",
      " 19  zip               25536 non-null  object        \n",
      "dtypes: bool(1), datetime64[ns](1), float64(2), int64(1), object(15)\n",
      "memory usage: 3.7+ MB\n"
     ]
    }
   ],
   "source": [
    "df.info()"
   ]
  },
  {
   "cell_type": "code",
   "execution_count": 14,
   "id": "a17077b1",
   "metadata": {
    "execution": {
     "iopub.execute_input": "2025-06-21T01:05:13.519562Z",
     "iopub.status.busy": "2025-06-21T01:05:13.519369Z",
     "iopub.status.idle": "2025-06-21T01:05:13.563974Z",
     "shell.execute_reply": "2025-06-21T01:05:13.563357Z"
    },
    "papermill": {
     "duration": 0.052557,
     "end_time": "2025-06-21T01:05:13.565088",
     "exception": false,
     "start_time": "2025-06-21T01:05:13.512531",
     "status": "completed"
    },
    "tags": []
   },
   "outputs": [
    {
     "data": {
      "text/html": [
       "<div>\n",
       "<style scoped>\n",
       "    .dataframe tbody tr th:only-of-type {\n",
       "        vertical-align: middle;\n",
       "    }\n",
       "\n",
       "    .dataframe tbody tr th {\n",
       "        vertical-align: top;\n",
       "    }\n",
       "\n",
       "    .dataframe thead th {\n",
       "        text-align: right;\n",
       "    }\n",
       "</style>\n",
       "<table border=\"1\" class=\"dataframe\">\n",
       "  <thead>\n",
       "    <tr style=\"text-align: right;\">\n",
       "      <th></th>\n",
       "      <th>RecordID</th>\n",
       "      <th>Offense</th>\n",
       "      <th>IncidentID</th>\n",
       "      <th>Agency</th>\n",
       "      <th>ReportingOfficer</th>\n",
       "      <th>Date</th>\n",
       "      <th>DayOfWeek</th>\n",
       "      <th>Weekend</th>\n",
       "      <th>Season</th>\n",
       "      <th>TimeOfDay</th>\n",
       "      <th>FullStreet</th>\n",
       "      <th>lat</th>\n",
       "      <th>lon</th>\n",
       "      <th>neighborhood</th>\n",
       "      <th>zip</th>\n",
       "    </tr>\n",
       "  </thead>\n",
       "  <tbody>\n",
       "    <tr>\n",
       "      <th>0</th>\n",
       "      <td>1</td>\n",
       "      <td>Assault Aggravated</td>\n",
       "      <td>202500021021</td>\n",
       "      <td>CPD</td>\n",
       "      <td>Reed, Danielle</td>\n",
       "      <td>2025-06-18 18:18:26</td>\n",
       "      <td>Wednesday</td>\n",
       "      <td>False</td>\n",
       "      <td>Spring</td>\n",
       "      <td>Evening</td>\n",
       "      <td>800 RUGBY RD</td>\n",
       "      <td>38.04361</td>\n",
       "      <td>-78.497503</td>\n",
       "      <td>Venable</td>\n",
       "      <td>22903</td>\n",
       "    </tr>\n",
       "    <tr>\n",
       "      <th>1</th>\n",
       "      <td>2</td>\n",
       "      <td>Assault Simple</td>\n",
       "      <td>202500021020</td>\n",
       "      <td>CPD</td>\n",
       "      <td>Abdelgayed, Adam</td>\n",
       "      <td>2025-06-18 18:02:57</td>\n",
       "      <td>Wednesday</td>\n",
       "      <td>False</td>\n",
       "      <td>Spring</td>\n",
       "      <td>Evening</td>\n",
       "      <td>200 RIDGE MCINTIRE RD</td>\n",
       "      <td>38.031221</td>\n",
       "      <td>-78.483889</td>\n",
       "      <td>Downtown Mall</td>\n",
       "      <td>22903</td>\n",
       "    </tr>\n",
       "    <tr>\n",
       "      <th>2</th>\n",
       "      <td>3</td>\n",
       "      <td>Vandalism</td>\n",
       "      <td>202500021019</td>\n",
       "      <td>CPD</td>\n",
       "      <td>Rigsby, Lloyd</td>\n",
       "      <td>2025-06-18 17:56:26</td>\n",
       "      <td>Wednesday</td>\n",
       "      <td>False</td>\n",
       "      <td>Spring</td>\n",
       "      <td>Evening</td>\n",
       "      <td>MILLMONT ST @ BARRACKS RD</td>\n",
       "      <td>38.054292</td>\n",
       "      <td>-78.500528</td>\n",
       "      <td>Barracks Road</td>\n",
       "      <td>22903</td>\n",
       "    </tr>\n",
       "    <tr>\n",
       "      <th>3</th>\n",
       "      <td>4</td>\n",
       "      <td>Fraud-false pretense</td>\n",
       "      <td>202500020981</td>\n",
       "      <td>CPD</td>\n",
       "      <td>Nash, Darius</td>\n",
       "      <td>2025-06-18 12:18:50</td>\n",
       "      <td>Wednesday</td>\n",
       "      <td>False</td>\n",
       "      <td>Spring</td>\n",
       "      <td>Afternoon</td>\n",
       "      <td>600 E MARKET ST</td>\n",
       "      <td>38.030175</td>\n",
       "      <td>-78.477574</td>\n",
       "      <td>Downtown Mall</td>\n",
       "      <td>22902</td>\n",
       "    </tr>\n",
       "    <tr>\n",
       "      <th>4</th>\n",
       "      <td>5</td>\n",
       "      <td>Fraud-false pretense</td>\n",
       "      <td>202500020966</td>\n",
       "      <td>CPD</td>\n",
       "      <td>Khaleefa, Hamzeh</td>\n",
       "      <td>2025-06-18 10:14:33</td>\n",
       "      <td>Wednesday</td>\n",
       "      <td>False</td>\n",
       "      <td>Spring</td>\n",
       "      <td>Morning</td>\n",
       "      <td>400 10TH ST NW</td>\n",
       "      <td>38.037244</td>\n",
       "      <td>-78.491465</td>\n",
       "      <td>10th &amp; Page</td>\n",
       "      <td>22903</td>\n",
       "    </tr>\n",
       "  </tbody>\n",
       "</table>\n",
       "</div>"
      ],
      "text/plain": [
       "   RecordID               Offense    IncidentID Agency  ReportingOfficer  \\\n",
       "0         1    Assault Aggravated  202500021021    CPD    Reed, Danielle   \n",
       "1         2        Assault Simple  202500021020    CPD  Abdelgayed, Adam   \n",
       "2         3             Vandalism  202500021019    CPD     Rigsby, Lloyd   \n",
       "3         4  Fraud-false pretense  202500020981    CPD      Nash, Darius   \n",
       "4         5  Fraud-false pretense  202500020966    CPD  Khaleefa, Hamzeh   \n",
       "\n",
       "                 Date  DayOfWeek  Weekend  Season  TimeOfDay  \\\n",
       "0 2025-06-18 18:18:26  Wednesday    False  Spring    Evening   \n",
       "1 2025-06-18 18:02:57  Wednesday    False  Spring    Evening   \n",
       "2 2025-06-18 17:56:26  Wednesday    False  Spring    Evening   \n",
       "3 2025-06-18 12:18:50  Wednesday    False  Spring  Afternoon   \n",
       "4 2025-06-18 10:14:33  Wednesday    False  Spring    Morning   \n",
       "\n",
       "                   FullStreet        lat        lon   neighborhood    zip  \n",
       "0                800 RUGBY RD   38.04361 -78.497503        Venable  22903  \n",
       "1       200 RIDGE MCINTIRE RD  38.031221 -78.483889  Downtown Mall  22903  \n",
       "2   MILLMONT ST @ BARRACKS RD  38.054292 -78.500528  Barracks Road  22903  \n",
       "3             600 E MARKET ST  38.030175 -78.477574  Downtown Mall  22902  \n",
       "4              400 10TH ST NW  38.037244 -78.491465    10th & Page  22903  "
      ]
     },
     "execution_count": 14,
     "metadata": {},
     "output_type": "execute_result"
    }
   ],
   "source": [
    "# Now drop the original BlockNumber and StreetName columns\n",
    "df.drop(columns=['BlockNumber', 'StreetName','HourAMPM','HourReported','DateString'], inplace=True)\n",
    "df[\"zip\"] = df[\"zip\"].astype(str)\n",
    "\n",
    "# Fill all missing values in the DataFrame with \"N/A\"\n",
    "df.replace({None: \"N/A\", np.nan: \"N/A\", \"\": \"N/A\"}, inplace=True)\n",
    "df.head()"
   ]
  },
  {
   "cell_type": "code",
   "execution_count": 15,
   "id": "28c603e7",
   "metadata": {
    "execution": {
     "iopub.execute_input": "2025-06-21T01:05:13.579612Z",
     "iopub.status.busy": "2025-06-21T01:05:13.579177Z",
     "iopub.status.idle": "2025-06-21T01:05:13.597804Z",
     "shell.execute_reply": "2025-06-21T01:05:13.597222Z"
    },
    "papermill": {
     "duration": 0.026828,
     "end_time": "2025-06-21T01:05:13.598898",
     "exception": false,
     "start_time": "2025-06-21T01:05:13.572070",
     "status": "completed"
    },
    "tags": []
   },
   "outputs": [
    {
     "name": "stdout",
     "output_type": "stream",
     "text": [
      "                  MissingCount  MissingPercentage\n",
      "RecordID                     0                0.0\n",
      "Offense                      0                0.0\n",
      "IncidentID                   0                0.0\n",
      "Agency                       0                0.0\n",
      "ReportingOfficer             0                0.0\n",
      "Date                         0                0.0\n",
      "DayOfWeek                    0                0.0\n",
      "Weekend                      0                0.0\n",
      "Season                       0                0.0\n",
      "TimeOfDay                    0                0.0\n",
      "FullStreet                   0                0.0\n",
      "lat                          0                0.0\n",
      "lon                          0                0.0\n",
      "neighborhood                 0                0.0\n",
      "zip                          0                0.0\n"
     ]
    }
   ],
   "source": [
    "missing_info = missing_percentage(df)\n",
    "print(missing_info)"
   ]
  },
  {
   "cell_type": "code",
   "execution_count": 16,
   "id": "d0ffaab2",
   "metadata": {
    "execution": {
     "iopub.execute_input": "2025-06-21T01:05:13.613260Z",
     "iopub.status.busy": "2025-06-21T01:05:13.612833Z",
     "iopub.status.idle": "2025-06-21T01:05:13.617260Z",
     "shell.execute_reply": "2025-06-21T01:05:13.616584Z"
    },
    "papermill": {
     "duration": 0.012718,
     "end_time": "2025-06-21T01:05:13.618269",
     "exception": false,
     "start_time": "2025-06-21T01:05:13.605551",
     "status": "completed"
    },
    "tags": []
   },
   "outputs": [
    {
     "data": {
      "text/plain": [
       "Index(['RecordID', 'Offense', 'IncidentID', 'Agency', 'ReportingOfficer',\n",
       "       'Date', 'DayOfWeek', 'Weekend', 'Season', 'TimeOfDay', 'FullStreet',\n",
       "       'lat', 'lon', 'neighborhood', 'zip'],\n",
       "      dtype='object')"
      ]
     },
     "execution_count": 16,
     "metadata": {},
     "output_type": "execute_result"
    }
   ],
   "source": [
    "df.columns"
   ]
  },
  {
   "cell_type": "code",
   "execution_count": 17,
   "id": "233916c3",
   "metadata": {
    "execution": {
     "iopub.execute_input": "2025-06-21T01:05:13.632411Z",
     "iopub.status.busy": "2025-06-21T01:05:13.632178Z",
     "iopub.status.idle": "2025-06-21T01:05:13.653310Z",
     "shell.execute_reply": "2025-06-21T01:05:13.652637Z"
    },
    "papermill": {
     "duration": 0.029435,
     "end_time": "2025-06-21T01:05:13.654388",
     "exception": false,
     "start_time": "2025-06-21T01:05:13.624953",
     "status": "completed"
    },
    "tags": []
   },
   "outputs": [
    {
     "name": "stdout",
     "output_type": "stream",
     "text": [
      "<class 'pandas.core.frame.DataFrame'>\n",
      "RangeIndex: 25536 entries, 0 to 25535\n",
      "Data columns (total 15 columns):\n",
      " #   Column            Non-Null Count  Dtype         \n",
      "---  ------            --------------  -----         \n",
      " 0   RecordID          25536 non-null  int64         \n",
      " 1   Offense           25536 non-null  object        \n",
      " 2   IncidentID        25536 non-null  object        \n",
      " 3   Agency            25536 non-null  object        \n",
      " 4   ReportingOfficer  25536 non-null  object        \n",
      " 5   Date              25536 non-null  datetime64[ns]\n",
      " 6   DayOfWeek         25536 non-null  object        \n",
      " 7   Weekend           25536 non-null  bool          \n",
      " 8   Season            25536 non-null  object        \n",
      " 9   TimeOfDay         25536 non-null  object        \n",
      " 10  FullStreet        25536 non-null  object        \n",
      " 11  lat               25536 non-null  object        \n",
      " 12  lon               25536 non-null  object        \n",
      " 13  neighborhood      25536 non-null  object        \n",
      " 14  zip               25536 non-null  object        \n",
      "dtypes: bool(1), datetime64[ns](1), int64(1), object(12)\n",
      "memory usage: 2.8+ MB\n"
     ]
    }
   ],
   "source": [
    "df.info()"
   ]
  },
  {
   "cell_type": "markdown",
   "id": "a03a57cb",
   "metadata": {
    "papermill": {
     "duration": 0.006699,
     "end_time": "2025-06-21T01:05:13.668346",
     "exception": false,
     "start_time": "2025-06-21T01:05:13.661647",
     "status": "completed"
    },
    "tags": []
   },
   "source": [
    "### Export Clean Data"
   ]
  },
  {
   "cell_type": "code",
   "execution_count": 18,
   "id": "a6b235bf",
   "metadata": {
    "execution": {
     "iopub.execute_input": "2025-06-21T01:05:13.683682Z",
     "iopub.status.busy": "2025-06-21T01:05:13.683198Z",
     "iopub.status.idle": "2025-06-21T01:05:23.029060Z",
     "shell.execute_reply": "2025-06-21T01:05:23.028348Z"
    },
    "papermill": {
     "duration": 9.354971,
     "end_time": "2025-06-21T01:05:23.030243",
     "exception": false,
     "start_time": "2025-06-21T01:05:13.675272",
     "status": "completed"
    },
    "tags": []
   },
   "outputs": [
    {
     "name": "stdout",
     "output_type": "stream",
     "text": [
      "Project Root: /home/runner/work/crime-data/crime-data\n"
     ]
    },
    {
     "name": "stdout",
     "output_type": "stream",
     "text": [
      "Data saved to: /home/runner/work/crime-data/crime-data/data/charlottesville_crime_incidents.csv\n"
     ]
    },
    {
     "name": "stdout",
     "output_type": "stream",
     "text": [
      "Excel saved to: /home/runner/work/crime-data/crime-data/data/charlottesville_crime_incidents.xlsx\n"
     ]
    }
   ],
   "source": [
    "# Determine the project root (assuming papermill is run from the repository root)\n",
    "project_root = os.getcwd()\n",
    "print(\"Project Root:\", project_root)\n",
    "\n",
    "# Set the data directory within the project root\n",
    "data_dir = os.path.join(project_root, \"data\")\n",
    "\n",
    "# Ensure the \"data\" directory exists (create it if it doesn't)\n",
    "if not os.path.exists(data_dir):\n",
    "    os.makedirs(data_dir)\n",
    "\n",
    "# Export the DataFrame to CSV in the \"data\" folder located in the project root\n",
    "csv_path = os.path.join(data_dir, \"charlottesville_crime_incidents.csv\")\n",
    "df.to_csv(csv_path, index=False)\n",
    "print(\"Data saved to:\", csv_path)\n",
    "\n",
    "# Construct the path to your Excel file\n",
    "excel_path = os.path.join(data_dir, \"charlottesville_crime_incidents.xlsx\")\n",
    "\n",
    "# Export the DataFrame to Excel\n",
    "df.to_excel(excel_path, index=False)\n",
    "print(\"Excel saved to:\", excel_path)\n"
   ]
  }
 ],
 "metadata": {
  "kernelspec": {
   "display_name": "Python 3",
   "language": "python",
   "name": "python3"
  },
  "language_info": {
   "codemirror_mode": {
    "name": "ipython",
    "version": 3
   },
   "file_extension": ".py",
   "mimetype": "text/x-python",
   "name": "python",
   "nbconvert_exporter": "python",
   "pygments_lexer": "ipython3",
   "version": "3.9.23"
  },
  "papermill": {
   "default_parameters": {},
   "duration": 117.42203,
   "end_time": "2025-06-21T01:05:23.554461",
   "environment_variables": {},
   "exception": null,
   "input_path": "notebook/Crime Data.ipynb",
   "output_path": "notebook/Crime Data_output.ipynb",
   "parameters": {},
   "start_time": "2025-06-21T01:03:26.132431",
   "version": "2.6.0"
  }
 },
 "nbformat": 4,
 "nbformat_minor": 5
}