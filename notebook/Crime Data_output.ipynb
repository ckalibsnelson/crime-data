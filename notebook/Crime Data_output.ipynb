{
 "cells": [
  {
   "cell_type": "markdown",
   "id": "8e4488b3",
   "metadata": {
    "papermill": {
     "duration": 0.004392,
     "end_time": "2025-07-03T01:05:15.571308",
     "exception": false,
     "start_time": "2025-07-03T01:05:15.566916",
     "status": "completed"
    },
    "tags": []
   },
   "source": [
    "# Charlottesville Open Data Porttal: Crime Data"
   ]
  },
  {
   "cell_type": "markdown",
   "id": "924a985d",
   "metadata": {
    "papermill": {
     "duration": 0.003252,
     "end_time": "2025-07-03T01:05:15.578232",
     "exception": false,
     "start_time": "2025-07-03T01:05:15.574980",
     "status": "completed"
    },
    "tags": []
   },
   "source": [
    "## Import Relevant Librarires & Set WD"
   ]
  },
  {
   "cell_type": "code",
   "execution_count": 1,
   "id": "1a424c67",
   "metadata": {
    "execution": {
     "iopub.execute_input": "2025-07-03T01:05:15.585900Z",
     "iopub.status.busy": "2025-07-03T01:05:15.585634Z",
     "iopub.status.idle": "2025-07-03T01:05:16.332308Z",
     "shell.execute_reply": "2025-07-03T01:05:16.331660Z"
    },
    "papermill": {
     "duration": 0.752228,
     "end_time": "2025-07-03T01:05:16.333733",
     "exception": false,
     "start_time": "2025-07-03T01:05:15.581505",
     "status": "completed"
    },
    "tags": []
   },
   "outputs": [],
   "source": [
    "import requests\n",
    "import pandas as pd\n",
    "import numpy as np\n",
    "import pickle\n",
    "import googlemaps\n",
    "import plotly.express as px\n",
    "from geopy.geocoders import Nominatim\n",
    "import time\n",
    "from dotenv import load_dotenv\n",
    "import os\n",
    "\n",
    "env_path = os.path.join(\"..\", \".env\")\n",
    "#print(\"Looking for .env file at:\", os.path.abspath(env_path))\n",
    "load_dotenv(dotenv_path=env_path)\n",
    "\n",
    "# Retrieve the variables\n",
    "GOOGLE_API_KEY = os.getenv(\"GOOGLE_API_KEY\")\n",
    "WORKING_DIR = os.getenv(\"WORKING_DIR\")\n",
    "\n",
    "if GOOGLE_API_KEY is None or WORKING_DIR is None:\n",
    "    raise RuntimeError(\"No configuration found. Please ensure that your .env file exists with the required variables, or create a local config.py file.\")\n",
    "\n",
    "#print(\"Google API Key:\", GOOGLE_API_KEY)\n",
    "#print(\"Working Directory:\", WORKING_DIR)"
   ]
  },
  {
   "cell_type": "markdown",
   "id": "704261c9",
   "metadata": {
    "papermill": {
     "duration": 0.003308,
     "end_time": "2025-07-03T01:05:16.340704",
     "exception": false,
     "start_time": "2025-07-03T01:05:16.337396",
     "status": "completed"
    },
    "tags": []
   },
   "source": [
    "## Import Data\n",
    "\n",
    "URL: https://opendata.charlottesville.org/datasets/charlottesville::crime-data/about"
   ]
  },
  {
   "cell_type": "code",
   "execution_count": 2,
   "id": "6d7d1028",
   "metadata": {
    "execution": {
     "iopub.execute_input": "2025-07-03T01:05:16.348533Z",
     "iopub.status.busy": "2025-07-03T01:05:16.348021Z",
     "iopub.status.idle": "2025-07-03T01:06:29.602400Z",
     "shell.execute_reply": "2025-07-03T01:06:29.601669Z"
    },
    "papermill": {
     "duration": 73.262276,
     "end_time": "2025-07-03T01:06:29.606304",
     "exception": false,
     "start_time": "2025-07-03T01:05:16.344028",
     "status": "completed"
    },
    "tags": []
   },
   "outputs": [
    {
     "name": "stdout",
     "output_type": "stream",
     "text": [
      "Total records imported: 25542\n"
     ]
    }
   ],
   "source": [
    "# Define the endpoint and initial parameters.\n",
    "url = \"https://gisweb.charlottesville.org/arcgis/rest/services/OpenData_2/MapServer/6/query\"\n",
    "params = {\n",
    "    \"where\": \"1=1\",\n",
    "    \"outFields\": \"*\",\n",
    "    \"outSR\": 4326,\n",
    "    \"f\": \"json\",\n",
    "    \"resultOffset\": 0,       # Starting index for results\n",
    "    \"resultRecordCount\": 10000  # Maximum records per batch (if allowed by the API)\n",
    "}\n",
    "\n",
    "records = []\n",
    "\n",
    "while True:\n",
    "    response = requests.get(url, params=params)\n",
    "    response.raise_for_status()\n",
    "    data = response.json()\n",
    "    \n",
    "    # Get the current batch of features.\n",
    "    features = data.get(\"features\", [])\n",
    "    if not features:\n",
    "        break\n",
    "\n",
    "    # Extract the attributes from the features.\n",
    "    batch_records = [feature.get(\"attributes\", {}) for feature in features]\n",
    "    records.extend(batch_records)\n",
    "    \n",
    "    # If the batch size is less than the requested count, we reached the end.\n",
    "    if len(features) < params[\"resultRecordCount\"]:\n",
    "        break\n",
    "\n",
    "    # Update the resultOffset for the next batch.\n",
    "    params[\"resultOffset\"] += params[\"resultRecordCount\"]\n",
    "\n",
    "# Create a DataFrame from the combined records.\n",
    "df = pd.DataFrame(records)\n",
    "print(\"Total records imported:\", len(df))\n"
   ]
  },
  {
   "cell_type": "code",
   "execution_count": 3,
   "id": "3ce495af",
   "metadata": {
    "execution": {
     "iopub.execute_input": "2025-07-03T01:06:29.614200Z",
     "iopub.status.busy": "2025-07-03T01:06:29.613947Z",
     "iopub.status.idle": "2025-07-03T01:06:29.626290Z",
     "shell.execute_reply": "2025-07-03T01:06:29.625615Z"
    },
    "papermill": {
     "duration": 0.017525,
     "end_time": "2025-07-03T01:06:29.627392",
     "exception": false,
     "start_time": "2025-07-03T01:06:29.609867",
     "status": "completed"
    },
    "tags": []
   },
   "outputs": [
    {
     "data": {
      "text/html": [
       "<div>\n",
       "<style scoped>\n",
       "    .dataframe tbody tr th:only-of-type {\n",
       "        vertical-align: middle;\n",
       "    }\n",
       "\n",
       "    .dataframe tbody tr th {\n",
       "        vertical-align: top;\n",
       "    }\n",
       "\n",
       "    .dataframe thead th {\n",
       "        text-align: right;\n",
       "    }\n",
       "</style>\n",
       "<table border=\"1\" class=\"dataframe\">\n",
       "  <thead>\n",
       "    <tr style=\"text-align: right;\">\n",
       "      <th></th>\n",
       "      <th>RecordID</th>\n",
       "      <th>Offense</th>\n",
       "      <th>IncidentID</th>\n",
       "      <th>BlockNumber</th>\n",
       "      <th>StreetName</th>\n",
       "      <th>Agency</th>\n",
       "      <th>DateReported</th>\n",
       "      <th>HourReported</th>\n",
       "      <th>ReportingOfficer</th>\n",
       "    </tr>\n",
       "  </thead>\n",
       "  <tbody>\n",
       "    <tr>\n",
       "      <th>0</th>\n",
       "      <td>1</td>\n",
       "      <td>Domestic Disturbance</td>\n",
       "      <td>202500022610</td>\n",
       "      <td>1800</td>\n",
       "      <td>EMMET ST N</td>\n",
       "      <td>CPD</td>\n",
       "      <td>1751318114000</td>\n",
       "      <td>1715</td>\n",
       "      <td>Curry, Brian</td>\n",
       "    </tr>\n",
       "    <tr>\n",
       "      <th>1</th>\n",
       "      <td>2</td>\n",
       "      <td>Assist Citizen - Mental/TDO/ECO</td>\n",
       "      <td>202500022606</td>\n",
       "      <td>1000</td>\n",
       "      <td>FOREST HILLS AVE</td>\n",
       "      <td>CPD</td>\n",
       "      <td>1751317095000</td>\n",
       "      <td>1658</td>\n",
       "      <td>Vlasis, Christopher</td>\n",
       "    </tr>\n",
       "    <tr>\n",
       "      <th>2</th>\n",
       "      <td>3</td>\n",
       "      <td>Missing Person-adult</td>\n",
       "      <td>202500022581</td>\n",
       "      <td>600</td>\n",
       "      <td>E MARKET ST</td>\n",
       "      <td>CPD</td>\n",
       "      <td>1751305917000</td>\n",
       "      <td>1351</td>\n",
       "      <td>Kirby, Tyree</td>\n",
       "    </tr>\n",
       "    <tr>\n",
       "      <th>3</th>\n",
       "      <td>4</td>\n",
       "      <td>Hit and Run</td>\n",
       "      <td>202500022568</td>\n",
       "      <td>600</td>\n",
       "      <td>E HIGH ST</td>\n",
       "      <td>CPD</td>\n",
       "      <td>1751301245000</td>\n",
       "      <td>1234</td>\n",
       "      <td>Mian, Ghulam</td>\n",
       "    </tr>\n",
       "    <tr>\n",
       "      <th>4</th>\n",
       "      <td>5</td>\n",
       "      <td>Larceny - Shoplifitng</td>\n",
       "      <td>202500022564</td>\n",
       "      <td>800</td>\n",
       "      <td>E MARKET ST</td>\n",
       "      <td>CPD</td>\n",
       "      <td>1751298896000</td>\n",
       "      <td>1154</td>\n",
       "      <td>O'Briant, Landon</td>\n",
       "    </tr>\n",
       "  </tbody>\n",
       "</table>\n",
       "</div>"
      ],
      "text/plain": [
       "   RecordID                          Offense    IncidentID BlockNumber  \\\n",
       "0         1             Domestic Disturbance  202500022610        1800   \n",
       "1         2  Assist Citizen - Mental/TDO/ECO  202500022606        1000   \n",
       "2         3             Missing Person-adult  202500022581         600   \n",
       "3         4                      Hit and Run  202500022568         600   \n",
       "4         5            Larceny - Shoplifitng  202500022564         800   \n",
       "\n",
       "         StreetName Agency   DateReported HourReported     ReportingOfficer  \n",
       "0        EMMET ST N    CPD  1751318114000         1715         Curry, Brian  \n",
       "1  FOREST HILLS AVE    CPD  1751317095000         1658  Vlasis, Christopher  \n",
       "2       E MARKET ST    CPD  1751305917000         1351         Kirby, Tyree  \n",
       "3         E HIGH ST    CPD  1751301245000         1234         Mian, Ghulam  \n",
       "4       E MARKET ST    CPD  1751298896000         1154     O'Briant, Landon  "
      ]
     },
     "execution_count": 3,
     "metadata": {},
     "output_type": "execute_result"
    }
   ],
   "source": [
    "df.head()"
   ]
  },
  {
   "cell_type": "code",
   "execution_count": 4,
   "id": "521a731e",
   "metadata": {
    "execution": {
     "iopub.execute_input": "2025-07-03T01:06:29.635521Z",
     "iopub.status.busy": "2025-07-03T01:06:29.635088Z",
     "iopub.status.idle": "2025-07-03T01:06:29.639441Z",
     "shell.execute_reply": "2025-07-03T01:06:29.638912Z"
    },
    "papermill": {
     "duration": 0.009451,
     "end_time": "2025-07-03T01:06:29.640467",
     "exception": false,
     "start_time": "2025-07-03T01:06:29.631016",
     "status": "completed"
    },
    "tags": []
   },
   "outputs": [
    {
     "data": {
      "text/plain": [
       "Index(['RecordID', 'Offense', 'IncidentID', 'BlockNumber', 'StreetName',\n",
       "       'Agency', 'DateReported', 'HourReported', 'ReportingOfficer'],\n",
       "      dtype='object')"
      ]
     },
     "execution_count": 4,
     "metadata": {},
     "output_type": "execute_result"
    }
   ],
   "source": [
    "df.columns"
   ]
  },
  {
   "cell_type": "code",
   "execution_count": 5,
   "id": "d1ef6b13",
   "metadata": {
    "execution": {
     "iopub.execute_input": "2025-07-03T01:06:29.649306Z",
     "iopub.status.busy": "2025-07-03T01:06:29.648884Z",
     "iopub.status.idle": "2025-07-03T01:06:29.667835Z",
     "shell.execute_reply": "2025-07-03T01:06:29.667252Z"
    },
    "papermill": {
     "duration": 0.0247,
     "end_time": "2025-07-03T01:06:29.668874",
     "exception": false,
     "start_time": "2025-07-03T01:06:29.644174",
     "status": "completed"
    },
    "tags": []
   },
   "outputs": [
    {
     "name": "stdout",
     "output_type": "stream",
     "text": [
      "<class 'pandas.core.frame.DataFrame'>\n",
      "RangeIndex: 25542 entries, 0 to 25541\n",
      "Data columns (total 9 columns):\n",
      " #   Column            Non-Null Count  Dtype \n",
      "---  ------            --------------  ----- \n",
      " 0   RecordID          25542 non-null  int64 \n",
      " 1   Offense           25542 non-null  object\n",
      " 2   IncidentID        25542 non-null  object\n",
      " 3   BlockNumber       25542 non-null  object\n",
      " 4   StreetName        25542 non-null  object\n",
      " 5   Agency            25542 non-null  object\n",
      " 6   DateReported      25542 non-null  int64 \n",
      " 7   HourReported      25542 non-null  object\n",
      " 8   ReportingOfficer  25525 non-null  object\n",
      "dtypes: int64(2), object(7)\n",
      "memory usage: 1.8+ MB\n"
     ]
    }
   ],
   "source": [
    "df.info()"
   ]
  },
  {
   "cell_type": "markdown",
   "id": "fa70ec45",
   "metadata": {
    "papermill": {
     "duration": 0.003629,
     "end_time": "2025-07-03T01:06:29.676259",
     "exception": false,
     "start_time": "2025-07-03T01:06:29.672630",
     "status": "completed"
    },
    "tags": []
   },
   "source": [
    "### Missing Values"
   ]
  },
  {
   "cell_type": "code",
   "execution_count": 6,
   "id": "7f2d5a21",
   "metadata": {
    "execution": {
     "iopub.execute_input": "2025-07-03T01:06:29.707942Z",
     "iopub.status.busy": "2025-07-03T01:06:29.707441Z",
     "iopub.status.idle": "2025-07-03T01:06:29.731200Z",
     "shell.execute_reply": "2025-07-03T01:06:29.730515Z"
    },
    "papermill": {
     "duration": 0.029542,
     "end_time": "2025-07-03T01:06:29.732265",
     "exception": false,
     "start_time": "2025-07-03T01:06:29.702723",
     "status": "completed"
    },
    "tags": []
   },
   "outputs": [
    {
     "name": "stdout",
     "output_type": "stream",
     "text": [
      "                  MissingCount  MissingPercentage\n",
      "RecordID                     0               0.00\n",
      "Offense                      0               0.00\n",
      "IncidentID                   0               0.00\n",
      "BlockNumber                  0               0.00\n",
      "StreetName                   0               0.00\n",
      "Agency                       0               0.00\n",
      "DateReported                 0               0.00\n",
      "HourReported                 0               0.00\n",
      "ReportingOfficer            17               0.07\n"
     ]
    }
   ],
   "source": [
    "def missing_percentage(df):\n",
    "    \"\"\"\n",
    "    Returns a DataFrame with the count and percentage of missing values for each column.\n",
    "    \n",
    "    Parameters:\n",
    "        df (pd.DataFrame): The input DataFrame.\n",
    "    \n",
    "    Returns:\n",
    "        pd.DataFrame: A DataFrame with columns 'MissingCount' and 'MissingPercentage'.\n",
    "    \"\"\"\n",
    "    total_rows = len(df)\n",
    "    missing_count = df.isnull().sum()\n",
    "    missing_percent = (missing_count / total_rows) * 100\n",
    "    \n",
    "    result = pd.DataFrame({\n",
    "        'MissingCount': missing_count,\n",
    "        'MissingPercentage': missing_percent.round(2)\n",
    "    })\n",
    "    \n",
    "    return result\n",
    "\n",
    "# Example usage:\n",
    "missing_info = missing_percentage(df)\n",
    "print(missing_info)\n"
   ]
  },
  {
   "cell_type": "markdown",
   "id": "7d1102fa",
   "metadata": {
    "papermill": {
     "duration": 0.003897,
     "end_time": "2025-07-03T01:06:29.740213",
     "exception": false,
     "start_time": "2025-07-03T01:06:29.736316",
     "status": "completed"
    },
    "tags": []
   },
   "source": [
    "## Data Preparation"
   ]
  },
  {
   "cell_type": "markdown",
   "id": "16fb5613",
   "metadata": {
    "papermill": {
     "duration": 0.003683,
     "end_time": "2025-07-03T01:06:29.747684",
     "exception": false,
     "start_time": "2025-07-03T01:06:29.744001",
     "status": "completed"
    },
    "tags": []
   },
   "source": [
    "### Data Conversion"
   ]
  },
  {
   "cell_type": "code",
   "execution_count": 7,
   "id": "703600b8",
   "metadata": {
    "execution": {
     "iopub.execute_input": "2025-07-03T01:06:29.756185Z",
     "iopub.status.busy": "2025-07-03T01:06:29.755980Z",
     "iopub.status.idle": "2025-07-03T01:06:30.116488Z",
     "shell.execute_reply": "2025-07-03T01:06:30.115880Z"
    },
    "papermill": {
     "duration": 0.366053,
     "end_time": "2025-07-03T01:06:30.117564",
     "exception": false,
     "start_time": "2025-07-03T01:06:29.751511",
     "status": "completed"
    },
    "tags": []
   },
   "outputs": [
    {
     "data": {
      "text/html": [
       "<div>\n",
       "<style scoped>\n",
       "    .dataframe tbody tr th:only-of-type {\n",
       "        vertical-align: middle;\n",
       "    }\n",
       "\n",
       "    .dataframe tbody tr th {\n",
       "        vertical-align: top;\n",
       "    }\n",
       "\n",
       "    .dataframe thead th {\n",
       "        text-align: right;\n",
       "    }\n",
       "</style>\n",
       "<table border=\"1\" class=\"dataframe\">\n",
       "  <thead>\n",
       "    <tr style=\"text-align: right;\">\n",
       "      <th></th>\n",
       "      <th>RecordID</th>\n",
       "      <th>Offense</th>\n",
       "      <th>IncidentID</th>\n",
       "      <th>BlockNumber</th>\n",
       "      <th>StreetName</th>\n",
       "      <th>Agency</th>\n",
       "      <th>HourReported</th>\n",
       "      <th>ReportingOfficer</th>\n",
       "      <th>Date</th>\n",
       "      <th>DateString</th>\n",
       "      <th>DayOfWeek</th>\n",
       "      <th>Weekend</th>\n",
       "      <th>Season</th>\n",
       "      <th>HourAMPM</th>\n",
       "      <th>TimeOfDay</th>\n",
       "    </tr>\n",
       "  </thead>\n",
       "  <tbody>\n",
       "    <tr>\n",
       "      <th>0</th>\n",
       "      <td>1</td>\n",
       "      <td>Domestic Disturbance</td>\n",
       "      <td>202500022610</td>\n",
       "      <td>1800</td>\n",
       "      <td>EMMET ST N</td>\n",
       "      <td>CPD</td>\n",
       "      <td>1715</td>\n",
       "      <td>Curry, Brian</td>\n",
       "      <td>2025-06-30 17:15:14</td>\n",
       "      <td>2025-06-30 05:15:14 PM</td>\n",
       "      <td>Monday</td>\n",
       "      <td>False</td>\n",
       "      <td>Summer</td>\n",
       "      <td>05:15 PM</td>\n",
       "      <td>Evening</td>\n",
       "    </tr>\n",
       "    <tr>\n",
       "      <th>1</th>\n",
       "      <td>2</td>\n",
       "      <td>Assist Citizen - Mental/TDO/ECO</td>\n",
       "      <td>202500022606</td>\n",
       "      <td>1000</td>\n",
       "      <td>FOREST HILLS AVE</td>\n",
       "      <td>CPD</td>\n",
       "      <td>1658</td>\n",
       "      <td>Vlasis, Christopher</td>\n",
       "      <td>2025-06-30 16:58:15</td>\n",
       "      <td>2025-06-30 04:58:15 PM</td>\n",
       "      <td>Monday</td>\n",
       "      <td>False</td>\n",
       "      <td>Summer</td>\n",
       "      <td>04:58 PM</td>\n",
       "      <td>Afternoon</td>\n",
       "    </tr>\n",
       "    <tr>\n",
       "      <th>2</th>\n",
       "      <td>3</td>\n",
       "      <td>Missing Person-adult</td>\n",
       "      <td>202500022581</td>\n",
       "      <td>600</td>\n",
       "      <td>E MARKET ST</td>\n",
       "      <td>CPD</td>\n",
       "      <td>1351</td>\n",
       "      <td>Kirby, Tyree</td>\n",
       "      <td>2025-06-30 13:51:57</td>\n",
       "      <td>2025-06-30 01:51:57 PM</td>\n",
       "      <td>Monday</td>\n",
       "      <td>False</td>\n",
       "      <td>Summer</td>\n",
       "      <td>01:51 PM</td>\n",
       "      <td>Afternoon</td>\n",
       "    </tr>\n",
       "    <tr>\n",
       "      <th>3</th>\n",
       "      <td>4</td>\n",
       "      <td>Hit and Run</td>\n",
       "      <td>202500022568</td>\n",
       "      <td>600</td>\n",
       "      <td>E HIGH ST</td>\n",
       "      <td>CPD</td>\n",
       "      <td>1234</td>\n",
       "      <td>Mian, Ghulam</td>\n",
       "      <td>2025-06-30 12:34:05</td>\n",
       "      <td>2025-06-30 12:34:05 PM</td>\n",
       "      <td>Monday</td>\n",
       "      <td>False</td>\n",
       "      <td>Summer</td>\n",
       "      <td>12:34 PM</td>\n",
       "      <td>Afternoon</td>\n",
       "    </tr>\n",
       "    <tr>\n",
       "      <th>4</th>\n",
       "      <td>5</td>\n",
       "      <td>Larceny - Shoplifitng</td>\n",
       "      <td>202500022564</td>\n",
       "      <td>800</td>\n",
       "      <td>E MARKET ST</td>\n",
       "      <td>CPD</td>\n",
       "      <td>1154</td>\n",
       "      <td>O'Briant, Landon</td>\n",
       "      <td>2025-06-30 11:54:56</td>\n",
       "      <td>2025-06-30 11:54:56 AM</td>\n",
       "      <td>Monday</td>\n",
       "      <td>False</td>\n",
       "      <td>Summer</td>\n",
       "      <td>11:54 AM</td>\n",
       "      <td>Morning</td>\n",
       "    </tr>\n",
       "  </tbody>\n",
       "</table>\n",
       "</div>"
      ],
      "text/plain": [
       "   RecordID                          Offense    IncidentID BlockNumber  \\\n",
       "0         1             Domestic Disturbance  202500022610        1800   \n",
       "1         2  Assist Citizen - Mental/TDO/ECO  202500022606        1000   \n",
       "2         3             Missing Person-adult  202500022581         600   \n",
       "3         4                      Hit and Run  202500022568         600   \n",
       "4         5            Larceny - Shoplifitng  202500022564         800   \n",
       "\n",
       "         StreetName Agency HourReported     ReportingOfficer  \\\n",
       "0        EMMET ST N    CPD         1715         Curry, Brian   \n",
       "1  FOREST HILLS AVE    CPD         1658  Vlasis, Christopher   \n",
       "2       E MARKET ST    CPD         1351         Kirby, Tyree   \n",
       "3         E HIGH ST    CPD         1234         Mian, Ghulam   \n",
       "4       E MARKET ST    CPD         1154     O'Briant, Landon   \n",
       "\n",
       "                 Date              DateString DayOfWeek  Weekend  Season  \\\n",
       "0 2025-06-30 17:15:14  2025-06-30 05:15:14 PM    Monday    False  Summer   \n",
       "1 2025-06-30 16:58:15  2025-06-30 04:58:15 PM    Monday    False  Summer   \n",
       "2 2025-06-30 13:51:57  2025-06-30 01:51:57 PM    Monday    False  Summer   \n",
       "3 2025-06-30 12:34:05  2025-06-30 12:34:05 PM    Monday    False  Summer   \n",
       "4 2025-06-30 11:54:56  2025-06-30 11:54:56 AM    Monday    False  Summer   \n",
       "\n",
       "   HourAMPM  TimeOfDay  \n",
       "0  05:15 PM    Evening  \n",
       "1  04:58 PM  Afternoon  \n",
       "2  01:51 PM  Afternoon  \n",
       "3  12:34 PM  Afternoon  \n",
       "4  11:54 AM    Morning  "
      ]
     },
     "execution_count": 7,
     "metadata": {},
     "output_type": "execute_result"
    }
   ],
   "source": [
    "def convert_and_categorize_datereported(df, col='DateReported'):\n",
    "    \"\"\"\n",
    "    Converts an epoch (in milliseconds) date column into a timezone-aware datetime,\n",
    "    converts it to Eastern Time, and then creates columns for day-of-week, weekend flag,\n",
    "    season, 12-hour formatted time, and time-of-day. Keeps both a real datetime column\n",
    "    (Date) and a string representation (DateString).\n",
    "    \"\"\"\n",
    "    import pandas as pd\n",
    "\n",
    "    # Convert the epoch timestamp to a pandas datetime object as UTC, then convert to US/Eastern.\n",
    "    df[\"DateReported_dt\"] = (\n",
    "        pd.to_datetime(df[col], unit=\"ms\", errors=\"coerce\", utc=True)\n",
    "        .dt.tz_convert(\"US/Eastern\")\n",
    "    )\n",
    "    \n",
    "    # Create a true datetime column (remove timezone if you prefer naive datetime)\n",
    "    df[\"Date\"] = df[\"DateReported_dt\"].dt.tz_localize(None)\n",
    "\n",
    "    # Optionally, create a separate string-formatted column\n",
    "    df[\"DateString\"] = df[\"DateReported_dt\"].dt.strftime(\"%Y-%m-%d %I:%M:%S %p\")\n",
    "    \n",
    "    # DayOfWeek\n",
    "    df[\"DayOfWeek\"] = df[\"DateReported_dt\"].dt.day_name()\n",
    "    \n",
    "    # Weekend\n",
    "    df[\"Weekend\"] = df[\"DayOfWeek\"].isin([\"Saturday\", \"Sunday\"])\n",
    "    \n",
    "    # Helper function to determine the season\n",
    "    def get_season(dt):\n",
    "        month = dt.month\n",
    "        day = dt.day\n",
    "        # Approximate Northern Hemisphere season boundaries:\n",
    "        if (month == 12 and day >= 21) or (month < 3) or (month == 3 and day < 20):\n",
    "            return \"Winter\"\n",
    "        elif (month == 3 and day >= 20) or (month < 6) or (month == 6 and day < 21):\n",
    "            return \"Spring\"\n",
    "        elif (month == 6 and day >= 21) or (month < 9) or (month == 9 and day < 22):\n",
    "            return \"Summer\"\n",
    "        else:\n",
    "            return \"Autumn\"\n",
    "    \n",
    "    df[\"Season\"] = df[\"DateReported_dt\"].apply(get_season)\n",
    "    \n",
    "    # 12-hour formatted time (HourAMPM)\n",
    "    df[\"HourAMPM\"] = df[\"DateReported_dt\"].dt.strftime(\"%I:%M %p\")\n",
    "    \n",
    "    # Extract hour (0-23) for time-of-day\n",
    "    df[\"HourValue\"] = df[\"DateReported_dt\"].dt.hour\n",
    "    \n",
    "    def time_of_day(hour):\n",
    "        if pd.isnull(hour):\n",
    "            return None\n",
    "        if 5 <= hour < 12:\n",
    "            return \"Morning\"\n",
    "        elif 12 <= hour < 17:\n",
    "            return \"Afternoon\"\n",
    "        elif 17 <= hour < 21:\n",
    "            return \"Evening\"\n",
    "        else:\n",
    "            return \"Night\"\n",
    "    \n",
    "    df[\"TimeOfDay\"] = df[\"HourValue\"].apply(time_of_day)\n",
    "    \n",
    "    # Drop columns you no longer need\n",
    "    df.drop(columns=[col, \"DateReported_dt\", \"HourValue\"], inplace=True)\n",
    "    \n",
    "    return df\n",
    "\n",
    "# Example usage:\n",
    "df = convert_and_categorize_datereported(df)\n",
    "df.head()\n"
   ]
  },
  {
   "cell_type": "code",
   "execution_count": 8,
   "id": "f8deaad6",
   "metadata": {
    "execution": {
     "iopub.execute_input": "2025-07-03T01:06:30.127058Z",
     "iopub.status.busy": "2025-07-03T01:06:30.126784Z",
     "iopub.status.idle": "2025-07-03T01:06:30.152239Z",
     "shell.execute_reply": "2025-07-03T01:06:30.151668Z"
    },
    "papermill": {
     "duration": 0.031313,
     "end_time": "2025-07-03T01:06:30.153264",
     "exception": false,
     "start_time": "2025-07-03T01:06:30.121951",
     "status": "completed"
    },
    "tags": []
   },
   "outputs": [
    {
     "name": "stdout",
     "output_type": "stream",
     "text": [
      "<class 'pandas.core.frame.DataFrame'>\n",
      "RangeIndex: 25542 entries, 0 to 25541\n",
      "Data columns (total 15 columns):\n",
      " #   Column            Non-Null Count  Dtype         \n",
      "---  ------            --------------  -----         \n",
      " 0   RecordID          25542 non-null  int64         \n",
      " 1   Offense           25542 non-null  object        \n",
      " 2   IncidentID        25542 non-null  object        \n",
      " 3   BlockNumber       25542 non-null  object        \n",
      " 4   StreetName        25542 non-null  object        \n",
      " 5   Agency            25542 non-null  object        \n",
      " 6   HourReported      25542 non-null  object        \n",
      " 7   ReportingOfficer  25525 non-null  object        \n",
      " 8   Date              25542 non-null  datetime64[ns]\n",
      " 9   DateString        25542 non-null  object        \n",
      " 10  DayOfWeek         25542 non-null  object        \n",
      " 11  Weekend           25542 non-null  bool          \n",
      " 12  Season            25542 non-null  object        \n",
      " 13  HourAMPM          25542 non-null  object        \n",
      " 14  TimeOfDay         25542 non-null  object        \n",
      "dtypes: bool(1), datetime64[ns](1), int64(1), object(12)\n",
      "memory usage: 2.8+ MB\n"
     ]
    }
   ],
   "source": [
    "df.info()"
   ]
  },
  {
   "cell_type": "markdown",
   "id": "362e3389",
   "metadata": {
    "papermill": {
     "duration": 0.00406,
     "end_time": "2025-07-03T01:06:30.161525",
     "exception": false,
     "start_time": "2025-07-03T01:06:30.157465",
     "status": "completed"
    },
    "tags": []
   },
   "source": [
    "### Coordinates"
   ]
  },
  {
   "cell_type": "code",
   "execution_count": 9,
   "id": "09acf590",
   "metadata": {
    "execution": {
     "iopub.execute_input": "2025-07-03T01:06:30.170998Z",
     "iopub.status.busy": "2025-07-03T01:06:30.170485Z",
     "iopub.status.idle": "2025-07-03T01:06:30.390640Z",
     "shell.execute_reply": "2025-07-03T01:06:30.390073Z"
    },
    "papermill": {
     "duration": 0.226057,
     "end_time": "2025-07-03T01:06:30.391726",
     "exception": false,
     "start_time": "2025-07-03T01:06:30.165669",
     "status": "completed"
    },
    "tags": []
   },
   "outputs": [
    {
     "name": "stdout",
     "output_type": "stream",
     "text": [
      "Loaded geocode cache.\n",
      "Error geocoding  SEMINOLE @ HYDRAULIC RD: REQUEST_DENIED (You must enable Billing on the Google Cloud Project at https://console.cloud.google.com/project/_/billing/enable Learn more at https://developers.google.com/maps/gmp-get-started)\n",
      "Geocoded  SEMINOLE @ HYDRAULIC RD: None, None\n"
     ]
    },
    {
     "name": "stdout",
     "output_type": "stream",
     "text": [
      "Error geocoding  OAK ST / 5TH ST SW: REQUEST_DENIED (You must enable Billing on the Google Cloud Project at https://console.cloud.google.com/project/_/billing/enable Learn more at https://developers.google.com/maps/gmp-get-started)\n",
      "Geocoded  OAK ST / 5TH ST SW: None, None\n",
      "Geocode cache updated and saved.\n"
     ]
    },
    {
     "data": {
      "text/html": [
       "<div>\n",
       "<style scoped>\n",
       "    .dataframe tbody tr th:only-of-type {\n",
       "        vertical-align: middle;\n",
       "    }\n",
       "\n",
       "    .dataframe tbody tr th {\n",
       "        vertical-align: top;\n",
       "    }\n",
       "\n",
       "    .dataframe thead th {\n",
       "        text-align: right;\n",
       "    }\n",
       "</style>\n",
       "<table border=\"1\" class=\"dataframe\">\n",
       "  <thead>\n",
       "    <tr style=\"text-align: right;\">\n",
       "      <th></th>\n",
       "      <th>RecordID</th>\n",
       "      <th>Offense</th>\n",
       "      <th>IncidentID</th>\n",
       "      <th>BlockNumber</th>\n",
       "      <th>StreetName</th>\n",
       "      <th>Agency</th>\n",
       "      <th>HourReported</th>\n",
       "      <th>ReportingOfficer</th>\n",
       "      <th>Date</th>\n",
       "      <th>DateString</th>\n",
       "      <th>DayOfWeek</th>\n",
       "      <th>Weekend</th>\n",
       "      <th>Season</th>\n",
       "      <th>HourAMPM</th>\n",
       "      <th>TimeOfDay</th>\n",
       "      <th>FullStreet</th>\n",
       "      <th>lat</th>\n",
       "      <th>lon</th>\n",
       "    </tr>\n",
       "  </thead>\n",
       "  <tbody>\n",
       "    <tr>\n",
       "      <th>0</th>\n",
       "      <td>1</td>\n",
       "      <td>Domestic Disturbance</td>\n",
       "      <td>202500022610</td>\n",
       "      <td>1800</td>\n",
       "      <td>EMMET ST N</td>\n",
       "      <td>CPD</td>\n",
       "      <td>1715</td>\n",
       "      <td>Curry, Brian</td>\n",
       "      <td>2025-06-30 17:15:14</td>\n",
       "      <td>2025-06-30 05:15:14 PM</td>\n",
       "      <td>Monday</td>\n",
       "      <td>False</td>\n",
       "      <td>Summer</td>\n",
       "      <td>05:15 PM</td>\n",
       "      <td>Evening</td>\n",
       "      <td>1800 EMMET ST N</td>\n",
       "      <td>38.059766</td>\n",
       "      <td>-78.493132</td>\n",
       "    </tr>\n",
       "    <tr>\n",
       "      <th>1</th>\n",
       "      <td>2</td>\n",
       "      <td>Assist Citizen - Mental/TDO/ECO</td>\n",
       "      <td>202500022606</td>\n",
       "      <td>1000</td>\n",
       "      <td>FOREST HILLS AVE</td>\n",
       "      <td>CPD</td>\n",
       "      <td>1658</td>\n",
       "      <td>Vlasis, Christopher</td>\n",
       "      <td>2025-06-30 16:58:15</td>\n",
       "      <td>2025-06-30 04:58:15 PM</td>\n",
       "      <td>Monday</td>\n",
       "      <td>False</td>\n",
       "      <td>Summer</td>\n",
       "      <td>04:58 PM</td>\n",
       "      <td>Afternoon</td>\n",
       "      <td>1000 FOREST HILLS AVE</td>\n",
       "      <td>38.025324</td>\n",
       "      <td>-78.495728</td>\n",
       "    </tr>\n",
       "    <tr>\n",
       "      <th>2</th>\n",
       "      <td>3</td>\n",
       "      <td>Missing Person-adult</td>\n",
       "      <td>202500022581</td>\n",
       "      <td>600</td>\n",
       "      <td>E MARKET ST</td>\n",
       "      <td>CPD</td>\n",
       "      <td>1351</td>\n",
       "      <td>Kirby, Tyree</td>\n",
       "      <td>2025-06-30 13:51:57</td>\n",
       "      <td>2025-06-30 01:51:57 PM</td>\n",
       "      <td>Monday</td>\n",
       "      <td>False</td>\n",
       "      <td>Summer</td>\n",
       "      <td>01:51 PM</td>\n",
       "      <td>Afternoon</td>\n",
       "      <td>600 E MARKET ST</td>\n",
       "      <td>38.030175</td>\n",
       "      <td>-78.477574</td>\n",
       "    </tr>\n",
       "    <tr>\n",
       "      <th>3</th>\n",
       "      <td>4</td>\n",
       "      <td>Hit and Run</td>\n",
       "      <td>202500022568</td>\n",
       "      <td>600</td>\n",
       "      <td>E HIGH ST</td>\n",
       "      <td>CPD</td>\n",
       "      <td>1234</td>\n",
       "      <td>Mian, Ghulam</td>\n",
       "      <td>2025-06-30 12:34:05</td>\n",
       "      <td>2025-06-30 12:34:05 PM</td>\n",
       "      <td>Monday</td>\n",
       "      <td>False</td>\n",
       "      <td>Summer</td>\n",
       "      <td>12:34 PM</td>\n",
       "      <td>Afternoon</td>\n",
       "      <td>600 E HIGH ST</td>\n",
       "      <td>38.031946</td>\n",
       "      <td>-78.476952</td>\n",
       "    </tr>\n",
       "    <tr>\n",
       "      <th>4</th>\n",
       "      <td>5</td>\n",
       "      <td>Larceny - Shoplifitng</td>\n",
       "      <td>202500022564</td>\n",
       "      <td>800</td>\n",
       "      <td>E MARKET ST</td>\n",
       "      <td>CPD</td>\n",
       "      <td>1154</td>\n",
       "      <td>O'Briant, Landon</td>\n",
       "      <td>2025-06-30 11:54:56</td>\n",
       "      <td>2025-06-30 11:54:56 AM</td>\n",
       "      <td>Monday</td>\n",
       "      <td>False</td>\n",
       "      <td>Summer</td>\n",
       "      <td>11:54 AM</td>\n",
       "      <td>Morning</td>\n",
       "      <td>800 E MARKET ST</td>\n",
       "      <td>38.029573</td>\n",
       "      <td>-78.476013</td>\n",
       "    </tr>\n",
       "  </tbody>\n",
       "</table>\n",
       "</div>"
      ],
      "text/plain": [
       "   RecordID                          Offense    IncidentID BlockNumber  \\\n",
       "0         1             Domestic Disturbance  202500022610        1800   \n",
       "1         2  Assist Citizen - Mental/TDO/ECO  202500022606        1000   \n",
       "2         3             Missing Person-adult  202500022581         600   \n",
       "3         4                      Hit and Run  202500022568         600   \n",
       "4         5            Larceny - Shoplifitng  202500022564         800   \n",
       "\n",
       "         StreetName Agency HourReported     ReportingOfficer  \\\n",
       "0        EMMET ST N    CPD         1715         Curry, Brian   \n",
       "1  FOREST HILLS AVE    CPD         1658  Vlasis, Christopher   \n",
       "2       E MARKET ST    CPD         1351         Kirby, Tyree   \n",
       "3         E HIGH ST    CPD         1234         Mian, Ghulam   \n",
       "4       E MARKET ST    CPD         1154     O'Briant, Landon   \n",
       "\n",
       "                 Date              DateString DayOfWeek  Weekend  Season  \\\n",
       "0 2025-06-30 17:15:14  2025-06-30 05:15:14 PM    Monday    False  Summer   \n",
       "1 2025-06-30 16:58:15  2025-06-30 04:58:15 PM    Monday    False  Summer   \n",
       "2 2025-06-30 13:51:57  2025-06-30 01:51:57 PM    Monday    False  Summer   \n",
       "3 2025-06-30 12:34:05  2025-06-30 12:34:05 PM    Monday    False  Summer   \n",
       "4 2025-06-30 11:54:56  2025-06-30 11:54:56 AM    Monday    False  Summer   \n",
       "\n",
       "   HourAMPM  TimeOfDay             FullStreet        lat        lon  \n",
       "0  05:15 PM    Evening        1800 EMMET ST N  38.059766 -78.493132  \n",
       "1  04:58 PM  Afternoon  1000 FOREST HILLS AVE  38.025324 -78.495728  \n",
       "2  01:51 PM  Afternoon        600 E MARKET ST  38.030175 -78.477574  \n",
       "3  12:34 PM  Afternoon          600 E HIGH ST  38.031946 -78.476952  \n",
       "4  11:54 AM    Morning        800 E MARKET ST  38.029573 -78.476013  "
      ]
     },
     "execution_count": 9,
     "metadata": {},
     "output_type": "execute_result"
    }
   ],
   "source": [
    "# Combine BlockNumber and StreetName into a full address string\n",
    "df['FullStreet'] = df['BlockNumber'].astype(str) + \" \" + df['StreetName']\n",
    "\n",
    "# --- Step 1: Setup the Google Maps Client and Cache ---\n",
    "gmaps = googlemaps.Client(key=GOOGLE_API_KEY)\n",
    "\n",
    "# Try to load cached geocoding results if available.\n",
    "try:\n",
    "    with open(\"geocode_cache_google.pkl\", \"rb\") as f:\n",
    "        street_coords = pickle.load(f)\n",
    "    print(\"Loaded geocode cache.\")\n",
    "except FileNotFoundError:\n",
    "    street_coords = {}\n",
    "    print(\"No cache found; starting fresh.\")\n",
    "\n",
    "def geocode_address(address):\n",
    "    try:\n",
    "        # Append city and state to help geocoding\n",
    "        result = gmaps.geocode(f\"{address}, Charlottesville, VA\")\n",
    "        if result:\n",
    "            lat = result[0]['geometry']['location']['lat']\n",
    "            lon = result[0]['geometry']['location']['lng']\n",
    "            return lat, lon\n",
    "    except Exception as e:\n",
    "        print(f\"Error geocoding {address}: {e}\")\n",
    "    return None, None\n",
    "\n",
    "# --- Step 2: Geocode Only New Addresses ---\n",
    "unique_addresses = df['FullStreet'].unique()\n",
    "for address in unique_addresses:\n",
    "    if address not in street_coords:\n",
    "        lat, lon = geocode_address(address)\n",
    "        street_coords[address] = (lat, lon)\n",
    "        print(f\"Geocoded {address}: {lat}, {lon}\")\n",
    "\n",
    "# Save the updated cache to disk.\n",
    "with open(\"geocode_cache_google.pkl\", \"wb\") as f:\n",
    "    pickle.dump(street_coords, f)\n",
    "    print(\"Geocode cache updated and saved.\")\n",
    "\n",
    "# --- Step 3: Map Coordinates Back to DataFrame ---\n",
    "df['lat'] = df['FullStreet'].map(lambda s: street_coords.get(s, (None, None))[0])\n",
    "df['lon'] = df['FullStreet'].map(lambda s: street_coords.get(s, (None, None))[1])\n",
    "\n",
    "df.head()"
   ]
  },
  {
   "cell_type": "markdown",
   "id": "333c895a",
   "metadata": {
    "papermill": {
     "duration": 0.004408,
     "end_time": "2025-07-03T01:06:30.401003",
     "exception": false,
     "start_time": "2025-07-03T01:06:30.396595",
     "status": "completed"
    },
    "tags": []
   },
   "source": [
    "### Neighborhood"
   ]
  },
  {
   "cell_type": "code",
   "execution_count": 10,
   "id": "3719370b",
   "metadata": {
    "execution": {
     "iopub.execute_input": "2025-07-03T01:06:30.410980Z",
     "iopub.status.busy": "2025-07-03T01:06:30.410540Z",
     "iopub.status.idle": "2025-07-03T01:06:31.366702Z",
     "shell.execute_reply": "2025-07-03T01:06:31.366025Z"
    },
    "papermill": {
     "duration": 0.9625,
     "end_time": "2025-07-03T01:06:31.367871",
     "exception": false,
     "start_time": "2025-07-03T01:06:30.405371",
     "status": "completed"
    },
    "tags": []
   },
   "outputs": [
    {
     "name": "stdout",
     "output_type": "stream",
     "text": [
      "Loaded neighborhood cache.\n",
      "Error getting neighborhood for nan, nan: HTTP Error: 400\n",
      "Error getting neighborhood for nan, nan: HTTP Error: 400\n",
      "Error getting neighborhood for nan, nan: HTTP Error: 400\n"
     ]
    },
    {
     "name": "stdout",
     "output_type": "stream",
     "text": [
      "Error getting neighborhood for nan, nan: HTTP Error: 400\n",
      "Error getting neighborhood for nan, nan: HTTP Error: 400\n"
     ]
    },
    {
     "name": "stdout",
     "output_type": "stream",
     "text": [
      "Error getting neighborhood for nan, nan: HTTP Error: 400\n",
      "Error getting neighborhood for nan, nan: HTTP Error: 400\n",
      "Error getting neighborhood for nan, nan: HTTP Error: 400\n",
      "Error getting neighborhood for nan, nan: HTTP Error: 400\n",
      "Error getting neighborhood for nan, nan: HTTP Error: 400\n",
      "Error getting neighborhood for nan, nan: HTTP Error: 400\n",
      "Error getting neighborhood for nan, nan: HTTP Error: 400\n",
      "Error getting neighborhood for nan, nan: HTTP Error: 400\n",
      "Error getting neighborhood for nan, nan: HTTP Error: 400\n"
     ]
    },
    {
     "name": "stdout",
     "output_type": "stream",
     "text": [
      "Error getting neighborhood for nan, nan: HTTP Error: 400\n",
      "Error getting neighborhood for nan, nan: HTTP Error: 400\n",
      "Error getting neighborhood for nan, nan: HTTP Error: 400\n"
     ]
    },
    {
     "name": "stdout",
     "output_type": "stream",
     "text": [
      "Error getting neighborhood for nan, nan: HTTP Error: 400\n",
      "Error getting neighborhood for nan, nan: HTTP Error: 400\n",
      "Error getting neighborhood for nan, nan: HTTP Error: 400\n",
      "Error getting neighborhood for nan, nan: HTTP Error: 400\n",
      "Error getting neighborhood for nan, nan: HTTP Error: 400\n",
      "Error getting neighborhood for nan, nan: HTTP Error: 400\n",
      "Error getting neighborhood for nan, nan: HTTP Error: 400\n",
      "Error getting neighborhood for nan, nan: HTTP Error: 400\n",
      "Error getting neighborhood for nan, nan: HTTP Error: 400\n",
      "Error getting neighborhood for nan, nan: HTTP Error: 400\n"
     ]
    },
    {
     "name": "stdout",
     "output_type": "stream",
     "text": [
      "Error getting neighborhood for nan, nan: HTTP Error: 400\n",
      "Error getting neighborhood for nan, nan: HTTP Error: 400\n",
      "Error getting neighborhood for nan, nan: HTTP Error: 400\n"
     ]
    },
    {
     "name": "stdout",
     "output_type": "stream",
     "text": [
      "Error getting neighborhood for nan, nan: HTTP Error: 400\n",
      "Error getting neighborhood for nan, nan: HTTP Error: 400\n",
      "Error getting neighborhood for nan, nan: HTTP Error: 400\n",
      "Error getting neighborhood for nan, nan: HTTP Error: 400\n",
      "Error getting neighborhood for nan, nan: HTTP Error: 400\n",
      "Error getting neighborhood for nan, nan: HTTP Error: 400\n",
      "Error getting neighborhood for nan, nan: HTTP Error: 400\n",
      "Error getting neighborhood for nan, nan: HTTP Error: 400\n"
     ]
    },
    {
     "data": {
      "text/html": [
       "<div>\n",
       "<style scoped>\n",
       "    .dataframe tbody tr th:only-of-type {\n",
       "        vertical-align: middle;\n",
       "    }\n",
       "\n",
       "    .dataframe tbody tr th {\n",
       "        vertical-align: top;\n",
       "    }\n",
       "\n",
       "    .dataframe thead th {\n",
       "        text-align: right;\n",
       "    }\n",
       "</style>\n",
       "<table border=\"1\" class=\"dataframe\">\n",
       "  <thead>\n",
       "    <tr style=\"text-align: right;\">\n",
       "      <th></th>\n",
       "      <th>RecordID</th>\n",
       "      <th>Offense</th>\n",
       "      <th>IncidentID</th>\n",
       "      <th>BlockNumber</th>\n",
       "      <th>StreetName</th>\n",
       "      <th>Agency</th>\n",
       "      <th>HourReported</th>\n",
       "      <th>ReportingOfficer</th>\n",
       "      <th>Date</th>\n",
       "      <th>DateString</th>\n",
       "      <th>DayOfWeek</th>\n",
       "      <th>Weekend</th>\n",
       "      <th>Season</th>\n",
       "      <th>HourAMPM</th>\n",
       "      <th>TimeOfDay</th>\n",
       "      <th>FullStreet</th>\n",
       "      <th>lat</th>\n",
       "      <th>lon</th>\n",
       "      <th>neighborhood</th>\n",
       "    </tr>\n",
       "  </thead>\n",
       "  <tbody>\n",
       "    <tr>\n",
       "      <th>0</th>\n",
       "      <td>1</td>\n",
       "      <td>Domestic Disturbance</td>\n",
       "      <td>202500022610</td>\n",
       "      <td>1800</td>\n",
       "      <td>EMMET ST N</td>\n",
       "      <td>CPD</td>\n",
       "      <td>1715</td>\n",
       "      <td>Curry, Brian</td>\n",
       "      <td>2025-06-30 17:15:14</td>\n",
       "      <td>2025-06-30 05:15:14 PM</td>\n",
       "      <td>Monday</td>\n",
       "      <td>False</td>\n",
       "      <td>Summer</td>\n",
       "      <td>05:15 PM</td>\n",
       "      <td>Evening</td>\n",
       "      <td>1800 EMMET ST N</td>\n",
       "      <td>38.059766</td>\n",
       "      <td>-78.493132</td>\n",
       "      <td>The Meadows</td>\n",
       "    </tr>\n",
       "    <tr>\n",
       "      <th>1</th>\n",
       "      <td>2</td>\n",
       "      <td>Assist Citizen - Mental/TDO/ECO</td>\n",
       "      <td>202500022606</td>\n",
       "      <td>1000</td>\n",
       "      <td>FOREST HILLS AVE</td>\n",
       "      <td>CPD</td>\n",
       "      <td>1658</td>\n",
       "      <td>Vlasis, Christopher</td>\n",
       "      <td>2025-06-30 16:58:15</td>\n",
       "      <td>2025-06-30 04:58:15 PM</td>\n",
       "      <td>Monday</td>\n",
       "      <td>False</td>\n",
       "      <td>Summer</td>\n",
       "      <td>04:58 PM</td>\n",
       "      <td>Afternoon</td>\n",
       "      <td>1000 FOREST HILLS AVE</td>\n",
       "      <td>38.025324</td>\n",
       "      <td>-78.495728</td>\n",
       "      <td>Fifeville</td>\n",
       "    </tr>\n",
       "    <tr>\n",
       "      <th>2</th>\n",
       "      <td>3</td>\n",
       "      <td>Missing Person-adult</td>\n",
       "      <td>202500022581</td>\n",
       "      <td>600</td>\n",
       "      <td>E MARKET ST</td>\n",
       "      <td>CPD</td>\n",
       "      <td>1351</td>\n",
       "      <td>Kirby, Tyree</td>\n",
       "      <td>2025-06-30 13:51:57</td>\n",
       "      <td>2025-06-30 01:51:57 PM</td>\n",
       "      <td>Monday</td>\n",
       "      <td>False</td>\n",
       "      <td>Summer</td>\n",
       "      <td>01:51 PM</td>\n",
       "      <td>Afternoon</td>\n",
       "      <td>600 E MARKET ST</td>\n",
       "      <td>38.030175</td>\n",
       "      <td>-78.477574</td>\n",
       "      <td>Downtown Mall</td>\n",
       "    </tr>\n",
       "    <tr>\n",
       "      <th>3</th>\n",
       "      <td>4</td>\n",
       "      <td>Hit and Run</td>\n",
       "      <td>202500022568</td>\n",
       "      <td>600</td>\n",
       "      <td>E HIGH ST</td>\n",
       "      <td>CPD</td>\n",
       "      <td>1234</td>\n",
       "      <td>Mian, Ghulam</td>\n",
       "      <td>2025-06-30 12:34:05</td>\n",
       "      <td>2025-06-30 12:34:05 PM</td>\n",
       "      <td>Monday</td>\n",
       "      <td>False</td>\n",
       "      <td>Summer</td>\n",
       "      <td>12:34 PM</td>\n",
       "      <td>Afternoon</td>\n",
       "      <td>600 E HIGH ST</td>\n",
       "      <td>38.031946</td>\n",
       "      <td>-78.476952</td>\n",
       "      <td>North Downtown</td>\n",
       "    </tr>\n",
       "    <tr>\n",
       "      <th>4</th>\n",
       "      <td>5</td>\n",
       "      <td>Larceny - Shoplifitng</td>\n",
       "      <td>202500022564</td>\n",
       "      <td>800</td>\n",
       "      <td>E MARKET ST</td>\n",
       "      <td>CPD</td>\n",
       "      <td>1154</td>\n",
       "      <td>O'Briant, Landon</td>\n",
       "      <td>2025-06-30 11:54:56</td>\n",
       "      <td>2025-06-30 11:54:56 AM</td>\n",
       "      <td>Monday</td>\n",
       "      <td>False</td>\n",
       "      <td>Summer</td>\n",
       "      <td>11:54 AM</td>\n",
       "      <td>Morning</td>\n",
       "      <td>800 E MARKET ST</td>\n",
       "      <td>38.029573</td>\n",
       "      <td>-78.476013</td>\n",
       "      <td>Downtown Mall</td>\n",
       "    </tr>\n",
       "  </tbody>\n",
       "</table>\n",
       "</div>"
      ],
      "text/plain": [
       "   RecordID                          Offense    IncidentID BlockNumber  \\\n",
       "0         1             Domestic Disturbance  202500022610        1800   \n",
       "1         2  Assist Citizen - Mental/TDO/ECO  202500022606        1000   \n",
       "2         3             Missing Person-adult  202500022581         600   \n",
       "3         4                      Hit and Run  202500022568         600   \n",
       "4         5            Larceny - Shoplifitng  202500022564         800   \n",
       "\n",
       "         StreetName Agency HourReported     ReportingOfficer  \\\n",
       "0        EMMET ST N    CPD         1715         Curry, Brian   \n",
       "1  FOREST HILLS AVE    CPD         1658  Vlasis, Christopher   \n",
       "2       E MARKET ST    CPD         1351         Kirby, Tyree   \n",
       "3         E HIGH ST    CPD         1234         Mian, Ghulam   \n",
       "4       E MARKET ST    CPD         1154     O'Briant, Landon   \n",
       "\n",
       "                 Date              DateString DayOfWeek  Weekend  Season  \\\n",
       "0 2025-06-30 17:15:14  2025-06-30 05:15:14 PM    Monday    False  Summer   \n",
       "1 2025-06-30 16:58:15  2025-06-30 04:58:15 PM    Monday    False  Summer   \n",
       "2 2025-06-30 13:51:57  2025-06-30 01:51:57 PM    Monday    False  Summer   \n",
       "3 2025-06-30 12:34:05  2025-06-30 12:34:05 PM    Monday    False  Summer   \n",
       "4 2025-06-30 11:54:56  2025-06-30 11:54:56 AM    Monday    False  Summer   \n",
       "\n",
       "   HourAMPM  TimeOfDay             FullStreet        lat        lon  \\\n",
       "0  05:15 PM    Evening        1800 EMMET ST N  38.059766 -78.493132   \n",
       "1  04:58 PM  Afternoon  1000 FOREST HILLS AVE  38.025324 -78.495728   \n",
       "2  01:51 PM  Afternoon        600 E MARKET ST  38.030175 -78.477574   \n",
       "3  12:34 PM  Afternoon          600 E HIGH ST  38.031946 -78.476952   \n",
       "4  11:54 AM    Morning        800 E MARKET ST  38.029573 -78.476013   \n",
       "\n",
       "     neighborhood  \n",
       "0     The Meadows  \n",
       "1       Fifeville  \n",
       "2   Downtown Mall  \n",
       "3  North Downtown  \n",
       "4   Downtown Mall  "
      ]
     },
     "execution_count": 10,
     "metadata": {},
     "output_type": "execute_result"
    }
   ],
   "source": [
    "# Initialize the Google Maps client.\n",
    "gmaps = googlemaps.Client(key=GOOGLE_API_KEY)\n",
    "\n",
    "# Try to load a persistent neighborhood cache if available.\n",
    "try:\n",
    "    with open(\"neighborhood_cache.pkl\", \"rb\") as f:\n",
    "        neighborhood_cache = pickle.load(f)\n",
    "    print(\"Loaded neighborhood cache.\")\n",
    "except FileNotFoundError:\n",
    "    neighborhood_cache = {}\n",
    "    print(\"No neighborhood cache found; starting fresh.\")\n",
    "\n",
    "def get_neighborhood(lat, lon):\n",
    "    \"\"\"\n",
    "    Reverse geocodes a latitude and longitude to retrieve the neighborhood.\n",
    "    Caches results to speed up subsequent lookups.\n",
    "    \"\"\"\n",
    "    key = (lat, lon)\n",
    "    if key in neighborhood_cache:\n",
    "        return neighborhood_cache[key]\n",
    "    \n",
    "    try:\n",
    "        result = gmaps.reverse_geocode((lat, lon))\n",
    "        if result:\n",
    "            # Look for the 'neighborhood' component in the first result.\n",
    "            for component in result[0]['address_components']:\n",
    "                if 'neighborhood' in component['types']:\n",
    "                    neighborhood = component['long_name']\n",
    "                    neighborhood_cache[key] = neighborhood\n",
    "                    return neighborhood\n",
    "            # If no neighborhood is found, return \"N/A\"\n",
    "            neighborhood_cache[key] = \"N/A\"\n",
    "            return \"N/A\"\n",
    "    except Exception as e:\n",
    "        print(f\"Error getting neighborhood for {lat}, {lon}: {e}\")\n",
    "        return \"N/A\"\n",
    "    \n",
    "    # Pause to respect usage limits.\n",
    "    time.sleep(1)\n",
    "\n",
    "# Example usage: Apply to your DataFrame 'df' that already has 'lat' and 'lon' columns.\n",
    "df['neighborhood'] = df.apply(lambda row: get_neighborhood(row['lat'], row['lon']), axis=1)\n",
    "\n",
    "# Save the updated neighborhood cache.\n",
    "with open(\"neighborhood_cache.pkl\", \"wb\") as f:\n",
    "    pickle.dump(neighborhood_cache, f)\n",
    "\n",
    "df.head()\n"
   ]
  },
  {
   "cell_type": "markdown",
   "id": "53c712a8",
   "metadata": {
    "papermill": {
     "duration": 0.004912,
     "end_time": "2025-07-03T01:06:31.378078",
     "exception": false,
     "start_time": "2025-07-03T01:06:31.373166",
     "status": "completed"
    },
    "tags": []
   },
   "source": [
    "### Zip"
   ]
  },
  {
   "cell_type": "code",
   "execution_count": 11,
   "id": "b003bd14",
   "metadata": {
    "execution": {
     "iopub.execute_input": "2025-07-03T01:06:31.388830Z",
     "iopub.status.busy": "2025-07-03T01:06:31.388605Z",
     "iopub.status.idle": "2025-07-03T01:07:09.681633Z",
     "shell.execute_reply": "2025-07-03T01:07:09.681009Z"
    },
    "papermill": {
     "duration": 38.299679,
     "end_time": "2025-07-03T01:07:09.682720",
     "exception": false,
     "start_time": "2025-07-03T01:06:31.383041",
     "status": "completed"
    },
    "tags": []
   },
   "outputs": [
    {
     "name": "stdout",
     "output_type": "stream",
     "text": [
      "Loaded zip cache.\n",
      "Error getting ZIP for nan, nan: Must be a coordinate pair or Point\n"
     ]
    },
    {
     "name": "stdout",
     "output_type": "stream",
     "text": [
      "Error getting ZIP for nan, nan: Must be a coordinate pair or Point\n"
     ]
    },
    {
     "name": "stdout",
     "output_type": "stream",
     "text": [
      "Error getting ZIP for nan, nan: Must be a coordinate pair or Point\n"
     ]
    },
    {
     "name": "stdout",
     "output_type": "stream",
     "text": [
      "Error getting ZIP for nan, nan: Must be a coordinate pair or Point\n"
     ]
    },
    {
     "name": "stdout",
     "output_type": "stream",
     "text": [
      "Error getting ZIP for nan, nan: Must be a coordinate pair or Point\n"
     ]
    },
    {
     "name": "stdout",
     "output_type": "stream",
     "text": [
      "Error getting ZIP for nan, nan: Must be a coordinate pair or Point\n"
     ]
    },
    {
     "name": "stdout",
     "output_type": "stream",
     "text": [
      "Error getting ZIP for nan, nan: Must be a coordinate pair or Point\n"
     ]
    },
    {
     "name": "stdout",
     "output_type": "stream",
     "text": [
      "Error getting ZIP for nan, nan: Must be a coordinate pair or Point\n"
     ]
    },
    {
     "name": "stdout",
     "output_type": "stream",
     "text": [
      "Error getting ZIP for nan, nan: Must be a coordinate pair or Point\n"
     ]
    },
    {
     "name": "stdout",
     "output_type": "stream",
     "text": [
      "Error getting ZIP for nan, nan: Must be a coordinate pair or Point\n"
     ]
    },
    {
     "name": "stdout",
     "output_type": "stream",
     "text": [
      "Error getting ZIP for nan, nan: Must be a coordinate pair or Point\n"
     ]
    },
    {
     "name": "stdout",
     "output_type": "stream",
     "text": [
      "Error getting ZIP for nan, nan: Must be a coordinate pair or Point\n"
     ]
    },
    {
     "name": "stdout",
     "output_type": "stream",
     "text": [
      "Error getting ZIP for nan, nan: Must be a coordinate pair or Point\n"
     ]
    },
    {
     "name": "stdout",
     "output_type": "stream",
     "text": [
      "Error getting ZIP for nan, nan: Must be a coordinate pair or Point\n"
     ]
    },
    {
     "name": "stdout",
     "output_type": "stream",
     "text": [
      "Error getting ZIP for nan, nan: Must be a coordinate pair or Point\n"
     ]
    },
    {
     "name": "stdout",
     "output_type": "stream",
     "text": [
      "Error getting ZIP for nan, nan: Must be a coordinate pair or Point\n"
     ]
    },
    {
     "name": "stdout",
     "output_type": "stream",
     "text": [
      "Error getting ZIP for nan, nan: Must be a coordinate pair or Point\n"
     ]
    },
    {
     "name": "stdout",
     "output_type": "stream",
     "text": [
      "Error getting ZIP for nan, nan: Must be a coordinate pair or Point\n"
     ]
    },
    {
     "name": "stdout",
     "output_type": "stream",
     "text": [
      "Error getting ZIP for nan, nan: Must be a coordinate pair or Point\n"
     ]
    },
    {
     "name": "stdout",
     "output_type": "stream",
     "text": [
      "Error getting ZIP for nan, nan: Must be a coordinate pair or Point\n"
     ]
    },
    {
     "name": "stdout",
     "output_type": "stream",
     "text": [
      "Error getting ZIP for nan, nan: Must be a coordinate pair or Point\n"
     ]
    },
    {
     "name": "stdout",
     "output_type": "stream",
     "text": [
      "Error getting ZIP for nan, nan: Must be a coordinate pair or Point\n"
     ]
    },
    {
     "name": "stdout",
     "output_type": "stream",
     "text": [
      "Error getting ZIP for nan, nan: Must be a coordinate pair or Point\n"
     ]
    },
    {
     "name": "stdout",
     "output_type": "stream",
     "text": [
      "Error getting ZIP for nan, nan: Must be a coordinate pair or Point\n"
     ]
    },
    {
     "name": "stdout",
     "output_type": "stream",
     "text": [
      "Error getting ZIP for nan, nan: Must be a coordinate pair or Point\n"
     ]
    },
    {
     "name": "stdout",
     "output_type": "stream",
     "text": [
      "Error getting ZIP for nan, nan: Must be a coordinate pair or Point\n"
     ]
    },
    {
     "name": "stdout",
     "output_type": "stream",
     "text": [
      "Error getting ZIP for nan, nan: Must be a coordinate pair or Point\n"
     ]
    },
    {
     "name": "stdout",
     "output_type": "stream",
     "text": [
      "Error getting ZIP for nan, nan: Must be a coordinate pair or Point\n"
     ]
    },
    {
     "name": "stdout",
     "output_type": "stream",
     "text": [
      "Error getting ZIP for nan, nan: Must be a coordinate pair or Point\n"
     ]
    },
    {
     "name": "stdout",
     "output_type": "stream",
     "text": [
      "Error getting ZIP for nan, nan: Must be a coordinate pair or Point\n"
     ]
    },
    {
     "name": "stdout",
     "output_type": "stream",
     "text": [
      "Error getting ZIP for nan, nan: Must be a coordinate pair or Point\n"
     ]
    },
    {
     "name": "stdout",
     "output_type": "stream",
     "text": [
      "Error getting ZIP for nan, nan: Must be a coordinate pair or Point\n"
     ]
    },
    {
     "name": "stdout",
     "output_type": "stream",
     "text": [
      "Error getting ZIP for nan, nan: Must be a coordinate pair or Point\n"
     ]
    },
    {
     "name": "stdout",
     "output_type": "stream",
     "text": [
      "Error getting ZIP for nan, nan: Must be a coordinate pair or Point\n"
     ]
    },
    {
     "name": "stdout",
     "output_type": "stream",
     "text": [
      "Error getting ZIP for nan, nan: Must be a coordinate pair or Point\n"
     ]
    },
    {
     "name": "stdout",
     "output_type": "stream",
     "text": [
      "Error getting ZIP for nan, nan: Must be a coordinate pair or Point\n"
     ]
    },
    {
     "name": "stdout",
     "output_type": "stream",
     "text": [
      "Error getting ZIP for nan, nan: Must be a coordinate pair or Point\n"
     ]
    },
    {
     "name": "stdout",
     "output_type": "stream",
     "text": [
      "Error getting ZIP for nan, nan: Must be a coordinate pair or Point\n"
     ]
    },
    {
     "data": {
      "text/html": [
       "<div>\n",
       "<style scoped>\n",
       "    .dataframe tbody tr th:only-of-type {\n",
       "        vertical-align: middle;\n",
       "    }\n",
       "\n",
       "    .dataframe tbody tr th {\n",
       "        vertical-align: top;\n",
       "    }\n",
       "\n",
       "    .dataframe thead th {\n",
       "        text-align: right;\n",
       "    }\n",
       "</style>\n",
       "<table border=\"1\" class=\"dataframe\">\n",
       "  <thead>\n",
       "    <tr style=\"text-align: right;\">\n",
       "      <th></th>\n",
       "      <th>RecordID</th>\n",
       "      <th>Offense</th>\n",
       "      <th>IncidentID</th>\n",
       "      <th>BlockNumber</th>\n",
       "      <th>StreetName</th>\n",
       "      <th>Agency</th>\n",
       "      <th>HourReported</th>\n",
       "      <th>ReportingOfficer</th>\n",
       "      <th>Date</th>\n",
       "      <th>DateString</th>\n",
       "      <th>DayOfWeek</th>\n",
       "      <th>Weekend</th>\n",
       "      <th>Season</th>\n",
       "      <th>HourAMPM</th>\n",
       "      <th>TimeOfDay</th>\n",
       "      <th>FullStreet</th>\n",
       "      <th>lat</th>\n",
       "      <th>lon</th>\n",
       "      <th>neighborhood</th>\n",
       "      <th>zip</th>\n",
       "    </tr>\n",
       "  </thead>\n",
       "  <tbody>\n",
       "    <tr>\n",
       "      <th>0</th>\n",
       "      <td>1</td>\n",
       "      <td>Domestic Disturbance</td>\n",
       "      <td>202500022610</td>\n",
       "      <td>1800</td>\n",
       "      <td>EMMET ST N</td>\n",
       "      <td>CPD</td>\n",
       "      <td>1715</td>\n",
       "      <td>Curry, Brian</td>\n",
       "      <td>2025-06-30 17:15:14</td>\n",
       "      <td>2025-06-30 05:15:14 PM</td>\n",
       "      <td>Monday</td>\n",
       "      <td>False</td>\n",
       "      <td>Summer</td>\n",
       "      <td>05:15 PM</td>\n",
       "      <td>Evening</td>\n",
       "      <td>1800 EMMET ST N</td>\n",
       "      <td>38.059766</td>\n",
       "      <td>-78.493132</td>\n",
       "      <td>The Meadows</td>\n",
       "      <td>22905</td>\n",
       "    </tr>\n",
       "    <tr>\n",
       "      <th>1</th>\n",
       "      <td>2</td>\n",
       "      <td>Assist Citizen - Mental/TDO/ECO</td>\n",
       "      <td>202500022606</td>\n",
       "      <td>1000</td>\n",
       "      <td>FOREST HILLS AVE</td>\n",
       "      <td>CPD</td>\n",
       "      <td>1658</td>\n",
       "      <td>Vlasis, Christopher</td>\n",
       "      <td>2025-06-30 16:58:15</td>\n",
       "      <td>2025-06-30 04:58:15 PM</td>\n",
       "      <td>Monday</td>\n",
       "      <td>False</td>\n",
       "      <td>Summer</td>\n",
       "      <td>04:58 PM</td>\n",
       "      <td>Afternoon</td>\n",
       "      <td>1000 FOREST HILLS AVE</td>\n",
       "      <td>38.025324</td>\n",
       "      <td>-78.495728</td>\n",
       "      <td>Fifeville</td>\n",
       "      <td>22903</td>\n",
       "    </tr>\n",
       "    <tr>\n",
       "      <th>2</th>\n",
       "      <td>3</td>\n",
       "      <td>Missing Person-adult</td>\n",
       "      <td>202500022581</td>\n",
       "      <td>600</td>\n",
       "      <td>E MARKET ST</td>\n",
       "      <td>CPD</td>\n",
       "      <td>1351</td>\n",
       "      <td>Kirby, Tyree</td>\n",
       "      <td>2025-06-30 13:51:57</td>\n",
       "      <td>2025-06-30 01:51:57 PM</td>\n",
       "      <td>Monday</td>\n",
       "      <td>False</td>\n",
       "      <td>Summer</td>\n",
       "      <td>01:51 PM</td>\n",
       "      <td>Afternoon</td>\n",
       "      <td>600 E MARKET ST</td>\n",
       "      <td>38.030175</td>\n",
       "      <td>-78.477574</td>\n",
       "      <td>Downtown Mall</td>\n",
       "      <td>22902</td>\n",
       "    </tr>\n",
       "    <tr>\n",
       "      <th>3</th>\n",
       "      <td>4</td>\n",
       "      <td>Hit and Run</td>\n",
       "      <td>202500022568</td>\n",
       "      <td>600</td>\n",
       "      <td>E HIGH ST</td>\n",
       "      <td>CPD</td>\n",
       "      <td>1234</td>\n",
       "      <td>Mian, Ghulam</td>\n",
       "      <td>2025-06-30 12:34:05</td>\n",
       "      <td>2025-06-30 12:34:05 PM</td>\n",
       "      <td>Monday</td>\n",
       "      <td>False</td>\n",
       "      <td>Summer</td>\n",
       "      <td>12:34 PM</td>\n",
       "      <td>Afternoon</td>\n",
       "      <td>600 E HIGH ST</td>\n",
       "      <td>38.031946</td>\n",
       "      <td>-78.476952</td>\n",
       "      <td>North Downtown</td>\n",
       "      <td>22902</td>\n",
       "    </tr>\n",
       "    <tr>\n",
       "      <th>4</th>\n",
       "      <td>5</td>\n",
       "      <td>Larceny - Shoplifitng</td>\n",
       "      <td>202500022564</td>\n",
       "      <td>800</td>\n",
       "      <td>E MARKET ST</td>\n",
       "      <td>CPD</td>\n",
       "      <td>1154</td>\n",
       "      <td>O'Briant, Landon</td>\n",
       "      <td>2025-06-30 11:54:56</td>\n",
       "      <td>2025-06-30 11:54:56 AM</td>\n",
       "      <td>Monday</td>\n",
       "      <td>False</td>\n",
       "      <td>Summer</td>\n",
       "      <td>11:54 AM</td>\n",
       "      <td>Morning</td>\n",
       "      <td>800 E MARKET ST</td>\n",
       "      <td>38.029573</td>\n",
       "      <td>-78.476013</td>\n",
       "      <td>Downtown Mall</td>\n",
       "      <td>22902</td>\n",
       "    </tr>\n",
       "  </tbody>\n",
       "</table>\n",
       "</div>"
      ],
      "text/plain": [
       "   RecordID                          Offense    IncidentID BlockNumber  \\\n",
       "0         1             Domestic Disturbance  202500022610        1800   \n",
       "1         2  Assist Citizen - Mental/TDO/ECO  202500022606        1000   \n",
       "2         3             Missing Person-adult  202500022581         600   \n",
       "3         4                      Hit and Run  202500022568         600   \n",
       "4         5            Larceny - Shoplifitng  202500022564         800   \n",
       "\n",
       "         StreetName Agency HourReported     ReportingOfficer  \\\n",
       "0        EMMET ST N    CPD         1715         Curry, Brian   \n",
       "1  FOREST HILLS AVE    CPD         1658  Vlasis, Christopher   \n",
       "2       E MARKET ST    CPD         1351         Kirby, Tyree   \n",
       "3         E HIGH ST    CPD         1234         Mian, Ghulam   \n",
       "4       E MARKET ST    CPD         1154     O'Briant, Landon   \n",
       "\n",
       "                 Date              DateString DayOfWeek  Weekend  Season  \\\n",
       "0 2025-06-30 17:15:14  2025-06-30 05:15:14 PM    Monday    False  Summer   \n",
       "1 2025-06-30 16:58:15  2025-06-30 04:58:15 PM    Monday    False  Summer   \n",
       "2 2025-06-30 13:51:57  2025-06-30 01:51:57 PM    Monday    False  Summer   \n",
       "3 2025-06-30 12:34:05  2025-06-30 12:34:05 PM    Monday    False  Summer   \n",
       "4 2025-06-30 11:54:56  2025-06-30 11:54:56 AM    Monday    False  Summer   \n",
       "\n",
       "   HourAMPM  TimeOfDay             FullStreet        lat        lon  \\\n",
       "0  05:15 PM    Evening        1800 EMMET ST N  38.059766 -78.493132   \n",
       "1  04:58 PM  Afternoon  1000 FOREST HILLS AVE  38.025324 -78.495728   \n",
       "2  01:51 PM  Afternoon        600 E MARKET ST  38.030175 -78.477574   \n",
       "3  12:34 PM  Afternoon          600 E HIGH ST  38.031946 -78.476952   \n",
       "4  11:54 AM    Morning        800 E MARKET ST  38.029573 -78.476013   \n",
       "\n",
       "     neighborhood    zip  \n",
       "0     The Meadows  22905  \n",
       "1       Fifeville  22903  \n",
       "2   Downtown Mall  22902  \n",
       "3  North Downtown  22902  \n",
       "4   Downtown Mall  22902  "
      ]
     },
     "execution_count": 11,
     "metadata": {},
     "output_type": "execute_result"
    }
   ],
   "source": [
    "# Initialize the geocoder.\n",
    "geolocator = Nominatim(user_agent=\"zip_lookup\")\n",
    "\n",
    "# Try to load a persistent ZIP cache if available.\n",
    "try:\n",
    "    with open(\"zip_cache.pkl\", \"rb\") as f:\n",
    "        zip_cache = pickle.load(f)\n",
    "    print(\"Loaded zip cache.\")\n",
    "except FileNotFoundError:\n",
    "    zip_cache = {}\n",
    "    print(\"No zip cache found; starting fresh.\")\n",
    "\n",
    "def get_zip(lat, lon):\n",
    "    \"\"\"\n",
    "    Reverse geocodes a latitude and longitude to retrieve the ZIP code.\n",
    "    Caches results to speed up subsequent lookups.\n",
    "    \"\"\"\n",
    "    key = (lat, lon)\n",
    "    if key in zip_cache:\n",
    "        return zip_cache[key]\n",
    "    \n",
    "    try:\n",
    "        location = geolocator.reverse((lat, lon), exactly_one=True, timeout=10)\n",
    "        address = location.raw.get('address', {})\n",
    "        postal_code = address.get('postcode', \"N/A\")\n",
    "    except Exception as e:\n",
    "        print(f\"Error getting ZIP for {lat}, {lon}: {e}\")\n",
    "        postal_code = \"N/A\"\n",
    "    \n",
    "    zip_cache[key] = postal_code\n",
    "    # Pause to respect the usage policy.\n",
    "    time.sleep(1)\n",
    "    return postal_code\n",
    "\n",
    "# Apply the function to each row in the DataFrame.\n",
    "df['zip'] = df.apply(lambda row: get_zip(row['lat'], row['lon']), axis=1)\n",
    "\n",
    "# Save the updated ZIP cache.\n",
    "with open(\"zip_cache.pkl\", \"wb\") as f:\n",
    "    pickle.dump(zip_cache, f)\n",
    "\n",
    "df.head()\n"
   ]
  },
  {
   "cell_type": "code",
   "execution_count": 12,
   "id": "96551178",
   "metadata": {
    "execution": {
     "iopub.execute_input": "2025-07-03T01:07:09.697331Z",
     "iopub.status.busy": "2025-07-03T01:07:09.697141Z",
     "iopub.status.idle": "2025-07-03T01:07:09.724267Z",
     "shell.execute_reply": "2025-07-03T01:07:09.723708Z"
    },
    "papermill": {
     "duration": 0.035499,
     "end_time": "2025-07-03T01:07:09.725289",
     "exception": false,
     "start_time": "2025-07-03T01:07:09.689790",
     "status": "completed"
    },
    "tags": []
   },
   "outputs": [
    {
     "name": "stdout",
     "output_type": "stream",
     "text": [
      "                  MissingCount  MissingPercentage\n",
      "RecordID                     0               0.00\n",
      "Offense                      0               0.00\n",
      "IncidentID                   0               0.00\n",
      "BlockNumber                  0               0.00\n",
      "StreetName                   0               0.00\n",
      "Agency                       0               0.00\n",
      "HourReported                 0               0.00\n",
      "ReportingOfficer            17               0.07\n",
      "Date                         0               0.00\n",
      "DateString                   0               0.00\n",
      "DayOfWeek                    0               0.00\n",
      "Weekend                      0               0.00\n",
      "Season                       0               0.00\n",
      "HourAMPM                     0               0.00\n",
      "TimeOfDay                    0               0.00\n",
      "FullStreet                   0               0.00\n",
      "lat                         38               0.15\n",
      "lon                         38               0.15\n",
      "neighborhood                 0               0.00\n",
      "zip                          0               0.00\n"
     ]
    }
   ],
   "source": [
    "missing_info = missing_percentage(df)\n",
    "print(missing_info)\n"
   ]
  },
  {
   "cell_type": "code",
   "execution_count": 13,
   "id": "08f60019",
   "metadata": {
    "execution": {
     "iopub.execute_input": "2025-07-03T01:07:09.740109Z",
     "iopub.status.busy": "2025-07-03T01:07:09.739710Z",
     "iopub.status.idle": "2025-07-03T01:07:09.766318Z",
     "shell.execute_reply": "2025-07-03T01:07:09.765750Z"
    },
    "papermill": {
     "duration": 0.035,
     "end_time": "2025-07-03T01:07:09.767321",
     "exception": false,
     "start_time": "2025-07-03T01:07:09.732321",
     "status": "completed"
    },
    "tags": []
   },
   "outputs": [
    {
     "name": "stdout",
     "output_type": "stream",
     "text": [
      "<class 'pandas.core.frame.DataFrame'>\n",
      "RangeIndex: 25542 entries, 0 to 25541\n",
      "Data columns (total 20 columns):\n",
      " #   Column            Non-Null Count  Dtype         \n",
      "---  ------            --------------  -----         \n",
      " 0   RecordID          25542 non-null  int64         \n",
      " 1   Offense           25542 non-null  object        \n",
      " 2   IncidentID        25542 non-null  object        \n",
      " 3   BlockNumber       25542 non-null  object        \n",
      " 4   StreetName        25542 non-null  object        \n",
      " 5   Agency            25542 non-null  object        \n",
      " 6   HourReported      25542 non-null  object        \n",
      " 7   ReportingOfficer  25525 non-null  object        \n",
      " 8   Date              25542 non-null  datetime64[ns]\n",
      " 9   DateString        25542 non-null  object        \n",
      " 10  DayOfWeek         25542 non-null  object        \n",
      " 11  Weekend           25542 non-null  bool          \n",
      " 12  Season            25542 non-null  object        \n",
      " 13  HourAMPM          25542 non-null  object        \n",
      " 14  TimeOfDay         25542 non-null  object        \n",
      " 15  FullStreet        25542 non-null  object        \n",
      " 16  lat               25504 non-null  float64       \n",
      " 17  lon               25504 non-null  float64       \n",
      " 18  neighborhood      25542 non-null  object        \n",
      " 19  zip               25542 non-null  object        \n",
      "dtypes: bool(1), datetime64[ns](1), float64(2), int64(1), object(15)\n",
      "memory usage: 3.7+ MB\n"
     ]
    }
   ],
   "source": [
    "df.info()"
   ]
  },
  {
   "cell_type": "code",
   "execution_count": 14,
   "id": "3e96e6b5",
   "metadata": {
    "execution": {
     "iopub.execute_input": "2025-07-03T01:07:09.782420Z",
     "iopub.status.busy": "2025-07-03T01:07:09.782010Z",
     "iopub.status.idle": "2025-07-03T01:07:09.823009Z",
     "shell.execute_reply": "2025-07-03T01:07:09.822308Z"
    },
    "papermill": {
     "duration": 0.049663,
     "end_time": "2025-07-03T01:07:09.824026",
     "exception": false,
     "start_time": "2025-07-03T01:07:09.774363",
     "status": "completed"
    },
    "tags": []
   },
   "outputs": [
    {
     "data": {
      "text/html": [
       "<div>\n",
       "<style scoped>\n",
       "    .dataframe tbody tr th:only-of-type {\n",
       "        vertical-align: middle;\n",
       "    }\n",
       "\n",
       "    .dataframe tbody tr th {\n",
       "        vertical-align: top;\n",
       "    }\n",
       "\n",
       "    .dataframe thead th {\n",
       "        text-align: right;\n",
       "    }\n",
       "</style>\n",
       "<table border=\"1\" class=\"dataframe\">\n",
       "  <thead>\n",
       "    <tr style=\"text-align: right;\">\n",
       "      <th></th>\n",
       "      <th>RecordID</th>\n",
       "      <th>Offense</th>\n",
       "      <th>IncidentID</th>\n",
       "      <th>Agency</th>\n",
       "      <th>ReportingOfficer</th>\n",
       "      <th>Date</th>\n",
       "      <th>DayOfWeek</th>\n",
       "      <th>Weekend</th>\n",
       "      <th>Season</th>\n",
       "      <th>TimeOfDay</th>\n",
       "      <th>FullStreet</th>\n",
       "      <th>lat</th>\n",
       "      <th>lon</th>\n",
       "      <th>neighborhood</th>\n",
       "      <th>zip</th>\n",
       "    </tr>\n",
       "  </thead>\n",
       "  <tbody>\n",
       "    <tr>\n",
       "      <th>0</th>\n",
       "      <td>1</td>\n",
       "      <td>Domestic Disturbance</td>\n",
       "      <td>202500022610</td>\n",
       "      <td>CPD</td>\n",
       "      <td>Curry, Brian</td>\n",
       "      <td>2025-06-30 17:15:14</td>\n",
       "      <td>Monday</td>\n",
       "      <td>False</td>\n",
       "      <td>Summer</td>\n",
       "      <td>Evening</td>\n",
       "      <td>1800 EMMET ST N</td>\n",
       "      <td>38.059766</td>\n",
       "      <td>-78.493132</td>\n",
       "      <td>The Meadows</td>\n",
       "      <td>22905</td>\n",
       "    </tr>\n",
       "    <tr>\n",
       "      <th>1</th>\n",
       "      <td>2</td>\n",
       "      <td>Assist Citizen - Mental/TDO/ECO</td>\n",
       "      <td>202500022606</td>\n",
       "      <td>CPD</td>\n",
       "      <td>Vlasis, Christopher</td>\n",
       "      <td>2025-06-30 16:58:15</td>\n",
       "      <td>Monday</td>\n",
       "      <td>False</td>\n",
       "      <td>Summer</td>\n",
       "      <td>Afternoon</td>\n",
       "      <td>1000 FOREST HILLS AVE</td>\n",
       "      <td>38.025324</td>\n",
       "      <td>-78.495728</td>\n",
       "      <td>Fifeville</td>\n",
       "      <td>22903</td>\n",
       "    </tr>\n",
       "    <tr>\n",
       "      <th>2</th>\n",
       "      <td>3</td>\n",
       "      <td>Missing Person-adult</td>\n",
       "      <td>202500022581</td>\n",
       "      <td>CPD</td>\n",
       "      <td>Kirby, Tyree</td>\n",
       "      <td>2025-06-30 13:51:57</td>\n",
       "      <td>Monday</td>\n",
       "      <td>False</td>\n",
       "      <td>Summer</td>\n",
       "      <td>Afternoon</td>\n",
       "      <td>600 E MARKET ST</td>\n",
       "      <td>38.030175</td>\n",
       "      <td>-78.477574</td>\n",
       "      <td>Downtown Mall</td>\n",
       "      <td>22902</td>\n",
       "    </tr>\n",
       "    <tr>\n",
       "      <th>3</th>\n",
       "      <td>4</td>\n",
       "      <td>Hit and Run</td>\n",
       "      <td>202500022568</td>\n",
       "      <td>CPD</td>\n",
       "      <td>Mian, Ghulam</td>\n",
       "      <td>2025-06-30 12:34:05</td>\n",
       "      <td>Monday</td>\n",
       "      <td>False</td>\n",
       "      <td>Summer</td>\n",
       "      <td>Afternoon</td>\n",
       "      <td>600 E HIGH ST</td>\n",
       "      <td>38.031946</td>\n",
       "      <td>-78.476952</td>\n",
       "      <td>North Downtown</td>\n",
       "      <td>22902</td>\n",
       "    </tr>\n",
       "    <tr>\n",
       "      <th>4</th>\n",
       "      <td>5</td>\n",
       "      <td>Larceny - Shoplifitng</td>\n",
       "      <td>202500022564</td>\n",
       "      <td>CPD</td>\n",
       "      <td>O'Briant, Landon</td>\n",
       "      <td>2025-06-30 11:54:56</td>\n",
       "      <td>Monday</td>\n",
       "      <td>False</td>\n",
       "      <td>Summer</td>\n",
       "      <td>Morning</td>\n",
       "      <td>800 E MARKET ST</td>\n",
       "      <td>38.029573</td>\n",
       "      <td>-78.476013</td>\n",
       "      <td>Downtown Mall</td>\n",
       "      <td>22902</td>\n",
       "    </tr>\n",
       "  </tbody>\n",
       "</table>\n",
       "</div>"
      ],
      "text/plain": [
       "   RecordID                          Offense    IncidentID Agency  \\\n",
       "0         1             Domestic Disturbance  202500022610    CPD   \n",
       "1         2  Assist Citizen - Mental/TDO/ECO  202500022606    CPD   \n",
       "2         3             Missing Person-adult  202500022581    CPD   \n",
       "3         4                      Hit and Run  202500022568    CPD   \n",
       "4         5            Larceny - Shoplifitng  202500022564    CPD   \n",
       "\n",
       "      ReportingOfficer                Date DayOfWeek  Weekend  Season  \\\n",
       "0         Curry, Brian 2025-06-30 17:15:14    Monday    False  Summer   \n",
       "1  Vlasis, Christopher 2025-06-30 16:58:15    Monday    False  Summer   \n",
       "2         Kirby, Tyree 2025-06-30 13:51:57    Monday    False  Summer   \n",
       "3         Mian, Ghulam 2025-06-30 12:34:05    Monday    False  Summer   \n",
       "4     O'Briant, Landon 2025-06-30 11:54:56    Monday    False  Summer   \n",
       "\n",
       "   TimeOfDay             FullStreet        lat        lon    neighborhood  \\\n",
       "0    Evening        1800 EMMET ST N  38.059766 -78.493132     The Meadows   \n",
       "1  Afternoon  1000 FOREST HILLS AVE  38.025324 -78.495728       Fifeville   \n",
       "2  Afternoon        600 E MARKET ST  38.030175 -78.477574   Downtown Mall   \n",
       "3  Afternoon          600 E HIGH ST  38.031946 -78.476952  North Downtown   \n",
       "4    Morning        800 E MARKET ST  38.029573 -78.476013   Downtown Mall   \n",
       "\n",
       "     zip  \n",
       "0  22905  \n",
       "1  22903  \n",
       "2  22902  \n",
       "3  22902  \n",
       "4  22902  "
      ]
     },
     "execution_count": 14,
     "metadata": {},
     "output_type": "execute_result"
    }
   ],
   "source": [
    "# Now drop the original BlockNumber and StreetName columns\n",
    "df.drop(columns=['BlockNumber', 'StreetName','HourAMPM','HourReported','DateString'], inplace=True)\n",
    "df[\"zip\"] = df[\"zip\"].astype(str)\n",
    "\n",
    "# Fill all missing values in the DataFrame with \"N/A\"\n",
    "df.replace({None: \"N/A\", np.nan: \"N/A\", \"\": \"N/A\"}, inplace=True)\n",
    "df.head()"
   ]
  },
  {
   "cell_type": "code",
   "execution_count": 15,
   "id": "66c89ce8",
   "metadata": {
    "execution": {
     "iopub.execute_input": "2025-07-03T01:07:09.839878Z",
     "iopub.status.busy": "2025-07-03T01:07:09.839440Z",
     "iopub.status.idle": "2025-07-03T01:07:09.855303Z",
     "shell.execute_reply": "2025-07-03T01:07:09.854722Z"
    },
    "papermill": {
     "duration": 0.02482,
     "end_time": "2025-07-03T01:07:09.856364",
     "exception": false,
     "start_time": "2025-07-03T01:07:09.831544",
     "status": "completed"
    },
    "tags": []
   },
   "outputs": [
    {
     "name": "stdout",
     "output_type": "stream",
     "text": [
      "                  MissingCount  MissingPercentage\n",
      "RecordID                     0                0.0\n",
      "Offense                      0                0.0\n",
      "IncidentID                   0                0.0\n",
      "Agency                       0                0.0\n",
      "ReportingOfficer             0                0.0\n",
      "Date                         0                0.0\n",
      "DayOfWeek                    0                0.0\n",
      "Weekend                      0                0.0\n",
      "Season                       0                0.0\n",
      "TimeOfDay                    0                0.0\n",
      "FullStreet                   0                0.0\n",
      "lat                          0                0.0\n",
      "lon                          0                0.0\n",
      "neighborhood                 0                0.0\n",
      "zip                          0                0.0\n"
     ]
    }
   ],
   "source": [
    "missing_info = missing_percentage(df)\n",
    "print(missing_info)"
   ]
  },
  {
   "cell_type": "code",
   "execution_count": 16,
   "id": "be139368",
   "metadata": {
    "execution": {
     "iopub.execute_input": "2025-07-03T01:07:09.872184Z",
     "iopub.status.busy": "2025-07-03T01:07:09.871685Z",
     "iopub.status.idle": "2025-07-03T01:07:09.876773Z",
     "shell.execute_reply": "2025-07-03T01:07:09.876139Z"
    },
    "papermill": {
     "duration": 0.014485,
     "end_time": "2025-07-03T01:07:09.878093",
     "exception": false,
     "start_time": "2025-07-03T01:07:09.863608",
     "status": "completed"
    },
    "tags": []
   },
   "outputs": [
    {
     "data": {
      "text/plain": [
       "Index(['RecordID', 'Offense', 'IncidentID', 'Agency', 'ReportingOfficer',\n",
       "       'Date', 'DayOfWeek', 'Weekend', 'Season', 'TimeOfDay', 'FullStreet',\n",
       "       'lat', 'lon', 'neighborhood', 'zip'],\n",
       "      dtype='object')"
      ]
     },
     "execution_count": 16,
     "metadata": {},
     "output_type": "execute_result"
    }
   ],
   "source": [
    "df.columns"
   ]
  },
  {
   "cell_type": "code",
   "execution_count": 17,
   "id": "787ae285",
   "metadata": {
    "execution": {
     "iopub.execute_input": "2025-07-03T01:07:09.901973Z",
     "iopub.status.busy": "2025-07-03T01:07:09.901537Z",
     "iopub.status.idle": "2025-07-03T01:07:09.924328Z",
     "shell.execute_reply": "2025-07-03T01:07:09.923630Z"
    },
    "papermill": {
     "duration": 0.035097,
     "end_time": "2025-07-03T01:07:09.925339",
     "exception": false,
     "start_time": "2025-07-03T01:07:09.890242",
     "status": "completed"
    },
    "tags": []
   },
   "outputs": [
    {
     "name": "stdout",
     "output_type": "stream",
     "text": [
      "<class 'pandas.core.frame.DataFrame'>\n",
      "RangeIndex: 25542 entries, 0 to 25541\n",
      "Data columns (total 15 columns):\n",
      " #   Column            Non-Null Count  Dtype         \n",
      "---  ------            --------------  -----         \n",
      " 0   RecordID          25542 non-null  int64         \n",
      " 1   Offense           25542 non-null  object        \n",
      " 2   IncidentID        25542 non-null  object        \n",
      " 3   Agency            25542 non-null  object        \n",
      " 4   ReportingOfficer  25542 non-null  object        \n",
      " 5   Date              25542 non-null  datetime64[ns]\n",
      " 6   DayOfWeek         25542 non-null  object        \n",
      " 7   Weekend           25542 non-null  bool          \n",
      " 8   Season            25542 non-null  object        \n",
      " 9   TimeOfDay         25542 non-null  object        \n",
      " 10  FullStreet        25542 non-null  object        \n",
      " 11  lat               25542 non-null  object        \n",
      " 12  lon               25542 non-null  object        \n",
      " 13  neighborhood      25542 non-null  object        \n",
      " 14  zip               25542 non-null  object        \n",
      "dtypes: bool(1), datetime64[ns](1), int64(1), object(12)\n",
      "memory usage: 2.8+ MB\n"
     ]
    }
   ],
   "source": [
    "df.info()"
   ]
  },
  {
   "cell_type": "markdown",
   "id": "1276c7af",
   "metadata": {
    "papermill": {
     "duration": 0.007466,
     "end_time": "2025-07-03T01:07:09.940489",
     "exception": false,
     "start_time": "2025-07-03T01:07:09.933023",
     "status": "completed"
    },
    "tags": []
   },
   "source": [
    "### Export Clean Data"
   ]
  },
  {
   "cell_type": "code",
   "execution_count": 18,
   "id": "0245762c",
   "metadata": {
    "execution": {
     "iopub.execute_input": "2025-07-03T01:07:09.956248Z",
     "iopub.status.busy": "2025-07-03T01:07:09.955843Z",
     "iopub.status.idle": "2025-07-03T01:07:19.074194Z",
     "shell.execute_reply": "2025-07-03T01:07:19.073502Z"
    },
    "papermill": {
     "duration": 9.127483,
     "end_time": "2025-07-03T01:07:19.075270",
     "exception": false,
     "start_time": "2025-07-03T01:07:09.947787",
     "status": "completed"
    },
    "tags": []
   },
   "outputs": [
    {
     "name": "stdout",
     "output_type": "stream",
     "text": [
      "Project Root: /home/runner/work/crime-data/crime-data\n"
     ]
    },
    {
     "name": "stdout",
     "output_type": "stream",
     "text": [
      "Data saved to: /home/runner/work/crime-data/crime-data/data/charlottesville_crime_incidents.csv\n"
     ]
    },
    {
     "name": "stdout",
     "output_type": "stream",
     "text": [
      "Excel saved to: /home/runner/work/crime-data/crime-data/data/charlottesville_crime_incidents.xlsx\n"
     ]
    }
   ],
   "source": [
    "# Determine the project root (assuming papermill is run from the repository root)\n",
    "project_root = os.getcwd()\n",
    "print(\"Project Root:\", project_root)\n",
    "\n",
    "# Set the data directory within the project root\n",
    "data_dir = os.path.join(project_root, \"data\")\n",
    "\n",
    "# Ensure the \"data\" directory exists (create it if it doesn't)\n",
    "if not os.path.exists(data_dir):\n",
    "    os.makedirs(data_dir)\n",
    "\n",
    "# Export the DataFrame to CSV in the \"data\" folder located in the project root\n",
    "csv_path = os.path.join(data_dir, \"charlottesville_crime_incidents.csv\")\n",
    "df.to_csv(csv_path, index=False)\n",
    "print(\"Data saved to:\", csv_path)\n",
    "\n",
    "# Construct the path to your Excel file\n",
    "excel_path = os.path.join(data_dir, \"charlottesville_crime_incidents.xlsx\")\n",
    "\n",
    "# Export the DataFrame to Excel\n",
    "df.to_excel(excel_path, index=False)\n",
    "print(\"Excel saved to:\", excel_path)\n"
   ]
  }
 ],
 "metadata": {
  "kernelspec": {
   "display_name": "Python 3",
   "language": "python",
   "name": "python3"
  },
  "language_info": {
   "codemirror_mode": {
    "name": "ipython",
    "version": 3
   },
   "file_extension": ".py",
   "mimetype": "text/x-python",
   "name": "python",
   "nbconvert_exporter": "python",
   "pygments_lexer": "ipython3",
   "version": "3.9.23"
  },
  "papermill": {
   "default_parameters": {},
   "duration": 124.871706,
   "end_time": "2025-07-03T01:07:19.499575",
   "environment_variables": {},
   "exception": null,
   "input_path": "notebook/Crime Data.ipynb",
   "output_path": "notebook/Crime Data_output.ipynb",
   "parameters": {},
   "start_time": "2025-07-03T01:05:14.627869",
   "version": "2.6.0"
  }
 },
 "nbformat": 4,
 "nbformat_minor": 5
}