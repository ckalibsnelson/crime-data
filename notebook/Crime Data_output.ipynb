{
 "cells": [
  {
   "cell_type": "markdown",
   "id": "95f52165",
   "metadata": {
    "papermill": {
     "duration": 0.006223,
     "end_time": "2025-05-09T01:02:12.035517",
     "exception": false,
     "start_time": "2025-05-09T01:02:12.029294",
     "status": "completed"
    },
    "tags": []
   },
   "source": [
    "# Charlottesville Open Data Porttal: Crime Data"
   ]
  },
  {
   "cell_type": "markdown",
   "id": "b8a31bea",
   "metadata": {
    "papermill": {
     "duration": 0.005077,
     "end_time": "2025-05-09T01:02:12.046016",
     "exception": false,
     "start_time": "2025-05-09T01:02:12.040939",
     "status": "completed"
    },
    "tags": []
   },
   "source": [
    "## Import Relevant Librarires & Set WD"
   ]
  },
  {
   "cell_type": "code",
   "execution_count": 1,
   "id": "6db6d60b",
   "metadata": {
    "execution": {
     "iopub.execute_input": "2025-05-09T01:02:12.057848Z",
     "iopub.status.busy": "2025-05-09T01:02:12.057179Z",
     "iopub.status.idle": "2025-05-09T01:02:12.717850Z",
     "shell.execute_reply": "2025-05-09T01:02:12.717108Z"
    },
    "papermill": {
     "duration": 0.668112,
     "end_time": "2025-05-09T01:02:12.719251",
     "exception": false,
     "start_time": "2025-05-09T01:02:12.051139",
     "status": "completed"
    },
    "tags": []
   },
   "outputs": [],
   "source": [
    "import requests\n",
    "import pandas as pd\n",
    "import numpy as np\n",
    "import pickle\n",
    "import googlemaps\n",
    "import plotly.express as px\n",
    "from geopy.geocoders import Nominatim\n",
    "import time\n",
    "from dotenv import load_dotenv\n",
    "import os\n",
    "\n",
    "env_path = os.path.join(\"..\", \".env\")\n",
    "#print(\"Looking for .env file at:\", os.path.abspath(env_path))\n",
    "load_dotenv(dotenv_path=env_path)\n",
    "\n",
    "# Retrieve the variables\n",
    "GOOGLE_API_KEY = os.getenv(\"GOOGLE_API_KEY\")\n",
    "WORKING_DIR = os.getenv(\"WORKING_DIR\")\n",
    "\n",
    "if GOOGLE_API_KEY is None or WORKING_DIR is None:\n",
    "    raise RuntimeError(\"No configuration found. Please ensure that your .env file exists with the required variables, or create a local config.py file.\")\n",
    "\n",
    "#print(\"Google API Key:\", GOOGLE_API_KEY)\n",
    "#print(\"Working Directory:\", WORKING_DIR)"
   ]
  },
  {
   "cell_type": "markdown",
   "id": "4bcc0715",
   "metadata": {
    "papermill": {
     "duration": 0.005003,
     "end_time": "2025-05-09T01:02:12.729742",
     "exception": false,
     "start_time": "2025-05-09T01:02:12.724739",
     "status": "completed"
    },
    "tags": []
   },
   "source": [
    "## Import Data\n",
    "\n",
    "URL: https://opendata.charlottesville.org/datasets/charlottesville::crime-data/about"
   ]
  },
  {
   "cell_type": "code",
   "execution_count": 2,
   "id": "8c5d5493",
   "metadata": {
    "execution": {
     "iopub.execute_input": "2025-05-09T01:02:12.741070Z",
     "iopub.status.busy": "2025-05-09T01:02:12.740574Z",
     "iopub.status.idle": "2025-05-09T01:03:16.477857Z",
     "shell.execute_reply": "2025-05-09T01:03:16.477141Z"
    },
    "papermill": {
     "duration": 63.749579,
     "end_time": "2025-05-09T01:03:16.484386",
     "exception": false,
     "start_time": "2025-05-09T01:02:12.734807",
     "status": "completed"
    },
    "tags": []
   },
   "outputs": [
    {
     "name": "stdout",
     "output_type": "stream",
     "text": [
      "Total records imported: 25356\n"
     ]
    }
   ],
   "source": [
    "# Define the endpoint and initial parameters.\n",
    "url = \"https://gisweb.charlottesville.org/arcgis/rest/services/OpenData_2/MapServer/6/query\"\n",
    "params = {\n",
    "    \"where\": \"1=1\",\n",
    "    \"outFields\": \"*\",\n",
    "    \"outSR\": 4326,\n",
    "    \"f\": \"json\",\n",
    "    \"resultOffset\": 0,       # Starting index for results\n",
    "    \"resultRecordCount\": 10000  # Maximum records per batch (if allowed by the API)\n",
    "}\n",
    "\n",
    "records = []\n",
    "\n",
    "while True:\n",
    "    response = requests.get(url, params=params)\n",
    "    response.raise_for_status()\n",
    "    data = response.json()\n",
    "    \n",
    "    # Get the current batch of features.\n",
    "    features = data.get(\"features\", [])\n",
    "    if not features:\n",
    "        break\n",
    "\n",
    "    # Extract the attributes from the features.\n",
    "    batch_records = [feature.get(\"attributes\", {}) for feature in features]\n",
    "    records.extend(batch_records)\n",
    "    \n",
    "    # If the batch size is less than the requested count, we reached the end.\n",
    "    if len(features) < params[\"resultRecordCount\"]:\n",
    "        break\n",
    "\n",
    "    # Update the resultOffset for the next batch.\n",
    "    params[\"resultOffset\"] += params[\"resultRecordCount\"]\n",
    "\n",
    "# Create a DataFrame from the combined records.\n",
    "df = pd.DataFrame(records)\n",
    "print(\"Total records imported:\", len(df))\n"
   ]
  },
  {
   "cell_type": "code",
   "execution_count": 3,
   "id": "afeb40e4",
   "metadata": {
    "execution": {
     "iopub.execute_input": "2025-05-09T01:03:16.520897Z",
     "iopub.status.busy": "2025-05-09T01:03:16.520381Z",
     "iopub.status.idle": "2025-05-09T01:03:16.533053Z",
     "shell.execute_reply": "2025-05-09T01:03:16.532460Z"
    },
    "papermill": {
     "duration": 0.044221,
     "end_time": "2025-05-09T01:03:16.534055",
     "exception": false,
     "start_time": "2025-05-09T01:03:16.489834",
     "status": "completed"
    },
    "tags": []
   },
   "outputs": [
    {
     "data": {
      "text/html": [
       "<div>\n",
       "<style scoped>\n",
       "    .dataframe tbody tr th:only-of-type {\n",
       "        vertical-align: middle;\n",
       "    }\n",
       "\n",
       "    .dataframe tbody tr th {\n",
       "        vertical-align: top;\n",
       "    }\n",
       "\n",
       "    .dataframe thead th {\n",
       "        text-align: right;\n",
       "    }\n",
       "</style>\n",
       "<table border=\"1\" class=\"dataframe\">\n",
       "  <thead>\n",
       "    <tr style=\"text-align: right;\">\n",
       "      <th></th>\n",
       "      <th>RecordID</th>\n",
       "      <th>Offense</th>\n",
       "      <th>IncidentID</th>\n",
       "      <th>BlockNumber</th>\n",
       "      <th>StreetName</th>\n",
       "      <th>Agency</th>\n",
       "      <th>DateReported</th>\n",
       "      <th>HourReported</th>\n",
       "      <th>ReportingOfficer</th>\n",
       "    </tr>\n",
       "  </thead>\n",
       "  <tbody>\n",
       "    <tr>\n",
       "      <th>0</th>\n",
       "      <td>1</td>\n",
       "      <td>Robbery - Armed</td>\n",
       "      <td>202500015222</td>\n",
       "      <td>400</td>\n",
       "      <td>14TH ST NW</td>\n",
       "      <td>CPD</td>\n",
       "      <td>1746584849000</td>\n",
       "      <td>2227</td>\n",
       "      <td>Love-Baker, Sydney</td>\n",
       "    </tr>\n",
       "    <tr>\n",
       "      <th>1</th>\n",
       "      <td>2</td>\n",
       "      <td>Drug Equipment Violation</td>\n",
       "      <td>202500015189</td>\n",
       "      <td>100</td>\n",
       "      <td>E MARKET ST</td>\n",
       "      <td>CPD</td>\n",
       "      <td>1746569281000</td>\n",
       "      <td>1808</td>\n",
       "      <td>Ryan, Matthew</td>\n",
       "    </tr>\n",
       "    <tr>\n",
       "      <th>2</th>\n",
       "      <td>3</td>\n",
       "      <td>Hit and Run</td>\n",
       "      <td>202500015184</td>\n",
       "      <td>200</td>\n",
       "      <td>6TH ST NW</td>\n",
       "      <td>CPD</td>\n",
       "      <td>1746565780000</td>\n",
       "      <td>1709</td>\n",
       "      <td>Crowley, Raeann</td>\n",
       "    </tr>\n",
       "    <tr>\n",
       "      <th>3</th>\n",
       "      <td>4</td>\n",
       "      <td>Assist Citizen - Mental/TDO/ECO</td>\n",
       "      <td>202500015171</td>\n",
       "      <td>1900</td>\n",
       "      <td>CEDAR HILL RD</td>\n",
       "      <td>CPD</td>\n",
       "      <td>1746560516000</td>\n",
       "      <td>1541</td>\n",
       "      <td>Bland, Johnnà</td>\n",
       "    </tr>\n",
       "    <tr>\n",
       "      <th>4</th>\n",
       "      <td>5</td>\n",
       "      <td>Lost/FoundProperty</td>\n",
       "      <td>202500015175</td>\n",
       "      <td>1600</td>\n",
       "      <td>UNIVERSITY AVE</td>\n",
       "      <td>CPD</td>\n",
       "      <td>1746559695000</td>\n",
       "      <td>1528</td>\n",
       "      <td>Crowley, Raeann</td>\n",
       "    </tr>\n",
       "  </tbody>\n",
       "</table>\n",
       "</div>"
      ],
      "text/plain": [
       "   RecordID                          Offense    IncidentID BlockNumber  \\\n",
       "0         1                  Robbery - Armed  202500015222         400   \n",
       "1         2         Drug Equipment Violation  202500015189         100   \n",
       "2         3                      Hit and Run  202500015184         200   \n",
       "3         4  Assist Citizen - Mental/TDO/ECO  202500015171        1900   \n",
       "4         5               Lost/FoundProperty  202500015175        1600   \n",
       "\n",
       "       StreetName Agency   DateReported HourReported    ReportingOfficer  \n",
       "0      14TH ST NW    CPD  1746584849000         2227  Love-Baker, Sydney  \n",
       "1     E MARKET ST    CPD  1746569281000         1808       Ryan, Matthew  \n",
       "2       6TH ST NW    CPD  1746565780000         1709     Crowley, Raeann  \n",
       "3   CEDAR HILL RD    CPD  1746560516000         1541       Bland, Johnnà  \n",
       "4  UNIVERSITY AVE    CPD  1746559695000         1528     Crowley, Raeann  "
      ]
     },
     "execution_count": 3,
     "metadata": {},
     "output_type": "execute_result"
    }
   ],
   "source": [
    "df.head()"
   ]
  },
  {
   "cell_type": "code",
   "execution_count": 4,
   "id": "b4ca8447",
   "metadata": {
    "execution": {
     "iopub.execute_input": "2025-05-09T01:03:16.546074Z",
     "iopub.status.busy": "2025-05-09T01:03:16.545835Z",
     "iopub.status.idle": "2025-05-09T01:03:16.550386Z",
     "shell.execute_reply": "2025-05-09T01:03:16.549863Z"
    },
    "papermill": {
     "duration": 0.011709,
     "end_time": "2025-05-09T01:03:16.551446",
     "exception": false,
     "start_time": "2025-05-09T01:03:16.539737",
     "status": "completed"
    },
    "tags": []
   },
   "outputs": [
    {
     "data": {
      "text/plain": [
       "Index(['RecordID', 'Offense', 'IncidentID', 'BlockNumber', 'StreetName',\n",
       "       'Agency', 'DateReported', 'HourReported', 'ReportingOfficer'],\n",
       "      dtype='object')"
      ]
     },
     "execution_count": 4,
     "metadata": {},
     "output_type": "execute_result"
    }
   ],
   "source": [
    "df.columns"
   ]
  },
  {
   "cell_type": "code",
   "execution_count": 5,
   "id": "57e4fd20",
   "metadata": {
    "execution": {
     "iopub.execute_input": "2025-05-09T01:03:16.563431Z",
     "iopub.status.busy": "2025-05-09T01:03:16.563019Z",
     "iopub.status.idle": "2025-05-09T01:03:16.587976Z",
     "shell.execute_reply": "2025-05-09T01:03:16.587417Z"
    },
    "papermill": {
     "duration": 0.032006,
     "end_time": "2025-05-09T01:03:16.589012",
     "exception": false,
     "start_time": "2025-05-09T01:03:16.557006",
     "status": "completed"
    },
    "tags": []
   },
   "outputs": [
    {
     "name": "stdout",
     "output_type": "stream",
     "text": [
      "<class 'pandas.core.frame.DataFrame'>\n",
      "RangeIndex: 25356 entries, 0 to 25355\n",
      "Data columns (total 9 columns):\n",
      " #   Column            Non-Null Count  Dtype \n",
      "---  ------            --------------  ----- \n",
      " 0   RecordID          25356 non-null  int64 \n",
      " 1   Offense           25356 non-null  object\n",
      " 2   IncidentID        25356 non-null  object\n",
      " 3   BlockNumber       25356 non-null  object\n",
      " 4   StreetName        25356 non-null  object\n",
      " 5   Agency            25356 non-null  object\n",
      " 6   DateReported      25356 non-null  int64 \n",
      " 7   HourReported      25356 non-null  object\n",
      " 8   ReportingOfficer  25339 non-null  object\n",
      "dtypes: int64(2), object(7)\n",
      "memory usage: 1.7+ MB\n"
     ]
    }
   ],
   "source": [
    "df.info()"
   ]
  },
  {
   "cell_type": "markdown",
   "id": "3eaafe0c",
   "metadata": {
    "papermill": {
     "duration": 0.005505,
     "end_time": "2025-05-09T01:03:16.600391",
     "exception": false,
     "start_time": "2025-05-09T01:03:16.594886",
     "status": "completed"
    },
    "tags": []
   },
   "source": [
    "### Missing Values"
   ]
  },
  {
   "cell_type": "code",
   "execution_count": 6,
   "id": "8da1fdfe",
   "metadata": {
    "execution": {
     "iopub.execute_input": "2025-05-09T01:03:16.612705Z",
     "iopub.status.busy": "2025-05-09T01:03:16.612239Z",
     "iopub.status.idle": "2025-05-09T01:03:16.637565Z",
     "shell.execute_reply": "2025-05-09T01:03:16.636965Z"
    },
    "papermill": {
     "duration": 0.032663,
     "end_time": "2025-05-09T01:03:16.638628",
     "exception": false,
     "start_time": "2025-05-09T01:03:16.605965",
     "status": "completed"
    },
    "tags": []
   },
   "outputs": [
    {
     "name": "stdout",
     "output_type": "stream",
     "text": [
      "                  MissingCount  MissingPercentage\n",
      "RecordID                     0               0.00\n",
      "Offense                      0               0.00\n",
      "IncidentID                   0               0.00\n",
      "BlockNumber                  0               0.00\n",
      "StreetName                   0               0.00\n",
      "Agency                       0               0.00\n",
      "DateReported                 0               0.00\n",
      "HourReported                 0               0.00\n",
      "ReportingOfficer            17               0.07\n"
     ]
    }
   ],
   "source": [
    "def missing_percentage(df):\n",
    "    \"\"\"\n",
    "    Returns a DataFrame with the count and percentage of missing values for each column.\n",
    "    \n",
    "    Parameters:\n",
    "        df (pd.DataFrame): The input DataFrame.\n",
    "    \n",
    "    Returns:\n",
    "        pd.DataFrame: A DataFrame with columns 'MissingCount' and 'MissingPercentage'.\n",
    "    \"\"\"\n",
    "    total_rows = len(df)\n",
    "    missing_count = df.isnull().sum()\n",
    "    missing_percent = (missing_count / total_rows) * 100\n",
    "    \n",
    "    result = pd.DataFrame({\n",
    "        'MissingCount': missing_count,\n",
    "        'MissingPercentage': missing_percent.round(2)\n",
    "    })\n",
    "    \n",
    "    return result\n",
    "\n",
    "# Example usage:\n",
    "missing_info = missing_percentage(df)\n",
    "print(missing_info)\n"
   ]
  },
  {
   "cell_type": "markdown",
   "id": "df7f0dc4",
   "metadata": {
    "papermill": {
     "duration": 0.005582,
     "end_time": "2025-05-09T01:03:16.650248",
     "exception": false,
     "start_time": "2025-05-09T01:03:16.644666",
     "status": "completed"
    },
    "tags": []
   },
   "source": [
    "## Data Preparation"
   ]
  },
  {
   "cell_type": "markdown",
   "id": "9a7d9db8",
   "metadata": {
    "papermill": {
     "duration": 0.005504,
     "end_time": "2025-05-09T01:03:16.661382",
     "exception": false,
     "start_time": "2025-05-09T01:03:16.655878",
     "status": "completed"
    },
    "tags": []
   },
   "source": [
    "### Data Conversion"
   ]
  },
  {
   "cell_type": "code",
   "execution_count": 7,
   "id": "6f98874d",
   "metadata": {
    "execution": {
     "iopub.execute_input": "2025-05-09T01:03:16.673957Z",
     "iopub.status.busy": "2025-05-09T01:03:16.673464Z",
     "iopub.status.idle": "2025-05-09T01:03:17.046952Z",
     "shell.execute_reply": "2025-05-09T01:03:17.046340Z"
    },
    "papermill": {
     "duration": 0.381021,
     "end_time": "2025-05-09T01:03:17.048028",
     "exception": false,
     "start_time": "2025-05-09T01:03:16.667007",
     "status": "completed"
    },
    "tags": []
   },
   "outputs": [
    {
     "data": {
      "text/html": [
       "<div>\n",
       "<style scoped>\n",
       "    .dataframe tbody tr th:only-of-type {\n",
       "        vertical-align: middle;\n",
       "    }\n",
       "\n",
       "    .dataframe tbody tr th {\n",
       "        vertical-align: top;\n",
       "    }\n",
       "\n",
       "    .dataframe thead th {\n",
       "        text-align: right;\n",
       "    }\n",
       "</style>\n",
       "<table border=\"1\" class=\"dataframe\">\n",
       "  <thead>\n",
       "    <tr style=\"text-align: right;\">\n",
       "      <th></th>\n",
       "      <th>RecordID</th>\n",
       "      <th>Offense</th>\n",
       "      <th>IncidentID</th>\n",
       "      <th>BlockNumber</th>\n",
       "      <th>StreetName</th>\n",
       "      <th>Agency</th>\n",
       "      <th>HourReported</th>\n",
       "      <th>ReportingOfficer</th>\n",
       "      <th>Date</th>\n",
       "      <th>DateString</th>\n",
       "      <th>DayOfWeek</th>\n",
       "      <th>Weekend</th>\n",
       "      <th>Season</th>\n",
       "      <th>HourAMPM</th>\n",
       "      <th>TimeOfDay</th>\n",
       "    </tr>\n",
       "  </thead>\n",
       "  <tbody>\n",
       "    <tr>\n",
       "      <th>0</th>\n",
       "      <td>1</td>\n",
       "      <td>Robbery - Armed</td>\n",
       "      <td>202500015222</td>\n",
       "      <td>400</td>\n",
       "      <td>14TH ST NW</td>\n",
       "      <td>CPD</td>\n",
       "      <td>2227</td>\n",
       "      <td>Love-Baker, Sydney</td>\n",
       "      <td>2025-05-06 22:27:29</td>\n",
       "      <td>2025-05-06 10:27:29 PM</td>\n",
       "      <td>Tuesday</td>\n",
       "      <td>False</td>\n",
       "      <td>Spring</td>\n",
       "      <td>10:27 PM</td>\n",
       "      <td>Night</td>\n",
       "    </tr>\n",
       "    <tr>\n",
       "      <th>1</th>\n",
       "      <td>2</td>\n",
       "      <td>Drug Equipment Violation</td>\n",
       "      <td>202500015189</td>\n",
       "      <td>100</td>\n",
       "      <td>E MARKET ST</td>\n",
       "      <td>CPD</td>\n",
       "      <td>1808</td>\n",
       "      <td>Ryan, Matthew</td>\n",
       "      <td>2025-05-06 18:08:01</td>\n",
       "      <td>2025-05-06 06:08:01 PM</td>\n",
       "      <td>Tuesday</td>\n",
       "      <td>False</td>\n",
       "      <td>Spring</td>\n",
       "      <td>06:08 PM</td>\n",
       "      <td>Evening</td>\n",
       "    </tr>\n",
       "    <tr>\n",
       "      <th>2</th>\n",
       "      <td>3</td>\n",
       "      <td>Hit and Run</td>\n",
       "      <td>202500015184</td>\n",
       "      <td>200</td>\n",
       "      <td>6TH ST NW</td>\n",
       "      <td>CPD</td>\n",
       "      <td>1709</td>\n",
       "      <td>Crowley, Raeann</td>\n",
       "      <td>2025-05-06 17:09:40</td>\n",
       "      <td>2025-05-06 05:09:40 PM</td>\n",
       "      <td>Tuesday</td>\n",
       "      <td>False</td>\n",
       "      <td>Spring</td>\n",
       "      <td>05:09 PM</td>\n",
       "      <td>Evening</td>\n",
       "    </tr>\n",
       "    <tr>\n",
       "      <th>3</th>\n",
       "      <td>4</td>\n",
       "      <td>Assist Citizen - Mental/TDO/ECO</td>\n",
       "      <td>202500015171</td>\n",
       "      <td>1900</td>\n",
       "      <td>CEDAR HILL RD</td>\n",
       "      <td>CPD</td>\n",
       "      <td>1541</td>\n",
       "      <td>Bland, Johnnà</td>\n",
       "      <td>2025-05-06 15:41:56</td>\n",
       "      <td>2025-05-06 03:41:56 PM</td>\n",
       "      <td>Tuesday</td>\n",
       "      <td>False</td>\n",
       "      <td>Spring</td>\n",
       "      <td>03:41 PM</td>\n",
       "      <td>Afternoon</td>\n",
       "    </tr>\n",
       "    <tr>\n",
       "      <th>4</th>\n",
       "      <td>5</td>\n",
       "      <td>Lost/FoundProperty</td>\n",
       "      <td>202500015175</td>\n",
       "      <td>1600</td>\n",
       "      <td>UNIVERSITY AVE</td>\n",
       "      <td>CPD</td>\n",
       "      <td>1528</td>\n",
       "      <td>Crowley, Raeann</td>\n",
       "      <td>2025-05-06 15:28:15</td>\n",
       "      <td>2025-05-06 03:28:15 PM</td>\n",
       "      <td>Tuesday</td>\n",
       "      <td>False</td>\n",
       "      <td>Spring</td>\n",
       "      <td>03:28 PM</td>\n",
       "      <td>Afternoon</td>\n",
       "    </tr>\n",
       "  </tbody>\n",
       "</table>\n",
       "</div>"
      ],
      "text/plain": [
       "   RecordID                          Offense    IncidentID BlockNumber  \\\n",
       "0         1                  Robbery - Armed  202500015222         400   \n",
       "1         2         Drug Equipment Violation  202500015189         100   \n",
       "2         3                      Hit and Run  202500015184         200   \n",
       "3         4  Assist Citizen - Mental/TDO/ECO  202500015171        1900   \n",
       "4         5               Lost/FoundProperty  202500015175        1600   \n",
       "\n",
       "       StreetName Agency HourReported    ReportingOfficer                Date  \\\n",
       "0      14TH ST NW    CPD         2227  Love-Baker, Sydney 2025-05-06 22:27:29   \n",
       "1     E MARKET ST    CPD         1808       Ryan, Matthew 2025-05-06 18:08:01   \n",
       "2       6TH ST NW    CPD         1709     Crowley, Raeann 2025-05-06 17:09:40   \n",
       "3   CEDAR HILL RD    CPD         1541       Bland, Johnnà 2025-05-06 15:41:56   \n",
       "4  UNIVERSITY AVE    CPD         1528     Crowley, Raeann 2025-05-06 15:28:15   \n",
       "\n",
       "               DateString DayOfWeek  Weekend  Season  HourAMPM  TimeOfDay  \n",
       "0  2025-05-06 10:27:29 PM   Tuesday    False  Spring  10:27 PM      Night  \n",
       "1  2025-05-06 06:08:01 PM   Tuesday    False  Spring  06:08 PM    Evening  \n",
       "2  2025-05-06 05:09:40 PM   Tuesday    False  Spring  05:09 PM    Evening  \n",
       "3  2025-05-06 03:41:56 PM   Tuesday    False  Spring  03:41 PM  Afternoon  \n",
       "4  2025-05-06 03:28:15 PM   Tuesday    False  Spring  03:28 PM  Afternoon  "
      ]
     },
     "execution_count": 7,
     "metadata": {},
     "output_type": "execute_result"
    }
   ],
   "source": [
    "def convert_and_categorize_datereported(df, col='DateReported'):\n",
    "    \"\"\"\n",
    "    Converts an epoch (in milliseconds) date column into a timezone-aware datetime,\n",
    "    converts it to Eastern Time, and then creates columns for day-of-week, weekend flag,\n",
    "    season, 12-hour formatted time, and time-of-day. Keeps both a real datetime column\n",
    "    (Date) and a string representation (DateString).\n",
    "    \"\"\"\n",
    "    import pandas as pd\n",
    "\n",
    "    # Convert the epoch timestamp to a pandas datetime object as UTC, then convert to US/Eastern.\n",
    "    df[\"DateReported_dt\"] = (\n",
    "        pd.to_datetime(df[col], unit=\"ms\", errors=\"coerce\", utc=True)\n",
    "        .dt.tz_convert(\"US/Eastern\")\n",
    "    )\n",
    "    \n",
    "    # Create a true datetime column (remove timezone if you prefer naive datetime)\n",
    "    df[\"Date\"] = df[\"DateReported_dt\"].dt.tz_localize(None)\n",
    "\n",
    "    # Optionally, create a separate string-formatted column\n",
    "    df[\"DateString\"] = df[\"DateReported_dt\"].dt.strftime(\"%Y-%m-%d %I:%M:%S %p\")\n",
    "    \n",
    "    # DayOfWeek\n",
    "    df[\"DayOfWeek\"] = df[\"DateReported_dt\"].dt.day_name()\n",
    "    \n",
    "    # Weekend\n",
    "    df[\"Weekend\"] = df[\"DayOfWeek\"].isin([\"Saturday\", \"Sunday\"])\n",
    "    \n",
    "    # Helper function to determine the season\n",
    "    def get_season(dt):\n",
    "        month = dt.month\n",
    "        day = dt.day\n",
    "        # Approximate Northern Hemisphere season boundaries:\n",
    "        if (month == 12 and day >= 21) or (month < 3) or (month == 3 and day < 20):\n",
    "            return \"Winter\"\n",
    "        elif (month == 3 and day >= 20) or (month < 6) or (month == 6 and day < 21):\n",
    "            return \"Spring\"\n",
    "        elif (month == 6 and day >= 21) or (month < 9) or (month == 9 and day < 22):\n",
    "            return \"Summer\"\n",
    "        else:\n",
    "            return \"Autumn\"\n",
    "    \n",
    "    df[\"Season\"] = df[\"DateReported_dt\"].apply(get_season)\n",
    "    \n",
    "    # 12-hour formatted time (HourAMPM)\n",
    "    df[\"HourAMPM\"] = df[\"DateReported_dt\"].dt.strftime(\"%I:%M %p\")\n",
    "    \n",
    "    # Extract hour (0-23) for time-of-day\n",
    "    df[\"HourValue\"] = df[\"DateReported_dt\"].dt.hour\n",
    "    \n",
    "    def time_of_day(hour):\n",
    "        if pd.isnull(hour):\n",
    "            return None\n",
    "        if 5 <= hour < 12:\n",
    "            return \"Morning\"\n",
    "        elif 12 <= hour < 17:\n",
    "            return \"Afternoon\"\n",
    "        elif 17 <= hour < 21:\n",
    "            return \"Evening\"\n",
    "        else:\n",
    "            return \"Night\"\n",
    "    \n",
    "    df[\"TimeOfDay\"] = df[\"HourValue\"].apply(time_of_day)\n",
    "    \n",
    "    # Drop columns you no longer need\n",
    "    df.drop(columns=[col, \"DateReported_dt\", \"HourValue\"], inplace=True)\n",
    "    \n",
    "    return df\n",
    "\n",
    "# Example usage:\n",
    "df = convert_and_categorize_datereported(df)\n",
    "df.head()\n"
   ]
  },
  {
   "cell_type": "code",
   "execution_count": 8,
   "id": "7f37f50d",
   "metadata": {
    "execution": {
     "iopub.execute_input": "2025-05-09T01:03:17.061644Z",
     "iopub.status.busy": "2025-05-09T01:03:17.061227Z",
     "iopub.status.idle": "2025-05-09T01:03:17.091992Z",
     "shell.execute_reply": "2025-05-09T01:03:17.091373Z"
    },
    "papermill": {
     "duration": 0.038712,
     "end_time": "2025-05-09T01:03:17.093056",
     "exception": false,
     "start_time": "2025-05-09T01:03:17.054344",
     "status": "completed"
    },
    "tags": []
   },
   "outputs": [
    {
     "name": "stdout",
     "output_type": "stream",
     "text": [
      "<class 'pandas.core.frame.DataFrame'>\n",
      "RangeIndex: 25356 entries, 0 to 25355\n",
      "Data columns (total 15 columns):\n",
      " #   Column            Non-Null Count  Dtype         \n",
      "---  ------            --------------  -----         \n",
      " 0   RecordID          25356 non-null  int64         \n",
      " 1   Offense           25356 non-null  object        \n",
      " 2   IncidentID        25356 non-null  object        \n",
      " 3   BlockNumber       25356 non-null  object        \n",
      " 4   StreetName        25356 non-null  object        \n",
      " 5   Agency            25356 non-null  object        \n",
      " 6   HourReported      25356 non-null  object        \n",
      " 7   ReportingOfficer  25339 non-null  object        \n",
      " 8   Date              25356 non-null  datetime64[ns]\n",
      " 9   DateString        25356 non-null  object        \n",
      " 10  DayOfWeek         25356 non-null  object        \n",
      " 11  Weekend           25356 non-null  bool          \n",
      " 12  Season            25356 non-null  object        \n",
      " 13  HourAMPM          25356 non-null  object        \n",
      " 14  TimeOfDay         25356 non-null  object        \n",
      "dtypes: bool(1), datetime64[ns](1), int64(1), object(12)\n",
      "memory usage: 2.7+ MB\n"
     ]
    }
   ],
   "source": [
    "df.info()"
   ]
  },
  {
   "cell_type": "markdown",
   "id": "bc3e7050",
   "metadata": {
    "papermill": {
     "duration": 0.006087,
     "end_time": "2025-05-09T01:03:17.105421",
     "exception": false,
     "start_time": "2025-05-09T01:03:17.099334",
     "status": "completed"
    },
    "tags": []
   },
   "source": [
    "### Coordinates"
   ]
  },
  {
   "cell_type": "code",
   "execution_count": 9,
   "id": "e856cd5e",
   "metadata": {
    "execution": {
     "iopub.execute_input": "2025-05-09T01:03:17.118893Z",
     "iopub.status.busy": "2025-05-09T01:03:17.118381Z",
     "iopub.status.idle": "2025-05-09T01:03:17.162945Z",
     "shell.execute_reply": "2025-05-09T01:03:17.162376Z"
    },
    "papermill": {
     "duration": 0.052533,
     "end_time": "2025-05-09T01:03:17.164035",
     "exception": false,
     "start_time": "2025-05-09T01:03:17.111502",
     "status": "completed"
    },
    "tags": []
   },
   "outputs": [
    {
     "name": "stdout",
     "output_type": "stream",
     "text": [
      "Loaded geocode cache.\n",
      "Geocode cache updated and saved.\n"
     ]
    },
    {
     "data": {
      "text/html": [
       "<div>\n",
       "<style scoped>\n",
       "    .dataframe tbody tr th:only-of-type {\n",
       "        vertical-align: middle;\n",
       "    }\n",
       "\n",
       "    .dataframe tbody tr th {\n",
       "        vertical-align: top;\n",
       "    }\n",
       "\n",
       "    .dataframe thead th {\n",
       "        text-align: right;\n",
       "    }\n",
       "</style>\n",
       "<table border=\"1\" class=\"dataframe\">\n",
       "  <thead>\n",
       "    <tr style=\"text-align: right;\">\n",
       "      <th></th>\n",
       "      <th>RecordID</th>\n",
       "      <th>Offense</th>\n",
       "      <th>IncidentID</th>\n",
       "      <th>BlockNumber</th>\n",
       "      <th>StreetName</th>\n",
       "      <th>Agency</th>\n",
       "      <th>HourReported</th>\n",
       "      <th>ReportingOfficer</th>\n",
       "      <th>Date</th>\n",
       "      <th>DateString</th>\n",
       "      <th>DayOfWeek</th>\n",
       "      <th>Weekend</th>\n",
       "      <th>Season</th>\n",
       "      <th>HourAMPM</th>\n",
       "      <th>TimeOfDay</th>\n",
       "      <th>FullStreet</th>\n",
       "      <th>lat</th>\n",
       "      <th>lon</th>\n",
       "    </tr>\n",
       "  </thead>\n",
       "  <tbody>\n",
       "    <tr>\n",
       "      <th>0</th>\n",
       "      <td>1</td>\n",
       "      <td>Robbery - Armed</td>\n",
       "      <td>202500015222</td>\n",
       "      <td>400</td>\n",
       "      <td>14TH ST NW</td>\n",
       "      <td>CPD</td>\n",
       "      <td>2227</td>\n",
       "      <td>Love-Baker, Sydney</td>\n",
       "      <td>2025-05-06 22:27:29</td>\n",
       "      <td>2025-05-06 10:27:29 PM</td>\n",
       "      <td>Tuesday</td>\n",
       "      <td>False</td>\n",
       "      <td>Spring</td>\n",
       "      <td>10:27 PM</td>\n",
       "      <td>Night</td>\n",
       "      <td>400 14TH ST NW</td>\n",
       "      <td>38.037969</td>\n",
       "      <td>-78.497278</td>\n",
       "    </tr>\n",
       "    <tr>\n",
       "      <th>1</th>\n",
       "      <td>2</td>\n",
       "      <td>Drug Equipment Violation</td>\n",
       "      <td>202500015189</td>\n",
       "      <td>100</td>\n",
       "      <td>E MARKET ST</td>\n",
       "      <td>CPD</td>\n",
       "      <td>1808</td>\n",
       "      <td>Ryan, Matthew</td>\n",
       "      <td>2025-05-06 18:08:01</td>\n",
       "      <td>2025-05-06 06:08:01 PM</td>\n",
       "      <td>Tuesday</td>\n",
       "      <td>False</td>\n",
       "      <td>Spring</td>\n",
       "      <td>06:08 PM</td>\n",
       "      <td>Evening</td>\n",
       "      <td>100 E MARKET ST</td>\n",
       "      <td>38.031539</td>\n",
       "      <td>-78.481144</td>\n",
       "    </tr>\n",
       "    <tr>\n",
       "      <th>2</th>\n",
       "      <td>3</td>\n",
       "      <td>Hit and Run</td>\n",
       "      <td>202500015184</td>\n",
       "      <td>200</td>\n",
       "      <td>6TH ST NW</td>\n",
       "      <td>CPD</td>\n",
       "      <td>1709</td>\n",
       "      <td>Crowley, Raeann</td>\n",
       "      <td>2025-05-06 17:09:40</td>\n",
       "      <td>2025-05-06 05:09:40 PM</td>\n",
       "      <td>Tuesday</td>\n",
       "      <td>False</td>\n",
       "      <td>Spring</td>\n",
       "      <td>05:09 PM</td>\n",
       "      <td>Evening</td>\n",
       "      <td>200 6TH ST NW</td>\n",
       "      <td>38.031849</td>\n",
       "      <td>-78.487944</td>\n",
       "    </tr>\n",
       "    <tr>\n",
       "      <th>3</th>\n",
       "      <td>4</td>\n",
       "      <td>Assist Citizen - Mental/TDO/ECO</td>\n",
       "      <td>202500015171</td>\n",
       "      <td>1900</td>\n",
       "      <td>CEDAR HILL RD</td>\n",
       "      <td>CPD</td>\n",
       "      <td>1541</td>\n",
       "      <td>Bland, Johnnà</td>\n",
       "      <td>2025-05-06 15:41:56</td>\n",
       "      <td>2025-05-06 03:41:56 PM</td>\n",
       "      <td>Tuesday</td>\n",
       "      <td>False</td>\n",
       "      <td>Spring</td>\n",
       "      <td>03:41 PM</td>\n",
       "      <td>Afternoon</td>\n",
       "      <td>1900 CEDAR HILL RD</td>\n",
       "      <td>38.063340</td>\n",
       "      <td>-78.495715</td>\n",
       "    </tr>\n",
       "    <tr>\n",
       "      <th>4</th>\n",
       "      <td>5</td>\n",
       "      <td>Lost/FoundProperty</td>\n",
       "      <td>202500015175</td>\n",
       "      <td>1600</td>\n",
       "      <td>UNIVERSITY AVE</td>\n",
       "      <td>CPD</td>\n",
       "      <td>1528</td>\n",
       "      <td>Crowley, Raeann</td>\n",
       "      <td>2025-05-06 15:28:15</td>\n",
       "      <td>2025-05-06 03:28:15 PM</td>\n",
       "      <td>Tuesday</td>\n",
       "      <td>False</td>\n",
       "      <td>Spring</td>\n",
       "      <td>03:28 PM</td>\n",
       "      <td>Afternoon</td>\n",
       "      <td>1600 UNIVERSITY AVE</td>\n",
       "      <td>38.035442</td>\n",
       "      <td>-78.501027</td>\n",
       "    </tr>\n",
       "  </tbody>\n",
       "</table>\n",
       "</div>"
      ],
      "text/plain": [
       "   RecordID                          Offense    IncidentID BlockNumber  \\\n",
       "0         1                  Robbery - Armed  202500015222         400   \n",
       "1         2         Drug Equipment Violation  202500015189         100   \n",
       "2         3                      Hit and Run  202500015184         200   \n",
       "3         4  Assist Citizen - Mental/TDO/ECO  202500015171        1900   \n",
       "4         5               Lost/FoundProperty  202500015175        1600   \n",
       "\n",
       "       StreetName Agency HourReported    ReportingOfficer                Date  \\\n",
       "0      14TH ST NW    CPD         2227  Love-Baker, Sydney 2025-05-06 22:27:29   \n",
       "1     E MARKET ST    CPD         1808       Ryan, Matthew 2025-05-06 18:08:01   \n",
       "2       6TH ST NW    CPD         1709     Crowley, Raeann 2025-05-06 17:09:40   \n",
       "3   CEDAR HILL RD    CPD         1541       Bland, Johnnà 2025-05-06 15:41:56   \n",
       "4  UNIVERSITY AVE    CPD         1528     Crowley, Raeann 2025-05-06 15:28:15   \n",
       "\n",
       "               DateString DayOfWeek  Weekend  Season  HourAMPM  TimeOfDay  \\\n",
       "0  2025-05-06 10:27:29 PM   Tuesday    False  Spring  10:27 PM      Night   \n",
       "1  2025-05-06 06:08:01 PM   Tuesday    False  Spring  06:08 PM    Evening   \n",
       "2  2025-05-06 05:09:40 PM   Tuesday    False  Spring  05:09 PM    Evening   \n",
       "3  2025-05-06 03:41:56 PM   Tuesday    False  Spring  03:41 PM  Afternoon   \n",
       "4  2025-05-06 03:28:15 PM   Tuesday    False  Spring  03:28 PM  Afternoon   \n",
       "\n",
       "            FullStreet        lat        lon  \n",
       "0       400 14TH ST NW  38.037969 -78.497278  \n",
       "1      100 E MARKET ST  38.031539 -78.481144  \n",
       "2        200 6TH ST NW  38.031849 -78.487944  \n",
       "3   1900 CEDAR HILL RD  38.063340 -78.495715  \n",
       "4  1600 UNIVERSITY AVE  38.035442 -78.501027  "
      ]
     },
     "execution_count": 9,
     "metadata": {},
     "output_type": "execute_result"
    }
   ],
   "source": [
    "# Combine BlockNumber and StreetName into a full address string\n",
    "df['FullStreet'] = df['BlockNumber'].astype(str) + \" \" + df['StreetName']\n",
    "\n",
    "# --- Step 1: Setup the Google Maps Client and Cache ---\n",
    "gmaps = googlemaps.Client(key=GOOGLE_API_KEY)\n",
    "\n",
    "# Try to load cached geocoding results if available.\n",
    "try:\n",
    "    with open(\"geocode_cache_google.pkl\", \"rb\") as f:\n",
    "        street_coords = pickle.load(f)\n",
    "    print(\"Loaded geocode cache.\")\n",
    "except FileNotFoundError:\n",
    "    street_coords = {}\n",
    "    print(\"No cache found; starting fresh.\")\n",
    "\n",
    "def geocode_address(address):\n",
    "    try:\n",
    "        # Append city and state to help geocoding\n",
    "        result = gmaps.geocode(f\"{address}, Charlottesville, VA\")\n",
    "        if result:\n",
    "            lat = result[0]['geometry']['location']['lat']\n",
    "            lon = result[0]['geometry']['location']['lng']\n",
    "            return lat, lon\n",
    "    except Exception as e:\n",
    "        print(f\"Error geocoding {address}: {e}\")\n",
    "    return None, None\n",
    "\n",
    "# --- Step 2: Geocode Only New Addresses ---\n",
    "unique_addresses = df['FullStreet'].unique()\n",
    "for address in unique_addresses:\n",
    "    if address not in street_coords:\n",
    "        lat, lon = geocode_address(address)\n",
    "        street_coords[address] = (lat, lon)\n",
    "        print(f\"Geocoded {address}: {lat}, {lon}\")\n",
    "\n",
    "# Save the updated cache to disk.\n",
    "with open(\"geocode_cache_google.pkl\", \"wb\") as f:\n",
    "    pickle.dump(street_coords, f)\n",
    "    print(\"Geocode cache updated and saved.\")\n",
    "\n",
    "# --- Step 3: Map Coordinates Back to DataFrame ---\n",
    "df['lat'] = df['FullStreet'].map(lambda s: street_coords.get(s, (None, None))[0])\n",
    "df['lon'] = df['FullStreet'].map(lambda s: street_coords.get(s, (None, None))[1])\n",
    "\n",
    "df.head()"
   ]
  },
  {
   "cell_type": "markdown",
   "id": "9badfc6d",
   "metadata": {
    "papermill": {
     "duration": 0.006328,
     "end_time": "2025-05-09T01:03:17.177072",
     "exception": false,
     "start_time": "2025-05-09T01:03:17.170744",
     "status": "completed"
    },
    "tags": []
   },
   "source": [
    "### Neighborhood"
   ]
  },
  {
   "cell_type": "code",
   "execution_count": 10,
   "id": "d9fee64b",
   "metadata": {
    "execution": {
     "iopub.execute_input": "2025-05-09T01:03:17.190989Z",
     "iopub.status.busy": "2025-05-09T01:03:17.190281Z",
     "iopub.status.idle": "2025-05-09T01:03:17.459537Z",
     "shell.execute_reply": "2025-05-09T01:03:17.458913Z"
    },
    "papermill": {
     "duration": 0.277278,
     "end_time": "2025-05-09T01:03:17.460658",
     "exception": false,
     "start_time": "2025-05-09T01:03:17.183380",
     "status": "completed"
    },
    "tags": []
   },
   "outputs": [
    {
     "name": "stdout",
     "output_type": "stream",
     "text": [
      "Loaded neighborhood cache.\n"
     ]
    },
    {
     "data": {
      "text/html": [
       "<div>\n",
       "<style scoped>\n",
       "    .dataframe tbody tr th:only-of-type {\n",
       "        vertical-align: middle;\n",
       "    }\n",
       "\n",
       "    .dataframe tbody tr th {\n",
       "        vertical-align: top;\n",
       "    }\n",
       "\n",
       "    .dataframe thead th {\n",
       "        text-align: right;\n",
       "    }\n",
       "</style>\n",
       "<table border=\"1\" class=\"dataframe\">\n",
       "  <thead>\n",
       "    <tr style=\"text-align: right;\">\n",
       "      <th></th>\n",
       "      <th>RecordID</th>\n",
       "      <th>Offense</th>\n",
       "      <th>IncidentID</th>\n",
       "      <th>BlockNumber</th>\n",
       "      <th>StreetName</th>\n",
       "      <th>Agency</th>\n",
       "      <th>HourReported</th>\n",
       "      <th>ReportingOfficer</th>\n",
       "      <th>Date</th>\n",
       "      <th>DateString</th>\n",
       "      <th>DayOfWeek</th>\n",
       "      <th>Weekend</th>\n",
       "      <th>Season</th>\n",
       "      <th>HourAMPM</th>\n",
       "      <th>TimeOfDay</th>\n",
       "      <th>FullStreet</th>\n",
       "      <th>lat</th>\n",
       "      <th>lon</th>\n",
       "      <th>neighborhood</th>\n",
       "    </tr>\n",
       "  </thead>\n",
       "  <tbody>\n",
       "    <tr>\n",
       "      <th>0</th>\n",
       "      <td>1</td>\n",
       "      <td>Robbery - Armed</td>\n",
       "      <td>202500015222</td>\n",
       "      <td>400</td>\n",
       "      <td>14TH ST NW</td>\n",
       "      <td>CPD</td>\n",
       "      <td>2227</td>\n",
       "      <td>Love-Baker, Sydney</td>\n",
       "      <td>2025-05-06 22:27:29</td>\n",
       "      <td>2025-05-06 10:27:29 PM</td>\n",
       "      <td>Tuesday</td>\n",
       "      <td>False</td>\n",
       "      <td>Spring</td>\n",
       "      <td>10:27 PM</td>\n",
       "      <td>Night</td>\n",
       "      <td>400 14TH ST NW</td>\n",
       "      <td>38.037969</td>\n",
       "      <td>-78.497278</td>\n",
       "      <td>Venable</td>\n",
       "    </tr>\n",
       "    <tr>\n",
       "      <th>1</th>\n",
       "      <td>2</td>\n",
       "      <td>Drug Equipment Violation</td>\n",
       "      <td>202500015189</td>\n",
       "      <td>100</td>\n",
       "      <td>E MARKET ST</td>\n",
       "      <td>CPD</td>\n",
       "      <td>1808</td>\n",
       "      <td>Ryan, Matthew</td>\n",
       "      <td>2025-05-06 18:08:01</td>\n",
       "      <td>2025-05-06 06:08:01 PM</td>\n",
       "      <td>Tuesday</td>\n",
       "      <td>False</td>\n",
       "      <td>Spring</td>\n",
       "      <td>06:08 PM</td>\n",
       "      <td>Evening</td>\n",
       "      <td>100 E MARKET ST</td>\n",
       "      <td>38.031539</td>\n",
       "      <td>-78.481144</td>\n",
       "      <td>Downtown Mall</td>\n",
       "    </tr>\n",
       "    <tr>\n",
       "      <th>2</th>\n",
       "      <td>3</td>\n",
       "      <td>Hit and Run</td>\n",
       "      <td>202500015184</td>\n",
       "      <td>200</td>\n",
       "      <td>6TH ST NW</td>\n",
       "      <td>CPD</td>\n",
       "      <td>1709</td>\n",
       "      <td>Crowley, Raeann</td>\n",
       "      <td>2025-05-06 17:09:40</td>\n",
       "      <td>2025-05-06 05:09:40 PM</td>\n",
       "      <td>Tuesday</td>\n",
       "      <td>False</td>\n",
       "      <td>Spring</td>\n",
       "      <td>05:09 PM</td>\n",
       "      <td>Evening</td>\n",
       "      <td>200 6TH ST NW</td>\n",
       "      <td>38.031849</td>\n",
       "      <td>-78.487944</td>\n",
       "      <td>Starr Hill</td>\n",
       "    </tr>\n",
       "    <tr>\n",
       "      <th>3</th>\n",
       "      <td>4</td>\n",
       "      <td>Assist Citizen - Mental/TDO/ECO</td>\n",
       "      <td>202500015171</td>\n",
       "      <td>1900</td>\n",
       "      <td>CEDAR HILL RD</td>\n",
       "      <td>CPD</td>\n",
       "      <td>1541</td>\n",
       "      <td>Bland, Johnnà</td>\n",
       "      <td>2025-05-06 15:41:56</td>\n",
       "      <td>2025-05-06 03:41:56 PM</td>\n",
       "      <td>Tuesday</td>\n",
       "      <td>False</td>\n",
       "      <td>Spring</td>\n",
       "      <td>03:41 PM</td>\n",
       "      <td>Afternoon</td>\n",
       "      <td>1900 CEDAR HILL RD</td>\n",
       "      <td>38.063340</td>\n",
       "      <td>-78.495715</td>\n",
       "      <td>The Meadows</td>\n",
       "    </tr>\n",
       "    <tr>\n",
       "      <th>4</th>\n",
       "      <td>5</td>\n",
       "      <td>Lost/FoundProperty</td>\n",
       "      <td>202500015175</td>\n",
       "      <td>1600</td>\n",
       "      <td>UNIVERSITY AVE</td>\n",
       "      <td>CPD</td>\n",
       "      <td>1528</td>\n",
       "      <td>Crowley, Raeann</td>\n",
       "      <td>2025-05-06 15:28:15</td>\n",
       "      <td>2025-05-06 03:28:15 PM</td>\n",
       "      <td>Tuesday</td>\n",
       "      <td>False</td>\n",
       "      <td>Spring</td>\n",
       "      <td>03:28 PM</td>\n",
       "      <td>Afternoon</td>\n",
       "      <td>1600 UNIVERSITY AVE</td>\n",
       "      <td>38.035442</td>\n",
       "      <td>-78.501027</td>\n",
       "      <td>Venable</td>\n",
       "    </tr>\n",
       "  </tbody>\n",
       "</table>\n",
       "</div>"
      ],
      "text/plain": [
       "   RecordID                          Offense    IncidentID BlockNumber  \\\n",
       "0         1                  Robbery - Armed  202500015222         400   \n",
       "1         2         Drug Equipment Violation  202500015189         100   \n",
       "2         3                      Hit and Run  202500015184         200   \n",
       "3         4  Assist Citizen - Mental/TDO/ECO  202500015171        1900   \n",
       "4         5               Lost/FoundProperty  202500015175        1600   \n",
       "\n",
       "       StreetName Agency HourReported    ReportingOfficer                Date  \\\n",
       "0      14TH ST NW    CPD         2227  Love-Baker, Sydney 2025-05-06 22:27:29   \n",
       "1     E MARKET ST    CPD         1808       Ryan, Matthew 2025-05-06 18:08:01   \n",
       "2       6TH ST NW    CPD         1709     Crowley, Raeann 2025-05-06 17:09:40   \n",
       "3   CEDAR HILL RD    CPD         1541       Bland, Johnnà 2025-05-06 15:41:56   \n",
       "4  UNIVERSITY AVE    CPD         1528     Crowley, Raeann 2025-05-06 15:28:15   \n",
       "\n",
       "               DateString DayOfWeek  Weekend  Season  HourAMPM  TimeOfDay  \\\n",
       "0  2025-05-06 10:27:29 PM   Tuesday    False  Spring  10:27 PM      Night   \n",
       "1  2025-05-06 06:08:01 PM   Tuesday    False  Spring  06:08 PM    Evening   \n",
       "2  2025-05-06 05:09:40 PM   Tuesday    False  Spring  05:09 PM    Evening   \n",
       "3  2025-05-06 03:41:56 PM   Tuesday    False  Spring  03:41 PM  Afternoon   \n",
       "4  2025-05-06 03:28:15 PM   Tuesday    False  Spring  03:28 PM  Afternoon   \n",
       "\n",
       "            FullStreet        lat        lon   neighborhood  \n",
       "0       400 14TH ST NW  38.037969 -78.497278        Venable  \n",
       "1      100 E MARKET ST  38.031539 -78.481144  Downtown Mall  \n",
       "2        200 6TH ST NW  38.031849 -78.487944     Starr Hill  \n",
       "3   1900 CEDAR HILL RD  38.063340 -78.495715    The Meadows  \n",
       "4  1600 UNIVERSITY AVE  38.035442 -78.501027        Venable  "
      ]
     },
     "execution_count": 10,
     "metadata": {},
     "output_type": "execute_result"
    }
   ],
   "source": [
    "# Initialize the Google Maps client.\n",
    "gmaps = googlemaps.Client(key=GOOGLE_API_KEY)\n",
    "\n",
    "# Try to load a persistent neighborhood cache if available.\n",
    "try:\n",
    "    with open(\"neighborhood_cache.pkl\", \"rb\") as f:\n",
    "        neighborhood_cache = pickle.load(f)\n",
    "    print(\"Loaded neighborhood cache.\")\n",
    "except FileNotFoundError:\n",
    "    neighborhood_cache = {}\n",
    "    print(\"No neighborhood cache found; starting fresh.\")\n",
    "\n",
    "def get_neighborhood(lat, lon):\n",
    "    \"\"\"\n",
    "    Reverse geocodes a latitude and longitude to retrieve the neighborhood.\n",
    "    Caches results to speed up subsequent lookups.\n",
    "    \"\"\"\n",
    "    key = (lat, lon)\n",
    "    if key in neighborhood_cache:\n",
    "        return neighborhood_cache[key]\n",
    "    \n",
    "    try:\n",
    "        result = gmaps.reverse_geocode((lat, lon))\n",
    "        if result:\n",
    "            # Look for the 'neighborhood' component in the first result.\n",
    "            for component in result[0]['address_components']:\n",
    "                if 'neighborhood' in component['types']:\n",
    "                    neighborhood = component['long_name']\n",
    "                    neighborhood_cache[key] = neighborhood\n",
    "                    return neighborhood\n",
    "            # If no neighborhood is found, return \"N/A\"\n",
    "            neighborhood_cache[key] = \"N/A\"\n",
    "            return \"N/A\"\n",
    "    except Exception as e:\n",
    "        print(f\"Error getting neighborhood for {lat}, {lon}: {e}\")\n",
    "        return \"N/A\"\n",
    "    \n",
    "    # Pause to respect usage limits.\n",
    "    time.sleep(1)\n",
    "\n",
    "# Example usage: Apply to your DataFrame 'df' that already has 'lat' and 'lon' columns.\n",
    "df['neighborhood'] = df.apply(lambda row: get_neighborhood(row['lat'], row['lon']), axis=1)\n",
    "\n",
    "# Save the updated neighborhood cache.\n",
    "with open(\"neighborhood_cache.pkl\", \"wb\") as f:\n",
    "    pickle.dump(neighborhood_cache, f)\n",
    "\n",
    "df.head()\n"
   ]
  },
  {
   "cell_type": "markdown",
   "id": "4b517f51",
   "metadata": {
    "papermill": {
     "duration": 0.006401,
     "end_time": "2025-05-09T01:03:17.474021",
     "exception": false,
     "start_time": "2025-05-09T01:03:17.467620",
     "status": "completed"
    },
    "tags": []
   },
   "source": [
    "### Zip"
   ]
  },
  {
   "cell_type": "code",
   "execution_count": 11,
   "id": "c5b009b7",
   "metadata": {
    "execution": {
     "iopub.execute_input": "2025-05-09T01:03:17.488266Z",
     "iopub.status.busy": "2025-05-09T01:03:17.487777Z",
     "iopub.status.idle": "2025-05-09T01:03:17.732135Z",
     "shell.execute_reply": "2025-05-09T01:03:17.731563Z"
    },
    "papermill": {
     "duration": 0.252686,
     "end_time": "2025-05-09T01:03:17.733223",
     "exception": false,
     "start_time": "2025-05-09T01:03:17.480537",
     "status": "completed"
    },
    "tags": []
   },
   "outputs": [
    {
     "name": "stdout",
     "output_type": "stream",
     "text": [
      "Loaded zip cache.\n"
     ]
    },
    {
     "data": {
      "text/html": [
       "<div>\n",
       "<style scoped>\n",
       "    .dataframe tbody tr th:only-of-type {\n",
       "        vertical-align: middle;\n",
       "    }\n",
       "\n",
       "    .dataframe tbody tr th {\n",
       "        vertical-align: top;\n",
       "    }\n",
       "\n",
       "    .dataframe thead th {\n",
       "        text-align: right;\n",
       "    }\n",
       "</style>\n",
       "<table border=\"1\" class=\"dataframe\">\n",
       "  <thead>\n",
       "    <tr style=\"text-align: right;\">\n",
       "      <th></th>\n",
       "      <th>RecordID</th>\n",
       "      <th>Offense</th>\n",
       "      <th>IncidentID</th>\n",
       "      <th>BlockNumber</th>\n",
       "      <th>StreetName</th>\n",
       "      <th>Agency</th>\n",
       "      <th>HourReported</th>\n",
       "      <th>ReportingOfficer</th>\n",
       "      <th>Date</th>\n",
       "      <th>DateString</th>\n",
       "      <th>DayOfWeek</th>\n",
       "      <th>Weekend</th>\n",
       "      <th>Season</th>\n",
       "      <th>HourAMPM</th>\n",
       "      <th>TimeOfDay</th>\n",
       "      <th>FullStreet</th>\n",
       "      <th>lat</th>\n",
       "      <th>lon</th>\n",
       "      <th>neighborhood</th>\n",
       "      <th>zip</th>\n",
       "    </tr>\n",
       "  </thead>\n",
       "  <tbody>\n",
       "    <tr>\n",
       "      <th>0</th>\n",
       "      <td>1</td>\n",
       "      <td>Robbery - Armed</td>\n",
       "      <td>202500015222</td>\n",
       "      <td>400</td>\n",
       "      <td>14TH ST NW</td>\n",
       "      <td>CPD</td>\n",
       "      <td>2227</td>\n",
       "      <td>Love-Baker, Sydney</td>\n",
       "      <td>2025-05-06 22:27:29</td>\n",
       "      <td>2025-05-06 10:27:29 PM</td>\n",
       "      <td>Tuesday</td>\n",
       "      <td>False</td>\n",
       "      <td>Spring</td>\n",
       "      <td>10:27 PM</td>\n",
       "      <td>Night</td>\n",
       "      <td>400 14TH ST NW</td>\n",
       "      <td>38.037969</td>\n",
       "      <td>-78.497278</td>\n",
       "      <td>Venable</td>\n",
       "      <td>22903</td>\n",
       "    </tr>\n",
       "    <tr>\n",
       "      <th>1</th>\n",
       "      <td>2</td>\n",
       "      <td>Drug Equipment Violation</td>\n",
       "      <td>202500015189</td>\n",
       "      <td>100</td>\n",
       "      <td>E MARKET ST</td>\n",
       "      <td>CPD</td>\n",
       "      <td>1808</td>\n",
       "      <td>Ryan, Matthew</td>\n",
       "      <td>2025-05-06 18:08:01</td>\n",
       "      <td>2025-05-06 06:08:01 PM</td>\n",
       "      <td>Tuesday</td>\n",
       "      <td>False</td>\n",
       "      <td>Spring</td>\n",
       "      <td>06:08 PM</td>\n",
       "      <td>Evening</td>\n",
       "      <td>100 E MARKET ST</td>\n",
       "      <td>38.031539</td>\n",
       "      <td>-78.481144</td>\n",
       "      <td>Downtown Mall</td>\n",
       "      <td>22902</td>\n",
       "    </tr>\n",
       "    <tr>\n",
       "      <th>2</th>\n",
       "      <td>3</td>\n",
       "      <td>Hit and Run</td>\n",
       "      <td>202500015184</td>\n",
       "      <td>200</td>\n",
       "      <td>6TH ST NW</td>\n",
       "      <td>CPD</td>\n",
       "      <td>1709</td>\n",
       "      <td>Crowley, Raeann</td>\n",
       "      <td>2025-05-06 17:09:40</td>\n",
       "      <td>2025-05-06 05:09:40 PM</td>\n",
       "      <td>Tuesday</td>\n",
       "      <td>False</td>\n",
       "      <td>Spring</td>\n",
       "      <td>05:09 PM</td>\n",
       "      <td>Evening</td>\n",
       "      <td>200 6TH ST NW</td>\n",
       "      <td>38.031849</td>\n",
       "      <td>-78.487944</td>\n",
       "      <td>Starr Hill</td>\n",
       "      <td>22903</td>\n",
       "    </tr>\n",
       "    <tr>\n",
       "      <th>3</th>\n",
       "      <td>4</td>\n",
       "      <td>Assist Citizen - Mental/TDO/ECO</td>\n",
       "      <td>202500015171</td>\n",
       "      <td>1900</td>\n",
       "      <td>CEDAR HILL RD</td>\n",
       "      <td>CPD</td>\n",
       "      <td>1541</td>\n",
       "      <td>Bland, Johnnà</td>\n",
       "      <td>2025-05-06 15:41:56</td>\n",
       "      <td>2025-05-06 03:41:56 PM</td>\n",
       "      <td>Tuesday</td>\n",
       "      <td>False</td>\n",
       "      <td>Spring</td>\n",
       "      <td>03:41 PM</td>\n",
       "      <td>Afternoon</td>\n",
       "      <td>1900 CEDAR HILL RD</td>\n",
       "      <td>38.063340</td>\n",
       "      <td>-78.495715</td>\n",
       "      <td>The Meadows</td>\n",
       "      <td>22901</td>\n",
       "    </tr>\n",
       "    <tr>\n",
       "      <th>4</th>\n",
       "      <td>5</td>\n",
       "      <td>Lost/FoundProperty</td>\n",
       "      <td>202500015175</td>\n",
       "      <td>1600</td>\n",
       "      <td>UNIVERSITY AVE</td>\n",
       "      <td>CPD</td>\n",
       "      <td>1528</td>\n",
       "      <td>Crowley, Raeann</td>\n",
       "      <td>2025-05-06 15:28:15</td>\n",
       "      <td>2025-05-06 03:28:15 PM</td>\n",
       "      <td>Tuesday</td>\n",
       "      <td>False</td>\n",
       "      <td>Spring</td>\n",
       "      <td>03:28 PM</td>\n",
       "      <td>Afternoon</td>\n",
       "      <td>1600 UNIVERSITY AVE</td>\n",
       "      <td>38.035442</td>\n",
       "      <td>-78.501027</td>\n",
       "      <td>Venable</td>\n",
       "      <td>22908</td>\n",
       "    </tr>\n",
       "  </tbody>\n",
       "</table>\n",
       "</div>"
      ],
      "text/plain": [
       "   RecordID                          Offense    IncidentID BlockNumber  \\\n",
       "0         1                  Robbery - Armed  202500015222         400   \n",
       "1         2         Drug Equipment Violation  202500015189         100   \n",
       "2         3                      Hit and Run  202500015184         200   \n",
       "3         4  Assist Citizen - Mental/TDO/ECO  202500015171        1900   \n",
       "4         5               Lost/FoundProperty  202500015175        1600   \n",
       "\n",
       "       StreetName Agency HourReported    ReportingOfficer                Date  \\\n",
       "0      14TH ST NW    CPD         2227  Love-Baker, Sydney 2025-05-06 22:27:29   \n",
       "1     E MARKET ST    CPD         1808       Ryan, Matthew 2025-05-06 18:08:01   \n",
       "2       6TH ST NW    CPD         1709     Crowley, Raeann 2025-05-06 17:09:40   \n",
       "3   CEDAR HILL RD    CPD         1541       Bland, Johnnà 2025-05-06 15:41:56   \n",
       "4  UNIVERSITY AVE    CPD         1528     Crowley, Raeann 2025-05-06 15:28:15   \n",
       "\n",
       "               DateString DayOfWeek  Weekend  Season  HourAMPM  TimeOfDay  \\\n",
       "0  2025-05-06 10:27:29 PM   Tuesday    False  Spring  10:27 PM      Night   \n",
       "1  2025-05-06 06:08:01 PM   Tuesday    False  Spring  06:08 PM    Evening   \n",
       "2  2025-05-06 05:09:40 PM   Tuesday    False  Spring  05:09 PM    Evening   \n",
       "3  2025-05-06 03:41:56 PM   Tuesday    False  Spring  03:41 PM  Afternoon   \n",
       "4  2025-05-06 03:28:15 PM   Tuesday    False  Spring  03:28 PM  Afternoon   \n",
       "\n",
       "            FullStreet        lat        lon   neighborhood    zip  \n",
       "0       400 14TH ST NW  38.037969 -78.497278        Venable  22903  \n",
       "1      100 E MARKET ST  38.031539 -78.481144  Downtown Mall  22902  \n",
       "2        200 6TH ST NW  38.031849 -78.487944     Starr Hill  22903  \n",
       "3   1900 CEDAR HILL RD  38.063340 -78.495715    The Meadows  22901  \n",
       "4  1600 UNIVERSITY AVE  38.035442 -78.501027        Venable  22908  "
      ]
     },
     "execution_count": 11,
     "metadata": {},
     "output_type": "execute_result"
    }
   ],
   "source": [
    "# Initialize the geocoder.\n",
    "geolocator = Nominatim(user_agent=\"zip_lookup\")\n",
    "\n",
    "# Try to load a persistent ZIP cache if available.\n",
    "try:\n",
    "    with open(\"zip_cache.pkl\", \"rb\") as f:\n",
    "        zip_cache = pickle.load(f)\n",
    "    print(\"Loaded zip cache.\")\n",
    "except FileNotFoundError:\n",
    "    zip_cache = {}\n",
    "    print(\"No zip cache found; starting fresh.\")\n",
    "\n",
    "def get_zip(lat, lon):\n",
    "    \"\"\"\n",
    "    Reverse geocodes a latitude and longitude to retrieve the ZIP code.\n",
    "    Caches results to speed up subsequent lookups.\n",
    "    \"\"\"\n",
    "    key = (lat, lon)\n",
    "    if key in zip_cache:\n",
    "        return zip_cache[key]\n",
    "    \n",
    "    try:\n",
    "        location = geolocator.reverse((lat, lon), exactly_one=True, timeout=10)\n",
    "        address = location.raw.get('address', {})\n",
    "        postal_code = address.get('postcode', \"N/A\")\n",
    "    except Exception as e:\n",
    "        print(f\"Error getting ZIP for {lat}, {lon}: {e}\")\n",
    "        postal_code = \"N/A\"\n",
    "    \n",
    "    zip_cache[key] = postal_code\n",
    "    # Pause to respect the usage policy.\n",
    "    time.sleep(1)\n",
    "    return postal_code\n",
    "\n",
    "# Apply the function to each row in the DataFrame.\n",
    "df['zip'] = df.apply(lambda row: get_zip(row['lat'], row['lon']), axis=1)\n",
    "\n",
    "# Save the updated ZIP cache.\n",
    "with open(\"zip_cache.pkl\", \"wb\") as f:\n",
    "    pickle.dump(zip_cache, f)\n",
    "\n",
    "df.head()\n"
   ]
  },
  {
   "cell_type": "code",
   "execution_count": 12,
   "id": "112d418d",
   "metadata": {
    "execution": {
     "iopub.execute_input": "2025-05-09T01:03:17.748408Z",
     "iopub.status.busy": "2025-05-09T01:03:17.747931Z",
     "iopub.status.idle": "2025-05-09T01:03:17.779102Z",
     "shell.execute_reply": "2025-05-09T01:03:17.778534Z"
    },
    "papermill": {
     "duration": 0.039802,
     "end_time": "2025-05-09T01:03:17.780203",
     "exception": false,
     "start_time": "2025-05-09T01:03:17.740401",
     "status": "completed"
    },
    "tags": []
   },
   "outputs": [
    {
     "name": "stdout",
     "output_type": "stream",
     "text": [
      "                  MissingCount  MissingPercentage\n",
      "RecordID                     0               0.00\n",
      "Offense                      0               0.00\n",
      "IncidentID                   0               0.00\n",
      "BlockNumber                  0               0.00\n",
      "StreetName                   0               0.00\n",
      "Agency                       0               0.00\n",
      "HourReported                 0               0.00\n",
      "ReportingOfficer            17               0.07\n",
      "Date                         0               0.00\n",
      "DateString                   0               0.00\n",
      "DayOfWeek                    0               0.00\n",
      "Weekend                      0               0.00\n",
      "Season                       0               0.00\n",
      "HourAMPM                     0               0.00\n",
      "TimeOfDay                    0               0.00\n",
      "FullStreet                   0               0.00\n",
      "lat                          0               0.00\n",
      "lon                          0               0.00\n",
      "neighborhood                 0               0.00\n",
      "zip                          0               0.00\n"
     ]
    }
   ],
   "source": [
    "missing_info = missing_percentage(df)\n",
    "print(missing_info)\n"
   ]
  },
  {
   "cell_type": "code",
   "execution_count": 13,
   "id": "84821a12",
   "metadata": {
    "execution": {
     "iopub.execute_input": "2025-05-09T01:03:17.795756Z",
     "iopub.status.busy": "2025-05-09T01:03:17.795259Z",
     "iopub.status.idle": "2025-05-09T01:03:17.827764Z",
     "shell.execute_reply": "2025-05-09T01:03:17.827162Z"
    },
    "papermill": {
     "duration": 0.041471,
     "end_time": "2025-05-09T01:03:17.828898",
     "exception": false,
     "start_time": "2025-05-09T01:03:17.787427",
     "status": "completed"
    },
    "tags": []
   },
   "outputs": [
    {
     "name": "stdout",
     "output_type": "stream",
     "text": [
      "<class 'pandas.core.frame.DataFrame'>\n",
      "RangeIndex: 25356 entries, 0 to 25355\n",
      "Data columns (total 20 columns):\n",
      " #   Column            Non-Null Count  Dtype         \n",
      "---  ------            --------------  -----         \n",
      " 0   RecordID          25356 non-null  int64         \n",
      " 1   Offense           25356 non-null  object        \n",
      " 2   IncidentID        25356 non-null  object        \n",
      " 3   BlockNumber       25356 non-null  object        \n",
      " 4   StreetName        25356 non-null  object        \n",
      " 5   Agency            25356 non-null  object        \n",
      " 6   HourReported      25356 non-null  object        \n",
      " 7   ReportingOfficer  25339 non-null  object        \n",
      " 8   Date              25356 non-null  datetime64[ns]\n",
      " 9   DateString        25356 non-null  object        \n",
      " 10  DayOfWeek         25356 non-null  object        \n",
      " 11  Weekend           25356 non-null  bool          \n",
      " 12  Season            25356 non-null  object        \n",
      " 13  HourAMPM          25356 non-null  object        \n",
      " 14  TimeOfDay         25356 non-null  object        \n",
      " 15  FullStreet        25356 non-null  object        \n",
      " 16  lat               25356 non-null  float64       \n",
      " 17  lon               25356 non-null  float64       \n",
      " 18  neighborhood      25356 non-null  object        \n",
      " 19  zip               25356 non-null  object        \n",
      "dtypes: bool(1), datetime64[ns](1), float64(2), int64(1), object(15)\n",
      "memory usage: 3.7+ MB\n"
     ]
    }
   ],
   "source": [
    "df.info()"
   ]
  },
  {
   "cell_type": "code",
   "execution_count": 14,
   "id": "abdc3ebd",
   "metadata": {
    "execution": {
     "iopub.execute_input": "2025-05-09T01:03:17.844446Z",
     "iopub.status.busy": "2025-05-09T01:03:17.844153Z",
     "iopub.status.idle": "2025-05-09T01:03:17.890655Z",
     "shell.execute_reply": "2025-05-09T01:03:17.889942Z"
    },
    "papermill": {
     "duration": 0.055503,
     "end_time": "2025-05-09T01:03:17.891802",
     "exception": false,
     "start_time": "2025-05-09T01:03:17.836299",
     "status": "completed"
    },
    "tags": []
   },
   "outputs": [
    {
     "data": {
      "text/html": [
       "<div>\n",
       "<style scoped>\n",
       "    .dataframe tbody tr th:only-of-type {\n",
       "        vertical-align: middle;\n",
       "    }\n",
       "\n",
       "    .dataframe tbody tr th {\n",
       "        vertical-align: top;\n",
       "    }\n",
       "\n",
       "    .dataframe thead th {\n",
       "        text-align: right;\n",
       "    }\n",
       "</style>\n",
       "<table border=\"1\" class=\"dataframe\">\n",
       "  <thead>\n",
       "    <tr style=\"text-align: right;\">\n",
       "      <th></th>\n",
       "      <th>RecordID</th>\n",
       "      <th>Offense</th>\n",
       "      <th>IncidentID</th>\n",
       "      <th>Agency</th>\n",
       "      <th>ReportingOfficer</th>\n",
       "      <th>Date</th>\n",
       "      <th>DayOfWeek</th>\n",
       "      <th>Weekend</th>\n",
       "      <th>Season</th>\n",
       "      <th>TimeOfDay</th>\n",
       "      <th>FullStreet</th>\n",
       "      <th>lat</th>\n",
       "      <th>lon</th>\n",
       "      <th>neighborhood</th>\n",
       "      <th>zip</th>\n",
       "    </tr>\n",
       "  </thead>\n",
       "  <tbody>\n",
       "    <tr>\n",
       "      <th>0</th>\n",
       "      <td>1</td>\n",
       "      <td>Robbery - Armed</td>\n",
       "      <td>202500015222</td>\n",
       "      <td>CPD</td>\n",
       "      <td>Love-Baker, Sydney</td>\n",
       "      <td>2025-05-06 22:27:29</td>\n",
       "      <td>Tuesday</td>\n",
       "      <td>False</td>\n",
       "      <td>Spring</td>\n",
       "      <td>Night</td>\n",
       "      <td>400 14TH ST NW</td>\n",
       "      <td>38.037969</td>\n",
       "      <td>-78.497278</td>\n",
       "      <td>Venable</td>\n",
       "      <td>22903</td>\n",
       "    </tr>\n",
       "    <tr>\n",
       "      <th>1</th>\n",
       "      <td>2</td>\n",
       "      <td>Drug Equipment Violation</td>\n",
       "      <td>202500015189</td>\n",
       "      <td>CPD</td>\n",
       "      <td>Ryan, Matthew</td>\n",
       "      <td>2025-05-06 18:08:01</td>\n",
       "      <td>Tuesday</td>\n",
       "      <td>False</td>\n",
       "      <td>Spring</td>\n",
       "      <td>Evening</td>\n",
       "      <td>100 E MARKET ST</td>\n",
       "      <td>38.031539</td>\n",
       "      <td>-78.481144</td>\n",
       "      <td>Downtown Mall</td>\n",
       "      <td>22902</td>\n",
       "    </tr>\n",
       "    <tr>\n",
       "      <th>2</th>\n",
       "      <td>3</td>\n",
       "      <td>Hit and Run</td>\n",
       "      <td>202500015184</td>\n",
       "      <td>CPD</td>\n",
       "      <td>Crowley, Raeann</td>\n",
       "      <td>2025-05-06 17:09:40</td>\n",
       "      <td>Tuesday</td>\n",
       "      <td>False</td>\n",
       "      <td>Spring</td>\n",
       "      <td>Evening</td>\n",
       "      <td>200 6TH ST NW</td>\n",
       "      <td>38.031849</td>\n",
       "      <td>-78.487944</td>\n",
       "      <td>Starr Hill</td>\n",
       "      <td>22903</td>\n",
       "    </tr>\n",
       "    <tr>\n",
       "      <th>3</th>\n",
       "      <td>4</td>\n",
       "      <td>Assist Citizen - Mental/TDO/ECO</td>\n",
       "      <td>202500015171</td>\n",
       "      <td>CPD</td>\n",
       "      <td>Bland, Johnnà</td>\n",
       "      <td>2025-05-06 15:41:56</td>\n",
       "      <td>Tuesday</td>\n",
       "      <td>False</td>\n",
       "      <td>Spring</td>\n",
       "      <td>Afternoon</td>\n",
       "      <td>1900 CEDAR HILL RD</td>\n",
       "      <td>38.063340</td>\n",
       "      <td>-78.495715</td>\n",
       "      <td>The Meadows</td>\n",
       "      <td>22901</td>\n",
       "    </tr>\n",
       "    <tr>\n",
       "      <th>4</th>\n",
       "      <td>5</td>\n",
       "      <td>Lost/FoundProperty</td>\n",
       "      <td>202500015175</td>\n",
       "      <td>CPD</td>\n",
       "      <td>Crowley, Raeann</td>\n",
       "      <td>2025-05-06 15:28:15</td>\n",
       "      <td>Tuesday</td>\n",
       "      <td>False</td>\n",
       "      <td>Spring</td>\n",
       "      <td>Afternoon</td>\n",
       "      <td>1600 UNIVERSITY AVE</td>\n",
       "      <td>38.035442</td>\n",
       "      <td>-78.501027</td>\n",
       "      <td>Venable</td>\n",
       "      <td>22908</td>\n",
       "    </tr>\n",
       "  </tbody>\n",
       "</table>\n",
       "</div>"
      ],
      "text/plain": [
       "   RecordID                          Offense    IncidentID Agency  \\\n",
       "0         1                  Robbery - Armed  202500015222    CPD   \n",
       "1         2         Drug Equipment Violation  202500015189    CPD   \n",
       "2         3                      Hit and Run  202500015184    CPD   \n",
       "3         4  Assist Citizen - Mental/TDO/ECO  202500015171    CPD   \n",
       "4         5               Lost/FoundProperty  202500015175    CPD   \n",
       "\n",
       "     ReportingOfficer                Date DayOfWeek  Weekend  Season  \\\n",
       "0  Love-Baker, Sydney 2025-05-06 22:27:29   Tuesday    False  Spring   \n",
       "1       Ryan, Matthew 2025-05-06 18:08:01   Tuesday    False  Spring   \n",
       "2     Crowley, Raeann 2025-05-06 17:09:40   Tuesday    False  Spring   \n",
       "3       Bland, Johnnà 2025-05-06 15:41:56   Tuesday    False  Spring   \n",
       "4     Crowley, Raeann 2025-05-06 15:28:15   Tuesday    False  Spring   \n",
       "\n",
       "   TimeOfDay           FullStreet        lat        lon   neighborhood    zip  \n",
       "0      Night       400 14TH ST NW  38.037969 -78.497278        Venable  22903  \n",
       "1    Evening      100 E MARKET ST  38.031539 -78.481144  Downtown Mall  22902  \n",
       "2    Evening        200 6TH ST NW  38.031849 -78.487944     Starr Hill  22903  \n",
       "3  Afternoon   1900 CEDAR HILL RD  38.063340 -78.495715    The Meadows  22901  \n",
       "4  Afternoon  1600 UNIVERSITY AVE  38.035442 -78.501027        Venable  22908  "
      ]
     },
     "execution_count": 14,
     "metadata": {},
     "output_type": "execute_result"
    }
   ],
   "source": [
    "# Now drop the original BlockNumber and StreetName columns\n",
    "df.drop(columns=['BlockNumber', 'StreetName','HourAMPM','HourReported','DateString'], inplace=True)\n",
    "df[\"zip\"] = df[\"zip\"].astype(str)\n",
    "\n",
    "# Fill all missing values in the DataFrame with \"N/A\"\n",
    "df.replace({None: \"N/A\", np.nan: \"N/A\", \"\": \"N/A\"}, inplace=True)\n",
    "df.head()"
   ]
  },
  {
   "cell_type": "code",
   "execution_count": 15,
   "id": "9148fa6a",
   "metadata": {
    "execution": {
     "iopub.execute_input": "2025-05-09T01:03:17.908261Z",
     "iopub.status.busy": "2025-05-09T01:03:17.907783Z",
     "iopub.status.idle": "2025-05-09T01:03:17.929718Z",
     "shell.execute_reply": "2025-05-09T01:03:17.929112Z"
    },
    "papermill": {
     "duration": 0.031257,
     "end_time": "2025-05-09T01:03:17.930759",
     "exception": false,
     "start_time": "2025-05-09T01:03:17.899502",
     "status": "completed"
    },
    "tags": []
   },
   "outputs": [
    {
     "name": "stdout",
     "output_type": "stream",
     "text": [
      "                  MissingCount  MissingPercentage\n",
      "RecordID                     0                0.0\n",
      "Offense                      0                0.0\n",
      "IncidentID                   0                0.0\n",
      "Agency                       0                0.0\n",
      "ReportingOfficer             0                0.0\n",
      "Date                         0                0.0\n",
      "DayOfWeek                    0                0.0\n",
      "Weekend                      0                0.0\n",
      "Season                       0                0.0\n",
      "TimeOfDay                    0                0.0\n",
      "FullStreet                   0                0.0\n",
      "lat                          0                0.0\n",
      "lon                          0                0.0\n",
      "neighborhood                 0                0.0\n",
      "zip                          0                0.0\n"
     ]
    }
   ],
   "source": [
    "missing_info = missing_percentage(df)\n",
    "print(missing_info)"
   ]
  },
  {
   "cell_type": "code",
   "execution_count": 16,
   "id": "656af2c3",
   "metadata": {
    "execution": {
     "iopub.execute_input": "2025-05-09T01:03:17.947473Z",
     "iopub.status.busy": "2025-05-09T01:03:17.947000Z",
     "iopub.status.idle": "2025-05-09T01:03:17.951716Z",
     "shell.execute_reply": "2025-05-09T01:03:17.951134Z"
    },
    "papermill": {
     "duration": 0.014215,
     "end_time": "2025-05-09T01:03:17.952768",
     "exception": false,
     "start_time": "2025-05-09T01:03:17.938553",
     "status": "completed"
    },
    "tags": []
   },
   "outputs": [
    {
     "data": {
      "text/plain": [
       "Index(['RecordID', 'Offense', 'IncidentID', 'Agency', 'ReportingOfficer',\n",
       "       'Date', 'DayOfWeek', 'Weekend', 'Season', 'TimeOfDay', 'FullStreet',\n",
       "       'lat', 'lon', 'neighborhood', 'zip'],\n",
       "      dtype='object')"
      ]
     },
     "execution_count": 16,
     "metadata": {},
     "output_type": "execute_result"
    }
   ],
   "source": [
    "df.columns"
   ]
  },
  {
   "cell_type": "code",
   "execution_count": 17,
   "id": "6d89b898",
   "metadata": {
    "execution": {
     "iopub.execute_input": "2025-05-09T01:03:17.969886Z",
     "iopub.status.busy": "2025-05-09T01:03:17.969264Z",
     "iopub.status.idle": "2025-05-09T01:03:17.992597Z",
     "shell.execute_reply": "2025-05-09T01:03:17.991874Z"
    },
    "papermill": {
     "duration": 0.032991,
     "end_time": "2025-05-09T01:03:17.993681",
     "exception": false,
     "start_time": "2025-05-09T01:03:17.960690",
     "status": "completed"
    },
    "tags": []
   },
   "outputs": [
    {
     "name": "stdout",
     "output_type": "stream",
     "text": [
      "<class 'pandas.core.frame.DataFrame'>\n",
      "RangeIndex: 25356 entries, 0 to 25355\n",
      "Data columns (total 15 columns):\n",
      " #   Column            Non-Null Count  Dtype         \n",
      "---  ------            --------------  -----         \n",
      " 0   RecordID          25356 non-null  int64         \n",
      " 1   Offense           25356 non-null  object        \n",
      " 2   IncidentID        25356 non-null  object        \n",
      " 3   Agency            25356 non-null  object        \n",
      " 4   ReportingOfficer  25356 non-null  object        \n",
      " 5   Date              25356 non-null  datetime64[ns]\n",
      " 6   DayOfWeek         25356 non-null  object        \n",
      " 7   Weekend           25356 non-null  bool          \n",
      " 8   Season            25356 non-null  object        \n",
      " 9   TimeOfDay         25356 non-null  object        \n",
      " 10  FullStreet        25356 non-null  object        \n",
      " 11  lat               25356 non-null  float64       \n",
      " 12  lon               25356 non-null  float64       \n",
      " 13  neighborhood      25356 non-null  object        \n",
      " 14  zip               25356 non-null  object        \n",
      "dtypes: bool(1), datetime64[ns](1), float64(2), int64(1), object(10)\n",
      "memory usage: 2.7+ MB\n"
     ]
    }
   ],
   "source": [
    "df.info()"
   ]
  },
  {
   "cell_type": "markdown",
   "id": "b239d147",
   "metadata": {
    "papermill": {
     "duration": 0.007738,
     "end_time": "2025-05-09T01:03:18.009466",
     "exception": false,
     "start_time": "2025-05-09T01:03:18.001728",
     "status": "completed"
    },
    "tags": []
   },
   "source": [
    "### Export Clean Data"
   ]
  },
  {
   "cell_type": "code",
   "execution_count": 18,
   "id": "0b8c22da",
   "metadata": {
    "execution": {
     "iopub.execute_input": "2025-05-09T01:03:18.026308Z",
     "iopub.status.busy": "2025-05-09T01:03:18.025860Z",
     "iopub.status.idle": "2025-05-09T01:03:27.483071Z",
     "shell.execute_reply": "2025-05-09T01:03:27.482246Z"
    },
    "papermill": {
     "duration": 9.466942,
     "end_time": "2025-05-09T01:03:27.484168",
     "exception": false,
     "start_time": "2025-05-09T01:03:18.017226",
     "status": "completed"
    },
    "tags": []
   },
   "outputs": [
    {
     "name": "stdout",
     "output_type": "stream",
     "text": [
      "Project Root: /home/runner/work/crime-data/crime-data\n"
     ]
    },
    {
     "name": "stdout",
     "output_type": "stream",
     "text": [
      "Data saved to: /home/runner/work/crime-data/crime-data/data/charlottesville_crime_incidents.csv\n"
     ]
    },
    {
     "name": "stdout",
     "output_type": "stream",
     "text": [
      "Excel saved to: /home/runner/work/crime-data/crime-data/data/charlottesville_crime_incidents.xlsx\n"
     ]
    }
   ],
   "source": [
    "# Determine the project root (assuming papermill is run from the repository root)\n",
    "project_root = os.getcwd()\n",
    "print(\"Project Root:\", project_root)\n",
    "\n",
    "# Set the data directory within the project root\n",
    "data_dir = os.path.join(project_root, \"data\")\n",
    "\n",
    "# Ensure the \"data\" directory exists (create it if it doesn't)\n",
    "if not os.path.exists(data_dir):\n",
    "    os.makedirs(data_dir)\n",
    "\n",
    "# Export the DataFrame to CSV in the \"data\" folder located in the project root\n",
    "csv_path = os.path.join(data_dir, \"charlottesville_crime_incidents.csv\")\n",
    "df.to_csv(csv_path, index=False)\n",
    "print(\"Data saved to:\", csv_path)\n",
    "\n",
    "# Construct the path to your Excel file\n",
    "excel_path = os.path.join(data_dir, \"charlottesville_crime_incidents.xlsx\")\n",
    "\n",
    "# Export the DataFrame to Excel\n",
    "df.to_excel(excel_path, index=False)\n",
    "print(\"Excel saved to:\", excel_path)\n"
   ]
  },
  {
   "cell_type": "markdown",
   "id": "6d015cd6",
   "metadata": {
    "papermill": {
     "duration": 0.007958,
     "end_time": "2025-05-09T01:03:27.500347",
     "exception": false,
     "start_time": "2025-05-09T01:03:27.492389",
     "status": "completed"
    },
    "tags": []
   },
   "source": [
    "## Predictive Analytics"
   ]
  },
  {
   "cell_type": "code",
   "execution_count": 19,
   "id": "5b4053c2",
   "metadata": {
    "execution": {
     "iopub.execute_input": "2025-05-09T01:03:27.517896Z",
     "iopub.status.busy": "2025-05-09T01:03:27.517375Z",
     "iopub.status.idle": "2025-05-09T01:03:27.529601Z",
     "shell.execute_reply": "2025-05-09T01:03:27.528898Z"
    },
    "papermill": {
     "duration": 0.022263,
     "end_time": "2025-05-09T01:03:27.530710",
     "exception": false,
     "start_time": "2025-05-09T01:03:27.508447",
     "status": "completed"
    },
    "tags": []
   },
   "outputs": [
    {
     "data": {
      "text/html": [
       "<div>\n",
       "<style scoped>\n",
       "    .dataframe tbody tr th:only-of-type {\n",
       "        vertical-align: middle;\n",
       "    }\n",
       "\n",
       "    .dataframe tbody tr th {\n",
       "        vertical-align: top;\n",
       "    }\n",
       "\n",
       "    .dataframe thead th {\n",
       "        text-align: right;\n",
       "    }\n",
       "</style>\n",
       "<table border=\"1\" class=\"dataframe\">\n",
       "  <thead>\n",
       "    <tr style=\"text-align: right;\">\n",
       "      <th></th>\n",
       "      <th>RecordID</th>\n",
       "      <th>Offense</th>\n",
       "      <th>IncidentID</th>\n",
       "      <th>Agency</th>\n",
       "      <th>ReportingOfficer</th>\n",
       "      <th>Date</th>\n",
       "      <th>DayOfWeek</th>\n",
       "      <th>Weekend</th>\n",
       "      <th>Season</th>\n",
       "      <th>TimeOfDay</th>\n",
       "      <th>FullStreet</th>\n",
       "      <th>lat</th>\n",
       "      <th>lon</th>\n",
       "      <th>neighborhood</th>\n",
       "      <th>zip</th>\n",
       "    </tr>\n",
       "  </thead>\n",
       "  <tbody>\n",
       "    <tr>\n",
       "      <th>0</th>\n",
       "      <td>1</td>\n",
       "      <td>Robbery - Armed</td>\n",
       "      <td>202500015222</td>\n",
       "      <td>CPD</td>\n",
       "      <td>Love-Baker, Sydney</td>\n",
       "      <td>2025-05-06 22:27:29</td>\n",
       "      <td>Tuesday</td>\n",
       "      <td>False</td>\n",
       "      <td>Spring</td>\n",
       "      <td>Night</td>\n",
       "      <td>400 14TH ST NW</td>\n",
       "      <td>38.037969</td>\n",
       "      <td>-78.497278</td>\n",
       "      <td>Venable</td>\n",
       "      <td>22903</td>\n",
       "    </tr>\n",
       "    <tr>\n",
       "      <th>1</th>\n",
       "      <td>2</td>\n",
       "      <td>Drug Equipment Violation</td>\n",
       "      <td>202500015189</td>\n",
       "      <td>CPD</td>\n",
       "      <td>Ryan, Matthew</td>\n",
       "      <td>2025-05-06 18:08:01</td>\n",
       "      <td>Tuesday</td>\n",
       "      <td>False</td>\n",
       "      <td>Spring</td>\n",
       "      <td>Evening</td>\n",
       "      <td>100 E MARKET ST</td>\n",
       "      <td>38.031539</td>\n",
       "      <td>-78.481144</td>\n",
       "      <td>Downtown Mall</td>\n",
       "      <td>22902</td>\n",
       "    </tr>\n",
       "    <tr>\n",
       "      <th>2</th>\n",
       "      <td>3</td>\n",
       "      <td>Hit and Run</td>\n",
       "      <td>202500015184</td>\n",
       "      <td>CPD</td>\n",
       "      <td>Crowley, Raeann</td>\n",
       "      <td>2025-05-06 17:09:40</td>\n",
       "      <td>Tuesday</td>\n",
       "      <td>False</td>\n",
       "      <td>Spring</td>\n",
       "      <td>Evening</td>\n",
       "      <td>200 6TH ST NW</td>\n",
       "      <td>38.031849</td>\n",
       "      <td>-78.487944</td>\n",
       "      <td>Starr Hill</td>\n",
       "      <td>22903</td>\n",
       "    </tr>\n",
       "    <tr>\n",
       "      <th>3</th>\n",
       "      <td>4</td>\n",
       "      <td>Assist Citizen - Mental/TDO/ECO</td>\n",
       "      <td>202500015171</td>\n",
       "      <td>CPD</td>\n",
       "      <td>Bland, Johnnà</td>\n",
       "      <td>2025-05-06 15:41:56</td>\n",
       "      <td>Tuesday</td>\n",
       "      <td>False</td>\n",
       "      <td>Spring</td>\n",
       "      <td>Afternoon</td>\n",
       "      <td>1900 CEDAR HILL RD</td>\n",
       "      <td>38.063340</td>\n",
       "      <td>-78.495715</td>\n",
       "      <td>The Meadows</td>\n",
       "      <td>22901</td>\n",
       "    </tr>\n",
       "    <tr>\n",
       "      <th>4</th>\n",
       "      <td>5</td>\n",
       "      <td>Lost/FoundProperty</td>\n",
       "      <td>202500015175</td>\n",
       "      <td>CPD</td>\n",
       "      <td>Crowley, Raeann</td>\n",
       "      <td>2025-05-06 15:28:15</td>\n",
       "      <td>Tuesday</td>\n",
       "      <td>False</td>\n",
       "      <td>Spring</td>\n",
       "      <td>Afternoon</td>\n",
       "      <td>1600 UNIVERSITY AVE</td>\n",
       "      <td>38.035442</td>\n",
       "      <td>-78.501027</td>\n",
       "      <td>Venable</td>\n",
       "      <td>22908</td>\n",
       "    </tr>\n",
       "  </tbody>\n",
       "</table>\n",
       "</div>"
      ],
      "text/plain": [
       "   RecordID                          Offense    IncidentID Agency  \\\n",
       "0         1                  Robbery - Armed  202500015222    CPD   \n",
       "1         2         Drug Equipment Violation  202500015189    CPD   \n",
       "2         3                      Hit and Run  202500015184    CPD   \n",
       "3         4  Assist Citizen - Mental/TDO/ECO  202500015171    CPD   \n",
       "4         5               Lost/FoundProperty  202500015175    CPD   \n",
       "\n",
       "     ReportingOfficer                Date DayOfWeek  Weekend  Season  \\\n",
       "0  Love-Baker, Sydney 2025-05-06 22:27:29   Tuesday    False  Spring   \n",
       "1       Ryan, Matthew 2025-05-06 18:08:01   Tuesday    False  Spring   \n",
       "2     Crowley, Raeann 2025-05-06 17:09:40   Tuesday    False  Spring   \n",
       "3       Bland, Johnnà 2025-05-06 15:41:56   Tuesday    False  Spring   \n",
       "4     Crowley, Raeann 2025-05-06 15:28:15   Tuesday    False  Spring   \n",
       "\n",
       "   TimeOfDay           FullStreet        lat        lon   neighborhood    zip  \n",
       "0      Night       400 14TH ST NW  38.037969 -78.497278        Venable  22903  \n",
       "1    Evening      100 E MARKET ST  38.031539 -78.481144  Downtown Mall  22902  \n",
       "2    Evening        200 6TH ST NW  38.031849 -78.487944     Starr Hill  22903  \n",
       "3  Afternoon   1900 CEDAR HILL RD  38.063340 -78.495715    The Meadows  22901  \n",
       "4  Afternoon  1600 UNIVERSITY AVE  38.035442 -78.501027        Venable  22908  "
      ]
     },
     "execution_count": 19,
     "metadata": {},
     "output_type": "execute_result"
    }
   ],
   "source": [
    "df.head()"
   ]
  },
  {
   "cell_type": "code",
   "execution_count": 20,
   "id": "6a5ef273",
   "metadata": {
    "execution": {
     "iopub.execute_input": "2025-05-09T01:03:27.548557Z",
     "iopub.status.busy": "2025-05-09T01:03:27.547946Z",
     "iopub.status.idle": "2025-05-09T01:03:27.552833Z",
     "shell.execute_reply": "2025-05-09T01:03:27.552136Z"
    },
    "papermill": {
     "duration": 0.014976,
     "end_time": "2025-05-09T01:03:27.553957",
     "exception": false,
     "start_time": "2025-05-09T01:03:27.538981",
     "status": "completed"
    },
    "tags": []
   },
   "outputs": [
    {
     "data": {
      "text/plain": [
       "Index(['RecordID', 'Offense', 'IncidentID', 'Agency', 'ReportingOfficer',\n",
       "       'Date', 'DayOfWeek', 'Weekend', 'Season', 'TimeOfDay', 'FullStreet',\n",
       "       'lat', 'lon', 'neighborhood', 'zip'],\n",
       "      dtype='object')"
      ]
     },
     "execution_count": 20,
     "metadata": {},
     "output_type": "execute_result"
    }
   ],
   "source": [
    "df.columns"
   ]
  },
  {
   "cell_type": "markdown",
   "id": "1ef63342",
   "metadata": {
    "papermill": {
     "duration": 0.008125,
     "end_time": "2025-05-09T01:03:27.570693",
     "exception": false,
     "start_time": "2025-05-09T01:03:27.562568",
     "status": "completed"
    },
    "tags": []
   },
   "source": [
    "### Data Preparation\n",
    "\n",
    "We need to ensure the data is in the correct format for modeling and can handle missing values, categorical variables, and dates. Here's how to prepare your data:"
   ]
  },
  {
   "cell_type": "code",
   "execution_count": 21,
   "id": "21a0cc44",
   "metadata": {
    "execution": {
     "iopub.execute_input": "2025-05-09T01:03:27.588475Z",
     "iopub.status.busy": "2025-05-09T01:03:27.588016Z",
     "iopub.status.idle": "2025-05-09T01:03:29.536083Z",
     "shell.execute_reply": "2025-05-09T01:03:29.535272Z"
    },
    "papermill": {
     "duration": 1.958676,
     "end_time": "2025-05-09T01:03:29.537475",
     "exception": false,
     "start_time": "2025-05-09T01:03:27.578799",
     "status": "completed"
    },
    "tags": []
   },
   "outputs": [],
   "source": [
    "import pandas as pd\n",
    "from sklearn.model_selection import train_test_split\n",
    "from sklearn.preprocessing import OneHotEncoder, LabelEncoder\n",
    "from sklearn.ensemble import RandomForestClassifier\n",
    "from sklearn.linear_model import LogisticRegression\n",
    "from sklearn.tree import DecisionTreeClassifier\n",
    "from sklearn.metrics import classification_report, accuracy_score\n",
    "import seaborn as sns\n",
    "import matplotlib.pyplot as plt\n",
    "\n",
    "# Convert 'Date' to datetime\n",
    "df['Date'] = pd.to_datetime(df['Date'])\n",
    "\n",
    "# Feature engineering: Extract additional time-based features\n",
    "df['Year'] = df['Date'].dt.year\n",
    "df['Month'] = df['Date'].dt.month\n",
    "df['DayOfMonth'] = df['Date'].dt.day\n",
    "\n",
    "# One-hot encoding for 'FullStreet', 'neighborhood', 'zip'\n",
    "df = pd.get_dummies(df, columns=['FullStreet', 'neighborhood', 'zip'], drop_first=True)\n",
    "\n",
    "# Label encoding for ordered variables (those with a natural order like 'DayOfWeek', 'Season', 'TimeOfDay')\n",
    "label_encoders = {}\n",
    "for column in ['DayOfWeek', 'Season', 'TimeOfDay', 'Agency', 'ReportingOfficer']:  # Example ordinal variables\n",
    "    le = LabelEncoder()\n",
    "    df[column] = le.fit_transform(df[column])\n",
    "    label_encoders[column] = le\n",
    "\n",
    "# Filter the dataset to include only the offenses of interest\n",
    "offenses_of_interest = [\n",
    "    'Hit and Run', 'Assault Simple', 'Suspicious Activity', 'Vandalism', \n",
    "    'Larceny - From Mot Vehicle', 'Larceny - All Other', \n",
    "    'Assist Citizen - Mental/TDO/ECO', 'Lost/FoundProperty'\n",
    "]\n",
    "\n",
    "df = df[df['Offense'].isin(offenses_of_interest)]\n",
    "\n",
    "# Label encode the target variable (Offense)\n",
    "offense_encoder = LabelEncoder()\n",
    "df['Offense'] = offense_encoder.fit_transform(df['Offense'])\n",
    "\n",
    "# Separate features (X) and target (y)\n",
    "X = df[['Year', 'Month', 'DayOfMonth', 'DayOfWeek', 'Weekend', 'Season', 'TimeOfDay', 'lat', 'lon', 'Agency', 'ReportingOfficer']]\n",
    "y = df['Offense']  # Offense is now the encoded target variable\n",
    "\n",
    "# Split the data into training and testing sets\n",
    "X_train, X_test, y_train, y_test = train_test_split(X, y, test_size=0.3, random_state=42)\n"
   ]
  },
  {
   "cell_type": "markdown",
   "id": "5f28fbf4",
   "metadata": {
    "papermill": {
     "duration": 0.008092,
     "end_time": "2025-05-09T01:03:29.554200",
     "exception": false,
     "start_time": "2025-05-09T01:03:29.546108",
     "status": "completed"
    },
    "tags": []
   },
   "source": [
    "### Model Training\n",
    "\n",
    "Here we will train several models (e.g., Random Forest, Logistic Regression, and Decision Tree). We will use cross-validation to choose the best model based on accuracy, and then explain the impact of the variables."
   ]
  },
  {
   "cell_type": "code",
   "execution_count": 22,
   "id": "1729c2c3",
   "metadata": {
    "execution": {
     "iopub.execute_input": "2025-05-09T01:03:29.572165Z",
     "iopub.status.busy": "2025-05-09T01:03:29.571479Z",
     "iopub.status.idle": "2025-05-09T01:03:33.205570Z",
     "shell.execute_reply": "2025-05-09T01:03:33.204931Z"
    },
    "papermill": {
     "duration": 3.644353,
     "end_time": "2025-05-09T01:03:33.206612",
     "exception": false,
     "start_time": "2025-05-09T01:03:29.562259",
     "status": "completed"
    },
    "tags": []
   },
   "outputs": [
    {
     "name": "stderr",
     "output_type": "stream",
     "text": [
      "/opt/hostedtoolcache/Python/3.9.22/x64/lib/python3.9/site-packages/sklearn/linear_model/_logistic.py:465: ConvergenceWarning: lbfgs failed to converge (status=1):\n",
      "STOP: TOTAL NO. of ITERATIONS REACHED LIMIT.\n",
      "\n",
      "Increase the number of iterations (max_iter) or scale the data as shown in:\n",
      "    https://scikit-learn.org/stable/modules/preprocessing.html\n",
      "Please also refer to the documentation for alternative solver options:\n",
      "    https://scikit-learn.org/stable/modules/linear_model.html#logistic-regression\n",
      "  n_iter_i = _check_optimize_result(\n",
      "/opt/hostedtoolcache/Python/3.9.22/x64/lib/python3.9/site-packages/sklearn/metrics/_classification.py:1565: UndefinedMetricWarning: Precision is ill-defined and being set to 0.0 in labels with no predicted samples. Use `zero_division` parameter to control this behavior.\n",
      "  _warn_prf(average, modifier, f\"{metric.capitalize()} is\", len(result))\n",
      "/opt/hostedtoolcache/Python/3.9.22/x64/lib/python3.9/site-packages/sklearn/metrics/_classification.py:1565: UndefinedMetricWarning: Precision is ill-defined and being set to 0.0 in labels with no predicted samples. Use `zero_division` parameter to control this behavior.\n",
      "  _warn_prf(average, modifier, f\"{metric.capitalize()} is\", len(result))\n",
      "/opt/hostedtoolcache/Python/3.9.22/x64/lib/python3.9/site-packages/sklearn/metrics/_classification.py:1565: UndefinedMetricWarning: Precision is ill-defined and being set to 0.0 in labels with no predicted samples. Use `zero_division` parameter to control this behavior.\n",
      "  _warn_prf(average, modifier, f\"{metric.capitalize()} is\", len(result))\n"
     ]
    },
    {
     "name": "stdout",
     "output_type": "stream",
     "text": [
      "\n",
      "Classification Report for All Models:\n",
      "\n",
      "Model: RandomForest\n",
      "Accuracy: 0.2817\n",
      "              precision    recall  f1-score     support\n",
      "0              0.277333  0.366197  0.315630   568.00000\n",
      "1              0.294118  0.239295  0.263889   397.00000\n",
      "2              0.303158  0.442396  0.359775   651.00000\n",
      "3              0.206349  0.161826  0.181395   482.00000\n",
      "4              0.305310  0.191136  0.235094   361.00000\n",
      "5              0.256696  0.225049  0.239833   511.00000\n",
      "6              0.314356  0.249509  0.278204   509.00000\n",
      "accuracy       0.281690  0.281690  0.281690     0.28169\n",
      "macro avg      0.279617  0.267915  0.267689  3479.00000\n",
      "weighted avg   0.279535  0.281690  0.274423  3479.00000\n"
     ]
    },
    {
     "data": {
      "image/png": "[encoded data removed]",
      "text/plain": [
       "<Figure size 800x600 with 2 Axes>"
      ]
     },
     "metadata": {},
     "output_type": "display_data"
    },
    {
     "name": "stdout",
     "output_type": "stream",
     "text": [
      "\n",
      "Model: LogisticRegression\n",
      "Accuracy: 0.2084\n",
      "              precision    recall  f1-score      support\n",
      "0              0.205489  0.514085  0.293615   568.000000\n",
      "1              0.000000  0.000000  0.000000   397.000000\n",
      "2              0.210398  0.665131  0.319675   651.000000\n",
      "3              0.000000  0.000000  0.000000   482.000000\n",
      "4              0.000000  0.000000  0.000000   361.000000\n",
      "5              0.000000  0.000000  0.000000   511.000000\n",
      "6              0.000000  0.000000  0.000000   509.000000\n",
      "accuracy       0.208393  0.208393  0.208393     0.208393\n",
      "macro avg      0.059413  0.168459  0.087613  3479.000000\n",
      "weighted avg   0.072920  0.208393  0.107756  3479.000000\n"
     ]
    },
    {
     "data": {
      "image/png": "[encoded data removed]",
      "text/plain": [
       "<Figure size 800x600 with 2 Axes>"
      ]
     },
     "metadata": {},
     "output_type": "display_data"
    },
    {
     "name": "stdout",
     "output_type": "stream",
     "text": [
      "\n",
      "Model: DecisionTree\n",
      "Accuracy: 0.2219\n",
      "              precision    recall  f1-score      support\n",
      "0              0.228995  0.244718  0.236596   568.000000\n",
      "1              0.223077  0.219144  0.221093   397.000000\n",
      "2              0.288084  0.293395  0.290715   651.000000\n",
      "3              0.168919  0.155602  0.161987   482.000000\n",
      "4              0.177994  0.152355  0.164179   361.000000\n",
      "5              0.207207  0.225049  0.215760   511.000000\n",
      "6              0.215264  0.216110  0.215686   509.000000\n",
      "accuracy       0.221903  0.221903  0.221903     0.221903\n",
      "macro avg      0.215649  0.215196  0.215145  3479.000000\n",
      "weighted avg   0.220552  0.221903  0.220983  3479.000000\n"
     ]
    },
    {
     "data": {
      "image/png": "[encoded data removed]",
      "text/plain": [
       "<Figure size 800x600 with 2 Axes>"
      ]
     },
     "metadata": {},
     "output_type": "display_data"
    },
    {
     "name": "stdout",
     "output_type": "stream",
     "text": [
      "\n",
      "Best Model:\n",
      "Best Model: RandomForestClassifier()\n",
      "Best Model Accuracy: 0.2817\n"
     ]
    }
   ],
   "source": [
    "import pandas as pd\n",
    "from sklearn.model_selection import train_test_split\n",
    "from sklearn.ensemble import RandomForestClassifier\n",
    "from sklearn.linear_model import LogisticRegression\n",
    "from sklearn.tree import DecisionTreeClassifier\n",
    "from sklearn.metrics import classification_report, accuracy_score, confusion_matrix\n",
    "import seaborn as sns\n",
    "import matplotlib.pyplot as plt\n",
    "\n",
    "# Define models\n",
    "models = {\n",
    "    'RandomForest': RandomForestClassifier(),\n",
    "    'LogisticRegression': LogisticRegression(max_iter=1000),\n",
    "    'DecisionTree': DecisionTreeClassifier()\n",
    "}\n",
    "\n",
    "# Train models and evaluate them\n",
    "best_model = None\n",
    "best_score = 0\n",
    "model_reports = {}\n",
    "\n",
    "for model_name, model in models.items():\n",
    "    model.fit(X_train, y_train)  # Train model\n",
    "    y_pred = model.predict(X_test)  # Make predictions\n",
    "    \n",
    "    # Calculate accuracy and generate classification report\n",
    "    accuracy = accuracy_score(y_test, y_pred)\n",
    "    model_reports[model_name] = classification_report(y_test, y_pred, output_dict=True)  # Store as a dictionary for easier analysis\n",
    "    \n",
    "    # Track best performing model\n",
    "    if accuracy > best_score:\n",
    "        best_score = accuracy\n",
    "        best_model = model\n",
    "\n",
    "# Display classification reports and confusion matrices\n",
    "print(\"\\nClassification Report for All Models:\")\n",
    "for model_name, report in model_reports.items():\n",
    "    print(f\"\\nModel: {model_name}\")\n",
    "    print(\"Accuracy: {:.4f}\".format(accuracy_score(y_test, models[model_name].predict(X_test))))  # Display accuracy\n",
    "    print(pd.DataFrame(report).transpose())  # Display classification report as a DataFrame\n",
    "\n",
    "    # Plot Confusion Matrix\n",
    "    cm = confusion_matrix(y_test, models[model_name].predict(X_test))\n",
    "    plt.figure(figsize=(8, 6))\n",
    "    sns.heatmap(cm, annot=True, fmt=\"d\", cmap='Blues', xticklabels=offense_encoder.classes_, yticklabels=offense_encoder.classes_)\n",
    "    plt.title(f\"Confusion Matrix - {model_name}\")\n",
    "    plt.xlabel('Predicted Labels')\n",
    "    plt.ylabel('True Labels')\n",
    "    plt.show()\n",
    "\n",
    "# Display best model details\n",
    "print(\"\\nBest Model:\")\n",
    "print(f\"Best Model: {best_model}\")\n",
    "print(f\"Best Model Accuracy: {best_score:.4f}\")\n"
   ]
  },
  {
   "cell_type": "markdown",
   "id": "a8bad8aa",
   "metadata": {
    "papermill": {
     "duration": 0.010949,
     "end_time": "2025-05-09T01:03:33.229193",
     "exception": false,
     "start_time": "2025-05-09T01:03:33.218244",
     "status": "completed"
    },
    "tags": []
   },
   "source": [
    "#### Classification Report for All Models:\n",
    "\n",
    "### Explanation of the Classification Results (RandomForest Model)\n",
    "\n",
    "The results you provided are from a **Random Forest** model, which is used for predicting different types of offenses. Let's break down the key components of the results:\n",
    "\n",
    "#### 1. **Accuracy: 0.2822**\n",
    "   - **Accuracy** measures the overall percentage of correct predictions made by the model. An accuracy of 28.22% means the model correctly predicted the offense in about 28% of the cases. This indicates the model's predictions are not highly reliable, as the accuracy is quite low.\n",
    "\n",
    "#### 2. **Classification Report:**\n",
    "   The classification report includes precision, recall, and F1-score for each offense. Let's go over these terms and how they apply to the results:\n",
    "\n",
    "   - **Precision**: The proportion of true positive predictions out of all positive predictions made by the model for a specific class (offense).\n",
    "   - **Recall**: The proportion of true positive predictions out of all actual positive instances in the dataset.\n",
    "   - **F1-Score**: The harmonic mean of precision and recall, providing a balance between the two metrics.\n",
    "   - **Support**: The number of actual occurrences of each class in the test set.\n",
    "\n",
    "   Let's analyze each offense based on these metrics:\n",
    "\n",
    "   | **Offense**                        | **Precision** | **Recall** | **F1-Score** | **Support** |\n",
    "   |------------------------------------|---------------|------------|--------------|-------------|\n",
    "   | **Assault Simple**                 | 0.2892        | 0.3754     | 0.3267       | 594         |\n",
    "   | **Assist Citizen - Mental/TDO/ECO**| 0.3182        | 0.2274     | 0.2652       | 431         |\n",
    "   | **Hit and Run**                    | 0.2963        | 0.4765     | 0.3654       | 638         |\n",
    "   | **Larceny - All Other**            | 0.2270        | 0.1453     | 0.1772       | 475         |\n",
    "   | **Lost/FoundProperty**             | 0.3333        | 0.2102     | 0.2578       | 352         |\n",
    "   | **Suspicious Activity**            | 0.2344        | 0.2169     | 0.2253       | 484         |\n",
    "   | **Vandalism**                      | 0.2712        | 0.2106     | 0.2371       | 470         |\n",
    "\n",
    "#### 3. **Key Insights from the Report:**\n",
    "\n",
    "- **Precision**:\n",
    "   - The highest precision is for **Larceny - All Other** (0.3333), indicating that when the model predicts this offense, it is correct about 33% of the time. However, this is still quite low.\n",
    "   - **Assist Citizen - Mental/TDO/ECO** has the lowest precision (0.2269), meaning that the model's predictions for this offense tend to be wrong more often than correct.\n",
    "\n",
    "- **Recall**:\n",
    "   - **Hit and Run** has the highest recall (0.4765), meaning the model identifies about 48% of the actual occurrences of this offense. This is better than the precision, which indicates it is missing many true positives but is still able to identify a fair number of cases.\n",
    "   - **Larceny - All Other** and **Suspicious Activity** have the lowest recall values (0.1453 and 0.2169, respectively), indicating that the model is failing to identify most of the actual cases for these offenses.\n",
    "\n",
    "- **F1-Score**:\n",
    "   - The **F1-Score** balances precision and recall. It is highest for **Hit and Run** (0.3654), but still relatively low overall. This suggests the model is better at identifying **Hit and Run** than other offenses but still has room for improvement.\n",
    "   - **Larceny - All Other** has the lowest F1-Score (0.1772), indicating a poor balance between precision and recall for this offense.\n",
    "\n",
    "#### 4. **Macro Average and Weighted Average:**\n",
    "   - **Macro Average**: This gives the average precision, recall, and F1-Score across all classes (offenses) without considering the class distribution. It averages the results for all offenses equally.\n",
    "     - Precision: 0.2814\n",
    "     - Recall: 0.2661\n",
    "     - F1-Score: 0.2649\n",
    "   - **Weighted Average**: This averages the metrics but weighs each class by its support (the number of true instances in the test set). This gives a better sense of overall performance, considering the class distribution.\n",
    "     - Precision: 0.2799\n",
    "     - Recall: 0.2822\n",
    "     - F1-Score: 0.2720\n",
    "\n",
    "#### 5. **Confusion Matrix (Visualization Analysis)**:\n",
    "   - The confusion matrix shows the distribution of true positive, false positive, true negative, and false negative predictions for each class.\n",
    "     - For **Hit and Run**, the model performs relatively well in identifying this offense (304 true positives). However, it also misclassifies some **Hit and Run** instances as other offenses (e.g., **Assault Simple**, **Suspicious Activity**, etc.).\n",
    "     - **Larceny - All Other** is frequently misclassified as **Hit and Run**, **Suspicious Activity**, and others. This is evident from the large number of off-diagonal elements in its row.\n",
    "     - **Assist Citizen - Mental/TDO/ECO** and **Suspicious Activity** are frequently misclassified, as seen by the off-diagonal values in their rows.\n",
    "\n",
    "### Conclusion:\n",
    "The Random Forest model has low accuracy (28.22%), suggesting that it struggles to predict most offenses accurately. Some offenses like **Hit and Run** are better predicted than others, but overall, the model shows a high level of misclassification across all offenses. There may be a need for further tuning of the model, additional feature engineering, or trying different models for better performance.\n",
    "\n",
    "Let me know if you'd like to improve the model or make adjustments based on these results!\n",
    "\n"
   ]
  },
  {
   "cell_type": "markdown",
   "id": "373245bc",
   "metadata": {
    "papermill": {
     "duration": 0.010705,
     "end_time": "2025-05-09T01:03:33.250728",
     "exception": false,
     "start_time": "2025-05-09T01:03:33.240023",
     "status": "completed"
    },
    "tags": []
   },
   "source": [
    "### Model Explanation\n",
    "\n",
    "Once we’ve chosen the best model, we will explain its predictions by examining feature importance for tree-based models and using statistical methods like logistic regression coefficients for linear models."
   ]
  },
  {
   "cell_type": "markdown",
   "id": "7aa53ef5",
   "metadata": {
    "papermill": {
     "duration": 0.011103,
     "end_time": "2025-05-09T01:03:33.272568",
     "exception": false,
     "start_time": "2025-05-09T01:03:33.261465",
     "status": "completed"
    },
    "tags": []
   },
   "source": [
    "#### Feature Importance for Random Forest / Decision Tree\n",
    "\n",
    "##### For Tree-based Models (Random Forest, Decision Tree)\n",
    "\n",
    "For Random Forest or Decision Tree, we can look at feature importance to understand which variables contribute the most to the model's predictions. Here's how you can visualize and interpret the importance of each feature:"
   ]
  },
  {
   "cell_type": "code",
   "execution_count": 23,
   "id": "7de998bf",
   "metadata": {
    "execution": {
     "iopub.execute_input": "2025-05-09T01:03:33.295959Z",
     "iopub.status.busy": "2025-05-09T01:03:33.295427Z",
     "iopub.status.idle": "2025-05-09T01:03:33.467368Z",
     "shell.execute_reply": "2025-05-09T01:03:33.466674Z"
    },
    "papermill": {
     "duration": 0.184865,
     "end_time": "2025-05-09T01:03:33.468399",
     "exception": false,
     "start_time": "2025-05-09T01:03:33.283534",
     "status": "completed"
    },
    "tags": []
   },
   "outputs": [
    {
     "data": {
      "image/png": "[encoded data removed]",
      "text/plain": [
       "<Figure size 1000x600 with 1 Axes>"
      ]
     },
     "metadata": {},
     "output_type": "display_data"
    }
   ],
   "source": [
    "# For RandomForest or DecisionTree models, we can check feature importance\n",
    "if isinstance(best_model, RandomForestClassifier) or isinstance(best_model, DecisionTreeClassifier):\n",
    "    feature_importance = best_model.feature_importances_\n",
    "    feature_names = X.columns\n",
    "    importance_df = pd.DataFrame({'Feature': feature_names, 'Importance': feature_importance})\n",
    "    importance_df = importance_df.sort_values(by='Importance', ascending=False)\n",
    "    \n",
    "    # Plotting the feature importances\n",
    "    plt.figure(figsize=(10, 6))\n",
    "    sns.barplot(x='Importance', y='Feature', data=importance_df)\n",
    "    plt.title(\"Feature Importance\")\n",
    "    plt.show()\n"
   ]
  },
  {
   "cell_type": "code",
   "execution_count": null,
   "id": "047aaaa4",
   "metadata": {
    "papermill": {
     "duration": 0.011052,
     "end_time": "2025-05-09T01:03:33.491068",
     "exception": false,
     "start_time": "2025-05-09T01:03:33.480016",
     "status": "completed"
    },
    "tags": []
   },
   "outputs": [],
   "source": []
  },
  {
   "cell_type": "markdown",
   "id": "e219a64f",
   "metadata": {
    "papermill": {
     "duration": 0.011126,
     "end_time": "2025-05-09T01:03:33.513351",
     "exception": false,
     "start_time": "2025-05-09T01:03:33.502225",
     "status": "completed"
    },
    "tags": []
   },
   "source": [
    "### Evaluation\n",
    "\n",
    "After training the models and examining their performance, we evaluate the chosen model based on metrics like accuracy, precision, recall, and F1 score.\n",
    "\n"
   ]
  },
  {
   "cell_type": "code",
   "execution_count": 24,
   "id": "690c153f",
   "metadata": {
    "execution": {
     "iopub.execute_input": "2025-05-09T01:03:33.537675Z",
     "iopub.status.busy": "2025-05-09T01:03:33.537066Z",
     "iopub.status.idle": "2025-05-09T01:03:33.627520Z",
     "shell.execute_reply": "2025-05-09T01:03:33.626796Z"
    },
    "papermill": {
     "duration": 0.10403,
     "end_time": "2025-05-09T01:03:33.628688",
     "exception": false,
     "start_time": "2025-05-09T01:03:33.524658",
     "status": "completed"
    },
    "tags": []
   },
   "outputs": [
    {
     "name": "stdout",
     "output_type": "stream",
     "text": [
      "Accuracy: 0.2817\n",
      "Classification Report:\n",
      "              precision    recall  f1-score   support\n",
      "\n",
      "           0       0.28      0.37      0.32       568\n",
      "           1       0.29      0.24      0.26       397\n",
      "           2       0.30      0.44      0.36       651\n",
      "           3       0.21      0.16      0.18       482\n",
      "           4       0.31      0.19      0.24       361\n",
      "           5       0.26      0.23      0.24       511\n",
      "           6       0.31      0.25      0.28       509\n",
      "\n",
      "    accuracy                           0.28      3479\n",
      "   macro avg       0.28      0.27      0.27      3479\n",
      "weighted avg       0.28      0.28      0.27      3479\n",
      "\n",
      "Confusion Matrix:\n",
      "[[208  48 122  55  28  60  47]\n",
      " [103  95  91  31  19  34  24]\n",
      " [117  36 288  67  21  71  51]\n",
      " [ 84  32 135  78  30  62  61]\n",
      " [ 49  27  77  51  69  37  51]\n",
      " [108  49 125  47  24 115  43]\n",
      " [ 81  36 112  49  35  69 127]]\n",
      "Precision: 0.2795\n",
      "Recall: 0.2817\n",
      "F1 Score: 0.2744\n"
     ]
    }
   ],
   "source": [
    "from sklearn.metrics import classification_report, confusion_matrix, accuracy_score, precision_score, recall_score, f1_score\n",
    "\n",
    "# Predict on the test set\n",
    "y_pred = best_model.predict(X_test)\n",
    "\n",
    "# Calculate Accuracy\n",
    "accuracy = accuracy_score(y_test, y_pred)\n",
    "print(f\"Accuracy: {accuracy:.4f}\")\n",
    "\n",
    "# Classification Report\n",
    "print(\"Classification Report:\")\n",
    "print(classification_report(y_test, y_pred))\n",
    "\n",
    "# Confusion Matrix\n",
    "conf_matrix = confusion_matrix(y_test, y_pred)\n",
    "print(\"Confusion Matrix:\")\n",
    "print(conf_matrix)\n",
    "\n",
    "# Precision, Recall, F1 Score for each class (Offense Type)\n",
    "precision = precision_score(y_test, y_pred, average='weighted')\n",
    "recall = recall_score(y_test, y_pred, average='weighted')\n",
    "f1 = f1_score(y_test, y_pred, average='weighted')\n",
    "\n",
    "print(f\"Precision: {precision:.4f}\")\n",
    "print(f\"Recall: {recall:.4f}\")\n",
    "print(f\"F1 Score: {f1:.4f}\")\n"
   ]
  },
  {
   "cell_type": "markdown",
   "id": "98899193",
   "metadata": {
    "papermill": {
     "duration": 0.011205,
     "end_time": "2025-05-09T01:03:33.651562",
     "exception": false,
     "start_time": "2025-05-09T01:03:33.640357",
     "status": "completed"
    },
    "tags": []
   },
   "source": [
    "#### For Logistic Regression (Coefficient Interpretation)\n",
    "\n",
    "For Logistic Regression, the model coefficients can help us understand how each feature affects the likelihood of an offense happening. A positive coefficient indicates a feature increases the likelihood of the offense, and a negative coefficient indicates the opposite."
   ]
  },
  {
   "cell_type": "code",
   "execution_count": 25,
   "id": "f801c60b",
   "metadata": {
    "execution": {
     "iopub.execute_input": "2025-05-09T01:03:33.675296Z",
     "iopub.status.busy": "2025-05-09T01:03:33.674992Z",
     "iopub.status.idle": "2025-05-09T01:03:33.680410Z",
     "shell.execute_reply": "2025-05-09T01:03:33.679736Z"
    },
    "papermill": {
     "duration": 0.018777,
     "end_time": "2025-05-09T01:03:33.681535",
     "exception": false,
     "start_time": "2025-05-09T01:03:33.662758",
     "status": "completed"
    },
    "tags": []
   },
   "outputs": [],
   "source": [
    "if isinstance(best_model, LogisticRegression):\n",
    "    # Logistic regression coefficients\n",
    "    coef_df = pd.DataFrame({\n",
    "        'Feature': X.columns,\n",
    "        'Coefficient': best_model.coef_[0]\n",
    "    })\n",
    "    coef_df['AbsCoefficient'] = coef_df['Coefficient'].abs()\n",
    "    coef_df = coef_df.sort_values(by='AbsCoefficient', ascending=False)\n",
    "    \n",
    "    # Plotting the coefficients\n",
    "    plt.figure(figsize=(10, 6))\n",
    "    sns.barplot(x='AbsCoefficient', y='Feature', data=coef_df)\n",
    "    plt.title(\"Logistic Regression Coefficients Impact\")\n",
    "    plt.show()\n",
    "\n",
    "    # Print the top 5 most impactful features (by absolute coefficient value)\n",
    "    print(\"Top 5 most impactful features based on coefficients:\")\n",
    "    print(coef_df.head())\n"
   ]
  },
  {
   "cell_type": "markdown",
   "id": "33a52d33",
   "metadata": {
    "papermill": {
     "duration": 0.011178,
     "end_time": "2025-05-09T01:03:33.704124",
     "exception": false,
     "start_time": "2025-05-09T01:03:33.692946",
     "status": "completed"
    },
    "tags": []
   },
   "source": [
    "Explanation of Output:\n",
    "\n",
    "Feature Importance (Random Forest/Decision Tree): The bar plot will show how important each feature is in the decision-making process. Features at the top of the list are the most influential in predicting the occurrence of offenses.\n",
    "\n",
    "Logistic Regression Coefficients: The bar plot will show the magnitude of the coefficients for each feature. Features with larger absolute values (either positive or negative) have a stronger impact on the model’s predictions. Positive coefficients increase the probability of an offense, while negative coefficients decrease it."
   ]
  },
  {
   "cell_type": "markdown",
   "id": "cddb00b9",
   "metadata": {
    "papermill": {
     "duration": 0.011397,
     "end_time": "2025-05-09T01:03:33.726711",
     "exception": false,
     "start_time": "2025-05-09T01:03:33.715314",
     "status": "completed"
    },
    "tags": []
   },
   "source": []
  }
 ],
 "metadata": {
  "kernelspec": {
   "display_name": "Python 3",
   "language": "python",
   "name": "python3"
  },
  "language_info": {
   "codemirror_mode": {
    "name": "ipython",
    "version": 3
   },
   "file_extension": ".py",
   "mimetype": "text/x-python",
   "name": "python",
   "nbconvert_exporter": "python",
   "pygments_lexer": "ipython3",
   "version": "3.9.22"
  },
  "papermill": {
   "default_parameters": {},
   "duration": 83.170053,
   "end_time": "2025-05-09T01:03:34.255768",
   "environment_variables": {},
   "exception": null,
   "input_path": "notebook/Crime Data.ipynb",
   "output_path": "notebook/Crime Data_output.ipynb",
   "parameters": {},
   "start_time": "2025-05-09T01:02:11.085715",
   "version": "2.6.0"
  }
 },
 "nbformat": 4,
 "nbformat_minor": 5
}