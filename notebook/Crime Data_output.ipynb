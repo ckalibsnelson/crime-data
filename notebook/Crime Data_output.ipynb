{
 "cells": [
  {
   "cell_type": "markdown",
   "id": "c797118f",
   "metadata": {
    "papermill": {
     "duration": 0.004357,
     "end_time": "2025-07-18T01:08:14.552347",
     "exception": false,
     "start_time": "2025-07-18T01:08:14.547990",
     "status": "completed"
    },
    "tags": []
   },
   "source": [
    "# Charlottesville Open Data Porttal: Crime Data"
   ]
  },
  {
   "cell_type": "markdown",
   "id": "adce2223",
   "metadata": {
    "papermill": {
     "duration": 0.003267,
     "end_time": "2025-07-18T01:08:14.559242",
     "exception": false,
     "start_time": "2025-07-18T01:08:14.555975",
     "status": "completed"
    },
    "tags": []
   },
   "source": [
    "## Import Relevant Librarires & Set WD"
   ]
  },
  {
   "cell_type": "code",
   "execution_count": 1,
   "id": "472ec699",
   "metadata": {
    "execution": {
     "iopub.execute_input": "2025-07-18T01:08:14.567489Z",
     "iopub.status.busy": "2025-07-18T01:08:14.566787Z",
     "iopub.status.idle": "2025-07-18T01:08:15.285537Z",
     "shell.execute_reply": "2025-07-18T01:08:15.284876Z"
    },
    "papermill": {
     "duration": 0.724475,
     "end_time": "2025-07-18T01:08:15.286958",
     "exception": false,
     "start_time": "2025-07-18T01:08:14.562483",
     "status": "completed"
    },
    "tags": []
   },
   "outputs": [],
   "source": [
    "import requests\n",
    "import pandas as pd\n",
    "import numpy as np\n",
    "import pickle\n",
    "import googlemaps\n",
    "import plotly.express as px\n",
    "from geopy.geocoders import Nominatim\n",
    "import time\n",
    "from dotenv import load_dotenv\n",
    "import os\n",
    "\n",
    "env_path = os.path.join(\"..\", \".env\")\n",
    "#print(\"Looking for .env file at:\", os.path.abspath(env_path))\n",
    "load_dotenv(dotenv_path=env_path)\n",
    "\n",
    "# Retrieve the variables\n",
    "GOOGLE_API_KEY = os.getenv(\"GOOGLE_API_KEY\")\n",
    "WORKING_DIR = os.getenv(\"WORKING_DIR\")\n",
    "\n",
    "if GOOGLE_API_KEY is None or WORKING_DIR is None:\n",
    "    raise RuntimeError(\"No configuration found. Please ensure that your .env file exists with the required variables, or create a local config.py file.\")\n",
    "\n",
    "#print(\"Google API Key:\", GOOGLE_API_KEY)\n",
    "#print(\"Working Directory:\", WORKING_DIR)"
   ]
  },
  {
   "cell_type": "markdown",
   "id": "f942cd4c",
   "metadata": {
    "papermill": {
     "duration": 0.003288,
     "end_time": "2025-07-18T01:08:15.293914",
     "exception": false,
     "start_time": "2025-07-18T01:08:15.290626",
     "status": "completed"
    },
    "tags": []
   },
   "source": [
    "## Import Data\n",
    "\n",
    "URL: https://opendata.charlottesville.org/datasets/charlottesville::crime-data/about"
   ]
  },
  {
   "cell_type": "code",
   "execution_count": 2,
   "id": "83f489bb",
   "metadata": {
    "execution": {
     "iopub.execute_input": "2025-07-18T01:08:15.301955Z",
     "iopub.status.busy": "2025-07-18T01:08:15.301318Z",
     "iopub.status.idle": "2025-07-18T01:09:23.808050Z",
     "shell.execute_reply": "2025-07-18T01:09:23.807378Z"
    },
    "papermill": {
     "duration": 68.514707,
     "end_time": "2025-07-18T01:09:23.812003",
     "exception": false,
     "start_time": "2025-07-18T01:08:15.297296",
     "status": "completed"
    },
    "tags": []
   },
   "outputs": [
    {
     "name": "stdout",
     "output_type": "stream",
     "text": [
      "Total records imported: 25532\n"
     ]
    }
   ],
   "source": [
    "# Define the endpoint and initial parameters.\n",
    "url = \"https://gisweb.charlottesville.org/arcgis/rest/services/OpenData_2/MapServer/6/query\"\n",
    "params = {\n",
    "    \"where\": \"1=1\",\n",
    "    \"outFields\": \"*\",\n",
    "    \"outSR\": 4326,\n",
    "    \"f\": \"json\",\n",
    "    \"resultOffset\": 0,       # Starting index for results\n",
    "    \"resultRecordCount\": 10000  # Maximum records per batch (if allowed by the API)\n",
    "}\n",
    "\n",
    "records = []\n",
    "\n",
    "while True:\n",
    "    response = requests.get(url, params=params)\n",
    "    response.raise_for_status()\n",
    "    data = response.json()\n",
    "    \n",
    "    # Get the current batch of features.\n",
    "    features = data.get(\"features\", [])\n",
    "    if not features:\n",
    "        break\n",
    "\n",
    "    # Extract the attributes from the features.\n",
    "    batch_records = [feature.get(\"attributes\", {}) for feature in features]\n",
    "    records.extend(batch_records)\n",
    "    \n",
    "    # If the batch size is less than the requested count, we reached the end.\n",
    "    if len(features) < params[\"resultRecordCount\"]:\n",
    "        break\n",
    "\n",
    "    # Update the resultOffset for the next batch.\n",
    "    params[\"resultOffset\"] += params[\"resultRecordCount\"]\n",
    "\n",
    "# Create a DataFrame from the combined records.\n",
    "df = pd.DataFrame(records)\n",
    "print(\"Total records imported:\", len(df))\n"
   ]
  },
  {
   "cell_type": "code",
   "execution_count": 3,
   "id": "26a6705e",
   "metadata": {
    "execution": {
     "iopub.execute_input": "2025-07-18T01:09:23.820005Z",
     "iopub.status.busy": "2025-07-18T01:09:23.819552Z",
     "iopub.status.idle": "2025-07-18T01:09:23.832004Z",
     "shell.execute_reply": "2025-07-18T01:09:23.831367Z"
    },
    "papermill": {
     "duration": 0.017662,
     "end_time": "2025-07-18T01:09:23.833177",
     "exception": false,
     "start_time": "2025-07-18T01:09:23.815515",
     "status": "completed"
    },
    "tags": []
   },
   "outputs": [
    {
     "data": {
      "text/html": [
       "<div>\n",
       "<style scoped>\n",
       "    .dataframe tbody tr th:only-of-type {\n",
       "        vertical-align: middle;\n",
       "    }\n",
       "\n",
       "    .dataframe tbody tr th {\n",
       "        vertical-align: top;\n",
       "    }\n",
       "\n",
       "    .dataframe thead th {\n",
       "        text-align: right;\n",
       "    }\n",
       "</style>\n",
       "<table border=\"1\" class=\"dataframe\">\n",
       "  <thead>\n",
       "    <tr style=\"text-align: right;\">\n",
       "      <th></th>\n",
       "      <th>RecordID</th>\n",
       "      <th>Offense</th>\n",
       "      <th>IncidentID</th>\n",
       "      <th>BlockNumber</th>\n",
       "      <th>StreetName</th>\n",
       "      <th>Agency</th>\n",
       "      <th>DateReported</th>\n",
       "      <th>HourReported</th>\n",
       "      <th>ReportingOfficer</th>\n",
       "    </tr>\n",
       "  </thead>\n",
       "  <tbody>\n",
       "    <tr>\n",
       "      <th>0</th>\n",
       "      <td>1</td>\n",
       "      <td>Drug/Narcotics Violation</td>\n",
       "      <td>202500024884</td>\n",
       "      <td>900</td>\n",
       "      <td>EMMET ST N</td>\n",
       "      <td>CPD</td>\n",
       "      <td>1752631885000</td>\n",
       "      <td>2211</td>\n",
       "      <td>Bland, Johnnà</td>\n",
       "    </tr>\n",
       "    <tr>\n",
       "      <th>1</th>\n",
       "      <td>2</td>\n",
       "      <td>Vandalism</td>\n",
       "      <td>202500024824</td>\n",
       "      <td>400</td>\n",
       "      <td>10 1/2 ST NW</td>\n",
       "      <td>CPD</td>\n",
       "      <td>1752605408000</td>\n",
       "      <td>1450</td>\n",
       "      <td>Brannon, Devin</td>\n",
       "    </tr>\n",
       "    <tr>\n",
       "      <th>2</th>\n",
       "      <td>3</td>\n",
       "      <td>Larceny - Theft from Building</td>\n",
       "      <td>202580000112</td>\n",
       "      <td>400</td>\n",
       "      <td>17TH ST NW, APT 205</td>\n",
       "      <td>CPD</td>\n",
       "      <td>1752604517000</td>\n",
       "      <td>1435</td>\n",
       "      <td>Pendleton, Eric</td>\n",
       "    </tr>\n",
       "    <tr>\n",
       "      <th>3</th>\n",
       "      <td>4</td>\n",
       "      <td>Animal Complaint</td>\n",
       "      <td>202500024802</td>\n",
       "      <td>1800</td>\n",
       "      <td>EMMET ST N</td>\n",
       "      <td>CPD</td>\n",
       "      <td>1752591417000</td>\n",
       "      <td>1056</td>\n",
       "      <td>Carelsen, Louise</td>\n",
       "    </tr>\n",
       "    <tr>\n",
       "      <th>4</th>\n",
       "      <td>5</td>\n",
       "      <td>Disorderly Conduct</td>\n",
       "      <td>202500024798</td>\n",
       "      <td>1100</td>\n",
       "      <td>ROSE HILL DR</td>\n",
       "      <td>CPD</td>\n",
       "      <td>1752589733000</td>\n",
       "      <td>1028</td>\n",
       "      <td>Love-Baker, Sydney</td>\n",
       "    </tr>\n",
       "  </tbody>\n",
       "</table>\n",
       "</div>"
      ],
      "text/plain": [
       "   RecordID                        Offense    IncidentID BlockNumber  \\\n",
       "0         1       Drug/Narcotics Violation  202500024884         900   \n",
       "1         2                      Vandalism  202500024824         400   \n",
       "2         3  Larceny - Theft from Building  202580000112         400   \n",
       "3         4               Animal Complaint  202500024802        1800   \n",
       "4         5             Disorderly Conduct  202500024798        1100   \n",
       "\n",
       "            StreetName Agency   DateReported HourReported    ReportingOfficer  \n",
       "0           EMMET ST N    CPD  1752631885000         2211       Bland, Johnnà  \n",
       "1         10 1/2 ST NW    CPD  1752605408000         1450      Brannon, Devin  \n",
       "2  17TH ST NW, APT 205    CPD  1752604517000         1435     Pendleton, Eric  \n",
       "3           EMMET ST N    CPD  1752591417000         1056    Carelsen, Louise  \n",
       "4         ROSE HILL DR    CPD  1752589733000         1028  Love-Baker, Sydney  "
      ]
     },
     "execution_count": 3,
     "metadata": {},
     "output_type": "execute_result"
    }
   ],
   "source": [
    "df.head()"
   ]
  },
  {
   "cell_type": "code",
   "execution_count": 4,
   "id": "f4fad305",
   "metadata": {
    "execution": {
     "iopub.execute_input": "2025-07-18T01:09:23.841662Z",
     "iopub.status.busy": "2025-07-18T01:09:23.841477Z",
     "iopub.status.idle": "2025-07-18T01:09:23.845665Z",
     "shell.execute_reply": "2025-07-18T01:09:23.845157Z"
    },
    "papermill": {
     "duration": 0.009293,
     "end_time": "2025-07-18T01:09:23.846653",
     "exception": false,
     "start_time": "2025-07-18T01:09:23.837360",
     "status": "completed"
    },
    "tags": []
   },
   "outputs": [
    {
     "data": {
      "text/plain": [
       "Index(['RecordID', 'Offense', 'IncidentID', 'BlockNumber', 'StreetName',\n",
       "       'Agency', 'DateReported', 'HourReported', 'ReportingOfficer'],\n",
       "      dtype='object')"
      ]
     },
     "execution_count": 4,
     "metadata": {},
     "output_type": "execute_result"
    }
   ],
   "source": [
    "df.columns"
   ]
  },
  {
   "cell_type": "code",
   "execution_count": 5,
   "id": "74c13e5a",
   "metadata": {
    "execution": {
     "iopub.execute_input": "2025-07-18T01:09:23.876249Z",
     "iopub.status.busy": "2025-07-18T01:09:23.875702Z",
     "iopub.status.idle": "2025-07-18T01:09:23.898881Z",
     "shell.execute_reply": "2025-07-18T01:09:23.898304Z"
    },
    "papermill": {
     "duration": 0.049558,
     "end_time": "2025-07-18T01:09:23.899855",
     "exception": false,
     "start_time": "2025-07-18T01:09:23.850297",
     "status": "completed"
    },
    "tags": []
   },
   "outputs": [
    {
     "name": "stdout",
     "output_type": "stream",
     "text": [
      "<class 'pandas.core.frame.DataFrame'>\n",
      "RangeIndex: 25532 entries, 0 to 25531\n",
      "Data columns (total 9 columns):\n",
      " #   Column            Non-Null Count  Dtype \n",
      "---  ------            --------------  ----- \n",
      " 0   RecordID          25532 non-null  int64 \n",
      " 1   Offense           25532 non-null  object\n",
      " 2   IncidentID        25532 non-null  object\n",
      " 3   BlockNumber       25532 non-null  object\n",
      " 4   StreetName        25532 non-null  object\n",
      " 5   Agency            25532 non-null  object\n",
      " 6   DateReported      25532 non-null  int64 \n",
      " 7   HourReported      25532 non-null  object\n",
      " 8   ReportingOfficer  25515 non-null  object\n",
      "dtypes: int64(2), object(7)\n",
      "memory usage: 1.8+ MB\n"
     ]
    }
   ],
   "source": [
    "df.info()"
   ]
  },
  {
   "cell_type": "markdown",
   "id": "42d37f28",
   "metadata": {
    "papermill": {
     "duration": 0.003755,
     "end_time": "2025-07-18T01:09:23.907601",
     "exception": false,
     "start_time": "2025-07-18T01:09:23.903846",
     "status": "completed"
    },
    "tags": []
   },
   "source": [
    "### Missing Values"
   ]
  },
  {
   "cell_type": "code",
   "execution_count": 6,
   "id": "8de65ae8",
   "metadata": {
    "execution": {
     "iopub.execute_input": "2025-07-18T01:09:23.916336Z",
     "iopub.status.busy": "2025-07-18T01:09:23.915845Z",
     "iopub.status.idle": "2025-07-18T01:09:23.938517Z",
     "shell.execute_reply": "2025-07-18T01:09:23.937927Z"
    },
    "papermill": {
     "duration": 0.028074,
     "end_time": "2025-07-18T01:09:23.939502",
     "exception": false,
     "start_time": "2025-07-18T01:09:23.911428",
     "status": "completed"
    },
    "tags": []
   },
   "outputs": [
    {
     "name": "stdout",
     "output_type": "stream",
     "text": [
      "                  MissingCount  MissingPercentage\n",
      "RecordID                     0               0.00\n",
      "Offense                      0               0.00\n",
      "IncidentID                   0               0.00\n",
      "BlockNumber                  0               0.00\n",
      "StreetName                   0               0.00\n",
      "Agency                       0               0.00\n",
      "DateReported                 0               0.00\n",
      "HourReported                 0               0.00\n",
      "ReportingOfficer            17               0.07\n"
     ]
    }
   ],
   "source": [
    "def missing_percentage(df):\n",
    "    \"\"\"\n",
    "    Returns a DataFrame with the count and percentage of missing values for each column.\n",
    "    \n",
    "    Parameters:\n",
    "        df (pd.DataFrame): The input DataFrame.\n",
    "    \n",
    "    Returns:\n",
    "        pd.DataFrame: A DataFrame with columns 'MissingCount' and 'MissingPercentage'.\n",
    "    \"\"\"\n",
    "    total_rows = len(df)\n",
    "    missing_count = df.isnull().sum()\n",
    "    missing_percent = (missing_count / total_rows) * 100\n",
    "    \n",
    "    result = pd.DataFrame({\n",
    "        'MissingCount': missing_count,\n",
    "        'MissingPercentage': missing_percent.round(2)\n",
    "    })\n",
    "    \n",
    "    return result\n",
    "\n",
    "# Example usage:\n",
    "missing_info = missing_percentage(df)\n",
    "print(missing_info)\n"
   ]
  },
  {
   "cell_type": "markdown",
   "id": "d1ee9985",
   "metadata": {
    "papermill": {
     "duration": 0.003959,
     "end_time": "2025-07-18T01:09:23.947622",
     "exception": false,
     "start_time": "2025-07-18T01:09:23.943663",
     "status": "completed"
    },
    "tags": []
   },
   "source": [
    "## Data Preparation"
   ]
  },
  {
   "cell_type": "markdown",
   "id": "78081b59",
   "metadata": {
    "papermill": {
     "duration": 0.003778,
     "end_time": "2025-07-18T01:09:23.955233",
     "exception": false,
     "start_time": "2025-07-18T01:09:23.951455",
     "status": "completed"
    },
    "tags": []
   },
   "source": [
    "### Data Conversion"
   ]
  },
  {
   "cell_type": "code",
   "execution_count": 7,
   "id": "2dad27b6",
   "metadata": {
    "execution": {
     "iopub.execute_input": "2025-07-18T01:09:23.964018Z",
     "iopub.status.busy": "2025-07-18T01:09:23.963584Z",
     "iopub.status.idle": "2025-07-18T01:09:24.321378Z",
     "shell.execute_reply": "2025-07-18T01:09:24.320654Z"
    },
    "papermill": {
     "duration": 0.363444,
     "end_time": "2025-07-18T01:09:24.322519",
     "exception": false,
     "start_time": "2025-07-18T01:09:23.959075",
     "status": "completed"
    },
    "tags": []
   },
   "outputs": [
    {
     "data": {
      "text/html": [
       "<div>\n",
       "<style scoped>\n",
       "    .dataframe tbody tr th:only-of-type {\n",
       "        vertical-align: middle;\n",
       "    }\n",
       "\n",
       "    .dataframe tbody tr th {\n",
       "        vertical-align: top;\n",
       "    }\n",
       "\n",
       "    .dataframe thead th {\n",
       "        text-align: right;\n",
       "    }\n",
       "</style>\n",
       "<table border=\"1\" class=\"dataframe\">\n",
       "  <thead>\n",
       "    <tr style=\"text-align: right;\">\n",
       "      <th></th>\n",
       "      <th>RecordID</th>\n",
       "      <th>Offense</th>\n",
       "      <th>IncidentID</th>\n",
       "      <th>BlockNumber</th>\n",
       "      <th>StreetName</th>\n",
       "      <th>Agency</th>\n",
       "      <th>HourReported</th>\n",
       "      <th>ReportingOfficer</th>\n",
       "      <th>Date</th>\n",
       "      <th>DateString</th>\n",
       "      <th>DayOfWeek</th>\n",
       "      <th>Weekend</th>\n",
       "      <th>Season</th>\n",
       "      <th>HourAMPM</th>\n",
       "      <th>TimeOfDay</th>\n",
       "    </tr>\n",
       "  </thead>\n",
       "  <tbody>\n",
       "    <tr>\n",
       "      <th>0</th>\n",
       "      <td>1</td>\n",
       "      <td>Drug/Narcotics Violation</td>\n",
       "      <td>202500024884</td>\n",
       "      <td>900</td>\n",
       "      <td>EMMET ST N</td>\n",
       "      <td>CPD</td>\n",
       "      <td>2211</td>\n",
       "      <td>Bland, Johnnà</td>\n",
       "      <td>2025-07-15 22:11:25</td>\n",
       "      <td>2025-07-15 10:11:25 PM</td>\n",
       "      <td>Tuesday</td>\n",
       "      <td>False</td>\n",
       "      <td>Summer</td>\n",
       "      <td>10:11 PM</td>\n",
       "      <td>Night</td>\n",
       "    </tr>\n",
       "    <tr>\n",
       "      <th>1</th>\n",
       "      <td>2</td>\n",
       "      <td>Vandalism</td>\n",
       "      <td>202500024824</td>\n",
       "      <td>400</td>\n",
       "      <td>10 1/2 ST NW</td>\n",
       "      <td>CPD</td>\n",
       "      <td>1450</td>\n",
       "      <td>Brannon, Devin</td>\n",
       "      <td>2025-07-15 14:50:08</td>\n",
       "      <td>2025-07-15 02:50:08 PM</td>\n",
       "      <td>Tuesday</td>\n",
       "      <td>False</td>\n",
       "      <td>Summer</td>\n",
       "      <td>02:50 PM</td>\n",
       "      <td>Afternoon</td>\n",
       "    </tr>\n",
       "    <tr>\n",
       "      <th>2</th>\n",
       "      <td>3</td>\n",
       "      <td>Larceny - Theft from Building</td>\n",
       "      <td>202580000112</td>\n",
       "      <td>400</td>\n",
       "      <td>17TH ST NW, APT 205</td>\n",
       "      <td>CPD</td>\n",
       "      <td>1435</td>\n",
       "      <td>Pendleton, Eric</td>\n",
       "      <td>2025-07-15 14:35:17</td>\n",
       "      <td>2025-07-15 02:35:17 PM</td>\n",
       "      <td>Tuesday</td>\n",
       "      <td>False</td>\n",
       "      <td>Summer</td>\n",
       "      <td>02:35 PM</td>\n",
       "      <td>Afternoon</td>\n",
       "    </tr>\n",
       "    <tr>\n",
       "      <th>3</th>\n",
       "      <td>4</td>\n",
       "      <td>Animal Complaint</td>\n",
       "      <td>202500024802</td>\n",
       "      <td>1800</td>\n",
       "      <td>EMMET ST N</td>\n",
       "      <td>CPD</td>\n",
       "      <td>1056</td>\n",
       "      <td>Carelsen, Louise</td>\n",
       "      <td>2025-07-15 10:56:57</td>\n",
       "      <td>2025-07-15 10:56:57 AM</td>\n",
       "      <td>Tuesday</td>\n",
       "      <td>False</td>\n",
       "      <td>Summer</td>\n",
       "      <td>10:56 AM</td>\n",
       "      <td>Morning</td>\n",
       "    </tr>\n",
       "    <tr>\n",
       "      <th>4</th>\n",
       "      <td>5</td>\n",
       "      <td>Disorderly Conduct</td>\n",
       "      <td>202500024798</td>\n",
       "      <td>1100</td>\n",
       "      <td>ROSE HILL DR</td>\n",
       "      <td>CPD</td>\n",
       "      <td>1028</td>\n",
       "      <td>Love-Baker, Sydney</td>\n",
       "      <td>2025-07-15 10:28:53</td>\n",
       "      <td>2025-07-15 10:28:53 AM</td>\n",
       "      <td>Tuesday</td>\n",
       "      <td>False</td>\n",
       "      <td>Summer</td>\n",
       "      <td>10:28 AM</td>\n",
       "      <td>Morning</td>\n",
       "    </tr>\n",
       "  </tbody>\n",
       "</table>\n",
       "</div>"
      ],
      "text/plain": [
       "   RecordID                        Offense    IncidentID BlockNumber  \\\n",
       "0         1       Drug/Narcotics Violation  202500024884         900   \n",
       "1         2                      Vandalism  202500024824         400   \n",
       "2         3  Larceny - Theft from Building  202580000112         400   \n",
       "3         4               Animal Complaint  202500024802        1800   \n",
       "4         5             Disorderly Conduct  202500024798        1100   \n",
       "\n",
       "            StreetName Agency HourReported    ReportingOfficer  \\\n",
       "0           EMMET ST N    CPD         2211       Bland, Johnnà   \n",
       "1         10 1/2 ST NW    CPD         1450      Brannon, Devin   \n",
       "2  17TH ST NW, APT 205    CPD         1435     Pendleton, Eric   \n",
       "3           EMMET ST N    CPD         1056    Carelsen, Louise   \n",
       "4         ROSE HILL DR    CPD         1028  Love-Baker, Sydney   \n",
       "\n",
       "                 Date              DateString DayOfWeek  Weekend  Season  \\\n",
       "0 2025-07-15 22:11:25  2025-07-15 10:11:25 PM   Tuesday    False  Summer   \n",
       "1 2025-07-15 14:50:08  2025-07-15 02:50:08 PM   Tuesday    False  Summer   \n",
       "2 2025-07-15 14:35:17  2025-07-15 02:35:17 PM   Tuesday    False  Summer   \n",
       "3 2025-07-15 10:56:57  2025-07-15 10:56:57 AM   Tuesday    False  Summer   \n",
       "4 2025-07-15 10:28:53  2025-07-15 10:28:53 AM   Tuesday    False  Summer   \n",
       "\n",
       "   HourAMPM  TimeOfDay  \n",
       "0  10:11 PM      Night  \n",
       "1  02:50 PM  Afternoon  \n",
       "2  02:35 PM  Afternoon  \n",
       "3  10:56 AM    Morning  \n",
       "4  10:28 AM    Morning  "
      ]
     },
     "execution_count": 7,
     "metadata": {},
     "output_type": "execute_result"
    }
   ],
   "source": [
    "def convert_and_categorize_datereported(df, col='DateReported'):\n",
    "    \"\"\"\n",
    "    Converts an epoch (in milliseconds) date column into a timezone-aware datetime,\n",
    "    converts it to Eastern Time, and then creates columns for day-of-week, weekend flag,\n",
    "    season, 12-hour formatted time, and time-of-day. Keeps both a real datetime column\n",
    "    (Date) and a string representation (DateString).\n",
    "    \"\"\"\n",
    "    import pandas as pd\n",
    "\n",
    "    # Convert the epoch timestamp to a pandas datetime object as UTC, then convert to US/Eastern.\n",
    "    df[\"DateReported_dt\"] = (\n",
    "        pd.to_datetime(df[col], unit=\"ms\", errors=\"coerce\", utc=True)\n",
    "        .dt.tz_convert(\"US/Eastern\")\n",
    "    )\n",
    "    \n",
    "    # Create a true datetime column (remove timezone if you prefer naive datetime)\n",
    "    df[\"Date\"] = df[\"DateReported_dt\"].dt.tz_localize(None)\n",
    "\n",
    "    # Optionally, create a separate string-formatted column\n",
    "    df[\"DateString\"] = df[\"DateReported_dt\"].dt.strftime(\"%Y-%m-%d %I:%M:%S %p\")\n",
    "    \n",
    "    # DayOfWeek\n",
    "    df[\"DayOfWeek\"] = df[\"DateReported_dt\"].dt.day_name()\n",
    "    \n",
    "    # Weekend\n",
    "    df[\"Weekend\"] = df[\"DayOfWeek\"].isin([\"Saturday\", \"Sunday\"])\n",
    "    \n",
    "    # Helper function to determine the season\n",
    "    def get_season(dt):\n",
    "        month = dt.month\n",
    "        day = dt.day\n",
    "        # Approximate Northern Hemisphere season boundaries:\n",
    "        if (month == 12 and day >= 21) or (month < 3) or (month == 3 and day < 20):\n",
    "            return \"Winter\"\n",
    "        elif (month == 3 and day >= 20) or (month < 6) or (month == 6 and day < 21):\n",
    "            return \"Spring\"\n",
    "        elif (month == 6 and day >= 21) or (month < 9) or (month == 9 and day < 22):\n",
    "            return \"Summer\"\n",
    "        else:\n",
    "            return \"Autumn\"\n",
    "    \n",
    "    df[\"Season\"] = df[\"DateReported_dt\"].apply(get_season)\n",
    "    \n",
    "    # 12-hour formatted time (HourAMPM)\n",
    "    df[\"HourAMPM\"] = df[\"DateReported_dt\"].dt.strftime(\"%I:%M %p\")\n",
    "    \n",
    "    # Extract hour (0-23) for time-of-day\n",
    "    df[\"HourValue\"] = df[\"DateReported_dt\"].dt.hour\n",
    "    \n",
    "    def time_of_day(hour):\n",
    "        if pd.isnull(hour):\n",
    "            return None\n",
    "        if 5 <= hour < 12:\n",
    "            return \"Morning\"\n",
    "        elif 12 <= hour < 17:\n",
    "            return \"Afternoon\"\n",
    "        elif 17 <= hour < 21:\n",
    "            return \"Evening\"\n",
    "        else:\n",
    "            return \"Night\"\n",
    "    \n",
    "    df[\"TimeOfDay\"] = df[\"HourValue\"].apply(time_of_day)\n",
    "    \n",
    "    # Drop columns you no longer need\n",
    "    df.drop(columns=[col, \"DateReported_dt\", \"HourValue\"], inplace=True)\n",
    "    \n",
    "    return df\n",
    "\n",
    "# Example usage:\n",
    "df = convert_and_categorize_datereported(df)\n",
    "df.head()\n"
   ]
  },
  {
   "cell_type": "code",
   "execution_count": 8,
   "id": "fd712d27",
   "metadata": {
    "execution": {
     "iopub.execute_input": "2025-07-18T01:09:24.332296Z",
     "iopub.status.busy": "2025-07-18T01:09:24.331813Z",
     "iopub.status.idle": "2025-07-18T01:09:24.361547Z",
     "shell.execute_reply": "2025-07-18T01:09:24.360948Z"
    },
    "papermill": {
     "duration": 0.035728,
     "end_time": "2025-07-18T01:09:24.362623",
     "exception": false,
     "start_time": "2025-07-18T01:09:24.326895",
     "status": "completed"
    },
    "tags": []
   },
   "outputs": [
    {
     "name": "stdout",
     "output_type": "stream",
     "text": [
      "<class 'pandas.core.frame.DataFrame'>\n",
      "RangeIndex: 25532 entries, 0 to 25531\n",
      "Data columns (total 15 columns):\n",
      " #   Column            Non-Null Count  Dtype         \n",
      "---  ------            --------------  -----         \n",
      " 0   RecordID          25532 non-null  int64         \n",
      " 1   Offense           25532 non-null  object        \n",
      " 2   IncidentID        25532 non-null  object        \n",
      " 3   BlockNumber       25532 non-null  object        \n",
      " 4   StreetName        25532 non-null  object        \n",
      " 5   Agency            25532 non-null  object        \n",
      " 6   HourReported      25532 non-null  object        \n",
      " 7   ReportingOfficer  25515 non-null  object        \n",
      " 8   Date              25532 non-null  datetime64[ns]\n",
      " 9   DateString        25532 non-null  object        \n",
      " 10  DayOfWeek         25532 non-null  object        \n",
      " 11  Weekend           25532 non-null  bool          \n",
      " 12  Season            25532 non-null  object        \n",
      " 13  HourAMPM          25532 non-null  object        \n",
      " 14  TimeOfDay         25532 non-null  object        \n",
      "dtypes: bool(1), datetime64[ns](1), int64(1), object(12)\n",
      "memory usage: 2.8+ MB\n"
     ]
    }
   ],
   "source": [
    "df.info()"
   ]
  },
  {
   "cell_type": "markdown",
   "id": "7d76970d",
   "metadata": {
    "papermill": {
     "duration": 0.004088,
     "end_time": "2025-07-18T01:09:24.371067",
     "exception": false,
     "start_time": "2025-07-18T01:09:24.366979",
     "status": "completed"
    },
    "tags": []
   },
   "source": [
    "### Coordinates"
   ]
  },
  {
   "cell_type": "code",
   "execution_count": 9,
   "id": "c5464034",
   "metadata": {
    "execution": {
     "iopub.execute_input": "2025-07-18T01:09:24.380576Z",
     "iopub.status.busy": "2025-07-18T01:09:24.380074Z",
     "iopub.status.idle": "2025-07-18T01:09:24.538047Z",
     "shell.execute_reply": "2025-07-18T01:09:24.537480Z"
    },
    "papermill": {
     "duration": 0.163826,
     "end_time": "2025-07-18T01:09:24.539097",
     "exception": false,
     "start_time": "2025-07-18T01:09:24.375271",
     "status": "completed"
    },
    "tags": []
   },
   "outputs": [
    {
     "name": "stdout",
     "output_type": "stream",
     "text": [
      "Loaded geocode cache.\n",
      "Error geocoding 400 17TH ST NW, APT 205: REQUEST_DENIED (You must enable Billing on the Google Cloud Project at https://console.cloud.google.com/project/_/billing/enable Learn more at https://developers.google.com/maps/gmp-get-started)\n",
      "Geocoded 400 17TH ST NW, APT 205: None, None\n",
      "Error geocoding 1700 GORDON AVE, 102: REQUEST_DENIED (You must enable Billing on the Google Cloud Project at https://console.cloud.google.com/project/_/billing/enable Learn more at https://developers.google.com/maps/gmp-get-started)\n",
      "Geocoded 1700 GORDON AVE, 102: None, None\n",
      "Geocode cache updated and saved.\n"
     ]
    },
    {
     "data": {
      "text/html": [
       "<div>\n",
       "<style scoped>\n",
       "    .dataframe tbody tr th:only-of-type {\n",
       "        vertical-align: middle;\n",
       "    }\n",
       "\n",
       "    .dataframe tbody tr th {\n",
       "        vertical-align: top;\n",
       "    }\n",
       "\n",
       "    .dataframe thead th {\n",
       "        text-align: right;\n",
       "    }\n",
       "</style>\n",
       "<table border=\"1\" class=\"dataframe\">\n",
       "  <thead>\n",
       "    <tr style=\"text-align: right;\">\n",
       "      <th></th>\n",
       "      <th>RecordID</th>\n",
       "      <th>Offense</th>\n",
       "      <th>IncidentID</th>\n",
       "      <th>BlockNumber</th>\n",
       "      <th>StreetName</th>\n",
       "      <th>Agency</th>\n",
       "      <th>HourReported</th>\n",
       "      <th>ReportingOfficer</th>\n",
       "      <th>Date</th>\n",
       "      <th>DateString</th>\n",
       "      <th>DayOfWeek</th>\n",
       "      <th>Weekend</th>\n",
       "      <th>Season</th>\n",
       "      <th>HourAMPM</th>\n",
       "      <th>TimeOfDay</th>\n",
       "      <th>FullStreet</th>\n",
       "      <th>lat</th>\n",
       "      <th>lon</th>\n",
       "    </tr>\n",
       "  </thead>\n",
       "  <tbody>\n",
       "    <tr>\n",
       "      <th>0</th>\n",
       "      <td>1</td>\n",
       "      <td>Drug/Narcotics Violation</td>\n",
       "      <td>202500024884</td>\n",
       "      <td>900</td>\n",
       "      <td>EMMET ST N</td>\n",
       "      <td>CPD</td>\n",
       "      <td>2211</td>\n",
       "      <td>Bland, Johnnà</td>\n",
       "      <td>2025-07-15 22:11:25</td>\n",
       "      <td>2025-07-15 10:11:25 PM</td>\n",
       "      <td>Tuesday</td>\n",
       "      <td>False</td>\n",
       "      <td>Summer</td>\n",
       "      <td>10:11 PM</td>\n",
       "      <td>Night</td>\n",
       "      <td>900 EMMET ST N</td>\n",
       "      <td>38.048586</td>\n",
       "      <td>-78.502983</td>\n",
       "    </tr>\n",
       "    <tr>\n",
       "      <th>1</th>\n",
       "      <td>2</td>\n",
       "      <td>Vandalism</td>\n",
       "      <td>202500024824</td>\n",
       "      <td>400</td>\n",
       "      <td>10 1/2 ST NW</td>\n",
       "      <td>CPD</td>\n",
       "      <td>1450</td>\n",
       "      <td>Brannon, Devin</td>\n",
       "      <td>2025-07-15 14:50:08</td>\n",
       "      <td>2025-07-15 02:50:08 PM</td>\n",
       "      <td>Tuesday</td>\n",
       "      <td>False</td>\n",
       "      <td>Summer</td>\n",
       "      <td>02:50 PM</td>\n",
       "      <td>Afternoon</td>\n",
       "      <td>400 10 1/2 ST NW</td>\n",
       "      <td>38.037621</td>\n",
       "      <td>-78.493013</td>\n",
       "    </tr>\n",
       "    <tr>\n",
       "      <th>2</th>\n",
       "      <td>3</td>\n",
       "      <td>Larceny - Theft from Building</td>\n",
       "      <td>202580000112</td>\n",
       "      <td>400</td>\n",
       "      <td>17TH ST NW, APT 205</td>\n",
       "      <td>CPD</td>\n",
       "      <td>1435</td>\n",
       "      <td>Pendleton, Eric</td>\n",
       "      <td>2025-07-15 14:35:17</td>\n",
       "      <td>2025-07-15 02:35:17 PM</td>\n",
       "      <td>Tuesday</td>\n",
       "      <td>False</td>\n",
       "      <td>Summer</td>\n",
       "      <td>02:35 PM</td>\n",
       "      <td>Afternoon</td>\n",
       "      <td>400 17TH ST NW, APT 205</td>\n",
       "      <td>NaN</td>\n",
       "      <td>NaN</td>\n",
       "    </tr>\n",
       "    <tr>\n",
       "      <th>3</th>\n",
       "      <td>4</td>\n",
       "      <td>Animal Complaint</td>\n",
       "      <td>202500024802</td>\n",
       "      <td>1800</td>\n",
       "      <td>EMMET ST N</td>\n",
       "      <td>CPD</td>\n",
       "      <td>1056</td>\n",
       "      <td>Carelsen, Louise</td>\n",
       "      <td>2025-07-15 10:56:57</td>\n",
       "      <td>2025-07-15 10:56:57 AM</td>\n",
       "      <td>Tuesday</td>\n",
       "      <td>False</td>\n",
       "      <td>Summer</td>\n",
       "      <td>10:56 AM</td>\n",
       "      <td>Morning</td>\n",
       "      <td>1800 EMMET ST N</td>\n",
       "      <td>38.059766</td>\n",
       "      <td>-78.493132</td>\n",
       "    </tr>\n",
       "    <tr>\n",
       "      <th>4</th>\n",
       "      <td>5</td>\n",
       "      <td>Disorderly Conduct</td>\n",
       "      <td>202500024798</td>\n",
       "      <td>1100</td>\n",
       "      <td>ROSE HILL DR</td>\n",
       "      <td>CPD</td>\n",
       "      <td>1028</td>\n",
       "      <td>Love-Baker, Sydney</td>\n",
       "      <td>2025-07-15 10:28:53</td>\n",
       "      <td>2025-07-15 10:28:53 AM</td>\n",
       "      <td>Tuesday</td>\n",
       "      <td>False</td>\n",
       "      <td>Summer</td>\n",
       "      <td>10:28 AM</td>\n",
       "      <td>Morning</td>\n",
       "      <td>1100 ROSE HILL DR</td>\n",
       "      <td>38.041657</td>\n",
       "      <td>-78.484036</td>\n",
       "    </tr>\n",
       "  </tbody>\n",
       "</table>\n",
       "</div>"
      ],
      "text/plain": [
       "   RecordID                        Offense    IncidentID BlockNumber  \\\n",
       "0         1       Drug/Narcotics Violation  202500024884         900   \n",
       "1         2                      Vandalism  202500024824         400   \n",
       "2         3  Larceny - Theft from Building  202580000112         400   \n",
       "3         4               Animal Complaint  202500024802        1800   \n",
       "4         5             Disorderly Conduct  202500024798        1100   \n",
       "\n",
       "            StreetName Agency HourReported    ReportingOfficer  \\\n",
       "0           EMMET ST N    CPD         2211       Bland, Johnnà   \n",
       "1         10 1/2 ST NW    CPD         1450      Brannon, Devin   \n",
       "2  17TH ST NW, APT 205    CPD         1435     Pendleton, Eric   \n",
       "3           EMMET ST N    CPD         1056    Carelsen, Louise   \n",
       "4         ROSE HILL DR    CPD         1028  Love-Baker, Sydney   \n",
       "\n",
       "                 Date              DateString DayOfWeek  Weekend  Season  \\\n",
       "0 2025-07-15 22:11:25  2025-07-15 10:11:25 PM   Tuesday    False  Summer   \n",
       "1 2025-07-15 14:50:08  2025-07-15 02:50:08 PM   Tuesday    False  Summer   \n",
       "2 2025-07-15 14:35:17  2025-07-15 02:35:17 PM   Tuesday    False  Summer   \n",
       "3 2025-07-15 10:56:57  2025-07-15 10:56:57 AM   Tuesday    False  Summer   \n",
       "4 2025-07-15 10:28:53  2025-07-15 10:28:53 AM   Tuesday    False  Summer   \n",
       "\n",
       "   HourAMPM  TimeOfDay               FullStreet        lat        lon  \n",
       "0  10:11 PM      Night           900 EMMET ST N  38.048586 -78.502983  \n",
       "1  02:50 PM  Afternoon         400 10 1/2 ST NW  38.037621 -78.493013  \n",
       "2  02:35 PM  Afternoon  400 17TH ST NW, APT 205        NaN        NaN  \n",
       "3  10:56 AM    Morning          1800 EMMET ST N  38.059766 -78.493132  \n",
       "4  10:28 AM    Morning        1100 ROSE HILL DR  38.041657 -78.484036  "
      ]
     },
     "execution_count": 9,
     "metadata": {},
     "output_type": "execute_result"
    }
   ],
   "source": [
    "# Combine BlockNumber and StreetName into a full address string\n",
    "df['FullStreet'] = df['BlockNumber'].astype(str) + \" \" + df['StreetName']\n",
    "\n",
    "# --- Step 1: Setup the Google Maps Client and Cache ---\n",
    "gmaps = googlemaps.Client(key=GOOGLE_API_KEY)\n",
    "\n",
    "# Try to load cached geocoding results if available.\n",
    "try:\n",
    "    with open(\"geocode_cache_google.pkl\", \"rb\") as f:\n",
    "        street_coords = pickle.load(f)\n",
    "    print(\"Loaded geocode cache.\")\n",
    "except FileNotFoundError:\n",
    "    street_coords = {}\n",
    "    print(\"No cache found; starting fresh.\")\n",
    "\n",
    "def geocode_address(address):\n",
    "    try:\n",
    "        # Append city and state to help geocoding\n",
    "        result = gmaps.geocode(f\"{address}, Charlottesville, VA\")\n",
    "        if result:\n",
    "            lat = result[0]['geometry']['location']['lat']\n",
    "            lon = result[0]['geometry']['location']['lng']\n",
    "            return lat, lon\n",
    "    except Exception as e:\n",
    "        print(f\"Error geocoding {address}: {e}\")\n",
    "    return None, None\n",
    "\n",
    "# --- Step 2: Geocode Only New Addresses ---\n",
    "unique_addresses = df['FullStreet'].unique()\n",
    "for address in unique_addresses:\n",
    "    if address not in street_coords:\n",
    "        lat, lon = geocode_address(address)\n",
    "        street_coords[address] = (lat, lon)\n",
    "        print(f\"Geocoded {address}: {lat}, {lon}\")\n",
    "\n",
    "# Save the updated cache to disk.\n",
    "with open(\"geocode_cache_google.pkl\", \"wb\") as f:\n",
    "    pickle.dump(street_coords, f)\n",
    "    print(\"Geocode cache updated and saved.\")\n",
    "\n",
    "# --- Step 3: Map Coordinates Back to DataFrame ---\n",
    "df['lat'] = df['FullStreet'].map(lambda s: street_coords.get(s, (None, None))[0])\n",
    "df['lon'] = df['FullStreet'].map(lambda s: street_coords.get(s, (None, None))[1])\n",
    "\n",
    "df.head()"
   ]
  },
  {
   "cell_type": "markdown",
   "id": "556a6e54",
   "metadata": {
    "papermill": {
     "duration": 0.004989,
     "end_time": "2025-07-18T01:09:24.549087",
     "exception": false,
     "start_time": "2025-07-18T01:09:24.544098",
     "status": "completed"
    },
    "tags": []
   },
   "source": [
    "### Neighborhood"
   ]
  },
  {
   "cell_type": "code",
   "execution_count": 10,
   "id": "7d48c9db",
   "metadata": {
    "execution": {
     "iopub.execute_input": "2025-07-18T01:09:24.560669Z",
     "iopub.status.busy": "2025-07-18T01:09:24.560030Z",
     "iopub.status.idle": "2025-07-18T01:09:26.296266Z",
     "shell.execute_reply": "2025-07-18T01:09:26.295520Z"
    },
    "papermill": {
     "duration": 1.742501,
     "end_time": "2025-07-18T01:09:26.297365",
     "exception": false,
     "start_time": "2025-07-18T01:09:24.554864",
     "status": "completed"
    },
    "tags": []
   },
   "outputs": [
    {
     "name": "stdout",
     "output_type": "stream",
     "text": [
      "Loaded neighborhood cache.\n"
     ]
    },
    {
     "name": "stdout",
     "output_type": "stream",
     "text": [
      "Error getting neighborhood for nan, nan: HTTP Error: 400\n",
      "Error getting neighborhood for nan, nan: HTTP Error: 400\n",
      "Error getting neighborhood for nan, nan: HTTP Error: 400\n"
     ]
    },
    {
     "name": "stdout",
     "output_type": "stream",
     "text": [
      "Error getting neighborhood for nan, nan: HTTP Error: 400\n",
      "Error getting neighborhood for nan, nan: HTTP Error: 400\n",
      "Error getting neighborhood for nan, nan: HTTP Error: 400\n",
      "Error getting neighborhood for nan, nan: HTTP Error: 400\n"
     ]
    },
    {
     "name": "stdout",
     "output_type": "stream",
     "text": [
      "Error getting neighborhood for nan, nan: HTTP Error: 400\n",
      "Error getting neighborhood for nan, nan: HTTP Error: 400\n",
      "Error getting neighborhood for nan, nan: HTTP Error: 400\n"
     ]
    },
    {
     "name": "stdout",
     "output_type": "stream",
     "text": [
      "Error getting neighborhood for nan, nan: HTTP Error: 400\n",
      "Error getting neighborhood for nan, nan: HTTP Error: 400\n",
      "Error getting neighborhood for nan, nan: HTTP Error: 400\n",
      "Error getting neighborhood for nan, nan: HTTP Error: 400\n",
      "Error getting neighborhood for nan, nan: HTTP Error: 400\n"
     ]
    },
    {
     "name": "stdout",
     "output_type": "stream",
     "text": [
      "Error getting neighborhood for nan, nan: HTTP Error: 400\n",
      "Error getting neighborhood for nan, nan: HTTP Error: 400\n",
      "Error getting neighborhood for nan, nan: HTTP Error: 400\n",
      "Error getting neighborhood for nan, nan: HTTP Error: 400\n"
     ]
    },
    {
     "name": "stdout",
     "output_type": "stream",
     "text": [
      "Error getting neighborhood for nan, nan: HTTP Error: 400\n",
      "Error getting neighborhood for nan, nan: HTTP Error: 400\n",
      "Error getting neighborhood for nan, nan: HTTP Error: 400\n",
      "Error getting neighborhood for nan, nan: HTTP Error: 400\n",
      "Error getting neighborhood for nan, nan: HTTP Error: 400\n"
     ]
    },
    {
     "name": "stdout",
     "output_type": "stream",
     "text": [
      "Error getting neighborhood for nan, nan: HTTP Error: 400\n",
      "Error getting neighborhood for nan, nan: HTTP Error: 400\n",
      "Error getting neighborhood for nan, nan: HTTP Error: 400\n",
      "Error getting neighborhood for nan, nan: HTTP Error: 400\n"
     ]
    },
    {
     "name": "stdout",
     "output_type": "stream",
     "text": [
      "Error getting neighborhood for nan, nan: HTTP Error: 400\n",
      "Error getting neighborhood for nan, nan: HTTP Error: 400\n",
      "Error getting neighborhood for nan, nan: HTTP Error: 400\n",
      "Error getting neighborhood for nan, nan: HTTP Error: 400\n",
      "Error getting neighborhood for nan, nan: HTTP Error: 400\n"
     ]
    },
    {
     "name": "stdout",
     "output_type": "stream",
     "text": [
      "Error getting neighborhood for nan, nan: HTTP Error: 400\n",
      "Error getting neighborhood for nan, nan: HTTP Error: 400\n",
      "Error getting neighborhood for nan, nan: HTTP Error: 400\n",
      "Error getting neighborhood for nan, nan: HTTP Error: 400\n"
     ]
    },
    {
     "name": "stdout",
     "output_type": "stream",
     "text": [
      "Error getting neighborhood for nan, nan: HTTP Error: 400\n",
      "Error getting neighborhood for nan, nan: HTTP Error: 400\n",
      "Error getting neighborhood for nan, nan: HTTP Error: 400\n",
      "Error getting neighborhood for nan, nan: HTTP Error: 400\n",
      "Error getting neighborhood for nan, nan: HTTP Error: 400\n"
     ]
    },
    {
     "name": "stdout",
     "output_type": "stream",
     "text": [
      "Error getting neighborhood for nan, nan: HTTP Error: 400\n",
      "Error getting neighborhood for nan, nan: HTTP Error: 400\n",
      "Error getting neighborhood for nan, nan: HTTP Error: 400\n",
      "Error getting neighborhood for nan, nan: HTTP Error: 400\n"
     ]
    },
    {
     "name": "stdout",
     "output_type": "stream",
     "text": [
      "Error getting neighborhood for nan, nan: HTTP Error: 400\n",
      "Error getting neighborhood for nan, nan: HTTP Error: 400\n",
      "Error getting neighborhood for nan, nan: HTTP Error: 400\n",
      "Error getting neighborhood for nan, nan: HTTP Error: 400\n",
      "Error getting neighborhood for nan, nan: HTTP Error: 400\n"
     ]
    },
    {
     "name": "stdout",
     "output_type": "stream",
     "text": [
      "Error getting neighborhood for nan, nan: HTTP Error: 400\n",
      "Error getting neighborhood for nan, nan: HTTP Error: 400\n",
      "Error getting neighborhood for nan, nan: HTTP Error: 400\n",
      "Error getting neighborhood for nan, nan: HTTP Error: 400\n"
     ]
    },
    {
     "name": "stdout",
     "output_type": "stream",
     "text": [
      "Error getting neighborhood for nan, nan: HTTP Error: 400\n",
      "Error getting neighborhood for nan, nan: HTTP Error: 400\n",
      "Error getting neighborhood for nan, nan: HTTP Error: 400\n",
      "Error getting neighborhood for nan, nan: HTTP Error: 400\n",
      "Error getting neighborhood for nan, nan: HTTP Error: 400\n"
     ]
    },
    {
     "data": {
      "text/html": [
       "<div>\n",
       "<style scoped>\n",
       "    .dataframe tbody tr th:only-of-type {\n",
       "        vertical-align: middle;\n",
       "    }\n",
       "\n",
       "    .dataframe tbody tr th {\n",
       "        vertical-align: top;\n",
       "    }\n",
       "\n",
       "    .dataframe thead th {\n",
       "        text-align: right;\n",
       "    }\n",
       "</style>\n",
       "<table border=\"1\" class=\"dataframe\">\n",
       "  <thead>\n",
       "    <tr style=\"text-align: right;\">\n",
       "      <th></th>\n",
       "      <th>RecordID</th>\n",
       "      <th>Offense</th>\n",
       "      <th>IncidentID</th>\n",
       "      <th>BlockNumber</th>\n",
       "      <th>StreetName</th>\n",
       "      <th>Agency</th>\n",
       "      <th>HourReported</th>\n",
       "      <th>ReportingOfficer</th>\n",
       "      <th>Date</th>\n",
       "      <th>DateString</th>\n",
       "      <th>DayOfWeek</th>\n",
       "      <th>Weekend</th>\n",
       "      <th>Season</th>\n",
       "      <th>HourAMPM</th>\n",
       "      <th>TimeOfDay</th>\n",
       "      <th>FullStreet</th>\n",
       "      <th>lat</th>\n",
       "      <th>lon</th>\n",
       "      <th>neighborhood</th>\n",
       "    </tr>\n",
       "  </thead>\n",
       "  <tbody>\n",
       "    <tr>\n",
       "      <th>0</th>\n",
       "      <td>1</td>\n",
       "      <td>Drug/Narcotics Violation</td>\n",
       "      <td>202500024884</td>\n",
       "      <td>900</td>\n",
       "      <td>EMMET ST N</td>\n",
       "      <td>CPD</td>\n",
       "      <td>2211</td>\n",
       "      <td>Bland, Johnnà</td>\n",
       "      <td>2025-07-15 22:11:25</td>\n",
       "      <td>2025-07-15 10:11:25 PM</td>\n",
       "      <td>Tuesday</td>\n",
       "      <td>False</td>\n",
       "      <td>Summer</td>\n",
       "      <td>10:11 PM</td>\n",
       "      <td>Night</td>\n",
       "      <td>900 EMMET ST N</td>\n",
       "      <td>38.048586</td>\n",
       "      <td>-78.502983</td>\n",
       "      <td>Venable</td>\n",
       "    </tr>\n",
       "    <tr>\n",
       "      <th>1</th>\n",
       "      <td>2</td>\n",
       "      <td>Vandalism</td>\n",
       "      <td>202500024824</td>\n",
       "      <td>400</td>\n",
       "      <td>10 1/2 ST NW</td>\n",
       "      <td>CPD</td>\n",
       "      <td>1450</td>\n",
       "      <td>Brannon, Devin</td>\n",
       "      <td>2025-07-15 14:50:08</td>\n",
       "      <td>2025-07-15 02:50:08 PM</td>\n",
       "      <td>Tuesday</td>\n",
       "      <td>False</td>\n",
       "      <td>Summer</td>\n",
       "      <td>02:50 PM</td>\n",
       "      <td>Afternoon</td>\n",
       "      <td>400 10 1/2 ST NW</td>\n",
       "      <td>38.037621</td>\n",
       "      <td>-78.493013</td>\n",
       "      <td>10th &amp; Page</td>\n",
       "    </tr>\n",
       "    <tr>\n",
       "      <th>2</th>\n",
       "      <td>3</td>\n",
       "      <td>Larceny - Theft from Building</td>\n",
       "      <td>202580000112</td>\n",
       "      <td>400</td>\n",
       "      <td>17TH ST NW, APT 205</td>\n",
       "      <td>CPD</td>\n",
       "      <td>1435</td>\n",
       "      <td>Pendleton, Eric</td>\n",
       "      <td>2025-07-15 14:35:17</td>\n",
       "      <td>2025-07-15 02:35:17 PM</td>\n",
       "      <td>Tuesday</td>\n",
       "      <td>False</td>\n",
       "      <td>Summer</td>\n",
       "      <td>02:35 PM</td>\n",
       "      <td>Afternoon</td>\n",
       "      <td>400 17TH ST NW, APT 205</td>\n",
       "      <td>NaN</td>\n",
       "      <td>NaN</td>\n",
       "      <td>N/A</td>\n",
       "    </tr>\n",
       "    <tr>\n",
       "      <th>3</th>\n",
       "      <td>4</td>\n",
       "      <td>Animal Complaint</td>\n",
       "      <td>202500024802</td>\n",
       "      <td>1800</td>\n",
       "      <td>EMMET ST N</td>\n",
       "      <td>CPD</td>\n",
       "      <td>1056</td>\n",
       "      <td>Carelsen, Louise</td>\n",
       "      <td>2025-07-15 10:56:57</td>\n",
       "      <td>2025-07-15 10:56:57 AM</td>\n",
       "      <td>Tuesday</td>\n",
       "      <td>False</td>\n",
       "      <td>Summer</td>\n",
       "      <td>10:56 AM</td>\n",
       "      <td>Morning</td>\n",
       "      <td>1800 EMMET ST N</td>\n",
       "      <td>38.059766</td>\n",
       "      <td>-78.493132</td>\n",
       "      <td>The Meadows</td>\n",
       "    </tr>\n",
       "    <tr>\n",
       "      <th>4</th>\n",
       "      <td>5</td>\n",
       "      <td>Disorderly Conduct</td>\n",
       "      <td>202500024798</td>\n",
       "      <td>1100</td>\n",
       "      <td>ROSE HILL DR</td>\n",
       "      <td>CPD</td>\n",
       "      <td>1028</td>\n",
       "      <td>Love-Baker, Sydney</td>\n",
       "      <td>2025-07-15 10:28:53</td>\n",
       "      <td>2025-07-15 10:28:53 AM</td>\n",
       "      <td>Tuesday</td>\n",
       "      <td>False</td>\n",
       "      <td>Summer</td>\n",
       "      <td>10:28 AM</td>\n",
       "      <td>Morning</td>\n",
       "      <td>1100 ROSE HILL DR</td>\n",
       "      <td>38.041657</td>\n",
       "      <td>-78.484036</td>\n",
       "      <td>Barracks Rugby</td>\n",
       "    </tr>\n",
       "  </tbody>\n",
       "</table>\n",
       "</div>"
      ],
      "text/plain": [
       "   RecordID                        Offense    IncidentID BlockNumber  \\\n",
       "0         1       Drug/Narcotics Violation  202500024884         900   \n",
       "1         2                      Vandalism  202500024824         400   \n",
       "2         3  Larceny - Theft from Building  202580000112         400   \n",
       "3         4               Animal Complaint  202500024802        1800   \n",
       "4         5             Disorderly Conduct  202500024798        1100   \n",
       "\n",
       "            StreetName Agency HourReported    ReportingOfficer  \\\n",
       "0           EMMET ST N    CPD         2211       Bland, Johnnà   \n",
       "1         10 1/2 ST NW    CPD         1450      Brannon, Devin   \n",
       "2  17TH ST NW, APT 205    CPD         1435     Pendleton, Eric   \n",
       "3           EMMET ST N    CPD         1056    Carelsen, Louise   \n",
       "4         ROSE HILL DR    CPD         1028  Love-Baker, Sydney   \n",
       "\n",
       "                 Date              DateString DayOfWeek  Weekend  Season  \\\n",
       "0 2025-07-15 22:11:25  2025-07-15 10:11:25 PM   Tuesday    False  Summer   \n",
       "1 2025-07-15 14:50:08  2025-07-15 02:50:08 PM   Tuesday    False  Summer   \n",
       "2 2025-07-15 14:35:17  2025-07-15 02:35:17 PM   Tuesday    False  Summer   \n",
       "3 2025-07-15 10:56:57  2025-07-15 10:56:57 AM   Tuesday    False  Summer   \n",
       "4 2025-07-15 10:28:53  2025-07-15 10:28:53 AM   Tuesday    False  Summer   \n",
       "\n",
       "   HourAMPM  TimeOfDay               FullStreet        lat        lon  \\\n",
       "0  10:11 PM      Night           900 EMMET ST N  38.048586 -78.502983   \n",
       "1  02:50 PM  Afternoon         400 10 1/2 ST NW  38.037621 -78.493013   \n",
       "2  02:35 PM  Afternoon  400 17TH ST NW, APT 205        NaN        NaN   \n",
       "3  10:56 AM    Morning          1800 EMMET ST N  38.059766 -78.493132   \n",
       "4  10:28 AM    Morning        1100 ROSE HILL DR  38.041657 -78.484036   \n",
       "\n",
       "     neighborhood  \n",
       "0         Venable  \n",
       "1     10th & Page  \n",
       "2             N/A  \n",
       "3     The Meadows  \n",
       "4  Barracks Rugby  "
      ]
     },
     "execution_count": 10,
     "metadata": {},
     "output_type": "execute_result"
    }
   ],
   "source": [
    "# Initialize the Google Maps client.\n",
    "gmaps = googlemaps.Client(key=GOOGLE_API_KEY)\n",
    "\n",
    "# Try to load a persistent neighborhood cache if available.\n",
    "try:\n",
    "    with open(\"neighborhood_cache.pkl\", \"rb\") as f:\n",
    "        neighborhood_cache = pickle.load(f)\n",
    "    print(\"Loaded neighborhood cache.\")\n",
    "except FileNotFoundError:\n",
    "    neighborhood_cache = {}\n",
    "    print(\"No neighborhood cache found; starting fresh.\")\n",
    "\n",
    "def get_neighborhood(lat, lon):\n",
    "    \"\"\"\n",
    "    Reverse geocodes a latitude and longitude to retrieve the neighborhood.\n",
    "    Caches results to speed up subsequent lookups.\n",
    "    \"\"\"\n",
    "    key = (lat, lon)\n",
    "    if key in neighborhood_cache:\n",
    "        return neighborhood_cache[key]\n",
    "    \n",
    "    try:\n",
    "        result = gmaps.reverse_geocode((lat, lon))\n",
    "        if result:\n",
    "            # Look for the 'neighborhood' component in the first result.\n",
    "            for component in result[0]['address_components']:\n",
    "                if 'neighborhood' in component['types']:\n",
    "                    neighborhood = component['long_name']\n",
    "                    neighborhood_cache[key] = neighborhood\n",
    "                    return neighborhood\n",
    "            # If no neighborhood is found, return \"N/A\"\n",
    "            neighborhood_cache[key] = \"N/A\"\n",
    "            return \"N/A\"\n",
    "    except Exception as e:\n",
    "        print(f\"Error getting neighborhood for {lat}, {lon}: {e}\")\n",
    "        return \"N/A\"\n",
    "    \n",
    "    # Pause to respect usage limits.\n",
    "    time.sleep(1)\n",
    "\n",
    "# Example usage: Apply to your DataFrame 'df' that already has 'lat' and 'lon' columns.\n",
    "df['neighborhood'] = df.apply(lambda row: get_neighborhood(row['lat'], row['lon']), axis=1)\n",
    "\n",
    "# Save the updated neighborhood cache.\n",
    "with open(\"neighborhood_cache.pkl\", \"wb\") as f:\n",
    "    pickle.dump(neighborhood_cache, f)\n",
    "\n",
    "df.head()\n"
   ]
  },
  {
   "cell_type": "markdown",
   "id": "30d7b0bc",
   "metadata": {
    "papermill": {
     "duration": 0.005184,
     "end_time": "2025-07-18T01:09:26.308335",
     "exception": false,
     "start_time": "2025-07-18T01:09:26.303151",
     "status": "completed"
    },
    "tags": []
   },
   "source": [
    "### Zip"
   ]
  },
  {
   "cell_type": "code",
   "execution_count": 11,
   "id": "bb14a638",
   "metadata": {
    "execution": {
     "iopub.execute_input": "2025-07-18T01:09:26.320022Z",
     "iopub.status.busy": "2025-07-18T01:09:26.319608Z",
     "iopub.status.idle": "2025-07-18T01:10:26.671715Z",
     "shell.execute_reply": "2025-07-18T01:10:26.670963Z"
    },
    "papermill": {
     "duration": 60.366986,
     "end_time": "2025-07-18T01:10:26.680555",
     "exception": false,
     "start_time": "2025-07-18T01:09:26.313569",
     "status": "completed"
    },
    "tags": []
   },
   "outputs": [
    {
     "name": "stdout",
     "output_type": "stream",
     "text": [
      "Loaded zip cache.\n",
      "Error getting ZIP for nan, nan: Must be a coordinate pair or Point\n"
     ]
    },
    {
     "name": "stdout",
     "output_type": "stream",
     "text": [
      "Error getting ZIP for nan, nan: Must be a coordinate pair or Point\n"
     ]
    },
    {
     "name": "stdout",
     "output_type": "stream",
     "text": [
      "Error getting ZIP for nan, nan: Must be a coordinate pair or Point\n"
     ]
    },
    {
     "name": "stdout",
     "output_type": "stream",
     "text": [
      "Error getting ZIP for nan, nan: Must be a coordinate pair or Point\n"
     ]
    },
    {
     "name": "stdout",
     "output_type": "stream",
     "text": [
      "Error getting ZIP for nan, nan: Must be a coordinate pair or Point\n"
     ]
    },
    {
     "name": "stdout",
     "output_type": "stream",
     "text": [
      "Error getting ZIP for nan, nan: Must be a coordinate pair or Point\n"
     ]
    },
    {
     "name": "stdout",
     "output_type": "stream",
     "text": [
      "Error getting ZIP for nan, nan: Must be a coordinate pair or Point\n"
     ]
    },
    {
     "name": "stdout",
     "output_type": "stream",
     "text": [
      "Error getting ZIP for nan, nan: Must be a coordinate pair or Point\n"
     ]
    },
    {
     "name": "stdout",
     "output_type": "stream",
     "text": [
      "Error getting ZIP for nan, nan: Must be a coordinate pair or Point\n"
     ]
    },
    {
     "name": "stdout",
     "output_type": "stream",
     "text": [
      "Error getting ZIP for nan, nan: Must be a coordinate pair or Point\n"
     ]
    },
    {
     "name": "stdout",
     "output_type": "stream",
     "text": [
      "Error getting ZIP for nan, nan: Must be a coordinate pair or Point\n"
     ]
    },
    {
     "name": "stdout",
     "output_type": "stream",
     "text": [
      "Error getting ZIP for nan, nan: Must be a coordinate pair or Point\n"
     ]
    },
    {
     "name": "stdout",
     "output_type": "stream",
     "text": [
      "Error getting ZIP for nan, nan: Must be a coordinate pair or Point\n"
     ]
    },
    {
     "name": "stdout",
     "output_type": "stream",
     "text": [
      "Error getting ZIP for nan, nan: Must be a coordinate pair or Point\n"
     ]
    },
    {
     "name": "stdout",
     "output_type": "stream",
     "text": [
      "Error getting ZIP for nan, nan: Must be a coordinate pair or Point\n"
     ]
    },
    {
     "name": "stdout",
     "output_type": "stream",
     "text": [
      "Error getting ZIP for nan, nan: Must be a coordinate pair or Point\n"
     ]
    },
    {
     "name": "stdout",
     "output_type": "stream",
     "text": [
      "Error getting ZIP for nan, nan: Must be a coordinate pair or Point\n"
     ]
    },
    {
     "name": "stdout",
     "output_type": "stream",
     "text": [
      "Error getting ZIP for nan, nan: Must be a coordinate pair or Point\n"
     ]
    },
    {
     "name": "stdout",
     "output_type": "stream",
     "text": [
      "Error getting ZIP for nan, nan: Must be a coordinate pair or Point\n"
     ]
    },
    {
     "name": "stdout",
     "output_type": "stream",
     "text": [
      "Error getting ZIP for nan, nan: Must be a coordinate pair or Point\n"
     ]
    },
    {
     "name": "stdout",
     "output_type": "stream",
     "text": [
      "Error getting ZIP for nan, nan: Must be a coordinate pair or Point\n"
     ]
    },
    {
     "name": "stdout",
     "output_type": "stream",
     "text": [
      "Error getting ZIP for nan, nan: Must be a coordinate pair or Point\n"
     ]
    },
    {
     "name": "stdout",
     "output_type": "stream",
     "text": [
      "Error getting ZIP for nan, nan: Must be a coordinate pair or Point\n"
     ]
    },
    {
     "name": "stdout",
     "output_type": "stream",
     "text": [
      "Error getting ZIP for nan, nan: Must be a coordinate pair or Point\n"
     ]
    },
    {
     "name": "stdout",
     "output_type": "stream",
     "text": [
      "Error getting ZIP for nan, nan: Must be a coordinate pair or Point\n"
     ]
    },
    {
     "name": "stdout",
     "output_type": "stream",
     "text": [
      "Error getting ZIP for nan, nan: Must be a coordinate pair or Point\n"
     ]
    },
    {
     "name": "stdout",
     "output_type": "stream",
     "text": [
      "Error getting ZIP for nan, nan: Must be a coordinate pair or Point\n"
     ]
    },
    {
     "name": "stdout",
     "output_type": "stream",
     "text": [
      "Error getting ZIP for nan, nan: Must be a coordinate pair or Point\n"
     ]
    },
    {
     "name": "stdout",
     "output_type": "stream",
     "text": [
      "Error getting ZIP for nan, nan: Must be a coordinate pair or Point\n"
     ]
    },
    {
     "name": "stdout",
     "output_type": "stream",
     "text": [
      "Error getting ZIP for nan, nan: Must be a coordinate pair or Point\n"
     ]
    },
    {
     "name": "stdout",
     "output_type": "stream",
     "text": [
      "Error getting ZIP for nan, nan: Must be a coordinate pair or Point\n"
     ]
    },
    {
     "name": "stdout",
     "output_type": "stream",
     "text": [
      "Error getting ZIP for nan, nan: Must be a coordinate pair or Point\n"
     ]
    },
    {
     "name": "stdout",
     "output_type": "stream",
     "text": [
      "Error getting ZIP for nan, nan: Must be a coordinate pair or Point\n"
     ]
    },
    {
     "name": "stdout",
     "output_type": "stream",
     "text": [
      "Error getting ZIP for nan, nan: Must be a coordinate pair or Point\n"
     ]
    },
    {
     "name": "stdout",
     "output_type": "stream",
     "text": [
      "Error getting ZIP for nan, nan: Must be a coordinate pair or Point\n"
     ]
    },
    {
     "name": "stdout",
     "output_type": "stream",
     "text": [
      "Error getting ZIP for nan, nan: Must be a coordinate pair or Point\n"
     ]
    },
    {
     "name": "stdout",
     "output_type": "stream",
     "text": [
      "Error getting ZIP for nan, nan: Must be a coordinate pair or Point\n"
     ]
    },
    {
     "name": "stdout",
     "output_type": "stream",
     "text": [
      "Error getting ZIP for nan, nan: Must be a coordinate pair or Point\n"
     ]
    },
    {
     "name": "stdout",
     "output_type": "stream",
     "text": [
      "Error getting ZIP for nan, nan: Must be a coordinate pair or Point\n"
     ]
    },
    {
     "name": "stdout",
     "output_type": "stream",
     "text": [
      "Error getting ZIP for nan, nan: Must be a coordinate pair or Point\n"
     ]
    },
    {
     "name": "stdout",
     "output_type": "stream",
     "text": [
      "Error getting ZIP for nan, nan: Must be a coordinate pair or Point\n"
     ]
    },
    {
     "name": "stdout",
     "output_type": "stream",
     "text": [
      "Error getting ZIP for nan, nan: Must be a coordinate pair or Point\n"
     ]
    },
    {
     "name": "stdout",
     "output_type": "stream",
     "text": [
      "Error getting ZIP for nan, nan: Must be a coordinate pair or Point\n"
     ]
    },
    {
     "name": "stdout",
     "output_type": "stream",
     "text": [
      "Error getting ZIP for nan, nan: Must be a coordinate pair or Point\n"
     ]
    },
    {
     "name": "stdout",
     "output_type": "stream",
     "text": [
      "Error getting ZIP for nan, nan: Must be a coordinate pair or Point\n"
     ]
    },
    {
     "name": "stdout",
     "output_type": "stream",
     "text": [
      "Error getting ZIP for nan, nan: Must be a coordinate pair or Point\n"
     ]
    },
    {
     "name": "stdout",
     "output_type": "stream",
     "text": [
      "Error getting ZIP for nan, nan: Must be a coordinate pair or Point\n"
     ]
    },
    {
     "name": "stdout",
     "output_type": "stream",
     "text": [
      "Error getting ZIP for nan, nan: Must be a coordinate pair or Point\n"
     ]
    },
    {
     "name": "stdout",
     "output_type": "stream",
     "text": [
      "Error getting ZIP for nan, nan: Must be a coordinate pair or Point\n"
     ]
    },
    {
     "name": "stdout",
     "output_type": "stream",
     "text": [
      "Error getting ZIP for nan, nan: Must be a coordinate pair or Point\n"
     ]
    },
    {
     "name": "stdout",
     "output_type": "stream",
     "text": [
      "Error getting ZIP for nan, nan: Must be a coordinate pair or Point\n"
     ]
    },
    {
     "name": "stdout",
     "output_type": "stream",
     "text": [
      "Error getting ZIP for nan, nan: Must be a coordinate pair or Point\n"
     ]
    },
    {
     "name": "stdout",
     "output_type": "stream",
     "text": [
      "Error getting ZIP for nan, nan: Must be a coordinate pair or Point\n"
     ]
    },
    {
     "name": "stdout",
     "output_type": "stream",
     "text": [
      "Error getting ZIP for nan, nan: Must be a coordinate pair or Point\n"
     ]
    },
    {
     "name": "stdout",
     "output_type": "stream",
     "text": [
      "Error getting ZIP for nan, nan: Must be a coordinate pair or Point\n"
     ]
    },
    {
     "name": "stdout",
     "output_type": "stream",
     "text": [
      "Error getting ZIP for nan, nan: Must be a coordinate pair or Point\n"
     ]
    },
    {
     "name": "stdout",
     "output_type": "stream",
     "text": [
      "Error getting ZIP for nan, nan: Must be a coordinate pair or Point\n"
     ]
    },
    {
     "name": "stdout",
     "output_type": "stream",
     "text": [
      "Error getting ZIP for nan, nan: Must be a coordinate pair or Point\n"
     ]
    },
    {
     "name": "stdout",
     "output_type": "stream",
     "text": [
      "Error getting ZIP for nan, nan: Must be a coordinate pair or Point\n"
     ]
    },
    {
     "name": "stdout",
     "output_type": "stream",
     "text": [
      "Error getting ZIP for nan, nan: Must be a coordinate pair or Point\n"
     ]
    },
    {
     "data": {
      "text/html": [
       "<div>\n",
       "<style scoped>\n",
       "    .dataframe tbody tr th:only-of-type {\n",
       "        vertical-align: middle;\n",
       "    }\n",
       "\n",
       "    .dataframe tbody tr th {\n",
       "        vertical-align: top;\n",
       "    }\n",
       "\n",
       "    .dataframe thead th {\n",
       "        text-align: right;\n",
       "    }\n",
       "</style>\n",
       "<table border=\"1\" class=\"dataframe\">\n",
       "  <thead>\n",
       "    <tr style=\"text-align: right;\">\n",
       "      <th></th>\n",
       "      <th>RecordID</th>\n",
       "      <th>Offense</th>\n",
       "      <th>IncidentID</th>\n",
       "      <th>BlockNumber</th>\n",
       "      <th>StreetName</th>\n",
       "      <th>Agency</th>\n",
       "      <th>HourReported</th>\n",
       "      <th>ReportingOfficer</th>\n",
       "      <th>Date</th>\n",
       "      <th>DateString</th>\n",
       "      <th>DayOfWeek</th>\n",
       "      <th>Weekend</th>\n",
       "      <th>Season</th>\n",
       "      <th>HourAMPM</th>\n",
       "      <th>TimeOfDay</th>\n",
       "      <th>FullStreet</th>\n",
       "      <th>lat</th>\n",
       "      <th>lon</th>\n",
       "      <th>neighborhood</th>\n",
       "      <th>zip</th>\n",
       "    </tr>\n",
       "  </thead>\n",
       "  <tbody>\n",
       "    <tr>\n",
       "      <th>0</th>\n",
       "      <td>1</td>\n",
       "      <td>Drug/Narcotics Violation</td>\n",
       "      <td>202500024884</td>\n",
       "      <td>900</td>\n",
       "      <td>EMMET ST N</td>\n",
       "      <td>CPD</td>\n",
       "      <td>2211</td>\n",
       "      <td>Bland, Johnnà</td>\n",
       "      <td>2025-07-15 22:11:25</td>\n",
       "      <td>2025-07-15 10:11:25 PM</td>\n",
       "      <td>Tuesday</td>\n",
       "      <td>False</td>\n",
       "      <td>Summer</td>\n",
       "      <td>10:11 PM</td>\n",
       "      <td>Night</td>\n",
       "      <td>900 EMMET ST N</td>\n",
       "      <td>38.048586</td>\n",
       "      <td>-78.502983</td>\n",
       "      <td>Venable</td>\n",
       "      <td>22903</td>\n",
       "    </tr>\n",
       "    <tr>\n",
       "      <th>1</th>\n",
       "      <td>2</td>\n",
       "      <td>Vandalism</td>\n",
       "      <td>202500024824</td>\n",
       "      <td>400</td>\n",
       "      <td>10 1/2 ST NW</td>\n",
       "      <td>CPD</td>\n",
       "      <td>1450</td>\n",
       "      <td>Brannon, Devin</td>\n",
       "      <td>2025-07-15 14:50:08</td>\n",
       "      <td>2025-07-15 02:50:08 PM</td>\n",
       "      <td>Tuesday</td>\n",
       "      <td>False</td>\n",
       "      <td>Summer</td>\n",
       "      <td>02:50 PM</td>\n",
       "      <td>Afternoon</td>\n",
       "      <td>400 10 1/2 ST NW</td>\n",
       "      <td>38.037621</td>\n",
       "      <td>-78.493013</td>\n",
       "      <td>10th &amp; Page</td>\n",
       "      <td>22903</td>\n",
       "    </tr>\n",
       "    <tr>\n",
       "      <th>2</th>\n",
       "      <td>3</td>\n",
       "      <td>Larceny - Theft from Building</td>\n",
       "      <td>202580000112</td>\n",
       "      <td>400</td>\n",
       "      <td>17TH ST NW, APT 205</td>\n",
       "      <td>CPD</td>\n",
       "      <td>1435</td>\n",
       "      <td>Pendleton, Eric</td>\n",
       "      <td>2025-07-15 14:35:17</td>\n",
       "      <td>2025-07-15 02:35:17 PM</td>\n",
       "      <td>Tuesday</td>\n",
       "      <td>False</td>\n",
       "      <td>Summer</td>\n",
       "      <td>02:35 PM</td>\n",
       "      <td>Afternoon</td>\n",
       "      <td>400 17TH ST NW, APT 205</td>\n",
       "      <td>NaN</td>\n",
       "      <td>NaN</td>\n",
       "      <td>N/A</td>\n",
       "      <td>N/A</td>\n",
       "    </tr>\n",
       "    <tr>\n",
       "      <th>3</th>\n",
       "      <td>4</td>\n",
       "      <td>Animal Complaint</td>\n",
       "      <td>202500024802</td>\n",
       "      <td>1800</td>\n",
       "      <td>EMMET ST N</td>\n",
       "      <td>CPD</td>\n",
       "      <td>1056</td>\n",
       "      <td>Carelsen, Louise</td>\n",
       "      <td>2025-07-15 10:56:57</td>\n",
       "      <td>2025-07-15 10:56:57 AM</td>\n",
       "      <td>Tuesday</td>\n",
       "      <td>False</td>\n",
       "      <td>Summer</td>\n",
       "      <td>10:56 AM</td>\n",
       "      <td>Morning</td>\n",
       "      <td>1800 EMMET ST N</td>\n",
       "      <td>38.059766</td>\n",
       "      <td>-78.493132</td>\n",
       "      <td>The Meadows</td>\n",
       "      <td>22905</td>\n",
       "    </tr>\n",
       "    <tr>\n",
       "      <th>4</th>\n",
       "      <td>5</td>\n",
       "      <td>Disorderly Conduct</td>\n",
       "      <td>202500024798</td>\n",
       "      <td>1100</td>\n",
       "      <td>ROSE HILL DR</td>\n",
       "      <td>CPD</td>\n",
       "      <td>1028</td>\n",
       "      <td>Love-Baker, Sydney</td>\n",
       "      <td>2025-07-15 10:28:53</td>\n",
       "      <td>2025-07-15 10:28:53 AM</td>\n",
       "      <td>Tuesday</td>\n",
       "      <td>False</td>\n",
       "      <td>Summer</td>\n",
       "      <td>10:28 AM</td>\n",
       "      <td>Morning</td>\n",
       "      <td>1100 ROSE HILL DR</td>\n",
       "      <td>38.041657</td>\n",
       "      <td>-78.484036</td>\n",
       "      <td>Barracks Rugby</td>\n",
       "      <td>22903</td>\n",
       "    </tr>\n",
       "  </tbody>\n",
       "</table>\n",
       "</div>"
      ],
      "text/plain": [
       "   RecordID                        Offense    IncidentID BlockNumber  \\\n",
       "0         1       Drug/Narcotics Violation  202500024884         900   \n",
       "1         2                      Vandalism  202500024824         400   \n",
       "2         3  Larceny - Theft from Building  202580000112         400   \n",
       "3         4               Animal Complaint  202500024802        1800   \n",
       "4         5             Disorderly Conduct  202500024798        1100   \n",
       "\n",
       "            StreetName Agency HourReported    ReportingOfficer  \\\n",
       "0           EMMET ST N    CPD         2211       Bland, Johnnà   \n",
       "1         10 1/2 ST NW    CPD         1450      Brannon, Devin   \n",
       "2  17TH ST NW, APT 205    CPD         1435     Pendleton, Eric   \n",
       "3           EMMET ST N    CPD         1056    Carelsen, Louise   \n",
       "4         ROSE HILL DR    CPD         1028  Love-Baker, Sydney   \n",
       "\n",
       "                 Date              DateString DayOfWeek  Weekend  Season  \\\n",
       "0 2025-07-15 22:11:25  2025-07-15 10:11:25 PM   Tuesday    False  Summer   \n",
       "1 2025-07-15 14:50:08  2025-07-15 02:50:08 PM   Tuesday    False  Summer   \n",
       "2 2025-07-15 14:35:17  2025-07-15 02:35:17 PM   Tuesday    False  Summer   \n",
       "3 2025-07-15 10:56:57  2025-07-15 10:56:57 AM   Tuesday    False  Summer   \n",
       "4 2025-07-15 10:28:53  2025-07-15 10:28:53 AM   Tuesday    False  Summer   \n",
       "\n",
       "   HourAMPM  TimeOfDay               FullStreet        lat        lon  \\\n",
       "0  10:11 PM      Night           900 EMMET ST N  38.048586 -78.502983   \n",
       "1  02:50 PM  Afternoon         400 10 1/2 ST NW  38.037621 -78.493013   \n",
       "2  02:35 PM  Afternoon  400 17TH ST NW, APT 205        NaN        NaN   \n",
       "3  10:56 AM    Morning          1800 EMMET ST N  38.059766 -78.493132   \n",
       "4  10:28 AM    Morning        1100 ROSE HILL DR  38.041657 -78.484036   \n",
       "\n",
       "     neighborhood    zip  \n",
       "0         Venable  22903  \n",
       "1     10th & Page  22903  \n",
       "2             N/A    N/A  \n",
       "3     The Meadows  22905  \n",
       "4  Barracks Rugby  22903  "
      ]
     },
     "execution_count": 11,
     "metadata": {},
     "output_type": "execute_result"
    }
   ],
   "source": [
    "# Initialize the geocoder.\n",
    "geolocator = Nominatim(user_agent=\"zip_lookup\")\n",
    "\n",
    "# Try to load a persistent ZIP cache if available.\n",
    "try:\n",
    "    with open(\"zip_cache.pkl\", \"rb\") as f:\n",
    "        zip_cache = pickle.load(f)\n",
    "    print(\"Loaded zip cache.\")\n",
    "except FileNotFoundError:\n",
    "    zip_cache = {}\n",
    "    print(\"No zip cache found; starting fresh.\")\n",
    "\n",
    "def get_zip(lat, lon):\n",
    "    \"\"\"\n",
    "    Reverse geocodes a latitude and longitude to retrieve the ZIP code.\n",
    "    Caches results to speed up subsequent lookups.\n",
    "    \"\"\"\n",
    "    key = (lat, lon)\n",
    "    if key in zip_cache:\n",
    "        return zip_cache[key]\n",
    "    \n",
    "    try:\n",
    "        location = geolocator.reverse((lat, lon), exactly_one=True, timeout=10)\n",
    "        address = location.raw.get('address', {})\n",
    "        postal_code = address.get('postcode', \"N/A\")\n",
    "    except Exception as e:\n",
    "        print(f\"Error getting ZIP for {lat}, {lon}: {e}\")\n",
    "        postal_code = \"N/A\"\n",
    "    \n",
    "    zip_cache[key] = postal_code\n",
    "    # Pause to respect the usage policy.\n",
    "    time.sleep(1)\n",
    "    return postal_code\n",
    "\n",
    "# Apply the function to each row in the DataFrame.\n",
    "df['zip'] = df.apply(lambda row: get_zip(row['lat'], row['lon']), axis=1)\n",
    "\n",
    "# Save the updated ZIP cache.\n",
    "with open(\"zip_cache.pkl\", \"wb\") as f:\n",
    "    pickle.dump(zip_cache, f)\n",
    "\n",
    "df.head()\n"
   ]
  },
  {
   "cell_type": "code",
   "execution_count": 12,
   "id": "655136f5",
   "metadata": {
    "execution": {
     "iopub.execute_input": "2025-07-18T01:10:26.697808Z",
     "iopub.status.busy": "2025-07-18T01:10:26.697371Z",
     "iopub.status.idle": "2025-07-18T01:10:26.726197Z",
     "shell.execute_reply": "2025-07-18T01:10:26.725634Z"
    },
    "papermill": {
     "duration": 0.038583,
     "end_time": "2025-07-18T01:10:26.727191",
     "exception": false,
     "start_time": "2025-07-18T01:10:26.688608",
     "status": "completed"
    },
    "tags": []
   },
   "outputs": [
    {
     "name": "stdout",
     "output_type": "stream",
     "text": [
      "                  MissingCount  MissingPercentage\n",
      "RecordID                     0               0.00\n",
      "Offense                      0               0.00\n",
      "IncidentID                   0               0.00\n",
      "BlockNumber                  0               0.00\n",
      "StreetName                   0               0.00\n",
      "Agency                       0               0.00\n",
      "HourReported                 0               0.00\n",
      "ReportingOfficer            17               0.07\n",
      "Date                         0               0.00\n",
      "DateString                   0               0.00\n",
      "DayOfWeek                    0               0.00\n",
      "Weekend                      0               0.00\n",
      "Season                       0               0.00\n",
      "HourAMPM                     0               0.00\n",
      "TimeOfDay                    0               0.00\n",
      "FullStreet                   0               0.00\n",
      "lat                         60               0.23\n",
      "lon                         60               0.23\n",
      "neighborhood                 0               0.00\n",
      "zip                          0               0.00\n"
     ]
    }
   ],
   "source": [
    "missing_info = missing_percentage(df)\n",
    "print(missing_info)\n"
   ]
  },
  {
   "cell_type": "code",
   "execution_count": 13,
   "id": "69d121c7",
   "metadata": {
    "execution": {
     "iopub.execute_input": "2025-07-18T01:10:26.744285Z",
     "iopub.status.busy": "2025-07-18T01:10:26.744034Z",
     "iopub.status.idle": "2025-07-18T01:10:26.773198Z",
     "shell.execute_reply": "2025-07-18T01:10:26.772602Z"
    },
    "papermill": {
     "duration": 0.038811,
     "end_time": "2025-07-18T01:10:26.774193",
     "exception": false,
     "start_time": "2025-07-18T01:10:26.735382",
     "status": "completed"
    },
    "tags": []
   },
   "outputs": [
    {
     "name": "stdout",
     "output_type": "stream",
     "text": [
      "<class 'pandas.core.frame.DataFrame'>\n",
      "RangeIndex: 25532 entries, 0 to 25531\n",
      "Data columns (total 20 columns):\n",
      " #   Column            Non-Null Count  Dtype         \n",
      "---  ------            --------------  -----         \n",
      " 0   RecordID          25532 non-null  int64         \n",
      " 1   Offense           25532 non-null  object        \n",
      " 2   IncidentID        25532 non-null  object        \n",
      " 3   BlockNumber       25532 non-null  object        \n",
      " 4   StreetName        25532 non-null  object        \n",
      " 5   Agency            25532 non-null  object        \n",
      " 6   HourReported      25532 non-null  object        \n",
      " 7   ReportingOfficer  25515 non-null  object        \n",
      " 8   Date              25532 non-null  datetime64[ns]\n",
      " 9   DateString        25532 non-null  object        \n",
      " 10  DayOfWeek         25532 non-null  object        \n",
      " 11  Weekend           25532 non-null  bool          \n",
      " 12  Season            25532 non-null  object        \n",
      " 13  HourAMPM          25532 non-null  object        \n",
      " 14  TimeOfDay         25532 non-null  object        \n",
      " 15  FullStreet        25532 non-null  object        \n",
      " 16  lat               25472 non-null  float64       \n",
      " 17  lon               25472 non-null  float64       \n",
      " 18  neighborhood      25532 non-null  object        \n",
      " 19  zip               25532 non-null  object        \n",
      "dtypes: bool(1), datetime64[ns](1), float64(2), int64(1), object(15)\n",
      "memory usage: 3.7+ MB\n"
     ]
    }
   ],
   "source": [
    "df.info()"
   ]
  },
  {
   "cell_type": "code",
   "execution_count": 14,
   "id": "600c7e5b",
   "metadata": {
    "execution": {
     "iopub.execute_input": "2025-07-18T01:10:26.791758Z",
     "iopub.status.busy": "2025-07-18T01:10:26.791519Z",
     "iopub.status.idle": "2025-07-18T01:10:26.835174Z",
     "shell.execute_reply": "2025-07-18T01:10:26.834509Z"
    },
    "papermill": {
     "duration": 0.05367,
     "end_time": "2025-07-18T01:10:26.836305",
     "exception": false,
     "start_time": "2025-07-18T01:10:26.782635",
     "status": "completed"
    },
    "tags": []
   },
   "outputs": [
    {
     "data": {
      "text/html": [
       "<div>\n",
       "<style scoped>\n",
       "    .dataframe tbody tr th:only-of-type {\n",
       "        vertical-align: middle;\n",
       "    }\n",
       "\n",
       "    .dataframe tbody tr th {\n",
       "        vertical-align: top;\n",
       "    }\n",
       "\n",
       "    .dataframe thead th {\n",
       "        text-align: right;\n",
       "    }\n",
       "</style>\n",
       "<table border=\"1\" class=\"dataframe\">\n",
       "  <thead>\n",
       "    <tr style=\"text-align: right;\">\n",
       "      <th></th>\n",
       "      <th>RecordID</th>\n",
       "      <th>Offense</th>\n",
       "      <th>IncidentID</th>\n",
       "      <th>Agency</th>\n",
       "      <th>ReportingOfficer</th>\n",
       "      <th>Date</th>\n",
       "      <th>DayOfWeek</th>\n",
       "      <th>Weekend</th>\n",
       "      <th>Season</th>\n",
       "      <th>TimeOfDay</th>\n",
       "      <th>FullStreet</th>\n",
       "      <th>lat</th>\n",
       "      <th>lon</th>\n",
       "      <th>neighborhood</th>\n",
       "      <th>zip</th>\n",
       "    </tr>\n",
       "  </thead>\n",
       "  <tbody>\n",
       "    <tr>\n",
       "      <th>0</th>\n",
       "      <td>1</td>\n",
       "      <td>Drug/Narcotics Violation</td>\n",
       "      <td>202500024884</td>\n",
       "      <td>CPD</td>\n",
       "      <td>Bland, Johnnà</td>\n",
       "      <td>2025-07-15 22:11:25</td>\n",
       "      <td>Tuesday</td>\n",
       "      <td>False</td>\n",
       "      <td>Summer</td>\n",
       "      <td>Night</td>\n",
       "      <td>900 EMMET ST N</td>\n",
       "      <td>38.048586</td>\n",
       "      <td>-78.502983</td>\n",
       "      <td>Venable</td>\n",
       "      <td>22903</td>\n",
       "    </tr>\n",
       "    <tr>\n",
       "      <th>1</th>\n",
       "      <td>2</td>\n",
       "      <td>Vandalism</td>\n",
       "      <td>202500024824</td>\n",
       "      <td>CPD</td>\n",
       "      <td>Brannon, Devin</td>\n",
       "      <td>2025-07-15 14:50:08</td>\n",
       "      <td>Tuesday</td>\n",
       "      <td>False</td>\n",
       "      <td>Summer</td>\n",
       "      <td>Afternoon</td>\n",
       "      <td>400 10 1/2 ST NW</td>\n",
       "      <td>38.037621</td>\n",
       "      <td>-78.493013</td>\n",
       "      <td>10th &amp; Page</td>\n",
       "      <td>22903</td>\n",
       "    </tr>\n",
       "    <tr>\n",
       "      <th>2</th>\n",
       "      <td>3</td>\n",
       "      <td>Larceny - Theft from Building</td>\n",
       "      <td>202580000112</td>\n",
       "      <td>CPD</td>\n",
       "      <td>Pendleton, Eric</td>\n",
       "      <td>2025-07-15 14:35:17</td>\n",
       "      <td>Tuesday</td>\n",
       "      <td>False</td>\n",
       "      <td>Summer</td>\n",
       "      <td>Afternoon</td>\n",
       "      <td>400 17TH ST NW, APT 205</td>\n",
       "      <td>N/A</td>\n",
       "      <td>N/A</td>\n",
       "      <td>N/A</td>\n",
       "      <td>N/A</td>\n",
       "    </tr>\n",
       "    <tr>\n",
       "      <th>3</th>\n",
       "      <td>4</td>\n",
       "      <td>Animal Complaint</td>\n",
       "      <td>202500024802</td>\n",
       "      <td>CPD</td>\n",
       "      <td>Carelsen, Louise</td>\n",
       "      <td>2025-07-15 10:56:57</td>\n",
       "      <td>Tuesday</td>\n",
       "      <td>False</td>\n",
       "      <td>Summer</td>\n",
       "      <td>Morning</td>\n",
       "      <td>1800 EMMET ST N</td>\n",
       "      <td>38.059766</td>\n",
       "      <td>-78.493132</td>\n",
       "      <td>The Meadows</td>\n",
       "      <td>22905</td>\n",
       "    </tr>\n",
       "    <tr>\n",
       "      <th>4</th>\n",
       "      <td>5</td>\n",
       "      <td>Disorderly Conduct</td>\n",
       "      <td>202500024798</td>\n",
       "      <td>CPD</td>\n",
       "      <td>Love-Baker, Sydney</td>\n",
       "      <td>2025-07-15 10:28:53</td>\n",
       "      <td>Tuesday</td>\n",
       "      <td>False</td>\n",
       "      <td>Summer</td>\n",
       "      <td>Morning</td>\n",
       "      <td>1100 ROSE HILL DR</td>\n",
       "      <td>38.041657</td>\n",
       "      <td>-78.484036</td>\n",
       "      <td>Barracks Rugby</td>\n",
       "      <td>22903</td>\n",
       "    </tr>\n",
       "  </tbody>\n",
       "</table>\n",
       "</div>"
      ],
      "text/plain": [
       "   RecordID                        Offense    IncidentID Agency  \\\n",
       "0         1       Drug/Narcotics Violation  202500024884    CPD   \n",
       "1         2                      Vandalism  202500024824    CPD   \n",
       "2         3  Larceny - Theft from Building  202580000112    CPD   \n",
       "3         4               Animal Complaint  202500024802    CPD   \n",
       "4         5             Disorderly Conduct  202500024798    CPD   \n",
       "\n",
       "     ReportingOfficer                Date DayOfWeek  Weekend  Season  \\\n",
       "0       Bland, Johnnà 2025-07-15 22:11:25   Tuesday    False  Summer   \n",
       "1      Brannon, Devin 2025-07-15 14:50:08   Tuesday    False  Summer   \n",
       "2     Pendleton, Eric 2025-07-15 14:35:17   Tuesday    False  Summer   \n",
       "3    Carelsen, Louise 2025-07-15 10:56:57   Tuesday    False  Summer   \n",
       "4  Love-Baker, Sydney 2025-07-15 10:28:53   Tuesday    False  Summer   \n",
       "\n",
       "   TimeOfDay               FullStreet        lat        lon    neighborhood  \\\n",
       "0      Night           900 EMMET ST N  38.048586 -78.502983         Venable   \n",
       "1  Afternoon         400 10 1/2 ST NW  38.037621 -78.493013     10th & Page   \n",
       "2  Afternoon  400 17TH ST NW, APT 205        N/A        N/A             N/A   \n",
       "3    Morning          1800 EMMET ST N  38.059766 -78.493132     The Meadows   \n",
       "4    Morning        1100 ROSE HILL DR  38.041657 -78.484036  Barracks Rugby   \n",
       "\n",
       "     zip  \n",
       "0  22903  \n",
       "1  22903  \n",
       "2    N/A  \n",
       "3  22905  \n",
       "4  22903  "
      ]
     },
     "execution_count": 14,
     "metadata": {},
     "output_type": "execute_result"
    }
   ],
   "source": [
    "# Now drop the original BlockNumber and StreetName columns\n",
    "df.drop(columns=['BlockNumber', 'StreetName','HourAMPM','HourReported','DateString'], inplace=True)\n",
    "df[\"zip\"] = df[\"zip\"].astype(str)\n",
    "\n",
    "# Fill all missing values in the DataFrame with \"N/A\"\n",
    "df.replace({None: \"N/A\", np.nan: \"N/A\", \"\": \"N/A\"}, inplace=True)\n",
    "df.head()"
   ]
  },
  {
   "cell_type": "code",
   "execution_count": 15,
   "id": "7e06af05",
   "metadata": {
    "execution": {
     "iopub.execute_input": "2025-07-18T01:10:26.854687Z",
     "iopub.status.busy": "2025-07-18T01:10:26.854284Z",
     "iopub.status.idle": "2025-07-18T01:10:26.874443Z",
     "shell.execute_reply": "2025-07-18T01:10:26.873853Z"
    },
    "papermill": {
     "duration": 0.030281,
     "end_time": "2025-07-18T01:10:26.875466",
     "exception": false,
     "start_time": "2025-07-18T01:10:26.845185",
     "status": "completed"
    },
    "tags": []
   },
   "outputs": [
    {
     "name": "stdout",
     "output_type": "stream",
     "text": [
      "                  MissingCount  MissingPercentage\n",
      "RecordID                     0                0.0\n",
      "Offense                      0                0.0\n",
      "IncidentID                   0                0.0\n",
      "Agency                       0                0.0\n",
      "ReportingOfficer             0                0.0\n",
      "Date                         0                0.0\n",
      "DayOfWeek                    0                0.0\n",
      "Weekend                      0                0.0\n",
      "Season                       0                0.0\n",
      "TimeOfDay                    0                0.0\n",
      "FullStreet                   0                0.0\n",
      "lat                          0                0.0\n",
      "lon                          0                0.0\n",
      "neighborhood                 0                0.0\n",
      "zip                          0                0.0\n"
     ]
    }
   ],
   "source": [
    "missing_info = missing_percentage(df)\n",
    "print(missing_info)"
   ]
  },
  {
   "cell_type": "code",
   "execution_count": 16,
   "id": "eccbcefd",
   "metadata": {
    "execution": {
     "iopub.execute_input": "2025-07-18T01:10:26.893566Z",
     "iopub.status.busy": "2025-07-18T01:10:26.893144Z",
     "iopub.status.idle": "2025-07-18T01:10:26.897422Z",
     "shell.execute_reply": "2025-07-18T01:10:26.896891Z"
    },
    "papermill": {
     "duration": 0.01438,
     "end_time": "2025-07-18T01:10:26.898458",
     "exception": false,
     "start_time": "2025-07-18T01:10:26.884078",
     "status": "completed"
    },
    "tags": []
   },
   "outputs": [
    {
     "data": {
      "text/plain": [
       "Index(['RecordID', 'Offense', 'IncidentID', 'Agency', 'ReportingOfficer',\n",
       "       'Date', 'DayOfWeek', 'Weekend', 'Season', 'TimeOfDay', 'FullStreet',\n",
       "       'lat', 'lon', 'neighborhood', 'zip'],\n",
       "      dtype='object')"
      ]
     },
     "execution_count": 16,
     "metadata": {},
     "output_type": "execute_result"
    }
   ],
   "source": [
    "df.columns"
   ]
  },
  {
   "cell_type": "code",
   "execution_count": 17,
   "id": "721573e3",
   "metadata": {
    "execution": {
     "iopub.execute_input": "2025-07-18T01:10:26.916318Z",
     "iopub.status.busy": "2025-07-18T01:10:26.916062Z",
     "iopub.status.idle": "2025-07-18T01:10:26.937280Z",
     "shell.execute_reply": "2025-07-18T01:10:26.936742Z"
    },
    "papermill": {
     "duration": 0.031326,
     "end_time": "2025-07-18T01:10:26.938307",
     "exception": false,
     "start_time": "2025-07-18T01:10:26.906981",
     "status": "completed"
    },
    "tags": []
   },
   "outputs": [
    {
     "name": "stdout",
     "output_type": "stream",
     "text": [
      "<class 'pandas.core.frame.DataFrame'>\n",
      "RangeIndex: 25532 entries, 0 to 25531\n",
      "Data columns (total 15 columns):\n",
      " #   Column            Non-Null Count  Dtype         \n",
      "---  ------            --------------  -----         \n",
      " 0   RecordID          25532 non-null  int64         \n",
      " 1   Offense           25532 non-null  object        \n",
      " 2   IncidentID        25532 non-null  object        \n",
      " 3   Agency            25532 non-null  object        \n",
      " 4   ReportingOfficer  25532 non-null  object        \n",
      " 5   Date              25532 non-null  datetime64[ns]\n",
      " 6   DayOfWeek         25532 non-null  object        \n",
      " 7   Weekend           25532 non-null  bool          \n",
      " 8   Season            25532 non-null  object        \n",
      " 9   TimeOfDay         25532 non-null  object        \n",
      " 10  FullStreet        25532 non-null  object        \n",
      " 11  lat               25532 non-null  object        \n",
      " 12  lon               25532 non-null  object        \n",
      " 13  neighborhood      25532 non-null  object        \n",
      " 14  zip               25532 non-null  object        \n",
      "dtypes: bool(1), datetime64[ns](1), int64(1), object(12)\n",
      "memory usage: 2.8+ MB\n"
     ]
    }
   ],
   "source": [
    "df.info()"
   ]
  },
  {
   "cell_type": "markdown",
   "id": "38aa5c9a",
   "metadata": {
    "papermill": {
     "duration": 0.0085,
     "end_time": "2025-07-18T01:10:26.955613",
     "exception": false,
     "start_time": "2025-07-18T01:10:26.947113",
     "status": "completed"
    },
    "tags": []
   },
   "source": [
    "### Export Clean Data"
   ]
  },
  {
   "cell_type": "code",
   "execution_count": 18,
   "id": "28b1d307",
   "metadata": {
    "execution": {
     "iopub.execute_input": "2025-07-18T01:10:26.973651Z",
     "iopub.status.busy": "2025-07-18T01:10:26.973255Z",
     "iopub.status.idle": "2025-07-18T01:10:36.129734Z",
     "shell.execute_reply": "2025-07-18T01:10:36.129072Z"
    },
    "papermill": {
     "duration": 9.166535,
     "end_time": "2025-07-18T01:10:36.130725",
     "exception": false,
     "start_time": "2025-07-18T01:10:26.964190",
     "status": "completed"
    },
    "tags": []
   },
   "outputs": [
    {
     "name": "stdout",
     "output_type": "stream",
     "text": [
      "Project Root: /home/runner/work/crime-data/crime-data\n"
     ]
    },
    {
     "name": "stdout",
     "output_type": "stream",
     "text": [
      "Data saved to: /home/runner/work/crime-data/crime-data/data/charlottesville_crime_incidents.csv\n"
     ]
    },
    {
     "name": "stdout",
     "output_type": "stream",
     "text": [
      "Excel saved to: /home/runner/work/crime-data/crime-data/data/charlottesville_crime_incidents.xlsx\n"
     ]
    }
   ],
   "source": [
    "# Determine the project root (assuming papermill is run from the repository root)\n",
    "project_root = os.getcwd()\n",
    "print(\"Project Root:\", project_root)\n",
    "\n",
    "# Set the data directory within the project root\n",
    "data_dir = os.path.join(project_root, \"data\")\n",
    "\n",
    "# Ensure the \"data\" directory exists (create it if it doesn't)\n",
    "if not os.path.exists(data_dir):\n",
    "    os.makedirs(data_dir)\n",
    "\n",
    "# Export the DataFrame to CSV in the \"data\" folder located in the project root\n",
    "csv_path = os.path.join(data_dir, \"charlottesville_crime_incidents.csv\")\n",
    "df.to_csv(csv_path, index=False)\n",
    "print(\"Data saved to:\", csv_path)\n",
    "\n",
    "# Construct the path to your Excel file\n",
    "excel_path = os.path.join(data_dir, \"charlottesville_crime_incidents.xlsx\")\n",
    "\n",
    "# Export the DataFrame to Excel\n",
    "df.to_excel(excel_path, index=False)\n",
    "print(\"Excel saved to:\", excel_path)\n"
   ]
  }
 ],
 "metadata": {
  "kernelspec": {
   "display_name": "Python 3",
   "language": "python",
   "name": "python3"
  },
  "language_info": {
   "codemirror_mode": {
    "name": "ipython",
    "version": 3
   },
   "file_extension": ".py",
   "mimetype": "text/x-python",
   "name": "python",
   "nbconvert_exporter": "python",
   "pygments_lexer": "ipython3",
   "version": "3.9.23"
  },
  "papermill": {
   "default_parameters": {},
   "duration": 143.036417,
   "end_time": "2025-07-18T01:10:36.555903",
   "environment_variables": {},
   "exception": null,
   "input_path": "notebook/Crime Data.ipynb",
   "output_path": "notebook/Crime Data_output.ipynb",
   "parameters": {},
   "start_time": "2025-07-18T01:08:13.519486",
   "version": "2.6.0"
  }
 },
 "nbformat": 4,
 "nbformat_minor": 5
}