{
 "cells": [
  {
   "cell_type": "markdown",
   "id": "0a65212b",
   "metadata": {
    "papermill": {
     "duration": 0.006096,
     "end_time": "2025-05-17T01:01:53.255227",
     "exception": false,
     "start_time": "2025-05-17T01:01:53.249131",
     "status": "completed"
    },
    "tags": []
   },
   "source": [
    "# Charlottesville Open Data Porttal: Crime Data"
   ]
  },
  {
   "cell_type": "markdown",
   "id": "45fc50fc",
   "metadata": {
    "papermill": {
     "duration": 0.005053,
     "end_time": "2025-05-17T01:01:53.265715",
     "exception": false,
     "start_time": "2025-05-17T01:01:53.260662",
     "status": "completed"
    },
    "tags": []
   },
   "source": [
    "## Import Relevant Librarires & Set WD"
   ]
  },
  {
   "cell_type": "code",
   "execution_count": 1,
   "id": "d2f56f4c",
   "metadata": {
    "execution": {
     "iopub.execute_input": "2025-05-17T01:01:53.277112Z",
     "iopub.status.busy": "2025-05-17T01:01:53.276729Z",
     "iopub.status.idle": "2025-05-17T01:01:53.850553Z",
     "shell.execute_reply": "2025-05-17T01:01:53.849836Z"
    },
    "papermill": {
     "duration": 0.581212,
     "end_time": "2025-05-17T01:01:53.852041",
     "exception": false,
     "start_time": "2025-05-17T01:01:53.270829",
     "status": "completed"
    },
    "tags": []
   },
   "outputs": [],
   "source": [
    "import requests\n",
    "import pandas as pd\n",
    "import numpy as np\n",
    "import pickle\n",
    "import googlemaps\n",
    "import plotly.express as px\n",
    "from geopy.geocoders import Nominatim\n",
    "import time\n",
    "from dotenv import load_dotenv\n",
    "import os\n",
    "\n",
    "env_path = os.path.join(\"..\", \".env\")\n",
    "#print(\"Looking for .env file at:\", os.path.abspath(env_path))\n",
    "load_dotenv(dotenv_path=env_path)\n",
    "\n",
    "# Retrieve the variables\n",
    "GOOGLE_API_KEY = os.getenv(\"GOOGLE_API_KEY\")\n",
    "WORKING_DIR = os.getenv(\"WORKING_DIR\")\n",
    "\n",
    "if GOOGLE_API_KEY is None or WORKING_DIR is None:\n",
    "    raise RuntimeError(\"No configuration found. Please ensure that your .env file exists with the required variables, or create a local config.py file.\")\n",
    "\n",
    "#print(\"Google API Key:\", GOOGLE_API_KEY)\n",
    "#print(\"Working Directory:\", WORKING_DIR)"
   ]
  },
  {
   "cell_type": "markdown",
   "id": "5ab370cc",
   "metadata": {
    "papermill": {
     "duration": 0.005068,
     "end_time": "2025-05-17T01:01:53.862605",
     "exception": false,
     "start_time": "2025-05-17T01:01:53.857537",
     "status": "completed"
    },
    "tags": []
   },
   "source": [
    "## Import Data\n",
    "\n",
    "URL: https://opendata.charlottesville.org/datasets/charlottesville::crime-data/about"
   ]
  },
  {
   "cell_type": "code",
   "execution_count": 2,
   "id": "7324cba6",
   "metadata": {
    "execution": {
     "iopub.execute_input": "2025-05-17T01:01:53.874748Z",
     "iopub.status.busy": "2025-05-17T01:01:53.874116Z",
     "iopub.status.idle": "2025-05-17T01:02:54.849551Z",
     "shell.execute_reply": "2025-05-17T01:02:54.848832Z"
    },
    "papermill": {
     "duration": 61.01124,
     "end_time": "2025-05-17T01:02:54.879619",
     "exception": false,
     "start_time": "2025-05-17T01:01:53.868379",
     "status": "completed"
    },
    "tags": []
   },
   "outputs": [
    {
     "name": "stdout",
     "output_type": "stream",
     "text": [
      "Total records imported: 25387\n"
     ]
    }
   ],
   "source": [
    "# Define the endpoint and initial parameters.\n",
    "url = \"https://gisweb.charlottesville.org/arcgis/rest/services/OpenData_2/MapServer/6/query\"\n",
    "params = {\n",
    "    \"where\": \"1=1\",\n",
    "    \"outFields\": \"*\",\n",
    "    \"outSR\": 4326,\n",
    "    \"f\": \"json\",\n",
    "    \"resultOffset\": 0,       # Starting index for results\n",
    "    \"resultRecordCount\": 10000  # Maximum records per batch (if allowed by the API)\n",
    "}\n",
    "\n",
    "records = []\n",
    "\n",
    "while True:\n",
    "    response = requests.get(url, params=params)\n",
    "    response.raise_for_status()\n",
    "    data = response.json()\n",
    "    \n",
    "    # Get the current batch of features.\n",
    "    features = data.get(\"features\", [])\n",
    "    if not features:\n",
    "        break\n",
    "\n",
    "    # Extract the attributes from the features.\n",
    "    batch_records = [feature.get(\"attributes\", {}) for feature in features]\n",
    "    records.extend(batch_records)\n",
    "    \n",
    "    # If the batch size is less than the requested count, we reached the end.\n",
    "    if len(features) < params[\"resultRecordCount\"]:\n",
    "        break\n",
    "\n",
    "    # Update the resultOffset for the next batch.\n",
    "    params[\"resultOffset\"] += params[\"resultRecordCount\"]\n",
    "\n",
    "# Create a DataFrame from the combined records.\n",
    "df = pd.DataFrame(records)\n",
    "print(\"Total records imported:\", len(df))\n"
   ]
  },
  {
   "cell_type": "code",
   "execution_count": 3,
   "id": "4dea11f4",
   "metadata": {
    "execution": {
     "iopub.execute_input": "2025-05-17T01:02:54.891817Z",
     "iopub.status.busy": "2025-05-17T01:02:54.891181Z",
     "iopub.status.idle": "2025-05-17T01:02:54.903955Z",
     "shell.execute_reply": "2025-05-17T01:02:54.903289Z"
    },
    "papermill": {
     "duration": 0.019961,
     "end_time": "2025-05-17T01:02:54.905006",
     "exception": false,
     "start_time": "2025-05-17T01:02:54.885045",
     "status": "completed"
    },
    "tags": []
   },
   "outputs": [
    {
     "data": {
      "text/html": [
       "<div>\n",
       "<style scoped>\n",
       "    .dataframe tbody tr th:only-of-type {\n",
       "        vertical-align: middle;\n",
       "    }\n",
       "\n",
       "    .dataframe tbody tr th {\n",
       "        vertical-align: top;\n",
       "    }\n",
       "\n",
       "    .dataframe thead th {\n",
       "        text-align: right;\n",
       "    }\n",
       "</style>\n",
       "<table border=\"1\" class=\"dataframe\">\n",
       "  <thead>\n",
       "    <tr style=\"text-align: right;\">\n",
       "      <th></th>\n",
       "      <th>RecordID</th>\n",
       "      <th>Offense</th>\n",
       "      <th>IncidentID</th>\n",
       "      <th>BlockNumber</th>\n",
       "      <th>StreetName</th>\n",
       "      <th>Agency</th>\n",
       "      <th>DateReported</th>\n",
       "      <th>HourReported</th>\n",
       "      <th>ReportingOfficer</th>\n",
       "    </tr>\n",
       "  </thead>\n",
       "  <tbody>\n",
       "    <tr>\n",
       "      <th>0</th>\n",
       "      <td>1</td>\n",
       "      <td>Larceny - Shoplifitng</td>\n",
       "      <td>202500016325</td>\n",
       "      <td>1100</td>\n",
       "      <td>5TH ST SW</td>\n",
       "      <td>CPD</td>\n",
       "      <td>1747261778000</td>\n",
       "      <td>1829</td>\n",
       "      <td>Bentz, Benjamin</td>\n",
       "    </tr>\n",
       "    <tr>\n",
       "      <th>1</th>\n",
       "      <td>2</td>\n",
       "      <td>Disorderly Conduct</td>\n",
       "      <td>202500016295</td>\n",
       "      <td>800</td>\n",
       "      <td>E MARKET ST</td>\n",
       "      <td>CPD</td>\n",
       "      <td>1747248454000</td>\n",
       "      <td>1447</td>\n",
       "      <td>Carelsen, Louise</td>\n",
       "    </tr>\n",
       "    <tr>\n",
       "      <th>2</th>\n",
       "      <td>3</td>\n",
       "      <td>Stolen Property Offenses</td>\n",
       "      <td>202500016292</td>\n",
       "      <td>300</td>\n",
       "      <td>HILLSDALE DR</td>\n",
       "      <td>CPD</td>\n",
       "      <td>1747246298000</td>\n",
       "      <td>1411</td>\n",
       "      <td>Mian, Ghulam</td>\n",
       "    </tr>\n",
       "    <tr>\n",
       "      <th>3</th>\n",
       "      <td>4</td>\n",
       "      <td>Burglary</td>\n",
       "      <td>202500016278</td>\n",
       "      <td>100</td>\n",
       "      <td>UNIVERSITY AVE</td>\n",
       "      <td>CPD</td>\n",
       "      <td>1747240049000</td>\n",
       "      <td>1227</td>\n",
       "      <td>Eckenroth, Rachel</td>\n",
       "    </tr>\n",
       "    <tr>\n",
       "      <th>4</th>\n",
       "      <td>5</td>\n",
       "      <td>Animal Complaint</td>\n",
       "      <td>202500016276</td>\n",
       "      <td>200</td>\n",
       "      <td>W MAIN ST</td>\n",
       "      <td>CPD</td>\n",
       "      <td>1747238804000</td>\n",
       "      <td>1206</td>\n",
       "      <td>Carelsen, Louise</td>\n",
       "    </tr>\n",
       "  </tbody>\n",
       "</table>\n",
       "</div>"
      ],
      "text/plain": [
       "   RecordID                   Offense    IncidentID BlockNumber  \\\n",
       "0         1     Larceny - Shoplifitng  202500016325        1100   \n",
       "1         2        Disorderly Conduct  202500016295         800   \n",
       "2         3  Stolen Property Offenses  202500016292         300   \n",
       "3         4                  Burglary  202500016278         100   \n",
       "4         5          Animal Complaint  202500016276         200   \n",
       "\n",
       "       StreetName Agency   DateReported HourReported   ReportingOfficer  \n",
       "0       5TH ST SW    CPD  1747261778000         1829   Bentz, Benjamin   \n",
       "1     E MARKET ST    CPD  1747248454000         1447   Carelsen, Louise  \n",
       "2    HILLSDALE DR    CPD  1747246298000         1411       Mian, Ghulam  \n",
       "3  UNIVERSITY AVE    CPD  1747240049000         1227  Eckenroth, Rachel  \n",
       "4       W MAIN ST    CPD  1747238804000         1206   Carelsen, Louise  "
      ]
     },
     "execution_count": 3,
     "metadata": {},
     "output_type": "execute_result"
    }
   ],
   "source": [
    "df.head()"
   ]
  },
  {
   "cell_type": "code",
   "execution_count": 4,
   "id": "502af0c6",
   "metadata": {
    "execution": {
     "iopub.execute_input": "2025-05-17T01:02:54.916923Z",
     "iopub.status.busy": "2025-05-17T01:02:54.916430Z",
     "iopub.status.idle": "2025-05-17T01:02:54.920773Z",
     "shell.execute_reply": "2025-05-17T01:02:54.920151Z"
    },
    "papermill": {
     "duration": 0.011427,
     "end_time": "2025-05-17T01:02:54.921860",
     "exception": false,
     "start_time": "2025-05-17T01:02:54.910433",
     "status": "completed"
    },
    "tags": []
   },
   "outputs": [
    {
     "data": {
      "text/plain": [
       "Index(['RecordID', 'Offense', 'IncidentID', 'BlockNumber', 'StreetName',\n",
       "       'Agency', 'DateReported', 'HourReported', 'ReportingOfficer'],\n",
       "      dtype='object')"
      ]
     },
     "execution_count": 4,
     "metadata": {},
     "output_type": "execute_result"
    }
   ],
   "source": [
    "df.columns"
   ]
  },
  {
   "cell_type": "code",
   "execution_count": 5,
   "id": "383a3714",
   "metadata": {
    "execution": {
     "iopub.execute_input": "2025-05-17T01:02:54.933905Z",
     "iopub.status.busy": "2025-05-17T01:02:54.933465Z",
     "iopub.status.idle": "2025-05-17T01:02:54.955241Z",
     "shell.execute_reply": "2025-05-17T01:02:54.954695Z"
    },
    "papermill": {
     "duration": 0.028852,
     "end_time": "2025-05-17T01:02:54.956239",
     "exception": false,
     "start_time": "2025-05-17T01:02:54.927387",
     "status": "completed"
    },
    "tags": []
   },
   "outputs": [
    {
     "name": "stdout",
     "output_type": "stream",
     "text": [
      "<class 'pandas.core.frame.DataFrame'>\n",
      "RangeIndex: 25387 entries, 0 to 25386\n",
      "Data columns (total 9 columns):\n",
      " #   Column            Non-Null Count  Dtype \n",
      "---  ------            --------------  ----- \n",
      " 0   RecordID          25387 non-null  int64 \n",
      " 1   Offense           25387 non-null  object\n",
      " 2   IncidentID        25387 non-null  object\n",
      " 3   BlockNumber       25387 non-null  object\n",
      " 4   StreetName        25387 non-null  object\n",
      " 5   Agency            25387 non-null  object\n",
      " 6   DateReported      25387 non-null  int64 \n",
      " 7   HourReported      25387 non-null  object\n",
      " 8   ReportingOfficer  25370 non-null  object\n",
      "dtypes: int64(2), object(7)\n",
      "memory usage: 1.7+ MB\n"
     ]
    }
   ],
   "source": [
    "df.info()"
   ]
  },
  {
   "cell_type": "markdown",
   "id": "6ec23a38",
   "metadata": {
    "papermill": {
     "duration": 0.005532,
     "end_time": "2025-05-17T01:02:54.967457",
     "exception": false,
     "start_time": "2025-05-17T01:02:54.961925",
     "status": "completed"
    },
    "tags": []
   },
   "source": [
    "### Missing Values"
   ]
  },
  {
   "cell_type": "code",
   "execution_count": 6,
   "id": "4c8a2771",
   "metadata": {
    "execution": {
     "iopub.execute_input": "2025-05-17T01:02:54.979655Z",
     "iopub.status.busy": "2025-05-17T01:02:54.979214Z",
     "iopub.status.idle": "2025-05-17T01:02:54.996881Z",
     "shell.execute_reply": "2025-05-17T01:02:54.996347Z"
    },
    "papermill": {
     "duration": 0.024885,
     "end_time": "2025-05-17T01:02:54.997904",
     "exception": false,
     "start_time": "2025-05-17T01:02:54.973019",
     "status": "completed"
    },
    "tags": []
   },
   "outputs": [
    {
     "name": "stdout",
     "output_type": "stream",
     "text": [
      "                  MissingCount  MissingPercentage\n",
      "RecordID                     0               0.00\n",
      "Offense                      0               0.00\n",
      "IncidentID                   0               0.00\n",
      "BlockNumber                  0               0.00\n",
      "StreetName                   0               0.00\n",
      "Agency                       0               0.00\n",
      "DateReported                 0               0.00\n",
      "HourReported                 0               0.00\n",
      "ReportingOfficer            17               0.07\n"
     ]
    }
   ],
   "source": [
    "def missing_percentage(df):\n",
    "    \"\"\"\n",
    "    Returns a DataFrame with the count and percentage of missing values for each column.\n",
    "    \n",
    "    Parameters:\n",
    "        df (pd.DataFrame): The input DataFrame.\n",
    "    \n",
    "    Returns:\n",
    "        pd.DataFrame: A DataFrame with columns 'MissingCount' and 'MissingPercentage'.\n",
    "    \"\"\"\n",
    "    total_rows = len(df)\n",
    "    missing_count = df.isnull().sum()\n",
    "    missing_percent = (missing_count / total_rows) * 100\n",
    "    \n",
    "    result = pd.DataFrame({\n",
    "        'MissingCount': missing_count,\n",
    "        'MissingPercentage': missing_percent.round(2)\n",
    "    })\n",
    "    \n",
    "    return result\n",
    "\n",
    "# Example usage:\n",
    "missing_info = missing_percentage(df)\n",
    "print(missing_info)\n"
   ]
  },
  {
   "cell_type": "markdown",
   "id": "df121deb",
   "metadata": {
    "papermill": {
     "duration": 0.005654,
     "end_time": "2025-05-17T01:02:55.009378",
     "exception": false,
     "start_time": "2025-05-17T01:02:55.003724",
     "status": "completed"
    },
    "tags": []
   },
   "source": [
    "## Data Preparation"
   ]
  },
  {
   "cell_type": "markdown",
   "id": "21309a99",
   "metadata": {
    "papermill": {
     "duration": 0.005664,
     "end_time": "2025-05-17T01:02:55.020663",
     "exception": false,
     "start_time": "2025-05-17T01:02:55.014999",
     "status": "completed"
    },
    "tags": []
   },
   "source": [
    "### Data Conversion"
   ]
  },
  {
   "cell_type": "code",
   "execution_count": 7,
   "id": "06eb2bc7",
   "metadata": {
    "execution": {
     "iopub.execute_input": "2025-05-17T01:02:55.033084Z",
     "iopub.status.busy": "2025-05-17T01:02:55.032612Z",
     "iopub.status.idle": "2025-05-17T01:02:55.406631Z",
     "shell.execute_reply": "2025-05-17T01:02:55.406013Z"
    },
    "papermill": {
     "duration": 0.381417,
     "end_time": "2025-05-17T01:02:55.407707",
     "exception": false,
     "start_time": "2025-05-17T01:02:55.026290",
     "status": "completed"
    },
    "tags": []
   },
   "outputs": [
    {
     "data": {
      "text/html": [
       "<div>\n",
       "<style scoped>\n",
       "    .dataframe tbody tr th:only-of-type {\n",
       "        vertical-align: middle;\n",
       "    }\n",
       "\n",
       "    .dataframe tbody tr th {\n",
       "        vertical-align: top;\n",
       "    }\n",
       "\n",
       "    .dataframe thead th {\n",
       "        text-align: right;\n",
       "    }\n",
       "</style>\n",
       "<table border=\"1\" class=\"dataframe\">\n",
       "  <thead>\n",
       "    <tr style=\"text-align: right;\">\n",
       "      <th></th>\n",
       "      <th>RecordID</th>\n",
       "      <th>Offense</th>\n",
       "      <th>IncidentID</th>\n",
       "      <th>BlockNumber</th>\n",
       "      <th>StreetName</th>\n",
       "      <th>Agency</th>\n",
       "      <th>HourReported</th>\n",
       "      <th>ReportingOfficer</th>\n",
       "      <th>Date</th>\n",
       "      <th>DateString</th>\n",
       "      <th>DayOfWeek</th>\n",
       "      <th>Weekend</th>\n",
       "      <th>Season</th>\n",
       "      <th>HourAMPM</th>\n",
       "      <th>TimeOfDay</th>\n",
       "    </tr>\n",
       "  </thead>\n",
       "  <tbody>\n",
       "    <tr>\n",
       "      <th>0</th>\n",
       "      <td>1</td>\n",
       "      <td>Larceny - Shoplifitng</td>\n",
       "      <td>202500016325</td>\n",
       "      <td>1100</td>\n",
       "      <td>5TH ST SW</td>\n",
       "      <td>CPD</td>\n",
       "      <td>1829</td>\n",
       "      <td>Bentz, Benjamin</td>\n",
       "      <td>2025-05-14 18:29:38</td>\n",
       "      <td>2025-05-14 06:29:38 PM</td>\n",
       "      <td>Wednesday</td>\n",
       "      <td>False</td>\n",
       "      <td>Spring</td>\n",
       "      <td>06:29 PM</td>\n",
       "      <td>Evening</td>\n",
       "    </tr>\n",
       "    <tr>\n",
       "      <th>1</th>\n",
       "      <td>2</td>\n",
       "      <td>Disorderly Conduct</td>\n",
       "      <td>202500016295</td>\n",
       "      <td>800</td>\n",
       "      <td>E MARKET ST</td>\n",
       "      <td>CPD</td>\n",
       "      <td>1447</td>\n",
       "      <td>Carelsen, Louise</td>\n",
       "      <td>2025-05-14 14:47:34</td>\n",
       "      <td>2025-05-14 02:47:34 PM</td>\n",
       "      <td>Wednesday</td>\n",
       "      <td>False</td>\n",
       "      <td>Spring</td>\n",
       "      <td>02:47 PM</td>\n",
       "      <td>Afternoon</td>\n",
       "    </tr>\n",
       "    <tr>\n",
       "      <th>2</th>\n",
       "      <td>3</td>\n",
       "      <td>Stolen Property Offenses</td>\n",
       "      <td>202500016292</td>\n",
       "      <td>300</td>\n",
       "      <td>HILLSDALE DR</td>\n",
       "      <td>CPD</td>\n",
       "      <td>1411</td>\n",
       "      <td>Mian, Ghulam</td>\n",
       "      <td>2025-05-14 14:11:38</td>\n",
       "      <td>2025-05-14 02:11:38 PM</td>\n",
       "      <td>Wednesday</td>\n",
       "      <td>False</td>\n",
       "      <td>Spring</td>\n",
       "      <td>02:11 PM</td>\n",
       "      <td>Afternoon</td>\n",
       "    </tr>\n",
       "    <tr>\n",
       "      <th>3</th>\n",
       "      <td>4</td>\n",
       "      <td>Burglary</td>\n",
       "      <td>202500016278</td>\n",
       "      <td>100</td>\n",
       "      <td>UNIVERSITY AVE</td>\n",
       "      <td>CPD</td>\n",
       "      <td>1227</td>\n",
       "      <td>Eckenroth, Rachel</td>\n",
       "      <td>2025-05-14 12:27:29</td>\n",
       "      <td>2025-05-14 12:27:29 PM</td>\n",
       "      <td>Wednesday</td>\n",
       "      <td>False</td>\n",
       "      <td>Spring</td>\n",
       "      <td>12:27 PM</td>\n",
       "      <td>Afternoon</td>\n",
       "    </tr>\n",
       "    <tr>\n",
       "      <th>4</th>\n",
       "      <td>5</td>\n",
       "      <td>Animal Complaint</td>\n",
       "      <td>202500016276</td>\n",
       "      <td>200</td>\n",
       "      <td>W MAIN ST</td>\n",
       "      <td>CPD</td>\n",
       "      <td>1206</td>\n",
       "      <td>Carelsen, Louise</td>\n",
       "      <td>2025-05-14 12:06:44</td>\n",
       "      <td>2025-05-14 12:06:44 PM</td>\n",
       "      <td>Wednesday</td>\n",
       "      <td>False</td>\n",
       "      <td>Spring</td>\n",
       "      <td>12:06 PM</td>\n",
       "      <td>Afternoon</td>\n",
       "    </tr>\n",
       "  </tbody>\n",
       "</table>\n",
       "</div>"
      ],
      "text/plain": [
       "   RecordID                   Offense    IncidentID BlockNumber  \\\n",
       "0         1     Larceny - Shoplifitng  202500016325        1100   \n",
       "1         2        Disorderly Conduct  202500016295         800   \n",
       "2         3  Stolen Property Offenses  202500016292         300   \n",
       "3         4                  Burglary  202500016278         100   \n",
       "4         5          Animal Complaint  202500016276         200   \n",
       "\n",
       "       StreetName Agency HourReported   ReportingOfficer                Date  \\\n",
       "0       5TH ST SW    CPD         1829   Bentz, Benjamin  2025-05-14 18:29:38   \n",
       "1     E MARKET ST    CPD         1447   Carelsen, Louise 2025-05-14 14:47:34   \n",
       "2    HILLSDALE DR    CPD         1411       Mian, Ghulam 2025-05-14 14:11:38   \n",
       "3  UNIVERSITY AVE    CPD         1227  Eckenroth, Rachel 2025-05-14 12:27:29   \n",
       "4       W MAIN ST    CPD         1206   Carelsen, Louise 2025-05-14 12:06:44   \n",
       "\n",
       "               DateString  DayOfWeek  Weekend  Season  HourAMPM  TimeOfDay  \n",
       "0  2025-05-14 06:29:38 PM  Wednesday    False  Spring  06:29 PM    Evening  \n",
       "1  2025-05-14 02:47:34 PM  Wednesday    False  Spring  02:47 PM  Afternoon  \n",
       "2  2025-05-14 02:11:38 PM  Wednesday    False  Spring  02:11 PM  Afternoon  \n",
       "3  2025-05-14 12:27:29 PM  Wednesday    False  Spring  12:27 PM  Afternoon  \n",
       "4  2025-05-14 12:06:44 PM  Wednesday    False  Spring  12:06 PM  Afternoon  "
      ]
     },
     "execution_count": 7,
     "metadata": {},
     "output_type": "execute_result"
    }
   ],
   "source": [
    "def convert_and_categorize_datereported(df, col='DateReported'):\n",
    "    \"\"\"\n",
    "    Converts an epoch (in milliseconds) date column into a timezone-aware datetime,\n",
    "    converts it to Eastern Time, and then creates columns for day-of-week, weekend flag,\n",
    "    season, 12-hour formatted time, and time-of-day. Keeps both a real datetime column\n",
    "    (Date) and a string representation (DateString).\n",
    "    \"\"\"\n",
    "    import pandas as pd\n",
    "\n",
    "    # Convert the epoch timestamp to a pandas datetime object as UTC, then convert to US/Eastern.\n",
    "    df[\"DateReported_dt\"] = (\n",
    "        pd.to_datetime(df[col], unit=\"ms\", errors=\"coerce\", utc=True)\n",
    "        .dt.tz_convert(\"US/Eastern\")\n",
    "    )\n",
    "    \n",
    "    # Create a true datetime column (remove timezone if you prefer naive datetime)\n",
    "    df[\"Date\"] = df[\"DateReported_dt\"].dt.tz_localize(None)\n",
    "\n",
    "    # Optionally, create a separate string-formatted column\n",
    "    df[\"DateString\"] = df[\"DateReported_dt\"].dt.strftime(\"%Y-%m-%d %I:%M:%S %p\")\n",
    "    \n",
    "    # DayOfWeek\n",
    "    df[\"DayOfWeek\"] = df[\"DateReported_dt\"].dt.day_name()\n",
    "    \n",
    "    # Weekend\n",
    "    df[\"Weekend\"] = df[\"DayOfWeek\"].isin([\"Saturday\", \"Sunday\"])\n",
    "    \n",
    "    # Helper function to determine the season\n",
    "    def get_season(dt):\n",
    "        month = dt.month\n",
    "        day = dt.day\n",
    "        # Approximate Northern Hemisphere season boundaries:\n",
    "        if (month == 12 and day >= 21) or (month < 3) or (month == 3 and day < 20):\n",
    "            return \"Winter\"\n",
    "        elif (month == 3 and day >= 20) or (month < 6) or (month == 6 and day < 21):\n",
    "            return \"Spring\"\n",
    "        elif (month == 6 and day >= 21) or (month < 9) or (month == 9 and day < 22):\n",
    "            return \"Summer\"\n",
    "        else:\n",
    "            return \"Autumn\"\n",
    "    \n",
    "    df[\"Season\"] = df[\"DateReported_dt\"].apply(get_season)\n",
    "    \n",
    "    # 12-hour formatted time (HourAMPM)\n",
    "    df[\"HourAMPM\"] = df[\"DateReported_dt\"].dt.strftime(\"%I:%M %p\")\n",
    "    \n",
    "    # Extract hour (0-23) for time-of-day\n",
    "    df[\"HourValue\"] = df[\"DateReported_dt\"].dt.hour\n",
    "    \n",
    "    def time_of_day(hour):\n",
    "        if pd.isnull(hour):\n",
    "            return None\n",
    "        if 5 <= hour < 12:\n",
    "            return \"Morning\"\n",
    "        elif 12 <= hour < 17:\n",
    "            return \"Afternoon\"\n",
    "        elif 17 <= hour < 21:\n",
    "            return \"Evening\"\n",
    "        else:\n",
    "            return \"Night\"\n",
    "    \n",
    "    df[\"TimeOfDay\"] = df[\"HourValue\"].apply(time_of_day)\n",
    "    \n",
    "    # Drop columns you no longer need\n",
    "    df.drop(columns=[col, \"DateReported_dt\", \"HourValue\"], inplace=True)\n",
    "    \n",
    "    return df\n",
    "\n",
    "# Example usage:\n",
    "df = convert_and_categorize_datereported(df)\n",
    "df.head()\n"
   ]
  },
  {
   "cell_type": "code",
   "execution_count": 8,
   "id": "4ecda2e2",
   "metadata": {
    "execution": {
     "iopub.execute_input": "2025-05-17T01:02:55.420955Z",
     "iopub.status.busy": "2025-05-17T01:02:55.420553Z",
     "iopub.status.idle": "2025-05-17T01:02:55.445393Z",
     "shell.execute_reply": "2025-05-17T01:02:55.444850Z"
    },
    "papermill": {
     "duration": 0.032411,
     "end_time": "2025-05-17T01:02:55.446399",
     "exception": false,
     "start_time": "2025-05-17T01:02:55.413988",
     "status": "completed"
    },
    "tags": []
   },
   "outputs": [
    {
     "name": "stdout",
     "output_type": "stream",
     "text": [
      "<class 'pandas.core.frame.DataFrame'>\n",
      "RangeIndex: 25387 entries, 0 to 25386\n",
      "Data columns (total 15 columns):\n",
      " #   Column            Non-Null Count  Dtype         \n",
      "---  ------            --------------  -----         \n",
      " 0   RecordID          25387 non-null  int64         \n",
      " 1   Offense           25387 non-null  object        \n",
      " 2   IncidentID        25387 non-null  object        \n",
      " 3   BlockNumber       25387 non-null  object        \n",
      " 4   StreetName        25387 non-null  object        \n",
      " 5   Agency            25387 non-null  object        \n",
      " 6   HourReported      25387 non-null  object        \n",
      " 7   ReportingOfficer  25370 non-null  object        \n",
      " 8   Date              25387 non-null  datetime64[ns]\n",
      " 9   DateString        25387 non-null  object        \n",
      " 10  DayOfWeek         25387 non-null  object        \n",
      " 11  Weekend           25387 non-null  bool          \n",
      " 12  Season            25387 non-null  object        \n",
      " 13  HourAMPM          25387 non-null  object        \n",
      " 14  TimeOfDay         25387 non-null  object        \n",
      "dtypes: bool(1), datetime64[ns](1), int64(1), object(12)\n",
      "memory usage: 2.7+ MB\n"
     ]
    }
   ],
   "source": [
    "df.info()"
   ]
  },
  {
   "cell_type": "markdown",
   "id": "05b278d7",
   "metadata": {
    "papermill": {
     "duration": 0.005956,
     "end_time": "2025-05-17T01:02:55.458384",
     "exception": false,
     "start_time": "2025-05-17T01:02:55.452428",
     "status": "completed"
    },
    "tags": []
   },
   "source": [
    "### Coordinates"
   ]
  },
  {
   "cell_type": "code",
   "execution_count": 9,
   "id": "c4489b15",
   "metadata": {
    "execution": {
     "iopub.execute_input": "2025-05-17T01:02:55.471274Z",
     "iopub.status.busy": "2025-05-17T01:02:55.470887Z",
     "iopub.status.idle": "2025-05-17T01:02:55.723274Z",
     "shell.execute_reply": "2025-05-17T01:02:55.722609Z"
    },
    "papermill": {
     "duration": 0.260101,
     "end_time": "2025-05-17T01:02:55.724423",
     "exception": false,
     "start_time": "2025-05-17T01:02:55.464322",
     "status": "completed"
    },
    "tags": []
   },
   "outputs": [
    {
     "name": "stdout",
     "output_type": "stream",
     "text": [
      "Loaded geocode cache.\n"
     ]
    },
    {
     "name": "stdout",
     "output_type": "stream",
     "text": [
      "Geocoded 400 5TH ST SW, B: 38.0280872, -78.4894769\n",
      "Geocode cache updated and saved.\n"
     ]
    },
    {
     "data": {
      "text/html": [
       "<div>\n",
       "<style scoped>\n",
       "    .dataframe tbody tr th:only-of-type {\n",
       "        vertical-align: middle;\n",
       "    }\n",
       "\n",
       "    .dataframe tbody tr th {\n",
       "        vertical-align: top;\n",
       "    }\n",
       "\n",
       "    .dataframe thead th {\n",
       "        text-align: right;\n",
       "    }\n",
       "</style>\n",
       "<table border=\"1\" class=\"dataframe\">\n",
       "  <thead>\n",
       "    <tr style=\"text-align: right;\">\n",
       "      <th></th>\n",
       "      <th>RecordID</th>\n",
       "      <th>Offense</th>\n",
       "      <th>IncidentID</th>\n",
       "      <th>BlockNumber</th>\n",
       "      <th>StreetName</th>\n",
       "      <th>Agency</th>\n",
       "      <th>HourReported</th>\n",
       "      <th>ReportingOfficer</th>\n",
       "      <th>Date</th>\n",
       "      <th>DateString</th>\n",
       "      <th>DayOfWeek</th>\n",
       "      <th>Weekend</th>\n",
       "      <th>Season</th>\n",
       "      <th>HourAMPM</th>\n",
       "      <th>TimeOfDay</th>\n",
       "      <th>FullStreet</th>\n",
       "      <th>lat</th>\n",
       "      <th>lon</th>\n",
       "    </tr>\n",
       "  </thead>\n",
       "  <tbody>\n",
       "    <tr>\n",
       "      <th>0</th>\n",
       "      <td>1</td>\n",
       "      <td>Larceny - Shoplifitng</td>\n",
       "      <td>202500016325</td>\n",
       "      <td>1100</td>\n",
       "      <td>5TH ST SW</td>\n",
       "      <td>CPD</td>\n",
       "      <td>1829</td>\n",
       "      <td>Bentz, Benjamin</td>\n",
       "      <td>2025-05-14 18:29:38</td>\n",
       "      <td>2025-05-14 06:29:38 PM</td>\n",
       "      <td>Wednesday</td>\n",
       "      <td>False</td>\n",
       "      <td>Spring</td>\n",
       "      <td>06:29 PM</td>\n",
       "      <td>Evening</td>\n",
       "      <td>1100 5TH ST SW</td>\n",
       "      <td>38.017130</td>\n",
       "      <td>-78.497806</td>\n",
       "    </tr>\n",
       "    <tr>\n",
       "      <th>1</th>\n",
       "      <td>2</td>\n",
       "      <td>Disorderly Conduct</td>\n",
       "      <td>202500016295</td>\n",
       "      <td>800</td>\n",
       "      <td>E MARKET ST</td>\n",
       "      <td>CPD</td>\n",
       "      <td>1447</td>\n",
       "      <td>Carelsen, Louise</td>\n",
       "      <td>2025-05-14 14:47:34</td>\n",
       "      <td>2025-05-14 02:47:34 PM</td>\n",
       "      <td>Wednesday</td>\n",
       "      <td>False</td>\n",
       "      <td>Spring</td>\n",
       "      <td>02:47 PM</td>\n",
       "      <td>Afternoon</td>\n",
       "      <td>800 E MARKET ST</td>\n",
       "      <td>38.029573</td>\n",
       "      <td>-78.476013</td>\n",
       "    </tr>\n",
       "    <tr>\n",
       "      <th>2</th>\n",
       "      <td>3</td>\n",
       "      <td>Stolen Property Offenses</td>\n",
       "      <td>202500016292</td>\n",
       "      <td>300</td>\n",
       "      <td>HILLSDALE DR</td>\n",
       "      <td>CPD</td>\n",
       "      <td>1411</td>\n",
       "      <td>Mian, Ghulam</td>\n",
       "      <td>2025-05-14 14:11:38</td>\n",
       "      <td>2025-05-14 02:11:38 PM</td>\n",
       "      <td>Wednesday</td>\n",
       "      <td>False</td>\n",
       "      <td>Spring</td>\n",
       "      <td>02:11 PM</td>\n",
       "      <td>Afternoon</td>\n",
       "      <td>300 HILLSDALE DR</td>\n",
       "      <td>38.064440</td>\n",
       "      <td>-78.486765</td>\n",
       "    </tr>\n",
       "    <tr>\n",
       "      <th>3</th>\n",
       "      <td>4</td>\n",
       "      <td>Burglary</td>\n",
       "      <td>202500016278</td>\n",
       "      <td>100</td>\n",
       "      <td>UNIVERSITY AVE</td>\n",
       "      <td>CPD</td>\n",
       "      <td>1227</td>\n",
       "      <td>Eckenroth, Rachel</td>\n",
       "      <td>2025-05-14 12:27:29</td>\n",
       "      <td>2025-05-14 12:27:29 PM</td>\n",
       "      <td>Wednesday</td>\n",
       "      <td>False</td>\n",
       "      <td>Spring</td>\n",
       "      <td>12:27 PM</td>\n",
       "      <td>Afternoon</td>\n",
       "      <td>100 UNIVERSITY AVE</td>\n",
       "      <td>38.036729</td>\n",
       "      <td>-78.503383</td>\n",
       "    </tr>\n",
       "    <tr>\n",
       "      <th>4</th>\n",
       "      <td>5</td>\n",
       "      <td>Animal Complaint</td>\n",
       "      <td>202500016276</td>\n",
       "      <td>200</td>\n",
       "      <td>W MAIN ST</td>\n",
       "      <td>CPD</td>\n",
       "      <td>1206</td>\n",
       "      <td>Carelsen, Louise</td>\n",
       "      <td>2025-05-14 12:06:44</td>\n",
       "      <td>2025-05-14 12:06:44 PM</td>\n",
       "      <td>Wednesday</td>\n",
       "      <td>False</td>\n",
       "      <td>Spring</td>\n",
       "      <td>12:06 PM</td>\n",
       "      <td>Afternoon</td>\n",
       "      <td>200 W MAIN ST</td>\n",
       "      <td>38.030841</td>\n",
       "      <td>-78.482517</td>\n",
       "    </tr>\n",
       "  </tbody>\n",
       "</table>\n",
       "</div>"
      ],
      "text/plain": [
       "   RecordID                   Offense    IncidentID BlockNumber  \\\n",
       "0         1     Larceny - Shoplifitng  202500016325        1100   \n",
       "1         2        Disorderly Conduct  202500016295         800   \n",
       "2         3  Stolen Property Offenses  202500016292         300   \n",
       "3         4                  Burglary  202500016278         100   \n",
       "4         5          Animal Complaint  202500016276         200   \n",
       "\n",
       "       StreetName Agency HourReported   ReportingOfficer                Date  \\\n",
       "0       5TH ST SW    CPD         1829   Bentz, Benjamin  2025-05-14 18:29:38   \n",
       "1     E MARKET ST    CPD         1447   Carelsen, Louise 2025-05-14 14:47:34   \n",
       "2    HILLSDALE DR    CPD         1411       Mian, Ghulam 2025-05-14 14:11:38   \n",
       "3  UNIVERSITY AVE    CPD         1227  Eckenroth, Rachel 2025-05-14 12:27:29   \n",
       "4       W MAIN ST    CPD         1206   Carelsen, Louise 2025-05-14 12:06:44   \n",
       "\n",
       "               DateString  DayOfWeek  Weekend  Season  HourAMPM  TimeOfDay  \\\n",
       "0  2025-05-14 06:29:38 PM  Wednesday    False  Spring  06:29 PM    Evening   \n",
       "1  2025-05-14 02:47:34 PM  Wednesday    False  Spring  02:47 PM  Afternoon   \n",
       "2  2025-05-14 02:11:38 PM  Wednesday    False  Spring  02:11 PM  Afternoon   \n",
       "3  2025-05-14 12:27:29 PM  Wednesday    False  Spring  12:27 PM  Afternoon   \n",
       "4  2025-05-14 12:06:44 PM  Wednesday    False  Spring  12:06 PM  Afternoon   \n",
       "\n",
       "           FullStreet        lat        lon  \n",
       "0      1100 5TH ST SW  38.017130 -78.497806  \n",
       "1     800 E MARKET ST  38.029573 -78.476013  \n",
       "2    300 HILLSDALE DR  38.064440 -78.486765  \n",
       "3  100 UNIVERSITY AVE  38.036729 -78.503383  \n",
       "4       200 W MAIN ST  38.030841 -78.482517  "
      ]
     },
     "execution_count": 9,
     "metadata": {},
     "output_type": "execute_result"
    }
   ],
   "source": [
    "# Combine BlockNumber and StreetName into a full address string\n",
    "df['FullStreet'] = df['BlockNumber'].astype(str) + \" \" + df['StreetName']\n",
    "\n",
    "# --- Step 1: Setup the Google Maps Client and Cache ---\n",
    "gmaps = googlemaps.Client(key=GOOGLE_API_KEY)\n",
    "\n",
    "# Try to load cached geocoding results if available.\n",
    "try:\n",
    "    with open(\"geocode_cache_google.pkl\", \"rb\") as f:\n",
    "        street_coords = pickle.load(f)\n",
    "    print(\"Loaded geocode cache.\")\n",
    "except FileNotFoundError:\n",
    "    street_coords = {}\n",
    "    print(\"No cache found; starting fresh.\")\n",
    "\n",
    "def geocode_address(address):\n",
    "    try:\n",
    "        # Append city and state to help geocoding\n",
    "        result = gmaps.geocode(f\"{address}, Charlottesville, VA\")\n",
    "        if result:\n",
    "            lat = result[0]['geometry']['location']['lat']\n",
    "            lon = result[0]['geometry']['location']['lng']\n",
    "            return lat, lon\n",
    "    except Exception as e:\n",
    "        print(f\"Error geocoding {address}: {e}\")\n",
    "    return None, None\n",
    "\n",
    "# --- Step 2: Geocode Only New Addresses ---\n",
    "unique_addresses = df['FullStreet'].unique()\n",
    "for address in unique_addresses:\n",
    "    if address not in street_coords:\n",
    "        lat, lon = geocode_address(address)\n",
    "        street_coords[address] = (lat, lon)\n",
    "        print(f\"Geocoded {address}: {lat}, {lon}\")\n",
    "\n",
    "# Save the updated cache to disk.\n",
    "with open(\"geocode_cache_google.pkl\", \"wb\") as f:\n",
    "    pickle.dump(street_coords, f)\n",
    "    print(\"Geocode cache updated and saved.\")\n",
    "\n",
    "# --- Step 3: Map Coordinates Back to DataFrame ---\n",
    "df['lat'] = df['FullStreet'].map(lambda s: street_coords.get(s, (None, None))[0])\n",
    "df['lon'] = df['FullStreet'].map(lambda s: street_coords.get(s, (None, None))[1])\n",
    "\n",
    "df.head()"
   ]
  },
  {
   "cell_type": "markdown",
   "id": "4847e99c",
   "metadata": {
    "papermill": {
     "duration": 0.006301,
     "end_time": "2025-05-17T01:02:55.737420",
     "exception": false,
     "start_time": "2025-05-17T01:02:55.731119",
     "status": "completed"
    },
    "tags": []
   },
   "source": [
    "### Neighborhood"
   ]
  },
  {
   "cell_type": "code",
   "execution_count": 10,
   "id": "b6c166d8",
   "metadata": {
    "execution": {
     "iopub.execute_input": "2025-05-17T01:02:55.751978Z",
     "iopub.status.busy": "2025-05-17T01:02:55.751766Z",
     "iopub.status.idle": "2025-05-17T01:02:56.010256Z",
     "shell.execute_reply": "2025-05-17T01:02:56.009653Z"
    },
    "papermill": {
     "duration": 0.267606,
     "end_time": "2025-05-17T01:02:56.011255",
     "exception": false,
     "start_time": "2025-05-17T01:02:55.743649",
     "status": "completed"
    },
    "tags": []
   },
   "outputs": [
    {
     "name": "stdout",
     "output_type": "stream",
     "text": [
      "Loaded neighborhood cache.\n"
     ]
    },
    {
     "data": {
      "text/html": [
       "<div>\n",
       "<style scoped>\n",
       "    .dataframe tbody tr th:only-of-type {\n",
       "        vertical-align: middle;\n",
       "    }\n",
       "\n",
       "    .dataframe tbody tr th {\n",
       "        vertical-align: top;\n",
       "    }\n",
       "\n",
       "    .dataframe thead th {\n",
       "        text-align: right;\n",
       "    }\n",
       "</style>\n",
       "<table border=\"1\" class=\"dataframe\">\n",
       "  <thead>\n",
       "    <tr style=\"text-align: right;\">\n",
       "      <th></th>\n",
       "      <th>RecordID</th>\n",
       "      <th>Offense</th>\n",
       "      <th>IncidentID</th>\n",
       "      <th>BlockNumber</th>\n",
       "      <th>StreetName</th>\n",
       "      <th>Agency</th>\n",
       "      <th>HourReported</th>\n",
       "      <th>ReportingOfficer</th>\n",
       "      <th>Date</th>\n",
       "      <th>DateString</th>\n",
       "      <th>DayOfWeek</th>\n",
       "      <th>Weekend</th>\n",
       "      <th>Season</th>\n",
       "      <th>HourAMPM</th>\n",
       "      <th>TimeOfDay</th>\n",
       "      <th>FullStreet</th>\n",
       "      <th>lat</th>\n",
       "      <th>lon</th>\n",
       "      <th>neighborhood</th>\n",
       "    </tr>\n",
       "  </thead>\n",
       "  <tbody>\n",
       "    <tr>\n",
       "      <th>0</th>\n",
       "      <td>1</td>\n",
       "      <td>Larceny - Shoplifitng</td>\n",
       "      <td>202500016325</td>\n",
       "      <td>1100</td>\n",
       "      <td>5TH ST SW</td>\n",
       "      <td>CPD</td>\n",
       "      <td>1829</td>\n",
       "      <td>Bentz, Benjamin</td>\n",
       "      <td>2025-05-14 18:29:38</td>\n",
       "      <td>2025-05-14 06:29:38 PM</td>\n",
       "      <td>Wednesday</td>\n",
       "      <td>False</td>\n",
       "      <td>Spring</td>\n",
       "      <td>06:29 PM</td>\n",
       "      <td>Evening</td>\n",
       "      <td>1100 5TH ST SW</td>\n",
       "      <td>38.017130</td>\n",
       "      <td>-78.497806</td>\n",
       "      <td>Johnson Village</td>\n",
       "    </tr>\n",
       "    <tr>\n",
       "      <th>1</th>\n",
       "      <td>2</td>\n",
       "      <td>Disorderly Conduct</td>\n",
       "      <td>202500016295</td>\n",
       "      <td>800</td>\n",
       "      <td>E MARKET ST</td>\n",
       "      <td>CPD</td>\n",
       "      <td>1447</td>\n",
       "      <td>Carelsen, Louise</td>\n",
       "      <td>2025-05-14 14:47:34</td>\n",
       "      <td>2025-05-14 02:47:34 PM</td>\n",
       "      <td>Wednesday</td>\n",
       "      <td>False</td>\n",
       "      <td>Spring</td>\n",
       "      <td>02:47 PM</td>\n",
       "      <td>Afternoon</td>\n",
       "      <td>800 E MARKET ST</td>\n",
       "      <td>38.029573</td>\n",
       "      <td>-78.476013</td>\n",
       "      <td>Downtown Mall</td>\n",
       "    </tr>\n",
       "    <tr>\n",
       "      <th>2</th>\n",
       "      <td>3</td>\n",
       "      <td>Stolen Property Offenses</td>\n",
       "      <td>202500016292</td>\n",
       "      <td>300</td>\n",
       "      <td>HILLSDALE DR</td>\n",
       "      <td>CPD</td>\n",
       "      <td>1411</td>\n",
       "      <td>Mian, Ghulam</td>\n",
       "      <td>2025-05-14 14:11:38</td>\n",
       "      <td>2025-05-14 02:11:38 PM</td>\n",
       "      <td>Wednesday</td>\n",
       "      <td>False</td>\n",
       "      <td>Spring</td>\n",
       "      <td>02:11 PM</td>\n",
       "      <td>Afternoon</td>\n",
       "      <td>300 HILLSDALE DR</td>\n",
       "      <td>38.064440</td>\n",
       "      <td>-78.486765</td>\n",
       "      <td>The Meadows</td>\n",
       "    </tr>\n",
       "    <tr>\n",
       "      <th>3</th>\n",
       "      <td>4</td>\n",
       "      <td>Burglary</td>\n",
       "      <td>202500016278</td>\n",
       "      <td>100</td>\n",
       "      <td>UNIVERSITY AVE</td>\n",
       "      <td>CPD</td>\n",
       "      <td>1227</td>\n",
       "      <td>Eckenroth, Rachel</td>\n",
       "      <td>2025-05-14 12:27:29</td>\n",
       "      <td>2025-05-14 12:27:29 PM</td>\n",
       "      <td>Wednesday</td>\n",
       "      <td>False</td>\n",
       "      <td>Spring</td>\n",
       "      <td>12:27 PM</td>\n",
       "      <td>Afternoon</td>\n",
       "      <td>100 UNIVERSITY AVE</td>\n",
       "      <td>38.036729</td>\n",
       "      <td>-78.503383</td>\n",
       "      <td>Venable</td>\n",
       "    </tr>\n",
       "    <tr>\n",
       "      <th>4</th>\n",
       "      <td>5</td>\n",
       "      <td>Animal Complaint</td>\n",
       "      <td>202500016276</td>\n",
       "      <td>200</td>\n",
       "      <td>W MAIN ST</td>\n",
       "      <td>CPD</td>\n",
       "      <td>1206</td>\n",
       "      <td>Carelsen, Louise</td>\n",
       "      <td>2025-05-14 12:06:44</td>\n",
       "      <td>2025-05-14 12:06:44 PM</td>\n",
       "      <td>Wednesday</td>\n",
       "      <td>False</td>\n",
       "      <td>Spring</td>\n",
       "      <td>12:06 PM</td>\n",
       "      <td>Afternoon</td>\n",
       "      <td>200 W MAIN ST</td>\n",
       "      <td>38.030841</td>\n",
       "      <td>-78.482517</td>\n",
       "      <td>Downtown Mall</td>\n",
       "    </tr>\n",
       "  </tbody>\n",
       "</table>\n",
       "</div>"
      ],
      "text/plain": [
       "   RecordID                   Offense    IncidentID BlockNumber  \\\n",
       "0         1     Larceny - Shoplifitng  202500016325        1100   \n",
       "1         2        Disorderly Conduct  202500016295         800   \n",
       "2         3  Stolen Property Offenses  202500016292         300   \n",
       "3         4                  Burglary  202500016278         100   \n",
       "4         5          Animal Complaint  202500016276         200   \n",
       "\n",
       "       StreetName Agency HourReported   ReportingOfficer                Date  \\\n",
       "0       5TH ST SW    CPD         1829   Bentz, Benjamin  2025-05-14 18:29:38   \n",
       "1     E MARKET ST    CPD         1447   Carelsen, Louise 2025-05-14 14:47:34   \n",
       "2    HILLSDALE DR    CPD         1411       Mian, Ghulam 2025-05-14 14:11:38   \n",
       "3  UNIVERSITY AVE    CPD         1227  Eckenroth, Rachel 2025-05-14 12:27:29   \n",
       "4       W MAIN ST    CPD         1206   Carelsen, Louise 2025-05-14 12:06:44   \n",
       "\n",
       "               DateString  DayOfWeek  Weekend  Season  HourAMPM  TimeOfDay  \\\n",
       "0  2025-05-14 06:29:38 PM  Wednesday    False  Spring  06:29 PM    Evening   \n",
       "1  2025-05-14 02:47:34 PM  Wednesday    False  Spring  02:47 PM  Afternoon   \n",
       "2  2025-05-14 02:11:38 PM  Wednesday    False  Spring  02:11 PM  Afternoon   \n",
       "3  2025-05-14 12:27:29 PM  Wednesday    False  Spring  12:27 PM  Afternoon   \n",
       "4  2025-05-14 12:06:44 PM  Wednesday    False  Spring  12:06 PM  Afternoon   \n",
       "\n",
       "           FullStreet        lat        lon     neighborhood  \n",
       "0      1100 5TH ST SW  38.017130 -78.497806  Johnson Village  \n",
       "1     800 E MARKET ST  38.029573 -78.476013    Downtown Mall  \n",
       "2    300 HILLSDALE DR  38.064440 -78.486765      The Meadows  \n",
       "3  100 UNIVERSITY AVE  38.036729 -78.503383          Venable  \n",
       "4       200 W MAIN ST  38.030841 -78.482517    Downtown Mall  "
      ]
     },
     "execution_count": 10,
     "metadata": {},
     "output_type": "execute_result"
    }
   ],
   "source": [
    "# Initialize the Google Maps client.\n",
    "gmaps = googlemaps.Client(key=GOOGLE_API_KEY)\n",
    "\n",
    "# Try to load a persistent neighborhood cache if available.\n",
    "try:\n",
    "    with open(\"neighborhood_cache.pkl\", \"rb\") as f:\n",
    "        neighborhood_cache = pickle.load(f)\n",
    "    print(\"Loaded neighborhood cache.\")\n",
    "except FileNotFoundError:\n",
    "    neighborhood_cache = {}\n",
    "    print(\"No neighborhood cache found; starting fresh.\")\n",
    "\n",
    "def get_neighborhood(lat, lon):\n",
    "    \"\"\"\n",
    "    Reverse geocodes a latitude and longitude to retrieve the neighborhood.\n",
    "    Caches results to speed up subsequent lookups.\n",
    "    \"\"\"\n",
    "    key = (lat, lon)\n",
    "    if key in neighborhood_cache:\n",
    "        return neighborhood_cache[key]\n",
    "    \n",
    "    try:\n",
    "        result = gmaps.reverse_geocode((lat, lon))\n",
    "        if result:\n",
    "            # Look for the 'neighborhood' component in the first result.\n",
    "            for component in result[0]['address_components']:\n",
    "                if 'neighborhood' in component['types']:\n",
    "                    neighborhood = component['long_name']\n",
    "                    neighborhood_cache[key] = neighborhood\n",
    "                    return neighborhood\n",
    "            # If no neighborhood is found, return \"N/A\"\n",
    "            neighborhood_cache[key] = \"N/A\"\n",
    "            return \"N/A\"\n",
    "    except Exception as e:\n",
    "        print(f\"Error getting neighborhood for {lat}, {lon}: {e}\")\n",
    "        return \"N/A\"\n",
    "    \n",
    "    # Pause to respect usage limits.\n",
    "    time.sleep(1)\n",
    "\n",
    "# Example usage: Apply to your DataFrame 'df' that already has 'lat' and 'lon' columns.\n",
    "df['neighborhood'] = df.apply(lambda row: get_neighborhood(row['lat'], row['lon']), axis=1)\n",
    "\n",
    "# Save the updated neighborhood cache.\n",
    "with open(\"neighborhood_cache.pkl\", \"wb\") as f:\n",
    "    pickle.dump(neighborhood_cache, f)\n",
    "\n",
    "df.head()\n"
   ]
  },
  {
   "cell_type": "markdown",
   "id": "09a6dae0",
   "metadata": {
    "papermill": {
     "duration": 0.006806,
     "end_time": "2025-05-17T01:02:56.024973",
     "exception": false,
     "start_time": "2025-05-17T01:02:56.018167",
     "status": "completed"
    },
    "tags": []
   },
   "source": [
    "### Zip"
   ]
  },
  {
   "cell_type": "code",
   "execution_count": 11,
   "id": "bf29e7a3",
   "metadata": {
    "execution": {
     "iopub.execute_input": "2025-05-17T01:02:56.039533Z",
     "iopub.status.busy": "2025-05-17T01:02:56.039040Z",
     "iopub.status.idle": "2025-05-17T01:02:56.280116Z",
     "shell.execute_reply": "2025-05-17T01:02:56.279401Z"
    },
    "papermill": {
     "duration": 0.249724,
     "end_time": "2025-05-17T01:02:56.281307",
     "exception": false,
     "start_time": "2025-05-17T01:02:56.031583",
     "status": "completed"
    },
    "tags": []
   },
   "outputs": [
    {
     "name": "stdout",
     "output_type": "stream",
     "text": [
      "Loaded zip cache.\n"
     ]
    },
    {
     "data": {
      "text/html": [
       "<div>\n",
       "<style scoped>\n",
       "    .dataframe tbody tr th:only-of-type {\n",
       "        vertical-align: middle;\n",
       "    }\n",
       "\n",
       "    .dataframe tbody tr th {\n",
       "        vertical-align: top;\n",
       "    }\n",
       "\n",
       "    .dataframe thead th {\n",
       "        text-align: right;\n",
       "    }\n",
       "</style>\n",
       "<table border=\"1\" class=\"dataframe\">\n",
       "  <thead>\n",
       "    <tr style=\"text-align: right;\">\n",
       "      <th></th>\n",
       "      <th>RecordID</th>\n",
       "      <th>Offense</th>\n",
       "      <th>IncidentID</th>\n",
       "      <th>BlockNumber</th>\n",
       "      <th>StreetName</th>\n",
       "      <th>Agency</th>\n",
       "      <th>HourReported</th>\n",
       "      <th>ReportingOfficer</th>\n",
       "      <th>Date</th>\n",
       "      <th>DateString</th>\n",
       "      <th>DayOfWeek</th>\n",
       "      <th>Weekend</th>\n",
       "      <th>Season</th>\n",
       "      <th>HourAMPM</th>\n",
       "      <th>TimeOfDay</th>\n",
       "      <th>FullStreet</th>\n",
       "      <th>lat</th>\n",
       "      <th>lon</th>\n",
       "      <th>neighborhood</th>\n",
       "      <th>zip</th>\n",
       "    </tr>\n",
       "  </thead>\n",
       "  <tbody>\n",
       "    <tr>\n",
       "      <th>0</th>\n",
       "      <td>1</td>\n",
       "      <td>Larceny - Shoplifitng</td>\n",
       "      <td>202500016325</td>\n",
       "      <td>1100</td>\n",
       "      <td>5TH ST SW</td>\n",
       "      <td>CPD</td>\n",
       "      <td>1829</td>\n",
       "      <td>Bentz, Benjamin</td>\n",
       "      <td>2025-05-14 18:29:38</td>\n",
       "      <td>2025-05-14 06:29:38 PM</td>\n",
       "      <td>Wednesday</td>\n",
       "      <td>False</td>\n",
       "      <td>Spring</td>\n",
       "      <td>06:29 PM</td>\n",
       "      <td>Evening</td>\n",
       "      <td>1100 5TH ST SW</td>\n",
       "      <td>38.017130</td>\n",
       "      <td>-78.497806</td>\n",
       "      <td>Johnson Village</td>\n",
       "      <td>22903</td>\n",
       "    </tr>\n",
       "    <tr>\n",
       "      <th>1</th>\n",
       "      <td>2</td>\n",
       "      <td>Disorderly Conduct</td>\n",
       "      <td>202500016295</td>\n",
       "      <td>800</td>\n",
       "      <td>E MARKET ST</td>\n",
       "      <td>CPD</td>\n",
       "      <td>1447</td>\n",
       "      <td>Carelsen, Louise</td>\n",
       "      <td>2025-05-14 14:47:34</td>\n",
       "      <td>2025-05-14 02:47:34 PM</td>\n",
       "      <td>Wednesday</td>\n",
       "      <td>False</td>\n",
       "      <td>Spring</td>\n",
       "      <td>02:47 PM</td>\n",
       "      <td>Afternoon</td>\n",
       "      <td>800 E MARKET ST</td>\n",
       "      <td>38.029573</td>\n",
       "      <td>-78.476013</td>\n",
       "      <td>Downtown Mall</td>\n",
       "      <td>22902</td>\n",
       "    </tr>\n",
       "    <tr>\n",
       "      <th>2</th>\n",
       "      <td>3</td>\n",
       "      <td>Stolen Property Offenses</td>\n",
       "      <td>202500016292</td>\n",
       "      <td>300</td>\n",
       "      <td>HILLSDALE DR</td>\n",
       "      <td>CPD</td>\n",
       "      <td>1411</td>\n",
       "      <td>Mian, Ghulam</td>\n",
       "      <td>2025-05-14 14:11:38</td>\n",
       "      <td>2025-05-14 02:11:38 PM</td>\n",
       "      <td>Wednesday</td>\n",
       "      <td>False</td>\n",
       "      <td>Spring</td>\n",
       "      <td>02:11 PM</td>\n",
       "      <td>Afternoon</td>\n",
       "      <td>300 HILLSDALE DR</td>\n",
       "      <td>38.064440</td>\n",
       "      <td>-78.486765</td>\n",
       "      <td>The Meadows</td>\n",
       "      <td>22901</td>\n",
       "    </tr>\n",
       "    <tr>\n",
       "      <th>3</th>\n",
       "      <td>4</td>\n",
       "      <td>Burglary</td>\n",
       "      <td>202500016278</td>\n",
       "      <td>100</td>\n",
       "      <td>UNIVERSITY AVE</td>\n",
       "      <td>CPD</td>\n",
       "      <td>1227</td>\n",
       "      <td>Eckenroth, Rachel</td>\n",
       "      <td>2025-05-14 12:27:29</td>\n",
       "      <td>2025-05-14 12:27:29 PM</td>\n",
       "      <td>Wednesday</td>\n",
       "      <td>False</td>\n",
       "      <td>Spring</td>\n",
       "      <td>12:27 PM</td>\n",
       "      <td>Afternoon</td>\n",
       "      <td>100 UNIVERSITY AVE</td>\n",
       "      <td>38.036729</td>\n",
       "      <td>-78.503383</td>\n",
       "      <td>Venable</td>\n",
       "      <td>22903</td>\n",
       "    </tr>\n",
       "    <tr>\n",
       "      <th>4</th>\n",
       "      <td>5</td>\n",
       "      <td>Animal Complaint</td>\n",
       "      <td>202500016276</td>\n",
       "      <td>200</td>\n",
       "      <td>W MAIN ST</td>\n",
       "      <td>CPD</td>\n",
       "      <td>1206</td>\n",
       "      <td>Carelsen, Louise</td>\n",
       "      <td>2025-05-14 12:06:44</td>\n",
       "      <td>2025-05-14 12:06:44 PM</td>\n",
       "      <td>Wednesday</td>\n",
       "      <td>False</td>\n",
       "      <td>Spring</td>\n",
       "      <td>12:06 PM</td>\n",
       "      <td>Afternoon</td>\n",
       "      <td>200 W MAIN ST</td>\n",
       "      <td>38.030841</td>\n",
       "      <td>-78.482517</td>\n",
       "      <td>Downtown Mall</td>\n",
       "      <td>22902</td>\n",
       "    </tr>\n",
       "  </tbody>\n",
       "</table>\n",
       "</div>"
      ],
      "text/plain": [
       "   RecordID                   Offense    IncidentID BlockNumber  \\\n",
       "0         1     Larceny - Shoplifitng  202500016325        1100   \n",
       "1         2        Disorderly Conduct  202500016295         800   \n",
       "2         3  Stolen Property Offenses  202500016292         300   \n",
       "3         4                  Burglary  202500016278         100   \n",
       "4         5          Animal Complaint  202500016276         200   \n",
       "\n",
       "       StreetName Agency HourReported   ReportingOfficer                Date  \\\n",
       "0       5TH ST SW    CPD         1829   Bentz, Benjamin  2025-05-14 18:29:38   \n",
       "1     E MARKET ST    CPD         1447   Carelsen, Louise 2025-05-14 14:47:34   \n",
       "2    HILLSDALE DR    CPD         1411       Mian, Ghulam 2025-05-14 14:11:38   \n",
       "3  UNIVERSITY AVE    CPD         1227  Eckenroth, Rachel 2025-05-14 12:27:29   \n",
       "4       W MAIN ST    CPD         1206   Carelsen, Louise 2025-05-14 12:06:44   \n",
       "\n",
       "               DateString  DayOfWeek  Weekend  Season  HourAMPM  TimeOfDay  \\\n",
       "0  2025-05-14 06:29:38 PM  Wednesday    False  Spring  06:29 PM    Evening   \n",
       "1  2025-05-14 02:47:34 PM  Wednesday    False  Spring  02:47 PM  Afternoon   \n",
       "2  2025-05-14 02:11:38 PM  Wednesday    False  Spring  02:11 PM  Afternoon   \n",
       "3  2025-05-14 12:27:29 PM  Wednesday    False  Spring  12:27 PM  Afternoon   \n",
       "4  2025-05-14 12:06:44 PM  Wednesday    False  Spring  12:06 PM  Afternoon   \n",
       "\n",
       "           FullStreet        lat        lon     neighborhood    zip  \n",
       "0      1100 5TH ST SW  38.017130 -78.497806  Johnson Village  22903  \n",
       "1     800 E MARKET ST  38.029573 -78.476013    Downtown Mall  22902  \n",
       "2    300 HILLSDALE DR  38.064440 -78.486765      The Meadows  22901  \n",
       "3  100 UNIVERSITY AVE  38.036729 -78.503383          Venable  22903  \n",
       "4       200 W MAIN ST  38.030841 -78.482517    Downtown Mall  22902  "
      ]
     },
     "execution_count": 11,
     "metadata": {},
     "output_type": "execute_result"
    }
   ],
   "source": [
    "# Initialize the geocoder.\n",
    "geolocator = Nominatim(user_agent=\"zip_lookup\")\n",
    "\n",
    "# Try to load a persistent ZIP cache if available.\n",
    "try:\n",
    "    with open(\"zip_cache.pkl\", \"rb\") as f:\n",
    "        zip_cache = pickle.load(f)\n",
    "    print(\"Loaded zip cache.\")\n",
    "except FileNotFoundError:\n",
    "    zip_cache = {}\n",
    "    print(\"No zip cache found; starting fresh.\")\n",
    "\n",
    "def get_zip(lat, lon):\n",
    "    \"\"\"\n",
    "    Reverse geocodes a latitude and longitude to retrieve the ZIP code.\n",
    "    Caches results to speed up subsequent lookups.\n",
    "    \"\"\"\n",
    "    key = (lat, lon)\n",
    "    if key in zip_cache:\n",
    "        return zip_cache[key]\n",
    "    \n",
    "    try:\n",
    "        location = geolocator.reverse((lat, lon), exactly_one=True, timeout=10)\n",
    "        address = location.raw.get('address', {})\n",
    "        postal_code = address.get('postcode', \"N/A\")\n",
    "    except Exception as e:\n",
    "        print(f\"Error getting ZIP for {lat}, {lon}: {e}\")\n",
    "        postal_code = \"N/A\"\n",
    "    \n",
    "    zip_cache[key] = postal_code\n",
    "    # Pause to respect the usage policy.\n",
    "    time.sleep(1)\n",
    "    return postal_code\n",
    "\n",
    "# Apply the function to each row in the DataFrame.\n",
    "df['zip'] = df.apply(lambda row: get_zip(row['lat'], row['lon']), axis=1)\n",
    "\n",
    "# Save the updated ZIP cache.\n",
    "with open(\"zip_cache.pkl\", \"wb\") as f:\n",
    "    pickle.dump(zip_cache, f)\n",
    "\n",
    "df.head()\n"
   ]
  },
  {
   "cell_type": "code",
   "execution_count": 12,
   "id": "94b9112c",
   "metadata": {
    "execution": {
     "iopub.execute_input": "2025-05-17T01:02:56.296549Z",
     "iopub.status.busy": "2025-05-17T01:02:56.296300Z",
     "iopub.status.idle": "2025-05-17T01:02:56.326587Z",
     "shell.execute_reply": "2025-05-17T01:02:56.325894Z"
    },
    "papermill": {
     "duration": 0.038986,
     "end_time": "2025-05-17T01:02:56.327646",
     "exception": false,
     "start_time": "2025-05-17T01:02:56.288660",
     "status": "completed"
    },
    "tags": []
   },
   "outputs": [
    {
     "name": "stdout",
     "output_type": "stream",
     "text": [
      "                  MissingCount  MissingPercentage\n",
      "RecordID                     0               0.00\n",
      "Offense                      0               0.00\n",
      "IncidentID                   0               0.00\n",
      "BlockNumber                  0               0.00\n",
      "StreetName                   0               0.00\n",
      "Agency                       0               0.00\n",
      "HourReported                 0               0.00\n",
      "ReportingOfficer            17               0.07\n",
      "Date                         0               0.00\n",
      "DateString                   0               0.00\n",
      "DayOfWeek                    0               0.00\n",
      "Weekend                      0               0.00\n",
      "Season                       0               0.00\n",
      "HourAMPM                     0               0.00\n",
      "TimeOfDay                    0               0.00\n",
      "FullStreet                   0               0.00\n",
      "lat                          0               0.00\n",
      "lon                          0               0.00\n",
      "neighborhood                 0               0.00\n",
      "zip                          0               0.00\n"
     ]
    }
   ],
   "source": [
    "missing_info = missing_percentage(df)\n",
    "print(missing_info)\n"
   ]
  },
  {
   "cell_type": "code",
   "execution_count": 13,
   "id": "5e99e52b",
   "metadata": {
    "execution": {
     "iopub.execute_input": "2025-05-17T01:02:56.342606Z",
     "iopub.status.busy": "2025-05-17T01:02:56.342339Z",
     "iopub.status.idle": "2025-05-17T01:02:56.371789Z",
     "shell.execute_reply": "2025-05-17T01:02:56.371183Z"
    },
    "papermill": {
     "duration": 0.038109,
     "end_time": "2025-05-17T01:02:56.372885",
     "exception": false,
     "start_time": "2025-05-17T01:02:56.334776",
     "status": "completed"
    },
    "tags": []
   },
   "outputs": [
    {
     "name": "stdout",
     "output_type": "stream",
     "text": [
      "<class 'pandas.core.frame.DataFrame'>\n",
      "RangeIndex: 25387 entries, 0 to 25386\n",
      "Data columns (total 20 columns):\n",
      " #   Column            Non-Null Count  Dtype         \n",
      "---  ------            --------------  -----         \n",
      " 0   RecordID          25387 non-null  int64         \n",
      " 1   Offense           25387 non-null  object        \n",
      " 2   IncidentID        25387 non-null  object        \n",
      " 3   BlockNumber       25387 non-null  object        \n",
      " 4   StreetName        25387 non-null  object        \n",
      " 5   Agency            25387 non-null  object        \n",
      " 6   HourReported      25387 non-null  object        \n",
      " 7   ReportingOfficer  25370 non-null  object        \n",
      " 8   Date              25387 non-null  datetime64[ns]\n",
      " 9   DateString        25387 non-null  object        \n",
      " 10  DayOfWeek         25387 non-null  object        \n",
      " 11  Weekend           25387 non-null  bool          \n",
      " 12  Season            25387 non-null  object        \n",
      " 13  HourAMPM          25387 non-null  object        \n",
      " 14  TimeOfDay         25387 non-null  object        \n",
      " 15  FullStreet        25387 non-null  object        \n",
      " 16  lat               25387 non-null  float64       \n",
      " 17  lon               25387 non-null  float64       \n",
      " 18  neighborhood      25387 non-null  object        \n",
      " 19  zip               25387 non-null  object        \n",
      "dtypes: bool(1), datetime64[ns](1), float64(2), int64(1), object(15)\n",
      "memory usage: 3.7+ MB\n"
     ]
    }
   ],
   "source": [
    "df.info()"
   ]
  },
  {
   "cell_type": "code",
   "execution_count": 14,
   "id": "8cb43774",
   "metadata": {
    "execution": {
     "iopub.execute_input": "2025-05-17T01:02:56.388231Z",
     "iopub.status.busy": "2025-05-17T01:02:56.387707Z",
     "iopub.status.idle": "2025-05-17T01:02:56.429508Z",
     "shell.execute_reply": "2025-05-17T01:02:56.428933Z"
    },
    "papermill": {
     "duration": 0.050637,
     "end_time": "2025-05-17T01:02:56.430645",
     "exception": false,
     "start_time": "2025-05-17T01:02:56.380008",
     "status": "completed"
    },
    "tags": []
   },
   "outputs": [
    {
     "data": {
      "text/html": [
       "<div>\n",
       "<style scoped>\n",
       "    .dataframe tbody tr th:only-of-type {\n",
       "        vertical-align: middle;\n",
       "    }\n",
       "\n",
       "    .dataframe tbody tr th {\n",
       "        vertical-align: top;\n",
       "    }\n",
       "\n",
       "    .dataframe thead th {\n",
       "        text-align: right;\n",
       "    }\n",
       "</style>\n",
       "<table border=\"1\" class=\"dataframe\">\n",
       "  <thead>\n",
       "    <tr style=\"text-align: right;\">\n",
       "      <th></th>\n",
       "      <th>RecordID</th>\n",
       "      <th>Offense</th>\n",
       "      <th>IncidentID</th>\n",
       "      <th>Agency</th>\n",
       "      <th>ReportingOfficer</th>\n",
       "      <th>Date</th>\n",
       "      <th>DayOfWeek</th>\n",
       "      <th>Weekend</th>\n",
       "      <th>Season</th>\n",
       "      <th>TimeOfDay</th>\n",
       "      <th>FullStreet</th>\n",
       "      <th>lat</th>\n",
       "      <th>lon</th>\n",
       "      <th>neighborhood</th>\n",
       "      <th>zip</th>\n",
       "    </tr>\n",
       "  </thead>\n",
       "  <tbody>\n",
       "    <tr>\n",
       "      <th>0</th>\n",
       "      <td>1</td>\n",
       "      <td>Larceny - Shoplifitng</td>\n",
       "      <td>202500016325</td>\n",
       "      <td>CPD</td>\n",
       "      <td>Bentz, Benjamin</td>\n",
       "      <td>2025-05-14 18:29:38</td>\n",
       "      <td>Wednesday</td>\n",
       "      <td>False</td>\n",
       "      <td>Spring</td>\n",
       "      <td>Evening</td>\n",
       "      <td>1100 5TH ST SW</td>\n",
       "      <td>38.017130</td>\n",
       "      <td>-78.497806</td>\n",
       "      <td>Johnson Village</td>\n",
       "      <td>22903</td>\n",
       "    </tr>\n",
       "    <tr>\n",
       "      <th>1</th>\n",
       "      <td>2</td>\n",
       "      <td>Disorderly Conduct</td>\n",
       "      <td>202500016295</td>\n",
       "      <td>CPD</td>\n",
       "      <td>Carelsen, Louise</td>\n",
       "      <td>2025-05-14 14:47:34</td>\n",
       "      <td>Wednesday</td>\n",
       "      <td>False</td>\n",
       "      <td>Spring</td>\n",
       "      <td>Afternoon</td>\n",
       "      <td>800 E MARKET ST</td>\n",
       "      <td>38.029573</td>\n",
       "      <td>-78.476013</td>\n",
       "      <td>Downtown Mall</td>\n",
       "      <td>22902</td>\n",
       "    </tr>\n",
       "    <tr>\n",
       "      <th>2</th>\n",
       "      <td>3</td>\n",
       "      <td>Stolen Property Offenses</td>\n",
       "      <td>202500016292</td>\n",
       "      <td>CPD</td>\n",
       "      <td>Mian, Ghulam</td>\n",
       "      <td>2025-05-14 14:11:38</td>\n",
       "      <td>Wednesday</td>\n",
       "      <td>False</td>\n",
       "      <td>Spring</td>\n",
       "      <td>Afternoon</td>\n",
       "      <td>300 HILLSDALE DR</td>\n",
       "      <td>38.064440</td>\n",
       "      <td>-78.486765</td>\n",
       "      <td>The Meadows</td>\n",
       "      <td>22901</td>\n",
       "    </tr>\n",
       "    <tr>\n",
       "      <th>3</th>\n",
       "      <td>4</td>\n",
       "      <td>Burglary</td>\n",
       "      <td>202500016278</td>\n",
       "      <td>CPD</td>\n",
       "      <td>Eckenroth, Rachel</td>\n",
       "      <td>2025-05-14 12:27:29</td>\n",
       "      <td>Wednesday</td>\n",
       "      <td>False</td>\n",
       "      <td>Spring</td>\n",
       "      <td>Afternoon</td>\n",
       "      <td>100 UNIVERSITY AVE</td>\n",
       "      <td>38.036729</td>\n",
       "      <td>-78.503383</td>\n",
       "      <td>Venable</td>\n",
       "      <td>22903</td>\n",
       "    </tr>\n",
       "    <tr>\n",
       "      <th>4</th>\n",
       "      <td>5</td>\n",
       "      <td>Animal Complaint</td>\n",
       "      <td>202500016276</td>\n",
       "      <td>CPD</td>\n",
       "      <td>Carelsen, Louise</td>\n",
       "      <td>2025-05-14 12:06:44</td>\n",
       "      <td>Wednesday</td>\n",
       "      <td>False</td>\n",
       "      <td>Spring</td>\n",
       "      <td>Afternoon</td>\n",
       "      <td>200 W MAIN ST</td>\n",
       "      <td>38.030841</td>\n",
       "      <td>-78.482517</td>\n",
       "      <td>Downtown Mall</td>\n",
       "      <td>22902</td>\n",
       "    </tr>\n",
       "  </tbody>\n",
       "</table>\n",
       "</div>"
      ],
      "text/plain": [
       "   RecordID                   Offense    IncidentID Agency   ReportingOfficer  \\\n",
       "0         1     Larceny - Shoplifitng  202500016325    CPD   Bentz, Benjamin    \n",
       "1         2        Disorderly Conduct  202500016295    CPD   Carelsen, Louise   \n",
       "2         3  Stolen Property Offenses  202500016292    CPD       Mian, Ghulam   \n",
       "3         4                  Burglary  202500016278    CPD  Eckenroth, Rachel   \n",
       "4         5          Animal Complaint  202500016276    CPD   Carelsen, Louise   \n",
       "\n",
       "                 Date  DayOfWeek  Weekend  Season  TimeOfDay  \\\n",
       "0 2025-05-14 18:29:38  Wednesday    False  Spring    Evening   \n",
       "1 2025-05-14 14:47:34  Wednesday    False  Spring  Afternoon   \n",
       "2 2025-05-14 14:11:38  Wednesday    False  Spring  Afternoon   \n",
       "3 2025-05-14 12:27:29  Wednesday    False  Spring  Afternoon   \n",
       "4 2025-05-14 12:06:44  Wednesday    False  Spring  Afternoon   \n",
       "\n",
       "           FullStreet        lat        lon     neighborhood    zip  \n",
       "0      1100 5TH ST SW  38.017130 -78.497806  Johnson Village  22903  \n",
       "1     800 E MARKET ST  38.029573 -78.476013    Downtown Mall  22902  \n",
       "2    300 HILLSDALE DR  38.064440 -78.486765      The Meadows  22901  \n",
       "3  100 UNIVERSITY AVE  38.036729 -78.503383          Venable  22903  \n",
       "4       200 W MAIN ST  38.030841 -78.482517    Downtown Mall  22902  "
      ]
     },
     "execution_count": 14,
     "metadata": {},
     "output_type": "execute_result"
    }
   ],
   "source": [
    "# Now drop the original BlockNumber and StreetName columns\n",
    "df.drop(columns=['BlockNumber', 'StreetName','HourAMPM','HourReported','DateString'], inplace=True)\n",
    "df[\"zip\"] = df[\"zip\"].astype(str)\n",
    "\n",
    "# Fill all missing values in the DataFrame with \"N/A\"\n",
    "df.replace({None: \"N/A\", np.nan: \"N/A\", \"\": \"N/A\"}, inplace=True)\n",
    "df.head()"
   ]
  },
  {
   "cell_type": "code",
   "execution_count": 15,
   "id": "f1416c07",
   "metadata": {
    "execution": {
     "iopub.execute_input": "2025-05-17T01:02:56.446729Z",
     "iopub.status.busy": "2025-05-17T01:02:56.446240Z",
     "iopub.status.idle": "2025-05-17T01:02:56.463219Z",
     "shell.execute_reply": "2025-05-17T01:02:56.462641Z"
    },
    "papermill": {
     "duration": 0.026104,
     "end_time": "2025-05-17T01:02:56.464284",
     "exception": false,
     "start_time": "2025-05-17T01:02:56.438180",
     "status": "completed"
    },
    "tags": []
   },
   "outputs": [
    {
     "name": "stdout",
     "output_type": "stream",
     "text": [
      "                  MissingCount  MissingPercentage\n",
      "RecordID                     0                0.0\n",
      "Offense                      0                0.0\n",
      "IncidentID                   0                0.0\n",
      "Agency                       0                0.0\n",
      "ReportingOfficer             0                0.0\n",
      "Date                         0                0.0\n",
      "DayOfWeek                    0                0.0\n",
      "Weekend                      0                0.0\n",
      "Season                       0                0.0\n",
      "TimeOfDay                    0                0.0\n",
      "FullStreet                   0                0.0\n",
      "lat                          0                0.0\n",
      "lon                          0                0.0\n",
      "neighborhood                 0                0.0\n",
      "zip                          0                0.0\n"
     ]
    }
   ],
   "source": [
    "missing_info = missing_percentage(df)\n",
    "print(missing_info)"
   ]
  },
  {
   "cell_type": "code",
   "execution_count": 16,
   "id": "f674cdd8",
   "metadata": {
    "execution": {
     "iopub.execute_input": "2025-05-17T01:02:56.480238Z",
     "iopub.status.busy": "2025-05-17T01:02:56.479656Z",
     "iopub.status.idle": "2025-05-17T01:02:56.484216Z",
     "shell.execute_reply": "2025-05-17T01:02:56.483586Z"
    },
    "papermill": {
     "duration": 0.013531,
     "end_time": "2025-05-17T01:02:56.485228",
     "exception": false,
     "start_time": "2025-05-17T01:02:56.471697",
     "status": "completed"
    },
    "tags": []
   },
   "outputs": [
    {
     "data": {
      "text/plain": [
       "Index(['RecordID', 'Offense', 'IncidentID', 'Agency', 'ReportingOfficer',\n",
       "       'Date', 'DayOfWeek', 'Weekend', 'Season', 'TimeOfDay', 'FullStreet',\n",
       "       'lat', 'lon', 'neighborhood', 'zip'],\n",
       "      dtype='object')"
      ]
     },
     "execution_count": 16,
     "metadata": {},
     "output_type": "execute_result"
    }
   ],
   "source": [
    "df.columns"
   ]
  },
  {
   "cell_type": "code",
   "execution_count": 17,
   "id": "7bc16718",
   "metadata": {
    "execution": {
     "iopub.execute_input": "2025-05-17T01:02:56.501132Z",
     "iopub.status.busy": "2025-05-17T01:02:56.500653Z",
     "iopub.status.idle": "2025-05-17T01:02:56.519440Z",
     "shell.execute_reply": "2025-05-17T01:02:56.518769Z"
    },
    "papermill": {
     "duration": 0.027754,
     "end_time": "2025-05-17T01:02:56.520537",
     "exception": false,
     "start_time": "2025-05-17T01:02:56.492783",
     "status": "completed"
    },
    "tags": []
   },
   "outputs": [
    {
     "name": "stdout",
     "output_type": "stream",
     "text": [
      "<class 'pandas.core.frame.DataFrame'>\n",
      "RangeIndex: 25387 entries, 0 to 25386\n",
      "Data columns (total 15 columns):\n",
      " #   Column            Non-Null Count  Dtype         \n",
      "---  ------            --------------  -----         \n",
      " 0   RecordID          25387 non-null  int64         \n",
      " 1   Offense           25387 non-null  object        \n",
      " 2   IncidentID        25387 non-null  object        \n",
      " 3   Agency            25387 non-null  object        \n",
      " 4   ReportingOfficer  25387 non-null  object        \n",
      " 5   Date              25387 non-null  datetime64[ns]\n",
      " 6   DayOfWeek         25387 non-null  object        \n",
      " 7   Weekend           25387 non-null  bool          \n",
      " 8   Season            25387 non-null  object        \n",
      " 9   TimeOfDay         25387 non-null  object        \n",
      " 10  FullStreet        25387 non-null  object        \n",
      " 11  lat               25387 non-null  float64       \n",
      " 12  lon               25387 non-null  float64       \n",
      " 13  neighborhood      25387 non-null  object        \n",
      " 14  zip               25387 non-null  object        \n",
      "dtypes: bool(1), datetime64[ns](1), float64(2), int64(1), object(10)\n",
      "memory usage: 2.7+ MB\n"
     ]
    }
   ],
   "source": [
    "df.info()"
   ]
  },
  {
   "cell_type": "markdown",
   "id": "55e2a056",
   "metadata": {
    "papermill": {
     "duration": 0.007496,
     "end_time": "2025-05-17T01:02:56.535748",
     "exception": false,
     "start_time": "2025-05-17T01:02:56.528252",
     "status": "completed"
    },
    "tags": []
   },
   "source": [
    "### Export Clean Data"
   ]
  },
  {
   "cell_type": "code",
   "execution_count": 18,
   "id": "3de6fd67",
   "metadata": {
    "execution": {
     "iopub.execute_input": "2025-05-17T01:02:56.552212Z",
     "iopub.status.busy": "2025-05-17T01:02:56.551723Z",
     "iopub.status.idle": "2025-05-17T01:03:05.965195Z",
     "shell.execute_reply": "2025-05-17T01:03:05.964459Z"
    },
    "papermill": {
     "duration": 9.422899,
     "end_time": "2025-05-17T01:03:05.966346",
     "exception": false,
     "start_time": "2025-05-17T01:02:56.543447",
     "status": "completed"
    },
    "tags": []
   },
   "outputs": [
    {
     "name": "stdout",
     "output_type": "stream",
     "text": [
      "Project Root: /home/runner/work/crime-data/crime-data\n"
     ]
    },
    {
     "name": "stdout",
     "output_type": "stream",
     "text": [
      "Data saved to: /home/runner/work/crime-data/crime-data/data/charlottesville_crime_incidents.csv\n"
     ]
    },
    {
     "name": "stdout",
     "output_type": "stream",
     "text": [
      "Excel saved to: /home/runner/work/crime-data/crime-data/data/charlottesville_crime_incidents.xlsx\n"
     ]
    }
   ],
   "source": [
    "# Determine the project root (assuming papermill is run from the repository root)\n",
    "project_root = os.getcwd()\n",
    "print(\"Project Root:\", project_root)\n",
    "\n",
    "# Set the data directory within the project root\n",
    "data_dir = os.path.join(project_root, \"data\")\n",
    "\n",
    "# Ensure the \"data\" directory exists (create it if it doesn't)\n",
    "if not os.path.exists(data_dir):\n",
    "    os.makedirs(data_dir)\n",
    "\n",
    "# Export the DataFrame to CSV in the \"data\" folder located in the project root\n",
    "csv_path = os.path.join(data_dir, \"charlottesville_crime_incidents.csv\")\n",
    "df.to_csv(csv_path, index=False)\n",
    "print(\"Data saved to:\", csv_path)\n",
    "\n",
    "# Construct the path to your Excel file\n",
    "excel_path = os.path.join(data_dir, \"charlottesville_crime_incidents.xlsx\")\n",
    "\n",
    "# Export the DataFrame to Excel\n",
    "df.to_excel(excel_path, index=False)\n",
    "print(\"Excel saved to:\", excel_path)\n"
   ]
  },
  {
   "cell_type": "markdown",
   "id": "345cfa29",
   "metadata": {
    "papermill": {
     "duration": 0.007628,
     "end_time": "2025-05-17T01:03:05.981947",
     "exception": false,
     "start_time": "2025-05-17T01:03:05.974319",
     "status": "completed"
    },
    "tags": []
   },
   "source": [
    "## Predictive Analytics"
   ]
  },
  {
   "cell_type": "code",
   "execution_count": 19,
   "id": "f731d3dd",
   "metadata": {
    "execution": {
     "iopub.execute_input": "2025-05-17T01:03:05.998231Z",
     "iopub.status.busy": "2025-05-17T01:03:05.997964Z",
     "iopub.status.idle": "2025-05-17T01:03:06.009877Z",
     "shell.execute_reply": "2025-05-17T01:03:06.009315Z"
    },
    "papermill": {
     "duration": 0.021286,
     "end_time": "2025-05-17T01:03:06.010905",
     "exception": false,
     "start_time": "2025-05-17T01:03:05.989619",
     "status": "completed"
    },
    "tags": []
   },
   "outputs": [
    {
     "data": {
      "text/html": [
       "<div>\n",
       "<style scoped>\n",
       "    .dataframe tbody tr th:only-of-type {\n",
       "        vertical-align: middle;\n",
       "    }\n",
       "\n",
       "    .dataframe tbody tr th {\n",
       "        vertical-align: top;\n",
       "    }\n",
       "\n",
       "    .dataframe thead th {\n",
       "        text-align: right;\n",
       "    }\n",
       "</style>\n",
       "<table border=\"1\" class=\"dataframe\">\n",
       "  <thead>\n",
       "    <tr style=\"text-align: right;\">\n",
       "      <th></th>\n",
       "      <th>RecordID</th>\n",
       "      <th>Offense</th>\n",
       "      <th>IncidentID</th>\n",
       "      <th>Agency</th>\n",
       "      <th>ReportingOfficer</th>\n",
       "      <th>Date</th>\n",
       "      <th>DayOfWeek</th>\n",
       "      <th>Weekend</th>\n",
       "      <th>Season</th>\n",
       "      <th>TimeOfDay</th>\n",
       "      <th>FullStreet</th>\n",
       "      <th>lat</th>\n",
       "      <th>lon</th>\n",
       "      <th>neighborhood</th>\n",
       "      <th>zip</th>\n",
       "    </tr>\n",
       "  </thead>\n",
       "  <tbody>\n",
       "    <tr>\n",
       "      <th>0</th>\n",
       "      <td>1</td>\n",
       "      <td>Larceny - Shoplifitng</td>\n",
       "      <td>202500016325</td>\n",
       "      <td>CPD</td>\n",
       "      <td>Bentz, Benjamin</td>\n",
       "      <td>2025-05-14 18:29:38</td>\n",
       "      <td>Wednesday</td>\n",
       "      <td>False</td>\n",
       "      <td>Spring</td>\n",
       "      <td>Evening</td>\n",
       "      <td>1100 5TH ST SW</td>\n",
       "      <td>38.017130</td>\n",
       "      <td>-78.497806</td>\n",
       "      <td>Johnson Village</td>\n",
       "      <td>22903</td>\n",
       "    </tr>\n",
       "    <tr>\n",
       "      <th>1</th>\n",
       "      <td>2</td>\n",
       "      <td>Disorderly Conduct</td>\n",
       "      <td>202500016295</td>\n",
       "      <td>CPD</td>\n",
       "      <td>Carelsen, Louise</td>\n",
       "      <td>2025-05-14 14:47:34</td>\n",
       "      <td>Wednesday</td>\n",
       "      <td>False</td>\n",
       "      <td>Spring</td>\n",
       "      <td>Afternoon</td>\n",
       "      <td>800 E MARKET ST</td>\n",
       "      <td>38.029573</td>\n",
       "      <td>-78.476013</td>\n",
       "      <td>Downtown Mall</td>\n",
       "      <td>22902</td>\n",
       "    </tr>\n",
       "    <tr>\n",
       "      <th>2</th>\n",
       "      <td>3</td>\n",
       "      <td>Stolen Property Offenses</td>\n",
       "      <td>202500016292</td>\n",
       "      <td>CPD</td>\n",
       "      <td>Mian, Ghulam</td>\n",
       "      <td>2025-05-14 14:11:38</td>\n",
       "      <td>Wednesday</td>\n",
       "      <td>False</td>\n",
       "      <td>Spring</td>\n",
       "      <td>Afternoon</td>\n",
       "      <td>300 HILLSDALE DR</td>\n",
       "      <td>38.064440</td>\n",
       "      <td>-78.486765</td>\n",
       "      <td>The Meadows</td>\n",
       "      <td>22901</td>\n",
       "    </tr>\n",
       "    <tr>\n",
       "      <th>3</th>\n",
       "      <td>4</td>\n",
       "      <td>Burglary</td>\n",
       "      <td>202500016278</td>\n",
       "      <td>CPD</td>\n",
       "      <td>Eckenroth, Rachel</td>\n",
       "      <td>2025-05-14 12:27:29</td>\n",
       "      <td>Wednesday</td>\n",
       "      <td>False</td>\n",
       "      <td>Spring</td>\n",
       "      <td>Afternoon</td>\n",
       "      <td>100 UNIVERSITY AVE</td>\n",
       "      <td>38.036729</td>\n",
       "      <td>-78.503383</td>\n",
       "      <td>Venable</td>\n",
       "      <td>22903</td>\n",
       "    </tr>\n",
       "    <tr>\n",
       "      <th>4</th>\n",
       "      <td>5</td>\n",
       "      <td>Animal Complaint</td>\n",
       "      <td>202500016276</td>\n",
       "      <td>CPD</td>\n",
       "      <td>Carelsen, Louise</td>\n",
       "      <td>2025-05-14 12:06:44</td>\n",
       "      <td>Wednesday</td>\n",
       "      <td>False</td>\n",
       "      <td>Spring</td>\n",
       "      <td>Afternoon</td>\n",
       "      <td>200 W MAIN ST</td>\n",
       "      <td>38.030841</td>\n",
       "      <td>-78.482517</td>\n",
       "      <td>Downtown Mall</td>\n",
       "      <td>22902</td>\n",
       "    </tr>\n",
       "  </tbody>\n",
       "</table>\n",
       "</div>"
      ],
      "text/plain": [
       "   RecordID                   Offense    IncidentID Agency   ReportingOfficer  \\\n",
       "0         1     Larceny - Shoplifitng  202500016325    CPD   Bentz, Benjamin    \n",
       "1         2        Disorderly Conduct  202500016295    CPD   Carelsen, Louise   \n",
       "2         3  Stolen Property Offenses  202500016292    CPD       Mian, Ghulam   \n",
       "3         4                  Burglary  202500016278    CPD  Eckenroth, Rachel   \n",
       "4         5          Animal Complaint  202500016276    CPD   Carelsen, Louise   \n",
       "\n",
       "                 Date  DayOfWeek  Weekend  Season  TimeOfDay  \\\n",
       "0 2025-05-14 18:29:38  Wednesday    False  Spring    Evening   \n",
       "1 2025-05-14 14:47:34  Wednesday    False  Spring  Afternoon   \n",
       "2 2025-05-14 14:11:38  Wednesday    False  Spring  Afternoon   \n",
       "3 2025-05-14 12:27:29  Wednesday    False  Spring  Afternoon   \n",
       "4 2025-05-14 12:06:44  Wednesday    False  Spring  Afternoon   \n",
       "\n",
       "           FullStreet        lat        lon     neighborhood    zip  \n",
       "0      1100 5TH ST SW  38.017130 -78.497806  Johnson Village  22903  \n",
       "1     800 E MARKET ST  38.029573 -78.476013    Downtown Mall  22902  \n",
       "2    300 HILLSDALE DR  38.064440 -78.486765      The Meadows  22901  \n",
       "3  100 UNIVERSITY AVE  38.036729 -78.503383          Venable  22903  \n",
       "4       200 W MAIN ST  38.030841 -78.482517    Downtown Mall  22902  "
      ]
     },
     "execution_count": 19,
     "metadata": {},
     "output_type": "execute_result"
    }
   ],
   "source": [
    "df.head()"
   ]
  },
  {
   "cell_type": "code",
   "execution_count": 20,
   "id": "86be7186",
   "metadata": {
    "execution": {
     "iopub.execute_input": "2025-05-17T01:03:06.027973Z",
     "iopub.status.busy": "2025-05-17T01:03:06.027418Z",
     "iopub.status.idle": "2025-05-17T01:03:06.031718Z",
     "shell.execute_reply": "2025-05-17T01:03:06.031079Z"
    },
    "papermill": {
     "duration": 0.013879,
     "end_time": "2025-05-17T01:03:06.032817",
     "exception": false,
     "start_time": "2025-05-17T01:03:06.018938",
     "status": "completed"
    },
    "tags": []
   },
   "outputs": [
    {
     "data": {
      "text/plain": [
       "Index(['RecordID', 'Offense', 'IncidentID', 'Agency', 'ReportingOfficer',\n",
       "       'Date', 'DayOfWeek', 'Weekend', 'Season', 'TimeOfDay', 'FullStreet',\n",
       "       'lat', 'lon', 'neighborhood', 'zip'],\n",
       "      dtype='object')"
      ]
     },
     "execution_count": 20,
     "metadata": {},
     "output_type": "execute_result"
    }
   ],
   "source": [
    "df.columns"
   ]
  },
  {
   "cell_type": "markdown",
   "id": "eb666034",
   "metadata": {
    "papermill": {
     "duration": 0.007876,
     "end_time": "2025-05-17T01:03:06.048783",
     "exception": false,
     "start_time": "2025-05-17T01:03:06.040907",
     "status": "completed"
    },
    "tags": []
   },
   "source": [
    "### Data Preparation\n",
    "\n",
    "We need to ensure the data is in the correct format for modeling and can handle missing values, categorical variables, and dates. Here's how to prepare your data:"
   ]
  },
  {
   "cell_type": "code",
   "execution_count": 21,
   "id": "d0378d0a",
   "metadata": {
    "execution": {
     "iopub.execute_input": "2025-05-17T01:03:06.065827Z",
     "iopub.status.busy": "2025-05-17T01:03:06.065450Z",
     "iopub.status.idle": "2025-05-17T01:03:08.830991Z",
     "shell.execute_reply": "2025-05-17T01:03:08.830198Z"
    },
    "papermill": {
     "duration": 2.77564,
     "end_time": "2025-05-17T01:03:08.832410",
     "exception": false,
     "start_time": "2025-05-17T01:03:06.056770",
     "status": "completed"
    },
    "tags": []
   },
   "outputs": [],
   "source": [
    "import pandas as pd\n",
    "from sklearn.model_selection import train_test_split\n",
    "from sklearn.preprocessing import OneHotEncoder, LabelEncoder\n",
    "from sklearn.ensemble import RandomForestClassifier\n",
    "from sklearn.linear_model import LogisticRegression\n",
    "from sklearn.tree import DecisionTreeClassifier\n",
    "from sklearn.metrics import classification_report, accuracy_score\n",
    "import seaborn as sns\n",
    "import matplotlib.pyplot as plt\n",
    "\n",
    "# Convert 'Date' to datetime\n",
    "df['Date'] = pd.to_datetime(df['Date'])\n",
    "\n",
    "# Feature engineering: Extract additional time-based features\n",
    "df['Year'] = df['Date'].dt.year\n",
    "df['Month'] = df['Date'].dt.month\n",
    "df['DayOfMonth'] = df['Date'].dt.day\n",
    "\n",
    "# One-hot encoding for 'FullStreet', 'neighborhood', 'zip'\n",
    "df = pd.get_dummies(df, columns=['FullStreet', 'neighborhood', 'zip'], drop_first=True)\n",
    "\n",
    "# Label encoding for ordered variables (those with a natural order like 'DayOfWeek', 'Season', 'TimeOfDay')\n",
    "label_encoders = {}\n",
    "for column in ['DayOfWeek', 'Season', 'TimeOfDay', 'Agency', 'ReportingOfficer']:  # Example ordinal variables\n",
    "    le = LabelEncoder()\n",
    "    df[column] = le.fit_transform(df[column])\n",
    "    label_encoders[column] = le\n",
    "\n",
    "# Filter the dataset to include only the offenses of interest\n",
    "offenses_of_interest = [\n",
    "    'Hit and Run', 'Assault Simple', 'Suspicious Activity', 'Vandalism', \n",
    "    'Larceny - From Mot Vehicle', 'Larceny - All Other', \n",
    "    'Assist Citizen - Mental/TDO/ECO', 'Lost/FoundProperty'\n",
    "]\n",
    "\n",
    "df = df[df['Offense'].isin(offenses_of_interest)]\n",
    "\n",
    "# Label encode the target variable (Offense)\n",
    "offense_encoder = LabelEncoder()\n",
    "df['Offense'] = offense_encoder.fit_transform(df['Offense'])\n",
    "\n",
    "# Separate features (X) and target (y)\n",
    "X = df[['Year', 'Month', 'DayOfMonth', 'DayOfWeek', 'Weekend', 'Season', 'TimeOfDay', 'lat', 'lon', 'Agency', 'ReportingOfficer']]\n",
    "y = df['Offense']  # Offense is now the encoded target variable\n",
    "\n",
    "# Split the data into training and testing sets\n",
    "X_train, X_test, y_train, y_test = train_test_split(X, y, test_size=0.3, random_state=42)\n"
   ]
  },
  {
   "cell_type": "markdown",
   "id": "63348b32",
   "metadata": {
    "papermill": {
     "duration": 0.00808,
     "end_time": "2025-05-17T01:03:08.849091",
     "exception": false,
     "start_time": "2025-05-17T01:03:08.841011",
     "status": "completed"
    },
    "tags": []
   },
   "source": [
    "### Model Training\n",
    "\n",
    "Here we will train several models (e.g., Random Forest, Logistic Regression, and Decision Tree). We will use cross-validation to choose the best model based on accuracy, and then explain the impact of the variables."
   ]
  },
  {
   "cell_type": "code",
   "execution_count": 22,
   "id": "1dfbeaa7",
   "metadata": {
    "execution": {
     "iopub.execute_input": "2025-05-17T01:03:08.866249Z",
     "iopub.status.busy": "2025-05-17T01:03:08.865865Z",
     "iopub.status.idle": "2025-05-17T01:03:12.339904Z",
     "shell.execute_reply": "2025-05-17T01:03:12.339279Z"
    },
    "papermill": {
     "duration": 3.483973,
     "end_time": "2025-05-17T01:03:12.341026",
     "exception": false,
     "start_time": "2025-05-17T01:03:08.857053",
     "status": "completed"
    },
    "tags": []
   },
   "outputs": [
    {
     "name": "stderr",
     "output_type": "stream",
     "text": [
      "/opt/hostedtoolcache/Python/3.9.22/x64/lib/python3.9/site-packages/sklearn/linear_model/_logistic.py:465: ConvergenceWarning: lbfgs failed to converge (status=1):\n",
      "STOP: TOTAL NO. of ITERATIONS REACHED LIMIT.\n",
      "\n",
      "Increase the number of iterations (max_iter) or scale the data as shown in:\n",
      "    https://scikit-learn.org/stable/modules/preprocessing.html\n",
      "Please also refer to the documentation for alternative solver options:\n",
      "    https://scikit-learn.org/stable/modules/linear_model.html#logistic-regression\n",
      "  n_iter_i = _check_optimize_result(\n",
      "/opt/hostedtoolcache/Python/3.9.22/x64/lib/python3.9/site-packages/sklearn/metrics/_classification.py:1565: UndefinedMetricWarning: Precision is ill-defined and being set to 0.0 in labels with no predicted samples. Use `zero_division` parameter to control this behavior.\n",
      "  _warn_prf(average, modifier, f\"{metric.capitalize()} is\", len(result))\n",
      "/opt/hostedtoolcache/Python/3.9.22/x64/lib/python3.9/site-packages/sklearn/metrics/_classification.py:1565: UndefinedMetricWarning: Precision is ill-defined and being set to 0.0 in labels with no predicted samples. Use `zero_division` parameter to control this behavior.\n",
      "  _warn_prf(average, modifier, f\"{metric.capitalize()} is\", len(result))\n",
      "/opt/hostedtoolcache/Python/3.9.22/x64/lib/python3.9/site-packages/sklearn/metrics/_classification.py:1565: UndefinedMetricWarning: Precision is ill-defined and being set to 0.0 in labels with no predicted samples. Use `zero_division` parameter to control this behavior.\n",
      "  _warn_prf(average, modifier, f\"{metric.capitalize()} is\", len(result))\n"
     ]
    },
    {
     "name": "stdout",
     "output_type": "stream",
     "text": [
      "\n",
      "Classification Report for All Models:\n",
      "\n",
      "Model: RandomForest\n",
      "Accuracy: 0.3016\n",
      "              precision    recall  f1-score      support\n",
      "0              0.293030  0.352740  0.320124   584.000000\n",
      "1              0.301724  0.259901  0.279255   404.000000\n",
      "2              0.340143  0.480519  0.398325   693.000000\n",
      "3              0.252078  0.189979  0.216667   479.000000\n",
      "4              0.320675  0.216524  0.258503   351.000000\n",
      "5              0.250000  0.202335  0.223656   514.000000\n",
      "6              0.308390  0.295652  0.301887   460.000000\n",
      "accuracy       0.301578  0.301578  0.301578     0.301578\n",
      "macro avg      0.295149  0.285379  0.285488  3485.000000\n",
      "weighted avg   0.296243  0.301578  0.293876  3485.000000\n"
     ]
    },
    {
     "data": {
      "image/png": "[encoded data removed]",
      "text/plain": [
       "<Figure size 800x600 with 2 Axes>"
      ]
     },
     "metadata": {},
     "output_type": "display_data"
    },
    {
     "name": "stdout",
     "output_type": "stream",
     "text": [
      "\n",
      "Model: LogisticRegression\n",
      "Accuracy: 0.2175\n",
      "              precision    recall  f1-score      support\n",
      "0              0.198779  0.501712  0.284742   584.000000\n",
      "1              0.000000  0.000000  0.000000   404.000000\n",
      "2              0.231805  0.670996  0.344572   693.000000\n",
      "3              0.000000  0.000000  0.000000   479.000000\n",
      "4              0.000000  0.000000  0.000000   351.000000\n",
      "5              0.000000  0.000000  0.000000   514.000000\n",
      "6              0.000000  0.000000  0.000000   460.000000\n",
      "accuracy       0.217504  0.217504  0.217504     0.217504\n",
      "macro avg      0.061512  0.167530  0.089902  3485.000000\n",
      "weighted avg   0.079405  0.217504  0.116235  3485.000000\n"
     ]
    },
    {
     "data": {
      "image/png": "[encoded data removed]",
      "text/plain": [
       "<Figure size 800x600 with 2 Axes>"
      ]
     },
     "metadata": {},
     "output_type": "display_data"
    },
    {
     "name": "stdout",
     "output_type": "stream",
     "text": [
      "\n",
      "Model: DecisionTree\n",
      "Accuracy: 0.2433\n",
      "              precision    recall  f1-score      support\n",
      "0              0.255102  0.256849  0.255973   584.000000\n",
      "1              0.230952  0.240099  0.235437   404.000000\n",
      "2              0.322188  0.305916  0.313842   693.000000\n",
      "3              0.215730  0.200418  0.207792   479.000000\n",
      "4              0.234783  0.230769  0.232759   351.000000\n",
      "5              0.191321  0.188716  0.190010   514.000000\n",
      "6              0.220307  0.250000  0.234216   460.000000\n",
      "accuracy       0.243329  0.243329  0.243329     0.243329\n",
      "macro avg      0.238626  0.238967  0.238575  3485.000000\n",
      "weighted avg   0.244185  0.243329  0.243539  3485.000000\n"
     ]
    },
    {
     "data": {
      "image/png": "[encoded data removed]",
      "text/plain": [
       "<Figure size 800x600 with 2 Axes>"
      ]
     },
     "metadata": {},
     "output_type": "display_data"
    },
    {
     "name": "stdout",
     "output_type": "stream",
     "text": [
      "\n",
      "Best Model:\n",
      "Best Model: RandomForestClassifier()\n",
      "Best Model Accuracy: 0.3016\n"
     ]
    }
   ],
   "source": [
    "import pandas as pd\n",
    "from sklearn.model_selection import train_test_split\n",
    "from sklearn.ensemble import RandomForestClassifier\n",
    "from sklearn.linear_model import LogisticRegression\n",
    "from sklearn.tree import DecisionTreeClassifier\n",
    "from sklearn.metrics import classification_report, accuracy_score, confusion_matrix\n",
    "import seaborn as sns\n",
    "import matplotlib.pyplot as plt\n",
    "\n",
    "# Define models\n",
    "models = {\n",
    "    'RandomForest': RandomForestClassifier(),\n",
    "    'LogisticRegression': LogisticRegression(max_iter=1000),\n",
    "    'DecisionTree': DecisionTreeClassifier()\n",
    "}\n",
    "\n",
    "# Train models and evaluate them\n",
    "best_model = None\n",
    "best_score = 0\n",
    "model_reports = {}\n",
    "\n",
    "for model_name, model in models.items():\n",
    "    model.fit(X_train, y_train)  # Train model\n",
    "    y_pred = model.predict(X_test)  # Make predictions\n",
    "    \n",
    "    # Calculate accuracy and generate classification report\n",
    "    accuracy = accuracy_score(y_test, y_pred)\n",
    "    model_reports[model_name] = classification_report(y_test, y_pred, output_dict=True)  # Store as a dictionary for easier analysis\n",
    "    \n",
    "    # Track best performing model\n",
    "    if accuracy > best_score:\n",
    "        best_score = accuracy\n",
    "        best_model = model\n",
    "\n",
    "# Display classification reports and confusion matrices\n",
    "print(\"\\nClassification Report for All Models:\")\n",
    "for model_name, report in model_reports.items():\n",
    "    print(f\"\\nModel: {model_name}\")\n",
    "    print(\"Accuracy: {:.4f}\".format(accuracy_score(y_test, models[model_name].predict(X_test))))  # Display accuracy\n",
    "    print(pd.DataFrame(report).transpose())  # Display classification report as a DataFrame\n",
    "\n",
    "    # Plot Confusion Matrix\n",
    "    cm = confusion_matrix(y_test, models[model_name].predict(X_test))\n",
    "    plt.figure(figsize=(8, 6))\n",
    "    sns.heatmap(cm, annot=True, fmt=\"d\", cmap='Blues', xticklabels=offense_encoder.classes_, yticklabels=offense_encoder.classes_)\n",
    "    plt.title(f\"Confusion Matrix - {model_name}\")\n",
    "    plt.xlabel('Predicted Labels')\n",
    "    plt.ylabel('True Labels')\n",
    "    plt.show()\n",
    "\n",
    "# Display best model details\n",
    "print(\"\\nBest Model:\")\n",
    "print(f\"Best Model: {best_model}\")\n",
    "print(f\"Best Model Accuracy: {best_score:.4f}\")\n"
   ]
  },
  {
   "cell_type": "markdown",
   "id": "97bdd858",
   "metadata": {
    "papermill": {
     "duration": 0.010773,
     "end_time": "2025-05-17T01:03:12.363553",
     "exception": false,
     "start_time": "2025-05-17T01:03:12.352780",
     "status": "completed"
    },
    "tags": []
   },
   "source": [
    "#### Classification Report for All Models:\n",
    "\n",
    "### Explanation of the Classification Results (RandomForest Model)\n",
    "\n",
    "The results you provided are from a **Random Forest** model, which is used for predicting different types of offenses. Let's break down the key components of the results:\n",
    "\n",
    "#### 1. **Accuracy: 0.2822**\n",
    "   - **Accuracy** measures the overall percentage of correct predictions made by the model. An accuracy of 28.22% means the model correctly predicted the offense in about 28% of the cases. This indicates the model's predictions are not highly reliable, as the accuracy is quite low.\n",
    "\n",
    "#### 2. **Classification Report:**\n",
    "   The classification report includes precision, recall, and F1-score for each offense. Let's go over these terms and how they apply to the results:\n",
    "\n",
    "   - **Precision**: The proportion of true positive predictions out of all positive predictions made by the model for a specific class (offense).\n",
    "   - **Recall**: The proportion of true positive predictions out of all actual positive instances in the dataset.\n",
    "   - **F1-Score**: The harmonic mean of precision and recall, providing a balance between the two metrics.\n",
    "   - **Support**: The number of actual occurrences of each class in the test set.\n",
    "\n",
    "   Let's analyze each offense based on these metrics:\n",
    "\n",
    "   | **Offense**                        | **Precision** | **Recall** | **F1-Score** | **Support** |\n",
    "   |------------------------------------|---------------|------------|--------------|-------------|\n",
    "   | **Assault Simple**                 | 0.2892        | 0.3754     | 0.3267       | 594         |\n",
    "   | **Assist Citizen - Mental/TDO/ECO**| 0.3182        | 0.2274     | 0.2652       | 431         |\n",
    "   | **Hit and Run**                    | 0.2963        | 0.4765     | 0.3654       | 638         |\n",
    "   | **Larceny - All Other**            | 0.2270        | 0.1453     | 0.1772       | 475         |\n",
    "   | **Lost/FoundProperty**             | 0.3333        | 0.2102     | 0.2578       | 352         |\n",
    "   | **Suspicious Activity**            | 0.2344        | 0.2169     | 0.2253       | 484         |\n",
    "   | **Vandalism**                      | 0.2712        | 0.2106     | 0.2371       | 470         |\n",
    "\n",
    "#### 3. **Key Insights from the Report:**\n",
    "\n",
    "- **Precision**:\n",
    "   - The highest precision is for **Larceny - All Other** (0.3333), indicating that when the model predicts this offense, it is correct about 33% of the time. However, this is still quite low.\n",
    "   - **Assist Citizen - Mental/TDO/ECO** has the lowest precision (0.2269), meaning that the model's predictions for this offense tend to be wrong more often than correct.\n",
    "\n",
    "- **Recall**:\n",
    "   - **Hit and Run** has the highest recall (0.4765), meaning the model identifies about 48% of the actual occurrences of this offense. This is better than the precision, which indicates it is missing many true positives but is still able to identify a fair number of cases.\n",
    "   - **Larceny - All Other** and **Suspicious Activity** have the lowest recall values (0.1453 and 0.2169, respectively), indicating that the model is failing to identify most of the actual cases for these offenses.\n",
    "\n",
    "- **F1-Score**:\n",
    "   - The **F1-Score** balances precision and recall. It is highest for **Hit and Run** (0.3654), but still relatively low overall. This suggests the model is better at identifying **Hit and Run** than other offenses but still has room for improvement.\n",
    "   - **Larceny - All Other** has the lowest F1-Score (0.1772), indicating a poor balance between precision and recall for this offense.\n",
    "\n",
    "#### 4. **Macro Average and Weighted Average:**\n",
    "   - **Macro Average**: This gives the average precision, recall, and F1-Score across all classes (offenses) without considering the class distribution. It averages the results for all offenses equally.\n",
    "     - Precision: 0.2814\n",
    "     - Recall: 0.2661\n",
    "     - F1-Score: 0.2649\n",
    "   - **Weighted Average**: This averages the metrics but weighs each class by its support (the number of true instances in the test set). This gives a better sense of overall performance, considering the class distribution.\n",
    "     - Precision: 0.2799\n",
    "     - Recall: 0.2822\n",
    "     - F1-Score: 0.2720\n",
    "\n",
    "#### 5. **Confusion Matrix (Visualization Analysis)**:\n",
    "   - The confusion matrix shows the distribution of true positive, false positive, true negative, and false negative predictions for each class.\n",
    "     - For **Hit and Run**, the model performs relatively well in identifying this offense (304 true positives). However, it also misclassifies some **Hit and Run** instances as other offenses (e.g., **Assault Simple**, **Suspicious Activity**, etc.).\n",
    "     - **Larceny - All Other** is frequently misclassified as **Hit and Run**, **Suspicious Activity**, and others. This is evident from the large number of off-diagonal elements in its row.\n",
    "     - **Assist Citizen - Mental/TDO/ECO** and **Suspicious Activity** are frequently misclassified, as seen by the off-diagonal values in their rows.\n",
    "\n",
    "### Conclusion:\n",
    "The Random Forest model has low accuracy (28.22%), suggesting that it struggles to predict most offenses accurately. Some offenses like **Hit and Run** are better predicted than others, but overall, the model shows a high level of misclassification across all offenses. There may be a need for further tuning of the model, additional feature engineering, or trying different models for better performance.\n",
    "\n",
    "Let me know if you'd like to improve the model or make adjustments based on these results!\n",
    "\n"
   ]
  },
  {
   "cell_type": "markdown",
   "id": "3e283ac6",
   "metadata": {
    "papermill": {
     "duration": 0.010611,
     "end_time": "2025-05-17T01:03:12.385065",
     "exception": false,
     "start_time": "2025-05-17T01:03:12.374454",
     "status": "completed"
    },
    "tags": []
   },
   "source": [
    "### Model Explanation\n",
    "\n",
    "Once we’ve chosen the best model, we will explain its predictions by examining feature importance for tree-based models and using statistical methods like logistic regression coefficients for linear models."
   ]
  },
  {
   "cell_type": "markdown",
   "id": "6bff58ee",
   "metadata": {
    "papermill": {
     "duration": 0.010565,
     "end_time": "2025-05-17T01:03:12.406252",
     "exception": false,
     "start_time": "2025-05-17T01:03:12.395687",
     "status": "completed"
    },
    "tags": []
   },
   "source": [
    "#### Feature Importance for Random Forest / Decision Tree\n",
    "\n",
    "##### For Tree-based Models (Random Forest, Decision Tree)\n",
    "\n",
    "For Random Forest or Decision Tree, we can look at feature importance to understand which variables contribute the most to the model's predictions. Here's how you can visualize and interpret the importance of each feature:"
   ]
  },
  {
   "cell_type": "code",
   "execution_count": 23,
   "id": "8cd0064d",
   "metadata": {
    "execution": {
     "iopub.execute_input": "2025-05-17T01:03:12.428458Z",
     "iopub.status.busy": "2025-05-17T01:03:12.428234Z",
     "iopub.status.idle": "2025-05-17T01:03:12.674598Z",
     "shell.execute_reply": "2025-05-17T01:03:12.673963Z"
    },
    "papermill": {
     "duration": 0.258732,
     "end_time": "2025-05-17T01:03:12.675659",
     "exception": false,
     "start_time": "2025-05-17T01:03:12.416927",
     "status": "completed"
    },
    "tags": []
   },
   "outputs": [
    {
     "data": {
      "image/png": "[encoded data removed]",
      "text/plain": [
       "<Figure size 1000x600 with 1 Axes>"
      ]
     },
     "metadata": {},
     "output_type": "display_data"
    }
   ],
   "source": [
    "# For RandomForest or DecisionTree models, we can check feature importance\n",
    "if isinstance(best_model, RandomForestClassifier) or isinstance(best_model, DecisionTreeClassifier):\n",
    "    feature_importance = best_model.feature_importances_\n",
    "    feature_names = X.columns\n",
    "    importance_df = pd.DataFrame({'Feature': feature_names, 'Importance': feature_importance})\n",
    "    importance_df = importance_df.sort_values(by='Importance', ascending=False)\n",
    "    \n",
    "    # Plotting the feature importances\n",
    "    plt.figure(figsize=(10, 6))\n",
    "    sns.barplot(x='Importance', y='Feature', data=importance_df)\n",
    "    plt.title(\"Feature Importance\")\n",
    "    plt.show()\n"
   ]
  },
  {
   "cell_type": "code",
   "execution_count": null,
   "id": "773552ad",
   "metadata": {
    "papermill": {
     "duration": 0.011016,
     "end_time": "2025-05-17T01:03:12.698296",
     "exception": false,
     "start_time": "2025-05-17T01:03:12.687280",
     "status": "completed"
    },
    "tags": []
   },
   "outputs": [],
   "source": []
  },
  {
   "cell_type": "markdown",
   "id": "4802e225",
   "metadata": {
    "papermill": {
     "duration": 0.010967,
     "end_time": "2025-05-17T01:03:12.720252",
     "exception": false,
     "start_time": "2025-05-17T01:03:12.709285",
     "status": "completed"
    },
    "tags": []
   },
   "source": [
    "### Evaluation\n",
    "\n",
    "After training the models and examining their performance, we evaluate the chosen model based on metrics like accuracy, precision, recall, and F1 score.\n",
    "\n"
   ]
  },
  {
   "cell_type": "code",
   "execution_count": 24,
   "id": "3eb37a1f",
   "metadata": {
    "execution": {
     "iopub.execute_input": "2025-05-17T01:03:12.743314Z",
     "iopub.status.busy": "2025-05-17T01:03:12.742873Z",
     "iopub.status.idle": "2025-05-17T01:03:12.832204Z",
     "shell.execute_reply": "2025-05-17T01:03:12.831553Z"
    },
    "papermill": {
     "duration": 0.102067,
     "end_time": "2025-05-17T01:03:12.833278",
     "exception": false,
     "start_time": "2025-05-17T01:03:12.731211",
     "status": "completed"
    },
    "tags": []
   },
   "outputs": [
    {
     "name": "stdout",
     "output_type": "stream",
     "text": [
      "Accuracy: 0.3016\n",
      "Classification Report:\n",
      "              precision    recall  f1-score   support\n",
      "\n",
      "           0       0.29      0.35      0.32       584\n",
      "           1       0.30      0.26      0.28       404\n",
      "           2       0.34      0.48      0.40       693\n",
      "           3       0.25      0.19      0.22       479\n",
      "           4       0.32      0.22      0.26       351\n",
      "           5       0.25      0.20      0.22       514\n",
      "           6       0.31      0.30      0.30       460\n",
      "\n",
      "    accuracy                           0.30      3485\n",
      "   macro avg       0.30      0.29      0.29      3485\n",
      "weighted avg       0.30      0.30      0.29      3485\n",
      "\n",
      "Confusion Matrix:\n",
      "[[206  67 117  49  29  70  46]\n",
      " [ 87 105 101  19  19  43  30]\n",
      " [110  42 333  62  26  66  54]\n",
      " [ 86  32 136  91  34  43  57]\n",
      " [ 40  26  71  46  76  36  56]\n",
      " [110  42 126  49  21 104  62]\n",
      " [ 64  34  95  45  32  54 136]]\n",
      "Precision: 0.2962\n",
      "Recall: 0.3016\n",
      "F1 Score: 0.2939\n"
     ]
    }
   ],
   "source": [
    "from sklearn.metrics import classification_report, confusion_matrix, accuracy_score, precision_score, recall_score, f1_score\n",
    "\n",
    "# Predict on the test set\n",
    "y_pred = best_model.predict(X_test)\n",
    "\n",
    "# Calculate Accuracy\n",
    "accuracy = accuracy_score(y_test, y_pred)\n",
    "print(f\"Accuracy: {accuracy:.4f}\")\n",
    "\n",
    "# Classification Report\n",
    "print(\"Classification Report:\")\n",
    "print(classification_report(y_test, y_pred))\n",
    "\n",
    "# Confusion Matrix\n",
    "conf_matrix = confusion_matrix(y_test, y_pred)\n",
    "print(\"Confusion Matrix:\")\n",
    "print(conf_matrix)\n",
    "\n",
    "# Precision, Recall, F1 Score for each class (Offense Type)\n",
    "precision = precision_score(y_test, y_pred, average='weighted')\n",
    "recall = recall_score(y_test, y_pred, average='weighted')\n",
    "f1 = f1_score(y_test, y_pred, average='weighted')\n",
    "\n",
    "print(f\"Precision: {precision:.4f}\")\n",
    "print(f\"Recall: {recall:.4f}\")\n",
    "print(f\"F1 Score: {f1:.4f}\")\n"
   ]
  },
  {
   "cell_type": "markdown",
   "id": "9e6342ae",
   "metadata": {
    "papermill": {
     "duration": 0.011138,
     "end_time": "2025-05-17T01:03:12.856080",
     "exception": false,
     "start_time": "2025-05-17T01:03:12.844942",
     "status": "completed"
    },
    "tags": []
   },
   "source": [
    "#### For Logistic Regression (Coefficient Interpretation)\n",
    "\n",
    "For Logistic Regression, the model coefficients can help us understand how each feature affects the likelihood of an offense happening. A positive coefficient indicates a feature increases the likelihood of the offense, and a negative coefficient indicates the opposite."
   ]
  },
  {
   "cell_type": "code",
   "execution_count": 25,
   "id": "8b8cc677",
   "metadata": {
    "execution": {
     "iopub.execute_input": "2025-05-17T01:03:12.879303Z",
     "iopub.status.busy": "2025-05-17T01:03:12.879072Z",
     "iopub.status.idle": "2025-05-17T01:03:12.883923Z",
     "shell.execute_reply": "2025-05-17T01:03:12.883351Z"
    },
    "papermill": {
     "duration": 0.017875,
     "end_time": "2025-05-17T01:03:12.884972",
     "exception": false,
     "start_time": "2025-05-17T01:03:12.867097",
     "status": "completed"
    },
    "tags": []
   },
   "outputs": [],
   "source": [
    "if isinstance(best_model, LogisticRegression):\n",
    "    # Logistic regression coefficients\n",
    "    coef_df = pd.DataFrame({\n",
    "        'Feature': X.columns,\n",
    "        'Coefficient': best_model.coef_[0]\n",
    "    })\n",
    "    coef_df['AbsCoefficient'] = coef_df['Coefficient'].abs()\n",
    "    coef_df = coef_df.sort_values(by='AbsCoefficient', ascending=False)\n",
    "    \n",
    "    # Plotting the coefficients\n",
    "    plt.figure(figsize=(10, 6))\n",
    "    sns.barplot(x='AbsCoefficient', y='Feature', data=coef_df)\n",
    "    plt.title(\"Logistic Regression Coefficients Impact\")\n",
    "    plt.show()\n",
    "\n",
    "    # Print the top 5 most impactful features (by absolute coefficient value)\n",
    "    print(\"Top 5 most impactful features based on coefficients:\")\n",
    "    print(coef_df.head())\n"
   ]
  },
  {
   "cell_type": "markdown",
   "id": "59f4db0c",
   "metadata": {
    "papermill": {
     "duration": 0.011125,
     "end_time": "2025-05-17T01:03:12.907239",
     "exception": false,
     "start_time": "2025-05-17T01:03:12.896114",
     "status": "completed"
    },
    "tags": []
   },
   "source": [
    "Explanation of Output:\n",
    "\n",
    "Feature Importance (Random Forest/Decision Tree): The bar plot will show how important each feature is in the decision-making process. Features at the top of the list are the most influential in predicting the occurrence of offenses.\n",
    "\n",
    "Logistic Regression Coefficients: The bar plot will show the magnitude of the coefficients for each feature. Features with larger absolute values (either positive or negative) have a stronger impact on the model’s predictions. Positive coefficients increase the probability of an offense, while negative coefficients decrease it."
   ]
  },
  {
   "cell_type": "markdown",
   "id": "b83de6c2",
   "metadata": {
    "papermill": {
     "duration": 0.011054,
     "end_time": "2025-05-17T01:03:12.929350",
     "exception": false,
     "start_time": "2025-05-17T01:03:12.918296",
     "status": "completed"
    },
    "tags": []
   },
   "source": []
  }
 ],
 "metadata": {
  "kernelspec": {
   "display_name": "Python 3",
   "language": "python",
   "name": "python3"
  },
  "language_info": {
   "codemirror_mode": {
    "name": "ipython",
    "version": 3
   },
   "file_extension": ".py",
   "mimetype": "text/x-python",
   "name": "python",
   "nbconvert_exporter": "python",
   "pygments_lexer": "ipython3",
   "version": "3.9.22"
  },
  "papermill": {
   "default_parameters": {},
   "duration": 81.008133,
   "end_time": "2025-05-17T01:03:13.356732",
   "environment_variables": {},
   "exception": null,
   "input_path": "notebook/Crime Data.ipynb",
   "output_path": "notebook/Crime Data_output.ipynb",
   "parameters": {},
   "start_time": "2025-05-17T01:01:52.348599",
   "version": "2.6.0"
  }
 },
 "nbformat": 4,
 "nbformat_minor": 5
}