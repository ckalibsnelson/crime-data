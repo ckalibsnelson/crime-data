{
 "cells": [
  {
   "cell_type": "markdown",
   "id": "14b6de79",
   "metadata": {
    "papermill": {
     "duration": 0.004484,
     "end_time": "2025-06-25T01:05:47.373414",
     "exception": false,
     "start_time": "2025-06-25T01:05:47.368930",
     "status": "completed"
    },
    "tags": []
   },
   "source": [
    "# Charlottesville Open Data Porttal: Crime Data"
   ]
  },
  {
   "cell_type": "markdown",
   "id": "22c76a1b",
   "metadata": {
    "papermill": {
     "duration": 0.003196,
     "end_time": "2025-06-25T01:05:47.380237",
     "exception": false,
     "start_time": "2025-06-25T01:05:47.377041",
     "status": "completed"
    },
    "tags": []
   },
   "source": [
    "## Import Relevant Librarires & Set WD"
   ]
  },
  {
   "cell_type": "code",
   "execution_count": 1,
   "id": "9f0b0810",
   "metadata": {
    "execution": {
     "iopub.execute_input": "2025-06-25T01:05:47.388355Z",
     "iopub.status.busy": "2025-06-25T01:05:47.387705Z",
     "iopub.status.idle": "2025-06-25T01:05:47.988531Z",
     "shell.execute_reply": "2025-06-25T01:05:47.987756Z"
    },
    "papermill": {
     "duration": 0.606507,
     "end_time": "2025-06-25T01:05:47.989931",
     "exception": false,
     "start_time": "2025-06-25T01:05:47.383424",
     "status": "completed"
    },
    "tags": []
   },
   "outputs": [],
   "source": [
    "import requests\n",
    "import pandas as pd\n",
    "import numpy as np\n",
    "import pickle\n",
    "import googlemaps\n",
    "import plotly.express as px\n",
    "from geopy.geocoders import Nominatim\n",
    "import time\n",
    "from dotenv import load_dotenv\n",
    "import os\n",
    "\n",
    "env_path = os.path.join(\"..\", \".env\")\n",
    "#print(\"Looking for .env file at:\", os.path.abspath(env_path))\n",
    "load_dotenv(dotenv_path=env_path)\n",
    "\n",
    "# Retrieve the variables\n",
    "GOOGLE_API_KEY = os.getenv(\"GOOGLE_API_KEY\")\n",
    "WORKING_DIR = os.getenv(\"WORKING_DIR\")\n",
    "\n",
    "if GOOGLE_API_KEY is None or WORKING_DIR is None:\n",
    "    raise RuntimeError(\"No configuration found. Please ensure that your .env file exists with the required variables, or create a local config.py file.\")\n",
    "\n",
    "#print(\"Google API Key:\", GOOGLE_API_KEY)\n",
    "#print(\"Working Directory:\", WORKING_DIR)"
   ]
  },
  {
   "cell_type": "markdown",
   "id": "2b9dbf76",
   "metadata": {
    "papermill": {
     "duration": 0.003428,
     "end_time": "2025-06-25T01:05:47.997144",
     "exception": false,
     "start_time": "2025-06-25T01:05:47.993716",
     "status": "completed"
    },
    "tags": []
   },
   "source": [
    "## Import Data\n",
    "\n",
    "URL: https://opendata.charlottesville.org/datasets/charlottesville::crime-data/about"
   ]
  },
  {
   "cell_type": "code",
   "execution_count": 2,
   "id": "870f1d1f",
   "metadata": {
    "execution": {
     "iopub.execute_input": "2025-06-25T01:05:48.005531Z",
     "iopub.status.busy": "2025-06-25T01:05:48.004918Z",
     "iopub.status.idle": "2025-06-25T01:06:57.821756Z",
     "shell.execute_reply": "2025-06-25T01:06:57.821039Z"
    },
    "papermill": {
     "duration": 69.82578,
     "end_time": "2025-06-25T01:06:57.826307",
     "exception": false,
     "start_time": "2025-06-25T01:05:48.000527",
     "status": "completed"
    },
    "tags": []
   },
   "outputs": [
    {
     "name": "stdout",
     "output_type": "stream",
     "text": [
      "Total records imported: 25539\n"
     ]
    }
   ],
   "source": [
    "# Define the endpoint and initial parameters.\n",
    "url = \"https://gisweb.charlottesville.org/arcgis/rest/services/OpenData_2/MapServer/6/query\"\n",
    "params = {\n",
    "    \"where\": \"1=1\",\n",
    "    \"outFields\": \"*\",\n",
    "    \"outSR\": 4326,\n",
    "    \"f\": \"json\",\n",
    "    \"resultOffset\": 0,       # Starting index for results\n",
    "    \"resultRecordCount\": 10000  # Maximum records per batch (if allowed by the API)\n",
    "}\n",
    "\n",
    "records = []\n",
    "\n",
    "while True:\n",
    "    response = requests.get(url, params=params)\n",
    "    response.raise_for_status()\n",
    "    data = response.json()\n",
    "    \n",
    "    # Get the current batch of features.\n",
    "    features = data.get(\"features\", [])\n",
    "    if not features:\n",
    "        break\n",
    "\n",
    "    # Extract the attributes from the features.\n",
    "    batch_records = [feature.get(\"attributes\", {}) for feature in features]\n",
    "    records.extend(batch_records)\n",
    "    \n",
    "    # If the batch size is less than the requested count, we reached the end.\n",
    "    if len(features) < params[\"resultRecordCount\"]:\n",
    "        break\n",
    "\n",
    "    # Update the resultOffset for the next batch.\n",
    "    params[\"resultOffset\"] += params[\"resultRecordCount\"]\n",
    "\n",
    "# Create a DataFrame from the combined records.\n",
    "df = pd.DataFrame(records)\n",
    "print(\"Total records imported:\", len(df))\n"
   ]
  },
  {
   "cell_type": "code",
   "execution_count": 3,
   "id": "4ea81e1d",
   "metadata": {
    "execution": {
     "iopub.execute_input": "2025-06-25T01:06:57.834397Z",
     "iopub.status.busy": "2025-06-25T01:06:57.833855Z",
     "iopub.status.idle": "2025-06-25T01:06:57.846437Z",
     "shell.execute_reply": "2025-06-25T01:06:57.845651Z"
    },
    "papermill": {
     "duration": 0.017832,
     "end_time": "2025-06-25T01:06:57.847616",
     "exception": false,
     "start_time": "2025-06-25T01:06:57.829784",
     "status": "completed"
    },
    "tags": []
   },
   "outputs": [
    {
     "data": {
      "text/html": [
       "<div>\n",
       "<style scoped>\n",
       "    .dataframe tbody tr th:only-of-type {\n",
       "        vertical-align: middle;\n",
       "    }\n",
       "\n",
       "    .dataframe tbody tr th {\n",
       "        vertical-align: top;\n",
       "    }\n",
       "\n",
       "    .dataframe thead th {\n",
       "        text-align: right;\n",
       "    }\n",
       "</style>\n",
       "<table border=\"1\" class=\"dataframe\">\n",
       "  <thead>\n",
       "    <tr style=\"text-align: right;\">\n",
       "      <th></th>\n",
       "      <th>RecordID</th>\n",
       "      <th>Offense</th>\n",
       "      <th>IncidentID</th>\n",
       "      <th>BlockNumber</th>\n",
       "      <th>StreetName</th>\n",
       "      <th>Agency</th>\n",
       "      <th>DateReported</th>\n",
       "      <th>HourReported</th>\n",
       "      <th>ReportingOfficer</th>\n",
       "    </tr>\n",
       "  </thead>\n",
       "  <tbody>\n",
       "    <tr>\n",
       "      <th>0</th>\n",
       "      <td>1</td>\n",
       "      <td>Vandalism</td>\n",
       "      <td>202500021557</td>\n",
       "      <td>1100</td>\n",
       "      <td>E JEFFERSON ST</td>\n",
       "      <td>CPD</td>\n",
       "      <td>1750653341000</td>\n",
       "      <td>0035</td>\n",
       "      <td>Wells, Matthew</td>\n",
       "    </tr>\n",
       "    <tr>\n",
       "      <th>1</th>\n",
       "      <td>2</td>\n",
       "      <td>Driving Under the Influence</td>\n",
       "      <td>202500021543</td>\n",
       "      <td></td>\n",
       "      <td>E HIGH ST @ LONG ST</td>\n",
       "      <td>CPD</td>\n",
       "      <td>1750636762000</td>\n",
       "      <td>1959</td>\n",
       "      <td>Carrasco, Julio</td>\n",
       "    </tr>\n",
       "    <tr>\n",
       "      <th>2</th>\n",
       "      <td>3</td>\n",
       "      <td>Assault Simple</td>\n",
       "      <td>202500021538</td>\n",
       "      <td>500</td>\n",
       "      <td>CHERRY AVE</td>\n",
       "      <td>CPD</td>\n",
       "      <td>1750633358000</td>\n",
       "      <td>1902</td>\n",
       "      <td>Benbow, Lauren</td>\n",
       "    </tr>\n",
       "    <tr>\n",
       "      <th>3</th>\n",
       "      <td>4</td>\n",
       "      <td>Motor Vehicle Theft</td>\n",
       "      <td>202500021514</td>\n",
       "      <td>2300</td>\n",
       "      <td>CENTER AVE, B</td>\n",
       "      <td>CPD</td>\n",
       "      <td>1750618879000</td>\n",
       "      <td>1501</td>\n",
       "      <td>Benbow, Lauren</td>\n",
       "    </tr>\n",
       "    <tr>\n",
       "      <th>4</th>\n",
       "      <td>5</td>\n",
       "      <td>Assault Aggravated</td>\n",
       "      <td>202500021512</td>\n",
       "      <td>100</td>\n",
       "      <td>CARLTON RD</td>\n",
       "      <td>CPD</td>\n",
       "      <td>1750617738000</td>\n",
       "      <td>1442</td>\n",
       "      <td>Kinney, Dylan</td>\n",
       "    </tr>\n",
       "  </tbody>\n",
       "</table>\n",
       "</div>"
      ],
      "text/plain": [
       "   RecordID                      Offense    IncidentID BlockNumber  \\\n",
       "0         1                    Vandalism  202500021557        1100   \n",
       "1         2  Driving Under the Influence  202500021543               \n",
       "2         3               Assault Simple  202500021538         500   \n",
       "3         4          Motor Vehicle Theft  202500021514        2300   \n",
       "4         5           Assault Aggravated  202500021512         100   \n",
       "\n",
       "            StreetName Agency   DateReported HourReported ReportingOfficer  \n",
       "0       E JEFFERSON ST    CPD  1750653341000         0035   Wells, Matthew  \n",
       "1  E HIGH ST @ LONG ST    CPD  1750636762000         1959  Carrasco, Julio  \n",
       "2           CHERRY AVE    CPD  1750633358000         1902   Benbow, Lauren  \n",
       "3        CENTER AVE, B    CPD  1750618879000         1501   Benbow, Lauren  \n",
       "4           CARLTON RD    CPD  1750617738000         1442    Kinney, Dylan  "
      ]
     },
     "execution_count": 3,
     "metadata": {},
     "output_type": "execute_result"
    }
   ],
   "source": [
    "df.head()"
   ]
  },
  {
   "cell_type": "code",
   "execution_count": 4,
   "id": "289a68cc",
   "metadata": {
    "execution": {
     "iopub.execute_input": "2025-06-25T01:06:57.856493Z",
     "iopub.status.busy": "2025-06-25T01:06:57.855899Z",
     "iopub.status.idle": "2025-06-25T01:06:57.860801Z",
     "shell.execute_reply": "2025-06-25T01:06:57.860235Z"
    },
    "papermill": {
     "duration": 0.010576,
     "end_time": "2025-06-25T01:06:57.862071",
     "exception": false,
     "start_time": "2025-06-25T01:06:57.851495",
     "status": "completed"
    },
    "tags": []
   },
   "outputs": [
    {
     "data": {
      "text/plain": [
       "Index(['RecordID', 'Offense', 'IncidentID', 'BlockNumber', 'StreetName',\n",
       "       'Agency', 'DateReported', 'HourReported', 'ReportingOfficer'],\n",
       "      dtype='object')"
      ]
     },
     "execution_count": 4,
     "metadata": {},
     "output_type": "execute_result"
    }
   ],
   "source": [
    "df.columns"
   ]
  },
  {
   "cell_type": "code",
   "execution_count": 5,
   "id": "63870584",
   "metadata": {
    "execution": {
     "iopub.execute_input": "2025-06-25T01:06:57.871053Z",
     "iopub.status.busy": "2025-06-25T01:06:57.870780Z",
     "iopub.status.idle": "2025-06-25T01:06:57.896948Z",
     "shell.execute_reply": "2025-06-25T01:06:57.896290Z"
    },
    "papermill": {
     "duration": 0.03227,
     "end_time": "2025-06-25T01:06:57.898158",
     "exception": false,
     "start_time": "2025-06-25T01:06:57.865888",
     "status": "completed"
    },
    "tags": []
   },
   "outputs": [
    {
     "name": "stdout",
     "output_type": "stream",
     "text": [
      "<class 'pandas.core.frame.DataFrame'>\n",
      "RangeIndex: 25539 entries, 0 to 25538\n",
      "Data columns (total 9 columns):\n",
      " #   Column            Non-Null Count  Dtype \n",
      "---  ------            --------------  ----- \n",
      " 0   RecordID          25539 non-null  int64 \n",
      " 1   Offense           25539 non-null  object\n",
      " 2   IncidentID        25539 non-null  object\n",
      " 3   BlockNumber       25539 non-null  object\n",
      " 4   StreetName        25539 non-null  object\n",
      " 5   Agency            25539 non-null  object\n",
      " 6   DateReported      25539 non-null  int64 \n",
      " 7   HourReported      25539 non-null  object\n",
      " 8   ReportingOfficer  25522 non-null  object\n",
      "dtypes: int64(2), object(7)\n",
      "memory usage: 1.8+ MB\n"
     ]
    }
   ],
   "source": [
    "df.info()"
   ]
  },
  {
   "cell_type": "markdown",
   "id": "e831fd64",
   "metadata": {
    "papermill": {
     "duration": 0.003622,
     "end_time": "2025-06-25T01:06:57.905793",
     "exception": false,
     "start_time": "2025-06-25T01:06:57.902171",
     "status": "completed"
    },
    "tags": []
   },
   "source": [
    "### Missing Values"
   ]
  },
  {
   "cell_type": "code",
   "execution_count": 6,
   "id": "e095dcc8",
   "metadata": {
    "execution": {
     "iopub.execute_input": "2025-06-25T01:06:57.942683Z",
     "iopub.status.busy": "2025-06-25T01:06:57.942153Z",
     "iopub.status.idle": "2025-06-25T01:06:57.968349Z",
     "shell.execute_reply": "2025-06-25T01:06:57.967741Z"
    },
    "papermill": {
     "duration": 0.032146,
     "end_time": "2025-06-25T01:06:57.969457",
     "exception": false,
     "start_time": "2025-06-25T01:06:57.937311",
     "status": "completed"
    },
    "tags": []
   },
   "outputs": [
    {
     "name": "stdout",
     "output_type": "stream",
     "text": [
      "                  MissingCount  MissingPercentage\n",
      "RecordID                     0               0.00\n",
      "Offense                      0               0.00\n",
      "IncidentID                   0               0.00\n",
      "BlockNumber                  0               0.00\n",
      "StreetName                   0               0.00\n",
      "Agency                       0               0.00\n",
      "DateReported                 0               0.00\n",
      "HourReported                 0               0.00\n",
      "ReportingOfficer            17               0.07\n"
     ]
    }
   ],
   "source": [
    "def missing_percentage(df):\n",
    "    \"\"\"\n",
    "    Returns a DataFrame with the count and percentage of missing values for each column.\n",
    "    \n",
    "    Parameters:\n",
    "        df (pd.DataFrame): The input DataFrame.\n",
    "    \n",
    "    Returns:\n",
    "        pd.DataFrame: A DataFrame with columns 'MissingCount' and 'MissingPercentage'.\n",
    "    \"\"\"\n",
    "    total_rows = len(df)\n",
    "    missing_count = df.isnull().sum()\n",
    "    missing_percent = (missing_count / total_rows) * 100\n",
    "    \n",
    "    result = pd.DataFrame({\n",
    "        'MissingCount': missing_count,\n",
    "        'MissingPercentage': missing_percent.round(2)\n",
    "    })\n",
    "    \n",
    "    return result\n",
    "\n",
    "# Example usage:\n",
    "missing_info = missing_percentage(df)\n",
    "print(missing_info)\n"
   ]
  },
  {
   "cell_type": "markdown",
   "id": "5fe7ad3c",
   "metadata": {
    "papermill": {
     "duration": 0.00383,
     "end_time": "2025-06-25T01:06:57.977372",
     "exception": false,
     "start_time": "2025-06-25T01:06:57.973542",
     "status": "completed"
    },
    "tags": []
   },
   "source": [
    "## Data Preparation"
   ]
  },
  {
   "cell_type": "markdown",
   "id": "4111ce9f",
   "metadata": {
    "papermill": {
     "duration": 0.003691,
     "end_time": "2025-06-25T01:06:57.984796",
     "exception": false,
     "start_time": "2025-06-25T01:06:57.981105",
     "status": "completed"
    },
    "tags": []
   },
   "source": [
    "### Data Conversion"
   ]
  },
  {
   "cell_type": "code",
   "execution_count": 7,
   "id": "eaa3f545",
   "metadata": {
    "execution": {
     "iopub.execute_input": "2025-06-25T01:06:57.993791Z",
     "iopub.status.busy": "2025-06-25T01:06:57.993293Z",
     "iopub.status.idle": "2025-06-25T01:06:58.353814Z",
     "shell.execute_reply": "2025-06-25T01:06:58.353162Z"
    },
    "papermill": {
     "duration": 0.366229,
     "end_time": "2025-06-25T01:06:58.354863",
     "exception": false,
     "start_time": "2025-06-25T01:06:57.988634",
     "status": "completed"
    },
    "tags": []
   },
   "outputs": [
    {
     "data": {
      "text/html": [
       "<div>\n",
       "<style scoped>\n",
       "    .dataframe tbody tr th:only-of-type {\n",
       "        vertical-align: middle;\n",
       "    }\n",
       "\n",
       "    .dataframe tbody tr th {\n",
       "        vertical-align: top;\n",
       "    }\n",
       "\n",
       "    .dataframe thead th {\n",
       "        text-align: right;\n",
       "    }\n",
       "</style>\n",
       "<table border=\"1\" class=\"dataframe\">\n",
       "  <thead>\n",
       "    <tr style=\"text-align: right;\">\n",
       "      <th></th>\n",
       "      <th>RecordID</th>\n",
       "      <th>Offense</th>\n",
       "      <th>IncidentID</th>\n",
       "      <th>BlockNumber</th>\n",
       "      <th>StreetName</th>\n",
       "      <th>Agency</th>\n",
       "      <th>HourReported</th>\n",
       "      <th>ReportingOfficer</th>\n",
       "      <th>Date</th>\n",
       "      <th>DateString</th>\n",
       "      <th>DayOfWeek</th>\n",
       "      <th>Weekend</th>\n",
       "      <th>Season</th>\n",
       "      <th>HourAMPM</th>\n",
       "      <th>TimeOfDay</th>\n",
       "    </tr>\n",
       "  </thead>\n",
       "  <tbody>\n",
       "    <tr>\n",
       "      <th>0</th>\n",
       "      <td>1</td>\n",
       "      <td>Vandalism</td>\n",
       "      <td>202500021557</td>\n",
       "      <td>1100</td>\n",
       "      <td>E JEFFERSON ST</td>\n",
       "      <td>CPD</td>\n",
       "      <td>0035</td>\n",
       "      <td>Wells, Matthew</td>\n",
       "      <td>2025-06-23 00:35:41</td>\n",
       "      <td>2025-06-23 12:35:41 AM</td>\n",
       "      <td>Monday</td>\n",
       "      <td>False</td>\n",
       "      <td>Summer</td>\n",
       "      <td>12:35 AM</td>\n",
       "      <td>Night</td>\n",
       "    </tr>\n",
       "    <tr>\n",
       "      <th>1</th>\n",
       "      <td>2</td>\n",
       "      <td>Driving Under the Influence</td>\n",
       "      <td>202500021543</td>\n",
       "      <td></td>\n",
       "      <td>E HIGH ST @ LONG ST</td>\n",
       "      <td>CPD</td>\n",
       "      <td>1959</td>\n",
       "      <td>Carrasco, Julio</td>\n",
       "      <td>2025-06-22 19:59:22</td>\n",
       "      <td>2025-06-22 07:59:22 PM</td>\n",
       "      <td>Sunday</td>\n",
       "      <td>True</td>\n",
       "      <td>Summer</td>\n",
       "      <td>07:59 PM</td>\n",
       "      <td>Evening</td>\n",
       "    </tr>\n",
       "    <tr>\n",
       "      <th>2</th>\n",
       "      <td>3</td>\n",
       "      <td>Assault Simple</td>\n",
       "      <td>202500021538</td>\n",
       "      <td>500</td>\n",
       "      <td>CHERRY AVE</td>\n",
       "      <td>CPD</td>\n",
       "      <td>1902</td>\n",
       "      <td>Benbow, Lauren</td>\n",
       "      <td>2025-06-22 19:02:38</td>\n",
       "      <td>2025-06-22 07:02:38 PM</td>\n",
       "      <td>Sunday</td>\n",
       "      <td>True</td>\n",
       "      <td>Summer</td>\n",
       "      <td>07:02 PM</td>\n",
       "      <td>Evening</td>\n",
       "    </tr>\n",
       "    <tr>\n",
       "      <th>3</th>\n",
       "      <td>4</td>\n",
       "      <td>Motor Vehicle Theft</td>\n",
       "      <td>202500021514</td>\n",
       "      <td>2300</td>\n",
       "      <td>CENTER AVE, B</td>\n",
       "      <td>CPD</td>\n",
       "      <td>1501</td>\n",
       "      <td>Benbow, Lauren</td>\n",
       "      <td>2025-06-22 15:01:19</td>\n",
       "      <td>2025-06-22 03:01:19 PM</td>\n",
       "      <td>Sunday</td>\n",
       "      <td>True</td>\n",
       "      <td>Summer</td>\n",
       "      <td>03:01 PM</td>\n",
       "      <td>Afternoon</td>\n",
       "    </tr>\n",
       "    <tr>\n",
       "      <th>4</th>\n",
       "      <td>5</td>\n",
       "      <td>Assault Aggravated</td>\n",
       "      <td>202500021512</td>\n",
       "      <td>100</td>\n",
       "      <td>CARLTON RD</td>\n",
       "      <td>CPD</td>\n",
       "      <td>1442</td>\n",
       "      <td>Kinney, Dylan</td>\n",
       "      <td>2025-06-22 14:42:18</td>\n",
       "      <td>2025-06-22 02:42:18 PM</td>\n",
       "      <td>Sunday</td>\n",
       "      <td>True</td>\n",
       "      <td>Summer</td>\n",
       "      <td>02:42 PM</td>\n",
       "      <td>Afternoon</td>\n",
       "    </tr>\n",
       "  </tbody>\n",
       "</table>\n",
       "</div>"
      ],
      "text/plain": [
       "   RecordID                      Offense    IncidentID BlockNumber  \\\n",
       "0         1                    Vandalism  202500021557        1100   \n",
       "1         2  Driving Under the Influence  202500021543               \n",
       "2         3               Assault Simple  202500021538         500   \n",
       "3         4          Motor Vehicle Theft  202500021514        2300   \n",
       "4         5           Assault Aggravated  202500021512         100   \n",
       "\n",
       "            StreetName Agency HourReported ReportingOfficer  \\\n",
       "0       E JEFFERSON ST    CPD         0035   Wells, Matthew   \n",
       "1  E HIGH ST @ LONG ST    CPD         1959  Carrasco, Julio   \n",
       "2           CHERRY AVE    CPD         1902   Benbow, Lauren   \n",
       "3        CENTER AVE, B    CPD         1501   Benbow, Lauren   \n",
       "4           CARLTON RD    CPD         1442    Kinney, Dylan   \n",
       "\n",
       "                 Date              DateString DayOfWeek  Weekend  Season  \\\n",
       "0 2025-06-23 00:35:41  2025-06-23 12:35:41 AM    Monday    False  Summer   \n",
       "1 2025-06-22 19:59:22  2025-06-22 07:59:22 PM    Sunday     True  Summer   \n",
       "2 2025-06-22 19:02:38  2025-06-22 07:02:38 PM    Sunday     True  Summer   \n",
       "3 2025-06-22 15:01:19  2025-06-22 03:01:19 PM    Sunday     True  Summer   \n",
       "4 2025-06-22 14:42:18  2025-06-22 02:42:18 PM    Sunday     True  Summer   \n",
       "\n",
       "   HourAMPM  TimeOfDay  \n",
       "0  12:35 AM      Night  \n",
       "1  07:59 PM    Evening  \n",
       "2  07:02 PM    Evening  \n",
       "3  03:01 PM  Afternoon  \n",
       "4  02:42 PM  Afternoon  "
      ]
     },
     "execution_count": 7,
     "metadata": {},
     "output_type": "execute_result"
    }
   ],
   "source": [
    "def convert_and_categorize_datereported(df, col='DateReported'):\n",
    "    \"\"\"\n",
    "    Converts an epoch (in milliseconds) date column into a timezone-aware datetime,\n",
    "    converts it to Eastern Time, and then creates columns for day-of-week, weekend flag,\n",
    "    season, 12-hour formatted time, and time-of-day. Keeps both a real datetime column\n",
    "    (Date) and a string representation (DateString).\n",
    "    \"\"\"\n",
    "    import pandas as pd\n",
    "\n",
    "    # Convert the epoch timestamp to a pandas datetime object as UTC, then convert to US/Eastern.\n",
    "    df[\"DateReported_dt\"] = (\n",
    "        pd.to_datetime(df[col], unit=\"ms\", errors=\"coerce\", utc=True)\n",
    "        .dt.tz_convert(\"US/Eastern\")\n",
    "    )\n",
    "    \n",
    "    # Create a true datetime column (remove timezone if you prefer naive datetime)\n",
    "    df[\"Date\"] = df[\"DateReported_dt\"].dt.tz_localize(None)\n",
    "\n",
    "    # Optionally, create a separate string-formatted column\n",
    "    df[\"DateString\"] = df[\"DateReported_dt\"].dt.strftime(\"%Y-%m-%d %I:%M:%S %p\")\n",
    "    \n",
    "    # DayOfWeek\n",
    "    df[\"DayOfWeek\"] = df[\"DateReported_dt\"].dt.day_name()\n",
    "    \n",
    "    # Weekend\n",
    "    df[\"Weekend\"] = df[\"DayOfWeek\"].isin([\"Saturday\", \"Sunday\"])\n",
    "    \n",
    "    # Helper function to determine the season\n",
    "    def get_season(dt):\n",
    "        month = dt.month\n",
    "        day = dt.day\n",
    "        # Approximate Northern Hemisphere season boundaries:\n",
    "        if (month == 12 and day >= 21) or (month < 3) or (month == 3 and day < 20):\n",
    "            return \"Winter\"\n",
    "        elif (month == 3 and day >= 20) or (month < 6) or (month == 6 and day < 21):\n",
    "            return \"Spring\"\n",
    "        elif (month == 6 and day >= 21) or (month < 9) or (month == 9 and day < 22):\n",
    "            return \"Summer\"\n",
    "        else:\n",
    "            return \"Autumn\"\n",
    "    \n",
    "    df[\"Season\"] = df[\"DateReported_dt\"].apply(get_season)\n",
    "    \n",
    "    # 12-hour formatted time (HourAMPM)\n",
    "    df[\"HourAMPM\"] = df[\"DateReported_dt\"].dt.strftime(\"%I:%M %p\")\n",
    "    \n",
    "    # Extract hour (0-23) for time-of-day\n",
    "    df[\"HourValue\"] = df[\"DateReported_dt\"].dt.hour\n",
    "    \n",
    "    def time_of_day(hour):\n",
    "        if pd.isnull(hour):\n",
    "            return None\n",
    "        if 5 <= hour < 12:\n",
    "            return \"Morning\"\n",
    "        elif 12 <= hour < 17:\n",
    "            return \"Afternoon\"\n",
    "        elif 17 <= hour < 21:\n",
    "            return \"Evening\"\n",
    "        else:\n",
    "            return \"Night\"\n",
    "    \n",
    "    df[\"TimeOfDay\"] = df[\"HourValue\"].apply(time_of_day)\n",
    "    \n",
    "    # Drop columns you no longer need\n",
    "    df.drop(columns=[col, \"DateReported_dt\", \"HourValue\"], inplace=True)\n",
    "    \n",
    "    return df\n",
    "\n",
    "# Example usage:\n",
    "df = convert_and_categorize_datereported(df)\n",
    "df.head()\n"
   ]
  },
  {
   "cell_type": "code",
   "execution_count": 8,
   "id": "3989e1bf",
   "metadata": {
    "execution": {
     "iopub.execute_input": "2025-06-25T01:06:58.364689Z",
     "iopub.status.busy": "2025-06-25T01:06:58.364216Z",
     "iopub.status.idle": "2025-06-25T01:06:58.393918Z",
     "shell.execute_reply": "2025-06-25T01:06:58.393356Z"
    },
    "papermill": {
     "duration": 0.035697,
     "end_time": "2025-06-25T01:06:58.395025",
     "exception": false,
     "start_time": "2025-06-25T01:06:58.359328",
     "status": "completed"
    },
    "tags": []
   },
   "outputs": [
    {
     "name": "stdout",
     "output_type": "stream",
     "text": [
      "<class 'pandas.core.frame.DataFrame'>\n",
      "RangeIndex: 25539 entries, 0 to 25538\n",
      "Data columns (total 15 columns):\n",
      " #   Column            Non-Null Count  Dtype         \n",
      "---  ------            --------------  -----         \n",
      " 0   RecordID          25539 non-null  int64         \n",
      " 1   Offense           25539 non-null  object        \n",
      " 2   IncidentID        25539 non-null  object        \n",
      " 3   BlockNumber       25539 non-null  object        \n",
      " 4   StreetName        25539 non-null  object        \n",
      " 5   Agency            25539 non-null  object        \n",
      " 6   HourReported      25539 non-null  object        \n",
      " 7   ReportingOfficer  25522 non-null  object        \n",
      " 8   Date              25539 non-null  datetime64[ns]\n",
      " 9   DateString        25539 non-null  object        \n",
      " 10  DayOfWeek         25539 non-null  object        \n",
      " 11  Weekend           25539 non-null  bool          \n",
      " 12  Season            25539 non-null  object        \n",
      " 13  HourAMPM          25539 non-null  object        \n",
      " 14  TimeOfDay         25539 non-null  object        \n",
      "dtypes: bool(1), datetime64[ns](1), int64(1), object(12)\n",
      "memory usage: 2.8+ MB\n"
     ]
    }
   ],
   "source": [
    "df.info()"
   ]
  },
  {
   "cell_type": "markdown",
   "id": "2466669e",
   "metadata": {
    "papermill": {
     "duration": 0.004024,
     "end_time": "2025-06-25T01:06:58.403444",
     "exception": false,
     "start_time": "2025-06-25T01:06:58.399420",
     "status": "completed"
    },
    "tags": []
   },
   "source": [
    "### Coordinates"
   ]
  },
  {
   "cell_type": "code",
   "execution_count": 9,
   "id": "2dddc059",
   "metadata": {
    "execution": {
     "iopub.execute_input": "2025-06-25T01:06:58.413063Z",
     "iopub.status.busy": "2025-06-25T01:06:58.412539Z",
     "iopub.status.idle": "2025-06-25T01:06:58.542924Z",
     "shell.execute_reply": "2025-06-25T01:06:58.542348Z"
    },
    "papermill": {
     "duration": 0.136395,
     "end_time": "2025-06-25T01:06:58.543962",
     "exception": false,
     "start_time": "2025-06-25T01:06:58.407567",
     "status": "completed"
    },
    "tags": []
   },
   "outputs": [
    {
     "name": "stdout",
     "output_type": "stream",
     "text": [
      "Loaded geocode cache.\n",
      "Error geocoding 2300 CENTER AVE, B: REQUEST_DENIED (You must enable Billing on the Google Cloud Project at https://console.cloud.google.com/project/_/billing/enable Learn more at https://developers.google.com/maps/gmp-get-started)\n",
      "Geocoded 2300 CENTER AVE, B: None, None\n",
      "Geocode cache updated and saved.\n"
     ]
    },
    {
     "data": {
      "text/html": [
       "<div>\n",
       "<style scoped>\n",
       "    .dataframe tbody tr th:only-of-type {\n",
       "        vertical-align: middle;\n",
       "    }\n",
       "\n",
       "    .dataframe tbody tr th {\n",
       "        vertical-align: top;\n",
       "    }\n",
       "\n",
       "    .dataframe thead th {\n",
       "        text-align: right;\n",
       "    }\n",
       "</style>\n",
       "<table border=\"1\" class=\"dataframe\">\n",
       "  <thead>\n",
       "    <tr style=\"text-align: right;\">\n",
       "      <th></th>\n",
       "      <th>RecordID</th>\n",
       "      <th>Offense</th>\n",
       "      <th>IncidentID</th>\n",
       "      <th>BlockNumber</th>\n",
       "      <th>StreetName</th>\n",
       "      <th>Agency</th>\n",
       "      <th>HourReported</th>\n",
       "      <th>ReportingOfficer</th>\n",
       "      <th>Date</th>\n",
       "      <th>DateString</th>\n",
       "      <th>DayOfWeek</th>\n",
       "      <th>Weekend</th>\n",
       "      <th>Season</th>\n",
       "      <th>HourAMPM</th>\n",
       "      <th>TimeOfDay</th>\n",
       "      <th>FullStreet</th>\n",
       "      <th>lat</th>\n",
       "      <th>lon</th>\n",
       "    </tr>\n",
       "  </thead>\n",
       "  <tbody>\n",
       "    <tr>\n",
       "      <th>0</th>\n",
       "      <td>1</td>\n",
       "      <td>Vandalism</td>\n",
       "      <td>202500021557</td>\n",
       "      <td>1100</td>\n",
       "      <td>E JEFFERSON ST</td>\n",
       "      <td>CPD</td>\n",
       "      <td>0035</td>\n",
       "      <td>Wells, Matthew</td>\n",
       "      <td>2025-06-23 00:35:41</td>\n",
       "      <td>2025-06-23 12:35:41 AM</td>\n",
       "      <td>Monday</td>\n",
       "      <td>False</td>\n",
       "      <td>Summer</td>\n",
       "      <td>12:35 AM</td>\n",
       "      <td>Night</td>\n",
       "      <td>1100 E JEFFERSON ST</td>\n",
       "      <td>38.029165</td>\n",
       "      <td>-78.471373</td>\n",
       "    </tr>\n",
       "    <tr>\n",
       "      <th>1</th>\n",
       "      <td>2</td>\n",
       "      <td>Driving Under the Influence</td>\n",
       "      <td>202500021543</td>\n",
       "      <td></td>\n",
       "      <td>E HIGH ST @ LONG ST</td>\n",
       "      <td>CPD</td>\n",
       "      <td>1959</td>\n",
       "      <td>Carrasco, Julio</td>\n",
       "      <td>2025-06-22 19:59:22</td>\n",
       "      <td>2025-06-22 07:59:22 PM</td>\n",
       "      <td>Sunday</td>\n",
       "      <td>True</td>\n",
       "      <td>Summer</td>\n",
       "      <td>07:59 PM</td>\n",
       "      <td>Evening</td>\n",
       "      <td>E HIGH ST @ LONG ST</td>\n",
       "      <td>38.035035</td>\n",
       "      <td>-78.459430</td>\n",
       "    </tr>\n",
       "    <tr>\n",
       "      <th>2</th>\n",
       "      <td>3</td>\n",
       "      <td>Assault Simple</td>\n",
       "      <td>202500021538</td>\n",
       "      <td>500</td>\n",
       "      <td>CHERRY AVE</td>\n",
       "      <td>CPD</td>\n",
       "      <td>1902</td>\n",
       "      <td>Benbow, Lauren</td>\n",
       "      <td>2025-06-22 19:02:38</td>\n",
       "      <td>2025-06-22 07:02:38 PM</td>\n",
       "      <td>Sunday</td>\n",
       "      <td>True</td>\n",
       "      <td>Summer</td>\n",
       "      <td>07:02 PM</td>\n",
       "      <td>Evening</td>\n",
       "      <td>500 CHERRY AVE</td>\n",
       "      <td>38.026066</td>\n",
       "      <td>-78.490892</td>\n",
       "    </tr>\n",
       "    <tr>\n",
       "      <th>3</th>\n",
       "      <td>4</td>\n",
       "      <td>Motor Vehicle Theft</td>\n",
       "      <td>202500021514</td>\n",
       "      <td>2300</td>\n",
       "      <td>CENTER AVE, B</td>\n",
       "      <td>CPD</td>\n",
       "      <td>1501</td>\n",
       "      <td>Benbow, Lauren</td>\n",
       "      <td>2025-06-22 15:01:19</td>\n",
       "      <td>2025-06-22 03:01:19 PM</td>\n",
       "      <td>Sunday</td>\n",
       "      <td>True</td>\n",
       "      <td>Summer</td>\n",
       "      <td>03:01 PM</td>\n",
       "      <td>Afternoon</td>\n",
       "      <td>2300 CENTER AVE, B</td>\n",
       "      <td>NaN</td>\n",
       "      <td>NaN</td>\n",
       "    </tr>\n",
       "    <tr>\n",
       "      <th>4</th>\n",
       "      <td>5</td>\n",
       "      <td>Assault Aggravated</td>\n",
       "      <td>202500021512</td>\n",
       "      <td>100</td>\n",
       "      <td>CARLTON RD</td>\n",
       "      <td>CPD</td>\n",
       "      <td>1442</td>\n",
       "      <td>Kinney, Dylan</td>\n",
       "      <td>2025-06-22 14:42:18</td>\n",
       "      <td>2025-06-22 02:42:18 PM</td>\n",
       "      <td>Sunday</td>\n",
       "      <td>True</td>\n",
       "      <td>Summer</td>\n",
       "      <td>02:42 PM</td>\n",
       "      <td>Afternoon</td>\n",
       "      <td>100 CARLTON RD</td>\n",
       "      <td>38.026678</td>\n",
       "      <td>-78.468553</td>\n",
       "    </tr>\n",
       "  </tbody>\n",
       "</table>\n",
       "</div>"
      ],
      "text/plain": [
       "   RecordID                      Offense    IncidentID BlockNumber  \\\n",
       "0         1                    Vandalism  202500021557        1100   \n",
       "1         2  Driving Under the Influence  202500021543               \n",
       "2         3               Assault Simple  202500021538         500   \n",
       "3         4          Motor Vehicle Theft  202500021514        2300   \n",
       "4         5           Assault Aggravated  202500021512         100   \n",
       "\n",
       "            StreetName Agency HourReported ReportingOfficer  \\\n",
       "0       E JEFFERSON ST    CPD         0035   Wells, Matthew   \n",
       "1  E HIGH ST @ LONG ST    CPD         1959  Carrasco, Julio   \n",
       "2           CHERRY AVE    CPD         1902   Benbow, Lauren   \n",
       "3        CENTER AVE, B    CPD         1501   Benbow, Lauren   \n",
       "4           CARLTON RD    CPD         1442    Kinney, Dylan   \n",
       "\n",
       "                 Date              DateString DayOfWeek  Weekend  Season  \\\n",
       "0 2025-06-23 00:35:41  2025-06-23 12:35:41 AM    Monday    False  Summer   \n",
       "1 2025-06-22 19:59:22  2025-06-22 07:59:22 PM    Sunday     True  Summer   \n",
       "2 2025-06-22 19:02:38  2025-06-22 07:02:38 PM    Sunday     True  Summer   \n",
       "3 2025-06-22 15:01:19  2025-06-22 03:01:19 PM    Sunday     True  Summer   \n",
       "4 2025-06-22 14:42:18  2025-06-22 02:42:18 PM    Sunday     True  Summer   \n",
       "\n",
       "   HourAMPM  TimeOfDay            FullStreet        lat        lon  \n",
       "0  12:35 AM      Night   1100 E JEFFERSON ST  38.029165 -78.471373  \n",
       "1  07:59 PM    Evening   E HIGH ST @ LONG ST  38.035035 -78.459430  \n",
       "2  07:02 PM    Evening        500 CHERRY AVE  38.026066 -78.490892  \n",
       "3  03:01 PM  Afternoon    2300 CENTER AVE, B        NaN        NaN  \n",
       "4  02:42 PM  Afternoon        100 CARLTON RD  38.026678 -78.468553  "
      ]
     },
     "execution_count": 9,
     "metadata": {},
     "output_type": "execute_result"
    }
   ],
   "source": [
    "# Combine BlockNumber and StreetName into a full address string\n",
    "df['FullStreet'] = df['BlockNumber'].astype(str) + \" \" + df['StreetName']\n",
    "\n",
    "# --- Step 1: Setup the Google Maps Client and Cache ---\n",
    "gmaps = googlemaps.Client(key=GOOGLE_API_KEY)\n",
    "\n",
    "# Try to load cached geocoding results if available.\n",
    "try:\n",
    "    with open(\"geocode_cache_google.pkl\", \"rb\") as f:\n",
    "        street_coords = pickle.load(f)\n",
    "    print(\"Loaded geocode cache.\")\n",
    "except FileNotFoundError:\n",
    "    street_coords = {}\n",
    "    print(\"No cache found; starting fresh.\")\n",
    "\n",
    "def geocode_address(address):\n",
    "    try:\n",
    "        # Append city and state to help geocoding\n",
    "        result = gmaps.geocode(f\"{address}, Charlottesville, VA\")\n",
    "        if result:\n",
    "            lat = result[0]['geometry']['location']['lat']\n",
    "            lon = result[0]['geometry']['location']['lng']\n",
    "            return lat, lon\n",
    "    except Exception as e:\n",
    "        print(f\"Error geocoding {address}: {e}\")\n",
    "    return None, None\n",
    "\n",
    "# --- Step 2: Geocode Only New Addresses ---\n",
    "unique_addresses = df['FullStreet'].unique()\n",
    "for address in unique_addresses:\n",
    "    if address not in street_coords:\n",
    "        lat, lon = geocode_address(address)\n",
    "        street_coords[address] = (lat, lon)\n",
    "        print(f\"Geocoded {address}: {lat}, {lon}\")\n",
    "\n",
    "# Save the updated cache to disk.\n",
    "with open(\"geocode_cache_google.pkl\", \"wb\") as f:\n",
    "    pickle.dump(street_coords, f)\n",
    "    print(\"Geocode cache updated and saved.\")\n",
    "\n",
    "# --- Step 3: Map Coordinates Back to DataFrame ---\n",
    "df['lat'] = df['FullStreet'].map(lambda s: street_coords.get(s, (None, None))[0])\n",
    "df['lon'] = df['FullStreet'].map(lambda s: street_coords.get(s, (None, None))[1])\n",
    "\n",
    "df.head()"
   ]
  },
  {
   "cell_type": "markdown",
   "id": "7af38113",
   "metadata": {
    "papermill": {
     "duration": 0.004421,
     "end_time": "2025-06-25T01:06:58.553163",
     "exception": false,
     "start_time": "2025-06-25T01:06:58.548742",
     "status": "completed"
    },
    "tags": []
   },
   "source": [
    "### Neighborhood"
   ]
  },
  {
   "cell_type": "code",
   "execution_count": 10,
   "id": "c60d07ba",
   "metadata": {
    "execution": {
     "iopub.execute_input": "2025-06-25T01:06:58.563066Z",
     "iopub.status.busy": "2025-06-25T01:06:58.562565Z",
     "iopub.status.idle": "2025-06-25T01:06:59.504677Z",
     "shell.execute_reply": "2025-06-25T01:06:59.503926Z"
    },
    "papermill": {
     "duration": 0.948287,
     "end_time": "2025-06-25T01:06:59.505806",
     "exception": false,
     "start_time": "2025-06-25T01:06:58.557519",
     "status": "completed"
    },
    "tags": []
   },
   "outputs": [
    {
     "name": "stdout",
     "output_type": "stream",
     "text": [
      "Loaded neighborhood cache.\n"
     ]
    },
    {
     "name": "stdout",
     "output_type": "stream",
     "text": [
      "Error getting neighborhood for nan, nan: HTTP Error: 400\n",
      "Error getting neighborhood for nan, nan: HTTP Error: 400\n",
      "Error getting neighborhood for nan, nan: HTTP Error: 400\n"
     ]
    },
    {
     "name": "stdout",
     "output_type": "stream",
     "text": [
      "Error getting neighborhood for nan, nan: HTTP Error: 400\n",
      "Error getting neighborhood for nan, nan: HTTP Error: 400\n",
      "Error getting neighborhood for nan, nan: HTTP Error: 400\n",
      "Error getting neighborhood for nan, nan: HTTP Error: 400\n"
     ]
    },
    {
     "name": "stdout",
     "output_type": "stream",
     "text": [
      "Error getting neighborhood for nan, nan: HTTP Error: 400\n",
      "Error getting neighborhood for nan, nan: HTTP Error: 400\n",
      "Error getting neighborhood for nan, nan: HTTP Error: 400\n",
      "Error getting neighborhood for nan, nan: HTTP Error: 400\n"
     ]
    },
    {
     "name": "stdout",
     "output_type": "stream",
     "text": [
      "Error getting neighborhood for nan, nan: HTTP Error: 400\n",
      "Error getting neighborhood for nan, nan: HTTP Error: 400\n",
      "Error getting neighborhood for nan, nan: HTTP Error: 400\n",
      "Error getting neighborhood for nan, nan: HTTP Error: 400\n",
      "Error getting neighborhood for nan, nan: HTTP Error: 400\n"
     ]
    },
    {
     "name": "stdout",
     "output_type": "stream",
     "text": [
      "Error getting neighborhood for nan, nan: HTTP Error: 400\n",
      "Error getting neighborhood for nan, nan: HTTP Error: 400\n",
      "Error getting neighborhood for nan, nan: HTTP Error: 400\n",
      "Error getting neighborhood for nan, nan: HTTP Error: 400\n",
      "Error getting neighborhood for nan, nan: HTTP Error: 400\n",
      "Error getting neighborhood for nan, nan: HTTP Error: 400\n"
     ]
    },
    {
     "name": "stdout",
     "output_type": "stream",
     "text": [
      "Error getting neighborhood for nan, nan: HTTP Error: 400\n",
      "Error getting neighborhood for nan, nan: HTTP Error: 400\n",
      "Error getting neighborhood for nan, nan: HTTP Error: 400\n",
      "Error getting neighborhood for nan, nan: HTTP Error: 400\n",
      "Error getting neighborhood for nan, nan: HTTP Error: 400\n"
     ]
    },
    {
     "name": "stdout",
     "output_type": "stream",
     "text": [
      "Error getting neighborhood for nan, nan: HTTP Error: 400\n"
     ]
    },
    {
     "data": {
      "text/html": [
       "<div>\n",
       "<style scoped>\n",
       "    .dataframe tbody tr th:only-of-type {\n",
       "        vertical-align: middle;\n",
       "    }\n",
       "\n",
       "    .dataframe tbody tr th {\n",
       "        vertical-align: top;\n",
       "    }\n",
       "\n",
       "    .dataframe thead th {\n",
       "        text-align: right;\n",
       "    }\n",
       "</style>\n",
       "<table border=\"1\" class=\"dataframe\">\n",
       "  <thead>\n",
       "    <tr style=\"text-align: right;\">\n",
       "      <th></th>\n",
       "      <th>RecordID</th>\n",
       "      <th>Offense</th>\n",
       "      <th>IncidentID</th>\n",
       "      <th>BlockNumber</th>\n",
       "      <th>StreetName</th>\n",
       "      <th>Agency</th>\n",
       "      <th>HourReported</th>\n",
       "      <th>ReportingOfficer</th>\n",
       "      <th>Date</th>\n",
       "      <th>DateString</th>\n",
       "      <th>DayOfWeek</th>\n",
       "      <th>Weekend</th>\n",
       "      <th>Season</th>\n",
       "      <th>HourAMPM</th>\n",
       "      <th>TimeOfDay</th>\n",
       "      <th>FullStreet</th>\n",
       "      <th>lat</th>\n",
       "      <th>lon</th>\n",
       "      <th>neighborhood</th>\n",
       "    </tr>\n",
       "  </thead>\n",
       "  <tbody>\n",
       "    <tr>\n",
       "      <th>0</th>\n",
       "      <td>1</td>\n",
       "      <td>Vandalism</td>\n",
       "      <td>202500021557</td>\n",
       "      <td>1100</td>\n",
       "      <td>E JEFFERSON ST</td>\n",
       "      <td>CPD</td>\n",
       "      <td>0035</td>\n",
       "      <td>Wells, Matthew</td>\n",
       "      <td>2025-06-23 00:35:41</td>\n",
       "      <td>2025-06-23 12:35:41 AM</td>\n",
       "      <td>Monday</td>\n",
       "      <td>False</td>\n",
       "      <td>Summer</td>\n",
       "      <td>12:35 AM</td>\n",
       "      <td>Night</td>\n",
       "      <td>1100 E JEFFERSON ST</td>\n",
       "      <td>38.029165</td>\n",
       "      <td>-78.471373</td>\n",
       "      <td>Martha Jefferson</td>\n",
       "    </tr>\n",
       "    <tr>\n",
       "      <th>1</th>\n",
       "      <td>2</td>\n",
       "      <td>Driving Under the Influence</td>\n",
       "      <td>202500021543</td>\n",
       "      <td></td>\n",
       "      <td>E HIGH ST @ LONG ST</td>\n",
       "      <td>CPD</td>\n",
       "      <td>1959</td>\n",
       "      <td>Carrasco, Julio</td>\n",
       "      <td>2025-06-22 19:59:22</td>\n",
       "      <td>2025-06-22 07:59:22 PM</td>\n",
       "      <td>Sunday</td>\n",
       "      <td>True</td>\n",
       "      <td>Summer</td>\n",
       "      <td>07:59 PM</td>\n",
       "      <td>Evening</td>\n",
       "      <td>E HIGH ST @ LONG ST</td>\n",
       "      <td>38.035035</td>\n",
       "      <td>-78.459430</td>\n",
       "      <td>Woolen Mills</td>\n",
       "    </tr>\n",
       "    <tr>\n",
       "      <th>2</th>\n",
       "      <td>3</td>\n",
       "      <td>Assault Simple</td>\n",
       "      <td>202500021538</td>\n",
       "      <td>500</td>\n",
       "      <td>CHERRY AVE</td>\n",
       "      <td>CPD</td>\n",
       "      <td>1902</td>\n",
       "      <td>Benbow, Lauren</td>\n",
       "      <td>2025-06-22 19:02:38</td>\n",
       "      <td>2025-06-22 07:02:38 PM</td>\n",
       "      <td>Sunday</td>\n",
       "      <td>True</td>\n",
       "      <td>Summer</td>\n",
       "      <td>07:02 PM</td>\n",
       "      <td>Evening</td>\n",
       "      <td>500 CHERRY AVE</td>\n",
       "      <td>38.026066</td>\n",
       "      <td>-78.490892</td>\n",
       "      <td>Fifeville</td>\n",
       "    </tr>\n",
       "    <tr>\n",
       "      <th>3</th>\n",
       "      <td>4</td>\n",
       "      <td>Motor Vehicle Theft</td>\n",
       "      <td>202500021514</td>\n",
       "      <td>2300</td>\n",
       "      <td>CENTER AVE, B</td>\n",
       "      <td>CPD</td>\n",
       "      <td>1501</td>\n",
       "      <td>Benbow, Lauren</td>\n",
       "      <td>2025-06-22 15:01:19</td>\n",
       "      <td>2025-06-22 03:01:19 PM</td>\n",
       "      <td>Sunday</td>\n",
       "      <td>True</td>\n",
       "      <td>Summer</td>\n",
       "      <td>03:01 PM</td>\n",
       "      <td>Afternoon</td>\n",
       "      <td>2300 CENTER AVE, B</td>\n",
       "      <td>NaN</td>\n",
       "      <td>NaN</td>\n",
       "      <td>N/A</td>\n",
       "    </tr>\n",
       "    <tr>\n",
       "      <th>4</th>\n",
       "      <td>5</td>\n",
       "      <td>Assault Aggravated</td>\n",
       "      <td>202500021512</td>\n",
       "      <td>100</td>\n",
       "      <td>CARLTON RD</td>\n",
       "      <td>CPD</td>\n",
       "      <td>1442</td>\n",
       "      <td>Kinney, Dylan</td>\n",
       "      <td>2025-06-22 14:42:18</td>\n",
       "      <td>2025-06-22 02:42:18 PM</td>\n",
       "      <td>Sunday</td>\n",
       "      <td>True</td>\n",
       "      <td>Summer</td>\n",
       "      <td>02:42 PM</td>\n",
       "      <td>Afternoon</td>\n",
       "      <td>100 CARLTON RD</td>\n",
       "      <td>38.026678</td>\n",
       "      <td>-78.468553</td>\n",
       "      <td>Martha Jefferson</td>\n",
       "    </tr>\n",
       "  </tbody>\n",
       "</table>\n",
       "</div>"
      ],
      "text/plain": [
       "   RecordID                      Offense    IncidentID BlockNumber  \\\n",
       "0         1                    Vandalism  202500021557        1100   \n",
       "1         2  Driving Under the Influence  202500021543               \n",
       "2         3               Assault Simple  202500021538         500   \n",
       "3         4          Motor Vehicle Theft  202500021514        2300   \n",
       "4         5           Assault Aggravated  202500021512         100   \n",
       "\n",
       "            StreetName Agency HourReported ReportingOfficer  \\\n",
       "0       E JEFFERSON ST    CPD         0035   Wells, Matthew   \n",
       "1  E HIGH ST @ LONG ST    CPD         1959  Carrasco, Julio   \n",
       "2           CHERRY AVE    CPD         1902   Benbow, Lauren   \n",
       "3        CENTER AVE, B    CPD         1501   Benbow, Lauren   \n",
       "4           CARLTON RD    CPD         1442    Kinney, Dylan   \n",
       "\n",
       "                 Date              DateString DayOfWeek  Weekend  Season  \\\n",
       "0 2025-06-23 00:35:41  2025-06-23 12:35:41 AM    Monday    False  Summer   \n",
       "1 2025-06-22 19:59:22  2025-06-22 07:59:22 PM    Sunday     True  Summer   \n",
       "2 2025-06-22 19:02:38  2025-06-22 07:02:38 PM    Sunday     True  Summer   \n",
       "3 2025-06-22 15:01:19  2025-06-22 03:01:19 PM    Sunday     True  Summer   \n",
       "4 2025-06-22 14:42:18  2025-06-22 02:42:18 PM    Sunday     True  Summer   \n",
       "\n",
       "   HourAMPM  TimeOfDay            FullStreet        lat        lon  \\\n",
       "0  12:35 AM      Night   1100 E JEFFERSON ST  38.029165 -78.471373   \n",
       "1  07:59 PM    Evening   E HIGH ST @ LONG ST  38.035035 -78.459430   \n",
       "2  07:02 PM    Evening        500 CHERRY AVE  38.026066 -78.490892   \n",
       "3  03:01 PM  Afternoon    2300 CENTER AVE, B        NaN        NaN   \n",
       "4  02:42 PM  Afternoon        100 CARLTON RD  38.026678 -78.468553   \n",
       "\n",
       "       neighborhood  \n",
       "0  Martha Jefferson  \n",
       "1      Woolen Mills  \n",
       "2         Fifeville  \n",
       "3               N/A  \n",
       "4  Martha Jefferson  "
      ]
     },
     "execution_count": 10,
     "metadata": {},
     "output_type": "execute_result"
    }
   ],
   "source": [
    "# Initialize the Google Maps client.\n",
    "gmaps = googlemaps.Client(key=GOOGLE_API_KEY)\n",
    "\n",
    "# Try to load a persistent neighborhood cache if available.\n",
    "try:\n",
    "    with open(\"neighborhood_cache.pkl\", \"rb\") as f:\n",
    "        neighborhood_cache = pickle.load(f)\n",
    "    print(\"Loaded neighborhood cache.\")\n",
    "except FileNotFoundError:\n",
    "    neighborhood_cache = {}\n",
    "    print(\"No neighborhood cache found; starting fresh.\")\n",
    "\n",
    "def get_neighborhood(lat, lon):\n",
    "    \"\"\"\n",
    "    Reverse geocodes a latitude and longitude to retrieve the neighborhood.\n",
    "    Caches results to speed up subsequent lookups.\n",
    "    \"\"\"\n",
    "    key = (lat, lon)\n",
    "    if key in neighborhood_cache:\n",
    "        return neighborhood_cache[key]\n",
    "    \n",
    "    try:\n",
    "        result = gmaps.reverse_geocode((lat, lon))\n",
    "        if result:\n",
    "            # Look for the 'neighborhood' component in the first result.\n",
    "            for component in result[0]['address_components']:\n",
    "                if 'neighborhood' in component['types']:\n",
    "                    neighborhood = component['long_name']\n",
    "                    neighborhood_cache[key] = neighborhood\n",
    "                    return neighborhood\n",
    "            # If no neighborhood is found, return \"N/A\"\n",
    "            neighborhood_cache[key] = \"N/A\"\n",
    "            return \"N/A\"\n",
    "    except Exception as e:\n",
    "        print(f\"Error getting neighborhood for {lat}, {lon}: {e}\")\n",
    "        return \"N/A\"\n",
    "    \n",
    "    # Pause to respect usage limits.\n",
    "    time.sleep(1)\n",
    "\n",
    "# Example usage: Apply to your DataFrame 'df' that already has 'lat' and 'lon' columns.\n",
    "df['neighborhood'] = df.apply(lambda row: get_neighborhood(row['lat'], row['lon']), axis=1)\n",
    "\n",
    "# Save the updated neighborhood cache.\n",
    "with open(\"neighborhood_cache.pkl\", \"wb\") as f:\n",
    "    pickle.dump(neighborhood_cache, f)\n",
    "\n",
    "df.head()\n"
   ]
  },
  {
   "cell_type": "markdown",
   "id": "a6f0bafa",
   "metadata": {
    "papermill": {
     "duration": 0.005042,
     "end_time": "2025-06-25T01:06:59.516362",
     "exception": false,
     "start_time": "2025-06-25T01:06:59.511320",
     "status": "completed"
    },
    "tags": []
   },
   "source": [
    "### Zip"
   ]
  },
  {
   "cell_type": "code",
   "execution_count": 11,
   "id": "7d9f20ad",
   "metadata": {
    "execution": {
     "iopub.execute_input": "2025-06-25T01:06:59.527546Z",
     "iopub.status.busy": "2025-06-25T01:06:59.527063Z",
     "iopub.status.idle": "2025-06-25T01:07:27.808495Z",
     "shell.execute_reply": "2025-06-25T01:07:27.807889Z"
    },
    "papermill": {
     "duration": 28.288216,
     "end_time": "2025-06-25T01:07:27.809516",
     "exception": false,
     "start_time": "2025-06-25T01:06:59.521300",
     "status": "completed"
    },
    "tags": []
   },
   "outputs": [
    {
     "name": "stdout",
     "output_type": "stream",
     "text": [
      "Loaded zip cache.\n",
      "Error getting ZIP for nan, nan: Must be a coordinate pair or Point\n"
     ]
    },
    {
     "name": "stdout",
     "output_type": "stream",
     "text": [
      "Error getting ZIP for nan, nan: Must be a coordinate pair or Point\n"
     ]
    },
    {
     "name": "stdout",
     "output_type": "stream",
     "text": [
      "Error getting ZIP for nan, nan: Must be a coordinate pair or Point\n"
     ]
    },
    {
     "name": "stdout",
     "output_type": "stream",
     "text": [
      "Error getting ZIP for nan, nan: Must be a coordinate pair or Point\n"
     ]
    },
    {
     "name": "stdout",
     "output_type": "stream",
     "text": [
      "Error getting ZIP for nan, nan: Must be a coordinate pair or Point\n"
     ]
    },
    {
     "name": "stdout",
     "output_type": "stream",
     "text": [
      "Error getting ZIP for nan, nan: Must be a coordinate pair or Point\n"
     ]
    },
    {
     "name": "stdout",
     "output_type": "stream",
     "text": [
      "Error getting ZIP for nan, nan: Must be a coordinate pair or Point\n"
     ]
    },
    {
     "name": "stdout",
     "output_type": "stream",
     "text": [
      "Error getting ZIP for nan, nan: Must be a coordinate pair or Point\n"
     ]
    },
    {
     "name": "stdout",
     "output_type": "stream",
     "text": [
      "Error getting ZIP for nan, nan: Must be a coordinate pair or Point\n"
     ]
    },
    {
     "name": "stdout",
     "output_type": "stream",
     "text": [
      "Error getting ZIP for nan, nan: Must be a coordinate pair or Point\n"
     ]
    },
    {
     "name": "stdout",
     "output_type": "stream",
     "text": [
      "Error getting ZIP for nan, nan: Must be a coordinate pair or Point\n"
     ]
    },
    {
     "name": "stdout",
     "output_type": "stream",
     "text": [
      "Error getting ZIP for nan, nan: Must be a coordinate pair or Point\n"
     ]
    },
    {
     "name": "stdout",
     "output_type": "stream",
     "text": [
      "Error getting ZIP for nan, nan: Must be a coordinate pair or Point\n"
     ]
    },
    {
     "name": "stdout",
     "output_type": "stream",
     "text": [
      "Error getting ZIP for nan, nan: Must be a coordinate pair or Point\n"
     ]
    },
    {
     "name": "stdout",
     "output_type": "stream",
     "text": [
      "Error getting ZIP for nan, nan: Must be a coordinate pair or Point\n"
     ]
    },
    {
     "name": "stdout",
     "output_type": "stream",
     "text": [
      "Error getting ZIP for nan, nan: Must be a coordinate pair or Point\n"
     ]
    },
    {
     "name": "stdout",
     "output_type": "stream",
     "text": [
      "Error getting ZIP for nan, nan: Must be a coordinate pair or Point\n"
     ]
    },
    {
     "name": "stdout",
     "output_type": "stream",
     "text": [
      "Error getting ZIP for nan, nan: Must be a coordinate pair or Point\n"
     ]
    },
    {
     "name": "stdout",
     "output_type": "stream",
     "text": [
      "Error getting ZIP for nan, nan: Must be a coordinate pair or Point\n"
     ]
    },
    {
     "name": "stdout",
     "output_type": "stream",
     "text": [
      "Error getting ZIP for nan, nan: Must be a coordinate pair or Point\n"
     ]
    },
    {
     "name": "stdout",
     "output_type": "stream",
     "text": [
      "Error getting ZIP for nan, nan: Must be a coordinate pair or Point\n"
     ]
    },
    {
     "name": "stdout",
     "output_type": "stream",
     "text": [
      "Error getting ZIP for nan, nan: Must be a coordinate pair or Point\n"
     ]
    },
    {
     "name": "stdout",
     "output_type": "stream",
     "text": [
      "Error getting ZIP for nan, nan: Must be a coordinate pair or Point\n"
     ]
    },
    {
     "name": "stdout",
     "output_type": "stream",
     "text": [
      "Error getting ZIP for nan, nan: Must be a coordinate pair or Point\n"
     ]
    },
    {
     "name": "stdout",
     "output_type": "stream",
     "text": [
      "Error getting ZIP for nan, nan: Must be a coordinate pair or Point\n"
     ]
    },
    {
     "name": "stdout",
     "output_type": "stream",
     "text": [
      "Error getting ZIP for nan, nan: Must be a coordinate pair or Point\n"
     ]
    },
    {
     "name": "stdout",
     "output_type": "stream",
     "text": [
      "Error getting ZIP for nan, nan: Must be a coordinate pair or Point\n"
     ]
    },
    {
     "name": "stdout",
     "output_type": "stream",
     "text": [
      "Error getting ZIP for nan, nan: Must be a coordinate pair or Point\n"
     ]
    },
    {
     "data": {
      "text/html": [
       "<div>\n",
       "<style scoped>\n",
       "    .dataframe tbody tr th:only-of-type {\n",
       "        vertical-align: middle;\n",
       "    }\n",
       "\n",
       "    .dataframe tbody tr th {\n",
       "        vertical-align: top;\n",
       "    }\n",
       "\n",
       "    .dataframe thead th {\n",
       "        text-align: right;\n",
       "    }\n",
       "</style>\n",
       "<table border=\"1\" class=\"dataframe\">\n",
       "  <thead>\n",
       "    <tr style=\"text-align: right;\">\n",
       "      <th></th>\n",
       "      <th>RecordID</th>\n",
       "      <th>Offense</th>\n",
       "      <th>IncidentID</th>\n",
       "      <th>BlockNumber</th>\n",
       "      <th>StreetName</th>\n",
       "      <th>Agency</th>\n",
       "      <th>HourReported</th>\n",
       "      <th>ReportingOfficer</th>\n",
       "      <th>Date</th>\n",
       "      <th>DateString</th>\n",
       "      <th>DayOfWeek</th>\n",
       "      <th>Weekend</th>\n",
       "      <th>Season</th>\n",
       "      <th>HourAMPM</th>\n",
       "      <th>TimeOfDay</th>\n",
       "      <th>FullStreet</th>\n",
       "      <th>lat</th>\n",
       "      <th>lon</th>\n",
       "      <th>neighborhood</th>\n",
       "      <th>zip</th>\n",
       "    </tr>\n",
       "  </thead>\n",
       "  <tbody>\n",
       "    <tr>\n",
       "      <th>0</th>\n",
       "      <td>1</td>\n",
       "      <td>Vandalism</td>\n",
       "      <td>202500021557</td>\n",
       "      <td>1100</td>\n",
       "      <td>E JEFFERSON ST</td>\n",
       "      <td>CPD</td>\n",
       "      <td>0035</td>\n",
       "      <td>Wells, Matthew</td>\n",
       "      <td>2025-06-23 00:35:41</td>\n",
       "      <td>2025-06-23 12:35:41 AM</td>\n",
       "      <td>Monday</td>\n",
       "      <td>False</td>\n",
       "      <td>Summer</td>\n",
       "      <td>12:35 AM</td>\n",
       "      <td>Night</td>\n",
       "      <td>1100 E JEFFERSON ST</td>\n",
       "      <td>38.029165</td>\n",
       "      <td>-78.471373</td>\n",
       "      <td>Martha Jefferson</td>\n",
       "      <td>22902</td>\n",
       "    </tr>\n",
       "    <tr>\n",
       "      <th>1</th>\n",
       "      <td>2</td>\n",
       "      <td>Driving Under the Influence</td>\n",
       "      <td>202500021543</td>\n",
       "      <td></td>\n",
       "      <td>E HIGH ST @ LONG ST</td>\n",
       "      <td>CPD</td>\n",
       "      <td>1959</td>\n",
       "      <td>Carrasco, Julio</td>\n",
       "      <td>2025-06-22 19:59:22</td>\n",
       "      <td>2025-06-22 07:59:22 PM</td>\n",
       "      <td>Sunday</td>\n",
       "      <td>True</td>\n",
       "      <td>Summer</td>\n",
       "      <td>07:59 PM</td>\n",
       "      <td>Evening</td>\n",
       "      <td>E HIGH ST @ LONG ST</td>\n",
       "      <td>38.035035</td>\n",
       "      <td>-78.459430</td>\n",
       "      <td>Woolen Mills</td>\n",
       "      <td>22909</td>\n",
       "    </tr>\n",
       "    <tr>\n",
       "      <th>2</th>\n",
       "      <td>3</td>\n",
       "      <td>Assault Simple</td>\n",
       "      <td>202500021538</td>\n",
       "      <td>500</td>\n",
       "      <td>CHERRY AVE</td>\n",
       "      <td>CPD</td>\n",
       "      <td>1902</td>\n",
       "      <td>Benbow, Lauren</td>\n",
       "      <td>2025-06-22 19:02:38</td>\n",
       "      <td>2025-06-22 07:02:38 PM</td>\n",
       "      <td>Sunday</td>\n",
       "      <td>True</td>\n",
       "      <td>Summer</td>\n",
       "      <td>07:02 PM</td>\n",
       "      <td>Evening</td>\n",
       "      <td>500 CHERRY AVE</td>\n",
       "      <td>38.026066</td>\n",
       "      <td>-78.490892</td>\n",
       "      <td>Fifeville</td>\n",
       "      <td>22903</td>\n",
       "    </tr>\n",
       "    <tr>\n",
       "      <th>3</th>\n",
       "      <td>4</td>\n",
       "      <td>Motor Vehicle Theft</td>\n",
       "      <td>202500021514</td>\n",
       "      <td>2300</td>\n",
       "      <td>CENTER AVE, B</td>\n",
       "      <td>CPD</td>\n",
       "      <td>1501</td>\n",
       "      <td>Benbow, Lauren</td>\n",
       "      <td>2025-06-22 15:01:19</td>\n",
       "      <td>2025-06-22 03:01:19 PM</td>\n",
       "      <td>Sunday</td>\n",
       "      <td>True</td>\n",
       "      <td>Summer</td>\n",
       "      <td>03:01 PM</td>\n",
       "      <td>Afternoon</td>\n",
       "      <td>2300 CENTER AVE, B</td>\n",
       "      <td>NaN</td>\n",
       "      <td>NaN</td>\n",
       "      <td>N/A</td>\n",
       "      <td>N/A</td>\n",
       "    </tr>\n",
       "    <tr>\n",
       "      <th>4</th>\n",
       "      <td>5</td>\n",
       "      <td>Assault Aggravated</td>\n",
       "      <td>202500021512</td>\n",
       "      <td>100</td>\n",
       "      <td>CARLTON RD</td>\n",
       "      <td>CPD</td>\n",
       "      <td>1442</td>\n",
       "      <td>Kinney, Dylan</td>\n",
       "      <td>2025-06-22 14:42:18</td>\n",
       "      <td>2025-06-22 02:42:18 PM</td>\n",
       "      <td>Sunday</td>\n",
       "      <td>True</td>\n",
       "      <td>Summer</td>\n",
       "      <td>02:42 PM</td>\n",
       "      <td>Afternoon</td>\n",
       "      <td>100 CARLTON RD</td>\n",
       "      <td>38.026678</td>\n",
       "      <td>-78.468553</td>\n",
       "      <td>Martha Jefferson</td>\n",
       "      <td>22902</td>\n",
       "    </tr>\n",
       "  </tbody>\n",
       "</table>\n",
       "</div>"
      ],
      "text/plain": [
       "   RecordID                      Offense    IncidentID BlockNumber  \\\n",
       "0         1                    Vandalism  202500021557        1100   \n",
       "1         2  Driving Under the Influence  202500021543               \n",
       "2         3               Assault Simple  202500021538         500   \n",
       "3         4          Motor Vehicle Theft  202500021514        2300   \n",
       "4         5           Assault Aggravated  202500021512         100   \n",
       "\n",
       "            StreetName Agency HourReported ReportingOfficer  \\\n",
       "0       E JEFFERSON ST    CPD         0035   Wells, Matthew   \n",
       "1  E HIGH ST @ LONG ST    CPD         1959  Carrasco, Julio   \n",
       "2           CHERRY AVE    CPD         1902   Benbow, Lauren   \n",
       "3        CENTER AVE, B    CPD         1501   Benbow, Lauren   \n",
       "4           CARLTON RD    CPD         1442    Kinney, Dylan   \n",
       "\n",
       "                 Date              DateString DayOfWeek  Weekend  Season  \\\n",
       "0 2025-06-23 00:35:41  2025-06-23 12:35:41 AM    Monday    False  Summer   \n",
       "1 2025-06-22 19:59:22  2025-06-22 07:59:22 PM    Sunday     True  Summer   \n",
       "2 2025-06-22 19:02:38  2025-06-22 07:02:38 PM    Sunday     True  Summer   \n",
       "3 2025-06-22 15:01:19  2025-06-22 03:01:19 PM    Sunday     True  Summer   \n",
       "4 2025-06-22 14:42:18  2025-06-22 02:42:18 PM    Sunday     True  Summer   \n",
       "\n",
       "   HourAMPM  TimeOfDay            FullStreet        lat        lon  \\\n",
       "0  12:35 AM      Night   1100 E JEFFERSON ST  38.029165 -78.471373   \n",
       "1  07:59 PM    Evening   E HIGH ST @ LONG ST  38.035035 -78.459430   \n",
       "2  07:02 PM    Evening        500 CHERRY AVE  38.026066 -78.490892   \n",
       "3  03:01 PM  Afternoon    2300 CENTER AVE, B        NaN        NaN   \n",
       "4  02:42 PM  Afternoon        100 CARLTON RD  38.026678 -78.468553   \n",
       "\n",
       "       neighborhood    zip  \n",
       "0  Martha Jefferson  22902  \n",
       "1      Woolen Mills  22909  \n",
       "2         Fifeville  22903  \n",
       "3               N/A    N/A  \n",
       "4  Martha Jefferson  22902  "
      ]
     },
     "execution_count": 11,
     "metadata": {},
     "output_type": "execute_result"
    }
   ],
   "source": [
    "# Initialize the geocoder.\n",
    "geolocator = Nominatim(user_agent=\"zip_lookup\")\n",
    "\n",
    "# Try to load a persistent ZIP cache if available.\n",
    "try:\n",
    "    with open(\"zip_cache.pkl\", \"rb\") as f:\n",
    "        zip_cache = pickle.load(f)\n",
    "    print(\"Loaded zip cache.\")\n",
    "except FileNotFoundError:\n",
    "    zip_cache = {}\n",
    "    print(\"No zip cache found; starting fresh.\")\n",
    "\n",
    "def get_zip(lat, lon):\n",
    "    \"\"\"\n",
    "    Reverse geocodes a latitude and longitude to retrieve the ZIP code.\n",
    "    Caches results to speed up subsequent lookups.\n",
    "    \"\"\"\n",
    "    key = (lat, lon)\n",
    "    if key in zip_cache:\n",
    "        return zip_cache[key]\n",
    "    \n",
    "    try:\n",
    "        location = geolocator.reverse((lat, lon), exactly_one=True, timeout=10)\n",
    "        address = location.raw.get('address', {})\n",
    "        postal_code = address.get('postcode', \"N/A\")\n",
    "    except Exception as e:\n",
    "        print(f\"Error getting ZIP for {lat}, {lon}: {e}\")\n",
    "        postal_code = \"N/A\"\n",
    "    \n",
    "    zip_cache[key] = postal_code\n",
    "    # Pause to respect the usage policy.\n",
    "    time.sleep(1)\n",
    "    return postal_code\n",
    "\n",
    "# Apply the function to each row in the DataFrame.\n",
    "df['zip'] = df.apply(lambda row: get_zip(row['lat'], row['lon']), axis=1)\n",
    "\n",
    "# Save the updated ZIP cache.\n",
    "with open(\"zip_cache.pkl\", \"wb\") as f:\n",
    "    pickle.dump(zip_cache, f)\n",
    "\n",
    "df.head()\n"
   ]
  },
  {
   "cell_type": "code",
   "execution_count": 12,
   "id": "9940857d",
   "metadata": {
    "execution": {
     "iopub.execute_input": "2025-06-25T01:07:27.823776Z",
     "iopub.status.busy": "2025-06-25T01:07:27.823303Z",
     "iopub.status.idle": "2025-06-25T01:07:27.851994Z",
     "shell.execute_reply": "2025-06-25T01:07:27.851424Z"
    },
    "papermill": {
     "duration": 0.036573,
     "end_time": "2025-06-25T01:07:27.852972",
     "exception": false,
     "start_time": "2025-06-25T01:07:27.816399",
     "status": "completed"
    },
    "tags": []
   },
   "outputs": [
    {
     "name": "stdout",
     "output_type": "stream",
     "text": [
      "                  MissingCount  MissingPercentage\n",
      "RecordID                     0               0.00\n",
      "Offense                      0               0.00\n",
      "IncidentID                   0               0.00\n",
      "BlockNumber                  0               0.00\n",
      "StreetName                   0               0.00\n",
      "Agency                       0               0.00\n",
      "HourReported                 0               0.00\n",
      "ReportingOfficer            17               0.07\n",
      "Date                         0               0.00\n",
      "DateString                   0               0.00\n",
      "DayOfWeek                    0               0.00\n",
      "Weekend                      0               0.00\n",
      "Season                       0               0.00\n",
      "HourAMPM                     0               0.00\n",
      "TimeOfDay                    0               0.00\n",
      "FullStreet                   0               0.00\n",
      "lat                         28               0.11\n",
      "lon                         28               0.11\n",
      "neighborhood                 0               0.00\n",
      "zip                          0               0.00\n"
     ]
    }
   ],
   "source": [
    "missing_info = missing_percentage(df)\n",
    "print(missing_info)\n"
   ]
  },
  {
   "cell_type": "code",
   "execution_count": 13,
   "id": "7e5f2533",
   "metadata": {
    "execution": {
     "iopub.execute_input": "2025-06-25T01:07:27.867303Z",
     "iopub.status.busy": "2025-06-25T01:07:27.866760Z",
     "iopub.status.idle": "2025-06-25T01:07:27.897756Z",
     "shell.execute_reply": "2025-06-25T01:07:27.897213Z"
    },
    "papermill": {
     "duration": 0.039211,
     "end_time": "2025-06-25T01:07:27.898847",
     "exception": false,
     "start_time": "2025-06-25T01:07:27.859636",
     "status": "completed"
    },
    "tags": []
   },
   "outputs": [
    {
     "name": "stdout",
     "output_type": "stream",
     "text": [
      "<class 'pandas.core.frame.DataFrame'>\n",
      "RangeIndex: 25539 entries, 0 to 25538\n",
      "Data columns (total 20 columns):\n",
      " #   Column            Non-Null Count  Dtype         \n",
      "---  ------            --------------  -----         \n",
      " 0   RecordID          25539 non-null  int64         \n",
      " 1   Offense           25539 non-null  object        \n",
      " 2   IncidentID        25539 non-null  object        \n",
      " 3   BlockNumber       25539 non-null  object        \n",
      " 4   StreetName        25539 non-null  object        \n",
      " 5   Agency            25539 non-null  object        \n",
      " 6   HourReported      25539 non-null  object        \n",
      " 7   ReportingOfficer  25522 non-null  object        \n",
      " 8   Date              25539 non-null  datetime64[ns]\n",
      " 9   DateString        25539 non-null  object        \n",
      " 10  DayOfWeek         25539 non-null  object        \n",
      " 11  Weekend           25539 non-null  bool          \n",
      " 12  Season            25539 non-null  object        \n",
      " 13  HourAMPM          25539 non-null  object        \n",
      " 14  TimeOfDay         25539 non-null  object        \n",
      " 15  FullStreet        25539 non-null  object        \n",
      " 16  lat               25511 non-null  float64       \n",
      " 17  lon               25511 non-null  float64       \n",
      " 18  neighborhood      25539 non-null  object        \n",
      " 19  zip               25539 non-null  object        \n",
      "dtypes: bool(1), datetime64[ns](1), float64(2), int64(1), object(15)\n",
      "memory usage: 3.7+ MB\n"
     ]
    }
   ],
   "source": [
    "df.info()"
   ]
  },
  {
   "cell_type": "code",
   "execution_count": 14,
   "id": "0a1ddba2",
   "metadata": {
    "execution": {
     "iopub.execute_input": "2025-06-25T01:07:27.913098Z",
     "iopub.status.busy": "2025-06-25T01:07:27.912846Z",
     "iopub.status.idle": "2025-06-25T01:07:27.958401Z",
     "shell.execute_reply": "2025-06-25T01:07:27.957772Z"
    },
    "papermill": {
     "duration": 0.053917,
     "end_time": "2025-06-25T01:07:27.959521",
     "exception": false,
     "start_time": "2025-06-25T01:07:27.905604",
     "status": "completed"
    },
    "tags": []
   },
   "outputs": [
    {
     "data": {
      "text/html": [
       "<div>\n",
       "<style scoped>\n",
       "    .dataframe tbody tr th:only-of-type {\n",
       "        vertical-align: middle;\n",
       "    }\n",
       "\n",
       "    .dataframe tbody tr th {\n",
       "        vertical-align: top;\n",
       "    }\n",
       "\n",
       "    .dataframe thead th {\n",
       "        text-align: right;\n",
       "    }\n",
       "</style>\n",
       "<table border=\"1\" class=\"dataframe\">\n",
       "  <thead>\n",
       "    <tr style=\"text-align: right;\">\n",
       "      <th></th>\n",
       "      <th>RecordID</th>\n",
       "      <th>Offense</th>\n",
       "      <th>IncidentID</th>\n",
       "      <th>Agency</th>\n",
       "      <th>ReportingOfficer</th>\n",
       "      <th>Date</th>\n",
       "      <th>DayOfWeek</th>\n",
       "      <th>Weekend</th>\n",
       "      <th>Season</th>\n",
       "      <th>TimeOfDay</th>\n",
       "      <th>FullStreet</th>\n",
       "      <th>lat</th>\n",
       "      <th>lon</th>\n",
       "      <th>neighborhood</th>\n",
       "      <th>zip</th>\n",
       "    </tr>\n",
       "  </thead>\n",
       "  <tbody>\n",
       "    <tr>\n",
       "      <th>0</th>\n",
       "      <td>1</td>\n",
       "      <td>Vandalism</td>\n",
       "      <td>202500021557</td>\n",
       "      <td>CPD</td>\n",
       "      <td>Wells, Matthew</td>\n",
       "      <td>2025-06-23 00:35:41</td>\n",
       "      <td>Monday</td>\n",
       "      <td>False</td>\n",
       "      <td>Summer</td>\n",
       "      <td>Night</td>\n",
       "      <td>1100 E JEFFERSON ST</td>\n",
       "      <td>38.029165</td>\n",
       "      <td>-78.471373</td>\n",
       "      <td>Martha Jefferson</td>\n",
       "      <td>22902</td>\n",
       "    </tr>\n",
       "    <tr>\n",
       "      <th>1</th>\n",
       "      <td>2</td>\n",
       "      <td>Driving Under the Influence</td>\n",
       "      <td>202500021543</td>\n",
       "      <td>CPD</td>\n",
       "      <td>Carrasco, Julio</td>\n",
       "      <td>2025-06-22 19:59:22</td>\n",
       "      <td>Sunday</td>\n",
       "      <td>True</td>\n",
       "      <td>Summer</td>\n",
       "      <td>Evening</td>\n",
       "      <td>E HIGH ST @ LONG ST</td>\n",
       "      <td>38.035035</td>\n",
       "      <td>-78.45943</td>\n",
       "      <td>Woolen Mills</td>\n",
       "      <td>22909</td>\n",
       "    </tr>\n",
       "    <tr>\n",
       "      <th>2</th>\n",
       "      <td>3</td>\n",
       "      <td>Assault Simple</td>\n",
       "      <td>202500021538</td>\n",
       "      <td>CPD</td>\n",
       "      <td>Benbow, Lauren</td>\n",
       "      <td>2025-06-22 19:02:38</td>\n",
       "      <td>Sunday</td>\n",
       "      <td>True</td>\n",
       "      <td>Summer</td>\n",
       "      <td>Evening</td>\n",
       "      <td>500 CHERRY AVE</td>\n",
       "      <td>38.026066</td>\n",
       "      <td>-78.490892</td>\n",
       "      <td>Fifeville</td>\n",
       "      <td>22903</td>\n",
       "    </tr>\n",
       "    <tr>\n",
       "      <th>3</th>\n",
       "      <td>4</td>\n",
       "      <td>Motor Vehicle Theft</td>\n",
       "      <td>202500021514</td>\n",
       "      <td>CPD</td>\n",
       "      <td>Benbow, Lauren</td>\n",
       "      <td>2025-06-22 15:01:19</td>\n",
       "      <td>Sunday</td>\n",
       "      <td>True</td>\n",
       "      <td>Summer</td>\n",
       "      <td>Afternoon</td>\n",
       "      <td>2300 CENTER AVE, B</td>\n",
       "      <td>N/A</td>\n",
       "      <td>N/A</td>\n",
       "      <td>N/A</td>\n",
       "      <td>N/A</td>\n",
       "    </tr>\n",
       "    <tr>\n",
       "      <th>4</th>\n",
       "      <td>5</td>\n",
       "      <td>Assault Aggravated</td>\n",
       "      <td>202500021512</td>\n",
       "      <td>CPD</td>\n",
       "      <td>Kinney, Dylan</td>\n",
       "      <td>2025-06-22 14:42:18</td>\n",
       "      <td>Sunday</td>\n",
       "      <td>True</td>\n",
       "      <td>Summer</td>\n",
       "      <td>Afternoon</td>\n",
       "      <td>100 CARLTON RD</td>\n",
       "      <td>38.026678</td>\n",
       "      <td>-78.468553</td>\n",
       "      <td>Martha Jefferson</td>\n",
       "      <td>22902</td>\n",
       "    </tr>\n",
       "  </tbody>\n",
       "</table>\n",
       "</div>"
      ],
      "text/plain": [
       "   RecordID                      Offense    IncidentID Agency  \\\n",
       "0         1                    Vandalism  202500021557    CPD   \n",
       "1         2  Driving Under the Influence  202500021543    CPD   \n",
       "2         3               Assault Simple  202500021538    CPD   \n",
       "3         4          Motor Vehicle Theft  202500021514    CPD   \n",
       "4         5           Assault Aggravated  202500021512    CPD   \n",
       "\n",
       "  ReportingOfficer                Date DayOfWeek  Weekend  Season  TimeOfDay  \\\n",
       "0   Wells, Matthew 2025-06-23 00:35:41    Monday    False  Summer      Night   \n",
       "1  Carrasco, Julio 2025-06-22 19:59:22    Sunday     True  Summer    Evening   \n",
       "2   Benbow, Lauren 2025-06-22 19:02:38    Sunday     True  Summer    Evening   \n",
       "3   Benbow, Lauren 2025-06-22 15:01:19    Sunday     True  Summer  Afternoon   \n",
       "4    Kinney, Dylan 2025-06-22 14:42:18    Sunday     True  Summer  Afternoon   \n",
       "\n",
       "             FullStreet        lat        lon      neighborhood    zip  \n",
       "0   1100 E JEFFERSON ST  38.029165 -78.471373  Martha Jefferson  22902  \n",
       "1   E HIGH ST @ LONG ST  38.035035  -78.45943      Woolen Mills  22909  \n",
       "2        500 CHERRY AVE  38.026066 -78.490892         Fifeville  22903  \n",
       "3    2300 CENTER AVE, B        N/A        N/A               N/A    N/A  \n",
       "4        100 CARLTON RD  38.026678 -78.468553  Martha Jefferson  22902  "
      ]
     },
     "execution_count": 14,
     "metadata": {},
     "output_type": "execute_result"
    }
   ],
   "source": [
    "# Now drop the original BlockNumber and StreetName columns\n",
    "df.drop(columns=['BlockNumber', 'StreetName','HourAMPM','HourReported','DateString'], inplace=True)\n",
    "df[\"zip\"] = df[\"zip\"].astype(str)\n",
    "\n",
    "# Fill all missing values in the DataFrame with \"N/A\"\n",
    "df.replace({None: \"N/A\", np.nan: \"N/A\", \"\": \"N/A\"}, inplace=True)\n",
    "df.head()"
   ]
  },
  {
   "cell_type": "code",
   "execution_count": 15,
   "id": "335864f2",
   "metadata": {
    "execution": {
     "iopub.execute_input": "2025-06-25T01:07:27.974358Z",
     "iopub.status.busy": "2025-06-25T01:07:27.974100Z",
     "iopub.status.idle": "2025-06-25T01:07:27.997318Z",
     "shell.execute_reply": "2025-06-25T01:07:27.996708Z"
    },
    "papermill": {
     "duration": 0.031732,
     "end_time": "2025-06-25T01:07:27.998385",
     "exception": false,
     "start_time": "2025-06-25T01:07:27.966653",
     "status": "completed"
    },
    "tags": []
   },
   "outputs": [
    {
     "name": "stdout",
     "output_type": "stream",
     "text": [
      "                  MissingCount  MissingPercentage\n",
      "RecordID                     0                0.0\n",
      "Offense                      0                0.0\n",
      "IncidentID                   0                0.0\n",
      "Agency                       0                0.0\n",
      "ReportingOfficer             0                0.0\n",
      "Date                         0                0.0\n",
      "DayOfWeek                    0                0.0\n",
      "Weekend                      0                0.0\n",
      "Season                       0                0.0\n",
      "TimeOfDay                    0                0.0\n",
      "FullStreet                   0                0.0\n",
      "lat                          0                0.0\n",
      "lon                          0                0.0\n",
      "neighborhood                 0                0.0\n",
      "zip                          0                0.0\n"
     ]
    }
   ],
   "source": [
    "missing_info = missing_percentage(df)\n",
    "print(missing_info)"
   ]
  },
  {
   "cell_type": "code",
   "execution_count": 16,
   "id": "72e76e06",
   "metadata": {
    "execution": {
     "iopub.execute_input": "2025-06-25T01:07:28.013878Z",
     "iopub.status.busy": "2025-06-25T01:07:28.013278Z",
     "iopub.status.idle": "2025-06-25T01:07:28.017972Z",
     "shell.execute_reply": "2025-06-25T01:07:28.017419Z"
    },
    "papermill": {
     "duration": 0.013513,
     "end_time": "2025-06-25T01:07:28.019035",
     "exception": false,
     "start_time": "2025-06-25T01:07:28.005522",
     "status": "completed"
    },
    "tags": []
   },
   "outputs": [
    {
     "data": {
      "text/plain": [
       "Index(['RecordID', 'Offense', 'IncidentID', 'Agency', 'ReportingOfficer',\n",
       "       'Date', 'DayOfWeek', 'Weekend', 'Season', 'TimeOfDay', 'FullStreet',\n",
       "       'lat', 'lon', 'neighborhood', 'zip'],\n",
       "      dtype='object')"
      ]
     },
     "execution_count": 16,
     "metadata": {},
     "output_type": "execute_result"
    }
   ],
   "source": [
    "df.columns"
   ]
  },
  {
   "cell_type": "code",
   "execution_count": 17,
   "id": "196c92f9",
   "metadata": {
    "execution": {
     "iopub.execute_input": "2025-06-25T01:07:28.034704Z",
     "iopub.status.busy": "2025-06-25T01:07:28.034046Z",
     "iopub.status.idle": "2025-06-25T01:07:28.058974Z",
     "shell.execute_reply": "2025-06-25T01:07:28.058306Z"
    },
    "papermill": {
     "duration": 0.033893,
     "end_time": "2025-06-25T01:07:28.060040",
     "exception": false,
     "start_time": "2025-06-25T01:07:28.026147",
     "status": "completed"
    },
    "tags": []
   },
   "outputs": [
    {
     "name": "stdout",
     "output_type": "stream",
     "text": [
      "<class 'pandas.core.frame.DataFrame'>\n",
      "RangeIndex: 25539 entries, 0 to 25538\n",
      "Data columns (total 15 columns):\n",
      " #   Column            Non-Null Count  Dtype         \n",
      "---  ------            --------------  -----         \n",
      " 0   RecordID          25539 non-null  int64         \n",
      " 1   Offense           25539 non-null  object        \n",
      " 2   IncidentID        25539 non-null  object        \n",
      " 3   Agency            25539 non-null  object        \n",
      " 4   ReportingOfficer  25539 non-null  object        \n",
      " 5   Date              25539 non-null  datetime64[ns]\n",
      " 6   DayOfWeek         25539 non-null  object        \n",
      " 7   Weekend           25539 non-null  bool          \n",
      " 8   Season            25539 non-null  object        \n",
      " 9   TimeOfDay         25539 non-null  object        \n",
      " 10  FullStreet        25539 non-null  object        \n",
      " 11  lat               25539 non-null  object        \n",
      " 12  lon               25539 non-null  object        \n",
      " 13  neighborhood      25539 non-null  object        \n",
      " 14  zip               25539 non-null  object        \n",
      "dtypes: bool(1), datetime64[ns](1), int64(1), object(12)\n",
      "memory usage: 2.8+ MB\n"
     ]
    }
   ],
   "source": [
    "df.info()"
   ]
  },
  {
   "cell_type": "markdown",
   "id": "8aa51865",
   "metadata": {
    "papermill": {
     "duration": 0.007026,
     "end_time": "2025-06-25T01:07:28.074662",
     "exception": false,
     "start_time": "2025-06-25T01:07:28.067636",
     "status": "completed"
    },
    "tags": []
   },
   "source": [
    "### Export Clean Data"
   ]
  },
  {
   "cell_type": "code",
   "execution_count": 18,
   "id": "ae5207a1",
   "metadata": {
    "execution": {
     "iopub.execute_input": "2025-06-25T01:07:28.090084Z",
     "iopub.status.busy": "2025-06-25T01:07:28.089587Z",
     "iopub.status.idle": "2025-06-25T01:07:37.290612Z",
     "shell.execute_reply": "2025-06-25T01:07:37.289858Z"
    },
    "papermill": {
     "duration": 9.210131,
     "end_time": "2025-06-25T01:07:37.291765",
     "exception": false,
     "start_time": "2025-06-25T01:07:28.081634",
     "status": "completed"
    },
    "tags": []
   },
   "outputs": [
    {
     "name": "stdout",
     "output_type": "stream",
     "text": [
      "Project Root: /home/runner/work/crime-data/crime-data\n"
     ]
    },
    {
     "name": "stdout",
     "output_type": "stream",
     "text": [
      "Data saved to: /home/runner/work/crime-data/crime-data/data/charlottesville_crime_incidents.csv\n"
     ]
    },
    {
     "name": "stdout",
     "output_type": "stream",
     "text": [
      "Excel saved to: /home/runner/work/crime-data/crime-data/data/charlottesville_crime_incidents.xlsx\n"
     ]
    }
   ],
   "source": [
    "# Determine the project root (assuming papermill is run from the repository root)\n",
    "project_root = os.getcwd()\n",
    "print(\"Project Root:\", project_root)\n",
    "\n",
    "# Set the data directory within the project root\n",
    "data_dir = os.path.join(project_root, \"data\")\n",
    "\n",
    "# Ensure the \"data\" directory exists (create it if it doesn't)\n",
    "if not os.path.exists(data_dir):\n",
    "    os.makedirs(data_dir)\n",
    "\n",
    "# Export the DataFrame to CSV in the \"data\" folder located in the project root\n",
    "csv_path = os.path.join(data_dir, \"charlottesville_crime_incidents.csv\")\n",
    "df.to_csv(csv_path, index=False)\n",
    "print(\"Data saved to:\", csv_path)\n",
    "\n",
    "# Construct the path to your Excel file\n",
    "excel_path = os.path.join(data_dir, \"charlottesville_crime_incidents.xlsx\")\n",
    "\n",
    "# Export the DataFrame to Excel\n",
    "df.to_excel(excel_path, index=False)\n",
    "print(\"Excel saved to:\", excel_path)\n"
   ]
  }
 ],
 "metadata": {
  "kernelspec": {
   "display_name": "Python 3",
   "language": "python",
   "name": "python3"
  },
  "language_info": {
   "codemirror_mode": {
    "name": "ipython",
    "version": 3
   },
   "file_extension": ".py",
   "mimetype": "text/x-python",
   "name": "python",
   "nbconvert_exporter": "python",
   "pygments_lexer": "ipython3",
   "version": "3.9.23"
  },
  "papermill": {
   "default_parameters": {},
   "duration": 111.309711,
   "end_time": "2025-06-25T01:07:37.715096",
   "environment_variables": {},
   "exception": null,
   "input_path": "notebook/Crime Data.ipynb",
   "output_path": "notebook/Crime Data_output.ipynb",
   "parameters": {},
   "start_time": "2025-06-25T01:05:46.405385",
   "version": "2.6.0"
  }
 },
 "nbformat": 4,
 "nbformat_minor": 5
}