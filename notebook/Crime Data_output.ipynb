{
 "cells": [
  {
   "cell_type": "markdown",
   "id": "25728324",
   "metadata": {
    "papermill": {
     "duration": 0.006148,
     "end_time": "2025-05-06T01:01:58.076293",
     "exception": false,
     "start_time": "2025-05-06T01:01:58.070145",
     "status": "completed"
    },
    "tags": []
   },
   "source": [
    "# Charlottesville Open Data Porttal: Crime Data"
   ]
  },
  {
   "cell_type": "markdown",
   "id": "000329ab",
   "metadata": {
    "papermill": {
     "duration": 0.005045,
     "end_time": "2025-05-06T01:01:58.086697",
     "exception": false,
     "start_time": "2025-05-06T01:01:58.081652",
     "status": "completed"
    },
    "tags": []
   },
   "source": [
    "## Import Relevant Librarires & Set WD"
   ]
  },
  {
   "cell_type": "code",
   "execution_count": 1,
   "id": "5ae9d6f2",
   "metadata": {
    "execution": {
     "iopub.execute_input": "2025-05-06T01:01:58.098309Z",
     "iopub.status.busy": "2025-05-06T01:01:58.097820Z",
     "iopub.status.idle": "2025-05-06T01:01:58.735072Z",
     "shell.execute_reply": "2025-05-06T01:01:58.734402Z"
    },
    "papermill": {
     "duration": 0.644527,
     "end_time": "2025-05-06T01:01:58.736356",
     "exception": false,
     "start_time": "2025-05-06T01:01:58.091829",
     "status": "completed"
    },
    "tags": []
   },
   "outputs": [],
   "source": [
    "import requests\n",
    "import pandas as pd\n",
    "import numpy as np\n",
    "import pickle\n",
    "import googlemaps\n",
    "import plotly.express as px\n",
    "from geopy.geocoders import Nominatim\n",
    "import time\n",
    "from dotenv import load_dotenv\n",
    "import os\n",
    "\n",
    "env_path = os.path.join(\"..\", \".env\")\n",
    "#print(\"Looking for .env file at:\", os.path.abspath(env_path))\n",
    "load_dotenv(dotenv_path=env_path)\n",
    "\n",
    "# Retrieve the variables\n",
    "GOOGLE_API_KEY = os.getenv(\"GOOGLE_API_KEY\")\n",
    "WORKING_DIR = os.getenv(\"WORKING_DIR\")\n",
    "\n",
    "if GOOGLE_API_KEY is None or WORKING_DIR is None:\n",
    "    raise RuntimeError(\"No configuration found. Please ensure that your .env file exists with the required variables, or create a local config.py file.\")\n",
    "\n",
    "#print(\"Google API Key:\", GOOGLE_API_KEY)\n",
    "#print(\"Working Directory:\", WORKING_DIR)"
   ]
  },
  {
   "cell_type": "markdown",
   "id": "4cc57fa4",
   "metadata": {
    "papermill": {
     "duration": 0.00514,
     "end_time": "2025-05-06T01:01:58.746960",
     "exception": false,
     "start_time": "2025-05-06T01:01:58.741820",
     "status": "completed"
    },
    "tags": []
   },
   "source": [
    "## Import Data\n",
    "\n",
    "URL: https://opendata.charlottesville.org/datasets/charlottesville::crime-data/about"
   ]
  },
  {
   "cell_type": "code",
   "execution_count": 2,
   "id": "3d569246",
   "metadata": {
    "execution": {
     "iopub.execute_input": "2025-05-06T01:01:58.758735Z",
     "iopub.status.busy": "2025-05-06T01:01:58.758032Z",
     "iopub.status.idle": "2025-05-06T01:02:58.782304Z",
     "shell.execute_reply": "2025-05-06T01:02:58.781620Z"
    },
    "papermill": {
     "duration": 60.035984,
     "end_time": "2025-05-06T01:02:58.788060",
     "exception": false,
     "start_time": "2025-05-06T01:01:58.752076",
     "status": "completed"
    },
    "tags": []
   },
   "outputs": [
    {
     "name": "stdout",
     "output_type": "stream",
     "text": [
      "Total records imported: 25335\n"
     ]
    }
   ],
   "source": [
    "# Define the endpoint and initial parameters.\n",
    "url = \"https://gisweb.charlottesville.org/arcgis/rest/services/OpenData_2/MapServer/6/query\"\n",
    "params = {\n",
    "    \"where\": \"1=1\",\n",
    "    \"outFields\": \"*\",\n",
    "    \"outSR\": 4326,\n",
    "    \"f\": \"json\",\n",
    "    \"resultOffset\": 0,       # Starting index for results\n",
    "    \"resultRecordCount\": 10000  # Maximum records per batch (if allowed by the API)\n",
    "}\n",
    "\n",
    "records = []\n",
    "\n",
    "while True:\n",
    "    response = requests.get(url, params=params)\n",
    "    response.raise_for_status()\n",
    "    data = response.json()\n",
    "    \n",
    "    # Get the current batch of features.\n",
    "    features = data.get(\"features\", [])\n",
    "    if not features:\n",
    "        break\n",
    "\n",
    "    # Extract the attributes from the features.\n",
    "    batch_records = [feature.get(\"attributes\", {}) for feature in features]\n",
    "    records.extend(batch_records)\n",
    "    \n",
    "    # If the batch size is less than the requested count, we reached the end.\n",
    "    if len(features) < params[\"resultRecordCount\"]:\n",
    "        break\n",
    "\n",
    "    # Update the resultOffset for the next batch.\n",
    "    params[\"resultOffset\"] += params[\"resultRecordCount\"]\n",
    "\n",
    "# Create a DataFrame from the combined records.\n",
    "df = pd.DataFrame(records)\n",
    "print(\"Total records imported:\", len(df))\n"
   ]
  },
  {
   "cell_type": "code",
   "execution_count": 3,
   "id": "63123503",
   "metadata": {
    "execution": {
     "iopub.execute_input": "2025-05-06T01:02:58.800256Z",
     "iopub.status.busy": "2025-05-06T01:02:58.799840Z",
     "iopub.status.idle": "2025-05-06T01:02:58.812243Z",
     "shell.execute_reply": "2025-05-06T01:02:58.811591Z"
    },
    "papermill": {
     "duration": 0.019861,
     "end_time": "2025-05-06T01:02:58.813255",
     "exception": false,
     "start_time": "2025-05-06T01:02:58.793394",
     "status": "completed"
    },
    "tags": []
   },
   "outputs": [
    {
     "data": {
      "text/html": [
       "<div>\n",
       "<style scoped>\n",
       "    .dataframe tbody tr th:only-of-type {\n",
       "        vertical-align: middle;\n",
       "    }\n",
       "\n",
       "    .dataframe tbody tr th {\n",
       "        vertical-align: top;\n",
       "    }\n",
       "\n",
       "    .dataframe thead th {\n",
       "        text-align: right;\n",
       "    }\n",
       "</style>\n",
       "<table border=\"1\" class=\"dataframe\">\n",
       "  <thead>\n",
       "    <tr style=\"text-align: right;\">\n",
       "      <th></th>\n",
       "      <th>RecordID</th>\n",
       "      <th>Offense</th>\n",
       "      <th>IncidentID</th>\n",
       "      <th>BlockNumber</th>\n",
       "      <th>StreetName</th>\n",
       "      <th>Agency</th>\n",
       "      <th>DateReported</th>\n",
       "      <th>HourReported</th>\n",
       "      <th>ReportingOfficer</th>\n",
       "    </tr>\n",
       "  </thead>\n",
       "  <tbody>\n",
       "    <tr>\n",
       "      <th>0</th>\n",
       "      <td>1</td>\n",
       "      <td>Suspicious Activity</td>\n",
       "      <td>202500014784</td>\n",
       "      <td>200</td>\n",
       "      <td>RIDGE MCINTIRE RD</td>\n",
       "      <td>CPD</td>\n",
       "      <td>1746322488000</td>\n",
       "      <td>2134</td>\n",
       "      <td>Davis, Charles</td>\n",
       "    </tr>\n",
       "    <tr>\n",
       "      <th>1</th>\n",
       "      <td>2</td>\n",
       "      <td>Death Investigation - DOA</td>\n",
       "      <td>202500014758</td>\n",
       "      <td>1300</td>\n",
       "      <td>BELLEVIEW AVE, B</td>\n",
       "      <td>CPD</td>\n",
       "      <td>1746312458000</td>\n",
       "      <td>1847</td>\n",
       "      <td>Love-Baker, Sydney</td>\n",
       "    </tr>\n",
       "    <tr>\n",
       "      <th>2</th>\n",
       "      <td>3</td>\n",
       "      <td>Larceny - All Other</td>\n",
       "      <td>202500014739</td>\n",
       "      <td>1100</td>\n",
       "      <td>5TH ST SW</td>\n",
       "      <td>CPD</td>\n",
       "      <td>1746301803000</td>\n",
       "      <td>1550</td>\n",
       "      <td>Reed, Danielle</td>\n",
       "    </tr>\n",
       "    <tr>\n",
       "      <th>3</th>\n",
       "      <td>4</td>\n",
       "      <td>Burglary</td>\n",
       "      <td>202500014729</td>\n",
       "      <td>500</td>\n",
       "      <td>HARRIS RD, 106</td>\n",
       "      <td>CPD</td>\n",
       "      <td>1746294903000</td>\n",
       "      <td>1355</td>\n",
       "      <td>Reed, Danielle</td>\n",
       "    </tr>\n",
       "    <tr>\n",
       "      <th>4</th>\n",
       "      <td>5</td>\n",
       "      <td>Lost/FoundProperty</td>\n",
       "      <td>202500014725</td>\n",
       "      <td>100</td>\n",
       "      <td>ELLIEWOOD AVE</td>\n",
       "      <td>CPD</td>\n",
       "      <td>1746293056000</td>\n",
       "      <td>1324</td>\n",
       "      <td>Schwartz, Honora</td>\n",
       "    </tr>\n",
       "  </tbody>\n",
       "</table>\n",
       "</div>"
      ],
      "text/plain": [
       "   RecordID                    Offense    IncidentID BlockNumber  \\\n",
       "0         1        Suspicious Activity  202500014784         200   \n",
       "1         2  Death Investigation - DOA  202500014758        1300   \n",
       "2         3        Larceny - All Other  202500014739        1100   \n",
       "3         4                   Burglary  202500014729         500   \n",
       "4         5         Lost/FoundProperty  202500014725         100   \n",
       "\n",
       "          StreetName Agency   DateReported HourReported    ReportingOfficer  \n",
       "0  RIDGE MCINTIRE RD    CPD  1746322488000         2134      Davis, Charles  \n",
       "1   BELLEVIEW AVE, B    CPD  1746312458000         1847  Love-Baker, Sydney  \n",
       "2          5TH ST SW    CPD  1746301803000         1550      Reed, Danielle  \n",
       "3     HARRIS RD, 106    CPD  1746294903000         1355      Reed, Danielle  \n",
       "4      ELLIEWOOD AVE    CPD  1746293056000         1324    Schwartz, Honora  "
      ]
     },
     "execution_count": 3,
     "metadata": {},
     "output_type": "execute_result"
    }
   ],
   "source": [
    "df.head()"
   ]
  },
  {
   "cell_type": "code",
   "execution_count": 4,
   "id": "8b1b5632",
   "metadata": {
    "execution": {
     "iopub.execute_input": "2025-05-06T01:02:58.846531Z",
     "iopub.status.busy": "2025-05-06T01:02:58.845903Z",
     "iopub.status.idle": "2025-05-06T01:02:58.850720Z",
     "shell.execute_reply": "2025-05-06T01:02:58.850173Z"
    },
    "papermill": {
     "duration": 0.03286,
     "end_time": "2025-05-06T01:02:58.851687",
     "exception": false,
     "start_time": "2025-05-06T01:02:58.818827",
     "status": "completed"
    },
    "tags": []
   },
   "outputs": [
    {
     "data": {
      "text/plain": [
       "Index(['RecordID', 'Offense', 'IncidentID', 'BlockNumber', 'StreetName',\n",
       "       'Agency', 'DateReported', 'HourReported', 'ReportingOfficer'],\n",
       "      dtype='object')"
      ]
     },
     "execution_count": 4,
     "metadata": {},
     "output_type": "execute_result"
    }
   ],
   "source": [
    "df.columns"
   ]
  },
  {
   "cell_type": "code",
   "execution_count": 5,
   "id": "5046ebac",
   "metadata": {
    "execution": {
     "iopub.execute_input": "2025-05-06T01:02:58.863615Z",
     "iopub.status.busy": "2025-05-06T01:02:58.863207Z",
     "iopub.status.idle": "2025-05-06T01:02:58.887182Z",
     "shell.execute_reply": "2025-05-06T01:02:58.886613Z"
    },
    "papermill": {
     "duration": 0.031064,
     "end_time": "2025-05-06T01:02:58.888288",
     "exception": false,
     "start_time": "2025-05-06T01:02:58.857224",
     "status": "completed"
    },
    "tags": []
   },
   "outputs": [
    {
     "name": "stdout",
     "output_type": "stream",
     "text": [
      "<class 'pandas.core.frame.DataFrame'>\n",
      "RangeIndex: 25335 entries, 0 to 25334\n",
      "Data columns (total 9 columns):\n",
      " #   Column            Non-Null Count  Dtype \n",
      "---  ------            --------------  ----- \n",
      " 0   RecordID          25335 non-null  int64 \n",
      " 1   Offense           25335 non-null  object\n",
      " 2   IncidentID        25335 non-null  object\n",
      " 3   BlockNumber       25335 non-null  object\n",
      " 4   StreetName        25335 non-null  object\n",
      " 5   Agency            25335 non-null  object\n",
      " 6   DateReported      25335 non-null  int64 \n",
      " 7   HourReported      25335 non-null  object\n",
      " 8   ReportingOfficer  25318 non-null  object\n",
      "dtypes: int64(2), object(7)\n",
      "memory usage: 1.7+ MB\n"
     ]
    }
   ],
   "source": [
    "df.info()"
   ]
  },
  {
   "cell_type": "markdown",
   "id": "d29f393b",
   "metadata": {
    "papermill": {
     "duration": 0.005537,
     "end_time": "2025-05-06T01:02:58.899649",
     "exception": false,
     "start_time": "2025-05-06T01:02:58.894112",
     "status": "completed"
    },
    "tags": []
   },
   "source": [
    "### Missing Values"
   ]
  },
  {
   "cell_type": "code",
   "execution_count": 6,
   "id": "34234798",
   "metadata": {
    "execution": {
     "iopub.execute_input": "2025-05-06T01:02:58.912010Z",
     "iopub.status.busy": "2025-05-06T01:02:58.911451Z",
     "iopub.status.idle": "2025-05-06T01:02:58.933564Z",
     "shell.execute_reply": "2025-05-06T01:02:58.932910Z"
    },
    "papermill": {
     "duration": 0.029347,
     "end_time": "2025-05-06T01:02:58.934577",
     "exception": false,
     "start_time": "2025-05-06T01:02:58.905230",
     "status": "completed"
    },
    "tags": []
   },
   "outputs": [
    {
     "name": "stdout",
     "output_type": "stream",
     "text": [
      "                  MissingCount  MissingPercentage\n",
      "RecordID                     0               0.00\n",
      "Offense                      0               0.00\n",
      "IncidentID                   0               0.00\n",
      "BlockNumber                  0               0.00\n",
      "StreetName                   0               0.00\n",
      "Agency                       0               0.00\n",
      "DateReported                 0               0.00\n",
      "HourReported                 0               0.00\n",
      "ReportingOfficer            17               0.07\n"
     ]
    }
   ],
   "source": [
    "def missing_percentage(df):\n",
    "    \"\"\"\n",
    "    Returns a DataFrame with the count and percentage of missing values for each column.\n",
    "    \n",
    "    Parameters:\n",
    "        df (pd.DataFrame): The input DataFrame.\n",
    "    \n",
    "    Returns:\n",
    "        pd.DataFrame: A DataFrame with columns 'MissingCount' and 'MissingPercentage'.\n",
    "    \"\"\"\n",
    "    total_rows = len(df)\n",
    "    missing_count = df.isnull().sum()\n",
    "    missing_percent = (missing_count / total_rows) * 100\n",
    "    \n",
    "    result = pd.DataFrame({\n",
    "        'MissingCount': missing_count,\n",
    "        'MissingPercentage': missing_percent.round(2)\n",
    "    })\n",
    "    \n",
    "    return result\n",
    "\n",
    "# Example usage:\n",
    "missing_info = missing_percentage(df)\n",
    "print(missing_info)\n"
   ]
  },
  {
   "cell_type": "markdown",
   "id": "041033ac",
   "metadata": {
    "papermill": {
     "duration": 0.005554,
     "end_time": "2025-05-06T01:02:58.946085",
     "exception": false,
     "start_time": "2025-05-06T01:02:58.940531",
     "status": "completed"
    },
    "tags": []
   },
   "source": [
    "## Data Preparation"
   ]
  },
  {
   "cell_type": "markdown",
   "id": "ac9e9bf2",
   "metadata": {
    "papermill": {
     "duration": 0.005468,
     "end_time": "2025-05-06T01:02:58.957122",
     "exception": false,
     "start_time": "2025-05-06T01:02:58.951654",
     "status": "completed"
    },
    "tags": []
   },
   "source": [
    "### Data Conversion"
   ]
  },
  {
   "cell_type": "code",
   "execution_count": 7,
   "id": "46bfdd9b",
   "metadata": {
    "execution": {
     "iopub.execute_input": "2025-05-06T01:02:58.969188Z",
     "iopub.status.busy": "2025-05-06T01:02:58.968835Z",
     "iopub.status.idle": "2025-05-06T01:02:59.338109Z",
     "shell.execute_reply": "2025-05-06T01:02:59.337428Z"
    },
    "papermill": {
     "duration": 0.376463,
     "end_time": "2025-05-06T01:02:59.339150",
     "exception": false,
     "start_time": "2025-05-06T01:02:58.962687",
     "status": "completed"
    },
    "tags": []
   },
   "outputs": [
    {
     "data": {
      "text/html": [
       "<div>\n",
       "<style scoped>\n",
       "    .dataframe tbody tr th:only-of-type {\n",
       "        vertical-align: middle;\n",
       "    }\n",
       "\n",
       "    .dataframe tbody tr th {\n",
       "        vertical-align: top;\n",
       "    }\n",
       "\n",
       "    .dataframe thead th {\n",
       "        text-align: right;\n",
       "    }\n",
       "</style>\n",
       "<table border=\"1\" class=\"dataframe\">\n",
       "  <thead>\n",
       "    <tr style=\"text-align: right;\">\n",
       "      <th></th>\n",
       "      <th>RecordID</th>\n",
       "      <th>Offense</th>\n",
       "      <th>IncidentID</th>\n",
       "      <th>BlockNumber</th>\n",
       "      <th>StreetName</th>\n",
       "      <th>Agency</th>\n",
       "      <th>HourReported</th>\n",
       "      <th>ReportingOfficer</th>\n",
       "      <th>Date</th>\n",
       "      <th>DateString</th>\n",
       "      <th>DayOfWeek</th>\n",
       "      <th>Weekend</th>\n",
       "      <th>Season</th>\n",
       "      <th>HourAMPM</th>\n",
       "      <th>TimeOfDay</th>\n",
       "    </tr>\n",
       "  </thead>\n",
       "  <tbody>\n",
       "    <tr>\n",
       "      <th>0</th>\n",
       "      <td>1</td>\n",
       "      <td>Suspicious Activity</td>\n",
       "      <td>202500014784</td>\n",
       "      <td>200</td>\n",
       "      <td>RIDGE MCINTIRE RD</td>\n",
       "      <td>CPD</td>\n",
       "      <td>2134</td>\n",
       "      <td>Davis, Charles</td>\n",
       "      <td>2025-05-03 21:34:48</td>\n",
       "      <td>2025-05-03 09:34:48 PM</td>\n",
       "      <td>Saturday</td>\n",
       "      <td>True</td>\n",
       "      <td>Spring</td>\n",
       "      <td>09:34 PM</td>\n",
       "      <td>Night</td>\n",
       "    </tr>\n",
       "    <tr>\n",
       "      <th>1</th>\n",
       "      <td>2</td>\n",
       "      <td>Death Investigation - DOA</td>\n",
       "      <td>202500014758</td>\n",
       "      <td>1300</td>\n",
       "      <td>BELLEVIEW AVE, B</td>\n",
       "      <td>CPD</td>\n",
       "      <td>1847</td>\n",
       "      <td>Love-Baker, Sydney</td>\n",
       "      <td>2025-05-03 18:47:38</td>\n",
       "      <td>2025-05-03 06:47:38 PM</td>\n",
       "      <td>Saturday</td>\n",
       "      <td>True</td>\n",
       "      <td>Spring</td>\n",
       "      <td>06:47 PM</td>\n",
       "      <td>Evening</td>\n",
       "    </tr>\n",
       "    <tr>\n",
       "      <th>2</th>\n",
       "      <td>3</td>\n",
       "      <td>Larceny - All Other</td>\n",
       "      <td>202500014739</td>\n",
       "      <td>1100</td>\n",
       "      <td>5TH ST SW</td>\n",
       "      <td>CPD</td>\n",
       "      <td>1550</td>\n",
       "      <td>Reed, Danielle</td>\n",
       "      <td>2025-05-03 15:50:03</td>\n",
       "      <td>2025-05-03 03:50:03 PM</td>\n",
       "      <td>Saturday</td>\n",
       "      <td>True</td>\n",
       "      <td>Spring</td>\n",
       "      <td>03:50 PM</td>\n",
       "      <td>Afternoon</td>\n",
       "    </tr>\n",
       "    <tr>\n",
       "      <th>3</th>\n",
       "      <td>4</td>\n",
       "      <td>Burglary</td>\n",
       "      <td>202500014729</td>\n",
       "      <td>500</td>\n",
       "      <td>HARRIS RD, 106</td>\n",
       "      <td>CPD</td>\n",
       "      <td>1355</td>\n",
       "      <td>Reed, Danielle</td>\n",
       "      <td>2025-05-03 13:55:03</td>\n",
       "      <td>2025-05-03 01:55:03 PM</td>\n",
       "      <td>Saturday</td>\n",
       "      <td>True</td>\n",
       "      <td>Spring</td>\n",
       "      <td>01:55 PM</td>\n",
       "      <td>Afternoon</td>\n",
       "    </tr>\n",
       "    <tr>\n",
       "      <th>4</th>\n",
       "      <td>5</td>\n",
       "      <td>Lost/FoundProperty</td>\n",
       "      <td>202500014725</td>\n",
       "      <td>100</td>\n",
       "      <td>ELLIEWOOD AVE</td>\n",
       "      <td>CPD</td>\n",
       "      <td>1324</td>\n",
       "      <td>Schwartz, Honora</td>\n",
       "      <td>2025-05-03 13:24:16</td>\n",
       "      <td>2025-05-03 01:24:16 PM</td>\n",
       "      <td>Saturday</td>\n",
       "      <td>True</td>\n",
       "      <td>Spring</td>\n",
       "      <td>01:24 PM</td>\n",
       "      <td>Afternoon</td>\n",
       "    </tr>\n",
       "  </tbody>\n",
       "</table>\n",
       "</div>"
      ],
      "text/plain": [
       "   RecordID                    Offense    IncidentID BlockNumber  \\\n",
       "0         1        Suspicious Activity  202500014784         200   \n",
       "1         2  Death Investigation - DOA  202500014758        1300   \n",
       "2         3        Larceny - All Other  202500014739        1100   \n",
       "3         4                   Burglary  202500014729         500   \n",
       "4         5         Lost/FoundProperty  202500014725         100   \n",
       "\n",
       "          StreetName Agency HourReported    ReportingOfficer  \\\n",
       "0  RIDGE MCINTIRE RD    CPD         2134      Davis, Charles   \n",
       "1   BELLEVIEW AVE, B    CPD         1847  Love-Baker, Sydney   \n",
       "2          5TH ST SW    CPD         1550      Reed, Danielle   \n",
       "3     HARRIS RD, 106    CPD         1355      Reed, Danielle   \n",
       "4      ELLIEWOOD AVE    CPD         1324    Schwartz, Honora   \n",
       "\n",
       "                 Date              DateString DayOfWeek  Weekend  Season  \\\n",
       "0 2025-05-03 21:34:48  2025-05-03 09:34:48 PM  Saturday     True  Spring   \n",
       "1 2025-05-03 18:47:38  2025-05-03 06:47:38 PM  Saturday     True  Spring   \n",
       "2 2025-05-03 15:50:03  2025-05-03 03:50:03 PM  Saturday     True  Spring   \n",
       "3 2025-05-03 13:55:03  2025-05-03 01:55:03 PM  Saturday     True  Spring   \n",
       "4 2025-05-03 13:24:16  2025-05-03 01:24:16 PM  Saturday     True  Spring   \n",
       "\n",
       "   HourAMPM  TimeOfDay  \n",
       "0  09:34 PM      Night  \n",
       "1  06:47 PM    Evening  \n",
       "2  03:50 PM  Afternoon  \n",
       "3  01:55 PM  Afternoon  \n",
       "4  01:24 PM  Afternoon  "
      ]
     },
     "execution_count": 7,
     "metadata": {},
     "output_type": "execute_result"
    }
   ],
   "source": [
    "def convert_and_categorize_datereported(df, col='DateReported'):\n",
    "    \"\"\"\n",
    "    Converts an epoch (in milliseconds) date column into a timezone-aware datetime,\n",
    "    converts it to Eastern Time, and then creates columns for day-of-week, weekend flag,\n",
    "    season, 12-hour formatted time, and time-of-day. Keeps both a real datetime column\n",
    "    (Date) and a string representation (DateString).\n",
    "    \"\"\"\n",
    "    import pandas as pd\n",
    "\n",
    "    # Convert the epoch timestamp to a pandas datetime object as UTC, then convert to US/Eastern.\n",
    "    df[\"DateReported_dt\"] = (\n",
    "        pd.to_datetime(df[col], unit=\"ms\", errors=\"coerce\", utc=True)\n",
    "        .dt.tz_convert(\"US/Eastern\")\n",
    "    )\n",
    "    \n",
    "    # Create a true datetime column (remove timezone if you prefer naive datetime)\n",
    "    df[\"Date\"] = df[\"DateReported_dt\"].dt.tz_localize(None)\n",
    "\n",
    "    # Optionally, create a separate string-formatted column\n",
    "    df[\"DateString\"] = df[\"DateReported_dt\"].dt.strftime(\"%Y-%m-%d %I:%M:%S %p\")\n",
    "    \n",
    "    # DayOfWeek\n",
    "    df[\"DayOfWeek\"] = df[\"DateReported_dt\"].dt.day_name()\n",
    "    \n",
    "    # Weekend\n",
    "    df[\"Weekend\"] = df[\"DayOfWeek\"].isin([\"Saturday\", \"Sunday\"])\n",
    "    \n",
    "    # Helper function to determine the season\n",
    "    def get_season(dt):\n",
    "        month = dt.month\n",
    "        day = dt.day\n",
    "        # Approximate Northern Hemisphere season boundaries:\n",
    "        if (month == 12 and day >= 21) or (month < 3) or (month == 3 and day < 20):\n",
    "            return \"Winter\"\n",
    "        elif (month == 3 and day >= 20) or (month < 6) or (month == 6 and day < 21):\n",
    "            return \"Spring\"\n",
    "        elif (month == 6 and day >= 21) or (month < 9) or (month == 9 and day < 22):\n",
    "            return \"Summer\"\n",
    "        else:\n",
    "            return \"Autumn\"\n",
    "    \n",
    "    df[\"Season\"] = df[\"DateReported_dt\"].apply(get_season)\n",
    "    \n",
    "    # 12-hour formatted time (HourAMPM)\n",
    "    df[\"HourAMPM\"] = df[\"DateReported_dt\"].dt.strftime(\"%I:%M %p\")\n",
    "    \n",
    "    # Extract hour (0-23) for time-of-day\n",
    "    df[\"HourValue\"] = df[\"DateReported_dt\"].dt.hour\n",
    "    \n",
    "    def time_of_day(hour):\n",
    "        if pd.isnull(hour):\n",
    "            return None\n",
    "        if 5 <= hour < 12:\n",
    "            return \"Morning\"\n",
    "        elif 12 <= hour < 17:\n",
    "            return \"Afternoon\"\n",
    "        elif 17 <= hour < 21:\n",
    "            return \"Evening\"\n",
    "        else:\n",
    "            return \"Night\"\n",
    "    \n",
    "    df[\"TimeOfDay\"] = df[\"HourValue\"].apply(time_of_day)\n",
    "    \n",
    "    # Drop columns you no longer need\n",
    "    df.drop(columns=[col, \"DateReported_dt\", \"HourValue\"], inplace=True)\n",
    "    \n",
    "    return df\n",
    "\n",
    "# Example usage:\n",
    "df = convert_and_categorize_datereported(df)\n",
    "df.head()\n"
   ]
  },
  {
   "cell_type": "code",
   "execution_count": 8,
   "id": "595fe127",
   "metadata": {
    "execution": {
     "iopub.execute_input": "2025-05-06T01:02:59.352276Z",
     "iopub.status.busy": "2025-05-06T01:02:59.351860Z",
     "iopub.status.idle": "2025-05-06T01:02:59.377988Z",
     "shell.execute_reply": "2025-05-06T01:02:59.377351Z"
    },
    "papermill": {
     "duration": 0.033699,
     "end_time": "2025-05-06T01:02:59.379030",
     "exception": false,
     "start_time": "2025-05-06T01:02:59.345331",
     "status": "completed"
    },
    "tags": []
   },
   "outputs": [
    {
     "name": "stdout",
     "output_type": "stream",
     "text": [
      "<class 'pandas.core.frame.DataFrame'>\n",
      "RangeIndex: 25335 entries, 0 to 25334\n",
      "Data columns (total 15 columns):\n",
      " #   Column            Non-Null Count  Dtype         \n",
      "---  ------            --------------  -----         \n",
      " 0   RecordID          25335 non-null  int64         \n",
      " 1   Offense           25335 non-null  object        \n",
      " 2   IncidentID        25335 non-null  object        \n",
      " 3   BlockNumber       25335 non-null  object        \n",
      " 4   StreetName        25335 non-null  object        \n",
      " 5   Agency            25335 non-null  object        \n",
      " 6   HourReported      25335 non-null  object        \n",
      " 7   ReportingOfficer  25318 non-null  object        \n",
      " 8   Date              25335 non-null  datetime64[ns]\n",
      " 9   DateString        25335 non-null  object        \n",
      " 10  DayOfWeek         25335 non-null  object        \n",
      " 11  Weekend           25335 non-null  bool          \n",
      " 12  Season            25335 non-null  object        \n",
      " 13  HourAMPM          25335 non-null  object        \n",
      " 14  TimeOfDay         25335 non-null  object        \n",
      "dtypes: bool(1), datetime64[ns](1), int64(1), object(12)\n",
      "memory usage: 2.7+ MB\n"
     ]
    }
   ],
   "source": [
    "df.info()"
   ]
  },
  {
   "cell_type": "markdown",
   "id": "d96bb2f8",
   "metadata": {
    "papermill": {
     "duration": 0.005883,
     "end_time": "2025-05-06T01:02:59.391002",
     "exception": false,
     "start_time": "2025-05-06T01:02:59.385119",
     "status": "completed"
    },
    "tags": []
   },
   "source": [
    "### Coordinates"
   ]
  },
  {
   "cell_type": "code",
   "execution_count": 9,
   "id": "1c63aaa8",
   "metadata": {
    "execution": {
     "iopub.execute_input": "2025-05-06T01:02:59.404468Z",
     "iopub.status.busy": "2025-05-06T01:02:59.403836Z",
     "iopub.status.idle": "2025-05-06T01:02:59.631092Z",
     "shell.execute_reply": "2025-05-06T01:02:59.630502Z"
    },
    "papermill": {
     "duration": 0.235157,
     "end_time": "2025-05-06T01:02:59.632103",
     "exception": false,
     "start_time": "2025-05-06T01:02:59.396946",
     "status": "completed"
    },
    "tags": []
   },
   "outputs": [
    {
     "name": "stdout",
     "output_type": "stream",
     "text": [
      "Loaded geocode cache.\n"
     ]
    },
    {
     "name": "stdout",
     "output_type": "stream",
     "text": [
      "Geocoded 400 MONROE LN, 406: 38.0316967, -78.50267439999999\n",
      "Geocode cache updated and saved.\n"
     ]
    },
    {
     "data": {
      "text/html": [
       "<div>\n",
       "<style scoped>\n",
       "    .dataframe tbody tr th:only-of-type {\n",
       "        vertical-align: middle;\n",
       "    }\n",
       "\n",
       "    .dataframe tbody tr th {\n",
       "        vertical-align: top;\n",
       "    }\n",
       "\n",
       "    .dataframe thead th {\n",
       "        text-align: right;\n",
       "    }\n",
       "</style>\n",
       "<table border=\"1\" class=\"dataframe\">\n",
       "  <thead>\n",
       "    <tr style=\"text-align: right;\">\n",
       "      <th></th>\n",
       "      <th>RecordID</th>\n",
       "      <th>Offense</th>\n",
       "      <th>IncidentID</th>\n",
       "      <th>BlockNumber</th>\n",
       "      <th>StreetName</th>\n",
       "      <th>Agency</th>\n",
       "      <th>HourReported</th>\n",
       "      <th>ReportingOfficer</th>\n",
       "      <th>Date</th>\n",
       "      <th>DateString</th>\n",
       "      <th>DayOfWeek</th>\n",
       "      <th>Weekend</th>\n",
       "      <th>Season</th>\n",
       "      <th>HourAMPM</th>\n",
       "      <th>TimeOfDay</th>\n",
       "      <th>FullStreet</th>\n",
       "      <th>lat</th>\n",
       "      <th>lon</th>\n",
       "    </tr>\n",
       "  </thead>\n",
       "  <tbody>\n",
       "    <tr>\n",
       "      <th>0</th>\n",
       "      <td>1</td>\n",
       "      <td>Suspicious Activity</td>\n",
       "      <td>202500014784</td>\n",
       "      <td>200</td>\n",
       "      <td>RIDGE MCINTIRE RD</td>\n",
       "      <td>CPD</td>\n",
       "      <td>2134</td>\n",
       "      <td>Davis, Charles</td>\n",
       "      <td>2025-05-03 21:34:48</td>\n",
       "      <td>2025-05-03 09:34:48 PM</td>\n",
       "      <td>Saturday</td>\n",
       "      <td>True</td>\n",
       "      <td>Spring</td>\n",
       "      <td>09:34 PM</td>\n",
       "      <td>Night</td>\n",
       "      <td>200 RIDGE MCINTIRE RD</td>\n",
       "      <td>38.031221</td>\n",
       "      <td>-78.483889</td>\n",
       "    </tr>\n",
       "    <tr>\n",
       "      <th>1</th>\n",
       "      <td>2</td>\n",
       "      <td>Death Investigation - DOA</td>\n",
       "      <td>202500014758</td>\n",
       "      <td>1300</td>\n",
       "      <td>BELLEVIEW AVE, B</td>\n",
       "      <td>CPD</td>\n",
       "      <td>1847</td>\n",
       "      <td>Love-Baker, Sydney</td>\n",
       "      <td>2025-05-03 18:47:38</td>\n",
       "      <td>2025-05-03 06:47:38 PM</td>\n",
       "      <td>Saturday</td>\n",
       "      <td>True</td>\n",
       "      <td>Spring</td>\n",
       "      <td>06:47 PM</td>\n",
       "      <td>Evening</td>\n",
       "      <td>1300 BELLEVIEW AVE, B</td>\n",
       "      <td>38.037514</td>\n",
       "      <td>-78.459605</td>\n",
       "    </tr>\n",
       "    <tr>\n",
       "      <th>2</th>\n",
       "      <td>3</td>\n",
       "      <td>Larceny - All Other</td>\n",
       "      <td>202500014739</td>\n",
       "      <td>1100</td>\n",
       "      <td>5TH ST SW</td>\n",
       "      <td>CPD</td>\n",
       "      <td>1550</td>\n",
       "      <td>Reed, Danielle</td>\n",
       "      <td>2025-05-03 15:50:03</td>\n",
       "      <td>2025-05-03 03:50:03 PM</td>\n",
       "      <td>Saturday</td>\n",
       "      <td>True</td>\n",
       "      <td>Spring</td>\n",
       "      <td>03:50 PM</td>\n",
       "      <td>Afternoon</td>\n",
       "      <td>1100 5TH ST SW</td>\n",
       "      <td>38.017130</td>\n",
       "      <td>-78.497806</td>\n",
       "    </tr>\n",
       "    <tr>\n",
       "      <th>3</th>\n",
       "      <td>4</td>\n",
       "      <td>Burglary</td>\n",
       "      <td>202500014729</td>\n",
       "      <td>500</td>\n",
       "      <td>HARRIS RD, 106</td>\n",
       "      <td>CPD</td>\n",
       "      <td>1355</td>\n",
       "      <td>Reed, Danielle</td>\n",
       "      <td>2025-05-03 13:55:03</td>\n",
       "      <td>2025-05-03 01:55:03 PM</td>\n",
       "      <td>Saturday</td>\n",
       "      <td>True</td>\n",
       "      <td>Spring</td>\n",
       "      <td>01:55 PM</td>\n",
       "      <td>Afternoon</td>\n",
       "      <td>500 HARRIS RD, 106</td>\n",
       "      <td>38.015099</td>\n",
       "      <td>-78.503687</td>\n",
       "    </tr>\n",
       "    <tr>\n",
       "      <th>4</th>\n",
       "      <td>5</td>\n",
       "      <td>Lost/FoundProperty</td>\n",
       "      <td>202500014725</td>\n",
       "      <td>100</td>\n",
       "      <td>ELLIEWOOD AVE</td>\n",
       "      <td>CPD</td>\n",
       "      <td>1324</td>\n",
       "      <td>Schwartz, Honora</td>\n",
       "      <td>2025-05-03 13:24:16</td>\n",
       "      <td>2025-05-03 01:24:16 PM</td>\n",
       "      <td>Saturday</td>\n",
       "      <td>True</td>\n",
       "      <td>Spring</td>\n",
       "      <td>01:24 PM</td>\n",
       "      <td>Afternoon</td>\n",
       "      <td>100 ELLIEWOOD AVE</td>\n",
       "      <td>38.036309</td>\n",
       "      <td>-78.500571</td>\n",
       "    </tr>\n",
       "  </tbody>\n",
       "</table>\n",
       "</div>"
      ],
      "text/plain": [
       "   RecordID                    Offense    IncidentID BlockNumber  \\\n",
       "0         1        Suspicious Activity  202500014784         200   \n",
       "1         2  Death Investigation - DOA  202500014758        1300   \n",
       "2         3        Larceny - All Other  202500014739        1100   \n",
       "3         4                   Burglary  202500014729         500   \n",
       "4         5         Lost/FoundProperty  202500014725         100   \n",
       "\n",
       "          StreetName Agency HourReported    ReportingOfficer  \\\n",
       "0  RIDGE MCINTIRE RD    CPD         2134      Davis, Charles   \n",
       "1   BELLEVIEW AVE, B    CPD         1847  Love-Baker, Sydney   \n",
       "2          5TH ST SW    CPD         1550      Reed, Danielle   \n",
       "3     HARRIS RD, 106    CPD         1355      Reed, Danielle   \n",
       "4      ELLIEWOOD AVE    CPD         1324    Schwartz, Honora   \n",
       "\n",
       "                 Date              DateString DayOfWeek  Weekend  Season  \\\n",
       "0 2025-05-03 21:34:48  2025-05-03 09:34:48 PM  Saturday     True  Spring   \n",
       "1 2025-05-03 18:47:38  2025-05-03 06:47:38 PM  Saturday     True  Spring   \n",
       "2 2025-05-03 15:50:03  2025-05-03 03:50:03 PM  Saturday     True  Spring   \n",
       "3 2025-05-03 13:55:03  2025-05-03 01:55:03 PM  Saturday     True  Spring   \n",
       "4 2025-05-03 13:24:16  2025-05-03 01:24:16 PM  Saturday     True  Spring   \n",
       "\n",
       "   HourAMPM  TimeOfDay             FullStreet        lat        lon  \n",
       "0  09:34 PM      Night  200 RIDGE MCINTIRE RD  38.031221 -78.483889  \n",
       "1  06:47 PM    Evening  1300 BELLEVIEW AVE, B  38.037514 -78.459605  \n",
       "2  03:50 PM  Afternoon         1100 5TH ST SW  38.017130 -78.497806  \n",
       "3  01:55 PM  Afternoon     500 HARRIS RD, 106  38.015099 -78.503687  \n",
       "4  01:24 PM  Afternoon      100 ELLIEWOOD AVE  38.036309 -78.500571  "
      ]
     },
     "execution_count": 9,
     "metadata": {},
     "output_type": "execute_result"
    }
   ],
   "source": [
    "# Combine BlockNumber and StreetName into a full address string\n",
    "df['FullStreet'] = df['BlockNumber'].astype(str) + \" \" + df['StreetName']\n",
    "\n",
    "# --- Step 1: Setup the Google Maps Client and Cache ---\n",
    "gmaps = googlemaps.Client(key=GOOGLE_API_KEY)\n",
    "\n",
    "# Try to load cached geocoding results if available.\n",
    "try:\n",
    "    with open(\"geocode_cache_google.pkl\", \"rb\") as f:\n",
    "        street_coords = pickle.load(f)\n",
    "    print(\"Loaded geocode cache.\")\n",
    "except FileNotFoundError:\n",
    "    street_coords = {}\n",
    "    print(\"No cache found; starting fresh.\")\n",
    "\n",
    "def geocode_address(address):\n",
    "    try:\n",
    "        # Append city and state to help geocoding\n",
    "        result = gmaps.geocode(f\"{address}, Charlottesville, VA\")\n",
    "        if result:\n",
    "            lat = result[0]['geometry']['location']['lat']\n",
    "            lon = result[0]['geometry']['location']['lng']\n",
    "            return lat, lon\n",
    "    except Exception as e:\n",
    "        print(f\"Error geocoding {address}: {e}\")\n",
    "    return None, None\n",
    "\n",
    "# --- Step 2: Geocode Only New Addresses ---\n",
    "unique_addresses = df['FullStreet'].unique()\n",
    "for address in unique_addresses:\n",
    "    if address not in street_coords:\n",
    "        lat, lon = geocode_address(address)\n",
    "        street_coords[address] = (lat, lon)\n",
    "        print(f\"Geocoded {address}: {lat}, {lon}\")\n",
    "\n",
    "# Save the updated cache to disk.\n",
    "with open(\"geocode_cache_google.pkl\", \"wb\") as f:\n",
    "    pickle.dump(street_coords, f)\n",
    "    print(\"Geocode cache updated and saved.\")\n",
    "\n",
    "# --- Step 3: Map Coordinates Back to DataFrame ---\n",
    "df['lat'] = df['FullStreet'].map(lambda s: street_coords.get(s, (None, None))[0])\n",
    "df['lon'] = df['FullStreet'].map(lambda s: street_coords.get(s, (None, None))[1])\n",
    "\n",
    "df.head()"
   ]
  },
  {
   "cell_type": "markdown",
   "id": "519640c4",
   "metadata": {
    "papermill": {
     "duration": 0.006287,
     "end_time": "2025-05-06T01:02:59.644937",
     "exception": false,
     "start_time": "2025-05-06T01:02:59.638650",
     "status": "completed"
    },
    "tags": []
   },
   "source": [
    "### Neighborhood"
   ]
  },
  {
   "cell_type": "code",
   "execution_count": 10,
   "id": "f6c444e6",
   "metadata": {
    "execution": {
     "iopub.execute_input": "2025-05-06T01:02:59.658052Z",
     "iopub.status.busy": "2025-05-06T01:02:59.657844Z",
     "iopub.status.idle": "2025-05-06T01:02:59.915527Z",
     "shell.execute_reply": "2025-05-06T01:02:59.914948Z"
    },
    "papermill": {
     "duration": 0.26539,
     "end_time": "2025-05-06T01:02:59.916518",
     "exception": false,
     "start_time": "2025-05-06T01:02:59.651128",
     "status": "completed"
    },
    "tags": []
   },
   "outputs": [
    {
     "name": "stdout",
     "output_type": "stream",
     "text": [
      "Loaded neighborhood cache.\n"
     ]
    },
    {
     "data": {
      "text/html": [
       "<div>\n",
       "<style scoped>\n",
       "    .dataframe tbody tr th:only-of-type {\n",
       "        vertical-align: middle;\n",
       "    }\n",
       "\n",
       "    .dataframe tbody tr th {\n",
       "        vertical-align: top;\n",
       "    }\n",
       "\n",
       "    .dataframe thead th {\n",
       "        text-align: right;\n",
       "    }\n",
       "</style>\n",
       "<table border=\"1\" class=\"dataframe\">\n",
       "  <thead>\n",
       "    <tr style=\"text-align: right;\">\n",
       "      <th></th>\n",
       "      <th>RecordID</th>\n",
       "      <th>Offense</th>\n",
       "      <th>IncidentID</th>\n",
       "      <th>BlockNumber</th>\n",
       "      <th>StreetName</th>\n",
       "      <th>Agency</th>\n",
       "      <th>HourReported</th>\n",
       "      <th>ReportingOfficer</th>\n",
       "      <th>Date</th>\n",
       "      <th>DateString</th>\n",
       "      <th>DayOfWeek</th>\n",
       "      <th>Weekend</th>\n",
       "      <th>Season</th>\n",
       "      <th>HourAMPM</th>\n",
       "      <th>TimeOfDay</th>\n",
       "      <th>FullStreet</th>\n",
       "      <th>lat</th>\n",
       "      <th>lon</th>\n",
       "      <th>neighborhood</th>\n",
       "    </tr>\n",
       "  </thead>\n",
       "  <tbody>\n",
       "    <tr>\n",
       "      <th>0</th>\n",
       "      <td>1</td>\n",
       "      <td>Suspicious Activity</td>\n",
       "      <td>202500014784</td>\n",
       "      <td>200</td>\n",
       "      <td>RIDGE MCINTIRE RD</td>\n",
       "      <td>CPD</td>\n",
       "      <td>2134</td>\n",
       "      <td>Davis, Charles</td>\n",
       "      <td>2025-05-03 21:34:48</td>\n",
       "      <td>2025-05-03 09:34:48 PM</td>\n",
       "      <td>Saturday</td>\n",
       "      <td>True</td>\n",
       "      <td>Spring</td>\n",
       "      <td>09:34 PM</td>\n",
       "      <td>Night</td>\n",
       "      <td>200 RIDGE MCINTIRE RD</td>\n",
       "      <td>38.031221</td>\n",
       "      <td>-78.483889</td>\n",
       "      <td>Downtown Mall</td>\n",
       "    </tr>\n",
       "    <tr>\n",
       "      <th>1</th>\n",
       "      <td>2</td>\n",
       "      <td>Death Investigation - DOA</td>\n",
       "      <td>202500014758</td>\n",
       "      <td>1300</td>\n",
       "      <td>BELLEVIEW AVE, B</td>\n",
       "      <td>CPD</td>\n",
       "      <td>1847</td>\n",
       "      <td>Love-Baker, Sydney</td>\n",
       "      <td>2025-05-03 18:47:38</td>\n",
       "      <td>2025-05-03 06:47:38 PM</td>\n",
       "      <td>Saturday</td>\n",
       "      <td>True</td>\n",
       "      <td>Spring</td>\n",
       "      <td>06:47 PM</td>\n",
       "      <td>Evening</td>\n",
       "      <td>1300 BELLEVIEW AVE, B</td>\n",
       "      <td>38.037514</td>\n",
       "      <td>-78.459605</td>\n",
       "      <td>Locust Grove</td>\n",
       "    </tr>\n",
       "    <tr>\n",
       "      <th>2</th>\n",
       "      <td>3</td>\n",
       "      <td>Larceny - All Other</td>\n",
       "      <td>202500014739</td>\n",
       "      <td>1100</td>\n",
       "      <td>5TH ST SW</td>\n",
       "      <td>CPD</td>\n",
       "      <td>1550</td>\n",
       "      <td>Reed, Danielle</td>\n",
       "      <td>2025-05-03 15:50:03</td>\n",
       "      <td>2025-05-03 03:50:03 PM</td>\n",
       "      <td>Saturday</td>\n",
       "      <td>True</td>\n",
       "      <td>Spring</td>\n",
       "      <td>03:50 PM</td>\n",
       "      <td>Afternoon</td>\n",
       "      <td>1100 5TH ST SW</td>\n",
       "      <td>38.017130</td>\n",
       "      <td>-78.497806</td>\n",
       "      <td>Johnson Village</td>\n",
       "    </tr>\n",
       "    <tr>\n",
       "      <th>3</th>\n",
       "      <td>4</td>\n",
       "      <td>Burglary</td>\n",
       "      <td>202500014729</td>\n",
       "      <td>500</td>\n",
       "      <td>HARRIS RD, 106</td>\n",
       "      <td>CPD</td>\n",
       "      <td>1355</td>\n",
       "      <td>Reed, Danielle</td>\n",
       "      <td>2025-05-03 13:55:03</td>\n",
       "      <td>2025-05-03 01:55:03 PM</td>\n",
       "      <td>Saturday</td>\n",
       "      <td>True</td>\n",
       "      <td>Spring</td>\n",
       "      <td>01:55 PM</td>\n",
       "      <td>Afternoon</td>\n",
       "      <td>500 HARRIS RD, 106</td>\n",
       "      <td>38.015099</td>\n",
       "      <td>-78.503687</td>\n",
       "      <td>Fry's Spring</td>\n",
       "    </tr>\n",
       "    <tr>\n",
       "      <th>4</th>\n",
       "      <td>5</td>\n",
       "      <td>Lost/FoundProperty</td>\n",
       "      <td>202500014725</td>\n",
       "      <td>100</td>\n",
       "      <td>ELLIEWOOD AVE</td>\n",
       "      <td>CPD</td>\n",
       "      <td>1324</td>\n",
       "      <td>Schwartz, Honora</td>\n",
       "      <td>2025-05-03 13:24:16</td>\n",
       "      <td>2025-05-03 01:24:16 PM</td>\n",
       "      <td>Saturday</td>\n",
       "      <td>True</td>\n",
       "      <td>Spring</td>\n",
       "      <td>01:24 PM</td>\n",
       "      <td>Afternoon</td>\n",
       "      <td>100 ELLIEWOOD AVE</td>\n",
       "      <td>38.036309</td>\n",
       "      <td>-78.500571</td>\n",
       "      <td>Venable</td>\n",
       "    </tr>\n",
       "  </tbody>\n",
       "</table>\n",
       "</div>"
      ],
      "text/plain": [
       "   RecordID                    Offense    IncidentID BlockNumber  \\\n",
       "0         1        Suspicious Activity  202500014784         200   \n",
       "1         2  Death Investigation - DOA  202500014758        1300   \n",
       "2         3        Larceny - All Other  202500014739        1100   \n",
       "3         4                   Burglary  202500014729         500   \n",
       "4         5         Lost/FoundProperty  202500014725         100   \n",
       "\n",
       "          StreetName Agency HourReported    ReportingOfficer  \\\n",
       "0  RIDGE MCINTIRE RD    CPD         2134      Davis, Charles   \n",
       "1   BELLEVIEW AVE, B    CPD         1847  Love-Baker, Sydney   \n",
       "2          5TH ST SW    CPD         1550      Reed, Danielle   \n",
       "3     HARRIS RD, 106    CPD         1355      Reed, Danielle   \n",
       "4      ELLIEWOOD AVE    CPD         1324    Schwartz, Honora   \n",
       "\n",
       "                 Date              DateString DayOfWeek  Weekend  Season  \\\n",
       "0 2025-05-03 21:34:48  2025-05-03 09:34:48 PM  Saturday     True  Spring   \n",
       "1 2025-05-03 18:47:38  2025-05-03 06:47:38 PM  Saturday     True  Spring   \n",
       "2 2025-05-03 15:50:03  2025-05-03 03:50:03 PM  Saturday     True  Spring   \n",
       "3 2025-05-03 13:55:03  2025-05-03 01:55:03 PM  Saturday     True  Spring   \n",
       "4 2025-05-03 13:24:16  2025-05-03 01:24:16 PM  Saturday     True  Spring   \n",
       "\n",
       "   HourAMPM  TimeOfDay             FullStreet        lat        lon  \\\n",
       "0  09:34 PM      Night  200 RIDGE MCINTIRE RD  38.031221 -78.483889   \n",
       "1  06:47 PM    Evening  1300 BELLEVIEW AVE, B  38.037514 -78.459605   \n",
       "2  03:50 PM  Afternoon         1100 5TH ST SW  38.017130 -78.497806   \n",
       "3  01:55 PM  Afternoon     500 HARRIS RD, 106  38.015099 -78.503687   \n",
       "4  01:24 PM  Afternoon      100 ELLIEWOOD AVE  38.036309 -78.500571   \n",
       "\n",
       "      neighborhood  \n",
       "0    Downtown Mall  \n",
       "1     Locust Grove  \n",
       "2  Johnson Village  \n",
       "3     Fry's Spring  \n",
       "4          Venable  "
      ]
     },
     "execution_count": 10,
     "metadata": {},
     "output_type": "execute_result"
    }
   ],
   "source": [
    "# Initialize the Google Maps client.\n",
    "gmaps = googlemaps.Client(key=GOOGLE_API_KEY)\n",
    "\n",
    "# Try to load a persistent neighborhood cache if available.\n",
    "try:\n",
    "    with open(\"neighborhood_cache.pkl\", \"rb\") as f:\n",
    "        neighborhood_cache = pickle.load(f)\n",
    "    print(\"Loaded neighborhood cache.\")\n",
    "except FileNotFoundError:\n",
    "    neighborhood_cache = {}\n",
    "    print(\"No neighborhood cache found; starting fresh.\")\n",
    "\n",
    "def get_neighborhood(lat, lon):\n",
    "    \"\"\"\n",
    "    Reverse geocodes a latitude and longitude to retrieve the neighborhood.\n",
    "    Caches results to speed up subsequent lookups.\n",
    "    \"\"\"\n",
    "    key = (lat, lon)\n",
    "    if key in neighborhood_cache:\n",
    "        return neighborhood_cache[key]\n",
    "    \n",
    "    try:\n",
    "        result = gmaps.reverse_geocode((lat, lon))\n",
    "        if result:\n",
    "            # Look for the 'neighborhood' component in the first result.\n",
    "            for component in result[0]['address_components']:\n",
    "                if 'neighborhood' in component['types']:\n",
    "                    neighborhood = component['long_name']\n",
    "                    neighborhood_cache[key] = neighborhood\n",
    "                    return neighborhood\n",
    "            # If no neighborhood is found, return \"N/A\"\n",
    "            neighborhood_cache[key] = \"N/A\"\n",
    "            return \"N/A\"\n",
    "    except Exception as e:\n",
    "        print(f\"Error getting neighborhood for {lat}, {lon}: {e}\")\n",
    "        return \"N/A\"\n",
    "    \n",
    "    # Pause to respect usage limits.\n",
    "    time.sleep(1)\n",
    "\n",
    "# Example usage: Apply to your DataFrame 'df' that already has 'lat' and 'lon' columns.\n",
    "df['neighborhood'] = df.apply(lambda row: get_neighborhood(row['lat'], row['lon']), axis=1)\n",
    "\n",
    "# Save the updated neighborhood cache.\n",
    "with open(\"neighborhood_cache.pkl\", \"wb\") as f:\n",
    "    pickle.dump(neighborhood_cache, f)\n",
    "\n",
    "df.head()\n"
   ]
  },
  {
   "cell_type": "markdown",
   "id": "5c6c859d",
   "metadata": {
    "papermill": {
     "duration": 0.006428,
     "end_time": "2025-05-06T01:02:59.929835",
     "exception": false,
     "start_time": "2025-05-06T01:02:59.923407",
     "status": "completed"
    },
    "tags": []
   },
   "source": [
    "### Zip"
   ]
  },
  {
   "cell_type": "code",
   "execution_count": 11,
   "id": "9581a9bb",
   "metadata": {
    "execution": {
     "iopub.execute_input": "2025-05-06T01:02:59.943825Z",
     "iopub.status.busy": "2025-05-06T01:02:59.943424Z",
     "iopub.status.idle": "2025-05-06T01:03:00.186025Z",
     "shell.execute_reply": "2025-05-06T01:03:00.185332Z"
    },
    "papermill": {
     "duration": 0.250823,
     "end_time": "2025-05-06T01:03:00.187192",
     "exception": false,
     "start_time": "2025-05-06T01:02:59.936369",
     "status": "completed"
    },
    "tags": []
   },
   "outputs": [
    {
     "name": "stdout",
     "output_type": "stream",
     "text": [
      "Loaded zip cache.\n"
     ]
    },
    {
     "data": {
      "text/html": [
       "<div>\n",
       "<style scoped>\n",
       "    .dataframe tbody tr th:only-of-type {\n",
       "        vertical-align: middle;\n",
       "    }\n",
       "\n",
       "    .dataframe tbody tr th {\n",
       "        vertical-align: top;\n",
       "    }\n",
       "\n",
       "    .dataframe thead th {\n",
       "        text-align: right;\n",
       "    }\n",
       "</style>\n",
       "<table border=\"1\" class=\"dataframe\">\n",
       "  <thead>\n",
       "    <tr style=\"text-align: right;\">\n",
       "      <th></th>\n",
       "      <th>RecordID</th>\n",
       "      <th>Offense</th>\n",
       "      <th>IncidentID</th>\n",
       "      <th>BlockNumber</th>\n",
       "      <th>StreetName</th>\n",
       "      <th>Agency</th>\n",
       "      <th>HourReported</th>\n",
       "      <th>ReportingOfficer</th>\n",
       "      <th>Date</th>\n",
       "      <th>DateString</th>\n",
       "      <th>DayOfWeek</th>\n",
       "      <th>Weekend</th>\n",
       "      <th>Season</th>\n",
       "      <th>HourAMPM</th>\n",
       "      <th>TimeOfDay</th>\n",
       "      <th>FullStreet</th>\n",
       "      <th>lat</th>\n",
       "      <th>lon</th>\n",
       "      <th>neighborhood</th>\n",
       "      <th>zip</th>\n",
       "    </tr>\n",
       "  </thead>\n",
       "  <tbody>\n",
       "    <tr>\n",
       "      <th>0</th>\n",
       "      <td>1</td>\n",
       "      <td>Suspicious Activity</td>\n",
       "      <td>202500014784</td>\n",
       "      <td>200</td>\n",
       "      <td>RIDGE MCINTIRE RD</td>\n",
       "      <td>CPD</td>\n",
       "      <td>2134</td>\n",
       "      <td>Davis, Charles</td>\n",
       "      <td>2025-05-03 21:34:48</td>\n",
       "      <td>2025-05-03 09:34:48 PM</td>\n",
       "      <td>Saturday</td>\n",
       "      <td>True</td>\n",
       "      <td>Spring</td>\n",
       "      <td>09:34 PM</td>\n",
       "      <td>Night</td>\n",
       "      <td>200 RIDGE MCINTIRE RD</td>\n",
       "      <td>38.031221</td>\n",
       "      <td>-78.483889</td>\n",
       "      <td>Downtown Mall</td>\n",
       "      <td>22903</td>\n",
       "    </tr>\n",
       "    <tr>\n",
       "      <th>1</th>\n",
       "      <td>2</td>\n",
       "      <td>Death Investigation - DOA</td>\n",
       "      <td>202500014758</td>\n",
       "      <td>1300</td>\n",
       "      <td>BELLEVIEW AVE, B</td>\n",
       "      <td>CPD</td>\n",
       "      <td>1847</td>\n",
       "      <td>Love-Baker, Sydney</td>\n",
       "      <td>2025-05-03 18:47:38</td>\n",
       "      <td>2025-05-03 06:47:38 PM</td>\n",
       "      <td>Saturday</td>\n",
       "      <td>True</td>\n",
       "      <td>Spring</td>\n",
       "      <td>06:47 PM</td>\n",
       "      <td>Evening</td>\n",
       "      <td>1300 BELLEVIEW AVE, B</td>\n",
       "      <td>38.037514</td>\n",
       "      <td>-78.459605</td>\n",
       "      <td>Locust Grove</td>\n",
       "      <td>22901</td>\n",
       "    </tr>\n",
       "    <tr>\n",
       "      <th>2</th>\n",
       "      <td>3</td>\n",
       "      <td>Larceny - All Other</td>\n",
       "      <td>202500014739</td>\n",
       "      <td>1100</td>\n",
       "      <td>5TH ST SW</td>\n",
       "      <td>CPD</td>\n",
       "      <td>1550</td>\n",
       "      <td>Reed, Danielle</td>\n",
       "      <td>2025-05-03 15:50:03</td>\n",
       "      <td>2025-05-03 03:50:03 PM</td>\n",
       "      <td>Saturday</td>\n",
       "      <td>True</td>\n",
       "      <td>Spring</td>\n",
       "      <td>03:50 PM</td>\n",
       "      <td>Afternoon</td>\n",
       "      <td>1100 5TH ST SW</td>\n",
       "      <td>38.017130</td>\n",
       "      <td>-78.497806</td>\n",
       "      <td>Johnson Village</td>\n",
       "      <td>22903</td>\n",
       "    </tr>\n",
       "    <tr>\n",
       "      <th>3</th>\n",
       "      <td>4</td>\n",
       "      <td>Burglary</td>\n",
       "      <td>202500014729</td>\n",
       "      <td>500</td>\n",
       "      <td>HARRIS RD, 106</td>\n",
       "      <td>CPD</td>\n",
       "      <td>1355</td>\n",
       "      <td>Reed, Danielle</td>\n",
       "      <td>2025-05-03 13:55:03</td>\n",
       "      <td>2025-05-03 01:55:03 PM</td>\n",
       "      <td>Saturday</td>\n",
       "      <td>True</td>\n",
       "      <td>Spring</td>\n",
       "      <td>01:55 PM</td>\n",
       "      <td>Afternoon</td>\n",
       "      <td>500 HARRIS RD, 106</td>\n",
       "      <td>38.015099</td>\n",
       "      <td>-78.503687</td>\n",
       "      <td>Fry's Spring</td>\n",
       "      <td>22903</td>\n",
       "    </tr>\n",
       "    <tr>\n",
       "      <th>4</th>\n",
       "      <td>5</td>\n",
       "      <td>Lost/FoundProperty</td>\n",
       "      <td>202500014725</td>\n",
       "      <td>100</td>\n",
       "      <td>ELLIEWOOD AVE</td>\n",
       "      <td>CPD</td>\n",
       "      <td>1324</td>\n",
       "      <td>Schwartz, Honora</td>\n",
       "      <td>2025-05-03 13:24:16</td>\n",
       "      <td>2025-05-03 01:24:16 PM</td>\n",
       "      <td>Saturday</td>\n",
       "      <td>True</td>\n",
       "      <td>Spring</td>\n",
       "      <td>01:24 PM</td>\n",
       "      <td>Afternoon</td>\n",
       "      <td>100 ELLIEWOOD AVE</td>\n",
       "      <td>38.036309</td>\n",
       "      <td>-78.500571</td>\n",
       "      <td>Venable</td>\n",
       "      <td>22903</td>\n",
       "    </tr>\n",
       "  </tbody>\n",
       "</table>\n",
       "</div>"
      ],
      "text/plain": [
       "   RecordID                    Offense    IncidentID BlockNumber  \\\n",
       "0         1        Suspicious Activity  202500014784         200   \n",
       "1         2  Death Investigation - DOA  202500014758        1300   \n",
       "2         3        Larceny - All Other  202500014739        1100   \n",
       "3         4                   Burglary  202500014729         500   \n",
       "4         5         Lost/FoundProperty  202500014725         100   \n",
       "\n",
       "          StreetName Agency HourReported    ReportingOfficer  \\\n",
       "0  RIDGE MCINTIRE RD    CPD         2134      Davis, Charles   \n",
       "1   BELLEVIEW AVE, B    CPD         1847  Love-Baker, Sydney   \n",
       "2          5TH ST SW    CPD         1550      Reed, Danielle   \n",
       "3     HARRIS RD, 106    CPD         1355      Reed, Danielle   \n",
       "4      ELLIEWOOD AVE    CPD         1324    Schwartz, Honora   \n",
       "\n",
       "                 Date              DateString DayOfWeek  Weekend  Season  \\\n",
       "0 2025-05-03 21:34:48  2025-05-03 09:34:48 PM  Saturday     True  Spring   \n",
       "1 2025-05-03 18:47:38  2025-05-03 06:47:38 PM  Saturday     True  Spring   \n",
       "2 2025-05-03 15:50:03  2025-05-03 03:50:03 PM  Saturday     True  Spring   \n",
       "3 2025-05-03 13:55:03  2025-05-03 01:55:03 PM  Saturday     True  Spring   \n",
       "4 2025-05-03 13:24:16  2025-05-03 01:24:16 PM  Saturday     True  Spring   \n",
       "\n",
       "   HourAMPM  TimeOfDay             FullStreet        lat        lon  \\\n",
       "0  09:34 PM      Night  200 RIDGE MCINTIRE RD  38.031221 -78.483889   \n",
       "1  06:47 PM    Evening  1300 BELLEVIEW AVE, B  38.037514 -78.459605   \n",
       "2  03:50 PM  Afternoon         1100 5TH ST SW  38.017130 -78.497806   \n",
       "3  01:55 PM  Afternoon     500 HARRIS RD, 106  38.015099 -78.503687   \n",
       "4  01:24 PM  Afternoon      100 ELLIEWOOD AVE  38.036309 -78.500571   \n",
       "\n",
       "      neighborhood    zip  \n",
       "0    Downtown Mall  22903  \n",
       "1     Locust Grove  22901  \n",
       "2  Johnson Village  22903  \n",
       "3     Fry's Spring  22903  \n",
       "4          Venable  22903  "
      ]
     },
     "execution_count": 11,
     "metadata": {},
     "output_type": "execute_result"
    }
   ],
   "source": [
    "# Initialize the geocoder.\n",
    "geolocator = Nominatim(user_agent=\"zip_lookup\")\n",
    "\n",
    "# Try to load a persistent ZIP cache if available.\n",
    "try:\n",
    "    with open(\"zip_cache.pkl\", \"rb\") as f:\n",
    "        zip_cache = pickle.load(f)\n",
    "    print(\"Loaded zip cache.\")\n",
    "except FileNotFoundError:\n",
    "    zip_cache = {}\n",
    "    print(\"No zip cache found; starting fresh.\")\n",
    "\n",
    "def get_zip(lat, lon):\n",
    "    \"\"\"\n",
    "    Reverse geocodes a latitude and longitude to retrieve the ZIP code.\n",
    "    Caches results to speed up subsequent lookups.\n",
    "    \"\"\"\n",
    "    key = (lat, lon)\n",
    "    if key in zip_cache:\n",
    "        return zip_cache[key]\n",
    "    \n",
    "    try:\n",
    "        location = geolocator.reverse((lat, lon), exactly_one=True, timeout=10)\n",
    "        address = location.raw.get('address', {})\n",
    "        postal_code = address.get('postcode', \"N/A\")\n",
    "    except Exception as e:\n",
    "        print(f\"Error getting ZIP for {lat}, {lon}: {e}\")\n",
    "        postal_code = \"N/A\"\n",
    "    \n",
    "    zip_cache[key] = postal_code\n",
    "    # Pause to respect the usage policy.\n",
    "    time.sleep(1)\n",
    "    return postal_code\n",
    "\n",
    "# Apply the function to each row in the DataFrame.\n",
    "df['zip'] = df.apply(lambda row: get_zip(row['lat'], row['lon']), axis=1)\n",
    "\n",
    "# Save the updated ZIP cache.\n",
    "with open(\"zip_cache.pkl\", \"wb\") as f:\n",
    "    pickle.dump(zip_cache, f)\n",
    "\n",
    "df.head()\n"
   ]
  },
  {
   "cell_type": "code",
   "execution_count": 12,
   "id": "9aa238f1",
   "metadata": {
    "execution": {
     "iopub.execute_input": "2025-05-06T01:03:00.203194Z",
     "iopub.status.busy": "2025-05-06T01:03:00.202585Z",
     "iopub.status.idle": "2025-05-06T01:03:00.234336Z",
     "shell.execute_reply": "2025-05-06T01:03:00.233631Z"
    },
    "papermill": {
     "duration": 0.040939,
     "end_time": "2025-05-06T01:03:00.235487",
     "exception": false,
     "start_time": "2025-05-06T01:03:00.194548",
     "status": "completed"
    },
    "tags": []
   },
   "outputs": [
    {
     "name": "stdout",
     "output_type": "stream",
     "text": [
      "                  MissingCount  MissingPercentage\n",
      "RecordID                     0               0.00\n",
      "Offense                      0               0.00\n",
      "IncidentID                   0               0.00\n",
      "BlockNumber                  0               0.00\n",
      "StreetName                   0               0.00\n",
      "Agency                       0               0.00\n",
      "HourReported                 0               0.00\n",
      "ReportingOfficer            17               0.07\n",
      "Date                         0               0.00\n",
      "DateString                   0               0.00\n",
      "DayOfWeek                    0               0.00\n",
      "Weekend                      0               0.00\n",
      "Season                       0               0.00\n",
      "HourAMPM                     0               0.00\n",
      "TimeOfDay                    0               0.00\n",
      "FullStreet                   0               0.00\n",
      "lat                          0               0.00\n",
      "lon                          0               0.00\n",
      "neighborhood                 0               0.00\n",
      "zip                          0               0.00\n"
     ]
    }
   ],
   "source": [
    "missing_info = missing_percentage(df)\n",
    "print(missing_info)\n"
   ]
  },
  {
   "cell_type": "code",
   "execution_count": 13,
   "id": "257f2748",
   "metadata": {
    "execution": {
     "iopub.execute_input": "2025-05-06T01:03:00.250921Z",
     "iopub.status.busy": "2025-05-06T01:03:00.250409Z",
     "iopub.status.idle": "2025-05-06T01:03:00.281404Z",
     "shell.execute_reply": "2025-05-06T01:03:00.280846Z"
    },
    "papermill": {
     "duration": 0.039722,
     "end_time": "2025-05-06T01:03:00.282457",
     "exception": false,
     "start_time": "2025-05-06T01:03:00.242735",
     "status": "completed"
    },
    "tags": []
   },
   "outputs": [
    {
     "name": "stdout",
     "output_type": "stream",
     "text": [
      "<class 'pandas.core.frame.DataFrame'>\n",
      "RangeIndex: 25335 entries, 0 to 25334\n",
      "Data columns (total 20 columns):\n",
      " #   Column            Non-Null Count  Dtype         \n",
      "---  ------            --------------  -----         \n",
      " 0   RecordID          25335 non-null  int64         \n",
      " 1   Offense           25335 non-null  object        \n",
      " 2   IncidentID        25335 non-null  object        \n",
      " 3   BlockNumber       25335 non-null  object        \n",
      " 4   StreetName        25335 non-null  object        \n",
      " 5   Agency            25335 non-null  object        \n",
      " 6   HourReported      25335 non-null  object        \n",
      " 7   ReportingOfficer  25318 non-null  object        \n",
      " 8   Date              25335 non-null  datetime64[ns]\n",
      " 9   DateString        25335 non-null  object        \n",
      " 10  DayOfWeek         25335 non-null  object        \n",
      " 11  Weekend           25335 non-null  bool          \n",
      " 12  Season            25335 non-null  object        \n",
      " 13  HourAMPM          25335 non-null  object        \n",
      " 14  TimeOfDay         25335 non-null  object        \n",
      " 15  FullStreet        25335 non-null  object        \n",
      " 16  lat               25335 non-null  float64       \n",
      " 17  lon               25335 non-null  float64       \n",
      " 18  neighborhood      25335 non-null  object        \n",
      " 19  zip               25335 non-null  object        \n",
      "dtypes: bool(1), datetime64[ns](1), float64(2), int64(1), object(15)\n",
      "memory usage: 3.7+ MB\n"
     ]
    }
   ],
   "source": [
    "df.info()"
   ]
  },
  {
   "cell_type": "code",
   "execution_count": 14,
   "id": "11f45518",
   "metadata": {
    "execution": {
     "iopub.execute_input": "2025-05-06T01:03:00.298085Z",
     "iopub.status.busy": "2025-05-06T01:03:00.297450Z",
     "iopub.status.idle": "2025-05-06T01:03:00.343482Z",
     "shell.execute_reply": "2025-05-06T01:03:00.342785Z"
    },
    "papermill": {
     "duration": 0.054867,
     "end_time": "2025-05-06T01:03:00.344682",
     "exception": false,
     "start_time": "2025-05-06T01:03:00.289815",
     "status": "completed"
    },
    "tags": []
   },
   "outputs": [
    {
     "data": {
      "text/html": [
       "<div>\n",
       "<style scoped>\n",
       "    .dataframe tbody tr th:only-of-type {\n",
       "        vertical-align: middle;\n",
       "    }\n",
       "\n",
       "    .dataframe tbody tr th {\n",
       "        vertical-align: top;\n",
       "    }\n",
       "\n",
       "    .dataframe thead th {\n",
       "        text-align: right;\n",
       "    }\n",
       "</style>\n",
       "<table border=\"1\" class=\"dataframe\">\n",
       "  <thead>\n",
       "    <tr style=\"text-align: right;\">\n",
       "      <th></th>\n",
       "      <th>RecordID</th>\n",
       "      <th>Offense</th>\n",
       "      <th>IncidentID</th>\n",
       "      <th>Agency</th>\n",
       "      <th>ReportingOfficer</th>\n",
       "      <th>Date</th>\n",
       "      <th>DayOfWeek</th>\n",
       "      <th>Weekend</th>\n",
       "      <th>Season</th>\n",
       "      <th>TimeOfDay</th>\n",
       "      <th>FullStreet</th>\n",
       "      <th>lat</th>\n",
       "      <th>lon</th>\n",
       "      <th>neighborhood</th>\n",
       "      <th>zip</th>\n",
       "    </tr>\n",
       "  </thead>\n",
       "  <tbody>\n",
       "    <tr>\n",
       "      <th>0</th>\n",
       "      <td>1</td>\n",
       "      <td>Suspicious Activity</td>\n",
       "      <td>202500014784</td>\n",
       "      <td>CPD</td>\n",
       "      <td>Davis, Charles</td>\n",
       "      <td>2025-05-03 21:34:48</td>\n",
       "      <td>Saturday</td>\n",
       "      <td>True</td>\n",
       "      <td>Spring</td>\n",
       "      <td>Night</td>\n",
       "      <td>200 RIDGE MCINTIRE RD</td>\n",
       "      <td>38.031221</td>\n",
       "      <td>-78.483889</td>\n",
       "      <td>Downtown Mall</td>\n",
       "      <td>22903</td>\n",
       "    </tr>\n",
       "    <tr>\n",
       "      <th>1</th>\n",
       "      <td>2</td>\n",
       "      <td>Death Investigation - DOA</td>\n",
       "      <td>202500014758</td>\n",
       "      <td>CPD</td>\n",
       "      <td>Love-Baker, Sydney</td>\n",
       "      <td>2025-05-03 18:47:38</td>\n",
       "      <td>Saturday</td>\n",
       "      <td>True</td>\n",
       "      <td>Spring</td>\n",
       "      <td>Evening</td>\n",
       "      <td>1300 BELLEVIEW AVE, B</td>\n",
       "      <td>38.037514</td>\n",
       "      <td>-78.459605</td>\n",
       "      <td>Locust Grove</td>\n",
       "      <td>22901</td>\n",
       "    </tr>\n",
       "    <tr>\n",
       "      <th>2</th>\n",
       "      <td>3</td>\n",
       "      <td>Larceny - All Other</td>\n",
       "      <td>202500014739</td>\n",
       "      <td>CPD</td>\n",
       "      <td>Reed, Danielle</td>\n",
       "      <td>2025-05-03 15:50:03</td>\n",
       "      <td>Saturday</td>\n",
       "      <td>True</td>\n",
       "      <td>Spring</td>\n",
       "      <td>Afternoon</td>\n",
       "      <td>1100 5TH ST SW</td>\n",
       "      <td>38.017130</td>\n",
       "      <td>-78.497806</td>\n",
       "      <td>Johnson Village</td>\n",
       "      <td>22903</td>\n",
       "    </tr>\n",
       "    <tr>\n",
       "      <th>3</th>\n",
       "      <td>4</td>\n",
       "      <td>Burglary</td>\n",
       "      <td>202500014729</td>\n",
       "      <td>CPD</td>\n",
       "      <td>Reed, Danielle</td>\n",
       "      <td>2025-05-03 13:55:03</td>\n",
       "      <td>Saturday</td>\n",
       "      <td>True</td>\n",
       "      <td>Spring</td>\n",
       "      <td>Afternoon</td>\n",
       "      <td>500 HARRIS RD, 106</td>\n",
       "      <td>38.015099</td>\n",
       "      <td>-78.503687</td>\n",
       "      <td>Fry's Spring</td>\n",
       "      <td>22903</td>\n",
       "    </tr>\n",
       "    <tr>\n",
       "      <th>4</th>\n",
       "      <td>5</td>\n",
       "      <td>Lost/FoundProperty</td>\n",
       "      <td>202500014725</td>\n",
       "      <td>CPD</td>\n",
       "      <td>Schwartz, Honora</td>\n",
       "      <td>2025-05-03 13:24:16</td>\n",
       "      <td>Saturday</td>\n",
       "      <td>True</td>\n",
       "      <td>Spring</td>\n",
       "      <td>Afternoon</td>\n",
       "      <td>100 ELLIEWOOD AVE</td>\n",
       "      <td>38.036309</td>\n",
       "      <td>-78.500571</td>\n",
       "      <td>Venable</td>\n",
       "      <td>22903</td>\n",
       "    </tr>\n",
       "  </tbody>\n",
       "</table>\n",
       "</div>"
      ],
      "text/plain": [
       "   RecordID                    Offense    IncidentID Agency  \\\n",
       "0         1        Suspicious Activity  202500014784    CPD   \n",
       "1         2  Death Investigation - DOA  202500014758    CPD   \n",
       "2         3        Larceny - All Other  202500014739    CPD   \n",
       "3         4                   Burglary  202500014729    CPD   \n",
       "4         5         Lost/FoundProperty  202500014725    CPD   \n",
       "\n",
       "     ReportingOfficer                Date DayOfWeek  Weekend  Season  \\\n",
       "0      Davis, Charles 2025-05-03 21:34:48  Saturday     True  Spring   \n",
       "1  Love-Baker, Sydney 2025-05-03 18:47:38  Saturday     True  Spring   \n",
       "2      Reed, Danielle 2025-05-03 15:50:03  Saturday     True  Spring   \n",
       "3      Reed, Danielle 2025-05-03 13:55:03  Saturday     True  Spring   \n",
       "4    Schwartz, Honora 2025-05-03 13:24:16  Saturday     True  Spring   \n",
       "\n",
       "   TimeOfDay             FullStreet        lat        lon     neighborhood  \\\n",
       "0      Night  200 RIDGE MCINTIRE RD  38.031221 -78.483889    Downtown Mall   \n",
       "1    Evening  1300 BELLEVIEW AVE, B  38.037514 -78.459605     Locust Grove   \n",
       "2  Afternoon         1100 5TH ST SW  38.017130 -78.497806  Johnson Village   \n",
       "3  Afternoon     500 HARRIS RD, 106  38.015099 -78.503687     Fry's Spring   \n",
       "4  Afternoon      100 ELLIEWOOD AVE  38.036309 -78.500571          Venable   \n",
       "\n",
       "     zip  \n",
       "0  22903  \n",
       "1  22901  \n",
       "2  22903  \n",
       "3  22903  \n",
       "4  22903  "
      ]
     },
     "execution_count": 14,
     "metadata": {},
     "output_type": "execute_result"
    }
   ],
   "source": [
    "# Now drop the original BlockNumber and StreetName columns\n",
    "df.drop(columns=['BlockNumber', 'StreetName','HourAMPM','HourReported','DateString'], inplace=True)\n",
    "df[\"zip\"] = df[\"zip\"].astype(str)\n",
    "\n",
    "# Fill all missing values in the DataFrame with \"N/A\"\n",
    "df.replace({None: \"N/A\", np.nan: \"N/A\", \"\": \"N/A\"}, inplace=True)\n",
    "df.head()"
   ]
  },
  {
   "cell_type": "code",
   "execution_count": 15,
   "id": "981dccde",
   "metadata": {
    "execution": {
     "iopub.execute_input": "2025-05-06T01:03:00.360653Z",
     "iopub.status.busy": "2025-05-06T01:03:00.360193Z",
     "iopub.status.idle": "2025-05-06T01:03:00.381838Z",
     "shell.execute_reply": "2025-05-06T01:03:00.381113Z"
    },
    "papermill": {
     "duration": 0.030563,
     "end_time": "2025-05-06T01:03:00.382930",
     "exception": false,
     "start_time": "2025-05-06T01:03:00.352367",
     "status": "completed"
    },
    "tags": []
   },
   "outputs": [
    {
     "name": "stdout",
     "output_type": "stream",
     "text": [
      "                  MissingCount  MissingPercentage\n",
      "RecordID                     0                0.0\n",
      "Offense                      0                0.0\n",
      "IncidentID                   0                0.0\n",
      "Agency                       0                0.0\n",
      "ReportingOfficer             0                0.0\n",
      "Date                         0                0.0\n",
      "DayOfWeek                    0                0.0\n",
      "Weekend                      0                0.0\n",
      "Season                       0                0.0\n",
      "TimeOfDay                    0                0.0\n",
      "FullStreet                   0                0.0\n",
      "lat                          0                0.0\n",
      "lon                          0                0.0\n",
      "neighborhood                 0                0.0\n",
      "zip                          0                0.0\n"
     ]
    }
   ],
   "source": [
    "missing_info = missing_percentage(df)\n",
    "print(missing_info)"
   ]
  },
  {
   "cell_type": "code",
   "execution_count": 16,
   "id": "d436d866",
   "metadata": {
    "execution": {
     "iopub.execute_input": "2025-05-06T01:03:00.399072Z",
     "iopub.status.busy": "2025-05-06T01:03:00.398524Z",
     "iopub.status.idle": "2025-05-06T01:03:00.403413Z",
     "shell.execute_reply": "2025-05-06T01:03:00.402745Z"
    },
    "papermill": {
     "duration": 0.013959,
     "end_time": "2025-05-06T01:03:00.404511",
     "exception": false,
     "start_time": "2025-05-06T01:03:00.390552",
     "status": "completed"
    },
    "tags": []
   },
   "outputs": [
    {
     "data": {
      "text/plain": [
       "Index(['RecordID', 'Offense', 'IncidentID', 'Agency', 'ReportingOfficer',\n",
       "       'Date', 'DayOfWeek', 'Weekend', 'Season', 'TimeOfDay', 'FullStreet',\n",
       "       'lat', 'lon', 'neighborhood', 'zip'],\n",
       "      dtype='object')"
      ]
     },
     "execution_count": 16,
     "metadata": {},
     "output_type": "execute_result"
    }
   ],
   "source": [
    "df.columns"
   ]
  },
  {
   "cell_type": "code",
   "execution_count": 17,
   "id": "580ff1f9",
   "metadata": {
    "execution": {
     "iopub.execute_input": "2025-05-06T01:03:00.420757Z",
     "iopub.status.busy": "2025-05-06T01:03:00.420485Z",
     "iopub.status.idle": "2025-05-06T01:03:00.443219Z",
     "shell.execute_reply": "2025-05-06T01:03:00.442685Z"
    },
    "papermill": {
     "duration": 0.03187,
     "end_time": "2025-05-06T01:03:00.444243",
     "exception": false,
     "start_time": "2025-05-06T01:03:00.412373",
     "status": "completed"
    },
    "tags": []
   },
   "outputs": [
    {
     "name": "stdout",
     "output_type": "stream",
     "text": [
      "<class 'pandas.core.frame.DataFrame'>\n",
      "RangeIndex: 25335 entries, 0 to 25334\n",
      "Data columns (total 15 columns):\n",
      " #   Column            Non-Null Count  Dtype         \n",
      "---  ------            --------------  -----         \n",
      " 0   RecordID          25335 non-null  int64         \n",
      " 1   Offense           25335 non-null  object        \n",
      " 2   IncidentID        25335 non-null  object        \n",
      " 3   Agency            25335 non-null  object        \n",
      " 4   ReportingOfficer  25335 non-null  object        \n",
      " 5   Date              25335 non-null  datetime64[ns]\n",
      " 6   DayOfWeek         25335 non-null  object        \n",
      " 7   Weekend           25335 non-null  bool          \n",
      " 8   Season            25335 non-null  object        \n",
      " 9   TimeOfDay         25335 non-null  object        \n",
      " 10  FullStreet        25335 non-null  object        \n",
      " 11  lat               25335 non-null  float64       \n",
      " 12  lon               25335 non-null  float64       \n",
      " 13  neighborhood      25335 non-null  object        \n",
      " 14  zip               25335 non-null  object        \n",
      "dtypes: bool(1), datetime64[ns](1), float64(2), int64(1), object(10)\n",
      "memory usage: 2.7+ MB\n"
     ]
    }
   ],
   "source": [
    "df.info()"
   ]
  },
  {
   "cell_type": "markdown",
   "id": "c1b2f60a",
   "metadata": {
    "papermill": {
     "duration": 0.007299,
     "end_time": "2025-05-06T01:03:00.459173",
     "exception": false,
     "start_time": "2025-05-06T01:03:00.451874",
     "status": "completed"
    },
    "tags": []
   },
   "source": [
    "### Export Clean Data"
   ]
  },
  {
   "cell_type": "code",
   "execution_count": 18,
   "id": "1a410b6e",
   "metadata": {
    "execution": {
     "iopub.execute_input": "2025-05-06T01:03:00.475303Z",
     "iopub.status.busy": "2025-05-06T01:03:00.474788Z",
     "iopub.status.idle": "2025-05-06T01:03:09.827744Z",
     "shell.execute_reply": "2025-05-06T01:03:09.827049Z"
    },
    "papermill": {
     "duration": 9.362033,
     "end_time": "2025-05-06T01:03:09.828792",
     "exception": false,
     "start_time": "2025-05-06T01:03:00.466759",
     "status": "completed"
    },
    "tags": []
   },
   "outputs": [
    {
     "name": "stdout",
     "output_type": "stream",
     "text": [
      "Project Root: /home/runner/work/crime-data/crime-data\n"
     ]
    },
    {
     "name": "stdout",
     "output_type": "stream",
     "text": [
      "Data saved to: /home/runner/work/crime-data/crime-data/data/charlottesville_crime_incidents.csv\n"
     ]
    },
    {
     "name": "stdout",
     "output_type": "stream",
     "text": [
      "Excel saved to: /home/runner/work/crime-data/crime-data/data/charlottesville_crime_incidents.xlsx\n"
     ]
    }
   ],
   "source": [
    "# Determine the project root (assuming papermill is run from the repository root)\n",
    "project_root = os.getcwd()\n",
    "print(\"Project Root:\", project_root)\n",
    "\n",
    "# Set the data directory within the project root\n",
    "data_dir = os.path.join(project_root, \"data\")\n",
    "\n",
    "# Ensure the \"data\" directory exists (create it if it doesn't)\n",
    "if not os.path.exists(data_dir):\n",
    "    os.makedirs(data_dir)\n",
    "\n",
    "# Export the DataFrame to CSV in the \"data\" folder located in the project root\n",
    "csv_path = os.path.join(data_dir, \"charlottesville_crime_incidents.csv\")\n",
    "df.to_csv(csv_path, index=False)\n",
    "print(\"Data saved to:\", csv_path)\n",
    "\n",
    "# Construct the path to your Excel file\n",
    "excel_path = os.path.join(data_dir, \"charlottesville_crime_incidents.xlsx\")\n",
    "\n",
    "# Export the DataFrame to Excel\n",
    "df.to_excel(excel_path, index=False)\n",
    "print(\"Excel saved to:\", excel_path)\n"
   ]
  },
  {
   "cell_type": "markdown",
   "id": "c5c71df8",
   "metadata": {
    "papermill": {
     "duration": 0.007565,
     "end_time": "2025-05-06T01:03:09.844132",
     "exception": false,
     "start_time": "2025-05-06T01:03:09.836567",
     "status": "completed"
    },
    "tags": []
   },
   "source": [
    "## Predictive Analytics"
   ]
  },
  {
   "cell_type": "code",
   "execution_count": 19,
   "id": "8c7c5b69",
   "metadata": {
    "execution": {
     "iopub.execute_input": "2025-05-06T01:03:09.860690Z",
     "iopub.status.busy": "2025-05-06T01:03:09.860193Z",
     "iopub.status.idle": "2025-05-06T01:03:09.872026Z",
     "shell.execute_reply": "2025-05-06T01:03:09.871452Z"
    },
    "papermill": {
     "duration": 0.021217,
     "end_time": "2025-05-06T01:03:09.873043",
     "exception": false,
     "start_time": "2025-05-06T01:03:09.851826",
     "status": "completed"
    },
    "tags": []
   },
   "outputs": [
    {
     "data": {
      "text/html": [
       "<div>\n",
       "<style scoped>\n",
       "    .dataframe tbody tr th:only-of-type {\n",
       "        vertical-align: middle;\n",
       "    }\n",
       "\n",
       "    .dataframe tbody tr th {\n",
       "        vertical-align: top;\n",
       "    }\n",
       "\n",
       "    .dataframe thead th {\n",
       "        text-align: right;\n",
       "    }\n",
       "</style>\n",
       "<table border=\"1\" class=\"dataframe\">\n",
       "  <thead>\n",
       "    <tr style=\"text-align: right;\">\n",
       "      <th></th>\n",
       "      <th>RecordID</th>\n",
       "      <th>Offense</th>\n",
       "      <th>IncidentID</th>\n",
       "      <th>Agency</th>\n",
       "      <th>ReportingOfficer</th>\n",
       "      <th>Date</th>\n",
       "      <th>DayOfWeek</th>\n",
       "      <th>Weekend</th>\n",
       "      <th>Season</th>\n",
       "      <th>TimeOfDay</th>\n",
       "      <th>FullStreet</th>\n",
       "      <th>lat</th>\n",
       "      <th>lon</th>\n",
       "      <th>neighborhood</th>\n",
       "      <th>zip</th>\n",
       "    </tr>\n",
       "  </thead>\n",
       "  <tbody>\n",
       "    <tr>\n",
       "      <th>0</th>\n",
       "      <td>1</td>\n",
       "      <td>Suspicious Activity</td>\n",
       "      <td>202500014784</td>\n",
       "      <td>CPD</td>\n",
       "      <td>Davis, Charles</td>\n",
       "      <td>2025-05-03 21:34:48</td>\n",
       "      <td>Saturday</td>\n",
       "      <td>True</td>\n",
       "      <td>Spring</td>\n",
       "      <td>Night</td>\n",
       "      <td>200 RIDGE MCINTIRE RD</td>\n",
       "      <td>38.031221</td>\n",
       "      <td>-78.483889</td>\n",
       "      <td>Downtown Mall</td>\n",
       "      <td>22903</td>\n",
       "    </tr>\n",
       "    <tr>\n",
       "      <th>1</th>\n",
       "      <td>2</td>\n",
       "      <td>Death Investigation - DOA</td>\n",
       "      <td>202500014758</td>\n",
       "      <td>CPD</td>\n",
       "      <td>Love-Baker, Sydney</td>\n",
       "      <td>2025-05-03 18:47:38</td>\n",
       "      <td>Saturday</td>\n",
       "      <td>True</td>\n",
       "      <td>Spring</td>\n",
       "      <td>Evening</td>\n",
       "      <td>1300 BELLEVIEW AVE, B</td>\n",
       "      <td>38.037514</td>\n",
       "      <td>-78.459605</td>\n",
       "      <td>Locust Grove</td>\n",
       "      <td>22901</td>\n",
       "    </tr>\n",
       "    <tr>\n",
       "      <th>2</th>\n",
       "      <td>3</td>\n",
       "      <td>Larceny - All Other</td>\n",
       "      <td>202500014739</td>\n",
       "      <td>CPD</td>\n",
       "      <td>Reed, Danielle</td>\n",
       "      <td>2025-05-03 15:50:03</td>\n",
       "      <td>Saturday</td>\n",
       "      <td>True</td>\n",
       "      <td>Spring</td>\n",
       "      <td>Afternoon</td>\n",
       "      <td>1100 5TH ST SW</td>\n",
       "      <td>38.017130</td>\n",
       "      <td>-78.497806</td>\n",
       "      <td>Johnson Village</td>\n",
       "      <td>22903</td>\n",
       "    </tr>\n",
       "    <tr>\n",
       "      <th>3</th>\n",
       "      <td>4</td>\n",
       "      <td>Burglary</td>\n",
       "      <td>202500014729</td>\n",
       "      <td>CPD</td>\n",
       "      <td>Reed, Danielle</td>\n",
       "      <td>2025-05-03 13:55:03</td>\n",
       "      <td>Saturday</td>\n",
       "      <td>True</td>\n",
       "      <td>Spring</td>\n",
       "      <td>Afternoon</td>\n",
       "      <td>500 HARRIS RD, 106</td>\n",
       "      <td>38.015099</td>\n",
       "      <td>-78.503687</td>\n",
       "      <td>Fry's Spring</td>\n",
       "      <td>22903</td>\n",
       "    </tr>\n",
       "    <tr>\n",
       "      <th>4</th>\n",
       "      <td>5</td>\n",
       "      <td>Lost/FoundProperty</td>\n",
       "      <td>202500014725</td>\n",
       "      <td>CPD</td>\n",
       "      <td>Schwartz, Honora</td>\n",
       "      <td>2025-05-03 13:24:16</td>\n",
       "      <td>Saturday</td>\n",
       "      <td>True</td>\n",
       "      <td>Spring</td>\n",
       "      <td>Afternoon</td>\n",
       "      <td>100 ELLIEWOOD AVE</td>\n",
       "      <td>38.036309</td>\n",
       "      <td>-78.500571</td>\n",
       "      <td>Venable</td>\n",
       "      <td>22903</td>\n",
       "    </tr>\n",
       "  </tbody>\n",
       "</table>\n",
       "</div>"
      ],
      "text/plain": [
       "   RecordID                    Offense    IncidentID Agency  \\\n",
       "0         1        Suspicious Activity  202500014784    CPD   \n",
       "1         2  Death Investigation - DOA  202500014758    CPD   \n",
       "2         3        Larceny - All Other  202500014739    CPD   \n",
       "3         4                   Burglary  202500014729    CPD   \n",
       "4         5         Lost/FoundProperty  202500014725    CPD   \n",
       "\n",
       "     ReportingOfficer                Date DayOfWeek  Weekend  Season  \\\n",
       "0      Davis, Charles 2025-05-03 21:34:48  Saturday     True  Spring   \n",
       "1  Love-Baker, Sydney 2025-05-03 18:47:38  Saturday     True  Spring   \n",
       "2      Reed, Danielle 2025-05-03 15:50:03  Saturday     True  Spring   \n",
       "3      Reed, Danielle 2025-05-03 13:55:03  Saturday     True  Spring   \n",
       "4    Schwartz, Honora 2025-05-03 13:24:16  Saturday     True  Spring   \n",
       "\n",
       "   TimeOfDay             FullStreet        lat        lon     neighborhood  \\\n",
       "0      Night  200 RIDGE MCINTIRE RD  38.031221 -78.483889    Downtown Mall   \n",
       "1    Evening  1300 BELLEVIEW AVE, B  38.037514 -78.459605     Locust Grove   \n",
       "2  Afternoon         1100 5TH ST SW  38.017130 -78.497806  Johnson Village   \n",
       "3  Afternoon     500 HARRIS RD, 106  38.015099 -78.503687     Fry's Spring   \n",
       "4  Afternoon      100 ELLIEWOOD AVE  38.036309 -78.500571          Venable   \n",
       "\n",
       "     zip  \n",
       "0  22903  \n",
       "1  22901  \n",
       "2  22903  \n",
       "3  22903  \n",
       "4  22903  "
      ]
     },
     "execution_count": 19,
     "metadata": {},
     "output_type": "execute_result"
    }
   ],
   "source": [
    "df.head()"
   ]
  },
  {
   "cell_type": "code",
   "execution_count": 20,
   "id": "82733c9c",
   "metadata": {
    "execution": {
     "iopub.execute_input": "2025-05-06T01:03:09.889683Z",
     "iopub.status.busy": "2025-05-06T01:03:09.889212Z",
     "iopub.status.idle": "2025-05-06T01:03:09.893559Z",
     "shell.execute_reply": "2025-05-06T01:03:09.892951Z"
    },
    "papermill": {
     "duration": 0.013644,
     "end_time": "2025-05-06T01:03:09.894583",
     "exception": false,
     "start_time": "2025-05-06T01:03:09.880939",
     "status": "completed"
    },
    "tags": []
   },
   "outputs": [
    {
     "data": {
      "text/plain": [
       "Index(['RecordID', 'Offense', 'IncidentID', 'Agency', 'ReportingOfficer',\n",
       "       'Date', 'DayOfWeek', 'Weekend', 'Season', 'TimeOfDay', 'FullStreet',\n",
       "       'lat', 'lon', 'neighborhood', 'zip'],\n",
       "      dtype='object')"
      ]
     },
     "execution_count": 20,
     "metadata": {},
     "output_type": "execute_result"
    }
   ],
   "source": [
    "df.columns"
   ]
  },
  {
   "cell_type": "markdown",
   "id": "3739d7bb",
   "metadata": {
    "papermill": {
     "duration": 0.007837,
     "end_time": "2025-05-06T01:03:09.910373",
     "exception": false,
     "start_time": "2025-05-06T01:03:09.902536",
     "status": "completed"
    },
    "tags": []
   },
   "source": [
    "### Data Preparation\n",
    "\n",
    "We need to ensure the data is in the correct format for modeling and can handle missing values, categorical variables, and dates. Here's how to prepare your data:"
   ]
  },
  {
   "cell_type": "code",
   "execution_count": 21,
   "id": "7510d234",
   "metadata": {
    "execution": {
     "iopub.execute_input": "2025-05-06T01:03:09.927143Z",
     "iopub.status.busy": "2025-05-06T01:03:09.926770Z",
     "iopub.status.idle": "2025-05-06T01:03:11.645183Z",
     "shell.execute_reply": "2025-05-06T01:03:11.644343Z"
    },
    "papermill": {
     "duration": 1.728479,
     "end_time": "2025-05-06T01:03:11.646715",
     "exception": false,
     "start_time": "2025-05-06T01:03:09.918236",
     "status": "completed"
    },
    "tags": []
   },
   "outputs": [],
   "source": [
    "import pandas as pd\n",
    "from sklearn.model_selection import train_test_split\n",
    "from sklearn.preprocessing import OneHotEncoder, LabelEncoder\n",
    "from sklearn.ensemble import RandomForestClassifier\n",
    "from sklearn.linear_model import LogisticRegression\n",
    "from sklearn.tree import DecisionTreeClassifier\n",
    "from sklearn.metrics import classification_report, accuracy_score\n",
    "import seaborn as sns\n",
    "import matplotlib.pyplot as plt\n",
    "\n",
    "# Convert 'Date' to datetime\n",
    "df['Date'] = pd.to_datetime(df['Date'])\n",
    "\n",
    "# Feature engineering: Extract additional time-based features\n",
    "df['Year'] = df['Date'].dt.year\n",
    "df['Month'] = df['Date'].dt.month\n",
    "df['DayOfMonth'] = df['Date'].dt.day\n",
    "\n",
    "# One-hot encoding for 'FullStreet', 'neighborhood', 'zip'\n",
    "df = pd.get_dummies(df, columns=['FullStreet', 'neighborhood', 'zip'], drop_first=True)\n",
    "\n",
    "# Label encoding for ordered variables (those with a natural order like 'DayOfWeek', 'Season', 'TimeOfDay')\n",
    "label_encoders = {}\n",
    "for column in ['DayOfWeek', 'Season', 'TimeOfDay', 'Agency', 'ReportingOfficer']:  # Example ordinal variables\n",
    "    le = LabelEncoder()\n",
    "    df[column] = le.fit_transform(df[column])\n",
    "    label_encoders[column] = le\n",
    "\n",
    "# Filter the dataset to include only the offenses of interest\n",
    "offenses_of_interest = [\n",
    "    'Hit and Run', 'Assault Simple', 'Suspicious Activity', 'Vandalism', \n",
    "    'Larceny - From Mot Vehicle', 'Larceny - All Other', \n",
    "    'Assist Citizen - Mental/TDO/ECO', 'Lost/FoundProperty'\n",
    "]\n",
    "\n",
    "df = df[df['Offense'].isin(offenses_of_interest)]\n",
    "\n",
    "# Label encode the target variable (Offense)\n",
    "offense_encoder = LabelEncoder()\n",
    "df['Offense'] = offense_encoder.fit_transform(df['Offense'])\n",
    "\n",
    "# Separate features (X) and target (y)\n",
    "X = df[['Year', 'Month', 'DayOfMonth', 'DayOfWeek', 'Weekend', 'Season', 'TimeOfDay', 'lat', 'lon', 'Agency', 'ReportingOfficer']]\n",
    "y = df['Offense']  # Offense is now the encoded target variable\n",
    "\n",
    "# Split the data into training and testing sets\n",
    "X_train, X_test, y_train, y_test = train_test_split(X, y, test_size=0.3, random_state=42)\n"
   ]
  },
  {
   "cell_type": "markdown",
   "id": "0da9348c",
   "metadata": {
    "papermill": {
     "duration": 0.007967,
     "end_time": "2025-05-06T01:03:11.663014",
     "exception": false,
     "start_time": "2025-05-06T01:03:11.655047",
     "status": "completed"
    },
    "tags": []
   },
   "source": [
    "### Model Training\n",
    "\n",
    "Here we will train several models (e.g., Random Forest, Logistic Regression, and Decision Tree). We will use cross-validation to choose the best model based on accuracy, and then explain the impact of the variables."
   ]
  },
  {
   "cell_type": "code",
   "execution_count": 22,
   "id": "141c9f1f",
   "metadata": {
    "execution": {
     "iopub.execute_input": "2025-05-06T01:03:11.680205Z",
     "iopub.status.busy": "2025-05-06T01:03:11.679588Z",
     "iopub.status.idle": "2025-05-06T01:03:15.214093Z",
     "shell.execute_reply": "2025-05-06T01:03:15.213477Z"
    },
    "papermill": {
     "duration": 3.544283,
     "end_time": "2025-05-06T01:03:15.215230",
     "exception": false,
     "start_time": "2025-05-06T01:03:11.670947",
     "status": "completed"
    },
    "tags": []
   },
   "outputs": [
    {
     "name": "stderr",
     "output_type": "stream",
     "text": [
      "/opt/hostedtoolcache/Python/3.9.22/x64/lib/python3.9/site-packages/sklearn/linear_model/_logistic.py:465: ConvergenceWarning: lbfgs failed to converge (status=1):\n",
      "STOP: TOTAL NO. of ITERATIONS REACHED LIMIT.\n",
      "\n",
      "Increase the number of iterations (max_iter) or scale the data as shown in:\n",
      "    https://scikit-learn.org/stable/modules/preprocessing.html\n",
      "Please also refer to the documentation for alternative solver options:\n",
      "    https://scikit-learn.org/stable/modules/linear_model.html#logistic-regression\n",
      "  n_iter_i = _check_optimize_result(\n",
      "/opt/hostedtoolcache/Python/3.9.22/x64/lib/python3.9/site-packages/sklearn/metrics/_classification.py:1565: UndefinedMetricWarning: Precision is ill-defined and being set to 0.0 in labels with no predicted samples. Use `zero_division` parameter to control this behavior.\n",
      "  _warn_prf(average, modifier, f\"{metric.capitalize()} is\", len(result))\n",
      "/opt/hostedtoolcache/Python/3.9.22/x64/lib/python3.9/site-packages/sklearn/metrics/_classification.py:1565: UndefinedMetricWarning: Precision is ill-defined and being set to 0.0 in labels with no predicted samples. Use `zero_division` parameter to control this behavior.\n",
      "  _warn_prf(average, modifier, f\"{metric.capitalize()} is\", len(result))\n",
      "/opt/hostedtoolcache/Python/3.9.22/x64/lib/python3.9/site-packages/sklearn/metrics/_classification.py:1565: UndefinedMetricWarning: Precision is ill-defined and being set to 0.0 in labels with no predicted samples. Use `zero_division` parameter to control this behavior.\n",
      "  _warn_prf(average, modifier, f\"{metric.capitalize()} is\", len(result))\n"
     ]
    },
    {
     "name": "stdout",
     "output_type": "stream",
     "text": [
      "\n",
      "Classification Report for All Models:\n",
      "\n",
      "Model: RandomForest\n",
      "Accuracy: 0.2925\n",
      "              precision    recall  f1-score      support\n",
      "0              0.305949  0.357616  0.329771   604.000000\n",
      "1              0.295597  0.232673  0.260388   404.000000\n",
      "2              0.307164  0.476408  0.373508   657.000000\n",
      "3              0.190476  0.183908  0.187135   435.000000\n",
      "4              0.384259  0.219577  0.279461   378.000000\n",
      "5              0.264198  0.205769  0.231351   520.000000\n",
      "6              0.315522  0.258873  0.284404   479.000000\n",
      "accuracy       0.292494  0.292494  0.292494     0.292494\n",
      "macro avg      0.294738  0.276403  0.278003  3477.000000\n",
      "weighted avg   0.294117  0.292494  0.285690  3477.000000\n"
     ]
    },
    {
     "data": {
      "image/png": "[encoded data removed]",
      "text/plain": [
       "<Figure size 800x600 with 2 Axes>"
      ]
     },
     "metadata": {},
     "output_type": "display_data"
    },
    {
     "name": "stdout",
     "output_type": "stream",
     "text": [
      "\n",
      "Model: LogisticRegression\n",
      "Accuracy: 0.2180\n",
      "              precision    recall  f1-score      support\n",
      "0              0.218750  0.486755  0.301848   604.000000\n",
      "1              0.000000  0.000000  0.000000   404.000000\n",
      "2              0.217677  0.704718  0.332615   657.000000\n",
      "3              0.166667  0.002299  0.004535   435.000000\n",
      "4              0.000000  0.000000  0.000000   378.000000\n",
      "5              0.000000  0.000000  0.000000   520.000000\n",
      "6              0.000000  0.000000  0.000000   479.000000\n",
      "accuracy       0.218004  0.218004  0.218004     0.218004\n",
      "macro avg      0.086156  0.170539  0.091285  3477.000000\n",
      "weighted avg   0.099982  0.218004  0.115852  3477.000000\n"
     ]
    },
    {
     "data": {
      "image/png": "[encoded data removed]",
      "text/plain": [
       "<Figure size 800x600 with 2 Axes>"
      ]
     },
     "metadata": {},
     "output_type": "display_data"
    },
    {
     "name": "stdout",
     "output_type": "stream",
     "text": [
      "\n",
      "Model: DecisionTree\n",
      "Accuracy: 0.2289\n",
      "              precision    recall  f1-score      support\n",
      "0              0.235714  0.218543  0.226804   604.000000\n",
      "1              0.229358  0.247525  0.238095   404.000000\n",
      "2              0.283105  0.283105  0.283105   657.000000\n",
      "3              0.199552  0.204598  0.202043   435.000000\n",
      "4              0.209770  0.193122  0.201102   378.000000\n",
      "5              0.212598  0.207692  0.210117   520.000000\n",
      "6              0.206897  0.225470  0.215784   479.000000\n",
      "accuracy       0.228933  0.228933  0.228933     0.228933\n",
      "macro avg      0.225285  0.225722  0.225293  3477.000000\n",
      "weighted avg   0.229159  0.228933  0.228849  3477.000000\n"
     ]
    },
    {
     "data": {
      "image/png": "[encoded data removed]",
      "text/plain": [
       "<Figure size 800x600 with 2 Axes>"
      ]
     },
     "metadata": {},
     "output_type": "display_data"
    },
    {
     "name": "stdout",
     "output_type": "stream",
     "text": [
      "\n",
      "Best Model:\n",
      "Best Model: RandomForestClassifier()\n",
      "Best Model Accuracy: 0.2925\n"
     ]
    }
   ],
   "source": [
    "import pandas as pd\n",
    "from sklearn.model_selection import train_test_split\n",
    "from sklearn.ensemble import RandomForestClassifier\n",
    "from sklearn.linear_model import LogisticRegression\n",
    "from sklearn.tree import DecisionTreeClassifier\n",
    "from sklearn.metrics import classification_report, accuracy_score, confusion_matrix\n",
    "import seaborn as sns\n",
    "import matplotlib.pyplot as plt\n",
    "\n",
    "# Define models\n",
    "models = {\n",
    "    'RandomForest': RandomForestClassifier(),\n",
    "    'LogisticRegression': LogisticRegression(max_iter=1000),\n",
    "    'DecisionTree': DecisionTreeClassifier()\n",
    "}\n",
    "\n",
    "# Train models and evaluate them\n",
    "best_model = None\n",
    "best_score = 0\n",
    "model_reports = {}\n",
    "\n",
    "for model_name, model in models.items():\n",
    "    model.fit(X_train, y_train)  # Train model\n",
    "    y_pred = model.predict(X_test)  # Make predictions\n",
    "    \n",
    "    # Calculate accuracy and generate classification report\n",
    "    accuracy = accuracy_score(y_test, y_pred)\n",
    "    model_reports[model_name] = classification_report(y_test, y_pred, output_dict=True)  # Store as a dictionary for easier analysis\n",
    "    \n",
    "    # Track best performing model\n",
    "    if accuracy > best_score:\n",
    "        best_score = accuracy\n",
    "        best_model = model\n",
    "\n",
    "# Display classification reports and confusion matrices\n",
    "print(\"\\nClassification Report for All Models:\")\n",
    "for model_name, report in model_reports.items():\n",
    "    print(f\"\\nModel: {model_name}\")\n",
    "    print(\"Accuracy: {:.4f}\".format(accuracy_score(y_test, models[model_name].predict(X_test))))  # Display accuracy\n",
    "    print(pd.DataFrame(report).transpose())  # Display classification report as a DataFrame\n",
    "\n",
    "    # Plot Confusion Matrix\n",
    "    cm = confusion_matrix(y_test, models[model_name].predict(X_test))\n",
    "    plt.figure(figsize=(8, 6))\n",
    "    sns.heatmap(cm, annot=True, fmt=\"d\", cmap='Blues', xticklabels=offense_encoder.classes_, yticklabels=offense_encoder.classes_)\n",
    "    plt.title(f\"Confusion Matrix - {model_name}\")\n",
    "    plt.xlabel('Predicted Labels')\n",
    "    plt.ylabel('True Labels')\n",
    "    plt.show()\n",
    "\n",
    "# Display best model details\n",
    "print(\"\\nBest Model:\")\n",
    "print(f\"Best Model: {best_model}\")\n",
    "print(f\"Best Model Accuracy: {best_score:.4f}\")\n"
   ]
  },
  {
   "cell_type": "markdown",
   "id": "c0e0cd7b",
   "metadata": {
    "papermill": {
     "duration": 0.010797,
     "end_time": "2025-05-06T01:03:15.237394",
     "exception": false,
     "start_time": "2025-05-06T01:03:15.226597",
     "status": "completed"
    },
    "tags": []
   },
   "source": [
    "#### Classification Report for All Models:\n",
    "\n",
    "### Explanation of the Classification Results (RandomForest Model)\n",
    "\n",
    "The results you provided are from a **Random Forest** model, which is used for predicting different types of offenses. Let's break down the key components of the results:\n",
    "\n",
    "#### 1. **Accuracy: 0.2822**\n",
    "   - **Accuracy** measures the overall percentage of correct predictions made by the model. An accuracy of 28.22% means the model correctly predicted the offense in about 28% of the cases. This indicates the model's predictions are not highly reliable, as the accuracy is quite low.\n",
    "\n",
    "#### 2. **Classification Report:**\n",
    "   The classification report includes precision, recall, and F1-score for each offense. Let's go over these terms and how they apply to the results:\n",
    "\n",
    "   - **Precision**: The proportion of true positive predictions out of all positive predictions made by the model for a specific class (offense).\n",
    "   - **Recall**: The proportion of true positive predictions out of all actual positive instances in the dataset.\n",
    "   - **F1-Score**: The harmonic mean of precision and recall, providing a balance between the two metrics.\n",
    "   - **Support**: The number of actual occurrences of each class in the test set.\n",
    "\n",
    "   Let's analyze each offense based on these metrics:\n",
    "\n",
    "   | **Offense**                        | **Precision** | **Recall** | **F1-Score** | **Support** |\n",
    "   |------------------------------------|---------------|------------|--------------|-------------|\n",
    "   | **Assault Simple**                 | 0.2892        | 0.3754     | 0.3267       | 594         |\n",
    "   | **Assist Citizen - Mental/TDO/ECO**| 0.3182        | 0.2274     | 0.2652       | 431         |\n",
    "   | **Hit and Run**                    | 0.2963        | 0.4765     | 0.3654       | 638         |\n",
    "   | **Larceny - All Other**            | 0.2270        | 0.1453     | 0.1772       | 475         |\n",
    "   | **Lost/FoundProperty**             | 0.3333        | 0.2102     | 0.2578       | 352         |\n",
    "   | **Suspicious Activity**            | 0.2344        | 0.2169     | 0.2253       | 484         |\n",
    "   | **Vandalism**                      | 0.2712        | 0.2106     | 0.2371       | 470         |\n",
    "\n",
    "#### 3. **Key Insights from the Report:**\n",
    "\n",
    "- **Precision**:\n",
    "   - The highest precision is for **Larceny - All Other** (0.3333), indicating that when the model predicts this offense, it is correct about 33% of the time. However, this is still quite low.\n",
    "   - **Assist Citizen - Mental/TDO/ECO** has the lowest precision (0.2269), meaning that the model's predictions for this offense tend to be wrong more often than correct.\n",
    "\n",
    "- **Recall**:\n",
    "   - **Hit and Run** has the highest recall (0.4765), meaning the model identifies about 48% of the actual occurrences of this offense. This is better than the precision, which indicates it is missing many true positives but is still able to identify a fair number of cases.\n",
    "   - **Larceny - All Other** and **Suspicious Activity** have the lowest recall values (0.1453 and 0.2169, respectively), indicating that the model is failing to identify most of the actual cases for these offenses.\n",
    "\n",
    "- **F1-Score**:\n",
    "   - The **F1-Score** balances precision and recall. It is highest for **Hit and Run** (0.3654), but still relatively low overall. This suggests the model is better at identifying **Hit and Run** than other offenses but still has room for improvement.\n",
    "   - **Larceny - All Other** has the lowest F1-Score (0.1772), indicating a poor balance between precision and recall for this offense.\n",
    "\n",
    "#### 4. **Macro Average and Weighted Average:**\n",
    "   - **Macro Average**: This gives the average precision, recall, and F1-Score across all classes (offenses) without considering the class distribution. It averages the results for all offenses equally.\n",
    "     - Precision: 0.2814\n",
    "     - Recall: 0.2661\n",
    "     - F1-Score: 0.2649\n",
    "   - **Weighted Average**: This averages the metrics but weighs each class by its support (the number of true instances in the test set). This gives a better sense of overall performance, considering the class distribution.\n",
    "     - Precision: 0.2799\n",
    "     - Recall: 0.2822\n",
    "     - F1-Score: 0.2720\n",
    "\n",
    "#### 5. **Confusion Matrix (Visualization Analysis)**:\n",
    "   - The confusion matrix shows the distribution of true positive, false positive, true negative, and false negative predictions for each class.\n",
    "     - For **Hit and Run**, the model performs relatively well in identifying this offense (304 true positives). However, it also misclassifies some **Hit and Run** instances as other offenses (e.g., **Assault Simple**, **Suspicious Activity**, etc.).\n",
    "     - **Larceny - All Other** is frequently misclassified as **Hit and Run**, **Suspicious Activity**, and others. This is evident from the large number of off-diagonal elements in its row.\n",
    "     - **Assist Citizen - Mental/TDO/ECO** and **Suspicious Activity** are frequently misclassified, as seen by the off-diagonal values in their rows.\n",
    "\n",
    "### Conclusion:\n",
    "The Random Forest model has low accuracy (28.22%), suggesting that it struggles to predict most offenses accurately. Some offenses like **Hit and Run** are better predicted than others, but overall, the model shows a high level of misclassification across all offenses. There may be a need for further tuning of the model, additional feature engineering, or trying different models for better performance.\n",
    "\n",
    "Let me know if you'd like to improve the model or make adjustments based on these results!\n",
    "\n"
   ]
  },
  {
   "cell_type": "markdown",
   "id": "248f48de",
   "metadata": {
    "papermill": {
     "duration": 0.010691,
     "end_time": "2025-05-06T01:03:15.258786",
     "exception": false,
     "start_time": "2025-05-06T01:03:15.248095",
     "status": "completed"
    },
    "tags": []
   },
   "source": [
    "### Model Explanation\n",
    "\n",
    "Once we’ve chosen the best model, we will explain its predictions by examining feature importance for tree-based models and using statistical methods like logistic regression coefficients for linear models."
   ]
  },
  {
   "cell_type": "markdown",
   "id": "7bfaad2e",
   "metadata": {
    "papermill": {
     "duration": 0.010479,
     "end_time": "2025-05-06T01:03:15.279843",
     "exception": false,
     "start_time": "2025-05-06T01:03:15.269364",
     "status": "completed"
    },
    "tags": []
   },
   "source": [
    "#### Feature Importance for Random Forest / Decision Tree\n",
    "\n",
    "##### For Tree-based Models (Random Forest, Decision Tree)\n",
    "\n",
    "For Random Forest or Decision Tree, we can look at feature importance to understand which variables contribute the most to the model's predictions. Here's how you can visualize and interpret the importance of each feature:"
   ]
  },
  {
   "cell_type": "code",
   "execution_count": 23,
   "id": "073c56b5",
   "metadata": {
    "execution": {
     "iopub.execute_input": "2025-05-06T01:03:15.302608Z",
     "iopub.status.busy": "2025-05-06T01:03:15.301963Z",
     "iopub.status.idle": "2025-05-06T01:03:15.467538Z",
     "shell.execute_reply": "2025-05-06T01:03:15.466881Z"
    },
    "papermill": {
     "duration": 0.17828,
     "end_time": "2025-05-06T01:03:15.468698",
     "exception": false,
     "start_time": "2025-05-06T01:03:15.290418",
     "status": "completed"
    },
    "tags": []
   },
   "outputs": [
    {
     "data": {
      "image/png": "[encoded data removed]",
      "text/plain": [
       "<Figure size 1000x600 with 1 Axes>"
      ]
     },
     "metadata": {},
     "output_type": "display_data"
    }
   ],
   "source": [
    "# For RandomForest or DecisionTree models, we can check feature importance\n",
    "if isinstance(best_model, RandomForestClassifier) or isinstance(best_model, DecisionTreeClassifier):\n",
    "    feature_importance = best_model.feature_importances_\n",
    "    feature_names = X.columns\n",
    "    importance_df = pd.DataFrame({'Feature': feature_names, 'Importance': feature_importance})\n",
    "    importance_df = importance_df.sort_values(by='Importance', ascending=False)\n",
    "    \n",
    "    # Plotting the feature importances\n",
    "    plt.figure(figsize=(10, 6))\n",
    "    sns.barplot(x='Importance', y='Feature', data=importance_df)\n",
    "    plt.title(\"Feature Importance\")\n",
    "    plt.show()\n"
   ]
  },
  {
   "cell_type": "code",
   "execution_count": null,
   "id": "1714a778",
   "metadata": {
    "papermill": {
     "duration": 0.010936,
     "end_time": "2025-05-06T01:03:15.490964",
     "exception": false,
     "start_time": "2025-05-06T01:03:15.480028",
     "status": "completed"
    },
    "tags": []
   },
   "outputs": [],
   "source": []
  },
  {
   "cell_type": "markdown",
   "id": "2facb363",
   "metadata": {
    "papermill": {
     "duration": 0.010831,
     "end_time": "2025-05-06T01:03:15.512793",
     "exception": false,
     "start_time": "2025-05-06T01:03:15.501962",
     "status": "completed"
    },
    "tags": []
   },
   "source": [
    "### Evaluation\n",
    "\n",
    "After training the models and examining their performance, we evaluate the chosen model based on metrics like accuracy, precision, recall, and F1 score.\n",
    "\n"
   ]
  },
  {
   "cell_type": "code",
   "execution_count": 24,
   "id": "cc4ce327",
   "metadata": {
    "execution": {
     "iopub.execute_input": "2025-05-06T01:03:15.535872Z",
     "iopub.status.busy": "2025-05-06T01:03:15.535393Z",
     "iopub.status.idle": "2025-05-06T01:03:15.624392Z",
     "shell.execute_reply": "2025-05-06T01:03:15.623697Z"
    },
    "papermill": {
     "duration": 0.101696,
     "end_time": "2025-05-06T01:03:15.625500",
     "exception": false,
     "start_time": "2025-05-06T01:03:15.523804",
     "status": "completed"
    },
    "tags": []
   },
   "outputs": [
    {
     "name": "stdout",
     "output_type": "stream",
     "text": [
      "Accuracy: 0.2925\n",
      "Classification Report:\n",
      "              precision    recall  f1-score   support\n",
      "\n",
      "           0       0.31      0.36      0.33       604\n",
      "           1       0.30      0.23      0.26       404\n",
      "           2       0.31      0.48      0.37       657\n",
      "           3       0.19      0.18      0.19       435\n",
      "           4       0.38      0.22      0.28       378\n",
      "           5       0.26      0.21      0.23       520\n",
      "           6       0.32      0.26      0.28       479\n",
      "\n",
      "    accuracy                           0.29      3477\n",
      "   macro avg       0.29      0.28      0.28      3477\n",
      "weighted avg       0.29      0.29      0.29      3477\n",
      "\n",
      "Confusion Matrix:\n",
      "[[216  62 153  52  21  66  34]\n",
      " [101  94  80  40  15  42  32]\n",
      " [104  43 313  77  17  64  39]\n",
      " [ 62  28 135  80  28  44  58]\n",
      " [ 47  27  77  56  83  34  54]\n",
      " [102  39 145  49  26 107  52]\n",
      " [ 74  25 116  66  26  48 124]]\n",
      "Precision: 0.2941\n",
      "Recall: 0.2925\n",
      "F1 Score: 0.2857\n"
     ]
    }
   ],
   "source": [
    "from sklearn.metrics import classification_report, confusion_matrix, accuracy_score, precision_score, recall_score, f1_score\n",
    "\n",
    "# Predict on the test set\n",
    "y_pred = best_model.predict(X_test)\n",
    "\n",
    "# Calculate Accuracy\n",
    "accuracy = accuracy_score(y_test, y_pred)\n",
    "print(f\"Accuracy: {accuracy:.4f}\")\n",
    "\n",
    "# Classification Report\n",
    "print(\"Classification Report:\")\n",
    "print(classification_report(y_test, y_pred))\n",
    "\n",
    "# Confusion Matrix\n",
    "conf_matrix = confusion_matrix(y_test, y_pred)\n",
    "print(\"Confusion Matrix:\")\n",
    "print(conf_matrix)\n",
    "\n",
    "# Precision, Recall, F1 Score for each class (Offense Type)\n",
    "precision = precision_score(y_test, y_pred, average='weighted')\n",
    "recall = recall_score(y_test, y_pred, average='weighted')\n",
    "f1 = f1_score(y_test, y_pred, average='weighted')\n",
    "\n",
    "print(f\"Precision: {precision:.4f}\")\n",
    "print(f\"Recall: {recall:.4f}\")\n",
    "print(f\"F1 Score: {f1:.4f}\")\n"
   ]
  },
  {
   "cell_type": "markdown",
   "id": "af9860cd",
   "metadata": {
    "papermill": {
     "duration": 0.011134,
     "end_time": "2025-05-06T01:03:15.648241",
     "exception": false,
     "start_time": "2025-05-06T01:03:15.637107",
     "status": "completed"
    },
    "tags": []
   },
   "source": [
    "#### For Logistic Regression (Coefficient Interpretation)\n",
    "\n",
    "For Logistic Regression, the model coefficients can help us understand how each feature affects the likelihood of an offense happening. A positive coefficient indicates a feature increases the likelihood of the offense, and a negative coefficient indicates the opposite."
   ]
  },
  {
   "cell_type": "code",
   "execution_count": 25,
   "id": "a5815358",
   "metadata": {
    "execution": {
     "iopub.execute_input": "2025-05-06T01:03:15.671590Z",
     "iopub.status.busy": "2025-05-06T01:03:15.671032Z",
     "iopub.status.idle": "2025-05-06T01:03:15.675939Z",
     "shell.execute_reply": "2025-05-06T01:03:15.675285Z"
    },
    "papermill": {
     "duration": 0.017688,
     "end_time": "2025-05-06T01:03:15.677018",
     "exception": false,
     "start_time": "2025-05-06T01:03:15.659330",
     "status": "completed"
    },
    "tags": []
   },
   "outputs": [],
   "source": [
    "if isinstance(best_model, LogisticRegression):\n",
    "    # Logistic regression coefficients\n",
    "    coef_df = pd.DataFrame({\n",
    "        'Feature': X.columns,\n",
    "        'Coefficient': best_model.coef_[0]\n",
    "    })\n",
    "    coef_df['AbsCoefficient'] = coef_df['Coefficient'].abs()\n",
    "    coef_df = coef_df.sort_values(by='AbsCoefficient', ascending=False)\n",
    "    \n",
    "    # Plotting the coefficients\n",
    "    plt.figure(figsize=(10, 6))\n",
    "    sns.barplot(x='AbsCoefficient', y='Feature', data=coef_df)\n",
    "    plt.title(\"Logistic Regression Coefficients Impact\")\n",
    "    plt.show()\n",
    "\n",
    "    # Print the top 5 most impactful features (by absolute coefficient value)\n",
    "    print(\"Top 5 most impactful features based on coefficients:\")\n",
    "    print(coef_df.head())\n"
   ]
  },
  {
   "cell_type": "markdown",
   "id": "69a3bbc1",
   "metadata": {
    "papermill": {
     "duration": 0.01102,
     "end_time": "2025-05-06T01:03:15.699207",
     "exception": false,
     "start_time": "2025-05-06T01:03:15.688187",
     "status": "completed"
    },
    "tags": []
   },
   "source": [
    "Explanation of Output:\n",
    "\n",
    "Feature Importance (Random Forest/Decision Tree): The bar plot will show how important each feature is in the decision-making process. Features at the top of the list are the most influential in predicting the occurrence of offenses.\n",
    "\n",
    "Logistic Regression Coefficients: The bar plot will show the magnitude of the coefficients for each feature. Features with larger absolute values (either positive or negative) have a stronger impact on the model’s predictions. Positive coefficients increase the probability of an offense, while negative coefficients decrease it."
   ]
  },
  {
   "cell_type": "markdown",
   "id": "e9564d7d",
   "metadata": {
    "papermill": {
     "duration": 0.010954,
     "end_time": "2025-05-06T01:03:15.721292",
     "exception": false,
     "start_time": "2025-05-06T01:03:15.710338",
     "status": "completed"
    },
    "tags": []
   },
   "source": []
  }
 ],
 "metadata": {
  "kernelspec": {
   "display_name": "Python 3",
   "language": "python",
   "name": "python3"
  },
  "language_info": {
   "codemirror_mode": {
    "name": "ipython",
    "version": 3
   },
   "file_extension": ".py",
   "mimetype": "text/x-python",
   "name": "python",
   "nbconvert_exporter": "python",
   "pygments_lexer": "ipython3",
   "version": "3.9.22"
  },
  "papermill": {
   "default_parameters": {},
   "duration": 79.025356,
   "end_time": "2025-05-06T01:03:16.149121",
   "environment_variables": {},
   "exception": null,
   "input_path": "notebook/Crime Data.ipynb",
   "output_path": "notebook/Crime Data_output.ipynb",
   "parameters": {},
   "start_time": "2025-05-06T01:01:57.123765",
   "version": "2.6.0"
  }
 },
 "nbformat": 4,
 "nbformat_minor": 5
}