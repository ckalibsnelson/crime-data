{
 "cells": [
  {
   "cell_type": "markdown",
   "id": "4b31f7b6",
   "metadata": {
    "papermill": {
     "duration": 0.004236,
     "end_time": "2025-08-04T01:15:42.260981",
     "exception": false,
     "start_time": "2025-08-04T01:15:42.256745",
     "status": "completed"
    },
    "tags": []
   },
   "source": [
    "# Charlottesville Open Data Porttal: Crime Data"
   ]
  },
  {
   "cell_type": "markdown",
   "id": "3a6c4a9f",
   "metadata": {
    "papermill": {
     "duration": 0.004232,
     "end_time": "2025-08-04T01:15:42.268858",
     "exception": false,
     "start_time": "2025-08-04T01:15:42.264626",
     "status": "completed"
    },
    "tags": []
   },
   "source": [
    "## Import Relevant Librarires & Set WD"
   ]
  },
  {
   "cell_type": "code",
   "execution_count": 1,
   "id": "44eb2dee",
   "metadata": {
    "execution": {
     "iopub.execute_input": "2025-08-04T01:15:42.276554Z",
     "iopub.status.busy": "2025-08-04T01:15:42.276291Z",
     "iopub.status.idle": "2025-08-04T01:15:42.833465Z",
     "shell.execute_reply": "2025-08-04T01:15:42.832793Z"
    },
    "papermill": {
     "duration": 0.562778,
     "end_time": "2025-08-04T01:15:42.834901",
     "exception": false,
     "start_time": "2025-08-04T01:15:42.272123",
     "status": "completed"
    },
    "tags": []
   },
   "outputs": [],
   "source": [
    "import requests\n",
    "import pandas as pd\n",
    "import numpy as np\n",
    "import pickle\n",
    "import googlemaps\n",
    "import plotly.express as px\n",
    "from geopy.geocoders import Nominatim\n",
    "import time\n",
    "from dotenv import load_dotenv\n",
    "import os\n",
    "\n",
    "env_path = os.path.join(\"..\", \".env\")\n",
    "#print(\"Looking for .env file at:\", os.path.abspath(env_path))\n",
    "load_dotenv(dotenv_path=env_path)\n",
    "\n",
    "# Retrieve the variables\n",
    "GOOGLE_API_KEY = os.getenv(\"GOOGLE_API_KEY\")\n",
    "WORKING_DIR = os.getenv(\"WORKING_DIR\")\n",
    "\n",
    "if GOOGLE_API_KEY is None or WORKING_DIR is None:\n",
    "    raise RuntimeError(\"No configuration found. Please ensure that your .env file exists with the required variables, or create a local config.py file.\")\n",
    "\n",
    "#print(\"Google API Key:\", GOOGLE_API_KEY)\n",
    "#print(\"Working Directory:\", WORKING_DIR)"
   ]
  },
  {
   "cell_type": "markdown",
   "id": "00fcc9a7",
   "metadata": {
    "papermill": {
     "duration": 0.003433,
     "end_time": "2025-08-04T01:15:42.842196",
     "exception": false,
     "start_time": "2025-08-04T01:15:42.838763",
     "status": "completed"
    },
    "tags": []
   },
   "source": [
    "## Import Data\n",
    "\n",
    "URL: https://opendata.charlottesville.org/datasets/charlottesville::crime-data/about"
   ]
  },
  {
   "cell_type": "code",
   "execution_count": 2,
   "id": "26c3ecd2",
   "metadata": {
    "execution": {
     "iopub.execute_input": "2025-08-04T01:15:42.850264Z",
     "iopub.status.busy": "2025-08-04T01:15:42.849903Z",
     "iopub.status.idle": "2025-08-04T01:16:50.095031Z",
     "shell.execute_reply": "2025-08-04T01:16:50.094278Z"
    },
    "papermill": {
     "duration": 67.2537,
     "end_time": "2025-08-04T01:16:50.099275",
     "exception": false,
     "start_time": "2025-08-04T01:15:42.845575",
     "status": "completed"
    },
    "tags": []
   },
   "outputs": [
    {
     "name": "stdout",
     "output_type": "stream",
     "text": [
      "Total records imported: 25619\n"
     ]
    }
   ],
   "source": [
    "# Define the endpoint and initial parameters.\n",
    "url = \"https://gisweb.charlottesville.org/arcgis/rest/services/OpenData_2/MapServer/6/query\"\n",
    "params = {\n",
    "    \"where\": \"1=1\",\n",
    "    \"outFields\": \"*\",\n",
    "    \"outSR\": 4326,\n",
    "    \"f\": \"json\",\n",
    "    \"resultOffset\": 0,       # Starting index for results\n",
    "    \"resultRecordCount\": 10000  # Maximum records per batch (if allowed by the API)\n",
    "}\n",
    "\n",
    "records = []\n",
    "\n",
    "while True:\n",
    "    response = requests.get(url, params=params)\n",
    "    response.raise_for_status()\n",
    "    data = response.json()\n",
    "    \n",
    "    # Get the current batch of features.\n",
    "    features = data.get(\"features\", [])\n",
    "    if not features:\n",
    "        break\n",
    "\n",
    "    # Extract the attributes from the features.\n",
    "    batch_records = [feature.get(\"attributes\", {}) for feature in features]\n",
    "    records.extend(batch_records)\n",
    "    \n",
    "    # If the batch size is less than the requested count, we reached the end.\n",
    "    if len(features) < params[\"resultRecordCount\"]:\n",
    "        break\n",
    "\n",
    "    # Update the resultOffset for the next batch.\n",
    "    params[\"resultOffset\"] += params[\"resultRecordCount\"]\n",
    "\n",
    "# Create a DataFrame from the combined records.\n",
    "df = pd.DataFrame(records)\n",
    "print(\"Total records imported:\", len(df))\n"
   ]
  },
  {
   "cell_type": "code",
   "execution_count": 3,
   "id": "3fde6eb4",
   "metadata": {
    "execution": {
     "iopub.execute_input": "2025-08-04T01:16:50.106905Z",
     "iopub.status.busy": "2025-08-04T01:16:50.106702Z",
     "iopub.status.idle": "2025-08-04T01:16:50.119040Z",
     "shell.execute_reply": "2025-08-04T01:16:50.118371Z"
    },
    "papermill": {
     "duration": 0.017321,
     "end_time": "2025-08-04T01:16:50.120075",
     "exception": false,
     "start_time": "2025-08-04T01:16:50.102754",
     "status": "completed"
    },
    "tags": []
   },
   "outputs": [
    {
     "data": {
      "text/html": [
       "<div>\n",
       "<style scoped>\n",
       "    .dataframe tbody tr th:only-of-type {\n",
       "        vertical-align: middle;\n",
       "    }\n",
       "\n",
       "    .dataframe tbody tr th {\n",
       "        vertical-align: top;\n",
       "    }\n",
       "\n",
       "    .dataframe thead th {\n",
       "        text-align: right;\n",
       "    }\n",
       "</style>\n",
       "<table border=\"1\" class=\"dataframe\">\n",
       "  <thead>\n",
       "    <tr style=\"text-align: right;\">\n",
       "      <th></th>\n",
       "      <th>RecordID</th>\n",
       "      <th>Offense</th>\n",
       "      <th>IncidentID</th>\n",
       "      <th>BlockNumber</th>\n",
       "      <th>StreetName</th>\n",
       "      <th>Agency</th>\n",
       "      <th>DateReported</th>\n",
       "      <th>HourReported</th>\n",
       "      <th>ReportingOfficer</th>\n",
       "    </tr>\n",
       "  </thead>\n",
       "  <tbody>\n",
       "    <tr>\n",
       "      <th>0</th>\n",
       "      <td>1</td>\n",
       "      <td>Assist Citizen - Mental/TDO/ECO</td>\n",
       "      <td>202500027195</td>\n",
       "      <td>100</td>\n",
       "      <td>MCINTIRE PARK DR</td>\n",
       "      <td>CPD</td>\n",
       "      <td>1754101022000</td>\n",
       "      <td>2217</td>\n",
       "      <td>Rigsby, Lloyd</td>\n",
       "    </tr>\n",
       "    <tr>\n",
       "      <th>1</th>\n",
       "      <td>2</td>\n",
       "      <td>Domestic Disturbance</td>\n",
       "      <td>202500027177</td>\n",
       "      <td>500</td>\n",
       "      <td>COURT, 806</td>\n",
       "      <td>CPD</td>\n",
       "      <td>1754090269000</td>\n",
       "      <td>1917</td>\n",
       "      <td>Venereo, Arturo</td>\n",
       "    </tr>\n",
       "    <tr>\n",
       "      <th>2</th>\n",
       "      <td>3</td>\n",
       "      <td>Suspicious Activity</td>\n",
       "      <td>202500027156</td>\n",
       "      <td>500</td>\n",
       "      <td>1ST ST S, 205</td>\n",
       "      <td>CPD</td>\n",
       "      <td>1754080870000</td>\n",
       "      <td>1641</td>\n",
       "      <td>Ritter, Kobe</td>\n",
       "    </tr>\n",
       "    <tr>\n",
       "      <th>3</th>\n",
       "      <td>4</td>\n",
       "      <td>Sex Offense - Forcible Rape</td>\n",
       "      <td>202500027170</td>\n",
       "      <td>700</td>\n",
       "      <td>FRANKLIN ST</td>\n",
       "      <td>CPD</td>\n",
       "      <td>1754080713000</td>\n",
       "      <td>1638</td>\n",
       "      <td>Abdelgayed, Adam</td>\n",
       "    </tr>\n",
       "    <tr>\n",
       "      <th>4</th>\n",
       "      <td>5</td>\n",
       "      <td>Drunkeness DIP</td>\n",
       "      <td>202500027153</td>\n",
       "      <td>200</td>\n",
       "      <td>E MARKET ST</td>\n",
       "      <td>CPD</td>\n",
       "      <td>1754079669000</td>\n",
       "      <td>1621</td>\n",
       "      <td>Abdelgayed, Adam</td>\n",
       "    </tr>\n",
       "  </tbody>\n",
       "</table>\n",
       "</div>"
      ],
      "text/plain": [
       "   RecordID                          Offense    IncidentID BlockNumber  \\\n",
       "0         1  Assist Citizen - Mental/TDO/ECO  202500027195         100   \n",
       "1         2             Domestic Disturbance  202500027177         500   \n",
       "2         3              Suspicious Activity  202500027156         500   \n",
       "3         4      Sex Offense - Forcible Rape  202500027170         700   \n",
       "4         5                   Drunkeness DIP  202500027153         200   \n",
       "\n",
       "         StreetName Agency   DateReported HourReported  ReportingOfficer  \n",
       "0  MCINTIRE PARK DR    CPD  1754101022000         2217     Rigsby, Lloyd  \n",
       "1        COURT, 806    CPD  1754090269000         1917   Venereo, Arturo  \n",
       "2     1ST ST S, 205    CPD  1754080870000         1641      Ritter, Kobe  \n",
       "3       FRANKLIN ST    CPD  1754080713000         1638  Abdelgayed, Adam  \n",
       "4       E MARKET ST    CPD  1754079669000         1621  Abdelgayed, Adam  "
      ]
     },
     "execution_count": 3,
     "metadata": {},
     "output_type": "execute_result"
    }
   ],
   "source": [
    "df.head()"
   ]
  },
  {
   "cell_type": "code",
   "execution_count": 4,
   "id": "0f443bf1",
   "metadata": {
    "execution": {
     "iopub.execute_input": "2025-08-04T01:16:50.127908Z",
     "iopub.status.busy": "2025-08-04T01:16:50.127715Z",
     "iopub.status.idle": "2025-08-04T01:16:50.131666Z",
     "shell.execute_reply": "2025-08-04T01:16:50.131155Z"
    },
    "papermill": {
     "duration": 0.008909,
     "end_time": "2025-08-04T01:16:50.132602",
     "exception": false,
     "start_time": "2025-08-04T01:16:50.123693",
     "status": "completed"
    },
    "tags": []
   },
   "outputs": [
    {
     "data": {
      "text/plain": [
       "Index(['RecordID', 'Offense', 'IncidentID', 'BlockNumber', 'StreetName',\n",
       "       'Agency', 'DateReported', 'HourReported', 'ReportingOfficer'],\n",
       "      dtype='object')"
      ]
     },
     "execution_count": 4,
     "metadata": {},
     "output_type": "execute_result"
    }
   ],
   "source": [
    "df.columns"
   ]
  },
  {
   "cell_type": "code",
   "execution_count": 5,
   "id": "384289ef",
   "metadata": {
    "execution": {
     "iopub.execute_input": "2025-08-04T01:16:50.140576Z",
     "iopub.status.busy": "2025-08-04T01:16:50.140392Z",
     "iopub.status.idle": "2025-08-04T01:16:50.165223Z",
     "shell.execute_reply": "2025-08-04T01:16:50.164670Z"
    },
    "papermill": {
     "duration": 0.02992,
     "end_time": "2025-08-04T01:16:50.166221",
     "exception": false,
     "start_time": "2025-08-04T01:16:50.136301",
     "status": "completed"
    },
    "tags": []
   },
   "outputs": [
    {
     "name": "stdout",
     "output_type": "stream",
     "text": [
      "<class 'pandas.core.frame.DataFrame'>\n",
      "RangeIndex: 25619 entries, 0 to 25618\n",
      "Data columns (total 9 columns):\n",
      " #   Column            Non-Null Count  Dtype \n",
      "---  ------            --------------  ----- \n",
      " 0   RecordID          25619 non-null  int64 \n",
      " 1   Offense           25619 non-null  object\n",
      " 2   IncidentID        25619 non-null  object\n",
      " 3   BlockNumber       25619 non-null  object\n",
      " 4   StreetName        25619 non-null  object\n",
      " 5   Agency            25619 non-null  object\n",
      " 6   DateReported      25619 non-null  int64 \n",
      " 7   HourReported      25619 non-null  object\n",
      " 8   ReportingOfficer  25603 non-null  object\n",
      "dtypes: int64(2), object(7)\n",
      "memory usage: 1.8+ MB\n"
     ]
    }
   ],
   "source": [
    "df.info()"
   ]
  },
  {
   "cell_type": "markdown",
   "id": "a8132a0f",
   "metadata": {
    "papermill": {
     "duration": 0.003698,
     "end_time": "2025-08-04T01:16:50.173808",
     "exception": false,
     "start_time": "2025-08-04T01:16:50.170110",
     "status": "completed"
    },
    "tags": []
   },
   "source": [
    "### Missing Values"
   ]
  },
  {
   "cell_type": "code",
   "execution_count": 6,
   "id": "e5694c8b",
   "metadata": {
    "execution": {
     "iopub.execute_input": "2025-08-04T01:16:50.181862Z",
     "iopub.status.busy": "2025-08-04T01:16:50.181653Z",
     "iopub.status.idle": "2025-08-04T01:16:50.205982Z",
     "shell.execute_reply": "2025-08-04T01:16:50.205376Z"
    },
    "papermill": {
     "duration": 0.02957,
     "end_time": "2025-08-04T01:16:50.207012",
     "exception": false,
     "start_time": "2025-08-04T01:16:50.177442",
     "status": "completed"
    },
    "tags": []
   },
   "outputs": [
    {
     "name": "stdout",
     "output_type": "stream",
     "text": [
      "                  MissingCount  MissingPercentage\n",
      "RecordID                     0               0.00\n",
      "Offense                      0               0.00\n",
      "IncidentID                   0               0.00\n",
      "BlockNumber                  0               0.00\n",
      "StreetName                   0               0.00\n",
      "Agency                       0               0.00\n",
      "DateReported                 0               0.00\n",
      "HourReported                 0               0.00\n",
      "ReportingOfficer            16               0.06\n"
     ]
    }
   ],
   "source": [
    "def missing_percentage(df):\n",
    "    \"\"\"\n",
    "    Returns a DataFrame with the count and percentage of missing values for each column.\n",
    "    \n",
    "    Parameters:\n",
    "        df (pd.DataFrame): The input DataFrame.\n",
    "    \n",
    "    Returns:\n",
    "        pd.DataFrame: A DataFrame with columns 'MissingCount' and 'MissingPercentage'.\n",
    "    \"\"\"\n",
    "    total_rows = len(df)\n",
    "    missing_count = df.isnull().sum()\n",
    "    missing_percent = (missing_count / total_rows) * 100\n",
    "    \n",
    "    result = pd.DataFrame({\n",
    "        'MissingCount': missing_count,\n",
    "        'MissingPercentage': missing_percent.round(2)\n",
    "    })\n",
    "    \n",
    "    return result\n",
    "\n",
    "# Example usage:\n",
    "missing_info = missing_percentage(df)\n",
    "print(missing_info)\n"
   ]
  },
  {
   "cell_type": "markdown",
   "id": "20966e26",
   "metadata": {
    "papermill": {
     "duration": 0.00372,
     "end_time": "2025-08-04T01:16:50.214828",
     "exception": false,
     "start_time": "2025-08-04T01:16:50.211108",
     "status": "completed"
    },
    "tags": []
   },
   "source": [
    "## Data Preparation"
   ]
  },
  {
   "cell_type": "markdown",
   "id": "527c74d3",
   "metadata": {
    "papermill": {
     "duration": 0.003691,
     "end_time": "2025-08-04T01:16:50.222228",
     "exception": false,
     "start_time": "2025-08-04T01:16:50.218537",
     "status": "completed"
    },
    "tags": []
   },
   "source": [
    "### Data Conversion"
   ]
  },
  {
   "cell_type": "code",
   "execution_count": 7,
   "id": "eb570bcc",
   "metadata": {
    "execution": {
     "iopub.execute_input": "2025-08-04T01:16:50.230844Z",
     "iopub.status.busy": "2025-08-04T01:16:50.230531Z",
     "iopub.status.idle": "2025-08-04T01:16:50.595318Z",
     "shell.execute_reply": "2025-08-04T01:16:50.594708Z"
    },
    "papermill": {
     "duration": 0.37041,
     "end_time": "2025-08-04T01:16:50.596402",
     "exception": false,
     "start_time": "2025-08-04T01:16:50.225992",
     "status": "completed"
    },
    "tags": []
   },
   "outputs": [
    {
     "data": {
      "text/html": [
       "<div>\n",
       "<style scoped>\n",
       "    .dataframe tbody tr th:only-of-type {\n",
       "        vertical-align: middle;\n",
       "    }\n",
       "\n",
       "    .dataframe tbody tr th {\n",
       "        vertical-align: top;\n",
       "    }\n",
       "\n",
       "    .dataframe thead th {\n",
       "        text-align: right;\n",
       "    }\n",
       "</style>\n",
       "<table border=\"1\" class=\"dataframe\">\n",
       "  <thead>\n",
       "    <tr style=\"text-align: right;\">\n",
       "      <th></th>\n",
       "      <th>RecordID</th>\n",
       "      <th>Offense</th>\n",
       "      <th>IncidentID</th>\n",
       "      <th>BlockNumber</th>\n",
       "      <th>StreetName</th>\n",
       "      <th>Agency</th>\n",
       "      <th>HourReported</th>\n",
       "      <th>ReportingOfficer</th>\n",
       "      <th>Date</th>\n",
       "      <th>DateString</th>\n",
       "      <th>DayOfWeek</th>\n",
       "      <th>Weekend</th>\n",
       "      <th>Season</th>\n",
       "      <th>HourAMPM</th>\n",
       "      <th>TimeOfDay</th>\n",
       "    </tr>\n",
       "  </thead>\n",
       "  <tbody>\n",
       "    <tr>\n",
       "      <th>0</th>\n",
       "      <td>1</td>\n",
       "      <td>Assist Citizen - Mental/TDO/ECO</td>\n",
       "      <td>202500027195</td>\n",
       "      <td>100</td>\n",
       "      <td>MCINTIRE PARK DR</td>\n",
       "      <td>CPD</td>\n",
       "      <td>2217</td>\n",
       "      <td>Rigsby, Lloyd</td>\n",
       "      <td>2025-08-01 22:17:02</td>\n",
       "      <td>2025-08-01 10:17:02 PM</td>\n",
       "      <td>Friday</td>\n",
       "      <td>False</td>\n",
       "      <td>Summer</td>\n",
       "      <td>10:17 PM</td>\n",
       "      <td>Night</td>\n",
       "    </tr>\n",
       "    <tr>\n",
       "      <th>1</th>\n",
       "      <td>2</td>\n",
       "      <td>Domestic Disturbance</td>\n",
       "      <td>202500027177</td>\n",
       "      <td>500</td>\n",
       "      <td>COURT, 806</td>\n",
       "      <td>CPD</td>\n",
       "      <td>1917</td>\n",
       "      <td>Venereo, Arturo</td>\n",
       "      <td>2025-08-01 19:17:49</td>\n",
       "      <td>2025-08-01 07:17:49 PM</td>\n",
       "      <td>Friday</td>\n",
       "      <td>False</td>\n",
       "      <td>Summer</td>\n",
       "      <td>07:17 PM</td>\n",
       "      <td>Evening</td>\n",
       "    </tr>\n",
       "    <tr>\n",
       "      <th>2</th>\n",
       "      <td>3</td>\n",
       "      <td>Suspicious Activity</td>\n",
       "      <td>202500027156</td>\n",
       "      <td>500</td>\n",
       "      <td>1ST ST S, 205</td>\n",
       "      <td>CPD</td>\n",
       "      <td>1641</td>\n",
       "      <td>Ritter, Kobe</td>\n",
       "      <td>2025-08-01 16:41:10</td>\n",
       "      <td>2025-08-01 04:41:10 PM</td>\n",
       "      <td>Friday</td>\n",
       "      <td>False</td>\n",
       "      <td>Summer</td>\n",
       "      <td>04:41 PM</td>\n",
       "      <td>Afternoon</td>\n",
       "    </tr>\n",
       "    <tr>\n",
       "      <th>3</th>\n",
       "      <td>4</td>\n",
       "      <td>Sex Offense - Forcible Rape</td>\n",
       "      <td>202500027170</td>\n",
       "      <td>700</td>\n",
       "      <td>FRANKLIN ST</td>\n",
       "      <td>CPD</td>\n",
       "      <td>1638</td>\n",
       "      <td>Abdelgayed, Adam</td>\n",
       "      <td>2025-08-01 16:38:33</td>\n",
       "      <td>2025-08-01 04:38:33 PM</td>\n",
       "      <td>Friday</td>\n",
       "      <td>False</td>\n",
       "      <td>Summer</td>\n",
       "      <td>04:38 PM</td>\n",
       "      <td>Afternoon</td>\n",
       "    </tr>\n",
       "    <tr>\n",
       "      <th>4</th>\n",
       "      <td>5</td>\n",
       "      <td>Drunkeness DIP</td>\n",
       "      <td>202500027153</td>\n",
       "      <td>200</td>\n",
       "      <td>E MARKET ST</td>\n",
       "      <td>CPD</td>\n",
       "      <td>1621</td>\n",
       "      <td>Abdelgayed, Adam</td>\n",
       "      <td>2025-08-01 16:21:09</td>\n",
       "      <td>2025-08-01 04:21:09 PM</td>\n",
       "      <td>Friday</td>\n",
       "      <td>False</td>\n",
       "      <td>Summer</td>\n",
       "      <td>04:21 PM</td>\n",
       "      <td>Afternoon</td>\n",
       "    </tr>\n",
       "  </tbody>\n",
       "</table>\n",
       "</div>"
      ],
      "text/plain": [
       "   RecordID                          Offense    IncidentID BlockNumber  \\\n",
       "0         1  Assist Citizen - Mental/TDO/ECO  202500027195         100   \n",
       "1         2             Domestic Disturbance  202500027177         500   \n",
       "2         3              Suspicious Activity  202500027156         500   \n",
       "3         4      Sex Offense - Forcible Rape  202500027170         700   \n",
       "4         5                   Drunkeness DIP  202500027153         200   \n",
       "\n",
       "         StreetName Agency HourReported  ReportingOfficer                Date  \\\n",
       "0  MCINTIRE PARK DR    CPD         2217     Rigsby, Lloyd 2025-08-01 22:17:02   \n",
       "1        COURT, 806    CPD         1917   Venereo, Arturo 2025-08-01 19:17:49   \n",
       "2     1ST ST S, 205    CPD         1641      Ritter, Kobe 2025-08-01 16:41:10   \n",
       "3       FRANKLIN ST    CPD         1638  Abdelgayed, Adam 2025-08-01 16:38:33   \n",
       "4       E MARKET ST    CPD         1621  Abdelgayed, Adam 2025-08-01 16:21:09   \n",
       "\n",
       "               DateString DayOfWeek  Weekend  Season  HourAMPM  TimeOfDay  \n",
       "0  2025-08-01 10:17:02 PM    Friday    False  Summer  10:17 PM      Night  \n",
       "1  2025-08-01 07:17:49 PM    Friday    False  Summer  07:17 PM    Evening  \n",
       "2  2025-08-01 04:41:10 PM    Friday    False  Summer  04:41 PM  Afternoon  \n",
       "3  2025-08-01 04:38:33 PM    Friday    False  Summer  04:38 PM  Afternoon  \n",
       "4  2025-08-01 04:21:09 PM    Friday    False  Summer  04:21 PM  Afternoon  "
      ]
     },
     "execution_count": 7,
     "metadata": {},
     "output_type": "execute_result"
    }
   ],
   "source": [
    "def convert_and_categorize_datereported(df, col='DateReported'):\n",
    "    \"\"\"\n",
    "    Converts an epoch (in milliseconds) date column into a timezone-aware datetime,\n",
    "    converts it to Eastern Time, and then creates columns for day-of-week, weekend flag,\n",
    "    season, 12-hour formatted time, and time-of-day. Keeps both a real datetime column\n",
    "    (Date) and a string representation (DateString).\n",
    "    \"\"\"\n",
    "    import pandas as pd\n",
    "\n",
    "    # Convert the epoch timestamp to a pandas datetime object as UTC, then convert to US/Eastern.\n",
    "    df[\"DateReported_dt\"] = (\n",
    "        pd.to_datetime(df[col], unit=\"ms\", errors=\"coerce\", utc=True)\n",
    "        .dt.tz_convert(\"US/Eastern\")\n",
    "    )\n",
    "    \n",
    "    # Create a true datetime column (remove timezone if you prefer naive datetime)\n",
    "    df[\"Date\"] = df[\"DateReported_dt\"].dt.tz_localize(None)\n",
    "\n",
    "    # Optionally, create a separate string-formatted column\n",
    "    df[\"DateString\"] = df[\"DateReported_dt\"].dt.strftime(\"%Y-%m-%d %I:%M:%S %p\")\n",
    "    \n",
    "    # DayOfWeek\n",
    "    df[\"DayOfWeek\"] = df[\"DateReported_dt\"].dt.day_name()\n",
    "    \n",
    "    # Weekend\n",
    "    df[\"Weekend\"] = df[\"DayOfWeek\"].isin([\"Saturday\", \"Sunday\"])\n",
    "    \n",
    "    # Helper function to determine the season\n",
    "    def get_season(dt):\n",
    "        month = dt.month\n",
    "        day = dt.day\n",
    "        # Approximate Northern Hemisphere season boundaries:\n",
    "        if (month == 12 and day >= 21) or (month < 3) or (month == 3 and day < 20):\n",
    "            return \"Winter\"\n",
    "        elif (month == 3 and day >= 20) or (month < 6) or (month == 6 and day < 21):\n",
    "            return \"Spring\"\n",
    "        elif (month == 6 and day >= 21) or (month < 9) or (month == 9 and day < 22):\n",
    "            return \"Summer\"\n",
    "        else:\n",
    "            return \"Autumn\"\n",
    "    \n",
    "    df[\"Season\"] = df[\"DateReported_dt\"].apply(get_season)\n",
    "    \n",
    "    # 12-hour formatted time (HourAMPM)\n",
    "    df[\"HourAMPM\"] = df[\"DateReported_dt\"].dt.strftime(\"%I:%M %p\")\n",
    "    \n",
    "    # Extract hour (0-23) for time-of-day\n",
    "    df[\"HourValue\"] = df[\"DateReported_dt\"].dt.hour\n",
    "    \n",
    "    def time_of_day(hour):\n",
    "        if pd.isnull(hour):\n",
    "            return None\n",
    "        if 5 <= hour < 12:\n",
    "            return \"Morning\"\n",
    "        elif 12 <= hour < 17:\n",
    "            return \"Afternoon\"\n",
    "        elif 17 <= hour < 21:\n",
    "            return \"Evening\"\n",
    "        else:\n",
    "            return \"Night\"\n",
    "    \n",
    "    df[\"TimeOfDay\"] = df[\"HourValue\"].apply(time_of_day)\n",
    "    \n",
    "    # Drop columns you no longer need\n",
    "    df.drop(columns=[col, \"DateReported_dt\", \"HourValue\"], inplace=True)\n",
    "    \n",
    "    return df\n",
    "\n",
    "# Example usage:\n",
    "df = convert_and_categorize_datereported(df)\n",
    "df.head()\n"
   ]
  },
  {
   "cell_type": "code",
   "execution_count": 8,
   "id": "0a308288",
   "metadata": {
    "execution": {
     "iopub.execute_input": "2025-08-04T01:16:50.605708Z",
     "iopub.status.busy": "2025-08-04T01:16:50.605429Z",
     "iopub.status.idle": "2025-08-04T01:16:50.634101Z",
     "shell.execute_reply": "2025-08-04T01:16:50.633494Z"
    },
    "papermill": {
     "duration": 0.034302,
     "end_time": "2025-08-04T01:16:50.635135",
     "exception": false,
     "start_time": "2025-08-04T01:16:50.600833",
     "status": "completed"
    },
    "tags": []
   },
   "outputs": [
    {
     "name": "stdout",
     "output_type": "stream",
     "text": [
      "<class 'pandas.core.frame.DataFrame'>\n",
      "RangeIndex: 25619 entries, 0 to 25618\n",
      "Data columns (total 15 columns):\n",
      " #   Column            Non-Null Count  Dtype         \n",
      "---  ------            --------------  -----         \n",
      " 0   RecordID          25619 non-null  int64         \n",
      " 1   Offense           25619 non-null  object        \n",
      " 2   IncidentID        25619 non-null  object        \n",
      " 3   BlockNumber       25619 non-null  object        \n",
      " 4   StreetName        25619 non-null  object        \n",
      " 5   Agency            25619 non-null  object        \n",
      " 6   HourReported      25619 non-null  object        \n",
      " 7   ReportingOfficer  25603 non-null  object        \n",
      " 8   Date              25619 non-null  datetime64[ns]\n",
      " 9   DateString        25619 non-null  object        \n",
      " 10  DayOfWeek         25619 non-null  object        \n",
      " 11  Weekend           25619 non-null  bool          \n",
      " 12  Season            25619 non-null  object        \n",
      " 13  HourAMPM          25619 non-null  object        \n",
      " 14  TimeOfDay         25619 non-null  object        \n",
      "dtypes: bool(1), datetime64[ns](1), int64(1), object(12)\n",
      "memory usage: 2.8+ MB\n"
     ]
    }
   ],
   "source": [
    "df.info()"
   ]
  },
  {
   "cell_type": "markdown",
   "id": "6eb667d6",
   "metadata": {
    "papermill": {
     "duration": 0.003992,
     "end_time": "2025-08-04T01:16:50.643570",
     "exception": false,
     "start_time": "2025-08-04T01:16:50.639578",
     "status": "completed"
    },
    "tags": []
   },
   "source": [
    "### Coordinates"
   ]
  },
  {
   "cell_type": "code",
   "execution_count": 9,
   "id": "fd97a36c",
   "metadata": {
    "execution": {
     "iopub.execute_input": "2025-08-04T01:16:50.652451Z",
     "iopub.status.busy": "2025-08-04T01:16:50.652246Z",
     "iopub.status.idle": "2025-08-04T01:16:50.781722Z",
     "shell.execute_reply": "2025-08-04T01:16:50.781062Z"
    },
    "papermill": {
     "duration": 0.135172,
     "end_time": "2025-08-04T01:16:50.782736",
     "exception": false,
     "start_time": "2025-08-04T01:16:50.647564",
     "status": "completed"
    },
    "tags": []
   },
   "outputs": [
    {
     "name": "stdout",
     "output_type": "stream",
     "text": [
      "Loaded geocode cache.\n",
      "Error geocoding 500 1ST ST S, 205: REQUEST_DENIED (You must enable Billing on the Google Cloud Project at https://console.cloud.google.com/project/_/billing/enable Learn more at https://developers.google.com/maps/gmp-get-started)\n",
      "Geocoded 500 1ST ST S, 205: None, None\n",
      "Geocode cache updated and saved.\n"
     ]
    },
    {
     "data": {
      "text/html": [
       "<div>\n",
       "<style scoped>\n",
       "    .dataframe tbody tr th:only-of-type {\n",
       "        vertical-align: middle;\n",
       "    }\n",
       "\n",
       "    .dataframe tbody tr th {\n",
       "        vertical-align: top;\n",
       "    }\n",
       "\n",
       "    .dataframe thead th {\n",
       "        text-align: right;\n",
       "    }\n",
       "</style>\n",
       "<table border=\"1\" class=\"dataframe\">\n",
       "  <thead>\n",
       "    <tr style=\"text-align: right;\">\n",
       "      <th></th>\n",
       "      <th>RecordID</th>\n",
       "      <th>Offense</th>\n",
       "      <th>IncidentID</th>\n",
       "      <th>BlockNumber</th>\n",
       "      <th>StreetName</th>\n",
       "      <th>Agency</th>\n",
       "      <th>HourReported</th>\n",
       "      <th>ReportingOfficer</th>\n",
       "      <th>Date</th>\n",
       "      <th>DateString</th>\n",
       "      <th>DayOfWeek</th>\n",
       "      <th>Weekend</th>\n",
       "      <th>Season</th>\n",
       "      <th>HourAMPM</th>\n",
       "      <th>TimeOfDay</th>\n",
       "      <th>FullStreet</th>\n",
       "      <th>lat</th>\n",
       "      <th>lon</th>\n",
       "    </tr>\n",
       "  </thead>\n",
       "  <tbody>\n",
       "    <tr>\n",
       "      <th>0</th>\n",
       "      <td>1</td>\n",
       "      <td>Assist Citizen - Mental/TDO/ECO</td>\n",
       "      <td>202500027195</td>\n",
       "      <td>100</td>\n",
       "      <td>MCINTIRE PARK DR</td>\n",
       "      <td>CPD</td>\n",
       "      <td>2217</td>\n",
       "      <td>Rigsby, Lloyd</td>\n",
       "      <td>2025-08-01 22:17:02</td>\n",
       "      <td>2025-08-01 10:17:02 PM</td>\n",
       "      <td>Friday</td>\n",
       "      <td>False</td>\n",
       "      <td>Summer</td>\n",
       "      <td>10:17 PM</td>\n",
       "      <td>Night</td>\n",
       "      <td>100 MCINTIRE PARK DR</td>\n",
       "      <td>38.049183</td>\n",
       "      <td>-78.478167</td>\n",
       "    </tr>\n",
       "    <tr>\n",
       "      <th>1</th>\n",
       "      <td>2</td>\n",
       "      <td>Domestic Disturbance</td>\n",
       "      <td>202500027177</td>\n",
       "      <td>500</td>\n",
       "      <td>COURT, 806</td>\n",
       "      <td>CPD</td>\n",
       "      <td>1917</td>\n",
       "      <td>Venereo, Arturo</td>\n",
       "      <td>2025-08-01 19:17:49</td>\n",
       "      <td>2025-08-01 07:17:49 PM</td>\n",
       "      <td>Friday</td>\n",
       "      <td>False</td>\n",
       "      <td>Summer</td>\n",
       "      <td>07:17 PM</td>\n",
       "      <td>Evening</td>\n",
       "      <td>500 COURT, 806</td>\n",
       "      <td>38.029306</td>\n",
       "      <td>-78.476678</td>\n",
       "    </tr>\n",
       "    <tr>\n",
       "      <th>2</th>\n",
       "      <td>3</td>\n",
       "      <td>Suspicious Activity</td>\n",
       "      <td>202500027156</td>\n",
       "      <td>500</td>\n",
       "      <td>1ST ST S, 205</td>\n",
       "      <td>CPD</td>\n",
       "      <td>1641</td>\n",
       "      <td>Ritter, Kobe</td>\n",
       "      <td>2025-08-01 16:41:10</td>\n",
       "      <td>2025-08-01 04:41:10 PM</td>\n",
       "      <td>Friday</td>\n",
       "      <td>False</td>\n",
       "      <td>Summer</td>\n",
       "      <td>04:41 PM</td>\n",
       "      <td>Afternoon</td>\n",
       "      <td>500 1ST ST S, 205</td>\n",
       "      <td>NaN</td>\n",
       "      <td>NaN</td>\n",
       "    </tr>\n",
       "    <tr>\n",
       "      <th>3</th>\n",
       "      <td>4</td>\n",
       "      <td>Sex Offense - Forcible Rape</td>\n",
       "      <td>202500027170</td>\n",
       "      <td>700</td>\n",
       "      <td>FRANKLIN ST</td>\n",
       "      <td>CPD</td>\n",
       "      <td>1638</td>\n",
       "      <td>Abdelgayed, Adam</td>\n",
       "      <td>2025-08-01 16:38:33</td>\n",
       "      <td>2025-08-01 04:38:33 PM</td>\n",
       "      <td>Friday</td>\n",
       "      <td>False</td>\n",
       "      <td>Summer</td>\n",
       "      <td>04:38 PM</td>\n",
       "      <td>Afternoon</td>\n",
       "      <td>700 FRANKLIN ST</td>\n",
       "      <td>38.019542</td>\n",
       "      <td>-78.465498</td>\n",
       "    </tr>\n",
       "    <tr>\n",
       "      <th>4</th>\n",
       "      <td>5</td>\n",
       "      <td>Drunkeness DIP</td>\n",
       "      <td>202500027153</td>\n",
       "      <td>200</td>\n",
       "      <td>E MARKET ST</td>\n",
       "      <td>CPD</td>\n",
       "      <td>1621</td>\n",
       "      <td>Abdelgayed, Adam</td>\n",
       "      <td>2025-08-01 16:21:09</td>\n",
       "      <td>2025-08-01 04:21:09 PM</td>\n",
       "      <td>Friday</td>\n",
       "      <td>False</td>\n",
       "      <td>Summer</td>\n",
       "      <td>04:21 PM</td>\n",
       "      <td>Afternoon</td>\n",
       "      <td>200 E MARKET ST</td>\n",
       "      <td>38.031104</td>\n",
       "      <td>-78.480367</td>\n",
       "    </tr>\n",
       "  </tbody>\n",
       "</table>\n",
       "</div>"
      ],
      "text/plain": [
       "   RecordID                          Offense    IncidentID BlockNumber  \\\n",
       "0         1  Assist Citizen - Mental/TDO/ECO  202500027195         100   \n",
       "1         2             Domestic Disturbance  202500027177         500   \n",
       "2         3              Suspicious Activity  202500027156         500   \n",
       "3         4      Sex Offense - Forcible Rape  202500027170         700   \n",
       "4         5                   Drunkeness DIP  202500027153         200   \n",
       "\n",
       "         StreetName Agency HourReported  ReportingOfficer                Date  \\\n",
       "0  MCINTIRE PARK DR    CPD         2217     Rigsby, Lloyd 2025-08-01 22:17:02   \n",
       "1        COURT, 806    CPD         1917   Venereo, Arturo 2025-08-01 19:17:49   \n",
       "2     1ST ST S, 205    CPD         1641      Ritter, Kobe 2025-08-01 16:41:10   \n",
       "3       FRANKLIN ST    CPD         1638  Abdelgayed, Adam 2025-08-01 16:38:33   \n",
       "4       E MARKET ST    CPD         1621  Abdelgayed, Adam 2025-08-01 16:21:09   \n",
       "\n",
       "               DateString DayOfWeek  Weekend  Season  HourAMPM  TimeOfDay  \\\n",
       "0  2025-08-01 10:17:02 PM    Friday    False  Summer  10:17 PM      Night   \n",
       "1  2025-08-01 07:17:49 PM    Friday    False  Summer  07:17 PM    Evening   \n",
       "2  2025-08-01 04:41:10 PM    Friday    False  Summer  04:41 PM  Afternoon   \n",
       "3  2025-08-01 04:38:33 PM    Friday    False  Summer  04:38 PM  Afternoon   \n",
       "4  2025-08-01 04:21:09 PM    Friday    False  Summer  04:21 PM  Afternoon   \n",
       "\n",
       "             FullStreet        lat        lon  \n",
       "0  100 MCINTIRE PARK DR  38.049183 -78.478167  \n",
       "1        500 COURT, 806  38.029306 -78.476678  \n",
       "2     500 1ST ST S, 205        NaN        NaN  \n",
       "3       700 FRANKLIN ST  38.019542 -78.465498  \n",
       "4       200 E MARKET ST  38.031104 -78.480367  "
      ]
     },
     "execution_count": 9,
     "metadata": {},
     "output_type": "execute_result"
    }
   ],
   "source": [
    "# Combine BlockNumber and StreetName into a full address string\n",
    "df['FullStreet'] = df['BlockNumber'].astype(str) + \" \" + df['StreetName']\n",
    "\n",
    "# --- Step 1: Setup the Google Maps Client and Cache ---\n",
    "gmaps = googlemaps.Client(key=GOOGLE_API_KEY)\n",
    "\n",
    "# Try to load cached geocoding results if available.\n",
    "try:\n",
    "    with open(\"geocode_cache_google.pkl\", \"rb\") as f:\n",
    "        street_coords = pickle.load(f)\n",
    "    print(\"Loaded geocode cache.\")\n",
    "except FileNotFoundError:\n",
    "    street_coords = {}\n",
    "    print(\"No cache found; starting fresh.\")\n",
    "\n",
    "def geocode_address(address):\n",
    "    try:\n",
    "        # Append city and state to help geocoding\n",
    "        result = gmaps.geocode(f\"{address}, Charlottesville, VA\")\n",
    "        if result:\n",
    "            lat = result[0]['geometry']['location']['lat']\n",
    "            lon = result[0]['geometry']['location']['lng']\n",
    "            return lat, lon\n",
    "    except Exception as e:\n",
    "        print(f\"Error geocoding {address}: {e}\")\n",
    "    return None, None\n",
    "\n",
    "# --- Step 2: Geocode Only New Addresses ---\n",
    "unique_addresses = df['FullStreet'].unique()\n",
    "for address in unique_addresses:\n",
    "    if address not in street_coords:\n",
    "        lat, lon = geocode_address(address)\n",
    "        street_coords[address] = (lat, lon)\n",
    "        print(f\"Geocoded {address}: {lat}, {lon}\")\n",
    "\n",
    "# Save the updated cache to disk.\n",
    "with open(\"geocode_cache_google.pkl\", \"wb\") as f:\n",
    "    pickle.dump(street_coords, f)\n",
    "    print(\"Geocode cache updated and saved.\")\n",
    "\n",
    "# --- Step 3: Map Coordinates Back to DataFrame ---\n",
    "df['lat'] = df['FullStreet'].map(lambda s: street_coords.get(s, (None, None))[0])\n",
    "df['lon'] = df['FullStreet'].map(lambda s: street_coords.get(s, (None, None))[1])\n",
    "\n",
    "df.head()"
   ]
  },
  {
   "cell_type": "markdown",
   "id": "2f3017a9",
   "metadata": {
    "papermill": {
     "duration": 0.004396,
     "end_time": "2025-08-04T01:16:50.792020",
     "exception": false,
     "start_time": "2025-08-04T01:16:50.787624",
     "status": "completed"
    },
    "tags": []
   },
   "source": [
    "### Neighborhood"
   ]
  },
  {
   "cell_type": "code",
   "execution_count": 10,
   "id": "d92eba75",
   "metadata": {
    "execution": {
     "iopub.execute_input": "2025-08-04T01:16:50.801926Z",
     "iopub.status.busy": "2025-08-04T01:16:50.801523Z",
     "iopub.status.idle": "2025-08-04T01:16:53.068775Z",
     "shell.execute_reply": "2025-08-04T01:16:53.068068Z"
    },
    "papermill": {
     "duration": 2.27357,
     "end_time": "2025-08-04T01:16:53.069945",
     "exception": false,
     "start_time": "2025-08-04T01:16:50.796375",
     "status": "completed"
    },
    "tags": []
   },
   "outputs": [
    {
     "name": "stdout",
     "output_type": "stream",
     "text": [
      "Loaded neighborhood cache.\n"
     ]
    },
    {
     "name": "stdout",
     "output_type": "stream",
     "text": [
      "Error getting neighborhood for nan, nan: HTTP Error: 400\n",
      "Error getting neighborhood for nan, nan: HTTP Error: 400\n",
      "Error getting neighborhood for nan, nan: HTTP Error: 400\n",
      "Error getting neighborhood for nan, nan: HTTP Error: 400\n"
     ]
    },
    {
     "name": "stdout",
     "output_type": "stream",
     "text": [
      "Error getting neighborhood for nan, nan: HTTP Error: 400\n",
      "Error getting neighborhood for nan, nan: HTTP Error: 400\n",
      "Error getting neighborhood for nan, nan: HTTP Error: 400\n"
     ]
    },
    {
     "name": "stdout",
     "output_type": "stream",
     "text": [
      "Error getting neighborhood for nan, nan: HTTP Error: 400\n",
      "Error getting neighborhood for nan, nan: HTTP Error: 400\n",
      "Error getting neighborhood for nan, nan: HTTP Error: 400\n",
      "Error getting neighborhood for nan, nan: HTTP Error: 400\n",
      "Error getting neighborhood for nan, nan: HTTP Error: 400\n"
     ]
    },
    {
     "name": "stdout",
     "output_type": "stream",
     "text": [
      "Error getting neighborhood for nan, nan: HTTP Error: 400\n",
      "Error getting neighborhood for nan, nan: HTTP Error: 400\n",
      "Error getting neighborhood for nan, nan: HTTP Error: 400\n",
      "Error getting neighborhood for nan, nan: HTTP Error: 400\n"
     ]
    },
    {
     "name": "stdout",
     "output_type": "stream",
     "text": [
      "Error getting neighborhood for nan, nan: HTTP Error: 400\n",
      "Error getting neighborhood for nan, nan: HTTP Error: 400\n",
      "Error getting neighborhood for nan, nan: HTTP Error: 400\n",
      "Error getting neighborhood for nan, nan: HTTP Error: 400\n",
      "Error getting neighborhood for nan, nan: HTTP Error: 400\n"
     ]
    },
    {
     "name": "stdout",
     "output_type": "stream",
     "text": [
      "Error getting neighborhood for nan, nan: HTTP Error: 400\n",
      "Error getting neighborhood for nan, nan: HTTP Error: 400\n",
      "Error getting neighborhood for nan, nan: HTTP Error: 400\n",
      "Error getting neighborhood for nan, nan: HTTP Error: 400\n"
     ]
    },
    {
     "name": "stdout",
     "output_type": "stream",
     "text": [
      "Error getting neighborhood for nan, nan: HTTP Error: 400\n",
      "Error getting neighborhood for nan, nan: HTTP Error: 400\n",
      "Error getting neighborhood for nan, nan: HTTP Error: 400\n",
      "Error getting neighborhood for nan, nan: HTTP Error: 400\n",
      "Error getting neighborhood for nan, nan: HTTP Error: 400\n"
     ]
    },
    {
     "name": "stdout",
     "output_type": "stream",
     "text": [
      "Error getting neighborhood for nan, nan: HTTP Error: 400\n",
      "Error getting neighborhood for nan, nan: HTTP Error: 400\n",
      "Error getting neighborhood for nan, nan: HTTP Error: 400\n",
      "Error getting neighborhood for nan, nan: HTTP Error: 400\n",
      "Error getting neighborhood for nan, nan: HTTP Error: 400\n"
     ]
    },
    {
     "name": "stdout",
     "output_type": "stream",
     "text": [
      "Error getting neighborhood for nan, nan: HTTP Error: 400\n",
      "Error getting neighborhood for nan, nan: HTTP Error: 400\n",
      "Error getting neighborhood for nan, nan: HTTP Error: 400\n",
      "Error getting neighborhood for nan, nan: HTTP Error: 400\n"
     ]
    },
    {
     "name": "stdout",
     "output_type": "stream",
     "text": [
      "Error getting neighborhood for nan, nan: HTTP Error: 400\n",
      "Error getting neighborhood for nan, nan: HTTP Error: 400\n",
      "Error getting neighborhood for nan, nan: HTTP Error: 400\n",
      "Error getting neighborhood for nan, nan: HTTP Error: 400\n",
      "Error getting neighborhood for nan, nan: HTTP Error: 400\n"
     ]
    },
    {
     "name": "stdout",
     "output_type": "stream",
     "text": [
      "Error getting neighborhood for nan, nan: HTTP Error: 400\n",
      "Error getting neighborhood for nan, nan: HTTP Error: 400\n",
      "Error getting neighborhood for nan, nan: HTTP Error: 400\n",
      "Error getting neighborhood for nan, nan: HTTP Error: 400\n"
     ]
    },
    {
     "name": "stdout",
     "output_type": "stream",
     "text": [
      "Error getting neighborhood for nan, nan: HTTP Error: 400\n",
      "Error getting neighborhood for nan, nan: HTTP Error: 400\n",
      "Error getting neighborhood for nan, nan: HTTP Error: 400\n",
      "Error getting neighborhood for nan, nan: HTTP Error: 400\n",
      "Error getting neighborhood for nan, nan: HTTP Error: 400\n"
     ]
    },
    {
     "name": "stdout",
     "output_type": "stream",
     "text": [
      "Error getting neighborhood for nan, nan: HTTP Error: 400\n",
      "Error getting neighborhood for nan, nan: HTTP Error: 400\n",
      "Error getting neighborhood for nan, nan: HTTP Error: 400\n",
      "Error getting neighborhood for nan, nan: HTTP Error: 400\n"
     ]
    },
    {
     "name": "stdout",
     "output_type": "stream",
     "text": [
      "Error getting neighborhood for nan, nan: HTTP Error: 400\n",
      "Error getting neighborhood for nan, nan: HTTP Error: 400\n",
      "Error getting neighborhood for nan, nan: HTTP Error: 400\n",
      "Error getting neighborhood for nan, nan: HTTP Error: 400\n",
      "Error getting neighborhood for nan, nan: HTTP Error: 400\n"
     ]
    },
    {
     "name": "stdout",
     "output_type": "stream",
     "text": [
      "Error getting neighborhood for nan, nan: HTTP Error: 400\n",
      "Error getting neighborhood for nan, nan: HTTP Error: 400\n",
      "Error getting neighborhood for nan, nan: HTTP Error: 400\n",
      "Error getting neighborhood for nan, nan: HTTP Error: 400\n"
     ]
    },
    {
     "name": "stdout",
     "output_type": "stream",
     "text": [
      "Error getting neighborhood for nan, nan: HTTP Error: 400\n",
      "Error getting neighborhood for nan, nan: HTTP Error: 400\n",
      "Error getting neighborhood for nan, nan: HTTP Error: 400\n",
      "Error getting neighborhood for nan, nan: HTTP Error: 400\n",
      "Error getting neighborhood for nan, nan: HTTP Error: 400\n"
     ]
    },
    {
     "name": "stdout",
     "output_type": "stream",
     "text": [
      "Error getting neighborhood for nan, nan: HTTP Error: 400\n",
      "Error getting neighborhood for nan, nan: HTTP Error: 400\n",
      "Error getting neighborhood for nan, nan: HTTP Error: 400\n",
      "Error getting neighborhood for nan, nan: HTTP Error: 400\n"
     ]
    },
    {
     "name": "stdout",
     "output_type": "stream",
     "text": [
      "Error getting neighborhood for nan, nan: HTTP Error: 400\n",
      "Error getting neighborhood for nan, nan: HTTP Error: 400\n",
      "Error getting neighborhood for nan, nan: HTTP Error: 400\n",
      "Error getting neighborhood for nan, nan: HTTP Error: 400\n",
      "Error getting neighborhood for nan, nan: HTTP Error: 400\n"
     ]
    },
    {
     "name": "stdout",
     "output_type": "stream",
     "text": [
      "Error getting neighborhood for nan, nan: HTTP Error: 400\n",
      "Error getting neighborhood for nan, nan: HTTP Error: 400\n",
      "Error getting neighborhood for nan, nan: HTTP Error: 400\n"
     ]
    },
    {
     "data": {
      "text/html": [
       "<div>\n",
       "<style scoped>\n",
       "    .dataframe tbody tr th:only-of-type {\n",
       "        vertical-align: middle;\n",
       "    }\n",
       "\n",
       "    .dataframe tbody tr th {\n",
       "        vertical-align: top;\n",
       "    }\n",
       "\n",
       "    .dataframe thead th {\n",
       "        text-align: right;\n",
       "    }\n",
       "</style>\n",
       "<table border=\"1\" class=\"dataframe\">\n",
       "  <thead>\n",
       "    <tr style=\"text-align: right;\">\n",
       "      <th></th>\n",
       "      <th>RecordID</th>\n",
       "      <th>Offense</th>\n",
       "      <th>IncidentID</th>\n",
       "      <th>BlockNumber</th>\n",
       "      <th>StreetName</th>\n",
       "      <th>Agency</th>\n",
       "      <th>HourReported</th>\n",
       "      <th>ReportingOfficer</th>\n",
       "      <th>Date</th>\n",
       "      <th>DateString</th>\n",
       "      <th>DayOfWeek</th>\n",
       "      <th>Weekend</th>\n",
       "      <th>Season</th>\n",
       "      <th>HourAMPM</th>\n",
       "      <th>TimeOfDay</th>\n",
       "      <th>FullStreet</th>\n",
       "      <th>lat</th>\n",
       "      <th>lon</th>\n",
       "      <th>neighborhood</th>\n",
       "    </tr>\n",
       "  </thead>\n",
       "  <tbody>\n",
       "    <tr>\n",
       "      <th>0</th>\n",
       "      <td>1</td>\n",
       "      <td>Assist Citizen - Mental/TDO/ECO</td>\n",
       "      <td>202500027195</td>\n",
       "      <td>100</td>\n",
       "      <td>MCINTIRE PARK DR</td>\n",
       "      <td>CPD</td>\n",
       "      <td>2217</td>\n",
       "      <td>Rigsby, Lloyd</td>\n",
       "      <td>2025-08-01 22:17:02</td>\n",
       "      <td>2025-08-01 10:17:02 PM</td>\n",
       "      <td>Friday</td>\n",
       "      <td>False</td>\n",
       "      <td>Summer</td>\n",
       "      <td>10:17 PM</td>\n",
       "      <td>Night</td>\n",
       "      <td>100 MCINTIRE PARK DR</td>\n",
       "      <td>38.049183</td>\n",
       "      <td>-78.478167</td>\n",
       "      <td>Greenbrier</td>\n",
       "    </tr>\n",
       "    <tr>\n",
       "      <th>1</th>\n",
       "      <td>2</td>\n",
       "      <td>Domestic Disturbance</td>\n",
       "      <td>202500027177</td>\n",
       "      <td>500</td>\n",
       "      <td>COURT, 806</td>\n",
       "      <td>CPD</td>\n",
       "      <td>1917</td>\n",
       "      <td>Venereo, Arturo</td>\n",
       "      <td>2025-08-01 19:17:49</td>\n",
       "      <td>2025-08-01 07:17:49 PM</td>\n",
       "      <td>Friday</td>\n",
       "      <td>False</td>\n",
       "      <td>Summer</td>\n",
       "      <td>07:17 PM</td>\n",
       "      <td>Evening</td>\n",
       "      <td>500 COURT, 806</td>\n",
       "      <td>38.029306</td>\n",
       "      <td>-78.476678</td>\n",
       "      <td>Downtown Mall</td>\n",
       "    </tr>\n",
       "    <tr>\n",
       "      <th>2</th>\n",
       "      <td>3</td>\n",
       "      <td>Suspicious Activity</td>\n",
       "      <td>202500027156</td>\n",
       "      <td>500</td>\n",
       "      <td>1ST ST S, 205</td>\n",
       "      <td>CPD</td>\n",
       "      <td>1641</td>\n",
       "      <td>Ritter, Kobe</td>\n",
       "      <td>2025-08-01 16:41:10</td>\n",
       "      <td>2025-08-01 04:41:10 PM</td>\n",
       "      <td>Friday</td>\n",
       "      <td>False</td>\n",
       "      <td>Summer</td>\n",
       "      <td>04:41 PM</td>\n",
       "      <td>Afternoon</td>\n",
       "      <td>500 1ST ST S, 205</td>\n",
       "      <td>NaN</td>\n",
       "      <td>NaN</td>\n",
       "      <td>N/A</td>\n",
       "    </tr>\n",
       "    <tr>\n",
       "      <th>3</th>\n",
       "      <td>4</td>\n",
       "      <td>Sex Offense - Forcible Rape</td>\n",
       "      <td>202500027170</td>\n",
       "      <td>700</td>\n",
       "      <td>FRANKLIN ST</td>\n",
       "      <td>CPD</td>\n",
       "      <td>1638</td>\n",
       "      <td>Abdelgayed, Adam</td>\n",
       "      <td>2025-08-01 16:38:33</td>\n",
       "      <td>2025-08-01 04:38:33 PM</td>\n",
       "      <td>Friday</td>\n",
       "      <td>False</td>\n",
       "      <td>Summer</td>\n",
       "      <td>04:38 PM</td>\n",
       "      <td>Afternoon</td>\n",
       "      <td>700 FRANKLIN ST</td>\n",
       "      <td>38.019542</td>\n",
       "      <td>-78.465498</td>\n",
       "      <td>Belmont</td>\n",
       "    </tr>\n",
       "    <tr>\n",
       "      <th>4</th>\n",
       "      <td>5</td>\n",
       "      <td>Drunkeness DIP</td>\n",
       "      <td>202500027153</td>\n",
       "      <td>200</td>\n",
       "      <td>E MARKET ST</td>\n",
       "      <td>CPD</td>\n",
       "      <td>1621</td>\n",
       "      <td>Abdelgayed, Adam</td>\n",
       "      <td>2025-08-01 16:21:09</td>\n",
       "      <td>2025-08-01 04:21:09 PM</td>\n",
       "      <td>Friday</td>\n",
       "      <td>False</td>\n",
       "      <td>Summer</td>\n",
       "      <td>04:21 PM</td>\n",
       "      <td>Afternoon</td>\n",
       "      <td>200 E MARKET ST</td>\n",
       "      <td>38.031104</td>\n",
       "      <td>-78.480367</td>\n",
       "      <td>Downtown Mall</td>\n",
       "    </tr>\n",
       "  </tbody>\n",
       "</table>\n",
       "</div>"
      ],
      "text/plain": [
       "   RecordID                          Offense    IncidentID BlockNumber  \\\n",
       "0         1  Assist Citizen - Mental/TDO/ECO  202500027195         100   \n",
       "1         2             Domestic Disturbance  202500027177         500   \n",
       "2         3              Suspicious Activity  202500027156         500   \n",
       "3         4      Sex Offense - Forcible Rape  202500027170         700   \n",
       "4         5                   Drunkeness DIP  202500027153         200   \n",
       "\n",
       "         StreetName Agency HourReported  ReportingOfficer                Date  \\\n",
       "0  MCINTIRE PARK DR    CPD         2217     Rigsby, Lloyd 2025-08-01 22:17:02   \n",
       "1        COURT, 806    CPD         1917   Venereo, Arturo 2025-08-01 19:17:49   \n",
       "2     1ST ST S, 205    CPD         1641      Ritter, Kobe 2025-08-01 16:41:10   \n",
       "3       FRANKLIN ST    CPD         1638  Abdelgayed, Adam 2025-08-01 16:38:33   \n",
       "4       E MARKET ST    CPD         1621  Abdelgayed, Adam 2025-08-01 16:21:09   \n",
       "\n",
       "               DateString DayOfWeek  Weekend  Season  HourAMPM  TimeOfDay  \\\n",
       "0  2025-08-01 10:17:02 PM    Friday    False  Summer  10:17 PM      Night   \n",
       "1  2025-08-01 07:17:49 PM    Friday    False  Summer  07:17 PM    Evening   \n",
       "2  2025-08-01 04:41:10 PM    Friday    False  Summer  04:41 PM  Afternoon   \n",
       "3  2025-08-01 04:38:33 PM    Friday    False  Summer  04:38 PM  Afternoon   \n",
       "4  2025-08-01 04:21:09 PM    Friday    False  Summer  04:21 PM  Afternoon   \n",
       "\n",
       "             FullStreet        lat        lon   neighborhood  \n",
       "0  100 MCINTIRE PARK DR  38.049183 -78.478167     Greenbrier  \n",
       "1        500 COURT, 806  38.029306 -78.476678  Downtown Mall  \n",
       "2     500 1ST ST S, 205        NaN        NaN            N/A  \n",
       "3       700 FRANKLIN ST  38.019542 -78.465498        Belmont  \n",
       "4       200 E MARKET ST  38.031104 -78.480367  Downtown Mall  "
      ]
     },
     "execution_count": 10,
     "metadata": {},
     "output_type": "execute_result"
    }
   ],
   "source": [
    "# Initialize the Google Maps client.\n",
    "gmaps = googlemaps.Client(key=GOOGLE_API_KEY)\n",
    "\n",
    "# Try to load a persistent neighborhood cache if available.\n",
    "try:\n",
    "    with open(\"neighborhood_cache.pkl\", \"rb\") as f:\n",
    "        neighborhood_cache = pickle.load(f)\n",
    "    print(\"Loaded neighborhood cache.\")\n",
    "except FileNotFoundError:\n",
    "    neighborhood_cache = {}\n",
    "    print(\"No neighborhood cache found; starting fresh.\")\n",
    "\n",
    "def get_neighborhood(lat, lon):\n",
    "    \"\"\"\n",
    "    Reverse geocodes a latitude and longitude to retrieve the neighborhood.\n",
    "    Caches results to speed up subsequent lookups.\n",
    "    \"\"\"\n",
    "    key = (lat, lon)\n",
    "    if key in neighborhood_cache:\n",
    "        return neighborhood_cache[key]\n",
    "    \n",
    "    try:\n",
    "        result = gmaps.reverse_geocode((lat, lon))\n",
    "        if result:\n",
    "            # Look for the 'neighborhood' component in the first result.\n",
    "            for component in result[0]['address_components']:\n",
    "                if 'neighborhood' in component['types']:\n",
    "                    neighborhood = component['long_name']\n",
    "                    neighborhood_cache[key] = neighborhood\n",
    "                    return neighborhood\n",
    "            # If no neighborhood is found, return \"N/A\"\n",
    "            neighborhood_cache[key] = \"N/A\"\n",
    "            return \"N/A\"\n",
    "    except Exception as e:\n",
    "        print(f\"Error getting neighborhood for {lat}, {lon}: {e}\")\n",
    "        return \"N/A\"\n",
    "    \n",
    "    # Pause to respect usage limits.\n",
    "    time.sleep(1)\n",
    "\n",
    "# Example usage: Apply to your DataFrame 'df' that already has 'lat' and 'lon' columns.\n",
    "df['neighborhood'] = df.apply(lambda row: get_neighborhood(row['lat'], row['lon']), axis=1)\n",
    "\n",
    "# Save the updated neighborhood cache.\n",
    "with open(\"neighborhood_cache.pkl\", \"wb\") as f:\n",
    "    pickle.dump(neighborhood_cache, f)\n",
    "\n",
    "df.head()\n"
   ]
  },
  {
   "cell_type": "markdown",
   "id": "06f548bd",
   "metadata": {
    "papermill": {
     "duration": 0.00531,
     "end_time": "2025-08-04T01:16:53.081246",
     "exception": false,
     "start_time": "2025-08-04T01:16:53.075936",
     "status": "completed"
    },
    "tags": []
   },
   "source": [
    "### Zip"
   ]
  },
  {
   "cell_type": "code",
   "execution_count": 11,
   "id": "a147ada7",
   "metadata": {
    "execution": {
     "iopub.execute_input": "2025-08-04T01:16:53.092851Z",
     "iopub.status.busy": "2025-08-04T01:16:53.092608Z",
     "iopub.status.idle": "2025-08-04T01:18:16.560597Z",
     "shell.execute_reply": "2025-08-04T01:18:16.560019Z"
    },
    "papermill": {
     "duration": 83.475086,
     "end_time": "2025-08-04T01:18:16.561666",
     "exception": false,
     "start_time": "2025-08-04T01:16:53.086580",
     "status": "completed"
    },
    "tags": []
   },
   "outputs": [
    {
     "name": "stdout",
     "output_type": "stream",
     "text": [
      "Loaded zip cache.\n",
      "Error getting ZIP for nan, nan: Must be a coordinate pair or Point\n"
     ]
    },
    {
     "name": "stdout",
     "output_type": "stream",
     "text": [
      "Error getting ZIP for nan, nan: Must be a coordinate pair or Point\n"
     ]
    },
    {
     "name": "stdout",
     "output_type": "stream",
     "text": [
      "Error getting ZIP for nan, nan: Must be a coordinate pair or Point\n"
     ]
    },
    {
     "name": "stdout",
     "output_type": "stream",
     "text": [
      "Error getting ZIP for nan, nan: Must be a coordinate pair or Point\n"
     ]
    },
    {
     "name": "stdout",
     "output_type": "stream",
     "text": [
      "Error getting ZIP for nan, nan: Must be a coordinate pair or Point\n"
     ]
    },
    {
     "name": "stdout",
     "output_type": "stream",
     "text": [
      "Error getting ZIP for nan, nan: Must be a coordinate pair or Point\n"
     ]
    },
    {
     "name": "stdout",
     "output_type": "stream",
     "text": [
      "Error getting ZIP for nan, nan: Must be a coordinate pair or Point\n"
     ]
    },
    {
     "name": "stdout",
     "output_type": "stream",
     "text": [
      "Error getting ZIP for nan, nan: Must be a coordinate pair or Point\n"
     ]
    },
    {
     "name": "stdout",
     "output_type": "stream",
     "text": [
      "Error getting ZIP for nan, nan: Must be a coordinate pair or Point\n"
     ]
    },
    {
     "name": "stdout",
     "output_type": "stream",
     "text": [
      "Error getting ZIP for nan, nan: Must be a coordinate pair or Point\n"
     ]
    },
    {
     "name": "stdout",
     "output_type": "stream",
     "text": [
      "Error getting ZIP for nan, nan: Must be a coordinate pair or Point\n"
     ]
    },
    {
     "name": "stdout",
     "output_type": "stream",
     "text": [
      "Error getting ZIP for nan, nan: Must be a coordinate pair or Point\n"
     ]
    },
    {
     "name": "stdout",
     "output_type": "stream",
     "text": [
      "Error getting ZIP for nan, nan: Must be a coordinate pair or Point\n"
     ]
    },
    {
     "name": "stdout",
     "output_type": "stream",
     "text": [
      "Error getting ZIP for nan, nan: Must be a coordinate pair or Point\n"
     ]
    },
    {
     "name": "stdout",
     "output_type": "stream",
     "text": [
      "Error getting ZIP for nan, nan: Must be a coordinate pair or Point\n"
     ]
    },
    {
     "name": "stdout",
     "output_type": "stream",
     "text": [
      "Error getting ZIP for nan, nan: Must be a coordinate pair or Point\n"
     ]
    },
    {
     "name": "stdout",
     "output_type": "stream",
     "text": [
      "Error getting ZIP for nan, nan: Must be a coordinate pair or Point\n"
     ]
    },
    {
     "name": "stdout",
     "output_type": "stream",
     "text": [
      "Error getting ZIP for nan, nan: Must be a coordinate pair or Point\n"
     ]
    },
    {
     "name": "stdout",
     "output_type": "stream",
     "text": [
      "Error getting ZIP for nan, nan: Must be a coordinate pair or Point\n"
     ]
    },
    {
     "name": "stdout",
     "output_type": "stream",
     "text": [
      "Error getting ZIP for nan, nan: Must be a coordinate pair or Point\n"
     ]
    },
    {
     "name": "stdout",
     "output_type": "stream",
     "text": [
      "Error getting ZIP for nan, nan: Must be a coordinate pair or Point\n"
     ]
    },
    {
     "name": "stdout",
     "output_type": "stream",
     "text": [
      "Error getting ZIP for nan, nan: Must be a coordinate pair or Point\n"
     ]
    },
    {
     "name": "stdout",
     "output_type": "stream",
     "text": [
      "Error getting ZIP for nan, nan: Must be a coordinate pair or Point\n"
     ]
    },
    {
     "name": "stdout",
     "output_type": "stream",
     "text": [
      "Error getting ZIP for nan, nan: Must be a coordinate pair or Point\n"
     ]
    },
    {
     "name": "stdout",
     "output_type": "stream",
     "text": [
      "Error getting ZIP for nan, nan: Must be a coordinate pair or Point\n"
     ]
    },
    {
     "name": "stdout",
     "output_type": "stream",
     "text": [
      "Error getting ZIP for nan, nan: Must be a coordinate pair or Point\n"
     ]
    },
    {
     "name": "stdout",
     "output_type": "stream",
     "text": [
      "Error getting ZIP for nan, nan: Must be a coordinate pair or Point\n"
     ]
    },
    {
     "name": "stdout",
     "output_type": "stream",
     "text": [
      "Error getting ZIP for nan, nan: Must be a coordinate pair or Point\n"
     ]
    },
    {
     "name": "stdout",
     "output_type": "stream",
     "text": [
      "Error getting ZIP for nan, nan: Must be a coordinate pair or Point\n"
     ]
    },
    {
     "name": "stdout",
     "output_type": "stream",
     "text": [
      "Error getting ZIP for nan, nan: Must be a coordinate pair or Point\n"
     ]
    },
    {
     "name": "stdout",
     "output_type": "stream",
     "text": [
      "Error getting ZIP for nan, nan: Must be a coordinate pair or Point\n"
     ]
    },
    {
     "name": "stdout",
     "output_type": "stream",
     "text": [
      "Error getting ZIP for nan, nan: Must be a coordinate pair or Point\n"
     ]
    },
    {
     "name": "stdout",
     "output_type": "stream",
     "text": [
      "Error getting ZIP for nan, nan: Must be a coordinate pair or Point\n"
     ]
    },
    {
     "name": "stdout",
     "output_type": "stream",
     "text": [
      "Error getting ZIP for nan, nan: Must be a coordinate pair or Point\n"
     ]
    },
    {
     "name": "stdout",
     "output_type": "stream",
     "text": [
      "Error getting ZIP for nan, nan: Must be a coordinate pair or Point\n"
     ]
    },
    {
     "name": "stdout",
     "output_type": "stream",
     "text": [
      "Error getting ZIP for nan, nan: Must be a coordinate pair or Point\n"
     ]
    },
    {
     "name": "stdout",
     "output_type": "stream",
     "text": [
      "Error getting ZIP for nan, nan: Must be a coordinate pair or Point\n"
     ]
    },
    {
     "name": "stdout",
     "output_type": "stream",
     "text": [
      "Error getting ZIP for nan, nan: Must be a coordinate pair or Point\n"
     ]
    },
    {
     "name": "stdout",
     "output_type": "stream",
     "text": [
      "Error getting ZIP for nan, nan: Must be a coordinate pair or Point\n"
     ]
    },
    {
     "name": "stdout",
     "output_type": "stream",
     "text": [
      "Error getting ZIP for nan, nan: Must be a coordinate pair or Point\n"
     ]
    },
    {
     "name": "stdout",
     "output_type": "stream",
     "text": [
      "Error getting ZIP for nan, nan: Must be a coordinate pair or Point\n"
     ]
    },
    {
     "name": "stdout",
     "output_type": "stream",
     "text": [
      "Error getting ZIP for nan, nan: Must be a coordinate pair or Point\n"
     ]
    },
    {
     "name": "stdout",
     "output_type": "stream",
     "text": [
      "Error getting ZIP for nan, nan: Must be a coordinate pair or Point\n"
     ]
    },
    {
     "name": "stdout",
     "output_type": "stream",
     "text": [
      "Error getting ZIP for nan, nan: Must be a coordinate pair or Point\n"
     ]
    },
    {
     "name": "stdout",
     "output_type": "stream",
     "text": [
      "Error getting ZIP for nan, nan: Must be a coordinate pair or Point\n"
     ]
    },
    {
     "name": "stdout",
     "output_type": "stream",
     "text": [
      "Error getting ZIP for nan, nan: Must be a coordinate pair or Point\n"
     ]
    },
    {
     "name": "stdout",
     "output_type": "stream",
     "text": [
      "Error getting ZIP for nan, nan: Must be a coordinate pair or Point\n"
     ]
    },
    {
     "name": "stdout",
     "output_type": "stream",
     "text": [
      "Error getting ZIP for nan, nan: Must be a coordinate pair or Point\n"
     ]
    },
    {
     "name": "stdout",
     "output_type": "stream",
     "text": [
      "Error getting ZIP for nan, nan: Must be a coordinate pair or Point\n"
     ]
    },
    {
     "name": "stdout",
     "output_type": "stream",
     "text": [
      "Error getting ZIP for nan, nan: Must be a coordinate pair or Point\n"
     ]
    },
    {
     "name": "stdout",
     "output_type": "stream",
     "text": [
      "Error getting ZIP for nan, nan: Must be a coordinate pair or Point\n"
     ]
    },
    {
     "name": "stdout",
     "output_type": "stream",
     "text": [
      "Error getting ZIP for nan, nan: Must be a coordinate pair or Point\n"
     ]
    },
    {
     "name": "stdout",
     "output_type": "stream",
     "text": [
      "Error getting ZIP for nan, nan: Must be a coordinate pair or Point\n"
     ]
    },
    {
     "name": "stdout",
     "output_type": "stream",
     "text": [
      "Error getting ZIP for nan, nan: Must be a coordinate pair or Point\n"
     ]
    },
    {
     "name": "stdout",
     "output_type": "stream",
     "text": [
      "Error getting ZIP for nan, nan: Must be a coordinate pair or Point\n"
     ]
    },
    {
     "name": "stdout",
     "output_type": "stream",
     "text": [
      "Error getting ZIP for nan, nan: Must be a coordinate pair or Point\n"
     ]
    },
    {
     "name": "stdout",
     "output_type": "stream",
     "text": [
      "Error getting ZIP for nan, nan: Must be a coordinate pair or Point\n"
     ]
    },
    {
     "name": "stdout",
     "output_type": "stream",
     "text": [
      "Error getting ZIP for nan, nan: Must be a coordinate pair or Point\n"
     ]
    },
    {
     "name": "stdout",
     "output_type": "stream",
     "text": [
      "Error getting ZIP for nan, nan: Must be a coordinate pair or Point\n"
     ]
    },
    {
     "name": "stdout",
     "output_type": "stream",
     "text": [
      "Error getting ZIP for nan, nan: Must be a coordinate pair or Point\n"
     ]
    },
    {
     "name": "stdout",
     "output_type": "stream",
     "text": [
      "Error getting ZIP for nan, nan: Must be a coordinate pair or Point\n"
     ]
    },
    {
     "name": "stdout",
     "output_type": "stream",
     "text": [
      "Error getting ZIP for nan, nan: Must be a coordinate pair or Point\n"
     ]
    },
    {
     "name": "stdout",
     "output_type": "stream",
     "text": [
      "Error getting ZIP for nan, nan: Must be a coordinate pair or Point\n"
     ]
    },
    {
     "name": "stdout",
     "output_type": "stream",
     "text": [
      "Error getting ZIP for nan, nan: Must be a coordinate pair or Point\n"
     ]
    },
    {
     "name": "stdout",
     "output_type": "stream",
     "text": [
      "Error getting ZIP for nan, nan: Must be a coordinate pair or Point\n"
     ]
    },
    {
     "name": "stdout",
     "output_type": "stream",
     "text": [
      "Error getting ZIP for nan, nan: Must be a coordinate pair or Point\n"
     ]
    },
    {
     "name": "stdout",
     "output_type": "stream",
     "text": [
      "Error getting ZIP for nan, nan: Must be a coordinate pair or Point\n"
     ]
    },
    {
     "name": "stdout",
     "output_type": "stream",
     "text": [
      "Error getting ZIP for nan, nan: Must be a coordinate pair or Point\n"
     ]
    },
    {
     "name": "stdout",
     "output_type": "stream",
     "text": [
      "Error getting ZIP for nan, nan: Must be a coordinate pair or Point\n"
     ]
    },
    {
     "name": "stdout",
     "output_type": "stream",
     "text": [
      "Error getting ZIP for nan, nan: Must be a coordinate pair or Point\n"
     ]
    },
    {
     "name": "stdout",
     "output_type": "stream",
     "text": [
      "Error getting ZIP for nan, nan: Must be a coordinate pair or Point\n"
     ]
    },
    {
     "name": "stdout",
     "output_type": "stream",
     "text": [
      "Error getting ZIP for nan, nan: Must be a coordinate pair or Point\n"
     ]
    },
    {
     "name": "stdout",
     "output_type": "stream",
     "text": [
      "Error getting ZIP for nan, nan: Must be a coordinate pair or Point\n"
     ]
    },
    {
     "name": "stdout",
     "output_type": "stream",
     "text": [
      "Error getting ZIP for nan, nan: Must be a coordinate pair or Point\n"
     ]
    },
    {
     "name": "stdout",
     "output_type": "stream",
     "text": [
      "Error getting ZIP for nan, nan: Must be a coordinate pair or Point\n"
     ]
    },
    {
     "name": "stdout",
     "output_type": "stream",
     "text": [
      "Error getting ZIP for nan, nan: Must be a coordinate pair or Point\n"
     ]
    },
    {
     "name": "stdout",
     "output_type": "stream",
     "text": [
      "Error getting ZIP for nan, nan: Must be a coordinate pair or Point\n"
     ]
    },
    {
     "name": "stdout",
     "output_type": "stream",
     "text": [
      "Error getting ZIP for nan, nan: Must be a coordinate pair or Point\n"
     ]
    },
    {
     "name": "stdout",
     "output_type": "stream",
     "text": [
      "Error getting ZIP for nan, nan: Must be a coordinate pair or Point\n"
     ]
    },
    {
     "name": "stdout",
     "output_type": "stream",
     "text": [
      "Error getting ZIP for nan, nan: Must be a coordinate pair or Point\n"
     ]
    },
    {
     "name": "stdout",
     "output_type": "stream",
     "text": [
      "Error getting ZIP for nan, nan: Must be a coordinate pair or Point\n"
     ]
    },
    {
     "name": "stdout",
     "output_type": "stream",
     "text": [
      "Error getting ZIP for nan, nan: Must be a coordinate pair or Point\n"
     ]
    },
    {
     "name": "stdout",
     "output_type": "stream",
     "text": [
      "Error getting ZIP for nan, nan: Must be a coordinate pair or Point\n"
     ]
    },
    {
     "data": {
      "text/html": [
       "<div>\n",
       "<style scoped>\n",
       "    .dataframe tbody tr th:only-of-type {\n",
       "        vertical-align: middle;\n",
       "    }\n",
       "\n",
       "    .dataframe tbody tr th {\n",
       "        vertical-align: top;\n",
       "    }\n",
       "\n",
       "    .dataframe thead th {\n",
       "        text-align: right;\n",
       "    }\n",
       "</style>\n",
       "<table border=\"1\" class=\"dataframe\">\n",
       "  <thead>\n",
       "    <tr style=\"text-align: right;\">\n",
       "      <th></th>\n",
       "      <th>RecordID</th>\n",
       "      <th>Offense</th>\n",
       "      <th>IncidentID</th>\n",
       "      <th>BlockNumber</th>\n",
       "      <th>StreetName</th>\n",
       "      <th>Agency</th>\n",
       "      <th>HourReported</th>\n",
       "      <th>ReportingOfficer</th>\n",
       "      <th>Date</th>\n",
       "      <th>DateString</th>\n",
       "      <th>DayOfWeek</th>\n",
       "      <th>Weekend</th>\n",
       "      <th>Season</th>\n",
       "      <th>HourAMPM</th>\n",
       "      <th>TimeOfDay</th>\n",
       "      <th>FullStreet</th>\n",
       "      <th>lat</th>\n",
       "      <th>lon</th>\n",
       "      <th>neighborhood</th>\n",
       "      <th>zip</th>\n",
       "    </tr>\n",
       "  </thead>\n",
       "  <tbody>\n",
       "    <tr>\n",
       "      <th>0</th>\n",
       "      <td>1</td>\n",
       "      <td>Assist Citizen - Mental/TDO/ECO</td>\n",
       "      <td>202500027195</td>\n",
       "      <td>100</td>\n",
       "      <td>MCINTIRE PARK DR</td>\n",
       "      <td>CPD</td>\n",
       "      <td>2217</td>\n",
       "      <td>Rigsby, Lloyd</td>\n",
       "      <td>2025-08-01 22:17:02</td>\n",
       "      <td>2025-08-01 10:17:02 PM</td>\n",
       "      <td>Friday</td>\n",
       "      <td>False</td>\n",
       "      <td>Summer</td>\n",
       "      <td>10:17 PM</td>\n",
       "      <td>Night</td>\n",
       "      <td>100 MCINTIRE PARK DR</td>\n",
       "      <td>38.049183</td>\n",
       "      <td>-78.478167</td>\n",
       "      <td>Greenbrier</td>\n",
       "      <td>22901</td>\n",
       "    </tr>\n",
       "    <tr>\n",
       "      <th>1</th>\n",
       "      <td>2</td>\n",
       "      <td>Domestic Disturbance</td>\n",
       "      <td>202500027177</td>\n",
       "      <td>500</td>\n",
       "      <td>COURT, 806</td>\n",
       "      <td>CPD</td>\n",
       "      <td>1917</td>\n",
       "      <td>Venereo, Arturo</td>\n",
       "      <td>2025-08-01 19:17:49</td>\n",
       "      <td>2025-08-01 07:17:49 PM</td>\n",
       "      <td>Friday</td>\n",
       "      <td>False</td>\n",
       "      <td>Summer</td>\n",
       "      <td>07:17 PM</td>\n",
       "      <td>Evening</td>\n",
       "      <td>500 COURT, 806</td>\n",
       "      <td>38.029306</td>\n",
       "      <td>-78.476678</td>\n",
       "      <td>Downtown Mall</td>\n",
       "      <td>22902</td>\n",
       "    </tr>\n",
       "    <tr>\n",
       "      <th>2</th>\n",
       "      <td>3</td>\n",
       "      <td>Suspicious Activity</td>\n",
       "      <td>202500027156</td>\n",
       "      <td>500</td>\n",
       "      <td>1ST ST S, 205</td>\n",
       "      <td>CPD</td>\n",
       "      <td>1641</td>\n",
       "      <td>Ritter, Kobe</td>\n",
       "      <td>2025-08-01 16:41:10</td>\n",
       "      <td>2025-08-01 04:41:10 PM</td>\n",
       "      <td>Friday</td>\n",
       "      <td>False</td>\n",
       "      <td>Summer</td>\n",
       "      <td>04:41 PM</td>\n",
       "      <td>Afternoon</td>\n",
       "      <td>500 1ST ST S, 205</td>\n",
       "      <td>NaN</td>\n",
       "      <td>NaN</td>\n",
       "      <td>N/A</td>\n",
       "      <td>N/A</td>\n",
       "    </tr>\n",
       "    <tr>\n",
       "      <th>3</th>\n",
       "      <td>4</td>\n",
       "      <td>Sex Offense - Forcible Rape</td>\n",
       "      <td>202500027170</td>\n",
       "      <td>700</td>\n",
       "      <td>FRANKLIN ST</td>\n",
       "      <td>CPD</td>\n",
       "      <td>1638</td>\n",
       "      <td>Abdelgayed, Adam</td>\n",
       "      <td>2025-08-01 16:38:33</td>\n",
       "      <td>2025-08-01 04:38:33 PM</td>\n",
       "      <td>Friday</td>\n",
       "      <td>False</td>\n",
       "      <td>Summer</td>\n",
       "      <td>04:38 PM</td>\n",
       "      <td>Afternoon</td>\n",
       "      <td>700 FRANKLIN ST</td>\n",
       "      <td>38.019542</td>\n",
       "      <td>-78.465498</td>\n",
       "      <td>Belmont</td>\n",
       "      <td>22902</td>\n",
       "    </tr>\n",
       "    <tr>\n",
       "      <th>4</th>\n",
       "      <td>5</td>\n",
       "      <td>Drunkeness DIP</td>\n",
       "      <td>202500027153</td>\n",
       "      <td>200</td>\n",
       "      <td>E MARKET ST</td>\n",
       "      <td>CPD</td>\n",
       "      <td>1621</td>\n",
       "      <td>Abdelgayed, Adam</td>\n",
       "      <td>2025-08-01 16:21:09</td>\n",
       "      <td>2025-08-01 04:21:09 PM</td>\n",
       "      <td>Friday</td>\n",
       "      <td>False</td>\n",
       "      <td>Summer</td>\n",
       "      <td>04:21 PM</td>\n",
       "      <td>Afternoon</td>\n",
       "      <td>200 E MARKET ST</td>\n",
       "      <td>38.031104</td>\n",
       "      <td>-78.480367</td>\n",
       "      <td>Downtown Mall</td>\n",
       "      <td>22902</td>\n",
       "    </tr>\n",
       "  </tbody>\n",
       "</table>\n",
       "</div>"
      ],
      "text/plain": [
       "   RecordID                          Offense    IncidentID BlockNumber  \\\n",
       "0         1  Assist Citizen - Mental/TDO/ECO  202500027195         100   \n",
       "1         2             Domestic Disturbance  202500027177         500   \n",
       "2         3              Suspicious Activity  202500027156         500   \n",
       "3         4      Sex Offense - Forcible Rape  202500027170         700   \n",
       "4         5                   Drunkeness DIP  202500027153         200   \n",
       "\n",
       "         StreetName Agency HourReported  ReportingOfficer                Date  \\\n",
       "0  MCINTIRE PARK DR    CPD         2217     Rigsby, Lloyd 2025-08-01 22:17:02   \n",
       "1        COURT, 806    CPD         1917   Venereo, Arturo 2025-08-01 19:17:49   \n",
       "2     1ST ST S, 205    CPD         1641      Ritter, Kobe 2025-08-01 16:41:10   \n",
       "3       FRANKLIN ST    CPD         1638  Abdelgayed, Adam 2025-08-01 16:38:33   \n",
       "4       E MARKET ST    CPD         1621  Abdelgayed, Adam 2025-08-01 16:21:09   \n",
       "\n",
       "               DateString DayOfWeek  Weekend  Season  HourAMPM  TimeOfDay  \\\n",
       "0  2025-08-01 10:17:02 PM    Friday    False  Summer  10:17 PM      Night   \n",
       "1  2025-08-01 07:17:49 PM    Friday    False  Summer  07:17 PM    Evening   \n",
       "2  2025-08-01 04:41:10 PM    Friday    False  Summer  04:41 PM  Afternoon   \n",
       "3  2025-08-01 04:38:33 PM    Friday    False  Summer  04:38 PM  Afternoon   \n",
       "4  2025-08-01 04:21:09 PM    Friday    False  Summer  04:21 PM  Afternoon   \n",
       "\n",
       "             FullStreet        lat        lon   neighborhood    zip  \n",
       "0  100 MCINTIRE PARK DR  38.049183 -78.478167     Greenbrier  22901  \n",
       "1        500 COURT, 806  38.029306 -78.476678  Downtown Mall  22902  \n",
       "2     500 1ST ST S, 205        NaN        NaN            N/A    N/A  \n",
       "3       700 FRANKLIN ST  38.019542 -78.465498        Belmont  22902  \n",
       "4       200 E MARKET ST  38.031104 -78.480367  Downtown Mall  22902  "
      ]
     },
     "execution_count": 11,
     "metadata": {},
     "output_type": "execute_result"
    }
   ],
   "source": [
    "# Initialize the geocoder.\n",
    "geolocator = Nominatim(user_agent=\"zip_lookup\")\n",
    "\n",
    "# Try to load a persistent ZIP cache if available.\n",
    "try:\n",
    "    with open(\"zip_cache.pkl\", \"rb\") as f:\n",
    "        zip_cache = pickle.load(f)\n",
    "    print(\"Loaded zip cache.\")\n",
    "except FileNotFoundError:\n",
    "    zip_cache = {}\n",
    "    print(\"No zip cache found; starting fresh.\")\n",
    "\n",
    "def get_zip(lat, lon):\n",
    "    \"\"\"\n",
    "    Reverse geocodes a latitude and longitude to retrieve the ZIP code.\n",
    "    Caches results to speed up subsequent lookups.\n",
    "    \"\"\"\n",
    "    key = (lat, lon)\n",
    "    if key in zip_cache:\n",
    "        return zip_cache[key]\n",
    "    \n",
    "    try:\n",
    "        location = geolocator.reverse((lat, lon), exactly_one=True, timeout=10)\n",
    "        address = location.raw.get('address', {})\n",
    "        postal_code = address.get('postcode', \"N/A\")\n",
    "    except Exception as e:\n",
    "        print(f\"Error getting ZIP for {lat}, {lon}: {e}\")\n",
    "        postal_code = \"N/A\"\n",
    "    \n",
    "    zip_cache[key] = postal_code\n",
    "    # Pause to respect the usage policy.\n",
    "    time.sleep(1)\n",
    "    return postal_code\n",
    "\n",
    "# Apply the function to each row in the DataFrame.\n",
    "df['zip'] = df.apply(lambda row: get_zip(row['lat'], row['lon']), axis=1)\n",
    "\n",
    "# Save the updated ZIP cache.\n",
    "with open(\"zip_cache.pkl\", \"wb\") as f:\n",
    "    pickle.dump(zip_cache, f)\n",
    "\n",
    "df.head()\n"
   ]
  },
  {
   "cell_type": "code",
   "execution_count": 12,
   "id": "ca8464e5",
   "metadata": {
    "execution": {
     "iopub.execute_input": "2025-08-04T01:18:16.580899Z",
     "iopub.status.busy": "2025-08-04T01:18:16.580709Z",
     "iopub.status.idle": "2025-08-04T01:18:16.608202Z",
     "shell.execute_reply": "2025-08-04T01:18:16.607658Z"
    },
    "papermill": {
     "duration": 0.037948,
     "end_time": "2025-08-04T01:18:16.609152",
     "exception": false,
     "start_time": "2025-08-04T01:18:16.571204",
     "status": "completed"
    },
    "tags": []
   },
   "outputs": [
    {
     "name": "stdout",
     "output_type": "stream",
     "text": [
      "                  MissingCount  MissingPercentage\n",
      "RecordID                     0               0.00\n",
      "Offense                      0               0.00\n",
      "IncidentID                   0               0.00\n",
      "BlockNumber                  0               0.00\n",
      "StreetName                   0               0.00\n",
      "Agency                       0               0.00\n",
      "HourReported                 0               0.00\n",
      "ReportingOfficer            16               0.06\n",
      "Date                         0               0.00\n",
      "DateString                   0               0.00\n",
      "DayOfWeek                    0               0.00\n",
      "Weekend                      0               0.00\n",
      "Season                       0               0.00\n",
      "HourAMPM                     0               0.00\n",
      "TimeOfDay                    0               0.00\n",
      "FullStreet                   0               0.00\n",
      "lat                         83               0.32\n",
      "lon                         83               0.32\n",
      "neighborhood                 0               0.00\n",
      "zip                          0               0.00\n"
     ]
    }
   ],
   "source": [
    "missing_info = missing_percentage(df)\n",
    "print(missing_info)\n"
   ]
  },
  {
   "cell_type": "code",
   "execution_count": 13,
   "id": "5f1392eb",
   "metadata": {
    "execution": {
     "iopub.execute_input": "2025-08-04T01:18:16.628657Z",
     "iopub.status.busy": "2025-08-04T01:18:16.628434Z",
     "iopub.status.idle": "2025-08-04T01:18:16.657558Z",
     "shell.execute_reply": "2025-08-04T01:18:16.656987Z"
    },
    "papermill": {
     "duration": 0.039936,
     "end_time": "2025-08-04T01:18:16.658526",
     "exception": false,
     "start_time": "2025-08-04T01:18:16.618590",
     "status": "completed"
    },
    "tags": []
   },
   "outputs": [
    {
     "name": "stdout",
     "output_type": "stream",
     "text": [
      "<class 'pandas.core.frame.DataFrame'>\n",
      "RangeIndex: 25619 entries, 0 to 25618\n",
      "Data columns (total 20 columns):\n",
      " #   Column            Non-Null Count  Dtype         \n",
      "---  ------            --------------  -----         \n",
      " 0   RecordID          25619 non-null  int64         \n",
      " 1   Offense           25619 non-null  object        \n",
      " 2   IncidentID        25619 non-null  object        \n",
      " 3   BlockNumber       25619 non-null  object        \n",
      " 4   StreetName        25619 non-null  object        \n",
      " 5   Agency            25619 non-null  object        \n",
      " 6   HourReported      25619 non-null  object        \n",
      " 7   ReportingOfficer  25603 non-null  object        \n",
      " 8   Date              25619 non-null  datetime64[ns]\n",
      " 9   DateString        25619 non-null  object        \n",
      " 10  DayOfWeek         25619 non-null  object        \n",
      " 11  Weekend           25619 non-null  bool          \n",
      " 12  Season            25619 non-null  object        \n",
      " 13  HourAMPM          25619 non-null  object        \n",
      " 14  TimeOfDay         25619 non-null  object        \n",
      " 15  FullStreet        25619 non-null  object        \n",
      " 16  lat               25536 non-null  float64       \n",
      " 17  lon               25536 non-null  float64       \n",
      " 18  neighborhood      25619 non-null  object        \n",
      " 19  zip               25619 non-null  object        \n",
      "dtypes: bool(1), datetime64[ns](1), float64(2), int64(1), object(15)\n",
      "memory usage: 3.7+ MB\n"
     ]
    }
   ],
   "source": [
    "df.info()"
   ]
  },
  {
   "cell_type": "code",
   "execution_count": 14,
   "id": "08697551",
   "metadata": {
    "execution": {
     "iopub.execute_input": "2025-08-04T01:18:16.678134Z",
     "iopub.status.busy": "2025-08-04T01:18:16.677915Z",
     "iopub.status.idle": "2025-08-04T01:18:16.723094Z",
     "shell.execute_reply": "2025-08-04T01:18:16.722407Z"
    },
    "papermill": {
     "duration": 0.056005,
     "end_time": "2025-08-04T01:18:16.724127",
     "exception": false,
     "start_time": "2025-08-04T01:18:16.668122",
     "status": "completed"
    },
    "tags": []
   },
   "outputs": [
    {
     "data": {
      "text/html": [
       "<div>\n",
       "<style scoped>\n",
       "    .dataframe tbody tr th:only-of-type {\n",
       "        vertical-align: middle;\n",
       "    }\n",
       "\n",
       "    .dataframe tbody tr th {\n",
       "        vertical-align: top;\n",
       "    }\n",
       "\n",
       "    .dataframe thead th {\n",
       "        text-align: right;\n",
       "    }\n",
       "</style>\n",
       "<table border=\"1\" class=\"dataframe\">\n",
       "  <thead>\n",
       "    <tr style=\"text-align: right;\">\n",
       "      <th></th>\n",
       "      <th>RecordID</th>\n",
       "      <th>Offense</th>\n",
       "      <th>IncidentID</th>\n",
       "      <th>Agency</th>\n",
       "      <th>ReportingOfficer</th>\n",
       "      <th>Date</th>\n",
       "      <th>DayOfWeek</th>\n",
       "      <th>Weekend</th>\n",
       "      <th>Season</th>\n",
       "      <th>TimeOfDay</th>\n",
       "      <th>FullStreet</th>\n",
       "      <th>lat</th>\n",
       "      <th>lon</th>\n",
       "      <th>neighborhood</th>\n",
       "      <th>zip</th>\n",
       "    </tr>\n",
       "  </thead>\n",
       "  <tbody>\n",
       "    <tr>\n",
       "      <th>0</th>\n",
       "      <td>1</td>\n",
       "      <td>Assist Citizen - Mental/TDO/ECO</td>\n",
       "      <td>202500027195</td>\n",
       "      <td>CPD</td>\n",
       "      <td>Rigsby, Lloyd</td>\n",
       "      <td>2025-08-01 22:17:02</td>\n",
       "      <td>Friday</td>\n",
       "      <td>False</td>\n",
       "      <td>Summer</td>\n",
       "      <td>Night</td>\n",
       "      <td>100 MCINTIRE PARK DR</td>\n",
       "      <td>38.049183</td>\n",
       "      <td>-78.478167</td>\n",
       "      <td>Greenbrier</td>\n",
       "      <td>22901</td>\n",
       "    </tr>\n",
       "    <tr>\n",
       "      <th>1</th>\n",
       "      <td>2</td>\n",
       "      <td>Domestic Disturbance</td>\n",
       "      <td>202500027177</td>\n",
       "      <td>CPD</td>\n",
       "      <td>Venereo, Arturo</td>\n",
       "      <td>2025-08-01 19:17:49</td>\n",
       "      <td>Friday</td>\n",
       "      <td>False</td>\n",
       "      <td>Summer</td>\n",
       "      <td>Evening</td>\n",
       "      <td>500 COURT, 806</td>\n",
       "      <td>38.029306</td>\n",
       "      <td>-78.476678</td>\n",
       "      <td>Downtown Mall</td>\n",
       "      <td>22902</td>\n",
       "    </tr>\n",
       "    <tr>\n",
       "      <th>2</th>\n",
       "      <td>3</td>\n",
       "      <td>Suspicious Activity</td>\n",
       "      <td>202500027156</td>\n",
       "      <td>CPD</td>\n",
       "      <td>Ritter, Kobe</td>\n",
       "      <td>2025-08-01 16:41:10</td>\n",
       "      <td>Friday</td>\n",
       "      <td>False</td>\n",
       "      <td>Summer</td>\n",
       "      <td>Afternoon</td>\n",
       "      <td>500 1ST ST S, 205</td>\n",
       "      <td>N/A</td>\n",
       "      <td>N/A</td>\n",
       "      <td>N/A</td>\n",
       "      <td>N/A</td>\n",
       "    </tr>\n",
       "    <tr>\n",
       "      <th>3</th>\n",
       "      <td>4</td>\n",
       "      <td>Sex Offense - Forcible Rape</td>\n",
       "      <td>202500027170</td>\n",
       "      <td>CPD</td>\n",
       "      <td>Abdelgayed, Adam</td>\n",
       "      <td>2025-08-01 16:38:33</td>\n",
       "      <td>Friday</td>\n",
       "      <td>False</td>\n",
       "      <td>Summer</td>\n",
       "      <td>Afternoon</td>\n",
       "      <td>700 FRANKLIN ST</td>\n",
       "      <td>38.019542</td>\n",
       "      <td>-78.465498</td>\n",
       "      <td>Belmont</td>\n",
       "      <td>22902</td>\n",
       "    </tr>\n",
       "    <tr>\n",
       "      <th>4</th>\n",
       "      <td>5</td>\n",
       "      <td>Drunkeness DIP</td>\n",
       "      <td>202500027153</td>\n",
       "      <td>CPD</td>\n",
       "      <td>Abdelgayed, Adam</td>\n",
       "      <td>2025-08-01 16:21:09</td>\n",
       "      <td>Friday</td>\n",
       "      <td>False</td>\n",
       "      <td>Summer</td>\n",
       "      <td>Afternoon</td>\n",
       "      <td>200 E MARKET ST</td>\n",
       "      <td>38.031104</td>\n",
       "      <td>-78.480367</td>\n",
       "      <td>Downtown Mall</td>\n",
       "      <td>22902</td>\n",
       "    </tr>\n",
       "  </tbody>\n",
       "</table>\n",
       "</div>"
      ],
      "text/plain": [
       "   RecordID                          Offense    IncidentID Agency  \\\n",
       "0         1  Assist Citizen - Mental/TDO/ECO  202500027195    CPD   \n",
       "1         2             Domestic Disturbance  202500027177    CPD   \n",
       "2         3              Suspicious Activity  202500027156    CPD   \n",
       "3         4      Sex Offense - Forcible Rape  202500027170    CPD   \n",
       "4         5                   Drunkeness DIP  202500027153    CPD   \n",
       "\n",
       "   ReportingOfficer                Date DayOfWeek  Weekend  Season  TimeOfDay  \\\n",
       "0     Rigsby, Lloyd 2025-08-01 22:17:02    Friday    False  Summer      Night   \n",
       "1   Venereo, Arturo 2025-08-01 19:17:49    Friday    False  Summer    Evening   \n",
       "2      Ritter, Kobe 2025-08-01 16:41:10    Friday    False  Summer  Afternoon   \n",
       "3  Abdelgayed, Adam 2025-08-01 16:38:33    Friday    False  Summer  Afternoon   \n",
       "4  Abdelgayed, Adam 2025-08-01 16:21:09    Friday    False  Summer  Afternoon   \n",
       "\n",
       "             FullStreet        lat        lon   neighborhood    zip  \n",
       "0  100 MCINTIRE PARK DR  38.049183 -78.478167     Greenbrier  22901  \n",
       "1        500 COURT, 806  38.029306 -78.476678  Downtown Mall  22902  \n",
       "2     500 1ST ST S, 205        N/A        N/A            N/A    N/A  \n",
       "3       700 FRANKLIN ST  38.019542 -78.465498        Belmont  22902  \n",
       "4       200 E MARKET ST  38.031104 -78.480367  Downtown Mall  22902  "
      ]
     },
     "execution_count": 14,
     "metadata": {},
     "output_type": "execute_result"
    }
   ],
   "source": [
    "# Now drop the original BlockNumber and StreetName columns\n",
    "df.drop(columns=['BlockNumber', 'StreetName','HourAMPM','HourReported','DateString'], inplace=True)\n",
    "df[\"zip\"] = df[\"zip\"].astype(str)\n",
    "\n",
    "# Fill all missing values in the DataFrame with \"N/A\"\n",
    "df.replace({None: \"N/A\", np.nan: \"N/A\", \"\": \"N/A\"}, inplace=True)\n",
    "df.head()"
   ]
  },
  {
   "cell_type": "code",
   "execution_count": 15,
   "id": "f41089ad",
   "metadata": {
    "execution": {
     "iopub.execute_input": "2025-08-04T01:18:16.744196Z",
     "iopub.status.busy": "2025-08-04T01:18:16.743989Z",
     "iopub.status.idle": "2025-08-04T01:18:16.764354Z",
     "shell.execute_reply": "2025-08-04T01:18:16.763810Z"
    },
    "papermill": {
     "duration": 0.031359,
     "end_time": "2025-08-04T01:18:16.765399",
     "exception": false,
     "start_time": "2025-08-04T01:18:16.734040",
     "status": "completed"
    },
    "tags": []
   },
   "outputs": [
    {
     "name": "stdout",
     "output_type": "stream",
     "text": [
      "                  MissingCount  MissingPercentage\n",
      "RecordID                     0                0.0\n",
      "Offense                      0                0.0\n",
      "IncidentID                   0                0.0\n",
      "Agency                       0                0.0\n",
      "ReportingOfficer             0                0.0\n",
      "Date                         0                0.0\n",
      "DayOfWeek                    0                0.0\n",
      "Weekend                      0                0.0\n",
      "Season                       0                0.0\n",
      "TimeOfDay                    0                0.0\n",
      "FullStreet                   0                0.0\n",
      "lat                          0                0.0\n",
      "lon                          0                0.0\n",
      "neighborhood                 0                0.0\n",
      "zip                          0                0.0\n"
     ]
    }
   ],
   "source": [
    "missing_info = missing_percentage(df)\n",
    "print(missing_info)"
   ]
  },
  {
   "cell_type": "code",
   "execution_count": 16,
   "id": "48c3aca8",
   "metadata": {
    "execution": {
     "iopub.execute_input": "2025-08-04T01:18:16.785182Z",
     "iopub.status.busy": "2025-08-04T01:18:16.784988Z",
     "iopub.status.idle": "2025-08-04T01:18:16.789177Z",
     "shell.execute_reply": "2025-08-04T01:18:16.788538Z"
    },
    "papermill": {
     "duration": 0.015127,
     "end_time": "2025-08-04T01:18:16.790149",
     "exception": false,
     "start_time": "2025-08-04T01:18:16.775022",
     "status": "completed"
    },
    "tags": []
   },
   "outputs": [
    {
     "data": {
      "text/plain": [
       "Index(['RecordID', 'Offense', 'IncidentID', 'Agency', 'ReportingOfficer',\n",
       "       'Date', 'DayOfWeek', 'Weekend', 'Season', 'TimeOfDay', 'FullStreet',\n",
       "       'lat', 'lon', 'neighborhood', 'zip'],\n",
       "      dtype='object')"
      ]
     },
     "execution_count": 16,
     "metadata": {},
     "output_type": "execute_result"
    }
   ],
   "source": [
    "df.columns"
   ]
  },
  {
   "cell_type": "code",
   "execution_count": 17,
   "id": "a04d0917",
   "metadata": {
    "execution": {
     "iopub.execute_input": "2025-08-04T01:18:16.809878Z",
     "iopub.status.busy": "2025-08-04T01:18:16.809663Z",
     "iopub.status.idle": "2025-08-04T01:18:16.831296Z",
     "shell.execute_reply": "2025-08-04T01:18:16.830723Z"
    },
    "papermill": {
     "duration": 0.032645,
     "end_time": "2025-08-04T01:18:16.832260",
     "exception": false,
     "start_time": "2025-08-04T01:18:16.799615",
     "status": "completed"
    },
    "tags": []
   },
   "outputs": [
    {
     "name": "stdout",
     "output_type": "stream",
     "text": [
      "<class 'pandas.core.frame.DataFrame'>\n",
      "RangeIndex: 25619 entries, 0 to 25618\n",
      "Data columns (total 15 columns):\n",
      " #   Column            Non-Null Count  Dtype         \n",
      "---  ------            --------------  -----         \n",
      " 0   RecordID          25619 non-null  int64         \n",
      " 1   Offense           25619 non-null  object        \n",
      " 2   IncidentID        25619 non-null  object        \n",
      " 3   Agency            25619 non-null  object        \n",
      " 4   ReportingOfficer  25619 non-null  object        \n",
      " 5   Date              25619 non-null  datetime64[ns]\n",
      " 6   DayOfWeek         25619 non-null  object        \n",
      " 7   Weekend           25619 non-null  bool          \n",
      " 8   Season            25619 non-null  object        \n",
      " 9   TimeOfDay         25619 non-null  object        \n",
      " 10  FullStreet        25619 non-null  object        \n",
      " 11  lat               25619 non-null  object        \n",
      " 12  lon               25619 non-null  object        \n",
      " 13  neighborhood      25619 non-null  object        \n",
      " 14  zip               25619 non-null  object        \n",
      "dtypes: bool(1), datetime64[ns](1), int64(1), object(12)\n",
      "memory usage: 2.8+ MB\n"
     ]
    }
   ],
   "source": [
    "df.info()"
   ]
  },
  {
   "cell_type": "markdown",
   "id": "e29cd7e5",
   "metadata": {
    "papermill": {
     "duration": 0.009603,
     "end_time": "2025-08-04T01:18:16.851765",
     "exception": false,
     "start_time": "2025-08-04T01:18:16.842162",
     "status": "completed"
    },
    "tags": []
   },
   "source": [
    "### Export Clean Data"
   ]
  },
  {
   "cell_type": "code",
   "execution_count": 18,
   "id": "2167d765",
   "metadata": {
    "execution": {
     "iopub.execute_input": "2025-08-04T01:18:16.871683Z",
     "iopub.status.busy": "2025-08-04T01:18:16.871463Z",
     "iopub.status.idle": "2025-08-04T01:18:26.103564Z",
     "shell.execute_reply": "2025-08-04T01:18:26.102892Z"
    },
    "papermill": {
     "duration": 9.243346,
     "end_time": "2025-08-04T01:18:26.104696",
     "exception": false,
     "start_time": "2025-08-04T01:18:16.861350",
     "status": "completed"
    },
    "tags": []
   },
   "outputs": [
    {
     "name": "stdout",
     "output_type": "stream",
     "text": [
      "Project Root: /home/runner/work/crime-data/crime-data\n"
     ]
    },
    {
     "name": "stdout",
     "output_type": "stream",
     "text": [
      "Data saved to: /home/runner/work/crime-data/crime-data/data/charlottesville_crime_incidents.csv\n"
     ]
    },
    {
     "name": "stdout",
     "output_type": "stream",
     "text": [
      "Excel saved to: /home/runner/work/crime-data/crime-data/data/charlottesville_crime_incidents.xlsx\n"
     ]
    }
   ],
   "source": [
    "# Determine the project root (assuming papermill is run from the repository root)\n",
    "project_root = os.getcwd()\n",
    "print(\"Project Root:\", project_root)\n",
    "\n",
    "# Set the data directory within the project root\n",
    "data_dir = os.path.join(project_root, \"data\")\n",
    "\n",
    "# Ensure the \"data\" directory exists (create it if it doesn't)\n",
    "if not os.path.exists(data_dir):\n",
    "    os.makedirs(data_dir)\n",
    "\n",
    "# Export the DataFrame to CSV in the \"data\" folder located in the project root\n",
    "csv_path = os.path.join(data_dir, \"charlottesville_crime_incidents.csv\")\n",
    "df.to_csv(csv_path, index=False)\n",
    "print(\"Data saved to:\", csv_path)\n",
    "\n",
    "# Construct the path to your Excel file\n",
    "excel_path = os.path.join(data_dir, \"charlottesville_crime_incidents.xlsx\")\n",
    "\n",
    "# Export the DataFrame to Excel\n",
    "df.to_excel(excel_path, index=False)\n",
    "print(\"Excel saved to:\", excel_path)\n"
   ]
  }
 ],
 "metadata": {
  "kernelspec": {
   "display_name": "Python 3",
   "language": "python",
   "name": "python3"
  },
  "language_info": {
   "codemirror_mode": {
    "name": "ipython",
    "version": 3
   },
   "file_extension": ".py",
   "mimetype": "text/x-python",
   "name": "python",
   "nbconvert_exporter": "python",
   "pygments_lexer": "ipython3",
   "version": "3.9.23"
  },
  "papermill": {
   "default_parameters": {},
   "duration": 165.245793,
   "end_time": "2025-08-04T01:18:26.533085",
   "environment_variables": {},
   "exception": null,
   "input_path": "notebook/Crime Data.ipynb",
   "output_path": "notebook/Crime Data_output.ipynb",
   "parameters": {},
   "start_time": "2025-08-04T01:15:41.287292",
   "version": "2.6.0"
  }
 },
 "nbformat": 4,
 "nbformat_minor": 5
}