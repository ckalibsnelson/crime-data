{
 "cells": [
  {
   "cell_type": "markdown",
   "id": "cf8f85f5",
   "metadata": {
    "papermill": {
     "duration": 0.006129,
     "end_time": "2025-04-04T00:58:35.766723",
     "exception": false,
     "start_time": "2025-04-04T00:58:35.760594",
     "status": "completed"
    },
    "tags": []
   },
   "source": [
    "# Charlottesville Open Data Porttal: Crime Data"
   ]
  },
  {
   "cell_type": "markdown",
   "id": "c9d2cb14",
   "metadata": {
    "papermill": {
     "duration": 0.005099,
     "end_time": "2025-04-04T00:58:35.777356",
     "exception": false,
     "start_time": "2025-04-04T00:58:35.772257",
     "status": "completed"
    },
    "tags": []
   },
   "source": [
    "## Import Relevant Librarires & Set WD"
   ]
  },
  {
   "cell_type": "code",
   "execution_count": 1,
   "id": "27c3c5f8",
   "metadata": {
    "execution": {
     "iopub.execute_input": "2025-04-04T00:58:35.788670Z",
     "iopub.status.busy": "2025-04-04T00:58:35.788264Z",
     "iopub.status.idle": "2025-04-04T00:58:36.467850Z",
     "shell.execute_reply": "2025-04-04T00:58:36.467102Z"
    },
    "papermill": {
     "duration": 0.686844,
     "end_time": "2025-04-04T00:58:36.469293",
     "exception": false,
     "start_time": "2025-04-04T00:58:35.782449",
     "status": "completed"
    },
    "tags": []
   },
   "outputs": [],
   "source": [
    "import requests\n",
    "import pandas as pd\n",
    "import numpy as np\n",
    "import pickle\n",
    "import googlemaps\n",
    "import plotly.express as px\n",
    "from geopy.geocoders import Nominatim\n",
    "import time\n",
    "from dotenv import load_dotenv\n",
    "import os\n",
    "\n",
    "env_path = os.path.join(\"..\", \".env\")\n",
    "#print(\"Looking for .env file at:\", os.path.abspath(env_path))\n",
    "load_dotenv(dotenv_path=env_path)\n",
    "\n",
    "# Retrieve the variables\n",
    "GOOGLE_API_KEY = os.getenv(\"GOOGLE_API_KEY\")\n",
    "WORKING_DIR = os.getenv(\"WORKING_DIR\")\n",
    "\n",
    "if GOOGLE_API_KEY is None or WORKING_DIR is None:\n",
    "    raise RuntimeError(\"No configuration found. Please ensure that your .env file exists with the required variables, or create a local config.py file.\")\n",
    "\n",
    "#print(\"Google API Key:\", GOOGLE_API_KEY)\n",
    "#print(\"Working Directory:\", WORKING_DIR)"
   ]
  },
  {
   "cell_type": "markdown",
   "id": "28bac5ba",
   "metadata": {
    "papermill": {
     "duration": 0.005118,
     "end_time": "2025-04-04T00:58:36.479905",
     "exception": false,
     "start_time": "2025-04-04T00:58:36.474787",
     "status": "completed"
    },
    "tags": []
   },
   "source": [
    "## Import Data\n",
    "\n",
    "URL: https://opendata.charlottesville.org/datasets/charlottesville::crime-data/about"
   ]
  },
  {
   "cell_type": "code",
   "execution_count": 2,
   "id": "1638ca6f",
   "metadata": {
    "execution": {
     "iopub.execute_input": "2025-04-04T00:58:36.491158Z",
     "iopub.status.busy": "2025-04-04T00:58:36.490670Z",
     "iopub.status.idle": "2025-04-04T00:59:31.655478Z",
     "shell.execute_reply": "2025-04-04T00:59:31.654734Z"
    },
    "papermill": {
     "duration": 55.176692,
     "end_time": "2025-04-04T00:59:31.661685",
     "exception": false,
     "start_time": "2025-04-04T00:58:36.484993",
     "status": "completed"
    },
    "tags": []
   },
   "outputs": [
    {
     "name": "stdout",
     "output_type": "stream",
     "text": [
      "Total records imported: 25109\n"
     ]
    }
   ],
   "source": [
    "# Define the endpoint and initial parameters.\n",
    "url = \"https://gisweb.charlottesville.org/arcgis/rest/services/OpenData_2/MapServer/6/query\"\n",
    "params = {\n",
    "    \"where\": \"1=1\",\n",
    "    \"outFields\": \"*\",\n",
    "    \"outSR\": 4326,\n",
    "    \"f\": \"json\",\n",
    "    \"resultOffset\": 0,       # Starting index for results\n",
    "    \"resultRecordCount\": 10000  # Maximum records per batch (if allowed by the API)\n",
    "}\n",
    "\n",
    "records = []\n",
    "\n",
    "while True:\n",
    "    response = requests.get(url, params=params)\n",
    "    response.raise_for_status()\n",
    "    data = response.json()\n",
    "    \n",
    "    # Get the current batch of features.\n",
    "    features = data.get(\"features\", [])\n",
    "    if not features:\n",
    "        break\n",
    "\n",
    "    # Extract the attributes from the features.\n",
    "    batch_records = [feature.get(\"attributes\", {}) for feature in features]\n",
    "    records.extend(batch_records)\n",
    "    \n",
    "    # If the batch size is less than the requested count, we reached the end.\n",
    "    if len(features) < params[\"resultRecordCount\"]:\n",
    "        break\n",
    "\n",
    "    # Update the resultOffset for the next batch.\n",
    "    params[\"resultOffset\"] += params[\"resultRecordCount\"]\n",
    "\n",
    "# Create a DataFrame from the combined records.\n",
    "df = pd.DataFrame(records)\n",
    "print(\"Total records imported:\", len(df))\n"
   ]
  },
  {
   "cell_type": "code",
   "execution_count": 3,
   "id": "aeedb1dd",
   "metadata": {
    "execution": {
     "iopub.execute_input": "2025-04-04T00:59:31.673500Z",
     "iopub.status.busy": "2025-04-04T00:59:31.673097Z",
     "iopub.status.idle": "2025-04-04T00:59:31.685471Z",
     "shell.execute_reply": "2025-04-04T00:59:31.684823Z"
    },
    "papermill": {
     "duration": 0.019463,
     "end_time": "2025-04-04T00:59:31.686531",
     "exception": false,
     "start_time": "2025-04-04T00:59:31.667068",
     "status": "completed"
    },
    "tags": []
   },
   "outputs": [
    {
     "data": {
      "text/html": [
       "<div>\n",
       "<style scoped>\n",
       "    .dataframe tbody tr th:only-of-type {\n",
       "        vertical-align: middle;\n",
       "    }\n",
       "\n",
       "    .dataframe tbody tr th {\n",
       "        vertical-align: top;\n",
       "    }\n",
       "\n",
       "    .dataframe thead th {\n",
       "        text-align: right;\n",
       "    }\n",
       "</style>\n",
       "<table border=\"1\" class=\"dataframe\">\n",
       "  <thead>\n",
       "    <tr style=\"text-align: right;\">\n",
       "      <th></th>\n",
       "      <th>RecordID</th>\n",
       "      <th>Offense</th>\n",
       "      <th>IncidentID</th>\n",
       "      <th>BlockNumber</th>\n",
       "      <th>StreetName</th>\n",
       "      <th>Agency</th>\n",
       "      <th>DateReported</th>\n",
       "      <th>HourReported</th>\n",
       "      <th>ReportingOfficer</th>\n",
       "    </tr>\n",
       "  </thead>\n",
       "  <tbody>\n",
       "    <tr>\n",
       "      <th>0</th>\n",
       "      <td>1</td>\n",
       "      <td>Burglary</td>\n",
       "      <td>202500010416</td>\n",
       "      <td>900</td>\n",
       "      <td>PRESTON AVE</td>\n",
       "      <td>CPD</td>\n",
       "      <td>1743554274000</td>\n",
       "      <td>2037</td>\n",
       "      <td>Carrasco, Julio</td>\n",
       "    </tr>\n",
       "    <tr>\n",
       "      <th>1</th>\n",
       "      <td>2</td>\n",
       "      <td>Burglary</td>\n",
       "      <td>202500010417</td>\n",
       "      <td>700</td>\n",
       "      <td>WALKER, 1B</td>\n",
       "      <td>CPD</td>\n",
       "      <td>1743554185000</td>\n",
       "      <td>2036</td>\n",
       "      <td>Venereo, Arturo</td>\n",
       "    </tr>\n",
       "    <tr>\n",
       "      <th>2</th>\n",
       "      <td>3</td>\n",
       "      <td>Sex Offense-forcible fondling</td>\n",
       "      <td>202500010418</td>\n",
       "      <td>200</td>\n",
       "      <td>4TH ST NW</td>\n",
       "      <td>CPD</td>\n",
       "      <td>1743553963000</td>\n",
       "      <td>2032</td>\n",
       "      <td>Abdelgayed, Adam</td>\n",
       "    </tr>\n",
       "    <tr>\n",
       "      <th>3</th>\n",
       "      <td>4</td>\n",
       "      <td>Lost/FoundProperty</td>\n",
       "      <td>202500010371</td>\n",
       "      <td>200</td>\n",
       "      <td>RIDGE MCINTIRE RD</td>\n",
       "      <td>CPD</td>\n",
       "      <td>1743522019000</td>\n",
       "      <td>1140</td>\n",
       "      <td>O'Briant, Landon</td>\n",
       "    </tr>\n",
       "    <tr>\n",
       "      <th>4</th>\n",
       "      <td>5</td>\n",
       "      <td>Vandalism</td>\n",
       "      <td>202500010366</td>\n",
       "      <td>1600</td>\n",
       "      <td>6TH ST SE</td>\n",
       "      <td>CPD</td>\n",
       "      <td>1743518870000</td>\n",
       "      <td>1047</td>\n",
       "      <td>Moriarty, Thomas</td>\n",
       "    </tr>\n",
       "  </tbody>\n",
       "</table>\n",
       "</div>"
      ],
      "text/plain": [
       "   RecordID                        Offense    IncidentID BlockNumber  \\\n",
       "0         1                       Burglary  202500010416         900   \n",
       "1         2                       Burglary  202500010417         700   \n",
       "2         3  Sex Offense-forcible fondling  202500010418         200   \n",
       "3         4             Lost/FoundProperty  202500010371         200   \n",
       "4         5                      Vandalism  202500010366        1600   \n",
       "\n",
       "          StreetName Agency   DateReported HourReported  ReportingOfficer  \n",
       "0        PRESTON AVE    CPD  1743554274000         2037   Carrasco, Julio  \n",
       "1         WALKER, 1B    CPD  1743554185000         2036   Venereo, Arturo  \n",
       "2          4TH ST NW    CPD  1743553963000         2032  Abdelgayed, Adam  \n",
       "3  RIDGE MCINTIRE RD    CPD  1743522019000         1140  O'Briant, Landon  \n",
       "4          6TH ST SE    CPD  1743518870000         1047  Moriarty, Thomas  "
      ]
     },
     "execution_count": 3,
     "metadata": {},
     "output_type": "execute_result"
    }
   ],
   "source": [
    "df.head()"
   ]
  },
  {
   "cell_type": "code",
   "execution_count": 4,
   "id": "c5f11b75",
   "metadata": {
    "execution": {
     "iopub.execute_input": "2025-04-04T00:59:31.698276Z",
     "iopub.status.busy": "2025-04-04T00:59:31.697896Z",
     "iopub.status.idle": "2025-04-04T00:59:31.702193Z",
     "shell.execute_reply": "2025-04-04T00:59:31.701647Z"
    },
    "papermill": {
     "duration": 0.011261,
     "end_time": "2025-04-04T00:59:31.703233",
     "exception": false,
     "start_time": "2025-04-04T00:59:31.691972",
     "status": "completed"
    },
    "tags": []
   },
   "outputs": [
    {
     "data": {
      "text/plain": [
       "Index(['RecordID', 'Offense', 'IncidentID', 'BlockNumber', 'StreetName',\n",
       "       'Agency', 'DateReported', 'HourReported', 'ReportingOfficer'],\n",
       "      dtype='object')"
      ]
     },
     "execution_count": 4,
     "metadata": {},
     "output_type": "execute_result"
    }
   ],
   "source": [
    "df.columns"
   ]
  },
  {
   "cell_type": "code",
   "execution_count": 5,
   "id": "37e8cd5a",
   "metadata": {
    "execution": {
     "iopub.execute_input": "2025-04-04T00:59:31.715377Z",
     "iopub.status.busy": "2025-04-04T00:59:31.715185Z",
     "iopub.status.idle": "2025-04-04T00:59:31.732852Z",
     "shell.execute_reply": "2025-04-04T00:59:31.732214Z"
    },
    "papermill": {
     "duration": 0.025171,
     "end_time": "2025-04-04T00:59:31.733920",
     "exception": false,
     "start_time": "2025-04-04T00:59:31.708749",
     "status": "completed"
    },
    "tags": []
   },
   "outputs": [
    {
     "name": "stdout",
     "output_type": "stream",
     "text": [
      "<class 'pandas.core.frame.DataFrame'>\n",
      "RangeIndex: 25109 entries, 0 to 25108\n",
      "Data columns (total 9 columns):\n",
      " #   Column            Non-Null Count  Dtype \n",
      "---  ------            --------------  ----- \n",
      " 0   RecordID          25109 non-null  int64 \n",
      " 1   Offense           25109 non-null  object\n",
      " 2   IncidentID        25109 non-null  object\n",
      " 3   BlockNumber       25109 non-null  object\n",
      " 4   StreetName        25109 non-null  object\n",
      " 5   Agency            25109 non-null  object\n",
      " 6   DateReported      25109 non-null  int64 \n",
      " 7   HourReported      25109 non-null  object\n",
      " 8   ReportingOfficer  25091 non-null  object\n",
      "dtypes: int64(2), object(7)\n",
      "memory usage: 1.7+ MB\n"
     ]
    }
   ],
   "source": [
    "df.info()"
   ]
  },
  {
   "cell_type": "markdown",
   "id": "28968119",
   "metadata": {
    "papermill": {
     "duration": 0.005604,
     "end_time": "2025-04-04T00:59:31.745185",
     "exception": false,
     "start_time": "2025-04-04T00:59:31.739581",
     "status": "completed"
    },
    "tags": []
   },
   "source": [
    "### Missing Values"
   ]
  },
  {
   "cell_type": "code",
   "execution_count": 6,
   "id": "29beb4b1",
   "metadata": {
    "execution": {
     "iopub.execute_input": "2025-04-04T00:59:31.757171Z",
     "iopub.status.busy": "2025-04-04T00:59:31.756960Z",
     "iopub.status.idle": "2025-04-04T00:59:31.772207Z",
     "shell.execute_reply": "2025-04-04T00:59:31.771661Z"
    },
    "papermill": {
     "duration": 0.022416,
     "end_time": "2025-04-04T00:59:31.773191",
     "exception": false,
     "start_time": "2025-04-04T00:59:31.750775",
     "status": "completed"
    },
    "tags": []
   },
   "outputs": [
    {
     "name": "stdout",
     "output_type": "stream",
     "text": [
      "                  MissingCount  MissingPercentage\n",
      "RecordID                     0               0.00\n",
      "Offense                      0               0.00\n",
      "IncidentID                   0               0.00\n",
      "BlockNumber                  0               0.00\n",
      "StreetName                   0               0.00\n",
      "Agency                       0               0.00\n",
      "DateReported                 0               0.00\n",
      "HourReported                 0               0.00\n",
      "ReportingOfficer            18               0.07\n"
     ]
    }
   ],
   "source": [
    "def missing_percentage(df):\n",
    "    \"\"\"\n",
    "    Returns a DataFrame with the count and percentage of missing values for each column.\n",
    "    \n",
    "    Parameters:\n",
    "        df (pd.DataFrame): The input DataFrame.\n",
    "    \n",
    "    Returns:\n",
    "        pd.DataFrame: A DataFrame with columns 'MissingCount' and 'MissingPercentage'.\n",
    "    \"\"\"\n",
    "    total_rows = len(df)\n",
    "    missing_count = df.isnull().sum()\n",
    "    missing_percent = (missing_count / total_rows) * 100\n",
    "    \n",
    "    result = pd.DataFrame({\n",
    "        'MissingCount': missing_count,\n",
    "        'MissingPercentage': missing_percent.round(2)\n",
    "    })\n",
    "    \n",
    "    return result\n",
    "\n",
    "# Example usage:\n",
    "missing_info = missing_percentage(df)\n",
    "print(missing_info)\n"
   ]
  },
  {
   "cell_type": "markdown",
   "id": "e001de40",
   "metadata": {
    "papermill": {
     "duration": 0.005728,
     "end_time": "2025-04-04T00:59:31.784746",
     "exception": false,
     "start_time": "2025-04-04T00:59:31.779018",
     "status": "completed"
    },
    "tags": []
   },
   "source": [
    "## Data Preparation"
   ]
  },
  {
   "cell_type": "markdown",
   "id": "306be9bb",
   "metadata": {
    "papermill": {
     "duration": 0.005662,
     "end_time": "2025-04-04T00:59:31.796029",
     "exception": false,
     "start_time": "2025-04-04T00:59:31.790367",
     "status": "completed"
    },
    "tags": []
   },
   "source": [
    "### Data Conversion"
   ]
  },
  {
   "cell_type": "code",
   "execution_count": 7,
   "id": "d5a0902d",
   "metadata": {
    "execution": {
     "iopub.execute_input": "2025-04-04T00:59:31.808258Z",
     "iopub.status.busy": "2025-04-04T00:59:31.807860Z",
     "iopub.status.idle": "2025-04-04T00:59:32.172951Z",
     "shell.execute_reply": "2025-04-04T00:59:32.172277Z"
    },
    "papermill": {
     "duration": 0.372329,
     "end_time": "2025-04-04T00:59:32.173994",
     "exception": false,
     "start_time": "2025-04-04T00:59:31.801665",
     "status": "completed"
    },
    "tags": []
   },
   "outputs": [
    {
     "data": {
      "text/html": [
       "<div>\n",
       "<style scoped>\n",
       "    .dataframe tbody tr th:only-of-type {\n",
       "        vertical-align: middle;\n",
       "    }\n",
       "\n",
       "    .dataframe tbody tr th {\n",
       "        vertical-align: top;\n",
       "    }\n",
       "\n",
       "    .dataframe thead th {\n",
       "        text-align: right;\n",
       "    }\n",
       "</style>\n",
       "<table border=\"1\" class=\"dataframe\">\n",
       "  <thead>\n",
       "    <tr style=\"text-align: right;\">\n",
       "      <th></th>\n",
       "      <th>RecordID</th>\n",
       "      <th>Offense</th>\n",
       "      <th>IncidentID</th>\n",
       "      <th>BlockNumber</th>\n",
       "      <th>StreetName</th>\n",
       "      <th>Agency</th>\n",
       "      <th>HourReported</th>\n",
       "      <th>ReportingOfficer</th>\n",
       "      <th>Date</th>\n",
       "      <th>DateString</th>\n",
       "      <th>DayOfWeek</th>\n",
       "      <th>Weekend</th>\n",
       "      <th>Season</th>\n",
       "      <th>HourAMPM</th>\n",
       "      <th>TimeOfDay</th>\n",
       "    </tr>\n",
       "  </thead>\n",
       "  <tbody>\n",
       "    <tr>\n",
       "      <th>0</th>\n",
       "      <td>1</td>\n",
       "      <td>Burglary</td>\n",
       "      <td>202500010416</td>\n",
       "      <td>900</td>\n",
       "      <td>PRESTON AVE</td>\n",
       "      <td>CPD</td>\n",
       "      <td>2037</td>\n",
       "      <td>Carrasco, Julio</td>\n",
       "      <td>2025-04-01 20:37:54</td>\n",
       "      <td>2025-04-01 08:37:54 PM</td>\n",
       "      <td>Tuesday</td>\n",
       "      <td>False</td>\n",
       "      <td>Spring</td>\n",
       "      <td>08:37 PM</td>\n",
       "      <td>Evening</td>\n",
       "    </tr>\n",
       "    <tr>\n",
       "      <th>1</th>\n",
       "      <td>2</td>\n",
       "      <td>Burglary</td>\n",
       "      <td>202500010417</td>\n",
       "      <td>700</td>\n",
       "      <td>WALKER, 1B</td>\n",
       "      <td>CPD</td>\n",
       "      <td>2036</td>\n",
       "      <td>Venereo, Arturo</td>\n",
       "      <td>2025-04-01 20:36:25</td>\n",
       "      <td>2025-04-01 08:36:25 PM</td>\n",
       "      <td>Tuesday</td>\n",
       "      <td>False</td>\n",
       "      <td>Spring</td>\n",
       "      <td>08:36 PM</td>\n",
       "      <td>Evening</td>\n",
       "    </tr>\n",
       "    <tr>\n",
       "      <th>2</th>\n",
       "      <td>3</td>\n",
       "      <td>Sex Offense-forcible fondling</td>\n",
       "      <td>202500010418</td>\n",
       "      <td>200</td>\n",
       "      <td>4TH ST NW</td>\n",
       "      <td>CPD</td>\n",
       "      <td>2032</td>\n",
       "      <td>Abdelgayed, Adam</td>\n",
       "      <td>2025-04-01 20:32:43</td>\n",
       "      <td>2025-04-01 08:32:43 PM</td>\n",
       "      <td>Tuesday</td>\n",
       "      <td>False</td>\n",
       "      <td>Spring</td>\n",
       "      <td>08:32 PM</td>\n",
       "      <td>Evening</td>\n",
       "    </tr>\n",
       "    <tr>\n",
       "      <th>3</th>\n",
       "      <td>4</td>\n",
       "      <td>Lost/FoundProperty</td>\n",
       "      <td>202500010371</td>\n",
       "      <td>200</td>\n",
       "      <td>RIDGE MCINTIRE RD</td>\n",
       "      <td>CPD</td>\n",
       "      <td>1140</td>\n",
       "      <td>O'Briant, Landon</td>\n",
       "      <td>2025-04-01 11:40:19</td>\n",
       "      <td>2025-04-01 11:40:19 AM</td>\n",
       "      <td>Tuesday</td>\n",
       "      <td>False</td>\n",
       "      <td>Spring</td>\n",
       "      <td>11:40 AM</td>\n",
       "      <td>Morning</td>\n",
       "    </tr>\n",
       "    <tr>\n",
       "      <th>4</th>\n",
       "      <td>5</td>\n",
       "      <td>Vandalism</td>\n",
       "      <td>202500010366</td>\n",
       "      <td>1600</td>\n",
       "      <td>6TH ST SE</td>\n",
       "      <td>CPD</td>\n",
       "      <td>1047</td>\n",
       "      <td>Moriarty, Thomas</td>\n",
       "      <td>2025-04-01 10:47:50</td>\n",
       "      <td>2025-04-01 10:47:50 AM</td>\n",
       "      <td>Tuesday</td>\n",
       "      <td>False</td>\n",
       "      <td>Spring</td>\n",
       "      <td>10:47 AM</td>\n",
       "      <td>Morning</td>\n",
       "    </tr>\n",
       "  </tbody>\n",
       "</table>\n",
       "</div>"
      ],
      "text/plain": [
       "   RecordID                        Offense    IncidentID BlockNumber  \\\n",
       "0         1                       Burglary  202500010416         900   \n",
       "1         2                       Burglary  202500010417         700   \n",
       "2         3  Sex Offense-forcible fondling  202500010418         200   \n",
       "3         4             Lost/FoundProperty  202500010371         200   \n",
       "4         5                      Vandalism  202500010366        1600   \n",
       "\n",
       "          StreetName Agency HourReported  ReportingOfficer  \\\n",
       "0        PRESTON AVE    CPD         2037   Carrasco, Julio   \n",
       "1         WALKER, 1B    CPD         2036   Venereo, Arturo   \n",
       "2          4TH ST NW    CPD         2032  Abdelgayed, Adam   \n",
       "3  RIDGE MCINTIRE RD    CPD         1140  O'Briant, Landon   \n",
       "4          6TH ST SE    CPD         1047  Moriarty, Thomas   \n",
       "\n",
       "                 Date              DateString DayOfWeek  Weekend  Season  \\\n",
       "0 2025-04-01 20:37:54  2025-04-01 08:37:54 PM   Tuesday    False  Spring   \n",
       "1 2025-04-01 20:36:25  2025-04-01 08:36:25 PM   Tuesday    False  Spring   \n",
       "2 2025-04-01 20:32:43  2025-04-01 08:32:43 PM   Tuesday    False  Spring   \n",
       "3 2025-04-01 11:40:19  2025-04-01 11:40:19 AM   Tuesday    False  Spring   \n",
       "4 2025-04-01 10:47:50  2025-04-01 10:47:50 AM   Tuesday    False  Spring   \n",
       "\n",
       "   HourAMPM TimeOfDay  \n",
       "0  08:37 PM   Evening  \n",
       "1  08:36 PM   Evening  \n",
       "2  08:32 PM   Evening  \n",
       "3  11:40 AM   Morning  \n",
       "4  10:47 AM   Morning  "
      ]
     },
     "execution_count": 7,
     "metadata": {},
     "output_type": "execute_result"
    }
   ],
   "source": [
    "def convert_and_categorize_datereported(df, col='DateReported'):\n",
    "    \"\"\"\n",
    "    Converts an epoch (in milliseconds) date column into a timezone-aware datetime,\n",
    "    converts it to Eastern Time, and then creates columns for day-of-week, weekend flag,\n",
    "    season, 12-hour formatted time, and time-of-day. Keeps both a real datetime column\n",
    "    (Date) and a string representation (DateString).\n",
    "    \"\"\"\n",
    "    import pandas as pd\n",
    "\n",
    "    # Convert the epoch timestamp to a pandas datetime object as UTC, then convert to US/Eastern.\n",
    "    df[\"DateReported_dt\"] = (\n",
    "        pd.to_datetime(df[col], unit=\"ms\", errors=\"coerce\", utc=True)\n",
    "        .dt.tz_convert(\"US/Eastern\")\n",
    "    )\n",
    "    \n",
    "    # Create a true datetime column (remove timezone if you prefer naive datetime)\n",
    "    df[\"Date\"] = df[\"DateReported_dt\"].dt.tz_localize(None)\n",
    "\n",
    "    # Optionally, create a separate string-formatted column\n",
    "    df[\"DateString\"] = df[\"DateReported_dt\"].dt.strftime(\"%Y-%m-%d %I:%M:%S %p\")\n",
    "    \n",
    "    # DayOfWeek\n",
    "    df[\"DayOfWeek\"] = df[\"DateReported_dt\"].dt.day_name()\n",
    "    \n",
    "    # Weekend\n",
    "    df[\"Weekend\"] = df[\"DayOfWeek\"].isin([\"Saturday\", \"Sunday\"])\n",
    "    \n",
    "    # Helper function to determine the season\n",
    "    def get_season(dt):\n",
    "        month = dt.month\n",
    "        day = dt.day\n",
    "        # Approximate Northern Hemisphere season boundaries:\n",
    "        if (month == 12 and day >= 21) or (month < 3) or (month == 3 and day < 20):\n",
    "            return \"Winter\"\n",
    "        elif (month == 3 and day >= 20) or (month < 6) or (month == 6 and day < 21):\n",
    "            return \"Spring\"\n",
    "        elif (month == 6 and day >= 21) or (month < 9) or (month == 9 and day < 22):\n",
    "            return \"Summer\"\n",
    "        else:\n",
    "            return \"Autumn\"\n",
    "    \n",
    "    df[\"Season\"] = df[\"DateReported_dt\"].apply(get_season)\n",
    "    \n",
    "    # 12-hour formatted time (HourAMPM)\n",
    "    df[\"HourAMPM\"] = df[\"DateReported_dt\"].dt.strftime(\"%I:%M %p\")\n",
    "    \n",
    "    # Extract hour (0-23) for time-of-day\n",
    "    df[\"HourValue\"] = df[\"DateReported_dt\"].dt.hour\n",
    "    \n",
    "    def time_of_day(hour):\n",
    "        if pd.isnull(hour):\n",
    "            return None\n",
    "        if 5 <= hour < 12:\n",
    "            return \"Morning\"\n",
    "        elif 12 <= hour < 17:\n",
    "            return \"Afternoon\"\n",
    "        elif 17 <= hour < 21:\n",
    "            return \"Evening\"\n",
    "        else:\n",
    "            return \"Night\"\n",
    "    \n",
    "    df[\"TimeOfDay\"] = df[\"HourValue\"].apply(time_of_day)\n",
    "    \n",
    "    # Drop columns you no longer need\n",
    "    df.drop(columns=[col, \"DateReported_dt\", \"HourValue\"], inplace=True)\n",
    "    \n",
    "    return df\n",
    "\n",
    "# Example usage:\n",
    "df = convert_and_categorize_datereported(df)\n",
    "df.head()\n"
   ]
  },
  {
   "cell_type": "code",
   "execution_count": 8,
   "id": "fe84bc77",
   "metadata": {
    "execution": {
     "iopub.execute_input": "2025-04-04T00:59:32.187352Z",
     "iopub.status.busy": "2025-04-04T00:59:32.187092Z",
     "iopub.status.idle": "2025-04-04T00:59:32.208774Z",
     "shell.execute_reply": "2025-04-04T00:59:32.208233Z"
    },
    "papermill": {
     "duration": 0.029425,
     "end_time": "2025-04-04T00:59:32.209831",
     "exception": false,
     "start_time": "2025-04-04T00:59:32.180406",
     "status": "completed"
    },
    "tags": []
   },
   "outputs": [
    {
     "name": "stdout",
     "output_type": "stream",
     "text": [
      "<class 'pandas.core.frame.DataFrame'>\n",
      "RangeIndex: 25109 entries, 0 to 25108\n",
      "Data columns (total 15 columns):\n",
      " #   Column            Non-Null Count  Dtype         \n",
      "---  ------            --------------  -----         \n",
      " 0   RecordID          25109 non-null  int64         \n",
      " 1   Offense           25109 non-null  object        \n",
      " 2   IncidentID        25109 non-null  object        \n",
      " 3   BlockNumber       25109 non-null  object        \n",
      " 4   StreetName        25109 non-null  object        \n",
      " 5   Agency            25109 non-null  object        \n",
      " 6   HourReported      25109 non-null  object        \n",
      " 7   ReportingOfficer  25091 non-null  object        \n",
      " 8   Date              25109 non-null  datetime64[ns]\n",
      " 9   DateString        25109 non-null  object        \n",
      " 10  DayOfWeek         25109 non-null  object        \n",
      " 11  Weekend           25109 non-null  bool          \n",
      " 12  Season            25109 non-null  object        \n",
      " 13  HourAMPM          25109 non-null  object        \n",
      " 14  TimeOfDay         25109 non-null  object        \n",
      "dtypes: bool(1), datetime64[ns](1), int64(1), object(12)\n",
      "memory usage: 2.7+ MB\n"
     ]
    }
   ],
   "source": [
    "df.info()"
   ]
  },
  {
   "cell_type": "markdown",
   "id": "85ed0fa8",
   "metadata": {
    "papermill": {
     "duration": 0.006005,
     "end_time": "2025-04-04T00:59:32.221953",
     "exception": false,
     "start_time": "2025-04-04T00:59:32.215948",
     "status": "completed"
    },
    "tags": []
   },
   "source": [
    "### Coordinates"
   ]
  },
  {
   "cell_type": "code",
   "execution_count": 9,
   "id": "ca06b540",
   "metadata": {
    "execution": {
     "iopub.execute_input": "2025-04-04T00:59:32.235047Z",
     "iopub.status.busy": "2025-04-04T00:59:32.234583Z",
     "iopub.status.idle": "2025-04-04T00:59:32.276080Z",
     "shell.execute_reply": "2025-04-04T00:59:32.275422Z"
    },
    "papermill": {
     "duration": 0.049086,
     "end_time": "2025-04-04T00:59:32.277052",
     "exception": false,
     "start_time": "2025-04-04T00:59:32.227966",
     "status": "completed"
    },
    "tags": []
   },
   "outputs": [
    {
     "name": "stdout",
     "output_type": "stream",
     "text": [
      "Loaded geocode cache.\n",
      "Geocode cache updated and saved.\n"
     ]
    },
    {
     "data": {
      "text/html": [
       "<div>\n",
       "<style scoped>\n",
       "    .dataframe tbody tr th:only-of-type {\n",
       "        vertical-align: middle;\n",
       "    }\n",
       "\n",
       "    .dataframe tbody tr th {\n",
       "        vertical-align: top;\n",
       "    }\n",
       "\n",
       "    .dataframe thead th {\n",
       "        text-align: right;\n",
       "    }\n",
       "</style>\n",
       "<table border=\"1\" class=\"dataframe\">\n",
       "  <thead>\n",
       "    <tr style=\"text-align: right;\">\n",
       "      <th></th>\n",
       "      <th>RecordID</th>\n",
       "      <th>Offense</th>\n",
       "      <th>IncidentID</th>\n",
       "      <th>BlockNumber</th>\n",
       "      <th>StreetName</th>\n",
       "      <th>Agency</th>\n",
       "      <th>HourReported</th>\n",
       "      <th>ReportingOfficer</th>\n",
       "      <th>Date</th>\n",
       "      <th>DateString</th>\n",
       "      <th>DayOfWeek</th>\n",
       "      <th>Weekend</th>\n",
       "      <th>Season</th>\n",
       "      <th>HourAMPM</th>\n",
       "      <th>TimeOfDay</th>\n",
       "      <th>FullStreet</th>\n",
       "      <th>lat</th>\n",
       "      <th>lon</th>\n",
       "    </tr>\n",
       "  </thead>\n",
       "  <tbody>\n",
       "    <tr>\n",
       "      <th>0</th>\n",
       "      <td>1</td>\n",
       "      <td>Burglary</td>\n",
       "      <td>202500010416</td>\n",
       "      <td>900</td>\n",
       "      <td>PRESTON AVE</td>\n",
       "      <td>CPD</td>\n",
       "      <td>2037</td>\n",
       "      <td>Carrasco, Julio</td>\n",
       "      <td>2025-04-01 20:37:54</td>\n",
       "      <td>2025-04-01 08:37:54 PM</td>\n",
       "      <td>Tuesday</td>\n",
       "      <td>False</td>\n",
       "      <td>Spring</td>\n",
       "      <td>08:37 PM</td>\n",
       "      <td>Evening</td>\n",
       "      <td>900 PRESTON AVE</td>\n",
       "      <td>38.037011</td>\n",
       "      <td>-78.489464</td>\n",
       "    </tr>\n",
       "    <tr>\n",
       "      <th>1</th>\n",
       "      <td>2</td>\n",
       "      <td>Burglary</td>\n",
       "      <td>202500010417</td>\n",
       "      <td>700</td>\n",
       "      <td>WALKER, 1B</td>\n",
       "      <td>CPD</td>\n",
       "      <td>2036</td>\n",
       "      <td>Venereo, Arturo</td>\n",
       "      <td>2025-04-01 20:36:25</td>\n",
       "      <td>2025-04-01 08:36:25 PM</td>\n",
       "      <td>Tuesday</td>\n",
       "      <td>False</td>\n",
       "      <td>Spring</td>\n",
       "      <td>08:36 PM</td>\n",
       "      <td>Evening</td>\n",
       "      <td>700 WALKER, 1B</td>\n",
       "      <td>38.030445</td>\n",
       "      <td>-78.491372</td>\n",
       "    </tr>\n",
       "    <tr>\n",
       "      <th>2</th>\n",
       "      <td>3</td>\n",
       "      <td>Sex Offense-forcible fondling</td>\n",
       "      <td>202500010418</td>\n",
       "      <td>200</td>\n",
       "      <td>4TH ST NW</td>\n",
       "      <td>CPD</td>\n",
       "      <td>2032</td>\n",
       "      <td>Abdelgayed, Adam</td>\n",
       "      <td>2025-04-01 20:32:43</td>\n",
       "      <td>2025-04-01 08:32:43 PM</td>\n",
       "      <td>Tuesday</td>\n",
       "      <td>False</td>\n",
       "      <td>Spring</td>\n",
       "      <td>08:32 PM</td>\n",
       "      <td>Evening</td>\n",
       "      <td>200 4TH ST NW</td>\n",
       "      <td>38.031474</td>\n",
       "      <td>-78.486204</td>\n",
       "    </tr>\n",
       "    <tr>\n",
       "      <th>3</th>\n",
       "      <td>4</td>\n",
       "      <td>Lost/FoundProperty</td>\n",
       "      <td>202500010371</td>\n",
       "      <td>200</td>\n",
       "      <td>RIDGE MCINTIRE RD</td>\n",
       "      <td>CPD</td>\n",
       "      <td>1140</td>\n",
       "      <td>O'Briant, Landon</td>\n",
       "      <td>2025-04-01 11:40:19</td>\n",
       "      <td>2025-04-01 11:40:19 AM</td>\n",
       "      <td>Tuesday</td>\n",
       "      <td>False</td>\n",
       "      <td>Spring</td>\n",
       "      <td>11:40 AM</td>\n",
       "      <td>Morning</td>\n",
       "      <td>200 RIDGE MCINTIRE RD</td>\n",
       "      <td>38.031221</td>\n",
       "      <td>-78.483889</td>\n",
       "    </tr>\n",
       "    <tr>\n",
       "      <th>4</th>\n",
       "      <td>5</td>\n",
       "      <td>Vandalism</td>\n",
       "      <td>202500010366</td>\n",
       "      <td>1600</td>\n",
       "      <td>6TH ST SE</td>\n",
       "      <td>CPD</td>\n",
       "      <td>1047</td>\n",
       "      <td>Moriarty, Thomas</td>\n",
       "      <td>2025-04-01 10:47:50</td>\n",
       "      <td>2025-04-01 10:47:50 AM</td>\n",
       "      <td>Tuesday</td>\n",
       "      <td>False</td>\n",
       "      <td>Spring</td>\n",
       "      <td>10:47 AM</td>\n",
       "      <td>Morning</td>\n",
       "      <td>1600 6TH ST SE</td>\n",
       "      <td>38.016819</td>\n",
       "      <td>-78.486216</td>\n",
       "    </tr>\n",
       "  </tbody>\n",
       "</table>\n",
       "</div>"
      ],
      "text/plain": [
       "   RecordID                        Offense    IncidentID BlockNumber  \\\n",
       "0         1                       Burglary  202500010416         900   \n",
       "1         2                       Burglary  202500010417         700   \n",
       "2         3  Sex Offense-forcible fondling  202500010418         200   \n",
       "3         4             Lost/FoundProperty  202500010371         200   \n",
       "4         5                      Vandalism  202500010366        1600   \n",
       "\n",
       "          StreetName Agency HourReported  ReportingOfficer  \\\n",
       "0        PRESTON AVE    CPD         2037   Carrasco, Julio   \n",
       "1         WALKER, 1B    CPD         2036   Venereo, Arturo   \n",
       "2          4TH ST NW    CPD         2032  Abdelgayed, Adam   \n",
       "3  RIDGE MCINTIRE RD    CPD         1140  O'Briant, Landon   \n",
       "4          6TH ST SE    CPD         1047  Moriarty, Thomas   \n",
       "\n",
       "                 Date              DateString DayOfWeek  Weekend  Season  \\\n",
       "0 2025-04-01 20:37:54  2025-04-01 08:37:54 PM   Tuesday    False  Spring   \n",
       "1 2025-04-01 20:36:25  2025-04-01 08:36:25 PM   Tuesday    False  Spring   \n",
       "2 2025-04-01 20:32:43  2025-04-01 08:32:43 PM   Tuesday    False  Spring   \n",
       "3 2025-04-01 11:40:19  2025-04-01 11:40:19 AM   Tuesday    False  Spring   \n",
       "4 2025-04-01 10:47:50  2025-04-01 10:47:50 AM   Tuesday    False  Spring   \n",
       "\n",
       "   HourAMPM TimeOfDay             FullStreet        lat        lon  \n",
       "0  08:37 PM   Evening        900 PRESTON AVE  38.037011 -78.489464  \n",
       "1  08:36 PM   Evening         700 WALKER, 1B  38.030445 -78.491372  \n",
       "2  08:32 PM   Evening          200 4TH ST NW  38.031474 -78.486204  \n",
       "3  11:40 AM   Morning  200 RIDGE MCINTIRE RD  38.031221 -78.483889  \n",
       "4  10:47 AM   Morning         1600 6TH ST SE  38.016819 -78.486216  "
      ]
     },
     "execution_count": 9,
     "metadata": {},
     "output_type": "execute_result"
    }
   ],
   "source": [
    "# Combine BlockNumber and StreetName into a full address string\n",
    "df['FullStreet'] = df['BlockNumber'].astype(str) + \" \" + df['StreetName']\n",
    "\n",
    "# --- Step 1: Setup the Google Maps Client and Cache ---\n",
    "gmaps = googlemaps.Client(key=GOOGLE_API_KEY)\n",
    "\n",
    "# Try to load cached geocoding results if available.\n",
    "try:\n",
    "    with open(\"geocode_cache_google.pkl\", \"rb\") as f:\n",
    "        street_coords = pickle.load(f)\n",
    "    print(\"Loaded geocode cache.\")\n",
    "except FileNotFoundError:\n",
    "    street_coords = {}\n",
    "    print(\"No cache found; starting fresh.\")\n",
    "\n",
    "def geocode_address(address):\n",
    "    try:\n",
    "        # Append city and state to help geocoding\n",
    "        result = gmaps.geocode(f\"{address}, Charlottesville, VA\")\n",
    "        if result:\n",
    "            lat = result[0]['geometry']['location']['lat']\n",
    "            lon = result[0]['geometry']['location']['lng']\n",
    "            return lat, lon\n",
    "    except Exception as e:\n",
    "        print(f\"Error geocoding {address}: {e}\")\n",
    "    return None, None\n",
    "\n",
    "# --- Step 2: Geocode Only New Addresses ---\n",
    "unique_addresses = df['FullStreet'].unique()\n",
    "for address in unique_addresses:\n",
    "    if address not in street_coords:\n",
    "        lat, lon = geocode_address(address)\n",
    "        street_coords[address] = (lat, lon)\n",
    "        print(f\"Geocoded {address}: {lat}, {lon}\")\n",
    "\n",
    "# Save the updated cache to disk.\n",
    "with open(\"geocode_cache_google.pkl\", \"wb\") as f:\n",
    "    pickle.dump(street_coords, f)\n",
    "    print(\"Geocode cache updated and saved.\")\n",
    "\n",
    "# --- Step 3: Map Coordinates Back to DataFrame ---\n",
    "df['lat'] = df['FullStreet'].map(lambda s: street_coords.get(s, (None, None))[0])\n",
    "df['lon'] = df['FullStreet'].map(lambda s: street_coords.get(s, (None, None))[1])\n",
    "\n",
    "df.head()"
   ]
  },
  {
   "cell_type": "markdown",
   "id": "bad3ca84",
   "metadata": {
    "papermill": {
     "duration": 0.006324,
     "end_time": "2025-04-04T00:59:32.289871",
     "exception": false,
     "start_time": "2025-04-04T00:59:32.283547",
     "status": "completed"
    },
    "tags": []
   },
   "source": [
    "### Neighborhood"
   ]
  },
  {
   "cell_type": "code",
   "execution_count": 10,
   "id": "5ad03a7a",
   "metadata": {
    "execution": {
     "iopub.execute_input": "2025-04-04T00:59:32.303570Z",
     "iopub.status.busy": "2025-04-04T00:59:32.303001Z",
     "iopub.status.idle": "2025-04-04T00:59:32.559751Z",
     "shell.execute_reply": "2025-04-04T00:59:32.559045Z"
    },
    "papermill": {
     "duration": 0.264794,
     "end_time": "2025-04-04T00:59:32.560866",
     "exception": false,
     "start_time": "2025-04-04T00:59:32.296072",
     "status": "completed"
    },
    "tags": []
   },
   "outputs": [
    {
     "name": "stdout",
     "output_type": "stream",
     "text": [
      "Loaded neighborhood cache.\n"
     ]
    },
    {
     "data": {
      "text/html": [
       "<div>\n",
       "<style scoped>\n",
       "    .dataframe tbody tr th:only-of-type {\n",
       "        vertical-align: middle;\n",
       "    }\n",
       "\n",
       "    .dataframe tbody tr th {\n",
       "        vertical-align: top;\n",
       "    }\n",
       "\n",
       "    .dataframe thead th {\n",
       "        text-align: right;\n",
       "    }\n",
       "</style>\n",
       "<table border=\"1\" class=\"dataframe\">\n",
       "  <thead>\n",
       "    <tr style=\"text-align: right;\">\n",
       "      <th></th>\n",
       "      <th>RecordID</th>\n",
       "      <th>Offense</th>\n",
       "      <th>IncidentID</th>\n",
       "      <th>BlockNumber</th>\n",
       "      <th>StreetName</th>\n",
       "      <th>Agency</th>\n",
       "      <th>HourReported</th>\n",
       "      <th>ReportingOfficer</th>\n",
       "      <th>Date</th>\n",
       "      <th>DateString</th>\n",
       "      <th>DayOfWeek</th>\n",
       "      <th>Weekend</th>\n",
       "      <th>Season</th>\n",
       "      <th>HourAMPM</th>\n",
       "      <th>TimeOfDay</th>\n",
       "      <th>FullStreet</th>\n",
       "      <th>lat</th>\n",
       "      <th>lon</th>\n",
       "      <th>neighborhood</th>\n",
       "    </tr>\n",
       "  </thead>\n",
       "  <tbody>\n",
       "    <tr>\n",
       "      <th>0</th>\n",
       "      <td>1</td>\n",
       "      <td>Burglary</td>\n",
       "      <td>202500010416</td>\n",
       "      <td>900</td>\n",
       "      <td>PRESTON AVE</td>\n",
       "      <td>CPD</td>\n",
       "      <td>2037</td>\n",
       "      <td>Carrasco, Julio</td>\n",
       "      <td>2025-04-01 20:37:54</td>\n",
       "      <td>2025-04-01 08:37:54 PM</td>\n",
       "      <td>Tuesday</td>\n",
       "      <td>False</td>\n",
       "      <td>Spring</td>\n",
       "      <td>08:37 PM</td>\n",
       "      <td>Evening</td>\n",
       "      <td>900 PRESTON AVE</td>\n",
       "      <td>38.037011</td>\n",
       "      <td>-78.489464</td>\n",
       "      <td>10th &amp; Page</td>\n",
       "    </tr>\n",
       "    <tr>\n",
       "      <th>1</th>\n",
       "      <td>2</td>\n",
       "      <td>Burglary</td>\n",
       "      <td>202500010417</td>\n",
       "      <td>700</td>\n",
       "      <td>WALKER, 1B</td>\n",
       "      <td>CPD</td>\n",
       "      <td>2036</td>\n",
       "      <td>Venereo, Arturo</td>\n",
       "      <td>2025-04-01 20:36:25</td>\n",
       "      <td>2025-04-01 08:36:25 PM</td>\n",
       "      <td>Tuesday</td>\n",
       "      <td>False</td>\n",
       "      <td>Spring</td>\n",
       "      <td>08:36 PM</td>\n",
       "      <td>Evening</td>\n",
       "      <td>700 WALKER, 1B</td>\n",
       "      <td>38.030445</td>\n",
       "      <td>-78.491372</td>\n",
       "      <td>Fifeville</td>\n",
       "    </tr>\n",
       "    <tr>\n",
       "      <th>2</th>\n",
       "      <td>3</td>\n",
       "      <td>Sex Offense-forcible fondling</td>\n",
       "      <td>202500010418</td>\n",
       "      <td>200</td>\n",
       "      <td>4TH ST NW</td>\n",
       "      <td>CPD</td>\n",
       "      <td>2032</td>\n",
       "      <td>Abdelgayed, Adam</td>\n",
       "      <td>2025-04-01 20:32:43</td>\n",
       "      <td>2025-04-01 08:32:43 PM</td>\n",
       "      <td>Tuesday</td>\n",
       "      <td>False</td>\n",
       "      <td>Spring</td>\n",
       "      <td>08:32 PM</td>\n",
       "      <td>Evening</td>\n",
       "      <td>200 4TH ST NW</td>\n",
       "      <td>38.031474</td>\n",
       "      <td>-78.486204</td>\n",
       "      <td>Starr Hill</td>\n",
       "    </tr>\n",
       "    <tr>\n",
       "      <th>3</th>\n",
       "      <td>4</td>\n",
       "      <td>Lost/FoundProperty</td>\n",
       "      <td>202500010371</td>\n",
       "      <td>200</td>\n",
       "      <td>RIDGE MCINTIRE RD</td>\n",
       "      <td>CPD</td>\n",
       "      <td>1140</td>\n",
       "      <td>O'Briant, Landon</td>\n",
       "      <td>2025-04-01 11:40:19</td>\n",
       "      <td>2025-04-01 11:40:19 AM</td>\n",
       "      <td>Tuesday</td>\n",
       "      <td>False</td>\n",
       "      <td>Spring</td>\n",
       "      <td>11:40 AM</td>\n",
       "      <td>Morning</td>\n",
       "      <td>200 RIDGE MCINTIRE RD</td>\n",
       "      <td>38.031221</td>\n",
       "      <td>-78.483889</td>\n",
       "      <td>Downtown Mall</td>\n",
       "    </tr>\n",
       "    <tr>\n",
       "      <th>4</th>\n",
       "      <td>5</td>\n",
       "      <td>Vandalism</td>\n",
       "      <td>202500010366</td>\n",
       "      <td>1600</td>\n",
       "      <td>6TH ST SE</td>\n",
       "      <td>CPD</td>\n",
       "      <td>1047</td>\n",
       "      <td>Moriarty, Thomas</td>\n",
       "      <td>2025-04-01 10:47:50</td>\n",
       "      <td>2025-04-01 10:47:50 AM</td>\n",
       "      <td>Tuesday</td>\n",
       "      <td>False</td>\n",
       "      <td>Spring</td>\n",
       "      <td>10:47 AM</td>\n",
       "      <td>Morning</td>\n",
       "      <td>1600 6TH ST SE</td>\n",
       "      <td>38.016819</td>\n",
       "      <td>-78.486216</td>\n",
       "      <td>Belmont</td>\n",
       "    </tr>\n",
       "  </tbody>\n",
       "</table>\n",
       "</div>"
      ],
      "text/plain": [
       "   RecordID                        Offense    IncidentID BlockNumber  \\\n",
       "0         1                       Burglary  202500010416         900   \n",
       "1         2                       Burglary  202500010417         700   \n",
       "2         3  Sex Offense-forcible fondling  202500010418         200   \n",
       "3         4             Lost/FoundProperty  202500010371         200   \n",
       "4         5                      Vandalism  202500010366        1600   \n",
       "\n",
       "          StreetName Agency HourReported  ReportingOfficer  \\\n",
       "0        PRESTON AVE    CPD         2037   Carrasco, Julio   \n",
       "1         WALKER, 1B    CPD         2036   Venereo, Arturo   \n",
       "2          4TH ST NW    CPD         2032  Abdelgayed, Adam   \n",
       "3  RIDGE MCINTIRE RD    CPD         1140  O'Briant, Landon   \n",
       "4          6TH ST SE    CPD         1047  Moriarty, Thomas   \n",
       "\n",
       "                 Date              DateString DayOfWeek  Weekend  Season  \\\n",
       "0 2025-04-01 20:37:54  2025-04-01 08:37:54 PM   Tuesday    False  Spring   \n",
       "1 2025-04-01 20:36:25  2025-04-01 08:36:25 PM   Tuesday    False  Spring   \n",
       "2 2025-04-01 20:32:43  2025-04-01 08:32:43 PM   Tuesday    False  Spring   \n",
       "3 2025-04-01 11:40:19  2025-04-01 11:40:19 AM   Tuesday    False  Spring   \n",
       "4 2025-04-01 10:47:50  2025-04-01 10:47:50 AM   Tuesday    False  Spring   \n",
       "\n",
       "   HourAMPM TimeOfDay             FullStreet        lat        lon  \\\n",
       "0  08:37 PM   Evening        900 PRESTON AVE  38.037011 -78.489464   \n",
       "1  08:36 PM   Evening         700 WALKER, 1B  38.030445 -78.491372   \n",
       "2  08:32 PM   Evening          200 4TH ST NW  38.031474 -78.486204   \n",
       "3  11:40 AM   Morning  200 RIDGE MCINTIRE RD  38.031221 -78.483889   \n",
       "4  10:47 AM   Morning         1600 6TH ST SE  38.016819 -78.486216   \n",
       "\n",
       "    neighborhood  \n",
       "0    10th & Page  \n",
       "1      Fifeville  \n",
       "2     Starr Hill  \n",
       "3  Downtown Mall  \n",
       "4        Belmont  "
      ]
     },
     "execution_count": 10,
     "metadata": {},
     "output_type": "execute_result"
    }
   ],
   "source": [
    "# Initialize the Google Maps client.\n",
    "gmaps = googlemaps.Client(key=GOOGLE_API_KEY)\n",
    "\n",
    "# Try to load a persistent neighborhood cache if available.\n",
    "try:\n",
    "    with open(\"neighborhood_cache.pkl\", \"rb\") as f:\n",
    "        neighborhood_cache = pickle.load(f)\n",
    "    print(\"Loaded neighborhood cache.\")\n",
    "except FileNotFoundError:\n",
    "    neighborhood_cache = {}\n",
    "    print(\"No neighborhood cache found; starting fresh.\")\n",
    "\n",
    "def get_neighborhood(lat, lon):\n",
    "    \"\"\"\n",
    "    Reverse geocodes a latitude and longitude to retrieve the neighborhood.\n",
    "    Caches results to speed up subsequent lookups.\n",
    "    \"\"\"\n",
    "    key = (lat, lon)\n",
    "    if key in neighborhood_cache:\n",
    "        return neighborhood_cache[key]\n",
    "    \n",
    "    try:\n",
    "        result = gmaps.reverse_geocode((lat, lon))\n",
    "        if result:\n",
    "            # Look for the 'neighborhood' component in the first result.\n",
    "            for component in result[0]['address_components']:\n",
    "                if 'neighborhood' in component['types']:\n",
    "                    neighborhood = component['long_name']\n",
    "                    neighborhood_cache[key] = neighborhood\n",
    "                    return neighborhood\n",
    "            # If no neighborhood is found, return \"N/A\"\n",
    "            neighborhood_cache[key] = \"N/A\"\n",
    "            return \"N/A\"\n",
    "    except Exception as e:\n",
    "        print(f\"Error getting neighborhood for {lat}, {lon}: {e}\")\n",
    "        return \"N/A\"\n",
    "    \n",
    "    # Pause to respect usage limits.\n",
    "    time.sleep(1)\n",
    "\n",
    "# Example usage: Apply to your DataFrame 'df' that already has 'lat' and 'lon' columns.\n",
    "df['neighborhood'] = df.apply(lambda row: get_neighborhood(row['lat'], row['lon']), axis=1)\n",
    "\n",
    "# Save the updated neighborhood cache.\n",
    "with open(\"neighborhood_cache.pkl\", \"wb\") as f:\n",
    "    pickle.dump(neighborhood_cache, f)\n",
    "\n",
    "df.head()\n"
   ]
  },
  {
   "cell_type": "markdown",
   "id": "9ca52421",
   "metadata": {
    "papermill": {
     "duration": 0.006559,
     "end_time": "2025-04-04T00:59:32.574183",
     "exception": false,
     "start_time": "2025-04-04T00:59:32.567624",
     "status": "completed"
    },
    "tags": []
   },
   "source": [
    "### Zip"
   ]
  },
  {
   "cell_type": "code",
   "execution_count": 11,
   "id": "fe96e0bb",
   "metadata": {
    "execution": {
     "iopub.execute_input": "2025-04-04T00:59:32.588463Z",
     "iopub.status.busy": "2025-04-04T00:59:32.588054Z",
     "iopub.status.idle": "2025-04-04T00:59:32.830890Z",
     "shell.execute_reply": "2025-04-04T00:59:32.830232Z"
    },
    "papermill": {
     "duration": 0.251196,
     "end_time": "2025-04-04T00:59:32.831951",
     "exception": false,
     "start_time": "2025-04-04T00:59:32.580755",
     "status": "completed"
    },
    "tags": []
   },
   "outputs": [
    {
     "name": "stdout",
     "output_type": "stream",
     "text": [
      "Loaded zip cache.\n"
     ]
    },
    {
     "data": {
      "text/html": [
       "<div>\n",
       "<style scoped>\n",
       "    .dataframe tbody tr th:only-of-type {\n",
       "        vertical-align: middle;\n",
       "    }\n",
       "\n",
       "    .dataframe tbody tr th {\n",
       "        vertical-align: top;\n",
       "    }\n",
       "\n",
       "    .dataframe thead th {\n",
       "        text-align: right;\n",
       "    }\n",
       "</style>\n",
       "<table border=\"1\" class=\"dataframe\">\n",
       "  <thead>\n",
       "    <tr style=\"text-align: right;\">\n",
       "      <th></th>\n",
       "      <th>RecordID</th>\n",
       "      <th>Offense</th>\n",
       "      <th>IncidentID</th>\n",
       "      <th>BlockNumber</th>\n",
       "      <th>StreetName</th>\n",
       "      <th>Agency</th>\n",
       "      <th>HourReported</th>\n",
       "      <th>ReportingOfficer</th>\n",
       "      <th>Date</th>\n",
       "      <th>DateString</th>\n",
       "      <th>DayOfWeek</th>\n",
       "      <th>Weekend</th>\n",
       "      <th>Season</th>\n",
       "      <th>HourAMPM</th>\n",
       "      <th>TimeOfDay</th>\n",
       "      <th>FullStreet</th>\n",
       "      <th>lat</th>\n",
       "      <th>lon</th>\n",
       "      <th>neighborhood</th>\n",
       "      <th>zip</th>\n",
       "    </tr>\n",
       "  </thead>\n",
       "  <tbody>\n",
       "    <tr>\n",
       "      <th>0</th>\n",
       "      <td>1</td>\n",
       "      <td>Burglary</td>\n",
       "      <td>202500010416</td>\n",
       "      <td>900</td>\n",
       "      <td>PRESTON AVE</td>\n",
       "      <td>CPD</td>\n",
       "      <td>2037</td>\n",
       "      <td>Carrasco, Julio</td>\n",
       "      <td>2025-04-01 20:37:54</td>\n",
       "      <td>2025-04-01 08:37:54 PM</td>\n",
       "      <td>Tuesday</td>\n",
       "      <td>False</td>\n",
       "      <td>Spring</td>\n",
       "      <td>08:37 PM</td>\n",
       "      <td>Evening</td>\n",
       "      <td>900 PRESTON AVE</td>\n",
       "      <td>38.037011</td>\n",
       "      <td>-78.489464</td>\n",
       "      <td>10th &amp; Page</td>\n",
       "      <td>22903</td>\n",
       "    </tr>\n",
       "    <tr>\n",
       "      <th>1</th>\n",
       "      <td>2</td>\n",
       "      <td>Burglary</td>\n",
       "      <td>202500010417</td>\n",
       "      <td>700</td>\n",
       "      <td>WALKER, 1B</td>\n",
       "      <td>CPD</td>\n",
       "      <td>2036</td>\n",
       "      <td>Venereo, Arturo</td>\n",
       "      <td>2025-04-01 20:36:25</td>\n",
       "      <td>2025-04-01 08:36:25 PM</td>\n",
       "      <td>Tuesday</td>\n",
       "      <td>False</td>\n",
       "      <td>Spring</td>\n",
       "      <td>08:36 PM</td>\n",
       "      <td>Evening</td>\n",
       "      <td>700 WALKER, 1B</td>\n",
       "      <td>38.030445</td>\n",
       "      <td>-78.491372</td>\n",
       "      <td>Fifeville</td>\n",
       "      <td>22903</td>\n",
       "    </tr>\n",
       "    <tr>\n",
       "      <th>2</th>\n",
       "      <td>3</td>\n",
       "      <td>Sex Offense-forcible fondling</td>\n",
       "      <td>202500010418</td>\n",
       "      <td>200</td>\n",
       "      <td>4TH ST NW</td>\n",
       "      <td>CPD</td>\n",
       "      <td>2032</td>\n",
       "      <td>Abdelgayed, Adam</td>\n",
       "      <td>2025-04-01 20:32:43</td>\n",
       "      <td>2025-04-01 08:32:43 PM</td>\n",
       "      <td>Tuesday</td>\n",
       "      <td>False</td>\n",
       "      <td>Spring</td>\n",
       "      <td>08:32 PM</td>\n",
       "      <td>Evening</td>\n",
       "      <td>200 4TH ST NW</td>\n",
       "      <td>38.031474</td>\n",
       "      <td>-78.486204</td>\n",
       "      <td>Starr Hill</td>\n",
       "      <td>22903</td>\n",
       "    </tr>\n",
       "    <tr>\n",
       "      <th>3</th>\n",
       "      <td>4</td>\n",
       "      <td>Lost/FoundProperty</td>\n",
       "      <td>202500010371</td>\n",
       "      <td>200</td>\n",
       "      <td>RIDGE MCINTIRE RD</td>\n",
       "      <td>CPD</td>\n",
       "      <td>1140</td>\n",
       "      <td>O'Briant, Landon</td>\n",
       "      <td>2025-04-01 11:40:19</td>\n",
       "      <td>2025-04-01 11:40:19 AM</td>\n",
       "      <td>Tuesday</td>\n",
       "      <td>False</td>\n",
       "      <td>Spring</td>\n",
       "      <td>11:40 AM</td>\n",
       "      <td>Morning</td>\n",
       "      <td>200 RIDGE MCINTIRE RD</td>\n",
       "      <td>38.031221</td>\n",
       "      <td>-78.483889</td>\n",
       "      <td>Downtown Mall</td>\n",
       "      <td>22903</td>\n",
       "    </tr>\n",
       "    <tr>\n",
       "      <th>4</th>\n",
       "      <td>5</td>\n",
       "      <td>Vandalism</td>\n",
       "      <td>202500010366</td>\n",
       "      <td>1600</td>\n",
       "      <td>6TH ST SE</td>\n",
       "      <td>CPD</td>\n",
       "      <td>1047</td>\n",
       "      <td>Moriarty, Thomas</td>\n",
       "      <td>2025-04-01 10:47:50</td>\n",
       "      <td>2025-04-01 10:47:50 AM</td>\n",
       "      <td>Tuesday</td>\n",
       "      <td>False</td>\n",
       "      <td>Spring</td>\n",
       "      <td>10:47 AM</td>\n",
       "      <td>Morning</td>\n",
       "      <td>1600 6TH ST SE</td>\n",
       "      <td>38.016819</td>\n",
       "      <td>-78.486216</td>\n",
       "      <td>Belmont</td>\n",
       "      <td>22903</td>\n",
       "    </tr>\n",
       "  </tbody>\n",
       "</table>\n",
       "</div>"
      ],
      "text/plain": [
       "   RecordID                        Offense    IncidentID BlockNumber  \\\n",
       "0         1                       Burglary  202500010416         900   \n",
       "1         2                       Burglary  202500010417         700   \n",
       "2         3  Sex Offense-forcible fondling  202500010418         200   \n",
       "3         4             Lost/FoundProperty  202500010371         200   \n",
       "4         5                      Vandalism  202500010366        1600   \n",
       "\n",
       "          StreetName Agency HourReported  ReportingOfficer  \\\n",
       "0        PRESTON AVE    CPD         2037   Carrasco, Julio   \n",
       "1         WALKER, 1B    CPD         2036   Venereo, Arturo   \n",
       "2          4TH ST NW    CPD         2032  Abdelgayed, Adam   \n",
       "3  RIDGE MCINTIRE RD    CPD         1140  O'Briant, Landon   \n",
       "4          6TH ST SE    CPD         1047  Moriarty, Thomas   \n",
       "\n",
       "                 Date              DateString DayOfWeek  Weekend  Season  \\\n",
       "0 2025-04-01 20:37:54  2025-04-01 08:37:54 PM   Tuesday    False  Spring   \n",
       "1 2025-04-01 20:36:25  2025-04-01 08:36:25 PM   Tuesday    False  Spring   \n",
       "2 2025-04-01 20:32:43  2025-04-01 08:32:43 PM   Tuesday    False  Spring   \n",
       "3 2025-04-01 11:40:19  2025-04-01 11:40:19 AM   Tuesday    False  Spring   \n",
       "4 2025-04-01 10:47:50  2025-04-01 10:47:50 AM   Tuesday    False  Spring   \n",
       "\n",
       "   HourAMPM TimeOfDay             FullStreet        lat        lon  \\\n",
       "0  08:37 PM   Evening        900 PRESTON AVE  38.037011 -78.489464   \n",
       "1  08:36 PM   Evening         700 WALKER, 1B  38.030445 -78.491372   \n",
       "2  08:32 PM   Evening          200 4TH ST NW  38.031474 -78.486204   \n",
       "3  11:40 AM   Morning  200 RIDGE MCINTIRE RD  38.031221 -78.483889   \n",
       "4  10:47 AM   Morning         1600 6TH ST SE  38.016819 -78.486216   \n",
       "\n",
       "    neighborhood    zip  \n",
       "0    10th & Page  22903  \n",
       "1      Fifeville  22903  \n",
       "2     Starr Hill  22903  \n",
       "3  Downtown Mall  22903  \n",
       "4        Belmont  22903  "
      ]
     },
     "execution_count": 11,
     "metadata": {},
     "output_type": "execute_result"
    }
   ],
   "source": [
    "# Initialize the geocoder.\n",
    "geolocator = Nominatim(user_agent=\"zip_lookup\")\n",
    "\n",
    "# Try to load a persistent ZIP cache if available.\n",
    "try:\n",
    "    with open(\"zip_cache.pkl\", \"rb\") as f:\n",
    "        zip_cache = pickle.load(f)\n",
    "    print(\"Loaded zip cache.\")\n",
    "except FileNotFoundError:\n",
    "    zip_cache = {}\n",
    "    print(\"No zip cache found; starting fresh.\")\n",
    "\n",
    "def get_zip(lat, lon):\n",
    "    \"\"\"\n",
    "    Reverse geocodes a latitude and longitude to retrieve the ZIP code.\n",
    "    Caches results to speed up subsequent lookups.\n",
    "    \"\"\"\n",
    "    key = (lat, lon)\n",
    "    if key in zip_cache:\n",
    "        return zip_cache[key]\n",
    "    \n",
    "    try:\n",
    "        location = geolocator.reverse((lat, lon), exactly_one=True, timeout=10)\n",
    "        address = location.raw.get('address', {})\n",
    "        postal_code = address.get('postcode', \"N/A\")\n",
    "    except Exception as e:\n",
    "        print(f\"Error getting ZIP for {lat}, {lon}: {e}\")\n",
    "        postal_code = \"N/A\"\n",
    "    \n",
    "    zip_cache[key] = postal_code\n",
    "    # Pause to respect the usage policy.\n",
    "    time.sleep(1)\n",
    "    return postal_code\n",
    "\n",
    "# Apply the function to each row in the DataFrame.\n",
    "df['zip'] = df.apply(lambda row: get_zip(row['lat'], row['lon']), axis=1)\n",
    "\n",
    "# Save the updated ZIP cache.\n",
    "with open(\"zip_cache.pkl\", \"wb\") as f:\n",
    "    pickle.dump(zip_cache, f)\n",
    "\n",
    "df.head()\n"
   ]
  },
  {
   "cell_type": "code",
   "execution_count": 12,
   "id": "76967f75",
   "metadata": {
    "execution": {
     "iopub.execute_input": "2025-04-04T00:59:32.846925Z",
     "iopub.status.busy": "2025-04-04T00:59:32.846524Z",
     "iopub.status.idle": "2025-04-04T00:59:32.870529Z",
     "shell.execute_reply": "2025-04-04T00:59:32.869979Z"
    },
    "papermill": {
     "duration": 0.032523,
     "end_time": "2025-04-04T00:59:32.871521",
     "exception": false,
     "start_time": "2025-04-04T00:59:32.838998",
     "status": "completed"
    },
    "tags": []
   },
   "outputs": [
    {
     "name": "stdout",
     "output_type": "stream",
     "text": [
      "                  MissingCount  MissingPercentage\n",
      "RecordID                     0               0.00\n",
      "Offense                      0               0.00\n",
      "IncidentID                   0               0.00\n",
      "BlockNumber                  0               0.00\n",
      "StreetName                   0               0.00\n",
      "Agency                       0               0.00\n",
      "HourReported                 0               0.00\n",
      "ReportingOfficer            18               0.07\n",
      "Date                         0               0.00\n",
      "DateString                   0               0.00\n",
      "DayOfWeek                    0               0.00\n",
      "Weekend                      0               0.00\n",
      "Season                       0               0.00\n",
      "HourAMPM                     0               0.00\n",
      "TimeOfDay                    0               0.00\n",
      "FullStreet                   0               0.00\n",
      "lat                          0               0.00\n",
      "lon                          0               0.00\n",
      "neighborhood                 0               0.00\n",
      "zip                          0               0.00\n"
     ]
    }
   ],
   "source": [
    "missing_info = missing_percentage(df)\n",
    "print(missing_info)\n"
   ]
  },
  {
   "cell_type": "code",
   "execution_count": 13,
   "id": "dd50a45a",
   "metadata": {
    "execution": {
     "iopub.execute_input": "2025-04-04T00:59:32.886644Z",
     "iopub.status.busy": "2025-04-04T00:59:32.886206Z",
     "iopub.status.idle": "2025-04-04T00:59:32.909755Z",
     "shell.execute_reply": "2025-04-04T00:59:32.909067Z"
    },
    "papermill": {
     "duration": 0.032241,
     "end_time": "2025-04-04T00:59:32.910842",
     "exception": false,
     "start_time": "2025-04-04T00:59:32.878601",
     "status": "completed"
    },
    "tags": []
   },
   "outputs": [
    {
     "name": "stdout",
     "output_type": "stream",
     "text": [
      "<class 'pandas.core.frame.DataFrame'>\n",
      "RangeIndex: 25109 entries, 0 to 25108\n",
      "Data columns (total 20 columns):\n",
      " #   Column            Non-Null Count  Dtype         \n",
      "---  ------            --------------  -----         \n",
      " 0   RecordID          25109 non-null  int64         \n",
      " 1   Offense           25109 non-null  object        \n",
      " 2   IncidentID        25109 non-null  object        \n",
      " 3   BlockNumber       25109 non-null  object        \n",
      " 4   StreetName        25109 non-null  object        \n",
      " 5   Agency            25109 non-null  object        \n",
      " 6   HourReported      25109 non-null  object        \n",
      " 7   ReportingOfficer  25091 non-null  object        \n",
      " 8   Date              25109 non-null  datetime64[ns]\n",
      " 9   DateString        25109 non-null  object        \n",
      " 10  DayOfWeek         25109 non-null  object        \n",
      " 11  Weekend           25109 non-null  bool          \n",
      " 12  Season            25109 non-null  object        \n",
      " 13  HourAMPM          25109 non-null  object        \n",
      " 14  TimeOfDay         25109 non-null  object        \n",
      " 15  FullStreet        25109 non-null  object        \n",
      " 16  lat               25109 non-null  float64       \n",
      " 17  lon               25109 non-null  float64       \n",
      " 18  neighborhood      25109 non-null  object        \n",
      " 19  zip               25109 non-null  object        \n",
      "dtypes: bool(1), datetime64[ns](1), float64(2), int64(1), object(15)\n",
      "memory usage: 3.7+ MB\n"
     ]
    }
   ],
   "source": [
    "df.info()"
   ]
  },
  {
   "cell_type": "code",
   "execution_count": 14,
   "id": "bddf036e",
   "metadata": {
    "execution": {
     "iopub.execute_input": "2025-04-04T00:59:32.925908Z",
     "iopub.status.busy": "2025-04-04T00:59:32.925528Z",
     "iopub.status.idle": "2025-04-04T00:59:32.963938Z",
     "shell.execute_reply": "2025-04-04T00:59:32.963262Z"
    },
    "papermill": {
     "duration": 0.047077,
     "end_time": "2025-04-04T00:59:32.964979",
     "exception": false,
     "start_time": "2025-04-04T00:59:32.917902",
     "status": "completed"
    },
    "tags": []
   },
   "outputs": [
    {
     "data": {
      "text/html": [
       "<div>\n",
       "<style scoped>\n",
       "    .dataframe tbody tr th:only-of-type {\n",
       "        vertical-align: middle;\n",
       "    }\n",
       "\n",
       "    .dataframe tbody tr th {\n",
       "        vertical-align: top;\n",
       "    }\n",
       "\n",
       "    .dataframe thead th {\n",
       "        text-align: right;\n",
       "    }\n",
       "</style>\n",
       "<table border=\"1\" class=\"dataframe\">\n",
       "  <thead>\n",
       "    <tr style=\"text-align: right;\">\n",
       "      <th></th>\n",
       "      <th>RecordID</th>\n",
       "      <th>Offense</th>\n",
       "      <th>IncidentID</th>\n",
       "      <th>Agency</th>\n",
       "      <th>ReportingOfficer</th>\n",
       "      <th>Date</th>\n",
       "      <th>DayOfWeek</th>\n",
       "      <th>Weekend</th>\n",
       "      <th>Season</th>\n",
       "      <th>TimeOfDay</th>\n",
       "      <th>FullStreet</th>\n",
       "      <th>lat</th>\n",
       "      <th>lon</th>\n",
       "      <th>neighborhood</th>\n",
       "      <th>zip</th>\n",
       "    </tr>\n",
       "  </thead>\n",
       "  <tbody>\n",
       "    <tr>\n",
       "      <th>0</th>\n",
       "      <td>1</td>\n",
       "      <td>Burglary</td>\n",
       "      <td>202500010416</td>\n",
       "      <td>CPD</td>\n",
       "      <td>Carrasco, Julio</td>\n",
       "      <td>2025-04-01 20:37:54</td>\n",
       "      <td>Tuesday</td>\n",
       "      <td>False</td>\n",
       "      <td>Spring</td>\n",
       "      <td>Evening</td>\n",
       "      <td>900 PRESTON AVE</td>\n",
       "      <td>38.037011</td>\n",
       "      <td>-78.489464</td>\n",
       "      <td>10th &amp; Page</td>\n",
       "      <td>22903</td>\n",
       "    </tr>\n",
       "    <tr>\n",
       "      <th>1</th>\n",
       "      <td>2</td>\n",
       "      <td>Burglary</td>\n",
       "      <td>202500010417</td>\n",
       "      <td>CPD</td>\n",
       "      <td>Venereo, Arturo</td>\n",
       "      <td>2025-04-01 20:36:25</td>\n",
       "      <td>Tuesday</td>\n",
       "      <td>False</td>\n",
       "      <td>Spring</td>\n",
       "      <td>Evening</td>\n",
       "      <td>700 WALKER, 1B</td>\n",
       "      <td>38.030445</td>\n",
       "      <td>-78.491372</td>\n",
       "      <td>Fifeville</td>\n",
       "      <td>22903</td>\n",
       "    </tr>\n",
       "    <tr>\n",
       "      <th>2</th>\n",
       "      <td>3</td>\n",
       "      <td>Sex Offense-forcible fondling</td>\n",
       "      <td>202500010418</td>\n",
       "      <td>CPD</td>\n",
       "      <td>Abdelgayed, Adam</td>\n",
       "      <td>2025-04-01 20:32:43</td>\n",
       "      <td>Tuesday</td>\n",
       "      <td>False</td>\n",
       "      <td>Spring</td>\n",
       "      <td>Evening</td>\n",
       "      <td>200 4TH ST NW</td>\n",
       "      <td>38.031474</td>\n",
       "      <td>-78.486204</td>\n",
       "      <td>Starr Hill</td>\n",
       "      <td>22903</td>\n",
       "    </tr>\n",
       "    <tr>\n",
       "      <th>3</th>\n",
       "      <td>4</td>\n",
       "      <td>Lost/FoundProperty</td>\n",
       "      <td>202500010371</td>\n",
       "      <td>CPD</td>\n",
       "      <td>O'Briant, Landon</td>\n",
       "      <td>2025-04-01 11:40:19</td>\n",
       "      <td>Tuesday</td>\n",
       "      <td>False</td>\n",
       "      <td>Spring</td>\n",
       "      <td>Morning</td>\n",
       "      <td>200 RIDGE MCINTIRE RD</td>\n",
       "      <td>38.031221</td>\n",
       "      <td>-78.483889</td>\n",
       "      <td>Downtown Mall</td>\n",
       "      <td>22903</td>\n",
       "    </tr>\n",
       "    <tr>\n",
       "      <th>4</th>\n",
       "      <td>5</td>\n",
       "      <td>Vandalism</td>\n",
       "      <td>202500010366</td>\n",
       "      <td>CPD</td>\n",
       "      <td>Moriarty, Thomas</td>\n",
       "      <td>2025-04-01 10:47:50</td>\n",
       "      <td>Tuesday</td>\n",
       "      <td>False</td>\n",
       "      <td>Spring</td>\n",
       "      <td>Morning</td>\n",
       "      <td>1600 6TH ST SE</td>\n",
       "      <td>38.016819</td>\n",
       "      <td>-78.486216</td>\n",
       "      <td>Belmont</td>\n",
       "      <td>22903</td>\n",
       "    </tr>\n",
       "  </tbody>\n",
       "</table>\n",
       "</div>"
      ],
      "text/plain": [
       "   RecordID                        Offense    IncidentID Agency  \\\n",
       "0         1                       Burglary  202500010416    CPD   \n",
       "1         2                       Burglary  202500010417    CPD   \n",
       "2         3  Sex Offense-forcible fondling  202500010418    CPD   \n",
       "3         4             Lost/FoundProperty  202500010371    CPD   \n",
       "4         5                      Vandalism  202500010366    CPD   \n",
       "\n",
       "   ReportingOfficer                Date DayOfWeek  Weekend  Season TimeOfDay  \\\n",
       "0   Carrasco, Julio 2025-04-01 20:37:54   Tuesday    False  Spring   Evening   \n",
       "1   Venereo, Arturo 2025-04-01 20:36:25   Tuesday    False  Spring   Evening   \n",
       "2  Abdelgayed, Adam 2025-04-01 20:32:43   Tuesday    False  Spring   Evening   \n",
       "3  O'Briant, Landon 2025-04-01 11:40:19   Tuesday    False  Spring   Morning   \n",
       "4  Moriarty, Thomas 2025-04-01 10:47:50   Tuesday    False  Spring   Morning   \n",
       "\n",
       "              FullStreet        lat        lon   neighborhood    zip  \n",
       "0        900 PRESTON AVE  38.037011 -78.489464    10th & Page  22903  \n",
       "1         700 WALKER, 1B  38.030445 -78.491372      Fifeville  22903  \n",
       "2          200 4TH ST NW  38.031474 -78.486204     Starr Hill  22903  \n",
       "3  200 RIDGE MCINTIRE RD  38.031221 -78.483889  Downtown Mall  22903  \n",
       "4         1600 6TH ST SE  38.016819 -78.486216        Belmont  22903  "
      ]
     },
     "execution_count": 14,
     "metadata": {},
     "output_type": "execute_result"
    }
   ],
   "source": [
    "# Now drop the original BlockNumber and StreetName columns\n",
    "df.drop(columns=['BlockNumber', 'StreetName','HourAMPM','HourReported','DateString'], inplace=True)\n",
    "df[\"zip\"] = df[\"zip\"].astype(str)\n",
    "\n",
    "# Fill all missing values in the DataFrame with \"N/A\"\n",
    "df.replace({None: \"N/A\", np.nan: \"N/A\", \"\": \"N/A\"}, inplace=True)\n",
    "df.head()"
   ]
  },
  {
   "cell_type": "code",
   "execution_count": 15,
   "id": "7de4321f",
   "metadata": {
    "execution": {
     "iopub.execute_input": "2025-04-04T00:59:32.980909Z",
     "iopub.status.busy": "2025-04-04T00:59:32.980392Z",
     "iopub.status.idle": "2025-04-04T00:59:32.994544Z",
     "shell.execute_reply": "2025-04-04T00:59:32.993897Z"
    },
    "papermill": {
     "duration": 0.023163,
     "end_time": "2025-04-04T00:59:32.995640",
     "exception": false,
     "start_time": "2025-04-04T00:59:32.972477",
     "status": "completed"
    },
    "tags": []
   },
   "outputs": [
    {
     "name": "stdout",
     "output_type": "stream",
     "text": [
      "                  MissingCount  MissingPercentage\n",
      "RecordID                     0                0.0\n",
      "Offense                      0                0.0\n",
      "IncidentID                   0                0.0\n",
      "Agency                       0                0.0\n",
      "ReportingOfficer             0                0.0\n",
      "Date                         0                0.0\n",
      "DayOfWeek                    0                0.0\n",
      "Weekend                      0                0.0\n",
      "Season                       0                0.0\n",
      "TimeOfDay                    0                0.0\n",
      "FullStreet                   0                0.0\n",
      "lat                          0                0.0\n",
      "lon                          0                0.0\n",
      "neighborhood                 0                0.0\n",
      "zip                          0                0.0\n"
     ]
    }
   ],
   "source": [
    "missing_info = missing_percentage(df)\n",
    "print(missing_info)"
   ]
  },
  {
   "cell_type": "code",
   "execution_count": 16,
   "id": "a40535f1",
   "metadata": {
    "execution": {
     "iopub.execute_input": "2025-04-04T00:59:33.011767Z",
     "iopub.status.busy": "2025-04-04T00:59:33.011253Z",
     "iopub.status.idle": "2025-04-04T00:59:33.015581Z",
     "shell.execute_reply": "2025-04-04T00:59:33.015053Z"
    },
    "papermill": {
     "duration": 0.013482,
     "end_time": "2025-04-04T00:59:33.016585",
     "exception": false,
     "start_time": "2025-04-04T00:59:33.003103",
     "status": "completed"
    },
    "tags": []
   },
   "outputs": [
    {
     "data": {
      "text/plain": [
       "Index(['RecordID', 'Offense', 'IncidentID', 'Agency', 'ReportingOfficer',\n",
       "       'Date', 'DayOfWeek', 'Weekend', 'Season', 'TimeOfDay', 'FullStreet',\n",
       "       'lat', 'lon', 'neighborhood', 'zip'],\n",
       "      dtype='object')"
      ]
     },
     "execution_count": 16,
     "metadata": {},
     "output_type": "execute_result"
    }
   ],
   "source": [
    "df.columns"
   ]
  },
  {
   "cell_type": "code",
   "execution_count": 17,
   "id": "b8fbef56",
   "metadata": {
    "execution": {
     "iopub.execute_input": "2025-04-04T00:59:33.032219Z",
     "iopub.status.busy": "2025-04-04T00:59:33.031985Z",
     "iopub.status.idle": "2025-04-04T00:59:33.046637Z",
     "shell.execute_reply": "2025-04-04T00:59:33.046089Z"
    },
    "papermill": {
     "duration": 0.023648,
     "end_time": "2025-04-04T00:59:33.047665",
     "exception": false,
     "start_time": "2025-04-04T00:59:33.024017",
     "status": "completed"
    },
    "tags": []
   },
   "outputs": [
    {
     "name": "stdout",
     "output_type": "stream",
     "text": [
      "<class 'pandas.core.frame.DataFrame'>\n",
      "RangeIndex: 25109 entries, 0 to 25108\n",
      "Data columns (total 15 columns):\n",
      " #   Column            Non-Null Count  Dtype         \n",
      "---  ------            --------------  -----         \n",
      " 0   RecordID          25109 non-null  int64         \n",
      " 1   Offense           25109 non-null  object        \n",
      " 2   IncidentID        25109 non-null  object        \n",
      " 3   Agency            25109 non-null  object        \n",
      " 4   ReportingOfficer  25109 non-null  object        \n",
      " 5   Date              25109 non-null  datetime64[ns]\n",
      " 6   DayOfWeek         25109 non-null  object        \n",
      " 7   Weekend           25109 non-null  bool          \n",
      " 8   Season            25109 non-null  object        \n",
      " 9   TimeOfDay         25109 non-null  object        \n",
      " 10  FullStreet        25109 non-null  object        \n",
      " 11  lat               25109 non-null  float64       \n",
      " 12  lon               25109 non-null  float64       \n",
      " 13  neighborhood      25109 non-null  object        \n",
      " 14  zip               25109 non-null  object        \n",
      "dtypes: bool(1), datetime64[ns](1), float64(2), int64(1), object(10)\n",
      "memory usage: 2.7+ MB\n"
     ]
    }
   ],
   "source": [
    "df.info()"
   ]
  },
  {
   "cell_type": "markdown",
   "id": "333afa2a",
   "metadata": {
    "papermill": {
     "duration": 0.007563,
     "end_time": "2025-04-04T00:59:33.062907",
     "exception": false,
     "start_time": "2025-04-04T00:59:33.055344",
     "status": "completed"
    },
    "tags": []
   },
   "source": [
    "### Export Clean Data"
   ]
  },
  {
   "cell_type": "code",
   "execution_count": 18,
   "id": "3acb7ba8",
   "metadata": {
    "execution": {
     "iopub.execute_input": "2025-04-04T00:59:33.079319Z",
     "iopub.status.busy": "2025-04-04T00:59:33.078930Z",
     "iopub.status.idle": "2025-04-04T00:59:42.173723Z",
     "shell.execute_reply": "2025-04-04T00:59:42.173027Z"
    },
    "papermill": {
     "duration": 9.104019,
     "end_time": "2025-04-04T00:59:42.174691",
     "exception": false,
     "start_time": "2025-04-04T00:59:33.070672",
     "status": "completed"
    },
    "tags": []
   },
   "outputs": [
    {
     "name": "stdout",
     "output_type": "stream",
     "text": [
      "Project Root: /home/runner/work/crime-data/crime-data\n"
     ]
    },
    {
     "name": "stdout",
     "output_type": "stream",
     "text": [
      "Data saved to: /home/runner/work/crime-data/crime-data/data/charlottesville_crime_incidents.csv\n"
     ]
    },
    {
     "name": "stdout",
     "output_type": "stream",
     "text": [
      "Excel saved to: /home/runner/work/crime-data/crime-data/data/charlottesville_crime_incidents.xlsx\n"
     ]
    }
   ],
   "source": [
    "# Determine the project root (assuming papermill is run from the repository root)\n",
    "project_root = os.getcwd()\n",
    "print(\"Project Root:\", project_root)\n",
    "\n",
    "# Set the data directory within the project root\n",
    "data_dir = os.path.join(project_root, \"data\")\n",
    "\n",
    "# Ensure the \"data\" directory exists (create it if it doesn't)\n",
    "if not os.path.exists(data_dir):\n",
    "    os.makedirs(data_dir)\n",
    "\n",
    "# Export the DataFrame to CSV in the \"data\" folder located in the project root\n",
    "csv_path = os.path.join(data_dir, \"charlottesville_crime_incidents.csv\")\n",
    "df.to_csv(csv_path, index=False)\n",
    "print(\"Data saved to:\", csv_path)\n",
    "\n",
    "# Construct the path to your Excel file\n",
    "excel_path = os.path.join(data_dir, \"charlottesville_crime_incidents.xlsx\")\n",
    "\n",
    "# Export the DataFrame to Excel\n",
    "df.to_excel(excel_path, index=False)\n",
    "print(\"Excel saved to:\", excel_path)\n"
   ]
  },
  {
   "cell_type": "markdown",
   "id": "be6e60fb",
   "metadata": {
    "papermill": {
     "duration": 0.007813,
     "end_time": "2025-04-04T00:59:42.190805",
     "exception": false,
     "start_time": "2025-04-04T00:59:42.182992",
     "status": "completed"
    },
    "tags": []
   },
   "source": [
    "## Predictive Analytics"
   ]
  },
  {
   "cell_type": "code",
   "execution_count": 19,
   "id": "ffd84c6e",
   "metadata": {
    "execution": {
     "iopub.execute_input": "2025-04-04T00:59:42.207647Z",
     "iopub.status.busy": "2025-04-04T00:59:42.207109Z",
     "iopub.status.idle": "2025-04-04T00:59:42.219669Z",
     "shell.execute_reply": "2025-04-04T00:59:42.219152Z"
    },
    "papermill": {
     "duration": 0.022086,
     "end_time": "2025-04-04T00:59:42.220691",
     "exception": false,
     "start_time": "2025-04-04T00:59:42.198605",
     "status": "completed"
    },
    "tags": []
   },
   "outputs": [
    {
     "data": {
      "text/html": [
       "<div>\n",
       "<style scoped>\n",
       "    .dataframe tbody tr th:only-of-type {\n",
       "        vertical-align: middle;\n",
       "    }\n",
       "\n",
       "    .dataframe tbody tr th {\n",
       "        vertical-align: top;\n",
       "    }\n",
       "\n",
       "    .dataframe thead th {\n",
       "        text-align: right;\n",
       "    }\n",
       "</style>\n",
       "<table border=\"1\" class=\"dataframe\">\n",
       "  <thead>\n",
       "    <tr style=\"text-align: right;\">\n",
       "      <th></th>\n",
       "      <th>RecordID</th>\n",
       "      <th>Offense</th>\n",
       "      <th>IncidentID</th>\n",
       "      <th>Agency</th>\n",
       "      <th>ReportingOfficer</th>\n",
       "      <th>Date</th>\n",
       "      <th>DayOfWeek</th>\n",
       "      <th>Weekend</th>\n",
       "      <th>Season</th>\n",
       "      <th>TimeOfDay</th>\n",
       "      <th>FullStreet</th>\n",
       "      <th>lat</th>\n",
       "      <th>lon</th>\n",
       "      <th>neighborhood</th>\n",
       "      <th>zip</th>\n",
       "    </tr>\n",
       "  </thead>\n",
       "  <tbody>\n",
       "    <tr>\n",
       "      <th>0</th>\n",
       "      <td>1</td>\n",
       "      <td>Burglary</td>\n",
       "      <td>202500010416</td>\n",
       "      <td>CPD</td>\n",
       "      <td>Carrasco, Julio</td>\n",
       "      <td>2025-04-01 20:37:54</td>\n",
       "      <td>Tuesday</td>\n",
       "      <td>False</td>\n",
       "      <td>Spring</td>\n",
       "      <td>Evening</td>\n",
       "      <td>900 PRESTON AVE</td>\n",
       "      <td>38.037011</td>\n",
       "      <td>-78.489464</td>\n",
       "      <td>10th &amp; Page</td>\n",
       "      <td>22903</td>\n",
       "    </tr>\n",
       "    <tr>\n",
       "      <th>1</th>\n",
       "      <td>2</td>\n",
       "      <td>Burglary</td>\n",
       "      <td>202500010417</td>\n",
       "      <td>CPD</td>\n",
       "      <td>Venereo, Arturo</td>\n",
       "      <td>2025-04-01 20:36:25</td>\n",
       "      <td>Tuesday</td>\n",
       "      <td>False</td>\n",
       "      <td>Spring</td>\n",
       "      <td>Evening</td>\n",
       "      <td>700 WALKER, 1B</td>\n",
       "      <td>38.030445</td>\n",
       "      <td>-78.491372</td>\n",
       "      <td>Fifeville</td>\n",
       "      <td>22903</td>\n",
       "    </tr>\n",
       "    <tr>\n",
       "      <th>2</th>\n",
       "      <td>3</td>\n",
       "      <td>Sex Offense-forcible fondling</td>\n",
       "      <td>202500010418</td>\n",
       "      <td>CPD</td>\n",
       "      <td>Abdelgayed, Adam</td>\n",
       "      <td>2025-04-01 20:32:43</td>\n",
       "      <td>Tuesday</td>\n",
       "      <td>False</td>\n",
       "      <td>Spring</td>\n",
       "      <td>Evening</td>\n",
       "      <td>200 4TH ST NW</td>\n",
       "      <td>38.031474</td>\n",
       "      <td>-78.486204</td>\n",
       "      <td>Starr Hill</td>\n",
       "      <td>22903</td>\n",
       "    </tr>\n",
       "    <tr>\n",
       "      <th>3</th>\n",
       "      <td>4</td>\n",
       "      <td>Lost/FoundProperty</td>\n",
       "      <td>202500010371</td>\n",
       "      <td>CPD</td>\n",
       "      <td>O'Briant, Landon</td>\n",
       "      <td>2025-04-01 11:40:19</td>\n",
       "      <td>Tuesday</td>\n",
       "      <td>False</td>\n",
       "      <td>Spring</td>\n",
       "      <td>Morning</td>\n",
       "      <td>200 RIDGE MCINTIRE RD</td>\n",
       "      <td>38.031221</td>\n",
       "      <td>-78.483889</td>\n",
       "      <td>Downtown Mall</td>\n",
       "      <td>22903</td>\n",
       "    </tr>\n",
       "    <tr>\n",
       "      <th>4</th>\n",
       "      <td>5</td>\n",
       "      <td>Vandalism</td>\n",
       "      <td>202500010366</td>\n",
       "      <td>CPD</td>\n",
       "      <td>Moriarty, Thomas</td>\n",
       "      <td>2025-04-01 10:47:50</td>\n",
       "      <td>Tuesday</td>\n",
       "      <td>False</td>\n",
       "      <td>Spring</td>\n",
       "      <td>Morning</td>\n",
       "      <td>1600 6TH ST SE</td>\n",
       "      <td>38.016819</td>\n",
       "      <td>-78.486216</td>\n",
       "      <td>Belmont</td>\n",
       "      <td>22903</td>\n",
       "    </tr>\n",
       "  </tbody>\n",
       "</table>\n",
       "</div>"
      ],
      "text/plain": [
       "   RecordID                        Offense    IncidentID Agency  \\\n",
       "0         1                       Burglary  202500010416    CPD   \n",
       "1         2                       Burglary  202500010417    CPD   \n",
       "2         3  Sex Offense-forcible fondling  202500010418    CPD   \n",
       "3         4             Lost/FoundProperty  202500010371    CPD   \n",
       "4         5                      Vandalism  202500010366    CPD   \n",
       "\n",
       "   ReportingOfficer                Date DayOfWeek  Weekend  Season TimeOfDay  \\\n",
       "0   Carrasco, Julio 2025-04-01 20:37:54   Tuesday    False  Spring   Evening   \n",
       "1   Venereo, Arturo 2025-04-01 20:36:25   Tuesday    False  Spring   Evening   \n",
       "2  Abdelgayed, Adam 2025-04-01 20:32:43   Tuesday    False  Spring   Evening   \n",
       "3  O'Briant, Landon 2025-04-01 11:40:19   Tuesday    False  Spring   Morning   \n",
       "4  Moriarty, Thomas 2025-04-01 10:47:50   Tuesday    False  Spring   Morning   \n",
       "\n",
       "              FullStreet        lat        lon   neighborhood    zip  \n",
       "0        900 PRESTON AVE  38.037011 -78.489464    10th & Page  22903  \n",
       "1         700 WALKER, 1B  38.030445 -78.491372      Fifeville  22903  \n",
       "2          200 4TH ST NW  38.031474 -78.486204     Starr Hill  22903  \n",
       "3  200 RIDGE MCINTIRE RD  38.031221 -78.483889  Downtown Mall  22903  \n",
       "4         1600 6TH ST SE  38.016819 -78.486216        Belmont  22903  "
      ]
     },
     "execution_count": 19,
     "metadata": {},
     "output_type": "execute_result"
    }
   ],
   "source": [
    "df.head()"
   ]
  },
  {
   "cell_type": "code",
   "execution_count": 20,
   "id": "984547e0",
   "metadata": {
    "execution": {
     "iopub.execute_input": "2025-04-04T00:59:42.260051Z",
     "iopub.status.busy": "2025-04-04T00:59:42.259556Z",
     "iopub.status.idle": "2025-04-04T00:59:42.264346Z",
     "shell.execute_reply": "2025-04-04T00:59:42.263781Z"
    },
    "papermill": {
     "duration": 0.014848,
     "end_time": "2025-04-04T00:59:42.265329",
     "exception": false,
     "start_time": "2025-04-04T00:59:42.250481",
     "status": "completed"
    },
    "tags": []
   },
   "outputs": [
    {
     "data": {
      "text/plain": [
       "Index(['RecordID', 'Offense', 'IncidentID', 'Agency', 'ReportingOfficer',\n",
       "       'Date', 'DayOfWeek', 'Weekend', 'Season', 'TimeOfDay', 'FullStreet',\n",
       "       'lat', 'lon', 'neighborhood', 'zip'],\n",
       "      dtype='object')"
      ]
     },
     "execution_count": 20,
     "metadata": {},
     "output_type": "execute_result"
    }
   ],
   "source": [
    "df.columns"
   ]
  },
  {
   "cell_type": "markdown",
   "id": "ff09355f",
   "metadata": {
    "papermill": {
     "duration": 0.008063,
     "end_time": "2025-04-04T00:59:42.281574",
     "exception": false,
     "start_time": "2025-04-04T00:59:42.273511",
     "status": "completed"
    },
    "tags": []
   },
   "source": [
    "### Data Preparation\n",
    "\n",
    "We need to ensure the data is in the correct format for modeling and can handle missing values, categorical variables, and dates. Here's how to prepare your data:"
   ]
  },
  {
   "cell_type": "code",
   "execution_count": 21,
   "id": "573131da",
   "metadata": {
    "execution": {
     "iopub.execute_input": "2025-04-04T00:59:42.300104Z",
     "iopub.status.busy": "2025-04-04T00:59:42.299629Z",
     "iopub.status.idle": "2025-04-04T00:59:44.384699Z",
     "shell.execute_reply": "2025-04-04T00:59:44.383863Z"
    },
    "papermill": {
     "duration": 2.096222,
     "end_time": "2025-04-04T00:59:44.386089",
     "exception": false,
     "start_time": "2025-04-04T00:59:42.289867",
     "status": "completed"
    },
    "tags": []
   },
   "outputs": [],
   "source": [
    "import pandas as pd\n",
    "from sklearn.model_selection import train_test_split\n",
    "from sklearn.preprocessing import OneHotEncoder, LabelEncoder\n",
    "from sklearn.ensemble import RandomForestClassifier\n",
    "from sklearn.linear_model import LogisticRegression\n",
    "from sklearn.tree import DecisionTreeClassifier\n",
    "from sklearn.metrics import classification_report, accuracy_score\n",
    "import seaborn as sns\n",
    "import matplotlib.pyplot as plt\n",
    "\n",
    "# Convert 'Date' to datetime\n",
    "df['Date'] = pd.to_datetime(df['Date'])\n",
    "\n",
    "# Feature engineering: Extract additional time-based features\n",
    "df['Year'] = df['Date'].dt.year\n",
    "df['Month'] = df['Date'].dt.month\n",
    "df['DayOfMonth'] = df['Date'].dt.day\n",
    "\n",
    "# One-hot encoding for 'FullStreet', 'neighborhood', 'zip'\n",
    "df = pd.get_dummies(df, columns=['FullStreet', 'neighborhood', 'zip'], drop_first=True)\n",
    "\n",
    "# Label encoding for ordered variables (those with a natural order like 'DayOfWeek', 'Season', 'TimeOfDay')\n",
    "label_encoders = {}\n",
    "for column in ['DayOfWeek', 'Season', 'TimeOfDay', 'Agency', 'ReportingOfficer']:  # Example ordinal variables\n",
    "    le = LabelEncoder()\n",
    "    df[column] = le.fit_transform(df[column])\n",
    "    label_encoders[column] = le\n",
    "\n",
    "# Filter the dataset to include only the offenses of interest\n",
    "offenses_of_interest = [\n",
    "    'Hit and Run', 'Assault Simple', 'Suspicious Activity', 'Vandalism', \n",
    "    'Larceny - From Mot Vehicle', 'Larceny - All Other', \n",
    "    'Assist Citizen - Mental/TDO/ECO', 'Lost/FoundProperty'\n",
    "]\n",
    "\n",
    "df = df[df['Offense'].isin(offenses_of_interest)]\n",
    "\n",
    "# Label encode the target variable (Offense)\n",
    "offense_encoder = LabelEncoder()\n",
    "df['Offense'] = offense_encoder.fit_transform(df['Offense'])\n",
    "\n",
    "# Separate features (X) and target (y)\n",
    "X = df[['Year', 'Month', 'DayOfMonth', 'DayOfWeek', 'Weekend', 'Season', 'TimeOfDay', 'lat', 'lon', 'Agency', 'ReportingOfficer']]\n",
    "y = df['Offense']  # Offense is now the encoded target variable\n",
    "\n",
    "# Split the data into training and testing sets\n",
    "X_train, X_test, y_train, y_test = train_test_split(X, y, test_size=0.3, random_state=42)\n"
   ]
  },
  {
   "cell_type": "markdown",
   "id": "55bbe905",
   "metadata": {
    "papermill": {
     "duration": 0.007996,
     "end_time": "2025-04-04T00:59:44.402443",
     "exception": false,
     "start_time": "2025-04-04T00:59:44.394447",
     "status": "completed"
    },
    "tags": []
   },
   "source": [
    "### Model Training\n",
    "\n",
    "Here we will train several models (e.g., Random Forest, Logistic Regression, and Decision Tree). We will use cross-validation to choose the best model based on accuracy, and then explain the impact of the variables."
   ]
  },
  {
   "cell_type": "code",
   "execution_count": 22,
   "id": "106fa953",
   "metadata": {
    "execution": {
     "iopub.execute_input": "2025-04-04T00:59:44.420177Z",
     "iopub.status.busy": "2025-04-04T00:59:44.419477Z",
     "iopub.status.idle": "2025-04-04T00:59:47.929593Z",
     "shell.execute_reply": "2025-04-04T00:59:47.929020Z"
    },
    "papermill": {
     "duration": 3.520076,
     "end_time": "2025-04-04T00:59:47.930646",
     "exception": false,
     "start_time": "2025-04-04T00:59:44.410570",
     "status": "completed"
    },
    "tags": []
   },
   "outputs": [
    {
     "name": "stderr",
     "output_type": "stream",
     "text": [
      "/opt/hostedtoolcache/Python/3.9.21/x64/lib/python3.9/site-packages/sklearn/linear_model/_logistic.py:465: ConvergenceWarning: lbfgs failed to converge (status=1):\n",
      "STOP: TOTAL NO. of ITERATIONS REACHED LIMIT.\n",
      "\n",
      "Increase the number of iterations (max_iter) or scale the data as shown in:\n",
      "    https://scikit-learn.org/stable/modules/preprocessing.html\n",
      "Please also refer to the documentation for alternative solver options:\n",
      "    https://scikit-learn.org/stable/modules/linear_model.html#logistic-regression\n",
      "  n_iter_i = _check_optimize_result(\n",
      "/opt/hostedtoolcache/Python/3.9.21/x64/lib/python3.9/site-packages/sklearn/metrics/_classification.py:1565: UndefinedMetricWarning: Precision is ill-defined and being set to 0.0 in labels with no predicted samples. Use `zero_division` parameter to control this behavior.\n",
      "  _warn_prf(average, modifier, f\"{metric.capitalize()} is\", len(result))\n",
      "/opt/hostedtoolcache/Python/3.9.21/x64/lib/python3.9/site-packages/sklearn/metrics/_classification.py:1565: UndefinedMetricWarning: Precision is ill-defined and being set to 0.0 in labels with no predicted samples. Use `zero_division` parameter to control this behavior.\n",
      "  _warn_prf(average, modifier, f\"{metric.capitalize()} is\", len(result))\n",
      "/opt/hostedtoolcache/Python/3.9.21/x64/lib/python3.9/site-packages/sklearn/metrics/_classification.py:1565: UndefinedMetricWarning: Precision is ill-defined and being set to 0.0 in labels with no predicted samples. Use `zero_division` parameter to control this behavior.\n",
      "  _warn_prf(average, modifier, f\"{metric.capitalize()} is\", len(result))\n"
     ]
    },
    {
     "name": "stdout",
     "output_type": "stream",
     "text": [
      "\n",
      "Classification Report for All Models:\n",
      "\n",
      "Model: RandomForest\n",
      "Accuracy: 0.2753\n",
      "              precision    recall  f1-score      support\n",
      "0              0.282353  0.381625  0.324568   566.000000\n",
      "1              0.298611  0.198157  0.238227   434.000000\n",
      "2              0.308590  0.441578  0.363296   659.000000\n",
      "3              0.218421  0.182819  0.199041   454.000000\n",
      "4              0.247826  0.159664  0.194208   357.000000\n",
      "5              0.248380  0.231855  0.239833   496.000000\n",
      "6              0.267196  0.209979  0.235157   481.000000\n",
      "accuracy       0.275312  0.275312  0.275312     0.275312\n",
      "macro avg      0.267340  0.257954  0.256333  3447.000000\n",
      "weighted avg   0.270416  0.275312  0.266398  3447.000000\n"
     ]
    },
    {
     "data": {
      "image/png": "[encoded data removed]",
      "text/plain": [
       "<Figure size 800x600 with 2 Axes>"
      ]
     },
     "metadata": {},
     "output_type": "display_data"
    },
    {
     "name": "stdout",
     "output_type": "stream",
     "text": [
      "\n",
      "Model: LogisticRegression\n",
      "Accuracy: 0.2034\n",
      "              precision    recall  f1-score      support\n",
      "0              0.193548  0.466431  0.273575   566.000000\n",
      "1              0.000000  0.000000  0.000000   434.000000\n",
      "2              0.209515  0.661608  0.318248   659.000000\n",
      "3              0.000000  0.000000  0.000000   454.000000\n",
      "4              0.000000  0.000000  0.000000   357.000000\n",
      "5              0.000000  0.000000  0.000000   496.000000\n",
      "6              0.500000  0.002079  0.004141   481.000000\n",
      "accuracy       0.203365  0.203365  0.203365     0.203365\n",
      "macro avg      0.129009  0.161446  0.085138  3447.000000\n",
      "weighted avg   0.141607  0.203365  0.106342  3447.000000\n"
     ]
    },
    {
     "data": {
      "image/png": "[encoded data removed]",
      "text/plain": [
       "<Figure size 800x600 with 2 Axes>"
      ]
     },
     "metadata": {},
     "output_type": "display_data"
    },
    {
     "name": "stdout",
     "output_type": "stream",
     "text": [
      "\n",
      "Model: DecisionTree\n",
      "Accuracy: 0.2327\n",
      "              precision    recall  f1-score      support\n",
      "0              0.252205  0.252650  0.252427   566.000000\n",
      "1              0.233410  0.235023  0.234214   434.000000\n",
      "2              0.320534  0.291351  0.305246   659.000000\n",
      "3              0.181250  0.191630  0.186296   454.000000\n",
      "4              0.208451  0.207283  0.207865   357.000000\n",
      "5              0.185512  0.211694  0.197740   496.000000\n",
      "6              0.223476  0.205821  0.214286   481.000000\n",
      "accuracy       0.232666  0.232666  0.232666     0.232666\n",
      "macro avg      0.229263  0.227922  0.228296  3447.000000\n",
      "weighted avg   0.235419  0.232666  0.233715  3447.000000\n"
     ]
    },
    {
     "data": {
      "image/png": "[encoded data removed]",
      "text/plain": [
       "<Figure size 800x600 with 2 Axes>"
      ]
     },
     "metadata": {},
     "output_type": "display_data"
    },
    {
     "name": "stdout",
     "output_type": "stream",
     "text": [
      "\n",
      "Best Model:\n",
      "Best Model: RandomForestClassifier()\n",
      "Best Model Accuracy: 0.2753\n"
     ]
    }
   ],
   "source": [
    "import pandas as pd\n",
    "from sklearn.model_selection import train_test_split\n",
    "from sklearn.ensemble import RandomForestClassifier\n",
    "from sklearn.linear_model import LogisticRegression\n",
    "from sklearn.tree import DecisionTreeClassifier\n",
    "from sklearn.metrics import classification_report, accuracy_score, confusion_matrix\n",
    "import seaborn as sns\n",
    "import matplotlib.pyplot as plt\n",
    "\n",
    "# Define models\n",
    "models = {\n",
    "    'RandomForest': RandomForestClassifier(),\n",
    "    'LogisticRegression': LogisticRegression(max_iter=1000),\n",
    "    'DecisionTree': DecisionTreeClassifier()\n",
    "}\n",
    "\n",
    "# Train models and evaluate them\n",
    "best_model = None\n",
    "best_score = 0\n",
    "model_reports = {}\n",
    "\n",
    "for model_name, model in models.items():\n",
    "    model.fit(X_train, y_train)  # Train model\n",
    "    y_pred = model.predict(X_test)  # Make predictions\n",
    "    \n",
    "    # Calculate accuracy and generate classification report\n",
    "    accuracy = accuracy_score(y_test, y_pred)\n",
    "    model_reports[model_name] = classification_report(y_test, y_pred, output_dict=True)  # Store as a dictionary for easier analysis\n",
    "    \n",
    "    # Track best performing model\n",
    "    if accuracy > best_score:\n",
    "        best_score = accuracy\n",
    "        best_model = model\n",
    "\n",
    "# Display classification reports and confusion matrices\n",
    "print(\"\\nClassification Report for All Models:\")\n",
    "for model_name, report in model_reports.items():\n",
    "    print(f\"\\nModel: {model_name}\")\n",
    "    print(\"Accuracy: {:.4f}\".format(accuracy_score(y_test, models[model_name].predict(X_test))))  # Display accuracy\n",
    "    print(pd.DataFrame(report).transpose())  # Display classification report as a DataFrame\n",
    "\n",
    "    # Plot Confusion Matrix\n",
    "    cm = confusion_matrix(y_test, models[model_name].predict(X_test))\n",
    "    plt.figure(figsize=(8, 6))\n",
    "    sns.heatmap(cm, annot=True, fmt=\"d\", cmap='Blues', xticklabels=offense_encoder.classes_, yticklabels=offense_encoder.classes_)\n",
    "    plt.title(f\"Confusion Matrix - {model_name}\")\n",
    "    plt.xlabel('Predicted Labels')\n",
    "    plt.ylabel('True Labels')\n",
    "    plt.show()\n",
    "\n",
    "# Display best model details\n",
    "print(\"\\nBest Model:\")\n",
    "print(f\"Best Model: {best_model}\")\n",
    "print(f\"Best Model Accuracy: {best_score:.4f}\")\n"
   ]
  },
  {
   "cell_type": "markdown",
   "id": "a93e0360",
   "metadata": {
    "papermill": {
     "duration": 0.010598,
     "end_time": "2025-04-04T00:59:47.952655",
     "exception": false,
     "start_time": "2025-04-04T00:59:47.942057",
     "status": "completed"
    },
    "tags": []
   },
   "source": [
    "#### Classification Report for All Models:\n",
    "\n",
    "### Explanation of the Classification Results (RandomForest Model)\n",
    "\n",
    "The results you provided are from a **Random Forest** model, which is used for predicting different types of offenses. Let's break down the key components of the results:\n",
    "\n",
    "#### 1. **Accuracy: 0.2822**\n",
    "   - **Accuracy** measures the overall percentage of correct predictions made by the model. An accuracy of 28.22% means the model correctly predicted the offense in about 28% of the cases. This indicates the model's predictions are not highly reliable, as the accuracy is quite low.\n",
    "\n",
    "#### 2. **Classification Report:**\n",
    "   The classification report includes precision, recall, and F1-score for each offense. Let's go over these terms and how they apply to the results:\n",
    "\n",
    "   - **Precision**: The proportion of true positive predictions out of all positive predictions made by the model for a specific class (offense).\n",
    "   - **Recall**: The proportion of true positive predictions out of all actual positive instances in the dataset.\n",
    "   - **F1-Score**: The harmonic mean of precision and recall, providing a balance between the two metrics.\n",
    "   - **Support**: The number of actual occurrences of each class in the test set.\n",
    "\n",
    "   Let's analyze each offense based on these metrics:\n",
    "\n",
    "   | **Offense**                        | **Precision** | **Recall** | **F1-Score** | **Support** |\n",
    "   |------------------------------------|---------------|------------|--------------|-------------|\n",
    "   | **Assault Simple**                 | 0.2892        | 0.3754     | 0.3267       | 594         |\n",
    "   | **Assist Citizen - Mental/TDO/ECO**| 0.3182        | 0.2274     | 0.2652       | 431         |\n",
    "   | **Hit and Run**                    | 0.2963        | 0.4765     | 0.3654       | 638         |\n",
    "   | **Larceny - All Other**            | 0.2270        | 0.1453     | 0.1772       | 475         |\n",
    "   | **Lost/FoundProperty**             | 0.3333        | 0.2102     | 0.2578       | 352         |\n",
    "   | **Suspicious Activity**            | 0.2344        | 0.2169     | 0.2253       | 484         |\n",
    "   | **Vandalism**                      | 0.2712        | 0.2106     | 0.2371       | 470         |\n",
    "\n",
    "#### 3. **Key Insights from the Report:**\n",
    "\n",
    "- **Precision**:\n",
    "   - The highest precision is for **Larceny - All Other** (0.3333), indicating that when the model predicts this offense, it is correct about 33% of the time. However, this is still quite low.\n",
    "   - **Assist Citizen - Mental/TDO/ECO** has the lowest precision (0.2269), meaning that the model's predictions for this offense tend to be wrong more often than correct.\n",
    "\n",
    "- **Recall**:\n",
    "   - **Hit and Run** has the highest recall (0.4765), meaning the model identifies about 48% of the actual occurrences of this offense. This is better than the precision, which indicates it is missing many true positives but is still able to identify a fair number of cases.\n",
    "   - **Larceny - All Other** and **Suspicious Activity** have the lowest recall values (0.1453 and 0.2169, respectively), indicating that the model is failing to identify most of the actual cases for these offenses.\n",
    "\n",
    "- **F1-Score**:\n",
    "   - The **F1-Score** balances precision and recall. It is highest for **Hit and Run** (0.3654), but still relatively low overall. This suggests the model is better at identifying **Hit and Run** than other offenses but still has room for improvement.\n",
    "   - **Larceny - All Other** has the lowest F1-Score (0.1772), indicating a poor balance between precision and recall for this offense.\n",
    "\n",
    "#### 4. **Macro Average and Weighted Average:**\n",
    "   - **Macro Average**: This gives the average precision, recall, and F1-Score across all classes (offenses) without considering the class distribution. It averages the results for all offenses equally.\n",
    "     - Precision: 0.2814\n",
    "     - Recall: 0.2661\n",
    "     - F1-Score: 0.2649\n",
    "   - **Weighted Average**: This averages the metrics but weighs each class by its support (the number of true instances in the test set). This gives a better sense of overall performance, considering the class distribution.\n",
    "     - Precision: 0.2799\n",
    "     - Recall: 0.2822\n",
    "     - F1-Score: 0.2720\n",
    "\n",
    "#### 5. **Confusion Matrix (Visualization Analysis)**:\n",
    "   - The confusion matrix shows the distribution of true positive, false positive, true negative, and false negative predictions for each class.\n",
    "     - For **Hit and Run**, the model performs relatively well in identifying this offense (304 true positives). However, it also misclassifies some **Hit and Run** instances as other offenses (e.g., **Assault Simple**, **Suspicious Activity**, etc.).\n",
    "     - **Larceny - All Other** is frequently misclassified as **Hit and Run**, **Suspicious Activity**, and others. This is evident from the large number of off-diagonal elements in its row.\n",
    "     - **Assist Citizen - Mental/TDO/ECO** and **Suspicious Activity** are frequently misclassified, as seen by the off-diagonal values in their rows.\n",
    "\n",
    "### Conclusion:\n",
    "The Random Forest model has low accuracy (28.22%), suggesting that it struggles to predict most offenses accurately. Some offenses like **Hit and Run** are better predicted than others, but overall, the model shows a high level of misclassification across all offenses. There may be a need for further tuning of the model, additional feature engineering, or trying different models for better performance.\n",
    "\n",
    "Let me know if you'd like to improve the model or make adjustments based on these results!\n",
    "\n"
   ]
  },
  {
   "cell_type": "markdown",
   "id": "dbb072b3",
   "metadata": {
    "papermill": {
     "duration": 0.010546,
     "end_time": "2025-04-04T00:59:47.973945",
     "exception": false,
     "start_time": "2025-04-04T00:59:47.963399",
     "status": "completed"
    },
    "tags": []
   },
   "source": [
    "### Model Explanation\n",
    "\n",
    "Once we’ve chosen the best model, we will explain its predictions by examining feature importance for tree-based models and using statistical methods like logistic regression coefficients for linear models."
   ]
  },
  {
   "cell_type": "markdown",
   "id": "c1ea0d77",
   "metadata": {
    "papermill": {
     "duration": 0.010532,
     "end_time": "2025-04-04T00:59:47.995139",
     "exception": false,
     "start_time": "2025-04-04T00:59:47.984607",
     "status": "completed"
    },
    "tags": []
   },
   "source": [
    "#### Feature Importance for Random Forest / Decision Tree\n",
    "\n",
    "##### For Tree-based Models (Random Forest, Decision Tree)\n",
    "\n",
    "For Random Forest or Decision Tree, we can look at feature importance to understand which variables contribute the most to the model's predictions. Here's how you can visualize and interpret the importance of each feature:"
   ]
  },
  {
   "cell_type": "code",
   "execution_count": 23,
   "id": "779df421",
   "metadata": {
    "execution": {
     "iopub.execute_input": "2025-04-04T00:59:48.017529Z",
     "iopub.status.busy": "2025-04-04T00:59:48.017076Z",
     "iopub.status.idle": "2025-04-04T00:59:48.183868Z",
     "shell.execute_reply": "2025-04-04T00:59:48.183238Z"
    },
    "papermill": {
     "duration": 0.17906,
     "end_time": "2025-04-04T00:59:48.184850",
     "exception": false,
     "start_time": "2025-04-04T00:59:48.005790",
     "status": "completed"
    },
    "tags": []
   },
   "outputs": [
    {
     "data": {
      "image/png": "[encoded data removed]",
      "text/plain": [
       "<Figure size 1000x600 with 1 Axes>"
      ]
     },
     "metadata": {},
     "output_type": "display_data"
    }
   ],
   "source": [
    "# For RandomForest or DecisionTree models, we can check feature importance\n",
    "if isinstance(best_model, RandomForestClassifier) or isinstance(best_model, DecisionTreeClassifier):\n",
    "    feature_importance = best_model.feature_importances_\n",
    "    feature_names = X.columns\n",
    "    importance_df = pd.DataFrame({'Feature': feature_names, 'Importance': feature_importance})\n",
    "    importance_df = importance_df.sort_values(by='Importance', ascending=False)\n",
    "    \n",
    "    # Plotting the feature importances\n",
    "    plt.figure(figsize=(10, 6))\n",
    "    sns.barplot(x='Importance', y='Feature', data=importance_df)\n",
    "    plt.title(\"Feature Importance\")\n",
    "    plt.show()\n"
   ]
  },
  {
   "cell_type": "code",
   "execution_count": null,
   "id": "5994189d",
   "metadata": {
    "papermill": {
     "duration": 0.011084,
     "end_time": "2025-04-04T00:59:48.207420",
     "exception": false,
     "start_time": "2025-04-04T00:59:48.196336",
     "status": "completed"
    },
    "tags": []
   },
   "outputs": [],
   "source": []
  },
  {
   "cell_type": "markdown",
   "id": "1fe38d65",
   "metadata": {
    "papermill": {
     "duration": 0.01091,
     "end_time": "2025-04-04T00:59:48.229278",
     "exception": false,
     "start_time": "2025-04-04T00:59:48.218368",
     "status": "completed"
    },
    "tags": []
   },
   "source": [
    "### Evaluation\n",
    "\n",
    "After training the models and examining their performance, we evaluate the chosen model based on metrics like accuracy, precision, recall, and F1 score.\n",
    "\n"
   ]
  },
  {
   "cell_type": "code",
   "execution_count": 24,
   "id": "0a88cd00",
   "metadata": {
    "execution": {
     "iopub.execute_input": "2025-04-04T00:59:48.252560Z",
     "iopub.status.busy": "2025-04-04T00:59:48.252159Z",
     "iopub.status.idle": "2025-04-04T00:59:48.340964Z",
     "shell.execute_reply": "2025-04-04T00:59:48.340370Z"
    },
    "papermill": {
     "duration": 0.101584,
     "end_time": "2025-04-04T00:59:48.341996",
     "exception": false,
     "start_time": "2025-04-04T00:59:48.240412",
     "status": "completed"
    },
    "tags": []
   },
   "outputs": [
    {
     "name": "stdout",
     "output_type": "stream",
     "text": [
      "Accuracy: 0.2753\n",
      "Classification Report:\n",
      "              precision    recall  f1-score   support\n",
      "\n",
      "           0       0.28      0.38      0.32       566\n",
      "           1       0.30      0.20      0.24       434\n",
      "           2       0.31      0.44      0.36       659\n",
      "           3       0.22      0.18      0.20       454\n",
      "           4       0.25      0.16      0.19       357\n",
      "           5       0.25      0.23      0.24       496\n",
      "           6       0.27      0.21      0.24       481\n",
      "\n",
      "    accuracy                           0.28      3447\n",
      "   macro avg       0.27      0.26      0.26      3447\n",
      "weighted avg       0.27      0.28      0.27      3447\n",
      "\n",
      "Confusion Matrix:\n",
      "[[216  50 123  43  17  71  46]\n",
      " [121  86  92  39  15  52  29]\n",
      " [108  42 291  66  29  72  51]\n",
      " [ 68  24 125  83  34  61  59]\n",
      " [ 59  23  86  48  57  30  54]\n",
      " [109  34 121  43  36 115  38]\n",
      " [ 84  29 105  58  42  62 101]]\n",
      "Precision: 0.2704\n",
      "Recall: 0.2753\n",
      "F1 Score: 0.2664\n"
     ]
    }
   ],
   "source": [
    "from sklearn.metrics import classification_report, confusion_matrix, accuracy_score, precision_score, recall_score, f1_score\n",
    "\n",
    "# Predict on the test set\n",
    "y_pred = best_model.predict(X_test)\n",
    "\n",
    "# Calculate Accuracy\n",
    "accuracy = accuracy_score(y_test, y_pred)\n",
    "print(f\"Accuracy: {accuracy:.4f}\")\n",
    "\n",
    "# Classification Report\n",
    "print(\"Classification Report:\")\n",
    "print(classification_report(y_test, y_pred))\n",
    "\n",
    "# Confusion Matrix\n",
    "conf_matrix = confusion_matrix(y_test, y_pred)\n",
    "print(\"Confusion Matrix:\")\n",
    "print(conf_matrix)\n",
    "\n",
    "# Precision, Recall, F1 Score for each class (Offense Type)\n",
    "precision = precision_score(y_test, y_pred, average='weighted')\n",
    "recall = recall_score(y_test, y_pred, average='weighted')\n",
    "f1 = f1_score(y_test, y_pred, average='weighted')\n",
    "\n",
    "print(f\"Precision: {precision:.4f}\")\n",
    "print(f\"Recall: {recall:.4f}\")\n",
    "print(f\"F1 Score: {f1:.4f}\")\n"
   ]
  },
  {
   "cell_type": "markdown",
   "id": "eb88f5be",
   "metadata": {
    "papermill": {
     "duration": 0.011278,
     "end_time": "2025-04-04T00:59:48.364928",
     "exception": false,
     "start_time": "2025-04-04T00:59:48.353650",
     "status": "completed"
    },
    "tags": []
   },
   "source": [
    "#### For Logistic Regression (Coefficient Interpretation)\n",
    "\n",
    "For Logistic Regression, the model coefficients can help us understand how each feature affects the likelihood of an offense happening. A positive coefficient indicates a feature increases the likelihood of the offense, and a negative coefficient indicates the opposite."
   ]
  },
  {
   "cell_type": "code",
   "execution_count": 25,
   "id": "cdcc7795",
   "metadata": {
    "execution": {
     "iopub.execute_input": "2025-04-04T00:59:48.388353Z",
     "iopub.status.busy": "2025-04-04T00:59:48.387928Z",
     "iopub.status.idle": "2025-04-04T00:59:48.392407Z",
     "shell.execute_reply": "2025-04-04T00:59:48.391859Z"
    },
    "papermill": {
     "duration": 0.017283,
     "end_time": "2025-04-04T00:59:48.393392",
     "exception": false,
     "start_time": "2025-04-04T00:59:48.376109",
     "status": "completed"
    },
    "tags": []
   },
   "outputs": [],
   "source": [
    "if isinstance(best_model, LogisticRegression):\n",
    "    # Logistic regression coefficients\n",
    "    coef_df = pd.DataFrame({\n",
    "        'Feature': X.columns,\n",
    "        'Coefficient': best_model.coef_[0]\n",
    "    })\n",
    "    coef_df['AbsCoefficient'] = coef_df['Coefficient'].abs()\n",
    "    coef_df = coef_df.sort_values(by='AbsCoefficient', ascending=False)\n",
    "    \n",
    "    # Plotting the coefficients\n",
    "    plt.figure(figsize=(10, 6))\n",
    "    sns.barplot(x='AbsCoefficient', y='Feature', data=coef_df)\n",
    "    plt.title(\"Logistic Regression Coefficients Impact\")\n",
    "    plt.show()\n",
    "\n",
    "    # Print the top 5 most impactful features (by absolute coefficient value)\n",
    "    print(\"Top 5 most impactful features based on coefficients:\")\n",
    "    print(coef_df.head())\n"
   ]
  },
  {
   "cell_type": "markdown",
   "id": "2ef8f36b",
   "metadata": {
    "papermill": {
     "duration": 0.011073,
     "end_time": "2025-04-04T00:59:48.415746",
     "exception": false,
     "start_time": "2025-04-04T00:59:48.404673",
     "status": "completed"
    },
    "tags": []
   },
   "source": [
    "Explanation of Output:\n",
    "\n",
    "Feature Importance (Random Forest/Decision Tree): The bar plot will show how important each feature is in the decision-making process. Features at the top of the list are the most influential in predicting the occurrence of offenses.\n",
    "\n",
    "Logistic Regression Coefficients: The bar plot will show the magnitude of the coefficients for each feature. Features with larger absolute values (either positive or negative) have a stronger impact on the model’s predictions. Positive coefficients increase the probability of an offense, while negative coefficients decrease it."
   ]
  },
  {
   "cell_type": "markdown",
   "id": "eac306a3",
   "metadata": {
    "papermill": {
     "duration": 0.011084,
     "end_time": "2025-04-04T00:59:48.437969",
     "exception": false,
     "start_time": "2025-04-04T00:59:48.426885",
     "status": "completed"
    },
    "tags": []
   },
   "source": []
  }
 ],
 "metadata": {
  "kernelspec": {
   "display_name": "Python 3",
   "language": "python",
   "name": "python3"
  },
  "language_info": {
   "codemirror_mode": {
    "name": "ipython",
    "version": 3
   },
   "file_extension": ".py",
   "mimetype": "text/x-python",
   "name": "python",
   "nbconvert_exporter": "python",
   "pygments_lexer": "ipython3",
   "version": "3.9.21"
  },
  "papermill": {
   "default_parameters": {},
   "duration": 74.057973,
   "end_time": "2025-04-04T00:59:48.864885",
   "environment_variables": {},
   "exception": null,
   "input_path": "notebook/Crime Data.ipynb",
   "output_path": "notebook/Crime Data_output.ipynb",
   "parameters": {},
   "start_time": "2025-04-04T00:58:34.806912",
   "version": "2.6.0"
  }
 },
 "nbformat": 4,
 "nbformat_minor": 5
}