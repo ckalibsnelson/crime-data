{
 "cells": [
  {
   "cell_type": "markdown",
   "id": "924a81e9",
   "metadata": {
    "papermill": {
     "duration": 0.004322,
     "end_time": "2025-07-21T01:12:22.701096",
     "exception": false,
     "start_time": "2025-07-21T01:12:22.696774",
     "status": "completed"
    },
    "tags": []
   },
   "source": [
    "# Charlottesville Open Data Porttal: Crime Data"
   ]
  },
  {
   "cell_type": "markdown",
   "id": "0788ac3d",
   "metadata": {
    "papermill": {
     "duration": 0.004281,
     "end_time": "2025-07-21T01:12:22.708985",
     "exception": false,
     "start_time": "2025-07-21T01:12:22.704704",
     "status": "completed"
    },
    "tags": []
   },
   "source": [
    "## Import Relevant Librarires & Set WD"
   ]
  },
  {
   "cell_type": "code",
   "execution_count": 1,
   "id": "b735da0a",
   "metadata": {
    "execution": {
     "iopub.execute_input": "2025-07-21T01:12:22.716870Z",
     "iopub.status.busy": "2025-07-21T01:12:22.716405Z",
     "iopub.status.idle": "2025-07-21T01:12:23.275857Z",
     "shell.execute_reply": "2025-07-21T01:12:23.275160Z"
    },
    "papermill": {
     "duration": 0.565121,
     "end_time": "2025-07-21T01:12:23.277387",
     "exception": false,
     "start_time": "2025-07-21T01:12:22.712266",
     "status": "completed"
    },
    "tags": []
   },
   "outputs": [],
   "source": [
    "import requests\n",
    "import pandas as pd\n",
    "import numpy as np\n",
    "import pickle\n",
    "import googlemaps\n",
    "import plotly.express as px\n",
    "from geopy.geocoders import Nominatim\n",
    "import time\n",
    "from dotenv import load_dotenv\n",
    "import os\n",
    "\n",
    "env_path = os.path.join(\"..\", \".env\")\n",
    "#print(\"Looking for .env file at:\", os.path.abspath(env_path))\n",
    "load_dotenv(dotenv_path=env_path)\n",
    "\n",
    "# Retrieve the variables\n",
    "GOOGLE_API_KEY = os.getenv(\"GOOGLE_API_KEY\")\n",
    "WORKING_DIR = os.getenv(\"WORKING_DIR\")\n",
    "\n",
    "if GOOGLE_API_KEY is None or WORKING_DIR is None:\n",
    "    raise RuntimeError(\"No configuration found. Please ensure that your .env file exists with the required variables, or create a local config.py file.\")\n",
    "\n",
    "#print(\"Google API Key:\", GOOGLE_API_KEY)\n",
    "#print(\"Working Directory:\", WORKING_DIR)"
   ]
  },
  {
   "cell_type": "markdown",
   "id": "b55f9660",
   "metadata": {
    "papermill": {
     "duration": 0.003318,
     "end_time": "2025-07-21T01:12:23.284539",
     "exception": false,
     "start_time": "2025-07-21T01:12:23.281221",
     "status": "completed"
    },
    "tags": []
   },
   "source": [
    "## Import Data\n",
    "\n",
    "URL: https://opendata.charlottesville.org/datasets/charlottesville::crime-data/about"
   ]
  },
  {
   "cell_type": "code",
   "execution_count": 2,
   "id": "615ea0bc",
   "metadata": {
    "execution": {
     "iopub.execute_input": "2025-07-21T01:12:23.292225Z",
     "iopub.status.busy": "2025-07-21T01:12:23.291913Z",
     "iopub.status.idle": "2025-07-21T01:13:30.279510Z",
     "shell.execute_reply": "2025-07-21T01:13:30.278722Z"
    },
    "papermill": {
     "duration": 66.996042,
     "end_time": "2025-07-21T01:13:30.283868",
     "exception": false,
     "start_time": "2025-07-21T01:12:23.287826",
     "status": "completed"
    },
    "tags": []
   },
   "outputs": [
    {
     "name": "stdout",
     "output_type": "stream",
     "text": [
      "Total records imported: 25556\n"
     ]
    }
   ],
   "source": [
    "# Define the endpoint and initial parameters.\n",
    "url = \"https://gisweb.charlottesville.org/arcgis/rest/services/OpenData_2/MapServer/6/query\"\n",
    "params = {\n",
    "    \"where\": \"1=1\",\n",
    "    \"outFields\": \"*\",\n",
    "    \"outSR\": 4326,\n",
    "    \"f\": \"json\",\n",
    "    \"resultOffset\": 0,       # Starting index for results\n",
    "    \"resultRecordCount\": 10000  # Maximum records per batch (if allowed by the API)\n",
    "}\n",
    "\n",
    "records = []\n",
    "\n",
    "while True:\n",
    "    response = requests.get(url, params=params)\n",
    "    response.raise_for_status()\n",
    "    data = response.json()\n",
    "    \n",
    "    # Get the current batch of features.\n",
    "    features = data.get(\"features\", [])\n",
    "    if not features:\n",
    "        break\n",
    "\n",
    "    # Extract the attributes from the features.\n",
    "    batch_records = [feature.get(\"attributes\", {}) for feature in features]\n",
    "    records.extend(batch_records)\n",
    "    \n",
    "    # If the batch size is less than the requested count, we reached the end.\n",
    "    if len(features) < params[\"resultRecordCount\"]:\n",
    "        break\n",
    "\n",
    "    # Update the resultOffset for the next batch.\n",
    "    params[\"resultOffset\"] += params[\"resultRecordCount\"]\n",
    "\n",
    "# Create a DataFrame from the combined records.\n",
    "df = pd.DataFrame(records)\n",
    "print(\"Total records imported:\", len(df))\n"
   ]
  },
  {
   "cell_type": "code",
   "execution_count": 3,
   "id": "cf5b5003",
   "metadata": {
    "execution": {
     "iopub.execute_input": "2025-07-21T01:13:30.292021Z",
     "iopub.status.busy": "2025-07-21T01:13:30.291568Z",
     "iopub.status.idle": "2025-07-21T01:13:30.303984Z",
     "shell.execute_reply": "2025-07-21T01:13:30.303354Z"
    },
    "papermill": {
     "duration": 0.017609,
     "end_time": "2025-07-21T01:13:30.305029",
     "exception": false,
     "start_time": "2025-07-21T01:13:30.287420",
     "status": "completed"
    },
    "tags": []
   },
   "outputs": [
    {
     "data": {
      "text/html": [
       "<div>\n",
       "<style scoped>\n",
       "    .dataframe tbody tr th:only-of-type {\n",
       "        vertical-align: middle;\n",
       "    }\n",
       "\n",
       "    .dataframe tbody tr th {\n",
       "        vertical-align: top;\n",
       "    }\n",
       "\n",
       "    .dataframe thead th {\n",
       "        text-align: right;\n",
       "    }\n",
       "</style>\n",
       "<table border=\"1\" class=\"dataframe\">\n",
       "  <thead>\n",
       "    <tr style=\"text-align: right;\">\n",
       "      <th></th>\n",
       "      <th>RecordID</th>\n",
       "      <th>Offense</th>\n",
       "      <th>IncidentID</th>\n",
       "      <th>BlockNumber</th>\n",
       "      <th>StreetName</th>\n",
       "      <th>Agency</th>\n",
       "      <th>DateReported</th>\n",
       "      <th>HourReported</th>\n",
       "      <th>ReportingOfficer</th>\n",
       "    </tr>\n",
       "  </thead>\n",
       "  <tbody>\n",
       "    <tr>\n",
       "      <th>0</th>\n",
       "      <td>1</td>\n",
       "      <td>Larceny - All Other</td>\n",
       "      <td>202500025307</td>\n",
       "      <td>1100</td>\n",
       "      <td>ST CHARLES CT</td>\n",
       "      <td>CPD</td>\n",
       "      <td>1752889657000</td>\n",
       "      <td>2147</td>\n",
       "      <td>Hudson, Jesse</td>\n",
       "    </tr>\n",
       "    <tr>\n",
       "      <th>1</th>\n",
       "      <td>2</td>\n",
       "      <td>Assault Aggravated</td>\n",
       "      <td>202500025298</td>\n",
       "      <td>800</td>\n",
       "      <td>PROSPECT AVE</td>\n",
       "      <td>CPD</td>\n",
       "      <td>1752883765000</td>\n",
       "      <td>2009</td>\n",
       "      <td>Abdelgayed, Adam</td>\n",
       "    </tr>\n",
       "    <tr>\n",
       "      <th>2</th>\n",
       "      <td>3</td>\n",
       "      <td>Burglary</td>\n",
       "      <td>202500025266</td>\n",
       "      <td>900</td>\n",
       "      <td>HENRY AVE</td>\n",
       "      <td>CPD</td>\n",
       "      <td>1752871912000</td>\n",
       "      <td>1651</td>\n",
       "      <td>Kirby, Tyree</td>\n",
       "    </tr>\n",
       "    <tr>\n",
       "      <th>3</th>\n",
       "      <td>4</td>\n",
       "      <td>Hit and Run</td>\n",
       "      <td>202500025262</td>\n",
       "      <td></td>\n",
       "      <td>RUGBY AVE / ROSE HILL DR</td>\n",
       "      <td>CPD</td>\n",
       "      <td>1752869801000</td>\n",
       "      <td>1616</td>\n",
       "      <td>Hudson, Jesse</td>\n",
       "    </tr>\n",
       "    <tr>\n",
       "      <th>4</th>\n",
       "      <td>5</td>\n",
       "      <td>Misc - Criminal Call</td>\n",
       "      <td>202500025259</td>\n",
       "      <td>1200</td>\n",
       "      <td>SMITH ST</td>\n",
       "      <td>CPD</td>\n",
       "      <td>1752868183000</td>\n",
       "      <td>1549</td>\n",
       "      <td>Rigsby, Lloyd</td>\n",
       "    </tr>\n",
       "  </tbody>\n",
       "</table>\n",
       "</div>"
      ],
      "text/plain": [
       "   RecordID               Offense    IncidentID BlockNumber  \\\n",
       "0         1   Larceny - All Other  202500025307        1100   \n",
       "1         2    Assault Aggravated  202500025298         800   \n",
       "2         3              Burglary  202500025266         900   \n",
       "3         4           Hit and Run  202500025262               \n",
       "4         5  Misc - Criminal Call  202500025259        1200   \n",
       "\n",
       "                 StreetName Agency   DateReported HourReported  \\\n",
       "0             ST CHARLES CT    CPD  1752889657000         2147   \n",
       "1              PROSPECT AVE    CPD  1752883765000         2009   \n",
       "2                 HENRY AVE    CPD  1752871912000         1651   \n",
       "3  RUGBY AVE / ROSE HILL DR    CPD  1752869801000         1616   \n",
       "4                  SMITH ST    CPD  1752868183000         1549   \n",
       "\n",
       "   ReportingOfficer  \n",
       "0     Hudson, Jesse  \n",
       "1  Abdelgayed, Adam  \n",
       "2      Kirby, Tyree  \n",
       "3     Hudson, Jesse  \n",
       "4     Rigsby, Lloyd  "
      ]
     },
     "execution_count": 3,
     "metadata": {},
     "output_type": "execute_result"
    }
   ],
   "source": [
    "df.head()"
   ]
  },
  {
   "cell_type": "code",
   "execution_count": 4,
   "id": "2864ac6f",
   "metadata": {
    "execution": {
     "iopub.execute_input": "2025-07-21T01:13:30.312948Z",
     "iopub.status.busy": "2025-07-21T01:13:30.312763Z",
     "iopub.status.idle": "2025-07-21T01:13:30.317067Z",
     "shell.execute_reply": "2025-07-21T01:13:30.316539Z"
    },
    "papermill": {
     "duration": 0.009432,
     "end_time": "2025-07-21T01:13:30.318083",
     "exception": false,
     "start_time": "2025-07-21T01:13:30.308651",
     "status": "completed"
    },
    "tags": []
   },
   "outputs": [
    {
     "data": {
      "text/plain": [
       "Index(['RecordID', 'Offense', 'IncidentID', 'BlockNumber', 'StreetName',\n",
       "       'Agency', 'DateReported', 'HourReported', 'ReportingOfficer'],\n",
       "      dtype='object')"
      ]
     },
     "execution_count": 4,
     "metadata": {},
     "output_type": "execute_result"
    }
   ],
   "source": [
    "df.columns"
   ]
  },
  {
   "cell_type": "code",
   "execution_count": 5,
   "id": "d91e5614",
   "metadata": {
    "execution": {
     "iopub.execute_input": "2025-07-21T01:13:30.326567Z",
     "iopub.status.busy": "2025-07-21T01:13:30.326096Z",
     "iopub.status.idle": "2025-07-21T01:13:30.349272Z",
     "shell.execute_reply": "2025-07-21T01:13:30.348710Z"
    },
    "papermill": {
     "duration": 0.028499,
     "end_time": "2025-07-21T01:13:30.350343",
     "exception": false,
     "start_time": "2025-07-21T01:13:30.321844",
     "status": "completed"
    },
    "tags": []
   },
   "outputs": [
    {
     "name": "stdout",
     "output_type": "stream",
     "text": [
      "<class 'pandas.core.frame.DataFrame'>\n",
      "RangeIndex: 25556 entries, 0 to 25555\n",
      "Data columns (total 9 columns):\n",
      " #   Column            Non-Null Count  Dtype \n",
      "---  ------            --------------  ----- \n",
      " 0   RecordID          25556 non-null  int64 \n",
      " 1   Offense           25556 non-null  object\n",
      " 2   IncidentID        25556 non-null  object\n",
      " 3   BlockNumber       25556 non-null  object\n",
      " 4   StreetName        25556 non-null  object\n",
      " 5   Agency            25556 non-null  object\n",
      " 6   DateReported      25556 non-null  int64 \n",
      " 7   HourReported      25556 non-null  object\n",
      " 8   ReportingOfficer  25539 non-null  object\n",
      "dtypes: int64(2), object(7)\n",
      "memory usage: 1.8+ MB\n"
     ]
    }
   ],
   "source": [
    "df.info()"
   ]
  },
  {
   "cell_type": "markdown",
   "id": "144efec9",
   "metadata": {
    "papermill": {
     "duration": 0.003785,
     "end_time": "2025-07-21T01:13:30.358028",
     "exception": false,
     "start_time": "2025-07-21T01:13:30.354243",
     "status": "completed"
    },
    "tags": []
   },
   "source": [
    "### Missing Values"
   ]
  },
  {
   "cell_type": "code",
   "execution_count": 6,
   "id": "587e73ff",
   "metadata": {
    "execution": {
     "iopub.execute_input": "2025-07-21T01:13:30.366381Z",
     "iopub.status.busy": "2025-07-21T01:13:30.366169Z",
     "iopub.status.idle": "2025-07-21T01:13:30.388620Z",
     "shell.execute_reply": "2025-07-21T01:13:30.388084Z"
    },
    "papermill": {
     "duration": 0.027812,
     "end_time": "2025-07-21T01:13:30.389622",
     "exception": false,
     "start_time": "2025-07-21T01:13:30.361810",
     "status": "completed"
    },
    "tags": []
   },
   "outputs": [
    {
     "name": "stdout",
     "output_type": "stream",
     "text": [
      "                  MissingCount  MissingPercentage\n",
      "RecordID                     0               0.00\n",
      "Offense                      0               0.00\n",
      "IncidentID                   0               0.00\n",
      "BlockNumber                  0               0.00\n",
      "StreetName                   0               0.00\n",
      "Agency                       0               0.00\n",
      "DateReported                 0               0.00\n",
      "HourReported                 0               0.00\n",
      "ReportingOfficer            17               0.07\n"
     ]
    }
   ],
   "source": [
    "def missing_percentage(df):\n",
    "    \"\"\"\n",
    "    Returns a DataFrame with the count and percentage of missing values for each column.\n",
    "    \n",
    "    Parameters:\n",
    "        df (pd.DataFrame): The input DataFrame.\n",
    "    \n",
    "    Returns:\n",
    "        pd.DataFrame: A DataFrame with columns 'MissingCount' and 'MissingPercentage'.\n",
    "    \"\"\"\n",
    "    total_rows = len(df)\n",
    "    missing_count = df.isnull().sum()\n",
    "    missing_percent = (missing_count / total_rows) * 100\n",
    "    \n",
    "    result = pd.DataFrame({\n",
    "        'MissingCount': missing_count,\n",
    "        'MissingPercentage': missing_percent.round(2)\n",
    "    })\n",
    "    \n",
    "    return result\n",
    "\n",
    "# Example usage:\n",
    "missing_info = missing_percentage(df)\n",
    "print(missing_info)\n"
   ]
  },
  {
   "cell_type": "markdown",
   "id": "ef11cab3",
   "metadata": {
    "papermill": {
     "duration": 0.003792,
     "end_time": "2025-07-21T01:13:30.397541",
     "exception": false,
     "start_time": "2025-07-21T01:13:30.393749",
     "status": "completed"
    },
    "tags": []
   },
   "source": [
    "## Data Preparation"
   ]
  },
  {
   "cell_type": "markdown",
   "id": "f23edf0c",
   "metadata": {
    "papermill": {
     "duration": 0.003808,
     "end_time": "2025-07-21T01:13:30.405146",
     "exception": false,
     "start_time": "2025-07-21T01:13:30.401338",
     "status": "completed"
    },
    "tags": []
   },
   "source": [
    "### Data Conversion"
   ]
  },
  {
   "cell_type": "code",
   "execution_count": 7,
   "id": "894d9397",
   "metadata": {
    "execution": {
     "iopub.execute_input": "2025-07-21T01:13:30.414054Z",
     "iopub.status.busy": "2025-07-21T01:13:30.413627Z",
     "iopub.status.idle": "2025-07-21T01:13:30.775068Z",
     "shell.execute_reply": "2025-07-21T01:13:30.774388Z"
    },
    "papermill": {
     "duration": 0.367128,
     "end_time": "2025-07-21T01:13:30.776166",
     "exception": false,
     "start_time": "2025-07-21T01:13:30.409038",
     "status": "completed"
    },
    "tags": []
   },
   "outputs": [
    {
     "data": {
      "text/html": [
       "<div>\n",
       "<style scoped>\n",
       "    .dataframe tbody tr th:only-of-type {\n",
       "        vertical-align: middle;\n",
       "    }\n",
       "\n",
       "    .dataframe tbody tr th {\n",
       "        vertical-align: top;\n",
       "    }\n",
       "\n",
       "    .dataframe thead th {\n",
       "        text-align: right;\n",
       "    }\n",
       "</style>\n",
       "<table border=\"1\" class=\"dataframe\">\n",
       "  <thead>\n",
       "    <tr style=\"text-align: right;\">\n",
       "      <th></th>\n",
       "      <th>RecordID</th>\n",
       "      <th>Offense</th>\n",
       "      <th>IncidentID</th>\n",
       "      <th>BlockNumber</th>\n",
       "      <th>StreetName</th>\n",
       "      <th>Agency</th>\n",
       "      <th>HourReported</th>\n",
       "      <th>ReportingOfficer</th>\n",
       "      <th>Date</th>\n",
       "      <th>DateString</th>\n",
       "      <th>DayOfWeek</th>\n",
       "      <th>Weekend</th>\n",
       "      <th>Season</th>\n",
       "      <th>HourAMPM</th>\n",
       "      <th>TimeOfDay</th>\n",
       "    </tr>\n",
       "  </thead>\n",
       "  <tbody>\n",
       "    <tr>\n",
       "      <th>0</th>\n",
       "      <td>1</td>\n",
       "      <td>Larceny - All Other</td>\n",
       "      <td>202500025307</td>\n",
       "      <td>1100</td>\n",
       "      <td>ST CHARLES CT</td>\n",
       "      <td>CPD</td>\n",
       "      <td>2147</td>\n",
       "      <td>Hudson, Jesse</td>\n",
       "      <td>2025-07-18 21:47:37</td>\n",
       "      <td>2025-07-18 09:47:37 PM</td>\n",
       "      <td>Friday</td>\n",
       "      <td>False</td>\n",
       "      <td>Summer</td>\n",
       "      <td>09:47 PM</td>\n",
       "      <td>Night</td>\n",
       "    </tr>\n",
       "    <tr>\n",
       "      <th>1</th>\n",
       "      <td>2</td>\n",
       "      <td>Assault Aggravated</td>\n",
       "      <td>202500025298</td>\n",
       "      <td>800</td>\n",
       "      <td>PROSPECT AVE</td>\n",
       "      <td>CPD</td>\n",
       "      <td>2009</td>\n",
       "      <td>Abdelgayed, Adam</td>\n",
       "      <td>2025-07-18 20:09:25</td>\n",
       "      <td>2025-07-18 08:09:25 PM</td>\n",
       "      <td>Friday</td>\n",
       "      <td>False</td>\n",
       "      <td>Summer</td>\n",
       "      <td>08:09 PM</td>\n",
       "      <td>Evening</td>\n",
       "    </tr>\n",
       "    <tr>\n",
       "      <th>2</th>\n",
       "      <td>3</td>\n",
       "      <td>Burglary</td>\n",
       "      <td>202500025266</td>\n",
       "      <td>900</td>\n",
       "      <td>HENRY AVE</td>\n",
       "      <td>CPD</td>\n",
       "      <td>1651</td>\n",
       "      <td>Kirby, Tyree</td>\n",
       "      <td>2025-07-18 16:51:52</td>\n",
       "      <td>2025-07-18 04:51:52 PM</td>\n",
       "      <td>Friday</td>\n",
       "      <td>False</td>\n",
       "      <td>Summer</td>\n",
       "      <td>04:51 PM</td>\n",
       "      <td>Afternoon</td>\n",
       "    </tr>\n",
       "    <tr>\n",
       "      <th>3</th>\n",
       "      <td>4</td>\n",
       "      <td>Hit and Run</td>\n",
       "      <td>202500025262</td>\n",
       "      <td></td>\n",
       "      <td>RUGBY AVE / ROSE HILL DR</td>\n",
       "      <td>CPD</td>\n",
       "      <td>1616</td>\n",
       "      <td>Hudson, Jesse</td>\n",
       "      <td>2025-07-18 16:16:41</td>\n",
       "      <td>2025-07-18 04:16:41 PM</td>\n",
       "      <td>Friday</td>\n",
       "      <td>False</td>\n",
       "      <td>Summer</td>\n",
       "      <td>04:16 PM</td>\n",
       "      <td>Afternoon</td>\n",
       "    </tr>\n",
       "    <tr>\n",
       "      <th>4</th>\n",
       "      <td>5</td>\n",
       "      <td>Misc - Criminal Call</td>\n",
       "      <td>202500025259</td>\n",
       "      <td>1200</td>\n",
       "      <td>SMITH ST</td>\n",
       "      <td>CPD</td>\n",
       "      <td>1549</td>\n",
       "      <td>Rigsby, Lloyd</td>\n",
       "      <td>2025-07-18 15:49:43</td>\n",
       "      <td>2025-07-18 03:49:43 PM</td>\n",
       "      <td>Friday</td>\n",
       "      <td>False</td>\n",
       "      <td>Summer</td>\n",
       "      <td>03:49 PM</td>\n",
       "      <td>Afternoon</td>\n",
       "    </tr>\n",
       "  </tbody>\n",
       "</table>\n",
       "</div>"
      ],
      "text/plain": [
       "   RecordID               Offense    IncidentID BlockNumber  \\\n",
       "0         1   Larceny - All Other  202500025307        1100   \n",
       "1         2    Assault Aggravated  202500025298         800   \n",
       "2         3              Burglary  202500025266         900   \n",
       "3         4           Hit and Run  202500025262               \n",
       "4         5  Misc - Criminal Call  202500025259        1200   \n",
       "\n",
       "                 StreetName Agency HourReported  ReportingOfficer  \\\n",
       "0             ST CHARLES CT    CPD         2147     Hudson, Jesse   \n",
       "1              PROSPECT AVE    CPD         2009  Abdelgayed, Adam   \n",
       "2                 HENRY AVE    CPD         1651      Kirby, Tyree   \n",
       "3  RUGBY AVE / ROSE HILL DR    CPD         1616     Hudson, Jesse   \n",
       "4                  SMITH ST    CPD         1549     Rigsby, Lloyd   \n",
       "\n",
       "                 Date              DateString DayOfWeek  Weekend  Season  \\\n",
       "0 2025-07-18 21:47:37  2025-07-18 09:47:37 PM    Friday    False  Summer   \n",
       "1 2025-07-18 20:09:25  2025-07-18 08:09:25 PM    Friday    False  Summer   \n",
       "2 2025-07-18 16:51:52  2025-07-18 04:51:52 PM    Friday    False  Summer   \n",
       "3 2025-07-18 16:16:41  2025-07-18 04:16:41 PM    Friday    False  Summer   \n",
       "4 2025-07-18 15:49:43  2025-07-18 03:49:43 PM    Friday    False  Summer   \n",
       "\n",
       "   HourAMPM  TimeOfDay  \n",
       "0  09:47 PM      Night  \n",
       "1  08:09 PM    Evening  \n",
       "2  04:51 PM  Afternoon  \n",
       "3  04:16 PM  Afternoon  \n",
       "4  03:49 PM  Afternoon  "
      ]
     },
     "execution_count": 7,
     "metadata": {},
     "output_type": "execute_result"
    }
   ],
   "source": [
    "def convert_and_categorize_datereported(df, col='DateReported'):\n",
    "    \"\"\"\n",
    "    Converts an epoch (in milliseconds) date column into a timezone-aware datetime,\n",
    "    converts it to Eastern Time, and then creates columns for day-of-week, weekend flag,\n",
    "    season, 12-hour formatted time, and time-of-day. Keeps both a real datetime column\n",
    "    (Date) and a string representation (DateString).\n",
    "    \"\"\"\n",
    "    import pandas as pd\n",
    "\n",
    "    # Convert the epoch timestamp to a pandas datetime object as UTC, then convert to US/Eastern.\n",
    "    df[\"DateReported_dt\"] = (\n",
    "        pd.to_datetime(df[col], unit=\"ms\", errors=\"coerce\", utc=True)\n",
    "        .dt.tz_convert(\"US/Eastern\")\n",
    "    )\n",
    "    \n",
    "    # Create a true datetime column (remove timezone if you prefer naive datetime)\n",
    "    df[\"Date\"] = df[\"DateReported_dt\"].dt.tz_localize(None)\n",
    "\n",
    "    # Optionally, create a separate string-formatted column\n",
    "    df[\"DateString\"] = df[\"DateReported_dt\"].dt.strftime(\"%Y-%m-%d %I:%M:%S %p\")\n",
    "    \n",
    "    # DayOfWeek\n",
    "    df[\"DayOfWeek\"] = df[\"DateReported_dt\"].dt.day_name()\n",
    "    \n",
    "    # Weekend\n",
    "    df[\"Weekend\"] = df[\"DayOfWeek\"].isin([\"Saturday\", \"Sunday\"])\n",
    "    \n",
    "    # Helper function to determine the season\n",
    "    def get_season(dt):\n",
    "        month = dt.month\n",
    "        day = dt.day\n",
    "        # Approximate Northern Hemisphere season boundaries:\n",
    "        if (month == 12 and day >= 21) or (month < 3) or (month == 3 and day < 20):\n",
    "            return \"Winter\"\n",
    "        elif (month == 3 and day >= 20) or (month < 6) or (month == 6 and day < 21):\n",
    "            return \"Spring\"\n",
    "        elif (month == 6 and day >= 21) or (month < 9) or (month == 9 and day < 22):\n",
    "            return \"Summer\"\n",
    "        else:\n",
    "            return \"Autumn\"\n",
    "    \n",
    "    df[\"Season\"] = df[\"DateReported_dt\"].apply(get_season)\n",
    "    \n",
    "    # 12-hour formatted time (HourAMPM)\n",
    "    df[\"HourAMPM\"] = df[\"DateReported_dt\"].dt.strftime(\"%I:%M %p\")\n",
    "    \n",
    "    # Extract hour (0-23) for time-of-day\n",
    "    df[\"HourValue\"] = df[\"DateReported_dt\"].dt.hour\n",
    "    \n",
    "    def time_of_day(hour):\n",
    "        if pd.isnull(hour):\n",
    "            return None\n",
    "        if 5 <= hour < 12:\n",
    "            return \"Morning\"\n",
    "        elif 12 <= hour < 17:\n",
    "            return \"Afternoon\"\n",
    "        elif 17 <= hour < 21:\n",
    "            return \"Evening\"\n",
    "        else:\n",
    "            return \"Night\"\n",
    "    \n",
    "    df[\"TimeOfDay\"] = df[\"HourValue\"].apply(time_of_day)\n",
    "    \n",
    "    # Drop columns you no longer need\n",
    "    df.drop(columns=[col, \"DateReported_dt\", \"HourValue\"], inplace=True)\n",
    "    \n",
    "    return df\n",
    "\n",
    "# Example usage:\n",
    "df = convert_and_categorize_datereported(df)\n",
    "df.head()\n"
   ]
  },
  {
   "cell_type": "code",
   "execution_count": 8,
   "id": "94ae64b5",
   "metadata": {
    "execution": {
     "iopub.execute_input": "2025-07-21T01:13:30.785541Z",
     "iopub.status.busy": "2025-07-21T01:13:30.785326Z",
     "iopub.status.idle": "2025-07-21T01:13:30.812994Z",
     "shell.execute_reply": "2025-07-21T01:13:30.812342Z"
    },
    "papermill": {
     "duration": 0.033482,
     "end_time": "2025-07-21T01:13:30.814013",
     "exception": false,
     "start_time": "2025-07-21T01:13:30.780531",
     "status": "completed"
    },
    "tags": []
   },
   "outputs": [
    {
     "name": "stdout",
     "output_type": "stream",
     "text": [
      "<class 'pandas.core.frame.DataFrame'>\n",
      "RangeIndex: 25556 entries, 0 to 25555\n",
      "Data columns (total 15 columns):\n",
      " #   Column            Non-Null Count  Dtype         \n",
      "---  ------            --------------  -----         \n",
      " 0   RecordID          25556 non-null  int64         \n",
      " 1   Offense           25556 non-null  object        \n",
      " 2   IncidentID        25556 non-null  object        \n",
      " 3   BlockNumber       25556 non-null  object        \n",
      " 4   StreetName        25556 non-null  object        \n",
      " 5   Agency            25556 non-null  object        \n",
      " 6   HourReported      25556 non-null  object        \n",
      " 7   ReportingOfficer  25539 non-null  object        \n",
      " 8   Date              25556 non-null  datetime64[ns]\n",
      " 9   DateString        25556 non-null  object        \n",
      " 10  DayOfWeek         25556 non-null  object        \n",
      " 11  Weekend           25556 non-null  bool          \n",
      " 12  Season            25556 non-null  object        \n",
      " 13  HourAMPM          25556 non-null  object        \n",
      " 14  TimeOfDay         25556 non-null  object        \n",
      "dtypes: bool(1), datetime64[ns](1), int64(1), object(12)\n",
      "memory usage: 2.8+ MB\n"
     ]
    }
   ],
   "source": [
    "df.info()"
   ]
  },
  {
   "cell_type": "markdown",
   "id": "8238e8c9",
   "metadata": {
    "papermill": {
     "duration": 0.004094,
     "end_time": "2025-07-21T01:13:30.822546",
     "exception": false,
     "start_time": "2025-07-21T01:13:30.818452",
     "status": "completed"
    },
    "tags": []
   },
   "source": [
    "### Coordinates"
   ]
  },
  {
   "cell_type": "code",
   "execution_count": 9,
   "id": "14e71336",
   "metadata": {
    "execution": {
     "iopub.execute_input": "2025-07-21T01:13:30.832101Z",
     "iopub.status.busy": "2025-07-21T01:13:30.831532Z",
     "iopub.status.idle": "2025-07-21T01:13:31.003207Z",
     "shell.execute_reply": "2025-07-21T01:13:31.002610Z"
    },
    "papermill": {
     "duration": 0.177645,
     "end_time": "2025-07-21T01:13:31.004315",
     "exception": false,
     "start_time": "2025-07-21T01:13:30.826670",
     "status": "completed"
    },
    "tags": []
   },
   "outputs": [
    {
     "name": "stdout",
     "output_type": "stream",
     "text": [
      "Loaded geocode cache.\n",
      "Error geocoding  US-250 E, 500: REQUEST_DENIED (You must enable Billing on the Google Cloud Project at https://console.cloud.google.com/project/_/billing/enable Learn more at https://developers.google.com/maps/gmp-get-started)\n",
      "Geocoded  US-250 E, 500: None, None\n",
      "Error geocoding 1300 BELLEVIEW AVE, 3013: REQUEST_DENIED (You must enable Billing on the Google Cloud Project at https://console.cloud.google.com/project/_/billing/enable Learn more at https://developers.google.com/maps/gmp-get-started)\n",
      "Geocoded 1300 BELLEVIEW AVE, 3013: None, None\n",
      "Geocode cache updated and saved.\n"
     ]
    },
    {
     "data": {
      "text/html": [
       "<div>\n",
       "<style scoped>\n",
       "    .dataframe tbody tr th:only-of-type {\n",
       "        vertical-align: middle;\n",
       "    }\n",
       "\n",
       "    .dataframe tbody tr th {\n",
       "        vertical-align: top;\n",
       "    }\n",
       "\n",
       "    .dataframe thead th {\n",
       "        text-align: right;\n",
       "    }\n",
       "</style>\n",
       "<table border=\"1\" class=\"dataframe\">\n",
       "  <thead>\n",
       "    <tr style=\"text-align: right;\">\n",
       "      <th></th>\n",
       "      <th>RecordID</th>\n",
       "      <th>Offense</th>\n",
       "      <th>IncidentID</th>\n",
       "      <th>BlockNumber</th>\n",
       "      <th>StreetName</th>\n",
       "      <th>Agency</th>\n",
       "      <th>HourReported</th>\n",
       "      <th>ReportingOfficer</th>\n",
       "      <th>Date</th>\n",
       "      <th>DateString</th>\n",
       "      <th>DayOfWeek</th>\n",
       "      <th>Weekend</th>\n",
       "      <th>Season</th>\n",
       "      <th>HourAMPM</th>\n",
       "      <th>TimeOfDay</th>\n",
       "      <th>FullStreet</th>\n",
       "      <th>lat</th>\n",
       "      <th>lon</th>\n",
       "    </tr>\n",
       "  </thead>\n",
       "  <tbody>\n",
       "    <tr>\n",
       "      <th>0</th>\n",
       "      <td>1</td>\n",
       "      <td>Larceny - All Other</td>\n",
       "      <td>202500025307</td>\n",
       "      <td>1100</td>\n",
       "      <td>ST CHARLES CT</td>\n",
       "      <td>CPD</td>\n",
       "      <td>2147</td>\n",
       "      <td>Hudson, Jesse</td>\n",
       "      <td>2025-07-18 21:47:37</td>\n",
       "      <td>2025-07-18 09:47:37 PM</td>\n",
       "      <td>Friday</td>\n",
       "      <td>False</td>\n",
       "      <td>Summer</td>\n",
       "      <td>09:47 PM</td>\n",
       "      <td>Night</td>\n",
       "      <td>1100 ST CHARLES CT</td>\n",
       "      <td>38.043301</td>\n",
       "      <td>-78.461281</td>\n",
       "    </tr>\n",
       "    <tr>\n",
       "      <th>1</th>\n",
       "      <td>2</td>\n",
       "      <td>Assault Aggravated</td>\n",
       "      <td>202500025298</td>\n",
       "      <td>800</td>\n",
       "      <td>PROSPECT AVE</td>\n",
       "      <td>CPD</td>\n",
       "      <td>2009</td>\n",
       "      <td>Abdelgayed, Adam</td>\n",
       "      <td>2025-07-18 20:09:25</td>\n",
       "      <td>2025-07-18 08:09:25 PM</td>\n",
       "      <td>Friday</td>\n",
       "      <td>False</td>\n",
       "      <td>Summer</td>\n",
       "      <td>08:09 PM</td>\n",
       "      <td>Evening</td>\n",
       "      <td>800 PROSPECT AVE</td>\n",
       "      <td>38.021196</td>\n",
       "      <td>-78.496659</td>\n",
       "    </tr>\n",
       "    <tr>\n",
       "      <th>2</th>\n",
       "      <td>3</td>\n",
       "      <td>Burglary</td>\n",
       "      <td>202500025266</td>\n",
       "      <td>900</td>\n",
       "      <td>HENRY AVE</td>\n",
       "      <td>CPD</td>\n",
       "      <td>1651</td>\n",
       "      <td>Kirby, Tyree</td>\n",
       "      <td>2025-07-18 16:51:52</td>\n",
       "      <td>2025-07-18 04:51:52 PM</td>\n",
       "      <td>Friday</td>\n",
       "      <td>False</td>\n",
       "      <td>Summer</td>\n",
       "      <td>04:51 PM</td>\n",
       "      <td>Afternoon</td>\n",
       "      <td>900 HENRY AVE</td>\n",
       "      <td>38.038941</td>\n",
       "      <td>-78.486801</td>\n",
       "    </tr>\n",
       "    <tr>\n",
       "      <th>3</th>\n",
       "      <td>4</td>\n",
       "      <td>Hit and Run</td>\n",
       "      <td>202500025262</td>\n",
       "      <td></td>\n",
       "      <td>RUGBY AVE / ROSE HILL DR</td>\n",
       "      <td>CPD</td>\n",
       "      <td>1616</td>\n",
       "      <td>Hudson, Jesse</td>\n",
       "      <td>2025-07-18 16:16:41</td>\n",
       "      <td>2025-07-18 04:16:41 PM</td>\n",
       "      <td>Friday</td>\n",
       "      <td>False</td>\n",
       "      <td>Summer</td>\n",
       "      <td>04:16 PM</td>\n",
       "      <td>Afternoon</td>\n",
       "      <td>RUGBY AVE / ROSE HILL DR</td>\n",
       "      <td>38.045329</td>\n",
       "      <td>-78.483712</td>\n",
       "    </tr>\n",
       "    <tr>\n",
       "      <th>4</th>\n",
       "      <td>5</td>\n",
       "      <td>Misc - Criminal Call</td>\n",
       "      <td>202500025259</td>\n",
       "      <td>1200</td>\n",
       "      <td>SMITH ST</td>\n",
       "      <td>CPD</td>\n",
       "      <td>1549</td>\n",
       "      <td>Rigsby, Lloyd</td>\n",
       "      <td>2025-07-18 15:49:43</td>\n",
       "      <td>2025-07-18 03:49:43 PM</td>\n",
       "      <td>Friday</td>\n",
       "      <td>False</td>\n",
       "      <td>Summer</td>\n",
       "      <td>03:49 PM</td>\n",
       "      <td>Afternoon</td>\n",
       "      <td>1200 SMITH ST</td>\n",
       "      <td>38.041130</td>\n",
       "      <td>-78.458541</td>\n",
       "    </tr>\n",
       "  </tbody>\n",
       "</table>\n",
       "</div>"
      ],
      "text/plain": [
       "   RecordID               Offense    IncidentID BlockNumber  \\\n",
       "0         1   Larceny - All Other  202500025307        1100   \n",
       "1         2    Assault Aggravated  202500025298         800   \n",
       "2         3              Burglary  202500025266         900   \n",
       "3         4           Hit and Run  202500025262               \n",
       "4         5  Misc - Criminal Call  202500025259        1200   \n",
       "\n",
       "                 StreetName Agency HourReported  ReportingOfficer  \\\n",
       "0             ST CHARLES CT    CPD         2147     Hudson, Jesse   \n",
       "1              PROSPECT AVE    CPD         2009  Abdelgayed, Adam   \n",
       "2                 HENRY AVE    CPD         1651      Kirby, Tyree   \n",
       "3  RUGBY AVE / ROSE HILL DR    CPD         1616     Hudson, Jesse   \n",
       "4                  SMITH ST    CPD         1549     Rigsby, Lloyd   \n",
       "\n",
       "                 Date              DateString DayOfWeek  Weekend  Season  \\\n",
       "0 2025-07-18 21:47:37  2025-07-18 09:47:37 PM    Friday    False  Summer   \n",
       "1 2025-07-18 20:09:25  2025-07-18 08:09:25 PM    Friday    False  Summer   \n",
       "2 2025-07-18 16:51:52  2025-07-18 04:51:52 PM    Friday    False  Summer   \n",
       "3 2025-07-18 16:16:41  2025-07-18 04:16:41 PM    Friday    False  Summer   \n",
       "4 2025-07-18 15:49:43  2025-07-18 03:49:43 PM    Friday    False  Summer   \n",
       "\n",
       "   HourAMPM  TimeOfDay                 FullStreet        lat        lon  \n",
       "0  09:47 PM      Night         1100 ST CHARLES CT  38.043301 -78.461281  \n",
       "1  08:09 PM    Evening           800 PROSPECT AVE  38.021196 -78.496659  \n",
       "2  04:51 PM  Afternoon              900 HENRY AVE  38.038941 -78.486801  \n",
       "3  04:16 PM  Afternoon   RUGBY AVE / ROSE HILL DR  38.045329 -78.483712  \n",
       "4  03:49 PM  Afternoon              1200 SMITH ST  38.041130 -78.458541  "
      ]
     },
     "execution_count": 9,
     "metadata": {},
     "output_type": "execute_result"
    }
   ],
   "source": [
    "# Combine BlockNumber and StreetName into a full address string\n",
    "df['FullStreet'] = df['BlockNumber'].astype(str) + \" \" + df['StreetName']\n",
    "\n",
    "# --- Step 1: Setup the Google Maps Client and Cache ---\n",
    "gmaps = googlemaps.Client(key=GOOGLE_API_KEY)\n",
    "\n",
    "# Try to load cached geocoding results if available.\n",
    "try:\n",
    "    with open(\"geocode_cache_google.pkl\", \"rb\") as f:\n",
    "        street_coords = pickle.load(f)\n",
    "    print(\"Loaded geocode cache.\")\n",
    "except FileNotFoundError:\n",
    "    street_coords = {}\n",
    "    print(\"No cache found; starting fresh.\")\n",
    "\n",
    "def geocode_address(address):\n",
    "    try:\n",
    "        # Append city and state to help geocoding\n",
    "        result = gmaps.geocode(f\"{address}, Charlottesville, VA\")\n",
    "        if result:\n",
    "            lat = result[0]['geometry']['location']['lat']\n",
    "            lon = result[0]['geometry']['location']['lng']\n",
    "            return lat, lon\n",
    "    except Exception as e:\n",
    "        print(f\"Error geocoding {address}: {e}\")\n",
    "    return None, None\n",
    "\n",
    "# --- Step 2: Geocode Only New Addresses ---\n",
    "unique_addresses = df['FullStreet'].unique()\n",
    "for address in unique_addresses:\n",
    "    if address not in street_coords:\n",
    "        lat, lon = geocode_address(address)\n",
    "        street_coords[address] = (lat, lon)\n",
    "        print(f\"Geocoded {address}: {lat}, {lon}\")\n",
    "\n",
    "# Save the updated cache to disk.\n",
    "with open(\"geocode_cache_google.pkl\", \"wb\") as f:\n",
    "    pickle.dump(street_coords, f)\n",
    "    print(\"Geocode cache updated and saved.\")\n",
    "\n",
    "# --- Step 3: Map Coordinates Back to DataFrame ---\n",
    "df['lat'] = df['FullStreet'].map(lambda s: street_coords.get(s, (None, None))[0])\n",
    "df['lon'] = df['FullStreet'].map(lambda s: street_coords.get(s, (None, None))[1])\n",
    "\n",
    "df.head()"
   ]
  },
  {
   "cell_type": "markdown",
   "id": "47d13ea6",
   "metadata": {
    "papermill": {
     "duration": 0.004434,
     "end_time": "2025-07-21T01:13:31.013587",
     "exception": false,
     "start_time": "2025-07-21T01:13:31.009153",
     "status": "completed"
    },
    "tags": []
   },
   "source": [
    "### Neighborhood"
   ]
  },
  {
   "cell_type": "code",
   "execution_count": 10,
   "id": "1595a088",
   "metadata": {
    "execution": {
     "iopub.execute_input": "2025-07-21T01:13:31.023209Z",
     "iopub.status.busy": "2025-07-21T01:13:31.022977Z",
     "iopub.status.idle": "2025-07-21T01:13:32.382108Z",
     "shell.execute_reply": "2025-07-21T01:13:32.381442Z"
    },
    "papermill": {
     "duration": 1.365321,
     "end_time": "2025-07-21T01:13:32.383280",
     "exception": false,
     "start_time": "2025-07-21T01:13:31.017959",
     "status": "completed"
    },
    "tags": []
   },
   "outputs": [
    {
     "name": "stdout",
     "output_type": "stream",
     "text": [
      "Loaded neighborhood cache.\n"
     ]
    },
    {
     "name": "stdout",
     "output_type": "stream",
     "text": [
      "Error getting neighborhood for nan, nan: HTTP Error: 400\n",
      "Error getting neighborhood for nan, nan: HTTP Error: 400\n",
      "Error getting neighborhood for nan, nan: HTTP Error: 400\n",
      "Error getting neighborhood for nan, nan: HTTP Error: 400\n"
     ]
    },
    {
     "name": "stdout",
     "output_type": "stream",
     "text": [
      "Error getting neighborhood for nan, nan: HTTP Error: 400\n",
      "Error getting neighborhood for nan, nan: HTTP Error: 400\n",
      "Error getting neighborhood for nan, nan: HTTP Error: 400\n"
     ]
    },
    {
     "name": "stdout",
     "output_type": "stream",
     "text": [
      "Error getting neighborhood for nan, nan: HTTP Error: 400\n",
      "Error getting neighborhood for nan, nan: HTTP Error: 400\n",
      "Error getting neighborhood for nan, nan: HTTP Error: 400\n",
      "Error getting neighborhood for nan, nan: HTTP Error: 400\n",
      "Error getting neighborhood for nan, nan: HTTP Error: 400\n",
      "Error getting neighborhood for nan, nan: HTTP Error: 400\n"
     ]
    },
    {
     "name": "stdout",
     "output_type": "stream",
     "text": [
      "Error getting neighborhood for nan, nan: HTTP Error: 400\n",
      "Error getting neighborhood for nan, nan: HTTP Error: 400\n",
      "Error getting neighborhood for nan, nan: HTTP Error: 400\n",
      "Error getting neighborhood for nan, nan: HTTP Error: 400\n",
      "Error getting neighborhood for nan, nan: HTTP Error: 400\n",
      "Error getting neighborhood for nan, nan: HTTP Error: 400\n"
     ]
    },
    {
     "name": "stdout",
     "output_type": "stream",
     "text": [
      "Error getting neighborhood for nan, nan: HTTP Error: 400\n",
      "Error getting neighborhood for nan, nan: HTTP Error: 400\n",
      "Error getting neighborhood for nan, nan: HTTP Error: 400\n",
      "Error getting neighborhood for nan, nan: HTTP Error: 400\n",
      "Error getting neighborhood for nan, nan: HTTP Error: 400\n",
      "Error getting neighborhood for nan, nan: HTTP Error: 400\n",
      "Error getting neighborhood for nan, nan: HTTP Error: 400\n",
      "Error getting neighborhood for nan, nan: HTTP Error: 400\n"
     ]
    },
    {
     "name": "stdout",
     "output_type": "stream",
     "text": [
      "Error getting neighborhood for nan, nan: HTTP Error: 400\n",
      "Error getting neighborhood for nan, nan: HTTP Error: 400\n",
      "Error getting neighborhood for nan, nan: HTTP Error: 400\n",
      "Error getting neighborhood for nan, nan: HTTP Error: 400\n",
      "Error getting neighborhood for nan, nan: HTTP Error: 400\n"
     ]
    },
    {
     "name": "stdout",
     "output_type": "stream",
     "text": [
      "Error getting neighborhood for nan, nan: HTTP Error: 400\n",
      "Error getting neighborhood for nan, nan: HTTP Error: 400\n",
      "Error getting neighborhood for nan, nan: HTTP Error: 400\n",
      "Error getting neighborhood for nan, nan: HTTP Error: 400\n",
      "Error getting neighborhood for nan, nan: HTTP Error: 400\n",
      "Error getting neighborhood for nan, nan: HTTP Error: 400\n",
      "Error getting neighborhood for nan, nan: HTTP Error: 400\n",
      "Error getting neighborhood for nan, nan: HTTP Error: 400\n",
      "Error getting neighborhood for nan, nan: HTTP Error: 400\n"
     ]
    },
    {
     "name": "stdout",
     "output_type": "stream",
     "text": [
      "Error getting neighborhood for nan, nan: HTTP Error: 400\n",
      "Error getting neighborhood for nan, nan: HTTP Error: 400\n",
      "Error getting neighborhood for nan, nan: HTTP Error: 400\n",
      "Error getting neighborhood for nan, nan: HTTP Error: 400\n",
      "Error getting neighborhood for nan, nan: HTTP Error: 400\n",
      "Error getting neighborhood for nan, nan: HTTP Error: 400\n"
     ]
    },
    {
     "name": "stdout",
     "output_type": "stream",
     "text": [
      "Error getting neighborhood for nan, nan: HTTP Error: 400\n",
      "Error getting neighborhood for nan, nan: HTTP Error: 400\n",
      "Error getting neighborhood for nan, nan: HTTP Error: 400\n",
      "Error getting neighborhood for nan, nan: HTTP Error: 400\n",
      "Error getting neighborhood for nan, nan: HTTP Error: 400\n",
      "Error getting neighborhood for nan, nan: HTTP Error: 400\n",
      "Error getting neighborhood for nan, nan: HTTP Error: 400\n",
      "Error getting neighborhood for nan, nan: HTTP Error: 400\n",
      "Error getting neighborhood for nan, nan: HTTP Error: 400\n"
     ]
    },
    {
     "name": "stdout",
     "output_type": "stream",
     "text": [
      "Error getting neighborhood for nan, nan: HTTP Error: 400\n",
      "Error getting neighborhood for nan, nan: HTTP Error: 400\n",
      "Error getting neighborhood for nan, nan: HTTP Error: 400\n",
      "Error getting neighborhood for nan, nan: HTTP Error: 400\n"
     ]
    },
    {
     "name": "stdout",
     "output_type": "stream",
     "text": [
      "Error getting neighborhood for nan, nan: HTTP Error: 400\n",
      "Error getting neighborhood for nan, nan: HTTP Error: 400\n"
     ]
    },
    {
     "data": {
      "text/html": [
       "<div>\n",
       "<style scoped>\n",
       "    .dataframe tbody tr th:only-of-type {\n",
       "        vertical-align: middle;\n",
       "    }\n",
       "\n",
       "    .dataframe tbody tr th {\n",
       "        vertical-align: top;\n",
       "    }\n",
       "\n",
       "    .dataframe thead th {\n",
       "        text-align: right;\n",
       "    }\n",
       "</style>\n",
       "<table border=\"1\" class=\"dataframe\">\n",
       "  <thead>\n",
       "    <tr style=\"text-align: right;\">\n",
       "      <th></th>\n",
       "      <th>RecordID</th>\n",
       "      <th>Offense</th>\n",
       "      <th>IncidentID</th>\n",
       "      <th>BlockNumber</th>\n",
       "      <th>StreetName</th>\n",
       "      <th>Agency</th>\n",
       "      <th>HourReported</th>\n",
       "      <th>ReportingOfficer</th>\n",
       "      <th>Date</th>\n",
       "      <th>DateString</th>\n",
       "      <th>DayOfWeek</th>\n",
       "      <th>Weekend</th>\n",
       "      <th>Season</th>\n",
       "      <th>HourAMPM</th>\n",
       "      <th>TimeOfDay</th>\n",
       "      <th>FullStreet</th>\n",
       "      <th>lat</th>\n",
       "      <th>lon</th>\n",
       "      <th>neighborhood</th>\n",
       "    </tr>\n",
       "  </thead>\n",
       "  <tbody>\n",
       "    <tr>\n",
       "      <th>0</th>\n",
       "      <td>1</td>\n",
       "      <td>Larceny - All Other</td>\n",
       "      <td>202500025307</td>\n",
       "      <td>1100</td>\n",
       "      <td>ST CHARLES CT</td>\n",
       "      <td>CPD</td>\n",
       "      <td>2147</td>\n",
       "      <td>Hudson, Jesse</td>\n",
       "      <td>2025-07-18 21:47:37</td>\n",
       "      <td>2025-07-18 09:47:37 PM</td>\n",
       "      <td>Friday</td>\n",
       "      <td>False</td>\n",
       "      <td>Summer</td>\n",
       "      <td>09:47 PM</td>\n",
       "      <td>Night</td>\n",
       "      <td>1100 ST CHARLES CT</td>\n",
       "      <td>38.043301</td>\n",
       "      <td>-78.461281</td>\n",
       "      <td>Locust Grove</td>\n",
       "    </tr>\n",
       "    <tr>\n",
       "      <th>1</th>\n",
       "      <td>2</td>\n",
       "      <td>Assault Aggravated</td>\n",
       "      <td>202500025298</td>\n",
       "      <td>800</td>\n",
       "      <td>PROSPECT AVE</td>\n",
       "      <td>CPD</td>\n",
       "      <td>2009</td>\n",
       "      <td>Abdelgayed, Adam</td>\n",
       "      <td>2025-07-18 20:09:25</td>\n",
       "      <td>2025-07-18 08:09:25 PM</td>\n",
       "      <td>Friday</td>\n",
       "      <td>False</td>\n",
       "      <td>Summer</td>\n",
       "      <td>08:09 PM</td>\n",
       "      <td>Evening</td>\n",
       "      <td>800 PROSPECT AVE</td>\n",
       "      <td>38.021196</td>\n",
       "      <td>-78.496659</td>\n",
       "      <td>Fifeville</td>\n",
       "    </tr>\n",
       "    <tr>\n",
       "      <th>2</th>\n",
       "      <td>3</td>\n",
       "      <td>Burglary</td>\n",
       "      <td>202500025266</td>\n",
       "      <td>900</td>\n",
       "      <td>HENRY AVE</td>\n",
       "      <td>CPD</td>\n",
       "      <td>1651</td>\n",
       "      <td>Kirby, Tyree</td>\n",
       "      <td>2025-07-18 16:51:52</td>\n",
       "      <td>2025-07-18 04:51:52 PM</td>\n",
       "      <td>Friday</td>\n",
       "      <td>False</td>\n",
       "      <td>Summer</td>\n",
       "      <td>04:51 PM</td>\n",
       "      <td>Afternoon</td>\n",
       "      <td>900 HENRY AVE</td>\n",
       "      <td>38.038941</td>\n",
       "      <td>-78.486801</td>\n",
       "      <td>Rose Hill</td>\n",
       "    </tr>\n",
       "    <tr>\n",
       "      <th>3</th>\n",
       "      <td>4</td>\n",
       "      <td>Hit and Run</td>\n",
       "      <td>202500025262</td>\n",
       "      <td></td>\n",
       "      <td>RUGBY AVE / ROSE HILL DR</td>\n",
       "      <td>CPD</td>\n",
       "      <td>1616</td>\n",
       "      <td>Hudson, Jesse</td>\n",
       "      <td>2025-07-18 16:16:41</td>\n",
       "      <td>2025-07-18 04:16:41 PM</td>\n",
       "      <td>Friday</td>\n",
       "      <td>False</td>\n",
       "      <td>Summer</td>\n",
       "      <td>04:16 PM</td>\n",
       "      <td>Afternoon</td>\n",
       "      <td>RUGBY AVE / ROSE HILL DR</td>\n",
       "      <td>38.045329</td>\n",
       "      <td>-78.483712</td>\n",
       "      <td>Barracks Rugby</td>\n",
       "    </tr>\n",
       "    <tr>\n",
       "      <th>4</th>\n",
       "      <td>5</td>\n",
       "      <td>Misc - Criminal Call</td>\n",
       "      <td>202500025259</td>\n",
       "      <td>1200</td>\n",
       "      <td>SMITH ST</td>\n",
       "      <td>CPD</td>\n",
       "      <td>1549</td>\n",
       "      <td>Rigsby, Lloyd</td>\n",
       "      <td>2025-07-18 15:49:43</td>\n",
       "      <td>2025-07-18 03:49:43 PM</td>\n",
       "      <td>Friday</td>\n",
       "      <td>False</td>\n",
       "      <td>Summer</td>\n",
       "      <td>03:49 PM</td>\n",
       "      <td>Afternoon</td>\n",
       "      <td>1200 SMITH ST</td>\n",
       "      <td>38.041130</td>\n",
       "      <td>-78.458541</td>\n",
       "      <td>Locust Grove</td>\n",
       "    </tr>\n",
       "  </tbody>\n",
       "</table>\n",
       "</div>"
      ],
      "text/plain": [
       "   RecordID               Offense    IncidentID BlockNumber  \\\n",
       "0         1   Larceny - All Other  202500025307        1100   \n",
       "1         2    Assault Aggravated  202500025298         800   \n",
       "2         3              Burglary  202500025266         900   \n",
       "3         4           Hit and Run  202500025262               \n",
       "4         5  Misc - Criminal Call  202500025259        1200   \n",
       "\n",
       "                 StreetName Agency HourReported  ReportingOfficer  \\\n",
       "0             ST CHARLES CT    CPD         2147     Hudson, Jesse   \n",
       "1              PROSPECT AVE    CPD         2009  Abdelgayed, Adam   \n",
       "2                 HENRY AVE    CPD         1651      Kirby, Tyree   \n",
       "3  RUGBY AVE / ROSE HILL DR    CPD         1616     Hudson, Jesse   \n",
       "4                  SMITH ST    CPD         1549     Rigsby, Lloyd   \n",
       "\n",
       "                 Date              DateString DayOfWeek  Weekend  Season  \\\n",
       "0 2025-07-18 21:47:37  2025-07-18 09:47:37 PM    Friday    False  Summer   \n",
       "1 2025-07-18 20:09:25  2025-07-18 08:09:25 PM    Friday    False  Summer   \n",
       "2 2025-07-18 16:51:52  2025-07-18 04:51:52 PM    Friday    False  Summer   \n",
       "3 2025-07-18 16:16:41  2025-07-18 04:16:41 PM    Friday    False  Summer   \n",
       "4 2025-07-18 15:49:43  2025-07-18 03:49:43 PM    Friday    False  Summer   \n",
       "\n",
       "   HourAMPM  TimeOfDay                 FullStreet        lat        lon  \\\n",
       "0  09:47 PM      Night         1100 ST CHARLES CT  38.043301 -78.461281   \n",
       "1  08:09 PM    Evening           800 PROSPECT AVE  38.021196 -78.496659   \n",
       "2  04:51 PM  Afternoon              900 HENRY AVE  38.038941 -78.486801   \n",
       "3  04:16 PM  Afternoon   RUGBY AVE / ROSE HILL DR  38.045329 -78.483712   \n",
       "4  03:49 PM  Afternoon              1200 SMITH ST  38.041130 -78.458541   \n",
       "\n",
       "     neighborhood  \n",
       "0    Locust Grove  \n",
       "1       Fifeville  \n",
       "2       Rose Hill  \n",
       "3  Barracks Rugby  \n",
       "4    Locust Grove  "
      ]
     },
     "execution_count": 10,
     "metadata": {},
     "output_type": "execute_result"
    }
   ],
   "source": [
    "# Initialize the Google Maps client.\n",
    "gmaps = googlemaps.Client(key=GOOGLE_API_KEY)\n",
    "\n",
    "# Try to load a persistent neighborhood cache if available.\n",
    "try:\n",
    "    with open(\"neighborhood_cache.pkl\", \"rb\") as f:\n",
    "        neighborhood_cache = pickle.load(f)\n",
    "    print(\"Loaded neighborhood cache.\")\n",
    "except FileNotFoundError:\n",
    "    neighborhood_cache = {}\n",
    "    print(\"No neighborhood cache found; starting fresh.\")\n",
    "\n",
    "def get_neighborhood(lat, lon):\n",
    "    \"\"\"\n",
    "    Reverse geocodes a latitude and longitude to retrieve the neighborhood.\n",
    "    Caches results to speed up subsequent lookups.\n",
    "    \"\"\"\n",
    "    key = (lat, lon)\n",
    "    if key in neighborhood_cache:\n",
    "        return neighborhood_cache[key]\n",
    "    \n",
    "    try:\n",
    "        result = gmaps.reverse_geocode((lat, lon))\n",
    "        if result:\n",
    "            # Look for the 'neighborhood' component in the first result.\n",
    "            for component in result[0]['address_components']:\n",
    "                if 'neighborhood' in component['types']:\n",
    "                    neighborhood = component['long_name']\n",
    "                    neighborhood_cache[key] = neighborhood\n",
    "                    return neighborhood\n",
    "            # If no neighborhood is found, return \"N/A\"\n",
    "            neighborhood_cache[key] = \"N/A\"\n",
    "            return \"N/A\"\n",
    "    except Exception as e:\n",
    "        print(f\"Error getting neighborhood for {lat}, {lon}: {e}\")\n",
    "        return \"N/A\"\n",
    "    \n",
    "    # Pause to respect usage limits.\n",
    "    time.sleep(1)\n",
    "\n",
    "# Example usage: Apply to your DataFrame 'df' that already has 'lat' and 'lon' columns.\n",
    "df['neighborhood'] = df.apply(lambda row: get_neighborhood(row['lat'], row['lon']), axis=1)\n",
    "\n",
    "# Save the updated neighborhood cache.\n",
    "with open(\"neighborhood_cache.pkl\", \"wb\") as f:\n",
    "    pickle.dump(neighborhood_cache, f)\n",
    "\n",
    "df.head()\n"
   ]
  },
  {
   "cell_type": "markdown",
   "id": "ce0cfe5f",
   "metadata": {
    "papermill": {
     "duration": 0.005149,
     "end_time": "2025-07-21T01:13:32.394008",
     "exception": false,
     "start_time": "2025-07-21T01:13:32.388859",
     "status": "completed"
    },
    "tags": []
   },
   "source": [
    "### Zip"
   ]
  },
  {
   "cell_type": "code",
   "execution_count": 11,
   "id": "d00e670d",
   "metadata": {
    "execution": {
     "iopub.execute_input": "2025-07-21T01:13:32.405245Z",
     "iopub.status.busy": "2025-07-21T01:13:32.404813Z",
     "iopub.status.idle": "2025-07-21T01:14:34.778238Z",
     "shell.execute_reply": "2025-07-21T01:14:34.777556Z"
    },
    "papermill": {
     "duration": 62.380312,
     "end_time": "2025-07-21T01:14:34.779408",
     "exception": false,
     "start_time": "2025-07-21T01:13:32.399096",
     "status": "completed"
    },
    "tags": []
   },
   "outputs": [
    {
     "name": "stdout",
     "output_type": "stream",
     "text": [
      "Loaded zip cache.\n",
      "Error getting ZIP for nan, nan: Must be a coordinate pair or Point\n"
     ]
    },
    {
     "name": "stdout",
     "output_type": "stream",
     "text": [
      "Error getting ZIP for nan, nan: Must be a coordinate pair or Point\n"
     ]
    },
    {
     "name": "stdout",
     "output_type": "stream",
     "text": [
      "Error getting ZIP for nan, nan: Must be a coordinate pair or Point\n"
     ]
    },
    {
     "name": "stdout",
     "output_type": "stream",
     "text": [
      "Error getting ZIP for nan, nan: Must be a coordinate pair or Point\n"
     ]
    },
    {
     "name": "stdout",
     "output_type": "stream",
     "text": [
      "Error getting ZIP for nan, nan: Must be a coordinate pair or Point\n"
     ]
    },
    {
     "name": "stdout",
     "output_type": "stream",
     "text": [
      "Error getting ZIP for nan, nan: Must be a coordinate pair or Point\n"
     ]
    },
    {
     "name": "stdout",
     "output_type": "stream",
     "text": [
      "Error getting ZIP for nan, nan: Must be a coordinate pair or Point\n"
     ]
    },
    {
     "name": "stdout",
     "output_type": "stream",
     "text": [
      "Error getting ZIP for nan, nan: Must be a coordinate pair or Point\n"
     ]
    },
    {
     "name": "stdout",
     "output_type": "stream",
     "text": [
      "Error getting ZIP for nan, nan: Must be a coordinate pair or Point\n"
     ]
    },
    {
     "name": "stdout",
     "output_type": "stream",
     "text": [
      "Error getting ZIP for nan, nan: Must be a coordinate pair or Point\n"
     ]
    },
    {
     "name": "stdout",
     "output_type": "stream",
     "text": [
      "Error getting ZIP for nan, nan: Must be a coordinate pair or Point\n"
     ]
    },
    {
     "name": "stdout",
     "output_type": "stream",
     "text": [
      "Error getting ZIP for nan, nan: Must be a coordinate pair or Point\n"
     ]
    },
    {
     "name": "stdout",
     "output_type": "stream",
     "text": [
      "Error getting ZIP for nan, nan: Must be a coordinate pair or Point\n"
     ]
    },
    {
     "name": "stdout",
     "output_type": "stream",
     "text": [
      "Error getting ZIP for nan, nan: Must be a coordinate pair or Point\n"
     ]
    },
    {
     "name": "stdout",
     "output_type": "stream",
     "text": [
      "Error getting ZIP for nan, nan: Must be a coordinate pair or Point\n"
     ]
    },
    {
     "name": "stdout",
     "output_type": "stream",
     "text": [
      "Error getting ZIP for nan, nan: Must be a coordinate pair or Point\n"
     ]
    },
    {
     "name": "stdout",
     "output_type": "stream",
     "text": [
      "Error getting ZIP for nan, nan: Must be a coordinate pair or Point\n"
     ]
    },
    {
     "name": "stdout",
     "output_type": "stream",
     "text": [
      "Error getting ZIP for nan, nan: Must be a coordinate pair or Point\n"
     ]
    },
    {
     "name": "stdout",
     "output_type": "stream",
     "text": [
      "Error getting ZIP for nan, nan: Must be a coordinate pair or Point\n"
     ]
    },
    {
     "name": "stdout",
     "output_type": "stream",
     "text": [
      "Error getting ZIP for nan, nan: Must be a coordinate pair or Point\n"
     ]
    },
    {
     "name": "stdout",
     "output_type": "stream",
     "text": [
      "Error getting ZIP for nan, nan: Must be a coordinate pair or Point\n"
     ]
    },
    {
     "name": "stdout",
     "output_type": "stream",
     "text": [
      "Error getting ZIP for nan, nan: Must be a coordinate pair or Point\n"
     ]
    },
    {
     "name": "stdout",
     "output_type": "stream",
     "text": [
      "Error getting ZIP for nan, nan: Must be a coordinate pair or Point\n"
     ]
    },
    {
     "name": "stdout",
     "output_type": "stream",
     "text": [
      "Error getting ZIP for nan, nan: Must be a coordinate pair or Point\n"
     ]
    },
    {
     "name": "stdout",
     "output_type": "stream",
     "text": [
      "Error getting ZIP for nan, nan: Must be a coordinate pair or Point\n"
     ]
    },
    {
     "name": "stdout",
     "output_type": "stream",
     "text": [
      "Error getting ZIP for nan, nan: Must be a coordinate pair or Point\n"
     ]
    },
    {
     "name": "stdout",
     "output_type": "stream",
     "text": [
      "Error getting ZIP for nan, nan: Must be a coordinate pair or Point\n"
     ]
    },
    {
     "name": "stdout",
     "output_type": "stream",
     "text": [
      "Error getting ZIP for nan, nan: Must be a coordinate pair or Point\n"
     ]
    },
    {
     "name": "stdout",
     "output_type": "stream",
     "text": [
      "Error getting ZIP for nan, nan: Must be a coordinate pair or Point\n"
     ]
    },
    {
     "name": "stdout",
     "output_type": "stream",
     "text": [
      "Error getting ZIP for nan, nan: Must be a coordinate pair or Point\n"
     ]
    },
    {
     "name": "stdout",
     "output_type": "stream",
     "text": [
      "Error getting ZIP for nan, nan: Must be a coordinate pair or Point\n"
     ]
    },
    {
     "name": "stdout",
     "output_type": "stream",
     "text": [
      "Error getting ZIP for nan, nan: Must be a coordinate pair or Point\n"
     ]
    },
    {
     "name": "stdout",
     "output_type": "stream",
     "text": [
      "Error getting ZIP for nan, nan: Must be a coordinate pair or Point\n"
     ]
    },
    {
     "name": "stdout",
     "output_type": "stream",
     "text": [
      "Error getting ZIP for nan, nan: Must be a coordinate pair or Point\n"
     ]
    },
    {
     "name": "stdout",
     "output_type": "stream",
     "text": [
      "Error getting ZIP for nan, nan: Must be a coordinate pair or Point\n"
     ]
    },
    {
     "name": "stdout",
     "output_type": "stream",
     "text": [
      "Error getting ZIP for nan, nan: Must be a coordinate pair or Point\n"
     ]
    },
    {
     "name": "stdout",
     "output_type": "stream",
     "text": [
      "Error getting ZIP for nan, nan: Must be a coordinate pair or Point\n"
     ]
    },
    {
     "name": "stdout",
     "output_type": "stream",
     "text": [
      "Error getting ZIP for nan, nan: Must be a coordinate pair or Point\n"
     ]
    },
    {
     "name": "stdout",
     "output_type": "stream",
     "text": [
      "Error getting ZIP for nan, nan: Must be a coordinate pair or Point\n"
     ]
    },
    {
     "name": "stdout",
     "output_type": "stream",
     "text": [
      "Error getting ZIP for nan, nan: Must be a coordinate pair or Point\n"
     ]
    },
    {
     "name": "stdout",
     "output_type": "stream",
     "text": [
      "Error getting ZIP for nan, nan: Must be a coordinate pair or Point\n"
     ]
    },
    {
     "name": "stdout",
     "output_type": "stream",
     "text": [
      "Error getting ZIP for nan, nan: Must be a coordinate pair or Point\n"
     ]
    },
    {
     "name": "stdout",
     "output_type": "stream",
     "text": [
      "Error getting ZIP for nan, nan: Must be a coordinate pair or Point\n"
     ]
    },
    {
     "name": "stdout",
     "output_type": "stream",
     "text": [
      "Error getting ZIP for nan, nan: Must be a coordinate pair or Point\n"
     ]
    },
    {
     "name": "stdout",
     "output_type": "stream",
     "text": [
      "Error getting ZIP for nan, nan: Must be a coordinate pair or Point\n"
     ]
    },
    {
     "name": "stdout",
     "output_type": "stream",
     "text": [
      "Error getting ZIP for nan, nan: Must be a coordinate pair or Point\n"
     ]
    },
    {
     "name": "stdout",
     "output_type": "stream",
     "text": [
      "Error getting ZIP for nan, nan: Must be a coordinate pair or Point\n"
     ]
    },
    {
     "name": "stdout",
     "output_type": "stream",
     "text": [
      "Error getting ZIP for nan, nan: Must be a coordinate pair or Point\n"
     ]
    },
    {
     "name": "stdout",
     "output_type": "stream",
     "text": [
      "Error getting ZIP for nan, nan: Must be a coordinate pair or Point\n"
     ]
    },
    {
     "name": "stdout",
     "output_type": "stream",
     "text": [
      "Error getting ZIP for nan, nan: Must be a coordinate pair or Point\n"
     ]
    },
    {
     "name": "stdout",
     "output_type": "stream",
     "text": [
      "Error getting ZIP for nan, nan: Must be a coordinate pair or Point\n"
     ]
    },
    {
     "name": "stdout",
     "output_type": "stream",
     "text": [
      "Error getting ZIP for nan, nan: Must be a coordinate pair or Point\n"
     ]
    },
    {
     "name": "stdout",
     "output_type": "stream",
     "text": [
      "Error getting ZIP for nan, nan: Must be a coordinate pair or Point\n"
     ]
    },
    {
     "name": "stdout",
     "output_type": "stream",
     "text": [
      "Error getting ZIP for nan, nan: Must be a coordinate pair or Point\n"
     ]
    },
    {
     "name": "stdout",
     "output_type": "stream",
     "text": [
      "Error getting ZIP for nan, nan: Must be a coordinate pair or Point\n"
     ]
    },
    {
     "name": "stdout",
     "output_type": "stream",
     "text": [
      "Error getting ZIP for nan, nan: Must be a coordinate pair or Point\n"
     ]
    },
    {
     "name": "stdout",
     "output_type": "stream",
     "text": [
      "Error getting ZIP for nan, nan: Must be a coordinate pair or Point\n"
     ]
    },
    {
     "name": "stdout",
     "output_type": "stream",
     "text": [
      "Error getting ZIP for nan, nan: Must be a coordinate pair or Point\n"
     ]
    },
    {
     "name": "stdout",
     "output_type": "stream",
     "text": [
      "Error getting ZIP for nan, nan: Must be a coordinate pair or Point\n"
     ]
    },
    {
     "name": "stdout",
     "output_type": "stream",
     "text": [
      "Error getting ZIP for nan, nan: Must be a coordinate pair or Point\n"
     ]
    },
    {
     "name": "stdout",
     "output_type": "stream",
     "text": [
      "Error getting ZIP for nan, nan: Must be a coordinate pair or Point\n"
     ]
    },
    {
     "name": "stdout",
     "output_type": "stream",
     "text": [
      "Error getting ZIP for nan, nan: Must be a coordinate pair or Point\n"
     ]
    },
    {
     "data": {
      "text/html": [
       "<div>\n",
       "<style scoped>\n",
       "    .dataframe tbody tr th:only-of-type {\n",
       "        vertical-align: middle;\n",
       "    }\n",
       "\n",
       "    .dataframe tbody tr th {\n",
       "        vertical-align: top;\n",
       "    }\n",
       "\n",
       "    .dataframe thead th {\n",
       "        text-align: right;\n",
       "    }\n",
       "</style>\n",
       "<table border=\"1\" class=\"dataframe\">\n",
       "  <thead>\n",
       "    <tr style=\"text-align: right;\">\n",
       "      <th></th>\n",
       "      <th>RecordID</th>\n",
       "      <th>Offense</th>\n",
       "      <th>IncidentID</th>\n",
       "      <th>BlockNumber</th>\n",
       "      <th>StreetName</th>\n",
       "      <th>Agency</th>\n",
       "      <th>HourReported</th>\n",
       "      <th>ReportingOfficer</th>\n",
       "      <th>Date</th>\n",
       "      <th>DateString</th>\n",
       "      <th>DayOfWeek</th>\n",
       "      <th>Weekend</th>\n",
       "      <th>Season</th>\n",
       "      <th>HourAMPM</th>\n",
       "      <th>TimeOfDay</th>\n",
       "      <th>FullStreet</th>\n",
       "      <th>lat</th>\n",
       "      <th>lon</th>\n",
       "      <th>neighborhood</th>\n",
       "      <th>zip</th>\n",
       "    </tr>\n",
       "  </thead>\n",
       "  <tbody>\n",
       "    <tr>\n",
       "      <th>0</th>\n",
       "      <td>1</td>\n",
       "      <td>Larceny - All Other</td>\n",
       "      <td>202500025307</td>\n",
       "      <td>1100</td>\n",
       "      <td>ST CHARLES CT</td>\n",
       "      <td>CPD</td>\n",
       "      <td>2147</td>\n",
       "      <td>Hudson, Jesse</td>\n",
       "      <td>2025-07-18 21:47:37</td>\n",
       "      <td>2025-07-18 09:47:37 PM</td>\n",
       "      <td>Friday</td>\n",
       "      <td>False</td>\n",
       "      <td>Summer</td>\n",
       "      <td>09:47 PM</td>\n",
       "      <td>Night</td>\n",
       "      <td>1100 ST CHARLES CT</td>\n",
       "      <td>38.043301</td>\n",
       "      <td>-78.461281</td>\n",
       "      <td>Locust Grove</td>\n",
       "      <td>22901</td>\n",
       "    </tr>\n",
       "    <tr>\n",
       "      <th>1</th>\n",
       "      <td>2</td>\n",
       "      <td>Assault Aggravated</td>\n",
       "      <td>202500025298</td>\n",
       "      <td>800</td>\n",
       "      <td>PROSPECT AVE</td>\n",
       "      <td>CPD</td>\n",
       "      <td>2009</td>\n",
       "      <td>Abdelgayed, Adam</td>\n",
       "      <td>2025-07-18 20:09:25</td>\n",
       "      <td>2025-07-18 08:09:25 PM</td>\n",
       "      <td>Friday</td>\n",
       "      <td>False</td>\n",
       "      <td>Summer</td>\n",
       "      <td>08:09 PM</td>\n",
       "      <td>Evening</td>\n",
       "      <td>800 PROSPECT AVE</td>\n",
       "      <td>38.021196</td>\n",
       "      <td>-78.496659</td>\n",
       "      <td>Fifeville</td>\n",
       "      <td>22903</td>\n",
       "    </tr>\n",
       "    <tr>\n",
       "      <th>2</th>\n",
       "      <td>3</td>\n",
       "      <td>Burglary</td>\n",
       "      <td>202500025266</td>\n",
       "      <td>900</td>\n",
       "      <td>HENRY AVE</td>\n",
       "      <td>CPD</td>\n",
       "      <td>1651</td>\n",
       "      <td>Kirby, Tyree</td>\n",
       "      <td>2025-07-18 16:51:52</td>\n",
       "      <td>2025-07-18 04:51:52 PM</td>\n",
       "      <td>Friday</td>\n",
       "      <td>False</td>\n",
       "      <td>Summer</td>\n",
       "      <td>04:51 PM</td>\n",
       "      <td>Afternoon</td>\n",
       "      <td>900 HENRY AVE</td>\n",
       "      <td>38.038941</td>\n",
       "      <td>-78.486801</td>\n",
       "      <td>Rose Hill</td>\n",
       "      <td>22903</td>\n",
       "    </tr>\n",
       "    <tr>\n",
       "      <th>3</th>\n",
       "      <td>4</td>\n",
       "      <td>Hit and Run</td>\n",
       "      <td>202500025262</td>\n",
       "      <td></td>\n",
       "      <td>RUGBY AVE / ROSE HILL DR</td>\n",
       "      <td>CPD</td>\n",
       "      <td>1616</td>\n",
       "      <td>Hudson, Jesse</td>\n",
       "      <td>2025-07-18 16:16:41</td>\n",
       "      <td>2025-07-18 04:16:41 PM</td>\n",
       "      <td>Friday</td>\n",
       "      <td>False</td>\n",
       "      <td>Summer</td>\n",
       "      <td>04:16 PM</td>\n",
       "      <td>Afternoon</td>\n",
       "      <td>RUGBY AVE / ROSE HILL DR</td>\n",
       "      <td>38.045329</td>\n",
       "      <td>-78.483712</td>\n",
       "      <td>Barracks Rugby</td>\n",
       "      <td>22903</td>\n",
       "    </tr>\n",
       "    <tr>\n",
       "      <th>4</th>\n",
       "      <td>5</td>\n",
       "      <td>Misc - Criminal Call</td>\n",
       "      <td>202500025259</td>\n",
       "      <td>1200</td>\n",
       "      <td>SMITH ST</td>\n",
       "      <td>CPD</td>\n",
       "      <td>1549</td>\n",
       "      <td>Rigsby, Lloyd</td>\n",
       "      <td>2025-07-18 15:49:43</td>\n",
       "      <td>2025-07-18 03:49:43 PM</td>\n",
       "      <td>Friday</td>\n",
       "      <td>False</td>\n",
       "      <td>Summer</td>\n",
       "      <td>03:49 PM</td>\n",
       "      <td>Afternoon</td>\n",
       "      <td>1200 SMITH ST</td>\n",
       "      <td>38.041130</td>\n",
       "      <td>-78.458541</td>\n",
       "      <td>Locust Grove</td>\n",
       "      <td>22901</td>\n",
       "    </tr>\n",
       "  </tbody>\n",
       "</table>\n",
       "</div>"
      ],
      "text/plain": [
       "   RecordID               Offense    IncidentID BlockNumber  \\\n",
       "0         1   Larceny - All Other  202500025307        1100   \n",
       "1         2    Assault Aggravated  202500025298         800   \n",
       "2         3              Burglary  202500025266         900   \n",
       "3         4           Hit and Run  202500025262               \n",
       "4         5  Misc - Criminal Call  202500025259        1200   \n",
       "\n",
       "                 StreetName Agency HourReported  ReportingOfficer  \\\n",
       "0             ST CHARLES CT    CPD         2147     Hudson, Jesse   \n",
       "1              PROSPECT AVE    CPD         2009  Abdelgayed, Adam   \n",
       "2                 HENRY AVE    CPD         1651      Kirby, Tyree   \n",
       "3  RUGBY AVE / ROSE HILL DR    CPD         1616     Hudson, Jesse   \n",
       "4                  SMITH ST    CPD         1549     Rigsby, Lloyd   \n",
       "\n",
       "                 Date              DateString DayOfWeek  Weekend  Season  \\\n",
       "0 2025-07-18 21:47:37  2025-07-18 09:47:37 PM    Friday    False  Summer   \n",
       "1 2025-07-18 20:09:25  2025-07-18 08:09:25 PM    Friday    False  Summer   \n",
       "2 2025-07-18 16:51:52  2025-07-18 04:51:52 PM    Friday    False  Summer   \n",
       "3 2025-07-18 16:16:41  2025-07-18 04:16:41 PM    Friday    False  Summer   \n",
       "4 2025-07-18 15:49:43  2025-07-18 03:49:43 PM    Friday    False  Summer   \n",
       "\n",
       "   HourAMPM  TimeOfDay                 FullStreet        lat        lon  \\\n",
       "0  09:47 PM      Night         1100 ST CHARLES CT  38.043301 -78.461281   \n",
       "1  08:09 PM    Evening           800 PROSPECT AVE  38.021196 -78.496659   \n",
       "2  04:51 PM  Afternoon              900 HENRY AVE  38.038941 -78.486801   \n",
       "3  04:16 PM  Afternoon   RUGBY AVE / ROSE HILL DR  38.045329 -78.483712   \n",
       "4  03:49 PM  Afternoon              1200 SMITH ST  38.041130 -78.458541   \n",
       "\n",
       "     neighborhood    zip  \n",
       "0    Locust Grove  22901  \n",
       "1       Fifeville  22903  \n",
       "2       Rose Hill  22903  \n",
       "3  Barracks Rugby  22903  \n",
       "4    Locust Grove  22901  "
      ]
     },
     "execution_count": 11,
     "metadata": {},
     "output_type": "execute_result"
    }
   ],
   "source": [
    "# Initialize the geocoder.\n",
    "geolocator = Nominatim(user_agent=\"zip_lookup\")\n",
    "\n",
    "# Try to load a persistent ZIP cache if available.\n",
    "try:\n",
    "    with open(\"zip_cache.pkl\", \"rb\") as f:\n",
    "        zip_cache = pickle.load(f)\n",
    "    print(\"Loaded zip cache.\")\n",
    "except FileNotFoundError:\n",
    "    zip_cache = {}\n",
    "    print(\"No zip cache found; starting fresh.\")\n",
    "\n",
    "def get_zip(lat, lon):\n",
    "    \"\"\"\n",
    "    Reverse geocodes a latitude and longitude to retrieve the ZIP code.\n",
    "    Caches results to speed up subsequent lookups.\n",
    "    \"\"\"\n",
    "    key = (lat, lon)\n",
    "    if key in zip_cache:\n",
    "        return zip_cache[key]\n",
    "    \n",
    "    try:\n",
    "        location = geolocator.reverse((lat, lon), exactly_one=True, timeout=10)\n",
    "        address = location.raw.get('address', {})\n",
    "        postal_code = address.get('postcode', \"N/A\")\n",
    "    except Exception as e:\n",
    "        print(f\"Error getting ZIP for {lat}, {lon}: {e}\")\n",
    "        postal_code = \"N/A\"\n",
    "    \n",
    "    zip_cache[key] = postal_code\n",
    "    # Pause to respect the usage policy.\n",
    "    time.sleep(1)\n",
    "    return postal_code\n",
    "\n",
    "# Apply the function to each row in the DataFrame.\n",
    "df['zip'] = df.apply(lambda row: get_zip(row['lat'], row['lon']), axis=1)\n",
    "\n",
    "# Save the updated ZIP cache.\n",
    "with open(\"zip_cache.pkl\", \"wb\") as f:\n",
    "    pickle.dump(zip_cache, f)\n",
    "\n",
    "df.head()\n"
   ]
  },
  {
   "cell_type": "code",
   "execution_count": 12,
   "id": "699233fa",
   "metadata": {
    "execution": {
     "iopub.execute_input": "2025-07-21T01:14:34.796984Z",
     "iopub.status.busy": "2025-07-21T01:14:34.796694Z",
     "iopub.status.idle": "2025-07-21T01:14:34.828488Z",
     "shell.execute_reply": "2025-07-21T01:14:34.827905Z"
    },
    "papermill": {
     "duration": 0.041737,
     "end_time": "2025-07-21T01:14:34.829631",
     "exception": false,
     "start_time": "2025-07-21T01:14:34.787894",
     "status": "completed"
    },
    "tags": []
   },
   "outputs": [
    {
     "name": "stdout",
     "output_type": "stream",
     "text": [
      "                  MissingCount  MissingPercentage\n",
      "RecordID                     0               0.00\n",
      "Offense                      0               0.00\n",
      "IncidentID                   0               0.00\n",
      "BlockNumber                  0               0.00\n",
      "StreetName                   0               0.00\n",
      "Agency                       0               0.00\n",
      "HourReported                 0               0.00\n",
      "ReportingOfficer            17               0.07\n",
      "Date                         0               0.00\n",
      "DateString                   0               0.00\n",
      "DayOfWeek                    0               0.00\n",
      "Weekend                      0               0.00\n",
      "Season                       0               0.00\n",
      "HourAMPM                     0               0.00\n",
      "TimeOfDay                    0               0.00\n",
      "FullStreet                   0               0.00\n",
      "lat                         62               0.24\n",
      "lon                         62               0.24\n",
      "neighborhood                 0               0.00\n",
      "zip                          0               0.00\n"
     ]
    }
   ],
   "source": [
    "missing_info = missing_percentage(df)\n",
    "print(missing_info)\n"
   ]
  },
  {
   "cell_type": "code",
   "execution_count": 13,
   "id": "2ded7c2e",
   "metadata": {
    "execution": {
     "iopub.execute_input": "2025-07-21T01:14:34.846861Z",
     "iopub.status.busy": "2025-07-21T01:14:34.846625Z",
     "iopub.status.idle": "2025-07-21T01:14:34.879509Z",
     "shell.execute_reply": "2025-07-21T01:14:34.878939Z"
    },
    "papermill": {
     "duration": 0.042536,
     "end_time": "2025-07-21T01:14:34.880520",
     "exception": false,
     "start_time": "2025-07-21T01:14:34.837984",
     "status": "completed"
    },
    "tags": []
   },
   "outputs": [
    {
     "name": "stdout",
     "output_type": "stream",
     "text": [
      "<class 'pandas.core.frame.DataFrame'>\n",
      "RangeIndex: 25556 entries, 0 to 25555\n",
      "Data columns (total 20 columns):\n",
      " #   Column            Non-Null Count  Dtype         \n",
      "---  ------            --------------  -----         \n",
      " 0   RecordID          25556 non-null  int64         \n",
      " 1   Offense           25556 non-null  object        \n",
      " 2   IncidentID        25556 non-null  object        \n",
      " 3   BlockNumber       25556 non-null  object        \n",
      " 4   StreetName        25556 non-null  object        \n",
      " 5   Agency            25556 non-null  object        \n",
      " 6   HourReported      25556 non-null  object        \n",
      " 7   ReportingOfficer  25539 non-null  object        \n",
      " 8   Date              25556 non-null  datetime64[ns]\n",
      " 9   DateString        25556 non-null  object        \n",
      " 10  DayOfWeek         25556 non-null  object        \n",
      " 11  Weekend           25556 non-null  bool          \n",
      " 12  Season            25556 non-null  object        \n",
      " 13  HourAMPM          25556 non-null  object        \n",
      " 14  TimeOfDay         25556 non-null  object        \n",
      " 15  FullStreet        25556 non-null  object        \n",
      " 16  lat               25494 non-null  float64       \n",
      " 17  lon               25494 non-null  float64       \n",
      " 18  neighborhood      25556 non-null  object        \n",
      " 19  zip               25556 non-null  object        \n",
      "dtypes: bool(1), datetime64[ns](1), float64(2), int64(1), object(15)\n",
      "memory usage: 3.7+ MB\n"
     ]
    }
   ],
   "source": [
    "df.info()"
   ]
  },
  {
   "cell_type": "code",
   "execution_count": 14,
   "id": "dc2cb1db",
   "metadata": {
    "execution": {
     "iopub.execute_input": "2025-07-21T01:14:34.898218Z",
     "iopub.status.busy": "2025-07-21T01:14:34.897963Z",
     "iopub.status.idle": "2025-07-21T01:14:34.947383Z",
     "shell.execute_reply": "2025-07-21T01:14:34.946691Z"
    },
    "papermill": {
     "duration": 0.059309,
     "end_time": "2025-07-21T01:14:34.948471",
     "exception": false,
     "start_time": "2025-07-21T01:14:34.889162",
     "status": "completed"
    },
    "tags": []
   },
   "outputs": [
    {
     "data": {
      "text/html": [
       "<div>\n",
       "<style scoped>\n",
       "    .dataframe tbody tr th:only-of-type {\n",
       "        vertical-align: middle;\n",
       "    }\n",
       "\n",
       "    .dataframe tbody tr th {\n",
       "        vertical-align: top;\n",
       "    }\n",
       "\n",
       "    .dataframe thead th {\n",
       "        text-align: right;\n",
       "    }\n",
       "</style>\n",
       "<table border=\"1\" class=\"dataframe\">\n",
       "  <thead>\n",
       "    <tr style=\"text-align: right;\">\n",
       "      <th></th>\n",
       "      <th>RecordID</th>\n",
       "      <th>Offense</th>\n",
       "      <th>IncidentID</th>\n",
       "      <th>Agency</th>\n",
       "      <th>ReportingOfficer</th>\n",
       "      <th>Date</th>\n",
       "      <th>DayOfWeek</th>\n",
       "      <th>Weekend</th>\n",
       "      <th>Season</th>\n",
       "      <th>TimeOfDay</th>\n",
       "      <th>FullStreet</th>\n",
       "      <th>lat</th>\n",
       "      <th>lon</th>\n",
       "      <th>neighborhood</th>\n",
       "      <th>zip</th>\n",
       "    </tr>\n",
       "  </thead>\n",
       "  <tbody>\n",
       "    <tr>\n",
       "      <th>0</th>\n",
       "      <td>1</td>\n",
       "      <td>Larceny - All Other</td>\n",
       "      <td>202500025307</td>\n",
       "      <td>CPD</td>\n",
       "      <td>Hudson, Jesse</td>\n",
       "      <td>2025-07-18 21:47:37</td>\n",
       "      <td>Friday</td>\n",
       "      <td>False</td>\n",
       "      <td>Summer</td>\n",
       "      <td>Night</td>\n",
       "      <td>1100 ST CHARLES CT</td>\n",
       "      <td>38.043301</td>\n",
       "      <td>-78.461281</td>\n",
       "      <td>Locust Grove</td>\n",
       "      <td>22901</td>\n",
       "    </tr>\n",
       "    <tr>\n",
       "      <th>1</th>\n",
       "      <td>2</td>\n",
       "      <td>Assault Aggravated</td>\n",
       "      <td>202500025298</td>\n",
       "      <td>CPD</td>\n",
       "      <td>Abdelgayed, Adam</td>\n",
       "      <td>2025-07-18 20:09:25</td>\n",
       "      <td>Friday</td>\n",
       "      <td>False</td>\n",
       "      <td>Summer</td>\n",
       "      <td>Evening</td>\n",
       "      <td>800 PROSPECT AVE</td>\n",
       "      <td>38.021196</td>\n",
       "      <td>-78.496659</td>\n",
       "      <td>Fifeville</td>\n",
       "      <td>22903</td>\n",
       "    </tr>\n",
       "    <tr>\n",
       "      <th>2</th>\n",
       "      <td>3</td>\n",
       "      <td>Burglary</td>\n",
       "      <td>202500025266</td>\n",
       "      <td>CPD</td>\n",
       "      <td>Kirby, Tyree</td>\n",
       "      <td>2025-07-18 16:51:52</td>\n",
       "      <td>Friday</td>\n",
       "      <td>False</td>\n",
       "      <td>Summer</td>\n",
       "      <td>Afternoon</td>\n",
       "      <td>900 HENRY AVE</td>\n",
       "      <td>38.038941</td>\n",
       "      <td>-78.486801</td>\n",
       "      <td>Rose Hill</td>\n",
       "      <td>22903</td>\n",
       "    </tr>\n",
       "    <tr>\n",
       "      <th>3</th>\n",
       "      <td>4</td>\n",
       "      <td>Hit and Run</td>\n",
       "      <td>202500025262</td>\n",
       "      <td>CPD</td>\n",
       "      <td>Hudson, Jesse</td>\n",
       "      <td>2025-07-18 16:16:41</td>\n",
       "      <td>Friday</td>\n",
       "      <td>False</td>\n",
       "      <td>Summer</td>\n",
       "      <td>Afternoon</td>\n",
       "      <td>RUGBY AVE / ROSE HILL DR</td>\n",
       "      <td>38.045329</td>\n",
       "      <td>-78.483712</td>\n",
       "      <td>Barracks Rugby</td>\n",
       "      <td>22903</td>\n",
       "    </tr>\n",
       "    <tr>\n",
       "      <th>4</th>\n",
       "      <td>5</td>\n",
       "      <td>Misc - Criminal Call</td>\n",
       "      <td>202500025259</td>\n",
       "      <td>CPD</td>\n",
       "      <td>Rigsby, Lloyd</td>\n",
       "      <td>2025-07-18 15:49:43</td>\n",
       "      <td>Friday</td>\n",
       "      <td>False</td>\n",
       "      <td>Summer</td>\n",
       "      <td>Afternoon</td>\n",
       "      <td>1200 SMITH ST</td>\n",
       "      <td>38.04113</td>\n",
       "      <td>-78.458541</td>\n",
       "      <td>Locust Grove</td>\n",
       "      <td>22901</td>\n",
       "    </tr>\n",
       "  </tbody>\n",
       "</table>\n",
       "</div>"
      ],
      "text/plain": [
       "   RecordID               Offense    IncidentID Agency  ReportingOfficer  \\\n",
       "0         1   Larceny - All Other  202500025307    CPD     Hudson, Jesse   \n",
       "1         2    Assault Aggravated  202500025298    CPD  Abdelgayed, Adam   \n",
       "2         3              Burglary  202500025266    CPD      Kirby, Tyree   \n",
       "3         4           Hit and Run  202500025262    CPD     Hudson, Jesse   \n",
       "4         5  Misc - Criminal Call  202500025259    CPD     Rigsby, Lloyd   \n",
       "\n",
       "                 Date DayOfWeek  Weekend  Season  TimeOfDay  \\\n",
       "0 2025-07-18 21:47:37    Friday    False  Summer      Night   \n",
       "1 2025-07-18 20:09:25    Friday    False  Summer    Evening   \n",
       "2 2025-07-18 16:51:52    Friday    False  Summer  Afternoon   \n",
       "3 2025-07-18 16:16:41    Friday    False  Summer  Afternoon   \n",
       "4 2025-07-18 15:49:43    Friday    False  Summer  Afternoon   \n",
       "\n",
       "                  FullStreet        lat        lon    neighborhood    zip  \n",
       "0         1100 ST CHARLES CT  38.043301 -78.461281    Locust Grove  22901  \n",
       "1           800 PROSPECT AVE  38.021196 -78.496659       Fifeville  22903  \n",
       "2              900 HENRY AVE  38.038941 -78.486801       Rose Hill  22903  \n",
       "3   RUGBY AVE / ROSE HILL DR  38.045329 -78.483712  Barracks Rugby  22903  \n",
       "4              1200 SMITH ST   38.04113 -78.458541    Locust Grove  22901  "
      ]
     },
     "execution_count": 14,
     "metadata": {},
     "output_type": "execute_result"
    }
   ],
   "source": [
    "# Now drop the original BlockNumber and StreetName columns\n",
    "df.drop(columns=['BlockNumber', 'StreetName','HourAMPM','HourReported','DateString'], inplace=True)\n",
    "df[\"zip\"] = df[\"zip\"].astype(str)\n",
    "\n",
    "# Fill all missing values in the DataFrame with \"N/A\"\n",
    "df.replace({None: \"N/A\", np.nan: \"N/A\", \"\": \"N/A\"}, inplace=True)\n",
    "df.head()"
   ]
  },
  {
   "cell_type": "code",
   "execution_count": 15,
   "id": "fd83ab6b",
   "metadata": {
    "execution": {
     "iopub.execute_input": "2025-07-21T01:14:34.966527Z",
     "iopub.status.busy": "2025-07-21T01:14:34.966297Z",
     "iopub.status.idle": "2025-07-21T01:14:34.988117Z",
     "shell.execute_reply": "2025-07-21T01:14:34.987556Z"
    },
    "papermill": {
     "duration": 0.031975,
     "end_time": "2025-07-21T01:14:34.989235",
     "exception": false,
     "start_time": "2025-07-21T01:14:34.957260",
     "status": "completed"
    },
    "tags": []
   },
   "outputs": [
    {
     "name": "stdout",
     "output_type": "stream",
     "text": [
      "                  MissingCount  MissingPercentage\n",
      "RecordID                     0                0.0\n",
      "Offense                      0                0.0\n",
      "IncidentID                   0                0.0\n",
      "Agency                       0                0.0\n",
      "ReportingOfficer             0                0.0\n",
      "Date                         0                0.0\n",
      "DayOfWeek                    0                0.0\n",
      "Weekend                      0                0.0\n",
      "Season                       0                0.0\n",
      "TimeOfDay                    0                0.0\n",
      "FullStreet                   0                0.0\n",
      "lat                          0                0.0\n",
      "lon                          0                0.0\n",
      "neighborhood                 0                0.0\n",
      "zip                          0                0.0\n"
     ]
    }
   ],
   "source": [
    "missing_info = missing_percentage(df)\n",
    "print(missing_info)"
   ]
  },
  {
   "cell_type": "code",
   "execution_count": 16,
   "id": "e411cda5",
   "metadata": {
    "execution": {
     "iopub.execute_input": "2025-07-21T01:14:35.008442Z",
     "iopub.status.busy": "2025-07-21T01:14:35.007947Z",
     "iopub.status.idle": "2025-07-21T01:14:35.012719Z",
     "shell.execute_reply": "2025-07-21T01:14:35.012050Z"
    },
    "papermill": {
     "duration": 0.015469,
     "end_time": "2025-07-21T01:14:35.013762",
     "exception": false,
     "start_time": "2025-07-21T01:14:34.998293",
     "status": "completed"
    },
    "tags": []
   },
   "outputs": [
    {
     "data": {
      "text/plain": [
       "Index(['RecordID', 'Offense', 'IncidentID', 'Agency', 'ReportingOfficer',\n",
       "       'Date', 'DayOfWeek', 'Weekend', 'Season', 'TimeOfDay', 'FullStreet',\n",
       "       'lat', 'lon', 'neighborhood', 'zip'],\n",
       "      dtype='object')"
      ]
     },
     "execution_count": 16,
     "metadata": {},
     "output_type": "execute_result"
    }
   ],
   "source": [
    "df.columns"
   ]
  },
  {
   "cell_type": "code",
   "execution_count": 17,
   "id": "e9b21db0",
   "metadata": {
    "execution": {
     "iopub.execute_input": "2025-07-21T01:14:35.032994Z",
     "iopub.status.busy": "2025-07-21T01:14:35.032475Z",
     "iopub.status.idle": "2025-07-21T01:14:35.056827Z",
     "shell.execute_reply": "2025-07-21T01:14:35.056123Z"
    },
    "papermill": {
     "duration": 0.035135,
     "end_time": "2025-07-21T01:14:35.057932",
     "exception": false,
     "start_time": "2025-07-21T01:14:35.022797",
     "status": "completed"
    },
    "tags": []
   },
   "outputs": [
    {
     "name": "stdout",
     "output_type": "stream",
     "text": [
      "<class 'pandas.core.frame.DataFrame'>\n",
      "RangeIndex: 25556 entries, 0 to 25555\n",
      "Data columns (total 15 columns):\n",
      " #   Column            Non-Null Count  Dtype         \n",
      "---  ------            --------------  -----         \n",
      " 0   RecordID          25556 non-null  int64         \n",
      " 1   Offense           25556 non-null  object        \n",
      " 2   IncidentID        25556 non-null  object        \n",
      " 3   Agency            25556 non-null  object        \n",
      " 4   ReportingOfficer  25556 non-null  object        \n",
      " 5   Date              25556 non-null  datetime64[ns]\n",
      " 6   DayOfWeek         25556 non-null  object        \n",
      " 7   Weekend           25556 non-null  bool          \n",
      " 8   Season            25556 non-null  object        \n",
      " 9   TimeOfDay         25556 non-null  object        \n",
      " 10  FullStreet        25556 non-null  object        \n",
      " 11  lat               25556 non-null  object        \n",
      " 12  lon               25556 non-null  object        \n",
      " 13  neighborhood      25556 non-null  object        \n",
      " 14  zip               25556 non-null  object        \n",
      "dtypes: bool(1), datetime64[ns](1), int64(1), object(12)\n",
      "memory usage: 2.8+ MB\n"
     ]
    }
   ],
   "source": [
    "df.info()"
   ]
  },
  {
   "cell_type": "markdown",
   "id": "644cbe03",
   "metadata": {
    "papermill": {
     "duration": 0.008844,
     "end_time": "2025-07-21T01:14:35.075797",
     "exception": false,
     "start_time": "2025-07-21T01:14:35.066953",
     "status": "completed"
    },
    "tags": []
   },
   "source": [
    "### Export Clean Data"
   ]
  },
  {
   "cell_type": "code",
   "execution_count": 18,
   "id": "fed7329d",
   "metadata": {
    "execution": {
     "iopub.execute_input": "2025-07-21T01:14:35.094947Z",
     "iopub.status.busy": "2025-07-21T01:14:35.094348Z",
     "iopub.status.idle": "2025-07-21T01:14:44.388754Z",
     "shell.execute_reply": "2025-07-21T01:14:44.388039Z"
    },
    "papermill": {
     "duration": 9.305168,
     "end_time": "2025-07-21T01:14:44.389826",
     "exception": false,
     "start_time": "2025-07-21T01:14:35.084658",
     "status": "completed"
    },
    "tags": []
   },
   "outputs": [
    {
     "name": "stdout",
     "output_type": "stream",
     "text": [
      "Project Root: /home/runner/work/crime-data/crime-data\n"
     ]
    },
    {
     "name": "stdout",
     "output_type": "stream",
     "text": [
      "Data saved to: /home/runner/work/crime-data/crime-data/data/charlottesville_crime_incidents.csv\n"
     ]
    },
    {
     "name": "stdout",
     "output_type": "stream",
     "text": [
      "Excel saved to: /home/runner/work/crime-data/crime-data/data/charlottesville_crime_incidents.xlsx\n"
     ]
    }
   ],
   "source": [
    "# Determine the project root (assuming papermill is run from the repository root)\n",
    "project_root = os.getcwd()\n",
    "print(\"Project Root:\", project_root)\n",
    "\n",
    "# Set the data directory within the project root\n",
    "data_dir = os.path.join(project_root, \"data\")\n",
    "\n",
    "# Ensure the \"data\" directory exists (create it if it doesn't)\n",
    "if not os.path.exists(data_dir):\n",
    "    os.makedirs(data_dir)\n",
    "\n",
    "# Export the DataFrame to CSV in the \"data\" folder located in the project root\n",
    "csv_path = os.path.join(data_dir, \"charlottesville_crime_incidents.csv\")\n",
    "df.to_csv(csv_path, index=False)\n",
    "print(\"Data saved to:\", csv_path)\n",
    "\n",
    "# Construct the path to your Excel file\n",
    "excel_path = os.path.join(data_dir, \"charlottesville_crime_incidents.xlsx\")\n",
    "\n",
    "# Export the DataFrame to Excel\n",
    "df.to_excel(excel_path, index=False)\n",
    "print(\"Excel saved to:\", excel_path)\n"
   ]
  }
 ],
 "metadata": {
  "kernelspec": {
   "display_name": "Python 3",
   "language": "python",
   "name": "python3"
  },
  "language_info": {
   "codemirror_mode": {
    "name": "ipython",
    "version": 3
   },
   "file_extension": ".py",
   "mimetype": "text/x-python",
   "name": "python",
   "nbconvert_exporter": "python",
   "pygments_lexer": "ipython3",
   "version": "3.9.23"
  },
  "papermill": {
   "default_parameters": {},
   "duration": 143.217232,
   "end_time": "2025-07-21T01:14:44.815414",
   "environment_variables": {},
   "exception": null,
   "input_path": "notebook/Crime Data.ipynb",
   "output_path": "notebook/Crime Data_output.ipynb",
   "parameters": {},
   "start_time": "2025-07-21T01:12:21.598182",
   "version": "2.6.0"
  }
 },
 "nbformat": 4,
 "nbformat_minor": 5
}