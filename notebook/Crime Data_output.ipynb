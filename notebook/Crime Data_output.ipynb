{
 "cells": [
  {
   "cell_type": "markdown",
   "id": "c213d9b5",
   "metadata": {
    "papermill": {
     "duration": 0.006112,
     "end_time": "2025-04-30T01:01:26.536042",
     "exception": false,
     "start_time": "2025-04-30T01:01:26.529930",
     "status": "completed"
    },
    "tags": []
   },
   "source": [
    "# Charlottesville Open Data Porttal: Crime Data"
   ]
  },
  {
   "cell_type": "markdown",
   "id": "434cd7ec",
   "metadata": {
    "papermill": {
     "duration": 0.005075,
     "end_time": "2025-04-30T01:01:26.546505",
     "exception": false,
     "start_time": "2025-04-30T01:01:26.541430",
     "status": "completed"
    },
    "tags": []
   },
   "source": [
    "## Import Relevant Librarires & Set WD"
   ]
  },
  {
   "cell_type": "code",
   "execution_count": 1,
   "id": "1c6a4d81",
   "metadata": {
    "execution": {
     "iopub.execute_input": "2025-04-30T01:01:26.558022Z",
     "iopub.status.busy": "2025-04-30T01:01:26.557555Z",
     "iopub.status.idle": "2025-04-30T01:01:27.073218Z",
     "shell.execute_reply": "2025-04-30T01:01:27.072493Z"
    },
    "papermill": {
     "duration": 0.523226,
     "end_time": "2025-04-30T01:01:27.074769",
     "exception": false,
     "start_time": "2025-04-30T01:01:26.551543",
     "status": "completed"
    },
    "tags": []
   },
   "outputs": [],
   "source": [
    "import requests\n",
    "import pandas as pd\n",
    "import numpy as np\n",
    "import pickle\n",
    "import googlemaps\n",
    "import plotly.express as px\n",
    "from geopy.geocoders import Nominatim\n",
    "import time\n",
    "from dotenv import load_dotenv\n",
    "import os\n",
    "\n",
    "env_path = os.path.join(\"..\", \".env\")\n",
    "#print(\"Looking for .env file at:\", os.path.abspath(env_path))\n",
    "load_dotenv(dotenv_path=env_path)\n",
    "\n",
    "# Retrieve the variables\n",
    "GOOGLE_API_KEY = os.getenv(\"GOOGLE_API_KEY\")\n",
    "WORKING_DIR = os.getenv(\"WORKING_DIR\")\n",
    "\n",
    "if GOOGLE_API_KEY is None or WORKING_DIR is None:\n",
    "    raise RuntimeError(\"No configuration found. Please ensure that your .env file exists with the required variables, or create a local config.py file.\")\n",
    "\n",
    "#print(\"Google API Key:\", GOOGLE_API_KEY)\n",
    "#print(\"Working Directory:\", WORKING_DIR)"
   ]
  },
  {
   "cell_type": "markdown",
   "id": "7b3d001c",
   "metadata": {
    "papermill": {
     "duration": 0.005006,
     "end_time": "2025-04-30T01:01:27.085193",
     "exception": false,
     "start_time": "2025-04-30T01:01:27.080187",
     "status": "completed"
    },
    "tags": []
   },
   "source": [
    "## Import Data\n",
    "\n",
    "URL: https://opendata.charlottesville.org/datasets/charlottesville::crime-data/about"
   ]
  },
  {
   "cell_type": "code",
   "execution_count": 2,
   "id": "08e4033b",
   "metadata": {
    "execution": {
     "iopub.execute_input": "2025-04-30T01:01:27.096841Z",
     "iopub.status.busy": "2025-04-30T01:01:27.096206Z",
     "iopub.status.idle": "2025-04-30T01:02:25.270980Z",
     "shell.execute_reply": "2025-04-30T01:02:25.270239Z"
    },
    "papermill": {
     "duration": 58.187386,
     "end_time": "2025-04-30T01:02:25.277790",
     "exception": false,
     "start_time": "2025-04-30T01:01:27.090404",
     "status": "completed"
    },
    "tags": []
   },
   "outputs": [
    {
     "name": "stdout",
     "output_type": "stream",
     "text": [
      "Total records imported: 25278\n"
     ]
    }
   ],
   "source": [
    "# Define the endpoint and initial parameters.\n",
    "url = \"https://gisweb.charlottesville.org/arcgis/rest/services/OpenData_2/MapServer/6/query\"\n",
    "params = {\n",
    "    \"where\": \"1=1\",\n",
    "    \"outFields\": \"*\",\n",
    "    \"outSR\": 4326,\n",
    "    \"f\": \"json\",\n",
    "    \"resultOffset\": 0,       # Starting index for results\n",
    "    \"resultRecordCount\": 10000  # Maximum records per batch (if allowed by the API)\n",
    "}\n",
    "\n",
    "records = []\n",
    "\n",
    "while True:\n",
    "    response = requests.get(url, params=params)\n",
    "    response.raise_for_status()\n",
    "    data = response.json()\n",
    "    \n",
    "    # Get the current batch of features.\n",
    "    features = data.get(\"features\", [])\n",
    "    if not features:\n",
    "        break\n",
    "\n",
    "    # Extract the attributes from the features.\n",
    "    batch_records = [feature.get(\"attributes\", {}) for feature in features]\n",
    "    records.extend(batch_records)\n",
    "    \n",
    "    # If the batch size is less than the requested count, we reached the end.\n",
    "    if len(features) < params[\"resultRecordCount\"]:\n",
    "        break\n",
    "\n",
    "    # Update the resultOffset for the next batch.\n",
    "    params[\"resultOffset\"] += params[\"resultRecordCount\"]\n",
    "\n",
    "# Create a DataFrame from the combined records.\n",
    "df = pd.DataFrame(records)\n",
    "print(\"Total records imported:\", len(df))\n"
   ]
  },
  {
   "cell_type": "code",
   "execution_count": 3,
   "id": "b23b3a07",
   "metadata": {
    "execution": {
     "iopub.execute_input": "2025-04-30T01:02:25.312880Z",
     "iopub.status.busy": "2025-04-30T01:02:25.312371Z",
     "iopub.status.idle": "2025-04-30T01:02:25.325042Z",
     "shell.execute_reply": "2025-04-30T01:02:25.324489Z"
    },
    "papermill": {
     "duration": 0.042902,
     "end_time": "2025-04-30T01:02:25.326024",
     "exception": false,
     "start_time": "2025-04-30T01:02:25.283122",
     "status": "completed"
    },
    "tags": []
   },
   "outputs": [
    {
     "data": {
      "text/html": [
       "<div>\n",
       "<style scoped>\n",
       "    .dataframe tbody tr th:only-of-type {\n",
       "        vertical-align: middle;\n",
       "    }\n",
       "\n",
       "    .dataframe tbody tr th {\n",
       "        vertical-align: top;\n",
       "    }\n",
       "\n",
       "    .dataframe thead th {\n",
       "        text-align: right;\n",
       "    }\n",
       "</style>\n",
       "<table border=\"1\" class=\"dataframe\">\n",
       "  <thead>\n",
       "    <tr style=\"text-align: right;\">\n",
       "      <th></th>\n",
       "      <th>RecordID</th>\n",
       "      <th>Offense</th>\n",
       "      <th>IncidentID</th>\n",
       "      <th>BlockNumber</th>\n",
       "      <th>StreetName</th>\n",
       "      <th>Agency</th>\n",
       "      <th>DateReported</th>\n",
       "      <th>HourReported</th>\n",
       "      <th>ReportingOfficer</th>\n",
       "    </tr>\n",
       "  </thead>\n",
       "  <tbody>\n",
       "    <tr>\n",
       "      <th>0</th>\n",
       "      <td>1</td>\n",
       "      <td>Suspicious Activity</td>\n",
       "      <td>202500013848</td>\n",
       "      <td>700</td>\n",
       "      <td>GROVE AVE</td>\n",
       "      <td>CPD</td>\n",
       "      <td>1745808435000</td>\n",
       "      <td>2247</td>\n",
       "      <td>Crowley, Raeann</td>\n",
       "    </tr>\n",
       "    <tr>\n",
       "      <th>1</th>\n",
       "      <td>2</td>\n",
       "      <td>Larceny - From Motor Vehicle</td>\n",
       "      <td>202500013846</td>\n",
       "      <td>700</td>\n",
       "      <td>GROVE AVE</td>\n",
       "      <td>CPD</td>\n",
       "      <td>1745808308000</td>\n",
       "      <td>2245</td>\n",
       "      <td>Bland, Johnnà</td>\n",
       "    </tr>\n",
       "    <tr>\n",
       "      <th>2</th>\n",
       "      <td>3</td>\n",
       "      <td>Assault Aggravated</td>\n",
       "      <td>202500013840</td>\n",
       "      <td></td>\n",
       "      <td>ROOSEVELT BROWN BLVD / LEE ST</td>\n",
       "      <td>CPD</td>\n",
       "      <td>1745803144000</td>\n",
       "      <td>2119</td>\n",
       "      <td>Love-Baker, Sydney</td>\n",
       "    </tr>\n",
       "    <tr>\n",
       "      <th>3</th>\n",
       "      <td>4</td>\n",
       "      <td>Larceny - From Motor Vehicle</td>\n",
       "      <td>202500013835</td>\n",
       "      <td>1200</td>\n",
       "      <td>MERIWETHER ST</td>\n",
       "      <td>CPD</td>\n",
       "      <td>1745798323000</td>\n",
       "      <td>1958</td>\n",
       "      <td>Abdelgayed, Adam</td>\n",
       "    </tr>\n",
       "    <tr>\n",
       "      <th>4</th>\n",
       "      <td>5</td>\n",
       "      <td>Vandalism</td>\n",
       "      <td>202500013832</td>\n",
       "      <td></td>\n",
       "      <td>1ST ST N / E MARKET ST</td>\n",
       "      <td>CPD</td>\n",
       "      <td>1745795018000</td>\n",
       "      <td>1903</td>\n",
       "      <td>Crowley, Raeann</td>\n",
       "    </tr>\n",
       "  </tbody>\n",
       "</table>\n",
       "</div>"
      ],
      "text/plain": [
       "   RecordID                       Offense    IncidentID BlockNumber  \\\n",
       "0         1           Suspicious Activity  202500013848         700   \n",
       "1         2  Larceny - From Motor Vehicle  202500013846         700   \n",
       "2         3            Assault Aggravated  202500013840               \n",
       "3         4  Larceny - From Motor Vehicle  202500013835        1200   \n",
       "4         5                     Vandalism  202500013832               \n",
       "\n",
       "                      StreetName Agency   DateReported HourReported  \\\n",
       "0                      GROVE AVE    CPD  1745808435000         2247   \n",
       "1                      GROVE AVE    CPD  1745808308000         2245   \n",
       "2  ROOSEVELT BROWN BLVD / LEE ST    CPD  1745803144000         2119   \n",
       "3                  MERIWETHER ST    CPD  1745798323000         1958   \n",
       "4         1ST ST N / E MARKET ST    CPD  1745795018000         1903   \n",
       "\n",
       "     ReportingOfficer  \n",
       "0     Crowley, Raeann  \n",
       "1       Bland, Johnnà  \n",
       "2  Love-Baker, Sydney  \n",
       "3    Abdelgayed, Adam  \n",
       "4     Crowley, Raeann  "
      ]
     },
     "execution_count": 3,
     "metadata": {},
     "output_type": "execute_result"
    }
   ],
   "source": [
    "df.head()"
   ]
  },
  {
   "cell_type": "code",
   "execution_count": 4,
   "id": "44c5622d",
   "metadata": {
    "execution": {
     "iopub.execute_input": "2025-04-30T01:02:25.338095Z",
     "iopub.status.busy": "2025-04-30T01:02:25.337581Z",
     "iopub.status.idle": "2025-04-30T01:02:25.342103Z",
     "shell.execute_reply": "2025-04-30T01:02:25.341473Z"
    },
    "papermill": {
     "duration": 0.01154,
     "end_time": "2025-04-30T01:02:25.343111",
     "exception": false,
     "start_time": "2025-04-30T01:02:25.331571",
     "status": "completed"
    },
    "tags": []
   },
   "outputs": [
    {
     "data": {
      "text/plain": [
       "Index(['RecordID', 'Offense', 'IncidentID', 'BlockNumber', 'StreetName',\n",
       "       'Agency', 'DateReported', 'HourReported', 'ReportingOfficer'],\n",
       "      dtype='object')"
      ]
     },
     "execution_count": 4,
     "metadata": {},
     "output_type": "execute_result"
    }
   ],
   "source": [
    "df.columns"
   ]
  },
  {
   "cell_type": "code",
   "execution_count": 5,
   "id": "44a75615",
   "metadata": {
    "execution": {
     "iopub.execute_input": "2025-04-30T01:02:25.355175Z",
     "iopub.status.busy": "2025-04-30T01:02:25.354783Z",
     "iopub.status.idle": "2025-04-30T01:02:25.377447Z",
     "shell.execute_reply": "2025-04-30T01:02:25.376777Z"
    },
    "papermill": {
     "duration": 0.029697,
     "end_time": "2025-04-30T01:02:25.378409",
     "exception": false,
     "start_time": "2025-04-30T01:02:25.348712",
     "status": "completed"
    },
    "tags": []
   },
   "outputs": [
    {
     "name": "stdout",
     "output_type": "stream",
     "text": [
      "<class 'pandas.core.frame.DataFrame'>\n",
      "RangeIndex: 25278 entries, 0 to 25277\n",
      "Data columns (total 9 columns):\n",
      " #   Column            Non-Null Count  Dtype \n",
      "---  ------            --------------  ----- \n",
      " 0   RecordID          25278 non-null  int64 \n",
      " 1   Offense           25278 non-null  object\n",
      " 2   IncidentID        25278 non-null  object\n",
      " 3   BlockNumber       25278 non-null  object\n",
      " 4   StreetName        25278 non-null  object\n",
      " 5   Agency            25278 non-null  object\n",
      " 6   DateReported      25278 non-null  int64 \n",
      " 7   HourReported      25278 non-null  object\n",
      " 8   ReportingOfficer  25261 non-null  object\n",
      "dtypes: int64(2), object(7)\n",
      "memory usage: 1.7+ MB\n"
     ]
    }
   ],
   "source": [
    "df.info()"
   ]
  },
  {
   "cell_type": "markdown",
   "id": "b789e340",
   "metadata": {
    "papermill": {
     "duration": 0.005626,
     "end_time": "2025-04-30T01:02:25.389989",
     "exception": false,
     "start_time": "2025-04-30T01:02:25.384363",
     "status": "completed"
    },
    "tags": []
   },
   "source": [
    "### Missing Values"
   ]
  },
  {
   "cell_type": "code",
   "execution_count": 6,
   "id": "234190c0",
   "metadata": {
    "execution": {
     "iopub.execute_input": "2025-04-30T01:02:25.402308Z",
     "iopub.status.busy": "2025-04-30T01:02:25.401904Z",
     "iopub.status.idle": "2025-04-30T01:02:25.423245Z",
     "shell.execute_reply": "2025-04-30T01:02:25.422585Z"
    },
    "papermill": {
     "duration": 0.028691,
     "end_time": "2025-04-30T01:02:25.424334",
     "exception": false,
     "start_time": "2025-04-30T01:02:25.395643",
     "status": "completed"
    },
    "tags": []
   },
   "outputs": [
    {
     "name": "stdout",
     "output_type": "stream",
     "text": [
      "                  MissingCount  MissingPercentage\n",
      "RecordID                     0               0.00\n",
      "Offense                      0               0.00\n",
      "IncidentID                   0               0.00\n",
      "BlockNumber                  0               0.00\n",
      "StreetName                   0               0.00\n",
      "Agency                       0               0.00\n",
      "DateReported                 0               0.00\n",
      "HourReported                 0               0.00\n",
      "ReportingOfficer            17               0.07\n"
     ]
    }
   ],
   "source": [
    "def missing_percentage(df):\n",
    "    \"\"\"\n",
    "    Returns a DataFrame with the count and percentage of missing values for each column.\n",
    "    \n",
    "    Parameters:\n",
    "        df (pd.DataFrame): The input DataFrame.\n",
    "    \n",
    "    Returns:\n",
    "        pd.DataFrame: A DataFrame with columns 'MissingCount' and 'MissingPercentage'.\n",
    "    \"\"\"\n",
    "    total_rows = len(df)\n",
    "    missing_count = df.isnull().sum()\n",
    "    missing_percent = (missing_count / total_rows) * 100\n",
    "    \n",
    "    result = pd.DataFrame({\n",
    "        'MissingCount': missing_count,\n",
    "        'MissingPercentage': missing_percent.round(2)\n",
    "    })\n",
    "    \n",
    "    return result\n",
    "\n",
    "# Example usage:\n",
    "missing_info = missing_percentage(df)\n",
    "print(missing_info)\n"
   ]
  },
  {
   "cell_type": "markdown",
   "id": "49d53d72",
   "metadata": {
    "papermill": {
     "duration": 0.005634,
     "end_time": "2025-04-30T01:02:25.435824",
     "exception": false,
     "start_time": "2025-04-30T01:02:25.430190",
     "status": "completed"
    },
    "tags": []
   },
   "source": [
    "## Data Preparation"
   ]
  },
  {
   "cell_type": "markdown",
   "id": "95cc41c8",
   "metadata": {
    "papermill": {
     "duration": 0.005571,
     "end_time": "2025-04-30T01:02:25.447108",
     "exception": false,
     "start_time": "2025-04-30T01:02:25.441537",
     "status": "completed"
    },
    "tags": []
   },
   "source": [
    "### Data Conversion"
   ]
  },
  {
   "cell_type": "code",
   "execution_count": 7,
   "id": "bda7fe02",
   "metadata": {
    "execution": {
     "iopub.execute_input": "2025-04-30T01:02:25.459574Z",
     "iopub.status.busy": "2025-04-30T01:02:25.459138Z",
     "iopub.status.idle": "2025-04-30T01:02:25.833848Z",
     "shell.execute_reply": "2025-04-30T01:02:25.833235Z"
    },
    "papermill": {
     "duration": 0.382092,
     "end_time": "2025-04-30T01:02:25.834867",
     "exception": false,
     "start_time": "2025-04-30T01:02:25.452775",
     "status": "completed"
    },
    "tags": []
   },
   "outputs": [
    {
     "data": {
      "text/html": [
       "<div>\n",
       "<style scoped>\n",
       "    .dataframe tbody tr th:only-of-type {\n",
       "        vertical-align: middle;\n",
       "    }\n",
       "\n",
       "    .dataframe tbody tr th {\n",
       "        vertical-align: top;\n",
       "    }\n",
       "\n",
       "    .dataframe thead th {\n",
       "        text-align: right;\n",
       "    }\n",
       "</style>\n",
       "<table border=\"1\" class=\"dataframe\">\n",
       "  <thead>\n",
       "    <tr style=\"text-align: right;\">\n",
       "      <th></th>\n",
       "      <th>RecordID</th>\n",
       "      <th>Offense</th>\n",
       "      <th>IncidentID</th>\n",
       "      <th>BlockNumber</th>\n",
       "      <th>StreetName</th>\n",
       "      <th>Agency</th>\n",
       "      <th>HourReported</th>\n",
       "      <th>ReportingOfficer</th>\n",
       "      <th>Date</th>\n",
       "      <th>DateString</th>\n",
       "      <th>DayOfWeek</th>\n",
       "      <th>Weekend</th>\n",
       "      <th>Season</th>\n",
       "      <th>HourAMPM</th>\n",
       "      <th>TimeOfDay</th>\n",
       "    </tr>\n",
       "  </thead>\n",
       "  <tbody>\n",
       "    <tr>\n",
       "      <th>0</th>\n",
       "      <td>1</td>\n",
       "      <td>Suspicious Activity</td>\n",
       "      <td>202500013848</td>\n",
       "      <td>700</td>\n",
       "      <td>GROVE AVE</td>\n",
       "      <td>CPD</td>\n",
       "      <td>2247</td>\n",
       "      <td>Crowley, Raeann</td>\n",
       "      <td>2025-04-27 22:47:15</td>\n",
       "      <td>2025-04-27 10:47:15 PM</td>\n",
       "      <td>Sunday</td>\n",
       "      <td>True</td>\n",
       "      <td>Spring</td>\n",
       "      <td>10:47 PM</td>\n",
       "      <td>Night</td>\n",
       "    </tr>\n",
       "    <tr>\n",
       "      <th>1</th>\n",
       "      <td>2</td>\n",
       "      <td>Larceny - From Motor Vehicle</td>\n",
       "      <td>202500013846</td>\n",
       "      <td>700</td>\n",
       "      <td>GROVE AVE</td>\n",
       "      <td>CPD</td>\n",
       "      <td>2245</td>\n",
       "      <td>Bland, Johnnà</td>\n",
       "      <td>2025-04-27 22:45:08</td>\n",
       "      <td>2025-04-27 10:45:08 PM</td>\n",
       "      <td>Sunday</td>\n",
       "      <td>True</td>\n",
       "      <td>Spring</td>\n",
       "      <td>10:45 PM</td>\n",
       "      <td>Night</td>\n",
       "    </tr>\n",
       "    <tr>\n",
       "      <th>2</th>\n",
       "      <td>3</td>\n",
       "      <td>Assault Aggravated</td>\n",
       "      <td>202500013840</td>\n",
       "      <td></td>\n",
       "      <td>ROOSEVELT BROWN BLVD / LEE ST</td>\n",
       "      <td>CPD</td>\n",
       "      <td>2119</td>\n",
       "      <td>Love-Baker, Sydney</td>\n",
       "      <td>2025-04-27 21:19:04</td>\n",
       "      <td>2025-04-27 09:19:04 PM</td>\n",
       "      <td>Sunday</td>\n",
       "      <td>True</td>\n",
       "      <td>Spring</td>\n",
       "      <td>09:19 PM</td>\n",
       "      <td>Night</td>\n",
       "    </tr>\n",
       "    <tr>\n",
       "      <th>3</th>\n",
       "      <td>4</td>\n",
       "      <td>Larceny - From Motor Vehicle</td>\n",
       "      <td>202500013835</td>\n",
       "      <td>1200</td>\n",
       "      <td>MERIWETHER ST</td>\n",
       "      <td>CPD</td>\n",
       "      <td>1958</td>\n",
       "      <td>Abdelgayed, Adam</td>\n",
       "      <td>2025-04-27 19:58:43</td>\n",
       "      <td>2025-04-27 07:58:43 PM</td>\n",
       "      <td>Sunday</td>\n",
       "      <td>True</td>\n",
       "      <td>Spring</td>\n",
       "      <td>07:58 PM</td>\n",
       "      <td>Evening</td>\n",
       "    </tr>\n",
       "    <tr>\n",
       "      <th>4</th>\n",
       "      <td>5</td>\n",
       "      <td>Vandalism</td>\n",
       "      <td>202500013832</td>\n",
       "      <td></td>\n",
       "      <td>1ST ST N / E MARKET ST</td>\n",
       "      <td>CPD</td>\n",
       "      <td>1903</td>\n",
       "      <td>Crowley, Raeann</td>\n",
       "      <td>2025-04-27 19:03:38</td>\n",
       "      <td>2025-04-27 07:03:38 PM</td>\n",
       "      <td>Sunday</td>\n",
       "      <td>True</td>\n",
       "      <td>Spring</td>\n",
       "      <td>07:03 PM</td>\n",
       "      <td>Evening</td>\n",
       "    </tr>\n",
       "  </tbody>\n",
       "</table>\n",
       "</div>"
      ],
      "text/plain": [
       "   RecordID                       Offense    IncidentID BlockNumber  \\\n",
       "0         1           Suspicious Activity  202500013848         700   \n",
       "1         2  Larceny - From Motor Vehicle  202500013846         700   \n",
       "2         3            Assault Aggravated  202500013840               \n",
       "3         4  Larceny - From Motor Vehicle  202500013835        1200   \n",
       "4         5                     Vandalism  202500013832               \n",
       "\n",
       "                      StreetName Agency HourReported    ReportingOfficer  \\\n",
       "0                      GROVE AVE    CPD         2247     Crowley, Raeann   \n",
       "1                      GROVE AVE    CPD         2245       Bland, Johnnà   \n",
       "2  ROOSEVELT BROWN BLVD / LEE ST    CPD         2119  Love-Baker, Sydney   \n",
       "3                  MERIWETHER ST    CPD         1958    Abdelgayed, Adam   \n",
       "4         1ST ST N / E MARKET ST    CPD         1903     Crowley, Raeann   \n",
       "\n",
       "                 Date              DateString DayOfWeek  Weekend  Season  \\\n",
       "0 2025-04-27 22:47:15  2025-04-27 10:47:15 PM    Sunday     True  Spring   \n",
       "1 2025-04-27 22:45:08  2025-04-27 10:45:08 PM    Sunday     True  Spring   \n",
       "2 2025-04-27 21:19:04  2025-04-27 09:19:04 PM    Sunday     True  Spring   \n",
       "3 2025-04-27 19:58:43  2025-04-27 07:58:43 PM    Sunday     True  Spring   \n",
       "4 2025-04-27 19:03:38  2025-04-27 07:03:38 PM    Sunday     True  Spring   \n",
       "\n",
       "   HourAMPM TimeOfDay  \n",
       "0  10:47 PM     Night  \n",
       "1  10:45 PM     Night  \n",
       "2  09:19 PM     Night  \n",
       "3  07:58 PM   Evening  \n",
       "4  07:03 PM   Evening  "
      ]
     },
     "execution_count": 7,
     "metadata": {},
     "output_type": "execute_result"
    }
   ],
   "source": [
    "def convert_and_categorize_datereported(df, col='DateReported'):\n",
    "    \"\"\"\n",
    "    Converts an epoch (in milliseconds) date column into a timezone-aware datetime,\n",
    "    converts it to Eastern Time, and then creates columns for day-of-week, weekend flag,\n",
    "    season, 12-hour formatted time, and time-of-day. Keeps both a real datetime column\n",
    "    (Date) and a string representation (DateString).\n",
    "    \"\"\"\n",
    "    import pandas as pd\n",
    "\n",
    "    # Convert the epoch timestamp to a pandas datetime object as UTC, then convert to US/Eastern.\n",
    "    df[\"DateReported_dt\"] = (\n",
    "        pd.to_datetime(df[col], unit=\"ms\", errors=\"coerce\", utc=True)\n",
    "        .dt.tz_convert(\"US/Eastern\")\n",
    "    )\n",
    "    \n",
    "    # Create a true datetime column (remove timezone if you prefer naive datetime)\n",
    "    df[\"Date\"] = df[\"DateReported_dt\"].dt.tz_localize(None)\n",
    "\n",
    "    # Optionally, create a separate string-formatted column\n",
    "    df[\"DateString\"] = df[\"DateReported_dt\"].dt.strftime(\"%Y-%m-%d %I:%M:%S %p\")\n",
    "    \n",
    "    # DayOfWeek\n",
    "    df[\"DayOfWeek\"] = df[\"DateReported_dt\"].dt.day_name()\n",
    "    \n",
    "    # Weekend\n",
    "    df[\"Weekend\"] = df[\"DayOfWeek\"].isin([\"Saturday\", \"Sunday\"])\n",
    "    \n",
    "    # Helper function to determine the season\n",
    "    def get_season(dt):\n",
    "        month = dt.month\n",
    "        day = dt.day\n",
    "        # Approximate Northern Hemisphere season boundaries:\n",
    "        if (month == 12 and day >= 21) or (month < 3) or (month == 3 and day < 20):\n",
    "            return \"Winter\"\n",
    "        elif (month == 3 and day >= 20) or (month < 6) or (month == 6 and day < 21):\n",
    "            return \"Spring\"\n",
    "        elif (month == 6 and day >= 21) or (month < 9) or (month == 9 and day < 22):\n",
    "            return \"Summer\"\n",
    "        else:\n",
    "            return \"Autumn\"\n",
    "    \n",
    "    df[\"Season\"] = df[\"DateReported_dt\"].apply(get_season)\n",
    "    \n",
    "    # 12-hour formatted time (HourAMPM)\n",
    "    df[\"HourAMPM\"] = df[\"DateReported_dt\"].dt.strftime(\"%I:%M %p\")\n",
    "    \n",
    "    # Extract hour (0-23) for time-of-day\n",
    "    df[\"HourValue\"] = df[\"DateReported_dt\"].dt.hour\n",
    "    \n",
    "    def time_of_day(hour):\n",
    "        if pd.isnull(hour):\n",
    "            return None\n",
    "        if 5 <= hour < 12:\n",
    "            return \"Morning\"\n",
    "        elif 12 <= hour < 17:\n",
    "            return \"Afternoon\"\n",
    "        elif 17 <= hour < 21:\n",
    "            return \"Evening\"\n",
    "        else:\n",
    "            return \"Night\"\n",
    "    \n",
    "    df[\"TimeOfDay\"] = df[\"HourValue\"].apply(time_of_day)\n",
    "    \n",
    "    # Drop columns you no longer need\n",
    "    df.drop(columns=[col, \"DateReported_dt\", \"HourValue\"], inplace=True)\n",
    "    \n",
    "    return df\n",
    "\n",
    "# Example usage:\n",
    "df = convert_and_categorize_datereported(df)\n",
    "df.head()\n"
   ]
  },
  {
   "cell_type": "code",
   "execution_count": 8,
   "id": "ed73112d",
   "metadata": {
    "execution": {
     "iopub.execute_input": "2025-04-30T01:02:25.848169Z",
     "iopub.status.busy": "2025-04-30T01:02:25.847748Z",
     "iopub.status.idle": "2025-04-30T01:02:25.873848Z",
     "shell.execute_reply": "2025-04-30T01:02:25.873274Z"
    },
    "papermill": {
     "duration": 0.033747,
     "end_time": "2025-04-30T01:02:25.874875",
     "exception": false,
     "start_time": "2025-04-30T01:02:25.841128",
     "status": "completed"
    },
    "tags": []
   },
   "outputs": [
    {
     "name": "stdout",
     "output_type": "stream",
     "text": [
      "<class 'pandas.core.frame.DataFrame'>\n",
      "RangeIndex: 25278 entries, 0 to 25277\n",
      "Data columns (total 15 columns):\n",
      " #   Column            Non-Null Count  Dtype         \n",
      "---  ------            --------------  -----         \n",
      " 0   RecordID          25278 non-null  int64         \n",
      " 1   Offense           25278 non-null  object        \n",
      " 2   IncidentID        25278 non-null  object        \n",
      " 3   BlockNumber       25278 non-null  object        \n",
      " 4   StreetName        25278 non-null  object        \n",
      " 5   Agency            25278 non-null  object        \n",
      " 6   HourReported      25278 non-null  object        \n",
      " 7   ReportingOfficer  25261 non-null  object        \n",
      " 8   Date              25278 non-null  datetime64[ns]\n",
      " 9   DateString        25278 non-null  object        \n",
      " 10  DayOfWeek         25278 non-null  object        \n",
      " 11  Weekend           25278 non-null  bool          \n",
      " 12  Season            25278 non-null  object        \n",
      " 13  HourAMPM          25278 non-null  object        \n",
      " 14  TimeOfDay         25278 non-null  object        \n",
      "dtypes: bool(1), datetime64[ns](1), int64(1), object(12)\n",
      "memory usage: 2.7+ MB\n"
     ]
    }
   ],
   "source": [
    "df.info()"
   ]
  },
  {
   "cell_type": "markdown",
   "id": "4a25a1fe",
   "metadata": {
    "papermill": {
     "duration": 0.005924,
     "end_time": "2025-04-30T01:02:25.887079",
     "exception": false,
     "start_time": "2025-04-30T01:02:25.881155",
     "status": "completed"
    },
    "tags": []
   },
   "source": [
    "### Coordinates"
   ]
  },
  {
   "cell_type": "code",
   "execution_count": 9,
   "id": "c09a0aa6",
   "metadata": {
    "execution": {
     "iopub.execute_input": "2025-04-30T01:02:25.900220Z",
     "iopub.status.busy": "2025-04-30T01:02:25.899710Z",
     "iopub.status.idle": "2025-04-30T01:02:26.363377Z",
     "shell.execute_reply": "2025-04-30T01:02:26.362762Z"
    },
    "papermill": {
     "duration": 0.471409,
     "end_time": "2025-04-30T01:02:26.364474",
     "exception": false,
     "start_time": "2025-04-30T01:02:25.893065",
     "status": "completed"
    },
    "tags": []
   },
   "outputs": [
    {
     "name": "stdout",
     "output_type": "stream",
     "text": [
      "Loaded geocode cache.\n"
     ]
    },
    {
     "name": "stdout",
     "output_type": "stream",
     "text": [
      "Geocoded 1200 MERIWETHER ST: 38.0303829, -78.46761289999999\n"
     ]
    },
    {
     "name": "stdout",
     "output_type": "stream",
     "text": [
      "Geocoded 1600 GRADY AVE, A: 38.0414947, -78.498889\n"
     ]
    },
    {
     "name": "stdout",
     "output_type": "stream",
     "text": [
      "Geocoded 400 FAIRWAY AVE, A: 38.0276568, -78.46195639999999\n",
      "Geocode cache updated and saved.\n"
     ]
    },
    {
     "data": {
      "text/html": [
       "<div>\n",
       "<style scoped>\n",
       "    .dataframe tbody tr th:only-of-type {\n",
       "        vertical-align: middle;\n",
       "    }\n",
       "\n",
       "    .dataframe tbody tr th {\n",
       "        vertical-align: top;\n",
       "    }\n",
       "\n",
       "    .dataframe thead th {\n",
       "        text-align: right;\n",
       "    }\n",
       "</style>\n",
       "<table border=\"1\" class=\"dataframe\">\n",
       "  <thead>\n",
       "    <tr style=\"text-align: right;\">\n",
       "      <th></th>\n",
       "      <th>RecordID</th>\n",
       "      <th>Offense</th>\n",
       "      <th>IncidentID</th>\n",
       "      <th>BlockNumber</th>\n",
       "      <th>StreetName</th>\n",
       "      <th>Agency</th>\n",
       "      <th>HourReported</th>\n",
       "      <th>ReportingOfficer</th>\n",
       "      <th>Date</th>\n",
       "      <th>DateString</th>\n",
       "      <th>DayOfWeek</th>\n",
       "      <th>Weekend</th>\n",
       "      <th>Season</th>\n",
       "      <th>HourAMPM</th>\n",
       "      <th>TimeOfDay</th>\n",
       "      <th>FullStreet</th>\n",
       "      <th>lat</th>\n",
       "      <th>lon</th>\n",
       "    </tr>\n",
       "  </thead>\n",
       "  <tbody>\n",
       "    <tr>\n",
       "      <th>0</th>\n",
       "      <td>1</td>\n",
       "      <td>Suspicious Activity</td>\n",
       "      <td>202500013848</td>\n",
       "      <td>700</td>\n",
       "      <td>GROVE AVE</td>\n",
       "      <td>CPD</td>\n",
       "      <td>2247</td>\n",
       "      <td>Crowley, Raeann</td>\n",
       "      <td>2025-04-27 22:47:15</td>\n",
       "      <td>2025-04-27 10:47:15 PM</td>\n",
       "      <td>Sunday</td>\n",
       "      <td>True</td>\n",
       "      <td>Spring</td>\n",
       "      <td>10:47 PM</td>\n",
       "      <td>Night</td>\n",
       "      <td>700 GROVE AVE</td>\n",
       "      <td>38.033646</td>\n",
       "      <td>-78.468265</td>\n",
       "    </tr>\n",
       "    <tr>\n",
       "      <th>1</th>\n",
       "      <td>2</td>\n",
       "      <td>Larceny - From Motor Vehicle</td>\n",
       "      <td>202500013846</td>\n",
       "      <td>700</td>\n",
       "      <td>GROVE AVE</td>\n",
       "      <td>CPD</td>\n",
       "      <td>2245</td>\n",
       "      <td>Bland, Johnnà</td>\n",
       "      <td>2025-04-27 22:45:08</td>\n",
       "      <td>2025-04-27 10:45:08 PM</td>\n",
       "      <td>Sunday</td>\n",
       "      <td>True</td>\n",
       "      <td>Spring</td>\n",
       "      <td>10:45 PM</td>\n",
       "      <td>Night</td>\n",
       "      <td>700 GROVE AVE</td>\n",
       "      <td>38.033646</td>\n",
       "      <td>-78.468265</td>\n",
       "    </tr>\n",
       "    <tr>\n",
       "      <th>2</th>\n",
       "      <td>3</td>\n",
       "      <td>Assault Aggravated</td>\n",
       "      <td>202500013840</td>\n",
       "      <td></td>\n",
       "      <td>ROOSEVELT BROWN BLVD / LEE ST</td>\n",
       "      <td>CPD</td>\n",
       "      <td>2119</td>\n",
       "      <td>Love-Baker, Sydney</td>\n",
       "      <td>2025-04-27 21:19:04</td>\n",
       "      <td>2025-04-27 09:19:04 PM</td>\n",
       "      <td>Sunday</td>\n",
       "      <td>True</td>\n",
       "      <td>Spring</td>\n",
       "      <td>09:19 PM</td>\n",
       "      <td>Night</td>\n",
       "      <td>ROOSEVELT BROWN BLVD / LEE ST</td>\n",
       "      <td>38.031170</td>\n",
       "      <td>-78.495497</td>\n",
       "    </tr>\n",
       "    <tr>\n",
       "      <th>3</th>\n",
       "      <td>4</td>\n",
       "      <td>Larceny - From Motor Vehicle</td>\n",
       "      <td>202500013835</td>\n",
       "      <td>1200</td>\n",
       "      <td>MERIWETHER ST</td>\n",
       "      <td>CPD</td>\n",
       "      <td>1958</td>\n",
       "      <td>Abdelgayed, Adam</td>\n",
       "      <td>2025-04-27 19:58:43</td>\n",
       "      <td>2025-04-27 07:58:43 PM</td>\n",
       "      <td>Sunday</td>\n",
       "      <td>True</td>\n",
       "      <td>Spring</td>\n",
       "      <td>07:58 PM</td>\n",
       "      <td>Evening</td>\n",
       "      <td>1200 MERIWETHER ST</td>\n",
       "      <td>38.030383</td>\n",
       "      <td>-78.467613</td>\n",
       "    </tr>\n",
       "    <tr>\n",
       "      <th>4</th>\n",
       "      <td>5</td>\n",
       "      <td>Vandalism</td>\n",
       "      <td>202500013832</td>\n",
       "      <td></td>\n",
       "      <td>1ST ST N / E MARKET ST</td>\n",
       "      <td>CPD</td>\n",
       "      <td>1903</td>\n",
       "      <td>Crowley, Raeann</td>\n",
       "      <td>2025-04-27 19:03:38</td>\n",
       "      <td>2025-04-27 07:03:38 PM</td>\n",
       "      <td>Sunday</td>\n",
       "      <td>True</td>\n",
       "      <td>Spring</td>\n",
       "      <td>07:03 PM</td>\n",
       "      <td>Evening</td>\n",
       "      <td>1ST ST N / E MARKET ST</td>\n",
       "      <td>38.031539</td>\n",
       "      <td>-78.481144</td>\n",
       "    </tr>\n",
       "  </tbody>\n",
       "</table>\n",
       "</div>"
      ],
      "text/plain": [
       "   RecordID                       Offense    IncidentID BlockNumber  \\\n",
       "0         1           Suspicious Activity  202500013848         700   \n",
       "1         2  Larceny - From Motor Vehicle  202500013846         700   \n",
       "2         3            Assault Aggravated  202500013840               \n",
       "3         4  Larceny - From Motor Vehicle  202500013835        1200   \n",
       "4         5                     Vandalism  202500013832               \n",
       "\n",
       "                      StreetName Agency HourReported    ReportingOfficer  \\\n",
       "0                      GROVE AVE    CPD         2247     Crowley, Raeann   \n",
       "1                      GROVE AVE    CPD         2245       Bland, Johnnà   \n",
       "2  ROOSEVELT BROWN BLVD / LEE ST    CPD         2119  Love-Baker, Sydney   \n",
       "3                  MERIWETHER ST    CPD         1958    Abdelgayed, Adam   \n",
       "4         1ST ST N / E MARKET ST    CPD         1903     Crowley, Raeann   \n",
       "\n",
       "                 Date              DateString DayOfWeek  Weekend  Season  \\\n",
       "0 2025-04-27 22:47:15  2025-04-27 10:47:15 PM    Sunday     True  Spring   \n",
       "1 2025-04-27 22:45:08  2025-04-27 10:45:08 PM    Sunday     True  Spring   \n",
       "2 2025-04-27 21:19:04  2025-04-27 09:19:04 PM    Sunday     True  Spring   \n",
       "3 2025-04-27 19:58:43  2025-04-27 07:58:43 PM    Sunday     True  Spring   \n",
       "4 2025-04-27 19:03:38  2025-04-27 07:03:38 PM    Sunday     True  Spring   \n",
       "\n",
       "   HourAMPM TimeOfDay                      FullStreet        lat        lon  \n",
       "0  10:47 PM     Night                   700 GROVE AVE  38.033646 -78.468265  \n",
       "1  10:45 PM     Night                   700 GROVE AVE  38.033646 -78.468265  \n",
       "2  09:19 PM     Night   ROOSEVELT BROWN BLVD / LEE ST  38.031170 -78.495497  \n",
       "3  07:58 PM   Evening              1200 MERIWETHER ST  38.030383 -78.467613  \n",
       "4  07:03 PM   Evening          1ST ST N / E MARKET ST  38.031539 -78.481144  "
      ]
     },
     "execution_count": 9,
     "metadata": {},
     "output_type": "execute_result"
    }
   ],
   "source": [
    "# Combine BlockNumber and StreetName into a full address string\n",
    "df['FullStreet'] = df['BlockNumber'].astype(str) + \" \" + df['StreetName']\n",
    "\n",
    "# --- Step 1: Setup the Google Maps Client and Cache ---\n",
    "gmaps = googlemaps.Client(key=GOOGLE_API_KEY)\n",
    "\n",
    "# Try to load cached geocoding results if available.\n",
    "try:\n",
    "    with open(\"geocode_cache_google.pkl\", \"rb\") as f:\n",
    "        street_coords = pickle.load(f)\n",
    "    print(\"Loaded geocode cache.\")\n",
    "except FileNotFoundError:\n",
    "    street_coords = {}\n",
    "    print(\"No cache found; starting fresh.\")\n",
    "\n",
    "def geocode_address(address):\n",
    "    try:\n",
    "        # Append city and state to help geocoding\n",
    "        result = gmaps.geocode(f\"{address}, Charlottesville, VA\")\n",
    "        if result:\n",
    "            lat = result[0]['geometry']['location']['lat']\n",
    "            lon = result[0]['geometry']['location']['lng']\n",
    "            return lat, lon\n",
    "    except Exception as e:\n",
    "        print(f\"Error geocoding {address}: {e}\")\n",
    "    return None, None\n",
    "\n",
    "# --- Step 2: Geocode Only New Addresses ---\n",
    "unique_addresses = df['FullStreet'].unique()\n",
    "for address in unique_addresses:\n",
    "    if address not in street_coords:\n",
    "        lat, lon = geocode_address(address)\n",
    "        street_coords[address] = (lat, lon)\n",
    "        print(f\"Geocoded {address}: {lat}, {lon}\")\n",
    "\n",
    "# Save the updated cache to disk.\n",
    "with open(\"geocode_cache_google.pkl\", \"wb\") as f:\n",
    "    pickle.dump(street_coords, f)\n",
    "    print(\"Geocode cache updated and saved.\")\n",
    "\n",
    "# --- Step 3: Map Coordinates Back to DataFrame ---\n",
    "df['lat'] = df['FullStreet'].map(lambda s: street_coords.get(s, (None, None))[0])\n",
    "df['lon'] = df['FullStreet'].map(lambda s: street_coords.get(s, (None, None))[1])\n",
    "\n",
    "df.head()"
   ]
  },
  {
   "cell_type": "markdown",
   "id": "bb3641e2",
   "metadata": {
    "papermill": {
     "duration": 0.006444,
     "end_time": "2025-04-30T01:02:26.377710",
     "exception": false,
     "start_time": "2025-04-30T01:02:26.371266",
     "status": "completed"
    },
    "tags": []
   },
   "source": [
    "### Neighborhood"
   ]
  },
  {
   "cell_type": "code",
   "execution_count": 10,
   "id": "87c1ab56",
   "metadata": {
    "execution": {
     "iopub.execute_input": "2025-04-30T01:02:26.391573Z",
     "iopub.status.busy": "2025-04-30T01:02:26.391101Z",
     "iopub.status.idle": "2025-04-30T01:02:26.972549Z",
     "shell.execute_reply": "2025-04-30T01:02:26.971875Z"
    },
    "papermill": {
     "duration": 0.589551,
     "end_time": "2025-04-30T01:02:26.973682",
     "exception": false,
     "start_time": "2025-04-30T01:02:26.384131",
     "status": "completed"
    },
    "tags": []
   },
   "outputs": [
    {
     "name": "stdout",
     "output_type": "stream",
     "text": [
      "Loaded neighborhood cache.\n"
     ]
    },
    {
     "data": {
      "text/html": [
       "<div>\n",
       "<style scoped>\n",
       "    .dataframe tbody tr th:only-of-type {\n",
       "        vertical-align: middle;\n",
       "    }\n",
       "\n",
       "    .dataframe tbody tr th {\n",
       "        vertical-align: top;\n",
       "    }\n",
       "\n",
       "    .dataframe thead th {\n",
       "        text-align: right;\n",
       "    }\n",
       "</style>\n",
       "<table border=\"1\" class=\"dataframe\">\n",
       "  <thead>\n",
       "    <tr style=\"text-align: right;\">\n",
       "      <th></th>\n",
       "      <th>RecordID</th>\n",
       "      <th>Offense</th>\n",
       "      <th>IncidentID</th>\n",
       "      <th>BlockNumber</th>\n",
       "      <th>StreetName</th>\n",
       "      <th>Agency</th>\n",
       "      <th>HourReported</th>\n",
       "      <th>ReportingOfficer</th>\n",
       "      <th>Date</th>\n",
       "      <th>DateString</th>\n",
       "      <th>DayOfWeek</th>\n",
       "      <th>Weekend</th>\n",
       "      <th>Season</th>\n",
       "      <th>HourAMPM</th>\n",
       "      <th>TimeOfDay</th>\n",
       "      <th>FullStreet</th>\n",
       "      <th>lat</th>\n",
       "      <th>lon</th>\n",
       "      <th>neighborhood</th>\n",
       "    </tr>\n",
       "  </thead>\n",
       "  <tbody>\n",
       "    <tr>\n",
       "      <th>0</th>\n",
       "      <td>1</td>\n",
       "      <td>Suspicious Activity</td>\n",
       "      <td>202500013848</td>\n",
       "      <td>700</td>\n",
       "      <td>GROVE AVE</td>\n",
       "      <td>CPD</td>\n",
       "      <td>2247</td>\n",
       "      <td>Crowley, Raeann</td>\n",
       "      <td>2025-04-27 22:47:15</td>\n",
       "      <td>2025-04-27 10:47:15 PM</td>\n",
       "      <td>Sunday</td>\n",
       "      <td>True</td>\n",
       "      <td>Spring</td>\n",
       "      <td>10:47 PM</td>\n",
       "      <td>Night</td>\n",
       "      <td>700 GROVE AVE</td>\n",
       "      <td>38.033646</td>\n",
       "      <td>-78.468265</td>\n",
       "      <td>Martha Jefferson</td>\n",
       "    </tr>\n",
       "    <tr>\n",
       "      <th>1</th>\n",
       "      <td>2</td>\n",
       "      <td>Larceny - From Motor Vehicle</td>\n",
       "      <td>202500013846</td>\n",
       "      <td>700</td>\n",
       "      <td>GROVE AVE</td>\n",
       "      <td>CPD</td>\n",
       "      <td>2245</td>\n",
       "      <td>Bland, Johnnà</td>\n",
       "      <td>2025-04-27 22:45:08</td>\n",
       "      <td>2025-04-27 10:45:08 PM</td>\n",
       "      <td>Sunday</td>\n",
       "      <td>True</td>\n",
       "      <td>Spring</td>\n",
       "      <td>10:45 PM</td>\n",
       "      <td>Night</td>\n",
       "      <td>700 GROVE AVE</td>\n",
       "      <td>38.033646</td>\n",
       "      <td>-78.468265</td>\n",
       "      <td>Martha Jefferson</td>\n",
       "    </tr>\n",
       "    <tr>\n",
       "      <th>2</th>\n",
       "      <td>3</td>\n",
       "      <td>Assault Aggravated</td>\n",
       "      <td>202500013840</td>\n",
       "      <td></td>\n",
       "      <td>ROOSEVELT BROWN BLVD / LEE ST</td>\n",
       "      <td>CPD</td>\n",
       "      <td>2119</td>\n",
       "      <td>Love-Baker, Sydney</td>\n",
       "      <td>2025-04-27 21:19:04</td>\n",
       "      <td>2025-04-27 09:19:04 PM</td>\n",
       "      <td>Sunday</td>\n",
       "      <td>True</td>\n",
       "      <td>Spring</td>\n",
       "      <td>09:19 PM</td>\n",
       "      <td>Night</td>\n",
       "      <td>ROOSEVELT BROWN BLVD / LEE ST</td>\n",
       "      <td>38.031170</td>\n",
       "      <td>-78.495497</td>\n",
       "      <td>Jefferson Park Avenue</td>\n",
       "    </tr>\n",
       "    <tr>\n",
       "      <th>3</th>\n",
       "      <td>4</td>\n",
       "      <td>Larceny - From Motor Vehicle</td>\n",
       "      <td>202500013835</td>\n",
       "      <td>1200</td>\n",
       "      <td>MERIWETHER ST</td>\n",
       "      <td>CPD</td>\n",
       "      <td>1958</td>\n",
       "      <td>Abdelgayed, Adam</td>\n",
       "      <td>2025-04-27 19:58:43</td>\n",
       "      <td>2025-04-27 07:58:43 PM</td>\n",
       "      <td>Sunday</td>\n",
       "      <td>True</td>\n",
       "      <td>Spring</td>\n",
       "      <td>07:58 PM</td>\n",
       "      <td>Evening</td>\n",
       "      <td>1200 MERIWETHER ST</td>\n",
       "      <td>38.030383</td>\n",
       "      <td>-78.467613</td>\n",
       "      <td>Martha Jefferson</td>\n",
       "    </tr>\n",
       "    <tr>\n",
       "      <th>4</th>\n",
       "      <td>5</td>\n",
       "      <td>Vandalism</td>\n",
       "      <td>202500013832</td>\n",
       "      <td></td>\n",
       "      <td>1ST ST N / E MARKET ST</td>\n",
       "      <td>CPD</td>\n",
       "      <td>1903</td>\n",
       "      <td>Crowley, Raeann</td>\n",
       "      <td>2025-04-27 19:03:38</td>\n",
       "      <td>2025-04-27 07:03:38 PM</td>\n",
       "      <td>Sunday</td>\n",
       "      <td>True</td>\n",
       "      <td>Spring</td>\n",
       "      <td>07:03 PM</td>\n",
       "      <td>Evening</td>\n",
       "      <td>1ST ST N / E MARKET ST</td>\n",
       "      <td>38.031539</td>\n",
       "      <td>-78.481144</td>\n",
       "      <td>Downtown Mall</td>\n",
       "    </tr>\n",
       "  </tbody>\n",
       "</table>\n",
       "</div>"
      ],
      "text/plain": [
       "   RecordID                       Offense    IncidentID BlockNumber  \\\n",
       "0         1           Suspicious Activity  202500013848         700   \n",
       "1         2  Larceny - From Motor Vehicle  202500013846         700   \n",
       "2         3            Assault Aggravated  202500013840               \n",
       "3         4  Larceny - From Motor Vehicle  202500013835        1200   \n",
       "4         5                     Vandalism  202500013832               \n",
       "\n",
       "                      StreetName Agency HourReported    ReportingOfficer  \\\n",
       "0                      GROVE AVE    CPD         2247     Crowley, Raeann   \n",
       "1                      GROVE AVE    CPD         2245       Bland, Johnnà   \n",
       "2  ROOSEVELT BROWN BLVD / LEE ST    CPD         2119  Love-Baker, Sydney   \n",
       "3                  MERIWETHER ST    CPD         1958    Abdelgayed, Adam   \n",
       "4         1ST ST N / E MARKET ST    CPD         1903     Crowley, Raeann   \n",
       "\n",
       "                 Date              DateString DayOfWeek  Weekend  Season  \\\n",
       "0 2025-04-27 22:47:15  2025-04-27 10:47:15 PM    Sunday     True  Spring   \n",
       "1 2025-04-27 22:45:08  2025-04-27 10:45:08 PM    Sunday     True  Spring   \n",
       "2 2025-04-27 21:19:04  2025-04-27 09:19:04 PM    Sunday     True  Spring   \n",
       "3 2025-04-27 19:58:43  2025-04-27 07:58:43 PM    Sunday     True  Spring   \n",
       "4 2025-04-27 19:03:38  2025-04-27 07:03:38 PM    Sunday     True  Spring   \n",
       "\n",
       "   HourAMPM TimeOfDay                      FullStreet        lat        lon  \\\n",
       "0  10:47 PM     Night                   700 GROVE AVE  38.033646 -78.468265   \n",
       "1  10:45 PM     Night                   700 GROVE AVE  38.033646 -78.468265   \n",
       "2  09:19 PM     Night   ROOSEVELT BROWN BLVD / LEE ST  38.031170 -78.495497   \n",
       "3  07:58 PM   Evening              1200 MERIWETHER ST  38.030383 -78.467613   \n",
       "4  07:03 PM   Evening          1ST ST N / E MARKET ST  38.031539 -78.481144   \n",
       "\n",
       "            neighborhood  \n",
       "0       Martha Jefferson  \n",
       "1       Martha Jefferson  \n",
       "2  Jefferson Park Avenue  \n",
       "3       Martha Jefferson  \n",
       "4          Downtown Mall  "
      ]
     },
     "execution_count": 10,
     "metadata": {},
     "output_type": "execute_result"
    }
   ],
   "source": [
    "# Initialize the Google Maps client.\n",
    "gmaps = googlemaps.Client(key=GOOGLE_API_KEY)\n",
    "\n",
    "# Try to load a persistent neighborhood cache if available.\n",
    "try:\n",
    "    with open(\"neighborhood_cache.pkl\", \"rb\") as f:\n",
    "        neighborhood_cache = pickle.load(f)\n",
    "    print(\"Loaded neighborhood cache.\")\n",
    "except FileNotFoundError:\n",
    "    neighborhood_cache = {}\n",
    "    print(\"No neighborhood cache found; starting fresh.\")\n",
    "\n",
    "def get_neighborhood(lat, lon):\n",
    "    \"\"\"\n",
    "    Reverse geocodes a latitude and longitude to retrieve the neighborhood.\n",
    "    Caches results to speed up subsequent lookups.\n",
    "    \"\"\"\n",
    "    key = (lat, lon)\n",
    "    if key in neighborhood_cache:\n",
    "        return neighborhood_cache[key]\n",
    "    \n",
    "    try:\n",
    "        result = gmaps.reverse_geocode((lat, lon))\n",
    "        if result:\n",
    "            # Look for the 'neighborhood' component in the first result.\n",
    "            for component in result[0]['address_components']:\n",
    "                if 'neighborhood' in component['types']:\n",
    "                    neighborhood = component['long_name']\n",
    "                    neighborhood_cache[key] = neighborhood\n",
    "                    return neighborhood\n",
    "            # If no neighborhood is found, return \"N/A\"\n",
    "            neighborhood_cache[key] = \"N/A\"\n",
    "            return \"N/A\"\n",
    "    except Exception as e:\n",
    "        print(f\"Error getting neighborhood for {lat}, {lon}: {e}\")\n",
    "        return \"N/A\"\n",
    "    \n",
    "    # Pause to respect usage limits.\n",
    "    time.sleep(1)\n",
    "\n",
    "# Example usage: Apply to your DataFrame 'df' that already has 'lat' and 'lon' columns.\n",
    "df['neighborhood'] = df.apply(lambda row: get_neighborhood(row['lat'], row['lon']), axis=1)\n",
    "\n",
    "# Save the updated neighborhood cache.\n",
    "with open(\"neighborhood_cache.pkl\", \"wb\") as f:\n",
    "    pickle.dump(neighborhood_cache, f)\n",
    "\n",
    "df.head()\n"
   ]
  },
  {
   "cell_type": "markdown",
   "id": "fd4ce021",
   "metadata": {
    "papermill": {
     "duration": 0.006643,
     "end_time": "2025-04-30T01:02:26.987337",
     "exception": false,
     "start_time": "2025-04-30T01:02:26.980694",
     "status": "completed"
    },
    "tags": []
   },
   "source": [
    "### Zip"
   ]
  },
  {
   "cell_type": "code",
   "execution_count": 11,
   "id": "8dbdeb49",
   "metadata": {
    "execution": {
     "iopub.execute_input": "2025-04-30T01:02:27.001546Z",
     "iopub.status.busy": "2025-04-30T01:02:27.001121Z",
     "iopub.status.idle": "2025-04-30T01:02:30.011898Z",
     "shell.execute_reply": "2025-04-30T01:02:30.011202Z"
    },
    "papermill": {
     "duration": 3.018924,
     "end_time": "2025-04-30T01:02:30.012900",
     "exception": false,
     "start_time": "2025-04-30T01:02:26.993976",
     "status": "completed"
    },
    "tags": []
   },
   "outputs": [
    {
     "name": "stdout",
     "output_type": "stream",
     "text": [
      "Loaded zip cache.\n"
     ]
    },
    {
     "data": {
      "text/html": [
       "<div>\n",
       "<style scoped>\n",
       "    .dataframe tbody tr th:only-of-type {\n",
       "        vertical-align: middle;\n",
       "    }\n",
       "\n",
       "    .dataframe tbody tr th {\n",
       "        vertical-align: top;\n",
       "    }\n",
       "\n",
       "    .dataframe thead th {\n",
       "        text-align: right;\n",
       "    }\n",
       "</style>\n",
       "<table border=\"1\" class=\"dataframe\">\n",
       "  <thead>\n",
       "    <tr style=\"text-align: right;\">\n",
       "      <th></th>\n",
       "      <th>RecordID</th>\n",
       "      <th>Offense</th>\n",
       "      <th>IncidentID</th>\n",
       "      <th>BlockNumber</th>\n",
       "      <th>StreetName</th>\n",
       "      <th>Agency</th>\n",
       "      <th>HourReported</th>\n",
       "      <th>ReportingOfficer</th>\n",
       "      <th>Date</th>\n",
       "      <th>DateString</th>\n",
       "      <th>DayOfWeek</th>\n",
       "      <th>Weekend</th>\n",
       "      <th>Season</th>\n",
       "      <th>HourAMPM</th>\n",
       "      <th>TimeOfDay</th>\n",
       "      <th>FullStreet</th>\n",
       "      <th>lat</th>\n",
       "      <th>lon</th>\n",
       "      <th>neighborhood</th>\n",
       "      <th>zip</th>\n",
       "    </tr>\n",
       "  </thead>\n",
       "  <tbody>\n",
       "    <tr>\n",
       "      <th>0</th>\n",
       "      <td>1</td>\n",
       "      <td>Suspicious Activity</td>\n",
       "      <td>202500013848</td>\n",
       "      <td>700</td>\n",
       "      <td>GROVE AVE</td>\n",
       "      <td>CPD</td>\n",
       "      <td>2247</td>\n",
       "      <td>Crowley, Raeann</td>\n",
       "      <td>2025-04-27 22:47:15</td>\n",
       "      <td>2025-04-27 10:47:15 PM</td>\n",
       "      <td>Sunday</td>\n",
       "      <td>True</td>\n",
       "      <td>Spring</td>\n",
       "      <td>10:47 PM</td>\n",
       "      <td>Night</td>\n",
       "      <td>700 GROVE AVE</td>\n",
       "      <td>38.033646</td>\n",
       "      <td>-78.468265</td>\n",
       "      <td>Martha Jefferson</td>\n",
       "      <td>22902</td>\n",
       "    </tr>\n",
       "    <tr>\n",
       "      <th>1</th>\n",
       "      <td>2</td>\n",
       "      <td>Larceny - From Motor Vehicle</td>\n",
       "      <td>202500013846</td>\n",
       "      <td>700</td>\n",
       "      <td>GROVE AVE</td>\n",
       "      <td>CPD</td>\n",
       "      <td>2245</td>\n",
       "      <td>Bland, Johnnà</td>\n",
       "      <td>2025-04-27 22:45:08</td>\n",
       "      <td>2025-04-27 10:45:08 PM</td>\n",
       "      <td>Sunday</td>\n",
       "      <td>True</td>\n",
       "      <td>Spring</td>\n",
       "      <td>10:45 PM</td>\n",
       "      <td>Night</td>\n",
       "      <td>700 GROVE AVE</td>\n",
       "      <td>38.033646</td>\n",
       "      <td>-78.468265</td>\n",
       "      <td>Martha Jefferson</td>\n",
       "      <td>22902</td>\n",
       "    </tr>\n",
       "    <tr>\n",
       "      <th>2</th>\n",
       "      <td>3</td>\n",
       "      <td>Assault Aggravated</td>\n",
       "      <td>202500013840</td>\n",
       "      <td></td>\n",
       "      <td>ROOSEVELT BROWN BLVD / LEE ST</td>\n",
       "      <td>CPD</td>\n",
       "      <td>2119</td>\n",
       "      <td>Love-Baker, Sydney</td>\n",
       "      <td>2025-04-27 21:19:04</td>\n",
       "      <td>2025-04-27 09:19:04 PM</td>\n",
       "      <td>Sunday</td>\n",
       "      <td>True</td>\n",
       "      <td>Spring</td>\n",
       "      <td>09:19 PM</td>\n",
       "      <td>Night</td>\n",
       "      <td>ROOSEVELT BROWN BLVD / LEE ST</td>\n",
       "      <td>38.031170</td>\n",
       "      <td>-78.495497</td>\n",
       "      <td>Jefferson Park Avenue</td>\n",
       "      <td>22903</td>\n",
       "    </tr>\n",
       "    <tr>\n",
       "      <th>3</th>\n",
       "      <td>4</td>\n",
       "      <td>Larceny - From Motor Vehicle</td>\n",
       "      <td>202500013835</td>\n",
       "      <td>1200</td>\n",
       "      <td>MERIWETHER ST</td>\n",
       "      <td>CPD</td>\n",
       "      <td>1958</td>\n",
       "      <td>Abdelgayed, Adam</td>\n",
       "      <td>2025-04-27 19:58:43</td>\n",
       "      <td>2025-04-27 07:58:43 PM</td>\n",
       "      <td>Sunday</td>\n",
       "      <td>True</td>\n",
       "      <td>Spring</td>\n",
       "      <td>07:58 PM</td>\n",
       "      <td>Evening</td>\n",
       "      <td>1200 MERIWETHER ST</td>\n",
       "      <td>38.030383</td>\n",
       "      <td>-78.467613</td>\n",
       "      <td>Martha Jefferson</td>\n",
       "      <td>22902</td>\n",
       "    </tr>\n",
       "    <tr>\n",
       "      <th>4</th>\n",
       "      <td>5</td>\n",
       "      <td>Vandalism</td>\n",
       "      <td>202500013832</td>\n",
       "      <td></td>\n",
       "      <td>1ST ST N / E MARKET ST</td>\n",
       "      <td>CPD</td>\n",
       "      <td>1903</td>\n",
       "      <td>Crowley, Raeann</td>\n",
       "      <td>2025-04-27 19:03:38</td>\n",
       "      <td>2025-04-27 07:03:38 PM</td>\n",
       "      <td>Sunday</td>\n",
       "      <td>True</td>\n",
       "      <td>Spring</td>\n",
       "      <td>07:03 PM</td>\n",
       "      <td>Evening</td>\n",
       "      <td>1ST ST N / E MARKET ST</td>\n",
       "      <td>38.031539</td>\n",
       "      <td>-78.481144</td>\n",
       "      <td>Downtown Mall</td>\n",
       "      <td>22902</td>\n",
       "    </tr>\n",
       "  </tbody>\n",
       "</table>\n",
       "</div>"
      ],
      "text/plain": [
       "   RecordID                       Offense    IncidentID BlockNumber  \\\n",
       "0         1           Suspicious Activity  202500013848         700   \n",
       "1         2  Larceny - From Motor Vehicle  202500013846         700   \n",
       "2         3            Assault Aggravated  202500013840               \n",
       "3         4  Larceny - From Motor Vehicle  202500013835        1200   \n",
       "4         5                     Vandalism  202500013832               \n",
       "\n",
       "                      StreetName Agency HourReported    ReportingOfficer  \\\n",
       "0                      GROVE AVE    CPD         2247     Crowley, Raeann   \n",
       "1                      GROVE AVE    CPD         2245       Bland, Johnnà   \n",
       "2  ROOSEVELT BROWN BLVD / LEE ST    CPD         2119  Love-Baker, Sydney   \n",
       "3                  MERIWETHER ST    CPD         1958    Abdelgayed, Adam   \n",
       "4         1ST ST N / E MARKET ST    CPD         1903     Crowley, Raeann   \n",
       "\n",
       "                 Date              DateString DayOfWeek  Weekend  Season  \\\n",
       "0 2025-04-27 22:47:15  2025-04-27 10:47:15 PM    Sunday     True  Spring   \n",
       "1 2025-04-27 22:45:08  2025-04-27 10:45:08 PM    Sunday     True  Spring   \n",
       "2 2025-04-27 21:19:04  2025-04-27 09:19:04 PM    Sunday     True  Spring   \n",
       "3 2025-04-27 19:58:43  2025-04-27 07:58:43 PM    Sunday     True  Spring   \n",
       "4 2025-04-27 19:03:38  2025-04-27 07:03:38 PM    Sunday     True  Spring   \n",
       "\n",
       "   HourAMPM TimeOfDay                      FullStreet        lat        lon  \\\n",
       "0  10:47 PM     Night                   700 GROVE AVE  38.033646 -78.468265   \n",
       "1  10:45 PM     Night                   700 GROVE AVE  38.033646 -78.468265   \n",
       "2  09:19 PM     Night   ROOSEVELT BROWN BLVD / LEE ST  38.031170 -78.495497   \n",
       "3  07:58 PM   Evening              1200 MERIWETHER ST  38.030383 -78.467613   \n",
       "4  07:03 PM   Evening          1ST ST N / E MARKET ST  38.031539 -78.481144   \n",
       "\n",
       "            neighborhood    zip  \n",
       "0       Martha Jefferson  22902  \n",
       "1       Martha Jefferson  22902  \n",
       "2  Jefferson Park Avenue  22903  \n",
       "3       Martha Jefferson  22902  \n",
       "4          Downtown Mall  22902  "
      ]
     },
     "execution_count": 11,
     "metadata": {},
     "output_type": "execute_result"
    }
   ],
   "source": [
    "# Initialize the geocoder.\n",
    "geolocator = Nominatim(user_agent=\"zip_lookup\")\n",
    "\n",
    "# Try to load a persistent ZIP cache if available.\n",
    "try:\n",
    "    with open(\"zip_cache.pkl\", \"rb\") as f:\n",
    "        zip_cache = pickle.load(f)\n",
    "    print(\"Loaded zip cache.\")\n",
    "except FileNotFoundError:\n",
    "    zip_cache = {}\n",
    "    print(\"No zip cache found; starting fresh.\")\n",
    "\n",
    "def get_zip(lat, lon):\n",
    "    \"\"\"\n",
    "    Reverse geocodes a latitude and longitude to retrieve the ZIP code.\n",
    "    Caches results to speed up subsequent lookups.\n",
    "    \"\"\"\n",
    "    key = (lat, lon)\n",
    "    if key in zip_cache:\n",
    "        return zip_cache[key]\n",
    "    \n",
    "    try:\n",
    "        location = geolocator.reverse((lat, lon), exactly_one=True, timeout=10)\n",
    "        address = location.raw.get('address', {})\n",
    "        postal_code = address.get('postcode', \"N/A\")\n",
    "    except Exception as e:\n",
    "        print(f\"Error getting ZIP for {lat}, {lon}: {e}\")\n",
    "        postal_code = \"N/A\"\n",
    "    \n",
    "    zip_cache[key] = postal_code\n",
    "    # Pause to respect the usage policy.\n",
    "    time.sleep(1)\n",
    "    return postal_code\n",
    "\n",
    "# Apply the function to each row in the DataFrame.\n",
    "df['zip'] = df.apply(lambda row: get_zip(row['lat'], row['lon']), axis=1)\n",
    "\n",
    "# Save the updated ZIP cache.\n",
    "with open(\"zip_cache.pkl\", \"wb\") as f:\n",
    "    pickle.dump(zip_cache, f)\n",
    "\n",
    "df.head()\n"
   ]
  },
  {
   "cell_type": "code",
   "execution_count": 12,
   "id": "41f1a11f",
   "metadata": {
    "execution": {
     "iopub.execute_input": "2025-04-30T01:02:30.028093Z",
     "iopub.status.busy": "2025-04-30T01:02:30.027887Z",
     "iopub.status.idle": "2025-04-30T01:02:30.054982Z",
     "shell.execute_reply": "2025-04-30T01:02:30.054386Z"
    },
    "papermill": {
     "duration": 0.035637,
     "end_time": "2025-04-30T01:02:30.055957",
     "exception": false,
     "start_time": "2025-04-30T01:02:30.020320",
     "status": "completed"
    },
    "tags": []
   },
   "outputs": [
    {
     "name": "stdout",
     "output_type": "stream",
     "text": [
      "                  MissingCount  MissingPercentage\n",
      "RecordID                     0               0.00\n",
      "Offense                      0               0.00\n",
      "IncidentID                   0               0.00\n",
      "BlockNumber                  0               0.00\n",
      "StreetName                   0               0.00\n",
      "Agency                       0               0.00\n",
      "HourReported                 0               0.00\n",
      "ReportingOfficer            17               0.07\n",
      "Date                         0               0.00\n",
      "DateString                   0               0.00\n",
      "DayOfWeek                    0               0.00\n",
      "Weekend                      0               0.00\n",
      "Season                       0               0.00\n",
      "HourAMPM                     0               0.00\n",
      "TimeOfDay                    0               0.00\n",
      "FullStreet                   0               0.00\n",
      "lat                          0               0.00\n",
      "lon                          0               0.00\n",
      "neighborhood                 0               0.00\n",
      "zip                          0               0.00\n"
     ]
    }
   ],
   "source": [
    "missing_info = missing_percentage(df)\n",
    "print(missing_info)\n"
   ]
  },
  {
   "cell_type": "code",
   "execution_count": 13,
   "id": "a95c0106",
   "metadata": {
    "execution": {
     "iopub.execute_input": "2025-04-30T01:02:30.071121Z",
     "iopub.status.busy": "2025-04-30T01:02:30.070912Z",
     "iopub.status.idle": "2025-04-30T01:02:30.100831Z",
     "shell.execute_reply": "2025-04-30T01:02:30.100216Z"
    },
    "papermill": {
     "duration": 0.038742,
     "end_time": "2025-04-30T01:02:30.101994",
     "exception": false,
     "start_time": "2025-04-30T01:02:30.063252",
     "status": "completed"
    },
    "tags": []
   },
   "outputs": [
    {
     "name": "stdout",
     "output_type": "stream",
     "text": [
      "<class 'pandas.core.frame.DataFrame'>\n",
      "RangeIndex: 25278 entries, 0 to 25277\n",
      "Data columns (total 20 columns):\n",
      " #   Column            Non-Null Count  Dtype         \n",
      "---  ------            --------------  -----         \n",
      " 0   RecordID          25278 non-null  int64         \n",
      " 1   Offense           25278 non-null  object        \n",
      " 2   IncidentID        25278 non-null  object        \n",
      " 3   BlockNumber       25278 non-null  object        \n",
      " 4   StreetName        25278 non-null  object        \n",
      " 5   Agency            25278 non-null  object        \n",
      " 6   HourReported      25278 non-null  object        \n",
      " 7   ReportingOfficer  25261 non-null  object        \n",
      " 8   Date              25278 non-null  datetime64[ns]\n",
      " 9   DateString        25278 non-null  object        \n",
      " 10  DayOfWeek         25278 non-null  object        \n",
      " 11  Weekend           25278 non-null  bool          \n",
      " 12  Season            25278 non-null  object        \n",
      " 13  HourAMPM          25278 non-null  object        \n",
      " 14  TimeOfDay         25278 non-null  object        \n",
      " 15  FullStreet        25278 non-null  object        \n",
      " 16  lat               25278 non-null  float64       \n",
      " 17  lon               25278 non-null  float64       \n",
      " 18  neighborhood      25278 non-null  object        \n",
      " 19  zip               25278 non-null  object        \n",
      "dtypes: bool(1), datetime64[ns](1), float64(2), int64(1), object(15)\n",
      "memory usage: 3.7+ MB\n"
     ]
    }
   ],
   "source": [
    "df.info()"
   ]
  },
  {
   "cell_type": "code",
   "execution_count": 14,
   "id": "99e73245",
   "metadata": {
    "execution": {
     "iopub.execute_input": "2025-04-30T01:02:30.118195Z",
     "iopub.status.busy": "2025-04-30T01:02:30.117477Z",
     "iopub.status.idle": "2025-04-30T01:02:30.161313Z",
     "shell.execute_reply": "2025-04-30T01:02:30.160615Z"
    },
    "papermill": {
     "duration": 0.052965,
     "end_time": "2025-04-30T01:02:30.162491",
     "exception": false,
     "start_time": "2025-04-30T01:02:30.109526",
     "status": "completed"
    },
    "tags": []
   },
   "outputs": [
    {
     "data": {
      "text/html": [
       "<div>\n",
       "<style scoped>\n",
       "    .dataframe tbody tr th:only-of-type {\n",
       "        vertical-align: middle;\n",
       "    }\n",
       "\n",
       "    .dataframe tbody tr th {\n",
       "        vertical-align: top;\n",
       "    }\n",
       "\n",
       "    .dataframe thead th {\n",
       "        text-align: right;\n",
       "    }\n",
       "</style>\n",
       "<table border=\"1\" class=\"dataframe\">\n",
       "  <thead>\n",
       "    <tr style=\"text-align: right;\">\n",
       "      <th></th>\n",
       "      <th>RecordID</th>\n",
       "      <th>Offense</th>\n",
       "      <th>IncidentID</th>\n",
       "      <th>Agency</th>\n",
       "      <th>ReportingOfficer</th>\n",
       "      <th>Date</th>\n",
       "      <th>DayOfWeek</th>\n",
       "      <th>Weekend</th>\n",
       "      <th>Season</th>\n",
       "      <th>TimeOfDay</th>\n",
       "      <th>FullStreet</th>\n",
       "      <th>lat</th>\n",
       "      <th>lon</th>\n",
       "      <th>neighborhood</th>\n",
       "      <th>zip</th>\n",
       "    </tr>\n",
       "  </thead>\n",
       "  <tbody>\n",
       "    <tr>\n",
       "      <th>0</th>\n",
       "      <td>1</td>\n",
       "      <td>Suspicious Activity</td>\n",
       "      <td>202500013848</td>\n",
       "      <td>CPD</td>\n",
       "      <td>Crowley, Raeann</td>\n",
       "      <td>2025-04-27 22:47:15</td>\n",
       "      <td>Sunday</td>\n",
       "      <td>True</td>\n",
       "      <td>Spring</td>\n",
       "      <td>Night</td>\n",
       "      <td>700 GROVE AVE</td>\n",
       "      <td>38.033646</td>\n",
       "      <td>-78.468265</td>\n",
       "      <td>Martha Jefferson</td>\n",
       "      <td>22902</td>\n",
       "    </tr>\n",
       "    <tr>\n",
       "      <th>1</th>\n",
       "      <td>2</td>\n",
       "      <td>Larceny - From Motor Vehicle</td>\n",
       "      <td>202500013846</td>\n",
       "      <td>CPD</td>\n",
       "      <td>Bland, Johnnà</td>\n",
       "      <td>2025-04-27 22:45:08</td>\n",
       "      <td>Sunday</td>\n",
       "      <td>True</td>\n",
       "      <td>Spring</td>\n",
       "      <td>Night</td>\n",
       "      <td>700 GROVE AVE</td>\n",
       "      <td>38.033646</td>\n",
       "      <td>-78.468265</td>\n",
       "      <td>Martha Jefferson</td>\n",
       "      <td>22902</td>\n",
       "    </tr>\n",
       "    <tr>\n",
       "      <th>2</th>\n",
       "      <td>3</td>\n",
       "      <td>Assault Aggravated</td>\n",
       "      <td>202500013840</td>\n",
       "      <td>CPD</td>\n",
       "      <td>Love-Baker, Sydney</td>\n",
       "      <td>2025-04-27 21:19:04</td>\n",
       "      <td>Sunday</td>\n",
       "      <td>True</td>\n",
       "      <td>Spring</td>\n",
       "      <td>Night</td>\n",
       "      <td>ROOSEVELT BROWN BLVD / LEE ST</td>\n",
       "      <td>38.031170</td>\n",
       "      <td>-78.495497</td>\n",
       "      <td>Jefferson Park Avenue</td>\n",
       "      <td>22903</td>\n",
       "    </tr>\n",
       "    <tr>\n",
       "      <th>3</th>\n",
       "      <td>4</td>\n",
       "      <td>Larceny - From Motor Vehicle</td>\n",
       "      <td>202500013835</td>\n",
       "      <td>CPD</td>\n",
       "      <td>Abdelgayed, Adam</td>\n",
       "      <td>2025-04-27 19:58:43</td>\n",
       "      <td>Sunday</td>\n",
       "      <td>True</td>\n",
       "      <td>Spring</td>\n",
       "      <td>Evening</td>\n",
       "      <td>1200 MERIWETHER ST</td>\n",
       "      <td>38.030383</td>\n",
       "      <td>-78.467613</td>\n",
       "      <td>Martha Jefferson</td>\n",
       "      <td>22902</td>\n",
       "    </tr>\n",
       "    <tr>\n",
       "      <th>4</th>\n",
       "      <td>5</td>\n",
       "      <td>Vandalism</td>\n",
       "      <td>202500013832</td>\n",
       "      <td>CPD</td>\n",
       "      <td>Crowley, Raeann</td>\n",
       "      <td>2025-04-27 19:03:38</td>\n",
       "      <td>Sunday</td>\n",
       "      <td>True</td>\n",
       "      <td>Spring</td>\n",
       "      <td>Evening</td>\n",
       "      <td>1ST ST N / E MARKET ST</td>\n",
       "      <td>38.031539</td>\n",
       "      <td>-78.481144</td>\n",
       "      <td>Downtown Mall</td>\n",
       "      <td>22902</td>\n",
       "    </tr>\n",
       "  </tbody>\n",
       "</table>\n",
       "</div>"
      ],
      "text/plain": [
       "   RecordID                       Offense    IncidentID Agency  \\\n",
       "0         1           Suspicious Activity  202500013848    CPD   \n",
       "1         2  Larceny - From Motor Vehicle  202500013846    CPD   \n",
       "2         3            Assault Aggravated  202500013840    CPD   \n",
       "3         4  Larceny - From Motor Vehicle  202500013835    CPD   \n",
       "4         5                     Vandalism  202500013832    CPD   \n",
       "\n",
       "     ReportingOfficer                Date DayOfWeek  Weekend  Season  \\\n",
       "0     Crowley, Raeann 2025-04-27 22:47:15    Sunday     True  Spring   \n",
       "1       Bland, Johnnà 2025-04-27 22:45:08    Sunday     True  Spring   \n",
       "2  Love-Baker, Sydney 2025-04-27 21:19:04    Sunday     True  Spring   \n",
       "3    Abdelgayed, Adam 2025-04-27 19:58:43    Sunday     True  Spring   \n",
       "4     Crowley, Raeann 2025-04-27 19:03:38    Sunday     True  Spring   \n",
       "\n",
       "  TimeOfDay                      FullStreet        lat        lon  \\\n",
       "0     Night                   700 GROVE AVE  38.033646 -78.468265   \n",
       "1     Night                   700 GROVE AVE  38.033646 -78.468265   \n",
       "2     Night   ROOSEVELT BROWN BLVD / LEE ST  38.031170 -78.495497   \n",
       "3   Evening              1200 MERIWETHER ST  38.030383 -78.467613   \n",
       "4   Evening          1ST ST N / E MARKET ST  38.031539 -78.481144   \n",
       "\n",
       "            neighborhood    zip  \n",
       "0       Martha Jefferson  22902  \n",
       "1       Martha Jefferson  22902  \n",
       "2  Jefferson Park Avenue  22903  \n",
       "3       Martha Jefferson  22902  \n",
       "4          Downtown Mall  22902  "
      ]
     },
     "execution_count": 14,
     "metadata": {},
     "output_type": "execute_result"
    }
   ],
   "source": [
    "# Now drop the original BlockNumber and StreetName columns\n",
    "df.drop(columns=['BlockNumber', 'StreetName','HourAMPM','HourReported','DateString'], inplace=True)\n",
    "df[\"zip\"] = df[\"zip\"].astype(str)\n",
    "\n",
    "# Fill all missing values in the DataFrame with \"N/A\"\n",
    "df.replace({None: \"N/A\", np.nan: \"N/A\", \"\": \"N/A\"}, inplace=True)\n",
    "df.head()"
   ]
  },
  {
   "cell_type": "code",
   "execution_count": 15,
   "id": "f6984931",
   "metadata": {
    "execution": {
     "iopub.execute_input": "2025-04-30T01:02:30.179507Z",
     "iopub.status.busy": "2025-04-30T01:02:30.179028Z",
     "iopub.status.idle": "2025-04-30T01:02:30.199570Z",
     "shell.execute_reply": "2025-04-30T01:02:30.199003Z"
    },
    "papermill": {
     "duration": 0.029922,
     "end_time": "2025-04-30T01:02:30.200640",
     "exception": false,
     "start_time": "2025-04-30T01:02:30.170718",
     "status": "completed"
    },
    "tags": []
   },
   "outputs": [
    {
     "name": "stdout",
     "output_type": "stream",
     "text": [
      "                  MissingCount  MissingPercentage\n",
      "RecordID                     0                0.0\n",
      "Offense                      0                0.0\n",
      "IncidentID                   0                0.0\n",
      "Agency                       0                0.0\n",
      "ReportingOfficer             0                0.0\n",
      "Date                         0                0.0\n",
      "DayOfWeek                    0                0.0\n",
      "Weekend                      0                0.0\n",
      "Season                       0                0.0\n",
      "TimeOfDay                    0                0.0\n",
      "FullStreet                   0                0.0\n",
      "lat                          0                0.0\n",
      "lon                          0                0.0\n",
      "neighborhood                 0                0.0\n",
      "zip                          0                0.0\n"
     ]
    }
   ],
   "source": [
    "missing_info = missing_percentage(df)\n",
    "print(missing_info)"
   ]
  },
  {
   "cell_type": "code",
   "execution_count": 16,
   "id": "255d156b",
   "metadata": {
    "execution": {
     "iopub.execute_input": "2025-04-30T01:02:30.216420Z",
     "iopub.status.busy": "2025-04-30T01:02:30.216077Z",
     "iopub.status.idle": "2025-04-30T01:02:30.220437Z",
     "shell.execute_reply": "2025-04-30T01:02:30.219921Z"
    },
    "papermill": {
     "duration": 0.013289,
     "end_time": "2025-04-30T01:02:30.221414",
     "exception": false,
     "start_time": "2025-04-30T01:02:30.208125",
     "status": "completed"
    },
    "tags": []
   },
   "outputs": [
    {
     "data": {
      "text/plain": [
       "Index(['RecordID', 'Offense', 'IncidentID', 'Agency', 'ReportingOfficer',\n",
       "       'Date', 'DayOfWeek', 'Weekend', 'Season', 'TimeOfDay', 'FullStreet',\n",
       "       'lat', 'lon', 'neighborhood', 'zip'],\n",
       "      dtype='object')"
      ]
     },
     "execution_count": 16,
     "metadata": {},
     "output_type": "execute_result"
    }
   ],
   "source": [
    "df.columns"
   ]
  },
  {
   "cell_type": "code",
   "execution_count": 17,
   "id": "35436d11",
   "metadata": {
    "execution": {
     "iopub.execute_input": "2025-04-30T01:02:30.237443Z",
     "iopub.status.busy": "2025-04-30T01:02:30.237080Z",
     "iopub.status.idle": "2025-04-30T01:02:30.257297Z",
     "shell.execute_reply": "2025-04-30T01:02:30.256658Z"
    },
    "papermill": {
     "duration": 0.029263,
     "end_time": "2025-04-30T01:02:30.258321",
     "exception": false,
     "start_time": "2025-04-30T01:02:30.229058",
     "status": "completed"
    },
    "tags": []
   },
   "outputs": [
    {
     "name": "stdout",
     "output_type": "stream",
     "text": [
      "<class 'pandas.core.frame.DataFrame'>\n",
      "RangeIndex: 25278 entries, 0 to 25277\n",
      "Data columns (total 15 columns):\n",
      " #   Column            Non-Null Count  Dtype         \n",
      "---  ------            --------------  -----         \n",
      " 0   RecordID          25278 non-null  int64         \n",
      " 1   Offense           25278 non-null  object        \n",
      " 2   IncidentID        25278 non-null  object        \n",
      " 3   Agency            25278 non-null  object        \n",
      " 4   ReportingOfficer  25278 non-null  object        \n",
      " 5   Date              25278 non-null  datetime64[ns]\n",
      " 6   DayOfWeek         25278 non-null  object        \n",
      " 7   Weekend           25278 non-null  bool          \n",
      " 8   Season            25278 non-null  object        \n",
      " 9   TimeOfDay         25278 non-null  object        \n",
      " 10  FullStreet        25278 non-null  object        \n",
      " 11  lat               25278 non-null  float64       \n",
      " 12  lon               25278 non-null  float64       \n",
      " 13  neighborhood      25278 non-null  object        \n",
      " 14  zip               25278 non-null  object        \n",
      "dtypes: bool(1), datetime64[ns](1), float64(2), int64(1), object(10)\n",
      "memory usage: 2.7+ MB\n"
     ]
    }
   ],
   "source": [
    "df.info()"
   ]
  },
  {
   "cell_type": "markdown",
   "id": "e5b94924",
   "metadata": {
    "papermill": {
     "duration": 0.007698,
     "end_time": "2025-04-30T01:02:30.273766",
     "exception": false,
     "start_time": "2025-04-30T01:02:30.266068",
     "status": "completed"
    },
    "tags": []
   },
   "source": [
    "### Export Clean Data"
   ]
  },
  {
   "cell_type": "code",
   "execution_count": 18,
   "id": "4e9bd7e8",
   "metadata": {
    "execution": {
     "iopub.execute_input": "2025-04-30T01:02:30.290127Z",
     "iopub.status.busy": "2025-04-30T01:02:30.289697Z",
     "iopub.status.idle": "2025-04-30T01:02:39.513985Z",
     "shell.execute_reply": "2025-04-30T01:02:39.513302Z"
    },
    "papermill": {
     "duration": 9.23363,
     "end_time": "2025-04-30T01:02:39.515050",
     "exception": false,
     "start_time": "2025-04-30T01:02:30.281420",
     "status": "completed"
    },
    "tags": []
   },
   "outputs": [
    {
     "name": "stdout",
     "output_type": "stream",
     "text": [
      "Project Root: /home/runner/work/crime-data/crime-data\n"
     ]
    },
    {
     "name": "stdout",
     "output_type": "stream",
     "text": [
      "Data saved to: /home/runner/work/crime-data/crime-data/data/charlottesville_crime_incidents.csv\n"
     ]
    },
    {
     "name": "stdout",
     "output_type": "stream",
     "text": [
      "Excel saved to: /home/runner/work/crime-data/crime-data/data/charlottesville_crime_incidents.xlsx\n"
     ]
    }
   ],
   "source": [
    "# Determine the project root (assuming papermill is run from the repository root)\n",
    "project_root = os.getcwd()\n",
    "print(\"Project Root:\", project_root)\n",
    "\n",
    "# Set the data directory within the project root\n",
    "data_dir = os.path.join(project_root, \"data\")\n",
    "\n",
    "# Ensure the \"data\" directory exists (create it if it doesn't)\n",
    "if not os.path.exists(data_dir):\n",
    "    os.makedirs(data_dir)\n",
    "\n",
    "# Export the DataFrame to CSV in the \"data\" folder located in the project root\n",
    "csv_path = os.path.join(data_dir, \"charlottesville_crime_incidents.csv\")\n",
    "df.to_csv(csv_path, index=False)\n",
    "print(\"Data saved to:\", csv_path)\n",
    "\n",
    "# Construct the path to your Excel file\n",
    "excel_path = os.path.join(data_dir, \"charlottesville_crime_incidents.xlsx\")\n",
    "\n",
    "# Export the DataFrame to Excel\n",
    "df.to_excel(excel_path, index=False)\n",
    "print(\"Excel saved to:\", excel_path)\n"
   ]
  },
  {
   "cell_type": "markdown",
   "id": "813d1f32",
   "metadata": {
    "papermill": {
     "duration": 0.007606,
     "end_time": "2025-04-30T01:02:39.530597",
     "exception": false,
     "start_time": "2025-04-30T01:02:39.522991",
     "status": "completed"
    },
    "tags": []
   },
   "source": [
    "## Predictive Analytics"
   ]
  },
  {
   "cell_type": "code",
   "execution_count": 19,
   "id": "a275457b",
   "metadata": {
    "execution": {
     "iopub.execute_input": "2025-04-30T01:02:39.547138Z",
     "iopub.status.busy": "2025-04-30T01:02:39.546905Z",
     "iopub.status.idle": "2025-04-30T01:02:39.558668Z",
     "shell.execute_reply": "2025-04-30T01:02:39.558132Z"
    },
    "papermill": {
     "duration": 0.021266,
     "end_time": "2025-04-30T01:02:39.559700",
     "exception": false,
     "start_time": "2025-04-30T01:02:39.538434",
     "status": "completed"
    },
    "tags": []
   },
   "outputs": [
    {
     "data": {
      "text/html": [
       "<div>\n",
       "<style scoped>\n",
       "    .dataframe tbody tr th:only-of-type {\n",
       "        vertical-align: middle;\n",
       "    }\n",
       "\n",
       "    .dataframe tbody tr th {\n",
       "        vertical-align: top;\n",
       "    }\n",
       "\n",
       "    .dataframe thead th {\n",
       "        text-align: right;\n",
       "    }\n",
       "</style>\n",
       "<table border=\"1\" class=\"dataframe\">\n",
       "  <thead>\n",
       "    <tr style=\"text-align: right;\">\n",
       "      <th></th>\n",
       "      <th>RecordID</th>\n",
       "      <th>Offense</th>\n",
       "      <th>IncidentID</th>\n",
       "      <th>Agency</th>\n",
       "      <th>ReportingOfficer</th>\n",
       "      <th>Date</th>\n",
       "      <th>DayOfWeek</th>\n",
       "      <th>Weekend</th>\n",
       "      <th>Season</th>\n",
       "      <th>TimeOfDay</th>\n",
       "      <th>FullStreet</th>\n",
       "      <th>lat</th>\n",
       "      <th>lon</th>\n",
       "      <th>neighborhood</th>\n",
       "      <th>zip</th>\n",
       "    </tr>\n",
       "  </thead>\n",
       "  <tbody>\n",
       "    <tr>\n",
       "      <th>0</th>\n",
       "      <td>1</td>\n",
       "      <td>Suspicious Activity</td>\n",
       "      <td>202500013848</td>\n",
       "      <td>CPD</td>\n",
       "      <td>Crowley, Raeann</td>\n",
       "      <td>2025-04-27 22:47:15</td>\n",
       "      <td>Sunday</td>\n",
       "      <td>True</td>\n",
       "      <td>Spring</td>\n",
       "      <td>Night</td>\n",
       "      <td>700 GROVE AVE</td>\n",
       "      <td>38.033646</td>\n",
       "      <td>-78.468265</td>\n",
       "      <td>Martha Jefferson</td>\n",
       "      <td>22902</td>\n",
       "    </tr>\n",
       "    <tr>\n",
       "      <th>1</th>\n",
       "      <td>2</td>\n",
       "      <td>Larceny - From Motor Vehicle</td>\n",
       "      <td>202500013846</td>\n",
       "      <td>CPD</td>\n",
       "      <td>Bland, Johnnà</td>\n",
       "      <td>2025-04-27 22:45:08</td>\n",
       "      <td>Sunday</td>\n",
       "      <td>True</td>\n",
       "      <td>Spring</td>\n",
       "      <td>Night</td>\n",
       "      <td>700 GROVE AVE</td>\n",
       "      <td>38.033646</td>\n",
       "      <td>-78.468265</td>\n",
       "      <td>Martha Jefferson</td>\n",
       "      <td>22902</td>\n",
       "    </tr>\n",
       "    <tr>\n",
       "      <th>2</th>\n",
       "      <td>3</td>\n",
       "      <td>Assault Aggravated</td>\n",
       "      <td>202500013840</td>\n",
       "      <td>CPD</td>\n",
       "      <td>Love-Baker, Sydney</td>\n",
       "      <td>2025-04-27 21:19:04</td>\n",
       "      <td>Sunday</td>\n",
       "      <td>True</td>\n",
       "      <td>Spring</td>\n",
       "      <td>Night</td>\n",
       "      <td>ROOSEVELT BROWN BLVD / LEE ST</td>\n",
       "      <td>38.031170</td>\n",
       "      <td>-78.495497</td>\n",
       "      <td>Jefferson Park Avenue</td>\n",
       "      <td>22903</td>\n",
       "    </tr>\n",
       "    <tr>\n",
       "      <th>3</th>\n",
       "      <td>4</td>\n",
       "      <td>Larceny - From Motor Vehicle</td>\n",
       "      <td>202500013835</td>\n",
       "      <td>CPD</td>\n",
       "      <td>Abdelgayed, Adam</td>\n",
       "      <td>2025-04-27 19:58:43</td>\n",
       "      <td>Sunday</td>\n",
       "      <td>True</td>\n",
       "      <td>Spring</td>\n",
       "      <td>Evening</td>\n",
       "      <td>1200 MERIWETHER ST</td>\n",
       "      <td>38.030383</td>\n",
       "      <td>-78.467613</td>\n",
       "      <td>Martha Jefferson</td>\n",
       "      <td>22902</td>\n",
       "    </tr>\n",
       "    <tr>\n",
       "      <th>4</th>\n",
       "      <td>5</td>\n",
       "      <td>Vandalism</td>\n",
       "      <td>202500013832</td>\n",
       "      <td>CPD</td>\n",
       "      <td>Crowley, Raeann</td>\n",
       "      <td>2025-04-27 19:03:38</td>\n",
       "      <td>Sunday</td>\n",
       "      <td>True</td>\n",
       "      <td>Spring</td>\n",
       "      <td>Evening</td>\n",
       "      <td>1ST ST N / E MARKET ST</td>\n",
       "      <td>38.031539</td>\n",
       "      <td>-78.481144</td>\n",
       "      <td>Downtown Mall</td>\n",
       "      <td>22902</td>\n",
       "    </tr>\n",
       "  </tbody>\n",
       "</table>\n",
       "</div>"
      ],
      "text/plain": [
       "   RecordID                       Offense    IncidentID Agency  \\\n",
       "0         1           Suspicious Activity  202500013848    CPD   \n",
       "1         2  Larceny - From Motor Vehicle  202500013846    CPD   \n",
       "2         3            Assault Aggravated  202500013840    CPD   \n",
       "3         4  Larceny - From Motor Vehicle  202500013835    CPD   \n",
       "4         5                     Vandalism  202500013832    CPD   \n",
       "\n",
       "     ReportingOfficer                Date DayOfWeek  Weekend  Season  \\\n",
       "0     Crowley, Raeann 2025-04-27 22:47:15    Sunday     True  Spring   \n",
       "1       Bland, Johnnà 2025-04-27 22:45:08    Sunday     True  Spring   \n",
       "2  Love-Baker, Sydney 2025-04-27 21:19:04    Sunday     True  Spring   \n",
       "3    Abdelgayed, Adam 2025-04-27 19:58:43    Sunday     True  Spring   \n",
       "4     Crowley, Raeann 2025-04-27 19:03:38    Sunday     True  Spring   \n",
       "\n",
       "  TimeOfDay                      FullStreet        lat        lon  \\\n",
       "0     Night                   700 GROVE AVE  38.033646 -78.468265   \n",
       "1     Night                   700 GROVE AVE  38.033646 -78.468265   \n",
       "2     Night   ROOSEVELT BROWN BLVD / LEE ST  38.031170 -78.495497   \n",
       "3   Evening              1200 MERIWETHER ST  38.030383 -78.467613   \n",
       "4   Evening          1ST ST N / E MARKET ST  38.031539 -78.481144   \n",
       "\n",
       "            neighborhood    zip  \n",
       "0       Martha Jefferson  22902  \n",
       "1       Martha Jefferson  22902  \n",
       "2  Jefferson Park Avenue  22903  \n",
       "3       Martha Jefferson  22902  \n",
       "4          Downtown Mall  22902  "
      ]
     },
     "execution_count": 19,
     "metadata": {},
     "output_type": "execute_result"
    }
   ],
   "source": [
    "df.head()"
   ]
  },
  {
   "cell_type": "code",
   "execution_count": 20,
   "id": "4086e2c5",
   "metadata": {
    "execution": {
     "iopub.execute_input": "2025-04-30T01:02:39.576591Z",
     "iopub.status.busy": "2025-04-30T01:02:39.576161Z",
     "iopub.status.idle": "2025-04-30T01:02:39.580533Z",
     "shell.execute_reply": "2025-04-30T01:02:39.579874Z"
    },
    "papermill": {
     "duration": 0.013723,
     "end_time": "2025-04-30T01:02:39.581430",
     "exception": false,
     "start_time": "2025-04-30T01:02:39.567707",
     "status": "completed"
    },
    "tags": []
   },
   "outputs": [
    {
     "data": {
      "text/plain": [
       "Index(['RecordID', 'Offense', 'IncidentID', 'Agency', 'ReportingOfficer',\n",
       "       'Date', 'DayOfWeek', 'Weekend', 'Season', 'TimeOfDay', 'FullStreet',\n",
       "       'lat', 'lon', 'neighborhood', 'zip'],\n",
       "      dtype='object')"
      ]
     },
     "execution_count": 20,
     "metadata": {},
     "output_type": "execute_result"
    }
   ],
   "source": [
    "df.columns"
   ]
  },
  {
   "cell_type": "markdown",
   "id": "8e1f3000",
   "metadata": {
    "papermill": {
     "duration": 0.008014,
     "end_time": "2025-04-30T01:02:39.597539",
     "exception": false,
     "start_time": "2025-04-30T01:02:39.589525",
     "status": "completed"
    },
    "tags": []
   },
   "source": [
    "### Data Preparation\n",
    "\n",
    "We need to ensure the data is in the correct format for modeling and can handle missing values, categorical variables, and dates. Here's how to prepare your data:"
   ]
  },
  {
   "cell_type": "code",
   "execution_count": 21,
   "id": "f9a6c073",
   "metadata": {
    "execution": {
     "iopub.execute_input": "2025-04-30T01:02:39.614755Z",
     "iopub.status.busy": "2025-04-30T01:02:39.614361Z",
     "iopub.status.idle": "2025-04-30T01:02:41.213102Z",
     "shell.execute_reply": "2025-04-30T01:02:41.212352Z"
    },
    "papermill": {
     "duration": 1.608854,
     "end_time": "2025-04-30T01:02:41.214479",
     "exception": false,
     "start_time": "2025-04-30T01:02:39.605625",
     "status": "completed"
    },
    "tags": []
   },
   "outputs": [],
   "source": [
    "import pandas as pd\n",
    "from sklearn.model_selection import train_test_split\n",
    "from sklearn.preprocessing import OneHotEncoder, LabelEncoder\n",
    "from sklearn.ensemble import RandomForestClassifier\n",
    "from sklearn.linear_model import LogisticRegression\n",
    "from sklearn.tree import DecisionTreeClassifier\n",
    "from sklearn.metrics import classification_report, accuracy_score\n",
    "import seaborn as sns\n",
    "import matplotlib.pyplot as plt\n",
    "\n",
    "# Convert 'Date' to datetime\n",
    "df['Date'] = pd.to_datetime(df['Date'])\n",
    "\n",
    "# Feature engineering: Extract additional time-based features\n",
    "df['Year'] = df['Date'].dt.year\n",
    "df['Month'] = df['Date'].dt.month\n",
    "df['DayOfMonth'] = df['Date'].dt.day\n",
    "\n",
    "# One-hot encoding for 'FullStreet', 'neighborhood', 'zip'\n",
    "df = pd.get_dummies(df, columns=['FullStreet', 'neighborhood', 'zip'], drop_first=True)\n",
    "\n",
    "# Label encoding for ordered variables (those with a natural order like 'DayOfWeek', 'Season', 'TimeOfDay')\n",
    "label_encoders = {}\n",
    "for column in ['DayOfWeek', 'Season', 'TimeOfDay', 'Agency', 'ReportingOfficer']:  # Example ordinal variables\n",
    "    le = LabelEncoder()\n",
    "    df[column] = le.fit_transform(df[column])\n",
    "    label_encoders[column] = le\n",
    "\n",
    "# Filter the dataset to include only the offenses of interest\n",
    "offenses_of_interest = [\n",
    "    'Hit and Run', 'Assault Simple', 'Suspicious Activity', 'Vandalism', \n",
    "    'Larceny - From Mot Vehicle', 'Larceny - All Other', \n",
    "    'Assist Citizen - Mental/TDO/ECO', 'Lost/FoundProperty'\n",
    "]\n",
    "\n",
    "df = df[df['Offense'].isin(offenses_of_interest)]\n",
    "\n",
    "# Label encode the target variable (Offense)\n",
    "offense_encoder = LabelEncoder()\n",
    "df['Offense'] = offense_encoder.fit_transform(df['Offense'])\n",
    "\n",
    "# Separate features (X) and target (y)\n",
    "X = df[['Year', 'Month', 'DayOfMonth', 'DayOfWeek', 'Weekend', 'Season', 'TimeOfDay', 'lat', 'lon', 'Agency', 'ReportingOfficer']]\n",
    "y = df['Offense']  # Offense is now the encoded target variable\n",
    "\n",
    "# Split the data into training and testing sets\n",
    "X_train, X_test, y_train, y_test = train_test_split(X, y, test_size=0.3, random_state=42)\n"
   ]
  },
  {
   "cell_type": "markdown",
   "id": "bc9119aa",
   "metadata": {
    "papermill": {
     "duration": 0.008214,
     "end_time": "2025-04-30T01:02:41.231365",
     "exception": false,
     "start_time": "2025-04-30T01:02:41.223151",
     "status": "completed"
    },
    "tags": []
   },
   "source": [
    "### Model Training\n",
    "\n",
    "Here we will train several models (e.g., Random Forest, Logistic Regression, and Decision Tree). We will use cross-validation to choose the best model based on accuracy, and then explain the impact of the variables."
   ]
  },
  {
   "cell_type": "code",
   "execution_count": 22,
   "id": "98766813",
   "metadata": {
    "execution": {
     "iopub.execute_input": "2025-04-30T01:02:41.249043Z",
     "iopub.status.busy": "2025-04-30T01:02:41.248348Z",
     "iopub.status.idle": "2025-04-30T01:02:44.837033Z",
     "shell.execute_reply": "2025-04-30T01:02:44.836273Z"
    },
    "papermill": {
     "duration": 3.598724,
     "end_time": "2025-04-30T01:02:44.838150",
     "exception": false,
     "start_time": "2025-04-30T01:02:41.239426",
     "status": "completed"
    },
    "tags": []
   },
   "outputs": [
    {
     "name": "stderr",
     "output_type": "stream",
     "text": [
      "/opt/hostedtoolcache/Python/3.9.22/x64/lib/python3.9/site-packages/sklearn/linear_model/_logistic.py:465: ConvergenceWarning: lbfgs failed to converge (status=1):\n",
      "STOP: TOTAL NO. of ITERATIONS REACHED LIMIT.\n",
      "\n",
      "Increase the number of iterations (max_iter) or scale the data as shown in:\n",
      "    https://scikit-learn.org/stable/modules/preprocessing.html\n",
      "Please also refer to the documentation for alternative solver options:\n",
      "    https://scikit-learn.org/stable/modules/linear_model.html#logistic-regression\n",
      "  n_iter_i = _check_optimize_result(\n",
      "/opt/hostedtoolcache/Python/3.9.22/x64/lib/python3.9/site-packages/sklearn/metrics/_classification.py:1565: UndefinedMetricWarning: Precision is ill-defined and being set to 0.0 in labels with no predicted samples. Use `zero_division` parameter to control this behavior.\n",
      "  _warn_prf(average, modifier, f\"{metric.capitalize()} is\", len(result))\n",
      "/opt/hostedtoolcache/Python/3.9.22/x64/lib/python3.9/site-packages/sklearn/metrics/_classification.py:1565: UndefinedMetricWarning: Precision is ill-defined and being set to 0.0 in labels with no predicted samples. Use `zero_division` parameter to control this behavior.\n",
      "  _warn_prf(average, modifier, f\"{metric.capitalize()} is\", len(result))\n",
      "/opt/hostedtoolcache/Python/3.9.22/x64/lib/python3.9/site-packages/sklearn/metrics/_classification.py:1565: UndefinedMetricWarning: Precision is ill-defined and being set to 0.0 in labels with no predicted samples. Use `zero_division` parameter to control this behavior.\n",
      "  _warn_prf(average, modifier, f\"{metric.capitalize()} is\", len(result))\n"
     ]
    },
    {
     "name": "stdout",
     "output_type": "stream",
     "text": [
      "\n",
      "Classification Report for All Models:\n",
      "\n",
      "Model: RandomForest\n",
      "Accuracy: 0.2762\n",
      "              precision    recall  f1-score     support\n",
      "0              0.293617  0.344426  0.316998   601.00000\n",
      "1              0.240741  0.184834  0.209115   422.00000\n",
      "2              0.286256  0.480127  0.358670   629.00000\n",
      "3              0.232353  0.164241  0.192448   481.00000\n",
      "4              0.320675  0.220290  0.261168   345.00000\n",
      "5              0.264977  0.207957  0.233029   553.00000\n",
      "6              0.270053  0.230594  0.248768   438.00000\n",
      "accuracy       0.276160  0.276160  0.276160     0.27616\n",
      "macro avg      0.272667  0.261781  0.260028  3469.00000\n",
      "weighted avg   0.272506  0.276160  0.266608  3469.00000\n"
     ]
    },
    {
     "data": {
      "image/png": "[encoded data removed]",
      "text/plain": [
       "<Figure size 800x600 with 2 Axes>"
      ]
     },
     "metadata": {},
     "output_type": "display_data"
    },
    {
     "name": "stdout",
     "output_type": "stream",
     "text": [
      "\n",
      "Model: LogisticRegression\n",
      "Accuracy: 0.2032\n",
      "              precision    recall  f1-score      support\n",
      "0              0.207463  0.462562  0.286450   601.000000\n",
      "1              0.000000  0.000000  0.000000   422.000000\n",
      "2              0.200564  0.678855  0.309645   629.000000\n",
      "3              0.000000  0.000000  0.000000   481.000000\n",
      "4              0.000000  0.000000  0.000000   345.000000\n",
      "5              0.000000  0.000000  0.000000   553.000000\n",
      "6              0.000000  0.000000  0.000000   438.000000\n",
      "accuracy       0.203229  0.203229  0.203229     0.203229\n",
      "macro avg      0.058289  0.163060  0.085156  3469.000000\n",
      "weighted avg   0.072309  0.203229  0.105772  3469.000000\n"
     ]
    },
    {
     "data": {
      "image/png": "[encoded data removed]",
      "text/plain": [
       "<Figure size 800x600 with 2 Axes>"
      ]
     },
     "metadata": {},
     "output_type": "display_data"
    },
    {
     "name": "stdout",
     "output_type": "stream",
     "text": [
      "\n",
      "Model: DecisionTree\n",
      "Accuracy: 0.2159\n",
      "              precision    recall  f1-score      support\n",
      "0              0.226481  0.216306  0.221277   601.000000\n",
      "1              0.193622  0.201422  0.197445   422.000000\n",
      "2              0.278034  0.287758  0.282813   629.000000\n",
      "3              0.191176  0.189189  0.190178   481.000000\n",
      "4              0.187166  0.202899  0.194715   345.000000\n",
      "5              0.200409  0.177215  0.188100   553.000000\n",
      "6              0.201717  0.214612  0.207965   438.000000\n",
      "accuracy       0.215912  0.215912  0.215912     0.215912\n",
      "macro avg      0.211229  0.212772  0.211784  3469.000000\n",
      "weighted avg   0.215743  0.215912  0.215612  3469.000000\n"
     ]
    },
    {
     "data": {
      "image/png": "[encoded data removed]",
      "text/plain": [
       "<Figure size 800x600 with 2 Axes>"
      ]
     },
     "metadata": {},
     "output_type": "display_data"
    },
    {
     "name": "stdout",
     "output_type": "stream",
     "text": [
      "\n",
      "Best Model:\n",
      "Best Model: RandomForestClassifier()\n",
      "Best Model Accuracy: 0.2762\n"
     ]
    }
   ],
   "source": [
    "import pandas as pd\n",
    "from sklearn.model_selection import train_test_split\n",
    "from sklearn.ensemble import RandomForestClassifier\n",
    "from sklearn.linear_model import LogisticRegression\n",
    "from sklearn.tree import DecisionTreeClassifier\n",
    "from sklearn.metrics import classification_report, accuracy_score, confusion_matrix\n",
    "import seaborn as sns\n",
    "import matplotlib.pyplot as plt\n",
    "\n",
    "# Define models\n",
    "models = {\n",
    "    'RandomForest': RandomForestClassifier(),\n",
    "    'LogisticRegression': LogisticRegression(max_iter=1000),\n",
    "    'DecisionTree': DecisionTreeClassifier()\n",
    "}\n",
    "\n",
    "# Train models and evaluate them\n",
    "best_model = None\n",
    "best_score = 0\n",
    "model_reports = {}\n",
    "\n",
    "for model_name, model in models.items():\n",
    "    model.fit(X_train, y_train)  # Train model\n",
    "    y_pred = model.predict(X_test)  # Make predictions\n",
    "    \n",
    "    # Calculate accuracy and generate classification report\n",
    "    accuracy = accuracy_score(y_test, y_pred)\n",
    "    model_reports[model_name] = classification_report(y_test, y_pred, output_dict=True)  # Store as a dictionary for easier analysis\n",
    "    \n",
    "    # Track best performing model\n",
    "    if accuracy > best_score:\n",
    "        best_score = accuracy\n",
    "        best_model = model\n",
    "\n",
    "# Display classification reports and confusion matrices\n",
    "print(\"\\nClassification Report for All Models:\")\n",
    "for model_name, report in model_reports.items():\n",
    "    print(f\"\\nModel: {model_name}\")\n",
    "    print(\"Accuracy: {:.4f}\".format(accuracy_score(y_test, models[model_name].predict(X_test))))  # Display accuracy\n",
    "    print(pd.DataFrame(report).transpose())  # Display classification report as a DataFrame\n",
    "\n",
    "    # Plot Confusion Matrix\n",
    "    cm = confusion_matrix(y_test, models[model_name].predict(X_test))\n",
    "    plt.figure(figsize=(8, 6))\n",
    "    sns.heatmap(cm, annot=True, fmt=\"d\", cmap='Blues', xticklabels=offense_encoder.classes_, yticklabels=offense_encoder.classes_)\n",
    "    plt.title(f\"Confusion Matrix - {model_name}\")\n",
    "    plt.xlabel('Predicted Labels')\n",
    "    plt.ylabel('True Labels')\n",
    "    plt.show()\n",
    "\n",
    "# Display best model details\n",
    "print(\"\\nBest Model:\")\n",
    "print(f\"Best Model: {best_model}\")\n",
    "print(f\"Best Model Accuracy: {best_score:.4f}\")\n"
   ]
  },
  {
   "cell_type": "markdown",
   "id": "a41bd4ea",
   "metadata": {
    "papermill": {
     "duration": 0.012163,
     "end_time": "2025-04-30T01:02:44.861967",
     "exception": false,
     "start_time": "2025-04-30T01:02:44.849804",
     "status": "completed"
    },
    "tags": []
   },
   "source": [
    "#### Classification Report for All Models:\n",
    "\n",
    "### Explanation of the Classification Results (RandomForest Model)\n",
    "\n",
    "The results you provided are from a **Random Forest** model, which is used for predicting different types of offenses. Let's break down the key components of the results:\n",
    "\n",
    "#### 1. **Accuracy: 0.2822**\n",
    "   - **Accuracy** measures the overall percentage of correct predictions made by the model. An accuracy of 28.22% means the model correctly predicted the offense in about 28% of the cases. This indicates the model's predictions are not highly reliable, as the accuracy is quite low.\n",
    "\n",
    "#### 2. **Classification Report:**\n",
    "   The classification report includes precision, recall, and F1-score for each offense. Let's go over these terms and how they apply to the results:\n",
    "\n",
    "   - **Precision**: The proportion of true positive predictions out of all positive predictions made by the model for a specific class (offense).\n",
    "   - **Recall**: The proportion of true positive predictions out of all actual positive instances in the dataset.\n",
    "   - **F1-Score**: The harmonic mean of precision and recall, providing a balance between the two metrics.\n",
    "   - **Support**: The number of actual occurrences of each class in the test set.\n",
    "\n",
    "   Let's analyze each offense based on these metrics:\n",
    "\n",
    "   | **Offense**                        | **Precision** | **Recall** | **F1-Score** | **Support** |\n",
    "   |------------------------------------|---------------|------------|--------------|-------------|\n",
    "   | **Assault Simple**                 | 0.2892        | 0.3754     | 0.3267       | 594         |\n",
    "   | **Assist Citizen - Mental/TDO/ECO**| 0.3182        | 0.2274     | 0.2652       | 431         |\n",
    "   | **Hit and Run**                    | 0.2963        | 0.4765     | 0.3654       | 638         |\n",
    "   | **Larceny - All Other**            | 0.2270        | 0.1453     | 0.1772       | 475         |\n",
    "   | **Lost/FoundProperty**             | 0.3333        | 0.2102     | 0.2578       | 352         |\n",
    "   | **Suspicious Activity**            | 0.2344        | 0.2169     | 0.2253       | 484         |\n",
    "   | **Vandalism**                      | 0.2712        | 0.2106     | 0.2371       | 470         |\n",
    "\n",
    "#### 3. **Key Insights from the Report:**\n",
    "\n",
    "- **Precision**:\n",
    "   - The highest precision is for **Larceny - All Other** (0.3333), indicating that when the model predicts this offense, it is correct about 33% of the time. However, this is still quite low.\n",
    "   - **Assist Citizen - Mental/TDO/ECO** has the lowest precision (0.2269), meaning that the model's predictions for this offense tend to be wrong more often than correct.\n",
    "\n",
    "- **Recall**:\n",
    "   - **Hit and Run** has the highest recall (0.4765), meaning the model identifies about 48% of the actual occurrences of this offense. This is better than the precision, which indicates it is missing many true positives but is still able to identify a fair number of cases.\n",
    "   - **Larceny - All Other** and **Suspicious Activity** have the lowest recall values (0.1453 and 0.2169, respectively), indicating that the model is failing to identify most of the actual cases for these offenses.\n",
    "\n",
    "- **F1-Score**:\n",
    "   - The **F1-Score** balances precision and recall. It is highest for **Hit and Run** (0.3654), but still relatively low overall. This suggests the model is better at identifying **Hit and Run** than other offenses but still has room for improvement.\n",
    "   - **Larceny - All Other** has the lowest F1-Score (0.1772), indicating a poor balance between precision and recall for this offense.\n",
    "\n",
    "#### 4. **Macro Average and Weighted Average:**\n",
    "   - **Macro Average**: This gives the average precision, recall, and F1-Score across all classes (offenses) without considering the class distribution. It averages the results for all offenses equally.\n",
    "     - Precision: 0.2814\n",
    "     - Recall: 0.2661\n",
    "     - F1-Score: 0.2649\n",
    "   - **Weighted Average**: This averages the metrics but weighs each class by its support (the number of true instances in the test set). This gives a better sense of overall performance, considering the class distribution.\n",
    "     - Precision: 0.2799\n",
    "     - Recall: 0.2822\n",
    "     - F1-Score: 0.2720\n",
    "\n",
    "#### 5. **Confusion Matrix (Visualization Analysis)**:\n",
    "   - The confusion matrix shows the distribution of true positive, false positive, true negative, and false negative predictions for each class.\n",
    "     - For **Hit and Run**, the model performs relatively well in identifying this offense (304 true positives). However, it also misclassifies some **Hit and Run** instances as other offenses (e.g., **Assault Simple**, **Suspicious Activity**, etc.).\n",
    "     - **Larceny - All Other** is frequently misclassified as **Hit and Run**, **Suspicious Activity**, and others. This is evident from the large number of off-diagonal elements in its row.\n",
    "     - **Assist Citizen - Mental/TDO/ECO** and **Suspicious Activity** are frequently misclassified, as seen by the off-diagonal values in their rows.\n",
    "\n",
    "### Conclusion:\n",
    "The Random Forest model has low accuracy (28.22%), suggesting that it struggles to predict most offenses accurately. Some offenses like **Hit and Run** are better predicted than others, but overall, the model shows a high level of misclassification across all offenses. There may be a need for further tuning of the model, additional feature engineering, or trying different models for better performance.\n",
    "\n",
    "Let me know if you'd like to improve the model or make adjustments based on these results!\n",
    "\n"
   ]
  },
  {
   "cell_type": "markdown",
   "id": "8ca37cec",
   "metadata": {
    "papermill": {
     "duration": 0.010988,
     "end_time": "2025-04-30T01:02:44.884077",
     "exception": false,
     "start_time": "2025-04-30T01:02:44.873089",
     "status": "completed"
    },
    "tags": []
   },
   "source": [
    "### Model Explanation\n",
    "\n",
    "Once we’ve chosen the best model, we will explain its predictions by examining feature importance for tree-based models and using statistical methods like logistic regression coefficients for linear models."
   ]
  },
  {
   "cell_type": "markdown",
   "id": "e2de0df8",
   "metadata": {
    "papermill": {
     "duration": 0.010772,
     "end_time": "2025-04-30T01:02:44.905652",
     "exception": false,
     "start_time": "2025-04-30T01:02:44.894880",
     "status": "completed"
    },
    "tags": []
   },
   "source": [
    "#### Feature Importance for Random Forest / Decision Tree\n",
    "\n",
    "##### For Tree-based Models (Random Forest, Decision Tree)\n",
    "\n",
    "For Random Forest or Decision Tree, we can look at feature importance to understand which variables contribute the most to the model's predictions. Here's how you can visualize and interpret the importance of each feature:"
   ]
  },
  {
   "cell_type": "code",
   "execution_count": 23,
   "id": "8beccec3",
   "metadata": {
    "execution": {
     "iopub.execute_input": "2025-04-30T01:02:44.928808Z",
     "iopub.status.busy": "2025-04-30T01:02:44.928153Z",
     "iopub.status.idle": "2025-04-30T01:02:45.097616Z",
     "shell.execute_reply": "2025-04-30T01:02:45.096902Z"
    },
    "papermill": {
     "duration": 0.182357,
     "end_time": "2025-04-30T01:02:45.098670",
     "exception": false,
     "start_time": "2025-04-30T01:02:44.916313",
     "status": "completed"
    },
    "tags": []
   },
   "outputs": [
    {
     "data": {
      "image/png": "[encoded data removed]",
      "text/plain": [
       "<Figure size 1000x600 with 1 Axes>"
      ]
     },
     "metadata": {},
     "output_type": "display_data"
    }
   ],
   "source": [
    "# For RandomForest or DecisionTree models, we can check feature importance\n",
    "if isinstance(best_model, RandomForestClassifier) or isinstance(best_model, DecisionTreeClassifier):\n",
    "    feature_importance = best_model.feature_importances_\n",
    "    feature_names = X.columns\n",
    "    importance_df = pd.DataFrame({'Feature': feature_names, 'Importance': feature_importance})\n",
    "    importance_df = importance_df.sort_values(by='Importance', ascending=False)\n",
    "    \n",
    "    # Plotting the feature importances\n",
    "    plt.figure(figsize=(10, 6))\n",
    "    sns.barplot(x='Importance', y='Feature', data=importance_df)\n",
    "    plt.title(\"Feature Importance\")\n",
    "    plt.show()\n"
   ]
  },
  {
   "cell_type": "code",
   "execution_count": null,
   "id": "ea1d821e",
   "metadata": {
    "papermill": {
     "duration": 0.011545,
     "end_time": "2025-04-30T01:02:45.121961",
     "exception": false,
     "start_time": "2025-04-30T01:02:45.110416",
     "status": "completed"
    },
    "tags": []
   },
   "outputs": [],
   "source": []
  },
  {
   "cell_type": "markdown",
   "id": "fa8164cd",
   "metadata": {
    "papermill": {
     "duration": 0.011239,
     "end_time": "2025-04-30T01:02:45.144412",
     "exception": false,
     "start_time": "2025-04-30T01:02:45.133173",
     "status": "completed"
    },
    "tags": []
   },
   "source": [
    "### Evaluation\n",
    "\n",
    "After training the models and examining their performance, we evaluate the chosen model based on metrics like accuracy, precision, recall, and F1 score.\n",
    "\n"
   ]
  },
  {
   "cell_type": "code",
   "execution_count": 24,
   "id": "0a0616e2",
   "metadata": {
    "execution": {
     "iopub.execute_input": "2025-04-30T01:02:45.168661Z",
     "iopub.status.busy": "2025-04-30T01:02:45.168156Z",
     "iopub.status.idle": "2025-04-30T01:02:45.256743Z",
     "shell.execute_reply": "2025-04-30T01:02:45.256092Z"
    },
    "papermill": {
     "duration": 0.102005,
     "end_time": "2025-04-30T01:02:45.257850",
     "exception": false,
     "start_time": "2025-04-30T01:02:45.155845",
     "status": "completed"
    },
    "tags": []
   },
   "outputs": [
    {
     "name": "stdout",
     "output_type": "stream",
     "text": [
      "Accuracy: 0.2762\n",
      "Classification Report:\n",
      "              precision    recall  f1-score   support\n",
      "\n",
      "           0       0.29      0.34      0.32       601\n",
      "           1       0.24      0.18      0.21       422\n",
      "           2       0.29      0.48      0.36       629\n",
      "           3       0.23      0.16      0.19       481\n",
      "           4       0.32      0.22      0.26       345\n",
      "           5       0.26      0.21      0.23       553\n",
      "           6       0.27      0.23      0.25       438\n",
      "\n",
      "    accuracy                           0.28      3469\n",
      "   macro avg       0.27      0.26      0.26      3469\n",
      "weighted avg       0.27      0.28      0.27      3469\n",
      "\n",
      "Confusion Matrix:\n",
      "[[207  71 162  39  17  68  37]\n",
      " [104  78 106  37  19  47  31]\n",
      " [ 98  40 302  50  21  66  52]\n",
      " [ 67  31 155  79  35  55  59]\n",
      " [ 39  30  76  36  76  45  43]\n",
      " [114  40 145  52  36 115  51]\n",
      " [ 76  34 109  47  33  38 101]]\n",
      "Precision: 0.2725\n",
      "Recall: 0.2762\n",
      "F1 Score: 0.2666\n"
     ]
    }
   ],
   "source": [
    "from sklearn.metrics import classification_report, confusion_matrix, accuracy_score, precision_score, recall_score, f1_score\n",
    "\n",
    "# Predict on the test set\n",
    "y_pred = best_model.predict(X_test)\n",
    "\n",
    "# Calculate Accuracy\n",
    "accuracy = accuracy_score(y_test, y_pred)\n",
    "print(f\"Accuracy: {accuracy:.4f}\")\n",
    "\n",
    "# Classification Report\n",
    "print(\"Classification Report:\")\n",
    "print(classification_report(y_test, y_pred))\n",
    "\n",
    "# Confusion Matrix\n",
    "conf_matrix = confusion_matrix(y_test, y_pred)\n",
    "print(\"Confusion Matrix:\")\n",
    "print(conf_matrix)\n",
    "\n",
    "# Precision, Recall, F1 Score for each class (Offense Type)\n",
    "precision = precision_score(y_test, y_pred, average='weighted')\n",
    "recall = recall_score(y_test, y_pred, average='weighted')\n",
    "f1 = f1_score(y_test, y_pred, average='weighted')\n",
    "\n",
    "print(f\"Precision: {precision:.4f}\")\n",
    "print(f\"Recall: {recall:.4f}\")\n",
    "print(f\"F1 Score: {f1:.4f}\")\n"
   ]
  },
  {
   "cell_type": "markdown",
   "id": "63838749",
   "metadata": {
    "papermill": {
     "duration": 0.0113,
     "end_time": "2025-04-30T01:02:45.280854",
     "exception": false,
     "start_time": "2025-04-30T01:02:45.269554",
     "status": "completed"
    },
    "tags": []
   },
   "source": [
    "#### For Logistic Regression (Coefficient Interpretation)\n",
    "\n",
    "For Logistic Regression, the model coefficients can help us understand how each feature affects the likelihood of an offense happening. A positive coefficient indicates a feature increases the likelihood of the offense, and a negative coefficient indicates the opposite."
   ]
  },
  {
   "cell_type": "code",
   "execution_count": 25,
   "id": "0c35af8b",
   "metadata": {
    "execution": {
     "iopub.execute_input": "2025-04-30T01:02:45.304831Z",
     "iopub.status.busy": "2025-04-30T01:02:45.304297Z",
     "iopub.status.idle": "2025-04-30T01:02:45.309055Z",
     "shell.execute_reply": "2025-04-30T01:02:45.308515Z"
    },
    "papermill": {
     "duration": 0.017947,
     "end_time": "2025-04-30T01:02:45.310098",
     "exception": false,
     "start_time": "2025-04-30T01:02:45.292151",
     "status": "completed"
    },
    "tags": []
   },
   "outputs": [],
   "source": [
    "if isinstance(best_model, LogisticRegression):\n",
    "    # Logistic regression coefficients\n",
    "    coef_df = pd.DataFrame({\n",
    "        'Feature': X.columns,\n",
    "        'Coefficient': best_model.coef_[0]\n",
    "    })\n",
    "    coef_df['AbsCoefficient'] = coef_df['Coefficient'].abs()\n",
    "    coef_df = coef_df.sort_values(by='AbsCoefficient', ascending=False)\n",
    "    \n",
    "    # Plotting the coefficients\n",
    "    plt.figure(figsize=(10, 6))\n",
    "    sns.barplot(x='AbsCoefficient', y='Feature', data=coef_df)\n",
    "    plt.title(\"Logistic Regression Coefficients Impact\")\n",
    "    plt.show()\n",
    "\n",
    "    # Print the top 5 most impactful features (by absolute coefficient value)\n",
    "    print(\"Top 5 most impactful features based on coefficients:\")\n",
    "    print(coef_df.head())\n"
   ]
  },
  {
   "cell_type": "markdown",
   "id": "4bc70693",
   "metadata": {
    "papermill": {
     "duration": 0.011244,
     "end_time": "2025-04-30T01:02:45.332765",
     "exception": false,
     "start_time": "2025-04-30T01:02:45.321521",
     "status": "completed"
    },
    "tags": []
   },
   "source": [
    "Explanation of Output:\n",
    "\n",
    "Feature Importance (Random Forest/Decision Tree): The bar plot will show how important each feature is in the decision-making process. Features at the top of the list are the most influential in predicting the occurrence of offenses.\n",
    "\n",
    "Logistic Regression Coefficients: The bar plot will show the magnitude of the coefficients for each feature. Features with larger absolute values (either positive or negative) have a stronger impact on the model’s predictions. Positive coefficients increase the probability of an offense, while negative coefficients decrease it."
   ]
  },
  {
   "cell_type": "markdown",
   "id": "a48fc71f",
   "metadata": {
    "papermill": {
     "duration": 0.011282,
     "end_time": "2025-04-30T01:02:45.355262",
     "exception": false,
     "start_time": "2025-04-30T01:02:45.343980",
     "status": "completed"
    },
    "tags": []
   },
   "source": []
  }
 ],
 "metadata": {
  "kernelspec": {
   "display_name": "Python 3",
   "language": "python",
   "name": "python3"
  },
  "language_info": {
   "codemirror_mode": {
    "name": "ipython",
    "version": 3
   },
   "file_extension": ".py",
   "mimetype": "text/x-python",
   "name": "python",
   "nbconvert_exporter": "python",
   "pygments_lexer": "ipython3",
   "version": "3.9.22"
  },
  "papermill": {
   "default_parameters": {},
   "duration": 80.302525,
   "end_time": "2025-04-30T01:02:45.884361",
   "environment_variables": {},
   "exception": null,
   "input_path": "notebook/Crime Data.ipynb",
   "output_path": "notebook/Crime Data_output.ipynb",
   "parameters": {},
   "start_time": "2025-04-30T01:01:25.581836",
   "version": "2.6.0"
  }
 },
 "nbformat": 4,
 "nbformat_minor": 5
}