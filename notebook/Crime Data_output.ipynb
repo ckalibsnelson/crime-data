{
 "cells": [
  {
   "cell_type": "markdown",
   "id": "902004f3",
   "metadata": {
    "papermill": {
     "duration": 0.004214,
     "end_time": "2025-08-24T01:07:52.601832",
     "exception": false,
     "start_time": "2025-08-24T01:07:52.597618",
     "status": "completed"
    },
    "tags": []
   },
   "source": [
    "# Charlottesville Open Data Porttal: Crime Data"
   ]
  },
  {
   "cell_type": "markdown",
   "id": "765a2f76",
   "metadata": {
    "papermill": {
     "duration": 0.004207,
     "end_time": "2025-08-24T01:07:52.609646",
     "exception": false,
     "start_time": "2025-08-24T01:07:52.605439",
     "status": "completed"
    },
    "tags": []
   },
   "source": [
    "## Import Relevant Librarires & Set WD"
   ]
  },
  {
   "cell_type": "code",
   "execution_count": 1,
   "id": "34a46061",
   "metadata": {
    "execution": {
     "iopub.execute_input": "2025-08-24T01:07:52.617305Z",
     "iopub.status.busy": "2025-08-24T01:07:52.617013Z",
     "iopub.status.idle": "2025-08-24T01:07:53.169104Z",
     "shell.execute_reply": "2025-08-24T01:07:53.168437Z"
    },
    "papermill": {
     "duration": 0.557579,
     "end_time": "2025-08-24T01:07:53.170484",
     "exception": false,
     "start_time": "2025-08-24T01:07:52.612905",
     "status": "completed"
    },
    "tags": []
   },
   "outputs": [],
   "source": [
    "import requests\n",
    "import pandas as pd\n",
    "import numpy as np\n",
    "import pickle\n",
    "import googlemaps\n",
    "import plotly.express as px\n",
    "from geopy.geocoders import Nominatim\n",
    "import time\n",
    "from dotenv import load_dotenv\n",
    "import os\n",
    "\n",
    "env_path = os.path.join(\"..\", \".env\")\n",
    "#print(\"Looking for .env file at:\", os.path.abspath(env_path))\n",
    "load_dotenv(dotenv_path=env_path)\n",
    "\n",
    "# Retrieve the variables\n",
    "GOOGLE_API_KEY = os.getenv(\"GOOGLE_API_KEY\")\n",
    "WORKING_DIR = os.getenv(\"WORKING_DIR\")\n",
    "\n",
    "if GOOGLE_API_KEY is None or WORKING_DIR is None:\n",
    "    raise RuntimeError(\"No configuration found. Please ensure that your .env file exists with the required variables, or create a local config.py file.\")\n",
    "\n",
    "#print(\"Google API Key:\", GOOGLE_API_KEY)\n",
    "#print(\"Working Directory:\", WORKING_DIR)"
   ]
  },
  {
   "cell_type": "markdown",
   "id": "7fbf3d61",
   "metadata": {
    "papermill": {
     "duration": 0.003269,
     "end_time": "2025-08-24T01:07:53.177531",
     "exception": false,
     "start_time": "2025-08-24T01:07:53.174262",
     "status": "completed"
    },
    "tags": []
   },
   "source": [
    "## Import Data\n",
    "\n",
    "URL: https://opendata.charlottesville.org/datasets/charlottesville::crime-data/about"
   ]
  },
  {
   "cell_type": "code",
   "execution_count": 2,
   "id": "cfab7acc",
   "metadata": {
    "execution": {
     "iopub.execute_input": "2025-08-24T01:07:53.185032Z",
     "iopub.status.busy": "2025-08-24T01:07:53.184752Z",
     "iopub.status.idle": "2025-08-24T01:08:59.266840Z",
     "shell.execute_reply": "2025-08-24T01:08:59.266092Z"
    },
    "papermill": {
     "duration": 66.089789,
     "end_time": "2025-08-24T01:08:59.270580",
     "exception": false,
     "start_time": "2025-08-24T01:07:53.180791",
     "status": "completed"
    },
    "tags": []
   },
   "outputs": [
    {
     "name": "stdout",
     "output_type": "stream",
     "text": [
      "Total records imported: 25677\n"
     ]
    }
   ],
   "source": [
    "# Define the endpoint and initial parameters.\n",
    "url = \"https://gisweb.charlottesville.org/arcgis/rest/services/OpenData_2/MapServer/6/query\"\n",
    "params = {\n",
    "    \"where\": \"1=1\",\n",
    "    \"outFields\": \"*\",\n",
    "    \"outSR\": 4326,\n",
    "    \"f\": \"json\",\n",
    "    \"resultOffset\": 0,       # Starting index for results\n",
    "    \"resultRecordCount\": 10000  # Maximum records per batch (if allowed by the API)\n",
    "}\n",
    "\n",
    "records = []\n",
    "\n",
    "while True:\n",
    "    response = requests.get(url, params=params)\n",
    "    response.raise_for_status()\n",
    "    data = response.json()\n",
    "    \n",
    "    # Get the current batch of features.\n",
    "    features = data.get(\"features\", [])\n",
    "    if not features:\n",
    "        break\n",
    "\n",
    "    # Extract the attributes from the features.\n",
    "    batch_records = [feature.get(\"attributes\", {}) for feature in features]\n",
    "    records.extend(batch_records)\n",
    "    \n",
    "    # If the batch size is less than the requested count, we reached the end.\n",
    "    if len(features) < params[\"resultRecordCount\"]:\n",
    "        break\n",
    "\n",
    "    # Update the resultOffset for the next batch.\n",
    "    params[\"resultOffset\"] += params[\"resultRecordCount\"]\n",
    "\n",
    "# Create a DataFrame from the combined records.\n",
    "df = pd.DataFrame(records)\n",
    "print(\"Total records imported:\", len(df))\n"
   ]
  },
  {
   "cell_type": "code",
   "execution_count": 3,
   "id": "bdf2e027",
   "metadata": {
    "execution": {
     "iopub.execute_input": "2025-08-24T01:08:59.278366Z",
     "iopub.status.busy": "2025-08-24T01:08:59.278148Z",
     "iopub.status.idle": "2025-08-24T01:08:59.290314Z",
     "shell.execute_reply": "2025-08-24T01:08:59.289686Z"
    },
    "papermill": {
     "duration": 0.017254,
     "end_time": "2025-08-24T01:08:59.291385",
     "exception": false,
     "start_time": "2025-08-24T01:08:59.274131",
     "status": "completed"
    },
    "tags": []
   },
   "outputs": [
    {
     "data": {
      "text/html": [
       "<div>\n",
       "<style scoped>\n",
       "    .dataframe tbody tr th:only-of-type {\n",
       "        vertical-align: middle;\n",
       "    }\n",
       "\n",
       "    .dataframe tbody tr th {\n",
       "        vertical-align: top;\n",
       "    }\n",
       "\n",
       "    .dataframe thead th {\n",
       "        text-align: right;\n",
       "    }\n",
       "</style>\n",
       "<table border=\"1\" class=\"dataframe\">\n",
       "  <thead>\n",
       "    <tr style=\"text-align: right;\">\n",
       "      <th></th>\n",
       "      <th>RecordID</th>\n",
       "      <th>Offense</th>\n",
       "      <th>IncidentID</th>\n",
       "      <th>BlockNumber</th>\n",
       "      <th>StreetName</th>\n",
       "      <th>Agency</th>\n",
       "      <th>DateReported</th>\n",
       "      <th>HourReported</th>\n",
       "      <th>ReportingOfficer</th>\n",
       "    </tr>\n",
       "  </thead>\n",
       "  <tbody>\n",
       "    <tr>\n",
       "      <th>0</th>\n",
       "      <td>1</td>\n",
       "      <td>Larceny - Shoplifitng</td>\n",
       "      <td>202500029809</td>\n",
       "      <td>1100</td>\n",
       "      <td>5TH ST SW</td>\n",
       "      <td>CPD</td>\n",
       "      <td>1755831679000</td>\n",
       "      <td>2301</td>\n",
       "      <td>Reed, Danielle</td>\n",
       "    </tr>\n",
       "    <tr>\n",
       "      <th>1</th>\n",
       "      <td>2</td>\n",
       "      <td>Assault Simple</td>\n",
       "      <td>202500029791</td>\n",
       "      <td></td>\n",
       "      <td>2ND ST NW / W MARKET ST</td>\n",
       "      <td>CPD</td>\n",
       "      <td>1755824006000</td>\n",
       "      <td>2053</td>\n",
       "      <td>Venereo, Arturo</td>\n",
       "    </tr>\n",
       "    <tr>\n",
       "      <th>2</th>\n",
       "      <td>3</td>\n",
       "      <td>Assault Simple</td>\n",
       "      <td>202500029785</td>\n",
       "      <td>900</td>\n",
       "      <td>MONTICELLO AVE</td>\n",
       "      <td>CPD</td>\n",
       "      <td>1755820059000</td>\n",
       "      <td>1947</td>\n",
       "      <td>Reed, Danielle</td>\n",
       "    </tr>\n",
       "    <tr>\n",
       "      <th>3</th>\n",
       "      <td>4</td>\n",
       "      <td>Harassment</td>\n",
       "      <td>202500029781</td>\n",
       "      <td>400</td>\n",
       "      <td>FAIRWAY AVE</td>\n",
       "      <td>CPD</td>\n",
       "      <td>1755818175000</td>\n",
       "      <td>1916</td>\n",
       "      <td>Hudson, Jesse</td>\n",
       "    </tr>\n",
       "    <tr>\n",
       "      <th>4</th>\n",
       "      <td>5</td>\n",
       "      <td>Larceny - Shoplifitng</td>\n",
       "      <td>202500029778</td>\n",
       "      <td>200</td>\n",
       "      <td>E MAIN ST</td>\n",
       "      <td>CPD</td>\n",
       "      <td>1755815686000</td>\n",
       "      <td>1834</td>\n",
       "      <td>Ritter, Kobe</td>\n",
       "    </tr>\n",
       "  </tbody>\n",
       "</table>\n",
       "</div>"
      ],
      "text/plain": [
       "   RecordID                Offense    IncidentID BlockNumber  \\\n",
       "0         1  Larceny - Shoplifitng  202500029809        1100   \n",
       "1         2         Assault Simple  202500029791               \n",
       "2         3         Assault Simple  202500029785         900   \n",
       "3         4             Harassment  202500029781         400   \n",
       "4         5  Larceny - Shoplifitng  202500029778         200   \n",
       "\n",
       "                StreetName Agency   DateReported HourReported ReportingOfficer  \n",
       "0                5TH ST SW    CPD  1755831679000         2301   Reed, Danielle  \n",
       "1  2ND ST NW / W MARKET ST    CPD  1755824006000         2053  Venereo, Arturo  \n",
       "2           MONTICELLO AVE    CPD  1755820059000         1947   Reed, Danielle  \n",
       "3              FAIRWAY AVE    CPD  1755818175000         1916    Hudson, Jesse  \n",
       "4                E MAIN ST    CPD  1755815686000         1834     Ritter, Kobe  "
      ]
     },
     "execution_count": 3,
     "metadata": {},
     "output_type": "execute_result"
    }
   ],
   "source": [
    "df.head()"
   ]
  },
  {
   "cell_type": "code",
   "execution_count": 4,
   "id": "b2ab2582",
   "metadata": {
    "execution": {
     "iopub.execute_input": "2025-08-24T01:08:59.299423Z",
     "iopub.status.busy": "2025-08-24T01:08:59.299212Z",
     "iopub.status.idle": "2025-08-24T01:08:59.303586Z",
     "shell.execute_reply": "2025-08-24T01:08:59.302914Z"
    },
    "papermill": {
     "duration": 0.009563,
     "end_time": "2025-08-24T01:08:59.304673",
     "exception": false,
     "start_time": "2025-08-24T01:08:59.295110",
     "status": "completed"
    },
    "tags": []
   },
   "outputs": [
    {
     "data": {
      "text/plain": [
       "Index(['RecordID', 'Offense', 'IncidentID', 'BlockNumber', 'StreetName',\n",
       "       'Agency', 'DateReported', 'HourReported', 'ReportingOfficer'],\n",
       "      dtype='object')"
      ]
     },
     "execution_count": 4,
     "metadata": {},
     "output_type": "execute_result"
    }
   ],
   "source": [
    "df.columns"
   ]
  },
  {
   "cell_type": "code",
   "execution_count": 5,
   "id": "2c114dc4",
   "metadata": {
    "execution": {
     "iopub.execute_input": "2025-08-24T01:08:59.312887Z",
     "iopub.status.busy": "2025-08-24T01:08:59.312700Z",
     "iopub.status.idle": "2025-08-24T01:08:59.336637Z",
     "shell.execute_reply": "2025-08-24T01:08:59.336091Z"
    },
    "papermill": {
     "duration": 0.029186,
     "end_time": "2025-08-24T01:08:59.337693",
     "exception": false,
     "start_time": "2025-08-24T01:08:59.308507",
     "status": "completed"
    },
    "tags": []
   },
   "outputs": [
    {
     "name": "stdout",
     "output_type": "stream",
     "text": [
      "<class 'pandas.core.frame.DataFrame'>\n",
      "RangeIndex: 25677 entries, 0 to 25676\n",
      "Data columns (total 9 columns):\n",
      " #   Column            Non-Null Count  Dtype \n",
      "---  ------            --------------  ----- \n",
      " 0   RecordID          25677 non-null  int64 \n",
      " 1   Offense           25677 non-null  object\n",
      " 2   IncidentID        25677 non-null  object\n",
      " 3   BlockNumber       25677 non-null  object\n",
      " 4   StreetName        25677 non-null  object\n",
      " 5   Agency            25677 non-null  object\n",
      " 6   DateReported      25677 non-null  int64 \n",
      " 7   HourReported      25677 non-null  object\n",
      " 8   ReportingOfficer  25662 non-null  object\n",
      "dtypes: int64(2), object(7)\n",
      "memory usage: 1.8+ MB\n"
     ]
    }
   ],
   "source": [
    "df.info()"
   ]
  },
  {
   "cell_type": "markdown",
   "id": "12c987c6",
   "metadata": {
    "papermill": {
     "duration": 0.003765,
     "end_time": "2025-08-24T01:08:59.345445",
     "exception": false,
     "start_time": "2025-08-24T01:08:59.341680",
     "status": "completed"
    },
    "tags": []
   },
   "source": [
    "### Missing Values"
   ]
  },
  {
   "cell_type": "code",
   "execution_count": 6,
   "id": "a258d8d9",
   "metadata": {
    "execution": {
     "iopub.execute_input": "2025-08-24T01:08:59.353753Z",
     "iopub.status.busy": "2025-08-24T01:08:59.353545Z",
     "iopub.status.idle": "2025-08-24T01:08:59.376983Z",
     "shell.execute_reply": "2025-08-24T01:08:59.376387Z"
    },
    "papermill": {
     "duration": 0.028864,
     "end_time": "2025-08-24T01:08:59.378016",
     "exception": false,
     "start_time": "2025-08-24T01:08:59.349152",
     "status": "completed"
    },
    "tags": []
   },
   "outputs": [
    {
     "name": "stdout",
     "output_type": "stream",
     "text": [
      "                  MissingCount  MissingPercentage\n",
      "RecordID                     0               0.00\n",
      "Offense                      0               0.00\n",
      "IncidentID                   0               0.00\n",
      "BlockNumber                  0               0.00\n",
      "StreetName                   0               0.00\n",
      "Agency                       0               0.00\n",
      "DateReported                 0               0.00\n",
      "HourReported                 0               0.00\n",
      "ReportingOfficer            15               0.06\n"
     ]
    }
   ],
   "source": [
    "def missing_percentage(df):\n",
    "    \"\"\"\n",
    "    Returns a DataFrame with the count and percentage of missing values for each column.\n",
    "    \n",
    "    Parameters:\n",
    "        df (pd.DataFrame): The input DataFrame.\n",
    "    \n",
    "    Returns:\n",
    "        pd.DataFrame: A DataFrame with columns 'MissingCount' and 'MissingPercentage'.\n",
    "    \"\"\"\n",
    "    total_rows = len(df)\n",
    "    missing_count = df.isnull().sum()\n",
    "    missing_percent = (missing_count / total_rows) * 100\n",
    "    \n",
    "    result = pd.DataFrame({\n",
    "        'MissingCount': missing_count,\n",
    "        'MissingPercentage': missing_percent.round(2)\n",
    "    })\n",
    "    \n",
    "    return result\n",
    "\n",
    "# Example usage:\n",
    "missing_info = missing_percentage(df)\n",
    "print(missing_info)\n"
   ]
  },
  {
   "cell_type": "markdown",
   "id": "434c8f9f",
   "metadata": {
    "papermill": {
     "duration": 0.003764,
     "end_time": "2025-08-24T01:08:59.386032",
     "exception": false,
     "start_time": "2025-08-24T01:08:59.382268",
     "status": "completed"
    },
    "tags": []
   },
   "source": [
    "## Data Preparation"
   ]
  },
  {
   "cell_type": "markdown",
   "id": "c7c60202",
   "metadata": {
    "papermill": {
     "duration": 0.003777,
     "end_time": "2025-08-24T01:08:59.393590",
     "exception": false,
     "start_time": "2025-08-24T01:08:59.389813",
     "status": "completed"
    },
    "tags": []
   },
   "source": [
    "### Data Conversion"
   ]
  },
  {
   "cell_type": "code",
   "execution_count": 7,
   "id": "ffe77ca4",
   "metadata": {
    "execution": {
     "iopub.execute_input": "2025-08-24T01:08:59.402322Z",
     "iopub.status.busy": "2025-08-24T01:08:59.401949Z",
     "iopub.status.idle": "2025-08-24T01:08:59.765957Z",
     "shell.execute_reply": "2025-08-24T01:08:59.765265Z"
    },
    "papermill": {
     "duration": 0.369699,
     "end_time": "2025-08-24T01:08:59.767135",
     "exception": false,
     "start_time": "2025-08-24T01:08:59.397436",
     "status": "completed"
    },
    "tags": []
   },
   "outputs": [
    {
     "data": {
      "text/html": [
       "<div>\n",
       "<style scoped>\n",
       "    .dataframe tbody tr th:only-of-type {\n",
       "        vertical-align: middle;\n",
       "    }\n",
       "\n",
       "    .dataframe tbody tr th {\n",
       "        vertical-align: top;\n",
       "    }\n",
       "\n",
       "    .dataframe thead th {\n",
       "        text-align: right;\n",
       "    }\n",
       "</style>\n",
       "<table border=\"1\" class=\"dataframe\">\n",
       "  <thead>\n",
       "    <tr style=\"text-align: right;\">\n",
       "      <th></th>\n",
       "      <th>RecordID</th>\n",
       "      <th>Offense</th>\n",
       "      <th>IncidentID</th>\n",
       "      <th>BlockNumber</th>\n",
       "      <th>StreetName</th>\n",
       "      <th>Agency</th>\n",
       "      <th>HourReported</th>\n",
       "      <th>ReportingOfficer</th>\n",
       "      <th>Date</th>\n",
       "      <th>DateString</th>\n",
       "      <th>DayOfWeek</th>\n",
       "      <th>Weekend</th>\n",
       "      <th>Season</th>\n",
       "      <th>HourAMPM</th>\n",
       "      <th>TimeOfDay</th>\n",
       "    </tr>\n",
       "  </thead>\n",
       "  <tbody>\n",
       "    <tr>\n",
       "      <th>0</th>\n",
       "      <td>1</td>\n",
       "      <td>Larceny - Shoplifitng</td>\n",
       "      <td>202500029809</td>\n",
       "      <td>1100</td>\n",
       "      <td>5TH ST SW</td>\n",
       "      <td>CPD</td>\n",
       "      <td>2301</td>\n",
       "      <td>Reed, Danielle</td>\n",
       "      <td>2025-08-21 23:01:19</td>\n",
       "      <td>2025-08-21 11:01:19 PM</td>\n",
       "      <td>Thursday</td>\n",
       "      <td>False</td>\n",
       "      <td>Summer</td>\n",
       "      <td>11:01 PM</td>\n",
       "      <td>Night</td>\n",
       "    </tr>\n",
       "    <tr>\n",
       "      <th>1</th>\n",
       "      <td>2</td>\n",
       "      <td>Assault Simple</td>\n",
       "      <td>202500029791</td>\n",
       "      <td></td>\n",
       "      <td>2ND ST NW / W MARKET ST</td>\n",
       "      <td>CPD</td>\n",
       "      <td>2053</td>\n",
       "      <td>Venereo, Arturo</td>\n",
       "      <td>2025-08-21 20:53:26</td>\n",
       "      <td>2025-08-21 08:53:26 PM</td>\n",
       "      <td>Thursday</td>\n",
       "      <td>False</td>\n",
       "      <td>Summer</td>\n",
       "      <td>08:53 PM</td>\n",
       "      <td>Evening</td>\n",
       "    </tr>\n",
       "    <tr>\n",
       "      <th>2</th>\n",
       "      <td>3</td>\n",
       "      <td>Assault Simple</td>\n",
       "      <td>202500029785</td>\n",
       "      <td>900</td>\n",
       "      <td>MONTICELLO AVE</td>\n",
       "      <td>CPD</td>\n",
       "      <td>1947</td>\n",
       "      <td>Reed, Danielle</td>\n",
       "      <td>2025-08-21 19:47:39</td>\n",
       "      <td>2025-08-21 07:47:39 PM</td>\n",
       "      <td>Thursday</td>\n",
       "      <td>False</td>\n",
       "      <td>Summer</td>\n",
       "      <td>07:47 PM</td>\n",
       "      <td>Evening</td>\n",
       "    </tr>\n",
       "    <tr>\n",
       "      <th>3</th>\n",
       "      <td>4</td>\n",
       "      <td>Harassment</td>\n",
       "      <td>202500029781</td>\n",
       "      <td>400</td>\n",
       "      <td>FAIRWAY AVE</td>\n",
       "      <td>CPD</td>\n",
       "      <td>1916</td>\n",
       "      <td>Hudson, Jesse</td>\n",
       "      <td>2025-08-21 19:16:15</td>\n",
       "      <td>2025-08-21 07:16:15 PM</td>\n",
       "      <td>Thursday</td>\n",
       "      <td>False</td>\n",
       "      <td>Summer</td>\n",
       "      <td>07:16 PM</td>\n",
       "      <td>Evening</td>\n",
       "    </tr>\n",
       "    <tr>\n",
       "      <th>4</th>\n",
       "      <td>5</td>\n",
       "      <td>Larceny - Shoplifitng</td>\n",
       "      <td>202500029778</td>\n",
       "      <td>200</td>\n",
       "      <td>E MAIN ST</td>\n",
       "      <td>CPD</td>\n",
       "      <td>1834</td>\n",
       "      <td>Ritter, Kobe</td>\n",
       "      <td>2025-08-21 18:34:46</td>\n",
       "      <td>2025-08-21 06:34:46 PM</td>\n",
       "      <td>Thursday</td>\n",
       "      <td>False</td>\n",
       "      <td>Summer</td>\n",
       "      <td>06:34 PM</td>\n",
       "      <td>Evening</td>\n",
       "    </tr>\n",
       "  </tbody>\n",
       "</table>\n",
       "</div>"
      ],
      "text/plain": [
       "   RecordID                Offense    IncidentID BlockNumber  \\\n",
       "0         1  Larceny - Shoplifitng  202500029809        1100   \n",
       "1         2         Assault Simple  202500029791               \n",
       "2         3         Assault Simple  202500029785         900   \n",
       "3         4             Harassment  202500029781         400   \n",
       "4         5  Larceny - Shoplifitng  202500029778         200   \n",
       "\n",
       "                StreetName Agency HourReported ReportingOfficer  \\\n",
       "0                5TH ST SW    CPD         2301   Reed, Danielle   \n",
       "1  2ND ST NW / W MARKET ST    CPD         2053  Venereo, Arturo   \n",
       "2           MONTICELLO AVE    CPD         1947   Reed, Danielle   \n",
       "3              FAIRWAY AVE    CPD         1916    Hudson, Jesse   \n",
       "4                E MAIN ST    CPD         1834     Ritter, Kobe   \n",
       "\n",
       "                 Date              DateString DayOfWeek  Weekend  Season  \\\n",
       "0 2025-08-21 23:01:19  2025-08-21 11:01:19 PM  Thursday    False  Summer   \n",
       "1 2025-08-21 20:53:26  2025-08-21 08:53:26 PM  Thursday    False  Summer   \n",
       "2 2025-08-21 19:47:39  2025-08-21 07:47:39 PM  Thursday    False  Summer   \n",
       "3 2025-08-21 19:16:15  2025-08-21 07:16:15 PM  Thursday    False  Summer   \n",
       "4 2025-08-21 18:34:46  2025-08-21 06:34:46 PM  Thursday    False  Summer   \n",
       "\n",
       "   HourAMPM TimeOfDay  \n",
       "0  11:01 PM     Night  \n",
       "1  08:53 PM   Evening  \n",
       "2  07:47 PM   Evening  \n",
       "3  07:16 PM   Evening  \n",
       "4  06:34 PM   Evening  "
      ]
     },
     "execution_count": 7,
     "metadata": {},
     "output_type": "execute_result"
    }
   ],
   "source": [
    "def convert_and_categorize_datereported(df, col='DateReported'):\n",
    "    \"\"\"\n",
    "    Converts an epoch (in milliseconds) date column into a timezone-aware datetime,\n",
    "    converts it to Eastern Time, and then creates columns for day-of-week, weekend flag,\n",
    "    season, 12-hour formatted time, and time-of-day. Keeps both a real datetime column\n",
    "    (Date) and a string representation (DateString).\n",
    "    \"\"\"\n",
    "    import pandas as pd\n",
    "\n",
    "    # Convert the epoch timestamp to a pandas datetime object as UTC, then convert to US/Eastern.\n",
    "    df[\"DateReported_dt\"] = (\n",
    "        pd.to_datetime(df[col], unit=\"ms\", errors=\"coerce\", utc=True)\n",
    "        .dt.tz_convert(\"US/Eastern\")\n",
    "    )\n",
    "    \n",
    "    # Create a true datetime column (remove timezone if you prefer naive datetime)\n",
    "    df[\"Date\"] = df[\"DateReported_dt\"].dt.tz_localize(None)\n",
    "\n",
    "    # Optionally, create a separate string-formatted column\n",
    "    df[\"DateString\"] = df[\"DateReported_dt\"].dt.strftime(\"%Y-%m-%d %I:%M:%S %p\")\n",
    "    \n",
    "    # DayOfWeek\n",
    "    df[\"DayOfWeek\"] = df[\"DateReported_dt\"].dt.day_name()\n",
    "    \n",
    "    # Weekend\n",
    "    df[\"Weekend\"] = df[\"DayOfWeek\"].isin([\"Saturday\", \"Sunday\"])\n",
    "    \n",
    "    # Helper function to determine the season\n",
    "    def get_season(dt):\n",
    "        month = dt.month\n",
    "        day = dt.day\n",
    "        # Approximate Northern Hemisphere season boundaries:\n",
    "        if (month == 12 and day >= 21) or (month < 3) or (month == 3 and day < 20):\n",
    "            return \"Winter\"\n",
    "        elif (month == 3 and day >= 20) or (month < 6) or (month == 6 and day < 21):\n",
    "            return \"Spring\"\n",
    "        elif (month == 6 and day >= 21) or (month < 9) or (month == 9 and day < 22):\n",
    "            return \"Summer\"\n",
    "        else:\n",
    "            return \"Autumn\"\n",
    "    \n",
    "    df[\"Season\"] = df[\"DateReported_dt\"].apply(get_season)\n",
    "    \n",
    "    # 12-hour formatted time (HourAMPM)\n",
    "    df[\"HourAMPM\"] = df[\"DateReported_dt\"].dt.strftime(\"%I:%M %p\")\n",
    "    \n",
    "    # Extract hour (0-23) for time-of-day\n",
    "    df[\"HourValue\"] = df[\"DateReported_dt\"].dt.hour\n",
    "    \n",
    "    def time_of_day(hour):\n",
    "        if pd.isnull(hour):\n",
    "            return None\n",
    "        if 5 <= hour < 12:\n",
    "            return \"Morning\"\n",
    "        elif 12 <= hour < 17:\n",
    "            return \"Afternoon\"\n",
    "        elif 17 <= hour < 21:\n",
    "            return \"Evening\"\n",
    "        else:\n",
    "            return \"Night\"\n",
    "    \n",
    "    df[\"TimeOfDay\"] = df[\"HourValue\"].apply(time_of_day)\n",
    "    \n",
    "    # Drop columns you no longer need\n",
    "    df.drop(columns=[col, \"DateReported_dt\", \"HourValue\"], inplace=True)\n",
    "    \n",
    "    return df\n",
    "\n",
    "# Example usage:\n",
    "df = convert_and_categorize_datereported(df)\n",
    "df.head()\n"
   ]
  },
  {
   "cell_type": "code",
   "execution_count": 8,
   "id": "96a46a0f",
   "metadata": {
    "execution": {
     "iopub.execute_input": "2025-08-24T01:08:59.776526Z",
     "iopub.status.busy": "2025-08-24T01:08:59.776323Z",
     "iopub.status.idle": "2025-08-24T01:08:59.803658Z",
     "shell.execute_reply": "2025-08-24T01:08:59.803076Z"
    },
    "papermill": {
     "duration": 0.033165,
     "end_time": "2025-08-24T01:08:59.804714",
     "exception": false,
     "start_time": "2025-08-24T01:08:59.771549",
     "status": "completed"
    },
    "tags": []
   },
   "outputs": [
    {
     "name": "stdout",
     "output_type": "stream",
     "text": [
      "<class 'pandas.core.frame.DataFrame'>\n",
      "RangeIndex: 25677 entries, 0 to 25676\n",
      "Data columns (total 15 columns):\n",
      " #   Column            Non-Null Count  Dtype         \n",
      "---  ------            --------------  -----         \n",
      " 0   RecordID          25677 non-null  int64         \n",
      " 1   Offense           25677 non-null  object        \n",
      " 2   IncidentID        25677 non-null  object        \n",
      " 3   BlockNumber       25677 non-null  object        \n",
      " 4   StreetName        25677 non-null  object        \n",
      " 5   Agency            25677 non-null  object        \n",
      " 6   HourReported      25677 non-null  object        \n",
      " 7   ReportingOfficer  25662 non-null  object        \n",
      " 8   Date              25677 non-null  datetime64[ns]\n",
      " 9   DateString        25677 non-null  object        \n",
      " 10  DayOfWeek         25677 non-null  object        \n",
      " 11  Weekend           25677 non-null  bool          \n",
      " 12  Season            25677 non-null  object        \n",
      " 13  HourAMPM          25677 non-null  object        \n",
      " 14  TimeOfDay         25677 non-null  object        \n",
      "dtypes: bool(1), datetime64[ns](1), int64(1), object(12)\n",
      "memory usage: 2.8+ MB\n"
     ]
    }
   ],
   "source": [
    "df.info()"
   ]
  },
  {
   "cell_type": "markdown",
   "id": "337c5aa2",
   "metadata": {
    "papermill": {
     "duration": 0.004032,
     "end_time": "2025-08-24T01:08:59.813204",
     "exception": false,
     "start_time": "2025-08-24T01:08:59.809172",
     "status": "completed"
    },
    "tags": []
   },
   "source": [
    "### Coordinates"
   ]
  },
  {
   "cell_type": "code",
   "execution_count": 9,
   "id": "2dd85f38",
   "metadata": {
    "execution": {
     "iopub.execute_input": "2025-08-24T01:08:59.822276Z",
     "iopub.status.busy": "2025-08-24T01:08:59.822040Z",
     "iopub.status.idle": "2025-08-24T01:09:00.003583Z",
     "shell.execute_reply": "2025-08-24T01:09:00.002953Z"
    },
    "papermill": {
     "duration": 0.18732,
     "end_time": "2025-08-24T01:09:00.004617",
     "exception": false,
     "start_time": "2025-08-24T01:08:59.817297",
     "status": "completed"
    },
    "tags": []
   },
   "outputs": [
    {
     "name": "stdout",
     "output_type": "stream",
     "text": [
      "Loaded geocode cache.\n",
      "Error geocoding 1800 EMMET ST N, 415: REQUEST_DENIED (You must enable Billing on the Google Cloud Project at https://console.cloud.google.com/project/_/billing/enable Learn more at https://developers.google.com/maps/gmp-get-started)\n",
      "Geocoded 1800 EMMET ST N, 415: None, None\n",
      "Error geocoding 1500 VIRGINIA AVE, Apt 1: REQUEST_DENIED (You must enable Billing on the Google Cloud Project at https://console.cloud.google.com/project/_/billing/enable Learn more at https://developers.google.com/maps/gmp-get-started)\n",
      "Geocoded 1500 VIRGINIA AVE, Apt 1: None, None\n",
      "Geocode cache updated and saved.\n"
     ]
    },
    {
     "data": {
      "text/html": [
       "<div>\n",
       "<style scoped>\n",
       "    .dataframe tbody tr th:only-of-type {\n",
       "        vertical-align: middle;\n",
       "    }\n",
       "\n",
       "    .dataframe tbody tr th {\n",
       "        vertical-align: top;\n",
       "    }\n",
       "\n",
       "    .dataframe thead th {\n",
       "        text-align: right;\n",
       "    }\n",
       "</style>\n",
       "<table border=\"1\" class=\"dataframe\">\n",
       "  <thead>\n",
       "    <tr style=\"text-align: right;\">\n",
       "      <th></th>\n",
       "      <th>RecordID</th>\n",
       "      <th>Offense</th>\n",
       "      <th>IncidentID</th>\n",
       "      <th>BlockNumber</th>\n",
       "      <th>StreetName</th>\n",
       "      <th>Agency</th>\n",
       "      <th>HourReported</th>\n",
       "      <th>ReportingOfficer</th>\n",
       "      <th>Date</th>\n",
       "      <th>DateString</th>\n",
       "      <th>DayOfWeek</th>\n",
       "      <th>Weekend</th>\n",
       "      <th>Season</th>\n",
       "      <th>HourAMPM</th>\n",
       "      <th>TimeOfDay</th>\n",
       "      <th>FullStreet</th>\n",
       "      <th>lat</th>\n",
       "      <th>lon</th>\n",
       "    </tr>\n",
       "  </thead>\n",
       "  <tbody>\n",
       "    <tr>\n",
       "      <th>0</th>\n",
       "      <td>1</td>\n",
       "      <td>Larceny - Shoplifitng</td>\n",
       "      <td>202500029809</td>\n",
       "      <td>1100</td>\n",
       "      <td>5TH ST SW</td>\n",
       "      <td>CPD</td>\n",
       "      <td>2301</td>\n",
       "      <td>Reed, Danielle</td>\n",
       "      <td>2025-08-21 23:01:19</td>\n",
       "      <td>2025-08-21 11:01:19 PM</td>\n",
       "      <td>Thursday</td>\n",
       "      <td>False</td>\n",
       "      <td>Summer</td>\n",
       "      <td>11:01 PM</td>\n",
       "      <td>Night</td>\n",
       "      <td>1100 5TH ST SW</td>\n",
       "      <td>38.017130</td>\n",
       "      <td>-78.497806</td>\n",
       "    </tr>\n",
       "    <tr>\n",
       "      <th>1</th>\n",
       "      <td>2</td>\n",
       "      <td>Assault Simple</td>\n",
       "      <td>202500029791</td>\n",
       "      <td></td>\n",
       "      <td>2ND ST NW / W MARKET ST</td>\n",
       "      <td>CPD</td>\n",
       "      <td>2053</td>\n",
       "      <td>Venereo, Arturo</td>\n",
       "      <td>2025-08-21 20:53:26</td>\n",
       "      <td>2025-08-21 08:53:26 PM</td>\n",
       "      <td>Thursday</td>\n",
       "      <td>False</td>\n",
       "      <td>Summer</td>\n",
       "      <td>08:53 PM</td>\n",
       "      <td>Evening</td>\n",
       "      <td>2ND ST NW / W MARKET ST</td>\n",
       "      <td>38.031763</td>\n",
       "      <td>-78.481902</td>\n",
       "    </tr>\n",
       "    <tr>\n",
       "      <th>2</th>\n",
       "      <td>3</td>\n",
       "      <td>Assault Simple</td>\n",
       "      <td>202500029785</td>\n",
       "      <td>900</td>\n",
       "      <td>MONTICELLO AVE</td>\n",
       "      <td>CPD</td>\n",
       "      <td>1947</td>\n",
       "      <td>Reed, Danielle</td>\n",
       "      <td>2025-08-21 19:47:39</td>\n",
       "      <td>2025-08-21 07:47:39 PM</td>\n",
       "      <td>Thursday</td>\n",
       "      <td>False</td>\n",
       "      <td>Summer</td>\n",
       "      <td>07:47 PM</td>\n",
       "      <td>Evening</td>\n",
       "      <td>900 MONTICELLO AVE</td>\n",
       "      <td>38.022670</td>\n",
       "      <td>-78.475939</td>\n",
       "    </tr>\n",
       "    <tr>\n",
       "      <th>3</th>\n",
       "      <td>4</td>\n",
       "      <td>Harassment</td>\n",
       "      <td>202500029781</td>\n",
       "      <td>400</td>\n",
       "      <td>FAIRWAY AVE</td>\n",
       "      <td>CPD</td>\n",
       "      <td>1916</td>\n",
       "      <td>Hudson, Jesse</td>\n",
       "      <td>2025-08-21 19:16:15</td>\n",
       "      <td>2025-08-21 07:16:15 PM</td>\n",
       "      <td>Thursday</td>\n",
       "      <td>False</td>\n",
       "      <td>Summer</td>\n",
       "      <td>07:16 PM</td>\n",
       "      <td>Evening</td>\n",
       "      <td>400 FAIRWAY AVE</td>\n",
       "      <td>38.027720</td>\n",
       "      <td>-78.461926</td>\n",
       "    </tr>\n",
       "    <tr>\n",
       "      <th>4</th>\n",
       "      <td>5</td>\n",
       "      <td>Larceny - Shoplifitng</td>\n",
       "      <td>202500029778</td>\n",
       "      <td>200</td>\n",
       "      <td>E MAIN ST</td>\n",
       "      <td>CPD</td>\n",
       "      <td>1834</td>\n",
       "      <td>Ritter, Kobe</td>\n",
       "      <td>2025-08-21 18:34:46</td>\n",
       "      <td>2025-08-21 06:34:46 PM</td>\n",
       "      <td>Thursday</td>\n",
       "      <td>False</td>\n",
       "      <td>Summer</td>\n",
       "      <td>06:34 PM</td>\n",
       "      <td>Evening</td>\n",
       "      <td>200 E MAIN ST</td>\n",
       "      <td>38.030572</td>\n",
       "      <td>-78.480764</td>\n",
       "    </tr>\n",
       "  </tbody>\n",
       "</table>\n",
       "</div>"
      ],
      "text/plain": [
       "   RecordID                Offense    IncidentID BlockNumber  \\\n",
       "0         1  Larceny - Shoplifitng  202500029809        1100   \n",
       "1         2         Assault Simple  202500029791               \n",
       "2         3         Assault Simple  202500029785         900   \n",
       "3         4             Harassment  202500029781         400   \n",
       "4         5  Larceny - Shoplifitng  202500029778         200   \n",
       "\n",
       "                StreetName Agency HourReported ReportingOfficer  \\\n",
       "0                5TH ST SW    CPD         2301   Reed, Danielle   \n",
       "1  2ND ST NW / W MARKET ST    CPD         2053  Venereo, Arturo   \n",
       "2           MONTICELLO AVE    CPD         1947   Reed, Danielle   \n",
       "3              FAIRWAY AVE    CPD         1916    Hudson, Jesse   \n",
       "4                E MAIN ST    CPD         1834     Ritter, Kobe   \n",
       "\n",
       "                 Date              DateString DayOfWeek  Weekend  Season  \\\n",
       "0 2025-08-21 23:01:19  2025-08-21 11:01:19 PM  Thursday    False  Summer   \n",
       "1 2025-08-21 20:53:26  2025-08-21 08:53:26 PM  Thursday    False  Summer   \n",
       "2 2025-08-21 19:47:39  2025-08-21 07:47:39 PM  Thursday    False  Summer   \n",
       "3 2025-08-21 19:16:15  2025-08-21 07:16:15 PM  Thursday    False  Summer   \n",
       "4 2025-08-21 18:34:46  2025-08-21 06:34:46 PM  Thursday    False  Summer   \n",
       "\n",
       "   HourAMPM TimeOfDay                FullStreet        lat        lon  \n",
       "0  11:01 PM     Night            1100 5TH ST SW  38.017130 -78.497806  \n",
       "1  08:53 PM   Evening   2ND ST NW / W MARKET ST  38.031763 -78.481902  \n",
       "2  07:47 PM   Evening        900 MONTICELLO AVE  38.022670 -78.475939  \n",
       "3  07:16 PM   Evening           400 FAIRWAY AVE  38.027720 -78.461926  \n",
       "4  06:34 PM   Evening             200 E MAIN ST  38.030572 -78.480764  "
      ]
     },
     "execution_count": 9,
     "metadata": {},
     "output_type": "execute_result"
    }
   ],
   "source": [
    "# Combine BlockNumber and StreetName into a full address string\n",
    "df['FullStreet'] = df['BlockNumber'].astype(str) + \" \" + df['StreetName']\n",
    "\n",
    "# --- Step 1: Setup the Google Maps Client and Cache ---\n",
    "gmaps = googlemaps.Client(key=GOOGLE_API_KEY)\n",
    "\n",
    "# Try to load cached geocoding results if available.\n",
    "try:\n",
    "    with open(\"geocode_cache_google.pkl\", \"rb\") as f:\n",
    "        street_coords = pickle.load(f)\n",
    "    print(\"Loaded geocode cache.\")\n",
    "except FileNotFoundError:\n",
    "    street_coords = {}\n",
    "    print(\"No cache found; starting fresh.\")\n",
    "\n",
    "def geocode_address(address):\n",
    "    try:\n",
    "        # Append city and state to help geocoding\n",
    "        result = gmaps.geocode(f\"{address}, Charlottesville, VA\")\n",
    "        if result:\n",
    "            lat = result[0]['geometry']['location']['lat']\n",
    "            lon = result[0]['geometry']['location']['lng']\n",
    "            return lat, lon\n",
    "    except Exception as e:\n",
    "        print(f\"Error geocoding {address}: {e}\")\n",
    "    return None, None\n",
    "\n",
    "# --- Step 2: Geocode Only New Addresses ---\n",
    "unique_addresses = df['FullStreet'].unique()\n",
    "for address in unique_addresses:\n",
    "    if address not in street_coords:\n",
    "        lat, lon = geocode_address(address)\n",
    "        street_coords[address] = (lat, lon)\n",
    "        print(f\"Geocoded {address}: {lat}, {lon}\")\n",
    "\n",
    "# Save the updated cache to disk.\n",
    "with open(\"geocode_cache_google.pkl\", \"wb\") as f:\n",
    "    pickle.dump(street_coords, f)\n",
    "    print(\"Geocode cache updated and saved.\")\n",
    "\n",
    "# --- Step 3: Map Coordinates Back to DataFrame ---\n",
    "df['lat'] = df['FullStreet'].map(lambda s: street_coords.get(s, (None, None))[0])\n",
    "df['lon'] = df['FullStreet'].map(lambda s: street_coords.get(s, (None, None))[1])\n",
    "\n",
    "df.head()"
   ]
  },
  {
   "cell_type": "markdown",
   "id": "33ce22d8",
   "metadata": {
    "papermill": {
     "duration": 0.004497,
     "end_time": "2025-08-24T01:09:00.013960",
     "exception": false,
     "start_time": "2025-08-24T01:09:00.009463",
     "status": "completed"
    },
    "tags": []
   },
   "source": [
    "### Neighborhood"
   ]
  },
  {
   "cell_type": "code",
   "execution_count": 10,
   "id": "fc77065f",
   "metadata": {
    "execution": {
     "iopub.execute_input": "2025-08-24T01:09:00.023902Z",
     "iopub.status.busy": "2025-08-24T01:09:00.023646Z",
     "iopub.status.idle": "2025-08-24T01:09:02.733697Z",
     "shell.execute_reply": "2025-08-24T01:09:02.733090Z"
    },
    "papermill": {
     "duration": 2.716395,
     "end_time": "2025-08-24T01:09:02.734769",
     "exception": false,
     "start_time": "2025-08-24T01:09:00.018374",
     "status": "completed"
    },
    "tags": []
   },
   "outputs": [
    {
     "name": "stdout",
     "output_type": "stream",
     "text": [
      "Loaded neighborhood cache.\n"
     ]
    },
    {
     "name": "stdout",
     "output_type": "stream",
     "text": [
      "Error getting neighborhood for nan, nan: HTTP Error: 400\n",
      "Error getting neighborhood for nan, nan: HTTP Error: 400\n",
      "Error getting neighborhood for nan, nan: HTTP Error: 400\n"
     ]
    },
    {
     "name": "stdout",
     "output_type": "stream",
     "text": [
      "Error getting neighborhood for nan, nan: HTTP Error: 400\n",
      "Error getting neighborhood for nan, nan: HTTP Error: 400\n",
      "Error getting neighborhood for nan, nan: HTTP Error: 400\n",
      "Error getting neighborhood for nan, nan: HTTP Error: 400\n",
      "Error getting neighborhood for nan, nan: HTTP Error: 400\n",
      "Error getting neighborhood for nan, nan: HTTP Error: 400\n",
      "Error getting neighborhood for nan, nan: HTTP Error: 400\n"
     ]
    },
    {
     "name": "stdout",
     "output_type": "stream",
     "text": [
      "Error getting neighborhood for nan, nan: HTTP Error: 400\n",
      "Error getting neighborhood for nan, nan: HTTP Error: 400\n",
      "Error getting neighborhood for nan, nan: HTTP Error: 400\n"
     ]
    },
    {
     "name": "stdout",
     "output_type": "stream",
     "text": [
      "Error getting neighborhood for nan, nan: HTTP Error: 400\n",
      "Error getting neighborhood for nan, nan: HTTP Error: 400\n",
      "Error getting neighborhood for nan, nan: HTTP Error: 400\n",
      "Error getting neighborhood for nan, nan: HTTP Error: 400\n",
      "Error getting neighborhood for nan, nan: HTTP Error: 400\n",
      "Error getting neighborhood for nan, nan: HTTP Error: 400\n",
      "Error getting neighborhood for nan, nan: HTTP Error: 400\n",
      "Error getting neighborhood for nan, nan: HTTP Error: 400\n",
      "Error getting neighborhood for nan, nan: HTTP Error: 400\n"
     ]
    },
    {
     "name": "stdout",
     "output_type": "stream",
     "text": [
      "Error getting neighborhood for nan, nan: HTTP Error: 400\n",
      "Error getting neighborhood for nan, nan: HTTP Error: 400\n",
      "Error getting neighborhood for nan, nan: HTTP Error: 400\n",
      "Error getting neighborhood for nan, nan: HTTP Error: 400\n"
     ]
    },
    {
     "name": "stdout",
     "output_type": "stream",
     "text": [
      "Error getting neighborhood for nan, nan: HTTP Error: 400\n",
      "Error getting neighborhood for nan, nan: HTTP Error: 400\n",
      "Error getting neighborhood for nan, nan: HTTP Error: 400\n",
      "Error getting neighborhood for nan, nan: HTTP Error: 400\n",
      "Error getting neighborhood for nan, nan: HTTP Error: 400\n",
      "Error getting neighborhood for nan, nan: HTTP Error: 400\n",
      "Error getting neighborhood for nan, nan: HTTP Error: 400\n",
      "Error getting neighborhood for nan, nan: HTTP Error: 400\n",
      "Error getting neighborhood for nan, nan: HTTP Error: 400\n"
     ]
    },
    {
     "name": "stdout",
     "output_type": "stream",
     "text": [
      "Error getting neighborhood for nan, nan: HTTP Error: 400\n",
      "Error getting neighborhood for nan, nan: HTTP Error: 400\n",
      "Error getting neighborhood for nan, nan: HTTP Error: 400\n",
      "Error getting neighborhood for nan, nan: HTTP Error: 400\n"
     ]
    },
    {
     "name": "stdout",
     "output_type": "stream",
     "text": [
      "Error getting neighborhood for nan, nan: HTTP Error: 400\n",
      "Error getting neighborhood for nan, nan: HTTP Error: 400\n",
      "Error getting neighborhood for nan, nan: HTTP Error: 400\n",
      "Error getting neighborhood for nan, nan: HTTP Error: 400\n",
      "Error getting neighborhood for nan, nan: HTTP Error: 400\n",
      "Error getting neighborhood for nan, nan: HTTP Error: 400\n",
      "Error getting neighborhood for nan, nan: HTTP Error: 400\n",
      "Error getting neighborhood for nan, nan: HTTP Error: 400\n"
     ]
    },
    {
     "name": "stdout",
     "output_type": "stream",
     "text": [
      "Error getting neighborhood for nan, nan: HTTP Error: 400\n",
      "Error getting neighborhood for nan, nan: HTTP Error: 400\n",
      "Error getting neighborhood for nan, nan: HTTP Error: 400\n",
      "Error getting neighborhood for nan, nan: HTTP Error: 400\n"
     ]
    },
    {
     "name": "stdout",
     "output_type": "stream",
     "text": [
      "Error getting neighborhood for nan, nan: HTTP Error: 400\n",
      "Error getting neighborhood for nan, nan: HTTP Error: 400\n",
      "Error getting neighborhood for nan, nan: HTTP Error: 400\n",
      "Error getting neighborhood for nan, nan: HTTP Error: 400\n",
      "Error getting neighborhood for nan, nan: HTTP Error: 400\n",
      "Error getting neighborhood for nan, nan: HTTP Error: 400\n",
      "Error getting neighborhood for nan, nan: HTTP Error: 400\n",
      "Error getting neighborhood for nan, nan: HTTP Error: 400\n"
     ]
    },
    {
     "name": "stdout",
     "output_type": "stream",
     "text": [
      "Error getting neighborhood for nan, nan: HTTP Error: 400\n",
      "Error getting neighborhood for nan, nan: HTTP Error: 400\n",
      "Error getting neighborhood for nan, nan: HTTP Error: 400\n",
      "Error getting neighborhood for nan, nan: HTTP Error: 400\n"
     ]
    },
    {
     "name": "stdout",
     "output_type": "stream",
     "text": [
      "Error getting neighborhood for nan, nan: HTTP Error: 400\n",
      "Error getting neighborhood for nan, nan: HTTP Error: 400\n",
      "Error getting neighborhood for nan, nan: HTTP Error: 400\n",
      "Error getting neighborhood for nan, nan: HTTP Error: 400\n",
      "Error getting neighborhood for nan, nan: HTTP Error: 400\n",
      "Error getting neighborhood for nan, nan: HTTP Error: 400\n",
      "Error getting neighborhood for nan, nan: HTTP Error: 400\n",
      "Error getting neighborhood for nan, nan: HTTP Error: 400\n",
      "Error getting neighborhood for nan, nan: HTTP Error: 400\n"
     ]
    },
    {
     "name": "stdout",
     "output_type": "stream",
     "text": [
      "Error getting neighborhood for nan, nan: HTTP Error: 400\n",
      "Error getting neighborhood for nan, nan: HTTP Error: 400\n",
      "Error getting neighborhood for nan, nan: HTTP Error: 400\n",
      "Error getting neighborhood for nan, nan: HTTP Error: 400\n"
     ]
    },
    {
     "name": "stdout",
     "output_type": "stream",
     "text": [
      "Error getting neighborhood for nan, nan: HTTP Error: 400\n",
      "Error getting neighborhood for nan, nan: HTTP Error: 400\n",
      "Error getting neighborhood for nan, nan: HTTP Error: 400\n",
      "Error getting neighborhood for nan, nan: HTTP Error: 400\n",
      "Error getting neighborhood for nan, nan: HTTP Error: 400\n",
      "Error getting neighborhood for nan, nan: HTTP Error: 400\n",
      "Error getting neighborhood for nan, nan: HTTP Error: 400\n",
      "Error getting neighborhood for nan, nan: HTTP Error: 400\n",
      "Error getting neighborhood for nan, nan: HTTP Error: 400\n"
     ]
    },
    {
     "name": "stdout",
     "output_type": "stream",
     "text": [
      "Error getting neighborhood for nan, nan: HTTP Error: 400\n",
      "Error getting neighborhood for nan, nan: HTTP Error: 400\n",
      "Error getting neighborhood for nan, nan: HTTP Error: 400\n",
      "Error getting neighborhood for nan, nan: HTTP Error: 400\n"
     ]
    },
    {
     "name": "stdout",
     "output_type": "stream",
     "text": [
      "Error getting neighborhood for nan, nan: HTTP Error: 400\n",
      "Error getting neighborhood for nan, nan: HTTP Error: 400\n",
      "Error getting neighborhood for nan, nan: HTTP Error: 400\n",
      "Error getting neighborhood for nan, nan: HTTP Error: 400\n",
      "Error getting neighborhood for nan, nan: HTTP Error: 400\n",
      "Error getting neighborhood for nan, nan: HTTP Error: 400\n",
      "Error getting neighborhood for nan, nan: HTTP Error: 400\n",
      "Error getting neighborhood for nan, nan: HTTP Error: 400\n",
      "Error getting neighborhood for nan, nan: HTTP Error: 400\n"
     ]
    },
    {
     "name": "stdout",
     "output_type": "stream",
     "text": [
      "Error getting neighborhood for nan, nan: HTTP Error: 400\n",
      "Error getting neighborhood for nan, nan: HTTP Error: 400\n",
      "Error getting neighborhood for nan, nan: HTTP Error: 400\n",
      "Error getting neighborhood for nan, nan: HTTP Error: 400\n"
     ]
    },
    {
     "name": "stdout",
     "output_type": "stream",
     "text": [
      "Error getting neighborhood for nan, nan: HTTP Error: 400\n",
      "Error getting neighborhood for nan, nan: HTTP Error: 400\n",
      "Error getting neighborhood for nan, nan: HTTP Error: 400\n",
      "Error getting neighborhood for nan, nan: HTTP Error: 400\n",
      "Error getting neighborhood for nan, nan: HTTP Error: 400\n",
      "Error getting neighborhood for nan, nan: HTTP Error: 400\n",
      "Error getting neighborhood for nan, nan: HTTP Error: 400\n",
      "Error getting neighborhood for nan, nan: HTTP Error: 400\n",
      "Error getting neighborhood for nan, nan: HTTP Error: 400\n"
     ]
    },
    {
     "name": "stdout",
     "output_type": "stream",
     "text": [
      "Error getting neighborhood for nan, nan: HTTP Error: 400\n",
      "Error getting neighborhood for nan, nan: HTTP Error: 400\n",
      "Error getting neighborhood for nan, nan: HTTP Error: 400\n",
      "Error getting neighborhood for nan, nan: HTTP Error: 400\n"
     ]
    },
    {
     "name": "stdout",
     "output_type": "stream",
     "text": [
      "Error getting neighborhood for nan, nan: HTTP Error: 400\n",
      "Error getting neighborhood for nan, nan: HTTP Error: 400\n",
      "Error getting neighborhood for nan, nan: HTTP Error: 400\n",
      "Error getting neighborhood for nan, nan: HTTP Error: 400\n",
      "Error getting neighborhood for nan, nan: HTTP Error: 400\n",
      "Error getting neighborhood for nan, nan: HTTP Error: 400\n"
     ]
    },
    {
     "name": "stdout",
     "output_type": "stream",
     "text": [
      "Error getting neighborhood for nan, nan: HTTP Error: 400\n",
      "Error getting neighborhood for nan, nan: HTTP Error: 400\n",
      "Error getting neighborhood for nan, nan: HTTP Error: 400\n"
     ]
    },
    {
     "name": "stdout",
     "output_type": "stream",
     "text": [
      "Error getting neighborhood for nan, nan: HTTP Error: 400\n",
      "Error getting neighborhood for nan, nan: HTTP Error: 400\n",
      "Error getting neighborhood for nan, nan: HTTP Error: 400\n",
      "Error getting neighborhood for nan, nan: HTTP Error: 400\n",
      "Error getting neighborhood for nan, nan: HTTP Error: 400\n",
      "Error getting neighborhood for nan, nan: HTTP Error: 400\n",
      "Error getting neighborhood for nan, nan: HTTP Error: 400\n",
      "Error getting neighborhood for nan, nan: HTTP Error: 400\n",
      "Error getting neighborhood for nan, nan: HTTP Error: 400\n"
     ]
    },
    {
     "name": "stdout",
     "output_type": "stream",
     "text": [
      "Error getting neighborhood for nan, nan: HTTP Error: 400\n",
      "Error getting neighborhood for nan, nan: HTTP Error: 400\n",
      "Error getting neighborhood for nan, nan: HTTP Error: 400\n"
     ]
    },
    {
     "name": "stdout",
     "output_type": "stream",
     "text": [
      "Error getting neighborhood for nan, nan: HTTP Error: 400\n",
      "Error getting neighborhood for nan, nan: HTTP Error: 400\n",
      "Error getting neighborhood for nan, nan: HTTP Error: 400\n"
     ]
    },
    {
     "data": {
      "text/html": [
       "<div>\n",
       "<style scoped>\n",
       "    .dataframe tbody tr th:only-of-type {\n",
       "        vertical-align: middle;\n",
       "    }\n",
       "\n",
       "    .dataframe tbody tr th {\n",
       "        vertical-align: top;\n",
       "    }\n",
       "\n",
       "    .dataframe thead th {\n",
       "        text-align: right;\n",
       "    }\n",
       "</style>\n",
       "<table border=\"1\" class=\"dataframe\">\n",
       "  <thead>\n",
       "    <tr style=\"text-align: right;\">\n",
       "      <th></th>\n",
       "      <th>RecordID</th>\n",
       "      <th>Offense</th>\n",
       "      <th>IncidentID</th>\n",
       "      <th>BlockNumber</th>\n",
       "      <th>StreetName</th>\n",
       "      <th>Agency</th>\n",
       "      <th>HourReported</th>\n",
       "      <th>ReportingOfficer</th>\n",
       "      <th>Date</th>\n",
       "      <th>DateString</th>\n",
       "      <th>DayOfWeek</th>\n",
       "      <th>Weekend</th>\n",
       "      <th>Season</th>\n",
       "      <th>HourAMPM</th>\n",
       "      <th>TimeOfDay</th>\n",
       "      <th>FullStreet</th>\n",
       "      <th>lat</th>\n",
       "      <th>lon</th>\n",
       "      <th>neighborhood</th>\n",
       "    </tr>\n",
       "  </thead>\n",
       "  <tbody>\n",
       "    <tr>\n",
       "      <th>0</th>\n",
       "      <td>1</td>\n",
       "      <td>Larceny - Shoplifitng</td>\n",
       "      <td>202500029809</td>\n",
       "      <td>1100</td>\n",
       "      <td>5TH ST SW</td>\n",
       "      <td>CPD</td>\n",
       "      <td>2301</td>\n",
       "      <td>Reed, Danielle</td>\n",
       "      <td>2025-08-21 23:01:19</td>\n",
       "      <td>2025-08-21 11:01:19 PM</td>\n",
       "      <td>Thursday</td>\n",
       "      <td>False</td>\n",
       "      <td>Summer</td>\n",
       "      <td>11:01 PM</td>\n",
       "      <td>Night</td>\n",
       "      <td>1100 5TH ST SW</td>\n",
       "      <td>38.017130</td>\n",
       "      <td>-78.497806</td>\n",
       "      <td>Johnson Village</td>\n",
       "    </tr>\n",
       "    <tr>\n",
       "      <th>1</th>\n",
       "      <td>2</td>\n",
       "      <td>Assault Simple</td>\n",
       "      <td>202500029791</td>\n",
       "      <td></td>\n",
       "      <td>2ND ST NW / W MARKET ST</td>\n",
       "      <td>CPD</td>\n",
       "      <td>2053</td>\n",
       "      <td>Venereo, Arturo</td>\n",
       "      <td>2025-08-21 20:53:26</td>\n",
       "      <td>2025-08-21 08:53:26 PM</td>\n",
       "      <td>Thursday</td>\n",
       "      <td>False</td>\n",
       "      <td>Summer</td>\n",
       "      <td>08:53 PM</td>\n",
       "      <td>Evening</td>\n",
       "      <td>2ND ST NW / W MARKET ST</td>\n",
       "      <td>38.031763</td>\n",
       "      <td>-78.481902</td>\n",
       "      <td>North Downtown</td>\n",
       "    </tr>\n",
       "    <tr>\n",
       "      <th>2</th>\n",
       "      <td>3</td>\n",
       "      <td>Assault Simple</td>\n",
       "      <td>202500029785</td>\n",
       "      <td>900</td>\n",
       "      <td>MONTICELLO AVE</td>\n",
       "      <td>CPD</td>\n",
       "      <td>1947</td>\n",
       "      <td>Reed, Danielle</td>\n",
       "      <td>2025-08-21 19:47:39</td>\n",
       "      <td>2025-08-21 07:47:39 PM</td>\n",
       "      <td>Thursday</td>\n",
       "      <td>False</td>\n",
       "      <td>Summer</td>\n",
       "      <td>07:47 PM</td>\n",
       "      <td>Evening</td>\n",
       "      <td>900 MONTICELLO AVE</td>\n",
       "      <td>38.022670</td>\n",
       "      <td>-78.475939</td>\n",
       "      <td>Belmont</td>\n",
       "    </tr>\n",
       "    <tr>\n",
       "      <th>3</th>\n",
       "      <td>4</td>\n",
       "      <td>Harassment</td>\n",
       "      <td>202500029781</td>\n",
       "      <td>400</td>\n",
       "      <td>FAIRWAY AVE</td>\n",
       "      <td>CPD</td>\n",
       "      <td>1916</td>\n",
       "      <td>Hudson, Jesse</td>\n",
       "      <td>2025-08-21 19:16:15</td>\n",
       "      <td>2025-08-21 07:16:15 PM</td>\n",
       "      <td>Thursday</td>\n",
       "      <td>False</td>\n",
       "      <td>Summer</td>\n",
       "      <td>07:16 PM</td>\n",
       "      <td>Evening</td>\n",
       "      <td>400 FAIRWAY AVE</td>\n",
       "      <td>38.027720</td>\n",
       "      <td>-78.461926</td>\n",
       "      <td>Woolen Mills</td>\n",
       "    </tr>\n",
       "    <tr>\n",
       "      <th>4</th>\n",
       "      <td>5</td>\n",
       "      <td>Larceny - Shoplifitng</td>\n",
       "      <td>202500029778</td>\n",
       "      <td>200</td>\n",
       "      <td>E MAIN ST</td>\n",
       "      <td>CPD</td>\n",
       "      <td>1834</td>\n",
       "      <td>Ritter, Kobe</td>\n",
       "      <td>2025-08-21 18:34:46</td>\n",
       "      <td>2025-08-21 06:34:46 PM</td>\n",
       "      <td>Thursday</td>\n",
       "      <td>False</td>\n",
       "      <td>Summer</td>\n",
       "      <td>06:34 PM</td>\n",
       "      <td>Evening</td>\n",
       "      <td>200 E MAIN ST</td>\n",
       "      <td>38.030572</td>\n",
       "      <td>-78.480764</td>\n",
       "      <td>Downtown Mall</td>\n",
       "    </tr>\n",
       "  </tbody>\n",
       "</table>\n",
       "</div>"
      ],
      "text/plain": [
       "   RecordID                Offense    IncidentID BlockNumber  \\\n",
       "0         1  Larceny - Shoplifitng  202500029809        1100   \n",
       "1         2         Assault Simple  202500029791               \n",
       "2         3         Assault Simple  202500029785         900   \n",
       "3         4             Harassment  202500029781         400   \n",
       "4         5  Larceny - Shoplifitng  202500029778         200   \n",
       "\n",
       "                StreetName Agency HourReported ReportingOfficer  \\\n",
       "0                5TH ST SW    CPD         2301   Reed, Danielle   \n",
       "1  2ND ST NW / W MARKET ST    CPD         2053  Venereo, Arturo   \n",
       "2           MONTICELLO AVE    CPD         1947   Reed, Danielle   \n",
       "3              FAIRWAY AVE    CPD         1916    Hudson, Jesse   \n",
       "4                E MAIN ST    CPD         1834     Ritter, Kobe   \n",
       "\n",
       "                 Date              DateString DayOfWeek  Weekend  Season  \\\n",
       "0 2025-08-21 23:01:19  2025-08-21 11:01:19 PM  Thursday    False  Summer   \n",
       "1 2025-08-21 20:53:26  2025-08-21 08:53:26 PM  Thursday    False  Summer   \n",
       "2 2025-08-21 19:47:39  2025-08-21 07:47:39 PM  Thursday    False  Summer   \n",
       "3 2025-08-21 19:16:15  2025-08-21 07:16:15 PM  Thursday    False  Summer   \n",
       "4 2025-08-21 18:34:46  2025-08-21 06:34:46 PM  Thursday    False  Summer   \n",
       "\n",
       "   HourAMPM TimeOfDay                FullStreet        lat        lon  \\\n",
       "0  11:01 PM     Night            1100 5TH ST SW  38.017130 -78.497806   \n",
       "1  08:53 PM   Evening   2ND ST NW / W MARKET ST  38.031763 -78.481902   \n",
       "2  07:47 PM   Evening        900 MONTICELLO AVE  38.022670 -78.475939   \n",
       "3  07:16 PM   Evening           400 FAIRWAY AVE  38.027720 -78.461926   \n",
       "4  06:34 PM   Evening             200 E MAIN ST  38.030572 -78.480764   \n",
       "\n",
       "      neighborhood  \n",
       "0  Johnson Village  \n",
       "1   North Downtown  \n",
       "2          Belmont  \n",
       "3     Woolen Mills  \n",
       "4    Downtown Mall  "
      ]
     },
     "execution_count": 10,
     "metadata": {},
     "output_type": "execute_result"
    }
   ],
   "source": [
    "# Initialize the Google Maps client.\n",
    "gmaps = googlemaps.Client(key=GOOGLE_API_KEY)\n",
    "\n",
    "# Try to load a persistent neighborhood cache if available.\n",
    "try:\n",
    "    with open(\"neighborhood_cache.pkl\", \"rb\") as f:\n",
    "        neighborhood_cache = pickle.load(f)\n",
    "    print(\"Loaded neighborhood cache.\")\n",
    "except FileNotFoundError:\n",
    "    neighborhood_cache = {}\n",
    "    print(\"No neighborhood cache found; starting fresh.\")\n",
    "\n",
    "def get_neighborhood(lat, lon):\n",
    "    \"\"\"\n",
    "    Reverse geocodes a latitude and longitude to retrieve the neighborhood.\n",
    "    Caches results to speed up subsequent lookups.\n",
    "    \"\"\"\n",
    "    key = (lat, lon)\n",
    "    if key in neighborhood_cache:\n",
    "        return neighborhood_cache[key]\n",
    "    \n",
    "    try:\n",
    "        result = gmaps.reverse_geocode((lat, lon))\n",
    "        if result:\n",
    "            # Look for the 'neighborhood' component in the first result.\n",
    "            for component in result[0]['address_components']:\n",
    "                if 'neighborhood' in component['types']:\n",
    "                    neighborhood = component['long_name']\n",
    "                    neighborhood_cache[key] = neighborhood\n",
    "                    return neighborhood\n",
    "            # If no neighborhood is found, return \"N/A\"\n",
    "            neighborhood_cache[key] = \"N/A\"\n",
    "            return \"N/A\"\n",
    "    except Exception as e:\n",
    "        print(f\"Error getting neighborhood for {lat}, {lon}: {e}\")\n",
    "        return \"N/A\"\n",
    "    \n",
    "    # Pause to respect usage limits.\n",
    "    time.sleep(1)\n",
    "\n",
    "# Example usage: Apply to your DataFrame 'df' that already has 'lat' and 'lon' columns.\n",
    "df['neighborhood'] = df.apply(lambda row: get_neighborhood(row['lat'], row['lon']), axis=1)\n",
    "\n",
    "# Save the updated neighborhood cache.\n",
    "with open(\"neighborhood_cache.pkl\", \"wb\") as f:\n",
    "    pickle.dump(neighborhood_cache, f)\n",
    "\n",
    "df.head()\n"
   ]
  },
  {
   "cell_type": "markdown",
   "id": "df057c63",
   "metadata": {
    "papermill": {
     "duration": 0.005722,
     "end_time": "2025-08-24T01:09:02.746680",
     "exception": false,
     "start_time": "2025-08-24T01:09:02.740958",
     "status": "completed"
    },
    "tags": []
   },
   "source": [
    "### Zip"
   ]
  },
  {
   "cell_type": "code",
   "execution_count": 11,
   "id": "6dc95b09",
   "metadata": {
    "execution": {
     "iopub.execute_input": "2025-08-24T01:09:02.759021Z",
     "iopub.status.busy": "2025-08-24T01:09:02.758767Z",
     "iopub.status.idle": "2025-08-24T01:11:22.555284Z",
     "shell.execute_reply": "2025-08-24T01:11:22.554610Z"
    },
    "papermill": {
     "duration": 139.804017,
     "end_time": "2025-08-24T01:11:22.556388",
     "exception": false,
     "start_time": "2025-08-24T01:09:02.752371",
     "status": "completed"
    },
    "tags": []
   },
   "outputs": [
    {
     "name": "stdout",
     "output_type": "stream",
     "text": [
      "Loaded zip cache.\n",
      "Error getting ZIP for nan, nan: Must be a coordinate pair or Point\n"
     ]
    },
    {
     "name": "stdout",
     "output_type": "stream",
     "text": [
      "Error getting ZIP for nan, nan: Must be a coordinate pair or Point\n"
     ]
    },
    {
     "name": "stdout",
     "output_type": "stream",
     "text": [
      "Error getting ZIP for nan, nan: Must be a coordinate pair or Point\n"
     ]
    },
    {
     "name": "stdout",
     "output_type": "stream",
     "text": [
      "Error getting ZIP for nan, nan: Must be a coordinate pair or Point\n"
     ]
    },
    {
     "name": "stdout",
     "output_type": "stream",
     "text": [
      "Error getting ZIP for nan, nan: Must be a coordinate pair or Point\n"
     ]
    },
    {
     "name": "stdout",
     "output_type": "stream",
     "text": [
      "Error getting ZIP for nan, nan: Must be a coordinate pair or Point\n"
     ]
    },
    {
     "name": "stdout",
     "output_type": "stream",
     "text": [
      "Error getting ZIP for nan, nan: Must be a coordinate pair or Point\n"
     ]
    },
    {
     "name": "stdout",
     "output_type": "stream",
     "text": [
      "Error getting ZIP for nan, nan: Must be a coordinate pair or Point\n"
     ]
    },
    {
     "name": "stdout",
     "output_type": "stream",
     "text": [
      "Error getting ZIP for nan, nan: Must be a coordinate pair or Point\n"
     ]
    },
    {
     "name": "stdout",
     "output_type": "stream",
     "text": [
      "Error getting ZIP for nan, nan: Must be a coordinate pair or Point\n"
     ]
    },
    {
     "name": "stdout",
     "output_type": "stream",
     "text": [
      "Error getting ZIP for nan, nan: Must be a coordinate pair or Point\n"
     ]
    },
    {
     "name": "stdout",
     "output_type": "stream",
     "text": [
      "Error getting ZIP for nan, nan: Must be a coordinate pair or Point\n"
     ]
    },
    {
     "name": "stdout",
     "output_type": "stream",
     "text": [
      "Error getting ZIP for nan, nan: Must be a coordinate pair or Point\n"
     ]
    },
    {
     "name": "stdout",
     "output_type": "stream",
     "text": [
      "Error getting ZIP for nan, nan: Must be a coordinate pair or Point\n"
     ]
    },
    {
     "name": "stdout",
     "output_type": "stream",
     "text": [
      "Error getting ZIP for nan, nan: Must be a coordinate pair or Point\n"
     ]
    },
    {
     "name": "stdout",
     "output_type": "stream",
     "text": [
      "Error getting ZIP for nan, nan: Must be a coordinate pair or Point\n"
     ]
    },
    {
     "name": "stdout",
     "output_type": "stream",
     "text": [
      "Error getting ZIP for nan, nan: Must be a coordinate pair or Point\n"
     ]
    },
    {
     "name": "stdout",
     "output_type": "stream",
     "text": [
      "Error getting ZIP for nan, nan: Must be a coordinate pair or Point\n"
     ]
    },
    {
     "name": "stdout",
     "output_type": "stream",
     "text": [
      "Error getting ZIP for nan, nan: Must be a coordinate pair or Point\n"
     ]
    },
    {
     "name": "stdout",
     "output_type": "stream",
     "text": [
      "Error getting ZIP for nan, nan: Must be a coordinate pair or Point\n"
     ]
    },
    {
     "name": "stdout",
     "output_type": "stream",
     "text": [
      "Error getting ZIP for nan, nan: Must be a coordinate pair or Point\n"
     ]
    },
    {
     "name": "stdout",
     "output_type": "stream",
     "text": [
      "Error getting ZIP for nan, nan: Must be a coordinate pair or Point\n"
     ]
    },
    {
     "name": "stdout",
     "output_type": "stream",
     "text": [
      "Error getting ZIP for nan, nan: Must be a coordinate pair or Point\n"
     ]
    },
    {
     "name": "stdout",
     "output_type": "stream",
     "text": [
      "Error getting ZIP for nan, nan: Must be a coordinate pair or Point\n"
     ]
    },
    {
     "name": "stdout",
     "output_type": "stream",
     "text": [
      "Error getting ZIP for nan, nan: Must be a coordinate pair or Point\n"
     ]
    },
    {
     "name": "stdout",
     "output_type": "stream",
     "text": [
      "Error getting ZIP for nan, nan: Must be a coordinate pair or Point\n"
     ]
    },
    {
     "name": "stdout",
     "output_type": "stream",
     "text": [
      "Error getting ZIP for nan, nan: Must be a coordinate pair or Point\n"
     ]
    },
    {
     "name": "stdout",
     "output_type": "stream",
     "text": [
      "Error getting ZIP for nan, nan: Must be a coordinate pair or Point\n"
     ]
    },
    {
     "name": "stdout",
     "output_type": "stream",
     "text": [
      "Error getting ZIP for nan, nan: Must be a coordinate pair or Point\n"
     ]
    },
    {
     "name": "stdout",
     "output_type": "stream",
     "text": [
      "Error getting ZIP for nan, nan: Must be a coordinate pair or Point\n"
     ]
    },
    {
     "name": "stdout",
     "output_type": "stream",
     "text": [
      "Error getting ZIP for nan, nan: Must be a coordinate pair or Point\n"
     ]
    },
    {
     "name": "stdout",
     "output_type": "stream",
     "text": [
      "Error getting ZIP for nan, nan: Must be a coordinate pair or Point\n"
     ]
    },
    {
     "name": "stdout",
     "output_type": "stream",
     "text": [
      "Error getting ZIP for nan, nan: Must be a coordinate pair or Point\n"
     ]
    },
    {
     "name": "stdout",
     "output_type": "stream",
     "text": [
      "Error getting ZIP for nan, nan: Must be a coordinate pair or Point\n"
     ]
    },
    {
     "name": "stdout",
     "output_type": "stream",
     "text": [
      "Error getting ZIP for nan, nan: Must be a coordinate pair or Point\n"
     ]
    },
    {
     "name": "stdout",
     "output_type": "stream",
     "text": [
      "Error getting ZIP for nan, nan: Must be a coordinate pair or Point\n"
     ]
    },
    {
     "name": "stdout",
     "output_type": "stream",
     "text": [
      "Error getting ZIP for nan, nan: Must be a coordinate pair or Point\n"
     ]
    },
    {
     "name": "stdout",
     "output_type": "stream",
     "text": [
      "Error getting ZIP for nan, nan: Must be a coordinate pair or Point\n"
     ]
    },
    {
     "name": "stdout",
     "output_type": "stream",
     "text": [
      "Error getting ZIP for nan, nan: Must be a coordinate pair or Point\n"
     ]
    },
    {
     "name": "stdout",
     "output_type": "stream",
     "text": [
      "Error getting ZIP for nan, nan: Must be a coordinate pair or Point\n"
     ]
    },
    {
     "name": "stdout",
     "output_type": "stream",
     "text": [
      "Error getting ZIP for nan, nan: Must be a coordinate pair or Point\n"
     ]
    },
    {
     "name": "stdout",
     "output_type": "stream",
     "text": [
      "Error getting ZIP for nan, nan: Must be a coordinate pair or Point\n"
     ]
    },
    {
     "name": "stdout",
     "output_type": "stream",
     "text": [
      "Error getting ZIP for nan, nan: Must be a coordinate pair or Point\n"
     ]
    },
    {
     "name": "stdout",
     "output_type": "stream",
     "text": [
      "Error getting ZIP for nan, nan: Must be a coordinate pair or Point\n"
     ]
    },
    {
     "name": "stdout",
     "output_type": "stream",
     "text": [
      "Error getting ZIP for nan, nan: Must be a coordinate pair or Point\n"
     ]
    },
    {
     "name": "stdout",
     "output_type": "stream",
     "text": [
      "Error getting ZIP for nan, nan: Must be a coordinate pair or Point\n"
     ]
    },
    {
     "name": "stdout",
     "output_type": "stream",
     "text": [
      "Error getting ZIP for nan, nan: Must be a coordinate pair or Point\n"
     ]
    },
    {
     "name": "stdout",
     "output_type": "stream",
     "text": [
      "Error getting ZIP for nan, nan: Must be a coordinate pair or Point\n"
     ]
    },
    {
     "name": "stdout",
     "output_type": "stream",
     "text": [
      "Error getting ZIP for nan, nan: Must be a coordinate pair or Point\n"
     ]
    },
    {
     "name": "stdout",
     "output_type": "stream",
     "text": [
      "Error getting ZIP for nan, nan: Must be a coordinate pair or Point\n"
     ]
    },
    {
     "name": "stdout",
     "output_type": "stream",
     "text": [
      "Error getting ZIP for nan, nan: Must be a coordinate pair or Point\n"
     ]
    },
    {
     "name": "stdout",
     "output_type": "stream",
     "text": [
      "Error getting ZIP for nan, nan: Must be a coordinate pair or Point\n"
     ]
    },
    {
     "name": "stdout",
     "output_type": "stream",
     "text": [
      "Error getting ZIP for nan, nan: Must be a coordinate pair or Point\n"
     ]
    },
    {
     "name": "stdout",
     "output_type": "stream",
     "text": [
      "Error getting ZIP for nan, nan: Must be a coordinate pair or Point\n"
     ]
    },
    {
     "name": "stdout",
     "output_type": "stream",
     "text": [
      "Error getting ZIP for nan, nan: Must be a coordinate pair or Point\n"
     ]
    },
    {
     "name": "stdout",
     "output_type": "stream",
     "text": [
      "Error getting ZIP for nan, nan: Must be a coordinate pair or Point\n"
     ]
    },
    {
     "name": "stdout",
     "output_type": "stream",
     "text": [
      "Error getting ZIP for nan, nan: Must be a coordinate pair or Point\n"
     ]
    },
    {
     "name": "stdout",
     "output_type": "stream",
     "text": [
      "Error getting ZIP for nan, nan: Must be a coordinate pair or Point\n"
     ]
    },
    {
     "name": "stdout",
     "output_type": "stream",
     "text": [
      "Error getting ZIP for nan, nan: Must be a coordinate pair or Point\n"
     ]
    },
    {
     "name": "stdout",
     "output_type": "stream",
     "text": [
      "Error getting ZIP for nan, nan: Must be a coordinate pair or Point\n"
     ]
    },
    {
     "name": "stdout",
     "output_type": "stream",
     "text": [
      "Error getting ZIP for nan, nan: Must be a coordinate pair or Point\n"
     ]
    },
    {
     "name": "stdout",
     "output_type": "stream",
     "text": [
      "Error getting ZIP for nan, nan: Must be a coordinate pair or Point\n"
     ]
    },
    {
     "name": "stdout",
     "output_type": "stream",
     "text": [
      "Error getting ZIP for nan, nan: Must be a coordinate pair or Point\n"
     ]
    },
    {
     "name": "stdout",
     "output_type": "stream",
     "text": [
      "Error getting ZIP for nan, nan: Must be a coordinate pair or Point\n"
     ]
    },
    {
     "name": "stdout",
     "output_type": "stream",
     "text": [
      "Error getting ZIP for nan, nan: Must be a coordinate pair or Point\n"
     ]
    },
    {
     "name": "stdout",
     "output_type": "stream",
     "text": [
      "Error getting ZIP for nan, nan: Must be a coordinate pair or Point\n"
     ]
    },
    {
     "name": "stdout",
     "output_type": "stream",
     "text": [
      "Error getting ZIP for nan, nan: Must be a coordinate pair or Point\n"
     ]
    },
    {
     "name": "stdout",
     "output_type": "stream",
     "text": [
      "Error getting ZIP for nan, nan: Must be a coordinate pair or Point\n"
     ]
    },
    {
     "name": "stdout",
     "output_type": "stream",
     "text": [
      "Error getting ZIP for nan, nan: Must be a coordinate pair or Point\n"
     ]
    },
    {
     "name": "stdout",
     "output_type": "stream",
     "text": [
      "Error getting ZIP for nan, nan: Must be a coordinate pair or Point\n"
     ]
    },
    {
     "name": "stdout",
     "output_type": "stream",
     "text": [
      "Error getting ZIP for nan, nan: Must be a coordinate pair or Point\n"
     ]
    },
    {
     "name": "stdout",
     "output_type": "stream",
     "text": [
      "Error getting ZIP for nan, nan: Must be a coordinate pair or Point\n"
     ]
    },
    {
     "name": "stdout",
     "output_type": "stream",
     "text": [
      "Error getting ZIP for nan, nan: Must be a coordinate pair or Point\n"
     ]
    },
    {
     "name": "stdout",
     "output_type": "stream",
     "text": [
      "Error getting ZIP for nan, nan: Must be a coordinate pair or Point\n"
     ]
    },
    {
     "name": "stdout",
     "output_type": "stream",
     "text": [
      "Error getting ZIP for nan, nan: Must be a coordinate pair or Point\n"
     ]
    },
    {
     "name": "stdout",
     "output_type": "stream",
     "text": [
      "Error getting ZIP for nan, nan: Must be a coordinate pair or Point\n"
     ]
    },
    {
     "name": "stdout",
     "output_type": "stream",
     "text": [
      "Error getting ZIP for nan, nan: Must be a coordinate pair or Point\n"
     ]
    },
    {
     "name": "stdout",
     "output_type": "stream",
     "text": [
      "Error getting ZIP for nan, nan: Must be a coordinate pair or Point\n"
     ]
    },
    {
     "name": "stdout",
     "output_type": "stream",
     "text": [
      "Error getting ZIP for nan, nan: Must be a coordinate pair or Point\n"
     ]
    },
    {
     "name": "stdout",
     "output_type": "stream",
     "text": [
      "Error getting ZIP for nan, nan: Must be a coordinate pair or Point\n"
     ]
    },
    {
     "name": "stdout",
     "output_type": "stream",
     "text": [
      "Error getting ZIP for nan, nan: Must be a coordinate pair or Point\n"
     ]
    },
    {
     "name": "stdout",
     "output_type": "stream",
     "text": [
      "Error getting ZIP for nan, nan: Must be a coordinate pair or Point\n"
     ]
    },
    {
     "name": "stdout",
     "output_type": "stream",
     "text": [
      "Error getting ZIP for nan, nan: Must be a coordinate pair or Point\n"
     ]
    },
    {
     "name": "stdout",
     "output_type": "stream",
     "text": [
      "Error getting ZIP for nan, nan: Must be a coordinate pair or Point\n"
     ]
    },
    {
     "name": "stdout",
     "output_type": "stream",
     "text": [
      "Error getting ZIP for nan, nan: Must be a coordinate pair or Point\n"
     ]
    },
    {
     "name": "stdout",
     "output_type": "stream",
     "text": [
      "Error getting ZIP for nan, nan: Must be a coordinate pair or Point\n"
     ]
    },
    {
     "name": "stdout",
     "output_type": "stream",
     "text": [
      "Error getting ZIP for nan, nan: Must be a coordinate pair or Point\n"
     ]
    },
    {
     "name": "stdout",
     "output_type": "stream",
     "text": [
      "Error getting ZIP for nan, nan: Must be a coordinate pair or Point\n"
     ]
    },
    {
     "name": "stdout",
     "output_type": "stream",
     "text": [
      "Error getting ZIP for nan, nan: Must be a coordinate pair or Point\n"
     ]
    },
    {
     "name": "stdout",
     "output_type": "stream",
     "text": [
      "Error getting ZIP for nan, nan: Must be a coordinate pair or Point\n"
     ]
    },
    {
     "name": "stdout",
     "output_type": "stream",
     "text": [
      "Error getting ZIP for nan, nan: Must be a coordinate pair or Point\n"
     ]
    },
    {
     "name": "stdout",
     "output_type": "stream",
     "text": [
      "Error getting ZIP for nan, nan: Must be a coordinate pair or Point\n"
     ]
    },
    {
     "name": "stdout",
     "output_type": "stream",
     "text": [
      "Error getting ZIP for nan, nan: Must be a coordinate pair or Point\n"
     ]
    },
    {
     "name": "stdout",
     "output_type": "stream",
     "text": [
      "Error getting ZIP for nan, nan: Must be a coordinate pair or Point\n"
     ]
    },
    {
     "name": "stdout",
     "output_type": "stream",
     "text": [
      "Error getting ZIP for nan, nan: Must be a coordinate pair or Point\n"
     ]
    },
    {
     "name": "stdout",
     "output_type": "stream",
     "text": [
      "Error getting ZIP for nan, nan: Must be a coordinate pair or Point\n"
     ]
    },
    {
     "name": "stdout",
     "output_type": "stream",
     "text": [
      "Error getting ZIP for nan, nan: Must be a coordinate pair or Point\n"
     ]
    },
    {
     "name": "stdout",
     "output_type": "stream",
     "text": [
      "Error getting ZIP for nan, nan: Must be a coordinate pair or Point\n"
     ]
    },
    {
     "name": "stdout",
     "output_type": "stream",
     "text": [
      "Error getting ZIP for nan, nan: Must be a coordinate pair or Point\n"
     ]
    },
    {
     "name": "stdout",
     "output_type": "stream",
     "text": [
      "Error getting ZIP for nan, nan: Must be a coordinate pair or Point\n"
     ]
    },
    {
     "name": "stdout",
     "output_type": "stream",
     "text": [
      "Error getting ZIP for nan, nan: Must be a coordinate pair or Point\n"
     ]
    },
    {
     "name": "stdout",
     "output_type": "stream",
     "text": [
      "Error getting ZIP for nan, nan: Must be a coordinate pair or Point\n"
     ]
    },
    {
     "name": "stdout",
     "output_type": "stream",
     "text": [
      "Error getting ZIP for nan, nan: Must be a coordinate pair or Point\n"
     ]
    },
    {
     "name": "stdout",
     "output_type": "stream",
     "text": [
      "Error getting ZIP for nan, nan: Must be a coordinate pair or Point\n"
     ]
    },
    {
     "name": "stdout",
     "output_type": "stream",
     "text": [
      "Error getting ZIP for nan, nan: Must be a coordinate pair or Point\n"
     ]
    },
    {
     "name": "stdout",
     "output_type": "stream",
     "text": [
      "Error getting ZIP for nan, nan: Must be a coordinate pair or Point\n"
     ]
    },
    {
     "name": "stdout",
     "output_type": "stream",
     "text": [
      "Error getting ZIP for nan, nan: Must be a coordinate pair or Point\n"
     ]
    },
    {
     "name": "stdout",
     "output_type": "stream",
     "text": [
      "Error getting ZIP for nan, nan: Must be a coordinate pair or Point\n"
     ]
    },
    {
     "name": "stdout",
     "output_type": "stream",
     "text": [
      "Error getting ZIP for nan, nan: Must be a coordinate pair or Point\n"
     ]
    },
    {
     "name": "stdout",
     "output_type": "stream",
     "text": [
      "Error getting ZIP for nan, nan: Must be a coordinate pair or Point\n"
     ]
    },
    {
     "name": "stdout",
     "output_type": "stream",
     "text": [
      "Error getting ZIP for nan, nan: Must be a coordinate pair or Point\n"
     ]
    },
    {
     "name": "stdout",
     "output_type": "stream",
     "text": [
      "Error getting ZIP for nan, nan: Must be a coordinate pair or Point\n"
     ]
    },
    {
     "name": "stdout",
     "output_type": "stream",
     "text": [
      "Error getting ZIP for nan, nan: Must be a coordinate pair or Point\n"
     ]
    },
    {
     "name": "stdout",
     "output_type": "stream",
     "text": [
      "Error getting ZIP for nan, nan: Must be a coordinate pair or Point\n"
     ]
    },
    {
     "name": "stdout",
     "output_type": "stream",
     "text": [
      "Error getting ZIP for nan, nan: Must be a coordinate pair or Point\n"
     ]
    },
    {
     "name": "stdout",
     "output_type": "stream",
     "text": [
      "Error getting ZIP for nan, nan: Must be a coordinate pair or Point\n"
     ]
    },
    {
     "name": "stdout",
     "output_type": "stream",
     "text": [
      "Error getting ZIP for nan, nan: Must be a coordinate pair or Point\n"
     ]
    },
    {
     "name": "stdout",
     "output_type": "stream",
     "text": [
      "Error getting ZIP for nan, nan: Must be a coordinate pair or Point\n"
     ]
    },
    {
     "name": "stdout",
     "output_type": "stream",
     "text": [
      "Error getting ZIP for nan, nan: Must be a coordinate pair or Point\n"
     ]
    },
    {
     "name": "stdout",
     "output_type": "stream",
     "text": [
      "Error getting ZIP for nan, nan: Must be a coordinate pair or Point\n"
     ]
    },
    {
     "name": "stdout",
     "output_type": "stream",
     "text": [
      "Error getting ZIP for nan, nan: Must be a coordinate pair or Point\n"
     ]
    },
    {
     "name": "stdout",
     "output_type": "stream",
     "text": [
      "Error getting ZIP for nan, nan: Must be a coordinate pair or Point\n"
     ]
    },
    {
     "name": "stdout",
     "output_type": "stream",
     "text": [
      "Error getting ZIP for nan, nan: Must be a coordinate pair or Point\n"
     ]
    },
    {
     "name": "stdout",
     "output_type": "stream",
     "text": [
      "Error getting ZIP for nan, nan: Must be a coordinate pair or Point\n"
     ]
    },
    {
     "name": "stdout",
     "output_type": "stream",
     "text": [
      "Error getting ZIP for nan, nan: Must be a coordinate pair or Point\n"
     ]
    },
    {
     "name": "stdout",
     "output_type": "stream",
     "text": [
      "Error getting ZIP for nan, nan: Must be a coordinate pair or Point\n"
     ]
    },
    {
     "name": "stdout",
     "output_type": "stream",
     "text": [
      "Error getting ZIP for nan, nan: Must be a coordinate pair or Point\n"
     ]
    },
    {
     "name": "stdout",
     "output_type": "stream",
     "text": [
      "Error getting ZIP for nan, nan: Must be a coordinate pair or Point\n"
     ]
    },
    {
     "name": "stdout",
     "output_type": "stream",
     "text": [
      "Error getting ZIP for nan, nan: Must be a coordinate pair or Point\n"
     ]
    },
    {
     "name": "stdout",
     "output_type": "stream",
     "text": [
      "Error getting ZIP for nan, nan: Must be a coordinate pair or Point\n"
     ]
    },
    {
     "name": "stdout",
     "output_type": "stream",
     "text": [
      "Error getting ZIP for nan, nan: Must be a coordinate pair or Point\n"
     ]
    },
    {
     "name": "stdout",
     "output_type": "stream",
     "text": [
      "Error getting ZIP for nan, nan: Must be a coordinate pair or Point\n"
     ]
    },
    {
     "name": "stdout",
     "output_type": "stream",
     "text": [
      "Error getting ZIP for nan, nan: Must be a coordinate pair or Point\n"
     ]
    },
    {
     "name": "stdout",
     "output_type": "stream",
     "text": [
      "Error getting ZIP for nan, nan: Must be a coordinate pair or Point\n"
     ]
    },
    {
     "name": "stdout",
     "output_type": "stream",
     "text": [
      "Error getting ZIP for nan, nan: Must be a coordinate pair or Point\n"
     ]
    },
    {
     "name": "stdout",
     "output_type": "stream",
     "text": [
      "Error getting ZIP for nan, nan: Must be a coordinate pair or Point\n"
     ]
    },
    {
     "name": "stdout",
     "output_type": "stream",
     "text": [
      "Error getting ZIP for nan, nan: Must be a coordinate pair or Point\n"
     ]
    },
    {
     "name": "stdout",
     "output_type": "stream",
     "text": [
      "Error getting ZIP for nan, nan: Must be a coordinate pair or Point\n"
     ]
    },
    {
     "name": "stdout",
     "output_type": "stream",
     "text": [
      "Error getting ZIP for nan, nan: Must be a coordinate pair or Point\n"
     ]
    },
    {
     "data": {
      "text/html": [
       "<div>\n",
       "<style scoped>\n",
       "    .dataframe tbody tr th:only-of-type {\n",
       "        vertical-align: middle;\n",
       "    }\n",
       "\n",
       "    .dataframe tbody tr th {\n",
       "        vertical-align: top;\n",
       "    }\n",
       "\n",
       "    .dataframe thead th {\n",
       "        text-align: right;\n",
       "    }\n",
       "</style>\n",
       "<table border=\"1\" class=\"dataframe\">\n",
       "  <thead>\n",
       "    <tr style=\"text-align: right;\">\n",
       "      <th></th>\n",
       "      <th>RecordID</th>\n",
       "      <th>Offense</th>\n",
       "      <th>IncidentID</th>\n",
       "      <th>BlockNumber</th>\n",
       "      <th>StreetName</th>\n",
       "      <th>Agency</th>\n",
       "      <th>HourReported</th>\n",
       "      <th>ReportingOfficer</th>\n",
       "      <th>Date</th>\n",
       "      <th>DateString</th>\n",
       "      <th>DayOfWeek</th>\n",
       "      <th>Weekend</th>\n",
       "      <th>Season</th>\n",
       "      <th>HourAMPM</th>\n",
       "      <th>TimeOfDay</th>\n",
       "      <th>FullStreet</th>\n",
       "      <th>lat</th>\n",
       "      <th>lon</th>\n",
       "      <th>neighborhood</th>\n",
       "      <th>zip</th>\n",
       "    </tr>\n",
       "  </thead>\n",
       "  <tbody>\n",
       "    <tr>\n",
       "      <th>0</th>\n",
       "      <td>1</td>\n",
       "      <td>Larceny - Shoplifitng</td>\n",
       "      <td>202500029809</td>\n",
       "      <td>1100</td>\n",
       "      <td>5TH ST SW</td>\n",
       "      <td>CPD</td>\n",
       "      <td>2301</td>\n",
       "      <td>Reed, Danielle</td>\n",
       "      <td>2025-08-21 23:01:19</td>\n",
       "      <td>2025-08-21 11:01:19 PM</td>\n",
       "      <td>Thursday</td>\n",
       "      <td>False</td>\n",
       "      <td>Summer</td>\n",
       "      <td>11:01 PM</td>\n",
       "      <td>Night</td>\n",
       "      <td>1100 5TH ST SW</td>\n",
       "      <td>38.017130</td>\n",
       "      <td>-78.497806</td>\n",
       "      <td>Johnson Village</td>\n",
       "      <td>22903</td>\n",
       "    </tr>\n",
       "    <tr>\n",
       "      <th>1</th>\n",
       "      <td>2</td>\n",
       "      <td>Assault Simple</td>\n",
       "      <td>202500029791</td>\n",
       "      <td></td>\n",
       "      <td>2ND ST NW / W MARKET ST</td>\n",
       "      <td>CPD</td>\n",
       "      <td>2053</td>\n",
       "      <td>Venereo, Arturo</td>\n",
       "      <td>2025-08-21 20:53:26</td>\n",
       "      <td>2025-08-21 08:53:26 PM</td>\n",
       "      <td>Thursday</td>\n",
       "      <td>False</td>\n",
       "      <td>Summer</td>\n",
       "      <td>08:53 PM</td>\n",
       "      <td>Evening</td>\n",
       "      <td>2ND ST NW / W MARKET ST</td>\n",
       "      <td>38.031763</td>\n",
       "      <td>-78.481902</td>\n",
       "      <td>North Downtown</td>\n",
       "      <td>22902</td>\n",
       "    </tr>\n",
       "    <tr>\n",
       "      <th>2</th>\n",
       "      <td>3</td>\n",
       "      <td>Assault Simple</td>\n",
       "      <td>202500029785</td>\n",
       "      <td>900</td>\n",
       "      <td>MONTICELLO AVE</td>\n",
       "      <td>CPD</td>\n",
       "      <td>1947</td>\n",
       "      <td>Reed, Danielle</td>\n",
       "      <td>2025-08-21 19:47:39</td>\n",
       "      <td>2025-08-21 07:47:39 PM</td>\n",
       "      <td>Thursday</td>\n",
       "      <td>False</td>\n",
       "      <td>Summer</td>\n",
       "      <td>07:47 PM</td>\n",
       "      <td>Evening</td>\n",
       "      <td>900 MONTICELLO AVE</td>\n",
       "      <td>38.022670</td>\n",
       "      <td>-78.475939</td>\n",
       "      <td>Belmont</td>\n",
       "      <td>22903</td>\n",
       "    </tr>\n",
       "    <tr>\n",
       "      <th>3</th>\n",
       "      <td>4</td>\n",
       "      <td>Harassment</td>\n",
       "      <td>202500029781</td>\n",
       "      <td>400</td>\n",
       "      <td>FAIRWAY AVE</td>\n",
       "      <td>CPD</td>\n",
       "      <td>1916</td>\n",
       "      <td>Hudson, Jesse</td>\n",
       "      <td>2025-08-21 19:16:15</td>\n",
       "      <td>2025-08-21 07:16:15 PM</td>\n",
       "      <td>Thursday</td>\n",
       "      <td>False</td>\n",
       "      <td>Summer</td>\n",
       "      <td>07:16 PM</td>\n",
       "      <td>Evening</td>\n",
       "      <td>400 FAIRWAY AVE</td>\n",
       "      <td>38.027720</td>\n",
       "      <td>-78.461926</td>\n",
       "      <td>Woolen Mills</td>\n",
       "      <td>22902</td>\n",
       "    </tr>\n",
       "    <tr>\n",
       "      <th>4</th>\n",
       "      <td>5</td>\n",
       "      <td>Larceny - Shoplifitng</td>\n",
       "      <td>202500029778</td>\n",
       "      <td>200</td>\n",
       "      <td>E MAIN ST</td>\n",
       "      <td>CPD</td>\n",
       "      <td>1834</td>\n",
       "      <td>Ritter, Kobe</td>\n",
       "      <td>2025-08-21 18:34:46</td>\n",
       "      <td>2025-08-21 06:34:46 PM</td>\n",
       "      <td>Thursday</td>\n",
       "      <td>False</td>\n",
       "      <td>Summer</td>\n",
       "      <td>06:34 PM</td>\n",
       "      <td>Evening</td>\n",
       "      <td>200 E MAIN ST</td>\n",
       "      <td>38.030572</td>\n",
       "      <td>-78.480764</td>\n",
       "      <td>Downtown Mall</td>\n",
       "      <td>22902</td>\n",
       "    </tr>\n",
       "  </tbody>\n",
       "</table>\n",
       "</div>"
      ],
      "text/plain": [
       "   RecordID                Offense    IncidentID BlockNumber  \\\n",
       "0         1  Larceny - Shoplifitng  202500029809        1100   \n",
       "1         2         Assault Simple  202500029791               \n",
       "2         3         Assault Simple  202500029785         900   \n",
       "3         4             Harassment  202500029781         400   \n",
       "4         5  Larceny - Shoplifitng  202500029778         200   \n",
       "\n",
       "                StreetName Agency HourReported ReportingOfficer  \\\n",
       "0                5TH ST SW    CPD         2301   Reed, Danielle   \n",
       "1  2ND ST NW / W MARKET ST    CPD         2053  Venereo, Arturo   \n",
       "2           MONTICELLO AVE    CPD         1947   Reed, Danielle   \n",
       "3              FAIRWAY AVE    CPD         1916    Hudson, Jesse   \n",
       "4                E MAIN ST    CPD         1834     Ritter, Kobe   \n",
       "\n",
       "                 Date              DateString DayOfWeek  Weekend  Season  \\\n",
       "0 2025-08-21 23:01:19  2025-08-21 11:01:19 PM  Thursday    False  Summer   \n",
       "1 2025-08-21 20:53:26  2025-08-21 08:53:26 PM  Thursday    False  Summer   \n",
       "2 2025-08-21 19:47:39  2025-08-21 07:47:39 PM  Thursday    False  Summer   \n",
       "3 2025-08-21 19:16:15  2025-08-21 07:16:15 PM  Thursday    False  Summer   \n",
       "4 2025-08-21 18:34:46  2025-08-21 06:34:46 PM  Thursday    False  Summer   \n",
       "\n",
       "   HourAMPM TimeOfDay                FullStreet        lat        lon  \\\n",
       "0  11:01 PM     Night            1100 5TH ST SW  38.017130 -78.497806   \n",
       "1  08:53 PM   Evening   2ND ST NW / W MARKET ST  38.031763 -78.481902   \n",
       "2  07:47 PM   Evening        900 MONTICELLO AVE  38.022670 -78.475939   \n",
       "3  07:16 PM   Evening           400 FAIRWAY AVE  38.027720 -78.461926   \n",
       "4  06:34 PM   Evening             200 E MAIN ST  38.030572 -78.480764   \n",
       "\n",
       "      neighborhood    zip  \n",
       "0  Johnson Village  22903  \n",
       "1   North Downtown  22902  \n",
       "2          Belmont  22903  \n",
       "3     Woolen Mills  22902  \n",
       "4    Downtown Mall  22902  "
      ]
     },
     "execution_count": 11,
     "metadata": {},
     "output_type": "execute_result"
    }
   ],
   "source": [
    "# Initialize the geocoder.\n",
    "geolocator = Nominatim(user_agent=\"zip_lookup\")\n",
    "\n",
    "# Try to load a persistent ZIP cache if available.\n",
    "try:\n",
    "    with open(\"zip_cache.pkl\", \"rb\") as f:\n",
    "        zip_cache = pickle.load(f)\n",
    "    print(\"Loaded zip cache.\")\n",
    "except FileNotFoundError:\n",
    "    zip_cache = {}\n",
    "    print(\"No zip cache found; starting fresh.\")\n",
    "\n",
    "def get_zip(lat, lon):\n",
    "    \"\"\"\n",
    "    Reverse geocodes a latitude and longitude to retrieve the ZIP code.\n",
    "    Caches results to speed up subsequent lookups.\n",
    "    \"\"\"\n",
    "    key = (lat, lon)\n",
    "    if key in zip_cache:\n",
    "        return zip_cache[key]\n",
    "    \n",
    "    try:\n",
    "        location = geolocator.reverse((lat, lon), exactly_one=True, timeout=10)\n",
    "        address = location.raw.get('address', {})\n",
    "        postal_code = address.get('postcode', \"N/A\")\n",
    "    except Exception as e:\n",
    "        print(f\"Error getting ZIP for {lat}, {lon}: {e}\")\n",
    "        postal_code = \"N/A\"\n",
    "    \n",
    "    zip_cache[key] = postal_code\n",
    "    # Pause to respect the usage policy.\n",
    "    time.sleep(1)\n",
    "    return postal_code\n",
    "\n",
    "# Apply the function to each row in the DataFrame.\n",
    "df['zip'] = df.apply(lambda row: get_zip(row['lat'], row['lon']), axis=1)\n",
    "\n",
    "# Save the updated ZIP cache.\n",
    "with open(\"zip_cache.pkl\", \"wb\") as f:\n",
    "    pickle.dump(zip_cache, f)\n",
    "\n",
    "df.head()\n"
   ]
  },
  {
   "cell_type": "code",
   "execution_count": 12,
   "id": "c1883253",
   "metadata": {
    "execution": {
     "iopub.execute_input": "2025-08-24T01:11:22.580724Z",
     "iopub.status.busy": "2025-08-24T01:11:22.580534Z",
     "iopub.status.idle": "2025-08-24T01:11:22.607413Z",
     "shell.execute_reply": "2025-08-24T01:11:22.606834Z"
    },
    "papermill": {
     "duration": 0.039941,
     "end_time": "2025-08-24T01:11:22.608410",
     "exception": false,
     "start_time": "2025-08-24T01:11:22.568469",
     "status": "completed"
    },
    "tags": []
   },
   "outputs": [
    {
     "name": "stdout",
     "output_type": "stream",
     "text": [
      "                  MissingCount  MissingPercentage\n",
      "RecordID                     0               0.00\n",
      "Offense                      0               0.00\n",
      "IncidentID                   0               0.00\n",
      "BlockNumber                  0               0.00\n",
      "StreetName                   0               0.00\n",
      "Agency                       0               0.00\n",
      "HourReported                 0               0.00\n",
      "ReportingOfficer            15               0.06\n",
      "Date                         0               0.00\n",
      "DateString                   0               0.00\n",
      "DayOfWeek                    0               0.00\n",
      "Weekend                      0               0.00\n",
      "Season                       0               0.00\n",
      "HourAMPM                     0               0.00\n",
      "TimeOfDay                    0               0.00\n",
      "FullStreet                   0               0.00\n",
      "lat                        139               0.54\n",
      "lon                        139               0.54\n",
      "neighborhood                 0               0.00\n",
      "zip                          0               0.00\n"
     ]
    }
   ],
   "source": [
    "missing_info = missing_percentage(df)\n",
    "print(missing_info)\n"
   ]
  },
  {
   "cell_type": "code",
   "execution_count": 13,
   "id": "5cb5e9bb",
   "metadata": {
    "execution": {
     "iopub.execute_input": "2025-08-24T01:11:22.632603Z",
     "iopub.status.busy": "2025-08-24T01:11:22.632416Z",
     "iopub.status.idle": "2025-08-24T01:11:22.659777Z",
     "shell.execute_reply": "2025-08-24T01:11:22.659200Z"
    },
    "papermill": {
     "duration": 0.040534,
     "end_time": "2025-08-24T01:11:22.660801",
     "exception": false,
     "start_time": "2025-08-24T01:11:22.620267",
     "status": "completed"
    },
    "tags": []
   },
   "outputs": [
    {
     "name": "stdout",
     "output_type": "stream",
     "text": [
      "<class 'pandas.core.frame.DataFrame'>\n",
      "RangeIndex: 25677 entries, 0 to 25676\n",
      "Data columns (total 20 columns):\n",
      " #   Column            Non-Null Count  Dtype         \n",
      "---  ------            --------------  -----         \n",
      " 0   RecordID          25677 non-null  int64         \n",
      " 1   Offense           25677 non-null  object        \n",
      " 2   IncidentID        25677 non-null  object        \n",
      " 3   BlockNumber       25677 non-null  object        \n",
      " 4   StreetName        25677 non-null  object        \n",
      " 5   Agency            25677 non-null  object        \n",
      " 6   HourReported      25677 non-null  object        \n",
      " 7   ReportingOfficer  25662 non-null  object        \n",
      " 8   Date              25677 non-null  datetime64[ns]\n",
      " 9   DateString        25677 non-null  object        \n",
      " 10  DayOfWeek         25677 non-null  object        \n",
      " 11  Weekend           25677 non-null  bool          \n",
      " 12  Season            25677 non-null  object        \n",
      " 13  HourAMPM          25677 non-null  object        \n",
      " 14  TimeOfDay         25677 non-null  object        \n",
      " 15  FullStreet        25677 non-null  object        \n",
      " 16  lat               25538 non-null  float64       \n",
      " 17  lon               25538 non-null  float64       \n",
      " 18  neighborhood      25677 non-null  object        \n",
      " 19  zip               25677 non-null  object        \n",
      "dtypes: bool(1), datetime64[ns](1), float64(2), int64(1), object(15)\n",
      "memory usage: 3.7+ MB\n"
     ]
    }
   ],
   "source": [
    "df.info()"
   ]
  },
  {
   "cell_type": "code",
   "execution_count": 14,
   "id": "e23a22c7",
   "metadata": {
    "execution": {
     "iopub.execute_input": "2025-08-24T01:11:22.685482Z",
     "iopub.status.busy": "2025-08-24T01:11:22.685252Z",
     "iopub.status.idle": "2025-08-24T01:11:22.728869Z",
     "shell.execute_reply": "2025-08-24T01:11:22.728203Z"
    },
    "papermill": {
     "duration": 0.057027,
     "end_time": "2025-08-24T01:11:22.729965",
     "exception": false,
     "start_time": "2025-08-24T01:11:22.672938",
     "status": "completed"
    },
    "tags": []
   },
   "outputs": [
    {
     "data": {
      "text/html": [
       "<div>\n",
       "<style scoped>\n",
       "    .dataframe tbody tr th:only-of-type {\n",
       "        vertical-align: middle;\n",
       "    }\n",
       "\n",
       "    .dataframe tbody tr th {\n",
       "        vertical-align: top;\n",
       "    }\n",
       "\n",
       "    .dataframe thead th {\n",
       "        text-align: right;\n",
       "    }\n",
       "</style>\n",
       "<table border=\"1\" class=\"dataframe\">\n",
       "  <thead>\n",
       "    <tr style=\"text-align: right;\">\n",
       "      <th></th>\n",
       "      <th>RecordID</th>\n",
       "      <th>Offense</th>\n",
       "      <th>IncidentID</th>\n",
       "      <th>Agency</th>\n",
       "      <th>ReportingOfficer</th>\n",
       "      <th>Date</th>\n",
       "      <th>DayOfWeek</th>\n",
       "      <th>Weekend</th>\n",
       "      <th>Season</th>\n",
       "      <th>TimeOfDay</th>\n",
       "      <th>FullStreet</th>\n",
       "      <th>lat</th>\n",
       "      <th>lon</th>\n",
       "      <th>neighborhood</th>\n",
       "      <th>zip</th>\n",
       "    </tr>\n",
       "  </thead>\n",
       "  <tbody>\n",
       "    <tr>\n",
       "      <th>0</th>\n",
       "      <td>1</td>\n",
       "      <td>Larceny - Shoplifitng</td>\n",
       "      <td>202500029809</td>\n",
       "      <td>CPD</td>\n",
       "      <td>Reed, Danielle</td>\n",
       "      <td>2025-08-21 23:01:19</td>\n",
       "      <td>Thursday</td>\n",
       "      <td>False</td>\n",
       "      <td>Summer</td>\n",
       "      <td>Night</td>\n",
       "      <td>1100 5TH ST SW</td>\n",
       "      <td>38.01713</td>\n",
       "      <td>-78.497806</td>\n",
       "      <td>Johnson Village</td>\n",
       "      <td>22903</td>\n",
       "    </tr>\n",
       "    <tr>\n",
       "      <th>1</th>\n",
       "      <td>2</td>\n",
       "      <td>Assault Simple</td>\n",
       "      <td>202500029791</td>\n",
       "      <td>CPD</td>\n",
       "      <td>Venereo, Arturo</td>\n",
       "      <td>2025-08-21 20:53:26</td>\n",
       "      <td>Thursday</td>\n",
       "      <td>False</td>\n",
       "      <td>Summer</td>\n",
       "      <td>Evening</td>\n",
       "      <td>2ND ST NW / W MARKET ST</td>\n",
       "      <td>38.031763</td>\n",
       "      <td>-78.481902</td>\n",
       "      <td>North Downtown</td>\n",
       "      <td>22902</td>\n",
       "    </tr>\n",
       "    <tr>\n",
       "      <th>2</th>\n",
       "      <td>3</td>\n",
       "      <td>Assault Simple</td>\n",
       "      <td>202500029785</td>\n",
       "      <td>CPD</td>\n",
       "      <td>Reed, Danielle</td>\n",
       "      <td>2025-08-21 19:47:39</td>\n",
       "      <td>Thursday</td>\n",
       "      <td>False</td>\n",
       "      <td>Summer</td>\n",
       "      <td>Evening</td>\n",
       "      <td>900 MONTICELLO AVE</td>\n",
       "      <td>38.02267</td>\n",
       "      <td>-78.475939</td>\n",
       "      <td>Belmont</td>\n",
       "      <td>22903</td>\n",
       "    </tr>\n",
       "    <tr>\n",
       "      <th>3</th>\n",
       "      <td>4</td>\n",
       "      <td>Harassment</td>\n",
       "      <td>202500029781</td>\n",
       "      <td>CPD</td>\n",
       "      <td>Hudson, Jesse</td>\n",
       "      <td>2025-08-21 19:16:15</td>\n",
       "      <td>Thursday</td>\n",
       "      <td>False</td>\n",
       "      <td>Summer</td>\n",
       "      <td>Evening</td>\n",
       "      <td>400 FAIRWAY AVE</td>\n",
       "      <td>38.02772</td>\n",
       "      <td>-78.461926</td>\n",
       "      <td>Woolen Mills</td>\n",
       "      <td>22902</td>\n",
       "    </tr>\n",
       "    <tr>\n",
       "      <th>4</th>\n",
       "      <td>5</td>\n",
       "      <td>Larceny - Shoplifitng</td>\n",
       "      <td>202500029778</td>\n",
       "      <td>CPD</td>\n",
       "      <td>Ritter, Kobe</td>\n",
       "      <td>2025-08-21 18:34:46</td>\n",
       "      <td>Thursday</td>\n",
       "      <td>False</td>\n",
       "      <td>Summer</td>\n",
       "      <td>Evening</td>\n",
       "      <td>200 E MAIN ST</td>\n",
       "      <td>38.030572</td>\n",
       "      <td>-78.480764</td>\n",
       "      <td>Downtown Mall</td>\n",
       "      <td>22902</td>\n",
       "    </tr>\n",
       "  </tbody>\n",
       "</table>\n",
       "</div>"
      ],
      "text/plain": [
       "   RecordID                Offense    IncidentID Agency ReportingOfficer  \\\n",
       "0         1  Larceny - Shoplifitng  202500029809    CPD   Reed, Danielle   \n",
       "1         2         Assault Simple  202500029791    CPD  Venereo, Arturo   \n",
       "2         3         Assault Simple  202500029785    CPD   Reed, Danielle   \n",
       "3         4             Harassment  202500029781    CPD    Hudson, Jesse   \n",
       "4         5  Larceny - Shoplifitng  202500029778    CPD     Ritter, Kobe   \n",
       "\n",
       "                 Date DayOfWeek  Weekend  Season TimeOfDay  \\\n",
       "0 2025-08-21 23:01:19  Thursday    False  Summer     Night   \n",
       "1 2025-08-21 20:53:26  Thursday    False  Summer   Evening   \n",
       "2 2025-08-21 19:47:39  Thursday    False  Summer   Evening   \n",
       "3 2025-08-21 19:16:15  Thursday    False  Summer   Evening   \n",
       "4 2025-08-21 18:34:46  Thursday    False  Summer   Evening   \n",
       "\n",
       "                 FullStreet        lat        lon     neighborhood    zip  \n",
       "0            1100 5TH ST SW   38.01713 -78.497806  Johnson Village  22903  \n",
       "1   2ND ST NW / W MARKET ST  38.031763 -78.481902   North Downtown  22902  \n",
       "2        900 MONTICELLO AVE   38.02267 -78.475939          Belmont  22903  \n",
       "3           400 FAIRWAY AVE   38.02772 -78.461926     Woolen Mills  22902  \n",
       "4             200 E MAIN ST  38.030572 -78.480764    Downtown Mall  22902  "
      ]
     },
     "execution_count": 14,
     "metadata": {},
     "output_type": "execute_result"
    }
   ],
   "source": [
    "# Now drop the original BlockNumber and StreetName columns\n",
    "df.drop(columns=['BlockNumber', 'StreetName','HourAMPM','HourReported','DateString'], inplace=True)\n",
    "df[\"zip\"] = df[\"zip\"].astype(str)\n",
    "\n",
    "# Fill all missing values in the DataFrame with \"N/A\"\n",
    "df.replace({None: \"N/A\", np.nan: \"N/A\", \"\": \"N/A\"}, inplace=True)\n",
    "df.head()"
   ]
  },
  {
   "cell_type": "code",
   "execution_count": 15,
   "id": "86c17728",
   "metadata": {
    "execution": {
     "iopub.execute_input": "2025-08-24T01:11:22.755032Z",
     "iopub.status.busy": "2025-08-24T01:11:22.754837Z",
     "iopub.status.idle": "2025-08-24T01:11:22.772662Z",
     "shell.execute_reply": "2025-08-24T01:11:22.772108Z"
    },
    "papermill": {
     "duration": 0.031269,
     "end_time": "2025-08-24T01:11:22.773660",
     "exception": false,
     "start_time": "2025-08-24T01:11:22.742391",
     "status": "completed"
    },
    "tags": []
   },
   "outputs": [
    {
     "name": "stdout",
     "output_type": "stream",
     "text": [
      "                  MissingCount  MissingPercentage\n",
      "RecordID                     0                0.0\n",
      "Offense                      0                0.0\n",
      "IncidentID                   0                0.0\n",
      "Agency                       0                0.0\n",
      "ReportingOfficer             0                0.0\n",
      "Date                         0                0.0\n",
      "DayOfWeek                    0                0.0\n",
      "Weekend                      0                0.0\n",
      "Season                       0                0.0\n",
      "TimeOfDay                    0                0.0\n",
      "FullStreet                   0                0.0\n",
      "lat                          0                0.0\n",
      "lon                          0                0.0\n",
      "neighborhood                 0                0.0\n",
      "zip                          0                0.0\n"
     ]
    }
   ],
   "source": [
    "missing_info = missing_percentage(df)\n",
    "print(missing_info)"
   ]
  },
  {
   "cell_type": "code",
   "execution_count": 16,
   "id": "359d30eb",
   "metadata": {
    "execution": {
     "iopub.execute_input": "2025-08-24T01:11:22.798809Z",
     "iopub.status.busy": "2025-08-24T01:11:22.798590Z",
     "iopub.status.idle": "2025-08-24T01:11:22.802978Z",
     "shell.execute_reply": "2025-08-24T01:11:22.802345Z"
    },
    "papermill": {
     "duration": 0.017982,
     "end_time": "2025-08-24T01:11:22.803985",
     "exception": false,
     "start_time": "2025-08-24T01:11:22.786003",
     "status": "completed"
    },
    "tags": []
   },
   "outputs": [
    {
     "data": {
      "text/plain": [
       "Index(['RecordID', 'Offense', 'IncidentID', 'Agency', 'ReportingOfficer',\n",
       "       'Date', 'DayOfWeek', 'Weekend', 'Season', 'TimeOfDay', 'FullStreet',\n",
       "       'lat', 'lon', 'neighborhood', 'zip'],\n",
       "      dtype='object')"
      ]
     },
     "execution_count": 16,
     "metadata": {},
     "output_type": "execute_result"
    }
   ],
   "source": [
    "df.columns"
   ]
  },
  {
   "cell_type": "code",
   "execution_count": 17,
   "id": "fca24b05",
   "metadata": {
    "execution": {
     "iopub.execute_input": "2025-08-24T01:11:22.828681Z",
     "iopub.status.busy": "2025-08-24T01:11:22.828466Z",
     "iopub.status.idle": "2025-08-24T01:11:22.848814Z",
     "shell.execute_reply": "2025-08-24T01:11:22.848284Z"
    },
    "papermill": {
     "duration": 0.033696,
     "end_time": "2025-08-24T01:11:22.849822",
     "exception": false,
     "start_time": "2025-08-24T01:11:22.816126",
     "status": "completed"
    },
    "tags": []
   },
   "outputs": [
    {
     "name": "stdout",
     "output_type": "stream",
     "text": [
      "<class 'pandas.core.frame.DataFrame'>\n",
      "RangeIndex: 25677 entries, 0 to 25676\n",
      "Data columns (total 15 columns):\n",
      " #   Column            Non-Null Count  Dtype         \n",
      "---  ------            --------------  -----         \n",
      " 0   RecordID          25677 non-null  int64         \n",
      " 1   Offense           25677 non-null  object        \n",
      " 2   IncidentID        25677 non-null  object        \n",
      " 3   Agency            25677 non-null  object        \n",
      " 4   ReportingOfficer  25677 non-null  object        \n",
      " 5   Date              25677 non-null  datetime64[ns]\n",
      " 6   DayOfWeek         25677 non-null  object        \n",
      " 7   Weekend           25677 non-null  bool          \n",
      " 8   Season            25677 non-null  object        \n",
      " 9   TimeOfDay         25677 non-null  object        \n",
      " 10  FullStreet        25677 non-null  object        \n",
      " 11  lat               25677 non-null  object        \n",
      " 12  lon               25677 non-null  object        \n",
      " 13  neighborhood      25677 non-null  object        \n",
      " 14  zip               25677 non-null  object        \n",
      "dtypes: bool(1), datetime64[ns](1), int64(1), object(12)\n",
      "memory usage: 2.8+ MB\n"
     ]
    }
   ],
   "source": [
    "df.info()"
   ]
  },
  {
   "cell_type": "markdown",
   "id": "20ad7716",
   "metadata": {
    "papermill": {
     "duration": 0.012112,
     "end_time": "2025-08-24T01:11:22.874388",
     "exception": false,
     "start_time": "2025-08-24T01:11:22.862276",
     "status": "completed"
    },
    "tags": []
   },
   "source": [
    "### Export Clean Data"
   ]
  },
  {
   "cell_type": "code",
   "execution_count": 18,
   "id": "6762fca0",
   "metadata": {
    "execution": {
     "iopub.execute_input": "2025-08-24T01:11:22.899791Z",
     "iopub.status.busy": "2025-08-24T01:11:22.899594Z",
     "iopub.status.idle": "2025-08-24T01:11:32.080847Z",
     "shell.execute_reply": "2025-08-24T01:11:32.080222Z"
    },
    "papermill": {
     "duration": 9.195139,
     "end_time": "2025-08-24T01:11:32.081851",
     "exception": false,
     "start_time": "2025-08-24T01:11:22.886712",
     "status": "completed"
    },
    "tags": []
   },
   "outputs": [
    {
     "name": "stdout",
     "output_type": "stream",
     "text": [
      "Project Root: /home/runner/work/crime-data/crime-data\n"
     ]
    },
    {
     "name": "stdout",
     "output_type": "stream",
     "text": [
      "Data saved to: /home/runner/work/crime-data/crime-data/data/charlottesville_crime_incidents.csv\n"
     ]
    },
    {
     "name": "stdout",
     "output_type": "stream",
     "text": [
      "Excel saved to: /home/runner/work/crime-data/crime-data/data/charlottesville_crime_incidents.xlsx\n"
     ]
    }
   ],
   "source": [
    "# Determine the project root (assuming papermill is run from the repository root)\n",
    "project_root = os.getcwd()\n",
    "print(\"Project Root:\", project_root)\n",
    "\n",
    "# Set the data directory within the project root\n",
    "data_dir = os.path.join(project_root, \"data\")\n",
    "\n",
    "# Ensure the \"data\" directory exists (create it if it doesn't)\n",
    "if not os.path.exists(data_dir):\n",
    "    os.makedirs(data_dir)\n",
    "\n",
    "# Export the DataFrame to CSV in the \"data\" folder located in the project root\n",
    "csv_path = os.path.join(data_dir, \"charlottesville_crime_incidents.csv\")\n",
    "df.to_csv(csv_path, index=False)\n",
    "print(\"Data saved to:\", csv_path)\n",
    "\n",
    "# Construct the path to your Excel file\n",
    "excel_path = os.path.join(data_dir, \"charlottesville_crime_incidents.xlsx\")\n",
    "\n",
    "# Export the DataFrame to Excel\n",
    "df.to_excel(excel_path, index=False)\n",
    "print(\"Excel saved to:\", excel_path)\n"
   ]
  }
 ],
 "metadata": {
  "kernelspec": {
   "display_name": "Python 3",
   "language": "python",
   "name": "python3"
  },
  "language_info": {
   "codemirror_mode": {
    "name": "ipython",
    "version": 3
   },
   "file_extension": ".py",
   "mimetype": "text/x-python",
   "name": "python",
   "nbconvert_exporter": "python",
   "pygments_lexer": "ipython3",
   "version": "3.9.23"
  },
  "papermill": {
   "default_parameters": {},
   "duration": 220.874568,
   "end_time": "2025-08-24T01:11:32.511226",
   "environment_variables": {},
   "exception": null,
   "input_path": "notebook/Crime Data.ipynb",
   "output_path": "notebook/Crime Data_output.ipynb",
   "parameters": {},
   "start_time": "2025-08-24T01:07:51.636658",
   "version": "2.6.0"
  }
 },
 "nbformat": 4,
 "nbformat_minor": 5
}