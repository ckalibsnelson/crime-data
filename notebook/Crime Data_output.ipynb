{
 "cells": [
  {
   "cell_type": "markdown",
   "id": "99f625e2",
   "metadata": {
    "papermill": {
     "duration": 0.006067,
     "end_time": "2025-04-11T00:59:34.416554",
     "exception": false,
     "start_time": "2025-04-11T00:59:34.410487",
     "status": "completed"
    },
    "tags": []
   },
   "source": [
    "# Charlottesville Open Data Porttal: Crime Data"
   ]
  },
  {
   "cell_type": "markdown",
   "id": "cb00f805",
   "metadata": {
    "papermill": {
     "duration": 0.004951,
     "end_time": "2025-04-11T00:59:34.427757",
     "exception": false,
     "start_time": "2025-04-11T00:59:34.422806",
     "status": "completed"
    },
    "tags": []
   },
   "source": [
    "## Import Relevant Librarires & Set WD"
   ]
  },
  {
   "cell_type": "code",
   "execution_count": 1,
   "id": "77ab4bb5",
   "metadata": {
    "execution": {
     "iopub.execute_input": "2025-04-11T00:59:34.438964Z",
     "iopub.status.busy": "2025-04-11T00:59:34.438557Z",
     "iopub.status.idle": "2025-04-11T00:59:35.062586Z",
     "shell.execute_reply": "2025-04-11T00:59:35.061981Z"
    },
    "papermill": {
     "duration": 0.631094,
     "end_time": "2025-04-11T00:59:35.063906",
     "exception": false,
     "start_time": "2025-04-11T00:59:34.432812",
     "status": "completed"
    },
    "tags": []
   },
   "outputs": [],
   "source": [
    "import requests\n",
    "import pandas as pd\n",
    "import numpy as np\n",
    "import pickle\n",
    "import googlemaps\n",
    "import plotly.express as px\n",
    "from geopy.geocoders import Nominatim\n",
    "import time\n",
    "from dotenv import load_dotenv\n",
    "import os\n",
    "\n",
    "env_path = os.path.join(\"..\", \".env\")\n",
    "#print(\"Looking for .env file at:\", os.path.abspath(env_path))\n",
    "load_dotenv(dotenv_path=env_path)\n",
    "\n",
    "# Retrieve the variables\n",
    "GOOGLE_API_KEY = os.getenv(\"GOOGLE_API_KEY\")\n",
    "WORKING_DIR = os.getenv(\"WORKING_DIR\")\n",
    "\n",
    "if GOOGLE_API_KEY is None or WORKING_DIR is None:\n",
    "    raise RuntimeError(\"No configuration found. Please ensure that your .env file exists with the required variables, or create a local config.py file.\")\n",
    "\n",
    "#print(\"Google API Key:\", GOOGLE_API_KEY)\n",
    "#print(\"Working Directory:\", WORKING_DIR)"
   ]
  },
  {
   "cell_type": "markdown",
   "id": "d0c1e0ea",
   "metadata": {
    "papermill": {
     "duration": 0.004952,
     "end_time": "2025-04-11T00:59:35.074290",
     "exception": false,
     "start_time": "2025-04-11T00:59:35.069338",
     "status": "completed"
    },
    "tags": []
   },
   "source": [
    "## Import Data\n",
    "\n",
    "URL: https://opendata.charlottesville.org/datasets/charlottesville::crime-data/about"
   ]
  },
  {
   "cell_type": "code",
   "execution_count": 2,
   "id": "bdc257e2",
   "metadata": {
    "execution": {
     "iopub.execute_input": "2025-04-11T00:59:35.085386Z",
     "iopub.status.busy": "2025-04-11T00:59:35.084923Z",
     "iopub.status.idle": "2025-04-11T01:00:37.984199Z",
     "shell.execute_reply": "2025-04-11T01:00:37.983517Z"
    },
    "papermill": {
     "duration": 62.910579,
     "end_time": "2025-04-11T01:00:37.989898",
     "exception": false,
     "start_time": "2025-04-11T00:59:35.079319",
     "status": "completed"
    },
    "tags": []
   },
   "outputs": [
    {
     "name": "stdout",
     "output_type": "stream",
     "text": [
      "Total records imported: 25135\n"
     ]
    }
   ],
   "source": [
    "# Define the endpoint and initial parameters.\n",
    "url = \"https://gisweb.charlottesville.org/arcgis/rest/services/OpenData_2/MapServer/6/query\"\n",
    "params = {\n",
    "    \"where\": \"1=1\",\n",
    "    \"outFields\": \"*\",\n",
    "    \"outSR\": 4326,\n",
    "    \"f\": \"json\",\n",
    "    \"resultOffset\": 0,       # Starting index for results\n",
    "    \"resultRecordCount\": 10000  # Maximum records per batch (if allowed by the API)\n",
    "}\n",
    "\n",
    "records = []\n",
    "\n",
    "while True:\n",
    "    response = requests.get(url, params=params)\n",
    "    response.raise_for_status()\n",
    "    data = response.json()\n",
    "    \n",
    "    # Get the current batch of features.\n",
    "    features = data.get(\"features\", [])\n",
    "    if not features:\n",
    "        break\n",
    "\n",
    "    # Extract the attributes from the features.\n",
    "    batch_records = [feature.get(\"attributes\", {}) for feature in features]\n",
    "    records.extend(batch_records)\n",
    "    \n",
    "    # If the batch size is less than the requested count, we reached the end.\n",
    "    if len(features) < params[\"resultRecordCount\"]:\n",
    "        break\n",
    "\n",
    "    # Update the resultOffset for the next batch.\n",
    "    params[\"resultOffset\"] += params[\"resultRecordCount\"]\n",
    "\n",
    "# Create a DataFrame from the combined records.\n",
    "df = pd.DataFrame(records)\n",
    "print(\"Total records imported:\", len(df))\n"
   ]
  },
  {
   "cell_type": "code",
   "execution_count": 3,
   "id": "c0e6aa4d",
   "metadata": {
    "execution": {
     "iopub.execute_input": "2025-04-11T01:00:38.001434Z",
     "iopub.status.busy": "2025-04-11T01:00:38.001036Z",
     "iopub.status.idle": "2025-04-11T01:00:38.013308Z",
     "shell.execute_reply": "2025-04-11T01:00:38.012682Z"
    },
    "papermill": {
     "duration": 0.019105,
     "end_time": "2025-04-11T01:00:38.014301",
     "exception": false,
     "start_time": "2025-04-11T01:00:37.995196",
     "status": "completed"
    },
    "tags": []
   },
   "outputs": [
    {
     "data": {
      "text/html": [
       "<div>\n",
       "<style scoped>\n",
       "    .dataframe tbody tr th:only-of-type {\n",
       "        vertical-align: middle;\n",
       "    }\n",
       "\n",
       "    .dataframe tbody tr th {\n",
       "        vertical-align: top;\n",
       "    }\n",
       "\n",
       "    .dataframe thead th {\n",
       "        text-align: right;\n",
       "    }\n",
       "</style>\n",
       "<table border=\"1\" class=\"dataframe\">\n",
       "  <thead>\n",
       "    <tr style=\"text-align: right;\">\n",
       "      <th></th>\n",
       "      <th>RecordID</th>\n",
       "      <th>Offense</th>\n",
       "      <th>IncidentID</th>\n",
       "      <th>BlockNumber</th>\n",
       "      <th>StreetName</th>\n",
       "      <th>Agency</th>\n",
       "      <th>DateReported</th>\n",
       "      <th>HourReported</th>\n",
       "      <th>ReportingOfficer</th>\n",
       "    </tr>\n",
       "  </thead>\n",
       "  <tbody>\n",
       "    <tr>\n",
       "      <th>0</th>\n",
       "      <td>1</td>\n",
       "      <td>Assault Aggravated</td>\n",
       "      <td>202500011330</td>\n",
       "      <td>1300</td>\n",
       "      <td>CARLTON AVE, 5</td>\n",
       "      <td>CPD</td>\n",
       "      <td>1744160725000</td>\n",
       "      <td>2105</td>\n",
       "      <td>Vlasis, Christopher</td>\n",
       "    </tr>\n",
       "    <tr>\n",
       "      <th>1</th>\n",
       "      <td>2</td>\n",
       "      <td>Hit and Run</td>\n",
       "      <td>202500011311</td>\n",
       "      <td>900</td>\n",
       "      <td>EMMET ST N</td>\n",
       "      <td>CPD</td>\n",
       "      <td>1744149100000</td>\n",
       "      <td>1751</td>\n",
       "      <td>Bland, Johnnà</td>\n",
       "    </tr>\n",
       "    <tr>\n",
       "      <th>2</th>\n",
       "      <td>3</td>\n",
       "      <td>Forgery/Counterfeiting</td>\n",
       "      <td>202500011287</td>\n",
       "      <td>900</td>\n",
       "      <td>PRESTON AVE, 1</td>\n",
       "      <td>CPD</td>\n",
       "      <td>1744136936000</td>\n",
       "      <td>1428</td>\n",
       "      <td>Mcdougal, Jordan</td>\n",
       "    </tr>\n",
       "    <tr>\n",
       "      <th>3</th>\n",
       "      <td>4</td>\n",
       "      <td>Drug Investigation</td>\n",
       "      <td>202500011277</td>\n",
       "      <td>1300</td>\n",
       "      <td>W MAIN ST, 424</td>\n",
       "      <td>CPD</td>\n",
       "      <td>1744129622000</td>\n",
       "      <td>1227</td>\n",
       "      <td>Nash, Darius</td>\n",
       "    </tr>\n",
       "    <tr>\n",
       "      <th>4</th>\n",
       "      <td>5</td>\n",
       "      <td>Fraud-wire fraud</td>\n",
       "      <td>202500011275</td>\n",
       "      <td>2300</td>\n",
       "      <td>CRESTMONT AVE</td>\n",
       "      <td>CPD</td>\n",
       "      <td>1744128172000</td>\n",
       "      <td>1202</td>\n",
       "      <td>Wisser, Shawn</td>\n",
       "    </tr>\n",
       "  </tbody>\n",
       "</table>\n",
       "</div>"
      ],
      "text/plain": [
       "   RecordID                 Offense    IncidentID BlockNumber      StreetName  \\\n",
       "0         1      Assault Aggravated  202500011330        1300  CARLTON AVE, 5   \n",
       "1         2             Hit and Run  202500011311         900      EMMET ST N   \n",
       "2         3  Forgery/Counterfeiting  202500011287         900  PRESTON AVE, 1   \n",
       "3         4      Drug Investigation  202500011277        1300  W MAIN ST, 424   \n",
       "4         5        Fraud-wire fraud  202500011275        2300   CRESTMONT AVE   \n",
       "\n",
       "  Agency   DateReported HourReported     ReportingOfficer  \n",
       "0    CPD  1744160725000         2105  Vlasis, Christopher  \n",
       "1    CPD  1744149100000         1751        Bland, Johnnà  \n",
       "2    CPD  1744136936000         1428     Mcdougal, Jordan  \n",
       "3    CPD  1744129622000         1227         Nash, Darius  \n",
       "4    CPD  1744128172000         1202        Wisser, Shawn  "
      ]
     },
     "execution_count": 3,
     "metadata": {},
     "output_type": "execute_result"
    }
   ],
   "source": [
    "df.head()"
   ]
  },
  {
   "cell_type": "code",
   "execution_count": 4,
   "id": "14c06564",
   "metadata": {
    "execution": {
     "iopub.execute_input": "2025-04-11T01:00:38.026001Z",
     "iopub.status.busy": "2025-04-11T01:00:38.025623Z",
     "iopub.status.idle": "2025-04-11T01:00:38.029855Z",
     "shell.execute_reply": "2025-04-11T01:00:38.029322Z"
    },
    "papermill": {
     "duration": 0.011177,
     "end_time": "2025-04-11T01:00:38.030846",
     "exception": false,
     "start_time": "2025-04-11T01:00:38.019669",
     "status": "completed"
    },
    "tags": []
   },
   "outputs": [
    {
     "data": {
      "text/plain": [
       "Index(['RecordID', 'Offense', 'IncidentID', 'BlockNumber', 'StreetName',\n",
       "       'Agency', 'DateReported', 'HourReported', 'ReportingOfficer'],\n",
       "      dtype='object')"
      ]
     },
     "execution_count": 4,
     "metadata": {},
     "output_type": "execute_result"
    }
   ],
   "source": [
    "df.columns"
   ]
  },
  {
   "cell_type": "code",
   "execution_count": 5,
   "id": "c61567ec",
   "metadata": {
    "execution": {
     "iopub.execute_input": "2025-04-11T01:00:38.042770Z",
     "iopub.status.busy": "2025-04-11T01:00:38.042591Z",
     "iopub.status.idle": "2025-04-11T01:00:38.062826Z",
     "shell.execute_reply": "2025-04-11T01:00:38.062254Z"
    },
    "papermill": {
     "duration": 0.027569,
     "end_time": "2025-04-11T01:00:38.063865",
     "exception": false,
     "start_time": "2025-04-11T01:00:38.036296",
     "status": "completed"
    },
    "tags": []
   },
   "outputs": [
    {
     "name": "stdout",
     "output_type": "stream",
     "text": [
      "<class 'pandas.core.frame.DataFrame'>\n",
      "RangeIndex: 25135 entries, 0 to 25134\n",
      "Data columns (total 9 columns):\n",
      " #   Column            Non-Null Count  Dtype \n",
      "---  ------            --------------  ----- \n",
      " 0   RecordID          25135 non-null  int64 \n",
      " 1   Offense           25135 non-null  object\n",
      " 2   IncidentID        25135 non-null  object\n",
      " 3   BlockNumber       25135 non-null  object\n",
      " 4   StreetName        25135 non-null  object\n",
      " 5   Agency            25135 non-null  object\n",
      " 6   DateReported      25135 non-null  int64 \n",
      " 7   HourReported      25135 non-null  object\n",
      " 8   ReportingOfficer  25118 non-null  object\n",
      "dtypes: int64(2), object(7)\n",
      "memory usage: 1.7+ MB\n"
     ]
    }
   ],
   "source": [
    "df.info()"
   ]
  },
  {
   "cell_type": "markdown",
   "id": "f0599f6f",
   "metadata": {
    "papermill": {
     "duration": 0.005516,
     "end_time": "2025-04-11T01:00:38.075126",
     "exception": false,
     "start_time": "2025-04-11T01:00:38.069610",
     "status": "completed"
    },
    "tags": []
   },
   "source": [
    "### Missing Values"
   ]
  },
  {
   "cell_type": "code",
   "execution_count": 6,
   "id": "df6cbd37",
   "metadata": {
    "execution": {
     "iopub.execute_input": "2025-04-11T01:00:38.087089Z",
     "iopub.status.busy": "2025-04-11T01:00:38.086839Z",
     "iopub.status.idle": "2025-04-11T01:00:38.108946Z",
     "shell.execute_reply": "2025-04-11T01:00:38.108263Z"
    },
    "papermill": {
     "duration": 0.029401,
     "end_time": "2025-04-11T01:00:38.110039",
     "exception": false,
     "start_time": "2025-04-11T01:00:38.080638",
     "status": "completed"
    },
    "tags": []
   },
   "outputs": [
    {
     "name": "stdout",
     "output_type": "stream",
     "text": [
      "                  MissingCount  MissingPercentage\n",
      "RecordID                     0               0.00\n",
      "Offense                      0               0.00\n",
      "IncidentID                   0               0.00\n",
      "BlockNumber                  0               0.00\n",
      "StreetName                   0               0.00\n",
      "Agency                       0               0.00\n",
      "DateReported                 0               0.00\n",
      "HourReported                 0               0.00\n",
      "ReportingOfficer            17               0.07\n"
     ]
    }
   ],
   "source": [
    "def missing_percentage(df):\n",
    "    \"\"\"\n",
    "    Returns a DataFrame with the count and percentage of missing values for each column.\n",
    "    \n",
    "    Parameters:\n",
    "        df (pd.DataFrame): The input DataFrame.\n",
    "    \n",
    "    Returns:\n",
    "        pd.DataFrame: A DataFrame with columns 'MissingCount' and 'MissingPercentage'.\n",
    "    \"\"\"\n",
    "    total_rows = len(df)\n",
    "    missing_count = df.isnull().sum()\n",
    "    missing_percent = (missing_count / total_rows) * 100\n",
    "    \n",
    "    result = pd.DataFrame({\n",
    "        'MissingCount': missing_count,\n",
    "        'MissingPercentage': missing_percent.round(2)\n",
    "    })\n",
    "    \n",
    "    return result\n",
    "\n",
    "# Example usage:\n",
    "missing_info = missing_percentage(df)\n",
    "print(missing_info)\n"
   ]
  },
  {
   "cell_type": "markdown",
   "id": "5c3a7453",
   "metadata": {
    "papermill": {
     "duration": 0.005625,
     "end_time": "2025-04-11T01:00:38.121533",
     "exception": false,
     "start_time": "2025-04-11T01:00:38.115908",
     "status": "completed"
    },
    "tags": []
   },
   "source": [
    "## Data Preparation"
   ]
  },
  {
   "cell_type": "markdown",
   "id": "b30baf09",
   "metadata": {
    "papermill": {
     "duration": 0.005556,
     "end_time": "2025-04-11T01:00:38.132576",
     "exception": false,
     "start_time": "2025-04-11T01:00:38.127020",
     "status": "completed"
    },
    "tags": []
   },
   "source": [
    "### Data Conversion"
   ]
  },
  {
   "cell_type": "code",
   "execution_count": 7,
   "id": "7b09b6e1",
   "metadata": {
    "execution": {
     "iopub.execute_input": "2025-04-11T01:00:38.144819Z",
     "iopub.status.busy": "2025-04-11T01:00:38.144305Z",
     "iopub.status.idle": "2025-04-11T01:00:38.504499Z",
     "shell.execute_reply": "2025-04-11T01:00:38.503788Z"
    },
    "papermill": {
     "duration": 0.367482,
     "end_time": "2025-04-11T01:00:38.505521",
     "exception": false,
     "start_time": "2025-04-11T01:00:38.138039",
     "status": "completed"
    },
    "tags": []
   },
   "outputs": [
    {
     "data": {
      "text/html": [
       "<div>\n",
       "<style scoped>\n",
       "    .dataframe tbody tr th:only-of-type {\n",
       "        vertical-align: middle;\n",
       "    }\n",
       "\n",
       "    .dataframe tbody tr th {\n",
       "        vertical-align: top;\n",
       "    }\n",
       "\n",
       "    .dataframe thead th {\n",
       "        text-align: right;\n",
       "    }\n",
       "</style>\n",
       "<table border=\"1\" class=\"dataframe\">\n",
       "  <thead>\n",
       "    <tr style=\"text-align: right;\">\n",
       "      <th></th>\n",
       "      <th>RecordID</th>\n",
       "      <th>Offense</th>\n",
       "      <th>IncidentID</th>\n",
       "      <th>BlockNumber</th>\n",
       "      <th>StreetName</th>\n",
       "      <th>Agency</th>\n",
       "      <th>HourReported</th>\n",
       "      <th>ReportingOfficer</th>\n",
       "      <th>Date</th>\n",
       "      <th>DateString</th>\n",
       "      <th>DayOfWeek</th>\n",
       "      <th>Weekend</th>\n",
       "      <th>Season</th>\n",
       "      <th>HourAMPM</th>\n",
       "      <th>TimeOfDay</th>\n",
       "    </tr>\n",
       "  </thead>\n",
       "  <tbody>\n",
       "    <tr>\n",
       "      <th>0</th>\n",
       "      <td>1</td>\n",
       "      <td>Assault Aggravated</td>\n",
       "      <td>202500011330</td>\n",
       "      <td>1300</td>\n",
       "      <td>CARLTON AVE, 5</td>\n",
       "      <td>CPD</td>\n",
       "      <td>2105</td>\n",
       "      <td>Vlasis, Christopher</td>\n",
       "      <td>2025-04-08 21:05:25</td>\n",
       "      <td>2025-04-08 09:05:25 PM</td>\n",
       "      <td>Tuesday</td>\n",
       "      <td>False</td>\n",
       "      <td>Spring</td>\n",
       "      <td>09:05 PM</td>\n",
       "      <td>Night</td>\n",
       "    </tr>\n",
       "    <tr>\n",
       "      <th>1</th>\n",
       "      <td>2</td>\n",
       "      <td>Hit and Run</td>\n",
       "      <td>202500011311</td>\n",
       "      <td>900</td>\n",
       "      <td>EMMET ST N</td>\n",
       "      <td>CPD</td>\n",
       "      <td>1751</td>\n",
       "      <td>Bland, Johnnà</td>\n",
       "      <td>2025-04-08 17:51:40</td>\n",
       "      <td>2025-04-08 05:51:40 PM</td>\n",
       "      <td>Tuesday</td>\n",
       "      <td>False</td>\n",
       "      <td>Spring</td>\n",
       "      <td>05:51 PM</td>\n",
       "      <td>Evening</td>\n",
       "    </tr>\n",
       "    <tr>\n",
       "      <th>2</th>\n",
       "      <td>3</td>\n",
       "      <td>Forgery/Counterfeiting</td>\n",
       "      <td>202500011287</td>\n",
       "      <td>900</td>\n",
       "      <td>PRESTON AVE, 1</td>\n",
       "      <td>CPD</td>\n",
       "      <td>1428</td>\n",
       "      <td>Mcdougal, Jordan</td>\n",
       "      <td>2025-04-08 14:28:56</td>\n",
       "      <td>2025-04-08 02:28:56 PM</td>\n",
       "      <td>Tuesday</td>\n",
       "      <td>False</td>\n",
       "      <td>Spring</td>\n",
       "      <td>02:28 PM</td>\n",
       "      <td>Afternoon</td>\n",
       "    </tr>\n",
       "    <tr>\n",
       "      <th>3</th>\n",
       "      <td>4</td>\n",
       "      <td>Drug Investigation</td>\n",
       "      <td>202500011277</td>\n",
       "      <td>1300</td>\n",
       "      <td>W MAIN ST, 424</td>\n",
       "      <td>CPD</td>\n",
       "      <td>1227</td>\n",
       "      <td>Nash, Darius</td>\n",
       "      <td>2025-04-08 12:27:02</td>\n",
       "      <td>2025-04-08 12:27:02 PM</td>\n",
       "      <td>Tuesday</td>\n",
       "      <td>False</td>\n",
       "      <td>Spring</td>\n",
       "      <td>12:27 PM</td>\n",
       "      <td>Afternoon</td>\n",
       "    </tr>\n",
       "    <tr>\n",
       "      <th>4</th>\n",
       "      <td>5</td>\n",
       "      <td>Fraud-wire fraud</td>\n",
       "      <td>202500011275</td>\n",
       "      <td>2300</td>\n",
       "      <td>CRESTMONT AVE</td>\n",
       "      <td>CPD</td>\n",
       "      <td>1202</td>\n",
       "      <td>Wisser, Shawn</td>\n",
       "      <td>2025-04-08 12:02:52</td>\n",
       "      <td>2025-04-08 12:02:52 PM</td>\n",
       "      <td>Tuesday</td>\n",
       "      <td>False</td>\n",
       "      <td>Spring</td>\n",
       "      <td>12:02 PM</td>\n",
       "      <td>Afternoon</td>\n",
       "    </tr>\n",
       "  </tbody>\n",
       "</table>\n",
       "</div>"
      ],
      "text/plain": [
       "   RecordID                 Offense    IncidentID BlockNumber      StreetName  \\\n",
       "0         1      Assault Aggravated  202500011330        1300  CARLTON AVE, 5   \n",
       "1         2             Hit and Run  202500011311         900      EMMET ST N   \n",
       "2         3  Forgery/Counterfeiting  202500011287         900  PRESTON AVE, 1   \n",
       "3         4      Drug Investigation  202500011277        1300  W MAIN ST, 424   \n",
       "4         5        Fraud-wire fraud  202500011275        2300   CRESTMONT AVE   \n",
       "\n",
       "  Agency HourReported     ReportingOfficer                Date  \\\n",
       "0    CPD         2105  Vlasis, Christopher 2025-04-08 21:05:25   \n",
       "1    CPD         1751        Bland, Johnnà 2025-04-08 17:51:40   \n",
       "2    CPD         1428     Mcdougal, Jordan 2025-04-08 14:28:56   \n",
       "3    CPD         1227         Nash, Darius 2025-04-08 12:27:02   \n",
       "4    CPD         1202        Wisser, Shawn 2025-04-08 12:02:52   \n",
       "\n",
       "               DateString DayOfWeek  Weekend  Season  HourAMPM  TimeOfDay  \n",
       "0  2025-04-08 09:05:25 PM   Tuesday    False  Spring  09:05 PM      Night  \n",
       "1  2025-04-08 05:51:40 PM   Tuesday    False  Spring  05:51 PM    Evening  \n",
       "2  2025-04-08 02:28:56 PM   Tuesday    False  Spring  02:28 PM  Afternoon  \n",
       "3  2025-04-08 12:27:02 PM   Tuesday    False  Spring  12:27 PM  Afternoon  \n",
       "4  2025-04-08 12:02:52 PM   Tuesday    False  Spring  12:02 PM  Afternoon  "
      ]
     },
     "execution_count": 7,
     "metadata": {},
     "output_type": "execute_result"
    }
   ],
   "source": [
    "def convert_and_categorize_datereported(df, col='DateReported'):\n",
    "    \"\"\"\n",
    "    Converts an epoch (in milliseconds) date column into a timezone-aware datetime,\n",
    "    converts it to Eastern Time, and then creates columns for day-of-week, weekend flag,\n",
    "    season, 12-hour formatted time, and time-of-day. Keeps both a real datetime column\n",
    "    (Date) and a string representation (DateString).\n",
    "    \"\"\"\n",
    "    import pandas as pd\n",
    "\n",
    "    # Convert the epoch timestamp to a pandas datetime object as UTC, then convert to US/Eastern.\n",
    "    df[\"DateReported_dt\"] = (\n",
    "        pd.to_datetime(df[col], unit=\"ms\", errors=\"coerce\", utc=True)\n",
    "        .dt.tz_convert(\"US/Eastern\")\n",
    "    )\n",
    "    \n",
    "    # Create a true datetime column (remove timezone if you prefer naive datetime)\n",
    "    df[\"Date\"] = df[\"DateReported_dt\"].dt.tz_localize(None)\n",
    "\n",
    "    # Optionally, create a separate string-formatted column\n",
    "    df[\"DateString\"] = df[\"DateReported_dt\"].dt.strftime(\"%Y-%m-%d %I:%M:%S %p\")\n",
    "    \n",
    "    # DayOfWeek\n",
    "    df[\"DayOfWeek\"] = df[\"DateReported_dt\"].dt.day_name()\n",
    "    \n",
    "    # Weekend\n",
    "    df[\"Weekend\"] = df[\"DayOfWeek\"].isin([\"Saturday\", \"Sunday\"])\n",
    "    \n",
    "    # Helper function to determine the season\n",
    "    def get_season(dt):\n",
    "        month = dt.month\n",
    "        day = dt.day\n",
    "        # Approximate Northern Hemisphere season boundaries:\n",
    "        if (month == 12 and day >= 21) or (month < 3) or (month == 3 and day < 20):\n",
    "            return \"Winter\"\n",
    "        elif (month == 3 and day >= 20) or (month < 6) or (month == 6 and day < 21):\n",
    "            return \"Spring\"\n",
    "        elif (month == 6 and day >= 21) or (month < 9) or (month == 9 and day < 22):\n",
    "            return \"Summer\"\n",
    "        else:\n",
    "            return \"Autumn\"\n",
    "    \n",
    "    df[\"Season\"] = df[\"DateReported_dt\"].apply(get_season)\n",
    "    \n",
    "    # 12-hour formatted time (HourAMPM)\n",
    "    df[\"HourAMPM\"] = df[\"DateReported_dt\"].dt.strftime(\"%I:%M %p\")\n",
    "    \n",
    "    # Extract hour (0-23) for time-of-day\n",
    "    df[\"HourValue\"] = df[\"DateReported_dt\"].dt.hour\n",
    "    \n",
    "    def time_of_day(hour):\n",
    "        if pd.isnull(hour):\n",
    "            return None\n",
    "        if 5 <= hour < 12:\n",
    "            return \"Morning\"\n",
    "        elif 12 <= hour < 17:\n",
    "            return \"Afternoon\"\n",
    "        elif 17 <= hour < 21:\n",
    "            return \"Evening\"\n",
    "        else:\n",
    "            return \"Night\"\n",
    "    \n",
    "    df[\"TimeOfDay\"] = df[\"HourValue\"].apply(time_of_day)\n",
    "    \n",
    "    # Drop columns you no longer need\n",
    "    df.drop(columns=[col, \"DateReported_dt\", \"HourValue\"], inplace=True)\n",
    "    \n",
    "    return df\n",
    "\n",
    "# Example usage:\n",
    "df = convert_and_categorize_datereported(df)\n",
    "df.head()\n"
   ]
  },
  {
   "cell_type": "code",
   "execution_count": 8,
   "id": "9c6c1a40",
   "metadata": {
    "execution": {
     "iopub.execute_input": "2025-04-11T01:00:38.518405Z",
     "iopub.status.busy": "2025-04-11T01:00:38.518175Z",
     "iopub.status.idle": "2025-04-11T01:00:38.542182Z",
     "shell.execute_reply": "2025-04-11T01:00:38.541497Z"
    },
    "papermill": {
     "duration": 0.031587,
     "end_time": "2025-04-11T01:00:38.543262",
     "exception": false,
     "start_time": "2025-04-11T01:00:38.511675",
     "status": "completed"
    },
    "tags": []
   },
   "outputs": [
    {
     "name": "stdout",
     "output_type": "stream",
     "text": [
      "<class 'pandas.core.frame.DataFrame'>\n",
      "RangeIndex: 25135 entries, 0 to 25134\n",
      "Data columns (total 15 columns):\n",
      " #   Column            Non-Null Count  Dtype         \n",
      "---  ------            --------------  -----         \n",
      " 0   RecordID          25135 non-null  int64         \n",
      " 1   Offense           25135 non-null  object        \n",
      " 2   IncidentID        25135 non-null  object        \n",
      " 3   BlockNumber       25135 non-null  object        \n",
      " 4   StreetName        25135 non-null  object        \n",
      " 5   Agency            25135 non-null  object        \n",
      " 6   HourReported      25135 non-null  object        \n",
      " 7   ReportingOfficer  25118 non-null  object        \n",
      " 8   Date              25135 non-null  datetime64[ns]\n",
      " 9   DateString        25135 non-null  object        \n",
      " 10  DayOfWeek         25135 non-null  object        \n",
      " 11  Weekend           25135 non-null  bool          \n",
      " 12  Season            25135 non-null  object        \n",
      " 13  HourAMPM          25135 non-null  object        \n",
      " 14  TimeOfDay         25135 non-null  object        \n",
      "dtypes: bool(1), datetime64[ns](1), int64(1), object(12)\n",
      "memory usage: 2.7+ MB\n"
     ]
    }
   ],
   "source": [
    "df.info()"
   ]
  },
  {
   "cell_type": "markdown",
   "id": "7829161e",
   "metadata": {
    "papermill": {
     "duration": 0.00589,
     "end_time": "2025-04-11T01:00:38.555168",
     "exception": false,
     "start_time": "2025-04-11T01:00:38.549278",
     "status": "completed"
    },
    "tags": []
   },
   "source": [
    "### Coordinates"
   ]
  },
  {
   "cell_type": "code",
   "execution_count": 9,
   "id": "15a9a29e",
   "metadata": {
    "execution": {
     "iopub.execute_input": "2025-04-11T01:00:38.568139Z",
     "iopub.status.busy": "2025-04-11T01:00:38.567609Z",
     "iopub.status.idle": "2025-04-11T01:00:39.055644Z",
     "shell.execute_reply": "2025-04-11T01:00:39.054975Z"
    },
    "papermill": {
     "duration": 0.495761,
     "end_time": "2025-04-11T01:00:39.056779",
     "exception": false,
     "start_time": "2025-04-11T01:00:38.561018",
     "status": "completed"
    },
    "tags": []
   },
   "outputs": [
    {
     "name": "stdout",
     "output_type": "stream",
     "text": [
      "Loaded geocode cache.\n"
     ]
    },
    {
     "name": "stdout",
     "output_type": "stream",
     "text": [
      "Geocoded 900 PRESTON AVE, 1: 38.0370115, -78.4894638\n"
     ]
    },
    {
     "name": "stdout",
     "output_type": "stream",
     "text": [
      "Geocoded 1300 W MAIN ST, 424: 38.0332883, -78.4979397\n"
     ]
    },
    {
     "name": "stdout",
     "output_type": "stream",
     "text": [
      "Geocoded 1000 WERTLAND ST, 205: 38.03391149999999, -78.4942535\n",
      "Geocode cache updated and saved.\n"
     ]
    },
    {
     "data": {
      "text/html": [
       "<div>\n",
       "<style scoped>\n",
       "    .dataframe tbody tr th:only-of-type {\n",
       "        vertical-align: middle;\n",
       "    }\n",
       "\n",
       "    .dataframe tbody tr th {\n",
       "        vertical-align: top;\n",
       "    }\n",
       "\n",
       "    .dataframe thead th {\n",
       "        text-align: right;\n",
       "    }\n",
       "</style>\n",
       "<table border=\"1\" class=\"dataframe\">\n",
       "  <thead>\n",
       "    <tr style=\"text-align: right;\">\n",
       "      <th></th>\n",
       "      <th>RecordID</th>\n",
       "      <th>Offense</th>\n",
       "      <th>IncidentID</th>\n",
       "      <th>BlockNumber</th>\n",
       "      <th>StreetName</th>\n",
       "      <th>Agency</th>\n",
       "      <th>HourReported</th>\n",
       "      <th>ReportingOfficer</th>\n",
       "      <th>Date</th>\n",
       "      <th>DateString</th>\n",
       "      <th>DayOfWeek</th>\n",
       "      <th>Weekend</th>\n",
       "      <th>Season</th>\n",
       "      <th>HourAMPM</th>\n",
       "      <th>TimeOfDay</th>\n",
       "      <th>FullStreet</th>\n",
       "      <th>lat</th>\n",
       "      <th>lon</th>\n",
       "    </tr>\n",
       "  </thead>\n",
       "  <tbody>\n",
       "    <tr>\n",
       "      <th>0</th>\n",
       "      <td>1</td>\n",
       "      <td>Assault Aggravated</td>\n",
       "      <td>202500011330</td>\n",
       "      <td>1300</td>\n",
       "      <td>CARLTON AVE, 5</td>\n",
       "      <td>CPD</td>\n",
       "      <td>2105</td>\n",
       "      <td>Vlasis, Christopher</td>\n",
       "      <td>2025-04-08 21:05:25</td>\n",
       "      <td>2025-04-08 09:05:25 PM</td>\n",
       "      <td>Tuesday</td>\n",
       "      <td>False</td>\n",
       "      <td>Spring</td>\n",
       "      <td>09:05 PM</td>\n",
       "      <td>Night</td>\n",
       "      <td>1300 CARLTON AVE, 5</td>\n",
       "      <td>38.022060</td>\n",
       "      <td>-78.469336</td>\n",
       "    </tr>\n",
       "    <tr>\n",
       "      <th>1</th>\n",
       "      <td>2</td>\n",
       "      <td>Hit and Run</td>\n",
       "      <td>202500011311</td>\n",
       "      <td>900</td>\n",
       "      <td>EMMET ST N</td>\n",
       "      <td>CPD</td>\n",
       "      <td>1751</td>\n",
       "      <td>Bland, Johnnà</td>\n",
       "      <td>2025-04-08 17:51:40</td>\n",
       "      <td>2025-04-08 05:51:40 PM</td>\n",
       "      <td>Tuesday</td>\n",
       "      <td>False</td>\n",
       "      <td>Spring</td>\n",
       "      <td>05:51 PM</td>\n",
       "      <td>Evening</td>\n",
       "      <td>900 EMMET ST N</td>\n",
       "      <td>38.048586</td>\n",
       "      <td>-78.502983</td>\n",
       "    </tr>\n",
       "    <tr>\n",
       "      <th>2</th>\n",
       "      <td>3</td>\n",
       "      <td>Forgery/Counterfeiting</td>\n",
       "      <td>202500011287</td>\n",
       "      <td>900</td>\n",
       "      <td>PRESTON AVE, 1</td>\n",
       "      <td>CPD</td>\n",
       "      <td>1428</td>\n",
       "      <td>Mcdougal, Jordan</td>\n",
       "      <td>2025-04-08 14:28:56</td>\n",
       "      <td>2025-04-08 02:28:56 PM</td>\n",
       "      <td>Tuesday</td>\n",
       "      <td>False</td>\n",
       "      <td>Spring</td>\n",
       "      <td>02:28 PM</td>\n",
       "      <td>Afternoon</td>\n",
       "      <td>900 PRESTON AVE, 1</td>\n",
       "      <td>38.037011</td>\n",
       "      <td>-78.489464</td>\n",
       "    </tr>\n",
       "    <tr>\n",
       "      <th>3</th>\n",
       "      <td>4</td>\n",
       "      <td>Drug Investigation</td>\n",
       "      <td>202500011277</td>\n",
       "      <td>1300</td>\n",
       "      <td>W MAIN ST, 424</td>\n",
       "      <td>CPD</td>\n",
       "      <td>1227</td>\n",
       "      <td>Nash, Darius</td>\n",
       "      <td>2025-04-08 12:27:02</td>\n",
       "      <td>2025-04-08 12:27:02 PM</td>\n",
       "      <td>Tuesday</td>\n",
       "      <td>False</td>\n",
       "      <td>Spring</td>\n",
       "      <td>12:27 PM</td>\n",
       "      <td>Afternoon</td>\n",
       "      <td>1300 W MAIN ST, 424</td>\n",
       "      <td>38.033288</td>\n",
       "      <td>-78.497940</td>\n",
       "    </tr>\n",
       "    <tr>\n",
       "      <th>4</th>\n",
       "      <td>5</td>\n",
       "      <td>Fraud-wire fraud</td>\n",
       "      <td>202500011275</td>\n",
       "      <td>2300</td>\n",
       "      <td>CRESTMONT AVE</td>\n",
       "      <td>CPD</td>\n",
       "      <td>1202</td>\n",
       "      <td>Wisser, Shawn</td>\n",
       "      <td>2025-04-08 12:02:52</td>\n",
       "      <td>2025-04-08 12:02:52 PM</td>\n",
       "      <td>Tuesday</td>\n",
       "      <td>False</td>\n",
       "      <td>Spring</td>\n",
       "      <td>12:02 PM</td>\n",
       "      <td>Afternoon</td>\n",
       "      <td>2300 CRESTMONT AVE</td>\n",
       "      <td>38.020937</td>\n",
       "      <td>-78.510119</td>\n",
       "    </tr>\n",
       "  </tbody>\n",
       "</table>\n",
       "</div>"
      ],
      "text/plain": [
       "   RecordID                 Offense    IncidentID BlockNumber      StreetName  \\\n",
       "0         1      Assault Aggravated  202500011330        1300  CARLTON AVE, 5   \n",
       "1         2             Hit and Run  202500011311         900      EMMET ST N   \n",
       "2         3  Forgery/Counterfeiting  202500011287         900  PRESTON AVE, 1   \n",
       "3         4      Drug Investigation  202500011277        1300  W MAIN ST, 424   \n",
       "4         5        Fraud-wire fraud  202500011275        2300   CRESTMONT AVE   \n",
       "\n",
       "  Agency HourReported     ReportingOfficer                Date  \\\n",
       "0    CPD         2105  Vlasis, Christopher 2025-04-08 21:05:25   \n",
       "1    CPD         1751        Bland, Johnnà 2025-04-08 17:51:40   \n",
       "2    CPD         1428     Mcdougal, Jordan 2025-04-08 14:28:56   \n",
       "3    CPD         1227         Nash, Darius 2025-04-08 12:27:02   \n",
       "4    CPD         1202        Wisser, Shawn 2025-04-08 12:02:52   \n",
       "\n",
       "               DateString DayOfWeek  Weekend  Season  HourAMPM  TimeOfDay  \\\n",
       "0  2025-04-08 09:05:25 PM   Tuesday    False  Spring  09:05 PM      Night   \n",
       "1  2025-04-08 05:51:40 PM   Tuesday    False  Spring  05:51 PM    Evening   \n",
       "2  2025-04-08 02:28:56 PM   Tuesday    False  Spring  02:28 PM  Afternoon   \n",
       "3  2025-04-08 12:27:02 PM   Tuesday    False  Spring  12:27 PM  Afternoon   \n",
       "4  2025-04-08 12:02:52 PM   Tuesday    False  Spring  12:02 PM  Afternoon   \n",
       "\n",
       "            FullStreet        lat        lon  \n",
       "0  1300 CARLTON AVE, 5  38.022060 -78.469336  \n",
       "1       900 EMMET ST N  38.048586 -78.502983  \n",
       "2   900 PRESTON AVE, 1  38.037011 -78.489464  \n",
       "3  1300 W MAIN ST, 424  38.033288 -78.497940  \n",
       "4   2300 CRESTMONT AVE  38.020937 -78.510119  "
      ]
     },
     "execution_count": 9,
     "metadata": {},
     "output_type": "execute_result"
    }
   ],
   "source": [
    "# Combine BlockNumber and StreetName into a full address string\n",
    "df['FullStreet'] = df['BlockNumber'].astype(str) + \" \" + df['StreetName']\n",
    "\n",
    "# --- Step 1: Setup the Google Maps Client and Cache ---\n",
    "gmaps = googlemaps.Client(key=GOOGLE_API_KEY)\n",
    "\n",
    "# Try to load cached geocoding results if available.\n",
    "try:\n",
    "    with open(\"geocode_cache_google.pkl\", \"rb\") as f:\n",
    "        street_coords = pickle.load(f)\n",
    "    print(\"Loaded geocode cache.\")\n",
    "except FileNotFoundError:\n",
    "    street_coords = {}\n",
    "    print(\"No cache found; starting fresh.\")\n",
    "\n",
    "def geocode_address(address):\n",
    "    try:\n",
    "        # Append city and state to help geocoding\n",
    "        result = gmaps.geocode(f\"{address}, Charlottesville, VA\")\n",
    "        if result:\n",
    "            lat = result[0]['geometry']['location']['lat']\n",
    "            lon = result[0]['geometry']['location']['lng']\n",
    "            return lat, lon\n",
    "    except Exception as e:\n",
    "        print(f\"Error geocoding {address}: {e}\")\n",
    "    return None, None\n",
    "\n",
    "# --- Step 2: Geocode Only New Addresses ---\n",
    "unique_addresses = df['FullStreet'].unique()\n",
    "for address in unique_addresses:\n",
    "    if address not in street_coords:\n",
    "        lat, lon = geocode_address(address)\n",
    "        street_coords[address] = (lat, lon)\n",
    "        print(f\"Geocoded {address}: {lat}, {lon}\")\n",
    "\n",
    "# Save the updated cache to disk.\n",
    "with open(\"geocode_cache_google.pkl\", \"wb\") as f:\n",
    "    pickle.dump(street_coords, f)\n",
    "    print(\"Geocode cache updated and saved.\")\n",
    "\n",
    "# --- Step 3: Map Coordinates Back to DataFrame ---\n",
    "df['lat'] = df['FullStreet'].map(lambda s: street_coords.get(s, (None, None))[0])\n",
    "df['lon'] = df['FullStreet'].map(lambda s: street_coords.get(s, (None, None))[1])\n",
    "\n",
    "df.head()"
   ]
  },
  {
   "cell_type": "markdown",
   "id": "f07bde16",
   "metadata": {
    "papermill": {
     "duration": 0.006316,
     "end_time": "2025-04-11T01:00:39.069645",
     "exception": false,
     "start_time": "2025-04-11T01:00:39.063329",
     "status": "completed"
    },
    "tags": []
   },
   "source": [
    "### Neighborhood"
   ]
  },
  {
   "cell_type": "code",
   "execution_count": 10,
   "id": "91b78b82",
   "metadata": {
    "execution": {
     "iopub.execute_input": "2025-04-11T01:00:39.083209Z",
     "iopub.status.busy": "2025-04-11T01:00:39.082943Z",
     "iopub.status.idle": "2025-04-11T01:00:39.351287Z",
     "shell.execute_reply": "2025-04-11T01:00:39.350713Z"
    },
    "papermill": {
     "duration": 0.276522,
     "end_time": "2025-04-11T01:00:39.352363",
     "exception": false,
     "start_time": "2025-04-11T01:00:39.075841",
     "status": "completed"
    },
    "tags": []
   },
   "outputs": [
    {
     "name": "stdout",
     "output_type": "stream",
     "text": [
      "Loaded neighborhood cache.\n"
     ]
    },
    {
     "data": {
      "text/html": [
       "<div>\n",
       "<style scoped>\n",
       "    .dataframe tbody tr th:only-of-type {\n",
       "        vertical-align: middle;\n",
       "    }\n",
       "\n",
       "    .dataframe tbody tr th {\n",
       "        vertical-align: top;\n",
       "    }\n",
       "\n",
       "    .dataframe thead th {\n",
       "        text-align: right;\n",
       "    }\n",
       "</style>\n",
       "<table border=\"1\" class=\"dataframe\">\n",
       "  <thead>\n",
       "    <tr style=\"text-align: right;\">\n",
       "      <th></th>\n",
       "      <th>RecordID</th>\n",
       "      <th>Offense</th>\n",
       "      <th>IncidentID</th>\n",
       "      <th>BlockNumber</th>\n",
       "      <th>StreetName</th>\n",
       "      <th>Agency</th>\n",
       "      <th>HourReported</th>\n",
       "      <th>ReportingOfficer</th>\n",
       "      <th>Date</th>\n",
       "      <th>DateString</th>\n",
       "      <th>DayOfWeek</th>\n",
       "      <th>Weekend</th>\n",
       "      <th>Season</th>\n",
       "      <th>HourAMPM</th>\n",
       "      <th>TimeOfDay</th>\n",
       "      <th>FullStreet</th>\n",
       "      <th>lat</th>\n",
       "      <th>lon</th>\n",
       "      <th>neighborhood</th>\n",
       "    </tr>\n",
       "  </thead>\n",
       "  <tbody>\n",
       "    <tr>\n",
       "      <th>0</th>\n",
       "      <td>1</td>\n",
       "      <td>Assault Aggravated</td>\n",
       "      <td>202500011330</td>\n",
       "      <td>1300</td>\n",
       "      <td>CARLTON AVE, 5</td>\n",
       "      <td>CPD</td>\n",
       "      <td>2105</td>\n",
       "      <td>Vlasis, Christopher</td>\n",
       "      <td>2025-04-08 21:05:25</td>\n",
       "      <td>2025-04-08 09:05:25 PM</td>\n",
       "      <td>Tuesday</td>\n",
       "      <td>False</td>\n",
       "      <td>Spring</td>\n",
       "      <td>09:05 PM</td>\n",
       "      <td>Night</td>\n",
       "      <td>1300 CARLTON AVE, 5</td>\n",
       "      <td>38.022060</td>\n",
       "      <td>-78.469336</td>\n",
       "      <td>Belmont</td>\n",
       "    </tr>\n",
       "    <tr>\n",
       "      <th>1</th>\n",
       "      <td>2</td>\n",
       "      <td>Hit and Run</td>\n",
       "      <td>202500011311</td>\n",
       "      <td>900</td>\n",
       "      <td>EMMET ST N</td>\n",
       "      <td>CPD</td>\n",
       "      <td>1751</td>\n",
       "      <td>Bland, Johnnà</td>\n",
       "      <td>2025-04-08 17:51:40</td>\n",
       "      <td>2025-04-08 05:51:40 PM</td>\n",
       "      <td>Tuesday</td>\n",
       "      <td>False</td>\n",
       "      <td>Spring</td>\n",
       "      <td>05:51 PM</td>\n",
       "      <td>Evening</td>\n",
       "      <td>900 EMMET ST N</td>\n",
       "      <td>38.048586</td>\n",
       "      <td>-78.502983</td>\n",
       "      <td>Venable</td>\n",
       "    </tr>\n",
       "    <tr>\n",
       "      <th>2</th>\n",
       "      <td>3</td>\n",
       "      <td>Forgery/Counterfeiting</td>\n",
       "      <td>202500011287</td>\n",
       "      <td>900</td>\n",
       "      <td>PRESTON AVE, 1</td>\n",
       "      <td>CPD</td>\n",
       "      <td>1428</td>\n",
       "      <td>Mcdougal, Jordan</td>\n",
       "      <td>2025-04-08 14:28:56</td>\n",
       "      <td>2025-04-08 02:28:56 PM</td>\n",
       "      <td>Tuesday</td>\n",
       "      <td>False</td>\n",
       "      <td>Spring</td>\n",
       "      <td>02:28 PM</td>\n",
       "      <td>Afternoon</td>\n",
       "      <td>900 PRESTON AVE, 1</td>\n",
       "      <td>38.037011</td>\n",
       "      <td>-78.489464</td>\n",
       "      <td>10th &amp; Page</td>\n",
       "    </tr>\n",
       "    <tr>\n",
       "      <th>3</th>\n",
       "      <td>4</td>\n",
       "      <td>Drug Investigation</td>\n",
       "      <td>202500011277</td>\n",
       "      <td>1300</td>\n",
       "      <td>W MAIN ST, 424</td>\n",
       "      <td>CPD</td>\n",
       "      <td>1227</td>\n",
       "      <td>Nash, Darius</td>\n",
       "      <td>2025-04-08 12:27:02</td>\n",
       "      <td>2025-04-08 12:27:02 PM</td>\n",
       "      <td>Tuesday</td>\n",
       "      <td>False</td>\n",
       "      <td>Spring</td>\n",
       "      <td>12:27 PM</td>\n",
       "      <td>Afternoon</td>\n",
       "      <td>1300 W MAIN ST, 424</td>\n",
       "      <td>38.033288</td>\n",
       "      <td>-78.497940</td>\n",
       "      <td>Venable</td>\n",
       "    </tr>\n",
       "    <tr>\n",
       "      <th>4</th>\n",
       "      <td>5</td>\n",
       "      <td>Fraud-wire fraud</td>\n",
       "      <td>202500011275</td>\n",
       "      <td>2300</td>\n",
       "      <td>CRESTMONT AVE</td>\n",
       "      <td>CPD</td>\n",
       "      <td>1202</td>\n",
       "      <td>Wisser, Shawn</td>\n",
       "      <td>2025-04-08 12:02:52</td>\n",
       "      <td>2025-04-08 12:02:52 PM</td>\n",
       "      <td>Tuesday</td>\n",
       "      <td>False</td>\n",
       "      <td>Spring</td>\n",
       "      <td>12:02 PM</td>\n",
       "      <td>Afternoon</td>\n",
       "      <td>2300 CRESTMONT AVE</td>\n",
       "      <td>38.020937</td>\n",
       "      <td>-78.510119</td>\n",
       "      <td>Fry's Spring</td>\n",
       "    </tr>\n",
       "  </tbody>\n",
       "</table>\n",
       "</div>"
      ],
      "text/plain": [
       "   RecordID                 Offense    IncidentID BlockNumber      StreetName  \\\n",
       "0         1      Assault Aggravated  202500011330        1300  CARLTON AVE, 5   \n",
       "1         2             Hit and Run  202500011311         900      EMMET ST N   \n",
       "2         3  Forgery/Counterfeiting  202500011287         900  PRESTON AVE, 1   \n",
       "3         4      Drug Investigation  202500011277        1300  W MAIN ST, 424   \n",
       "4         5        Fraud-wire fraud  202500011275        2300   CRESTMONT AVE   \n",
       "\n",
       "  Agency HourReported     ReportingOfficer                Date  \\\n",
       "0    CPD         2105  Vlasis, Christopher 2025-04-08 21:05:25   \n",
       "1    CPD         1751        Bland, Johnnà 2025-04-08 17:51:40   \n",
       "2    CPD         1428     Mcdougal, Jordan 2025-04-08 14:28:56   \n",
       "3    CPD         1227         Nash, Darius 2025-04-08 12:27:02   \n",
       "4    CPD         1202        Wisser, Shawn 2025-04-08 12:02:52   \n",
       "\n",
       "               DateString DayOfWeek  Weekend  Season  HourAMPM  TimeOfDay  \\\n",
       "0  2025-04-08 09:05:25 PM   Tuesday    False  Spring  09:05 PM      Night   \n",
       "1  2025-04-08 05:51:40 PM   Tuesday    False  Spring  05:51 PM    Evening   \n",
       "2  2025-04-08 02:28:56 PM   Tuesday    False  Spring  02:28 PM  Afternoon   \n",
       "3  2025-04-08 12:27:02 PM   Tuesday    False  Spring  12:27 PM  Afternoon   \n",
       "4  2025-04-08 12:02:52 PM   Tuesday    False  Spring  12:02 PM  Afternoon   \n",
       "\n",
       "            FullStreet        lat        lon  neighborhood  \n",
       "0  1300 CARLTON AVE, 5  38.022060 -78.469336       Belmont  \n",
       "1       900 EMMET ST N  38.048586 -78.502983       Venable  \n",
       "2   900 PRESTON AVE, 1  38.037011 -78.489464   10th & Page  \n",
       "3  1300 W MAIN ST, 424  38.033288 -78.497940       Venable  \n",
       "4   2300 CRESTMONT AVE  38.020937 -78.510119  Fry's Spring  "
      ]
     },
     "execution_count": 10,
     "metadata": {},
     "output_type": "execute_result"
    }
   ],
   "source": [
    "# Initialize the Google Maps client.\n",
    "gmaps = googlemaps.Client(key=GOOGLE_API_KEY)\n",
    "\n",
    "# Try to load a persistent neighborhood cache if available.\n",
    "try:\n",
    "    with open(\"neighborhood_cache.pkl\", \"rb\") as f:\n",
    "        neighborhood_cache = pickle.load(f)\n",
    "    print(\"Loaded neighborhood cache.\")\n",
    "except FileNotFoundError:\n",
    "    neighborhood_cache = {}\n",
    "    print(\"No neighborhood cache found; starting fresh.\")\n",
    "\n",
    "def get_neighborhood(lat, lon):\n",
    "    \"\"\"\n",
    "    Reverse geocodes a latitude and longitude to retrieve the neighborhood.\n",
    "    Caches results to speed up subsequent lookups.\n",
    "    \"\"\"\n",
    "    key = (lat, lon)\n",
    "    if key in neighborhood_cache:\n",
    "        return neighborhood_cache[key]\n",
    "    \n",
    "    try:\n",
    "        result = gmaps.reverse_geocode((lat, lon))\n",
    "        if result:\n",
    "            # Look for the 'neighborhood' component in the first result.\n",
    "            for component in result[0]['address_components']:\n",
    "                if 'neighborhood' in component['types']:\n",
    "                    neighborhood = component['long_name']\n",
    "                    neighborhood_cache[key] = neighborhood\n",
    "                    return neighborhood\n",
    "            # If no neighborhood is found, return \"N/A\"\n",
    "            neighborhood_cache[key] = \"N/A\"\n",
    "            return \"N/A\"\n",
    "    except Exception as e:\n",
    "        print(f\"Error getting neighborhood for {lat}, {lon}: {e}\")\n",
    "        return \"N/A\"\n",
    "    \n",
    "    # Pause to respect usage limits.\n",
    "    time.sleep(1)\n",
    "\n",
    "# Example usage: Apply to your DataFrame 'df' that already has 'lat' and 'lon' columns.\n",
    "df['neighborhood'] = df.apply(lambda row: get_neighborhood(row['lat'], row['lon']), axis=1)\n",
    "\n",
    "# Save the updated neighborhood cache.\n",
    "with open(\"neighborhood_cache.pkl\", \"wb\") as f:\n",
    "    pickle.dump(neighborhood_cache, f)\n",
    "\n",
    "df.head()\n"
   ]
  },
  {
   "cell_type": "markdown",
   "id": "cc3f9838",
   "metadata": {
    "papermill": {
     "duration": 0.006612,
     "end_time": "2025-04-11T01:00:39.365938",
     "exception": false,
     "start_time": "2025-04-11T01:00:39.359326",
     "status": "completed"
    },
    "tags": []
   },
   "source": [
    "### Zip"
   ]
  },
  {
   "cell_type": "code",
   "execution_count": 11,
   "id": "6d970e60",
   "metadata": {
    "execution": {
     "iopub.execute_input": "2025-04-11T01:00:39.380038Z",
     "iopub.status.busy": "2025-04-11T01:00:39.379807Z",
     "iopub.status.idle": "2025-04-11T01:00:39.626607Z",
     "shell.execute_reply": "2025-04-11T01:00:39.626018Z"
    },
    "papermill": {
     "duration": 0.255155,
     "end_time": "2025-04-11T01:00:39.627637",
     "exception": false,
     "start_time": "2025-04-11T01:00:39.372482",
     "status": "completed"
    },
    "tags": []
   },
   "outputs": [
    {
     "name": "stdout",
     "output_type": "stream",
     "text": [
      "Loaded zip cache.\n"
     ]
    },
    {
     "data": {
      "text/html": [
       "<div>\n",
       "<style scoped>\n",
       "    .dataframe tbody tr th:only-of-type {\n",
       "        vertical-align: middle;\n",
       "    }\n",
       "\n",
       "    .dataframe tbody tr th {\n",
       "        vertical-align: top;\n",
       "    }\n",
       "\n",
       "    .dataframe thead th {\n",
       "        text-align: right;\n",
       "    }\n",
       "</style>\n",
       "<table border=\"1\" class=\"dataframe\">\n",
       "  <thead>\n",
       "    <tr style=\"text-align: right;\">\n",
       "      <th></th>\n",
       "      <th>RecordID</th>\n",
       "      <th>Offense</th>\n",
       "      <th>IncidentID</th>\n",
       "      <th>BlockNumber</th>\n",
       "      <th>StreetName</th>\n",
       "      <th>Agency</th>\n",
       "      <th>HourReported</th>\n",
       "      <th>ReportingOfficer</th>\n",
       "      <th>Date</th>\n",
       "      <th>DateString</th>\n",
       "      <th>DayOfWeek</th>\n",
       "      <th>Weekend</th>\n",
       "      <th>Season</th>\n",
       "      <th>HourAMPM</th>\n",
       "      <th>TimeOfDay</th>\n",
       "      <th>FullStreet</th>\n",
       "      <th>lat</th>\n",
       "      <th>lon</th>\n",
       "      <th>neighborhood</th>\n",
       "      <th>zip</th>\n",
       "    </tr>\n",
       "  </thead>\n",
       "  <tbody>\n",
       "    <tr>\n",
       "      <th>0</th>\n",
       "      <td>1</td>\n",
       "      <td>Assault Aggravated</td>\n",
       "      <td>202500011330</td>\n",
       "      <td>1300</td>\n",
       "      <td>CARLTON AVE, 5</td>\n",
       "      <td>CPD</td>\n",
       "      <td>2105</td>\n",
       "      <td>Vlasis, Christopher</td>\n",
       "      <td>2025-04-08 21:05:25</td>\n",
       "      <td>2025-04-08 09:05:25 PM</td>\n",
       "      <td>Tuesday</td>\n",
       "      <td>False</td>\n",
       "      <td>Spring</td>\n",
       "      <td>09:05 PM</td>\n",
       "      <td>Night</td>\n",
       "      <td>1300 CARLTON AVE, 5</td>\n",
       "      <td>38.022060</td>\n",
       "      <td>-78.469336</td>\n",
       "      <td>Belmont</td>\n",
       "      <td>22902</td>\n",
       "    </tr>\n",
       "    <tr>\n",
       "      <th>1</th>\n",
       "      <td>2</td>\n",
       "      <td>Hit and Run</td>\n",
       "      <td>202500011311</td>\n",
       "      <td>900</td>\n",
       "      <td>EMMET ST N</td>\n",
       "      <td>CPD</td>\n",
       "      <td>1751</td>\n",
       "      <td>Bland, Johnnà</td>\n",
       "      <td>2025-04-08 17:51:40</td>\n",
       "      <td>2025-04-08 05:51:40 PM</td>\n",
       "      <td>Tuesday</td>\n",
       "      <td>False</td>\n",
       "      <td>Spring</td>\n",
       "      <td>05:51 PM</td>\n",
       "      <td>Evening</td>\n",
       "      <td>900 EMMET ST N</td>\n",
       "      <td>38.048586</td>\n",
       "      <td>-78.502983</td>\n",
       "      <td>Venable</td>\n",
       "      <td>22903</td>\n",
       "    </tr>\n",
       "    <tr>\n",
       "      <th>2</th>\n",
       "      <td>3</td>\n",
       "      <td>Forgery/Counterfeiting</td>\n",
       "      <td>202500011287</td>\n",
       "      <td>900</td>\n",
       "      <td>PRESTON AVE, 1</td>\n",
       "      <td>CPD</td>\n",
       "      <td>1428</td>\n",
       "      <td>Mcdougal, Jordan</td>\n",
       "      <td>2025-04-08 14:28:56</td>\n",
       "      <td>2025-04-08 02:28:56 PM</td>\n",
       "      <td>Tuesday</td>\n",
       "      <td>False</td>\n",
       "      <td>Spring</td>\n",
       "      <td>02:28 PM</td>\n",
       "      <td>Afternoon</td>\n",
       "      <td>900 PRESTON AVE, 1</td>\n",
       "      <td>38.037011</td>\n",
       "      <td>-78.489464</td>\n",
       "      <td>10th &amp; Page</td>\n",
       "      <td>22903</td>\n",
       "    </tr>\n",
       "    <tr>\n",
       "      <th>3</th>\n",
       "      <td>4</td>\n",
       "      <td>Drug Investigation</td>\n",
       "      <td>202500011277</td>\n",
       "      <td>1300</td>\n",
       "      <td>W MAIN ST, 424</td>\n",
       "      <td>CPD</td>\n",
       "      <td>1227</td>\n",
       "      <td>Nash, Darius</td>\n",
       "      <td>2025-04-08 12:27:02</td>\n",
       "      <td>2025-04-08 12:27:02 PM</td>\n",
       "      <td>Tuesday</td>\n",
       "      <td>False</td>\n",
       "      <td>Spring</td>\n",
       "      <td>12:27 PM</td>\n",
       "      <td>Afternoon</td>\n",
       "      <td>1300 W MAIN ST, 424</td>\n",
       "      <td>38.033288</td>\n",
       "      <td>-78.497940</td>\n",
       "      <td>Venable</td>\n",
       "      <td>22903</td>\n",
       "    </tr>\n",
       "    <tr>\n",
       "      <th>4</th>\n",
       "      <td>5</td>\n",
       "      <td>Fraud-wire fraud</td>\n",
       "      <td>202500011275</td>\n",
       "      <td>2300</td>\n",
       "      <td>CRESTMONT AVE</td>\n",
       "      <td>CPD</td>\n",
       "      <td>1202</td>\n",
       "      <td>Wisser, Shawn</td>\n",
       "      <td>2025-04-08 12:02:52</td>\n",
       "      <td>2025-04-08 12:02:52 PM</td>\n",
       "      <td>Tuesday</td>\n",
       "      <td>False</td>\n",
       "      <td>Spring</td>\n",
       "      <td>12:02 PM</td>\n",
       "      <td>Afternoon</td>\n",
       "      <td>2300 CRESTMONT AVE</td>\n",
       "      <td>38.020937</td>\n",
       "      <td>-78.510119</td>\n",
       "      <td>Fry's Spring</td>\n",
       "      <td>22903</td>\n",
       "    </tr>\n",
       "  </tbody>\n",
       "</table>\n",
       "</div>"
      ],
      "text/plain": [
       "   RecordID                 Offense    IncidentID BlockNumber      StreetName  \\\n",
       "0         1      Assault Aggravated  202500011330        1300  CARLTON AVE, 5   \n",
       "1         2             Hit and Run  202500011311         900      EMMET ST N   \n",
       "2         3  Forgery/Counterfeiting  202500011287         900  PRESTON AVE, 1   \n",
       "3         4      Drug Investigation  202500011277        1300  W MAIN ST, 424   \n",
       "4         5        Fraud-wire fraud  202500011275        2300   CRESTMONT AVE   \n",
       "\n",
       "  Agency HourReported     ReportingOfficer                Date  \\\n",
       "0    CPD         2105  Vlasis, Christopher 2025-04-08 21:05:25   \n",
       "1    CPD         1751        Bland, Johnnà 2025-04-08 17:51:40   \n",
       "2    CPD         1428     Mcdougal, Jordan 2025-04-08 14:28:56   \n",
       "3    CPD         1227         Nash, Darius 2025-04-08 12:27:02   \n",
       "4    CPD         1202        Wisser, Shawn 2025-04-08 12:02:52   \n",
       "\n",
       "               DateString DayOfWeek  Weekend  Season  HourAMPM  TimeOfDay  \\\n",
       "0  2025-04-08 09:05:25 PM   Tuesday    False  Spring  09:05 PM      Night   \n",
       "1  2025-04-08 05:51:40 PM   Tuesday    False  Spring  05:51 PM    Evening   \n",
       "2  2025-04-08 02:28:56 PM   Tuesday    False  Spring  02:28 PM  Afternoon   \n",
       "3  2025-04-08 12:27:02 PM   Tuesday    False  Spring  12:27 PM  Afternoon   \n",
       "4  2025-04-08 12:02:52 PM   Tuesday    False  Spring  12:02 PM  Afternoon   \n",
       "\n",
       "            FullStreet        lat        lon  neighborhood    zip  \n",
       "0  1300 CARLTON AVE, 5  38.022060 -78.469336       Belmont  22902  \n",
       "1       900 EMMET ST N  38.048586 -78.502983       Venable  22903  \n",
       "2   900 PRESTON AVE, 1  38.037011 -78.489464   10th & Page  22903  \n",
       "3  1300 W MAIN ST, 424  38.033288 -78.497940       Venable  22903  \n",
       "4   2300 CRESTMONT AVE  38.020937 -78.510119  Fry's Spring  22903  "
      ]
     },
     "execution_count": 11,
     "metadata": {},
     "output_type": "execute_result"
    }
   ],
   "source": [
    "# Initialize the geocoder.\n",
    "geolocator = Nominatim(user_agent=\"zip_lookup\")\n",
    "\n",
    "# Try to load a persistent ZIP cache if available.\n",
    "try:\n",
    "    with open(\"zip_cache.pkl\", \"rb\") as f:\n",
    "        zip_cache = pickle.load(f)\n",
    "    print(\"Loaded zip cache.\")\n",
    "except FileNotFoundError:\n",
    "    zip_cache = {}\n",
    "    print(\"No zip cache found; starting fresh.\")\n",
    "\n",
    "def get_zip(lat, lon):\n",
    "    \"\"\"\n",
    "    Reverse geocodes a latitude and longitude to retrieve the ZIP code.\n",
    "    Caches results to speed up subsequent lookups.\n",
    "    \"\"\"\n",
    "    key = (lat, lon)\n",
    "    if key in zip_cache:\n",
    "        return zip_cache[key]\n",
    "    \n",
    "    try:\n",
    "        location = geolocator.reverse((lat, lon), exactly_one=True, timeout=10)\n",
    "        address = location.raw.get('address', {})\n",
    "        postal_code = address.get('postcode', \"N/A\")\n",
    "    except Exception as e:\n",
    "        print(f\"Error getting ZIP for {lat}, {lon}: {e}\")\n",
    "        postal_code = \"N/A\"\n",
    "    \n",
    "    zip_cache[key] = postal_code\n",
    "    # Pause to respect the usage policy.\n",
    "    time.sleep(1)\n",
    "    return postal_code\n",
    "\n",
    "# Apply the function to each row in the DataFrame.\n",
    "df['zip'] = df.apply(lambda row: get_zip(row['lat'], row['lon']), axis=1)\n",
    "\n",
    "# Save the updated ZIP cache.\n",
    "with open(\"zip_cache.pkl\", \"wb\") as f:\n",
    "    pickle.dump(zip_cache, f)\n",
    "\n",
    "df.head()\n"
   ]
  },
  {
   "cell_type": "code",
   "execution_count": 12,
   "id": "6dab3f85",
   "metadata": {
    "execution": {
     "iopub.execute_input": "2025-04-11T01:00:39.642794Z",
     "iopub.status.busy": "2025-04-11T01:00:39.642344Z",
     "iopub.status.idle": "2025-04-11T01:00:39.669940Z",
     "shell.execute_reply": "2025-04-11T01:00:39.669357Z"
    },
    "papermill": {
     "duration": 0.036137,
     "end_time": "2025-04-11T01:00:39.670952",
     "exception": false,
     "start_time": "2025-04-11T01:00:39.634815",
     "status": "completed"
    },
    "tags": []
   },
   "outputs": [
    {
     "name": "stdout",
     "output_type": "stream",
     "text": [
      "                  MissingCount  MissingPercentage\n",
      "RecordID                     0               0.00\n",
      "Offense                      0               0.00\n",
      "IncidentID                   0               0.00\n",
      "BlockNumber                  0               0.00\n",
      "StreetName                   0               0.00\n",
      "Agency                       0               0.00\n",
      "HourReported                 0               0.00\n",
      "ReportingOfficer            17               0.07\n",
      "Date                         0               0.00\n",
      "DateString                   0               0.00\n",
      "DayOfWeek                    0               0.00\n",
      "Weekend                      0               0.00\n",
      "Season                       0               0.00\n",
      "HourAMPM                     0               0.00\n",
      "TimeOfDay                    0               0.00\n",
      "FullStreet                   0               0.00\n",
      "lat                          0               0.00\n",
      "lon                          0               0.00\n",
      "neighborhood                 0               0.00\n",
      "zip                          0               0.00\n"
     ]
    }
   ],
   "source": [
    "missing_info = missing_percentage(df)\n",
    "print(missing_info)\n"
   ]
  },
  {
   "cell_type": "code",
   "execution_count": 13,
   "id": "ee8581aa",
   "metadata": {
    "execution": {
     "iopub.execute_input": "2025-04-11T01:00:39.685994Z",
     "iopub.status.busy": "2025-04-11T01:00:39.685532Z",
     "iopub.status.idle": "2025-04-11T01:00:39.712331Z",
     "shell.execute_reply": "2025-04-11T01:00:39.711648Z"
    },
    "papermill": {
     "duration": 0.035489,
     "end_time": "2025-04-11T01:00:39.713481",
     "exception": false,
     "start_time": "2025-04-11T01:00:39.677992",
     "status": "completed"
    },
    "tags": []
   },
   "outputs": [
    {
     "name": "stdout",
     "output_type": "stream",
     "text": [
      "<class 'pandas.core.frame.DataFrame'>\n",
      "RangeIndex: 25135 entries, 0 to 25134\n",
      "Data columns (total 20 columns):\n",
      " #   Column            Non-Null Count  Dtype         \n",
      "---  ------            --------------  -----         \n",
      " 0   RecordID          25135 non-null  int64         \n",
      " 1   Offense           25135 non-null  object        \n",
      " 2   IncidentID        25135 non-null  object        \n",
      " 3   BlockNumber       25135 non-null  object        \n",
      " 4   StreetName        25135 non-null  object        \n",
      " 5   Agency            25135 non-null  object        \n",
      " 6   HourReported      25135 non-null  object        \n",
      " 7   ReportingOfficer  25118 non-null  object        \n",
      " 8   Date              25135 non-null  datetime64[ns]\n",
      " 9   DateString        25135 non-null  object        \n",
      " 10  DayOfWeek         25135 non-null  object        \n",
      " 11  Weekend           25135 non-null  bool          \n",
      " 12  Season            25135 non-null  object        \n",
      " 13  HourAMPM          25135 non-null  object        \n",
      " 14  TimeOfDay         25135 non-null  object        \n",
      " 15  FullStreet        25135 non-null  object        \n",
      " 16  lat               25135 non-null  float64       \n",
      " 17  lon               25135 non-null  float64       \n",
      " 18  neighborhood      25135 non-null  object        \n",
      " 19  zip               25135 non-null  object        \n",
      "dtypes: bool(1), datetime64[ns](1), float64(2), int64(1), object(15)\n",
      "memory usage: 3.7+ MB\n"
     ]
    }
   ],
   "source": [
    "df.info()"
   ]
  },
  {
   "cell_type": "code",
   "execution_count": 14,
   "id": "2e1101a9",
   "metadata": {
    "execution": {
     "iopub.execute_input": "2025-04-11T01:00:39.729139Z",
     "iopub.status.busy": "2025-04-11T01:00:39.728615Z",
     "iopub.status.idle": "2025-04-11T01:00:39.770822Z",
     "shell.execute_reply": "2025-04-11T01:00:39.770061Z"
    },
    "papermill": {
     "duration": 0.051152,
     "end_time": "2025-04-11T01:00:39.771967",
     "exception": false,
     "start_time": "2025-04-11T01:00:39.720815",
     "status": "completed"
    },
    "tags": []
   },
   "outputs": [
    {
     "data": {
      "text/html": [
       "<div>\n",
       "<style scoped>\n",
       "    .dataframe tbody tr th:only-of-type {\n",
       "        vertical-align: middle;\n",
       "    }\n",
       "\n",
       "    .dataframe tbody tr th {\n",
       "        vertical-align: top;\n",
       "    }\n",
       "\n",
       "    .dataframe thead th {\n",
       "        text-align: right;\n",
       "    }\n",
       "</style>\n",
       "<table border=\"1\" class=\"dataframe\">\n",
       "  <thead>\n",
       "    <tr style=\"text-align: right;\">\n",
       "      <th></th>\n",
       "      <th>RecordID</th>\n",
       "      <th>Offense</th>\n",
       "      <th>IncidentID</th>\n",
       "      <th>Agency</th>\n",
       "      <th>ReportingOfficer</th>\n",
       "      <th>Date</th>\n",
       "      <th>DayOfWeek</th>\n",
       "      <th>Weekend</th>\n",
       "      <th>Season</th>\n",
       "      <th>TimeOfDay</th>\n",
       "      <th>FullStreet</th>\n",
       "      <th>lat</th>\n",
       "      <th>lon</th>\n",
       "      <th>neighborhood</th>\n",
       "      <th>zip</th>\n",
       "    </tr>\n",
       "  </thead>\n",
       "  <tbody>\n",
       "    <tr>\n",
       "      <th>0</th>\n",
       "      <td>1</td>\n",
       "      <td>Assault Aggravated</td>\n",
       "      <td>202500011330</td>\n",
       "      <td>CPD</td>\n",
       "      <td>Vlasis, Christopher</td>\n",
       "      <td>2025-04-08 21:05:25</td>\n",
       "      <td>Tuesday</td>\n",
       "      <td>False</td>\n",
       "      <td>Spring</td>\n",
       "      <td>Night</td>\n",
       "      <td>1300 CARLTON AVE, 5</td>\n",
       "      <td>38.022060</td>\n",
       "      <td>-78.469336</td>\n",
       "      <td>Belmont</td>\n",
       "      <td>22902</td>\n",
       "    </tr>\n",
       "    <tr>\n",
       "      <th>1</th>\n",
       "      <td>2</td>\n",
       "      <td>Hit and Run</td>\n",
       "      <td>202500011311</td>\n",
       "      <td>CPD</td>\n",
       "      <td>Bland, Johnnà</td>\n",
       "      <td>2025-04-08 17:51:40</td>\n",
       "      <td>Tuesday</td>\n",
       "      <td>False</td>\n",
       "      <td>Spring</td>\n",
       "      <td>Evening</td>\n",
       "      <td>900 EMMET ST N</td>\n",
       "      <td>38.048586</td>\n",
       "      <td>-78.502983</td>\n",
       "      <td>Venable</td>\n",
       "      <td>22903</td>\n",
       "    </tr>\n",
       "    <tr>\n",
       "      <th>2</th>\n",
       "      <td>3</td>\n",
       "      <td>Forgery/Counterfeiting</td>\n",
       "      <td>202500011287</td>\n",
       "      <td>CPD</td>\n",
       "      <td>Mcdougal, Jordan</td>\n",
       "      <td>2025-04-08 14:28:56</td>\n",
       "      <td>Tuesday</td>\n",
       "      <td>False</td>\n",
       "      <td>Spring</td>\n",
       "      <td>Afternoon</td>\n",
       "      <td>900 PRESTON AVE, 1</td>\n",
       "      <td>38.037011</td>\n",
       "      <td>-78.489464</td>\n",
       "      <td>10th &amp; Page</td>\n",
       "      <td>22903</td>\n",
       "    </tr>\n",
       "    <tr>\n",
       "      <th>3</th>\n",
       "      <td>4</td>\n",
       "      <td>Drug Investigation</td>\n",
       "      <td>202500011277</td>\n",
       "      <td>CPD</td>\n",
       "      <td>Nash, Darius</td>\n",
       "      <td>2025-04-08 12:27:02</td>\n",
       "      <td>Tuesday</td>\n",
       "      <td>False</td>\n",
       "      <td>Spring</td>\n",
       "      <td>Afternoon</td>\n",
       "      <td>1300 W MAIN ST, 424</td>\n",
       "      <td>38.033288</td>\n",
       "      <td>-78.497940</td>\n",
       "      <td>Venable</td>\n",
       "      <td>22903</td>\n",
       "    </tr>\n",
       "    <tr>\n",
       "      <th>4</th>\n",
       "      <td>5</td>\n",
       "      <td>Fraud-wire fraud</td>\n",
       "      <td>202500011275</td>\n",
       "      <td>CPD</td>\n",
       "      <td>Wisser, Shawn</td>\n",
       "      <td>2025-04-08 12:02:52</td>\n",
       "      <td>Tuesday</td>\n",
       "      <td>False</td>\n",
       "      <td>Spring</td>\n",
       "      <td>Afternoon</td>\n",
       "      <td>2300 CRESTMONT AVE</td>\n",
       "      <td>38.020937</td>\n",
       "      <td>-78.510119</td>\n",
       "      <td>Fry's Spring</td>\n",
       "      <td>22903</td>\n",
       "    </tr>\n",
       "  </tbody>\n",
       "</table>\n",
       "</div>"
      ],
      "text/plain": [
       "   RecordID                 Offense    IncidentID Agency     ReportingOfficer  \\\n",
       "0         1      Assault Aggravated  202500011330    CPD  Vlasis, Christopher   \n",
       "1         2             Hit and Run  202500011311    CPD        Bland, Johnnà   \n",
       "2         3  Forgery/Counterfeiting  202500011287    CPD     Mcdougal, Jordan   \n",
       "3         4      Drug Investigation  202500011277    CPD         Nash, Darius   \n",
       "4         5        Fraud-wire fraud  202500011275    CPD        Wisser, Shawn   \n",
       "\n",
       "                 Date DayOfWeek  Weekend  Season  TimeOfDay  \\\n",
       "0 2025-04-08 21:05:25   Tuesday    False  Spring      Night   \n",
       "1 2025-04-08 17:51:40   Tuesday    False  Spring    Evening   \n",
       "2 2025-04-08 14:28:56   Tuesday    False  Spring  Afternoon   \n",
       "3 2025-04-08 12:27:02   Tuesday    False  Spring  Afternoon   \n",
       "4 2025-04-08 12:02:52   Tuesday    False  Spring  Afternoon   \n",
       "\n",
       "            FullStreet        lat        lon  neighborhood    zip  \n",
       "0  1300 CARLTON AVE, 5  38.022060 -78.469336       Belmont  22902  \n",
       "1       900 EMMET ST N  38.048586 -78.502983       Venable  22903  \n",
       "2   900 PRESTON AVE, 1  38.037011 -78.489464   10th & Page  22903  \n",
       "3  1300 W MAIN ST, 424  38.033288 -78.497940       Venable  22903  \n",
       "4   2300 CRESTMONT AVE  38.020937 -78.510119  Fry's Spring  22903  "
      ]
     },
     "execution_count": 14,
     "metadata": {},
     "output_type": "execute_result"
    }
   ],
   "source": [
    "# Now drop the original BlockNumber and StreetName columns\n",
    "df.drop(columns=['BlockNumber', 'StreetName','HourAMPM','HourReported','DateString'], inplace=True)\n",
    "df[\"zip\"] = df[\"zip\"].astype(str)\n",
    "\n",
    "# Fill all missing values in the DataFrame with \"N/A\"\n",
    "df.replace({None: \"N/A\", np.nan: \"N/A\", \"\": \"N/A\"}, inplace=True)\n",
    "df.head()"
   ]
  },
  {
   "cell_type": "code",
   "execution_count": 15,
   "id": "feb08f0a",
   "metadata": {
    "execution": {
     "iopub.execute_input": "2025-04-11T01:00:39.788035Z",
     "iopub.status.busy": "2025-04-11T01:00:39.787618Z",
     "iopub.status.idle": "2025-04-11T01:00:39.804984Z",
     "shell.execute_reply": "2025-04-11T01:00:39.804457Z"
    },
    "papermill": {
     "duration": 0.02637,
     "end_time": "2025-04-11T01:00:39.805989",
     "exception": false,
     "start_time": "2025-04-11T01:00:39.779619",
     "status": "completed"
    },
    "tags": []
   },
   "outputs": [
    {
     "name": "stdout",
     "output_type": "stream",
     "text": [
      "                  MissingCount  MissingPercentage\n",
      "RecordID                     0                0.0\n",
      "Offense                      0                0.0\n",
      "IncidentID                   0                0.0\n",
      "Agency                       0                0.0\n",
      "ReportingOfficer             0                0.0\n",
      "Date                         0                0.0\n",
      "DayOfWeek                    0                0.0\n",
      "Weekend                      0                0.0\n",
      "Season                       0                0.0\n",
      "TimeOfDay                    0                0.0\n",
      "FullStreet                   0                0.0\n",
      "lat                          0                0.0\n",
      "lon                          0                0.0\n",
      "neighborhood                 0                0.0\n",
      "zip                          0                0.0\n"
     ]
    }
   ],
   "source": [
    "missing_info = missing_percentage(df)\n",
    "print(missing_info)"
   ]
  },
  {
   "cell_type": "code",
   "execution_count": 16,
   "id": "c51bc6ec",
   "metadata": {
    "execution": {
     "iopub.execute_input": "2025-04-11T01:00:39.821968Z",
     "iopub.status.busy": "2025-04-11T01:00:39.821448Z",
     "iopub.status.idle": "2025-04-11T01:00:39.826057Z",
     "shell.execute_reply": "2025-04-11T01:00:39.825402Z"
    },
    "papermill": {
     "duration": 0.01351,
     "end_time": "2025-04-11T01:00:39.827049",
     "exception": false,
     "start_time": "2025-04-11T01:00:39.813539",
     "status": "completed"
    },
    "tags": []
   },
   "outputs": [
    {
     "data": {
      "text/plain": [
       "Index(['RecordID', 'Offense', 'IncidentID', 'Agency', 'ReportingOfficer',\n",
       "       'Date', 'DayOfWeek', 'Weekend', 'Season', 'TimeOfDay', 'FullStreet',\n",
       "       'lat', 'lon', 'neighborhood', 'zip'],\n",
       "      dtype='object')"
      ]
     },
     "execution_count": 16,
     "metadata": {},
     "output_type": "execute_result"
    }
   ],
   "source": [
    "df.columns"
   ]
  },
  {
   "cell_type": "code",
   "execution_count": 17,
   "id": "212b37f8",
   "metadata": {
    "execution": {
     "iopub.execute_input": "2025-04-11T01:00:39.842663Z",
     "iopub.status.busy": "2025-04-11T01:00:39.842483Z",
     "iopub.status.idle": "2025-04-11T01:00:39.861773Z",
     "shell.execute_reply": "2025-04-11T01:00:39.861200Z"
    },
    "papermill": {
     "duration": 0.028222,
     "end_time": "2025-04-11T01:00:39.862765",
     "exception": false,
     "start_time": "2025-04-11T01:00:39.834543",
     "status": "completed"
    },
    "tags": []
   },
   "outputs": [
    {
     "name": "stdout",
     "output_type": "stream",
     "text": [
      "<class 'pandas.core.frame.DataFrame'>\n",
      "RangeIndex: 25135 entries, 0 to 25134\n",
      "Data columns (total 15 columns):\n",
      " #   Column            Non-Null Count  Dtype         \n",
      "---  ------            --------------  -----         \n",
      " 0   RecordID          25135 non-null  int64         \n",
      " 1   Offense           25135 non-null  object        \n",
      " 2   IncidentID        25135 non-null  object        \n",
      " 3   Agency            25135 non-null  object        \n",
      " 4   ReportingOfficer  25135 non-null  object        \n",
      " 5   Date              25135 non-null  datetime64[ns]\n",
      " 6   DayOfWeek         25135 non-null  object        \n",
      " 7   Weekend           25135 non-null  bool          \n",
      " 8   Season            25135 non-null  object        \n",
      " 9   TimeOfDay         25135 non-null  object        \n",
      " 10  FullStreet        25135 non-null  object        \n",
      " 11  lat               25135 non-null  float64       \n",
      " 12  lon               25135 non-null  float64       \n",
      " 13  neighborhood      25135 non-null  object        \n",
      " 14  zip               25135 non-null  object        \n",
      "dtypes: bool(1), datetime64[ns](1), float64(2), int64(1), object(10)\n",
      "memory usage: 2.7+ MB\n"
     ]
    }
   ],
   "source": [
    "df.info()"
   ]
  },
  {
   "cell_type": "markdown",
   "id": "f05584a8",
   "metadata": {
    "papermill": {
     "duration": 0.00762,
     "end_time": "2025-04-11T01:00:39.878216",
     "exception": false,
     "start_time": "2025-04-11T01:00:39.870596",
     "status": "completed"
    },
    "tags": []
   },
   "source": [
    "### Export Clean Data"
   ]
  },
  {
   "cell_type": "code",
   "execution_count": 18,
   "id": "c0dccb94",
   "metadata": {
    "execution": {
     "iopub.execute_input": "2025-04-11T01:00:39.894754Z",
     "iopub.status.busy": "2025-04-11T01:00:39.894341Z",
     "iopub.status.idle": "2025-04-11T01:00:49.153564Z",
     "shell.execute_reply": "2025-04-11T01:00:49.152869Z"
    },
    "papermill": {
     "duration": 9.268686,
     "end_time": "2025-04-11T01:00:49.154728",
     "exception": false,
     "start_time": "2025-04-11T01:00:39.886042",
     "status": "completed"
    },
    "tags": []
   },
   "outputs": [
    {
     "name": "stdout",
     "output_type": "stream",
     "text": [
      "Project Root: /home/runner/work/crime-data/crime-data\n"
     ]
    },
    {
     "name": "stdout",
     "output_type": "stream",
     "text": [
      "Data saved to: /home/runner/work/crime-data/crime-data/data/charlottesville_crime_incidents.csv\n"
     ]
    },
    {
     "name": "stdout",
     "output_type": "stream",
     "text": [
      "Excel saved to: /home/runner/work/crime-data/crime-data/data/charlottesville_crime_incidents.xlsx\n"
     ]
    }
   ],
   "source": [
    "# Determine the project root (assuming papermill is run from the repository root)\n",
    "project_root = os.getcwd()\n",
    "print(\"Project Root:\", project_root)\n",
    "\n",
    "# Set the data directory within the project root\n",
    "data_dir = os.path.join(project_root, \"data\")\n",
    "\n",
    "# Ensure the \"data\" directory exists (create it if it doesn't)\n",
    "if not os.path.exists(data_dir):\n",
    "    os.makedirs(data_dir)\n",
    "\n",
    "# Export the DataFrame to CSV in the \"data\" folder located in the project root\n",
    "csv_path = os.path.join(data_dir, \"charlottesville_crime_incidents.csv\")\n",
    "df.to_csv(csv_path, index=False)\n",
    "print(\"Data saved to:\", csv_path)\n",
    "\n",
    "# Construct the path to your Excel file\n",
    "excel_path = os.path.join(data_dir, \"charlottesville_crime_incidents.xlsx\")\n",
    "\n",
    "# Export the DataFrame to Excel\n",
    "df.to_excel(excel_path, index=False)\n",
    "print(\"Excel saved to:\", excel_path)\n"
   ]
  },
  {
   "cell_type": "markdown",
   "id": "b1345408",
   "metadata": {
    "papermill": {
     "duration": 0.007795,
     "end_time": "2025-04-11T01:00:49.170708",
     "exception": false,
     "start_time": "2025-04-11T01:00:49.162913",
     "status": "completed"
    },
    "tags": []
   },
   "source": [
    "## Predictive Analytics"
   ]
  },
  {
   "cell_type": "code",
   "execution_count": 19,
   "id": "40316711",
   "metadata": {
    "execution": {
     "iopub.execute_input": "2025-04-11T01:00:49.210797Z",
     "iopub.status.busy": "2025-04-11T01:00:49.210122Z",
     "iopub.status.idle": "2025-04-11T01:00:49.221887Z",
     "shell.execute_reply": "2025-04-11T01:00:49.221350Z"
    },
    "papermill": {
     "duration": 0.021279,
     "end_time": "2025-04-11T01:00:49.222904",
     "exception": false,
     "start_time": "2025-04-11T01:00:49.201625",
     "status": "completed"
    },
    "tags": []
   },
   "outputs": [
    {
     "data": {
      "text/html": [
       "<div>\n",
       "<style scoped>\n",
       "    .dataframe tbody tr th:only-of-type {\n",
       "        vertical-align: middle;\n",
       "    }\n",
       "\n",
       "    .dataframe tbody tr th {\n",
       "        vertical-align: top;\n",
       "    }\n",
       "\n",
       "    .dataframe thead th {\n",
       "        text-align: right;\n",
       "    }\n",
       "</style>\n",
       "<table border=\"1\" class=\"dataframe\">\n",
       "  <thead>\n",
       "    <tr style=\"text-align: right;\">\n",
       "      <th></th>\n",
       "      <th>RecordID</th>\n",
       "      <th>Offense</th>\n",
       "      <th>IncidentID</th>\n",
       "      <th>Agency</th>\n",
       "      <th>ReportingOfficer</th>\n",
       "      <th>Date</th>\n",
       "      <th>DayOfWeek</th>\n",
       "      <th>Weekend</th>\n",
       "      <th>Season</th>\n",
       "      <th>TimeOfDay</th>\n",
       "      <th>FullStreet</th>\n",
       "      <th>lat</th>\n",
       "      <th>lon</th>\n",
       "      <th>neighborhood</th>\n",
       "      <th>zip</th>\n",
       "    </tr>\n",
       "  </thead>\n",
       "  <tbody>\n",
       "    <tr>\n",
       "      <th>0</th>\n",
       "      <td>1</td>\n",
       "      <td>Assault Aggravated</td>\n",
       "      <td>202500011330</td>\n",
       "      <td>CPD</td>\n",
       "      <td>Vlasis, Christopher</td>\n",
       "      <td>2025-04-08 21:05:25</td>\n",
       "      <td>Tuesday</td>\n",
       "      <td>False</td>\n",
       "      <td>Spring</td>\n",
       "      <td>Night</td>\n",
       "      <td>1300 CARLTON AVE, 5</td>\n",
       "      <td>38.022060</td>\n",
       "      <td>-78.469336</td>\n",
       "      <td>Belmont</td>\n",
       "      <td>22902</td>\n",
       "    </tr>\n",
       "    <tr>\n",
       "      <th>1</th>\n",
       "      <td>2</td>\n",
       "      <td>Hit and Run</td>\n",
       "      <td>202500011311</td>\n",
       "      <td>CPD</td>\n",
       "      <td>Bland, Johnnà</td>\n",
       "      <td>2025-04-08 17:51:40</td>\n",
       "      <td>Tuesday</td>\n",
       "      <td>False</td>\n",
       "      <td>Spring</td>\n",
       "      <td>Evening</td>\n",
       "      <td>900 EMMET ST N</td>\n",
       "      <td>38.048586</td>\n",
       "      <td>-78.502983</td>\n",
       "      <td>Venable</td>\n",
       "      <td>22903</td>\n",
       "    </tr>\n",
       "    <tr>\n",
       "      <th>2</th>\n",
       "      <td>3</td>\n",
       "      <td>Forgery/Counterfeiting</td>\n",
       "      <td>202500011287</td>\n",
       "      <td>CPD</td>\n",
       "      <td>Mcdougal, Jordan</td>\n",
       "      <td>2025-04-08 14:28:56</td>\n",
       "      <td>Tuesday</td>\n",
       "      <td>False</td>\n",
       "      <td>Spring</td>\n",
       "      <td>Afternoon</td>\n",
       "      <td>900 PRESTON AVE, 1</td>\n",
       "      <td>38.037011</td>\n",
       "      <td>-78.489464</td>\n",
       "      <td>10th &amp; Page</td>\n",
       "      <td>22903</td>\n",
       "    </tr>\n",
       "    <tr>\n",
       "      <th>3</th>\n",
       "      <td>4</td>\n",
       "      <td>Drug Investigation</td>\n",
       "      <td>202500011277</td>\n",
       "      <td>CPD</td>\n",
       "      <td>Nash, Darius</td>\n",
       "      <td>2025-04-08 12:27:02</td>\n",
       "      <td>Tuesday</td>\n",
       "      <td>False</td>\n",
       "      <td>Spring</td>\n",
       "      <td>Afternoon</td>\n",
       "      <td>1300 W MAIN ST, 424</td>\n",
       "      <td>38.033288</td>\n",
       "      <td>-78.497940</td>\n",
       "      <td>Venable</td>\n",
       "      <td>22903</td>\n",
       "    </tr>\n",
       "    <tr>\n",
       "      <th>4</th>\n",
       "      <td>5</td>\n",
       "      <td>Fraud-wire fraud</td>\n",
       "      <td>202500011275</td>\n",
       "      <td>CPD</td>\n",
       "      <td>Wisser, Shawn</td>\n",
       "      <td>2025-04-08 12:02:52</td>\n",
       "      <td>Tuesday</td>\n",
       "      <td>False</td>\n",
       "      <td>Spring</td>\n",
       "      <td>Afternoon</td>\n",
       "      <td>2300 CRESTMONT AVE</td>\n",
       "      <td>38.020937</td>\n",
       "      <td>-78.510119</td>\n",
       "      <td>Fry's Spring</td>\n",
       "      <td>22903</td>\n",
       "    </tr>\n",
       "  </tbody>\n",
       "</table>\n",
       "</div>"
      ],
      "text/plain": [
       "   RecordID                 Offense    IncidentID Agency     ReportingOfficer  \\\n",
       "0         1      Assault Aggravated  202500011330    CPD  Vlasis, Christopher   \n",
       "1         2             Hit and Run  202500011311    CPD        Bland, Johnnà   \n",
       "2         3  Forgery/Counterfeiting  202500011287    CPD     Mcdougal, Jordan   \n",
       "3         4      Drug Investigation  202500011277    CPD         Nash, Darius   \n",
       "4         5        Fraud-wire fraud  202500011275    CPD        Wisser, Shawn   \n",
       "\n",
       "                 Date DayOfWeek  Weekend  Season  TimeOfDay  \\\n",
       "0 2025-04-08 21:05:25   Tuesday    False  Spring      Night   \n",
       "1 2025-04-08 17:51:40   Tuesday    False  Spring    Evening   \n",
       "2 2025-04-08 14:28:56   Tuesday    False  Spring  Afternoon   \n",
       "3 2025-04-08 12:27:02   Tuesday    False  Spring  Afternoon   \n",
       "4 2025-04-08 12:02:52   Tuesday    False  Spring  Afternoon   \n",
       "\n",
       "            FullStreet        lat        lon  neighborhood    zip  \n",
       "0  1300 CARLTON AVE, 5  38.022060 -78.469336       Belmont  22902  \n",
       "1       900 EMMET ST N  38.048586 -78.502983       Venable  22903  \n",
       "2   900 PRESTON AVE, 1  38.037011 -78.489464   10th & Page  22903  \n",
       "3  1300 W MAIN ST, 424  38.033288 -78.497940       Venable  22903  \n",
       "4   2300 CRESTMONT AVE  38.020937 -78.510119  Fry's Spring  22903  "
      ]
     },
     "execution_count": 19,
     "metadata": {},
     "output_type": "execute_result"
    }
   ],
   "source": [
    "df.head()"
   ]
  },
  {
   "cell_type": "code",
   "execution_count": 20,
   "id": "d0a7b0d2",
   "metadata": {
    "execution": {
     "iopub.execute_input": "2025-04-11T01:00:49.239893Z",
     "iopub.status.busy": "2025-04-11T01:00:49.239700Z",
     "iopub.status.idle": "2025-04-11T01:00:49.244028Z",
     "shell.execute_reply": "2025-04-11T01:00:49.243507Z"
    },
    "papermill": {
     "duration": 0.013936,
     "end_time": "2025-04-11T01:00:49.244976",
     "exception": false,
     "start_time": "2025-04-11T01:00:49.231040",
     "status": "completed"
    },
    "tags": []
   },
   "outputs": [
    {
     "data": {
      "text/plain": [
       "Index(['RecordID', 'Offense', 'IncidentID', 'Agency', 'ReportingOfficer',\n",
       "       'Date', 'DayOfWeek', 'Weekend', 'Season', 'TimeOfDay', 'FullStreet',\n",
       "       'lat', 'lon', 'neighborhood', 'zip'],\n",
       "      dtype='object')"
      ]
     },
     "execution_count": 20,
     "metadata": {},
     "output_type": "execute_result"
    }
   ],
   "source": [
    "df.columns"
   ]
  },
  {
   "cell_type": "markdown",
   "id": "13d3ebdf",
   "metadata": {
    "papermill": {
     "duration": 0.008107,
     "end_time": "2025-04-11T01:00:49.261331",
     "exception": false,
     "start_time": "2025-04-11T01:00:49.253224",
     "status": "completed"
    },
    "tags": []
   },
   "source": [
    "### Data Preparation\n",
    "\n",
    "We need to ensure the data is in the correct format for modeling and can handle missing values, categorical variables, and dates. Here's how to prepare your data:"
   ]
  },
  {
   "cell_type": "code",
   "execution_count": 21,
   "id": "1c176060",
   "metadata": {
    "execution": {
     "iopub.execute_input": "2025-04-11T01:00:49.278591Z",
     "iopub.status.busy": "2025-04-11T01:00:49.278058Z",
     "iopub.status.idle": "2025-04-11T01:00:51.073457Z",
     "shell.execute_reply": "2025-04-11T01:00:51.072758Z"
    },
    "papermill": {
     "duration": 1.805325,
     "end_time": "2025-04-11T01:00:51.074856",
     "exception": false,
     "start_time": "2025-04-11T01:00:49.269531",
     "status": "completed"
    },
    "tags": []
   },
   "outputs": [],
   "source": [
    "import pandas as pd\n",
    "from sklearn.model_selection import train_test_split\n",
    "from sklearn.preprocessing import OneHotEncoder, LabelEncoder\n",
    "from sklearn.ensemble import RandomForestClassifier\n",
    "from sklearn.linear_model import LogisticRegression\n",
    "from sklearn.tree import DecisionTreeClassifier\n",
    "from sklearn.metrics import classification_report, accuracy_score\n",
    "import seaborn as sns\n",
    "import matplotlib.pyplot as plt\n",
    "\n",
    "# Convert 'Date' to datetime\n",
    "df['Date'] = pd.to_datetime(df['Date'])\n",
    "\n",
    "# Feature engineering: Extract additional time-based features\n",
    "df['Year'] = df['Date'].dt.year\n",
    "df['Month'] = df['Date'].dt.month\n",
    "df['DayOfMonth'] = df['Date'].dt.day\n",
    "\n",
    "# One-hot encoding for 'FullStreet', 'neighborhood', 'zip'\n",
    "df = pd.get_dummies(df, columns=['FullStreet', 'neighborhood', 'zip'], drop_first=True)\n",
    "\n",
    "# Label encoding for ordered variables (those with a natural order like 'DayOfWeek', 'Season', 'TimeOfDay')\n",
    "label_encoders = {}\n",
    "for column in ['DayOfWeek', 'Season', 'TimeOfDay', 'Agency', 'ReportingOfficer']:  # Example ordinal variables\n",
    "    le = LabelEncoder()\n",
    "    df[column] = le.fit_transform(df[column])\n",
    "    label_encoders[column] = le\n",
    "\n",
    "# Filter the dataset to include only the offenses of interest\n",
    "offenses_of_interest = [\n",
    "    'Hit and Run', 'Assault Simple', 'Suspicious Activity', 'Vandalism', \n",
    "    'Larceny - From Mot Vehicle', 'Larceny - All Other', \n",
    "    'Assist Citizen - Mental/TDO/ECO', 'Lost/FoundProperty'\n",
    "]\n",
    "\n",
    "df = df[df['Offense'].isin(offenses_of_interest)]\n",
    "\n",
    "# Label encode the target variable (Offense)\n",
    "offense_encoder = LabelEncoder()\n",
    "df['Offense'] = offense_encoder.fit_transform(df['Offense'])\n",
    "\n",
    "# Separate features (X) and target (y)\n",
    "X = df[['Year', 'Month', 'DayOfMonth', 'DayOfWeek', 'Weekend', 'Season', 'TimeOfDay', 'lat', 'lon', 'Agency', 'ReportingOfficer']]\n",
    "y = df['Offense']  # Offense is now the encoded target variable\n",
    "\n",
    "# Split the data into training and testing sets\n",
    "X_train, X_test, y_train, y_test = train_test_split(X, y, test_size=0.3, random_state=42)\n"
   ]
  },
  {
   "cell_type": "markdown",
   "id": "f29bb5bb",
   "metadata": {
    "papermill": {
     "duration": 0.008003,
     "end_time": "2025-04-11T01:00:51.091413",
     "exception": false,
     "start_time": "2025-04-11T01:00:51.083410",
     "status": "completed"
    },
    "tags": []
   },
   "source": [
    "### Model Training\n",
    "\n",
    "Here we will train several models (e.g., Random Forest, Logistic Regression, and Decision Tree). We will use cross-validation to choose the best model based on accuracy, and then explain the impact of the variables."
   ]
  },
  {
   "cell_type": "code",
   "execution_count": 22,
   "id": "3106b5c3",
   "metadata": {
    "execution": {
     "iopub.execute_input": "2025-04-11T01:00:51.108625Z",
     "iopub.status.busy": "2025-04-11T01:00:51.108076Z",
     "iopub.status.idle": "2025-04-11T01:00:54.545323Z",
     "shell.execute_reply": "2025-04-11T01:00:54.544731Z"
    },
    "papermill": {
     "duration": 3.446903,
     "end_time": "2025-04-11T01:00:54.546365",
     "exception": false,
     "start_time": "2025-04-11T01:00:51.099462",
     "status": "completed"
    },
    "tags": []
   },
   "outputs": [
    {
     "name": "stderr",
     "output_type": "stream",
     "text": [
      "/opt/hostedtoolcache/Python/3.9.21/x64/lib/python3.9/site-packages/sklearn/linear_model/_logistic.py:465: ConvergenceWarning: lbfgs failed to converge (status=1):\n",
      "STOP: TOTAL NO. of ITERATIONS REACHED LIMIT.\n",
      "\n",
      "Increase the number of iterations (max_iter) or scale the data as shown in:\n",
      "    https://scikit-learn.org/stable/modules/preprocessing.html\n",
      "Please also refer to the documentation for alternative solver options:\n",
      "    https://scikit-learn.org/stable/modules/linear_model.html#logistic-regression\n",
      "  n_iter_i = _check_optimize_result(\n",
      "/opt/hostedtoolcache/Python/3.9.21/x64/lib/python3.9/site-packages/sklearn/metrics/_classification.py:1565: UndefinedMetricWarning: Precision is ill-defined and being set to 0.0 in labels with no predicted samples. Use `zero_division` parameter to control this behavior.\n",
      "  _warn_prf(average, modifier, f\"{metric.capitalize()} is\", len(result))\n",
      "/opt/hostedtoolcache/Python/3.9.21/x64/lib/python3.9/site-packages/sklearn/metrics/_classification.py:1565: UndefinedMetricWarning: Precision is ill-defined and being set to 0.0 in labels with no predicted samples. Use `zero_division` parameter to control this behavior.\n",
      "  _warn_prf(average, modifier, f\"{metric.capitalize()} is\", len(result))\n",
      "/opt/hostedtoolcache/Python/3.9.21/x64/lib/python3.9/site-packages/sklearn/metrics/_classification.py:1565: UndefinedMetricWarning: Precision is ill-defined and being set to 0.0 in labels with no predicted samples. Use `zero_division` parameter to control this behavior.\n",
      "  _warn_prf(average, modifier, f\"{metric.capitalize()} is\", len(result))\n"
     ]
    },
    {
     "name": "stdout",
     "output_type": "stream",
     "text": [
      "\n",
      "Classification Report for All Models:\n",
      "\n",
      "Model: RandomForest\n",
      "Accuracy: 0.2850\n",
      "              precision    recall  f1-score     support\n",
      "0              0.313202  0.376054  0.341762   593.00000\n",
      "1              0.328571  0.205357  0.252747   448.00000\n",
      "2              0.293522  0.450311  0.355392   644.00000\n",
      "3              0.232984  0.199552  0.214976   446.00000\n",
      "4              0.322314  0.228739  0.267581   341.00000\n",
      "5              0.233256  0.193117  0.211297   523.00000\n",
      "6              0.266990  0.242291  0.254042   454.00000\n",
      "accuracy       0.285010  0.285010  0.285010     0.28501\n",
      "macro avg      0.284406  0.270774  0.271114  3449.00000\n",
      "weighted avg   0.283846  0.285010  0.277685  3449.00000\n"
     ]
    },
    {
     "data": {
      "image/png": "[encoded data removed]",
      "text/plain": [
       "<Figure size 800x600 with 2 Axes>"
      ]
     },
     "metadata": {},
     "output_type": "display_data"
    },
    {
     "name": "stdout",
     "output_type": "stream",
     "text": [
      "\n",
      "Model: LogisticRegression\n",
      "Accuracy: 0.2090\n",
      "              precision    recall  f1-score      support\n",
      "0              0.206872  0.487352  0.290452   593.000000\n",
      "1              0.000000  0.000000  0.000000   448.000000\n",
      "2              0.212692  0.666149  0.322435   644.000000\n",
      "3              0.000000  0.000000  0.000000   446.000000\n",
      "4              0.000000  0.000000  0.000000   341.000000\n",
      "5              0.000000  0.000000  0.000000   523.000000\n",
      "6              0.085714  0.006608  0.012270   454.000000\n",
      "accuracy       0.209046  0.209046  0.209046     0.209046\n",
      "macro avg      0.072183  0.165730  0.089308  3449.000000\n",
      "weighted avg   0.086565  0.209046  0.111759  3449.000000\n"
     ]
    },
    {
     "data": {
      "image/png": "[encoded data removed]",
      "text/plain": [
       "<Figure size 800x600 with 2 Axes>"
      ]
     },
     "metadata": {},
     "output_type": "display_data"
    },
    {
     "name": "stdout",
     "output_type": "stream",
     "text": [
      "\n",
      "Model: DecisionTree\n",
      "Accuracy: 0.2163\n",
      "              precision    recall  f1-score      support\n",
      "0              0.248598  0.224283  0.235816   593.000000\n",
      "1              0.232558  0.223214  0.227790   448.000000\n",
      "2              0.269291  0.265528  0.267396   644.000000\n",
      "3              0.176000  0.197309  0.186047   446.000000\n",
      "4              0.201681  0.211144  0.206304   341.000000\n",
      "5              0.179630  0.185468  0.182502   523.000000\n",
      "6              0.188053  0.187225  0.187638   454.000000\n",
      "accuracy       0.216295  0.216295  0.216295     0.216295\n",
      "macro avg      0.213687  0.213453  0.213356  3449.000000\n",
      "weighted avg   0.217924  0.216295  0.216890  3449.000000\n"
     ]
    },
    {
     "data": {
      "image/png": "[encoded data removed]",
      "text/plain": [
       "<Figure size 800x600 with 2 Axes>"
      ]
     },
     "metadata": {},
     "output_type": "display_data"
    },
    {
     "name": "stdout",
     "output_type": "stream",
     "text": [
      "\n",
      "Best Model:\n",
      "Best Model: RandomForestClassifier()\n",
      "Best Model Accuracy: 0.2850\n"
     ]
    }
   ],
   "source": [
    "import pandas as pd\n",
    "from sklearn.model_selection import train_test_split\n",
    "from sklearn.ensemble import RandomForestClassifier\n",
    "from sklearn.linear_model import LogisticRegression\n",
    "from sklearn.tree import DecisionTreeClassifier\n",
    "from sklearn.metrics import classification_report, accuracy_score, confusion_matrix\n",
    "import seaborn as sns\n",
    "import matplotlib.pyplot as plt\n",
    "\n",
    "# Define models\n",
    "models = {\n",
    "    'RandomForest': RandomForestClassifier(),\n",
    "    'LogisticRegression': LogisticRegression(max_iter=1000),\n",
    "    'DecisionTree': DecisionTreeClassifier()\n",
    "}\n",
    "\n",
    "# Train models and evaluate them\n",
    "best_model = None\n",
    "best_score = 0\n",
    "model_reports = {}\n",
    "\n",
    "for model_name, model in models.items():\n",
    "    model.fit(X_train, y_train)  # Train model\n",
    "    y_pred = model.predict(X_test)  # Make predictions\n",
    "    \n",
    "    # Calculate accuracy and generate classification report\n",
    "    accuracy = accuracy_score(y_test, y_pred)\n",
    "    model_reports[model_name] = classification_report(y_test, y_pred, output_dict=True)  # Store as a dictionary for easier analysis\n",
    "    \n",
    "    # Track best performing model\n",
    "    if accuracy > best_score:\n",
    "        best_score = accuracy\n",
    "        best_model = model\n",
    "\n",
    "# Display classification reports and confusion matrices\n",
    "print(\"\\nClassification Report for All Models:\")\n",
    "for model_name, report in model_reports.items():\n",
    "    print(f\"\\nModel: {model_name}\")\n",
    "    print(\"Accuracy: {:.4f}\".format(accuracy_score(y_test, models[model_name].predict(X_test))))  # Display accuracy\n",
    "    print(pd.DataFrame(report).transpose())  # Display classification report as a DataFrame\n",
    "\n",
    "    # Plot Confusion Matrix\n",
    "    cm = confusion_matrix(y_test, models[model_name].predict(X_test))\n",
    "    plt.figure(figsize=(8, 6))\n",
    "    sns.heatmap(cm, annot=True, fmt=\"d\", cmap='Blues', xticklabels=offense_encoder.classes_, yticklabels=offense_encoder.classes_)\n",
    "    plt.title(f\"Confusion Matrix - {model_name}\")\n",
    "    plt.xlabel('Predicted Labels')\n",
    "    plt.ylabel('True Labels')\n",
    "    plt.show()\n",
    "\n",
    "# Display best model details\n",
    "print(\"\\nBest Model:\")\n",
    "print(f\"Best Model: {best_model}\")\n",
    "print(f\"Best Model Accuracy: {best_score:.4f}\")\n"
   ]
  },
  {
   "cell_type": "markdown",
   "id": "bd3471ea",
   "metadata": {
    "papermill": {
     "duration": 0.010712,
     "end_time": "2025-04-11T01:00:54.568656",
     "exception": false,
     "start_time": "2025-04-11T01:00:54.557944",
     "status": "completed"
    },
    "tags": []
   },
   "source": [
    "#### Classification Report for All Models:\n",
    "\n",
    "### Explanation of the Classification Results (RandomForest Model)\n",
    "\n",
    "The results you provided are from a **Random Forest** model, which is used for predicting different types of offenses. Let's break down the key components of the results:\n",
    "\n",
    "#### 1. **Accuracy: 0.2822**\n",
    "   - **Accuracy** measures the overall percentage of correct predictions made by the model. An accuracy of 28.22% means the model correctly predicted the offense in about 28% of the cases. This indicates the model's predictions are not highly reliable, as the accuracy is quite low.\n",
    "\n",
    "#### 2. **Classification Report:**\n",
    "   The classification report includes precision, recall, and F1-score for each offense. Let's go over these terms and how they apply to the results:\n",
    "\n",
    "   - **Precision**: The proportion of true positive predictions out of all positive predictions made by the model for a specific class (offense).\n",
    "   - **Recall**: The proportion of true positive predictions out of all actual positive instances in the dataset.\n",
    "   - **F1-Score**: The harmonic mean of precision and recall, providing a balance between the two metrics.\n",
    "   - **Support**: The number of actual occurrences of each class in the test set.\n",
    "\n",
    "   Let's analyze each offense based on these metrics:\n",
    "\n",
    "   | **Offense**                        | **Precision** | **Recall** | **F1-Score** | **Support** |\n",
    "   |------------------------------------|---------------|------------|--------------|-------------|\n",
    "   | **Assault Simple**                 | 0.2892        | 0.3754     | 0.3267       | 594         |\n",
    "   | **Assist Citizen - Mental/TDO/ECO**| 0.3182        | 0.2274     | 0.2652       | 431         |\n",
    "   | **Hit and Run**                    | 0.2963        | 0.4765     | 0.3654       | 638         |\n",
    "   | **Larceny - All Other**            | 0.2270        | 0.1453     | 0.1772       | 475         |\n",
    "   | **Lost/FoundProperty**             | 0.3333        | 0.2102     | 0.2578       | 352         |\n",
    "   | **Suspicious Activity**            | 0.2344        | 0.2169     | 0.2253       | 484         |\n",
    "   | **Vandalism**                      | 0.2712        | 0.2106     | 0.2371       | 470         |\n",
    "\n",
    "#### 3. **Key Insights from the Report:**\n",
    "\n",
    "- **Precision**:\n",
    "   - The highest precision is for **Larceny - All Other** (0.3333), indicating that when the model predicts this offense, it is correct about 33% of the time. However, this is still quite low.\n",
    "   - **Assist Citizen - Mental/TDO/ECO** has the lowest precision (0.2269), meaning that the model's predictions for this offense tend to be wrong more often than correct.\n",
    "\n",
    "- **Recall**:\n",
    "   - **Hit and Run** has the highest recall (0.4765), meaning the model identifies about 48% of the actual occurrences of this offense. This is better than the precision, which indicates it is missing many true positives but is still able to identify a fair number of cases.\n",
    "   - **Larceny - All Other** and **Suspicious Activity** have the lowest recall values (0.1453 and 0.2169, respectively), indicating that the model is failing to identify most of the actual cases for these offenses.\n",
    "\n",
    "- **F1-Score**:\n",
    "   - The **F1-Score** balances precision and recall. It is highest for **Hit and Run** (0.3654), but still relatively low overall. This suggests the model is better at identifying **Hit and Run** than other offenses but still has room for improvement.\n",
    "   - **Larceny - All Other** has the lowest F1-Score (0.1772), indicating a poor balance between precision and recall for this offense.\n",
    "\n",
    "#### 4. **Macro Average and Weighted Average:**\n",
    "   - **Macro Average**: This gives the average precision, recall, and F1-Score across all classes (offenses) without considering the class distribution. It averages the results for all offenses equally.\n",
    "     - Precision: 0.2814\n",
    "     - Recall: 0.2661\n",
    "     - F1-Score: 0.2649\n",
    "   - **Weighted Average**: This averages the metrics but weighs each class by its support (the number of true instances in the test set). This gives a better sense of overall performance, considering the class distribution.\n",
    "     - Precision: 0.2799\n",
    "     - Recall: 0.2822\n",
    "     - F1-Score: 0.2720\n",
    "\n",
    "#### 5. **Confusion Matrix (Visualization Analysis)**:\n",
    "   - The confusion matrix shows the distribution of true positive, false positive, true negative, and false negative predictions for each class.\n",
    "     - For **Hit and Run**, the model performs relatively well in identifying this offense (304 true positives). However, it also misclassifies some **Hit and Run** instances as other offenses (e.g., **Assault Simple**, **Suspicious Activity**, etc.).\n",
    "     - **Larceny - All Other** is frequently misclassified as **Hit and Run**, **Suspicious Activity**, and others. This is evident from the large number of off-diagonal elements in its row.\n",
    "     - **Assist Citizen - Mental/TDO/ECO** and **Suspicious Activity** are frequently misclassified, as seen by the off-diagonal values in their rows.\n",
    "\n",
    "### Conclusion:\n",
    "The Random Forest model has low accuracy (28.22%), suggesting that it struggles to predict most offenses accurately. Some offenses like **Hit and Run** are better predicted than others, but overall, the model shows a high level of misclassification across all offenses. There may be a need for further tuning of the model, additional feature engineering, or trying different models for better performance.\n",
    "\n",
    "Let me know if you'd like to improve the model or make adjustments based on these results!\n",
    "\n"
   ]
  },
  {
   "cell_type": "markdown",
   "id": "c541e1b0",
   "metadata": {
    "papermill": {
     "duration": 0.01066,
     "end_time": "2025-04-11T01:00:54.589967",
     "exception": false,
     "start_time": "2025-04-11T01:00:54.579307",
     "status": "completed"
    },
    "tags": []
   },
   "source": [
    "### Model Explanation\n",
    "\n",
    "Once we’ve chosen the best model, we will explain its predictions by examining feature importance for tree-based models and using statistical methods like logistic regression coefficients for linear models."
   ]
  },
  {
   "cell_type": "markdown",
   "id": "b670ef9b",
   "metadata": {
    "papermill": {
     "duration": 0.010535,
     "end_time": "2025-04-11T01:00:54.611158",
     "exception": false,
     "start_time": "2025-04-11T01:00:54.600623",
     "status": "completed"
    },
    "tags": []
   },
   "source": [
    "#### Feature Importance for Random Forest / Decision Tree\n",
    "\n",
    "##### For Tree-based Models (Random Forest, Decision Tree)\n",
    "\n",
    "For Random Forest or Decision Tree, we can look at feature importance to understand which variables contribute the most to the model's predictions. Here's how you can visualize and interpret the importance of each feature:"
   ]
  },
  {
   "cell_type": "code",
   "execution_count": 23,
   "id": "4a3138a5",
   "metadata": {
    "execution": {
     "iopub.execute_input": "2025-04-11T01:00:54.633752Z",
     "iopub.status.busy": "2025-04-11T01:00:54.633169Z",
     "iopub.status.idle": "2025-04-11T01:00:54.798029Z",
     "shell.execute_reply": "2025-04-11T01:00:54.797325Z"
    },
    "papermill": {
     "duration": 0.177353,
     "end_time": "2025-04-11T01:00:54.799124",
     "exception": false,
     "start_time": "2025-04-11T01:00:54.621771",
     "status": "completed"
    },
    "tags": []
   },
   "outputs": [
    {
     "data": {
      "image/png": "[encoded data removed]",
      "text/plain": [
       "<Figure size 1000x600 with 1 Axes>"
      ]
     },
     "metadata": {},
     "output_type": "display_data"
    }
   ],
   "source": [
    "# For RandomForest or DecisionTree models, we can check feature importance\n",
    "if isinstance(best_model, RandomForestClassifier) or isinstance(best_model, DecisionTreeClassifier):\n",
    "    feature_importance = best_model.feature_importances_\n",
    "    feature_names = X.columns\n",
    "    importance_df = pd.DataFrame({'Feature': feature_names, 'Importance': feature_importance})\n",
    "    importance_df = importance_df.sort_values(by='Importance', ascending=False)\n",
    "    \n",
    "    # Plotting the feature importances\n",
    "    plt.figure(figsize=(10, 6))\n",
    "    sns.barplot(x='Importance', y='Feature', data=importance_df)\n",
    "    plt.title(\"Feature Importance\")\n",
    "    plt.show()\n"
   ]
  },
  {
   "cell_type": "code",
   "execution_count": null,
   "id": "f6153c83",
   "metadata": {
    "papermill": {
     "duration": 0.011094,
     "end_time": "2025-04-11T01:00:54.822072",
     "exception": false,
     "start_time": "2025-04-11T01:00:54.810978",
     "status": "completed"
    },
    "tags": []
   },
   "outputs": [],
   "source": []
  },
  {
   "cell_type": "markdown",
   "id": "136f2545",
   "metadata": {
    "papermill": {
     "duration": 0.010947,
     "end_time": "2025-04-11T01:00:54.844057",
     "exception": false,
     "start_time": "2025-04-11T01:00:54.833110",
     "status": "completed"
    },
    "tags": []
   },
   "source": [
    "### Evaluation\n",
    "\n",
    "After training the models and examining their performance, we evaluate the chosen model based on metrics like accuracy, precision, recall, and F1 score.\n",
    "\n"
   ]
  },
  {
   "cell_type": "code",
   "execution_count": 24,
   "id": "1e9a18b9",
   "metadata": {
    "execution": {
     "iopub.execute_input": "2025-04-11T01:00:54.867107Z",
     "iopub.status.busy": "2025-04-11T01:00:54.866652Z",
     "iopub.status.idle": "2025-04-11T01:00:54.953921Z",
     "shell.execute_reply": "2025-04-11T01:00:54.953216Z"
    },
    "papermill": {
     "duration": 0.099947,
     "end_time": "2025-04-11T01:00:54.954984",
     "exception": false,
     "start_time": "2025-04-11T01:00:54.855037",
     "status": "completed"
    },
    "tags": []
   },
   "outputs": [
    {
     "name": "stdout",
     "output_type": "stream",
     "text": [
      "Accuracy: 0.2850\n",
      "Classification Report:\n",
      "              precision    recall  f1-score   support\n",
      "\n",
      "           0       0.31      0.38      0.34       593\n",
      "           1       0.33      0.21      0.25       448\n",
      "           2       0.29      0.45      0.36       644\n",
      "           3       0.23      0.20      0.21       446\n",
      "           4       0.32      0.23      0.27       341\n",
      "           5       0.23      0.19      0.21       523\n",
      "           6       0.27      0.24      0.25       454\n",
      "\n",
      "    accuracy                           0.29      3449\n",
      "   macro avg       0.28      0.27      0.27      3449\n",
      "weighted avg       0.28      0.29      0.28      3449\n",
      "\n",
      "Confusion Matrix:\n",
      "[[223  49 144  46  18  64  49]\n",
      " [109  92  95  28  26  54  44]\n",
      " [ 92  35 290  66  25  81  55]\n",
      " [ 65  30 132  89  30  40  60]\n",
      " [ 42  20  89  36  78  34  42]\n",
      " [105  32 140  57  36 101  52]\n",
      " [ 76  22  98  60  29  59 110]]\n",
      "Precision: 0.2838\n",
      "Recall: 0.2850\n",
      "F1 Score: 0.2777\n"
     ]
    }
   ],
   "source": [
    "from sklearn.metrics import classification_report, confusion_matrix, accuracy_score, precision_score, recall_score, f1_score\n",
    "\n",
    "# Predict on the test set\n",
    "y_pred = best_model.predict(X_test)\n",
    "\n",
    "# Calculate Accuracy\n",
    "accuracy = accuracy_score(y_test, y_pred)\n",
    "print(f\"Accuracy: {accuracy:.4f}\")\n",
    "\n",
    "# Classification Report\n",
    "print(\"Classification Report:\")\n",
    "print(classification_report(y_test, y_pred))\n",
    "\n",
    "# Confusion Matrix\n",
    "conf_matrix = confusion_matrix(y_test, y_pred)\n",
    "print(\"Confusion Matrix:\")\n",
    "print(conf_matrix)\n",
    "\n",
    "# Precision, Recall, F1 Score for each class (Offense Type)\n",
    "precision = precision_score(y_test, y_pred, average='weighted')\n",
    "recall = recall_score(y_test, y_pred, average='weighted')\n",
    "f1 = f1_score(y_test, y_pred, average='weighted')\n",
    "\n",
    "print(f\"Precision: {precision:.4f}\")\n",
    "print(f\"Recall: {recall:.4f}\")\n",
    "print(f\"F1 Score: {f1:.4f}\")\n"
   ]
  },
  {
   "cell_type": "markdown",
   "id": "d13a0d78",
   "metadata": {
    "papermill": {
     "duration": 0.011261,
     "end_time": "2025-04-11T01:00:54.977780",
     "exception": false,
     "start_time": "2025-04-11T01:00:54.966519",
     "status": "completed"
    },
    "tags": []
   },
   "source": [
    "#### For Logistic Regression (Coefficient Interpretation)\n",
    "\n",
    "For Logistic Regression, the model coefficients can help us understand how each feature affects the likelihood of an offense happening. A positive coefficient indicates a feature increases the likelihood of the offense, and a negative coefficient indicates the opposite."
   ]
  },
  {
   "cell_type": "code",
   "execution_count": 25,
   "id": "9dbed0f0",
   "metadata": {
    "execution": {
     "iopub.execute_input": "2025-04-11T01:00:55.001265Z",
     "iopub.status.busy": "2025-04-11T01:00:55.001033Z",
     "iopub.status.idle": "2025-04-11T01:00:55.005957Z",
     "shell.execute_reply": "2025-04-11T01:00:55.005288Z"
    },
    "papermill": {
     "duration": 0.017949,
     "end_time": "2025-04-11T01:00:55.007007",
     "exception": false,
     "start_time": "2025-04-11T01:00:54.989058",
     "status": "completed"
    },
    "tags": []
   },
   "outputs": [],
   "source": [
    "if isinstance(best_model, LogisticRegression):\n",
    "    # Logistic regression coefficients\n",
    "    coef_df = pd.DataFrame({\n",
    "        'Feature': X.columns,\n",
    "        'Coefficient': best_model.coef_[0]\n",
    "    })\n",
    "    coef_df['AbsCoefficient'] = coef_df['Coefficient'].abs()\n",
    "    coef_df = coef_df.sort_values(by='AbsCoefficient', ascending=False)\n",
    "    \n",
    "    # Plotting the coefficients\n",
    "    plt.figure(figsize=(10, 6))\n",
    "    sns.barplot(x='AbsCoefficient', y='Feature', data=coef_df)\n",
    "    plt.title(\"Logistic Regression Coefficients Impact\")\n",
    "    plt.show()\n",
    "\n",
    "    # Print the top 5 most impactful features (by absolute coefficient value)\n",
    "    print(\"Top 5 most impactful features based on coefficients:\")\n",
    "    print(coef_df.head())\n"
   ]
  },
  {
   "cell_type": "markdown",
   "id": "6c5c1553",
   "metadata": {
    "papermill": {
     "duration": 0.011051,
     "end_time": "2025-04-11T01:00:55.029315",
     "exception": false,
     "start_time": "2025-04-11T01:00:55.018264",
     "status": "completed"
    },
    "tags": []
   },
   "source": [
    "Explanation of Output:\n",
    "\n",
    "Feature Importance (Random Forest/Decision Tree): The bar plot will show how important each feature is in the decision-making process. Features at the top of the list are the most influential in predicting the occurrence of offenses.\n",
    "\n",
    "Logistic Regression Coefficients: The bar plot will show the magnitude of the coefficients for each feature. Features with larger absolute values (either positive or negative) have a stronger impact on the model’s predictions. Positive coefficients increase the probability of an offense, while negative coefficients decrease it."
   ]
  },
  {
   "cell_type": "markdown",
   "id": "63890167",
   "metadata": {
    "papermill": {
     "duration": 0.011065,
     "end_time": "2025-04-11T01:00:55.051508",
     "exception": false,
     "start_time": "2025-04-11T01:00:55.040443",
     "status": "completed"
    },
    "tags": []
   },
   "source": []
  }
 ],
 "metadata": {
  "kernelspec": {
   "display_name": "Python 3",
   "language": "python",
   "name": "python3"
  },
  "language_info": {
   "codemirror_mode": {
    "name": "ipython",
    "version": 3
   },
   "file_extension": ".py",
   "mimetype": "text/x-python",
   "name": "python",
   "nbconvert_exporter": "python",
   "pygments_lexer": "ipython3",
   "version": "3.9.21"
  },
  "papermill": {
   "default_parameters": {},
   "duration": 81.942008,
   "end_time": "2025-04-11T01:00:55.478769",
   "environment_variables": {},
   "exception": null,
   "input_path": "notebook/Crime Data.ipynb",
   "output_path": "notebook/Crime Data_output.ipynb",
   "parameters": {},
   "start_time": "2025-04-11T00:59:33.536761",
   "version": "2.6.0"
  }
 },
 "nbformat": 4,
 "nbformat_minor": 5
}