{
 "cells": [
  {
   "cell_type": "markdown",
   "id": "5bdb75df",
   "metadata": {
    "papermill": {
     "duration": 0.005816,
     "end_time": "2025-04-13T02:28:52.951500",
     "exception": false,
     "start_time": "2025-04-13T02:28:52.945684",
     "status": "completed"
    },
    "tags": []
   },
   "source": [
    "# Charlottesville Open Data Porttal: Crime Data"
   ]
  },
  {
   "cell_type": "markdown",
   "id": "08c421d0",
   "metadata": {
    "papermill": {
     "duration": 0.005011,
     "end_time": "2025-04-13T02:28:52.961996",
     "exception": false,
     "start_time": "2025-04-13T02:28:52.956985",
     "status": "completed"
    },
    "tags": []
   },
   "source": [
    "## Import Relevant Librarires & Set WD"
   ]
  },
  {
   "cell_type": "code",
   "execution_count": 1,
   "id": "f06b588b",
   "metadata": {
    "execution": {
     "iopub.execute_input": "2025-04-13T02:28:52.973119Z",
     "iopub.status.busy": "2025-04-13T02:28:52.972719Z",
     "iopub.status.idle": "2025-04-13T02:28:53.487360Z",
     "shell.execute_reply": "2025-04-13T02:28:53.486652Z"
    },
    "papermill": {
     "duration": 0.521755,
     "end_time": "2025-04-13T02:28:53.488784",
     "exception": false,
     "start_time": "2025-04-13T02:28:52.967029",
     "status": "completed"
    },
    "tags": []
   },
   "outputs": [],
   "source": [
    "import requests\n",
    "import pandas as pd\n",
    "import numpy as np\n",
    "import pickle\n",
    "import googlemaps\n",
    "import plotly.express as px\n",
    "from geopy.geocoders import Nominatim\n",
    "import time\n",
    "from dotenv import load_dotenv\n",
    "import os\n",
    "\n",
    "env_path = os.path.join(\"..\", \".env\")\n",
    "#print(\"Looking for .env file at:\", os.path.abspath(env_path))\n",
    "load_dotenv(dotenv_path=env_path)\n",
    "\n",
    "# Retrieve the variables\n",
    "GOOGLE_API_KEY = os.getenv(\"GOOGLE_API_KEY\")\n",
    "WORKING_DIR = os.getenv(\"WORKING_DIR\")\n",
    "\n",
    "if GOOGLE_API_KEY is None or WORKING_DIR is None:\n",
    "    raise RuntimeError(\"No configuration found. Please ensure that your .env file exists with the required variables, or create a local config.py file.\")\n",
    "\n",
    "#print(\"Google API Key:\", GOOGLE_API_KEY)\n",
    "#print(\"Working Directory:\", WORKING_DIR)"
   ]
  },
  {
   "cell_type": "markdown",
   "id": "2fa5e5da",
   "metadata": {
    "papermill": {
     "duration": 0.005049,
     "end_time": "2025-04-13T02:28:53.499468",
     "exception": false,
     "start_time": "2025-04-13T02:28:53.494419",
     "status": "completed"
    },
    "tags": []
   },
   "source": [
    "## Import Data\n",
    "\n",
    "URL: https://opendata.charlottesville.org/datasets/charlottesville::crime-data/about"
   ]
  },
  {
   "cell_type": "code",
   "execution_count": 2,
   "id": "dc31924a",
   "metadata": {
    "execution": {
     "iopub.execute_input": "2025-04-13T02:28:53.510772Z",
     "iopub.status.busy": "2025-04-13T02:28:53.510286Z",
     "iopub.status.idle": "2025-04-13T02:29:53.349442Z",
     "shell.execute_reply": "2025-04-13T02:29:53.348745Z"
    },
    "papermill": {
     "duration": 59.850625,
     "end_time": "2025-04-13T02:29:53.355307",
     "exception": false,
     "start_time": "2025-04-13T02:28:53.504682",
     "status": "completed"
    },
    "tags": []
   },
   "outputs": [
    {
     "name": "stdout",
     "output_type": "stream",
     "text": [
      "Total records imported: 25156\n"
     ]
    }
   ],
   "source": [
    "# Define the endpoint and initial parameters.\n",
    "url = \"https://gisweb.charlottesville.org/arcgis/rest/services/OpenData_2/MapServer/6/query\"\n",
    "params = {\n",
    "    \"where\": \"1=1\",\n",
    "    \"outFields\": \"*\",\n",
    "    \"outSR\": 4326,\n",
    "    \"f\": \"json\",\n",
    "    \"resultOffset\": 0,       # Starting index for results\n",
    "    \"resultRecordCount\": 10000  # Maximum records per batch (if allowed by the API)\n",
    "}\n",
    "\n",
    "records = []\n",
    "\n",
    "while True:\n",
    "    response = requests.get(url, params=params)\n",
    "    response.raise_for_status()\n",
    "    data = response.json()\n",
    "    \n",
    "    # Get the current batch of features.\n",
    "    features = data.get(\"features\", [])\n",
    "    if not features:\n",
    "        break\n",
    "\n",
    "    # Extract the attributes from the features.\n",
    "    batch_records = [feature.get(\"attributes\", {}) for feature in features]\n",
    "    records.extend(batch_records)\n",
    "    \n",
    "    # If the batch size is less than the requested count, we reached the end.\n",
    "    if len(features) < params[\"resultRecordCount\"]:\n",
    "        break\n",
    "\n",
    "    # Update the resultOffset for the next batch.\n",
    "    params[\"resultOffset\"] += params[\"resultRecordCount\"]\n",
    "\n",
    "# Create a DataFrame from the combined records.\n",
    "df = pd.DataFrame(records)\n",
    "print(\"Total records imported:\", len(df))\n"
   ]
  },
  {
   "cell_type": "code",
   "execution_count": 3,
   "id": "af93a434",
   "metadata": {
    "execution": {
     "iopub.execute_input": "2025-04-13T02:29:53.367016Z",
     "iopub.status.busy": "2025-04-13T02:29:53.366565Z",
     "iopub.status.idle": "2025-04-13T02:29:53.378798Z",
     "shell.execute_reply": "2025-04-13T02:29:53.378261Z"
    },
    "papermill": {
     "duration": 0.019035,
     "end_time": "2025-04-13T02:29:53.379727",
     "exception": false,
     "start_time": "2025-04-13T02:29:53.360692",
     "status": "completed"
    },
    "tags": []
   },
   "outputs": [
    {
     "data": {
      "text/html": [
       "<div>\n",
       "<style scoped>\n",
       "    .dataframe tbody tr th:only-of-type {\n",
       "        vertical-align: middle;\n",
       "    }\n",
       "\n",
       "    .dataframe tbody tr th {\n",
       "        vertical-align: top;\n",
       "    }\n",
       "\n",
       "    .dataframe thead th {\n",
       "        text-align: right;\n",
       "    }\n",
       "</style>\n",
       "<table border=\"1\" class=\"dataframe\">\n",
       "  <thead>\n",
       "    <tr style=\"text-align: right;\">\n",
       "      <th></th>\n",
       "      <th>RecordID</th>\n",
       "      <th>Offense</th>\n",
       "      <th>IncidentID</th>\n",
       "      <th>BlockNumber</th>\n",
       "      <th>StreetName</th>\n",
       "      <th>Agency</th>\n",
       "      <th>DateReported</th>\n",
       "      <th>HourReported</th>\n",
       "      <th>ReportingOfficer</th>\n",
       "    </tr>\n",
       "  </thead>\n",
       "  <tbody>\n",
       "    <tr>\n",
       "      <th>0</th>\n",
       "      <td>1</td>\n",
       "      <td>Motor Vehicle Theft</td>\n",
       "      <td>202500011523</td>\n",
       "      <td>600</td>\n",
       "      <td>DELEVAN ST</td>\n",
       "      <td>CPD</td>\n",
       "      <td>1744319297000</td>\n",
       "      <td>1708</td>\n",
       "      <td>Venereo, Arturo</td>\n",
       "    </tr>\n",
       "    <tr>\n",
       "      <th>1</th>\n",
       "      <td>2</td>\n",
       "      <td>Larceny - Shoplifitng</td>\n",
       "      <td>202500011521</td>\n",
       "      <td>400</td>\n",
       "      <td>E MARKET ST</td>\n",
       "      <td>CPD</td>\n",
       "      <td>1744318405000</td>\n",
       "      <td>1653</td>\n",
       "      <td>Brannon, Devin</td>\n",
       "    </tr>\n",
       "    <tr>\n",
       "      <th>2</th>\n",
       "      <td>3</td>\n",
       "      <td>Assist Citizen - Mental/TDO/ECO</td>\n",
       "      <td>202500011519</td>\n",
       "      <td>1400</td>\n",
       "      <td>FOREST RIDGE RD</td>\n",
       "      <td>CPD</td>\n",
       "      <td>1744316847000</td>\n",
       "      <td>1627</td>\n",
       "      <td>Abdelgayed, Adam</td>\n",
       "    </tr>\n",
       "    <tr>\n",
       "      <th>3</th>\n",
       "      <td>4</td>\n",
       "      <td>Lost/FoundProperty</td>\n",
       "      <td>202500011516</td>\n",
       "      <td>100</td>\n",
       "      <td>7TH ST NE</td>\n",
       "      <td>CPD</td>\n",
       "      <td>1744316071000</td>\n",
       "      <td>1614</td>\n",
       "      <td>Khaleefa, Hamzeh</td>\n",
       "    </tr>\n",
       "    <tr>\n",
       "      <th>4</th>\n",
       "      <td>5</td>\n",
       "      <td>Hit and Run</td>\n",
       "      <td>202500011511</td>\n",
       "      <td>1600</td>\n",
       "      <td>EMMET ST N</td>\n",
       "      <td>CPD</td>\n",
       "      <td>1744313867000</td>\n",
       "      <td>1537</td>\n",
       "      <td>Burnett, James</td>\n",
       "    </tr>\n",
       "  </tbody>\n",
       "</table>\n",
       "</div>"
      ],
      "text/plain": [
       "   RecordID                          Offense    IncidentID BlockNumber  \\\n",
       "0         1              Motor Vehicle Theft  202500011523         600   \n",
       "1         2            Larceny - Shoplifitng  202500011521         400   \n",
       "2         3  Assist Citizen - Mental/TDO/ECO  202500011519        1400   \n",
       "3         4               Lost/FoundProperty  202500011516         100   \n",
       "4         5                      Hit and Run  202500011511        1600   \n",
       "\n",
       "        StreetName Agency   DateReported HourReported  ReportingOfficer  \n",
       "0       DELEVAN ST    CPD  1744319297000         1708   Venereo, Arturo  \n",
       "1      E MARKET ST    CPD  1744318405000         1653    Brannon, Devin  \n",
       "2  FOREST RIDGE RD    CPD  1744316847000         1627  Abdelgayed, Adam  \n",
       "3        7TH ST NE    CPD  1744316071000         1614  Khaleefa, Hamzeh  \n",
       "4       EMMET ST N    CPD  1744313867000         1537    Burnett, James  "
      ]
     },
     "execution_count": 3,
     "metadata": {},
     "output_type": "execute_result"
    }
   ],
   "source": [
    "df.head()"
   ]
  },
  {
   "cell_type": "code",
   "execution_count": 4,
   "id": "b7b04b81",
   "metadata": {
    "execution": {
     "iopub.execute_input": "2025-04-13T02:29:53.391274Z",
     "iopub.status.busy": "2025-04-13T02:29:53.390779Z",
     "iopub.status.idle": "2025-04-13T02:29:53.395090Z",
     "shell.execute_reply": "2025-04-13T02:29:53.394456Z"
    },
    "papermill": {
     "duration": 0.011017,
     "end_time": "2025-04-13T02:29:53.396092",
     "exception": false,
     "start_time": "2025-04-13T02:29:53.385075",
     "status": "completed"
    },
    "tags": []
   },
   "outputs": [
    {
     "data": {
      "text/plain": [
       "Index(['RecordID', 'Offense', 'IncidentID', 'BlockNumber', 'StreetName',\n",
       "       'Agency', 'DateReported', 'HourReported', 'ReportingOfficer'],\n",
       "      dtype='object')"
      ]
     },
     "execution_count": 4,
     "metadata": {},
     "output_type": "execute_result"
    }
   ],
   "source": [
    "df.columns"
   ]
  },
  {
   "cell_type": "code",
   "execution_count": 5,
   "id": "fb15a71b",
   "metadata": {
    "execution": {
     "iopub.execute_input": "2025-04-13T02:29:53.407779Z",
     "iopub.status.busy": "2025-04-13T02:29:53.407509Z",
     "iopub.status.idle": "2025-04-13T02:29:53.424198Z",
     "shell.execute_reply": "2025-04-13T02:29:53.423651Z"
    },
    "papermill": {
     "duration": 0.02378,
     "end_time": "2025-04-13T02:29:53.425221",
     "exception": false,
     "start_time": "2025-04-13T02:29:53.401441",
     "status": "completed"
    },
    "tags": []
   },
   "outputs": [
    {
     "name": "stdout",
     "output_type": "stream",
     "text": [
      "<class 'pandas.core.frame.DataFrame'>\n",
      "RangeIndex: 25156 entries, 0 to 25155\n",
      "Data columns (total 9 columns):\n",
      " #   Column            Non-Null Count  Dtype \n",
      "---  ------            --------------  ----- \n",
      " 0   RecordID          25156 non-null  int64 \n",
      " 1   Offense           25156 non-null  object\n",
      " 2   IncidentID        25156 non-null  object\n",
      " 3   BlockNumber       25156 non-null  object\n",
      " 4   StreetName        25156 non-null  object\n",
      " 5   Agency            25156 non-null  object\n",
      " 6   DateReported      25156 non-null  int64 \n",
      " 7   HourReported      25156 non-null  object\n",
      " 8   ReportingOfficer  25139 non-null  object\n",
      "dtypes: int64(2), object(7)\n",
      "memory usage: 1.7+ MB\n"
     ]
    }
   ],
   "source": [
    "df.info()"
   ]
  },
  {
   "cell_type": "markdown",
   "id": "4afbaed1",
   "metadata": {
    "papermill": {
     "duration": 0.005569,
     "end_time": "2025-04-13T02:29:53.436396",
     "exception": false,
     "start_time": "2025-04-13T02:29:53.430827",
     "status": "completed"
    },
    "tags": []
   },
   "source": [
    "### Missing Values"
   ]
  },
  {
   "cell_type": "code",
   "execution_count": 6,
   "id": "b0cb0f79",
   "metadata": {
    "execution": {
     "iopub.execute_input": "2025-04-13T02:29:53.448665Z",
     "iopub.status.busy": "2025-04-13T02:29:53.448293Z",
     "iopub.status.idle": "2025-04-13T02:29:53.463548Z",
     "shell.execute_reply": "2025-04-13T02:29:53.462912Z"
    },
    "papermill": {
     "duration": 0.022689,
     "end_time": "2025-04-13T02:29:53.464692",
     "exception": false,
     "start_time": "2025-04-13T02:29:53.442003",
     "status": "completed"
    },
    "tags": []
   },
   "outputs": [
    {
     "name": "stdout",
     "output_type": "stream",
     "text": [
      "                  MissingCount  MissingPercentage\n",
      "RecordID                     0               0.00\n",
      "Offense                      0               0.00\n",
      "IncidentID                   0               0.00\n",
      "BlockNumber                  0               0.00\n",
      "StreetName                   0               0.00\n",
      "Agency                       0               0.00\n",
      "DateReported                 0               0.00\n",
      "HourReported                 0               0.00\n",
      "ReportingOfficer            17               0.07\n"
     ]
    }
   ],
   "source": [
    "def missing_percentage(df):\n",
    "    \"\"\"\n",
    "    Returns a DataFrame with the count and percentage of missing values for each column.\n",
    "    \n",
    "    Parameters:\n",
    "        df (pd.DataFrame): The input DataFrame.\n",
    "    \n",
    "    Returns:\n",
    "        pd.DataFrame: A DataFrame with columns 'MissingCount' and 'MissingPercentage'.\n",
    "    \"\"\"\n",
    "    total_rows = len(df)\n",
    "    missing_count = df.isnull().sum()\n",
    "    missing_percent = (missing_count / total_rows) * 100\n",
    "    \n",
    "    result = pd.DataFrame({\n",
    "        'MissingCount': missing_count,\n",
    "        'MissingPercentage': missing_percent.round(2)\n",
    "    })\n",
    "    \n",
    "    return result\n",
    "\n",
    "# Example usage:\n",
    "missing_info = missing_percentage(df)\n",
    "print(missing_info)\n"
   ]
  },
  {
   "cell_type": "markdown",
   "id": "1db14cd0",
   "metadata": {
    "papermill": {
     "duration": 0.005653,
     "end_time": "2025-04-13T02:29:53.476216",
     "exception": false,
     "start_time": "2025-04-13T02:29:53.470563",
     "status": "completed"
    },
    "tags": []
   },
   "source": [
    "## Data Preparation"
   ]
  },
  {
   "cell_type": "markdown",
   "id": "9b4228c4",
   "metadata": {
    "papermill": {
     "duration": 0.005567,
     "end_time": "2025-04-13T02:29:53.487365",
     "exception": false,
     "start_time": "2025-04-13T02:29:53.481798",
     "status": "completed"
    },
    "tags": []
   },
   "source": [
    "### Data Conversion"
   ]
  },
  {
   "cell_type": "code",
   "execution_count": 7,
   "id": "7413a2b8",
   "metadata": {
    "execution": {
     "iopub.execute_input": "2025-04-13T02:29:53.499481Z",
     "iopub.status.busy": "2025-04-13T02:29:53.499115Z",
     "iopub.status.idle": "2025-04-13T02:29:53.863646Z",
     "shell.execute_reply": "2025-04-13T02:29:53.862936Z"
    },
    "papermill": {
     "duration": 0.371811,
     "end_time": "2025-04-13T02:29:53.864711",
     "exception": false,
     "start_time": "2025-04-13T02:29:53.492900",
     "status": "completed"
    },
    "tags": []
   },
   "outputs": [
    {
     "data": {
      "text/html": [
       "<div>\n",
       "<style scoped>\n",
       "    .dataframe tbody tr th:only-of-type {\n",
       "        vertical-align: middle;\n",
       "    }\n",
       "\n",
       "    .dataframe tbody tr th {\n",
       "        vertical-align: top;\n",
       "    }\n",
       "\n",
       "    .dataframe thead th {\n",
       "        text-align: right;\n",
       "    }\n",
       "</style>\n",
       "<table border=\"1\" class=\"dataframe\">\n",
       "  <thead>\n",
       "    <tr style=\"text-align: right;\">\n",
       "      <th></th>\n",
       "      <th>RecordID</th>\n",
       "      <th>Offense</th>\n",
       "      <th>IncidentID</th>\n",
       "      <th>BlockNumber</th>\n",
       "      <th>StreetName</th>\n",
       "      <th>Agency</th>\n",
       "      <th>HourReported</th>\n",
       "      <th>ReportingOfficer</th>\n",
       "      <th>Date</th>\n",
       "      <th>DateString</th>\n",
       "      <th>DayOfWeek</th>\n",
       "      <th>Weekend</th>\n",
       "      <th>Season</th>\n",
       "      <th>HourAMPM</th>\n",
       "      <th>TimeOfDay</th>\n",
       "    </tr>\n",
       "  </thead>\n",
       "  <tbody>\n",
       "    <tr>\n",
       "      <th>0</th>\n",
       "      <td>1</td>\n",
       "      <td>Motor Vehicle Theft</td>\n",
       "      <td>202500011523</td>\n",
       "      <td>600</td>\n",
       "      <td>DELEVAN ST</td>\n",
       "      <td>CPD</td>\n",
       "      <td>1708</td>\n",
       "      <td>Venereo, Arturo</td>\n",
       "      <td>2025-04-10 17:08:17</td>\n",
       "      <td>2025-04-10 05:08:17 PM</td>\n",
       "      <td>Thursday</td>\n",
       "      <td>False</td>\n",
       "      <td>Spring</td>\n",
       "      <td>05:08 PM</td>\n",
       "      <td>Evening</td>\n",
       "    </tr>\n",
       "    <tr>\n",
       "      <th>1</th>\n",
       "      <td>2</td>\n",
       "      <td>Larceny - Shoplifitng</td>\n",
       "      <td>202500011521</td>\n",
       "      <td>400</td>\n",
       "      <td>E MARKET ST</td>\n",
       "      <td>CPD</td>\n",
       "      <td>1653</td>\n",
       "      <td>Brannon, Devin</td>\n",
       "      <td>2025-04-10 16:53:25</td>\n",
       "      <td>2025-04-10 04:53:25 PM</td>\n",
       "      <td>Thursday</td>\n",
       "      <td>False</td>\n",
       "      <td>Spring</td>\n",
       "      <td>04:53 PM</td>\n",
       "      <td>Afternoon</td>\n",
       "    </tr>\n",
       "    <tr>\n",
       "      <th>2</th>\n",
       "      <td>3</td>\n",
       "      <td>Assist Citizen - Mental/TDO/ECO</td>\n",
       "      <td>202500011519</td>\n",
       "      <td>1400</td>\n",
       "      <td>FOREST RIDGE RD</td>\n",
       "      <td>CPD</td>\n",
       "      <td>1627</td>\n",
       "      <td>Abdelgayed, Adam</td>\n",
       "      <td>2025-04-10 16:27:27</td>\n",
       "      <td>2025-04-10 04:27:27 PM</td>\n",
       "      <td>Thursday</td>\n",
       "      <td>False</td>\n",
       "      <td>Spring</td>\n",
       "      <td>04:27 PM</td>\n",
       "      <td>Afternoon</td>\n",
       "    </tr>\n",
       "    <tr>\n",
       "      <th>3</th>\n",
       "      <td>4</td>\n",
       "      <td>Lost/FoundProperty</td>\n",
       "      <td>202500011516</td>\n",
       "      <td>100</td>\n",
       "      <td>7TH ST NE</td>\n",
       "      <td>CPD</td>\n",
       "      <td>1614</td>\n",
       "      <td>Khaleefa, Hamzeh</td>\n",
       "      <td>2025-04-10 16:14:31</td>\n",
       "      <td>2025-04-10 04:14:31 PM</td>\n",
       "      <td>Thursday</td>\n",
       "      <td>False</td>\n",
       "      <td>Spring</td>\n",
       "      <td>04:14 PM</td>\n",
       "      <td>Afternoon</td>\n",
       "    </tr>\n",
       "    <tr>\n",
       "      <th>4</th>\n",
       "      <td>5</td>\n",
       "      <td>Hit and Run</td>\n",
       "      <td>202500011511</td>\n",
       "      <td>1600</td>\n",
       "      <td>EMMET ST N</td>\n",
       "      <td>CPD</td>\n",
       "      <td>1537</td>\n",
       "      <td>Burnett, James</td>\n",
       "      <td>2025-04-10 15:37:47</td>\n",
       "      <td>2025-04-10 03:37:47 PM</td>\n",
       "      <td>Thursday</td>\n",
       "      <td>False</td>\n",
       "      <td>Spring</td>\n",
       "      <td>03:37 PM</td>\n",
       "      <td>Afternoon</td>\n",
       "    </tr>\n",
       "  </tbody>\n",
       "</table>\n",
       "</div>"
      ],
      "text/plain": [
       "   RecordID                          Offense    IncidentID BlockNumber  \\\n",
       "0         1              Motor Vehicle Theft  202500011523         600   \n",
       "1         2            Larceny - Shoplifitng  202500011521         400   \n",
       "2         3  Assist Citizen - Mental/TDO/ECO  202500011519        1400   \n",
       "3         4               Lost/FoundProperty  202500011516         100   \n",
       "4         5                      Hit and Run  202500011511        1600   \n",
       "\n",
       "        StreetName Agency HourReported  ReportingOfficer                Date  \\\n",
       "0       DELEVAN ST    CPD         1708   Venereo, Arturo 2025-04-10 17:08:17   \n",
       "1      E MARKET ST    CPD         1653    Brannon, Devin 2025-04-10 16:53:25   \n",
       "2  FOREST RIDGE RD    CPD         1627  Abdelgayed, Adam 2025-04-10 16:27:27   \n",
       "3        7TH ST NE    CPD         1614  Khaleefa, Hamzeh 2025-04-10 16:14:31   \n",
       "4       EMMET ST N    CPD         1537    Burnett, James 2025-04-10 15:37:47   \n",
       "\n",
       "               DateString DayOfWeek  Weekend  Season  HourAMPM  TimeOfDay  \n",
       "0  2025-04-10 05:08:17 PM  Thursday    False  Spring  05:08 PM    Evening  \n",
       "1  2025-04-10 04:53:25 PM  Thursday    False  Spring  04:53 PM  Afternoon  \n",
       "2  2025-04-10 04:27:27 PM  Thursday    False  Spring  04:27 PM  Afternoon  \n",
       "3  2025-04-10 04:14:31 PM  Thursday    False  Spring  04:14 PM  Afternoon  \n",
       "4  2025-04-10 03:37:47 PM  Thursday    False  Spring  03:37 PM  Afternoon  "
      ]
     },
     "execution_count": 7,
     "metadata": {},
     "output_type": "execute_result"
    }
   ],
   "source": [
    "def convert_and_categorize_datereported(df, col='DateReported'):\n",
    "    \"\"\"\n",
    "    Converts an epoch (in milliseconds) date column into a timezone-aware datetime,\n",
    "    converts it to Eastern Time, and then creates columns for day-of-week, weekend flag,\n",
    "    season, 12-hour formatted time, and time-of-day. Keeps both a real datetime column\n",
    "    (Date) and a string representation (DateString).\n",
    "    \"\"\"\n",
    "    import pandas as pd\n",
    "\n",
    "    # Convert the epoch timestamp to a pandas datetime object as UTC, then convert to US/Eastern.\n",
    "    df[\"DateReported_dt\"] = (\n",
    "        pd.to_datetime(df[col], unit=\"ms\", errors=\"coerce\", utc=True)\n",
    "        .dt.tz_convert(\"US/Eastern\")\n",
    "    )\n",
    "    \n",
    "    # Create a true datetime column (remove timezone if you prefer naive datetime)\n",
    "    df[\"Date\"] = df[\"DateReported_dt\"].dt.tz_localize(None)\n",
    "\n",
    "    # Optionally, create a separate string-formatted column\n",
    "    df[\"DateString\"] = df[\"DateReported_dt\"].dt.strftime(\"%Y-%m-%d %I:%M:%S %p\")\n",
    "    \n",
    "    # DayOfWeek\n",
    "    df[\"DayOfWeek\"] = df[\"DateReported_dt\"].dt.day_name()\n",
    "    \n",
    "    # Weekend\n",
    "    df[\"Weekend\"] = df[\"DayOfWeek\"].isin([\"Saturday\", \"Sunday\"])\n",
    "    \n",
    "    # Helper function to determine the season\n",
    "    def get_season(dt):\n",
    "        month = dt.month\n",
    "        day = dt.day\n",
    "        # Approximate Northern Hemisphere season boundaries:\n",
    "        if (month == 12 and day >= 21) or (month < 3) or (month == 3 and day < 20):\n",
    "            return \"Winter\"\n",
    "        elif (month == 3 and day >= 20) or (month < 6) or (month == 6 and day < 21):\n",
    "            return \"Spring\"\n",
    "        elif (month == 6 and day >= 21) or (month < 9) or (month == 9 and day < 22):\n",
    "            return \"Summer\"\n",
    "        else:\n",
    "            return \"Autumn\"\n",
    "    \n",
    "    df[\"Season\"] = df[\"DateReported_dt\"].apply(get_season)\n",
    "    \n",
    "    # 12-hour formatted time (HourAMPM)\n",
    "    df[\"HourAMPM\"] = df[\"DateReported_dt\"].dt.strftime(\"%I:%M %p\")\n",
    "    \n",
    "    # Extract hour (0-23) for time-of-day\n",
    "    df[\"HourValue\"] = df[\"DateReported_dt\"].dt.hour\n",
    "    \n",
    "    def time_of_day(hour):\n",
    "        if pd.isnull(hour):\n",
    "            return None\n",
    "        if 5 <= hour < 12:\n",
    "            return \"Morning\"\n",
    "        elif 12 <= hour < 17:\n",
    "            return \"Afternoon\"\n",
    "        elif 17 <= hour < 21:\n",
    "            return \"Evening\"\n",
    "        else:\n",
    "            return \"Night\"\n",
    "    \n",
    "    df[\"TimeOfDay\"] = df[\"HourValue\"].apply(time_of_day)\n",
    "    \n",
    "    # Drop columns you no longer need\n",
    "    df.drop(columns=[col, \"DateReported_dt\", \"HourValue\"], inplace=True)\n",
    "    \n",
    "    return df\n",
    "\n",
    "# Example usage:\n",
    "df = convert_and_categorize_datereported(df)\n",
    "df.head()\n"
   ]
  },
  {
   "cell_type": "code",
   "execution_count": 8,
   "id": "c54afca5",
   "metadata": {
    "execution": {
     "iopub.execute_input": "2025-04-13T02:29:53.877793Z",
     "iopub.status.busy": "2025-04-13T02:29:53.877298Z",
     "iopub.status.idle": "2025-04-13T02:29:53.900047Z",
     "shell.execute_reply": "2025-04-13T02:29:53.899369Z"
    },
    "papermill": {
     "duration": 0.030218,
     "end_time": "2025-04-13T02:29:53.901067",
     "exception": false,
     "start_time": "2025-04-13T02:29:53.870849",
     "status": "completed"
    },
    "tags": []
   },
   "outputs": [
    {
     "name": "stdout",
     "output_type": "stream",
     "text": [
      "<class 'pandas.core.frame.DataFrame'>\n",
      "RangeIndex: 25156 entries, 0 to 25155\n",
      "Data columns (total 15 columns):\n",
      " #   Column            Non-Null Count  Dtype         \n",
      "---  ------            --------------  -----         \n",
      " 0   RecordID          25156 non-null  int64         \n",
      " 1   Offense           25156 non-null  object        \n",
      " 2   IncidentID        25156 non-null  object        \n",
      " 3   BlockNumber       25156 non-null  object        \n",
      " 4   StreetName        25156 non-null  object        \n",
      " 5   Agency            25156 non-null  object        \n",
      " 6   HourReported      25156 non-null  object        \n",
      " 7   ReportingOfficer  25139 non-null  object        \n",
      " 8   Date              25156 non-null  datetime64[ns]\n",
      " 9   DateString        25156 non-null  object        \n",
      " 10  DayOfWeek         25156 non-null  object        \n",
      " 11  Weekend           25156 non-null  bool          \n",
      " 12  Season            25156 non-null  object        \n",
      " 13  HourAMPM          25156 non-null  object        \n",
      " 14  TimeOfDay         25156 non-null  object        \n",
      "dtypes: bool(1), datetime64[ns](1), int64(1), object(12)\n",
      "memory usage: 2.7+ MB\n"
     ]
    }
   ],
   "source": [
    "df.info()"
   ]
  },
  {
   "cell_type": "markdown",
   "id": "c1937d42",
   "metadata": {
    "papermill": {
     "duration": 0.00591,
     "end_time": "2025-04-13T02:29:53.913118",
     "exception": false,
     "start_time": "2025-04-13T02:29:53.907208",
     "status": "completed"
    },
    "tags": []
   },
   "source": [
    "### Coordinates"
   ]
  },
  {
   "cell_type": "code",
   "execution_count": 9,
   "id": "47a3d702",
   "metadata": {
    "execution": {
     "iopub.execute_input": "2025-04-13T02:29:53.925911Z",
     "iopub.status.busy": "2025-04-13T02:29:53.925521Z",
     "iopub.status.idle": "2025-04-13T02:29:54.307783Z",
     "shell.execute_reply": "2025-04-13T02:29:54.307113Z"
    },
    "papermill": {
     "duration": 0.389948,
     "end_time": "2025-04-13T02:29:54.308930",
     "exception": false,
     "start_time": "2025-04-13T02:29:53.918982",
     "status": "completed"
    },
    "tags": []
   },
   "outputs": [
    {
     "name": "stdout",
     "output_type": "stream",
     "text": [
      "Loaded geocode cache.\n"
     ]
    },
    {
     "name": "stdout",
     "output_type": "stream",
     "text": [
      "Geocoded 300 W MAIN ST, 508: 38.0301954, -78.48556719999999\n"
     ]
    },
    {
     "name": "stdout",
     "output_type": "stream",
     "text": [
      "Geocoded 600 7 1/2 ST SW, A: 38.0267129, -78.49377340000001\n",
      "Geocode cache updated and saved.\n"
     ]
    },
    {
     "data": {
      "text/html": [
       "<div>\n",
       "<style scoped>\n",
       "    .dataframe tbody tr th:only-of-type {\n",
       "        vertical-align: middle;\n",
       "    }\n",
       "\n",
       "    .dataframe tbody tr th {\n",
       "        vertical-align: top;\n",
       "    }\n",
       "\n",
       "    .dataframe thead th {\n",
       "        text-align: right;\n",
       "    }\n",
       "</style>\n",
       "<table border=\"1\" class=\"dataframe\">\n",
       "  <thead>\n",
       "    <tr style=\"text-align: right;\">\n",
       "      <th></th>\n",
       "      <th>RecordID</th>\n",
       "      <th>Offense</th>\n",
       "      <th>IncidentID</th>\n",
       "      <th>BlockNumber</th>\n",
       "      <th>StreetName</th>\n",
       "      <th>Agency</th>\n",
       "      <th>HourReported</th>\n",
       "      <th>ReportingOfficer</th>\n",
       "      <th>Date</th>\n",
       "      <th>DateString</th>\n",
       "      <th>DayOfWeek</th>\n",
       "      <th>Weekend</th>\n",
       "      <th>Season</th>\n",
       "      <th>HourAMPM</th>\n",
       "      <th>TimeOfDay</th>\n",
       "      <th>FullStreet</th>\n",
       "      <th>lat</th>\n",
       "      <th>lon</th>\n",
       "    </tr>\n",
       "  </thead>\n",
       "  <tbody>\n",
       "    <tr>\n",
       "      <th>0</th>\n",
       "      <td>1</td>\n",
       "      <td>Motor Vehicle Theft</td>\n",
       "      <td>202500011523</td>\n",
       "      <td>600</td>\n",
       "      <td>DELEVAN ST</td>\n",
       "      <td>CPD</td>\n",
       "      <td>1708</td>\n",
       "      <td>Venereo, Arturo</td>\n",
       "      <td>2025-04-10 17:08:17</td>\n",
       "      <td>2025-04-10 05:08:17 PM</td>\n",
       "      <td>Thursday</td>\n",
       "      <td>False</td>\n",
       "      <td>Spring</td>\n",
       "      <td>05:08 PM</td>\n",
       "      <td>Evening</td>\n",
       "      <td>600 DELEVAN ST</td>\n",
       "      <td>38.029894</td>\n",
       "      <td>-78.489479</td>\n",
       "    </tr>\n",
       "    <tr>\n",
       "      <th>1</th>\n",
       "      <td>2</td>\n",
       "      <td>Larceny - Shoplifitng</td>\n",
       "      <td>202500011521</td>\n",
       "      <td>400</td>\n",
       "      <td>E MARKET ST</td>\n",
       "      <td>CPD</td>\n",
       "      <td>1653</td>\n",
       "      <td>Brannon, Devin</td>\n",
       "      <td>2025-04-10 16:53:25</td>\n",
       "      <td>2025-04-10 04:53:25 PM</td>\n",
       "      <td>Thursday</td>\n",
       "      <td>False</td>\n",
       "      <td>Spring</td>\n",
       "      <td>04:53 PM</td>\n",
       "      <td>Afternoon</td>\n",
       "      <td>400 E MARKET ST</td>\n",
       "      <td>38.030642</td>\n",
       "      <td>-78.478791</td>\n",
       "    </tr>\n",
       "    <tr>\n",
       "      <th>2</th>\n",
       "      <td>3</td>\n",
       "      <td>Assist Citizen - Mental/TDO/ECO</td>\n",
       "      <td>202500011519</td>\n",
       "      <td>1400</td>\n",
       "      <td>FOREST RIDGE RD</td>\n",
       "      <td>CPD</td>\n",
       "      <td>1627</td>\n",
       "      <td>Abdelgayed, Adam</td>\n",
       "      <td>2025-04-10 16:27:27</td>\n",
       "      <td>2025-04-10 04:27:27 PM</td>\n",
       "      <td>Thursday</td>\n",
       "      <td>False</td>\n",
       "      <td>Spring</td>\n",
       "      <td>04:27 PM</td>\n",
       "      <td>Afternoon</td>\n",
       "      <td>1400 FOREST RIDGE RD</td>\n",
       "      <td>38.025348</td>\n",
       "      <td>-78.497769</td>\n",
       "    </tr>\n",
       "    <tr>\n",
       "      <th>3</th>\n",
       "      <td>4</td>\n",
       "      <td>Lost/FoundProperty</td>\n",
       "      <td>202500011516</td>\n",
       "      <td>100</td>\n",
       "      <td>7TH ST NE</td>\n",
       "      <td>CPD</td>\n",
       "      <td>1614</td>\n",
       "      <td>Khaleefa, Hamzeh</td>\n",
       "      <td>2025-04-10 16:14:31</td>\n",
       "      <td>2025-04-10 04:14:31 PM</td>\n",
       "      <td>Thursday</td>\n",
       "      <td>False</td>\n",
       "      <td>Spring</td>\n",
       "      <td>04:14 PM</td>\n",
       "      <td>Afternoon</td>\n",
       "      <td>100 7TH ST NE</td>\n",
       "      <td>38.029771</td>\n",
       "      <td>-78.476525</td>\n",
       "    </tr>\n",
       "    <tr>\n",
       "      <th>4</th>\n",
       "      <td>5</td>\n",
       "      <td>Hit and Run</td>\n",
       "      <td>202500011511</td>\n",
       "      <td>1600</td>\n",
       "      <td>EMMET ST N</td>\n",
       "      <td>CPD</td>\n",
       "      <td>1537</td>\n",
       "      <td>Burnett, James</td>\n",
       "      <td>2025-04-10 15:37:47</td>\n",
       "      <td>2025-04-10 03:37:47 PM</td>\n",
       "      <td>Thursday</td>\n",
       "      <td>False</td>\n",
       "      <td>Spring</td>\n",
       "      <td>03:37 PM</td>\n",
       "      <td>Afternoon</td>\n",
       "      <td>1600 EMMET ST N</td>\n",
       "      <td>38.057947</td>\n",
       "      <td>-78.493911</td>\n",
       "    </tr>\n",
       "  </tbody>\n",
       "</table>\n",
       "</div>"
      ],
      "text/plain": [
       "   RecordID                          Offense    IncidentID BlockNumber  \\\n",
       "0         1              Motor Vehicle Theft  202500011523         600   \n",
       "1         2            Larceny - Shoplifitng  202500011521         400   \n",
       "2         3  Assist Citizen - Mental/TDO/ECO  202500011519        1400   \n",
       "3         4               Lost/FoundProperty  202500011516         100   \n",
       "4         5                      Hit and Run  202500011511        1600   \n",
       "\n",
       "        StreetName Agency HourReported  ReportingOfficer                Date  \\\n",
       "0       DELEVAN ST    CPD         1708   Venereo, Arturo 2025-04-10 17:08:17   \n",
       "1      E MARKET ST    CPD         1653    Brannon, Devin 2025-04-10 16:53:25   \n",
       "2  FOREST RIDGE RD    CPD         1627  Abdelgayed, Adam 2025-04-10 16:27:27   \n",
       "3        7TH ST NE    CPD         1614  Khaleefa, Hamzeh 2025-04-10 16:14:31   \n",
       "4       EMMET ST N    CPD         1537    Burnett, James 2025-04-10 15:37:47   \n",
       "\n",
       "               DateString DayOfWeek  Weekend  Season  HourAMPM  TimeOfDay  \\\n",
       "0  2025-04-10 05:08:17 PM  Thursday    False  Spring  05:08 PM    Evening   \n",
       "1  2025-04-10 04:53:25 PM  Thursday    False  Spring  04:53 PM  Afternoon   \n",
       "2  2025-04-10 04:27:27 PM  Thursday    False  Spring  04:27 PM  Afternoon   \n",
       "3  2025-04-10 04:14:31 PM  Thursday    False  Spring  04:14 PM  Afternoon   \n",
       "4  2025-04-10 03:37:47 PM  Thursday    False  Spring  03:37 PM  Afternoon   \n",
       "\n",
       "             FullStreet        lat        lon  \n",
       "0        600 DELEVAN ST  38.029894 -78.489479  \n",
       "1       400 E MARKET ST  38.030642 -78.478791  \n",
       "2  1400 FOREST RIDGE RD  38.025348 -78.497769  \n",
       "3         100 7TH ST NE  38.029771 -78.476525  \n",
       "4       1600 EMMET ST N  38.057947 -78.493911  "
      ]
     },
     "execution_count": 9,
     "metadata": {},
     "output_type": "execute_result"
    }
   ],
   "source": [
    "# Combine BlockNumber and StreetName into a full address string\n",
    "df['FullStreet'] = df['BlockNumber'].astype(str) + \" \" + df['StreetName']\n",
    "\n",
    "# --- Step 1: Setup the Google Maps Client and Cache ---\n",
    "gmaps = googlemaps.Client(key=GOOGLE_API_KEY)\n",
    "\n",
    "# Try to load cached geocoding results if available.\n",
    "try:\n",
    "    with open(\"geocode_cache_google.pkl\", \"rb\") as f:\n",
    "        street_coords = pickle.load(f)\n",
    "    print(\"Loaded geocode cache.\")\n",
    "except FileNotFoundError:\n",
    "    street_coords = {}\n",
    "    print(\"No cache found; starting fresh.\")\n",
    "\n",
    "def geocode_address(address):\n",
    "    try:\n",
    "        # Append city and state to help geocoding\n",
    "        result = gmaps.geocode(f\"{address}, Charlottesville, VA\")\n",
    "        if result:\n",
    "            lat = result[0]['geometry']['location']['lat']\n",
    "            lon = result[0]['geometry']['location']['lng']\n",
    "            return lat, lon\n",
    "    except Exception as e:\n",
    "        print(f\"Error geocoding {address}: {e}\")\n",
    "    return None, None\n",
    "\n",
    "# --- Step 2: Geocode Only New Addresses ---\n",
    "unique_addresses = df['FullStreet'].unique()\n",
    "for address in unique_addresses:\n",
    "    if address not in street_coords:\n",
    "        lat, lon = geocode_address(address)\n",
    "        street_coords[address] = (lat, lon)\n",
    "        print(f\"Geocoded {address}: {lat}, {lon}\")\n",
    "\n",
    "# Save the updated cache to disk.\n",
    "with open(\"geocode_cache_google.pkl\", \"wb\") as f:\n",
    "    pickle.dump(street_coords, f)\n",
    "    print(\"Geocode cache updated and saved.\")\n",
    "\n",
    "# --- Step 3: Map Coordinates Back to DataFrame ---\n",
    "df['lat'] = df['FullStreet'].map(lambda s: street_coords.get(s, (None, None))[0])\n",
    "df['lon'] = df['FullStreet'].map(lambda s: street_coords.get(s, (None, None))[1])\n",
    "\n",
    "df.head()"
   ]
  },
  {
   "cell_type": "markdown",
   "id": "72e3683a",
   "metadata": {
    "papermill": {
     "duration": 0.00635,
     "end_time": "2025-04-13T02:29:54.321788",
     "exception": false,
     "start_time": "2025-04-13T02:29:54.315438",
     "status": "completed"
    },
    "tags": []
   },
   "source": [
    "### Neighborhood"
   ]
  },
  {
   "cell_type": "code",
   "execution_count": 10,
   "id": "1e38874c",
   "metadata": {
    "execution": {
     "iopub.execute_input": "2025-04-13T02:29:54.335531Z",
     "iopub.status.busy": "2025-04-13T02:29:54.335129Z",
     "iopub.status.idle": "2025-04-13T02:29:54.726539Z",
     "shell.execute_reply": "2025-04-13T02:29:54.725859Z"
    },
    "papermill": {
     "duration": 0.39968,
     "end_time": "2025-04-13T02:29:54.727701",
     "exception": false,
     "start_time": "2025-04-13T02:29:54.328021",
     "status": "completed"
    },
    "tags": []
   },
   "outputs": [
    {
     "name": "stdout",
     "output_type": "stream",
     "text": [
      "Loaded neighborhood cache.\n"
     ]
    },
    {
     "data": {
      "text/html": [
       "<div>\n",
       "<style scoped>\n",
       "    .dataframe tbody tr th:only-of-type {\n",
       "        vertical-align: middle;\n",
       "    }\n",
       "\n",
       "    .dataframe tbody tr th {\n",
       "        vertical-align: top;\n",
       "    }\n",
       "\n",
       "    .dataframe thead th {\n",
       "        text-align: right;\n",
       "    }\n",
       "</style>\n",
       "<table border=\"1\" class=\"dataframe\">\n",
       "  <thead>\n",
       "    <tr style=\"text-align: right;\">\n",
       "      <th></th>\n",
       "      <th>RecordID</th>\n",
       "      <th>Offense</th>\n",
       "      <th>IncidentID</th>\n",
       "      <th>BlockNumber</th>\n",
       "      <th>StreetName</th>\n",
       "      <th>Agency</th>\n",
       "      <th>HourReported</th>\n",
       "      <th>ReportingOfficer</th>\n",
       "      <th>Date</th>\n",
       "      <th>DateString</th>\n",
       "      <th>DayOfWeek</th>\n",
       "      <th>Weekend</th>\n",
       "      <th>Season</th>\n",
       "      <th>HourAMPM</th>\n",
       "      <th>TimeOfDay</th>\n",
       "      <th>FullStreet</th>\n",
       "      <th>lat</th>\n",
       "      <th>lon</th>\n",
       "      <th>neighborhood</th>\n",
       "    </tr>\n",
       "  </thead>\n",
       "  <tbody>\n",
       "    <tr>\n",
       "      <th>0</th>\n",
       "      <td>1</td>\n",
       "      <td>Motor Vehicle Theft</td>\n",
       "      <td>202500011523</td>\n",
       "      <td>600</td>\n",
       "      <td>DELEVAN ST</td>\n",
       "      <td>CPD</td>\n",
       "      <td>1708</td>\n",
       "      <td>Venereo, Arturo</td>\n",
       "      <td>2025-04-10 17:08:17</td>\n",
       "      <td>2025-04-10 05:08:17 PM</td>\n",
       "      <td>Thursday</td>\n",
       "      <td>False</td>\n",
       "      <td>Spring</td>\n",
       "      <td>05:08 PM</td>\n",
       "      <td>Evening</td>\n",
       "      <td>600 DELEVAN ST</td>\n",
       "      <td>38.029894</td>\n",
       "      <td>-78.489479</td>\n",
       "      <td>Fifeville</td>\n",
       "    </tr>\n",
       "    <tr>\n",
       "      <th>1</th>\n",
       "      <td>2</td>\n",
       "      <td>Larceny - Shoplifitng</td>\n",
       "      <td>202500011521</td>\n",
       "      <td>400</td>\n",
       "      <td>E MARKET ST</td>\n",
       "      <td>CPD</td>\n",
       "      <td>1653</td>\n",
       "      <td>Brannon, Devin</td>\n",
       "      <td>2025-04-10 16:53:25</td>\n",
       "      <td>2025-04-10 04:53:25 PM</td>\n",
       "      <td>Thursday</td>\n",
       "      <td>False</td>\n",
       "      <td>Spring</td>\n",
       "      <td>04:53 PM</td>\n",
       "      <td>Afternoon</td>\n",
       "      <td>400 E MARKET ST</td>\n",
       "      <td>38.030642</td>\n",
       "      <td>-78.478791</td>\n",
       "      <td>Downtown Mall</td>\n",
       "    </tr>\n",
       "    <tr>\n",
       "      <th>2</th>\n",
       "      <td>3</td>\n",
       "      <td>Assist Citizen - Mental/TDO/ECO</td>\n",
       "      <td>202500011519</td>\n",
       "      <td>1400</td>\n",
       "      <td>FOREST RIDGE RD</td>\n",
       "      <td>CPD</td>\n",
       "      <td>1627</td>\n",
       "      <td>Abdelgayed, Adam</td>\n",
       "      <td>2025-04-10 16:27:27</td>\n",
       "      <td>2025-04-10 04:27:27 PM</td>\n",
       "      <td>Thursday</td>\n",
       "      <td>False</td>\n",
       "      <td>Spring</td>\n",
       "      <td>04:27 PM</td>\n",
       "      <td>Afternoon</td>\n",
       "      <td>1400 FOREST RIDGE RD</td>\n",
       "      <td>38.025348</td>\n",
       "      <td>-78.497769</td>\n",
       "      <td>Fifeville</td>\n",
       "    </tr>\n",
       "    <tr>\n",
       "      <th>3</th>\n",
       "      <td>4</td>\n",
       "      <td>Lost/FoundProperty</td>\n",
       "      <td>202500011516</td>\n",
       "      <td>100</td>\n",
       "      <td>7TH ST NE</td>\n",
       "      <td>CPD</td>\n",
       "      <td>1614</td>\n",
       "      <td>Khaleefa, Hamzeh</td>\n",
       "      <td>2025-04-10 16:14:31</td>\n",
       "      <td>2025-04-10 04:14:31 PM</td>\n",
       "      <td>Thursday</td>\n",
       "      <td>False</td>\n",
       "      <td>Spring</td>\n",
       "      <td>04:14 PM</td>\n",
       "      <td>Afternoon</td>\n",
       "      <td>100 7TH ST NE</td>\n",
       "      <td>38.029771</td>\n",
       "      <td>-78.476525</td>\n",
       "      <td>Downtown Mall</td>\n",
       "    </tr>\n",
       "    <tr>\n",
       "      <th>4</th>\n",
       "      <td>5</td>\n",
       "      <td>Hit and Run</td>\n",
       "      <td>202500011511</td>\n",
       "      <td>1600</td>\n",
       "      <td>EMMET ST N</td>\n",
       "      <td>CPD</td>\n",
       "      <td>1537</td>\n",
       "      <td>Burnett, James</td>\n",
       "      <td>2025-04-10 15:37:47</td>\n",
       "      <td>2025-04-10 03:37:47 PM</td>\n",
       "      <td>Thursday</td>\n",
       "      <td>False</td>\n",
       "      <td>Spring</td>\n",
       "      <td>03:37 PM</td>\n",
       "      <td>Afternoon</td>\n",
       "      <td>1600 EMMET ST N</td>\n",
       "      <td>38.057947</td>\n",
       "      <td>-78.493911</td>\n",
       "      <td>The Meadows</td>\n",
       "    </tr>\n",
       "  </tbody>\n",
       "</table>\n",
       "</div>"
      ],
      "text/plain": [
       "   RecordID                          Offense    IncidentID BlockNumber  \\\n",
       "0         1              Motor Vehicle Theft  202500011523         600   \n",
       "1         2            Larceny - Shoplifitng  202500011521         400   \n",
       "2         3  Assist Citizen - Mental/TDO/ECO  202500011519        1400   \n",
       "3         4               Lost/FoundProperty  202500011516         100   \n",
       "4         5                      Hit and Run  202500011511        1600   \n",
       "\n",
       "        StreetName Agency HourReported  ReportingOfficer                Date  \\\n",
       "0       DELEVAN ST    CPD         1708   Venereo, Arturo 2025-04-10 17:08:17   \n",
       "1      E MARKET ST    CPD         1653    Brannon, Devin 2025-04-10 16:53:25   \n",
       "2  FOREST RIDGE RD    CPD         1627  Abdelgayed, Adam 2025-04-10 16:27:27   \n",
       "3        7TH ST NE    CPD         1614  Khaleefa, Hamzeh 2025-04-10 16:14:31   \n",
       "4       EMMET ST N    CPD         1537    Burnett, James 2025-04-10 15:37:47   \n",
       "\n",
       "               DateString DayOfWeek  Weekend  Season  HourAMPM  TimeOfDay  \\\n",
       "0  2025-04-10 05:08:17 PM  Thursday    False  Spring  05:08 PM    Evening   \n",
       "1  2025-04-10 04:53:25 PM  Thursday    False  Spring  04:53 PM  Afternoon   \n",
       "2  2025-04-10 04:27:27 PM  Thursday    False  Spring  04:27 PM  Afternoon   \n",
       "3  2025-04-10 04:14:31 PM  Thursday    False  Spring  04:14 PM  Afternoon   \n",
       "4  2025-04-10 03:37:47 PM  Thursday    False  Spring  03:37 PM  Afternoon   \n",
       "\n",
       "             FullStreet        lat        lon   neighborhood  \n",
       "0        600 DELEVAN ST  38.029894 -78.489479      Fifeville  \n",
       "1       400 E MARKET ST  38.030642 -78.478791  Downtown Mall  \n",
       "2  1400 FOREST RIDGE RD  38.025348 -78.497769      Fifeville  \n",
       "3         100 7TH ST NE  38.029771 -78.476525  Downtown Mall  \n",
       "4       1600 EMMET ST N  38.057947 -78.493911    The Meadows  "
      ]
     },
     "execution_count": 10,
     "metadata": {},
     "output_type": "execute_result"
    }
   ],
   "source": [
    "# Initialize the Google Maps client.\n",
    "gmaps = googlemaps.Client(key=GOOGLE_API_KEY)\n",
    "\n",
    "# Try to load a persistent neighborhood cache if available.\n",
    "try:\n",
    "    with open(\"neighborhood_cache.pkl\", \"rb\") as f:\n",
    "        neighborhood_cache = pickle.load(f)\n",
    "    print(\"Loaded neighborhood cache.\")\n",
    "except FileNotFoundError:\n",
    "    neighborhood_cache = {}\n",
    "    print(\"No neighborhood cache found; starting fresh.\")\n",
    "\n",
    "def get_neighborhood(lat, lon):\n",
    "    \"\"\"\n",
    "    Reverse geocodes a latitude and longitude to retrieve the neighborhood.\n",
    "    Caches results to speed up subsequent lookups.\n",
    "    \"\"\"\n",
    "    key = (lat, lon)\n",
    "    if key in neighborhood_cache:\n",
    "        return neighborhood_cache[key]\n",
    "    \n",
    "    try:\n",
    "        result = gmaps.reverse_geocode((lat, lon))\n",
    "        if result:\n",
    "            # Look for the 'neighborhood' component in the first result.\n",
    "            for component in result[0]['address_components']:\n",
    "                if 'neighborhood' in component['types']:\n",
    "                    neighborhood = component['long_name']\n",
    "                    neighborhood_cache[key] = neighborhood\n",
    "                    return neighborhood\n",
    "            # If no neighborhood is found, return \"N/A\"\n",
    "            neighborhood_cache[key] = \"N/A\"\n",
    "            return \"N/A\"\n",
    "    except Exception as e:\n",
    "        print(f\"Error getting neighborhood for {lat}, {lon}: {e}\")\n",
    "        return \"N/A\"\n",
    "    \n",
    "    # Pause to respect usage limits.\n",
    "    time.sleep(1)\n",
    "\n",
    "# Example usage: Apply to your DataFrame 'df' that already has 'lat' and 'lon' columns.\n",
    "df['neighborhood'] = df.apply(lambda row: get_neighborhood(row['lat'], row['lon']), axis=1)\n",
    "\n",
    "# Save the updated neighborhood cache.\n",
    "with open(\"neighborhood_cache.pkl\", \"wb\") as f:\n",
    "    pickle.dump(neighborhood_cache, f)\n",
    "\n",
    "df.head()\n"
   ]
  },
  {
   "cell_type": "markdown",
   "id": "01e9cd33",
   "metadata": {
    "papermill": {
     "duration": 0.006482,
     "end_time": "2025-04-13T02:29:54.741272",
     "exception": false,
     "start_time": "2025-04-13T02:29:54.734790",
     "status": "completed"
    },
    "tags": []
   },
   "source": [
    "### Zip"
   ]
  },
  {
   "cell_type": "code",
   "execution_count": 11,
   "id": "b8bcf552",
   "metadata": {
    "execution": {
     "iopub.execute_input": "2025-04-13T02:29:54.755541Z",
     "iopub.status.busy": "2025-04-13T02:29:54.755020Z",
     "iopub.status.idle": "2025-04-13T02:29:56.453056Z",
     "shell.execute_reply": "2025-04-13T02:29:56.452363Z"
    },
    "papermill": {
     "duration": 1.706363,
     "end_time": "2025-04-13T02:29:56.454149",
     "exception": false,
     "start_time": "2025-04-13T02:29:54.747786",
     "status": "completed"
    },
    "tags": []
   },
   "outputs": [
    {
     "name": "stdout",
     "output_type": "stream",
     "text": [
      "Loaded zip cache.\n"
     ]
    },
    {
     "data": {
      "text/html": [
       "<div>\n",
       "<style scoped>\n",
       "    .dataframe tbody tr th:only-of-type {\n",
       "        vertical-align: middle;\n",
       "    }\n",
       "\n",
       "    .dataframe tbody tr th {\n",
       "        vertical-align: top;\n",
       "    }\n",
       "\n",
       "    .dataframe thead th {\n",
       "        text-align: right;\n",
       "    }\n",
       "</style>\n",
       "<table border=\"1\" class=\"dataframe\">\n",
       "  <thead>\n",
       "    <tr style=\"text-align: right;\">\n",
       "      <th></th>\n",
       "      <th>RecordID</th>\n",
       "      <th>Offense</th>\n",
       "      <th>IncidentID</th>\n",
       "      <th>BlockNumber</th>\n",
       "      <th>StreetName</th>\n",
       "      <th>Agency</th>\n",
       "      <th>HourReported</th>\n",
       "      <th>ReportingOfficer</th>\n",
       "      <th>Date</th>\n",
       "      <th>DateString</th>\n",
       "      <th>DayOfWeek</th>\n",
       "      <th>Weekend</th>\n",
       "      <th>Season</th>\n",
       "      <th>HourAMPM</th>\n",
       "      <th>TimeOfDay</th>\n",
       "      <th>FullStreet</th>\n",
       "      <th>lat</th>\n",
       "      <th>lon</th>\n",
       "      <th>neighborhood</th>\n",
       "      <th>zip</th>\n",
       "    </tr>\n",
       "  </thead>\n",
       "  <tbody>\n",
       "    <tr>\n",
       "      <th>0</th>\n",
       "      <td>1</td>\n",
       "      <td>Motor Vehicle Theft</td>\n",
       "      <td>202500011523</td>\n",
       "      <td>600</td>\n",
       "      <td>DELEVAN ST</td>\n",
       "      <td>CPD</td>\n",
       "      <td>1708</td>\n",
       "      <td>Venereo, Arturo</td>\n",
       "      <td>2025-04-10 17:08:17</td>\n",
       "      <td>2025-04-10 05:08:17 PM</td>\n",
       "      <td>Thursday</td>\n",
       "      <td>False</td>\n",
       "      <td>Spring</td>\n",
       "      <td>05:08 PM</td>\n",
       "      <td>Evening</td>\n",
       "      <td>600 DELEVAN ST</td>\n",
       "      <td>38.029894</td>\n",
       "      <td>-78.489479</td>\n",
       "      <td>Fifeville</td>\n",
       "      <td>22903</td>\n",
       "    </tr>\n",
       "    <tr>\n",
       "      <th>1</th>\n",
       "      <td>2</td>\n",
       "      <td>Larceny - Shoplifitng</td>\n",
       "      <td>202500011521</td>\n",
       "      <td>400</td>\n",
       "      <td>E MARKET ST</td>\n",
       "      <td>CPD</td>\n",
       "      <td>1653</td>\n",
       "      <td>Brannon, Devin</td>\n",
       "      <td>2025-04-10 16:53:25</td>\n",
       "      <td>2025-04-10 04:53:25 PM</td>\n",
       "      <td>Thursday</td>\n",
       "      <td>False</td>\n",
       "      <td>Spring</td>\n",
       "      <td>04:53 PM</td>\n",
       "      <td>Afternoon</td>\n",
       "      <td>400 E MARKET ST</td>\n",
       "      <td>38.030642</td>\n",
       "      <td>-78.478791</td>\n",
       "      <td>Downtown Mall</td>\n",
       "      <td>22902</td>\n",
       "    </tr>\n",
       "    <tr>\n",
       "      <th>2</th>\n",
       "      <td>3</td>\n",
       "      <td>Assist Citizen - Mental/TDO/ECO</td>\n",
       "      <td>202500011519</td>\n",
       "      <td>1400</td>\n",
       "      <td>FOREST RIDGE RD</td>\n",
       "      <td>CPD</td>\n",
       "      <td>1627</td>\n",
       "      <td>Abdelgayed, Adam</td>\n",
       "      <td>2025-04-10 16:27:27</td>\n",
       "      <td>2025-04-10 04:27:27 PM</td>\n",
       "      <td>Thursday</td>\n",
       "      <td>False</td>\n",
       "      <td>Spring</td>\n",
       "      <td>04:27 PM</td>\n",
       "      <td>Afternoon</td>\n",
       "      <td>1400 FOREST RIDGE RD</td>\n",
       "      <td>38.025348</td>\n",
       "      <td>-78.497769</td>\n",
       "      <td>Fifeville</td>\n",
       "      <td>22903</td>\n",
       "    </tr>\n",
       "    <tr>\n",
       "      <th>3</th>\n",
       "      <td>4</td>\n",
       "      <td>Lost/FoundProperty</td>\n",
       "      <td>202500011516</td>\n",
       "      <td>100</td>\n",
       "      <td>7TH ST NE</td>\n",
       "      <td>CPD</td>\n",
       "      <td>1614</td>\n",
       "      <td>Khaleefa, Hamzeh</td>\n",
       "      <td>2025-04-10 16:14:31</td>\n",
       "      <td>2025-04-10 04:14:31 PM</td>\n",
       "      <td>Thursday</td>\n",
       "      <td>False</td>\n",
       "      <td>Spring</td>\n",
       "      <td>04:14 PM</td>\n",
       "      <td>Afternoon</td>\n",
       "      <td>100 7TH ST NE</td>\n",
       "      <td>38.029771</td>\n",
       "      <td>-78.476525</td>\n",
       "      <td>Downtown Mall</td>\n",
       "      <td>22902</td>\n",
       "    </tr>\n",
       "    <tr>\n",
       "      <th>4</th>\n",
       "      <td>5</td>\n",
       "      <td>Hit and Run</td>\n",
       "      <td>202500011511</td>\n",
       "      <td>1600</td>\n",
       "      <td>EMMET ST N</td>\n",
       "      <td>CPD</td>\n",
       "      <td>1537</td>\n",
       "      <td>Burnett, James</td>\n",
       "      <td>2025-04-10 15:37:47</td>\n",
       "      <td>2025-04-10 03:37:47 PM</td>\n",
       "      <td>Thursday</td>\n",
       "      <td>False</td>\n",
       "      <td>Spring</td>\n",
       "      <td>03:37 PM</td>\n",
       "      <td>Afternoon</td>\n",
       "      <td>1600 EMMET ST N</td>\n",
       "      <td>38.057947</td>\n",
       "      <td>-78.493911</td>\n",
       "      <td>The Meadows</td>\n",
       "      <td>22901</td>\n",
       "    </tr>\n",
       "  </tbody>\n",
       "</table>\n",
       "</div>"
      ],
      "text/plain": [
       "   RecordID                          Offense    IncidentID BlockNumber  \\\n",
       "0         1              Motor Vehicle Theft  202500011523         600   \n",
       "1         2            Larceny - Shoplifitng  202500011521         400   \n",
       "2         3  Assist Citizen - Mental/TDO/ECO  202500011519        1400   \n",
       "3         4               Lost/FoundProperty  202500011516         100   \n",
       "4         5                      Hit and Run  202500011511        1600   \n",
       "\n",
       "        StreetName Agency HourReported  ReportingOfficer                Date  \\\n",
       "0       DELEVAN ST    CPD         1708   Venereo, Arturo 2025-04-10 17:08:17   \n",
       "1      E MARKET ST    CPD         1653    Brannon, Devin 2025-04-10 16:53:25   \n",
       "2  FOREST RIDGE RD    CPD         1627  Abdelgayed, Adam 2025-04-10 16:27:27   \n",
       "3        7TH ST NE    CPD         1614  Khaleefa, Hamzeh 2025-04-10 16:14:31   \n",
       "4       EMMET ST N    CPD         1537    Burnett, James 2025-04-10 15:37:47   \n",
       "\n",
       "               DateString DayOfWeek  Weekend  Season  HourAMPM  TimeOfDay  \\\n",
       "0  2025-04-10 05:08:17 PM  Thursday    False  Spring  05:08 PM    Evening   \n",
       "1  2025-04-10 04:53:25 PM  Thursday    False  Spring  04:53 PM  Afternoon   \n",
       "2  2025-04-10 04:27:27 PM  Thursday    False  Spring  04:27 PM  Afternoon   \n",
       "3  2025-04-10 04:14:31 PM  Thursday    False  Spring  04:14 PM  Afternoon   \n",
       "4  2025-04-10 03:37:47 PM  Thursday    False  Spring  03:37 PM  Afternoon   \n",
       "\n",
       "             FullStreet        lat        lon   neighborhood    zip  \n",
       "0        600 DELEVAN ST  38.029894 -78.489479      Fifeville  22903  \n",
       "1       400 E MARKET ST  38.030642 -78.478791  Downtown Mall  22902  \n",
       "2  1400 FOREST RIDGE RD  38.025348 -78.497769      Fifeville  22903  \n",
       "3         100 7TH ST NE  38.029771 -78.476525  Downtown Mall  22902  \n",
       "4       1600 EMMET ST N  38.057947 -78.493911    The Meadows  22901  "
      ]
     },
     "execution_count": 11,
     "metadata": {},
     "output_type": "execute_result"
    }
   ],
   "source": [
    "# Initialize the geocoder.\n",
    "geolocator = Nominatim(user_agent=\"zip_lookup\")\n",
    "\n",
    "# Try to load a persistent ZIP cache if available.\n",
    "try:\n",
    "    with open(\"zip_cache.pkl\", \"rb\") as f:\n",
    "        zip_cache = pickle.load(f)\n",
    "    print(\"Loaded zip cache.\")\n",
    "except FileNotFoundError:\n",
    "    zip_cache = {}\n",
    "    print(\"No zip cache found; starting fresh.\")\n",
    "\n",
    "def get_zip(lat, lon):\n",
    "    \"\"\"\n",
    "    Reverse geocodes a latitude and longitude to retrieve the ZIP code.\n",
    "    Caches results to speed up subsequent lookups.\n",
    "    \"\"\"\n",
    "    key = (lat, lon)\n",
    "    if key in zip_cache:\n",
    "        return zip_cache[key]\n",
    "    \n",
    "    try:\n",
    "        location = geolocator.reverse((lat, lon), exactly_one=True, timeout=10)\n",
    "        address = location.raw.get('address', {})\n",
    "        postal_code = address.get('postcode', \"N/A\")\n",
    "    except Exception as e:\n",
    "        print(f\"Error getting ZIP for {lat}, {lon}: {e}\")\n",
    "        postal_code = \"N/A\"\n",
    "    \n",
    "    zip_cache[key] = postal_code\n",
    "    # Pause to respect the usage policy.\n",
    "    time.sleep(1)\n",
    "    return postal_code\n",
    "\n",
    "# Apply the function to each row in the DataFrame.\n",
    "df['zip'] = df.apply(lambda row: get_zip(row['lat'], row['lon']), axis=1)\n",
    "\n",
    "# Save the updated ZIP cache.\n",
    "with open(\"zip_cache.pkl\", \"wb\") as f:\n",
    "    pickle.dump(zip_cache, f)\n",
    "\n",
    "df.head()\n"
   ]
  },
  {
   "cell_type": "code",
   "execution_count": 12,
   "id": "8a31b9da",
   "metadata": {
    "execution": {
     "iopub.execute_input": "2025-04-13T02:29:56.468996Z",
     "iopub.status.busy": "2025-04-13T02:29:56.468782Z",
     "iopub.status.idle": "2025-04-13T02:29:56.493831Z",
     "shell.execute_reply": "2025-04-13T02:29:56.493244Z"
    },
    "papermill": {
     "duration": 0.033613,
     "end_time": "2025-04-13T02:29:56.494878",
     "exception": false,
     "start_time": "2025-04-13T02:29:56.461265",
     "status": "completed"
    },
    "tags": []
   },
   "outputs": [
    {
     "name": "stdout",
     "output_type": "stream",
     "text": [
      "                  MissingCount  MissingPercentage\n",
      "RecordID                     0               0.00\n",
      "Offense                      0               0.00\n",
      "IncidentID                   0               0.00\n",
      "BlockNumber                  0               0.00\n",
      "StreetName                   0               0.00\n",
      "Agency                       0               0.00\n",
      "HourReported                 0               0.00\n",
      "ReportingOfficer            17               0.07\n",
      "Date                         0               0.00\n",
      "DateString                   0               0.00\n",
      "DayOfWeek                    0               0.00\n",
      "Weekend                      0               0.00\n",
      "Season                       0               0.00\n",
      "HourAMPM                     0               0.00\n",
      "TimeOfDay                    0               0.00\n",
      "FullStreet                   0               0.00\n",
      "lat                          0               0.00\n",
      "lon                          0               0.00\n",
      "neighborhood                 0               0.00\n",
      "zip                          0               0.00\n"
     ]
    }
   ],
   "source": [
    "missing_info = missing_percentage(df)\n",
    "print(missing_info)\n"
   ]
  },
  {
   "cell_type": "code",
   "execution_count": 13,
   "id": "6278dc29",
   "metadata": {
    "execution": {
     "iopub.execute_input": "2025-04-13T02:29:56.509643Z",
     "iopub.status.busy": "2025-04-13T02:29:56.509374Z",
     "iopub.status.idle": "2025-04-13T02:29:56.534358Z",
     "shell.execute_reply": "2025-04-13T02:29:56.533668Z"
    },
    "papermill": {
     "duration": 0.033498,
     "end_time": "2025-04-13T02:29:56.535322",
     "exception": false,
     "start_time": "2025-04-13T02:29:56.501824",
     "status": "completed"
    },
    "tags": []
   },
   "outputs": [
    {
     "name": "stdout",
     "output_type": "stream",
     "text": [
      "<class 'pandas.core.frame.DataFrame'>\n",
      "RangeIndex: 25156 entries, 0 to 25155\n",
      "Data columns (total 20 columns):\n",
      " #   Column            Non-Null Count  Dtype         \n",
      "---  ------            --------------  -----         \n",
      " 0   RecordID          25156 non-null  int64         \n",
      " 1   Offense           25156 non-null  object        \n",
      " 2   IncidentID        25156 non-null  object        \n",
      " 3   BlockNumber       25156 non-null  object        \n",
      " 4   StreetName        25156 non-null  object        \n",
      " 5   Agency            25156 non-null  object        \n",
      " 6   HourReported      25156 non-null  object        \n",
      " 7   ReportingOfficer  25139 non-null  object        \n",
      " 8   Date              25156 non-null  datetime64[ns]\n",
      " 9   DateString        25156 non-null  object        \n",
      " 10  DayOfWeek         25156 non-null  object        \n",
      " 11  Weekend           25156 non-null  bool          \n",
      " 12  Season            25156 non-null  object        \n",
      " 13  HourAMPM          25156 non-null  object        \n",
      " 14  TimeOfDay         25156 non-null  object        \n",
      " 15  FullStreet        25156 non-null  object        \n",
      " 16  lat               25156 non-null  float64       \n",
      " 17  lon               25156 non-null  float64       \n",
      " 18  neighborhood      25156 non-null  object        \n",
      " 19  zip               25156 non-null  object        \n",
      "dtypes: bool(1), datetime64[ns](1), float64(2), int64(1), object(15)\n",
      "memory usage: 3.7+ MB\n"
     ]
    }
   ],
   "source": [
    "df.info()"
   ]
  },
  {
   "cell_type": "code",
   "execution_count": 14,
   "id": "2ccd5b72",
   "metadata": {
    "execution": {
     "iopub.execute_input": "2025-04-13T02:29:56.550654Z",
     "iopub.status.busy": "2025-04-13T02:29:56.550102Z",
     "iopub.status.idle": "2025-04-13T02:29:56.588700Z",
     "shell.execute_reply": "2025-04-13T02:29:56.588007Z"
    },
    "papermill": {
     "duration": 0.04743,
     "end_time": "2025-04-13T02:29:56.589801",
     "exception": false,
     "start_time": "2025-04-13T02:29:56.542371",
     "status": "completed"
    },
    "tags": []
   },
   "outputs": [
    {
     "data": {
      "text/html": [
       "<div>\n",
       "<style scoped>\n",
       "    .dataframe tbody tr th:only-of-type {\n",
       "        vertical-align: middle;\n",
       "    }\n",
       "\n",
       "    .dataframe tbody tr th {\n",
       "        vertical-align: top;\n",
       "    }\n",
       "\n",
       "    .dataframe thead th {\n",
       "        text-align: right;\n",
       "    }\n",
       "</style>\n",
       "<table border=\"1\" class=\"dataframe\">\n",
       "  <thead>\n",
       "    <tr style=\"text-align: right;\">\n",
       "      <th></th>\n",
       "      <th>RecordID</th>\n",
       "      <th>Offense</th>\n",
       "      <th>IncidentID</th>\n",
       "      <th>Agency</th>\n",
       "      <th>ReportingOfficer</th>\n",
       "      <th>Date</th>\n",
       "      <th>DayOfWeek</th>\n",
       "      <th>Weekend</th>\n",
       "      <th>Season</th>\n",
       "      <th>TimeOfDay</th>\n",
       "      <th>FullStreet</th>\n",
       "      <th>lat</th>\n",
       "      <th>lon</th>\n",
       "      <th>neighborhood</th>\n",
       "      <th>zip</th>\n",
       "    </tr>\n",
       "  </thead>\n",
       "  <tbody>\n",
       "    <tr>\n",
       "      <th>0</th>\n",
       "      <td>1</td>\n",
       "      <td>Motor Vehicle Theft</td>\n",
       "      <td>202500011523</td>\n",
       "      <td>CPD</td>\n",
       "      <td>Venereo, Arturo</td>\n",
       "      <td>2025-04-10 17:08:17</td>\n",
       "      <td>Thursday</td>\n",
       "      <td>False</td>\n",
       "      <td>Spring</td>\n",
       "      <td>Evening</td>\n",
       "      <td>600 DELEVAN ST</td>\n",
       "      <td>38.029894</td>\n",
       "      <td>-78.489479</td>\n",
       "      <td>Fifeville</td>\n",
       "      <td>22903</td>\n",
       "    </tr>\n",
       "    <tr>\n",
       "      <th>1</th>\n",
       "      <td>2</td>\n",
       "      <td>Larceny - Shoplifitng</td>\n",
       "      <td>202500011521</td>\n",
       "      <td>CPD</td>\n",
       "      <td>Brannon, Devin</td>\n",
       "      <td>2025-04-10 16:53:25</td>\n",
       "      <td>Thursday</td>\n",
       "      <td>False</td>\n",
       "      <td>Spring</td>\n",
       "      <td>Afternoon</td>\n",
       "      <td>400 E MARKET ST</td>\n",
       "      <td>38.030642</td>\n",
       "      <td>-78.478791</td>\n",
       "      <td>Downtown Mall</td>\n",
       "      <td>22902</td>\n",
       "    </tr>\n",
       "    <tr>\n",
       "      <th>2</th>\n",
       "      <td>3</td>\n",
       "      <td>Assist Citizen - Mental/TDO/ECO</td>\n",
       "      <td>202500011519</td>\n",
       "      <td>CPD</td>\n",
       "      <td>Abdelgayed, Adam</td>\n",
       "      <td>2025-04-10 16:27:27</td>\n",
       "      <td>Thursday</td>\n",
       "      <td>False</td>\n",
       "      <td>Spring</td>\n",
       "      <td>Afternoon</td>\n",
       "      <td>1400 FOREST RIDGE RD</td>\n",
       "      <td>38.025348</td>\n",
       "      <td>-78.497769</td>\n",
       "      <td>Fifeville</td>\n",
       "      <td>22903</td>\n",
       "    </tr>\n",
       "    <tr>\n",
       "      <th>3</th>\n",
       "      <td>4</td>\n",
       "      <td>Lost/FoundProperty</td>\n",
       "      <td>202500011516</td>\n",
       "      <td>CPD</td>\n",
       "      <td>Khaleefa, Hamzeh</td>\n",
       "      <td>2025-04-10 16:14:31</td>\n",
       "      <td>Thursday</td>\n",
       "      <td>False</td>\n",
       "      <td>Spring</td>\n",
       "      <td>Afternoon</td>\n",
       "      <td>100 7TH ST NE</td>\n",
       "      <td>38.029771</td>\n",
       "      <td>-78.476525</td>\n",
       "      <td>Downtown Mall</td>\n",
       "      <td>22902</td>\n",
       "    </tr>\n",
       "    <tr>\n",
       "      <th>4</th>\n",
       "      <td>5</td>\n",
       "      <td>Hit and Run</td>\n",
       "      <td>202500011511</td>\n",
       "      <td>CPD</td>\n",
       "      <td>Burnett, James</td>\n",
       "      <td>2025-04-10 15:37:47</td>\n",
       "      <td>Thursday</td>\n",
       "      <td>False</td>\n",
       "      <td>Spring</td>\n",
       "      <td>Afternoon</td>\n",
       "      <td>1600 EMMET ST N</td>\n",
       "      <td>38.057947</td>\n",
       "      <td>-78.493911</td>\n",
       "      <td>The Meadows</td>\n",
       "      <td>22901</td>\n",
       "    </tr>\n",
       "  </tbody>\n",
       "</table>\n",
       "</div>"
      ],
      "text/plain": [
       "   RecordID                          Offense    IncidentID Agency  \\\n",
       "0         1              Motor Vehicle Theft  202500011523    CPD   \n",
       "1         2            Larceny - Shoplifitng  202500011521    CPD   \n",
       "2         3  Assist Citizen - Mental/TDO/ECO  202500011519    CPD   \n",
       "3         4               Lost/FoundProperty  202500011516    CPD   \n",
       "4         5                      Hit and Run  202500011511    CPD   \n",
       "\n",
       "   ReportingOfficer                Date DayOfWeek  Weekend  Season  TimeOfDay  \\\n",
       "0   Venereo, Arturo 2025-04-10 17:08:17  Thursday    False  Spring    Evening   \n",
       "1    Brannon, Devin 2025-04-10 16:53:25  Thursday    False  Spring  Afternoon   \n",
       "2  Abdelgayed, Adam 2025-04-10 16:27:27  Thursday    False  Spring  Afternoon   \n",
       "3  Khaleefa, Hamzeh 2025-04-10 16:14:31  Thursday    False  Spring  Afternoon   \n",
       "4    Burnett, James 2025-04-10 15:37:47  Thursday    False  Spring  Afternoon   \n",
       "\n",
       "             FullStreet        lat        lon   neighborhood    zip  \n",
       "0        600 DELEVAN ST  38.029894 -78.489479      Fifeville  22903  \n",
       "1       400 E MARKET ST  38.030642 -78.478791  Downtown Mall  22902  \n",
       "2  1400 FOREST RIDGE RD  38.025348 -78.497769      Fifeville  22903  \n",
       "3         100 7TH ST NE  38.029771 -78.476525  Downtown Mall  22902  \n",
       "4       1600 EMMET ST N  38.057947 -78.493911    The Meadows  22901  "
      ]
     },
     "execution_count": 14,
     "metadata": {},
     "output_type": "execute_result"
    }
   ],
   "source": [
    "# Now drop the original BlockNumber and StreetName columns\n",
    "df.drop(columns=['BlockNumber', 'StreetName','HourAMPM','HourReported','DateString'], inplace=True)\n",
    "df[\"zip\"] = df[\"zip\"].astype(str)\n",
    "\n",
    "# Fill all missing values in the DataFrame with \"N/A\"\n",
    "df.replace({None: \"N/A\", np.nan: \"N/A\", \"\": \"N/A\"}, inplace=True)\n",
    "df.head()"
   ]
  },
  {
   "cell_type": "code",
   "execution_count": 15,
   "id": "6877906c",
   "metadata": {
    "execution": {
     "iopub.execute_input": "2025-04-13T02:29:56.606037Z",
     "iopub.status.busy": "2025-04-13T02:29:56.605497Z",
     "iopub.status.idle": "2025-04-13T02:29:56.619767Z",
     "shell.execute_reply": "2025-04-13T02:29:56.619096Z"
    },
    "papermill": {
     "duration": 0.023345,
     "end_time": "2025-04-13T02:29:56.620741",
     "exception": false,
     "start_time": "2025-04-13T02:29:56.597396",
     "status": "completed"
    },
    "tags": []
   },
   "outputs": [
    {
     "name": "stdout",
     "output_type": "stream",
     "text": [
      "                  MissingCount  MissingPercentage\n",
      "RecordID                     0                0.0\n",
      "Offense                      0                0.0\n",
      "IncidentID                   0                0.0\n",
      "Agency                       0                0.0\n",
      "ReportingOfficer             0                0.0\n",
      "Date                         0                0.0\n",
      "DayOfWeek                    0                0.0\n",
      "Weekend                      0                0.0\n",
      "Season                       0                0.0\n",
      "TimeOfDay                    0                0.0\n",
      "FullStreet                   0                0.0\n",
      "lat                          0                0.0\n",
      "lon                          0                0.0\n",
      "neighborhood                 0                0.0\n",
      "zip                          0                0.0\n"
     ]
    }
   ],
   "source": [
    "missing_info = missing_percentage(df)\n",
    "print(missing_info)"
   ]
  },
  {
   "cell_type": "code",
   "execution_count": 16,
   "id": "58598473",
   "metadata": {
    "execution": {
     "iopub.execute_input": "2025-04-13T02:29:56.636427Z",
     "iopub.status.busy": "2025-04-13T02:29:56.636077Z",
     "iopub.status.idle": "2025-04-13T02:29:56.640232Z",
     "shell.execute_reply": "2025-04-13T02:29:56.639722Z"
    },
    "papermill": {
     "duration": 0.013156,
     "end_time": "2025-04-13T02:29:56.641234",
     "exception": false,
     "start_time": "2025-04-13T02:29:56.628078",
     "status": "completed"
    },
    "tags": []
   },
   "outputs": [
    {
     "data": {
      "text/plain": [
       "Index(['RecordID', 'Offense', 'IncidentID', 'Agency', 'ReportingOfficer',\n",
       "       'Date', 'DayOfWeek', 'Weekend', 'Season', 'TimeOfDay', 'FullStreet',\n",
       "       'lat', 'lon', 'neighborhood', 'zip'],\n",
       "      dtype='object')"
      ]
     },
     "execution_count": 16,
     "metadata": {},
     "output_type": "execute_result"
    }
   ],
   "source": [
    "df.columns"
   ]
  },
  {
   "cell_type": "code",
   "execution_count": 17,
   "id": "44208d5b",
   "metadata": {
    "execution": {
     "iopub.execute_input": "2025-04-13T02:29:56.657224Z",
     "iopub.status.busy": "2025-04-13T02:29:56.656655Z",
     "iopub.status.idle": "2025-04-13T02:29:56.672013Z",
     "shell.execute_reply": "2025-04-13T02:29:56.671434Z"
    },
    "papermill": {
     "duration": 0.024345,
     "end_time": "2025-04-13T02:29:56.673039",
     "exception": false,
     "start_time": "2025-04-13T02:29:56.648694",
     "status": "completed"
    },
    "tags": []
   },
   "outputs": [
    {
     "name": "stdout",
     "output_type": "stream",
     "text": [
      "<class 'pandas.core.frame.DataFrame'>\n",
      "RangeIndex: 25156 entries, 0 to 25155\n",
      "Data columns (total 15 columns):\n",
      " #   Column            Non-Null Count  Dtype         \n",
      "---  ------            --------------  -----         \n",
      " 0   RecordID          25156 non-null  int64         \n",
      " 1   Offense           25156 non-null  object        \n",
      " 2   IncidentID        25156 non-null  object        \n",
      " 3   Agency            25156 non-null  object        \n",
      " 4   ReportingOfficer  25156 non-null  object        \n",
      " 5   Date              25156 non-null  datetime64[ns]\n",
      " 6   DayOfWeek         25156 non-null  object        \n",
      " 7   Weekend           25156 non-null  bool          \n",
      " 8   Season            25156 non-null  object        \n",
      " 9   TimeOfDay         25156 non-null  object        \n",
      " 10  FullStreet        25156 non-null  object        \n",
      " 11  lat               25156 non-null  float64       \n",
      " 12  lon               25156 non-null  float64       \n",
      " 13  neighborhood      25156 non-null  object        \n",
      " 14  zip               25156 non-null  object        \n",
      "dtypes: bool(1), datetime64[ns](1), float64(2), int64(1), object(10)\n",
      "memory usage: 2.7+ MB\n"
     ]
    }
   ],
   "source": [
    "df.info()"
   ]
  },
  {
   "cell_type": "markdown",
   "id": "f151ed6d",
   "metadata": {
    "papermill": {
     "duration": 0.007596,
     "end_time": "2025-04-13T02:29:56.688557",
     "exception": false,
     "start_time": "2025-04-13T02:29:56.680961",
     "status": "completed"
    },
    "tags": []
   },
   "source": [
    "### Export Clean Data"
   ]
  },
  {
   "cell_type": "code",
   "execution_count": 18,
   "id": "53eaad83",
   "metadata": {
    "execution": {
     "iopub.execute_input": "2025-04-13T02:29:56.704580Z",
     "iopub.status.busy": "2025-04-13T02:29:56.704382Z",
     "iopub.status.idle": "2025-04-13T02:30:05.788513Z",
     "shell.execute_reply": "2025-04-13T02:30:05.787930Z"
    },
    "papermill": {
     "duration": 9.09327,
     "end_time": "2025-04-13T02:30:05.789517",
     "exception": false,
     "start_time": "2025-04-13T02:29:56.696247",
     "status": "completed"
    },
    "tags": []
   },
   "outputs": [
    {
     "name": "stdout",
     "output_type": "stream",
     "text": [
      "Project Root: /home/runner/work/crime-data/crime-data\n"
     ]
    },
    {
     "name": "stdout",
     "output_type": "stream",
     "text": [
      "Data saved to: /home/runner/work/crime-data/crime-data/data/charlottesville_crime_incidents.csv\n"
     ]
    },
    {
     "name": "stdout",
     "output_type": "stream",
     "text": [
      "Excel saved to: /home/runner/work/crime-data/crime-data/data/charlottesville_crime_incidents.xlsx\n"
     ]
    }
   ],
   "source": [
    "# Determine the project root (assuming papermill is run from the repository root)\n",
    "project_root = os.getcwd()\n",
    "print(\"Project Root:\", project_root)\n",
    "\n",
    "# Set the data directory within the project root\n",
    "data_dir = os.path.join(project_root, \"data\")\n",
    "\n",
    "# Ensure the \"data\" directory exists (create it if it doesn't)\n",
    "if not os.path.exists(data_dir):\n",
    "    os.makedirs(data_dir)\n",
    "\n",
    "# Export the DataFrame to CSV in the \"data\" folder located in the project root\n",
    "csv_path = os.path.join(data_dir, \"charlottesville_crime_incidents.csv\")\n",
    "df.to_csv(csv_path, index=False)\n",
    "print(\"Data saved to:\", csv_path)\n",
    "\n",
    "# Construct the path to your Excel file\n",
    "excel_path = os.path.join(data_dir, \"charlottesville_crime_incidents.xlsx\")\n",
    "\n",
    "# Export the DataFrame to Excel\n",
    "df.to_excel(excel_path, index=False)\n",
    "print(\"Excel saved to:\", excel_path)\n"
   ]
  },
  {
   "cell_type": "markdown",
   "id": "474e4218",
   "metadata": {
    "papermill": {
     "duration": 0.007821,
     "end_time": "2025-04-13T02:30:05.805561",
     "exception": false,
     "start_time": "2025-04-13T02:30:05.797740",
     "status": "completed"
    },
    "tags": []
   },
   "source": [
    "## Predictive Analytics"
   ]
  },
  {
   "cell_type": "code",
   "execution_count": 19,
   "id": "ea6cf7cd",
   "metadata": {
    "execution": {
     "iopub.execute_input": "2025-04-13T02:30:05.843870Z",
     "iopub.status.busy": "2025-04-13T02:30:05.843583Z",
     "iopub.status.idle": "2025-04-13T02:30:05.855969Z",
     "shell.execute_reply": "2025-04-13T02:30:05.855270Z"
    },
    "papermill": {
     "duration": 0.021939,
     "end_time": "2025-04-13T02:30:05.856929",
     "exception": false,
     "start_time": "2025-04-13T02:30:05.834990",
     "status": "completed"
    },
    "tags": []
   },
   "outputs": [
    {
     "data": {
      "text/html": [
       "<div>\n",
       "<style scoped>\n",
       "    .dataframe tbody tr th:only-of-type {\n",
       "        vertical-align: middle;\n",
       "    }\n",
       "\n",
       "    .dataframe tbody tr th {\n",
       "        vertical-align: top;\n",
       "    }\n",
       "\n",
       "    .dataframe thead th {\n",
       "        text-align: right;\n",
       "    }\n",
       "</style>\n",
       "<table border=\"1\" class=\"dataframe\">\n",
       "  <thead>\n",
       "    <tr style=\"text-align: right;\">\n",
       "      <th></th>\n",
       "      <th>RecordID</th>\n",
       "      <th>Offense</th>\n",
       "      <th>IncidentID</th>\n",
       "      <th>Agency</th>\n",
       "      <th>ReportingOfficer</th>\n",
       "      <th>Date</th>\n",
       "      <th>DayOfWeek</th>\n",
       "      <th>Weekend</th>\n",
       "      <th>Season</th>\n",
       "      <th>TimeOfDay</th>\n",
       "      <th>FullStreet</th>\n",
       "      <th>lat</th>\n",
       "      <th>lon</th>\n",
       "      <th>neighborhood</th>\n",
       "      <th>zip</th>\n",
       "    </tr>\n",
       "  </thead>\n",
       "  <tbody>\n",
       "    <tr>\n",
       "      <th>0</th>\n",
       "      <td>1</td>\n",
       "      <td>Motor Vehicle Theft</td>\n",
       "      <td>202500011523</td>\n",
       "      <td>CPD</td>\n",
       "      <td>Venereo, Arturo</td>\n",
       "      <td>2025-04-10 17:08:17</td>\n",
       "      <td>Thursday</td>\n",
       "      <td>False</td>\n",
       "      <td>Spring</td>\n",
       "      <td>Evening</td>\n",
       "      <td>600 DELEVAN ST</td>\n",
       "      <td>38.029894</td>\n",
       "      <td>-78.489479</td>\n",
       "      <td>Fifeville</td>\n",
       "      <td>22903</td>\n",
       "    </tr>\n",
       "    <tr>\n",
       "      <th>1</th>\n",
       "      <td>2</td>\n",
       "      <td>Larceny - Shoplifitng</td>\n",
       "      <td>202500011521</td>\n",
       "      <td>CPD</td>\n",
       "      <td>Brannon, Devin</td>\n",
       "      <td>2025-04-10 16:53:25</td>\n",
       "      <td>Thursday</td>\n",
       "      <td>False</td>\n",
       "      <td>Spring</td>\n",
       "      <td>Afternoon</td>\n",
       "      <td>400 E MARKET ST</td>\n",
       "      <td>38.030642</td>\n",
       "      <td>-78.478791</td>\n",
       "      <td>Downtown Mall</td>\n",
       "      <td>22902</td>\n",
       "    </tr>\n",
       "    <tr>\n",
       "      <th>2</th>\n",
       "      <td>3</td>\n",
       "      <td>Assist Citizen - Mental/TDO/ECO</td>\n",
       "      <td>202500011519</td>\n",
       "      <td>CPD</td>\n",
       "      <td>Abdelgayed, Adam</td>\n",
       "      <td>2025-04-10 16:27:27</td>\n",
       "      <td>Thursday</td>\n",
       "      <td>False</td>\n",
       "      <td>Spring</td>\n",
       "      <td>Afternoon</td>\n",
       "      <td>1400 FOREST RIDGE RD</td>\n",
       "      <td>38.025348</td>\n",
       "      <td>-78.497769</td>\n",
       "      <td>Fifeville</td>\n",
       "      <td>22903</td>\n",
       "    </tr>\n",
       "    <tr>\n",
       "      <th>3</th>\n",
       "      <td>4</td>\n",
       "      <td>Lost/FoundProperty</td>\n",
       "      <td>202500011516</td>\n",
       "      <td>CPD</td>\n",
       "      <td>Khaleefa, Hamzeh</td>\n",
       "      <td>2025-04-10 16:14:31</td>\n",
       "      <td>Thursday</td>\n",
       "      <td>False</td>\n",
       "      <td>Spring</td>\n",
       "      <td>Afternoon</td>\n",
       "      <td>100 7TH ST NE</td>\n",
       "      <td>38.029771</td>\n",
       "      <td>-78.476525</td>\n",
       "      <td>Downtown Mall</td>\n",
       "      <td>22902</td>\n",
       "    </tr>\n",
       "    <tr>\n",
       "      <th>4</th>\n",
       "      <td>5</td>\n",
       "      <td>Hit and Run</td>\n",
       "      <td>202500011511</td>\n",
       "      <td>CPD</td>\n",
       "      <td>Burnett, James</td>\n",
       "      <td>2025-04-10 15:37:47</td>\n",
       "      <td>Thursday</td>\n",
       "      <td>False</td>\n",
       "      <td>Spring</td>\n",
       "      <td>Afternoon</td>\n",
       "      <td>1600 EMMET ST N</td>\n",
       "      <td>38.057947</td>\n",
       "      <td>-78.493911</td>\n",
       "      <td>The Meadows</td>\n",
       "      <td>22901</td>\n",
       "    </tr>\n",
       "  </tbody>\n",
       "</table>\n",
       "</div>"
      ],
      "text/plain": [
       "   RecordID                          Offense    IncidentID Agency  \\\n",
       "0         1              Motor Vehicle Theft  202500011523    CPD   \n",
       "1         2            Larceny - Shoplifitng  202500011521    CPD   \n",
       "2         3  Assist Citizen - Mental/TDO/ECO  202500011519    CPD   \n",
       "3         4               Lost/FoundProperty  202500011516    CPD   \n",
       "4         5                      Hit and Run  202500011511    CPD   \n",
       "\n",
       "   ReportingOfficer                Date DayOfWeek  Weekend  Season  TimeOfDay  \\\n",
       "0   Venereo, Arturo 2025-04-10 17:08:17  Thursday    False  Spring    Evening   \n",
       "1    Brannon, Devin 2025-04-10 16:53:25  Thursday    False  Spring  Afternoon   \n",
       "2  Abdelgayed, Adam 2025-04-10 16:27:27  Thursday    False  Spring  Afternoon   \n",
       "3  Khaleefa, Hamzeh 2025-04-10 16:14:31  Thursday    False  Spring  Afternoon   \n",
       "4    Burnett, James 2025-04-10 15:37:47  Thursday    False  Spring  Afternoon   \n",
       "\n",
       "             FullStreet        lat        lon   neighborhood    zip  \n",
       "0        600 DELEVAN ST  38.029894 -78.489479      Fifeville  22903  \n",
       "1       400 E MARKET ST  38.030642 -78.478791  Downtown Mall  22902  \n",
       "2  1400 FOREST RIDGE RD  38.025348 -78.497769      Fifeville  22903  \n",
       "3         100 7TH ST NE  38.029771 -78.476525  Downtown Mall  22902  \n",
       "4       1600 EMMET ST N  38.057947 -78.493911    The Meadows  22901  "
      ]
     },
     "execution_count": 19,
     "metadata": {},
     "output_type": "execute_result"
    }
   ],
   "source": [
    "df.head()"
   ]
  },
  {
   "cell_type": "code",
   "execution_count": 20,
   "id": "c23795b6",
   "metadata": {
    "execution": {
     "iopub.execute_input": "2025-04-13T02:30:05.873722Z",
     "iopub.status.busy": "2025-04-13T02:30:05.873492Z",
     "iopub.status.idle": "2025-04-13T02:30:05.877869Z",
     "shell.execute_reply": "2025-04-13T02:30:05.877224Z"
    },
    "papermill": {
     "duration": 0.013976,
     "end_time": "2025-04-13T02:30:05.878903",
     "exception": false,
     "start_time": "2025-04-13T02:30:05.864927",
     "status": "completed"
    },
    "tags": []
   },
   "outputs": [
    {
     "data": {
      "text/plain": [
       "Index(['RecordID', 'Offense', 'IncidentID', 'Agency', 'ReportingOfficer',\n",
       "       'Date', 'DayOfWeek', 'Weekend', 'Season', 'TimeOfDay', 'FullStreet',\n",
       "       'lat', 'lon', 'neighborhood', 'zip'],\n",
       "      dtype='object')"
      ]
     },
     "execution_count": 20,
     "metadata": {},
     "output_type": "execute_result"
    }
   ],
   "source": [
    "df.columns"
   ]
  },
  {
   "cell_type": "markdown",
   "id": "512a003d",
   "metadata": {
    "papermill": {
     "duration": 0.008106,
     "end_time": "2025-04-13T02:30:05.895250",
     "exception": false,
     "start_time": "2025-04-13T02:30:05.887144",
     "status": "completed"
    },
    "tags": []
   },
   "source": [
    "### Data Preparation\n",
    "\n",
    "We need to ensure the data is in the correct format for modeling and can handle missing values, categorical variables, and dates. Here's how to prepare your data:"
   ]
  },
  {
   "cell_type": "code",
   "execution_count": 21,
   "id": "c62ad9ff",
   "metadata": {
    "execution": {
     "iopub.execute_input": "2025-04-13T02:30:05.912687Z",
     "iopub.status.busy": "2025-04-13T02:30:05.912163Z",
     "iopub.status.idle": "2025-04-13T02:30:07.310131Z",
     "shell.execute_reply": "2025-04-13T02:30:07.309434Z"
    },
    "papermill": {
     "duration": 1.407893,
     "end_time": "2025-04-13T02:30:07.311447",
     "exception": false,
     "start_time": "2025-04-13T02:30:05.903554",
     "status": "completed"
    },
    "tags": []
   },
   "outputs": [],
   "source": [
    "import pandas as pd\n",
    "from sklearn.model_selection import train_test_split\n",
    "from sklearn.preprocessing import OneHotEncoder, LabelEncoder\n",
    "from sklearn.ensemble import RandomForestClassifier\n",
    "from sklearn.linear_model import LogisticRegression\n",
    "from sklearn.tree import DecisionTreeClassifier\n",
    "from sklearn.metrics import classification_report, accuracy_score\n",
    "import seaborn as sns\n",
    "import matplotlib.pyplot as plt\n",
    "\n",
    "# Convert 'Date' to datetime\n",
    "df['Date'] = pd.to_datetime(df['Date'])\n",
    "\n",
    "# Feature engineering: Extract additional time-based features\n",
    "df['Year'] = df['Date'].dt.year\n",
    "df['Month'] = df['Date'].dt.month\n",
    "df['DayOfMonth'] = df['Date'].dt.day\n",
    "\n",
    "# One-hot encoding for 'FullStreet', 'neighborhood', 'zip'\n",
    "df = pd.get_dummies(df, columns=['FullStreet', 'neighborhood', 'zip'], drop_first=True)\n",
    "\n",
    "# Label encoding for ordered variables (those with a natural order like 'DayOfWeek', 'Season', 'TimeOfDay')\n",
    "label_encoders = {}\n",
    "for column in ['DayOfWeek', 'Season', 'TimeOfDay', 'Agency', 'ReportingOfficer']:  # Example ordinal variables\n",
    "    le = LabelEncoder()\n",
    "    df[column] = le.fit_transform(df[column])\n",
    "    label_encoders[column] = le\n",
    "\n",
    "# Filter the dataset to include only the offenses of interest\n",
    "offenses_of_interest = [\n",
    "    'Hit and Run', 'Assault Simple', 'Suspicious Activity', 'Vandalism', \n",
    "    'Larceny - From Mot Vehicle', 'Larceny - All Other', \n",
    "    'Assist Citizen - Mental/TDO/ECO', 'Lost/FoundProperty'\n",
    "]\n",
    "\n",
    "df = df[df['Offense'].isin(offenses_of_interest)]\n",
    "\n",
    "# Label encode the target variable (Offense)\n",
    "offense_encoder = LabelEncoder()\n",
    "df['Offense'] = offense_encoder.fit_transform(df['Offense'])\n",
    "\n",
    "# Separate features (X) and target (y)\n",
    "X = df[['Year', 'Month', 'DayOfMonth', 'DayOfWeek', 'Weekend', 'Season', 'TimeOfDay', 'lat', 'lon', 'Agency', 'ReportingOfficer']]\n",
    "y = df['Offense']  # Offense is now the encoded target variable\n",
    "\n",
    "# Split the data into training and testing sets\n",
    "X_train, X_test, y_train, y_test = train_test_split(X, y, test_size=0.3, random_state=42)\n"
   ]
  },
  {
   "cell_type": "markdown",
   "id": "1d9dd820",
   "metadata": {
    "papermill": {
     "duration": 0.007959,
     "end_time": "2025-04-13T02:30:07.327236",
     "exception": false,
     "start_time": "2025-04-13T02:30:07.319277",
     "status": "completed"
    },
    "tags": []
   },
   "source": [
    "### Model Training\n",
    "\n",
    "Here we will train several models (e.g., Random Forest, Logistic Regression, and Decision Tree). We will use cross-validation to choose the best model based on accuracy, and then explain the impact of the variables."
   ]
  },
  {
   "cell_type": "code",
   "execution_count": 22,
   "id": "0f4333d1",
   "metadata": {
    "execution": {
     "iopub.execute_input": "2025-04-13T02:30:07.345107Z",
     "iopub.status.busy": "2025-04-13T02:30:07.344364Z",
     "iopub.status.idle": "2025-04-13T02:30:10.845200Z",
     "shell.execute_reply": "2025-04-13T02:30:10.844632Z"
    },
    "papermill": {
     "duration": 3.510915,
     "end_time": "2025-04-13T02:30:10.846309",
     "exception": false,
     "start_time": "2025-04-13T02:30:07.335394",
     "status": "completed"
    },
    "tags": []
   },
   "outputs": [
    {
     "name": "stderr",
     "output_type": "stream",
     "text": [
      "/opt/hostedtoolcache/Python/3.9.21/x64/lib/python3.9/site-packages/sklearn/linear_model/_logistic.py:465: ConvergenceWarning: lbfgs failed to converge (status=1):\n",
      "STOP: TOTAL NO. of ITERATIONS REACHED LIMIT.\n",
      "\n",
      "Increase the number of iterations (max_iter) or scale the data as shown in:\n",
      "    https://scikit-learn.org/stable/modules/preprocessing.html\n",
      "Please also refer to the documentation for alternative solver options:\n",
      "    https://scikit-learn.org/stable/modules/linear_model.html#logistic-regression\n",
      "  n_iter_i = _check_optimize_result(\n",
      "/opt/hostedtoolcache/Python/3.9.21/x64/lib/python3.9/site-packages/sklearn/metrics/_classification.py:1565: UndefinedMetricWarning: Precision is ill-defined and being set to 0.0 in labels with no predicted samples. Use `zero_division` parameter to control this behavior.\n",
      "  _warn_prf(average, modifier, f\"{metric.capitalize()} is\", len(result))\n",
      "/opt/hostedtoolcache/Python/3.9.21/x64/lib/python3.9/site-packages/sklearn/metrics/_classification.py:1565: UndefinedMetricWarning: Precision is ill-defined and being set to 0.0 in labels with no predicted samples. Use `zero_division` parameter to control this behavior.\n",
      "  _warn_prf(average, modifier, f\"{metric.capitalize()} is\", len(result))\n",
      "/opt/hostedtoolcache/Python/3.9.21/x64/lib/python3.9/site-packages/sklearn/metrics/_classification.py:1565: UndefinedMetricWarning: Precision is ill-defined and being set to 0.0 in labels with no predicted samples. Use `zero_division` parameter to control this behavior.\n",
      "  _warn_prf(average, modifier, f\"{metric.capitalize()} is\", len(result))\n"
     ]
    },
    {
     "name": "stdout",
     "output_type": "stream",
     "text": [
      "\n",
      "Classification Report for All Models:\n",
      "\n",
      "Model: RandomForest\n",
      "Accuracy: 0.2705\n",
      "              precision    recall  f1-score      support\n",
      "0              0.277700  0.340206  0.305792   582.000000\n",
      "1              0.251572  0.195599  0.220083   409.000000\n",
      "2              0.304979  0.452308  0.364312   650.000000\n",
      "3              0.243402  0.173278  0.202439   479.000000\n",
      "4              0.321101  0.204678  0.250000   342.000000\n",
      "5              0.201942  0.208417  0.205128   499.000000\n",
      "6              0.273438  0.213415  0.239726   492.000000\n",
      "accuracy       0.270489  0.270489  0.270489     0.270489\n",
      "macro avg      0.267733  0.255414  0.255354  3453.000000\n",
      "weighted avg   0.267726  0.270489  0.262832  3453.000000\n"
     ]
    },
    {
     "data": {
      "image/png": "[encoded data removed]",
      "text/plain": [
       "<Figure size 800x600 with 2 Axes>"
      ]
     },
     "metadata": {},
     "output_type": "display_data"
    },
    {
     "name": "stdout",
     "output_type": "stream",
     "text": [
      "\n",
      "Model: LogisticRegression\n",
      "Accuracy: 0.2085\n",
      "              precision    recall  f1-score      support\n",
      "0              0.201465  0.472509  0.282486   582.000000\n",
      "1              0.000000  0.000000  0.000000   409.000000\n",
      "2              0.214217  0.681538  0.325975   650.000000\n",
      "3              0.133333  0.004175  0.008097   479.000000\n",
      "4              0.000000  0.000000  0.000000   342.000000\n",
      "5              0.000000  0.000000  0.000000   499.000000\n",
      "6              0.000000  0.000000  0.000000   492.000000\n",
      "accuracy       0.208514  0.208514  0.208514     0.208514\n",
      "macro avg      0.078431  0.165460  0.088080  3453.000000\n",
      "weighted avg   0.092777  0.208514  0.110098  3453.000000\n"
     ]
    },
    {
     "data": {
      "image/png": "[encoded data removed]",
      "text/plain": [
       "<Figure size 800x600 with 2 Axes>"
      ]
     },
     "metadata": {},
     "output_type": "display_data"
    },
    {
     "name": "stdout",
     "output_type": "stream",
     "text": [
      "\n",
      "Model: DecisionTree\n",
      "Accuracy: 0.2210\n",
      "              precision    recall  f1-score      support\n",
      "0              0.246777  0.230241  0.238222   582.000000\n",
      "1              0.211364  0.227384  0.219081   409.000000\n",
      "2              0.287902  0.289231  0.288565   650.000000\n",
      "3              0.184647  0.185804  0.185224   479.000000\n",
      "4              0.202778  0.213450  0.207977   342.000000\n",
      "5              0.175238  0.184369  0.179688   499.000000\n",
      "6              0.208889  0.191057  0.199575   492.000000\n",
      "accuracy       0.220967  0.220967  0.220967     0.220967\n",
      "macro avg      0.216799  0.217362  0.216905  3453.000000\n",
      "weighted avg   0.221611  0.220967  0.221119  3453.000000\n"
     ]
    },
    {
     "data": {
      "image/png": "[encoded data removed]",
      "text/plain": [
       "<Figure size 800x600 with 2 Axes>"
      ]
     },
     "metadata": {},
     "output_type": "display_data"
    },
    {
     "name": "stdout",
     "output_type": "stream",
     "text": [
      "\n",
      "Best Model:\n",
      "Best Model: RandomForestClassifier()\n",
      "Best Model Accuracy: 0.2705\n"
     ]
    }
   ],
   "source": [
    "import pandas as pd\n",
    "from sklearn.model_selection import train_test_split\n",
    "from sklearn.ensemble import RandomForestClassifier\n",
    "from sklearn.linear_model import LogisticRegression\n",
    "from sklearn.tree import DecisionTreeClassifier\n",
    "from sklearn.metrics import classification_report, accuracy_score, confusion_matrix\n",
    "import seaborn as sns\n",
    "import matplotlib.pyplot as plt\n",
    "\n",
    "# Define models\n",
    "models = {\n",
    "    'RandomForest': RandomForestClassifier(),\n",
    "    'LogisticRegression': LogisticRegression(max_iter=1000),\n",
    "    'DecisionTree': DecisionTreeClassifier()\n",
    "}\n",
    "\n",
    "# Train models and evaluate them\n",
    "best_model = None\n",
    "best_score = 0\n",
    "model_reports = {}\n",
    "\n",
    "for model_name, model in models.items():\n",
    "    model.fit(X_train, y_train)  # Train model\n",
    "    y_pred = model.predict(X_test)  # Make predictions\n",
    "    \n",
    "    # Calculate accuracy and generate classification report\n",
    "    accuracy = accuracy_score(y_test, y_pred)\n",
    "    model_reports[model_name] = classification_report(y_test, y_pred, output_dict=True)  # Store as a dictionary for easier analysis\n",
    "    \n",
    "    # Track best performing model\n",
    "    if accuracy > best_score:\n",
    "        best_score = accuracy\n",
    "        best_model = model\n",
    "\n",
    "# Display classification reports and confusion matrices\n",
    "print(\"\\nClassification Report for All Models:\")\n",
    "for model_name, report in model_reports.items():\n",
    "    print(f\"\\nModel: {model_name}\")\n",
    "    print(\"Accuracy: {:.4f}\".format(accuracy_score(y_test, models[model_name].predict(X_test))))  # Display accuracy\n",
    "    print(pd.DataFrame(report).transpose())  # Display classification report as a DataFrame\n",
    "\n",
    "    # Plot Confusion Matrix\n",
    "    cm = confusion_matrix(y_test, models[model_name].predict(X_test))\n",
    "    plt.figure(figsize=(8, 6))\n",
    "    sns.heatmap(cm, annot=True, fmt=\"d\", cmap='Blues', xticklabels=offense_encoder.classes_, yticklabels=offense_encoder.classes_)\n",
    "    plt.title(f\"Confusion Matrix - {model_name}\")\n",
    "    plt.xlabel('Predicted Labels')\n",
    "    plt.ylabel('True Labels')\n",
    "    plt.show()\n",
    "\n",
    "# Display best model details\n",
    "print(\"\\nBest Model:\")\n",
    "print(f\"Best Model: {best_model}\")\n",
    "print(f\"Best Model Accuracy: {best_score:.4f}\")\n"
   ]
  },
  {
   "cell_type": "markdown",
   "id": "e9153e99",
   "metadata": {
    "papermill": {
     "duration": 0.010289,
     "end_time": "2025-04-13T02:30:10.868105",
     "exception": false,
     "start_time": "2025-04-13T02:30:10.857816",
     "status": "completed"
    },
    "tags": []
   },
   "source": [
    "#### Classification Report for All Models:\n",
    "\n",
    "### Explanation of the Classification Results (RandomForest Model)\n",
    "\n",
    "The results you provided are from a **Random Forest** model, which is used for predicting different types of offenses. Let's break down the key components of the results:\n",
    "\n",
    "#### 1. **Accuracy: 0.2822**\n",
    "   - **Accuracy** measures the overall percentage of correct predictions made by the model. An accuracy of 28.22% means the model correctly predicted the offense in about 28% of the cases. This indicates the model's predictions are not highly reliable, as the accuracy is quite low.\n",
    "\n",
    "#### 2. **Classification Report:**\n",
    "   The classification report includes precision, recall, and F1-score for each offense. Let's go over these terms and how they apply to the results:\n",
    "\n",
    "   - **Precision**: The proportion of true positive predictions out of all positive predictions made by the model for a specific class (offense).\n",
    "   - **Recall**: The proportion of true positive predictions out of all actual positive instances in the dataset.\n",
    "   - **F1-Score**: The harmonic mean of precision and recall, providing a balance between the two metrics.\n",
    "   - **Support**: The number of actual occurrences of each class in the test set.\n",
    "\n",
    "   Let's analyze each offense based on these metrics:\n",
    "\n",
    "   | **Offense**                        | **Precision** | **Recall** | **F1-Score** | **Support** |\n",
    "   |------------------------------------|---------------|------------|--------------|-------------|\n",
    "   | **Assault Simple**                 | 0.2892        | 0.3754     | 0.3267       | 594         |\n",
    "   | **Assist Citizen - Mental/TDO/ECO**| 0.3182        | 0.2274     | 0.2652       | 431         |\n",
    "   | **Hit and Run**                    | 0.2963        | 0.4765     | 0.3654       | 638         |\n",
    "   | **Larceny - All Other**            | 0.2270        | 0.1453     | 0.1772       | 475         |\n",
    "   | **Lost/FoundProperty**             | 0.3333        | 0.2102     | 0.2578       | 352         |\n",
    "   | **Suspicious Activity**            | 0.2344        | 0.2169     | 0.2253       | 484         |\n",
    "   | **Vandalism**                      | 0.2712        | 0.2106     | 0.2371       | 470         |\n",
    "\n",
    "#### 3. **Key Insights from the Report:**\n",
    "\n",
    "- **Precision**:\n",
    "   - The highest precision is for **Larceny - All Other** (0.3333), indicating that when the model predicts this offense, it is correct about 33% of the time. However, this is still quite low.\n",
    "   - **Assist Citizen - Mental/TDO/ECO** has the lowest precision (0.2269), meaning that the model's predictions for this offense tend to be wrong more often than correct.\n",
    "\n",
    "- **Recall**:\n",
    "   - **Hit and Run** has the highest recall (0.4765), meaning the model identifies about 48% of the actual occurrences of this offense. This is better than the precision, which indicates it is missing many true positives but is still able to identify a fair number of cases.\n",
    "   - **Larceny - All Other** and **Suspicious Activity** have the lowest recall values (0.1453 and 0.2169, respectively), indicating that the model is failing to identify most of the actual cases for these offenses.\n",
    "\n",
    "- **F1-Score**:\n",
    "   - The **F1-Score** balances precision and recall. It is highest for **Hit and Run** (0.3654), but still relatively low overall. This suggests the model is better at identifying **Hit and Run** than other offenses but still has room for improvement.\n",
    "   - **Larceny - All Other** has the lowest F1-Score (0.1772), indicating a poor balance between precision and recall for this offense.\n",
    "\n",
    "#### 4. **Macro Average and Weighted Average:**\n",
    "   - **Macro Average**: This gives the average precision, recall, and F1-Score across all classes (offenses) without considering the class distribution. It averages the results for all offenses equally.\n",
    "     - Precision: 0.2814\n",
    "     - Recall: 0.2661\n",
    "     - F1-Score: 0.2649\n",
    "   - **Weighted Average**: This averages the metrics but weighs each class by its support (the number of true instances in the test set). This gives a better sense of overall performance, considering the class distribution.\n",
    "     - Precision: 0.2799\n",
    "     - Recall: 0.2822\n",
    "     - F1-Score: 0.2720\n",
    "\n",
    "#### 5. **Confusion Matrix (Visualization Analysis)**:\n",
    "   - The confusion matrix shows the distribution of true positive, false positive, true negative, and false negative predictions for each class.\n",
    "     - For **Hit and Run**, the model performs relatively well in identifying this offense (304 true positives). However, it also misclassifies some **Hit and Run** instances as other offenses (e.g., **Assault Simple**, **Suspicious Activity**, etc.).\n",
    "     - **Larceny - All Other** is frequently misclassified as **Hit and Run**, **Suspicious Activity**, and others. This is evident from the large number of off-diagonal elements in its row.\n",
    "     - **Assist Citizen - Mental/TDO/ECO** and **Suspicious Activity** are frequently misclassified, as seen by the off-diagonal values in their rows.\n",
    "\n",
    "### Conclusion:\n",
    "The Random Forest model has low accuracy (28.22%), suggesting that it struggles to predict most offenses accurately. Some offenses like **Hit and Run** are better predicted than others, but overall, the model shows a high level of misclassification across all offenses. There may be a need for further tuning of the model, additional feature engineering, or trying different models for better performance.\n",
    "\n",
    "Let me know if you'd like to improve the model or make adjustments based on these results!\n",
    "\n"
   ]
  },
  {
   "cell_type": "markdown",
   "id": "f482d357",
   "metadata": {
    "papermill": {
     "duration": 0.010611,
     "end_time": "2025-04-13T02:30:10.889024",
     "exception": false,
     "start_time": "2025-04-13T02:30:10.878413",
     "status": "completed"
    },
    "tags": []
   },
   "source": [
    "### Model Explanation\n",
    "\n",
    "Once we’ve chosen the best model, we will explain its predictions by examining feature importance for tree-based models and using statistical methods like logistic regression coefficients for linear models."
   ]
  },
  {
   "cell_type": "markdown",
   "id": "6954b3c9",
   "metadata": {
    "papermill": {
     "duration": 0.010539,
     "end_time": "2025-04-13T02:30:10.910178",
     "exception": false,
     "start_time": "2025-04-13T02:30:10.899639",
     "status": "completed"
    },
    "tags": []
   },
   "source": [
    "#### Feature Importance for Random Forest / Decision Tree\n",
    "\n",
    "##### For Tree-based Models (Random Forest, Decision Tree)\n",
    "\n",
    "For Random Forest or Decision Tree, we can look at feature importance to understand which variables contribute the most to the model's predictions. Here's how you can visualize and interpret the importance of each feature:"
   ]
  },
  {
   "cell_type": "code",
   "execution_count": 23,
   "id": "a97fcfbd",
   "metadata": {
    "execution": {
     "iopub.execute_input": "2025-04-13T02:30:10.932407Z",
     "iopub.status.busy": "2025-04-13T02:30:10.932172Z",
     "iopub.status.idle": "2025-04-13T02:30:11.095767Z",
     "shell.execute_reply": "2025-04-13T02:30:11.095099Z"
    },
    "papermill": {
     "duration": 0.176028,
     "end_time": "2025-04-13T02:30:11.096879",
     "exception": false,
     "start_time": "2025-04-13T02:30:10.920851",
     "status": "completed"
    },
    "tags": []
   },
   "outputs": [
    {
     "data": {
      "image/png": "[encoded data removed]",
      "text/plain": [
       "<Figure size 1000x600 with 1 Axes>"
      ]
     },
     "metadata": {},
     "output_type": "display_data"
    }
   ],
   "source": [
    "# For RandomForest or DecisionTree models, we can check feature importance\n",
    "if isinstance(best_model, RandomForestClassifier) or isinstance(best_model, DecisionTreeClassifier):\n",
    "    feature_importance = best_model.feature_importances_\n",
    "    feature_names = X.columns\n",
    "    importance_df = pd.DataFrame({'Feature': feature_names, 'Importance': feature_importance})\n",
    "    importance_df = importance_df.sort_values(by='Importance', ascending=False)\n",
    "    \n",
    "    # Plotting the feature importances\n",
    "    plt.figure(figsize=(10, 6))\n",
    "    sns.barplot(x='Importance', y='Feature', data=importance_df)\n",
    "    plt.title(\"Feature Importance\")\n",
    "    plt.show()\n"
   ]
  },
  {
   "cell_type": "code",
   "execution_count": null,
   "id": "0c5f0485",
   "metadata": {
    "papermill": {
     "duration": 0.011102,
     "end_time": "2025-04-13T02:30:11.119544",
     "exception": false,
     "start_time": "2025-04-13T02:30:11.108442",
     "status": "completed"
    },
    "tags": []
   },
   "outputs": [],
   "source": []
  },
  {
   "cell_type": "markdown",
   "id": "08e77753",
   "metadata": {
    "papermill": {
     "duration": 0.010892,
     "end_time": "2025-04-13T02:30:11.141480",
     "exception": false,
     "start_time": "2025-04-13T02:30:11.130588",
     "status": "completed"
    },
    "tags": []
   },
   "source": [
    "### Evaluation\n",
    "\n",
    "After training the models and examining their performance, we evaluate the chosen model based on metrics like accuracy, precision, recall, and F1 score.\n",
    "\n"
   ]
  },
  {
   "cell_type": "code",
   "execution_count": 24,
   "id": "86e9fe2c",
   "metadata": {
    "execution": {
     "iopub.execute_input": "2025-04-13T02:30:11.164378Z",
     "iopub.status.busy": "2025-04-13T02:30:11.164161Z",
     "iopub.status.idle": "2025-04-13T02:30:11.252883Z",
     "shell.execute_reply": "2025-04-13T02:30:11.252184Z"
    },
    "papermill": {
     "duration": 0.101433,
     "end_time": "2025-04-13T02:30:11.253928",
     "exception": false,
     "start_time": "2025-04-13T02:30:11.152495",
     "status": "completed"
    },
    "tags": []
   },
   "outputs": [
    {
     "name": "stdout",
     "output_type": "stream",
     "text": [
      "Accuracy: 0.2705\n",
      "Classification Report:\n",
      "              precision    recall  f1-score   support\n",
      "\n",
      "           0       0.28      0.34      0.31       582\n",
      "           1       0.25      0.20      0.22       409\n",
      "           2       0.30      0.45      0.36       650\n",
      "           3       0.24      0.17      0.20       479\n",
      "           4       0.32      0.20      0.25       342\n",
      "           5       0.20      0.21      0.21       499\n",
      "           6       0.27      0.21      0.24       492\n",
      "\n",
      "    accuracy                           0.27      3453\n",
      "   macro avg       0.27      0.26      0.26      3453\n",
      "weighted avg       0.27      0.27      0.26      3453\n",
      "\n",
      "Confusion Matrix:\n",
      "[[198  68 136  40  21  79  40]\n",
      " [ 92  80  95  28  15  64  35]\n",
      " [104  42 294  59  22  86  43]\n",
      " [ 80  16 141  83  30  68  61]\n",
      " [ 46  28  66  34  70  46  52]\n",
      " [109  36 122  53  27 104  48]\n",
      " [ 84  48 110  44  33  68 105]]\n",
      "Precision: 0.2677\n",
      "Recall: 0.2705\n",
      "F1 Score: 0.2628\n"
     ]
    }
   ],
   "source": [
    "from sklearn.metrics import classification_report, confusion_matrix, accuracy_score, precision_score, recall_score, f1_score\n",
    "\n",
    "# Predict on the test set\n",
    "y_pred = best_model.predict(X_test)\n",
    "\n",
    "# Calculate Accuracy\n",
    "accuracy = accuracy_score(y_test, y_pred)\n",
    "print(f\"Accuracy: {accuracy:.4f}\")\n",
    "\n",
    "# Classification Report\n",
    "print(\"Classification Report:\")\n",
    "print(classification_report(y_test, y_pred))\n",
    "\n",
    "# Confusion Matrix\n",
    "conf_matrix = confusion_matrix(y_test, y_pred)\n",
    "print(\"Confusion Matrix:\")\n",
    "print(conf_matrix)\n",
    "\n",
    "# Precision, Recall, F1 Score for each class (Offense Type)\n",
    "precision = precision_score(y_test, y_pred, average='weighted')\n",
    "recall = recall_score(y_test, y_pred, average='weighted')\n",
    "f1 = f1_score(y_test, y_pred, average='weighted')\n",
    "\n",
    "print(f\"Precision: {precision:.4f}\")\n",
    "print(f\"Recall: {recall:.4f}\")\n",
    "print(f\"F1 Score: {f1:.4f}\")\n"
   ]
  },
  {
   "cell_type": "markdown",
   "id": "c6739ef4",
   "metadata": {
    "papermill": {
     "duration": 0.01111,
     "end_time": "2025-04-13T02:30:11.276661",
     "exception": false,
     "start_time": "2025-04-13T02:30:11.265551",
     "status": "completed"
    },
    "tags": []
   },
   "source": [
    "#### For Logistic Regression (Coefficient Interpretation)\n",
    "\n",
    "For Logistic Regression, the model coefficients can help us understand how each feature affects the likelihood of an offense happening. A positive coefficient indicates a feature increases the likelihood of the offense, and a negative coefficient indicates the opposite."
   ]
  },
  {
   "cell_type": "code",
   "execution_count": 25,
   "id": "e4711c10",
   "metadata": {
    "execution": {
     "iopub.execute_input": "2025-04-13T02:30:11.299584Z",
     "iopub.status.busy": "2025-04-13T02:30:11.299364Z",
     "iopub.status.idle": "2025-04-13T02:30:11.303889Z",
     "shell.execute_reply": "2025-04-13T02:30:11.303330Z"
    },
    "papermill": {
     "duration": 0.017119,
     "end_time": "2025-04-13T02:30:11.304855",
     "exception": false,
     "start_time": "2025-04-13T02:30:11.287736",
     "status": "completed"
    },
    "tags": []
   },
   "outputs": [],
   "source": [
    "if isinstance(best_model, LogisticRegression):\n",
    "    # Logistic regression coefficients\n",
    "    coef_df = pd.DataFrame({\n",
    "        'Feature': X.columns,\n",
    "        'Coefficient': best_model.coef_[0]\n",
    "    })\n",
    "    coef_df['AbsCoefficient'] = coef_df['Coefficient'].abs()\n",
    "    coef_df = coef_df.sort_values(by='AbsCoefficient', ascending=False)\n",
    "    \n",
    "    # Plotting the coefficients\n",
    "    plt.figure(figsize=(10, 6))\n",
    "    sns.barplot(x='AbsCoefficient', y='Feature', data=coef_df)\n",
    "    plt.title(\"Logistic Regression Coefficients Impact\")\n",
    "    plt.show()\n",
    "\n",
    "    # Print the top 5 most impactful features (by absolute coefficient value)\n",
    "    print(\"Top 5 most impactful features based on coefficients:\")\n",
    "    print(coef_df.head())\n"
   ]
  },
  {
   "cell_type": "markdown",
   "id": "98267729",
   "metadata": {
    "papermill": {
     "duration": 0.011156,
     "end_time": "2025-04-13T02:30:11.327201",
     "exception": false,
     "start_time": "2025-04-13T02:30:11.316045",
     "status": "completed"
    },
    "tags": []
   },
   "source": [
    "Explanation of Output:\n",
    "\n",
    "Feature Importance (Random Forest/Decision Tree): The bar plot will show how important each feature is in the decision-making process. Features at the top of the list are the most influential in predicting the occurrence of offenses.\n",
    "\n",
    "Logistic Regression Coefficients: The bar plot will show the magnitude of the coefficients for each feature. Features with larger absolute values (either positive or negative) have a stronger impact on the model’s predictions. Positive coefficients increase the probability of an offense, while negative coefficients decrease it."
   ]
  },
  {
   "cell_type": "markdown",
   "id": "251231f6",
   "metadata": {
    "papermill": {
     "duration": 0.011098,
     "end_time": "2025-04-13T02:30:11.349381",
     "exception": false,
     "start_time": "2025-04-13T02:30:11.338283",
     "status": "completed"
    },
    "tags": []
   },
   "source": []
  }
 ],
 "metadata": {
  "kernelspec": {
   "display_name": "Python 3",
   "language": "python",
   "name": "python3"
  },
  "language_info": {
   "codemirror_mode": {
    "name": "ipython",
    "version": 3
   },
   "file_extension": ".py",
   "mimetype": "text/x-python",
   "name": "python",
   "nbconvert_exporter": "python",
   "pygments_lexer": "ipython3",
   "version": "3.9.21"
  },
  "papermill": {
   "default_parameters": {},
   "duration": 79.708266,
   "end_time": "2025-04-13T02:30:11.776500",
   "environment_variables": {},
   "exception": null,
   "input_path": "notebook/Crime Data.ipynb",
   "output_path": "notebook/Crime Data_output.ipynb",
   "parameters": {},
   "start_time": "2025-04-13T02:28:52.068234",
   "version": "2.6.0"
  }
 },
 "nbformat": 4,
 "nbformat_minor": 5
}