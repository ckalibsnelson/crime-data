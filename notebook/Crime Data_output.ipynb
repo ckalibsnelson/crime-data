{
 "cells": [
  {
   "cell_type": "markdown",
   "id": "fd9c3e89",
   "metadata": {
    "papermill": {
     "duration": 0.004306,
     "end_time": "2025-07-30T01:10:44.294757",
     "exception": false,
     "start_time": "2025-07-30T01:10:44.290451",
     "status": "completed"
    },
    "tags": []
   },
   "source": [
    "# Charlottesville Open Data Porttal: Crime Data"
   ]
  },
  {
   "cell_type": "markdown",
   "id": "7c30bfbd",
   "metadata": {
    "papermill": {
     "duration": 0.004232,
     "end_time": "2025-07-30T01:10:44.302558",
     "exception": false,
     "start_time": "2025-07-30T01:10:44.298326",
     "status": "completed"
    },
    "tags": []
   },
   "source": [
    "## Import Relevant Librarires & Set WD"
   ]
  },
  {
   "cell_type": "code",
   "execution_count": 1,
   "id": "61acf37f",
   "metadata": {
    "execution": {
     "iopub.execute_input": "2025-07-30T01:10:44.310199Z",
     "iopub.status.busy": "2025-07-30T01:10:44.309917Z",
     "iopub.status.idle": "2025-07-30T01:10:44.947051Z",
     "shell.execute_reply": "2025-07-30T01:10:44.946391Z"
    },
    "papermill": {
     "duration": 0.642683,
     "end_time": "2025-07-30T01:10:44.948456",
     "exception": false,
     "start_time": "2025-07-30T01:10:44.305773",
     "status": "completed"
    },
    "tags": []
   },
   "outputs": [],
   "source": [
    "import requests\n",
    "import pandas as pd\n",
    "import numpy as np\n",
    "import pickle\n",
    "import googlemaps\n",
    "import plotly.express as px\n",
    "from geopy.geocoders import Nominatim\n",
    "import time\n",
    "from dotenv import load_dotenv\n",
    "import os\n",
    "\n",
    "env_path = os.path.join(\"..\", \".env\")\n",
    "#print(\"Looking for .env file at:\", os.path.abspath(env_path))\n",
    "load_dotenv(dotenv_path=env_path)\n",
    "\n",
    "# Retrieve the variables\n",
    "GOOGLE_API_KEY = os.getenv(\"GOOGLE_API_KEY\")\n",
    "WORKING_DIR = os.getenv(\"WORKING_DIR\")\n",
    "\n",
    "if GOOGLE_API_KEY is None or WORKING_DIR is None:\n",
    "    raise RuntimeError(\"No configuration found. Please ensure that your .env file exists with the required variables, or create a local config.py file.\")\n",
    "\n",
    "#print(\"Google API Key:\", GOOGLE_API_KEY)\n",
    "#print(\"Working Directory:\", WORKING_DIR)"
   ]
  },
  {
   "cell_type": "markdown",
   "id": "0441e86f",
   "metadata": {
    "papermill": {
     "duration": 0.003271,
     "end_time": "2025-07-30T01:10:44.955530",
     "exception": false,
     "start_time": "2025-07-30T01:10:44.952259",
     "status": "completed"
    },
    "tags": []
   },
   "source": [
    "## Import Data\n",
    "\n",
    "URL: https://opendata.charlottesville.org/datasets/charlottesville::crime-data/about"
   ]
  },
  {
   "cell_type": "code",
   "execution_count": 2,
   "id": "09ca175c",
   "metadata": {
    "execution": {
     "iopub.execute_input": "2025-07-30T01:10:44.962969Z",
     "iopub.status.busy": "2025-07-30T01:10:44.962702Z",
     "iopub.status.idle": "2025-07-30T01:11:53.837551Z",
     "shell.execute_reply": "2025-07-30T01:11:53.836791Z"
    },
    "papermill": {
     "duration": 68.882945,
     "end_time": "2025-07-30T01:11:53.841735",
     "exception": false,
     "start_time": "2025-07-30T01:10:44.958790",
     "status": "completed"
    },
    "tags": []
   },
   "outputs": [
    {
     "name": "stdout",
     "output_type": "stream",
     "text": [
      "Total records imported: 25601\n"
     ]
    }
   ],
   "source": [
    "# Define the endpoint and initial parameters.\n",
    "url = \"https://gisweb.charlottesville.org/arcgis/rest/services/OpenData_2/MapServer/6/query\"\n",
    "params = {\n",
    "    \"where\": \"1=1\",\n",
    "    \"outFields\": \"*\",\n",
    "    \"outSR\": 4326,\n",
    "    \"f\": \"json\",\n",
    "    \"resultOffset\": 0,       # Starting index for results\n",
    "    \"resultRecordCount\": 10000  # Maximum records per batch (if allowed by the API)\n",
    "}\n",
    "\n",
    "records = []\n",
    "\n",
    "while True:\n",
    "    response = requests.get(url, params=params)\n",
    "    response.raise_for_status()\n",
    "    data = response.json()\n",
    "    \n",
    "    # Get the current batch of features.\n",
    "    features = data.get(\"features\", [])\n",
    "    if not features:\n",
    "        break\n",
    "\n",
    "    # Extract the attributes from the features.\n",
    "    batch_records = [feature.get(\"attributes\", {}) for feature in features]\n",
    "    records.extend(batch_records)\n",
    "    \n",
    "    # If the batch size is less than the requested count, we reached the end.\n",
    "    if len(features) < params[\"resultRecordCount\"]:\n",
    "        break\n",
    "\n",
    "    # Update the resultOffset for the next batch.\n",
    "    params[\"resultOffset\"] += params[\"resultRecordCount\"]\n",
    "\n",
    "# Create a DataFrame from the combined records.\n",
    "df = pd.DataFrame(records)\n",
    "print(\"Total records imported:\", len(df))\n"
   ]
  },
  {
   "cell_type": "code",
   "execution_count": 3,
   "id": "4eacce9a",
   "metadata": {
    "execution": {
     "iopub.execute_input": "2025-07-30T01:11:53.849589Z",
     "iopub.status.busy": "2025-07-30T01:11:53.849360Z",
     "iopub.status.idle": "2025-07-30T01:11:53.861367Z",
     "shell.execute_reply": "2025-07-30T01:11:53.860824Z"
    },
    "papermill": {
     "duration": 0.017172,
     "end_time": "2025-07-30T01:11:53.862412",
     "exception": false,
     "start_time": "2025-07-30T01:11:53.845240",
     "status": "completed"
    },
    "tags": []
   },
   "outputs": [
    {
     "data": {
      "text/html": [
       "<div>\n",
       "<style scoped>\n",
       "    .dataframe tbody tr th:only-of-type {\n",
       "        vertical-align: middle;\n",
       "    }\n",
       "\n",
       "    .dataframe tbody tr th {\n",
       "        vertical-align: top;\n",
       "    }\n",
       "\n",
       "    .dataframe thead th {\n",
       "        text-align: right;\n",
       "    }\n",
       "</style>\n",
       "<table border=\"1\" class=\"dataframe\">\n",
       "  <thead>\n",
       "    <tr style=\"text-align: right;\">\n",
       "      <th></th>\n",
       "      <th>RecordID</th>\n",
       "      <th>Offense</th>\n",
       "      <th>IncidentID</th>\n",
       "      <th>BlockNumber</th>\n",
       "      <th>StreetName</th>\n",
       "      <th>Agency</th>\n",
       "      <th>DateReported</th>\n",
       "      <th>HourReported</th>\n",
       "      <th>ReportingOfficer</th>\n",
       "    </tr>\n",
       "  </thead>\n",
       "  <tbody>\n",
       "    <tr>\n",
       "      <th>0</th>\n",
       "      <td>1</td>\n",
       "      <td>Stolen Property Offenses</td>\n",
       "      <td>202500026519</td>\n",
       "      <td>200</td>\n",
       "      <td>E JEFFERSON ST</td>\n",
       "      <td>CPD</td>\n",
       "      <td>1753653104000</td>\n",
       "      <td>1751</td>\n",
       "      <td>Benbow, Lauren</td>\n",
       "    </tr>\n",
       "    <tr>\n",
       "      <th>1</th>\n",
       "      <td>2</td>\n",
       "      <td>Assault Aggravated</td>\n",
       "      <td>202500026498</td>\n",
       "      <td>1100</td>\n",
       "      <td>SEMINOLE</td>\n",
       "      <td>CPD</td>\n",
       "      <td>1753643992000</td>\n",
       "      <td>1519</td>\n",
       "      <td>Curry, Brian</td>\n",
       "    </tr>\n",
       "    <tr>\n",
       "      <th>2</th>\n",
       "      <td>3</td>\n",
       "      <td>Assault Simple</td>\n",
       "      <td>202500026497</td>\n",
       "      <td>700</td>\n",
       "      <td>STONEHENGE AVE</td>\n",
       "      <td>CPD</td>\n",
       "      <td>1753643179000</td>\n",
       "      <td>1506</td>\n",
       "      <td>Schwartz, Honora</td>\n",
       "    </tr>\n",
       "    <tr>\n",
       "      <th>3</th>\n",
       "      <td>4</td>\n",
       "      <td>Assault Simple</td>\n",
       "      <td>202500026495</td>\n",
       "      <td>2000</td>\n",
       "      <td>MICHIE DR</td>\n",
       "      <td>CPD</td>\n",
       "      <td>1753641464000</td>\n",
       "      <td>1437</td>\n",
       "      <td>Mian, Ghulam</td>\n",
       "    </tr>\n",
       "    <tr>\n",
       "      <th>4</th>\n",
       "      <td>5</td>\n",
       "      <td>Burglary</td>\n",
       "      <td>202500026491</td>\n",
       "      <td>100</td>\n",
       "      <td>ELLIEWOOD AVE</td>\n",
       "      <td>CPD</td>\n",
       "      <td>1753640129000</td>\n",
       "      <td>1415</td>\n",
       "      <td>O'Briant, Landon</td>\n",
       "    </tr>\n",
       "  </tbody>\n",
       "</table>\n",
       "</div>"
      ],
      "text/plain": [
       "   RecordID                   Offense    IncidentID BlockNumber  \\\n",
       "0         1  Stolen Property Offenses  202500026519         200   \n",
       "1         2        Assault Aggravated  202500026498        1100   \n",
       "2         3            Assault Simple  202500026497         700   \n",
       "3         4            Assault Simple  202500026495        2000   \n",
       "4         5                  Burglary  202500026491         100   \n",
       "\n",
       "       StreetName Agency   DateReported HourReported  ReportingOfficer  \n",
       "0  E JEFFERSON ST    CPD  1753653104000         1751    Benbow, Lauren  \n",
       "1        SEMINOLE    CPD  1753643992000         1519      Curry, Brian  \n",
       "2  STONEHENGE AVE    CPD  1753643179000         1506  Schwartz, Honora  \n",
       "3       MICHIE DR    CPD  1753641464000         1437      Mian, Ghulam  \n",
       "4   ELLIEWOOD AVE    CPD  1753640129000         1415  O'Briant, Landon  "
      ]
     },
     "execution_count": 3,
     "metadata": {},
     "output_type": "execute_result"
    }
   ],
   "source": [
    "df.head()"
   ]
  },
  {
   "cell_type": "code",
   "execution_count": 4,
   "id": "7e08e7e4",
   "metadata": {
    "execution": {
     "iopub.execute_input": "2025-07-30T01:11:53.870357Z",
     "iopub.status.busy": "2025-07-30T01:11:53.870097Z",
     "iopub.status.idle": "2025-07-30T01:11:53.874253Z",
     "shell.execute_reply": "2025-07-30T01:11:53.873714Z"
    },
    "papermill": {
     "duration": 0.009216,
     "end_time": "2025-07-30T01:11:53.875217",
     "exception": false,
     "start_time": "2025-07-30T01:11:53.866001",
     "status": "completed"
    },
    "tags": []
   },
   "outputs": [
    {
     "data": {
      "text/plain": [
       "Index(['RecordID', 'Offense', 'IncidentID', 'BlockNumber', 'StreetName',\n",
       "       'Agency', 'DateReported', 'HourReported', 'ReportingOfficer'],\n",
       "      dtype='object')"
      ]
     },
     "execution_count": 4,
     "metadata": {},
     "output_type": "execute_result"
    }
   ],
   "source": [
    "df.columns"
   ]
  },
  {
   "cell_type": "code",
   "execution_count": 5,
   "id": "cc122148",
   "metadata": {
    "execution": {
     "iopub.execute_input": "2025-07-30T01:11:53.883256Z",
     "iopub.status.busy": "2025-07-30T01:11:53.883005Z",
     "iopub.status.idle": "2025-07-30T01:11:53.901999Z",
     "shell.execute_reply": "2025-07-30T01:11:53.901437Z"
    },
    "papermill": {
     "duration": 0.024094,
     "end_time": "2025-07-30T01:11:53.903018",
     "exception": false,
     "start_time": "2025-07-30T01:11:53.878924",
     "status": "completed"
    },
    "tags": []
   },
   "outputs": [
    {
     "name": "stdout",
     "output_type": "stream",
     "text": [
      "<class 'pandas.core.frame.DataFrame'>\n",
      "RangeIndex: 25601 entries, 0 to 25600\n",
      "Data columns (total 9 columns):\n",
      " #   Column            Non-Null Count  Dtype \n",
      "---  ------            --------------  ----- \n",
      " 0   RecordID          25601 non-null  int64 \n",
      " 1   Offense           25601 non-null  object\n",
      " 2   IncidentID        25601 non-null  object\n",
      " 3   BlockNumber       25601 non-null  object\n",
      " 4   StreetName        25601 non-null  object\n",
      " 5   Agency            25601 non-null  object\n",
      " 6   DateReported      25601 non-null  int64 \n",
      " 7   HourReported      25601 non-null  object\n",
      " 8   ReportingOfficer  25584 non-null  object\n",
      "dtypes: int64(2), object(7)\n",
      "memory usage: 1.8+ MB\n"
     ]
    }
   ],
   "source": [
    "df.info()"
   ]
  },
  {
   "cell_type": "markdown",
   "id": "540f56bd",
   "metadata": {
    "papermill": {
     "duration": 0.003721,
     "end_time": "2025-07-30T01:11:53.910521",
     "exception": false,
     "start_time": "2025-07-30T01:11:53.906800",
     "status": "completed"
    },
    "tags": []
   },
   "source": [
    "### Missing Values"
   ]
  },
  {
   "cell_type": "code",
   "execution_count": 6,
   "id": "108387c1",
   "metadata": {
    "execution": {
     "iopub.execute_input": "2025-07-30T01:11:53.918644Z",
     "iopub.status.busy": "2025-07-30T01:11:53.918424Z",
     "iopub.status.idle": "2025-07-30T01:11:53.935956Z",
     "shell.execute_reply": "2025-07-30T01:11:53.935394Z"
    },
    "papermill": {
     "duration": 0.022755,
     "end_time": "2025-07-30T01:11:53.936963",
     "exception": false,
     "start_time": "2025-07-30T01:11:53.914208",
     "status": "completed"
    },
    "tags": []
   },
   "outputs": [
    {
     "name": "stdout",
     "output_type": "stream",
     "text": [
      "                  MissingCount  MissingPercentage\n",
      "RecordID                     0               0.00\n",
      "Offense                      0               0.00\n",
      "IncidentID                   0               0.00\n",
      "BlockNumber                  0               0.00\n",
      "StreetName                   0               0.00\n",
      "Agency                       0               0.00\n",
      "DateReported                 0               0.00\n",
      "HourReported                 0               0.00\n",
      "ReportingOfficer            17               0.07\n"
     ]
    }
   ],
   "source": [
    "def missing_percentage(df):\n",
    "    \"\"\"\n",
    "    Returns a DataFrame with the count and percentage of missing values for each column.\n",
    "    \n",
    "    Parameters:\n",
    "        df (pd.DataFrame): The input DataFrame.\n",
    "    \n",
    "    Returns:\n",
    "        pd.DataFrame: A DataFrame with columns 'MissingCount' and 'MissingPercentage'.\n",
    "    \"\"\"\n",
    "    total_rows = len(df)\n",
    "    missing_count = df.isnull().sum()\n",
    "    missing_percent = (missing_count / total_rows) * 100\n",
    "    \n",
    "    result = pd.DataFrame({\n",
    "        'MissingCount': missing_count,\n",
    "        'MissingPercentage': missing_percent.round(2)\n",
    "    })\n",
    "    \n",
    "    return result\n",
    "\n",
    "# Example usage:\n",
    "missing_info = missing_percentage(df)\n",
    "print(missing_info)\n"
   ]
  },
  {
   "cell_type": "markdown",
   "id": "275f5965",
   "metadata": {
    "papermill": {
     "duration": 0.003805,
     "end_time": "2025-07-30T01:11:53.944726",
     "exception": false,
     "start_time": "2025-07-30T01:11:53.940921",
     "status": "completed"
    },
    "tags": []
   },
   "source": [
    "## Data Preparation"
   ]
  },
  {
   "cell_type": "markdown",
   "id": "101f74c6",
   "metadata": {
    "papermill": {
     "duration": 0.0038,
     "end_time": "2025-07-30T01:11:53.952494",
     "exception": false,
     "start_time": "2025-07-30T01:11:53.948694",
     "status": "completed"
    },
    "tags": []
   },
   "source": [
    "### Data Conversion"
   ]
  },
  {
   "cell_type": "code",
   "execution_count": 7,
   "id": "9269a5d2",
   "metadata": {
    "execution": {
     "iopub.execute_input": "2025-07-30T01:11:53.960883Z",
     "iopub.status.busy": "2025-07-30T01:11:53.960703Z",
     "iopub.status.idle": "2025-07-30T01:11:54.317631Z",
     "shell.execute_reply": "2025-07-30T01:11:54.316901Z"
    },
    "papermill": {
     "duration": 0.362281,
     "end_time": "2025-07-30T01:11:54.318645",
     "exception": false,
     "start_time": "2025-07-30T01:11:53.956364",
     "status": "completed"
    },
    "tags": []
   },
   "outputs": [
    {
     "data": {
      "text/html": [
       "<div>\n",
       "<style scoped>\n",
       "    .dataframe tbody tr th:only-of-type {\n",
       "        vertical-align: middle;\n",
       "    }\n",
       "\n",
       "    .dataframe tbody tr th {\n",
       "        vertical-align: top;\n",
       "    }\n",
       "\n",
       "    .dataframe thead th {\n",
       "        text-align: right;\n",
       "    }\n",
       "</style>\n",
       "<table border=\"1\" class=\"dataframe\">\n",
       "  <thead>\n",
       "    <tr style=\"text-align: right;\">\n",
       "      <th></th>\n",
       "      <th>RecordID</th>\n",
       "      <th>Offense</th>\n",
       "      <th>IncidentID</th>\n",
       "      <th>BlockNumber</th>\n",
       "      <th>StreetName</th>\n",
       "      <th>Agency</th>\n",
       "      <th>HourReported</th>\n",
       "      <th>ReportingOfficer</th>\n",
       "      <th>Date</th>\n",
       "      <th>DateString</th>\n",
       "      <th>DayOfWeek</th>\n",
       "      <th>Weekend</th>\n",
       "      <th>Season</th>\n",
       "      <th>HourAMPM</th>\n",
       "      <th>TimeOfDay</th>\n",
       "    </tr>\n",
       "  </thead>\n",
       "  <tbody>\n",
       "    <tr>\n",
       "      <th>0</th>\n",
       "      <td>1</td>\n",
       "      <td>Stolen Property Offenses</td>\n",
       "      <td>202500026519</td>\n",
       "      <td>200</td>\n",
       "      <td>E JEFFERSON ST</td>\n",
       "      <td>CPD</td>\n",
       "      <td>1751</td>\n",
       "      <td>Benbow, Lauren</td>\n",
       "      <td>2025-07-27 17:51:44</td>\n",
       "      <td>2025-07-27 05:51:44 PM</td>\n",
       "      <td>Sunday</td>\n",
       "      <td>True</td>\n",
       "      <td>Summer</td>\n",
       "      <td>05:51 PM</td>\n",
       "      <td>Evening</td>\n",
       "    </tr>\n",
       "    <tr>\n",
       "      <th>1</th>\n",
       "      <td>2</td>\n",
       "      <td>Assault Aggravated</td>\n",
       "      <td>202500026498</td>\n",
       "      <td>1100</td>\n",
       "      <td>SEMINOLE</td>\n",
       "      <td>CPD</td>\n",
       "      <td>1519</td>\n",
       "      <td>Curry, Brian</td>\n",
       "      <td>2025-07-27 15:19:52</td>\n",
       "      <td>2025-07-27 03:19:52 PM</td>\n",
       "      <td>Sunday</td>\n",
       "      <td>True</td>\n",
       "      <td>Summer</td>\n",
       "      <td>03:19 PM</td>\n",
       "      <td>Afternoon</td>\n",
       "    </tr>\n",
       "    <tr>\n",
       "      <th>2</th>\n",
       "      <td>3</td>\n",
       "      <td>Assault Simple</td>\n",
       "      <td>202500026497</td>\n",
       "      <td>700</td>\n",
       "      <td>STONEHENGE AVE</td>\n",
       "      <td>CPD</td>\n",
       "      <td>1506</td>\n",
       "      <td>Schwartz, Honora</td>\n",
       "      <td>2025-07-27 15:06:19</td>\n",
       "      <td>2025-07-27 03:06:19 PM</td>\n",
       "      <td>Sunday</td>\n",
       "      <td>True</td>\n",
       "      <td>Summer</td>\n",
       "      <td>03:06 PM</td>\n",
       "      <td>Afternoon</td>\n",
       "    </tr>\n",
       "    <tr>\n",
       "      <th>3</th>\n",
       "      <td>4</td>\n",
       "      <td>Assault Simple</td>\n",
       "      <td>202500026495</td>\n",
       "      <td>2000</td>\n",
       "      <td>MICHIE DR</td>\n",
       "      <td>CPD</td>\n",
       "      <td>1437</td>\n",
       "      <td>Mian, Ghulam</td>\n",
       "      <td>2025-07-27 14:37:44</td>\n",
       "      <td>2025-07-27 02:37:44 PM</td>\n",
       "      <td>Sunday</td>\n",
       "      <td>True</td>\n",
       "      <td>Summer</td>\n",
       "      <td>02:37 PM</td>\n",
       "      <td>Afternoon</td>\n",
       "    </tr>\n",
       "    <tr>\n",
       "      <th>4</th>\n",
       "      <td>5</td>\n",
       "      <td>Burglary</td>\n",
       "      <td>202500026491</td>\n",
       "      <td>100</td>\n",
       "      <td>ELLIEWOOD AVE</td>\n",
       "      <td>CPD</td>\n",
       "      <td>1415</td>\n",
       "      <td>O'Briant, Landon</td>\n",
       "      <td>2025-07-27 14:15:29</td>\n",
       "      <td>2025-07-27 02:15:29 PM</td>\n",
       "      <td>Sunday</td>\n",
       "      <td>True</td>\n",
       "      <td>Summer</td>\n",
       "      <td>02:15 PM</td>\n",
       "      <td>Afternoon</td>\n",
       "    </tr>\n",
       "  </tbody>\n",
       "</table>\n",
       "</div>"
      ],
      "text/plain": [
       "   RecordID                   Offense    IncidentID BlockNumber  \\\n",
       "0         1  Stolen Property Offenses  202500026519         200   \n",
       "1         2        Assault Aggravated  202500026498        1100   \n",
       "2         3            Assault Simple  202500026497         700   \n",
       "3         4            Assault Simple  202500026495        2000   \n",
       "4         5                  Burglary  202500026491         100   \n",
       "\n",
       "       StreetName Agency HourReported  ReportingOfficer                Date  \\\n",
       "0  E JEFFERSON ST    CPD         1751    Benbow, Lauren 2025-07-27 17:51:44   \n",
       "1        SEMINOLE    CPD         1519      Curry, Brian 2025-07-27 15:19:52   \n",
       "2  STONEHENGE AVE    CPD         1506  Schwartz, Honora 2025-07-27 15:06:19   \n",
       "3       MICHIE DR    CPD         1437      Mian, Ghulam 2025-07-27 14:37:44   \n",
       "4   ELLIEWOOD AVE    CPD         1415  O'Briant, Landon 2025-07-27 14:15:29   \n",
       "\n",
       "               DateString DayOfWeek  Weekend  Season  HourAMPM  TimeOfDay  \n",
       "0  2025-07-27 05:51:44 PM    Sunday     True  Summer  05:51 PM    Evening  \n",
       "1  2025-07-27 03:19:52 PM    Sunday     True  Summer  03:19 PM  Afternoon  \n",
       "2  2025-07-27 03:06:19 PM    Sunday     True  Summer  03:06 PM  Afternoon  \n",
       "3  2025-07-27 02:37:44 PM    Sunday     True  Summer  02:37 PM  Afternoon  \n",
       "4  2025-07-27 02:15:29 PM    Sunday     True  Summer  02:15 PM  Afternoon  "
      ]
     },
     "execution_count": 7,
     "metadata": {},
     "output_type": "execute_result"
    }
   ],
   "source": [
    "def convert_and_categorize_datereported(df, col='DateReported'):\n",
    "    \"\"\"\n",
    "    Converts an epoch (in milliseconds) date column into a timezone-aware datetime,\n",
    "    converts it to Eastern Time, and then creates columns for day-of-week, weekend flag,\n",
    "    season, 12-hour formatted time, and time-of-day. Keeps both a real datetime column\n",
    "    (Date) and a string representation (DateString).\n",
    "    \"\"\"\n",
    "    import pandas as pd\n",
    "\n",
    "    # Convert the epoch timestamp to a pandas datetime object as UTC, then convert to US/Eastern.\n",
    "    df[\"DateReported_dt\"] = (\n",
    "        pd.to_datetime(df[col], unit=\"ms\", errors=\"coerce\", utc=True)\n",
    "        .dt.tz_convert(\"US/Eastern\")\n",
    "    )\n",
    "    \n",
    "    # Create a true datetime column (remove timezone if you prefer naive datetime)\n",
    "    df[\"Date\"] = df[\"DateReported_dt\"].dt.tz_localize(None)\n",
    "\n",
    "    # Optionally, create a separate string-formatted column\n",
    "    df[\"DateString\"] = df[\"DateReported_dt\"].dt.strftime(\"%Y-%m-%d %I:%M:%S %p\")\n",
    "    \n",
    "    # DayOfWeek\n",
    "    df[\"DayOfWeek\"] = df[\"DateReported_dt\"].dt.day_name()\n",
    "    \n",
    "    # Weekend\n",
    "    df[\"Weekend\"] = df[\"DayOfWeek\"].isin([\"Saturday\", \"Sunday\"])\n",
    "    \n",
    "    # Helper function to determine the season\n",
    "    def get_season(dt):\n",
    "        month = dt.month\n",
    "        day = dt.day\n",
    "        # Approximate Northern Hemisphere season boundaries:\n",
    "        if (month == 12 and day >= 21) or (month < 3) or (month == 3 and day < 20):\n",
    "            return \"Winter\"\n",
    "        elif (month == 3 and day >= 20) or (month < 6) or (month == 6 and day < 21):\n",
    "            return \"Spring\"\n",
    "        elif (month == 6 and day >= 21) or (month < 9) or (month == 9 and day < 22):\n",
    "            return \"Summer\"\n",
    "        else:\n",
    "            return \"Autumn\"\n",
    "    \n",
    "    df[\"Season\"] = df[\"DateReported_dt\"].apply(get_season)\n",
    "    \n",
    "    # 12-hour formatted time (HourAMPM)\n",
    "    df[\"HourAMPM\"] = df[\"DateReported_dt\"].dt.strftime(\"%I:%M %p\")\n",
    "    \n",
    "    # Extract hour (0-23) for time-of-day\n",
    "    df[\"HourValue\"] = df[\"DateReported_dt\"].dt.hour\n",
    "    \n",
    "    def time_of_day(hour):\n",
    "        if pd.isnull(hour):\n",
    "            return None\n",
    "        if 5 <= hour < 12:\n",
    "            return \"Morning\"\n",
    "        elif 12 <= hour < 17:\n",
    "            return \"Afternoon\"\n",
    "        elif 17 <= hour < 21:\n",
    "            return \"Evening\"\n",
    "        else:\n",
    "            return \"Night\"\n",
    "    \n",
    "    df[\"TimeOfDay\"] = df[\"HourValue\"].apply(time_of_day)\n",
    "    \n",
    "    # Drop columns you no longer need\n",
    "    df.drop(columns=[col, \"DateReported_dt\", \"HourValue\"], inplace=True)\n",
    "    \n",
    "    return df\n",
    "\n",
    "# Example usage:\n",
    "df = convert_and_categorize_datereported(df)\n",
    "df.head()\n"
   ]
  },
  {
   "cell_type": "code",
   "execution_count": 8,
   "id": "c3a52248",
   "metadata": {
    "execution": {
     "iopub.execute_input": "2025-07-30T01:11:54.327885Z",
     "iopub.status.busy": "2025-07-30T01:11:54.327641Z",
     "iopub.status.idle": "2025-07-30T01:11:54.356194Z",
     "shell.execute_reply": "2025-07-30T01:11:54.355612Z"
    },
    "papermill": {
     "duration": 0.034242,
     "end_time": "2025-07-30T01:11:54.357175",
     "exception": false,
     "start_time": "2025-07-30T01:11:54.322933",
     "status": "completed"
    },
    "tags": []
   },
   "outputs": [
    {
     "name": "stdout",
     "output_type": "stream",
     "text": [
      "<class 'pandas.core.frame.DataFrame'>\n",
      "RangeIndex: 25601 entries, 0 to 25600\n",
      "Data columns (total 15 columns):\n",
      " #   Column            Non-Null Count  Dtype         \n",
      "---  ------            --------------  -----         \n",
      " 0   RecordID          25601 non-null  int64         \n",
      " 1   Offense           25601 non-null  object        \n",
      " 2   IncidentID        25601 non-null  object        \n",
      " 3   BlockNumber       25601 non-null  object        \n",
      " 4   StreetName        25601 non-null  object        \n",
      " 5   Agency            25601 non-null  object        \n",
      " 6   HourReported      25601 non-null  object        \n",
      " 7   ReportingOfficer  25584 non-null  object        \n",
      " 8   Date              25601 non-null  datetime64[ns]\n",
      " 9   DateString        25601 non-null  object        \n",
      " 10  DayOfWeek         25601 non-null  object        \n",
      " 11  Weekend           25601 non-null  bool          \n",
      " 12  Season            25601 non-null  object        \n",
      " 13  HourAMPM          25601 non-null  object        \n",
      " 14  TimeOfDay         25601 non-null  object        \n",
      "dtypes: bool(1), datetime64[ns](1), int64(1), object(12)\n",
      "memory usage: 2.8+ MB\n"
     ]
    }
   ],
   "source": [
    "df.info()"
   ]
  },
  {
   "cell_type": "markdown",
   "id": "e2946676",
   "metadata": {
    "papermill": {
     "duration": 0.004048,
     "end_time": "2025-07-30T01:11:54.365704",
     "exception": false,
     "start_time": "2025-07-30T01:11:54.361656",
     "status": "completed"
    },
    "tags": []
   },
   "source": [
    "### Coordinates"
   ]
  },
  {
   "cell_type": "code",
   "execution_count": 9,
   "id": "a2516d68",
   "metadata": {
    "execution": {
     "iopub.execute_input": "2025-07-30T01:11:54.374681Z",
     "iopub.status.busy": "2025-07-30T01:11:54.374448Z",
     "iopub.status.idle": "2025-07-30T01:11:54.483095Z",
     "shell.execute_reply": "2025-07-30T01:11:54.482483Z"
    },
    "papermill": {
     "duration": 0.114394,
     "end_time": "2025-07-30T01:11:54.484148",
     "exception": false,
     "start_time": "2025-07-30T01:11:54.369754",
     "status": "completed"
    },
    "tags": []
   },
   "outputs": [
    {
     "name": "stdout",
     "output_type": "stream",
     "text": [
      "Loaded geocode cache.\n",
      "Error geocoding 2500 WESTERLY AVE, A: REQUEST_DENIED (You must enable Billing on the Google Cloud Project at https://console.cloud.google.com/project/_/billing/enable Learn more at https://developers.google.com/maps/gmp-get-started)\n",
      "Geocoded 2500 WESTERLY AVE, A: None, None\n",
      "Geocode cache updated and saved.\n"
     ]
    },
    {
     "data": {
      "text/html": [
       "<div>\n",
       "<style scoped>\n",
       "    .dataframe tbody tr th:only-of-type {\n",
       "        vertical-align: middle;\n",
       "    }\n",
       "\n",
       "    .dataframe tbody tr th {\n",
       "        vertical-align: top;\n",
       "    }\n",
       "\n",
       "    .dataframe thead th {\n",
       "        text-align: right;\n",
       "    }\n",
       "</style>\n",
       "<table border=\"1\" class=\"dataframe\">\n",
       "  <thead>\n",
       "    <tr style=\"text-align: right;\">\n",
       "      <th></th>\n",
       "      <th>RecordID</th>\n",
       "      <th>Offense</th>\n",
       "      <th>IncidentID</th>\n",
       "      <th>BlockNumber</th>\n",
       "      <th>StreetName</th>\n",
       "      <th>Agency</th>\n",
       "      <th>HourReported</th>\n",
       "      <th>ReportingOfficer</th>\n",
       "      <th>Date</th>\n",
       "      <th>DateString</th>\n",
       "      <th>DayOfWeek</th>\n",
       "      <th>Weekend</th>\n",
       "      <th>Season</th>\n",
       "      <th>HourAMPM</th>\n",
       "      <th>TimeOfDay</th>\n",
       "      <th>FullStreet</th>\n",
       "      <th>lat</th>\n",
       "      <th>lon</th>\n",
       "    </tr>\n",
       "  </thead>\n",
       "  <tbody>\n",
       "    <tr>\n",
       "      <th>0</th>\n",
       "      <td>1</td>\n",
       "      <td>Stolen Property Offenses</td>\n",
       "      <td>202500026519</td>\n",
       "      <td>200</td>\n",
       "      <td>E JEFFERSON ST</td>\n",
       "      <td>CPD</td>\n",
       "      <td>1751</td>\n",
       "      <td>Benbow, Lauren</td>\n",
       "      <td>2025-07-27 17:51:44</td>\n",
       "      <td>2025-07-27 05:51:44 PM</td>\n",
       "      <td>Sunday</td>\n",
       "      <td>True</td>\n",
       "      <td>Summer</td>\n",
       "      <td>05:51 PM</td>\n",
       "      <td>Evening</td>\n",
       "      <td>200 E JEFFERSON ST</td>\n",
       "      <td>38.032070</td>\n",
       "      <td>-78.480087</td>\n",
       "    </tr>\n",
       "    <tr>\n",
       "      <th>1</th>\n",
       "      <td>2</td>\n",
       "      <td>Assault Aggravated</td>\n",
       "      <td>202500026498</td>\n",
       "      <td>1100</td>\n",
       "      <td>SEMINOLE</td>\n",
       "      <td>CPD</td>\n",
       "      <td>1519</td>\n",
       "      <td>Curry, Brian</td>\n",
       "      <td>2025-07-27 15:19:52</td>\n",
       "      <td>2025-07-27 03:19:52 PM</td>\n",
       "      <td>Sunday</td>\n",
       "      <td>True</td>\n",
       "      <td>Summer</td>\n",
       "      <td>03:19 PM</td>\n",
       "      <td>Afternoon</td>\n",
       "      <td>1100 SEMINOLE</td>\n",
       "      <td>38.066209</td>\n",
       "      <td>-78.488046</td>\n",
       "    </tr>\n",
       "    <tr>\n",
       "      <th>2</th>\n",
       "      <td>3</td>\n",
       "      <td>Assault Simple</td>\n",
       "      <td>202500026497</td>\n",
       "      <td>700</td>\n",
       "      <td>STONEHENGE AVE</td>\n",
       "      <td>CPD</td>\n",
       "      <td>1506</td>\n",
       "      <td>Schwartz, Honora</td>\n",
       "      <td>2025-07-27 15:06:19</td>\n",
       "      <td>2025-07-27 03:06:19 PM</td>\n",
       "      <td>Sunday</td>\n",
       "      <td>True</td>\n",
       "      <td>Summer</td>\n",
       "      <td>03:06 PM</td>\n",
       "      <td>Afternoon</td>\n",
       "      <td>700 STONEHENGE AVE</td>\n",
       "      <td>38.018659</td>\n",
       "      <td>-78.482357</td>\n",
       "    </tr>\n",
       "    <tr>\n",
       "      <th>3</th>\n",
       "      <td>4</td>\n",
       "      <td>Assault Simple</td>\n",
       "      <td>202500026495</td>\n",
       "      <td>2000</td>\n",
       "      <td>MICHIE DR</td>\n",
       "      <td>CPD</td>\n",
       "      <td>1437</td>\n",
       "      <td>Mian, Ghulam</td>\n",
       "      <td>2025-07-27 14:37:44</td>\n",
       "      <td>2025-07-27 02:37:44 PM</td>\n",
       "      <td>Sunday</td>\n",
       "      <td>True</td>\n",
       "      <td>Summer</td>\n",
       "      <td>02:37 PM</td>\n",
       "      <td>Afternoon</td>\n",
       "      <td>2000 MICHIE DR</td>\n",
       "      <td>38.058636</td>\n",
       "      <td>-78.488213</td>\n",
       "    </tr>\n",
       "    <tr>\n",
       "      <th>4</th>\n",
       "      <td>5</td>\n",
       "      <td>Burglary</td>\n",
       "      <td>202500026491</td>\n",
       "      <td>100</td>\n",
       "      <td>ELLIEWOOD AVE</td>\n",
       "      <td>CPD</td>\n",
       "      <td>1415</td>\n",
       "      <td>O'Briant, Landon</td>\n",
       "      <td>2025-07-27 14:15:29</td>\n",
       "      <td>2025-07-27 02:15:29 PM</td>\n",
       "      <td>Sunday</td>\n",
       "      <td>True</td>\n",
       "      <td>Summer</td>\n",
       "      <td>02:15 PM</td>\n",
       "      <td>Afternoon</td>\n",
       "      <td>100 ELLIEWOOD AVE</td>\n",
       "      <td>38.036309</td>\n",
       "      <td>-78.500571</td>\n",
       "    </tr>\n",
       "  </tbody>\n",
       "</table>\n",
       "</div>"
      ],
      "text/plain": [
       "   RecordID                   Offense    IncidentID BlockNumber  \\\n",
       "0         1  Stolen Property Offenses  202500026519         200   \n",
       "1         2        Assault Aggravated  202500026498        1100   \n",
       "2         3            Assault Simple  202500026497         700   \n",
       "3         4            Assault Simple  202500026495        2000   \n",
       "4         5                  Burglary  202500026491         100   \n",
       "\n",
       "       StreetName Agency HourReported  ReportingOfficer                Date  \\\n",
       "0  E JEFFERSON ST    CPD         1751    Benbow, Lauren 2025-07-27 17:51:44   \n",
       "1        SEMINOLE    CPD         1519      Curry, Brian 2025-07-27 15:19:52   \n",
       "2  STONEHENGE AVE    CPD         1506  Schwartz, Honora 2025-07-27 15:06:19   \n",
       "3       MICHIE DR    CPD         1437      Mian, Ghulam 2025-07-27 14:37:44   \n",
       "4   ELLIEWOOD AVE    CPD         1415  O'Briant, Landon 2025-07-27 14:15:29   \n",
       "\n",
       "               DateString DayOfWeek  Weekend  Season  HourAMPM  TimeOfDay  \\\n",
       "0  2025-07-27 05:51:44 PM    Sunday     True  Summer  05:51 PM    Evening   \n",
       "1  2025-07-27 03:19:52 PM    Sunday     True  Summer  03:19 PM  Afternoon   \n",
       "2  2025-07-27 03:06:19 PM    Sunday     True  Summer  03:06 PM  Afternoon   \n",
       "3  2025-07-27 02:37:44 PM    Sunday     True  Summer  02:37 PM  Afternoon   \n",
       "4  2025-07-27 02:15:29 PM    Sunday     True  Summer  02:15 PM  Afternoon   \n",
       "\n",
       "           FullStreet        lat        lon  \n",
       "0  200 E JEFFERSON ST  38.032070 -78.480087  \n",
       "1       1100 SEMINOLE  38.066209 -78.488046  \n",
       "2  700 STONEHENGE AVE  38.018659 -78.482357  \n",
       "3      2000 MICHIE DR  38.058636 -78.488213  \n",
       "4   100 ELLIEWOOD AVE  38.036309 -78.500571  "
      ]
     },
     "execution_count": 9,
     "metadata": {},
     "output_type": "execute_result"
    }
   ],
   "source": [
    "# Combine BlockNumber and StreetName into a full address string\n",
    "df['FullStreet'] = df['BlockNumber'].astype(str) + \" \" + df['StreetName']\n",
    "\n",
    "# --- Step 1: Setup the Google Maps Client and Cache ---\n",
    "gmaps = googlemaps.Client(key=GOOGLE_API_KEY)\n",
    "\n",
    "# Try to load cached geocoding results if available.\n",
    "try:\n",
    "    with open(\"geocode_cache_google.pkl\", \"rb\") as f:\n",
    "        street_coords = pickle.load(f)\n",
    "    print(\"Loaded geocode cache.\")\n",
    "except FileNotFoundError:\n",
    "    street_coords = {}\n",
    "    print(\"No cache found; starting fresh.\")\n",
    "\n",
    "def geocode_address(address):\n",
    "    try:\n",
    "        # Append city and state to help geocoding\n",
    "        result = gmaps.geocode(f\"{address}, Charlottesville, VA\")\n",
    "        if result:\n",
    "            lat = result[0]['geometry']['location']['lat']\n",
    "            lon = result[0]['geometry']['location']['lng']\n",
    "            return lat, lon\n",
    "    except Exception as e:\n",
    "        print(f\"Error geocoding {address}: {e}\")\n",
    "    return None, None\n",
    "\n",
    "# --- Step 2: Geocode Only New Addresses ---\n",
    "unique_addresses = df['FullStreet'].unique()\n",
    "for address in unique_addresses:\n",
    "    if address not in street_coords:\n",
    "        lat, lon = geocode_address(address)\n",
    "        street_coords[address] = (lat, lon)\n",
    "        print(f\"Geocoded {address}: {lat}, {lon}\")\n",
    "\n",
    "# Save the updated cache to disk.\n",
    "with open(\"geocode_cache_google.pkl\", \"wb\") as f:\n",
    "    pickle.dump(street_coords, f)\n",
    "    print(\"Geocode cache updated and saved.\")\n",
    "\n",
    "# --- Step 3: Map Coordinates Back to DataFrame ---\n",
    "df['lat'] = df['FullStreet'].map(lambda s: street_coords.get(s, (None, None))[0])\n",
    "df['lon'] = df['FullStreet'].map(lambda s: street_coords.get(s, (None, None))[1])\n",
    "\n",
    "df.head()"
   ]
  },
  {
   "cell_type": "markdown",
   "id": "3c0c1113",
   "metadata": {
    "papermill": {
     "duration": 0.004443,
     "end_time": "2025-07-30T01:11:54.493398",
     "exception": false,
     "start_time": "2025-07-30T01:11:54.488955",
     "status": "completed"
    },
    "tags": []
   },
   "source": [
    "### Neighborhood"
   ]
  },
  {
   "cell_type": "code",
   "execution_count": 10,
   "id": "272b2cdf",
   "metadata": {
    "execution": {
     "iopub.execute_input": "2025-07-30T01:11:54.502872Z",
     "iopub.status.busy": "2025-07-30T01:11:54.502639Z",
     "iopub.status.idle": "2025-07-30T01:11:56.092602Z",
     "shell.execute_reply": "2025-07-30T01:11:56.091884Z"
    },
    "papermill": {
     "duration": 1.596057,
     "end_time": "2025-07-30T01:11:56.093755",
     "exception": false,
     "start_time": "2025-07-30T01:11:54.497698",
     "status": "completed"
    },
    "tags": []
   },
   "outputs": [
    {
     "name": "stdout",
     "output_type": "stream",
     "text": [
      "Loaded neighborhood cache.\n"
     ]
    },
    {
     "name": "stdout",
     "output_type": "stream",
     "text": [
      "Error getting neighborhood for nan, nan: HTTP Error: 400\n",
      "Error getting neighborhood for nan, nan: HTTP Error: 400\n",
      "Error getting neighborhood for nan, nan: HTTP Error: 400\n",
      "Error getting neighborhood for nan, nan: HTTP Error: 400\n",
      "Error getting neighborhood for nan, nan: HTTP Error: 400\n"
     ]
    },
    {
     "name": "stdout",
     "output_type": "stream",
     "text": [
      "Error getting neighborhood for nan, nan: HTTP Error: 400\n",
      "Error getting neighborhood for nan, nan: HTTP Error: 400\n",
      "Error getting neighborhood for nan, nan: HTTP Error: 400\n",
      "Error getting neighborhood for nan, nan: HTTP Error: 400\n"
     ]
    },
    {
     "name": "stdout",
     "output_type": "stream",
     "text": [
      "Error getting neighborhood for nan, nan: HTTP Error: 400\n",
      "Error getting neighborhood for nan, nan: HTTP Error: 400\n",
      "Error getting neighborhood for nan, nan: HTTP Error: 400\n",
      "Error getting neighborhood for nan, nan: HTTP Error: 400\n",
      "Error getting neighborhood for nan, nan: HTTP Error: 400\n",
      "Error getting neighborhood for nan, nan: HTTP Error: 400\n",
      "Error getting neighborhood for nan, nan: HTTP Error: 400\n"
     ]
    },
    {
     "name": "stdout",
     "output_type": "stream",
     "text": [
      "Error getting neighborhood for nan, nan: HTTP Error: 400\n",
      "Error getting neighborhood for nan, nan: HTTP Error: 400\n",
      "Error getting neighborhood for nan, nan: HTTP Error: 400\n",
      "Error getting neighborhood for nan, nan: HTTP Error: 400\n",
      "Error getting neighborhood for nan, nan: HTTP Error: 400\n",
      "Error getting neighborhood for nan, nan: HTTP Error: 400\n"
     ]
    },
    {
     "name": "stdout",
     "output_type": "stream",
     "text": [
      "Error getting neighborhood for nan, nan: HTTP Error: 400\n",
      "Error getting neighborhood for nan, nan: HTTP Error: 400\n",
      "Error getting neighborhood for nan, nan: HTTP Error: 400\n",
      "Error getting neighborhood for nan, nan: HTTP Error: 400\n",
      "Error getting neighborhood for nan, nan: HTTP Error: 400\n",
      "Error getting neighborhood for nan, nan: HTTP Error: 400\n",
      "Error getting neighborhood for nan, nan: HTTP Error: 400\n"
     ]
    },
    {
     "name": "stdout",
     "output_type": "stream",
     "text": [
      "Error getting neighborhood for nan, nan: HTTP Error: 400\n",
      "Error getting neighborhood for nan, nan: HTTP Error: 400\n",
      "Error getting neighborhood for nan, nan: HTTP Error: 400\n",
      "Error getting neighborhood for nan, nan: HTTP Error: 400\n",
      "Error getting neighborhood for nan, nan: HTTP Error: 400\n",
      "Error getting neighborhood for nan, nan: HTTP Error: 400\n"
     ]
    },
    {
     "name": "stdout",
     "output_type": "stream",
     "text": [
      "Error getting neighborhood for nan, nan: HTTP Error: 400\n",
      "Error getting neighborhood for nan, nan: HTTP Error: 400\n",
      "Error getting neighborhood for nan, nan: HTTP Error: 400\n",
      "Error getting neighborhood for nan, nan: HTTP Error: 400\n",
      "Error getting neighborhood for nan, nan: HTTP Error: 400\n",
      "Error getting neighborhood for nan, nan: HTTP Error: 400\n",
      "Error getting neighborhood for nan, nan: HTTP Error: 400\n"
     ]
    },
    {
     "name": "stdout",
     "output_type": "stream",
     "text": [
      "Error getting neighborhood for nan, nan: HTTP Error: 400\n",
      "Error getting neighborhood for nan, nan: HTTP Error: 400\n",
      "Error getting neighborhood for nan, nan: HTTP Error: 400\n",
      "Error getting neighborhood for nan, nan: HTTP Error: 400\n",
      "Error getting neighborhood for nan, nan: HTTP Error: 400\n",
      "Error getting neighborhood for nan, nan: HTTP Error: 400\n"
     ]
    },
    {
     "name": "stdout",
     "output_type": "stream",
     "text": [
      "Error getting neighborhood for nan, nan: HTTP Error: 400\n",
      "Error getting neighborhood for nan, nan: HTTP Error: 400\n",
      "Error getting neighborhood for nan, nan: HTTP Error: 400\n",
      "Error getting neighborhood for nan, nan: HTTP Error: 400\n",
      "Error getting neighborhood for nan, nan: HTTP Error: 400\n",
      "Error getting neighborhood for nan, nan: HTTP Error: 400\n",
      "Error getting neighborhood for nan, nan: HTTP Error: 400\n"
     ]
    },
    {
     "name": "stdout",
     "output_type": "stream",
     "text": [
      "Error getting neighborhood for nan, nan: HTTP Error: 400\n",
      "Error getting neighborhood for nan, nan: HTTP Error: 400\n",
      "Error getting neighborhood for nan, nan: HTTP Error: 400\n",
      "Error getting neighborhood for nan, nan: HTTP Error: 400\n",
      "Error getting neighborhood for nan, nan: HTTP Error: 400\n",
      "Error getting neighborhood for nan, nan: HTTP Error: 400\n"
     ]
    },
    {
     "name": "stdout",
     "output_type": "stream",
     "text": [
      "Error getting neighborhood for nan, nan: HTTP Error: 400\n",
      "Error getting neighborhood for nan, nan: HTTP Error: 400\n",
      "Error getting neighborhood for nan, nan: HTTP Error: 400\n",
      "Error getting neighborhood for nan, nan: HTTP Error: 400\n",
      "Error getting neighborhood for nan, nan: HTTP Error: 400\n",
      "Error getting neighborhood for nan, nan: HTTP Error: 400\n",
      "Error getting neighborhood for nan, nan: HTTP Error: 400\n"
     ]
    },
    {
     "name": "stdout",
     "output_type": "stream",
     "text": [
      "Error getting neighborhood for nan, nan: HTTP Error: 400\n",
      "Error getting neighborhood for nan, nan: HTTP Error: 400\n",
      "Error getting neighborhood for nan, nan: HTTP Error: 400\n",
      "Error getting neighborhood for nan, nan: HTTP Error: 400\n",
      "Error getting neighborhood for nan, nan: HTTP Error: 400\n",
      "Error getting neighborhood for nan, nan: HTTP Error: 400\n"
     ]
    },
    {
     "name": "stdout",
     "output_type": "stream",
     "text": [
      "Error getting neighborhood for nan, nan: HTTP Error: 400\n",
      "Error getting neighborhood for nan, nan: HTTP Error: 400\n"
     ]
    },
    {
     "data": {
      "text/html": [
       "<div>\n",
       "<style scoped>\n",
       "    .dataframe tbody tr th:only-of-type {\n",
       "        vertical-align: middle;\n",
       "    }\n",
       "\n",
       "    .dataframe tbody tr th {\n",
       "        vertical-align: top;\n",
       "    }\n",
       "\n",
       "    .dataframe thead th {\n",
       "        text-align: right;\n",
       "    }\n",
       "</style>\n",
       "<table border=\"1\" class=\"dataframe\">\n",
       "  <thead>\n",
       "    <tr style=\"text-align: right;\">\n",
       "      <th></th>\n",
       "      <th>RecordID</th>\n",
       "      <th>Offense</th>\n",
       "      <th>IncidentID</th>\n",
       "      <th>BlockNumber</th>\n",
       "      <th>StreetName</th>\n",
       "      <th>Agency</th>\n",
       "      <th>HourReported</th>\n",
       "      <th>ReportingOfficer</th>\n",
       "      <th>Date</th>\n",
       "      <th>DateString</th>\n",
       "      <th>DayOfWeek</th>\n",
       "      <th>Weekend</th>\n",
       "      <th>Season</th>\n",
       "      <th>HourAMPM</th>\n",
       "      <th>TimeOfDay</th>\n",
       "      <th>FullStreet</th>\n",
       "      <th>lat</th>\n",
       "      <th>lon</th>\n",
       "      <th>neighborhood</th>\n",
       "    </tr>\n",
       "  </thead>\n",
       "  <tbody>\n",
       "    <tr>\n",
       "      <th>0</th>\n",
       "      <td>1</td>\n",
       "      <td>Stolen Property Offenses</td>\n",
       "      <td>202500026519</td>\n",
       "      <td>200</td>\n",
       "      <td>E JEFFERSON ST</td>\n",
       "      <td>CPD</td>\n",
       "      <td>1751</td>\n",
       "      <td>Benbow, Lauren</td>\n",
       "      <td>2025-07-27 17:51:44</td>\n",
       "      <td>2025-07-27 05:51:44 PM</td>\n",
       "      <td>Sunday</td>\n",
       "      <td>True</td>\n",
       "      <td>Summer</td>\n",
       "      <td>05:51 PM</td>\n",
       "      <td>Evening</td>\n",
       "      <td>200 E JEFFERSON ST</td>\n",
       "      <td>38.032070</td>\n",
       "      <td>-78.480087</td>\n",
       "      <td>North Downtown</td>\n",
       "    </tr>\n",
       "    <tr>\n",
       "      <th>1</th>\n",
       "      <td>2</td>\n",
       "      <td>Assault Aggravated</td>\n",
       "      <td>202500026498</td>\n",
       "      <td>1100</td>\n",
       "      <td>SEMINOLE</td>\n",
       "      <td>CPD</td>\n",
       "      <td>1519</td>\n",
       "      <td>Curry, Brian</td>\n",
       "      <td>2025-07-27 15:19:52</td>\n",
       "      <td>2025-07-27 03:19:52 PM</td>\n",
       "      <td>Sunday</td>\n",
       "      <td>True</td>\n",
       "      <td>Summer</td>\n",
       "      <td>03:19 PM</td>\n",
       "      <td>Afternoon</td>\n",
       "      <td>1100 SEMINOLE</td>\n",
       "      <td>38.066209</td>\n",
       "      <td>-78.488046</td>\n",
       "      <td>The Meadows</td>\n",
       "    </tr>\n",
       "    <tr>\n",
       "      <th>2</th>\n",
       "      <td>3</td>\n",
       "      <td>Assault Simple</td>\n",
       "      <td>202500026497</td>\n",
       "      <td>700</td>\n",
       "      <td>STONEHENGE AVE</td>\n",
       "      <td>CPD</td>\n",
       "      <td>1506</td>\n",
       "      <td>Schwartz, Honora</td>\n",
       "      <td>2025-07-27 15:06:19</td>\n",
       "      <td>2025-07-27 03:06:19 PM</td>\n",
       "      <td>Sunday</td>\n",
       "      <td>True</td>\n",
       "      <td>Summer</td>\n",
       "      <td>03:06 PM</td>\n",
       "      <td>Afternoon</td>\n",
       "      <td>700 STONEHENGE AVE</td>\n",
       "      <td>38.018659</td>\n",
       "      <td>-78.482357</td>\n",
       "      <td>Belmont</td>\n",
       "    </tr>\n",
       "    <tr>\n",
       "      <th>3</th>\n",
       "      <td>4</td>\n",
       "      <td>Assault Simple</td>\n",
       "      <td>202500026495</td>\n",
       "      <td>2000</td>\n",
       "      <td>MICHIE DR</td>\n",
       "      <td>CPD</td>\n",
       "      <td>1437</td>\n",
       "      <td>Mian, Ghulam</td>\n",
       "      <td>2025-07-27 14:37:44</td>\n",
       "      <td>2025-07-27 02:37:44 PM</td>\n",
       "      <td>Sunday</td>\n",
       "      <td>True</td>\n",
       "      <td>Summer</td>\n",
       "      <td>02:37 PM</td>\n",
       "      <td>Afternoon</td>\n",
       "      <td>2000 MICHIE DR</td>\n",
       "      <td>38.058636</td>\n",
       "      <td>-78.488213</td>\n",
       "      <td>The Meadows</td>\n",
       "    </tr>\n",
       "    <tr>\n",
       "      <th>4</th>\n",
       "      <td>5</td>\n",
       "      <td>Burglary</td>\n",
       "      <td>202500026491</td>\n",
       "      <td>100</td>\n",
       "      <td>ELLIEWOOD AVE</td>\n",
       "      <td>CPD</td>\n",
       "      <td>1415</td>\n",
       "      <td>O'Briant, Landon</td>\n",
       "      <td>2025-07-27 14:15:29</td>\n",
       "      <td>2025-07-27 02:15:29 PM</td>\n",
       "      <td>Sunday</td>\n",
       "      <td>True</td>\n",
       "      <td>Summer</td>\n",
       "      <td>02:15 PM</td>\n",
       "      <td>Afternoon</td>\n",
       "      <td>100 ELLIEWOOD AVE</td>\n",
       "      <td>38.036309</td>\n",
       "      <td>-78.500571</td>\n",
       "      <td>Venable</td>\n",
       "    </tr>\n",
       "  </tbody>\n",
       "</table>\n",
       "</div>"
      ],
      "text/plain": [
       "   RecordID                   Offense    IncidentID BlockNumber  \\\n",
       "0         1  Stolen Property Offenses  202500026519         200   \n",
       "1         2        Assault Aggravated  202500026498        1100   \n",
       "2         3            Assault Simple  202500026497         700   \n",
       "3         4            Assault Simple  202500026495        2000   \n",
       "4         5                  Burglary  202500026491         100   \n",
       "\n",
       "       StreetName Agency HourReported  ReportingOfficer                Date  \\\n",
       "0  E JEFFERSON ST    CPD         1751    Benbow, Lauren 2025-07-27 17:51:44   \n",
       "1        SEMINOLE    CPD         1519      Curry, Brian 2025-07-27 15:19:52   \n",
       "2  STONEHENGE AVE    CPD         1506  Schwartz, Honora 2025-07-27 15:06:19   \n",
       "3       MICHIE DR    CPD         1437      Mian, Ghulam 2025-07-27 14:37:44   \n",
       "4   ELLIEWOOD AVE    CPD         1415  O'Briant, Landon 2025-07-27 14:15:29   \n",
       "\n",
       "               DateString DayOfWeek  Weekend  Season  HourAMPM  TimeOfDay  \\\n",
       "0  2025-07-27 05:51:44 PM    Sunday     True  Summer  05:51 PM    Evening   \n",
       "1  2025-07-27 03:19:52 PM    Sunday     True  Summer  03:19 PM  Afternoon   \n",
       "2  2025-07-27 03:06:19 PM    Sunday     True  Summer  03:06 PM  Afternoon   \n",
       "3  2025-07-27 02:37:44 PM    Sunday     True  Summer  02:37 PM  Afternoon   \n",
       "4  2025-07-27 02:15:29 PM    Sunday     True  Summer  02:15 PM  Afternoon   \n",
       "\n",
       "           FullStreet        lat        lon    neighborhood  \n",
       "0  200 E JEFFERSON ST  38.032070 -78.480087  North Downtown  \n",
       "1       1100 SEMINOLE  38.066209 -78.488046     The Meadows  \n",
       "2  700 STONEHENGE AVE  38.018659 -78.482357         Belmont  \n",
       "3      2000 MICHIE DR  38.058636 -78.488213     The Meadows  \n",
       "4   100 ELLIEWOOD AVE  38.036309 -78.500571         Venable  "
      ]
     },
     "execution_count": 10,
     "metadata": {},
     "output_type": "execute_result"
    }
   ],
   "source": [
    "# Initialize the Google Maps client.\n",
    "gmaps = googlemaps.Client(key=GOOGLE_API_KEY)\n",
    "\n",
    "# Try to load a persistent neighborhood cache if available.\n",
    "try:\n",
    "    with open(\"neighborhood_cache.pkl\", \"rb\") as f:\n",
    "        neighborhood_cache = pickle.load(f)\n",
    "    print(\"Loaded neighborhood cache.\")\n",
    "except FileNotFoundError:\n",
    "    neighborhood_cache = {}\n",
    "    print(\"No neighborhood cache found; starting fresh.\")\n",
    "\n",
    "def get_neighborhood(lat, lon):\n",
    "    \"\"\"\n",
    "    Reverse geocodes a latitude and longitude to retrieve the neighborhood.\n",
    "    Caches results to speed up subsequent lookups.\n",
    "    \"\"\"\n",
    "    key = (lat, lon)\n",
    "    if key in neighborhood_cache:\n",
    "        return neighborhood_cache[key]\n",
    "    \n",
    "    try:\n",
    "        result = gmaps.reverse_geocode((lat, lon))\n",
    "        if result:\n",
    "            # Look for the 'neighborhood' component in the first result.\n",
    "            for component in result[0]['address_components']:\n",
    "                if 'neighborhood' in component['types']:\n",
    "                    neighborhood = component['long_name']\n",
    "                    neighborhood_cache[key] = neighborhood\n",
    "                    return neighborhood\n",
    "            # If no neighborhood is found, return \"N/A\"\n",
    "            neighborhood_cache[key] = \"N/A\"\n",
    "            return \"N/A\"\n",
    "    except Exception as e:\n",
    "        print(f\"Error getting neighborhood for {lat}, {lon}: {e}\")\n",
    "        return \"N/A\"\n",
    "    \n",
    "    # Pause to respect usage limits.\n",
    "    time.sleep(1)\n",
    "\n",
    "# Example usage: Apply to your DataFrame 'df' that already has 'lat' and 'lon' columns.\n",
    "df['neighborhood'] = df.apply(lambda row: get_neighborhood(row['lat'], row['lon']), axis=1)\n",
    "\n",
    "# Save the updated neighborhood cache.\n",
    "with open(\"neighborhood_cache.pkl\", \"wb\") as f:\n",
    "    pickle.dump(neighborhood_cache, f)\n",
    "\n",
    "df.head()\n"
   ]
  },
  {
   "cell_type": "markdown",
   "id": "c0279cad",
   "metadata": {
    "papermill": {
     "duration": 0.005161,
     "end_time": "2025-07-30T01:11:56.104601",
     "exception": false,
     "start_time": "2025-07-30T01:11:56.099440",
     "status": "completed"
    },
    "tags": []
   },
   "source": [
    "### Zip"
   ]
  },
  {
   "cell_type": "code",
   "execution_count": 11,
   "id": "d2e0f977",
   "metadata": {
    "execution": {
     "iopub.execute_input": "2025-07-30T01:11:56.115655Z",
     "iopub.status.busy": "2025-07-30T01:11:56.115465Z",
     "iopub.status.idle": "2025-07-30T01:13:12.539585Z",
     "shell.execute_reply": "2025-07-30T01:13:12.538875Z"
    },
    "papermill": {
     "duration": 76.430929,
     "end_time": "2025-07-30T01:13:12.540664",
     "exception": false,
     "start_time": "2025-07-30T01:11:56.109735",
     "status": "completed"
    },
    "tags": []
   },
   "outputs": [
    {
     "name": "stdout",
     "output_type": "stream",
     "text": [
      "Loaded zip cache.\n",
      "Error getting ZIP for nan, nan: Must be a coordinate pair or Point\n"
     ]
    },
    {
     "name": "stdout",
     "output_type": "stream",
     "text": [
      "Error getting ZIP for nan, nan: Must be a coordinate pair or Point\n"
     ]
    },
    {
     "name": "stdout",
     "output_type": "stream",
     "text": [
      "Error getting ZIP for nan, nan: Must be a coordinate pair or Point\n"
     ]
    },
    {
     "name": "stdout",
     "output_type": "stream",
     "text": [
      "Error getting ZIP for nan, nan: Must be a coordinate pair or Point\n"
     ]
    },
    {
     "name": "stdout",
     "output_type": "stream",
     "text": [
      "Error getting ZIP for nan, nan: Must be a coordinate pair or Point\n"
     ]
    },
    {
     "name": "stdout",
     "output_type": "stream",
     "text": [
      "Error getting ZIP for nan, nan: Must be a coordinate pair or Point\n"
     ]
    },
    {
     "name": "stdout",
     "output_type": "stream",
     "text": [
      "Error getting ZIP for nan, nan: Must be a coordinate pair or Point\n"
     ]
    },
    {
     "name": "stdout",
     "output_type": "stream",
     "text": [
      "Error getting ZIP for nan, nan: Must be a coordinate pair or Point\n"
     ]
    },
    {
     "name": "stdout",
     "output_type": "stream",
     "text": [
      "Error getting ZIP for nan, nan: Must be a coordinate pair or Point\n"
     ]
    },
    {
     "name": "stdout",
     "output_type": "stream",
     "text": [
      "Error getting ZIP for nan, nan: Must be a coordinate pair or Point\n"
     ]
    },
    {
     "name": "stdout",
     "output_type": "stream",
     "text": [
      "Error getting ZIP for nan, nan: Must be a coordinate pair or Point\n"
     ]
    },
    {
     "name": "stdout",
     "output_type": "stream",
     "text": [
      "Error getting ZIP for nan, nan: Must be a coordinate pair or Point\n"
     ]
    },
    {
     "name": "stdout",
     "output_type": "stream",
     "text": [
      "Error getting ZIP for nan, nan: Must be a coordinate pair or Point\n"
     ]
    },
    {
     "name": "stdout",
     "output_type": "stream",
     "text": [
      "Error getting ZIP for nan, nan: Must be a coordinate pair or Point\n"
     ]
    },
    {
     "name": "stdout",
     "output_type": "stream",
     "text": [
      "Error getting ZIP for nan, nan: Must be a coordinate pair or Point\n"
     ]
    },
    {
     "name": "stdout",
     "output_type": "stream",
     "text": [
      "Error getting ZIP for nan, nan: Must be a coordinate pair or Point\n"
     ]
    },
    {
     "name": "stdout",
     "output_type": "stream",
     "text": [
      "Error getting ZIP for nan, nan: Must be a coordinate pair or Point\n"
     ]
    },
    {
     "name": "stdout",
     "output_type": "stream",
     "text": [
      "Error getting ZIP for nan, nan: Must be a coordinate pair or Point\n"
     ]
    },
    {
     "name": "stdout",
     "output_type": "stream",
     "text": [
      "Error getting ZIP for nan, nan: Must be a coordinate pair or Point\n"
     ]
    },
    {
     "name": "stdout",
     "output_type": "stream",
     "text": [
      "Error getting ZIP for nan, nan: Must be a coordinate pair or Point\n"
     ]
    },
    {
     "name": "stdout",
     "output_type": "stream",
     "text": [
      "Error getting ZIP for nan, nan: Must be a coordinate pair or Point\n"
     ]
    },
    {
     "name": "stdout",
     "output_type": "stream",
     "text": [
      "Error getting ZIP for nan, nan: Must be a coordinate pair or Point\n"
     ]
    },
    {
     "name": "stdout",
     "output_type": "stream",
     "text": [
      "Error getting ZIP for nan, nan: Must be a coordinate pair or Point\n"
     ]
    },
    {
     "name": "stdout",
     "output_type": "stream",
     "text": [
      "Error getting ZIP for nan, nan: Must be a coordinate pair or Point\n"
     ]
    },
    {
     "name": "stdout",
     "output_type": "stream",
     "text": [
      "Error getting ZIP for nan, nan: Must be a coordinate pair or Point\n"
     ]
    },
    {
     "name": "stdout",
     "output_type": "stream",
     "text": [
      "Error getting ZIP for nan, nan: Must be a coordinate pair or Point\n"
     ]
    },
    {
     "name": "stdout",
     "output_type": "stream",
     "text": [
      "Error getting ZIP for nan, nan: Must be a coordinate pair or Point\n"
     ]
    },
    {
     "name": "stdout",
     "output_type": "stream",
     "text": [
      "Error getting ZIP for nan, nan: Must be a coordinate pair or Point\n"
     ]
    },
    {
     "name": "stdout",
     "output_type": "stream",
     "text": [
      "Error getting ZIP for nan, nan: Must be a coordinate pair or Point\n"
     ]
    },
    {
     "name": "stdout",
     "output_type": "stream",
     "text": [
      "Error getting ZIP for nan, nan: Must be a coordinate pair or Point\n"
     ]
    },
    {
     "name": "stdout",
     "output_type": "stream",
     "text": [
      "Error getting ZIP for nan, nan: Must be a coordinate pair or Point\n"
     ]
    },
    {
     "name": "stdout",
     "output_type": "stream",
     "text": [
      "Error getting ZIP for nan, nan: Must be a coordinate pair or Point\n"
     ]
    },
    {
     "name": "stdout",
     "output_type": "stream",
     "text": [
      "Error getting ZIP for nan, nan: Must be a coordinate pair or Point\n"
     ]
    },
    {
     "name": "stdout",
     "output_type": "stream",
     "text": [
      "Error getting ZIP for nan, nan: Must be a coordinate pair or Point\n"
     ]
    },
    {
     "name": "stdout",
     "output_type": "stream",
     "text": [
      "Error getting ZIP for nan, nan: Must be a coordinate pair or Point\n"
     ]
    },
    {
     "name": "stdout",
     "output_type": "stream",
     "text": [
      "Error getting ZIP for nan, nan: Must be a coordinate pair or Point\n"
     ]
    },
    {
     "name": "stdout",
     "output_type": "stream",
     "text": [
      "Error getting ZIP for nan, nan: Must be a coordinate pair or Point\n"
     ]
    },
    {
     "name": "stdout",
     "output_type": "stream",
     "text": [
      "Error getting ZIP for nan, nan: Must be a coordinate pair or Point\n"
     ]
    },
    {
     "name": "stdout",
     "output_type": "stream",
     "text": [
      "Error getting ZIP for nan, nan: Must be a coordinate pair or Point\n"
     ]
    },
    {
     "name": "stdout",
     "output_type": "stream",
     "text": [
      "Error getting ZIP for nan, nan: Must be a coordinate pair or Point\n"
     ]
    },
    {
     "name": "stdout",
     "output_type": "stream",
     "text": [
      "Error getting ZIP for nan, nan: Must be a coordinate pair or Point\n"
     ]
    },
    {
     "name": "stdout",
     "output_type": "stream",
     "text": [
      "Error getting ZIP for nan, nan: Must be a coordinate pair or Point\n"
     ]
    },
    {
     "name": "stdout",
     "output_type": "stream",
     "text": [
      "Error getting ZIP for nan, nan: Must be a coordinate pair or Point\n"
     ]
    },
    {
     "name": "stdout",
     "output_type": "stream",
     "text": [
      "Error getting ZIP for nan, nan: Must be a coordinate pair or Point\n"
     ]
    },
    {
     "name": "stdout",
     "output_type": "stream",
     "text": [
      "Error getting ZIP for nan, nan: Must be a coordinate pair or Point\n"
     ]
    },
    {
     "name": "stdout",
     "output_type": "stream",
     "text": [
      "Error getting ZIP for nan, nan: Must be a coordinate pair or Point\n"
     ]
    },
    {
     "name": "stdout",
     "output_type": "stream",
     "text": [
      "Error getting ZIP for nan, nan: Must be a coordinate pair or Point\n"
     ]
    },
    {
     "name": "stdout",
     "output_type": "stream",
     "text": [
      "Error getting ZIP for nan, nan: Must be a coordinate pair or Point\n"
     ]
    },
    {
     "name": "stdout",
     "output_type": "stream",
     "text": [
      "Error getting ZIP for nan, nan: Must be a coordinate pair or Point\n"
     ]
    },
    {
     "name": "stdout",
     "output_type": "stream",
     "text": [
      "Error getting ZIP for nan, nan: Must be a coordinate pair or Point\n"
     ]
    },
    {
     "name": "stdout",
     "output_type": "stream",
     "text": [
      "Error getting ZIP for nan, nan: Must be a coordinate pair or Point\n"
     ]
    },
    {
     "name": "stdout",
     "output_type": "stream",
     "text": [
      "Error getting ZIP for nan, nan: Must be a coordinate pair or Point\n"
     ]
    },
    {
     "name": "stdout",
     "output_type": "stream",
     "text": [
      "Error getting ZIP for nan, nan: Must be a coordinate pair or Point\n"
     ]
    },
    {
     "name": "stdout",
     "output_type": "stream",
     "text": [
      "Error getting ZIP for nan, nan: Must be a coordinate pair or Point\n"
     ]
    },
    {
     "name": "stdout",
     "output_type": "stream",
     "text": [
      "Error getting ZIP for nan, nan: Must be a coordinate pair or Point\n"
     ]
    },
    {
     "name": "stdout",
     "output_type": "stream",
     "text": [
      "Error getting ZIP for nan, nan: Must be a coordinate pair or Point\n"
     ]
    },
    {
     "name": "stdout",
     "output_type": "stream",
     "text": [
      "Error getting ZIP for nan, nan: Must be a coordinate pair or Point\n"
     ]
    },
    {
     "name": "stdout",
     "output_type": "stream",
     "text": [
      "Error getting ZIP for nan, nan: Must be a coordinate pair or Point\n"
     ]
    },
    {
     "name": "stdout",
     "output_type": "stream",
     "text": [
      "Error getting ZIP for nan, nan: Must be a coordinate pair or Point\n"
     ]
    },
    {
     "name": "stdout",
     "output_type": "stream",
     "text": [
      "Error getting ZIP for nan, nan: Must be a coordinate pair or Point\n"
     ]
    },
    {
     "name": "stdout",
     "output_type": "stream",
     "text": [
      "Error getting ZIP for nan, nan: Must be a coordinate pair or Point\n"
     ]
    },
    {
     "name": "stdout",
     "output_type": "stream",
     "text": [
      "Error getting ZIP for nan, nan: Must be a coordinate pair or Point\n"
     ]
    },
    {
     "name": "stdout",
     "output_type": "stream",
     "text": [
      "Error getting ZIP for nan, nan: Must be a coordinate pair or Point\n"
     ]
    },
    {
     "name": "stdout",
     "output_type": "stream",
     "text": [
      "Error getting ZIP for nan, nan: Must be a coordinate pair or Point\n"
     ]
    },
    {
     "name": "stdout",
     "output_type": "stream",
     "text": [
      "Error getting ZIP for nan, nan: Must be a coordinate pair or Point\n"
     ]
    },
    {
     "name": "stdout",
     "output_type": "stream",
     "text": [
      "Error getting ZIP for nan, nan: Must be a coordinate pair or Point\n"
     ]
    },
    {
     "name": "stdout",
     "output_type": "stream",
     "text": [
      "Error getting ZIP for nan, nan: Must be a coordinate pair or Point\n"
     ]
    },
    {
     "name": "stdout",
     "output_type": "stream",
     "text": [
      "Error getting ZIP for nan, nan: Must be a coordinate pair or Point\n"
     ]
    },
    {
     "name": "stdout",
     "output_type": "stream",
     "text": [
      "Error getting ZIP for nan, nan: Must be a coordinate pair or Point\n"
     ]
    },
    {
     "name": "stdout",
     "output_type": "stream",
     "text": [
      "Error getting ZIP for nan, nan: Must be a coordinate pair or Point\n"
     ]
    },
    {
     "name": "stdout",
     "output_type": "stream",
     "text": [
      "Error getting ZIP for nan, nan: Must be a coordinate pair or Point\n"
     ]
    },
    {
     "name": "stdout",
     "output_type": "stream",
     "text": [
      "Error getting ZIP for nan, nan: Must be a coordinate pair or Point\n"
     ]
    },
    {
     "name": "stdout",
     "output_type": "stream",
     "text": [
      "Error getting ZIP for nan, nan: Must be a coordinate pair or Point\n"
     ]
    },
    {
     "name": "stdout",
     "output_type": "stream",
     "text": [
      "Error getting ZIP for nan, nan: Must be a coordinate pair or Point\n"
     ]
    },
    {
     "name": "stdout",
     "output_type": "stream",
     "text": [
      "Error getting ZIP for nan, nan: Must be a coordinate pair or Point\n"
     ]
    },
    {
     "name": "stdout",
     "output_type": "stream",
     "text": [
      "Error getting ZIP for nan, nan: Must be a coordinate pair or Point\n"
     ]
    },
    {
     "data": {
      "text/html": [
       "<div>\n",
       "<style scoped>\n",
       "    .dataframe tbody tr th:only-of-type {\n",
       "        vertical-align: middle;\n",
       "    }\n",
       "\n",
       "    .dataframe tbody tr th {\n",
       "        vertical-align: top;\n",
       "    }\n",
       "\n",
       "    .dataframe thead th {\n",
       "        text-align: right;\n",
       "    }\n",
       "</style>\n",
       "<table border=\"1\" class=\"dataframe\">\n",
       "  <thead>\n",
       "    <tr style=\"text-align: right;\">\n",
       "      <th></th>\n",
       "      <th>RecordID</th>\n",
       "      <th>Offense</th>\n",
       "      <th>IncidentID</th>\n",
       "      <th>BlockNumber</th>\n",
       "      <th>StreetName</th>\n",
       "      <th>Agency</th>\n",
       "      <th>HourReported</th>\n",
       "      <th>ReportingOfficer</th>\n",
       "      <th>Date</th>\n",
       "      <th>DateString</th>\n",
       "      <th>DayOfWeek</th>\n",
       "      <th>Weekend</th>\n",
       "      <th>Season</th>\n",
       "      <th>HourAMPM</th>\n",
       "      <th>TimeOfDay</th>\n",
       "      <th>FullStreet</th>\n",
       "      <th>lat</th>\n",
       "      <th>lon</th>\n",
       "      <th>neighborhood</th>\n",
       "      <th>zip</th>\n",
       "    </tr>\n",
       "  </thead>\n",
       "  <tbody>\n",
       "    <tr>\n",
       "      <th>0</th>\n",
       "      <td>1</td>\n",
       "      <td>Stolen Property Offenses</td>\n",
       "      <td>202500026519</td>\n",
       "      <td>200</td>\n",
       "      <td>E JEFFERSON ST</td>\n",
       "      <td>CPD</td>\n",
       "      <td>1751</td>\n",
       "      <td>Benbow, Lauren</td>\n",
       "      <td>2025-07-27 17:51:44</td>\n",
       "      <td>2025-07-27 05:51:44 PM</td>\n",
       "      <td>Sunday</td>\n",
       "      <td>True</td>\n",
       "      <td>Summer</td>\n",
       "      <td>05:51 PM</td>\n",
       "      <td>Evening</td>\n",
       "      <td>200 E JEFFERSON ST</td>\n",
       "      <td>38.032070</td>\n",
       "      <td>-78.480087</td>\n",
       "      <td>North Downtown</td>\n",
       "      <td>22902</td>\n",
       "    </tr>\n",
       "    <tr>\n",
       "      <th>1</th>\n",
       "      <td>2</td>\n",
       "      <td>Assault Aggravated</td>\n",
       "      <td>202500026498</td>\n",
       "      <td>1100</td>\n",
       "      <td>SEMINOLE</td>\n",
       "      <td>CPD</td>\n",
       "      <td>1519</td>\n",
       "      <td>Curry, Brian</td>\n",
       "      <td>2025-07-27 15:19:52</td>\n",
       "      <td>2025-07-27 03:19:52 PM</td>\n",
       "      <td>Sunday</td>\n",
       "      <td>True</td>\n",
       "      <td>Summer</td>\n",
       "      <td>03:19 PM</td>\n",
       "      <td>Afternoon</td>\n",
       "      <td>1100 SEMINOLE</td>\n",
       "      <td>38.066209</td>\n",
       "      <td>-78.488046</td>\n",
       "      <td>The Meadows</td>\n",
       "      <td>22901</td>\n",
       "    </tr>\n",
       "    <tr>\n",
       "      <th>2</th>\n",
       "      <td>3</td>\n",
       "      <td>Assault Simple</td>\n",
       "      <td>202500026497</td>\n",
       "      <td>700</td>\n",
       "      <td>STONEHENGE AVE</td>\n",
       "      <td>CPD</td>\n",
       "      <td>1506</td>\n",
       "      <td>Schwartz, Honora</td>\n",
       "      <td>2025-07-27 15:06:19</td>\n",
       "      <td>2025-07-27 03:06:19 PM</td>\n",
       "      <td>Sunday</td>\n",
       "      <td>True</td>\n",
       "      <td>Summer</td>\n",
       "      <td>03:06 PM</td>\n",
       "      <td>Afternoon</td>\n",
       "      <td>700 STONEHENGE AVE</td>\n",
       "      <td>38.018659</td>\n",
       "      <td>-78.482357</td>\n",
       "      <td>Belmont</td>\n",
       "      <td>22903</td>\n",
       "    </tr>\n",
       "    <tr>\n",
       "      <th>3</th>\n",
       "      <td>4</td>\n",
       "      <td>Assault Simple</td>\n",
       "      <td>202500026495</td>\n",
       "      <td>2000</td>\n",
       "      <td>MICHIE DR</td>\n",
       "      <td>CPD</td>\n",
       "      <td>1437</td>\n",
       "      <td>Mian, Ghulam</td>\n",
       "      <td>2025-07-27 14:37:44</td>\n",
       "      <td>2025-07-27 02:37:44 PM</td>\n",
       "      <td>Sunday</td>\n",
       "      <td>True</td>\n",
       "      <td>Summer</td>\n",
       "      <td>02:37 PM</td>\n",
       "      <td>Afternoon</td>\n",
       "      <td>2000 MICHIE DR</td>\n",
       "      <td>38.058636</td>\n",
       "      <td>-78.488213</td>\n",
       "      <td>The Meadows</td>\n",
       "      <td>22901</td>\n",
       "    </tr>\n",
       "    <tr>\n",
       "      <th>4</th>\n",
       "      <td>5</td>\n",
       "      <td>Burglary</td>\n",
       "      <td>202500026491</td>\n",
       "      <td>100</td>\n",
       "      <td>ELLIEWOOD AVE</td>\n",
       "      <td>CPD</td>\n",
       "      <td>1415</td>\n",
       "      <td>O'Briant, Landon</td>\n",
       "      <td>2025-07-27 14:15:29</td>\n",
       "      <td>2025-07-27 02:15:29 PM</td>\n",
       "      <td>Sunday</td>\n",
       "      <td>True</td>\n",
       "      <td>Summer</td>\n",
       "      <td>02:15 PM</td>\n",
       "      <td>Afternoon</td>\n",
       "      <td>100 ELLIEWOOD AVE</td>\n",
       "      <td>38.036309</td>\n",
       "      <td>-78.500571</td>\n",
       "      <td>Venable</td>\n",
       "      <td>22903</td>\n",
       "    </tr>\n",
       "  </tbody>\n",
       "</table>\n",
       "</div>"
      ],
      "text/plain": [
       "   RecordID                   Offense    IncidentID BlockNumber  \\\n",
       "0         1  Stolen Property Offenses  202500026519         200   \n",
       "1         2        Assault Aggravated  202500026498        1100   \n",
       "2         3            Assault Simple  202500026497         700   \n",
       "3         4            Assault Simple  202500026495        2000   \n",
       "4         5                  Burglary  202500026491         100   \n",
       "\n",
       "       StreetName Agency HourReported  ReportingOfficer                Date  \\\n",
       "0  E JEFFERSON ST    CPD         1751    Benbow, Lauren 2025-07-27 17:51:44   \n",
       "1        SEMINOLE    CPD         1519      Curry, Brian 2025-07-27 15:19:52   \n",
       "2  STONEHENGE AVE    CPD         1506  Schwartz, Honora 2025-07-27 15:06:19   \n",
       "3       MICHIE DR    CPD         1437      Mian, Ghulam 2025-07-27 14:37:44   \n",
       "4   ELLIEWOOD AVE    CPD         1415  O'Briant, Landon 2025-07-27 14:15:29   \n",
       "\n",
       "               DateString DayOfWeek  Weekend  Season  HourAMPM  TimeOfDay  \\\n",
       "0  2025-07-27 05:51:44 PM    Sunday     True  Summer  05:51 PM    Evening   \n",
       "1  2025-07-27 03:19:52 PM    Sunday     True  Summer  03:19 PM  Afternoon   \n",
       "2  2025-07-27 03:06:19 PM    Sunday     True  Summer  03:06 PM  Afternoon   \n",
       "3  2025-07-27 02:37:44 PM    Sunday     True  Summer  02:37 PM  Afternoon   \n",
       "4  2025-07-27 02:15:29 PM    Sunday     True  Summer  02:15 PM  Afternoon   \n",
       "\n",
       "           FullStreet        lat        lon    neighborhood    zip  \n",
       "0  200 E JEFFERSON ST  38.032070 -78.480087  North Downtown  22902  \n",
       "1       1100 SEMINOLE  38.066209 -78.488046     The Meadows  22901  \n",
       "2  700 STONEHENGE AVE  38.018659 -78.482357         Belmont  22903  \n",
       "3      2000 MICHIE DR  38.058636 -78.488213     The Meadows  22901  \n",
       "4   100 ELLIEWOOD AVE  38.036309 -78.500571         Venable  22903  "
      ]
     },
     "execution_count": 11,
     "metadata": {},
     "output_type": "execute_result"
    }
   ],
   "source": [
    "# Initialize the geocoder.\n",
    "geolocator = Nominatim(user_agent=\"zip_lookup\")\n",
    "\n",
    "# Try to load a persistent ZIP cache if available.\n",
    "try:\n",
    "    with open(\"zip_cache.pkl\", \"rb\") as f:\n",
    "        zip_cache = pickle.load(f)\n",
    "    print(\"Loaded zip cache.\")\n",
    "except FileNotFoundError:\n",
    "    zip_cache = {}\n",
    "    print(\"No zip cache found; starting fresh.\")\n",
    "\n",
    "def get_zip(lat, lon):\n",
    "    \"\"\"\n",
    "    Reverse geocodes a latitude and longitude to retrieve the ZIP code.\n",
    "    Caches results to speed up subsequent lookups.\n",
    "    \"\"\"\n",
    "    key = (lat, lon)\n",
    "    if key in zip_cache:\n",
    "        return zip_cache[key]\n",
    "    \n",
    "    try:\n",
    "        location = geolocator.reverse((lat, lon), exactly_one=True, timeout=10)\n",
    "        address = location.raw.get('address', {})\n",
    "        postal_code = address.get('postcode', \"N/A\")\n",
    "    except Exception as e:\n",
    "        print(f\"Error getting ZIP for {lat}, {lon}: {e}\")\n",
    "        postal_code = \"N/A\"\n",
    "    \n",
    "    zip_cache[key] = postal_code\n",
    "    # Pause to respect the usage policy.\n",
    "    time.sleep(1)\n",
    "    return postal_code\n",
    "\n",
    "# Apply the function to each row in the DataFrame.\n",
    "df['zip'] = df.apply(lambda row: get_zip(row['lat'], row['lon']), axis=1)\n",
    "\n",
    "# Save the updated ZIP cache.\n",
    "with open(\"zip_cache.pkl\", \"wb\") as f:\n",
    "    pickle.dump(zip_cache, f)\n",
    "\n",
    "df.head()\n"
   ]
  },
  {
   "cell_type": "code",
   "execution_count": 12,
   "id": "a61eb165",
   "metadata": {
    "execution": {
     "iopub.execute_input": "2025-07-30T01:13:12.559053Z",
     "iopub.status.busy": "2025-07-30T01:13:12.558824Z",
     "iopub.status.idle": "2025-07-30T01:13:12.587946Z",
     "shell.execute_reply": "2025-07-30T01:13:12.587297Z"
    },
    "papermill": {
     "duration": 0.039378,
     "end_time": "2025-07-30T01:13:12.588967",
     "exception": false,
     "start_time": "2025-07-30T01:13:12.549589",
     "status": "completed"
    },
    "tags": []
   },
   "outputs": [
    {
     "name": "stdout",
     "output_type": "stream",
     "text": [
      "                  MissingCount  MissingPercentage\n",
      "RecordID                     0               0.00\n",
      "Offense                      0               0.00\n",
      "IncidentID                   0               0.00\n",
      "BlockNumber                  0               0.00\n",
      "StreetName                   0               0.00\n",
      "Agency                       0               0.00\n",
      "HourReported                 0               0.00\n",
      "ReportingOfficer            17               0.07\n",
      "Date                         0               0.00\n",
      "DateString                   0               0.00\n",
      "DayOfWeek                    0               0.00\n",
      "Weekend                      0               0.00\n",
      "Season                       0               0.00\n",
      "HourAMPM                     0               0.00\n",
      "TimeOfDay                    0               0.00\n",
      "FullStreet                   0               0.00\n",
      "lat                         76               0.30\n",
      "lon                         76               0.30\n",
      "neighborhood                 0               0.00\n",
      "zip                          0               0.00\n"
     ]
    }
   ],
   "source": [
    "missing_info = missing_percentage(df)\n",
    "print(missing_info)\n"
   ]
  },
  {
   "cell_type": "code",
   "execution_count": 13,
   "id": "03928298",
   "metadata": {
    "execution": {
     "iopub.execute_input": "2025-07-30T01:13:12.607141Z",
     "iopub.status.busy": "2025-07-30T01:13:12.606925Z",
     "iopub.status.idle": "2025-07-30T01:13:12.634729Z",
     "shell.execute_reply": "2025-07-30T01:13:12.634190Z"
    },
    "papermill": {
     "duration": 0.038003,
     "end_time": "2025-07-30T01:13:12.635722",
     "exception": false,
     "start_time": "2025-07-30T01:13:12.597719",
     "status": "completed"
    },
    "tags": []
   },
   "outputs": [
    {
     "name": "stdout",
     "output_type": "stream",
     "text": [
      "<class 'pandas.core.frame.DataFrame'>\n",
      "RangeIndex: 25601 entries, 0 to 25600\n",
      "Data columns (total 20 columns):\n",
      " #   Column            Non-Null Count  Dtype         \n",
      "---  ------            --------------  -----         \n",
      " 0   RecordID          25601 non-null  int64         \n",
      " 1   Offense           25601 non-null  object        \n",
      " 2   IncidentID        25601 non-null  object        \n",
      " 3   BlockNumber       25601 non-null  object        \n",
      " 4   StreetName        25601 non-null  object        \n",
      " 5   Agency            25601 non-null  object        \n",
      " 6   HourReported      25601 non-null  object        \n",
      " 7   ReportingOfficer  25584 non-null  object        \n",
      " 8   Date              25601 non-null  datetime64[ns]\n",
      " 9   DateString        25601 non-null  object        \n",
      " 10  DayOfWeek         25601 non-null  object        \n",
      " 11  Weekend           25601 non-null  bool          \n",
      " 12  Season            25601 non-null  object        \n",
      " 13  HourAMPM          25601 non-null  object        \n",
      " 14  TimeOfDay         25601 non-null  object        \n",
      " 15  FullStreet        25601 non-null  object        \n",
      " 16  lat               25525 non-null  float64       \n",
      " 17  lon               25525 non-null  float64       \n",
      " 18  neighborhood      25601 non-null  object        \n",
      " 19  zip               25601 non-null  object        \n",
      "dtypes: bool(1), datetime64[ns](1), float64(2), int64(1), object(15)\n",
      "memory usage: 3.7+ MB\n"
     ]
    }
   ],
   "source": [
    "df.info()"
   ]
  },
  {
   "cell_type": "code",
   "execution_count": 14,
   "id": "852e5a91",
   "metadata": {
    "execution": {
     "iopub.execute_input": "2025-07-30T01:13:12.654203Z",
     "iopub.status.busy": "2025-07-30T01:13:12.653987Z",
     "iopub.status.idle": "2025-07-30T01:13:12.696215Z",
     "shell.execute_reply": "2025-07-30T01:13:12.695593Z"
    },
    "papermill": {
     "duration": 0.052596,
     "end_time": "2025-07-30T01:13:12.697293",
     "exception": false,
     "start_time": "2025-07-30T01:13:12.644697",
     "status": "completed"
    },
    "tags": []
   },
   "outputs": [
    {
     "data": {
      "text/html": [
       "<div>\n",
       "<style scoped>\n",
       "    .dataframe tbody tr th:only-of-type {\n",
       "        vertical-align: middle;\n",
       "    }\n",
       "\n",
       "    .dataframe tbody tr th {\n",
       "        vertical-align: top;\n",
       "    }\n",
       "\n",
       "    .dataframe thead th {\n",
       "        text-align: right;\n",
       "    }\n",
       "</style>\n",
       "<table border=\"1\" class=\"dataframe\">\n",
       "  <thead>\n",
       "    <tr style=\"text-align: right;\">\n",
       "      <th></th>\n",
       "      <th>RecordID</th>\n",
       "      <th>Offense</th>\n",
       "      <th>IncidentID</th>\n",
       "      <th>Agency</th>\n",
       "      <th>ReportingOfficer</th>\n",
       "      <th>Date</th>\n",
       "      <th>DayOfWeek</th>\n",
       "      <th>Weekend</th>\n",
       "      <th>Season</th>\n",
       "      <th>TimeOfDay</th>\n",
       "      <th>FullStreet</th>\n",
       "      <th>lat</th>\n",
       "      <th>lon</th>\n",
       "      <th>neighborhood</th>\n",
       "      <th>zip</th>\n",
       "    </tr>\n",
       "  </thead>\n",
       "  <tbody>\n",
       "    <tr>\n",
       "      <th>0</th>\n",
       "      <td>1</td>\n",
       "      <td>Stolen Property Offenses</td>\n",
       "      <td>202500026519</td>\n",
       "      <td>CPD</td>\n",
       "      <td>Benbow, Lauren</td>\n",
       "      <td>2025-07-27 17:51:44</td>\n",
       "      <td>Sunday</td>\n",
       "      <td>True</td>\n",
       "      <td>Summer</td>\n",
       "      <td>Evening</td>\n",
       "      <td>200 E JEFFERSON ST</td>\n",
       "      <td>38.03207</td>\n",
       "      <td>-78.480087</td>\n",
       "      <td>North Downtown</td>\n",
       "      <td>22902</td>\n",
       "    </tr>\n",
       "    <tr>\n",
       "      <th>1</th>\n",
       "      <td>2</td>\n",
       "      <td>Assault Aggravated</td>\n",
       "      <td>202500026498</td>\n",
       "      <td>CPD</td>\n",
       "      <td>Curry, Brian</td>\n",
       "      <td>2025-07-27 15:19:52</td>\n",
       "      <td>Sunday</td>\n",
       "      <td>True</td>\n",
       "      <td>Summer</td>\n",
       "      <td>Afternoon</td>\n",
       "      <td>1100 SEMINOLE</td>\n",
       "      <td>38.066209</td>\n",
       "      <td>-78.488046</td>\n",
       "      <td>The Meadows</td>\n",
       "      <td>22901</td>\n",
       "    </tr>\n",
       "    <tr>\n",
       "      <th>2</th>\n",
       "      <td>3</td>\n",
       "      <td>Assault Simple</td>\n",
       "      <td>202500026497</td>\n",
       "      <td>CPD</td>\n",
       "      <td>Schwartz, Honora</td>\n",
       "      <td>2025-07-27 15:06:19</td>\n",
       "      <td>Sunday</td>\n",
       "      <td>True</td>\n",
       "      <td>Summer</td>\n",
       "      <td>Afternoon</td>\n",
       "      <td>700 STONEHENGE AVE</td>\n",
       "      <td>38.018659</td>\n",
       "      <td>-78.482357</td>\n",
       "      <td>Belmont</td>\n",
       "      <td>22903</td>\n",
       "    </tr>\n",
       "    <tr>\n",
       "      <th>3</th>\n",
       "      <td>4</td>\n",
       "      <td>Assault Simple</td>\n",
       "      <td>202500026495</td>\n",
       "      <td>CPD</td>\n",
       "      <td>Mian, Ghulam</td>\n",
       "      <td>2025-07-27 14:37:44</td>\n",
       "      <td>Sunday</td>\n",
       "      <td>True</td>\n",
       "      <td>Summer</td>\n",
       "      <td>Afternoon</td>\n",
       "      <td>2000 MICHIE DR</td>\n",
       "      <td>38.058636</td>\n",
       "      <td>-78.488213</td>\n",
       "      <td>The Meadows</td>\n",
       "      <td>22901</td>\n",
       "    </tr>\n",
       "    <tr>\n",
       "      <th>4</th>\n",
       "      <td>5</td>\n",
       "      <td>Burglary</td>\n",
       "      <td>202500026491</td>\n",
       "      <td>CPD</td>\n",
       "      <td>O'Briant, Landon</td>\n",
       "      <td>2025-07-27 14:15:29</td>\n",
       "      <td>Sunday</td>\n",
       "      <td>True</td>\n",
       "      <td>Summer</td>\n",
       "      <td>Afternoon</td>\n",
       "      <td>100 ELLIEWOOD AVE</td>\n",
       "      <td>38.036309</td>\n",
       "      <td>-78.500571</td>\n",
       "      <td>Venable</td>\n",
       "      <td>22903</td>\n",
       "    </tr>\n",
       "  </tbody>\n",
       "</table>\n",
       "</div>"
      ],
      "text/plain": [
       "   RecordID                   Offense    IncidentID Agency  ReportingOfficer  \\\n",
       "0         1  Stolen Property Offenses  202500026519    CPD    Benbow, Lauren   \n",
       "1         2        Assault Aggravated  202500026498    CPD      Curry, Brian   \n",
       "2         3            Assault Simple  202500026497    CPD  Schwartz, Honora   \n",
       "3         4            Assault Simple  202500026495    CPD      Mian, Ghulam   \n",
       "4         5                  Burglary  202500026491    CPD  O'Briant, Landon   \n",
       "\n",
       "                 Date DayOfWeek  Weekend  Season  TimeOfDay  \\\n",
       "0 2025-07-27 17:51:44    Sunday     True  Summer    Evening   \n",
       "1 2025-07-27 15:19:52    Sunday     True  Summer  Afternoon   \n",
       "2 2025-07-27 15:06:19    Sunday     True  Summer  Afternoon   \n",
       "3 2025-07-27 14:37:44    Sunday     True  Summer  Afternoon   \n",
       "4 2025-07-27 14:15:29    Sunday     True  Summer  Afternoon   \n",
       "\n",
       "           FullStreet        lat        lon    neighborhood    zip  \n",
       "0  200 E JEFFERSON ST   38.03207 -78.480087  North Downtown  22902  \n",
       "1       1100 SEMINOLE  38.066209 -78.488046     The Meadows  22901  \n",
       "2  700 STONEHENGE AVE  38.018659 -78.482357         Belmont  22903  \n",
       "3      2000 MICHIE DR  38.058636 -78.488213     The Meadows  22901  \n",
       "4   100 ELLIEWOOD AVE  38.036309 -78.500571         Venable  22903  "
      ]
     },
     "execution_count": 14,
     "metadata": {},
     "output_type": "execute_result"
    }
   ],
   "source": [
    "# Now drop the original BlockNumber and StreetName columns\n",
    "df.drop(columns=['BlockNumber', 'StreetName','HourAMPM','HourReported','DateString'], inplace=True)\n",
    "df[\"zip\"] = df[\"zip\"].astype(str)\n",
    "\n",
    "# Fill all missing values in the DataFrame with \"N/A\"\n",
    "df.replace({None: \"N/A\", np.nan: \"N/A\", \"\": \"N/A\"}, inplace=True)\n",
    "df.head()"
   ]
  },
  {
   "cell_type": "code",
   "execution_count": 15,
   "id": "99dd4788",
   "metadata": {
    "execution": {
     "iopub.execute_input": "2025-07-30T01:13:12.716667Z",
     "iopub.status.busy": "2025-07-30T01:13:12.716440Z",
     "iopub.status.idle": "2025-07-30T01:13:12.732245Z",
     "shell.execute_reply": "2025-07-30T01:13:12.731678Z"
    },
    "papermill": {
     "duration": 0.026534,
     "end_time": "2025-07-30T01:13:12.733251",
     "exception": false,
     "start_time": "2025-07-30T01:13:12.706717",
     "status": "completed"
    },
    "tags": []
   },
   "outputs": [
    {
     "name": "stdout",
     "output_type": "stream",
     "text": [
      "                  MissingCount  MissingPercentage\n",
      "RecordID                     0                0.0\n",
      "Offense                      0                0.0\n",
      "IncidentID                   0                0.0\n",
      "Agency                       0                0.0\n",
      "ReportingOfficer             0                0.0\n",
      "Date                         0                0.0\n",
      "DayOfWeek                    0                0.0\n",
      "Weekend                      0                0.0\n",
      "Season                       0                0.0\n",
      "TimeOfDay                    0                0.0\n",
      "FullStreet                   0                0.0\n",
      "lat                          0                0.0\n",
      "lon                          0                0.0\n",
      "neighborhood                 0                0.0\n",
      "zip                          0                0.0\n"
     ]
    }
   ],
   "source": [
    "missing_info = missing_percentage(df)\n",
    "print(missing_info)"
   ]
  },
  {
   "cell_type": "code",
   "execution_count": 16,
   "id": "f2f71305",
   "metadata": {
    "execution": {
     "iopub.execute_input": "2025-07-30T01:13:12.752201Z",
     "iopub.status.busy": "2025-07-30T01:13:12.751948Z",
     "iopub.status.idle": "2025-07-30T01:13:12.756235Z",
     "shell.execute_reply": "2025-07-30T01:13:12.755683Z"
    },
    "papermill": {
     "duration": 0.014708,
     "end_time": "2025-07-30T01:13:12.757191",
     "exception": false,
     "start_time": "2025-07-30T01:13:12.742483",
     "status": "completed"
    },
    "tags": []
   },
   "outputs": [
    {
     "data": {
      "text/plain": [
       "Index(['RecordID', 'Offense', 'IncidentID', 'Agency', 'ReportingOfficer',\n",
       "       'Date', 'DayOfWeek', 'Weekend', 'Season', 'TimeOfDay', 'FullStreet',\n",
       "       'lat', 'lon', 'neighborhood', 'zip'],\n",
       "      dtype='object')"
      ]
     },
     "execution_count": 16,
     "metadata": {},
     "output_type": "execute_result"
    }
   ],
   "source": [
    "df.columns"
   ]
  },
  {
   "cell_type": "code",
   "execution_count": 17,
   "id": "a5dd6838",
   "metadata": {
    "execution": {
     "iopub.execute_input": "2025-07-30T01:13:12.776095Z",
     "iopub.status.busy": "2025-07-30T01:13:12.775878Z",
     "iopub.status.idle": "2025-07-30T01:13:12.796469Z",
     "shell.execute_reply": "2025-07-30T01:13:12.795835Z"
    },
    "papermill": {
     "duration": 0.031174,
     "end_time": "2025-07-30T01:13:12.797463",
     "exception": false,
     "start_time": "2025-07-30T01:13:12.766289",
     "status": "completed"
    },
    "tags": []
   },
   "outputs": [
    {
     "name": "stdout",
     "output_type": "stream",
     "text": [
      "<class 'pandas.core.frame.DataFrame'>\n",
      "RangeIndex: 25601 entries, 0 to 25600\n",
      "Data columns (total 15 columns):\n",
      " #   Column            Non-Null Count  Dtype         \n",
      "---  ------            --------------  -----         \n",
      " 0   RecordID          25601 non-null  int64         \n",
      " 1   Offense           25601 non-null  object        \n",
      " 2   IncidentID        25601 non-null  object        \n",
      " 3   Agency            25601 non-null  object        \n",
      " 4   ReportingOfficer  25601 non-null  object        \n",
      " 5   Date              25601 non-null  datetime64[ns]\n",
      " 6   DayOfWeek         25601 non-null  object        \n",
      " 7   Weekend           25601 non-null  bool          \n",
      " 8   Season            25601 non-null  object        \n",
      " 9   TimeOfDay         25601 non-null  object        \n",
      " 10  FullStreet        25601 non-null  object        \n",
      " 11  lat               25601 non-null  object        \n",
      " 12  lon               25601 non-null  object        \n",
      " 13  neighborhood      25601 non-null  object        \n",
      " 14  zip               25601 non-null  object        \n",
      "dtypes: bool(1), datetime64[ns](1), int64(1), object(12)\n",
      "memory usage: 2.8+ MB\n"
     ]
    }
   ],
   "source": [
    "df.info()"
   ]
  },
  {
   "cell_type": "markdown",
   "id": "df701b79",
   "metadata": {
    "papermill": {
     "duration": 0.009088,
     "end_time": "2025-07-30T01:13:12.815888",
     "exception": false,
     "start_time": "2025-07-30T01:13:12.806800",
     "status": "completed"
    },
    "tags": []
   },
   "source": [
    "### Export Clean Data"
   ]
  },
  {
   "cell_type": "code",
   "execution_count": 18,
   "id": "9001544e",
   "metadata": {
    "execution": {
     "iopub.execute_input": "2025-07-30T01:13:12.834984Z",
     "iopub.status.busy": "2025-07-30T01:13:12.834802Z",
     "iopub.status.idle": "2025-07-30T01:13:22.026588Z",
     "shell.execute_reply": "2025-07-30T01:13:22.025913Z"
    },
    "papermill": {
     "duration": 9.202616,
     "end_time": "2025-07-30T01:13:22.027650",
     "exception": false,
     "start_time": "2025-07-30T01:13:12.825034",
     "status": "completed"
    },
    "tags": []
   },
   "outputs": [
    {
     "name": "stdout",
     "output_type": "stream",
     "text": [
      "Project Root: /home/runner/work/crime-data/crime-data\n"
     ]
    },
    {
     "name": "stdout",
     "output_type": "stream",
     "text": [
      "Data saved to: /home/runner/work/crime-data/crime-data/data/charlottesville_crime_incidents.csv\n"
     ]
    },
    {
     "name": "stdout",
     "output_type": "stream",
     "text": [
      "Excel saved to: /home/runner/work/crime-data/crime-data/data/charlottesville_crime_incidents.xlsx\n"
     ]
    }
   ],
   "source": [
    "# Determine the project root (assuming papermill is run from the repository root)\n",
    "project_root = os.getcwd()\n",
    "print(\"Project Root:\", project_root)\n",
    "\n",
    "# Set the data directory within the project root\n",
    "data_dir = os.path.join(project_root, \"data\")\n",
    "\n",
    "# Ensure the \"data\" directory exists (create it if it doesn't)\n",
    "if not os.path.exists(data_dir):\n",
    "    os.makedirs(data_dir)\n",
    "\n",
    "# Export the DataFrame to CSV in the \"data\" folder located in the project root\n",
    "csv_path = os.path.join(data_dir, \"charlottesville_crime_incidents.csv\")\n",
    "df.to_csv(csv_path, index=False)\n",
    "print(\"Data saved to:\", csv_path)\n",
    "\n",
    "# Construct the path to your Excel file\n",
    "excel_path = os.path.join(data_dir, \"charlottesville_crime_incidents.xlsx\")\n",
    "\n",
    "# Export the DataFrame to Excel\n",
    "df.to_excel(excel_path, index=False)\n",
    "print(\"Excel saved to:\", excel_path)\n"
   ]
  }
 ],
 "metadata": {
  "kernelspec": {
   "display_name": "Python 3",
   "language": "python",
   "name": "python3"
  },
  "language_info": {
   "codemirror_mode": {
    "name": "ipython",
    "version": 3
   },
   "file_extension": ".py",
   "mimetype": "text/x-python",
   "name": "python",
   "nbconvert_exporter": "python",
   "pygments_lexer": "ipython3",
   "version": "3.9.23"
  },
  "papermill": {
   "default_parameters": {},
   "duration": 159.178172,
   "end_time": "2025-07-30T01:13:22.454146",
   "environment_variables": {},
   "exception": null,
   "input_path": "notebook/Crime Data.ipynb",
   "output_path": "notebook/Crime Data_output.ipynb",
   "parameters": {},
   "start_time": "2025-07-30T01:10:43.275974",
   "version": "2.6.0"
  }
 },
 "nbformat": 4,
 "nbformat_minor": 5
}