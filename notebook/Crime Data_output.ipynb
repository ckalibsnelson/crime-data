{
 "cells": [
  {
   "cell_type": "markdown",
   "id": "0f60d2b7",
   "metadata": {
    "papermill": {
     "duration": 0.006335,
     "end_time": "2025-04-16T01:00:44.535573",
     "exception": false,
     "start_time": "2025-04-16T01:00:44.529238",
     "status": "completed"
    },
    "tags": []
   },
   "source": [
    "# Charlottesville Open Data Porttal: Crime Data"
   ]
  },
  {
   "cell_type": "markdown",
   "id": "ce122969",
   "metadata": {
    "papermill": {
     "duration": 0.005234,
     "end_time": "2025-04-16T01:00:44.546409",
     "exception": false,
     "start_time": "2025-04-16T01:00:44.541175",
     "status": "completed"
    },
    "tags": []
   },
   "source": [
    "## Import Relevant Librarires & Set WD"
   ]
  },
  {
   "cell_type": "code",
   "execution_count": 1,
   "id": "29a9666d",
   "metadata": {
    "execution": {
     "iopub.execute_input": "2025-04-16T01:00:44.558200Z",
     "iopub.status.busy": "2025-04-16T01:00:44.557894Z",
     "iopub.status.idle": "2025-04-16T01:00:45.269715Z",
     "shell.execute_reply": "2025-04-16T01:00:45.269068Z"
    },
    "papermill": {
     "duration": 0.719428,
     "end_time": "2025-04-16T01:00:45.271076",
     "exception": false,
     "start_time": "2025-04-16T01:00:44.551648",
     "status": "completed"
    },
    "tags": []
   },
   "outputs": [],
   "source": [
    "import requests\n",
    "import pandas as pd\n",
    "import numpy as np\n",
    "import pickle\n",
    "import googlemaps\n",
    "import plotly.express as px\n",
    "from geopy.geocoders import Nominatim\n",
    "import time\n",
    "from dotenv import load_dotenv\n",
    "import os\n",
    "\n",
    "env_path = os.path.join(\"..\", \".env\")\n",
    "#print(\"Looking for .env file at:\", os.path.abspath(env_path))\n",
    "load_dotenv(dotenv_path=env_path)\n",
    "\n",
    "# Retrieve the variables\n",
    "GOOGLE_API_KEY = os.getenv(\"GOOGLE_API_KEY\")\n",
    "WORKING_DIR = os.getenv(\"WORKING_DIR\")\n",
    "\n",
    "if GOOGLE_API_KEY is None or WORKING_DIR is None:\n",
    "    raise RuntimeError(\"No configuration found. Please ensure that your .env file exists with the required variables, or create a local config.py file.\")\n",
    "\n",
    "#print(\"Google API Key:\", GOOGLE_API_KEY)\n",
    "#print(\"Working Directory:\", WORKING_DIR)"
   ]
  },
  {
   "cell_type": "markdown",
   "id": "36cc0825",
   "metadata": {
    "papermill": {
     "duration": 0.005015,
     "end_time": "2025-04-16T01:00:45.281660",
     "exception": false,
     "start_time": "2025-04-16T01:00:45.276645",
     "status": "completed"
    },
    "tags": []
   },
   "source": [
    "## Import Data\n",
    "\n",
    "URL: https://opendata.charlottesville.org/datasets/charlottesville::crime-data/about"
   ]
  },
  {
   "cell_type": "code",
   "execution_count": 2,
   "id": "a7d0bd5c",
   "metadata": {
    "execution": {
     "iopub.execute_input": "2025-04-16T01:00:45.293340Z",
     "iopub.status.busy": "2025-04-16T01:00:45.292773Z",
     "iopub.status.idle": "2025-04-16T01:01:43.684358Z",
     "shell.execute_reply": "2025-04-16T01:01:43.683649Z"
    },
    "papermill": {
     "duration": 58.403203,
     "end_time": "2025-04-16T01:01:43.689983",
     "exception": false,
     "start_time": "2025-04-16T01:00:45.286780",
     "status": "completed"
    },
    "tags": []
   },
   "outputs": [
    {
     "name": "stdout",
     "output_type": "stream",
     "text": [
      "Total records imported: 25179\n"
     ]
    }
   ],
   "source": [
    "# Define the endpoint and initial parameters.\n",
    "url = \"https://gisweb.charlottesville.org/arcgis/rest/services/OpenData_2/MapServer/6/query\"\n",
    "params = {\n",
    "    \"where\": \"1=1\",\n",
    "    \"outFields\": \"*\",\n",
    "    \"outSR\": 4326,\n",
    "    \"f\": \"json\",\n",
    "    \"resultOffset\": 0,       # Starting index for results\n",
    "    \"resultRecordCount\": 10000  # Maximum records per batch (if allowed by the API)\n",
    "}\n",
    "\n",
    "records = []\n",
    "\n",
    "while True:\n",
    "    response = requests.get(url, params=params)\n",
    "    response.raise_for_status()\n",
    "    data = response.json()\n",
    "    \n",
    "    # Get the current batch of features.\n",
    "    features = data.get(\"features\", [])\n",
    "    if not features:\n",
    "        break\n",
    "\n",
    "    # Extract the attributes from the features.\n",
    "    batch_records = [feature.get(\"attributes\", {}) for feature in features]\n",
    "    records.extend(batch_records)\n",
    "    \n",
    "    # If the batch size is less than the requested count, we reached the end.\n",
    "    if len(features) < params[\"resultRecordCount\"]:\n",
    "        break\n",
    "\n",
    "    # Update the resultOffset for the next batch.\n",
    "    params[\"resultOffset\"] += params[\"resultRecordCount\"]\n",
    "\n",
    "# Create a DataFrame from the combined records.\n",
    "df = pd.DataFrame(records)\n",
    "print(\"Total records imported:\", len(df))\n"
   ]
  },
  {
   "cell_type": "code",
   "execution_count": 3,
   "id": "b62f7afe",
   "metadata": {
    "execution": {
     "iopub.execute_input": "2025-04-16T01:01:43.702137Z",
     "iopub.status.busy": "2025-04-16T01:01:43.701903Z",
     "iopub.status.idle": "2025-04-16T01:01:43.713954Z",
     "shell.execute_reply": "2025-04-16T01:01:43.713414Z"
    },
    "papermill": {
     "duration": 0.019573,
     "end_time": "2025-04-16T01:01:43.714878",
     "exception": false,
     "start_time": "2025-04-16T01:01:43.695305",
     "status": "completed"
    },
    "tags": []
   },
   "outputs": [
    {
     "data": {
      "text/html": [
       "<div>\n",
       "<style scoped>\n",
       "    .dataframe tbody tr th:only-of-type {\n",
       "        vertical-align: middle;\n",
       "    }\n",
       "\n",
       "    .dataframe tbody tr th {\n",
       "        vertical-align: top;\n",
       "    }\n",
       "\n",
       "    .dataframe thead th {\n",
       "        text-align: right;\n",
       "    }\n",
       "</style>\n",
       "<table border=\"1\" class=\"dataframe\">\n",
       "  <thead>\n",
       "    <tr style=\"text-align: right;\">\n",
       "      <th></th>\n",
       "      <th>RecordID</th>\n",
       "      <th>Offense</th>\n",
       "      <th>IncidentID</th>\n",
       "      <th>BlockNumber</th>\n",
       "      <th>StreetName</th>\n",
       "      <th>Agency</th>\n",
       "      <th>DateReported</th>\n",
       "      <th>HourReported</th>\n",
       "      <th>ReportingOfficer</th>\n",
       "    </tr>\n",
       "  </thead>\n",
       "  <tbody>\n",
       "    <tr>\n",
       "      <th>0</th>\n",
       "      <td>1</td>\n",
       "      <td>Motor Vehicle Theft</td>\n",
       "      <td>202500011887</td>\n",
       "      <td>100</td>\n",
       "      <td>RIDGE ST, 322</td>\n",
       "      <td>CPD</td>\n",
       "      <td>1744594007000</td>\n",
       "      <td>2126</td>\n",
       "      <td>Crowley, Raeann</td>\n",
       "    </tr>\n",
       "    <tr>\n",
       "      <th>1</th>\n",
       "      <td>2</td>\n",
       "      <td>Assist Agency - Backup/Assist</td>\n",
       "      <td>202500011876</td>\n",
       "      <td>1600</td>\n",
       "      <td>EMMET ST N, 335</td>\n",
       "      <td>CPD</td>\n",
       "      <td>1744585810000</td>\n",
       "      <td>1910</td>\n",
       "      <td>Bland, Johnnà</td>\n",
       "    </tr>\n",
       "    <tr>\n",
       "      <th>2</th>\n",
       "      <td>3</td>\n",
       "      <td>Domestic Disturbance</td>\n",
       "      <td>202500011872</td>\n",
       "      <td>100</td>\n",
       "      <td>CARLTON RD, A</td>\n",
       "      <td>CPD</td>\n",
       "      <td>1744581821000</td>\n",
       "      <td>1803</td>\n",
       "      <td>Hannay, Jacob</td>\n",
       "    </tr>\n",
       "    <tr>\n",
       "      <th>3</th>\n",
       "      <td>4</td>\n",
       "      <td>Drunkeness DIP</td>\n",
       "      <td>202500011868</td>\n",
       "      <td>600</td>\n",
       "      <td>E MARKET ST</td>\n",
       "      <td>CPD</td>\n",
       "      <td>1744579614000</td>\n",
       "      <td>1726</td>\n",
       "      <td>Benbow, Lauren</td>\n",
       "    </tr>\n",
       "    <tr>\n",
       "      <th>4</th>\n",
       "      <td>5</td>\n",
       "      <td>Larceny - All Other</td>\n",
       "      <td>202500011866</td>\n",
       "      <td>300</td>\n",
       "      <td>E MAIN ST, 100</td>\n",
       "      <td>CPD</td>\n",
       "      <td>1744579259000</td>\n",
       "      <td>1720</td>\n",
       "      <td>Benbow, Lauren</td>\n",
       "    </tr>\n",
       "  </tbody>\n",
       "</table>\n",
       "</div>"
      ],
      "text/plain": [
       "   RecordID                        Offense    IncidentID BlockNumber  \\\n",
       "0         1            Motor Vehicle Theft  202500011887         100   \n",
       "1         2  Assist Agency - Backup/Assist  202500011876        1600   \n",
       "2         3           Domestic Disturbance  202500011872         100   \n",
       "3         4                 Drunkeness DIP  202500011868         600   \n",
       "4         5            Larceny - All Other  202500011866         300   \n",
       "\n",
       "        StreetName Agency   DateReported HourReported ReportingOfficer  \n",
       "0    RIDGE ST, 322    CPD  1744594007000         2126  Crowley, Raeann  \n",
       "1  EMMET ST N, 335    CPD  1744585810000         1910    Bland, Johnnà  \n",
       "2    CARLTON RD, A    CPD  1744581821000         1803    Hannay, Jacob  \n",
       "3      E MARKET ST    CPD  1744579614000         1726   Benbow, Lauren  \n",
       "4   E MAIN ST, 100    CPD  1744579259000         1720   Benbow, Lauren  "
      ]
     },
     "execution_count": 3,
     "metadata": {},
     "output_type": "execute_result"
    }
   ],
   "source": [
    "df.head()"
   ]
  },
  {
   "cell_type": "code",
   "execution_count": 4,
   "id": "338bb674",
   "metadata": {
    "execution": {
     "iopub.execute_input": "2025-04-16T01:01:43.726480Z",
     "iopub.status.busy": "2025-04-16T01:01:43.726245Z",
     "iopub.status.idle": "2025-04-16T01:01:43.730523Z",
     "shell.execute_reply": "2025-04-16T01:01:43.729972Z"
    },
    "papermill": {
     "duration": 0.011309,
     "end_time": "2025-04-16T01:01:43.731543",
     "exception": false,
     "start_time": "2025-04-16T01:01:43.720234",
     "status": "completed"
    },
    "tags": []
   },
   "outputs": [
    {
     "data": {
      "text/plain": [
       "Index(['RecordID', 'Offense', 'IncidentID', 'BlockNumber', 'StreetName',\n",
       "       'Agency', 'DateReported', 'HourReported', 'ReportingOfficer'],\n",
       "      dtype='object')"
      ]
     },
     "execution_count": 4,
     "metadata": {},
     "output_type": "execute_result"
    }
   ],
   "source": [
    "df.columns"
   ]
  },
  {
   "cell_type": "code",
   "execution_count": 5,
   "id": "fc4f0b13",
   "metadata": {
    "execution": {
     "iopub.execute_input": "2025-04-16T01:01:43.743384Z",
     "iopub.status.busy": "2025-04-16T01:01:43.742970Z",
     "iopub.status.idle": "2025-04-16T01:01:43.764831Z",
     "shell.execute_reply": "2025-04-16T01:01:43.764292Z"
    },
    "papermill": {
     "duration": 0.028796,
     "end_time": "2025-04-16T01:01:43.765762",
     "exception": false,
     "start_time": "2025-04-16T01:01:43.736966",
     "status": "completed"
    },
    "tags": []
   },
   "outputs": [
    {
     "name": "stdout",
     "output_type": "stream",
     "text": [
      "<class 'pandas.core.frame.DataFrame'>\n",
      "RangeIndex: 25179 entries, 0 to 25178\n",
      "Data columns (total 9 columns):\n",
      " #   Column            Non-Null Count  Dtype \n",
      "---  ------            --------------  ----- \n",
      " 0   RecordID          25179 non-null  int64 \n",
      " 1   Offense           25179 non-null  object\n",
      " 2   IncidentID        25179 non-null  object\n",
      " 3   BlockNumber       25179 non-null  object\n",
      " 4   StreetName        25179 non-null  object\n",
      " 5   Agency            25179 non-null  object\n",
      " 6   DateReported      25179 non-null  int64 \n",
      " 7   HourReported      25179 non-null  object\n",
      " 8   ReportingOfficer  25162 non-null  object\n",
      "dtypes: int64(2), object(7)\n",
      "memory usage: 1.7+ MB\n"
     ]
    }
   ],
   "source": [
    "df.info()"
   ]
  },
  {
   "cell_type": "markdown",
   "id": "cee0aebd",
   "metadata": {
    "papermill": {
     "duration": 0.005496,
     "end_time": "2025-04-16T01:01:43.776907",
     "exception": false,
     "start_time": "2025-04-16T01:01:43.771411",
     "status": "completed"
    },
    "tags": []
   },
   "source": [
    "### Missing Values"
   ]
  },
  {
   "cell_type": "code",
   "execution_count": 6,
   "id": "20e6e8e5",
   "metadata": {
    "execution": {
     "iopub.execute_input": "2025-04-16T01:01:43.788975Z",
     "iopub.status.busy": "2025-04-16T01:01:43.788597Z",
     "iopub.status.idle": "2025-04-16T01:01:43.810808Z",
     "shell.execute_reply": "2025-04-16T01:01:43.810136Z"
    },
    "papermill": {
     "duration": 0.029381,
     "end_time": "2025-04-16T01:01:43.811798",
     "exception": false,
     "start_time": "2025-04-16T01:01:43.782417",
     "status": "completed"
    },
    "tags": []
   },
   "outputs": [
    {
     "name": "stdout",
     "output_type": "stream",
     "text": [
      "                  MissingCount  MissingPercentage\n",
      "RecordID                     0               0.00\n",
      "Offense                      0               0.00\n",
      "IncidentID                   0               0.00\n",
      "BlockNumber                  0               0.00\n",
      "StreetName                   0               0.00\n",
      "Agency                       0               0.00\n",
      "DateReported                 0               0.00\n",
      "HourReported                 0               0.00\n",
      "ReportingOfficer            17               0.07\n"
     ]
    }
   ],
   "source": [
    "def missing_percentage(df):\n",
    "    \"\"\"\n",
    "    Returns a DataFrame with the count and percentage of missing values for each column.\n",
    "    \n",
    "    Parameters:\n",
    "        df (pd.DataFrame): The input DataFrame.\n",
    "    \n",
    "    Returns:\n",
    "        pd.DataFrame: A DataFrame with columns 'MissingCount' and 'MissingPercentage'.\n",
    "    \"\"\"\n",
    "    total_rows = len(df)\n",
    "    missing_count = df.isnull().sum()\n",
    "    missing_percent = (missing_count / total_rows) * 100\n",
    "    \n",
    "    result = pd.DataFrame({\n",
    "        'MissingCount': missing_count,\n",
    "        'MissingPercentage': missing_percent.round(2)\n",
    "    })\n",
    "    \n",
    "    return result\n",
    "\n",
    "# Example usage:\n",
    "missing_info = missing_percentage(df)\n",
    "print(missing_info)\n"
   ]
  },
  {
   "cell_type": "markdown",
   "id": "da382805",
   "metadata": {
    "papermill": {
     "duration": 0.005651,
     "end_time": "2025-04-16T01:01:43.823328",
     "exception": false,
     "start_time": "2025-04-16T01:01:43.817677",
     "status": "completed"
    },
    "tags": []
   },
   "source": [
    "## Data Preparation"
   ]
  },
  {
   "cell_type": "markdown",
   "id": "ba8741cc",
   "metadata": {
    "papermill": {
     "duration": 0.005607,
     "end_time": "2025-04-16T01:01:43.834502",
     "exception": false,
     "start_time": "2025-04-16T01:01:43.828895",
     "status": "completed"
    },
    "tags": []
   },
   "source": [
    "### Data Conversion"
   ]
  },
  {
   "cell_type": "code",
   "execution_count": 7,
   "id": "3a2d42c3",
   "metadata": {
    "execution": {
     "iopub.execute_input": "2025-04-16T01:01:43.846743Z",
     "iopub.status.busy": "2025-04-16T01:01:43.846304Z",
     "iopub.status.idle": "2025-04-16T01:01:44.206759Z",
     "shell.execute_reply": "2025-04-16T01:01:44.206068Z"
    },
    "papermill": {
     "duration": 0.367821,
     "end_time": "2025-04-16T01:01:44.207896",
     "exception": false,
     "start_time": "2025-04-16T01:01:43.840075",
     "status": "completed"
    },
    "tags": []
   },
   "outputs": [
    {
     "data": {
      "text/html": [
       "<div>\n",
       "<style scoped>\n",
       "    .dataframe tbody tr th:only-of-type {\n",
       "        vertical-align: middle;\n",
       "    }\n",
       "\n",
       "    .dataframe tbody tr th {\n",
       "        vertical-align: top;\n",
       "    }\n",
       "\n",
       "    .dataframe thead th {\n",
       "        text-align: right;\n",
       "    }\n",
       "</style>\n",
       "<table border=\"1\" class=\"dataframe\">\n",
       "  <thead>\n",
       "    <tr style=\"text-align: right;\">\n",
       "      <th></th>\n",
       "      <th>RecordID</th>\n",
       "      <th>Offense</th>\n",
       "      <th>IncidentID</th>\n",
       "      <th>BlockNumber</th>\n",
       "      <th>StreetName</th>\n",
       "      <th>Agency</th>\n",
       "      <th>HourReported</th>\n",
       "      <th>ReportingOfficer</th>\n",
       "      <th>Date</th>\n",
       "      <th>DateString</th>\n",
       "      <th>DayOfWeek</th>\n",
       "      <th>Weekend</th>\n",
       "      <th>Season</th>\n",
       "      <th>HourAMPM</th>\n",
       "      <th>TimeOfDay</th>\n",
       "    </tr>\n",
       "  </thead>\n",
       "  <tbody>\n",
       "    <tr>\n",
       "      <th>0</th>\n",
       "      <td>1</td>\n",
       "      <td>Motor Vehicle Theft</td>\n",
       "      <td>202500011887</td>\n",
       "      <td>100</td>\n",
       "      <td>RIDGE ST, 322</td>\n",
       "      <td>CPD</td>\n",
       "      <td>2126</td>\n",
       "      <td>Crowley, Raeann</td>\n",
       "      <td>2025-04-13 21:26:47</td>\n",
       "      <td>2025-04-13 09:26:47 PM</td>\n",
       "      <td>Sunday</td>\n",
       "      <td>True</td>\n",
       "      <td>Spring</td>\n",
       "      <td>09:26 PM</td>\n",
       "      <td>Night</td>\n",
       "    </tr>\n",
       "    <tr>\n",
       "      <th>1</th>\n",
       "      <td>2</td>\n",
       "      <td>Assist Agency - Backup/Assist</td>\n",
       "      <td>202500011876</td>\n",
       "      <td>1600</td>\n",
       "      <td>EMMET ST N, 335</td>\n",
       "      <td>CPD</td>\n",
       "      <td>1910</td>\n",
       "      <td>Bland, Johnnà</td>\n",
       "      <td>2025-04-13 19:10:10</td>\n",
       "      <td>2025-04-13 07:10:10 PM</td>\n",
       "      <td>Sunday</td>\n",
       "      <td>True</td>\n",
       "      <td>Spring</td>\n",
       "      <td>07:10 PM</td>\n",
       "      <td>Evening</td>\n",
       "    </tr>\n",
       "    <tr>\n",
       "      <th>2</th>\n",
       "      <td>3</td>\n",
       "      <td>Domestic Disturbance</td>\n",
       "      <td>202500011872</td>\n",
       "      <td>100</td>\n",
       "      <td>CARLTON RD, A</td>\n",
       "      <td>CPD</td>\n",
       "      <td>1803</td>\n",
       "      <td>Hannay, Jacob</td>\n",
       "      <td>2025-04-13 18:03:41</td>\n",
       "      <td>2025-04-13 06:03:41 PM</td>\n",
       "      <td>Sunday</td>\n",
       "      <td>True</td>\n",
       "      <td>Spring</td>\n",
       "      <td>06:03 PM</td>\n",
       "      <td>Evening</td>\n",
       "    </tr>\n",
       "    <tr>\n",
       "      <th>3</th>\n",
       "      <td>4</td>\n",
       "      <td>Drunkeness DIP</td>\n",
       "      <td>202500011868</td>\n",
       "      <td>600</td>\n",
       "      <td>E MARKET ST</td>\n",
       "      <td>CPD</td>\n",
       "      <td>1726</td>\n",
       "      <td>Benbow, Lauren</td>\n",
       "      <td>2025-04-13 17:26:54</td>\n",
       "      <td>2025-04-13 05:26:54 PM</td>\n",
       "      <td>Sunday</td>\n",
       "      <td>True</td>\n",
       "      <td>Spring</td>\n",
       "      <td>05:26 PM</td>\n",
       "      <td>Evening</td>\n",
       "    </tr>\n",
       "    <tr>\n",
       "      <th>4</th>\n",
       "      <td>5</td>\n",
       "      <td>Larceny - All Other</td>\n",
       "      <td>202500011866</td>\n",
       "      <td>300</td>\n",
       "      <td>E MAIN ST, 100</td>\n",
       "      <td>CPD</td>\n",
       "      <td>1720</td>\n",
       "      <td>Benbow, Lauren</td>\n",
       "      <td>2025-04-13 17:20:59</td>\n",
       "      <td>2025-04-13 05:20:59 PM</td>\n",
       "      <td>Sunday</td>\n",
       "      <td>True</td>\n",
       "      <td>Spring</td>\n",
       "      <td>05:20 PM</td>\n",
       "      <td>Evening</td>\n",
       "    </tr>\n",
       "  </tbody>\n",
       "</table>\n",
       "</div>"
      ],
      "text/plain": [
       "   RecordID                        Offense    IncidentID BlockNumber  \\\n",
       "0         1            Motor Vehicle Theft  202500011887         100   \n",
       "1         2  Assist Agency - Backup/Assist  202500011876        1600   \n",
       "2         3           Domestic Disturbance  202500011872         100   \n",
       "3         4                 Drunkeness DIP  202500011868         600   \n",
       "4         5            Larceny - All Other  202500011866         300   \n",
       "\n",
       "        StreetName Agency HourReported ReportingOfficer                Date  \\\n",
       "0    RIDGE ST, 322    CPD         2126  Crowley, Raeann 2025-04-13 21:26:47   \n",
       "1  EMMET ST N, 335    CPD         1910    Bland, Johnnà 2025-04-13 19:10:10   \n",
       "2    CARLTON RD, A    CPD         1803    Hannay, Jacob 2025-04-13 18:03:41   \n",
       "3      E MARKET ST    CPD         1726   Benbow, Lauren 2025-04-13 17:26:54   \n",
       "4   E MAIN ST, 100    CPD         1720   Benbow, Lauren 2025-04-13 17:20:59   \n",
       "\n",
       "               DateString DayOfWeek  Weekend  Season  HourAMPM TimeOfDay  \n",
       "0  2025-04-13 09:26:47 PM    Sunday     True  Spring  09:26 PM     Night  \n",
       "1  2025-04-13 07:10:10 PM    Sunday     True  Spring  07:10 PM   Evening  \n",
       "2  2025-04-13 06:03:41 PM    Sunday     True  Spring  06:03 PM   Evening  \n",
       "3  2025-04-13 05:26:54 PM    Sunday     True  Spring  05:26 PM   Evening  \n",
       "4  2025-04-13 05:20:59 PM    Sunday     True  Spring  05:20 PM   Evening  "
      ]
     },
     "execution_count": 7,
     "metadata": {},
     "output_type": "execute_result"
    }
   ],
   "source": [
    "def convert_and_categorize_datereported(df, col='DateReported'):\n",
    "    \"\"\"\n",
    "    Converts an epoch (in milliseconds) date column into a timezone-aware datetime,\n",
    "    converts it to Eastern Time, and then creates columns for day-of-week, weekend flag,\n",
    "    season, 12-hour formatted time, and time-of-day. Keeps both a real datetime column\n",
    "    (Date) and a string representation (DateString).\n",
    "    \"\"\"\n",
    "    import pandas as pd\n",
    "\n",
    "    # Convert the epoch timestamp to a pandas datetime object as UTC, then convert to US/Eastern.\n",
    "    df[\"DateReported_dt\"] = (\n",
    "        pd.to_datetime(df[col], unit=\"ms\", errors=\"coerce\", utc=True)\n",
    "        .dt.tz_convert(\"US/Eastern\")\n",
    "    )\n",
    "    \n",
    "    # Create a true datetime column (remove timezone if you prefer naive datetime)\n",
    "    df[\"Date\"] = df[\"DateReported_dt\"].dt.tz_localize(None)\n",
    "\n",
    "    # Optionally, create a separate string-formatted column\n",
    "    df[\"DateString\"] = df[\"DateReported_dt\"].dt.strftime(\"%Y-%m-%d %I:%M:%S %p\")\n",
    "    \n",
    "    # DayOfWeek\n",
    "    df[\"DayOfWeek\"] = df[\"DateReported_dt\"].dt.day_name()\n",
    "    \n",
    "    # Weekend\n",
    "    df[\"Weekend\"] = df[\"DayOfWeek\"].isin([\"Saturday\", \"Sunday\"])\n",
    "    \n",
    "    # Helper function to determine the season\n",
    "    def get_season(dt):\n",
    "        month = dt.month\n",
    "        day = dt.day\n",
    "        # Approximate Northern Hemisphere season boundaries:\n",
    "        if (month == 12 and day >= 21) or (month < 3) or (month == 3 and day < 20):\n",
    "            return \"Winter\"\n",
    "        elif (month == 3 and day >= 20) or (month < 6) or (month == 6 and day < 21):\n",
    "            return \"Spring\"\n",
    "        elif (month == 6 and day >= 21) or (month < 9) or (month == 9 and day < 22):\n",
    "            return \"Summer\"\n",
    "        else:\n",
    "            return \"Autumn\"\n",
    "    \n",
    "    df[\"Season\"] = df[\"DateReported_dt\"].apply(get_season)\n",
    "    \n",
    "    # 12-hour formatted time (HourAMPM)\n",
    "    df[\"HourAMPM\"] = df[\"DateReported_dt\"].dt.strftime(\"%I:%M %p\")\n",
    "    \n",
    "    # Extract hour (0-23) for time-of-day\n",
    "    df[\"HourValue\"] = df[\"DateReported_dt\"].dt.hour\n",
    "    \n",
    "    def time_of_day(hour):\n",
    "        if pd.isnull(hour):\n",
    "            return None\n",
    "        if 5 <= hour < 12:\n",
    "            return \"Morning\"\n",
    "        elif 12 <= hour < 17:\n",
    "            return \"Afternoon\"\n",
    "        elif 17 <= hour < 21:\n",
    "            return \"Evening\"\n",
    "        else:\n",
    "            return \"Night\"\n",
    "    \n",
    "    df[\"TimeOfDay\"] = df[\"HourValue\"].apply(time_of_day)\n",
    "    \n",
    "    # Drop columns you no longer need\n",
    "    df.drop(columns=[col, \"DateReported_dt\", \"HourValue\"], inplace=True)\n",
    "    \n",
    "    return df\n",
    "\n",
    "# Example usage:\n",
    "df = convert_and_categorize_datereported(df)\n",
    "df.head()\n"
   ]
  },
  {
   "cell_type": "code",
   "execution_count": 8,
   "id": "31085854",
   "metadata": {
    "execution": {
     "iopub.execute_input": "2025-04-16T01:01:44.221121Z",
     "iopub.status.busy": "2025-04-16T01:01:44.220711Z",
     "iopub.status.idle": "2025-04-16T01:01:44.246498Z",
     "shell.execute_reply": "2025-04-16T01:01:44.245913Z"
    },
    "papermill": {
     "duration": 0.03332,
     "end_time": "2025-04-16T01:01:44.247530",
     "exception": false,
     "start_time": "2025-04-16T01:01:44.214210",
     "status": "completed"
    },
    "tags": []
   },
   "outputs": [
    {
     "name": "stdout",
     "output_type": "stream",
     "text": [
      "<class 'pandas.core.frame.DataFrame'>\n",
      "RangeIndex: 25179 entries, 0 to 25178\n",
      "Data columns (total 15 columns):\n",
      " #   Column            Non-Null Count  Dtype         \n",
      "---  ------            --------------  -----         \n",
      " 0   RecordID          25179 non-null  int64         \n",
      " 1   Offense           25179 non-null  object        \n",
      " 2   IncidentID        25179 non-null  object        \n",
      " 3   BlockNumber       25179 non-null  object        \n",
      " 4   StreetName        25179 non-null  object        \n",
      " 5   Agency            25179 non-null  object        \n",
      " 6   HourReported      25179 non-null  object        \n",
      " 7   ReportingOfficer  25162 non-null  object        \n",
      " 8   Date              25179 non-null  datetime64[ns]\n",
      " 9   DateString        25179 non-null  object        \n",
      " 10  DayOfWeek         25179 non-null  object        \n",
      " 11  Weekend           25179 non-null  bool          \n",
      " 12  Season            25179 non-null  object        \n",
      " 13  HourAMPM          25179 non-null  object        \n",
      " 14  TimeOfDay         25179 non-null  object        \n",
      "dtypes: bool(1), datetime64[ns](1), int64(1), object(12)\n",
      "memory usage: 2.7+ MB\n"
     ]
    }
   ],
   "source": [
    "df.info()"
   ]
  },
  {
   "cell_type": "markdown",
   "id": "d96567b4",
   "metadata": {
    "papermill": {
     "duration": 0.005857,
     "end_time": "2025-04-16T01:01:44.259366",
     "exception": false,
     "start_time": "2025-04-16T01:01:44.253509",
     "status": "completed"
    },
    "tags": []
   },
   "source": [
    "### Coordinates"
   ]
  },
  {
   "cell_type": "code",
   "execution_count": 9,
   "id": "56130ff0",
   "metadata": {
    "execution": {
     "iopub.execute_input": "2025-04-16T01:01:44.272163Z",
     "iopub.status.busy": "2025-04-16T01:01:44.271678Z",
     "iopub.status.idle": "2025-04-16T01:01:44.940546Z",
     "shell.execute_reply": "2025-04-16T01:01:44.939866Z"
    },
    "papermill": {
     "duration": 0.676489,
     "end_time": "2025-04-16T01:01:44.941674",
     "exception": false,
     "start_time": "2025-04-16T01:01:44.265185",
     "status": "completed"
    },
    "tags": []
   },
   "outputs": [
    {
     "name": "stdout",
     "output_type": "stream",
     "text": [
      "Loaded geocode cache.\n"
     ]
    },
    {
     "name": "stdout",
     "output_type": "stream",
     "text": [
      "Geocoded 100 RIDGE ST, 322: 38.02994839999999, -78.4849425\n"
     ]
    },
    {
     "name": "stdout",
     "output_type": "stream",
     "text": [
      "Geocoded 1600 EMMET ST N, 335: 38.0579473, -78.4939113\n"
     ]
    },
    {
     "name": "stdout",
     "output_type": "stream",
     "text": [
      "Geocoded 1700 ALLIED ST, C: 38.0405711, -78.47791540000001\n"
     ]
    },
    {
     "name": "stdout",
     "output_type": "stream",
     "text": [
      "Geocoded  ALTAVISTA AVE / MONTICELLO AVE: 38.0176174, -78.47563749999999\n",
      "Geocode cache updated and saved.\n"
     ]
    },
    {
     "data": {
      "text/html": [
       "<div>\n",
       "<style scoped>\n",
       "    .dataframe tbody tr th:only-of-type {\n",
       "        vertical-align: middle;\n",
       "    }\n",
       "\n",
       "    .dataframe tbody tr th {\n",
       "        vertical-align: top;\n",
       "    }\n",
       "\n",
       "    .dataframe thead th {\n",
       "        text-align: right;\n",
       "    }\n",
       "</style>\n",
       "<table border=\"1\" class=\"dataframe\">\n",
       "  <thead>\n",
       "    <tr style=\"text-align: right;\">\n",
       "      <th></th>\n",
       "      <th>RecordID</th>\n",
       "      <th>Offense</th>\n",
       "      <th>IncidentID</th>\n",
       "      <th>BlockNumber</th>\n",
       "      <th>StreetName</th>\n",
       "      <th>Agency</th>\n",
       "      <th>HourReported</th>\n",
       "      <th>ReportingOfficer</th>\n",
       "      <th>Date</th>\n",
       "      <th>DateString</th>\n",
       "      <th>DayOfWeek</th>\n",
       "      <th>Weekend</th>\n",
       "      <th>Season</th>\n",
       "      <th>HourAMPM</th>\n",
       "      <th>TimeOfDay</th>\n",
       "      <th>FullStreet</th>\n",
       "      <th>lat</th>\n",
       "      <th>lon</th>\n",
       "    </tr>\n",
       "  </thead>\n",
       "  <tbody>\n",
       "    <tr>\n",
       "      <th>0</th>\n",
       "      <td>1</td>\n",
       "      <td>Motor Vehicle Theft</td>\n",
       "      <td>202500011887</td>\n",
       "      <td>100</td>\n",
       "      <td>RIDGE ST, 322</td>\n",
       "      <td>CPD</td>\n",
       "      <td>2126</td>\n",
       "      <td>Crowley, Raeann</td>\n",
       "      <td>2025-04-13 21:26:47</td>\n",
       "      <td>2025-04-13 09:26:47 PM</td>\n",
       "      <td>Sunday</td>\n",
       "      <td>True</td>\n",
       "      <td>Spring</td>\n",
       "      <td>09:26 PM</td>\n",
       "      <td>Night</td>\n",
       "      <td>100 RIDGE ST, 322</td>\n",
       "      <td>38.029948</td>\n",
       "      <td>-78.484943</td>\n",
       "    </tr>\n",
       "    <tr>\n",
       "      <th>1</th>\n",
       "      <td>2</td>\n",
       "      <td>Assist Agency - Backup/Assist</td>\n",
       "      <td>202500011876</td>\n",
       "      <td>1600</td>\n",
       "      <td>EMMET ST N, 335</td>\n",
       "      <td>CPD</td>\n",
       "      <td>1910</td>\n",
       "      <td>Bland, Johnnà</td>\n",
       "      <td>2025-04-13 19:10:10</td>\n",
       "      <td>2025-04-13 07:10:10 PM</td>\n",
       "      <td>Sunday</td>\n",
       "      <td>True</td>\n",
       "      <td>Spring</td>\n",
       "      <td>07:10 PM</td>\n",
       "      <td>Evening</td>\n",
       "      <td>1600 EMMET ST N, 335</td>\n",
       "      <td>38.057947</td>\n",
       "      <td>-78.493911</td>\n",
       "    </tr>\n",
       "    <tr>\n",
       "      <th>2</th>\n",
       "      <td>3</td>\n",
       "      <td>Domestic Disturbance</td>\n",
       "      <td>202500011872</td>\n",
       "      <td>100</td>\n",
       "      <td>CARLTON RD, A</td>\n",
       "      <td>CPD</td>\n",
       "      <td>1803</td>\n",
       "      <td>Hannay, Jacob</td>\n",
       "      <td>2025-04-13 18:03:41</td>\n",
       "      <td>2025-04-13 06:03:41 PM</td>\n",
       "      <td>Sunday</td>\n",
       "      <td>True</td>\n",
       "      <td>Spring</td>\n",
       "      <td>06:03 PM</td>\n",
       "      <td>Evening</td>\n",
       "      <td>100 CARLTON RD, A</td>\n",
       "      <td>38.026678</td>\n",
       "      <td>-78.468553</td>\n",
       "    </tr>\n",
       "    <tr>\n",
       "      <th>3</th>\n",
       "      <td>4</td>\n",
       "      <td>Drunkeness DIP</td>\n",
       "      <td>202500011868</td>\n",
       "      <td>600</td>\n",
       "      <td>E MARKET ST</td>\n",
       "      <td>CPD</td>\n",
       "      <td>1726</td>\n",
       "      <td>Benbow, Lauren</td>\n",
       "      <td>2025-04-13 17:26:54</td>\n",
       "      <td>2025-04-13 05:26:54 PM</td>\n",
       "      <td>Sunday</td>\n",
       "      <td>True</td>\n",
       "      <td>Spring</td>\n",
       "      <td>05:26 PM</td>\n",
       "      <td>Evening</td>\n",
       "      <td>600 E MARKET ST</td>\n",
       "      <td>38.030175</td>\n",
       "      <td>-78.477574</td>\n",
       "    </tr>\n",
       "    <tr>\n",
       "      <th>4</th>\n",
       "      <td>5</td>\n",
       "      <td>Larceny - All Other</td>\n",
       "      <td>202500011866</td>\n",
       "      <td>300</td>\n",
       "      <td>E MAIN ST, 100</td>\n",
       "      <td>CPD</td>\n",
       "      <td>1720</td>\n",
       "      <td>Benbow, Lauren</td>\n",
       "      <td>2025-04-13 17:20:59</td>\n",
       "      <td>2025-04-13 05:20:59 PM</td>\n",
       "      <td>Sunday</td>\n",
       "      <td>True</td>\n",
       "      <td>Spring</td>\n",
       "      <td>05:20 PM</td>\n",
       "      <td>Evening</td>\n",
       "      <td>300 E MAIN ST, 100</td>\n",
       "      <td>38.030104</td>\n",
       "      <td>-78.479945</td>\n",
       "    </tr>\n",
       "  </tbody>\n",
       "</table>\n",
       "</div>"
      ],
      "text/plain": [
       "   RecordID                        Offense    IncidentID BlockNumber  \\\n",
       "0         1            Motor Vehicle Theft  202500011887         100   \n",
       "1         2  Assist Agency - Backup/Assist  202500011876        1600   \n",
       "2         3           Domestic Disturbance  202500011872         100   \n",
       "3         4                 Drunkeness DIP  202500011868         600   \n",
       "4         5            Larceny - All Other  202500011866         300   \n",
       "\n",
       "        StreetName Agency HourReported ReportingOfficer                Date  \\\n",
       "0    RIDGE ST, 322    CPD         2126  Crowley, Raeann 2025-04-13 21:26:47   \n",
       "1  EMMET ST N, 335    CPD         1910    Bland, Johnnà 2025-04-13 19:10:10   \n",
       "2    CARLTON RD, A    CPD         1803    Hannay, Jacob 2025-04-13 18:03:41   \n",
       "3      E MARKET ST    CPD         1726   Benbow, Lauren 2025-04-13 17:26:54   \n",
       "4   E MAIN ST, 100    CPD         1720   Benbow, Lauren 2025-04-13 17:20:59   \n",
       "\n",
       "               DateString DayOfWeek  Weekend  Season  HourAMPM TimeOfDay  \\\n",
       "0  2025-04-13 09:26:47 PM    Sunday     True  Spring  09:26 PM     Night   \n",
       "1  2025-04-13 07:10:10 PM    Sunday     True  Spring  07:10 PM   Evening   \n",
       "2  2025-04-13 06:03:41 PM    Sunday     True  Spring  06:03 PM   Evening   \n",
       "3  2025-04-13 05:26:54 PM    Sunday     True  Spring  05:26 PM   Evening   \n",
       "4  2025-04-13 05:20:59 PM    Sunday     True  Spring  05:20 PM   Evening   \n",
       "\n",
       "             FullStreet        lat        lon  \n",
       "0     100 RIDGE ST, 322  38.029948 -78.484943  \n",
       "1  1600 EMMET ST N, 335  38.057947 -78.493911  \n",
       "2     100 CARLTON RD, A  38.026678 -78.468553  \n",
       "3       600 E MARKET ST  38.030175 -78.477574  \n",
       "4    300 E MAIN ST, 100  38.030104 -78.479945  "
      ]
     },
     "execution_count": 9,
     "metadata": {},
     "output_type": "execute_result"
    }
   ],
   "source": [
    "# Combine BlockNumber and StreetName into a full address string\n",
    "df['FullStreet'] = df['BlockNumber'].astype(str) + \" \" + df['StreetName']\n",
    "\n",
    "# --- Step 1: Setup the Google Maps Client and Cache ---\n",
    "gmaps = googlemaps.Client(key=GOOGLE_API_KEY)\n",
    "\n",
    "# Try to load cached geocoding results if available.\n",
    "try:\n",
    "    with open(\"geocode_cache_google.pkl\", \"rb\") as f:\n",
    "        street_coords = pickle.load(f)\n",
    "    print(\"Loaded geocode cache.\")\n",
    "except FileNotFoundError:\n",
    "    street_coords = {}\n",
    "    print(\"No cache found; starting fresh.\")\n",
    "\n",
    "def geocode_address(address):\n",
    "    try:\n",
    "        # Append city and state to help geocoding\n",
    "        result = gmaps.geocode(f\"{address}, Charlottesville, VA\")\n",
    "        if result:\n",
    "            lat = result[0]['geometry']['location']['lat']\n",
    "            lon = result[0]['geometry']['location']['lng']\n",
    "            return lat, lon\n",
    "    except Exception as e:\n",
    "        print(f\"Error geocoding {address}: {e}\")\n",
    "    return None, None\n",
    "\n",
    "# --- Step 2: Geocode Only New Addresses ---\n",
    "unique_addresses = df['FullStreet'].unique()\n",
    "for address in unique_addresses:\n",
    "    if address not in street_coords:\n",
    "        lat, lon = geocode_address(address)\n",
    "        street_coords[address] = (lat, lon)\n",
    "        print(f\"Geocoded {address}: {lat}, {lon}\")\n",
    "\n",
    "# Save the updated cache to disk.\n",
    "with open(\"geocode_cache_google.pkl\", \"wb\") as f:\n",
    "    pickle.dump(street_coords, f)\n",
    "    print(\"Geocode cache updated and saved.\")\n",
    "\n",
    "# --- Step 3: Map Coordinates Back to DataFrame ---\n",
    "df['lat'] = df['FullStreet'].map(lambda s: street_coords.get(s, (None, None))[0])\n",
    "df['lon'] = df['FullStreet'].map(lambda s: street_coords.get(s, (None, None))[1])\n",
    "\n",
    "df.head()"
   ]
  },
  {
   "cell_type": "markdown",
   "id": "6444d7bf",
   "metadata": {
    "papermill": {
     "duration": 0.006439,
     "end_time": "2025-04-16T01:01:44.954837",
     "exception": false,
     "start_time": "2025-04-16T01:01:44.948398",
     "status": "completed"
    },
    "tags": []
   },
   "source": [
    "### Neighborhood"
   ]
  },
  {
   "cell_type": "code",
   "execution_count": 10,
   "id": "ffd5c11c",
   "metadata": {
    "execution": {
     "iopub.execute_input": "2025-04-16T01:01:44.968716Z",
     "iopub.status.busy": "2025-04-16T01:01:44.968316Z",
     "iopub.status.idle": "2025-04-16T01:01:45.222080Z",
     "shell.execute_reply": "2025-04-16T01:01:45.221418Z"
    },
    "papermill": {
     "duration": 0.262036,
     "end_time": "2025-04-16T01:01:45.223217",
     "exception": false,
     "start_time": "2025-04-16T01:01:44.961181",
     "status": "completed"
    },
    "tags": []
   },
   "outputs": [
    {
     "name": "stdout",
     "output_type": "stream",
     "text": [
      "Loaded neighborhood cache.\n"
     ]
    },
    {
     "data": {
      "text/html": [
       "<div>\n",
       "<style scoped>\n",
       "    .dataframe tbody tr th:only-of-type {\n",
       "        vertical-align: middle;\n",
       "    }\n",
       "\n",
       "    .dataframe tbody tr th {\n",
       "        vertical-align: top;\n",
       "    }\n",
       "\n",
       "    .dataframe thead th {\n",
       "        text-align: right;\n",
       "    }\n",
       "</style>\n",
       "<table border=\"1\" class=\"dataframe\">\n",
       "  <thead>\n",
       "    <tr style=\"text-align: right;\">\n",
       "      <th></th>\n",
       "      <th>RecordID</th>\n",
       "      <th>Offense</th>\n",
       "      <th>IncidentID</th>\n",
       "      <th>BlockNumber</th>\n",
       "      <th>StreetName</th>\n",
       "      <th>Agency</th>\n",
       "      <th>HourReported</th>\n",
       "      <th>ReportingOfficer</th>\n",
       "      <th>Date</th>\n",
       "      <th>DateString</th>\n",
       "      <th>DayOfWeek</th>\n",
       "      <th>Weekend</th>\n",
       "      <th>Season</th>\n",
       "      <th>HourAMPM</th>\n",
       "      <th>TimeOfDay</th>\n",
       "      <th>FullStreet</th>\n",
       "      <th>lat</th>\n",
       "      <th>lon</th>\n",
       "      <th>neighborhood</th>\n",
       "    </tr>\n",
       "  </thead>\n",
       "  <tbody>\n",
       "    <tr>\n",
       "      <th>0</th>\n",
       "      <td>1</td>\n",
       "      <td>Motor Vehicle Theft</td>\n",
       "      <td>202500011887</td>\n",
       "      <td>100</td>\n",
       "      <td>RIDGE ST, 322</td>\n",
       "      <td>CPD</td>\n",
       "      <td>2126</td>\n",
       "      <td>Crowley, Raeann</td>\n",
       "      <td>2025-04-13 21:26:47</td>\n",
       "      <td>2025-04-13 09:26:47 PM</td>\n",
       "      <td>Sunday</td>\n",
       "      <td>True</td>\n",
       "      <td>Spring</td>\n",
       "      <td>09:26 PM</td>\n",
       "      <td>Night</td>\n",
       "      <td>100 RIDGE ST, 322</td>\n",
       "      <td>38.029948</td>\n",
       "      <td>-78.484943</td>\n",
       "      <td>N/A</td>\n",
       "    </tr>\n",
       "    <tr>\n",
       "      <th>1</th>\n",
       "      <td>2</td>\n",
       "      <td>Assist Agency - Backup/Assist</td>\n",
       "      <td>202500011876</td>\n",
       "      <td>1600</td>\n",
       "      <td>EMMET ST N, 335</td>\n",
       "      <td>CPD</td>\n",
       "      <td>1910</td>\n",
       "      <td>Bland, Johnnà</td>\n",
       "      <td>2025-04-13 19:10:10</td>\n",
       "      <td>2025-04-13 07:10:10 PM</td>\n",
       "      <td>Sunday</td>\n",
       "      <td>True</td>\n",
       "      <td>Spring</td>\n",
       "      <td>07:10 PM</td>\n",
       "      <td>Evening</td>\n",
       "      <td>1600 EMMET ST N, 335</td>\n",
       "      <td>38.057947</td>\n",
       "      <td>-78.493911</td>\n",
       "      <td>The Meadows</td>\n",
       "    </tr>\n",
       "    <tr>\n",
       "      <th>2</th>\n",
       "      <td>3</td>\n",
       "      <td>Domestic Disturbance</td>\n",
       "      <td>202500011872</td>\n",
       "      <td>100</td>\n",
       "      <td>CARLTON RD, A</td>\n",
       "      <td>CPD</td>\n",
       "      <td>1803</td>\n",
       "      <td>Hannay, Jacob</td>\n",
       "      <td>2025-04-13 18:03:41</td>\n",
       "      <td>2025-04-13 06:03:41 PM</td>\n",
       "      <td>Sunday</td>\n",
       "      <td>True</td>\n",
       "      <td>Spring</td>\n",
       "      <td>06:03 PM</td>\n",
       "      <td>Evening</td>\n",
       "      <td>100 CARLTON RD, A</td>\n",
       "      <td>38.026678</td>\n",
       "      <td>-78.468553</td>\n",
       "      <td>Martha Jefferson</td>\n",
       "    </tr>\n",
       "    <tr>\n",
       "      <th>3</th>\n",
       "      <td>4</td>\n",
       "      <td>Drunkeness DIP</td>\n",
       "      <td>202500011868</td>\n",
       "      <td>600</td>\n",
       "      <td>E MARKET ST</td>\n",
       "      <td>CPD</td>\n",
       "      <td>1726</td>\n",
       "      <td>Benbow, Lauren</td>\n",
       "      <td>2025-04-13 17:26:54</td>\n",
       "      <td>2025-04-13 05:26:54 PM</td>\n",
       "      <td>Sunday</td>\n",
       "      <td>True</td>\n",
       "      <td>Spring</td>\n",
       "      <td>05:26 PM</td>\n",
       "      <td>Evening</td>\n",
       "      <td>600 E MARKET ST</td>\n",
       "      <td>38.030175</td>\n",
       "      <td>-78.477574</td>\n",
       "      <td>Downtown Mall</td>\n",
       "    </tr>\n",
       "    <tr>\n",
       "      <th>4</th>\n",
       "      <td>5</td>\n",
       "      <td>Larceny - All Other</td>\n",
       "      <td>202500011866</td>\n",
       "      <td>300</td>\n",
       "      <td>E MAIN ST, 100</td>\n",
       "      <td>CPD</td>\n",
       "      <td>1720</td>\n",
       "      <td>Benbow, Lauren</td>\n",
       "      <td>2025-04-13 17:20:59</td>\n",
       "      <td>2025-04-13 05:20:59 PM</td>\n",
       "      <td>Sunday</td>\n",
       "      <td>True</td>\n",
       "      <td>Spring</td>\n",
       "      <td>05:20 PM</td>\n",
       "      <td>Evening</td>\n",
       "      <td>300 E MAIN ST, 100</td>\n",
       "      <td>38.030104</td>\n",
       "      <td>-78.479945</td>\n",
       "      <td>Downtown Mall</td>\n",
       "    </tr>\n",
       "  </tbody>\n",
       "</table>\n",
       "</div>"
      ],
      "text/plain": [
       "   RecordID                        Offense    IncidentID BlockNumber  \\\n",
       "0         1            Motor Vehicle Theft  202500011887         100   \n",
       "1         2  Assist Agency - Backup/Assist  202500011876        1600   \n",
       "2         3           Domestic Disturbance  202500011872         100   \n",
       "3         4                 Drunkeness DIP  202500011868         600   \n",
       "4         5            Larceny - All Other  202500011866         300   \n",
       "\n",
       "        StreetName Agency HourReported ReportingOfficer                Date  \\\n",
       "0    RIDGE ST, 322    CPD         2126  Crowley, Raeann 2025-04-13 21:26:47   \n",
       "1  EMMET ST N, 335    CPD         1910    Bland, Johnnà 2025-04-13 19:10:10   \n",
       "2    CARLTON RD, A    CPD         1803    Hannay, Jacob 2025-04-13 18:03:41   \n",
       "3      E MARKET ST    CPD         1726   Benbow, Lauren 2025-04-13 17:26:54   \n",
       "4   E MAIN ST, 100    CPD         1720   Benbow, Lauren 2025-04-13 17:20:59   \n",
       "\n",
       "               DateString DayOfWeek  Weekend  Season  HourAMPM TimeOfDay  \\\n",
       "0  2025-04-13 09:26:47 PM    Sunday     True  Spring  09:26 PM     Night   \n",
       "1  2025-04-13 07:10:10 PM    Sunday     True  Spring  07:10 PM   Evening   \n",
       "2  2025-04-13 06:03:41 PM    Sunday     True  Spring  06:03 PM   Evening   \n",
       "3  2025-04-13 05:26:54 PM    Sunday     True  Spring  05:26 PM   Evening   \n",
       "4  2025-04-13 05:20:59 PM    Sunday     True  Spring  05:20 PM   Evening   \n",
       "\n",
       "             FullStreet        lat        lon      neighborhood  \n",
       "0     100 RIDGE ST, 322  38.029948 -78.484943               N/A  \n",
       "1  1600 EMMET ST N, 335  38.057947 -78.493911       The Meadows  \n",
       "2     100 CARLTON RD, A  38.026678 -78.468553  Martha Jefferson  \n",
       "3       600 E MARKET ST  38.030175 -78.477574     Downtown Mall  \n",
       "4    300 E MAIN ST, 100  38.030104 -78.479945     Downtown Mall  "
      ]
     },
     "execution_count": 10,
     "metadata": {},
     "output_type": "execute_result"
    }
   ],
   "source": [
    "# Initialize the Google Maps client.\n",
    "gmaps = googlemaps.Client(key=GOOGLE_API_KEY)\n",
    "\n",
    "# Try to load a persistent neighborhood cache if available.\n",
    "try:\n",
    "    with open(\"neighborhood_cache.pkl\", \"rb\") as f:\n",
    "        neighborhood_cache = pickle.load(f)\n",
    "    print(\"Loaded neighborhood cache.\")\n",
    "except FileNotFoundError:\n",
    "    neighborhood_cache = {}\n",
    "    print(\"No neighborhood cache found; starting fresh.\")\n",
    "\n",
    "def get_neighborhood(lat, lon):\n",
    "    \"\"\"\n",
    "    Reverse geocodes a latitude and longitude to retrieve the neighborhood.\n",
    "    Caches results to speed up subsequent lookups.\n",
    "    \"\"\"\n",
    "    key = (lat, lon)\n",
    "    if key in neighborhood_cache:\n",
    "        return neighborhood_cache[key]\n",
    "    \n",
    "    try:\n",
    "        result = gmaps.reverse_geocode((lat, lon))\n",
    "        if result:\n",
    "            # Look for the 'neighborhood' component in the first result.\n",
    "            for component in result[0]['address_components']:\n",
    "                if 'neighborhood' in component['types']:\n",
    "                    neighborhood = component['long_name']\n",
    "                    neighborhood_cache[key] = neighborhood\n",
    "                    return neighborhood\n",
    "            # If no neighborhood is found, return \"N/A\"\n",
    "            neighborhood_cache[key] = \"N/A\"\n",
    "            return \"N/A\"\n",
    "    except Exception as e:\n",
    "        print(f\"Error getting neighborhood for {lat}, {lon}: {e}\")\n",
    "        return \"N/A\"\n",
    "    \n",
    "    # Pause to respect usage limits.\n",
    "    time.sleep(1)\n",
    "\n",
    "# Example usage: Apply to your DataFrame 'df' that already has 'lat' and 'lon' columns.\n",
    "df['neighborhood'] = df.apply(lambda row: get_neighborhood(row['lat'], row['lon']), axis=1)\n",
    "\n",
    "# Save the updated neighborhood cache.\n",
    "with open(\"neighborhood_cache.pkl\", \"wb\") as f:\n",
    "    pickle.dump(neighborhood_cache, f)\n",
    "\n",
    "df.head()\n"
   ]
  },
  {
   "cell_type": "markdown",
   "id": "25653a6f",
   "metadata": {
    "papermill": {
     "duration": 0.006668,
     "end_time": "2025-04-16T01:01:45.236955",
     "exception": false,
     "start_time": "2025-04-16T01:01:45.230287",
     "status": "completed"
    },
    "tags": []
   },
   "source": [
    "### Zip"
   ]
  },
  {
   "cell_type": "code",
   "execution_count": 11,
   "id": "2b31f5a6",
   "metadata": {
    "execution": {
     "iopub.execute_input": "2025-04-16T01:01:45.251250Z",
     "iopub.status.busy": "2025-04-16T01:01:45.250976Z",
     "iopub.status.idle": "2025-04-16T01:01:45.485918Z",
     "shell.execute_reply": "2025-04-16T01:01:45.485342Z"
    },
    "papermill": {
     "duration": 0.243299,
     "end_time": "2025-04-16T01:01:45.486868",
     "exception": false,
     "start_time": "2025-04-16T01:01:45.243569",
     "status": "completed"
    },
    "tags": []
   },
   "outputs": [
    {
     "name": "stdout",
     "output_type": "stream",
     "text": [
      "Loaded zip cache.\n"
     ]
    },
    {
     "data": {
      "text/html": [
       "<div>\n",
       "<style scoped>\n",
       "    .dataframe tbody tr th:only-of-type {\n",
       "        vertical-align: middle;\n",
       "    }\n",
       "\n",
       "    .dataframe tbody tr th {\n",
       "        vertical-align: top;\n",
       "    }\n",
       "\n",
       "    .dataframe thead th {\n",
       "        text-align: right;\n",
       "    }\n",
       "</style>\n",
       "<table border=\"1\" class=\"dataframe\">\n",
       "  <thead>\n",
       "    <tr style=\"text-align: right;\">\n",
       "      <th></th>\n",
       "      <th>RecordID</th>\n",
       "      <th>Offense</th>\n",
       "      <th>IncidentID</th>\n",
       "      <th>BlockNumber</th>\n",
       "      <th>StreetName</th>\n",
       "      <th>Agency</th>\n",
       "      <th>HourReported</th>\n",
       "      <th>ReportingOfficer</th>\n",
       "      <th>Date</th>\n",
       "      <th>DateString</th>\n",
       "      <th>DayOfWeek</th>\n",
       "      <th>Weekend</th>\n",
       "      <th>Season</th>\n",
       "      <th>HourAMPM</th>\n",
       "      <th>TimeOfDay</th>\n",
       "      <th>FullStreet</th>\n",
       "      <th>lat</th>\n",
       "      <th>lon</th>\n",
       "      <th>neighborhood</th>\n",
       "      <th>zip</th>\n",
       "    </tr>\n",
       "  </thead>\n",
       "  <tbody>\n",
       "    <tr>\n",
       "      <th>0</th>\n",
       "      <td>1</td>\n",
       "      <td>Motor Vehicle Theft</td>\n",
       "      <td>202500011887</td>\n",
       "      <td>100</td>\n",
       "      <td>RIDGE ST, 322</td>\n",
       "      <td>CPD</td>\n",
       "      <td>2126</td>\n",
       "      <td>Crowley, Raeann</td>\n",
       "      <td>2025-04-13 21:26:47</td>\n",
       "      <td>2025-04-13 09:26:47 PM</td>\n",
       "      <td>Sunday</td>\n",
       "      <td>True</td>\n",
       "      <td>Spring</td>\n",
       "      <td>09:26 PM</td>\n",
       "      <td>Night</td>\n",
       "      <td>100 RIDGE ST, 322</td>\n",
       "      <td>38.029948</td>\n",
       "      <td>-78.484943</td>\n",
       "      <td>N/A</td>\n",
       "      <td>22902</td>\n",
       "    </tr>\n",
       "    <tr>\n",
       "      <th>1</th>\n",
       "      <td>2</td>\n",
       "      <td>Assist Agency - Backup/Assist</td>\n",
       "      <td>202500011876</td>\n",
       "      <td>1600</td>\n",
       "      <td>EMMET ST N, 335</td>\n",
       "      <td>CPD</td>\n",
       "      <td>1910</td>\n",
       "      <td>Bland, Johnnà</td>\n",
       "      <td>2025-04-13 19:10:10</td>\n",
       "      <td>2025-04-13 07:10:10 PM</td>\n",
       "      <td>Sunday</td>\n",
       "      <td>True</td>\n",
       "      <td>Spring</td>\n",
       "      <td>07:10 PM</td>\n",
       "      <td>Evening</td>\n",
       "      <td>1600 EMMET ST N, 335</td>\n",
       "      <td>38.057947</td>\n",
       "      <td>-78.493911</td>\n",
       "      <td>The Meadows</td>\n",
       "      <td>22901</td>\n",
       "    </tr>\n",
       "    <tr>\n",
       "      <th>2</th>\n",
       "      <td>3</td>\n",
       "      <td>Domestic Disturbance</td>\n",
       "      <td>202500011872</td>\n",
       "      <td>100</td>\n",
       "      <td>CARLTON RD, A</td>\n",
       "      <td>CPD</td>\n",
       "      <td>1803</td>\n",
       "      <td>Hannay, Jacob</td>\n",
       "      <td>2025-04-13 18:03:41</td>\n",
       "      <td>2025-04-13 06:03:41 PM</td>\n",
       "      <td>Sunday</td>\n",
       "      <td>True</td>\n",
       "      <td>Spring</td>\n",
       "      <td>06:03 PM</td>\n",
       "      <td>Evening</td>\n",
       "      <td>100 CARLTON RD, A</td>\n",
       "      <td>38.026678</td>\n",
       "      <td>-78.468553</td>\n",
       "      <td>Martha Jefferson</td>\n",
       "      <td>22902</td>\n",
       "    </tr>\n",
       "    <tr>\n",
       "      <th>3</th>\n",
       "      <td>4</td>\n",
       "      <td>Drunkeness DIP</td>\n",
       "      <td>202500011868</td>\n",
       "      <td>600</td>\n",
       "      <td>E MARKET ST</td>\n",
       "      <td>CPD</td>\n",
       "      <td>1726</td>\n",
       "      <td>Benbow, Lauren</td>\n",
       "      <td>2025-04-13 17:26:54</td>\n",
       "      <td>2025-04-13 05:26:54 PM</td>\n",
       "      <td>Sunday</td>\n",
       "      <td>True</td>\n",
       "      <td>Spring</td>\n",
       "      <td>05:26 PM</td>\n",
       "      <td>Evening</td>\n",
       "      <td>600 E MARKET ST</td>\n",
       "      <td>38.030175</td>\n",
       "      <td>-78.477574</td>\n",
       "      <td>Downtown Mall</td>\n",
       "      <td>22902</td>\n",
       "    </tr>\n",
       "    <tr>\n",
       "      <th>4</th>\n",
       "      <td>5</td>\n",
       "      <td>Larceny - All Other</td>\n",
       "      <td>202500011866</td>\n",
       "      <td>300</td>\n",
       "      <td>E MAIN ST, 100</td>\n",
       "      <td>CPD</td>\n",
       "      <td>1720</td>\n",
       "      <td>Benbow, Lauren</td>\n",
       "      <td>2025-04-13 17:20:59</td>\n",
       "      <td>2025-04-13 05:20:59 PM</td>\n",
       "      <td>Sunday</td>\n",
       "      <td>True</td>\n",
       "      <td>Spring</td>\n",
       "      <td>05:20 PM</td>\n",
       "      <td>Evening</td>\n",
       "      <td>300 E MAIN ST, 100</td>\n",
       "      <td>38.030104</td>\n",
       "      <td>-78.479945</td>\n",
       "      <td>Downtown Mall</td>\n",
       "      <td>22902</td>\n",
       "    </tr>\n",
       "  </tbody>\n",
       "</table>\n",
       "</div>"
      ],
      "text/plain": [
       "   RecordID                        Offense    IncidentID BlockNumber  \\\n",
       "0         1            Motor Vehicle Theft  202500011887         100   \n",
       "1         2  Assist Agency - Backup/Assist  202500011876        1600   \n",
       "2         3           Domestic Disturbance  202500011872         100   \n",
       "3         4                 Drunkeness DIP  202500011868         600   \n",
       "4         5            Larceny - All Other  202500011866         300   \n",
       "\n",
       "        StreetName Agency HourReported ReportingOfficer                Date  \\\n",
       "0    RIDGE ST, 322    CPD         2126  Crowley, Raeann 2025-04-13 21:26:47   \n",
       "1  EMMET ST N, 335    CPD         1910    Bland, Johnnà 2025-04-13 19:10:10   \n",
       "2    CARLTON RD, A    CPD         1803    Hannay, Jacob 2025-04-13 18:03:41   \n",
       "3      E MARKET ST    CPD         1726   Benbow, Lauren 2025-04-13 17:26:54   \n",
       "4   E MAIN ST, 100    CPD         1720   Benbow, Lauren 2025-04-13 17:20:59   \n",
       "\n",
       "               DateString DayOfWeek  Weekend  Season  HourAMPM TimeOfDay  \\\n",
       "0  2025-04-13 09:26:47 PM    Sunday     True  Spring  09:26 PM     Night   \n",
       "1  2025-04-13 07:10:10 PM    Sunday     True  Spring  07:10 PM   Evening   \n",
       "2  2025-04-13 06:03:41 PM    Sunday     True  Spring  06:03 PM   Evening   \n",
       "3  2025-04-13 05:26:54 PM    Sunday     True  Spring  05:26 PM   Evening   \n",
       "4  2025-04-13 05:20:59 PM    Sunday     True  Spring  05:20 PM   Evening   \n",
       "\n",
       "             FullStreet        lat        lon      neighborhood    zip  \n",
       "0     100 RIDGE ST, 322  38.029948 -78.484943               N/A  22902  \n",
       "1  1600 EMMET ST N, 335  38.057947 -78.493911       The Meadows  22901  \n",
       "2     100 CARLTON RD, A  38.026678 -78.468553  Martha Jefferson  22902  \n",
       "3       600 E MARKET ST  38.030175 -78.477574     Downtown Mall  22902  \n",
       "4    300 E MAIN ST, 100  38.030104 -78.479945     Downtown Mall  22902  "
      ]
     },
     "execution_count": 11,
     "metadata": {},
     "output_type": "execute_result"
    }
   ],
   "source": [
    "# Initialize the geocoder.\n",
    "geolocator = Nominatim(user_agent=\"zip_lookup\")\n",
    "\n",
    "# Try to load a persistent ZIP cache if available.\n",
    "try:\n",
    "    with open(\"zip_cache.pkl\", \"rb\") as f:\n",
    "        zip_cache = pickle.load(f)\n",
    "    print(\"Loaded zip cache.\")\n",
    "except FileNotFoundError:\n",
    "    zip_cache = {}\n",
    "    print(\"No zip cache found; starting fresh.\")\n",
    "\n",
    "def get_zip(lat, lon):\n",
    "    \"\"\"\n",
    "    Reverse geocodes a latitude and longitude to retrieve the ZIP code.\n",
    "    Caches results to speed up subsequent lookups.\n",
    "    \"\"\"\n",
    "    key = (lat, lon)\n",
    "    if key in zip_cache:\n",
    "        return zip_cache[key]\n",
    "    \n",
    "    try:\n",
    "        location = geolocator.reverse((lat, lon), exactly_one=True, timeout=10)\n",
    "        address = location.raw.get('address', {})\n",
    "        postal_code = address.get('postcode', \"N/A\")\n",
    "    except Exception as e:\n",
    "        print(f\"Error getting ZIP for {lat}, {lon}: {e}\")\n",
    "        postal_code = \"N/A\"\n",
    "    \n",
    "    zip_cache[key] = postal_code\n",
    "    # Pause to respect the usage policy.\n",
    "    time.sleep(1)\n",
    "    return postal_code\n",
    "\n",
    "# Apply the function to each row in the DataFrame.\n",
    "df['zip'] = df.apply(lambda row: get_zip(row['lat'], row['lon']), axis=1)\n",
    "\n",
    "# Save the updated ZIP cache.\n",
    "with open(\"zip_cache.pkl\", \"wb\") as f:\n",
    "    pickle.dump(zip_cache, f)\n",
    "\n",
    "df.head()\n"
   ]
  },
  {
   "cell_type": "code",
   "execution_count": 12,
   "id": "7f0a29c1",
   "metadata": {
    "execution": {
     "iopub.execute_input": "2025-04-16T01:01:45.502191Z",
     "iopub.status.busy": "2025-04-16T01:01:45.501798Z",
     "iopub.status.idle": "2025-04-16T01:01:45.528442Z",
     "shell.execute_reply": "2025-04-16T01:01:45.527848Z"
    },
    "papermill": {
     "duration": 0.035265,
     "end_time": "2025-04-16T01:01:45.529516",
     "exception": false,
     "start_time": "2025-04-16T01:01:45.494251",
     "status": "completed"
    },
    "tags": []
   },
   "outputs": [
    {
     "name": "stdout",
     "output_type": "stream",
     "text": [
      "                  MissingCount  MissingPercentage\n",
      "RecordID                     0               0.00\n",
      "Offense                      0               0.00\n",
      "IncidentID                   0               0.00\n",
      "BlockNumber                  0               0.00\n",
      "StreetName                   0               0.00\n",
      "Agency                       0               0.00\n",
      "HourReported                 0               0.00\n",
      "ReportingOfficer            17               0.07\n",
      "Date                         0               0.00\n",
      "DateString                   0               0.00\n",
      "DayOfWeek                    0               0.00\n",
      "Weekend                      0               0.00\n",
      "Season                       0               0.00\n",
      "HourAMPM                     0               0.00\n",
      "TimeOfDay                    0               0.00\n",
      "FullStreet                   0               0.00\n",
      "lat                          0               0.00\n",
      "lon                          0               0.00\n",
      "neighborhood                 0               0.00\n",
      "zip                          0               0.00\n"
     ]
    }
   ],
   "source": [
    "missing_info = missing_percentage(df)\n",
    "print(missing_info)\n"
   ]
  },
  {
   "cell_type": "code",
   "execution_count": 13,
   "id": "0e768e7c",
   "metadata": {
    "execution": {
     "iopub.execute_input": "2025-04-16T01:01:45.544584Z",
     "iopub.status.busy": "2025-04-16T01:01:45.544202Z",
     "iopub.status.idle": "2025-04-16T01:01:45.569455Z",
     "shell.execute_reply": "2025-04-16T01:01:45.568899Z"
    },
    "papermill": {
     "duration": 0.033798,
     "end_time": "2025-04-16T01:01:45.570402",
     "exception": false,
     "start_time": "2025-04-16T01:01:45.536604",
     "status": "completed"
    },
    "tags": []
   },
   "outputs": [
    {
     "name": "stdout",
     "output_type": "stream",
     "text": [
      "<class 'pandas.core.frame.DataFrame'>\n",
      "RangeIndex: 25179 entries, 0 to 25178\n",
      "Data columns (total 20 columns):\n",
      " #   Column            Non-Null Count  Dtype         \n",
      "---  ------            --------------  -----         \n",
      " 0   RecordID          25179 non-null  int64         \n",
      " 1   Offense           25179 non-null  object        \n",
      " 2   IncidentID        25179 non-null  object        \n",
      " 3   BlockNumber       25179 non-null  object        \n",
      " 4   StreetName        25179 non-null  object        \n",
      " 5   Agency            25179 non-null  object        \n",
      " 6   HourReported      25179 non-null  object        \n",
      " 7   ReportingOfficer  25162 non-null  object        \n",
      " 8   Date              25179 non-null  datetime64[ns]\n",
      " 9   DateString        25179 non-null  object        \n",
      " 10  DayOfWeek         25179 non-null  object        \n",
      " 11  Weekend           25179 non-null  bool          \n",
      " 12  Season            25179 non-null  object        \n",
      " 13  HourAMPM          25179 non-null  object        \n",
      " 14  TimeOfDay         25179 non-null  object        \n",
      " 15  FullStreet        25179 non-null  object        \n",
      " 16  lat               25179 non-null  float64       \n",
      " 17  lon               25179 non-null  float64       \n",
      " 18  neighborhood      25179 non-null  object        \n",
      " 19  zip               25179 non-null  object        \n",
      "dtypes: bool(1), datetime64[ns](1), float64(2), int64(1), object(15)\n",
      "memory usage: 3.7+ MB\n"
     ]
    }
   ],
   "source": [
    "df.info()"
   ]
  },
  {
   "cell_type": "code",
   "execution_count": 14,
   "id": "69dd30f5",
   "metadata": {
    "execution": {
     "iopub.execute_input": "2025-04-16T01:01:45.585388Z",
     "iopub.status.busy": "2025-04-16T01:01:45.585187Z",
     "iopub.status.idle": "2025-04-16T01:01:45.625329Z",
     "shell.execute_reply": "2025-04-16T01:01:45.624651Z"
    },
    "papermill": {
     "duration": 0.048918,
     "end_time": "2025-04-16T01:01:45.626410",
     "exception": false,
     "start_time": "2025-04-16T01:01:45.577492",
     "status": "completed"
    },
    "tags": []
   },
   "outputs": [
    {
     "data": {
      "text/html": [
       "<div>\n",
       "<style scoped>\n",
       "    .dataframe tbody tr th:only-of-type {\n",
       "        vertical-align: middle;\n",
       "    }\n",
       "\n",
       "    .dataframe tbody tr th {\n",
       "        vertical-align: top;\n",
       "    }\n",
       "\n",
       "    .dataframe thead th {\n",
       "        text-align: right;\n",
       "    }\n",
       "</style>\n",
       "<table border=\"1\" class=\"dataframe\">\n",
       "  <thead>\n",
       "    <tr style=\"text-align: right;\">\n",
       "      <th></th>\n",
       "      <th>RecordID</th>\n",
       "      <th>Offense</th>\n",
       "      <th>IncidentID</th>\n",
       "      <th>Agency</th>\n",
       "      <th>ReportingOfficer</th>\n",
       "      <th>Date</th>\n",
       "      <th>DayOfWeek</th>\n",
       "      <th>Weekend</th>\n",
       "      <th>Season</th>\n",
       "      <th>TimeOfDay</th>\n",
       "      <th>FullStreet</th>\n",
       "      <th>lat</th>\n",
       "      <th>lon</th>\n",
       "      <th>neighborhood</th>\n",
       "      <th>zip</th>\n",
       "    </tr>\n",
       "  </thead>\n",
       "  <tbody>\n",
       "    <tr>\n",
       "      <th>0</th>\n",
       "      <td>1</td>\n",
       "      <td>Motor Vehicle Theft</td>\n",
       "      <td>202500011887</td>\n",
       "      <td>CPD</td>\n",
       "      <td>Crowley, Raeann</td>\n",
       "      <td>2025-04-13 21:26:47</td>\n",
       "      <td>Sunday</td>\n",
       "      <td>True</td>\n",
       "      <td>Spring</td>\n",
       "      <td>Night</td>\n",
       "      <td>100 RIDGE ST, 322</td>\n",
       "      <td>38.029948</td>\n",
       "      <td>-78.484943</td>\n",
       "      <td>N/A</td>\n",
       "      <td>22902</td>\n",
       "    </tr>\n",
       "    <tr>\n",
       "      <th>1</th>\n",
       "      <td>2</td>\n",
       "      <td>Assist Agency - Backup/Assist</td>\n",
       "      <td>202500011876</td>\n",
       "      <td>CPD</td>\n",
       "      <td>Bland, Johnnà</td>\n",
       "      <td>2025-04-13 19:10:10</td>\n",
       "      <td>Sunday</td>\n",
       "      <td>True</td>\n",
       "      <td>Spring</td>\n",
       "      <td>Evening</td>\n",
       "      <td>1600 EMMET ST N, 335</td>\n",
       "      <td>38.057947</td>\n",
       "      <td>-78.493911</td>\n",
       "      <td>The Meadows</td>\n",
       "      <td>22901</td>\n",
       "    </tr>\n",
       "    <tr>\n",
       "      <th>2</th>\n",
       "      <td>3</td>\n",
       "      <td>Domestic Disturbance</td>\n",
       "      <td>202500011872</td>\n",
       "      <td>CPD</td>\n",
       "      <td>Hannay, Jacob</td>\n",
       "      <td>2025-04-13 18:03:41</td>\n",
       "      <td>Sunday</td>\n",
       "      <td>True</td>\n",
       "      <td>Spring</td>\n",
       "      <td>Evening</td>\n",
       "      <td>100 CARLTON RD, A</td>\n",
       "      <td>38.026678</td>\n",
       "      <td>-78.468553</td>\n",
       "      <td>Martha Jefferson</td>\n",
       "      <td>22902</td>\n",
       "    </tr>\n",
       "    <tr>\n",
       "      <th>3</th>\n",
       "      <td>4</td>\n",
       "      <td>Drunkeness DIP</td>\n",
       "      <td>202500011868</td>\n",
       "      <td>CPD</td>\n",
       "      <td>Benbow, Lauren</td>\n",
       "      <td>2025-04-13 17:26:54</td>\n",
       "      <td>Sunday</td>\n",
       "      <td>True</td>\n",
       "      <td>Spring</td>\n",
       "      <td>Evening</td>\n",
       "      <td>600 E MARKET ST</td>\n",
       "      <td>38.030175</td>\n",
       "      <td>-78.477574</td>\n",
       "      <td>Downtown Mall</td>\n",
       "      <td>22902</td>\n",
       "    </tr>\n",
       "    <tr>\n",
       "      <th>4</th>\n",
       "      <td>5</td>\n",
       "      <td>Larceny - All Other</td>\n",
       "      <td>202500011866</td>\n",
       "      <td>CPD</td>\n",
       "      <td>Benbow, Lauren</td>\n",
       "      <td>2025-04-13 17:20:59</td>\n",
       "      <td>Sunday</td>\n",
       "      <td>True</td>\n",
       "      <td>Spring</td>\n",
       "      <td>Evening</td>\n",
       "      <td>300 E MAIN ST, 100</td>\n",
       "      <td>38.030104</td>\n",
       "      <td>-78.479945</td>\n",
       "      <td>Downtown Mall</td>\n",
       "      <td>22902</td>\n",
       "    </tr>\n",
       "  </tbody>\n",
       "</table>\n",
       "</div>"
      ],
      "text/plain": [
       "   RecordID                        Offense    IncidentID Agency  \\\n",
       "0         1            Motor Vehicle Theft  202500011887    CPD   \n",
       "1         2  Assist Agency - Backup/Assist  202500011876    CPD   \n",
       "2         3           Domestic Disturbance  202500011872    CPD   \n",
       "3         4                 Drunkeness DIP  202500011868    CPD   \n",
       "4         5            Larceny - All Other  202500011866    CPD   \n",
       "\n",
       "  ReportingOfficer                Date DayOfWeek  Weekend  Season TimeOfDay  \\\n",
       "0  Crowley, Raeann 2025-04-13 21:26:47    Sunday     True  Spring     Night   \n",
       "1    Bland, Johnnà 2025-04-13 19:10:10    Sunday     True  Spring   Evening   \n",
       "2    Hannay, Jacob 2025-04-13 18:03:41    Sunday     True  Spring   Evening   \n",
       "3   Benbow, Lauren 2025-04-13 17:26:54    Sunday     True  Spring   Evening   \n",
       "4   Benbow, Lauren 2025-04-13 17:20:59    Sunday     True  Spring   Evening   \n",
       "\n",
       "             FullStreet        lat        lon      neighborhood    zip  \n",
       "0     100 RIDGE ST, 322  38.029948 -78.484943               N/A  22902  \n",
       "1  1600 EMMET ST N, 335  38.057947 -78.493911       The Meadows  22901  \n",
       "2     100 CARLTON RD, A  38.026678 -78.468553  Martha Jefferson  22902  \n",
       "3       600 E MARKET ST  38.030175 -78.477574     Downtown Mall  22902  \n",
       "4    300 E MAIN ST, 100  38.030104 -78.479945     Downtown Mall  22902  "
      ]
     },
     "execution_count": 14,
     "metadata": {},
     "output_type": "execute_result"
    }
   ],
   "source": [
    "# Now drop the original BlockNumber and StreetName columns\n",
    "df.drop(columns=['BlockNumber', 'StreetName','HourAMPM','HourReported','DateString'], inplace=True)\n",
    "df[\"zip\"] = df[\"zip\"].astype(str)\n",
    "\n",
    "# Fill all missing values in the DataFrame with \"N/A\"\n",
    "df.replace({None: \"N/A\", np.nan: \"N/A\", \"\": \"N/A\"}, inplace=True)\n",
    "df.head()"
   ]
  },
  {
   "cell_type": "code",
   "execution_count": 15,
   "id": "d0528199",
   "metadata": {
    "execution": {
     "iopub.execute_input": "2025-04-16T01:01:45.642393Z",
     "iopub.status.busy": "2025-04-16T01:01:45.642195Z",
     "iopub.status.idle": "2025-04-16T01:01:45.656560Z",
     "shell.execute_reply": "2025-04-16T01:01:45.655896Z"
    },
    "papermill": {
     "duration": 0.023545,
     "end_time": "2025-04-16T01:01:45.657634",
     "exception": false,
     "start_time": "2025-04-16T01:01:45.634089",
     "status": "completed"
    },
    "tags": []
   },
   "outputs": [
    {
     "name": "stdout",
     "output_type": "stream",
     "text": [
      "                  MissingCount  MissingPercentage\n",
      "RecordID                     0                0.0\n",
      "Offense                      0                0.0\n",
      "IncidentID                   0                0.0\n",
      "Agency                       0                0.0\n",
      "ReportingOfficer             0                0.0\n",
      "Date                         0                0.0\n",
      "DayOfWeek                    0                0.0\n",
      "Weekend                      0                0.0\n",
      "Season                       0                0.0\n",
      "TimeOfDay                    0                0.0\n",
      "FullStreet                   0                0.0\n",
      "lat                          0                0.0\n",
      "lon                          0                0.0\n",
      "neighborhood                 0                0.0\n",
      "zip                          0                0.0\n"
     ]
    }
   ],
   "source": [
    "missing_info = missing_percentage(df)\n",
    "print(missing_info)"
   ]
  },
  {
   "cell_type": "code",
   "execution_count": 16,
   "id": "a3edc69d",
   "metadata": {
    "execution": {
     "iopub.execute_input": "2025-04-16T01:01:45.673438Z",
     "iopub.status.busy": "2025-04-16T01:01:45.673087Z",
     "iopub.status.idle": "2025-04-16T01:01:45.677273Z",
     "shell.execute_reply": "2025-04-16T01:01:45.676763Z"
    },
    "papermill": {
     "duration": 0.013258,
     "end_time": "2025-04-16T01:01:45.678267",
     "exception": false,
     "start_time": "2025-04-16T01:01:45.665009",
     "status": "completed"
    },
    "tags": []
   },
   "outputs": [
    {
     "data": {
      "text/plain": [
       "Index(['RecordID', 'Offense', 'IncidentID', 'Agency', 'ReportingOfficer',\n",
       "       'Date', 'DayOfWeek', 'Weekend', 'Season', 'TimeOfDay', 'FullStreet',\n",
       "       'lat', 'lon', 'neighborhood', 'zip'],\n",
       "      dtype='object')"
      ]
     },
     "execution_count": 16,
     "metadata": {},
     "output_type": "execute_result"
    }
   ],
   "source": [
    "df.columns"
   ]
  },
  {
   "cell_type": "code",
   "execution_count": 17,
   "id": "2c315c43",
   "metadata": {
    "execution": {
     "iopub.execute_input": "2025-04-16T01:01:45.694300Z",
     "iopub.status.busy": "2025-04-16T01:01:45.693805Z",
     "iopub.status.idle": "2025-04-16T01:01:45.709639Z",
     "shell.execute_reply": "2025-04-16T01:01:45.708987Z"
    },
    "papermill": {
     "duration": 0.024883,
     "end_time": "2025-04-16T01:01:45.710640",
     "exception": false,
     "start_time": "2025-04-16T01:01:45.685757",
     "status": "completed"
    },
    "tags": []
   },
   "outputs": [
    {
     "name": "stdout",
     "output_type": "stream",
     "text": [
      "<class 'pandas.core.frame.DataFrame'>\n",
      "RangeIndex: 25179 entries, 0 to 25178\n",
      "Data columns (total 15 columns):\n",
      " #   Column            Non-Null Count  Dtype         \n",
      "---  ------            --------------  -----         \n",
      " 0   RecordID          25179 non-null  int64         \n",
      " 1   Offense           25179 non-null  object        \n",
      " 2   IncidentID        25179 non-null  object        \n",
      " 3   Agency            25179 non-null  object        \n",
      " 4   ReportingOfficer  25179 non-null  object        \n",
      " 5   Date              25179 non-null  datetime64[ns]\n",
      " 6   DayOfWeek         25179 non-null  object        \n",
      " 7   Weekend           25179 non-null  bool          \n",
      " 8   Season            25179 non-null  object        \n",
      " 9   TimeOfDay         25179 non-null  object        \n",
      " 10  FullStreet        25179 non-null  object        \n",
      " 11  lat               25179 non-null  float64       \n",
      " 12  lon               25179 non-null  float64       \n",
      " 13  neighborhood      25179 non-null  object        \n",
      " 14  zip               25179 non-null  object        \n",
      "dtypes: bool(1), datetime64[ns](1), float64(2), int64(1), object(10)\n",
      "memory usage: 2.7+ MB\n"
     ]
    }
   ],
   "source": [
    "df.info()"
   ]
  },
  {
   "cell_type": "markdown",
   "id": "d3646a28",
   "metadata": {
    "papermill": {
     "duration": 0.00899,
     "end_time": "2025-04-16T01:01:45.727461",
     "exception": false,
     "start_time": "2025-04-16T01:01:45.718471",
     "status": "completed"
    },
    "tags": []
   },
   "source": [
    "### Export Clean Data"
   ]
  },
  {
   "cell_type": "code",
   "execution_count": 18,
   "id": "9b9889b1",
   "metadata": {
    "execution": {
     "iopub.execute_input": "2025-04-16T01:01:45.767243Z",
     "iopub.status.busy": "2025-04-16T01:01:45.766617Z",
     "iopub.status.idle": "2025-04-16T01:01:55.051707Z",
     "shell.execute_reply": "2025-04-16T01:01:55.051008Z"
    },
    "papermill": {
     "duration": 9.316868,
     "end_time": "2025-04-16T01:01:55.052705",
     "exception": false,
     "start_time": "2025-04-16T01:01:45.735837",
     "status": "completed"
    },
    "tags": []
   },
   "outputs": [
    {
     "name": "stdout",
     "output_type": "stream",
     "text": [
      "Project Root: /home/runner/work/crime-data/crime-data\n"
     ]
    },
    {
     "name": "stdout",
     "output_type": "stream",
     "text": [
      "Data saved to: /home/runner/work/crime-data/crime-data/data/charlottesville_crime_incidents.csv\n"
     ]
    },
    {
     "name": "stdout",
     "output_type": "stream",
     "text": [
      "Excel saved to: /home/runner/work/crime-data/crime-data/data/charlottesville_crime_incidents.xlsx\n"
     ]
    }
   ],
   "source": [
    "# Determine the project root (assuming papermill is run from the repository root)\n",
    "project_root = os.getcwd()\n",
    "print(\"Project Root:\", project_root)\n",
    "\n",
    "# Set the data directory within the project root\n",
    "data_dir = os.path.join(project_root, \"data\")\n",
    "\n",
    "# Ensure the \"data\" directory exists (create it if it doesn't)\n",
    "if not os.path.exists(data_dir):\n",
    "    os.makedirs(data_dir)\n",
    "\n",
    "# Export the DataFrame to CSV in the \"data\" folder located in the project root\n",
    "csv_path = os.path.join(data_dir, \"charlottesville_crime_incidents.csv\")\n",
    "df.to_csv(csv_path, index=False)\n",
    "print(\"Data saved to:\", csv_path)\n",
    "\n",
    "# Construct the path to your Excel file\n",
    "excel_path = os.path.join(data_dir, \"charlottesville_crime_incidents.xlsx\")\n",
    "\n",
    "# Export the DataFrame to Excel\n",
    "df.to_excel(excel_path, index=False)\n",
    "print(\"Excel saved to:\", excel_path)\n"
   ]
  },
  {
   "cell_type": "markdown",
   "id": "8cefbdf9",
   "metadata": {
    "papermill": {
     "duration": 0.007639,
     "end_time": "2025-04-16T01:01:55.068403",
     "exception": false,
     "start_time": "2025-04-16T01:01:55.060764",
     "status": "completed"
    },
    "tags": []
   },
   "source": [
    "## Predictive Analytics"
   ]
  },
  {
   "cell_type": "code",
   "execution_count": 19,
   "id": "a10053be",
   "metadata": {
    "execution": {
     "iopub.execute_input": "2025-04-16T01:01:55.085098Z",
     "iopub.status.busy": "2025-04-16T01:01:55.084543Z",
     "iopub.status.idle": "2025-04-16T01:01:55.096195Z",
     "shell.execute_reply": "2025-04-16T01:01:55.095562Z"
    },
    "papermill": {
     "duration": 0.02098,
     "end_time": "2025-04-16T01:01:55.097180",
     "exception": false,
     "start_time": "2025-04-16T01:01:55.076200",
     "status": "completed"
    },
    "tags": []
   },
   "outputs": [
    {
     "data": {
      "text/html": [
       "<div>\n",
       "<style scoped>\n",
       "    .dataframe tbody tr th:only-of-type {\n",
       "        vertical-align: middle;\n",
       "    }\n",
       "\n",
       "    .dataframe tbody tr th {\n",
       "        vertical-align: top;\n",
       "    }\n",
       "\n",
       "    .dataframe thead th {\n",
       "        text-align: right;\n",
       "    }\n",
       "</style>\n",
       "<table border=\"1\" class=\"dataframe\">\n",
       "  <thead>\n",
       "    <tr style=\"text-align: right;\">\n",
       "      <th></th>\n",
       "      <th>RecordID</th>\n",
       "      <th>Offense</th>\n",
       "      <th>IncidentID</th>\n",
       "      <th>Agency</th>\n",
       "      <th>ReportingOfficer</th>\n",
       "      <th>Date</th>\n",
       "      <th>DayOfWeek</th>\n",
       "      <th>Weekend</th>\n",
       "      <th>Season</th>\n",
       "      <th>TimeOfDay</th>\n",
       "      <th>FullStreet</th>\n",
       "      <th>lat</th>\n",
       "      <th>lon</th>\n",
       "      <th>neighborhood</th>\n",
       "      <th>zip</th>\n",
       "    </tr>\n",
       "  </thead>\n",
       "  <tbody>\n",
       "    <tr>\n",
       "      <th>0</th>\n",
       "      <td>1</td>\n",
       "      <td>Motor Vehicle Theft</td>\n",
       "      <td>202500011887</td>\n",
       "      <td>CPD</td>\n",
       "      <td>Crowley, Raeann</td>\n",
       "      <td>2025-04-13 21:26:47</td>\n",
       "      <td>Sunday</td>\n",
       "      <td>True</td>\n",
       "      <td>Spring</td>\n",
       "      <td>Night</td>\n",
       "      <td>100 RIDGE ST, 322</td>\n",
       "      <td>38.029948</td>\n",
       "      <td>-78.484943</td>\n",
       "      <td>N/A</td>\n",
       "      <td>22902</td>\n",
       "    </tr>\n",
       "    <tr>\n",
       "      <th>1</th>\n",
       "      <td>2</td>\n",
       "      <td>Assist Agency - Backup/Assist</td>\n",
       "      <td>202500011876</td>\n",
       "      <td>CPD</td>\n",
       "      <td>Bland, Johnnà</td>\n",
       "      <td>2025-04-13 19:10:10</td>\n",
       "      <td>Sunday</td>\n",
       "      <td>True</td>\n",
       "      <td>Spring</td>\n",
       "      <td>Evening</td>\n",
       "      <td>1600 EMMET ST N, 335</td>\n",
       "      <td>38.057947</td>\n",
       "      <td>-78.493911</td>\n",
       "      <td>The Meadows</td>\n",
       "      <td>22901</td>\n",
       "    </tr>\n",
       "    <tr>\n",
       "      <th>2</th>\n",
       "      <td>3</td>\n",
       "      <td>Domestic Disturbance</td>\n",
       "      <td>202500011872</td>\n",
       "      <td>CPD</td>\n",
       "      <td>Hannay, Jacob</td>\n",
       "      <td>2025-04-13 18:03:41</td>\n",
       "      <td>Sunday</td>\n",
       "      <td>True</td>\n",
       "      <td>Spring</td>\n",
       "      <td>Evening</td>\n",
       "      <td>100 CARLTON RD, A</td>\n",
       "      <td>38.026678</td>\n",
       "      <td>-78.468553</td>\n",
       "      <td>Martha Jefferson</td>\n",
       "      <td>22902</td>\n",
       "    </tr>\n",
       "    <tr>\n",
       "      <th>3</th>\n",
       "      <td>4</td>\n",
       "      <td>Drunkeness DIP</td>\n",
       "      <td>202500011868</td>\n",
       "      <td>CPD</td>\n",
       "      <td>Benbow, Lauren</td>\n",
       "      <td>2025-04-13 17:26:54</td>\n",
       "      <td>Sunday</td>\n",
       "      <td>True</td>\n",
       "      <td>Spring</td>\n",
       "      <td>Evening</td>\n",
       "      <td>600 E MARKET ST</td>\n",
       "      <td>38.030175</td>\n",
       "      <td>-78.477574</td>\n",
       "      <td>Downtown Mall</td>\n",
       "      <td>22902</td>\n",
       "    </tr>\n",
       "    <tr>\n",
       "      <th>4</th>\n",
       "      <td>5</td>\n",
       "      <td>Larceny - All Other</td>\n",
       "      <td>202500011866</td>\n",
       "      <td>CPD</td>\n",
       "      <td>Benbow, Lauren</td>\n",
       "      <td>2025-04-13 17:20:59</td>\n",
       "      <td>Sunday</td>\n",
       "      <td>True</td>\n",
       "      <td>Spring</td>\n",
       "      <td>Evening</td>\n",
       "      <td>300 E MAIN ST, 100</td>\n",
       "      <td>38.030104</td>\n",
       "      <td>-78.479945</td>\n",
       "      <td>Downtown Mall</td>\n",
       "      <td>22902</td>\n",
       "    </tr>\n",
       "  </tbody>\n",
       "</table>\n",
       "</div>"
      ],
      "text/plain": [
       "   RecordID                        Offense    IncidentID Agency  \\\n",
       "0         1            Motor Vehicle Theft  202500011887    CPD   \n",
       "1         2  Assist Agency - Backup/Assist  202500011876    CPD   \n",
       "2         3           Domestic Disturbance  202500011872    CPD   \n",
       "3         4                 Drunkeness DIP  202500011868    CPD   \n",
       "4         5            Larceny - All Other  202500011866    CPD   \n",
       "\n",
       "  ReportingOfficer                Date DayOfWeek  Weekend  Season TimeOfDay  \\\n",
       "0  Crowley, Raeann 2025-04-13 21:26:47    Sunday     True  Spring     Night   \n",
       "1    Bland, Johnnà 2025-04-13 19:10:10    Sunday     True  Spring   Evening   \n",
       "2    Hannay, Jacob 2025-04-13 18:03:41    Sunday     True  Spring   Evening   \n",
       "3   Benbow, Lauren 2025-04-13 17:26:54    Sunday     True  Spring   Evening   \n",
       "4   Benbow, Lauren 2025-04-13 17:20:59    Sunday     True  Spring   Evening   \n",
       "\n",
       "             FullStreet        lat        lon      neighborhood    zip  \n",
       "0     100 RIDGE ST, 322  38.029948 -78.484943               N/A  22902  \n",
       "1  1600 EMMET ST N, 335  38.057947 -78.493911       The Meadows  22901  \n",
       "2     100 CARLTON RD, A  38.026678 -78.468553  Martha Jefferson  22902  \n",
       "3       600 E MARKET ST  38.030175 -78.477574     Downtown Mall  22902  \n",
       "4    300 E MAIN ST, 100  38.030104 -78.479945     Downtown Mall  22902  "
      ]
     },
     "execution_count": 19,
     "metadata": {},
     "output_type": "execute_result"
    }
   ],
   "source": [
    "df.head()"
   ]
  },
  {
   "cell_type": "code",
   "execution_count": 20,
   "id": "c17276bb",
   "metadata": {
    "execution": {
     "iopub.execute_input": "2025-04-16T01:01:55.114251Z",
     "iopub.status.busy": "2025-04-16T01:01:55.113871Z",
     "iopub.status.idle": "2025-04-16T01:01:55.118067Z",
     "shell.execute_reply": "2025-04-16T01:01:55.117519Z"
    },
    "papermill": {
     "duration": 0.013694,
     "end_time": "2025-04-16T01:01:55.119012",
     "exception": false,
     "start_time": "2025-04-16T01:01:55.105318",
     "status": "completed"
    },
    "tags": []
   },
   "outputs": [
    {
     "data": {
      "text/plain": [
       "Index(['RecordID', 'Offense', 'IncidentID', 'Agency', 'ReportingOfficer',\n",
       "       'Date', 'DayOfWeek', 'Weekend', 'Season', 'TimeOfDay', 'FullStreet',\n",
       "       'lat', 'lon', 'neighborhood', 'zip'],\n",
       "      dtype='object')"
      ]
     },
     "execution_count": 20,
     "metadata": {},
     "output_type": "execute_result"
    }
   ],
   "source": [
    "df.columns"
   ]
  },
  {
   "cell_type": "markdown",
   "id": "a18ed6fc",
   "metadata": {
    "papermill": {
     "duration": 0.007988,
     "end_time": "2025-04-16T01:01:55.135201",
     "exception": false,
     "start_time": "2025-04-16T01:01:55.127213",
     "status": "completed"
    },
    "tags": []
   },
   "source": [
    "### Data Preparation\n",
    "\n",
    "We need to ensure the data is in the correct format for modeling and can handle missing values, categorical variables, and dates. Here's how to prepare your data:"
   ]
  },
  {
   "cell_type": "code",
   "execution_count": 21,
   "id": "827275e8",
   "metadata": {
    "execution": {
     "iopub.execute_input": "2025-04-16T01:01:55.152408Z",
     "iopub.status.busy": "2025-04-16T01:01:55.151842Z",
     "iopub.status.idle": "2025-04-16T01:01:56.890975Z",
     "shell.execute_reply": "2025-04-16T01:01:56.890252Z"
    },
    "papermill": {
     "duration": 1.749178,
     "end_time": "2025-04-16T01:01:56.892415",
     "exception": false,
     "start_time": "2025-04-16T01:01:55.143237",
     "status": "completed"
    },
    "tags": []
   },
   "outputs": [],
   "source": [
    "import pandas as pd\n",
    "from sklearn.model_selection import train_test_split\n",
    "from sklearn.preprocessing import OneHotEncoder, LabelEncoder\n",
    "from sklearn.ensemble import RandomForestClassifier\n",
    "from sklearn.linear_model import LogisticRegression\n",
    "from sklearn.tree import DecisionTreeClassifier\n",
    "from sklearn.metrics import classification_report, accuracy_score\n",
    "import seaborn as sns\n",
    "import matplotlib.pyplot as plt\n",
    "\n",
    "# Convert 'Date' to datetime\n",
    "df['Date'] = pd.to_datetime(df['Date'])\n",
    "\n",
    "# Feature engineering: Extract additional time-based features\n",
    "df['Year'] = df['Date'].dt.year\n",
    "df['Month'] = df['Date'].dt.month\n",
    "df['DayOfMonth'] = df['Date'].dt.day\n",
    "\n",
    "# One-hot encoding for 'FullStreet', 'neighborhood', 'zip'\n",
    "df = pd.get_dummies(df, columns=['FullStreet', 'neighborhood', 'zip'], drop_first=True)\n",
    "\n",
    "# Label encoding for ordered variables (those with a natural order like 'DayOfWeek', 'Season', 'TimeOfDay')\n",
    "label_encoders = {}\n",
    "for column in ['DayOfWeek', 'Season', 'TimeOfDay', 'Agency', 'ReportingOfficer']:  # Example ordinal variables\n",
    "    le = LabelEncoder()\n",
    "    df[column] = le.fit_transform(df[column])\n",
    "    label_encoders[column] = le\n",
    "\n",
    "# Filter the dataset to include only the offenses of interest\n",
    "offenses_of_interest = [\n",
    "    'Hit and Run', 'Assault Simple', 'Suspicious Activity', 'Vandalism', \n",
    "    'Larceny - From Mot Vehicle', 'Larceny - All Other', \n",
    "    'Assist Citizen - Mental/TDO/ECO', 'Lost/FoundProperty'\n",
    "]\n",
    "\n",
    "df = df[df['Offense'].isin(offenses_of_interest)]\n",
    "\n",
    "# Label encode the target variable (Offense)\n",
    "offense_encoder = LabelEncoder()\n",
    "df['Offense'] = offense_encoder.fit_transform(df['Offense'])\n",
    "\n",
    "# Separate features (X) and target (y)\n",
    "X = df[['Year', 'Month', 'DayOfMonth', 'DayOfWeek', 'Weekend', 'Season', 'TimeOfDay', 'lat', 'lon', 'Agency', 'ReportingOfficer']]\n",
    "y = df['Offense']  # Offense is now the encoded target variable\n",
    "\n",
    "# Split the data into training and testing sets\n",
    "X_train, X_test, y_train, y_test = train_test_split(X, y, test_size=0.3, random_state=42)\n"
   ]
  },
  {
   "cell_type": "markdown",
   "id": "d9d0636e",
   "metadata": {
    "papermill": {
     "duration": 0.008089,
     "end_time": "2025-04-16T01:01:56.909166",
     "exception": false,
     "start_time": "2025-04-16T01:01:56.901077",
     "status": "completed"
    },
    "tags": []
   },
   "source": [
    "### Model Training\n",
    "\n",
    "Here we will train several models (e.g., Random Forest, Logistic Regression, and Decision Tree). We will use cross-validation to choose the best model based on accuracy, and then explain the impact of the variables."
   ]
  },
  {
   "cell_type": "code",
   "execution_count": 22,
   "id": "b2d07e83",
   "metadata": {
    "execution": {
     "iopub.execute_input": "2025-04-16T01:01:56.926437Z",
     "iopub.status.busy": "2025-04-16T01:01:56.926126Z",
     "iopub.status.idle": "2025-04-16T01:02:00.512750Z",
     "shell.execute_reply": "2025-04-16T01:02:00.512168Z"
    },
    "papermill": {
     "duration": 3.596486,
     "end_time": "2025-04-16T01:02:00.513751",
     "exception": false,
     "start_time": "2025-04-16T01:01:56.917265",
     "status": "completed"
    },
    "tags": []
   },
   "outputs": [
    {
     "name": "stderr",
     "output_type": "stream",
     "text": [
      "/opt/hostedtoolcache/Python/3.9.21/x64/lib/python3.9/site-packages/sklearn/linear_model/_logistic.py:465: ConvergenceWarning: lbfgs failed to converge (status=1):\n",
      "STOP: TOTAL NO. of ITERATIONS REACHED LIMIT.\n",
      "\n",
      "Increase the number of iterations (max_iter) or scale the data as shown in:\n",
      "    https://scikit-learn.org/stable/modules/preprocessing.html\n",
      "Please also refer to the documentation for alternative solver options:\n",
      "    https://scikit-learn.org/stable/modules/linear_model.html#logistic-regression\n",
      "  n_iter_i = _check_optimize_result(\n",
      "/opt/hostedtoolcache/Python/3.9.21/x64/lib/python3.9/site-packages/sklearn/metrics/_classification.py:1565: UndefinedMetricWarning: Precision is ill-defined and being set to 0.0 in labels with no predicted samples. Use `zero_division` parameter to control this behavior.\n",
      "  _warn_prf(average, modifier, f\"{metric.capitalize()} is\", len(result))\n",
      "/opt/hostedtoolcache/Python/3.9.21/x64/lib/python3.9/site-packages/sklearn/metrics/_classification.py:1565: UndefinedMetricWarning: Precision is ill-defined and being set to 0.0 in labels with no predicted samples. Use `zero_division` parameter to control this behavior.\n",
      "  _warn_prf(average, modifier, f\"{metric.capitalize()} is\", len(result))\n",
      "/opt/hostedtoolcache/Python/3.9.21/x64/lib/python3.9/site-packages/sklearn/metrics/_classification.py:1565: UndefinedMetricWarning: Precision is ill-defined and being set to 0.0 in labels with no predicted samples. Use `zero_division` parameter to control this behavior.\n",
      "  _warn_prf(average, modifier, f\"{metric.capitalize()} is\", len(result))\n"
     ]
    },
    {
     "name": "stdout",
     "output_type": "stream",
     "text": [
      "\n",
      "Classification Report for All Models:\n",
      "\n",
      "Model: RandomForest\n",
      "Accuracy: 0.2894\n",
      "              precision    recall  f1-score      support\n",
      "0              0.281250  0.323002  0.300683   613.000000\n",
      "1              0.300595  0.228507  0.259640   442.000000\n",
      "2              0.312008  0.486943  0.380324   651.000000\n",
      "3              0.203008  0.199017  0.200993   407.000000\n",
      "4              0.338164  0.201149  0.252252   348.000000\n",
      "5              0.254762  0.216599  0.234136   494.000000\n",
      "6              0.336898  0.251497  0.288000   501.000000\n",
      "accuracy       0.289352  0.289352  0.289352     0.289352\n",
      "macro avg      0.289526  0.272388  0.273718  3456.000000\n",
      "weighted avg   0.290315  0.289352  0.282468  3456.000000\n"
     ]
    },
    {
     "data": {
      "image/png": "[encoded data removed]",
      "text/plain": [
       "<Figure size 800x600 with 2 Axes>"
      ]
     },
     "metadata": {},
     "output_type": "display_data"
    },
    {
     "name": "stdout",
     "output_type": "stream",
     "text": [
      "\n",
      "Model: LogisticRegression\n",
      "Accuracy: 0.2144\n",
      "              precision    recall  f1-score     support\n",
      "0              0.208272  0.460033  0.286731   613.00000\n",
      "1              0.000000  0.000000  0.000000   442.00000\n",
      "2              0.218363  0.705069  0.333454   651.00000\n",
      "3              0.000000  0.000000  0.000000   407.00000\n",
      "4              0.000000  0.000000  0.000000   348.00000\n",
      "5              0.000000  0.000000  0.000000   494.00000\n",
      "6              0.000000  0.000000  0.000000   501.00000\n",
      "accuracy       0.214410  0.214410  0.214410     0.21441\n",
      "macro avg      0.060948  0.166443  0.088598  3456.00000\n",
      "weighted avg   0.078074  0.214410  0.113670  3456.00000\n"
     ]
    },
    {
     "data": {
      "image/png": "[encoded data removed]",
      "text/plain": [
       "<Figure size 800x600 with 2 Axes>"
      ]
     },
     "metadata": {},
     "output_type": "display_data"
    },
    {
     "name": "stdout",
     "output_type": "stream",
     "text": [
      "\n",
      "Model: DecisionTree\n",
      "Accuracy: 0.2147\n",
      "              precision    recall  f1-score      support\n",
      "0              0.235800  0.223491  0.229481   613.000000\n",
      "1              0.223325  0.203620  0.213018   442.000000\n",
      "2              0.270229  0.271889  0.271057   651.000000\n",
      "3              0.160944  0.184275  0.171821   407.000000\n",
      "4              0.195906  0.192529  0.194203   348.000000\n",
      "5              0.179537  0.188259  0.183794   494.000000\n",
      "6              0.209776  0.205589  0.207661   501.000000\n",
      "accuracy       0.214699  0.214699  0.214699     0.214699\n",
      "macro avg      0.210788  0.209950  0.210148  3456.000000\n",
      "weighted avg   0.216043  0.214699  0.215171  3456.000000\n"
     ]
    },
    {
     "data": {
      "image/png": "[encoded data removed]",
      "text/plain": [
       "<Figure size 800x600 with 2 Axes>"
      ]
     },
     "metadata": {},
     "output_type": "display_data"
    },
    {
     "name": "stdout",
     "output_type": "stream",
     "text": [
      "\n",
      "Best Model:\n",
      "Best Model: RandomForestClassifier()\n",
      "Best Model Accuracy: 0.2894\n"
     ]
    }
   ],
   "source": [
    "import pandas as pd\n",
    "from sklearn.model_selection import train_test_split\n",
    "from sklearn.ensemble import RandomForestClassifier\n",
    "from sklearn.linear_model import LogisticRegression\n",
    "from sklearn.tree import DecisionTreeClassifier\n",
    "from sklearn.metrics import classification_report, accuracy_score, confusion_matrix\n",
    "import seaborn as sns\n",
    "import matplotlib.pyplot as plt\n",
    "\n",
    "# Define models\n",
    "models = {\n",
    "    'RandomForest': RandomForestClassifier(),\n",
    "    'LogisticRegression': LogisticRegression(max_iter=1000),\n",
    "    'DecisionTree': DecisionTreeClassifier()\n",
    "}\n",
    "\n",
    "# Train models and evaluate them\n",
    "best_model = None\n",
    "best_score = 0\n",
    "model_reports = {}\n",
    "\n",
    "for model_name, model in models.items():\n",
    "    model.fit(X_train, y_train)  # Train model\n",
    "    y_pred = model.predict(X_test)  # Make predictions\n",
    "    \n",
    "    # Calculate accuracy and generate classification report\n",
    "    accuracy = accuracy_score(y_test, y_pred)\n",
    "    model_reports[model_name] = classification_report(y_test, y_pred, output_dict=True)  # Store as a dictionary for easier analysis\n",
    "    \n",
    "    # Track best performing model\n",
    "    if accuracy > best_score:\n",
    "        best_score = accuracy\n",
    "        best_model = model\n",
    "\n",
    "# Display classification reports and confusion matrices\n",
    "print(\"\\nClassification Report for All Models:\")\n",
    "for model_name, report in model_reports.items():\n",
    "    print(f\"\\nModel: {model_name}\")\n",
    "    print(\"Accuracy: {:.4f}\".format(accuracy_score(y_test, models[model_name].predict(X_test))))  # Display accuracy\n",
    "    print(pd.DataFrame(report).transpose())  # Display classification report as a DataFrame\n",
    "\n",
    "    # Plot Confusion Matrix\n",
    "    cm = confusion_matrix(y_test, models[model_name].predict(X_test))\n",
    "    plt.figure(figsize=(8, 6))\n",
    "    sns.heatmap(cm, annot=True, fmt=\"d\", cmap='Blues', xticklabels=offense_encoder.classes_, yticklabels=offense_encoder.classes_)\n",
    "    plt.title(f\"Confusion Matrix - {model_name}\")\n",
    "    plt.xlabel('Predicted Labels')\n",
    "    plt.ylabel('True Labels')\n",
    "    plt.show()\n",
    "\n",
    "# Display best model details\n",
    "print(\"\\nBest Model:\")\n",
    "print(f\"Best Model: {best_model}\")\n",
    "print(f\"Best Model Accuracy: {best_score:.4f}\")\n"
   ]
  },
  {
   "cell_type": "markdown",
   "id": "24914c8e",
   "metadata": {
    "papermill": {
     "duration": 0.010495,
     "end_time": "2025-04-16T01:02:00.535878",
     "exception": false,
     "start_time": "2025-04-16T01:02:00.525383",
     "status": "completed"
    },
    "tags": []
   },
   "source": [
    "#### Classification Report for All Models:\n",
    "\n",
    "### Explanation of the Classification Results (RandomForest Model)\n",
    "\n",
    "The results you provided are from a **Random Forest** model, which is used for predicting different types of offenses. Let's break down the key components of the results:\n",
    "\n",
    "#### 1. **Accuracy: 0.2822**\n",
    "   - **Accuracy** measures the overall percentage of correct predictions made by the model. An accuracy of 28.22% means the model correctly predicted the offense in about 28% of the cases. This indicates the model's predictions are not highly reliable, as the accuracy is quite low.\n",
    "\n",
    "#### 2. **Classification Report:**\n",
    "   The classification report includes precision, recall, and F1-score for each offense. Let's go over these terms and how they apply to the results:\n",
    "\n",
    "   - **Precision**: The proportion of true positive predictions out of all positive predictions made by the model for a specific class (offense).\n",
    "   - **Recall**: The proportion of true positive predictions out of all actual positive instances in the dataset.\n",
    "   - **F1-Score**: The harmonic mean of precision and recall, providing a balance between the two metrics.\n",
    "   - **Support**: The number of actual occurrences of each class in the test set.\n",
    "\n",
    "   Let's analyze each offense based on these metrics:\n",
    "\n",
    "   | **Offense**                        | **Precision** | **Recall** | **F1-Score** | **Support** |\n",
    "   |------------------------------------|---------------|------------|--------------|-------------|\n",
    "   | **Assault Simple**                 | 0.2892        | 0.3754     | 0.3267       | 594         |\n",
    "   | **Assist Citizen - Mental/TDO/ECO**| 0.3182        | 0.2274     | 0.2652       | 431         |\n",
    "   | **Hit and Run**                    | 0.2963        | 0.4765     | 0.3654       | 638         |\n",
    "   | **Larceny - All Other**            | 0.2270        | 0.1453     | 0.1772       | 475         |\n",
    "   | **Lost/FoundProperty**             | 0.3333        | 0.2102     | 0.2578       | 352         |\n",
    "   | **Suspicious Activity**            | 0.2344        | 0.2169     | 0.2253       | 484         |\n",
    "   | **Vandalism**                      | 0.2712        | 0.2106     | 0.2371       | 470         |\n",
    "\n",
    "#### 3. **Key Insights from the Report:**\n",
    "\n",
    "- **Precision**:\n",
    "   - The highest precision is for **Larceny - All Other** (0.3333), indicating that when the model predicts this offense, it is correct about 33% of the time. However, this is still quite low.\n",
    "   - **Assist Citizen - Mental/TDO/ECO** has the lowest precision (0.2269), meaning that the model's predictions for this offense tend to be wrong more often than correct.\n",
    "\n",
    "- **Recall**:\n",
    "   - **Hit and Run** has the highest recall (0.4765), meaning the model identifies about 48% of the actual occurrences of this offense. This is better than the precision, which indicates it is missing many true positives but is still able to identify a fair number of cases.\n",
    "   - **Larceny - All Other** and **Suspicious Activity** have the lowest recall values (0.1453 and 0.2169, respectively), indicating that the model is failing to identify most of the actual cases for these offenses.\n",
    "\n",
    "- **F1-Score**:\n",
    "   - The **F1-Score** balances precision and recall. It is highest for **Hit and Run** (0.3654), but still relatively low overall. This suggests the model is better at identifying **Hit and Run** than other offenses but still has room for improvement.\n",
    "   - **Larceny - All Other** has the lowest F1-Score (0.1772), indicating a poor balance between precision and recall for this offense.\n",
    "\n",
    "#### 4. **Macro Average and Weighted Average:**\n",
    "   - **Macro Average**: This gives the average precision, recall, and F1-Score across all classes (offenses) without considering the class distribution. It averages the results for all offenses equally.\n",
    "     - Precision: 0.2814\n",
    "     - Recall: 0.2661\n",
    "     - F1-Score: 0.2649\n",
    "   - **Weighted Average**: This averages the metrics but weighs each class by its support (the number of true instances in the test set). This gives a better sense of overall performance, considering the class distribution.\n",
    "     - Precision: 0.2799\n",
    "     - Recall: 0.2822\n",
    "     - F1-Score: 0.2720\n",
    "\n",
    "#### 5. **Confusion Matrix (Visualization Analysis)**:\n",
    "   - The confusion matrix shows the distribution of true positive, false positive, true negative, and false negative predictions for each class.\n",
    "     - For **Hit and Run**, the model performs relatively well in identifying this offense (304 true positives). However, it also misclassifies some **Hit and Run** instances as other offenses (e.g., **Assault Simple**, **Suspicious Activity**, etc.).\n",
    "     - **Larceny - All Other** is frequently misclassified as **Hit and Run**, **Suspicious Activity**, and others. This is evident from the large number of off-diagonal elements in its row.\n",
    "     - **Assist Citizen - Mental/TDO/ECO** and **Suspicious Activity** are frequently misclassified, as seen by the off-diagonal values in their rows.\n",
    "\n",
    "### Conclusion:\n",
    "The Random Forest model has low accuracy (28.22%), suggesting that it struggles to predict most offenses accurately. Some offenses like **Hit and Run** are better predicted than others, but overall, the model shows a high level of misclassification across all offenses. There may be a need for further tuning of the model, additional feature engineering, or trying different models for better performance.\n",
    "\n",
    "Let me know if you'd like to improve the model or make adjustments based on these results!\n",
    "\n"
   ]
  },
  {
   "cell_type": "markdown",
   "id": "be3f2a85",
   "metadata": {
    "papermill": {
     "duration": 0.010594,
     "end_time": "2025-04-16T01:02:00.557106",
     "exception": false,
     "start_time": "2025-04-16T01:02:00.546512",
     "status": "completed"
    },
    "tags": []
   },
   "source": [
    "### Model Explanation\n",
    "\n",
    "Once we’ve chosen the best model, we will explain its predictions by examining feature importance for tree-based models and using statistical methods like logistic regression coefficients for linear models."
   ]
  },
  {
   "cell_type": "markdown",
   "id": "7382819d",
   "metadata": {
    "papermill": {
     "duration": 0.010543,
     "end_time": "2025-04-16T01:02:00.578348",
     "exception": false,
     "start_time": "2025-04-16T01:02:00.567805",
     "status": "completed"
    },
    "tags": []
   },
   "source": [
    "#### Feature Importance for Random Forest / Decision Tree\n",
    "\n",
    "##### For Tree-based Models (Random Forest, Decision Tree)\n",
    "\n",
    "For Random Forest or Decision Tree, we can look at feature importance to understand which variables contribute the most to the model's predictions. Here's how you can visualize and interpret the importance of each feature:"
   ]
  },
  {
   "cell_type": "code",
   "execution_count": 23,
   "id": "94f9452f",
   "metadata": {
    "execution": {
     "iopub.execute_input": "2025-04-16T01:02:00.600746Z",
     "iopub.status.busy": "2025-04-16T01:02:00.600503Z",
     "iopub.status.idle": "2025-04-16T01:02:00.766369Z",
     "shell.execute_reply": "2025-04-16T01:02:00.765686Z"
    },
    "papermill": {
     "duration": 0.178363,
     "end_time": "2025-04-16T01:02:00.767384",
     "exception": false,
     "start_time": "2025-04-16T01:02:00.589021",
     "status": "completed"
    },
    "tags": []
   },
   "outputs": [
    {
     "data": {
      "image/png": "[encoded data removed]",
      "text/plain": [
       "<Figure size 1000x600 with 1 Axes>"
      ]
     },
     "metadata": {},
     "output_type": "display_data"
    }
   ],
   "source": [
    "# For RandomForest or DecisionTree models, we can check feature importance\n",
    "if isinstance(best_model, RandomForestClassifier) or isinstance(best_model, DecisionTreeClassifier):\n",
    "    feature_importance = best_model.feature_importances_\n",
    "    feature_names = X.columns\n",
    "    importance_df = pd.DataFrame({'Feature': feature_names, 'Importance': feature_importance})\n",
    "    importance_df = importance_df.sort_values(by='Importance', ascending=False)\n",
    "    \n",
    "    # Plotting the feature importances\n",
    "    plt.figure(figsize=(10, 6))\n",
    "    sns.barplot(x='Importance', y='Feature', data=importance_df)\n",
    "    plt.title(\"Feature Importance\")\n",
    "    plt.show()\n"
   ]
  },
  {
   "cell_type": "code",
   "execution_count": null,
   "id": "7b2a4529",
   "metadata": {
    "papermill": {
     "duration": 0.011077,
     "end_time": "2025-04-16T01:02:00.790069",
     "exception": false,
     "start_time": "2025-04-16T01:02:00.778992",
     "status": "completed"
    },
    "tags": []
   },
   "outputs": [],
   "source": []
  },
  {
   "cell_type": "markdown",
   "id": "2afe14a1",
   "metadata": {
    "papermill": {
     "duration": 0.011091,
     "end_time": "2025-04-16T01:02:00.812263",
     "exception": false,
     "start_time": "2025-04-16T01:02:00.801172",
     "status": "completed"
    },
    "tags": []
   },
   "source": [
    "### Evaluation\n",
    "\n",
    "After training the models and examining their performance, we evaluate the chosen model based on metrics like accuracy, precision, recall, and F1 score.\n",
    "\n"
   ]
  },
  {
   "cell_type": "code",
   "execution_count": 24,
   "id": "270b0f58",
   "metadata": {
    "execution": {
     "iopub.execute_input": "2025-04-16T01:02:00.835387Z",
     "iopub.status.busy": "2025-04-16T01:02:00.834930Z",
     "iopub.status.idle": "2025-04-16T01:02:00.924108Z",
     "shell.execute_reply": "2025-04-16T01:02:00.923438Z"
    },
    "papermill": {
     "duration": 0.101932,
     "end_time": "2025-04-16T01:02:00.925201",
     "exception": false,
     "start_time": "2025-04-16T01:02:00.823269",
     "status": "completed"
    },
    "tags": []
   },
   "outputs": [
    {
     "name": "stdout",
     "output_type": "stream",
     "text": [
      "Accuracy: 0.2894\n",
      "Classification Report:\n",
      "              precision    recall  f1-score   support\n",
      "\n",
      "           0       0.28      0.32      0.30       613\n",
      "           1       0.30      0.23      0.26       442\n",
      "           2       0.31      0.49      0.38       651\n",
      "           3       0.20      0.20      0.20       407\n",
      "           4       0.34      0.20      0.25       348\n",
      "           5       0.25      0.22      0.23       494\n",
      "           6       0.34      0.25      0.29       501\n",
      "\n",
      "    accuracy                           0.29      3456\n",
      "   macro avg       0.29      0.27      0.27      3456\n",
      "weighted avg       0.29      0.29      0.28      3456\n",
      "\n",
      "Confusion Matrix:\n",
      "[[198  70 156  60  23  70  36]\n",
      " [ 91 101 117  36  12  57  28]\n",
      " [105  44 317  62  22  58  43]\n",
      " [ 74  19 121  81  25  37  50]\n",
      " [ 60  32  63  43  70  32  48]\n",
      " [101  36 129  53  25 107  43]\n",
      " [ 75  34 113  64  30  59 126]]\n",
      "Precision: 0.2903\n",
      "Recall: 0.2894\n",
      "F1 Score: 0.2825\n"
     ]
    }
   ],
   "source": [
    "from sklearn.metrics import classification_report, confusion_matrix, accuracy_score, precision_score, recall_score, f1_score\n",
    "\n",
    "# Predict on the test set\n",
    "y_pred = best_model.predict(X_test)\n",
    "\n",
    "# Calculate Accuracy\n",
    "accuracy = accuracy_score(y_test, y_pred)\n",
    "print(f\"Accuracy: {accuracy:.4f}\")\n",
    "\n",
    "# Classification Report\n",
    "print(\"Classification Report:\")\n",
    "print(classification_report(y_test, y_pred))\n",
    "\n",
    "# Confusion Matrix\n",
    "conf_matrix = confusion_matrix(y_test, y_pred)\n",
    "print(\"Confusion Matrix:\")\n",
    "print(conf_matrix)\n",
    "\n",
    "# Precision, Recall, F1 Score for each class (Offense Type)\n",
    "precision = precision_score(y_test, y_pred, average='weighted')\n",
    "recall = recall_score(y_test, y_pred, average='weighted')\n",
    "f1 = f1_score(y_test, y_pred, average='weighted')\n",
    "\n",
    "print(f\"Precision: {precision:.4f}\")\n",
    "print(f\"Recall: {recall:.4f}\")\n",
    "print(f\"F1 Score: {f1:.4f}\")\n"
   ]
  },
  {
   "cell_type": "markdown",
   "id": "b1c013db",
   "metadata": {
    "papermill": {
     "duration": 0.011174,
     "end_time": "2025-04-16T01:02:00.948031",
     "exception": false,
     "start_time": "2025-04-16T01:02:00.936857",
     "status": "completed"
    },
    "tags": []
   },
   "source": [
    "#### For Logistic Regression (Coefficient Interpretation)\n",
    "\n",
    "For Logistic Regression, the model coefficients can help us understand how each feature affects the likelihood of an offense happening. A positive coefficient indicates a feature increases the likelihood of the offense, and a negative coefficient indicates the opposite."
   ]
  },
  {
   "cell_type": "code",
   "execution_count": 25,
   "id": "a109e2ae",
   "metadata": {
    "execution": {
     "iopub.execute_input": "2025-04-16T01:02:00.971499Z",
     "iopub.status.busy": "2025-04-16T01:02:00.971079Z",
     "iopub.status.idle": "2025-04-16T01:02:00.975599Z",
     "shell.execute_reply": "2025-04-16T01:02:00.975077Z"
    },
    "papermill": {
     "duration": 0.017432,
     "end_time": "2025-04-16T01:02:00.976620",
     "exception": false,
     "start_time": "2025-04-16T01:02:00.959188",
     "status": "completed"
    },
    "tags": []
   },
   "outputs": [],
   "source": [
    "if isinstance(best_model, LogisticRegression):\n",
    "    # Logistic regression coefficients\n",
    "    coef_df = pd.DataFrame({\n",
    "        'Feature': X.columns,\n",
    "        'Coefficient': best_model.coef_[0]\n",
    "    })\n",
    "    coef_df['AbsCoefficient'] = coef_df['Coefficient'].abs()\n",
    "    coef_df = coef_df.sort_values(by='AbsCoefficient', ascending=False)\n",
    "    \n",
    "    # Plotting the coefficients\n",
    "    plt.figure(figsize=(10, 6))\n",
    "    sns.barplot(x='AbsCoefficient', y='Feature', data=coef_df)\n",
    "    plt.title(\"Logistic Regression Coefficients Impact\")\n",
    "    plt.show()\n",
    "\n",
    "    # Print the top 5 most impactful features (by absolute coefficient value)\n",
    "    print(\"Top 5 most impactful features based on coefficients:\")\n",
    "    print(coef_df.head())\n"
   ]
  },
  {
   "cell_type": "markdown",
   "id": "c7d0d254",
   "metadata": {
    "papermill": {
     "duration": 0.011158,
     "end_time": "2025-04-16T01:02:00.999092",
     "exception": false,
     "start_time": "2025-04-16T01:02:00.987934",
     "status": "completed"
    },
    "tags": []
   },
   "source": [
    "Explanation of Output:\n",
    "\n",
    "Feature Importance (Random Forest/Decision Tree): The bar plot will show how important each feature is in the decision-making process. Features at the top of the list are the most influential in predicting the occurrence of offenses.\n",
    "\n",
    "Logistic Regression Coefficients: The bar plot will show the magnitude of the coefficients for each feature. Features with larger absolute values (either positive or negative) have a stronger impact on the model’s predictions. Positive coefficients increase the probability of an offense, while negative coefficients decrease it."
   ]
  },
  {
   "cell_type": "markdown",
   "id": "465614b7",
   "metadata": {
    "papermill": {
     "duration": 0.011169,
     "end_time": "2025-04-16T01:02:01.021396",
     "exception": false,
     "start_time": "2025-04-16T01:02:01.010227",
     "status": "completed"
    },
    "tags": []
   },
   "source": []
  }
 ],
 "metadata": {
  "kernelspec": {
   "display_name": "Python 3",
   "language": "python",
   "name": "python3"
  },
  "language_info": {
   "codemirror_mode": {
    "name": "ipython",
    "version": 3
   },
   "file_extension": ".py",
   "mimetype": "text/x-python",
   "name": "python",
   "nbconvert_exporter": "python",
   "pygments_lexer": "ipython3",
   "version": "3.9.21"
  },
  "papermill": {
   "default_parameters": {},
   "duration": 78.036194,
   "end_time": "2025-04-16T01:02:01.448748",
   "environment_variables": {},
   "exception": null,
   "input_path": "notebook/Crime Data.ipynb",
   "output_path": "notebook/Crime Data_output.ipynb",
   "parameters": {},
   "start_time": "2025-04-16T01:00:43.412554",
   "version": "2.6.0"
  }
 },
 "nbformat": 4,
 "nbformat_minor": 5
}