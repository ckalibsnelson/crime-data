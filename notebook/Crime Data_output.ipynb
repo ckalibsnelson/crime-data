{
 "cells": [
  {
   "cell_type": "markdown",
   "id": "19cd8b46",
   "metadata": {
    "papermill": {
     "duration": 0.004438,
     "end_time": "2025-06-09T01:07:47.470464",
     "exception": false,
     "start_time": "2025-06-09T01:07:47.466026",
     "status": "completed"
    },
    "tags": []
   },
   "source": [
    "# Charlottesville Open Data Porttal: Crime Data"
   ]
  },
  {
   "cell_type": "markdown",
   "id": "4fd40177",
   "metadata": {
    "papermill": {
     "duration": 0.003419,
     "end_time": "2025-06-09T01:07:47.477721",
     "exception": false,
     "start_time": "2025-06-09T01:07:47.474302",
     "status": "completed"
    },
    "tags": []
   },
   "source": [
    "## Import Relevant Librarires & Set WD"
   ]
  },
  {
   "cell_type": "code",
   "execution_count": 1,
   "id": "05154d9f",
   "metadata": {
    "execution": {
     "iopub.execute_input": "2025-06-09T01:07:47.485972Z",
     "iopub.status.busy": "2025-06-09T01:07:47.485458Z",
     "iopub.status.idle": "2025-06-09T01:07:48.224274Z",
     "shell.execute_reply": "2025-06-09T01:07:48.223517Z"
    },
    "papermill": {
     "duration": 0.744712,
     "end_time": "2025-06-09T01:07:48.225811",
     "exception": false,
     "start_time": "2025-06-09T01:07:47.481099",
     "status": "completed"
    },
    "tags": []
   },
   "outputs": [],
   "source": [
    "import requests\n",
    "import pandas as pd\n",
    "import numpy as np\n",
    "import pickle\n",
    "import googlemaps\n",
    "import plotly.express as px\n",
    "from geopy.geocoders import Nominatim\n",
    "import time\n",
    "from dotenv import load_dotenv\n",
    "import os\n",
    "\n",
    "env_path = os.path.join(\"..\", \".env\")\n",
    "#print(\"Looking for .env file at:\", os.path.abspath(env_path))\n",
    "load_dotenv(dotenv_path=env_path)\n",
    "\n",
    "# Retrieve the variables\n",
    "GOOGLE_API_KEY = os.getenv(\"GOOGLE_API_KEY\")\n",
    "WORKING_DIR = os.getenv(\"WORKING_DIR\")\n",
    "\n",
    "if GOOGLE_API_KEY is None or WORKING_DIR is None:\n",
    "    raise RuntimeError(\"No configuration found. Please ensure that your .env file exists with the required variables, or create a local config.py file.\")\n",
    "\n",
    "#print(\"Google API Key:\", GOOGLE_API_KEY)\n",
    "#print(\"Working Directory:\", WORKING_DIR)"
   ]
  },
  {
   "cell_type": "markdown",
   "id": "ed51035b",
   "metadata": {
    "papermill": {
     "duration": 0.003512,
     "end_time": "2025-06-09T01:07:48.233225",
     "exception": false,
     "start_time": "2025-06-09T01:07:48.229713",
     "status": "completed"
    },
    "tags": []
   },
   "source": [
    "## Import Data\n",
    "\n",
    "URL: https://opendata.charlottesville.org/datasets/charlottesville::crime-data/about"
   ]
  },
  {
   "cell_type": "code",
   "execution_count": 2,
   "id": "606ef2f7",
   "metadata": {
    "execution": {
     "iopub.execute_input": "2025-06-09T01:07:48.241942Z",
     "iopub.status.busy": "2025-06-09T01:07:48.241211Z",
     "iopub.status.idle": "2025-06-09T01:08:53.740863Z",
     "shell.execute_reply": "2025-06-09T01:08:53.740128Z"
    },
    "papermill": {
     "duration": 65.508277,
     "end_time": "2025-06-09T01:08:53.745006",
     "exception": false,
     "start_time": "2025-06-09T01:07:48.236729",
     "status": "completed"
    },
    "tags": []
   },
   "outputs": [
    {
     "name": "stdout",
     "output_type": "stream",
     "text": [
      "Total records imported: 25469\n"
     ]
    }
   ],
   "source": [
    "# Define the endpoint and initial parameters.\n",
    "url = \"https://gisweb.charlottesville.org/arcgis/rest/services/OpenData_2/MapServer/6/query\"\n",
    "params = {\n",
    "    \"where\": \"1=1\",\n",
    "    \"outFields\": \"*\",\n",
    "    \"outSR\": 4326,\n",
    "    \"f\": \"json\",\n",
    "    \"resultOffset\": 0,       # Starting index for results\n",
    "    \"resultRecordCount\": 10000  # Maximum records per batch (if allowed by the API)\n",
    "}\n",
    "\n",
    "records = []\n",
    "\n",
    "while True:\n",
    "    response = requests.get(url, params=params)\n",
    "    response.raise_for_status()\n",
    "    data = response.json()\n",
    "    \n",
    "    # Get the current batch of features.\n",
    "    features = data.get(\"features\", [])\n",
    "    if not features:\n",
    "        break\n",
    "\n",
    "    # Extract the attributes from the features.\n",
    "    batch_records = [feature.get(\"attributes\", {}) for feature in features]\n",
    "    records.extend(batch_records)\n",
    "    \n",
    "    # If the batch size is less than the requested count, we reached the end.\n",
    "    if len(features) < params[\"resultRecordCount\"]:\n",
    "        break\n",
    "\n",
    "    # Update the resultOffset for the next batch.\n",
    "    params[\"resultOffset\"] += params[\"resultRecordCount\"]\n",
    "\n",
    "# Create a DataFrame from the combined records.\n",
    "df = pd.DataFrame(records)\n",
    "print(\"Total records imported:\", len(df))\n"
   ]
  },
  {
   "cell_type": "code",
   "execution_count": 3,
   "id": "03483087",
   "metadata": {
    "execution": {
     "iopub.execute_input": "2025-06-09T01:08:53.753000Z",
     "iopub.status.busy": "2025-06-09T01:08:53.752738Z",
     "iopub.status.idle": "2025-06-09T01:08:53.764973Z",
     "shell.execute_reply": "2025-06-09T01:08:53.764395Z"
    },
    "papermill": {
     "duration": 0.017431,
     "end_time": "2025-06-09T01:08:53.766012",
     "exception": false,
     "start_time": "2025-06-09T01:08:53.748581",
     "status": "completed"
    },
    "tags": []
   },
   "outputs": [
    {
     "data": {
      "text/html": [
       "<div>\n",
       "<style scoped>\n",
       "    .dataframe tbody tr th:only-of-type {\n",
       "        vertical-align: middle;\n",
       "    }\n",
       "\n",
       "    .dataframe tbody tr th {\n",
       "        vertical-align: top;\n",
       "    }\n",
       "\n",
       "    .dataframe thead th {\n",
       "        text-align: right;\n",
       "    }\n",
       "</style>\n",
       "<table border=\"1\" class=\"dataframe\">\n",
       "  <thead>\n",
       "    <tr style=\"text-align: right;\">\n",
       "      <th></th>\n",
       "      <th>RecordID</th>\n",
       "      <th>Offense</th>\n",
       "      <th>IncidentID</th>\n",
       "      <th>BlockNumber</th>\n",
       "      <th>StreetName</th>\n",
       "      <th>Agency</th>\n",
       "      <th>DateReported</th>\n",
       "      <th>HourReported</th>\n",
       "      <th>ReportingOfficer</th>\n",
       "    </tr>\n",
       "  </thead>\n",
       "  <tbody>\n",
       "    <tr>\n",
       "      <th>0</th>\n",
       "      <td>1</td>\n",
       "      <td>Lost/FoundProperty</td>\n",
       "      <td>202500019385</td>\n",
       "      <td>600</td>\n",
       "      <td>E MARKET ST</td>\n",
       "      <td>CPD</td>\n",
       "      <td>1749250555000</td>\n",
       "      <td>1855</td>\n",
       "      <td>Hudson, Jesse</td>\n",
       "    </tr>\n",
       "    <tr>\n",
       "      <th>1</th>\n",
       "      <td>2</td>\n",
       "      <td>Assault Simple</td>\n",
       "      <td>202500019379</td>\n",
       "      <td>900</td>\n",
       "      <td>ST CLAIR AVE</td>\n",
       "      <td>CPD</td>\n",
       "      <td>1749247873000</td>\n",
       "      <td>1811</td>\n",
       "      <td>Bentz, Benjamin</td>\n",
       "    </tr>\n",
       "    <tr>\n",
       "      <th>2</th>\n",
       "      <td>3</td>\n",
       "      <td>Vandalism</td>\n",
       "      <td>202500019373</td>\n",
       "      <td>800</td>\n",
       "      <td>PRESTON AVE</td>\n",
       "      <td>CPD</td>\n",
       "      <td>1749245708000</td>\n",
       "      <td>1735</td>\n",
       "      <td>Brannon, Devin</td>\n",
       "    </tr>\n",
       "    <tr>\n",
       "      <th>3</th>\n",
       "      <td>4</td>\n",
       "      <td>Vandalism</td>\n",
       "      <td>202500019370</td>\n",
       "      <td></td>\n",
       "      <td>9TH ST SW / PINE ST</td>\n",
       "      <td>CPD</td>\n",
       "      <td>1749242423000</td>\n",
       "      <td>1640</td>\n",
       "      <td>Essex, Dominique</td>\n",
       "    </tr>\n",
       "    <tr>\n",
       "      <th>4</th>\n",
       "      <td>5</td>\n",
       "      <td>Larceny - All Other</td>\n",
       "      <td>202500019359</td>\n",
       "      <td>1700</td>\n",
       "      <td>MONTICELLO RD</td>\n",
       "      <td>CPD</td>\n",
       "      <td>1749238132000</td>\n",
       "      <td>1528</td>\n",
       "      <td>Khaleefa, Hamzeh</td>\n",
       "    </tr>\n",
       "  </tbody>\n",
       "</table>\n",
       "</div>"
      ],
      "text/plain": [
       "   RecordID              Offense    IncidentID BlockNumber  \\\n",
       "0         1   Lost/FoundProperty  202500019385         600   \n",
       "1         2       Assault Simple  202500019379         900   \n",
       "2         3            Vandalism  202500019373         800   \n",
       "3         4            Vandalism  202500019370               \n",
       "4         5  Larceny - All Other  202500019359        1700   \n",
       "\n",
       "            StreetName Agency   DateReported HourReported  ReportingOfficer  \n",
       "0          E MARKET ST    CPD  1749250555000         1855     Hudson, Jesse  \n",
       "1         ST CLAIR AVE    CPD  1749247873000         1811  Bentz, Benjamin   \n",
       "2          PRESTON AVE    CPD  1749245708000         1735    Brannon, Devin  \n",
       "3  9TH ST SW / PINE ST    CPD  1749242423000         1640  Essex, Dominique  \n",
       "4        MONTICELLO RD    CPD  1749238132000         1528  Khaleefa, Hamzeh  "
      ]
     },
     "execution_count": 3,
     "metadata": {},
     "output_type": "execute_result"
    }
   ],
   "source": [
    "df.head()"
   ]
  },
  {
   "cell_type": "code",
   "execution_count": 4,
   "id": "0431e739",
   "metadata": {
    "execution": {
     "iopub.execute_input": "2025-06-09T01:08:53.774485Z",
     "iopub.status.busy": "2025-06-09T01:08:53.774004Z",
     "iopub.status.idle": "2025-06-09T01:08:53.778242Z",
     "shell.execute_reply": "2025-06-09T01:08:53.777710Z"
    },
    "papermill": {
     "duration": 0.009374,
     "end_time": "2025-06-09T01:08:53.779189",
     "exception": false,
     "start_time": "2025-06-09T01:08:53.769815",
     "status": "completed"
    },
    "tags": []
   },
   "outputs": [
    {
     "data": {
      "text/plain": [
       "Index(['RecordID', 'Offense', 'IncidentID', 'BlockNumber', 'StreetName',\n",
       "       'Agency', 'DateReported', 'HourReported', 'ReportingOfficer'],\n",
       "      dtype='object')"
      ]
     },
     "execution_count": 4,
     "metadata": {},
     "output_type": "execute_result"
    }
   ],
   "source": [
    "df.columns"
   ]
  },
  {
   "cell_type": "code",
   "execution_count": 5,
   "id": "bc5335a5",
   "metadata": {
    "execution": {
     "iopub.execute_input": "2025-06-09T01:08:53.788206Z",
     "iopub.status.busy": "2025-06-09T01:08:53.787961Z",
     "iopub.status.idle": "2025-06-09T01:08:53.809177Z",
     "shell.execute_reply": "2025-06-09T01:08:53.808590Z"
    },
    "papermill": {
     "duration": 0.026977,
     "end_time": "2025-06-09T01:08:53.810122",
     "exception": false,
     "start_time": "2025-06-09T01:08:53.783145",
     "status": "completed"
    },
    "tags": []
   },
   "outputs": [
    {
     "name": "stdout",
     "output_type": "stream",
     "text": [
      "<class 'pandas.core.frame.DataFrame'>\n",
      "RangeIndex: 25469 entries, 0 to 25468\n",
      "Data columns (total 9 columns):\n",
      " #   Column            Non-Null Count  Dtype \n",
      "---  ------            --------------  ----- \n",
      " 0   RecordID          25469 non-null  int64 \n",
      " 1   Offense           25469 non-null  object\n",
      " 2   IncidentID        25469 non-null  object\n",
      " 3   BlockNumber       25469 non-null  object\n",
      " 4   StreetName        25469 non-null  object\n",
      " 5   Agency            25469 non-null  object\n",
      " 6   DateReported      25469 non-null  int64 \n",
      " 7   HourReported      25469 non-null  object\n",
      " 8   ReportingOfficer  25452 non-null  object\n",
      "dtypes: int64(2), object(7)\n",
      "memory usage: 1.7+ MB\n"
     ]
    }
   ],
   "source": [
    "df.info()"
   ]
  },
  {
   "cell_type": "markdown",
   "id": "5e67d45b",
   "metadata": {
    "papermill": {
     "duration": 0.01091,
     "end_time": "2025-06-09T01:08:53.824908",
     "exception": false,
     "start_time": "2025-06-09T01:08:53.813998",
     "status": "completed"
    },
    "tags": []
   },
   "source": [
    "### Missing Values"
   ]
  },
  {
   "cell_type": "code",
   "execution_count": 6,
   "id": "1bdab381",
   "metadata": {
    "execution": {
     "iopub.execute_input": "2025-06-09T01:08:53.855097Z",
     "iopub.status.busy": "2025-06-09T01:08:53.854818Z",
     "iopub.status.idle": "2025-06-09T01:08:53.880141Z",
     "shell.execute_reply": "2025-06-09T01:08:53.879439Z"
    },
    "papermill": {
     "duration": 0.031203,
     "end_time": "2025-06-09T01:08:53.881220",
     "exception": false,
     "start_time": "2025-06-09T01:08:53.850017",
     "status": "completed"
    },
    "tags": []
   },
   "outputs": [
    {
     "name": "stdout",
     "output_type": "stream",
     "text": [
      "                  MissingCount  MissingPercentage\n",
      "RecordID                     0               0.00\n",
      "Offense                      0               0.00\n",
      "IncidentID                   0               0.00\n",
      "BlockNumber                  0               0.00\n",
      "StreetName                   0               0.00\n",
      "Agency                       0               0.00\n",
      "DateReported                 0               0.00\n",
      "HourReported                 0               0.00\n",
      "ReportingOfficer            17               0.07\n"
     ]
    }
   ],
   "source": [
    "def missing_percentage(df):\n",
    "    \"\"\"\n",
    "    Returns a DataFrame with the count and percentage of missing values for each column.\n",
    "    \n",
    "    Parameters:\n",
    "        df (pd.DataFrame): The input DataFrame.\n",
    "    \n",
    "    Returns:\n",
    "        pd.DataFrame: A DataFrame with columns 'MissingCount' and 'MissingPercentage'.\n",
    "    \"\"\"\n",
    "    total_rows = len(df)\n",
    "    missing_count = df.isnull().sum()\n",
    "    missing_percent = (missing_count / total_rows) * 100\n",
    "    \n",
    "    result = pd.DataFrame({\n",
    "        'MissingCount': missing_count,\n",
    "        'MissingPercentage': missing_percent.round(2)\n",
    "    })\n",
    "    \n",
    "    return result\n",
    "\n",
    "# Example usage:\n",
    "missing_info = missing_percentage(df)\n",
    "print(missing_info)\n"
   ]
  },
  {
   "cell_type": "markdown",
   "id": "7bbafea0",
   "metadata": {
    "papermill": {
     "duration": 0.00395,
     "end_time": "2025-06-09T01:08:53.889201",
     "exception": false,
     "start_time": "2025-06-09T01:08:53.885251",
     "status": "completed"
    },
    "tags": []
   },
   "source": [
    "## Data Preparation"
   ]
  },
  {
   "cell_type": "markdown",
   "id": "55ccc79a",
   "metadata": {
    "papermill": {
     "duration": 0.003857,
     "end_time": "2025-06-09T01:08:53.896942",
     "exception": false,
     "start_time": "2025-06-09T01:08:53.893085",
     "status": "completed"
    },
    "tags": []
   },
   "source": [
    "### Data Conversion"
   ]
  },
  {
   "cell_type": "code",
   "execution_count": 7,
   "id": "acafd59e",
   "metadata": {
    "execution": {
     "iopub.execute_input": "2025-06-09T01:08:53.905994Z",
     "iopub.status.busy": "2025-06-09T01:08:53.905474Z",
     "iopub.status.idle": "2025-06-09T01:08:54.265760Z",
     "shell.execute_reply": "2025-06-09T01:08:54.265140Z"
    },
    "papermill": {
     "duration": 0.365902,
     "end_time": "2025-06-09T01:08:54.266779",
     "exception": false,
     "start_time": "2025-06-09T01:08:53.900877",
     "status": "completed"
    },
    "tags": []
   },
   "outputs": [
    {
     "data": {
      "text/html": [
       "<div>\n",
       "<style scoped>\n",
       "    .dataframe tbody tr th:only-of-type {\n",
       "        vertical-align: middle;\n",
       "    }\n",
       "\n",
       "    .dataframe tbody tr th {\n",
       "        vertical-align: top;\n",
       "    }\n",
       "\n",
       "    .dataframe thead th {\n",
       "        text-align: right;\n",
       "    }\n",
       "</style>\n",
       "<table border=\"1\" class=\"dataframe\">\n",
       "  <thead>\n",
       "    <tr style=\"text-align: right;\">\n",
       "      <th></th>\n",
       "      <th>RecordID</th>\n",
       "      <th>Offense</th>\n",
       "      <th>IncidentID</th>\n",
       "      <th>BlockNumber</th>\n",
       "      <th>StreetName</th>\n",
       "      <th>Agency</th>\n",
       "      <th>HourReported</th>\n",
       "      <th>ReportingOfficer</th>\n",
       "      <th>Date</th>\n",
       "      <th>DateString</th>\n",
       "      <th>DayOfWeek</th>\n",
       "      <th>Weekend</th>\n",
       "      <th>Season</th>\n",
       "      <th>HourAMPM</th>\n",
       "      <th>TimeOfDay</th>\n",
       "    </tr>\n",
       "  </thead>\n",
       "  <tbody>\n",
       "    <tr>\n",
       "      <th>0</th>\n",
       "      <td>1</td>\n",
       "      <td>Lost/FoundProperty</td>\n",
       "      <td>202500019385</td>\n",
       "      <td>600</td>\n",
       "      <td>E MARKET ST</td>\n",
       "      <td>CPD</td>\n",
       "      <td>1855</td>\n",
       "      <td>Hudson, Jesse</td>\n",
       "      <td>2025-06-06 18:55:55</td>\n",
       "      <td>2025-06-06 06:55:55 PM</td>\n",
       "      <td>Friday</td>\n",
       "      <td>False</td>\n",
       "      <td>Spring</td>\n",
       "      <td>06:55 PM</td>\n",
       "      <td>Evening</td>\n",
       "    </tr>\n",
       "    <tr>\n",
       "      <th>1</th>\n",
       "      <td>2</td>\n",
       "      <td>Assault Simple</td>\n",
       "      <td>202500019379</td>\n",
       "      <td>900</td>\n",
       "      <td>ST CLAIR AVE</td>\n",
       "      <td>CPD</td>\n",
       "      <td>1811</td>\n",
       "      <td>Bentz, Benjamin</td>\n",
       "      <td>2025-06-06 18:11:13</td>\n",
       "      <td>2025-06-06 06:11:13 PM</td>\n",
       "      <td>Friday</td>\n",
       "      <td>False</td>\n",
       "      <td>Spring</td>\n",
       "      <td>06:11 PM</td>\n",
       "      <td>Evening</td>\n",
       "    </tr>\n",
       "    <tr>\n",
       "      <th>2</th>\n",
       "      <td>3</td>\n",
       "      <td>Vandalism</td>\n",
       "      <td>202500019373</td>\n",
       "      <td>800</td>\n",
       "      <td>PRESTON AVE</td>\n",
       "      <td>CPD</td>\n",
       "      <td>1735</td>\n",
       "      <td>Brannon, Devin</td>\n",
       "      <td>2025-06-06 17:35:08</td>\n",
       "      <td>2025-06-06 05:35:08 PM</td>\n",
       "      <td>Friday</td>\n",
       "      <td>False</td>\n",
       "      <td>Spring</td>\n",
       "      <td>05:35 PM</td>\n",
       "      <td>Evening</td>\n",
       "    </tr>\n",
       "    <tr>\n",
       "      <th>3</th>\n",
       "      <td>4</td>\n",
       "      <td>Vandalism</td>\n",
       "      <td>202500019370</td>\n",
       "      <td></td>\n",
       "      <td>9TH ST SW / PINE ST</td>\n",
       "      <td>CPD</td>\n",
       "      <td>1640</td>\n",
       "      <td>Essex, Dominique</td>\n",
       "      <td>2025-06-06 16:40:23</td>\n",
       "      <td>2025-06-06 04:40:23 PM</td>\n",
       "      <td>Friday</td>\n",
       "      <td>False</td>\n",
       "      <td>Spring</td>\n",
       "      <td>04:40 PM</td>\n",
       "      <td>Afternoon</td>\n",
       "    </tr>\n",
       "    <tr>\n",
       "      <th>4</th>\n",
       "      <td>5</td>\n",
       "      <td>Larceny - All Other</td>\n",
       "      <td>202500019359</td>\n",
       "      <td>1700</td>\n",
       "      <td>MONTICELLO RD</td>\n",
       "      <td>CPD</td>\n",
       "      <td>1528</td>\n",
       "      <td>Khaleefa, Hamzeh</td>\n",
       "      <td>2025-06-06 15:28:52</td>\n",
       "      <td>2025-06-06 03:28:52 PM</td>\n",
       "      <td>Friday</td>\n",
       "      <td>False</td>\n",
       "      <td>Spring</td>\n",
       "      <td>03:28 PM</td>\n",
       "      <td>Afternoon</td>\n",
       "    </tr>\n",
       "  </tbody>\n",
       "</table>\n",
       "</div>"
      ],
      "text/plain": [
       "   RecordID              Offense    IncidentID BlockNumber  \\\n",
       "0         1   Lost/FoundProperty  202500019385         600   \n",
       "1         2       Assault Simple  202500019379         900   \n",
       "2         3            Vandalism  202500019373         800   \n",
       "3         4            Vandalism  202500019370               \n",
       "4         5  Larceny - All Other  202500019359        1700   \n",
       "\n",
       "            StreetName Agency HourReported  ReportingOfficer  \\\n",
       "0          E MARKET ST    CPD         1855     Hudson, Jesse   \n",
       "1         ST CLAIR AVE    CPD         1811  Bentz, Benjamin    \n",
       "2          PRESTON AVE    CPD         1735    Brannon, Devin   \n",
       "3  9TH ST SW / PINE ST    CPD         1640  Essex, Dominique   \n",
       "4        MONTICELLO RD    CPD         1528  Khaleefa, Hamzeh   \n",
       "\n",
       "                 Date              DateString DayOfWeek  Weekend  Season  \\\n",
       "0 2025-06-06 18:55:55  2025-06-06 06:55:55 PM    Friday    False  Spring   \n",
       "1 2025-06-06 18:11:13  2025-06-06 06:11:13 PM    Friday    False  Spring   \n",
       "2 2025-06-06 17:35:08  2025-06-06 05:35:08 PM    Friday    False  Spring   \n",
       "3 2025-06-06 16:40:23  2025-06-06 04:40:23 PM    Friday    False  Spring   \n",
       "4 2025-06-06 15:28:52  2025-06-06 03:28:52 PM    Friday    False  Spring   \n",
       "\n",
       "   HourAMPM  TimeOfDay  \n",
       "0  06:55 PM    Evening  \n",
       "1  06:11 PM    Evening  \n",
       "2  05:35 PM    Evening  \n",
       "3  04:40 PM  Afternoon  \n",
       "4  03:28 PM  Afternoon  "
      ]
     },
     "execution_count": 7,
     "metadata": {},
     "output_type": "execute_result"
    }
   ],
   "source": [
    "def convert_and_categorize_datereported(df, col='DateReported'):\n",
    "    \"\"\"\n",
    "    Converts an epoch (in milliseconds) date column into a timezone-aware datetime,\n",
    "    converts it to Eastern Time, and then creates columns for day-of-week, weekend flag,\n",
    "    season, 12-hour formatted time, and time-of-day. Keeps both a real datetime column\n",
    "    (Date) and a string representation (DateString).\n",
    "    \"\"\"\n",
    "    import pandas as pd\n",
    "\n",
    "    # Convert the epoch timestamp to a pandas datetime object as UTC, then convert to US/Eastern.\n",
    "    df[\"DateReported_dt\"] = (\n",
    "        pd.to_datetime(df[col], unit=\"ms\", errors=\"coerce\", utc=True)\n",
    "        .dt.tz_convert(\"US/Eastern\")\n",
    "    )\n",
    "    \n",
    "    # Create a true datetime column (remove timezone if you prefer naive datetime)\n",
    "    df[\"Date\"] = df[\"DateReported_dt\"].dt.tz_localize(None)\n",
    "\n",
    "    # Optionally, create a separate string-formatted column\n",
    "    df[\"DateString\"] = df[\"DateReported_dt\"].dt.strftime(\"%Y-%m-%d %I:%M:%S %p\")\n",
    "    \n",
    "    # DayOfWeek\n",
    "    df[\"DayOfWeek\"] = df[\"DateReported_dt\"].dt.day_name()\n",
    "    \n",
    "    # Weekend\n",
    "    df[\"Weekend\"] = df[\"DayOfWeek\"].isin([\"Saturday\", \"Sunday\"])\n",
    "    \n",
    "    # Helper function to determine the season\n",
    "    def get_season(dt):\n",
    "        month = dt.month\n",
    "        day = dt.day\n",
    "        # Approximate Northern Hemisphere season boundaries:\n",
    "        if (month == 12 and day >= 21) or (month < 3) or (month == 3 and day < 20):\n",
    "            return \"Winter\"\n",
    "        elif (month == 3 and day >= 20) or (month < 6) or (month == 6 and day < 21):\n",
    "            return \"Spring\"\n",
    "        elif (month == 6 and day >= 21) or (month < 9) or (month == 9 and day < 22):\n",
    "            return \"Summer\"\n",
    "        else:\n",
    "            return \"Autumn\"\n",
    "    \n",
    "    df[\"Season\"] = df[\"DateReported_dt\"].apply(get_season)\n",
    "    \n",
    "    # 12-hour formatted time (HourAMPM)\n",
    "    df[\"HourAMPM\"] = df[\"DateReported_dt\"].dt.strftime(\"%I:%M %p\")\n",
    "    \n",
    "    # Extract hour (0-23) for time-of-day\n",
    "    df[\"HourValue\"] = df[\"DateReported_dt\"].dt.hour\n",
    "    \n",
    "    def time_of_day(hour):\n",
    "        if pd.isnull(hour):\n",
    "            return None\n",
    "        if 5 <= hour < 12:\n",
    "            return \"Morning\"\n",
    "        elif 12 <= hour < 17:\n",
    "            return \"Afternoon\"\n",
    "        elif 17 <= hour < 21:\n",
    "            return \"Evening\"\n",
    "        else:\n",
    "            return \"Night\"\n",
    "    \n",
    "    df[\"TimeOfDay\"] = df[\"HourValue\"].apply(time_of_day)\n",
    "    \n",
    "    # Drop columns you no longer need\n",
    "    df.drop(columns=[col, \"DateReported_dt\", \"HourValue\"], inplace=True)\n",
    "    \n",
    "    return df\n",
    "\n",
    "# Example usage:\n",
    "df = convert_and_categorize_datereported(df)\n",
    "df.head()\n"
   ]
  },
  {
   "cell_type": "code",
   "execution_count": 8,
   "id": "c47a19d0",
   "metadata": {
    "execution": {
     "iopub.execute_input": "2025-06-09T01:08:54.276976Z",
     "iopub.status.busy": "2025-06-09T01:08:54.276471Z",
     "iopub.status.idle": "2025-06-09T01:08:54.302941Z",
     "shell.execute_reply": "2025-06-09T01:08:54.302350Z"
    },
    "papermill": {
     "duration": 0.032495,
     "end_time": "2025-06-09T01:08:54.304017",
     "exception": false,
     "start_time": "2025-06-09T01:08:54.271522",
     "status": "completed"
    },
    "tags": []
   },
   "outputs": [
    {
     "name": "stdout",
     "output_type": "stream",
     "text": [
      "<class 'pandas.core.frame.DataFrame'>\n",
      "RangeIndex: 25469 entries, 0 to 25468\n",
      "Data columns (total 15 columns):\n",
      " #   Column            Non-Null Count  Dtype         \n",
      "---  ------            --------------  -----         \n",
      " 0   RecordID          25469 non-null  int64         \n",
      " 1   Offense           25469 non-null  object        \n",
      " 2   IncidentID        25469 non-null  object        \n",
      " 3   BlockNumber       25469 non-null  object        \n",
      " 4   StreetName        25469 non-null  object        \n",
      " 5   Agency            25469 non-null  object        \n",
      " 6   HourReported      25469 non-null  object        \n",
      " 7   ReportingOfficer  25452 non-null  object        \n",
      " 8   Date              25469 non-null  datetime64[ns]\n",
      " 9   DateString        25469 non-null  object        \n",
      " 10  DayOfWeek         25469 non-null  object        \n",
      " 11  Weekend           25469 non-null  bool          \n",
      " 12  Season            25469 non-null  object        \n",
      " 13  HourAMPM          25469 non-null  object        \n",
      " 14  TimeOfDay         25469 non-null  object        \n",
      "dtypes: bool(1), datetime64[ns](1), int64(1), object(12)\n",
      "memory usage: 2.7+ MB\n"
     ]
    }
   ],
   "source": [
    "df.info()"
   ]
  },
  {
   "cell_type": "markdown",
   "id": "62c9dcb9",
   "metadata": {
    "papermill": {
     "duration": 0.00412,
     "end_time": "2025-06-09T01:08:54.312408",
     "exception": false,
     "start_time": "2025-06-09T01:08:54.308288",
     "status": "completed"
    },
    "tags": []
   },
   "source": [
    "### Coordinates"
   ]
  },
  {
   "cell_type": "code",
   "execution_count": 9,
   "id": "4165c682",
   "metadata": {
    "execution": {
     "iopub.execute_input": "2025-06-09T01:08:54.321664Z",
     "iopub.status.busy": "2025-06-09T01:08:54.321460Z",
     "iopub.status.idle": "2025-06-09T01:08:54.539107Z",
     "shell.execute_reply": "2025-06-09T01:08:54.538520Z"
    },
    "papermill": {
     "duration": 0.223617,
     "end_time": "2025-06-09T01:08:54.540239",
     "exception": false,
     "start_time": "2025-06-09T01:08:54.316622",
     "status": "completed"
    },
    "tags": []
   },
   "outputs": [
    {
     "name": "stdout",
     "output_type": "stream",
     "text": [
      "Loaded geocode cache.\n",
      "Error geocoding 200 DOUGLAS AVE, 1A: REQUEST_DENIED (You must enable Billing on the Google Cloud Project at https://console.cloud.google.com/project/_/billing/enable Learn more at https://developers.google.com/maps/gmp-get-started)\n",
      "Geocoded 200 DOUGLAS AVE, 1A: None, None\n"
     ]
    },
    {
     "name": "stdout",
     "output_type": "stream",
     "text": [
      "Error geocoding  MONTICELLO AVE / W I64 EXIT 121 FROM 20S ON: REQUEST_DENIED (You must enable Billing on the Google Cloud Project at https://console.cloud.google.com/project/_/billing/enable Learn more at https://developers.google.com/maps/gmp-get-started)\n",
      "Geocoded  MONTICELLO AVE / W I64 EXIT 121 FROM 20S ON: None, None\n",
      "Geocode cache updated and saved.\n"
     ]
    },
    {
     "data": {
      "text/html": [
       "<div>\n",
       "<style scoped>\n",
       "    .dataframe tbody tr th:only-of-type {\n",
       "        vertical-align: middle;\n",
       "    }\n",
       "\n",
       "    .dataframe tbody tr th {\n",
       "        vertical-align: top;\n",
       "    }\n",
       "\n",
       "    .dataframe thead th {\n",
       "        text-align: right;\n",
       "    }\n",
       "</style>\n",
       "<table border=\"1\" class=\"dataframe\">\n",
       "  <thead>\n",
       "    <tr style=\"text-align: right;\">\n",
       "      <th></th>\n",
       "      <th>RecordID</th>\n",
       "      <th>Offense</th>\n",
       "      <th>IncidentID</th>\n",
       "      <th>BlockNumber</th>\n",
       "      <th>StreetName</th>\n",
       "      <th>Agency</th>\n",
       "      <th>HourReported</th>\n",
       "      <th>ReportingOfficer</th>\n",
       "      <th>Date</th>\n",
       "      <th>DateString</th>\n",
       "      <th>DayOfWeek</th>\n",
       "      <th>Weekend</th>\n",
       "      <th>Season</th>\n",
       "      <th>HourAMPM</th>\n",
       "      <th>TimeOfDay</th>\n",
       "      <th>FullStreet</th>\n",
       "      <th>lat</th>\n",
       "      <th>lon</th>\n",
       "    </tr>\n",
       "  </thead>\n",
       "  <tbody>\n",
       "    <tr>\n",
       "      <th>0</th>\n",
       "      <td>1</td>\n",
       "      <td>Lost/FoundProperty</td>\n",
       "      <td>202500019385</td>\n",
       "      <td>600</td>\n",
       "      <td>E MARKET ST</td>\n",
       "      <td>CPD</td>\n",
       "      <td>1855</td>\n",
       "      <td>Hudson, Jesse</td>\n",
       "      <td>2025-06-06 18:55:55</td>\n",
       "      <td>2025-06-06 06:55:55 PM</td>\n",
       "      <td>Friday</td>\n",
       "      <td>False</td>\n",
       "      <td>Spring</td>\n",
       "      <td>06:55 PM</td>\n",
       "      <td>Evening</td>\n",
       "      <td>600 E MARKET ST</td>\n",
       "      <td>38.030175</td>\n",
       "      <td>-78.477574</td>\n",
       "    </tr>\n",
       "    <tr>\n",
       "      <th>1</th>\n",
       "      <td>2</td>\n",
       "      <td>Assault Simple</td>\n",
       "      <td>202500019379</td>\n",
       "      <td>900</td>\n",
       "      <td>ST CLAIR AVE</td>\n",
       "      <td>CPD</td>\n",
       "      <td>1811</td>\n",
       "      <td>Bentz, Benjamin</td>\n",
       "      <td>2025-06-06 18:11:13</td>\n",
       "      <td>2025-06-06 06:11:13 PM</td>\n",
       "      <td>Friday</td>\n",
       "      <td>False</td>\n",
       "      <td>Spring</td>\n",
       "      <td>06:11 PM</td>\n",
       "      <td>Evening</td>\n",
       "      <td>900 ST CLAIR AVE</td>\n",
       "      <td>38.037315</td>\n",
       "      <td>-78.463832</td>\n",
       "    </tr>\n",
       "    <tr>\n",
       "      <th>2</th>\n",
       "      <td>3</td>\n",
       "      <td>Vandalism</td>\n",
       "      <td>202500019373</td>\n",
       "      <td>800</td>\n",
       "      <td>PRESTON AVE</td>\n",
       "      <td>CPD</td>\n",
       "      <td>1735</td>\n",
       "      <td>Brannon, Devin</td>\n",
       "      <td>2025-06-06 17:35:08</td>\n",
       "      <td>2025-06-06 05:35:08 PM</td>\n",
       "      <td>Friday</td>\n",
       "      <td>False</td>\n",
       "      <td>Spring</td>\n",
       "      <td>05:35 PM</td>\n",
       "      <td>Evening</td>\n",
       "      <td>800 PRESTON AVE</td>\n",
       "      <td>38.036459</td>\n",
       "      <td>-78.488803</td>\n",
       "    </tr>\n",
       "    <tr>\n",
       "      <th>3</th>\n",
       "      <td>4</td>\n",
       "      <td>Vandalism</td>\n",
       "      <td>202500019370</td>\n",
       "      <td></td>\n",
       "      <td>9TH ST SW / PINE ST</td>\n",
       "      <td>CPD</td>\n",
       "      <td>1640</td>\n",
       "      <td>Essex, Dominique</td>\n",
       "      <td>2025-06-06 16:40:23</td>\n",
       "      <td>2025-06-06 04:40:23 PM</td>\n",
       "      <td>Friday</td>\n",
       "      <td>False</td>\n",
       "      <td>Spring</td>\n",
       "      <td>04:40 PM</td>\n",
       "      <td>Afternoon</td>\n",
       "      <td>9TH ST SW / PINE ST</td>\n",
       "      <td>38.027156</td>\n",
       "      <td>-78.495325</td>\n",
       "    </tr>\n",
       "    <tr>\n",
       "      <th>4</th>\n",
       "      <td>5</td>\n",
       "      <td>Larceny - All Other</td>\n",
       "      <td>202500019359</td>\n",
       "      <td>1700</td>\n",
       "      <td>MONTICELLO RD</td>\n",
       "      <td>CPD</td>\n",
       "      <td>1528</td>\n",
       "      <td>Khaleefa, Hamzeh</td>\n",
       "      <td>2025-06-06 15:28:52</td>\n",
       "      <td>2025-06-06 03:28:52 PM</td>\n",
       "      <td>Friday</td>\n",
       "      <td>False</td>\n",
       "      <td>Spring</td>\n",
       "      <td>03:28 PM</td>\n",
       "      <td>Afternoon</td>\n",
       "      <td>1700 MONTICELLO RD</td>\n",
       "      <td>38.016489</td>\n",
       "      <td>-78.473156</td>\n",
       "    </tr>\n",
       "  </tbody>\n",
       "</table>\n",
       "</div>"
      ],
      "text/plain": [
       "   RecordID              Offense    IncidentID BlockNumber  \\\n",
       "0         1   Lost/FoundProperty  202500019385         600   \n",
       "1         2       Assault Simple  202500019379         900   \n",
       "2         3            Vandalism  202500019373         800   \n",
       "3         4            Vandalism  202500019370               \n",
       "4         5  Larceny - All Other  202500019359        1700   \n",
       "\n",
       "            StreetName Agency HourReported  ReportingOfficer  \\\n",
       "0          E MARKET ST    CPD         1855     Hudson, Jesse   \n",
       "1         ST CLAIR AVE    CPD         1811  Bentz, Benjamin    \n",
       "2          PRESTON AVE    CPD         1735    Brannon, Devin   \n",
       "3  9TH ST SW / PINE ST    CPD         1640  Essex, Dominique   \n",
       "4        MONTICELLO RD    CPD         1528  Khaleefa, Hamzeh   \n",
       "\n",
       "                 Date              DateString DayOfWeek  Weekend  Season  \\\n",
       "0 2025-06-06 18:55:55  2025-06-06 06:55:55 PM    Friday    False  Spring   \n",
       "1 2025-06-06 18:11:13  2025-06-06 06:11:13 PM    Friday    False  Spring   \n",
       "2 2025-06-06 17:35:08  2025-06-06 05:35:08 PM    Friday    False  Spring   \n",
       "3 2025-06-06 16:40:23  2025-06-06 04:40:23 PM    Friday    False  Spring   \n",
       "4 2025-06-06 15:28:52  2025-06-06 03:28:52 PM    Friday    False  Spring   \n",
       "\n",
       "   HourAMPM  TimeOfDay            FullStreet        lat        lon  \n",
       "0  06:55 PM    Evening       600 E MARKET ST  38.030175 -78.477574  \n",
       "1  06:11 PM    Evening      900 ST CLAIR AVE  38.037315 -78.463832  \n",
       "2  05:35 PM    Evening       800 PRESTON AVE  38.036459 -78.488803  \n",
       "3  04:40 PM  Afternoon   9TH ST SW / PINE ST  38.027156 -78.495325  \n",
       "4  03:28 PM  Afternoon    1700 MONTICELLO RD  38.016489 -78.473156  "
      ]
     },
     "execution_count": 9,
     "metadata": {},
     "output_type": "execute_result"
    }
   ],
   "source": [
    "# Combine BlockNumber and StreetName into a full address string\n",
    "df['FullStreet'] = df['BlockNumber'].astype(str) + \" \" + df['StreetName']\n",
    "\n",
    "# --- Step 1: Setup the Google Maps Client and Cache ---\n",
    "gmaps = googlemaps.Client(key=GOOGLE_API_KEY)\n",
    "\n",
    "# Try to load cached geocoding results if available.\n",
    "try:\n",
    "    with open(\"geocode_cache_google.pkl\", \"rb\") as f:\n",
    "        street_coords = pickle.load(f)\n",
    "    print(\"Loaded geocode cache.\")\n",
    "except FileNotFoundError:\n",
    "    street_coords = {}\n",
    "    print(\"No cache found; starting fresh.\")\n",
    "\n",
    "def geocode_address(address):\n",
    "    try:\n",
    "        # Append city and state to help geocoding\n",
    "        result = gmaps.geocode(f\"{address}, Charlottesville, VA\")\n",
    "        if result:\n",
    "            lat = result[0]['geometry']['location']['lat']\n",
    "            lon = result[0]['geometry']['location']['lng']\n",
    "            return lat, lon\n",
    "    except Exception as e:\n",
    "        print(f\"Error geocoding {address}: {e}\")\n",
    "    return None, None\n",
    "\n",
    "# --- Step 2: Geocode Only New Addresses ---\n",
    "unique_addresses = df['FullStreet'].unique()\n",
    "for address in unique_addresses:\n",
    "    if address not in street_coords:\n",
    "        lat, lon = geocode_address(address)\n",
    "        street_coords[address] = (lat, lon)\n",
    "        print(f\"Geocoded {address}: {lat}, {lon}\")\n",
    "\n",
    "# Save the updated cache to disk.\n",
    "with open(\"geocode_cache_google.pkl\", \"wb\") as f:\n",
    "    pickle.dump(street_coords, f)\n",
    "    print(\"Geocode cache updated and saved.\")\n",
    "\n",
    "# --- Step 3: Map Coordinates Back to DataFrame ---\n",
    "df['lat'] = df['FullStreet'].map(lambda s: street_coords.get(s, (None, None))[0])\n",
    "df['lon'] = df['FullStreet'].map(lambda s: street_coords.get(s, (None, None))[1])\n",
    "\n",
    "df.head()"
   ]
  },
  {
   "cell_type": "markdown",
   "id": "7e89f25b",
   "metadata": {
    "papermill": {
     "duration": 0.004508,
     "end_time": "2025-06-09T01:08:54.549654",
     "exception": false,
     "start_time": "2025-06-09T01:08:54.545146",
     "status": "completed"
    },
    "tags": []
   },
   "source": [
    "### Neighborhood"
   ]
  },
  {
   "cell_type": "code",
   "execution_count": 10,
   "id": "d385783d",
   "metadata": {
    "execution": {
     "iopub.execute_input": "2025-06-09T01:08:54.559866Z",
     "iopub.status.busy": "2025-06-09T01:08:54.559407Z",
     "iopub.status.idle": "2025-06-09T01:08:55.128025Z",
     "shell.execute_reply": "2025-06-09T01:08:55.127405Z"
    },
    "papermill": {
     "duration": 0.574893,
     "end_time": "2025-06-09T01:08:55.129103",
     "exception": false,
     "start_time": "2025-06-09T01:08:54.554210",
     "status": "completed"
    },
    "tags": []
   },
   "outputs": [
    {
     "name": "stdout",
     "output_type": "stream",
     "text": [
      "Loaded neighborhood cache.\n",
      "Error getting neighborhood for nan, nan: HTTP Error: 400\n"
     ]
    },
    {
     "name": "stdout",
     "output_type": "stream",
     "text": [
      "Error getting neighborhood for nan, nan: HTTP Error: 400\n",
      "Error getting neighborhood for nan, nan: HTTP Error: 400\n"
     ]
    },
    {
     "name": "stdout",
     "output_type": "stream",
     "text": [
      "Error getting neighborhood for nan, nan: HTTP Error: 400\n",
      "Error getting neighborhood for nan, nan: HTTP Error: 400\n",
      "Error getting neighborhood for nan, nan: HTTP Error: 400\n",
      "Error getting neighborhood for nan, nan: HTTP Error: 400\n",
      "Error getting neighborhood for nan, nan: HTTP Error: 400\n",
      "Error getting neighborhood for nan, nan: HTTP Error: 400\n",
      "Error getting neighborhood for nan, nan: HTTP Error: 400\n"
     ]
    },
    {
     "data": {
      "text/html": [
       "<div>\n",
       "<style scoped>\n",
       "    .dataframe tbody tr th:only-of-type {\n",
       "        vertical-align: middle;\n",
       "    }\n",
       "\n",
       "    .dataframe tbody tr th {\n",
       "        vertical-align: top;\n",
       "    }\n",
       "\n",
       "    .dataframe thead th {\n",
       "        text-align: right;\n",
       "    }\n",
       "</style>\n",
       "<table border=\"1\" class=\"dataframe\">\n",
       "  <thead>\n",
       "    <tr style=\"text-align: right;\">\n",
       "      <th></th>\n",
       "      <th>RecordID</th>\n",
       "      <th>Offense</th>\n",
       "      <th>IncidentID</th>\n",
       "      <th>BlockNumber</th>\n",
       "      <th>StreetName</th>\n",
       "      <th>Agency</th>\n",
       "      <th>HourReported</th>\n",
       "      <th>ReportingOfficer</th>\n",
       "      <th>Date</th>\n",
       "      <th>DateString</th>\n",
       "      <th>DayOfWeek</th>\n",
       "      <th>Weekend</th>\n",
       "      <th>Season</th>\n",
       "      <th>HourAMPM</th>\n",
       "      <th>TimeOfDay</th>\n",
       "      <th>FullStreet</th>\n",
       "      <th>lat</th>\n",
       "      <th>lon</th>\n",
       "      <th>neighborhood</th>\n",
       "    </tr>\n",
       "  </thead>\n",
       "  <tbody>\n",
       "    <tr>\n",
       "      <th>0</th>\n",
       "      <td>1</td>\n",
       "      <td>Lost/FoundProperty</td>\n",
       "      <td>202500019385</td>\n",
       "      <td>600</td>\n",
       "      <td>E MARKET ST</td>\n",
       "      <td>CPD</td>\n",
       "      <td>1855</td>\n",
       "      <td>Hudson, Jesse</td>\n",
       "      <td>2025-06-06 18:55:55</td>\n",
       "      <td>2025-06-06 06:55:55 PM</td>\n",
       "      <td>Friday</td>\n",
       "      <td>False</td>\n",
       "      <td>Spring</td>\n",
       "      <td>06:55 PM</td>\n",
       "      <td>Evening</td>\n",
       "      <td>600 E MARKET ST</td>\n",
       "      <td>38.030175</td>\n",
       "      <td>-78.477574</td>\n",
       "      <td>Downtown Mall</td>\n",
       "    </tr>\n",
       "    <tr>\n",
       "      <th>1</th>\n",
       "      <td>2</td>\n",
       "      <td>Assault Simple</td>\n",
       "      <td>202500019379</td>\n",
       "      <td>900</td>\n",
       "      <td>ST CLAIR AVE</td>\n",
       "      <td>CPD</td>\n",
       "      <td>1811</td>\n",
       "      <td>Bentz, Benjamin</td>\n",
       "      <td>2025-06-06 18:11:13</td>\n",
       "      <td>2025-06-06 06:11:13 PM</td>\n",
       "      <td>Friday</td>\n",
       "      <td>False</td>\n",
       "      <td>Spring</td>\n",
       "      <td>06:11 PM</td>\n",
       "      <td>Evening</td>\n",
       "      <td>900 ST CLAIR AVE</td>\n",
       "      <td>38.037315</td>\n",
       "      <td>-78.463832</td>\n",
       "      <td>Locust Grove</td>\n",
       "    </tr>\n",
       "    <tr>\n",
       "      <th>2</th>\n",
       "      <td>3</td>\n",
       "      <td>Vandalism</td>\n",
       "      <td>202500019373</td>\n",
       "      <td>800</td>\n",
       "      <td>PRESTON AVE</td>\n",
       "      <td>CPD</td>\n",
       "      <td>1735</td>\n",
       "      <td>Brannon, Devin</td>\n",
       "      <td>2025-06-06 17:35:08</td>\n",
       "      <td>2025-06-06 05:35:08 PM</td>\n",
       "      <td>Friday</td>\n",
       "      <td>False</td>\n",
       "      <td>Spring</td>\n",
       "      <td>05:35 PM</td>\n",
       "      <td>Evening</td>\n",
       "      <td>800 PRESTON AVE</td>\n",
       "      <td>38.036459</td>\n",
       "      <td>-78.488803</td>\n",
       "      <td>10th &amp; Page</td>\n",
       "    </tr>\n",
       "    <tr>\n",
       "      <th>3</th>\n",
       "      <td>4</td>\n",
       "      <td>Vandalism</td>\n",
       "      <td>202500019370</td>\n",
       "      <td></td>\n",
       "      <td>9TH ST SW / PINE ST</td>\n",
       "      <td>CPD</td>\n",
       "      <td>1640</td>\n",
       "      <td>Essex, Dominique</td>\n",
       "      <td>2025-06-06 16:40:23</td>\n",
       "      <td>2025-06-06 04:40:23 PM</td>\n",
       "      <td>Friday</td>\n",
       "      <td>False</td>\n",
       "      <td>Spring</td>\n",
       "      <td>04:40 PM</td>\n",
       "      <td>Afternoon</td>\n",
       "      <td>9TH ST SW / PINE ST</td>\n",
       "      <td>38.027156</td>\n",
       "      <td>-78.495325</td>\n",
       "      <td>Fifeville</td>\n",
       "    </tr>\n",
       "    <tr>\n",
       "      <th>4</th>\n",
       "      <td>5</td>\n",
       "      <td>Larceny - All Other</td>\n",
       "      <td>202500019359</td>\n",
       "      <td>1700</td>\n",
       "      <td>MONTICELLO RD</td>\n",
       "      <td>CPD</td>\n",
       "      <td>1528</td>\n",
       "      <td>Khaleefa, Hamzeh</td>\n",
       "      <td>2025-06-06 15:28:52</td>\n",
       "      <td>2025-06-06 03:28:52 PM</td>\n",
       "      <td>Friday</td>\n",
       "      <td>False</td>\n",
       "      <td>Spring</td>\n",
       "      <td>03:28 PM</td>\n",
       "      <td>Afternoon</td>\n",
       "      <td>1700 MONTICELLO RD</td>\n",
       "      <td>38.016489</td>\n",
       "      <td>-78.473156</td>\n",
       "      <td>Belmont</td>\n",
       "    </tr>\n",
       "  </tbody>\n",
       "</table>\n",
       "</div>"
      ],
      "text/plain": [
       "   RecordID              Offense    IncidentID BlockNumber  \\\n",
       "0         1   Lost/FoundProperty  202500019385         600   \n",
       "1         2       Assault Simple  202500019379         900   \n",
       "2         3            Vandalism  202500019373         800   \n",
       "3         4            Vandalism  202500019370               \n",
       "4         5  Larceny - All Other  202500019359        1700   \n",
       "\n",
       "            StreetName Agency HourReported  ReportingOfficer  \\\n",
       "0          E MARKET ST    CPD         1855     Hudson, Jesse   \n",
       "1         ST CLAIR AVE    CPD         1811  Bentz, Benjamin    \n",
       "2          PRESTON AVE    CPD         1735    Brannon, Devin   \n",
       "3  9TH ST SW / PINE ST    CPD         1640  Essex, Dominique   \n",
       "4        MONTICELLO RD    CPD         1528  Khaleefa, Hamzeh   \n",
       "\n",
       "                 Date              DateString DayOfWeek  Weekend  Season  \\\n",
       "0 2025-06-06 18:55:55  2025-06-06 06:55:55 PM    Friday    False  Spring   \n",
       "1 2025-06-06 18:11:13  2025-06-06 06:11:13 PM    Friday    False  Spring   \n",
       "2 2025-06-06 17:35:08  2025-06-06 05:35:08 PM    Friday    False  Spring   \n",
       "3 2025-06-06 16:40:23  2025-06-06 04:40:23 PM    Friday    False  Spring   \n",
       "4 2025-06-06 15:28:52  2025-06-06 03:28:52 PM    Friday    False  Spring   \n",
       "\n",
       "   HourAMPM  TimeOfDay            FullStreet        lat        lon  \\\n",
       "0  06:55 PM    Evening       600 E MARKET ST  38.030175 -78.477574   \n",
       "1  06:11 PM    Evening      900 ST CLAIR AVE  38.037315 -78.463832   \n",
       "2  05:35 PM    Evening       800 PRESTON AVE  38.036459 -78.488803   \n",
       "3  04:40 PM  Afternoon   9TH ST SW / PINE ST  38.027156 -78.495325   \n",
       "4  03:28 PM  Afternoon    1700 MONTICELLO RD  38.016489 -78.473156   \n",
       "\n",
       "    neighborhood  \n",
       "0  Downtown Mall  \n",
       "1   Locust Grove  \n",
       "2    10th & Page  \n",
       "3      Fifeville  \n",
       "4        Belmont  "
      ]
     },
     "execution_count": 10,
     "metadata": {},
     "output_type": "execute_result"
    }
   ],
   "source": [
    "# Initialize the Google Maps client.\n",
    "gmaps = googlemaps.Client(key=GOOGLE_API_KEY)\n",
    "\n",
    "# Try to load a persistent neighborhood cache if available.\n",
    "try:\n",
    "    with open(\"neighborhood_cache.pkl\", \"rb\") as f:\n",
    "        neighborhood_cache = pickle.load(f)\n",
    "    print(\"Loaded neighborhood cache.\")\n",
    "except FileNotFoundError:\n",
    "    neighborhood_cache = {}\n",
    "    print(\"No neighborhood cache found; starting fresh.\")\n",
    "\n",
    "def get_neighborhood(lat, lon):\n",
    "    \"\"\"\n",
    "    Reverse geocodes a latitude and longitude to retrieve the neighborhood.\n",
    "    Caches results to speed up subsequent lookups.\n",
    "    \"\"\"\n",
    "    key = (lat, lon)\n",
    "    if key in neighborhood_cache:\n",
    "        return neighborhood_cache[key]\n",
    "    \n",
    "    try:\n",
    "        result = gmaps.reverse_geocode((lat, lon))\n",
    "        if result:\n",
    "            # Look for the 'neighborhood' component in the first result.\n",
    "            for component in result[0]['address_components']:\n",
    "                if 'neighborhood' in component['types']:\n",
    "                    neighborhood = component['long_name']\n",
    "                    neighborhood_cache[key] = neighborhood\n",
    "                    return neighborhood\n",
    "            # If no neighborhood is found, return \"N/A\"\n",
    "            neighborhood_cache[key] = \"N/A\"\n",
    "            return \"N/A\"\n",
    "    except Exception as e:\n",
    "        print(f\"Error getting neighborhood for {lat}, {lon}: {e}\")\n",
    "        return \"N/A\"\n",
    "    \n",
    "    # Pause to respect usage limits.\n",
    "    time.sleep(1)\n",
    "\n",
    "# Example usage: Apply to your DataFrame 'df' that already has 'lat' and 'lon' columns.\n",
    "df['neighborhood'] = df.apply(lambda row: get_neighborhood(row['lat'], row['lon']), axis=1)\n",
    "\n",
    "# Save the updated neighborhood cache.\n",
    "with open(\"neighborhood_cache.pkl\", \"wb\") as f:\n",
    "    pickle.dump(neighborhood_cache, f)\n",
    "\n",
    "df.head()\n"
   ]
  },
  {
   "cell_type": "markdown",
   "id": "1b2165aa",
   "metadata": {
    "papermill": {
     "duration": 0.004859,
     "end_time": "2025-06-09T01:08:55.139180",
     "exception": false,
     "start_time": "2025-06-09T01:08:55.134321",
     "status": "completed"
    },
    "tags": []
   },
   "source": [
    "### Zip"
   ]
  },
  {
   "cell_type": "code",
   "execution_count": 11,
   "id": "6fb475b5",
   "metadata": {
    "execution": {
     "iopub.execute_input": "2025-06-09T01:08:55.150016Z",
     "iopub.status.busy": "2025-06-09T01:08:55.149567Z",
     "iopub.status.idle": "2025-06-09T01:09:05.405791Z",
     "shell.execute_reply": "2025-06-09T01:09:05.405051Z"
    },
    "papermill": {
     "duration": 10.262824,
     "end_time": "2025-06-09T01:09:05.406921",
     "exception": false,
     "start_time": "2025-06-09T01:08:55.144097",
     "status": "completed"
    },
    "tags": []
   },
   "outputs": [
    {
     "name": "stdout",
     "output_type": "stream",
     "text": [
      "Loaded zip cache.\n",
      "Error getting ZIP for nan, nan: Must be a coordinate pair or Point\n"
     ]
    },
    {
     "name": "stdout",
     "output_type": "stream",
     "text": [
      "Error getting ZIP for nan, nan: Must be a coordinate pair or Point\n"
     ]
    },
    {
     "name": "stdout",
     "output_type": "stream",
     "text": [
      "Error getting ZIP for nan, nan: Must be a coordinate pair or Point\n"
     ]
    },
    {
     "name": "stdout",
     "output_type": "stream",
     "text": [
      "Error getting ZIP for nan, nan: Must be a coordinate pair or Point\n"
     ]
    },
    {
     "name": "stdout",
     "output_type": "stream",
     "text": [
      "Error getting ZIP for nan, nan: Must be a coordinate pair or Point\n"
     ]
    },
    {
     "name": "stdout",
     "output_type": "stream",
     "text": [
      "Error getting ZIP for nan, nan: Must be a coordinate pair or Point\n"
     ]
    },
    {
     "name": "stdout",
     "output_type": "stream",
     "text": [
      "Error getting ZIP for nan, nan: Must be a coordinate pair or Point\n"
     ]
    },
    {
     "name": "stdout",
     "output_type": "stream",
     "text": [
      "Error getting ZIP for nan, nan: Must be a coordinate pair or Point\n"
     ]
    },
    {
     "name": "stdout",
     "output_type": "stream",
     "text": [
      "Error getting ZIP for nan, nan: Must be a coordinate pair or Point\n"
     ]
    },
    {
     "name": "stdout",
     "output_type": "stream",
     "text": [
      "Error getting ZIP for nan, nan: Must be a coordinate pair or Point\n"
     ]
    },
    {
     "data": {
      "text/html": [
       "<div>\n",
       "<style scoped>\n",
       "    .dataframe tbody tr th:only-of-type {\n",
       "        vertical-align: middle;\n",
       "    }\n",
       "\n",
       "    .dataframe tbody tr th {\n",
       "        vertical-align: top;\n",
       "    }\n",
       "\n",
       "    .dataframe thead th {\n",
       "        text-align: right;\n",
       "    }\n",
       "</style>\n",
       "<table border=\"1\" class=\"dataframe\">\n",
       "  <thead>\n",
       "    <tr style=\"text-align: right;\">\n",
       "      <th></th>\n",
       "      <th>RecordID</th>\n",
       "      <th>Offense</th>\n",
       "      <th>IncidentID</th>\n",
       "      <th>BlockNumber</th>\n",
       "      <th>StreetName</th>\n",
       "      <th>Agency</th>\n",
       "      <th>HourReported</th>\n",
       "      <th>ReportingOfficer</th>\n",
       "      <th>Date</th>\n",
       "      <th>DateString</th>\n",
       "      <th>DayOfWeek</th>\n",
       "      <th>Weekend</th>\n",
       "      <th>Season</th>\n",
       "      <th>HourAMPM</th>\n",
       "      <th>TimeOfDay</th>\n",
       "      <th>FullStreet</th>\n",
       "      <th>lat</th>\n",
       "      <th>lon</th>\n",
       "      <th>neighborhood</th>\n",
       "      <th>zip</th>\n",
       "    </tr>\n",
       "  </thead>\n",
       "  <tbody>\n",
       "    <tr>\n",
       "      <th>0</th>\n",
       "      <td>1</td>\n",
       "      <td>Lost/FoundProperty</td>\n",
       "      <td>202500019385</td>\n",
       "      <td>600</td>\n",
       "      <td>E MARKET ST</td>\n",
       "      <td>CPD</td>\n",
       "      <td>1855</td>\n",
       "      <td>Hudson, Jesse</td>\n",
       "      <td>2025-06-06 18:55:55</td>\n",
       "      <td>2025-06-06 06:55:55 PM</td>\n",
       "      <td>Friday</td>\n",
       "      <td>False</td>\n",
       "      <td>Spring</td>\n",
       "      <td>06:55 PM</td>\n",
       "      <td>Evening</td>\n",
       "      <td>600 E MARKET ST</td>\n",
       "      <td>38.030175</td>\n",
       "      <td>-78.477574</td>\n",
       "      <td>Downtown Mall</td>\n",
       "      <td>22902</td>\n",
       "    </tr>\n",
       "    <tr>\n",
       "      <th>1</th>\n",
       "      <td>2</td>\n",
       "      <td>Assault Simple</td>\n",
       "      <td>202500019379</td>\n",
       "      <td>900</td>\n",
       "      <td>ST CLAIR AVE</td>\n",
       "      <td>CPD</td>\n",
       "      <td>1811</td>\n",
       "      <td>Bentz, Benjamin</td>\n",
       "      <td>2025-06-06 18:11:13</td>\n",
       "      <td>2025-06-06 06:11:13 PM</td>\n",
       "      <td>Friday</td>\n",
       "      <td>False</td>\n",
       "      <td>Spring</td>\n",
       "      <td>06:11 PM</td>\n",
       "      <td>Evening</td>\n",
       "      <td>900 ST CLAIR AVE</td>\n",
       "      <td>38.037315</td>\n",
       "      <td>-78.463832</td>\n",
       "      <td>Locust Grove</td>\n",
       "      <td>22901</td>\n",
       "    </tr>\n",
       "    <tr>\n",
       "      <th>2</th>\n",
       "      <td>3</td>\n",
       "      <td>Vandalism</td>\n",
       "      <td>202500019373</td>\n",
       "      <td>800</td>\n",
       "      <td>PRESTON AVE</td>\n",
       "      <td>CPD</td>\n",
       "      <td>1735</td>\n",
       "      <td>Brannon, Devin</td>\n",
       "      <td>2025-06-06 17:35:08</td>\n",
       "      <td>2025-06-06 05:35:08 PM</td>\n",
       "      <td>Friday</td>\n",
       "      <td>False</td>\n",
       "      <td>Spring</td>\n",
       "      <td>05:35 PM</td>\n",
       "      <td>Evening</td>\n",
       "      <td>800 PRESTON AVE</td>\n",
       "      <td>38.036459</td>\n",
       "      <td>-78.488803</td>\n",
       "      <td>10th &amp; Page</td>\n",
       "      <td>22903</td>\n",
       "    </tr>\n",
       "    <tr>\n",
       "      <th>3</th>\n",
       "      <td>4</td>\n",
       "      <td>Vandalism</td>\n",
       "      <td>202500019370</td>\n",
       "      <td></td>\n",
       "      <td>9TH ST SW / PINE ST</td>\n",
       "      <td>CPD</td>\n",
       "      <td>1640</td>\n",
       "      <td>Essex, Dominique</td>\n",
       "      <td>2025-06-06 16:40:23</td>\n",
       "      <td>2025-06-06 04:40:23 PM</td>\n",
       "      <td>Friday</td>\n",
       "      <td>False</td>\n",
       "      <td>Spring</td>\n",
       "      <td>04:40 PM</td>\n",
       "      <td>Afternoon</td>\n",
       "      <td>9TH ST SW / PINE ST</td>\n",
       "      <td>38.027156</td>\n",
       "      <td>-78.495325</td>\n",
       "      <td>Fifeville</td>\n",
       "      <td>22903</td>\n",
       "    </tr>\n",
       "    <tr>\n",
       "      <th>4</th>\n",
       "      <td>5</td>\n",
       "      <td>Larceny - All Other</td>\n",
       "      <td>202500019359</td>\n",
       "      <td>1700</td>\n",
       "      <td>MONTICELLO RD</td>\n",
       "      <td>CPD</td>\n",
       "      <td>1528</td>\n",
       "      <td>Khaleefa, Hamzeh</td>\n",
       "      <td>2025-06-06 15:28:52</td>\n",
       "      <td>2025-06-06 03:28:52 PM</td>\n",
       "      <td>Friday</td>\n",
       "      <td>False</td>\n",
       "      <td>Spring</td>\n",
       "      <td>03:28 PM</td>\n",
       "      <td>Afternoon</td>\n",
       "      <td>1700 MONTICELLO RD</td>\n",
       "      <td>38.016489</td>\n",
       "      <td>-78.473156</td>\n",
       "      <td>Belmont</td>\n",
       "      <td>22902</td>\n",
       "    </tr>\n",
       "  </tbody>\n",
       "</table>\n",
       "</div>"
      ],
      "text/plain": [
       "   RecordID              Offense    IncidentID BlockNumber  \\\n",
       "0         1   Lost/FoundProperty  202500019385         600   \n",
       "1         2       Assault Simple  202500019379         900   \n",
       "2         3            Vandalism  202500019373         800   \n",
       "3         4            Vandalism  202500019370               \n",
       "4         5  Larceny - All Other  202500019359        1700   \n",
       "\n",
       "            StreetName Agency HourReported  ReportingOfficer  \\\n",
       "0          E MARKET ST    CPD         1855     Hudson, Jesse   \n",
       "1         ST CLAIR AVE    CPD         1811  Bentz, Benjamin    \n",
       "2          PRESTON AVE    CPD         1735    Brannon, Devin   \n",
       "3  9TH ST SW / PINE ST    CPD         1640  Essex, Dominique   \n",
       "4        MONTICELLO RD    CPD         1528  Khaleefa, Hamzeh   \n",
       "\n",
       "                 Date              DateString DayOfWeek  Weekend  Season  \\\n",
       "0 2025-06-06 18:55:55  2025-06-06 06:55:55 PM    Friday    False  Spring   \n",
       "1 2025-06-06 18:11:13  2025-06-06 06:11:13 PM    Friday    False  Spring   \n",
       "2 2025-06-06 17:35:08  2025-06-06 05:35:08 PM    Friday    False  Spring   \n",
       "3 2025-06-06 16:40:23  2025-06-06 04:40:23 PM    Friday    False  Spring   \n",
       "4 2025-06-06 15:28:52  2025-06-06 03:28:52 PM    Friday    False  Spring   \n",
       "\n",
       "   HourAMPM  TimeOfDay            FullStreet        lat        lon  \\\n",
       "0  06:55 PM    Evening       600 E MARKET ST  38.030175 -78.477574   \n",
       "1  06:11 PM    Evening      900 ST CLAIR AVE  38.037315 -78.463832   \n",
       "2  05:35 PM    Evening       800 PRESTON AVE  38.036459 -78.488803   \n",
       "3  04:40 PM  Afternoon   9TH ST SW / PINE ST  38.027156 -78.495325   \n",
       "4  03:28 PM  Afternoon    1700 MONTICELLO RD  38.016489 -78.473156   \n",
       "\n",
       "    neighborhood    zip  \n",
       "0  Downtown Mall  22902  \n",
       "1   Locust Grove  22901  \n",
       "2    10th & Page  22903  \n",
       "3      Fifeville  22903  \n",
       "4        Belmont  22902  "
      ]
     },
     "execution_count": 11,
     "metadata": {},
     "output_type": "execute_result"
    }
   ],
   "source": [
    "# Initialize the geocoder.\n",
    "geolocator = Nominatim(user_agent=\"zip_lookup\")\n",
    "\n",
    "# Try to load a persistent ZIP cache if available.\n",
    "try:\n",
    "    with open(\"zip_cache.pkl\", \"rb\") as f:\n",
    "        zip_cache = pickle.load(f)\n",
    "    print(\"Loaded zip cache.\")\n",
    "except FileNotFoundError:\n",
    "    zip_cache = {}\n",
    "    print(\"No zip cache found; starting fresh.\")\n",
    "\n",
    "def get_zip(lat, lon):\n",
    "    \"\"\"\n",
    "    Reverse geocodes a latitude and longitude to retrieve the ZIP code.\n",
    "    Caches results to speed up subsequent lookups.\n",
    "    \"\"\"\n",
    "    key = (lat, lon)\n",
    "    if key in zip_cache:\n",
    "        return zip_cache[key]\n",
    "    \n",
    "    try:\n",
    "        location = geolocator.reverse((lat, lon), exactly_one=True, timeout=10)\n",
    "        address = location.raw.get('address', {})\n",
    "        postal_code = address.get('postcode', \"N/A\")\n",
    "    except Exception as e:\n",
    "        print(f\"Error getting ZIP for {lat}, {lon}: {e}\")\n",
    "        postal_code = \"N/A\"\n",
    "    \n",
    "    zip_cache[key] = postal_code\n",
    "    # Pause to respect the usage policy.\n",
    "    time.sleep(1)\n",
    "    return postal_code\n",
    "\n",
    "# Apply the function to each row in the DataFrame.\n",
    "df['zip'] = df.apply(lambda row: get_zip(row['lat'], row['lon']), axis=1)\n",
    "\n",
    "# Save the updated ZIP cache.\n",
    "with open(\"zip_cache.pkl\", \"wb\") as f:\n",
    "    pickle.dump(zip_cache, f)\n",
    "\n",
    "df.head()\n"
   ]
  },
  {
   "cell_type": "code",
   "execution_count": 12,
   "id": "be1d8565",
   "metadata": {
    "execution": {
     "iopub.execute_input": "2025-06-09T01:09:05.419406Z",
     "iopub.status.busy": "2025-06-09T01:09:05.418979Z",
     "iopub.status.idle": "2025-06-09T01:09:05.446471Z",
     "shell.execute_reply": "2025-06-09T01:09:05.445920Z"
    },
    "papermill": {
     "duration": 0.034765,
     "end_time": "2025-06-09T01:09:05.447514",
     "exception": false,
     "start_time": "2025-06-09T01:09:05.412749",
     "status": "completed"
    },
    "tags": []
   },
   "outputs": [
    {
     "name": "stdout",
     "output_type": "stream",
     "text": [
      "                  MissingCount  MissingPercentage\n",
      "RecordID                     0               0.00\n",
      "Offense                      0               0.00\n",
      "IncidentID                   0               0.00\n",
      "BlockNumber                  0               0.00\n",
      "StreetName                   0               0.00\n",
      "Agency                       0               0.00\n",
      "HourReported                 0               0.00\n",
      "ReportingOfficer            17               0.07\n",
      "Date                         0               0.00\n",
      "DateString                   0               0.00\n",
      "DayOfWeek                    0               0.00\n",
      "Weekend                      0               0.00\n",
      "Season                       0               0.00\n",
      "HourAMPM                     0               0.00\n",
      "TimeOfDay                    0               0.00\n",
      "FullStreet                   0               0.00\n",
      "lat                         10               0.04\n",
      "lon                         10               0.04\n",
      "neighborhood                 0               0.00\n",
      "zip                          0               0.00\n"
     ]
    }
   ],
   "source": [
    "missing_info = missing_percentage(df)\n",
    "print(missing_info)\n"
   ]
  },
  {
   "cell_type": "code",
   "execution_count": 13,
   "id": "38cdb4ff",
   "metadata": {
    "execution": {
     "iopub.execute_input": "2025-06-09T01:09:05.459940Z",
     "iopub.status.busy": "2025-06-09T01:09:05.459546Z",
     "iopub.status.idle": "2025-06-09T01:09:05.486876Z",
     "shell.execute_reply": "2025-06-09T01:09:05.486187Z"
    },
    "papermill": {
     "duration": 0.034732,
     "end_time": "2025-06-09T01:09:05.488014",
     "exception": false,
     "start_time": "2025-06-09T01:09:05.453282",
     "status": "completed"
    },
    "tags": []
   },
   "outputs": [
    {
     "name": "stdout",
     "output_type": "stream",
     "text": [
      "<class 'pandas.core.frame.DataFrame'>\n",
      "RangeIndex: 25469 entries, 0 to 25468\n",
      "Data columns (total 20 columns):\n",
      " #   Column            Non-Null Count  Dtype         \n",
      "---  ------            --------------  -----         \n",
      " 0   RecordID          25469 non-null  int64         \n",
      " 1   Offense           25469 non-null  object        \n",
      " 2   IncidentID        25469 non-null  object        \n",
      " 3   BlockNumber       25469 non-null  object        \n",
      " 4   StreetName        25469 non-null  object        \n",
      " 5   Agency            25469 non-null  object        \n",
      " 6   HourReported      25469 non-null  object        \n",
      " 7   ReportingOfficer  25452 non-null  object        \n",
      " 8   Date              25469 non-null  datetime64[ns]\n",
      " 9   DateString        25469 non-null  object        \n",
      " 10  DayOfWeek         25469 non-null  object        \n",
      " 11  Weekend           25469 non-null  bool          \n",
      " 12  Season            25469 non-null  object        \n",
      " 13  HourAMPM          25469 non-null  object        \n",
      " 14  TimeOfDay         25469 non-null  object        \n",
      " 15  FullStreet        25469 non-null  object        \n",
      " 16  lat               25459 non-null  float64       \n",
      " 17  lon               25459 non-null  float64       \n",
      " 18  neighborhood      25469 non-null  object        \n",
      " 19  zip               25469 non-null  object        \n",
      "dtypes: bool(1), datetime64[ns](1), float64(2), int64(1), object(15)\n",
      "memory usage: 3.7+ MB\n"
     ]
    }
   ],
   "source": [
    "df.info()"
   ]
  },
  {
   "cell_type": "code",
   "execution_count": 14,
   "id": "9cef2e25",
   "metadata": {
    "execution": {
     "iopub.execute_input": "2025-06-09T01:09:05.500740Z",
     "iopub.status.busy": "2025-06-09T01:09:05.500217Z",
     "iopub.status.idle": "2025-06-09T01:09:05.543252Z",
     "shell.execute_reply": "2025-06-09T01:09:05.542524Z"
    },
    "papermill": {
     "duration": 0.050423,
     "end_time": "2025-06-09T01:09:05.544312",
     "exception": false,
     "start_time": "2025-06-09T01:09:05.493889",
     "status": "completed"
    },
    "tags": []
   },
   "outputs": [
    {
     "data": {
      "text/html": [
       "<div>\n",
       "<style scoped>\n",
       "    .dataframe tbody tr th:only-of-type {\n",
       "        vertical-align: middle;\n",
       "    }\n",
       "\n",
       "    .dataframe tbody tr th {\n",
       "        vertical-align: top;\n",
       "    }\n",
       "\n",
       "    .dataframe thead th {\n",
       "        text-align: right;\n",
       "    }\n",
       "</style>\n",
       "<table border=\"1\" class=\"dataframe\">\n",
       "  <thead>\n",
       "    <tr style=\"text-align: right;\">\n",
       "      <th></th>\n",
       "      <th>RecordID</th>\n",
       "      <th>Offense</th>\n",
       "      <th>IncidentID</th>\n",
       "      <th>Agency</th>\n",
       "      <th>ReportingOfficer</th>\n",
       "      <th>Date</th>\n",
       "      <th>DayOfWeek</th>\n",
       "      <th>Weekend</th>\n",
       "      <th>Season</th>\n",
       "      <th>TimeOfDay</th>\n",
       "      <th>FullStreet</th>\n",
       "      <th>lat</th>\n",
       "      <th>lon</th>\n",
       "      <th>neighborhood</th>\n",
       "      <th>zip</th>\n",
       "    </tr>\n",
       "  </thead>\n",
       "  <tbody>\n",
       "    <tr>\n",
       "      <th>0</th>\n",
       "      <td>1</td>\n",
       "      <td>Lost/FoundProperty</td>\n",
       "      <td>202500019385</td>\n",
       "      <td>CPD</td>\n",
       "      <td>Hudson, Jesse</td>\n",
       "      <td>2025-06-06 18:55:55</td>\n",
       "      <td>Friday</td>\n",
       "      <td>False</td>\n",
       "      <td>Spring</td>\n",
       "      <td>Evening</td>\n",
       "      <td>600 E MARKET ST</td>\n",
       "      <td>38.030175</td>\n",
       "      <td>-78.477574</td>\n",
       "      <td>Downtown Mall</td>\n",
       "      <td>22902</td>\n",
       "    </tr>\n",
       "    <tr>\n",
       "      <th>1</th>\n",
       "      <td>2</td>\n",
       "      <td>Assault Simple</td>\n",
       "      <td>202500019379</td>\n",
       "      <td>CPD</td>\n",
       "      <td>Bentz, Benjamin</td>\n",
       "      <td>2025-06-06 18:11:13</td>\n",
       "      <td>Friday</td>\n",
       "      <td>False</td>\n",
       "      <td>Spring</td>\n",
       "      <td>Evening</td>\n",
       "      <td>900 ST CLAIR AVE</td>\n",
       "      <td>38.037315</td>\n",
       "      <td>-78.463832</td>\n",
       "      <td>Locust Grove</td>\n",
       "      <td>22901</td>\n",
       "    </tr>\n",
       "    <tr>\n",
       "      <th>2</th>\n",
       "      <td>3</td>\n",
       "      <td>Vandalism</td>\n",
       "      <td>202500019373</td>\n",
       "      <td>CPD</td>\n",
       "      <td>Brannon, Devin</td>\n",
       "      <td>2025-06-06 17:35:08</td>\n",
       "      <td>Friday</td>\n",
       "      <td>False</td>\n",
       "      <td>Spring</td>\n",
       "      <td>Evening</td>\n",
       "      <td>800 PRESTON AVE</td>\n",
       "      <td>38.036459</td>\n",
       "      <td>-78.488803</td>\n",
       "      <td>10th &amp; Page</td>\n",
       "      <td>22903</td>\n",
       "    </tr>\n",
       "    <tr>\n",
       "      <th>3</th>\n",
       "      <td>4</td>\n",
       "      <td>Vandalism</td>\n",
       "      <td>202500019370</td>\n",
       "      <td>CPD</td>\n",
       "      <td>Essex, Dominique</td>\n",
       "      <td>2025-06-06 16:40:23</td>\n",
       "      <td>Friday</td>\n",
       "      <td>False</td>\n",
       "      <td>Spring</td>\n",
       "      <td>Afternoon</td>\n",
       "      <td>9TH ST SW / PINE ST</td>\n",
       "      <td>38.027156</td>\n",
       "      <td>-78.495325</td>\n",
       "      <td>Fifeville</td>\n",
       "      <td>22903</td>\n",
       "    </tr>\n",
       "    <tr>\n",
       "      <th>4</th>\n",
       "      <td>5</td>\n",
       "      <td>Larceny - All Other</td>\n",
       "      <td>202500019359</td>\n",
       "      <td>CPD</td>\n",
       "      <td>Khaleefa, Hamzeh</td>\n",
       "      <td>2025-06-06 15:28:52</td>\n",
       "      <td>Friday</td>\n",
       "      <td>False</td>\n",
       "      <td>Spring</td>\n",
       "      <td>Afternoon</td>\n",
       "      <td>1700 MONTICELLO RD</td>\n",
       "      <td>38.016489</td>\n",
       "      <td>-78.473156</td>\n",
       "      <td>Belmont</td>\n",
       "      <td>22902</td>\n",
       "    </tr>\n",
       "  </tbody>\n",
       "</table>\n",
       "</div>"
      ],
      "text/plain": [
       "   RecordID              Offense    IncidentID Agency  ReportingOfficer  \\\n",
       "0         1   Lost/FoundProperty  202500019385    CPD     Hudson, Jesse   \n",
       "1         2       Assault Simple  202500019379    CPD  Bentz, Benjamin    \n",
       "2         3            Vandalism  202500019373    CPD    Brannon, Devin   \n",
       "3         4            Vandalism  202500019370    CPD  Essex, Dominique   \n",
       "4         5  Larceny - All Other  202500019359    CPD  Khaleefa, Hamzeh   \n",
       "\n",
       "                 Date DayOfWeek  Weekend  Season  TimeOfDay  \\\n",
       "0 2025-06-06 18:55:55    Friday    False  Spring    Evening   \n",
       "1 2025-06-06 18:11:13    Friday    False  Spring    Evening   \n",
       "2 2025-06-06 17:35:08    Friday    False  Spring    Evening   \n",
       "3 2025-06-06 16:40:23    Friday    False  Spring  Afternoon   \n",
       "4 2025-06-06 15:28:52    Friday    False  Spring  Afternoon   \n",
       "\n",
       "             FullStreet        lat        lon   neighborhood    zip  \n",
       "0       600 E MARKET ST  38.030175 -78.477574  Downtown Mall  22902  \n",
       "1      900 ST CLAIR AVE  38.037315 -78.463832   Locust Grove  22901  \n",
       "2       800 PRESTON AVE  38.036459 -78.488803    10th & Page  22903  \n",
       "3   9TH ST SW / PINE ST  38.027156 -78.495325      Fifeville  22903  \n",
       "4    1700 MONTICELLO RD  38.016489 -78.473156        Belmont  22902  "
      ]
     },
     "execution_count": 14,
     "metadata": {},
     "output_type": "execute_result"
    }
   ],
   "source": [
    "# Now drop the original BlockNumber and StreetName columns\n",
    "df.drop(columns=['BlockNumber', 'StreetName','HourAMPM','HourReported','DateString'], inplace=True)\n",
    "df[\"zip\"] = df[\"zip\"].astype(str)\n",
    "\n",
    "# Fill all missing values in the DataFrame with \"N/A\"\n",
    "df.replace({None: \"N/A\", np.nan: \"N/A\", \"\": \"N/A\"}, inplace=True)\n",
    "df.head()"
   ]
  },
  {
   "cell_type": "code",
   "execution_count": 15,
   "id": "e632a833",
   "metadata": {
    "execution": {
     "iopub.execute_input": "2025-06-09T01:09:05.557746Z",
     "iopub.status.busy": "2025-06-09T01:09:05.557325Z",
     "iopub.status.idle": "2025-06-09T01:09:05.575128Z",
     "shell.execute_reply": "2025-06-09T01:09:05.574562Z"
    },
    "papermill": {
     "duration": 0.025597,
     "end_time": "2025-06-09T01:09:05.576168",
     "exception": false,
     "start_time": "2025-06-09T01:09:05.550571",
     "status": "completed"
    },
    "tags": []
   },
   "outputs": [
    {
     "name": "stdout",
     "output_type": "stream",
     "text": [
      "                  MissingCount  MissingPercentage\n",
      "RecordID                     0                0.0\n",
      "Offense                      0                0.0\n",
      "IncidentID                   0                0.0\n",
      "Agency                       0                0.0\n",
      "ReportingOfficer             0                0.0\n",
      "Date                         0                0.0\n",
      "DayOfWeek                    0                0.0\n",
      "Weekend                      0                0.0\n",
      "Season                       0                0.0\n",
      "TimeOfDay                    0                0.0\n",
      "FullStreet                   0                0.0\n",
      "lat                          0                0.0\n",
      "lon                          0                0.0\n",
      "neighborhood                 0                0.0\n",
      "zip                          0                0.0\n"
     ]
    }
   ],
   "source": [
    "missing_info = missing_percentage(df)\n",
    "print(missing_info)"
   ]
  },
  {
   "cell_type": "code",
   "execution_count": 16,
   "id": "7656a548",
   "metadata": {
    "execution": {
     "iopub.execute_input": "2025-06-09T01:09:05.589130Z",
     "iopub.status.busy": "2025-06-09T01:09:05.588882Z",
     "iopub.status.idle": "2025-06-09T01:09:05.593302Z",
     "shell.execute_reply": "2025-06-09T01:09:05.592787Z"
    },
    "papermill": {
     "duration": 0.011954,
     "end_time": "2025-06-09T01:09:05.594274",
     "exception": false,
     "start_time": "2025-06-09T01:09:05.582320",
     "status": "completed"
    },
    "tags": []
   },
   "outputs": [
    {
     "data": {
      "text/plain": [
       "Index(['RecordID', 'Offense', 'IncidentID', 'Agency', 'ReportingOfficer',\n",
       "       'Date', 'DayOfWeek', 'Weekend', 'Season', 'TimeOfDay', 'FullStreet',\n",
       "       'lat', 'lon', 'neighborhood', 'zip'],\n",
       "      dtype='object')"
      ]
     },
     "execution_count": 16,
     "metadata": {},
     "output_type": "execute_result"
    }
   ],
   "source": [
    "df.columns"
   ]
  },
  {
   "cell_type": "code",
   "execution_count": 17,
   "id": "66bfe89d",
   "metadata": {
    "execution": {
     "iopub.execute_input": "2025-06-09T01:09:05.607402Z",
     "iopub.status.busy": "2025-06-09T01:09:05.607162Z",
     "iopub.status.idle": "2025-06-09T01:09:05.626655Z",
     "shell.execute_reply": "2025-06-09T01:09:05.626099Z"
    },
    "papermill": {
     "duration": 0.027111,
     "end_time": "2025-06-09T01:09:05.627609",
     "exception": false,
     "start_time": "2025-06-09T01:09:05.600498",
     "status": "completed"
    },
    "tags": []
   },
   "outputs": [
    {
     "name": "stdout",
     "output_type": "stream",
     "text": [
      "<class 'pandas.core.frame.DataFrame'>\n",
      "RangeIndex: 25469 entries, 0 to 25468\n",
      "Data columns (total 15 columns):\n",
      " #   Column            Non-Null Count  Dtype         \n",
      "---  ------            --------------  -----         \n",
      " 0   RecordID          25469 non-null  int64         \n",
      " 1   Offense           25469 non-null  object        \n",
      " 2   IncidentID        25469 non-null  object        \n",
      " 3   Agency            25469 non-null  object        \n",
      " 4   ReportingOfficer  25469 non-null  object        \n",
      " 5   Date              25469 non-null  datetime64[ns]\n",
      " 6   DayOfWeek         25469 non-null  object        \n",
      " 7   Weekend           25469 non-null  bool          \n",
      " 8   Season            25469 non-null  object        \n",
      " 9   TimeOfDay         25469 non-null  object        \n",
      " 10  FullStreet        25469 non-null  object        \n",
      " 11  lat               25469 non-null  object        \n",
      " 12  lon               25469 non-null  object        \n",
      " 13  neighborhood      25469 non-null  object        \n",
      " 14  zip               25469 non-null  object        \n",
      "dtypes: bool(1), datetime64[ns](1), int64(1), object(12)\n",
      "memory usage: 2.7+ MB\n"
     ]
    }
   ],
   "source": [
    "df.info()"
   ]
  },
  {
   "cell_type": "markdown",
   "id": "8fa1401d",
   "metadata": {
    "papermill": {
     "duration": 0.006233,
     "end_time": "2025-06-09T01:09:05.640144",
     "exception": false,
     "start_time": "2025-06-09T01:09:05.633911",
     "status": "completed"
    },
    "tags": []
   },
   "source": [
    "### Export Clean Data"
   ]
  },
  {
   "cell_type": "code",
   "execution_count": 18,
   "id": "9986b492",
   "metadata": {
    "execution": {
     "iopub.execute_input": "2025-06-09T01:09:05.653435Z",
     "iopub.status.busy": "2025-06-09T01:09:05.653029Z",
     "iopub.status.idle": "2025-06-09T01:09:14.987691Z",
     "shell.execute_reply": "2025-06-09T01:09:14.986970Z"
    },
    "papermill": {
     "duration": 9.342577,
     "end_time": "2025-06-09T01:09:14.988838",
     "exception": false,
     "start_time": "2025-06-09T01:09:05.646261",
     "status": "completed"
    },
    "tags": []
   },
   "outputs": [
    {
     "name": "stdout",
     "output_type": "stream",
     "text": [
      "Project Root: /home/runner/work/crime-data/crime-data\n"
     ]
    },
    {
     "name": "stdout",
     "output_type": "stream",
     "text": [
      "Data saved to: /home/runner/work/crime-data/crime-data/data/charlottesville_crime_incidents.csv\n"
     ]
    },
    {
     "name": "stdout",
     "output_type": "stream",
     "text": [
      "Excel saved to: /home/runner/work/crime-data/crime-data/data/charlottesville_crime_incidents.xlsx\n"
     ]
    }
   ],
   "source": [
    "# Determine the project root (assuming papermill is run from the repository root)\n",
    "project_root = os.getcwd()\n",
    "print(\"Project Root:\", project_root)\n",
    "\n",
    "# Set the data directory within the project root\n",
    "data_dir = os.path.join(project_root, \"data\")\n",
    "\n",
    "# Ensure the \"data\" directory exists (create it if it doesn't)\n",
    "if not os.path.exists(data_dir):\n",
    "    os.makedirs(data_dir)\n",
    "\n",
    "# Export the DataFrame to CSV in the \"data\" folder located in the project root\n",
    "csv_path = os.path.join(data_dir, \"charlottesville_crime_incidents.csv\")\n",
    "df.to_csv(csv_path, index=False)\n",
    "print(\"Data saved to:\", csv_path)\n",
    "\n",
    "# Construct the path to your Excel file\n",
    "excel_path = os.path.join(data_dir, \"charlottesville_crime_incidents.xlsx\")\n",
    "\n",
    "# Export the DataFrame to Excel\n",
    "df.to_excel(excel_path, index=False)\n",
    "print(\"Excel saved to:\", excel_path)\n"
   ]
  }
 ],
 "metadata": {
  "kernelspec": {
   "display_name": "Python 3",
   "language": "python",
   "name": "python3"
  },
  "language_info": {
   "codemirror_mode": {
    "name": "ipython",
    "version": 3
   },
   "file_extension": ".py",
   "mimetype": "text/x-python",
   "name": "python",
   "nbconvert_exporter": "python",
   "pygments_lexer": "ipython3",
   "version": "3.9.22"
  },
  "papermill": {
   "default_parameters": {},
   "duration": 88.916025,
   "end_time": "2025-06-09T01:09:15.412257",
   "environment_variables": {},
   "exception": null,
   "input_path": "notebook/Crime Data.ipynb",
   "output_path": "notebook/Crime Data_output.ipynb",
   "parameters": {},
   "start_time": "2025-06-09T01:07:46.496232",
   "version": "2.6.0"
  }
 },
 "nbformat": 4,
 "nbformat_minor": 5
}