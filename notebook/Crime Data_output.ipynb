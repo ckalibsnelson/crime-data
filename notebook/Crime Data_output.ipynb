{
 "cells": [
  {
   "cell_type": "markdown",
   "id": "766d7b2e",
   "metadata": {
    "papermill": {
     "duration": 0.004351,
     "end_time": "2025-07-13T01:13:30.664458",
     "exception": false,
     "start_time": "2025-07-13T01:13:30.660107",
     "status": "completed"
    },
    "tags": []
   },
   "source": [
    "# Charlottesville Open Data Porttal: Crime Data"
   ]
  },
  {
   "cell_type": "markdown",
   "id": "fea1e02e",
   "metadata": {
    "papermill": {
     "duration": 0.003212,
     "end_time": "2025-07-13T01:13:30.671311",
     "exception": false,
     "start_time": "2025-07-13T01:13:30.668099",
     "status": "completed"
    },
    "tags": []
   },
   "source": [
    "## Import Relevant Librarires & Set WD"
   ]
  },
  {
   "cell_type": "code",
   "execution_count": 1,
   "id": "3cc5999f",
   "metadata": {
    "execution": {
     "iopub.execute_input": "2025-07-13T01:13:30.679573Z",
     "iopub.status.busy": "2025-07-13T01:13:30.678779Z",
     "iopub.status.idle": "2025-07-13T01:13:31.187520Z",
     "shell.execute_reply": "2025-07-13T01:13:31.186940Z"
    },
    "papermill": {
     "duration": 0.514351,
     "end_time": "2025-07-13T01:13:31.188904",
     "exception": false,
     "start_time": "2025-07-13T01:13:30.674553",
     "status": "completed"
    },
    "tags": []
   },
   "outputs": [],
   "source": [
    "import requests\n",
    "import pandas as pd\n",
    "import numpy as np\n",
    "import pickle\n",
    "import googlemaps\n",
    "import plotly.express as px\n",
    "from geopy.geocoders import Nominatim\n",
    "import time\n",
    "from dotenv import load_dotenv\n",
    "import os\n",
    "\n",
    "env_path = os.path.join(\"..\", \".env\")\n",
    "#print(\"Looking for .env file at:\", os.path.abspath(env_path))\n",
    "load_dotenv(dotenv_path=env_path)\n",
    "\n",
    "# Retrieve the variables\n",
    "GOOGLE_API_KEY = os.getenv(\"GOOGLE_API_KEY\")\n",
    "WORKING_DIR = os.getenv(\"WORKING_DIR\")\n",
    "\n",
    "if GOOGLE_API_KEY is None or WORKING_DIR is None:\n",
    "    raise RuntimeError(\"No configuration found. Please ensure that your .env file exists with the required variables, or create a local config.py file.\")\n",
    "\n",
    "#print(\"Google API Key:\", GOOGLE_API_KEY)\n",
    "#print(\"Working Directory:\", WORKING_DIR)"
   ]
  },
  {
   "cell_type": "markdown",
   "id": "bed493e6",
   "metadata": {
    "papermill": {
     "duration": 0.003305,
     "end_time": "2025-07-13T01:13:31.195816",
     "exception": false,
     "start_time": "2025-07-13T01:13:31.192511",
     "status": "completed"
    },
    "tags": []
   },
   "source": [
    "## Import Data\n",
    "\n",
    "URL: https://opendata.charlottesville.org/datasets/charlottesville::crime-data/about"
   ]
  },
  {
   "cell_type": "code",
   "execution_count": 2,
   "id": "7129fea1",
   "metadata": {
    "execution": {
     "iopub.execute_input": "2025-07-13T01:13:31.203642Z",
     "iopub.status.busy": "2025-07-13T01:13:31.202968Z",
     "iopub.status.idle": "2025-07-13T01:14:41.983120Z",
     "shell.execute_reply": "2025-07-13T01:14:41.982349Z"
    },
    "papermill": {
     "duration": 70.788349,
     "end_time": "2025-07-13T01:14:41.987456",
     "exception": false,
     "start_time": "2025-07-13T01:13:31.199107",
     "status": "completed"
    },
    "tags": []
   },
   "outputs": [
    {
     "name": "stdout",
     "output_type": "stream",
     "text": [
      "Total records imported: 25529\n"
     ]
    }
   ],
   "source": [
    "# Define the endpoint and initial parameters.\n",
    "url = \"https://gisweb.charlottesville.org/arcgis/rest/services/OpenData_2/MapServer/6/query\"\n",
    "params = {\n",
    "    \"where\": \"1=1\",\n",
    "    \"outFields\": \"*\",\n",
    "    \"outSR\": 4326,\n",
    "    \"f\": \"json\",\n",
    "    \"resultOffset\": 0,       # Starting index for results\n",
    "    \"resultRecordCount\": 10000  # Maximum records per batch (if allowed by the API)\n",
    "}\n",
    "\n",
    "records = []\n",
    "\n",
    "while True:\n",
    "    response = requests.get(url, params=params)\n",
    "    response.raise_for_status()\n",
    "    data = response.json()\n",
    "    \n",
    "    # Get the current batch of features.\n",
    "    features = data.get(\"features\", [])\n",
    "    if not features:\n",
    "        break\n",
    "\n",
    "    # Extract the attributes from the features.\n",
    "    batch_records = [feature.get(\"attributes\", {}) for feature in features]\n",
    "    records.extend(batch_records)\n",
    "    \n",
    "    # If the batch size is less than the requested count, we reached the end.\n",
    "    if len(features) < params[\"resultRecordCount\"]:\n",
    "        break\n",
    "\n",
    "    # Update the resultOffset for the next batch.\n",
    "    params[\"resultOffset\"] += params[\"resultRecordCount\"]\n",
    "\n",
    "# Create a DataFrame from the combined records.\n",
    "df = pd.DataFrame(records)\n",
    "print(\"Total records imported:\", len(df))\n"
   ]
  },
  {
   "cell_type": "code",
   "execution_count": 3,
   "id": "e3de3936",
   "metadata": {
    "execution": {
     "iopub.execute_input": "2025-07-13T01:14:41.995616Z",
     "iopub.status.busy": "2025-07-13T01:14:41.995062Z",
     "iopub.status.idle": "2025-07-13T01:14:42.007696Z",
     "shell.execute_reply": "2025-07-13T01:14:42.007048Z"
    },
    "papermill": {
     "duration": 0.017758,
     "end_time": "2025-07-13T01:14:42.008754",
     "exception": false,
     "start_time": "2025-07-13T01:14:41.990996",
     "status": "completed"
    },
    "tags": []
   },
   "outputs": [
    {
     "data": {
      "text/html": [
       "<div>\n",
       "<style scoped>\n",
       "    .dataframe tbody tr th:only-of-type {\n",
       "        vertical-align: middle;\n",
       "    }\n",
       "\n",
       "    .dataframe tbody tr th {\n",
       "        vertical-align: top;\n",
       "    }\n",
       "\n",
       "    .dataframe thead th {\n",
       "        text-align: right;\n",
       "    }\n",
       "</style>\n",
       "<table border=\"1\" class=\"dataframe\">\n",
       "  <thead>\n",
       "    <tr style=\"text-align: right;\">\n",
       "      <th></th>\n",
       "      <th>RecordID</th>\n",
       "      <th>Offense</th>\n",
       "      <th>IncidentID</th>\n",
       "      <th>BlockNumber</th>\n",
       "      <th>StreetName</th>\n",
       "      <th>Agency</th>\n",
       "      <th>DateReported</th>\n",
       "      <th>HourReported</th>\n",
       "      <th>ReportingOfficer</th>\n",
       "    </tr>\n",
       "  </thead>\n",
       "  <tbody>\n",
       "    <tr>\n",
       "      <th>0</th>\n",
       "      <td>1</td>\n",
       "      <td>Missing Person-adult</td>\n",
       "      <td>202500024114</td>\n",
       "      <td>600</td>\n",
       "      <td>E MARKET ST</td>\n",
       "      <td>CPD</td>\n",
       "      <td>1752206746000</td>\n",
       "      <td>0005</td>\n",
       "      <td>Gaytan, Alejandro</td>\n",
       "    </tr>\n",
       "    <tr>\n",
       "      <th>1</th>\n",
       "      <td>2</td>\n",
       "      <td>Driving Under the Influence</td>\n",
       "      <td>202500024078</td>\n",
       "      <td></td>\n",
       "      <td>AVON ST / ELLIOTT AVE</td>\n",
       "      <td>CPD</td>\n",
       "      <td>1752196490000</td>\n",
       "      <td>2114</td>\n",
       "      <td>Venereo, Arturo</td>\n",
       "    </tr>\n",
       "    <tr>\n",
       "      <th>2</th>\n",
       "      <td>3</td>\n",
       "      <td>Sex Offense-statutory rape</td>\n",
       "      <td>202500024066</td>\n",
       "      <td>600</td>\n",
       "      <td>E MARKET ST</td>\n",
       "      <td>CPD</td>\n",
       "      <td>1752191980000</td>\n",
       "      <td>1959</td>\n",
       "      <td>Reed, Danielle</td>\n",
       "    </tr>\n",
       "    <tr>\n",
       "      <th>3</th>\n",
       "      <td>4</td>\n",
       "      <td>Robbery - Strong Arm</td>\n",
       "      <td>202500024062</td>\n",
       "      <td>600</td>\n",
       "      <td>E WATER ST</td>\n",
       "      <td>CPD</td>\n",
       "      <td>1752191417000</td>\n",
       "      <td>1950</td>\n",
       "      <td>Abdelgayed, Adam</td>\n",
       "    </tr>\n",
       "    <tr>\n",
       "      <th>4</th>\n",
       "      <td>5</td>\n",
       "      <td>Larceny - Theft from Building</td>\n",
       "      <td>202500024056</td>\n",
       "      <td>300</td>\n",
       "      <td>15TH ST NW, 1018</td>\n",
       "      <td>CPD</td>\n",
       "      <td>1752188908000</td>\n",
       "      <td>1908</td>\n",
       "      <td>Hudson, Jesse</td>\n",
       "    </tr>\n",
       "  </tbody>\n",
       "</table>\n",
       "</div>"
      ],
      "text/plain": [
       "   RecordID                        Offense    IncidentID BlockNumber  \\\n",
       "0         1           Missing Person-adult  202500024114         600   \n",
       "1         2    Driving Under the Influence  202500024078               \n",
       "2         3     Sex Offense-statutory rape  202500024066         600   \n",
       "3         4           Robbery - Strong Arm  202500024062         600   \n",
       "4         5  Larceny - Theft from Building  202500024056         300   \n",
       "\n",
       "              StreetName Agency   DateReported HourReported   ReportingOfficer  \n",
       "0            E MARKET ST    CPD  1752206746000         0005  Gaytan, Alejandro  \n",
       "1  AVON ST / ELLIOTT AVE    CPD  1752196490000         2114    Venereo, Arturo  \n",
       "2            E MARKET ST    CPD  1752191980000         1959     Reed, Danielle  \n",
       "3             E WATER ST    CPD  1752191417000         1950   Abdelgayed, Adam  \n",
       "4       15TH ST NW, 1018    CPD  1752188908000         1908      Hudson, Jesse  "
      ]
     },
     "execution_count": 3,
     "metadata": {},
     "output_type": "execute_result"
    }
   ],
   "source": [
    "df.head()"
   ]
  },
  {
   "cell_type": "code",
   "execution_count": 4,
   "id": "b8475857",
   "metadata": {
    "execution": {
     "iopub.execute_input": "2025-07-13T01:14:42.016903Z",
     "iopub.status.busy": "2025-07-13T01:14:42.016500Z",
     "iopub.status.idle": "2025-07-13T01:14:42.020901Z",
     "shell.execute_reply": "2025-07-13T01:14:42.020352Z"
    },
    "papermill": {
     "duration": 0.009608,
     "end_time": "2025-07-13T01:14:42.022031",
     "exception": false,
     "start_time": "2025-07-13T01:14:42.012423",
     "status": "completed"
    },
    "tags": []
   },
   "outputs": [
    {
     "data": {
      "text/plain": [
       "Index(['RecordID', 'Offense', 'IncidentID', 'BlockNumber', 'StreetName',\n",
       "       'Agency', 'DateReported', 'HourReported', 'ReportingOfficer'],\n",
       "      dtype='object')"
      ]
     },
     "execution_count": 4,
     "metadata": {},
     "output_type": "execute_result"
    }
   ],
   "source": [
    "df.columns"
   ]
  },
  {
   "cell_type": "code",
   "execution_count": 5,
   "id": "d26f6005",
   "metadata": {
    "execution": {
     "iopub.execute_input": "2025-07-13T01:14:42.030912Z",
     "iopub.status.busy": "2025-07-13T01:14:42.030595Z",
     "iopub.status.idle": "2025-07-13T01:14:42.051630Z",
     "shell.execute_reply": "2025-07-13T01:14:42.050967Z"
    },
    "papermill": {
     "duration": 0.026899,
     "end_time": "2025-07-13T01:14:42.052763",
     "exception": false,
     "start_time": "2025-07-13T01:14:42.025864",
     "status": "completed"
    },
    "tags": []
   },
   "outputs": [
    {
     "name": "stdout",
     "output_type": "stream",
     "text": [
      "<class 'pandas.core.frame.DataFrame'>\n",
      "RangeIndex: 25529 entries, 0 to 25528\n",
      "Data columns (total 9 columns):\n",
      " #   Column            Non-Null Count  Dtype \n",
      "---  ------            --------------  ----- \n",
      " 0   RecordID          25529 non-null  int64 \n",
      " 1   Offense           25529 non-null  object\n",
      " 2   IncidentID        25529 non-null  object\n",
      " 3   BlockNumber       25529 non-null  object\n",
      " 4   StreetName        25529 non-null  object\n",
      " 5   Agency            25529 non-null  object\n",
      " 6   DateReported      25529 non-null  int64 \n",
      " 7   HourReported      25529 non-null  object\n",
      " 8   ReportingOfficer  25512 non-null  object\n",
      "dtypes: int64(2), object(7)\n",
      "memory usage: 1.8+ MB\n"
     ]
    }
   ],
   "source": [
    "df.info()"
   ]
  },
  {
   "cell_type": "markdown",
   "id": "e66440d3",
   "metadata": {
    "papermill": {
     "duration": 0.003674,
     "end_time": "2025-07-13T01:14:42.060528",
     "exception": false,
     "start_time": "2025-07-13T01:14:42.056854",
     "status": "completed"
    },
    "tags": []
   },
   "source": [
    "### Missing Values"
   ]
  },
  {
   "cell_type": "code",
   "execution_count": 6,
   "id": "295e8b8e",
   "metadata": {
    "execution": {
     "iopub.execute_input": "2025-07-13T01:14:42.092665Z",
     "iopub.status.busy": "2025-07-13T01:14:42.092217Z",
     "iopub.status.idle": "2025-07-13T01:14:42.117238Z",
     "shell.execute_reply": "2025-07-13T01:14:42.116654Z"
    },
    "papermill": {
     "duration": 0.030643,
     "end_time": "2025-07-13T01:14:42.118231",
     "exception": false,
     "start_time": "2025-07-13T01:14:42.087588",
     "status": "completed"
    },
    "tags": []
   },
   "outputs": [
    {
     "name": "stdout",
     "output_type": "stream",
     "text": [
      "                  MissingCount  MissingPercentage\n",
      "RecordID                     0               0.00\n",
      "Offense                      0               0.00\n",
      "IncidentID                   0               0.00\n",
      "BlockNumber                  0               0.00\n",
      "StreetName                   0               0.00\n",
      "Agency                       0               0.00\n",
      "DateReported                 0               0.00\n",
      "HourReported                 0               0.00\n",
      "ReportingOfficer            17               0.07\n"
     ]
    }
   ],
   "source": [
    "def missing_percentage(df):\n",
    "    \"\"\"\n",
    "    Returns a DataFrame with the count and percentage of missing values for each column.\n",
    "    \n",
    "    Parameters:\n",
    "        df (pd.DataFrame): The input DataFrame.\n",
    "    \n",
    "    Returns:\n",
    "        pd.DataFrame: A DataFrame with columns 'MissingCount' and 'MissingPercentage'.\n",
    "    \"\"\"\n",
    "    total_rows = len(df)\n",
    "    missing_count = df.isnull().sum()\n",
    "    missing_percent = (missing_count / total_rows) * 100\n",
    "    \n",
    "    result = pd.DataFrame({\n",
    "        'MissingCount': missing_count,\n",
    "        'MissingPercentage': missing_percent.round(2)\n",
    "    })\n",
    "    \n",
    "    return result\n",
    "\n",
    "# Example usage:\n",
    "missing_info = missing_percentage(df)\n",
    "print(missing_info)\n"
   ]
  },
  {
   "cell_type": "markdown",
   "id": "94ddac5c",
   "metadata": {
    "papermill": {
     "duration": 0.003893,
     "end_time": "2025-07-13T01:14:42.126221",
     "exception": false,
     "start_time": "2025-07-13T01:14:42.122328",
     "status": "completed"
    },
    "tags": []
   },
   "source": [
    "## Data Preparation"
   ]
  },
  {
   "cell_type": "markdown",
   "id": "fe028128",
   "metadata": {
    "papermill": {
     "duration": 0.003816,
     "end_time": "2025-07-13T01:14:42.133851",
     "exception": false,
     "start_time": "2025-07-13T01:14:42.130035",
     "status": "completed"
    },
    "tags": []
   },
   "source": [
    "### Data Conversion"
   ]
  },
  {
   "cell_type": "code",
   "execution_count": 7,
   "id": "17caf284",
   "metadata": {
    "execution": {
     "iopub.execute_input": "2025-07-13T01:14:42.142519Z",
     "iopub.status.busy": "2025-07-13T01:14:42.142108Z",
     "iopub.status.idle": "2025-07-13T01:14:42.501568Z",
     "shell.execute_reply": "2025-07-13T01:14:42.500983Z"
    },
    "papermill": {
     "duration": 0.36492,
     "end_time": "2025-07-13T01:14:42.502588",
     "exception": false,
     "start_time": "2025-07-13T01:14:42.137668",
     "status": "completed"
    },
    "tags": []
   },
   "outputs": [
    {
     "data": {
      "text/html": [
       "<div>\n",
       "<style scoped>\n",
       "    .dataframe tbody tr th:only-of-type {\n",
       "        vertical-align: middle;\n",
       "    }\n",
       "\n",
       "    .dataframe tbody tr th {\n",
       "        vertical-align: top;\n",
       "    }\n",
       "\n",
       "    .dataframe thead th {\n",
       "        text-align: right;\n",
       "    }\n",
       "</style>\n",
       "<table border=\"1\" class=\"dataframe\">\n",
       "  <thead>\n",
       "    <tr style=\"text-align: right;\">\n",
       "      <th></th>\n",
       "      <th>RecordID</th>\n",
       "      <th>Offense</th>\n",
       "      <th>IncidentID</th>\n",
       "      <th>BlockNumber</th>\n",
       "      <th>StreetName</th>\n",
       "      <th>Agency</th>\n",
       "      <th>HourReported</th>\n",
       "      <th>ReportingOfficer</th>\n",
       "      <th>Date</th>\n",
       "      <th>DateString</th>\n",
       "      <th>DayOfWeek</th>\n",
       "      <th>Weekend</th>\n",
       "      <th>Season</th>\n",
       "      <th>HourAMPM</th>\n",
       "      <th>TimeOfDay</th>\n",
       "    </tr>\n",
       "  </thead>\n",
       "  <tbody>\n",
       "    <tr>\n",
       "      <th>0</th>\n",
       "      <td>1</td>\n",
       "      <td>Missing Person-adult</td>\n",
       "      <td>202500024114</td>\n",
       "      <td>600</td>\n",
       "      <td>E MARKET ST</td>\n",
       "      <td>CPD</td>\n",
       "      <td>0005</td>\n",
       "      <td>Gaytan, Alejandro</td>\n",
       "      <td>2025-07-11 00:05:46</td>\n",
       "      <td>2025-07-11 12:05:46 AM</td>\n",
       "      <td>Friday</td>\n",
       "      <td>False</td>\n",
       "      <td>Summer</td>\n",
       "      <td>12:05 AM</td>\n",
       "      <td>Night</td>\n",
       "    </tr>\n",
       "    <tr>\n",
       "      <th>1</th>\n",
       "      <td>2</td>\n",
       "      <td>Driving Under the Influence</td>\n",
       "      <td>202500024078</td>\n",
       "      <td></td>\n",
       "      <td>AVON ST / ELLIOTT AVE</td>\n",
       "      <td>CPD</td>\n",
       "      <td>2114</td>\n",
       "      <td>Venereo, Arturo</td>\n",
       "      <td>2025-07-10 21:14:50</td>\n",
       "      <td>2025-07-10 09:14:50 PM</td>\n",
       "      <td>Thursday</td>\n",
       "      <td>False</td>\n",
       "      <td>Summer</td>\n",
       "      <td>09:14 PM</td>\n",
       "      <td>Night</td>\n",
       "    </tr>\n",
       "    <tr>\n",
       "      <th>2</th>\n",
       "      <td>3</td>\n",
       "      <td>Sex Offense-statutory rape</td>\n",
       "      <td>202500024066</td>\n",
       "      <td>600</td>\n",
       "      <td>E MARKET ST</td>\n",
       "      <td>CPD</td>\n",
       "      <td>1959</td>\n",
       "      <td>Reed, Danielle</td>\n",
       "      <td>2025-07-10 19:59:40</td>\n",
       "      <td>2025-07-10 07:59:40 PM</td>\n",
       "      <td>Thursday</td>\n",
       "      <td>False</td>\n",
       "      <td>Summer</td>\n",
       "      <td>07:59 PM</td>\n",
       "      <td>Evening</td>\n",
       "    </tr>\n",
       "    <tr>\n",
       "      <th>3</th>\n",
       "      <td>4</td>\n",
       "      <td>Robbery - Strong Arm</td>\n",
       "      <td>202500024062</td>\n",
       "      <td>600</td>\n",
       "      <td>E WATER ST</td>\n",
       "      <td>CPD</td>\n",
       "      <td>1950</td>\n",
       "      <td>Abdelgayed, Adam</td>\n",
       "      <td>2025-07-10 19:50:17</td>\n",
       "      <td>2025-07-10 07:50:17 PM</td>\n",
       "      <td>Thursday</td>\n",
       "      <td>False</td>\n",
       "      <td>Summer</td>\n",
       "      <td>07:50 PM</td>\n",
       "      <td>Evening</td>\n",
       "    </tr>\n",
       "    <tr>\n",
       "      <th>4</th>\n",
       "      <td>5</td>\n",
       "      <td>Larceny - Theft from Building</td>\n",
       "      <td>202500024056</td>\n",
       "      <td>300</td>\n",
       "      <td>15TH ST NW, 1018</td>\n",
       "      <td>CPD</td>\n",
       "      <td>1908</td>\n",
       "      <td>Hudson, Jesse</td>\n",
       "      <td>2025-07-10 19:08:28</td>\n",
       "      <td>2025-07-10 07:08:28 PM</td>\n",
       "      <td>Thursday</td>\n",
       "      <td>False</td>\n",
       "      <td>Summer</td>\n",
       "      <td>07:08 PM</td>\n",
       "      <td>Evening</td>\n",
       "    </tr>\n",
       "  </tbody>\n",
       "</table>\n",
       "</div>"
      ],
      "text/plain": [
       "   RecordID                        Offense    IncidentID BlockNumber  \\\n",
       "0         1           Missing Person-adult  202500024114         600   \n",
       "1         2    Driving Under the Influence  202500024078               \n",
       "2         3     Sex Offense-statutory rape  202500024066         600   \n",
       "3         4           Robbery - Strong Arm  202500024062         600   \n",
       "4         5  Larceny - Theft from Building  202500024056         300   \n",
       "\n",
       "              StreetName Agency HourReported   ReportingOfficer  \\\n",
       "0            E MARKET ST    CPD         0005  Gaytan, Alejandro   \n",
       "1  AVON ST / ELLIOTT AVE    CPD         2114    Venereo, Arturo   \n",
       "2            E MARKET ST    CPD         1959     Reed, Danielle   \n",
       "3             E WATER ST    CPD         1950   Abdelgayed, Adam   \n",
       "4       15TH ST NW, 1018    CPD         1908      Hudson, Jesse   \n",
       "\n",
       "                 Date              DateString DayOfWeek  Weekend  Season  \\\n",
       "0 2025-07-11 00:05:46  2025-07-11 12:05:46 AM    Friday    False  Summer   \n",
       "1 2025-07-10 21:14:50  2025-07-10 09:14:50 PM  Thursday    False  Summer   \n",
       "2 2025-07-10 19:59:40  2025-07-10 07:59:40 PM  Thursday    False  Summer   \n",
       "3 2025-07-10 19:50:17  2025-07-10 07:50:17 PM  Thursday    False  Summer   \n",
       "4 2025-07-10 19:08:28  2025-07-10 07:08:28 PM  Thursday    False  Summer   \n",
       "\n",
       "   HourAMPM TimeOfDay  \n",
       "0  12:05 AM     Night  \n",
       "1  09:14 PM     Night  \n",
       "2  07:59 PM   Evening  \n",
       "3  07:50 PM   Evening  \n",
       "4  07:08 PM   Evening  "
      ]
     },
     "execution_count": 7,
     "metadata": {},
     "output_type": "execute_result"
    }
   ],
   "source": [
    "def convert_and_categorize_datereported(df, col='DateReported'):\n",
    "    \"\"\"\n",
    "    Converts an epoch (in milliseconds) date column into a timezone-aware datetime,\n",
    "    converts it to Eastern Time, and then creates columns for day-of-week, weekend flag,\n",
    "    season, 12-hour formatted time, and time-of-day. Keeps both a real datetime column\n",
    "    (Date) and a string representation (DateString).\n",
    "    \"\"\"\n",
    "    import pandas as pd\n",
    "\n",
    "    # Convert the epoch timestamp to a pandas datetime object as UTC, then convert to US/Eastern.\n",
    "    df[\"DateReported_dt\"] = (\n",
    "        pd.to_datetime(df[col], unit=\"ms\", errors=\"coerce\", utc=True)\n",
    "        .dt.tz_convert(\"US/Eastern\")\n",
    "    )\n",
    "    \n",
    "    # Create a true datetime column (remove timezone if you prefer naive datetime)\n",
    "    df[\"Date\"] = df[\"DateReported_dt\"].dt.tz_localize(None)\n",
    "\n",
    "    # Optionally, create a separate string-formatted column\n",
    "    df[\"DateString\"] = df[\"DateReported_dt\"].dt.strftime(\"%Y-%m-%d %I:%M:%S %p\")\n",
    "    \n",
    "    # DayOfWeek\n",
    "    df[\"DayOfWeek\"] = df[\"DateReported_dt\"].dt.day_name()\n",
    "    \n",
    "    # Weekend\n",
    "    df[\"Weekend\"] = df[\"DayOfWeek\"].isin([\"Saturday\", \"Sunday\"])\n",
    "    \n",
    "    # Helper function to determine the season\n",
    "    def get_season(dt):\n",
    "        month = dt.month\n",
    "        day = dt.day\n",
    "        # Approximate Northern Hemisphere season boundaries:\n",
    "        if (month == 12 and day >= 21) or (month < 3) or (month == 3 and day < 20):\n",
    "            return \"Winter\"\n",
    "        elif (month == 3 and day >= 20) or (month < 6) or (month == 6 and day < 21):\n",
    "            return \"Spring\"\n",
    "        elif (month == 6 and day >= 21) or (month < 9) or (month == 9 and day < 22):\n",
    "            return \"Summer\"\n",
    "        else:\n",
    "            return \"Autumn\"\n",
    "    \n",
    "    df[\"Season\"] = df[\"DateReported_dt\"].apply(get_season)\n",
    "    \n",
    "    # 12-hour formatted time (HourAMPM)\n",
    "    df[\"HourAMPM\"] = df[\"DateReported_dt\"].dt.strftime(\"%I:%M %p\")\n",
    "    \n",
    "    # Extract hour (0-23) for time-of-day\n",
    "    df[\"HourValue\"] = df[\"DateReported_dt\"].dt.hour\n",
    "    \n",
    "    def time_of_day(hour):\n",
    "        if pd.isnull(hour):\n",
    "            return None\n",
    "        if 5 <= hour < 12:\n",
    "            return \"Morning\"\n",
    "        elif 12 <= hour < 17:\n",
    "            return \"Afternoon\"\n",
    "        elif 17 <= hour < 21:\n",
    "            return \"Evening\"\n",
    "        else:\n",
    "            return \"Night\"\n",
    "    \n",
    "    df[\"TimeOfDay\"] = df[\"HourValue\"].apply(time_of_day)\n",
    "    \n",
    "    # Drop columns you no longer need\n",
    "    df.drop(columns=[col, \"DateReported_dt\", \"HourValue\"], inplace=True)\n",
    "    \n",
    "    return df\n",
    "\n",
    "# Example usage:\n",
    "df = convert_and_categorize_datereported(df)\n",
    "df.head()\n"
   ]
  },
  {
   "cell_type": "code",
   "execution_count": 8,
   "id": "8418a5c8",
   "metadata": {
    "execution": {
     "iopub.execute_input": "2025-07-13T01:14:42.512245Z",
     "iopub.status.busy": "2025-07-13T01:14:42.511711Z",
     "iopub.status.idle": "2025-07-13T01:14:42.535942Z",
     "shell.execute_reply": "2025-07-13T01:14:42.535234Z"
    },
    "papermill": {
     "duration": 0.030101,
     "end_time": "2025-07-13T01:14:42.537063",
     "exception": false,
     "start_time": "2025-07-13T01:14:42.506962",
     "status": "completed"
    },
    "tags": []
   },
   "outputs": [
    {
     "name": "stdout",
     "output_type": "stream",
     "text": [
      "<class 'pandas.core.frame.DataFrame'>\n",
      "RangeIndex: 25529 entries, 0 to 25528\n",
      "Data columns (total 15 columns):\n",
      " #   Column            Non-Null Count  Dtype         \n",
      "---  ------            --------------  -----         \n",
      " 0   RecordID          25529 non-null  int64         \n",
      " 1   Offense           25529 non-null  object        \n",
      " 2   IncidentID        25529 non-null  object        \n",
      " 3   BlockNumber       25529 non-null  object        \n",
      " 4   StreetName        25529 non-null  object        \n",
      " 5   Agency            25529 non-null  object        \n",
      " 6   HourReported      25529 non-null  object        \n",
      " 7   ReportingOfficer  25512 non-null  object        \n",
      " 8   Date              25529 non-null  datetime64[ns]\n",
      " 9   DateString        25529 non-null  object        \n",
      " 10  DayOfWeek         25529 non-null  object        \n",
      " 11  Weekend           25529 non-null  bool          \n",
      " 12  Season            25529 non-null  object        \n",
      " 13  HourAMPM          25529 non-null  object        \n",
      " 14  TimeOfDay         25529 non-null  object        \n",
      "dtypes: bool(1), datetime64[ns](1), int64(1), object(12)\n",
      "memory usage: 2.8+ MB\n"
     ]
    }
   ],
   "source": [
    "df.info()"
   ]
  },
  {
   "cell_type": "markdown",
   "id": "0125204c",
   "metadata": {
    "papermill": {
     "duration": 0.004015,
     "end_time": "2025-07-13T01:14:42.545229",
     "exception": false,
     "start_time": "2025-07-13T01:14:42.541214",
     "status": "completed"
    },
    "tags": []
   },
   "source": [
    "### Coordinates"
   ]
  },
  {
   "cell_type": "code",
   "execution_count": 9,
   "id": "0309bb76",
   "metadata": {
    "execution": {
     "iopub.execute_input": "2025-07-13T01:14:42.554657Z",
     "iopub.status.busy": "2025-07-13T01:14:42.554087Z",
     "iopub.status.idle": "2025-07-13T01:14:42.748824Z",
     "shell.execute_reply": "2025-07-13T01:14:42.748259Z"
    },
    "papermill": {
     "duration": 0.200558,
     "end_time": "2025-07-13T01:14:42.749873",
     "exception": false,
     "start_time": "2025-07-13T01:14:42.549315",
     "status": "completed"
    },
    "tags": []
   },
   "outputs": [
    {
     "name": "stdout",
     "output_type": "stream",
     "text": [
      "Loaded geocode cache.\n",
      "Error geocoding 500 HARRIS RD, 126: REQUEST_DENIED (You must enable Billing on the Google Cloud Project at https://console.cloud.google.com/project/_/billing/enable Learn more at https://developers.google.com/maps/gmp-get-started)\n",
      "Geocoded 500 HARRIS RD, 126: None, None\n",
      "Error geocoding 400 PREMIER CIR: REQUEST_DENIED (You must enable Billing on the Google Cloud Project at https://console.cloud.google.com/project/_/billing/enable Learn more at https://developers.google.com/maps/gmp-get-started)\n",
      "Geocoded 400 PREMIER CIR: None, None\n",
      "Geocode cache updated and saved.\n"
     ]
    },
    {
     "data": {
      "text/html": [
       "<div>\n",
       "<style scoped>\n",
       "    .dataframe tbody tr th:only-of-type {\n",
       "        vertical-align: middle;\n",
       "    }\n",
       "\n",
       "    .dataframe tbody tr th {\n",
       "        vertical-align: top;\n",
       "    }\n",
       "\n",
       "    .dataframe thead th {\n",
       "        text-align: right;\n",
       "    }\n",
       "</style>\n",
       "<table border=\"1\" class=\"dataframe\">\n",
       "  <thead>\n",
       "    <tr style=\"text-align: right;\">\n",
       "      <th></th>\n",
       "      <th>RecordID</th>\n",
       "      <th>Offense</th>\n",
       "      <th>IncidentID</th>\n",
       "      <th>BlockNumber</th>\n",
       "      <th>StreetName</th>\n",
       "      <th>Agency</th>\n",
       "      <th>HourReported</th>\n",
       "      <th>ReportingOfficer</th>\n",
       "      <th>Date</th>\n",
       "      <th>DateString</th>\n",
       "      <th>DayOfWeek</th>\n",
       "      <th>Weekend</th>\n",
       "      <th>Season</th>\n",
       "      <th>HourAMPM</th>\n",
       "      <th>TimeOfDay</th>\n",
       "      <th>FullStreet</th>\n",
       "      <th>lat</th>\n",
       "      <th>lon</th>\n",
       "    </tr>\n",
       "  </thead>\n",
       "  <tbody>\n",
       "    <tr>\n",
       "      <th>0</th>\n",
       "      <td>1</td>\n",
       "      <td>Missing Person-adult</td>\n",
       "      <td>202500024114</td>\n",
       "      <td>600</td>\n",
       "      <td>E MARKET ST</td>\n",
       "      <td>CPD</td>\n",
       "      <td>0005</td>\n",
       "      <td>Gaytan, Alejandro</td>\n",
       "      <td>2025-07-11 00:05:46</td>\n",
       "      <td>2025-07-11 12:05:46 AM</td>\n",
       "      <td>Friday</td>\n",
       "      <td>False</td>\n",
       "      <td>Summer</td>\n",
       "      <td>12:05 AM</td>\n",
       "      <td>Night</td>\n",
       "      <td>600 E MARKET ST</td>\n",
       "      <td>38.030175</td>\n",
       "      <td>-78.477574</td>\n",
       "    </tr>\n",
       "    <tr>\n",
       "      <th>1</th>\n",
       "      <td>2</td>\n",
       "      <td>Driving Under the Influence</td>\n",
       "      <td>202500024078</td>\n",
       "      <td></td>\n",
       "      <td>AVON ST / ELLIOTT AVE</td>\n",
       "      <td>CPD</td>\n",
       "      <td>2114</td>\n",
       "      <td>Venereo, Arturo</td>\n",
       "      <td>2025-07-10 21:14:50</td>\n",
       "      <td>2025-07-10 09:14:50 PM</td>\n",
       "      <td>Thursday</td>\n",
       "      <td>False</td>\n",
       "      <td>Summer</td>\n",
       "      <td>09:14 PM</td>\n",
       "      <td>Night</td>\n",
       "      <td>AVON ST / ELLIOTT AVE</td>\n",
       "      <td>38.021278</td>\n",
       "      <td>-78.481389</td>\n",
       "    </tr>\n",
       "    <tr>\n",
       "      <th>2</th>\n",
       "      <td>3</td>\n",
       "      <td>Sex Offense-statutory rape</td>\n",
       "      <td>202500024066</td>\n",
       "      <td>600</td>\n",
       "      <td>E MARKET ST</td>\n",
       "      <td>CPD</td>\n",
       "      <td>1959</td>\n",
       "      <td>Reed, Danielle</td>\n",
       "      <td>2025-07-10 19:59:40</td>\n",
       "      <td>2025-07-10 07:59:40 PM</td>\n",
       "      <td>Thursday</td>\n",
       "      <td>False</td>\n",
       "      <td>Summer</td>\n",
       "      <td>07:59 PM</td>\n",
       "      <td>Evening</td>\n",
       "      <td>600 E MARKET ST</td>\n",
       "      <td>38.030175</td>\n",
       "      <td>-78.477574</td>\n",
       "    </tr>\n",
       "    <tr>\n",
       "      <th>3</th>\n",
       "      <td>4</td>\n",
       "      <td>Robbery - Strong Arm</td>\n",
       "      <td>202500024062</td>\n",
       "      <td>600</td>\n",
       "      <td>E WATER ST</td>\n",
       "      <td>CPD</td>\n",
       "      <td>1950</td>\n",
       "      <td>Abdelgayed, Adam</td>\n",
       "      <td>2025-07-10 19:50:17</td>\n",
       "      <td>2025-07-10 07:50:17 PM</td>\n",
       "      <td>Thursday</td>\n",
       "      <td>False</td>\n",
       "      <td>Summer</td>\n",
       "      <td>07:50 PM</td>\n",
       "      <td>Evening</td>\n",
       "      <td>600 E WATER ST</td>\n",
       "      <td>38.028757</td>\n",
       "      <td>-78.477608</td>\n",
       "    </tr>\n",
       "    <tr>\n",
       "      <th>4</th>\n",
       "      <td>5</td>\n",
       "      <td>Larceny - Theft from Building</td>\n",
       "      <td>202500024056</td>\n",
       "      <td>300</td>\n",
       "      <td>15TH ST NW, 1018</td>\n",
       "      <td>CPD</td>\n",
       "      <td>1908</td>\n",
       "      <td>Hudson, Jesse</td>\n",
       "      <td>2025-07-10 19:08:28</td>\n",
       "      <td>2025-07-10 07:08:28 PM</td>\n",
       "      <td>Thursday</td>\n",
       "      <td>False</td>\n",
       "      <td>Summer</td>\n",
       "      <td>07:08 PM</td>\n",
       "      <td>Evening</td>\n",
       "      <td>300 15TH ST NW, 1018</td>\n",
       "      <td>38.036303</td>\n",
       "      <td>-78.499381</td>\n",
       "    </tr>\n",
       "  </tbody>\n",
       "</table>\n",
       "</div>"
      ],
      "text/plain": [
       "   RecordID                        Offense    IncidentID BlockNumber  \\\n",
       "0         1           Missing Person-adult  202500024114         600   \n",
       "1         2    Driving Under the Influence  202500024078               \n",
       "2         3     Sex Offense-statutory rape  202500024066         600   \n",
       "3         4           Robbery - Strong Arm  202500024062         600   \n",
       "4         5  Larceny - Theft from Building  202500024056         300   \n",
       "\n",
       "              StreetName Agency HourReported   ReportingOfficer  \\\n",
       "0            E MARKET ST    CPD         0005  Gaytan, Alejandro   \n",
       "1  AVON ST / ELLIOTT AVE    CPD         2114    Venereo, Arturo   \n",
       "2            E MARKET ST    CPD         1959     Reed, Danielle   \n",
       "3             E WATER ST    CPD         1950   Abdelgayed, Adam   \n",
       "4       15TH ST NW, 1018    CPD         1908      Hudson, Jesse   \n",
       "\n",
       "                 Date              DateString DayOfWeek  Weekend  Season  \\\n",
       "0 2025-07-11 00:05:46  2025-07-11 12:05:46 AM    Friday    False  Summer   \n",
       "1 2025-07-10 21:14:50  2025-07-10 09:14:50 PM  Thursday    False  Summer   \n",
       "2 2025-07-10 19:59:40  2025-07-10 07:59:40 PM  Thursday    False  Summer   \n",
       "3 2025-07-10 19:50:17  2025-07-10 07:50:17 PM  Thursday    False  Summer   \n",
       "4 2025-07-10 19:08:28  2025-07-10 07:08:28 PM  Thursday    False  Summer   \n",
       "\n",
       "   HourAMPM TimeOfDay              FullStreet        lat        lon  \n",
       "0  12:05 AM     Night         600 E MARKET ST  38.030175 -78.477574  \n",
       "1  09:14 PM     Night   AVON ST / ELLIOTT AVE  38.021278 -78.481389  \n",
       "2  07:59 PM   Evening         600 E MARKET ST  38.030175 -78.477574  \n",
       "3  07:50 PM   Evening          600 E WATER ST  38.028757 -78.477608  \n",
       "4  07:08 PM   Evening    300 15TH ST NW, 1018  38.036303 -78.499381  "
      ]
     },
     "execution_count": 9,
     "metadata": {},
     "output_type": "execute_result"
    }
   ],
   "source": [
    "# Combine BlockNumber and StreetName into a full address string\n",
    "df['FullStreet'] = df['BlockNumber'].astype(str) + \" \" + df['StreetName']\n",
    "\n",
    "# --- Step 1: Setup the Google Maps Client and Cache ---\n",
    "gmaps = googlemaps.Client(key=GOOGLE_API_KEY)\n",
    "\n",
    "# Try to load cached geocoding results if available.\n",
    "try:\n",
    "    with open(\"geocode_cache_google.pkl\", \"rb\") as f:\n",
    "        street_coords = pickle.load(f)\n",
    "    print(\"Loaded geocode cache.\")\n",
    "except FileNotFoundError:\n",
    "    street_coords = {}\n",
    "    print(\"No cache found; starting fresh.\")\n",
    "\n",
    "def geocode_address(address):\n",
    "    try:\n",
    "        # Append city and state to help geocoding\n",
    "        result = gmaps.geocode(f\"{address}, Charlottesville, VA\")\n",
    "        if result:\n",
    "            lat = result[0]['geometry']['location']['lat']\n",
    "            lon = result[0]['geometry']['location']['lng']\n",
    "            return lat, lon\n",
    "    except Exception as e:\n",
    "        print(f\"Error geocoding {address}: {e}\")\n",
    "    return None, None\n",
    "\n",
    "# --- Step 2: Geocode Only New Addresses ---\n",
    "unique_addresses = df['FullStreet'].unique()\n",
    "for address in unique_addresses:\n",
    "    if address not in street_coords:\n",
    "        lat, lon = geocode_address(address)\n",
    "        street_coords[address] = (lat, lon)\n",
    "        print(f\"Geocoded {address}: {lat}, {lon}\")\n",
    "\n",
    "# Save the updated cache to disk.\n",
    "with open(\"geocode_cache_google.pkl\", \"wb\") as f:\n",
    "    pickle.dump(street_coords, f)\n",
    "    print(\"Geocode cache updated and saved.\")\n",
    "\n",
    "# --- Step 3: Map Coordinates Back to DataFrame ---\n",
    "df['lat'] = df['FullStreet'].map(lambda s: street_coords.get(s, (None, None))[0])\n",
    "df['lon'] = df['FullStreet'].map(lambda s: street_coords.get(s, (None, None))[1])\n",
    "\n",
    "df.head()"
   ]
  },
  {
   "cell_type": "markdown",
   "id": "589e3730",
   "metadata": {
    "papermill": {
     "duration": 0.004467,
     "end_time": "2025-07-13T01:14:42.759100",
     "exception": false,
     "start_time": "2025-07-13T01:14:42.754633",
     "status": "completed"
    },
    "tags": []
   },
   "source": [
    "### Neighborhood"
   ]
  },
  {
   "cell_type": "code",
   "execution_count": 10,
   "id": "825ec448",
   "metadata": {
    "execution": {
     "iopub.execute_input": "2025-07-13T01:14:42.768962Z",
     "iopub.status.busy": "2025-07-13T01:14:42.768387Z",
     "iopub.status.idle": "2025-07-13T01:14:44.247676Z",
     "shell.execute_reply": "2025-07-13T01:14:44.247045Z"
    },
    "papermill": {
     "duration": 1.485432,
     "end_time": "2025-07-13T01:14:44.248821",
     "exception": false,
     "start_time": "2025-07-13T01:14:42.763389",
     "status": "completed"
    },
    "tags": []
   },
   "outputs": [
    {
     "name": "stdout",
     "output_type": "stream",
     "text": [
      "Loaded neighborhood cache.\n",
      "Error getting neighborhood for nan, nan: HTTP Error: 400\n",
      "Error getting neighborhood for nan, nan: HTTP Error: 400\n",
      "Error getting neighborhood for nan, nan: HTTP Error: 400\n",
      "Error getting neighborhood for nan, nan: HTTP Error: 400\n"
     ]
    },
    {
     "name": "stdout",
     "output_type": "stream",
     "text": [
      "Error getting neighborhood for nan, nan: HTTP Error: 400\n",
      "Error getting neighborhood for nan, nan: HTTP Error: 400\n",
      "Error getting neighborhood for nan, nan: HTTP Error: 400\n",
      "Error getting neighborhood for nan, nan: HTTP Error: 400\n",
      "Error getting neighborhood for nan, nan: HTTP Error: 400\n",
      "Error getting neighborhood for nan, nan: HTTP Error: 400\n",
      "Error getting neighborhood for nan, nan: HTTP Error: 400\n",
      "Error getting neighborhood for nan, nan: HTTP Error: 400\n"
     ]
    },
    {
     "name": "stdout",
     "output_type": "stream",
     "text": [
      "Error getting neighborhood for nan, nan: HTTP Error: 400\n",
      "Error getting neighborhood for nan, nan: HTTP Error: 400\n",
      "Error getting neighborhood for nan, nan: HTTP Error: 400\n",
      "Error getting neighborhood for nan, nan: HTTP Error: 400\n",
      "Error getting neighborhood for nan, nan: HTTP Error: 400\n",
      "Error getting neighborhood for nan, nan: HTTP Error: 400\n",
      "Error getting neighborhood for nan, nan: HTTP Error: 400\n",
      "Error getting neighborhood for nan, nan: HTTP Error: 400\n",
      "Error getting neighborhood for nan, nan: HTTP Error: 400\n"
     ]
    },
    {
     "name": "stdout",
     "output_type": "stream",
     "text": [
      "Error getting neighborhood for nan, nan: HTTP Error: 400\n",
      "Error getting neighborhood for nan, nan: HTTP Error: 400\n",
      "Error getting neighborhood for nan, nan: HTTP Error: 400\n",
      "Error getting neighborhood for nan, nan: HTTP Error: 400\n",
      "Error getting neighborhood for nan, nan: HTTP Error: 400\n",
      "Error getting neighborhood for nan, nan: HTTP Error: 400\n",
      "Error getting neighborhood for nan, nan: HTTP Error: 400\n",
      "Error getting neighborhood for nan, nan: HTTP Error: 400\n",
      "Error getting neighborhood for nan, nan: HTTP Error: 400\n",
      "Error getting neighborhood for nan, nan: HTTP Error: 400\n"
     ]
    },
    {
     "name": "stdout",
     "output_type": "stream",
     "text": [
      "Error getting neighborhood for nan, nan: HTTP Error: 400\n",
      "Error getting neighborhood for nan, nan: HTTP Error: 400\n",
      "Error getting neighborhood for nan, nan: HTTP Error: 400\n",
      "Error getting neighborhood for nan, nan: HTTP Error: 400\n",
      "Error getting neighborhood for nan, nan: HTTP Error: 400\n",
      "Error getting neighborhood for nan, nan: HTTP Error: 400\n",
      "Error getting neighborhood for nan, nan: HTTP Error: 400\n",
      "Error getting neighborhood for nan, nan: HTTP Error: 400\n",
      "Error getting neighborhood for nan, nan: HTTP Error: 400\n"
     ]
    },
    {
     "name": "stdout",
     "output_type": "stream",
     "text": [
      "Error getting neighborhood for nan, nan: HTTP Error: 400\n",
      "Error getting neighborhood for nan, nan: HTTP Error: 400\n",
      "Error getting neighborhood for nan, nan: HTTP Error: 400\n",
      "Error getting neighborhood for nan, nan: HTTP Error: 400\n",
      "Error getting neighborhood for nan, nan: HTTP Error: 400\n",
      "Error getting neighborhood for nan, nan: HTTP Error: 400\n",
      "Error getting neighborhood for nan, nan: HTTP Error: 400\n",
      "Error getting neighborhood for nan, nan: HTTP Error: 400\n",
      "Error getting neighborhood for nan, nan: HTTP Error: 400\n"
     ]
    },
    {
     "name": "stdout",
     "output_type": "stream",
     "text": [
      "Error getting neighborhood for nan, nan: HTTP Error: 400\n"
     ]
    },
    {
     "data": {
      "text/html": [
       "<div>\n",
       "<style scoped>\n",
       "    .dataframe tbody tr th:only-of-type {\n",
       "        vertical-align: middle;\n",
       "    }\n",
       "\n",
       "    .dataframe tbody tr th {\n",
       "        vertical-align: top;\n",
       "    }\n",
       "\n",
       "    .dataframe thead th {\n",
       "        text-align: right;\n",
       "    }\n",
       "</style>\n",
       "<table border=\"1\" class=\"dataframe\">\n",
       "  <thead>\n",
       "    <tr style=\"text-align: right;\">\n",
       "      <th></th>\n",
       "      <th>RecordID</th>\n",
       "      <th>Offense</th>\n",
       "      <th>IncidentID</th>\n",
       "      <th>BlockNumber</th>\n",
       "      <th>StreetName</th>\n",
       "      <th>Agency</th>\n",
       "      <th>HourReported</th>\n",
       "      <th>ReportingOfficer</th>\n",
       "      <th>Date</th>\n",
       "      <th>DateString</th>\n",
       "      <th>DayOfWeek</th>\n",
       "      <th>Weekend</th>\n",
       "      <th>Season</th>\n",
       "      <th>HourAMPM</th>\n",
       "      <th>TimeOfDay</th>\n",
       "      <th>FullStreet</th>\n",
       "      <th>lat</th>\n",
       "      <th>lon</th>\n",
       "      <th>neighborhood</th>\n",
       "    </tr>\n",
       "  </thead>\n",
       "  <tbody>\n",
       "    <tr>\n",
       "      <th>0</th>\n",
       "      <td>1</td>\n",
       "      <td>Missing Person-adult</td>\n",
       "      <td>202500024114</td>\n",
       "      <td>600</td>\n",
       "      <td>E MARKET ST</td>\n",
       "      <td>CPD</td>\n",
       "      <td>0005</td>\n",
       "      <td>Gaytan, Alejandro</td>\n",
       "      <td>2025-07-11 00:05:46</td>\n",
       "      <td>2025-07-11 12:05:46 AM</td>\n",
       "      <td>Friday</td>\n",
       "      <td>False</td>\n",
       "      <td>Summer</td>\n",
       "      <td>12:05 AM</td>\n",
       "      <td>Night</td>\n",
       "      <td>600 E MARKET ST</td>\n",
       "      <td>38.030175</td>\n",
       "      <td>-78.477574</td>\n",
       "      <td>Downtown Mall</td>\n",
       "    </tr>\n",
       "    <tr>\n",
       "      <th>1</th>\n",
       "      <td>2</td>\n",
       "      <td>Driving Under the Influence</td>\n",
       "      <td>202500024078</td>\n",
       "      <td></td>\n",
       "      <td>AVON ST / ELLIOTT AVE</td>\n",
       "      <td>CPD</td>\n",
       "      <td>2114</td>\n",
       "      <td>Venereo, Arturo</td>\n",
       "      <td>2025-07-10 21:14:50</td>\n",
       "      <td>2025-07-10 09:14:50 PM</td>\n",
       "      <td>Thursday</td>\n",
       "      <td>False</td>\n",
       "      <td>Summer</td>\n",
       "      <td>09:14 PM</td>\n",
       "      <td>Night</td>\n",
       "      <td>AVON ST / ELLIOTT AVE</td>\n",
       "      <td>38.021278</td>\n",
       "      <td>-78.481389</td>\n",
       "      <td>Belmont</td>\n",
       "    </tr>\n",
       "    <tr>\n",
       "      <th>2</th>\n",
       "      <td>3</td>\n",
       "      <td>Sex Offense-statutory rape</td>\n",
       "      <td>202500024066</td>\n",
       "      <td>600</td>\n",
       "      <td>E MARKET ST</td>\n",
       "      <td>CPD</td>\n",
       "      <td>1959</td>\n",
       "      <td>Reed, Danielle</td>\n",
       "      <td>2025-07-10 19:59:40</td>\n",
       "      <td>2025-07-10 07:59:40 PM</td>\n",
       "      <td>Thursday</td>\n",
       "      <td>False</td>\n",
       "      <td>Summer</td>\n",
       "      <td>07:59 PM</td>\n",
       "      <td>Evening</td>\n",
       "      <td>600 E MARKET ST</td>\n",
       "      <td>38.030175</td>\n",
       "      <td>-78.477574</td>\n",
       "      <td>Downtown Mall</td>\n",
       "    </tr>\n",
       "    <tr>\n",
       "      <th>3</th>\n",
       "      <td>4</td>\n",
       "      <td>Robbery - Strong Arm</td>\n",
       "      <td>202500024062</td>\n",
       "      <td>600</td>\n",
       "      <td>E WATER ST</td>\n",
       "      <td>CPD</td>\n",
       "      <td>1950</td>\n",
       "      <td>Abdelgayed, Adam</td>\n",
       "      <td>2025-07-10 19:50:17</td>\n",
       "      <td>2025-07-10 07:50:17 PM</td>\n",
       "      <td>Thursday</td>\n",
       "      <td>False</td>\n",
       "      <td>Summer</td>\n",
       "      <td>07:50 PM</td>\n",
       "      <td>Evening</td>\n",
       "      <td>600 E WATER ST</td>\n",
       "      <td>38.028757</td>\n",
       "      <td>-78.477608</td>\n",
       "      <td>North Downtown</td>\n",
       "    </tr>\n",
       "    <tr>\n",
       "      <th>4</th>\n",
       "      <td>5</td>\n",
       "      <td>Larceny - Theft from Building</td>\n",
       "      <td>202500024056</td>\n",
       "      <td>300</td>\n",
       "      <td>15TH ST NW, 1018</td>\n",
       "      <td>CPD</td>\n",
       "      <td>1908</td>\n",
       "      <td>Hudson, Jesse</td>\n",
       "      <td>2025-07-10 19:08:28</td>\n",
       "      <td>2025-07-10 07:08:28 PM</td>\n",
       "      <td>Thursday</td>\n",
       "      <td>False</td>\n",
       "      <td>Summer</td>\n",
       "      <td>07:08 PM</td>\n",
       "      <td>Evening</td>\n",
       "      <td>300 15TH ST NW, 1018</td>\n",
       "      <td>38.036303</td>\n",
       "      <td>-78.499381</td>\n",
       "      <td>Venable</td>\n",
       "    </tr>\n",
       "  </tbody>\n",
       "</table>\n",
       "</div>"
      ],
      "text/plain": [
       "   RecordID                        Offense    IncidentID BlockNumber  \\\n",
       "0         1           Missing Person-adult  202500024114         600   \n",
       "1         2    Driving Under the Influence  202500024078               \n",
       "2         3     Sex Offense-statutory rape  202500024066         600   \n",
       "3         4           Robbery - Strong Arm  202500024062         600   \n",
       "4         5  Larceny - Theft from Building  202500024056         300   \n",
       "\n",
       "              StreetName Agency HourReported   ReportingOfficer  \\\n",
       "0            E MARKET ST    CPD         0005  Gaytan, Alejandro   \n",
       "1  AVON ST / ELLIOTT AVE    CPD         2114    Venereo, Arturo   \n",
       "2            E MARKET ST    CPD         1959     Reed, Danielle   \n",
       "3             E WATER ST    CPD         1950   Abdelgayed, Adam   \n",
       "4       15TH ST NW, 1018    CPD         1908      Hudson, Jesse   \n",
       "\n",
       "                 Date              DateString DayOfWeek  Weekend  Season  \\\n",
       "0 2025-07-11 00:05:46  2025-07-11 12:05:46 AM    Friday    False  Summer   \n",
       "1 2025-07-10 21:14:50  2025-07-10 09:14:50 PM  Thursday    False  Summer   \n",
       "2 2025-07-10 19:59:40  2025-07-10 07:59:40 PM  Thursday    False  Summer   \n",
       "3 2025-07-10 19:50:17  2025-07-10 07:50:17 PM  Thursday    False  Summer   \n",
       "4 2025-07-10 19:08:28  2025-07-10 07:08:28 PM  Thursday    False  Summer   \n",
       "\n",
       "   HourAMPM TimeOfDay              FullStreet        lat        lon  \\\n",
       "0  12:05 AM     Night         600 E MARKET ST  38.030175 -78.477574   \n",
       "1  09:14 PM     Night   AVON ST / ELLIOTT AVE  38.021278 -78.481389   \n",
       "2  07:59 PM   Evening         600 E MARKET ST  38.030175 -78.477574   \n",
       "3  07:50 PM   Evening          600 E WATER ST  38.028757 -78.477608   \n",
       "4  07:08 PM   Evening    300 15TH ST NW, 1018  38.036303 -78.499381   \n",
       "\n",
       "     neighborhood  \n",
       "0   Downtown Mall  \n",
       "1         Belmont  \n",
       "2   Downtown Mall  \n",
       "3  North Downtown  \n",
       "4         Venable  "
      ]
     },
     "execution_count": 10,
     "metadata": {},
     "output_type": "execute_result"
    }
   ],
   "source": [
    "# Initialize the Google Maps client.\n",
    "gmaps = googlemaps.Client(key=GOOGLE_API_KEY)\n",
    "\n",
    "# Try to load a persistent neighborhood cache if available.\n",
    "try:\n",
    "    with open(\"neighborhood_cache.pkl\", \"rb\") as f:\n",
    "        neighborhood_cache = pickle.load(f)\n",
    "    print(\"Loaded neighborhood cache.\")\n",
    "except FileNotFoundError:\n",
    "    neighborhood_cache = {}\n",
    "    print(\"No neighborhood cache found; starting fresh.\")\n",
    "\n",
    "def get_neighborhood(lat, lon):\n",
    "    \"\"\"\n",
    "    Reverse geocodes a latitude and longitude to retrieve the neighborhood.\n",
    "    Caches results to speed up subsequent lookups.\n",
    "    \"\"\"\n",
    "    key = (lat, lon)\n",
    "    if key in neighborhood_cache:\n",
    "        return neighborhood_cache[key]\n",
    "    \n",
    "    try:\n",
    "        result = gmaps.reverse_geocode((lat, lon))\n",
    "        if result:\n",
    "            # Look for the 'neighborhood' component in the first result.\n",
    "            for component in result[0]['address_components']:\n",
    "                if 'neighborhood' in component['types']:\n",
    "                    neighborhood = component['long_name']\n",
    "                    neighborhood_cache[key] = neighborhood\n",
    "                    return neighborhood\n",
    "            # If no neighborhood is found, return \"N/A\"\n",
    "            neighborhood_cache[key] = \"N/A\"\n",
    "            return \"N/A\"\n",
    "    except Exception as e:\n",
    "        print(f\"Error getting neighborhood for {lat}, {lon}: {e}\")\n",
    "        return \"N/A\"\n",
    "    \n",
    "    # Pause to respect usage limits.\n",
    "    time.sleep(1)\n",
    "\n",
    "# Example usage: Apply to your DataFrame 'df' that already has 'lat' and 'lon' columns.\n",
    "df['neighborhood'] = df.apply(lambda row: get_neighborhood(row['lat'], row['lon']), axis=1)\n",
    "\n",
    "# Save the updated neighborhood cache.\n",
    "with open(\"neighborhood_cache.pkl\", \"wb\") as f:\n",
    "    pickle.dump(neighborhood_cache, f)\n",
    "\n",
    "df.head()\n"
   ]
  },
  {
   "cell_type": "markdown",
   "id": "f3b62be1",
   "metadata": {
    "papermill": {
     "duration": 0.004968,
     "end_time": "2025-07-13T01:14:44.259192",
     "exception": false,
     "start_time": "2025-07-13T01:14:44.254224",
     "status": "completed"
    },
    "tags": []
   },
   "source": [
    "### Zip"
   ]
  },
  {
   "cell_type": "code",
   "execution_count": 11,
   "id": "2d4ef40c",
   "metadata": {
    "execution": {
     "iopub.execute_input": "2025-07-13T01:14:44.270178Z",
     "iopub.status.busy": "2025-07-13T01:14:44.269753Z",
     "iopub.status.idle": "2025-07-13T01:15:34.600820Z",
     "shell.execute_reply": "2025-07-13T01:15:34.600127Z"
    },
    "papermill": {
     "duration": 50.337694,
     "end_time": "2025-07-13T01:15:34.601858",
     "exception": false,
     "start_time": "2025-07-13T01:14:44.264164",
     "status": "completed"
    },
    "tags": []
   },
   "outputs": [
    {
     "name": "stdout",
     "output_type": "stream",
     "text": [
      "Loaded zip cache.\n",
      "Error getting ZIP for nan, nan: Must be a coordinate pair or Point\n"
     ]
    },
    {
     "name": "stdout",
     "output_type": "stream",
     "text": [
      "Error getting ZIP for nan, nan: Must be a coordinate pair or Point\n"
     ]
    },
    {
     "name": "stdout",
     "output_type": "stream",
     "text": [
      "Error getting ZIP for nan, nan: Must be a coordinate pair or Point\n"
     ]
    },
    {
     "name": "stdout",
     "output_type": "stream",
     "text": [
      "Error getting ZIP for nan, nan: Must be a coordinate pair or Point\n"
     ]
    },
    {
     "name": "stdout",
     "output_type": "stream",
     "text": [
      "Error getting ZIP for nan, nan: Must be a coordinate pair or Point\n"
     ]
    },
    {
     "name": "stdout",
     "output_type": "stream",
     "text": [
      "Error getting ZIP for nan, nan: Must be a coordinate pair or Point\n"
     ]
    },
    {
     "name": "stdout",
     "output_type": "stream",
     "text": [
      "Error getting ZIP for nan, nan: Must be a coordinate pair or Point\n"
     ]
    },
    {
     "name": "stdout",
     "output_type": "stream",
     "text": [
      "Error getting ZIP for nan, nan: Must be a coordinate pair or Point\n"
     ]
    },
    {
     "name": "stdout",
     "output_type": "stream",
     "text": [
      "Error getting ZIP for nan, nan: Must be a coordinate pair or Point\n"
     ]
    },
    {
     "name": "stdout",
     "output_type": "stream",
     "text": [
      "Error getting ZIP for nan, nan: Must be a coordinate pair or Point\n"
     ]
    },
    {
     "name": "stdout",
     "output_type": "stream",
     "text": [
      "Error getting ZIP for nan, nan: Must be a coordinate pair or Point\n"
     ]
    },
    {
     "name": "stdout",
     "output_type": "stream",
     "text": [
      "Error getting ZIP for nan, nan: Must be a coordinate pair or Point\n"
     ]
    },
    {
     "name": "stdout",
     "output_type": "stream",
     "text": [
      "Error getting ZIP for nan, nan: Must be a coordinate pair or Point\n"
     ]
    },
    {
     "name": "stdout",
     "output_type": "stream",
     "text": [
      "Error getting ZIP for nan, nan: Must be a coordinate pair or Point\n"
     ]
    },
    {
     "name": "stdout",
     "output_type": "stream",
     "text": [
      "Error getting ZIP for nan, nan: Must be a coordinate pair or Point\n"
     ]
    },
    {
     "name": "stdout",
     "output_type": "stream",
     "text": [
      "Error getting ZIP for nan, nan: Must be a coordinate pair or Point\n"
     ]
    },
    {
     "name": "stdout",
     "output_type": "stream",
     "text": [
      "Error getting ZIP for nan, nan: Must be a coordinate pair or Point\n"
     ]
    },
    {
     "name": "stdout",
     "output_type": "stream",
     "text": [
      "Error getting ZIP for nan, nan: Must be a coordinate pair or Point\n"
     ]
    },
    {
     "name": "stdout",
     "output_type": "stream",
     "text": [
      "Error getting ZIP for nan, nan: Must be a coordinate pair or Point\n"
     ]
    },
    {
     "name": "stdout",
     "output_type": "stream",
     "text": [
      "Error getting ZIP for nan, nan: Must be a coordinate pair or Point\n"
     ]
    },
    {
     "name": "stdout",
     "output_type": "stream",
     "text": [
      "Error getting ZIP for nan, nan: Must be a coordinate pair or Point\n"
     ]
    },
    {
     "name": "stdout",
     "output_type": "stream",
     "text": [
      "Error getting ZIP for nan, nan: Must be a coordinate pair or Point\n"
     ]
    },
    {
     "name": "stdout",
     "output_type": "stream",
     "text": [
      "Error getting ZIP for nan, nan: Must be a coordinate pair or Point\n"
     ]
    },
    {
     "name": "stdout",
     "output_type": "stream",
     "text": [
      "Error getting ZIP for nan, nan: Must be a coordinate pair or Point\n"
     ]
    },
    {
     "name": "stdout",
     "output_type": "stream",
     "text": [
      "Error getting ZIP for nan, nan: Must be a coordinate pair or Point\n"
     ]
    },
    {
     "name": "stdout",
     "output_type": "stream",
     "text": [
      "Error getting ZIP for nan, nan: Must be a coordinate pair or Point\n"
     ]
    },
    {
     "name": "stdout",
     "output_type": "stream",
     "text": [
      "Error getting ZIP for nan, nan: Must be a coordinate pair or Point\n"
     ]
    },
    {
     "name": "stdout",
     "output_type": "stream",
     "text": [
      "Error getting ZIP for nan, nan: Must be a coordinate pair or Point\n"
     ]
    },
    {
     "name": "stdout",
     "output_type": "stream",
     "text": [
      "Error getting ZIP for nan, nan: Must be a coordinate pair or Point\n"
     ]
    },
    {
     "name": "stdout",
     "output_type": "stream",
     "text": [
      "Error getting ZIP for nan, nan: Must be a coordinate pair or Point\n"
     ]
    },
    {
     "name": "stdout",
     "output_type": "stream",
     "text": [
      "Error getting ZIP for nan, nan: Must be a coordinate pair or Point\n"
     ]
    },
    {
     "name": "stdout",
     "output_type": "stream",
     "text": [
      "Error getting ZIP for nan, nan: Must be a coordinate pair or Point\n"
     ]
    },
    {
     "name": "stdout",
     "output_type": "stream",
     "text": [
      "Error getting ZIP for nan, nan: Must be a coordinate pair or Point\n"
     ]
    },
    {
     "name": "stdout",
     "output_type": "stream",
     "text": [
      "Error getting ZIP for nan, nan: Must be a coordinate pair or Point\n"
     ]
    },
    {
     "name": "stdout",
     "output_type": "stream",
     "text": [
      "Error getting ZIP for nan, nan: Must be a coordinate pair or Point\n"
     ]
    },
    {
     "name": "stdout",
     "output_type": "stream",
     "text": [
      "Error getting ZIP for nan, nan: Must be a coordinate pair or Point\n"
     ]
    },
    {
     "name": "stdout",
     "output_type": "stream",
     "text": [
      "Error getting ZIP for nan, nan: Must be a coordinate pair or Point\n"
     ]
    },
    {
     "name": "stdout",
     "output_type": "stream",
     "text": [
      "Error getting ZIP for nan, nan: Must be a coordinate pair or Point\n"
     ]
    },
    {
     "name": "stdout",
     "output_type": "stream",
     "text": [
      "Error getting ZIP for nan, nan: Must be a coordinate pair or Point\n"
     ]
    },
    {
     "name": "stdout",
     "output_type": "stream",
     "text": [
      "Error getting ZIP for nan, nan: Must be a coordinate pair or Point\n"
     ]
    },
    {
     "name": "stdout",
     "output_type": "stream",
     "text": [
      "Error getting ZIP for nan, nan: Must be a coordinate pair or Point\n"
     ]
    },
    {
     "name": "stdout",
     "output_type": "stream",
     "text": [
      "Error getting ZIP for nan, nan: Must be a coordinate pair or Point\n"
     ]
    },
    {
     "name": "stdout",
     "output_type": "stream",
     "text": [
      "Error getting ZIP for nan, nan: Must be a coordinate pair or Point\n"
     ]
    },
    {
     "name": "stdout",
     "output_type": "stream",
     "text": [
      "Error getting ZIP for nan, nan: Must be a coordinate pair or Point\n"
     ]
    },
    {
     "name": "stdout",
     "output_type": "stream",
     "text": [
      "Error getting ZIP for nan, nan: Must be a coordinate pair or Point\n"
     ]
    },
    {
     "name": "stdout",
     "output_type": "stream",
     "text": [
      "Error getting ZIP for nan, nan: Must be a coordinate pair or Point\n"
     ]
    },
    {
     "name": "stdout",
     "output_type": "stream",
     "text": [
      "Error getting ZIP for nan, nan: Must be a coordinate pair or Point\n"
     ]
    },
    {
     "name": "stdout",
     "output_type": "stream",
     "text": [
      "Error getting ZIP for nan, nan: Must be a coordinate pair or Point\n"
     ]
    },
    {
     "name": "stdout",
     "output_type": "stream",
     "text": [
      "Error getting ZIP for nan, nan: Must be a coordinate pair or Point\n"
     ]
    },
    {
     "name": "stdout",
     "output_type": "stream",
     "text": [
      "Error getting ZIP for nan, nan: Must be a coordinate pair or Point\n"
     ]
    },
    {
     "data": {
      "text/html": [
       "<div>\n",
       "<style scoped>\n",
       "    .dataframe tbody tr th:only-of-type {\n",
       "        vertical-align: middle;\n",
       "    }\n",
       "\n",
       "    .dataframe tbody tr th {\n",
       "        vertical-align: top;\n",
       "    }\n",
       "\n",
       "    .dataframe thead th {\n",
       "        text-align: right;\n",
       "    }\n",
       "</style>\n",
       "<table border=\"1\" class=\"dataframe\">\n",
       "  <thead>\n",
       "    <tr style=\"text-align: right;\">\n",
       "      <th></th>\n",
       "      <th>RecordID</th>\n",
       "      <th>Offense</th>\n",
       "      <th>IncidentID</th>\n",
       "      <th>BlockNumber</th>\n",
       "      <th>StreetName</th>\n",
       "      <th>Agency</th>\n",
       "      <th>HourReported</th>\n",
       "      <th>ReportingOfficer</th>\n",
       "      <th>Date</th>\n",
       "      <th>DateString</th>\n",
       "      <th>DayOfWeek</th>\n",
       "      <th>Weekend</th>\n",
       "      <th>Season</th>\n",
       "      <th>HourAMPM</th>\n",
       "      <th>TimeOfDay</th>\n",
       "      <th>FullStreet</th>\n",
       "      <th>lat</th>\n",
       "      <th>lon</th>\n",
       "      <th>neighborhood</th>\n",
       "      <th>zip</th>\n",
       "    </tr>\n",
       "  </thead>\n",
       "  <tbody>\n",
       "    <tr>\n",
       "      <th>0</th>\n",
       "      <td>1</td>\n",
       "      <td>Missing Person-adult</td>\n",
       "      <td>202500024114</td>\n",
       "      <td>600</td>\n",
       "      <td>E MARKET ST</td>\n",
       "      <td>CPD</td>\n",
       "      <td>0005</td>\n",
       "      <td>Gaytan, Alejandro</td>\n",
       "      <td>2025-07-11 00:05:46</td>\n",
       "      <td>2025-07-11 12:05:46 AM</td>\n",
       "      <td>Friday</td>\n",
       "      <td>False</td>\n",
       "      <td>Summer</td>\n",
       "      <td>12:05 AM</td>\n",
       "      <td>Night</td>\n",
       "      <td>600 E MARKET ST</td>\n",
       "      <td>38.030175</td>\n",
       "      <td>-78.477574</td>\n",
       "      <td>Downtown Mall</td>\n",
       "      <td>22902</td>\n",
       "    </tr>\n",
       "    <tr>\n",
       "      <th>1</th>\n",
       "      <td>2</td>\n",
       "      <td>Driving Under the Influence</td>\n",
       "      <td>202500024078</td>\n",
       "      <td></td>\n",
       "      <td>AVON ST / ELLIOTT AVE</td>\n",
       "      <td>CPD</td>\n",
       "      <td>2114</td>\n",
       "      <td>Venereo, Arturo</td>\n",
       "      <td>2025-07-10 21:14:50</td>\n",
       "      <td>2025-07-10 09:14:50 PM</td>\n",
       "      <td>Thursday</td>\n",
       "      <td>False</td>\n",
       "      <td>Summer</td>\n",
       "      <td>09:14 PM</td>\n",
       "      <td>Night</td>\n",
       "      <td>AVON ST / ELLIOTT AVE</td>\n",
       "      <td>38.021278</td>\n",
       "      <td>-78.481389</td>\n",
       "      <td>Belmont</td>\n",
       "      <td>22903</td>\n",
       "    </tr>\n",
       "    <tr>\n",
       "      <th>2</th>\n",
       "      <td>3</td>\n",
       "      <td>Sex Offense-statutory rape</td>\n",
       "      <td>202500024066</td>\n",
       "      <td>600</td>\n",
       "      <td>E MARKET ST</td>\n",
       "      <td>CPD</td>\n",
       "      <td>1959</td>\n",
       "      <td>Reed, Danielle</td>\n",
       "      <td>2025-07-10 19:59:40</td>\n",
       "      <td>2025-07-10 07:59:40 PM</td>\n",
       "      <td>Thursday</td>\n",
       "      <td>False</td>\n",
       "      <td>Summer</td>\n",
       "      <td>07:59 PM</td>\n",
       "      <td>Evening</td>\n",
       "      <td>600 E MARKET ST</td>\n",
       "      <td>38.030175</td>\n",
       "      <td>-78.477574</td>\n",
       "      <td>Downtown Mall</td>\n",
       "      <td>22902</td>\n",
       "    </tr>\n",
       "    <tr>\n",
       "      <th>3</th>\n",
       "      <td>4</td>\n",
       "      <td>Robbery - Strong Arm</td>\n",
       "      <td>202500024062</td>\n",
       "      <td>600</td>\n",
       "      <td>E WATER ST</td>\n",
       "      <td>CPD</td>\n",
       "      <td>1950</td>\n",
       "      <td>Abdelgayed, Adam</td>\n",
       "      <td>2025-07-10 19:50:17</td>\n",
       "      <td>2025-07-10 07:50:17 PM</td>\n",
       "      <td>Thursday</td>\n",
       "      <td>False</td>\n",
       "      <td>Summer</td>\n",
       "      <td>07:50 PM</td>\n",
       "      <td>Evening</td>\n",
       "      <td>600 E WATER ST</td>\n",
       "      <td>38.028757</td>\n",
       "      <td>-78.477608</td>\n",
       "      <td>North Downtown</td>\n",
       "      <td>22902</td>\n",
       "    </tr>\n",
       "    <tr>\n",
       "      <th>4</th>\n",
       "      <td>5</td>\n",
       "      <td>Larceny - Theft from Building</td>\n",
       "      <td>202500024056</td>\n",
       "      <td>300</td>\n",
       "      <td>15TH ST NW, 1018</td>\n",
       "      <td>CPD</td>\n",
       "      <td>1908</td>\n",
       "      <td>Hudson, Jesse</td>\n",
       "      <td>2025-07-10 19:08:28</td>\n",
       "      <td>2025-07-10 07:08:28 PM</td>\n",
       "      <td>Thursday</td>\n",
       "      <td>False</td>\n",
       "      <td>Summer</td>\n",
       "      <td>07:08 PM</td>\n",
       "      <td>Evening</td>\n",
       "      <td>300 15TH ST NW, 1018</td>\n",
       "      <td>38.036303</td>\n",
       "      <td>-78.499381</td>\n",
       "      <td>Venable</td>\n",
       "      <td>22903</td>\n",
       "    </tr>\n",
       "  </tbody>\n",
       "</table>\n",
       "</div>"
      ],
      "text/plain": [
       "   RecordID                        Offense    IncidentID BlockNumber  \\\n",
       "0         1           Missing Person-adult  202500024114         600   \n",
       "1         2    Driving Under the Influence  202500024078               \n",
       "2         3     Sex Offense-statutory rape  202500024066         600   \n",
       "3         4           Robbery - Strong Arm  202500024062         600   \n",
       "4         5  Larceny - Theft from Building  202500024056         300   \n",
       "\n",
       "              StreetName Agency HourReported   ReportingOfficer  \\\n",
       "0            E MARKET ST    CPD         0005  Gaytan, Alejandro   \n",
       "1  AVON ST / ELLIOTT AVE    CPD         2114    Venereo, Arturo   \n",
       "2            E MARKET ST    CPD         1959     Reed, Danielle   \n",
       "3             E WATER ST    CPD         1950   Abdelgayed, Adam   \n",
       "4       15TH ST NW, 1018    CPD         1908      Hudson, Jesse   \n",
       "\n",
       "                 Date              DateString DayOfWeek  Weekend  Season  \\\n",
       "0 2025-07-11 00:05:46  2025-07-11 12:05:46 AM    Friday    False  Summer   \n",
       "1 2025-07-10 21:14:50  2025-07-10 09:14:50 PM  Thursday    False  Summer   \n",
       "2 2025-07-10 19:59:40  2025-07-10 07:59:40 PM  Thursday    False  Summer   \n",
       "3 2025-07-10 19:50:17  2025-07-10 07:50:17 PM  Thursday    False  Summer   \n",
       "4 2025-07-10 19:08:28  2025-07-10 07:08:28 PM  Thursday    False  Summer   \n",
       "\n",
       "   HourAMPM TimeOfDay              FullStreet        lat        lon  \\\n",
       "0  12:05 AM     Night         600 E MARKET ST  38.030175 -78.477574   \n",
       "1  09:14 PM     Night   AVON ST / ELLIOTT AVE  38.021278 -78.481389   \n",
       "2  07:59 PM   Evening         600 E MARKET ST  38.030175 -78.477574   \n",
       "3  07:50 PM   Evening          600 E WATER ST  38.028757 -78.477608   \n",
       "4  07:08 PM   Evening    300 15TH ST NW, 1018  38.036303 -78.499381   \n",
       "\n",
       "     neighborhood    zip  \n",
       "0   Downtown Mall  22902  \n",
       "1         Belmont  22903  \n",
       "2   Downtown Mall  22902  \n",
       "3  North Downtown  22902  \n",
       "4         Venable  22903  "
      ]
     },
     "execution_count": 11,
     "metadata": {},
     "output_type": "execute_result"
    }
   ],
   "source": [
    "# Initialize the geocoder.\n",
    "geolocator = Nominatim(user_agent=\"zip_lookup\")\n",
    "\n",
    "# Try to load a persistent ZIP cache if available.\n",
    "try:\n",
    "    with open(\"zip_cache.pkl\", \"rb\") as f:\n",
    "        zip_cache = pickle.load(f)\n",
    "    print(\"Loaded zip cache.\")\n",
    "except FileNotFoundError:\n",
    "    zip_cache = {}\n",
    "    print(\"No zip cache found; starting fresh.\")\n",
    "\n",
    "def get_zip(lat, lon):\n",
    "    \"\"\"\n",
    "    Reverse geocodes a latitude and longitude to retrieve the ZIP code.\n",
    "    Caches results to speed up subsequent lookups.\n",
    "    \"\"\"\n",
    "    key = (lat, lon)\n",
    "    if key in zip_cache:\n",
    "        return zip_cache[key]\n",
    "    \n",
    "    try:\n",
    "        location = geolocator.reverse((lat, lon), exactly_one=True, timeout=10)\n",
    "        address = location.raw.get('address', {})\n",
    "        postal_code = address.get('postcode', \"N/A\")\n",
    "    except Exception as e:\n",
    "        print(f\"Error getting ZIP for {lat}, {lon}: {e}\")\n",
    "        postal_code = \"N/A\"\n",
    "    \n",
    "    zip_cache[key] = postal_code\n",
    "    # Pause to respect the usage policy.\n",
    "    time.sleep(1)\n",
    "    return postal_code\n",
    "\n",
    "# Apply the function to each row in the DataFrame.\n",
    "df['zip'] = df.apply(lambda row: get_zip(row['lat'], row['lon']), axis=1)\n",
    "\n",
    "# Save the updated ZIP cache.\n",
    "with open(\"zip_cache.pkl\", \"wb\") as f:\n",
    "    pickle.dump(zip_cache, f)\n",
    "\n",
    "df.head()\n"
   ]
  },
  {
   "cell_type": "code",
   "execution_count": 12,
   "id": "2ec542cb",
   "metadata": {
    "execution": {
     "iopub.execute_input": "2025-07-13T01:15:34.617957Z",
     "iopub.status.busy": "2025-07-13T01:15:34.617702Z",
     "iopub.status.idle": "2025-07-13T01:15:34.646840Z",
     "shell.execute_reply": "2025-07-13T01:15:34.646253Z"
    },
    "papermill": {
     "duration": 0.038401,
     "end_time": "2025-07-13T01:15:34.647831",
     "exception": false,
     "start_time": "2025-07-13T01:15:34.609430",
     "status": "completed"
    },
    "tags": []
   },
   "outputs": [
    {
     "name": "stdout",
     "output_type": "stream",
     "text": [
      "                  MissingCount  MissingPercentage\n",
      "RecordID                     0               0.00\n",
      "Offense                      0               0.00\n",
      "IncidentID                   0               0.00\n",
      "BlockNumber                  0               0.00\n",
      "StreetName                   0               0.00\n",
      "Agency                       0               0.00\n",
      "HourReported                 0               0.00\n",
      "ReportingOfficer            17               0.07\n",
      "Date                         0               0.00\n",
      "DateString                   0               0.00\n",
      "DayOfWeek                    0               0.00\n",
      "Weekend                      0               0.00\n",
      "Season                       0               0.00\n",
      "HourAMPM                     0               0.00\n",
      "TimeOfDay                    0               0.00\n",
      "FullStreet                   0               0.00\n",
      "lat                         50               0.20\n",
      "lon                         50               0.20\n",
      "neighborhood                 0               0.00\n",
      "zip                          0               0.00\n"
     ]
    }
   ],
   "source": [
    "missing_info = missing_percentage(df)\n",
    "print(missing_info)\n"
   ]
  },
  {
   "cell_type": "code",
   "execution_count": 13,
   "id": "9f8627c2",
   "metadata": {
    "execution": {
     "iopub.execute_input": "2025-07-13T01:15:34.663889Z",
     "iopub.status.busy": "2025-07-13T01:15:34.663403Z",
     "iopub.status.idle": "2025-07-13T01:15:34.693125Z",
     "shell.execute_reply": "2025-07-13T01:15:34.692516Z"
    },
    "papermill": {
     "duration": 0.038929,
     "end_time": "2025-07-13T01:15:34.694216",
     "exception": false,
     "start_time": "2025-07-13T01:15:34.655287",
     "status": "completed"
    },
    "tags": []
   },
   "outputs": [
    {
     "name": "stdout",
     "output_type": "stream",
     "text": [
      "<class 'pandas.core.frame.DataFrame'>\n",
      "RangeIndex: 25529 entries, 0 to 25528\n",
      "Data columns (total 20 columns):\n",
      " #   Column            Non-Null Count  Dtype         \n",
      "---  ------            --------------  -----         \n",
      " 0   RecordID          25529 non-null  int64         \n",
      " 1   Offense           25529 non-null  object        \n",
      " 2   IncidentID        25529 non-null  object        \n",
      " 3   BlockNumber       25529 non-null  object        \n",
      " 4   StreetName        25529 non-null  object        \n",
      " 5   Agency            25529 non-null  object        \n",
      " 6   HourReported      25529 non-null  object        \n",
      " 7   ReportingOfficer  25512 non-null  object        \n",
      " 8   Date              25529 non-null  datetime64[ns]\n",
      " 9   DateString        25529 non-null  object        \n",
      " 10  DayOfWeek         25529 non-null  object        \n",
      " 11  Weekend           25529 non-null  bool          \n",
      " 12  Season            25529 non-null  object        \n",
      " 13  HourAMPM          25529 non-null  object        \n",
      " 14  TimeOfDay         25529 non-null  object        \n",
      " 15  FullStreet        25529 non-null  object        \n",
      " 16  lat               25479 non-null  float64       \n",
      " 17  lon               25479 non-null  float64       \n",
      " 18  neighborhood      25529 non-null  object        \n",
      " 19  zip               25529 non-null  object        \n",
      "dtypes: bool(1), datetime64[ns](1), float64(2), int64(1), object(15)\n",
      "memory usage: 3.7+ MB\n"
     ]
    }
   ],
   "source": [
    "df.info()"
   ]
  },
  {
   "cell_type": "code",
   "execution_count": 14,
   "id": "45764e31",
   "metadata": {
    "execution": {
     "iopub.execute_input": "2025-07-13T01:15:34.710467Z",
     "iopub.status.busy": "2025-07-13T01:15:34.709989Z",
     "iopub.status.idle": "2025-07-13T01:15:34.753402Z",
     "shell.execute_reply": "2025-07-13T01:15:34.752709Z"
    },
    "papermill": {
     "duration": 0.052587,
     "end_time": "2025-07-13T01:15:34.754484",
     "exception": false,
     "start_time": "2025-07-13T01:15:34.701897",
     "status": "completed"
    },
    "tags": []
   },
   "outputs": [
    {
     "data": {
      "text/html": [
       "<div>\n",
       "<style scoped>\n",
       "    .dataframe tbody tr th:only-of-type {\n",
       "        vertical-align: middle;\n",
       "    }\n",
       "\n",
       "    .dataframe tbody tr th {\n",
       "        vertical-align: top;\n",
       "    }\n",
       "\n",
       "    .dataframe thead th {\n",
       "        text-align: right;\n",
       "    }\n",
       "</style>\n",
       "<table border=\"1\" class=\"dataframe\">\n",
       "  <thead>\n",
       "    <tr style=\"text-align: right;\">\n",
       "      <th></th>\n",
       "      <th>RecordID</th>\n",
       "      <th>Offense</th>\n",
       "      <th>IncidentID</th>\n",
       "      <th>Agency</th>\n",
       "      <th>ReportingOfficer</th>\n",
       "      <th>Date</th>\n",
       "      <th>DayOfWeek</th>\n",
       "      <th>Weekend</th>\n",
       "      <th>Season</th>\n",
       "      <th>TimeOfDay</th>\n",
       "      <th>FullStreet</th>\n",
       "      <th>lat</th>\n",
       "      <th>lon</th>\n",
       "      <th>neighborhood</th>\n",
       "      <th>zip</th>\n",
       "    </tr>\n",
       "  </thead>\n",
       "  <tbody>\n",
       "    <tr>\n",
       "      <th>0</th>\n",
       "      <td>1</td>\n",
       "      <td>Missing Person-adult</td>\n",
       "      <td>202500024114</td>\n",
       "      <td>CPD</td>\n",
       "      <td>Gaytan, Alejandro</td>\n",
       "      <td>2025-07-11 00:05:46</td>\n",
       "      <td>Friday</td>\n",
       "      <td>False</td>\n",
       "      <td>Summer</td>\n",
       "      <td>Night</td>\n",
       "      <td>600 E MARKET ST</td>\n",
       "      <td>38.030175</td>\n",
       "      <td>-78.477574</td>\n",
       "      <td>Downtown Mall</td>\n",
       "      <td>22902</td>\n",
       "    </tr>\n",
       "    <tr>\n",
       "      <th>1</th>\n",
       "      <td>2</td>\n",
       "      <td>Driving Under the Influence</td>\n",
       "      <td>202500024078</td>\n",
       "      <td>CPD</td>\n",
       "      <td>Venereo, Arturo</td>\n",
       "      <td>2025-07-10 21:14:50</td>\n",
       "      <td>Thursday</td>\n",
       "      <td>False</td>\n",
       "      <td>Summer</td>\n",
       "      <td>Night</td>\n",
       "      <td>AVON ST / ELLIOTT AVE</td>\n",
       "      <td>38.021278</td>\n",
       "      <td>-78.481389</td>\n",
       "      <td>Belmont</td>\n",
       "      <td>22903</td>\n",
       "    </tr>\n",
       "    <tr>\n",
       "      <th>2</th>\n",
       "      <td>3</td>\n",
       "      <td>Sex Offense-statutory rape</td>\n",
       "      <td>202500024066</td>\n",
       "      <td>CPD</td>\n",
       "      <td>Reed, Danielle</td>\n",
       "      <td>2025-07-10 19:59:40</td>\n",
       "      <td>Thursday</td>\n",
       "      <td>False</td>\n",
       "      <td>Summer</td>\n",
       "      <td>Evening</td>\n",
       "      <td>600 E MARKET ST</td>\n",
       "      <td>38.030175</td>\n",
       "      <td>-78.477574</td>\n",
       "      <td>Downtown Mall</td>\n",
       "      <td>22902</td>\n",
       "    </tr>\n",
       "    <tr>\n",
       "      <th>3</th>\n",
       "      <td>4</td>\n",
       "      <td>Robbery - Strong Arm</td>\n",
       "      <td>202500024062</td>\n",
       "      <td>CPD</td>\n",
       "      <td>Abdelgayed, Adam</td>\n",
       "      <td>2025-07-10 19:50:17</td>\n",
       "      <td>Thursday</td>\n",
       "      <td>False</td>\n",
       "      <td>Summer</td>\n",
       "      <td>Evening</td>\n",
       "      <td>600 E WATER ST</td>\n",
       "      <td>38.028757</td>\n",
       "      <td>-78.477608</td>\n",
       "      <td>North Downtown</td>\n",
       "      <td>22902</td>\n",
       "    </tr>\n",
       "    <tr>\n",
       "      <th>4</th>\n",
       "      <td>5</td>\n",
       "      <td>Larceny - Theft from Building</td>\n",
       "      <td>202500024056</td>\n",
       "      <td>CPD</td>\n",
       "      <td>Hudson, Jesse</td>\n",
       "      <td>2025-07-10 19:08:28</td>\n",
       "      <td>Thursday</td>\n",
       "      <td>False</td>\n",
       "      <td>Summer</td>\n",
       "      <td>Evening</td>\n",
       "      <td>300 15TH ST NW, 1018</td>\n",
       "      <td>38.036303</td>\n",
       "      <td>-78.499381</td>\n",
       "      <td>Venable</td>\n",
       "      <td>22903</td>\n",
       "    </tr>\n",
       "  </tbody>\n",
       "</table>\n",
       "</div>"
      ],
      "text/plain": [
       "   RecordID                        Offense    IncidentID Agency  \\\n",
       "0         1           Missing Person-adult  202500024114    CPD   \n",
       "1         2    Driving Under the Influence  202500024078    CPD   \n",
       "2         3     Sex Offense-statutory rape  202500024066    CPD   \n",
       "3         4           Robbery - Strong Arm  202500024062    CPD   \n",
       "4         5  Larceny - Theft from Building  202500024056    CPD   \n",
       "\n",
       "    ReportingOfficer                Date DayOfWeek  Weekend  Season TimeOfDay  \\\n",
       "0  Gaytan, Alejandro 2025-07-11 00:05:46    Friday    False  Summer     Night   \n",
       "1    Venereo, Arturo 2025-07-10 21:14:50  Thursday    False  Summer     Night   \n",
       "2     Reed, Danielle 2025-07-10 19:59:40  Thursday    False  Summer   Evening   \n",
       "3   Abdelgayed, Adam 2025-07-10 19:50:17  Thursday    False  Summer   Evening   \n",
       "4      Hudson, Jesse 2025-07-10 19:08:28  Thursday    False  Summer   Evening   \n",
       "\n",
       "               FullStreet        lat        lon    neighborhood    zip  \n",
       "0         600 E MARKET ST  38.030175 -78.477574   Downtown Mall  22902  \n",
       "1   AVON ST / ELLIOTT AVE  38.021278 -78.481389         Belmont  22903  \n",
       "2         600 E MARKET ST  38.030175 -78.477574   Downtown Mall  22902  \n",
       "3          600 E WATER ST  38.028757 -78.477608  North Downtown  22902  \n",
       "4    300 15TH ST NW, 1018  38.036303 -78.499381         Venable  22903  "
      ]
     },
     "execution_count": 14,
     "metadata": {},
     "output_type": "execute_result"
    }
   ],
   "source": [
    "# Now drop the original BlockNumber and StreetName columns\n",
    "df.drop(columns=['BlockNumber', 'StreetName','HourAMPM','HourReported','DateString'], inplace=True)\n",
    "df[\"zip\"] = df[\"zip\"].astype(str)\n",
    "\n",
    "# Fill all missing values in the DataFrame with \"N/A\"\n",
    "df.replace({None: \"N/A\", np.nan: \"N/A\", \"\": \"N/A\"}, inplace=True)\n",
    "df.head()"
   ]
  },
  {
   "cell_type": "code",
   "execution_count": 15,
   "id": "80cc1d91",
   "metadata": {
    "execution": {
     "iopub.execute_input": "2025-07-13T01:15:34.771422Z",
     "iopub.status.busy": "2025-07-13T01:15:34.770913Z",
     "iopub.status.idle": "2025-07-13T01:15:34.788781Z",
     "shell.execute_reply": "2025-07-13T01:15:34.788134Z"
    },
    "papermill": {
     "duration": 0.027471,
     "end_time": "2025-07-13T01:15:34.789937",
     "exception": false,
     "start_time": "2025-07-13T01:15:34.762466",
     "status": "completed"
    },
    "tags": []
   },
   "outputs": [
    {
     "name": "stdout",
     "output_type": "stream",
     "text": [
      "                  MissingCount  MissingPercentage\n",
      "RecordID                     0                0.0\n",
      "Offense                      0                0.0\n",
      "IncidentID                   0                0.0\n",
      "Agency                       0                0.0\n",
      "ReportingOfficer             0                0.0\n",
      "Date                         0                0.0\n",
      "DayOfWeek                    0                0.0\n",
      "Weekend                      0                0.0\n",
      "Season                       0                0.0\n",
      "TimeOfDay                    0                0.0\n",
      "FullStreet                   0                0.0\n",
      "lat                          0                0.0\n",
      "lon                          0                0.0\n",
      "neighborhood                 0                0.0\n",
      "zip                          0                0.0\n"
     ]
    }
   ],
   "source": [
    "missing_info = missing_percentage(df)\n",
    "print(missing_info)"
   ]
  },
  {
   "cell_type": "code",
   "execution_count": 16,
   "id": "aa5da78b",
   "metadata": {
    "execution": {
     "iopub.execute_input": "2025-07-13T01:15:34.806427Z",
     "iopub.status.busy": "2025-07-13T01:15:34.806021Z",
     "iopub.status.idle": "2025-07-13T01:15:34.810290Z",
     "shell.execute_reply": "2025-07-13T01:15:34.809772Z"
    },
    "papermill": {
     "duration": 0.013543,
     "end_time": "2025-07-13T01:15:34.811251",
     "exception": false,
     "start_time": "2025-07-13T01:15:34.797708",
     "status": "completed"
    },
    "tags": []
   },
   "outputs": [
    {
     "data": {
      "text/plain": [
       "Index(['RecordID', 'Offense', 'IncidentID', 'Agency', 'ReportingOfficer',\n",
       "       'Date', 'DayOfWeek', 'Weekend', 'Season', 'TimeOfDay', 'FullStreet',\n",
       "       'lat', 'lon', 'neighborhood', 'zip'],\n",
       "      dtype='object')"
      ]
     },
     "execution_count": 16,
     "metadata": {},
     "output_type": "execute_result"
    }
   ],
   "source": [
    "df.columns"
   ]
  },
  {
   "cell_type": "code",
   "execution_count": 17,
   "id": "be84985c",
   "metadata": {
    "execution": {
     "iopub.execute_input": "2025-07-13T01:15:34.827500Z",
     "iopub.status.busy": "2025-07-13T01:15:34.827306Z",
     "iopub.status.idle": "2025-07-13T01:15:34.846222Z",
     "shell.execute_reply": "2025-07-13T01:15:34.845545Z"
    },
    "papermill": {
     "duration": 0.028249,
     "end_time": "2025-07-13T01:15:34.847317",
     "exception": false,
     "start_time": "2025-07-13T01:15:34.819068",
     "status": "completed"
    },
    "tags": []
   },
   "outputs": [
    {
     "name": "stdout",
     "output_type": "stream",
     "text": [
      "<class 'pandas.core.frame.DataFrame'>\n",
      "RangeIndex: 25529 entries, 0 to 25528\n",
      "Data columns (total 15 columns):\n",
      " #   Column            Non-Null Count  Dtype         \n",
      "---  ------            --------------  -----         \n",
      " 0   RecordID          25529 non-null  int64         \n",
      " 1   Offense           25529 non-null  object        \n",
      " 2   IncidentID        25529 non-null  object        \n",
      " 3   Agency            25529 non-null  object        \n",
      " 4   ReportingOfficer  25529 non-null  object        \n",
      " 5   Date              25529 non-null  datetime64[ns]\n",
      " 6   DayOfWeek         25529 non-null  object        \n",
      " 7   Weekend           25529 non-null  bool          \n",
      " 8   Season            25529 non-null  object        \n",
      " 9   TimeOfDay         25529 non-null  object        \n",
      " 10  FullStreet        25529 non-null  object        \n",
      " 11  lat               25529 non-null  object        \n",
      " 12  lon               25529 non-null  object        \n",
      " 13  neighborhood      25529 non-null  object        \n",
      " 14  zip               25529 non-null  object        \n",
      "dtypes: bool(1), datetime64[ns](1), int64(1), object(12)\n",
      "memory usage: 2.8+ MB\n"
     ]
    }
   ],
   "source": [
    "df.info()"
   ]
  },
  {
   "cell_type": "markdown",
   "id": "e348d5e9",
   "metadata": {
    "papermill": {
     "duration": 0.007908,
     "end_time": "2025-07-13T01:15:34.863132",
     "exception": false,
     "start_time": "2025-07-13T01:15:34.855224",
     "status": "completed"
    },
    "tags": []
   },
   "source": [
    "### Export Clean Data"
   ]
  },
  {
   "cell_type": "code",
   "execution_count": 18,
   "id": "3de935de",
   "metadata": {
    "execution": {
     "iopub.execute_input": "2025-07-13T01:15:34.879833Z",
     "iopub.status.busy": "2025-07-13T01:15:34.879608Z",
     "iopub.status.idle": "2025-07-13T01:15:44.072602Z",
     "shell.execute_reply": "2025-07-13T01:15:44.071981Z"
    },
    "papermill": {
     "duration": 9.202635,
     "end_time": "2025-07-13T01:15:44.073703",
     "exception": false,
     "start_time": "2025-07-13T01:15:34.871068",
     "status": "completed"
    },
    "tags": []
   },
   "outputs": [
    {
     "name": "stdout",
     "output_type": "stream",
     "text": [
      "Project Root: /home/runner/work/crime-data/crime-data\n"
     ]
    },
    {
     "name": "stdout",
     "output_type": "stream",
     "text": [
      "Data saved to: /home/runner/work/crime-data/crime-data/data/charlottesville_crime_incidents.csv\n"
     ]
    },
    {
     "name": "stdout",
     "output_type": "stream",
     "text": [
      "Excel saved to: /home/runner/work/crime-data/crime-data/data/charlottesville_crime_incidents.xlsx\n"
     ]
    }
   ],
   "source": [
    "# Determine the project root (assuming papermill is run from the repository root)\n",
    "project_root = os.getcwd()\n",
    "print(\"Project Root:\", project_root)\n",
    "\n",
    "# Set the data directory within the project root\n",
    "data_dir = os.path.join(project_root, \"data\")\n",
    "\n",
    "# Ensure the \"data\" directory exists (create it if it doesn't)\n",
    "if not os.path.exists(data_dir):\n",
    "    os.makedirs(data_dir)\n",
    "\n",
    "# Export the DataFrame to CSV in the \"data\" folder located in the project root\n",
    "csv_path = os.path.join(data_dir, \"charlottesville_crime_incidents.csv\")\n",
    "df.to_csv(csv_path, index=False)\n",
    "print(\"Data saved to:\", csv_path)\n",
    "\n",
    "# Construct the path to your Excel file\n",
    "excel_path = os.path.join(data_dir, \"charlottesville_crime_incidents.xlsx\")\n",
    "\n",
    "# Export the DataFrame to Excel\n",
    "df.to_excel(excel_path, index=False)\n",
    "print(\"Excel saved to:\", excel_path)\n"
   ]
  }
 ],
 "metadata": {
  "kernelspec": {
   "display_name": "Python 3",
   "language": "python",
   "name": "python3"
  },
  "language_info": {
   "codemirror_mode": {
    "name": "ipython",
    "version": 3
   },
   "file_extension": ".py",
   "mimetype": "text/x-python",
   "name": "python",
   "nbconvert_exporter": "python",
   "pygments_lexer": "ipython3",
   "version": "3.9.23"
  },
  "papermill": {
   "default_parameters": {},
   "duration": 134.744967,
   "end_time": "2025-07-13T01:15:44.498006",
   "environment_variables": {},
   "exception": null,
   "input_path": "notebook/Crime Data.ipynb",
   "output_path": "notebook/Crime Data_output.ipynb",
   "parameters": {},
   "start_time": "2025-07-13T01:13:29.753039",
   "version": "2.6.0"
  }
 },
 "nbformat": 4,
 "nbformat_minor": 5
}