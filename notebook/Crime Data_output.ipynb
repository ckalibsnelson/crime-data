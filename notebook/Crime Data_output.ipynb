{
 "cells": [
  {
   "cell_type": "markdown",
   "id": "5978aa80",
   "metadata": {
    "papermill": {
     "duration": 0.011481,
     "end_time": "2025-04-12T00:58:36.731373",
     "exception": false,
     "start_time": "2025-04-12T00:58:36.719892",
     "status": "completed"
    },
    "tags": []
   },
   "source": [
    "# Charlottesville Open Data Porttal: Crime Data"
   ]
  },
  {
   "cell_type": "markdown",
   "id": "ac4a048d",
   "metadata": {
    "papermill": {
     "duration": 0.005015,
     "end_time": "2025-04-12T00:58:36.743482",
     "exception": false,
     "start_time": "2025-04-12T00:58:36.738467",
     "status": "completed"
    },
    "tags": []
   },
   "source": [
    "## Import Relevant Librarires & Set WD"
   ]
  },
  {
   "cell_type": "code",
   "execution_count": 1,
   "id": "031aed8d",
   "metadata": {
    "execution": {
     "iopub.execute_input": "2025-04-12T00:58:36.755142Z",
     "iopub.status.busy": "2025-04-12T00:58:36.754599Z",
     "iopub.status.idle": "2025-04-12T00:58:37.273890Z",
     "shell.execute_reply": "2025-04-12T00:58:37.273240Z"
    },
    "papermill": {
     "duration": 0.52662,
     "end_time": "2025-04-12T00:58:37.275261",
     "exception": false,
     "start_time": "2025-04-12T00:58:36.748641",
     "status": "completed"
    },
    "tags": []
   },
   "outputs": [],
   "source": [
    "import requests\n",
    "import pandas as pd\n",
    "import numpy as np\n",
    "import pickle\n",
    "import googlemaps\n",
    "import plotly.express as px\n",
    "from geopy.geocoders import Nominatim\n",
    "import time\n",
    "from dotenv import load_dotenv\n",
    "import os\n",
    "\n",
    "env_path = os.path.join(\"..\", \".env\")\n",
    "#print(\"Looking for .env file at:\", os.path.abspath(env_path))\n",
    "load_dotenv(dotenv_path=env_path)\n",
    "\n",
    "# Retrieve the variables\n",
    "GOOGLE_API_KEY = os.getenv(\"GOOGLE_API_KEY\")\n",
    "WORKING_DIR = os.getenv(\"WORKING_DIR\")\n",
    "\n",
    "if GOOGLE_API_KEY is None or WORKING_DIR is None:\n",
    "    raise RuntimeError(\"No configuration found. Please ensure that your .env file exists with the required variables, or create a local config.py file.\")\n",
    "\n",
    "#print(\"Google API Key:\", GOOGLE_API_KEY)\n",
    "#print(\"Working Directory:\", WORKING_DIR)"
   ]
  },
  {
   "cell_type": "markdown",
   "id": "0c48f3f1",
   "metadata": {
    "papermill": {
     "duration": 0.005236,
     "end_time": "2025-04-12T00:58:37.286117",
     "exception": false,
     "start_time": "2025-04-12T00:58:37.280881",
     "status": "completed"
    },
    "tags": []
   },
   "source": [
    "## Import Data\n",
    "\n",
    "URL: https://opendata.charlottesville.org/datasets/charlottesville::crime-data/about"
   ]
  },
  {
   "cell_type": "code",
   "execution_count": 2,
   "id": "02fedc28",
   "metadata": {
    "execution": {
     "iopub.execute_input": "2025-04-12T00:58:37.297465Z",
     "iopub.status.busy": "2025-04-12T00:58:37.296954Z",
     "iopub.status.idle": "2025-04-12T00:59:37.215995Z",
     "shell.execute_reply": "2025-04-12T00:59:37.215224Z"
    },
    "papermill": {
     "duration": 59.930584,
     "end_time": "2025-04-12T00:59:37.221827",
     "exception": false,
     "start_time": "2025-04-12T00:58:37.291243",
     "status": "completed"
    },
    "tags": []
   },
   "outputs": [
    {
     "name": "stdout",
     "output_type": "stream",
     "text": [
      "Total records imported: 25135\n"
     ]
    }
   ],
   "source": [
    "# Define the endpoint and initial parameters.\n",
    "url = \"https://gisweb.charlottesville.org/arcgis/rest/services/OpenData_2/MapServer/6/query\"\n",
    "params = {\n",
    "    \"where\": \"1=1\",\n",
    "    \"outFields\": \"*\",\n",
    "    \"outSR\": 4326,\n",
    "    \"f\": \"json\",\n",
    "    \"resultOffset\": 0,       # Starting index for results\n",
    "    \"resultRecordCount\": 10000  # Maximum records per batch (if allowed by the API)\n",
    "}\n",
    "\n",
    "records = []\n",
    "\n",
    "while True:\n",
    "    response = requests.get(url, params=params)\n",
    "    response.raise_for_status()\n",
    "    data = response.json()\n",
    "    \n",
    "    # Get the current batch of features.\n",
    "    features = data.get(\"features\", [])\n",
    "    if not features:\n",
    "        break\n",
    "\n",
    "    # Extract the attributes from the features.\n",
    "    batch_records = [feature.get(\"attributes\", {}) for feature in features]\n",
    "    records.extend(batch_records)\n",
    "    \n",
    "    # If the batch size is less than the requested count, we reached the end.\n",
    "    if len(features) < params[\"resultRecordCount\"]:\n",
    "        break\n",
    "\n",
    "    # Update the resultOffset for the next batch.\n",
    "    params[\"resultOffset\"] += params[\"resultRecordCount\"]\n",
    "\n",
    "# Create a DataFrame from the combined records.\n",
    "df = pd.DataFrame(records)\n",
    "print(\"Total records imported:\", len(df))\n"
   ]
  },
  {
   "cell_type": "code",
   "execution_count": 3,
   "id": "3f269b95",
   "metadata": {
    "execution": {
     "iopub.execute_input": "2025-04-12T00:59:37.233270Z",
     "iopub.status.busy": "2025-04-12T00:59:37.232883Z",
     "iopub.status.idle": "2025-04-12T00:59:37.244897Z",
     "shell.execute_reply": "2025-04-12T00:59:37.244257Z"
    },
    "papermill": {
     "duration": 0.018881,
     "end_time": "2025-04-12T00:59:37.245968",
     "exception": false,
     "start_time": "2025-04-12T00:59:37.227087",
     "status": "completed"
    },
    "tags": []
   },
   "outputs": [
    {
     "data": {
      "text/html": [
       "<div>\n",
       "<style scoped>\n",
       "    .dataframe tbody tr th:only-of-type {\n",
       "        vertical-align: middle;\n",
       "    }\n",
       "\n",
       "    .dataframe tbody tr th {\n",
       "        vertical-align: top;\n",
       "    }\n",
       "\n",
       "    .dataframe thead th {\n",
       "        text-align: right;\n",
       "    }\n",
       "</style>\n",
       "<table border=\"1\" class=\"dataframe\">\n",
       "  <thead>\n",
       "    <tr style=\"text-align: right;\">\n",
       "      <th></th>\n",
       "      <th>RecordID</th>\n",
       "      <th>Offense</th>\n",
       "      <th>IncidentID</th>\n",
       "      <th>BlockNumber</th>\n",
       "      <th>StreetName</th>\n",
       "      <th>Agency</th>\n",
       "      <th>DateReported</th>\n",
       "      <th>HourReported</th>\n",
       "      <th>ReportingOfficer</th>\n",
       "    </tr>\n",
       "  </thead>\n",
       "  <tbody>\n",
       "    <tr>\n",
       "      <th>0</th>\n",
       "      <td>1</td>\n",
       "      <td>Burglary</td>\n",
       "      <td>202500011440</td>\n",
       "      <td>1000</td>\n",
       "      <td>BELMONT AVE</td>\n",
       "      <td>CPD</td>\n",
       "      <td>1744249266000</td>\n",
       "      <td>2141</td>\n",
       "      <td>Darby, Michael</td>\n",
       "    </tr>\n",
       "    <tr>\n",
       "      <th>1</th>\n",
       "      <td>2</td>\n",
       "      <td>Fraud-false pretense</td>\n",
       "      <td>202500011418</td>\n",
       "      <td>200</td>\n",
       "      <td>GARRETT ST</td>\n",
       "      <td>CPD</td>\n",
       "      <td>1744233765000</td>\n",
       "      <td>1722</td>\n",
       "      <td>Vlasis, Christopher</td>\n",
       "    </tr>\n",
       "    <tr>\n",
       "      <th>2</th>\n",
       "      <td>3</td>\n",
       "      <td>Assault Simple</td>\n",
       "      <td>202500011385</td>\n",
       "      <td>500</td>\n",
       "      <td>PARK ST</td>\n",
       "      <td>CPD</td>\n",
       "      <td>1744215543000</td>\n",
       "      <td>1219</td>\n",
       "      <td>Turner, Devon</td>\n",
       "    </tr>\n",
       "    <tr>\n",
       "      <th>3</th>\n",
       "      <td>4</td>\n",
       "      <td>Larceny - Theft from Building</td>\n",
       "      <td>202500011379</td>\n",
       "      <td>400</td>\n",
       "      <td>11TH ST NE</td>\n",
       "      <td>CPD</td>\n",
       "      <td>1744208932000</td>\n",
       "      <td>1028</td>\n",
       "      <td>Wisser, Shawn</td>\n",
       "    </tr>\n",
       "    <tr>\n",
       "      <th>4</th>\n",
       "      <td>5</td>\n",
       "      <td>Assist Citizen - Mental/TDO/ECO</td>\n",
       "      <td>202500011357</td>\n",
       "      <td>600</td>\n",
       "      <td>E MARKET ST</td>\n",
       "      <td>CPD</td>\n",
       "      <td>1744190515000</td>\n",
       "      <td>0521</td>\n",
       "      <td>McLeod, Dustin</td>\n",
       "    </tr>\n",
       "  </tbody>\n",
       "</table>\n",
       "</div>"
      ],
      "text/plain": [
       "   RecordID                          Offense    IncidentID BlockNumber  \\\n",
       "0         1                         Burglary  202500011440        1000   \n",
       "1         2             Fraud-false pretense  202500011418         200   \n",
       "2         3                   Assault Simple  202500011385         500   \n",
       "3         4    Larceny - Theft from Building  202500011379         400   \n",
       "4         5  Assist Citizen - Mental/TDO/ECO  202500011357         600   \n",
       "\n",
       "    StreetName Agency   DateReported HourReported     ReportingOfficer  \n",
       "0  BELMONT AVE    CPD  1744249266000         2141       Darby, Michael  \n",
       "1   GARRETT ST    CPD  1744233765000         1722  Vlasis, Christopher  \n",
       "2      PARK ST    CPD  1744215543000         1219        Turner, Devon  \n",
       "3   11TH ST NE    CPD  1744208932000         1028        Wisser, Shawn  \n",
       "4  E MARKET ST    CPD  1744190515000         0521       McLeod, Dustin  "
      ]
     },
     "execution_count": 3,
     "metadata": {},
     "output_type": "execute_result"
    }
   ],
   "source": [
    "df.head()"
   ]
  },
  {
   "cell_type": "code",
   "execution_count": 4,
   "id": "bc939d60",
   "metadata": {
    "execution": {
     "iopub.execute_input": "2025-04-12T00:59:37.257357Z",
     "iopub.status.busy": "2025-04-12T00:59:37.257166Z",
     "iopub.status.idle": "2025-04-12T00:59:37.261485Z",
     "shell.execute_reply": "2025-04-12T00:59:37.260851Z"
    },
    "papermill": {
     "duration": 0.011245,
     "end_time": "2025-04-12T00:59:37.262589",
     "exception": false,
     "start_time": "2025-04-12T00:59:37.251344",
     "status": "completed"
    },
    "tags": []
   },
   "outputs": [
    {
     "data": {
      "text/plain": [
       "Index(['RecordID', 'Offense', 'IncidentID', 'BlockNumber', 'StreetName',\n",
       "       'Agency', 'DateReported', 'HourReported', 'ReportingOfficer'],\n",
       "      dtype='object')"
      ]
     },
     "execution_count": 4,
     "metadata": {},
     "output_type": "execute_result"
    }
   ],
   "source": [
    "df.columns"
   ]
  },
  {
   "cell_type": "code",
   "execution_count": 5,
   "id": "ed955298",
   "metadata": {
    "execution": {
     "iopub.execute_input": "2025-04-12T00:59:37.274664Z",
     "iopub.status.busy": "2025-04-12T00:59:37.274309Z",
     "iopub.status.idle": "2025-04-12T00:59:37.293522Z",
     "shell.execute_reply": "2025-04-12T00:59:37.292950Z"
    },
    "papermill": {
     "duration": 0.026561,
     "end_time": "2025-04-12T00:59:37.294520",
     "exception": false,
     "start_time": "2025-04-12T00:59:37.267959",
     "status": "completed"
    },
    "tags": []
   },
   "outputs": [
    {
     "name": "stdout",
     "output_type": "stream",
     "text": [
      "<class 'pandas.core.frame.DataFrame'>\n",
      "RangeIndex: 25135 entries, 0 to 25134\n",
      "Data columns (total 9 columns):\n",
      " #   Column            Non-Null Count  Dtype \n",
      "---  ------            --------------  ----- \n",
      " 0   RecordID          25135 non-null  int64 \n",
      " 1   Offense           25135 non-null  object\n",
      " 2   IncidentID        25135 non-null  object\n",
      " 3   BlockNumber       25135 non-null  object\n",
      " 4   StreetName        25135 non-null  object\n",
      " 5   Agency            25135 non-null  object\n",
      " 6   DateReported      25135 non-null  int64 \n",
      " 7   HourReported      25135 non-null  object\n",
      " 8   ReportingOfficer  25118 non-null  object\n",
      "dtypes: int64(2), object(7)\n",
      "memory usage: 1.7+ MB\n"
     ]
    }
   ],
   "source": [
    "df.info()"
   ]
  },
  {
   "cell_type": "markdown",
   "id": "306e46fa",
   "metadata": {
    "papermill": {
     "duration": 0.005443,
     "end_time": "2025-04-12T00:59:37.305453",
     "exception": false,
     "start_time": "2025-04-12T00:59:37.300010",
     "status": "completed"
    },
    "tags": []
   },
   "source": [
    "### Missing Values"
   ]
  },
  {
   "cell_type": "code",
   "execution_count": 6,
   "id": "83b1c2dd",
   "metadata": {
    "execution": {
     "iopub.execute_input": "2025-04-12T00:59:37.317414Z",
     "iopub.status.busy": "2025-04-12T00:59:37.316918Z",
     "iopub.status.idle": "2025-04-12T00:59:37.333131Z",
     "shell.execute_reply": "2025-04-12T00:59:37.332613Z"
    },
    "papermill": {
     "duration": 0.023147,
     "end_time": "2025-04-12T00:59:37.334040",
     "exception": false,
     "start_time": "2025-04-12T00:59:37.310893",
     "status": "completed"
    },
    "tags": []
   },
   "outputs": [
    {
     "name": "stdout",
     "output_type": "stream",
     "text": [
      "                  MissingCount  MissingPercentage\n",
      "RecordID                     0               0.00\n",
      "Offense                      0               0.00\n",
      "IncidentID                   0               0.00\n",
      "BlockNumber                  0               0.00\n",
      "StreetName                   0               0.00\n",
      "Agency                       0               0.00\n",
      "DateReported                 0               0.00\n",
      "HourReported                 0               0.00\n",
      "ReportingOfficer            17               0.07\n"
     ]
    }
   ],
   "source": [
    "def missing_percentage(df):\n",
    "    \"\"\"\n",
    "    Returns a DataFrame with the count and percentage of missing values for each column.\n",
    "    \n",
    "    Parameters:\n",
    "        df (pd.DataFrame): The input DataFrame.\n",
    "    \n",
    "    Returns:\n",
    "        pd.DataFrame: A DataFrame with columns 'MissingCount' and 'MissingPercentage'.\n",
    "    \"\"\"\n",
    "    total_rows = len(df)\n",
    "    missing_count = df.isnull().sum()\n",
    "    missing_percent = (missing_count / total_rows) * 100\n",
    "    \n",
    "    result = pd.DataFrame({\n",
    "        'MissingCount': missing_count,\n",
    "        'MissingPercentage': missing_percent.round(2)\n",
    "    })\n",
    "    \n",
    "    return result\n",
    "\n",
    "# Example usage:\n",
    "missing_info = missing_percentage(df)\n",
    "print(missing_info)\n"
   ]
  },
  {
   "cell_type": "markdown",
   "id": "3777a9f6",
   "metadata": {
    "papermill": {
     "duration": 0.00557,
     "end_time": "2025-04-12T00:59:37.345386",
     "exception": false,
     "start_time": "2025-04-12T00:59:37.339816",
     "status": "completed"
    },
    "tags": []
   },
   "source": [
    "## Data Preparation"
   ]
  },
  {
   "cell_type": "markdown",
   "id": "e3d671da",
   "metadata": {
    "papermill": {
     "duration": 0.005501,
     "end_time": "2025-04-12T00:59:37.356428",
     "exception": false,
     "start_time": "2025-04-12T00:59:37.350927",
     "status": "completed"
    },
    "tags": []
   },
   "source": [
    "### Data Conversion"
   ]
  },
  {
   "cell_type": "code",
   "execution_count": 7,
   "id": "4c3ce280",
   "metadata": {
    "execution": {
     "iopub.execute_input": "2025-04-12T00:59:37.368329Z",
     "iopub.status.busy": "2025-04-12T00:59:37.368018Z",
     "iopub.status.idle": "2025-04-12T00:59:37.730674Z",
     "shell.execute_reply": "2025-04-12T00:59:37.729945Z"
    },
    "papermill": {
     "duration": 0.369896,
     "end_time": "2025-04-12T00:59:37.731807",
     "exception": false,
     "start_time": "2025-04-12T00:59:37.361911",
     "status": "completed"
    },
    "tags": []
   },
   "outputs": [
    {
     "data": {
      "text/html": [
       "<div>\n",
       "<style scoped>\n",
       "    .dataframe tbody tr th:only-of-type {\n",
       "        vertical-align: middle;\n",
       "    }\n",
       "\n",
       "    .dataframe tbody tr th {\n",
       "        vertical-align: top;\n",
       "    }\n",
       "\n",
       "    .dataframe thead th {\n",
       "        text-align: right;\n",
       "    }\n",
       "</style>\n",
       "<table border=\"1\" class=\"dataframe\">\n",
       "  <thead>\n",
       "    <tr style=\"text-align: right;\">\n",
       "      <th></th>\n",
       "      <th>RecordID</th>\n",
       "      <th>Offense</th>\n",
       "      <th>IncidentID</th>\n",
       "      <th>BlockNumber</th>\n",
       "      <th>StreetName</th>\n",
       "      <th>Agency</th>\n",
       "      <th>HourReported</th>\n",
       "      <th>ReportingOfficer</th>\n",
       "      <th>Date</th>\n",
       "      <th>DateString</th>\n",
       "      <th>DayOfWeek</th>\n",
       "      <th>Weekend</th>\n",
       "      <th>Season</th>\n",
       "      <th>HourAMPM</th>\n",
       "      <th>TimeOfDay</th>\n",
       "    </tr>\n",
       "  </thead>\n",
       "  <tbody>\n",
       "    <tr>\n",
       "      <th>0</th>\n",
       "      <td>1</td>\n",
       "      <td>Burglary</td>\n",
       "      <td>202500011440</td>\n",
       "      <td>1000</td>\n",
       "      <td>BELMONT AVE</td>\n",
       "      <td>CPD</td>\n",
       "      <td>2141</td>\n",
       "      <td>Darby, Michael</td>\n",
       "      <td>2025-04-09 21:41:06</td>\n",
       "      <td>2025-04-09 09:41:06 PM</td>\n",
       "      <td>Wednesday</td>\n",
       "      <td>False</td>\n",
       "      <td>Spring</td>\n",
       "      <td>09:41 PM</td>\n",
       "      <td>Night</td>\n",
       "    </tr>\n",
       "    <tr>\n",
       "      <th>1</th>\n",
       "      <td>2</td>\n",
       "      <td>Fraud-false pretense</td>\n",
       "      <td>202500011418</td>\n",
       "      <td>200</td>\n",
       "      <td>GARRETT ST</td>\n",
       "      <td>CPD</td>\n",
       "      <td>1722</td>\n",
       "      <td>Vlasis, Christopher</td>\n",
       "      <td>2025-04-09 17:22:45</td>\n",
       "      <td>2025-04-09 05:22:45 PM</td>\n",
       "      <td>Wednesday</td>\n",
       "      <td>False</td>\n",
       "      <td>Spring</td>\n",
       "      <td>05:22 PM</td>\n",
       "      <td>Evening</td>\n",
       "    </tr>\n",
       "    <tr>\n",
       "      <th>2</th>\n",
       "      <td>3</td>\n",
       "      <td>Assault Simple</td>\n",
       "      <td>202500011385</td>\n",
       "      <td>500</td>\n",
       "      <td>PARK ST</td>\n",
       "      <td>CPD</td>\n",
       "      <td>1219</td>\n",
       "      <td>Turner, Devon</td>\n",
       "      <td>2025-04-09 12:19:03</td>\n",
       "      <td>2025-04-09 12:19:03 PM</td>\n",
       "      <td>Wednesday</td>\n",
       "      <td>False</td>\n",
       "      <td>Spring</td>\n",
       "      <td>12:19 PM</td>\n",
       "      <td>Afternoon</td>\n",
       "    </tr>\n",
       "    <tr>\n",
       "      <th>3</th>\n",
       "      <td>4</td>\n",
       "      <td>Larceny - Theft from Building</td>\n",
       "      <td>202500011379</td>\n",
       "      <td>400</td>\n",
       "      <td>11TH ST NE</td>\n",
       "      <td>CPD</td>\n",
       "      <td>1028</td>\n",
       "      <td>Wisser, Shawn</td>\n",
       "      <td>2025-04-09 10:28:52</td>\n",
       "      <td>2025-04-09 10:28:52 AM</td>\n",
       "      <td>Wednesday</td>\n",
       "      <td>False</td>\n",
       "      <td>Spring</td>\n",
       "      <td>10:28 AM</td>\n",
       "      <td>Morning</td>\n",
       "    </tr>\n",
       "    <tr>\n",
       "      <th>4</th>\n",
       "      <td>5</td>\n",
       "      <td>Assist Citizen - Mental/TDO/ECO</td>\n",
       "      <td>202500011357</td>\n",
       "      <td>600</td>\n",
       "      <td>E MARKET ST</td>\n",
       "      <td>CPD</td>\n",
       "      <td>0521</td>\n",
       "      <td>McLeod, Dustin</td>\n",
       "      <td>2025-04-09 05:21:55</td>\n",
       "      <td>2025-04-09 05:21:55 AM</td>\n",
       "      <td>Wednesday</td>\n",
       "      <td>False</td>\n",
       "      <td>Spring</td>\n",
       "      <td>05:21 AM</td>\n",
       "      <td>Morning</td>\n",
       "    </tr>\n",
       "  </tbody>\n",
       "</table>\n",
       "</div>"
      ],
      "text/plain": [
       "   RecordID                          Offense    IncidentID BlockNumber  \\\n",
       "0         1                         Burglary  202500011440        1000   \n",
       "1         2             Fraud-false pretense  202500011418         200   \n",
       "2         3                   Assault Simple  202500011385         500   \n",
       "3         4    Larceny - Theft from Building  202500011379         400   \n",
       "4         5  Assist Citizen - Mental/TDO/ECO  202500011357         600   \n",
       "\n",
       "    StreetName Agency HourReported     ReportingOfficer                Date  \\\n",
       "0  BELMONT AVE    CPD         2141       Darby, Michael 2025-04-09 21:41:06   \n",
       "1   GARRETT ST    CPD         1722  Vlasis, Christopher 2025-04-09 17:22:45   \n",
       "2      PARK ST    CPD         1219        Turner, Devon 2025-04-09 12:19:03   \n",
       "3   11TH ST NE    CPD         1028        Wisser, Shawn 2025-04-09 10:28:52   \n",
       "4  E MARKET ST    CPD         0521       McLeod, Dustin 2025-04-09 05:21:55   \n",
       "\n",
       "               DateString  DayOfWeek  Weekend  Season  HourAMPM  TimeOfDay  \n",
       "0  2025-04-09 09:41:06 PM  Wednesday    False  Spring  09:41 PM      Night  \n",
       "1  2025-04-09 05:22:45 PM  Wednesday    False  Spring  05:22 PM    Evening  \n",
       "2  2025-04-09 12:19:03 PM  Wednesday    False  Spring  12:19 PM  Afternoon  \n",
       "3  2025-04-09 10:28:52 AM  Wednesday    False  Spring  10:28 AM    Morning  \n",
       "4  2025-04-09 05:21:55 AM  Wednesday    False  Spring  05:21 AM    Morning  "
      ]
     },
     "execution_count": 7,
     "metadata": {},
     "output_type": "execute_result"
    }
   ],
   "source": [
    "def convert_and_categorize_datereported(df, col='DateReported'):\n",
    "    \"\"\"\n",
    "    Converts an epoch (in milliseconds) date column into a timezone-aware datetime,\n",
    "    converts it to Eastern Time, and then creates columns for day-of-week, weekend flag,\n",
    "    season, 12-hour formatted time, and time-of-day. Keeps both a real datetime column\n",
    "    (Date) and a string representation (DateString).\n",
    "    \"\"\"\n",
    "    import pandas as pd\n",
    "\n",
    "    # Convert the epoch timestamp to a pandas datetime object as UTC, then convert to US/Eastern.\n",
    "    df[\"DateReported_dt\"] = (\n",
    "        pd.to_datetime(df[col], unit=\"ms\", errors=\"coerce\", utc=True)\n",
    "        .dt.tz_convert(\"US/Eastern\")\n",
    "    )\n",
    "    \n",
    "    # Create a true datetime column (remove timezone if you prefer naive datetime)\n",
    "    df[\"Date\"] = df[\"DateReported_dt\"].dt.tz_localize(None)\n",
    "\n",
    "    # Optionally, create a separate string-formatted column\n",
    "    df[\"DateString\"] = df[\"DateReported_dt\"].dt.strftime(\"%Y-%m-%d %I:%M:%S %p\")\n",
    "    \n",
    "    # DayOfWeek\n",
    "    df[\"DayOfWeek\"] = df[\"DateReported_dt\"].dt.day_name()\n",
    "    \n",
    "    # Weekend\n",
    "    df[\"Weekend\"] = df[\"DayOfWeek\"].isin([\"Saturday\", \"Sunday\"])\n",
    "    \n",
    "    # Helper function to determine the season\n",
    "    def get_season(dt):\n",
    "        month = dt.month\n",
    "        day = dt.day\n",
    "        # Approximate Northern Hemisphere season boundaries:\n",
    "        if (month == 12 and day >= 21) or (month < 3) or (month == 3 and day < 20):\n",
    "            return \"Winter\"\n",
    "        elif (month == 3 and day >= 20) or (month < 6) or (month == 6 and day < 21):\n",
    "            return \"Spring\"\n",
    "        elif (month == 6 and day >= 21) or (month < 9) or (month == 9 and day < 22):\n",
    "            return \"Summer\"\n",
    "        else:\n",
    "            return \"Autumn\"\n",
    "    \n",
    "    df[\"Season\"] = df[\"DateReported_dt\"].apply(get_season)\n",
    "    \n",
    "    # 12-hour formatted time (HourAMPM)\n",
    "    df[\"HourAMPM\"] = df[\"DateReported_dt\"].dt.strftime(\"%I:%M %p\")\n",
    "    \n",
    "    # Extract hour (0-23) for time-of-day\n",
    "    df[\"HourValue\"] = df[\"DateReported_dt\"].dt.hour\n",
    "    \n",
    "    def time_of_day(hour):\n",
    "        if pd.isnull(hour):\n",
    "            return None\n",
    "        if 5 <= hour < 12:\n",
    "            return \"Morning\"\n",
    "        elif 12 <= hour < 17:\n",
    "            return \"Afternoon\"\n",
    "        elif 17 <= hour < 21:\n",
    "            return \"Evening\"\n",
    "        else:\n",
    "            return \"Night\"\n",
    "    \n",
    "    df[\"TimeOfDay\"] = df[\"HourValue\"].apply(time_of_day)\n",
    "    \n",
    "    # Drop columns you no longer need\n",
    "    df.drop(columns=[col, \"DateReported_dt\", \"HourValue\"], inplace=True)\n",
    "    \n",
    "    return df\n",
    "\n",
    "# Example usage:\n",
    "df = convert_and_categorize_datereported(df)\n",
    "df.head()\n"
   ]
  },
  {
   "cell_type": "code",
   "execution_count": 8,
   "id": "525aa1a6",
   "metadata": {
    "execution": {
     "iopub.execute_input": "2025-04-12T00:59:37.744758Z",
     "iopub.status.busy": "2025-04-12T00:59:37.744553Z",
     "iopub.status.idle": "2025-04-12T00:59:37.768214Z",
     "shell.execute_reply": "2025-04-12T00:59:37.767543Z"
    },
    "papermill": {
     "duration": 0.031197,
     "end_time": "2025-04-12T00:59:37.769274",
     "exception": false,
     "start_time": "2025-04-12T00:59:37.738077",
     "status": "completed"
    },
    "tags": []
   },
   "outputs": [
    {
     "name": "stdout",
     "output_type": "stream",
     "text": [
      "<class 'pandas.core.frame.DataFrame'>\n",
      "RangeIndex: 25135 entries, 0 to 25134\n",
      "Data columns (total 15 columns):\n",
      " #   Column            Non-Null Count  Dtype         \n",
      "---  ------            --------------  -----         \n",
      " 0   RecordID          25135 non-null  int64         \n",
      " 1   Offense           25135 non-null  object        \n",
      " 2   IncidentID        25135 non-null  object        \n",
      " 3   BlockNumber       25135 non-null  object        \n",
      " 4   StreetName        25135 non-null  object        \n",
      " 5   Agency            25135 non-null  object        \n",
      " 6   HourReported      25135 non-null  object        \n",
      " 7   ReportingOfficer  25118 non-null  object        \n",
      " 8   Date              25135 non-null  datetime64[ns]\n",
      " 9   DateString        25135 non-null  object        \n",
      " 10  DayOfWeek         25135 non-null  object        \n",
      " 11  Weekend           25135 non-null  bool          \n",
      " 12  Season            25135 non-null  object        \n",
      " 13  HourAMPM          25135 non-null  object        \n",
      " 14  TimeOfDay         25135 non-null  object        \n",
      "dtypes: bool(1), datetime64[ns](1), int64(1), object(12)\n",
      "memory usage: 2.7+ MB\n"
     ]
    }
   ],
   "source": [
    "df.info()"
   ]
  },
  {
   "cell_type": "markdown",
   "id": "1c7a2ab3",
   "metadata": {
    "papermill": {
     "duration": 0.005835,
     "end_time": "2025-04-12T00:59:37.780982",
     "exception": false,
     "start_time": "2025-04-12T00:59:37.775147",
     "status": "completed"
    },
    "tags": []
   },
   "source": [
    "### Coordinates"
   ]
  },
  {
   "cell_type": "code",
   "execution_count": 9,
   "id": "4b460ee0",
   "metadata": {
    "execution": {
     "iopub.execute_input": "2025-04-12T00:59:37.793635Z",
     "iopub.status.busy": "2025-04-12T00:59:37.793222Z",
     "iopub.status.idle": "2025-04-12T00:59:37.834609Z",
     "shell.execute_reply": "2025-04-12T00:59:37.834056Z"
    },
    "papermill": {
     "duration": 0.048902,
     "end_time": "2025-04-12T00:59:37.835673",
     "exception": false,
     "start_time": "2025-04-12T00:59:37.786771",
     "status": "completed"
    },
    "tags": []
   },
   "outputs": [
    {
     "name": "stdout",
     "output_type": "stream",
     "text": [
      "Loaded geocode cache.\n",
      "Geocode cache updated and saved.\n"
     ]
    },
    {
     "data": {
      "text/html": [
       "<div>\n",
       "<style scoped>\n",
       "    .dataframe tbody tr th:only-of-type {\n",
       "        vertical-align: middle;\n",
       "    }\n",
       "\n",
       "    .dataframe tbody tr th {\n",
       "        vertical-align: top;\n",
       "    }\n",
       "\n",
       "    .dataframe thead th {\n",
       "        text-align: right;\n",
       "    }\n",
       "</style>\n",
       "<table border=\"1\" class=\"dataframe\">\n",
       "  <thead>\n",
       "    <tr style=\"text-align: right;\">\n",
       "      <th></th>\n",
       "      <th>RecordID</th>\n",
       "      <th>Offense</th>\n",
       "      <th>IncidentID</th>\n",
       "      <th>BlockNumber</th>\n",
       "      <th>StreetName</th>\n",
       "      <th>Agency</th>\n",
       "      <th>HourReported</th>\n",
       "      <th>ReportingOfficer</th>\n",
       "      <th>Date</th>\n",
       "      <th>DateString</th>\n",
       "      <th>DayOfWeek</th>\n",
       "      <th>Weekend</th>\n",
       "      <th>Season</th>\n",
       "      <th>HourAMPM</th>\n",
       "      <th>TimeOfDay</th>\n",
       "      <th>FullStreet</th>\n",
       "      <th>lat</th>\n",
       "      <th>lon</th>\n",
       "    </tr>\n",
       "  </thead>\n",
       "  <tbody>\n",
       "    <tr>\n",
       "      <th>0</th>\n",
       "      <td>1</td>\n",
       "      <td>Burglary</td>\n",
       "      <td>202500011440</td>\n",
       "      <td>1000</td>\n",
       "      <td>BELMONT AVE</td>\n",
       "      <td>CPD</td>\n",
       "      <td>2141</td>\n",
       "      <td>Darby, Michael</td>\n",
       "      <td>2025-04-09 21:41:06</td>\n",
       "      <td>2025-04-09 09:41:06 PM</td>\n",
       "      <td>Wednesday</td>\n",
       "      <td>False</td>\n",
       "      <td>Spring</td>\n",
       "      <td>09:41 PM</td>\n",
       "      <td>Night</td>\n",
       "      <td>1000 BELMONT AVE</td>\n",
       "      <td>38.022791</td>\n",
       "      <td>-78.474451</td>\n",
       "    </tr>\n",
       "    <tr>\n",
       "      <th>1</th>\n",
       "      <td>2</td>\n",
       "      <td>Fraud-false pretense</td>\n",
       "      <td>202500011418</td>\n",
       "      <td>200</td>\n",
       "      <td>GARRETT ST</td>\n",
       "      <td>CPD</td>\n",
       "      <td>1722</td>\n",
       "      <td>Vlasis, Christopher</td>\n",
       "      <td>2025-04-09 17:22:45</td>\n",
       "      <td>2025-04-09 05:22:45 PM</td>\n",
       "      <td>Wednesday</td>\n",
       "      <td>False</td>\n",
       "      <td>Spring</td>\n",
       "      <td>05:22 PM</td>\n",
       "      <td>Evening</td>\n",
       "      <td>200 GARRETT ST</td>\n",
       "      <td>38.028235</td>\n",
       "      <td>-78.482465</td>\n",
       "    </tr>\n",
       "    <tr>\n",
       "      <th>2</th>\n",
       "      <td>3</td>\n",
       "      <td>Assault Simple</td>\n",
       "      <td>202500011385</td>\n",
       "      <td>500</td>\n",
       "      <td>PARK ST</td>\n",
       "      <td>CPD</td>\n",
       "      <td>1219</td>\n",
       "      <td>Turner, Devon</td>\n",
       "      <td>2025-04-09 12:19:03</td>\n",
       "      <td>2025-04-09 12:19:03 PM</td>\n",
       "      <td>Wednesday</td>\n",
       "      <td>False</td>\n",
       "      <td>Spring</td>\n",
       "      <td>12:19 PM</td>\n",
       "      <td>Afternoon</td>\n",
       "      <td>500 PARK ST</td>\n",
       "      <td>38.033037</td>\n",
       "      <td>-78.475772</td>\n",
       "    </tr>\n",
       "    <tr>\n",
       "      <th>3</th>\n",
       "      <td>4</td>\n",
       "      <td>Larceny - Theft from Building</td>\n",
       "      <td>202500011379</td>\n",
       "      <td>400</td>\n",
       "      <td>11TH ST NE</td>\n",
       "      <td>CPD</td>\n",
       "      <td>1028</td>\n",
       "      <td>Wisser, Shawn</td>\n",
       "      <td>2025-04-09 10:28:52</td>\n",
       "      <td>2025-04-09 10:28:52 AM</td>\n",
       "      <td>Wednesday</td>\n",
       "      <td>False</td>\n",
       "      <td>Spring</td>\n",
       "      <td>10:28 AM</td>\n",
       "      <td>Morning</td>\n",
       "      <td>400 11TH ST NE</td>\n",
       "      <td>38.030688</td>\n",
       "      <td>-78.470872</td>\n",
       "    </tr>\n",
       "    <tr>\n",
       "      <th>4</th>\n",
       "      <td>5</td>\n",
       "      <td>Assist Citizen - Mental/TDO/ECO</td>\n",
       "      <td>202500011357</td>\n",
       "      <td>600</td>\n",
       "      <td>E MARKET ST</td>\n",
       "      <td>CPD</td>\n",
       "      <td>0521</td>\n",
       "      <td>McLeod, Dustin</td>\n",
       "      <td>2025-04-09 05:21:55</td>\n",
       "      <td>2025-04-09 05:21:55 AM</td>\n",
       "      <td>Wednesday</td>\n",
       "      <td>False</td>\n",
       "      <td>Spring</td>\n",
       "      <td>05:21 AM</td>\n",
       "      <td>Morning</td>\n",
       "      <td>600 E MARKET ST</td>\n",
       "      <td>38.030175</td>\n",
       "      <td>-78.477574</td>\n",
       "    </tr>\n",
       "  </tbody>\n",
       "</table>\n",
       "</div>"
      ],
      "text/plain": [
       "   RecordID                          Offense    IncidentID BlockNumber  \\\n",
       "0         1                         Burglary  202500011440        1000   \n",
       "1         2             Fraud-false pretense  202500011418         200   \n",
       "2         3                   Assault Simple  202500011385         500   \n",
       "3         4    Larceny - Theft from Building  202500011379         400   \n",
       "4         5  Assist Citizen - Mental/TDO/ECO  202500011357         600   \n",
       "\n",
       "    StreetName Agency HourReported     ReportingOfficer                Date  \\\n",
       "0  BELMONT AVE    CPD         2141       Darby, Michael 2025-04-09 21:41:06   \n",
       "1   GARRETT ST    CPD         1722  Vlasis, Christopher 2025-04-09 17:22:45   \n",
       "2      PARK ST    CPD         1219        Turner, Devon 2025-04-09 12:19:03   \n",
       "3   11TH ST NE    CPD         1028        Wisser, Shawn 2025-04-09 10:28:52   \n",
       "4  E MARKET ST    CPD         0521       McLeod, Dustin 2025-04-09 05:21:55   \n",
       "\n",
       "               DateString  DayOfWeek  Weekend  Season  HourAMPM  TimeOfDay  \\\n",
       "0  2025-04-09 09:41:06 PM  Wednesday    False  Spring  09:41 PM      Night   \n",
       "1  2025-04-09 05:22:45 PM  Wednesday    False  Spring  05:22 PM    Evening   \n",
       "2  2025-04-09 12:19:03 PM  Wednesday    False  Spring  12:19 PM  Afternoon   \n",
       "3  2025-04-09 10:28:52 AM  Wednesday    False  Spring  10:28 AM    Morning   \n",
       "4  2025-04-09 05:21:55 AM  Wednesday    False  Spring  05:21 AM    Morning   \n",
       "\n",
       "         FullStreet        lat        lon  \n",
       "0  1000 BELMONT AVE  38.022791 -78.474451  \n",
       "1    200 GARRETT ST  38.028235 -78.482465  \n",
       "2       500 PARK ST  38.033037 -78.475772  \n",
       "3    400 11TH ST NE  38.030688 -78.470872  \n",
       "4   600 E MARKET ST  38.030175 -78.477574  "
      ]
     },
     "execution_count": 9,
     "metadata": {},
     "output_type": "execute_result"
    }
   ],
   "source": [
    "# Combine BlockNumber and StreetName into a full address string\n",
    "df['FullStreet'] = df['BlockNumber'].astype(str) + \" \" + df['StreetName']\n",
    "\n",
    "# --- Step 1: Setup the Google Maps Client and Cache ---\n",
    "gmaps = googlemaps.Client(key=GOOGLE_API_KEY)\n",
    "\n",
    "# Try to load cached geocoding results if available.\n",
    "try:\n",
    "    with open(\"geocode_cache_google.pkl\", \"rb\") as f:\n",
    "        street_coords = pickle.load(f)\n",
    "    print(\"Loaded geocode cache.\")\n",
    "except FileNotFoundError:\n",
    "    street_coords = {}\n",
    "    print(\"No cache found; starting fresh.\")\n",
    "\n",
    "def geocode_address(address):\n",
    "    try:\n",
    "        # Append city and state to help geocoding\n",
    "        result = gmaps.geocode(f\"{address}, Charlottesville, VA\")\n",
    "        if result:\n",
    "            lat = result[0]['geometry']['location']['lat']\n",
    "            lon = result[0]['geometry']['location']['lng']\n",
    "            return lat, lon\n",
    "    except Exception as e:\n",
    "        print(f\"Error geocoding {address}: {e}\")\n",
    "    return None, None\n",
    "\n",
    "# --- Step 2: Geocode Only New Addresses ---\n",
    "unique_addresses = df['FullStreet'].unique()\n",
    "for address in unique_addresses:\n",
    "    if address not in street_coords:\n",
    "        lat, lon = geocode_address(address)\n",
    "        street_coords[address] = (lat, lon)\n",
    "        print(f\"Geocoded {address}: {lat}, {lon}\")\n",
    "\n",
    "# Save the updated cache to disk.\n",
    "with open(\"geocode_cache_google.pkl\", \"wb\") as f:\n",
    "    pickle.dump(street_coords, f)\n",
    "    print(\"Geocode cache updated and saved.\")\n",
    "\n",
    "# --- Step 3: Map Coordinates Back to DataFrame ---\n",
    "df['lat'] = df['FullStreet'].map(lambda s: street_coords.get(s, (None, None))[0])\n",
    "df['lon'] = df['FullStreet'].map(lambda s: street_coords.get(s, (None, None))[1])\n",
    "\n",
    "df.head()"
   ]
  },
  {
   "cell_type": "markdown",
   "id": "6b601d12",
   "metadata": {
    "papermill": {
     "duration": 0.006142,
     "end_time": "2025-04-12T00:59:37.848201",
     "exception": false,
     "start_time": "2025-04-12T00:59:37.842059",
     "status": "completed"
    },
    "tags": []
   },
   "source": [
    "### Neighborhood"
   ]
  },
  {
   "cell_type": "code",
   "execution_count": 10,
   "id": "81bd7650",
   "metadata": {
    "execution": {
     "iopub.execute_input": "2025-04-12T00:59:37.861323Z",
     "iopub.status.busy": "2025-04-12T00:59:37.861101Z",
     "iopub.status.idle": "2025-04-12T00:59:38.107696Z",
     "shell.execute_reply": "2025-04-12T00:59:38.107045Z"
    },
    "papermill": {
     "duration": 0.254479,
     "end_time": "2025-04-12T00:59:38.108755",
     "exception": false,
     "start_time": "2025-04-12T00:59:37.854276",
     "status": "completed"
    },
    "tags": []
   },
   "outputs": [
    {
     "name": "stdout",
     "output_type": "stream",
     "text": [
      "Loaded neighborhood cache.\n"
     ]
    },
    {
     "data": {
      "text/html": [
       "<div>\n",
       "<style scoped>\n",
       "    .dataframe tbody tr th:only-of-type {\n",
       "        vertical-align: middle;\n",
       "    }\n",
       "\n",
       "    .dataframe tbody tr th {\n",
       "        vertical-align: top;\n",
       "    }\n",
       "\n",
       "    .dataframe thead th {\n",
       "        text-align: right;\n",
       "    }\n",
       "</style>\n",
       "<table border=\"1\" class=\"dataframe\">\n",
       "  <thead>\n",
       "    <tr style=\"text-align: right;\">\n",
       "      <th></th>\n",
       "      <th>RecordID</th>\n",
       "      <th>Offense</th>\n",
       "      <th>IncidentID</th>\n",
       "      <th>BlockNumber</th>\n",
       "      <th>StreetName</th>\n",
       "      <th>Agency</th>\n",
       "      <th>HourReported</th>\n",
       "      <th>ReportingOfficer</th>\n",
       "      <th>Date</th>\n",
       "      <th>DateString</th>\n",
       "      <th>DayOfWeek</th>\n",
       "      <th>Weekend</th>\n",
       "      <th>Season</th>\n",
       "      <th>HourAMPM</th>\n",
       "      <th>TimeOfDay</th>\n",
       "      <th>FullStreet</th>\n",
       "      <th>lat</th>\n",
       "      <th>lon</th>\n",
       "      <th>neighborhood</th>\n",
       "    </tr>\n",
       "  </thead>\n",
       "  <tbody>\n",
       "    <tr>\n",
       "      <th>0</th>\n",
       "      <td>1</td>\n",
       "      <td>Burglary</td>\n",
       "      <td>202500011440</td>\n",
       "      <td>1000</td>\n",
       "      <td>BELMONT AVE</td>\n",
       "      <td>CPD</td>\n",
       "      <td>2141</td>\n",
       "      <td>Darby, Michael</td>\n",
       "      <td>2025-04-09 21:41:06</td>\n",
       "      <td>2025-04-09 09:41:06 PM</td>\n",
       "      <td>Wednesday</td>\n",
       "      <td>False</td>\n",
       "      <td>Spring</td>\n",
       "      <td>09:41 PM</td>\n",
       "      <td>Night</td>\n",
       "      <td>1000 BELMONT AVE</td>\n",
       "      <td>38.022791</td>\n",
       "      <td>-78.474451</td>\n",
       "      <td>Belmont</td>\n",
       "    </tr>\n",
       "    <tr>\n",
       "      <th>1</th>\n",
       "      <td>2</td>\n",
       "      <td>Fraud-false pretense</td>\n",
       "      <td>202500011418</td>\n",
       "      <td>200</td>\n",
       "      <td>GARRETT ST</td>\n",
       "      <td>CPD</td>\n",
       "      <td>1722</td>\n",
       "      <td>Vlasis, Christopher</td>\n",
       "      <td>2025-04-09 17:22:45</td>\n",
       "      <td>2025-04-09 05:22:45 PM</td>\n",
       "      <td>Wednesday</td>\n",
       "      <td>False</td>\n",
       "      <td>Spring</td>\n",
       "      <td>05:22 PM</td>\n",
       "      <td>Evening</td>\n",
       "      <td>200 GARRETT ST</td>\n",
       "      <td>38.028235</td>\n",
       "      <td>-78.482465</td>\n",
       "      <td>North Downtown</td>\n",
       "    </tr>\n",
       "    <tr>\n",
       "      <th>2</th>\n",
       "      <td>3</td>\n",
       "      <td>Assault Simple</td>\n",
       "      <td>202500011385</td>\n",
       "      <td>500</td>\n",
       "      <td>PARK ST</td>\n",
       "      <td>CPD</td>\n",
       "      <td>1219</td>\n",
       "      <td>Turner, Devon</td>\n",
       "      <td>2025-04-09 12:19:03</td>\n",
       "      <td>2025-04-09 12:19:03 PM</td>\n",
       "      <td>Wednesday</td>\n",
       "      <td>False</td>\n",
       "      <td>Spring</td>\n",
       "      <td>12:19 PM</td>\n",
       "      <td>Afternoon</td>\n",
       "      <td>500 PARK ST</td>\n",
       "      <td>38.033037</td>\n",
       "      <td>-78.475772</td>\n",
       "      <td>North Downtown</td>\n",
       "    </tr>\n",
       "    <tr>\n",
       "      <th>3</th>\n",
       "      <td>4</td>\n",
       "      <td>Larceny - Theft from Building</td>\n",
       "      <td>202500011379</td>\n",
       "      <td>400</td>\n",
       "      <td>11TH ST NE</td>\n",
       "      <td>CPD</td>\n",
       "      <td>1028</td>\n",
       "      <td>Wisser, Shawn</td>\n",
       "      <td>2025-04-09 10:28:52</td>\n",
       "      <td>2025-04-09 10:28:52 AM</td>\n",
       "      <td>Wednesday</td>\n",
       "      <td>False</td>\n",
       "      <td>Spring</td>\n",
       "      <td>10:28 AM</td>\n",
       "      <td>Morning</td>\n",
       "      <td>400 11TH ST NE</td>\n",
       "      <td>38.030688</td>\n",
       "      <td>-78.470872</td>\n",
       "      <td>Martha Jefferson</td>\n",
       "    </tr>\n",
       "    <tr>\n",
       "      <th>4</th>\n",
       "      <td>5</td>\n",
       "      <td>Assist Citizen - Mental/TDO/ECO</td>\n",
       "      <td>202500011357</td>\n",
       "      <td>600</td>\n",
       "      <td>E MARKET ST</td>\n",
       "      <td>CPD</td>\n",
       "      <td>0521</td>\n",
       "      <td>McLeod, Dustin</td>\n",
       "      <td>2025-04-09 05:21:55</td>\n",
       "      <td>2025-04-09 05:21:55 AM</td>\n",
       "      <td>Wednesday</td>\n",
       "      <td>False</td>\n",
       "      <td>Spring</td>\n",
       "      <td>05:21 AM</td>\n",
       "      <td>Morning</td>\n",
       "      <td>600 E MARKET ST</td>\n",
       "      <td>38.030175</td>\n",
       "      <td>-78.477574</td>\n",
       "      <td>Downtown Mall</td>\n",
       "    </tr>\n",
       "  </tbody>\n",
       "</table>\n",
       "</div>"
      ],
      "text/plain": [
       "   RecordID                          Offense    IncidentID BlockNumber  \\\n",
       "0         1                         Burglary  202500011440        1000   \n",
       "1         2             Fraud-false pretense  202500011418         200   \n",
       "2         3                   Assault Simple  202500011385         500   \n",
       "3         4    Larceny - Theft from Building  202500011379         400   \n",
       "4         5  Assist Citizen - Mental/TDO/ECO  202500011357         600   \n",
       "\n",
       "    StreetName Agency HourReported     ReportingOfficer                Date  \\\n",
       "0  BELMONT AVE    CPD         2141       Darby, Michael 2025-04-09 21:41:06   \n",
       "1   GARRETT ST    CPD         1722  Vlasis, Christopher 2025-04-09 17:22:45   \n",
       "2      PARK ST    CPD         1219        Turner, Devon 2025-04-09 12:19:03   \n",
       "3   11TH ST NE    CPD         1028        Wisser, Shawn 2025-04-09 10:28:52   \n",
       "4  E MARKET ST    CPD         0521       McLeod, Dustin 2025-04-09 05:21:55   \n",
       "\n",
       "               DateString  DayOfWeek  Weekend  Season  HourAMPM  TimeOfDay  \\\n",
       "0  2025-04-09 09:41:06 PM  Wednesday    False  Spring  09:41 PM      Night   \n",
       "1  2025-04-09 05:22:45 PM  Wednesday    False  Spring  05:22 PM    Evening   \n",
       "2  2025-04-09 12:19:03 PM  Wednesday    False  Spring  12:19 PM  Afternoon   \n",
       "3  2025-04-09 10:28:52 AM  Wednesday    False  Spring  10:28 AM    Morning   \n",
       "4  2025-04-09 05:21:55 AM  Wednesday    False  Spring  05:21 AM    Morning   \n",
       "\n",
       "         FullStreet        lat        lon      neighborhood  \n",
       "0  1000 BELMONT AVE  38.022791 -78.474451           Belmont  \n",
       "1    200 GARRETT ST  38.028235 -78.482465    North Downtown  \n",
       "2       500 PARK ST  38.033037 -78.475772    North Downtown  \n",
       "3    400 11TH ST NE  38.030688 -78.470872  Martha Jefferson  \n",
       "4   600 E MARKET ST  38.030175 -78.477574     Downtown Mall  "
      ]
     },
     "execution_count": 10,
     "metadata": {},
     "output_type": "execute_result"
    }
   ],
   "source": [
    "# Initialize the Google Maps client.\n",
    "gmaps = googlemaps.Client(key=GOOGLE_API_KEY)\n",
    "\n",
    "# Try to load a persistent neighborhood cache if available.\n",
    "try:\n",
    "    with open(\"neighborhood_cache.pkl\", \"rb\") as f:\n",
    "        neighborhood_cache = pickle.load(f)\n",
    "    print(\"Loaded neighborhood cache.\")\n",
    "except FileNotFoundError:\n",
    "    neighborhood_cache = {}\n",
    "    print(\"No neighborhood cache found; starting fresh.\")\n",
    "\n",
    "def get_neighborhood(lat, lon):\n",
    "    \"\"\"\n",
    "    Reverse geocodes a latitude and longitude to retrieve the neighborhood.\n",
    "    Caches results to speed up subsequent lookups.\n",
    "    \"\"\"\n",
    "    key = (lat, lon)\n",
    "    if key in neighborhood_cache:\n",
    "        return neighborhood_cache[key]\n",
    "    \n",
    "    try:\n",
    "        result = gmaps.reverse_geocode((lat, lon))\n",
    "        if result:\n",
    "            # Look for the 'neighborhood' component in the first result.\n",
    "            for component in result[0]['address_components']:\n",
    "                if 'neighborhood' in component['types']:\n",
    "                    neighborhood = component['long_name']\n",
    "                    neighborhood_cache[key] = neighborhood\n",
    "                    return neighborhood\n",
    "            # If no neighborhood is found, return \"N/A\"\n",
    "            neighborhood_cache[key] = \"N/A\"\n",
    "            return \"N/A\"\n",
    "    except Exception as e:\n",
    "        print(f\"Error getting neighborhood for {lat}, {lon}: {e}\")\n",
    "        return \"N/A\"\n",
    "    \n",
    "    # Pause to respect usage limits.\n",
    "    time.sleep(1)\n",
    "\n",
    "# Example usage: Apply to your DataFrame 'df' that already has 'lat' and 'lon' columns.\n",
    "df['neighborhood'] = df.apply(lambda row: get_neighborhood(row['lat'], row['lon']), axis=1)\n",
    "\n",
    "# Save the updated neighborhood cache.\n",
    "with open(\"neighborhood_cache.pkl\", \"wb\") as f:\n",
    "    pickle.dump(neighborhood_cache, f)\n",
    "\n",
    "df.head()\n"
   ]
  },
  {
   "cell_type": "markdown",
   "id": "0449d7c9",
   "metadata": {
    "papermill": {
     "duration": 0.006456,
     "end_time": "2025-04-12T00:59:38.121853",
     "exception": false,
     "start_time": "2025-04-12T00:59:38.115397",
     "status": "completed"
    },
    "tags": []
   },
   "source": [
    "### Zip"
   ]
  },
  {
   "cell_type": "code",
   "execution_count": 11,
   "id": "b7cfe351",
   "metadata": {
    "execution": {
     "iopub.execute_input": "2025-04-12T00:59:38.136000Z",
     "iopub.status.busy": "2025-04-12T00:59:38.135596Z",
     "iopub.status.idle": "2025-04-12T00:59:38.367267Z",
     "shell.execute_reply": "2025-04-12T00:59:38.366696Z"
    },
    "papermill": {
     "duration": 0.239966,
     "end_time": "2025-04-12T00:59:38.368324",
     "exception": false,
     "start_time": "2025-04-12T00:59:38.128358",
     "status": "completed"
    },
    "tags": []
   },
   "outputs": [
    {
     "name": "stdout",
     "output_type": "stream",
     "text": [
      "Loaded zip cache.\n"
     ]
    },
    {
     "data": {
      "text/html": [
       "<div>\n",
       "<style scoped>\n",
       "    .dataframe tbody tr th:only-of-type {\n",
       "        vertical-align: middle;\n",
       "    }\n",
       "\n",
       "    .dataframe tbody tr th {\n",
       "        vertical-align: top;\n",
       "    }\n",
       "\n",
       "    .dataframe thead th {\n",
       "        text-align: right;\n",
       "    }\n",
       "</style>\n",
       "<table border=\"1\" class=\"dataframe\">\n",
       "  <thead>\n",
       "    <tr style=\"text-align: right;\">\n",
       "      <th></th>\n",
       "      <th>RecordID</th>\n",
       "      <th>Offense</th>\n",
       "      <th>IncidentID</th>\n",
       "      <th>BlockNumber</th>\n",
       "      <th>StreetName</th>\n",
       "      <th>Agency</th>\n",
       "      <th>HourReported</th>\n",
       "      <th>ReportingOfficer</th>\n",
       "      <th>Date</th>\n",
       "      <th>DateString</th>\n",
       "      <th>DayOfWeek</th>\n",
       "      <th>Weekend</th>\n",
       "      <th>Season</th>\n",
       "      <th>HourAMPM</th>\n",
       "      <th>TimeOfDay</th>\n",
       "      <th>FullStreet</th>\n",
       "      <th>lat</th>\n",
       "      <th>lon</th>\n",
       "      <th>neighborhood</th>\n",
       "      <th>zip</th>\n",
       "    </tr>\n",
       "  </thead>\n",
       "  <tbody>\n",
       "    <tr>\n",
       "      <th>0</th>\n",
       "      <td>1</td>\n",
       "      <td>Burglary</td>\n",
       "      <td>202500011440</td>\n",
       "      <td>1000</td>\n",
       "      <td>BELMONT AVE</td>\n",
       "      <td>CPD</td>\n",
       "      <td>2141</td>\n",
       "      <td>Darby, Michael</td>\n",
       "      <td>2025-04-09 21:41:06</td>\n",
       "      <td>2025-04-09 09:41:06 PM</td>\n",
       "      <td>Wednesday</td>\n",
       "      <td>False</td>\n",
       "      <td>Spring</td>\n",
       "      <td>09:41 PM</td>\n",
       "      <td>Night</td>\n",
       "      <td>1000 BELMONT AVE</td>\n",
       "      <td>38.022791</td>\n",
       "      <td>-78.474451</td>\n",
       "      <td>Belmont</td>\n",
       "      <td>22902</td>\n",
       "    </tr>\n",
       "    <tr>\n",
       "      <th>1</th>\n",
       "      <td>2</td>\n",
       "      <td>Fraud-false pretense</td>\n",
       "      <td>202500011418</td>\n",
       "      <td>200</td>\n",
       "      <td>GARRETT ST</td>\n",
       "      <td>CPD</td>\n",
       "      <td>1722</td>\n",
       "      <td>Vlasis, Christopher</td>\n",
       "      <td>2025-04-09 17:22:45</td>\n",
       "      <td>2025-04-09 05:22:45 PM</td>\n",
       "      <td>Wednesday</td>\n",
       "      <td>False</td>\n",
       "      <td>Spring</td>\n",
       "      <td>05:22 PM</td>\n",
       "      <td>Evening</td>\n",
       "      <td>200 GARRETT ST</td>\n",
       "      <td>38.028235</td>\n",
       "      <td>-78.482465</td>\n",
       "      <td>North Downtown</td>\n",
       "      <td>22903</td>\n",
       "    </tr>\n",
       "    <tr>\n",
       "      <th>2</th>\n",
       "      <td>3</td>\n",
       "      <td>Assault Simple</td>\n",
       "      <td>202500011385</td>\n",
       "      <td>500</td>\n",
       "      <td>PARK ST</td>\n",
       "      <td>CPD</td>\n",
       "      <td>1219</td>\n",
       "      <td>Turner, Devon</td>\n",
       "      <td>2025-04-09 12:19:03</td>\n",
       "      <td>2025-04-09 12:19:03 PM</td>\n",
       "      <td>Wednesday</td>\n",
       "      <td>False</td>\n",
       "      <td>Spring</td>\n",
       "      <td>12:19 PM</td>\n",
       "      <td>Afternoon</td>\n",
       "      <td>500 PARK ST</td>\n",
       "      <td>38.033037</td>\n",
       "      <td>-78.475772</td>\n",
       "      <td>North Downtown</td>\n",
       "      <td>22902</td>\n",
       "    </tr>\n",
       "    <tr>\n",
       "      <th>3</th>\n",
       "      <td>4</td>\n",
       "      <td>Larceny - Theft from Building</td>\n",
       "      <td>202500011379</td>\n",
       "      <td>400</td>\n",
       "      <td>11TH ST NE</td>\n",
       "      <td>CPD</td>\n",
       "      <td>1028</td>\n",
       "      <td>Wisser, Shawn</td>\n",
       "      <td>2025-04-09 10:28:52</td>\n",
       "      <td>2025-04-09 10:28:52 AM</td>\n",
       "      <td>Wednesday</td>\n",
       "      <td>False</td>\n",
       "      <td>Spring</td>\n",
       "      <td>10:28 AM</td>\n",
       "      <td>Morning</td>\n",
       "      <td>400 11TH ST NE</td>\n",
       "      <td>38.030688</td>\n",
       "      <td>-78.470872</td>\n",
       "      <td>Martha Jefferson</td>\n",
       "      <td>22902</td>\n",
       "    </tr>\n",
       "    <tr>\n",
       "      <th>4</th>\n",
       "      <td>5</td>\n",
       "      <td>Assist Citizen - Mental/TDO/ECO</td>\n",
       "      <td>202500011357</td>\n",
       "      <td>600</td>\n",
       "      <td>E MARKET ST</td>\n",
       "      <td>CPD</td>\n",
       "      <td>0521</td>\n",
       "      <td>McLeod, Dustin</td>\n",
       "      <td>2025-04-09 05:21:55</td>\n",
       "      <td>2025-04-09 05:21:55 AM</td>\n",
       "      <td>Wednesday</td>\n",
       "      <td>False</td>\n",
       "      <td>Spring</td>\n",
       "      <td>05:21 AM</td>\n",
       "      <td>Morning</td>\n",
       "      <td>600 E MARKET ST</td>\n",
       "      <td>38.030175</td>\n",
       "      <td>-78.477574</td>\n",
       "      <td>Downtown Mall</td>\n",
       "      <td>22902</td>\n",
       "    </tr>\n",
       "  </tbody>\n",
       "</table>\n",
       "</div>"
      ],
      "text/plain": [
       "   RecordID                          Offense    IncidentID BlockNumber  \\\n",
       "0         1                         Burglary  202500011440        1000   \n",
       "1         2             Fraud-false pretense  202500011418         200   \n",
       "2         3                   Assault Simple  202500011385         500   \n",
       "3         4    Larceny - Theft from Building  202500011379         400   \n",
       "4         5  Assist Citizen - Mental/TDO/ECO  202500011357         600   \n",
       "\n",
       "    StreetName Agency HourReported     ReportingOfficer                Date  \\\n",
       "0  BELMONT AVE    CPD         2141       Darby, Michael 2025-04-09 21:41:06   \n",
       "1   GARRETT ST    CPD         1722  Vlasis, Christopher 2025-04-09 17:22:45   \n",
       "2      PARK ST    CPD         1219        Turner, Devon 2025-04-09 12:19:03   \n",
       "3   11TH ST NE    CPD         1028        Wisser, Shawn 2025-04-09 10:28:52   \n",
       "4  E MARKET ST    CPD         0521       McLeod, Dustin 2025-04-09 05:21:55   \n",
       "\n",
       "               DateString  DayOfWeek  Weekend  Season  HourAMPM  TimeOfDay  \\\n",
       "0  2025-04-09 09:41:06 PM  Wednesday    False  Spring  09:41 PM      Night   \n",
       "1  2025-04-09 05:22:45 PM  Wednesday    False  Spring  05:22 PM    Evening   \n",
       "2  2025-04-09 12:19:03 PM  Wednesday    False  Spring  12:19 PM  Afternoon   \n",
       "3  2025-04-09 10:28:52 AM  Wednesday    False  Spring  10:28 AM    Morning   \n",
       "4  2025-04-09 05:21:55 AM  Wednesday    False  Spring  05:21 AM    Morning   \n",
       "\n",
       "         FullStreet        lat        lon      neighborhood    zip  \n",
       "0  1000 BELMONT AVE  38.022791 -78.474451           Belmont  22902  \n",
       "1    200 GARRETT ST  38.028235 -78.482465    North Downtown  22903  \n",
       "2       500 PARK ST  38.033037 -78.475772    North Downtown  22902  \n",
       "3    400 11TH ST NE  38.030688 -78.470872  Martha Jefferson  22902  \n",
       "4   600 E MARKET ST  38.030175 -78.477574     Downtown Mall  22902  "
      ]
     },
     "execution_count": 11,
     "metadata": {},
     "output_type": "execute_result"
    }
   ],
   "source": [
    "# Initialize the geocoder.\n",
    "geolocator = Nominatim(user_agent=\"zip_lookup\")\n",
    "\n",
    "# Try to load a persistent ZIP cache if available.\n",
    "try:\n",
    "    with open(\"zip_cache.pkl\", \"rb\") as f:\n",
    "        zip_cache = pickle.load(f)\n",
    "    print(\"Loaded zip cache.\")\n",
    "except FileNotFoundError:\n",
    "    zip_cache = {}\n",
    "    print(\"No zip cache found; starting fresh.\")\n",
    "\n",
    "def get_zip(lat, lon):\n",
    "    \"\"\"\n",
    "    Reverse geocodes a latitude and longitude to retrieve the ZIP code.\n",
    "    Caches results to speed up subsequent lookups.\n",
    "    \"\"\"\n",
    "    key = (lat, lon)\n",
    "    if key in zip_cache:\n",
    "        return zip_cache[key]\n",
    "    \n",
    "    try:\n",
    "        location = geolocator.reverse((lat, lon), exactly_one=True, timeout=10)\n",
    "        address = location.raw.get('address', {})\n",
    "        postal_code = address.get('postcode', \"N/A\")\n",
    "    except Exception as e:\n",
    "        print(f\"Error getting ZIP for {lat}, {lon}: {e}\")\n",
    "        postal_code = \"N/A\"\n",
    "    \n",
    "    zip_cache[key] = postal_code\n",
    "    # Pause to respect the usage policy.\n",
    "    time.sleep(1)\n",
    "    return postal_code\n",
    "\n",
    "# Apply the function to each row in the DataFrame.\n",
    "df['zip'] = df.apply(lambda row: get_zip(row['lat'], row['lon']), axis=1)\n",
    "\n",
    "# Save the updated ZIP cache.\n",
    "with open(\"zip_cache.pkl\", \"wb\") as f:\n",
    "    pickle.dump(zip_cache, f)\n",
    "\n",
    "df.head()\n"
   ]
  },
  {
   "cell_type": "code",
   "execution_count": 12,
   "id": "29515e9f",
   "metadata": {
    "execution": {
     "iopub.execute_input": "2025-04-12T00:59:38.382809Z",
     "iopub.status.busy": "2025-04-12T00:59:38.382599Z",
     "iopub.status.idle": "2025-04-12T00:59:38.406962Z",
     "shell.execute_reply": "2025-04-12T00:59:38.406379Z"
    },
    "papermill": {
     "duration": 0.032735,
     "end_time": "2025-04-12T00:59:38.407987",
     "exception": false,
     "start_time": "2025-04-12T00:59:38.375252",
     "status": "completed"
    },
    "tags": []
   },
   "outputs": [
    {
     "name": "stdout",
     "output_type": "stream",
     "text": [
      "                  MissingCount  MissingPercentage\n",
      "RecordID                     0               0.00\n",
      "Offense                      0               0.00\n",
      "IncidentID                   0               0.00\n",
      "BlockNumber                  0               0.00\n",
      "StreetName                   0               0.00\n",
      "Agency                       0               0.00\n",
      "HourReported                 0               0.00\n",
      "ReportingOfficer            17               0.07\n",
      "Date                         0               0.00\n",
      "DateString                   0               0.00\n",
      "DayOfWeek                    0               0.00\n",
      "Weekend                      0               0.00\n",
      "Season                       0               0.00\n",
      "HourAMPM                     0               0.00\n",
      "TimeOfDay                    0               0.00\n",
      "FullStreet                   0               0.00\n",
      "lat                          0               0.00\n",
      "lon                          0               0.00\n",
      "neighborhood                 0               0.00\n",
      "zip                          0               0.00\n"
     ]
    }
   ],
   "source": [
    "missing_info = missing_percentage(df)\n",
    "print(missing_info)\n"
   ]
  },
  {
   "cell_type": "code",
   "execution_count": 13,
   "id": "dd7fd655",
   "metadata": {
    "execution": {
     "iopub.execute_input": "2025-04-12T00:59:38.422856Z",
     "iopub.status.busy": "2025-04-12T00:59:38.422362Z",
     "iopub.status.idle": "2025-04-12T00:59:38.445871Z",
     "shell.execute_reply": "2025-04-12T00:59:38.445304Z"
    },
    "papermill": {
     "duration": 0.031994,
     "end_time": "2025-04-12T00:59:38.446892",
     "exception": false,
     "start_time": "2025-04-12T00:59:38.414898",
     "status": "completed"
    },
    "tags": []
   },
   "outputs": [
    {
     "name": "stdout",
     "output_type": "stream",
     "text": [
      "<class 'pandas.core.frame.DataFrame'>\n",
      "RangeIndex: 25135 entries, 0 to 25134\n",
      "Data columns (total 20 columns):\n",
      " #   Column            Non-Null Count  Dtype         \n",
      "---  ------            --------------  -----         \n",
      " 0   RecordID          25135 non-null  int64         \n",
      " 1   Offense           25135 non-null  object        \n",
      " 2   IncidentID        25135 non-null  object        \n",
      " 3   BlockNumber       25135 non-null  object        \n",
      " 4   StreetName        25135 non-null  object        \n",
      " 5   Agency            25135 non-null  object        \n",
      " 6   HourReported      25135 non-null  object        \n",
      " 7   ReportingOfficer  25118 non-null  object        \n",
      " 8   Date              25135 non-null  datetime64[ns]\n",
      " 9   DateString        25135 non-null  object        \n",
      " 10  DayOfWeek         25135 non-null  object        \n",
      " 11  Weekend           25135 non-null  bool          \n",
      " 12  Season            25135 non-null  object        \n",
      " 13  HourAMPM          25135 non-null  object        \n",
      " 14  TimeOfDay         25135 non-null  object        \n",
      " 15  FullStreet        25135 non-null  object        \n",
      " 16  lat               25135 non-null  float64       \n",
      " 17  lon               25135 non-null  float64       \n",
      " 18  neighborhood      25135 non-null  object        \n",
      " 19  zip               25135 non-null  object        \n",
      "dtypes: bool(1), datetime64[ns](1), float64(2), int64(1), object(15)\n",
      "memory usage: 3.7+ MB\n"
     ]
    }
   ],
   "source": [
    "df.info()"
   ]
  },
  {
   "cell_type": "code",
   "execution_count": 14,
   "id": "44b6087c",
   "metadata": {
    "execution": {
     "iopub.execute_input": "2025-04-12T00:59:38.461782Z",
     "iopub.status.busy": "2025-04-12T00:59:38.461371Z",
     "iopub.status.idle": "2025-04-12T00:59:38.498922Z",
     "shell.execute_reply": "2025-04-12T00:59:38.498267Z"
    },
    "papermill": {
     "duration": 0.046123,
     "end_time": "2025-04-12T00:59:38.499974",
     "exception": false,
     "start_time": "2025-04-12T00:59:38.453851",
     "status": "completed"
    },
    "tags": []
   },
   "outputs": [
    {
     "data": {
      "text/html": [
       "<div>\n",
       "<style scoped>\n",
       "    .dataframe tbody tr th:only-of-type {\n",
       "        vertical-align: middle;\n",
       "    }\n",
       "\n",
       "    .dataframe tbody tr th {\n",
       "        vertical-align: top;\n",
       "    }\n",
       "\n",
       "    .dataframe thead th {\n",
       "        text-align: right;\n",
       "    }\n",
       "</style>\n",
       "<table border=\"1\" class=\"dataframe\">\n",
       "  <thead>\n",
       "    <tr style=\"text-align: right;\">\n",
       "      <th></th>\n",
       "      <th>RecordID</th>\n",
       "      <th>Offense</th>\n",
       "      <th>IncidentID</th>\n",
       "      <th>Agency</th>\n",
       "      <th>ReportingOfficer</th>\n",
       "      <th>Date</th>\n",
       "      <th>DayOfWeek</th>\n",
       "      <th>Weekend</th>\n",
       "      <th>Season</th>\n",
       "      <th>TimeOfDay</th>\n",
       "      <th>FullStreet</th>\n",
       "      <th>lat</th>\n",
       "      <th>lon</th>\n",
       "      <th>neighborhood</th>\n",
       "      <th>zip</th>\n",
       "    </tr>\n",
       "  </thead>\n",
       "  <tbody>\n",
       "    <tr>\n",
       "      <th>0</th>\n",
       "      <td>1</td>\n",
       "      <td>Burglary</td>\n",
       "      <td>202500011440</td>\n",
       "      <td>CPD</td>\n",
       "      <td>Darby, Michael</td>\n",
       "      <td>2025-04-09 21:41:06</td>\n",
       "      <td>Wednesday</td>\n",
       "      <td>False</td>\n",
       "      <td>Spring</td>\n",
       "      <td>Night</td>\n",
       "      <td>1000 BELMONT AVE</td>\n",
       "      <td>38.022791</td>\n",
       "      <td>-78.474451</td>\n",
       "      <td>Belmont</td>\n",
       "      <td>22902</td>\n",
       "    </tr>\n",
       "    <tr>\n",
       "      <th>1</th>\n",
       "      <td>2</td>\n",
       "      <td>Fraud-false pretense</td>\n",
       "      <td>202500011418</td>\n",
       "      <td>CPD</td>\n",
       "      <td>Vlasis, Christopher</td>\n",
       "      <td>2025-04-09 17:22:45</td>\n",
       "      <td>Wednesday</td>\n",
       "      <td>False</td>\n",
       "      <td>Spring</td>\n",
       "      <td>Evening</td>\n",
       "      <td>200 GARRETT ST</td>\n",
       "      <td>38.028235</td>\n",
       "      <td>-78.482465</td>\n",
       "      <td>North Downtown</td>\n",
       "      <td>22903</td>\n",
       "    </tr>\n",
       "    <tr>\n",
       "      <th>2</th>\n",
       "      <td>3</td>\n",
       "      <td>Assault Simple</td>\n",
       "      <td>202500011385</td>\n",
       "      <td>CPD</td>\n",
       "      <td>Turner, Devon</td>\n",
       "      <td>2025-04-09 12:19:03</td>\n",
       "      <td>Wednesday</td>\n",
       "      <td>False</td>\n",
       "      <td>Spring</td>\n",
       "      <td>Afternoon</td>\n",
       "      <td>500 PARK ST</td>\n",
       "      <td>38.033037</td>\n",
       "      <td>-78.475772</td>\n",
       "      <td>North Downtown</td>\n",
       "      <td>22902</td>\n",
       "    </tr>\n",
       "    <tr>\n",
       "      <th>3</th>\n",
       "      <td>4</td>\n",
       "      <td>Larceny - Theft from Building</td>\n",
       "      <td>202500011379</td>\n",
       "      <td>CPD</td>\n",
       "      <td>Wisser, Shawn</td>\n",
       "      <td>2025-04-09 10:28:52</td>\n",
       "      <td>Wednesday</td>\n",
       "      <td>False</td>\n",
       "      <td>Spring</td>\n",
       "      <td>Morning</td>\n",
       "      <td>400 11TH ST NE</td>\n",
       "      <td>38.030688</td>\n",
       "      <td>-78.470872</td>\n",
       "      <td>Martha Jefferson</td>\n",
       "      <td>22902</td>\n",
       "    </tr>\n",
       "    <tr>\n",
       "      <th>4</th>\n",
       "      <td>5</td>\n",
       "      <td>Assist Citizen - Mental/TDO/ECO</td>\n",
       "      <td>202500011357</td>\n",
       "      <td>CPD</td>\n",
       "      <td>McLeod, Dustin</td>\n",
       "      <td>2025-04-09 05:21:55</td>\n",
       "      <td>Wednesday</td>\n",
       "      <td>False</td>\n",
       "      <td>Spring</td>\n",
       "      <td>Morning</td>\n",
       "      <td>600 E MARKET ST</td>\n",
       "      <td>38.030175</td>\n",
       "      <td>-78.477574</td>\n",
       "      <td>Downtown Mall</td>\n",
       "      <td>22902</td>\n",
       "    </tr>\n",
       "  </tbody>\n",
       "</table>\n",
       "</div>"
      ],
      "text/plain": [
       "   RecordID                          Offense    IncidentID Agency  \\\n",
       "0         1                         Burglary  202500011440    CPD   \n",
       "1         2             Fraud-false pretense  202500011418    CPD   \n",
       "2         3                   Assault Simple  202500011385    CPD   \n",
       "3         4    Larceny - Theft from Building  202500011379    CPD   \n",
       "4         5  Assist Citizen - Mental/TDO/ECO  202500011357    CPD   \n",
       "\n",
       "      ReportingOfficer                Date  DayOfWeek  Weekend  Season  \\\n",
       "0       Darby, Michael 2025-04-09 21:41:06  Wednesday    False  Spring   \n",
       "1  Vlasis, Christopher 2025-04-09 17:22:45  Wednesday    False  Spring   \n",
       "2        Turner, Devon 2025-04-09 12:19:03  Wednesday    False  Spring   \n",
       "3        Wisser, Shawn 2025-04-09 10:28:52  Wednesday    False  Spring   \n",
       "4       McLeod, Dustin 2025-04-09 05:21:55  Wednesday    False  Spring   \n",
       "\n",
       "   TimeOfDay        FullStreet        lat        lon      neighborhood    zip  \n",
       "0      Night  1000 BELMONT AVE  38.022791 -78.474451           Belmont  22902  \n",
       "1    Evening    200 GARRETT ST  38.028235 -78.482465    North Downtown  22903  \n",
       "2  Afternoon       500 PARK ST  38.033037 -78.475772    North Downtown  22902  \n",
       "3    Morning    400 11TH ST NE  38.030688 -78.470872  Martha Jefferson  22902  \n",
       "4    Morning   600 E MARKET ST  38.030175 -78.477574     Downtown Mall  22902  "
      ]
     },
     "execution_count": 14,
     "metadata": {},
     "output_type": "execute_result"
    }
   ],
   "source": [
    "# Now drop the original BlockNumber and StreetName columns\n",
    "df.drop(columns=['BlockNumber', 'StreetName','HourAMPM','HourReported','DateString'], inplace=True)\n",
    "df[\"zip\"] = df[\"zip\"].astype(str)\n",
    "\n",
    "# Fill all missing values in the DataFrame with \"N/A\"\n",
    "df.replace({None: \"N/A\", np.nan: \"N/A\", \"\": \"N/A\"}, inplace=True)\n",
    "df.head()"
   ]
  },
  {
   "cell_type": "code",
   "execution_count": 15,
   "id": "7e96d4e3",
   "metadata": {
    "execution": {
     "iopub.execute_input": "2025-04-12T00:59:38.515180Z",
     "iopub.status.busy": "2025-04-12T00:59:38.514987Z",
     "iopub.status.idle": "2025-04-12T00:59:38.529103Z",
     "shell.execute_reply": "2025-04-12T00:59:38.528563Z"
    },
    "papermill": {
     "duration": 0.022742,
     "end_time": "2025-04-12T00:59:38.530040",
     "exception": false,
     "start_time": "2025-04-12T00:59:38.507298",
     "status": "completed"
    },
    "tags": []
   },
   "outputs": [
    {
     "name": "stdout",
     "output_type": "stream",
     "text": [
      "                  MissingCount  MissingPercentage\n",
      "RecordID                     0                0.0\n",
      "Offense                      0                0.0\n",
      "IncidentID                   0                0.0\n",
      "Agency                       0                0.0\n",
      "ReportingOfficer             0                0.0\n",
      "Date                         0                0.0\n",
      "DayOfWeek                    0                0.0\n",
      "Weekend                      0                0.0\n",
      "Season                       0                0.0\n",
      "TimeOfDay                    0                0.0\n",
      "FullStreet                   0                0.0\n",
      "lat                          0                0.0\n",
      "lon                          0                0.0\n",
      "neighborhood                 0                0.0\n",
      "zip                          0                0.0\n"
     ]
    }
   ],
   "source": [
    "missing_info = missing_percentage(df)\n",
    "print(missing_info)"
   ]
  },
  {
   "cell_type": "code",
   "execution_count": 16,
   "id": "75ede627",
   "metadata": {
    "execution": {
     "iopub.execute_input": "2025-04-12T00:59:38.545615Z",
     "iopub.status.busy": "2025-04-12T00:59:38.545164Z",
     "iopub.status.idle": "2025-04-12T00:59:38.549573Z",
     "shell.execute_reply": "2025-04-12T00:59:38.549024Z"
    },
    "papermill": {
     "duration": 0.013232,
     "end_time": "2025-04-12T00:59:38.550568",
     "exception": false,
     "start_time": "2025-04-12T00:59:38.537336",
     "status": "completed"
    },
    "tags": []
   },
   "outputs": [
    {
     "data": {
      "text/plain": [
       "Index(['RecordID', 'Offense', 'IncidentID', 'Agency', 'ReportingOfficer',\n",
       "       'Date', 'DayOfWeek', 'Weekend', 'Season', 'TimeOfDay', 'FullStreet',\n",
       "       'lat', 'lon', 'neighborhood', 'zip'],\n",
       "      dtype='object')"
      ]
     },
     "execution_count": 16,
     "metadata": {},
     "output_type": "execute_result"
    }
   ],
   "source": [
    "df.columns"
   ]
  },
  {
   "cell_type": "code",
   "execution_count": 17,
   "id": "d271c9aa",
   "metadata": {
    "execution": {
     "iopub.execute_input": "2025-04-12T00:59:38.565929Z",
     "iopub.status.busy": "2025-04-12T00:59:38.565541Z",
     "iopub.status.idle": "2025-04-12T00:59:38.580583Z",
     "shell.execute_reply": "2025-04-12T00:59:38.580011Z"
    },
    "papermill": {
     "duration": 0.023812,
     "end_time": "2025-04-12T00:59:38.581614",
     "exception": false,
     "start_time": "2025-04-12T00:59:38.557802",
     "status": "completed"
    },
    "tags": []
   },
   "outputs": [
    {
     "name": "stdout",
     "output_type": "stream",
     "text": [
      "<class 'pandas.core.frame.DataFrame'>\n",
      "RangeIndex: 25135 entries, 0 to 25134\n",
      "Data columns (total 15 columns):\n",
      " #   Column            Non-Null Count  Dtype         \n",
      "---  ------            --------------  -----         \n",
      " 0   RecordID          25135 non-null  int64         \n",
      " 1   Offense           25135 non-null  object        \n",
      " 2   IncidentID        25135 non-null  object        \n",
      " 3   Agency            25135 non-null  object        \n",
      " 4   ReportingOfficer  25135 non-null  object        \n",
      " 5   Date              25135 non-null  datetime64[ns]\n",
      " 6   DayOfWeek         25135 non-null  object        \n",
      " 7   Weekend           25135 non-null  bool          \n",
      " 8   Season            25135 non-null  object        \n",
      " 9   TimeOfDay         25135 non-null  object        \n",
      " 10  FullStreet        25135 non-null  object        \n",
      " 11  lat               25135 non-null  float64       \n",
      " 12  lon               25135 non-null  float64       \n",
      " 13  neighborhood      25135 non-null  object        \n",
      " 14  zip               25135 non-null  object        \n",
      "dtypes: bool(1), datetime64[ns](1), float64(2), int64(1), object(10)\n",
      "memory usage: 2.7+ MB\n"
     ]
    }
   ],
   "source": [
    "df.info()"
   ]
  },
  {
   "cell_type": "markdown",
   "id": "5b4bf8c8",
   "metadata": {
    "papermill": {
     "duration": 0.007353,
     "end_time": "2025-04-12T00:59:38.596435",
     "exception": false,
     "start_time": "2025-04-12T00:59:38.589082",
     "status": "completed"
    },
    "tags": []
   },
   "source": [
    "### Export Clean Data"
   ]
  },
  {
   "cell_type": "code",
   "execution_count": 18,
   "id": "ee1be698",
   "metadata": {
    "execution": {
     "iopub.execute_input": "2025-04-12T00:59:38.612422Z",
     "iopub.status.busy": "2025-04-12T00:59:38.611993Z",
     "iopub.status.idle": "2025-04-12T00:59:47.687713Z",
     "shell.execute_reply": "2025-04-12T00:59:47.687015Z"
    },
    "papermill": {
     "duration": 9.084877,
     "end_time": "2025-04-12T00:59:47.688799",
     "exception": false,
     "start_time": "2025-04-12T00:59:38.603922",
     "status": "completed"
    },
    "tags": []
   },
   "outputs": [
    {
     "name": "stdout",
     "output_type": "stream",
     "text": [
      "Project Root: /home/runner/work/crime-data/crime-data\n"
     ]
    },
    {
     "name": "stdout",
     "output_type": "stream",
     "text": [
      "Data saved to: /home/runner/work/crime-data/crime-data/data/charlottesville_crime_incidents.csv\n"
     ]
    },
    {
     "name": "stdout",
     "output_type": "stream",
     "text": [
      "Excel saved to: /home/runner/work/crime-data/crime-data/data/charlottesville_crime_incidents.xlsx\n"
     ]
    }
   ],
   "source": [
    "# Determine the project root (assuming papermill is run from the repository root)\n",
    "project_root = os.getcwd()\n",
    "print(\"Project Root:\", project_root)\n",
    "\n",
    "# Set the data directory within the project root\n",
    "data_dir = os.path.join(project_root, \"data\")\n",
    "\n",
    "# Ensure the \"data\" directory exists (create it if it doesn't)\n",
    "if not os.path.exists(data_dir):\n",
    "    os.makedirs(data_dir)\n",
    "\n",
    "# Export the DataFrame to CSV in the \"data\" folder located in the project root\n",
    "csv_path = os.path.join(data_dir, \"charlottesville_crime_incidents.csv\")\n",
    "df.to_csv(csv_path, index=False)\n",
    "print(\"Data saved to:\", csv_path)\n",
    "\n",
    "# Construct the path to your Excel file\n",
    "excel_path = os.path.join(data_dir, \"charlottesville_crime_incidents.xlsx\")\n",
    "\n",
    "# Export the DataFrame to Excel\n",
    "df.to_excel(excel_path, index=False)\n",
    "print(\"Excel saved to:\", excel_path)\n"
   ]
  },
  {
   "cell_type": "markdown",
   "id": "9dfba2c8",
   "metadata": {
    "papermill": {
     "duration": 0.007804,
     "end_time": "2025-04-12T00:59:47.704714",
     "exception": false,
     "start_time": "2025-04-12T00:59:47.696910",
     "status": "completed"
    },
    "tags": []
   },
   "source": [
    "## Predictive Analytics"
   ]
  },
  {
   "cell_type": "code",
   "execution_count": 19,
   "id": "895b5f2c",
   "metadata": {
    "execution": {
     "iopub.execute_input": "2025-04-12T00:59:47.721206Z",
     "iopub.status.busy": "2025-04-12T00:59:47.720793Z",
     "iopub.status.idle": "2025-04-12T00:59:47.732161Z",
     "shell.execute_reply": "2025-04-12T00:59:47.731642Z"
    },
    "papermill": {
     "duration": 0.02067,
     "end_time": "2025-04-12T00:59:47.733158",
     "exception": false,
     "start_time": "2025-04-12T00:59:47.712488",
     "status": "completed"
    },
    "tags": []
   },
   "outputs": [
    {
     "data": {
      "text/html": [
       "<div>\n",
       "<style scoped>\n",
       "    .dataframe tbody tr th:only-of-type {\n",
       "        vertical-align: middle;\n",
       "    }\n",
       "\n",
       "    .dataframe tbody tr th {\n",
       "        vertical-align: top;\n",
       "    }\n",
       "\n",
       "    .dataframe thead th {\n",
       "        text-align: right;\n",
       "    }\n",
       "</style>\n",
       "<table border=\"1\" class=\"dataframe\">\n",
       "  <thead>\n",
       "    <tr style=\"text-align: right;\">\n",
       "      <th></th>\n",
       "      <th>RecordID</th>\n",
       "      <th>Offense</th>\n",
       "      <th>IncidentID</th>\n",
       "      <th>Agency</th>\n",
       "      <th>ReportingOfficer</th>\n",
       "      <th>Date</th>\n",
       "      <th>DayOfWeek</th>\n",
       "      <th>Weekend</th>\n",
       "      <th>Season</th>\n",
       "      <th>TimeOfDay</th>\n",
       "      <th>FullStreet</th>\n",
       "      <th>lat</th>\n",
       "      <th>lon</th>\n",
       "      <th>neighborhood</th>\n",
       "      <th>zip</th>\n",
       "    </tr>\n",
       "  </thead>\n",
       "  <tbody>\n",
       "    <tr>\n",
       "      <th>0</th>\n",
       "      <td>1</td>\n",
       "      <td>Burglary</td>\n",
       "      <td>202500011440</td>\n",
       "      <td>CPD</td>\n",
       "      <td>Darby, Michael</td>\n",
       "      <td>2025-04-09 21:41:06</td>\n",
       "      <td>Wednesday</td>\n",
       "      <td>False</td>\n",
       "      <td>Spring</td>\n",
       "      <td>Night</td>\n",
       "      <td>1000 BELMONT AVE</td>\n",
       "      <td>38.022791</td>\n",
       "      <td>-78.474451</td>\n",
       "      <td>Belmont</td>\n",
       "      <td>22902</td>\n",
       "    </tr>\n",
       "    <tr>\n",
       "      <th>1</th>\n",
       "      <td>2</td>\n",
       "      <td>Fraud-false pretense</td>\n",
       "      <td>202500011418</td>\n",
       "      <td>CPD</td>\n",
       "      <td>Vlasis, Christopher</td>\n",
       "      <td>2025-04-09 17:22:45</td>\n",
       "      <td>Wednesday</td>\n",
       "      <td>False</td>\n",
       "      <td>Spring</td>\n",
       "      <td>Evening</td>\n",
       "      <td>200 GARRETT ST</td>\n",
       "      <td>38.028235</td>\n",
       "      <td>-78.482465</td>\n",
       "      <td>North Downtown</td>\n",
       "      <td>22903</td>\n",
       "    </tr>\n",
       "    <tr>\n",
       "      <th>2</th>\n",
       "      <td>3</td>\n",
       "      <td>Assault Simple</td>\n",
       "      <td>202500011385</td>\n",
       "      <td>CPD</td>\n",
       "      <td>Turner, Devon</td>\n",
       "      <td>2025-04-09 12:19:03</td>\n",
       "      <td>Wednesday</td>\n",
       "      <td>False</td>\n",
       "      <td>Spring</td>\n",
       "      <td>Afternoon</td>\n",
       "      <td>500 PARK ST</td>\n",
       "      <td>38.033037</td>\n",
       "      <td>-78.475772</td>\n",
       "      <td>North Downtown</td>\n",
       "      <td>22902</td>\n",
       "    </tr>\n",
       "    <tr>\n",
       "      <th>3</th>\n",
       "      <td>4</td>\n",
       "      <td>Larceny - Theft from Building</td>\n",
       "      <td>202500011379</td>\n",
       "      <td>CPD</td>\n",
       "      <td>Wisser, Shawn</td>\n",
       "      <td>2025-04-09 10:28:52</td>\n",
       "      <td>Wednesday</td>\n",
       "      <td>False</td>\n",
       "      <td>Spring</td>\n",
       "      <td>Morning</td>\n",
       "      <td>400 11TH ST NE</td>\n",
       "      <td>38.030688</td>\n",
       "      <td>-78.470872</td>\n",
       "      <td>Martha Jefferson</td>\n",
       "      <td>22902</td>\n",
       "    </tr>\n",
       "    <tr>\n",
       "      <th>4</th>\n",
       "      <td>5</td>\n",
       "      <td>Assist Citizen - Mental/TDO/ECO</td>\n",
       "      <td>202500011357</td>\n",
       "      <td>CPD</td>\n",
       "      <td>McLeod, Dustin</td>\n",
       "      <td>2025-04-09 05:21:55</td>\n",
       "      <td>Wednesday</td>\n",
       "      <td>False</td>\n",
       "      <td>Spring</td>\n",
       "      <td>Morning</td>\n",
       "      <td>600 E MARKET ST</td>\n",
       "      <td>38.030175</td>\n",
       "      <td>-78.477574</td>\n",
       "      <td>Downtown Mall</td>\n",
       "      <td>22902</td>\n",
       "    </tr>\n",
       "  </tbody>\n",
       "</table>\n",
       "</div>"
      ],
      "text/plain": [
       "   RecordID                          Offense    IncidentID Agency  \\\n",
       "0         1                         Burglary  202500011440    CPD   \n",
       "1         2             Fraud-false pretense  202500011418    CPD   \n",
       "2         3                   Assault Simple  202500011385    CPD   \n",
       "3         4    Larceny - Theft from Building  202500011379    CPD   \n",
       "4         5  Assist Citizen - Mental/TDO/ECO  202500011357    CPD   \n",
       "\n",
       "      ReportingOfficer                Date  DayOfWeek  Weekend  Season  \\\n",
       "0       Darby, Michael 2025-04-09 21:41:06  Wednesday    False  Spring   \n",
       "1  Vlasis, Christopher 2025-04-09 17:22:45  Wednesday    False  Spring   \n",
       "2        Turner, Devon 2025-04-09 12:19:03  Wednesday    False  Spring   \n",
       "3        Wisser, Shawn 2025-04-09 10:28:52  Wednesday    False  Spring   \n",
       "4       McLeod, Dustin 2025-04-09 05:21:55  Wednesday    False  Spring   \n",
       "\n",
       "   TimeOfDay        FullStreet        lat        lon      neighborhood    zip  \n",
       "0      Night  1000 BELMONT AVE  38.022791 -78.474451           Belmont  22902  \n",
       "1    Evening    200 GARRETT ST  38.028235 -78.482465    North Downtown  22903  \n",
       "2  Afternoon       500 PARK ST  38.033037 -78.475772    North Downtown  22902  \n",
       "3    Morning    400 11TH ST NE  38.030688 -78.470872  Martha Jefferson  22902  \n",
       "4    Morning   600 E MARKET ST  38.030175 -78.477574     Downtown Mall  22902  "
      ]
     },
     "execution_count": 19,
     "metadata": {},
     "output_type": "execute_result"
    }
   ],
   "source": [
    "df.head()"
   ]
  },
  {
   "cell_type": "code",
   "execution_count": 20,
   "id": "375ccadf",
   "metadata": {
    "execution": {
     "iopub.execute_input": "2025-04-12T00:59:47.770330Z",
     "iopub.status.busy": "2025-04-12T00:59:47.770033Z",
     "iopub.status.idle": "2025-04-12T00:59:47.774671Z",
     "shell.execute_reply": "2025-04-12T00:59:47.773997Z"
    },
    "papermill": {
     "duration": 0.01455,
     "end_time": "2025-04-12T00:59:47.775692",
     "exception": false,
     "start_time": "2025-04-12T00:59:47.761142",
     "status": "completed"
    },
    "tags": []
   },
   "outputs": [
    {
     "data": {
      "text/plain": [
       "Index(['RecordID', 'Offense', 'IncidentID', 'Agency', 'ReportingOfficer',\n",
       "       'Date', 'DayOfWeek', 'Weekend', 'Season', 'TimeOfDay', 'FullStreet',\n",
       "       'lat', 'lon', 'neighborhood', 'zip'],\n",
       "      dtype='object')"
      ]
     },
     "execution_count": 20,
     "metadata": {},
     "output_type": "execute_result"
    }
   ],
   "source": [
    "df.columns"
   ]
  },
  {
   "cell_type": "markdown",
   "id": "5e5bde03",
   "metadata": {
    "papermill": {
     "duration": 0.00796,
     "end_time": "2025-04-12T00:59:47.791713",
     "exception": false,
     "start_time": "2025-04-12T00:59:47.783753",
     "status": "completed"
    },
    "tags": []
   },
   "source": [
    "### Data Preparation\n",
    "\n",
    "We need to ensure the data is in the correct format for modeling and can handle missing values, categorical variables, and dates. Here's how to prepare your data:"
   ]
  },
  {
   "cell_type": "code",
   "execution_count": 21,
   "id": "621a0e38",
   "metadata": {
    "execution": {
     "iopub.execute_input": "2025-04-12T00:59:47.808633Z",
     "iopub.status.busy": "2025-04-12T00:59:47.808244Z",
     "iopub.status.idle": "2025-04-12T00:59:49.298701Z",
     "shell.execute_reply": "2025-04-12T00:59:49.297946Z"
    },
    "papermill": {
     "duration": 1.500292,
     "end_time": "2025-04-12T00:59:49.300107",
     "exception": false,
     "start_time": "2025-04-12T00:59:47.799815",
     "status": "completed"
    },
    "tags": []
   },
   "outputs": [],
   "source": [
    "import pandas as pd\n",
    "from sklearn.model_selection import train_test_split\n",
    "from sklearn.preprocessing import OneHotEncoder, LabelEncoder\n",
    "from sklearn.ensemble import RandomForestClassifier\n",
    "from sklearn.linear_model import LogisticRegression\n",
    "from sklearn.tree import DecisionTreeClassifier\n",
    "from sklearn.metrics import classification_report, accuracy_score\n",
    "import seaborn as sns\n",
    "import matplotlib.pyplot as plt\n",
    "\n",
    "# Convert 'Date' to datetime\n",
    "df['Date'] = pd.to_datetime(df['Date'])\n",
    "\n",
    "# Feature engineering: Extract additional time-based features\n",
    "df['Year'] = df['Date'].dt.year\n",
    "df['Month'] = df['Date'].dt.month\n",
    "df['DayOfMonth'] = df['Date'].dt.day\n",
    "\n",
    "# One-hot encoding for 'FullStreet', 'neighborhood', 'zip'\n",
    "df = pd.get_dummies(df, columns=['FullStreet', 'neighborhood', 'zip'], drop_first=True)\n",
    "\n",
    "# Label encoding for ordered variables (those with a natural order like 'DayOfWeek', 'Season', 'TimeOfDay')\n",
    "label_encoders = {}\n",
    "for column in ['DayOfWeek', 'Season', 'TimeOfDay', 'Agency', 'ReportingOfficer']:  # Example ordinal variables\n",
    "    le = LabelEncoder()\n",
    "    df[column] = le.fit_transform(df[column])\n",
    "    label_encoders[column] = le\n",
    "\n",
    "# Filter the dataset to include only the offenses of interest\n",
    "offenses_of_interest = [\n",
    "    'Hit and Run', 'Assault Simple', 'Suspicious Activity', 'Vandalism', \n",
    "    'Larceny - From Mot Vehicle', 'Larceny - All Other', \n",
    "    'Assist Citizen - Mental/TDO/ECO', 'Lost/FoundProperty'\n",
    "]\n",
    "\n",
    "df = df[df['Offense'].isin(offenses_of_interest)]\n",
    "\n",
    "# Label encode the target variable (Offense)\n",
    "offense_encoder = LabelEncoder()\n",
    "df['Offense'] = offense_encoder.fit_transform(df['Offense'])\n",
    "\n",
    "# Separate features (X) and target (y)\n",
    "X = df[['Year', 'Month', 'DayOfMonth', 'DayOfWeek', 'Weekend', 'Season', 'TimeOfDay', 'lat', 'lon', 'Agency', 'ReportingOfficer']]\n",
    "y = df['Offense']  # Offense is now the encoded target variable\n",
    "\n",
    "# Split the data into training and testing sets\n",
    "X_train, X_test, y_train, y_test = train_test_split(X, y, test_size=0.3, random_state=42)\n"
   ]
  },
  {
   "cell_type": "markdown",
   "id": "97b155ce",
   "metadata": {
    "papermill": {
     "duration": 0.007759,
     "end_time": "2025-04-12T00:59:49.316155",
     "exception": false,
     "start_time": "2025-04-12T00:59:49.308396",
     "status": "completed"
    },
    "tags": []
   },
   "source": [
    "### Model Training\n",
    "\n",
    "Here we will train several models (e.g., Random Forest, Logistic Regression, and Decision Tree). We will use cross-validation to choose the best model based on accuracy, and then explain the impact of the variables."
   ]
  },
  {
   "cell_type": "code",
   "execution_count": 22,
   "id": "2d2c579c",
   "metadata": {
    "execution": {
     "iopub.execute_input": "2025-04-12T00:59:49.332912Z",
     "iopub.status.busy": "2025-04-12T00:59:49.332611Z",
     "iopub.status.idle": "2025-04-12T00:59:52.926168Z",
     "shell.execute_reply": "2025-04-12T00:59:52.925608Z"
    },
    "papermill": {
     "duration": 3.603224,
     "end_time": "2025-04-12T00:59:52.927246",
     "exception": false,
     "start_time": "2025-04-12T00:59:49.324022",
     "status": "completed"
    },
    "tags": []
   },
   "outputs": [
    {
     "name": "stderr",
     "output_type": "stream",
     "text": [
      "/opt/hostedtoolcache/Python/3.9.21/x64/lib/python3.9/site-packages/sklearn/linear_model/_logistic.py:465: ConvergenceWarning: lbfgs failed to converge (status=1):\n",
      "STOP: TOTAL NO. of ITERATIONS REACHED LIMIT.\n",
      "\n",
      "Increase the number of iterations (max_iter) or scale the data as shown in:\n",
      "    https://scikit-learn.org/stable/modules/preprocessing.html\n",
      "Please also refer to the documentation for alternative solver options:\n",
      "    https://scikit-learn.org/stable/modules/linear_model.html#logistic-regression\n",
      "  n_iter_i = _check_optimize_result(\n",
      "/opt/hostedtoolcache/Python/3.9.21/x64/lib/python3.9/site-packages/sklearn/metrics/_classification.py:1565: UndefinedMetricWarning: Precision is ill-defined and being set to 0.0 in labels with no predicted samples. Use `zero_division` parameter to control this behavior.\n",
      "  _warn_prf(average, modifier, f\"{metric.capitalize()} is\", len(result))\n",
      "/opt/hostedtoolcache/Python/3.9.21/x64/lib/python3.9/site-packages/sklearn/metrics/_classification.py:1565: UndefinedMetricWarning: Precision is ill-defined and being set to 0.0 in labels with no predicted samples. Use `zero_division` parameter to control this behavior.\n",
      "  _warn_prf(average, modifier, f\"{metric.capitalize()} is\", len(result))\n",
      "/opt/hostedtoolcache/Python/3.9.21/x64/lib/python3.9/site-packages/sklearn/metrics/_classification.py:1565: UndefinedMetricWarning: Precision is ill-defined and being set to 0.0 in labels with no predicted samples. Use `zero_division` parameter to control this behavior.\n",
      "  _warn_prf(average, modifier, f\"{metric.capitalize()} is\", len(result))\n"
     ]
    },
    {
     "name": "stdout",
     "output_type": "stream",
     "text": [
      "\n",
      "Classification Report for All Models:\n",
      "\n",
      "Model: RandomForest\n",
      "Accuracy: 0.2875\n",
      "              precision    recall  f1-score      support\n",
      "0              0.284802  0.376054  0.324128   593.000000\n",
      "1              0.294915  0.216418  0.249641   402.000000\n",
      "2              0.296112  0.456221  0.359129   651.000000\n",
      "3              0.264264  0.187234  0.219178   470.000000\n",
      "4              0.358209  0.201681  0.258065   357.000000\n",
      "5              0.250000  0.224609  0.236626   512.000000\n",
      "6              0.293333  0.236559  0.261905   465.000000\n",
      "accuracy       0.287536  0.287536  0.287536     0.287536\n",
      "macro avg      0.291662  0.271254  0.272667  3450.000000\n",
      "weighted avg   0.288898  0.287536  0.279547  3450.000000\n"
     ]
    },
    {
     "data": {
      "image/png": "[encoded data removed]",
      "text/plain": [
       "<Figure size 800x600 with 2 Axes>"
      ]
     },
     "metadata": {},
     "output_type": "display_data"
    },
    {
     "name": "stdout",
     "output_type": "stream",
     "text": [
      "\n",
      "Model: LogisticRegression\n",
      "Accuracy: 0.2099\n",
      "              precision    recall  f1-score      support\n",
      "0              0.207869  0.472175  0.288660   593.000000\n",
      "1              0.000000  0.000000  0.000000   402.000000\n",
      "2              0.211127  0.682028  0.322440   651.000000\n",
      "3              0.000000  0.000000  0.000000   470.000000\n",
      "4              0.000000  0.000000  0.000000   357.000000\n",
      "5              0.000000  0.000000  0.000000   512.000000\n",
      "6              0.000000  0.000000  0.000000   465.000000\n",
      "accuracy       0.209855  0.209855  0.209855     0.209855\n",
      "macro avg      0.059857  0.164886  0.087300  3450.000000\n",
      "weighted avg   0.075568  0.209855  0.110459  3450.000000\n"
     ]
    },
    {
     "data": {
      "image/png": "[encoded data removed]",
      "text/plain": [
       "<Figure size 800x600 with 2 Axes>"
      ]
     },
     "metadata": {},
     "output_type": "display_data"
    },
    {
     "name": "stdout",
     "output_type": "stream",
     "text": [
      "\n",
      "Model: DecisionTree\n",
      "Accuracy: 0.2093\n",
      "              precision    recall  f1-score      support\n",
      "0              0.209493  0.215852  0.212625   593.000000\n",
      "1              0.212435  0.203980  0.208122   402.000000\n",
      "2              0.270353  0.270353  0.270353   651.000000\n",
      "3              0.178808  0.172340  0.175515   470.000000\n",
      "4              0.186391  0.176471  0.181295   357.000000\n",
      "5              0.183333  0.193359  0.188213   512.000000\n",
      "6              0.197452  0.200000  0.198718   465.000000\n",
      "accuracy       0.209275  0.209275  0.209275     0.209275\n",
      "macro avg      0.205466  0.204622  0.204977  3450.000000\n",
      "weighted avg   0.209244  0.209275  0.209198  3450.000000\n"
     ]
    },
    {
     "data": {
      "image/png": "[encoded data removed]",
      "text/plain": [
       "<Figure size 800x600 with 2 Axes>"
      ]
     },
     "metadata": {},
     "output_type": "display_data"
    },
    {
     "name": "stdout",
     "output_type": "stream",
     "text": [
      "\n",
      "Best Model:\n",
      "Best Model: RandomForestClassifier()\n",
      "Best Model Accuracy: 0.2875\n"
     ]
    }
   ],
   "source": [
    "import pandas as pd\n",
    "from sklearn.model_selection import train_test_split\n",
    "from sklearn.ensemble import RandomForestClassifier\n",
    "from sklearn.linear_model import LogisticRegression\n",
    "from sklearn.tree import DecisionTreeClassifier\n",
    "from sklearn.metrics import classification_report, accuracy_score, confusion_matrix\n",
    "import seaborn as sns\n",
    "import matplotlib.pyplot as plt\n",
    "\n",
    "# Define models\n",
    "models = {\n",
    "    'RandomForest': RandomForestClassifier(),\n",
    "    'LogisticRegression': LogisticRegression(max_iter=1000),\n",
    "    'DecisionTree': DecisionTreeClassifier()\n",
    "}\n",
    "\n",
    "# Train models and evaluate them\n",
    "best_model = None\n",
    "best_score = 0\n",
    "model_reports = {}\n",
    "\n",
    "for model_name, model in models.items():\n",
    "    model.fit(X_train, y_train)  # Train model\n",
    "    y_pred = model.predict(X_test)  # Make predictions\n",
    "    \n",
    "    # Calculate accuracy and generate classification report\n",
    "    accuracy = accuracy_score(y_test, y_pred)\n",
    "    model_reports[model_name] = classification_report(y_test, y_pred, output_dict=True)  # Store as a dictionary for easier analysis\n",
    "    \n",
    "    # Track best performing model\n",
    "    if accuracy > best_score:\n",
    "        best_score = accuracy\n",
    "        best_model = model\n",
    "\n",
    "# Display classification reports and confusion matrices\n",
    "print(\"\\nClassification Report for All Models:\")\n",
    "for model_name, report in model_reports.items():\n",
    "    print(f\"\\nModel: {model_name}\")\n",
    "    print(\"Accuracy: {:.4f}\".format(accuracy_score(y_test, models[model_name].predict(X_test))))  # Display accuracy\n",
    "    print(pd.DataFrame(report).transpose())  # Display classification report as a DataFrame\n",
    "\n",
    "    # Plot Confusion Matrix\n",
    "    cm = confusion_matrix(y_test, models[model_name].predict(X_test))\n",
    "    plt.figure(figsize=(8, 6))\n",
    "    sns.heatmap(cm, annot=True, fmt=\"d\", cmap='Blues', xticklabels=offense_encoder.classes_, yticklabels=offense_encoder.classes_)\n",
    "    plt.title(f\"Confusion Matrix - {model_name}\")\n",
    "    plt.xlabel('Predicted Labels')\n",
    "    plt.ylabel('True Labels')\n",
    "    plt.show()\n",
    "\n",
    "# Display best model details\n",
    "print(\"\\nBest Model:\")\n",
    "print(f\"Best Model: {best_model}\")\n",
    "print(f\"Best Model Accuracy: {best_score:.4f}\")\n"
   ]
  },
  {
   "cell_type": "markdown",
   "id": "be5b3bba",
   "metadata": {
    "papermill": {
     "duration": 0.010479,
     "end_time": "2025-04-12T00:59:52.948858",
     "exception": false,
     "start_time": "2025-04-12T00:59:52.938379",
     "status": "completed"
    },
    "tags": []
   },
   "source": [
    "#### Classification Report for All Models:\n",
    "\n",
    "### Explanation of the Classification Results (RandomForest Model)\n",
    "\n",
    "The results you provided are from a **Random Forest** model, which is used for predicting different types of offenses. Let's break down the key components of the results:\n",
    "\n",
    "#### 1. **Accuracy: 0.2822**\n",
    "   - **Accuracy** measures the overall percentage of correct predictions made by the model. An accuracy of 28.22% means the model correctly predicted the offense in about 28% of the cases. This indicates the model's predictions are not highly reliable, as the accuracy is quite low.\n",
    "\n",
    "#### 2. **Classification Report:**\n",
    "   The classification report includes precision, recall, and F1-score for each offense. Let's go over these terms and how they apply to the results:\n",
    "\n",
    "   - **Precision**: The proportion of true positive predictions out of all positive predictions made by the model for a specific class (offense).\n",
    "   - **Recall**: The proportion of true positive predictions out of all actual positive instances in the dataset.\n",
    "   - **F1-Score**: The harmonic mean of precision and recall, providing a balance between the two metrics.\n",
    "   - **Support**: The number of actual occurrences of each class in the test set.\n",
    "\n",
    "   Let's analyze each offense based on these metrics:\n",
    "\n",
    "   | **Offense**                        | **Precision** | **Recall** | **F1-Score** | **Support** |\n",
    "   |------------------------------------|---------------|------------|--------------|-------------|\n",
    "   | **Assault Simple**                 | 0.2892        | 0.3754     | 0.3267       | 594         |\n",
    "   | **Assist Citizen - Mental/TDO/ECO**| 0.3182        | 0.2274     | 0.2652       | 431         |\n",
    "   | **Hit and Run**                    | 0.2963        | 0.4765     | 0.3654       | 638         |\n",
    "   | **Larceny - All Other**            | 0.2270        | 0.1453     | 0.1772       | 475         |\n",
    "   | **Lost/FoundProperty**             | 0.3333        | 0.2102     | 0.2578       | 352         |\n",
    "   | **Suspicious Activity**            | 0.2344        | 0.2169     | 0.2253       | 484         |\n",
    "   | **Vandalism**                      | 0.2712        | 0.2106     | 0.2371       | 470         |\n",
    "\n",
    "#### 3. **Key Insights from the Report:**\n",
    "\n",
    "- **Precision**:\n",
    "   - The highest precision is for **Larceny - All Other** (0.3333), indicating that when the model predicts this offense, it is correct about 33% of the time. However, this is still quite low.\n",
    "   - **Assist Citizen - Mental/TDO/ECO** has the lowest precision (0.2269), meaning that the model's predictions for this offense tend to be wrong more often than correct.\n",
    "\n",
    "- **Recall**:\n",
    "   - **Hit and Run** has the highest recall (0.4765), meaning the model identifies about 48% of the actual occurrences of this offense. This is better than the precision, which indicates it is missing many true positives but is still able to identify a fair number of cases.\n",
    "   - **Larceny - All Other** and **Suspicious Activity** have the lowest recall values (0.1453 and 0.2169, respectively), indicating that the model is failing to identify most of the actual cases for these offenses.\n",
    "\n",
    "- **F1-Score**:\n",
    "   - The **F1-Score** balances precision and recall. It is highest for **Hit and Run** (0.3654), but still relatively low overall. This suggests the model is better at identifying **Hit and Run** than other offenses but still has room for improvement.\n",
    "   - **Larceny - All Other** has the lowest F1-Score (0.1772), indicating a poor balance between precision and recall for this offense.\n",
    "\n",
    "#### 4. **Macro Average and Weighted Average:**\n",
    "   - **Macro Average**: This gives the average precision, recall, and F1-Score across all classes (offenses) without considering the class distribution. It averages the results for all offenses equally.\n",
    "     - Precision: 0.2814\n",
    "     - Recall: 0.2661\n",
    "     - F1-Score: 0.2649\n",
    "   - **Weighted Average**: This averages the metrics but weighs each class by its support (the number of true instances in the test set). This gives a better sense of overall performance, considering the class distribution.\n",
    "     - Precision: 0.2799\n",
    "     - Recall: 0.2822\n",
    "     - F1-Score: 0.2720\n",
    "\n",
    "#### 5. **Confusion Matrix (Visualization Analysis)**:\n",
    "   - The confusion matrix shows the distribution of true positive, false positive, true negative, and false negative predictions for each class.\n",
    "     - For **Hit and Run**, the model performs relatively well in identifying this offense (304 true positives). However, it also misclassifies some **Hit and Run** instances as other offenses (e.g., **Assault Simple**, **Suspicious Activity**, etc.).\n",
    "     - **Larceny - All Other** is frequently misclassified as **Hit and Run**, **Suspicious Activity**, and others. This is evident from the large number of off-diagonal elements in its row.\n",
    "     - **Assist Citizen - Mental/TDO/ECO** and **Suspicious Activity** are frequently misclassified, as seen by the off-diagonal values in their rows.\n",
    "\n",
    "### Conclusion:\n",
    "The Random Forest model has low accuracy (28.22%), suggesting that it struggles to predict most offenses accurately. Some offenses like **Hit and Run** are better predicted than others, but overall, the model shows a high level of misclassification across all offenses. There may be a need for further tuning of the model, additional feature engineering, or trying different models for better performance.\n",
    "\n",
    "Let me know if you'd like to improve the model or make adjustments based on these results!\n",
    "\n"
   ]
  },
  {
   "cell_type": "markdown",
   "id": "cb0134be",
   "metadata": {
    "papermill": {
     "duration": 0.01051,
     "end_time": "2025-04-12T00:59:52.969805",
     "exception": false,
     "start_time": "2025-04-12T00:59:52.959295",
     "status": "completed"
    },
    "tags": []
   },
   "source": [
    "### Model Explanation\n",
    "\n",
    "Once we’ve chosen the best model, we will explain its predictions by examining feature importance for tree-based models and using statistical methods like logistic regression coefficients for linear models."
   ]
  },
  {
   "cell_type": "markdown",
   "id": "bf4e427b",
   "metadata": {
    "papermill": {
     "duration": 0.010464,
     "end_time": "2025-04-12T00:59:52.990702",
     "exception": false,
     "start_time": "2025-04-12T00:59:52.980238",
     "status": "completed"
    },
    "tags": []
   },
   "source": [
    "#### Feature Importance for Random Forest / Decision Tree\n",
    "\n",
    "##### For Tree-based Models (Random Forest, Decision Tree)\n",
    "\n",
    "For Random Forest or Decision Tree, we can look at feature importance to understand which variables contribute the most to the model's predictions. Here's how you can visualize and interpret the importance of each feature:"
   ]
  },
  {
   "cell_type": "code",
   "execution_count": 23,
   "id": "e9926714",
   "metadata": {
    "execution": {
     "iopub.execute_input": "2025-04-12T00:59:53.012958Z",
     "iopub.status.busy": "2025-04-12T00:59:53.012484Z",
     "iopub.status.idle": "2025-04-12T00:59:53.177237Z",
     "shell.execute_reply": "2025-04-12T00:59:53.176563Z"
    },
    "papermill": {
     "duration": 0.177087,
     "end_time": "2025-04-12T00:59:53.178260",
     "exception": false,
     "start_time": "2025-04-12T00:59:53.001173",
     "status": "completed"
    },
    "tags": []
   },
   "outputs": [
    {
     "data": {
      "image/png": "[encoded data removed]",
      "text/plain": [
       "<Figure size 1000x600 with 1 Axes>"
      ]
     },
     "metadata": {},
     "output_type": "display_data"
    }
   ],
   "source": [
    "# For RandomForest or DecisionTree models, we can check feature importance\n",
    "if isinstance(best_model, RandomForestClassifier) or isinstance(best_model, DecisionTreeClassifier):\n",
    "    feature_importance = best_model.feature_importances_\n",
    "    feature_names = X.columns\n",
    "    importance_df = pd.DataFrame({'Feature': feature_names, 'Importance': feature_importance})\n",
    "    importance_df = importance_df.sort_values(by='Importance', ascending=False)\n",
    "    \n",
    "    # Plotting the feature importances\n",
    "    plt.figure(figsize=(10, 6))\n",
    "    sns.barplot(x='Importance', y='Feature', data=importance_df)\n",
    "    plt.title(\"Feature Importance\")\n",
    "    plt.show()\n"
   ]
  },
  {
   "cell_type": "code",
   "execution_count": null,
   "id": "21f35e4a",
   "metadata": {
    "papermill": {
     "duration": 0.01092,
     "end_time": "2025-04-12T00:59:53.200570",
     "exception": false,
     "start_time": "2025-04-12T00:59:53.189650",
     "status": "completed"
    },
    "tags": []
   },
   "outputs": [],
   "source": []
  },
  {
   "cell_type": "markdown",
   "id": "b5bdaddb",
   "metadata": {
    "papermill": {
     "duration": 0.010884,
     "end_time": "2025-04-12T00:59:53.222296",
     "exception": false,
     "start_time": "2025-04-12T00:59:53.211412",
     "status": "completed"
    },
    "tags": []
   },
   "source": [
    "### Evaluation\n",
    "\n",
    "After training the models and examining their performance, we evaluate the chosen model based on metrics like accuracy, precision, recall, and F1 score.\n",
    "\n"
   ]
  },
  {
   "cell_type": "code",
   "execution_count": 24,
   "id": "b0fbe955",
   "metadata": {
    "execution": {
     "iopub.execute_input": "2025-04-12T00:59:53.244879Z",
     "iopub.status.busy": "2025-04-12T00:59:53.244659Z",
     "iopub.status.idle": "2025-04-12T00:59:53.331662Z",
     "shell.execute_reply": "2025-04-12T00:59:53.331054Z"
    },
    "papermill": {
     "duration": 0.099567,
     "end_time": "2025-04-12T00:59:53.332743",
     "exception": false,
     "start_time": "2025-04-12T00:59:53.233176",
     "status": "completed"
    },
    "tags": []
   },
   "outputs": [
    {
     "name": "stdout",
     "output_type": "stream",
     "text": [
      "Accuracy: 0.2875\n",
      "Classification Report:\n",
      "              precision    recall  f1-score   support\n",
      "\n",
      "           0       0.28      0.38      0.32       593\n",
      "           1       0.29      0.22      0.25       402\n",
      "           2       0.30      0.46      0.36       651\n",
      "           3       0.26      0.19      0.22       470\n",
      "           4       0.36      0.20      0.26       357\n",
      "           5       0.25      0.22      0.24       512\n",
      "           6       0.29      0.24      0.26       465\n",
      "\n",
      "    accuracy                           0.29      3450\n",
      "   macro avg       0.29      0.27      0.27      3450\n",
      "weighted avg       0.29      0.29      0.28      3450\n",
      "\n",
      "Confusion Matrix:\n",
      "[[223  56 128  39  20  75  52]\n",
      " [111  87 105  15  14  41  29]\n",
      " [147  35 297  62  14  58  38]\n",
      " [ 75  27 132  88  26  72  50]\n",
      " [ 36  25  91  41  72  38  54]\n",
      " [ 94  38 138  50  35 115  42]\n",
      " [ 97  27 112  38  20  61 110]]\n",
      "Precision: 0.2889\n",
      "Recall: 0.2875\n",
      "F1 Score: 0.2795\n"
     ]
    }
   ],
   "source": [
    "from sklearn.metrics import classification_report, confusion_matrix, accuracy_score, precision_score, recall_score, f1_score\n",
    "\n",
    "# Predict on the test set\n",
    "y_pred = best_model.predict(X_test)\n",
    "\n",
    "# Calculate Accuracy\n",
    "accuracy = accuracy_score(y_test, y_pred)\n",
    "print(f\"Accuracy: {accuracy:.4f}\")\n",
    "\n",
    "# Classification Report\n",
    "print(\"Classification Report:\")\n",
    "print(classification_report(y_test, y_pred))\n",
    "\n",
    "# Confusion Matrix\n",
    "conf_matrix = confusion_matrix(y_test, y_pred)\n",
    "print(\"Confusion Matrix:\")\n",
    "print(conf_matrix)\n",
    "\n",
    "# Precision, Recall, F1 Score for each class (Offense Type)\n",
    "precision = precision_score(y_test, y_pred, average='weighted')\n",
    "recall = recall_score(y_test, y_pred, average='weighted')\n",
    "f1 = f1_score(y_test, y_pred, average='weighted')\n",
    "\n",
    "print(f\"Precision: {precision:.4f}\")\n",
    "print(f\"Recall: {recall:.4f}\")\n",
    "print(f\"F1 Score: {f1:.4f}\")\n"
   ]
  },
  {
   "cell_type": "markdown",
   "id": "089d9fba",
   "metadata": {
    "papermill": {
     "duration": 0.010992,
     "end_time": "2025-04-12T00:59:53.355309",
     "exception": false,
     "start_time": "2025-04-12T00:59:53.344317",
     "status": "completed"
    },
    "tags": []
   },
   "source": [
    "#### For Logistic Regression (Coefficient Interpretation)\n",
    "\n",
    "For Logistic Regression, the model coefficients can help us understand how each feature affects the likelihood of an offense happening. A positive coefficient indicates a feature increases the likelihood of the offense, and a negative coefficient indicates the opposite."
   ]
  },
  {
   "cell_type": "code",
   "execution_count": 25,
   "id": "7ac3712d",
   "metadata": {
    "execution": {
     "iopub.execute_input": "2025-04-12T00:59:53.378184Z",
     "iopub.status.busy": "2025-04-12T00:59:53.377938Z",
     "iopub.status.idle": "2025-04-12T00:59:53.382757Z",
     "shell.execute_reply": "2025-04-12T00:59:53.382200Z"
    },
    "papermill": {
     "duration": 0.017487,
     "end_time": "2025-04-12T00:59:53.383729",
     "exception": false,
     "start_time": "2025-04-12T00:59:53.366242",
     "status": "completed"
    },
    "tags": []
   },
   "outputs": [],
   "source": [
    "if isinstance(best_model, LogisticRegression):\n",
    "    # Logistic regression coefficients\n",
    "    coef_df = pd.DataFrame({\n",
    "        'Feature': X.columns,\n",
    "        'Coefficient': best_model.coef_[0]\n",
    "    })\n",
    "    coef_df['AbsCoefficient'] = coef_df['Coefficient'].abs()\n",
    "    coef_df = coef_df.sort_values(by='AbsCoefficient', ascending=False)\n",
    "    \n",
    "    # Plotting the coefficients\n",
    "    plt.figure(figsize=(10, 6))\n",
    "    sns.barplot(x='AbsCoefficient', y='Feature', data=coef_df)\n",
    "    plt.title(\"Logistic Regression Coefficients Impact\")\n",
    "    plt.show()\n",
    "\n",
    "    # Print the top 5 most impactful features (by absolute coefficient value)\n",
    "    print(\"Top 5 most impactful features based on coefficients:\")\n",
    "    print(coef_df.head())\n"
   ]
  },
  {
   "cell_type": "markdown",
   "id": "e2287e22",
   "metadata": {
    "papermill": {
     "duration": 0.010804,
     "end_time": "2025-04-12T00:59:53.405491",
     "exception": false,
     "start_time": "2025-04-12T00:59:53.394687",
     "status": "completed"
    },
    "tags": []
   },
   "source": [
    "Explanation of Output:\n",
    "\n",
    "Feature Importance (Random Forest/Decision Tree): The bar plot will show how important each feature is in the decision-making process. Features at the top of the list are the most influential in predicting the occurrence of offenses.\n",
    "\n",
    "Logistic Regression Coefficients: The bar plot will show the magnitude of the coefficients for each feature. Features with larger absolute values (either positive or negative) have a stronger impact on the model’s predictions. Positive coefficients increase the probability of an offense, while negative coefficients decrease it."
   ]
  },
  {
   "cell_type": "markdown",
   "id": "69082db7",
   "metadata": {
    "papermill": {
     "duration": 0.010843,
     "end_time": "2025-04-12T00:59:53.427232",
     "exception": false,
     "start_time": "2025-04-12T00:59:53.416389",
     "status": "completed"
    },
    "tags": []
   },
   "source": []
  }
 ],
 "metadata": {
  "kernelspec": {
   "display_name": "Python 3",
   "language": "python",
   "name": "python3"
  },
  "language_info": {
   "codemirror_mode": {
    "name": "ipython",
    "version": 3
   },
   "file_extension": ".py",
   "mimetype": "text/x-python",
   "name": "python",
   "nbconvert_exporter": "python",
   "pygments_lexer": "ipython3",
   "version": "3.9.21"
  },
  "papermill": {
   "default_parameters": {},
   "duration": 78.186677,
   "end_time": "2025-04-12T00:59:53.853911",
   "environment_variables": {},
   "exception": null,
   "input_path": "notebook/Crime Data.ipynb",
   "output_path": "notebook/Crime Data_output.ipynb",
   "parameters": {},
   "start_time": "2025-04-12T00:58:35.667234",
   "version": "2.6.0"
  }
 },
 "nbformat": 4,
 "nbformat_minor": 5
}