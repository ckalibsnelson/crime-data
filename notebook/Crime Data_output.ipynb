{
 "cells": [
  {
   "cell_type": "markdown",
   "id": "769e43b5",
   "metadata": {
    "papermill": {
     "duration": 0.006153,
     "end_time": "2025-05-20T01:03:53.111602",
     "exception": false,
     "start_time": "2025-05-20T01:03:53.105449",
     "status": "completed"
    },
    "tags": []
   },
   "source": [
    "# Charlottesville Open Data Porttal: Crime Data"
   ]
  },
  {
   "cell_type": "markdown",
   "id": "f24680c8",
   "metadata": {
    "papermill": {
     "duration": 0.005002,
     "end_time": "2025-05-20T01:03:53.122011",
     "exception": false,
     "start_time": "2025-05-20T01:03:53.117009",
     "status": "completed"
    },
    "tags": []
   },
   "source": [
    "## Import Relevant Librarires & Set WD"
   ]
  },
  {
   "cell_type": "code",
   "execution_count": 1,
   "id": "92f0d301",
   "metadata": {
    "execution": {
     "iopub.execute_input": "2025-05-20T01:03:53.133552Z",
     "iopub.status.busy": "2025-05-20T01:03:53.133082Z",
     "iopub.status.idle": "2025-05-20T01:03:53.655191Z",
     "shell.execute_reply": "2025-05-20T01:03:53.654373Z"
    },
    "papermill": {
     "duration": 0.52949,
     "end_time": "2025-05-20T01:03:53.656692",
     "exception": false,
     "start_time": "2025-05-20T01:03:53.127202",
     "status": "completed"
    },
    "tags": []
   },
   "outputs": [],
   "source": [
    "import requests\n",
    "import pandas as pd\n",
    "import numpy as np\n",
    "import pickle\n",
    "import googlemaps\n",
    "import plotly.express as px\n",
    "from geopy.geocoders import Nominatim\n",
    "import time\n",
    "from dotenv import load_dotenv\n",
    "import os\n",
    "\n",
    "env_path = os.path.join(\"..\", \".env\")\n",
    "#print(\"Looking for .env file at:\", os.path.abspath(env_path))\n",
    "load_dotenv(dotenv_path=env_path)\n",
    "\n",
    "# Retrieve the variables\n",
    "GOOGLE_API_KEY = os.getenv(\"GOOGLE_API_KEY\")\n",
    "WORKING_DIR = os.getenv(\"WORKING_DIR\")\n",
    "\n",
    "if GOOGLE_API_KEY is None or WORKING_DIR is None:\n",
    "    raise RuntimeError(\"No configuration found. Please ensure that your .env file exists with the required variables, or create a local config.py file.\")\n",
    "\n",
    "#print(\"Google API Key:\", GOOGLE_API_KEY)\n",
    "#print(\"Working Directory:\", WORKING_DIR)"
   ]
  },
  {
   "cell_type": "markdown",
   "id": "3f48c8c5",
   "metadata": {
    "papermill": {
     "duration": 0.005507,
     "end_time": "2025-05-20T01:03:53.668268",
     "exception": false,
     "start_time": "2025-05-20T01:03:53.662761",
     "status": "completed"
    },
    "tags": []
   },
   "source": [
    "## Import Data\n",
    "\n",
    "URL: https://opendata.charlottesville.org/datasets/charlottesville::crime-data/about"
   ]
  },
  {
   "cell_type": "code",
   "execution_count": 2,
   "id": "73223a23",
   "metadata": {
    "execution": {
     "iopub.execute_input": "2025-05-20T01:03:53.686076Z",
     "iopub.status.busy": "2025-05-20T01:03:53.685398Z",
     "iopub.status.idle": "2025-05-20T01:04:51.447350Z",
     "shell.execute_reply": "2025-05-20T01:04:51.446564Z"
    },
    "papermill": {
     "duration": 57.80435,
     "end_time": "2025-05-20T01:04:51.478821",
     "exception": false,
     "start_time": "2025-05-20T01:03:53.674471",
     "status": "completed"
    },
    "tags": []
   },
   "outputs": [
    {
     "name": "stdout",
     "output_type": "stream",
     "text": [
      "Total records imported: 25388\n"
     ]
    }
   ],
   "source": [
    "# Define the endpoint and initial parameters.\n",
    "url = \"https://gisweb.charlottesville.org/arcgis/rest/services/OpenData_2/MapServer/6/query\"\n",
    "params = {\n",
    "    \"where\": \"1=1\",\n",
    "    \"outFields\": \"*\",\n",
    "    \"outSR\": 4326,\n",
    "    \"f\": \"json\",\n",
    "    \"resultOffset\": 0,       # Starting index for results\n",
    "    \"resultRecordCount\": 10000  # Maximum records per batch (if allowed by the API)\n",
    "}\n",
    "\n",
    "records = []\n",
    "\n",
    "while True:\n",
    "    response = requests.get(url, params=params)\n",
    "    response.raise_for_status()\n",
    "    data = response.json()\n",
    "    \n",
    "    # Get the current batch of features.\n",
    "    features = data.get(\"features\", [])\n",
    "    if not features:\n",
    "        break\n",
    "\n",
    "    # Extract the attributes from the features.\n",
    "    batch_records = [feature.get(\"attributes\", {}) for feature in features]\n",
    "    records.extend(batch_records)\n",
    "    \n",
    "    # If the batch size is less than the requested count, we reached the end.\n",
    "    if len(features) < params[\"resultRecordCount\"]:\n",
    "        break\n",
    "\n",
    "    # Update the resultOffset for the next batch.\n",
    "    params[\"resultOffset\"] += params[\"resultRecordCount\"]\n",
    "\n",
    "# Create a DataFrame from the combined records.\n",
    "df = pd.DataFrame(records)\n",
    "print(\"Total records imported:\", len(df))\n"
   ]
  },
  {
   "cell_type": "code",
   "execution_count": 3,
   "id": "a249736c",
   "metadata": {
    "execution": {
     "iopub.execute_input": "2025-05-20T01:04:51.490850Z",
     "iopub.status.busy": "2025-05-20T01:04:51.490383Z",
     "iopub.status.idle": "2025-05-20T01:04:51.503146Z",
     "shell.execute_reply": "2025-05-20T01:04:51.502581Z"
    },
    "papermill": {
     "duration": 0.020012,
     "end_time": "2025-05-20T01:04:51.504191",
     "exception": false,
     "start_time": "2025-05-20T01:04:51.484179",
     "status": "completed"
    },
    "tags": []
   },
   "outputs": [
    {
     "data": {
      "text/html": [
       "<div>\n",
       "<style scoped>\n",
       "    .dataframe tbody tr th:only-of-type {\n",
       "        vertical-align: middle;\n",
       "    }\n",
       "\n",
       "    .dataframe tbody tr th {\n",
       "        vertical-align: top;\n",
       "    }\n",
       "\n",
       "    .dataframe thead th {\n",
       "        text-align: right;\n",
       "    }\n",
       "</style>\n",
       "<table border=\"1\" class=\"dataframe\">\n",
       "  <thead>\n",
       "    <tr style=\"text-align: right;\">\n",
       "      <th></th>\n",
       "      <th>RecordID</th>\n",
       "      <th>Offense</th>\n",
       "      <th>IncidentID</th>\n",
       "      <th>BlockNumber</th>\n",
       "      <th>StreetName</th>\n",
       "      <th>Agency</th>\n",
       "      <th>DateReported</th>\n",
       "      <th>HourReported</th>\n",
       "      <th>ReportingOfficer</th>\n",
       "    </tr>\n",
       "  </thead>\n",
       "  <tbody>\n",
       "    <tr>\n",
       "      <th>0</th>\n",
       "      <td>1</td>\n",
       "      <td>Motor Vehicle Theft</td>\n",
       "      <td>202500016841</td>\n",
       "      <td>300</td>\n",
       "      <td>14TH ST NW</td>\n",
       "      <td>CPD</td>\n",
       "      <td>1747533566000</td>\n",
       "      <td>2159</td>\n",
       "      <td>Love-Baker, Sydney</td>\n",
       "    </tr>\n",
       "    <tr>\n",
       "      <th>1</th>\n",
       "      <td>2</td>\n",
       "      <td>Domestic Disturbance</td>\n",
       "      <td>202500016814</td>\n",
       "      <td>1400</td>\n",
       "      <td>FOREST RIDGE RD</td>\n",
       "      <td>CPD</td>\n",
       "      <td>1747523942000</td>\n",
       "      <td>1919</td>\n",
       "      <td>Rigsby, Lloyd</td>\n",
       "    </tr>\n",
       "    <tr>\n",
       "      <th>2</th>\n",
       "      <td>3</td>\n",
       "      <td>Larceny - Shoplifitng</td>\n",
       "      <td>202500016811</td>\n",
       "      <td>500</td>\n",
       "      <td>W MAIN ST</td>\n",
       "      <td>CPD</td>\n",
       "      <td>1747522701000</td>\n",
       "      <td>1858</td>\n",
       "      <td>Crowley, Raeann</td>\n",
       "    </tr>\n",
       "    <tr>\n",
       "      <th>3</th>\n",
       "      <td>4</td>\n",
       "      <td>Drunkeness DIP</td>\n",
       "      <td>202500016800</td>\n",
       "      <td>1100</td>\n",
       "      <td>5TH ST SW</td>\n",
       "      <td>CPD</td>\n",
       "      <td>1747517877000</td>\n",
       "      <td>1737</td>\n",
       "      <td>Rigsby, Lloyd</td>\n",
       "    </tr>\n",
       "    <tr>\n",
       "      <th>4</th>\n",
       "      <td>5</td>\n",
       "      <td>Assault Simple</td>\n",
       "      <td>202500016796</td>\n",
       "      <td>1400</td>\n",
       "      <td>UNIVERSITY AVE</td>\n",
       "      <td>CPD</td>\n",
       "      <td>1747514868000</td>\n",
       "      <td>1647</td>\n",
       "      <td>Ritter, Kobe</td>\n",
       "    </tr>\n",
       "  </tbody>\n",
       "</table>\n",
       "</div>"
      ],
      "text/plain": [
       "   RecordID                Offense    IncidentID BlockNumber       StreetName  \\\n",
       "0         1    Motor Vehicle Theft  202500016841         300       14TH ST NW   \n",
       "1         2   Domestic Disturbance  202500016814        1400  FOREST RIDGE RD   \n",
       "2         3  Larceny - Shoplifitng  202500016811         500        W MAIN ST   \n",
       "3         4         Drunkeness DIP  202500016800        1100        5TH ST SW   \n",
       "4         5         Assault Simple  202500016796        1400   UNIVERSITY AVE   \n",
       "\n",
       "  Agency   DateReported HourReported    ReportingOfficer  \n",
       "0    CPD  1747533566000         2159  Love-Baker, Sydney  \n",
       "1    CPD  1747523942000         1919       Rigsby, Lloyd  \n",
       "2    CPD  1747522701000         1858     Crowley, Raeann  \n",
       "3    CPD  1747517877000         1737       Rigsby, Lloyd  \n",
       "4    CPD  1747514868000         1647        Ritter, Kobe  "
      ]
     },
     "execution_count": 3,
     "metadata": {},
     "output_type": "execute_result"
    }
   ],
   "source": [
    "df.head()"
   ]
  },
  {
   "cell_type": "code",
   "execution_count": 4,
   "id": "9673542b",
   "metadata": {
    "execution": {
     "iopub.execute_input": "2025-05-20T01:04:51.515857Z",
     "iopub.status.busy": "2025-05-20T01:04:51.515470Z",
     "iopub.status.idle": "2025-05-20T01:04:51.519831Z",
     "shell.execute_reply": "2025-05-20T01:04:51.519304Z"
    },
    "papermill": {
     "duration": 0.011295,
     "end_time": "2025-05-20T01:04:51.520856",
     "exception": false,
     "start_time": "2025-05-20T01:04:51.509561",
     "status": "completed"
    },
    "tags": []
   },
   "outputs": [
    {
     "data": {
      "text/plain": [
       "Index(['RecordID', 'Offense', 'IncidentID', 'BlockNumber', 'StreetName',\n",
       "       'Agency', 'DateReported', 'HourReported', 'ReportingOfficer'],\n",
       "      dtype='object')"
      ]
     },
     "execution_count": 4,
     "metadata": {},
     "output_type": "execute_result"
    }
   ],
   "source": [
    "df.columns"
   ]
  },
  {
   "cell_type": "code",
   "execution_count": 5,
   "id": "338fa61f",
   "metadata": {
    "execution": {
     "iopub.execute_input": "2025-05-20T01:04:51.532858Z",
     "iopub.status.busy": "2025-05-20T01:04:51.532476Z",
     "iopub.status.idle": "2025-05-20T01:04:51.557129Z",
     "shell.execute_reply": "2025-05-20T01:04:51.556538Z"
    },
    "papermill": {
     "duration": 0.031747,
     "end_time": "2025-05-20T01:04:51.558199",
     "exception": false,
     "start_time": "2025-05-20T01:04:51.526452",
     "status": "completed"
    },
    "tags": []
   },
   "outputs": [
    {
     "name": "stdout",
     "output_type": "stream",
     "text": [
      "<class 'pandas.core.frame.DataFrame'>\n",
      "RangeIndex: 25388 entries, 0 to 25387\n",
      "Data columns (total 9 columns):\n",
      " #   Column            Non-Null Count  Dtype \n",
      "---  ------            --------------  ----- \n",
      " 0   RecordID          25388 non-null  int64 \n",
      " 1   Offense           25388 non-null  object\n",
      " 2   IncidentID        25388 non-null  object\n",
      " 3   BlockNumber       25388 non-null  object\n",
      " 4   StreetName        25388 non-null  object\n",
      " 5   Agency            25388 non-null  object\n",
      " 6   DateReported      25388 non-null  int64 \n",
      " 7   HourReported      25388 non-null  object\n",
      " 8   ReportingOfficer  25371 non-null  object\n",
      "dtypes: int64(2), object(7)\n",
      "memory usage: 1.7+ MB\n"
     ]
    }
   ],
   "source": [
    "df.info()"
   ]
  },
  {
   "cell_type": "markdown",
   "id": "4a3773e4",
   "metadata": {
    "papermill": {
     "duration": 0.005532,
     "end_time": "2025-05-20T01:04:51.569319",
     "exception": false,
     "start_time": "2025-05-20T01:04:51.563787",
     "status": "completed"
    },
    "tags": []
   },
   "source": [
    "### Missing Values"
   ]
  },
  {
   "cell_type": "code",
   "execution_count": 6,
   "id": "4a989aec",
   "metadata": {
    "execution": {
     "iopub.execute_input": "2025-05-20T01:04:51.581247Z",
     "iopub.status.busy": "2025-05-20T01:04:51.581056Z",
     "iopub.status.idle": "2025-05-20T01:04:51.602278Z",
     "shell.execute_reply": "2025-05-20T01:04:51.601712Z"
    },
    "papermill": {
     "duration": 0.028464,
     "end_time": "2025-05-20T01:04:51.603335",
     "exception": false,
     "start_time": "2025-05-20T01:04:51.574871",
     "status": "completed"
    },
    "tags": []
   },
   "outputs": [
    {
     "name": "stdout",
     "output_type": "stream",
     "text": [
      "                  MissingCount  MissingPercentage\n",
      "RecordID                     0               0.00\n",
      "Offense                      0               0.00\n",
      "IncidentID                   0               0.00\n",
      "BlockNumber                  0               0.00\n",
      "StreetName                   0               0.00\n",
      "Agency                       0               0.00\n",
      "DateReported                 0               0.00\n",
      "HourReported                 0               0.00\n",
      "ReportingOfficer            17               0.07\n"
     ]
    }
   ],
   "source": [
    "def missing_percentage(df):\n",
    "    \"\"\"\n",
    "    Returns a DataFrame with the count and percentage of missing values for each column.\n",
    "    \n",
    "    Parameters:\n",
    "        df (pd.DataFrame): The input DataFrame.\n",
    "    \n",
    "    Returns:\n",
    "        pd.DataFrame: A DataFrame with columns 'MissingCount' and 'MissingPercentage'.\n",
    "    \"\"\"\n",
    "    total_rows = len(df)\n",
    "    missing_count = df.isnull().sum()\n",
    "    missing_percent = (missing_count / total_rows) * 100\n",
    "    \n",
    "    result = pd.DataFrame({\n",
    "        'MissingCount': missing_count,\n",
    "        'MissingPercentage': missing_percent.round(2)\n",
    "    })\n",
    "    \n",
    "    return result\n",
    "\n",
    "# Example usage:\n",
    "missing_info = missing_percentage(df)\n",
    "print(missing_info)\n"
   ]
  },
  {
   "cell_type": "markdown",
   "id": "81b11e58",
   "metadata": {
    "papermill": {
     "duration": 0.005651,
     "end_time": "2025-05-20T01:04:51.614776",
     "exception": false,
     "start_time": "2025-05-20T01:04:51.609125",
     "status": "completed"
    },
    "tags": []
   },
   "source": [
    "## Data Preparation"
   ]
  },
  {
   "cell_type": "markdown",
   "id": "f853ee58",
   "metadata": {
    "papermill": {
     "duration": 0.00556,
     "end_time": "2025-05-20T01:04:51.625900",
     "exception": false,
     "start_time": "2025-05-20T01:04:51.620340",
     "status": "completed"
    },
    "tags": []
   },
   "source": [
    "### Data Conversion"
   ]
  },
  {
   "cell_type": "code",
   "execution_count": 7,
   "id": "a3f2b69c",
   "metadata": {
    "execution": {
     "iopub.execute_input": "2025-05-20T01:04:51.638114Z",
     "iopub.status.busy": "2025-05-20T01:04:51.637692Z",
     "iopub.status.idle": "2025-05-20T01:04:52.007962Z",
     "shell.execute_reply": "2025-05-20T01:04:52.007278Z"
    },
    "papermill": {
     "duration": 0.377567,
     "end_time": "2025-05-20T01:04:52.009037",
     "exception": false,
     "start_time": "2025-05-20T01:04:51.631470",
     "status": "completed"
    },
    "tags": []
   },
   "outputs": [
    {
     "data": {
      "text/html": [
       "<div>\n",
       "<style scoped>\n",
       "    .dataframe tbody tr th:only-of-type {\n",
       "        vertical-align: middle;\n",
       "    }\n",
       "\n",
       "    .dataframe tbody tr th {\n",
       "        vertical-align: top;\n",
       "    }\n",
       "\n",
       "    .dataframe thead th {\n",
       "        text-align: right;\n",
       "    }\n",
       "</style>\n",
       "<table border=\"1\" class=\"dataframe\">\n",
       "  <thead>\n",
       "    <tr style=\"text-align: right;\">\n",
       "      <th></th>\n",
       "      <th>RecordID</th>\n",
       "      <th>Offense</th>\n",
       "      <th>IncidentID</th>\n",
       "      <th>BlockNumber</th>\n",
       "      <th>StreetName</th>\n",
       "      <th>Agency</th>\n",
       "      <th>HourReported</th>\n",
       "      <th>ReportingOfficer</th>\n",
       "      <th>Date</th>\n",
       "      <th>DateString</th>\n",
       "      <th>DayOfWeek</th>\n",
       "      <th>Weekend</th>\n",
       "      <th>Season</th>\n",
       "      <th>HourAMPM</th>\n",
       "      <th>TimeOfDay</th>\n",
       "    </tr>\n",
       "  </thead>\n",
       "  <tbody>\n",
       "    <tr>\n",
       "      <th>0</th>\n",
       "      <td>1</td>\n",
       "      <td>Motor Vehicle Theft</td>\n",
       "      <td>202500016841</td>\n",
       "      <td>300</td>\n",
       "      <td>14TH ST NW</td>\n",
       "      <td>CPD</td>\n",
       "      <td>2159</td>\n",
       "      <td>Love-Baker, Sydney</td>\n",
       "      <td>2025-05-17 21:59:26</td>\n",
       "      <td>2025-05-17 09:59:26 PM</td>\n",
       "      <td>Saturday</td>\n",
       "      <td>True</td>\n",
       "      <td>Spring</td>\n",
       "      <td>09:59 PM</td>\n",
       "      <td>Night</td>\n",
       "    </tr>\n",
       "    <tr>\n",
       "      <th>1</th>\n",
       "      <td>2</td>\n",
       "      <td>Domestic Disturbance</td>\n",
       "      <td>202500016814</td>\n",
       "      <td>1400</td>\n",
       "      <td>FOREST RIDGE RD</td>\n",
       "      <td>CPD</td>\n",
       "      <td>1919</td>\n",
       "      <td>Rigsby, Lloyd</td>\n",
       "      <td>2025-05-17 19:19:02</td>\n",
       "      <td>2025-05-17 07:19:02 PM</td>\n",
       "      <td>Saturday</td>\n",
       "      <td>True</td>\n",
       "      <td>Spring</td>\n",
       "      <td>07:19 PM</td>\n",
       "      <td>Evening</td>\n",
       "    </tr>\n",
       "    <tr>\n",
       "      <th>2</th>\n",
       "      <td>3</td>\n",
       "      <td>Larceny - Shoplifitng</td>\n",
       "      <td>202500016811</td>\n",
       "      <td>500</td>\n",
       "      <td>W MAIN ST</td>\n",
       "      <td>CPD</td>\n",
       "      <td>1858</td>\n",
       "      <td>Crowley, Raeann</td>\n",
       "      <td>2025-05-17 18:58:21</td>\n",
       "      <td>2025-05-17 06:58:21 PM</td>\n",
       "      <td>Saturday</td>\n",
       "      <td>True</td>\n",
       "      <td>Spring</td>\n",
       "      <td>06:58 PM</td>\n",
       "      <td>Evening</td>\n",
       "    </tr>\n",
       "    <tr>\n",
       "      <th>3</th>\n",
       "      <td>4</td>\n",
       "      <td>Drunkeness DIP</td>\n",
       "      <td>202500016800</td>\n",
       "      <td>1100</td>\n",
       "      <td>5TH ST SW</td>\n",
       "      <td>CPD</td>\n",
       "      <td>1737</td>\n",
       "      <td>Rigsby, Lloyd</td>\n",
       "      <td>2025-05-17 17:37:57</td>\n",
       "      <td>2025-05-17 05:37:57 PM</td>\n",
       "      <td>Saturday</td>\n",
       "      <td>True</td>\n",
       "      <td>Spring</td>\n",
       "      <td>05:37 PM</td>\n",
       "      <td>Evening</td>\n",
       "    </tr>\n",
       "    <tr>\n",
       "      <th>4</th>\n",
       "      <td>5</td>\n",
       "      <td>Assault Simple</td>\n",
       "      <td>202500016796</td>\n",
       "      <td>1400</td>\n",
       "      <td>UNIVERSITY AVE</td>\n",
       "      <td>CPD</td>\n",
       "      <td>1647</td>\n",
       "      <td>Ritter, Kobe</td>\n",
       "      <td>2025-05-17 16:47:48</td>\n",
       "      <td>2025-05-17 04:47:48 PM</td>\n",
       "      <td>Saturday</td>\n",
       "      <td>True</td>\n",
       "      <td>Spring</td>\n",
       "      <td>04:47 PM</td>\n",
       "      <td>Afternoon</td>\n",
       "    </tr>\n",
       "  </tbody>\n",
       "</table>\n",
       "</div>"
      ],
      "text/plain": [
       "   RecordID                Offense    IncidentID BlockNumber       StreetName  \\\n",
       "0         1    Motor Vehicle Theft  202500016841         300       14TH ST NW   \n",
       "1         2   Domestic Disturbance  202500016814        1400  FOREST RIDGE RD   \n",
       "2         3  Larceny - Shoplifitng  202500016811         500        W MAIN ST   \n",
       "3         4         Drunkeness DIP  202500016800        1100        5TH ST SW   \n",
       "4         5         Assault Simple  202500016796        1400   UNIVERSITY AVE   \n",
       "\n",
       "  Agency HourReported    ReportingOfficer                Date  \\\n",
       "0    CPD         2159  Love-Baker, Sydney 2025-05-17 21:59:26   \n",
       "1    CPD         1919       Rigsby, Lloyd 2025-05-17 19:19:02   \n",
       "2    CPD         1858     Crowley, Raeann 2025-05-17 18:58:21   \n",
       "3    CPD         1737       Rigsby, Lloyd 2025-05-17 17:37:57   \n",
       "4    CPD         1647        Ritter, Kobe 2025-05-17 16:47:48   \n",
       "\n",
       "               DateString DayOfWeek  Weekend  Season  HourAMPM  TimeOfDay  \n",
       "0  2025-05-17 09:59:26 PM  Saturday     True  Spring  09:59 PM      Night  \n",
       "1  2025-05-17 07:19:02 PM  Saturday     True  Spring  07:19 PM    Evening  \n",
       "2  2025-05-17 06:58:21 PM  Saturday     True  Spring  06:58 PM    Evening  \n",
       "3  2025-05-17 05:37:57 PM  Saturday     True  Spring  05:37 PM    Evening  \n",
       "4  2025-05-17 04:47:48 PM  Saturday     True  Spring  04:47 PM  Afternoon  "
      ]
     },
     "execution_count": 7,
     "metadata": {},
     "output_type": "execute_result"
    }
   ],
   "source": [
    "def convert_and_categorize_datereported(df, col='DateReported'):\n",
    "    \"\"\"\n",
    "    Converts an epoch (in milliseconds) date column into a timezone-aware datetime,\n",
    "    converts it to Eastern Time, and then creates columns for day-of-week, weekend flag,\n",
    "    season, 12-hour formatted time, and time-of-day. Keeps both a real datetime column\n",
    "    (Date) and a string representation (DateString).\n",
    "    \"\"\"\n",
    "    import pandas as pd\n",
    "\n",
    "    # Convert the epoch timestamp to a pandas datetime object as UTC, then convert to US/Eastern.\n",
    "    df[\"DateReported_dt\"] = (\n",
    "        pd.to_datetime(df[col], unit=\"ms\", errors=\"coerce\", utc=True)\n",
    "        .dt.tz_convert(\"US/Eastern\")\n",
    "    )\n",
    "    \n",
    "    # Create a true datetime column (remove timezone if you prefer naive datetime)\n",
    "    df[\"Date\"] = df[\"DateReported_dt\"].dt.tz_localize(None)\n",
    "\n",
    "    # Optionally, create a separate string-formatted column\n",
    "    df[\"DateString\"] = df[\"DateReported_dt\"].dt.strftime(\"%Y-%m-%d %I:%M:%S %p\")\n",
    "    \n",
    "    # DayOfWeek\n",
    "    df[\"DayOfWeek\"] = df[\"DateReported_dt\"].dt.day_name()\n",
    "    \n",
    "    # Weekend\n",
    "    df[\"Weekend\"] = df[\"DayOfWeek\"].isin([\"Saturday\", \"Sunday\"])\n",
    "    \n",
    "    # Helper function to determine the season\n",
    "    def get_season(dt):\n",
    "        month = dt.month\n",
    "        day = dt.day\n",
    "        # Approximate Northern Hemisphere season boundaries:\n",
    "        if (month == 12 and day >= 21) or (month < 3) or (month == 3 and day < 20):\n",
    "            return \"Winter\"\n",
    "        elif (month == 3 and day >= 20) or (month < 6) or (month == 6 and day < 21):\n",
    "            return \"Spring\"\n",
    "        elif (month == 6 and day >= 21) or (month < 9) or (month == 9 and day < 22):\n",
    "            return \"Summer\"\n",
    "        else:\n",
    "            return \"Autumn\"\n",
    "    \n",
    "    df[\"Season\"] = df[\"DateReported_dt\"].apply(get_season)\n",
    "    \n",
    "    # 12-hour formatted time (HourAMPM)\n",
    "    df[\"HourAMPM\"] = df[\"DateReported_dt\"].dt.strftime(\"%I:%M %p\")\n",
    "    \n",
    "    # Extract hour (0-23) for time-of-day\n",
    "    df[\"HourValue\"] = df[\"DateReported_dt\"].dt.hour\n",
    "    \n",
    "    def time_of_day(hour):\n",
    "        if pd.isnull(hour):\n",
    "            return None\n",
    "        if 5 <= hour < 12:\n",
    "            return \"Morning\"\n",
    "        elif 12 <= hour < 17:\n",
    "            return \"Afternoon\"\n",
    "        elif 17 <= hour < 21:\n",
    "            return \"Evening\"\n",
    "        else:\n",
    "            return \"Night\"\n",
    "    \n",
    "    df[\"TimeOfDay\"] = df[\"HourValue\"].apply(time_of_day)\n",
    "    \n",
    "    # Drop columns you no longer need\n",
    "    df.drop(columns=[col, \"DateReported_dt\", \"HourValue\"], inplace=True)\n",
    "    \n",
    "    return df\n",
    "\n",
    "# Example usage:\n",
    "df = convert_and_categorize_datereported(df)\n",
    "df.head()\n"
   ]
  },
  {
   "cell_type": "code",
   "execution_count": 8,
   "id": "c1c560eb",
   "metadata": {
    "execution": {
     "iopub.execute_input": "2025-05-20T01:04:52.021978Z",
     "iopub.status.busy": "2025-05-20T01:04:52.021757Z",
     "iopub.status.idle": "2025-05-20T01:04:52.048194Z",
     "shell.execute_reply": "2025-05-20T01:04:52.047581Z"
    },
    "papermill": {
     "duration": 0.034126,
     "end_time": "2025-05-20T01:04:52.049332",
     "exception": false,
     "start_time": "2025-05-20T01:04:52.015206",
     "status": "completed"
    },
    "tags": []
   },
   "outputs": [
    {
     "name": "stdout",
     "output_type": "stream",
     "text": [
      "<class 'pandas.core.frame.DataFrame'>\n",
      "RangeIndex: 25388 entries, 0 to 25387\n",
      "Data columns (total 15 columns):\n",
      " #   Column            Non-Null Count  Dtype         \n",
      "---  ------            --------------  -----         \n",
      " 0   RecordID          25388 non-null  int64         \n",
      " 1   Offense           25388 non-null  object        \n",
      " 2   IncidentID        25388 non-null  object        \n",
      " 3   BlockNumber       25388 non-null  object        \n",
      " 4   StreetName        25388 non-null  object        \n",
      " 5   Agency            25388 non-null  object        \n",
      " 6   HourReported      25388 non-null  object        \n",
      " 7   ReportingOfficer  25371 non-null  object        \n",
      " 8   Date              25388 non-null  datetime64[ns]\n",
      " 9   DateString        25388 non-null  object        \n",
      " 10  DayOfWeek         25388 non-null  object        \n",
      " 11  Weekend           25388 non-null  bool          \n",
      " 12  Season            25388 non-null  object        \n",
      " 13  HourAMPM          25388 non-null  object        \n",
      " 14  TimeOfDay         25388 non-null  object        \n",
      "dtypes: bool(1), datetime64[ns](1), int64(1), object(12)\n",
      "memory usage: 2.7+ MB\n"
     ]
    }
   ],
   "source": [
    "df.info()"
   ]
  },
  {
   "cell_type": "markdown",
   "id": "a59b9bb6",
   "metadata": {
    "papermill": {
     "duration": 0.005886,
     "end_time": "2025-05-20T01:04:52.061269",
     "exception": false,
     "start_time": "2025-05-20T01:04:52.055383",
     "status": "completed"
    },
    "tags": []
   },
   "source": [
    "### Coordinates"
   ]
  },
  {
   "cell_type": "code",
   "execution_count": 9,
   "id": "9e507b51",
   "metadata": {
    "execution": {
     "iopub.execute_input": "2025-05-20T01:04:52.074292Z",
     "iopub.status.busy": "2025-05-20T01:04:52.073686Z",
     "iopub.status.idle": "2025-05-20T01:04:52.117594Z",
     "shell.execute_reply": "2025-05-20T01:04:52.116944Z"
    },
    "papermill": {
     "duration": 0.051518,
     "end_time": "2025-05-20T01:04:52.118607",
     "exception": false,
     "start_time": "2025-05-20T01:04:52.067089",
     "status": "completed"
    },
    "tags": []
   },
   "outputs": [
    {
     "name": "stdout",
     "output_type": "stream",
     "text": [
      "Loaded geocode cache.\n",
      "Geocode cache updated and saved.\n"
     ]
    },
    {
     "data": {
      "text/html": [
       "<div>\n",
       "<style scoped>\n",
       "    .dataframe tbody tr th:only-of-type {\n",
       "        vertical-align: middle;\n",
       "    }\n",
       "\n",
       "    .dataframe tbody tr th {\n",
       "        vertical-align: top;\n",
       "    }\n",
       "\n",
       "    .dataframe thead th {\n",
       "        text-align: right;\n",
       "    }\n",
       "</style>\n",
       "<table border=\"1\" class=\"dataframe\">\n",
       "  <thead>\n",
       "    <tr style=\"text-align: right;\">\n",
       "      <th></th>\n",
       "      <th>RecordID</th>\n",
       "      <th>Offense</th>\n",
       "      <th>IncidentID</th>\n",
       "      <th>BlockNumber</th>\n",
       "      <th>StreetName</th>\n",
       "      <th>Agency</th>\n",
       "      <th>HourReported</th>\n",
       "      <th>ReportingOfficer</th>\n",
       "      <th>Date</th>\n",
       "      <th>DateString</th>\n",
       "      <th>DayOfWeek</th>\n",
       "      <th>Weekend</th>\n",
       "      <th>Season</th>\n",
       "      <th>HourAMPM</th>\n",
       "      <th>TimeOfDay</th>\n",
       "      <th>FullStreet</th>\n",
       "      <th>lat</th>\n",
       "      <th>lon</th>\n",
       "    </tr>\n",
       "  </thead>\n",
       "  <tbody>\n",
       "    <tr>\n",
       "      <th>0</th>\n",
       "      <td>1</td>\n",
       "      <td>Motor Vehicle Theft</td>\n",
       "      <td>202500016841</td>\n",
       "      <td>300</td>\n",
       "      <td>14TH ST NW</td>\n",
       "      <td>CPD</td>\n",
       "      <td>2159</td>\n",
       "      <td>Love-Baker, Sydney</td>\n",
       "      <td>2025-05-17 21:59:26</td>\n",
       "      <td>2025-05-17 09:59:26 PM</td>\n",
       "      <td>Saturday</td>\n",
       "      <td>True</td>\n",
       "      <td>Spring</td>\n",
       "      <td>09:59 PM</td>\n",
       "      <td>Night</td>\n",
       "      <td>300 14TH ST NW</td>\n",
       "      <td>38.036079</td>\n",
       "      <td>-78.498507</td>\n",
       "    </tr>\n",
       "    <tr>\n",
       "      <th>1</th>\n",
       "      <td>2</td>\n",
       "      <td>Domestic Disturbance</td>\n",
       "      <td>202500016814</td>\n",
       "      <td>1400</td>\n",
       "      <td>FOREST RIDGE RD</td>\n",
       "      <td>CPD</td>\n",
       "      <td>1919</td>\n",
       "      <td>Rigsby, Lloyd</td>\n",
       "      <td>2025-05-17 19:19:02</td>\n",
       "      <td>2025-05-17 07:19:02 PM</td>\n",
       "      <td>Saturday</td>\n",
       "      <td>True</td>\n",
       "      <td>Spring</td>\n",
       "      <td>07:19 PM</td>\n",
       "      <td>Evening</td>\n",
       "      <td>1400 FOREST RIDGE RD</td>\n",
       "      <td>38.025348</td>\n",
       "      <td>-78.497769</td>\n",
       "    </tr>\n",
       "    <tr>\n",
       "      <th>2</th>\n",
       "      <td>3</td>\n",
       "      <td>Larceny - Shoplifitng</td>\n",
       "      <td>202500016811</td>\n",
       "      <td>500</td>\n",
       "      <td>W MAIN ST</td>\n",
       "      <td>CPD</td>\n",
       "      <td>1858</td>\n",
       "      <td>Crowley, Raeann</td>\n",
       "      <td>2025-05-17 18:58:21</td>\n",
       "      <td>2025-05-17 06:58:21 PM</td>\n",
       "      <td>Saturday</td>\n",
       "      <td>True</td>\n",
       "      <td>Spring</td>\n",
       "      <td>06:58 PM</td>\n",
       "      <td>Evening</td>\n",
       "      <td>500 W MAIN ST</td>\n",
       "      <td>38.030793</td>\n",
       "      <td>-78.487912</td>\n",
       "    </tr>\n",
       "    <tr>\n",
       "      <th>3</th>\n",
       "      <td>4</td>\n",
       "      <td>Drunkeness DIP</td>\n",
       "      <td>202500016800</td>\n",
       "      <td>1100</td>\n",
       "      <td>5TH ST SW</td>\n",
       "      <td>CPD</td>\n",
       "      <td>1737</td>\n",
       "      <td>Rigsby, Lloyd</td>\n",
       "      <td>2025-05-17 17:37:57</td>\n",
       "      <td>2025-05-17 05:37:57 PM</td>\n",
       "      <td>Saturday</td>\n",
       "      <td>True</td>\n",
       "      <td>Spring</td>\n",
       "      <td>05:37 PM</td>\n",
       "      <td>Evening</td>\n",
       "      <td>1100 5TH ST SW</td>\n",
       "      <td>38.017130</td>\n",
       "      <td>-78.497806</td>\n",
       "    </tr>\n",
       "    <tr>\n",
       "      <th>4</th>\n",
       "      <td>5</td>\n",
       "      <td>Assault Simple</td>\n",
       "      <td>202500016796</td>\n",
       "      <td>1400</td>\n",
       "      <td>UNIVERSITY AVE</td>\n",
       "      <td>CPD</td>\n",
       "      <td>1647</td>\n",
       "      <td>Ritter, Kobe</td>\n",
       "      <td>2025-05-17 16:47:48</td>\n",
       "      <td>2025-05-17 04:47:48 PM</td>\n",
       "      <td>Saturday</td>\n",
       "      <td>True</td>\n",
       "      <td>Spring</td>\n",
       "      <td>04:47 PM</td>\n",
       "      <td>Afternoon</td>\n",
       "      <td>1400 UNIVERSITY AVE</td>\n",
       "      <td>38.033936</td>\n",
       "      <td>-78.499972</td>\n",
       "    </tr>\n",
       "  </tbody>\n",
       "</table>\n",
       "</div>"
      ],
      "text/plain": [
       "   RecordID                Offense    IncidentID BlockNumber       StreetName  \\\n",
       "0         1    Motor Vehicle Theft  202500016841         300       14TH ST NW   \n",
       "1         2   Domestic Disturbance  202500016814        1400  FOREST RIDGE RD   \n",
       "2         3  Larceny - Shoplifitng  202500016811         500        W MAIN ST   \n",
       "3         4         Drunkeness DIP  202500016800        1100        5TH ST SW   \n",
       "4         5         Assault Simple  202500016796        1400   UNIVERSITY AVE   \n",
       "\n",
       "  Agency HourReported    ReportingOfficer                Date  \\\n",
       "0    CPD         2159  Love-Baker, Sydney 2025-05-17 21:59:26   \n",
       "1    CPD         1919       Rigsby, Lloyd 2025-05-17 19:19:02   \n",
       "2    CPD         1858     Crowley, Raeann 2025-05-17 18:58:21   \n",
       "3    CPD         1737       Rigsby, Lloyd 2025-05-17 17:37:57   \n",
       "4    CPD         1647        Ritter, Kobe 2025-05-17 16:47:48   \n",
       "\n",
       "               DateString DayOfWeek  Weekend  Season  HourAMPM  TimeOfDay  \\\n",
       "0  2025-05-17 09:59:26 PM  Saturday     True  Spring  09:59 PM      Night   \n",
       "1  2025-05-17 07:19:02 PM  Saturday     True  Spring  07:19 PM    Evening   \n",
       "2  2025-05-17 06:58:21 PM  Saturday     True  Spring  06:58 PM    Evening   \n",
       "3  2025-05-17 05:37:57 PM  Saturday     True  Spring  05:37 PM    Evening   \n",
       "4  2025-05-17 04:47:48 PM  Saturday     True  Spring  04:47 PM  Afternoon   \n",
       "\n",
       "             FullStreet        lat        lon  \n",
       "0        300 14TH ST NW  38.036079 -78.498507  \n",
       "1  1400 FOREST RIDGE RD  38.025348 -78.497769  \n",
       "2         500 W MAIN ST  38.030793 -78.487912  \n",
       "3        1100 5TH ST SW  38.017130 -78.497806  \n",
       "4   1400 UNIVERSITY AVE  38.033936 -78.499972  "
      ]
     },
     "execution_count": 9,
     "metadata": {},
     "output_type": "execute_result"
    }
   ],
   "source": [
    "# Combine BlockNumber and StreetName into a full address string\n",
    "df['FullStreet'] = df['BlockNumber'].astype(str) + \" \" + df['StreetName']\n",
    "\n",
    "# --- Step 1: Setup the Google Maps Client and Cache ---\n",
    "gmaps = googlemaps.Client(key=GOOGLE_API_KEY)\n",
    "\n",
    "# Try to load cached geocoding results if available.\n",
    "try:\n",
    "    with open(\"geocode_cache_google.pkl\", \"rb\") as f:\n",
    "        street_coords = pickle.load(f)\n",
    "    print(\"Loaded geocode cache.\")\n",
    "except FileNotFoundError:\n",
    "    street_coords = {}\n",
    "    print(\"No cache found; starting fresh.\")\n",
    "\n",
    "def geocode_address(address):\n",
    "    try:\n",
    "        # Append city and state to help geocoding\n",
    "        result = gmaps.geocode(f\"{address}, Charlottesville, VA\")\n",
    "        if result:\n",
    "            lat = result[0]['geometry']['location']['lat']\n",
    "            lon = result[0]['geometry']['location']['lng']\n",
    "            return lat, lon\n",
    "    except Exception as e:\n",
    "        print(f\"Error geocoding {address}: {e}\")\n",
    "    return None, None\n",
    "\n",
    "# --- Step 2: Geocode Only New Addresses ---\n",
    "unique_addresses = df['FullStreet'].unique()\n",
    "for address in unique_addresses:\n",
    "    if address not in street_coords:\n",
    "        lat, lon = geocode_address(address)\n",
    "        street_coords[address] = (lat, lon)\n",
    "        print(f\"Geocoded {address}: {lat}, {lon}\")\n",
    "\n",
    "# Save the updated cache to disk.\n",
    "with open(\"geocode_cache_google.pkl\", \"wb\") as f:\n",
    "    pickle.dump(street_coords, f)\n",
    "    print(\"Geocode cache updated and saved.\")\n",
    "\n",
    "# --- Step 3: Map Coordinates Back to DataFrame ---\n",
    "df['lat'] = df['FullStreet'].map(lambda s: street_coords.get(s, (None, None))[0])\n",
    "df['lon'] = df['FullStreet'].map(lambda s: street_coords.get(s, (None, None))[1])\n",
    "\n",
    "df.head()"
   ]
  },
  {
   "cell_type": "markdown",
   "id": "1e53357a",
   "metadata": {
    "papermill": {
     "duration": 0.00625,
     "end_time": "2025-05-20T01:04:52.131276",
     "exception": false,
     "start_time": "2025-05-20T01:04:52.125026",
     "status": "completed"
    },
    "tags": []
   },
   "source": [
    "### Neighborhood"
   ]
  },
  {
   "cell_type": "code",
   "execution_count": 10,
   "id": "17b6e05a",
   "metadata": {
    "execution": {
     "iopub.execute_input": "2025-05-20T01:04:52.144571Z",
     "iopub.status.busy": "2025-05-20T01:04:52.144153Z",
     "iopub.status.idle": "2025-05-20T01:04:52.405888Z",
     "shell.execute_reply": "2025-05-20T01:04:52.405224Z"
    },
    "papermill": {
     "duration": 0.26957,
     "end_time": "2025-05-20T01:04:52.406963",
     "exception": false,
     "start_time": "2025-05-20T01:04:52.137393",
     "status": "completed"
    },
    "tags": []
   },
   "outputs": [
    {
     "name": "stdout",
     "output_type": "stream",
     "text": [
      "Loaded neighborhood cache.\n"
     ]
    },
    {
     "data": {
      "text/html": [
       "<div>\n",
       "<style scoped>\n",
       "    .dataframe tbody tr th:only-of-type {\n",
       "        vertical-align: middle;\n",
       "    }\n",
       "\n",
       "    .dataframe tbody tr th {\n",
       "        vertical-align: top;\n",
       "    }\n",
       "\n",
       "    .dataframe thead th {\n",
       "        text-align: right;\n",
       "    }\n",
       "</style>\n",
       "<table border=\"1\" class=\"dataframe\">\n",
       "  <thead>\n",
       "    <tr style=\"text-align: right;\">\n",
       "      <th></th>\n",
       "      <th>RecordID</th>\n",
       "      <th>Offense</th>\n",
       "      <th>IncidentID</th>\n",
       "      <th>BlockNumber</th>\n",
       "      <th>StreetName</th>\n",
       "      <th>Agency</th>\n",
       "      <th>HourReported</th>\n",
       "      <th>ReportingOfficer</th>\n",
       "      <th>Date</th>\n",
       "      <th>DateString</th>\n",
       "      <th>DayOfWeek</th>\n",
       "      <th>Weekend</th>\n",
       "      <th>Season</th>\n",
       "      <th>HourAMPM</th>\n",
       "      <th>TimeOfDay</th>\n",
       "      <th>FullStreet</th>\n",
       "      <th>lat</th>\n",
       "      <th>lon</th>\n",
       "      <th>neighborhood</th>\n",
       "    </tr>\n",
       "  </thead>\n",
       "  <tbody>\n",
       "    <tr>\n",
       "      <th>0</th>\n",
       "      <td>1</td>\n",
       "      <td>Motor Vehicle Theft</td>\n",
       "      <td>202500016841</td>\n",
       "      <td>300</td>\n",
       "      <td>14TH ST NW</td>\n",
       "      <td>CPD</td>\n",
       "      <td>2159</td>\n",
       "      <td>Love-Baker, Sydney</td>\n",
       "      <td>2025-05-17 21:59:26</td>\n",
       "      <td>2025-05-17 09:59:26 PM</td>\n",
       "      <td>Saturday</td>\n",
       "      <td>True</td>\n",
       "      <td>Spring</td>\n",
       "      <td>09:59 PM</td>\n",
       "      <td>Night</td>\n",
       "      <td>300 14TH ST NW</td>\n",
       "      <td>38.036079</td>\n",
       "      <td>-78.498507</td>\n",
       "      <td>Venable</td>\n",
       "    </tr>\n",
       "    <tr>\n",
       "      <th>1</th>\n",
       "      <td>2</td>\n",
       "      <td>Domestic Disturbance</td>\n",
       "      <td>202500016814</td>\n",
       "      <td>1400</td>\n",
       "      <td>FOREST RIDGE RD</td>\n",
       "      <td>CPD</td>\n",
       "      <td>1919</td>\n",
       "      <td>Rigsby, Lloyd</td>\n",
       "      <td>2025-05-17 19:19:02</td>\n",
       "      <td>2025-05-17 07:19:02 PM</td>\n",
       "      <td>Saturday</td>\n",
       "      <td>True</td>\n",
       "      <td>Spring</td>\n",
       "      <td>07:19 PM</td>\n",
       "      <td>Evening</td>\n",
       "      <td>1400 FOREST RIDGE RD</td>\n",
       "      <td>38.025348</td>\n",
       "      <td>-78.497769</td>\n",
       "      <td>Fifeville</td>\n",
       "    </tr>\n",
       "    <tr>\n",
       "      <th>2</th>\n",
       "      <td>3</td>\n",
       "      <td>Larceny - Shoplifitng</td>\n",
       "      <td>202500016811</td>\n",
       "      <td>500</td>\n",
       "      <td>W MAIN ST</td>\n",
       "      <td>CPD</td>\n",
       "      <td>1858</td>\n",
       "      <td>Crowley, Raeann</td>\n",
       "      <td>2025-05-17 18:58:21</td>\n",
       "      <td>2025-05-17 06:58:21 PM</td>\n",
       "      <td>Saturday</td>\n",
       "      <td>True</td>\n",
       "      <td>Spring</td>\n",
       "      <td>06:58 PM</td>\n",
       "      <td>Evening</td>\n",
       "      <td>500 W MAIN ST</td>\n",
       "      <td>38.030793</td>\n",
       "      <td>-78.487912</td>\n",
       "      <td>Starr Hill</td>\n",
       "    </tr>\n",
       "    <tr>\n",
       "      <th>3</th>\n",
       "      <td>4</td>\n",
       "      <td>Drunkeness DIP</td>\n",
       "      <td>202500016800</td>\n",
       "      <td>1100</td>\n",
       "      <td>5TH ST SW</td>\n",
       "      <td>CPD</td>\n",
       "      <td>1737</td>\n",
       "      <td>Rigsby, Lloyd</td>\n",
       "      <td>2025-05-17 17:37:57</td>\n",
       "      <td>2025-05-17 05:37:57 PM</td>\n",
       "      <td>Saturday</td>\n",
       "      <td>True</td>\n",
       "      <td>Spring</td>\n",
       "      <td>05:37 PM</td>\n",
       "      <td>Evening</td>\n",
       "      <td>1100 5TH ST SW</td>\n",
       "      <td>38.017130</td>\n",
       "      <td>-78.497806</td>\n",
       "      <td>Johnson Village</td>\n",
       "    </tr>\n",
       "    <tr>\n",
       "      <th>4</th>\n",
       "      <td>5</td>\n",
       "      <td>Assault Simple</td>\n",
       "      <td>202500016796</td>\n",
       "      <td>1400</td>\n",
       "      <td>UNIVERSITY AVE</td>\n",
       "      <td>CPD</td>\n",
       "      <td>1647</td>\n",
       "      <td>Ritter, Kobe</td>\n",
       "      <td>2025-05-17 16:47:48</td>\n",
       "      <td>2025-05-17 04:47:48 PM</td>\n",
       "      <td>Saturday</td>\n",
       "      <td>True</td>\n",
       "      <td>Spring</td>\n",
       "      <td>04:47 PM</td>\n",
       "      <td>Afternoon</td>\n",
       "      <td>1400 UNIVERSITY AVE</td>\n",
       "      <td>38.033936</td>\n",
       "      <td>-78.499972</td>\n",
       "      <td>N/A</td>\n",
       "    </tr>\n",
       "  </tbody>\n",
       "</table>\n",
       "</div>"
      ],
      "text/plain": [
       "   RecordID                Offense    IncidentID BlockNumber       StreetName  \\\n",
       "0         1    Motor Vehicle Theft  202500016841         300       14TH ST NW   \n",
       "1         2   Domestic Disturbance  202500016814        1400  FOREST RIDGE RD   \n",
       "2         3  Larceny - Shoplifitng  202500016811         500        W MAIN ST   \n",
       "3         4         Drunkeness DIP  202500016800        1100        5TH ST SW   \n",
       "4         5         Assault Simple  202500016796        1400   UNIVERSITY AVE   \n",
       "\n",
       "  Agency HourReported    ReportingOfficer                Date  \\\n",
       "0    CPD         2159  Love-Baker, Sydney 2025-05-17 21:59:26   \n",
       "1    CPD         1919       Rigsby, Lloyd 2025-05-17 19:19:02   \n",
       "2    CPD         1858     Crowley, Raeann 2025-05-17 18:58:21   \n",
       "3    CPD         1737       Rigsby, Lloyd 2025-05-17 17:37:57   \n",
       "4    CPD         1647        Ritter, Kobe 2025-05-17 16:47:48   \n",
       "\n",
       "               DateString DayOfWeek  Weekend  Season  HourAMPM  TimeOfDay  \\\n",
       "0  2025-05-17 09:59:26 PM  Saturday     True  Spring  09:59 PM      Night   \n",
       "1  2025-05-17 07:19:02 PM  Saturday     True  Spring  07:19 PM    Evening   \n",
       "2  2025-05-17 06:58:21 PM  Saturday     True  Spring  06:58 PM    Evening   \n",
       "3  2025-05-17 05:37:57 PM  Saturday     True  Spring  05:37 PM    Evening   \n",
       "4  2025-05-17 04:47:48 PM  Saturday     True  Spring  04:47 PM  Afternoon   \n",
       "\n",
       "             FullStreet        lat        lon     neighborhood  \n",
       "0        300 14TH ST NW  38.036079 -78.498507          Venable  \n",
       "1  1400 FOREST RIDGE RD  38.025348 -78.497769        Fifeville  \n",
       "2         500 W MAIN ST  38.030793 -78.487912       Starr Hill  \n",
       "3        1100 5TH ST SW  38.017130 -78.497806  Johnson Village  \n",
       "4   1400 UNIVERSITY AVE  38.033936 -78.499972              N/A  "
      ]
     },
     "execution_count": 10,
     "metadata": {},
     "output_type": "execute_result"
    }
   ],
   "source": [
    "# Initialize the Google Maps client.\n",
    "gmaps = googlemaps.Client(key=GOOGLE_API_KEY)\n",
    "\n",
    "# Try to load a persistent neighborhood cache if available.\n",
    "try:\n",
    "    with open(\"neighborhood_cache.pkl\", \"rb\") as f:\n",
    "        neighborhood_cache = pickle.load(f)\n",
    "    print(\"Loaded neighborhood cache.\")\n",
    "except FileNotFoundError:\n",
    "    neighborhood_cache = {}\n",
    "    print(\"No neighborhood cache found; starting fresh.\")\n",
    "\n",
    "def get_neighborhood(lat, lon):\n",
    "    \"\"\"\n",
    "    Reverse geocodes a latitude and longitude to retrieve the neighborhood.\n",
    "    Caches results to speed up subsequent lookups.\n",
    "    \"\"\"\n",
    "    key = (lat, lon)\n",
    "    if key in neighborhood_cache:\n",
    "        return neighborhood_cache[key]\n",
    "    \n",
    "    try:\n",
    "        result = gmaps.reverse_geocode((lat, lon))\n",
    "        if result:\n",
    "            # Look for the 'neighborhood' component in the first result.\n",
    "            for component in result[0]['address_components']:\n",
    "                if 'neighborhood' in component['types']:\n",
    "                    neighborhood = component['long_name']\n",
    "                    neighborhood_cache[key] = neighborhood\n",
    "                    return neighborhood\n",
    "            # If no neighborhood is found, return \"N/A\"\n",
    "            neighborhood_cache[key] = \"N/A\"\n",
    "            return \"N/A\"\n",
    "    except Exception as e:\n",
    "        print(f\"Error getting neighborhood for {lat}, {lon}: {e}\")\n",
    "        return \"N/A\"\n",
    "    \n",
    "    # Pause to respect usage limits.\n",
    "    time.sleep(1)\n",
    "\n",
    "# Example usage: Apply to your DataFrame 'df' that already has 'lat' and 'lon' columns.\n",
    "df['neighborhood'] = df.apply(lambda row: get_neighborhood(row['lat'], row['lon']), axis=1)\n",
    "\n",
    "# Save the updated neighborhood cache.\n",
    "with open(\"neighborhood_cache.pkl\", \"wb\") as f:\n",
    "    pickle.dump(neighborhood_cache, f)\n",
    "\n",
    "df.head()\n"
   ]
  },
  {
   "cell_type": "markdown",
   "id": "792e7990",
   "metadata": {
    "papermill": {
     "duration": 0.006499,
     "end_time": "2025-05-20T01:04:52.420287",
     "exception": false,
     "start_time": "2025-05-20T01:04:52.413788",
     "status": "completed"
    },
    "tags": []
   },
   "source": [
    "### Zip"
   ]
  },
  {
   "cell_type": "code",
   "execution_count": 11,
   "id": "2df0e0c7",
   "metadata": {
    "execution": {
     "iopub.execute_input": "2025-05-20T01:04:52.434215Z",
     "iopub.status.busy": "2025-05-20T01:04:52.433789Z",
     "iopub.status.idle": "2025-05-20T01:04:52.678489Z",
     "shell.execute_reply": "2025-05-20T01:04:52.677877Z"
    },
    "papermill": {
     "duration": 0.252912,
     "end_time": "2025-05-20T01:04:52.679604",
     "exception": false,
     "start_time": "2025-05-20T01:04:52.426692",
     "status": "completed"
    },
    "tags": []
   },
   "outputs": [
    {
     "name": "stdout",
     "output_type": "stream",
     "text": [
      "Loaded zip cache.\n"
     ]
    },
    {
     "data": {
      "text/html": [
       "<div>\n",
       "<style scoped>\n",
       "    .dataframe tbody tr th:only-of-type {\n",
       "        vertical-align: middle;\n",
       "    }\n",
       "\n",
       "    .dataframe tbody tr th {\n",
       "        vertical-align: top;\n",
       "    }\n",
       "\n",
       "    .dataframe thead th {\n",
       "        text-align: right;\n",
       "    }\n",
       "</style>\n",
       "<table border=\"1\" class=\"dataframe\">\n",
       "  <thead>\n",
       "    <tr style=\"text-align: right;\">\n",
       "      <th></th>\n",
       "      <th>RecordID</th>\n",
       "      <th>Offense</th>\n",
       "      <th>IncidentID</th>\n",
       "      <th>BlockNumber</th>\n",
       "      <th>StreetName</th>\n",
       "      <th>Agency</th>\n",
       "      <th>HourReported</th>\n",
       "      <th>ReportingOfficer</th>\n",
       "      <th>Date</th>\n",
       "      <th>DateString</th>\n",
       "      <th>DayOfWeek</th>\n",
       "      <th>Weekend</th>\n",
       "      <th>Season</th>\n",
       "      <th>HourAMPM</th>\n",
       "      <th>TimeOfDay</th>\n",
       "      <th>FullStreet</th>\n",
       "      <th>lat</th>\n",
       "      <th>lon</th>\n",
       "      <th>neighborhood</th>\n",
       "      <th>zip</th>\n",
       "    </tr>\n",
       "  </thead>\n",
       "  <tbody>\n",
       "    <tr>\n",
       "      <th>0</th>\n",
       "      <td>1</td>\n",
       "      <td>Motor Vehicle Theft</td>\n",
       "      <td>202500016841</td>\n",
       "      <td>300</td>\n",
       "      <td>14TH ST NW</td>\n",
       "      <td>CPD</td>\n",
       "      <td>2159</td>\n",
       "      <td>Love-Baker, Sydney</td>\n",
       "      <td>2025-05-17 21:59:26</td>\n",
       "      <td>2025-05-17 09:59:26 PM</td>\n",
       "      <td>Saturday</td>\n",
       "      <td>True</td>\n",
       "      <td>Spring</td>\n",
       "      <td>09:59 PM</td>\n",
       "      <td>Night</td>\n",
       "      <td>300 14TH ST NW</td>\n",
       "      <td>38.036079</td>\n",
       "      <td>-78.498507</td>\n",
       "      <td>Venable</td>\n",
       "      <td>22903</td>\n",
       "    </tr>\n",
       "    <tr>\n",
       "      <th>1</th>\n",
       "      <td>2</td>\n",
       "      <td>Domestic Disturbance</td>\n",
       "      <td>202500016814</td>\n",
       "      <td>1400</td>\n",
       "      <td>FOREST RIDGE RD</td>\n",
       "      <td>CPD</td>\n",
       "      <td>1919</td>\n",
       "      <td>Rigsby, Lloyd</td>\n",
       "      <td>2025-05-17 19:19:02</td>\n",
       "      <td>2025-05-17 07:19:02 PM</td>\n",
       "      <td>Saturday</td>\n",
       "      <td>True</td>\n",
       "      <td>Spring</td>\n",
       "      <td>07:19 PM</td>\n",
       "      <td>Evening</td>\n",
       "      <td>1400 FOREST RIDGE RD</td>\n",
       "      <td>38.025348</td>\n",
       "      <td>-78.497769</td>\n",
       "      <td>Fifeville</td>\n",
       "      <td>22903</td>\n",
       "    </tr>\n",
       "    <tr>\n",
       "      <th>2</th>\n",
       "      <td>3</td>\n",
       "      <td>Larceny - Shoplifitng</td>\n",
       "      <td>202500016811</td>\n",
       "      <td>500</td>\n",
       "      <td>W MAIN ST</td>\n",
       "      <td>CPD</td>\n",
       "      <td>1858</td>\n",
       "      <td>Crowley, Raeann</td>\n",
       "      <td>2025-05-17 18:58:21</td>\n",
       "      <td>2025-05-17 06:58:21 PM</td>\n",
       "      <td>Saturday</td>\n",
       "      <td>True</td>\n",
       "      <td>Spring</td>\n",
       "      <td>06:58 PM</td>\n",
       "      <td>Evening</td>\n",
       "      <td>500 W MAIN ST</td>\n",
       "      <td>38.030793</td>\n",
       "      <td>-78.487912</td>\n",
       "      <td>Starr Hill</td>\n",
       "      <td>22903</td>\n",
       "    </tr>\n",
       "    <tr>\n",
       "      <th>3</th>\n",
       "      <td>4</td>\n",
       "      <td>Drunkeness DIP</td>\n",
       "      <td>202500016800</td>\n",
       "      <td>1100</td>\n",
       "      <td>5TH ST SW</td>\n",
       "      <td>CPD</td>\n",
       "      <td>1737</td>\n",
       "      <td>Rigsby, Lloyd</td>\n",
       "      <td>2025-05-17 17:37:57</td>\n",
       "      <td>2025-05-17 05:37:57 PM</td>\n",
       "      <td>Saturday</td>\n",
       "      <td>True</td>\n",
       "      <td>Spring</td>\n",
       "      <td>05:37 PM</td>\n",
       "      <td>Evening</td>\n",
       "      <td>1100 5TH ST SW</td>\n",
       "      <td>38.017130</td>\n",
       "      <td>-78.497806</td>\n",
       "      <td>Johnson Village</td>\n",
       "      <td>22903</td>\n",
       "    </tr>\n",
       "    <tr>\n",
       "      <th>4</th>\n",
       "      <td>5</td>\n",
       "      <td>Assault Simple</td>\n",
       "      <td>202500016796</td>\n",
       "      <td>1400</td>\n",
       "      <td>UNIVERSITY AVE</td>\n",
       "      <td>CPD</td>\n",
       "      <td>1647</td>\n",
       "      <td>Ritter, Kobe</td>\n",
       "      <td>2025-05-17 16:47:48</td>\n",
       "      <td>2025-05-17 04:47:48 PM</td>\n",
       "      <td>Saturday</td>\n",
       "      <td>True</td>\n",
       "      <td>Spring</td>\n",
       "      <td>04:47 PM</td>\n",
       "      <td>Afternoon</td>\n",
       "      <td>1400 UNIVERSITY AVE</td>\n",
       "      <td>38.033936</td>\n",
       "      <td>-78.499972</td>\n",
       "      <td>N/A</td>\n",
       "      <td>22903</td>\n",
       "    </tr>\n",
       "  </tbody>\n",
       "</table>\n",
       "</div>"
      ],
      "text/plain": [
       "   RecordID                Offense    IncidentID BlockNumber       StreetName  \\\n",
       "0         1    Motor Vehicle Theft  202500016841         300       14TH ST NW   \n",
       "1         2   Domestic Disturbance  202500016814        1400  FOREST RIDGE RD   \n",
       "2         3  Larceny - Shoplifitng  202500016811         500        W MAIN ST   \n",
       "3         4         Drunkeness DIP  202500016800        1100        5TH ST SW   \n",
       "4         5         Assault Simple  202500016796        1400   UNIVERSITY AVE   \n",
       "\n",
       "  Agency HourReported    ReportingOfficer                Date  \\\n",
       "0    CPD         2159  Love-Baker, Sydney 2025-05-17 21:59:26   \n",
       "1    CPD         1919       Rigsby, Lloyd 2025-05-17 19:19:02   \n",
       "2    CPD         1858     Crowley, Raeann 2025-05-17 18:58:21   \n",
       "3    CPD         1737       Rigsby, Lloyd 2025-05-17 17:37:57   \n",
       "4    CPD         1647        Ritter, Kobe 2025-05-17 16:47:48   \n",
       "\n",
       "               DateString DayOfWeek  Weekend  Season  HourAMPM  TimeOfDay  \\\n",
       "0  2025-05-17 09:59:26 PM  Saturday     True  Spring  09:59 PM      Night   \n",
       "1  2025-05-17 07:19:02 PM  Saturday     True  Spring  07:19 PM    Evening   \n",
       "2  2025-05-17 06:58:21 PM  Saturday     True  Spring  06:58 PM    Evening   \n",
       "3  2025-05-17 05:37:57 PM  Saturday     True  Spring  05:37 PM    Evening   \n",
       "4  2025-05-17 04:47:48 PM  Saturday     True  Spring  04:47 PM  Afternoon   \n",
       "\n",
       "             FullStreet        lat        lon     neighborhood    zip  \n",
       "0        300 14TH ST NW  38.036079 -78.498507          Venable  22903  \n",
       "1  1400 FOREST RIDGE RD  38.025348 -78.497769        Fifeville  22903  \n",
       "2         500 W MAIN ST  38.030793 -78.487912       Starr Hill  22903  \n",
       "3        1100 5TH ST SW  38.017130 -78.497806  Johnson Village  22903  \n",
       "4   1400 UNIVERSITY AVE  38.033936 -78.499972              N/A  22903  "
      ]
     },
     "execution_count": 11,
     "metadata": {},
     "output_type": "execute_result"
    }
   ],
   "source": [
    "# Initialize the geocoder.\n",
    "geolocator = Nominatim(user_agent=\"zip_lookup\")\n",
    "\n",
    "# Try to load a persistent ZIP cache if available.\n",
    "try:\n",
    "    with open(\"zip_cache.pkl\", \"rb\") as f:\n",
    "        zip_cache = pickle.load(f)\n",
    "    print(\"Loaded zip cache.\")\n",
    "except FileNotFoundError:\n",
    "    zip_cache = {}\n",
    "    print(\"No zip cache found; starting fresh.\")\n",
    "\n",
    "def get_zip(lat, lon):\n",
    "    \"\"\"\n",
    "    Reverse geocodes a latitude and longitude to retrieve the ZIP code.\n",
    "    Caches results to speed up subsequent lookups.\n",
    "    \"\"\"\n",
    "    key = (lat, lon)\n",
    "    if key in zip_cache:\n",
    "        return zip_cache[key]\n",
    "    \n",
    "    try:\n",
    "        location = geolocator.reverse((lat, lon), exactly_one=True, timeout=10)\n",
    "        address = location.raw.get('address', {})\n",
    "        postal_code = address.get('postcode', \"N/A\")\n",
    "    except Exception as e:\n",
    "        print(f\"Error getting ZIP for {lat}, {lon}: {e}\")\n",
    "        postal_code = \"N/A\"\n",
    "    \n",
    "    zip_cache[key] = postal_code\n",
    "    # Pause to respect the usage policy.\n",
    "    time.sleep(1)\n",
    "    return postal_code\n",
    "\n",
    "# Apply the function to each row in the DataFrame.\n",
    "df['zip'] = df.apply(lambda row: get_zip(row['lat'], row['lon']), axis=1)\n",
    "\n",
    "# Save the updated ZIP cache.\n",
    "with open(\"zip_cache.pkl\", \"wb\") as f:\n",
    "    pickle.dump(zip_cache, f)\n",
    "\n",
    "df.head()\n"
   ]
  },
  {
   "cell_type": "code",
   "execution_count": 12,
   "id": "5e6e48f5",
   "metadata": {
    "execution": {
     "iopub.execute_input": "2025-05-20T01:04:52.694608Z",
     "iopub.status.busy": "2025-05-20T01:04:52.694372Z",
     "iopub.status.idle": "2025-05-20T01:04:52.725904Z",
     "shell.execute_reply": "2025-05-20T01:04:52.725352Z"
    },
    "papermill": {
     "duration": 0.040067,
     "end_time": "2025-05-20T01:04:52.726908",
     "exception": false,
     "start_time": "2025-05-20T01:04:52.686841",
     "status": "completed"
    },
    "tags": []
   },
   "outputs": [
    {
     "name": "stdout",
     "output_type": "stream",
     "text": [
      "                  MissingCount  MissingPercentage\n",
      "RecordID                     0               0.00\n",
      "Offense                      0               0.00\n",
      "IncidentID                   0               0.00\n",
      "BlockNumber                  0               0.00\n",
      "StreetName                   0               0.00\n",
      "Agency                       0               0.00\n",
      "HourReported                 0               0.00\n",
      "ReportingOfficer            17               0.07\n",
      "Date                         0               0.00\n",
      "DateString                   0               0.00\n",
      "DayOfWeek                    0               0.00\n",
      "Weekend                      0               0.00\n",
      "Season                       0               0.00\n",
      "HourAMPM                     0               0.00\n",
      "TimeOfDay                    0               0.00\n",
      "FullStreet                   0               0.00\n",
      "lat                          0               0.00\n",
      "lon                          0               0.00\n",
      "neighborhood                 0               0.00\n",
      "zip                          0               0.00\n"
     ]
    }
   ],
   "source": [
    "missing_info = missing_percentage(df)\n",
    "print(missing_info)\n"
   ]
  },
  {
   "cell_type": "code",
   "execution_count": 13,
   "id": "901a8699",
   "metadata": {
    "execution": {
     "iopub.execute_input": "2025-05-20T01:04:52.741695Z",
     "iopub.status.busy": "2025-05-20T01:04:52.741490Z",
     "iopub.status.idle": "2025-05-20T01:04:52.769993Z",
     "shell.execute_reply": "2025-05-20T01:04:52.769406Z"
    },
    "papermill": {
     "duration": 0.037056,
     "end_time": "2025-05-20T01:04:52.771027",
     "exception": false,
     "start_time": "2025-05-20T01:04:52.733971",
     "status": "completed"
    },
    "tags": []
   },
   "outputs": [
    {
     "name": "stdout",
     "output_type": "stream",
     "text": [
      "<class 'pandas.core.frame.DataFrame'>\n",
      "RangeIndex: 25388 entries, 0 to 25387\n",
      "Data columns (total 20 columns):\n",
      " #   Column            Non-Null Count  Dtype         \n",
      "---  ------            --------------  -----         \n",
      " 0   RecordID          25388 non-null  int64         \n",
      " 1   Offense           25388 non-null  object        \n",
      " 2   IncidentID        25388 non-null  object        \n",
      " 3   BlockNumber       25388 non-null  object        \n",
      " 4   StreetName        25388 non-null  object        \n",
      " 5   Agency            25388 non-null  object        \n",
      " 6   HourReported      25388 non-null  object        \n",
      " 7   ReportingOfficer  25371 non-null  object        \n",
      " 8   Date              25388 non-null  datetime64[ns]\n",
      " 9   DateString        25388 non-null  object        \n",
      " 10  DayOfWeek         25388 non-null  object        \n",
      " 11  Weekend           25388 non-null  bool          \n",
      " 12  Season            25388 non-null  object        \n",
      " 13  HourAMPM          25388 non-null  object        \n",
      " 14  TimeOfDay         25388 non-null  object        \n",
      " 15  FullStreet        25388 non-null  object        \n",
      " 16  lat               25388 non-null  float64       \n",
      " 17  lon               25388 non-null  float64       \n",
      " 18  neighborhood      25388 non-null  object        \n",
      " 19  zip               25388 non-null  object        \n",
      "dtypes: bool(1), datetime64[ns](1), float64(2), int64(1), object(15)\n",
      "memory usage: 3.7+ MB\n"
     ]
    }
   ],
   "source": [
    "df.info()"
   ]
  },
  {
   "cell_type": "code",
   "execution_count": 14,
   "id": "3585f6e8",
   "metadata": {
    "execution": {
     "iopub.execute_input": "2025-05-20T01:04:52.786406Z",
     "iopub.status.busy": "2025-05-20T01:04:52.785985Z",
     "iopub.status.idle": "2025-05-20T01:04:52.826973Z",
     "shell.execute_reply": "2025-05-20T01:04:52.826264Z"
    },
    "papermill": {
     "duration": 0.049921,
     "end_time": "2025-05-20T01:04:52.828091",
     "exception": false,
     "start_time": "2025-05-20T01:04:52.778170",
     "status": "completed"
    },
    "tags": []
   },
   "outputs": [
    {
     "data": {
      "text/html": [
       "<div>\n",
       "<style scoped>\n",
       "    .dataframe tbody tr th:only-of-type {\n",
       "        vertical-align: middle;\n",
       "    }\n",
       "\n",
       "    .dataframe tbody tr th {\n",
       "        vertical-align: top;\n",
       "    }\n",
       "\n",
       "    .dataframe thead th {\n",
       "        text-align: right;\n",
       "    }\n",
       "</style>\n",
       "<table border=\"1\" class=\"dataframe\">\n",
       "  <thead>\n",
       "    <tr style=\"text-align: right;\">\n",
       "      <th></th>\n",
       "      <th>RecordID</th>\n",
       "      <th>Offense</th>\n",
       "      <th>IncidentID</th>\n",
       "      <th>Agency</th>\n",
       "      <th>ReportingOfficer</th>\n",
       "      <th>Date</th>\n",
       "      <th>DayOfWeek</th>\n",
       "      <th>Weekend</th>\n",
       "      <th>Season</th>\n",
       "      <th>TimeOfDay</th>\n",
       "      <th>FullStreet</th>\n",
       "      <th>lat</th>\n",
       "      <th>lon</th>\n",
       "      <th>neighborhood</th>\n",
       "      <th>zip</th>\n",
       "    </tr>\n",
       "  </thead>\n",
       "  <tbody>\n",
       "    <tr>\n",
       "      <th>0</th>\n",
       "      <td>1</td>\n",
       "      <td>Motor Vehicle Theft</td>\n",
       "      <td>202500016841</td>\n",
       "      <td>CPD</td>\n",
       "      <td>Love-Baker, Sydney</td>\n",
       "      <td>2025-05-17 21:59:26</td>\n",
       "      <td>Saturday</td>\n",
       "      <td>True</td>\n",
       "      <td>Spring</td>\n",
       "      <td>Night</td>\n",
       "      <td>300 14TH ST NW</td>\n",
       "      <td>38.036079</td>\n",
       "      <td>-78.498507</td>\n",
       "      <td>Venable</td>\n",
       "      <td>22903</td>\n",
       "    </tr>\n",
       "    <tr>\n",
       "      <th>1</th>\n",
       "      <td>2</td>\n",
       "      <td>Domestic Disturbance</td>\n",
       "      <td>202500016814</td>\n",
       "      <td>CPD</td>\n",
       "      <td>Rigsby, Lloyd</td>\n",
       "      <td>2025-05-17 19:19:02</td>\n",
       "      <td>Saturday</td>\n",
       "      <td>True</td>\n",
       "      <td>Spring</td>\n",
       "      <td>Evening</td>\n",
       "      <td>1400 FOREST RIDGE RD</td>\n",
       "      <td>38.025348</td>\n",
       "      <td>-78.497769</td>\n",
       "      <td>Fifeville</td>\n",
       "      <td>22903</td>\n",
       "    </tr>\n",
       "    <tr>\n",
       "      <th>2</th>\n",
       "      <td>3</td>\n",
       "      <td>Larceny - Shoplifitng</td>\n",
       "      <td>202500016811</td>\n",
       "      <td>CPD</td>\n",
       "      <td>Crowley, Raeann</td>\n",
       "      <td>2025-05-17 18:58:21</td>\n",
       "      <td>Saturday</td>\n",
       "      <td>True</td>\n",
       "      <td>Spring</td>\n",
       "      <td>Evening</td>\n",
       "      <td>500 W MAIN ST</td>\n",
       "      <td>38.030793</td>\n",
       "      <td>-78.487912</td>\n",
       "      <td>Starr Hill</td>\n",
       "      <td>22903</td>\n",
       "    </tr>\n",
       "    <tr>\n",
       "      <th>3</th>\n",
       "      <td>4</td>\n",
       "      <td>Drunkeness DIP</td>\n",
       "      <td>202500016800</td>\n",
       "      <td>CPD</td>\n",
       "      <td>Rigsby, Lloyd</td>\n",
       "      <td>2025-05-17 17:37:57</td>\n",
       "      <td>Saturday</td>\n",
       "      <td>True</td>\n",
       "      <td>Spring</td>\n",
       "      <td>Evening</td>\n",
       "      <td>1100 5TH ST SW</td>\n",
       "      <td>38.017130</td>\n",
       "      <td>-78.497806</td>\n",
       "      <td>Johnson Village</td>\n",
       "      <td>22903</td>\n",
       "    </tr>\n",
       "    <tr>\n",
       "      <th>4</th>\n",
       "      <td>5</td>\n",
       "      <td>Assault Simple</td>\n",
       "      <td>202500016796</td>\n",
       "      <td>CPD</td>\n",
       "      <td>Ritter, Kobe</td>\n",
       "      <td>2025-05-17 16:47:48</td>\n",
       "      <td>Saturday</td>\n",
       "      <td>True</td>\n",
       "      <td>Spring</td>\n",
       "      <td>Afternoon</td>\n",
       "      <td>1400 UNIVERSITY AVE</td>\n",
       "      <td>38.033936</td>\n",
       "      <td>-78.499972</td>\n",
       "      <td>N/A</td>\n",
       "      <td>22903</td>\n",
       "    </tr>\n",
       "  </tbody>\n",
       "</table>\n",
       "</div>"
      ],
      "text/plain": [
       "   RecordID                Offense    IncidentID Agency    ReportingOfficer  \\\n",
       "0         1    Motor Vehicle Theft  202500016841    CPD  Love-Baker, Sydney   \n",
       "1         2   Domestic Disturbance  202500016814    CPD       Rigsby, Lloyd   \n",
       "2         3  Larceny - Shoplifitng  202500016811    CPD     Crowley, Raeann   \n",
       "3         4         Drunkeness DIP  202500016800    CPD       Rigsby, Lloyd   \n",
       "4         5         Assault Simple  202500016796    CPD        Ritter, Kobe   \n",
       "\n",
       "                 Date DayOfWeek  Weekend  Season  TimeOfDay  \\\n",
       "0 2025-05-17 21:59:26  Saturday     True  Spring      Night   \n",
       "1 2025-05-17 19:19:02  Saturday     True  Spring    Evening   \n",
       "2 2025-05-17 18:58:21  Saturday     True  Spring    Evening   \n",
       "3 2025-05-17 17:37:57  Saturday     True  Spring    Evening   \n",
       "4 2025-05-17 16:47:48  Saturday     True  Spring  Afternoon   \n",
       "\n",
       "             FullStreet        lat        lon     neighborhood    zip  \n",
       "0        300 14TH ST NW  38.036079 -78.498507          Venable  22903  \n",
       "1  1400 FOREST RIDGE RD  38.025348 -78.497769        Fifeville  22903  \n",
       "2         500 W MAIN ST  38.030793 -78.487912       Starr Hill  22903  \n",
       "3        1100 5TH ST SW  38.017130 -78.497806  Johnson Village  22903  \n",
       "4   1400 UNIVERSITY AVE  38.033936 -78.499972              N/A  22903  "
      ]
     },
     "execution_count": 14,
     "metadata": {},
     "output_type": "execute_result"
    }
   ],
   "source": [
    "# Now drop the original BlockNumber and StreetName columns\n",
    "df.drop(columns=['BlockNumber', 'StreetName','HourAMPM','HourReported','DateString'], inplace=True)\n",
    "df[\"zip\"] = df[\"zip\"].astype(str)\n",
    "\n",
    "# Fill all missing values in the DataFrame with \"N/A\"\n",
    "df.replace({None: \"N/A\", np.nan: \"N/A\", \"\": \"N/A\"}, inplace=True)\n",
    "df.head()"
   ]
  },
  {
   "cell_type": "code",
   "execution_count": 15,
   "id": "c7090836",
   "metadata": {
    "execution": {
     "iopub.execute_input": "2025-05-20T01:04:52.843965Z",
     "iopub.status.busy": "2025-05-20T01:04:52.843516Z",
     "iopub.status.idle": "2025-05-20T01:04:52.861350Z",
     "shell.execute_reply": "2025-05-20T01:04:52.860769Z"
    },
    "papermill": {
     "duration": 0.026871,
     "end_time": "2025-05-20T01:04:52.862428",
     "exception": false,
     "start_time": "2025-05-20T01:04:52.835557",
     "status": "completed"
    },
    "tags": []
   },
   "outputs": [
    {
     "name": "stdout",
     "output_type": "stream",
     "text": [
      "                  MissingCount  MissingPercentage\n",
      "RecordID                     0                0.0\n",
      "Offense                      0                0.0\n",
      "IncidentID                   0                0.0\n",
      "Agency                       0                0.0\n",
      "ReportingOfficer             0                0.0\n",
      "Date                         0                0.0\n",
      "DayOfWeek                    0                0.0\n",
      "Weekend                      0                0.0\n",
      "Season                       0                0.0\n",
      "TimeOfDay                    0                0.0\n",
      "FullStreet                   0                0.0\n",
      "lat                          0                0.0\n",
      "lon                          0                0.0\n",
      "neighborhood                 0                0.0\n",
      "zip                          0                0.0\n"
     ]
    }
   ],
   "source": [
    "missing_info = missing_percentage(df)\n",
    "print(missing_info)"
   ]
  },
  {
   "cell_type": "code",
   "execution_count": 16,
   "id": "edb674cf",
   "metadata": {
    "execution": {
     "iopub.execute_input": "2025-05-20T01:04:52.878362Z",
     "iopub.status.busy": "2025-05-20T01:04:52.877802Z",
     "iopub.status.idle": "2025-05-20T01:04:52.882915Z",
     "shell.execute_reply": "2025-05-20T01:04:52.882377Z"
    },
    "papermill": {
     "duration": 0.014267,
     "end_time": "2025-05-20T01:04:52.883910",
     "exception": false,
     "start_time": "2025-05-20T01:04:52.869643",
     "status": "completed"
    },
    "tags": []
   },
   "outputs": [
    {
     "data": {
      "text/plain": [
       "Index(['RecordID', 'Offense', 'IncidentID', 'Agency', 'ReportingOfficer',\n",
       "       'Date', 'DayOfWeek', 'Weekend', 'Season', 'TimeOfDay', 'FullStreet',\n",
       "       'lat', 'lon', 'neighborhood', 'zip'],\n",
       "      dtype='object')"
      ]
     },
     "execution_count": 16,
     "metadata": {},
     "output_type": "execute_result"
    }
   ],
   "source": [
    "df.columns"
   ]
  },
  {
   "cell_type": "code",
   "execution_count": 17,
   "id": "7a2b2b25",
   "metadata": {
    "execution": {
     "iopub.execute_input": "2025-05-20T01:04:52.899748Z",
     "iopub.status.busy": "2025-05-20T01:04:52.899197Z",
     "iopub.status.idle": "2025-05-20T01:04:52.917292Z",
     "shell.execute_reply": "2025-05-20T01:04:52.916710Z"
    },
    "papermill": {
     "duration": 0.026911,
     "end_time": "2025-05-20T01:04:52.918245",
     "exception": false,
     "start_time": "2025-05-20T01:04:52.891334",
     "status": "completed"
    },
    "tags": []
   },
   "outputs": [
    {
     "name": "stdout",
     "output_type": "stream",
     "text": [
      "<class 'pandas.core.frame.DataFrame'>\n",
      "RangeIndex: 25388 entries, 0 to 25387\n",
      "Data columns (total 15 columns):\n",
      " #   Column            Non-Null Count  Dtype         \n",
      "---  ------            --------------  -----         \n",
      " 0   RecordID          25388 non-null  int64         \n",
      " 1   Offense           25388 non-null  object        \n",
      " 2   IncidentID        25388 non-null  object        \n",
      " 3   Agency            25388 non-null  object        \n",
      " 4   ReportingOfficer  25388 non-null  object        \n",
      " 5   Date              25388 non-null  datetime64[ns]\n",
      " 6   DayOfWeek         25388 non-null  object        \n",
      " 7   Weekend           25388 non-null  bool          \n",
      " 8   Season            25388 non-null  object        \n",
      " 9   TimeOfDay         25388 non-null  object        \n",
      " 10  FullStreet        25388 non-null  object        \n",
      " 11  lat               25388 non-null  float64       \n",
      " 12  lon               25388 non-null  float64       \n",
      " 13  neighborhood      25388 non-null  object        \n",
      " 14  zip               25388 non-null  object        \n",
      "dtypes: bool(1), datetime64[ns](1), float64(2), int64(1), object(10)\n",
      "memory usage: 2.7+ MB\n"
     ]
    }
   ],
   "source": [
    "df.info()"
   ]
  },
  {
   "cell_type": "markdown",
   "id": "357e79c8",
   "metadata": {
    "papermill": {
     "duration": 0.007357,
     "end_time": "2025-05-20T01:04:52.933213",
     "exception": false,
     "start_time": "2025-05-20T01:04:52.925856",
     "status": "completed"
    },
    "tags": []
   },
   "source": [
    "### Export Clean Data"
   ]
  },
  {
   "cell_type": "code",
   "execution_count": 18,
   "id": "38582d53",
   "metadata": {
    "execution": {
     "iopub.execute_input": "2025-05-20T01:04:52.949389Z",
     "iopub.status.busy": "2025-05-20T01:04:52.948976Z",
     "iopub.status.idle": "2025-05-20T01:05:02.241724Z",
     "shell.execute_reply": "2025-05-20T01:05:02.241067Z"
    },
    "papermill": {
     "duration": 9.301984,
     "end_time": "2025-05-20T01:05:02.242817",
     "exception": false,
     "start_time": "2025-05-20T01:04:52.940833",
     "status": "completed"
    },
    "tags": []
   },
   "outputs": [
    {
     "name": "stdout",
     "output_type": "stream",
     "text": [
      "Project Root: /home/runner/work/crime-data/crime-data\n"
     ]
    },
    {
     "name": "stdout",
     "output_type": "stream",
     "text": [
      "Data saved to: /home/runner/work/crime-data/crime-data/data/charlottesville_crime_incidents.csv\n"
     ]
    },
    {
     "name": "stdout",
     "output_type": "stream",
     "text": [
      "Excel saved to: /home/runner/work/crime-data/crime-data/data/charlottesville_crime_incidents.xlsx\n"
     ]
    }
   ],
   "source": [
    "# Determine the project root (assuming papermill is run from the repository root)\n",
    "project_root = os.getcwd()\n",
    "print(\"Project Root:\", project_root)\n",
    "\n",
    "# Set the data directory within the project root\n",
    "data_dir = os.path.join(project_root, \"data\")\n",
    "\n",
    "# Ensure the \"data\" directory exists (create it if it doesn't)\n",
    "if not os.path.exists(data_dir):\n",
    "    os.makedirs(data_dir)\n",
    "\n",
    "# Export the DataFrame to CSV in the \"data\" folder located in the project root\n",
    "csv_path = os.path.join(data_dir, \"charlottesville_crime_incidents.csv\")\n",
    "df.to_csv(csv_path, index=False)\n",
    "print(\"Data saved to:\", csv_path)\n",
    "\n",
    "# Construct the path to your Excel file\n",
    "excel_path = os.path.join(data_dir, \"charlottesville_crime_incidents.xlsx\")\n",
    "\n",
    "# Export the DataFrame to Excel\n",
    "df.to_excel(excel_path, index=False)\n",
    "print(\"Excel saved to:\", excel_path)\n"
   ]
  },
  {
   "cell_type": "markdown",
   "id": "11de6b32",
   "metadata": {
    "papermill": {
     "duration": 0.007472,
     "end_time": "2025-05-20T01:05:02.258209",
     "exception": false,
     "start_time": "2025-05-20T01:05:02.250737",
     "status": "completed"
    },
    "tags": []
   },
   "source": [
    "## Predictive Analytics"
   ]
  },
  {
   "cell_type": "code",
   "execution_count": 19,
   "id": "86c1b129",
   "metadata": {
    "execution": {
     "iopub.execute_input": "2025-05-20T01:05:02.274422Z",
     "iopub.status.busy": "2025-05-20T01:05:02.273925Z",
     "iopub.status.idle": "2025-05-20T01:05:02.285462Z",
     "shell.execute_reply": "2025-05-20T01:05:02.284925Z"
    },
    "papermill": {
     "duration": 0.020689,
     "end_time": "2025-05-20T01:05:02.286447",
     "exception": false,
     "start_time": "2025-05-20T01:05:02.265758",
     "status": "completed"
    },
    "tags": []
   },
   "outputs": [
    {
     "data": {
      "text/html": [
       "<div>\n",
       "<style scoped>\n",
       "    .dataframe tbody tr th:only-of-type {\n",
       "        vertical-align: middle;\n",
       "    }\n",
       "\n",
       "    .dataframe tbody tr th {\n",
       "        vertical-align: top;\n",
       "    }\n",
       "\n",
       "    .dataframe thead th {\n",
       "        text-align: right;\n",
       "    }\n",
       "</style>\n",
       "<table border=\"1\" class=\"dataframe\">\n",
       "  <thead>\n",
       "    <tr style=\"text-align: right;\">\n",
       "      <th></th>\n",
       "      <th>RecordID</th>\n",
       "      <th>Offense</th>\n",
       "      <th>IncidentID</th>\n",
       "      <th>Agency</th>\n",
       "      <th>ReportingOfficer</th>\n",
       "      <th>Date</th>\n",
       "      <th>DayOfWeek</th>\n",
       "      <th>Weekend</th>\n",
       "      <th>Season</th>\n",
       "      <th>TimeOfDay</th>\n",
       "      <th>FullStreet</th>\n",
       "      <th>lat</th>\n",
       "      <th>lon</th>\n",
       "      <th>neighborhood</th>\n",
       "      <th>zip</th>\n",
       "    </tr>\n",
       "  </thead>\n",
       "  <tbody>\n",
       "    <tr>\n",
       "      <th>0</th>\n",
       "      <td>1</td>\n",
       "      <td>Motor Vehicle Theft</td>\n",
       "      <td>202500016841</td>\n",
       "      <td>CPD</td>\n",
       "      <td>Love-Baker, Sydney</td>\n",
       "      <td>2025-05-17 21:59:26</td>\n",
       "      <td>Saturday</td>\n",
       "      <td>True</td>\n",
       "      <td>Spring</td>\n",
       "      <td>Night</td>\n",
       "      <td>300 14TH ST NW</td>\n",
       "      <td>38.036079</td>\n",
       "      <td>-78.498507</td>\n",
       "      <td>Venable</td>\n",
       "      <td>22903</td>\n",
       "    </tr>\n",
       "    <tr>\n",
       "      <th>1</th>\n",
       "      <td>2</td>\n",
       "      <td>Domestic Disturbance</td>\n",
       "      <td>202500016814</td>\n",
       "      <td>CPD</td>\n",
       "      <td>Rigsby, Lloyd</td>\n",
       "      <td>2025-05-17 19:19:02</td>\n",
       "      <td>Saturday</td>\n",
       "      <td>True</td>\n",
       "      <td>Spring</td>\n",
       "      <td>Evening</td>\n",
       "      <td>1400 FOREST RIDGE RD</td>\n",
       "      <td>38.025348</td>\n",
       "      <td>-78.497769</td>\n",
       "      <td>Fifeville</td>\n",
       "      <td>22903</td>\n",
       "    </tr>\n",
       "    <tr>\n",
       "      <th>2</th>\n",
       "      <td>3</td>\n",
       "      <td>Larceny - Shoplifitng</td>\n",
       "      <td>202500016811</td>\n",
       "      <td>CPD</td>\n",
       "      <td>Crowley, Raeann</td>\n",
       "      <td>2025-05-17 18:58:21</td>\n",
       "      <td>Saturday</td>\n",
       "      <td>True</td>\n",
       "      <td>Spring</td>\n",
       "      <td>Evening</td>\n",
       "      <td>500 W MAIN ST</td>\n",
       "      <td>38.030793</td>\n",
       "      <td>-78.487912</td>\n",
       "      <td>Starr Hill</td>\n",
       "      <td>22903</td>\n",
       "    </tr>\n",
       "    <tr>\n",
       "      <th>3</th>\n",
       "      <td>4</td>\n",
       "      <td>Drunkeness DIP</td>\n",
       "      <td>202500016800</td>\n",
       "      <td>CPD</td>\n",
       "      <td>Rigsby, Lloyd</td>\n",
       "      <td>2025-05-17 17:37:57</td>\n",
       "      <td>Saturday</td>\n",
       "      <td>True</td>\n",
       "      <td>Spring</td>\n",
       "      <td>Evening</td>\n",
       "      <td>1100 5TH ST SW</td>\n",
       "      <td>38.017130</td>\n",
       "      <td>-78.497806</td>\n",
       "      <td>Johnson Village</td>\n",
       "      <td>22903</td>\n",
       "    </tr>\n",
       "    <tr>\n",
       "      <th>4</th>\n",
       "      <td>5</td>\n",
       "      <td>Assault Simple</td>\n",
       "      <td>202500016796</td>\n",
       "      <td>CPD</td>\n",
       "      <td>Ritter, Kobe</td>\n",
       "      <td>2025-05-17 16:47:48</td>\n",
       "      <td>Saturday</td>\n",
       "      <td>True</td>\n",
       "      <td>Spring</td>\n",
       "      <td>Afternoon</td>\n",
       "      <td>1400 UNIVERSITY AVE</td>\n",
       "      <td>38.033936</td>\n",
       "      <td>-78.499972</td>\n",
       "      <td>N/A</td>\n",
       "      <td>22903</td>\n",
       "    </tr>\n",
       "  </tbody>\n",
       "</table>\n",
       "</div>"
      ],
      "text/plain": [
       "   RecordID                Offense    IncidentID Agency    ReportingOfficer  \\\n",
       "0         1    Motor Vehicle Theft  202500016841    CPD  Love-Baker, Sydney   \n",
       "1         2   Domestic Disturbance  202500016814    CPD       Rigsby, Lloyd   \n",
       "2         3  Larceny - Shoplifitng  202500016811    CPD     Crowley, Raeann   \n",
       "3         4         Drunkeness DIP  202500016800    CPD       Rigsby, Lloyd   \n",
       "4         5         Assault Simple  202500016796    CPD        Ritter, Kobe   \n",
       "\n",
       "                 Date DayOfWeek  Weekend  Season  TimeOfDay  \\\n",
       "0 2025-05-17 21:59:26  Saturday     True  Spring      Night   \n",
       "1 2025-05-17 19:19:02  Saturday     True  Spring    Evening   \n",
       "2 2025-05-17 18:58:21  Saturday     True  Spring    Evening   \n",
       "3 2025-05-17 17:37:57  Saturday     True  Spring    Evening   \n",
       "4 2025-05-17 16:47:48  Saturday     True  Spring  Afternoon   \n",
       "\n",
       "             FullStreet        lat        lon     neighborhood    zip  \n",
       "0        300 14TH ST NW  38.036079 -78.498507          Venable  22903  \n",
       "1  1400 FOREST RIDGE RD  38.025348 -78.497769        Fifeville  22903  \n",
       "2         500 W MAIN ST  38.030793 -78.487912       Starr Hill  22903  \n",
       "3        1100 5TH ST SW  38.017130 -78.497806  Johnson Village  22903  \n",
       "4   1400 UNIVERSITY AVE  38.033936 -78.499972              N/A  22903  "
      ]
     },
     "execution_count": 19,
     "metadata": {},
     "output_type": "execute_result"
    }
   ],
   "source": [
    "df.head()"
   ]
  },
  {
   "cell_type": "code",
   "execution_count": 20,
   "id": "467ce13d",
   "metadata": {
    "execution": {
     "iopub.execute_input": "2025-05-20T01:05:02.303256Z",
     "iopub.status.busy": "2025-05-20T01:05:02.302828Z",
     "iopub.status.idle": "2025-05-20T01:05:02.307015Z",
     "shell.execute_reply": "2025-05-20T01:05:02.306494Z"
    },
    "papermill": {
     "duration": 0.01362,
     "end_time": "2025-05-20T01:05:02.308015",
     "exception": false,
     "start_time": "2025-05-20T01:05:02.294395",
     "status": "completed"
    },
    "tags": []
   },
   "outputs": [
    {
     "data": {
      "text/plain": [
       "Index(['RecordID', 'Offense', 'IncidentID', 'Agency', 'ReportingOfficer',\n",
       "       'Date', 'DayOfWeek', 'Weekend', 'Season', 'TimeOfDay', 'FullStreet',\n",
       "       'lat', 'lon', 'neighborhood', 'zip'],\n",
       "      dtype='object')"
      ]
     },
     "execution_count": 20,
     "metadata": {},
     "output_type": "execute_result"
    }
   ],
   "source": [
    "df.columns"
   ]
  },
  {
   "cell_type": "markdown",
   "id": "eb84e699",
   "metadata": {
    "papermill": {
     "duration": 0.010017,
     "end_time": "2025-05-20T01:05:02.325987",
     "exception": false,
     "start_time": "2025-05-20T01:05:02.315970",
     "status": "completed"
    },
    "tags": []
   },
   "source": [
    "### Data Preparation\n",
    "\n",
    "We need to ensure the data is in the correct format for modeling and can handle missing values, categorical variables, and dates. Here's how to prepare your data:"
   ]
  },
  {
   "cell_type": "code",
   "execution_count": 21,
   "id": "1ba63c59",
   "metadata": {
    "execution": {
     "iopub.execute_input": "2025-05-20T01:05:02.342810Z",
     "iopub.status.busy": "2025-05-20T01:05:02.342321Z",
     "iopub.status.idle": "2025-05-20T01:05:03.923247Z",
     "shell.execute_reply": "2025-05-20T01:05:03.922562Z"
    },
    "papermill": {
     "duration": 1.590879,
     "end_time": "2025-05-20T01:05:03.924675",
     "exception": false,
     "start_time": "2025-05-20T01:05:02.333796",
     "status": "completed"
    },
    "tags": []
   },
   "outputs": [],
   "source": [
    "import pandas as pd\n",
    "from sklearn.model_selection import train_test_split\n",
    "from sklearn.preprocessing import OneHotEncoder, LabelEncoder\n",
    "from sklearn.ensemble import RandomForestClassifier\n",
    "from sklearn.linear_model import LogisticRegression\n",
    "from sklearn.tree import DecisionTreeClassifier\n",
    "from sklearn.metrics import classification_report, accuracy_score\n",
    "import seaborn as sns\n",
    "import matplotlib.pyplot as plt\n",
    "\n",
    "# Convert 'Date' to datetime\n",
    "df['Date'] = pd.to_datetime(df['Date'])\n",
    "\n",
    "# Feature engineering: Extract additional time-based features\n",
    "df['Year'] = df['Date'].dt.year\n",
    "df['Month'] = df['Date'].dt.month\n",
    "df['DayOfMonth'] = df['Date'].dt.day\n",
    "\n",
    "# One-hot encoding for 'FullStreet', 'neighborhood', 'zip'\n",
    "df = pd.get_dummies(df, columns=['FullStreet', 'neighborhood', 'zip'], drop_first=True)\n",
    "\n",
    "# Label encoding for ordered variables (those with a natural order like 'DayOfWeek', 'Season', 'TimeOfDay')\n",
    "label_encoders = {}\n",
    "for column in ['DayOfWeek', 'Season', 'TimeOfDay', 'Agency', 'ReportingOfficer']:  # Example ordinal variables\n",
    "    le = LabelEncoder()\n",
    "    df[column] = le.fit_transform(df[column])\n",
    "    label_encoders[column] = le\n",
    "\n",
    "# Filter the dataset to include only the offenses of interest\n",
    "offenses_of_interest = [\n",
    "    'Hit and Run', 'Assault Simple', 'Suspicious Activity', 'Vandalism', \n",
    "    'Larceny - From Mot Vehicle', 'Larceny - All Other', \n",
    "    'Assist Citizen - Mental/TDO/ECO', 'Lost/FoundProperty'\n",
    "]\n",
    "\n",
    "df = df[df['Offense'].isin(offenses_of_interest)]\n",
    "\n",
    "# Label encode the target variable (Offense)\n",
    "offense_encoder = LabelEncoder()\n",
    "df['Offense'] = offense_encoder.fit_transform(df['Offense'])\n",
    "\n",
    "# Separate features (X) and target (y)\n",
    "X = df[['Year', 'Month', 'DayOfMonth', 'DayOfWeek', 'Weekend', 'Season', 'TimeOfDay', 'lat', 'lon', 'Agency', 'ReportingOfficer']]\n",
    "y = df['Offense']  # Offense is now the encoded target variable\n",
    "\n",
    "# Split the data into training and testing sets\n",
    "X_train, X_test, y_train, y_test = train_test_split(X, y, test_size=0.3, random_state=42)\n"
   ]
  },
  {
   "cell_type": "markdown",
   "id": "cfcebf51",
   "metadata": {
    "papermill": {
     "duration": 0.007895,
     "end_time": "2025-05-20T01:05:03.941062",
     "exception": false,
     "start_time": "2025-05-20T01:05:03.933167",
     "status": "completed"
    },
    "tags": []
   },
   "source": [
    "### Model Training\n",
    "\n",
    "Here we will train several models (e.g., Random Forest, Logistic Regression, and Decision Tree). We will use cross-validation to choose the best model based on accuracy, and then explain the impact of the variables."
   ]
  },
  {
   "cell_type": "code",
   "execution_count": 22,
   "id": "298717c3",
   "metadata": {
    "execution": {
     "iopub.execute_input": "2025-05-20T01:05:03.958429Z",
     "iopub.status.busy": "2025-05-20T01:05:03.957751Z",
     "iopub.status.idle": "2025-05-20T01:05:07.544788Z",
     "shell.execute_reply": "2025-05-20T01:05:07.544111Z"
    },
    "papermill": {
     "duration": 3.597166,
     "end_time": "2025-05-20T01:05:07.546177",
     "exception": false,
     "start_time": "2025-05-20T01:05:03.949011",
     "status": "completed"
    },
    "tags": []
   },
   "outputs": [
    {
     "name": "stderr",
     "output_type": "stream",
     "text": [
      "/opt/hostedtoolcache/Python/3.9.22/x64/lib/python3.9/site-packages/sklearn/linear_model/_logistic.py:465: ConvergenceWarning: lbfgs failed to converge (status=1):\n",
      "STOP: TOTAL NO. of ITERATIONS REACHED LIMIT.\n",
      "\n",
      "Increase the number of iterations (max_iter) or scale the data as shown in:\n",
      "    https://scikit-learn.org/stable/modules/preprocessing.html\n",
      "Please also refer to the documentation for alternative solver options:\n",
      "    https://scikit-learn.org/stable/modules/linear_model.html#logistic-regression\n",
      "  n_iter_i = _check_optimize_result(\n",
      "/opt/hostedtoolcache/Python/3.9.22/x64/lib/python3.9/site-packages/sklearn/metrics/_classification.py:1565: UndefinedMetricWarning: Precision is ill-defined and being set to 0.0 in labels with no predicted samples. Use `zero_division` parameter to control this behavior.\n",
      "  _warn_prf(average, modifier, f\"{metric.capitalize()} is\", len(result))\n",
      "/opt/hostedtoolcache/Python/3.9.22/x64/lib/python3.9/site-packages/sklearn/metrics/_classification.py:1565: UndefinedMetricWarning: Precision is ill-defined and being set to 0.0 in labels with no predicted samples. Use `zero_division` parameter to control this behavior.\n",
      "  _warn_prf(average, modifier, f\"{metric.capitalize()} is\", len(result))\n",
      "/opt/hostedtoolcache/Python/3.9.22/x64/lib/python3.9/site-packages/sklearn/metrics/_classification.py:1565: UndefinedMetricWarning: Precision is ill-defined and being set to 0.0 in labels with no predicted samples. Use `zero_division` parameter to control this behavior.\n",
      "  _warn_prf(average, modifier, f\"{metric.capitalize()} is\", len(result))\n"
     ]
    },
    {
     "name": "stdout",
     "output_type": "stream",
     "text": [
      "\n",
      "Classification Report for All Models:\n",
      "\n",
      "Model: RandomForest\n",
      "Accuracy: 0.2884\n",
      "              precision    recall  f1-score      support\n",
      "0              0.262357  0.368327  0.306440   562.000000\n",
      "1              0.304348  0.242574  0.269972   404.000000\n",
      "2              0.330179  0.461087  0.384804   681.000000\n",
      "3              0.201018  0.179954  0.189904   439.000000\n",
      "4              0.337963  0.201102  0.252159   363.000000\n",
      "5              0.256158  0.190128  0.218258   547.000000\n",
      "6              0.318627  0.265849  0.289855   489.000000\n",
      "accuracy       0.288379  0.288379  0.288379     0.288379\n",
      "macro avg      0.287236  0.272717  0.273056  3485.000000\n",
      "weighted avg   0.287549  0.288379  0.281024  3485.000000\n"
     ]
    },
    {
     "data": {
      "image/png": "[encoded data removed]",
      "text/plain": [
       "<Figure size 800x600 with 2 Axes>"
      ]
     },
     "metadata": {},
     "output_type": "display_data"
    },
    {
     "name": "stdout",
     "output_type": "stream",
     "text": [
      "\n",
      "Model: LogisticRegression\n",
      "Accuracy: 0.2077\n",
      "              precision    recall  f1-score      support\n",
      "0              0.191790  0.507117  0.278320   562.000000\n",
      "1              0.000000  0.000000  0.000000   404.000000\n",
      "2              0.220425  0.640235  0.327943   681.000000\n",
      "3              0.166667  0.004556  0.008869   439.000000\n",
      "4              0.000000  0.000000  0.000000   363.000000\n",
      "5              0.000000  0.000000  0.000000   547.000000\n",
      "6              0.166667  0.002045  0.004040   489.000000\n",
      "accuracy       0.207747  0.207747  0.207747     0.207747\n",
      "macro avg      0.106507  0.164850  0.088453  3485.000000\n",
      "weighted avg   0.118382  0.207747  0.110650  3485.000000\n"
     ]
    },
    {
     "data": {
      "image/png": "[encoded data removed]",
      "text/plain": [
       "<Figure size 800x600 with 2 Axes>"
      ]
     },
     "metadata": {},
     "output_type": "display_data"
    },
    {
     "name": "stdout",
     "output_type": "stream",
     "text": [
      "\n",
      "Model: DecisionTree\n",
      "Accuracy: 0.2135\n",
      "              precision    recall  f1-score      support\n",
      "0              0.225641  0.234875  0.230166   562.000000\n",
      "1              0.236967  0.247525  0.242131   404.000000\n",
      "2              0.260677  0.259912  0.260294   681.000000\n",
      "3              0.177243  0.184510  0.180804   439.000000\n",
      "4              0.189266  0.184573  0.186890   363.000000\n",
      "5              0.175000  0.166362  0.170572   547.000000\n",
      "6              0.205128  0.196319  0.200627   489.000000\n",
      "accuracy       0.213486  0.213486  0.213486     0.213486\n",
      "macro avg      0.209989  0.210582  0.210212  3485.000000\n",
      "weighted avg   0.213088  0.213486  0.213216  3485.000000\n"
     ]
    },
    {
     "data": {
      "image/png": "[encoded data removed]",
      "text/plain": [
       "<Figure size 800x600 with 2 Axes>"
      ]
     },
     "metadata": {},
     "output_type": "display_data"
    },
    {
     "name": "stdout",
     "output_type": "stream",
     "text": [
      "\n",
      "Best Model:\n",
      "Best Model: RandomForestClassifier()\n",
      "Best Model Accuracy: 0.2884\n"
     ]
    }
   ],
   "source": [
    "import pandas as pd\n",
    "from sklearn.model_selection import train_test_split\n",
    "from sklearn.ensemble import RandomForestClassifier\n",
    "from sklearn.linear_model import LogisticRegression\n",
    "from sklearn.tree import DecisionTreeClassifier\n",
    "from sklearn.metrics import classification_report, accuracy_score, confusion_matrix\n",
    "import seaborn as sns\n",
    "import matplotlib.pyplot as plt\n",
    "\n",
    "# Define models\n",
    "models = {\n",
    "    'RandomForest': RandomForestClassifier(),\n",
    "    'LogisticRegression': LogisticRegression(max_iter=1000),\n",
    "    'DecisionTree': DecisionTreeClassifier()\n",
    "}\n",
    "\n",
    "# Train models and evaluate them\n",
    "best_model = None\n",
    "best_score = 0\n",
    "model_reports = {}\n",
    "\n",
    "for model_name, model in models.items():\n",
    "    model.fit(X_train, y_train)  # Train model\n",
    "    y_pred = model.predict(X_test)  # Make predictions\n",
    "    \n",
    "    # Calculate accuracy and generate classification report\n",
    "    accuracy = accuracy_score(y_test, y_pred)\n",
    "    model_reports[model_name] = classification_report(y_test, y_pred, output_dict=True)  # Store as a dictionary for easier analysis\n",
    "    \n",
    "    # Track best performing model\n",
    "    if accuracy > best_score:\n",
    "        best_score = accuracy\n",
    "        best_model = model\n",
    "\n",
    "# Display classification reports and confusion matrices\n",
    "print(\"\\nClassification Report for All Models:\")\n",
    "for model_name, report in model_reports.items():\n",
    "    print(f\"\\nModel: {model_name}\")\n",
    "    print(\"Accuracy: {:.4f}\".format(accuracy_score(y_test, models[model_name].predict(X_test))))  # Display accuracy\n",
    "    print(pd.DataFrame(report).transpose())  # Display classification report as a DataFrame\n",
    "\n",
    "    # Plot Confusion Matrix\n",
    "    cm = confusion_matrix(y_test, models[model_name].predict(X_test))\n",
    "    plt.figure(figsize=(8, 6))\n",
    "    sns.heatmap(cm, annot=True, fmt=\"d\", cmap='Blues', xticklabels=offense_encoder.classes_, yticklabels=offense_encoder.classes_)\n",
    "    plt.title(f\"Confusion Matrix - {model_name}\")\n",
    "    plt.xlabel('Predicted Labels')\n",
    "    plt.ylabel('True Labels')\n",
    "    plt.show()\n",
    "\n",
    "# Display best model details\n",
    "print(\"\\nBest Model:\")\n",
    "print(f\"Best Model: {best_model}\")\n",
    "print(f\"Best Model Accuracy: {best_score:.4f}\")\n"
   ]
  },
  {
   "cell_type": "markdown",
   "id": "3068385c",
   "metadata": {
    "papermill": {
     "duration": 0.010635,
     "end_time": "2025-05-20T01:05:07.568872",
     "exception": false,
     "start_time": "2025-05-20T01:05:07.558237",
     "status": "completed"
    },
    "tags": []
   },
   "source": [
    "#### Classification Report for All Models:\n",
    "\n",
    "### Explanation of the Classification Results (RandomForest Model)\n",
    "\n",
    "The results you provided are from a **Random Forest** model, which is used for predicting different types of offenses. Let's break down the key components of the results:\n",
    "\n",
    "#### 1. **Accuracy: 0.2822**\n",
    "   - **Accuracy** measures the overall percentage of correct predictions made by the model. An accuracy of 28.22% means the model correctly predicted the offense in about 28% of the cases. This indicates the model's predictions are not highly reliable, as the accuracy is quite low.\n",
    "\n",
    "#### 2. **Classification Report:**\n",
    "   The classification report includes precision, recall, and F1-score for each offense. Let's go over these terms and how they apply to the results:\n",
    "\n",
    "   - **Precision**: The proportion of true positive predictions out of all positive predictions made by the model for a specific class (offense).\n",
    "   - **Recall**: The proportion of true positive predictions out of all actual positive instances in the dataset.\n",
    "   - **F1-Score**: The harmonic mean of precision and recall, providing a balance between the two metrics.\n",
    "   - **Support**: The number of actual occurrences of each class in the test set.\n",
    "\n",
    "   Let's analyze each offense based on these metrics:\n",
    "\n",
    "   | **Offense**                        | **Precision** | **Recall** | **F1-Score** | **Support** |\n",
    "   |------------------------------------|---------------|------------|--------------|-------------|\n",
    "   | **Assault Simple**                 | 0.2892        | 0.3754     | 0.3267       | 594         |\n",
    "   | **Assist Citizen - Mental/TDO/ECO**| 0.3182        | 0.2274     | 0.2652       | 431         |\n",
    "   | **Hit and Run**                    | 0.2963        | 0.4765     | 0.3654       | 638         |\n",
    "   | **Larceny - All Other**            | 0.2270        | 0.1453     | 0.1772       | 475         |\n",
    "   | **Lost/FoundProperty**             | 0.3333        | 0.2102     | 0.2578       | 352         |\n",
    "   | **Suspicious Activity**            | 0.2344        | 0.2169     | 0.2253       | 484         |\n",
    "   | **Vandalism**                      | 0.2712        | 0.2106     | 0.2371       | 470         |\n",
    "\n",
    "#### 3. **Key Insights from the Report:**\n",
    "\n",
    "- **Precision**:\n",
    "   - The highest precision is for **Larceny - All Other** (0.3333), indicating that when the model predicts this offense, it is correct about 33% of the time. However, this is still quite low.\n",
    "   - **Assist Citizen - Mental/TDO/ECO** has the lowest precision (0.2269), meaning that the model's predictions for this offense tend to be wrong more often than correct.\n",
    "\n",
    "- **Recall**:\n",
    "   - **Hit and Run** has the highest recall (0.4765), meaning the model identifies about 48% of the actual occurrences of this offense. This is better than the precision, which indicates it is missing many true positives but is still able to identify a fair number of cases.\n",
    "   - **Larceny - All Other** and **Suspicious Activity** have the lowest recall values (0.1453 and 0.2169, respectively), indicating that the model is failing to identify most of the actual cases for these offenses.\n",
    "\n",
    "- **F1-Score**:\n",
    "   - The **F1-Score** balances precision and recall. It is highest for **Hit and Run** (0.3654), but still relatively low overall. This suggests the model is better at identifying **Hit and Run** than other offenses but still has room for improvement.\n",
    "   - **Larceny - All Other** has the lowest F1-Score (0.1772), indicating a poor balance between precision and recall for this offense.\n",
    "\n",
    "#### 4. **Macro Average and Weighted Average:**\n",
    "   - **Macro Average**: This gives the average precision, recall, and F1-Score across all classes (offenses) without considering the class distribution. It averages the results for all offenses equally.\n",
    "     - Precision: 0.2814\n",
    "     - Recall: 0.2661\n",
    "     - F1-Score: 0.2649\n",
    "   - **Weighted Average**: This averages the metrics but weighs each class by its support (the number of true instances in the test set). This gives a better sense of overall performance, considering the class distribution.\n",
    "     - Precision: 0.2799\n",
    "     - Recall: 0.2822\n",
    "     - F1-Score: 0.2720\n",
    "\n",
    "#### 5. **Confusion Matrix (Visualization Analysis)**:\n",
    "   - The confusion matrix shows the distribution of true positive, false positive, true negative, and false negative predictions for each class.\n",
    "     - For **Hit and Run**, the model performs relatively well in identifying this offense (304 true positives). However, it also misclassifies some **Hit and Run** instances as other offenses (e.g., **Assault Simple**, **Suspicious Activity**, etc.).\n",
    "     - **Larceny - All Other** is frequently misclassified as **Hit and Run**, **Suspicious Activity**, and others. This is evident from the large number of off-diagonal elements in its row.\n",
    "     - **Assist Citizen - Mental/TDO/ECO** and **Suspicious Activity** are frequently misclassified, as seen by the off-diagonal values in their rows.\n",
    "\n",
    "### Conclusion:\n",
    "The Random Forest model has low accuracy (28.22%), suggesting that it struggles to predict most offenses accurately. Some offenses like **Hit and Run** are better predicted than others, but overall, the model shows a high level of misclassification across all offenses. There may be a need for further tuning of the model, additional feature engineering, or trying different models for better performance.\n",
    "\n",
    "Let me know if you'd like to improve the model or make adjustments based on these results!\n",
    "\n"
   ]
  },
  {
   "cell_type": "markdown",
   "id": "e5aaf825",
   "metadata": {
    "papermill": {
     "duration": 0.010562,
     "end_time": "2025-05-20T01:05:07.590026",
     "exception": false,
     "start_time": "2025-05-20T01:05:07.579464",
     "status": "completed"
    },
    "tags": []
   },
   "source": [
    "### Model Explanation\n",
    "\n",
    "Once we’ve chosen the best model, we will explain its predictions by examining feature importance for tree-based models and using statistical methods like logistic regression coefficients for linear models."
   ]
  },
  {
   "cell_type": "markdown",
   "id": "b3875df9",
   "metadata": {
    "papermill": {
     "duration": 0.01051,
     "end_time": "2025-05-20T01:05:07.611232",
     "exception": false,
     "start_time": "2025-05-20T01:05:07.600722",
     "status": "completed"
    },
    "tags": []
   },
   "source": [
    "#### Feature Importance for Random Forest / Decision Tree\n",
    "\n",
    "##### For Tree-based Models (Random Forest, Decision Tree)\n",
    "\n",
    "For Random Forest or Decision Tree, we can look at feature importance to understand which variables contribute the most to the model's predictions. Here's how you can visualize and interpret the importance of each feature:"
   ]
  },
  {
   "cell_type": "code",
   "execution_count": 23,
   "id": "2fb57aa6",
   "metadata": {
    "execution": {
     "iopub.execute_input": "2025-05-20T01:05:07.633775Z",
     "iopub.status.busy": "2025-05-20T01:05:07.633345Z",
     "iopub.status.idle": "2025-05-20T01:05:07.798240Z",
     "shell.execute_reply": "2025-05-20T01:05:07.797512Z"
    },
    "papermill": {
     "duration": 0.177378,
     "end_time": "2025-05-20T01:05:07.799305",
     "exception": false,
     "start_time": "2025-05-20T01:05:07.621927",
     "status": "completed"
    },
    "tags": []
   },
   "outputs": [
    {
     "data": {
      "image/png": "[encoded data removed]",
      "text/plain": [
       "<Figure size 1000x600 with 1 Axes>"
      ]
     },
     "metadata": {},
     "output_type": "display_data"
    }
   ],
   "source": [
    "# For RandomForest or DecisionTree models, we can check feature importance\n",
    "if isinstance(best_model, RandomForestClassifier) or isinstance(best_model, DecisionTreeClassifier):\n",
    "    feature_importance = best_model.feature_importances_\n",
    "    feature_names = X.columns\n",
    "    importance_df = pd.DataFrame({'Feature': feature_names, 'Importance': feature_importance})\n",
    "    importance_df = importance_df.sort_values(by='Importance', ascending=False)\n",
    "    \n",
    "    # Plotting the feature importances\n",
    "    plt.figure(figsize=(10, 6))\n",
    "    sns.barplot(x='Importance', y='Feature', data=importance_df)\n",
    "    plt.title(\"Feature Importance\")\n",
    "    plt.show()\n"
   ]
  },
  {
   "cell_type": "code",
   "execution_count": null,
   "id": "3f407d82",
   "metadata": {
    "papermill": {
     "duration": 0.01093,
     "end_time": "2025-05-20T01:05:07.821684",
     "exception": false,
     "start_time": "2025-05-20T01:05:07.810754",
     "status": "completed"
    },
    "tags": []
   },
   "outputs": [],
   "source": []
  },
  {
   "cell_type": "markdown",
   "id": "8b5f6416",
   "metadata": {
    "papermill": {
     "duration": 0.010956,
     "end_time": "2025-05-20T01:05:07.843638",
     "exception": false,
     "start_time": "2025-05-20T01:05:07.832682",
     "status": "completed"
    },
    "tags": []
   },
   "source": [
    "### Evaluation\n",
    "\n",
    "After training the models and examining their performance, we evaluate the chosen model based on metrics like accuracy, precision, recall, and F1 score.\n",
    "\n"
   ]
  },
  {
   "cell_type": "code",
   "execution_count": 24,
   "id": "03c314f9",
   "metadata": {
    "execution": {
     "iopub.execute_input": "2025-05-20T01:05:07.866811Z",
     "iopub.status.busy": "2025-05-20T01:05:07.866573Z",
     "iopub.status.idle": "2025-05-20T01:05:07.956301Z",
     "shell.execute_reply": "2025-05-20T01:05:07.955602Z"
    },
    "papermill": {
     "duration": 0.102747,
     "end_time": "2025-05-20T01:05:07.957455",
     "exception": false,
     "start_time": "2025-05-20T01:05:07.854708",
     "status": "completed"
    },
    "tags": []
   },
   "outputs": [
    {
     "name": "stdout",
     "output_type": "stream",
     "text": [
      "Accuracy: 0.2884\n",
      "Classification Report:\n",
      "              precision    recall  f1-score   support\n",
      "\n",
      "           0       0.26      0.37      0.31       562\n",
      "           1       0.30      0.24      0.27       404\n",
      "           2       0.33      0.46      0.38       681\n",
      "           3       0.20      0.18      0.19       439\n",
      "           4       0.34      0.20      0.25       363\n",
      "           5       0.26      0.19      0.22       547\n",
      "           6       0.32      0.27      0.29       489\n",
      "\n",
      "    accuracy                           0.29      3485\n",
      "   macro avg       0.29      0.27      0.27      3485\n",
      "weighted avg       0.29      0.29      0.28      3485\n",
      "\n",
      "Confusion Matrix:\n",
      "[[207  62 146  44  18  54  31]\n",
      " [108  98  77  40  20  34  27]\n",
      " [126  39 314  66  16  67  53]\n",
      " [ 80  21 117  79  26  58  58]\n",
      " [ 51  18  86  45  73  34  56]\n",
      " [135  45 119  60  31 104  53]\n",
      " [ 82  39  92  59  32  55 130]]\n",
      "Precision: 0.2875\n",
      "Recall: 0.2884\n",
      "F1 Score: 0.2810\n"
     ]
    }
   ],
   "source": [
    "from sklearn.metrics import classification_report, confusion_matrix, accuracy_score, precision_score, recall_score, f1_score\n",
    "\n",
    "# Predict on the test set\n",
    "y_pred = best_model.predict(X_test)\n",
    "\n",
    "# Calculate Accuracy\n",
    "accuracy = accuracy_score(y_test, y_pred)\n",
    "print(f\"Accuracy: {accuracy:.4f}\")\n",
    "\n",
    "# Classification Report\n",
    "print(\"Classification Report:\")\n",
    "print(classification_report(y_test, y_pred))\n",
    "\n",
    "# Confusion Matrix\n",
    "conf_matrix = confusion_matrix(y_test, y_pred)\n",
    "print(\"Confusion Matrix:\")\n",
    "print(conf_matrix)\n",
    "\n",
    "# Precision, Recall, F1 Score for each class (Offense Type)\n",
    "precision = precision_score(y_test, y_pred, average='weighted')\n",
    "recall = recall_score(y_test, y_pred, average='weighted')\n",
    "f1 = f1_score(y_test, y_pred, average='weighted')\n",
    "\n",
    "print(f\"Precision: {precision:.4f}\")\n",
    "print(f\"Recall: {recall:.4f}\")\n",
    "print(f\"F1 Score: {f1:.4f}\")\n"
   ]
  },
  {
   "cell_type": "markdown",
   "id": "ef216a12",
   "metadata": {
    "papermill": {
     "duration": 0.011045,
     "end_time": "2025-05-20T01:05:07.980153",
     "exception": false,
     "start_time": "2025-05-20T01:05:07.969108",
     "status": "completed"
    },
    "tags": []
   },
   "source": [
    "#### For Logistic Regression (Coefficient Interpretation)\n",
    "\n",
    "For Logistic Regression, the model coefficients can help us understand how each feature affects the likelihood of an offense happening. A positive coefficient indicates a feature increases the likelihood of the offense, and a negative coefficient indicates the opposite."
   ]
  },
  {
   "cell_type": "code",
   "execution_count": 25,
   "id": "34b47a82",
   "metadata": {
    "execution": {
     "iopub.execute_input": "2025-05-20T01:05:08.003294Z",
     "iopub.status.busy": "2025-05-20T01:05:08.003051Z",
     "iopub.status.idle": "2025-05-20T01:05:08.007670Z",
     "shell.execute_reply": "2025-05-20T01:05:08.007128Z"
    },
    "papermill": {
     "duration": 0.017339,
     "end_time": "2025-05-20T01:05:08.008683",
     "exception": false,
     "start_time": "2025-05-20T01:05:07.991344",
     "status": "completed"
    },
    "tags": []
   },
   "outputs": [],
   "source": [
    "if isinstance(best_model, LogisticRegression):\n",
    "    # Logistic regression coefficients\n",
    "    coef_df = pd.DataFrame({\n",
    "        'Feature': X.columns,\n",
    "        'Coefficient': best_model.coef_[0]\n",
    "    })\n",
    "    coef_df['AbsCoefficient'] = coef_df['Coefficient'].abs()\n",
    "    coef_df = coef_df.sort_values(by='AbsCoefficient', ascending=False)\n",
    "    \n",
    "    # Plotting the coefficients\n",
    "    plt.figure(figsize=(10, 6))\n",
    "    sns.barplot(x='AbsCoefficient', y='Feature', data=coef_df)\n",
    "    plt.title(\"Logistic Regression Coefficients Impact\")\n",
    "    plt.show()\n",
    "\n",
    "    # Print the top 5 most impactful features (by absolute coefficient value)\n",
    "    print(\"Top 5 most impactful features based on coefficients:\")\n",
    "    print(coef_df.head())\n"
   ]
  },
  {
   "cell_type": "markdown",
   "id": "9e003235",
   "metadata": {
    "papermill": {
     "duration": 0.011074,
     "end_time": "2025-05-20T01:05:08.031067",
     "exception": false,
     "start_time": "2025-05-20T01:05:08.019993",
     "status": "completed"
    },
    "tags": []
   },
   "source": [
    "Explanation of Output:\n",
    "\n",
    "Feature Importance (Random Forest/Decision Tree): The bar plot will show how important each feature is in the decision-making process. Features at the top of the list are the most influential in predicting the occurrence of offenses.\n",
    "\n",
    "Logistic Regression Coefficients: The bar plot will show the magnitude of the coefficients for each feature. Features with larger absolute values (either positive or negative) have a stronger impact on the model’s predictions. Positive coefficients increase the probability of an offense, while negative coefficients decrease it."
   ]
  },
  {
   "cell_type": "markdown",
   "id": "fbef9a34",
   "metadata": {
    "papermill": {
     "duration": 0.011156,
     "end_time": "2025-05-20T01:05:08.053341",
     "exception": false,
     "start_time": "2025-05-20T01:05:08.042185",
     "status": "completed"
    },
    "tags": []
   },
   "source": []
  }
 ],
 "metadata": {
  "kernelspec": {
   "display_name": "Python 3",
   "language": "python",
   "name": "python3"
  },
  "language_info": {
   "codemirror_mode": {
    "name": "ipython",
    "version": 3
   },
   "file_extension": ".py",
   "mimetype": "text/x-python",
   "name": "python",
   "nbconvert_exporter": "python",
   "pygments_lexer": "ipython3",
   "version": "3.9.22"
  },
  "papermill": {
   "default_parameters": {},
   "duration": 76.28596,
   "end_time": "2025-05-20T01:05:08.480844",
   "environment_variables": {},
   "exception": null,
   "input_path": "notebook/Crime Data.ipynb",
   "output_path": "notebook/Crime Data_output.ipynb",
   "parameters": {},
   "start_time": "2025-05-20T01:03:52.194884",
   "version": "2.6.0"
  }
 },
 "nbformat": 4,
 "nbformat_minor": 5
}