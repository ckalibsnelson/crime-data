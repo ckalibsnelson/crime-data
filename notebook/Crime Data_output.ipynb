{
 "cells": [
  {
   "cell_type": "markdown",
   "id": "355bacbf",
   "metadata": {
    "papermill": {
     "duration": 0.004331,
     "end_time": "2025-07-28T01:13:47.371594",
     "exception": false,
     "start_time": "2025-07-28T01:13:47.367263",
     "status": "completed"
    },
    "tags": []
   },
   "source": [
    "# Charlottesville Open Data Porttal: Crime Data"
   ]
  },
  {
   "cell_type": "markdown",
   "id": "1a0081e7",
   "metadata": {
    "papermill": {
     "duration": 0.004302,
     "end_time": "2025-07-28T01:13:47.379511",
     "exception": false,
     "start_time": "2025-07-28T01:13:47.375209",
     "status": "completed"
    },
    "tags": []
   },
   "source": [
    "## Import Relevant Librarires & Set WD"
   ]
  },
  {
   "cell_type": "code",
   "execution_count": 1,
   "id": "8e2e4ee6",
   "metadata": {
    "execution": {
     "iopub.execute_input": "2025-07-28T01:13:47.386825Z",
     "iopub.status.busy": "2025-07-28T01:13:47.386612Z",
     "iopub.status.idle": "2025-07-28T01:13:47.921098Z",
     "shell.execute_reply": "2025-07-28T01:13:47.920432Z"
    },
    "papermill": {
     "duration": 0.539724,
     "end_time": "2025-07-28T01:13:47.922464",
     "exception": false,
     "start_time": "2025-07-28T01:13:47.382740",
     "status": "completed"
    },
    "tags": []
   },
   "outputs": [],
   "source": [
    "import requests\n",
    "import pandas as pd\n",
    "import numpy as np\n",
    "import pickle\n",
    "import googlemaps\n",
    "import plotly.express as px\n",
    "from geopy.geocoders import Nominatim\n",
    "import time\n",
    "from dotenv import load_dotenv\n",
    "import os\n",
    "\n",
    "env_path = os.path.join(\"..\", \".env\")\n",
    "#print(\"Looking for .env file at:\", os.path.abspath(env_path))\n",
    "load_dotenv(dotenv_path=env_path)\n",
    "\n",
    "# Retrieve the variables\n",
    "GOOGLE_API_KEY = os.getenv(\"GOOGLE_API_KEY\")\n",
    "WORKING_DIR = os.getenv(\"WORKING_DIR\")\n",
    "\n",
    "if GOOGLE_API_KEY is None or WORKING_DIR is None:\n",
    "    raise RuntimeError(\"No configuration found. Please ensure that your .env file exists with the required variables, or create a local config.py file.\")\n",
    "\n",
    "#print(\"Google API Key:\", GOOGLE_API_KEY)\n",
    "#print(\"Working Directory:\", WORKING_DIR)"
   ]
  },
  {
   "cell_type": "markdown",
   "id": "40ab41bb",
   "metadata": {
    "papermill": {
     "duration": 0.003284,
     "end_time": "2025-07-28T01:13:47.929420",
     "exception": false,
     "start_time": "2025-07-28T01:13:47.926136",
     "status": "completed"
    },
    "tags": []
   },
   "source": [
    "## Import Data\n",
    "\n",
    "URL: https://opendata.charlottesville.org/datasets/charlottesville::crime-data/about"
   ]
  },
  {
   "cell_type": "code",
   "execution_count": 2,
   "id": "40af47d1",
   "metadata": {
    "execution": {
     "iopub.execute_input": "2025-07-28T01:13:47.936926Z",
     "iopub.status.busy": "2025-07-28T01:13:47.936620Z",
     "iopub.status.idle": "2025-07-28T01:14:58.839413Z",
     "shell.execute_reply": "2025-07-28T01:14:58.838669Z"
    },
    "papermill": {
     "duration": 70.910921,
     "end_time": "2025-07-28T01:14:58.843626",
     "exception": false,
     "start_time": "2025-07-28T01:13:47.932705",
     "status": "completed"
    },
    "tags": []
   },
   "outputs": [
    {
     "name": "stdout",
     "output_type": "stream",
     "text": [
      "Total records imported: 25587\n"
     ]
    }
   ],
   "source": [
    "# Define the endpoint and initial parameters.\n",
    "url = \"https://gisweb.charlottesville.org/arcgis/rest/services/OpenData_2/MapServer/6/query\"\n",
    "params = {\n",
    "    \"where\": \"1=1\",\n",
    "    \"outFields\": \"*\",\n",
    "    \"outSR\": 4326,\n",
    "    \"f\": \"json\",\n",
    "    \"resultOffset\": 0,       # Starting index for results\n",
    "    \"resultRecordCount\": 10000  # Maximum records per batch (if allowed by the API)\n",
    "}\n",
    "\n",
    "records = []\n",
    "\n",
    "while True:\n",
    "    response = requests.get(url, params=params)\n",
    "    response.raise_for_status()\n",
    "    data = response.json()\n",
    "    \n",
    "    # Get the current batch of features.\n",
    "    features = data.get(\"features\", [])\n",
    "    if not features:\n",
    "        break\n",
    "\n",
    "    # Extract the attributes from the features.\n",
    "    batch_records = [feature.get(\"attributes\", {}) for feature in features]\n",
    "    records.extend(batch_records)\n",
    "    \n",
    "    # If the batch size is less than the requested count, we reached the end.\n",
    "    if len(features) < params[\"resultRecordCount\"]:\n",
    "        break\n",
    "\n",
    "    # Update the resultOffset for the next batch.\n",
    "    params[\"resultOffset\"] += params[\"resultRecordCount\"]\n",
    "\n",
    "# Create a DataFrame from the combined records.\n",
    "df = pd.DataFrame(records)\n",
    "print(\"Total records imported:\", len(df))\n"
   ]
  },
  {
   "cell_type": "code",
   "execution_count": 3,
   "id": "97283635",
   "metadata": {
    "execution": {
     "iopub.execute_input": "2025-07-28T01:14:58.851412Z",
     "iopub.status.busy": "2025-07-28T01:14:58.851207Z",
     "iopub.status.idle": "2025-07-28T01:14:58.863161Z",
     "shell.execute_reply": "2025-07-28T01:14:58.862502Z"
    },
    "papermill": {
     "duration": 0.017178,
     "end_time": "2025-07-28T01:14:58.864293",
     "exception": false,
     "start_time": "2025-07-28T01:14:58.847115",
     "status": "completed"
    },
    "tags": []
   },
   "outputs": [
    {
     "data": {
      "text/html": [
       "<div>\n",
       "<style scoped>\n",
       "    .dataframe tbody tr th:only-of-type {\n",
       "        vertical-align: middle;\n",
       "    }\n",
       "\n",
       "    .dataframe tbody tr th {\n",
       "        vertical-align: top;\n",
       "    }\n",
       "\n",
       "    .dataframe thead th {\n",
       "        text-align: right;\n",
       "    }\n",
       "</style>\n",
       "<table border=\"1\" class=\"dataframe\">\n",
       "  <thead>\n",
       "    <tr style=\"text-align: right;\">\n",
       "      <th></th>\n",
       "      <th>RecordID</th>\n",
       "      <th>Offense</th>\n",
       "      <th>IncidentID</th>\n",
       "      <th>BlockNumber</th>\n",
       "      <th>StreetName</th>\n",
       "      <th>Agency</th>\n",
       "      <th>DateReported</th>\n",
       "      <th>HourReported</th>\n",
       "      <th>ReportingOfficer</th>\n",
       "    </tr>\n",
       "  </thead>\n",
       "  <tbody>\n",
       "    <tr>\n",
       "      <th>0</th>\n",
       "      <td>1</td>\n",
       "      <td>Warrant Service</td>\n",
       "      <td>202500026262</td>\n",
       "      <td>900</td>\n",
       "      <td>EMMET ST N</td>\n",
       "      <td>CPD</td>\n",
       "      <td>1753483341000</td>\n",
       "      <td>1842</td>\n",
       "      <td>Bland, Johnnà</td>\n",
       "    </tr>\n",
       "    <tr>\n",
       "      <th>1</th>\n",
       "      <td>2</td>\n",
       "      <td>Larceny - Shoplifitng</td>\n",
       "      <td>202500026254</td>\n",
       "      <td>1100</td>\n",
       "      <td>5TH ST SW</td>\n",
       "      <td>CPD</td>\n",
       "      <td>1753480952000</td>\n",
       "      <td>1802</td>\n",
       "      <td>Reed, Danielle</td>\n",
       "    </tr>\n",
       "    <tr>\n",
       "      <th>2</th>\n",
       "      <td>3</td>\n",
       "      <td>Larceny - Theft from Building</td>\n",
       "      <td>202500026251</td>\n",
       "      <td>500</td>\n",
       "      <td>1ST ST S, 613</td>\n",
       "      <td>CPD</td>\n",
       "      <td>1753478835000</td>\n",
       "      <td>1727</td>\n",
       "      <td>Abdelgayed, Adam</td>\n",
       "    </tr>\n",
       "    <tr>\n",
       "      <th>3</th>\n",
       "      <td>4</td>\n",
       "      <td>Vandalism</td>\n",
       "      <td>202500026238</td>\n",
       "      <td>1700</td>\n",
       "      <td>JEFFERSON PARK AVE</td>\n",
       "      <td>CPD</td>\n",
       "      <td>1753473638000</td>\n",
       "      <td>1600</td>\n",
       "      <td>Turner, Devon</td>\n",
       "    </tr>\n",
       "    <tr>\n",
       "      <th>4</th>\n",
       "      <td>5</td>\n",
       "      <td>Hit and Run</td>\n",
       "      <td>202500026237</td>\n",
       "      <td></td>\n",
       "      <td>EMMET ST N @ ANGUS RD</td>\n",
       "      <td>CPD</td>\n",
       "      <td>1753472468000</td>\n",
       "      <td>1541</td>\n",
       "      <td>Hannay, Jacob</td>\n",
       "    </tr>\n",
       "  </tbody>\n",
       "</table>\n",
       "</div>"
      ],
      "text/plain": [
       "   RecordID                        Offense    IncidentID BlockNumber  \\\n",
       "0         1                Warrant Service  202500026262         900   \n",
       "1         2          Larceny - Shoplifitng  202500026254        1100   \n",
       "2         3  Larceny - Theft from Building  202500026251         500   \n",
       "3         4                      Vandalism  202500026238        1700   \n",
       "4         5                    Hit and Run  202500026237               \n",
       "\n",
       "              StreetName Agency   DateReported HourReported  ReportingOfficer  \n",
       "0             EMMET ST N    CPD  1753483341000         1842     Bland, Johnnà  \n",
       "1              5TH ST SW    CPD  1753480952000         1802    Reed, Danielle  \n",
       "2          1ST ST S, 613    CPD  1753478835000         1727  Abdelgayed, Adam  \n",
       "3     JEFFERSON PARK AVE    CPD  1753473638000         1600     Turner, Devon  \n",
       "4  EMMET ST N @ ANGUS RD    CPD  1753472468000         1541     Hannay, Jacob  "
      ]
     },
     "execution_count": 3,
     "metadata": {},
     "output_type": "execute_result"
    }
   ],
   "source": [
    "df.head()"
   ]
  },
  {
   "cell_type": "code",
   "execution_count": 4,
   "id": "215ad28f",
   "metadata": {
    "execution": {
     "iopub.execute_input": "2025-07-28T01:14:58.872172Z",
     "iopub.status.busy": "2025-07-28T01:14:58.871986Z",
     "iopub.status.idle": "2025-07-28T01:14:58.876005Z",
     "shell.execute_reply": "2025-07-28T01:14:58.875368Z"
    },
    "papermill": {
     "duration": 0.009038,
     "end_time": "2025-07-28T01:14:58.877025",
     "exception": false,
     "start_time": "2025-07-28T01:14:58.867987",
     "status": "completed"
    },
    "tags": []
   },
   "outputs": [
    {
     "data": {
      "text/plain": [
       "Index(['RecordID', 'Offense', 'IncidentID', 'BlockNumber', 'StreetName',\n",
       "       'Agency', 'DateReported', 'HourReported', 'ReportingOfficer'],\n",
       "      dtype='object')"
      ]
     },
     "execution_count": 4,
     "metadata": {},
     "output_type": "execute_result"
    }
   ],
   "source": [
    "df.columns"
   ]
  },
  {
   "cell_type": "code",
   "execution_count": 5,
   "id": "3dfba0f4",
   "metadata": {
    "execution": {
     "iopub.execute_input": "2025-07-28T01:14:58.885075Z",
     "iopub.status.busy": "2025-07-28T01:14:58.884869Z",
     "iopub.status.idle": "2025-07-28T01:14:58.904684Z",
     "shell.execute_reply": "2025-07-28T01:14:58.904127Z"
    },
    "papermill": {
     "duration": 0.024991,
     "end_time": "2025-07-28T01:14:58.905706",
     "exception": false,
     "start_time": "2025-07-28T01:14:58.880715",
     "status": "completed"
    },
    "tags": []
   },
   "outputs": [
    {
     "name": "stdout",
     "output_type": "stream",
     "text": [
      "<class 'pandas.core.frame.DataFrame'>\n",
      "RangeIndex: 25587 entries, 0 to 25586\n",
      "Data columns (total 9 columns):\n",
      " #   Column            Non-Null Count  Dtype \n",
      "---  ------            --------------  ----- \n",
      " 0   RecordID          25587 non-null  int64 \n",
      " 1   Offense           25587 non-null  object\n",
      " 2   IncidentID        25587 non-null  object\n",
      " 3   BlockNumber       25587 non-null  object\n",
      " 4   StreetName        25587 non-null  object\n",
      " 5   Agency            25587 non-null  object\n",
      " 6   DateReported      25587 non-null  int64 \n",
      " 7   HourReported      25587 non-null  object\n",
      " 8   ReportingOfficer  25570 non-null  object\n",
      "dtypes: int64(2), object(7)\n",
      "memory usage: 1.8+ MB\n"
     ]
    }
   ],
   "source": [
    "df.info()"
   ]
  },
  {
   "cell_type": "markdown",
   "id": "a8179633",
   "metadata": {
    "papermill": {
     "duration": 0.003688,
     "end_time": "2025-07-28T01:14:58.913168",
     "exception": false,
     "start_time": "2025-07-28T01:14:58.909480",
     "status": "completed"
    },
    "tags": []
   },
   "source": [
    "### Missing Values"
   ]
  },
  {
   "cell_type": "code",
   "execution_count": 6,
   "id": "c1875f88",
   "metadata": {
    "execution": {
     "iopub.execute_input": "2025-07-28T01:14:58.921255Z",
     "iopub.status.busy": "2025-07-28T01:14:58.921071Z",
     "iopub.status.idle": "2025-07-28T01:14:58.937429Z",
     "shell.execute_reply": "2025-07-28T01:14:58.936857Z"
    },
    "papermill": {
     "duration": 0.021613,
     "end_time": "2025-07-28T01:14:58.938424",
     "exception": false,
     "start_time": "2025-07-28T01:14:58.916811",
     "status": "completed"
    },
    "tags": []
   },
   "outputs": [
    {
     "name": "stdout",
     "output_type": "stream",
     "text": [
      "                  MissingCount  MissingPercentage\n",
      "RecordID                     0               0.00\n",
      "Offense                      0               0.00\n",
      "IncidentID                   0               0.00\n",
      "BlockNumber                  0               0.00\n",
      "StreetName                   0               0.00\n",
      "Agency                       0               0.00\n",
      "DateReported                 0               0.00\n",
      "HourReported                 0               0.00\n",
      "ReportingOfficer            17               0.07\n"
     ]
    }
   ],
   "source": [
    "def missing_percentage(df):\n",
    "    \"\"\"\n",
    "    Returns a DataFrame with the count and percentage of missing values for each column.\n",
    "    \n",
    "    Parameters:\n",
    "        df (pd.DataFrame): The input DataFrame.\n",
    "    \n",
    "    Returns:\n",
    "        pd.DataFrame: A DataFrame with columns 'MissingCount' and 'MissingPercentage'.\n",
    "    \"\"\"\n",
    "    total_rows = len(df)\n",
    "    missing_count = df.isnull().sum()\n",
    "    missing_percent = (missing_count / total_rows) * 100\n",
    "    \n",
    "    result = pd.DataFrame({\n",
    "        'MissingCount': missing_count,\n",
    "        'MissingPercentage': missing_percent.round(2)\n",
    "    })\n",
    "    \n",
    "    return result\n",
    "\n",
    "# Example usage:\n",
    "missing_info = missing_percentage(df)\n",
    "print(missing_info)\n"
   ]
  },
  {
   "cell_type": "markdown",
   "id": "6e3caad2",
   "metadata": {
    "papermill": {
     "duration": 0.003715,
     "end_time": "2025-07-28T01:14:58.946033",
     "exception": false,
     "start_time": "2025-07-28T01:14:58.942318",
     "status": "completed"
    },
    "tags": []
   },
   "source": [
    "## Data Preparation"
   ]
  },
  {
   "cell_type": "markdown",
   "id": "63286fab",
   "metadata": {
    "papermill": {
     "duration": 0.003848,
     "end_time": "2025-07-28T01:14:58.953727",
     "exception": false,
     "start_time": "2025-07-28T01:14:58.949879",
     "status": "completed"
    },
    "tags": []
   },
   "source": [
    "### Data Conversion"
   ]
  },
  {
   "cell_type": "code",
   "execution_count": 7,
   "id": "3a7202a5",
   "metadata": {
    "execution": {
     "iopub.execute_input": "2025-07-28T01:14:58.962171Z",
     "iopub.status.busy": "2025-07-28T01:14:58.961849Z",
     "iopub.status.idle": "2025-07-28T01:14:59.316652Z",
     "shell.execute_reply": "2025-07-28T01:14:59.316068Z"
    },
    "papermill": {
     "duration": 0.360121,
     "end_time": "2025-07-28T01:14:59.317673",
     "exception": false,
     "start_time": "2025-07-28T01:14:58.957552",
     "status": "completed"
    },
    "tags": []
   },
   "outputs": [
    {
     "data": {
      "text/html": [
       "<div>\n",
       "<style scoped>\n",
       "    .dataframe tbody tr th:only-of-type {\n",
       "        vertical-align: middle;\n",
       "    }\n",
       "\n",
       "    .dataframe tbody tr th {\n",
       "        vertical-align: top;\n",
       "    }\n",
       "\n",
       "    .dataframe thead th {\n",
       "        text-align: right;\n",
       "    }\n",
       "</style>\n",
       "<table border=\"1\" class=\"dataframe\">\n",
       "  <thead>\n",
       "    <tr style=\"text-align: right;\">\n",
       "      <th></th>\n",
       "      <th>RecordID</th>\n",
       "      <th>Offense</th>\n",
       "      <th>IncidentID</th>\n",
       "      <th>BlockNumber</th>\n",
       "      <th>StreetName</th>\n",
       "      <th>Agency</th>\n",
       "      <th>HourReported</th>\n",
       "      <th>ReportingOfficer</th>\n",
       "      <th>Date</th>\n",
       "      <th>DateString</th>\n",
       "      <th>DayOfWeek</th>\n",
       "      <th>Weekend</th>\n",
       "      <th>Season</th>\n",
       "      <th>HourAMPM</th>\n",
       "      <th>TimeOfDay</th>\n",
       "    </tr>\n",
       "  </thead>\n",
       "  <tbody>\n",
       "    <tr>\n",
       "      <th>0</th>\n",
       "      <td>1</td>\n",
       "      <td>Warrant Service</td>\n",
       "      <td>202500026262</td>\n",
       "      <td>900</td>\n",
       "      <td>EMMET ST N</td>\n",
       "      <td>CPD</td>\n",
       "      <td>1842</td>\n",
       "      <td>Bland, Johnnà</td>\n",
       "      <td>2025-07-25 18:42:21</td>\n",
       "      <td>2025-07-25 06:42:21 PM</td>\n",
       "      <td>Friday</td>\n",
       "      <td>False</td>\n",
       "      <td>Summer</td>\n",
       "      <td>06:42 PM</td>\n",
       "      <td>Evening</td>\n",
       "    </tr>\n",
       "    <tr>\n",
       "      <th>1</th>\n",
       "      <td>2</td>\n",
       "      <td>Larceny - Shoplifitng</td>\n",
       "      <td>202500026254</td>\n",
       "      <td>1100</td>\n",
       "      <td>5TH ST SW</td>\n",
       "      <td>CPD</td>\n",
       "      <td>1802</td>\n",
       "      <td>Reed, Danielle</td>\n",
       "      <td>2025-07-25 18:02:32</td>\n",
       "      <td>2025-07-25 06:02:32 PM</td>\n",
       "      <td>Friday</td>\n",
       "      <td>False</td>\n",
       "      <td>Summer</td>\n",
       "      <td>06:02 PM</td>\n",
       "      <td>Evening</td>\n",
       "    </tr>\n",
       "    <tr>\n",
       "      <th>2</th>\n",
       "      <td>3</td>\n",
       "      <td>Larceny - Theft from Building</td>\n",
       "      <td>202500026251</td>\n",
       "      <td>500</td>\n",
       "      <td>1ST ST S, 613</td>\n",
       "      <td>CPD</td>\n",
       "      <td>1727</td>\n",
       "      <td>Abdelgayed, Adam</td>\n",
       "      <td>2025-07-25 17:27:15</td>\n",
       "      <td>2025-07-25 05:27:15 PM</td>\n",
       "      <td>Friday</td>\n",
       "      <td>False</td>\n",
       "      <td>Summer</td>\n",
       "      <td>05:27 PM</td>\n",
       "      <td>Evening</td>\n",
       "    </tr>\n",
       "    <tr>\n",
       "      <th>3</th>\n",
       "      <td>4</td>\n",
       "      <td>Vandalism</td>\n",
       "      <td>202500026238</td>\n",
       "      <td>1700</td>\n",
       "      <td>JEFFERSON PARK AVE</td>\n",
       "      <td>CPD</td>\n",
       "      <td>1600</td>\n",
       "      <td>Turner, Devon</td>\n",
       "      <td>2025-07-25 16:00:38</td>\n",
       "      <td>2025-07-25 04:00:38 PM</td>\n",
       "      <td>Friday</td>\n",
       "      <td>False</td>\n",
       "      <td>Summer</td>\n",
       "      <td>04:00 PM</td>\n",
       "      <td>Afternoon</td>\n",
       "    </tr>\n",
       "    <tr>\n",
       "      <th>4</th>\n",
       "      <td>5</td>\n",
       "      <td>Hit and Run</td>\n",
       "      <td>202500026237</td>\n",
       "      <td></td>\n",
       "      <td>EMMET ST N @ ANGUS RD</td>\n",
       "      <td>CPD</td>\n",
       "      <td>1541</td>\n",
       "      <td>Hannay, Jacob</td>\n",
       "      <td>2025-07-25 15:41:08</td>\n",
       "      <td>2025-07-25 03:41:08 PM</td>\n",
       "      <td>Friday</td>\n",
       "      <td>False</td>\n",
       "      <td>Summer</td>\n",
       "      <td>03:41 PM</td>\n",
       "      <td>Afternoon</td>\n",
       "    </tr>\n",
       "  </tbody>\n",
       "</table>\n",
       "</div>"
      ],
      "text/plain": [
       "   RecordID                        Offense    IncidentID BlockNumber  \\\n",
       "0         1                Warrant Service  202500026262         900   \n",
       "1         2          Larceny - Shoplifitng  202500026254        1100   \n",
       "2         3  Larceny - Theft from Building  202500026251         500   \n",
       "3         4                      Vandalism  202500026238        1700   \n",
       "4         5                    Hit and Run  202500026237               \n",
       "\n",
       "              StreetName Agency HourReported  ReportingOfficer  \\\n",
       "0             EMMET ST N    CPD         1842     Bland, Johnnà   \n",
       "1              5TH ST SW    CPD         1802    Reed, Danielle   \n",
       "2          1ST ST S, 613    CPD         1727  Abdelgayed, Adam   \n",
       "3     JEFFERSON PARK AVE    CPD         1600     Turner, Devon   \n",
       "4  EMMET ST N @ ANGUS RD    CPD         1541     Hannay, Jacob   \n",
       "\n",
       "                 Date              DateString DayOfWeek  Weekend  Season  \\\n",
       "0 2025-07-25 18:42:21  2025-07-25 06:42:21 PM    Friday    False  Summer   \n",
       "1 2025-07-25 18:02:32  2025-07-25 06:02:32 PM    Friday    False  Summer   \n",
       "2 2025-07-25 17:27:15  2025-07-25 05:27:15 PM    Friday    False  Summer   \n",
       "3 2025-07-25 16:00:38  2025-07-25 04:00:38 PM    Friday    False  Summer   \n",
       "4 2025-07-25 15:41:08  2025-07-25 03:41:08 PM    Friday    False  Summer   \n",
       "\n",
       "   HourAMPM  TimeOfDay  \n",
       "0  06:42 PM    Evening  \n",
       "1  06:02 PM    Evening  \n",
       "2  05:27 PM    Evening  \n",
       "3  04:00 PM  Afternoon  \n",
       "4  03:41 PM  Afternoon  "
      ]
     },
     "execution_count": 7,
     "metadata": {},
     "output_type": "execute_result"
    }
   ],
   "source": [
    "def convert_and_categorize_datereported(df, col='DateReported'):\n",
    "    \"\"\"\n",
    "    Converts an epoch (in milliseconds) date column into a timezone-aware datetime,\n",
    "    converts it to Eastern Time, and then creates columns for day-of-week, weekend flag,\n",
    "    season, 12-hour formatted time, and time-of-day. Keeps both a real datetime column\n",
    "    (Date) and a string representation (DateString).\n",
    "    \"\"\"\n",
    "    import pandas as pd\n",
    "\n",
    "    # Convert the epoch timestamp to a pandas datetime object as UTC, then convert to US/Eastern.\n",
    "    df[\"DateReported_dt\"] = (\n",
    "        pd.to_datetime(df[col], unit=\"ms\", errors=\"coerce\", utc=True)\n",
    "        .dt.tz_convert(\"US/Eastern\")\n",
    "    )\n",
    "    \n",
    "    # Create a true datetime column (remove timezone if you prefer naive datetime)\n",
    "    df[\"Date\"] = df[\"DateReported_dt\"].dt.tz_localize(None)\n",
    "\n",
    "    # Optionally, create a separate string-formatted column\n",
    "    df[\"DateString\"] = df[\"DateReported_dt\"].dt.strftime(\"%Y-%m-%d %I:%M:%S %p\")\n",
    "    \n",
    "    # DayOfWeek\n",
    "    df[\"DayOfWeek\"] = df[\"DateReported_dt\"].dt.day_name()\n",
    "    \n",
    "    # Weekend\n",
    "    df[\"Weekend\"] = df[\"DayOfWeek\"].isin([\"Saturday\", \"Sunday\"])\n",
    "    \n",
    "    # Helper function to determine the season\n",
    "    def get_season(dt):\n",
    "        month = dt.month\n",
    "        day = dt.day\n",
    "        # Approximate Northern Hemisphere season boundaries:\n",
    "        if (month == 12 and day >= 21) or (month < 3) or (month == 3 and day < 20):\n",
    "            return \"Winter\"\n",
    "        elif (month == 3 and day >= 20) or (month < 6) or (month == 6 and day < 21):\n",
    "            return \"Spring\"\n",
    "        elif (month == 6 and day >= 21) or (month < 9) or (month == 9 and day < 22):\n",
    "            return \"Summer\"\n",
    "        else:\n",
    "            return \"Autumn\"\n",
    "    \n",
    "    df[\"Season\"] = df[\"DateReported_dt\"].apply(get_season)\n",
    "    \n",
    "    # 12-hour formatted time (HourAMPM)\n",
    "    df[\"HourAMPM\"] = df[\"DateReported_dt\"].dt.strftime(\"%I:%M %p\")\n",
    "    \n",
    "    # Extract hour (0-23) for time-of-day\n",
    "    df[\"HourValue\"] = df[\"DateReported_dt\"].dt.hour\n",
    "    \n",
    "    def time_of_day(hour):\n",
    "        if pd.isnull(hour):\n",
    "            return None\n",
    "        if 5 <= hour < 12:\n",
    "            return \"Morning\"\n",
    "        elif 12 <= hour < 17:\n",
    "            return \"Afternoon\"\n",
    "        elif 17 <= hour < 21:\n",
    "            return \"Evening\"\n",
    "        else:\n",
    "            return \"Night\"\n",
    "    \n",
    "    df[\"TimeOfDay\"] = df[\"HourValue\"].apply(time_of_day)\n",
    "    \n",
    "    # Drop columns you no longer need\n",
    "    df.drop(columns=[col, \"DateReported_dt\", \"HourValue\"], inplace=True)\n",
    "    \n",
    "    return df\n",
    "\n",
    "# Example usage:\n",
    "df = convert_and_categorize_datereported(df)\n",
    "df.head()\n"
   ]
  },
  {
   "cell_type": "code",
   "execution_count": 8,
   "id": "140da12f",
   "metadata": {
    "execution": {
     "iopub.execute_input": "2025-07-28T01:14:59.326829Z",
     "iopub.status.busy": "2025-07-28T01:14:59.326627Z",
     "iopub.status.idle": "2025-07-28T01:14:59.351496Z",
     "shell.execute_reply": "2025-07-28T01:14:59.350963Z"
    },
    "papermill": {
     "duration": 0.030476,
     "end_time": "2025-07-28T01:14:59.352473",
     "exception": false,
     "start_time": "2025-07-28T01:14:59.321997",
     "status": "completed"
    },
    "tags": []
   },
   "outputs": [
    {
     "name": "stdout",
     "output_type": "stream",
     "text": [
      "<class 'pandas.core.frame.DataFrame'>\n",
      "RangeIndex: 25587 entries, 0 to 25586\n",
      "Data columns (total 15 columns):\n",
      " #   Column            Non-Null Count  Dtype         \n",
      "---  ------            --------------  -----         \n",
      " 0   RecordID          25587 non-null  int64         \n",
      " 1   Offense           25587 non-null  object        \n",
      " 2   IncidentID        25587 non-null  object        \n",
      " 3   BlockNumber       25587 non-null  object        \n",
      " 4   StreetName        25587 non-null  object        \n",
      " 5   Agency            25587 non-null  object        \n",
      " 6   HourReported      25587 non-null  object        \n",
      " 7   ReportingOfficer  25570 non-null  object        \n",
      " 8   Date              25587 non-null  datetime64[ns]\n",
      " 9   DateString        25587 non-null  object        \n",
      " 10  DayOfWeek         25587 non-null  object        \n",
      " 11  Weekend           25587 non-null  bool          \n",
      " 12  Season            25587 non-null  object        \n",
      " 13  HourAMPM          25587 non-null  object        \n",
      " 14  TimeOfDay         25587 non-null  object        \n",
      "dtypes: bool(1), datetime64[ns](1), int64(1), object(12)\n",
      "memory usage: 2.8+ MB\n"
     ]
    }
   ],
   "source": [
    "df.info()"
   ]
  },
  {
   "cell_type": "markdown",
   "id": "ea021d43",
   "metadata": {
    "papermill": {
     "duration": 0.004136,
     "end_time": "2025-07-28T01:14:59.361028",
     "exception": false,
     "start_time": "2025-07-28T01:14:59.356892",
     "status": "completed"
    },
    "tags": []
   },
   "source": [
    "### Coordinates"
   ]
  },
  {
   "cell_type": "code",
   "execution_count": 9,
   "id": "1c54dff7",
   "metadata": {
    "execution": {
     "iopub.execute_input": "2025-07-28T01:14:59.369898Z",
     "iopub.status.busy": "2025-07-28T01:14:59.369707Z",
     "iopub.status.idle": "2025-07-28T01:14:59.555888Z",
     "shell.execute_reply": "2025-07-28T01:14:59.555209Z"
    },
    "papermill": {
     "duration": 0.191894,
     "end_time": "2025-07-28T01:14:59.556995",
     "exception": false,
     "start_time": "2025-07-28T01:14:59.365101",
     "status": "completed"
    },
    "tags": []
   },
   "outputs": [
    {
     "name": "stdout",
     "output_type": "stream",
     "text": [
      "Loaded geocode cache.\n",
      "Error geocoding 1100 DRUID AVE, Q: REQUEST_DENIED (You must enable Billing on the Google Cloud Project at https://console.cloud.google.com/project/_/billing/enable Learn more at https://developers.google.com/maps/gmp-get-started)\n",
      "Geocoded 1100 DRUID AVE, Q: None, None\n",
      "Error geocoding 2200 CLUBHOUSE WAY: REQUEST_DENIED (You must enable Billing on the Google Cloud Project at https://console.cloud.google.com/project/_/billing/enable Learn more at https://developers.google.com/maps/gmp-get-started)\n",
      "Geocoded 2200 CLUBHOUSE WAY: None, None\n",
      "Geocode cache updated and saved.\n"
     ]
    },
    {
     "data": {
      "text/html": [
       "<div>\n",
       "<style scoped>\n",
       "    .dataframe tbody tr th:only-of-type {\n",
       "        vertical-align: middle;\n",
       "    }\n",
       "\n",
       "    .dataframe tbody tr th {\n",
       "        vertical-align: top;\n",
       "    }\n",
       "\n",
       "    .dataframe thead th {\n",
       "        text-align: right;\n",
       "    }\n",
       "</style>\n",
       "<table border=\"1\" class=\"dataframe\">\n",
       "  <thead>\n",
       "    <tr style=\"text-align: right;\">\n",
       "      <th></th>\n",
       "      <th>RecordID</th>\n",
       "      <th>Offense</th>\n",
       "      <th>IncidentID</th>\n",
       "      <th>BlockNumber</th>\n",
       "      <th>StreetName</th>\n",
       "      <th>Agency</th>\n",
       "      <th>HourReported</th>\n",
       "      <th>ReportingOfficer</th>\n",
       "      <th>Date</th>\n",
       "      <th>DateString</th>\n",
       "      <th>DayOfWeek</th>\n",
       "      <th>Weekend</th>\n",
       "      <th>Season</th>\n",
       "      <th>HourAMPM</th>\n",
       "      <th>TimeOfDay</th>\n",
       "      <th>FullStreet</th>\n",
       "      <th>lat</th>\n",
       "      <th>lon</th>\n",
       "    </tr>\n",
       "  </thead>\n",
       "  <tbody>\n",
       "    <tr>\n",
       "      <th>0</th>\n",
       "      <td>1</td>\n",
       "      <td>Warrant Service</td>\n",
       "      <td>202500026262</td>\n",
       "      <td>900</td>\n",
       "      <td>EMMET ST N</td>\n",
       "      <td>CPD</td>\n",
       "      <td>1842</td>\n",
       "      <td>Bland, Johnnà</td>\n",
       "      <td>2025-07-25 18:42:21</td>\n",
       "      <td>2025-07-25 06:42:21 PM</td>\n",
       "      <td>Friday</td>\n",
       "      <td>False</td>\n",
       "      <td>Summer</td>\n",
       "      <td>06:42 PM</td>\n",
       "      <td>Evening</td>\n",
       "      <td>900 EMMET ST N</td>\n",
       "      <td>38.048586</td>\n",
       "      <td>-78.502983</td>\n",
       "    </tr>\n",
       "    <tr>\n",
       "      <th>1</th>\n",
       "      <td>2</td>\n",
       "      <td>Larceny - Shoplifitng</td>\n",
       "      <td>202500026254</td>\n",
       "      <td>1100</td>\n",
       "      <td>5TH ST SW</td>\n",
       "      <td>CPD</td>\n",
       "      <td>1802</td>\n",
       "      <td>Reed, Danielle</td>\n",
       "      <td>2025-07-25 18:02:32</td>\n",
       "      <td>2025-07-25 06:02:32 PM</td>\n",
       "      <td>Friday</td>\n",
       "      <td>False</td>\n",
       "      <td>Summer</td>\n",
       "      <td>06:02 PM</td>\n",
       "      <td>Evening</td>\n",
       "      <td>1100 5TH ST SW</td>\n",
       "      <td>38.017130</td>\n",
       "      <td>-78.497806</td>\n",
       "    </tr>\n",
       "    <tr>\n",
       "      <th>2</th>\n",
       "      <td>3</td>\n",
       "      <td>Larceny - Theft from Building</td>\n",
       "      <td>202500026251</td>\n",
       "      <td>500</td>\n",
       "      <td>1ST ST S, 613</td>\n",
       "      <td>CPD</td>\n",
       "      <td>1727</td>\n",
       "      <td>Abdelgayed, Adam</td>\n",
       "      <td>2025-07-25 17:27:15</td>\n",
       "      <td>2025-07-25 05:27:15 PM</td>\n",
       "      <td>Friday</td>\n",
       "      <td>False</td>\n",
       "      <td>Summer</td>\n",
       "      <td>05:27 PM</td>\n",
       "      <td>Evening</td>\n",
       "      <td>500 1ST ST S, 613</td>\n",
       "      <td>38.026939</td>\n",
       "      <td>-78.483266</td>\n",
       "    </tr>\n",
       "    <tr>\n",
       "      <th>3</th>\n",
       "      <td>4</td>\n",
       "      <td>Vandalism</td>\n",
       "      <td>202500026238</td>\n",
       "      <td>1700</td>\n",
       "      <td>JEFFERSON PARK AVE</td>\n",
       "      <td>CPD</td>\n",
       "      <td>1600</td>\n",
       "      <td>Turner, Devon</td>\n",
       "      <td>2025-07-25 16:00:38</td>\n",
       "      <td>2025-07-25 04:00:38 PM</td>\n",
       "      <td>Friday</td>\n",
       "      <td>False</td>\n",
       "      <td>Summer</td>\n",
       "      <td>04:00 PM</td>\n",
       "      <td>Afternoon</td>\n",
       "      <td>1700 JEFFERSON PARK AVE</td>\n",
       "      <td>38.030239</td>\n",
       "      <td>-78.508368</td>\n",
       "    </tr>\n",
       "    <tr>\n",
       "      <th>4</th>\n",
       "      <td>5</td>\n",
       "      <td>Hit and Run</td>\n",
       "      <td>202500026237</td>\n",
       "      <td></td>\n",
       "      <td>EMMET ST N @ ANGUS RD</td>\n",
       "      <td>CPD</td>\n",
       "      <td>1541</td>\n",
       "      <td>Hannay, Jacob</td>\n",
       "      <td>2025-07-25 15:41:08</td>\n",
       "      <td>2025-07-25 03:41:08 PM</td>\n",
       "      <td>Friday</td>\n",
       "      <td>False</td>\n",
       "      <td>Summer</td>\n",
       "      <td>03:41 PM</td>\n",
       "      <td>Afternoon</td>\n",
       "      <td>EMMET ST N @ ANGUS RD</td>\n",
       "      <td>38.058768</td>\n",
       "      <td>-78.494370</td>\n",
       "    </tr>\n",
       "  </tbody>\n",
       "</table>\n",
       "</div>"
      ],
      "text/plain": [
       "   RecordID                        Offense    IncidentID BlockNumber  \\\n",
       "0         1                Warrant Service  202500026262         900   \n",
       "1         2          Larceny - Shoplifitng  202500026254        1100   \n",
       "2         3  Larceny - Theft from Building  202500026251         500   \n",
       "3         4                      Vandalism  202500026238        1700   \n",
       "4         5                    Hit and Run  202500026237               \n",
       "\n",
       "              StreetName Agency HourReported  ReportingOfficer  \\\n",
       "0             EMMET ST N    CPD         1842     Bland, Johnnà   \n",
       "1              5TH ST SW    CPD         1802    Reed, Danielle   \n",
       "2          1ST ST S, 613    CPD         1727  Abdelgayed, Adam   \n",
       "3     JEFFERSON PARK AVE    CPD         1600     Turner, Devon   \n",
       "4  EMMET ST N @ ANGUS RD    CPD         1541     Hannay, Jacob   \n",
       "\n",
       "                 Date              DateString DayOfWeek  Weekend  Season  \\\n",
       "0 2025-07-25 18:42:21  2025-07-25 06:42:21 PM    Friday    False  Summer   \n",
       "1 2025-07-25 18:02:32  2025-07-25 06:02:32 PM    Friday    False  Summer   \n",
       "2 2025-07-25 17:27:15  2025-07-25 05:27:15 PM    Friday    False  Summer   \n",
       "3 2025-07-25 16:00:38  2025-07-25 04:00:38 PM    Friday    False  Summer   \n",
       "4 2025-07-25 15:41:08  2025-07-25 03:41:08 PM    Friday    False  Summer   \n",
       "\n",
       "   HourAMPM  TimeOfDay               FullStreet        lat        lon  \n",
       "0  06:42 PM    Evening           900 EMMET ST N  38.048586 -78.502983  \n",
       "1  06:02 PM    Evening           1100 5TH ST SW  38.017130 -78.497806  \n",
       "2  05:27 PM    Evening        500 1ST ST S, 613  38.026939 -78.483266  \n",
       "3  04:00 PM  Afternoon  1700 JEFFERSON PARK AVE  38.030239 -78.508368  \n",
       "4  03:41 PM  Afternoon    EMMET ST N @ ANGUS RD  38.058768 -78.494370  "
      ]
     },
     "execution_count": 9,
     "metadata": {},
     "output_type": "execute_result"
    }
   ],
   "source": [
    "# Combine BlockNumber and StreetName into a full address string\n",
    "df['FullStreet'] = df['BlockNumber'].astype(str) + \" \" + df['StreetName']\n",
    "\n",
    "# --- Step 1: Setup the Google Maps Client and Cache ---\n",
    "gmaps = googlemaps.Client(key=GOOGLE_API_KEY)\n",
    "\n",
    "# Try to load cached geocoding results if available.\n",
    "try:\n",
    "    with open(\"geocode_cache_google.pkl\", \"rb\") as f:\n",
    "        street_coords = pickle.load(f)\n",
    "    print(\"Loaded geocode cache.\")\n",
    "except FileNotFoundError:\n",
    "    street_coords = {}\n",
    "    print(\"No cache found; starting fresh.\")\n",
    "\n",
    "def geocode_address(address):\n",
    "    try:\n",
    "        # Append city and state to help geocoding\n",
    "        result = gmaps.geocode(f\"{address}, Charlottesville, VA\")\n",
    "        if result:\n",
    "            lat = result[0]['geometry']['location']['lat']\n",
    "            lon = result[0]['geometry']['location']['lng']\n",
    "            return lat, lon\n",
    "    except Exception as e:\n",
    "        print(f\"Error geocoding {address}: {e}\")\n",
    "    return None, None\n",
    "\n",
    "# --- Step 2: Geocode Only New Addresses ---\n",
    "unique_addresses = df['FullStreet'].unique()\n",
    "for address in unique_addresses:\n",
    "    if address not in street_coords:\n",
    "        lat, lon = geocode_address(address)\n",
    "        street_coords[address] = (lat, lon)\n",
    "        print(f\"Geocoded {address}: {lat}, {lon}\")\n",
    "\n",
    "# Save the updated cache to disk.\n",
    "with open(\"geocode_cache_google.pkl\", \"wb\") as f:\n",
    "    pickle.dump(street_coords, f)\n",
    "    print(\"Geocode cache updated and saved.\")\n",
    "\n",
    "# --- Step 3: Map Coordinates Back to DataFrame ---\n",
    "df['lat'] = df['FullStreet'].map(lambda s: street_coords.get(s, (None, None))[0])\n",
    "df['lon'] = df['FullStreet'].map(lambda s: street_coords.get(s, (None, None))[1])\n",
    "\n",
    "df.head()"
   ]
  },
  {
   "cell_type": "markdown",
   "id": "4145c46a",
   "metadata": {
    "papermill": {
     "duration": 0.004405,
     "end_time": "2025-07-28T01:14:59.566177",
     "exception": false,
     "start_time": "2025-07-28T01:14:59.561772",
     "status": "completed"
    },
    "tags": []
   },
   "source": [
    "### Neighborhood"
   ]
  },
  {
   "cell_type": "code",
   "execution_count": 10,
   "id": "64b5f20c",
   "metadata": {
    "execution": {
     "iopub.execute_input": "2025-07-28T01:14:59.575725Z",
     "iopub.status.busy": "2025-07-28T01:14:59.575538Z",
     "iopub.status.idle": "2025-07-28T01:15:01.073179Z",
     "shell.execute_reply": "2025-07-28T01:15:01.072586Z"
    },
    "papermill": {
     "duration": 1.503669,
     "end_time": "2025-07-28T01:15:01.074193",
     "exception": false,
     "start_time": "2025-07-28T01:14:59.570524",
     "status": "completed"
    },
    "tags": []
   },
   "outputs": [
    {
     "name": "stdout",
     "output_type": "stream",
     "text": [
      "Loaded neighborhood cache.\n"
     ]
    },
    {
     "name": "stdout",
     "output_type": "stream",
     "text": [
      "Error getting neighborhood for nan, nan: HTTP Error: 400\n",
      "Error getting neighborhood for nan, nan: HTTP Error: 400\n",
      "Error getting neighborhood for nan, nan: HTTP Error: 400\n",
      "Error getting neighborhood for nan, nan: HTTP Error: 400\n"
     ]
    },
    {
     "name": "stdout",
     "output_type": "stream",
     "text": [
      "Error getting neighborhood for nan, nan: HTTP Error: 400\n",
      "Error getting neighborhood for nan, nan: HTTP Error: 400\n",
      "Error getting neighborhood for nan, nan: HTTP Error: 400\n",
      "Error getting neighborhood for nan, nan: HTTP Error: 400\n"
     ]
    },
    {
     "name": "stdout",
     "output_type": "stream",
     "text": [
      "Error getting neighborhood for nan, nan: HTTP Error: 400\n",
      "Error getting neighborhood for nan, nan: HTTP Error: 400\n",
      "Error getting neighborhood for nan, nan: HTTP Error: 400\n",
      "Error getting neighborhood for nan, nan: HTTP Error: 400\n",
      "Error getting neighborhood for nan, nan: HTTP Error: 400\n"
     ]
    },
    {
     "name": "stdout",
     "output_type": "stream",
     "text": [
      "Error getting neighborhood for nan, nan: HTTP Error: 400\n",
      "Error getting neighborhood for nan, nan: HTTP Error: 400\n",
      "Error getting neighborhood for nan, nan: HTTP Error: 400\n",
      "Error getting neighborhood for nan, nan: HTTP Error: 400\n",
      "Error getting neighborhood for nan, nan: HTTP Error: 400\n",
      "Error getting neighborhood for nan, nan: HTTP Error: 400\n",
      "Error getting neighborhood for nan, nan: HTTP Error: 400\n"
     ]
    },
    {
     "name": "stdout",
     "output_type": "stream",
     "text": [
      "Error getting neighborhood for nan, nan: HTTP Error: 400\n",
      "Error getting neighborhood for nan, nan: HTTP Error: 400\n",
      "Error getting neighborhood for nan, nan: HTTP Error: 400\n",
      "Error getting neighborhood for nan, nan: HTTP Error: 400\n",
      "Error getting neighborhood for nan, nan: HTTP Error: 400\n",
      "Error getting neighborhood for nan, nan: HTTP Error: 400\n"
     ]
    },
    {
     "name": "stdout",
     "output_type": "stream",
     "text": [
      "Error getting neighborhood for nan, nan: HTTP Error: 400\n",
      "Error getting neighborhood for nan, nan: HTTP Error: 400\n",
      "Error getting neighborhood for nan, nan: HTTP Error: 400\n",
      "Error getting neighborhood for nan, nan: HTTP Error: 400\n",
      "Error getting neighborhood for nan, nan: HTTP Error: 400\n",
      "Error getting neighborhood for nan, nan: HTTP Error: 400\n",
      "Error getting neighborhood for nan, nan: HTTP Error: 400\n",
      "Error getting neighborhood for nan, nan: HTTP Error: 400\n"
     ]
    },
    {
     "name": "stdout",
     "output_type": "stream",
     "text": [
      "Error getting neighborhood for nan, nan: HTTP Error: 400\n",
      "Error getting neighborhood for nan, nan: HTTP Error: 400\n",
      "Error getting neighborhood for nan, nan: HTTP Error: 400\n",
      "Error getting neighborhood for nan, nan: HTTP Error: 400\n",
      "Error getting neighborhood for nan, nan: HTTP Error: 400\n",
      "Error getting neighborhood for nan, nan: HTTP Error: 400\n",
      "Error getting neighborhood for nan, nan: HTTP Error: 400\n"
     ]
    },
    {
     "name": "stdout",
     "output_type": "stream",
     "text": [
      "Error getting neighborhood for nan, nan: HTTP Error: 400\n",
      "Error getting neighborhood for nan, nan: HTTP Error: 400\n",
      "Error getting neighborhood for nan, nan: HTTP Error: 400\n",
      "Error getting neighborhood for nan, nan: HTTP Error: 400\n",
      "Error getting neighborhood for nan, nan: HTTP Error: 400\n",
      "Error getting neighborhood for nan, nan: HTTP Error: 400\n",
      "Error getting neighborhood for nan, nan: HTTP Error: 400\n",
      "Error getting neighborhood for nan, nan: HTTP Error: 400\n"
     ]
    },
    {
     "name": "stdout",
     "output_type": "stream",
     "text": [
      "Error getting neighborhood for nan, nan: HTTP Error: 400\n",
      "Error getting neighborhood for nan, nan: HTTP Error: 400\n",
      "Error getting neighborhood for nan, nan: HTTP Error: 400\n",
      "Error getting neighborhood for nan, nan: HTTP Error: 400\n",
      "Error getting neighborhood for nan, nan: HTTP Error: 400\n",
      "Error getting neighborhood for nan, nan: HTTP Error: 400\n"
     ]
    },
    {
     "name": "stdout",
     "output_type": "stream",
     "text": [
      "Error getting neighborhood for nan, nan: HTTP Error: 400\n",
      "Error getting neighborhood for nan, nan: HTTP Error: 400\n",
      "Error getting neighborhood for nan, nan: HTTP Error: 400\n",
      "Error getting neighborhood for nan, nan: HTTP Error: 400\n",
      "Error getting neighborhood for nan, nan: HTTP Error: 400\n",
      "Error getting neighborhood for nan, nan: HTTP Error: 400\n",
      "Error getting neighborhood for nan, nan: HTTP Error: 400\n",
      "Error getting neighborhood for nan, nan: HTTP Error: 400\n"
     ]
    },
    {
     "name": "stdout",
     "output_type": "stream",
     "text": [
      "Error getting neighborhood for nan, nan: HTTP Error: 400\n",
      "Error getting neighborhood for nan, nan: HTTP Error: 400\n",
      "Error getting neighborhood for nan, nan: HTTP Error: 400\n",
      "Error getting neighborhood for nan, nan: HTTP Error: 400\n",
      "Error getting neighborhood for nan, nan: HTTP Error: 400\n",
      "Error getting neighborhood for nan, nan: HTTP Error: 400\n",
      "Error getting neighborhood for nan, nan: HTTP Error: 400\n"
     ]
    },
    {
     "name": "stdout",
     "output_type": "stream",
     "text": [
      "Error getting neighborhood for nan, nan: HTTP Error: 400\n",
      "Error getting neighborhood for nan, nan: HTTP Error: 400\n",
      "Error getting neighborhood for nan, nan: HTTP Error: 400\n",
      "Error getting neighborhood for nan, nan: HTTP Error: 400\n"
     ]
    },
    {
     "data": {
      "text/html": [
       "<div>\n",
       "<style scoped>\n",
       "    .dataframe tbody tr th:only-of-type {\n",
       "        vertical-align: middle;\n",
       "    }\n",
       "\n",
       "    .dataframe tbody tr th {\n",
       "        vertical-align: top;\n",
       "    }\n",
       "\n",
       "    .dataframe thead th {\n",
       "        text-align: right;\n",
       "    }\n",
       "</style>\n",
       "<table border=\"1\" class=\"dataframe\">\n",
       "  <thead>\n",
       "    <tr style=\"text-align: right;\">\n",
       "      <th></th>\n",
       "      <th>RecordID</th>\n",
       "      <th>Offense</th>\n",
       "      <th>IncidentID</th>\n",
       "      <th>BlockNumber</th>\n",
       "      <th>StreetName</th>\n",
       "      <th>Agency</th>\n",
       "      <th>HourReported</th>\n",
       "      <th>ReportingOfficer</th>\n",
       "      <th>Date</th>\n",
       "      <th>DateString</th>\n",
       "      <th>DayOfWeek</th>\n",
       "      <th>Weekend</th>\n",
       "      <th>Season</th>\n",
       "      <th>HourAMPM</th>\n",
       "      <th>TimeOfDay</th>\n",
       "      <th>FullStreet</th>\n",
       "      <th>lat</th>\n",
       "      <th>lon</th>\n",
       "      <th>neighborhood</th>\n",
       "    </tr>\n",
       "  </thead>\n",
       "  <tbody>\n",
       "    <tr>\n",
       "      <th>0</th>\n",
       "      <td>1</td>\n",
       "      <td>Warrant Service</td>\n",
       "      <td>202500026262</td>\n",
       "      <td>900</td>\n",
       "      <td>EMMET ST N</td>\n",
       "      <td>CPD</td>\n",
       "      <td>1842</td>\n",
       "      <td>Bland, Johnnà</td>\n",
       "      <td>2025-07-25 18:42:21</td>\n",
       "      <td>2025-07-25 06:42:21 PM</td>\n",
       "      <td>Friday</td>\n",
       "      <td>False</td>\n",
       "      <td>Summer</td>\n",
       "      <td>06:42 PM</td>\n",
       "      <td>Evening</td>\n",
       "      <td>900 EMMET ST N</td>\n",
       "      <td>38.048586</td>\n",
       "      <td>-78.502983</td>\n",
       "      <td>Venable</td>\n",
       "    </tr>\n",
       "    <tr>\n",
       "      <th>1</th>\n",
       "      <td>2</td>\n",
       "      <td>Larceny - Shoplifitng</td>\n",
       "      <td>202500026254</td>\n",
       "      <td>1100</td>\n",
       "      <td>5TH ST SW</td>\n",
       "      <td>CPD</td>\n",
       "      <td>1802</td>\n",
       "      <td>Reed, Danielle</td>\n",
       "      <td>2025-07-25 18:02:32</td>\n",
       "      <td>2025-07-25 06:02:32 PM</td>\n",
       "      <td>Friday</td>\n",
       "      <td>False</td>\n",
       "      <td>Summer</td>\n",
       "      <td>06:02 PM</td>\n",
       "      <td>Evening</td>\n",
       "      <td>1100 5TH ST SW</td>\n",
       "      <td>38.017130</td>\n",
       "      <td>-78.497806</td>\n",
       "      <td>Johnson Village</td>\n",
       "    </tr>\n",
       "    <tr>\n",
       "      <th>2</th>\n",
       "      <td>3</td>\n",
       "      <td>Larceny - Theft from Building</td>\n",
       "      <td>202500026251</td>\n",
       "      <td>500</td>\n",
       "      <td>1ST ST S, 613</td>\n",
       "      <td>CPD</td>\n",
       "      <td>1727</td>\n",
       "      <td>Abdelgayed, Adam</td>\n",
       "      <td>2025-07-25 17:27:15</td>\n",
       "      <td>2025-07-25 05:27:15 PM</td>\n",
       "      <td>Friday</td>\n",
       "      <td>False</td>\n",
       "      <td>Summer</td>\n",
       "      <td>05:27 PM</td>\n",
       "      <td>Evening</td>\n",
       "      <td>500 1ST ST S, 613</td>\n",
       "      <td>38.026939</td>\n",
       "      <td>-78.483266</td>\n",
       "      <td>Ridge St.</td>\n",
       "    </tr>\n",
       "    <tr>\n",
       "      <th>3</th>\n",
       "      <td>4</td>\n",
       "      <td>Vandalism</td>\n",
       "      <td>202500026238</td>\n",
       "      <td>1700</td>\n",
       "      <td>JEFFERSON PARK AVE</td>\n",
       "      <td>CPD</td>\n",
       "      <td>1600</td>\n",
       "      <td>Turner, Devon</td>\n",
       "      <td>2025-07-25 16:00:38</td>\n",
       "      <td>2025-07-25 04:00:38 PM</td>\n",
       "      <td>Friday</td>\n",
       "      <td>False</td>\n",
       "      <td>Summer</td>\n",
       "      <td>04:00 PM</td>\n",
       "      <td>Afternoon</td>\n",
       "      <td>1700 JEFFERSON PARK AVE</td>\n",
       "      <td>38.030239</td>\n",
       "      <td>-78.508368</td>\n",
       "      <td>Jefferson Park Avenue</td>\n",
       "    </tr>\n",
       "    <tr>\n",
       "      <th>4</th>\n",
       "      <td>5</td>\n",
       "      <td>Hit and Run</td>\n",
       "      <td>202500026237</td>\n",
       "      <td></td>\n",
       "      <td>EMMET ST N @ ANGUS RD</td>\n",
       "      <td>CPD</td>\n",
       "      <td>1541</td>\n",
       "      <td>Hannay, Jacob</td>\n",
       "      <td>2025-07-25 15:41:08</td>\n",
       "      <td>2025-07-25 03:41:08 PM</td>\n",
       "      <td>Friday</td>\n",
       "      <td>False</td>\n",
       "      <td>Summer</td>\n",
       "      <td>03:41 PM</td>\n",
       "      <td>Afternoon</td>\n",
       "      <td>EMMET ST N @ ANGUS RD</td>\n",
       "      <td>38.058768</td>\n",
       "      <td>-78.494370</td>\n",
       "      <td>The Meadows</td>\n",
       "    </tr>\n",
       "  </tbody>\n",
       "</table>\n",
       "</div>"
      ],
      "text/plain": [
       "   RecordID                        Offense    IncidentID BlockNumber  \\\n",
       "0         1                Warrant Service  202500026262         900   \n",
       "1         2          Larceny - Shoplifitng  202500026254        1100   \n",
       "2         3  Larceny - Theft from Building  202500026251         500   \n",
       "3         4                      Vandalism  202500026238        1700   \n",
       "4         5                    Hit and Run  202500026237               \n",
       "\n",
       "              StreetName Agency HourReported  ReportingOfficer  \\\n",
       "0             EMMET ST N    CPD         1842     Bland, Johnnà   \n",
       "1              5TH ST SW    CPD         1802    Reed, Danielle   \n",
       "2          1ST ST S, 613    CPD         1727  Abdelgayed, Adam   \n",
       "3     JEFFERSON PARK AVE    CPD         1600     Turner, Devon   \n",
       "4  EMMET ST N @ ANGUS RD    CPD         1541     Hannay, Jacob   \n",
       "\n",
       "                 Date              DateString DayOfWeek  Weekend  Season  \\\n",
       "0 2025-07-25 18:42:21  2025-07-25 06:42:21 PM    Friday    False  Summer   \n",
       "1 2025-07-25 18:02:32  2025-07-25 06:02:32 PM    Friday    False  Summer   \n",
       "2 2025-07-25 17:27:15  2025-07-25 05:27:15 PM    Friday    False  Summer   \n",
       "3 2025-07-25 16:00:38  2025-07-25 04:00:38 PM    Friday    False  Summer   \n",
       "4 2025-07-25 15:41:08  2025-07-25 03:41:08 PM    Friday    False  Summer   \n",
       "\n",
       "   HourAMPM  TimeOfDay               FullStreet        lat        lon  \\\n",
       "0  06:42 PM    Evening           900 EMMET ST N  38.048586 -78.502983   \n",
       "1  06:02 PM    Evening           1100 5TH ST SW  38.017130 -78.497806   \n",
       "2  05:27 PM    Evening        500 1ST ST S, 613  38.026939 -78.483266   \n",
       "3  04:00 PM  Afternoon  1700 JEFFERSON PARK AVE  38.030239 -78.508368   \n",
       "4  03:41 PM  Afternoon    EMMET ST N @ ANGUS RD  38.058768 -78.494370   \n",
       "\n",
       "            neighborhood  \n",
       "0                Venable  \n",
       "1        Johnson Village  \n",
       "2              Ridge St.  \n",
       "3  Jefferson Park Avenue  \n",
       "4            The Meadows  "
      ]
     },
     "execution_count": 10,
     "metadata": {},
     "output_type": "execute_result"
    }
   ],
   "source": [
    "# Initialize the Google Maps client.\n",
    "gmaps = googlemaps.Client(key=GOOGLE_API_KEY)\n",
    "\n",
    "# Try to load a persistent neighborhood cache if available.\n",
    "try:\n",
    "    with open(\"neighborhood_cache.pkl\", \"rb\") as f:\n",
    "        neighborhood_cache = pickle.load(f)\n",
    "    print(\"Loaded neighborhood cache.\")\n",
    "except FileNotFoundError:\n",
    "    neighborhood_cache = {}\n",
    "    print(\"No neighborhood cache found; starting fresh.\")\n",
    "\n",
    "def get_neighborhood(lat, lon):\n",
    "    \"\"\"\n",
    "    Reverse geocodes a latitude and longitude to retrieve the neighborhood.\n",
    "    Caches results to speed up subsequent lookups.\n",
    "    \"\"\"\n",
    "    key = (lat, lon)\n",
    "    if key in neighborhood_cache:\n",
    "        return neighborhood_cache[key]\n",
    "    \n",
    "    try:\n",
    "        result = gmaps.reverse_geocode((lat, lon))\n",
    "        if result:\n",
    "            # Look for the 'neighborhood' component in the first result.\n",
    "            for component in result[0]['address_components']:\n",
    "                if 'neighborhood' in component['types']:\n",
    "                    neighborhood = component['long_name']\n",
    "                    neighborhood_cache[key] = neighborhood\n",
    "                    return neighborhood\n",
    "            # If no neighborhood is found, return \"N/A\"\n",
    "            neighborhood_cache[key] = \"N/A\"\n",
    "            return \"N/A\"\n",
    "    except Exception as e:\n",
    "        print(f\"Error getting neighborhood for {lat}, {lon}: {e}\")\n",
    "        return \"N/A\"\n",
    "    \n",
    "    # Pause to respect usage limits.\n",
    "    time.sleep(1)\n",
    "\n",
    "# Example usage: Apply to your DataFrame 'df' that already has 'lat' and 'lon' columns.\n",
    "df['neighborhood'] = df.apply(lambda row: get_neighborhood(row['lat'], row['lon']), axis=1)\n",
    "\n",
    "# Save the updated neighborhood cache.\n",
    "with open(\"neighborhood_cache.pkl\", \"wb\") as f:\n",
    "    pickle.dump(neighborhood_cache, f)\n",
    "\n",
    "df.head()\n"
   ]
  },
  {
   "cell_type": "markdown",
   "id": "95a9a952",
   "metadata": {
    "papermill": {
     "duration": 0.005249,
     "end_time": "2025-07-28T01:15:01.085076",
     "exception": false,
     "start_time": "2025-07-28T01:15:01.079827",
     "status": "completed"
    },
    "tags": []
   },
   "source": [
    "### Zip"
   ]
  },
  {
   "cell_type": "code",
   "execution_count": 11,
   "id": "0e83ec83",
   "metadata": {
    "execution": {
     "iopub.execute_input": "2025-07-28T01:15:01.096146Z",
     "iopub.status.busy": "2025-07-28T01:15:01.095867Z",
     "iopub.status.idle": "2025-07-28T01:16:15.496047Z",
     "shell.execute_reply": "2025-07-28T01:16:15.495369Z"
    },
    "papermill": {
     "duration": 74.406874,
     "end_time": "2025-07-28T01:16:15.497050",
     "exception": false,
     "start_time": "2025-07-28T01:15:01.090176",
     "status": "completed"
    },
    "tags": []
   },
   "outputs": [
    {
     "name": "stdout",
     "output_type": "stream",
     "text": [
      "Loaded zip cache.\n",
      "Error getting ZIP for nan, nan: Must be a coordinate pair or Point\n"
     ]
    },
    {
     "name": "stdout",
     "output_type": "stream",
     "text": [
      "Error getting ZIP for nan, nan: Must be a coordinate pair or Point\n"
     ]
    },
    {
     "name": "stdout",
     "output_type": "stream",
     "text": [
      "Error getting ZIP for nan, nan: Must be a coordinate pair or Point\n"
     ]
    },
    {
     "name": "stdout",
     "output_type": "stream",
     "text": [
      "Error getting ZIP for nan, nan: Must be a coordinate pair or Point\n"
     ]
    },
    {
     "name": "stdout",
     "output_type": "stream",
     "text": [
      "Error getting ZIP for nan, nan: Must be a coordinate pair or Point\n"
     ]
    },
    {
     "name": "stdout",
     "output_type": "stream",
     "text": [
      "Error getting ZIP for nan, nan: Must be a coordinate pair or Point\n"
     ]
    },
    {
     "name": "stdout",
     "output_type": "stream",
     "text": [
      "Error getting ZIP for nan, nan: Must be a coordinate pair or Point\n"
     ]
    },
    {
     "name": "stdout",
     "output_type": "stream",
     "text": [
      "Error getting ZIP for nan, nan: Must be a coordinate pair or Point\n"
     ]
    },
    {
     "name": "stdout",
     "output_type": "stream",
     "text": [
      "Error getting ZIP for nan, nan: Must be a coordinate pair or Point\n"
     ]
    },
    {
     "name": "stdout",
     "output_type": "stream",
     "text": [
      "Error getting ZIP for nan, nan: Must be a coordinate pair or Point\n"
     ]
    },
    {
     "name": "stdout",
     "output_type": "stream",
     "text": [
      "Error getting ZIP for nan, nan: Must be a coordinate pair or Point\n"
     ]
    },
    {
     "name": "stdout",
     "output_type": "stream",
     "text": [
      "Error getting ZIP for nan, nan: Must be a coordinate pair or Point\n"
     ]
    },
    {
     "name": "stdout",
     "output_type": "stream",
     "text": [
      "Error getting ZIP for nan, nan: Must be a coordinate pair or Point\n"
     ]
    },
    {
     "name": "stdout",
     "output_type": "stream",
     "text": [
      "Error getting ZIP for nan, nan: Must be a coordinate pair or Point\n"
     ]
    },
    {
     "name": "stdout",
     "output_type": "stream",
     "text": [
      "Error getting ZIP for nan, nan: Must be a coordinate pair or Point\n"
     ]
    },
    {
     "name": "stdout",
     "output_type": "stream",
     "text": [
      "Error getting ZIP for nan, nan: Must be a coordinate pair or Point\n"
     ]
    },
    {
     "name": "stdout",
     "output_type": "stream",
     "text": [
      "Error getting ZIP for nan, nan: Must be a coordinate pair or Point\n"
     ]
    },
    {
     "name": "stdout",
     "output_type": "stream",
     "text": [
      "Error getting ZIP for nan, nan: Must be a coordinate pair or Point\n"
     ]
    },
    {
     "name": "stdout",
     "output_type": "stream",
     "text": [
      "Error getting ZIP for nan, nan: Must be a coordinate pair or Point\n"
     ]
    },
    {
     "name": "stdout",
     "output_type": "stream",
     "text": [
      "Error getting ZIP for nan, nan: Must be a coordinate pair or Point\n"
     ]
    },
    {
     "name": "stdout",
     "output_type": "stream",
     "text": [
      "Error getting ZIP for nan, nan: Must be a coordinate pair or Point\n"
     ]
    },
    {
     "name": "stdout",
     "output_type": "stream",
     "text": [
      "Error getting ZIP for nan, nan: Must be a coordinate pair or Point\n"
     ]
    },
    {
     "name": "stdout",
     "output_type": "stream",
     "text": [
      "Error getting ZIP for nan, nan: Must be a coordinate pair or Point\n"
     ]
    },
    {
     "name": "stdout",
     "output_type": "stream",
     "text": [
      "Error getting ZIP for nan, nan: Must be a coordinate pair or Point\n"
     ]
    },
    {
     "name": "stdout",
     "output_type": "stream",
     "text": [
      "Error getting ZIP for nan, nan: Must be a coordinate pair or Point\n"
     ]
    },
    {
     "name": "stdout",
     "output_type": "stream",
     "text": [
      "Error getting ZIP for nan, nan: Must be a coordinate pair or Point\n"
     ]
    },
    {
     "name": "stdout",
     "output_type": "stream",
     "text": [
      "Error getting ZIP for nan, nan: Must be a coordinate pair or Point\n"
     ]
    },
    {
     "name": "stdout",
     "output_type": "stream",
     "text": [
      "Error getting ZIP for nan, nan: Must be a coordinate pair or Point\n"
     ]
    },
    {
     "name": "stdout",
     "output_type": "stream",
     "text": [
      "Error getting ZIP for nan, nan: Must be a coordinate pair or Point\n"
     ]
    },
    {
     "name": "stdout",
     "output_type": "stream",
     "text": [
      "Error getting ZIP for nan, nan: Must be a coordinate pair or Point\n"
     ]
    },
    {
     "name": "stdout",
     "output_type": "stream",
     "text": [
      "Error getting ZIP for nan, nan: Must be a coordinate pair or Point\n"
     ]
    },
    {
     "name": "stdout",
     "output_type": "stream",
     "text": [
      "Error getting ZIP for nan, nan: Must be a coordinate pair or Point\n"
     ]
    },
    {
     "name": "stdout",
     "output_type": "stream",
     "text": [
      "Error getting ZIP for nan, nan: Must be a coordinate pair or Point\n"
     ]
    },
    {
     "name": "stdout",
     "output_type": "stream",
     "text": [
      "Error getting ZIP for nan, nan: Must be a coordinate pair or Point\n"
     ]
    },
    {
     "name": "stdout",
     "output_type": "stream",
     "text": [
      "Error getting ZIP for nan, nan: Must be a coordinate pair or Point\n"
     ]
    },
    {
     "name": "stdout",
     "output_type": "stream",
     "text": [
      "Error getting ZIP for nan, nan: Must be a coordinate pair or Point\n"
     ]
    },
    {
     "name": "stdout",
     "output_type": "stream",
     "text": [
      "Error getting ZIP for nan, nan: Must be a coordinate pair or Point\n"
     ]
    },
    {
     "name": "stdout",
     "output_type": "stream",
     "text": [
      "Error getting ZIP for nan, nan: Must be a coordinate pair or Point\n"
     ]
    },
    {
     "name": "stdout",
     "output_type": "stream",
     "text": [
      "Error getting ZIP for nan, nan: Must be a coordinate pair or Point\n"
     ]
    },
    {
     "name": "stdout",
     "output_type": "stream",
     "text": [
      "Error getting ZIP for nan, nan: Must be a coordinate pair or Point\n"
     ]
    },
    {
     "name": "stdout",
     "output_type": "stream",
     "text": [
      "Error getting ZIP for nan, nan: Must be a coordinate pair or Point\n"
     ]
    },
    {
     "name": "stdout",
     "output_type": "stream",
     "text": [
      "Error getting ZIP for nan, nan: Must be a coordinate pair or Point\n"
     ]
    },
    {
     "name": "stdout",
     "output_type": "stream",
     "text": [
      "Error getting ZIP for nan, nan: Must be a coordinate pair or Point\n"
     ]
    },
    {
     "name": "stdout",
     "output_type": "stream",
     "text": [
      "Error getting ZIP for nan, nan: Must be a coordinate pair or Point\n"
     ]
    },
    {
     "name": "stdout",
     "output_type": "stream",
     "text": [
      "Error getting ZIP for nan, nan: Must be a coordinate pair or Point\n"
     ]
    },
    {
     "name": "stdout",
     "output_type": "stream",
     "text": [
      "Error getting ZIP for nan, nan: Must be a coordinate pair or Point\n"
     ]
    },
    {
     "name": "stdout",
     "output_type": "stream",
     "text": [
      "Error getting ZIP for nan, nan: Must be a coordinate pair or Point\n"
     ]
    },
    {
     "name": "stdout",
     "output_type": "stream",
     "text": [
      "Error getting ZIP for nan, nan: Must be a coordinate pair or Point\n"
     ]
    },
    {
     "name": "stdout",
     "output_type": "stream",
     "text": [
      "Error getting ZIP for nan, nan: Must be a coordinate pair or Point\n"
     ]
    },
    {
     "name": "stdout",
     "output_type": "stream",
     "text": [
      "Error getting ZIP for nan, nan: Must be a coordinate pair or Point\n"
     ]
    },
    {
     "name": "stdout",
     "output_type": "stream",
     "text": [
      "Error getting ZIP for nan, nan: Must be a coordinate pair or Point\n"
     ]
    },
    {
     "name": "stdout",
     "output_type": "stream",
     "text": [
      "Error getting ZIP for nan, nan: Must be a coordinate pair or Point\n"
     ]
    },
    {
     "name": "stdout",
     "output_type": "stream",
     "text": [
      "Error getting ZIP for nan, nan: Must be a coordinate pair or Point\n"
     ]
    },
    {
     "name": "stdout",
     "output_type": "stream",
     "text": [
      "Error getting ZIP for nan, nan: Must be a coordinate pair or Point\n"
     ]
    },
    {
     "name": "stdout",
     "output_type": "stream",
     "text": [
      "Error getting ZIP for nan, nan: Must be a coordinate pair or Point\n"
     ]
    },
    {
     "name": "stdout",
     "output_type": "stream",
     "text": [
      "Error getting ZIP for nan, nan: Must be a coordinate pair or Point\n"
     ]
    },
    {
     "name": "stdout",
     "output_type": "stream",
     "text": [
      "Error getting ZIP for nan, nan: Must be a coordinate pair or Point\n"
     ]
    },
    {
     "name": "stdout",
     "output_type": "stream",
     "text": [
      "Error getting ZIP for nan, nan: Must be a coordinate pair or Point\n"
     ]
    },
    {
     "name": "stdout",
     "output_type": "stream",
     "text": [
      "Error getting ZIP for nan, nan: Must be a coordinate pair or Point\n"
     ]
    },
    {
     "name": "stdout",
     "output_type": "stream",
     "text": [
      "Error getting ZIP for nan, nan: Must be a coordinate pair or Point\n"
     ]
    },
    {
     "name": "stdout",
     "output_type": "stream",
     "text": [
      "Error getting ZIP for nan, nan: Must be a coordinate pair or Point\n"
     ]
    },
    {
     "name": "stdout",
     "output_type": "stream",
     "text": [
      "Error getting ZIP for nan, nan: Must be a coordinate pair or Point\n"
     ]
    },
    {
     "name": "stdout",
     "output_type": "stream",
     "text": [
      "Error getting ZIP for nan, nan: Must be a coordinate pair or Point\n"
     ]
    },
    {
     "name": "stdout",
     "output_type": "stream",
     "text": [
      "Error getting ZIP for nan, nan: Must be a coordinate pair or Point\n"
     ]
    },
    {
     "name": "stdout",
     "output_type": "stream",
     "text": [
      "Error getting ZIP for nan, nan: Must be a coordinate pair or Point\n"
     ]
    },
    {
     "name": "stdout",
     "output_type": "stream",
     "text": [
      "Error getting ZIP for nan, nan: Must be a coordinate pair or Point\n"
     ]
    },
    {
     "name": "stdout",
     "output_type": "stream",
     "text": [
      "Error getting ZIP for nan, nan: Must be a coordinate pair or Point\n"
     ]
    },
    {
     "name": "stdout",
     "output_type": "stream",
     "text": [
      "Error getting ZIP for nan, nan: Must be a coordinate pair or Point\n"
     ]
    },
    {
     "name": "stdout",
     "output_type": "stream",
     "text": [
      "Error getting ZIP for nan, nan: Must be a coordinate pair or Point\n"
     ]
    },
    {
     "name": "stdout",
     "output_type": "stream",
     "text": [
      "Error getting ZIP for nan, nan: Must be a coordinate pair or Point\n"
     ]
    },
    {
     "name": "stdout",
     "output_type": "stream",
     "text": [
      "Error getting ZIP for nan, nan: Must be a coordinate pair or Point\n"
     ]
    },
    {
     "name": "stdout",
     "output_type": "stream",
     "text": [
      "Error getting ZIP for nan, nan: Must be a coordinate pair or Point\n"
     ]
    },
    {
     "name": "stdout",
     "output_type": "stream",
     "text": [
      "Error getting ZIP for nan, nan: Must be a coordinate pair or Point\n"
     ]
    },
    {
     "name": "stdout",
     "output_type": "stream",
     "text": [
      "Error getting ZIP for nan, nan: Must be a coordinate pair or Point\n"
     ]
    },
    {
     "data": {
      "text/html": [
       "<div>\n",
       "<style scoped>\n",
       "    .dataframe tbody tr th:only-of-type {\n",
       "        vertical-align: middle;\n",
       "    }\n",
       "\n",
       "    .dataframe tbody tr th {\n",
       "        vertical-align: top;\n",
       "    }\n",
       "\n",
       "    .dataframe thead th {\n",
       "        text-align: right;\n",
       "    }\n",
       "</style>\n",
       "<table border=\"1\" class=\"dataframe\">\n",
       "  <thead>\n",
       "    <tr style=\"text-align: right;\">\n",
       "      <th></th>\n",
       "      <th>RecordID</th>\n",
       "      <th>Offense</th>\n",
       "      <th>IncidentID</th>\n",
       "      <th>BlockNumber</th>\n",
       "      <th>StreetName</th>\n",
       "      <th>Agency</th>\n",
       "      <th>HourReported</th>\n",
       "      <th>ReportingOfficer</th>\n",
       "      <th>Date</th>\n",
       "      <th>DateString</th>\n",
       "      <th>DayOfWeek</th>\n",
       "      <th>Weekend</th>\n",
       "      <th>Season</th>\n",
       "      <th>HourAMPM</th>\n",
       "      <th>TimeOfDay</th>\n",
       "      <th>FullStreet</th>\n",
       "      <th>lat</th>\n",
       "      <th>lon</th>\n",
       "      <th>neighborhood</th>\n",
       "      <th>zip</th>\n",
       "    </tr>\n",
       "  </thead>\n",
       "  <tbody>\n",
       "    <tr>\n",
       "      <th>0</th>\n",
       "      <td>1</td>\n",
       "      <td>Warrant Service</td>\n",
       "      <td>202500026262</td>\n",
       "      <td>900</td>\n",
       "      <td>EMMET ST N</td>\n",
       "      <td>CPD</td>\n",
       "      <td>1842</td>\n",
       "      <td>Bland, Johnnà</td>\n",
       "      <td>2025-07-25 18:42:21</td>\n",
       "      <td>2025-07-25 06:42:21 PM</td>\n",
       "      <td>Friday</td>\n",
       "      <td>False</td>\n",
       "      <td>Summer</td>\n",
       "      <td>06:42 PM</td>\n",
       "      <td>Evening</td>\n",
       "      <td>900 EMMET ST N</td>\n",
       "      <td>38.048586</td>\n",
       "      <td>-78.502983</td>\n",
       "      <td>Venable</td>\n",
       "      <td>22903</td>\n",
       "    </tr>\n",
       "    <tr>\n",
       "      <th>1</th>\n",
       "      <td>2</td>\n",
       "      <td>Larceny - Shoplifitng</td>\n",
       "      <td>202500026254</td>\n",
       "      <td>1100</td>\n",
       "      <td>5TH ST SW</td>\n",
       "      <td>CPD</td>\n",
       "      <td>1802</td>\n",
       "      <td>Reed, Danielle</td>\n",
       "      <td>2025-07-25 18:02:32</td>\n",
       "      <td>2025-07-25 06:02:32 PM</td>\n",
       "      <td>Friday</td>\n",
       "      <td>False</td>\n",
       "      <td>Summer</td>\n",
       "      <td>06:02 PM</td>\n",
       "      <td>Evening</td>\n",
       "      <td>1100 5TH ST SW</td>\n",
       "      <td>38.017130</td>\n",
       "      <td>-78.497806</td>\n",
       "      <td>Johnson Village</td>\n",
       "      <td>22903</td>\n",
       "    </tr>\n",
       "    <tr>\n",
       "      <th>2</th>\n",
       "      <td>3</td>\n",
       "      <td>Larceny - Theft from Building</td>\n",
       "      <td>202500026251</td>\n",
       "      <td>500</td>\n",
       "      <td>1ST ST S, 613</td>\n",
       "      <td>CPD</td>\n",
       "      <td>1727</td>\n",
       "      <td>Abdelgayed, Adam</td>\n",
       "      <td>2025-07-25 17:27:15</td>\n",
       "      <td>2025-07-25 05:27:15 PM</td>\n",
       "      <td>Friday</td>\n",
       "      <td>False</td>\n",
       "      <td>Summer</td>\n",
       "      <td>05:27 PM</td>\n",
       "      <td>Evening</td>\n",
       "      <td>500 1ST ST S, 613</td>\n",
       "      <td>38.026939</td>\n",
       "      <td>-78.483266</td>\n",
       "      <td>Ridge St.</td>\n",
       "      <td>22903</td>\n",
       "    </tr>\n",
       "    <tr>\n",
       "      <th>3</th>\n",
       "      <td>4</td>\n",
       "      <td>Vandalism</td>\n",
       "      <td>202500026238</td>\n",
       "      <td>1700</td>\n",
       "      <td>JEFFERSON PARK AVE</td>\n",
       "      <td>CPD</td>\n",
       "      <td>1600</td>\n",
       "      <td>Turner, Devon</td>\n",
       "      <td>2025-07-25 16:00:38</td>\n",
       "      <td>2025-07-25 04:00:38 PM</td>\n",
       "      <td>Friday</td>\n",
       "      <td>False</td>\n",
       "      <td>Summer</td>\n",
       "      <td>04:00 PM</td>\n",
       "      <td>Afternoon</td>\n",
       "      <td>1700 JEFFERSON PARK AVE</td>\n",
       "      <td>38.030239</td>\n",
       "      <td>-78.508368</td>\n",
       "      <td>Jefferson Park Avenue</td>\n",
       "      <td>22903</td>\n",
       "    </tr>\n",
       "    <tr>\n",
       "      <th>4</th>\n",
       "      <td>5</td>\n",
       "      <td>Hit and Run</td>\n",
       "      <td>202500026237</td>\n",
       "      <td></td>\n",
       "      <td>EMMET ST N @ ANGUS RD</td>\n",
       "      <td>CPD</td>\n",
       "      <td>1541</td>\n",
       "      <td>Hannay, Jacob</td>\n",
       "      <td>2025-07-25 15:41:08</td>\n",
       "      <td>2025-07-25 03:41:08 PM</td>\n",
       "      <td>Friday</td>\n",
       "      <td>False</td>\n",
       "      <td>Summer</td>\n",
       "      <td>03:41 PM</td>\n",
       "      <td>Afternoon</td>\n",
       "      <td>EMMET ST N @ ANGUS RD</td>\n",
       "      <td>38.058768</td>\n",
       "      <td>-78.494370</td>\n",
       "      <td>The Meadows</td>\n",
       "      <td>22901</td>\n",
       "    </tr>\n",
       "  </tbody>\n",
       "</table>\n",
       "</div>"
      ],
      "text/plain": [
       "   RecordID                        Offense    IncidentID BlockNumber  \\\n",
       "0         1                Warrant Service  202500026262         900   \n",
       "1         2          Larceny - Shoplifitng  202500026254        1100   \n",
       "2         3  Larceny - Theft from Building  202500026251         500   \n",
       "3         4                      Vandalism  202500026238        1700   \n",
       "4         5                    Hit and Run  202500026237               \n",
       "\n",
       "              StreetName Agency HourReported  ReportingOfficer  \\\n",
       "0             EMMET ST N    CPD         1842     Bland, Johnnà   \n",
       "1              5TH ST SW    CPD         1802    Reed, Danielle   \n",
       "2          1ST ST S, 613    CPD         1727  Abdelgayed, Adam   \n",
       "3     JEFFERSON PARK AVE    CPD         1600     Turner, Devon   \n",
       "4  EMMET ST N @ ANGUS RD    CPD         1541     Hannay, Jacob   \n",
       "\n",
       "                 Date              DateString DayOfWeek  Weekend  Season  \\\n",
       "0 2025-07-25 18:42:21  2025-07-25 06:42:21 PM    Friday    False  Summer   \n",
       "1 2025-07-25 18:02:32  2025-07-25 06:02:32 PM    Friday    False  Summer   \n",
       "2 2025-07-25 17:27:15  2025-07-25 05:27:15 PM    Friday    False  Summer   \n",
       "3 2025-07-25 16:00:38  2025-07-25 04:00:38 PM    Friday    False  Summer   \n",
       "4 2025-07-25 15:41:08  2025-07-25 03:41:08 PM    Friday    False  Summer   \n",
       "\n",
       "   HourAMPM  TimeOfDay               FullStreet        lat        lon  \\\n",
       "0  06:42 PM    Evening           900 EMMET ST N  38.048586 -78.502983   \n",
       "1  06:02 PM    Evening           1100 5TH ST SW  38.017130 -78.497806   \n",
       "2  05:27 PM    Evening        500 1ST ST S, 613  38.026939 -78.483266   \n",
       "3  04:00 PM  Afternoon  1700 JEFFERSON PARK AVE  38.030239 -78.508368   \n",
       "4  03:41 PM  Afternoon    EMMET ST N @ ANGUS RD  38.058768 -78.494370   \n",
       "\n",
       "            neighborhood    zip  \n",
       "0                Venable  22903  \n",
       "1        Johnson Village  22903  \n",
       "2              Ridge St.  22903  \n",
       "3  Jefferson Park Avenue  22903  \n",
       "4            The Meadows  22901  "
      ]
     },
     "execution_count": 11,
     "metadata": {},
     "output_type": "execute_result"
    }
   ],
   "source": [
    "# Initialize the geocoder.\n",
    "geolocator = Nominatim(user_agent=\"zip_lookup\")\n",
    "\n",
    "# Try to load a persistent ZIP cache if available.\n",
    "try:\n",
    "    with open(\"zip_cache.pkl\", \"rb\") as f:\n",
    "        zip_cache = pickle.load(f)\n",
    "    print(\"Loaded zip cache.\")\n",
    "except FileNotFoundError:\n",
    "    zip_cache = {}\n",
    "    print(\"No zip cache found; starting fresh.\")\n",
    "\n",
    "def get_zip(lat, lon):\n",
    "    \"\"\"\n",
    "    Reverse geocodes a latitude and longitude to retrieve the ZIP code.\n",
    "    Caches results to speed up subsequent lookups.\n",
    "    \"\"\"\n",
    "    key = (lat, lon)\n",
    "    if key in zip_cache:\n",
    "        return zip_cache[key]\n",
    "    \n",
    "    try:\n",
    "        location = geolocator.reverse((lat, lon), exactly_one=True, timeout=10)\n",
    "        address = location.raw.get('address', {})\n",
    "        postal_code = address.get('postcode', \"N/A\")\n",
    "    except Exception as e:\n",
    "        print(f\"Error getting ZIP for {lat}, {lon}: {e}\")\n",
    "        postal_code = \"N/A\"\n",
    "    \n",
    "    zip_cache[key] = postal_code\n",
    "    # Pause to respect the usage policy.\n",
    "    time.sleep(1)\n",
    "    return postal_code\n",
    "\n",
    "# Apply the function to each row in the DataFrame.\n",
    "df['zip'] = df.apply(lambda row: get_zip(row['lat'], row['lon']), axis=1)\n",
    "\n",
    "# Save the updated ZIP cache.\n",
    "with open(\"zip_cache.pkl\", \"wb\") as f:\n",
    "    pickle.dump(zip_cache, f)\n",
    "\n",
    "df.head()\n"
   ]
  },
  {
   "cell_type": "code",
   "execution_count": 12,
   "id": "e6f9b4e6",
   "metadata": {
    "execution": {
     "iopub.execute_input": "2025-07-28T01:16:15.515332Z",
     "iopub.status.busy": "2025-07-28T01:16:15.515135Z",
     "iopub.status.idle": "2025-07-28T01:16:15.541929Z",
     "shell.execute_reply": "2025-07-28T01:16:15.541289Z"
    },
    "papermill": {
     "duration": 0.036945,
     "end_time": "2025-07-28T01:16:15.542934",
     "exception": false,
     "start_time": "2025-07-28T01:16:15.505989",
     "status": "completed"
    },
    "tags": []
   },
   "outputs": [
    {
     "name": "stdout",
     "output_type": "stream",
     "text": [
      "                  MissingCount  MissingPercentage\n",
      "RecordID                     0               0.00\n",
      "Offense                      0               0.00\n",
      "IncidentID                   0               0.00\n",
      "BlockNumber                  0               0.00\n",
      "StreetName                   0               0.00\n",
      "Agency                       0               0.00\n",
      "HourReported                 0               0.00\n",
      "ReportingOfficer            17               0.07\n",
      "Date                         0               0.00\n",
      "DateString                   0               0.00\n",
      "DayOfWeek                    0               0.00\n",
      "Weekend                      0               0.00\n",
      "Season                       0               0.00\n",
      "HourAMPM                     0               0.00\n",
      "TimeOfDay                    0               0.00\n",
      "FullStreet                   0               0.00\n",
      "lat                         74               0.29\n",
      "lon                         74               0.29\n",
      "neighborhood                 0               0.00\n",
      "zip                          0               0.00\n"
     ]
    }
   ],
   "source": [
    "missing_info = missing_percentage(df)\n",
    "print(missing_info)\n"
   ]
  },
  {
   "cell_type": "code",
   "execution_count": 13,
   "id": "48d344e0",
   "metadata": {
    "execution": {
     "iopub.execute_input": "2025-07-28T01:16:15.560999Z",
     "iopub.status.busy": "2025-07-28T01:16:15.560789Z",
     "iopub.status.idle": "2025-07-28T01:16:15.586388Z",
     "shell.execute_reply": "2025-07-28T01:16:15.585835Z"
    },
    "papermill": {
     "duration": 0.035595,
     "end_time": "2025-07-28T01:16:15.587348",
     "exception": false,
     "start_time": "2025-07-28T01:16:15.551753",
     "status": "completed"
    },
    "tags": []
   },
   "outputs": [
    {
     "name": "stdout",
     "output_type": "stream",
     "text": [
      "<class 'pandas.core.frame.DataFrame'>\n",
      "RangeIndex: 25587 entries, 0 to 25586\n",
      "Data columns (total 20 columns):\n",
      " #   Column            Non-Null Count  Dtype         \n",
      "---  ------            --------------  -----         \n",
      " 0   RecordID          25587 non-null  int64         \n",
      " 1   Offense           25587 non-null  object        \n",
      " 2   IncidentID        25587 non-null  object        \n",
      " 3   BlockNumber       25587 non-null  object        \n",
      " 4   StreetName        25587 non-null  object        \n",
      " 5   Agency            25587 non-null  object        \n",
      " 6   HourReported      25587 non-null  object        \n",
      " 7   ReportingOfficer  25570 non-null  object        \n",
      " 8   Date              25587 non-null  datetime64[ns]\n",
      " 9   DateString        25587 non-null  object        \n",
      " 10  DayOfWeek         25587 non-null  object        \n",
      " 11  Weekend           25587 non-null  bool          \n",
      " 12  Season            25587 non-null  object        \n",
      " 13  HourAMPM          25587 non-null  object        \n",
      " 14  TimeOfDay         25587 non-null  object        \n",
      " 15  FullStreet        25587 non-null  object        \n",
      " 16  lat               25513 non-null  float64       \n",
      " 17  lon               25513 non-null  float64       \n",
      " 18  neighborhood      25587 non-null  object        \n",
      " 19  zip               25587 non-null  object        \n",
      "dtypes: bool(1), datetime64[ns](1), float64(2), int64(1), object(15)\n",
      "memory usage: 3.7+ MB\n"
     ]
    }
   ],
   "source": [
    "df.info()"
   ]
  },
  {
   "cell_type": "code",
   "execution_count": 14,
   "id": "72d48e38",
   "metadata": {
    "execution": {
     "iopub.execute_input": "2025-07-28T01:16:15.605547Z",
     "iopub.status.busy": "2025-07-28T01:16:15.605363Z",
     "iopub.status.idle": "2025-07-28T01:16:15.644979Z",
     "shell.execute_reply": "2025-07-28T01:16:15.644291Z"
    },
    "papermill": {
     "duration": 0.0498,
     "end_time": "2025-07-28T01:16:15.646064",
     "exception": false,
     "start_time": "2025-07-28T01:16:15.596264",
     "status": "completed"
    },
    "tags": []
   },
   "outputs": [
    {
     "data": {
      "text/html": [
       "<div>\n",
       "<style scoped>\n",
       "    .dataframe tbody tr th:only-of-type {\n",
       "        vertical-align: middle;\n",
       "    }\n",
       "\n",
       "    .dataframe tbody tr th {\n",
       "        vertical-align: top;\n",
       "    }\n",
       "\n",
       "    .dataframe thead th {\n",
       "        text-align: right;\n",
       "    }\n",
       "</style>\n",
       "<table border=\"1\" class=\"dataframe\">\n",
       "  <thead>\n",
       "    <tr style=\"text-align: right;\">\n",
       "      <th></th>\n",
       "      <th>RecordID</th>\n",
       "      <th>Offense</th>\n",
       "      <th>IncidentID</th>\n",
       "      <th>Agency</th>\n",
       "      <th>ReportingOfficer</th>\n",
       "      <th>Date</th>\n",
       "      <th>DayOfWeek</th>\n",
       "      <th>Weekend</th>\n",
       "      <th>Season</th>\n",
       "      <th>TimeOfDay</th>\n",
       "      <th>FullStreet</th>\n",
       "      <th>lat</th>\n",
       "      <th>lon</th>\n",
       "      <th>neighborhood</th>\n",
       "      <th>zip</th>\n",
       "    </tr>\n",
       "  </thead>\n",
       "  <tbody>\n",
       "    <tr>\n",
       "      <th>0</th>\n",
       "      <td>1</td>\n",
       "      <td>Warrant Service</td>\n",
       "      <td>202500026262</td>\n",
       "      <td>CPD</td>\n",
       "      <td>Bland, Johnnà</td>\n",
       "      <td>2025-07-25 18:42:21</td>\n",
       "      <td>Friday</td>\n",
       "      <td>False</td>\n",
       "      <td>Summer</td>\n",
       "      <td>Evening</td>\n",
       "      <td>900 EMMET ST N</td>\n",
       "      <td>38.048586</td>\n",
       "      <td>-78.502983</td>\n",
       "      <td>Venable</td>\n",
       "      <td>22903</td>\n",
       "    </tr>\n",
       "    <tr>\n",
       "      <th>1</th>\n",
       "      <td>2</td>\n",
       "      <td>Larceny - Shoplifitng</td>\n",
       "      <td>202500026254</td>\n",
       "      <td>CPD</td>\n",
       "      <td>Reed, Danielle</td>\n",
       "      <td>2025-07-25 18:02:32</td>\n",
       "      <td>Friday</td>\n",
       "      <td>False</td>\n",
       "      <td>Summer</td>\n",
       "      <td>Evening</td>\n",
       "      <td>1100 5TH ST SW</td>\n",
       "      <td>38.01713</td>\n",
       "      <td>-78.497806</td>\n",
       "      <td>Johnson Village</td>\n",
       "      <td>22903</td>\n",
       "    </tr>\n",
       "    <tr>\n",
       "      <th>2</th>\n",
       "      <td>3</td>\n",
       "      <td>Larceny - Theft from Building</td>\n",
       "      <td>202500026251</td>\n",
       "      <td>CPD</td>\n",
       "      <td>Abdelgayed, Adam</td>\n",
       "      <td>2025-07-25 17:27:15</td>\n",
       "      <td>Friday</td>\n",
       "      <td>False</td>\n",
       "      <td>Summer</td>\n",
       "      <td>Evening</td>\n",
       "      <td>500 1ST ST S, 613</td>\n",
       "      <td>38.026939</td>\n",
       "      <td>-78.483266</td>\n",
       "      <td>Ridge St.</td>\n",
       "      <td>22903</td>\n",
       "    </tr>\n",
       "    <tr>\n",
       "      <th>3</th>\n",
       "      <td>4</td>\n",
       "      <td>Vandalism</td>\n",
       "      <td>202500026238</td>\n",
       "      <td>CPD</td>\n",
       "      <td>Turner, Devon</td>\n",
       "      <td>2025-07-25 16:00:38</td>\n",
       "      <td>Friday</td>\n",
       "      <td>False</td>\n",
       "      <td>Summer</td>\n",
       "      <td>Afternoon</td>\n",
       "      <td>1700 JEFFERSON PARK AVE</td>\n",
       "      <td>38.030239</td>\n",
       "      <td>-78.508368</td>\n",
       "      <td>Jefferson Park Avenue</td>\n",
       "      <td>22903</td>\n",
       "    </tr>\n",
       "    <tr>\n",
       "      <th>4</th>\n",
       "      <td>5</td>\n",
       "      <td>Hit and Run</td>\n",
       "      <td>202500026237</td>\n",
       "      <td>CPD</td>\n",
       "      <td>Hannay, Jacob</td>\n",
       "      <td>2025-07-25 15:41:08</td>\n",
       "      <td>Friday</td>\n",
       "      <td>False</td>\n",
       "      <td>Summer</td>\n",
       "      <td>Afternoon</td>\n",
       "      <td>EMMET ST N @ ANGUS RD</td>\n",
       "      <td>38.058768</td>\n",
       "      <td>-78.49437</td>\n",
       "      <td>The Meadows</td>\n",
       "      <td>22901</td>\n",
       "    </tr>\n",
       "  </tbody>\n",
       "</table>\n",
       "</div>"
      ],
      "text/plain": [
       "   RecordID                        Offense    IncidentID Agency  \\\n",
       "0         1                Warrant Service  202500026262    CPD   \n",
       "1         2          Larceny - Shoplifitng  202500026254    CPD   \n",
       "2         3  Larceny - Theft from Building  202500026251    CPD   \n",
       "3         4                      Vandalism  202500026238    CPD   \n",
       "4         5                    Hit and Run  202500026237    CPD   \n",
       "\n",
       "   ReportingOfficer                Date DayOfWeek  Weekend  Season  TimeOfDay  \\\n",
       "0     Bland, Johnnà 2025-07-25 18:42:21    Friday    False  Summer    Evening   \n",
       "1    Reed, Danielle 2025-07-25 18:02:32    Friday    False  Summer    Evening   \n",
       "2  Abdelgayed, Adam 2025-07-25 17:27:15    Friday    False  Summer    Evening   \n",
       "3     Turner, Devon 2025-07-25 16:00:38    Friday    False  Summer  Afternoon   \n",
       "4     Hannay, Jacob 2025-07-25 15:41:08    Friday    False  Summer  Afternoon   \n",
       "\n",
       "                FullStreet        lat        lon           neighborhood    zip  \n",
       "0           900 EMMET ST N  38.048586 -78.502983                Venable  22903  \n",
       "1           1100 5TH ST SW   38.01713 -78.497806        Johnson Village  22903  \n",
       "2        500 1ST ST S, 613  38.026939 -78.483266              Ridge St.  22903  \n",
       "3  1700 JEFFERSON PARK AVE  38.030239 -78.508368  Jefferson Park Avenue  22903  \n",
       "4    EMMET ST N @ ANGUS RD  38.058768  -78.49437            The Meadows  22901  "
      ]
     },
     "execution_count": 14,
     "metadata": {},
     "output_type": "execute_result"
    }
   ],
   "source": [
    "# Now drop the original BlockNumber and StreetName columns\n",
    "df.drop(columns=['BlockNumber', 'StreetName','HourAMPM','HourReported','DateString'], inplace=True)\n",
    "df[\"zip\"] = df[\"zip\"].astype(str)\n",
    "\n",
    "# Fill all missing values in the DataFrame with \"N/A\"\n",
    "df.replace({None: \"N/A\", np.nan: \"N/A\", \"\": \"N/A\"}, inplace=True)\n",
    "df.head()"
   ]
  },
  {
   "cell_type": "code",
   "execution_count": 15,
   "id": "ebd3bbbc",
   "metadata": {
    "execution": {
     "iopub.execute_input": "2025-07-28T01:16:15.665239Z",
     "iopub.status.busy": "2025-07-28T01:16:15.665042Z",
     "iopub.status.idle": "2025-07-28T01:16:15.680915Z",
     "shell.execute_reply": "2025-07-28T01:16:15.680407Z"
    },
    "papermill": {
     "duration": 0.026383,
     "end_time": "2025-07-28T01:16:15.681930",
     "exception": false,
     "start_time": "2025-07-28T01:16:15.655547",
     "status": "completed"
    },
    "tags": []
   },
   "outputs": [
    {
     "name": "stdout",
     "output_type": "stream",
     "text": [
      "                  MissingCount  MissingPercentage\n",
      "RecordID                     0                0.0\n",
      "Offense                      0                0.0\n",
      "IncidentID                   0                0.0\n",
      "Agency                       0                0.0\n",
      "ReportingOfficer             0                0.0\n",
      "Date                         0                0.0\n",
      "DayOfWeek                    0                0.0\n",
      "Weekend                      0                0.0\n",
      "Season                       0                0.0\n",
      "TimeOfDay                    0                0.0\n",
      "FullStreet                   0                0.0\n",
      "lat                          0                0.0\n",
      "lon                          0                0.0\n",
      "neighborhood                 0                0.0\n",
      "zip                          0                0.0\n"
     ]
    }
   ],
   "source": [
    "missing_info = missing_percentage(df)\n",
    "print(missing_info)"
   ]
  },
  {
   "cell_type": "code",
   "execution_count": 16,
   "id": "2691f512",
   "metadata": {
    "execution": {
     "iopub.execute_input": "2025-07-28T01:16:15.700548Z",
     "iopub.status.busy": "2025-07-28T01:16:15.700360Z",
     "iopub.status.idle": "2025-07-28T01:16:15.704456Z",
     "shell.execute_reply": "2025-07-28T01:16:15.703798Z"
    },
    "papermill": {
     "duration": 0.014476,
     "end_time": "2025-07-28T01:16:15.705476",
     "exception": false,
     "start_time": "2025-07-28T01:16:15.691000",
     "status": "completed"
    },
    "tags": []
   },
   "outputs": [
    {
     "data": {
      "text/plain": [
       "Index(['RecordID', 'Offense', 'IncidentID', 'Agency', 'ReportingOfficer',\n",
       "       'Date', 'DayOfWeek', 'Weekend', 'Season', 'TimeOfDay', 'FullStreet',\n",
       "       'lat', 'lon', 'neighborhood', 'zip'],\n",
       "      dtype='object')"
      ]
     },
     "execution_count": 16,
     "metadata": {},
     "output_type": "execute_result"
    }
   ],
   "source": [
    "df.columns"
   ]
  },
  {
   "cell_type": "code",
   "execution_count": 17,
   "id": "02ee5d58",
   "metadata": {
    "execution": {
     "iopub.execute_input": "2025-07-28T01:16:15.724258Z",
     "iopub.status.busy": "2025-07-28T01:16:15.724047Z",
     "iopub.status.idle": "2025-07-28T01:16:15.741396Z",
     "shell.execute_reply": "2025-07-28T01:16:15.740746Z"
    },
    "papermill": {
     "duration": 0.027923,
     "end_time": "2025-07-28T01:16:15.742444",
     "exception": false,
     "start_time": "2025-07-28T01:16:15.714521",
     "status": "completed"
    },
    "tags": []
   },
   "outputs": [
    {
     "name": "stdout",
     "output_type": "stream",
     "text": [
      "<class 'pandas.core.frame.DataFrame'>\n",
      "RangeIndex: 25587 entries, 0 to 25586\n",
      "Data columns (total 15 columns):\n",
      " #   Column            Non-Null Count  Dtype         \n",
      "---  ------            --------------  -----         \n",
      " 0   RecordID          25587 non-null  int64         \n",
      " 1   Offense           25587 non-null  object        \n",
      " 2   IncidentID        25587 non-null  object        \n",
      " 3   Agency            25587 non-null  object        \n",
      " 4   ReportingOfficer  25587 non-null  object        \n",
      " 5   Date              25587 non-null  datetime64[ns]\n",
      " 6   DayOfWeek         25587 non-null  object        \n",
      " 7   Weekend           25587 non-null  bool          \n",
      " 8   Season            25587 non-null  object        \n",
      " 9   TimeOfDay         25587 non-null  object        \n",
      " 10  FullStreet        25587 non-null  object        \n",
      " 11  lat               25587 non-null  object        \n",
      " 12  lon               25587 non-null  object        \n",
      " 13  neighborhood      25587 non-null  object        \n",
      " 14  zip               25587 non-null  object        \n",
      "dtypes: bool(1), datetime64[ns](1), int64(1), object(12)\n",
      "memory usage: 2.8+ MB\n"
     ]
    }
   ],
   "source": [
    "df.info()"
   ]
  },
  {
   "cell_type": "markdown",
   "id": "9719b977",
   "metadata": {
    "papermill": {
     "duration": 0.009073,
     "end_time": "2025-07-28T01:16:15.760697",
     "exception": false,
     "start_time": "2025-07-28T01:16:15.751624",
     "status": "completed"
    },
    "tags": []
   },
   "source": [
    "### Export Clean Data"
   ]
  },
  {
   "cell_type": "code",
   "execution_count": 18,
   "id": "7782afe7",
   "metadata": {
    "execution": {
     "iopub.execute_input": "2025-07-28T01:16:15.779986Z",
     "iopub.status.busy": "2025-07-28T01:16:15.779788Z",
     "iopub.status.idle": "2025-07-28T01:16:24.773658Z",
     "shell.execute_reply": "2025-07-28T01:16:24.772996Z"
    },
    "papermill": {
     "duration": 9.00473,
     "end_time": "2025-07-28T01:16:24.774645",
     "exception": false,
     "start_time": "2025-07-28T01:16:15.769915",
     "status": "completed"
    },
    "tags": []
   },
   "outputs": [
    {
     "name": "stdout",
     "output_type": "stream",
     "text": [
      "Project Root: /home/runner/work/crime-data/crime-data\n"
     ]
    },
    {
     "name": "stdout",
     "output_type": "stream",
     "text": [
      "Data saved to: /home/runner/work/crime-data/crime-data/data/charlottesville_crime_incidents.csv\n"
     ]
    },
    {
     "name": "stdout",
     "output_type": "stream",
     "text": [
      "Excel saved to: /home/runner/work/crime-data/crime-data/data/charlottesville_crime_incidents.xlsx\n"
     ]
    }
   ],
   "source": [
    "# Determine the project root (assuming papermill is run from the repository root)\n",
    "project_root = os.getcwd()\n",
    "print(\"Project Root:\", project_root)\n",
    "\n",
    "# Set the data directory within the project root\n",
    "data_dir = os.path.join(project_root, \"data\")\n",
    "\n",
    "# Ensure the \"data\" directory exists (create it if it doesn't)\n",
    "if not os.path.exists(data_dir):\n",
    "    os.makedirs(data_dir)\n",
    "\n",
    "# Export the DataFrame to CSV in the \"data\" folder located in the project root\n",
    "csv_path = os.path.join(data_dir, \"charlottesville_crime_incidents.csv\")\n",
    "df.to_csv(csv_path, index=False)\n",
    "print(\"Data saved to:\", csv_path)\n",
    "\n",
    "# Construct the path to your Excel file\n",
    "excel_path = os.path.join(data_dir, \"charlottesville_crime_incidents.xlsx\")\n",
    "\n",
    "# Export the DataFrame to Excel\n",
    "df.to_excel(excel_path, index=False)\n",
    "print(\"Excel saved to:\", excel_path)\n"
   ]
  }
 ],
 "metadata": {
  "kernelspec": {
   "display_name": "Python 3",
   "language": "python",
   "name": "python3"
  },
  "language_info": {
   "codemirror_mode": {
    "name": "ipython",
    "version": 3
   },
   "file_extension": ".py",
   "mimetype": "text/x-python",
   "name": "python",
   "nbconvert_exporter": "python",
   "pygments_lexer": "ipython3",
   "version": "3.9.23"
  },
  "papermill": {
   "default_parameters": {},
   "duration": 158.760037,
   "end_time": "2025-07-28T01:16:25.200775",
   "environment_variables": {},
   "exception": null,
   "input_path": "notebook/Crime Data.ipynb",
   "output_path": "notebook/Crime Data_output.ipynb",
   "parameters": {},
   "start_time": "2025-07-28T01:13:46.440738",
   "version": "2.6.0"
  }
 },
 "nbformat": 4,
 "nbformat_minor": 5
}