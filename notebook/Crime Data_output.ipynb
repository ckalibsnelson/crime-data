{
 "cells": [
  {
   "cell_type": "markdown",
   "id": "7d4f89db",
   "metadata": {
    "papermill": {
     "duration": 0.00425,
     "end_time": "2025-07-07T01:09:33.119593",
     "exception": false,
     "start_time": "2025-07-07T01:09:33.115343",
     "status": "completed"
    },
    "tags": []
   },
   "source": [
    "# Charlottesville Open Data Porttal: Crime Data"
   ]
  },
  {
   "cell_type": "markdown",
   "id": "f4ae98eb",
   "metadata": {
    "papermill": {
     "duration": 0.003268,
     "end_time": "2025-07-07T01:09:33.126444",
     "exception": false,
     "start_time": "2025-07-07T01:09:33.123176",
     "status": "completed"
    },
    "tags": []
   },
   "source": [
    "## Import Relevant Librarires & Set WD"
   ]
  },
  {
   "cell_type": "code",
   "execution_count": 1,
   "id": "e78be853",
   "metadata": {
    "execution": {
     "iopub.execute_input": "2025-07-07T01:09:33.134424Z",
     "iopub.status.busy": "2025-07-07T01:09:33.133897Z",
     "iopub.status.idle": "2025-07-07T01:09:33.688760Z",
     "shell.execute_reply": "2025-07-07T01:09:33.688145Z"
    },
    "papermill": {
     "duration": 0.560398,
     "end_time": "2025-07-07T01:09:33.690073",
     "exception": false,
     "start_time": "2025-07-07T01:09:33.129675",
     "status": "completed"
    },
    "tags": []
   },
   "outputs": [],
   "source": [
    "import requests\n",
    "import pandas as pd\n",
    "import numpy as np\n",
    "import pickle\n",
    "import googlemaps\n",
    "import plotly.express as px\n",
    "from geopy.geocoders import Nominatim\n",
    "import time\n",
    "from dotenv import load_dotenv\n",
    "import os\n",
    "\n",
    "env_path = os.path.join(\"..\", \".env\")\n",
    "#print(\"Looking for .env file at:\", os.path.abspath(env_path))\n",
    "load_dotenv(dotenv_path=env_path)\n",
    "\n",
    "# Retrieve the variables\n",
    "GOOGLE_API_KEY = os.getenv(\"GOOGLE_API_KEY\")\n",
    "WORKING_DIR = os.getenv(\"WORKING_DIR\")\n",
    "\n",
    "if GOOGLE_API_KEY is None or WORKING_DIR is None:\n",
    "    raise RuntimeError(\"No configuration found. Please ensure that your .env file exists with the required variables, or create a local config.py file.\")\n",
    "\n",
    "#print(\"Google API Key:\", GOOGLE_API_KEY)\n",
    "#print(\"Working Directory:\", WORKING_DIR)"
   ]
  },
  {
   "cell_type": "markdown",
   "id": "b81c2ffc",
   "metadata": {
    "papermill": {
     "duration": 0.003267,
     "end_time": "2025-07-07T01:09:33.697010",
     "exception": false,
     "start_time": "2025-07-07T01:09:33.693743",
     "status": "completed"
    },
    "tags": []
   },
   "source": [
    "## Import Data\n",
    "\n",
    "URL: https://opendata.charlottesville.org/datasets/charlottesville::crime-data/about"
   ]
  },
  {
   "cell_type": "code",
   "execution_count": 2,
   "id": "548ce219",
   "metadata": {
    "execution": {
     "iopub.execute_input": "2025-07-07T01:09:33.704639Z",
     "iopub.status.busy": "2025-07-07T01:09:33.704132Z",
     "iopub.status.idle": "2025-07-07T01:10:42.181041Z",
     "shell.execute_reply": "2025-07-07T01:10:42.180274Z"
    },
    "papermill": {
     "duration": 68.485164,
     "end_time": "2025-07-07T01:10:42.185475",
     "exception": false,
     "start_time": "2025-07-07T01:09:33.700311",
     "status": "completed"
    },
    "tags": []
   },
   "outputs": [
    {
     "name": "stdout",
     "output_type": "stream",
     "text": [
      "Total records imported: 25536\n"
     ]
    }
   ],
   "source": [
    "# Define the endpoint and initial parameters.\n",
    "url = \"https://gisweb.charlottesville.org/arcgis/rest/services/OpenData_2/MapServer/6/query\"\n",
    "params = {\n",
    "    \"where\": \"1=1\",\n",
    "    \"outFields\": \"*\",\n",
    "    \"outSR\": 4326,\n",
    "    \"f\": \"json\",\n",
    "    \"resultOffset\": 0,       # Starting index for results\n",
    "    \"resultRecordCount\": 10000  # Maximum records per batch (if allowed by the API)\n",
    "}\n",
    "\n",
    "records = []\n",
    "\n",
    "while True:\n",
    "    response = requests.get(url, params=params)\n",
    "    response.raise_for_status()\n",
    "    data = response.json()\n",
    "    \n",
    "    # Get the current batch of features.\n",
    "    features = data.get(\"features\", [])\n",
    "    if not features:\n",
    "        break\n",
    "\n",
    "    # Extract the attributes from the features.\n",
    "    batch_records = [feature.get(\"attributes\", {}) for feature in features]\n",
    "    records.extend(batch_records)\n",
    "    \n",
    "    # If the batch size is less than the requested count, we reached the end.\n",
    "    if len(features) < params[\"resultRecordCount\"]:\n",
    "        break\n",
    "\n",
    "    # Update the resultOffset for the next batch.\n",
    "    params[\"resultOffset\"] += params[\"resultRecordCount\"]\n",
    "\n",
    "# Create a DataFrame from the combined records.\n",
    "df = pd.DataFrame(records)\n",
    "print(\"Total records imported:\", len(df))\n"
   ]
  },
  {
   "cell_type": "code",
   "execution_count": 3,
   "id": "a283af3c",
   "metadata": {
    "execution": {
     "iopub.execute_input": "2025-07-07T01:10:42.193393Z",
     "iopub.status.busy": "2025-07-07T01:10:42.192979Z",
     "iopub.status.idle": "2025-07-07T01:10:42.205400Z",
     "shell.execute_reply": "2025-07-07T01:10:42.204760Z"
    },
    "papermill": {
     "duration": 0.017465,
     "end_time": "2025-07-07T01:10:42.206429",
     "exception": false,
     "start_time": "2025-07-07T01:10:42.188964",
     "status": "completed"
    },
    "tags": []
   },
   "outputs": [
    {
     "data": {
      "text/html": [
       "<div>\n",
       "<style scoped>\n",
       "    .dataframe tbody tr th:only-of-type {\n",
       "        vertical-align: middle;\n",
       "    }\n",
       "\n",
       "    .dataframe tbody tr th {\n",
       "        vertical-align: top;\n",
       "    }\n",
       "\n",
       "    .dataframe thead th {\n",
       "        text-align: right;\n",
       "    }\n",
       "</style>\n",
       "<table border=\"1\" class=\"dataframe\">\n",
       "  <thead>\n",
       "    <tr style=\"text-align: right;\">\n",
       "      <th></th>\n",
       "      <th>RecordID</th>\n",
       "      <th>Offense</th>\n",
       "      <th>IncidentID</th>\n",
       "      <th>BlockNumber</th>\n",
       "      <th>StreetName</th>\n",
       "      <th>Agency</th>\n",
       "      <th>DateReported</th>\n",
       "      <th>HourReported</th>\n",
       "      <th>ReportingOfficer</th>\n",
       "    </tr>\n",
       "  </thead>\n",
       "  <tbody>\n",
       "    <tr>\n",
       "      <th>0</th>\n",
       "      <td>1</td>\n",
       "      <td>Disorderly Conduct</td>\n",
       "      <td>202500023162</td>\n",
       "      <td>1000</td>\n",
       "      <td>PRESTON AVE</td>\n",
       "      <td>CPD</td>\n",
       "      <td>1751673453000</td>\n",
       "      <td>1957</td>\n",
       "      <td>Hudson, Jesse</td>\n",
       "    </tr>\n",
       "    <tr>\n",
       "      <th>1</th>\n",
       "      <td>2</td>\n",
       "      <td>Larceny - All Other</td>\n",
       "      <td>202500023147</td>\n",
       "      <td>1000</td>\n",
       "      <td>E MARKET ST, 1-6</td>\n",
       "      <td>CPD</td>\n",
       "      <td>1751666188000</td>\n",
       "      <td>1756</td>\n",
       "      <td>Bentz, Benjamin</td>\n",
       "    </tr>\n",
       "    <tr>\n",
       "      <th>2</th>\n",
       "      <td>3</td>\n",
       "      <td>Larceny - All Other</td>\n",
       "      <td>202500023127</td>\n",
       "      <td>2100</td>\n",
       "      <td>ARLINGTON BLVD, 509</td>\n",
       "      <td>CPD</td>\n",
       "      <td>1751655943000</td>\n",
       "      <td>1505</td>\n",
       "      <td>Hudson, Jesse</td>\n",
       "    </tr>\n",
       "    <tr>\n",
       "      <th>3</th>\n",
       "      <td>4</td>\n",
       "      <td>Larceny - From Motor Vehicle</td>\n",
       "      <td>202500023126</td>\n",
       "      <td>1000</td>\n",
       "      <td>WERTLAND ST, 404</td>\n",
       "      <td>CPD</td>\n",
       "      <td>1751652820000</td>\n",
       "      <td>1413</td>\n",
       "      <td>Prevost, Payten</td>\n",
       "    </tr>\n",
       "    <tr>\n",
       "      <th>4</th>\n",
       "      <td>5</td>\n",
       "      <td>Assist Citizen - Mental/TDO/ECO</td>\n",
       "      <td>202500023110</td>\n",
       "      <td>1200</td>\n",
       "      <td>CARLTON AVE</td>\n",
       "      <td>CPD</td>\n",
       "      <td>1751643682000</td>\n",
       "      <td>1141</td>\n",
       "      <td>Turner, Devon</td>\n",
       "    </tr>\n",
       "  </tbody>\n",
       "</table>\n",
       "</div>"
      ],
      "text/plain": [
       "   RecordID                          Offense    IncidentID BlockNumber  \\\n",
       "0         1               Disorderly Conduct  202500023162        1000   \n",
       "1         2              Larceny - All Other  202500023147        1000   \n",
       "2         3              Larceny - All Other  202500023127        2100   \n",
       "3         4     Larceny - From Motor Vehicle  202500023126        1000   \n",
       "4         5  Assist Citizen - Mental/TDO/ECO  202500023110        1200   \n",
       "\n",
       "            StreetName Agency   DateReported HourReported  ReportingOfficer  \n",
       "0          PRESTON AVE    CPD  1751673453000         1957     Hudson, Jesse  \n",
       "1     E MARKET ST, 1-6    CPD  1751666188000         1756  Bentz, Benjamin   \n",
       "2  ARLINGTON BLVD, 509    CPD  1751655943000         1505     Hudson, Jesse  \n",
       "3     WERTLAND ST, 404    CPD  1751652820000         1413   Prevost, Payten  \n",
       "4          CARLTON AVE    CPD  1751643682000         1141     Turner, Devon  "
      ]
     },
     "execution_count": 3,
     "metadata": {},
     "output_type": "execute_result"
    }
   ],
   "source": [
    "df.head()"
   ]
  },
  {
   "cell_type": "code",
   "execution_count": 4,
   "id": "fc5e11cd",
   "metadata": {
    "execution": {
     "iopub.execute_input": "2025-07-07T01:10:42.214646Z",
     "iopub.status.busy": "2025-07-07T01:10:42.214191Z",
     "iopub.status.idle": "2025-07-07T01:10:42.218656Z",
     "shell.execute_reply": "2025-07-07T01:10:42.218090Z"
    },
    "papermill": {
     "duration": 0.009724,
     "end_time": "2025-07-07T01:10:42.219744",
     "exception": false,
     "start_time": "2025-07-07T01:10:42.210020",
     "status": "completed"
    },
    "tags": []
   },
   "outputs": [
    {
     "data": {
      "text/plain": [
       "Index(['RecordID', 'Offense', 'IncidentID', 'BlockNumber', 'StreetName',\n",
       "       'Agency', 'DateReported', 'HourReported', 'ReportingOfficer'],\n",
       "      dtype='object')"
      ]
     },
     "execution_count": 4,
     "metadata": {},
     "output_type": "execute_result"
    }
   ],
   "source": [
    "df.columns"
   ]
  },
  {
   "cell_type": "code",
   "execution_count": 5,
   "id": "ba75ecf5",
   "metadata": {
    "execution": {
     "iopub.execute_input": "2025-07-07T01:10:42.228630Z",
     "iopub.status.busy": "2025-07-07T01:10:42.228214Z",
     "iopub.status.idle": "2025-07-07T01:10:42.250281Z",
     "shell.execute_reply": "2025-07-07T01:10:42.249649Z"
    },
    "papermill": {
     "duration": 0.027916,
     "end_time": "2025-07-07T01:10:42.251382",
     "exception": false,
     "start_time": "2025-07-07T01:10:42.223466",
     "status": "completed"
    },
    "tags": []
   },
   "outputs": [
    {
     "name": "stdout",
     "output_type": "stream",
     "text": [
      "<class 'pandas.core.frame.DataFrame'>\n",
      "RangeIndex: 25536 entries, 0 to 25535\n",
      "Data columns (total 9 columns):\n",
      " #   Column            Non-Null Count  Dtype \n",
      "---  ------            --------------  ----- \n",
      " 0   RecordID          25536 non-null  int64 \n",
      " 1   Offense           25536 non-null  object\n",
      " 2   IncidentID        25536 non-null  object\n",
      " 3   BlockNumber       25536 non-null  object\n",
      " 4   StreetName        25536 non-null  object\n",
      " 5   Agency            25536 non-null  object\n",
      " 6   DateReported      25536 non-null  int64 \n",
      " 7   HourReported      25536 non-null  object\n",
      " 8   ReportingOfficer  25519 non-null  object\n",
      "dtypes: int64(2), object(7)\n",
      "memory usage: 1.8+ MB\n"
     ]
    }
   ],
   "source": [
    "df.info()"
   ]
  },
  {
   "cell_type": "markdown",
   "id": "6fbe90a0",
   "metadata": {
    "papermill": {
     "duration": 0.00369,
     "end_time": "2025-07-07T01:10:42.258947",
     "exception": false,
     "start_time": "2025-07-07T01:10:42.255257",
     "status": "completed"
    },
    "tags": []
   },
   "source": [
    "### Missing Values"
   ]
  },
  {
   "cell_type": "code",
   "execution_count": 6,
   "id": "69caa9b4",
   "metadata": {
    "execution": {
     "iopub.execute_input": "2025-07-07T01:10:42.290005Z",
     "iopub.status.busy": "2025-07-07T01:10:42.289481Z",
     "iopub.status.idle": "2025-07-07T01:10:42.312059Z",
     "shell.execute_reply": "2025-07-07T01:10:42.311527Z"
    },
    "papermill": {
     "duration": 0.028292,
     "end_time": "2025-07-07T01:10:42.313106",
     "exception": false,
     "start_time": "2025-07-07T01:10:42.284814",
     "status": "completed"
    },
    "tags": []
   },
   "outputs": [
    {
     "name": "stdout",
     "output_type": "stream",
     "text": [
      "                  MissingCount  MissingPercentage\n",
      "RecordID                     0               0.00\n",
      "Offense                      0               0.00\n",
      "IncidentID                   0               0.00\n",
      "BlockNumber                  0               0.00\n",
      "StreetName                   0               0.00\n",
      "Agency                       0               0.00\n",
      "DateReported                 0               0.00\n",
      "HourReported                 0               0.00\n",
      "ReportingOfficer            17               0.07\n"
     ]
    }
   ],
   "source": [
    "def missing_percentage(df):\n",
    "    \"\"\"\n",
    "    Returns a DataFrame with the count and percentage of missing values for each column.\n",
    "    \n",
    "    Parameters:\n",
    "        df (pd.DataFrame): The input DataFrame.\n",
    "    \n",
    "    Returns:\n",
    "        pd.DataFrame: A DataFrame with columns 'MissingCount' and 'MissingPercentage'.\n",
    "    \"\"\"\n",
    "    total_rows = len(df)\n",
    "    missing_count = df.isnull().sum()\n",
    "    missing_percent = (missing_count / total_rows) * 100\n",
    "    \n",
    "    result = pd.DataFrame({\n",
    "        'MissingCount': missing_count,\n",
    "        'MissingPercentage': missing_percent.round(2)\n",
    "    })\n",
    "    \n",
    "    return result\n",
    "\n",
    "# Example usage:\n",
    "missing_info = missing_percentage(df)\n",
    "print(missing_info)\n"
   ]
  },
  {
   "cell_type": "markdown",
   "id": "2493f351",
   "metadata": {
    "papermill": {
     "duration": 0.003968,
     "end_time": "2025-07-07T01:10:42.321223",
     "exception": false,
     "start_time": "2025-07-07T01:10:42.317255",
     "status": "completed"
    },
    "tags": []
   },
   "source": [
    "## Data Preparation"
   ]
  },
  {
   "cell_type": "markdown",
   "id": "790dddfa",
   "metadata": {
    "papermill": {
     "duration": 0.003703,
     "end_time": "2025-07-07T01:10:42.328676",
     "exception": false,
     "start_time": "2025-07-07T01:10:42.324973",
     "status": "completed"
    },
    "tags": []
   },
   "source": [
    "### Data Conversion"
   ]
  },
  {
   "cell_type": "code",
   "execution_count": 7,
   "id": "d2c5df65",
   "metadata": {
    "execution": {
     "iopub.execute_input": "2025-07-07T01:10:42.337410Z",
     "iopub.status.busy": "2025-07-07T01:10:42.336924Z",
     "iopub.status.idle": "2025-07-07T01:10:42.695872Z",
     "shell.execute_reply": "2025-07-07T01:10:42.695268Z"
    },
    "papermill": {
     "duration": 0.364494,
     "end_time": "2025-07-07T01:10:42.696981",
     "exception": false,
     "start_time": "2025-07-07T01:10:42.332487",
     "status": "completed"
    },
    "tags": []
   },
   "outputs": [
    {
     "data": {
      "text/html": [
       "<div>\n",
       "<style scoped>\n",
       "    .dataframe tbody tr th:only-of-type {\n",
       "        vertical-align: middle;\n",
       "    }\n",
       "\n",
       "    .dataframe tbody tr th {\n",
       "        vertical-align: top;\n",
       "    }\n",
       "\n",
       "    .dataframe thead th {\n",
       "        text-align: right;\n",
       "    }\n",
       "</style>\n",
       "<table border=\"1\" class=\"dataframe\">\n",
       "  <thead>\n",
       "    <tr style=\"text-align: right;\">\n",
       "      <th></th>\n",
       "      <th>RecordID</th>\n",
       "      <th>Offense</th>\n",
       "      <th>IncidentID</th>\n",
       "      <th>BlockNumber</th>\n",
       "      <th>StreetName</th>\n",
       "      <th>Agency</th>\n",
       "      <th>HourReported</th>\n",
       "      <th>ReportingOfficer</th>\n",
       "      <th>Date</th>\n",
       "      <th>DateString</th>\n",
       "      <th>DayOfWeek</th>\n",
       "      <th>Weekend</th>\n",
       "      <th>Season</th>\n",
       "      <th>HourAMPM</th>\n",
       "      <th>TimeOfDay</th>\n",
       "    </tr>\n",
       "  </thead>\n",
       "  <tbody>\n",
       "    <tr>\n",
       "      <th>0</th>\n",
       "      <td>1</td>\n",
       "      <td>Disorderly Conduct</td>\n",
       "      <td>202500023162</td>\n",
       "      <td>1000</td>\n",
       "      <td>PRESTON AVE</td>\n",
       "      <td>CPD</td>\n",
       "      <td>1957</td>\n",
       "      <td>Hudson, Jesse</td>\n",
       "      <td>2025-07-04 19:57:33</td>\n",
       "      <td>2025-07-04 07:57:33 PM</td>\n",
       "      <td>Friday</td>\n",
       "      <td>False</td>\n",
       "      <td>Summer</td>\n",
       "      <td>07:57 PM</td>\n",
       "      <td>Evening</td>\n",
       "    </tr>\n",
       "    <tr>\n",
       "      <th>1</th>\n",
       "      <td>2</td>\n",
       "      <td>Larceny - All Other</td>\n",
       "      <td>202500023147</td>\n",
       "      <td>1000</td>\n",
       "      <td>E MARKET ST, 1-6</td>\n",
       "      <td>CPD</td>\n",
       "      <td>1756</td>\n",
       "      <td>Bentz, Benjamin</td>\n",
       "      <td>2025-07-04 17:56:28</td>\n",
       "      <td>2025-07-04 05:56:28 PM</td>\n",
       "      <td>Friday</td>\n",
       "      <td>False</td>\n",
       "      <td>Summer</td>\n",
       "      <td>05:56 PM</td>\n",
       "      <td>Evening</td>\n",
       "    </tr>\n",
       "    <tr>\n",
       "      <th>2</th>\n",
       "      <td>3</td>\n",
       "      <td>Larceny - All Other</td>\n",
       "      <td>202500023127</td>\n",
       "      <td>2100</td>\n",
       "      <td>ARLINGTON BLVD, 509</td>\n",
       "      <td>CPD</td>\n",
       "      <td>1505</td>\n",
       "      <td>Hudson, Jesse</td>\n",
       "      <td>2025-07-04 15:05:43</td>\n",
       "      <td>2025-07-04 03:05:43 PM</td>\n",
       "      <td>Friday</td>\n",
       "      <td>False</td>\n",
       "      <td>Summer</td>\n",
       "      <td>03:05 PM</td>\n",
       "      <td>Afternoon</td>\n",
       "    </tr>\n",
       "    <tr>\n",
       "      <th>3</th>\n",
       "      <td>4</td>\n",
       "      <td>Larceny - From Motor Vehicle</td>\n",
       "      <td>202500023126</td>\n",
       "      <td>1000</td>\n",
       "      <td>WERTLAND ST, 404</td>\n",
       "      <td>CPD</td>\n",
       "      <td>1413</td>\n",
       "      <td>Prevost, Payten</td>\n",
       "      <td>2025-07-04 14:13:40</td>\n",
       "      <td>2025-07-04 02:13:40 PM</td>\n",
       "      <td>Friday</td>\n",
       "      <td>False</td>\n",
       "      <td>Summer</td>\n",
       "      <td>02:13 PM</td>\n",
       "      <td>Afternoon</td>\n",
       "    </tr>\n",
       "    <tr>\n",
       "      <th>4</th>\n",
       "      <td>5</td>\n",
       "      <td>Assist Citizen - Mental/TDO/ECO</td>\n",
       "      <td>202500023110</td>\n",
       "      <td>1200</td>\n",
       "      <td>CARLTON AVE</td>\n",
       "      <td>CPD</td>\n",
       "      <td>1141</td>\n",
       "      <td>Turner, Devon</td>\n",
       "      <td>2025-07-04 11:41:22</td>\n",
       "      <td>2025-07-04 11:41:22 AM</td>\n",
       "      <td>Friday</td>\n",
       "      <td>False</td>\n",
       "      <td>Summer</td>\n",
       "      <td>11:41 AM</td>\n",
       "      <td>Morning</td>\n",
       "    </tr>\n",
       "  </tbody>\n",
       "</table>\n",
       "</div>"
      ],
      "text/plain": [
       "   RecordID                          Offense    IncidentID BlockNumber  \\\n",
       "0         1               Disorderly Conduct  202500023162        1000   \n",
       "1         2              Larceny - All Other  202500023147        1000   \n",
       "2         3              Larceny - All Other  202500023127        2100   \n",
       "3         4     Larceny - From Motor Vehicle  202500023126        1000   \n",
       "4         5  Assist Citizen - Mental/TDO/ECO  202500023110        1200   \n",
       "\n",
       "            StreetName Agency HourReported  ReportingOfficer  \\\n",
       "0          PRESTON AVE    CPD         1957     Hudson, Jesse   \n",
       "1     E MARKET ST, 1-6    CPD         1756  Bentz, Benjamin    \n",
       "2  ARLINGTON BLVD, 509    CPD         1505     Hudson, Jesse   \n",
       "3     WERTLAND ST, 404    CPD         1413   Prevost, Payten   \n",
       "4          CARLTON AVE    CPD         1141     Turner, Devon   \n",
       "\n",
       "                 Date              DateString DayOfWeek  Weekend  Season  \\\n",
       "0 2025-07-04 19:57:33  2025-07-04 07:57:33 PM    Friday    False  Summer   \n",
       "1 2025-07-04 17:56:28  2025-07-04 05:56:28 PM    Friday    False  Summer   \n",
       "2 2025-07-04 15:05:43  2025-07-04 03:05:43 PM    Friday    False  Summer   \n",
       "3 2025-07-04 14:13:40  2025-07-04 02:13:40 PM    Friday    False  Summer   \n",
       "4 2025-07-04 11:41:22  2025-07-04 11:41:22 AM    Friday    False  Summer   \n",
       "\n",
       "   HourAMPM  TimeOfDay  \n",
       "0  07:57 PM    Evening  \n",
       "1  05:56 PM    Evening  \n",
       "2  03:05 PM  Afternoon  \n",
       "3  02:13 PM  Afternoon  \n",
       "4  11:41 AM    Morning  "
      ]
     },
     "execution_count": 7,
     "metadata": {},
     "output_type": "execute_result"
    }
   ],
   "source": [
    "def convert_and_categorize_datereported(df, col='DateReported'):\n",
    "    \"\"\"\n",
    "    Converts an epoch (in milliseconds) date column into a timezone-aware datetime,\n",
    "    converts it to Eastern Time, and then creates columns for day-of-week, weekend flag,\n",
    "    season, 12-hour formatted time, and time-of-day. Keeps both a real datetime column\n",
    "    (Date) and a string representation (DateString).\n",
    "    \"\"\"\n",
    "    import pandas as pd\n",
    "\n",
    "    # Convert the epoch timestamp to a pandas datetime object as UTC, then convert to US/Eastern.\n",
    "    df[\"DateReported_dt\"] = (\n",
    "        pd.to_datetime(df[col], unit=\"ms\", errors=\"coerce\", utc=True)\n",
    "        .dt.tz_convert(\"US/Eastern\")\n",
    "    )\n",
    "    \n",
    "    # Create a true datetime column (remove timezone if you prefer naive datetime)\n",
    "    df[\"Date\"] = df[\"DateReported_dt\"].dt.tz_localize(None)\n",
    "\n",
    "    # Optionally, create a separate string-formatted column\n",
    "    df[\"DateString\"] = df[\"DateReported_dt\"].dt.strftime(\"%Y-%m-%d %I:%M:%S %p\")\n",
    "    \n",
    "    # DayOfWeek\n",
    "    df[\"DayOfWeek\"] = df[\"DateReported_dt\"].dt.day_name()\n",
    "    \n",
    "    # Weekend\n",
    "    df[\"Weekend\"] = df[\"DayOfWeek\"].isin([\"Saturday\", \"Sunday\"])\n",
    "    \n",
    "    # Helper function to determine the season\n",
    "    def get_season(dt):\n",
    "        month = dt.month\n",
    "        day = dt.day\n",
    "        # Approximate Northern Hemisphere season boundaries:\n",
    "        if (month == 12 and day >= 21) or (month < 3) or (month == 3 and day < 20):\n",
    "            return \"Winter\"\n",
    "        elif (month == 3 and day >= 20) or (month < 6) or (month == 6 and day < 21):\n",
    "            return \"Spring\"\n",
    "        elif (month == 6 and day >= 21) or (month < 9) or (month == 9 and day < 22):\n",
    "            return \"Summer\"\n",
    "        else:\n",
    "            return \"Autumn\"\n",
    "    \n",
    "    df[\"Season\"] = df[\"DateReported_dt\"].apply(get_season)\n",
    "    \n",
    "    # 12-hour formatted time (HourAMPM)\n",
    "    df[\"HourAMPM\"] = df[\"DateReported_dt\"].dt.strftime(\"%I:%M %p\")\n",
    "    \n",
    "    # Extract hour (0-23) for time-of-day\n",
    "    df[\"HourValue\"] = df[\"DateReported_dt\"].dt.hour\n",
    "    \n",
    "    def time_of_day(hour):\n",
    "        if pd.isnull(hour):\n",
    "            return None\n",
    "        if 5 <= hour < 12:\n",
    "            return \"Morning\"\n",
    "        elif 12 <= hour < 17:\n",
    "            return \"Afternoon\"\n",
    "        elif 17 <= hour < 21:\n",
    "            return \"Evening\"\n",
    "        else:\n",
    "            return \"Night\"\n",
    "    \n",
    "    df[\"TimeOfDay\"] = df[\"HourValue\"].apply(time_of_day)\n",
    "    \n",
    "    # Drop columns you no longer need\n",
    "    df.drop(columns=[col, \"DateReported_dt\", \"HourValue\"], inplace=True)\n",
    "    \n",
    "    return df\n",
    "\n",
    "# Example usage:\n",
    "df = convert_and_categorize_datereported(df)\n",
    "df.head()\n"
   ]
  },
  {
   "cell_type": "code",
   "execution_count": 8,
   "id": "791a8f86",
   "metadata": {
    "execution": {
     "iopub.execute_input": "2025-07-07T01:10:42.706576Z",
     "iopub.status.busy": "2025-07-07T01:10:42.706103Z",
     "iopub.status.idle": "2025-07-07T01:10:42.731747Z",
     "shell.execute_reply": "2025-07-07T01:10:42.731159Z"
    },
    "papermill": {
     "duration": 0.031416,
     "end_time": "2025-07-07T01:10:42.732751",
     "exception": false,
     "start_time": "2025-07-07T01:10:42.701335",
     "status": "completed"
    },
    "tags": []
   },
   "outputs": [
    {
     "name": "stdout",
     "output_type": "stream",
     "text": [
      "<class 'pandas.core.frame.DataFrame'>\n",
      "RangeIndex: 25536 entries, 0 to 25535\n",
      "Data columns (total 15 columns):\n",
      " #   Column            Non-Null Count  Dtype         \n",
      "---  ------            --------------  -----         \n",
      " 0   RecordID          25536 non-null  int64         \n",
      " 1   Offense           25536 non-null  object        \n",
      " 2   IncidentID        25536 non-null  object        \n",
      " 3   BlockNumber       25536 non-null  object        \n",
      " 4   StreetName        25536 non-null  object        \n",
      " 5   Agency            25536 non-null  object        \n",
      " 6   HourReported      25536 non-null  object        \n",
      " 7   ReportingOfficer  25519 non-null  object        \n",
      " 8   Date              25536 non-null  datetime64[ns]\n",
      " 9   DateString        25536 non-null  object        \n",
      " 10  DayOfWeek         25536 non-null  object        \n",
      " 11  Weekend           25536 non-null  bool          \n",
      " 12  Season            25536 non-null  object        \n",
      " 13  HourAMPM          25536 non-null  object        \n",
      " 14  TimeOfDay         25536 non-null  object        \n",
      "dtypes: bool(1), datetime64[ns](1), int64(1), object(12)\n",
      "memory usage: 2.8+ MB\n"
     ]
    }
   ],
   "source": [
    "df.info()"
   ]
  },
  {
   "cell_type": "markdown",
   "id": "cde8899e",
   "metadata": {
    "papermill": {
     "duration": 0.004072,
     "end_time": "2025-07-07T01:10:42.741086",
     "exception": false,
     "start_time": "2025-07-07T01:10:42.737014",
     "status": "completed"
    },
    "tags": []
   },
   "source": [
    "### Coordinates"
   ]
  },
  {
   "cell_type": "code",
   "execution_count": 9,
   "id": "5de585e1",
   "metadata": {
    "execution": {
     "iopub.execute_input": "2025-07-07T01:10:42.750334Z",
     "iopub.status.busy": "2025-07-07T01:10:42.749926Z",
     "iopub.status.idle": "2025-07-07T01:10:42.944892Z",
     "shell.execute_reply": "2025-07-07T01:10:42.944209Z"
    },
    "papermill": {
     "duration": 0.200692,
     "end_time": "2025-07-07T01:10:42.945894",
     "exception": false,
     "start_time": "2025-07-07T01:10:42.745202",
     "status": "completed"
    },
    "tags": []
   },
   "outputs": [
    {
     "name": "stdout",
     "output_type": "stream",
     "text": [
      "Loaded geocode cache.\n",
      "Error geocoding 1000 E MARKET ST, 1-6: REQUEST_DENIED (You must enable Billing on the Google Cloud Project at https://console.cloud.google.com/project/_/billing/enable Learn more at https://developers.google.com/maps/gmp-get-started)\n",
      "Geocoded 1000 E MARKET ST, 1-6: None, None\n",
      "Error geocoding 1300 KNOLL ST, A: REQUEST_DENIED (You must enable Billing on the Google Cloud Project at https://console.cloud.google.com/project/_/billing/enable Learn more at https://developers.google.com/maps/gmp-get-started)\n",
      "Geocoded 1300 KNOLL ST, A: None, None\n",
      "Geocode cache updated and saved.\n"
     ]
    },
    {
     "data": {
      "text/html": [
       "<div>\n",
       "<style scoped>\n",
       "    .dataframe tbody tr th:only-of-type {\n",
       "        vertical-align: middle;\n",
       "    }\n",
       "\n",
       "    .dataframe tbody tr th {\n",
       "        vertical-align: top;\n",
       "    }\n",
       "\n",
       "    .dataframe thead th {\n",
       "        text-align: right;\n",
       "    }\n",
       "</style>\n",
       "<table border=\"1\" class=\"dataframe\">\n",
       "  <thead>\n",
       "    <tr style=\"text-align: right;\">\n",
       "      <th></th>\n",
       "      <th>RecordID</th>\n",
       "      <th>Offense</th>\n",
       "      <th>IncidentID</th>\n",
       "      <th>BlockNumber</th>\n",
       "      <th>StreetName</th>\n",
       "      <th>Agency</th>\n",
       "      <th>HourReported</th>\n",
       "      <th>ReportingOfficer</th>\n",
       "      <th>Date</th>\n",
       "      <th>DateString</th>\n",
       "      <th>DayOfWeek</th>\n",
       "      <th>Weekend</th>\n",
       "      <th>Season</th>\n",
       "      <th>HourAMPM</th>\n",
       "      <th>TimeOfDay</th>\n",
       "      <th>FullStreet</th>\n",
       "      <th>lat</th>\n",
       "      <th>lon</th>\n",
       "    </tr>\n",
       "  </thead>\n",
       "  <tbody>\n",
       "    <tr>\n",
       "      <th>0</th>\n",
       "      <td>1</td>\n",
       "      <td>Disorderly Conduct</td>\n",
       "      <td>202500023162</td>\n",
       "      <td>1000</td>\n",
       "      <td>PRESTON AVE</td>\n",
       "      <td>CPD</td>\n",
       "      <td>1957</td>\n",
       "      <td>Hudson, Jesse</td>\n",
       "      <td>2025-07-04 19:57:33</td>\n",
       "      <td>2025-07-04 07:57:33 PM</td>\n",
       "      <td>Friday</td>\n",
       "      <td>False</td>\n",
       "      <td>Summer</td>\n",
       "      <td>07:57 PM</td>\n",
       "      <td>Evening</td>\n",
       "      <td>1000 PRESTON AVE</td>\n",
       "      <td>38.039155</td>\n",
       "      <td>-78.491633</td>\n",
       "    </tr>\n",
       "    <tr>\n",
       "      <th>1</th>\n",
       "      <td>2</td>\n",
       "      <td>Larceny - All Other</td>\n",
       "      <td>202500023147</td>\n",
       "      <td>1000</td>\n",
       "      <td>E MARKET ST, 1-6</td>\n",
       "      <td>CPD</td>\n",
       "      <td>1756</td>\n",
       "      <td>Bentz, Benjamin</td>\n",
       "      <td>2025-07-04 17:56:28</td>\n",
       "      <td>2025-07-04 05:56:28 PM</td>\n",
       "      <td>Friday</td>\n",
       "      <td>False</td>\n",
       "      <td>Summer</td>\n",
       "      <td>05:56 PM</td>\n",
       "      <td>Evening</td>\n",
       "      <td>1000 E MARKET ST, 1-6</td>\n",
       "      <td>NaN</td>\n",
       "      <td>NaN</td>\n",
       "    </tr>\n",
       "    <tr>\n",
       "      <th>2</th>\n",
       "      <td>3</td>\n",
       "      <td>Larceny - All Other</td>\n",
       "      <td>202500023127</td>\n",
       "      <td>2100</td>\n",
       "      <td>ARLINGTON BLVD, 509</td>\n",
       "      <td>CPD</td>\n",
       "      <td>1505</td>\n",
       "      <td>Hudson, Jesse</td>\n",
       "      <td>2025-07-04 15:05:43</td>\n",
       "      <td>2025-07-04 03:05:43 PM</td>\n",
       "      <td>Friday</td>\n",
       "      <td>False</td>\n",
       "      <td>Summer</td>\n",
       "      <td>03:05 PM</td>\n",
       "      <td>Afternoon</td>\n",
       "      <td>2100 ARLINGTON BLVD, 509</td>\n",
       "      <td>38.049267</td>\n",
       "      <td>-78.506344</td>\n",
       "    </tr>\n",
       "    <tr>\n",
       "      <th>3</th>\n",
       "      <td>4</td>\n",
       "      <td>Larceny - From Motor Vehicle</td>\n",
       "      <td>202500023126</td>\n",
       "      <td>1000</td>\n",
       "      <td>WERTLAND ST, 404</td>\n",
       "      <td>CPD</td>\n",
       "      <td>1413</td>\n",
       "      <td>Prevost, Payten</td>\n",
       "      <td>2025-07-04 14:13:40</td>\n",
       "      <td>2025-07-04 02:13:40 PM</td>\n",
       "      <td>Friday</td>\n",
       "      <td>False</td>\n",
       "      <td>Summer</td>\n",
       "      <td>02:13 PM</td>\n",
       "      <td>Afternoon</td>\n",
       "      <td>1000 WERTLAND ST, 404</td>\n",
       "      <td>38.033911</td>\n",
       "      <td>-78.494253</td>\n",
       "    </tr>\n",
       "    <tr>\n",
       "      <th>4</th>\n",
       "      <td>5</td>\n",
       "      <td>Assist Citizen - Mental/TDO/ECO</td>\n",
       "      <td>202500023110</td>\n",
       "      <td>1200</td>\n",
       "      <td>CARLTON AVE</td>\n",
       "      <td>CPD</td>\n",
       "      <td>1141</td>\n",
       "      <td>Turner, Devon</td>\n",
       "      <td>2025-07-04 11:41:22</td>\n",
       "      <td>2025-07-04 11:41:22 AM</td>\n",
       "      <td>Friday</td>\n",
       "      <td>False</td>\n",
       "      <td>Summer</td>\n",
       "      <td>11:41 AM</td>\n",
       "      <td>Morning</td>\n",
       "      <td>1200 CARLTON AVE</td>\n",
       "      <td>38.023373</td>\n",
       "      <td>-78.471677</td>\n",
       "    </tr>\n",
       "  </tbody>\n",
       "</table>\n",
       "</div>"
      ],
      "text/plain": [
       "   RecordID                          Offense    IncidentID BlockNumber  \\\n",
       "0         1               Disorderly Conduct  202500023162        1000   \n",
       "1         2              Larceny - All Other  202500023147        1000   \n",
       "2         3              Larceny - All Other  202500023127        2100   \n",
       "3         4     Larceny - From Motor Vehicle  202500023126        1000   \n",
       "4         5  Assist Citizen - Mental/TDO/ECO  202500023110        1200   \n",
       "\n",
       "            StreetName Agency HourReported  ReportingOfficer  \\\n",
       "0          PRESTON AVE    CPD         1957     Hudson, Jesse   \n",
       "1     E MARKET ST, 1-6    CPD         1756  Bentz, Benjamin    \n",
       "2  ARLINGTON BLVD, 509    CPD         1505     Hudson, Jesse   \n",
       "3     WERTLAND ST, 404    CPD         1413   Prevost, Payten   \n",
       "4          CARLTON AVE    CPD         1141     Turner, Devon   \n",
       "\n",
       "                 Date              DateString DayOfWeek  Weekend  Season  \\\n",
       "0 2025-07-04 19:57:33  2025-07-04 07:57:33 PM    Friday    False  Summer   \n",
       "1 2025-07-04 17:56:28  2025-07-04 05:56:28 PM    Friday    False  Summer   \n",
       "2 2025-07-04 15:05:43  2025-07-04 03:05:43 PM    Friday    False  Summer   \n",
       "3 2025-07-04 14:13:40  2025-07-04 02:13:40 PM    Friday    False  Summer   \n",
       "4 2025-07-04 11:41:22  2025-07-04 11:41:22 AM    Friday    False  Summer   \n",
       "\n",
       "   HourAMPM  TimeOfDay                FullStreet        lat        lon  \n",
       "0  07:57 PM    Evening          1000 PRESTON AVE  38.039155 -78.491633  \n",
       "1  05:56 PM    Evening     1000 E MARKET ST, 1-6        NaN        NaN  \n",
       "2  03:05 PM  Afternoon  2100 ARLINGTON BLVD, 509  38.049267 -78.506344  \n",
       "3  02:13 PM  Afternoon     1000 WERTLAND ST, 404  38.033911 -78.494253  \n",
       "4  11:41 AM    Morning          1200 CARLTON AVE  38.023373 -78.471677  "
      ]
     },
     "execution_count": 9,
     "metadata": {},
     "output_type": "execute_result"
    }
   ],
   "source": [
    "# Combine BlockNumber and StreetName into a full address string\n",
    "df['FullStreet'] = df['BlockNumber'].astype(str) + \" \" + df['StreetName']\n",
    "\n",
    "# --- Step 1: Setup the Google Maps Client and Cache ---\n",
    "gmaps = googlemaps.Client(key=GOOGLE_API_KEY)\n",
    "\n",
    "# Try to load cached geocoding results if available.\n",
    "try:\n",
    "    with open(\"geocode_cache_google.pkl\", \"rb\") as f:\n",
    "        street_coords = pickle.load(f)\n",
    "    print(\"Loaded geocode cache.\")\n",
    "except FileNotFoundError:\n",
    "    street_coords = {}\n",
    "    print(\"No cache found; starting fresh.\")\n",
    "\n",
    "def geocode_address(address):\n",
    "    try:\n",
    "        # Append city and state to help geocoding\n",
    "        result = gmaps.geocode(f\"{address}, Charlottesville, VA\")\n",
    "        if result:\n",
    "            lat = result[0]['geometry']['location']['lat']\n",
    "            lon = result[0]['geometry']['location']['lng']\n",
    "            return lat, lon\n",
    "    except Exception as e:\n",
    "        print(f\"Error geocoding {address}: {e}\")\n",
    "    return None, None\n",
    "\n",
    "# --- Step 2: Geocode Only New Addresses ---\n",
    "unique_addresses = df['FullStreet'].unique()\n",
    "for address in unique_addresses:\n",
    "    if address not in street_coords:\n",
    "        lat, lon = geocode_address(address)\n",
    "        street_coords[address] = (lat, lon)\n",
    "        print(f\"Geocoded {address}: {lat}, {lon}\")\n",
    "\n",
    "# Save the updated cache to disk.\n",
    "with open(\"geocode_cache_google.pkl\", \"wb\") as f:\n",
    "    pickle.dump(street_coords, f)\n",
    "    print(\"Geocode cache updated and saved.\")\n",
    "\n",
    "# --- Step 3: Map Coordinates Back to DataFrame ---\n",
    "df['lat'] = df['FullStreet'].map(lambda s: street_coords.get(s, (None, None))[0])\n",
    "df['lon'] = df['FullStreet'].map(lambda s: street_coords.get(s, (None, None))[1])\n",
    "\n",
    "df.head()"
   ]
  },
  {
   "cell_type": "markdown",
   "id": "b64f0007",
   "metadata": {
    "papermill": {
     "duration": 0.004298,
     "end_time": "2025-07-07T01:10:42.955056",
     "exception": false,
     "start_time": "2025-07-07T01:10:42.950758",
     "status": "completed"
    },
    "tags": []
   },
   "source": [
    "### Neighborhood"
   ]
  },
  {
   "cell_type": "code",
   "execution_count": 10,
   "id": "ce0d235f",
   "metadata": {
    "execution": {
     "iopub.execute_input": "2025-07-07T01:10:42.964922Z",
     "iopub.status.busy": "2025-07-07T01:10:42.964462Z",
     "iopub.status.idle": "2025-07-07T01:10:44.494154Z",
     "shell.execute_reply": "2025-07-07T01:10:44.493462Z"
    },
    "papermill": {
     "duration": 1.535841,
     "end_time": "2025-07-07T01:10:44.495289",
     "exception": false,
     "start_time": "2025-07-07T01:10:42.959448",
     "status": "completed"
    },
    "tags": []
   },
   "outputs": [
    {
     "name": "stdout",
     "output_type": "stream",
     "text": [
      "Loaded neighborhood cache.\n",
      "Error getting neighborhood for nan, nan: HTTP Error: 400\n"
     ]
    },
    {
     "name": "stdout",
     "output_type": "stream",
     "text": [
      "Error getting neighborhood for nan, nan: HTTP Error: 400\n",
      "Error getting neighborhood for nan, nan: HTTP Error: 400\n",
      "Error getting neighborhood for nan, nan: HTTP Error: 400\n",
      "Error getting neighborhood for nan, nan: HTTP Error: 400\n",
      "Error getting neighborhood for nan, nan: HTTP Error: 400\n",
      "Error getting neighborhood for nan, nan: HTTP Error: 400\n",
      "Error getting neighborhood for nan, nan: HTTP Error: 400\n"
     ]
    },
    {
     "name": "stdout",
     "output_type": "stream",
     "text": [
      "Error getting neighborhood for nan, nan: HTTP Error: 400\n",
      "Error getting neighborhood for nan, nan: HTTP Error: 400\n",
      "Error getting neighborhood for nan, nan: HTTP Error: 400\n",
      "Error getting neighborhood for nan, nan: HTTP Error: 400\n",
      "Error getting neighborhood for nan, nan: HTTP Error: 400\n",
      "Error getting neighborhood for nan, nan: HTTP Error: 400\n",
      "Error getting neighborhood for nan, nan: HTTP Error: 400\n"
     ]
    },
    {
     "name": "stdout",
     "output_type": "stream",
     "text": [
      "Error getting neighborhood for nan, nan: HTTP Error: 400\n",
      "Error getting neighborhood for nan, nan: HTTP Error: 400\n",
      "Error getting neighborhood for nan, nan: HTTP Error: 400\n",
      "Error getting neighborhood for nan, nan: HTTP Error: 400\n",
      "Error getting neighborhood for nan, nan: HTTP Error: 400\n",
      "Error getting neighborhood for nan, nan: HTTP Error: 400\n"
     ]
    },
    {
     "name": "stdout",
     "output_type": "stream",
     "text": [
      "Error getting neighborhood for nan, nan: HTTP Error: 400\n",
      "Error getting neighborhood for nan, nan: HTTP Error: 400\n",
      "Error getting neighborhood for nan, nan: HTTP Error: 400\n",
      "Error getting neighborhood for nan, nan: HTTP Error: 400\n",
      "Error getting neighborhood for nan, nan: HTTP Error: 400\n",
      "Error getting neighborhood for nan, nan: HTTP Error: 400\n",
      "Error getting neighborhood for nan, nan: HTTP Error: 400\n",
      "Error getting neighborhood for nan, nan: HTTP Error: 400\n"
     ]
    },
    {
     "name": "stdout",
     "output_type": "stream",
     "text": [
      "Error getting neighborhood for nan, nan: HTTP Error: 400\n",
      "Error getting neighborhood for nan, nan: HTTP Error: 400\n",
      "Error getting neighborhood for nan, nan: HTTP Error: 400\n",
      "Error getting neighborhood for nan, nan: HTTP Error: 400\n",
      "Error getting neighborhood for nan, nan: HTTP Error: 400\n",
      "Error getting neighborhood for nan, nan: HTTP Error: 400\n",
      "Error getting neighborhood for nan, nan: HTTP Error: 400\n",
      "Error getting neighborhood for nan, nan: HTTP Error: 400\n",
      "Error getting neighborhood for nan, nan: HTTP Error: 400\n"
     ]
    },
    {
     "name": "stdout",
     "output_type": "stream",
     "text": [
      "Error getting neighborhood for nan, nan: HTTP Error: 400\n",
      "Error getting neighborhood for nan, nan: HTTP Error: 400\n",
      "Error getting neighborhood for nan, nan: HTTP Error: 400\n"
     ]
    },
    {
     "data": {
      "text/html": [
       "<div>\n",
       "<style scoped>\n",
       "    .dataframe tbody tr th:only-of-type {\n",
       "        vertical-align: middle;\n",
       "    }\n",
       "\n",
       "    .dataframe tbody tr th {\n",
       "        vertical-align: top;\n",
       "    }\n",
       "\n",
       "    .dataframe thead th {\n",
       "        text-align: right;\n",
       "    }\n",
       "</style>\n",
       "<table border=\"1\" class=\"dataframe\">\n",
       "  <thead>\n",
       "    <tr style=\"text-align: right;\">\n",
       "      <th></th>\n",
       "      <th>RecordID</th>\n",
       "      <th>Offense</th>\n",
       "      <th>IncidentID</th>\n",
       "      <th>BlockNumber</th>\n",
       "      <th>StreetName</th>\n",
       "      <th>Agency</th>\n",
       "      <th>HourReported</th>\n",
       "      <th>ReportingOfficer</th>\n",
       "      <th>Date</th>\n",
       "      <th>DateString</th>\n",
       "      <th>DayOfWeek</th>\n",
       "      <th>Weekend</th>\n",
       "      <th>Season</th>\n",
       "      <th>HourAMPM</th>\n",
       "      <th>TimeOfDay</th>\n",
       "      <th>FullStreet</th>\n",
       "      <th>lat</th>\n",
       "      <th>lon</th>\n",
       "      <th>neighborhood</th>\n",
       "    </tr>\n",
       "  </thead>\n",
       "  <tbody>\n",
       "    <tr>\n",
       "      <th>0</th>\n",
       "      <td>1</td>\n",
       "      <td>Disorderly Conduct</td>\n",
       "      <td>202500023162</td>\n",
       "      <td>1000</td>\n",
       "      <td>PRESTON AVE</td>\n",
       "      <td>CPD</td>\n",
       "      <td>1957</td>\n",
       "      <td>Hudson, Jesse</td>\n",
       "      <td>2025-07-04 19:57:33</td>\n",
       "      <td>2025-07-04 07:57:33 PM</td>\n",
       "      <td>Friday</td>\n",
       "      <td>False</td>\n",
       "      <td>Summer</td>\n",
       "      <td>07:57 PM</td>\n",
       "      <td>Evening</td>\n",
       "      <td>1000 PRESTON AVE</td>\n",
       "      <td>38.039155</td>\n",
       "      <td>-78.491633</td>\n",
       "      <td>Venable</td>\n",
       "    </tr>\n",
       "    <tr>\n",
       "      <th>1</th>\n",
       "      <td>2</td>\n",
       "      <td>Larceny - All Other</td>\n",
       "      <td>202500023147</td>\n",
       "      <td>1000</td>\n",
       "      <td>E MARKET ST, 1-6</td>\n",
       "      <td>CPD</td>\n",
       "      <td>1756</td>\n",
       "      <td>Bentz, Benjamin</td>\n",
       "      <td>2025-07-04 17:56:28</td>\n",
       "      <td>2025-07-04 05:56:28 PM</td>\n",
       "      <td>Friday</td>\n",
       "      <td>False</td>\n",
       "      <td>Summer</td>\n",
       "      <td>05:56 PM</td>\n",
       "      <td>Evening</td>\n",
       "      <td>1000 E MARKET ST, 1-6</td>\n",
       "      <td>NaN</td>\n",
       "      <td>NaN</td>\n",
       "      <td>N/A</td>\n",
       "    </tr>\n",
       "    <tr>\n",
       "      <th>2</th>\n",
       "      <td>3</td>\n",
       "      <td>Larceny - All Other</td>\n",
       "      <td>202500023127</td>\n",
       "      <td>2100</td>\n",
       "      <td>ARLINGTON BLVD, 509</td>\n",
       "      <td>CPD</td>\n",
       "      <td>1505</td>\n",
       "      <td>Hudson, Jesse</td>\n",
       "      <td>2025-07-04 15:05:43</td>\n",
       "      <td>2025-07-04 03:05:43 PM</td>\n",
       "      <td>Friday</td>\n",
       "      <td>False</td>\n",
       "      <td>Summer</td>\n",
       "      <td>03:05 PM</td>\n",
       "      <td>Afternoon</td>\n",
       "      <td>2100 ARLINGTON BLVD, 509</td>\n",
       "      <td>38.049267</td>\n",
       "      <td>-78.506344</td>\n",
       "      <td>Barracks Road</td>\n",
       "    </tr>\n",
       "    <tr>\n",
       "      <th>3</th>\n",
       "      <td>4</td>\n",
       "      <td>Larceny - From Motor Vehicle</td>\n",
       "      <td>202500023126</td>\n",
       "      <td>1000</td>\n",
       "      <td>WERTLAND ST, 404</td>\n",
       "      <td>CPD</td>\n",
       "      <td>1413</td>\n",
       "      <td>Prevost, Payten</td>\n",
       "      <td>2025-07-04 14:13:40</td>\n",
       "      <td>2025-07-04 02:13:40 PM</td>\n",
       "      <td>Friday</td>\n",
       "      <td>False</td>\n",
       "      <td>Summer</td>\n",
       "      <td>02:13 PM</td>\n",
       "      <td>Afternoon</td>\n",
       "      <td>1000 WERTLAND ST, 404</td>\n",
       "      <td>38.033911</td>\n",
       "      <td>-78.494253</td>\n",
       "      <td>N/A</td>\n",
       "    </tr>\n",
       "    <tr>\n",
       "      <th>4</th>\n",
       "      <td>5</td>\n",
       "      <td>Assist Citizen - Mental/TDO/ECO</td>\n",
       "      <td>202500023110</td>\n",
       "      <td>1200</td>\n",
       "      <td>CARLTON AVE</td>\n",
       "      <td>CPD</td>\n",
       "      <td>1141</td>\n",
       "      <td>Turner, Devon</td>\n",
       "      <td>2025-07-04 11:41:22</td>\n",
       "      <td>2025-07-04 11:41:22 AM</td>\n",
       "      <td>Friday</td>\n",
       "      <td>False</td>\n",
       "      <td>Summer</td>\n",
       "      <td>11:41 AM</td>\n",
       "      <td>Morning</td>\n",
       "      <td>1200 CARLTON AVE</td>\n",
       "      <td>38.023373</td>\n",
       "      <td>-78.471677</td>\n",
       "      <td>Belmont</td>\n",
       "    </tr>\n",
       "  </tbody>\n",
       "</table>\n",
       "</div>"
      ],
      "text/plain": [
       "   RecordID                          Offense    IncidentID BlockNumber  \\\n",
       "0         1               Disorderly Conduct  202500023162        1000   \n",
       "1         2              Larceny - All Other  202500023147        1000   \n",
       "2         3              Larceny - All Other  202500023127        2100   \n",
       "3         4     Larceny - From Motor Vehicle  202500023126        1000   \n",
       "4         5  Assist Citizen - Mental/TDO/ECO  202500023110        1200   \n",
       "\n",
       "            StreetName Agency HourReported  ReportingOfficer  \\\n",
       "0          PRESTON AVE    CPD         1957     Hudson, Jesse   \n",
       "1     E MARKET ST, 1-6    CPD         1756  Bentz, Benjamin    \n",
       "2  ARLINGTON BLVD, 509    CPD         1505     Hudson, Jesse   \n",
       "3     WERTLAND ST, 404    CPD         1413   Prevost, Payten   \n",
       "4          CARLTON AVE    CPD         1141     Turner, Devon   \n",
       "\n",
       "                 Date              DateString DayOfWeek  Weekend  Season  \\\n",
       "0 2025-07-04 19:57:33  2025-07-04 07:57:33 PM    Friday    False  Summer   \n",
       "1 2025-07-04 17:56:28  2025-07-04 05:56:28 PM    Friday    False  Summer   \n",
       "2 2025-07-04 15:05:43  2025-07-04 03:05:43 PM    Friday    False  Summer   \n",
       "3 2025-07-04 14:13:40  2025-07-04 02:13:40 PM    Friday    False  Summer   \n",
       "4 2025-07-04 11:41:22  2025-07-04 11:41:22 AM    Friday    False  Summer   \n",
       "\n",
       "   HourAMPM  TimeOfDay                FullStreet        lat        lon  \\\n",
       "0  07:57 PM    Evening          1000 PRESTON AVE  38.039155 -78.491633   \n",
       "1  05:56 PM    Evening     1000 E MARKET ST, 1-6        NaN        NaN   \n",
       "2  03:05 PM  Afternoon  2100 ARLINGTON BLVD, 509  38.049267 -78.506344   \n",
       "3  02:13 PM  Afternoon     1000 WERTLAND ST, 404  38.033911 -78.494253   \n",
       "4  11:41 AM    Morning          1200 CARLTON AVE  38.023373 -78.471677   \n",
       "\n",
       "    neighborhood  \n",
       "0        Venable  \n",
       "1            N/A  \n",
       "2  Barracks Road  \n",
       "3            N/A  \n",
       "4        Belmont  "
      ]
     },
     "execution_count": 10,
     "metadata": {},
     "output_type": "execute_result"
    }
   ],
   "source": [
    "# Initialize the Google Maps client.\n",
    "gmaps = googlemaps.Client(key=GOOGLE_API_KEY)\n",
    "\n",
    "# Try to load a persistent neighborhood cache if available.\n",
    "try:\n",
    "    with open(\"neighborhood_cache.pkl\", \"rb\") as f:\n",
    "        neighborhood_cache = pickle.load(f)\n",
    "    print(\"Loaded neighborhood cache.\")\n",
    "except FileNotFoundError:\n",
    "    neighborhood_cache = {}\n",
    "    print(\"No neighborhood cache found; starting fresh.\")\n",
    "\n",
    "def get_neighborhood(lat, lon):\n",
    "    \"\"\"\n",
    "    Reverse geocodes a latitude and longitude to retrieve the neighborhood.\n",
    "    Caches results to speed up subsequent lookups.\n",
    "    \"\"\"\n",
    "    key = (lat, lon)\n",
    "    if key in neighborhood_cache:\n",
    "        return neighborhood_cache[key]\n",
    "    \n",
    "    try:\n",
    "        result = gmaps.reverse_geocode((lat, lon))\n",
    "        if result:\n",
    "            # Look for the 'neighborhood' component in the first result.\n",
    "            for component in result[0]['address_components']:\n",
    "                if 'neighborhood' in component['types']:\n",
    "                    neighborhood = component['long_name']\n",
    "                    neighborhood_cache[key] = neighborhood\n",
    "                    return neighborhood\n",
    "            # If no neighborhood is found, return \"N/A\"\n",
    "            neighborhood_cache[key] = \"N/A\"\n",
    "            return \"N/A\"\n",
    "    except Exception as e:\n",
    "        print(f\"Error getting neighborhood for {lat}, {lon}: {e}\")\n",
    "        return \"N/A\"\n",
    "    \n",
    "    # Pause to respect usage limits.\n",
    "    time.sleep(1)\n",
    "\n",
    "# Example usage: Apply to your DataFrame 'df' that already has 'lat' and 'lon' columns.\n",
    "df['neighborhood'] = df.apply(lambda row: get_neighborhood(row['lat'], row['lon']), axis=1)\n",
    "\n",
    "# Save the updated neighborhood cache.\n",
    "with open(\"neighborhood_cache.pkl\", \"wb\") as f:\n",
    "    pickle.dump(neighborhood_cache, f)\n",
    "\n",
    "df.head()\n"
   ]
  },
  {
   "cell_type": "markdown",
   "id": "641ec34e",
   "metadata": {
    "papermill": {
     "duration": 0.004883,
     "end_time": "2025-07-07T01:10:44.505366",
     "exception": false,
     "start_time": "2025-07-07T01:10:44.500483",
     "status": "completed"
    },
    "tags": []
   },
   "source": [
    "### Zip"
   ]
  },
  {
   "cell_type": "code",
   "execution_count": 11,
   "id": "0e682468",
   "metadata": {
    "execution": {
     "iopub.execute_input": "2025-07-07T01:10:44.516037Z",
     "iopub.status.busy": "2025-07-07T01:10:44.515675Z",
     "iopub.status.idle": "2025-07-07T01:11:25.815126Z",
     "shell.execute_reply": "2025-07-07T01:11:25.814419Z"
    },
    "papermill": {
     "duration": 41.305946,
     "end_time": "2025-07-07T01:11:25.816180",
     "exception": false,
     "start_time": "2025-07-07T01:10:44.510234",
     "status": "completed"
    },
    "tags": []
   },
   "outputs": [
    {
     "name": "stdout",
     "output_type": "stream",
     "text": [
      "Loaded zip cache.\n",
      "Error getting ZIP for nan, nan: Must be a coordinate pair or Point\n"
     ]
    },
    {
     "name": "stdout",
     "output_type": "stream",
     "text": [
      "Error getting ZIP for nan, nan: Must be a coordinate pair or Point\n"
     ]
    },
    {
     "name": "stdout",
     "output_type": "stream",
     "text": [
      "Error getting ZIP for nan, nan: Must be a coordinate pair or Point\n"
     ]
    },
    {
     "name": "stdout",
     "output_type": "stream",
     "text": [
      "Error getting ZIP for nan, nan: Must be a coordinate pair or Point\n"
     ]
    },
    {
     "name": "stdout",
     "output_type": "stream",
     "text": [
      "Error getting ZIP for nan, nan: Must be a coordinate pair or Point\n"
     ]
    },
    {
     "name": "stdout",
     "output_type": "stream",
     "text": [
      "Error getting ZIP for nan, nan: Must be a coordinate pair or Point\n"
     ]
    },
    {
     "name": "stdout",
     "output_type": "stream",
     "text": [
      "Error getting ZIP for nan, nan: Must be a coordinate pair or Point\n"
     ]
    },
    {
     "name": "stdout",
     "output_type": "stream",
     "text": [
      "Error getting ZIP for nan, nan: Must be a coordinate pair or Point\n"
     ]
    },
    {
     "name": "stdout",
     "output_type": "stream",
     "text": [
      "Error getting ZIP for nan, nan: Must be a coordinate pair or Point\n"
     ]
    },
    {
     "name": "stdout",
     "output_type": "stream",
     "text": [
      "Error getting ZIP for nan, nan: Must be a coordinate pair or Point\n"
     ]
    },
    {
     "name": "stdout",
     "output_type": "stream",
     "text": [
      "Error getting ZIP for nan, nan: Must be a coordinate pair or Point\n"
     ]
    },
    {
     "name": "stdout",
     "output_type": "stream",
     "text": [
      "Error getting ZIP for nan, nan: Must be a coordinate pair or Point\n"
     ]
    },
    {
     "name": "stdout",
     "output_type": "stream",
     "text": [
      "Error getting ZIP for nan, nan: Must be a coordinate pair or Point\n"
     ]
    },
    {
     "name": "stdout",
     "output_type": "stream",
     "text": [
      "Error getting ZIP for nan, nan: Must be a coordinate pair or Point\n"
     ]
    },
    {
     "name": "stdout",
     "output_type": "stream",
     "text": [
      "Error getting ZIP for nan, nan: Must be a coordinate pair or Point\n"
     ]
    },
    {
     "name": "stdout",
     "output_type": "stream",
     "text": [
      "Error getting ZIP for nan, nan: Must be a coordinate pair or Point\n"
     ]
    },
    {
     "name": "stdout",
     "output_type": "stream",
     "text": [
      "Error getting ZIP for nan, nan: Must be a coordinate pair or Point\n"
     ]
    },
    {
     "name": "stdout",
     "output_type": "stream",
     "text": [
      "Error getting ZIP for nan, nan: Must be a coordinate pair or Point\n"
     ]
    },
    {
     "name": "stdout",
     "output_type": "stream",
     "text": [
      "Error getting ZIP for nan, nan: Must be a coordinate pair or Point\n"
     ]
    },
    {
     "name": "stdout",
     "output_type": "stream",
     "text": [
      "Error getting ZIP for nan, nan: Must be a coordinate pair or Point\n"
     ]
    },
    {
     "name": "stdout",
     "output_type": "stream",
     "text": [
      "Error getting ZIP for nan, nan: Must be a coordinate pair or Point\n"
     ]
    },
    {
     "name": "stdout",
     "output_type": "stream",
     "text": [
      "Error getting ZIP for nan, nan: Must be a coordinate pair or Point\n"
     ]
    },
    {
     "name": "stdout",
     "output_type": "stream",
     "text": [
      "Error getting ZIP for nan, nan: Must be a coordinate pair or Point\n"
     ]
    },
    {
     "name": "stdout",
     "output_type": "stream",
     "text": [
      "Error getting ZIP for nan, nan: Must be a coordinate pair or Point\n"
     ]
    },
    {
     "name": "stdout",
     "output_type": "stream",
     "text": [
      "Error getting ZIP for nan, nan: Must be a coordinate pair or Point\n"
     ]
    },
    {
     "name": "stdout",
     "output_type": "stream",
     "text": [
      "Error getting ZIP for nan, nan: Must be a coordinate pair or Point\n"
     ]
    },
    {
     "name": "stdout",
     "output_type": "stream",
     "text": [
      "Error getting ZIP for nan, nan: Must be a coordinate pair or Point\n"
     ]
    },
    {
     "name": "stdout",
     "output_type": "stream",
     "text": [
      "Error getting ZIP for nan, nan: Must be a coordinate pair or Point\n"
     ]
    },
    {
     "name": "stdout",
     "output_type": "stream",
     "text": [
      "Error getting ZIP for nan, nan: Must be a coordinate pair or Point\n"
     ]
    },
    {
     "name": "stdout",
     "output_type": "stream",
     "text": [
      "Error getting ZIP for nan, nan: Must be a coordinate pair or Point\n"
     ]
    },
    {
     "name": "stdout",
     "output_type": "stream",
     "text": [
      "Error getting ZIP for nan, nan: Must be a coordinate pair or Point\n"
     ]
    },
    {
     "name": "stdout",
     "output_type": "stream",
     "text": [
      "Error getting ZIP for nan, nan: Must be a coordinate pair or Point\n"
     ]
    },
    {
     "name": "stdout",
     "output_type": "stream",
     "text": [
      "Error getting ZIP for nan, nan: Must be a coordinate pair or Point\n"
     ]
    },
    {
     "name": "stdout",
     "output_type": "stream",
     "text": [
      "Error getting ZIP for nan, nan: Must be a coordinate pair or Point\n"
     ]
    },
    {
     "name": "stdout",
     "output_type": "stream",
     "text": [
      "Error getting ZIP for nan, nan: Must be a coordinate pair or Point\n"
     ]
    },
    {
     "name": "stdout",
     "output_type": "stream",
     "text": [
      "Error getting ZIP for nan, nan: Must be a coordinate pair or Point\n"
     ]
    },
    {
     "name": "stdout",
     "output_type": "stream",
     "text": [
      "Error getting ZIP for nan, nan: Must be a coordinate pair or Point\n"
     ]
    },
    {
     "name": "stdout",
     "output_type": "stream",
     "text": [
      "Error getting ZIP for nan, nan: Must be a coordinate pair or Point\n"
     ]
    },
    {
     "name": "stdout",
     "output_type": "stream",
     "text": [
      "Error getting ZIP for nan, nan: Must be a coordinate pair or Point\n"
     ]
    },
    {
     "name": "stdout",
     "output_type": "stream",
     "text": [
      "Error getting ZIP for nan, nan: Must be a coordinate pair or Point\n"
     ]
    },
    {
     "name": "stdout",
     "output_type": "stream",
     "text": [
      "Error getting ZIP for nan, nan: Must be a coordinate pair or Point\n"
     ]
    },
    {
     "data": {
      "text/html": [
       "<div>\n",
       "<style scoped>\n",
       "    .dataframe tbody tr th:only-of-type {\n",
       "        vertical-align: middle;\n",
       "    }\n",
       "\n",
       "    .dataframe tbody tr th {\n",
       "        vertical-align: top;\n",
       "    }\n",
       "\n",
       "    .dataframe thead th {\n",
       "        text-align: right;\n",
       "    }\n",
       "</style>\n",
       "<table border=\"1\" class=\"dataframe\">\n",
       "  <thead>\n",
       "    <tr style=\"text-align: right;\">\n",
       "      <th></th>\n",
       "      <th>RecordID</th>\n",
       "      <th>Offense</th>\n",
       "      <th>IncidentID</th>\n",
       "      <th>BlockNumber</th>\n",
       "      <th>StreetName</th>\n",
       "      <th>Agency</th>\n",
       "      <th>HourReported</th>\n",
       "      <th>ReportingOfficer</th>\n",
       "      <th>Date</th>\n",
       "      <th>DateString</th>\n",
       "      <th>DayOfWeek</th>\n",
       "      <th>Weekend</th>\n",
       "      <th>Season</th>\n",
       "      <th>HourAMPM</th>\n",
       "      <th>TimeOfDay</th>\n",
       "      <th>FullStreet</th>\n",
       "      <th>lat</th>\n",
       "      <th>lon</th>\n",
       "      <th>neighborhood</th>\n",
       "      <th>zip</th>\n",
       "    </tr>\n",
       "  </thead>\n",
       "  <tbody>\n",
       "    <tr>\n",
       "      <th>0</th>\n",
       "      <td>1</td>\n",
       "      <td>Disorderly Conduct</td>\n",
       "      <td>202500023162</td>\n",
       "      <td>1000</td>\n",
       "      <td>PRESTON AVE</td>\n",
       "      <td>CPD</td>\n",
       "      <td>1957</td>\n",
       "      <td>Hudson, Jesse</td>\n",
       "      <td>2025-07-04 19:57:33</td>\n",
       "      <td>2025-07-04 07:57:33 PM</td>\n",
       "      <td>Friday</td>\n",
       "      <td>False</td>\n",
       "      <td>Summer</td>\n",
       "      <td>07:57 PM</td>\n",
       "      <td>Evening</td>\n",
       "      <td>1000 PRESTON AVE</td>\n",
       "      <td>38.039155</td>\n",
       "      <td>-78.491633</td>\n",
       "      <td>Venable</td>\n",
       "      <td>22908</td>\n",
       "    </tr>\n",
       "    <tr>\n",
       "      <th>1</th>\n",
       "      <td>2</td>\n",
       "      <td>Larceny - All Other</td>\n",
       "      <td>202500023147</td>\n",
       "      <td>1000</td>\n",
       "      <td>E MARKET ST, 1-6</td>\n",
       "      <td>CPD</td>\n",
       "      <td>1756</td>\n",
       "      <td>Bentz, Benjamin</td>\n",
       "      <td>2025-07-04 17:56:28</td>\n",
       "      <td>2025-07-04 05:56:28 PM</td>\n",
       "      <td>Friday</td>\n",
       "      <td>False</td>\n",
       "      <td>Summer</td>\n",
       "      <td>05:56 PM</td>\n",
       "      <td>Evening</td>\n",
       "      <td>1000 E MARKET ST, 1-6</td>\n",
       "      <td>NaN</td>\n",
       "      <td>NaN</td>\n",
       "      <td>N/A</td>\n",
       "      <td>N/A</td>\n",
       "    </tr>\n",
       "    <tr>\n",
       "      <th>2</th>\n",
       "      <td>3</td>\n",
       "      <td>Larceny - All Other</td>\n",
       "      <td>202500023127</td>\n",
       "      <td>2100</td>\n",
       "      <td>ARLINGTON BLVD, 509</td>\n",
       "      <td>CPD</td>\n",
       "      <td>1505</td>\n",
       "      <td>Hudson, Jesse</td>\n",
       "      <td>2025-07-04 15:05:43</td>\n",
       "      <td>2025-07-04 03:05:43 PM</td>\n",
       "      <td>Friday</td>\n",
       "      <td>False</td>\n",
       "      <td>Summer</td>\n",
       "      <td>03:05 PM</td>\n",
       "      <td>Afternoon</td>\n",
       "      <td>2100 ARLINGTON BLVD, 509</td>\n",
       "      <td>38.049267</td>\n",
       "      <td>-78.506344</td>\n",
       "      <td>Barracks Road</td>\n",
       "      <td>22905</td>\n",
       "    </tr>\n",
       "    <tr>\n",
       "      <th>3</th>\n",
       "      <td>4</td>\n",
       "      <td>Larceny - From Motor Vehicle</td>\n",
       "      <td>202500023126</td>\n",
       "      <td>1000</td>\n",
       "      <td>WERTLAND ST, 404</td>\n",
       "      <td>CPD</td>\n",
       "      <td>1413</td>\n",
       "      <td>Prevost, Payten</td>\n",
       "      <td>2025-07-04 14:13:40</td>\n",
       "      <td>2025-07-04 02:13:40 PM</td>\n",
       "      <td>Friday</td>\n",
       "      <td>False</td>\n",
       "      <td>Summer</td>\n",
       "      <td>02:13 PM</td>\n",
       "      <td>Afternoon</td>\n",
       "      <td>1000 WERTLAND ST, 404</td>\n",
       "      <td>38.033911</td>\n",
       "      <td>-78.494253</td>\n",
       "      <td>N/A</td>\n",
       "      <td>22903</td>\n",
       "    </tr>\n",
       "    <tr>\n",
       "      <th>4</th>\n",
       "      <td>5</td>\n",
       "      <td>Assist Citizen - Mental/TDO/ECO</td>\n",
       "      <td>202500023110</td>\n",
       "      <td>1200</td>\n",
       "      <td>CARLTON AVE</td>\n",
       "      <td>CPD</td>\n",
       "      <td>1141</td>\n",
       "      <td>Turner, Devon</td>\n",
       "      <td>2025-07-04 11:41:22</td>\n",
       "      <td>2025-07-04 11:41:22 AM</td>\n",
       "      <td>Friday</td>\n",
       "      <td>False</td>\n",
       "      <td>Summer</td>\n",
       "      <td>11:41 AM</td>\n",
       "      <td>Morning</td>\n",
       "      <td>1200 CARLTON AVE</td>\n",
       "      <td>38.023373</td>\n",
       "      <td>-78.471677</td>\n",
       "      <td>Belmont</td>\n",
       "      <td>22902</td>\n",
       "    </tr>\n",
       "  </tbody>\n",
       "</table>\n",
       "</div>"
      ],
      "text/plain": [
       "   RecordID                          Offense    IncidentID BlockNumber  \\\n",
       "0         1               Disorderly Conduct  202500023162        1000   \n",
       "1         2              Larceny - All Other  202500023147        1000   \n",
       "2         3              Larceny - All Other  202500023127        2100   \n",
       "3         4     Larceny - From Motor Vehicle  202500023126        1000   \n",
       "4         5  Assist Citizen - Mental/TDO/ECO  202500023110        1200   \n",
       "\n",
       "            StreetName Agency HourReported  ReportingOfficer  \\\n",
       "0          PRESTON AVE    CPD         1957     Hudson, Jesse   \n",
       "1     E MARKET ST, 1-6    CPD         1756  Bentz, Benjamin    \n",
       "2  ARLINGTON BLVD, 509    CPD         1505     Hudson, Jesse   \n",
       "3     WERTLAND ST, 404    CPD         1413   Prevost, Payten   \n",
       "4          CARLTON AVE    CPD         1141     Turner, Devon   \n",
       "\n",
       "                 Date              DateString DayOfWeek  Weekend  Season  \\\n",
       "0 2025-07-04 19:57:33  2025-07-04 07:57:33 PM    Friday    False  Summer   \n",
       "1 2025-07-04 17:56:28  2025-07-04 05:56:28 PM    Friday    False  Summer   \n",
       "2 2025-07-04 15:05:43  2025-07-04 03:05:43 PM    Friday    False  Summer   \n",
       "3 2025-07-04 14:13:40  2025-07-04 02:13:40 PM    Friday    False  Summer   \n",
       "4 2025-07-04 11:41:22  2025-07-04 11:41:22 AM    Friday    False  Summer   \n",
       "\n",
       "   HourAMPM  TimeOfDay                FullStreet        lat        lon  \\\n",
       "0  07:57 PM    Evening          1000 PRESTON AVE  38.039155 -78.491633   \n",
       "1  05:56 PM    Evening     1000 E MARKET ST, 1-6        NaN        NaN   \n",
       "2  03:05 PM  Afternoon  2100 ARLINGTON BLVD, 509  38.049267 -78.506344   \n",
       "3  02:13 PM  Afternoon     1000 WERTLAND ST, 404  38.033911 -78.494253   \n",
       "4  11:41 AM    Morning          1200 CARLTON AVE  38.023373 -78.471677   \n",
       "\n",
       "    neighborhood    zip  \n",
       "0        Venable  22908  \n",
       "1            N/A    N/A  \n",
       "2  Barracks Road  22905  \n",
       "3            N/A  22903  \n",
       "4        Belmont  22902  "
      ]
     },
     "execution_count": 11,
     "metadata": {},
     "output_type": "execute_result"
    }
   ],
   "source": [
    "# Initialize the geocoder.\n",
    "geolocator = Nominatim(user_agent=\"zip_lookup\")\n",
    "\n",
    "# Try to load a persistent ZIP cache if available.\n",
    "try:\n",
    "    with open(\"zip_cache.pkl\", \"rb\") as f:\n",
    "        zip_cache = pickle.load(f)\n",
    "    print(\"Loaded zip cache.\")\n",
    "except FileNotFoundError:\n",
    "    zip_cache = {}\n",
    "    print(\"No zip cache found; starting fresh.\")\n",
    "\n",
    "def get_zip(lat, lon):\n",
    "    \"\"\"\n",
    "    Reverse geocodes a latitude and longitude to retrieve the ZIP code.\n",
    "    Caches results to speed up subsequent lookups.\n",
    "    \"\"\"\n",
    "    key = (lat, lon)\n",
    "    if key in zip_cache:\n",
    "        return zip_cache[key]\n",
    "    \n",
    "    try:\n",
    "        location = geolocator.reverse((lat, lon), exactly_one=True, timeout=10)\n",
    "        address = location.raw.get('address', {})\n",
    "        postal_code = address.get('postcode', \"N/A\")\n",
    "    except Exception as e:\n",
    "        print(f\"Error getting ZIP for {lat}, {lon}: {e}\")\n",
    "        postal_code = \"N/A\"\n",
    "    \n",
    "    zip_cache[key] = postal_code\n",
    "    # Pause to respect the usage policy.\n",
    "    time.sleep(1)\n",
    "    return postal_code\n",
    "\n",
    "# Apply the function to each row in the DataFrame.\n",
    "df['zip'] = df.apply(lambda row: get_zip(row['lat'], row['lon']), axis=1)\n",
    "\n",
    "# Save the updated ZIP cache.\n",
    "with open(\"zip_cache.pkl\", \"wb\") as f:\n",
    "    pickle.dump(zip_cache, f)\n",
    "\n",
    "df.head()\n"
   ]
  },
  {
   "cell_type": "code",
   "execution_count": 12,
   "id": "637f9559",
   "metadata": {
    "execution": {
     "iopub.execute_input": "2025-07-07T01:11:25.831195Z",
     "iopub.status.busy": "2025-07-07T01:11:25.830778Z",
     "iopub.status.idle": "2025-07-07T01:11:25.857906Z",
     "shell.execute_reply": "2025-07-07T01:11:25.857313Z"
    },
    "papermill": {
     "duration": 0.035725,
     "end_time": "2025-07-07T01:11:25.858987",
     "exception": false,
     "start_time": "2025-07-07T01:11:25.823262",
     "status": "completed"
    },
    "tags": []
   },
   "outputs": [
    {
     "name": "stdout",
     "output_type": "stream",
     "text": [
      "                  MissingCount  MissingPercentage\n",
      "RecordID                     0               0.00\n",
      "Offense                      0               0.00\n",
      "IncidentID                   0               0.00\n",
      "BlockNumber                  0               0.00\n",
      "StreetName                   0               0.00\n",
      "Agency                       0               0.00\n",
      "HourReported                 0               0.00\n",
      "ReportingOfficer            17               0.07\n",
      "Date                         0               0.00\n",
      "DateString                   0               0.00\n",
      "DayOfWeek                    0               0.00\n",
      "Weekend                      0               0.00\n",
      "Season                       0               0.00\n",
      "HourAMPM                     0               0.00\n",
      "TimeOfDay                    0               0.00\n",
      "FullStreet                   0               0.00\n",
      "lat                         41               0.16\n",
      "lon                         41               0.16\n",
      "neighborhood                 0               0.00\n",
      "zip                          0               0.00\n"
     ]
    }
   ],
   "source": [
    "missing_info = missing_percentage(df)\n",
    "print(missing_info)\n"
   ]
  },
  {
   "cell_type": "code",
   "execution_count": 13,
   "id": "fb59c6de",
   "metadata": {
    "execution": {
     "iopub.execute_input": "2025-07-07T01:11:25.874016Z",
     "iopub.status.busy": "2025-07-07T01:11:25.873624Z",
     "iopub.status.idle": "2025-07-07T01:11:25.902153Z",
     "shell.execute_reply": "2025-07-07T01:11:25.901471Z"
    },
    "papermill": {
     "duration": 0.037028,
     "end_time": "2025-07-07T01:11:25.903167",
     "exception": false,
     "start_time": "2025-07-07T01:11:25.866139",
     "status": "completed"
    },
    "tags": []
   },
   "outputs": [
    {
     "name": "stdout",
     "output_type": "stream",
     "text": [
      "<class 'pandas.core.frame.DataFrame'>\n",
      "RangeIndex: 25536 entries, 0 to 25535\n",
      "Data columns (total 20 columns):\n",
      " #   Column            Non-Null Count  Dtype         \n",
      "---  ------            --------------  -----         \n",
      " 0   RecordID          25536 non-null  int64         \n",
      " 1   Offense           25536 non-null  object        \n",
      " 2   IncidentID        25536 non-null  object        \n",
      " 3   BlockNumber       25536 non-null  object        \n",
      " 4   StreetName        25536 non-null  object        \n",
      " 5   Agency            25536 non-null  object        \n",
      " 6   HourReported      25536 non-null  object        \n",
      " 7   ReportingOfficer  25519 non-null  object        \n",
      " 8   Date              25536 non-null  datetime64[ns]\n",
      " 9   DateString        25536 non-null  object        \n",
      " 10  DayOfWeek         25536 non-null  object        \n",
      " 11  Weekend           25536 non-null  bool          \n",
      " 12  Season            25536 non-null  object        \n",
      " 13  HourAMPM          25536 non-null  object        \n",
      " 14  TimeOfDay         25536 non-null  object        \n",
      " 15  FullStreet        25536 non-null  object        \n",
      " 16  lat               25495 non-null  float64       \n",
      " 17  lon               25495 non-null  float64       \n",
      " 18  neighborhood      25536 non-null  object        \n",
      " 19  zip               25536 non-null  object        \n",
      "dtypes: bool(1), datetime64[ns](1), float64(2), int64(1), object(15)\n",
      "memory usage: 3.7+ MB\n"
     ]
    }
   ],
   "source": [
    "df.info()"
   ]
  },
  {
   "cell_type": "code",
   "execution_count": 14,
   "id": "4ced132a",
   "metadata": {
    "execution": {
     "iopub.execute_input": "2025-07-07T01:11:25.918716Z",
     "iopub.status.busy": "2025-07-07T01:11:25.918139Z",
     "iopub.status.idle": "2025-07-07T01:11:25.961714Z",
     "shell.execute_reply": "2025-07-07T01:11:25.961007Z"
    },
    "papermill": {
     "duration": 0.052319,
     "end_time": "2025-07-07T01:11:25.962851",
     "exception": false,
     "start_time": "2025-07-07T01:11:25.910532",
     "status": "completed"
    },
    "tags": []
   },
   "outputs": [
    {
     "data": {
      "text/html": [
       "<div>\n",
       "<style scoped>\n",
       "    .dataframe tbody tr th:only-of-type {\n",
       "        vertical-align: middle;\n",
       "    }\n",
       "\n",
       "    .dataframe tbody tr th {\n",
       "        vertical-align: top;\n",
       "    }\n",
       "\n",
       "    .dataframe thead th {\n",
       "        text-align: right;\n",
       "    }\n",
       "</style>\n",
       "<table border=\"1\" class=\"dataframe\">\n",
       "  <thead>\n",
       "    <tr style=\"text-align: right;\">\n",
       "      <th></th>\n",
       "      <th>RecordID</th>\n",
       "      <th>Offense</th>\n",
       "      <th>IncidentID</th>\n",
       "      <th>Agency</th>\n",
       "      <th>ReportingOfficer</th>\n",
       "      <th>Date</th>\n",
       "      <th>DayOfWeek</th>\n",
       "      <th>Weekend</th>\n",
       "      <th>Season</th>\n",
       "      <th>TimeOfDay</th>\n",
       "      <th>FullStreet</th>\n",
       "      <th>lat</th>\n",
       "      <th>lon</th>\n",
       "      <th>neighborhood</th>\n",
       "      <th>zip</th>\n",
       "    </tr>\n",
       "  </thead>\n",
       "  <tbody>\n",
       "    <tr>\n",
       "      <th>0</th>\n",
       "      <td>1</td>\n",
       "      <td>Disorderly Conduct</td>\n",
       "      <td>202500023162</td>\n",
       "      <td>CPD</td>\n",
       "      <td>Hudson, Jesse</td>\n",
       "      <td>2025-07-04 19:57:33</td>\n",
       "      <td>Friday</td>\n",
       "      <td>False</td>\n",
       "      <td>Summer</td>\n",
       "      <td>Evening</td>\n",
       "      <td>1000 PRESTON AVE</td>\n",
       "      <td>38.039155</td>\n",
       "      <td>-78.491633</td>\n",
       "      <td>Venable</td>\n",
       "      <td>22908</td>\n",
       "    </tr>\n",
       "    <tr>\n",
       "      <th>1</th>\n",
       "      <td>2</td>\n",
       "      <td>Larceny - All Other</td>\n",
       "      <td>202500023147</td>\n",
       "      <td>CPD</td>\n",
       "      <td>Bentz, Benjamin</td>\n",
       "      <td>2025-07-04 17:56:28</td>\n",
       "      <td>Friday</td>\n",
       "      <td>False</td>\n",
       "      <td>Summer</td>\n",
       "      <td>Evening</td>\n",
       "      <td>1000 E MARKET ST, 1-6</td>\n",
       "      <td>N/A</td>\n",
       "      <td>N/A</td>\n",
       "      <td>N/A</td>\n",
       "      <td>N/A</td>\n",
       "    </tr>\n",
       "    <tr>\n",
       "      <th>2</th>\n",
       "      <td>3</td>\n",
       "      <td>Larceny - All Other</td>\n",
       "      <td>202500023127</td>\n",
       "      <td>CPD</td>\n",
       "      <td>Hudson, Jesse</td>\n",
       "      <td>2025-07-04 15:05:43</td>\n",
       "      <td>Friday</td>\n",
       "      <td>False</td>\n",
       "      <td>Summer</td>\n",
       "      <td>Afternoon</td>\n",
       "      <td>2100 ARLINGTON BLVD, 509</td>\n",
       "      <td>38.049267</td>\n",
       "      <td>-78.506344</td>\n",
       "      <td>Barracks Road</td>\n",
       "      <td>22905</td>\n",
       "    </tr>\n",
       "    <tr>\n",
       "      <th>3</th>\n",
       "      <td>4</td>\n",
       "      <td>Larceny - From Motor Vehicle</td>\n",
       "      <td>202500023126</td>\n",
       "      <td>CPD</td>\n",
       "      <td>Prevost, Payten</td>\n",
       "      <td>2025-07-04 14:13:40</td>\n",
       "      <td>Friday</td>\n",
       "      <td>False</td>\n",
       "      <td>Summer</td>\n",
       "      <td>Afternoon</td>\n",
       "      <td>1000 WERTLAND ST, 404</td>\n",
       "      <td>38.033911</td>\n",
       "      <td>-78.494253</td>\n",
       "      <td>N/A</td>\n",
       "      <td>22903</td>\n",
       "    </tr>\n",
       "    <tr>\n",
       "      <th>4</th>\n",
       "      <td>5</td>\n",
       "      <td>Assist Citizen - Mental/TDO/ECO</td>\n",
       "      <td>202500023110</td>\n",
       "      <td>CPD</td>\n",
       "      <td>Turner, Devon</td>\n",
       "      <td>2025-07-04 11:41:22</td>\n",
       "      <td>Friday</td>\n",
       "      <td>False</td>\n",
       "      <td>Summer</td>\n",
       "      <td>Morning</td>\n",
       "      <td>1200 CARLTON AVE</td>\n",
       "      <td>38.023373</td>\n",
       "      <td>-78.471677</td>\n",
       "      <td>Belmont</td>\n",
       "      <td>22902</td>\n",
       "    </tr>\n",
       "  </tbody>\n",
       "</table>\n",
       "</div>"
      ],
      "text/plain": [
       "   RecordID                          Offense    IncidentID Agency  \\\n",
       "0         1               Disorderly Conduct  202500023162    CPD   \n",
       "1         2              Larceny - All Other  202500023147    CPD   \n",
       "2         3              Larceny - All Other  202500023127    CPD   \n",
       "3         4     Larceny - From Motor Vehicle  202500023126    CPD   \n",
       "4         5  Assist Citizen - Mental/TDO/ECO  202500023110    CPD   \n",
       "\n",
       "   ReportingOfficer                Date DayOfWeek  Weekend  Season  TimeOfDay  \\\n",
       "0     Hudson, Jesse 2025-07-04 19:57:33    Friday    False  Summer    Evening   \n",
       "1  Bentz, Benjamin  2025-07-04 17:56:28    Friday    False  Summer    Evening   \n",
       "2     Hudson, Jesse 2025-07-04 15:05:43    Friday    False  Summer  Afternoon   \n",
       "3   Prevost, Payten 2025-07-04 14:13:40    Friday    False  Summer  Afternoon   \n",
       "4     Turner, Devon 2025-07-04 11:41:22    Friday    False  Summer    Morning   \n",
       "\n",
       "                 FullStreet        lat        lon   neighborhood    zip  \n",
       "0          1000 PRESTON AVE  38.039155 -78.491633        Venable  22908  \n",
       "1     1000 E MARKET ST, 1-6        N/A        N/A            N/A    N/A  \n",
       "2  2100 ARLINGTON BLVD, 509  38.049267 -78.506344  Barracks Road  22905  \n",
       "3     1000 WERTLAND ST, 404  38.033911 -78.494253            N/A  22903  \n",
       "4          1200 CARLTON AVE  38.023373 -78.471677        Belmont  22902  "
      ]
     },
     "execution_count": 14,
     "metadata": {},
     "output_type": "execute_result"
    }
   ],
   "source": [
    "# Now drop the original BlockNumber and StreetName columns\n",
    "df.drop(columns=['BlockNumber', 'StreetName','HourAMPM','HourReported','DateString'], inplace=True)\n",
    "df[\"zip\"] = df[\"zip\"].astype(str)\n",
    "\n",
    "# Fill all missing values in the DataFrame with \"N/A\"\n",
    "df.replace({None: \"N/A\", np.nan: \"N/A\", \"\": \"N/A\"}, inplace=True)\n",
    "df.head()"
   ]
  },
  {
   "cell_type": "code",
   "execution_count": 15,
   "id": "5be1bc8e",
   "metadata": {
    "execution": {
     "iopub.execute_input": "2025-07-07T01:11:25.978887Z",
     "iopub.status.busy": "2025-07-07T01:11:25.978373Z",
     "iopub.status.idle": "2025-07-07T01:11:25.995409Z",
     "shell.execute_reply": "2025-07-07T01:11:25.994840Z"
    },
    "papermill": {
     "duration": 0.025901,
     "end_time": "2025-07-07T01:11:25.996434",
     "exception": false,
     "start_time": "2025-07-07T01:11:25.970533",
     "status": "completed"
    },
    "tags": []
   },
   "outputs": [
    {
     "name": "stdout",
     "output_type": "stream",
     "text": [
      "                  MissingCount  MissingPercentage\n",
      "RecordID                     0                0.0\n",
      "Offense                      0                0.0\n",
      "IncidentID                   0                0.0\n",
      "Agency                       0                0.0\n",
      "ReportingOfficer             0                0.0\n",
      "Date                         0                0.0\n",
      "DayOfWeek                    0                0.0\n",
      "Weekend                      0                0.0\n",
      "Season                       0                0.0\n",
      "TimeOfDay                    0                0.0\n",
      "FullStreet                   0                0.0\n",
      "lat                          0                0.0\n",
      "lon                          0                0.0\n",
      "neighborhood                 0                0.0\n",
      "zip                          0                0.0\n"
     ]
    }
   ],
   "source": [
    "missing_info = missing_percentage(df)\n",
    "print(missing_info)"
   ]
  },
  {
   "cell_type": "code",
   "execution_count": 16,
   "id": "2ffa8a38",
   "metadata": {
    "execution": {
     "iopub.execute_input": "2025-07-07T01:11:26.012149Z",
     "iopub.status.busy": "2025-07-07T01:11:26.011674Z",
     "iopub.status.idle": "2025-07-07T01:11:26.016004Z",
     "shell.execute_reply": "2025-07-07T01:11:26.015445Z"
    },
    "papermill": {
     "duration": 0.013169,
     "end_time": "2025-07-07T01:11:26.017037",
     "exception": false,
     "start_time": "2025-07-07T01:11:26.003868",
     "status": "completed"
    },
    "tags": []
   },
   "outputs": [
    {
     "data": {
      "text/plain": [
       "Index(['RecordID', 'Offense', 'IncidentID', 'Agency', 'ReportingOfficer',\n",
       "       'Date', 'DayOfWeek', 'Weekend', 'Season', 'TimeOfDay', 'FullStreet',\n",
       "       'lat', 'lon', 'neighborhood', 'zip'],\n",
       "      dtype='object')"
      ]
     },
     "execution_count": 16,
     "metadata": {},
     "output_type": "execute_result"
    }
   ],
   "source": [
    "df.columns"
   ]
  },
  {
   "cell_type": "code",
   "execution_count": 17,
   "id": "c85ee7d0",
   "metadata": {
    "execution": {
     "iopub.execute_input": "2025-07-07T01:11:26.032837Z",
     "iopub.status.busy": "2025-07-07T01:11:26.032393Z",
     "iopub.status.idle": "2025-07-07T01:11:26.053473Z",
     "shell.execute_reply": "2025-07-07T01:11:26.052894Z"
    },
    "papermill": {
     "duration": 0.030094,
     "end_time": "2025-07-07T01:11:26.054577",
     "exception": false,
     "start_time": "2025-07-07T01:11:26.024483",
     "status": "completed"
    },
    "tags": []
   },
   "outputs": [
    {
     "name": "stdout",
     "output_type": "stream",
     "text": [
      "<class 'pandas.core.frame.DataFrame'>\n",
      "RangeIndex: 25536 entries, 0 to 25535\n",
      "Data columns (total 15 columns):\n",
      " #   Column            Non-Null Count  Dtype         \n",
      "---  ------            --------------  -----         \n",
      " 0   RecordID          25536 non-null  int64         \n",
      " 1   Offense           25536 non-null  object        \n",
      " 2   IncidentID        25536 non-null  object        \n",
      " 3   Agency            25536 non-null  object        \n",
      " 4   ReportingOfficer  25536 non-null  object        \n",
      " 5   Date              25536 non-null  datetime64[ns]\n",
      " 6   DayOfWeek         25536 non-null  object        \n",
      " 7   Weekend           25536 non-null  bool          \n",
      " 8   Season            25536 non-null  object        \n",
      " 9   TimeOfDay         25536 non-null  object        \n",
      " 10  FullStreet        25536 non-null  object        \n",
      " 11  lat               25536 non-null  object        \n",
      " 12  lon               25536 non-null  object        \n",
      " 13  neighborhood      25536 non-null  object        \n",
      " 14  zip               25536 non-null  object        \n",
      "dtypes: bool(1), datetime64[ns](1), int64(1), object(12)\n",
      "memory usage: 2.8+ MB\n"
     ]
    }
   ],
   "source": [
    "df.info()"
   ]
  },
  {
   "cell_type": "markdown",
   "id": "7cf56ded",
   "metadata": {
    "papermill": {
     "duration": 0.007374,
     "end_time": "2025-07-07T01:11:26.069656",
     "exception": false,
     "start_time": "2025-07-07T01:11:26.062282",
     "status": "completed"
    },
    "tags": []
   },
   "source": [
    "### Export Clean Data"
   ]
  },
  {
   "cell_type": "code",
   "execution_count": 18,
   "id": "a61e526b",
   "metadata": {
    "execution": {
     "iopub.execute_input": "2025-07-07T01:11:26.086062Z",
     "iopub.status.busy": "2025-07-07T01:11:26.085601Z",
     "iopub.status.idle": "2025-07-07T01:11:35.263581Z",
     "shell.execute_reply": "2025-07-07T01:11:35.262949Z"
    },
    "papermill": {
     "duration": 9.187348,
     "end_time": "2025-07-07T01:11:35.264620",
     "exception": false,
     "start_time": "2025-07-07T01:11:26.077272",
     "status": "completed"
    },
    "tags": []
   },
   "outputs": [
    {
     "name": "stdout",
     "output_type": "stream",
     "text": [
      "Project Root: /home/runner/work/crime-data/crime-data\n"
     ]
    },
    {
     "name": "stdout",
     "output_type": "stream",
     "text": [
      "Data saved to: /home/runner/work/crime-data/crime-data/data/charlottesville_crime_incidents.csv\n"
     ]
    },
    {
     "name": "stdout",
     "output_type": "stream",
     "text": [
      "Excel saved to: /home/runner/work/crime-data/crime-data/data/charlottesville_crime_incidents.xlsx\n"
     ]
    }
   ],
   "source": [
    "# Determine the project root (assuming papermill is run from the repository root)\n",
    "project_root = os.getcwd()\n",
    "print(\"Project Root:\", project_root)\n",
    "\n",
    "# Set the data directory within the project root\n",
    "data_dir = os.path.join(project_root, \"data\")\n",
    "\n",
    "# Ensure the \"data\" directory exists (create it if it doesn't)\n",
    "if not os.path.exists(data_dir):\n",
    "    os.makedirs(data_dir)\n",
    "\n",
    "# Export the DataFrame to CSV in the \"data\" folder located in the project root\n",
    "csv_path = os.path.join(data_dir, \"charlottesville_crime_incidents.csv\")\n",
    "df.to_csv(csv_path, index=False)\n",
    "print(\"Data saved to:\", csv_path)\n",
    "\n",
    "# Construct the path to your Excel file\n",
    "excel_path = os.path.join(data_dir, \"charlottesville_crime_incidents.xlsx\")\n",
    "\n",
    "# Export the DataFrame to Excel\n",
    "df.to_excel(excel_path, index=False)\n",
    "print(\"Excel saved to:\", excel_path)\n"
   ]
  }
 ],
 "metadata": {
  "kernelspec": {
   "display_name": "Python 3",
   "language": "python",
   "name": "python3"
  },
  "language_info": {
   "codemirror_mode": {
    "name": "ipython",
    "version": 3
   },
   "file_extension": ".py",
   "mimetype": "text/x-python",
   "name": "python",
   "nbconvert_exporter": "python",
   "pygments_lexer": "ipython3",
   "version": "3.9.23"
  },
  "papermill": {
   "default_parameters": {},
   "duration": 123.549077,
   "end_time": "2025-07-07T01:11:35.688814",
   "environment_variables": {},
   "exception": null,
   "input_path": "notebook/Crime Data.ipynb",
   "output_path": "notebook/Crime Data_output.ipynb",
   "parameters": {},
   "start_time": "2025-07-07T01:09:32.139737",
   "version": "2.6.0"
  }
 },
 "nbformat": 4,
 "nbformat_minor": 5
}