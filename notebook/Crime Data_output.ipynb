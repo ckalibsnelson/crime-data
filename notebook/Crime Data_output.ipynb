{
 "cells": [
  {
   "cell_type": "markdown",
   "id": "8b91b1b0",
   "metadata": {
    "papermill": {
     "duration": 0.004388,
     "end_time": "2025-06-17T01:04:40.946787",
     "exception": false,
     "start_time": "2025-06-17T01:04:40.942399",
     "status": "completed"
    },
    "tags": []
   },
   "source": [
    "# Charlottesville Open Data Porttal: Crime Data"
   ]
  },
  {
   "cell_type": "markdown",
   "id": "92546adf",
   "metadata": {
    "papermill": {
     "duration": 0.003336,
     "end_time": "2025-06-17T01:04:40.953785",
     "exception": false,
     "start_time": "2025-06-17T01:04:40.950449",
     "status": "completed"
    },
    "tags": []
   },
   "source": [
    "## Import Relevant Librarires & Set WD"
   ]
  },
  {
   "cell_type": "code",
   "execution_count": 1,
   "id": "19845c89",
   "metadata": {
    "execution": {
     "iopub.execute_input": "2025-06-17T01:04:40.961715Z",
     "iopub.status.busy": "2025-06-17T01:04:40.961245Z",
     "iopub.status.idle": "2025-06-17T01:04:41.487930Z",
     "shell.execute_reply": "2025-06-17T01:04:41.487225Z"
    },
    "papermill": {
     "duration": 0.532299,
     "end_time": "2025-06-17T01:04:41.489386",
     "exception": false,
     "start_time": "2025-06-17T01:04:40.957087",
     "status": "completed"
    },
    "tags": []
   },
   "outputs": [],
   "source": [
    "import requests\n",
    "import pandas as pd\n",
    "import numpy as np\n",
    "import pickle\n",
    "import googlemaps\n",
    "import plotly.express as px\n",
    "from geopy.geocoders import Nominatim\n",
    "import time\n",
    "from dotenv import load_dotenv\n",
    "import os\n",
    "\n",
    "env_path = os.path.join(\"..\", \".env\")\n",
    "#print(\"Looking for .env file at:\", os.path.abspath(env_path))\n",
    "load_dotenv(dotenv_path=env_path)\n",
    "\n",
    "# Retrieve the variables\n",
    "GOOGLE_API_KEY = os.getenv(\"GOOGLE_API_KEY\")\n",
    "WORKING_DIR = os.getenv(\"WORKING_DIR\")\n",
    "\n",
    "if GOOGLE_API_KEY is None or WORKING_DIR is None:\n",
    "    raise RuntimeError(\"No configuration found. Please ensure that your .env file exists with the required variables, or create a local config.py file.\")\n",
    "\n",
    "#print(\"Google API Key:\", GOOGLE_API_KEY)\n",
    "#print(\"Working Directory:\", WORKING_DIR)"
   ]
  },
  {
   "cell_type": "markdown",
   "id": "82478e70",
   "metadata": {
    "papermill": {
     "duration": 0.003377,
     "end_time": "2025-06-17T01:04:41.496384",
     "exception": false,
     "start_time": "2025-06-17T01:04:41.493007",
     "status": "completed"
    },
    "tags": []
   },
   "source": [
    "## Import Data\n",
    "\n",
    "URL: https://opendata.charlottesville.org/datasets/charlottesville::crime-data/about"
   ]
  },
  {
   "cell_type": "code",
   "execution_count": 2,
   "id": "4ef3d7f0",
   "metadata": {
    "execution": {
     "iopub.execute_input": "2025-06-17T01:04:41.504146Z",
     "iopub.status.busy": "2025-06-17T01:04:41.503815Z",
     "iopub.status.idle": "2025-06-17T01:05:48.903762Z",
     "shell.execute_reply": "2025-06-17T01:05:48.903078Z"
    },
    "papermill": {
     "duration": 67.407905,
     "end_time": "2025-06-17T01:05:48.907646",
     "exception": false,
     "start_time": "2025-06-17T01:04:41.499741",
     "status": "completed"
    },
    "tags": []
   },
   "outputs": [
    {
     "name": "stdout",
     "output_type": "stream",
     "text": [
      "Total records imported: 25522\n"
     ]
    }
   ],
   "source": [
    "# Define the endpoint and initial parameters.\n",
    "url = \"https://gisweb.charlottesville.org/arcgis/rest/services/OpenData_2/MapServer/6/query\"\n",
    "params = {\n",
    "    \"where\": \"1=1\",\n",
    "    \"outFields\": \"*\",\n",
    "    \"outSR\": 4326,\n",
    "    \"f\": \"json\",\n",
    "    \"resultOffset\": 0,       # Starting index for results\n",
    "    \"resultRecordCount\": 10000  # Maximum records per batch (if allowed by the API)\n",
    "}\n",
    "\n",
    "records = []\n",
    "\n",
    "while True:\n",
    "    response = requests.get(url, params=params)\n",
    "    response.raise_for_status()\n",
    "    data = response.json()\n",
    "    \n",
    "    # Get the current batch of features.\n",
    "    features = data.get(\"features\", [])\n",
    "    if not features:\n",
    "        break\n",
    "\n",
    "    # Extract the attributes from the features.\n",
    "    batch_records = [feature.get(\"attributes\", {}) for feature in features]\n",
    "    records.extend(batch_records)\n",
    "    \n",
    "    # If the batch size is less than the requested count, we reached the end.\n",
    "    if len(features) < params[\"resultRecordCount\"]:\n",
    "        break\n",
    "\n",
    "    # Update the resultOffset for the next batch.\n",
    "    params[\"resultOffset\"] += params[\"resultRecordCount\"]\n",
    "\n",
    "# Create a DataFrame from the combined records.\n",
    "df = pd.DataFrame(records)\n",
    "print(\"Total records imported:\", len(df))\n"
   ]
  },
  {
   "cell_type": "code",
   "execution_count": 3,
   "id": "32eff4a7",
   "metadata": {
    "execution": {
     "iopub.execute_input": "2025-06-17T01:05:48.915699Z",
     "iopub.status.busy": "2025-06-17T01:05:48.915251Z",
     "iopub.status.idle": "2025-06-17T01:05:48.927540Z",
     "shell.execute_reply": "2025-06-17T01:05:48.926941Z"
    },
    "papermill": {
     "duration": 0.017355,
     "end_time": "2025-06-17T01:05:48.928544",
     "exception": false,
     "start_time": "2025-06-17T01:05:48.911189",
     "status": "completed"
    },
    "tags": []
   },
   "outputs": [
    {
     "data": {
      "text/html": [
       "<div>\n",
       "<style scoped>\n",
       "    .dataframe tbody tr th:only-of-type {\n",
       "        vertical-align: middle;\n",
       "    }\n",
       "\n",
       "    .dataframe tbody tr th {\n",
       "        vertical-align: top;\n",
       "    }\n",
       "\n",
       "    .dataframe thead th {\n",
       "        text-align: right;\n",
       "    }\n",
       "</style>\n",
       "<table border=\"1\" class=\"dataframe\">\n",
       "  <thead>\n",
       "    <tr style=\"text-align: right;\">\n",
       "      <th></th>\n",
       "      <th>RecordID</th>\n",
       "      <th>Offense</th>\n",
       "      <th>IncidentID</th>\n",
       "      <th>BlockNumber</th>\n",
       "      <th>StreetName</th>\n",
       "      <th>Agency</th>\n",
       "      <th>DateReported</th>\n",
       "      <th>HourReported</th>\n",
       "      <th>ReportingOfficer</th>\n",
       "    </tr>\n",
       "  </thead>\n",
       "  <tbody>\n",
       "    <tr>\n",
       "      <th>0</th>\n",
       "      <td>1</td>\n",
       "      <td>Larceny - Shoplifitng</td>\n",
       "      <td>202500020491</td>\n",
       "      <td>500</td>\n",
       "      <td>W MAIN ST</td>\n",
       "      <td>CPD</td>\n",
       "      <td>1749947136000</td>\n",
       "      <td>2025</td>\n",
       "      <td>Gaytan, Alejandro</td>\n",
       "    </tr>\n",
       "    <tr>\n",
       "      <th>1</th>\n",
       "      <td>2</td>\n",
       "      <td>Larceny - From Motor Vehicle</td>\n",
       "      <td>202500020474</td>\n",
       "      <td>800</td>\n",
       "      <td>W MAIN ST</td>\n",
       "      <td>CPD</td>\n",
       "      <td>1749936327000</td>\n",
       "      <td>1725</td>\n",
       "      <td>Essex, Dominique</td>\n",
       "    </tr>\n",
       "    <tr>\n",
       "      <th>2</th>\n",
       "      <td>3</td>\n",
       "      <td>Harassment</td>\n",
       "      <td>202500020465</td>\n",
       "      <td>1000</td>\n",
       "      <td>PAGE ST</td>\n",
       "      <td>CPD</td>\n",
       "      <td>1749927544000</td>\n",
       "      <td>1459</td>\n",
       "      <td>Kinney, Dylan</td>\n",
       "    </tr>\n",
       "    <tr>\n",
       "      <th>3</th>\n",
       "      <td>4</td>\n",
       "      <td>Larceny - All Other</td>\n",
       "      <td>202500020451</td>\n",
       "      <td>100</td>\n",
       "      <td>W MAIN ST</td>\n",
       "      <td>CPD</td>\n",
       "      <td>1749914963000</td>\n",
       "      <td>1129</td>\n",
       "      <td>Khaleefa, Hamzeh</td>\n",
       "    </tr>\n",
       "    <tr>\n",
       "      <th>4</th>\n",
       "      <td>5</td>\n",
       "      <td>Disorderly Conduct</td>\n",
       "      <td>202500020450</td>\n",
       "      <td>300</td>\n",
       "      <td>RIVERSIDE AVE, A</td>\n",
       "      <td>CPD</td>\n",
       "      <td>1749914668000</td>\n",
       "      <td>1124</td>\n",
       "      <td>Schwartz, Honora</td>\n",
       "    </tr>\n",
       "  </tbody>\n",
       "</table>\n",
       "</div>"
      ],
      "text/plain": [
       "   RecordID                       Offense    IncidentID BlockNumber  \\\n",
       "0         1         Larceny - Shoplifitng  202500020491         500   \n",
       "1         2  Larceny - From Motor Vehicle  202500020474         800   \n",
       "2         3                    Harassment  202500020465        1000   \n",
       "3         4           Larceny - All Other  202500020451         100   \n",
       "4         5            Disorderly Conduct  202500020450         300   \n",
       "\n",
       "         StreetName Agency   DateReported HourReported   ReportingOfficer  \n",
       "0         W MAIN ST    CPD  1749947136000         2025  Gaytan, Alejandro  \n",
       "1         W MAIN ST    CPD  1749936327000         1725   Essex, Dominique  \n",
       "2           PAGE ST    CPD  1749927544000         1459      Kinney, Dylan  \n",
       "3         W MAIN ST    CPD  1749914963000         1129   Khaleefa, Hamzeh  \n",
       "4  RIVERSIDE AVE, A    CPD  1749914668000         1124   Schwartz, Honora  "
      ]
     },
     "execution_count": 3,
     "metadata": {},
     "output_type": "execute_result"
    }
   ],
   "source": [
    "df.head()"
   ]
  },
  {
   "cell_type": "code",
   "execution_count": 4,
   "id": "7b8a8eea",
   "metadata": {
    "execution": {
     "iopub.execute_input": "2025-06-17T01:05:48.936783Z",
     "iopub.status.busy": "2025-06-17T01:05:48.936370Z",
     "iopub.status.idle": "2025-06-17T01:05:48.940664Z",
     "shell.execute_reply": "2025-06-17T01:05:48.940006Z"
    },
    "papermill": {
     "duration": 0.009522,
     "end_time": "2025-06-17T01:05:48.941726",
     "exception": false,
     "start_time": "2025-06-17T01:05:48.932204",
     "status": "completed"
    },
    "tags": []
   },
   "outputs": [
    {
     "data": {
      "text/plain": [
       "Index(['RecordID', 'Offense', 'IncidentID', 'BlockNumber', 'StreetName',\n",
       "       'Agency', 'DateReported', 'HourReported', 'ReportingOfficer'],\n",
       "      dtype='object')"
      ]
     },
     "execution_count": 4,
     "metadata": {},
     "output_type": "execute_result"
    }
   ],
   "source": [
    "df.columns"
   ]
  },
  {
   "cell_type": "code",
   "execution_count": 5,
   "id": "aef304a8",
   "metadata": {
    "execution": {
     "iopub.execute_input": "2025-06-17T01:05:48.950387Z",
     "iopub.status.busy": "2025-06-17T01:05:48.950157Z",
     "iopub.status.idle": "2025-06-17T01:05:48.972063Z",
     "shell.execute_reply": "2025-06-17T01:05:48.971492Z"
    },
    "papermill": {
     "duration": 0.027752,
     "end_time": "2025-06-17T01:05:48.973163",
     "exception": false,
     "start_time": "2025-06-17T01:05:48.945411",
     "status": "completed"
    },
    "tags": []
   },
   "outputs": [
    {
     "name": "stdout",
     "output_type": "stream",
     "text": [
      "<class 'pandas.core.frame.DataFrame'>\n",
      "RangeIndex: 25522 entries, 0 to 25521\n",
      "Data columns (total 9 columns):\n",
      " #   Column            Non-Null Count  Dtype \n",
      "---  ------            --------------  ----- \n",
      " 0   RecordID          25522 non-null  int64 \n",
      " 1   Offense           25522 non-null  object\n",
      " 2   IncidentID        25522 non-null  object\n",
      " 3   BlockNumber       25522 non-null  object\n",
      " 4   StreetName        25522 non-null  object\n",
      " 5   Agency            25522 non-null  object\n",
      " 6   DateReported      25522 non-null  int64 \n",
      " 7   HourReported      25522 non-null  object\n",
      " 8   ReportingOfficer  25505 non-null  object\n",
      "dtypes: int64(2), object(7)\n",
      "memory usage: 1.8+ MB\n"
     ]
    }
   ],
   "source": [
    "df.info()"
   ]
  },
  {
   "cell_type": "markdown",
   "id": "13796a9a",
   "metadata": {
    "papermill": {
     "duration": 0.003901,
     "end_time": "2025-06-17T01:05:48.980877",
     "exception": false,
     "start_time": "2025-06-17T01:05:48.976976",
     "status": "completed"
    },
    "tags": []
   },
   "source": [
    "### Missing Values"
   ]
  },
  {
   "cell_type": "code",
   "execution_count": 6,
   "id": "a1521d07",
   "metadata": {
    "execution": {
     "iopub.execute_input": "2025-06-17T01:05:49.012604Z",
     "iopub.status.busy": "2025-06-17T01:05:49.012155Z",
     "iopub.status.idle": "2025-06-17T01:05:49.036925Z",
     "shell.execute_reply": "2025-06-17T01:05:49.036361Z"
    },
    "papermill": {
     "duration": 0.030365,
     "end_time": "2025-06-17T01:05:49.037919",
     "exception": false,
     "start_time": "2025-06-17T01:05:49.007554",
     "status": "completed"
    },
    "tags": []
   },
   "outputs": [
    {
     "name": "stdout",
     "output_type": "stream",
     "text": [
      "                  MissingCount  MissingPercentage\n",
      "RecordID                     0               0.00\n",
      "Offense                      0               0.00\n",
      "IncidentID                   0               0.00\n",
      "BlockNumber                  0               0.00\n",
      "StreetName                   0               0.00\n",
      "Agency                       0               0.00\n",
      "DateReported                 0               0.00\n",
      "HourReported                 0               0.00\n",
      "ReportingOfficer            17               0.07\n"
     ]
    }
   ],
   "source": [
    "def missing_percentage(df):\n",
    "    \"\"\"\n",
    "    Returns a DataFrame with the count and percentage of missing values for each column.\n",
    "    \n",
    "    Parameters:\n",
    "        df (pd.DataFrame): The input DataFrame.\n",
    "    \n",
    "    Returns:\n",
    "        pd.DataFrame: A DataFrame with columns 'MissingCount' and 'MissingPercentage'.\n",
    "    \"\"\"\n",
    "    total_rows = len(df)\n",
    "    missing_count = df.isnull().sum()\n",
    "    missing_percent = (missing_count / total_rows) * 100\n",
    "    \n",
    "    result = pd.DataFrame({\n",
    "        'MissingCount': missing_count,\n",
    "        'MissingPercentage': missing_percent.round(2)\n",
    "    })\n",
    "    \n",
    "    return result\n",
    "\n",
    "# Example usage:\n",
    "missing_info = missing_percentage(df)\n",
    "print(missing_info)\n"
   ]
  },
  {
   "cell_type": "markdown",
   "id": "1f32d40c",
   "metadata": {
    "papermill": {
     "duration": 0.003913,
     "end_time": "2025-06-17T01:05:49.045856",
     "exception": false,
     "start_time": "2025-06-17T01:05:49.041943",
     "status": "completed"
    },
    "tags": []
   },
   "source": [
    "## Data Preparation"
   ]
  },
  {
   "cell_type": "markdown",
   "id": "db84d95c",
   "metadata": {
    "papermill": {
     "duration": 0.003752,
     "end_time": "2025-06-17T01:05:49.053340",
     "exception": false,
     "start_time": "2025-06-17T01:05:49.049588",
     "status": "completed"
    },
    "tags": []
   },
   "source": [
    "### Data Conversion"
   ]
  },
  {
   "cell_type": "code",
   "execution_count": 7,
   "id": "73d52189",
   "metadata": {
    "execution": {
     "iopub.execute_input": "2025-06-17T01:05:49.061990Z",
     "iopub.status.busy": "2025-06-17T01:05:49.061570Z",
     "iopub.status.idle": "2025-06-17T01:05:49.420918Z",
     "shell.execute_reply": "2025-06-17T01:05:49.420306Z"
    },
    "papermill": {
     "duration": 0.364851,
     "end_time": "2025-06-17T01:05:49.422013",
     "exception": false,
     "start_time": "2025-06-17T01:05:49.057162",
     "status": "completed"
    },
    "tags": []
   },
   "outputs": [
    {
     "data": {
      "text/html": [
       "<div>\n",
       "<style scoped>\n",
       "    .dataframe tbody tr th:only-of-type {\n",
       "        vertical-align: middle;\n",
       "    }\n",
       "\n",
       "    .dataframe tbody tr th {\n",
       "        vertical-align: top;\n",
       "    }\n",
       "\n",
       "    .dataframe thead th {\n",
       "        text-align: right;\n",
       "    }\n",
       "</style>\n",
       "<table border=\"1\" class=\"dataframe\">\n",
       "  <thead>\n",
       "    <tr style=\"text-align: right;\">\n",
       "      <th></th>\n",
       "      <th>RecordID</th>\n",
       "      <th>Offense</th>\n",
       "      <th>IncidentID</th>\n",
       "      <th>BlockNumber</th>\n",
       "      <th>StreetName</th>\n",
       "      <th>Agency</th>\n",
       "      <th>HourReported</th>\n",
       "      <th>ReportingOfficer</th>\n",
       "      <th>Date</th>\n",
       "      <th>DateString</th>\n",
       "      <th>DayOfWeek</th>\n",
       "      <th>Weekend</th>\n",
       "      <th>Season</th>\n",
       "      <th>HourAMPM</th>\n",
       "      <th>TimeOfDay</th>\n",
       "    </tr>\n",
       "  </thead>\n",
       "  <tbody>\n",
       "    <tr>\n",
       "      <th>0</th>\n",
       "      <td>1</td>\n",
       "      <td>Larceny - Shoplifitng</td>\n",
       "      <td>202500020491</td>\n",
       "      <td>500</td>\n",
       "      <td>W MAIN ST</td>\n",
       "      <td>CPD</td>\n",
       "      <td>2025</td>\n",
       "      <td>Gaytan, Alejandro</td>\n",
       "      <td>2025-06-14 20:25:36</td>\n",
       "      <td>2025-06-14 08:25:36 PM</td>\n",
       "      <td>Saturday</td>\n",
       "      <td>True</td>\n",
       "      <td>Spring</td>\n",
       "      <td>08:25 PM</td>\n",
       "      <td>Evening</td>\n",
       "    </tr>\n",
       "    <tr>\n",
       "      <th>1</th>\n",
       "      <td>2</td>\n",
       "      <td>Larceny - From Motor Vehicle</td>\n",
       "      <td>202500020474</td>\n",
       "      <td>800</td>\n",
       "      <td>W MAIN ST</td>\n",
       "      <td>CPD</td>\n",
       "      <td>1725</td>\n",
       "      <td>Essex, Dominique</td>\n",
       "      <td>2025-06-14 17:25:27</td>\n",
       "      <td>2025-06-14 05:25:27 PM</td>\n",
       "      <td>Saturday</td>\n",
       "      <td>True</td>\n",
       "      <td>Spring</td>\n",
       "      <td>05:25 PM</td>\n",
       "      <td>Evening</td>\n",
       "    </tr>\n",
       "    <tr>\n",
       "      <th>2</th>\n",
       "      <td>3</td>\n",
       "      <td>Harassment</td>\n",
       "      <td>202500020465</td>\n",
       "      <td>1000</td>\n",
       "      <td>PAGE ST</td>\n",
       "      <td>CPD</td>\n",
       "      <td>1459</td>\n",
       "      <td>Kinney, Dylan</td>\n",
       "      <td>2025-06-14 14:59:04</td>\n",
       "      <td>2025-06-14 02:59:04 PM</td>\n",
       "      <td>Saturday</td>\n",
       "      <td>True</td>\n",
       "      <td>Spring</td>\n",
       "      <td>02:59 PM</td>\n",
       "      <td>Afternoon</td>\n",
       "    </tr>\n",
       "    <tr>\n",
       "      <th>3</th>\n",
       "      <td>4</td>\n",
       "      <td>Larceny - All Other</td>\n",
       "      <td>202500020451</td>\n",
       "      <td>100</td>\n",
       "      <td>W MAIN ST</td>\n",
       "      <td>CPD</td>\n",
       "      <td>1129</td>\n",
       "      <td>Khaleefa, Hamzeh</td>\n",
       "      <td>2025-06-14 11:29:23</td>\n",
       "      <td>2025-06-14 11:29:23 AM</td>\n",
       "      <td>Saturday</td>\n",
       "      <td>True</td>\n",
       "      <td>Spring</td>\n",
       "      <td>11:29 AM</td>\n",
       "      <td>Morning</td>\n",
       "    </tr>\n",
       "    <tr>\n",
       "      <th>4</th>\n",
       "      <td>5</td>\n",
       "      <td>Disorderly Conduct</td>\n",
       "      <td>202500020450</td>\n",
       "      <td>300</td>\n",
       "      <td>RIVERSIDE AVE, A</td>\n",
       "      <td>CPD</td>\n",
       "      <td>1124</td>\n",
       "      <td>Schwartz, Honora</td>\n",
       "      <td>2025-06-14 11:24:28</td>\n",
       "      <td>2025-06-14 11:24:28 AM</td>\n",
       "      <td>Saturday</td>\n",
       "      <td>True</td>\n",
       "      <td>Spring</td>\n",
       "      <td>11:24 AM</td>\n",
       "      <td>Morning</td>\n",
       "    </tr>\n",
       "  </tbody>\n",
       "</table>\n",
       "</div>"
      ],
      "text/plain": [
       "   RecordID                       Offense    IncidentID BlockNumber  \\\n",
       "0         1         Larceny - Shoplifitng  202500020491         500   \n",
       "1         2  Larceny - From Motor Vehicle  202500020474         800   \n",
       "2         3                    Harassment  202500020465        1000   \n",
       "3         4           Larceny - All Other  202500020451         100   \n",
       "4         5            Disorderly Conduct  202500020450         300   \n",
       "\n",
       "         StreetName Agency HourReported   ReportingOfficer  \\\n",
       "0         W MAIN ST    CPD         2025  Gaytan, Alejandro   \n",
       "1         W MAIN ST    CPD         1725   Essex, Dominique   \n",
       "2           PAGE ST    CPD         1459      Kinney, Dylan   \n",
       "3         W MAIN ST    CPD         1129   Khaleefa, Hamzeh   \n",
       "4  RIVERSIDE AVE, A    CPD         1124   Schwartz, Honora   \n",
       "\n",
       "                 Date              DateString DayOfWeek  Weekend  Season  \\\n",
       "0 2025-06-14 20:25:36  2025-06-14 08:25:36 PM  Saturday     True  Spring   \n",
       "1 2025-06-14 17:25:27  2025-06-14 05:25:27 PM  Saturday     True  Spring   \n",
       "2 2025-06-14 14:59:04  2025-06-14 02:59:04 PM  Saturday     True  Spring   \n",
       "3 2025-06-14 11:29:23  2025-06-14 11:29:23 AM  Saturday     True  Spring   \n",
       "4 2025-06-14 11:24:28  2025-06-14 11:24:28 AM  Saturday     True  Spring   \n",
       "\n",
       "   HourAMPM  TimeOfDay  \n",
       "0  08:25 PM    Evening  \n",
       "1  05:25 PM    Evening  \n",
       "2  02:59 PM  Afternoon  \n",
       "3  11:29 AM    Morning  \n",
       "4  11:24 AM    Morning  "
      ]
     },
     "execution_count": 7,
     "metadata": {},
     "output_type": "execute_result"
    }
   ],
   "source": [
    "def convert_and_categorize_datereported(df, col='DateReported'):\n",
    "    \"\"\"\n",
    "    Converts an epoch (in milliseconds) date column into a timezone-aware datetime,\n",
    "    converts it to Eastern Time, and then creates columns for day-of-week, weekend flag,\n",
    "    season, 12-hour formatted time, and time-of-day. Keeps both a real datetime column\n",
    "    (Date) and a string representation (DateString).\n",
    "    \"\"\"\n",
    "    import pandas as pd\n",
    "\n",
    "    # Convert the epoch timestamp to a pandas datetime object as UTC, then convert to US/Eastern.\n",
    "    df[\"DateReported_dt\"] = (\n",
    "        pd.to_datetime(df[col], unit=\"ms\", errors=\"coerce\", utc=True)\n",
    "        .dt.tz_convert(\"US/Eastern\")\n",
    "    )\n",
    "    \n",
    "    # Create a true datetime column (remove timezone if you prefer naive datetime)\n",
    "    df[\"Date\"] = df[\"DateReported_dt\"].dt.tz_localize(None)\n",
    "\n",
    "    # Optionally, create a separate string-formatted column\n",
    "    df[\"DateString\"] = df[\"DateReported_dt\"].dt.strftime(\"%Y-%m-%d %I:%M:%S %p\")\n",
    "    \n",
    "    # DayOfWeek\n",
    "    df[\"DayOfWeek\"] = df[\"DateReported_dt\"].dt.day_name()\n",
    "    \n",
    "    # Weekend\n",
    "    df[\"Weekend\"] = df[\"DayOfWeek\"].isin([\"Saturday\", \"Sunday\"])\n",
    "    \n",
    "    # Helper function to determine the season\n",
    "    def get_season(dt):\n",
    "        month = dt.month\n",
    "        day = dt.day\n",
    "        # Approximate Northern Hemisphere season boundaries:\n",
    "        if (month == 12 and day >= 21) or (month < 3) or (month == 3 and day < 20):\n",
    "            return \"Winter\"\n",
    "        elif (month == 3 and day >= 20) or (month < 6) or (month == 6 and day < 21):\n",
    "            return \"Spring\"\n",
    "        elif (month == 6 and day >= 21) or (month < 9) or (month == 9 and day < 22):\n",
    "            return \"Summer\"\n",
    "        else:\n",
    "            return \"Autumn\"\n",
    "    \n",
    "    df[\"Season\"] = df[\"DateReported_dt\"].apply(get_season)\n",
    "    \n",
    "    # 12-hour formatted time (HourAMPM)\n",
    "    df[\"HourAMPM\"] = df[\"DateReported_dt\"].dt.strftime(\"%I:%M %p\")\n",
    "    \n",
    "    # Extract hour (0-23) for time-of-day\n",
    "    df[\"HourValue\"] = df[\"DateReported_dt\"].dt.hour\n",
    "    \n",
    "    def time_of_day(hour):\n",
    "        if pd.isnull(hour):\n",
    "            return None\n",
    "        if 5 <= hour < 12:\n",
    "            return \"Morning\"\n",
    "        elif 12 <= hour < 17:\n",
    "            return \"Afternoon\"\n",
    "        elif 17 <= hour < 21:\n",
    "            return \"Evening\"\n",
    "        else:\n",
    "            return \"Night\"\n",
    "    \n",
    "    df[\"TimeOfDay\"] = df[\"HourValue\"].apply(time_of_day)\n",
    "    \n",
    "    # Drop columns you no longer need\n",
    "    df.drop(columns=[col, \"DateReported_dt\", \"HourValue\"], inplace=True)\n",
    "    \n",
    "    return df\n",
    "\n",
    "# Example usage:\n",
    "df = convert_and_categorize_datereported(df)\n",
    "df.head()\n"
   ]
  },
  {
   "cell_type": "code",
   "execution_count": 8,
   "id": "47a70c08",
   "metadata": {
    "execution": {
     "iopub.execute_input": "2025-06-17T01:05:49.431566Z",
     "iopub.status.busy": "2025-06-17T01:05:49.431161Z",
     "iopub.status.idle": "2025-06-17T01:05:49.457542Z",
     "shell.execute_reply": "2025-06-17T01:05:49.456825Z"
    },
    "papermill": {
     "duration": 0.03215,
     "end_time": "2025-06-17T01:05:49.458538",
     "exception": false,
     "start_time": "2025-06-17T01:05:49.426388",
     "status": "completed"
    },
    "tags": []
   },
   "outputs": [
    {
     "name": "stdout",
     "output_type": "stream",
     "text": [
      "<class 'pandas.core.frame.DataFrame'>\n",
      "RangeIndex: 25522 entries, 0 to 25521\n",
      "Data columns (total 15 columns):\n",
      " #   Column            Non-Null Count  Dtype         \n",
      "---  ------            --------------  -----         \n",
      " 0   RecordID          25522 non-null  int64         \n",
      " 1   Offense           25522 non-null  object        \n",
      " 2   IncidentID        25522 non-null  object        \n",
      " 3   BlockNumber       25522 non-null  object        \n",
      " 4   StreetName        25522 non-null  object        \n",
      " 5   Agency            25522 non-null  object        \n",
      " 6   HourReported      25522 non-null  object        \n",
      " 7   ReportingOfficer  25505 non-null  object        \n",
      " 8   Date              25522 non-null  datetime64[ns]\n",
      " 9   DateString        25522 non-null  object        \n",
      " 10  DayOfWeek         25522 non-null  object        \n",
      " 11  Weekend           25522 non-null  bool          \n",
      " 12  Season            25522 non-null  object        \n",
      " 13  HourAMPM          25522 non-null  object        \n",
      " 14  TimeOfDay         25522 non-null  object        \n",
      "dtypes: bool(1), datetime64[ns](1), int64(1), object(12)\n",
      "memory usage: 2.8+ MB\n"
     ]
    }
   ],
   "source": [
    "df.info()"
   ]
  },
  {
   "cell_type": "markdown",
   "id": "c6bfa2af",
   "metadata": {
    "papermill": {
     "duration": 0.004049,
     "end_time": "2025-06-17T01:05:49.466852",
     "exception": false,
     "start_time": "2025-06-17T01:05:49.462803",
     "status": "completed"
    },
    "tags": []
   },
   "source": [
    "### Coordinates"
   ]
  },
  {
   "cell_type": "code",
   "execution_count": 9,
   "id": "939bebba",
   "metadata": {
    "execution": {
     "iopub.execute_input": "2025-06-17T01:05:49.476228Z",
     "iopub.status.busy": "2025-06-17T01:05:49.475743Z",
     "iopub.status.idle": "2025-06-17T01:05:49.519232Z",
     "shell.execute_reply": "2025-06-17T01:05:49.518554Z"
    },
    "papermill": {
     "duration": 0.049449,
     "end_time": "2025-06-17T01:05:49.520446",
     "exception": false,
     "start_time": "2025-06-17T01:05:49.470997",
     "status": "completed"
    },
    "tags": []
   },
   "outputs": [
    {
     "name": "stdout",
     "output_type": "stream",
     "text": [
      "Loaded geocode cache.\n",
      "Geocode cache updated and saved.\n"
     ]
    },
    {
     "data": {
      "text/html": [
       "<div>\n",
       "<style scoped>\n",
       "    .dataframe tbody tr th:only-of-type {\n",
       "        vertical-align: middle;\n",
       "    }\n",
       "\n",
       "    .dataframe tbody tr th {\n",
       "        vertical-align: top;\n",
       "    }\n",
       "\n",
       "    .dataframe thead th {\n",
       "        text-align: right;\n",
       "    }\n",
       "</style>\n",
       "<table border=\"1\" class=\"dataframe\">\n",
       "  <thead>\n",
       "    <tr style=\"text-align: right;\">\n",
       "      <th></th>\n",
       "      <th>RecordID</th>\n",
       "      <th>Offense</th>\n",
       "      <th>IncidentID</th>\n",
       "      <th>BlockNumber</th>\n",
       "      <th>StreetName</th>\n",
       "      <th>Agency</th>\n",
       "      <th>HourReported</th>\n",
       "      <th>ReportingOfficer</th>\n",
       "      <th>Date</th>\n",
       "      <th>DateString</th>\n",
       "      <th>DayOfWeek</th>\n",
       "      <th>Weekend</th>\n",
       "      <th>Season</th>\n",
       "      <th>HourAMPM</th>\n",
       "      <th>TimeOfDay</th>\n",
       "      <th>FullStreet</th>\n",
       "      <th>lat</th>\n",
       "      <th>lon</th>\n",
       "    </tr>\n",
       "  </thead>\n",
       "  <tbody>\n",
       "    <tr>\n",
       "      <th>0</th>\n",
       "      <td>1</td>\n",
       "      <td>Larceny - Shoplifitng</td>\n",
       "      <td>202500020491</td>\n",
       "      <td>500</td>\n",
       "      <td>W MAIN ST</td>\n",
       "      <td>CPD</td>\n",
       "      <td>2025</td>\n",
       "      <td>Gaytan, Alejandro</td>\n",
       "      <td>2025-06-14 20:25:36</td>\n",
       "      <td>2025-06-14 08:25:36 PM</td>\n",
       "      <td>Saturday</td>\n",
       "      <td>True</td>\n",
       "      <td>Spring</td>\n",
       "      <td>08:25 PM</td>\n",
       "      <td>Evening</td>\n",
       "      <td>500 W MAIN ST</td>\n",
       "      <td>38.030793</td>\n",
       "      <td>-78.487912</td>\n",
       "    </tr>\n",
       "    <tr>\n",
       "      <th>1</th>\n",
       "      <td>2</td>\n",
       "      <td>Larceny - From Motor Vehicle</td>\n",
       "      <td>202500020474</td>\n",
       "      <td>800</td>\n",
       "      <td>W MAIN ST</td>\n",
       "      <td>CPD</td>\n",
       "      <td>1725</td>\n",
       "      <td>Essex, Dominique</td>\n",
       "      <td>2025-06-14 17:25:27</td>\n",
       "      <td>2025-06-14 05:25:27 PM</td>\n",
       "      <td>Saturday</td>\n",
       "      <td>True</td>\n",
       "      <td>Spring</td>\n",
       "      <td>05:25 PM</td>\n",
       "      <td>Evening</td>\n",
       "      <td>800 W MAIN ST</td>\n",
       "      <td>38.031480</td>\n",
       "      <td>-78.490333</td>\n",
       "    </tr>\n",
       "    <tr>\n",
       "      <th>2</th>\n",
       "      <td>3</td>\n",
       "      <td>Harassment</td>\n",
       "      <td>202500020465</td>\n",
       "      <td>1000</td>\n",
       "      <td>PAGE ST</td>\n",
       "      <td>CPD</td>\n",
       "      <td>1459</td>\n",
       "      <td>Kinney, Dylan</td>\n",
       "      <td>2025-06-14 14:59:04</td>\n",
       "      <td>2025-06-14 02:59:04 PM</td>\n",
       "      <td>Saturday</td>\n",
       "      <td>True</td>\n",
       "      <td>Spring</td>\n",
       "      <td>02:59 PM</td>\n",
       "      <td>Afternoon</td>\n",
       "      <td>1000 PAGE ST</td>\n",
       "      <td>38.035193</td>\n",
       "      <td>-78.493803</td>\n",
       "    </tr>\n",
       "    <tr>\n",
       "      <th>3</th>\n",
       "      <td>4</td>\n",
       "      <td>Larceny - All Other</td>\n",
       "      <td>202500020451</td>\n",
       "      <td>100</td>\n",
       "      <td>W MAIN ST</td>\n",
       "      <td>CPD</td>\n",
       "      <td>1129</td>\n",
       "      <td>Khaleefa, Hamzeh</td>\n",
       "      <td>2025-06-14 11:29:23</td>\n",
       "      <td>2025-06-14 11:29:23 AM</td>\n",
       "      <td>Saturday</td>\n",
       "      <td>True</td>\n",
       "      <td>Spring</td>\n",
       "      <td>11:29 AM</td>\n",
       "      <td>Morning</td>\n",
       "      <td>100 W MAIN ST</td>\n",
       "      <td>38.030718</td>\n",
       "      <td>-78.481656</td>\n",
       "    </tr>\n",
       "    <tr>\n",
       "      <th>4</th>\n",
       "      <td>5</td>\n",
       "      <td>Disorderly Conduct</td>\n",
       "      <td>202500020450</td>\n",
       "      <td>300</td>\n",
       "      <td>RIVERSIDE AVE, A</td>\n",
       "      <td>CPD</td>\n",
       "      <td>1124</td>\n",
       "      <td>Schwartz, Honora</td>\n",
       "      <td>2025-06-14 11:24:28</td>\n",
       "      <td>2025-06-14 11:24:28 AM</td>\n",
       "      <td>Saturday</td>\n",
       "      <td>True</td>\n",
       "      <td>Spring</td>\n",
       "      <td>11:24 AM</td>\n",
       "      <td>Morning</td>\n",
       "      <td>300 RIVERSIDE AVE, A</td>\n",
       "      <td>38.023934</td>\n",
       "      <td>-78.455327</td>\n",
       "    </tr>\n",
       "  </tbody>\n",
       "</table>\n",
       "</div>"
      ],
      "text/plain": [
       "   RecordID                       Offense    IncidentID BlockNumber  \\\n",
       "0         1         Larceny - Shoplifitng  202500020491         500   \n",
       "1         2  Larceny - From Motor Vehicle  202500020474         800   \n",
       "2         3                    Harassment  202500020465        1000   \n",
       "3         4           Larceny - All Other  202500020451         100   \n",
       "4         5            Disorderly Conduct  202500020450         300   \n",
       "\n",
       "         StreetName Agency HourReported   ReportingOfficer  \\\n",
       "0         W MAIN ST    CPD         2025  Gaytan, Alejandro   \n",
       "1         W MAIN ST    CPD         1725   Essex, Dominique   \n",
       "2           PAGE ST    CPD         1459      Kinney, Dylan   \n",
       "3         W MAIN ST    CPD         1129   Khaleefa, Hamzeh   \n",
       "4  RIVERSIDE AVE, A    CPD         1124   Schwartz, Honora   \n",
       "\n",
       "                 Date              DateString DayOfWeek  Weekend  Season  \\\n",
       "0 2025-06-14 20:25:36  2025-06-14 08:25:36 PM  Saturday     True  Spring   \n",
       "1 2025-06-14 17:25:27  2025-06-14 05:25:27 PM  Saturday     True  Spring   \n",
       "2 2025-06-14 14:59:04  2025-06-14 02:59:04 PM  Saturday     True  Spring   \n",
       "3 2025-06-14 11:29:23  2025-06-14 11:29:23 AM  Saturday     True  Spring   \n",
       "4 2025-06-14 11:24:28  2025-06-14 11:24:28 AM  Saturday     True  Spring   \n",
       "\n",
       "   HourAMPM  TimeOfDay            FullStreet        lat        lon  \n",
       "0  08:25 PM    Evening         500 W MAIN ST  38.030793 -78.487912  \n",
       "1  05:25 PM    Evening         800 W MAIN ST  38.031480 -78.490333  \n",
       "2  02:59 PM  Afternoon          1000 PAGE ST  38.035193 -78.493803  \n",
       "3  11:29 AM    Morning         100 W MAIN ST  38.030718 -78.481656  \n",
       "4  11:24 AM    Morning  300 RIVERSIDE AVE, A  38.023934 -78.455327  "
      ]
     },
     "execution_count": 9,
     "metadata": {},
     "output_type": "execute_result"
    }
   ],
   "source": [
    "# Combine BlockNumber and StreetName into a full address string\n",
    "df['FullStreet'] = df['BlockNumber'].astype(str) + \" \" + df['StreetName']\n",
    "\n",
    "# --- Step 1: Setup the Google Maps Client and Cache ---\n",
    "gmaps = googlemaps.Client(key=GOOGLE_API_KEY)\n",
    "\n",
    "# Try to load cached geocoding results if available.\n",
    "try:\n",
    "    with open(\"geocode_cache_google.pkl\", \"rb\") as f:\n",
    "        street_coords = pickle.load(f)\n",
    "    print(\"Loaded geocode cache.\")\n",
    "except FileNotFoundError:\n",
    "    street_coords = {}\n",
    "    print(\"No cache found; starting fresh.\")\n",
    "\n",
    "def geocode_address(address):\n",
    "    try:\n",
    "        # Append city and state to help geocoding\n",
    "        result = gmaps.geocode(f\"{address}, Charlottesville, VA\")\n",
    "        if result:\n",
    "            lat = result[0]['geometry']['location']['lat']\n",
    "            lon = result[0]['geometry']['location']['lng']\n",
    "            return lat, lon\n",
    "    except Exception as e:\n",
    "        print(f\"Error geocoding {address}: {e}\")\n",
    "    return None, None\n",
    "\n",
    "# --- Step 2: Geocode Only New Addresses ---\n",
    "unique_addresses = df['FullStreet'].unique()\n",
    "for address in unique_addresses:\n",
    "    if address not in street_coords:\n",
    "        lat, lon = geocode_address(address)\n",
    "        street_coords[address] = (lat, lon)\n",
    "        print(f\"Geocoded {address}: {lat}, {lon}\")\n",
    "\n",
    "# Save the updated cache to disk.\n",
    "with open(\"geocode_cache_google.pkl\", \"wb\") as f:\n",
    "    pickle.dump(street_coords, f)\n",
    "    print(\"Geocode cache updated and saved.\")\n",
    "\n",
    "# --- Step 3: Map Coordinates Back to DataFrame ---\n",
    "df['lat'] = df['FullStreet'].map(lambda s: street_coords.get(s, (None, None))[0])\n",
    "df['lon'] = df['FullStreet'].map(lambda s: street_coords.get(s, (None, None))[1])\n",
    "\n",
    "df.head()"
   ]
  },
  {
   "cell_type": "markdown",
   "id": "ff7717a6",
   "metadata": {
    "papermill": {
     "duration": 0.004267,
     "end_time": "2025-06-17T01:05:49.529336",
     "exception": false,
     "start_time": "2025-06-17T01:05:49.525069",
     "status": "completed"
    },
    "tags": []
   },
   "source": [
    "### Neighborhood"
   ]
  },
  {
   "cell_type": "code",
   "execution_count": 10,
   "id": "a8437d3a",
   "metadata": {
    "execution": {
     "iopub.execute_input": "2025-06-17T01:05:49.539274Z",
     "iopub.status.busy": "2025-06-17T01:05:49.538876Z",
     "iopub.status.idle": "2025-06-17T01:05:50.376269Z",
     "shell.execute_reply": "2025-06-17T01:05:50.375570Z"
    },
    "papermill": {
     "duration": 0.843546,
     "end_time": "2025-06-17T01:05:50.377282",
     "exception": false,
     "start_time": "2025-06-17T01:05:49.533736",
     "status": "completed"
    },
    "tags": []
   },
   "outputs": [
    {
     "name": "stdout",
     "output_type": "stream",
     "text": [
      "Loaded neighborhood cache.\n",
      "Error getting neighborhood for nan, nan: HTTP Error: 400\n"
     ]
    },
    {
     "name": "stdout",
     "output_type": "stream",
     "text": [
      "Error getting neighborhood for nan, nan: HTTP Error: 400\n"
     ]
    },
    {
     "name": "stdout",
     "output_type": "stream",
     "text": [
      "Error getting neighborhood for nan, nan: HTTP Error: 400\n"
     ]
    },
    {
     "name": "stdout",
     "output_type": "stream",
     "text": [
      "Error getting neighborhood for nan, nan: HTTP Error: 400\n",
      "Error getting neighborhood for nan, nan: HTTP Error: 400\n",
      "Error getting neighborhood for nan, nan: HTTP Error: 400\n",
      "Error getting neighborhood for nan, nan: HTTP Error: 400\n",
      "Error getting neighborhood for nan, nan: HTTP Error: 400\n",
      "Error getting neighborhood for nan, nan: HTTP Error: 400\n"
     ]
    },
    {
     "name": "stdout",
     "output_type": "stream",
     "text": [
      "Error getting neighborhood for nan, nan: HTTP Error: 400\n"
     ]
    },
    {
     "name": "stdout",
     "output_type": "stream",
     "text": [
      "Error getting neighborhood for nan, nan: HTTP Error: 400\n"
     ]
    },
    {
     "name": "stdout",
     "output_type": "stream",
     "text": [
      "Error getting neighborhood for nan, nan: HTTP Error: 400\n",
      "Error getting neighborhood for nan, nan: HTTP Error: 400\n",
      "Error getting neighborhood for nan, nan: HTTP Error: 400\n",
      "Error getting neighborhood for nan, nan: HTTP Error: 400\n",
      "Error getting neighborhood for nan, nan: HTTP Error: 400\n",
      "Error getting neighborhood for nan, nan: HTTP Error: 400\n"
     ]
    },
    {
     "name": "stdout",
     "output_type": "stream",
     "text": [
      "Error getting neighborhood for nan, nan: HTTP Error: 400\n"
     ]
    },
    {
     "name": "stdout",
     "output_type": "stream",
     "text": [
      "Error getting neighborhood for nan, nan: HTTP Error: 400\n",
      "Error getting neighborhood for nan, nan: HTTP Error: 400\n"
     ]
    },
    {
     "name": "stdout",
     "output_type": "stream",
     "text": [
      "Error getting neighborhood for nan, nan: HTTP Error: 400\n"
     ]
    },
    {
     "data": {
      "text/html": [
       "<div>\n",
       "<style scoped>\n",
       "    .dataframe tbody tr th:only-of-type {\n",
       "        vertical-align: middle;\n",
       "    }\n",
       "\n",
       "    .dataframe tbody tr th {\n",
       "        vertical-align: top;\n",
       "    }\n",
       "\n",
       "    .dataframe thead th {\n",
       "        text-align: right;\n",
       "    }\n",
       "</style>\n",
       "<table border=\"1\" class=\"dataframe\">\n",
       "  <thead>\n",
       "    <tr style=\"text-align: right;\">\n",
       "      <th></th>\n",
       "      <th>RecordID</th>\n",
       "      <th>Offense</th>\n",
       "      <th>IncidentID</th>\n",
       "      <th>BlockNumber</th>\n",
       "      <th>StreetName</th>\n",
       "      <th>Agency</th>\n",
       "      <th>HourReported</th>\n",
       "      <th>ReportingOfficer</th>\n",
       "      <th>Date</th>\n",
       "      <th>DateString</th>\n",
       "      <th>DayOfWeek</th>\n",
       "      <th>Weekend</th>\n",
       "      <th>Season</th>\n",
       "      <th>HourAMPM</th>\n",
       "      <th>TimeOfDay</th>\n",
       "      <th>FullStreet</th>\n",
       "      <th>lat</th>\n",
       "      <th>lon</th>\n",
       "      <th>neighborhood</th>\n",
       "    </tr>\n",
       "  </thead>\n",
       "  <tbody>\n",
       "    <tr>\n",
       "      <th>0</th>\n",
       "      <td>1</td>\n",
       "      <td>Larceny - Shoplifitng</td>\n",
       "      <td>202500020491</td>\n",
       "      <td>500</td>\n",
       "      <td>W MAIN ST</td>\n",
       "      <td>CPD</td>\n",
       "      <td>2025</td>\n",
       "      <td>Gaytan, Alejandro</td>\n",
       "      <td>2025-06-14 20:25:36</td>\n",
       "      <td>2025-06-14 08:25:36 PM</td>\n",
       "      <td>Saturday</td>\n",
       "      <td>True</td>\n",
       "      <td>Spring</td>\n",
       "      <td>08:25 PM</td>\n",
       "      <td>Evening</td>\n",
       "      <td>500 W MAIN ST</td>\n",
       "      <td>38.030793</td>\n",
       "      <td>-78.487912</td>\n",
       "      <td>Starr Hill</td>\n",
       "    </tr>\n",
       "    <tr>\n",
       "      <th>1</th>\n",
       "      <td>2</td>\n",
       "      <td>Larceny - From Motor Vehicle</td>\n",
       "      <td>202500020474</td>\n",
       "      <td>800</td>\n",
       "      <td>W MAIN ST</td>\n",
       "      <td>CPD</td>\n",
       "      <td>1725</td>\n",
       "      <td>Essex, Dominique</td>\n",
       "      <td>2025-06-14 17:25:27</td>\n",
       "      <td>2025-06-14 05:25:27 PM</td>\n",
       "      <td>Saturday</td>\n",
       "      <td>True</td>\n",
       "      <td>Spring</td>\n",
       "      <td>05:25 PM</td>\n",
       "      <td>Evening</td>\n",
       "      <td>800 W MAIN ST</td>\n",
       "      <td>38.031480</td>\n",
       "      <td>-78.490333</td>\n",
       "      <td>Starr Hill</td>\n",
       "    </tr>\n",
       "    <tr>\n",
       "      <th>2</th>\n",
       "      <td>3</td>\n",
       "      <td>Harassment</td>\n",
       "      <td>202500020465</td>\n",
       "      <td>1000</td>\n",
       "      <td>PAGE ST</td>\n",
       "      <td>CPD</td>\n",
       "      <td>1459</td>\n",
       "      <td>Kinney, Dylan</td>\n",
       "      <td>2025-06-14 14:59:04</td>\n",
       "      <td>2025-06-14 02:59:04 PM</td>\n",
       "      <td>Saturday</td>\n",
       "      <td>True</td>\n",
       "      <td>Spring</td>\n",
       "      <td>02:59 PM</td>\n",
       "      <td>Afternoon</td>\n",
       "      <td>1000 PAGE ST</td>\n",
       "      <td>38.035193</td>\n",
       "      <td>-78.493803</td>\n",
       "      <td>Venable</td>\n",
       "    </tr>\n",
       "    <tr>\n",
       "      <th>3</th>\n",
       "      <td>4</td>\n",
       "      <td>Larceny - All Other</td>\n",
       "      <td>202500020451</td>\n",
       "      <td>100</td>\n",
       "      <td>W MAIN ST</td>\n",
       "      <td>CPD</td>\n",
       "      <td>1129</td>\n",
       "      <td>Khaleefa, Hamzeh</td>\n",
       "      <td>2025-06-14 11:29:23</td>\n",
       "      <td>2025-06-14 11:29:23 AM</td>\n",
       "      <td>Saturday</td>\n",
       "      <td>True</td>\n",
       "      <td>Spring</td>\n",
       "      <td>11:29 AM</td>\n",
       "      <td>Morning</td>\n",
       "      <td>100 W MAIN ST</td>\n",
       "      <td>38.030718</td>\n",
       "      <td>-78.481656</td>\n",
       "      <td>Downtown Mall</td>\n",
       "    </tr>\n",
       "    <tr>\n",
       "      <th>4</th>\n",
       "      <td>5</td>\n",
       "      <td>Disorderly Conduct</td>\n",
       "      <td>202500020450</td>\n",
       "      <td>300</td>\n",
       "      <td>RIVERSIDE AVE, A</td>\n",
       "      <td>CPD</td>\n",
       "      <td>1124</td>\n",
       "      <td>Schwartz, Honora</td>\n",
       "      <td>2025-06-14 11:24:28</td>\n",
       "      <td>2025-06-14 11:24:28 AM</td>\n",
       "      <td>Saturday</td>\n",
       "      <td>True</td>\n",
       "      <td>Spring</td>\n",
       "      <td>11:24 AM</td>\n",
       "      <td>Morning</td>\n",
       "      <td>300 RIVERSIDE AVE, A</td>\n",
       "      <td>38.023934</td>\n",
       "      <td>-78.455327</td>\n",
       "      <td>Woolen Mills</td>\n",
       "    </tr>\n",
       "  </tbody>\n",
       "</table>\n",
       "</div>"
      ],
      "text/plain": [
       "   RecordID                       Offense    IncidentID BlockNumber  \\\n",
       "0         1         Larceny - Shoplifitng  202500020491         500   \n",
       "1         2  Larceny - From Motor Vehicle  202500020474         800   \n",
       "2         3                    Harassment  202500020465        1000   \n",
       "3         4           Larceny - All Other  202500020451         100   \n",
       "4         5            Disorderly Conduct  202500020450         300   \n",
       "\n",
       "         StreetName Agency HourReported   ReportingOfficer  \\\n",
       "0         W MAIN ST    CPD         2025  Gaytan, Alejandro   \n",
       "1         W MAIN ST    CPD         1725   Essex, Dominique   \n",
       "2           PAGE ST    CPD         1459      Kinney, Dylan   \n",
       "3         W MAIN ST    CPD         1129   Khaleefa, Hamzeh   \n",
       "4  RIVERSIDE AVE, A    CPD         1124   Schwartz, Honora   \n",
       "\n",
       "                 Date              DateString DayOfWeek  Weekend  Season  \\\n",
       "0 2025-06-14 20:25:36  2025-06-14 08:25:36 PM  Saturday     True  Spring   \n",
       "1 2025-06-14 17:25:27  2025-06-14 05:25:27 PM  Saturday     True  Spring   \n",
       "2 2025-06-14 14:59:04  2025-06-14 02:59:04 PM  Saturday     True  Spring   \n",
       "3 2025-06-14 11:29:23  2025-06-14 11:29:23 AM  Saturday     True  Spring   \n",
       "4 2025-06-14 11:24:28  2025-06-14 11:24:28 AM  Saturday     True  Spring   \n",
       "\n",
       "   HourAMPM  TimeOfDay            FullStreet        lat        lon  \\\n",
       "0  08:25 PM    Evening         500 W MAIN ST  38.030793 -78.487912   \n",
       "1  05:25 PM    Evening         800 W MAIN ST  38.031480 -78.490333   \n",
       "2  02:59 PM  Afternoon          1000 PAGE ST  38.035193 -78.493803   \n",
       "3  11:29 AM    Morning         100 W MAIN ST  38.030718 -78.481656   \n",
       "4  11:24 AM    Morning  300 RIVERSIDE AVE, A  38.023934 -78.455327   \n",
       "\n",
       "    neighborhood  \n",
       "0     Starr Hill  \n",
       "1     Starr Hill  \n",
       "2        Venable  \n",
       "3  Downtown Mall  \n",
       "4   Woolen Mills  "
      ]
     },
     "execution_count": 10,
     "metadata": {},
     "output_type": "execute_result"
    }
   ],
   "source": [
    "# Initialize the Google Maps client.\n",
    "gmaps = googlemaps.Client(key=GOOGLE_API_KEY)\n",
    "\n",
    "# Try to load a persistent neighborhood cache if available.\n",
    "try:\n",
    "    with open(\"neighborhood_cache.pkl\", \"rb\") as f:\n",
    "        neighborhood_cache = pickle.load(f)\n",
    "    print(\"Loaded neighborhood cache.\")\n",
    "except FileNotFoundError:\n",
    "    neighborhood_cache = {}\n",
    "    print(\"No neighborhood cache found; starting fresh.\")\n",
    "\n",
    "def get_neighborhood(lat, lon):\n",
    "    \"\"\"\n",
    "    Reverse geocodes a latitude and longitude to retrieve the neighborhood.\n",
    "    Caches results to speed up subsequent lookups.\n",
    "    \"\"\"\n",
    "    key = (lat, lon)\n",
    "    if key in neighborhood_cache:\n",
    "        return neighborhood_cache[key]\n",
    "    \n",
    "    try:\n",
    "        result = gmaps.reverse_geocode((lat, lon))\n",
    "        if result:\n",
    "            # Look for the 'neighborhood' component in the first result.\n",
    "            for component in result[0]['address_components']:\n",
    "                if 'neighborhood' in component['types']:\n",
    "                    neighborhood = component['long_name']\n",
    "                    neighborhood_cache[key] = neighborhood\n",
    "                    return neighborhood\n",
    "            # If no neighborhood is found, return \"N/A\"\n",
    "            neighborhood_cache[key] = \"N/A\"\n",
    "            return \"N/A\"\n",
    "    except Exception as e:\n",
    "        print(f\"Error getting neighborhood for {lat}, {lon}: {e}\")\n",
    "        return \"N/A\"\n",
    "    \n",
    "    # Pause to respect usage limits.\n",
    "    time.sleep(1)\n",
    "\n",
    "# Example usage: Apply to your DataFrame 'df' that already has 'lat' and 'lon' columns.\n",
    "df['neighborhood'] = df.apply(lambda row: get_neighborhood(row['lat'], row['lon']), axis=1)\n",
    "\n",
    "# Save the updated neighborhood cache.\n",
    "with open(\"neighborhood_cache.pkl\", \"wb\") as f:\n",
    "    pickle.dump(neighborhood_cache, f)\n",
    "\n",
    "df.head()\n"
   ]
  },
  {
   "cell_type": "markdown",
   "id": "fbdd94ae",
   "metadata": {
    "papermill": {
     "duration": 0.004959,
     "end_time": "2025-06-17T01:05:50.387523",
     "exception": false,
     "start_time": "2025-06-17T01:05:50.382564",
     "status": "completed"
    },
    "tags": []
   },
   "source": [
    "### Zip"
   ]
  },
  {
   "cell_type": "code",
   "execution_count": 11,
   "id": "e7ade6b3",
   "metadata": {
    "execution": {
     "iopub.execute_input": "2025-06-17T01:05:50.398671Z",
     "iopub.status.busy": "2025-06-17T01:05:50.398174Z",
     "iopub.status.idle": "2025-06-17T01:06:11.675669Z",
     "shell.execute_reply": "2025-06-17T01:06:11.675000Z"
    },
    "papermill": {
     "duration": 21.284263,
     "end_time": "2025-06-17T01:06:11.676796",
     "exception": false,
     "start_time": "2025-06-17T01:05:50.392533",
     "status": "completed"
    },
    "tags": []
   },
   "outputs": [
    {
     "name": "stdout",
     "output_type": "stream",
     "text": [
      "Loaded zip cache.\n",
      "Error getting ZIP for nan, nan: Must be a coordinate pair or Point\n"
     ]
    },
    {
     "name": "stdout",
     "output_type": "stream",
     "text": [
      "Error getting ZIP for nan, nan: Must be a coordinate pair or Point\n"
     ]
    },
    {
     "name": "stdout",
     "output_type": "stream",
     "text": [
      "Error getting ZIP for nan, nan: Must be a coordinate pair or Point\n"
     ]
    },
    {
     "name": "stdout",
     "output_type": "stream",
     "text": [
      "Error getting ZIP for nan, nan: Must be a coordinate pair or Point\n"
     ]
    },
    {
     "name": "stdout",
     "output_type": "stream",
     "text": [
      "Error getting ZIP for nan, nan: Must be a coordinate pair or Point\n"
     ]
    },
    {
     "name": "stdout",
     "output_type": "stream",
     "text": [
      "Error getting ZIP for nan, nan: Must be a coordinate pair or Point\n"
     ]
    },
    {
     "name": "stdout",
     "output_type": "stream",
     "text": [
      "Error getting ZIP for nan, nan: Must be a coordinate pair or Point\n"
     ]
    },
    {
     "name": "stdout",
     "output_type": "stream",
     "text": [
      "Error getting ZIP for nan, nan: Must be a coordinate pair or Point\n"
     ]
    },
    {
     "name": "stdout",
     "output_type": "stream",
     "text": [
      "Error getting ZIP for nan, nan: Must be a coordinate pair or Point\n"
     ]
    },
    {
     "name": "stdout",
     "output_type": "stream",
     "text": [
      "Error getting ZIP for nan, nan: Must be a coordinate pair or Point\n"
     ]
    },
    {
     "name": "stdout",
     "output_type": "stream",
     "text": [
      "Error getting ZIP for nan, nan: Must be a coordinate pair or Point\n"
     ]
    },
    {
     "name": "stdout",
     "output_type": "stream",
     "text": [
      "Error getting ZIP for nan, nan: Must be a coordinate pair or Point\n"
     ]
    },
    {
     "name": "stdout",
     "output_type": "stream",
     "text": [
      "Error getting ZIP for nan, nan: Must be a coordinate pair or Point\n"
     ]
    },
    {
     "name": "stdout",
     "output_type": "stream",
     "text": [
      "Error getting ZIP for nan, nan: Must be a coordinate pair or Point\n"
     ]
    },
    {
     "name": "stdout",
     "output_type": "stream",
     "text": [
      "Error getting ZIP for nan, nan: Must be a coordinate pair or Point\n"
     ]
    },
    {
     "name": "stdout",
     "output_type": "stream",
     "text": [
      "Error getting ZIP for nan, nan: Must be a coordinate pair or Point\n"
     ]
    },
    {
     "name": "stdout",
     "output_type": "stream",
     "text": [
      "Error getting ZIP for nan, nan: Must be a coordinate pair or Point\n"
     ]
    },
    {
     "name": "stdout",
     "output_type": "stream",
     "text": [
      "Error getting ZIP for nan, nan: Must be a coordinate pair or Point\n"
     ]
    },
    {
     "name": "stdout",
     "output_type": "stream",
     "text": [
      "Error getting ZIP for nan, nan: Must be a coordinate pair or Point\n"
     ]
    },
    {
     "name": "stdout",
     "output_type": "stream",
     "text": [
      "Error getting ZIP for nan, nan: Must be a coordinate pair or Point\n"
     ]
    },
    {
     "name": "stdout",
     "output_type": "stream",
     "text": [
      "Error getting ZIP for nan, nan: Must be a coordinate pair or Point\n"
     ]
    },
    {
     "data": {
      "text/html": [
       "<div>\n",
       "<style scoped>\n",
       "    .dataframe tbody tr th:only-of-type {\n",
       "        vertical-align: middle;\n",
       "    }\n",
       "\n",
       "    .dataframe tbody tr th {\n",
       "        vertical-align: top;\n",
       "    }\n",
       "\n",
       "    .dataframe thead th {\n",
       "        text-align: right;\n",
       "    }\n",
       "</style>\n",
       "<table border=\"1\" class=\"dataframe\">\n",
       "  <thead>\n",
       "    <tr style=\"text-align: right;\">\n",
       "      <th></th>\n",
       "      <th>RecordID</th>\n",
       "      <th>Offense</th>\n",
       "      <th>IncidentID</th>\n",
       "      <th>BlockNumber</th>\n",
       "      <th>StreetName</th>\n",
       "      <th>Agency</th>\n",
       "      <th>HourReported</th>\n",
       "      <th>ReportingOfficer</th>\n",
       "      <th>Date</th>\n",
       "      <th>DateString</th>\n",
       "      <th>DayOfWeek</th>\n",
       "      <th>Weekend</th>\n",
       "      <th>Season</th>\n",
       "      <th>HourAMPM</th>\n",
       "      <th>TimeOfDay</th>\n",
       "      <th>FullStreet</th>\n",
       "      <th>lat</th>\n",
       "      <th>lon</th>\n",
       "      <th>neighborhood</th>\n",
       "      <th>zip</th>\n",
       "    </tr>\n",
       "  </thead>\n",
       "  <tbody>\n",
       "    <tr>\n",
       "      <th>0</th>\n",
       "      <td>1</td>\n",
       "      <td>Larceny - Shoplifitng</td>\n",
       "      <td>202500020491</td>\n",
       "      <td>500</td>\n",
       "      <td>W MAIN ST</td>\n",
       "      <td>CPD</td>\n",
       "      <td>2025</td>\n",
       "      <td>Gaytan, Alejandro</td>\n",
       "      <td>2025-06-14 20:25:36</td>\n",
       "      <td>2025-06-14 08:25:36 PM</td>\n",
       "      <td>Saturday</td>\n",
       "      <td>True</td>\n",
       "      <td>Spring</td>\n",
       "      <td>08:25 PM</td>\n",
       "      <td>Evening</td>\n",
       "      <td>500 W MAIN ST</td>\n",
       "      <td>38.030793</td>\n",
       "      <td>-78.487912</td>\n",
       "      <td>Starr Hill</td>\n",
       "      <td>22903</td>\n",
       "    </tr>\n",
       "    <tr>\n",
       "      <th>1</th>\n",
       "      <td>2</td>\n",
       "      <td>Larceny - From Motor Vehicle</td>\n",
       "      <td>202500020474</td>\n",
       "      <td>800</td>\n",
       "      <td>W MAIN ST</td>\n",
       "      <td>CPD</td>\n",
       "      <td>1725</td>\n",
       "      <td>Essex, Dominique</td>\n",
       "      <td>2025-06-14 17:25:27</td>\n",
       "      <td>2025-06-14 05:25:27 PM</td>\n",
       "      <td>Saturday</td>\n",
       "      <td>True</td>\n",
       "      <td>Spring</td>\n",
       "      <td>05:25 PM</td>\n",
       "      <td>Evening</td>\n",
       "      <td>800 W MAIN ST</td>\n",
       "      <td>38.031480</td>\n",
       "      <td>-78.490333</td>\n",
       "      <td>Starr Hill</td>\n",
       "      <td>22903</td>\n",
       "    </tr>\n",
       "    <tr>\n",
       "      <th>2</th>\n",
       "      <td>3</td>\n",
       "      <td>Harassment</td>\n",
       "      <td>202500020465</td>\n",
       "      <td>1000</td>\n",
       "      <td>PAGE ST</td>\n",
       "      <td>CPD</td>\n",
       "      <td>1459</td>\n",
       "      <td>Kinney, Dylan</td>\n",
       "      <td>2025-06-14 14:59:04</td>\n",
       "      <td>2025-06-14 02:59:04 PM</td>\n",
       "      <td>Saturday</td>\n",
       "      <td>True</td>\n",
       "      <td>Spring</td>\n",
       "      <td>02:59 PM</td>\n",
       "      <td>Afternoon</td>\n",
       "      <td>1000 PAGE ST</td>\n",
       "      <td>38.035193</td>\n",
       "      <td>-78.493803</td>\n",
       "      <td>Venable</td>\n",
       "      <td>22903</td>\n",
       "    </tr>\n",
       "    <tr>\n",
       "      <th>3</th>\n",
       "      <td>4</td>\n",
       "      <td>Larceny - All Other</td>\n",
       "      <td>202500020451</td>\n",
       "      <td>100</td>\n",
       "      <td>W MAIN ST</td>\n",
       "      <td>CPD</td>\n",
       "      <td>1129</td>\n",
       "      <td>Khaleefa, Hamzeh</td>\n",
       "      <td>2025-06-14 11:29:23</td>\n",
       "      <td>2025-06-14 11:29:23 AM</td>\n",
       "      <td>Saturday</td>\n",
       "      <td>True</td>\n",
       "      <td>Spring</td>\n",
       "      <td>11:29 AM</td>\n",
       "      <td>Morning</td>\n",
       "      <td>100 W MAIN ST</td>\n",
       "      <td>38.030718</td>\n",
       "      <td>-78.481656</td>\n",
       "      <td>Downtown Mall</td>\n",
       "      <td>22902</td>\n",
       "    </tr>\n",
       "    <tr>\n",
       "      <th>4</th>\n",
       "      <td>5</td>\n",
       "      <td>Disorderly Conduct</td>\n",
       "      <td>202500020450</td>\n",
       "      <td>300</td>\n",
       "      <td>RIVERSIDE AVE, A</td>\n",
       "      <td>CPD</td>\n",
       "      <td>1124</td>\n",
       "      <td>Schwartz, Honora</td>\n",
       "      <td>2025-06-14 11:24:28</td>\n",
       "      <td>2025-06-14 11:24:28 AM</td>\n",
       "      <td>Saturday</td>\n",
       "      <td>True</td>\n",
       "      <td>Spring</td>\n",
       "      <td>11:24 AM</td>\n",
       "      <td>Morning</td>\n",
       "      <td>300 RIVERSIDE AVE, A</td>\n",
       "      <td>38.023934</td>\n",
       "      <td>-78.455327</td>\n",
       "      <td>Woolen Mills</td>\n",
       "      <td>22902</td>\n",
       "    </tr>\n",
       "  </tbody>\n",
       "</table>\n",
       "</div>"
      ],
      "text/plain": [
       "   RecordID                       Offense    IncidentID BlockNumber  \\\n",
       "0         1         Larceny - Shoplifitng  202500020491         500   \n",
       "1         2  Larceny - From Motor Vehicle  202500020474         800   \n",
       "2         3                    Harassment  202500020465        1000   \n",
       "3         4           Larceny - All Other  202500020451         100   \n",
       "4         5            Disorderly Conduct  202500020450         300   \n",
       "\n",
       "         StreetName Agency HourReported   ReportingOfficer  \\\n",
       "0         W MAIN ST    CPD         2025  Gaytan, Alejandro   \n",
       "1         W MAIN ST    CPD         1725   Essex, Dominique   \n",
       "2           PAGE ST    CPD         1459      Kinney, Dylan   \n",
       "3         W MAIN ST    CPD         1129   Khaleefa, Hamzeh   \n",
       "4  RIVERSIDE AVE, A    CPD         1124   Schwartz, Honora   \n",
       "\n",
       "                 Date              DateString DayOfWeek  Weekend  Season  \\\n",
       "0 2025-06-14 20:25:36  2025-06-14 08:25:36 PM  Saturday     True  Spring   \n",
       "1 2025-06-14 17:25:27  2025-06-14 05:25:27 PM  Saturday     True  Spring   \n",
       "2 2025-06-14 14:59:04  2025-06-14 02:59:04 PM  Saturday     True  Spring   \n",
       "3 2025-06-14 11:29:23  2025-06-14 11:29:23 AM  Saturday     True  Spring   \n",
       "4 2025-06-14 11:24:28  2025-06-14 11:24:28 AM  Saturday     True  Spring   \n",
       "\n",
       "   HourAMPM  TimeOfDay            FullStreet        lat        lon  \\\n",
       "0  08:25 PM    Evening         500 W MAIN ST  38.030793 -78.487912   \n",
       "1  05:25 PM    Evening         800 W MAIN ST  38.031480 -78.490333   \n",
       "2  02:59 PM  Afternoon          1000 PAGE ST  38.035193 -78.493803   \n",
       "3  11:29 AM    Morning         100 W MAIN ST  38.030718 -78.481656   \n",
       "4  11:24 AM    Morning  300 RIVERSIDE AVE, A  38.023934 -78.455327   \n",
       "\n",
       "    neighborhood    zip  \n",
       "0     Starr Hill  22903  \n",
       "1     Starr Hill  22903  \n",
       "2        Venable  22903  \n",
       "3  Downtown Mall  22902  \n",
       "4   Woolen Mills  22902  "
      ]
     },
     "execution_count": 11,
     "metadata": {},
     "output_type": "execute_result"
    }
   ],
   "source": [
    "# Initialize the geocoder.\n",
    "geolocator = Nominatim(user_agent=\"zip_lookup\")\n",
    "\n",
    "# Try to load a persistent ZIP cache if available.\n",
    "try:\n",
    "    with open(\"zip_cache.pkl\", \"rb\") as f:\n",
    "        zip_cache = pickle.load(f)\n",
    "    print(\"Loaded zip cache.\")\n",
    "except FileNotFoundError:\n",
    "    zip_cache = {}\n",
    "    print(\"No zip cache found; starting fresh.\")\n",
    "\n",
    "def get_zip(lat, lon):\n",
    "    \"\"\"\n",
    "    Reverse geocodes a latitude and longitude to retrieve the ZIP code.\n",
    "    Caches results to speed up subsequent lookups.\n",
    "    \"\"\"\n",
    "    key = (lat, lon)\n",
    "    if key in zip_cache:\n",
    "        return zip_cache[key]\n",
    "    \n",
    "    try:\n",
    "        location = geolocator.reverse((lat, lon), exactly_one=True, timeout=10)\n",
    "        address = location.raw.get('address', {})\n",
    "        postal_code = address.get('postcode', \"N/A\")\n",
    "    except Exception as e:\n",
    "        print(f\"Error getting ZIP for {lat}, {lon}: {e}\")\n",
    "        postal_code = \"N/A\"\n",
    "    \n",
    "    zip_cache[key] = postal_code\n",
    "    # Pause to respect the usage policy.\n",
    "    time.sleep(1)\n",
    "    return postal_code\n",
    "\n",
    "# Apply the function to each row in the DataFrame.\n",
    "df['zip'] = df.apply(lambda row: get_zip(row['lat'], row['lon']), axis=1)\n",
    "\n",
    "# Save the updated ZIP cache.\n",
    "with open(\"zip_cache.pkl\", \"wb\") as f:\n",
    "    pickle.dump(zip_cache, f)\n",
    "\n",
    "df.head()\n"
   ]
  },
  {
   "cell_type": "code",
   "execution_count": 12,
   "id": "509f903c",
   "metadata": {
    "execution": {
     "iopub.execute_input": "2025-06-17T01:06:11.690702Z",
     "iopub.status.busy": "2025-06-17T01:06:11.690249Z",
     "iopub.status.idle": "2025-06-17T01:06:11.717460Z",
     "shell.execute_reply": "2025-06-17T01:06:11.716773Z"
    },
    "papermill": {
     "duration": 0.035121,
     "end_time": "2025-06-17T01:06:11.718466",
     "exception": false,
     "start_time": "2025-06-17T01:06:11.683345",
     "status": "completed"
    },
    "tags": []
   },
   "outputs": [
    {
     "name": "stdout",
     "output_type": "stream",
     "text": [
      "                  MissingCount  MissingPercentage\n",
      "RecordID                     0               0.00\n",
      "Offense                      0               0.00\n",
      "IncidentID                   0               0.00\n",
      "BlockNumber                  0               0.00\n",
      "StreetName                   0               0.00\n",
      "Agency                       0               0.00\n",
      "HourReported                 0               0.00\n",
      "ReportingOfficer            17               0.07\n",
      "Date                         0               0.00\n",
      "DateString                   0               0.00\n",
      "DayOfWeek                    0               0.00\n",
      "Weekend                      0               0.00\n",
      "Season                       0               0.00\n",
      "HourAMPM                     0               0.00\n",
      "TimeOfDay                    0               0.00\n",
      "FullStreet                   0               0.00\n",
      "lat                         21               0.08\n",
      "lon                         21               0.08\n",
      "neighborhood                 0               0.00\n",
      "zip                          0               0.00\n"
     ]
    }
   ],
   "source": [
    "missing_info = missing_percentage(df)\n",
    "print(missing_info)\n"
   ]
  },
  {
   "cell_type": "code",
   "execution_count": 13,
   "id": "2102827d",
   "metadata": {
    "execution": {
     "iopub.execute_input": "2025-06-17T01:06:11.732184Z",
     "iopub.status.busy": "2025-06-17T01:06:11.731682Z",
     "iopub.status.idle": "2025-06-17T01:06:11.763352Z",
     "shell.execute_reply": "2025-06-17T01:06:11.762770Z"
    },
    "papermill": {
     "duration": 0.039551,
     "end_time": "2025-06-17T01:06:11.764403",
     "exception": false,
     "start_time": "2025-06-17T01:06:11.724852",
     "status": "completed"
    },
    "tags": []
   },
   "outputs": [
    {
     "name": "stdout",
     "output_type": "stream",
     "text": [
      "<class 'pandas.core.frame.DataFrame'>\n",
      "RangeIndex: 25522 entries, 0 to 25521\n",
      "Data columns (total 20 columns):\n",
      " #   Column            Non-Null Count  Dtype         \n",
      "---  ------            --------------  -----         \n",
      " 0   RecordID          25522 non-null  int64         \n",
      " 1   Offense           25522 non-null  object        \n",
      " 2   IncidentID        25522 non-null  object        \n",
      " 3   BlockNumber       25522 non-null  object        \n",
      " 4   StreetName        25522 non-null  object        \n",
      " 5   Agency            25522 non-null  object        \n",
      " 6   HourReported      25522 non-null  object        \n",
      " 7   ReportingOfficer  25505 non-null  object        \n",
      " 8   Date              25522 non-null  datetime64[ns]\n",
      " 9   DateString        25522 non-null  object        \n",
      " 10  DayOfWeek         25522 non-null  object        \n",
      " 11  Weekend           25522 non-null  bool          \n",
      " 12  Season            25522 non-null  object        \n",
      " 13  HourAMPM          25522 non-null  object        \n",
      " 14  TimeOfDay         25522 non-null  object        \n",
      " 15  FullStreet        25522 non-null  object        \n",
      " 16  lat               25501 non-null  float64       \n",
      " 17  lon               25501 non-null  float64       \n",
      " 18  neighborhood      25522 non-null  object        \n",
      " 19  zip               25522 non-null  object        \n",
      "dtypes: bool(1), datetime64[ns](1), float64(2), int64(1), object(15)\n",
      "memory usage: 3.7+ MB\n"
     ]
    }
   ],
   "source": [
    "df.info()"
   ]
  },
  {
   "cell_type": "code",
   "execution_count": 14,
   "id": "d4f6177e",
   "metadata": {
    "execution": {
     "iopub.execute_input": "2025-06-17T01:06:11.778441Z",
     "iopub.status.busy": "2025-06-17T01:06:11.777981Z",
     "iopub.status.idle": "2025-06-17T01:06:11.820792Z",
     "shell.execute_reply": "2025-06-17T01:06:11.820152Z"
    },
    "papermill": {
     "duration": 0.050773,
     "end_time": "2025-06-17T01:06:11.821858",
     "exception": false,
     "start_time": "2025-06-17T01:06:11.771085",
     "status": "completed"
    },
    "tags": []
   },
   "outputs": [
    {
     "data": {
      "text/html": [
       "<div>\n",
       "<style scoped>\n",
       "    .dataframe tbody tr th:only-of-type {\n",
       "        vertical-align: middle;\n",
       "    }\n",
       "\n",
       "    .dataframe tbody tr th {\n",
       "        vertical-align: top;\n",
       "    }\n",
       "\n",
       "    .dataframe thead th {\n",
       "        text-align: right;\n",
       "    }\n",
       "</style>\n",
       "<table border=\"1\" class=\"dataframe\">\n",
       "  <thead>\n",
       "    <tr style=\"text-align: right;\">\n",
       "      <th></th>\n",
       "      <th>RecordID</th>\n",
       "      <th>Offense</th>\n",
       "      <th>IncidentID</th>\n",
       "      <th>Agency</th>\n",
       "      <th>ReportingOfficer</th>\n",
       "      <th>Date</th>\n",
       "      <th>DayOfWeek</th>\n",
       "      <th>Weekend</th>\n",
       "      <th>Season</th>\n",
       "      <th>TimeOfDay</th>\n",
       "      <th>FullStreet</th>\n",
       "      <th>lat</th>\n",
       "      <th>lon</th>\n",
       "      <th>neighborhood</th>\n",
       "      <th>zip</th>\n",
       "    </tr>\n",
       "  </thead>\n",
       "  <tbody>\n",
       "    <tr>\n",
       "      <th>0</th>\n",
       "      <td>1</td>\n",
       "      <td>Larceny - Shoplifitng</td>\n",
       "      <td>202500020491</td>\n",
       "      <td>CPD</td>\n",
       "      <td>Gaytan, Alejandro</td>\n",
       "      <td>2025-06-14 20:25:36</td>\n",
       "      <td>Saturday</td>\n",
       "      <td>True</td>\n",
       "      <td>Spring</td>\n",
       "      <td>Evening</td>\n",
       "      <td>500 W MAIN ST</td>\n",
       "      <td>38.030793</td>\n",
       "      <td>-78.487912</td>\n",
       "      <td>Starr Hill</td>\n",
       "      <td>22903</td>\n",
       "    </tr>\n",
       "    <tr>\n",
       "      <th>1</th>\n",
       "      <td>2</td>\n",
       "      <td>Larceny - From Motor Vehicle</td>\n",
       "      <td>202500020474</td>\n",
       "      <td>CPD</td>\n",
       "      <td>Essex, Dominique</td>\n",
       "      <td>2025-06-14 17:25:27</td>\n",
       "      <td>Saturday</td>\n",
       "      <td>True</td>\n",
       "      <td>Spring</td>\n",
       "      <td>Evening</td>\n",
       "      <td>800 W MAIN ST</td>\n",
       "      <td>38.03148</td>\n",
       "      <td>-78.490333</td>\n",
       "      <td>Starr Hill</td>\n",
       "      <td>22903</td>\n",
       "    </tr>\n",
       "    <tr>\n",
       "      <th>2</th>\n",
       "      <td>3</td>\n",
       "      <td>Harassment</td>\n",
       "      <td>202500020465</td>\n",
       "      <td>CPD</td>\n",
       "      <td>Kinney, Dylan</td>\n",
       "      <td>2025-06-14 14:59:04</td>\n",
       "      <td>Saturday</td>\n",
       "      <td>True</td>\n",
       "      <td>Spring</td>\n",
       "      <td>Afternoon</td>\n",
       "      <td>1000 PAGE ST</td>\n",
       "      <td>38.035193</td>\n",
       "      <td>-78.493803</td>\n",
       "      <td>Venable</td>\n",
       "      <td>22903</td>\n",
       "    </tr>\n",
       "    <tr>\n",
       "      <th>3</th>\n",
       "      <td>4</td>\n",
       "      <td>Larceny - All Other</td>\n",
       "      <td>202500020451</td>\n",
       "      <td>CPD</td>\n",
       "      <td>Khaleefa, Hamzeh</td>\n",
       "      <td>2025-06-14 11:29:23</td>\n",
       "      <td>Saturday</td>\n",
       "      <td>True</td>\n",
       "      <td>Spring</td>\n",
       "      <td>Morning</td>\n",
       "      <td>100 W MAIN ST</td>\n",
       "      <td>38.030718</td>\n",
       "      <td>-78.481656</td>\n",
       "      <td>Downtown Mall</td>\n",
       "      <td>22902</td>\n",
       "    </tr>\n",
       "    <tr>\n",
       "      <th>4</th>\n",
       "      <td>5</td>\n",
       "      <td>Disorderly Conduct</td>\n",
       "      <td>202500020450</td>\n",
       "      <td>CPD</td>\n",
       "      <td>Schwartz, Honora</td>\n",
       "      <td>2025-06-14 11:24:28</td>\n",
       "      <td>Saturday</td>\n",
       "      <td>True</td>\n",
       "      <td>Spring</td>\n",
       "      <td>Morning</td>\n",
       "      <td>300 RIVERSIDE AVE, A</td>\n",
       "      <td>38.023934</td>\n",
       "      <td>-78.455327</td>\n",
       "      <td>Woolen Mills</td>\n",
       "      <td>22902</td>\n",
       "    </tr>\n",
       "  </tbody>\n",
       "</table>\n",
       "</div>"
      ],
      "text/plain": [
       "   RecordID                       Offense    IncidentID Agency  \\\n",
       "0         1         Larceny - Shoplifitng  202500020491    CPD   \n",
       "1         2  Larceny - From Motor Vehicle  202500020474    CPD   \n",
       "2         3                    Harassment  202500020465    CPD   \n",
       "3         4           Larceny - All Other  202500020451    CPD   \n",
       "4         5            Disorderly Conduct  202500020450    CPD   \n",
       "\n",
       "    ReportingOfficer                Date DayOfWeek  Weekend  Season  \\\n",
       "0  Gaytan, Alejandro 2025-06-14 20:25:36  Saturday     True  Spring   \n",
       "1   Essex, Dominique 2025-06-14 17:25:27  Saturday     True  Spring   \n",
       "2      Kinney, Dylan 2025-06-14 14:59:04  Saturday     True  Spring   \n",
       "3   Khaleefa, Hamzeh 2025-06-14 11:29:23  Saturday     True  Spring   \n",
       "4   Schwartz, Honora 2025-06-14 11:24:28  Saturday     True  Spring   \n",
       "\n",
       "   TimeOfDay            FullStreet        lat        lon   neighborhood    zip  \n",
       "0    Evening         500 W MAIN ST  38.030793 -78.487912     Starr Hill  22903  \n",
       "1    Evening         800 W MAIN ST   38.03148 -78.490333     Starr Hill  22903  \n",
       "2  Afternoon          1000 PAGE ST  38.035193 -78.493803        Venable  22903  \n",
       "3    Morning         100 W MAIN ST  38.030718 -78.481656  Downtown Mall  22902  \n",
       "4    Morning  300 RIVERSIDE AVE, A  38.023934 -78.455327   Woolen Mills  22902  "
      ]
     },
     "execution_count": 14,
     "metadata": {},
     "output_type": "execute_result"
    }
   ],
   "source": [
    "# Now drop the original BlockNumber and StreetName columns\n",
    "df.drop(columns=['BlockNumber', 'StreetName','HourAMPM','HourReported','DateString'], inplace=True)\n",
    "df[\"zip\"] = df[\"zip\"].astype(str)\n",
    "\n",
    "# Fill all missing values in the DataFrame with \"N/A\"\n",
    "df.replace({None: \"N/A\", np.nan: \"N/A\", \"\": \"N/A\"}, inplace=True)\n",
    "df.head()"
   ]
  },
  {
   "cell_type": "code",
   "execution_count": 15,
   "id": "9f19c3bb",
   "metadata": {
    "execution": {
     "iopub.execute_input": "2025-06-17T01:06:11.836606Z",
     "iopub.status.busy": "2025-06-17T01:06:11.836136Z",
     "iopub.status.idle": "2025-06-17T01:06:11.852369Z",
     "shell.execute_reply": "2025-06-17T01:06:11.851785Z"
    },
    "papermill": {
     "duration": 0.024717,
     "end_time": "2025-06-17T01:06:11.853490",
     "exception": false,
     "start_time": "2025-06-17T01:06:11.828773",
     "status": "completed"
    },
    "tags": []
   },
   "outputs": [
    {
     "name": "stdout",
     "output_type": "stream",
     "text": [
      "                  MissingCount  MissingPercentage\n",
      "RecordID                     0                0.0\n",
      "Offense                      0                0.0\n",
      "IncidentID                   0                0.0\n",
      "Agency                       0                0.0\n",
      "ReportingOfficer             0                0.0\n",
      "Date                         0                0.0\n",
      "DayOfWeek                    0                0.0\n",
      "Weekend                      0                0.0\n",
      "Season                       0                0.0\n",
      "TimeOfDay                    0                0.0\n",
      "FullStreet                   0                0.0\n",
      "lat                          0                0.0\n",
      "lon                          0                0.0\n",
      "neighborhood                 0                0.0\n",
      "zip                          0                0.0\n"
     ]
    }
   ],
   "source": [
    "missing_info = missing_percentage(df)\n",
    "print(missing_info)"
   ]
  },
  {
   "cell_type": "code",
   "execution_count": 16,
   "id": "f25dec7b",
   "metadata": {
    "execution": {
     "iopub.execute_input": "2025-06-17T01:06:11.867434Z",
     "iopub.status.busy": "2025-06-17T01:06:11.867243Z",
     "iopub.status.idle": "2025-06-17T01:06:11.871672Z",
     "shell.execute_reply": "2025-06-17T01:06:11.871001Z"
    },
    "papermill": {
     "duration": 0.012675,
     "end_time": "2025-06-17T01:06:11.872773",
     "exception": false,
     "start_time": "2025-06-17T01:06:11.860098",
     "status": "completed"
    },
    "tags": []
   },
   "outputs": [
    {
     "data": {
      "text/plain": [
       "Index(['RecordID', 'Offense', 'IncidentID', 'Agency', 'ReportingOfficer',\n",
       "       'Date', 'DayOfWeek', 'Weekend', 'Season', 'TimeOfDay', 'FullStreet',\n",
       "       'lat', 'lon', 'neighborhood', 'zip'],\n",
       "      dtype='object')"
      ]
     },
     "execution_count": 16,
     "metadata": {},
     "output_type": "execute_result"
    }
   ],
   "source": [
    "df.columns"
   ]
  },
  {
   "cell_type": "code",
   "execution_count": 17,
   "id": "c4ebae6f",
   "metadata": {
    "execution": {
     "iopub.execute_input": "2025-06-17T01:06:11.887508Z",
     "iopub.status.busy": "2025-06-17T01:06:11.886964Z",
     "iopub.status.idle": "2025-06-17T01:06:11.904743Z",
     "shell.execute_reply": "2025-06-17T01:06:11.904129Z"
    },
    "papermill": {
     "duration": 0.025962,
     "end_time": "2025-06-17T01:06:11.905756",
     "exception": false,
     "start_time": "2025-06-17T01:06:11.879794",
     "status": "completed"
    },
    "tags": []
   },
   "outputs": [
    {
     "name": "stdout",
     "output_type": "stream",
     "text": [
      "<class 'pandas.core.frame.DataFrame'>\n",
      "RangeIndex: 25522 entries, 0 to 25521\n",
      "Data columns (total 15 columns):\n",
      " #   Column            Non-Null Count  Dtype         \n",
      "---  ------            --------------  -----         \n",
      " 0   RecordID          25522 non-null  int64         \n",
      " 1   Offense           25522 non-null  object        \n",
      " 2   IncidentID        25522 non-null  object        \n",
      " 3   Agency            25522 non-null  object        \n",
      " 4   ReportingOfficer  25522 non-null  object        \n",
      " 5   Date              25522 non-null  datetime64[ns]\n",
      " 6   DayOfWeek         25522 non-null  object        \n",
      " 7   Weekend           25522 non-null  bool          \n",
      " 8   Season            25522 non-null  object        \n",
      " 9   TimeOfDay         25522 non-null  object        \n",
      " 10  FullStreet        25522 non-null  object        \n",
      " 11  lat               25522 non-null  object        \n",
      " 12  lon               25522 non-null  object        \n",
      " 13  neighborhood      25522 non-null  object        \n",
      " 14  zip               25522 non-null  object        \n",
      "dtypes: bool(1), datetime64[ns](1), int64(1), object(12)\n",
      "memory usage: 2.8+ MB\n"
     ]
    }
   ],
   "source": [
    "df.info()"
   ]
  },
  {
   "cell_type": "markdown",
   "id": "61f1720f",
   "metadata": {
    "papermill": {
     "duration": 0.006783,
     "end_time": "2025-06-17T01:06:11.919338",
     "exception": false,
     "start_time": "2025-06-17T01:06:11.912555",
     "status": "completed"
    },
    "tags": []
   },
   "source": [
    "### Export Clean Data"
   ]
  },
  {
   "cell_type": "code",
   "execution_count": 18,
   "id": "9dcd1b6e",
   "metadata": {
    "execution": {
     "iopub.execute_input": "2025-06-17T01:06:11.933919Z",
     "iopub.status.busy": "2025-06-17T01:06:11.933491Z",
     "iopub.status.idle": "2025-06-17T01:06:21.016124Z",
     "shell.execute_reply": "2025-06-17T01:06:21.015431Z"
    },
    "papermill": {
     "duration": 9.091122,
     "end_time": "2025-06-17T01:06:21.017226",
     "exception": false,
     "start_time": "2025-06-17T01:06:11.926104",
     "status": "completed"
    },
    "tags": []
   },
   "outputs": [
    {
     "name": "stdout",
     "output_type": "stream",
     "text": [
      "Project Root: /home/runner/work/crime-data/crime-data\n"
     ]
    },
    {
     "name": "stdout",
     "output_type": "stream",
     "text": [
      "Data saved to: /home/runner/work/crime-data/crime-data/data/charlottesville_crime_incidents.csv\n"
     ]
    },
    {
     "name": "stdout",
     "output_type": "stream",
     "text": [
      "Excel saved to: /home/runner/work/crime-data/crime-data/data/charlottesville_crime_incidents.xlsx\n"
     ]
    }
   ],
   "source": [
    "# Determine the project root (assuming papermill is run from the repository root)\n",
    "project_root = os.getcwd()\n",
    "print(\"Project Root:\", project_root)\n",
    "\n",
    "# Set the data directory within the project root\n",
    "data_dir = os.path.join(project_root, \"data\")\n",
    "\n",
    "# Ensure the \"data\" directory exists (create it if it doesn't)\n",
    "if not os.path.exists(data_dir):\n",
    "    os.makedirs(data_dir)\n",
    "\n",
    "# Export the DataFrame to CSV in the \"data\" folder located in the project root\n",
    "csv_path = os.path.join(data_dir, \"charlottesville_crime_incidents.csv\")\n",
    "df.to_csv(csv_path, index=False)\n",
    "print(\"Data saved to:\", csv_path)\n",
    "\n",
    "# Construct the path to your Excel file\n",
    "excel_path = os.path.join(data_dir, \"charlottesville_crime_incidents.xlsx\")\n",
    "\n",
    "# Export the DataFrame to Excel\n",
    "df.to_excel(excel_path, index=False)\n",
    "print(\"Excel saved to:\", excel_path)\n"
   ]
  }
 ],
 "metadata": {
  "kernelspec": {
   "display_name": "Python 3",
   "language": "python",
   "name": "python3"
  },
  "language_info": {
   "codemirror_mode": {
    "name": "ipython",
    "version": 3
   },
   "file_extension": ".py",
   "mimetype": "text/x-python",
   "name": "python",
   "nbconvert_exporter": "python",
   "pygments_lexer": "ipython3",
   "version": "3.9.23"
  },
  "papermill": {
   "default_parameters": {},
   "duration": 101.383554,
   "end_time": "2025-06-17T01:06:21.440714",
   "environment_variables": {},
   "exception": null,
   "input_path": "notebook/Crime Data.ipynb",
   "output_path": "notebook/Crime Data_output.ipynb",
   "parameters": {},
   "start_time": "2025-06-17T01:04:40.057160",
   "version": "2.6.0"
  }
 },
 "nbformat": 4,
 "nbformat_minor": 5
}