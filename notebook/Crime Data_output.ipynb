{
 "cells": [
  {
   "cell_type": "markdown",
   "id": "8c30bee9",
   "metadata": {
    "papermill": {
     "duration": 0.006379,
     "end_time": "2025-04-19T00:57:26.590191",
     "exception": false,
     "start_time": "2025-04-19T00:57:26.583812",
     "status": "completed"
    },
    "tags": []
   },
   "source": [
    "# Charlottesville Open Data Porttal: Crime Data"
   ]
  },
  {
   "cell_type": "markdown",
   "id": "1ff98144",
   "metadata": {
    "papermill": {
     "duration": 0.005077,
     "end_time": "2025-04-19T00:57:26.600701",
     "exception": false,
     "start_time": "2025-04-19T00:57:26.595624",
     "status": "completed"
    },
    "tags": []
   },
   "source": [
    "## Import Relevant Librarires & Set WD"
   ]
  },
  {
   "cell_type": "code",
   "execution_count": 1,
   "id": "c7a99b8d",
   "metadata": {
    "execution": {
     "iopub.execute_input": "2025-04-19T00:57:26.612178Z",
     "iopub.status.busy": "2025-04-19T00:57:26.611868Z",
     "iopub.status.idle": "2025-04-19T00:57:27.242471Z",
     "shell.execute_reply": "2025-04-19T00:57:27.241729Z"
    },
    "papermill": {
     "duration": 0.638077,
     "end_time": "2025-04-19T00:57:27.243918",
     "exception": false,
     "start_time": "2025-04-19T00:57:26.605841",
     "status": "completed"
    },
    "tags": []
   },
   "outputs": [],
   "source": [
    "import requests\n",
    "import pandas as pd\n",
    "import numpy as np\n",
    "import pickle\n",
    "import googlemaps\n",
    "import plotly.express as px\n",
    "from geopy.geocoders import Nominatim\n",
    "import time\n",
    "from dotenv import load_dotenv\n",
    "import os\n",
    "\n",
    "env_path = os.path.join(\"..\", \".env\")\n",
    "#print(\"Looking for .env file at:\", os.path.abspath(env_path))\n",
    "load_dotenv(dotenv_path=env_path)\n",
    "\n",
    "# Retrieve the variables\n",
    "GOOGLE_API_KEY = os.getenv(\"GOOGLE_API_KEY\")\n",
    "WORKING_DIR = os.getenv(\"WORKING_DIR\")\n",
    "\n",
    "if GOOGLE_API_KEY is None or WORKING_DIR is None:\n",
    "    raise RuntimeError(\"No configuration found. Please ensure that your .env file exists with the required variables, or create a local config.py file.\")\n",
    "\n",
    "#print(\"Google API Key:\", GOOGLE_API_KEY)\n",
    "#print(\"Working Directory:\", WORKING_DIR)"
   ]
  },
  {
   "cell_type": "markdown",
   "id": "1ac8b8df",
   "metadata": {
    "papermill": {
     "duration": 0.005116,
     "end_time": "2025-04-19T00:57:27.254625",
     "exception": false,
     "start_time": "2025-04-19T00:57:27.249509",
     "status": "completed"
    },
    "tags": []
   },
   "source": [
    "## Import Data\n",
    "\n",
    "URL: https://opendata.charlottesville.org/datasets/charlottesville::crime-data/about"
   ]
  },
  {
   "cell_type": "code",
   "execution_count": 2,
   "id": "6a8c5902",
   "metadata": {
    "execution": {
     "iopub.execute_input": "2025-04-19T00:57:27.265811Z",
     "iopub.status.busy": "2025-04-19T00:57:27.265350Z",
     "iopub.status.idle": "2025-04-19T00:58:24.420986Z",
     "shell.execute_reply": "2025-04-19T00:58:24.420302Z"
    },
    "papermill": {
     "duration": 57.167156,
     "end_time": "2025-04-19T00:58:24.426854",
     "exception": false,
     "start_time": "2025-04-19T00:57:27.259698",
     "status": "completed"
    },
    "tags": []
   },
   "outputs": [
    {
     "name": "stdout",
     "output_type": "stream",
     "text": [
      "Total records imported: 25226\n"
     ]
    }
   ],
   "source": [
    "# Define the endpoint and initial parameters.\n",
    "url = \"https://gisweb.charlottesville.org/arcgis/rest/services/OpenData_2/MapServer/6/query\"\n",
    "params = {\n",
    "    \"where\": \"1=1\",\n",
    "    \"outFields\": \"*\",\n",
    "    \"outSR\": 4326,\n",
    "    \"f\": \"json\",\n",
    "    \"resultOffset\": 0,       # Starting index for results\n",
    "    \"resultRecordCount\": 10000  # Maximum records per batch (if allowed by the API)\n",
    "}\n",
    "\n",
    "records = []\n",
    "\n",
    "while True:\n",
    "    response = requests.get(url, params=params)\n",
    "    response.raise_for_status()\n",
    "    data = response.json()\n",
    "    \n",
    "    # Get the current batch of features.\n",
    "    features = data.get(\"features\", [])\n",
    "    if not features:\n",
    "        break\n",
    "\n",
    "    # Extract the attributes from the features.\n",
    "    batch_records = [feature.get(\"attributes\", {}) for feature in features]\n",
    "    records.extend(batch_records)\n",
    "    \n",
    "    # If the batch size is less than the requested count, we reached the end.\n",
    "    if len(features) < params[\"resultRecordCount\"]:\n",
    "        break\n",
    "\n",
    "    # Update the resultOffset for the next batch.\n",
    "    params[\"resultOffset\"] += params[\"resultRecordCount\"]\n",
    "\n",
    "# Create a DataFrame from the combined records.\n",
    "df = pd.DataFrame(records)\n",
    "print(\"Total records imported:\", len(df))\n"
   ]
  },
  {
   "cell_type": "code",
   "execution_count": 3,
   "id": "ea467529",
   "metadata": {
    "execution": {
     "iopub.execute_input": "2025-04-19T00:58:24.439759Z",
     "iopub.status.busy": "2025-04-19T00:58:24.439267Z",
     "iopub.status.idle": "2025-04-19T00:58:24.452150Z",
     "shell.execute_reply": "2025-04-19T00:58:24.451532Z"
    },
    "papermill": {
     "duration": 0.020851,
     "end_time": "2025-04-19T00:58:24.453192",
     "exception": false,
     "start_time": "2025-04-19T00:58:24.432341",
     "status": "completed"
    },
    "tags": []
   },
   "outputs": [
    {
     "data": {
      "text/html": [
       "<div>\n",
       "<style scoped>\n",
       "    .dataframe tbody tr th:only-of-type {\n",
       "        vertical-align: middle;\n",
       "    }\n",
       "\n",
       "    .dataframe tbody tr th {\n",
       "        vertical-align: top;\n",
       "    }\n",
       "\n",
       "    .dataframe thead th {\n",
       "        text-align: right;\n",
       "    }\n",
       "</style>\n",
       "<table border=\"1\" class=\"dataframe\">\n",
       "  <thead>\n",
       "    <tr style=\"text-align: right;\">\n",
       "      <th></th>\n",
       "      <th>RecordID</th>\n",
       "      <th>Offense</th>\n",
       "      <th>IncidentID</th>\n",
       "      <th>BlockNumber</th>\n",
       "      <th>StreetName</th>\n",
       "      <th>Agency</th>\n",
       "      <th>DateReported</th>\n",
       "      <th>HourReported</th>\n",
       "      <th>ReportingOfficer</th>\n",
       "    </tr>\n",
       "  </thead>\n",
       "  <tbody>\n",
       "    <tr>\n",
       "      <th>0</th>\n",
       "      <td>1</td>\n",
       "      <td>Assault Simple</td>\n",
       "      <td>202500012297</td>\n",
       "      <td>400</td>\n",
       "      <td>12TH ST NW</td>\n",
       "      <td>CPD</td>\n",
       "      <td>1744849937000</td>\n",
       "      <td>2032</td>\n",
       "      <td>Ritter, Kobe</td>\n",
       "    </tr>\n",
       "    <tr>\n",
       "      <th>1</th>\n",
       "      <td>2</td>\n",
       "      <td>Hit and Run</td>\n",
       "      <td>202500012295</td>\n",
       "      <td></td>\n",
       "      <td>BARRACKS RD @ CEDARS CT</td>\n",
       "      <td>CPD</td>\n",
       "      <td>1744849862000</td>\n",
       "      <td>2031</td>\n",
       "      <td>Hannay, Jacob</td>\n",
       "    </tr>\n",
       "    <tr>\n",
       "      <th>2</th>\n",
       "      <td>3</td>\n",
       "      <td>Missing Person-juvenile</td>\n",
       "      <td>202500012282</td>\n",
       "      <td>200</td>\n",
       "      <td>5TH ST NW</td>\n",
       "      <td>CPD</td>\n",
       "      <td>1744840636000</td>\n",
       "      <td>1757</td>\n",
       "      <td>Davis, Charles</td>\n",
       "    </tr>\n",
       "    <tr>\n",
       "      <th>3</th>\n",
       "      <td>4</td>\n",
       "      <td>Larceny - From Motor Vehicle</td>\n",
       "      <td>202500012277</td>\n",
       "      <td>400</td>\n",
       "      <td>10TH ST NW, 420</td>\n",
       "      <td>CPD</td>\n",
       "      <td>1744833014000</td>\n",
       "      <td>1550</td>\n",
       "      <td>Ritter, Kobe</td>\n",
       "    </tr>\n",
       "    <tr>\n",
       "      <th>4</th>\n",
       "      <td>5</td>\n",
       "      <td>Larceny - Shoplifitng</td>\n",
       "      <td>202500012257</td>\n",
       "      <td>1100</td>\n",
       "      <td>5TH ST SW</td>\n",
       "      <td>CPD</td>\n",
       "      <td>1744832564000</td>\n",
       "      <td>1542</td>\n",
       "      <td>Kinney, Dylan</td>\n",
       "    </tr>\n",
       "  </tbody>\n",
       "</table>\n",
       "</div>"
      ],
      "text/plain": [
       "   RecordID                       Offense    IncidentID BlockNumber  \\\n",
       "0         1                Assault Simple  202500012297         400   \n",
       "1         2                   Hit and Run  202500012295               \n",
       "2         3       Missing Person-juvenile  202500012282         200   \n",
       "3         4  Larceny - From Motor Vehicle  202500012277         400   \n",
       "4         5         Larceny - Shoplifitng  202500012257        1100   \n",
       "\n",
       "                StreetName Agency   DateReported HourReported ReportingOfficer  \n",
       "0               12TH ST NW    CPD  1744849937000         2032     Ritter, Kobe  \n",
       "1  BARRACKS RD @ CEDARS CT    CPD  1744849862000         2031    Hannay, Jacob  \n",
       "2                5TH ST NW    CPD  1744840636000         1757   Davis, Charles  \n",
       "3          10TH ST NW, 420    CPD  1744833014000         1550     Ritter, Kobe  \n",
       "4                5TH ST SW    CPD  1744832564000         1542    Kinney, Dylan  "
      ]
     },
     "execution_count": 3,
     "metadata": {},
     "output_type": "execute_result"
    }
   ],
   "source": [
    "df.head()"
   ]
  },
  {
   "cell_type": "code",
   "execution_count": 4,
   "id": "9a36924a",
   "metadata": {
    "execution": {
     "iopub.execute_input": "2025-04-19T00:58:24.465312Z",
     "iopub.status.busy": "2025-04-19T00:58:24.464736Z",
     "iopub.status.idle": "2025-04-19T00:58:24.469306Z",
     "shell.execute_reply": "2025-04-19T00:58:24.468740Z"
    },
    "papermill": {
     "duration": 0.011674,
     "end_time": "2025-04-19T00:58:24.470324",
     "exception": false,
     "start_time": "2025-04-19T00:58:24.458650",
     "status": "completed"
    },
    "tags": []
   },
   "outputs": [
    {
     "data": {
      "text/plain": [
       "Index(['RecordID', 'Offense', 'IncidentID', 'BlockNumber', 'StreetName',\n",
       "       'Agency', 'DateReported', 'HourReported', 'ReportingOfficer'],\n",
       "      dtype='object')"
      ]
     },
     "execution_count": 4,
     "metadata": {},
     "output_type": "execute_result"
    }
   ],
   "source": [
    "df.columns"
   ]
  },
  {
   "cell_type": "code",
   "execution_count": 5,
   "id": "2c2671d0",
   "metadata": {
    "execution": {
     "iopub.execute_input": "2025-04-19T00:58:24.482493Z",
     "iopub.status.busy": "2025-04-19T00:58:24.481973Z",
     "iopub.status.idle": "2025-04-19T00:58:24.506613Z",
     "shell.execute_reply": "2025-04-19T00:58:24.505913Z"
    },
    "papermill": {
     "duration": 0.031867,
     "end_time": "2025-04-19T00:58:24.507657",
     "exception": false,
     "start_time": "2025-04-19T00:58:24.475790",
     "status": "completed"
    },
    "tags": []
   },
   "outputs": [
    {
     "name": "stdout",
     "output_type": "stream",
     "text": [
      "<class 'pandas.core.frame.DataFrame'>\n",
      "RangeIndex: 25226 entries, 0 to 25225\n",
      "Data columns (total 9 columns):\n",
      " #   Column            Non-Null Count  Dtype \n",
      "---  ------            --------------  ----- \n",
      " 0   RecordID          25226 non-null  int64 \n",
      " 1   Offense           25226 non-null  object\n",
      " 2   IncidentID        25226 non-null  object\n",
      " 3   BlockNumber       25226 non-null  object\n",
      " 4   StreetName        25226 non-null  object\n",
      " 5   Agency            25226 non-null  object\n",
      " 6   DateReported      25226 non-null  int64 \n",
      " 7   HourReported      25226 non-null  object\n",
      " 8   ReportingOfficer  25209 non-null  object\n",
      "dtypes: int64(2), object(7)\n",
      "memory usage: 1.7+ MB\n"
     ]
    }
   ],
   "source": [
    "df.info()"
   ]
  },
  {
   "cell_type": "markdown",
   "id": "ec4e1451",
   "metadata": {
    "papermill": {
     "duration": 0.006718,
     "end_time": "2025-04-19T00:58:24.521005",
     "exception": false,
     "start_time": "2025-04-19T00:58:24.514287",
     "status": "completed"
    },
    "tags": []
   },
   "source": [
    "### Missing Values"
   ]
  },
  {
   "cell_type": "code",
   "execution_count": 6,
   "id": "139f6548",
   "metadata": {
    "execution": {
     "iopub.execute_input": "2025-04-19T00:58:24.534713Z",
     "iopub.status.busy": "2025-04-19T00:58:24.534179Z",
     "iopub.status.idle": "2025-04-19T00:58:24.557365Z",
     "shell.execute_reply": "2025-04-19T00:58:24.556675Z"
    },
    "papermill": {
     "duration": 0.030653,
     "end_time": "2025-04-19T00:58:24.558486",
     "exception": false,
     "start_time": "2025-04-19T00:58:24.527833",
     "status": "completed"
    },
    "tags": []
   },
   "outputs": [
    {
     "name": "stdout",
     "output_type": "stream",
     "text": [
      "                  MissingCount  MissingPercentage\n",
      "RecordID                     0               0.00\n",
      "Offense                      0               0.00\n",
      "IncidentID                   0               0.00\n",
      "BlockNumber                  0               0.00\n",
      "StreetName                   0               0.00\n",
      "Agency                       0               0.00\n",
      "DateReported                 0               0.00\n",
      "HourReported                 0               0.00\n",
      "ReportingOfficer            17               0.07\n"
     ]
    }
   ],
   "source": [
    "def missing_percentage(df):\n",
    "    \"\"\"\n",
    "    Returns a DataFrame with the count and percentage of missing values for each column.\n",
    "    \n",
    "    Parameters:\n",
    "        df (pd.DataFrame): The input DataFrame.\n",
    "    \n",
    "    Returns:\n",
    "        pd.DataFrame: A DataFrame with columns 'MissingCount' and 'MissingPercentage'.\n",
    "    \"\"\"\n",
    "    total_rows = len(df)\n",
    "    missing_count = df.isnull().sum()\n",
    "    missing_percent = (missing_count / total_rows) * 100\n",
    "    \n",
    "    result = pd.DataFrame({\n",
    "        'MissingCount': missing_count,\n",
    "        'MissingPercentage': missing_percent.round(2)\n",
    "    })\n",
    "    \n",
    "    return result\n",
    "\n",
    "# Example usage:\n",
    "missing_info = missing_percentage(df)\n",
    "print(missing_info)\n"
   ]
  },
  {
   "cell_type": "markdown",
   "id": "56966e8d",
   "metadata": {
    "papermill": {
     "duration": 0.005826,
     "end_time": "2025-04-19T00:58:24.570354",
     "exception": false,
     "start_time": "2025-04-19T00:58:24.564528",
     "status": "completed"
    },
    "tags": []
   },
   "source": [
    "## Data Preparation"
   ]
  },
  {
   "cell_type": "markdown",
   "id": "231e177c",
   "metadata": {
    "papermill": {
     "duration": 0.005585,
     "end_time": "2025-04-19T00:58:24.581533",
     "exception": false,
     "start_time": "2025-04-19T00:58:24.575948",
     "status": "completed"
    },
    "tags": []
   },
   "source": [
    "### Data Conversion"
   ]
  },
  {
   "cell_type": "code",
   "execution_count": 7,
   "id": "76659bb1",
   "metadata": {
    "execution": {
     "iopub.execute_input": "2025-04-19T00:58:24.594165Z",
     "iopub.status.busy": "2025-04-19T00:58:24.593673Z",
     "iopub.status.idle": "2025-04-19T00:58:24.963271Z",
     "shell.execute_reply": "2025-04-19T00:58:24.962571Z"
    },
    "papermill": {
     "duration": 0.377296,
     "end_time": "2025-04-19T00:58:24.964421",
     "exception": false,
     "start_time": "2025-04-19T00:58:24.587125",
     "status": "completed"
    },
    "tags": []
   },
   "outputs": [
    {
     "data": {
      "text/html": [
       "<div>\n",
       "<style scoped>\n",
       "    .dataframe tbody tr th:only-of-type {\n",
       "        vertical-align: middle;\n",
       "    }\n",
       "\n",
       "    .dataframe tbody tr th {\n",
       "        vertical-align: top;\n",
       "    }\n",
       "\n",
       "    .dataframe thead th {\n",
       "        text-align: right;\n",
       "    }\n",
       "</style>\n",
       "<table border=\"1\" class=\"dataframe\">\n",
       "  <thead>\n",
       "    <tr style=\"text-align: right;\">\n",
       "      <th></th>\n",
       "      <th>RecordID</th>\n",
       "      <th>Offense</th>\n",
       "      <th>IncidentID</th>\n",
       "      <th>BlockNumber</th>\n",
       "      <th>StreetName</th>\n",
       "      <th>Agency</th>\n",
       "      <th>HourReported</th>\n",
       "      <th>ReportingOfficer</th>\n",
       "      <th>Date</th>\n",
       "      <th>DateString</th>\n",
       "      <th>DayOfWeek</th>\n",
       "      <th>Weekend</th>\n",
       "      <th>Season</th>\n",
       "      <th>HourAMPM</th>\n",
       "      <th>TimeOfDay</th>\n",
       "    </tr>\n",
       "  </thead>\n",
       "  <tbody>\n",
       "    <tr>\n",
       "      <th>0</th>\n",
       "      <td>1</td>\n",
       "      <td>Assault Simple</td>\n",
       "      <td>202500012297</td>\n",
       "      <td>400</td>\n",
       "      <td>12TH ST NW</td>\n",
       "      <td>CPD</td>\n",
       "      <td>2032</td>\n",
       "      <td>Ritter, Kobe</td>\n",
       "      <td>2025-04-16 20:32:17</td>\n",
       "      <td>2025-04-16 08:32:17 PM</td>\n",
       "      <td>Wednesday</td>\n",
       "      <td>False</td>\n",
       "      <td>Spring</td>\n",
       "      <td>08:32 PM</td>\n",
       "      <td>Evening</td>\n",
       "    </tr>\n",
       "    <tr>\n",
       "      <th>1</th>\n",
       "      <td>2</td>\n",
       "      <td>Hit and Run</td>\n",
       "      <td>202500012295</td>\n",
       "      <td></td>\n",
       "      <td>BARRACKS RD @ CEDARS CT</td>\n",
       "      <td>CPD</td>\n",
       "      <td>2031</td>\n",
       "      <td>Hannay, Jacob</td>\n",
       "      <td>2025-04-16 20:31:02</td>\n",
       "      <td>2025-04-16 08:31:02 PM</td>\n",
       "      <td>Wednesday</td>\n",
       "      <td>False</td>\n",
       "      <td>Spring</td>\n",
       "      <td>08:31 PM</td>\n",
       "      <td>Evening</td>\n",
       "    </tr>\n",
       "    <tr>\n",
       "      <th>2</th>\n",
       "      <td>3</td>\n",
       "      <td>Missing Person-juvenile</td>\n",
       "      <td>202500012282</td>\n",
       "      <td>200</td>\n",
       "      <td>5TH ST NW</td>\n",
       "      <td>CPD</td>\n",
       "      <td>1757</td>\n",
       "      <td>Davis, Charles</td>\n",
       "      <td>2025-04-16 17:57:16</td>\n",
       "      <td>2025-04-16 05:57:16 PM</td>\n",
       "      <td>Wednesday</td>\n",
       "      <td>False</td>\n",
       "      <td>Spring</td>\n",
       "      <td>05:57 PM</td>\n",
       "      <td>Evening</td>\n",
       "    </tr>\n",
       "    <tr>\n",
       "      <th>3</th>\n",
       "      <td>4</td>\n",
       "      <td>Larceny - From Motor Vehicle</td>\n",
       "      <td>202500012277</td>\n",
       "      <td>400</td>\n",
       "      <td>10TH ST NW, 420</td>\n",
       "      <td>CPD</td>\n",
       "      <td>1550</td>\n",
       "      <td>Ritter, Kobe</td>\n",
       "      <td>2025-04-16 15:50:14</td>\n",
       "      <td>2025-04-16 03:50:14 PM</td>\n",
       "      <td>Wednesday</td>\n",
       "      <td>False</td>\n",
       "      <td>Spring</td>\n",
       "      <td>03:50 PM</td>\n",
       "      <td>Afternoon</td>\n",
       "    </tr>\n",
       "    <tr>\n",
       "      <th>4</th>\n",
       "      <td>5</td>\n",
       "      <td>Larceny - Shoplifitng</td>\n",
       "      <td>202500012257</td>\n",
       "      <td>1100</td>\n",
       "      <td>5TH ST SW</td>\n",
       "      <td>CPD</td>\n",
       "      <td>1542</td>\n",
       "      <td>Kinney, Dylan</td>\n",
       "      <td>2025-04-16 15:42:44</td>\n",
       "      <td>2025-04-16 03:42:44 PM</td>\n",
       "      <td>Wednesday</td>\n",
       "      <td>False</td>\n",
       "      <td>Spring</td>\n",
       "      <td>03:42 PM</td>\n",
       "      <td>Afternoon</td>\n",
       "    </tr>\n",
       "  </tbody>\n",
       "</table>\n",
       "</div>"
      ],
      "text/plain": [
       "   RecordID                       Offense    IncidentID BlockNumber  \\\n",
       "0         1                Assault Simple  202500012297         400   \n",
       "1         2                   Hit and Run  202500012295               \n",
       "2         3       Missing Person-juvenile  202500012282         200   \n",
       "3         4  Larceny - From Motor Vehicle  202500012277         400   \n",
       "4         5         Larceny - Shoplifitng  202500012257        1100   \n",
       "\n",
       "                StreetName Agency HourReported ReportingOfficer  \\\n",
       "0               12TH ST NW    CPD         2032     Ritter, Kobe   \n",
       "1  BARRACKS RD @ CEDARS CT    CPD         2031    Hannay, Jacob   \n",
       "2                5TH ST NW    CPD         1757   Davis, Charles   \n",
       "3          10TH ST NW, 420    CPD         1550     Ritter, Kobe   \n",
       "4                5TH ST SW    CPD         1542    Kinney, Dylan   \n",
       "\n",
       "                 Date              DateString  DayOfWeek  Weekend  Season  \\\n",
       "0 2025-04-16 20:32:17  2025-04-16 08:32:17 PM  Wednesday    False  Spring   \n",
       "1 2025-04-16 20:31:02  2025-04-16 08:31:02 PM  Wednesday    False  Spring   \n",
       "2 2025-04-16 17:57:16  2025-04-16 05:57:16 PM  Wednesday    False  Spring   \n",
       "3 2025-04-16 15:50:14  2025-04-16 03:50:14 PM  Wednesday    False  Spring   \n",
       "4 2025-04-16 15:42:44  2025-04-16 03:42:44 PM  Wednesday    False  Spring   \n",
       "\n",
       "   HourAMPM  TimeOfDay  \n",
       "0  08:32 PM    Evening  \n",
       "1  08:31 PM    Evening  \n",
       "2  05:57 PM    Evening  \n",
       "3  03:50 PM  Afternoon  \n",
       "4  03:42 PM  Afternoon  "
      ]
     },
     "execution_count": 7,
     "metadata": {},
     "output_type": "execute_result"
    }
   ],
   "source": [
    "def convert_and_categorize_datereported(df, col='DateReported'):\n",
    "    \"\"\"\n",
    "    Converts an epoch (in milliseconds) date column into a timezone-aware datetime,\n",
    "    converts it to Eastern Time, and then creates columns for day-of-week, weekend flag,\n",
    "    season, 12-hour formatted time, and time-of-day. Keeps both a real datetime column\n",
    "    (Date) and a string representation (DateString).\n",
    "    \"\"\"\n",
    "    import pandas as pd\n",
    "\n",
    "    # Convert the epoch timestamp to a pandas datetime object as UTC, then convert to US/Eastern.\n",
    "    df[\"DateReported_dt\"] = (\n",
    "        pd.to_datetime(df[col], unit=\"ms\", errors=\"coerce\", utc=True)\n",
    "        .dt.tz_convert(\"US/Eastern\")\n",
    "    )\n",
    "    \n",
    "    # Create a true datetime column (remove timezone if you prefer naive datetime)\n",
    "    df[\"Date\"] = df[\"DateReported_dt\"].dt.tz_localize(None)\n",
    "\n",
    "    # Optionally, create a separate string-formatted column\n",
    "    df[\"DateString\"] = df[\"DateReported_dt\"].dt.strftime(\"%Y-%m-%d %I:%M:%S %p\")\n",
    "    \n",
    "    # DayOfWeek\n",
    "    df[\"DayOfWeek\"] = df[\"DateReported_dt\"].dt.day_name()\n",
    "    \n",
    "    # Weekend\n",
    "    df[\"Weekend\"] = df[\"DayOfWeek\"].isin([\"Saturday\", \"Sunday\"])\n",
    "    \n",
    "    # Helper function to determine the season\n",
    "    def get_season(dt):\n",
    "        month = dt.month\n",
    "        day = dt.day\n",
    "        # Approximate Northern Hemisphere season boundaries:\n",
    "        if (month == 12 and day >= 21) or (month < 3) or (month == 3 and day < 20):\n",
    "            return \"Winter\"\n",
    "        elif (month == 3 and day >= 20) or (month < 6) or (month == 6 and day < 21):\n",
    "            return \"Spring\"\n",
    "        elif (month == 6 and day >= 21) or (month < 9) or (month == 9 and day < 22):\n",
    "            return \"Summer\"\n",
    "        else:\n",
    "            return \"Autumn\"\n",
    "    \n",
    "    df[\"Season\"] = df[\"DateReported_dt\"].apply(get_season)\n",
    "    \n",
    "    # 12-hour formatted time (HourAMPM)\n",
    "    df[\"HourAMPM\"] = df[\"DateReported_dt\"].dt.strftime(\"%I:%M %p\")\n",
    "    \n",
    "    # Extract hour (0-23) for time-of-day\n",
    "    df[\"HourValue\"] = df[\"DateReported_dt\"].dt.hour\n",
    "    \n",
    "    def time_of_day(hour):\n",
    "        if pd.isnull(hour):\n",
    "            return None\n",
    "        if 5 <= hour < 12:\n",
    "            return \"Morning\"\n",
    "        elif 12 <= hour < 17:\n",
    "            return \"Afternoon\"\n",
    "        elif 17 <= hour < 21:\n",
    "            return \"Evening\"\n",
    "        else:\n",
    "            return \"Night\"\n",
    "    \n",
    "    df[\"TimeOfDay\"] = df[\"HourValue\"].apply(time_of_day)\n",
    "    \n",
    "    # Drop columns you no longer need\n",
    "    df.drop(columns=[col, \"DateReported_dt\", \"HourValue\"], inplace=True)\n",
    "    \n",
    "    return df\n",
    "\n",
    "# Example usage:\n",
    "df = convert_and_categorize_datereported(df)\n",
    "df.head()\n"
   ]
  },
  {
   "cell_type": "code",
   "execution_count": 8,
   "id": "21ae797c",
   "metadata": {
    "execution": {
     "iopub.execute_input": "2025-04-19T00:58:24.977785Z",
     "iopub.status.busy": "2025-04-19T00:58:24.977364Z",
     "iopub.status.idle": "2025-04-19T00:58:25.006399Z",
     "shell.execute_reply": "2025-04-19T00:58:25.005689Z"
    },
    "papermill": {
     "duration": 0.036689,
     "end_time": "2025-04-19T00:58:25.007383",
     "exception": false,
     "start_time": "2025-04-19T00:58:24.970694",
     "status": "completed"
    },
    "tags": []
   },
   "outputs": [
    {
     "name": "stdout",
     "output_type": "stream",
     "text": [
      "<class 'pandas.core.frame.DataFrame'>\n",
      "RangeIndex: 25226 entries, 0 to 25225\n",
      "Data columns (total 15 columns):\n",
      " #   Column            Non-Null Count  Dtype         \n",
      "---  ------            --------------  -----         \n",
      " 0   RecordID          25226 non-null  int64         \n",
      " 1   Offense           25226 non-null  object        \n",
      " 2   IncidentID        25226 non-null  object        \n",
      " 3   BlockNumber       25226 non-null  object        \n",
      " 4   StreetName        25226 non-null  object        \n",
      " 5   Agency            25226 non-null  object        \n",
      " 6   HourReported      25226 non-null  object        \n",
      " 7   ReportingOfficer  25209 non-null  object        \n",
      " 8   Date              25226 non-null  datetime64[ns]\n",
      " 9   DateString        25226 non-null  object        \n",
      " 10  DayOfWeek         25226 non-null  object        \n",
      " 11  Weekend           25226 non-null  bool          \n",
      " 12  Season            25226 non-null  object        \n",
      " 13  HourAMPM          25226 non-null  object        \n",
      " 14  TimeOfDay         25226 non-null  object        \n",
      "dtypes: bool(1), datetime64[ns](1), int64(1), object(12)\n",
      "memory usage: 2.7+ MB\n"
     ]
    }
   ],
   "source": [
    "df.info()"
   ]
  },
  {
   "cell_type": "markdown",
   "id": "8fb264c8",
   "metadata": {
    "papermill": {
     "duration": 0.006006,
     "end_time": "2025-04-19T00:58:25.019597",
     "exception": false,
     "start_time": "2025-04-19T00:58:25.013591",
     "status": "completed"
    },
    "tags": []
   },
   "source": [
    "### Coordinates"
   ]
  },
  {
   "cell_type": "code",
   "execution_count": 9,
   "id": "7522fa0c",
   "metadata": {
    "execution": {
     "iopub.execute_input": "2025-04-19T00:58:25.032990Z",
     "iopub.status.busy": "2025-04-19T00:58:25.032465Z",
     "iopub.status.idle": "2025-04-19T00:58:25.514592Z",
     "shell.execute_reply": "2025-04-19T00:58:25.514027Z"
    },
    "papermill": {
     "duration": 0.490379,
     "end_time": "2025-04-19T00:58:25.515930",
     "exception": false,
     "start_time": "2025-04-19T00:58:25.025551",
     "status": "completed"
    },
    "tags": []
   },
   "outputs": [
    {
     "name": "stdout",
     "output_type": "stream",
     "text": [
      "Loaded geocode cache.\n"
     ]
    },
    {
     "name": "stdout",
     "output_type": "stream",
     "text": [
      "Geocoded  BARRACKS RD @ CEDARS CT: 38.0553496, -78.5014843\n"
     ]
    },
    {
     "name": "stdout",
     "output_type": "stream",
     "text": [
      "Geocoded 400 10TH ST NW, 420: 38.0374225, -78.4917433\n"
     ]
    },
    {
     "name": "stdout",
     "output_type": "stream",
     "text": [
      "Geocoded 200 MASSIE RD: 38.0451497, -78.5069427\n",
      "Geocode cache updated and saved.\n"
     ]
    },
    {
     "data": {
      "text/html": [
       "<div>\n",
       "<style scoped>\n",
       "    .dataframe tbody tr th:only-of-type {\n",
       "        vertical-align: middle;\n",
       "    }\n",
       "\n",
       "    .dataframe tbody tr th {\n",
       "        vertical-align: top;\n",
       "    }\n",
       "\n",
       "    .dataframe thead th {\n",
       "        text-align: right;\n",
       "    }\n",
       "</style>\n",
       "<table border=\"1\" class=\"dataframe\">\n",
       "  <thead>\n",
       "    <tr style=\"text-align: right;\">\n",
       "      <th></th>\n",
       "      <th>RecordID</th>\n",
       "      <th>Offense</th>\n",
       "      <th>IncidentID</th>\n",
       "      <th>BlockNumber</th>\n",
       "      <th>StreetName</th>\n",
       "      <th>Agency</th>\n",
       "      <th>HourReported</th>\n",
       "      <th>ReportingOfficer</th>\n",
       "      <th>Date</th>\n",
       "      <th>DateString</th>\n",
       "      <th>DayOfWeek</th>\n",
       "      <th>Weekend</th>\n",
       "      <th>Season</th>\n",
       "      <th>HourAMPM</th>\n",
       "      <th>TimeOfDay</th>\n",
       "      <th>FullStreet</th>\n",
       "      <th>lat</th>\n",
       "      <th>lon</th>\n",
       "    </tr>\n",
       "  </thead>\n",
       "  <tbody>\n",
       "    <tr>\n",
       "      <th>0</th>\n",
       "      <td>1</td>\n",
       "      <td>Assault Simple</td>\n",
       "      <td>202500012297</td>\n",
       "      <td>400</td>\n",
       "      <td>12TH ST NW</td>\n",
       "      <td>CPD</td>\n",
       "      <td>2032</td>\n",
       "      <td>Ritter, Kobe</td>\n",
       "      <td>2025-04-16 20:32:17</td>\n",
       "      <td>2025-04-16 08:32:17 PM</td>\n",
       "      <td>Wednesday</td>\n",
       "      <td>False</td>\n",
       "      <td>Spring</td>\n",
       "      <td>08:32 PM</td>\n",
       "      <td>Evening</td>\n",
       "      <td>400 12TH ST NW</td>\n",
       "      <td>38.037780</td>\n",
       "      <td>-78.495309</td>\n",
       "    </tr>\n",
       "    <tr>\n",
       "      <th>1</th>\n",
       "      <td>2</td>\n",
       "      <td>Hit and Run</td>\n",
       "      <td>202500012295</td>\n",
       "      <td></td>\n",
       "      <td>BARRACKS RD @ CEDARS CT</td>\n",
       "      <td>CPD</td>\n",
       "      <td>2031</td>\n",
       "      <td>Hannay, Jacob</td>\n",
       "      <td>2025-04-16 20:31:02</td>\n",
       "      <td>2025-04-16 08:31:02 PM</td>\n",
       "      <td>Wednesday</td>\n",
       "      <td>False</td>\n",
       "      <td>Spring</td>\n",
       "      <td>08:31 PM</td>\n",
       "      <td>Evening</td>\n",
       "      <td>BARRACKS RD @ CEDARS CT</td>\n",
       "      <td>38.055350</td>\n",
       "      <td>-78.501484</td>\n",
       "    </tr>\n",
       "    <tr>\n",
       "      <th>2</th>\n",
       "      <td>3</td>\n",
       "      <td>Missing Person-juvenile</td>\n",
       "      <td>202500012282</td>\n",
       "      <td>200</td>\n",
       "      <td>5TH ST NW</td>\n",
       "      <td>CPD</td>\n",
       "      <td>1757</td>\n",
       "      <td>Davis, Charles</td>\n",
       "      <td>2025-04-16 17:57:16</td>\n",
       "      <td>2025-04-16 05:57:16 PM</td>\n",
       "      <td>Wednesday</td>\n",
       "      <td>False</td>\n",
       "      <td>Spring</td>\n",
       "      <td>05:57 PM</td>\n",
       "      <td>Evening</td>\n",
       "      <td>200 5TH ST NW</td>\n",
       "      <td>38.031612</td>\n",
       "      <td>-78.487454</td>\n",
       "    </tr>\n",
       "    <tr>\n",
       "      <th>3</th>\n",
       "      <td>4</td>\n",
       "      <td>Larceny - From Motor Vehicle</td>\n",
       "      <td>202500012277</td>\n",
       "      <td>400</td>\n",
       "      <td>10TH ST NW, 420</td>\n",
       "      <td>CPD</td>\n",
       "      <td>1550</td>\n",
       "      <td>Ritter, Kobe</td>\n",
       "      <td>2025-04-16 15:50:14</td>\n",
       "      <td>2025-04-16 03:50:14 PM</td>\n",
       "      <td>Wednesday</td>\n",
       "      <td>False</td>\n",
       "      <td>Spring</td>\n",
       "      <td>03:50 PM</td>\n",
       "      <td>Afternoon</td>\n",
       "      <td>400 10TH ST NW, 420</td>\n",
       "      <td>38.037422</td>\n",
       "      <td>-78.491743</td>\n",
       "    </tr>\n",
       "    <tr>\n",
       "      <th>4</th>\n",
       "      <td>5</td>\n",
       "      <td>Larceny - Shoplifitng</td>\n",
       "      <td>202500012257</td>\n",
       "      <td>1100</td>\n",
       "      <td>5TH ST SW</td>\n",
       "      <td>CPD</td>\n",
       "      <td>1542</td>\n",
       "      <td>Kinney, Dylan</td>\n",
       "      <td>2025-04-16 15:42:44</td>\n",
       "      <td>2025-04-16 03:42:44 PM</td>\n",
       "      <td>Wednesday</td>\n",
       "      <td>False</td>\n",
       "      <td>Spring</td>\n",
       "      <td>03:42 PM</td>\n",
       "      <td>Afternoon</td>\n",
       "      <td>1100 5TH ST SW</td>\n",
       "      <td>38.017130</td>\n",
       "      <td>-78.497806</td>\n",
       "    </tr>\n",
       "  </tbody>\n",
       "</table>\n",
       "</div>"
      ],
      "text/plain": [
       "   RecordID                       Offense    IncidentID BlockNumber  \\\n",
       "0         1                Assault Simple  202500012297         400   \n",
       "1         2                   Hit and Run  202500012295               \n",
       "2         3       Missing Person-juvenile  202500012282         200   \n",
       "3         4  Larceny - From Motor Vehicle  202500012277         400   \n",
       "4         5         Larceny - Shoplifitng  202500012257        1100   \n",
       "\n",
       "                StreetName Agency HourReported ReportingOfficer  \\\n",
       "0               12TH ST NW    CPD         2032     Ritter, Kobe   \n",
       "1  BARRACKS RD @ CEDARS CT    CPD         2031    Hannay, Jacob   \n",
       "2                5TH ST NW    CPD         1757   Davis, Charles   \n",
       "3          10TH ST NW, 420    CPD         1550     Ritter, Kobe   \n",
       "4                5TH ST SW    CPD         1542    Kinney, Dylan   \n",
       "\n",
       "                 Date              DateString  DayOfWeek  Weekend  Season  \\\n",
       "0 2025-04-16 20:32:17  2025-04-16 08:32:17 PM  Wednesday    False  Spring   \n",
       "1 2025-04-16 20:31:02  2025-04-16 08:31:02 PM  Wednesday    False  Spring   \n",
       "2 2025-04-16 17:57:16  2025-04-16 05:57:16 PM  Wednesday    False  Spring   \n",
       "3 2025-04-16 15:50:14  2025-04-16 03:50:14 PM  Wednesday    False  Spring   \n",
       "4 2025-04-16 15:42:44  2025-04-16 03:42:44 PM  Wednesday    False  Spring   \n",
       "\n",
       "   HourAMPM  TimeOfDay                FullStreet        lat        lon  \n",
       "0  08:32 PM    Evening            400 12TH ST NW  38.037780 -78.495309  \n",
       "1  08:31 PM    Evening   BARRACKS RD @ CEDARS CT  38.055350 -78.501484  \n",
       "2  05:57 PM    Evening             200 5TH ST NW  38.031612 -78.487454  \n",
       "3  03:50 PM  Afternoon       400 10TH ST NW, 420  38.037422 -78.491743  \n",
       "4  03:42 PM  Afternoon            1100 5TH ST SW  38.017130 -78.497806  "
      ]
     },
     "execution_count": 9,
     "metadata": {},
     "output_type": "execute_result"
    }
   ],
   "source": [
    "# Combine BlockNumber and StreetName into a full address string\n",
    "df['FullStreet'] = df['BlockNumber'].astype(str) + \" \" + df['StreetName']\n",
    "\n",
    "# --- Step 1: Setup the Google Maps Client and Cache ---\n",
    "gmaps = googlemaps.Client(key=GOOGLE_API_KEY)\n",
    "\n",
    "# Try to load cached geocoding results if available.\n",
    "try:\n",
    "    with open(\"geocode_cache_google.pkl\", \"rb\") as f:\n",
    "        street_coords = pickle.load(f)\n",
    "    print(\"Loaded geocode cache.\")\n",
    "except FileNotFoundError:\n",
    "    street_coords = {}\n",
    "    print(\"No cache found; starting fresh.\")\n",
    "\n",
    "def geocode_address(address):\n",
    "    try:\n",
    "        # Append city and state to help geocoding\n",
    "        result = gmaps.geocode(f\"{address}, Charlottesville, VA\")\n",
    "        if result:\n",
    "            lat = result[0]['geometry']['location']['lat']\n",
    "            lon = result[0]['geometry']['location']['lng']\n",
    "            return lat, lon\n",
    "    except Exception as e:\n",
    "        print(f\"Error geocoding {address}: {e}\")\n",
    "    return None, None\n",
    "\n",
    "# --- Step 2: Geocode Only New Addresses ---\n",
    "unique_addresses = df['FullStreet'].unique()\n",
    "for address in unique_addresses:\n",
    "    if address not in street_coords:\n",
    "        lat, lon = geocode_address(address)\n",
    "        street_coords[address] = (lat, lon)\n",
    "        print(f\"Geocoded {address}: {lat}, {lon}\")\n",
    "\n",
    "# Save the updated cache to disk.\n",
    "with open(\"geocode_cache_google.pkl\", \"wb\") as f:\n",
    "    pickle.dump(street_coords, f)\n",
    "    print(\"Geocode cache updated and saved.\")\n",
    "\n",
    "# --- Step 3: Map Coordinates Back to DataFrame ---\n",
    "df['lat'] = df['FullStreet'].map(lambda s: street_coords.get(s, (None, None))[0])\n",
    "df['lon'] = df['FullStreet'].map(lambda s: street_coords.get(s, (None, None))[1])\n",
    "\n",
    "df.head()"
   ]
  },
  {
   "cell_type": "markdown",
   "id": "ee7293cf",
   "metadata": {
    "papermill": {
     "duration": 0.006365,
     "end_time": "2025-04-19T00:58:25.529665",
     "exception": false,
     "start_time": "2025-04-19T00:58:25.523300",
     "status": "completed"
    },
    "tags": []
   },
   "source": [
    "### Neighborhood"
   ]
  },
  {
   "cell_type": "code",
   "execution_count": 10,
   "id": "9b35213d",
   "metadata": {
    "execution": {
     "iopub.execute_input": "2025-04-19T00:58:25.543505Z",
     "iopub.status.busy": "2025-04-19T00:58:25.543076Z",
     "iopub.status.idle": "2025-04-19T00:58:25.977873Z",
     "shell.execute_reply": "2025-04-19T00:58:25.977166Z"
    },
    "papermill": {
     "duration": 0.443308,
     "end_time": "2025-04-19T00:58:25.979200",
     "exception": false,
     "start_time": "2025-04-19T00:58:25.535892",
     "status": "completed"
    },
    "tags": []
   },
   "outputs": [
    {
     "name": "stdout",
     "output_type": "stream",
     "text": [
      "Loaded neighborhood cache.\n"
     ]
    },
    {
     "data": {
      "text/html": [
       "<div>\n",
       "<style scoped>\n",
       "    .dataframe tbody tr th:only-of-type {\n",
       "        vertical-align: middle;\n",
       "    }\n",
       "\n",
       "    .dataframe tbody tr th {\n",
       "        vertical-align: top;\n",
       "    }\n",
       "\n",
       "    .dataframe thead th {\n",
       "        text-align: right;\n",
       "    }\n",
       "</style>\n",
       "<table border=\"1\" class=\"dataframe\">\n",
       "  <thead>\n",
       "    <tr style=\"text-align: right;\">\n",
       "      <th></th>\n",
       "      <th>RecordID</th>\n",
       "      <th>Offense</th>\n",
       "      <th>IncidentID</th>\n",
       "      <th>BlockNumber</th>\n",
       "      <th>StreetName</th>\n",
       "      <th>Agency</th>\n",
       "      <th>HourReported</th>\n",
       "      <th>ReportingOfficer</th>\n",
       "      <th>Date</th>\n",
       "      <th>DateString</th>\n",
       "      <th>DayOfWeek</th>\n",
       "      <th>Weekend</th>\n",
       "      <th>Season</th>\n",
       "      <th>HourAMPM</th>\n",
       "      <th>TimeOfDay</th>\n",
       "      <th>FullStreet</th>\n",
       "      <th>lat</th>\n",
       "      <th>lon</th>\n",
       "      <th>neighborhood</th>\n",
       "    </tr>\n",
       "  </thead>\n",
       "  <tbody>\n",
       "    <tr>\n",
       "      <th>0</th>\n",
       "      <td>1</td>\n",
       "      <td>Assault Simple</td>\n",
       "      <td>202500012297</td>\n",
       "      <td>400</td>\n",
       "      <td>12TH ST NW</td>\n",
       "      <td>CPD</td>\n",
       "      <td>2032</td>\n",
       "      <td>Ritter, Kobe</td>\n",
       "      <td>2025-04-16 20:32:17</td>\n",
       "      <td>2025-04-16 08:32:17 PM</td>\n",
       "      <td>Wednesday</td>\n",
       "      <td>False</td>\n",
       "      <td>Spring</td>\n",
       "      <td>08:32 PM</td>\n",
       "      <td>Evening</td>\n",
       "      <td>400 12TH ST NW</td>\n",
       "      <td>38.037780</td>\n",
       "      <td>-78.495309</td>\n",
       "      <td>Venable</td>\n",
       "    </tr>\n",
       "    <tr>\n",
       "      <th>1</th>\n",
       "      <td>2</td>\n",
       "      <td>Hit and Run</td>\n",
       "      <td>202500012295</td>\n",
       "      <td></td>\n",
       "      <td>BARRACKS RD @ CEDARS CT</td>\n",
       "      <td>CPD</td>\n",
       "      <td>2031</td>\n",
       "      <td>Hannay, Jacob</td>\n",
       "      <td>2025-04-16 20:31:02</td>\n",
       "      <td>2025-04-16 08:31:02 PM</td>\n",
       "      <td>Wednesday</td>\n",
       "      <td>False</td>\n",
       "      <td>Spring</td>\n",
       "      <td>08:31 PM</td>\n",
       "      <td>Evening</td>\n",
       "      <td>BARRACKS RD @ CEDARS CT</td>\n",
       "      <td>38.055350</td>\n",
       "      <td>-78.501484</td>\n",
       "      <td>The Meadows</td>\n",
       "    </tr>\n",
       "    <tr>\n",
       "      <th>2</th>\n",
       "      <td>3</td>\n",
       "      <td>Missing Person-juvenile</td>\n",
       "      <td>202500012282</td>\n",
       "      <td>200</td>\n",
       "      <td>5TH ST NW</td>\n",
       "      <td>CPD</td>\n",
       "      <td>1757</td>\n",
       "      <td>Davis, Charles</td>\n",
       "      <td>2025-04-16 17:57:16</td>\n",
       "      <td>2025-04-16 05:57:16 PM</td>\n",
       "      <td>Wednesday</td>\n",
       "      <td>False</td>\n",
       "      <td>Spring</td>\n",
       "      <td>05:57 PM</td>\n",
       "      <td>Evening</td>\n",
       "      <td>200 5TH ST NW</td>\n",
       "      <td>38.031612</td>\n",
       "      <td>-78.487454</td>\n",
       "      <td>Starr Hill</td>\n",
       "    </tr>\n",
       "    <tr>\n",
       "      <th>3</th>\n",
       "      <td>4</td>\n",
       "      <td>Larceny - From Motor Vehicle</td>\n",
       "      <td>202500012277</td>\n",
       "      <td>400</td>\n",
       "      <td>10TH ST NW, 420</td>\n",
       "      <td>CPD</td>\n",
       "      <td>1550</td>\n",
       "      <td>Ritter, Kobe</td>\n",
       "      <td>2025-04-16 15:50:14</td>\n",
       "      <td>2025-04-16 03:50:14 PM</td>\n",
       "      <td>Wednesday</td>\n",
       "      <td>False</td>\n",
       "      <td>Spring</td>\n",
       "      <td>03:50 PM</td>\n",
       "      <td>Afternoon</td>\n",
       "      <td>400 10TH ST NW, 420</td>\n",
       "      <td>38.037422</td>\n",
       "      <td>-78.491743</td>\n",
       "      <td>10th &amp; Page</td>\n",
       "    </tr>\n",
       "    <tr>\n",
       "      <th>4</th>\n",
       "      <td>5</td>\n",
       "      <td>Larceny - Shoplifitng</td>\n",
       "      <td>202500012257</td>\n",
       "      <td>1100</td>\n",
       "      <td>5TH ST SW</td>\n",
       "      <td>CPD</td>\n",
       "      <td>1542</td>\n",
       "      <td>Kinney, Dylan</td>\n",
       "      <td>2025-04-16 15:42:44</td>\n",
       "      <td>2025-04-16 03:42:44 PM</td>\n",
       "      <td>Wednesday</td>\n",
       "      <td>False</td>\n",
       "      <td>Spring</td>\n",
       "      <td>03:42 PM</td>\n",
       "      <td>Afternoon</td>\n",
       "      <td>1100 5TH ST SW</td>\n",
       "      <td>38.017130</td>\n",
       "      <td>-78.497806</td>\n",
       "      <td>Johnson Village</td>\n",
       "    </tr>\n",
       "  </tbody>\n",
       "</table>\n",
       "</div>"
      ],
      "text/plain": [
       "   RecordID                       Offense    IncidentID BlockNumber  \\\n",
       "0         1                Assault Simple  202500012297         400   \n",
       "1         2                   Hit and Run  202500012295               \n",
       "2         3       Missing Person-juvenile  202500012282         200   \n",
       "3         4  Larceny - From Motor Vehicle  202500012277         400   \n",
       "4         5         Larceny - Shoplifitng  202500012257        1100   \n",
       "\n",
       "                StreetName Agency HourReported ReportingOfficer  \\\n",
       "0               12TH ST NW    CPD         2032     Ritter, Kobe   \n",
       "1  BARRACKS RD @ CEDARS CT    CPD         2031    Hannay, Jacob   \n",
       "2                5TH ST NW    CPD         1757   Davis, Charles   \n",
       "3          10TH ST NW, 420    CPD         1550     Ritter, Kobe   \n",
       "4                5TH ST SW    CPD         1542    Kinney, Dylan   \n",
       "\n",
       "                 Date              DateString  DayOfWeek  Weekend  Season  \\\n",
       "0 2025-04-16 20:32:17  2025-04-16 08:32:17 PM  Wednesday    False  Spring   \n",
       "1 2025-04-16 20:31:02  2025-04-16 08:31:02 PM  Wednesday    False  Spring   \n",
       "2 2025-04-16 17:57:16  2025-04-16 05:57:16 PM  Wednesday    False  Spring   \n",
       "3 2025-04-16 15:50:14  2025-04-16 03:50:14 PM  Wednesday    False  Spring   \n",
       "4 2025-04-16 15:42:44  2025-04-16 03:42:44 PM  Wednesday    False  Spring   \n",
       "\n",
       "   HourAMPM  TimeOfDay                FullStreet        lat        lon  \\\n",
       "0  08:32 PM    Evening            400 12TH ST NW  38.037780 -78.495309   \n",
       "1  08:31 PM    Evening   BARRACKS RD @ CEDARS CT  38.055350 -78.501484   \n",
       "2  05:57 PM    Evening             200 5TH ST NW  38.031612 -78.487454   \n",
       "3  03:50 PM  Afternoon       400 10TH ST NW, 420  38.037422 -78.491743   \n",
       "4  03:42 PM  Afternoon            1100 5TH ST SW  38.017130 -78.497806   \n",
       "\n",
       "      neighborhood  \n",
       "0          Venable  \n",
       "1      The Meadows  \n",
       "2       Starr Hill  \n",
       "3      10th & Page  \n",
       "4  Johnson Village  "
      ]
     },
     "execution_count": 10,
     "metadata": {},
     "output_type": "execute_result"
    }
   ],
   "source": [
    "# Initialize the Google Maps client.\n",
    "gmaps = googlemaps.Client(key=GOOGLE_API_KEY)\n",
    "\n",
    "# Try to load a persistent neighborhood cache if available.\n",
    "try:\n",
    "    with open(\"neighborhood_cache.pkl\", \"rb\") as f:\n",
    "        neighborhood_cache = pickle.load(f)\n",
    "    print(\"Loaded neighborhood cache.\")\n",
    "except FileNotFoundError:\n",
    "    neighborhood_cache = {}\n",
    "    print(\"No neighborhood cache found; starting fresh.\")\n",
    "\n",
    "def get_neighborhood(lat, lon):\n",
    "    \"\"\"\n",
    "    Reverse geocodes a latitude and longitude to retrieve the neighborhood.\n",
    "    Caches results to speed up subsequent lookups.\n",
    "    \"\"\"\n",
    "    key = (lat, lon)\n",
    "    if key in neighborhood_cache:\n",
    "        return neighborhood_cache[key]\n",
    "    \n",
    "    try:\n",
    "        result = gmaps.reverse_geocode((lat, lon))\n",
    "        if result:\n",
    "            # Look for the 'neighborhood' component in the first result.\n",
    "            for component in result[0]['address_components']:\n",
    "                if 'neighborhood' in component['types']:\n",
    "                    neighborhood = component['long_name']\n",
    "                    neighborhood_cache[key] = neighborhood\n",
    "                    return neighborhood\n",
    "            # If no neighborhood is found, return \"N/A\"\n",
    "            neighborhood_cache[key] = \"N/A\"\n",
    "            return \"N/A\"\n",
    "    except Exception as e:\n",
    "        print(f\"Error getting neighborhood for {lat}, {lon}: {e}\")\n",
    "        return \"N/A\"\n",
    "    \n",
    "    # Pause to respect usage limits.\n",
    "    time.sleep(1)\n",
    "\n",
    "# Example usage: Apply to your DataFrame 'df' that already has 'lat' and 'lon' columns.\n",
    "df['neighborhood'] = df.apply(lambda row: get_neighborhood(row['lat'], row['lon']), axis=1)\n",
    "\n",
    "# Save the updated neighborhood cache.\n",
    "with open(\"neighborhood_cache.pkl\", \"wb\") as f:\n",
    "    pickle.dump(neighborhood_cache, f)\n",
    "\n",
    "df.head()\n"
   ]
  },
  {
   "cell_type": "markdown",
   "id": "86341a83",
   "metadata": {
    "papermill": {
     "duration": 0.006922,
     "end_time": "2025-04-19T00:58:25.993275",
     "exception": false,
     "start_time": "2025-04-19T00:58:25.986353",
     "status": "completed"
    },
    "tags": []
   },
   "source": [
    "### Zip"
   ]
  },
  {
   "cell_type": "code",
   "execution_count": 11,
   "id": "6d6a00d8",
   "metadata": {
    "execution": {
     "iopub.execute_input": "2025-04-19T00:58:26.008149Z",
     "iopub.status.busy": "2025-04-19T00:58:26.007525Z",
     "iopub.status.idle": "2025-04-19T00:58:27.879968Z",
     "shell.execute_reply": "2025-04-19T00:58:27.879288Z"
    },
    "papermill": {
     "duration": 1.881188,
     "end_time": "2025-04-19T00:58:27.881059",
     "exception": false,
     "start_time": "2025-04-19T00:58:25.999871",
     "status": "completed"
    },
    "tags": []
   },
   "outputs": [
    {
     "name": "stdout",
     "output_type": "stream",
     "text": [
      "Loaded zip cache.\n"
     ]
    },
    {
     "data": {
      "text/html": [
       "<div>\n",
       "<style scoped>\n",
       "    .dataframe tbody tr th:only-of-type {\n",
       "        vertical-align: middle;\n",
       "    }\n",
       "\n",
       "    .dataframe tbody tr th {\n",
       "        vertical-align: top;\n",
       "    }\n",
       "\n",
       "    .dataframe thead th {\n",
       "        text-align: right;\n",
       "    }\n",
       "</style>\n",
       "<table border=\"1\" class=\"dataframe\">\n",
       "  <thead>\n",
       "    <tr style=\"text-align: right;\">\n",
       "      <th></th>\n",
       "      <th>RecordID</th>\n",
       "      <th>Offense</th>\n",
       "      <th>IncidentID</th>\n",
       "      <th>BlockNumber</th>\n",
       "      <th>StreetName</th>\n",
       "      <th>Agency</th>\n",
       "      <th>HourReported</th>\n",
       "      <th>ReportingOfficer</th>\n",
       "      <th>Date</th>\n",
       "      <th>DateString</th>\n",
       "      <th>DayOfWeek</th>\n",
       "      <th>Weekend</th>\n",
       "      <th>Season</th>\n",
       "      <th>HourAMPM</th>\n",
       "      <th>TimeOfDay</th>\n",
       "      <th>FullStreet</th>\n",
       "      <th>lat</th>\n",
       "      <th>lon</th>\n",
       "      <th>neighborhood</th>\n",
       "      <th>zip</th>\n",
       "    </tr>\n",
       "  </thead>\n",
       "  <tbody>\n",
       "    <tr>\n",
       "      <th>0</th>\n",
       "      <td>1</td>\n",
       "      <td>Assault Simple</td>\n",
       "      <td>202500012297</td>\n",
       "      <td>400</td>\n",
       "      <td>12TH ST NW</td>\n",
       "      <td>CPD</td>\n",
       "      <td>2032</td>\n",
       "      <td>Ritter, Kobe</td>\n",
       "      <td>2025-04-16 20:32:17</td>\n",
       "      <td>2025-04-16 08:32:17 PM</td>\n",
       "      <td>Wednesday</td>\n",
       "      <td>False</td>\n",
       "      <td>Spring</td>\n",
       "      <td>08:32 PM</td>\n",
       "      <td>Evening</td>\n",
       "      <td>400 12TH ST NW</td>\n",
       "      <td>38.037780</td>\n",
       "      <td>-78.495309</td>\n",
       "      <td>Venable</td>\n",
       "      <td>22903</td>\n",
       "    </tr>\n",
       "    <tr>\n",
       "      <th>1</th>\n",
       "      <td>2</td>\n",
       "      <td>Hit and Run</td>\n",
       "      <td>202500012295</td>\n",
       "      <td></td>\n",
       "      <td>BARRACKS RD @ CEDARS CT</td>\n",
       "      <td>CPD</td>\n",
       "      <td>2031</td>\n",
       "      <td>Hannay, Jacob</td>\n",
       "      <td>2025-04-16 20:31:02</td>\n",
       "      <td>2025-04-16 08:31:02 PM</td>\n",
       "      <td>Wednesday</td>\n",
       "      <td>False</td>\n",
       "      <td>Spring</td>\n",
       "      <td>08:31 PM</td>\n",
       "      <td>Evening</td>\n",
       "      <td>BARRACKS RD @ CEDARS CT</td>\n",
       "      <td>38.055350</td>\n",
       "      <td>-78.501484</td>\n",
       "      <td>The Meadows</td>\n",
       "      <td>22903</td>\n",
       "    </tr>\n",
       "    <tr>\n",
       "      <th>2</th>\n",
       "      <td>3</td>\n",
       "      <td>Missing Person-juvenile</td>\n",
       "      <td>202500012282</td>\n",
       "      <td>200</td>\n",
       "      <td>5TH ST NW</td>\n",
       "      <td>CPD</td>\n",
       "      <td>1757</td>\n",
       "      <td>Davis, Charles</td>\n",
       "      <td>2025-04-16 17:57:16</td>\n",
       "      <td>2025-04-16 05:57:16 PM</td>\n",
       "      <td>Wednesday</td>\n",
       "      <td>False</td>\n",
       "      <td>Spring</td>\n",
       "      <td>05:57 PM</td>\n",
       "      <td>Evening</td>\n",
       "      <td>200 5TH ST NW</td>\n",
       "      <td>38.031612</td>\n",
       "      <td>-78.487454</td>\n",
       "      <td>Starr Hill</td>\n",
       "      <td>22903</td>\n",
       "    </tr>\n",
       "    <tr>\n",
       "      <th>3</th>\n",
       "      <td>4</td>\n",
       "      <td>Larceny - From Motor Vehicle</td>\n",
       "      <td>202500012277</td>\n",
       "      <td>400</td>\n",
       "      <td>10TH ST NW, 420</td>\n",
       "      <td>CPD</td>\n",
       "      <td>1550</td>\n",
       "      <td>Ritter, Kobe</td>\n",
       "      <td>2025-04-16 15:50:14</td>\n",
       "      <td>2025-04-16 03:50:14 PM</td>\n",
       "      <td>Wednesday</td>\n",
       "      <td>False</td>\n",
       "      <td>Spring</td>\n",
       "      <td>03:50 PM</td>\n",
       "      <td>Afternoon</td>\n",
       "      <td>400 10TH ST NW, 420</td>\n",
       "      <td>38.037422</td>\n",
       "      <td>-78.491743</td>\n",
       "      <td>10th &amp; Page</td>\n",
       "      <td>22903</td>\n",
       "    </tr>\n",
       "    <tr>\n",
       "      <th>4</th>\n",
       "      <td>5</td>\n",
       "      <td>Larceny - Shoplifitng</td>\n",
       "      <td>202500012257</td>\n",
       "      <td>1100</td>\n",
       "      <td>5TH ST SW</td>\n",
       "      <td>CPD</td>\n",
       "      <td>1542</td>\n",
       "      <td>Kinney, Dylan</td>\n",
       "      <td>2025-04-16 15:42:44</td>\n",
       "      <td>2025-04-16 03:42:44 PM</td>\n",
       "      <td>Wednesday</td>\n",
       "      <td>False</td>\n",
       "      <td>Spring</td>\n",
       "      <td>03:42 PM</td>\n",
       "      <td>Afternoon</td>\n",
       "      <td>1100 5TH ST SW</td>\n",
       "      <td>38.017130</td>\n",
       "      <td>-78.497806</td>\n",
       "      <td>Johnson Village</td>\n",
       "      <td>22903</td>\n",
       "    </tr>\n",
       "  </tbody>\n",
       "</table>\n",
       "</div>"
      ],
      "text/plain": [
       "   RecordID                       Offense    IncidentID BlockNumber  \\\n",
       "0         1                Assault Simple  202500012297         400   \n",
       "1         2                   Hit and Run  202500012295               \n",
       "2         3       Missing Person-juvenile  202500012282         200   \n",
       "3         4  Larceny - From Motor Vehicle  202500012277         400   \n",
       "4         5         Larceny - Shoplifitng  202500012257        1100   \n",
       "\n",
       "                StreetName Agency HourReported ReportingOfficer  \\\n",
       "0               12TH ST NW    CPD         2032     Ritter, Kobe   \n",
       "1  BARRACKS RD @ CEDARS CT    CPD         2031    Hannay, Jacob   \n",
       "2                5TH ST NW    CPD         1757   Davis, Charles   \n",
       "3          10TH ST NW, 420    CPD         1550     Ritter, Kobe   \n",
       "4                5TH ST SW    CPD         1542    Kinney, Dylan   \n",
       "\n",
       "                 Date              DateString  DayOfWeek  Weekend  Season  \\\n",
       "0 2025-04-16 20:32:17  2025-04-16 08:32:17 PM  Wednesday    False  Spring   \n",
       "1 2025-04-16 20:31:02  2025-04-16 08:31:02 PM  Wednesday    False  Spring   \n",
       "2 2025-04-16 17:57:16  2025-04-16 05:57:16 PM  Wednesday    False  Spring   \n",
       "3 2025-04-16 15:50:14  2025-04-16 03:50:14 PM  Wednesday    False  Spring   \n",
       "4 2025-04-16 15:42:44  2025-04-16 03:42:44 PM  Wednesday    False  Spring   \n",
       "\n",
       "   HourAMPM  TimeOfDay                FullStreet        lat        lon  \\\n",
       "0  08:32 PM    Evening            400 12TH ST NW  38.037780 -78.495309   \n",
       "1  08:31 PM    Evening   BARRACKS RD @ CEDARS CT  38.055350 -78.501484   \n",
       "2  05:57 PM    Evening             200 5TH ST NW  38.031612 -78.487454   \n",
       "3  03:50 PM  Afternoon       400 10TH ST NW, 420  38.037422 -78.491743   \n",
       "4  03:42 PM  Afternoon            1100 5TH ST SW  38.017130 -78.497806   \n",
       "\n",
       "      neighborhood    zip  \n",
       "0          Venable  22903  \n",
       "1      The Meadows  22903  \n",
       "2       Starr Hill  22903  \n",
       "3      10th & Page  22903  \n",
       "4  Johnson Village  22903  "
      ]
     },
     "execution_count": 11,
     "metadata": {},
     "output_type": "execute_result"
    }
   ],
   "source": [
    "# Initialize the geocoder.\n",
    "geolocator = Nominatim(user_agent=\"zip_lookup\")\n",
    "\n",
    "# Try to load a persistent ZIP cache if available.\n",
    "try:\n",
    "    with open(\"zip_cache.pkl\", \"rb\") as f:\n",
    "        zip_cache = pickle.load(f)\n",
    "    print(\"Loaded zip cache.\")\n",
    "except FileNotFoundError:\n",
    "    zip_cache = {}\n",
    "    print(\"No zip cache found; starting fresh.\")\n",
    "\n",
    "def get_zip(lat, lon):\n",
    "    \"\"\"\n",
    "    Reverse geocodes a latitude and longitude to retrieve the ZIP code.\n",
    "    Caches results to speed up subsequent lookups.\n",
    "    \"\"\"\n",
    "    key = (lat, lon)\n",
    "    if key in zip_cache:\n",
    "        return zip_cache[key]\n",
    "    \n",
    "    try:\n",
    "        location = geolocator.reverse((lat, lon), exactly_one=True, timeout=10)\n",
    "        address = location.raw.get('address', {})\n",
    "        postal_code = address.get('postcode', \"N/A\")\n",
    "    except Exception as e:\n",
    "        print(f\"Error getting ZIP for {lat}, {lon}: {e}\")\n",
    "        postal_code = \"N/A\"\n",
    "    \n",
    "    zip_cache[key] = postal_code\n",
    "    # Pause to respect the usage policy.\n",
    "    time.sleep(1)\n",
    "    return postal_code\n",
    "\n",
    "# Apply the function to each row in the DataFrame.\n",
    "df['zip'] = df.apply(lambda row: get_zip(row['lat'], row['lon']), axis=1)\n",
    "\n",
    "# Save the updated ZIP cache.\n",
    "with open(\"zip_cache.pkl\", \"wb\") as f:\n",
    "    pickle.dump(zip_cache, f)\n",
    "\n",
    "df.head()\n"
   ]
  },
  {
   "cell_type": "code",
   "execution_count": 12,
   "id": "eaae5cb2",
   "metadata": {
    "execution": {
     "iopub.execute_input": "2025-04-19T00:58:27.896734Z",
     "iopub.status.busy": "2025-04-19T00:58:27.896318Z",
     "iopub.status.idle": "2025-04-19T00:58:27.925088Z",
     "shell.execute_reply": "2025-04-19T00:58:27.924455Z"
    },
    "papermill": {
     "duration": 0.037681,
     "end_time": "2025-04-19T00:58:27.926139",
     "exception": false,
     "start_time": "2025-04-19T00:58:27.888458",
     "status": "completed"
    },
    "tags": []
   },
   "outputs": [
    {
     "name": "stdout",
     "output_type": "stream",
     "text": [
      "                  MissingCount  MissingPercentage\n",
      "RecordID                     0               0.00\n",
      "Offense                      0               0.00\n",
      "IncidentID                   0               0.00\n",
      "BlockNumber                  0               0.00\n",
      "StreetName                   0               0.00\n",
      "Agency                       0               0.00\n",
      "HourReported                 0               0.00\n",
      "ReportingOfficer            17               0.07\n",
      "Date                         0               0.00\n",
      "DateString                   0               0.00\n",
      "DayOfWeek                    0               0.00\n",
      "Weekend                      0               0.00\n",
      "Season                       0               0.00\n",
      "HourAMPM                     0               0.00\n",
      "TimeOfDay                    0               0.00\n",
      "FullStreet                   0               0.00\n",
      "lat                          0               0.00\n",
      "lon                          0               0.00\n",
      "neighborhood                 0               0.00\n",
      "zip                          0               0.00\n"
     ]
    }
   ],
   "source": [
    "missing_info = missing_percentage(df)\n",
    "print(missing_info)\n"
   ]
  },
  {
   "cell_type": "code",
   "execution_count": 13,
   "id": "ff111209",
   "metadata": {
    "execution": {
     "iopub.execute_input": "2025-04-19T00:58:27.942133Z",
     "iopub.status.busy": "2025-04-19T00:58:27.941617Z",
     "iopub.status.idle": "2025-04-19T00:58:27.972133Z",
     "shell.execute_reply": "2025-04-19T00:58:27.971550Z"
    },
    "papermill": {
     "duration": 0.039787,
     "end_time": "2025-04-19T00:58:27.973279",
     "exception": false,
     "start_time": "2025-04-19T00:58:27.933492",
     "status": "completed"
    },
    "tags": []
   },
   "outputs": [
    {
     "name": "stdout",
     "output_type": "stream",
     "text": [
      "<class 'pandas.core.frame.DataFrame'>\n",
      "RangeIndex: 25226 entries, 0 to 25225\n",
      "Data columns (total 20 columns):\n",
      " #   Column            Non-Null Count  Dtype         \n",
      "---  ------            --------------  -----         \n",
      " 0   RecordID          25226 non-null  int64         \n",
      " 1   Offense           25226 non-null  object        \n",
      " 2   IncidentID        25226 non-null  object        \n",
      " 3   BlockNumber       25226 non-null  object        \n",
      " 4   StreetName        25226 non-null  object        \n",
      " 5   Agency            25226 non-null  object        \n",
      " 6   HourReported      25226 non-null  object        \n",
      " 7   ReportingOfficer  25209 non-null  object        \n",
      " 8   Date              25226 non-null  datetime64[ns]\n",
      " 9   DateString        25226 non-null  object        \n",
      " 10  DayOfWeek         25226 non-null  object        \n",
      " 11  Weekend           25226 non-null  bool          \n",
      " 12  Season            25226 non-null  object        \n",
      " 13  HourAMPM          25226 non-null  object        \n",
      " 14  TimeOfDay         25226 non-null  object        \n",
      " 15  FullStreet        25226 non-null  object        \n",
      " 16  lat               25226 non-null  float64       \n",
      " 17  lon               25226 non-null  float64       \n",
      " 18  neighborhood      25226 non-null  object        \n",
      " 19  zip               25226 non-null  object        \n",
      "dtypes: bool(1), datetime64[ns](1), float64(2), int64(1), object(15)\n",
      "memory usage: 3.7+ MB\n"
     ]
    }
   ],
   "source": [
    "df.info()"
   ]
  },
  {
   "cell_type": "code",
   "execution_count": 14,
   "id": "a5f36a59",
   "metadata": {
    "execution": {
     "iopub.execute_input": "2025-04-19T00:58:27.989410Z",
     "iopub.status.busy": "2025-04-19T00:58:27.988901Z",
     "iopub.status.idle": "2025-04-19T00:58:28.033318Z",
     "shell.execute_reply": "2025-04-19T00:58:28.032581Z"
    },
    "papermill": {
     "duration": 0.054117,
     "end_time": "2025-04-19T00:58:28.034789",
     "exception": false,
     "start_time": "2025-04-19T00:58:27.980672",
     "status": "completed"
    },
    "tags": []
   },
   "outputs": [
    {
     "data": {
      "text/html": [
       "<div>\n",
       "<style scoped>\n",
       "    .dataframe tbody tr th:only-of-type {\n",
       "        vertical-align: middle;\n",
       "    }\n",
       "\n",
       "    .dataframe tbody tr th {\n",
       "        vertical-align: top;\n",
       "    }\n",
       "\n",
       "    .dataframe thead th {\n",
       "        text-align: right;\n",
       "    }\n",
       "</style>\n",
       "<table border=\"1\" class=\"dataframe\">\n",
       "  <thead>\n",
       "    <tr style=\"text-align: right;\">\n",
       "      <th></th>\n",
       "      <th>RecordID</th>\n",
       "      <th>Offense</th>\n",
       "      <th>IncidentID</th>\n",
       "      <th>Agency</th>\n",
       "      <th>ReportingOfficer</th>\n",
       "      <th>Date</th>\n",
       "      <th>DayOfWeek</th>\n",
       "      <th>Weekend</th>\n",
       "      <th>Season</th>\n",
       "      <th>TimeOfDay</th>\n",
       "      <th>FullStreet</th>\n",
       "      <th>lat</th>\n",
       "      <th>lon</th>\n",
       "      <th>neighborhood</th>\n",
       "      <th>zip</th>\n",
       "    </tr>\n",
       "  </thead>\n",
       "  <tbody>\n",
       "    <tr>\n",
       "      <th>0</th>\n",
       "      <td>1</td>\n",
       "      <td>Assault Simple</td>\n",
       "      <td>202500012297</td>\n",
       "      <td>CPD</td>\n",
       "      <td>Ritter, Kobe</td>\n",
       "      <td>2025-04-16 20:32:17</td>\n",
       "      <td>Wednesday</td>\n",
       "      <td>False</td>\n",
       "      <td>Spring</td>\n",
       "      <td>Evening</td>\n",
       "      <td>400 12TH ST NW</td>\n",
       "      <td>38.037780</td>\n",
       "      <td>-78.495309</td>\n",
       "      <td>Venable</td>\n",
       "      <td>22903</td>\n",
       "    </tr>\n",
       "    <tr>\n",
       "      <th>1</th>\n",
       "      <td>2</td>\n",
       "      <td>Hit and Run</td>\n",
       "      <td>202500012295</td>\n",
       "      <td>CPD</td>\n",
       "      <td>Hannay, Jacob</td>\n",
       "      <td>2025-04-16 20:31:02</td>\n",
       "      <td>Wednesday</td>\n",
       "      <td>False</td>\n",
       "      <td>Spring</td>\n",
       "      <td>Evening</td>\n",
       "      <td>BARRACKS RD @ CEDARS CT</td>\n",
       "      <td>38.055350</td>\n",
       "      <td>-78.501484</td>\n",
       "      <td>The Meadows</td>\n",
       "      <td>22903</td>\n",
       "    </tr>\n",
       "    <tr>\n",
       "      <th>2</th>\n",
       "      <td>3</td>\n",
       "      <td>Missing Person-juvenile</td>\n",
       "      <td>202500012282</td>\n",
       "      <td>CPD</td>\n",
       "      <td>Davis, Charles</td>\n",
       "      <td>2025-04-16 17:57:16</td>\n",
       "      <td>Wednesday</td>\n",
       "      <td>False</td>\n",
       "      <td>Spring</td>\n",
       "      <td>Evening</td>\n",
       "      <td>200 5TH ST NW</td>\n",
       "      <td>38.031612</td>\n",
       "      <td>-78.487454</td>\n",
       "      <td>Starr Hill</td>\n",
       "      <td>22903</td>\n",
       "    </tr>\n",
       "    <tr>\n",
       "      <th>3</th>\n",
       "      <td>4</td>\n",
       "      <td>Larceny - From Motor Vehicle</td>\n",
       "      <td>202500012277</td>\n",
       "      <td>CPD</td>\n",
       "      <td>Ritter, Kobe</td>\n",
       "      <td>2025-04-16 15:50:14</td>\n",
       "      <td>Wednesday</td>\n",
       "      <td>False</td>\n",
       "      <td>Spring</td>\n",
       "      <td>Afternoon</td>\n",
       "      <td>400 10TH ST NW, 420</td>\n",
       "      <td>38.037422</td>\n",
       "      <td>-78.491743</td>\n",
       "      <td>10th &amp; Page</td>\n",
       "      <td>22903</td>\n",
       "    </tr>\n",
       "    <tr>\n",
       "      <th>4</th>\n",
       "      <td>5</td>\n",
       "      <td>Larceny - Shoplifitng</td>\n",
       "      <td>202500012257</td>\n",
       "      <td>CPD</td>\n",
       "      <td>Kinney, Dylan</td>\n",
       "      <td>2025-04-16 15:42:44</td>\n",
       "      <td>Wednesday</td>\n",
       "      <td>False</td>\n",
       "      <td>Spring</td>\n",
       "      <td>Afternoon</td>\n",
       "      <td>1100 5TH ST SW</td>\n",
       "      <td>38.017130</td>\n",
       "      <td>-78.497806</td>\n",
       "      <td>Johnson Village</td>\n",
       "      <td>22903</td>\n",
       "    </tr>\n",
       "  </tbody>\n",
       "</table>\n",
       "</div>"
      ],
      "text/plain": [
       "   RecordID                       Offense    IncidentID Agency  \\\n",
       "0         1                Assault Simple  202500012297    CPD   \n",
       "1         2                   Hit and Run  202500012295    CPD   \n",
       "2         3       Missing Person-juvenile  202500012282    CPD   \n",
       "3         4  Larceny - From Motor Vehicle  202500012277    CPD   \n",
       "4         5         Larceny - Shoplifitng  202500012257    CPD   \n",
       "\n",
       "  ReportingOfficer                Date  DayOfWeek  Weekend  Season  TimeOfDay  \\\n",
       "0     Ritter, Kobe 2025-04-16 20:32:17  Wednesday    False  Spring    Evening   \n",
       "1    Hannay, Jacob 2025-04-16 20:31:02  Wednesday    False  Spring    Evening   \n",
       "2   Davis, Charles 2025-04-16 17:57:16  Wednesday    False  Spring    Evening   \n",
       "3     Ritter, Kobe 2025-04-16 15:50:14  Wednesday    False  Spring  Afternoon   \n",
       "4    Kinney, Dylan 2025-04-16 15:42:44  Wednesday    False  Spring  Afternoon   \n",
       "\n",
       "                 FullStreet        lat        lon     neighborhood    zip  \n",
       "0            400 12TH ST NW  38.037780 -78.495309          Venable  22903  \n",
       "1   BARRACKS RD @ CEDARS CT  38.055350 -78.501484      The Meadows  22903  \n",
       "2             200 5TH ST NW  38.031612 -78.487454       Starr Hill  22903  \n",
       "3       400 10TH ST NW, 420  38.037422 -78.491743      10th & Page  22903  \n",
       "4            1100 5TH ST SW  38.017130 -78.497806  Johnson Village  22903  "
      ]
     },
     "execution_count": 14,
     "metadata": {},
     "output_type": "execute_result"
    }
   ],
   "source": [
    "# Now drop the original BlockNumber and StreetName columns\n",
    "df.drop(columns=['BlockNumber', 'StreetName','HourAMPM','HourReported','DateString'], inplace=True)\n",
    "df[\"zip\"] = df[\"zip\"].astype(str)\n",
    "\n",
    "# Fill all missing values in the DataFrame with \"N/A\"\n",
    "df.replace({None: \"N/A\", np.nan: \"N/A\", \"\": \"N/A\"}, inplace=True)\n",
    "df.head()"
   ]
  },
  {
   "cell_type": "code",
   "execution_count": 15,
   "id": "98933730",
   "metadata": {
    "execution": {
     "iopub.execute_input": "2025-04-19T00:58:28.051331Z",
     "iopub.status.busy": "2025-04-19T00:58:28.051063Z",
     "iopub.status.idle": "2025-04-19T00:58:28.073215Z",
     "shell.execute_reply": "2025-04-19T00:58:28.072524Z"
    },
    "papermill": {
     "duration": 0.031243,
     "end_time": "2025-04-19T00:58:28.074305",
     "exception": false,
     "start_time": "2025-04-19T00:58:28.043062",
     "status": "completed"
    },
    "tags": []
   },
   "outputs": [
    {
     "name": "stdout",
     "output_type": "stream",
     "text": [
      "                  MissingCount  MissingPercentage\n",
      "RecordID                     0                0.0\n",
      "Offense                      0                0.0\n",
      "IncidentID                   0                0.0\n",
      "Agency                       0                0.0\n",
      "ReportingOfficer             0                0.0\n",
      "Date                         0                0.0\n",
      "DayOfWeek                    0                0.0\n",
      "Weekend                      0                0.0\n",
      "Season                       0                0.0\n",
      "TimeOfDay                    0                0.0\n",
      "FullStreet                   0                0.0\n",
      "lat                          0                0.0\n",
      "lon                          0                0.0\n",
      "neighborhood                 0                0.0\n",
      "zip                          0                0.0\n"
     ]
    }
   ],
   "source": [
    "missing_info = missing_percentage(df)\n",
    "print(missing_info)"
   ]
  },
  {
   "cell_type": "code",
   "execution_count": 16,
   "id": "f32b2e41",
   "metadata": {
    "execution": {
     "iopub.execute_input": "2025-04-19T00:58:28.090791Z",
     "iopub.status.busy": "2025-04-19T00:58:28.090312Z",
     "iopub.status.idle": "2025-04-19T00:58:28.095156Z",
     "shell.execute_reply": "2025-04-19T00:58:28.094574Z"
    },
    "papermill": {
     "duration": 0.014294,
     "end_time": "2025-04-19T00:58:28.096234",
     "exception": false,
     "start_time": "2025-04-19T00:58:28.081940",
     "status": "completed"
    },
    "tags": []
   },
   "outputs": [
    {
     "data": {
      "text/plain": [
       "Index(['RecordID', 'Offense', 'IncidentID', 'Agency', 'ReportingOfficer',\n",
       "       'Date', 'DayOfWeek', 'Weekend', 'Season', 'TimeOfDay', 'FullStreet',\n",
       "       'lat', 'lon', 'neighborhood', 'zip'],\n",
       "      dtype='object')"
      ]
     },
     "execution_count": 16,
     "metadata": {},
     "output_type": "execute_result"
    }
   ],
   "source": [
    "df.columns"
   ]
  },
  {
   "cell_type": "code",
   "execution_count": 17,
   "id": "1a88cb89",
   "metadata": {
    "execution": {
     "iopub.execute_input": "2025-04-19T00:58:28.112291Z",
     "iopub.status.busy": "2025-04-19T00:58:28.111820Z",
     "iopub.status.idle": "2025-04-19T00:58:28.134523Z",
     "shell.execute_reply": "2025-04-19T00:58:28.133934Z"
    },
    "papermill": {
     "duration": 0.031859,
     "end_time": "2025-04-19T00:58:28.135624",
     "exception": false,
     "start_time": "2025-04-19T00:58:28.103765",
     "status": "completed"
    },
    "tags": []
   },
   "outputs": [
    {
     "name": "stdout",
     "output_type": "stream",
     "text": [
      "<class 'pandas.core.frame.DataFrame'>\n",
      "RangeIndex: 25226 entries, 0 to 25225\n",
      "Data columns (total 15 columns):\n",
      " #   Column            Non-Null Count  Dtype         \n",
      "---  ------            --------------  -----         \n",
      " 0   RecordID          25226 non-null  int64         \n",
      " 1   Offense           25226 non-null  object        \n",
      " 2   IncidentID        25226 non-null  object        \n",
      " 3   Agency            25226 non-null  object        \n",
      " 4   ReportingOfficer  25226 non-null  object        \n",
      " 5   Date              25226 non-null  datetime64[ns]\n",
      " 6   DayOfWeek         25226 non-null  object        \n",
      " 7   Weekend           25226 non-null  bool          \n",
      " 8   Season            25226 non-null  object        \n",
      " 9   TimeOfDay         25226 non-null  object        \n",
      " 10  FullStreet        25226 non-null  object        \n",
      " 11  lat               25226 non-null  float64       \n",
      " 12  lon               25226 non-null  float64       \n",
      " 13  neighborhood      25226 non-null  object        \n",
      " 14  zip               25226 non-null  object        \n",
      "dtypes: bool(1), datetime64[ns](1), float64(2), int64(1), object(10)\n",
      "memory usage: 2.7+ MB\n"
     ]
    }
   ],
   "source": [
    "df.info()"
   ]
  },
  {
   "cell_type": "markdown",
   "id": "aacd6b92",
   "metadata": {
    "papermill": {
     "duration": 0.007729,
     "end_time": "2025-04-19T00:58:28.151395",
     "exception": false,
     "start_time": "2025-04-19T00:58:28.143666",
     "status": "completed"
    },
    "tags": []
   },
   "source": [
    "### Export Clean Data"
   ]
  },
  {
   "cell_type": "code",
   "execution_count": 18,
   "id": "b9180341",
   "metadata": {
    "execution": {
     "iopub.execute_input": "2025-04-19T00:58:28.167884Z",
     "iopub.status.busy": "2025-04-19T00:58:28.167396Z",
     "iopub.status.idle": "2025-04-19T00:58:37.452777Z",
     "shell.execute_reply": "2025-04-19T00:58:37.452065Z"
    },
    "papermill": {
     "duration": 9.294977,
     "end_time": "2025-04-19T00:58:37.453915",
     "exception": false,
     "start_time": "2025-04-19T00:58:28.158938",
     "status": "completed"
    },
    "tags": []
   },
   "outputs": [
    {
     "name": "stdout",
     "output_type": "stream",
     "text": [
      "Project Root: /home/runner/work/crime-data/crime-data\n"
     ]
    },
    {
     "name": "stdout",
     "output_type": "stream",
     "text": [
      "Data saved to: /home/runner/work/crime-data/crime-data/data/charlottesville_crime_incidents.csv\n"
     ]
    },
    {
     "name": "stdout",
     "output_type": "stream",
     "text": [
      "Excel saved to: /home/runner/work/crime-data/crime-data/data/charlottesville_crime_incidents.xlsx\n"
     ]
    }
   ],
   "source": [
    "# Determine the project root (assuming papermill is run from the repository root)\n",
    "project_root = os.getcwd()\n",
    "print(\"Project Root:\", project_root)\n",
    "\n",
    "# Set the data directory within the project root\n",
    "data_dir = os.path.join(project_root, \"data\")\n",
    "\n",
    "# Ensure the \"data\" directory exists (create it if it doesn't)\n",
    "if not os.path.exists(data_dir):\n",
    "    os.makedirs(data_dir)\n",
    "\n",
    "# Export the DataFrame to CSV in the \"data\" folder located in the project root\n",
    "csv_path = os.path.join(data_dir, \"charlottesville_crime_incidents.csv\")\n",
    "df.to_csv(csv_path, index=False)\n",
    "print(\"Data saved to:\", csv_path)\n",
    "\n",
    "# Construct the path to your Excel file\n",
    "excel_path = os.path.join(data_dir, \"charlottesville_crime_incidents.xlsx\")\n",
    "\n",
    "# Export the DataFrame to Excel\n",
    "df.to_excel(excel_path, index=False)\n",
    "print(\"Excel saved to:\", excel_path)\n"
   ]
  },
  {
   "cell_type": "markdown",
   "id": "d7fa00a4",
   "metadata": {
    "papermill": {
     "duration": 0.007969,
     "end_time": "2025-04-19T00:58:37.493956",
     "exception": false,
     "start_time": "2025-04-19T00:58:37.485987",
     "status": "completed"
    },
    "tags": []
   },
   "source": [
    "## Predictive Analytics"
   ]
  },
  {
   "cell_type": "code",
   "execution_count": 19,
   "id": "aa907d33",
   "metadata": {
    "execution": {
     "iopub.execute_input": "2025-04-19T00:58:37.511000Z",
     "iopub.status.busy": "2025-04-19T00:58:37.510356Z",
     "iopub.status.idle": "2025-04-19T00:58:37.522591Z",
     "shell.execute_reply": "2025-04-19T00:58:37.522059Z"
    },
    "papermill": {
     "duration": 0.021855,
     "end_time": "2025-04-19T00:58:37.523546",
     "exception": false,
     "start_time": "2025-04-19T00:58:37.501691",
     "status": "completed"
    },
    "tags": []
   },
   "outputs": [
    {
     "data": {
      "text/html": [
       "<div>\n",
       "<style scoped>\n",
       "    .dataframe tbody tr th:only-of-type {\n",
       "        vertical-align: middle;\n",
       "    }\n",
       "\n",
       "    .dataframe tbody tr th {\n",
       "        vertical-align: top;\n",
       "    }\n",
       "\n",
       "    .dataframe thead th {\n",
       "        text-align: right;\n",
       "    }\n",
       "</style>\n",
       "<table border=\"1\" class=\"dataframe\">\n",
       "  <thead>\n",
       "    <tr style=\"text-align: right;\">\n",
       "      <th></th>\n",
       "      <th>RecordID</th>\n",
       "      <th>Offense</th>\n",
       "      <th>IncidentID</th>\n",
       "      <th>Agency</th>\n",
       "      <th>ReportingOfficer</th>\n",
       "      <th>Date</th>\n",
       "      <th>DayOfWeek</th>\n",
       "      <th>Weekend</th>\n",
       "      <th>Season</th>\n",
       "      <th>TimeOfDay</th>\n",
       "      <th>FullStreet</th>\n",
       "      <th>lat</th>\n",
       "      <th>lon</th>\n",
       "      <th>neighborhood</th>\n",
       "      <th>zip</th>\n",
       "    </tr>\n",
       "  </thead>\n",
       "  <tbody>\n",
       "    <tr>\n",
       "      <th>0</th>\n",
       "      <td>1</td>\n",
       "      <td>Assault Simple</td>\n",
       "      <td>202500012297</td>\n",
       "      <td>CPD</td>\n",
       "      <td>Ritter, Kobe</td>\n",
       "      <td>2025-04-16 20:32:17</td>\n",
       "      <td>Wednesday</td>\n",
       "      <td>False</td>\n",
       "      <td>Spring</td>\n",
       "      <td>Evening</td>\n",
       "      <td>400 12TH ST NW</td>\n",
       "      <td>38.037780</td>\n",
       "      <td>-78.495309</td>\n",
       "      <td>Venable</td>\n",
       "      <td>22903</td>\n",
       "    </tr>\n",
       "    <tr>\n",
       "      <th>1</th>\n",
       "      <td>2</td>\n",
       "      <td>Hit and Run</td>\n",
       "      <td>202500012295</td>\n",
       "      <td>CPD</td>\n",
       "      <td>Hannay, Jacob</td>\n",
       "      <td>2025-04-16 20:31:02</td>\n",
       "      <td>Wednesday</td>\n",
       "      <td>False</td>\n",
       "      <td>Spring</td>\n",
       "      <td>Evening</td>\n",
       "      <td>BARRACKS RD @ CEDARS CT</td>\n",
       "      <td>38.055350</td>\n",
       "      <td>-78.501484</td>\n",
       "      <td>The Meadows</td>\n",
       "      <td>22903</td>\n",
       "    </tr>\n",
       "    <tr>\n",
       "      <th>2</th>\n",
       "      <td>3</td>\n",
       "      <td>Missing Person-juvenile</td>\n",
       "      <td>202500012282</td>\n",
       "      <td>CPD</td>\n",
       "      <td>Davis, Charles</td>\n",
       "      <td>2025-04-16 17:57:16</td>\n",
       "      <td>Wednesday</td>\n",
       "      <td>False</td>\n",
       "      <td>Spring</td>\n",
       "      <td>Evening</td>\n",
       "      <td>200 5TH ST NW</td>\n",
       "      <td>38.031612</td>\n",
       "      <td>-78.487454</td>\n",
       "      <td>Starr Hill</td>\n",
       "      <td>22903</td>\n",
       "    </tr>\n",
       "    <tr>\n",
       "      <th>3</th>\n",
       "      <td>4</td>\n",
       "      <td>Larceny - From Motor Vehicle</td>\n",
       "      <td>202500012277</td>\n",
       "      <td>CPD</td>\n",
       "      <td>Ritter, Kobe</td>\n",
       "      <td>2025-04-16 15:50:14</td>\n",
       "      <td>Wednesday</td>\n",
       "      <td>False</td>\n",
       "      <td>Spring</td>\n",
       "      <td>Afternoon</td>\n",
       "      <td>400 10TH ST NW, 420</td>\n",
       "      <td>38.037422</td>\n",
       "      <td>-78.491743</td>\n",
       "      <td>10th &amp; Page</td>\n",
       "      <td>22903</td>\n",
       "    </tr>\n",
       "    <tr>\n",
       "      <th>4</th>\n",
       "      <td>5</td>\n",
       "      <td>Larceny - Shoplifitng</td>\n",
       "      <td>202500012257</td>\n",
       "      <td>CPD</td>\n",
       "      <td>Kinney, Dylan</td>\n",
       "      <td>2025-04-16 15:42:44</td>\n",
       "      <td>Wednesday</td>\n",
       "      <td>False</td>\n",
       "      <td>Spring</td>\n",
       "      <td>Afternoon</td>\n",
       "      <td>1100 5TH ST SW</td>\n",
       "      <td>38.017130</td>\n",
       "      <td>-78.497806</td>\n",
       "      <td>Johnson Village</td>\n",
       "      <td>22903</td>\n",
       "    </tr>\n",
       "  </tbody>\n",
       "</table>\n",
       "</div>"
      ],
      "text/plain": [
       "   RecordID                       Offense    IncidentID Agency  \\\n",
       "0         1                Assault Simple  202500012297    CPD   \n",
       "1         2                   Hit and Run  202500012295    CPD   \n",
       "2         3       Missing Person-juvenile  202500012282    CPD   \n",
       "3         4  Larceny - From Motor Vehicle  202500012277    CPD   \n",
       "4         5         Larceny - Shoplifitng  202500012257    CPD   \n",
       "\n",
       "  ReportingOfficer                Date  DayOfWeek  Weekend  Season  TimeOfDay  \\\n",
       "0     Ritter, Kobe 2025-04-16 20:32:17  Wednesday    False  Spring    Evening   \n",
       "1    Hannay, Jacob 2025-04-16 20:31:02  Wednesday    False  Spring    Evening   \n",
       "2   Davis, Charles 2025-04-16 17:57:16  Wednesday    False  Spring    Evening   \n",
       "3     Ritter, Kobe 2025-04-16 15:50:14  Wednesday    False  Spring  Afternoon   \n",
       "4    Kinney, Dylan 2025-04-16 15:42:44  Wednesday    False  Spring  Afternoon   \n",
       "\n",
       "                 FullStreet        lat        lon     neighborhood    zip  \n",
       "0            400 12TH ST NW  38.037780 -78.495309          Venable  22903  \n",
       "1   BARRACKS RD @ CEDARS CT  38.055350 -78.501484      The Meadows  22903  \n",
       "2             200 5TH ST NW  38.031612 -78.487454       Starr Hill  22903  \n",
       "3       400 10TH ST NW, 420  38.037422 -78.491743      10th & Page  22903  \n",
       "4            1100 5TH ST SW  38.017130 -78.497806  Johnson Village  22903  "
      ]
     },
     "execution_count": 19,
     "metadata": {},
     "output_type": "execute_result"
    }
   ],
   "source": [
    "df.head()"
   ]
  },
  {
   "cell_type": "code",
   "execution_count": 20,
   "id": "570974cd",
   "metadata": {
    "execution": {
     "iopub.execute_input": "2025-04-19T00:58:37.540423Z",
     "iopub.status.busy": "2025-04-19T00:58:37.540188Z",
     "iopub.status.idle": "2025-04-19T00:58:37.544796Z",
     "shell.execute_reply": "2025-04-19T00:58:37.544244Z"
    },
    "papermill": {
     "duration": 0.014246,
     "end_time": "2025-04-19T00:58:37.545801",
     "exception": false,
     "start_time": "2025-04-19T00:58:37.531555",
     "status": "completed"
    },
    "tags": []
   },
   "outputs": [
    {
     "data": {
      "text/plain": [
       "Index(['RecordID', 'Offense', 'IncidentID', 'Agency', 'ReportingOfficer',\n",
       "       'Date', 'DayOfWeek', 'Weekend', 'Season', 'TimeOfDay', 'FullStreet',\n",
       "       'lat', 'lon', 'neighborhood', 'zip'],\n",
       "      dtype='object')"
      ]
     },
     "execution_count": 20,
     "metadata": {},
     "output_type": "execute_result"
    }
   ],
   "source": [
    "df.columns"
   ]
  },
  {
   "cell_type": "markdown",
   "id": "309f0898",
   "metadata": {
    "papermill": {
     "duration": 0.007975,
     "end_time": "2025-04-19T00:58:37.562069",
     "exception": false,
     "start_time": "2025-04-19T00:58:37.554094",
     "status": "completed"
    },
    "tags": []
   },
   "source": [
    "### Data Preparation\n",
    "\n",
    "We need to ensure the data is in the correct format for modeling and can handle missing values, categorical variables, and dates. Here's how to prepare your data:"
   ]
  },
  {
   "cell_type": "code",
   "execution_count": 21,
   "id": "039bfad6",
   "metadata": {
    "execution": {
     "iopub.execute_input": "2025-04-19T00:58:37.579268Z",
     "iopub.status.busy": "2025-04-19T00:58:37.578805Z",
     "iopub.status.idle": "2025-04-19T00:58:40.167939Z",
     "shell.execute_reply": "2025-04-19T00:58:40.167245Z"
    },
    "papermill": {
     "duration": 2.599254,
     "end_time": "2025-04-19T00:58:40.169258",
     "exception": false,
     "start_time": "2025-04-19T00:58:37.570004",
     "status": "completed"
    },
    "tags": []
   },
   "outputs": [],
   "source": [
    "import pandas as pd\n",
    "from sklearn.model_selection import train_test_split\n",
    "from sklearn.preprocessing import OneHotEncoder, LabelEncoder\n",
    "from sklearn.ensemble import RandomForestClassifier\n",
    "from sklearn.linear_model import LogisticRegression\n",
    "from sklearn.tree import DecisionTreeClassifier\n",
    "from sklearn.metrics import classification_report, accuracy_score\n",
    "import seaborn as sns\n",
    "import matplotlib.pyplot as plt\n",
    "\n",
    "# Convert 'Date' to datetime\n",
    "df['Date'] = pd.to_datetime(df['Date'])\n",
    "\n",
    "# Feature engineering: Extract additional time-based features\n",
    "df['Year'] = df['Date'].dt.year\n",
    "df['Month'] = df['Date'].dt.month\n",
    "df['DayOfMonth'] = df['Date'].dt.day\n",
    "\n",
    "# One-hot encoding for 'FullStreet', 'neighborhood', 'zip'\n",
    "df = pd.get_dummies(df, columns=['FullStreet', 'neighborhood', 'zip'], drop_first=True)\n",
    "\n",
    "# Label encoding for ordered variables (those with a natural order like 'DayOfWeek', 'Season', 'TimeOfDay')\n",
    "label_encoders = {}\n",
    "for column in ['DayOfWeek', 'Season', 'TimeOfDay', 'Agency', 'ReportingOfficer']:  # Example ordinal variables\n",
    "    le = LabelEncoder()\n",
    "    df[column] = le.fit_transform(df[column])\n",
    "    label_encoders[column] = le\n",
    "\n",
    "# Filter the dataset to include only the offenses of interest\n",
    "offenses_of_interest = [\n",
    "    'Hit and Run', 'Assault Simple', 'Suspicious Activity', 'Vandalism', \n",
    "    'Larceny - From Mot Vehicle', 'Larceny - All Other', \n",
    "    'Assist Citizen - Mental/TDO/ECO', 'Lost/FoundProperty'\n",
    "]\n",
    "\n",
    "df = df[df['Offense'].isin(offenses_of_interest)]\n",
    "\n",
    "# Label encode the target variable (Offense)\n",
    "offense_encoder = LabelEncoder()\n",
    "df['Offense'] = offense_encoder.fit_transform(df['Offense'])\n",
    "\n",
    "# Separate features (X) and target (y)\n",
    "X = df[['Year', 'Month', 'DayOfMonth', 'DayOfWeek', 'Weekend', 'Season', 'TimeOfDay', 'lat', 'lon', 'Agency', 'ReportingOfficer']]\n",
    "y = df['Offense']  # Offense is now the encoded target variable\n",
    "\n",
    "# Split the data into training and testing sets\n",
    "X_train, X_test, y_train, y_test = train_test_split(X, y, test_size=0.3, random_state=42)\n"
   ]
  },
  {
   "cell_type": "markdown",
   "id": "cd0d1e2e",
   "metadata": {
    "papermill": {
     "duration": 0.008111,
     "end_time": "2025-04-19T00:58:40.185897",
     "exception": false,
     "start_time": "2025-04-19T00:58:40.177786",
     "status": "completed"
    },
    "tags": []
   },
   "source": [
    "### Model Training\n",
    "\n",
    "Here we will train several models (e.g., Random Forest, Logistic Regression, and Decision Tree). We will use cross-validation to choose the best model based on accuracy, and then explain the impact of the variables."
   ]
  },
  {
   "cell_type": "code",
   "execution_count": 22,
   "id": "bb8ea533",
   "metadata": {
    "execution": {
     "iopub.execute_input": "2025-04-19T00:58:40.203881Z",
     "iopub.status.busy": "2025-04-19T00:58:40.203079Z",
     "iopub.status.idle": "2025-04-19T00:58:43.692978Z",
     "shell.execute_reply": "2025-04-19T00:58:43.692386Z"
    },
    "papermill": {
     "duration": 3.499964,
     "end_time": "2025-04-19T00:58:43.694065",
     "exception": false,
     "start_time": "2025-04-19T00:58:40.194101",
     "status": "completed"
    },
    "tags": []
   },
   "outputs": [
    {
     "name": "stderr",
     "output_type": "stream",
     "text": [
      "/opt/hostedtoolcache/Python/3.9.22/x64/lib/python3.9/site-packages/sklearn/linear_model/_logistic.py:465: ConvergenceWarning: lbfgs failed to converge (status=1):\n",
      "STOP: TOTAL NO. of ITERATIONS REACHED LIMIT.\n",
      "\n",
      "Increase the number of iterations (max_iter) or scale the data as shown in:\n",
      "    https://scikit-learn.org/stable/modules/preprocessing.html\n",
      "Please also refer to the documentation for alternative solver options:\n",
      "    https://scikit-learn.org/stable/modules/linear_model.html#logistic-regression\n",
      "  n_iter_i = _check_optimize_result(\n",
      "/opt/hostedtoolcache/Python/3.9.22/x64/lib/python3.9/site-packages/sklearn/metrics/_classification.py:1565: UndefinedMetricWarning: Precision is ill-defined and being set to 0.0 in labels with no predicted samples. Use `zero_division` parameter to control this behavior.\n",
      "  _warn_prf(average, modifier, f\"{metric.capitalize()} is\", len(result))\n",
      "/opt/hostedtoolcache/Python/3.9.22/x64/lib/python3.9/site-packages/sklearn/metrics/_classification.py:1565: UndefinedMetricWarning: Precision is ill-defined and being set to 0.0 in labels with no predicted samples. Use `zero_division` parameter to control this behavior.\n",
      "  _warn_prf(average, modifier, f\"{metric.capitalize()} is\", len(result))\n",
      "/opt/hostedtoolcache/Python/3.9.22/x64/lib/python3.9/site-packages/sklearn/metrics/_classification.py:1565: UndefinedMetricWarning: Precision is ill-defined and being set to 0.0 in labels with no predicted samples. Use `zero_division` parameter to control this behavior.\n",
      "  _warn_prf(average, modifier, f\"{metric.capitalize()} is\", len(result))\n"
     ]
    },
    {
     "name": "stdout",
     "output_type": "stream",
     "text": [
      "\n",
      "Classification Report for All Models:\n",
      "\n",
      "Model: RandomForest\n",
      "Accuracy: 0.2866\n",
      "              precision    recall  f1-score      support\n",
      "0              0.290713  0.371773  0.326284   581.000000\n",
      "1              0.287037  0.221957  0.250336   419.000000\n",
      "2              0.302839  0.437690  0.357986   658.000000\n",
      "3              0.239437  0.178947  0.204819   475.000000\n",
      "4              0.337838  0.203804  0.254237   368.000000\n",
      "5              0.243182  0.215726  0.228632   496.000000\n",
      "6              0.300469  0.275862  0.287640   464.000000\n",
      "accuracy       0.286622  0.286622  0.286622     0.286622\n",
      "macro avg      0.285931  0.272251  0.272848  3461.000000\n",
      "weighted avg   0.285043  0.286622  0.279611  3461.000000\n"
     ]
    },
    {
     "data": {
      "image/png": "[encoded data removed]",
      "text/plain": [
       "<Figure size 800x600 with 2 Axes>"
      ]
     },
     "metadata": {},
     "output_type": "display_data"
    },
    {
     "name": "stdout",
     "output_type": "stream",
     "text": [
      "\n",
      "Model: LogisticRegression\n",
      "Accuracy: 0.2066\n",
      "              precision    recall  f1-score      support\n",
      "0              0.200434  0.476764  0.282221   581.000000\n",
      "1              0.086957  0.004773  0.009050   419.000000\n",
      "2              0.212745  0.659574  0.321720   658.000000\n",
      "3              0.000000  0.000000  0.000000   475.000000\n",
      "4              0.000000  0.000000  0.000000   368.000000\n",
      "5              0.133333  0.004032  0.007828   496.000000\n",
      "6              0.000000  0.000000  0.000000   464.000000\n",
      "accuracy       0.206588  0.206588  0.206588     0.206588\n",
      "macro avg      0.090496  0.163592  0.088688  3461.000000\n",
      "weighted avg   0.103729  0.206588  0.110759  3461.000000\n"
     ]
    },
    {
     "data": {
      "image/png": "[encoded data removed]",
      "text/plain": [
       "<Figure size 800x600 with 2 Axes>"
      ]
     },
     "metadata": {},
     "output_type": "display_data"
    },
    {
     "name": "stdout",
     "output_type": "stream",
     "text": [
      "\n",
      "Model: DecisionTree\n",
      "Accuracy: 0.2233\n",
      "              precision    recall  f1-score      support\n",
      "0              0.243568  0.244406  0.243986   581.000000\n",
      "1              0.243182  0.255370  0.249127   419.000000\n",
      "2              0.288245  0.272036  0.279906   658.000000\n",
      "3              0.178971  0.168421  0.173536   475.000000\n",
      "4              0.187675  0.182065  0.184828   368.000000\n",
      "5              0.196296  0.213710  0.204633   496.000000\n",
      "6              0.194503  0.198276  0.196371   464.000000\n",
      "accuracy       0.223346  0.223346  0.223346     0.223346\n",
      "macro avg      0.218920  0.219183  0.218912  3461.000000\n",
      "weighted avg   0.223854  0.223346  0.223455  3461.000000\n"
     ]
    },
    {
     "data": {
      "image/png": "[encoded data removed]",
      "text/plain": [
       "<Figure size 800x600 with 2 Axes>"
      ]
     },
     "metadata": {},
     "output_type": "display_data"
    },
    {
     "name": "stdout",
     "output_type": "stream",
     "text": [
      "\n",
      "Best Model:\n",
      "Best Model: RandomForestClassifier()\n",
      "Best Model Accuracy: 0.2866\n"
     ]
    }
   ],
   "source": [
    "import pandas as pd\n",
    "from sklearn.model_selection import train_test_split\n",
    "from sklearn.ensemble import RandomForestClassifier\n",
    "from sklearn.linear_model import LogisticRegression\n",
    "from sklearn.tree import DecisionTreeClassifier\n",
    "from sklearn.metrics import classification_report, accuracy_score, confusion_matrix\n",
    "import seaborn as sns\n",
    "import matplotlib.pyplot as plt\n",
    "\n",
    "# Define models\n",
    "models = {\n",
    "    'RandomForest': RandomForestClassifier(),\n",
    "    'LogisticRegression': LogisticRegression(max_iter=1000),\n",
    "    'DecisionTree': DecisionTreeClassifier()\n",
    "}\n",
    "\n",
    "# Train models and evaluate them\n",
    "best_model = None\n",
    "best_score = 0\n",
    "model_reports = {}\n",
    "\n",
    "for model_name, model in models.items():\n",
    "    model.fit(X_train, y_train)  # Train model\n",
    "    y_pred = model.predict(X_test)  # Make predictions\n",
    "    \n",
    "    # Calculate accuracy and generate classification report\n",
    "    accuracy = accuracy_score(y_test, y_pred)\n",
    "    model_reports[model_name] = classification_report(y_test, y_pred, output_dict=True)  # Store as a dictionary for easier analysis\n",
    "    \n",
    "    # Track best performing model\n",
    "    if accuracy > best_score:\n",
    "        best_score = accuracy\n",
    "        best_model = model\n",
    "\n",
    "# Display classification reports and confusion matrices\n",
    "print(\"\\nClassification Report for All Models:\")\n",
    "for model_name, report in model_reports.items():\n",
    "    print(f\"\\nModel: {model_name}\")\n",
    "    print(\"Accuracy: {:.4f}\".format(accuracy_score(y_test, models[model_name].predict(X_test))))  # Display accuracy\n",
    "    print(pd.DataFrame(report).transpose())  # Display classification report as a DataFrame\n",
    "\n",
    "    # Plot Confusion Matrix\n",
    "    cm = confusion_matrix(y_test, models[model_name].predict(X_test))\n",
    "    plt.figure(figsize=(8, 6))\n",
    "    sns.heatmap(cm, annot=True, fmt=\"d\", cmap='Blues', xticklabels=offense_encoder.classes_, yticklabels=offense_encoder.classes_)\n",
    "    plt.title(f\"Confusion Matrix - {model_name}\")\n",
    "    plt.xlabel('Predicted Labels')\n",
    "    plt.ylabel('True Labels')\n",
    "    plt.show()\n",
    "\n",
    "# Display best model details\n",
    "print(\"\\nBest Model:\")\n",
    "print(f\"Best Model: {best_model}\")\n",
    "print(f\"Best Model Accuracy: {best_score:.4f}\")\n"
   ]
  },
  {
   "cell_type": "markdown",
   "id": "15e4e043",
   "metadata": {
    "papermill": {
     "duration": 0.010847,
     "end_time": "2025-04-19T00:58:43.716466",
     "exception": false,
     "start_time": "2025-04-19T00:58:43.705619",
     "status": "completed"
    },
    "tags": []
   },
   "source": [
    "#### Classification Report for All Models:\n",
    "\n",
    "### Explanation of the Classification Results (RandomForest Model)\n",
    "\n",
    "The results you provided are from a **Random Forest** model, which is used for predicting different types of offenses. Let's break down the key components of the results:\n",
    "\n",
    "#### 1. **Accuracy: 0.2822**\n",
    "   - **Accuracy** measures the overall percentage of correct predictions made by the model. An accuracy of 28.22% means the model correctly predicted the offense in about 28% of the cases. This indicates the model's predictions are not highly reliable, as the accuracy is quite low.\n",
    "\n",
    "#### 2. **Classification Report:**\n",
    "   The classification report includes precision, recall, and F1-score for each offense. Let's go over these terms and how they apply to the results:\n",
    "\n",
    "   - **Precision**: The proportion of true positive predictions out of all positive predictions made by the model for a specific class (offense).\n",
    "   - **Recall**: The proportion of true positive predictions out of all actual positive instances in the dataset.\n",
    "   - **F1-Score**: The harmonic mean of precision and recall, providing a balance between the two metrics.\n",
    "   - **Support**: The number of actual occurrences of each class in the test set.\n",
    "\n",
    "   Let's analyze each offense based on these metrics:\n",
    "\n",
    "   | **Offense**                        | **Precision** | **Recall** | **F1-Score** | **Support** |\n",
    "   |------------------------------------|---------------|------------|--------------|-------------|\n",
    "   | **Assault Simple**                 | 0.2892        | 0.3754     | 0.3267       | 594         |\n",
    "   | **Assist Citizen - Mental/TDO/ECO**| 0.3182        | 0.2274     | 0.2652       | 431         |\n",
    "   | **Hit and Run**                    | 0.2963        | 0.4765     | 0.3654       | 638         |\n",
    "   | **Larceny - All Other**            | 0.2270        | 0.1453     | 0.1772       | 475         |\n",
    "   | **Lost/FoundProperty**             | 0.3333        | 0.2102     | 0.2578       | 352         |\n",
    "   | **Suspicious Activity**            | 0.2344        | 0.2169     | 0.2253       | 484         |\n",
    "   | **Vandalism**                      | 0.2712        | 0.2106     | 0.2371       | 470         |\n",
    "\n",
    "#### 3. **Key Insights from the Report:**\n",
    "\n",
    "- **Precision**:\n",
    "   - The highest precision is for **Larceny - All Other** (0.3333), indicating that when the model predicts this offense, it is correct about 33% of the time. However, this is still quite low.\n",
    "   - **Assist Citizen - Mental/TDO/ECO** has the lowest precision (0.2269), meaning that the model's predictions for this offense tend to be wrong more often than correct.\n",
    "\n",
    "- **Recall**:\n",
    "   - **Hit and Run** has the highest recall (0.4765), meaning the model identifies about 48% of the actual occurrences of this offense. This is better than the precision, which indicates it is missing many true positives but is still able to identify a fair number of cases.\n",
    "   - **Larceny - All Other** and **Suspicious Activity** have the lowest recall values (0.1453 and 0.2169, respectively), indicating that the model is failing to identify most of the actual cases for these offenses.\n",
    "\n",
    "- **F1-Score**:\n",
    "   - The **F1-Score** balances precision and recall. It is highest for **Hit and Run** (0.3654), but still relatively low overall. This suggests the model is better at identifying **Hit and Run** than other offenses but still has room for improvement.\n",
    "   - **Larceny - All Other** has the lowest F1-Score (0.1772), indicating a poor balance between precision and recall for this offense.\n",
    "\n",
    "#### 4. **Macro Average and Weighted Average:**\n",
    "   - **Macro Average**: This gives the average precision, recall, and F1-Score across all classes (offenses) without considering the class distribution. It averages the results for all offenses equally.\n",
    "     - Precision: 0.2814\n",
    "     - Recall: 0.2661\n",
    "     - F1-Score: 0.2649\n",
    "   - **Weighted Average**: This averages the metrics but weighs each class by its support (the number of true instances in the test set). This gives a better sense of overall performance, considering the class distribution.\n",
    "     - Precision: 0.2799\n",
    "     - Recall: 0.2822\n",
    "     - F1-Score: 0.2720\n",
    "\n",
    "#### 5. **Confusion Matrix (Visualization Analysis)**:\n",
    "   - The confusion matrix shows the distribution of true positive, false positive, true negative, and false negative predictions for each class.\n",
    "     - For **Hit and Run**, the model performs relatively well in identifying this offense (304 true positives). However, it also misclassifies some **Hit and Run** instances as other offenses (e.g., **Assault Simple**, **Suspicious Activity**, etc.).\n",
    "     - **Larceny - All Other** is frequently misclassified as **Hit and Run**, **Suspicious Activity**, and others. This is evident from the large number of off-diagonal elements in its row.\n",
    "     - **Assist Citizen - Mental/TDO/ECO** and **Suspicious Activity** are frequently misclassified, as seen by the off-diagonal values in their rows.\n",
    "\n",
    "### Conclusion:\n",
    "The Random Forest model has low accuracy (28.22%), suggesting that it struggles to predict most offenses accurately. Some offenses like **Hit and Run** are better predicted than others, but overall, the model shows a high level of misclassification across all offenses. There may be a need for further tuning of the model, additional feature engineering, or trying different models for better performance.\n",
    "\n",
    "Let me know if you'd like to improve the model or make adjustments based on these results!\n",
    "\n"
   ]
  },
  {
   "cell_type": "markdown",
   "id": "ce56a6a5",
   "metadata": {
    "papermill": {
     "duration": 0.01079,
     "end_time": "2025-04-19T00:58:43.738090",
     "exception": false,
     "start_time": "2025-04-19T00:58:43.727300",
     "status": "completed"
    },
    "tags": []
   },
   "source": [
    "### Model Explanation\n",
    "\n",
    "Once we’ve chosen the best model, we will explain its predictions by examining feature importance for tree-based models and using statistical methods like logistic regression coefficients for linear models."
   ]
  },
  {
   "cell_type": "markdown",
   "id": "faa88b60",
   "metadata": {
    "papermill": {
     "duration": 0.010699,
     "end_time": "2025-04-19T00:58:43.759731",
     "exception": false,
     "start_time": "2025-04-19T00:58:43.749032",
     "status": "completed"
    },
    "tags": []
   },
   "source": [
    "#### Feature Importance for Random Forest / Decision Tree\n",
    "\n",
    "##### For Tree-based Models (Random Forest, Decision Tree)\n",
    "\n",
    "For Random Forest or Decision Tree, we can look at feature importance to understand which variables contribute the most to the model's predictions. Here's how you can visualize and interpret the importance of each feature:"
   ]
  },
  {
   "cell_type": "code",
   "execution_count": 23,
   "id": "96acef62",
   "metadata": {
    "execution": {
     "iopub.execute_input": "2025-04-19T00:58:43.783196Z",
     "iopub.status.busy": "2025-04-19T00:58:43.782609Z",
     "iopub.status.idle": "2025-04-19T00:58:43.952470Z",
     "shell.execute_reply": "2025-04-19T00:58:43.951762Z"
    },
    "papermill": {
     "duration": 0.182835,
     "end_time": "2025-04-19T00:58:43.953555",
     "exception": false,
     "start_time": "2025-04-19T00:58:43.770720",
     "status": "completed"
    },
    "tags": []
   },
   "outputs": [
    {
     "data": {
      "image/png": "[encoded data removed]",
      "text/plain": [
       "<Figure size 1000x600 with 1 Axes>"
      ]
     },
     "metadata": {},
     "output_type": "display_data"
    }
   ],
   "source": [
    "# For RandomForest or DecisionTree models, we can check feature importance\n",
    "if isinstance(best_model, RandomForestClassifier) or isinstance(best_model, DecisionTreeClassifier):\n",
    "    feature_importance = best_model.feature_importances_\n",
    "    feature_names = X.columns\n",
    "    importance_df = pd.DataFrame({'Feature': feature_names, 'Importance': feature_importance})\n",
    "    importance_df = importance_df.sort_values(by='Importance', ascending=False)\n",
    "    \n",
    "    # Plotting the feature importances\n",
    "    plt.figure(figsize=(10, 6))\n",
    "    sns.barplot(x='Importance', y='Feature', data=importance_df)\n",
    "    plt.title(\"Feature Importance\")\n",
    "    plt.show()\n"
   ]
  },
  {
   "cell_type": "code",
   "execution_count": null,
   "id": "c872854e",
   "metadata": {
    "papermill": {
     "duration": 0.010994,
     "end_time": "2025-04-19T00:58:43.976432",
     "exception": false,
     "start_time": "2025-04-19T00:58:43.965438",
     "status": "completed"
    },
    "tags": []
   },
   "outputs": [],
   "source": []
  },
  {
   "cell_type": "markdown",
   "id": "9fcd0be5",
   "metadata": {
    "papermill": {
     "duration": 0.011302,
     "end_time": "2025-04-19T00:58:43.999064",
     "exception": false,
     "start_time": "2025-04-19T00:58:43.987762",
     "status": "completed"
    },
    "tags": []
   },
   "source": [
    "### Evaluation\n",
    "\n",
    "After training the models and examining their performance, we evaluate the chosen model based on metrics like accuracy, precision, recall, and F1 score.\n",
    "\n"
   ]
  },
  {
   "cell_type": "code",
   "execution_count": 24,
   "id": "648658dd",
   "metadata": {
    "execution": {
     "iopub.execute_input": "2025-04-19T00:58:44.022918Z",
     "iopub.status.busy": "2025-04-19T00:58:44.022393Z",
     "iopub.status.idle": "2025-04-19T00:58:44.111566Z",
     "shell.execute_reply": "2025-04-19T00:58:44.110831Z"
    },
    "papermill": {
     "duration": 0.102404,
     "end_time": "2025-04-19T00:58:44.112702",
     "exception": false,
     "start_time": "2025-04-19T00:58:44.010298",
     "status": "completed"
    },
    "tags": []
   },
   "outputs": [
    {
     "name": "stdout",
     "output_type": "stream",
     "text": [
      "Accuracy: 0.2866\n",
      "Classification Report:\n",
      "              precision    recall  f1-score   support\n",
      "\n",
      "           0       0.29      0.37      0.33       581\n",
      "           1       0.29      0.22      0.25       419\n",
      "           2       0.30      0.44      0.36       658\n",
      "           3       0.24      0.18      0.20       475\n",
      "           4       0.34      0.20      0.25       368\n",
      "           5       0.24      0.22      0.23       496\n",
      "           6       0.30      0.28      0.29       464\n",
      "\n",
      "    accuracy                           0.29      3461\n",
      "   macro avg       0.29      0.27      0.27      3461\n",
      "weighted avg       0.29      0.29      0.28      3461\n",
      "\n",
      "Confusion Matrix:\n",
      "[[216  56 124  48  18  82  37]\n",
      " [111  93 100  30  17  38  30]\n",
      " [113  47 288  56  17  78  59]\n",
      " [ 78  27 141  85  28  52  64]\n",
      " [ 60  28  73  46  75  33  53]\n",
      " [ 93  40 121  44  36 107  55]\n",
      " [ 72  33 104  46  31  50 128]]\n",
      "Precision: 0.2850\n",
      "Recall: 0.2866\n",
      "F1 Score: 0.2796\n"
     ]
    }
   ],
   "source": [
    "from sklearn.metrics import classification_report, confusion_matrix, accuracy_score, precision_score, recall_score, f1_score\n",
    "\n",
    "# Predict on the test set\n",
    "y_pred = best_model.predict(X_test)\n",
    "\n",
    "# Calculate Accuracy\n",
    "accuracy = accuracy_score(y_test, y_pred)\n",
    "print(f\"Accuracy: {accuracy:.4f}\")\n",
    "\n",
    "# Classification Report\n",
    "print(\"Classification Report:\")\n",
    "print(classification_report(y_test, y_pred))\n",
    "\n",
    "# Confusion Matrix\n",
    "conf_matrix = confusion_matrix(y_test, y_pred)\n",
    "print(\"Confusion Matrix:\")\n",
    "print(conf_matrix)\n",
    "\n",
    "# Precision, Recall, F1 Score for each class (Offense Type)\n",
    "precision = precision_score(y_test, y_pred, average='weighted')\n",
    "recall = recall_score(y_test, y_pred, average='weighted')\n",
    "f1 = f1_score(y_test, y_pred, average='weighted')\n",
    "\n",
    "print(f\"Precision: {precision:.4f}\")\n",
    "print(f\"Recall: {recall:.4f}\")\n",
    "print(f\"F1 Score: {f1:.4f}\")\n"
   ]
  },
  {
   "cell_type": "markdown",
   "id": "06c256b4",
   "metadata": {
    "papermill": {
     "duration": 0.011389,
     "end_time": "2025-04-19T00:58:44.135688",
     "exception": false,
     "start_time": "2025-04-19T00:58:44.124299",
     "status": "completed"
    },
    "tags": []
   },
   "source": [
    "#### For Logistic Regression (Coefficient Interpretation)\n",
    "\n",
    "For Logistic Regression, the model coefficients can help us understand how each feature affects the likelihood of an offense happening. A positive coefficient indicates a feature increases the likelihood of the offense, and a negative coefficient indicates the opposite."
   ]
  },
  {
   "cell_type": "code",
   "execution_count": 25,
   "id": "9e1719fb",
   "metadata": {
    "execution": {
     "iopub.execute_input": "2025-04-19T00:58:44.159783Z",
     "iopub.status.busy": "2025-04-19T00:58:44.159275Z",
     "iopub.status.idle": "2025-04-19T00:58:44.164088Z",
     "shell.execute_reply": "2025-04-19T00:58:44.163557Z"
    },
    "papermill": {
     "duration": 0.018007,
     "end_time": "2025-04-19T00:58:44.165112",
     "exception": false,
     "start_time": "2025-04-19T00:58:44.147105",
     "status": "completed"
    },
    "tags": []
   },
   "outputs": [],
   "source": [
    "if isinstance(best_model, LogisticRegression):\n",
    "    # Logistic regression coefficients\n",
    "    coef_df = pd.DataFrame({\n",
    "        'Feature': X.columns,\n",
    "        'Coefficient': best_model.coef_[0]\n",
    "    })\n",
    "    coef_df['AbsCoefficient'] = coef_df['Coefficient'].abs()\n",
    "    coef_df = coef_df.sort_values(by='AbsCoefficient', ascending=False)\n",
    "    \n",
    "    # Plotting the coefficients\n",
    "    plt.figure(figsize=(10, 6))\n",
    "    sns.barplot(x='AbsCoefficient', y='Feature', data=coef_df)\n",
    "    plt.title(\"Logistic Regression Coefficients Impact\")\n",
    "    plt.show()\n",
    "\n",
    "    # Print the top 5 most impactful features (by absolute coefficient value)\n",
    "    print(\"Top 5 most impactful features based on coefficients:\")\n",
    "    print(coef_df.head())\n"
   ]
  },
  {
   "cell_type": "markdown",
   "id": "a9d75fbf",
   "metadata": {
    "papermill": {
     "duration": 0.011182,
     "end_time": "2025-04-19T00:58:44.187559",
     "exception": false,
     "start_time": "2025-04-19T00:58:44.176377",
     "status": "completed"
    },
    "tags": []
   },
   "source": [
    "Explanation of Output:\n",
    "\n",
    "Feature Importance (Random Forest/Decision Tree): The bar plot will show how important each feature is in the decision-making process. Features at the top of the list are the most influential in predicting the occurrence of offenses.\n",
    "\n",
    "Logistic Regression Coefficients: The bar plot will show the magnitude of the coefficients for each feature. Features with larger absolute values (either positive or negative) have a stronger impact on the model’s predictions. Positive coefficients increase the probability of an offense, while negative coefficients decrease it."
   ]
  },
  {
   "cell_type": "markdown",
   "id": "4f50d845",
   "metadata": {
    "papermill": {
     "duration": 0.011081,
     "end_time": "2025-04-19T00:58:44.209865",
     "exception": false,
     "start_time": "2025-04-19T00:58:44.198784",
     "status": "completed"
    },
    "tags": []
   },
   "source": []
  }
 ],
 "metadata": {
  "kernelspec": {
   "display_name": "Python 3",
   "language": "python",
   "name": "python3"
  },
  "language_info": {
   "codemirror_mode": {
    "name": "ipython",
    "version": 3
   },
   "file_extension": ".py",
   "mimetype": "text/x-python",
   "name": "python",
   "nbconvert_exporter": "python",
   "pygments_lexer": "ipython3",
   "version": "3.9.22"
  },
  "papermill": {
   "default_parameters": {},
   "duration": 79.063445,
   "end_time": "2025-04-19T00:58:44.738684",
   "environment_variables": {},
   "exception": null,
   "input_path": "notebook/Crime Data.ipynb",
   "output_path": "notebook/Crime Data_output.ipynb",
   "parameters": {},
   "start_time": "2025-04-19T00:57:25.675239",
   "version": "2.6.0"
  }
 },
 "nbformat": 4,
 "nbformat_minor": 5
}