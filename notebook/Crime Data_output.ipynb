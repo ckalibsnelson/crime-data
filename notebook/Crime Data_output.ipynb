{
 "cells": [
  {
   "cell_type": "markdown",
   "id": "41cb5f94",
   "metadata": {
    "papermill": {
     "duration": 0.007988,
     "end_time": "2025-06-27T01:05:40.290769",
     "exception": false,
     "start_time": "2025-06-27T01:05:40.282781",
     "status": "completed"
    },
    "tags": []
   },
   "source": [
    "# Charlottesville Open Data Porttal: Crime Data"
   ]
  },
  {
   "cell_type": "markdown",
   "id": "f8714b90",
   "metadata": {
    "papermill": {
     "duration": 0.006672,
     "end_time": "2025-06-27T01:05:40.304605",
     "exception": false,
     "start_time": "2025-06-27T01:05:40.297933",
     "status": "completed"
    },
    "tags": []
   },
   "source": [
    "## Import Relevant Librarires & Set WD"
   ]
  },
  {
   "cell_type": "code",
   "execution_count": 1,
   "id": "3b0bbbb4",
   "metadata": {
    "execution": {
     "iopub.execute_input": "2025-06-27T01:05:40.319913Z",
     "iopub.status.busy": "2025-06-27T01:05:40.319551Z",
     "iopub.status.idle": "2025-06-27T01:05:40.899845Z",
     "shell.execute_reply": "2025-06-27T01:05:40.899117Z"
    },
    "papermill": {
     "duration": 0.589855,
     "end_time": "2025-06-27T01:05:40.901354",
     "exception": false,
     "start_time": "2025-06-27T01:05:40.311499",
     "status": "completed"
    },
    "tags": []
   },
   "outputs": [],
   "source": [
    "import requests\n",
    "import pandas as pd\n",
    "import numpy as np\n",
    "import pickle\n",
    "import googlemaps\n",
    "import plotly.express as px\n",
    "from geopy.geocoders import Nominatim\n",
    "import time\n",
    "from dotenv import load_dotenv\n",
    "import os\n",
    "\n",
    "env_path = os.path.join(\"..\", \".env\")\n",
    "#print(\"Looking for .env file at:\", os.path.abspath(env_path))\n",
    "load_dotenv(dotenv_path=env_path)\n",
    "\n",
    "# Retrieve the variables\n",
    "GOOGLE_API_KEY = os.getenv(\"GOOGLE_API_KEY\")\n",
    "WORKING_DIR = os.getenv(\"WORKING_DIR\")\n",
    "\n",
    "if GOOGLE_API_KEY is None or WORKING_DIR is None:\n",
    "    raise RuntimeError(\"No configuration found. Please ensure that your .env file exists with the required variables, or create a local config.py file.\")\n",
    "\n",
    "#print(\"Google API Key:\", GOOGLE_API_KEY)\n",
    "#print(\"Working Directory:\", WORKING_DIR)"
   ]
  },
  {
   "cell_type": "markdown",
   "id": "0d40f12e",
   "metadata": {
    "papermill": {
     "duration": 0.003308,
     "end_time": "2025-06-27T01:05:40.908238",
     "exception": false,
     "start_time": "2025-06-27T01:05:40.904930",
     "status": "completed"
    },
    "tags": []
   },
   "source": [
    "## Import Data\n",
    "\n",
    "URL: https://opendata.charlottesville.org/datasets/charlottesville::crime-data/about"
   ]
  },
  {
   "cell_type": "code",
   "execution_count": 2,
   "id": "c6f95c3a",
   "metadata": {
    "execution": {
     "iopub.execute_input": "2025-06-27T01:05:40.915925Z",
     "iopub.status.busy": "2025-06-27T01:05:40.915567Z",
     "iopub.status.idle": "2025-06-27T01:06:51.150029Z",
     "shell.execute_reply": "2025-06-27T01:06:51.149256Z"
    },
    "papermill": {
     "duration": 70.242692,
     "end_time": "2025-06-27T01:06:51.154249",
     "exception": false,
     "start_time": "2025-06-27T01:05:40.911557",
     "status": "completed"
    },
    "tags": []
   },
   "outputs": [
    {
     "name": "stdout",
     "output_type": "stream",
     "text": [
      "Total records imported: 25538\n"
     ]
    }
   ],
   "source": [
    "# Define the endpoint and initial parameters.\n",
    "url = \"https://gisweb.charlottesville.org/arcgis/rest/services/OpenData_2/MapServer/6/query\"\n",
    "params = {\n",
    "    \"where\": \"1=1\",\n",
    "    \"outFields\": \"*\",\n",
    "    \"outSR\": 4326,\n",
    "    \"f\": \"json\",\n",
    "    \"resultOffset\": 0,       # Starting index for results\n",
    "    \"resultRecordCount\": 10000  # Maximum records per batch (if allowed by the API)\n",
    "}\n",
    "\n",
    "records = []\n",
    "\n",
    "while True:\n",
    "    response = requests.get(url, params=params)\n",
    "    response.raise_for_status()\n",
    "    data = response.json()\n",
    "    \n",
    "    # Get the current batch of features.\n",
    "    features = data.get(\"features\", [])\n",
    "    if not features:\n",
    "        break\n",
    "\n",
    "    # Extract the attributes from the features.\n",
    "    batch_records = [feature.get(\"attributes\", {}) for feature in features]\n",
    "    records.extend(batch_records)\n",
    "    \n",
    "    # If the batch size is less than the requested count, we reached the end.\n",
    "    if len(features) < params[\"resultRecordCount\"]:\n",
    "        break\n",
    "\n",
    "    # Update the resultOffset for the next batch.\n",
    "    params[\"resultOffset\"] += params[\"resultRecordCount\"]\n",
    "\n",
    "# Create a DataFrame from the combined records.\n",
    "df = pd.DataFrame(records)\n",
    "print(\"Total records imported:\", len(df))\n"
   ]
  },
  {
   "cell_type": "code",
   "execution_count": 3,
   "id": "0ed264d5",
   "metadata": {
    "execution": {
     "iopub.execute_input": "2025-06-27T01:06:51.162254Z",
     "iopub.status.busy": "2025-06-27T01:06:51.161820Z",
     "iopub.status.idle": "2025-06-27T01:06:51.174771Z",
     "shell.execute_reply": "2025-06-27T01:06:51.174099Z"
    },
    "papermill": {
     "duration": 0.018091,
     "end_time": "2025-06-27T01:06:51.175811",
     "exception": false,
     "start_time": "2025-06-27T01:06:51.157720",
     "status": "completed"
    },
    "tags": []
   },
   "outputs": [
    {
     "data": {
      "text/html": [
       "<div>\n",
       "<style scoped>\n",
       "    .dataframe tbody tr th:only-of-type {\n",
       "        vertical-align: middle;\n",
       "    }\n",
       "\n",
       "    .dataframe tbody tr th {\n",
       "        vertical-align: top;\n",
       "    }\n",
       "\n",
       "    .dataframe thead th {\n",
       "        text-align: right;\n",
       "    }\n",
       "</style>\n",
       "<table border=\"1\" class=\"dataframe\">\n",
       "  <thead>\n",
       "    <tr style=\"text-align: right;\">\n",
       "      <th></th>\n",
       "      <th>RecordID</th>\n",
       "      <th>Offense</th>\n",
       "      <th>IncidentID</th>\n",
       "      <th>BlockNumber</th>\n",
       "      <th>StreetName</th>\n",
       "      <th>Agency</th>\n",
       "      <th>DateReported</th>\n",
       "      <th>HourReported</th>\n",
       "      <th>ReportingOfficer</th>\n",
       "    </tr>\n",
       "  </thead>\n",
       "  <tbody>\n",
       "    <tr>\n",
       "      <th>0</th>\n",
       "      <td>1</td>\n",
       "      <td>Hit and Run</td>\n",
       "      <td>202500021800</td>\n",
       "      <td>2000</td>\n",
       "      <td>JEFFERSON PARK AVE</td>\n",
       "      <td>CPD</td>\n",
       "      <td>1750795669000</td>\n",
       "      <td>1607</td>\n",
       "      <td>Vlasis, Christopher</td>\n",
       "    </tr>\n",
       "    <tr>\n",
       "      <th>1</th>\n",
       "      <td>2</td>\n",
       "      <td>Drug Investigation</td>\n",
       "      <td>202500021795</td>\n",
       "      <td>200</td>\n",
       "      <td>CARLTON RD</td>\n",
       "      <td>CPD</td>\n",
       "      <td>1750791840000</td>\n",
       "      <td>1504</td>\n",
       "      <td>Mian, Ghulam</td>\n",
       "    </tr>\n",
       "    <tr>\n",
       "      <th>2</th>\n",
       "      <td>3</td>\n",
       "      <td>Disorderly Conduct</td>\n",
       "      <td>202500021782</td>\n",
       "      <td>200</td>\n",
       "      <td>RIDGE ST</td>\n",
       "      <td>CPD</td>\n",
       "      <td>1750783390000</td>\n",
       "      <td>1243</td>\n",
       "      <td>Love-Baker, Sydney</td>\n",
       "    </tr>\n",
       "    <tr>\n",
       "      <th>3</th>\n",
       "      <td>4</td>\n",
       "      <td>Hit and Run</td>\n",
       "      <td>202500021765</td>\n",
       "      <td>3800</td>\n",
       "      <td>-78.5059997410000000</td>\n",
       "      <td>CPD</td>\n",
       "      <td>1750774027000</td>\n",
       "      <td>1007</td>\n",
       "      <td>Lowry, Ryan</td>\n",
       "    </tr>\n",
       "    <tr>\n",
       "      <th>4</th>\n",
       "      <td>5</td>\n",
       "      <td>Assault Simple</td>\n",
       "      <td>202500021719</td>\n",
       "      <td>100</td>\n",
       "      <td>W MARKET ST</td>\n",
       "      <td>CPD</td>\n",
       "      <td>1750741472000</td>\n",
       "      <td>0104</td>\n",
       "      <td>Oakes, Maithe</td>\n",
       "    </tr>\n",
       "  </tbody>\n",
       "</table>\n",
       "</div>"
      ],
      "text/plain": [
       "   RecordID             Offense    IncidentID BlockNumber  \\\n",
       "0         1         Hit and Run  202500021800        2000   \n",
       "1         2  Drug Investigation  202500021795         200   \n",
       "2         3  Disorderly Conduct  202500021782         200   \n",
       "3         4         Hit and Run  202500021765        3800   \n",
       "4         5      Assault Simple  202500021719         100   \n",
       "\n",
       "             StreetName Agency   DateReported HourReported  \\\n",
       "0    JEFFERSON PARK AVE    CPD  1750795669000         1607   \n",
       "1            CARLTON RD    CPD  1750791840000         1504   \n",
       "2              RIDGE ST    CPD  1750783390000         1243   \n",
       "3  -78.5059997410000000    CPD  1750774027000         1007   \n",
       "4           W MARKET ST    CPD  1750741472000         0104   \n",
       "\n",
       "      ReportingOfficer  \n",
       "0  Vlasis, Christopher  \n",
       "1         Mian, Ghulam  \n",
       "2   Love-Baker, Sydney  \n",
       "3          Lowry, Ryan  \n",
       "4        Oakes, Maithe  "
      ]
     },
     "execution_count": 3,
     "metadata": {},
     "output_type": "execute_result"
    }
   ],
   "source": [
    "df.head()"
   ]
  },
  {
   "cell_type": "code",
   "execution_count": 4,
   "id": "e7ad09af",
   "metadata": {
    "execution": {
     "iopub.execute_input": "2025-06-27T01:06:51.184022Z",
     "iopub.status.busy": "2025-06-27T01:06:51.183659Z",
     "iopub.status.idle": "2025-06-27T01:06:51.188169Z",
     "shell.execute_reply": "2025-06-27T01:06:51.187556Z"
    },
    "papermill": {
     "duration": 0.00964,
     "end_time": "2025-06-27T01:06:51.189198",
     "exception": false,
     "start_time": "2025-06-27T01:06:51.179558",
     "status": "completed"
    },
    "tags": []
   },
   "outputs": [
    {
     "data": {
      "text/plain": [
       "Index(['RecordID', 'Offense', 'IncidentID', 'BlockNumber', 'StreetName',\n",
       "       'Agency', 'DateReported', 'HourReported', 'ReportingOfficer'],\n",
       "      dtype='object')"
      ]
     },
     "execution_count": 4,
     "metadata": {},
     "output_type": "execute_result"
    }
   ],
   "source": [
    "df.columns"
   ]
  },
  {
   "cell_type": "code",
   "execution_count": 5,
   "id": "0cef10e4",
   "metadata": {
    "execution": {
     "iopub.execute_input": "2025-06-27T01:06:51.197934Z",
     "iopub.status.busy": "2025-06-27T01:06:51.197545Z",
     "iopub.status.idle": "2025-06-27T01:06:51.221808Z",
     "shell.execute_reply": "2025-06-27T01:06:51.221060Z"
    },
    "papermill": {
     "duration": 0.030041,
     "end_time": "2025-06-27T01:06:51.222932",
     "exception": false,
     "start_time": "2025-06-27T01:06:51.192891",
     "status": "completed"
    },
    "tags": []
   },
   "outputs": [
    {
     "name": "stdout",
     "output_type": "stream",
     "text": [
      "<class 'pandas.core.frame.DataFrame'>\n",
      "RangeIndex: 25538 entries, 0 to 25537\n",
      "Data columns (total 9 columns):\n",
      " #   Column            Non-Null Count  Dtype \n",
      "---  ------            --------------  ----- \n",
      " 0   RecordID          25538 non-null  int64 \n",
      " 1   Offense           25538 non-null  object\n",
      " 2   IncidentID        25538 non-null  object\n",
      " 3   BlockNumber       25538 non-null  object\n",
      " 4   StreetName        25538 non-null  object\n",
      " 5   Agency            25538 non-null  object\n",
      " 6   DateReported      25538 non-null  int64 \n",
      " 7   HourReported      25538 non-null  object\n",
      " 8   ReportingOfficer  25521 non-null  object\n",
      "dtypes: int64(2), object(7)\n",
      "memory usage: 1.8+ MB\n"
     ]
    }
   ],
   "source": [
    "df.info()"
   ]
  },
  {
   "cell_type": "markdown",
   "id": "5a8caddf",
   "metadata": {
    "papermill": {
     "duration": 0.003866,
     "end_time": "2025-06-27T01:06:51.230785",
     "exception": false,
     "start_time": "2025-06-27T01:06:51.226919",
     "status": "completed"
    },
    "tags": []
   },
   "source": [
    "### Missing Values"
   ]
  },
  {
   "cell_type": "code",
   "execution_count": 6,
   "id": "ea6addf2",
   "metadata": {
    "execution": {
     "iopub.execute_input": "2025-06-27T01:06:51.269589Z",
     "iopub.status.busy": "2025-06-27T01:06:51.268957Z",
     "iopub.status.idle": "2025-06-27T01:06:51.294365Z",
     "shell.execute_reply": "2025-06-27T01:06:51.293765Z"
    },
    "papermill": {
     "duration": 0.03139,
     "end_time": "2025-06-27T01:06:51.295468",
     "exception": false,
     "start_time": "2025-06-27T01:06:51.264078",
     "status": "completed"
    },
    "tags": []
   },
   "outputs": [
    {
     "name": "stdout",
     "output_type": "stream",
     "text": [
      "                  MissingCount  MissingPercentage\n",
      "RecordID                     0               0.00\n",
      "Offense                      0               0.00\n",
      "IncidentID                   0               0.00\n",
      "BlockNumber                  0               0.00\n",
      "StreetName                   0               0.00\n",
      "Agency                       0               0.00\n",
      "DateReported                 0               0.00\n",
      "HourReported                 0               0.00\n",
      "ReportingOfficer            17               0.07\n"
     ]
    }
   ],
   "source": [
    "def missing_percentage(df):\n",
    "    \"\"\"\n",
    "    Returns a DataFrame with the count and percentage of missing values for each column.\n",
    "    \n",
    "    Parameters:\n",
    "        df (pd.DataFrame): The input DataFrame.\n",
    "    \n",
    "    Returns:\n",
    "        pd.DataFrame: A DataFrame with columns 'MissingCount' and 'MissingPercentage'.\n",
    "    \"\"\"\n",
    "    total_rows = len(df)\n",
    "    missing_count = df.isnull().sum()\n",
    "    missing_percent = (missing_count / total_rows) * 100\n",
    "    \n",
    "    result = pd.DataFrame({\n",
    "        'MissingCount': missing_count,\n",
    "        'MissingPercentage': missing_percent.round(2)\n",
    "    })\n",
    "    \n",
    "    return result\n",
    "\n",
    "# Example usage:\n",
    "missing_info = missing_percentage(df)\n",
    "print(missing_info)\n"
   ]
  },
  {
   "cell_type": "markdown",
   "id": "233ab8a7",
   "metadata": {
    "papermill": {
     "duration": 0.003792,
     "end_time": "2025-06-27T01:06:51.303225",
     "exception": false,
     "start_time": "2025-06-27T01:06:51.299433",
     "status": "completed"
    },
    "tags": []
   },
   "source": [
    "## Data Preparation"
   ]
  },
  {
   "cell_type": "markdown",
   "id": "05d41416",
   "metadata": {
    "papermill": {
     "duration": 0.003709,
     "end_time": "2025-06-27T01:06:51.310766",
     "exception": false,
     "start_time": "2025-06-27T01:06:51.307057",
     "status": "completed"
    },
    "tags": []
   },
   "source": [
    "### Data Conversion"
   ]
  },
  {
   "cell_type": "code",
   "execution_count": 7,
   "id": "ec05ee7a",
   "metadata": {
    "execution": {
     "iopub.execute_input": "2025-06-27T01:06:51.319366Z",
     "iopub.status.busy": "2025-06-27T01:06:51.318971Z",
     "iopub.status.idle": "2025-06-27T01:06:51.684002Z",
     "shell.execute_reply": "2025-06-27T01:06:51.683300Z"
    },
    "papermill": {
     "duration": 0.370446,
     "end_time": "2025-06-27T01:06:51.685015",
     "exception": false,
     "start_time": "2025-06-27T01:06:51.314569",
     "status": "completed"
    },
    "tags": []
   },
   "outputs": [
    {
     "data": {
      "text/html": [
       "<div>\n",
       "<style scoped>\n",
       "    .dataframe tbody tr th:only-of-type {\n",
       "        vertical-align: middle;\n",
       "    }\n",
       "\n",
       "    .dataframe tbody tr th {\n",
       "        vertical-align: top;\n",
       "    }\n",
       "\n",
       "    .dataframe thead th {\n",
       "        text-align: right;\n",
       "    }\n",
       "</style>\n",
       "<table border=\"1\" class=\"dataframe\">\n",
       "  <thead>\n",
       "    <tr style=\"text-align: right;\">\n",
       "      <th></th>\n",
       "      <th>RecordID</th>\n",
       "      <th>Offense</th>\n",
       "      <th>IncidentID</th>\n",
       "      <th>BlockNumber</th>\n",
       "      <th>StreetName</th>\n",
       "      <th>Agency</th>\n",
       "      <th>HourReported</th>\n",
       "      <th>ReportingOfficer</th>\n",
       "      <th>Date</th>\n",
       "      <th>DateString</th>\n",
       "      <th>DayOfWeek</th>\n",
       "      <th>Weekend</th>\n",
       "      <th>Season</th>\n",
       "      <th>HourAMPM</th>\n",
       "      <th>TimeOfDay</th>\n",
       "    </tr>\n",
       "  </thead>\n",
       "  <tbody>\n",
       "    <tr>\n",
       "      <th>0</th>\n",
       "      <td>1</td>\n",
       "      <td>Hit and Run</td>\n",
       "      <td>202500021800</td>\n",
       "      <td>2000</td>\n",
       "      <td>JEFFERSON PARK AVE</td>\n",
       "      <td>CPD</td>\n",
       "      <td>1607</td>\n",
       "      <td>Vlasis, Christopher</td>\n",
       "      <td>2025-06-24 16:07:49</td>\n",
       "      <td>2025-06-24 04:07:49 PM</td>\n",
       "      <td>Tuesday</td>\n",
       "      <td>False</td>\n",
       "      <td>Summer</td>\n",
       "      <td>04:07 PM</td>\n",
       "      <td>Afternoon</td>\n",
       "    </tr>\n",
       "    <tr>\n",
       "      <th>1</th>\n",
       "      <td>2</td>\n",
       "      <td>Drug Investigation</td>\n",
       "      <td>202500021795</td>\n",
       "      <td>200</td>\n",
       "      <td>CARLTON RD</td>\n",
       "      <td>CPD</td>\n",
       "      <td>1504</td>\n",
       "      <td>Mian, Ghulam</td>\n",
       "      <td>2025-06-24 15:04:00</td>\n",
       "      <td>2025-06-24 03:04:00 PM</td>\n",
       "      <td>Tuesday</td>\n",
       "      <td>False</td>\n",
       "      <td>Summer</td>\n",
       "      <td>03:04 PM</td>\n",
       "      <td>Afternoon</td>\n",
       "    </tr>\n",
       "    <tr>\n",
       "      <th>2</th>\n",
       "      <td>3</td>\n",
       "      <td>Disorderly Conduct</td>\n",
       "      <td>202500021782</td>\n",
       "      <td>200</td>\n",
       "      <td>RIDGE ST</td>\n",
       "      <td>CPD</td>\n",
       "      <td>1243</td>\n",
       "      <td>Love-Baker, Sydney</td>\n",
       "      <td>2025-06-24 12:43:10</td>\n",
       "      <td>2025-06-24 12:43:10 PM</td>\n",
       "      <td>Tuesday</td>\n",
       "      <td>False</td>\n",
       "      <td>Summer</td>\n",
       "      <td>12:43 PM</td>\n",
       "      <td>Afternoon</td>\n",
       "    </tr>\n",
       "    <tr>\n",
       "      <th>3</th>\n",
       "      <td>4</td>\n",
       "      <td>Hit and Run</td>\n",
       "      <td>202500021765</td>\n",
       "      <td>3800</td>\n",
       "      <td>-78.5059997410000000</td>\n",
       "      <td>CPD</td>\n",
       "      <td>1007</td>\n",
       "      <td>Lowry, Ryan</td>\n",
       "      <td>2025-06-24 10:07:07</td>\n",
       "      <td>2025-06-24 10:07:07 AM</td>\n",
       "      <td>Tuesday</td>\n",
       "      <td>False</td>\n",
       "      <td>Summer</td>\n",
       "      <td>10:07 AM</td>\n",
       "      <td>Morning</td>\n",
       "    </tr>\n",
       "    <tr>\n",
       "      <th>4</th>\n",
       "      <td>5</td>\n",
       "      <td>Assault Simple</td>\n",
       "      <td>202500021719</td>\n",
       "      <td>100</td>\n",
       "      <td>W MARKET ST</td>\n",
       "      <td>CPD</td>\n",
       "      <td>0104</td>\n",
       "      <td>Oakes, Maithe</td>\n",
       "      <td>2025-06-24 01:04:32</td>\n",
       "      <td>2025-06-24 01:04:32 AM</td>\n",
       "      <td>Tuesday</td>\n",
       "      <td>False</td>\n",
       "      <td>Summer</td>\n",
       "      <td>01:04 AM</td>\n",
       "      <td>Night</td>\n",
       "    </tr>\n",
       "  </tbody>\n",
       "</table>\n",
       "</div>"
      ],
      "text/plain": [
       "   RecordID             Offense    IncidentID BlockNumber  \\\n",
       "0         1         Hit and Run  202500021800        2000   \n",
       "1         2  Drug Investigation  202500021795         200   \n",
       "2         3  Disorderly Conduct  202500021782         200   \n",
       "3         4         Hit and Run  202500021765        3800   \n",
       "4         5      Assault Simple  202500021719         100   \n",
       "\n",
       "             StreetName Agency HourReported     ReportingOfficer  \\\n",
       "0    JEFFERSON PARK AVE    CPD         1607  Vlasis, Christopher   \n",
       "1            CARLTON RD    CPD         1504         Mian, Ghulam   \n",
       "2              RIDGE ST    CPD         1243   Love-Baker, Sydney   \n",
       "3  -78.5059997410000000    CPD         1007          Lowry, Ryan   \n",
       "4           W MARKET ST    CPD         0104        Oakes, Maithe   \n",
       "\n",
       "                 Date              DateString DayOfWeek  Weekend  Season  \\\n",
       "0 2025-06-24 16:07:49  2025-06-24 04:07:49 PM   Tuesday    False  Summer   \n",
       "1 2025-06-24 15:04:00  2025-06-24 03:04:00 PM   Tuesday    False  Summer   \n",
       "2 2025-06-24 12:43:10  2025-06-24 12:43:10 PM   Tuesday    False  Summer   \n",
       "3 2025-06-24 10:07:07  2025-06-24 10:07:07 AM   Tuesday    False  Summer   \n",
       "4 2025-06-24 01:04:32  2025-06-24 01:04:32 AM   Tuesday    False  Summer   \n",
       "\n",
       "   HourAMPM  TimeOfDay  \n",
       "0  04:07 PM  Afternoon  \n",
       "1  03:04 PM  Afternoon  \n",
       "2  12:43 PM  Afternoon  \n",
       "3  10:07 AM    Morning  \n",
       "4  01:04 AM      Night  "
      ]
     },
     "execution_count": 7,
     "metadata": {},
     "output_type": "execute_result"
    }
   ],
   "source": [
    "def convert_and_categorize_datereported(df, col='DateReported'):\n",
    "    \"\"\"\n",
    "    Converts an epoch (in milliseconds) date column into a timezone-aware datetime,\n",
    "    converts it to Eastern Time, and then creates columns for day-of-week, weekend flag,\n",
    "    season, 12-hour formatted time, and time-of-day. Keeps both a real datetime column\n",
    "    (Date) and a string representation (DateString).\n",
    "    \"\"\"\n",
    "    import pandas as pd\n",
    "\n",
    "    # Convert the epoch timestamp to a pandas datetime object as UTC, then convert to US/Eastern.\n",
    "    df[\"DateReported_dt\"] = (\n",
    "        pd.to_datetime(df[col], unit=\"ms\", errors=\"coerce\", utc=True)\n",
    "        .dt.tz_convert(\"US/Eastern\")\n",
    "    )\n",
    "    \n",
    "    # Create a true datetime column (remove timezone if you prefer naive datetime)\n",
    "    df[\"Date\"] = df[\"DateReported_dt\"].dt.tz_localize(None)\n",
    "\n",
    "    # Optionally, create a separate string-formatted column\n",
    "    df[\"DateString\"] = df[\"DateReported_dt\"].dt.strftime(\"%Y-%m-%d %I:%M:%S %p\")\n",
    "    \n",
    "    # DayOfWeek\n",
    "    df[\"DayOfWeek\"] = df[\"DateReported_dt\"].dt.day_name()\n",
    "    \n",
    "    # Weekend\n",
    "    df[\"Weekend\"] = df[\"DayOfWeek\"].isin([\"Saturday\", \"Sunday\"])\n",
    "    \n",
    "    # Helper function to determine the season\n",
    "    def get_season(dt):\n",
    "        month = dt.month\n",
    "        day = dt.day\n",
    "        # Approximate Northern Hemisphere season boundaries:\n",
    "        if (month == 12 and day >= 21) or (month < 3) or (month == 3 and day < 20):\n",
    "            return \"Winter\"\n",
    "        elif (month == 3 and day >= 20) or (month < 6) or (month == 6 and day < 21):\n",
    "            return \"Spring\"\n",
    "        elif (month == 6 and day >= 21) or (month < 9) or (month == 9 and day < 22):\n",
    "            return \"Summer\"\n",
    "        else:\n",
    "            return \"Autumn\"\n",
    "    \n",
    "    df[\"Season\"] = df[\"DateReported_dt\"].apply(get_season)\n",
    "    \n",
    "    # 12-hour formatted time (HourAMPM)\n",
    "    df[\"HourAMPM\"] = df[\"DateReported_dt\"].dt.strftime(\"%I:%M %p\")\n",
    "    \n",
    "    # Extract hour (0-23) for time-of-day\n",
    "    df[\"HourValue\"] = df[\"DateReported_dt\"].dt.hour\n",
    "    \n",
    "    def time_of_day(hour):\n",
    "        if pd.isnull(hour):\n",
    "            return None\n",
    "        if 5 <= hour < 12:\n",
    "            return \"Morning\"\n",
    "        elif 12 <= hour < 17:\n",
    "            return \"Afternoon\"\n",
    "        elif 17 <= hour < 21:\n",
    "            return \"Evening\"\n",
    "        else:\n",
    "            return \"Night\"\n",
    "    \n",
    "    df[\"TimeOfDay\"] = df[\"HourValue\"].apply(time_of_day)\n",
    "    \n",
    "    # Drop columns you no longer need\n",
    "    df.drop(columns=[col, \"DateReported_dt\", \"HourValue\"], inplace=True)\n",
    "    \n",
    "    return df\n",
    "\n",
    "# Example usage:\n",
    "df = convert_and_categorize_datereported(df)\n",
    "df.head()\n"
   ]
  },
  {
   "cell_type": "code",
   "execution_count": 8,
   "id": "eeb280cd",
   "metadata": {
    "execution": {
     "iopub.execute_input": "2025-06-27T01:06:51.694920Z",
     "iopub.status.busy": "2025-06-27T01:06:51.694407Z",
     "iopub.status.idle": "2025-06-27T01:06:51.726413Z",
     "shell.execute_reply": "2025-06-27T01:06:51.725813Z"
    },
    "papermill": {
     "duration": 0.038076,
     "end_time": "2025-06-27T01:06:51.727432",
     "exception": false,
     "start_time": "2025-06-27T01:06:51.689356",
     "status": "completed"
    },
    "tags": []
   },
   "outputs": [
    {
     "name": "stdout",
     "output_type": "stream",
     "text": [
      "<class 'pandas.core.frame.DataFrame'>\n",
      "RangeIndex: 25538 entries, 0 to 25537\n",
      "Data columns (total 15 columns):\n",
      " #   Column            Non-Null Count  Dtype         \n",
      "---  ------            --------------  -----         \n",
      " 0   RecordID          25538 non-null  int64         \n",
      " 1   Offense           25538 non-null  object        \n",
      " 2   IncidentID        25538 non-null  object        \n",
      " 3   BlockNumber       25538 non-null  object        \n",
      " 4   StreetName        25538 non-null  object        \n",
      " 5   Agency            25538 non-null  object        \n",
      " 6   HourReported      25538 non-null  object        \n",
      " 7   ReportingOfficer  25521 non-null  object        \n",
      " 8   Date              25538 non-null  datetime64[ns]\n",
      " 9   DateString        25538 non-null  object        \n",
      " 10  DayOfWeek         25538 non-null  object        \n",
      " 11  Weekend           25538 non-null  bool          \n",
      " 12  Season            25538 non-null  object        \n",
      " 13  HourAMPM          25538 non-null  object        \n",
      " 14  TimeOfDay         25538 non-null  object        \n",
      "dtypes: bool(1), datetime64[ns](1), int64(1), object(12)\n",
      "memory usage: 2.8+ MB\n"
     ]
    }
   ],
   "source": [
    "df.info()"
   ]
  },
  {
   "cell_type": "markdown",
   "id": "e061d508",
   "metadata": {
    "papermill": {
     "duration": 0.004084,
     "end_time": "2025-06-27T01:06:51.735819",
     "exception": false,
     "start_time": "2025-06-27T01:06:51.731735",
     "status": "completed"
    },
    "tags": []
   },
   "source": [
    "### Coordinates"
   ]
  },
  {
   "cell_type": "code",
   "execution_count": 9,
   "id": "0a22d866",
   "metadata": {
    "execution": {
     "iopub.execute_input": "2025-06-27T01:06:51.745567Z",
     "iopub.status.busy": "2025-06-27T01:06:51.745092Z",
     "iopub.status.idle": "2025-06-27T01:06:51.880934Z",
     "shell.execute_reply": "2025-06-27T01:06:51.880302Z"
    },
    "papermill": {
     "duration": 0.142103,
     "end_time": "2025-06-27T01:06:51.882078",
     "exception": false,
     "start_time": "2025-06-27T01:06:51.739975",
     "status": "completed"
    },
    "tags": []
   },
   "outputs": [
    {
     "name": "stdout",
     "output_type": "stream",
     "text": [
      "Loaded geocode cache.\n",
      "Error geocoding 3800 -78.5059997410000000: REQUEST_DENIED (You must enable Billing on the Google Cloud Project at https://console.cloud.google.com/project/_/billing/enable Learn more at https://developers.google.com/maps/gmp-get-started)\n",
      "Geocoded 3800 -78.5059997410000000: None, None\n",
      "Geocode cache updated and saved.\n"
     ]
    },
    {
     "data": {
      "text/html": [
       "<div>\n",
       "<style scoped>\n",
       "    .dataframe tbody tr th:only-of-type {\n",
       "        vertical-align: middle;\n",
       "    }\n",
       "\n",
       "    .dataframe tbody tr th {\n",
       "        vertical-align: top;\n",
       "    }\n",
       "\n",
       "    .dataframe thead th {\n",
       "        text-align: right;\n",
       "    }\n",
       "</style>\n",
       "<table border=\"1\" class=\"dataframe\">\n",
       "  <thead>\n",
       "    <tr style=\"text-align: right;\">\n",
       "      <th></th>\n",
       "      <th>RecordID</th>\n",
       "      <th>Offense</th>\n",
       "      <th>IncidentID</th>\n",
       "      <th>BlockNumber</th>\n",
       "      <th>StreetName</th>\n",
       "      <th>Agency</th>\n",
       "      <th>HourReported</th>\n",
       "      <th>ReportingOfficer</th>\n",
       "      <th>Date</th>\n",
       "      <th>DateString</th>\n",
       "      <th>DayOfWeek</th>\n",
       "      <th>Weekend</th>\n",
       "      <th>Season</th>\n",
       "      <th>HourAMPM</th>\n",
       "      <th>TimeOfDay</th>\n",
       "      <th>FullStreet</th>\n",
       "      <th>lat</th>\n",
       "      <th>lon</th>\n",
       "    </tr>\n",
       "  </thead>\n",
       "  <tbody>\n",
       "    <tr>\n",
       "      <th>0</th>\n",
       "      <td>1</td>\n",
       "      <td>Hit and Run</td>\n",
       "      <td>202500021800</td>\n",
       "      <td>2000</td>\n",
       "      <td>JEFFERSON PARK AVE</td>\n",
       "      <td>CPD</td>\n",
       "      <td>1607</td>\n",
       "      <td>Vlasis, Christopher</td>\n",
       "      <td>2025-06-24 16:07:49</td>\n",
       "      <td>2025-06-24 04:07:49 PM</td>\n",
       "      <td>Tuesday</td>\n",
       "      <td>False</td>\n",
       "      <td>Summer</td>\n",
       "      <td>04:07 PM</td>\n",
       "      <td>Afternoon</td>\n",
       "      <td>2000 JEFFERSON PARK AVE</td>\n",
       "      <td>38.026506</td>\n",
       "      <td>-78.512728</td>\n",
       "    </tr>\n",
       "    <tr>\n",
       "      <th>1</th>\n",
       "      <td>2</td>\n",
       "      <td>Drug Investigation</td>\n",
       "      <td>202500021795</td>\n",
       "      <td>200</td>\n",
       "      <td>CARLTON RD</td>\n",
       "      <td>CPD</td>\n",
       "      <td>1504</td>\n",
       "      <td>Mian, Ghulam</td>\n",
       "      <td>2025-06-24 15:04:00</td>\n",
       "      <td>2025-06-24 03:04:00 PM</td>\n",
       "      <td>Tuesday</td>\n",
       "      <td>False</td>\n",
       "      <td>Summer</td>\n",
       "      <td>03:04 PM</td>\n",
       "      <td>Afternoon</td>\n",
       "      <td>200 CARLTON RD</td>\n",
       "      <td>38.023631</td>\n",
       "      <td>-78.468700</td>\n",
       "    </tr>\n",
       "    <tr>\n",
       "      <th>2</th>\n",
       "      <td>3</td>\n",
       "      <td>Disorderly Conduct</td>\n",
       "      <td>202500021782</td>\n",
       "      <td>200</td>\n",
       "      <td>RIDGE ST</td>\n",
       "      <td>CPD</td>\n",
       "      <td>1243</td>\n",
       "      <td>Love-Baker, Sydney</td>\n",
       "      <td>2025-06-24 12:43:10</td>\n",
       "      <td>2025-06-24 12:43:10 PM</td>\n",
       "      <td>Tuesday</td>\n",
       "      <td>False</td>\n",
       "      <td>Summer</td>\n",
       "      <td>12:43 PM</td>\n",
       "      <td>Afternoon</td>\n",
       "      <td>200 RIDGE ST</td>\n",
       "      <td>38.029522</td>\n",
       "      <td>-78.485560</td>\n",
       "    </tr>\n",
       "    <tr>\n",
       "      <th>3</th>\n",
       "      <td>4</td>\n",
       "      <td>Hit and Run</td>\n",
       "      <td>202500021765</td>\n",
       "      <td>3800</td>\n",
       "      <td>-78.5059997410000000</td>\n",
       "      <td>CPD</td>\n",
       "      <td>1007</td>\n",
       "      <td>Lowry, Ryan</td>\n",
       "      <td>2025-06-24 10:07:07</td>\n",
       "      <td>2025-06-24 10:07:07 AM</td>\n",
       "      <td>Tuesday</td>\n",
       "      <td>False</td>\n",
       "      <td>Summer</td>\n",
       "      <td>10:07 AM</td>\n",
       "      <td>Morning</td>\n",
       "      <td>3800 -78.5059997410000000</td>\n",
       "      <td>NaN</td>\n",
       "      <td>NaN</td>\n",
       "    </tr>\n",
       "    <tr>\n",
       "      <th>4</th>\n",
       "      <td>5</td>\n",
       "      <td>Assault Simple</td>\n",
       "      <td>202500021719</td>\n",
       "      <td>100</td>\n",
       "      <td>W MARKET ST</td>\n",
       "      <td>CPD</td>\n",
       "      <td>0104</td>\n",
       "      <td>Oakes, Maithe</td>\n",
       "      <td>2025-06-24 01:04:32</td>\n",
       "      <td>2025-06-24 01:04:32 AM</td>\n",
       "      <td>Tuesday</td>\n",
       "      <td>False</td>\n",
       "      <td>Summer</td>\n",
       "      <td>01:04 AM</td>\n",
       "      <td>Night</td>\n",
       "      <td>100 W MARKET ST</td>\n",
       "      <td>38.031964</td>\n",
       "      <td>-78.482537</td>\n",
       "    </tr>\n",
       "  </tbody>\n",
       "</table>\n",
       "</div>"
      ],
      "text/plain": [
       "   RecordID             Offense    IncidentID BlockNumber  \\\n",
       "0         1         Hit and Run  202500021800        2000   \n",
       "1         2  Drug Investigation  202500021795         200   \n",
       "2         3  Disorderly Conduct  202500021782         200   \n",
       "3         4         Hit and Run  202500021765        3800   \n",
       "4         5      Assault Simple  202500021719         100   \n",
       "\n",
       "             StreetName Agency HourReported     ReportingOfficer  \\\n",
       "0    JEFFERSON PARK AVE    CPD         1607  Vlasis, Christopher   \n",
       "1            CARLTON RD    CPD         1504         Mian, Ghulam   \n",
       "2              RIDGE ST    CPD         1243   Love-Baker, Sydney   \n",
       "3  -78.5059997410000000    CPD         1007          Lowry, Ryan   \n",
       "4           W MARKET ST    CPD         0104        Oakes, Maithe   \n",
       "\n",
       "                 Date              DateString DayOfWeek  Weekend  Season  \\\n",
       "0 2025-06-24 16:07:49  2025-06-24 04:07:49 PM   Tuesday    False  Summer   \n",
       "1 2025-06-24 15:04:00  2025-06-24 03:04:00 PM   Tuesday    False  Summer   \n",
       "2 2025-06-24 12:43:10  2025-06-24 12:43:10 PM   Tuesday    False  Summer   \n",
       "3 2025-06-24 10:07:07  2025-06-24 10:07:07 AM   Tuesday    False  Summer   \n",
       "4 2025-06-24 01:04:32  2025-06-24 01:04:32 AM   Tuesday    False  Summer   \n",
       "\n",
       "   HourAMPM  TimeOfDay                 FullStreet        lat        lon  \n",
       "0  04:07 PM  Afternoon    2000 JEFFERSON PARK AVE  38.026506 -78.512728  \n",
       "1  03:04 PM  Afternoon             200 CARLTON RD  38.023631 -78.468700  \n",
       "2  12:43 PM  Afternoon               200 RIDGE ST  38.029522 -78.485560  \n",
       "3  10:07 AM    Morning  3800 -78.5059997410000000        NaN        NaN  \n",
       "4  01:04 AM      Night            100 W MARKET ST  38.031964 -78.482537  "
      ]
     },
     "execution_count": 9,
     "metadata": {},
     "output_type": "execute_result"
    }
   ],
   "source": [
    "# Combine BlockNumber and StreetName into a full address string\n",
    "df['FullStreet'] = df['BlockNumber'].astype(str) + \" \" + df['StreetName']\n",
    "\n",
    "# --- Step 1: Setup the Google Maps Client and Cache ---\n",
    "gmaps = googlemaps.Client(key=GOOGLE_API_KEY)\n",
    "\n",
    "# Try to load cached geocoding results if available.\n",
    "try:\n",
    "    with open(\"geocode_cache_google.pkl\", \"rb\") as f:\n",
    "        street_coords = pickle.load(f)\n",
    "    print(\"Loaded geocode cache.\")\n",
    "except FileNotFoundError:\n",
    "    street_coords = {}\n",
    "    print(\"No cache found; starting fresh.\")\n",
    "\n",
    "def geocode_address(address):\n",
    "    try:\n",
    "        # Append city and state to help geocoding\n",
    "        result = gmaps.geocode(f\"{address}, Charlottesville, VA\")\n",
    "        if result:\n",
    "            lat = result[0]['geometry']['location']['lat']\n",
    "            lon = result[0]['geometry']['location']['lng']\n",
    "            return lat, lon\n",
    "    except Exception as e:\n",
    "        print(f\"Error geocoding {address}: {e}\")\n",
    "    return None, None\n",
    "\n",
    "# --- Step 2: Geocode Only New Addresses ---\n",
    "unique_addresses = df['FullStreet'].unique()\n",
    "for address in unique_addresses:\n",
    "    if address not in street_coords:\n",
    "        lat, lon = geocode_address(address)\n",
    "        street_coords[address] = (lat, lon)\n",
    "        print(f\"Geocoded {address}: {lat}, {lon}\")\n",
    "\n",
    "# Save the updated cache to disk.\n",
    "with open(\"geocode_cache_google.pkl\", \"wb\") as f:\n",
    "    pickle.dump(street_coords, f)\n",
    "    print(\"Geocode cache updated and saved.\")\n",
    "\n",
    "# --- Step 3: Map Coordinates Back to DataFrame ---\n",
    "df['lat'] = df['FullStreet'].map(lambda s: street_coords.get(s, (None, None))[0])\n",
    "df['lon'] = df['FullStreet'].map(lambda s: street_coords.get(s, (None, None))[1])\n",
    "\n",
    "df.head()"
   ]
  },
  {
   "cell_type": "markdown",
   "id": "3fdf3828",
   "metadata": {
    "papermill": {
     "duration": 0.0045,
     "end_time": "2025-06-27T01:06:51.891417",
     "exception": false,
     "start_time": "2025-06-27T01:06:51.886917",
     "status": "completed"
    },
    "tags": []
   },
   "source": [
    "### Neighborhood"
   ]
  },
  {
   "cell_type": "code",
   "execution_count": 10,
   "id": "0a96209d",
   "metadata": {
    "execution": {
     "iopub.execute_input": "2025-06-27T01:06:51.901436Z",
     "iopub.status.busy": "2025-06-27T01:06:51.901108Z",
     "iopub.status.idle": "2025-06-27T01:06:53.100429Z",
     "shell.execute_reply": "2025-06-27T01:06:53.099706Z"
    },
    "papermill": {
     "duration": 1.205573,
     "end_time": "2025-06-27T01:06:53.101574",
     "exception": false,
     "start_time": "2025-06-27T01:06:51.896001",
     "status": "completed"
    },
    "tags": []
   },
   "outputs": [
    {
     "name": "stdout",
     "output_type": "stream",
     "text": [
      "Loaded neighborhood cache.\n"
     ]
    },
    {
     "name": "stdout",
     "output_type": "stream",
     "text": [
      "Error getting neighborhood for nan, nan: HTTP Error: 400\n",
      "Error getting neighborhood for nan, nan: HTTP Error: 400\n",
      "Error getting neighborhood for nan, nan: HTTP Error: 400\n"
     ]
    },
    {
     "name": "stdout",
     "output_type": "stream",
     "text": [
      "Error getting neighborhood for nan, nan: HTTP Error: 400\n",
      "Error getting neighborhood for nan, nan: HTTP Error: 400\n",
      "Error getting neighborhood for nan, nan: HTTP Error: 400\n"
     ]
    },
    {
     "name": "stdout",
     "output_type": "stream",
     "text": [
      "Error getting neighborhood for nan, nan: HTTP Error: 400\n",
      "Error getting neighborhood for nan, nan: HTTP Error: 400\n",
      "Error getting neighborhood for nan, nan: HTTP Error: 400\n",
      "Error getting neighborhood for nan, nan: HTTP Error: 400\n"
     ]
    },
    {
     "name": "stdout",
     "output_type": "stream",
     "text": [
      "Error getting neighborhood for nan, nan: HTTP Error: 400\n",
      "Error getting neighborhood for nan, nan: HTTP Error: 400\n",
      "Error getting neighborhood for nan, nan: HTTP Error: 400\n",
      "Error getting neighborhood for nan, nan: HTTP Error: 400\n"
     ]
    },
    {
     "name": "stdout",
     "output_type": "stream",
     "text": [
      "Error getting neighborhood for nan, nan: HTTP Error: 400\n",
      "Error getting neighborhood for nan, nan: HTTP Error: 400\n",
      "Error getting neighborhood for nan, nan: HTTP Error: 400\n",
      "Error getting neighborhood for nan, nan: HTTP Error: 400\n"
     ]
    },
    {
     "name": "stdout",
     "output_type": "stream",
     "text": [
      "Error getting neighborhood for nan, nan: HTTP Error: 400\n",
      "Error getting neighborhood for nan, nan: HTTP Error: 400\n",
      "Error getting neighborhood for nan, nan: HTTP Error: 400\n",
      "Error getting neighborhood for nan, nan: HTTP Error: 400\n"
     ]
    },
    {
     "name": "stdout",
     "output_type": "stream",
     "text": [
      "Error getting neighborhood for nan, nan: HTTP Error: 400\n",
      "Error getting neighborhood for nan, nan: HTTP Error: 400\n",
      "Error getting neighborhood for nan, nan: HTTP Error: 400\n",
      "Error getting neighborhood for nan, nan: HTTP Error: 400\n"
     ]
    },
    {
     "name": "stdout",
     "output_type": "stream",
     "text": [
      "Error getting neighborhood for nan, nan: HTTP Error: 400\n",
      "Error getting neighborhood for nan, nan: HTTP Error: 400\n",
      "Error getting neighborhood for nan, nan: HTTP Error: 400\n",
      "Error getting neighborhood for nan, nan: HTTP Error: 400\n"
     ]
    },
    {
     "name": "stdout",
     "output_type": "stream",
     "text": [
      "Error getting neighborhood for nan, nan: HTTP Error: 400\n"
     ]
    },
    {
     "data": {
      "text/html": [
       "<div>\n",
       "<style scoped>\n",
       "    .dataframe tbody tr th:only-of-type {\n",
       "        vertical-align: middle;\n",
       "    }\n",
       "\n",
       "    .dataframe tbody tr th {\n",
       "        vertical-align: top;\n",
       "    }\n",
       "\n",
       "    .dataframe thead th {\n",
       "        text-align: right;\n",
       "    }\n",
       "</style>\n",
       "<table border=\"1\" class=\"dataframe\">\n",
       "  <thead>\n",
       "    <tr style=\"text-align: right;\">\n",
       "      <th></th>\n",
       "      <th>RecordID</th>\n",
       "      <th>Offense</th>\n",
       "      <th>IncidentID</th>\n",
       "      <th>BlockNumber</th>\n",
       "      <th>StreetName</th>\n",
       "      <th>Agency</th>\n",
       "      <th>HourReported</th>\n",
       "      <th>ReportingOfficer</th>\n",
       "      <th>Date</th>\n",
       "      <th>DateString</th>\n",
       "      <th>DayOfWeek</th>\n",
       "      <th>Weekend</th>\n",
       "      <th>Season</th>\n",
       "      <th>HourAMPM</th>\n",
       "      <th>TimeOfDay</th>\n",
       "      <th>FullStreet</th>\n",
       "      <th>lat</th>\n",
       "      <th>lon</th>\n",
       "      <th>neighborhood</th>\n",
       "    </tr>\n",
       "  </thead>\n",
       "  <tbody>\n",
       "    <tr>\n",
       "      <th>0</th>\n",
       "      <td>1</td>\n",
       "      <td>Hit and Run</td>\n",
       "      <td>202500021800</td>\n",
       "      <td>2000</td>\n",
       "      <td>JEFFERSON PARK AVE</td>\n",
       "      <td>CPD</td>\n",
       "      <td>1607</td>\n",
       "      <td>Vlasis, Christopher</td>\n",
       "      <td>2025-06-24 16:07:49</td>\n",
       "      <td>2025-06-24 04:07:49 PM</td>\n",
       "      <td>Tuesday</td>\n",
       "      <td>False</td>\n",
       "      <td>Summer</td>\n",
       "      <td>04:07 PM</td>\n",
       "      <td>Afternoon</td>\n",
       "      <td>2000 JEFFERSON PARK AVE</td>\n",
       "      <td>38.026506</td>\n",
       "      <td>-78.512728</td>\n",
       "      <td>Jefferson Park Avenue</td>\n",
       "    </tr>\n",
       "    <tr>\n",
       "      <th>1</th>\n",
       "      <td>2</td>\n",
       "      <td>Drug Investigation</td>\n",
       "      <td>202500021795</td>\n",
       "      <td>200</td>\n",
       "      <td>CARLTON RD</td>\n",
       "      <td>CPD</td>\n",
       "      <td>1504</td>\n",
       "      <td>Mian, Ghulam</td>\n",
       "      <td>2025-06-24 15:04:00</td>\n",
       "      <td>2025-06-24 03:04:00 PM</td>\n",
       "      <td>Tuesday</td>\n",
       "      <td>False</td>\n",
       "      <td>Summer</td>\n",
       "      <td>03:04 PM</td>\n",
       "      <td>Afternoon</td>\n",
       "      <td>200 CARLTON RD</td>\n",
       "      <td>38.023631</td>\n",
       "      <td>-78.468700</td>\n",
       "      <td>Belmont</td>\n",
       "    </tr>\n",
       "    <tr>\n",
       "      <th>2</th>\n",
       "      <td>3</td>\n",
       "      <td>Disorderly Conduct</td>\n",
       "      <td>202500021782</td>\n",
       "      <td>200</td>\n",
       "      <td>RIDGE ST</td>\n",
       "      <td>CPD</td>\n",
       "      <td>1243</td>\n",
       "      <td>Love-Baker, Sydney</td>\n",
       "      <td>2025-06-24 12:43:10</td>\n",
       "      <td>2025-06-24 12:43:10 PM</td>\n",
       "      <td>Tuesday</td>\n",
       "      <td>False</td>\n",
       "      <td>Summer</td>\n",
       "      <td>12:43 PM</td>\n",
       "      <td>Afternoon</td>\n",
       "      <td>200 RIDGE ST</td>\n",
       "      <td>38.029522</td>\n",
       "      <td>-78.485560</td>\n",
       "      <td>Fifeville</td>\n",
       "    </tr>\n",
       "    <tr>\n",
       "      <th>3</th>\n",
       "      <td>4</td>\n",
       "      <td>Hit and Run</td>\n",
       "      <td>202500021765</td>\n",
       "      <td>3800</td>\n",
       "      <td>-78.5059997410000000</td>\n",
       "      <td>CPD</td>\n",
       "      <td>1007</td>\n",
       "      <td>Lowry, Ryan</td>\n",
       "      <td>2025-06-24 10:07:07</td>\n",
       "      <td>2025-06-24 10:07:07 AM</td>\n",
       "      <td>Tuesday</td>\n",
       "      <td>False</td>\n",
       "      <td>Summer</td>\n",
       "      <td>10:07 AM</td>\n",
       "      <td>Morning</td>\n",
       "      <td>3800 -78.5059997410000000</td>\n",
       "      <td>NaN</td>\n",
       "      <td>NaN</td>\n",
       "      <td>N/A</td>\n",
       "    </tr>\n",
       "    <tr>\n",
       "      <th>4</th>\n",
       "      <td>5</td>\n",
       "      <td>Assault Simple</td>\n",
       "      <td>202500021719</td>\n",
       "      <td>100</td>\n",
       "      <td>W MARKET ST</td>\n",
       "      <td>CPD</td>\n",
       "      <td>0104</td>\n",
       "      <td>Oakes, Maithe</td>\n",
       "      <td>2025-06-24 01:04:32</td>\n",
       "      <td>2025-06-24 01:04:32 AM</td>\n",
       "      <td>Tuesday</td>\n",
       "      <td>False</td>\n",
       "      <td>Summer</td>\n",
       "      <td>01:04 AM</td>\n",
       "      <td>Night</td>\n",
       "      <td>100 W MARKET ST</td>\n",
       "      <td>38.031964</td>\n",
       "      <td>-78.482537</td>\n",
       "      <td>Downtown Mall</td>\n",
       "    </tr>\n",
       "  </tbody>\n",
       "</table>\n",
       "</div>"
      ],
      "text/plain": [
       "   RecordID             Offense    IncidentID BlockNumber  \\\n",
       "0         1         Hit and Run  202500021800        2000   \n",
       "1         2  Drug Investigation  202500021795         200   \n",
       "2         3  Disorderly Conduct  202500021782         200   \n",
       "3         4         Hit and Run  202500021765        3800   \n",
       "4         5      Assault Simple  202500021719         100   \n",
       "\n",
       "             StreetName Agency HourReported     ReportingOfficer  \\\n",
       "0    JEFFERSON PARK AVE    CPD         1607  Vlasis, Christopher   \n",
       "1            CARLTON RD    CPD         1504         Mian, Ghulam   \n",
       "2              RIDGE ST    CPD         1243   Love-Baker, Sydney   \n",
       "3  -78.5059997410000000    CPD         1007          Lowry, Ryan   \n",
       "4           W MARKET ST    CPD         0104        Oakes, Maithe   \n",
       "\n",
       "                 Date              DateString DayOfWeek  Weekend  Season  \\\n",
       "0 2025-06-24 16:07:49  2025-06-24 04:07:49 PM   Tuesday    False  Summer   \n",
       "1 2025-06-24 15:04:00  2025-06-24 03:04:00 PM   Tuesday    False  Summer   \n",
       "2 2025-06-24 12:43:10  2025-06-24 12:43:10 PM   Tuesday    False  Summer   \n",
       "3 2025-06-24 10:07:07  2025-06-24 10:07:07 AM   Tuesday    False  Summer   \n",
       "4 2025-06-24 01:04:32  2025-06-24 01:04:32 AM   Tuesday    False  Summer   \n",
       "\n",
       "   HourAMPM  TimeOfDay                 FullStreet        lat        lon  \\\n",
       "0  04:07 PM  Afternoon    2000 JEFFERSON PARK AVE  38.026506 -78.512728   \n",
       "1  03:04 PM  Afternoon             200 CARLTON RD  38.023631 -78.468700   \n",
       "2  12:43 PM  Afternoon               200 RIDGE ST  38.029522 -78.485560   \n",
       "3  10:07 AM    Morning  3800 -78.5059997410000000        NaN        NaN   \n",
       "4  01:04 AM      Night            100 W MARKET ST  38.031964 -78.482537   \n",
       "\n",
       "            neighborhood  \n",
       "0  Jefferson Park Avenue  \n",
       "1                Belmont  \n",
       "2              Fifeville  \n",
       "3                    N/A  \n",
       "4          Downtown Mall  "
      ]
     },
     "execution_count": 10,
     "metadata": {},
     "output_type": "execute_result"
    }
   ],
   "source": [
    "# Initialize the Google Maps client.\n",
    "gmaps = googlemaps.Client(key=GOOGLE_API_KEY)\n",
    "\n",
    "# Try to load a persistent neighborhood cache if available.\n",
    "try:\n",
    "    with open(\"neighborhood_cache.pkl\", \"rb\") as f:\n",
    "        neighborhood_cache = pickle.load(f)\n",
    "    print(\"Loaded neighborhood cache.\")\n",
    "except FileNotFoundError:\n",
    "    neighborhood_cache = {}\n",
    "    print(\"No neighborhood cache found; starting fresh.\")\n",
    "\n",
    "def get_neighborhood(lat, lon):\n",
    "    \"\"\"\n",
    "    Reverse geocodes a latitude and longitude to retrieve the neighborhood.\n",
    "    Caches results to speed up subsequent lookups.\n",
    "    \"\"\"\n",
    "    key = (lat, lon)\n",
    "    if key in neighborhood_cache:\n",
    "        return neighborhood_cache[key]\n",
    "    \n",
    "    try:\n",
    "        result = gmaps.reverse_geocode((lat, lon))\n",
    "        if result:\n",
    "            # Look for the 'neighborhood' component in the first result.\n",
    "            for component in result[0]['address_components']:\n",
    "                if 'neighborhood' in component['types']:\n",
    "                    neighborhood = component['long_name']\n",
    "                    neighborhood_cache[key] = neighborhood\n",
    "                    return neighborhood\n",
    "            # If no neighborhood is found, return \"N/A\"\n",
    "            neighborhood_cache[key] = \"N/A\"\n",
    "            return \"N/A\"\n",
    "    except Exception as e:\n",
    "        print(f\"Error getting neighborhood for {lat}, {lon}: {e}\")\n",
    "        return \"N/A\"\n",
    "    \n",
    "    # Pause to respect usage limits.\n",
    "    time.sleep(1)\n",
    "\n",
    "# Example usage: Apply to your DataFrame 'df' that already has 'lat' and 'lon' columns.\n",
    "df['neighborhood'] = df.apply(lambda row: get_neighborhood(row['lat'], row['lon']), axis=1)\n",
    "\n",
    "# Save the updated neighborhood cache.\n",
    "with open(\"neighborhood_cache.pkl\", \"wb\") as f:\n",
    "    pickle.dump(neighborhood_cache, f)\n",
    "\n",
    "df.head()\n"
   ]
  },
  {
   "cell_type": "markdown",
   "id": "beb59a9f",
   "metadata": {
    "papermill": {
     "duration": 0.005056,
     "end_time": "2025-06-27T01:06:53.112207",
     "exception": false,
     "start_time": "2025-06-27T01:06:53.107151",
     "status": "completed"
    },
    "tags": []
   },
   "source": [
    "### Zip"
   ]
  },
  {
   "cell_type": "code",
   "execution_count": 11,
   "id": "1ac3e376",
   "metadata": {
    "execution": {
     "iopub.execute_input": "2025-06-27T01:06:53.123767Z",
     "iopub.status.busy": "2025-06-27T01:06:53.123078Z",
     "iopub.status.idle": "2025-06-27T01:07:24.412576Z",
     "shell.execute_reply": "2025-06-27T01:07:24.411956Z"
    },
    "papermill": {
     "duration": 31.296353,
     "end_time": "2025-06-27T01:07:24.413613",
     "exception": false,
     "start_time": "2025-06-27T01:06:53.117260",
     "status": "completed"
    },
    "tags": []
   },
   "outputs": [
    {
     "name": "stdout",
     "output_type": "stream",
     "text": [
      "Loaded zip cache.\n",
      "Error getting ZIP for nan, nan: Must be a coordinate pair or Point\n"
     ]
    },
    {
     "name": "stdout",
     "output_type": "stream",
     "text": [
      "Error getting ZIP for nan, nan: Must be a coordinate pair or Point\n"
     ]
    },
    {
     "name": "stdout",
     "output_type": "stream",
     "text": [
      "Error getting ZIP for nan, nan: Must be a coordinate pair or Point\n"
     ]
    },
    {
     "name": "stdout",
     "output_type": "stream",
     "text": [
      "Error getting ZIP for nan, nan: Must be a coordinate pair or Point\n"
     ]
    },
    {
     "name": "stdout",
     "output_type": "stream",
     "text": [
      "Error getting ZIP for nan, nan: Must be a coordinate pair or Point\n"
     ]
    },
    {
     "name": "stdout",
     "output_type": "stream",
     "text": [
      "Error getting ZIP for nan, nan: Must be a coordinate pair or Point\n"
     ]
    },
    {
     "name": "stdout",
     "output_type": "stream",
     "text": [
      "Error getting ZIP for nan, nan: Must be a coordinate pair or Point\n"
     ]
    },
    {
     "name": "stdout",
     "output_type": "stream",
     "text": [
      "Error getting ZIP for nan, nan: Must be a coordinate pair or Point\n"
     ]
    },
    {
     "name": "stdout",
     "output_type": "stream",
     "text": [
      "Error getting ZIP for nan, nan: Must be a coordinate pair or Point\n"
     ]
    },
    {
     "name": "stdout",
     "output_type": "stream",
     "text": [
      "Error getting ZIP for nan, nan: Must be a coordinate pair or Point\n"
     ]
    },
    {
     "name": "stdout",
     "output_type": "stream",
     "text": [
      "Error getting ZIP for nan, nan: Must be a coordinate pair or Point\n"
     ]
    },
    {
     "name": "stdout",
     "output_type": "stream",
     "text": [
      "Error getting ZIP for nan, nan: Must be a coordinate pair or Point\n"
     ]
    },
    {
     "name": "stdout",
     "output_type": "stream",
     "text": [
      "Error getting ZIP for nan, nan: Must be a coordinate pair or Point\n"
     ]
    },
    {
     "name": "stdout",
     "output_type": "stream",
     "text": [
      "Error getting ZIP for nan, nan: Must be a coordinate pair or Point\n"
     ]
    },
    {
     "name": "stdout",
     "output_type": "stream",
     "text": [
      "Error getting ZIP for nan, nan: Must be a coordinate pair or Point\n"
     ]
    },
    {
     "name": "stdout",
     "output_type": "stream",
     "text": [
      "Error getting ZIP for nan, nan: Must be a coordinate pair or Point\n"
     ]
    },
    {
     "name": "stdout",
     "output_type": "stream",
     "text": [
      "Error getting ZIP for nan, nan: Must be a coordinate pair or Point\n"
     ]
    },
    {
     "name": "stdout",
     "output_type": "stream",
     "text": [
      "Error getting ZIP for nan, nan: Must be a coordinate pair or Point\n"
     ]
    },
    {
     "name": "stdout",
     "output_type": "stream",
     "text": [
      "Error getting ZIP for nan, nan: Must be a coordinate pair or Point\n"
     ]
    },
    {
     "name": "stdout",
     "output_type": "stream",
     "text": [
      "Error getting ZIP for nan, nan: Must be a coordinate pair or Point\n"
     ]
    },
    {
     "name": "stdout",
     "output_type": "stream",
     "text": [
      "Error getting ZIP for nan, nan: Must be a coordinate pair or Point\n"
     ]
    },
    {
     "name": "stdout",
     "output_type": "stream",
     "text": [
      "Error getting ZIP for nan, nan: Must be a coordinate pair or Point\n"
     ]
    },
    {
     "name": "stdout",
     "output_type": "stream",
     "text": [
      "Error getting ZIP for nan, nan: Must be a coordinate pair or Point\n"
     ]
    },
    {
     "name": "stdout",
     "output_type": "stream",
     "text": [
      "Error getting ZIP for nan, nan: Must be a coordinate pair or Point\n"
     ]
    },
    {
     "name": "stdout",
     "output_type": "stream",
     "text": [
      "Error getting ZIP for nan, nan: Must be a coordinate pair or Point\n"
     ]
    },
    {
     "name": "stdout",
     "output_type": "stream",
     "text": [
      "Error getting ZIP for nan, nan: Must be a coordinate pair or Point\n"
     ]
    },
    {
     "name": "stdout",
     "output_type": "stream",
     "text": [
      "Error getting ZIP for nan, nan: Must be a coordinate pair or Point\n"
     ]
    },
    {
     "name": "stdout",
     "output_type": "stream",
     "text": [
      "Error getting ZIP for nan, nan: Must be a coordinate pair or Point\n"
     ]
    },
    {
     "name": "stdout",
     "output_type": "stream",
     "text": [
      "Error getting ZIP for nan, nan: Must be a coordinate pair or Point\n"
     ]
    },
    {
     "name": "stdout",
     "output_type": "stream",
     "text": [
      "Error getting ZIP for nan, nan: Must be a coordinate pair or Point\n"
     ]
    },
    {
     "name": "stdout",
     "output_type": "stream",
     "text": [
      "Error getting ZIP for nan, nan: Must be a coordinate pair or Point\n"
     ]
    },
    {
     "data": {
      "text/html": [
       "<div>\n",
       "<style scoped>\n",
       "    .dataframe tbody tr th:only-of-type {\n",
       "        vertical-align: middle;\n",
       "    }\n",
       "\n",
       "    .dataframe tbody tr th {\n",
       "        vertical-align: top;\n",
       "    }\n",
       "\n",
       "    .dataframe thead th {\n",
       "        text-align: right;\n",
       "    }\n",
       "</style>\n",
       "<table border=\"1\" class=\"dataframe\">\n",
       "  <thead>\n",
       "    <tr style=\"text-align: right;\">\n",
       "      <th></th>\n",
       "      <th>RecordID</th>\n",
       "      <th>Offense</th>\n",
       "      <th>IncidentID</th>\n",
       "      <th>BlockNumber</th>\n",
       "      <th>StreetName</th>\n",
       "      <th>Agency</th>\n",
       "      <th>HourReported</th>\n",
       "      <th>ReportingOfficer</th>\n",
       "      <th>Date</th>\n",
       "      <th>DateString</th>\n",
       "      <th>DayOfWeek</th>\n",
       "      <th>Weekend</th>\n",
       "      <th>Season</th>\n",
       "      <th>HourAMPM</th>\n",
       "      <th>TimeOfDay</th>\n",
       "      <th>FullStreet</th>\n",
       "      <th>lat</th>\n",
       "      <th>lon</th>\n",
       "      <th>neighborhood</th>\n",
       "      <th>zip</th>\n",
       "    </tr>\n",
       "  </thead>\n",
       "  <tbody>\n",
       "    <tr>\n",
       "      <th>0</th>\n",
       "      <td>1</td>\n",
       "      <td>Hit and Run</td>\n",
       "      <td>202500021800</td>\n",
       "      <td>2000</td>\n",
       "      <td>JEFFERSON PARK AVE</td>\n",
       "      <td>CPD</td>\n",
       "      <td>1607</td>\n",
       "      <td>Vlasis, Christopher</td>\n",
       "      <td>2025-06-24 16:07:49</td>\n",
       "      <td>2025-06-24 04:07:49 PM</td>\n",
       "      <td>Tuesday</td>\n",
       "      <td>False</td>\n",
       "      <td>Summer</td>\n",
       "      <td>04:07 PM</td>\n",
       "      <td>Afternoon</td>\n",
       "      <td>2000 JEFFERSON PARK AVE</td>\n",
       "      <td>38.026506</td>\n",
       "      <td>-78.512728</td>\n",
       "      <td>Jefferson Park Avenue</td>\n",
       "      <td>22903</td>\n",
       "    </tr>\n",
       "    <tr>\n",
       "      <th>1</th>\n",
       "      <td>2</td>\n",
       "      <td>Drug Investigation</td>\n",
       "      <td>202500021795</td>\n",
       "      <td>200</td>\n",
       "      <td>CARLTON RD</td>\n",
       "      <td>CPD</td>\n",
       "      <td>1504</td>\n",
       "      <td>Mian, Ghulam</td>\n",
       "      <td>2025-06-24 15:04:00</td>\n",
       "      <td>2025-06-24 03:04:00 PM</td>\n",
       "      <td>Tuesday</td>\n",
       "      <td>False</td>\n",
       "      <td>Summer</td>\n",
       "      <td>03:04 PM</td>\n",
       "      <td>Afternoon</td>\n",
       "      <td>200 CARLTON RD</td>\n",
       "      <td>38.023631</td>\n",
       "      <td>-78.468700</td>\n",
       "      <td>Belmont</td>\n",
       "      <td>22902</td>\n",
       "    </tr>\n",
       "    <tr>\n",
       "      <th>2</th>\n",
       "      <td>3</td>\n",
       "      <td>Disorderly Conduct</td>\n",
       "      <td>202500021782</td>\n",
       "      <td>200</td>\n",
       "      <td>RIDGE ST</td>\n",
       "      <td>CPD</td>\n",
       "      <td>1243</td>\n",
       "      <td>Love-Baker, Sydney</td>\n",
       "      <td>2025-06-24 12:43:10</td>\n",
       "      <td>2025-06-24 12:43:10 PM</td>\n",
       "      <td>Tuesday</td>\n",
       "      <td>False</td>\n",
       "      <td>Summer</td>\n",
       "      <td>12:43 PM</td>\n",
       "      <td>Afternoon</td>\n",
       "      <td>200 RIDGE ST</td>\n",
       "      <td>38.029522</td>\n",
       "      <td>-78.485560</td>\n",
       "      <td>Fifeville</td>\n",
       "      <td>22902</td>\n",
       "    </tr>\n",
       "    <tr>\n",
       "      <th>3</th>\n",
       "      <td>4</td>\n",
       "      <td>Hit and Run</td>\n",
       "      <td>202500021765</td>\n",
       "      <td>3800</td>\n",
       "      <td>-78.5059997410000000</td>\n",
       "      <td>CPD</td>\n",
       "      <td>1007</td>\n",
       "      <td>Lowry, Ryan</td>\n",
       "      <td>2025-06-24 10:07:07</td>\n",
       "      <td>2025-06-24 10:07:07 AM</td>\n",
       "      <td>Tuesday</td>\n",
       "      <td>False</td>\n",
       "      <td>Summer</td>\n",
       "      <td>10:07 AM</td>\n",
       "      <td>Morning</td>\n",
       "      <td>3800 -78.5059997410000000</td>\n",
       "      <td>NaN</td>\n",
       "      <td>NaN</td>\n",
       "      <td>N/A</td>\n",
       "      <td>N/A</td>\n",
       "    </tr>\n",
       "    <tr>\n",
       "      <th>4</th>\n",
       "      <td>5</td>\n",
       "      <td>Assault Simple</td>\n",
       "      <td>202500021719</td>\n",
       "      <td>100</td>\n",
       "      <td>W MARKET ST</td>\n",
       "      <td>CPD</td>\n",
       "      <td>0104</td>\n",
       "      <td>Oakes, Maithe</td>\n",
       "      <td>2025-06-24 01:04:32</td>\n",
       "      <td>2025-06-24 01:04:32 AM</td>\n",
       "      <td>Tuesday</td>\n",
       "      <td>False</td>\n",
       "      <td>Summer</td>\n",
       "      <td>01:04 AM</td>\n",
       "      <td>Night</td>\n",
       "      <td>100 W MARKET ST</td>\n",
       "      <td>38.031964</td>\n",
       "      <td>-78.482537</td>\n",
       "      <td>Downtown Mall</td>\n",
       "      <td>22902</td>\n",
       "    </tr>\n",
       "  </tbody>\n",
       "</table>\n",
       "</div>"
      ],
      "text/plain": [
       "   RecordID             Offense    IncidentID BlockNumber  \\\n",
       "0         1         Hit and Run  202500021800        2000   \n",
       "1         2  Drug Investigation  202500021795         200   \n",
       "2         3  Disorderly Conduct  202500021782         200   \n",
       "3         4         Hit and Run  202500021765        3800   \n",
       "4         5      Assault Simple  202500021719         100   \n",
       "\n",
       "             StreetName Agency HourReported     ReportingOfficer  \\\n",
       "0    JEFFERSON PARK AVE    CPD         1607  Vlasis, Christopher   \n",
       "1            CARLTON RD    CPD         1504         Mian, Ghulam   \n",
       "2              RIDGE ST    CPD         1243   Love-Baker, Sydney   \n",
       "3  -78.5059997410000000    CPD         1007          Lowry, Ryan   \n",
       "4           W MARKET ST    CPD         0104        Oakes, Maithe   \n",
       "\n",
       "                 Date              DateString DayOfWeek  Weekend  Season  \\\n",
       "0 2025-06-24 16:07:49  2025-06-24 04:07:49 PM   Tuesday    False  Summer   \n",
       "1 2025-06-24 15:04:00  2025-06-24 03:04:00 PM   Tuesday    False  Summer   \n",
       "2 2025-06-24 12:43:10  2025-06-24 12:43:10 PM   Tuesday    False  Summer   \n",
       "3 2025-06-24 10:07:07  2025-06-24 10:07:07 AM   Tuesday    False  Summer   \n",
       "4 2025-06-24 01:04:32  2025-06-24 01:04:32 AM   Tuesday    False  Summer   \n",
       "\n",
       "   HourAMPM  TimeOfDay                 FullStreet        lat        lon  \\\n",
       "0  04:07 PM  Afternoon    2000 JEFFERSON PARK AVE  38.026506 -78.512728   \n",
       "1  03:04 PM  Afternoon             200 CARLTON RD  38.023631 -78.468700   \n",
       "2  12:43 PM  Afternoon               200 RIDGE ST  38.029522 -78.485560   \n",
       "3  10:07 AM    Morning  3800 -78.5059997410000000        NaN        NaN   \n",
       "4  01:04 AM      Night            100 W MARKET ST  38.031964 -78.482537   \n",
       "\n",
       "            neighborhood    zip  \n",
       "0  Jefferson Park Avenue  22903  \n",
       "1                Belmont  22902  \n",
       "2              Fifeville  22902  \n",
       "3                    N/A    N/A  \n",
       "4          Downtown Mall  22902  "
      ]
     },
     "execution_count": 11,
     "metadata": {},
     "output_type": "execute_result"
    }
   ],
   "source": [
    "# Initialize the geocoder.\n",
    "geolocator = Nominatim(user_agent=\"zip_lookup\")\n",
    "\n",
    "# Try to load a persistent ZIP cache if available.\n",
    "try:\n",
    "    with open(\"zip_cache.pkl\", \"rb\") as f:\n",
    "        zip_cache = pickle.load(f)\n",
    "    print(\"Loaded zip cache.\")\n",
    "except FileNotFoundError:\n",
    "    zip_cache = {}\n",
    "    print(\"No zip cache found; starting fresh.\")\n",
    "\n",
    "def get_zip(lat, lon):\n",
    "    \"\"\"\n",
    "    Reverse geocodes a latitude and longitude to retrieve the ZIP code.\n",
    "    Caches results to speed up subsequent lookups.\n",
    "    \"\"\"\n",
    "    key = (lat, lon)\n",
    "    if key in zip_cache:\n",
    "        return zip_cache[key]\n",
    "    \n",
    "    try:\n",
    "        location = geolocator.reverse((lat, lon), exactly_one=True, timeout=10)\n",
    "        address = location.raw.get('address', {})\n",
    "        postal_code = address.get('postcode', \"N/A\")\n",
    "    except Exception as e:\n",
    "        print(f\"Error getting ZIP for {lat}, {lon}: {e}\")\n",
    "        postal_code = \"N/A\"\n",
    "    \n",
    "    zip_cache[key] = postal_code\n",
    "    # Pause to respect the usage policy.\n",
    "    time.sleep(1)\n",
    "    return postal_code\n",
    "\n",
    "# Apply the function to each row in the DataFrame.\n",
    "df['zip'] = df.apply(lambda row: get_zip(row['lat'], row['lon']), axis=1)\n",
    "\n",
    "# Save the updated ZIP cache.\n",
    "with open(\"zip_cache.pkl\", \"wb\") as f:\n",
    "    pickle.dump(zip_cache, f)\n",
    "\n",
    "df.head()\n"
   ]
  },
  {
   "cell_type": "code",
   "execution_count": 12,
   "id": "b352671b",
   "metadata": {
    "execution": {
     "iopub.execute_input": "2025-06-27T01:07:24.428089Z",
     "iopub.status.busy": "2025-06-27T01:07:24.427649Z",
     "iopub.status.idle": "2025-06-27T01:07:24.457324Z",
     "shell.execute_reply": "2025-06-27T01:07:24.456655Z"
    },
    "papermill": {
     "duration": 0.037949,
     "end_time": "2025-06-27T01:07:24.458429",
     "exception": false,
     "start_time": "2025-06-27T01:07:24.420480",
     "status": "completed"
    },
    "tags": []
   },
   "outputs": [
    {
     "name": "stdout",
     "output_type": "stream",
     "text": [
      "                  MissingCount  MissingPercentage\n",
      "RecordID                     0               0.00\n",
      "Offense                      0               0.00\n",
      "IncidentID                   0               0.00\n",
      "BlockNumber                  0               0.00\n",
      "StreetName                   0               0.00\n",
      "Agency                       0               0.00\n",
      "HourReported                 0               0.00\n",
      "ReportingOfficer            17               0.07\n",
      "Date                         0               0.00\n",
      "DateString                   0               0.00\n",
      "DayOfWeek                    0               0.00\n",
      "Weekend                      0               0.00\n",
      "Season                       0               0.00\n",
      "HourAMPM                     0               0.00\n",
      "TimeOfDay                    0               0.00\n",
      "FullStreet                   0               0.00\n",
      "lat                         31               0.12\n",
      "lon                         31               0.12\n",
      "neighborhood                 0               0.00\n",
      "zip                          0               0.00\n"
     ]
    }
   ],
   "source": [
    "missing_info = missing_percentage(df)\n",
    "print(missing_info)\n"
   ]
  },
  {
   "cell_type": "code",
   "execution_count": 13,
   "id": "b51b4ef6",
   "metadata": {
    "execution": {
     "iopub.execute_input": "2025-06-27T01:07:24.472999Z",
     "iopub.status.busy": "2025-06-27T01:07:24.472506Z",
     "iopub.status.idle": "2025-06-27T01:07:24.507376Z",
     "shell.execute_reply": "2025-06-27T01:07:24.506637Z"
    },
    "papermill": {
     "duration": 0.043256,
     "end_time": "2025-06-27T01:07:24.508562",
     "exception": false,
     "start_time": "2025-06-27T01:07:24.465306",
     "status": "completed"
    },
    "tags": []
   },
   "outputs": [
    {
     "name": "stdout",
     "output_type": "stream",
     "text": [
      "<class 'pandas.core.frame.DataFrame'>\n",
      "RangeIndex: 25538 entries, 0 to 25537\n",
      "Data columns (total 20 columns):\n",
      " #   Column            Non-Null Count  Dtype         \n",
      "---  ------            --------------  -----         \n",
      " 0   RecordID          25538 non-null  int64         \n",
      " 1   Offense           25538 non-null  object        \n",
      " 2   IncidentID        25538 non-null  object        \n",
      " 3   BlockNumber       25538 non-null  object        \n",
      " 4   StreetName        25538 non-null  object        \n",
      " 5   Agency            25538 non-null  object        \n",
      " 6   HourReported      25538 non-null  object        \n",
      " 7   ReportingOfficer  25521 non-null  object        \n",
      " 8   Date              25538 non-null  datetime64[ns]\n",
      " 9   DateString        25538 non-null  object        \n",
      " 10  DayOfWeek         25538 non-null  object        \n",
      " 11  Weekend           25538 non-null  bool          \n",
      " 12  Season            25538 non-null  object        \n",
      " 13  HourAMPM          25538 non-null  object        \n",
      " 14  TimeOfDay         25538 non-null  object        \n",
      " 15  FullStreet        25538 non-null  object        \n",
      " 16  lat               25507 non-null  float64       \n",
      " 17  lon               25507 non-null  float64       \n",
      " 18  neighborhood      25538 non-null  object        \n",
      " 19  zip               25538 non-null  object        \n",
      "dtypes: bool(1), datetime64[ns](1), float64(2), int64(1), object(15)\n",
      "memory usage: 3.7+ MB\n"
     ]
    }
   ],
   "source": [
    "df.info()"
   ]
  },
  {
   "cell_type": "code",
   "execution_count": 14,
   "id": "9563210d",
   "metadata": {
    "execution": {
     "iopub.execute_input": "2025-06-27T01:07:24.523611Z",
     "iopub.status.busy": "2025-06-27T01:07:24.523087Z",
     "iopub.status.idle": "2025-06-27T01:07:24.568507Z",
     "shell.execute_reply": "2025-06-27T01:07:24.567778Z"
    },
    "papermill": {
     "duration": 0.054164,
     "end_time": "2025-06-27T01:07:24.569768",
     "exception": false,
     "start_time": "2025-06-27T01:07:24.515604",
     "status": "completed"
    },
    "tags": []
   },
   "outputs": [
    {
     "data": {
      "text/html": [
       "<div>\n",
       "<style scoped>\n",
       "    .dataframe tbody tr th:only-of-type {\n",
       "        vertical-align: middle;\n",
       "    }\n",
       "\n",
       "    .dataframe tbody tr th {\n",
       "        vertical-align: top;\n",
       "    }\n",
       "\n",
       "    .dataframe thead th {\n",
       "        text-align: right;\n",
       "    }\n",
       "</style>\n",
       "<table border=\"1\" class=\"dataframe\">\n",
       "  <thead>\n",
       "    <tr style=\"text-align: right;\">\n",
       "      <th></th>\n",
       "      <th>RecordID</th>\n",
       "      <th>Offense</th>\n",
       "      <th>IncidentID</th>\n",
       "      <th>Agency</th>\n",
       "      <th>ReportingOfficer</th>\n",
       "      <th>Date</th>\n",
       "      <th>DayOfWeek</th>\n",
       "      <th>Weekend</th>\n",
       "      <th>Season</th>\n",
       "      <th>TimeOfDay</th>\n",
       "      <th>FullStreet</th>\n",
       "      <th>lat</th>\n",
       "      <th>lon</th>\n",
       "      <th>neighborhood</th>\n",
       "      <th>zip</th>\n",
       "    </tr>\n",
       "  </thead>\n",
       "  <tbody>\n",
       "    <tr>\n",
       "      <th>0</th>\n",
       "      <td>1</td>\n",
       "      <td>Hit and Run</td>\n",
       "      <td>202500021800</td>\n",
       "      <td>CPD</td>\n",
       "      <td>Vlasis, Christopher</td>\n",
       "      <td>2025-06-24 16:07:49</td>\n",
       "      <td>Tuesday</td>\n",
       "      <td>False</td>\n",
       "      <td>Summer</td>\n",
       "      <td>Afternoon</td>\n",
       "      <td>2000 JEFFERSON PARK AVE</td>\n",
       "      <td>38.026506</td>\n",
       "      <td>-78.512728</td>\n",
       "      <td>Jefferson Park Avenue</td>\n",
       "      <td>22903</td>\n",
       "    </tr>\n",
       "    <tr>\n",
       "      <th>1</th>\n",
       "      <td>2</td>\n",
       "      <td>Drug Investigation</td>\n",
       "      <td>202500021795</td>\n",
       "      <td>CPD</td>\n",
       "      <td>Mian, Ghulam</td>\n",
       "      <td>2025-06-24 15:04:00</td>\n",
       "      <td>Tuesday</td>\n",
       "      <td>False</td>\n",
       "      <td>Summer</td>\n",
       "      <td>Afternoon</td>\n",
       "      <td>200 CARLTON RD</td>\n",
       "      <td>38.023631</td>\n",
       "      <td>-78.4687</td>\n",
       "      <td>Belmont</td>\n",
       "      <td>22902</td>\n",
       "    </tr>\n",
       "    <tr>\n",
       "      <th>2</th>\n",
       "      <td>3</td>\n",
       "      <td>Disorderly Conduct</td>\n",
       "      <td>202500021782</td>\n",
       "      <td>CPD</td>\n",
       "      <td>Love-Baker, Sydney</td>\n",
       "      <td>2025-06-24 12:43:10</td>\n",
       "      <td>Tuesday</td>\n",
       "      <td>False</td>\n",
       "      <td>Summer</td>\n",
       "      <td>Afternoon</td>\n",
       "      <td>200 RIDGE ST</td>\n",
       "      <td>38.029522</td>\n",
       "      <td>-78.48556</td>\n",
       "      <td>Fifeville</td>\n",
       "      <td>22902</td>\n",
       "    </tr>\n",
       "    <tr>\n",
       "      <th>3</th>\n",
       "      <td>4</td>\n",
       "      <td>Hit and Run</td>\n",
       "      <td>202500021765</td>\n",
       "      <td>CPD</td>\n",
       "      <td>Lowry, Ryan</td>\n",
       "      <td>2025-06-24 10:07:07</td>\n",
       "      <td>Tuesday</td>\n",
       "      <td>False</td>\n",
       "      <td>Summer</td>\n",
       "      <td>Morning</td>\n",
       "      <td>3800 -78.5059997410000000</td>\n",
       "      <td>N/A</td>\n",
       "      <td>N/A</td>\n",
       "      <td>N/A</td>\n",
       "      <td>N/A</td>\n",
       "    </tr>\n",
       "    <tr>\n",
       "      <th>4</th>\n",
       "      <td>5</td>\n",
       "      <td>Assault Simple</td>\n",
       "      <td>202500021719</td>\n",
       "      <td>CPD</td>\n",
       "      <td>Oakes, Maithe</td>\n",
       "      <td>2025-06-24 01:04:32</td>\n",
       "      <td>Tuesday</td>\n",
       "      <td>False</td>\n",
       "      <td>Summer</td>\n",
       "      <td>Night</td>\n",
       "      <td>100 W MARKET ST</td>\n",
       "      <td>38.031964</td>\n",
       "      <td>-78.482537</td>\n",
       "      <td>Downtown Mall</td>\n",
       "      <td>22902</td>\n",
       "    </tr>\n",
       "  </tbody>\n",
       "</table>\n",
       "</div>"
      ],
      "text/plain": [
       "   RecordID             Offense    IncidentID Agency     ReportingOfficer  \\\n",
       "0         1         Hit and Run  202500021800    CPD  Vlasis, Christopher   \n",
       "1         2  Drug Investigation  202500021795    CPD         Mian, Ghulam   \n",
       "2         3  Disorderly Conduct  202500021782    CPD   Love-Baker, Sydney   \n",
       "3         4         Hit and Run  202500021765    CPD          Lowry, Ryan   \n",
       "4         5      Assault Simple  202500021719    CPD        Oakes, Maithe   \n",
       "\n",
       "                 Date DayOfWeek  Weekend  Season  TimeOfDay  \\\n",
       "0 2025-06-24 16:07:49   Tuesday    False  Summer  Afternoon   \n",
       "1 2025-06-24 15:04:00   Tuesday    False  Summer  Afternoon   \n",
       "2 2025-06-24 12:43:10   Tuesday    False  Summer  Afternoon   \n",
       "3 2025-06-24 10:07:07   Tuesday    False  Summer    Morning   \n",
       "4 2025-06-24 01:04:32   Tuesday    False  Summer      Night   \n",
       "\n",
       "                  FullStreet        lat        lon           neighborhood  \\\n",
       "0    2000 JEFFERSON PARK AVE  38.026506 -78.512728  Jefferson Park Avenue   \n",
       "1             200 CARLTON RD  38.023631   -78.4687                Belmont   \n",
       "2               200 RIDGE ST  38.029522  -78.48556              Fifeville   \n",
       "3  3800 -78.5059997410000000        N/A        N/A                    N/A   \n",
       "4            100 W MARKET ST  38.031964 -78.482537          Downtown Mall   \n",
       "\n",
       "     zip  \n",
       "0  22903  \n",
       "1  22902  \n",
       "2  22902  \n",
       "3    N/A  \n",
       "4  22902  "
      ]
     },
     "execution_count": 14,
     "metadata": {},
     "output_type": "execute_result"
    }
   ],
   "source": [
    "# Now drop the original BlockNumber and StreetName columns\n",
    "df.drop(columns=['BlockNumber', 'StreetName','HourAMPM','HourReported','DateString'], inplace=True)\n",
    "df[\"zip\"] = df[\"zip\"].astype(str)\n",
    "\n",
    "# Fill all missing values in the DataFrame with \"N/A\"\n",
    "df.replace({None: \"N/A\", np.nan: \"N/A\", \"\": \"N/A\"}, inplace=True)\n",
    "df.head()"
   ]
  },
  {
   "cell_type": "code",
   "execution_count": 15,
   "id": "e9ff6116",
   "metadata": {
    "execution": {
     "iopub.execute_input": "2025-06-27T01:07:24.585389Z",
     "iopub.status.busy": "2025-06-27T01:07:24.584924Z",
     "iopub.status.idle": "2025-06-27T01:07:24.607156Z",
     "shell.execute_reply": "2025-06-27T01:07:24.606469Z"
    },
    "papermill": {
     "duration": 0.031001,
     "end_time": "2025-06-27T01:07:24.608161",
     "exception": false,
     "start_time": "2025-06-27T01:07:24.577160",
     "status": "completed"
    },
    "tags": []
   },
   "outputs": [
    {
     "name": "stdout",
     "output_type": "stream",
     "text": [
      "                  MissingCount  MissingPercentage\n",
      "RecordID                     0                0.0\n",
      "Offense                      0                0.0\n",
      "IncidentID                   0                0.0\n",
      "Agency                       0                0.0\n",
      "ReportingOfficer             0                0.0\n",
      "Date                         0                0.0\n",
      "DayOfWeek                    0                0.0\n",
      "Weekend                      0                0.0\n",
      "Season                       0                0.0\n",
      "TimeOfDay                    0                0.0\n",
      "FullStreet                   0                0.0\n",
      "lat                          0                0.0\n",
      "lon                          0                0.0\n",
      "neighborhood                 0                0.0\n",
      "zip                          0                0.0\n"
     ]
    }
   ],
   "source": [
    "missing_info = missing_percentage(df)\n",
    "print(missing_info)"
   ]
  },
  {
   "cell_type": "code",
   "execution_count": 16,
   "id": "e9475b81",
   "metadata": {
    "execution": {
     "iopub.execute_input": "2025-06-27T01:07:24.623824Z",
     "iopub.status.busy": "2025-06-27T01:07:24.623270Z",
     "iopub.status.idle": "2025-06-27T01:07:24.628089Z",
     "shell.execute_reply": "2025-06-27T01:07:24.627435Z"
    },
    "papermill": {
     "duration": 0.013623,
     "end_time": "2025-06-27T01:07:24.629151",
     "exception": false,
     "start_time": "2025-06-27T01:07:24.615528",
     "status": "completed"
    },
    "tags": []
   },
   "outputs": [
    {
     "data": {
      "text/plain": [
       "Index(['RecordID', 'Offense', 'IncidentID', 'Agency', 'ReportingOfficer',\n",
       "       'Date', 'DayOfWeek', 'Weekend', 'Season', 'TimeOfDay', 'FullStreet',\n",
       "       'lat', 'lon', 'neighborhood', 'zip'],\n",
       "      dtype='object')"
      ]
     },
     "execution_count": 16,
     "metadata": {},
     "output_type": "execute_result"
    }
   ],
   "source": [
    "df.columns"
   ]
  },
  {
   "cell_type": "code",
   "execution_count": 17,
   "id": "7b857109",
   "metadata": {
    "execution": {
     "iopub.execute_input": "2025-06-27T01:07:24.645808Z",
     "iopub.status.busy": "2025-06-27T01:07:24.645030Z",
     "iopub.status.idle": "2025-06-27T01:07:24.669787Z",
     "shell.execute_reply": "2025-06-27T01:07:24.669171Z"
    },
    "papermill": {
     "duration": 0.034303,
     "end_time": "2025-06-27T01:07:24.671073",
     "exception": false,
     "start_time": "2025-06-27T01:07:24.636770",
     "status": "completed"
    },
    "tags": []
   },
   "outputs": [
    {
     "name": "stdout",
     "output_type": "stream",
     "text": [
      "<class 'pandas.core.frame.DataFrame'>\n",
      "RangeIndex: 25538 entries, 0 to 25537\n",
      "Data columns (total 15 columns):\n",
      " #   Column            Non-Null Count  Dtype         \n",
      "---  ------            --------------  -----         \n",
      " 0   RecordID          25538 non-null  int64         \n",
      " 1   Offense           25538 non-null  object        \n",
      " 2   IncidentID        25538 non-null  object        \n",
      " 3   Agency            25538 non-null  object        \n",
      " 4   ReportingOfficer  25538 non-null  object        \n",
      " 5   Date              25538 non-null  datetime64[ns]\n",
      " 6   DayOfWeek         25538 non-null  object        \n",
      " 7   Weekend           25538 non-null  bool          \n",
      " 8   Season            25538 non-null  object        \n",
      " 9   TimeOfDay         25538 non-null  object        \n",
      " 10  FullStreet        25538 non-null  object        \n",
      " 11  lat               25538 non-null  object        \n",
      " 12  lon               25538 non-null  object        \n",
      " 13  neighborhood      25538 non-null  object        \n",
      " 14  zip               25538 non-null  object        \n",
      "dtypes: bool(1), datetime64[ns](1), int64(1), object(12)\n",
      "memory usage: 2.8+ MB\n"
     ]
    }
   ],
   "source": [
    "df.info()"
   ]
  },
  {
   "cell_type": "markdown",
   "id": "9e189abb",
   "metadata": {
    "papermill": {
     "duration": 0.007343,
     "end_time": "2025-06-27T01:07:24.686129",
     "exception": false,
     "start_time": "2025-06-27T01:07:24.678786",
     "status": "completed"
    },
    "tags": []
   },
   "source": [
    "### Export Clean Data"
   ]
  },
  {
   "cell_type": "code",
   "execution_count": 18,
   "id": "fdf50c77",
   "metadata": {
    "execution": {
     "iopub.execute_input": "2025-06-27T01:07:24.702441Z",
     "iopub.status.busy": "2025-06-27T01:07:24.701961Z",
     "iopub.status.idle": "2025-06-27T01:07:33.904533Z",
     "shell.execute_reply": "2025-06-27T01:07:33.903803Z"
    },
    "papermill": {
     "duration": 9.212003,
     "end_time": "2025-06-27T01:07:33.905608",
     "exception": false,
     "start_time": "2025-06-27T01:07:24.693605",
     "status": "completed"
    },
    "tags": []
   },
   "outputs": [
    {
     "name": "stdout",
     "output_type": "stream",
     "text": [
      "Project Root: /home/runner/work/crime-data/crime-data\n"
     ]
    },
    {
     "name": "stdout",
     "output_type": "stream",
     "text": [
      "Data saved to: /home/runner/work/crime-data/crime-data/data/charlottesville_crime_incidents.csv\n"
     ]
    },
    {
     "name": "stdout",
     "output_type": "stream",
     "text": [
      "Excel saved to: /home/runner/work/crime-data/crime-data/data/charlottesville_crime_incidents.xlsx\n"
     ]
    }
   ],
   "source": [
    "# Determine the project root (assuming papermill is run from the repository root)\n",
    "project_root = os.getcwd()\n",
    "print(\"Project Root:\", project_root)\n",
    "\n",
    "# Set the data directory within the project root\n",
    "data_dir = os.path.join(project_root, \"data\")\n",
    "\n",
    "# Ensure the \"data\" directory exists (create it if it doesn't)\n",
    "if not os.path.exists(data_dir):\n",
    "    os.makedirs(data_dir)\n",
    "\n",
    "# Export the DataFrame to CSV in the \"data\" folder located in the project root\n",
    "csv_path = os.path.join(data_dir, \"charlottesville_crime_incidents.csv\")\n",
    "df.to_csv(csv_path, index=False)\n",
    "print(\"Data saved to:\", csv_path)\n",
    "\n",
    "# Construct the path to your Excel file\n",
    "excel_path = os.path.join(data_dir, \"charlottesville_crime_incidents.xlsx\")\n",
    "\n",
    "# Export the DataFrame to Excel\n",
    "df.to_excel(excel_path, index=False)\n",
    "print(\"Excel saved to:\", excel_path)\n"
   ]
  }
 ],
 "metadata": {
  "kernelspec": {
   "display_name": "Python 3",
   "language": "python",
   "name": "python3"
  },
  "language_info": {
   "codemirror_mode": {
    "name": "ipython",
    "version": 3
   },
   "file_extension": ".py",
   "mimetype": "text/x-python",
   "name": "python",
   "nbconvert_exporter": "python",
   "pygments_lexer": "ipython3",
   "version": "3.9.23"
  },
  "papermill": {
   "default_parameters": {},
   "duration": 115.047701,
   "end_time": "2025-06-27T01:07:34.331071",
   "environment_variables": {},
   "exception": null,
   "input_path": "notebook/Crime Data.ipynb",
   "output_path": "notebook/Crime Data_output.ipynb",
   "parameters": {},
   "start_time": "2025-06-27T01:05:39.283370",
   "version": "2.6.0"
  }
 },
 "nbformat": 4,
 "nbformat_minor": 5
}