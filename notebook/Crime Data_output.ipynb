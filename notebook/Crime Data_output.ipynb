{
 "cells": [
  {
   "cell_type": "markdown",
   "id": "f74281e6",
   "metadata": {
    "papermill": {
     "duration": 0.004309,
     "end_time": "2025-09-04T00:56:59.709890",
     "exception": false,
     "start_time": "2025-09-04T00:56:59.705581",
     "status": "completed"
    },
    "tags": []
   },
   "source": [
    "# Charlottesville Open Data Porttal: Crime Data"
   ]
  },
  {
   "cell_type": "markdown",
   "id": "412ca085",
   "metadata": {
    "papermill": {
     "duration": 0.004247,
     "end_time": "2025-09-04T00:56:59.717705",
     "exception": false,
     "start_time": "2025-09-04T00:56:59.713458",
     "status": "completed"
    },
    "tags": []
   },
   "source": [
    "## Import Relevant Librarires & Set WD"
   ]
  },
  {
   "cell_type": "code",
   "execution_count": 1,
   "id": "8a9247e2",
   "metadata": {
    "execution": {
     "iopub.execute_input": "2025-09-04T00:56:59.724916Z",
     "iopub.status.busy": "2025-09-04T00:56:59.724734Z",
     "iopub.status.idle": "2025-09-04T00:57:00.265004Z",
     "shell.execute_reply": "2025-09-04T00:57:00.264372Z"
    },
    "papermill": {
     "duration": 0.545328,
     "end_time": "2025-09-04T00:57:00.266265",
     "exception": false,
     "start_time": "2025-09-04T00:56:59.720937",
     "status": "completed"
    },
    "tags": []
   },
   "outputs": [],
   "source": [
    "import requests\n",
    "import pandas as pd\n",
    "import numpy as np\n",
    "import pickle\n",
    "import googlemaps\n",
    "import plotly.express as px\n",
    "from geopy.geocoders import Nominatim\n",
    "import time\n",
    "from dotenv import load_dotenv\n",
    "import os\n",
    "\n",
    "env_path = os.path.join(\"..\", \".env\")\n",
    "#print(\"Looking for .env file at:\", os.path.abspath(env_path))\n",
    "load_dotenv(dotenv_path=env_path)\n",
    "\n",
    "# Retrieve the variables\n",
    "GOOGLE_API_KEY = os.getenv(\"GOOGLE_API_KEY\")\n",
    "WORKING_DIR = os.getenv(\"WORKING_DIR\")\n",
    "\n",
    "if GOOGLE_API_KEY is None or WORKING_DIR is None:\n",
    "    raise RuntimeError(\"No configuration found. Please ensure that your .env file exists with the required variables, or create a local config.py file.\")\n",
    "\n",
    "#print(\"Google API Key:\", GOOGLE_API_KEY)\n",
    "#print(\"Working Directory:\", WORKING_DIR)"
   ]
  },
  {
   "cell_type": "markdown",
   "id": "5fdb4ed1",
   "metadata": {
    "papermill": {
     "duration": 0.003376,
     "end_time": "2025-09-04T00:57:00.273330",
     "exception": false,
     "start_time": "2025-09-04T00:57:00.269954",
     "status": "completed"
    },
    "tags": []
   },
   "source": [
    "## Import Data\n",
    "\n",
    "URL: https://opendata.charlottesville.org/datasets/charlottesville::crime-data/about"
   ]
  },
  {
   "cell_type": "code",
   "execution_count": 2,
   "id": "837cc3f9",
   "metadata": {
    "execution": {
     "iopub.execute_input": "2025-09-04T00:57:00.280730Z",
     "iopub.status.busy": "2025-09-04T00:57:00.280472Z",
     "iopub.status.idle": "2025-09-04T00:58:06.949700Z",
     "shell.execute_reply": "2025-09-04T00:58:06.948991Z"
    },
    "papermill": {
     "duration": 66.676797,
     "end_time": "2025-09-04T00:58:06.953437",
     "exception": false,
     "start_time": "2025-09-04T00:57:00.276640",
     "status": "completed"
    },
    "tags": []
   },
   "outputs": [
    {
     "name": "stdout",
     "output_type": "stream",
     "text": [
      "Total records imported: 25728\n"
     ]
    }
   ],
   "source": [
    "# Define the endpoint and initial parameters.\n",
    "url = \"https://gisweb.charlottesville.org/arcgis/rest/services/OpenData_2/MapServer/6/query\"\n",
    "params = {\n",
    "    \"where\": \"1=1\",\n",
    "    \"outFields\": \"*\",\n",
    "    \"outSR\": 4326,\n",
    "    \"f\": \"json\",\n",
    "    \"resultOffset\": 0,       # Starting index for results\n",
    "    \"resultRecordCount\": 10000  # Maximum records per batch (if allowed by the API)\n",
    "}\n",
    "\n",
    "records = []\n",
    "\n",
    "while True:\n",
    "    response = requests.get(url, params=params)\n",
    "    response.raise_for_status()\n",
    "    data = response.json()\n",
    "    \n",
    "    # Get the current batch of features.\n",
    "    features = data.get(\"features\", [])\n",
    "    if not features:\n",
    "        break\n",
    "\n",
    "    # Extract the attributes from the features.\n",
    "    batch_records = [feature.get(\"attributes\", {}) for feature in features]\n",
    "    records.extend(batch_records)\n",
    "    \n",
    "    # If the batch size is less than the requested count, we reached the end.\n",
    "    if len(features) < params[\"resultRecordCount\"]:\n",
    "        break\n",
    "\n",
    "    # Update the resultOffset for the next batch.\n",
    "    params[\"resultOffset\"] += params[\"resultRecordCount\"]\n",
    "\n",
    "# Create a DataFrame from the combined records.\n",
    "df = pd.DataFrame(records)\n",
    "print(\"Total records imported:\", len(df))\n"
   ]
  },
  {
   "cell_type": "code",
   "execution_count": 3,
   "id": "13699e64",
   "metadata": {
    "execution": {
     "iopub.execute_input": "2025-09-04T00:58:06.961109Z",
     "iopub.status.busy": "2025-09-04T00:58:06.960905Z",
     "iopub.status.idle": "2025-09-04T00:58:06.973087Z",
     "shell.execute_reply": "2025-09-04T00:58:06.972441Z"
    },
    "papermill": {
     "duration": 0.017243,
     "end_time": "2025-09-04T00:58:06.974117",
     "exception": false,
     "start_time": "2025-09-04T00:58:06.956874",
     "status": "completed"
    },
    "tags": []
   },
   "outputs": [
    {
     "data": {
      "text/html": [
       "<div>\n",
       "<style scoped>\n",
       "    .dataframe tbody tr th:only-of-type {\n",
       "        vertical-align: middle;\n",
       "    }\n",
       "\n",
       "    .dataframe tbody tr th {\n",
       "        vertical-align: top;\n",
       "    }\n",
       "\n",
       "    .dataframe thead th {\n",
       "        text-align: right;\n",
       "    }\n",
       "</style>\n",
       "<table border=\"1\" class=\"dataframe\">\n",
       "  <thead>\n",
       "    <tr style=\"text-align: right;\">\n",
       "      <th></th>\n",
       "      <th>RecordID</th>\n",
       "      <th>Offense</th>\n",
       "      <th>IncidentID</th>\n",
       "      <th>BlockNumber</th>\n",
       "      <th>StreetName</th>\n",
       "      <th>Agency</th>\n",
       "      <th>DateReported</th>\n",
       "      <th>HourReported</th>\n",
       "      <th>ReportingOfficer</th>\n",
       "    </tr>\n",
       "  </thead>\n",
       "  <tbody>\n",
       "    <tr>\n",
       "      <th>0</th>\n",
       "      <td>1</td>\n",
       "      <td>Death Investigation - DOA</td>\n",
       "      <td>202500031388</td>\n",
       "      <td></td>\n",
       "      <td>12TH ST NW / ROSSER AVE E</td>\n",
       "      <td>CPD</td>\n",
       "      <td>1756760623000</td>\n",
       "      <td>1703</td>\n",
       "      <td>Crowley, Raeann</td>\n",
       "    </tr>\n",
       "    <tr>\n",
       "      <th>1</th>\n",
       "      <td>2</td>\n",
       "      <td>Larceny - All Other</td>\n",
       "      <td>202500031371</td>\n",
       "      <td>1100</td>\n",
       "      <td>EMMET ST N, M25</td>\n",
       "      <td>CPD</td>\n",
       "      <td>1756744408000</td>\n",
       "      <td>1233</td>\n",
       "      <td>Mian, Ghulam</td>\n",
       "    </tr>\n",
       "    <tr>\n",
       "      <th>2</th>\n",
       "      <td>3</td>\n",
       "      <td>Suspicious Activity</td>\n",
       "      <td>202500031372</td>\n",
       "      <td>200</td>\n",
       "      <td>E WATER ST</td>\n",
       "      <td>CPD</td>\n",
       "      <td>1756744055000</td>\n",
       "      <td>1227</td>\n",
       "      <td>Kirby, Tyree</td>\n",
       "    </tr>\n",
       "    <tr>\n",
       "      <th>3</th>\n",
       "      <td>4</td>\n",
       "      <td>Vandalism</td>\n",
       "      <td>202500031351</td>\n",
       "      <td>2000</td>\n",
       "      <td>HOLIDAY DR, 209</td>\n",
       "      <td>CPD</td>\n",
       "      <td>1756732070000</td>\n",
       "      <td>0907</td>\n",
       "      <td>Mian, Ghulam</td>\n",
       "    </tr>\n",
       "    <tr>\n",
       "      <th>4</th>\n",
       "      <td>5</td>\n",
       "      <td>Vandalism</td>\n",
       "      <td>202500031349</td>\n",
       "      <td>300</td>\n",
       "      <td>HILLSDALE DR</td>\n",
       "      <td>CPD</td>\n",
       "      <td>1756728973000</td>\n",
       "      <td>0816</td>\n",
       "      <td>Love-Baker, Sydney</td>\n",
       "    </tr>\n",
       "  </tbody>\n",
       "</table>\n",
       "</div>"
      ],
      "text/plain": [
       "   RecordID                    Offense    IncidentID BlockNumber  \\\n",
       "0         1  Death Investigation - DOA  202500031388               \n",
       "1         2        Larceny - All Other  202500031371        1100   \n",
       "2         3        Suspicious Activity  202500031372         200   \n",
       "3         4                  Vandalism  202500031351        2000   \n",
       "4         5                  Vandalism  202500031349         300   \n",
       "\n",
       "                  StreetName Agency   DateReported HourReported  \\\n",
       "0  12TH ST NW / ROSSER AVE E    CPD  1756760623000         1703   \n",
       "1            EMMET ST N, M25    CPD  1756744408000         1233   \n",
       "2                 E WATER ST    CPD  1756744055000         1227   \n",
       "3            HOLIDAY DR, 209    CPD  1756732070000         0907   \n",
       "4               HILLSDALE DR    CPD  1756728973000         0816   \n",
       "\n",
       "     ReportingOfficer  \n",
       "0     Crowley, Raeann  \n",
       "1        Mian, Ghulam  \n",
       "2        Kirby, Tyree  \n",
       "3        Mian, Ghulam  \n",
       "4  Love-Baker, Sydney  "
      ]
     },
     "execution_count": 3,
     "metadata": {},
     "output_type": "execute_result"
    }
   ],
   "source": [
    "df.head()"
   ]
  },
  {
   "cell_type": "code",
   "execution_count": 4,
   "id": "bb97fbdc",
   "metadata": {
    "execution": {
     "iopub.execute_input": "2025-09-04T00:58:06.981874Z",
     "iopub.status.busy": "2025-09-04T00:58:06.981660Z",
     "iopub.status.idle": "2025-09-04T00:58:06.985785Z",
     "shell.execute_reply": "2025-09-04T00:58:06.985148Z"
    },
    "papermill": {
     "duration": 0.00906,
     "end_time": "2025-09-04T00:58:06.986713",
     "exception": false,
     "start_time": "2025-09-04T00:58:06.977653",
     "status": "completed"
    },
    "tags": []
   },
   "outputs": [
    {
     "data": {
      "text/plain": [
       "Index(['RecordID', 'Offense', 'IncidentID', 'BlockNumber', 'StreetName',\n",
       "       'Agency', 'DateReported', 'HourReported', 'ReportingOfficer'],\n",
       "      dtype='object')"
      ]
     },
     "execution_count": 4,
     "metadata": {},
     "output_type": "execute_result"
    }
   ],
   "source": [
    "df.columns"
   ]
  },
  {
   "cell_type": "code",
   "execution_count": 5,
   "id": "40a20692",
   "metadata": {
    "execution": {
     "iopub.execute_input": "2025-09-04T00:58:06.994674Z",
     "iopub.status.busy": "2025-09-04T00:58:06.994443Z",
     "iopub.status.idle": "2025-09-04T00:58:07.011226Z",
     "shell.execute_reply": "2025-09-04T00:58:07.010632Z"
    },
    "papermill": {
     "duration": 0.021869,
     "end_time": "2025-09-04T00:58:07.012242",
     "exception": false,
     "start_time": "2025-09-04T00:58:06.990373",
     "status": "completed"
    },
    "tags": []
   },
   "outputs": [
    {
     "name": "stdout",
     "output_type": "stream",
     "text": [
      "<class 'pandas.core.frame.DataFrame'>\n",
      "RangeIndex: 25728 entries, 0 to 25727\n",
      "Data columns (total 9 columns):\n",
      " #   Column            Non-Null Count  Dtype \n",
      "---  ------            --------------  ----- \n",
      " 0   RecordID          25728 non-null  int64 \n",
      " 1   Offense           25728 non-null  object\n",
      " 2   IncidentID        25728 non-null  object\n",
      " 3   BlockNumber       25728 non-null  object\n",
      " 4   StreetName        25728 non-null  object\n",
      " 5   Agency            25728 non-null  object\n",
      " 6   DateReported      25728 non-null  int64 \n",
      " 7   HourReported      25728 non-null  object\n",
      " 8   ReportingOfficer  25714 non-null  object\n",
      "dtypes: int64(2), object(7)\n",
      "memory usage: 1.8+ MB\n"
     ]
    }
   ],
   "source": [
    "df.info()"
   ]
  },
  {
   "cell_type": "markdown",
   "id": "b03ba5d4",
   "metadata": {
    "papermill": {
     "duration": 0.003709,
     "end_time": "2025-09-04T00:58:07.019737",
     "exception": false,
     "start_time": "2025-09-04T00:58:07.016028",
     "status": "completed"
    },
    "tags": []
   },
   "source": [
    "### Missing Values"
   ]
  },
  {
   "cell_type": "code",
   "execution_count": 6,
   "id": "1b2adb4c",
   "metadata": {
    "execution": {
     "iopub.execute_input": "2025-09-04T00:58:07.027892Z",
     "iopub.status.busy": "2025-09-04T00:58:07.027677Z",
     "iopub.status.idle": "2025-09-04T00:58:07.042621Z",
     "shell.execute_reply": "2025-09-04T00:58:07.042067Z"
    },
    "papermill": {
     "duration": 0.020123,
     "end_time": "2025-09-04T00:58:07.043585",
     "exception": false,
     "start_time": "2025-09-04T00:58:07.023462",
     "status": "completed"
    },
    "tags": []
   },
   "outputs": [
    {
     "name": "stdout",
     "output_type": "stream",
     "text": [
      "                  MissingCount  MissingPercentage\n",
      "RecordID                     0               0.00\n",
      "Offense                      0               0.00\n",
      "IncidentID                   0               0.00\n",
      "BlockNumber                  0               0.00\n",
      "StreetName                   0               0.00\n",
      "Agency                       0               0.00\n",
      "DateReported                 0               0.00\n",
      "HourReported                 0               0.00\n",
      "ReportingOfficer            14               0.05\n"
     ]
    }
   ],
   "source": [
    "def missing_percentage(df):\n",
    "    \"\"\"\n",
    "    Returns a DataFrame with the count and percentage of missing values for each column.\n",
    "    \n",
    "    Parameters:\n",
    "        df (pd.DataFrame): The input DataFrame.\n",
    "    \n",
    "    Returns:\n",
    "        pd.DataFrame: A DataFrame with columns 'MissingCount' and 'MissingPercentage'.\n",
    "    \"\"\"\n",
    "    total_rows = len(df)\n",
    "    missing_count = df.isnull().sum()\n",
    "    missing_percent = (missing_count / total_rows) * 100\n",
    "    \n",
    "    result = pd.DataFrame({\n",
    "        'MissingCount': missing_count,\n",
    "        'MissingPercentage': missing_percent.round(2)\n",
    "    })\n",
    "    \n",
    "    return result\n",
    "\n",
    "# Example usage:\n",
    "missing_info = missing_percentage(df)\n",
    "print(missing_info)\n"
   ]
  },
  {
   "cell_type": "markdown",
   "id": "e28b377e",
   "metadata": {
    "papermill": {
     "duration": 0.003628,
     "end_time": "2025-09-04T00:58:07.051074",
     "exception": false,
     "start_time": "2025-09-04T00:58:07.047446",
     "status": "completed"
    },
    "tags": []
   },
   "source": [
    "## Data Preparation"
   ]
  },
  {
   "cell_type": "markdown",
   "id": "ff957a6f",
   "metadata": {
    "papermill": {
     "duration": 0.00367,
     "end_time": "2025-09-04T00:58:07.058467",
     "exception": false,
     "start_time": "2025-09-04T00:58:07.054797",
     "status": "completed"
    },
    "tags": []
   },
   "source": [
    "### Data Conversion"
   ]
  },
  {
   "cell_type": "code",
   "execution_count": 7,
   "id": "0d034a7e",
   "metadata": {
    "execution": {
     "iopub.execute_input": "2025-09-04T00:58:07.066944Z",
     "iopub.status.busy": "2025-09-04T00:58:07.066707Z",
     "iopub.status.idle": "2025-09-04T00:58:07.427144Z",
     "shell.execute_reply": "2025-09-04T00:58:07.426571Z"
    },
    "papermill": {
     "duration": 0.365835,
     "end_time": "2025-09-04T00:58:07.428240",
     "exception": false,
     "start_time": "2025-09-04T00:58:07.062405",
     "status": "completed"
    },
    "tags": []
   },
   "outputs": [
    {
     "data": {
      "text/html": [
       "<div>\n",
       "<style scoped>\n",
       "    .dataframe tbody tr th:only-of-type {\n",
       "        vertical-align: middle;\n",
       "    }\n",
       "\n",
       "    .dataframe tbody tr th {\n",
       "        vertical-align: top;\n",
       "    }\n",
       "\n",
       "    .dataframe thead th {\n",
       "        text-align: right;\n",
       "    }\n",
       "</style>\n",
       "<table border=\"1\" class=\"dataframe\">\n",
       "  <thead>\n",
       "    <tr style=\"text-align: right;\">\n",
       "      <th></th>\n",
       "      <th>RecordID</th>\n",
       "      <th>Offense</th>\n",
       "      <th>IncidentID</th>\n",
       "      <th>BlockNumber</th>\n",
       "      <th>StreetName</th>\n",
       "      <th>Agency</th>\n",
       "      <th>HourReported</th>\n",
       "      <th>ReportingOfficer</th>\n",
       "      <th>Date</th>\n",
       "      <th>DateString</th>\n",
       "      <th>DayOfWeek</th>\n",
       "      <th>Weekend</th>\n",
       "      <th>Season</th>\n",
       "      <th>HourAMPM</th>\n",
       "      <th>TimeOfDay</th>\n",
       "    </tr>\n",
       "  </thead>\n",
       "  <tbody>\n",
       "    <tr>\n",
       "      <th>0</th>\n",
       "      <td>1</td>\n",
       "      <td>Death Investigation - DOA</td>\n",
       "      <td>202500031388</td>\n",
       "      <td></td>\n",
       "      <td>12TH ST NW / ROSSER AVE E</td>\n",
       "      <td>CPD</td>\n",
       "      <td>1703</td>\n",
       "      <td>Crowley, Raeann</td>\n",
       "      <td>2025-09-01 17:03:43</td>\n",
       "      <td>2025-09-01 05:03:43 PM</td>\n",
       "      <td>Monday</td>\n",
       "      <td>False</td>\n",
       "      <td>Summer</td>\n",
       "      <td>05:03 PM</td>\n",
       "      <td>Evening</td>\n",
       "    </tr>\n",
       "    <tr>\n",
       "      <th>1</th>\n",
       "      <td>2</td>\n",
       "      <td>Larceny - All Other</td>\n",
       "      <td>202500031371</td>\n",
       "      <td>1100</td>\n",
       "      <td>EMMET ST N, M25</td>\n",
       "      <td>CPD</td>\n",
       "      <td>1233</td>\n",
       "      <td>Mian, Ghulam</td>\n",
       "      <td>2025-09-01 12:33:28</td>\n",
       "      <td>2025-09-01 12:33:28 PM</td>\n",
       "      <td>Monday</td>\n",
       "      <td>False</td>\n",
       "      <td>Summer</td>\n",
       "      <td>12:33 PM</td>\n",
       "      <td>Afternoon</td>\n",
       "    </tr>\n",
       "    <tr>\n",
       "      <th>2</th>\n",
       "      <td>3</td>\n",
       "      <td>Suspicious Activity</td>\n",
       "      <td>202500031372</td>\n",
       "      <td>200</td>\n",
       "      <td>E WATER ST</td>\n",
       "      <td>CPD</td>\n",
       "      <td>1227</td>\n",
       "      <td>Kirby, Tyree</td>\n",
       "      <td>2025-09-01 12:27:35</td>\n",
       "      <td>2025-09-01 12:27:35 PM</td>\n",
       "      <td>Monday</td>\n",
       "      <td>False</td>\n",
       "      <td>Summer</td>\n",
       "      <td>12:27 PM</td>\n",
       "      <td>Afternoon</td>\n",
       "    </tr>\n",
       "    <tr>\n",
       "      <th>3</th>\n",
       "      <td>4</td>\n",
       "      <td>Vandalism</td>\n",
       "      <td>202500031351</td>\n",
       "      <td>2000</td>\n",
       "      <td>HOLIDAY DR, 209</td>\n",
       "      <td>CPD</td>\n",
       "      <td>0907</td>\n",
       "      <td>Mian, Ghulam</td>\n",
       "      <td>2025-09-01 09:07:50</td>\n",
       "      <td>2025-09-01 09:07:50 AM</td>\n",
       "      <td>Monday</td>\n",
       "      <td>False</td>\n",
       "      <td>Summer</td>\n",
       "      <td>09:07 AM</td>\n",
       "      <td>Morning</td>\n",
       "    </tr>\n",
       "    <tr>\n",
       "      <th>4</th>\n",
       "      <td>5</td>\n",
       "      <td>Vandalism</td>\n",
       "      <td>202500031349</td>\n",
       "      <td>300</td>\n",
       "      <td>HILLSDALE DR</td>\n",
       "      <td>CPD</td>\n",
       "      <td>0816</td>\n",
       "      <td>Love-Baker, Sydney</td>\n",
       "      <td>2025-09-01 08:16:13</td>\n",
       "      <td>2025-09-01 08:16:13 AM</td>\n",
       "      <td>Monday</td>\n",
       "      <td>False</td>\n",
       "      <td>Summer</td>\n",
       "      <td>08:16 AM</td>\n",
       "      <td>Morning</td>\n",
       "    </tr>\n",
       "  </tbody>\n",
       "</table>\n",
       "</div>"
      ],
      "text/plain": [
       "   RecordID                    Offense    IncidentID BlockNumber  \\\n",
       "0         1  Death Investigation - DOA  202500031388               \n",
       "1         2        Larceny - All Other  202500031371        1100   \n",
       "2         3        Suspicious Activity  202500031372         200   \n",
       "3         4                  Vandalism  202500031351        2000   \n",
       "4         5                  Vandalism  202500031349         300   \n",
       "\n",
       "                  StreetName Agency HourReported    ReportingOfficer  \\\n",
       "0  12TH ST NW / ROSSER AVE E    CPD         1703     Crowley, Raeann   \n",
       "1            EMMET ST N, M25    CPD         1233        Mian, Ghulam   \n",
       "2                 E WATER ST    CPD         1227        Kirby, Tyree   \n",
       "3            HOLIDAY DR, 209    CPD         0907        Mian, Ghulam   \n",
       "4               HILLSDALE DR    CPD         0816  Love-Baker, Sydney   \n",
       "\n",
       "                 Date              DateString DayOfWeek  Weekend  Season  \\\n",
       "0 2025-09-01 17:03:43  2025-09-01 05:03:43 PM    Monday    False  Summer   \n",
       "1 2025-09-01 12:33:28  2025-09-01 12:33:28 PM    Monday    False  Summer   \n",
       "2 2025-09-01 12:27:35  2025-09-01 12:27:35 PM    Monday    False  Summer   \n",
       "3 2025-09-01 09:07:50  2025-09-01 09:07:50 AM    Monday    False  Summer   \n",
       "4 2025-09-01 08:16:13  2025-09-01 08:16:13 AM    Monday    False  Summer   \n",
       "\n",
       "   HourAMPM  TimeOfDay  \n",
       "0  05:03 PM    Evening  \n",
       "1  12:33 PM  Afternoon  \n",
       "2  12:27 PM  Afternoon  \n",
       "3  09:07 AM    Morning  \n",
       "4  08:16 AM    Morning  "
      ]
     },
     "execution_count": 7,
     "metadata": {},
     "output_type": "execute_result"
    }
   ],
   "source": [
    "def convert_and_categorize_datereported(df, col='DateReported'):\n",
    "    \"\"\"\n",
    "    Converts an epoch (in milliseconds) date column into a timezone-aware datetime,\n",
    "    converts it to Eastern Time, and then creates columns for day-of-week, weekend flag,\n",
    "    season, 12-hour formatted time, and time-of-day. Keeps both a real datetime column\n",
    "    (Date) and a string representation (DateString).\n",
    "    \"\"\"\n",
    "    import pandas as pd\n",
    "\n",
    "    # Convert the epoch timestamp to a pandas datetime object as UTC, then convert to US/Eastern.\n",
    "    df[\"DateReported_dt\"] = (\n",
    "        pd.to_datetime(df[col], unit=\"ms\", errors=\"coerce\", utc=True)\n",
    "        .dt.tz_convert(\"US/Eastern\")\n",
    "    )\n",
    "    \n",
    "    # Create a true datetime column (remove timezone if you prefer naive datetime)\n",
    "    df[\"Date\"] = df[\"DateReported_dt\"].dt.tz_localize(None)\n",
    "\n",
    "    # Optionally, create a separate string-formatted column\n",
    "    df[\"DateString\"] = df[\"DateReported_dt\"].dt.strftime(\"%Y-%m-%d %I:%M:%S %p\")\n",
    "    \n",
    "    # DayOfWeek\n",
    "    df[\"DayOfWeek\"] = df[\"DateReported_dt\"].dt.day_name()\n",
    "    \n",
    "    # Weekend\n",
    "    df[\"Weekend\"] = df[\"DayOfWeek\"].isin([\"Saturday\", \"Sunday\"])\n",
    "    \n",
    "    # Helper function to determine the season\n",
    "    def get_season(dt):\n",
    "        month = dt.month\n",
    "        day = dt.day\n",
    "        # Approximate Northern Hemisphere season boundaries:\n",
    "        if (month == 12 and day >= 21) or (month < 3) or (month == 3 and day < 20):\n",
    "            return \"Winter\"\n",
    "        elif (month == 3 and day >= 20) or (month < 6) or (month == 6 and day < 21):\n",
    "            return \"Spring\"\n",
    "        elif (month == 6 and day >= 21) or (month < 9) or (month == 9 and day < 22):\n",
    "            return \"Summer\"\n",
    "        else:\n",
    "            return \"Autumn\"\n",
    "    \n",
    "    df[\"Season\"] = df[\"DateReported_dt\"].apply(get_season)\n",
    "    \n",
    "    # 12-hour formatted time (HourAMPM)\n",
    "    df[\"HourAMPM\"] = df[\"DateReported_dt\"].dt.strftime(\"%I:%M %p\")\n",
    "    \n",
    "    # Extract hour (0-23) for time-of-day\n",
    "    df[\"HourValue\"] = df[\"DateReported_dt\"].dt.hour\n",
    "    \n",
    "    def time_of_day(hour):\n",
    "        if pd.isnull(hour):\n",
    "            return None\n",
    "        if 5 <= hour < 12:\n",
    "            return \"Morning\"\n",
    "        elif 12 <= hour < 17:\n",
    "            return \"Afternoon\"\n",
    "        elif 17 <= hour < 21:\n",
    "            return \"Evening\"\n",
    "        else:\n",
    "            return \"Night\"\n",
    "    \n",
    "    df[\"TimeOfDay\"] = df[\"HourValue\"].apply(time_of_day)\n",
    "    \n",
    "    # Drop columns you no longer need\n",
    "    df.drop(columns=[col, \"DateReported_dt\", \"HourValue\"], inplace=True)\n",
    "    \n",
    "    return df\n",
    "\n",
    "# Example usage:\n",
    "df = convert_and_categorize_datereported(df)\n",
    "df.head()\n"
   ]
  },
  {
   "cell_type": "code",
   "execution_count": 8,
   "id": "b25f20a0",
   "metadata": {
    "execution": {
     "iopub.execute_input": "2025-09-04T00:58:07.437329Z",
     "iopub.status.busy": "2025-09-04T00:58:07.437103Z",
     "iopub.status.idle": "2025-09-04T00:58:07.460897Z",
     "shell.execute_reply": "2025-09-04T00:58:07.460370Z"
    },
    "papermill": {
     "duration": 0.029426,
     "end_time": "2025-09-04T00:58:07.461944",
     "exception": false,
     "start_time": "2025-09-04T00:58:07.432518",
     "status": "completed"
    },
    "tags": []
   },
   "outputs": [
    {
     "name": "stdout",
     "output_type": "stream",
     "text": [
      "<class 'pandas.core.frame.DataFrame'>\n",
      "RangeIndex: 25728 entries, 0 to 25727\n",
      "Data columns (total 15 columns):\n",
      " #   Column            Non-Null Count  Dtype         \n",
      "---  ------            --------------  -----         \n",
      " 0   RecordID          25728 non-null  int64         \n",
      " 1   Offense           25728 non-null  object        \n",
      " 2   IncidentID        25728 non-null  object        \n",
      " 3   BlockNumber       25728 non-null  object        \n",
      " 4   StreetName        25728 non-null  object        \n",
      " 5   Agency            25728 non-null  object        \n",
      " 6   HourReported      25728 non-null  object        \n",
      " 7   ReportingOfficer  25714 non-null  object        \n",
      " 8   Date              25728 non-null  datetime64[ns]\n",
      " 9   DateString        25728 non-null  object        \n",
      " 10  DayOfWeek         25728 non-null  object        \n",
      " 11  Weekend           25728 non-null  bool          \n",
      " 12  Season            25728 non-null  object        \n",
      " 13  HourAMPM          25728 non-null  object        \n",
      " 14  TimeOfDay         25728 non-null  object        \n",
      "dtypes: bool(1), datetime64[ns](1), int64(1), object(12)\n",
      "memory usage: 2.8+ MB\n"
     ]
    }
   ],
   "source": [
    "df.info()"
   ]
  },
  {
   "cell_type": "markdown",
   "id": "418f46ef",
   "metadata": {
    "papermill": {
     "duration": 0.004023,
     "end_time": "2025-09-04T00:58:07.470206",
     "exception": false,
     "start_time": "2025-09-04T00:58:07.466183",
     "status": "completed"
    },
    "tags": []
   },
   "source": [
    "### Coordinates"
   ]
  },
  {
   "cell_type": "code",
   "execution_count": 9,
   "id": "79672926",
   "metadata": {
    "execution": {
     "iopub.execute_input": "2025-09-04T00:58:07.479216Z",
     "iopub.status.busy": "2025-09-04T00:58:07.478977Z",
     "iopub.status.idle": "2025-09-04T00:58:07.521326Z",
     "shell.execute_reply": "2025-09-04T00:58:07.520682Z"
    },
    "papermill": {
     "duration": 0.048033,
     "end_time": "2025-09-04T00:58:07.522339",
     "exception": false,
     "start_time": "2025-09-04T00:58:07.474306",
     "status": "completed"
    },
    "tags": []
   },
   "outputs": [
    {
     "name": "stdout",
     "output_type": "stream",
     "text": [
      "Loaded geocode cache.\n",
      "Geocode cache updated and saved.\n"
     ]
    },
    {
     "data": {
      "text/html": [
       "<div>\n",
       "<style scoped>\n",
       "    .dataframe tbody tr th:only-of-type {\n",
       "        vertical-align: middle;\n",
       "    }\n",
       "\n",
       "    .dataframe tbody tr th {\n",
       "        vertical-align: top;\n",
       "    }\n",
       "\n",
       "    .dataframe thead th {\n",
       "        text-align: right;\n",
       "    }\n",
       "</style>\n",
       "<table border=\"1\" class=\"dataframe\">\n",
       "  <thead>\n",
       "    <tr style=\"text-align: right;\">\n",
       "      <th></th>\n",
       "      <th>RecordID</th>\n",
       "      <th>Offense</th>\n",
       "      <th>IncidentID</th>\n",
       "      <th>BlockNumber</th>\n",
       "      <th>StreetName</th>\n",
       "      <th>Agency</th>\n",
       "      <th>HourReported</th>\n",
       "      <th>ReportingOfficer</th>\n",
       "      <th>Date</th>\n",
       "      <th>DateString</th>\n",
       "      <th>DayOfWeek</th>\n",
       "      <th>Weekend</th>\n",
       "      <th>Season</th>\n",
       "      <th>HourAMPM</th>\n",
       "      <th>TimeOfDay</th>\n",
       "      <th>FullStreet</th>\n",
       "      <th>lat</th>\n",
       "      <th>lon</th>\n",
       "    </tr>\n",
       "  </thead>\n",
       "  <tbody>\n",
       "    <tr>\n",
       "      <th>0</th>\n",
       "      <td>1</td>\n",
       "      <td>Death Investigation - DOA</td>\n",
       "      <td>202500031388</td>\n",
       "      <td></td>\n",
       "      <td>12TH ST NW / ROSSER AVE E</td>\n",
       "      <td>CPD</td>\n",
       "      <td>1703</td>\n",
       "      <td>Crowley, Raeann</td>\n",
       "      <td>2025-09-01 17:03:43</td>\n",
       "      <td>2025-09-01 05:03:43 PM</td>\n",
       "      <td>Monday</td>\n",
       "      <td>False</td>\n",
       "      <td>Summer</td>\n",
       "      <td>05:03 PM</td>\n",
       "      <td>Evening</td>\n",
       "      <td>12TH ST NW / ROSSER AVE E</td>\n",
       "      <td>38.040037</td>\n",
       "      <td>-78.493972</td>\n",
       "    </tr>\n",
       "    <tr>\n",
       "      <th>1</th>\n",
       "      <td>2</td>\n",
       "      <td>Larceny - All Other</td>\n",
       "      <td>202500031371</td>\n",
       "      <td>1100</td>\n",
       "      <td>EMMET ST N, M25</td>\n",
       "      <td>CPD</td>\n",
       "      <td>1233</td>\n",
       "      <td>Mian, Ghulam</td>\n",
       "      <td>2025-09-01 12:33:28</td>\n",
       "      <td>2025-09-01 12:33:28 PM</td>\n",
       "      <td>Monday</td>\n",
       "      <td>False</td>\n",
       "      <td>Summer</td>\n",
       "      <td>12:33 PM</td>\n",
       "      <td>Afternoon</td>\n",
       "      <td>1100 EMMET ST N, M25</td>\n",
       "      <td>38.051639</td>\n",
       "      <td>-78.501523</td>\n",
       "    </tr>\n",
       "    <tr>\n",
       "      <th>2</th>\n",
       "      <td>3</td>\n",
       "      <td>Suspicious Activity</td>\n",
       "      <td>202500031372</td>\n",
       "      <td>200</td>\n",
       "      <td>E WATER ST</td>\n",
       "      <td>CPD</td>\n",
       "      <td>1227</td>\n",
       "      <td>Kirby, Tyree</td>\n",
       "      <td>2025-09-01 12:27:35</td>\n",
       "      <td>2025-09-01 12:27:35 PM</td>\n",
       "      <td>Monday</td>\n",
       "      <td>False</td>\n",
       "      <td>Summer</td>\n",
       "      <td>12:27 PM</td>\n",
       "      <td>Afternoon</td>\n",
       "      <td>200 E WATER ST</td>\n",
       "      <td>38.029430</td>\n",
       "      <td>-78.481109</td>\n",
       "    </tr>\n",
       "    <tr>\n",
       "      <th>3</th>\n",
       "      <td>4</td>\n",
       "      <td>Vandalism</td>\n",
       "      <td>202500031351</td>\n",
       "      <td>2000</td>\n",
       "      <td>HOLIDAY DR, 209</td>\n",
       "      <td>CPD</td>\n",
       "      <td>0907</td>\n",
       "      <td>Mian, Ghulam</td>\n",
       "      <td>2025-09-01 09:07:50</td>\n",
       "      <td>2025-09-01 09:07:50 AM</td>\n",
       "      <td>Monday</td>\n",
       "      <td>False</td>\n",
       "      <td>Summer</td>\n",
       "      <td>09:07 AM</td>\n",
       "      <td>Morning</td>\n",
       "      <td>2000 HOLIDAY DR, 209</td>\n",
       "      <td>38.057681</td>\n",
       "      <td>-78.491402</td>\n",
       "    </tr>\n",
       "    <tr>\n",
       "      <th>4</th>\n",
       "      <td>5</td>\n",
       "      <td>Vandalism</td>\n",
       "      <td>202500031349</td>\n",
       "      <td>300</td>\n",
       "      <td>HILLSDALE DR</td>\n",
       "      <td>CPD</td>\n",
       "      <td>0816</td>\n",
       "      <td>Love-Baker, Sydney</td>\n",
       "      <td>2025-09-01 08:16:13</td>\n",
       "      <td>2025-09-01 08:16:13 AM</td>\n",
       "      <td>Monday</td>\n",
       "      <td>False</td>\n",
       "      <td>Summer</td>\n",
       "      <td>08:16 AM</td>\n",
       "      <td>Morning</td>\n",
       "      <td>300 HILLSDALE DR</td>\n",
       "      <td>38.064440</td>\n",
       "      <td>-78.486765</td>\n",
       "    </tr>\n",
       "  </tbody>\n",
       "</table>\n",
       "</div>"
      ],
      "text/plain": [
       "   RecordID                    Offense    IncidentID BlockNumber  \\\n",
       "0         1  Death Investigation - DOA  202500031388               \n",
       "1         2        Larceny - All Other  202500031371        1100   \n",
       "2         3        Suspicious Activity  202500031372         200   \n",
       "3         4                  Vandalism  202500031351        2000   \n",
       "4         5                  Vandalism  202500031349         300   \n",
       "\n",
       "                  StreetName Agency HourReported    ReportingOfficer  \\\n",
       "0  12TH ST NW / ROSSER AVE E    CPD         1703     Crowley, Raeann   \n",
       "1            EMMET ST N, M25    CPD         1233        Mian, Ghulam   \n",
       "2                 E WATER ST    CPD         1227        Kirby, Tyree   \n",
       "3            HOLIDAY DR, 209    CPD         0907        Mian, Ghulam   \n",
       "4               HILLSDALE DR    CPD         0816  Love-Baker, Sydney   \n",
       "\n",
       "                 Date              DateString DayOfWeek  Weekend  Season  \\\n",
       "0 2025-09-01 17:03:43  2025-09-01 05:03:43 PM    Monday    False  Summer   \n",
       "1 2025-09-01 12:33:28  2025-09-01 12:33:28 PM    Monday    False  Summer   \n",
       "2 2025-09-01 12:27:35  2025-09-01 12:27:35 PM    Monday    False  Summer   \n",
       "3 2025-09-01 09:07:50  2025-09-01 09:07:50 AM    Monday    False  Summer   \n",
       "4 2025-09-01 08:16:13  2025-09-01 08:16:13 AM    Monday    False  Summer   \n",
       "\n",
       "   HourAMPM  TimeOfDay                  FullStreet        lat        lon  \n",
       "0  05:03 PM    Evening   12TH ST NW / ROSSER AVE E  38.040037 -78.493972  \n",
       "1  12:33 PM  Afternoon        1100 EMMET ST N, M25  38.051639 -78.501523  \n",
       "2  12:27 PM  Afternoon              200 E WATER ST  38.029430 -78.481109  \n",
       "3  09:07 AM    Morning        2000 HOLIDAY DR, 209  38.057681 -78.491402  \n",
       "4  08:16 AM    Morning            300 HILLSDALE DR  38.064440 -78.486765  "
      ]
     },
     "execution_count": 9,
     "metadata": {},
     "output_type": "execute_result"
    }
   ],
   "source": [
    "# Combine BlockNumber and StreetName into a full address string\n",
    "df['FullStreet'] = df['BlockNumber'].astype(str) + \" \" + df['StreetName']\n",
    "\n",
    "# --- Step 1: Setup the Google Maps Client and Cache ---\n",
    "gmaps = googlemaps.Client(key=GOOGLE_API_KEY)\n",
    "\n",
    "# Try to load cached geocoding results if available.\n",
    "try:\n",
    "    with open(\"geocode_cache_google.pkl\", \"rb\") as f:\n",
    "        street_coords = pickle.load(f)\n",
    "    print(\"Loaded geocode cache.\")\n",
    "except FileNotFoundError:\n",
    "    street_coords = {}\n",
    "    print(\"No cache found; starting fresh.\")\n",
    "\n",
    "def geocode_address(address):\n",
    "    try:\n",
    "        # Append city and state to help geocoding\n",
    "        result = gmaps.geocode(f\"{address}, Charlottesville, VA\")\n",
    "        if result:\n",
    "            lat = result[0]['geometry']['location']['lat']\n",
    "            lon = result[0]['geometry']['location']['lng']\n",
    "            return lat, lon\n",
    "    except Exception as e:\n",
    "        print(f\"Error geocoding {address}: {e}\")\n",
    "    return None, None\n",
    "\n",
    "# --- Step 2: Geocode Only New Addresses ---\n",
    "unique_addresses = df['FullStreet'].unique()\n",
    "for address in unique_addresses:\n",
    "    if address not in street_coords:\n",
    "        lat, lon = geocode_address(address)\n",
    "        street_coords[address] = (lat, lon)\n",
    "        print(f\"Geocoded {address}: {lat}, {lon}\")\n",
    "\n",
    "# Save the updated cache to disk.\n",
    "with open(\"geocode_cache_google.pkl\", \"wb\") as f:\n",
    "    pickle.dump(street_coords, f)\n",
    "    print(\"Geocode cache updated and saved.\")\n",
    "\n",
    "# --- Step 3: Map Coordinates Back to DataFrame ---\n",
    "df['lat'] = df['FullStreet'].map(lambda s: street_coords.get(s, (None, None))[0])\n",
    "df['lon'] = df['FullStreet'].map(lambda s: street_coords.get(s, (None, None))[1])\n",
    "\n",
    "df.head()"
   ]
  },
  {
   "cell_type": "markdown",
   "id": "6d8b57cb",
   "metadata": {
    "papermill": {
     "duration": 0.004313,
     "end_time": "2025-09-04T00:58:07.531247",
     "exception": false,
     "start_time": "2025-09-04T00:58:07.526934",
     "status": "completed"
    },
    "tags": []
   },
   "source": [
    "### Neighborhood"
   ]
  },
  {
   "cell_type": "code",
   "execution_count": 10,
   "id": "f52af020",
   "metadata": {
    "execution": {
     "iopub.execute_input": "2025-09-04T00:58:07.540656Z",
     "iopub.status.busy": "2025-09-04T00:58:07.540426Z",
     "iopub.status.idle": "2025-09-04T00:58:10.994097Z",
     "shell.execute_reply": "2025-09-04T00:58:10.993552Z"
    },
    "papermill": {
     "duration": 3.459573,
     "end_time": "2025-09-04T00:58:10.995114",
     "exception": false,
     "start_time": "2025-09-04T00:58:07.535541",
     "status": "completed"
    },
    "tags": []
   },
   "outputs": [
    {
     "name": "stdout",
     "output_type": "stream",
     "text": [
      "Loaded neighborhood cache.\n"
     ]
    },
    {
     "name": "stdout",
     "output_type": "stream",
     "text": [
      "Error getting neighborhood for nan, nan: HTTP Error: 400\n"
     ]
    },
    {
     "name": "stdout",
     "output_type": "stream",
     "text": [
      "Error getting neighborhood for nan, nan: HTTP Error: 400\n",
      "Error getting neighborhood for nan, nan: HTTP Error: 400\n"
     ]
    },
    {
     "name": "stdout",
     "output_type": "stream",
     "text": [
      "Error getting neighborhood for nan, nan: HTTP Error: 400\n",
      "Error getting neighborhood for nan, nan: HTTP Error: 400\n",
      "Error getting neighborhood for nan, nan: HTTP Error: 400\n",
      "Error getting neighborhood for nan, nan: HTTP Error: 400\n"
     ]
    },
    {
     "name": "stdout",
     "output_type": "stream",
     "text": [
      "Error getting neighborhood for nan, nan: HTTP Error: 400\n"
     ]
    },
    {
     "name": "stdout",
     "output_type": "stream",
     "text": [
      "Error getting neighborhood for nan, nan: HTTP Error: 400\n",
      "Error getting neighborhood for nan, nan: HTTP Error: 400\n"
     ]
    },
    {
     "name": "stdout",
     "output_type": "stream",
     "text": [
      "Error getting neighborhood for nan, nan: HTTP Error: 400\n",
      "Error getting neighborhood for nan, nan: HTTP Error: 400\n",
      "Error getting neighborhood for nan, nan: HTTP Error: 400\n",
      "Error getting neighborhood for nan, nan: HTTP Error: 400\n",
      "Error getting neighborhood for nan, nan: HTTP Error: 400\n",
      "Error getting neighborhood for nan, nan: HTTP Error: 400\n"
     ]
    },
    {
     "name": "stdout",
     "output_type": "stream",
     "text": [
      "Error getting neighborhood for nan, nan: HTTP Error: 400\n",
      "Error getting neighborhood for nan, nan: HTTP Error: 400\n",
      "Error getting neighborhood for nan, nan: HTTP Error: 400\n",
      "Error getting neighborhood for nan, nan: HTTP Error: 400\n",
      "Error getting neighborhood for nan, nan: HTTP Error: 400\n"
     ]
    },
    {
     "name": "stdout",
     "output_type": "stream",
     "text": [
      "Error getting neighborhood for nan, nan: HTTP Error: 400\n",
      "Error getting neighborhood for nan, nan: HTTP Error: 400\n",
      "Error getting neighborhood for nan, nan: HTTP Error: 400\n",
      "Error getting neighborhood for nan, nan: HTTP Error: 400\n",
      "Error getting neighborhood for nan, nan: HTTP Error: 400\n",
      "Error getting neighborhood for nan, nan: HTTP Error: 400\n",
      "Error getting neighborhood for nan, nan: HTTP Error: 400\n"
     ]
    },
    {
     "name": "stdout",
     "output_type": "stream",
     "text": [
      "Error getting neighborhood for nan, nan: HTTP Error: 400\n",
      "Error getting neighborhood for nan, nan: HTTP Error: 400\n",
      "Error getting neighborhood for nan, nan: HTTP Error: 400\n",
      "Error getting neighborhood for nan, nan: HTTP Error: 400\n",
      "Error getting neighborhood for nan, nan: HTTP Error: 400\n"
     ]
    },
    {
     "name": "stdout",
     "output_type": "stream",
     "text": [
      "Error getting neighborhood for nan, nan: HTTP Error: 400\n",
      "Error getting neighborhood for nan, nan: HTTP Error: 400\n",
      "Error getting neighborhood for nan, nan: HTTP Error: 400\n",
      "Error getting neighborhood for nan, nan: HTTP Error: 400\n",
      "Error getting neighborhood for nan, nan: HTTP Error: 400\n",
      "Error getting neighborhood for nan, nan: HTTP Error: 400\n",
      "Error getting neighborhood for nan, nan: HTTP Error: 400\n"
     ]
    },
    {
     "name": "stdout",
     "output_type": "stream",
     "text": [
      "Error getting neighborhood for nan, nan: HTTP Error: 400\n",
      "Error getting neighborhood for nan, nan: HTTP Error: 400\n",
      "Error getting neighborhood for nan, nan: HTTP Error: 400\n",
      "Error getting neighborhood for nan, nan: HTTP Error: 400\n",
      "Error getting neighborhood for nan, nan: HTTP Error: 400\n"
     ]
    },
    {
     "name": "stdout",
     "output_type": "stream",
     "text": [
      "Error getting neighborhood for nan, nan: HTTP Error: 400\n",
      "Error getting neighborhood for nan, nan: HTTP Error: 400\n",
      "Error getting neighborhood for nan, nan: HTTP Error: 400\n",
      "Error getting neighborhood for nan, nan: HTTP Error: 400\n",
      "Error getting neighborhood for nan, nan: HTTP Error: 400\n",
      "Error getting neighborhood for nan, nan: HTTP Error: 400\n",
      "Error getting neighborhood for nan, nan: HTTP Error: 400\n"
     ]
    },
    {
     "name": "stdout",
     "output_type": "stream",
     "text": [
      "Error getting neighborhood for nan, nan: HTTP Error: 400\n",
      "Error getting neighborhood for nan, nan: HTTP Error: 400\n",
      "Error getting neighborhood for nan, nan: HTTP Error: 400\n",
      "Error getting neighborhood for nan, nan: HTTP Error: 400\n",
      "Error getting neighborhood for nan, nan: HTTP Error: 400\n"
     ]
    },
    {
     "name": "stdout",
     "output_type": "stream",
     "text": [
      "Error getting neighborhood for nan, nan: HTTP Error: 400\n",
      "Error getting neighborhood for nan, nan: HTTP Error: 400\n",
      "Error getting neighborhood for nan, nan: HTTP Error: 400\n",
      "Error getting neighborhood for nan, nan: HTTP Error: 400\n",
      "Error getting neighborhood for nan, nan: HTTP Error: 400\n",
      "Error getting neighborhood for nan, nan: HTTP Error: 400\n",
      "Error getting neighborhood for nan, nan: HTTP Error: 400\n"
     ]
    },
    {
     "name": "stdout",
     "output_type": "stream",
     "text": [
      "Error getting neighborhood for nan, nan: HTTP Error: 400\n",
      "Error getting neighborhood for nan, nan: HTTP Error: 400\n",
      "Error getting neighborhood for nan, nan: HTTP Error: 400\n",
      "Error getting neighborhood for nan, nan: HTTP Error: 400\n",
      "Error getting neighborhood for nan, nan: HTTP Error: 400\n"
     ]
    },
    {
     "name": "stdout",
     "output_type": "stream",
     "text": [
      "Error getting neighborhood for nan, nan: HTTP Error: 400\n",
      "Error getting neighborhood for nan, nan: HTTP Error: 400\n",
      "Error getting neighborhood for nan, nan: HTTP Error: 400\n",
      "Error getting neighborhood for nan, nan: HTTP Error: 400\n",
      "Error getting neighborhood for nan, nan: HTTP Error: 400\n",
      "Error getting neighborhood for nan, nan: HTTP Error: 400\n"
     ]
    },
    {
     "name": "stdout",
     "output_type": "stream",
     "text": [
      "Error getting neighborhood for nan, nan: HTTP Error: 400\n",
      "Error getting neighborhood for nan, nan: HTTP Error: 400\n",
      "Error getting neighborhood for nan, nan: HTTP Error: 400\n",
      "Error getting neighborhood for nan, nan: HTTP Error: 400\n",
      "Error getting neighborhood for nan, nan: HTTP Error: 400\n"
     ]
    },
    {
     "name": "stdout",
     "output_type": "stream",
     "text": [
      "Error getting neighborhood for nan, nan: HTTP Error: 400\n",
      "Error getting neighborhood for nan, nan: HTTP Error: 400\n",
      "Error getting neighborhood for nan, nan: HTTP Error: 400\n",
      "Error getting neighborhood for nan, nan: HTTP Error: 400\n",
      "Error getting neighborhood for nan, nan: HTTP Error: 400\n",
      "Error getting neighborhood for nan, nan: HTTP Error: 400\n",
      "Error getting neighborhood for nan, nan: HTTP Error: 400\n"
     ]
    },
    {
     "name": "stdout",
     "output_type": "stream",
     "text": [
      "Error getting neighborhood for nan, nan: HTTP Error: 400\n",
      "Error getting neighborhood for nan, nan: HTTP Error: 400\n",
      "Error getting neighborhood for nan, nan: HTTP Error: 400\n",
      "Error getting neighborhood for nan, nan: HTTP Error: 400\n",
      "Error getting neighborhood for nan, nan: HTTP Error: 400\n"
     ]
    },
    {
     "name": "stdout",
     "output_type": "stream",
     "text": [
      "Error getting neighborhood for nan, nan: HTTP Error: 400\n",
      "Error getting neighborhood for nan, nan: HTTP Error: 400\n",
      "Error getting neighborhood for nan, nan: HTTP Error: 400\n",
      "Error getting neighborhood for nan, nan: HTTP Error: 400\n",
      "Error getting neighborhood for nan, nan: HTTP Error: 400\n",
      "Error getting neighborhood for nan, nan: HTTP Error: 400\n",
      "Error getting neighborhood for nan, nan: HTTP Error: 400\n"
     ]
    },
    {
     "name": "stdout",
     "output_type": "stream",
     "text": [
      "Error getting neighborhood for nan, nan: HTTP Error: 400\n",
      "Error getting neighborhood for nan, nan: HTTP Error: 400\n",
      "Error getting neighborhood for nan, nan: HTTP Error: 400\n",
      "Error getting neighborhood for nan, nan: HTTP Error: 400\n",
      "Error getting neighborhood for nan, nan: HTTP Error: 400\n"
     ]
    },
    {
     "name": "stdout",
     "output_type": "stream",
     "text": [
      "Error getting neighborhood for nan, nan: HTTP Error: 400\n",
      "Error getting neighborhood for nan, nan: HTTP Error: 400\n",
      "Error getting neighborhood for nan, nan: HTTP Error: 400\n",
      "Error getting neighborhood for nan, nan: HTTP Error: 400\n",
      "Error getting neighborhood for nan, nan: HTTP Error: 400\n",
      "Error getting neighborhood for nan, nan: HTTP Error: 400\n",
      "Error getting neighborhood for nan, nan: HTTP Error: 400\n"
     ]
    },
    {
     "name": "stdout",
     "output_type": "stream",
     "text": [
      "Error getting neighborhood for nan, nan: HTTP Error: 400\n",
      "Error getting neighborhood for nan, nan: HTTP Error: 400\n",
      "Error getting neighborhood for nan, nan: HTTP Error: 400\n",
      "Error getting neighborhood for nan, nan: HTTP Error: 400\n",
      "Error getting neighborhood for nan, nan: HTTP Error: 400\n"
     ]
    },
    {
     "name": "stdout",
     "output_type": "stream",
     "text": [
      "Error getting neighborhood for nan, nan: HTTP Error: 400\n",
      "Error getting neighborhood for nan, nan: HTTP Error: 400\n",
      "Error getting neighborhood for nan, nan: HTTP Error: 400\n",
      "Error getting neighborhood for nan, nan: HTTP Error: 400\n",
      "Error getting neighborhood for nan, nan: HTTP Error: 400\n",
      "Error getting neighborhood for nan, nan: HTTP Error: 400\n",
      "Error getting neighborhood for nan, nan: HTTP Error: 400\n"
     ]
    },
    {
     "name": "stdout",
     "output_type": "stream",
     "text": [
      "Error getting neighborhood for nan, nan: HTTP Error: 400\n",
      "Error getting neighborhood for nan, nan: HTTP Error: 400\n",
      "Error getting neighborhood for nan, nan: HTTP Error: 400\n",
      "Error getting neighborhood for nan, nan: HTTP Error: 400\n",
      "Error getting neighborhood for nan, nan: HTTP Error: 400\n"
     ]
    },
    {
     "name": "stdout",
     "output_type": "stream",
     "text": [
      "Error getting neighborhood for nan, nan: HTTP Error: 400\n",
      "Error getting neighborhood for nan, nan: HTTP Error: 400\n",
      "Error getting neighborhood for nan, nan: HTTP Error: 400\n",
      "Error getting neighborhood for nan, nan: HTTP Error: 400\n",
      "Error getting neighborhood for nan, nan: HTTP Error: 400\n",
      "Error getting neighborhood for nan, nan: HTTP Error: 400\n",
      "Error getting neighborhood for nan, nan: HTTP Error: 400\n"
     ]
    },
    {
     "name": "stdout",
     "output_type": "stream",
     "text": [
      "Error getting neighborhood for nan, nan: HTTP Error: 400\n",
      "Error getting neighborhood for nan, nan: HTTP Error: 400\n",
      "Error getting neighborhood for nan, nan: HTTP Error: 400\n",
      "Error getting neighborhood for nan, nan: HTTP Error: 400\n",
      "Error getting neighborhood for nan, nan: HTTP Error: 400\n"
     ]
    },
    {
     "name": "stdout",
     "output_type": "stream",
     "text": [
      "Error getting neighborhood for nan, nan: HTTP Error: 400\n",
      "Error getting neighborhood for nan, nan: HTTP Error: 400\n",
      "Error getting neighborhood for nan, nan: HTTP Error: 400\n",
      "Error getting neighborhood for nan, nan: HTTP Error: 400\n",
      "Error getting neighborhood for nan, nan: HTTP Error: 400\n"
     ]
    },
    {
     "name": "stdout",
     "output_type": "stream",
     "text": [
      "Error getting neighborhood for nan, nan: HTTP Error: 400\n",
      "Error getting neighborhood for nan, nan: HTTP Error: 400\n",
      "Error getting neighborhood for nan, nan: HTTP Error: 400\n",
      "Error getting neighborhood for nan, nan: HTTP Error: 400\n",
      "Error getting neighborhood for nan, nan: HTTP Error: 400\n"
     ]
    },
    {
     "name": "stdout",
     "output_type": "stream",
     "text": [
      "Error getting neighborhood for nan, nan: HTTP Error: 400\n",
      "Error getting neighborhood for nan, nan: HTTP Error: 400\n",
      "Error getting neighborhood for nan, nan: HTTP Error: 400\n",
      "Error getting neighborhood for nan, nan: HTTP Error: 400\n",
      "Error getting neighborhood for nan, nan: HTTP Error: 400\n",
      "Error getting neighborhood for nan, nan: HTTP Error: 400\n"
     ]
    },
    {
     "name": "stdout",
     "output_type": "stream",
     "text": [
      "Error getting neighborhood for nan, nan: HTTP Error: 400\n",
      "Error getting neighborhood for nan, nan: HTTP Error: 400\n",
      "Error getting neighborhood for nan, nan: HTTP Error: 400\n",
      "Error getting neighborhood for nan, nan: HTTP Error: 400\n",
      "Error getting neighborhood for nan, nan: HTTP Error: 400\n"
     ]
    },
    {
     "name": "stdout",
     "output_type": "stream",
     "text": [
      "Error getting neighborhood for nan, nan: HTTP Error: 400\n",
      "Error getting neighborhood for nan, nan: HTTP Error: 400\n",
      "Error getting neighborhood for nan, nan: HTTP Error: 400\n",
      "Error getting neighborhood for nan, nan: HTTP Error: 400\n",
      "Error getting neighborhood for nan, nan: HTTP Error: 400\n"
     ]
    },
    {
     "name": "stdout",
     "output_type": "stream",
     "text": [
      "Error getting neighborhood for nan, nan: HTTP Error: 400\n"
     ]
    },
    {
     "data": {
      "text/html": [
       "<div>\n",
       "<style scoped>\n",
       "    .dataframe tbody tr th:only-of-type {\n",
       "        vertical-align: middle;\n",
       "    }\n",
       "\n",
       "    .dataframe tbody tr th {\n",
       "        vertical-align: top;\n",
       "    }\n",
       "\n",
       "    .dataframe thead th {\n",
       "        text-align: right;\n",
       "    }\n",
       "</style>\n",
       "<table border=\"1\" class=\"dataframe\">\n",
       "  <thead>\n",
       "    <tr style=\"text-align: right;\">\n",
       "      <th></th>\n",
       "      <th>RecordID</th>\n",
       "      <th>Offense</th>\n",
       "      <th>IncidentID</th>\n",
       "      <th>BlockNumber</th>\n",
       "      <th>StreetName</th>\n",
       "      <th>Agency</th>\n",
       "      <th>HourReported</th>\n",
       "      <th>ReportingOfficer</th>\n",
       "      <th>Date</th>\n",
       "      <th>DateString</th>\n",
       "      <th>DayOfWeek</th>\n",
       "      <th>Weekend</th>\n",
       "      <th>Season</th>\n",
       "      <th>HourAMPM</th>\n",
       "      <th>TimeOfDay</th>\n",
       "      <th>FullStreet</th>\n",
       "      <th>lat</th>\n",
       "      <th>lon</th>\n",
       "      <th>neighborhood</th>\n",
       "    </tr>\n",
       "  </thead>\n",
       "  <tbody>\n",
       "    <tr>\n",
       "      <th>0</th>\n",
       "      <td>1</td>\n",
       "      <td>Death Investigation - DOA</td>\n",
       "      <td>202500031388</td>\n",
       "      <td></td>\n",
       "      <td>12TH ST NW / ROSSER AVE E</td>\n",
       "      <td>CPD</td>\n",
       "      <td>1703</td>\n",
       "      <td>Crowley, Raeann</td>\n",
       "      <td>2025-09-01 17:03:43</td>\n",
       "      <td>2025-09-01 05:03:43 PM</td>\n",
       "      <td>Monday</td>\n",
       "      <td>False</td>\n",
       "      <td>Summer</td>\n",
       "      <td>05:03 PM</td>\n",
       "      <td>Evening</td>\n",
       "      <td>12TH ST NW / ROSSER AVE E</td>\n",
       "      <td>38.040037</td>\n",
       "      <td>-78.493972</td>\n",
       "      <td>Venable</td>\n",
       "    </tr>\n",
       "    <tr>\n",
       "      <th>1</th>\n",
       "      <td>2</td>\n",
       "      <td>Larceny - All Other</td>\n",
       "      <td>202500031371</td>\n",
       "      <td>1100</td>\n",
       "      <td>EMMET ST N, M25</td>\n",
       "      <td>CPD</td>\n",
       "      <td>1233</td>\n",
       "      <td>Mian, Ghulam</td>\n",
       "      <td>2025-09-01 12:33:28</td>\n",
       "      <td>2025-09-01 12:33:28 PM</td>\n",
       "      <td>Monday</td>\n",
       "      <td>False</td>\n",
       "      <td>Summer</td>\n",
       "      <td>12:33 PM</td>\n",
       "      <td>Afternoon</td>\n",
       "      <td>1100 EMMET ST N, M25</td>\n",
       "      <td>38.051639</td>\n",
       "      <td>-78.501523</td>\n",
       "      <td>Barracks Road</td>\n",
       "    </tr>\n",
       "    <tr>\n",
       "      <th>2</th>\n",
       "      <td>3</td>\n",
       "      <td>Suspicious Activity</td>\n",
       "      <td>202500031372</td>\n",
       "      <td>200</td>\n",
       "      <td>E WATER ST</td>\n",
       "      <td>CPD</td>\n",
       "      <td>1227</td>\n",
       "      <td>Kirby, Tyree</td>\n",
       "      <td>2025-09-01 12:27:35</td>\n",
       "      <td>2025-09-01 12:27:35 PM</td>\n",
       "      <td>Monday</td>\n",
       "      <td>False</td>\n",
       "      <td>Summer</td>\n",
       "      <td>12:27 PM</td>\n",
       "      <td>Afternoon</td>\n",
       "      <td>200 E WATER ST</td>\n",
       "      <td>38.029430</td>\n",
       "      <td>-78.481109</td>\n",
       "      <td>North Downtown</td>\n",
       "    </tr>\n",
       "    <tr>\n",
       "      <th>3</th>\n",
       "      <td>4</td>\n",
       "      <td>Vandalism</td>\n",
       "      <td>202500031351</td>\n",
       "      <td>2000</td>\n",
       "      <td>HOLIDAY DR, 209</td>\n",
       "      <td>CPD</td>\n",
       "      <td>0907</td>\n",
       "      <td>Mian, Ghulam</td>\n",
       "      <td>2025-09-01 09:07:50</td>\n",
       "      <td>2025-09-01 09:07:50 AM</td>\n",
       "      <td>Monday</td>\n",
       "      <td>False</td>\n",
       "      <td>Summer</td>\n",
       "      <td>09:07 AM</td>\n",
       "      <td>Morning</td>\n",
       "      <td>2000 HOLIDAY DR, 209</td>\n",
       "      <td>38.057681</td>\n",
       "      <td>-78.491402</td>\n",
       "      <td>The Meadows</td>\n",
       "    </tr>\n",
       "    <tr>\n",
       "      <th>4</th>\n",
       "      <td>5</td>\n",
       "      <td>Vandalism</td>\n",
       "      <td>202500031349</td>\n",
       "      <td>300</td>\n",
       "      <td>HILLSDALE DR</td>\n",
       "      <td>CPD</td>\n",
       "      <td>0816</td>\n",
       "      <td>Love-Baker, Sydney</td>\n",
       "      <td>2025-09-01 08:16:13</td>\n",
       "      <td>2025-09-01 08:16:13 AM</td>\n",
       "      <td>Monday</td>\n",
       "      <td>False</td>\n",
       "      <td>Summer</td>\n",
       "      <td>08:16 AM</td>\n",
       "      <td>Morning</td>\n",
       "      <td>300 HILLSDALE DR</td>\n",
       "      <td>38.064440</td>\n",
       "      <td>-78.486765</td>\n",
       "      <td>The Meadows</td>\n",
       "    </tr>\n",
       "  </tbody>\n",
       "</table>\n",
       "</div>"
      ],
      "text/plain": [
       "   RecordID                    Offense    IncidentID BlockNumber  \\\n",
       "0         1  Death Investigation - DOA  202500031388               \n",
       "1         2        Larceny - All Other  202500031371        1100   \n",
       "2         3        Suspicious Activity  202500031372         200   \n",
       "3         4                  Vandalism  202500031351        2000   \n",
       "4         5                  Vandalism  202500031349         300   \n",
       "\n",
       "                  StreetName Agency HourReported    ReportingOfficer  \\\n",
       "0  12TH ST NW / ROSSER AVE E    CPD         1703     Crowley, Raeann   \n",
       "1            EMMET ST N, M25    CPD         1233        Mian, Ghulam   \n",
       "2                 E WATER ST    CPD         1227        Kirby, Tyree   \n",
       "3            HOLIDAY DR, 209    CPD         0907        Mian, Ghulam   \n",
       "4               HILLSDALE DR    CPD         0816  Love-Baker, Sydney   \n",
       "\n",
       "                 Date              DateString DayOfWeek  Weekend  Season  \\\n",
       "0 2025-09-01 17:03:43  2025-09-01 05:03:43 PM    Monday    False  Summer   \n",
       "1 2025-09-01 12:33:28  2025-09-01 12:33:28 PM    Monday    False  Summer   \n",
       "2 2025-09-01 12:27:35  2025-09-01 12:27:35 PM    Monday    False  Summer   \n",
       "3 2025-09-01 09:07:50  2025-09-01 09:07:50 AM    Monday    False  Summer   \n",
       "4 2025-09-01 08:16:13  2025-09-01 08:16:13 AM    Monday    False  Summer   \n",
       "\n",
       "   HourAMPM  TimeOfDay                  FullStreet        lat        lon  \\\n",
       "0  05:03 PM    Evening   12TH ST NW / ROSSER AVE E  38.040037 -78.493972   \n",
       "1  12:33 PM  Afternoon        1100 EMMET ST N, M25  38.051639 -78.501523   \n",
       "2  12:27 PM  Afternoon              200 E WATER ST  38.029430 -78.481109   \n",
       "3  09:07 AM    Morning        2000 HOLIDAY DR, 209  38.057681 -78.491402   \n",
       "4  08:16 AM    Morning            300 HILLSDALE DR  38.064440 -78.486765   \n",
       "\n",
       "     neighborhood  \n",
       "0         Venable  \n",
       "1   Barracks Road  \n",
       "2  North Downtown  \n",
       "3     The Meadows  \n",
       "4     The Meadows  "
      ]
     },
     "execution_count": 10,
     "metadata": {},
     "output_type": "execute_result"
    }
   ],
   "source": [
    "# Initialize the Google Maps client.\n",
    "gmaps = googlemaps.Client(key=GOOGLE_API_KEY)\n",
    "\n",
    "# Try to load a persistent neighborhood cache if available.\n",
    "try:\n",
    "    with open(\"neighborhood_cache.pkl\", \"rb\") as f:\n",
    "        neighborhood_cache = pickle.load(f)\n",
    "    print(\"Loaded neighborhood cache.\")\n",
    "except FileNotFoundError:\n",
    "    neighborhood_cache = {}\n",
    "    print(\"No neighborhood cache found; starting fresh.\")\n",
    "\n",
    "def get_neighborhood(lat, lon):\n",
    "    \"\"\"\n",
    "    Reverse geocodes a latitude and longitude to retrieve the neighborhood.\n",
    "    Caches results to speed up subsequent lookups.\n",
    "    \"\"\"\n",
    "    key = (lat, lon)\n",
    "    if key in neighborhood_cache:\n",
    "        return neighborhood_cache[key]\n",
    "    \n",
    "    try:\n",
    "        result = gmaps.reverse_geocode((lat, lon))\n",
    "        if result:\n",
    "            # Look for the 'neighborhood' component in the first result.\n",
    "            for component in result[0]['address_components']:\n",
    "                if 'neighborhood' in component['types']:\n",
    "                    neighborhood = component['long_name']\n",
    "                    neighborhood_cache[key] = neighborhood\n",
    "                    return neighborhood\n",
    "            # If no neighborhood is found, return \"N/A\"\n",
    "            neighborhood_cache[key] = \"N/A\"\n",
    "            return \"N/A\"\n",
    "    except Exception as e:\n",
    "        print(f\"Error getting neighborhood for {lat}, {lon}: {e}\")\n",
    "        return \"N/A\"\n",
    "    \n",
    "    # Pause to respect usage limits.\n",
    "    time.sleep(1)\n",
    "\n",
    "# Example usage: Apply to your DataFrame 'df' that already has 'lat' and 'lon' columns.\n",
    "df['neighborhood'] = df.apply(lambda row: get_neighborhood(row['lat'], row['lon']), axis=1)\n",
    "\n",
    "# Save the updated neighborhood cache.\n",
    "with open(\"neighborhood_cache.pkl\", \"wb\") as f:\n",
    "    pickle.dump(neighborhood_cache, f)\n",
    "\n",
    "df.head()\n"
   ]
  },
  {
   "cell_type": "markdown",
   "id": "4e70b980",
   "metadata": {
    "papermill": {
     "duration": 0.006009,
     "end_time": "2025-09-04T00:58:11.007532",
     "exception": false,
     "start_time": "2025-09-04T00:58:11.001523",
     "status": "completed"
    },
    "tags": []
   },
   "source": [
    "### Zip"
   ]
  },
  {
   "cell_type": "code",
   "execution_count": 11,
   "id": "aa3288af",
   "metadata": {
    "execution": {
     "iopub.execute_input": "2025-09-04T00:58:11.020706Z",
     "iopub.status.busy": "2025-09-04T00:58:11.020504Z",
     "iopub.status.idle": "2025-09-04T01:00:59.084476Z",
     "shell.execute_reply": "2025-09-04T01:00:59.083885Z"
    },
    "papermill": {
     "duration": 168.071833,
     "end_time": "2025-09-04T01:00:59.085494",
     "exception": false,
     "start_time": "2025-09-04T00:58:11.013661",
     "status": "completed"
    },
    "tags": []
   },
   "outputs": [
    {
     "name": "stdout",
     "output_type": "stream",
     "text": [
      "Loaded zip cache.\n",
      "Error getting ZIP for nan, nan: Must be a coordinate pair or Point\n"
     ]
    },
    {
     "name": "stdout",
     "output_type": "stream",
     "text": [
      "Error getting ZIP for nan, nan: Must be a coordinate pair or Point\n"
     ]
    },
    {
     "name": "stdout",
     "output_type": "stream",
     "text": [
      "Error getting ZIP for nan, nan: Must be a coordinate pair or Point\n"
     ]
    },
    {
     "name": "stdout",
     "output_type": "stream",
     "text": [
      "Error getting ZIP for nan, nan: Must be a coordinate pair or Point\n"
     ]
    },
    {
     "name": "stdout",
     "output_type": "stream",
     "text": [
      "Error getting ZIP for nan, nan: Must be a coordinate pair or Point\n"
     ]
    },
    {
     "name": "stdout",
     "output_type": "stream",
     "text": [
      "Error getting ZIP for nan, nan: Must be a coordinate pair or Point\n"
     ]
    },
    {
     "name": "stdout",
     "output_type": "stream",
     "text": [
      "Error getting ZIP for nan, nan: Must be a coordinate pair or Point\n"
     ]
    },
    {
     "name": "stdout",
     "output_type": "stream",
     "text": [
      "Error getting ZIP for nan, nan: Must be a coordinate pair or Point\n"
     ]
    },
    {
     "name": "stdout",
     "output_type": "stream",
     "text": [
      "Error getting ZIP for nan, nan: Must be a coordinate pair or Point\n"
     ]
    },
    {
     "name": "stdout",
     "output_type": "stream",
     "text": [
      "Error getting ZIP for nan, nan: Must be a coordinate pair or Point\n"
     ]
    },
    {
     "name": "stdout",
     "output_type": "stream",
     "text": [
      "Error getting ZIP for nan, nan: Must be a coordinate pair or Point\n"
     ]
    },
    {
     "name": "stdout",
     "output_type": "stream",
     "text": [
      "Error getting ZIP for nan, nan: Must be a coordinate pair or Point\n"
     ]
    },
    {
     "name": "stdout",
     "output_type": "stream",
     "text": [
      "Error getting ZIP for nan, nan: Must be a coordinate pair or Point\n"
     ]
    },
    {
     "name": "stdout",
     "output_type": "stream",
     "text": [
      "Error getting ZIP for nan, nan: Must be a coordinate pair or Point\n"
     ]
    },
    {
     "name": "stdout",
     "output_type": "stream",
     "text": [
      "Error getting ZIP for nan, nan: Must be a coordinate pair or Point\n"
     ]
    },
    {
     "name": "stdout",
     "output_type": "stream",
     "text": [
      "Error getting ZIP for nan, nan: Must be a coordinate pair or Point\n"
     ]
    },
    {
     "name": "stdout",
     "output_type": "stream",
     "text": [
      "Error getting ZIP for nan, nan: Must be a coordinate pair or Point\n"
     ]
    },
    {
     "name": "stdout",
     "output_type": "stream",
     "text": [
      "Error getting ZIP for nan, nan: Must be a coordinate pair or Point\n"
     ]
    },
    {
     "name": "stdout",
     "output_type": "stream",
     "text": [
      "Error getting ZIP for nan, nan: Must be a coordinate pair or Point\n"
     ]
    },
    {
     "name": "stdout",
     "output_type": "stream",
     "text": [
      "Error getting ZIP for nan, nan: Must be a coordinate pair or Point\n"
     ]
    },
    {
     "name": "stdout",
     "output_type": "stream",
     "text": [
      "Error getting ZIP for nan, nan: Must be a coordinate pair or Point\n"
     ]
    },
    {
     "name": "stdout",
     "output_type": "stream",
     "text": [
      "Error getting ZIP for nan, nan: Must be a coordinate pair or Point\n"
     ]
    },
    {
     "name": "stdout",
     "output_type": "stream",
     "text": [
      "Error getting ZIP for nan, nan: Must be a coordinate pair or Point\n"
     ]
    },
    {
     "name": "stdout",
     "output_type": "stream",
     "text": [
      "Error getting ZIP for nan, nan: Must be a coordinate pair or Point\n"
     ]
    },
    {
     "name": "stdout",
     "output_type": "stream",
     "text": [
      "Error getting ZIP for nan, nan: Must be a coordinate pair or Point\n"
     ]
    },
    {
     "name": "stdout",
     "output_type": "stream",
     "text": [
      "Error getting ZIP for nan, nan: Must be a coordinate pair or Point\n"
     ]
    },
    {
     "name": "stdout",
     "output_type": "stream",
     "text": [
      "Error getting ZIP for nan, nan: Must be a coordinate pair or Point\n"
     ]
    },
    {
     "name": "stdout",
     "output_type": "stream",
     "text": [
      "Error getting ZIP for nan, nan: Must be a coordinate pair or Point\n"
     ]
    },
    {
     "name": "stdout",
     "output_type": "stream",
     "text": [
      "Error getting ZIP for nan, nan: Must be a coordinate pair or Point\n"
     ]
    },
    {
     "name": "stdout",
     "output_type": "stream",
     "text": [
      "Error getting ZIP for nan, nan: Must be a coordinate pair or Point\n"
     ]
    },
    {
     "name": "stdout",
     "output_type": "stream",
     "text": [
      "Error getting ZIP for nan, nan: Must be a coordinate pair or Point\n"
     ]
    },
    {
     "name": "stdout",
     "output_type": "stream",
     "text": [
      "Error getting ZIP for nan, nan: Must be a coordinate pair or Point\n"
     ]
    },
    {
     "name": "stdout",
     "output_type": "stream",
     "text": [
      "Error getting ZIP for nan, nan: Must be a coordinate pair or Point\n"
     ]
    },
    {
     "name": "stdout",
     "output_type": "stream",
     "text": [
      "Error getting ZIP for nan, nan: Must be a coordinate pair or Point\n"
     ]
    },
    {
     "name": "stdout",
     "output_type": "stream",
     "text": [
      "Error getting ZIP for nan, nan: Must be a coordinate pair or Point\n"
     ]
    },
    {
     "name": "stdout",
     "output_type": "stream",
     "text": [
      "Error getting ZIP for nan, nan: Must be a coordinate pair or Point\n"
     ]
    },
    {
     "name": "stdout",
     "output_type": "stream",
     "text": [
      "Error getting ZIP for nan, nan: Must be a coordinate pair or Point\n"
     ]
    },
    {
     "name": "stdout",
     "output_type": "stream",
     "text": [
      "Error getting ZIP for nan, nan: Must be a coordinate pair or Point\n"
     ]
    },
    {
     "name": "stdout",
     "output_type": "stream",
     "text": [
      "Error getting ZIP for nan, nan: Must be a coordinate pair or Point\n"
     ]
    },
    {
     "name": "stdout",
     "output_type": "stream",
     "text": [
      "Error getting ZIP for nan, nan: Must be a coordinate pair or Point\n"
     ]
    },
    {
     "name": "stdout",
     "output_type": "stream",
     "text": [
      "Error getting ZIP for nan, nan: Must be a coordinate pair or Point\n"
     ]
    },
    {
     "name": "stdout",
     "output_type": "stream",
     "text": [
      "Error getting ZIP for nan, nan: Must be a coordinate pair or Point\n"
     ]
    },
    {
     "name": "stdout",
     "output_type": "stream",
     "text": [
      "Error getting ZIP for nan, nan: Must be a coordinate pair or Point\n"
     ]
    },
    {
     "name": "stdout",
     "output_type": "stream",
     "text": [
      "Error getting ZIP for nan, nan: Must be a coordinate pair or Point\n"
     ]
    },
    {
     "name": "stdout",
     "output_type": "stream",
     "text": [
      "Error getting ZIP for nan, nan: Must be a coordinate pair or Point\n"
     ]
    },
    {
     "name": "stdout",
     "output_type": "stream",
     "text": [
      "Error getting ZIP for nan, nan: Must be a coordinate pair or Point\n"
     ]
    },
    {
     "name": "stdout",
     "output_type": "stream",
     "text": [
      "Error getting ZIP for nan, nan: Must be a coordinate pair or Point\n"
     ]
    },
    {
     "name": "stdout",
     "output_type": "stream",
     "text": [
      "Error getting ZIP for nan, nan: Must be a coordinate pair or Point\n"
     ]
    },
    {
     "name": "stdout",
     "output_type": "stream",
     "text": [
      "Error getting ZIP for nan, nan: Must be a coordinate pair or Point\n"
     ]
    },
    {
     "name": "stdout",
     "output_type": "stream",
     "text": [
      "Error getting ZIP for nan, nan: Must be a coordinate pair or Point\n"
     ]
    },
    {
     "name": "stdout",
     "output_type": "stream",
     "text": [
      "Error getting ZIP for nan, nan: Must be a coordinate pair or Point\n"
     ]
    },
    {
     "name": "stdout",
     "output_type": "stream",
     "text": [
      "Error getting ZIP for nan, nan: Must be a coordinate pair or Point\n"
     ]
    },
    {
     "name": "stdout",
     "output_type": "stream",
     "text": [
      "Error getting ZIP for nan, nan: Must be a coordinate pair or Point\n"
     ]
    },
    {
     "name": "stdout",
     "output_type": "stream",
     "text": [
      "Error getting ZIP for nan, nan: Must be a coordinate pair or Point\n"
     ]
    },
    {
     "name": "stdout",
     "output_type": "stream",
     "text": [
      "Error getting ZIP for nan, nan: Must be a coordinate pair or Point\n"
     ]
    },
    {
     "name": "stdout",
     "output_type": "stream",
     "text": [
      "Error getting ZIP for nan, nan: Must be a coordinate pair or Point\n"
     ]
    },
    {
     "name": "stdout",
     "output_type": "stream",
     "text": [
      "Error getting ZIP for nan, nan: Must be a coordinate pair or Point\n"
     ]
    },
    {
     "name": "stdout",
     "output_type": "stream",
     "text": [
      "Error getting ZIP for nan, nan: Must be a coordinate pair or Point\n"
     ]
    },
    {
     "name": "stdout",
     "output_type": "stream",
     "text": [
      "Error getting ZIP for nan, nan: Must be a coordinate pair or Point\n"
     ]
    },
    {
     "name": "stdout",
     "output_type": "stream",
     "text": [
      "Error getting ZIP for nan, nan: Must be a coordinate pair or Point\n"
     ]
    },
    {
     "name": "stdout",
     "output_type": "stream",
     "text": [
      "Error getting ZIP for nan, nan: Must be a coordinate pair or Point\n"
     ]
    },
    {
     "name": "stdout",
     "output_type": "stream",
     "text": [
      "Error getting ZIP for nan, nan: Must be a coordinate pair or Point\n"
     ]
    },
    {
     "name": "stdout",
     "output_type": "stream",
     "text": [
      "Error getting ZIP for nan, nan: Must be a coordinate pair or Point\n"
     ]
    },
    {
     "name": "stdout",
     "output_type": "stream",
     "text": [
      "Error getting ZIP for nan, nan: Must be a coordinate pair or Point\n"
     ]
    },
    {
     "name": "stdout",
     "output_type": "stream",
     "text": [
      "Error getting ZIP for nan, nan: Must be a coordinate pair or Point\n"
     ]
    },
    {
     "name": "stdout",
     "output_type": "stream",
     "text": [
      "Error getting ZIP for nan, nan: Must be a coordinate pair or Point\n"
     ]
    },
    {
     "name": "stdout",
     "output_type": "stream",
     "text": [
      "Error getting ZIP for nan, nan: Must be a coordinate pair or Point\n"
     ]
    },
    {
     "name": "stdout",
     "output_type": "stream",
     "text": [
      "Error getting ZIP for nan, nan: Must be a coordinate pair or Point\n"
     ]
    },
    {
     "name": "stdout",
     "output_type": "stream",
     "text": [
      "Error getting ZIP for nan, nan: Must be a coordinate pair or Point\n"
     ]
    },
    {
     "name": "stdout",
     "output_type": "stream",
     "text": [
      "Error getting ZIP for nan, nan: Must be a coordinate pair or Point\n"
     ]
    },
    {
     "name": "stdout",
     "output_type": "stream",
     "text": [
      "Error getting ZIP for nan, nan: Must be a coordinate pair or Point\n"
     ]
    },
    {
     "name": "stdout",
     "output_type": "stream",
     "text": [
      "Error getting ZIP for nan, nan: Must be a coordinate pair or Point\n"
     ]
    },
    {
     "name": "stdout",
     "output_type": "stream",
     "text": [
      "Error getting ZIP for nan, nan: Must be a coordinate pair or Point\n"
     ]
    },
    {
     "name": "stdout",
     "output_type": "stream",
     "text": [
      "Error getting ZIP for nan, nan: Must be a coordinate pair or Point\n"
     ]
    },
    {
     "name": "stdout",
     "output_type": "stream",
     "text": [
      "Error getting ZIP for nan, nan: Must be a coordinate pair or Point\n"
     ]
    },
    {
     "name": "stdout",
     "output_type": "stream",
     "text": [
      "Error getting ZIP for nan, nan: Must be a coordinate pair or Point\n"
     ]
    },
    {
     "name": "stdout",
     "output_type": "stream",
     "text": [
      "Error getting ZIP for nan, nan: Must be a coordinate pair or Point\n"
     ]
    },
    {
     "name": "stdout",
     "output_type": "stream",
     "text": [
      "Error getting ZIP for nan, nan: Must be a coordinate pair or Point\n"
     ]
    },
    {
     "name": "stdout",
     "output_type": "stream",
     "text": [
      "Error getting ZIP for nan, nan: Must be a coordinate pair or Point\n"
     ]
    },
    {
     "name": "stdout",
     "output_type": "stream",
     "text": [
      "Error getting ZIP for nan, nan: Must be a coordinate pair or Point\n"
     ]
    },
    {
     "name": "stdout",
     "output_type": "stream",
     "text": [
      "Error getting ZIP for nan, nan: Must be a coordinate pair or Point\n"
     ]
    },
    {
     "name": "stdout",
     "output_type": "stream",
     "text": [
      "Error getting ZIP for nan, nan: Must be a coordinate pair or Point\n"
     ]
    },
    {
     "name": "stdout",
     "output_type": "stream",
     "text": [
      "Error getting ZIP for nan, nan: Must be a coordinate pair or Point\n"
     ]
    },
    {
     "name": "stdout",
     "output_type": "stream",
     "text": [
      "Error getting ZIP for nan, nan: Must be a coordinate pair or Point\n"
     ]
    },
    {
     "name": "stdout",
     "output_type": "stream",
     "text": [
      "Error getting ZIP for nan, nan: Must be a coordinate pair or Point\n"
     ]
    },
    {
     "name": "stdout",
     "output_type": "stream",
     "text": [
      "Error getting ZIP for nan, nan: Must be a coordinate pair or Point\n"
     ]
    },
    {
     "name": "stdout",
     "output_type": "stream",
     "text": [
      "Error getting ZIP for nan, nan: Must be a coordinate pair or Point\n"
     ]
    },
    {
     "name": "stdout",
     "output_type": "stream",
     "text": [
      "Error getting ZIP for nan, nan: Must be a coordinate pair or Point\n"
     ]
    },
    {
     "name": "stdout",
     "output_type": "stream",
     "text": [
      "Error getting ZIP for nan, nan: Must be a coordinate pair or Point\n"
     ]
    },
    {
     "name": "stdout",
     "output_type": "stream",
     "text": [
      "Error getting ZIP for nan, nan: Must be a coordinate pair or Point\n"
     ]
    },
    {
     "name": "stdout",
     "output_type": "stream",
     "text": [
      "Error getting ZIP for nan, nan: Must be a coordinate pair or Point\n"
     ]
    },
    {
     "name": "stdout",
     "output_type": "stream",
     "text": [
      "Error getting ZIP for nan, nan: Must be a coordinate pair or Point\n"
     ]
    },
    {
     "name": "stdout",
     "output_type": "stream",
     "text": [
      "Error getting ZIP for nan, nan: Must be a coordinate pair or Point\n"
     ]
    },
    {
     "name": "stdout",
     "output_type": "stream",
     "text": [
      "Error getting ZIP for nan, nan: Must be a coordinate pair or Point\n"
     ]
    },
    {
     "name": "stdout",
     "output_type": "stream",
     "text": [
      "Error getting ZIP for nan, nan: Must be a coordinate pair or Point\n"
     ]
    },
    {
     "name": "stdout",
     "output_type": "stream",
     "text": [
      "Error getting ZIP for nan, nan: Must be a coordinate pair or Point\n"
     ]
    },
    {
     "name": "stdout",
     "output_type": "stream",
     "text": [
      "Error getting ZIP for nan, nan: Must be a coordinate pair or Point\n"
     ]
    },
    {
     "name": "stdout",
     "output_type": "stream",
     "text": [
      "Error getting ZIP for nan, nan: Must be a coordinate pair or Point\n"
     ]
    },
    {
     "name": "stdout",
     "output_type": "stream",
     "text": [
      "Error getting ZIP for nan, nan: Must be a coordinate pair or Point\n"
     ]
    },
    {
     "name": "stdout",
     "output_type": "stream",
     "text": [
      "Error getting ZIP for nan, nan: Must be a coordinate pair or Point\n"
     ]
    },
    {
     "name": "stdout",
     "output_type": "stream",
     "text": [
      "Error getting ZIP for nan, nan: Must be a coordinate pair or Point\n"
     ]
    },
    {
     "name": "stdout",
     "output_type": "stream",
     "text": [
      "Error getting ZIP for nan, nan: Must be a coordinate pair or Point\n"
     ]
    },
    {
     "name": "stdout",
     "output_type": "stream",
     "text": [
      "Error getting ZIP for nan, nan: Must be a coordinate pair or Point\n"
     ]
    },
    {
     "name": "stdout",
     "output_type": "stream",
     "text": [
      "Error getting ZIP for nan, nan: Must be a coordinate pair or Point\n"
     ]
    },
    {
     "name": "stdout",
     "output_type": "stream",
     "text": [
      "Error getting ZIP for nan, nan: Must be a coordinate pair or Point\n"
     ]
    },
    {
     "name": "stdout",
     "output_type": "stream",
     "text": [
      "Error getting ZIP for nan, nan: Must be a coordinate pair or Point\n"
     ]
    },
    {
     "name": "stdout",
     "output_type": "stream",
     "text": [
      "Error getting ZIP for nan, nan: Must be a coordinate pair or Point\n"
     ]
    },
    {
     "name": "stdout",
     "output_type": "stream",
     "text": [
      "Error getting ZIP for nan, nan: Must be a coordinate pair or Point\n"
     ]
    },
    {
     "name": "stdout",
     "output_type": "stream",
     "text": [
      "Error getting ZIP for nan, nan: Must be a coordinate pair or Point\n"
     ]
    },
    {
     "name": "stdout",
     "output_type": "stream",
     "text": [
      "Error getting ZIP for nan, nan: Must be a coordinate pair or Point\n"
     ]
    },
    {
     "name": "stdout",
     "output_type": "stream",
     "text": [
      "Error getting ZIP for nan, nan: Must be a coordinate pair or Point\n"
     ]
    },
    {
     "name": "stdout",
     "output_type": "stream",
     "text": [
      "Error getting ZIP for nan, nan: Must be a coordinate pair or Point\n"
     ]
    },
    {
     "name": "stdout",
     "output_type": "stream",
     "text": [
      "Error getting ZIP for nan, nan: Must be a coordinate pair or Point\n"
     ]
    },
    {
     "name": "stdout",
     "output_type": "stream",
     "text": [
      "Error getting ZIP for nan, nan: Must be a coordinate pair or Point\n"
     ]
    },
    {
     "name": "stdout",
     "output_type": "stream",
     "text": [
      "Error getting ZIP for nan, nan: Must be a coordinate pair or Point\n"
     ]
    },
    {
     "name": "stdout",
     "output_type": "stream",
     "text": [
      "Error getting ZIP for nan, nan: Must be a coordinate pair or Point\n"
     ]
    },
    {
     "name": "stdout",
     "output_type": "stream",
     "text": [
      "Error getting ZIP for nan, nan: Must be a coordinate pair or Point\n"
     ]
    },
    {
     "name": "stdout",
     "output_type": "stream",
     "text": [
      "Error getting ZIP for nan, nan: Must be a coordinate pair or Point\n"
     ]
    },
    {
     "name": "stdout",
     "output_type": "stream",
     "text": [
      "Error getting ZIP for nan, nan: Must be a coordinate pair or Point\n"
     ]
    },
    {
     "name": "stdout",
     "output_type": "stream",
     "text": [
      "Error getting ZIP for nan, nan: Must be a coordinate pair or Point\n"
     ]
    },
    {
     "name": "stdout",
     "output_type": "stream",
     "text": [
      "Error getting ZIP for nan, nan: Must be a coordinate pair or Point\n"
     ]
    },
    {
     "name": "stdout",
     "output_type": "stream",
     "text": [
      "Error getting ZIP for nan, nan: Must be a coordinate pair or Point\n"
     ]
    },
    {
     "name": "stdout",
     "output_type": "stream",
     "text": [
      "Error getting ZIP for nan, nan: Must be a coordinate pair or Point\n"
     ]
    },
    {
     "name": "stdout",
     "output_type": "stream",
     "text": [
      "Error getting ZIP for nan, nan: Must be a coordinate pair or Point\n"
     ]
    },
    {
     "name": "stdout",
     "output_type": "stream",
     "text": [
      "Error getting ZIP for nan, nan: Must be a coordinate pair or Point\n"
     ]
    },
    {
     "name": "stdout",
     "output_type": "stream",
     "text": [
      "Error getting ZIP for nan, nan: Must be a coordinate pair or Point\n"
     ]
    },
    {
     "name": "stdout",
     "output_type": "stream",
     "text": [
      "Error getting ZIP for nan, nan: Must be a coordinate pair or Point\n"
     ]
    },
    {
     "name": "stdout",
     "output_type": "stream",
     "text": [
      "Error getting ZIP for nan, nan: Must be a coordinate pair or Point\n"
     ]
    },
    {
     "name": "stdout",
     "output_type": "stream",
     "text": [
      "Error getting ZIP for nan, nan: Must be a coordinate pair or Point\n"
     ]
    },
    {
     "name": "stdout",
     "output_type": "stream",
     "text": [
      "Error getting ZIP for nan, nan: Must be a coordinate pair or Point\n"
     ]
    },
    {
     "name": "stdout",
     "output_type": "stream",
     "text": [
      "Error getting ZIP for nan, nan: Must be a coordinate pair or Point\n"
     ]
    },
    {
     "name": "stdout",
     "output_type": "stream",
     "text": [
      "Error getting ZIP for nan, nan: Must be a coordinate pair or Point\n"
     ]
    },
    {
     "name": "stdout",
     "output_type": "stream",
     "text": [
      "Error getting ZIP for nan, nan: Must be a coordinate pair or Point\n"
     ]
    },
    {
     "name": "stdout",
     "output_type": "stream",
     "text": [
      "Error getting ZIP for nan, nan: Must be a coordinate pair or Point\n"
     ]
    },
    {
     "name": "stdout",
     "output_type": "stream",
     "text": [
      "Error getting ZIP for nan, nan: Must be a coordinate pair or Point\n"
     ]
    },
    {
     "name": "stdout",
     "output_type": "stream",
     "text": [
      "Error getting ZIP for nan, nan: Must be a coordinate pair or Point\n"
     ]
    },
    {
     "name": "stdout",
     "output_type": "stream",
     "text": [
      "Error getting ZIP for nan, nan: Must be a coordinate pair or Point\n"
     ]
    },
    {
     "name": "stdout",
     "output_type": "stream",
     "text": [
      "Error getting ZIP for nan, nan: Must be a coordinate pair or Point\n"
     ]
    },
    {
     "name": "stdout",
     "output_type": "stream",
     "text": [
      "Error getting ZIP for nan, nan: Must be a coordinate pair or Point\n"
     ]
    },
    {
     "name": "stdout",
     "output_type": "stream",
     "text": [
      "Error getting ZIP for nan, nan: Must be a coordinate pair or Point\n"
     ]
    },
    {
     "name": "stdout",
     "output_type": "stream",
     "text": [
      "Error getting ZIP for nan, nan: Must be a coordinate pair or Point\n"
     ]
    },
    {
     "name": "stdout",
     "output_type": "stream",
     "text": [
      "Error getting ZIP for nan, nan: Must be a coordinate pair or Point\n"
     ]
    },
    {
     "name": "stdout",
     "output_type": "stream",
     "text": [
      "Error getting ZIP for nan, nan: Must be a coordinate pair or Point\n"
     ]
    },
    {
     "name": "stdout",
     "output_type": "stream",
     "text": [
      "Error getting ZIP for nan, nan: Must be a coordinate pair or Point\n"
     ]
    },
    {
     "name": "stdout",
     "output_type": "stream",
     "text": [
      "Error getting ZIP for nan, nan: Must be a coordinate pair or Point\n"
     ]
    },
    {
     "name": "stdout",
     "output_type": "stream",
     "text": [
      "Error getting ZIP for nan, nan: Must be a coordinate pair or Point\n"
     ]
    },
    {
     "name": "stdout",
     "output_type": "stream",
     "text": [
      "Error getting ZIP for nan, nan: Must be a coordinate pair or Point\n"
     ]
    },
    {
     "name": "stdout",
     "output_type": "stream",
     "text": [
      "Error getting ZIP for nan, nan: Must be a coordinate pair or Point\n"
     ]
    },
    {
     "name": "stdout",
     "output_type": "stream",
     "text": [
      "Error getting ZIP for nan, nan: Must be a coordinate pair or Point\n"
     ]
    },
    {
     "name": "stdout",
     "output_type": "stream",
     "text": [
      "Error getting ZIP for nan, nan: Must be a coordinate pair or Point\n"
     ]
    },
    {
     "name": "stdout",
     "output_type": "stream",
     "text": [
      "Error getting ZIP for nan, nan: Must be a coordinate pair or Point\n"
     ]
    },
    {
     "name": "stdout",
     "output_type": "stream",
     "text": [
      "Error getting ZIP for nan, nan: Must be a coordinate pair or Point\n"
     ]
    },
    {
     "name": "stdout",
     "output_type": "stream",
     "text": [
      "Error getting ZIP for nan, nan: Must be a coordinate pair or Point\n"
     ]
    },
    {
     "name": "stdout",
     "output_type": "stream",
     "text": [
      "Error getting ZIP for nan, nan: Must be a coordinate pair or Point\n"
     ]
    },
    {
     "name": "stdout",
     "output_type": "stream",
     "text": [
      "Error getting ZIP for nan, nan: Must be a coordinate pair or Point\n"
     ]
    },
    {
     "name": "stdout",
     "output_type": "stream",
     "text": [
      "Error getting ZIP for nan, nan: Must be a coordinate pair or Point\n"
     ]
    },
    {
     "name": "stdout",
     "output_type": "stream",
     "text": [
      "Error getting ZIP for nan, nan: Must be a coordinate pair or Point\n"
     ]
    },
    {
     "name": "stdout",
     "output_type": "stream",
     "text": [
      "Error getting ZIP for nan, nan: Must be a coordinate pair or Point\n"
     ]
    },
    {
     "name": "stdout",
     "output_type": "stream",
     "text": [
      "Error getting ZIP for nan, nan: Must be a coordinate pair or Point\n"
     ]
    },
    {
     "name": "stdout",
     "output_type": "stream",
     "text": [
      "Error getting ZIP for nan, nan: Must be a coordinate pair or Point\n"
     ]
    },
    {
     "name": "stdout",
     "output_type": "stream",
     "text": [
      "Error getting ZIP for nan, nan: Must be a coordinate pair or Point\n"
     ]
    },
    {
     "name": "stdout",
     "output_type": "stream",
     "text": [
      "Error getting ZIP for nan, nan: Must be a coordinate pair or Point\n"
     ]
    },
    {
     "name": "stdout",
     "output_type": "stream",
     "text": [
      "Error getting ZIP for nan, nan: Must be a coordinate pair or Point\n"
     ]
    },
    {
     "name": "stdout",
     "output_type": "stream",
     "text": [
      "Error getting ZIP for nan, nan: Must be a coordinate pair or Point\n"
     ]
    },
    {
     "name": "stdout",
     "output_type": "stream",
     "text": [
      "Error getting ZIP for nan, nan: Must be a coordinate pair or Point\n"
     ]
    },
    {
     "name": "stdout",
     "output_type": "stream",
     "text": [
      "Error getting ZIP for nan, nan: Must be a coordinate pair or Point\n"
     ]
    },
    {
     "name": "stdout",
     "output_type": "stream",
     "text": [
      "Error getting ZIP for nan, nan: Must be a coordinate pair or Point\n"
     ]
    },
    {
     "data": {
      "text/html": [
       "<div>\n",
       "<style scoped>\n",
       "    .dataframe tbody tr th:only-of-type {\n",
       "        vertical-align: middle;\n",
       "    }\n",
       "\n",
       "    .dataframe tbody tr th {\n",
       "        vertical-align: top;\n",
       "    }\n",
       "\n",
       "    .dataframe thead th {\n",
       "        text-align: right;\n",
       "    }\n",
       "</style>\n",
       "<table border=\"1\" class=\"dataframe\">\n",
       "  <thead>\n",
       "    <tr style=\"text-align: right;\">\n",
       "      <th></th>\n",
       "      <th>RecordID</th>\n",
       "      <th>Offense</th>\n",
       "      <th>IncidentID</th>\n",
       "      <th>BlockNumber</th>\n",
       "      <th>StreetName</th>\n",
       "      <th>Agency</th>\n",
       "      <th>HourReported</th>\n",
       "      <th>ReportingOfficer</th>\n",
       "      <th>Date</th>\n",
       "      <th>DateString</th>\n",
       "      <th>DayOfWeek</th>\n",
       "      <th>Weekend</th>\n",
       "      <th>Season</th>\n",
       "      <th>HourAMPM</th>\n",
       "      <th>TimeOfDay</th>\n",
       "      <th>FullStreet</th>\n",
       "      <th>lat</th>\n",
       "      <th>lon</th>\n",
       "      <th>neighborhood</th>\n",
       "      <th>zip</th>\n",
       "    </tr>\n",
       "  </thead>\n",
       "  <tbody>\n",
       "    <tr>\n",
       "      <th>0</th>\n",
       "      <td>1</td>\n",
       "      <td>Death Investigation - DOA</td>\n",
       "      <td>202500031388</td>\n",
       "      <td></td>\n",
       "      <td>12TH ST NW / ROSSER AVE E</td>\n",
       "      <td>CPD</td>\n",
       "      <td>1703</td>\n",
       "      <td>Crowley, Raeann</td>\n",
       "      <td>2025-09-01 17:03:43</td>\n",
       "      <td>2025-09-01 05:03:43 PM</td>\n",
       "      <td>Monday</td>\n",
       "      <td>False</td>\n",
       "      <td>Summer</td>\n",
       "      <td>05:03 PM</td>\n",
       "      <td>Evening</td>\n",
       "      <td>12TH ST NW / ROSSER AVE E</td>\n",
       "      <td>38.040037</td>\n",
       "      <td>-78.493972</td>\n",
       "      <td>Venable</td>\n",
       "      <td>22903</td>\n",
       "    </tr>\n",
       "    <tr>\n",
       "      <th>1</th>\n",
       "      <td>2</td>\n",
       "      <td>Larceny - All Other</td>\n",
       "      <td>202500031371</td>\n",
       "      <td>1100</td>\n",
       "      <td>EMMET ST N, M25</td>\n",
       "      <td>CPD</td>\n",
       "      <td>1233</td>\n",
       "      <td>Mian, Ghulam</td>\n",
       "      <td>2025-09-01 12:33:28</td>\n",
       "      <td>2025-09-01 12:33:28 PM</td>\n",
       "      <td>Monday</td>\n",
       "      <td>False</td>\n",
       "      <td>Summer</td>\n",
       "      <td>12:33 PM</td>\n",
       "      <td>Afternoon</td>\n",
       "      <td>1100 EMMET ST N, M25</td>\n",
       "      <td>38.051639</td>\n",
       "      <td>-78.501523</td>\n",
       "      <td>Barracks Road</td>\n",
       "      <td>22901</td>\n",
       "    </tr>\n",
       "    <tr>\n",
       "      <th>2</th>\n",
       "      <td>3</td>\n",
       "      <td>Suspicious Activity</td>\n",
       "      <td>202500031372</td>\n",
       "      <td>200</td>\n",
       "      <td>E WATER ST</td>\n",
       "      <td>CPD</td>\n",
       "      <td>1227</td>\n",
       "      <td>Kirby, Tyree</td>\n",
       "      <td>2025-09-01 12:27:35</td>\n",
       "      <td>2025-09-01 12:27:35 PM</td>\n",
       "      <td>Monday</td>\n",
       "      <td>False</td>\n",
       "      <td>Summer</td>\n",
       "      <td>12:27 PM</td>\n",
       "      <td>Afternoon</td>\n",
       "      <td>200 E WATER ST</td>\n",
       "      <td>38.029430</td>\n",
       "      <td>-78.481109</td>\n",
       "      <td>North Downtown</td>\n",
       "      <td>22903</td>\n",
       "    </tr>\n",
       "    <tr>\n",
       "      <th>3</th>\n",
       "      <td>4</td>\n",
       "      <td>Vandalism</td>\n",
       "      <td>202500031351</td>\n",
       "      <td>2000</td>\n",
       "      <td>HOLIDAY DR, 209</td>\n",
       "      <td>CPD</td>\n",
       "      <td>0907</td>\n",
       "      <td>Mian, Ghulam</td>\n",
       "      <td>2025-09-01 09:07:50</td>\n",
       "      <td>2025-09-01 09:07:50 AM</td>\n",
       "      <td>Monday</td>\n",
       "      <td>False</td>\n",
       "      <td>Summer</td>\n",
       "      <td>09:07 AM</td>\n",
       "      <td>Morning</td>\n",
       "      <td>2000 HOLIDAY DR, 209</td>\n",
       "      <td>38.057681</td>\n",
       "      <td>-78.491402</td>\n",
       "      <td>The Meadows</td>\n",
       "      <td>22901</td>\n",
       "    </tr>\n",
       "    <tr>\n",
       "      <th>4</th>\n",
       "      <td>5</td>\n",
       "      <td>Vandalism</td>\n",
       "      <td>202500031349</td>\n",
       "      <td>300</td>\n",
       "      <td>HILLSDALE DR</td>\n",
       "      <td>CPD</td>\n",
       "      <td>0816</td>\n",
       "      <td>Love-Baker, Sydney</td>\n",
       "      <td>2025-09-01 08:16:13</td>\n",
       "      <td>2025-09-01 08:16:13 AM</td>\n",
       "      <td>Monday</td>\n",
       "      <td>False</td>\n",
       "      <td>Summer</td>\n",
       "      <td>08:16 AM</td>\n",
       "      <td>Morning</td>\n",
       "      <td>300 HILLSDALE DR</td>\n",
       "      <td>38.064440</td>\n",
       "      <td>-78.486765</td>\n",
       "      <td>The Meadows</td>\n",
       "      <td>22901</td>\n",
       "    </tr>\n",
       "  </tbody>\n",
       "</table>\n",
       "</div>"
      ],
      "text/plain": [
       "   RecordID                    Offense    IncidentID BlockNumber  \\\n",
       "0         1  Death Investigation - DOA  202500031388               \n",
       "1         2        Larceny - All Other  202500031371        1100   \n",
       "2         3        Suspicious Activity  202500031372         200   \n",
       "3         4                  Vandalism  202500031351        2000   \n",
       "4         5                  Vandalism  202500031349         300   \n",
       "\n",
       "                  StreetName Agency HourReported    ReportingOfficer  \\\n",
       "0  12TH ST NW / ROSSER AVE E    CPD         1703     Crowley, Raeann   \n",
       "1            EMMET ST N, M25    CPD         1233        Mian, Ghulam   \n",
       "2                 E WATER ST    CPD         1227        Kirby, Tyree   \n",
       "3            HOLIDAY DR, 209    CPD         0907        Mian, Ghulam   \n",
       "4               HILLSDALE DR    CPD         0816  Love-Baker, Sydney   \n",
       "\n",
       "                 Date              DateString DayOfWeek  Weekend  Season  \\\n",
       "0 2025-09-01 17:03:43  2025-09-01 05:03:43 PM    Monday    False  Summer   \n",
       "1 2025-09-01 12:33:28  2025-09-01 12:33:28 PM    Monday    False  Summer   \n",
       "2 2025-09-01 12:27:35  2025-09-01 12:27:35 PM    Monday    False  Summer   \n",
       "3 2025-09-01 09:07:50  2025-09-01 09:07:50 AM    Monday    False  Summer   \n",
       "4 2025-09-01 08:16:13  2025-09-01 08:16:13 AM    Monday    False  Summer   \n",
       "\n",
       "   HourAMPM  TimeOfDay                  FullStreet        lat        lon  \\\n",
       "0  05:03 PM    Evening   12TH ST NW / ROSSER AVE E  38.040037 -78.493972   \n",
       "1  12:33 PM  Afternoon        1100 EMMET ST N, M25  38.051639 -78.501523   \n",
       "2  12:27 PM  Afternoon              200 E WATER ST  38.029430 -78.481109   \n",
       "3  09:07 AM    Morning        2000 HOLIDAY DR, 209  38.057681 -78.491402   \n",
       "4  08:16 AM    Morning            300 HILLSDALE DR  38.064440 -78.486765   \n",
       "\n",
       "     neighborhood    zip  \n",
       "0         Venable  22903  \n",
       "1   Barracks Road  22901  \n",
       "2  North Downtown  22903  \n",
       "3     The Meadows  22901  \n",
       "4     The Meadows  22901  "
      ]
     },
     "execution_count": 11,
     "metadata": {},
     "output_type": "execute_result"
    }
   ],
   "source": [
    "# Initialize the geocoder.\n",
    "geolocator = Nominatim(user_agent=\"zip_lookup\")\n",
    "\n",
    "# Try to load a persistent ZIP cache if available.\n",
    "try:\n",
    "    with open(\"zip_cache.pkl\", \"rb\") as f:\n",
    "        zip_cache = pickle.load(f)\n",
    "    print(\"Loaded zip cache.\")\n",
    "except FileNotFoundError:\n",
    "    zip_cache = {}\n",
    "    print(\"No zip cache found; starting fresh.\")\n",
    "\n",
    "def get_zip(lat, lon):\n",
    "    \"\"\"\n",
    "    Reverse geocodes a latitude and longitude to retrieve the ZIP code.\n",
    "    Caches results to speed up subsequent lookups.\n",
    "    \"\"\"\n",
    "    key = (lat, lon)\n",
    "    if key in zip_cache:\n",
    "        return zip_cache[key]\n",
    "    \n",
    "    try:\n",
    "        location = geolocator.reverse((lat, lon), exactly_one=True, timeout=10)\n",
    "        address = location.raw.get('address', {})\n",
    "        postal_code = address.get('postcode', \"N/A\")\n",
    "    except Exception as e:\n",
    "        print(f\"Error getting ZIP for {lat}, {lon}: {e}\")\n",
    "        postal_code = \"N/A\"\n",
    "    \n",
    "    zip_cache[key] = postal_code\n",
    "    # Pause to respect the usage policy.\n",
    "    time.sleep(1)\n",
    "    return postal_code\n",
    "\n",
    "# Apply the function to each row in the DataFrame.\n",
    "df['zip'] = df.apply(lambda row: get_zip(row['lat'], row['lon']), axis=1)\n",
    "\n",
    "# Save the updated ZIP cache.\n",
    "with open(\"zip_cache.pkl\", \"wb\") as f:\n",
    "    pickle.dump(zip_cache, f)\n",
    "\n",
    "df.head()\n"
   ]
  },
  {
   "cell_type": "code",
   "execution_count": 12,
   "id": "9eb3c49c",
   "metadata": {
    "execution": {
     "iopub.execute_input": "2025-09-04T01:00:59.112776Z",
     "iopub.status.busy": "2025-09-04T01:00:59.112586Z",
     "iopub.status.idle": "2025-09-04T01:00:59.139920Z",
     "shell.execute_reply": "2025-09-04T01:00:59.139363Z"
    },
    "papermill": {
     "duration": 0.041998,
     "end_time": "2025-09-04T01:00:59.140923",
     "exception": false,
     "start_time": "2025-09-04T01:00:59.098925",
     "status": "completed"
    },
    "tags": []
   },
   "outputs": [
    {
     "name": "stdout",
     "output_type": "stream",
     "text": [
      "                  MissingCount  MissingPercentage\n",
      "RecordID                     0               0.00\n",
      "Offense                      0               0.00\n",
      "IncidentID                   0               0.00\n",
      "BlockNumber                  0               0.00\n",
      "StreetName                   0               0.00\n",
      "Agency                       0               0.00\n",
      "HourReported                 0               0.00\n",
      "ReportingOfficer            14               0.05\n",
      "Date                         0               0.00\n",
      "DateString                   0               0.00\n",
      "DayOfWeek                    0               0.00\n",
      "Weekend                      0               0.00\n",
      "Season                       0               0.00\n",
      "HourAMPM                     0               0.00\n",
      "TimeOfDay                    0               0.00\n",
      "FullStreet                   0               0.00\n",
      "lat                        167               0.65\n",
      "lon                        167               0.65\n",
      "neighborhood                 0               0.00\n",
      "zip                          0               0.00\n"
     ]
    }
   ],
   "source": [
    "missing_info = missing_percentage(df)\n",
    "print(missing_info)\n"
   ]
  },
  {
   "cell_type": "code",
   "execution_count": 13,
   "id": "809170e5",
   "metadata": {
    "execution": {
     "iopub.execute_input": "2025-09-04T01:00:59.168251Z",
     "iopub.status.busy": "2025-09-04T01:00:59.168030Z",
     "iopub.status.idle": "2025-09-04T01:00:59.193892Z",
     "shell.execute_reply": "2025-09-04T01:00:59.193363Z"
    },
    "papermill": {
     "duration": 0.04062,
     "end_time": "2025-09-04T01:00:59.194859",
     "exception": false,
     "start_time": "2025-09-04T01:00:59.154239",
     "status": "completed"
    },
    "tags": []
   },
   "outputs": [
    {
     "name": "stdout",
     "output_type": "stream",
     "text": [
      "<class 'pandas.core.frame.DataFrame'>\n",
      "RangeIndex: 25728 entries, 0 to 25727\n",
      "Data columns (total 20 columns):\n",
      " #   Column            Non-Null Count  Dtype         \n",
      "---  ------            --------------  -----         \n",
      " 0   RecordID          25728 non-null  int64         \n",
      " 1   Offense           25728 non-null  object        \n",
      " 2   IncidentID        25728 non-null  object        \n",
      " 3   BlockNumber       25728 non-null  object        \n",
      " 4   StreetName        25728 non-null  object        \n",
      " 5   Agency            25728 non-null  object        \n",
      " 6   HourReported      25728 non-null  object        \n",
      " 7   ReportingOfficer  25714 non-null  object        \n",
      " 8   Date              25728 non-null  datetime64[ns]\n",
      " 9   DateString        25728 non-null  object        \n",
      " 10  DayOfWeek         25728 non-null  object        \n",
      " 11  Weekend           25728 non-null  bool          \n",
      " 12  Season            25728 non-null  object        \n",
      " 13  HourAMPM          25728 non-null  object        \n",
      " 14  TimeOfDay         25728 non-null  object        \n",
      " 15  FullStreet        25728 non-null  object        \n",
      " 16  lat               25561 non-null  float64       \n",
      " 17  lon               25561 non-null  float64       \n",
      " 18  neighborhood      25728 non-null  object        \n",
      " 19  zip               25728 non-null  object        \n",
      "dtypes: bool(1), datetime64[ns](1), float64(2), int64(1), object(15)\n",
      "memory usage: 3.8+ MB\n"
     ]
    }
   ],
   "source": [
    "df.info()"
   ]
  },
  {
   "cell_type": "code",
   "execution_count": 14,
   "id": "247425f6",
   "metadata": {
    "execution": {
     "iopub.execute_input": "2025-09-04T01:00:59.222382Z",
     "iopub.status.busy": "2025-09-04T01:00:59.222176Z",
     "iopub.status.idle": "2025-09-04T01:00:59.263224Z",
     "shell.execute_reply": "2025-09-04T01:00:59.262571Z"
    },
    "papermill": {
     "duration": 0.055865,
     "end_time": "2025-09-04T01:00:59.264254",
     "exception": false,
     "start_time": "2025-09-04T01:00:59.208389",
     "status": "completed"
    },
    "tags": []
   },
   "outputs": [
    {
     "data": {
      "text/html": [
       "<div>\n",
       "<style scoped>\n",
       "    .dataframe tbody tr th:only-of-type {\n",
       "        vertical-align: middle;\n",
       "    }\n",
       "\n",
       "    .dataframe tbody tr th {\n",
       "        vertical-align: top;\n",
       "    }\n",
       "\n",
       "    .dataframe thead th {\n",
       "        text-align: right;\n",
       "    }\n",
       "</style>\n",
       "<table border=\"1\" class=\"dataframe\">\n",
       "  <thead>\n",
       "    <tr style=\"text-align: right;\">\n",
       "      <th></th>\n",
       "      <th>RecordID</th>\n",
       "      <th>Offense</th>\n",
       "      <th>IncidentID</th>\n",
       "      <th>Agency</th>\n",
       "      <th>ReportingOfficer</th>\n",
       "      <th>Date</th>\n",
       "      <th>DayOfWeek</th>\n",
       "      <th>Weekend</th>\n",
       "      <th>Season</th>\n",
       "      <th>TimeOfDay</th>\n",
       "      <th>FullStreet</th>\n",
       "      <th>lat</th>\n",
       "      <th>lon</th>\n",
       "      <th>neighborhood</th>\n",
       "      <th>zip</th>\n",
       "    </tr>\n",
       "  </thead>\n",
       "  <tbody>\n",
       "    <tr>\n",
       "      <th>0</th>\n",
       "      <td>1</td>\n",
       "      <td>Death Investigation - DOA</td>\n",
       "      <td>202500031388</td>\n",
       "      <td>CPD</td>\n",
       "      <td>Crowley, Raeann</td>\n",
       "      <td>2025-09-01 17:03:43</td>\n",
       "      <td>Monday</td>\n",
       "      <td>False</td>\n",
       "      <td>Summer</td>\n",
       "      <td>Evening</td>\n",
       "      <td>12TH ST NW / ROSSER AVE E</td>\n",
       "      <td>38.040037</td>\n",
       "      <td>-78.493972</td>\n",
       "      <td>Venable</td>\n",
       "      <td>22903</td>\n",
       "    </tr>\n",
       "    <tr>\n",
       "      <th>1</th>\n",
       "      <td>2</td>\n",
       "      <td>Larceny - All Other</td>\n",
       "      <td>202500031371</td>\n",
       "      <td>CPD</td>\n",
       "      <td>Mian, Ghulam</td>\n",
       "      <td>2025-09-01 12:33:28</td>\n",
       "      <td>Monday</td>\n",
       "      <td>False</td>\n",
       "      <td>Summer</td>\n",
       "      <td>Afternoon</td>\n",
       "      <td>1100 EMMET ST N, M25</td>\n",
       "      <td>38.051639</td>\n",
       "      <td>-78.501523</td>\n",
       "      <td>Barracks Road</td>\n",
       "      <td>22901</td>\n",
       "    </tr>\n",
       "    <tr>\n",
       "      <th>2</th>\n",
       "      <td>3</td>\n",
       "      <td>Suspicious Activity</td>\n",
       "      <td>202500031372</td>\n",
       "      <td>CPD</td>\n",
       "      <td>Kirby, Tyree</td>\n",
       "      <td>2025-09-01 12:27:35</td>\n",
       "      <td>Monday</td>\n",
       "      <td>False</td>\n",
       "      <td>Summer</td>\n",
       "      <td>Afternoon</td>\n",
       "      <td>200 E WATER ST</td>\n",
       "      <td>38.02943</td>\n",
       "      <td>-78.481109</td>\n",
       "      <td>North Downtown</td>\n",
       "      <td>22903</td>\n",
       "    </tr>\n",
       "    <tr>\n",
       "      <th>3</th>\n",
       "      <td>4</td>\n",
       "      <td>Vandalism</td>\n",
       "      <td>202500031351</td>\n",
       "      <td>CPD</td>\n",
       "      <td>Mian, Ghulam</td>\n",
       "      <td>2025-09-01 09:07:50</td>\n",
       "      <td>Monday</td>\n",
       "      <td>False</td>\n",
       "      <td>Summer</td>\n",
       "      <td>Morning</td>\n",
       "      <td>2000 HOLIDAY DR, 209</td>\n",
       "      <td>38.057681</td>\n",
       "      <td>-78.491402</td>\n",
       "      <td>The Meadows</td>\n",
       "      <td>22901</td>\n",
       "    </tr>\n",
       "    <tr>\n",
       "      <th>4</th>\n",
       "      <td>5</td>\n",
       "      <td>Vandalism</td>\n",
       "      <td>202500031349</td>\n",
       "      <td>CPD</td>\n",
       "      <td>Love-Baker, Sydney</td>\n",
       "      <td>2025-09-01 08:16:13</td>\n",
       "      <td>Monday</td>\n",
       "      <td>False</td>\n",
       "      <td>Summer</td>\n",
       "      <td>Morning</td>\n",
       "      <td>300 HILLSDALE DR</td>\n",
       "      <td>38.06444</td>\n",
       "      <td>-78.486765</td>\n",
       "      <td>The Meadows</td>\n",
       "      <td>22901</td>\n",
       "    </tr>\n",
       "  </tbody>\n",
       "</table>\n",
       "</div>"
      ],
      "text/plain": [
       "   RecordID                    Offense    IncidentID Agency  \\\n",
       "0         1  Death Investigation - DOA  202500031388    CPD   \n",
       "1         2        Larceny - All Other  202500031371    CPD   \n",
       "2         3        Suspicious Activity  202500031372    CPD   \n",
       "3         4                  Vandalism  202500031351    CPD   \n",
       "4         5                  Vandalism  202500031349    CPD   \n",
       "\n",
       "     ReportingOfficer                Date DayOfWeek  Weekend  Season  \\\n",
       "0     Crowley, Raeann 2025-09-01 17:03:43    Monday    False  Summer   \n",
       "1        Mian, Ghulam 2025-09-01 12:33:28    Monday    False  Summer   \n",
       "2        Kirby, Tyree 2025-09-01 12:27:35    Monday    False  Summer   \n",
       "3        Mian, Ghulam 2025-09-01 09:07:50    Monday    False  Summer   \n",
       "4  Love-Baker, Sydney 2025-09-01 08:16:13    Monday    False  Summer   \n",
       "\n",
       "   TimeOfDay                  FullStreet        lat        lon  \\\n",
       "0    Evening   12TH ST NW / ROSSER AVE E  38.040037 -78.493972   \n",
       "1  Afternoon        1100 EMMET ST N, M25  38.051639 -78.501523   \n",
       "2  Afternoon              200 E WATER ST   38.02943 -78.481109   \n",
       "3    Morning        2000 HOLIDAY DR, 209  38.057681 -78.491402   \n",
       "4    Morning            300 HILLSDALE DR   38.06444 -78.486765   \n",
       "\n",
       "     neighborhood    zip  \n",
       "0         Venable  22903  \n",
       "1   Barracks Road  22901  \n",
       "2  North Downtown  22903  \n",
       "3     The Meadows  22901  \n",
       "4     The Meadows  22901  "
      ]
     },
     "execution_count": 14,
     "metadata": {},
     "output_type": "execute_result"
    }
   ],
   "source": [
    "# Now drop the original BlockNumber and StreetName columns\n",
    "df.drop(columns=['BlockNumber', 'StreetName','HourAMPM','HourReported','DateString'], inplace=True)\n",
    "df[\"zip\"] = df[\"zip\"].astype(str)\n",
    "\n",
    "# Fill all missing values in the DataFrame with \"N/A\"\n",
    "df.replace({None: \"N/A\", np.nan: \"N/A\", \"\": \"N/A\"}, inplace=True)\n",
    "df.head()"
   ]
  },
  {
   "cell_type": "code",
   "execution_count": 15,
   "id": "ecda7062",
   "metadata": {
    "execution": {
     "iopub.execute_input": "2025-09-04T01:00:59.292548Z",
     "iopub.status.busy": "2025-09-04T01:00:59.292318Z",
     "iopub.status.idle": "2025-09-04T01:00:59.307641Z",
     "shell.execute_reply": "2025-09-04T01:00:59.307093Z"
    },
    "papermill": {
     "duration": 0.030437,
     "end_time": "2025-09-04T01:00:59.308593",
     "exception": false,
     "start_time": "2025-09-04T01:00:59.278156",
     "status": "completed"
    },
    "tags": []
   },
   "outputs": [
    {
     "name": "stdout",
     "output_type": "stream",
     "text": [
      "                  MissingCount  MissingPercentage\n",
      "RecordID                     0                0.0\n",
      "Offense                      0                0.0\n",
      "IncidentID                   0                0.0\n",
      "Agency                       0                0.0\n",
      "ReportingOfficer             0                0.0\n",
      "Date                         0                0.0\n",
      "DayOfWeek                    0                0.0\n",
      "Weekend                      0                0.0\n",
      "Season                       0                0.0\n",
      "TimeOfDay                    0                0.0\n",
      "FullStreet                   0                0.0\n",
      "lat                          0                0.0\n",
      "lon                          0                0.0\n",
      "neighborhood                 0                0.0\n",
      "zip                          0                0.0\n"
     ]
    }
   ],
   "source": [
    "missing_info = missing_percentage(df)\n",
    "print(missing_info)"
   ]
  },
  {
   "cell_type": "code",
   "execution_count": 16,
   "id": "e22f4d15",
   "metadata": {
    "execution": {
     "iopub.execute_input": "2025-09-04T01:00:59.336698Z",
     "iopub.status.busy": "2025-09-04T01:00:59.336519Z",
     "iopub.status.idle": "2025-09-04T01:00:59.340419Z",
     "shell.execute_reply": "2025-09-04T01:00:59.339871Z"
    },
    "papermill": {
     "duration": 0.018914,
     "end_time": "2025-09-04T01:00:59.341315",
     "exception": false,
     "start_time": "2025-09-04T01:00:59.322401",
     "status": "completed"
    },
    "tags": []
   },
   "outputs": [
    {
     "data": {
      "text/plain": [
       "Index(['RecordID', 'Offense', 'IncidentID', 'Agency', 'ReportingOfficer',\n",
       "       'Date', 'DayOfWeek', 'Weekend', 'Season', 'TimeOfDay', 'FullStreet',\n",
       "       'lat', 'lon', 'neighborhood', 'zip'],\n",
       "      dtype='object')"
      ]
     },
     "execution_count": 16,
     "metadata": {},
     "output_type": "execute_result"
    }
   ],
   "source": [
    "df.columns"
   ]
  },
  {
   "cell_type": "code",
   "execution_count": 17,
   "id": "04073b6c",
   "metadata": {
    "execution": {
     "iopub.execute_input": "2025-09-04T01:00:59.369272Z",
     "iopub.status.busy": "2025-09-04T01:00:59.369095Z",
     "iopub.status.idle": "2025-09-04T01:00:59.385668Z",
     "shell.execute_reply": "2025-09-04T01:00:59.385128Z"
    },
    "papermill": {
     "duration": 0.031723,
     "end_time": "2025-09-04T01:00:59.386656",
     "exception": false,
     "start_time": "2025-09-04T01:00:59.354933",
     "status": "completed"
    },
    "tags": []
   },
   "outputs": [
    {
     "name": "stdout",
     "output_type": "stream",
     "text": [
      "<class 'pandas.core.frame.DataFrame'>\n",
      "RangeIndex: 25728 entries, 0 to 25727\n",
      "Data columns (total 15 columns):\n",
      " #   Column            Non-Null Count  Dtype         \n",
      "---  ------            --------------  -----         \n",
      " 0   RecordID          25728 non-null  int64         \n",
      " 1   Offense           25728 non-null  object        \n",
      " 2   IncidentID        25728 non-null  object        \n",
      " 3   Agency            25728 non-null  object        \n",
      " 4   ReportingOfficer  25728 non-null  object        \n",
      " 5   Date              25728 non-null  datetime64[ns]\n",
      " 6   DayOfWeek         25728 non-null  object        \n",
      " 7   Weekend           25728 non-null  bool          \n",
      " 8   Season            25728 non-null  object        \n",
      " 9   TimeOfDay         25728 non-null  object        \n",
      " 10  FullStreet        25728 non-null  object        \n",
      " 11  lat               25728 non-null  object        \n",
      " 12  lon               25728 non-null  object        \n",
      " 13  neighborhood      25728 non-null  object        \n",
      " 14  zip               25728 non-null  object        \n",
      "dtypes: bool(1), datetime64[ns](1), int64(1), object(12)\n",
      "memory usage: 2.8+ MB\n"
     ]
    }
   ],
   "source": [
    "df.info()"
   ]
  },
  {
   "cell_type": "markdown",
   "id": "36d0be2f",
   "metadata": {
    "papermill": {
     "duration": 0.013627,
     "end_time": "2025-09-04T01:00:59.414083",
     "exception": false,
     "start_time": "2025-09-04T01:00:59.400456",
     "status": "completed"
    },
    "tags": []
   },
   "source": [
    "### Export Clean Data"
   ]
  },
  {
   "cell_type": "code",
   "execution_count": 18,
   "id": "0b1a6683",
   "metadata": {
    "execution": {
     "iopub.execute_input": "2025-09-04T01:00:59.442625Z",
     "iopub.status.busy": "2025-09-04T01:00:59.442428Z",
     "iopub.status.idle": "2025-09-04T01:01:08.568102Z",
     "shell.execute_reply": "2025-09-04T01:01:08.567484Z"
    },
    "papermill": {
     "duration": 9.141195,
     "end_time": "2025-09-04T01:01:08.569152",
     "exception": false,
     "start_time": "2025-09-04T01:00:59.427957",
     "status": "completed"
    },
    "tags": []
   },
   "outputs": [
    {
     "name": "stdout",
     "output_type": "stream",
     "text": [
      "Project Root: /home/runner/work/crime-data/crime-data\n"
     ]
    },
    {
     "name": "stdout",
     "output_type": "stream",
     "text": [
      "Data saved to: /home/runner/work/crime-data/crime-data/data/charlottesville_crime_incidents.csv\n"
     ]
    },
    {
     "name": "stdout",
     "output_type": "stream",
     "text": [
      "Excel saved to: /home/runner/work/crime-data/crime-data/data/charlottesville_crime_incidents.xlsx\n"
     ]
    }
   ],
   "source": [
    "# Determine the project root (assuming papermill is run from the repository root)\n",
    "project_root = os.getcwd()\n",
    "print(\"Project Root:\", project_root)\n",
    "\n",
    "# Set the data directory within the project root\n",
    "data_dir = os.path.join(project_root, \"data\")\n",
    "\n",
    "# Ensure the \"data\" directory exists (create it if it doesn't)\n",
    "if not os.path.exists(data_dir):\n",
    "    os.makedirs(data_dir)\n",
    "\n",
    "# Export the DataFrame to CSV in the \"data\" folder located in the project root\n",
    "csv_path = os.path.join(data_dir, \"charlottesville_crime_incidents.csv\")\n",
    "df.to_csv(csv_path, index=False)\n",
    "print(\"Data saved to:\", csv_path)\n",
    "\n",
    "# Construct the path to your Excel file\n",
    "excel_path = os.path.join(data_dir, \"charlottesville_crime_incidents.xlsx\")\n",
    "\n",
    "# Export the DataFrame to Excel\n",
    "df.to_excel(excel_path, index=False)\n",
    "print(\"Excel saved to:\", excel_path)\n"
   ]
  }
 ],
 "metadata": {
  "kernelspec": {
   "display_name": "Python 3",
   "language": "python",
   "name": "python3"
  },
  "language_info": {
   "codemirror_mode": {
    "name": "ipython",
    "version": 3
   },
   "file_extension": ".py",
   "mimetype": "text/x-python",
   "name": "python",
   "nbconvert_exporter": "python",
   "pygments_lexer": "ipython3",
   "version": "3.9.23"
  },
  "papermill": {
   "default_parameters": {},
   "duration": 250.228179,
   "end_time": "2025-09-04T01:01:08.998724",
   "environment_variables": {},
   "exception": null,
   "input_path": "notebook/Crime Data.ipynb",
   "output_path": "notebook/Crime Data_output.ipynb",
   "parameters": {},
   "start_time": "2025-09-04T00:56:58.770545",
   "version": "2.6.0"
  }
 },
 "nbformat": 4,
 "nbformat_minor": 5
}