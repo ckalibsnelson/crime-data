{
 "cells": [
  {
   "cell_type": "markdown",
   "id": "875e4c30",
   "metadata": {
    "papermill": {
     "duration": 0.006443,
     "end_time": "2025-05-08T01:02:52.343068",
     "exception": false,
     "start_time": "2025-05-08T01:02:52.336625",
     "status": "completed"
    },
    "tags": []
   },
   "source": [
    "# Charlottesville Open Data Porttal: Crime Data"
   ]
  },
  {
   "cell_type": "markdown",
   "id": "2933d706",
   "metadata": {
    "papermill": {
     "duration": 0.004953,
     "end_time": "2025-05-08T01:02:52.353401",
     "exception": false,
     "start_time": "2025-05-08T01:02:52.348448",
     "status": "completed"
    },
    "tags": []
   },
   "source": [
    "## Import Relevant Librarires & Set WD"
   ]
  },
  {
   "cell_type": "code",
   "execution_count": 1,
   "id": "2fb088e2",
   "metadata": {
    "execution": {
     "iopub.execute_input": "2025-05-08T01:02:52.364328Z",
     "iopub.status.busy": "2025-05-08T01:02:52.364108Z",
     "iopub.status.idle": "2025-05-08T01:02:52.998368Z",
     "shell.execute_reply": "2025-05-08T01:02:52.997751Z"
    },
    "papermill": {
     "duration": 0.641359,
     "end_time": "2025-05-08T01:02:52.999770",
     "exception": false,
     "start_time": "2025-05-08T01:02:52.358411",
     "status": "completed"
    },
    "tags": []
   },
   "outputs": [],
   "source": [
    "import requests\n",
    "import pandas as pd\n",
    "import numpy as np\n",
    "import pickle\n",
    "import googlemaps\n",
    "import plotly.express as px\n",
    "from geopy.geocoders import Nominatim\n",
    "import time\n",
    "from dotenv import load_dotenv\n",
    "import os\n",
    "\n",
    "env_path = os.path.join(\"..\", \".env\")\n",
    "#print(\"Looking for .env file at:\", os.path.abspath(env_path))\n",
    "load_dotenv(dotenv_path=env_path)\n",
    "\n",
    "# Retrieve the variables\n",
    "GOOGLE_API_KEY = os.getenv(\"GOOGLE_API_KEY\")\n",
    "WORKING_DIR = os.getenv(\"WORKING_DIR\")\n",
    "\n",
    "if GOOGLE_API_KEY is None or WORKING_DIR is None:\n",
    "    raise RuntimeError(\"No configuration found. Please ensure that your .env file exists with the required variables, or create a local config.py file.\")\n",
    "\n",
    "#print(\"Google API Key:\", GOOGLE_API_KEY)\n",
    "#print(\"Working Directory:\", WORKING_DIR)"
   ]
  },
  {
   "cell_type": "markdown",
   "id": "8e9adabd",
   "metadata": {
    "papermill": {
     "duration": 0.005085,
     "end_time": "2025-05-08T01:02:53.010520",
     "exception": false,
     "start_time": "2025-05-08T01:02:53.005435",
     "status": "completed"
    },
    "tags": []
   },
   "source": [
    "## Import Data\n",
    "\n",
    "URL: https://opendata.charlottesville.org/datasets/charlottesville::crime-data/about"
   ]
  },
  {
   "cell_type": "code",
   "execution_count": 2,
   "id": "5e88bbc8",
   "metadata": {
    "execution": {
     "iopub.execute_input": "2025-05-08T01:02:53.021806Z",
     "iopub.status.busy": "2025-05-08T01:02:53.021333Z",
     "iopub.status.idle": "2025-05-08T01:03:53.947521Z",
     "shell.execute_reply": "2025-05-08T01:03:53.946741Z"
    },
    "papermill": {
     "duration": 60.938734,
     "end_time": "2025-05-08T01:03:53.954364",
     "exception": false,
     "start_time": "2025-05-08T01:02:53.015630",
     "status": "completed"
    },
    "tags": []
   },
   "outputs": [
    {
     "name": "stdout",
     "output_type": "stream",
     "text": [
      "Total records imported: 25345\n"
     ]
    }
   ],
   "source": [
    "# Define the endpoint and initial parameters.\n",
    "url = \"https://gisweb.charlottesville.org/arcgis/rest/services/OpenData_2/MapServer/6/query\"\n",
    "params = {\n",
    "    \"where\": \"1=1\",\n",
    "    \"outFields\": \"*\",\n",
    "    \"outSR\": 4326,\n",
    "    \"f\": \"json\",\n",
    "    \"resultOffset\": 0,       # Starting index for results\n",
    "    \"resultRecordCount\": 10000  # Maximum records per batch (if allowed by the API)\n",
    "}\n",
    "\n",
    "records = []\n",
    "\n",
    "while True:\n",
    "    response = requests.get(url, params=params)\n",
    "    response.raise_for_status()\n",
    "    data = response.json()\n",
    "    \n",
    "    # Get the current batch of features.\n",
    "    features = data.get(\"features\", [])\n",
    "    if not features:\n",
    "        break\n",
    "\n",
    "    # Extract the attributes from the features.\n",
    "    batch_records = [feature.get(\"attributes\", {}) for feature in features]\n",
    "    records.extend(batch_records)\n",
    "    \n",
    "    # If the batch size is less than the requested count, we reached the end.\n",
    "    if len(features) < params[\"resultRecordCount\"]:\n",
    "        break\n",
    "\n",
    "    # Update the resultOffset for the next batch.\n",
    "    params[\"resultOffset\"] += params[\"resultRecordCount\"]\n",
    "\n",
    "# Create a DataFrame from the combined records.\n",
    "df = pd.DataFrame(records)\n",
    "print(\"Total records imported:\", len(df))\n"
   ]
  },
  {
   "cell_type": "code",
   "execution_count": 3,
   "id": "a11c670c",
   "metadata": {
    "execution": {
     "iopub.execute_input": "2025-05-08T01:03:53.990402Z",
     "iopub.status.busy": "2025-05-08T01:03:53.989882Z",
     "iopub.status.idle": "2025-05-08T01:03:54.002556Z",
     "shell.execute_reply": "2025-05-08T01:03:54.001990Z"
    },
    "papermill": {
     "duration": 0.04387,
     "end_time": "2025-05-08T01:03:54.003526",
     "exception": false,
     "start_time": "2025-05-08T01:03:53.959656",
     "status": "completed"
    },
    "tags": []
   },
   "outputs": [
    {
     "data": {
      "text/html": [
       "<div>\n",
       "<style scoped>\n",
       "    .dataframe tbody tr th:only-of-type {\n",
       "        vertical-align: middle;\n",
       "    }\n",
       "\n",
       "    .dataframe tbody tr th {\n",
       "        vertical-align: top;\n",
       "    }\n",
       "\n",
       "    .dataframe thead th {\n",
       "        text-align: right;\n",
       "    }\n",
       "</style>\n",
       "<table border=\"1\" class=\"dataframe\">\n",
       "  <thead>\n",
       "    <tr style=\"text-align: right;\">\n",
       "      <th></th>\n",
       "      <th>RecordID</th>\n",
       "      <th>Offense</th>\n",
       "      <th>IncidentID</th>\n",
       "      <th>BlockNumber</th>\n",
       "      <th>StreetName</th>\n",
       "      <th>Agency</th>\n",
       "      <th>DateReported</th>\n",
       "      <th>HourReported</th>\n",
       "      <th>ReportingOfficer</th>\n",
       "    </tr>\n",
       "  </thead>\n",
       "  <tbody>\n",
       "    <tr>\n",
       "      <th>0</th>\n",
       "      <td>1</td>\n",
       "      <td>Assist Citizen - Medical</td>\n",
       "      <td>202500015024</td>\n",
       "      <td>1400</td>\n",
       "      <td>MONTICELLO RD, 100</td>\n",
       "      <td>CPD</td>\n",
       "      <td>1746477035000</td>\n",
       "      <td>1630</td>\n",
       "      <td>Crowley, Raeann</td>\n",
       "    </tr>\n",
       "    <tr>\n",
       "      <th>1</th>\n",
       "      <td>2</td>\n",
       "      <td>Assist Citizen - Mental/TDO/ECO</td>\n",
       "      <td>202500015023</td>\n",
       "      <td>1400</td>\n",
       "      <td>HAMPTON ST</td>\n",
       "      <td>CPD</td>\n",
       "      <td>1746476561000</td>\n",
       "      <td>1622</td>\n",
       "      <td>Benbow, Lauren</td>\n",
       "    </tr>\n",
       "    <tr>\n",
       "      <th>2</th>\n",
       "      <td>3</td>\n",
       "      <td>Larceny - Theft from Building</td>\n",
       "      <td>202500014987</td>\n",
       "      <td>200</td>\n",
       "      <td>E MARKET ST</td>\n",
       "      <td>CPD</td>\n",
       "      <td>1746458526000</td>\n",
       "      <td>1122</td>\n",
       "      <td>Kirby, Tyree</td>\n",
       "    </tr>\n",
       "    <tr>\n",
       "      <th>3</th>\n",
       "      <td>4</td>\n",
       "      <td>Assault Simple</td>\n",
       "      <td>202500014982</td>\n",
       "      <td>200</td>\n",
       "      <td>RIDGE ST</td>\n",
       "      <td>CPD</td>\n",
       "      <td>1746455253000</td>\n",
       "      <td>1027</td>\n",
       "      <td>Wisser, Shawn</td>\n",
       "    </tr>\n",
       "    <tr>\n",
       "      <th>4</th>\n",
       "      <td>5</td>\n",
       "      <td>Assault Aggravated</td>\n",
       "      <td>202500014979</td>\n",
       "      <td>500</td>\n",
       "      <td>RIDGE ST, 508</td>\n",
       "      <td>CPD</td>\n",
       "      <td>1746455135000</td>\n",
       "      <td>1025</td>\n",
       "      <td>Schwartz, Honora</td>\n",
       "    </tr>\n",
       "  </tbody>\n",
       "</table>\n",
       "</div>"
      ],
      "text/plain": [
       "   RecordID                          Offense    IncidentID BlockNumber  \\\n",
       "0         1         Assist Citizen - Medical  202500015024        1400   \n",
       "1         2  Assist Citizen - Mental/TDO/ECO  202500015023        1400   \n",
       "2         3    Larceny - Theft from Building  202500014987         200   \n",
       "3         4                   Assault Simple  202500014982         200   \n",
       "4         5               Assault Aggravated  202500014979         500   \n",
       "\n",
       "           StreetName Agency   DateReported HourReported  ReportingOfficer  \n",
       "0  MONTICELLO RD, 100    CPD  1746477035000         1630   Crowley, Raeann  \n",
       "1          HAMPTON ST    CPD  1746476561000         1622    Benbow, Lauren  \n",
       "2         E MARKET ST    CPD  1746458526000         1122      Kirby, Tyree  \n",
       "3            RIDGE ST    CPD  1746455253000         1027     Wisser, Shawn  \n",
       "4       RIDGE ST, 508    CPD  1746455135000         1025  Schwartz, Honora  "
      ]
     },
     "execution_count": 3,
     "metadata": {},
     "output_type": "execute_result"
    }
   ],
   "source": [
    "df.head()"
   ]
  },
  {
   "cell_type": "code",
   "execution_count": 4,
   "id": "2ca9cd2a",
   "metadata": {
    "execution": {
     "iopub.execute_input": "2025-05-08T01:03:54.015166Z",
     "iopub.status.busy": "2025-05-08T01:03:54.014752Z",
     "iopub.status.idle": "2025-05-08T01:03:54.019027Z",
     "shell.execute_reply": "2025-05-08T01:03:54.018511Z"
    },
    "papermill": {
     "duration": 0.011012,
     "end_time": "2025-05-08T01:03:54.019953",
     "exception": false,
     "start_time": "2025-05-08T01:03:54.008941",
     "status": "completed"
    },
    "tags": []
   },
   "outputs": [
    {
     "data": {
      "text/plain": [
       "Index(['RecordID', 'Offense', 'IncidentID', 'BlockNumber', 'StreetName',\n",
       "       'Agency', 'DateReported', 'HourReported', 'ReportingOfficer'],\n",
       "      dtype='object')"
      ]
     },
     "execution_count": 4,
     "metadata": {},
     "output_type": "execute_result"
    }
   ],
   "source": [
    "df.columns"
   ]
  },
  {
   "cell_type": "code",
   "execution_count": 5,
   "id": "533e400c",
   "metadata": {
    "execution": {
     "iopub.execute_input": "2025-05-08T01:03:54.032124Z",
     "iopub.status.busy": "2025-05-08T01:03:54.031618Z",
     "iopub.status.idle": "2025-05-08T01:03:54.056114Z",
     "shell.execute_reply": "2025-05-08T01:03:54.055567Z"
    },
    "papermill": {
     "duration": 0.031665,
     "end_time": "2025-05-08T01:03:54.057199",
     "exception": false,
     "start_time": "2025-05-08T01:03:54.025534",
     "status": "completed"
    },
    "tags": []
   },
   "outputs": [
    {
     "name": "stdout",
     "output_type": "stream",
     "text": [
      "<class 'pandas.core.frame.DataFrame'>\n",
      "RangeIndex: 25345 entries, 0 to 25344\n",
      "Data columns (total 9 columns):\n",
      " #   Column            Non-Null Count  Dtype \n",
      "---  ------            --------------  ----- \n",
      " 0   RecordID          25345 non-null  int64 \n",
      " 1   Offense           25345 non-null  object\n",
      " 2   IncidentID        25345 non-null  object\n",
      " 3   BlockNumber       25345 non-null  object\n",
      " 4   StreetName        25345 non-null  object\n",
      " 5   Agency            25345 non-null  object\n",
      " 6   DateReported      25345 non-null  int64 \n",
      " 7   HourReported      25345 non-null  object\n",
      " 8   ReportingOfficer  25328 non-null  object\n",
      "dtypes: int64(2), object(7)\n",
      "memory usage: 1.7+ MB\n"
     ]
    }
   ],
   "source": [
    "df.info()"
   ]
  },
  {
   "cell_type": "markdown",
   "id": "b6170dff",
   "metadata": {
    "papermill": {
     "duration": 0.005466,
     "end_time": "2025-05-08T01:03:54.068527",
     "exception": false,
     "start_time": "2025-05-08T01:03:54.063061",
     "status": "completed"
    },
    "tags": []
   },
   "source": [
    "### Missing Values"
   ]
  },
  {
   "cell_type": "code",
   "execution_count": 6,
   "id": "34d67735",
   "metadata": {
    "execution": {
     "iopub.execute_input": "2025-05-08T01:03:54.080599Z",
     "iopub.status.busy": "2025-05-08T01:03:54.080189Z",
     "iopub.status.idle": "2025-05-08T01:03:54.100433Z",
     "shell.execute_reply": "2025-05-08T01:03:54.099890Z"
    },
    "papermill": {
     "duration": 0.027353,
     "end_time": "2025-05-08T01:03:54.101432",
     "exception": false,
     "start_time": "2025-05-08T01:03:54.074079",
     "status": "completed"
    },
    "tags": []
   },
   "outputs": [
    {
     "name": "stdout",
     "output_type": "stream",
     "text": [
      "                  MissingCount  MissingPercentage\n",
      "RecordID                     0               0.00\n",
      "Offense                      0               0.00\n",
      "IncidentID                   0               0.00\n",
      "BlockNumber                  0               0.00\n",
      "StreetName                   0               0.00\n",
      "Agency                       0               0.00\n",
      "DateReported                 0               0.00\n",
      "HourReported                 0               0.00\n",
      "ReportingOfficer            17               0.07\n"
     ]
    }
   ],
   "source": [
    "def missing_percentage(df):\n",
    "    \"\"\"\n",
    "    Returns a DataFrame with the count and percentage of missing values for each column.\n",
    "    \n",
    "    Parameters:\n",
    "        df (pd.DataFrame): The input DataFrame.\n",
    "    \n",
    "    Returns:\n",
    "        pd.DataFrame: A DataFrame with columns 'MissingCount' and 'MissingPercentage'.\n",
    "    \"\"\"\n",
    "    total_rows = len(df)\n",
    "    missing_count = df.isnull().sum()\n",
    "    missing_percent = (missing_count / total_rows) * 100\n",
    "    \n",
    "    result = pd.DataFrame({\n",
    "        'MissingCount': missing_count,\n",
    "        'MissingPercentage': missing_percent.round(2)\n",
    "    })\n",
    "    \n",
    "    return result\n",
    "\n",
    "# Example usage:\n",
    "missing_info = missing_percentage(df)\n",
    "print(missing_info)\n"
   ]
  },
  {
   "cell_type": "markdown",
   "id": "51ea0b22",
   "metadata": {
    "papermill": {
     "duration": 0.005596,
     "end_time": "2025-05-08T01:03:54.112807",
     "exception": false,
     "start_time": "2025-05-08T01:03:54.107211",
     "status": "completed"
    },
    "tags": []
   },
   "source": [
    "## Data Preparation"
   ]
  },
  {
   "cell_type": "markdown",
   "id": "d1fb3bd5",
   "metadata": {
    "papermill": {
     "duration": 0.005546,
     "end_time": "2025-05-08T01:03:54.124069",
     "exception": false,
     "start_time": "2025-05-08T01:03:54.118523",
     "status": "completed"
    },
    "tags": []
   },
   "source": [
    "### Data Conversion"
   ]
  },
  {
   "cell_type": "code",
   "execution_count": 7,
   "id": "4850f666",
   "metadata": {
    "execution": {
     "iopub.execute_input": "2025-05-08T01:03:54.136324Z",
     "iopub.status.busy": "2025-05-08T01:03:54.135921Z",
     "iopub.status.idle": "2025-05-08T01:03:54.508772Z",
     "shell.execute_reply": "2025-05-08T01:03:54.508164Z"
    },
    "papermill": {
     "duration": 0.380049,
     "end_time": "2025-05-08T01:03:54.509763",
     "exception": false,
     "start_time": "2025-05-08T01:03:54.129714",
     "status": "completed"
    },
    "tags": []
   },
   "outputs": [
    {
     "data": {
      "text/html": [
       "<div>\n",
       "<style scoped>\n",
       "    .dataframe tbody tr th:only-of-type {\n",
       "        vertical-align: middle;\n",
       "    }\n",
       "\n",
       "    .dataframe tbody tr th {\n",
       "        vertical-align: top;\n",
       "    }\n",
       "\n",
       "    .dataframe thead th {\n",
       "        text-align: right;\n",
       "    }\n",
       "</style>\n",
       "<table border=\"1\" class=\"dataframe\">\n",
       "  <thead>\n",
       "    <tr style=\"text-align: right;\">\n",
       "      <th></th>\n",
       "      <th>RecordID</th>\n",
       "      <th>Offense</th>\n",
       "      <th>IncidentID</th>\n",
       "      <th>BlockNumber</th>\n",
       "      <th>StreetName</th>\n",
       "      <th>Agency</th>\n",
       "      <th>HourReported</th>\n",
       "      <th>ReportingOfficer</th>\n",
       "      <th>Date</th>\n",
       "      <th>DateString</th>\n",
       "      <th>DayOfWeek</th>\n",
       "      <th>Weekend</th>\n",
       "      <th>Season</th>\n",
       "      <th>HourAMPM</th>\n",
       "      <th>TimeOfDay</th>\n",
       "    </tr>\n",
       "  </thead>\n",
       "  <tbody>\n",
       "    <tr>\n",
       "      <th>0</th>\n",
       "      <td>1</td>\n",
       "      <td>Assist Citizen - Medical</td>\n",
       "      <td>202500015024</td>\n",
       "      <td>1400</td>\n",
       "      <td>MONTICELLO RD, 100</td>\n",
       "      <td>CPD</td>\n",
       "      <td>1630</td>\n",
       "      <td>Crowley, Raeann</td>\n",
       "      <td>2025-05-05 16:30:35</td>\n",
       "      <td>2025-05-05 04:30:35 PM</td>\n",
       "      <td>Monday</td>\n",
       "      <td>False</td>\n",
       "      <td>Spring</td>\n",
       "      <td>04:30 PM</td>\n",
       "      <td>Afternoon</td>\n",
       "    </tr>\n",
       "    <tr>\n",
       "      <th>1</th>\n",
       "      <td>2</td>\n",
       "      <td>Assist Citizen - Mental/TDO/ECO</td>\n",
       "      <td>202500015023</td>\n",
       "      <td>1400</td>\n",
       "      <td>HAMPTON ST</td>\n",
       "      <td>CPD</td>\n",
       "      <td>1622</td>\n",
       "      <td>Benbow, Lauren</td>\n",
       "      <td>2025-05-05 16:22:41</td>\n",
       "      <td>2025-05-05 04:22:41 PM</td>\n",
       "      <td>Monday</td>\n",
       "      <td>False</td>\n",
       "      <td>Spring</td>\n",
       "      <td>04:22 PM</td>\n",
       "      <td>Afternoon</td>\n",
       "    </tr>\n",
       "    <tr>\n",
       "      <th>2</th>\n",
       "      <td>3</td>\n",
       "      <td>Larceny - Theft from Building</td>\n",
       "      <td>202500014987</td>\n",
       "      <td>200</td>\n",
       "      <td>E MARKET ST</td>\n",
       "      <td>CPD</td>\n",
       "      <td>1122</td>\n",
       "      <td>Kirby, Tyree</td>\n",
       "      <td>2025-05-05 11:22:06</td>\n",
       "      <td>2025-05-05 11:22:06 AM</td>\n",
       "      <td>Monday</td>\n",
       "      <td>False</td>\n",
       "      <td>Spring</td>\n",
       "      <td>11:22 AM</td>\n",
       "      <td>Morning</td>\n",
       "    </tr>\n",
       "    <tr>\n",
       "      <th>3</th>\n",
       "      <td>4</td>\n",
       "      <td>Assault Simple</td>\n",
       "      <td>202500014982</td>\n",
       "      <td>200</td>\n",
       "      <td>RIDGE ST</td>\n",
       "      <td>CPD</td>\n",
       "      <td>1027</td>\n",
       "      <td>Wisser, Shawn</td>\n",
       "      <td>2025-05-05 10:27:33</td>\n",
       "      <td>2025-05-05 10:27:33 AM</td>\n",
       "      <td>Monday</td>\n",
       "      <td>False</td>\n",
       "      <td>Spring</td>\n",
       "      <td>10:27 AM</td>\n",
       "      <td>Morning</td>\n",
       "    </tr>\n",
       "    <tr>\n",
       "      <th>4</th>\n",
       "      <td>5</td>\n",
       "      <td>Assault Aggravated</td>\n",
       "      <td>202500014979</td>\n",
       "      <td>500</td>\n",
       "      <td>RIDGE ST, 508</td>\n",
       "      <td>CPD</td>\n",
       "      <td>1025</td>\n",
       "      <td>Schwartz, Honora</td>\n",
       "      <td>2025-05-05 10:25:35</td>\n",
       "      <td>2025-05-05 10:25:35 AM</td>\n",
       "      <td>Monday</td>\n",
       "      <td>False</td>\n",
       "      <td>Spring</td>\n",
       "      <td>10:25 AM</td>\n",
       "      <td>Morning</td>\n",
       "    </tr>\n",
       "  </tbody>\n",
       "</table>\n",
       "</div>"
      ],
      "text/plain": [
       "   RecordID                          Offense    IncidentID BlockNumber  \\\n",
       "0         1         Assist Citizen - Medical  202500015024        1400   \n",
       "1         2  Assist Citizen - Mental/TDO/ECO  202500015023        1400   \n",
       "2         3    Larceny - Theft from Building  202500014987         200   \n",
       "3         4                   Assault Simple  202500014982         200   \n",
       "4         5               Assault Aggravated  202500014979         500   \n",
       "\n",
       "           StreetName Agency HourReported  ReportingOfficer  \\\n",
       "0  MONTICELLO RD, 100    CPD         1630   Crowley, Raeann   \n",
       "1          HAMPTON ST    CPD         1622    Benbow, Lauren   \n",
       "2         E MARKET ST    CPD         1122      Kirby, Tyree   \n",
       "3            RIDGE ST    CPD         1027     Wisser, Shawn   \n",
       "4       RIDGE ST, 508    CPD         1025  Schwartz, Honora   \n",
       "\n",
       "                 Date              DateString DayOfWeek  Weekend  Season  \\\n",
       "0 2025-05-05 16:30:35  2025-05-05 04:30:35 PM    Monday    False  Spring   \n",
       "1 2025-05-05 16:22:41  2025-05-05 04:22:41 PM    Monday    False  Spring   \n",
       "2 2025-05-05 11:22:06  2025-05-05 11:22:06 AM    Monday    False  Spring   \n",
       "3 2025-05-05 10:27:33  2025-05-05 10:27:33 AM    Monday    False  Spring   \n",
       "4 2025-05-05 10:25:35  2025-05-05 10:25:35 AM    Monday    False  Spring   \n",
       "\n",
       "   HourAMPM  TimeOfDay  \n",
       "0  04:30 PM  Afternoon  \n",
       "1  04:22 PM  Afternoon  \n",
       "2  11:22 AM    Morning  \n",
       "3  10:27 AM    Morning  \n",
       "4  10:25 AM    Morning  "
      ]
     },
     "execution_count": 7,
     "metadata": {},
     "output_type": "execute_result"
    }
   ],
   "source": [
    "def convert_and_categorize_datereported(df, col='DateReported'):\n",
    "    \"\"\"\n",
    "    Converts an epoch (in milliseconds) date column into a timezone-aware datetime,\n",
    "    converts it to Eastern Time, and then creates columns for day-of-week, weekend flag,\n",
    "    season, 12-hour formatted time, and time-of-day. Keeps both a real datetime column\n",
    "    (Date) and a string representation (DateString).\n",
    "    \"\"\"\n",
    "    import pandas as pd\n",
    "\n",
    "    # Convert the epoch timestamp to a pandas datetime object as UTC, then convert to US/Eastern.\n",
    "    df[\"DateReported_dt\"] = (\n",
    "        pd.to_datetime(df[col], unit=\"ms\", errors=\"coerce\", utc=True)\n",
    "        .dt.tz_convert(\"US/Eastern\")\n",
    "    )\n",
    "    \n",
    "    # Create a true datetime column (remove timezone if you prefer naive datetime)\n",
    "    df[\"Date\"] = df[\"DateReported_dt\"].dt.tz_localize(None)\n",
    "\n",
    "    # Optionally, create a separate string-formatted column\n",
    "    df[\"DateString\"] = df[\"DateReported_dt\"].dt.strftime(\"%Y-%m-%d %I:%M:%S %p\")\n",
    "    \n",
    "    # DayOfWeek\n",
    "    df[\"DayOfWeek\"] = df[\"DateReported_dt\"].dt.day_name()\n",
    "    \n",
    "    # Weekend\n",
    "    df[\"Weekend\"] = df[\"DayOfWeek\"].isin([\"Saturday\", \"Sunday\"])\n",
    "    \n",
    "    # Helper function to determine the season\n",
    "    def get_season(dt):\n",
    "        month = dt.month\n",
    "        day = dt.day\n",
    "        # Approximate Northern Hemisphere season boundaries:\n",
    "        if (month == 12 and day >= 21) or (month < 3) or (month == 3 and day < 20):\n",
    "            return \"Winter\"\n",
    "        elif (month == 3 and day >= 20) or (month < 6) or (month == 6 and day < 21):\n",
    "            return \"Spring\"\n",
    "        elif (month == 6 and day >= 21) or (month < 9) or (month == 9 and day < 22):\n",
    "            return \"Summer\"\n",
    "        else:\n",
    "            return \"Autumn\"\n",
    "    \n",
    "    df[\"Season\"] = df[\"DateReported_dt\"].apply(get_season)\n",
    "    \n",
    "    # 12-hour formatted time (HourAMPM)\n",
    "    df[\"HourAMPM\"] = df[\"DateReported_dt\"].dt.strftime(\"%I:%M %p\")\n",
    "    \n",
    "    # Extract hour (0-23) for time-of-day\n",
    "    df[\"HourValue\"] = df[\"DateReported_dt\"].dt.hour\n",
    "    \n",
    "    def time_of_day(hour):\n",
    "        if pd.isnull(hour):\n",
    "            return None\n",
    "        if 5 <= hour < 12:\n",
    "            return \"Morning\"\n",
    "        elif 12 <= hour < 17:\n",
    "            return \"Afternoon\"\n",
    "        elif 17 <= hour < 21:\n",
    "            return \"Evening\"\n",
    "        else:\n",
    "            return \"Night\"\n",
    "    \n",
    "    df[\"TimeOfDay\"] = df[\"HourValue\"].apply(time_of_day)\n",
    "    \n",
    "    # Drop columns you no longer need\n",
    "    df.drop(columns=[col, \"DateReported_dt\", \"HourValue\"], inplace=True)\n",
    "    \n",
    "    return df\n",
    "\n",
    "# Example usage:\n",
    "df = convert_and_categorize_datereported(df)\n",
    "df.head()\n"
   ]
  },
  {
   "cell_type": "code",
   "execution_count": 8,
   "id": "6bdddedf",
   "metadata": {
    "execution": {
     "iopub.execute_input": "2025-05-08T01:03:54.522887Z",
     "iopub.status.busy": "2025-05-08T01:03:54.522628Z",
     "iopub.status.idle": "2025-05-08T01:03:54.548451Z",
     "shell.execute_reply": "2025-05-08T01:03:54.547876Z"
    },
    "papermill": {
     "duration": 0.033419,
     "end_time": "2025-05-08T01:03:54.549520",
     "exception": false,
     "start_time": "2025-05-08T01:03:54.516101",
     "status": "completed"
    },
    "tags": []
   },
   "outputs": [
    {
     "name": "stdout",
     "output_type": "stream",
     "text": [
      "<class 'pandas.core.frame.DataFrame'>\n",
      "RangeIndex: 25345 entries, 0 to 25344\n",
      "Data columns (total 15 columns):\n",
      " #   Column            Non-Null Count  Dtype         \n",
      "---  ------            --------------  -----         \n",
      " 0   RecordID          25345 non-null  int64         \n",
      " 1   Offense           25345 non-null  object        \n",
      " 2   IncidentID        25345 non-null  object        \n",
      " 3   BlockNumber       25345 non-null  object        \n",
      " 4   StreetName        25345 non-null  object        \n",
      " 5   Agency            25345 non-null  object        \n",
      " 6   HourReported      25345 non-null  object        \n",
      " 7   ReportingOfficer  25328 non-null  object        \n",
      " 8   Date              25345 non-null  datetime64[ns]\n",
      " 9   DateString        25345 non-null  object        \n",
      " 10  DayOfWeek         25345 non-null  object        \n",
      " 11  Weekend           25345 non-null  bool          \n",
      " 12  Season            25345 non-null  object        \n",
      " 13  HourAMPM          25345 non-null  object        \n",
      " 14  TimeOfDay         25345 non-null  object        \n",
      "dtypes: bool(1), datetime64[ns](1), int64(1), object(12)\n",
      "memory usage: 2.7+ MB\n"
     ]
    }
   ],
   "source": [
    "df.info()"
   ]
  },
  {
   "cell_type": "markdown",
   "id": "58a5ad51",
   "metadata": {
    "papermill": {
     "duration": 0.005769,
     "end_time": "2025-05-08T01:03:54.561376",
     "exception": false,
     "start_time": "2025-05-08T01:03:54.555607",
     "status": "completed"
    },
    "tags": []
   },
   "source": [
    "### Coordinates"
   ]
  },
  {
   "cell_type": "code",
   "execution_count": 9,
   "id": "8d0ffe2f",
   "metadata": {
    "execution": {
     "iopub.execute_input": "2025-05-08T01:03:54.574241Z",
     "iopub.status.busy": "2025-05-08T01:03:54.573752Z",
     "iopub.status.idle": "2025-05-08T01:03:55.431299Z",
     "shell.execute_reply": "2025-05-08T01:03:55.430628Z"
    },
    "papermill": {
     "duration": 0.865142,
     "end_time": "2025-05-08T01:03:55.432435",
     "exception": false,
     "start_time": "2025-05-08T01:03:54.567293",
     "status": "completed"
    },
    "tags": []
   },
   "outputs": [
    {
     "name": "stdout",
     "output_type": "stream",
     "text": [
      "Loaded geocode cache.\n"
     ]
    },
    {
     "name": "stdout",
     "output_type": "stream",
     "text": [
      "Geocoded 500 RIDGE ST, 508: 38.0271065, -78.48670349999999\n"
     ]
    },
    {
     "name": "stdout",
     "output_type": "stream",
     "text": [
      "Geocoded 2000 INDIA RD, 117: 38.0623473, -78.4879016\n"
     ]
    },
    {
     "name": "stdout",
     "output_type": "stream",
     "text": [
      "Geocoded 1100 MILLMONT ST, 110: 38.0526705, -78.5025274\n"
     ]
    },
    {
     "name": "stdout",
     "output_type": "stream",
     "text": [
      "Geocoded 700 NALLE ST, 3: 38.0293989, -78.49153\n"
     ]
    },
    {
     "name": "stdout",
     "output_type": "stream",
     "text": [
      "Geocoded 400 MONROE LN, 103: 38.0316967, -78.50267439999999\n",
      "Geocode cache updated and saved.\n"
     ]
    },
    {
     "data": {
      "text/html": [
       "<div>\n",
       "<style scoped>\n",
       "    .dataframe tbody tr th:only-of-type {\n",
       "        vertical-align: middle;\n",
       "    }\n",
       "\n",
       "    .dataframe tbody tr th {\n",
       "        vertical-align: top;\n",
       "    }\n",
       "\n",
       "    .dataframe thead th {\n",
       "        text-align: right;\n",
       "    }\n",
       "</style>\n",
       "<table border=\"1\" class=\"dataframe\">\n",
       "  <thead>\n",
       "    <tr style=\"text-align: right;\">\n",
       "      <th></th>\n",
       "      <th>RecordID</th>\n",
       "      <th>Offense</th>\n",
       "      <th>IncidentID</th>\n",
       "      <th>BlockNumber</th>\n",
       "      <th>StreetName</th>\n",
       "      <th>Agency</th>\n",
       "      <th>HourReported</th>\n",
       "      <th>ReportingOfficer</th>\n",
       "      <th>Date</th>\n",
       "      <th>DateString</th>\n",
       "      <th>DayOfWeek</th>\n",
       "      <th>Weekend</th>\n",
       "      <th>Season</th>\n",
       "      <th>HourAMPM</th>\n",
       "      <th>TimeOfDay</th>\n",
       "      <th>FullStreet</th>\n",
       "      <th>lat</th>\n",
       "      <th>lon</th>\n",
       "    </tr>\n",
       "  </thead>\n",
       "  <tbody>\n",
       "    <tr>\n",
       "      <th>0</th>\n",
       "      <td>1</td>\n",
       "      <td>Assist Citizen - Medical</td>\n",
       "      <td>202500015024</td>\n",
       "      <td>1400</td>\n",
       "      <td>MONTICELLO RD, 100</td>\n",
       "      <td>CPD</td>\n",
       "      <td>1630</td>\n",
       "      <td>Crowley, Raeann</td>\n",
       "      <td>2025-05-05 16:30:35</td>\n",
       "      <td>2025-05-05 04:30:35 PM</td>\n",
       "      <td>Monday</td>\n",
       "      <td>False</td>\n",
       "      <td>Spring</td>\n",
       "      <td>04:30 PM</td>\n",
       "      <td>Afternoon</td>\n",
       "      <td>1400 MONTICELLO RD, 100</td>\n",
       "      <td>38.019453</td>\n",
       "      <td>-78.472626</td>\n",
       "    </tr>\n",
       "    <tr>\n",
       "      <th>1</th>\n",
       "      <td>2</td>\n",
       "      <td>Assist Citizen - Mental/TDO/ECO</td>\n",
       "      <td>202500015023</td>\n",
       "      <td>1400</td>\n",
       "      <td>HAMPTON ST</td>\n",
       "      <td>CPD</td>\n",
       "      <td>1622</td>\n",
       "      <td>Benbow, Lauren</td>\n",
       "      <td>2025-05-05 16:22:41</td>\n",
       "      <td>2025-05-05 04:22:41 PM</td>\n",
       "      <td>Monday</td>\n",
       "      <td>False</td>\n",
       "      <td>Spring</td>\n",
       "      <td>04:22 PM</td>\n",
       "      <td>Afternoon</td>\n",
       "      <td>1400 HAMPTON ST</td>\n",
       "      <td>38.019210</td>\n",
       "      <td>-78.469126</td>\n",
       "    </tr>\n",
       "    <tr>\n",
       "      <th>2</th>\n",
       "      <td>3</td>\n",
       "      <td>Larceny - Theft from Building</td>\n",
       "      <td>202500014987</td>\n",
       "      <td>200</td>\n",
       "      <td>E MARKET ST</td>\n",
       "      <td>CPD</td>\n",
       "      <td>1122</td>\n",
       "      <td>Kirby, Tyree</td>\n",
       "      <td>2025-05-05 11:22:06</td>\n",
       "      <td>2025-05-05 11:22:06 AM</td>\n",
       "      <td>Monday</td>\n",
       "      <td>False</td>\n",
       "      <td>Spring</td>\n",
       "      <td>11:22 AM</td>\n",
       "      <td>Morning</td>\n",
       "      <td>200 E MARKET ST</td>\n",
       "      <td>38.031104</td>\n",
       "      <td>-78.480367</td>\n",
       "    </tr>\n",
       "    <tr>\n",
       "      <th>3</th>\n",
       "      <td>4</td>\n",
       "      <td>Assault Simple</td>\n",
       "      <td>202500014982</td>\n",
       "      <td>200</td>\n",
       "      <td>RIDGE ST</td>\n",
       "      <td>CPD</td>\n",
       "      <td>1027</td>\n",
       "      <td>Wisser, Shawn</td>\n",
       "      <td>2025-05-05 10:27:33</td>\n",
       "      <td>2025-05-05 10:27:33 AM</td>\n",
       "      <td>Monday</td>\n",
       "      <td>False</td>\n",
       "      <td>Spring</td>\n",
       "      <td>10:27 AM</td>\n",
       "      <td>Morning</td>\n",
       "      <td>200 RIDGE ST</td>\n",
       "      <td>38.029522</td>\n",
       "      <td>-78.485560</td>\n",
       "    </tr>\n",
       "    <tr>\n",
       "      <th>4</th>\n",
       "      <td>5</td>\n",
       "      <td>Assault Aggravated</td>\n",
       "      <td>202500014979</td>\n",
       "      <td>500</td>\n",
       "      <td>RIDGE ST, 508</td>\n",
       "      <td>CPD</td>\n",
       "      <td>1025</td>\n",
       "      <td>Schwartz, Honora</td>\n",
       "      <td>2025-05-05 10:25:35</td>\n",
       "      <td>2025-05-05 10:25:35 AM</td>\n",
       "      <td>Monday</td>\n",
       "      <td>False</td>\n",
       "      <td>Spring</td>\n",
       "      <td>10:25 AM</td>\n",
       "      <td>Morning</td>\n",
       "      <td>500 RIDGE ST, 508</td>\n",
       "      <td>38.027107</td>\n",
       "      <td>-78.486703</td>\n",
       "    </tr>\n",
       "  </tbody>\n",
       "</table>\n",
       "</div>"
      ],
      "text/plain": [
       "   RecordID                          Offense    IncidentID BlockNumber  \\\n",
       "0         1         Assist Citizen - Medical  202500015024        1400   \n",
       "1         2  Assist Citizen - Mental/TDO/ECO  202500015023        1400   \n",
       "2         3    Larceny - Theft from Building  202500014987         200   \n",
       "3         4                   Assault Simple  202500014982         200   \n",
       "4         5               Assault Aggravated  202500014979         500   \n",
       "\n",
       "           StreetName Agency HourReported  ReportingOfficer  \\\n",
       "0  MONTICELLO RD, 100    CPD         1630   Crowley, Raeann   \n",
       "1          HAMPTON ST    CPD         1622    Benbow, Lauren   \n",
       "2         E MARKET ST    CPD         1122      Kirby, Tyree   \n",
       "3            RIDGE ST    CPD         1027     Wisser, Shawn   \n",
       "4       RIDGE ST, 508    CPD         1025  Schwartz, Honora   \n",
       "\n",
       "                 Date              DateString DayOfWeek  Weekend  Season  \\\n",
       "0 2025-05-05 16:30:35  2025-05-05 04:30:35 PM    Monday    False  Spring   \n",
       "1 2025-05-05 16:22:41  2025-05-05 04:22:41 PM    Monday    False  Spring   \n",
       "2 2025-05-05 11:22:06  2025-05-05 11:22:06 AM    Monday    False  Spring   \n",
       "3 2025-05-05 10:27:33  2025-05-05 10:27:33 AM    Monday    False  Spring   \n",
       "4 2025-05-05 10:25:35  2025-05-05 10:25:35 AM    Monday    False  Spring   \n",
       "\n",
       "   HourAMPM  TimeOfDay               FullStreet        lat        lon  \n",
       "0  04:30 PM  Afternoon  1400 MONTICELLO RD, 100  38.019453 -78.472626  \n",
       "1  04:22 PM  Afternoon          1400 HAMPTON ST  38.019210 -78.469126  \n",
       "2  11:22 AM    Morning          200 E MARKET ST  38.031104 -78.480367  \n",
       "3  10:27 AM    Morning             200 RIDGE ST  38.029522 -78.485560  \n",
       "4  10:25 AM    Morning        500 RIDGE ST, 508  38.027107 -78.486703  "
      ]
     },
     "execution_count": 9,
     "metadata": {},
     "output_type": "execute_result"
    }
   ],
   "source": [
    "# Combine BlockNumber and StreetName into a full address string\n",
    "df['FullStreet'] = df['BlockNumber'].astype(str) + \" \" + df['StreetName']\n",
    "\n",
    "# --- Step 1: Setup the Google Maps Client and Cache ---\n",
    "gmaps = googlemaps.Client(key=GOOGLE_API_KEY)\n",
    "\n",
    "# Try to load cached geocoding results if available.\n",
    "try:\n",
    "    with open(\"geocode_cache_google.pkl\", \"rb\") as f:\n",
    "        street_coords = pickle.load(f)\n",
    "    print(\"Loaded geocode cache.\")\n",
    "except FileNotFoundError:\n",
    "    street_coords = {}\n",
    "    print(\"No cache found; starting fresh.\")\n",
    "\n",
    "def geocode_address(address):\n",
    "    try:\n",
    "        # Append city and state to help geocoding\n",
    "        result = gmaps.geocode(f\"{address}, Charlottesville, VA\")\n",
    "        if result:\n",
    "            lat = result[0]['geometry']['location']['lat']\n",
    "            lon = result[0]['geometry']['location']['lng']\n",
    "            return lat, lon\n",
    "    except Exception as e:\n",
    "        print(f\"Error geocoding {address}: {e}\")\n",
    "    return None, None\n",
    "\n",
    "# --- Step 2: Geocode Only New Addresses ---\n",
    "unique_addresses = df['FullStreet'].unique()\n",
    "for address in unique_addresses:\n",
    "    if address not in street_coords:\n",
    "        lat, lon = geocode_address(address)\n",
    "        street_coords[address] = (lat, lon)\n",
    "        print(f\"Geocoded {address}: {lat}, {lon}\")\n",
    "\n",
    "# Save the updated cache to disk.\n",
    "with open(\"geocode_cache_google.pkl\", \"wb\") as f:\n",
    "    pickle.dump(street_coords, f)\n",
    "    print(\"Geocode cache updated and saved.\")\n",
    "\n",
    "# --- Step 3: Map Coordinates Back to DataFrame ---\n",
    "df['lat'] = df['FullStreet'].map(lambda s: street_coords.get(s, (None, None))[0])\n",
    "df['lon'] = df['FullStreet'].map(lambda s: street_coords.get(s, (None, None))[1])\n",
    "\n",
    "df.head()"
   ]
  },
  {
   "cell_type": "markdown",
   "id": "5202cc59",
   "metadata": {
    "papermill": {
     "duration": 0.006467,
     "end_time": "2025-05-08T01:03:55.445790",
     "exception": false,
     "start_time": "2025-05-08T01:03:55.439323",
     "status": "completed"
    },
    "tags": []
   },
   "source": [
    "### Neighborhood"
   ]
  },
  {
   "cell_type": "code",
   "execution_count": 10,
   "id": "99cd19ce",
   "metadata": {
    "execution": {
     "iopub.execute_input": "2025-05-08T01:03:55.459690Z",
     "iopub.status.busy": "2025-05-08T01:03:55.459283Z",
     "iopub.status.idle": "2025-05-08T01:03:55.720693Z",
     "shell.execute_reply": "2025-05-08T01:03:55.720034Z"
    },
    "papermill": {
     "duration": 0.269476,
     "end_time": "2025-05-08T01:03:55.721726",
     "exception": false,
     "start_time": "2025-05-08T01:03:55.452250",
     "status": "completed"
    },
    "tags": []
   },
   "outputs": [
    {
     "name": "stdout",
     "output_type": "stream",
     "text": [
      "Loaded neighborhood cache.\n"
     ]
    },
    {
     "data": {
      "text/html": [
       "<div>\n",
       "<style scoped>\n",
       "    .dataframe tbody tr th:only-of-type {\n",
       "        vertical-align: middle;\n",
       "    }\n",
       "\n",
       "    .dataframe tbody tr th {\n",
       "        vertical-align: top;\n",
       "    }\n",
       "\n",
       "    .dataframe thead th {\n",
       "        text-align: right;\n",
       "    }\n",
       "</style>\n",
       "<table border=\"1\" class=\"dataframe\">\n",
       "  <thead>\n",
       "    <tr style=\"text-align: right;\">\n",
       "      <th></th>\n",
       "      <th>RecordID</th>\n",
       "      <th>Offense</th>\n",
       "      <th>IncidentID</th>\n",
       "      <th>BlockNumber</th>\n",
       "      <th>StreetName</th>\n",
       "      <th>Agency</th>\n",
       "      <th>HourReported</th>\n",
       "      <th>ReportingOfficer</th>\n",
       "      <th>Date</th>\n",
       "      <th>DateString</th>\n",
       "      <th>DayOfWeek</th>\n",
       "      <th>Weekend</th>\n",
       "      <th>Season</th>\n",
       "      <th>HourAMPM</th>\n",
       "      <th>TimeOfDay</th>\n",
       "      <th>FullStreet</th>\n",
       "      <th>lat</th>\n",
       "      <th>lon</th>\n",
       "      <th>neighborhood</th>\n",
       "    </tr>\n",
       "  </thead>\n",
       "  <tbody>\n",
       "    <tr>\n",
       "      <th>0</th>\n",
       "      <td>1</td>\n",
       "      <td>Assist Citizen - Medical</td>\n",
       "      <td>202500015024</td>\n",
       "      <td>1400</td>\n",
       "      <td>MONTICELLO RD, 100</td>\n",
       "      <td>CPD</td>\n",
       "      <td>1630</td>\n",
       "      <td>Crowley, Raeann</td>\n",
       "      <td>2025-05-05 16:30:35</td>\n",
       "      <td>2025-05-05 04:30:35 PM</td>\n",
       "      <td>Monday</td>\n",
       "      <td>False</td>\n",
       "      <td>Spring</td>\n",
       "      <td>04:30 PM</td>\n",
       "      <td>Afternoon</td>\n",
       "      <td>1400 MONTICELLO RD, 100</td>\n",
       "      <td>38.019453</td>\n",
       "      <td>-78.472626</td>\n",
       "      <td>Belmont</td>\n",
       "    </tr>\n",
       "    <tr>\n",
       "      <th>1</th>\n",
       "      <td>2</td>\n",
       "      <td>Assist Citizen - Mental/TDO/ECO</td>\n",
       "      <td>202500015023</td>\n",
       "      <td>1400</td>\n",
       "      <td>HAMPTON ST</td>\n",
       "      <td>CPD</td>\n",
       "      <td>1622</td>\n",
       "      <td>Benbow, Lauren</td>\n",
       "      <td>2025-05-05 16:22:41</td>\n",
       "      <td>2025-05-05 04:22:41 PM</td>\n",
       "      <td>Monday</td>\n",
       "      <td>False</td>\n",
       "      <td>Spring</td>\n",
       "      <td>04:22 PM</td>\n",
       "      <td>Afternoon</td>\n",
       "      <td>1400 HAMPTON ST</td>\n",
       "      <td>38.019210</td>\n",
       "      <td>-78.469126</td>\n",
       "      <td>Belmont</td>\n",
       "    </tr>\n",
       "    <tr>\n",
       "      <th>2</th>\n",
       "      <td>3</td>\n",
       "      <td>Larceny - Theft from Building</td>\n",
       "      <td>202500014987</td>\n",
       "      <td>200</td>\n",
       "      <td>E MARKET ST</td>\n",
       "      <td>CPD</td>\n",
       "      <td>1122</td>\n",
       "      <td>Kirby, Tyree</td>\n",
       "      <td>2025-05-05 11:22:06</td>\n",
       "      <td>2025-05-05 11:22:06 AM</td>\n",
       "      <td>Monday</td>\n",
       "      <td>False</td>\n",
       "      <td>Spring</td>\n",
       "      <td>11:22 AM</td>\n",
       "      <td>Morning</td>\n",
       "      <td>200 E MARKET ST</td>\n",
       "      <td>38.031104</td>\n",
       "      <td>-78.480367</td>\n",
       "      <td>Downtown Mall</td>\n",
       "    </tr>\n",
       "    <tr>\n",
       "      <th>3</th>\n",
       "      <td>4</td>\n",
       "      <td>Assault Simple</td>\n",
       "      <td>202500014982</td>\n",
       "      <td>200</td>\n",
       "      <td>RIDGE ST</td>\n",
       "      <td>CPD</td>\n",
       "      <td>1027</td>\n",
       "      <td>Wisser, Shawn</td>\n",
       "      <td>2025-05-05 10:27:33</td>\n",
       "      <td>2025-05-05 10:27:33 AM</td>\n",
       "      <td>Monday</td>\n",
       "      <td>False</td>\n",
       "      <td>Spring</td>\n",
       "      <td>10:27 AM</td>\n",
       "      <td>Morning</td>\n",
       "      <td>200 RIDGE ST</td>\n",
       "      <td>38.029522</td>\n",
       "      <td>-78.485560</td>\n",
       "      <td>Fifeville</td>\n",
       "    </tr>\n",
       "    <tr>\n",
       "      <th>4</th>\n",
       "      <td>5</td>\n",
       "      <td>Assault Aggravated</td>\n",
       "      <td>202500014979</td>\n",
       "      <td>500</td>\n",
       "      <td>RIDGE ST, 508</td>\n",
       "      <td>CPD</td>\n",
       "      <td>1025</td>\n",
       "      <td>Schwartz, Honora</td>\n",
       "      <td>2025-05-05 10:25:35</td>\n",
       "      <td>2025-05-05 10:25:35 AM</td>\n",
       "      <td>Monday</td>\n",
       "      <td>False</td>\n",
       "      <td>Spring</td>\n",
       "      <td>10:25 AM</td>\n",
       "      <td>Morning</td>\n",
       "      <td>500 RIDGE ST, 508</td>\n",
       "      <td>38.027107</td>\n",
       "      <td>-78.486703</td>\n",
       "      <td>Fifeville</td>\n",
       "    </tr>\n",
       "  </tbody>\n",
       "</table>\n",
       "</div>"
      ],
      "text/plain": [
       "   RecordID                          Offense    IncidentID BlockNumber  \\\n",
       "0         1         Assist Citizen - Medical  202500015024        1400   \n",
       "1         2  Assist Citizen - Mental/TDO/ECO  202500015023        1400   \n",
       "2         3    Larceny - Theft from Building  202500014987         200   \n",
       "3         4                   Assault Simple  202500014982         200   \n",
       "4         5               Assault Aggravated  202500014979         500   \n",
       "\n",
       "           StreetName Agency HourReported  ReportingOfficer  \\\n",
       "0  MONTICELLO RD, 100    CPD         1630   Crowley, Raeann   \n",
       "1          HAMPTON ST    CPD         1622    Benbow, Lauren   \n",
       "2         E MARKET ST    CPD         1122      Kirby, Tyree   \n",
       "3            RIDGE ST    CPD         1027     Wisser, Shawn   \n",
       "4       RIDGE ST, 508    CPD         1025  Schwartz, Honora   \n",
       "\n",
       "                 Date              DateString DayOfWeek  Weekend  Season  \\\n",
       "0 2025-05-05 16:30:35  2025-05-05 04:30:35 PM    Monday    False  Spring   \n",
       "1 2025-05-05 16:22:41  2025-05-05 04:22:41 PM    Monday    False  Spring   \n",
       "2 2025-05-05 11:22:06  2025-05-05 11:22:06 AM    Monday    False  Spring   \n",
       "3 2025-05-05 10:27:33  2025-05-05 10:27:33 AM    Monday    False  Spring   \n",
       "4 2025-05-05 10:25:35  2025-05-05 10:25:35 AM    Monday    False  Spring   \n",
       "\n",
       "   HourAMPM  TimeOfDay               FullStreet        lat        lon  \\\n",
       "0  04:30 PM  Afternoon  1400 MONTICELLO RD, 100  38.019453 -78.472626   \n",
       "1  04:22 PM  Afternoon          1400 HAMPTON ST  38.019210 -78.469126   \n",
       "2  11:22 AM    Morning          200 E MARKET ST  38.031104 -78.480367   \n",
       "3  10:27 AM    Morning             200 RIDGE ST  38.029522 -78.485560   \n",
       "4  10:25 AM    Morning        500 RIDGE ST, 508  38.027107 -78.486703   \n",
       "\n",
       "    neighborhood  \n",
       "0        Belmont  \n",
       "1        Belmont  \n",
       "2  Downtown Mall  \n",
       "3      Fifeville  \n",
       "4      Fifeville  "
      ]
     },
     "execution_count": 10,
     "metadata": {},
     "output_type": "execute_result"
    }
   ],
   "source": [
    "# Initialize the Google Maps client.\n",
    "gmaps = googlemaps.Client(key=GOOGLE_API_KEY)\n",
    "\n",
    "# Try to load a persistent neighborhood cache if available.\n",
    "try:\n",
    "    with open(\"neighborhood_cache.pkl\", \"rb\") as f:\n",
    "        neighborhood_cache = pickle.load(f)\n",
    "    print(\"Loaded neighborhood cache.\")\n",
    "except FileNotFoundError:\n",
    "    neighborhood_cache = {}\n",
    "    print(\"No neighborhood cache found; starting fresh.\")\n",
    "\n",
    "def get_neighborhood(lat, lon):\n",
    "    \"\"\"\n",
    "    Reverse geocodes a latitude and longitude to retrieve the neighborhood.\n",
    "    Caches results to speed up subsequent lookups.\n",
    "    \"\"\"\n",
    "    key = (lat, lon)\n",
    "    if key in neighborhood_cache:\n",
    "        return neighborhood_cache[key]\n",
    "    \n",
    "    try:\n",
    "        result = gmaps.reverse_geocode((lat, lon))\n",
    "        if result:\n",
    "            # Look for the 'neighborhood' component in the first result.\n",
    "            for component in result[0]['address_components']:\n",
    "                if 'neighborhood' in component['types']:\n",
    "                    neighborhood = component['long_name']\n",
    "                    neighborhood_cache[key] = neighborhood\n",
    "                    return neighborhood\n",
    "            # If no neighborhood is found, return \"N/A\"\n",
    "            neighborhood_cache[key] = \"N/A\"\n",
    "            return \"N/A\"\n",
    "    except Exception as e:\n",
    "        print(f\"Error getting neighborhood for {lat}, {lon}: {e}\")\n",
    "        return \"N/A\"\n",
    "    \n",
    "    # Pause to respect usage limits.\n",
    "    time.sleep(1)\n",
    "\n",
    "# Example usage: Apply to your DataFrame 'df' that already has 'lat' and 'lon' columns.\n",
    "df['neighborhood'] = df.apply(lambda row: get_neighborhood(row['lat'], row['lon']), axis=1)\n",
    "\n",
    "# Save the updated neighborhood cache.\n",
    "with open(\"neighborhood_cache.pkl\", \"wb\") as f:\n",
    "    pickle.dump(neighborhood_cache, f)\n",
    "\n",
    "df.head()\n"
   ]
  },
  {
   "cell_type": "markdown",
   "id": "7890965f",
   "metadata": {
    "papermill": {
     "duration": 0.00669,
     "end_time": "2025-05-08T01:03:55.735505",
     "exception": false,
     "start_time": "2025-05-08T01:03:55.728815",
     "status": "completed"
    },
    "tags": []
   },
   "source": [
    "### Zip"
   ]
  },
  {
   "cell_type": "code",
   "execution_count": 11,
   "id": "f9d0b2de",
   "metadata": {
    "execution": {
     "iopub.execute_input": "2025-05-08T01:03:55.750131Z",
     "iopub.status.busy": "2025-05-08T01:03:55.749679Z",
     "iopub.status.idle": "2025-05-08T01:03:55.991536Z",
     "shell.execute_reply": "2025-05-08T01:03:55.990823Z"
    },
    "papermill": {
     "duration": 0.250409,
     "end_time": "2025-05-08T01:03:55.992706",
     "exception": false,
     "start_time": "2025-05-08T01:03:55.742297",
     "status": "completed"
    },
    "tags": []
   },
   "outputs": [
    {
     "name": "stdout",
     "output_type": "stream",
     "text": [
      "Loaded zip cache.\n"
     ]
    },
    {
     "data": {
      "text/html": [
       "<div>\n",
       "<style scoped>\n",
       "    .dataframe tbody tr th:only-of-type {\n",
       "        vertical-align: middle;\n",
       "    }\n",
       "\n",
       "    .dataframe tbody tr th {\n",
       "        vertical-align: top;\n",
       "    }\n",
       "\n",
       "    .dataframe thead th {\n",
       "        text-align: right;\n",
       "    }\n",
       "</style>\n",
       "<table border=\"1\" class=\"dataframe\">\n",
       "  <thead>\n",
       "    <tr style=\"text-align: right;\">\n",
       "      <th></th>\n",
       "      <th>RecordID</th>\n",
       "      <th>Offense</th>\n",
       "      <th>IncidentID</th>\n",
       "      <th>BlockNumber</th>\n",
       "      <th>StreetName</th>\n",
       "      <th>Agency</th>\n",
       "      <th>HourReported</th>\n",
       "      <th>ReportingOfficer</th>\n",
       "      <th>Date</th>\n",
       "      <th>DateString</th>\n",
       "      <th>DayOfWeek</th>\n",
       "      <th>Weekend</th>\n",
       "      <th>Season</th>\n",
       "      <th>HourAMPM</th>\n",
       "      <th>TimeOfDay</th>\n",
       "      <th>FullStreet</th>\n",
       "      <th>lat</th>\n",
       "      <th>lon</th>\n",
       "      <th>neighborhood</th>\n",
       "      <th>zip</th>\n",
       "    </tr>\n",
       "  </thead>\n",
       "  <tbody>\n",
       "    <tr>\n",
       "      <th>0</th>\n",
       "      <td>1</td>\n",
       "      <td>Assist Citizen - Medical</td>\n",
       "      <td>202500015024</td>\n",
       "      <td>1400</td>\n",
       "      <td>MONTICELLO RD, 100</td>\n",
       "      <td>CPD</td>\n",
       "      <td>1630</td>\n",
       "      <td>Crowley, Raeann</td>\n",
       "      <td>2025-05-05 16:30:35</td>\n",
       "      <td>2025-05-05 04:30:35 PM</td>\n",
       "      <td>Monday</td>\n",
       "      <td>False</td>\n",
       "      <td>Spring</td>\n",
       "      <td>04:30 PM</td>\n",
       "      <td>Afternoon</td>\n",
       "      <td>1400 MONTICELLO RD, 100</td>\n",
       "      <td>38.019453</td>\n",
       "      <td>-78.472626</td>\n",
       "      <td>Belmont</td>\n",
       "      <td>22902</td>\n",
       "    </tr>\n",
       "    <tr>\n",
       "      <th>1</th>\n",
       "      <td>2</td>\n",
       "      <td>Assist Citizen - Mental/TDO/ECO</td>\n",
       "      <td>202500015023</td>\n",
       "      <td>1400</td>\n",
       "      <td>HAMPTON ST</td>\n",
       "      <td>CPD</td>\n",
       "      <td>1622</td>\n",
       "      <td>Benbow, Lauren</td>\n",
       "      <td>2025-05-05 16:22:41</td>\n",
       "      <td>2025-05-05 04:22:41 PM</td>\n",
       "      <td>Monday</td>\n",
       "      <td>False</td>\n",
       "      <td>Spring</td>\n",
       "      <td>04:22 PM</td>\n",
       "      <td>Afternoon</td>\n",
       "      <td>1400 HAMPTON ST</td>\n",
       "      <td>38.019210</td>\n",
       "      <td>-78.469126</td>\n",
       "      <td>Belmont</td>\n",
       "      <td>22902</td>\n",
       "    </tr>\n",
       "    <tr>\n",
       "      <th>2</th>\n",
       "      <td>3</td>\n",
       "      <td>Larceny - Theft from Building</td>\n",
       "      <td>202500014987</td>\n",
       "      <td>200</td>\n",
       "      <td>E MARKET ST</td>\n",
       "      <td>CPD</td>\n",
       "      <td>1122</td>\n",
       "      <td>Kirby, Tyree</td>\n",
       "      <td>2025-05-05 11:22:06</td>\n",
       "      <td>2025-05-05 11:22:06 AM</td>\n",
       "      <td>Monday</td>\n",
       "      <td>False</td>\n",
       "      <td>Spring</td>\n",
       "      <td>11:22 AM</td>\n",
       "      <td>Morning</td>\n",
       "      <td>200 E MARKET ST</td>\n",
       "      <td>38.031104</td>\n",
       "      <td>-78.480367</td>\n",
       "      <td>Downtown Mall</td>\n",
       "      <td>22902</td>\n",
       "    </tr>\n",
       "    <tr>\n",
       "      <th>3</th>\n",
       "      <td>4</td>\n",
       "      <td>Assault Simple</td>\n",
       "      <td>202500014982</td>\n",
       "      <td>200</td>\n",
       "      <td>RIDGE ST</td>\n",
       "      <td>CPD</td>\n",
       "      <td>1027</td>\n",
       "      <td>Wisser, Shawn</td>\n",
       "      <td>2025-05-05 10:27:33</td>\n",
       "      <td>2025-05-05 10:27:33 AM</td>\n",
       "      <td>Monday</td>\n",
       "      <td>False</td>\n",
       "      <td>Spring</td>\n",
       "      <td>10:27 AM</td>\n",
       "      <td>Morning</td>\n",
       "      <td>200 RIDGE ST</td>\n",
       "      <td>38.029522</td>\n",
       "      <td>-78.485560</td>\n",
       "      <td>Fifeville</td>\n",
       "      <td>22902</td>\n",
       "    </tr>\n",
       "    <tr>\n",
       "      <th>4</th>\n",
       "      <td>5</td>\n",
       "      <td>Assault Aggravated</td>\n",
       "      <td>202500014979</td>\n",
       "      <td>500</td>\n",
       "      <td>RIDGE ST, 508</td>\n",
       "      <td>CPD</td>\n",
       "      <td>1025</td>\n",
       "      <td>Schwartz, Honora</td>\n",
       "      <td>2025-05-05 10:25:35</td>\n",
       "      <td>2025-05-05 10:25:35 AM</td>\n",
       "      <td>Monday</td>\n",
       "      <td>False</td>\n",
       "      <td>Spring</td>\n",
       "      <td>10:25 AM</td>\n",
       "      <td>Morning</td>\n",
       "      <td>500 RIDGE ST, 508</td>\n",
       "      <td>38.027107</td>\n",
       "      <td>-78.486703</td>\n",
       "      <td>Fifeville</td>\n",
       "      <td>22903</td>\n",
       "    </tr>\n",
       "  </tbody>\n",
       "</table>\n",
       "</div>"
      ],
      "text/plain": [
       "   RecordID                          Offense    IncidentID BlockNumber  \\\n",
       "0         1         Assist Citizen - Medical  202500015024        1400   \n",
       "1         2  Assist Citizen - Mental/TDO/ECO  202500015023        1400   \n",
       "2         3    Larceny - Theft from Building  202500014987         200   \n",
       "3         4                   Assault Simple  202500014982         200   \n",
       "4         5               Assault Aggravated  202500014979         500   \n",
       "\n",
       "           StreetName Agency HourReported  ReportingOfficer  \\\n",
       "0  MONTICELLO RD, 100    CPD         1630   Crowley, Raeann   \n",
       "1          HAMPTON ST    CPD         1622    Benbow, Lauren   \n",
       "2         E MARKET ST    CPD         1122      Kirby, Tyree   \n",
       "3            RIDGE ST    CPD         1027     Wisser, Shawn   \n",
       "4       RIDGE ST, 508    CPD         1025  Schwartz, Honora   \n",
       "\n",
       "                 Date              DateString DayOfWeek  Weekend  Season  \\\n",
       "0 2025-05-05 16:30:35  2025-05-05 04:30:35 PM    Monday    False  Spring   \n",
       "1 2025-05-05 16:22:41  2025-05-05 04:22:41 PM    Monday    False  Spring   \n",
       "2 2025-05-05 11:22:06  2025-05-05 11:22:06 AM    Monday    False  Spring   \n",
       "3 2025-05-05 10:27:33  2025-05-05 10:27:33 AM    Monday    False  Spring   \n",
       "4 2025-05-05 10:25:35  2025-05-05 10:25:35 AM    Monday    False  Spring   \n",
       "\n",
       "   HourAMPM  TimeOfDay               FullStreet        lat        lon  \\\n",
       "0  04:30 PM  Afternoon  1400 MONTICELLO RD, 100  38.019453 -78.472626   \n",
       "1  04:22 PM  Afternoon          1400 HAMPTON ST  38.019210 -78.469126   \n",
       "2  11:22 AM    Morning          200 E MARKET ST  38.031104 -78.480367   \n",
       "3  10:27 AM    Morning             200 RIDGE ST  38.029522 -78.485560   \n",
       "4  10:25 AM    Morning        500 RIDGE ST, 508  38.027107 -78.486703   \n",
       "\n",
       "    neighborhood    zip  \n",
       "0        Belmont  22902  \n",
       "1        Belmont  22902  \n",
       "2  Downtown Mall  22902  \n",
       "3      Fifeville  22902  \n",
       "4      Fifeville  22903  "
      ]
     },
     "execution_count": 11,
     "metadata": {},
     "output_type": "execute_result"
    }
   ],
   "source": [
    "# Initialize the geocoder.\n",
    "geolocator = Nominatim(user_agent=\"zip_lookup\")\n",
    "\n",
    "# Try to load a persistent ZIP cache if available.\n",
    "try:\n",
    "    with open(\"zip_cache.pkl\", \"rb\") as f:\n",
    "        zip_cache = pickle.load(f)\n",
    "    print(\"Loaded zip cache.\")\n",
    "except FileNotFoundError:\n",
    "    zip_cache = {}\n",
    "    print(\"No zip cache found; starting fresh.\")\n",
    "\n",
    "def get_zip(lat, lon):\n",
    "    \"\"\"\n",
    "    Reverse geocodes a latitude and longitude to retrieve the ZIP code.\n",
    "    Caches results to speed up subsequent lookups.\n",
    "    \"\"\"\n",
    "    key = (lat, lon)\n",
    "    if key in zip_cache:\n",
    "        return zip_cache[key]\n",
    "    \n",
    "    try:\n",
    "        location = geolocator.reverse((lat, lon), exactly_one=True, timeout=10)\n",
    "        address = location.raw.get('address', {})\n",
    "        postal_code = address.get('postcode', \"N/A\")\n",
    "    except Exception as e:\n",
    "        print(f\"Error getting ZIP for {lat}, {lon}: {e}\")\n",
    "        postal_code = \"N/A\"\n",
    "    \n",
    "    zip_cache[key] = postal_code\n",
    "    # Pause to respect the usage policy.\n",
    "    time.sleep(1)\n",
    "    return postal_code\n",
    "\n",
    "# Apply the function to each row in the DataFrame.\n",
    "df['zip'] = df.apply(lambda row: get_zip(row['lat'], row['lon']), axis=1)\n",
    "\n",
    "# Save the updated ZIP cache.\n",
    "with open(\"zip_cache.pkl\", \"wb\") as f:\n",
    "    pickle.dump(zip_cache, f)\n",
    "\n",
    "df.head()\n"
   ]
  },
  {
   "cell_type": "code",
   "execution_count": 12,
   "id": "f9b1bd23",
   "metadata": {
    "execution": {
     "iopub.execute_input": "2025-05-08T01:03:56.008416Z",
     "iopub.status.busy": "2025-05-08T01:03:56.008124Z",
     "iopub.status.idle": "2025-05-08T01:03:56.038641Z",
     "shell.execute_reply": "2025-05-08T01:03:56.037943Z"
    },
    "papermill": {
     "duration": 0.03941,
     "end_time": "2025-05-08T01:03:56.039718",
     "exception": false,
     "start_time": "2025-05-08T01:03:56.000308",
     "status": "completed"
    },
    "tags": []
   },
   "outputs": [
    {
     "name": "stdout",
     "output_type": "stream",
     "text": [
      "                  MissingCount  MissingPercentage\n",
      "RecordID                     0               0.00\n",
      "Offense                      0               0.00\n",
      "IncidentID                   0               0.00\n",
      "BlockNumber                  0               0.00\n",
      "StreetName                   0               0.00\n",
      "Agency                       0               0.00\n",
      "HourReported                 0               0.00\n",
      "ReportingOfficer            17               0.07\n",
      "Date                         0               0.00\n",
      "DateString                   0               0.00\n",
      "DayOfWeek                    0               0.00\n",
      "Weekend                      0               0.00\n",
      "Season                       0               0.00\n",
      "HourAMPM                     0               0.00\n",
      "TimeOfDay                    0               0.00\n",
      "FullStreet                   0               0.00\n",
      "lat                          0               0.00\n",
      "lon                          0               0.00\n",
      "neighborhood                 0               0.00\n",
      "zip                          0               0.00\n"
     ]
    }
   ],
   "source": [
    "missing_info = missing_percentage(df)\n",
    "print(missing_info)\n"
   ]
  },
  {
   "cell_type": "code",
   "execution_count": 13,
   "id": "c9a6a00e",
   "metadata": {
    "execution": {
     "iopub.execute_input": "2025-05-08T01:03:56.055410Z",
     "iopub.status.busy": "2025-05-08T01:03:56.054897Z",
     "iopub.status.idle": "2025-05-08T01:03:56.087075Z",
     "shell.execute_reply": "2025-05-08T01:03:56.086473Z"
    },
    "papermill": {
     "duration": 0.040734,
     "end_time": "2025-05-08T01:03:56.088044",
     "exception": false,
     "start_time": "2025-05-08T01:03:56.047310",
     "status": "completed"
    },
    "tags": []
   },
   "outputs": [
    {
     "name": "stdout",
     "output_type": "stream",
     "text": [
      "<class 'pandas.core.frame.DataFrame'>\n",
      "RangeIndex: 25345 entries, 0 to 25344\n",
      "Data columns (total 20 columns):\n",
      " #   Column            Non-Null Count  Dtype         \n",
      "---  ------            --------------  -----         \n",
      " 0   RecordID          25345 non-null  int64         \n",
      " 1   Offense           25345 non-null  object        \n",
      " 2   IncidentID        25345 non-null  object        \n",
      " 3   BlockNumber       25345 non-null  object        \n",
      " 4   StreetName        25345 non-null  object        \n",
      " 5   Agency            25345 non-null  object        \n",
      " 6   HourReported      25345 non-null  object        \n",
      " 7   ReportingOfficer  25328 non-null  object        \n",
      " 8   Date              25345 non-null  datetime64[ns]\n",
      " 9   DateString        25345 non-null  object        \n",
      " 10  DayOfWeek         25345 non-null  object        \n",
      " 11  Weekend           25345 non-null  bool          \n",
      " 12  Season            25345 non-null  object        \n",
      " 13  HourAMPM          25345 non-null  object        \n",
      " 14  TimeOfDay         25345 non-null  object        \n",
      " 15  FullStreet        25345 non-null  object        \n",
      " 16  lat               25345 non-null  float64       \n",
      " 17  lon               25345 non-null  float64       \n",
      " 18  neighborhood      25345 non-null  object        \n",
      " 19  zip               25345 non-null  object        \n",
      "dtypes: bool(1), datetime64[ns](1), float64(2), int64(1), object(15)\n",
      "memory usage: 3.7+ MB\n"
     ]
    }
   ],
   "source": [
    "df.info()"
   ]
  },
  {
   "cell_type": "code",
   "execution_count": 14,
   "id": "44f647f2",
   "metadata": {
    "execution": {
     "iopub.execute_input": "2025-05-08T01:03:56.103326Z",
     "iopub.status.busy": "2025-05-08T01:03:56.103086Z",
     "iopub.status.idle": "2025-05-08T01:03:56.145498Z",
     "shell.execute_reply": "2025-05-08T01:03:56.144820Z"
    },
    "papermill": {
     "duration": 0.051295,
     "end_time": "2025-05-08T01:03:56.146619",
     "exception": false,
     "start_time": "2025-05-08T01:03:56.095324",
     "status": "completed"
    },
    "tags": []
   },
   "outputs": [
    {
     "data": {
      "text/html": [
       "<div>\n",
       "<style scoped>\n",
       "    .dataframe tbody tr th:only-of-type {\n",
       "        vertical-align: middle;\n",
       "    }\n",
       "\n",
       "    .dataframe tbody tr th {\n",
       "        vertical-align: top;\n",
       "    }\n",
       "\n",
       "    .dataframe thead th {\n",
       "        text-align: right;\n",
       "    }\n",
       "</style>\n",
       "<table border=\"1\" class=\"dataframe\">\n",
       "  <thead>\n",
       "    <tr style=\"text-align: right;\">\n",
       "      <th></th>\n",
       "      <th>RecordID</th>\n",
       "      <th>Offense</th>\n",
       "      <th>IncidentID</th>\n",
       "      <th>Agency</th>\n",
       "      <th>ReportingOfficer</th>\n",
       "      <th>Date</th>\n",
       "      <th>DayOfWeek</th>\n",
       "      <th>Weekend</th>\n",
       "      <th>Season</th>\n",
       "      <th>TimeOfDay</th>\n",
       "      <th>FullStreet</th>\n",
       "      <th>lat</th>\n",
       "      <th>lon</th>\n",
       "      <th>neighborhood</th>\n",
       "      <th>zip</th>\n",
       "    </tr>\n",
       "  </thead>\n",
       "  <tbody>\n",
       "    <tr>\n",
       "      <th>0</th>\n",
       "      <td>1</td>\n",
       "      <td>Assist Citizen - Medical</td>\n",
       "      <td>202500015024</td>\n",
       "      <td>CPD</td>\n",
       "      <td>Crowley, Raeann</td>\n",
       "      <td>2025-05-05 16:30:35</td>\n",
       "      <td>Monday</td>\n",
       "      <td>False</td>\n",
       "      <td>Spring</td>\n",
       "      <td>Afternoon</td>\n",
       "      <td>1400 MONTICELLO RD, 100</td>\n",
       "      <td>38.019453</td>\n",
       "      <td>-78.472626</td>\n",
       "      <td>Belmont</td>\n",
       "      <td>22902</td>\n",
       "    </tr>\n",
       "    <tr>\n",
       "      <th>1</th>\n",
       "      <td>2</td>\n",
       "      <td>Assist Citizen - Mental/TDO/ECO</td>\n",
       "      <td>202500015023</td>\n",
       "      <td>CPD</td>\n",
       "      <td>Benbow, Lauren</td>\n",
       "      <td>2025-05-05 16:22:41</td>\n",
       "      <td>Monday</td>\n",
       "      <td>False</td>\n",
       "      <td>Spring</td>\n",
       "      <td>Afternoon</td>\n",
       "      <td>1400 HAMPTON ST</td>\n",
       "      <td>38.019210</td>\n",
       "      <td>-78.469126</td>\n",
       "      <td>Belmont</td>\n",
       "      <td>22902</td>\n",
       "    </tr>\n",
       "    <tr>\n",
       "      <th>2</th>\n",
       "      <td>3</td>\n",
       "      <td>Larceny - Theft from Building</td>\n",
       "      <td>202500014987</td>\n",
       "      <td>CPD</td>\n",
       "      <td>Kirby, Tyree</td>\n",
       "      <td>2025-05-05 11:22:06</td>\n",
       "      <td>Monday</td>\n",
       "      <td>False</td>\n",
       "      <td>Spring</td>\n",
       "      <td>Morning</td>\n",
       "      <td>200 E MARKET ST</td>\n",
       "      <td>38.031104</td>\n",
       "      <td>-78.480367</td>\n",
       "      <td>Downtown Mall</td>\n",
       "      <td>22902</td>\n",
       "    </tr>\n",
       "    <tr>\n",
       "      <th>3</th>\n",
       "      <td>4</td>\n",
       "      <td>Assault Simple</td>\n",
       "      <td>202500014982</td>\n",
       "      <td>CPD</td>\n",
       "      <td>Wisser, Shawn</td>\n",
       "      <td>2025-05-05 10:27:33</td>\n",
       "      <td>Monday</td>\n",
       "      <td>False</td>\n",
       "      <td>Spring</td>\n",
       "      <td>Morning</td>\n",
       "      <td>200 RIDGE ST</td>\n",
       "      <td>38.029522</td>\n",
       "      <td>-78.485560</td>\n",
       "      <td>Fifeville</td>\n",
       "      <td>22902</td>\n",
       "    </tr>\n",
       "    <tr>\n",
       "      <th>4</th>\n",
       "      <td>5</td>\n",
       "      <td>Assault Aggravated</td>\n",
       "      <td>202500014979</td>\n",
       "      <td>CPD</td>\n",
       "      <td>Schwartz, Honora</td>\n",
       "      <td>2025-05-05 10:25:35</td>\n",
       "      <td>Monday</td>\n",
       "      <td>False</td>\n",
       "      <td>Spring</td>\n",
       "      <td>Morning</td>\n",
       "      <td>500 RIDGE ST, 508</td>\n",
       "      <td>38.027107</td>\n",
       "      <td>-78.486703</td>\n",
       "      <td>Fifeville</td>\n",
       "      <td>22903</td>\n",
       "    </tr>\n",
       "  </tbody>\n",
       "</table>\n",
       "</div>"
      ],
      "text/plain": [
       "   RecordID                          Offense    IncidentID Agency  \\\n",
       "0         1         Assist Citizen - Medical  202500015024    CPD   \n",
       "1         2  Assist Citizen - Mental/TDO/ECO  202500015023    CPD   \n",
       "2         3    Larceny - Theft from Building  202500014987    CPD   \n",
       "3         4                   Assault Simple  202500014982    CPD   \n",
       "4         5               Assault Aggravated  202500014979    CPD   \n",
       "\n",
       "   ReportingOfficer                Date DayOfWeek  Weekend  Season  TimeOfDay  \\\n",
       "0   Crowley, Raeann 2025-05-05 16:30:35    Monday    False  Spring  Afternoon   \n",
       "1    Benbow, Lauren 2025-05-05 16:22:41    Monday    False  Spring  Afternoon   \n",
       "2      Kirby, Tyree 2025-05-05 11:22:06    Monday    False  Spring    Morning   \n",
       "3     Wisser, Shawn 2025-05-05 10:27:33    Monday    False  Spring    Morning   \n",
       "4  Schwartz, Honora 2025-05-05 10:25:35    Monday    False  Spring    Morning   \n",
       "\n",
       "                FullStreet        lat        lon   neighborhood    zip  \n",
       "0  1400 MONTICELLO RD, 100  38.019453 -78.472626        Belmont  22902  \n",
       "1          1400 HAMPTON ST  38.019210 -78.469126        Belmont  22902  \n",
       "2          200 E MARKET ST  38.031104 -78.480367  Downtown Mall  22902  \n",
       "3             200 RIDGE ST  38.029522 -78.485560      Fifeville  22902  \n",
       "4        500 RIDGE ST, 508  38.027107 -78.486703      Fifeville  22903  "
      ]
     },
     "execution_count": 14,
     "metadata": {},
     "output_type": "execute_result"
    }
   ],
   "source": [
    "# Now drop the original BlockNumber and StreetName columns\n",
    "df.drop(columns=['BlockNumber', 'StreetName','HourAMPM','HourReported','DateString'], inplace=True)\n",
    "df[\"zip\"] = df[\"zip\"].astype(str)\n",
    "\n",
    "# Fill all missing values in the DataFrame with \"N/A\"\n",
    "df.replace({None: \"N/A\", np.nan: \"N/A\", \"\": \"N/A\"}, inplace=True)\n",
    "df.head()"
   ]
  },
  {
   "cell_type": "code",
   "execution_count": 15,
   "id": "84b4cf03",
   "metadata": {
    "execution": {
     "iopub.execute_input": "2025-05-08T01:03:56.162809Z",
     "iopub.status.busy": "2025-05-08T01:03:56.162390Z",
     "iopub.status.idle": "2025-05-08T01:03:56.178742Z",
     "shell.execute_reply": "2025-05-08T01:03:56.178212Z"
    },
    "papermill": {
     "duration": 0.02533,
     "end_time": "2025-05-08T01:03:56.179766",
     "exception": false,
     "start_time": "2025-05-08T01:03:56.154436",
     "status": "completed"
    },
    "tags": []
   },
   "outputs": [
    {
     "name": "stdout",
     "output_type": "stream",
     "text": [
      "                  MissingCount  MissingPercentage\n",
      "RecordID                     0                0.0\n",
      "Offense                      0                0.0\n",
      "IncidentID                   0                0.0\n",
      "Agency                       0                0.0\n",
      "ReportingOfficer             0                0.0\n",
      "Date                         0                0.0\n",
      "DayOfWeek                    0                0.0\n",
      "Weekend                      0                0.0\n",
      "Season                       0                0.0\n",
      "TimeOfDay                    0                0.0\n",
      "FullStreet                   0                0.0\n",
      "lat                          0                0.0\n",
      "lon                          0                0.0\n",
      "neighborhood                 0                0.0\n",
      "zip                          0                0.0\n"
     ]
    }
   ],
   "source": [
    "missing_info = missing_percentage(df)\n",
    "print(missing_info)"
   ]
  },
  {
   "cell_type": "code",
   "execution_count": 16,
   "id": "34702835",
   "metadata": {
    "execution": {
     "iopub.execute_input": "2025-05-08T01:03:56.195605Z",
     "iopub.status.busy": "2025-05-08T01:03:56.195223Z",
     "iopub.status.idle": "2025-05-08T01:03:56.199444Z",
     "shell.execute_reply": "2025-05-08T01:03:56.198901Z"
    },
    "papermill": {
     "duration": 0.013185,
     "end_time": "2025-05-08T01:03:56.200461",
     "exception": false,
     "start_time": "2025-05-08T01:03:56.187276",
     "status": "completed"
    },
    "tags": []
   },
   "outputs": [
    {
     "data": {
      "text/plain": [
       "Index(['RecordID', 'Offense', 'IncidentID', 'Agency', 'ReportingOfficer',\n",
       "       'Date', 'DayOfWeek', 'Weekend', 'Season', 'TimeOfDay', 'FullStreet',\n",
       "       'lat', 'lon', 'neighborhood', 'zip'],\n",
       "      dtype='object')"
      ]
     },
     "execution_count": 16,
     "metadata": {},
     "output_type": "execute_result"
    }
   ],
   "source": [
    "df.columns"
   ]
  },
  {
   "cell_type": "code",
   "execution_count": 17,
   "id": "567c85e4",
   "metadata": {
    "execution": {
     "iopub.execute_input": "2025-05-08T01:03:56.216528Z",
     "iopub.status.busy": "2025-05-08T01:03:56.216161Z",
     "iopub.status.idle": "2025-05-08T01:03:56.233411Z",
     "shell.execute_reply": "2025-05-08T01:03:56.232759Z"
    },
    "papermill": {
     "duration": 0.026447,
     "end_time": "2025-05-08T01:03:56.234444",
     "exception": false,
     "start_time": "2025-05-08T01:03:56.207997",
     "status": "completed"
    },
    "tags": []
   },
   "outputs": [
    {
     "name": "stdout",
     "output_type": "stream",
     "text": [
      "<class 'pandas.core.frame.DataFrame'>\n",
      "RangeIndex: 25345 entries, 0 to 25344\n",
      "Data columns (total 15 columns):\n",
      " #   Column            Non-Null Count  Dtype         \n",
      "---  ------            --------------  -----         \n",
      " 0   RecordID          25345 non-null  int64         \n",
      " 1   Offense           25345 non-null  object        \n",
      " 2   IncidentID        25345 non-null  object        \n",
      " 3   Agency            25345 non-null  object        \n",
      " 4   ReportingOfficer  25345 non-null  object        \n",
      " 5   Date              25345 non-null  datetime64[ns]\n",
      " 6   DayOfWeek         25345 non-null  object        \n",
      " 7   Weekend           25345 non-null  bool          \n",
      " 8   Season            25345 non-null  object        \n",
      " 9   TimeOfDay         25345 non-null  object        \n",
      " 10  FullStreet        25345 non-null  object        \n",
      " 11  lat               25345 non-null  float64       \n",
      " 12  lon               25345 non-null  float64       \n",
      " 13  neighborhood      25345 non-null  object        \n",
      " 14  zip               25345 non-null  object        \n",
      "dtypes: bool(1), datetime64[ns](1), float64(2), int64(1), object(10)\n",
      "memory usage: 2.7+ MB\n"
     ]
    }
   ],
   "source": [
    "df.info()"
   ]
  },
  {
   "cell_type": "markdown",
   "id": "c8779061",
   "metadata": {
    "papermill": {
     "duration": 0.007609,
     "end_time": "2025-05-08T01:03:56.249813",
     "exception": false,
     "start_time": "2025-05-08T01:03:56.242204",
     "status": "completed"
    },
    "tags": []
   },
   "source": [
    "### Export Clean Data"
   ]
  },
  {
   "cell_type": "code",
   "execution_count": 18,
   "id": "b4c70310",
   "metadata": {
    "execution": {
     "iopub.execute_input": "2025-05-08T01:03:56.266466Z",
     "iopub.status.busy": "2025-05-08T01:03:56.265971Z",
     "iopub.status.idle": "2025-05-08T01:04:05.640213Z",
     "shell.execute_reply": "2025-05-08T01:04:05.639403Z"
    },
    "papermill": {
     "duration": 9.383698,
     "end_time": "2025-05-08T01:04:05.641318",
     "exception": false,
     "start_time": "2025-05-08T01:03:56.257620",
     "status": "completed"
    },
    "tags": []
   },
   "outputs": [
    {
     "name": "stdout",
     "output_type": "stream",
     "text": [
      "Project Root: /home/runner/work/crime-data/crime-data\n"
     ]
    },
    {
     "name": "stdout",
     "output_type": "stream",
     "text": [
      "Data saved to: /home/runner/work/crime-data/crime-data/data/charlottesville_crime_incidents.csv\n"
     ]
    },
    {
     "name": "stdout",
     "output_type": "stream",
     "text": [
      "Excel saved to: /home/runner/work/crime-data/crime-data/data/charlottesville_crime_incidents.xlsx\n"
     ]
    }
   ],
   "source": [
    "# Determine the project root (assuming papermill is run from the repository root)\n",
    "project_root = os.getcwd()\n",
    "print(\"Project Root:\", project_root)\n",
    "\n",
    "# Set the data directory within the project root\n",
    "data_dir = os.path.join(project_root, \"data\")\n",
    "\n",
    "# Ensure the \"data\" directory exists (create it if it doesn't)\n",
    "if not os.path.exists(data_dir):\n",
    "    os.makedirs(data_dir)\n",
    "\n",
    "# Export the DataFrame to CSV in the \"data\" folder located in the project root\n",
    "csv_path = os.path.join(data_dir, \"charlottesville_crime_incidents.csv\")\n",
    "df.to_csv(csv_path, index=False)\n",
    "print(\"Data saved to:\", csv_path)\n",
    "\n",
    "# Construct the path to your Excel file\n",
    "excel_path = os.path.join(data_dir, \"charlottesville_crime_incidents.xlsx\")\n",
    "\n",
    "# Export the DataFrame to Excel\n",
    "df.to_excel(excel_path, index=False)\n",
    "print(\"Excel saved to:\", excel_path)\n"
   ]
  },
  {
   "cell_type": "markdown",
   "id": "4a660294",
   "metadata": {
    "papermill": {
     "duration": 0.007782,
     "end_time": "2025-05-08T01:04:05.657337",
     "exception": false,
     "start_time": "2025-05-08T01:04:05.649555",
     "status": "completed"
    },
    "tags": []
   },
   "source": [
    "## Predictive Analytics"
   ]
  },
  {
   "cell_type": "code",
   "execution_count": 19,
   "id": "c501a6c1",
   "metadata": {
    "execution": {
     "iopub.execute_input": "2025-05-08T01:04:05.673960Z",
     "iopub.status.busy": "2025-05-08T01:04:05.673421Z",
     "iopub.status.idle": "2025-05-08T01:04:05.685560Z",
     "shell.execute_reply": "2025-05-08T01:04:05.685026Z"
    },
    "papermill": {
     "duration": 0.021499,
     "end_time": "2025-05-08T01:04:05.686566",
     "exception": false,
     "start_time": "2025-05-08T01:04:05.665067",
     "status": "completed"
    },
    "tags": []
   },
   "outputs": [
    {
     "data": {
      "text/html": [
       "<div>\n",
       "<style scoped>\n",
       "    .dataframe tbody tr th:only-of-type {\n",
       "        vertical-align: middle;\n",
       "    }\n",
       "\n",
       "    .dataframe tbody tr th {\n",
       "        vertical-align: top;\n",
       "    }\n",
       "\n",
       "    .dataframe thead th {\n",
       "        text-align: right;\n",
       "    }\n",
       "</style>\n",
       "<table border=\"1\" class=\"dataframe\">\n",
       "  <thead>\n",
       "    <tr style=\"text-align: right;\">\n",
       "      <th></th>\n",
       "      <th>RecordID</th>\n",
       "      <th>Offense</th>\n",
       "      <th>IncidentID</th>\n",
       "      <th>Agency</th>\n",
       "      <th>ReportingOfficer</th>\n",
       "      <th>Date</th>\n",
       "      <th>DayOfWeek</th>\n",
       "      <th>Weekend</th>\n",
       "      <th>Season</th>\n",
       "      <th>TimeOfDay</th>\n",
       "      <th>FullStreet</th>\n",
       "      <th>lat</th>\n",
       "      <th>lon</th>\n",
       "      <th>neighborhood</th>\n",
       "      <th>zip</th>\n",
       "    </tr>\n",
       "  </thead>\n",
       "  <tbody>\n",
       "    <tr>\n",
       "      <th>0</th>\n",
       "      <td>1</td>\n",
       "      <td>Assist Citizen - Medical</td>\n",
       "      <td>202500015024</td>\n",
       "      <td>CPD</td>\n",
       "      <td>Crowley, Raeann</td>\n",
       "      <td>2025-05-05 16:30:35</td>\n",
       "      <td>Monday</td>\n",
       "      <td>False</td>\n",
       "      <td>Spring</td>\n",
       "      <td>Afternoon</td>\n",
       "      <td>1400 MONTICELLO RD, 100</td>\n",
       "      <td>38.019453</td>\n",
       "      <td>-78.472626</td>\n",
       "      <td>Belmont</td>\n",
       "      <td>22902</td>\n",
       "    </tr>\n",
       "    <tr>\n",
       "      <th>1</th>\n",
       "      <td>2</td>\n",
       "      <td>Assist Citizen - Mental/TDO/ECO</td>\n",
       "      <td>202500015023</td>\n",
       "      <td>CPD</td>\n",
       "      <td>Benbow, Lauren</td>\n",
       "      <td>2025-05-05 16:22:41</td>\n",
       "      <td>Monday</td>\n",
       "      <td>False</td>\n",
       "      <td>Spring</td>\n",
       "      <td>Afternoon</td>\n",
       "      <td>1400 HAMPTON ST</td>\n",
       "      <td>38.019210</td>\n",
       "      <td>-78.469126</td>\n",
       "      <td>Belmont</td>\n",
       "      <td>22902</td>\n",
       "    </tr>\n",
       "    <tr>\n",
       "      <th>2</th>\n",
       "      <td>3</td>\n",
       "      <td>Larceny - Theft from Building</td>\n",
       "      <td>202500014987</td>\n",
       "      <td>CPD</td>\n",
       "      <td>Kirby, Tyree</td>\n",
       "      <td>2025-05-05 11:22:06</td>\n",
       "      <td>Monday</td>\n",
       "      <td>False</td>\n",
       "      <td>Spring</td>\n",
       "      <td>Morning</td>\n",
       "      <td>200 E MARKET ST</td>\n",
       "      <td>38.031104</td>\n",
       "      <td>-78.480367</td>\n",
       "      <td>Downtown Mall</td>\n",
       "      <td>22902</td>\n",
       "    </tr>\n",
       "    <tr>\n",
       "      <th>3</th>\n",
       "      <td>4</td>\n",
       "      <td>Assault Simple</td>\n",
       "      <td>202500014982</td>\n",
       "      <td>CPD</td>\n",
       "      <td>Wisser, Shawn</td>\n",
       "      <td>2025-05-05 10:27:33</td>\n",
       "      <td>Monday</td>\n",
       "      <td>False</td>\n",
       "      <td>Spring</td>\n",
       "      <td>Morning</td>\n",
       "      <td>200 RIDGE ST</td>\n",
       "      <td>38.029522</td>\n",
       "      <td>-78.485560</td>\n",
       "      <td>Fifeville</td>\n",
       "      <td>22902</td>\n",
       "    </tr>\n",
       "    <tr>\n",
       "      <th>4</th>\n",
       "      <td>5</td>\n",
       "      <td>Assault Aggravated</td>\n",
       "      <td>202500014979</td>\n",
       "      <td>CPD</td>\n",
       "      <td>Schwartz, Honora</td>\n",
       "      <td>2025-05-05 10:25:35</td>\n",
       "      <td>Monday</td>\n",
       "      <td>False</td>\n",
       "      <td>Spring</td>\n",
       "      <td>Morning</td>\n",
       "      <td>500 RIDGE ST, 508</td>\n",
       "      <td>38.027107</td>\n",
       "      <td>-78.486703</td>\n",
       "      <td>Fifeville</td>\n",
       "      <td>22903</td>\n",
       "    </tr>\n",
       "  </tbody>\n",
       "</table>\n",
       "</div>"
      ],
      "text/plain": [
       "   RecordID                          Offense    IncidentID Agency  \\\n",
       "0         1         Assist Citizen - Medical  202500015024    CPD   \n",
       "1         2  Assist Citizen - Mental/TDO/ECO  202500015023    CPD   \n",
       "2         3    Larceny - Theft from Building  202500014987    CPD   \n",
       "3         4                   Assault Simple  202500014982    CPD   \n",
       "4         5               Assault Aggravated  202500014979    CPD   \n",
       "\n",
       "   ReportingOfficer                Date DayOfWeek  Weekend  Season  TimeOfDay  \\\n",
       "0   Crowley, Raeann 2025-05-05 16:30:35    Monday    False  Spring  Afternoon   \n",
       "1    Benbow, Lauren 2025-05-05 16:22:41    Monday    False  Spring  Afternoon   \n",
       "2      Kirby, Tyree 2025-05-05 11:22:06    Monday    False  Spring    Morning   \n",
       "3     Wisser, Shawn 2025-05-05 10:27:33    Monday    False  Spring    Morning   \n",
       "4  Schwartz, Honora 2025-05-05 10:25:35    Monday    False  Spring    Morning   \n",
       "\n",
       "                FullStreet        lat        lon   neighborhood    zip  \n",
       "0  1400 MONTICELLO RD, 100  38.019453 -78.472626        Belmont  22902  \n",
       "1          1400 HAMPTON ST  38.019210 -78.469126        Belmont  22902  \n",
       "2          200 E MARKET ST  38.031104 -78.480367  Downtown Mall  22902  \n",
       "3             200 RIDGE ST  38.029522 -78.485560      Fifeville  22902  \n",
       "4        500 RIDGE ST, 508  38.027107 -78.486703      Fifeville  22903  "
      ]
     },
     "execution_count": 19,
     "metadata": {},
     "output_type": "execute_result"
    }
   ],
   "source": [
    "df.head()"
   ]
  },
  {
   "cell_type": "code",
   "execution_count": 20,
   "id": "c1e08c57",
   "metadata": {
    "execution": {
     "iopub.execute_input": "2025-05-08T01:04:05.703680Z",
     "iopub.status.busy": "2025-05-08T01:04:05.703467Z",
     "iopub.status.idle": "2025-05-08T01:04:05.707843Z",
     "shell.execute_reply": "2025-05-08T01:04:05.707245Z"
    },
    "papermill": {
     "duration": 0.014096,
     "end_time": "2025-05-08T01:04:05.708764",
     "exception": false,
     "start_time": "2025-05-08T01:04:05.694668",
     "status": "completed"
    },
    "tags": []
   },
   "outputs": [
    {
     "data": {
      "text/plain": [
       "Index(['RecordID', 'Offense', 'IncidentID', 'Agency', 'ReportingOfficer',\n",
       "       'Date', 'DayOfWeek', 'Weekend', 'Season', 'TimeOfDay', 'FullStreet',\n",
       "       'lat', 'lon', 'neighborhood', 'zip'],\n",
       "      dtype='object')"
      ]
     },
     "execution_count": 20,
     "metadata": {},
     "output_type": "execute_result"
    }
   ],
   "source": [
    "df.columns"
   ]
  },
  {
   "cell_type": "markdown",
   "id": "9157841b",
   "metadata": {
    "papermill": {
     "duration": 0.008055,
     "end_time": "2025-05-08T01:04:05.724975",
     "exception": false,
     "start_time": "2025-05-08T01:04:05.716920",
     "status": "completed"
    },
    "tags": []
   },
   "source": [
    "### Data Preparation\n",
    "\n",
    "We need to ensure the data is in the correct format for modeling and can handle missing values, categorical variables, and dates. Here's how to prepare your data:"
   ]
  },
  {
   "cell_type": "code",
   "execution_count": 21,
   "id": "c26718af",
   "metadata": {
    "execution": {
     "iopub.execute_input": "2025-05-08T01:04:05.742241Z",
     "iopub.status.busy": "2025-05-08T01:04:05.741837Z",
     "iopub.status.idle": "2025-05-08T01:04:07.588035Z",
     "shell.execute_reply": "2025-05-08T01:04:07.587234Z"
    },
    "papermill": {
     "duration": 1.856438,
     "end_time": "2025-05-08T01:04:07.589533",
     "exception": false,
     "start_time": "2025-05-08T01:04:05.733095",
     "status": "completed"
    },
    "tags": []
   },
   "outputs": [],
   "source": [
    "import pandas as pd\n",
    "from sklearn.model_selection import train_test_split\n",
    "from sklearn.preprocessing import OneHotEncoder, LabelEncoder\n",
    "from sklearn.ensemble import RandomForestClassifier\n",
    "from sklearn.linear_model import LogisticRegression\n",
    "from sklearn.tree import DecisionTreeClassifier\n",
    "from sklearn.metrics import classification_report, accuracy_score\n",
    "import seaborn as sns\n",
    "import matplotlib.pyplot as plt\n",
    "\n",
    "# Convert 'Date' to datetime\n",
    "df['Date'] = pd.to_datetime(df['Date'])\n",
    "\n",
    "# Feature engineering: Extract additional time-based features\n",
    "df['Year'] = df['Date'].dt.year\n",
    "df['Month'] = df['Date'].dt.month\n",
    "df['DayOfMonth'] = df['Date'].dt.day\n",
    "\n",
    "# One-hot encoding for 'FullStreet', 'neighborhood', 'zip'\n",
    "df = pd.get_dummies(df, columns=['FullStreet', 'neighborhood', 'zip'], drop_first=True)\n",
    "\n",
    "# Label encoding for ordered variables (those with a natural order like 'DayOfWeek', 'Season', 'TimeOfDay')\n",
    "label_encoders = {}\n",
    "for column in ['DayOfWeek', 'Season', 'TimeOfDay', 'Agency', 'ReportingOfficer']:  # Example ordinal variables\n",
    "    le = LabelEncoder()\n",
    "    df[column] = le.fit_transform(df[column])\n",
    "    label_encoders[column] = le\n",
    "\n",
    "# Filter the dataset to include only the offenses of interest\n",
    "offenses_of_interest = [\n",
    "    'Hit and Run', 'Assault Simple', 'Suspicious Activity', 'Vandalism', \n",
    "    'Larceny - From Mot Vehicle', 'Larceny - All Other', \n",
    "    'Assist Citizen - Mental/TDO/ECO', 'Lost/FoundProperty'\n",
    "]\n",
    "\n",
    "df = df[df['Offense'].isin(offenses_of_interest)]\n",
    "\n",
    "# Label encode the target variable (Offense)\n",
    "offense_encoder = LabelEncoder()\n",
    "df['Offense'] = offense_encoder.fit_transform(df['Offense'])\n",
    "\n",
    "# Separate features (X) and target (y)\n",
    "X = df[['Year', 'Month', 'DayOfMonth', 'DayOfWeek', 'Weekend', 'Season', 'TimeOfDay', 'lat', 'lon', 'Agency', 'ReportingOfficer']]\n",
    "y = df['Offense']  # Offense is now the encoded target variable\n",
    "\n",
    "# Split the data into training and testing sets\n",
    "X_train, X_test, y_train, y_test = train_test_split(X, y, test_size=0.3, random_state=42)\n"
   ]
  },
  {
   "cell_type": "markdown",
   "id": "a31660f8",
   "metadata": {
    "papermill": {
     "duration": 0.007958,
     "end_time": "2025-05-08T01:04:07.606202",
     "exception": false,
     "start_time": "2025-05-08T01:04:07.598244",
     "status": "completed"
    },
    "tags": []
   },
   "source": [
    "### Model Training\n",
    "\n",
    "Here we will train several models (e.g., Random Forest, Logistic Regression, and Decision Tree). We will use cross-validation to choose the best model based on accuracy, and then explain the impact of the variables."
   ]
  },
  {
   "cell_type": "code",
   "execution_count": 22,
   "id": "cb3c1552",
   "metadata": {
    "execution": {
     "iopub.execute_input": "2025-05-08T01:04:07.623570Z",
     "iopub.status.busy": "2025-05-08T01:04:07.622992Z",
     "iopub.status.idle": "2025-05-08T01:04:11.232984Z",
     "shell.execute_reply": "2025-05-08T01:04:11.232397Z"
    },
    "papermill": {
     "duration": 3.619867,
     "end_time": "2025-05-08T01:04:11.234102",
     "exception": false,
     "start_time": "2025-05-08T01:04:07.614235",
     "status": "completed"
    },
    "tags": []
   },
   "outputs": [
    {
     "name": "stderr",
     "output_type": "stream",
     "text": [
      "/opt/hostedtoolcache/Python/3.9.22/x64/lib/python3.9/site-packages/sklearn/linear_model/_logistic.py:465: ConvergenceWarning: lbfgs failed to converge (status=1):\n",
      "STOP: TOTAL NO. of ITERATIONS REACHED LIMIT.\n",
      "\n",
      "Increase the number of iterations (max_iter) or scale the data as shown in:\n",
      "    https://scikit-learn.org/stable/modules/preprocessing.html\n",
      "Please also refer to the documentation for alternative solver options:\n",
      "    https://scikit-learn.org/stable/modules/linear_model.html#logistic-regression\n",
      "  n_iter_i = _check_optimize_result(\n",
      "/opt/hostedtoolcache/Python/3.9.22/x64/lib/python3.9/site-packages/sklearn/metrics/_classification.py:1565: UndefinedMetricWarning: Precision is ill-defined and being set to 0.0 in labels with no predicted samples. Use `zero_division` parameter to control this behavior.\n",
      "  _warn_prf(average, modifier, f\"{metric.capitalize()} is\", len(result))\n",
      "/opt/hostedtoolcache/Python/3.9.22/x64/lib/python3.9/site-packages/sklearn/metrics/_classification.py:1565: UndefinedMetricWarning: Precision is ill-defined and being set to 0.0 in labels with no predicted samples. Use `zero_division` parameter to control this behavior.\n",
      "  _warn_prf(average, modifier, f\"{metric.capitalize()} is\", len(result))\n",
      "/opt/hostedtoolcache/Python/3.9.22/x64/lib/python3.9/site-packages/sklearn/metrics/_classification.py:1565: UndefinedMetricWarning: Precision is ill-defined and being set to 0.0 in labels with no predicted samples. Use `zero_division` parameter to control this behavior.\n",
      "  _warn_prf(average, modifier, f\"{metric.capitalize()} is\", len(result))\n"
     ]
    },
    {
     "name": "stdout",
     "output_type": "stream",
     "text": [
      "\n",
      "Classification Report for All Models:\n",
      "\n",
      "Model: RandomForest\n",
      "Accuracy: 0.2766\n",
      "              precision    recall  f1-score      support\n",
      "0              0.275298  0.309365  0.291339   598.000000\n",
      "1              0.285319  0.256219  0.269987   402.000000\n",
      "2              0.321393  0.488654  0.387755   661.000000\n",
      "3              0.207283  0.162637  0.182266   455.000000\n",
      "4              0.277056  0.184438  0.221453   347.000000\n",
      "5              0.222727  0.188462  0.204167   520.000000\n",
      "6              0.279126  0.232323  0.253583   495.000000\n",
      "accuracy       0.276596  0.276596  0.276596     0.276596\n",
      "macro avg      0.266886  0.260300  0.258650  3478.000000\n",
      "weighted avg   0.269179  0.276596  0.267547  3478.000000\n"
     ]
    },
    {
     "data": {
      "image/png": "[encoded data removed]",
      "text/plain": [
       "<Figure size 800x600 with 2 Axes>"
      ]
     },
     "metadata": {},
     "output_type": "display_data"
    },
    {
     "name": "stdout",
     "output_type": "stream",
     "text": [
      "\n",
      "Model: LogisticRegression\n",
      "Accuracy: 0.2122\n",
      "              precision    recall  f1-score      support\n",
      "0              0.210678  0.488294  0.294355   598.000000\n",
      "1              0.000000  0.000000  0.000000   402.000000\n",
      "2              0.213193  0.674735  0.324010   661.000000\n",
      "3              0.000000  0.000000  0.000000   455.000000\n",
      "4              0.000000  0.000000  0.000000   347.000000\n",
      "5              0.000000  0.000000  0.000000   520.000000\n",
      "6              0.000000  0.000000  0.000000   495.000000\n",
      "accuracy       0.212191  0.212191  0.212191     0.212191\n",
      "macro avg      0.060553  0.166147  0.088338  3478.000000\n",
      "weighted avg   0.076741  0.212191  0.112189  3478.000000\n"
     ]
    },
    {
     "data": {
      "image/png": "[encoded data removed]",
      "text/plain": [
       "<Figure size 800x600 with 2 Axes>"
      ]
     },
     "metadata": {},
     "output_type": "display_data"
    },
    {
     "name": "stdout",
     "output_type": "stream",
     "text": [
      "\n",
      "Model: DecisionTree\n",
      "Accuracy: 0.2214\n",
      "              precision    recall  f1-score      support\n",
      "0              0.247689  0.224080  0.235294   598.000000\n",
      "1              0.237136  0.263682  0.249706   402.000000\n",
      "2              0.262346  0.257186  0.259740   661.000000\n",
      "3              0.182609  0.184615  0.183607   455.000000\n",
      "4              0.197861  0.213256  0.205270   347.000000\n",
      "5              0.213740  0.215385  0.214559   520.000000\n",
      "6              0.185950  0.181818  0.183861   495.000000\n",
      "accuracy       0.221392  0.221392  0.221392     0.221392\n",
      "macro avg      0.218190  0.220003  0.218862  3478.000000\n",
      "weighted avg   0.221907  0.221392  0.221428  3478.000000\n"
     ]
    },
    {
     "data": {
      "image/png": "[encoded data removed]",
      "text/plain": [
       "<Figure size 800x600 with 2 Axes>"
      ]
     },
     "metadata": {},
     "output_type": "display_data"
    },
    {
     "name": "stdout",
     "output_type": "stream",
     "text": [
      "\n",
      "Best Model:\n",
      "Best Model: RandomForestClassifier()\n",
      "Best Model Accuracy: 0.2766\n"
     ]
    }
   ],
   "source": [
    "import pandas as pd\n",
    "from sklearn.model_selection import train_test_split\n",
    "from sklearn.ensemble import RandomForestClassifier\n",
    "from sklearn.linear_model import LogisticRegression\n",
    "from sklearn.tree import DecisionTreeClassifier\n",
    "from sklearn.metrics import classification_report, accuracy_score, confusion_matrix\n",
    "import seaborn as sns\n",
    "import matplotlib.pyplot as plt\n",
    "\n",
    "# Define models\n",
    "models = {\n",
    "    'RandomForest': RandomForestClassifier(),\n",
    "    'LogisticRegression': LogisticRegression(max_iter=1000),\n",
    "    'DecisionTree': DecisionTreeClassifier()\n",
    "}\n",
    "\n",
    "# Train models and evaluate them\n",
    "best_model = None\n",
    "best_score = 0\n",
    "model_reports = {}\n",
    "\n",
    "for model_name, model in models.items():\n",
    "    model.fit(X_train, y_train)  # Train model\n",
    "    y_pred = model.predict(X_test)  # Make predictions\n",
    "    \n",
    "    # Calculate accuracy and generate classification report\n",
    "    accuracy = accuracy_score(y_test, y_pred)\n",
    "    model_reports[model_name] = classification_report(y_test, y_pred, output_dict=True)  # Store as a dictionary for easier analysis\n",
    "    \n",
    "    # Track best performing model\n",
    "    if accuracy > best_score:\n",
    "        best_score = accuracy\n",
    "        best_model = model\n",
    "\n",
    "# Display classification reports and confusion matrices\n",
    "print(\"\\nClassification Report for All Models:\")\n",
    "for model_name, report in model_reports.items():\n",
    "    print(f\"\\nModel: {model_name}\")\n",
    "    print(\"Accuracy: {:.4f}\".format(accuracy_score(y_test, models[model_name].predict(X_test))))  # Display accuracy\n",
    "    print(pd.DataFrame(report).transpose())  # Display classification report as a DataFrame\n",
    "\n",
    "    # Plot Confusion Matrix\n",
    "    cm = confusion_matrix(y_test, models[model_name].predict(X_test))\n",
    "    plt.figure(figsize=(8, 6))\n",
    "    sns.heatmap(cm, annot=True, fmt=\"d\", cmap='Blues', xticklabels=offense_encoder.classes_, yticklabels=offense_encoder.classes_)\n",
    "    plt.title(f\"Confusion Matrix - {model_name}\")\n",
    "    plt.xlabel('Predicted Labels')\n",
    "    plt.ylabel('True Labels')\n",
    "    plt.show()\n",
    "\n",
    "# Display best model details\n",
    "print(\"\\nBest Model:\")\n",
    "print(f\"Best Model: {best_model}\")\n",
    "print(f\"Best Model Accuracy: {best_score:.4f}\")\n"
   ]
  },
  {
   "cell_type": "markdown",
   "id": "ed5ef279",
   "metadata": {
    "papermill": {
     "duration": 0.010776,
     "end_time": "2025-05-08T01:04:11.256681",
     "exception": false,
     "start_time": "2025-05-08T01:04:11.245905",
     "status": "completed"
    },
    "tags": []
   },
   "source": [
    "#### Classification Report for All Models:\n",
    "\n",
    "### Explanation of the Classification Results (RandomForest Model)\n",
    "\n",
    "The results you provided are from a **Random Forest** model, which is used for predicting different types of offenses. Let's break down the key components of the results:\n",
    "\n",
    "#### 1. **Accuracy: 0.2822**\n",
    "   - **Accuracy** measures the overall percentage of correct predictions made by the model. An accuracy of 28.22% means the model correctly predicted the offense in about 28% of the cases. This indicates the model's predictions are not highly reliable, as the accuracy is quite low.\n",
    "\n",
    "#### 2. **Classification Report:**\n",
    "   The classification report includes precision, recall, and F1-score for each offense. Let's go over these terms and how they apply to the results:\n",
    "\n",
    "   - **Precision**: The proportion of true positive predictions out of all positive predictions made by the model for a specific class (offense).\n",
    "   - **Recall**: The proportion of true positive predictions out of all actual positive instances in the dataset.\n",
    "   - **F1-Score**: The harmonic mean of precision and recall, providing a balance between the two metrics.\n",
    "   - **Support**: The number of actual occurrences of each class in the test set.\n",
    "\n",
    "   Let's analyze each offense based on these metrics:\n",
    "\n",
    "   | **Offense**                        | **Precision** | **Recall** | **F1-Score** | **Support** |\n",
    "   |------------------------------------|---------------|------------|--------------|-------------|\n",
    "   | **Assault Simple**                 | 0.2892        | 0.3754     | 0.3267       | 594         |\n",
    "   | **Assist Citizen - Mental/TDO/ECO**| 0.3182        | 0.2274     | 0.2652       | 431         |\n",
    "   | **Hit and Run**                    | 0.2963        | 0.4765     | 0.3654       | 638         |\n",
    "   | **Larceny - All Other**            | 0.2270        | 0.1453     | 0.1772       | 475         |\n",
    "   | **Lost/FoundProperty**             | 0.3333        | 0.2102     | 0.2578       | 352         |\n",
    "   | **Suspicious Activity**            | 0.2344        | 0.2169     | 0.2253       | 484         |\n",
    "   | **Vandalism**                      | 0.2712        | 0.2106     | 0.2371       | 470         |\n",
    "\n",
    "#### 3. **Key Insights from the Report:**\n",
    "\n",
    "- **Precision**:\n",
    "   - The highest precision is for **Larceny - All Other** (0.3333), indicating that when the model predicts this offense, it is correct about 33% of the time. However, this is still quite low.\n",
    "   - **Assist Citizen - Mental/TDO/ECO** has the lowest precision (0.2269), meaning that the model's predictions for this offense tend to be wrong more often than correct.\n",
    "\n",
    "- **Recall**:\n",
    "   - **Hit and Run** has the highest recall (0.4765), meaning the model identifies about 48% of the actual occurrences of this offense. This is better than the precision, which indicates it is missing many true positives but is still able to identify a fair number of cases.\n",
    "   - **Larceny - All Other** and **Suspicious Activity** have the lowest recall values (0.1453 and 0.2169, respectively), indicating that the model is failing to identify most of the actual cases for these offenses.\n",
    "\n",
    "- **F1-Score**:\n",
    "   - The **F1-Score** balances precision and recall. It is highest for **Hit and Run** (0.3654), but still relatively low overall. This suggests the model is better at identifying **Hit and Run** than other offenses but still has room for improvement.\n",
    "   - **Larceny - All Other** has the lowest F1-Score (0.1772), indicating a poor balance between precision and recall for this offense.\n",
    "\n",
    "#### 4. **Macro Average and Weighted Average:**\n",
    "   - **Macro Average**: This gives the average precision, recall, and F1-Score across all classes (offenses) without considering the class distribution. It averages the results for all offenses equally.\n",
    "     - Precision: 0.2814\n",
    "     - Recall: 0.2661\n",
    "     - F1-Score: 0.2649\n",
    "   - **Weighted Average**: This averages the metrics but weighs each class by its support (the number of true instances in the test set). This gives a better sense of overall performance, considering the class distribution.\n",
    "     - Precision: 0.2799\n",
    "     - Recall: 0.2822\n",
    "     - F1-Score: 0.2720\n",
    "\n",
    "#### 5. **Confusion Matrix (Visualization Analysis)**:\n",
    "   - The confusion matrix shows the distribution of true positive, false positive, true negative, and false negative predictions for each class.\n",
    "     - For **Hit and Run**, the model performs relatively well in identifying this offense (304 true positives). However, it also misclassifies some **Hit and Run** instances as other offenses (e.g., **Assault Simple**, **Suspicious Activity**, etc.).\n",
    "     - **Larceny - All Other** is frequently misclassified as **Hit and Run**, **Suspicious Activity**, and others. This is evident from the large number of off-diagonal elements in its row.\n",
    "     - **Assist Citizen - Mental/TDO/ECO** and **Suspicious Activity** are frequently misclassified, as seen by the off-diagonal values in their rows.\n",
    "\n",
    "### Conclusion:\n",
    "The Random Forest model has low accuracy (28.22%), suggesting that it struggles to predict most offenses accurately. Some offenses like **Hit and Run** are better predicted than others, but overall, the model shows a high level of misclassification across all offenses. There may be a need for further tuning of the model, additional feature engineering, or trying different models for better performance.\n",
    "\n",
    "Let me know if you'd like to improve the model or make adjustments based on these results!\n",
    "\n"
   ]
  },
  {
   "cell_type": "markdown",
   "id": "f574342a",
   "metadata": {
    "papermill": {
     "duration": 0.010747,
     "end_time": "2025-05-08T01:04:11.278146",
     "exception": false,
     "start_time": "2025-05-08T01:04:11.267399",
     "status": "completed"
    },
    "tags": []
   },
   "source": [
    "### Model Explanation\n",
    "\n",
    "Once we’ve chosen the best model, we will explain its predictions by examining feature importance for tree-based models and using statistical methods like logistic regression coefficients for linear models."
   ]
  },
  {
   "cell_type": "markdown",
   "id": "65594572",
   "metadata": {
    "papermill": {
     "duration": 0.010717,
     "end_time": "2025-05-08T01:04:11.299583",
     "exception": false,
     "start_time": "2025-05-08T01:04:11.288866",
     "status": "completed"
    },
    "tags": []
   },
   "source": [
    "#### Feature Importance for Random Forest / Decision Tree\n",
    "\n",
    "##### For Tree-based Models (Random Forest, Decision Tree)\n",
    "\n",
    "For Random Forest or Decision Tree, we can look at feature importance to understand which variables contribute the most to the model's predictions. Here's how you can visualize and interpret the importance of each feature:"
   ]
  },
  {
   "cell_type": "code",
   "execution_count": 23,
   "id": "a1bbfcbf",
   "metadata": {
    "execution": {
     "iopub.execute_input": "2025-05-08T01:04:11.322624Z",
     "iopub.status.busy": "2025-05-08T01:04:11.322050Z",
     "iopub.status.idle": "2025-05-08T01:04:11.490442Z",
     "shell.execute_reply": "2025-05-08T01:04:11.489733Z"
    },
    "papermill": {
     "duration": 0.181158,
     "end_time": "2025-05-08T01:04:11.491481",
     "exception": false,
     "start_time": "2025-05-08T01:04:11.310323",
     "status": "completed"
    },
    "tags": []
   },
   "outputs": [
    {
     "data": {
      "image/png": "[encoded data removed]",
      "text/plain": [
       "<Figure size 1000x600 with 1 Axes>"
      ]
     },
     "metadata": {},
     "output_type": "display_data"
    }
   ],
   "source": [
    "# For RandomForest or DecisionTree models, we can check feature importance\n",
    "if isinstance(best_model, RandomForestClassifier) or isinstance(best_model, DecisionTreeClassifier):\n",
    "    feature_importance = best_model.feature_importances_\n",
    "    feature_names = X.columns\n",
    "    importance_df = pd.DataFrame({'Feature': feature_names, 'Importance': feature_importance})\n",
    "    importance_df = importance_df.sort_values(by='Importance', ascending=False)\n",
    "    \n",
    "    # Plotting the feature importances\n",
    "    plt.figure(figsize=(10, 6))\n",
    "    sns.barplot(x='Importance', y='Feature', data=importance_df)\n",
    "    plt.title(\"Feature Importance\")\n",
    "    plt.show()\n"
   ]
  },
  {
   "cell_type": "code",
   "execution_count": null,
   "id": "a8a7d60f",
   "metadata": {
    "papermill": {
     "duration": 0.011154,
     "end_time": "2025-05-08T01:04:11.514354",
     "exception": false,
     "start_time": "2025-05-08T01:04:11.503200",
     "status": "completed"
    },
    "tags": []
   },
   "outputs": [],
   "source": []
  },
  {
   "cell_type": "markdown",
   "id": "cb54ffee",
   "metadata": {
    "papermill": {
     "duration": 0.011144,
     "end_time": "2025-05-08T01:04:11.536635",
     "exception": false,
     "start_time": "2025-05-08T01:04:11.525491",
     "status": "completed"
    },
    "tags": []
   },
   "source": [
    "### Evaluation\n",
    "\n",
    "After training the models and examining their performance, we evaluate the chosen model based on metrics like accuracy, precision, recall, and F1 score.\n",
    "\n"
   ]
  },
  {
   "cell_type": "code",
   "execution_count": 24,
   "id": "563d8e97",
   "metadata": {
    "execution": {
     "iopub.execute_input": "2025-05-08T01:04:11.560439Z",
     "iopub.status.busy": "2025-05-08T01:04:11.559923Z",
     "iopub.status.idle": "2025-05-08T01:04:11.653195Z",
     "shell.execute_reply": "2025-05-08T01:04:11.652479Z"
    },
    "papermill": {
     "duration": 0.106513,
     "end_time": "2025-05-08T01:04:11.654323",
     "exception": false,
     "start_time": "2025-05-08T01:04:11.547810",
     "status": "completed"
    },
    "tags": []
   },
   "outputs": [
    {
     "name": "stdout",
     "output_type": "stream",
     "text": [
      "Accuracy: 0.2766\n",
      "Classification Report:\n",
      "              precision    recall  f1-score   support\n",
      "\n",
      "           0       0.28      0.31      0.29       598\n",
      "           1       0.29      0.26      0.27       402\n",
      "           2       0.32      0.49      0.39       661\n",
      "           3       0.21      0.16      0.18       455\n",
      "           4       0.28      0.18      0.22       347\n",
      "           5       0.22      0.19      0.20       520\n",
      "           6       0.28      0.23      0.25       495\n",
      "\n",
      "    accuracy                           0.28      3478\n",
      "   macro avg       0.27      0.26      0.26      3478\n",
      "weighted avg       0.27      0.28      0.27      3478\n",
      "\n",
      "Confusion Matrix:\n",
      "[[185  70 147  49  23  80  44]\n",
      " [ 82 103  94  27  28  43  25]\n",
      " [103  49 323  52  26  56  52]\n",
      " [ 66  31 134  74  31  64  55]\n",
      " [ 52  25  72  44  64  36  54]\n",
      " [102  40 128  55  30  98  67]\n",
      " [ 82  43 107  56  29  63 115]]\n",
      "Precision: 0.2692\n",
      "Recall: 0.2766\n",
      "F1 Score: 0.2675\n"
     ]
    }
   ],
   "source": [
    "from sklearn.metrics import classification_report, confusion_matrix, accuracy_score, precision_score, recall_score, f1_score\n",
    "\n",
    "# Predict on the test set\n",
    "y_pred = best_model.predict(X_test)\n",
    "\n",
    "# Calculate Accuracy\n",
    "accuracy = accuracy_score(y_test, y_pred)\n",
    "print(f\"Accuracy: {accuracy:.4f}\")\n",
    "\n",
    "# Classification Report\n",
    "print(\"Classification Report:\")\n",
    "print(classification_report(y_test, y_pred))\n",
    "\n",
    "# Confusion Matrix\n",
    "conf_matrix = confusion_matrix(y_test, y_pred)\n",
    "print(\"Confusion Matrix:\")\n",
    "print(conf_matrix)\n",
    "\n",
    "# Precision, Recall, F1 Score for each class (Offense Type)\n",
    "precision = precision_score(y_test, y_pred, average='weighted')\n",
    "recall = recall_score(y_test, y_pred, average='weighted')\n",
    "f1 = f1_score(y_test, y_pred, average='weighted')\n",
    "\n",
    "print(f\"Precision: {precision:.4f}\")\n",
    "print(f\"Recall: {recall:.4f}\")\n",
    "print(f\"F1 Score: {f1:.4f}\")\n"
   ]
  },
  {
   "cell_type": "markdown",
   "id": "f2bf2edb",
   "metadata": {
    "papermill": {
     "duration": 0.011306,
     "end_time": "2025-05-08T01:04:11.677436",
     "exception": false,
     "start_time": "2025-05-08T01:04:11.666130",
     "status": "completed"
    },
    "tags": []
   },
   "source": [
    "#### For Logistic Regression (Coefficient Interpretation)\n",
    "\n",
    "For Logistic Regression, the model coefficients can help us understand how each feature affects the likelihood of an offense happening. A positive coefficient indicates a feature increases the likelihood of the offense, and a negative coefficient indicates the opposite."
   ]
  },
  {
   "cell_type": "code",
   "execution_count": 25,
   "id": "f6de08ee",
   "metadata": {
    "execution": {
     "iopub.execute_input": "2025-05-08T01:04:11.701286Z",
     "iopub.status.busy": "2025-05-08T01:04:11.700764Z",
     "iopub.status.idle": "2025-05-08T01:04:11.705806Z",
     "shell.execute_reply": "2025-05-08T01:04:11.705262Z"
    },
    "papermill": {
     "duration": 0.018171,
     "end_time": "2025-05-08T01:04:11.706856",
     "exception": false,
     "start_time": "2025-05-08T01:04:11.688685",
     "status": "completed"
    },
    "tags": []
   },
   "outputs": [],
   "source": [
    "if isinstance(best_model, LogisticRegression):\n",
    "    # Logistic regression coefficients\n",
    "    coef_df = pd.DataFrame({\n",
    "        'Feature': X.columns,\n",
    "        'Coefficient': best_model.coef_[0]\n",
    "    })\n",
    "    coef_df['AbsCoefficient'] = coef_df['Coefficient'].abs()\n",
    "    coef_df = coef_df.sort_values(by='AbsCoefficient', ascending=False)\n",
    "    \n",
    "    # Plotting the coefficients\n",
    "    plt.figure(figsize=(10, 6))\n",
    "    sns.barplot(x='AbsCoefficient', y='Feature', data=coef_df)\n",
    "    plt.title(\"Logistic Regression Coefficients Impact\")\n",
    "    plt.show()\n",
    "\n",
    "    # Print the top 5 most impactful features (by absolute coefficient value)\n",
    "    print(\"Top 5 most impactful features based on coefficients:\")\n",
    "    print(coef_df.head())\n"
   ]
  },
  {
   "cell_type": "markdown",
   "id": "d72e9e26",
   "metadata": {
    "papermill": {
     "duration": 0.01106,
     "end_time": "2025-05-08T01:04:11.729147",
     "exception": false,
     "start_time": "2025-05-08T01:04:11.718087",
     "status": "completed"
    },
    "tags": []
   },
   "source": [
    "Explanation of Output:\n",
    "\n",
    "Feature Importance (Random Forest/Decision Tree): The bar plot will show how important each feature is in the decision-making process. Features at the top of the list are the most influential in predicting the occurrence of offenses.\n",
    "\n",
    "Logistic Regression Coefficients: The bar plot will show the magnitude of the coefficients for each feature. Features with larger absolute values (either positive or negative) have a stronger impact on the model’s predictions. Positive coefficients increase the probability of an offense, while negative coefficients decrease it."
   ]
  },
  {
   "cell_type": "markdown",
   "id": "604906a0",
   "metadata": {
    "papermill": {
     "duration": 0.011067,
     "end_time": "2025-05-08T01:04:11.751397",
     "exception": false,
     "start_time": "2025-05-08T01:04:11.740330",
     "status": "completed"
    },
    "tags": []
   },
   "source": []
  }
 ],
 "metadata": {
  "kernelspec": {
   "display_name": "Python 3",
   "language": "python",
   "name": "python3"
  },
  "language_info": {
   "codemirror_mode": {
    "name": "ipython",
    "version": 3
   },
   "file_extension": ".py",
   "mimetype": "text/x-python",
   "name": "python",
   "nbconvert_exporter": "python",
   "pygments_lexer": "ipython3",
   "version": "3.9.22"
  },
  "papermill": {
   "default_parameters": {},
   "duration": 80.863179,
   "end_time": "2025-05-08T01:04:12.279273",
   "environment_variables": {},
   "exception": null,
   "input_path": "notebook/Crime Data.ipynb",
   "output_path": "notebook/Crime Data_output.ipynb",
   "parameters": {},
   "start_time": "2025-05-08T01:02:51.416094",
   "version": "2.6.0"
  }
 },
 "nbformat": 4,
 "nbformat_minor": 5
}