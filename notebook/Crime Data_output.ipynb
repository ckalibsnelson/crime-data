{
 "cells": [
  {
   "cell_type": "markdown",
   "id": "773c1f16",
   "metadata": {
    "papermill": {
     "duration": 0.005324,
     "end_time": "2025-08-09T01:04:44.575942",
     "exception": false,
     "start_time": "2025-08-09T01:04:44.570618",
     "status": "completed"
    },
    "tags": []
   },
   "source": [
    "# Charlottesville Open Data Porttal: Crime Data"
   ]
  },
  {
   "cell_type": "markdown",
   "id": "b27729ab",
   "metadata": {
    "papermill": {
     "duration": 0.004658,
     "end_time": "2025-08-09T01:04:44.584377",
     "exception": false,
     "start_time": "2025-08-09T01:04:44.579719",
     "status": "completed"
    },
    "tags": []
   },
   "source": [
    "## Import Relevant Librarires & Set WD"
   ]
  },
  {
   "cell_type": "code",
   "execution_count": 1,
   "id": "8cef4da7",
   "metadata": {
    "execution": {
     "iopub.execute_input": "2025-08-09T01:04:44.592222Z",
     "iopub.status.busy": "2025-08-09T01:04:44.591944Z",
     "iopub.status.idle": "2025-08-09T01:04:45.322371Z",
     "shell.execute_reply": "2025-08-09T01:04:45.321770Z"
    },
    "papermill": {
     "duration": 0.736091,
     "end_time": "2025-08-09T01:04:45.323846",
     "exception": false,
     "start_time": "2025-08-09T01:04:44.587755",
     "status": "completed"
    },
    "tags": []
   },
   "outputs": [],
   "source": [
    "import requests\n",
    "import pandas as pd\n",
    "import numpy as np\n",
    "import pickle\n",
    "import googlemaps\n",
    "import plotly.express as px\n",
    "from geopy.geocoders import Nominatim\n",
    "import time\n",
    "from dotenv import load_dotenv\n",
    "import os\n",
    "\n",
    "env_path = os.path.join(\"..\", \".env\")\n",
    "#print(\"Looking for .env file at:\", os.path.abspath(env_path))\n",
    "load_dotenv(dotenv_path=env_path)\n",
    "\n",
    "# Retrieve the variables\n",
    "GOOGLE_API_KEY = os.getenv(\"GOOGLE_API_KEY\")\n",
    "WORKING_DIR = os.getenv(\"WORKING_DIR\")\n",
    "\n",
    "if GOOGLE_API_KEY is None or WORKING_DIR is None:\n",
    "    raise RuntimeError(\"No configuration found. Please ensure that your .env file exists with the required variables, or create a local config.py file.\")\n",
    "\n",
    "#print(\"Google API Key:\", GOOGLE_API_KEY)\n",
    "#print(\"Working Directory:\", WORKING_DIR)"
   ]
  },
  {
   "cell_type": "markdown",
   "id": "2e702044",
   "metadata": {
    "papermill": {
     "duration": 0.004107,
     "end_time": "2025-08-09T01:04:45.333029",
     "exception": false,
     "start_time": "2025-08-09T01:04:45.328922",
     "status": "completed"
    },
    "tags": []
   },
   "source": [
    "## Import Data\n",
    "\n",
    "URL: https://opendata.charlottesville.org/datasets/charlottesville::crime-data/about"
   ]
  },
  {
   "cell_type": "code",
   "execution_count": 2,
   "id": "d23714bb",
   "metadata": {
    "execution": {
     "iopub.execute_input": "2025-08-09T01:04:45.343241Z",
     "iopub.status.busy": "2025-08-09T01:04:45.342786Z",
     "iopub.status.idle": "2025-08-09T01:05:56.400057Z",
     "shell.execute_reply": "2025-08-09T01:05:56.399288Z"
    },
    "papermill": {
     "duration": 71.066796,
     "end_time": "2025-08-09T01:05:56.404502",
     "exception": false,
     "start_time": "2025-08-09T01:04:45.337706",
     "status": "completed"
    },
    "tags": []
   },
   "outputs": [
    {
     "name": "stdout",
     "output_type": "stream",
     "text": [
      "Total records imported: 25640\n"
     ]
    }
   ],
   "source": [
    "# Define the endpoint and initial parameters.\n",
    "url = \"https://gisweb.charlottesville.org/arcgis/rest/services/OpenData_2/MapServer/6/query\"\n",
    "params = {\n",
    "    \"where\": \"1=1\",\n",
    "    \"outFields\": \"*\",\n",
    "    \"outSR\": 4326,\n",
    "    \"f\": \"json\",\n",
    "    \"resultOffset\": 0,       # Starting index for results\n",
    "    \"resultRecordCount\": 10000  # Maximum records per batch (if allowed by the API)\n",
    "}\n",
    "\n",
    "records = []\n",
    "\n",
    "while True:\n",
    "    response = requests.get(url, params=params)\n",
    "    response.raise_for_status()\n",
    "    data = response.json()\n",
    "    \n",
    "    # Get the current batch of features.\n",
    "    features = data.get(\"features\", [])\n",
    "    if not features:\n",
    "        break\n",
    "\n",
    "    # Extract the attributes from the features.\n",
    "    batch_records = [feature.get(\"attributes\", {}) for feature in features]\n",
    "    records.extend(batch_records)\n",
    "    \n",
    "    # If the batch size is less than the requested count, we reached the end.\n",
    "    if len(features) < params[\"resultRecordCount\"]:\n",
    "        break\n",
    "\n",
    "    # Update the resultOffset for the next batch.\n",
    "    params[\"resultOffset\"] += params[\"resultRecordCount\"]\n",
    "\n",
    "# Create a DataFrame from the combined records.\n",
    "df = pd.DataFrame(records)\n",
    "print(\"Total records imported:\", len(df))\n"
   ]
  },
  {
   "cell_type": "code",
   "execution_count": 3,
   "id": "d285cbb5",
   "metadata": {
    "execution": {
     "iopub.execute_input": "2025-08-09T01:05:56.412387Z",
     "iopub.status.busy": "2025-08-09T01:05:56.412129Z",
     "iopub.status.idle": "2025-08-09T01:05:56.424530Z",
     "shell.execute_reply": "2025-08-09T01:05:56.423841Z"
    },
    "papermill": {
     "duration": 0.017457,
     "end_time": "2025-08-09T01:05:56.425481",
     "exception": false,
     "start_time": "2025-08-09T01:05:56.408024",
     "status": "completed"
    },
    "tags": []
   },
   "outputs": [
    {
     "data": {
      "text/html": [
       "<div>\n",
       "<style scoped>\n",
       "    .dataframe tbody tr th:only-of-type {\n",
       "        vertical-align: middle;\n",
       "    }\n",
       "\n",
       "    .dataframe tbody tr th {\n",
       "        vertical-align: top;\n",
       "    }\n",
       "\n",
       "    .dataframe thead th {\n",
       "        text-align: right;\n",
       "    }\n",
       "</style>\n",
       "<table border=\"1\" class=\"dataframe\">\n",
       "  <thead>\n",
       "    <tr style=\"text-align: right;\">\n",
       "      <th></th>\n",
       "      <th>RecordID</th>\n",
       "      <th>Offense</th>\n",
       "      <th>IncidentID</th>\n",
       "      <th>BlockNumber</th>\n",
       "      <th>StreetName</th>\n",
       "      <th>Agency</th>\n",
       "      <th>DateReported</th>\n",
       "      <th>HourReported</th>\n",
       "      <th>ReportingOfficer</th>\n",
       "    </tr>\n",
       "  </thead>\n",
       "  <tbody>\n",
       "    <tr>\n",
       "      <th>0</th>\n",
       "      <td>1</td>\n",
       "      <td>Suspicious Activity</td>\n",
       "      <td>202500027781</td>\n",
       "      <td>400</td>\n",
       "      <td>E MAIN ST</td>\n",
       "      <td>CPD</td>\n",
       "      <td>1754529923000</td>\n",
       "      <td>2125</td>\n",
       "      <td>Huber, Christopher</td>\n",
       "    </tr>\n",
       "    <tr>\n",
       "      <th>1</th>\n",
       "      <td>2</td>\n",
       "      <td>Drug Investigation</td>\n",
       "      <td>202500027777</td>\n",
       "      <td>200</td>\n",
       "      <td>RIDGE MCINTIRE RD</td>\n",
       "      <td>CPD</td>\n",
       "      <td>1754526475000</td>\n",
       "      <td>2027</td>\n",
       "      <td>Urban, Jacob</td>\n",
       "    </tr>\n",
       "    <tr>\n",
       "      <th>2</th>\n",
       "      <td>3</td>\n",
       "      <td>Larceny - All Other</td>\n",
       "      <td>202500027763</td>\n",
       "      <td>300</td>\n",
       "      <td>11TH ST NW</td>\n",
       "      <td>CPD</td>\n",
       "      <td>1754520916000</td>\n",
       "      <td>1855</td>\n",
       "      <td>Bentz, Benjamin</td>\n",
       "    </tr>\n",
       "    <tr>\n",
       "      <th>3</th>\n",
       "      <td>4</td>\n",
       "      <td>Assist Citizen - Mental/TDO/ECO</td>\n",
       "      <td>202500027757</td>\n",
       "      <td>800</td>\n",
       "      <td>ST CLAIR AVE</td>\n",
       "      <td>CPD</td>\n",
       "      <td>1754516575000</td>\n",
       "      <td>1742</td>\n",
       "      <td>Urban, Jacob</td>\n",
       "    </tr>\n",
       "    <tr>\n",
       "      <th>4</th>\n",
       "      <td>5</td>\n",
       "      <td>Hit and Run</td>\n",
       "      <td>202500027753</td>\n",
       "      <td>700</td>\n",
       "      <td>E MARKET ST, A</td>\n",
       "      <td>CPD</td>\n",
       "      <td>1754515431000</td>\n",
       "      <td>1723</td>\n",
       "      <td>Ritter, Kobe</td>\n",
       "    </tr>\n",
       "  </tbody>\n",
       "</table>\n",
       "</div>"
      ],
      "text/plain": [
       "   RecordID                          Offense    IncidentID BlockNumber  \\\n",
       "0         1              Suspicious Activity  202500027781         400   \n",
       "1         2               Drug Investigation  202500027777         200   \n",
       "2         3              Larceny - All Other  202500027763         300   \n",
       "3         4  Assist Citizen - Mental/TDO/ECO  202500027757         800   \n",
       "4         5                      Hit and Run  202500027753         700   \n",
       "\n",
       "          StreetName Agency   DateReported HourReported    ReportingOfficer  \n",
       "0          E MAIN ST    CPD  1754529923000         2125  Huber, Christopher  \n",
       "1  RIDGE MCINTIRE RD    CPD  1754526475000         2027        Urban, Jacob  \n",
       "2         11TH ST NW    CPD  1754520916000         1855    Bentz, Benjamin   \n",
       "3       ST CLAIR AVE    CPD  1754516575000         1742        Urban, Jacob  \n",
       "4     E MARKET ST, A    CPD  1754515431000         1723        Ritter, Kobe  "
      ]
     },
     "execution_count": 3,
     "metadata": {},
     "output_type": "execute_result"
    }
   ],
   "source": [
    "df.head()"
   ]
  },
  {
   "cell_type": "code",
   "execution_count": 4,
   "id": "6d8413e9",
   "metadata": {
    "execution": {
     "iopub.execute_input": "2025-08-09T01:05:56.433378Z",
     "iopub.status.busy": "2025-08-09T01:05:56.433156Z",
     "iopub.status.idle": "2025-08-09T01:05:56.437809Z",
     "shell.execute_reply": "2025-08-09T01:05:56.437159Z"
    },
    "papermill": {
     "duration": 0.009785,
     "end_time": "2025-08-09T01:05:56.438873",
     "exception": false,
     "start_time": "2025-08-09T01:05:56.429088",
     "status": "completed"
    },
    "tags": []
   },
   "outputs": [
    {
     "data": {
      "text/plain": [
       "Index(['RecordID', 'Offense', 'IncidentID', 'BlockNumber', 'StreetName',\n",
       "       'Agency', 'DateReported', 'HourReported', 'ReportingOfficer'],\n",
       "      dtype='object')"
      ]
     },
     "execution_count": 4,
     "metadata": {},
     "output_type": "execute_result"
    }
   ],
   "source": [
    "df.columns"
   ]
  },
  {
   "cell_type": "code",
   "execution_count": 5,
   "id": "40441cbf",
   "metadata": {
    "execution": {
     "iopub.execute_input": "2025-08-09T01:05:56.446876Z",
     "iopub.status.busy": "2025-08-09T01:05:56.446661Z",
     "iopub.status.idle": "2025-08-09T01:05:56.470685Z",
     "shell.execute_reply": "2025-08-09T01:05:56.470112Z"
    },
    "papermill": {
     "duration": 0.02921,
     "end_time": "2025-08-09T01:05:56.471776",
     "exception": false,
     "start_time": "2025-08-09T01:05:56.442566",
     "status": "completed"
    },
    "tags": []
   },
   "outputs": [
    {
     "name": "stdout",
     "output_type": "stream",
     "text": [
      "<class 'pandas.core.frame.DataFrame'>\n",
      "RangeIndex: 25640 entries, 0 to 25639\n",
      "Data columns (total 9 columns):\n",
      " #   Column            Non-Null Count  Dtype \n",
      "---  ------            --------------  ----- \n",
      " 0   RecordID          25640 non-null  int64 \n",
      " 1   Offense           25640 non-null  object\n",
      " 2   IncidentID        25640 non-null  object\n",
      " 3   BlockNumber       25640 non-null  object\n",
      " 4   StreetName        25640 non-null  object\n",
      " 5   Agency            25640 non-null  object\n",
      " 6   DateReported      25640 non-null  int64 \n",
      " 7   HourReported      25640 non-null  object\n",
      " 8   ReportingOfficer  25625 non-null  object\n",
      "dtypes: int64(2), object(7)\n",
      "memory usage: 1.8+ MB\n"
     ]
    }
   ],
   "source": [
    "df.info()"
   ]
  },
  {
   "cell_type": "markdown",
   "id": "b8c94dc4",
   "metadata": {
    "papermill": {
     "duration": 0.003732,
     "end_time": "2025-08-09T01:05:56.479498",
     "exception": false,
     "start_time": "2025-08-09T01:05:56.475766",
     "status": "completed"
    },
    "tags": []
   },
   "source": [
    "### Missing Values"
   ]
  },
  {
   "cell_type": "code",
   "execution_count": 6,
   "id": "03c8cd8d",
   "metadata": {
    "execution": {
     "iopub.execute_input": "2025-08-09T01:05:56.487671Z",
     "iopub.status.busy": "2025-08-09T01:05:56.487472Z",
     "iopub.status.idle": "2025-08-09T01:05:56.512223Z",
     "shell.execute_reply": "2025-08-09T01:05:56.511626Z"
    },
    "papermill": {
     "duration": 0.030137,
     "end_time": "2025-08-09T01:05:56.513331",
     "exception": false,
     "start_time": "2025-08-09T01:05:56.483194",
     "status": "completed"
    },
    "tags": []
   },
   "outputs": [
    {
     "name": "stdout",
     "output_type": "stream",
     "text": [
      "                  MissingCount  MissingPercentage\n",
      "RecordID                     0               0.00\n",
      "Offense                      0               0.00\n",
      "IncidentID                   0               0.00\n",
      "BlockNumber                  0               0.00\n",
      "StreetName                   0               0.00\n",
      "Agency                       0               0.00\n",
      "DateReported                 0               0.00\n",
      "HourReported                 0               0.00\n",
      "ReportingOfficer            15               0.06\n"
     ]
    }
   ],
   "source": [
    "def missing_percentage(df):\n",
    "    \"\"\"\n",
    "    Returns a DataFrame with the count and percentage of missing values for each column.\n",
    "    \n",
    "    Parameters:\n",
    "        df (pd.DataFrame): The input DataFrame.\n",
    "    \n",
    "    Returns:\n",
    "        pd.DataFrame: A DataFrame with columns 'MissingCount' and 'MissingPercentage'.\n",
    "    \"\"\"\n",
    "    total_rows = len(df)\n",
    "    missing_count = df.isnull().sum()\n",
    "    missing_percent = (missing_count / total_rows) * 100\n",
    "    \n",
    "    result = pd.DataFrame({\n",
    "        'MissingCount': missing_count,\n",
    "        'MissingPercentage': missing_percent.round(2)\n",
    "    })\n",
    "    \n",
    "    return result\n",
    "\n",
    "# Example usage:\n",
    "missing_info = missing_percentage(df)\n",
    "print(missing_info)\n"
   ]
  },
  {
   "cell_type": "markdown",
   "id": "69af0bc6",
   "metadata": {
    "papermill": {
     "duration": 0.003816,
     "end_time": "2025-08-09T01:05:56.521392",
     "exception": false,
     "start_time": "2025-08-09T01:05:56.517576",
     "status": "completed"
    },
    "tags": []
   },
   "source": [
    "## Data Preparation"
   ]
  },
  {
   "cell_type": "markdown",
   "id": "cbc06b36",
   "metadata": {
    "papermill": {
     "duration": 0.003739,
     "end_time": "2025-08-09T01:05:56.528951",
     "exception": false,
     "start_time": "2025-08-09T01:05:56.525212",
     "status": "completed"
    },
    "tags": []
   },
   "source": [
    "### Data Conversion"
   ]
  },
  {
   "cell_type": "code",
   "execution_count": 7,
   "id": "d748fc72",
   "metadata": {
    "execution": {
     "iopub.execute_input": "2025-08-09T01:05:56.537413Z",
     "iopub.status.busy": "2025-08-09T01:05:56.537192Z",
     "iopub.status.idle": "2025-08-09T01:05:56.903381Z",
     "shell.execute_reply": "2025-08-09T01:05:56.902626Z"
    },
    "papermill": {
     "duration": 0.37172,
     "end_time": "2025-08-09T01:05:56.904529",
     "exception": false,
     "start_time": "2025-08-09T01:05:56.532809",
     "status": "completed"
    },
    "tags": []
   },
   "outputs": [
    {
     "data": {
      "text/html": [
       "<div>\n",
       "<style scoped>\n",
       "    .dataframe tbody tr th:only-of-type {\n",
       "        vertical-align: middle;\n",
       "    }\n",
       "\n",
       "    .dataframe tbody tr th {\n",
       "        vertical-align: top;\n",
       "    }\n",
       "\n",
       "    .dataframe thead th {\n",
       "        text-align: right;\n",
       "    }\n",
       "</style>\n",
       "<table border=\"1\" class=\"dataframe\">\n",
       "  <thead>\n",
       "    <tr style=\"text-align: right;\">\n",
       "      <th></th>\n",
       "      <th>RecordID</th>\n",
       "      <th>Offense</th>\n",
       "      <th>IncidentID</th>\n",
       "      <th>BlockNumber</th>\n",
       "      <th>StreetName</th>\n",
       "      <th>Agency</th>\n",
       "      <th>HourReported</th>\n",
       "      <th>ReportingOfficer</th>\n",
       "      <th>Date</th>\n",
       "      <th>DateString</th>\n",
       "      <th>DayOfWeek</th>\n",
       "      <th>Weekend</th>\n",
       "      <th>Season</th>\n",
       "      <th>HourAMPM</th>\n",
       "      <th>TimeOfDay</th>\n",
       "    </tr>\n",
       "  </thead>\n",
       "  <tbody>\n",
       "    <tr>\n",
       "      <th>0</th>\n",
       "      <td>1</td>\n",
       "      <td>Suspicious Activity</td>\n",
       "      <td>202500027781</td>\n",
       "      <td>400</td>\n",
       "      <td>E MAIN ST</td>\n",
       "      <td>CPD</td>\n",
       "      <td>2125</td>\n",
       "      <td>Huber, Christopher</td>\n",
       "      <td>2025-08-06 21:25:23</td>\n",
       "      <td>2025-08-06 09:25:23 PM</td>\n",
       "      <td>Wednesday</td>\n",
       "      <td>False</td>\n",
       "      <td>Summer</td>\n",
       "      <td>09:25 PM</td>\n",
       "      <td>Night</td>\n",
       "    </tr>\n",
       "    <tr>\n",
       "      <th>1</th>\n",
       "      <td>2</td>\n",
       "      <td>Drug Investigation</td>\n",
       "      <td>202500027777</td>\n",
       "      <td>200</td>\n",
       "      <td>RIDGE MCINTIRE RD</td>\n",
       "      <td>CPD</td>\n",
       "      <td>2027</td>\n",
       "      <td>Urban, Jacob</td>\n",
       "      <td>2025-08-06 20:27:55</td>\n",
       "      <td>2025-08-06 08:27:55 PM</td>\n",
       "      <td>Wednesday</td>\n",
       "      <td>False</td>\n",
       "      <td>Summer</td>\n",
       "      <td>08:27 PM</td>\n",
       "      <td>Evening</td>\n",
       "    </tr>\n",
       "    <tr>\n",
       "      <th>2</th>\n",
       "      <td>3</td>\n",
       "      <td>Larceny - All Other</td>\n",
       "      <td>202500027763</td>\n",
       "      <td>300</td>\n",
       "      <td>11TH ST NW</td>\n",
       "      <td>CPD</td>\n",
       "      <td>1855</td>\n",
       "      <td>Bentz, Benjamin</td>\n",
       "      <td>2025-08-06 18:55:16</td>\n",
       "      <td>2025-08-06 06:55:16 PM</td>\n",
       "      <td>Wednesday</td>\n",
       "      <td>False</td>\n",
       "      <td>Summer</td>\n",
       "      <td>06:55 PM</td>\n",
       "      <td>Evening</td>\n",
       "    </tr>\n",
       "    <tr>\n",
       "      <th>3</th>\n",
       "      <td>4</td>\n",
       "      <td>Assist Citizen - Mental/TDO/ECO</td>\n",
       "      <td>202500027757</td>\n",
       "      <td>800</td>\n",
       "      <td>ST CLAIR AVE</td>\n",
       "      <td>CPD</td>\n",
       "      <td>1742</td>\n",
       "      <td>Urban, Jacob</td>\n",
       "      <td>2025-08-06 17:42:55</td>\n",
       "      <td>2025-08-06 05:42:55 PM</td>\n",
       "      <td>Wednesday</td>\n",
       "      <td>False</td>\n",
       "      <td>Summer</td>\n",
       "      <td>05:42 PM</td>\n",
       "      <td>Evening</td>\n",
       "    </tr>\n",
       "    <tr>\n",
       "      <th>4</th>\n",
       "      <td>5</td>\n",
       "      <td>Hit and Run</td>\n",
       "      <td>202500027753</td>\n",
       "      <td>700</td>\n",
       "      <td>E MARKET ST, A</td>\n",
       "      <td>CPD</td>\n",
       "      <td>1723</td>\n",
       "      <td>Ritter, Kobe</td>\n",
       "      <td>2025-08-06 17:23:51</td>\n",
       "      <td>2025-08-06 05:23:51 PM</td>\n",
       "      <td>Wednesday</td>\n",
       "      <td>False</td>\n",
       "      <td>Summer</td>\n",
       "      <td>05:23 PM</td>\n",
       "      <td>Evening</td>\n",
       "    </tr>\n",
       "  </tbody>\n",
       "</table>\n",
       "</div>"
      ],
      "text/plain": [
       "   RecordID                          Offense    IncidentID BlockNumber  \\\n",
       "0         1              Suspicious Activity  202500027781         400   \n",
       "1         2               Drug Investigation  202500027777         200   \n",
       "2         3              Larceny - All Other  202500027763         300   \n",
       "3         4  Assist Citizen - Mental/TDO/ECO  202500027757         800   \n",
       "4         5                      Hit and Run  202500027753         700   \n",
       "\n",
       "          StreetName Agency HourReported    ReportingOfficer  \\\n",
       "0          E MAIN ST    CPD         2125  Huber, Christopher   \n",
       "1  RIDGE MCINTIRE RD    CPD         2027        Urban, Jacob   \n",
       "2         11TH ST NW    CPD         1855    Bentz, Benjamin    \n",
       "3       ST CLAIR AVE    CPD         1742        Urban, Jacob   \n",
       "4     E MARKET ST, A    CPD         1723        Ritter, Kobe   \n",
       "\n",
       "                 Date              DateString  DayOfWeek  Weekend  Season  \\\n",
       "0 2025-08-06 21:25:23  2025-08-06 09:25:23 PM  Wednesday    False  Summer   \n",
       "1 2025-08-06 20:27:55  2025-08-06 08:27:55 PM  Wednesday    False  Summer   \n",
       "2 2025-08-06 18:55:16  2025-08-06 06:55:16 PM  Wednesday    False  Summer   \n",
       "3 2025-08-06 17:42:55  2025-08-06 05:42:55 PM  Wednesday    False  Summer   \n",
       "4 2025-08-06 17:23:51  2025-08-06 05:23:51 PM  Wednesday    False  Summer   \n",
       "\n",
       "   HourAMPM TimeOfDay  \n",
       "0  09:25 PM     Night  \n",
       "1  08:27 PM   Evening  \n",
       "2  06:55 PM   Evening  \n",
       "3  05:42 PM   Evening  \n",
       "4  05:23 PM   Evening  "
      ]
     },
     "execution_count": 7,
     "metadata": {},
     "output_type": "execute_result"
    }
   ],
   "source": [
    "def convert_and_categorize_datereported(df, col='DateReported'):\n",
    "    \"\"\"\n",
    "    Converts an epoch (in milliseconds) date column into a timezone-aware datetime,\n",
    "    converts it to Eastern Time, and then creates columns for day-of-week, weekend flag,\n",
    "    season, 12-hour formatted time, and time-of-day. Keeps both a real datetime column\n",
    "    (Date) and a string representation (DateString).\n",
    "    \"\"\"\n",
    "    import pandas as pd\n",
    "\n",
    "    # Convert the epoch timestamp to a pandas datetime object as UTC, then convert to US/Eastern.\n",
    "    df[\"DateReported_dt\"] = (\n",
    "        pd.to_datetime(df[col], unit=\"ms\", errors=\"coerce\", utc=True)\n",
    "        .dt.tz_convert(\"US/Eastern\")\n",
    "    )\n",
    "    \n",
    "    # Create a true datetime column (remove timezone if you prefer naive datetime)\n",
    "    df[\"Date\"] = df[\"DateReported_dt\"].dt.tz_localize(None)\n",
    "\n",
    "    # Optionally, create a separate string-formatted column\n",
    "    df[\"DateString\"] = df[\"DateReported_dt\"].dt.strftime(\"%Y-%m-%d %I:%M:%S %p\")\n",
    "    \n",
    "    # DayOfWeek\n",
    "    df[\"DayOfWeek\"] = df[\"DateReported_dt\"].dt.day_name()\n",
    "    \n",
    "    # Weekend\n",
    "    df[\"Weekend\"] = df[\"DayOfWeek\"].isin([\"Saturday\", \"Sunday\"])\n",
    "    \n",
    "    # Helper function to determine the season\n",
    "    def get_season(dt):\n",
    "        month = dt.month\n",
    "        day = dt.day\n",
    "        # Approximate Northern Hemisphere season boundaries:\n",
    "        if (month == 12 and day >= 21) or (month < 3) or (month == 3 and day < 20):\n",
    "            return \"Winter\"\n",
    "        elif (month == 3 and day >= 20) or (month < 6) or (month == 6 and day < 21):\n",
    "            return \"Spring\"\n",
    "        elif (month == 6 and day >= 21) or (month < 9) or (month == 9 and day < 22):\n",
    "            return \"Summer\"\n",
    "        else:\n",
    "            return \"Autumn\"\n",
    "    \n",
    "    df[\"Season\"] = df[\"DateReported_dt\"].apply(get_season)\n",
    "    \n",
    "    # 12-hour formatted time (HourAMPM)\n",
    "    df[\"HourAMPM\"] = df[\"DateReported_dt\"].dt.strftime(\"%I:%M %p\")\n",
    "    \n",
    "    # Extract hour (0-23) for time-of-day\n",
    "    df[\"HourValue\"] = df[\"DateReported_dt\"].dt.hour\n",
    "    \n",
    "    def time_of_day(hour):\n",
    "        if pd.isnull(hour):\n",
    "            return None\n",
    "        if 5 <= hour < 12:\n",
    "            return \"Morning\"\n",
    "        elif 12 <= hour < 17:\n",
    "            return \"Afternoon\"\n",
    "        elif 17 <= hour < 21:\n",
    "            return \"Evening\"\n",
    "        else:\n",
    "            return \"Night\"\n",
    "    \n",
    "    df[\"TimeOfDay\"] = df[\"HourValue\"].apply(time_of_day)\n",
    "    \n",
    "    # Drop columns you no longer need\n",
    "    df.drop(columns=[col, \"DateReported_dt\", \"HourValue\"], inplace=True)\n",
    "    \n",
    "    return df\n",
    "\n",
    "# Example usage:\n",
    "df = convert_and_categorize_datereported(df)\n",
    "df.head()\n"
   ]
  },
  {
   "cell_type": "code",
   "execution_count": 8,
   "id": "391ed442",
   "metadata": {
    "execution": {
     "iopub.execute_input": "2025-08-09T01:05:56.914269Z",
     "iopub.status.busy": "2025-08-09T01:05:56.914007Z",
     "iopub.status.idle": "2025-08-09T01:05:56.943554Z",
     "shell.execute_reply": "2025-08-09T01:05:56.942863Z"
    },
    "papermill": {
     "duration": 0.03564,
     "end_time": "2025-08-09T01:05:56.944822",
     "exception": false,
     "start_time": "2025-08-09T01:05:56.909182",
     "status": "completed"
    },
    "tags": []
   },
   "outputs": [
    {
     "name": "stdout",
     "output_type": "stream",
     "text": [
      "<class 'pandas.core.frame.DataFrame'>\n",
      "RangeIndex: 25640 entries, 0 to 25639\n",
      "Data columns (total 15 columns):\n",
      " #   Column            Non-Null Count  Dtype         \n",
      "---  ------            --------------  -----         \n",
      " 0   RecordID          25640 non-null  int64         \n",
      " 1   Offense           25640 non-null  object        \n",
      " 2   IncidentID        25640 non-null  object        \n",
      " 3   BlockNumber       25640 non-null  object        \n",
      " 4   StreetName        25640 non-null  object        \n",
      " 5   Agency            25640 non-null  object        \n",
      " 6   HourReported      25640 non-null  object        \n",
      " 7   ReportingOfficer  25625 non-null  object        \n",
      " 8   Date              25640 non-null  datetime64[ns]\n",
      " 9   DateString        25640 non-null  object        \n",
      " 10  DayOfWeek         25640 non-null  object        \n",
      " 11  Weekend           25640 non-null  bool          \n",
      " 12  Season            25640 non-null  object        \n",
      " 13  HourAMPM          25640 non-null  object        \n",
      " 14  TimeOfDay         25640 non-null  object        \n",
      "dtypes: bool(1), datetime64[ns](1), int64(1), object(12)\n",
      "memory usage: 2.8+ MB\n"
     ]
    }
   ],
   "source": [
    "df.info()"
   ]
  },
  {
   "cell_type": "markdown",
   "id": "e1b600c3",
   "metadata": {
    "papermill": {
     "duration": 0.004029,
     "end_time": "2025-08-09T01:05:56.953691",
     "exception": false,
     "start_time": "2025-08-09T01:05:56.949662",
     "status": "completed"
    },
    "tags": []
   },
   "source": [
    "### Coordinates"
   ]
  },
  {
   "cell_type": "code",
   "execution_count": 9,
   "id": "ccdf3774",
   "metadata": {
    "execution": {
     "iopub.execute_input": "2025-08-09T01:05:56.962786Z",
     "iopub.status.busy": "2025-08-09T01:05:56.962572Z",
     "iopub.status.idle": "2025-08-09T01:05:57.265056Z",
     "shell.execute_reply": "2025-08-09T01:05:57.264421Z"
    },
    "papermill": {
     "duration": 0.308263,
     "end_time": "2025-08-09T01:05:57.266096",
     "exception": false,
     "start_time": "2025-08-09T01:05:56.957833",
     "status": "completed"
    },
    "tags": []
   },
   "outputs": [
    {
     "name": "stdout",
     "output_type": "stream",
     "text": [
      "Loaded geocode cache.\n",
      "Error geocoding 700 E MARKET ST, A: REQUEST_DENIED (You must enable Billing on the Google Cloud Project at https://console.cloud.google.com/project/_/billing/enable Learn more at https://developers.google.com/maps/gmp-get-started)\n",
      "Geocoded 700 E MARKET ST, A: None, None\n",
      "Error geocoding 800 CABELL AVE, Apt A: REQUEST_DENIED (You must enable Billing on the Google Cloud Project at https://console.cloud.google.com/project/_/billing/enable Learn more at https://developers.google.com/maps/gmp-get-started)\n",
      "Geocoded 800 CABELL AVE, Apt A: None, None\n"
     ]
    },
    {
     "name": "stdout",
     "output_type": "stream",
     "text": [
      "Error geocoding 4000 CITY WALK WAY, 4409: REQUEST_DENIED (You must enable Billing on the Google Cloud Project at https://console.cloud.google.com/project/_/billing/enable Learn more at https://developers.google.com/maps/gmp-get-started)\n",
      "Geocoded 4000 CITY WALK WAY, 4409: None, None\n"
     ]
    },
    {
     "name": "stdout",
     "output_type": "stream",
     "text": [
      "Error geocoding 1300 RIVERDALE DR, Apt 7: REQUEST_DENIED (You must enable Billing on the Google Cloud Project at https://console.cloud.google.com/project/_/billing/enable Learn more at https://developers.google.com/maps/gmp-get-started)\n",
      "Geocoded 1300 RIVERDALE DR, Apt 7: None, None\n",
      "Geocode cache updated and saved.\n"
     ]
    },
    {
     "data": {
      "text/html": [
       "<div>\n",
       "<style scoped>\n",
       "    .dataframe tbody tr th:only-of-type {\n",
       "        vertical-align: middle;\n",
       "    }\n",
       "\n",
       "    .dataframe tbody tr th {\n",
       "        vertical-align: top;\n",
       "    }\n",
       "\n",
       "    .dataframe thead th {\n",
       "        text-align: right;\n",
       "    }\n",
       "</style>\n",
       "<table border=\"1\" class=\"dataframe\">\n",
       "  <thead>\n",
       "    <tr style=\"text-align: right;\">\n",
       "      <th></th>\n",
       "      <th>RecordID</th>\n",
       "      <th>Offense</th>\n",
       "      <th>IncidentID</th>\n",
       "      <th>BlockNumber</th>\n",
       "      <th>StreetName</th>\n",
       "      <th>Agency</th>\n",
       "      <th>HourReported</th>\n",
       "      <th>ReportingOfficer</th>\n",
       "      <th>Date</th>\n",
       "      <th>DateString</th>\n",
       "      <th>DayOfWeek</th>\n",
       "      <th>Weekend</th>\n",
       "      <th>Season</th>\n",
       "      <th>HourAMPM</th>\n",
       "      <th>TimeOfDay</th>\n",
       "      <th>FullStreet</th>\n",
       "      <th>lat</th>\n",
       "      <th>lon</th>\n",
       "    </tr>\n",
       "  </thead>\n",
       "  <tbody>\n",
       "    <tr>\n",
       "      <th>0</th>\n",
       "      <td>1</td>\n",
       "      <td>Suspicious Activity</td>\n",
       "      <td>202500027781</td>\n",
       "      <td>400</td>\n",
       "      <td>E MAIN ST</td>\n",
       "      <td>CPD</td>\n",
       "      <td>2125</td>\n",
       "      <td>Huber, Christopher</td>\n",
       "      <td>2025-08-06 21:25:23</td>\n",
       "      <td>2025-08-06 09:25:23 PM</td>\n",
       "      <td>Wednesday</td>\n",
       "      <td>False</td>\n",
       "      <td>Summer</td>\n",
       "      <td>09:25 PM</td>\n",
       "      <td>Night</td>\n",
       "      <td>400 E MAIN ST</td>\n",
       "      <td>38.029770</td>\n",
       "      <td>-78.479257</td>\n",
       "    </tr>\n",
       "    <tr>\n",
       "      <th>1</th>\n",
       "      <td>2</td>\n",
       "      <td>Drug Investigation</td>\n",
       "      <td>202500027777</td>\n",
       "      <td>200</td>\n",
       "      <td>RIDGE MCINTIRE RD</td>\n",
       "      <td>CPD</td>\n",
       "      <td>2027</td>\n",
       "      <td>Urban, Jacob</td>\n",
       "      <td>2025-08-06 20:27:55</td>\n",
       "      <td>2025-08-06 08:27:55 PM</td>\n",
       "      <td>Wednesday</td>\n",
       "      <td>False</td>\n",
       "      <td>Summer</td>\n",
       "      <td>08:27 PM</td>\n",
       "      <td>Evening</td>\n",
       "      <td>200 RIDGE MCINTIRE RD</td>\n",
       "      <td>38.031221</td>\n",
       "      <td>-78.483889</td>\n",
       "    </tr>\n",
       "    <tr>\n",
       "      <th>2</th>\n",
       "      <td>3</td>\n",
       "      <td>Larceny - All Other</td>\n",
       "      <td>202500027763</td>\n",
       "      <td>300</td>\n",
       "      <td>11TH ST NW</td>\n",
       "      <td>CPD</td>\n",
       "      <td>1855</td>\n",
       "      <td>Bentz, Benjamin</td>\n",
       "      <td>2025-08-06 18:55:16</td>\n",
       "      <td>2025-08-06 06:55:16 PM</td>\n",
       "      <td>Wednesday</td>\n",
       "      <td>False</td>\n",
       "      <td>Summer</td>\n",
       "      <td>06:55 PM</td>\n",
       "      <td>Evening</td>\n",
       "      <td>300 11TH ST NW</td>\n",
       "      <td>38.035848</td>\n",
       "      <td>-78.494982</td>\n",
       "    </tr>\n",
       "    <tr>\n",
       "      <th>3</th>\n",
       "      <td>4</td>\n",
       "      <td>Assist Citizen - Mental/TDO/ECO</td>\n",
       "      <td>202500027757</td>\n",
       "      <td>800</td>\n",
       "      <td>ST CLAIR AVE</td>\n",
       "      <td>CPD</td>\n",
       "      <td>1742</td>\n",
       "      <td>Urban, Jacob</td>\n",
       "      <td>2025-08-06 17:42:55</td>\n",
       "      <td>2025-08-06 05:42:55 PM</td>\n",
       "      <td>Wednesday</td>\n",
       "      <td>False</td>\n",
       "      <td>Summer</td>\n",
       "      <td>05:42 PM</td>\n",
       "      <td>Evening</td>\n",
       "      <td>800 ST CLAIR AVE</td>\n",
       "      <td>38.034619</td>\n",
       "      <td>-78.466916</td>\n",
       "    </tr>\n",
       "    <tr>\n",
       "      <th>4</th>\n",
       "      <td>5</td>\n",
       "      <td>Hit and Run</td>\n",
       "      <td>202500027753</td>\n",
       "      <td>700</td>\n",
       "      <td>E MARKET ST, A</td>\n",
       "      <td>CPD</td>\n",
       "      <td>1723</td>\n",
       "      <td>Ritter, Kobe</td>\n",
       "      <td>2025-08-06 17:23:51</td>\n",
       "      <td>2025-08-06 05:23:51 PM</td>\n",
       "      <td>Wednesday</td>\n",
       "      <td>False</td>\n",
       "      <td>Summer</td>\n",
       "      <td>05:23 PM</td>\n",
       "      <td>Evening</td>\n",
       "      <td>700 E MARKET ST, A</td>\n",
       "      <td>NaN</td>\n",
       "      <td>NaN</td>\n",
       "    </tr>\n",
       "  </tbody>\n",
       "</table>\n",
       "</div>"
      ],
      "text/plain": [
       "   RecordID                          Offense    IncidentID BlockNumber  \\\n",
       "0         1              Suspicious Activity  202500027781         400   \n",
       "1         2               Drug Investigation  202500027777         200   \n",
       "2         3              Larceny - All Other  202500027763         300   \n",
       "3         4  Assist Citizen - Mental/TDO/ECO  202500027757         800   \n",
       "4         5                      Hit and Run  202500027753         700   \n",
       "\n",
       "          StreetName Agency HourReported    ReportingOfficer  \\\n",
       "0          E MAIN ST    CPD         2125  Huber, Christopher   \n",
       "1  RIDGE MCINTIRE RD    CPD         2027        Urban, Jacob   \n",
       "2         11TH ST NW    CPD         1855    Bentz, Benjamin    \n",
       "3       ST CLAIR AVE    CPD         1742        Urban, Jacob   \n",
       "4     E MARKET ST, A    CPD         1723        Ritter, Kobe   \n",
       "\n",
       "                 Date              DateString  DayOfWeek  Weekend  Season  \\\n",
       "0 2025-08-06 21:25:23  2025-08-06 09:25:23 PM  Wednesday    False  Summer   \n",
       "1 2025-08-06 20:27:55  2025-08-06 08:27:55 PM  Wednesday    False  Summer   \n",
       "2 2025-08-06 18:55:16  2025-08-06 06:55:16 PM  Wednesday    False  Summer   \n",
       "3 2025-08-06 17:42:55  2025-08-06 05:42:55 PM  Wednesday    False  Summer   \n",
       "4 2025-08-06 17:23:51  2025-08-06 05:23:51 PM  Wednesday    False  Summer   \n",
       "\n",
       "   HourAMPM TimeOfDay             FullStreet        lat        lon  \n",
       "0  09:25 PM     Night          400 E MAIN ST  38.029770 -78.479257  \n",
       "1  08:27 PM   Evening  200 RIDGE MCINTIRE RD  38.031221 -78.483889  \n",
       "2  06:55 PM   Evening         300 11TH ST NW  38.035848 -78.494982  \n",
       "3  05:42 PM   Evening       800 ST CLAIR AVE  38.034619 -78.466916  \n",
       "4  05:23 PM   Evening     700 E MARKET ST, A        NaN        NaN  "
      ]
     },
     "execution_count": 9,
     "metadata": {},
     "output_type": "execute_result"
    }
   ],
   "source": [
    "# Combine BlockNumber and StreetName into a full address string\n",
    "df['FullStreet'] = df['BlockNumber'].astype(str) + \" \" + df['StreetName']\n",
    "\n",
    "# --- Step 1: Setup the Google Maps Client and Cache ---\n",
    "gmaps = googlemaps.Client(key=GOOGLE_API_KEY)\n",
    "\n",
    "# Try to load cached geocoding results if available.\n",
    "try:\n",
    "    with open(\"geocode_cache_google.pkl\", \"rb\") as f:\n",
    "        street_coords = pickle.load(f)\n",
    "    print(\"Loaded geocode cache.\")\n",
    "except FileNotFoundError:\n",
    "    street_coords = {}\n",
    "    print(\"No cache found; starting fresh.\")\n",
    "\n",
    "def geocode_address(address):\n",
    "    try:\n",
    "        # Append city and state to help geocoding\n",
    "        result = gmaps.geocode(f\"{address}, Charlottesville, VA\")\n",
    "        if result:\n",
    "            lat = result[0]['geometry']['location']['lat']\n",
    "            lon = result[0]['geometry']['location']['lng']\n",
    "            return lat, lon\n",
    "    except Exception as e:\n",
    "        print(f\"Error geocoding {address}: {e}\")\n",
    "    return None, None\n",
    "\n",
    "# --- Step 2: Geocode Only New Addresses ---\n",
    "unique_addresses = df['FullStreet'].unique()\n",
    "for address in unique_addresses:\n",
    "    if address not in street_coords:\n",
    "        lat, lon = geocode_address(address)\n",
    "        street_coords[address] = (lat, lon)\n",
    "        print(f\"Geocoded {address}: {lat}, {lon}\")\n",
    "\n",
    "# Save the updated cache to disk.\n",
    "with open(\"geocode_cache_google.pkl\", \"wb\") as f:\n",
    "    pickle.dump(street_coords, f)\n",
    "    print(\"Geocode cache updated and saved.\")\n",
    "\n",
    "# --- Step 3: Map Coordinates Back to DataFrame ---\n",
    "df['lat'] = df['FullStreet'].map(lambda s: street_coords.get(s, (None, None))[0])\n",
    "df['lon'] = df['FullStreet'].map(lambda s: street_coords.get(s, (None, None))[1])\n",
    "\n",
    "df.head()"
   ]
  },
  {
   "cell_type": "markdown",
   "id": "6e950464",
   "metadata": {
    "papermill": {
     "duration": 0.004549,
     "end_time": "2025-08-09T01:05:57.275656",
     "exception": false,
     "start_time": "2025-08-09T01:05:57.271107",
     "status": "completed"
    },
    "tags": []
   },
   "source": [
    "### Neighborhood"
   ]
  },
  {
   "cell_type": "code",
   "execution_count": 10,
   "id": "c39b1810",
   "metadata": {
    "execution": {
     "iopub.execute_input": "2025-08-09T01:05:57.285420Z",
     "iopub.status.busy": "2025-08-09T01:05:57.285215Z",
     "iopub.status.idle": "2025-08-09T01:05:59.194423Z",
     "shell.execute_reply": "2025-08-09T01:05:59.193675Z"
    },
    "papermill": {
     "duration": 1.915388,
     "end_time": "2025-08-09T01:05:59.195508",
     "exception": false,
     "start_time": "2025-08-09T01:05:57.280120",
     "status": "completed"
    },
    "tags": []
   },
   "outputs": [
    {
     "name": "stdout",
     "output_type": "stream",
     "text": [
      "Loaded neighborhood cache.\n"
     ]
    },
    {
     "name": "stdout",
     "output_type": "stream",
     "text": [
      "Error getting neighborhood for nan, nan: HTTP Error: 400\n",
      "Error getting neighborhood for nan, nan: HTTP Error: 400\n"
     ]
    },
    {
     "name": "stdout",
     "output_type": "stream",
     "text": [
      "Error getting neighborhood for nan, nan: HTTP Error: 400\n",
      "Error getting neighborhood for nan, nan: HTTP Error: 400\n"
     ]
    },
    {
     "name": "stdout",
     "output_type": "stream",
     "text": [
      "Error getting neighborhood for nan, nan: HTTP Error: 400\n",
      "Error getting neighborhood for nan, nan: HTTP Error: 400\n",
      "Error getting neighborhood for nan, nan: HTTP Error: 400\n",
      "Error getting neighborhood for nan, nan: HTTP Error: 400\n"
     ]
    },
    {
     "name": "stdout",
     "output_type": "stream",
     "text": [
      "Error getting neighborhood for nan, nan: HTTP Error: 400\n",
      "Error getting neighborhood for nan, nan: HTTP Error: 400\n"
     ]
    },
    {
     "name": "stdout",
     "output_type": "stream",
     "text": [
      "Error getting neighborhood for nan, nan: HTTP Error: 400\n",
      "Error getting neighborhood for nan, nan: HTTP Error: 400\n"
     ]
    },
    {
     "name": "stdout",
     "output_type": "stream",
     "text": [
      "Error getting neighborhood for nan, nan: HTTP Error: 400\n",
      "Error getting neighborhood for nan, nan: HTTP Error: 400\n",
      "Error getting neighborhood for nan, nan: HTTP Error: 400\n",
      "Error getting neighborhood for nan, nan: HTTP Error: 400\n"
     ]
    },
    {
     "name": "stdout",
     "output_type": "stream",
     "text": [
      "Error getting neighborhood for nan, nan: HTTP Error: 400\n",
      "Error getting neighborhood for nan, nan: HTTP Error: 400\n",
      "Error getting neighborhood for nan, nan: HTTP Error: 400\n",
      "Error getting neighborhood for nan, nan: HTTP Error: 400\n"
     ]
    },
    {
     "name": "stdout",
     "output_type": "stream",
     "text": [
      "Error getting neighborhood for nan, nan: HTTP Error: 400\n",
      "Error getting neighborhood for nan, nan: HTTP Error: 400\n",
      "Error getting neighborhood for nan, nan: HTTP Error: 400\n"
     ]
    },
    {
     "name": "stdout",
     "output_type": "stream",
     "text": [
      "Error getting neighborhood for nan, nan: HTTP Error: 400\n",
      "Error getting neighborhood for nan, nan: HTTP Error: 400\n",
      "Error getting neighborhood for nan, nan: HTTP Error: 400\n",
      "Error getting neighborhood for nan, nan: HTTP Error: 400\n"
     ]
    },
    {
     "name": "stdout",
     "output_type": "stream",
     "text": [
      "Error getting neighborhood for nan, nan: HTTP Error: 400\n",
      "Error getting neighborhood for nan, nan: HTTP Error: 400\n",
      "Error getting neighborhood for nan, nan: HTTP Error: 400\n",
      "Error getting neighborhood for nan, nan: HTTP Error: 400\n"
     ]
    },
    {
     "name": "stdout",
     "output_type": "stream",
     "text": [
      "Error getting neighborhood for nan, nan: HTTP Error: 400\n",
      "Error getting neighborhood for nan, nan: HTTP Error: 400\n",
      "Error getting neighborhood for nan, nan: HTTP Error: 400\n",
      "Error getting neighborhood for nan, nan: HTTP Error: 400\n",
      "Error getting neighborhood for nan, nan: HTTP Error: 400\n"
     ]
    },
    {
     "name": "stdout",
     "output_type": "stream",
     "text": [
      "Error getting neighborhood for nan, nan: HTTP Error: 400\n",
      "Error getting neighborhood for nan, nan: HTTP Error: 400\n",
      "Error getting neighborhood for nan, nan: HTTP Error: 400\n",
      "Error getting neighborhood for nan, nan: HTTP Error: 400\n"
     ]
    },
    {
     "name": "stdout",
     "output_type": "stream",
     "text": [
      "Error getting neighborhood for nan, nan: HTTP Error: 400\n",
      "Error getting neighborhood for nan, nan: HTTP Error: 400\n",
      "Error getting neighborhood for nan, nan: HTTP Error: 400\n",
      "Error getting neighborhood for nan, nan: HTTP Error: 400\n"
     ]
    },
    {
     "name": "stdout",
     "output_type": "stream",
     "text": [
      "Error getting neighborhood for nan, nan: HTTP Error: 400\n",
      "Error getting neighborhood for nan, nan: HTTP Error: 400\n",
      "Error getting neighborhood for nan, nan: HTTP Error: 400\n",
      "Error getting neighborhood for nan, nan: HTTP Error: 400\n",
      "Error getting neighborhood for nan, nan: HTTP Error: 400\n"
     ]
    },
    {
     "name": "stdout",
     "output_type": "stream",
     "text": [
      "Error getting neighborhood for nan, nan: HTTP Error: 400\n",
      "Error getting neighborhood for nan, nan: HTTP Error: 400\n",
      "Error getting neighborhood for nan, nan: HTTP Error: 400\n",
      "Error getting neighborhood for nan, nan: HTTP Error: 400\n",
      "Error getting neighborhood for nan, nan: HTTP Error: 400\n",
      "Error getting neighborhood for nan, nan: HTTP Error: 400\n"
     ]
    },
    {
     "name": "stdout",
     "output_type": "stream",
     "text": [
      "Error getting neighborhood for nan, nan: HTTP Error: 400\n",
      "Error getting neighborhood for nan, nan: HTTP Error: 400\n"
     ]
    },
    {
     "name": "stdout",
     "output_type": "stream",
     "text": [
      "Error getting neighborhood for nan, nan: HTTP Error: 400\n",
      "Error getting neighborhood for nan, nan: HTTP Error: 400\n",
      "Error getting neighborhood for nan, nan: HTTP Error: 400\n",
      "Error getting neighborhood for nan, nan: HTTP Error: 400\n",
      "Error getting neighborhood for nan, nan: HTTP Error: 400\n"
     ]
    },
    {
     "name": "stdout",
     "output_type": "stream",
     "text": [
      "Error getting neighborhood for nan, nan: HTTP Error: 400\n",
      "Error getting neighborhood for nan, nan: HTTP Error: 400\n",
      "Error getting neighborhood for nan, nan: HTTP Error: 400\n",
      "Error getting neighborhood for nan, nan: HTTP Error: 400\n",
      "Error getting neighborhood for nan, nan: HTTP Error: 400\n",
      "Error getting neighborhood for nan, nan: HTTP Error: 400\n",
      "Error getting neighborhood for nan, nan: HTTP Error: 400\n",
      "Error getting neighborhood for nan, nan: HTTP Error: 400\n"
     ]
    },
    {
     "name": "stdout",
     "output_type": "stream",
     "text": [
      "Error getting neighborhood for nan, nan: HTTP Error: 400\n",
      "Error getting neighborhood for nan, nan: HTTP Error: 400\n"
     ]
    },
    {
     "name": "stdout",
     "output_type": "stream",
     "text": [
      "Error getting neighborhood for nan, nan: HTTP Error: 400\n",
      "Error getting neighborhood for nan, nan: HTTP Error: 400\n",
      "Error getting neighborhood for nan, nan: HTTP Error: 400\n",
      "Error getting neighborhood for nan, nan: HTTP Error: 400\n"
     ]
    },
    {
     "name": "stdout",
     "output_type": "stream",
     "text": [
      "Error getting neighborhood for nan, nan: HTTP Error: 400\n",
      "Error getting neighborhood for nan, nan: HTTP Error: 400\n",
      "Error getting neighborhood for nan, nan: HTTP Error: 400\n",
      "Error getting neighborhood for nan, nan: HTTP Error: 400\n",
      "Error getting neighborhood for nan, nan: HTTP Error: 400\n",
      "Error getting neighborhood for nan, nan: HTTP Error: 400\n",
      "Error getting neighborhood for nan, nan: HTTP Error: 400\n",
      "Error getting neighborhood for nan, nan: HTTP Error: 400\n"
     ]
    },
    {
     "name": "stdout",
     "output_type": "stream",
     "text": [
      "Error getting neighborhood for nan, nan: HTTP Error: 400\n",
      "Error getting neighborhood for nan, nan: HTTP Error: 400\n"
     ]
    },
    {
     "name": "stdout",
     "output_type": "stream",
     "text": [
      "Error getting neighborhood for nan, nan: HTTP Error: 400\n",
      "Error getting neighborhood for nan, nan: HTTP Error: 400\n",
      "Error getting neighborhood for nan, nan: HTTP Error: 400\n",
      "Error getting neighborhood for nan, nan: HTTP Error: 400\n"
     ]
    },
    {
     "data": {
      "text/html": [
       "<div>\n",
       "<style scoped>\n",
       "    .dataframe tbody tr th:only-of-type {\n",
       "        vertical-align: middle;\n",
       "    }\n",
       "\n",
       "    .dataframe tbody tr th {\n",
       "        vertical-align: top;\n",
       "    }\n",
       "\n",
       "    .dataframe thead th {\n",
       "        text-align: right;\n",
       "    }\n",
       "</style>\n",
       "<table border=\"1\" class=\"dataframe\">\n",
       "  <thead>\n",
       "    <tr style=\"text-align: right;\">\n",
       "      <th></th>\n",
       "      <th>RecordID</th>\n",
       "      <th>Offense</th>\n",
       "      <th>IncidentID</th>\n",
       "      <th>BlockNumber</th>\n",
       "      <th>StreetName</th>\n",
       "      <th>Agency</th>\n",
       "      <th>HourReported</th>\n",
       "      <th>ReportingOfficer</th>\n",
       "      <th>Date</th>\n",
       "      <th>DateString</th>\n",
       "      <th>DayOfWeek</th>\n",
       "      <th>Weekend</th>\n",
       "      <th>Season</th>\n",
       "      <th>HourAMPM</th>\n",
       "      <th>TimeOfDay</th>\n",
       "      <th>FullStreet</th>\n",
       "      <th>lat</th>\n",
       "      <th>lon</th>\n",
       "      <th>neighborhood</th>\n",
       "    </tr>\n",
       "  </thead>\n",
       "  <tbody>\n",
       "    <tr>\n",
       "      <th>0</th>\n",
       "      <td>1</td>\n",
       "      <td>Suspicious Activity</td>\n",
       "      <td>202500027781</td>\n",
       "      <td>400</td>\n",
       "      <td>E MAIN ST</td>\n",
       "      <td>CPD</td>\n",
       "      <td>2125</td>\n",
       "      <td>Huber, Christopher</td>\n",
       "      <td>2025-08-06 21:25:23</td>\n",
       "      <td>2025-08-06 09:25:23 PM</td>\n",
       "      <td>Wednesday</td>\n",
       "      <td>False</td>\n",
       "      <td>Summer</td>\n",
       "      <td>09:25 PM</td>\n",
       "      <td>Night</td>\n",
       "      <td>400 E MAIN ST</td>\n",
       "      <td>38.029770</td>\n",
       "      <td>-78.479257</td>\n",
       "      <td>Downtown Mall</td>\n",
       "    </tr>\n",
       "    <tr>\n",
       "      <th>1</th>\n",
       "      <td>2</td>\n",
       "      <td>Drug Investigation</td>\n",
       "      <td>202500027777</td>\n",
       "      <td>200</td>\n",
       "      <td>RIDGE MCINTIRE RD</td>\n",
       "      <td>CPD</td>\n",
       "      <td>2027</td>\n",
       "      <td>Urban, Jacob</td>\n",
       "      <td>2025-08-06 20:27:55</td>\n",
       "      <td>2025-08-06 08:27:55 PM</td>\n",
       "      <td>Wednesday</td>\n",
       "      <td>False</td>\n",
       "      <td>Summer</td>\n",
       "      <td>08:27 PM</td>\n",
       "      <td>Evening</td>\n",
       "      <td>200 RIDGE MCINTIRE RD</td>\n",
       "      <td>38.031221</td>\n",
       "      <td>-78.483889</td>\n",
       "      <td>Downtown Mall</td>\n",
       "    </tr>\n",
       "    <tr>\n",
       "      <th>2</th>\n",
       "      <td>3</td>\n",
       "      <td>Larceny - All Other</td>\n",
       "      <td>202500027763</td>\n",
       "      <td>300</td>\n",
       "      <td>11TH ST NW</td>\n",
       "      <td>CPD</td>\n",
       "      <td>1855</td>\n",
       "      <td>Bentz, Benjamin</td>\n",
       "      <td>2025-08-06 18:55:16</td>\n",
       "      <td>2025-08-06 06:55:16 PM</td>\n",
       "      <td>Wednesday</td>\n",
       "      <td>False</td>\n",
       "      <td>Summer</td>\n",
       "      <td>06:55 PM</td>\n",
       "      <td>Evening</td>\n",
       "      <td>300 11TH ST NW</td>\n",
       "      <td>38.035848</td>\n",
       "      <td>-78.494982</td>\n",
       "      <td>Venable</td>\n",
       "    </tr>\n",
       "    <tr>\n",
       "      <th>3</th>\n",
       "      <td>4</td>\n",
       "      <td>Assist Citizen - Mental/TDO/ECO</td>\n",
       "      <td>202500027757</td>\n",
       "      <td>800</td>\n",
       "      <td>ST CLAIR AVE</td>\n",
       "      <td>CPD</td>\n",
       "      <td>1742</td>\n",
       "      <td>Urban, Jacob</td>\n",
       "      <td>2025-08-06 17:42:55</td>\n",
       "      <td>2025-08-06 05:42:55 PM</td>\n",
       "      <td>Wednesday</td>\n",
       "      <td>False</td>\n",
       "      <td>Summer</td>\n",
       "      <td>05:42 PM</td>\n",
       "      <td>Evening</td>\n",
       "      <td>800 ST CLAIR AVE</td>\n",
       "      <td>38.034619</td>\n",
       "      <td>-78.466916</td>\n",
       "      <td>Martha Jefferson</td>\n",
       "    </tr>\n",
       "    <tr>\n",
       "      <th>4</th>\n",
       "      <td>5</td>\n",
       "      <td>Hit and Run</td>\n",
       "      <td>202500027753</td>\n",
       "      <td>700</td>\n",
       "      <td>E MARKET ST, A</td>\n",
       "      <td>CPD</td>\n",
       "      <td>1723</td>\n",
       "      <td>Ritter, Kobe</td>\n",
       "      <td>2025-08-06 17:23:51</td>\n",
       "      <td>2025-08-06 05:23:51 PM</td>\n",
       "      <td>Wednesday</td>\n",
       "      <td>False</td>\n",
       "      <td>Summer</td>\n",
       "      <td>05:23 PM</td>\n",
       "      <td>Evening</td>\n",
       "      <td>700 E MARKET ST, A</td>\n",
       "      <td>NaN</td>\n",
       "      <td>NaN</td>\n",
       "      <td>N/A</td>\n",
       "    </tr>\n",
       "  </tbody>\n",
       "</table>\n",
       "</div>"
      ],
      "text/plain": [
       "   RecordID                          Offense    IncidentID BlockNumber  \\\n",
       "0         1              Suspicious Activity  202500027781         400   \n",
       "1         2               Drug Investigation  202500027777         200   \n",
       "2         3              Larceny - All Other  202500027763         300   \n",
       "3         4  Assist Citizen - Mental/TDO/ECO  202500027757         800   \n",
       "4         5                      Hit and Run  202500027753         700   \n",
       "\n",
       "          StreetName Agency HourReported    ReportingOfficer  \\\n",
       "0          E MAIN ST    CPD         2125  Huber, Christopher   \n",
       "1  RIDGE MCINTIRE RD    CPD         2027        Urban, Jacob   \n",
       "2         11TH ST NW    CPD         1855    Bentz, Benjamin    \n",
       "3       ST CLAIR AVE    CPD         1742        Urban, Jacob   \n",
       "4     E MARKET ST, A    CPD         1723        Ritter, Kobe   \n",
       "\n",
       "                 Date              DateString  DayOfWeek  Weekend  Season  \\\n",
       "0 2025-08-06 21:25:23  2025-08-06 09:25:23 PM  Wednesday    False  Summer   \n",
       "1 2025-08-06 20:27:55  2025-08-06 08:27:55 PM  Wednesday    False  Summer   \n",
       "2 2025-08-06 18:55:16  2025-08-06 06:55:16 PM  Wednesday    False  Summer   \n",
       "3 2025-08-06 17:42:55  2025-08-06 05:42:55 PM  Wednesday    False  Summer   \n",
       "4 2025-08-06 17:23:51  2025-08-06 05:23:51 PM  Wednesday    False  Summer   \n",
       "\n",
       "   HourAMPM TimeOfDay             FullStreet        lat        lon  \\\n",
       "0  09:25 PM     Night          400 E MAIN ST  38.029770 -78.479257   \n",
       "1  08:27 PM   Evening  200 RIDGE MCINTIRE RD  38.031221 -78.483889   \n",
       "2  06:55 PM   Evening         300 11TH ST NW  38.035848 -78.494982   \n",
       "3  05:42 PM   Evening       800 ST CLAIR AVE  38.034619 -78.466916   \n",
       "4  05:23 PM   Evening     700 E MARKET ST, A        NaN        NaN   \n",
       "\n",
       "       neighborhood  \n",
       "0     Downtown Mall  \n",
       "1     Downtown Mall  \n",
       "2           Venable  \n",
       "3  Martha Jefferson  \n",
       "4               N/A  "
      ]
     },
     "execution_count": 10,
     "metadata": {},
     "output_type": "execute_result"
    }
   ],
   "source": [
    "# Initialize the Google Maps client.\n",
    "gmaps = googlemaps.Client(key=GOOGLE_API_KEY)\n",
    "\n",
    "# Try to load a persistent neighborhood cache if available.\n",
    "try:\n",
    "    with open(\"neighborhood_cache.pkl\", \"rb\") as f:\n",
    "        neighborhood_cache = pickle.load(f)\n",
    "    print(\"Loaded neighborhood cache.\")\n",
    "except FileNotFoundError:\n",
    "    neighborhood_cache = {}\n",
    "    print(\"No neighborhood cache found; starting fresh.\")\n",
    "\n",
    "def get_neighborhood(lat, lon):\n",
    "    \"\"\"\n",
    "    Reverse geocodes a latitude and longitude to retrieve the neighborhood.\n",
    "    Caches results to speed up subsequent lookups.\n",
    "    \"\"\"\n",
    "    key = (lat, lon)\n",
    "    if key in neighborhood_cache:\n",
    "        return neighborhood_cache[key]\n",
    "    \n",
    "    try:\n",
    "        result = gmaps.reverse_geocode((lat, lon))\n",
    "        if result:\n",
    "            # Look for the 'neighborhood' component in the first result.\n",
    "            for component in result[0]['address_components']:\n",
    "                if 'neighborhood' in component['types']:\n",
    "                    neighborhood = component['long_name']\n",
    "                    neighborhood_cache[key] = neighborhood\n",
    "                    return neighborhood\n",
    "            # If no neighborhood is found, return \"N/A\"\n",
    "            neighborhood_cache[key] = \"N/A\"\n",
    "            return \"N/A\"\n",
    "    except Exception as e:\n",
    "        print(f\"Error getting neighborhood for {lat}, {lon}: {e}\")\n",
    "        return \"N/A\"\n",
    "    \n",
    "    # Pause to respect usage limits.\n",
    "    time.sleep(1)\n",
    "\n",
    "# Example usage: Apply to your DataFrame 'df' that already has 'lat' and 'lon' columns.\n",
    "df['neighborhood'] = df.apply(lambda row: get_neighborhood(row['lat'], row['lon']), axis=1)\n",
    "\n",
    "# Save the updated neighborhood cache.\n",
    "with open(\"neighborhood_cache.pkl\", \"wb\") as f:\n",
    "    pickle.dump(neighborhood_cache, f)\n",
    "\n",
    "df.head()\n"
   ]
  },
  {
   "cell_type": "markdown",
   "id": "fdb90b48",
   "metadata": {
    "papermill": {
     "duration": 0.005712,
     "end_time": "2025-08-09T01:05:59.207759",
     "exception": false,
     "start_time": "2025-08-09T01:05:59.202047",
     "status": "completed"
    },
    "tags": []
   },
   "source": [
    "### Zip"
   ]
  },
  {
   "cell_type": "code",
   "execution_count": 11,
   "id": "550943ff",
   "metadata": {
    "execution": {
     "iopub.execute_input": "2025-08-09T01:05:59.220219Z",
     "iopub.status.busy": "2025-08-09T01:05:59.219942Z",
     "iopub.status.idle": "2025-08-09T01:07:29.764182Z",
     "shell.execute_reply": "2025-08-09T01:07:29.763488Z"
    },
    "papermill": {
     "duration": 90.562064,
     "end_time": "2025-08-09T01:07:29.775499",
     "exception": false,
     "start_time": "2025-08-09T01:05:59.213435",
     "status": "completed"
    },
    "tags": []
   },
   "outputs": [
    {
     "name": "stdout",
     "output_type": "stream",
     "text": [
      "Loaded zip cache.\n",
      "Error getting ZIP for nan, nan: Must be a coordinate pair or Point\n"
     ]
    },
    {
     "name": "stdout",
     "output_type": "stream",
     "text": [
      "Error getting ZIP for nan, nan: Must be a coordinate pair or Point\n"
     ]
    },
    {
     "name": "stdout",
     "output_type": "stream",
     "text": [
      "Error getting ZIP for nan, nan: Must be a coordinate pair or Point\n"
     ]
    },
    {
     "name": "stdout",
     "output_type": "stream",
     "text": [
      "Error getting ZIP for nan, nan: Must be a coordinate pair or Point\n"
     ]
    },
    {
     "name": "stdout",
     "output_type": "stream",
     "text": [
      "Error getting ZIP for nan, nan: Must be a coordinate pair or Point\n"
     ]
    },
    {
     "name": "stdout",
     "output_type": "stream",
     "text": [
      "Error getting ZIP for nan, nan: Must be a coordinate pair or Point\n"
     ]
    },
    {
     "name": "stdout",
     "output_type": "stream",
     "text": [
      "Error getting ZIP for nan, nan: Must be a coordinate pair or Point\n"
     ]
    },
    {
     "name": "stdout",
     "output_type": "stream",
     "text": [
      "Error getting ZIP for nan, nan: Must be a coordinate pair or Point\n"
     ]
    },
    {
     "name": "stdout",
     "output_type": "stream",
     "text": [
      "Error getting ZIP for nan, nan: Must be a coordinate pair or Point\n"
     ]
    },
    {
     "name": "stdout",
     "output_type": "stream",
     "text": [
      "Error getting ZIP for nan, nan: Must be a coordinate pair or Point\n"
     ]
    },
    {
     "name": "stdout",
     "output_type": "stream",
     "text": [
      "Error getting ZIP for nan, nan: Must be a coordinate pair or Point\n"
     ]
    },
    {
     "name": "stdout",
     "output_type": "stream",
     "text": [
      "Error getting ZIP for nan, nan: Must be a coordinate pair or Point\n"
     ]
    },
    {
     "name": "stdout",
     "output_type": "stream",
     "text": [
      "Error getting ZIP for nan, nan: Must be a coordinate pair or Point\n"
     ]
    },
    {
     "name": "stdout",
     "output_type": "stream",
     "text": [
      "Error getting ZIP for nan, nan: Must be a coordinate pair or Point\n"
     ]
    },
    {
     "name": "stdout",
     "output_type": "stream",
     "text": [
      "Error getting ZIP for nan, nan: Must be a coordinate pair or Point\n"
     ]
    },
    {
     "name": "stdout",
     "output_type": "stream",
     "text": [
      "Error getting ZIP for nan, nan: Must be a coordinate pair or Point\n"
     ]
    },
    {
     "name": "stdout",
     "output_type": "stream",
     "text": [
      "Error getting ZIP for nan, nan: Must be a coordinate pair or Point\n"
     ]
    },
    {
     "name": "stdout",
     "output_type": "stream",
     "text": [
      "Error getting ZIP for nan, nan: Must be a coordinate pair or Point\n"
     ]
    },
    {
     "name": "stdout",
     "output_type": "stream",
     "text": [
      "Error getting ZIP for nan, nan: Must be a coordinate pair or Point\n"
     ]
    },
    {
     "name": "stdout",
     "output_type": "stream",
     "text": [
      "Error getting ZIP for nan, nan: Must be a coordinate pair or Point\n"
     ]
    },
    {
     "name": "stdout",
     "output_type": "stream",
     "text": [
      "Error getting ZIP for nan, nan: Must be a coordinate pair or Point\n"
     ]
    },
    {
     "name": "stdout",
     "output_type": "stream",
     "text": [
      "Error getting ZIP for nan, nan: Must be a coordinate pair or Point\n"
     ]
    },
    {
     "name": "stdout",
     "output_type": "stream",
     "text": [
      "Error getting ZIP for nan, nan: Must be a coordinate pair or Point\n"
     ]
    },
    {
     "name": "stdout",
     "output_type": "stream",
     "text": [
      "Error getting ZIP for nan, nan: Must be a coordinate pair or Point\n"
     ]
    },
    {
     "name": "stdout",
     "output_type": "stream",
     "text": [
      "Error getting ZIP for nan, nan: Must be a coordinate pair or Point\n"
     ]
    },
    {
     "name": "stdout",
     "output_type": "stream",
     "text": [
      "Error getting ZIP for nan, nan: Must be a coordinate pair or Point\n"
     ]
    },
    {
     "name": "stdout",
     "output_type": "stream",
     "text": [
      "Error getting ZIP for nan, nan: Must be a coordinate pair or Point\n"
     ]
    },
    {
     "name": "stdout",
     "output_type": "stream",
     "text": [
      "Error getting ZIP for nan, nan: Must be a coordinate pair or Point\n"
     ]
    },
    {
     "name": "stdout",
     "output_type": "stream",
     "text": [
      "Error getting ZIP for nan, nan: Must be a coordinate pair or Point\n"
     ]
    },
    {
     "name": "stdout",
     "output_type": "stream",
     "text": [
      "Error getting ZIP for nan, nan: Must be a coordinate pair or Point\n"
     ]
    },
    {
     "name": "stdout",
     "output_type": "stream",
     "text": [
      "Error getting ZIP for nan, nan: Must be a coordinate pair or Point\n"
     ]
    },
    {
     "name": "stdout",
     "output_type": "stream",
     "text": [
      "Error getting ZIP for nan, nan: Must be a coordinate pair or Point\n"
     ]
    },
    {
     "name": "stdout",
     "output_type": "stream",
     "text": [
      "Error getting ZIP for nan, nan: Must be a coordinate pair or Point\n"
     ]
    },
    {
     "name": "stdout",
     "output_type": "stream",
     "text": [
      "Error getting ZIP for nan, nan: Must be a coordinate pair or Point\n"
     ]
    },
    {
     "name": "stdout",
     "output_type": "stream",
     "text": [
      "Error getting ZIP for nan, nan: Must be a coordinate pair or Point\n"
     ]
    },
    {
     "name": "stdout",
     "output_type": "stream",
     "text": [
      "Error getting ZIP for nan, nan: Must be a coordinate pair or Point\n"
     ]
    },
    {
     "name": "stdout",
     "output_type": "stream",
     "text": [
      "Error getting ZIP for nan, nan: Must be a coordinate pair or Point\n"
     ]
    },
    {
     "name": "stdout",
     "output_type": "stream",
     "text": [
      "Error getting ZIP for nan, nan: Must be a coordinate pair or Point\n"
     ]
    },
    {
     "name": "stdout",
     "output_type": "stream",
     "text": [
      "Error getting ZIP for nan, nan: Must be a coordinate pair or Point\n"
     ]
    },
    {
     "name": "stdout",
     "output_type": "stream",
     "text": [
      "Error getting ZIP for nan, nan: Must be a coordinate pair or Point\n"
     ]
    },
    {
     "name": "stdout",
     "output_type": "stream",
     "text": [
      "Error getting ZIP for nan, nan: Must be a coordinate pair or Point\n"
     ]
    },
    {
     "name": "stdout",
     "output_type": "stream",
     "text": [
      "Error getting ZIP for nan, nan: Must be a coordinate pair or Point\n"
     ]
    },
    {
     "name": "stdout",
     "output_type": "stream",
     "text": [
      "Error getting ZIP for nan, nan: Must be a coordinate pair or Point\n"
     ]
    },
    {
     "name": "stdout",
     "output_type": "stream",
     "text": [
      "Error getting ZIP for nan, nan: Must be a coordinate pair or Point\n"
     ]
    },
    {
     "name": "stdout",
     "output_type": "stream",
     "text": [
      "Error getting ZIP for nan, nan: Must be a coordinate pair or Point\n"
     ]
    },
    {
     "name": "stdout",
     "output_type": "stream",
     "text": [
      "Error getting ZIP for nan, nan: Must be a coordinate pair or Point\n"
     ]
    },
    {
     "name": "stdout",
     "output_type": "stream",
     "text": [
      "Error getting ZIP for nan, nan: Must be a coordinate pair or Point\n"
     ]
    },
    {
     "name": "stdout",
     "output_type": "stream",
     "text": [
      "Error getting ZIP for nan, nan: Must be a coordinate pair or Point\n"
     ]
    },
    {
     "name": "stdout",
     "output_type": "stream",
     "text": [
      "Error getting ZIP for nan, nan: Must be a coordinate pair or Point\n"
     ]
    },
    {
     "name": "stdout",
     "output_type": "stream",
     "text": [
      "Error getting ZIP for nan, nan: Must be a coordinate pair or Point\n"
     ]
    },
    {
     "name": "stdout",
     "output_type": "stream",
     "text": [
      "Error getting ZIP for nan, nan: Must be a coordinate pair or Point\n"
     ]
    },
    {
     "name": "stdout",
     "output_type": "stream",
     "text": [
      "Error getting ZIP for nan, nan: Must be a coordinate pair or Point\n"
     ]
    },
    {
     "name": "stdout",
     "output_type": "stream",
     "text": [
      "Error getting ZIP for nan, nan: Must be a coordinate pair or Point\n"
     ]
    },
    {
     "name": "stdout",
     "output_type": "stream",
     "text": [
      "Error getting ZIP for nan, nan: Must be a coordinate pair or Point\n"
     ]
    },
    {
     "name": "stdout",
     "output_type": "stream",
     "text": [
      "Error getting ZIP for nan, nan: Must be a coordinate pair or Point\n"
     ]
    },
    {
     "name": "stdout",
     "output_type": "stream",
     "text": [
      "Error getting ZIP for nan, nan: Must be a coordinate pair or Point\n"
     ]
    },
    {
     "name": "stdout",
     "output_type": "stream",
     "text": [
      "Error getting ZIP for nan, nan: Must be a coordinate pair or Point\n"
     ]
    },
    {
     "name": "stdout",
     "output_type": "stream",
     "text": [
      "Error getting ZIP for nan, nan: Must be a coordinate pair or Point\n"
     ]
    },
    {
     "name": "stdout",
     "output_type": "stream",
     "text": [
      "Error getting ZIP for nan, nan: Must be a coordinate pair or Point\n"
     ]
    },
    {
     "name": "stdout",
     "output_type": "stream",
     "text": [
      "Error getting ZIP for nan, nan: Must be a coordinate pair or Point\n"
     ]
    },
    {
     "name": "stdout",
     "output_type": "stream",
     "text": [
      "Error getting ZIP for nan, nan: Must be a coordinate pair or Point\n"
     ]
    },
    {
     "name": "stdout",
     "output_type": "stream",
     "text": [
      "Error getting ZIP for nan, nan: Must be a coordinate pair or Point\n"
     ]
    },
    {
     "name": "stdout",
     "output_type": "stream",
     "text": [
      "Error getting ZIP for nan, nan: Must be a coordinate pair or Point\n"
     ]
    },
    {
     "name": "stdout",
     "output_type": "stream",
     "text": [
      "Error getting ZIP for nan, nan: Must be a coordinate pair or Point\n"
     ]
    },
    {
     "name": "stdout",
     "output_type": "stream",
     "text": [
      "Error getting ZIP for nan, nan: Must be a coordinate pair or Point\n"
     ]
    },
    {
     "name": "stdout",
     "output_type": "stream",
     "text": [
      "Error getting ZIP for nan, nan: Must be a coordinate pair or Point\n"
     ]
    },
    {
     "name": "stdout",
     "output_type": "stream",
     "text": [
      "Error getting ZIP for nan, nan: Must be a coordinate pair or Point\n"
     ]
    },
    {
     "name": "stdout",
     "output_type": "stream",
     "text": [
      "Error getting ZIP for nan, nan: Must be a coordinate pair or Point\n"
     ]
    },
    {
     "name": "stdout",
     "output_type": "stream",
     "text": [
      "Error getting ZIP for nan, nan: Must be a coordinate pair or Point\n"
     ]
    },
    {
     "name": "stdout",
     "output_type": "stream",
     "text": [
      "Error getting ZIP for nan, nan: Must be a coordinate pair or Point\n"
     ]
    },
    {
     "name": "stdout",
     "output_type": "stream",
     "text": [
      "Error getting ZIP for nan, nan: Must be a coordinate pair or Point\n"
     ]
    },
    {
     "name": "stdout",
     "output_type": "stream",
     "text": [
      "Error getting ZIP for nan, nan: Must be a coordinate pair or Point\n"
     ]
    },
    {
     "name": "stdout",
     "output_type": "stream",
     "text": [
      "Error getting ZIP for nan, nan: Must be a coordinate pair or Point\n"
     ]
    },
    {
     "name": "stdout",
     "output_type": "stream",
     "text": [
      "Error getting ZIP for nan, nan: Must be a coordinate pair or Point\n"
     ]
    },
    {
     "name": "stdout",
     "output_type": "stream",
     "text": [
      "Error getting ZIP for nan, nan: Must be a coordinate pair or Point\n"
     ]
    },
    {
     "name": "stdout",
     "output_type": "stream",
     "text": [
      "Error getting ZIP for nan, nan: Must be a coordinate pair or Point\n"
     ]
    },
    {
     "name": "stdout",
     "output_type": "stream",
     "text": [
      "Error getting ZIP for nan, nan: Must be a coordinate pair or Point\n"
     ]
    },
    {
     "name": "stdout",
     "output_type": "stream",
     "text": [
      "Error getting ZIP for nan, nan: Must be a coordinate pair or Point\n"
     ]
    },
    {
     "name": "stdout",
     "output_type": "stream",
     "text": [
      "Error getting ZIP for nan, nan: Must be a coordinate pair or Point\n"
     ]
    },
    {
     "name": "stdout",
     "output_type": "stream",
     "text": [
      "Error getting ZIP for nan, nan: Must be a coordinate pair or Point\n"
     ]
    },
    {
     "name": "stdout",
     "output_type": "stream",
     "text": [
      "Error getting ZIP for nan, nan: Must be a coordinate pair or Point\n"
     ]
    },
    {
     "name": "stdout",
     "output_type": "stream",
     "text": [
      "Error getting ZIP for nan, nan: Must be a coordinate pair or Point\n"
     ]
    },
    {
     "name": "stdout",
     "output_type": "stream",
     "text": [
      "Error getting ZIP for nan, nan: Must be a coordinate pair or Point\n"
     ]
    },
    {
     "name": "stdout",
     "output_type": "stream",
     "text": [
      "Error getting ZIP for nan, nan: Must be a coordinate pair or Point\n"
     ]
    },
    {
     "name": "stdout",
     "output_type": "stream",
     "text": [
      "Error getting ZIP for nan, nan: Must be a coordinate pair or Point\n"
     ]
    },
    {
     "name": "stdout",
     "output_type": "stream",
     "text": [
      "Error getting ZIP for nan, nan: Must be a coordinate pair or Point\n"
     ]
    },
    {
     "name": "stdout",
     "output_type": "stream",
     "text": [
      "Error getting ZIP for nan, nan: Must be a coordinate pair or Point\n"
     ]
    },
    {
     "name": "stdout",
     "output_type": "stream",
     "text": [
      "Error getting ZIP for nan, nan: Must be a coordinate pair or Point\n"
     ]
    },
    {
     "name": "stdout",
     "output_type": "stream",
     "text": [
      "Error getting ZIP for nan, nan: Must be a coordinate pair or Point\n"
     ]
    },
    {
     "name": "stdout",
     "output_type": "stream",
     "text": [
      "Error getting ZIP for nan, nan: Must be a coordinate pair or Point\n"
     ]
    },
    {
     "data": {
      "text/html": [
       "<div>\n",
       "<style scoped>\n",
       "    .dataframe tbody tr th:only-of-type {\n",
       "        vertical-align: middle;\n",
       "    }\n",
       "\n",
       "    .dataframe tbody tr th {\n",
       "        vertical-align: top;\n",
       "    }\n",
       "\n",
       "    .dataframe thead th {\n",
       "        text-align: right;\n",
       "    }\n",
       "</style>\n",
       "<table border=\"1\" class=\"dataframe\">\n",
       "  <thead>\n",
       "    <tr style=\"text-align: right;\">\n",
       "      <th></th>\n",
       "      <th>RecordID</th>\n",
       "      <th>Offense</th>\n",
       "      <th>IncidentID</th>\n",
       "      <th>BlockNumber</th>\n",
       "      <th>StreetName</th>\n",
       "      <th>Agency</th>\n",
       "      <th>HourReported</th>\n",
       "      <th>ReportingOfficer</th>\n",
       "      <th>Date</th>\n",
       "      <th>DateString</th>\n",
       "      <th>DayOfWeek</th>\n",
       "      <th>Weekend</th>\n",
       "      <th>Season</th>\n",
       "      <th>HourAMPM</th>\n",
       "      <th>TimeOfDay</th>\n",
       "      <th>FullStreet</th>\n",
       "      <th>lat</th>\n",
       "      <th>lon</th>\n",
       "      <th>neighborhood</th>\n",
       "      <th>zip</th>\n",
       "    </tr>\n",
       "  </thead>\n",
       "  <tbody>\n",
       "    <tr>\n",
       "      <th>0</th>\n",
       "      <td>1</td>\n",
       "      <td>Suspicious Activity</td>\n",
       "      <td>202500027781</td>\n",
       "      <td>400</td>\n",
       "      <td>E MAIN ST</td>\n",
       "      <td>CPD</td>\n",
       "      <td>2125</td>\n",
       "      <td>Huber, Christopher</td>\n",
       "      <td>2025-08-06 21:25:23</td>\n",
       "      <td>2025-08-06 09:25:23 PM</td>\n",
       "      <td>Wednesday</td>\n",
       "      <td>False</td>\n",
       "      <td>Summer</td>\n",
       "      <td>09:25 PM</td>\n",
       "      <td>Night</td>\n",
       "      <td>400 E MAIN ST</td>\n",
       "      <td>38.029770</td>\n",
       "      <td>-78.479257</td>\n",
       "      <td>Downtown Mall</td>\n",
       "      <td>22902</td>\n",
       "    </tr>\n",
       "    <tr>\n",
       "      <th>1</th>\n",
       "      <td>2</td>\n",
       "      <td>Drug Investigation</td>\n",
       "      <td>202500027777</td>\n",
       "      <td>200</td>\n",
       "      <td>RIDGE MCINTIRE RD</td>\n",
       "      <td>CPD</td>\n",
       "      <td>2027</td>\n",
       "      <td>Urban, Jacob</td>\n",
       "      <td>2025-08-06 20:27:55</td>\n",
       "      <td>2025-08-06 08:27:55 PM</td>\n",
       "      <td>Wednesday</td>\n",
       "      <td>False</td>\n",
       "      <td>Summer</td>\n",
       "      <td>08:27 PM</td>\n",
       "      <td>Evening</td>\n",
       "      <td>200 RIDGE MCINTIRE RD</td>\n",
       "      <td>38.031221</td>\n",
       "      <td>-78.483889</td>\n",
       "      <td>Downtown Mall</td>\n",
       "      <td>22903</td>\n",
       "    </tr>\n",
       "    <tr>\n",
       "      <th>2</th>\n",
       "      <td>3</td>\n",
       "      <td>Larceny - All Other</td>\n",
       "      <td>202500027763</td>\n",
       "      <td>300</td>\n",
       "      <td>11TH ST NW</td>\n",
       "      <td>CPD</td>\n",
       "      <td>1855</td>\n",
       "      <td>Bentz, Benjamin</td>\n",
       "      <td>2025-08-06 18:55:16</td>\n",
       "      <td>2025-08-06 06:55:16 PM</td>\n",
       "      <td>Wednesday</td>\n",
       "      <td>False</td>\n",
       "      <td>Summer</td>\n",
       "      <td>06:55 PM</td>\n",
       "      <td>Evening</td>\n",
       "      <td>300 11TH ST NW</td>\n",
       "      <td>38.035848</td>\n",
       "      <td>-78.494982</td>\n",
       "      <td>Venable</td>\n",
       "      <td>22903</td>\n",
       "    </tr>\n",
       "    <tr>\n",
       "      <th>3</th>\n",
       "      <td>4</td>\n",
       "      <td>Assist Citizen - Mental/TDO/ECO</td>\n",
       "      <td>202500027757</td>\n",
       "      <td>800</td>\n",
       "      <td>ST CLAIR AVE</td>\n",
       "      <td>CPD</td>\n",
       "      <td>1742</td>\n",
       "      <td>Urban, Jacob</td>\n",
       "      <td>2025-08-06 17:42:55</td>\n",
       "      <td>2025-08-06 05:42:55 PM</td>\n",
       "      <td>Wednesday</td>\n",
       "      <td>False</td>\n",
       "      <td>Summer</td>\n",
       "      <td>05:42 PM</td>\n",
       "      <td>Evening</td>\n",
       "      <td>800 ST CLAIR AVE</td>\n",
       "      <td>38.034619</td>\n",
       "      <td>-78.466916</td>\n",
       "      <td>Martha Jefferson</td>\n",
       "      <td>22901</td>\n",
       "    </tr>\n",
       "    <tr>\n",
       "      <th>4</th>\n",
       "      <td>5</td>\n",
       "      <td>Hit and Run</td>\n",
       "      <td>202500027753</td>\n",
       "      <td>700</td>\n",
       "      <td>E MARKET ST, A</td>\n",
       "      <td>CPD</td>\n",
       "      <td>1723</td>\n",
       "      <td>Ritter, Kobe</td>\n",
       "      <td>2025-08-06 17:23:51</td>\n",
       "      <td>2025-08-06 05:23:51 PM</td>\n",
       "      <td>Wednesday</td>\n",
       "      <td>False</td>\n",
       "      <td>Summer</td>\n",
       "      <td>05:23 PM</td>\n",
       "      <td>Evening</td>\n",
       "      <td>700 E MARKET ST, A</td>\n",
       "      <td>NaN</td>\n",
       "      <td>NaN</td>\n",
       "      <td>N/A</td>\n",
       "      <td>N/A</td>\n",
       "    </tr>\n",
       "  </tbody>\n",
       "</table>\n",
       "</div>"
      ],
      "text/plain": [
       "   RecordID                          Offense    IncidentID BlockNumber  \\\n",
       "0         1              Suspicious Activity  202500027781         400   \n",
       "1         2               Drug Investigation  202500027777         200   \n",
       "2         3              Larceny - All Other  202500027763         300   \n",
       "3         4  Assist Citizen - Mental/TDO/ECO  202500027757         800   \n",
       "4         5                      Hit and Run  202500027753         700   \n",
       "\n",
       "          StreetName Agency HourReported    ReportingOfficer  \\\n",
       "0          E MAIN ST    CPD         2125  Huber, Christopher   \n",
       "1  RIDGE MCINTIRE RD    CPD         2027        Urban, Jacob   \n",
       "2         11TH ST NW    CPD         1855    Bentz, Benjamin    \n",
       "3       ST CLAIR AVE    CPD         1742        Urban, Jacob   \n",
       "4     E MARKET ST, A    CPD         1723        Ritter, Kobe   \n",
       "\n",
       "                 Date              DateString  DayOfWeek  Weekend  Season  \\\n",
       "0 2025-08-06 21:25:23  2025-08-06 09:25:23 PM  Wednesday    False  Summer   \n",
       "1 2025-08-06 20:27:55  2025-08-06 08:27:55 PM  Wednesday    False  Summer   \n",
       "2 2025-08-06 18:55:16  2025-08-06 06:55:16 PM  Wednesday    False  Summer   \n",
       "3 2025-08-06 17:42:55  2025-08-06 05:42:55 PM  Wednesday    False  Summer   \n",
       "4 2025-08-06 17:23:51  2025-08-06 05:23:51 PM  Wednesday    False  Summer   \n",
       "\n",
       "   HourAMPM TimeOfDay             FullStreet        lat        lon  \\\n",
       "0  09:25 PM     Night          400 E MAIN ST  38.029770 -78.479257   \n",
       "1  08:27 PM   Evening  200 RIDGE MCINTIRE RD  38.031221 -78.483889   \n",
       "2  06:55 PM   Evening         300 11TH ST NW  38.035848 -78.494982   \n",
       "3  05:42 PM   Evening       800 ST CLAIR AVE  38.034619 -78.466916   \n",
       "4  05:23 PM   Evening     700 E MARKET ST, A        NaN        NaN   \n",
       "\n",
       "       neighborhood    zip  \n",
       "0     Downtown Mall  22902  \n",
       "1     Downtown Mall  22903  \n",
       "2           Venable  22903  \n",
       "3  Martha Jefferson  22901  \n",
       "4               N/A    N/A  "
      ]
     },
     "execution_count": 11,
     "metadata": {},
     "output_type": "execute_result"
    }
   ],
   "source": [
    "# Initialize the geocoder.\n",
    "geolocator = Nominatim(user_agent=\"zip_lookup\")\n",
    "\n",
    "# Try to load a persistent ZIP cache if available.\n",
    "try:\n",
    "    with open(\"zip_cache.pkl\", \"rb\") as f:\n",
    "        zip_cache = pickle.load(f)\n",
    "    print(\"Loaded zip cache.\")\n",
    "except FileNotFoundError:\n",
    "    zip_cache = {}\n",
    "    print(\"No zip cache found; starting fresh.\")\n",
    "\n",
    "def get_zip(lat, lon):\n",
    "    \"\"\"\n",
    "    Reverse geocodes a latitude and longitude to retrieve the ZIP code.\n",
    "    Caches results to speed up subsequent lookups.\n",
    "    \"\"\"\n",
    "    key = (lat, lon)\n",
    "    if key in zip_cache:\n",
    "        return zip_cache[key]\n",
    "    \n",
    "    try:\n",
    "        location = geolocator.reverse((lat, lon), exactly_one=True, timeout=10)\n",
    "        address = location.raw.get('address', {})\n",
    "        postal_code = address.get('postcode', \"N/A\")\n",
    "    except Exception as e:\n",
    "        print(f\"Error getting ZIP for {lat}, {lon}: {e}\")\n",
    "        postal_code = \"N/A\"\n",
    "    \n",
    "    zip_cache[key] = postal_code\n",
    "    # Pause to respect the usage policy.\n",
    "    time.sleep(1)\n",
    "    return postal_code\n",
    "\n",
    "# Apply the function to each row in the DataFrame.\n",
    "df['zip'] = df.apply(lambda row: get_zip(row['lat'], row['lon']), axis=1)\n",
    "\n",
    "# Save the updated ZIP cache.\n",
    "with open(\"zip_cache.pkl\", \"wb\") as f:\n",
    "    pickle.dump(zip_cache, f)\n",
    "\n",
    "df.head()\n"
   ]
  },
  {
   "cell_type": "code",
   "execution_count": 12,
   "id": "f287495d",
   "metadata": {
    "execution": {
     "iopub.execute_input": "2025-08-09T01:07:29.795959Z",
     "iopub.status.busy": "2025-08-09T01:07:29.795682Z",
     "iopub.status.idle": "2025-08-09T01:07:29.829381Z",
     "shell.execute_reply": "2025-08-09T01:07:29.828676Z"
    },
    "papermill": {
     "duration": 0.045089,
     "end_time": "2025-08-09T01:07:29.830453",
     "exception": false,
     "start_time": "2025-08-09T01:07:29.785364",
     "status": "completed"
    },
    "tags": []
   },
   "outputs": [
    {
     "name": "stdout",
     "output_type": "stream",
     "text": [
      "                  MissingCount  MissingPercentage\n",
      "RecordID                     0               0.00\n",
      "Offense                      0               0.00\n",
      "IncidentID                   0               0.00\n",
      "BlockNumber                  0               0.00\n",
      "StreetName                   0               0.00\n",
      "Agency                       0               0.00\n",
      "HourReported                 0               0.00\n",
      "ReportingOfficer            15               0.06\n",
      "Date                         0               0.00\n",
      "DateString                   0               0.00\n",
      "DayOfWeek                    0               0.00\n",
      "Weekend                      0               0.00\n",
      "Season                       0               0.00\n",
      "HourAMPM                     0               0.00\n",
      "TimeOfDay                    0               0.00\n",
      "FullStreet                   0               0.00\n",
      "lat                         90               0.35\n",
      "lon                         90               0.35\n",
      "neighborhood                 0               0.00\n",
      "zip                          0               0.00\n"
     ]
    }
   ],
   "source": [
    "missing_info = missing_percentage(df)\n",
    "print(missing_info)\n"
   ]
  },
  {
   "cell_type": "code",
   "execution_count": 13,
   "id": "2416b164",
   "metadata": {
    "execution": {
     "iopub.execute_input": "2025-08-09T01:07:29.851601Z",
     "iopub.status.busy": "2025-08-09T01:07:29.851334Z",
     "iopub.status.idle": "2025-08-09T01:07:29.885442Z",
     "shell.execute_reply": "2025-08-09T01:07:29.884859Z"
    },
    "papermill": {
     "duration": 0.045588,
     "end_time": "2025-08-09T01:07:29.886519",
     "exception": false,
     "start_time": "2025-08-09T01:07:29.840931",
     "status": "completed"
    },
    "tags": []
   },
   "outputs": [
    {
     "name": "stdout",
     "output_type": "stream",
     "text": [
      "<class 'pandas.core.frame.DataFrame'>\n",
      "RangeIndex: 25640 entries, 0 to 25639\n",
      "Data columns (total 20 columns):\n",
      " #   Column            Non-Null Count  Dtype         \n",
      "---  ------            --------------  -----         \n",
      " 0   RecordID          25640 non-null  int64         \n",
      " 1   Offense           25640 non-null  object        \n",
      " 2   IncidentID        25640 non-null  object        \n",
      " 3   BlockNumber       25640 non-null  object        \n",
      " 4   StreetName        25640 non-null  object        \n",
      " 5   Agency            25640 non-null  object        \n",
      " 6   HourReported      25640 non-null  object        \n",
      " 7   ReportingOfficer  25625 non-null  object        \n",
      " 8   Date              25640 non-null  datetime64[ns]\n",
      " 9   DateString        25640 non-null  object        \n",
      " 10  DayOfWeek         25640 non-null  object        \n",
      " 11  Weekend           25640 non-null  bool          \n",
      " 12  Season            25640 non-null  object        \n",
      " 13  HourAMPM          25640 non-null  object        \n",
      " 14  TimeOfDay         25640 non-null  object        \n",
      " 15  FullStreet        25640 non-null  object        \n",
      " 16  lat               25550 non-null  float64       \n",
      " 17  lon               25550 non-null  float64       \n",
      " 18  neighborhood      25640 non-null  object        \n",
      " 19  zip               25640 non-null  object        \n",
      "dtypes: bool(1), datetime64[ns](1), float64(2), int64(1), object(15)\n",
      "memory usage: 3.7+ MB\n"
     ]
    }
   ],
   "source": [
    "df.info()"
   ]
  },
  {
   "cell_type": "code",
   "execution_count": 14,
   "id": "12b596f4",
   "metadata": {
    "execution": {
     "iopub.execute_input": "2025-08-09T01:07:29.907884Z",
     "iopub.status.busy": "2025-08-09T01:07:29.907643Z",
     "iopub.status.idle": "2025-08-09T01:07:29.952495Z",
     "shell.execute_reply": "2025-08-09T01:07:29.951777Z"
    },
    "papermill": {
     "duration": 0.056627,
     "end_time": "2025-08-09T01:07:29.953809",
     "exception": false,
     "start_time": "2025-08-09T01:07:29.897182",
     "status": "completed"
    },
    "tags": []
   },
   "outputs": [
    {
     "data": {
      "text/html": [
       "<div>\n",
       "<style scoped>\n",
       "    .dataframe tbody tr th:only-of-type {\n",
       "        vertical-align: middle;\n",
       "    }\n",
       "\n",
       "    .dataframe tbody tr th {\n",
       "        vertical-align: top;\n",
       "    }\n",
       "\n",
       "    .dataframe thead th {\n",
       "        text-align: right;\n",
       "    }\n",
       "</style>\n",
       "<table border=\"1\" class=\"dataframe\">\n",
       "  <thead>\n",
       "    <tr style=\"text-align: right;\">\n",
       "      <th></th>\n",
       "      <th>RecordID</th>\n",
       "      <th>Offense</th>\n",
       "      <th>IncidentID</th>\n",
       "      <th>Agency</th>\n",
       "      <th>ReportingOfficer</th>\n",
       "      <th>Date</th>\n",
       "      <th>DayOfWeek</th>\n",
       "      <th>Weekend</th>\n",
       "      <th>Season</th>\n",
       "      <th>TimeOfDay</th>\n",
       "      <th>FullStreet</th>\n",
       "      <th>lat</th>\n",
       "      <th>lon</th>\n",
       "      <th>neighborhood</th>\n",
       "      <th>zip</th>\n",
       "    </tr>\n",
       "  </thead>\n",
       "  <tbody>\n",
       "    <tr>\n",
       "      <th>0</th>\n",
       "      <td>1</td>\n",
       "      <td>Suspicious Activity</td>\n",
       "      <td>202500027781</td>\n",
       "      <td>CPD</td>\n",
       "      <td>Huber, Christopher</td>\n",
       "      <td>2025-08-06 21:25:23</td>\n",
       "      <td>Wednesday</td>\n",
       "      <td>False</td>\n",
       "      <td>Summer</td>\n",
       "      <td>Night</td>\n",
       "      <td>400 E MAIN ST</td>\n",
       "      <td>38.02977</td>\n",
       "      <td>-78.479257</td>\n",
       "      <td>Downtown Mall</td>\n",
       "      <td>22902</td>\n",
       "    </tr>\n",
       "    <tr>\n",
       "      <th>1</th>\n",
       "      <td>2</td>\n",
       "      <td>Drug Investigation</td>\n",
       "      <td>202500027777</td>\n",
       "      <td>CPD</td>\n",
       "      <td>Urban, Jacob</td>\n",
       "      <td>2025-08-06 20:27:55</td>\n",
       "      <td>Wednesday</td>\n",
       "      <td>False</td>\n",
       "      <td>Summer</td>\n",
       "      <td>Evening</td>\n",
       "      <td>200 RIDGE MCINTIRE RD</td>\n",
       "      <td>38.031221</td>\n",
       "      <td>-78.483889</td>\n",
       "      <td>Downtown Mall</td>\n",
       "      <td>22903</td>\n",
       "    </tr>\n",
       "    <tr>\n",
       "      <th>2</th>\n",
       "      <td>3</td>\n",
       "      <td>Larceny - All Other</td>\n",
       "      <td>202500027763</td>\n",
       "      <td>CPD</td>\n",
       "      <td>Bentz, Benjamin</td>\n",
       "      <td>2025-08-06 18:55:16</td>\n",
       "      <td>Wednesday</td>\n",
       "      <td>False</td>\n",
       "      <td>Summer</td>\n",
       "      <td>Evening</td>\n",
       "      <td>300 11TH ST NW</td>\n",
       "      <td>38.035848</td>\n",
       "      <td>-78.494982</td>\n",
       "      <td>Venable</td>\n",
       "      <td>22903</td>\n",
       "    </tr>\n",
       "    <tr>\n",
       "      <th>3</th>\n",
       "      <td>4</td>\n",
       "      <td>Assist Citizen - Mental/TDO/ECO</td>\n",
       "      <td>202500027757</td>\n",
       "      <td>CPD</td>\n",
       "      <td>Urban, Jacob</td>\n",
       "      <td>2025-08-06 17:42:55</td>\n",
       "      <td>Wednesday</td>\n",
       "      <td>False</td>\n",
       "      <td>Summer</td>\n",
       "      <td>Evening</td>\n",
       "      <td>800 ST CLAIR AVE</td>\n",
       "      <td>38.034619</td>\n",
       "      <td>-78.466916</td>\n",
       "      <td>Martha Jefferson</td>\n",
       "      <td>22901</td>\n",
       "    </tr>\n",
       "    <tr>\n",
       "      <th>4</th>\n",
       "      <td>5</td>\n",
       "      <td>Hit and Run</td>\n",
       "      <td>202500027753</td>\n",
       "      <td>CPD</td>\n",
       "      <td>Ritter, Kobe</td>\n",
       "      <td>2025-08-06 17:23:51</td>\n",
       "      <td>Wednesday</td>\n",
       "      <td>False</td>\n",
       "      <td>Summer</td>\n",
       "      <td>Evening</td>\n",
       "      <td>700 E MARKET ST, A</td>\n",
       "      <td>N/A</td>\n",
       "      <td>N/A</td>\n",
       "      <td>N/A</td>\n",
       "      <td>N/A</td>\n",
       "    </tr>\n",
       "  </tbody>\n",
       "</table>\n",
       "</div>"
      ],
      "text/plain": [
       "   RecordID                          Offense    IncidentID Agency  \\\n",
       "0         1              Suspicious Activity  202500027781    CPD   \n",
       "1         2               Drug Investigation  202500027777    CPD   \n",
       "2         3              Larceny - All Other  202500027763    CPD   \n",
       "3         4  Assist Citizen - Mental/TDO/ECO  202500027757    CPD   \n",
       "4         5                      Hit and Run  202500027753    CPD   \n",
       "\n",
       "     ReportingOfficer                Date  DayOfWeek  Weekend  Season  \\\n",
       "0  Huber, Christopher 2025-08-06 21:25:23  Wednesday    False  Summer   \n",
       "1        Urban, Jacob 2025-08-06 20:27:55  Wednesday    False  Summer   \n",
       "2    Bentz, Benjamin  2025-08-06 18:55:16  Wednesday    False  Summer   \n",
       "3        Urban, Jacob 2025-08-06 17:42:55  Wednesday    False  Summer   \n",
       "4        Ritter, Kobe 2025-08-06 17:23:51  Wednesday    False  Summer   \n",
       "\n",
       "  TimeOfDay             FullStreet        lat        lon      neighborhood  \\\n",
       "0     Night          400 E MAIN ST   38.02977 -78.479257     Downtown Mall   \n",
       "1   Evening  200 RIDGE MCINTIRE RD  38.031221 -78.483889     Downtown Mall   \n",
       "2   Evening         300 11TH ST NW  38.035848 -78.494982           Venable   \n",
       "3   Evening       800 ST CLAIR AVE  38.034619 -78.466916  Martha Jefferson   \n",
       "4   Evening     700 E MARKET ST, A        N/A        N/A               N/A   \n",
       "\n",
       "     zip  \n",
       "0  22902  \n",
       "1  22903  \n",
       "2  22903  \n",
       "3  22901  \n",
       "4    N/A  "
      ]
     },
     "execution_count": 14,
     "metadata": {},
     "output_type": "execute_result"
    }
   ],
   "source": [
    "# Now drop the original BlockNumber and StreetName columns\n",
    "df.drop(columns=['BlockNumber', 'StreetName','HourAMPM','HourReported','DateString'], inplace=True)\n",
    "df[\"zip\"] = df[\"zip\"].astype(str)\n",
    "\n",
    "# Fill all missing values in the DataFrame with \"N/A\"\n",
    "df.replace({None: \"N/A\", np.nan: \"N/A\", \"\": \"N/A\"}, inplace=True)\n",
    "df.head()"
   ]
  },
  {
   "cell_type": "code",
   "execution_count": 15,
   "id": "6543881b",
   "metadata": {
    "execution": {
     "iopub.execute_input": "2025-08-09T01:07:29.975471Z",
     "iopub.status.busy": "2025-08-09T01:07:29.975195Z",
     "iopub.status.idle": "2025-08-09T01:07:29.996539Z",
     "shell.execute_reply": "2025-08-09T01:07:29.995951Z"
    },
    "papermill": {
     "duration": 0.033005,
     "end_time": "2025-08-09T01:07:29.997572",
     "exception": false,
     "start_time": "2025-08-09T01:07:29.964567",
     "status": "completed"
    },
    "tags": []
   },
   "outputs": [
    {
     "name": "stdout",
     "output_type": "stream",
     "text": [
      "                  MissingCount  MissingPercentage\n",
      "RecordID                     0                0.0\n",
      "Offense                      0                0.0\n",
      "IncidentID                   0                0.0\n",
      "Agency                       0                0.0\n",
      "ReportingOfficer             0                0.0\n",
      "Date                         0                0.0\n",
      "DayOfWeek                    0                0.0\n",
      "Weekend                      0                0.0\n",
      "Season                       0                0.0\n",
      "TimeOfDay                    0                0.0\n",
      "FullStreet                   0                0.0\n",
      "lat                          0                0.0\n",
      "lon                          0                0.0\n",
      "neighborhood                 0                0.0\n",
      "zip                          0                0.0\n"
     ]
    }
   ],
   "source": [
    "missing_info = missing_percentage(df)\n",
    "print(missing_info)"
   ]
  },
  {
   "cell_type": "code",
   "execution_count": 16,
   "id": "0361908b",
   "metadata": {
    "execution": {
     "iopub.execute_input": "2025-08-09T01:07:30.019243Z",
     "iopub.status.busy": "2025-08-09T01:07:30.019025Z",
     "iopub.status.idle": "2025-08-09T01:07:30.023369Z",
     "shell.execute_reply": "2025-08-09T01:07:30.022715Z"
    },
    "papermill": {
     "duration": 0.016326,
     "end_time": "2025-08-09T01:07:30.024412",
     "exception": false,
     "start_time": "2025-08-09T01:07:30.008086",
     "status": "completed"
    },
    "tags": []
   },
   "outputs": [
    {
     "data": {
      "text/plain": [
       "Index(['RecordID', 'Offense', 'IncidentID', 'Agency', 'ReportingOfficer',\n",
       "       'Date', 'DayOfWeek', 'Weekend', 'Season', 'TimeOfDay', 'FullStreet',\n",
       "       'lat', 'lon', 'neighborhood', 'zip'],\n",
       "      dtype='object')"
      ]
     },
     "execution_count": 16,
     "metadata": {},
     "output_type": "execute_result"
    }
   ],
   "source": [
    "df.columns"
   ]
  },
  {
   "cell_type": "code",
   "execution_count": 17,
   "id": "6cd3fc96",
   "metadata": {
    "execution": {
     "iopub.execute_input": "2025-08-09T01:07:30.045517Z",
     "iopub.status.busy": "2025-08-09T01:07:30.045331Z",
     "iopub.status.idle": "2025-08-09T01:07:30.071379Z",
     "shell.execute_reply": "2025-08-09T01:07:30.070765Z"
    },
    "papermill": {
     "duration": 0.038013,
     "end_time": "2025-08-09T01:07:30.072672",
     "exception": false,
     "start_time": "2025-08-09T01:07:30.034659",
     "status": "completed"
    },
    "tags": []
   },
   "outputs": [
    {
     "name": "stdout",
     "output_type": "stream",
     "text": [
      "<class 'pandas.core.frame.DataFrame'>\n",
      "RangeIndex: 25640 entries, 0 to 25639\n",
      "Data columns (total 15 columns):\n",
      " #   Column            Non-Null Count  Dtype         \n",
      "---  ------            --------------  -----         \n",
      " 0   RecordID          25640 non-null  int64         \n",
      " 1   Offense           25640 non-null  object        \n",
      " 2   IncidentID        25640 non-null  object        \n",
      " 3   Agency            25640 non-null  object        \n",
      " 4   ReportingOfficer  25640 non-null  object        \n",
      " 5   Date              25640 non-null  datetime64[ns]\n",
      " 6   DayOfWeek         25640 non-null  object        \n",
      " 7   Weekend           25640 non-null  bool          \n",
      " 8   Season            25640 non-null  object        \n",
      " 9   TimeOfDay         25640 non-null  object        \n",
      " 10  FullStreet        25640 non-null  object        \n",
      " 11  lat               25640 non-null  object        \n",
      " 12  lon               25640 non-null  object        \n",
      " 13  neighborhood      25640 non-null  object        \n",
      " 14  zip               25640 non-null  object        \n",
      "dtypes: bool(1), datetime64[ns](1), int64(1), object(12)\n",
      "memory usage: 2.8+ MB\n"
     ]
    }
   ],
   "source": [
    "df.info()"
   ]
  },
  {
   "cell_type": "markdown",
   "id": "07d9e7c9",
   "metadata": {
    "papermill": {
     "duration": 0.010293,
     "end_time": "2025-08-09T01:07:30.093889",
     "exception": false,
     "start_time": "2025-08-09T01:07:30.083596",
     "status": "completed"
    },
    "tags": []
   },
   "source": [
    "### Export Clean Data"
   ]
  },
  {
   "cell_type": "code",
   "execution_count": 18,
   "id": "a14801e4",
   "metadata": {
    "execution": {
     "iopub.execute_input": "2025-08-09T01:07:30.115432Z",
     "iopub.status.busy": "2025-08-09T01:07:30.115200Z",
     "iopub.status.idle": "2025-08-09T01:07:39.611406Z",
     "shell.execute_reply": "2025-08-09T01:07:39.610787Z"
    },
    "papermill": {
     "duration": 9.508326,
     "end_time": "2025-08-09T01:07:39.612558",
     "exception": false,
     "start_time": "2025-08-09T01:07:30.104232",
     "status": "completed"
    },
    "tags": []
   },
   "outputs": [
    {
     "name": "stdout",
     "output_type": "stream",
     "text": [
      "Project Root: /home/runner/work/crime-data/crime-data\n"
     ]
    },
    {
     "name": "stdout",
     "output_type": "stream",
     "text": [
      "Data saved to: /home/runner/work/crime-data/crime-data/data/charlottesville_crime_incidents.csv\n"
     ]
    },
    {
     "name": "stdout",
     "output_type": "stream",
     "text": [
      "Excel saved to: /home/runner/work/crime-data/crime-data/data/charlottesville_crime_incidents.xlsx\n"
     ]
    }
   ],
   "source": [
    "# Determine the project root (assuming papermill is run from the repository root)\n",
    "project_root = os.getcwd()\n",
    "print(\"Project Root:\", project_root)\n",
    "\n",
    "# Set the data directory within the project root\n",
    "data_dir = os.path.join(project_root, \"data\")\n",
    "\n",
    "# Ensure the \"data\" directory exists (create it if it doesn't)\n",
    "if not os.path.exists(data_dir):\n",
    "    os.makedirs(data_dir)\n",
    "\n",
    "# Export the DataFrame to CSV in the \"data\" folder located in the project root\n",
    "csv_path = os.path.join(data_dir, \"charlottesville_crime_incidents.csv\")\n",
    "df.to_csv(csv_path, index=False)\n",
    "print(\"Data saved to:\", csv_path)\n",
    "\n",
    "# Construct the path to your Excel file\n",
    "excel_path = os.path.join(data_dir, \"charlottesville_crime_incidents.xlsx\")\n",
    "\n",
    "# Export the DataFrame to Excel\n",
    "df.to_excel(excel_path, index=False)\n",
    "print(\"Excel saved to:\", excel_path)\n"
   ]
  }
 ],
 "metadata": {
  "kernelspec": {
   "display_name": "Python 3",
   "language": "python",
   "name": "python3"
  },
  "language_info": {
   "codemirror_mode": {
    "name": "ipython",
    "version": 3
   },
   "file_extension": ".py",
   "mimetype": "text/x-python",
   "name": "python",
   "nbconvert_exporter": "python",
   "pygments_lexer": "ipython3",
   "version": "3.9.23"
  },
  "papermill": {
   "default_parameters": {},
   "duration": 176.558972,
   "end_time": "2025-08-09T01:07:40.139672",
   "environment_variables": {},
   "exception": null,
   "input_path": "notebook/Crime Data.ipynb",
   "output_path": "notebook/Crime Data_output.ipynb",
   "parameters": {},
   "start_time": "2025-08-09T01:04:43.580700",
   "version": "2.6.0"
  }
 },
 "nbformat": 4,
 "nbformat_minor": 5
}