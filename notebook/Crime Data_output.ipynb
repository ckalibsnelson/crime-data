{
 "cells": [
  {
   "cell_type": "markdown",
   "id": "7e08baf0",
   "metadata": {
    "papermill": {
     "duration": 0.006011,
     "end_time": "2025-05-14T01:02:22.590663",
     "exception": false,
     "start_time": "2025-05-14T01:02:22.584652",
     "status": "completed"
    },
    "tags": []
   },
   "source": [
    "# Charlottesville Open Data Porttal: Crime Data"
   ]
  },
  {
   "cell_type": "markdown",
   "id": "6e9d4ff1",
   "metadata": {
    "papermill": {
     "duration": 0.005049,
     "end_time": "2025-05-14T01:02:22.601140",
     "exception": false,
     "start_time": "2025-05-14T01:02:22.596091",
     "status": "completed"
    },
    "tags": []
   },
   "source": [
    "## Import Relevant Librarires & Set WD"
   ]
  },
  {
   "cell_type": "code",
   "execution_count": 1,
   "id": "6193d035",
   "metadata": {
    "execution": {
     "iopub.execute_input": "2025-05-14T01:02:22.612846Z",
     "iopub.status.busy": "2025-05-14T01:02:22.612235Z",
     "iopub.status.idle": "2025-05-14T01:02:23.170024Z",
     "shell.execute_reply": "2025-05-14T01:02:23.169314Z"
    },
    "papermill": {
     "duration": 0.56509,
     "end_time": "2025-05-14T01:02:23.171318",
     "exception": false,
     "start_time": "2025-05-14T01:02:22.606228",
     "status": "completed"
    },
    "tags": []
   },
   "outputs": [],
   "source": [
    "import requests\n",
    "import pandas as pd\n",
    "import numpy as np\n",
    "import pickle\n",
    "import googlemaps\n",
    "import plotly.express as px\n",
    "from geopy.geocoders import Nominatim\n",
    "import time\n",
    "from dotenv import load_dotenv\n",
    "import os\n",
    "\n",
    "env_path = os.path.join(\"..\", \".env\")\n",
    "#print(\"Looking for .env file at:\", os.path.abspath(env_path))\n",
    "load_dotenv(dotenv_path=env_path)\n",
    "\n",
    "# Retrieve the variables\n",
    "GOOGLE_API_KEY = os.getenv(\"GOOGLE_API_KEY\")\n",
    "WORKING_DIR = os.getenv(\"WORKING_DIR\")\n",
    "\n",
    "if GOOGLE_API_KEY is None or WORKING_DIR is None:\n",
    "    raise RuntimeError(\"No configuration found. Please ensure that your .env file exists with the required variables, or create a local config.py file.\")\n",
    "\n",
    "#print(\"Google API Key:\", GOOGLE_API_KEY)\n",
    "#print(\"Working Directory:\", WORKING_DIR)"
   ]
  },
  {
   "cell_type": "markdown",
   "id": "59a7a441",
   "metadata": {
    "papermill": {
     "duration": 0.00502,
     "end_time": "2025-05-14T01:02:23.181847",
     "exception": false,
     "start_time": "2025-05-14T01:02:23.176827",
     "status": "completed"
    },
    "tags": []
   },
   "source": [
    "## Import Data\n",
    "\n",
    "URL: https://opendata.charlottesville.org/datasets/charlottesville::crime-data/about"
   ]
  },
  {
   "cell_type": "code",
   "execution_count": 2,
   "id": "e085bf00",
   "metadata": {
    "execution": {
     "iopub.execute_input": "2025-05-14T01:02:23.193100Z",
     "iopub.status.busy": "2025-05-14T01:02:23.192659Z",
     "iopub.status.idle": "2025-05-14T01:03:25.603842Z",
     "shell.execute_reply": "2025-05-14T01:03:25.603132Z"
    },
    "papermill": {
     "duration": 62.422367,
     "end_time": "2025-05-14T01:03:25.609273",
     "exception": false,
     "start_time": "2025-05-14T01:02:23.186906",
     "status": "completed"
    },
    "tags": []
   },
   "outputs": [
    {
     "name": "stdout",
     "output_type": "stream",
     "text": [
      "Total records imported: 25381\n"
     ]
    }
   ],
   "source": [
    "# Define the endpoint and initial parameters.\n",
    "url = \"https://gisweb.charlottesville.org/arcgis/rest/services/OpenData_2/MapServer/6/query\"\n",
    "params = {\n",
    "    \"where\": \"1=1\",\n",
    "    \"outFields\": \"*\",\n",
    "    \"outSR\": 4326,\n",
    "    \"f\": \"json\",\n",
    "    \"resultOffset\": 0,       # Starting index for results\n",
    "    \"resultRecordCount\": 10000  # Maximum records per batch (if allowed by the API)\n",
    "}\n",
    "\n",
    "records = []\n",
    "\n",
    "while True:\n",
    "    response = requests.get(url, params=params)\n",
    "    response.raise_for_status()\n",
    "    data = response.json()\n",
    "    \n",
    "    # Get the current batch of features.\n",
    "    features = data.get(\"features\", [])\n",
    "    if not features:\n",
    "        break\n",
    "\n",
    "    # Extract the attributes from the features.\n",
    "    batch_records = [feature.get(\"attributes\", {}) for feature in features]\n",
    "    records.extend(batch_records)\n",
    "    \n",
    "    # If the batch size is less than the requested count, we reached the end.\n",
    "    if len(features) < params[\"resultRecordCount\"]:\n",
    "        break\n",
    "\n",
    "    # Update the resultOffset for the next batch.\n",
    "    params[\"resultOffset\"] += params[\"resultRecordCount\"]\n",
    "\n",
    "# Create a DataFrame from the combined records.\n",
    "df = pd.DataFrame(records)\n",
    "print(\"Total records imported:\", len(df))\n"
   ]
  },
  {
   "cell_type": "code",
   "execution_count": 3,
   "id": "4692bb59",
   "metadata": {
    "execution": {
     "iopub.execute_input": "2025-05-14T01:03:25.621455Z",
     "iopub.status.busy": "2025-05-14T01:03:25.621022Z",
     "iopub.status.idle": "2025-05-14T01:03:25.633256Z",
     "shell.execute_reply": "2025-05-14T01:03:25.632641Z"
    },
    "papermill": {
     "duration": 0.019568,
     "end_time": "2025-05-14T01:03:25.634199",
     "exception": false,
     "start_time": "2025-05-14T01:03:25.614631",
     "status": "completed"
    },
    "tags": []
   },
   "outputs": [
    {
     "data": {
      "text/html": [
       "<div>\n",
       "<style scoped>\n",
       "    .dataframe tbody tr th:only-of-type {\n",
       "        vertical-align: middle;\n",
       "    }\n",
       "\n",
       "    .dataframe tbody tr th {\n",
       "        vertical-align: top;\n",
       "    }\n",
       "\n",
       "    .dataframe thead th {\n",
       "        text-align: right;\n",
       "    }\n",
       "</style>\n",
       "<table border=\"1\" class=\"dataframe\">\n",
       "  <thead>\n",
       "    <tr style=\"text-align: right;\">\n",
       "      <th></th>\n",
       "      <th>RecordID</th>\n",
       "      <th>Offense</th>\n",
       "      <th>IncidentID</th>\n",
       "      <th>BlockNumber</th>\n",
       "      <th>StreetName</th>\n",
       "      <th>Agency</th>\n",
       "      <th>DateReported</th>\n",
       "      <th>HourReported</th>\n",
       "      <th>ReportingOfficer</th>\n",
       "    </tr>\n",
       "  </thead>\n",
       "  <tbody>\n",
       "    <tr>\n",
       "      <th>0</th>\n",
       "      <td>1</td>\n",
       "      <td>Burglary</td>\n",
       "      <td>202500015944</td>\n",
       "      <td>1000</td>\n",
       "      <td>MONTROSE AVE, B</td>\n",
       "      <td>CPD</td>\n",
       "      <td>1747004009000</td>\n",
       "      <td>1853</td>\n",
       "      <td>Benbow, Lauren</td>\n",
       "    </tr>\n",
       "    <tr>\n",
       "      <th>1</th>\n",
       "      <td>2</td>\n",
       "      <td>Larceny - Theft from Building</td>\n",
       "      <td>202500015916</td>\n",
       "      <td>2100</td>\n",
       "      <td>ARLINGTON BLVD</td>\n",
       "      <td>CPD</td>\n",
       "      <td>1746986193000</td>\n",
       "      <td>1356</td>\n",
       "      <td>Brannon, Devin</td>\n",
       "    </tr>\n",
       "    <tr>\n",
       "      <th>2</th>\n",
       "      <td>3</td>\n",
       "      <td>Larceny - From Motor Vehicle</td>\n",
       "      <td>202500015914</td>\n",
       "      <td>800</td>\n",
       "      <td>W MAIN ST, 401</td>\n",
       "      <td>CPD</td>\n",
       "      <td>1746985070000</td>\n",
       "      <td>1337</td>\n",
       "      <td>O'Briant, Landon</td>\n",
       "    </tr>\n",
       "    <tr>\n",
       "      <th>3</th>\n",
       "      <td>4</td>\n",
       "      <td>Animal Complaint</td>\n",
       "      <td>202500015907</td>\n",
       "      <td></td>\n",
       "      <td>LOCUST LN / MEGAN CT</td>\n",
       "      <td>CPD</td>\n",
       "      <td>1746976727000</td>\n",
       "      <td>1118</td>\n",
       "      <td>Brannon, Devin</td>\n",
       "    </tr>\n",
       "    <tr>\n",
       "      <th>4</th>\n",
       "      <td>5</td>\n",
       "      <td>Lost/FoundProperty</td>\n",
       "      <td>202500015897</td>\n",
       "      <td>200</td>\n",
       "      <td>E WATER ST</td>\n",
       "      <td>CPD</td>\n",
       "      <td>1746964407000</td>\n",
       "      <td>0753</td>\n",
       "      <td>Kirby, Tyree</td>\n",
       "    </tr>\n",
       "  </tbody>\n",
       "</table>\n",
       "</div>"
      ],
      "text/plain": [
       "   RecordID                        Offense    IncidentID BlockNumber  \\\n",
       "0         1                       Burglary  202500015944        1000   \n",
       "1         2  Larceny - Theft from Building  202500015916        2100   \n",
       "2         3   Larceny - From Motor Vehicle  202500015914         800   \n",
       "3         4               Animal Complaint  202500015907               \n",
       "4         5             Lost/FoundProperty  202500015897         200   \n",
       "\n",
       "             StreetName Agency   DateReported HourReported  ReportingOfficer  \n",
       "0       MONTROSE AVE, B    CPD  1747004009000         1853    Benbow, Lauren  \n",
       "1        ARLINGTON BLVD    CPD  1746986193000         1356    Brannon, Devin  \n",
       "2        W MAIN ST, 401    CPD  1746985070000         1337  O'Briant, Landon  \n",
       "3  LOCUST LN / MEGAN CT    CPD  1746976727000         1118    Brannon, Devin  \n",
       "4            E WATER ST    CPD  1746964407000         0753      Kirby, Tyree  "
      ]
     },
     "execution_count": 3,
     "metadata": {},
     "output_type": "execute_result"
    }
   ],
   "source": [
    "df.head()"
   ]
  },
  {
   "cell_type": "code",
   "execution_count": 4,
   "id": "fbc9910e",
   "metadata": {
    "execution": {
     "iopub.execute_input": "2025-05-14T01:03:25.667678Z",
     "iopub.status.busy": "2025-05-14T01:03:25.667220Z",
     "iopub.status.idle": "2025-05-14T01:03:25.671862Z",
     "shell.execute_reply": "2025-05-14T01:03:25.671213Z"
    },
    "papermill": {
     "duration": 0.033256,
     "end_time": "2025-05-14T01:03:25.672831",
     "exception": false,
     "start_time": "2025-05-14T01:03:25.639575",
     "status": "completed"
    },
    "tags": []
   },
   "outputs": [
    {
     "data": {
      "text/plain": [
       "Index(['RecordID', 'Offense', 'IncidentID', 'BlockNumber', 'StreetName',\n",
       "       'Agency', 'DateReported', 'HourReported', 'ReportingOfficer'],\n",
       "      dtype='object')"
      ]
     },
     "execution_count": 4,
     "metadata": {},
     "output_type": "execute_result"
    }
   ],
   "source": [
    "df.columns"
   ]
  },
  {
   "cell_type": "code",
   "execution_count": 5,
   "id": "efac430a",
   "metadata": {
    "execution": {
     "iopub.execute_input": "2025-05-14T01:03:25.684761Z",
     "iopub.status.busy": "2025-05-14T01:03:25.684300Z",
     "iopub.status.idle": "2025-05-14T01:03:25.708050Z",
     "shell.execute_reply": "2025-05-14T01:03:25.707481Z"
    },
    "papermill": {
     "duration": 0.030623,
     "end_time": "2025-05-14T01:03:25.709042",
     "exception": false,
     "start_time": "2025-05-14T01:03:25.678419",
     "status": "completed"
    },
    "tags": []
   },
   "outputs": [
    {
     "name": "stdout",
     "output_type": "stream",
     "text": [
      "<class 'pandas.core.frame.DataFrame'>\n",
      "RangeIndex: 25381 entries, 0 to 25380\n",
      "Data columns (total 9 columns):\n",
      " #   Column            Non-Null Count  Dtype \n",
      "---  ------            --------------  ----- \n",
      " 0   RecordID          25381 non-null  int64 \n",
      " 1   Offense           25381 non-null  object\n",
      " 2   IncidentID        25381 non-null  object\n",
      " 3   BlockNumber       25381 non-null  object\n",
      " 4   StreetName        25381 non-null  object\n",
      " 5   Agency            25381 non-null  object\n",
      " 6   DateReported      25381 non-null  int64 \n",
      " 7   HourReported      25381 non-null  object\n",
      " 8   ReportingOfficer  25364 non-null  object\n",
      "dtypes: int64(2), object(7)\n",
      "memory usage: 1.7+ MB\n"
     ]
    }
   ],
   "source": [
    "df.info()"
   ]
  },
  {
   "cell_type": "markdown",
   "id": "aabd13b3",
   "metadata": {
    "papermill": {
     "duration": 0.005518,
     "end_time": "2025-05-14T01:03:25.720372",
     "exception": false,
     "start_time": "2025-05-14T01:03:25.714854",
     "status": "completed"
    },
    "tags": []
   },
   "source": [
    "### Missing Values"
   ]
  },
  {
   "cell_type": "code",
   "execution_count": 6,
   "id": "4e392253",
   "metadata": {
    "execution": {
     "iopub.execute_input": "2025-05-14T01:03:25.732545Z",
     "iopub.status.busy": "2025-05-14T01:03:25.732112Z",
     "iopub.status.idle": "2025-05-14T01:03:25.754002Z",
     "shell.execute_reply": "2025-05-14T01:03:25.753337Z"
    },
    "papermill": {
     "duration": 0.029061,
     "end_time": "2025-05-14T01:03:25.754999",
     "exception": false,
     "start_time": "2025-05-14T01:03:25.725938",
     "status": "completed"
    },
    "tags": []
   },
   "outputs": [
    {
     "name": "stdout",
     "output_type": "stream",
     "text": [
      "                  MissingCount  MissingPercentage\n",
      "RecordID                     0               0.00\n",
      "Offense                      0               0.00\n",
      "IncidentID                   0               0.00\n",
      "BlockNumber                  0               0.00\n",
      "StreetName                   0               0.00\n",
      "Agency                       0               0.00\n",
      "DateReported                 0               0.00\n",
      "HourReported                 0               0.00\n",
      "ReportingOfficer            17               0.07\n"
     ]
    }
   ],
   "source": [
    "def missing_percentage(df):\n",
    "    \"\"\"\n",
    "    Returns a DataFrame with the count and percentage of missing values for each column.\n",
    "    \n",
    "    Parameters:\n",
    "        df (pd.DataFrame): The input DataFrame.\n",
    "    \n",
    "    Returns:\n",
    "        pd.DataFrame: A DataFrame with columns 'MissingCount' and 'MissingPercentage'.\n",
    "    \"\"\"\n",
    "    total_rows = len(df)\n",
    "    missing_count = df.isnull().sum()\n",
    "    missing_percent = (missing_count / total_rows) * 100\n",
    "    \n",
    "    result = pd.DataFrame({\n",
    "        'MissingCount': missing_count,\n",
    "        'MissingPercentage': missing_percent.round(2)\n",
    "    })\n",
    "    \n",
    "    return result\n",
    "\n",
    "# Example usage:\n",
    "missing_info = missing_percentage(df)\n",
    "print(missing_info)\n"
   ]
  },
  {
   "cell_type": "markdown",
   "id": "ce643a10",
   "metadata": {
    "papermill": {
     "duration": 0.005658,
     "end_time": "2025-05-14T01:03:25.766452",
     "exception": false,
     "start_time": "2025-05-14T01:03:25.760794",
     "status": "completed"
    },
    "tags": []
   },
   "source": [
    "## Data Preparation"
   ]
  },
  {
   "cell_type": "markdown",
   "id": "aec17376",
   "metadata": {
    "papermill": {
     "duration": 0.005561,
     "end_time": "2025-05-14T01:03:25.777687",
     "exception": false,
     "start_time": "2025-05-14T01:03:25.772126",
     "status": "completed"
    },
    "tags": []
   },
   "source": [
    "### Data Conversion"
   ]
  },
  {
   "cell_type": "code",
   "execution_count": 7,
   "id": "623880af",
   "metadata": {
    "execution": {
     "iopub.execute_input": "2025-05-14T01:03:25.790112Z",
     "iopub.status.busy": "2025-05-14T01:03:25.789718Z",
     "iopub.status.idle": "2025-05-14T01:03:26.156877Z",
     "shell.execute_reply": "2025-05-14T01:03:26.156260Z"
    },
    "papermill": {
     "duration": 0.374617,
     "end_time": "2025-05-14T01:03:26.157958",
     "exception": false,
     "start_time": "2025-05-14T01:03:25.783341",
     "status": "completed"
    },
    "tags": []
   },
   "outputs": [
    {
     "data": {
      "text/html": [
       "<div>\n",
       "<style scoped>\n",
       "    .dataframe tbody tr th:only-of-type {\n",
       "        vertical-align: middle;\n",
       "    }\n",
       "\n",
       "    .dataframe tbody tr th {\n",
       "        vertical-align: top;\n",
       "    }\n",
       "\n",
       "    .dataframe thead th {\n",
       "        text-align: right;\n",
       "    }\n",
       "</style>\n",
       "<table border=\"1\" class=\"dataframe\">\n",
       "  <thead>\n",
       "    <tr style=\"text-align: right;\">\n",
       "      <th></th>\n",
       "      <th>RecordID</th>\n",
       "      <th>Offense</th>\n",
       "      <th>IncidentID</th>\n",
       "      <th>BlockNumber</th>\n",
       "      <th>StreetName</th>\n",
       "      <th>Agency</th>\n",
       "      <th>HourReported</th>\n",
       "      <th>ReportingOfficer</th>\n",
       "      <th>Date</th>\n",
       "      <th>DateString</th>\n",
       "      <th>DayOfWeek</th>\n",
       "      <th>Weekend</th>\n",
       "      <th>Season</th>\n",
       "      <th>HourAMPM</th>\n",
       "      <th>TimeOfDay</th>\n",
       "    </tr>\n",
       "  </thead>\n",
       "  <tbody>\n",
       "    <tr>\n",
       "      <th>0</th>\n",
       "      <td>1</td>\n",
       "      <td>Burglary</td>\n",
       "      <td>202500015944</td>\n",
       "      <td>1000</td>\n",
       "      <td>MONTROSE AVE, B</td>\n",
       "      <td>CPD</td>\n",
       "      <td>1853</td>\n",
       "      <td>Benbow, Lauren</td>\n",
       "      <td>2025-05-11 18:53:29</td>\n",
       "      <td>2025-05-11 06:53:29 PM</td>\n",
       "      <td>Sunday</td>\n",
       "      <td>True</td>\n",
       "      <td>Spring</td>\n",
       "      <td>06:53 PM</td>\n",
       "      <td>Evening</td>\n",
       "    </tr>\n",
       "    <tr>\n",
       "      <th>1</th>\n",
       "      <td>2</td>\n",
       "      <td>Larceny - Theft from Building</td>\n",
       "      <td>202500015916</td>\n",
       "      <td>2100</td>\n",
       "      <td>ARLINGTON BLVD</td>\n",
       "      <td>CPD</td>\n",
       "      <td>1356</td>\n",
       "      <td>Brannon, Devin</td>\n",
       "      <td>2025-05-11 13:56:33</td>\n",
       "      <td>2025-05-11 01:56:33 PM</td>\n",
       "      <td>Sunday</td>\n",
       "      <td>True</td>\n",
       "      <td>Spring</td>\n",
       "      <td>01:56 PM</td>\n",
       "      <td>Afternoon</td>\n",
       "    </tr>\n",
       "    <tr>\n",
       "      <th>2</th>\n",
       "      <td>3</td>\n",
       "      <td>Larceny - From Motor Vehicle</td>\n",
       "      <td>202500015914</td>\n",
       "      <td>800</td>\n",
       "      <td>W MAIN ST, 401</td>\n",
       "      <td>CPD</td>\n",
       "      <td>1337</td>\n",
       "      <td>O'Briant, Landon</td>\n",
       "      <td>2025-05-11 13:37:50</td>\n",
       "      <td>2025-05-11 01:37:50 PM</td>\n",
       "      <td>Sunday</td>\n",
       "      <td>True</td>\n",
       "      <td>Spring</td>\n",
       "      <td>01:37 PM</td>\n",
       "      <td>Afternoon</td>\n",
       "    </tr>\n",
       "    <tr>\n",
       "      <th>3</th>\n",
       "      <td>4</td>\n",
       "      <td>Animal Complaint</td>\n",
       "      <td>202500015907</td>\n",
       "      <td></td>\n",
       "      <td>LOCUST LN / MEGAN CT</td>\n",
       "      <td>CPD</td>\n",
       "      <td>1118</td>\n",
       "      <td>Brannon, Devin</td>\n",
       "      <td>2025-05-11 11:18:47</td>\n",
       "      <td>2025-05-11 11:18:47 AM</td>\n",
       "      <td>Sunday</td>\n",
       "      <td>True</td>\n",
       "      <td>Spring</td>\n",
       "      <td>11:18 AM</td>\n",
       "      <td>Morning</td>\n",
       "    </tr>\n",
       "    <tr>\n",
       "      <th>4</th>\n",
       "      <td>5</td>\n",
       "      <td>Lost/FoundProperty</td>\n",
       "      <td>202500015897</td>\n",
       "      <td>200</td>\n",
       "      <td>E WATER ST</td>\n",
       "      <td>CPD</td>\n",
       "      <td>0753</td>\n",
       "      <td>Kirby, Tyree</td>\n",
       "      <td>2025-05-11 07:53:27</td>\n",
       "      <td>2025-05-11 07:53:27 AM</td>\n",
       "      <td>Sunday</td>\n",
       "      <td>True</td>\n",
       "      <td>Spring</td>\n",
       "      <td>07:53 AM</td>\n",
       "      <td>Morning</td>\n",
       "    </tr>\n",
       "  </tbody>\n",
       "</table>\n",
       "</div>"
      ],
      "text/plain": [
       "   RecordID                        Offense    IncidentID BlockNumber  \\\n",
       "0         1                       Burglary  202500015944        1000   \n",
       "1         2  Larceny - Theft from Building  202500015916        2100   \n",
       "2         3   Larceny - From Motor Vehicle  202500015914         800   \n",
       "3         4               Animal Complaint  202500015907               \n",
       "4         5             Lost/FoundProperty  202500015897         200   \n",
       "\n",
       "             StreetName Agency HourReported  ReportingOfficer  \\\n",
       "0       MONTROSE AVE, B    CPD         1853    Benbow, Lauren   \n",
       "1        ARLINGTON BLVD    CPD         1356    Brannon, Devin   \n",
       "2        W MAIN ST, 401    CPD         1337  O'Briant, Landon   \n",
       "3  LOCUST LN / MEGAN CT    CPD         1118    Brannon, Devin   \n",
       "4            E WATER ST    CPD         0753      Kirby, Tyree   \n",
       "\n",
       "                 Date              DateString DayOfWeek  Weekend  Season  \\\n",
       "0 2025-05-11 18:53:29  2025-05-11 06:53:29 PM    Sunday     True  Spring   \n",
       "1 2025-05-11 13:56:33  2025-05-11 01:56:33 PM    Sunday     True  Spring   \n",
       "2 2025-05-11 13:37:50  2025-05-11 01:37:50 PM    Sunday     True  Spring   \n",
       "3 2025-05-11 11:18:47  2025-05-11 11:18:47 AM    Sunday     True  Spring   \n",
       "4 2025-05-11 07:53:27  2025-05-11 07:53:27 AM    Sunday     True  Spring   \n",
       "\n",
       "   HourAMPM  TimeOfDay  \n",
       "0  06:53 PM    Evening  \n",
       "1  01:56 PM  Afternoon  \n",
       "2  01:37 PM  Afternoon  \n",
       "3  11:18 AM    Morning  \n",
       "4  07:53 AM    Morning  "
      ]
     },
     "execution_count": 7,
     "metadata": {},
     "output_type": "execute_result"
    }
   ],
   "source": [
    "def convert_and_categorize_datereported(df, col='DateReported'):\n",
    "    \"\"\"\n",
    "    Converts an epoch (in milliseconds) date column into a timezone-aware datetime,\n",
    "    converts it to Eastern Time, and then creates columns for day-of-week, weekend flag,\n",
    "    season, 12-hour formatted time, and time-of-day. Keeps both a real datetime column\n",
    "    (Date) and a string representation (DateString).\n",
    "    \"\"\"\n",
    "    import pandas as pd\n",
    "\n",
    "    # Convert the epoch timestamp to a pandas datetime object as UTC, then convert to US/Eastern.\n",
    "    df[\"DateReported_dt\"] = (\n",
    "        pd.to_datetime(df[col], unit=\"ms\", errors=\"coerce\", utc=True)\n",
    "        .dt.tz_convert(\"US/Eastern\")\n",
    "    )\n",
    "    \n",
    "    # Create a true datetime column (remove timezone if you prefer naive datetime)\n",
    "    df[\"Date\"] = df[\"DateReported_dt\"].dt.tz_localize(None)\n",
    "\n",
    "    # Optionally, create a separate string-formatted column\n",
    "    df[\"DateString\"] = df[\"DateReported_dt\"].dt.strftime(\"%Y-%m-%d %I:%M:%S %p\")\n",
    "    \n",
    "    # DayOfWeek\n",
    "    df[\"DayOfWeek\"] = df[\"DateReported_dt\"].dt.day_name()\n",
    "    \n",
    "    # Weekend\n",
    "    df[\"Weekend\"] = df[\"DayOfWeek\"].isin([\"Saturday\", \"Sunday\"])\n",
    "    \n",
    "    # Helper function to determine the season\n",
    "    def get_season(dt):\n",
    "        month = dt.month\n",
    "        day = dt.day\n",
    "        # Approximate Northern Hemisphere season boundaries:\n",
    "        if (month == 12 and day >= 21) or (month < 3) or (month == 3 and day < 20):\n",
    "            return \"Winter\"\n",
    "        elif (month == 3 and day >= 20) or (month < 6) or (month == 6 and day < 21):\n",
    "            return \"Spring\"\n",
    "        elif (month == 6 and day >= 21) or (month < 9) or (month == 9 and day < 22):\n",
    "            return \"Summer\"\n",
    "        else:\n",
    "            return \"Autumn\"\n",
    "    \n",
    "    df[\"Season\"] = df[\"DateReported_dt\"].apply(get_season)\n",
    "    \n",
    "    # 12-hour formatted time (HourAMPM)\n",
    "    df[\"HourAMPM\"] = df[\"DateReported_dt\"].dt.strftime(\"%I:%M %p\")\n",
    "    \n",
    "    # Extract hour (0-23) for time-of-day\n",
    "    df[\"HourValue\"] = df[\"DateReported_dt\"].dt.hour\n",
    "    \n",
    "    def time_of_day(hour):\n",
    "        if pd.isnull(hour):\n",
    "            return None\n",
    "        if 5 <= hour < 12:\n",
    "            return \"Morning\"\n",
    "        elif 12 <= hour < 17:\n",
    "            return \"Afternoon\"\n",
    "        elif 17 <= hour < 21:\n",
    "            return \"Evening\"\n",
    "        else:\n",
    "            return \"Night\"\n",
    "    \n",
    "    df[\"TimeOfDay\"] = df[\"HourValue\"].apply(time_of_day)\n",
    "    \n",
    "    # Drop columns you no longer need\n",
    "    df.drop(columns=[col, \"DateReported_dt\", \"HourValue\"], inplace=True)\n",
    "    \n",
    "    return df\n",
    "\n",
    "# Example usage:\n",
    "df = convert_and_categorize_datereported(df)\n",
    "df.head()\n"
   ]
  },
  {
   "cell_type": "code",
   "execution_count": 8,
   "id": "b94f433a",
   "metadata": {
    "execution": {
     "iopub.execute_input": "2025-05-14T01:03:26.171142Z",
     "iopub.status.busy": "2025-05-14T01:03:26.170886Z",
     "iopub.status.idle": "2025-05-14T01:03:26.199710Z",
     "shell.execute_reply": "2025-05-14T01:03:26.199113Z"
    },
    "papermill": {
     "duration": 0.036465,
     "end_time": "2025-05-14T01:03:26.200767",
     "exception": false,
     "start_time": "2025-05-14T01:03:26.164302",
     "status": "completed"
    },
    "tags": []
   },
   "outputs": [
    {
     "name": "stdout",
     "output_type": "stream",
     "text": [
      "<class 'pandas.core.frame.DataFrame'>\n",
      "RangeIndex: 25381 entries, 0 to 25380\n",
      "Data columns (total 15 columns):\n",
      " #   Column            Non-Null Count  Dtype         \n",
      "---  ------            --------------  -----         \n",
      " 0   RecordID          25381 non-null  int64         \n",
      " 1   Offense           25381 non-null  object        \n",
      " 2   IncidentID        25381 non-null  object        \n",
      " 3   BlockNumber       25381 non-null  object        \n",
      " 4   StreetName        25381 non-null  object        \n",
      " 5   Agency            25381 non-null  object        \n",
      " 6   HourReported      25381 non-null  object        \n",
      " 7   ReportingOfficer  25364 non-null  object        \n",
      " 8   Date              25381 non-null  datetime64[ns]\n",
      " 9   DateString        25381 non-null  object        \n",
      " 10  DayOfWeek         25381 non-null  object        \n",
      " 11  Weekend           25381 non-null  bool          \n",
      " 12  Season            25381 non-null  object        \n",
      " 13  HourAMPM          25381 non-null  object        \n",
      " 14  TimeOfDay         25381 non-null  object        \n",
      "dtypes: bool(1), datetime64[ns](1), int64(1), object(12)\n",
      "memory usage: 2.7+ MB\n"
     ]
    }
   ],
   "source": [
    "df.info()"
   ]
  },
  {
   "cell_type": "markdown",
   "id": "e08cdc62",
   "metadata": {
    "papermill": {
     "duration": 0.005861,
     "end_time": "2025-05-14T01:03:26.212821",
     "exception": false,
     "start_time": "2025-05-14T01:03:26.206960",
     "status": "completed"
    },
    "tags": []
   },
   "source": [
    "### Coordinates"
   ]
  },
  {
   "cell_type": "code",
   "execution_count": 9,
   "id": "5e0fa15d",
   "metadata": {
    "execution": {
     "iopub.execute_input": "2025-05-14T01:03:26.225785Z",
     "iopub.status.busy": "2025-05-14T01:03:26.225310Z",
     "iopub.status.idle": "2025-05-14T01:03:26.271013Z",
     "shell.execute_reply": "2025-05-14T01:03:26.270403Z"
    },
    "papermill": {
     "duration": 0.053332,
     "end_time": "2025-05-14T01:03:26.272136",
     "exception": false,
     "start_time": "2025-05-14T01:03:26.218804",
     "status": "completed"
    },
    "tags": []
   },
   "outputs": [
    {
     "name": "stdout",
     "output_type": "stream",
     "text": [
      "Loaded geocode cache.\n",
      "Geocode cache updated and saved.\n"
     ]
    },
    {
     "data": {
      "text/html": [
       "<div>\n",
       "<style scoped>\n",
       "    .dataframe tbody tr th:only-of-type {\n",
       "        vertical-align: middle;\n",
       "    }\n",
       "\n",
       "    .dataframe tbody tr th {\n",
       "        vertical-align: top;\n",
       "    }\n",
       "\n",
       "    .dataframe thead th {\n",
       "        text-align: right;\n",
       "    }\n",
       "</style>\n",
       "<table border=\"1\" class=\"dataframe\">\n",
       "  <thead>\n",
       "    <tr style=\"text-align: right;\">\n",
       "      <th></th>\n",
       "      <th>RecordID</th>\n",
       "      <th>Offense</th>\n",
       "      <th>IncidentID</th>\n",
       "      <th>BlockNumber</th>\n",
       "      <th>StreetName</th>\n",
       "      <th>Agency</th>\n",
       "      <th>HourReported</th>\n",
       "      <th>ReportingOfficer</th>\n",
       "      <th>Date</th>\n",
       "      <th>DateString</th>\n",
       "      <th>DayOfWeek</th>\n",
       "      <th>Weekend</th>\n",
       "      <th>Season</th>\n",
       "      <th>HourAMPM</th>\n",
       "      <th>TimeOfDay</th>\n",
       "      <th>FullStreet</th>\n",
       "      <th>lat</th>\n",
       "      <th>lon</th>\n",
       "    </tr>\n",
       "  </thead>\n",
       "  <tbody>\n",
       "    <tr>\n",
       "      <th>0</th>\n",
       "      <td>1</td>\n",
       "      <td>Burglary</td>\n",
       "      <td>202500015944</td>\n",
       "      <td>1000</td>\n",
       "      <td>MONTROSE AVE, B</td>\n",
       "      <td>CPD</td>\n",
       "      <td>1853</td>\n",
       "      <td>Benbow, Lauren</td>\n",
       "      <td>2025-05-11 18:53:29</td>\n",
       "      <td>2025-05-11 06:53:29 PM</td>\n",
       "      <td>Sunday</td>\n",
       "      <td>True</td>\n",
       "      <td>Spring</td>\n",
       "      <td>06:53 PM</td>\n",
       "      <td>Evening</td>\n",
       "      <td>1000 MONTROSE AVE, B</td>\n",
       "      <td>38.019677</td>\n",
       "      <td>-78.476050</td>\n",
       "    </tr>\n",
       "    <tr>\n",
       "      <th>1</th>\n",
       "      <td>2</td>\n",
       "      <td>Larceny - Theft from Building</td>\n",
       "      <td>202500015916</td>\n",
       "      <td>2100</td>\n",
       "      <td>ARLINGTON BLVD</td>\n",
       "      <td>CPD</td>\n",
       "      <td>1356</td>\n",
       "      <td>Brannon, Devin</td>\n",
       "      <td>2025-05-11 13:56:33</td>\n",
       "      <td>2025-05-11 01:56:33 PM</td>\n",
       "      <td>Sunday</td>\n",
       "      <td>True</td>\n",
       "      <td>Spring</td>\n",
       "      <td>01:56 PM</td>\n",
       "      <td>Afternoon</td>\n",
       "      <td>2100 ARLINGTON BLVD</td>\n",
       "      <td>38.049267</td>\n",
       "      <td>-78.506344</td>\n",
       "    </tr>\n",
       "    <tr>\n",
       "      <th>2</th>\n",
       "      <td>3</td>\n",
       "      <td>Larceny - From Motor Vehicle</td>\n",
       "      <td>202500015914</td>\n",
       "      <td>800</td>\n",
       "      <td>W MAIN ST, 401</td>\n",
       "      <td>CPD</td>\n",
       "      <td>1337</td>\n",
       "      <td>O'Briant, Landon</td>\n",
       "      <td>2025-05-11 13:37:50</td>\n",
       "      <td>2025-05-11 01:37:50 PM</td>\n",
       "      <td>Sunday</td>\n",
       "      <td>True</td>\n",
       "      <td>Spring</td>\n",
       "      <td>01:37 PM</td>\n",
       "      <td>Afternoon</td>\n",
       "      <td>800 W MAIN ST, 401</td>\n",
       "      <td>38.031480</td>\n",
       "      <td>-78.490333</td>\n",
       "    </tr>\n",
       "    <tr>\n",
       "      <th>3</th>\n",
       "      <td>4</td>\n",
       "      <td>Animal Complaint</td>\n",
       "      <td>202500015907</td>\n",
       "      <td></td>\n",
       "      <td>LOCUST LN / MEGAN CT</td>\n",
       "      <td>CPD</td>\n",
       "      <td>1118</td>\n",
       "      <td>Brannon, Devin</td>\n",
       "      <td>2025-05-11 11:18:47</td>\n",
       "      <td>2025-05-11 11:18:47 AM</td>\n",
       "      <td>Sunday</td>\n",
       "      <td>True</td>\n",
       "      <td>Spring</td>\n",
       "      <td>11:18 AM</td>\n",
       "      <td>Morning</td>\n",
       "      <td>LOCUST LN / MEGAN CT</td>\n",
       "      <td>38.045309</td>\n",
       "      <td>-78.457570</td>\n",
       "    </tr>\n",
       "    <tr>\n",
       "      <th>4</th>\n",
       "      <td>5</td>\n",
       "      <td>Lost/FoundProperty</td>\n",
       "      <td>202500015897</td>\n",
       "      <td>200</td>\n",
       "      <td>E WATER ST</td>\n",
       "      <td>CPD</td>\n",
       "      <td>0753</td>\n",
       "      <td>Kirby, Tyree</td>\n",
       "      <td>2025-05-11 07:53:27</td>\n",
       "      <td>2025-05-11 07:53:27 AM</td>\n",
       "      <td>Sunday</td>\n",
       "      <td>True</td>\n",
       "      <td>Spring</td>\n",
       "      <td>07:53 AM</td>\n",
       "      <td>Morning</td>\n",
       "      <td>200 E WATER ST</td>\n",
       "      <td>38.029430</td>\n",
       "      <td>-78.481109</td>\n",
       "    </tr>\n",
       "  </tbody>\n",
       "</table>\n",
       "</div>"
      ],
      "text/plain": [
       "   RecordID                        Offense    IncidentID BlockNumber  \\\n",
       "0         1                       Burglary  202500015944        1000   \n",
       "1         2  Larceny - Theft from Building  202500015916        2100   \n",
       "2         3   Larceny - From Motor Vehicle  202500015914         800   \n",
       "3         4               Animal Complaint  202500015907               \n",
       "4         5             Lost/FoundProperty  202500015897         200   \n",
       "\n",
       "             StreetName Agency HourReported  ReportingOfficer  \\\n",
       "0       MONTROSE AVE, B    CPD         1853    Benbow, Lauren   \n",
       "1        ARLINGTON BLVD    CPD         1356    Brannon, Devin   \n",
       "2        W MAIN ST, 401    CPD         1337  O'Briant, Landon   \n",
       "3  LOCUST LN / MEGAN CT    CPD         1118    Brannon, Devin   \n",
       "4            E WATER ST    CPD         0753      Kirby, Tyree   \n",
       "\n",
       "                 Date              DateString DayOfWeek  Weekend  Season  \\\n",
       "0 2025-05-11 18:53:29  2025-05-11 06:53:29 PM    Sunday     True  Spring   \n",
       "1 2025-05-11 13:56:33  2025-05-11 01:56:33 PM    Sunday     True  Spring   \n",
       "2 2025-05-11 13:37:50  2025-05-11 01:37:50 PM    Sunday     True  Spring   \n",
       "3 2025-05-11 11:18:47  2025-05-11 11:18:47 AM    Sunday     True  Spring   \n",
       "4 2025-05-11 07:53:27  2025-05-11 07:53:27 AM    Sunday     True  Spring   \n",
       "\n",
       "   HourAMPM  TimeOfDay             FullStreet        lat        lon  \n",
       "0  06:53 PM    Evening   1000 MONTROSE AVE, B  38.019677 -78.476050  \n",
       "1  01:56 PM  Afternoon    2100 ARLINGTON BLVD  38.049267 -78.506344  \n",
       "2  01:37 PM  Afternoon     800 W MAIN ST, 401  38.031480 -78.490333  \n",
       "3  11:18 AM    Morning   LOCUST LN / MEGAN CT  38.045309 -78.457570  \n",
       "4  07:53 AM    Morning         200 E WATER ST  38.029430 -78.481109  "
      ]
     },
     "execution_count": 9,
     "metadata": {},
     "output_type": "execute_result"
    }
   ],
   "source": [
    "# Combine BlockNumber and StreetName into a full address string\n",
    "df['FullStreet'] = df['BlockNumber'].astype(str) + \" \" + df['StreetName']\n",
    "\n",
    "# --- Step 1: Setup the Google Maps Client and Cache ---\n",
    "gmaps = googlemaps.Client(key=GOOGLE_API_KEY)\n",
    "\n",
    "# Try to load cached geocoding results if available.\n",
    "try:\n",
    "    with open(\"geocode_cache_google.pkl\", \"rb\") as f:\n",
    "        street_coords = pickle.load(f)\n",
    "    print(\"Loaded geocode cache.\")\n",
    "except FileNotFoundError:\n",
    "    street_coords = {}\n",
    "    print(\"No cache found; starting fresh.\")\n",
    "\n",
    "def geocode_address(address):\n",
    "    try:\n",
    "        # Append city and state to help geocoding\n",
    "        result = gmaps.geocode(f\"{address}, Charlottesville, VA\")\n",
    "        if result:\n",
    "            lat = result[0]['geometry']['location']['lat']\n",
    "            lon = result[0]['geometry']['location']['lng']\n",
    "            return lat, lon\n",
    "    except Exception as e:\n",
    "        print(f\"Error geocoding {address}: {e}\")\n",
    "    return None, None\n",
    "\n",
    "# --- Step 2: Geocode Only New Addresses ---\n",
    "unique_addresses = df['FullStreet'].unique()\n",
    "for address in unique_addresses:\n",
    "    if address not in street_coords:\n",
    "        lat, lon = geocode_address(address)\n",
    "        street_coords[address] = (lat, lon)\n",
    "        print(f\"Geocoded {address}: {lat}, {lon}\")\n",
    "\n",
    "# Save the updated cache to disk.\n",
    "with open(\"geocode_cache_google.pkl\", \"wb\") as f:\n",
    "    pickle.dump(street_coords, f)\n",
    "    print(\"Geocode cache updated and saved.\")\n",
    "\n",
    "# --- Step 3: Map Coordinates Back to DataFrame ---\n",
    "df['lat'] = df['FullStreet'].map(lambda s: street_coords.get(s, (None, None))[0])\n",
    "df['lon'] = df['FullStreet'].map(lambda s: street_coords.get(s, (None, None))[1])\n",
    "\n",
    "df.head()"
   ]
  },
  {
   "cell_type": "markdown",
   "id": "a61e4216",
   "metadata": {
    "papermill": {
     "duration": 0.006279,
     "end_time": "2025-05-14T01:03:26.285077",
     "exception": false,
     "start_time": "2025-05-14T01:03:26.278798",
     "status": "completed"
    },
    "tags": []
   },
   "source": [
    "### Neighborhood"
   ]
  },
  {
   "cell_type": "code",
   "execution_count": 10,
   "id": "e60132c4",
   "metadata": {
    "execution": {
     "iopub.execute_input": "2025-05-14T01:03:26.299183Z",
     "iopub.status.busy": "2025-05-14T01:03:26.298546Z",
     "iopub.status.idle": "2025-05-14T01:03:26.563795Z",
     "shell.execute_reply": "2025-05-14T01:03:26.563191Z"
    },
    "papermill": {
     "duration": 0.273448,
     "end_time": "2025-05-14T01:03:26.564850",
     "exception": false,
     "start_time": "2025-05-14T01:03:26.291402",
     "status": "completed"
    },
    "tags": []
   },
   "outputs": [
    {
     "name": "stdout",
     "output_type": "stream",
     "text": [
      "Loaded neighborhood cache.\n"
     ]
    },
    {
     "data": {
      "text/html": [
       "<div>\n",
       "<style scoped>\n",
       "    .dataframe tbody tr th:only-of-type {\n",
       "        vertical-align: middle;\n",
       "    }\n",
       "\n",
       "    .dataframe tbody tr th {\n",
       "        vertical-align: top;\n",
       "    }\n",
       "\n",
       "    .dataframe thead th {\n",
       "        text-align: right;\n",
       "    }\n",
       "</style>\n",
       "<table border=\"1\" class=\"dataframe\">\n",
       "  <thead>\n",
       "    <tr style=\"text-align: right;\">\n",
       "      <th></th>\n",
       "      <th>RecordID</th>\n",
       "      <th>Offense</th>\n",
       "      <th>IncidentID</th>\n",
       "      <th>BlockNumber</th>\n",
       "      <th>StreetName</th>\n",
       "      <th>Agency</th>\n",
       "      <th>HourReported</th>\n",
       "      <th>ReportingOfficer</th>\n",
       "      <th>Date</th>\n",
       "      <th>DateString</th>\n",
       "      <th>DayOfWeek</th>\n",
       "      <th>Weekend</th>\n",
       "      <th>Season</th>\n",
       "      <th>HourAMPM</th>\n",
       "      <th>TimeOfDay</th>\n",
       "      <th>FullStreet</th>\n",
       "      <th>lat</th>\n",
       "      <th>lon</th>\n",
       "      <th>neighborhood</th>\n",
       "    </tr>\n",
       "  </thead>\n",
       "  <tbody>\n",
       "    <tr>\n",
       "      <th>0</th>\n",
       "      <td>1</td>\n",
       "      <td>Burglary</td>\n",
       "      <td>202500015944</td>\n",
       "      <td>1000</td>\n",
       "      <td>MONTROSE AVE, B</td>\n",
       "      <td>CPD</td>\n",
       "      <td>1853</td>\n",
       "      <td>Benbow, Lauren</td>\n",
       "      <td>2025-05-11 18:53:29</td>\n",
       "      <td>2025-05-11 06:53:29 PM</td>\n",
       "      <td>Sunday</td>\n",
       "      <td>True</td>\n",
       "      <td>Spring</td>\n",
       "      <td>06:53 PM</td>\n",
       "      <td>Evening</td>\n",
       "      <td>1000 MONTROSE AVE, B</td>\n",
       "      <td>38.019677</td>\n",
       "      <td>-78.476050</td>\n",
       "      <td>Belmont</td>\n",
       "    </tr>\n",
       "    <tr>\n",
       "      <th>1</th>\n",
       "      <td>2</td>\n",
       "      <td>Larceny - Theft from Building</td>\n",
       "      <td>202500015916</td>\n",
       "      <td>2100</td>\n",
       "      <td>ARLINGTON BLVD</td>\n",
       "      <td>CPD</td>\n",
       "      <td>1356</td>\n",
       "      <td>Brannon, Devin</td>\n",
       "      <td>2025-05-11 13:56:33</td>\n",
       "      <td>2025-05-11 01:56:33 PM</td>\n",
       "      <td>Sunday</td>\n",
       "      <td>True</td>\n",
       "      <td>Spring</td>\n",
       "      <td>01:56 PM</td>\n",
       "      <td>Afternoon</td>\n",
       "      <td>2100 ARLINGTON BLVD</td>\n",
       "      <td>38.049267</td>\n",
       "      <td>-78.506344</td>\n",
       "      <td>Barracks Road</td>\n",
       "    </tr>\n",
       "    <tr>\n",
       "      <th>2</th>\n",
       "      <td>3</td>\n",
       "      <td>Larceny - From Motor Vehicle</td>\n",
       "      <td>202500015914</td>\n",
       "      <td>800</td>\n",
       "      <td>W MAIN ST, 401</td>\n",
       "      <td>CPD</td>\n",
       "      <td>1337</td>\n",
       "      <td>O'Briant, Landon</td>\n",
       "      <td>2025-05-11 13:37:50</td>\n",
       "      <td>2025-05-11 01:37:50 PM</td>\n",
       "      <td>Sunday</td>\n",
       "      <td>True</td>\n",
       "      <td>Spring</td>\n",
       "      <td>01:37 PM</td>\n",
       "      <td>Afternoon</td>\n",
       "      <td>800 W MAIN ST, 401</td>\n",
       "      <td>38.031480</td>\n",
       "      <td>-78.490333</td>\n",
       "      <td>Starr Hill</td>\n",
       "    </tr>\n",
       "    <tr>\n",
       "      <th>3</th>\n",
       "      <td>4</td>\n",
       "      <td>Animal Complaint</td>\n",
       "      <td>202500015907</td>\n",
       "      <td></td>\n",
       "      <td>LOCUST LN / MEGAN CT</td>\n",
       "      <td>CPD</td>\n",
       "      <td>1118</td>\n",
       "      <td>Brannon, Devin</td>\n",
       "      <td>2025-05-11 11:18:47</td>\n",
       "      <td>2025-05-11 11:18:47 AM</td>\n",
       "      <td>Sunday</td>\n",
       "      <td>True</td>\n",
       "      <td>Spring</td>\n",
       "      <td>11:18 AM</td>\n",
       "      <td>Morning</td>\n",
       "      <td>LOCUST LN / MEGAN CT</td>\n",
       "      <td>38.045309</td>\n",
       "      <td>-78.457570</td>\n",
       "      <td>Locust Grove</td>\n",
       "    </tr>\n",
       "    <tr>\n",
       "      <th>4</th>\n",
       "      <td>5</td>\n",
       "      <td>Lost/FoundProperty</td>\n",
       "      <td>202500015897</td>\n",
       "      <td>200</td>\n",
       "      <td>E WATER ST</td>\n",
       "      <td>CPD</td>\n",
       "      <td>0753</td>\n",
       "      <td>Kirby, Tyree</td>\n",
       "      <td>2025-05-11 07:53:27</td>\n",
       "      <td>2025-05-11 07:53:27 AM</td>\n",
       "      <td>Sunday</td>\n",
       "      <td>True</td>\n",
       "      <td>Spring</td>\n",
       "      <td>07:53 AM</td>\n",
       "      <td>Morning</td>\n",
       "      <td>200 E WATER ST</td>\n",
       "      <td>38.029430</td>\n",
       "      <td>-78.481109</td>\n",
       "      <td>North Downtown</td>\n",
       "    </tr>\n",
       "  </tbody>\n",
       "</table>\n",
       "</div>"
      ],
      "text/plain": [
       "   RecordID                        Offense    IncidentID BlockNumber  \\\n",
       "0         1                       Burglary  202500015944        1000   \n",
       "1         2  Larceny - Theft from Building  202500015916        2100   \n",
       "2         3   Larceny - From Motor Vehicle  202500015914         800   \n",
       "3         4               Animal Complaint  202500015907               \n",
       "4         5             Lost/FoundProperty  202500015897         200   \n",
       "\n",
       "             StreetName Agency HourReported  ReportingOfficer  \\\n",
       "0       MONTROSE AVE, B    CPD         1853    Benbow, Lauren   \n",
       "1        ARLINGTON BLVD    CPD         1356    Brannon, Devin   \n",
       "2        W MAIN ST, 401    CPD         1337  O'Briant, Landon   \n",
       "3  LOCUST LN / MEGAN CT    CPD         1118    Brannon, Devin   \n",
       "4            E WATER ST    CPD         0753      Kirby, Tyree   \n",
       "\n",
       "                 Date              DateString DayOfWeek  Weekend  Season  \\\n",
       "0 2025-05-11 18:53:29  2025-05-11 06:53:29 PM    Sunday     True  Spring   \n",
       "1 2025-05-11 13:56:33  2025-05-11 01:56:33 PM    Sunday     True  Spring   \n",
       "2 2025-05-11 13:37:50  2025-05-11 01:37:50 PM    Sunday     True  Spring   \n",
       "3 2025-05-11 11:18:47  2025-05-11 11:18:47 AM    Sunday     True  Spring   \n",
       "4 2025-05-11 07:53:27  2025-05-11 07:53:27 AM    Sunday     True  Spring   \n",
       "\n",
       "   HourAMPM  TimeOfDay             FullStreet        lat        lon  \\\n",
       "0  06:53 PM    Evening   1000 MONTROSE AVE, B  38.019677 -78.476050   \n",
       "1  01:56 PM  Afternoon    2100 ARLINGTON BLVD  38.049267 -78.506344   \n",
       "2  01:37 PM  Afternoon     800 W MAIN ST, 401  38.031480 -78.490333   \n",
       "3  11:18 AM    Morning   LOCUST LN / MEGAN CT  38.045309 -78.457570   \n",
       "4  07:53 AM    Morning         200 E WATER ST  38.029430 -78.481109   \n",
       "\n",
       "     neighborhood  \n",
       "0         Belmont  \n",
       "1   Barracks Road  \n",
       "2      Starr Hill  \n",
       "3    Locust Grove  \n",
       "4  North Downtown  "
      ]
     },
     "execution_count": 10,
     "metadata": {},
     "output_type": "execute_result"
    }
   ],
   "source": [
    "# Initialize the Google Maps client.\n",
    "gmaps = googlemaps.Client(key=GOOGLE_API_KEY)\n",
    "\n",
    "# Try to load a persistent neighborhood cache if available.\n",
    "try:\n",
    "    with open(\"neighborhood_cache.pkl\", \"rb\") as f:\n",
    "        neighborhood_cache = pickle.load(f)\n",
    "    print(\"Loaded neighborhood cache.\")\n",
    "except FileNotFoundError:\n",
    "    neighborhood_cache = {}\n",
    "    print(\"No neighborhood cache found; starting fresh.\")\n",
    "\n",
    "def get_neighborhood(lat, lon):\n",
    "    \"\"\"\n",
    "    Reverse geocodes a latitude and longitude to retrieve the neighborhood.\n",
    "    Caches results to speed up subsequent lookups.\n",
    "    \"\"\"\n",
    "    key = (lat, lon)\n",
    "    if key in neighborhood_cache:\n",
    "        return neighborhood_cache[key]\n",
    "    \n",
    "    try:\n",
    "        result = gmaps.reverse_geocode((lat, lon))\n",
    "        if result:\n",
    "            # Look for the 'neighborhood' component in the first result.\n",
    "            for component in result[0]['address_components']:\n",
    "                if 'neighborhood' in component['types']:\n",
    "                    neighborhood = component['long_name']\n",
    "                    neighborhood_cache[key] = neighborhood\n",
    "                    return neighborhood\n",
    "            # If no neighborhood is found, return \"N/A\"\n",
    "            neighborhood_cache[key] = \"N/A\"\n",
    "            return \"N/A\"\n",
    "    except Exception as e:\n",
    "        print(f\"Error getting neighborhood for {lat}, {lon}: {e}\")\n",
    "        return \"N/A\"\n",
    "    \n",
    "    # Pause to respect usage limits.\n",
    "    time.sleep(1)\n",
    "\n",
    "# Example usage: Apply to your DataFrame 'df' that already has 'lat' and 'lon' columns.\n",
    "df['neighborhood'] = df.apply(lambda row: get_neighborhood(row['lat'], row['lon']), axis=1)\n",
    "\n",
    "# Save the updated neighborhood cache.\n",
    "with open(\"neighborhood_cache.pkl\", \"wb\") as f:\n",
    "    pickle.dump(neighborhood_cache, f)\n",
    "\n",
    "df.head()\n"
   ]
  },
  {
   "cell_type": "markdown",
   "id": "cfdc0916",
   "metadata": {
    "papermill": {
     "duration": 0.006657,
     "end_time": "2025-05-14T01:03:26.578511",
     "exception": false,
     "start_time": "2025-05-14T01:03:26.571854",
     "status": "completed"
    },
    "tags": []
   },
   "source": [
    "### Zip"
   ]
  },
  {
   "cell_type": "code",
   "execution_count": 11,
   "id": "981b27a7",
   "metadata": {
    "execution": {
     "iopub.execute_input": "2025-05-14T01:03:26.592776Z",
     "iopub.status.busy": "2025-05-14T01:03:26.592467Z",
     "iopub.status.idle": "2025-05-14T01:03:26.834755Z",
     "shell.execute_reply": "2025-05-14T01:03:26.834141Z"
    },
    "papermill": {
     "duration": 0.25071,
     "end_time": "2025-05-14T01:03:26.835752",
     "exception": false,
     "start_time": "2025-05-14T01:03:26.585042",
     "status": "completed"
    },
    "tags": []
   },
   "outputs": [
    {
     "name": "stdout",
     "output_type": "stream",
     "text": [
      "Loaded zip cache.\n"
     ]
    },
    {
     "data": {
      "text/html": [
       "<div>\n",
       "<style scoped>\n",
       "    .dataframe tbody tr th:only-of-type {\n",
       "        vertical-align: middle;\n",
       "    }\n",
       "\n",
       "    .dataframe tbody tr th {\n",
       "        vertical-align: top;\n",
       "    }\n",
       "\n",
       "    .dataframe thead th {\n",
       "        text-align: right;\n",
       "    }\n",
       "</style>\n",
       "<table border=\"1\" class=\"dataframe\">\n",
       "  <thead>\n",
       "    <tr style=\"text-align: right;\">\n",
       "      <th></th>\n",
       "      <th>RecordID</th>\n",
       "      <th>Offense</th>\n",
       "      <th>IncidentID</th>\n",
       "      <th>BlockNumber</th>\n",
       "      <th>StreetName</th>\n",
       "      <th>Agency</th>\n",
       "      <th>HourReported</th>\n",
       "      <th>ReportingOfficer</th>\n",
       "      <th>Date</th>\n",
       "      <th>DateString</th>\n",
       "      <th>DayOfWeek</th>\n",
       "      <th>Weekend</th>\n",
       "      <th>Season</th>\n",
       "      <th>HourAMPM</th>\n",
       "      <th>TimeOfDay</th>\n",
       "      <th>FullStreet</th>\n",
       "      <th>lat</th>\n",
       "      <th>lon</th>\n",
       "      <th>neighborhood</th>\n",
       "      <th>zip</th>\n",
       "    </tr>\n",
       "  </thead>\n",
       "  <tbody>\n",
       "    <tr>\n",
       "      <th>0</th>\n",
       "      <td>1</td>\n",
       "      <td>Burglary</td>\n",
       "      <td>202500015944</td>\n",
       "      <td>1000</td>\n",
       "      <td>MONTROSE AVE, B</td>\n",
       "      <td>CPD</td>\n",
       "      <td>1853</td>\n",
       "      <td>Benbow, Lauren</td>\n",
       "      <td>2025-05-11 18:53:29</td>\n",
       "      <td>2025-05-11 06:53:29 PM</td>\n",
       "      <td>Sunday</td>\n",
       "      <td>True</td>\n",
       "      <td>Spring</td>\n",
       "      <td>06:53 PM</td>\n",
       "      <td>Evening</td>\n",
       "      <td>1000 MONTROSE AVE, B</td>\n",
       "      <td>38.019677</td>\n",
       "      <td>-78.476050</td>\n",
       "      <td>Belmont</td>\n",
       "      <td>22903</td>\n",
       "    </tr>\n",
       "    <tr>\n",
       "      <th>1</th>\n",
       "      <td>2</td>\n",
       "      <td>Larceny - Theft from Building</td>\n",
       "      <td>202500015916</td>\n",
       "      <td>2100</td>\n",
       "      <td>ARLINGTON BLVD</td>\n",
       "      <td>CPD</td>\n",
       "      <td>1356</td>\n",
       "      <td>Brannon, Devin</td>\n",
       "      <td>2025-05-11 13:56:33</td>\n",
       "      <td>2025-05-11 01:56:33 PM</td>\n",
       "      <td>Sunday</td>\n",
       "      <td>True</td>\n",
       "      <td>Spring</td>\n",
       "      <td>01:56 PM</td>\n",
       "      <td>Afternoon</td>\n",
       "      <td>2100 ARLINGTON BLVD</td>\n",
       "      <td>38.049267</td>\n",
       "      <td>-78.506344</td>\n",
       "      <td>Barracks Road</td>\n",
       "      <td>22905</td>\n",
       "    </tr>\n",
       "    <tr>\n",
       "      <th>2</th>\n",
       "      <td>3</td>\n",
       "      <td>Larceny - From Motor Vehicle</td>\n",
       "      <td>202500015914</td>\n",
       "      <td>800</td>\n",
       "      <td>W MAIN ST, 401</td>\n",
       "      <td>CPD</td>\n",
       "      <td>1337</td>\n",
       "      <td>O'Briant, Landon</td>\n",
       "      <td>2025-05-11 13:37:50</td>\n",
       "      <td>2025-05-11 01:37:50 PM</td>\n",
       "      <td>Sunday</td>\n",
       "      <td>True</td>\n",
       "      <td>Spring</td>\n",
       "      <td>01:37 PM</td>\n",
       "      <td>Afternoon</td>\n",
       "      <td>800 W MAIN ST, 401</td>\n",
       "      <td>38.031480</td>\n",
       "      <td>-78.490333</td>\n",
       "      <td>Starr Hill</td>\n",
       "      <td>22903</td>\n",
       "    </tr>\n",
       "    <tr>\n",
       "      <th>3</th>\n",
       "      <td>4</td>\n",
       "      <td>Animal Complaint</td>\n",
       "      <td>202500015907</td>\n",
       "      <td></td>\n",
       "      <td>LOCUST LN / MEGAN CT</td>\n",
       "      <td>CPD</td>\n",
       "      <td>1118</td>\n",
       "      <td>Brannon, Devin</td>\n",
       "      <td>2025-05-11 11:18:47</td>\n",
       "      <td>2025-05-11 11:18:47 AM</td>\n",
       "      <td>Sunday</td>\n",
       "      <td>True</td>\n",
       "      <td>Spring</td>\n",
       "      <td>11:18 AM</td>\n",
       "      <td>Morning</td>\n",
       "      <td>LOCUST LN / MEGAN CT</td>\n",
       "      <td>38.045309</td>\n",
       "      <td>-78.457570</td>\n",
       "      <td>Locust Grove</td>\n",
       "      <td>22901</td>\n",
       "    </tr>\n",
       "    <tr>\n",
       "      <th>4</th>\n",
       "      <td>5</td>\n",
       "      <td>Lost/FoundProperty</td>\n",
       "      <td>202500015897</td>\n",
       "      <td>200</td>\n",
       "      <td>E WATER ST</td>\n",
       "      <td>CPD</td>\n",
       "      <td>0753</td>\n",
       "      <td>Kirby, Tyree</td>\n",
       "      <td>2025-05-11 07:53:27</td>\n",
       "      <td>2025-05-11 07:53:27 AM</td>\n",
       "      <td>Sunday</td>\n",
       "      <td>True</td>\n",
       "      <td>Spring</td>\n",
       "      <td>07:53 AM</td>\n",
       "      <td>Morning</td>\n",
       "      <td>200 E WATER ST</td>\n",
       "      <td>38.029430</td>\n",
       "      <td>-78.481109</td>\n",
       "      <td>North Downtown</td>\n",
       "      <td>22903</td>\n",
       "    </tr>\n",
       "  </tbody>\n",
       "</table>\n",
       "</div>"
      ],
      "text/plain": [
       "   RecordID                        Offense    IncidentID BlockNumber  \\\n",
       "0         1                       Burglary  202500015944        1000   \n",
       "1         2  Larceny - Theft from Building  202500015916        2100   \n",
       "2         3   Larceny - From Motor Vehicle  202500015914         800   \n",
       "3         4               Animal Complaint  202500015907               \n",
       "4         5             Lost/FoundProperty  202500015897         200   \n",
       "\n",
       "             StreetName Agency HourReported  ReportingOfficer  \\\n",
       "0       MONTROSE AVE, B    CPD         1853    Benbow, Lauren   \n",
       "1        ARLINGTON BLVD    CPD         1356    Brannon, Devin   \n",
       "2        W MAIN ST, 401    CPD         1337  O'Briant, Landon   \n",
       "3  LOCUST LN / MEGAN CT    CPD         1118    Brannon, Devin   \n",
       "4            E WATER ST    CPD         0753      Kirby, Tyree   \n",
       "\n",
       "                 Date              DateString DayOfWeek  Weekend  Season  \\\n",
       "0 2025-05-11 18:53:29  2025-05-11 06:53:29 PM    Sunday     True  Spring   \n",
       "1 2025-05-11 13:56:33  2025-05-11 01:56:33 PM    Sunday     True  Spring   \n",
       "2 2025-05-11 13:37:50  2025-05-11 01:37:50 PM    Sunday     True  Spring   \n",
       "3 2025-05-11 11:18:47  2025-05-11 11:18:47 AM    Sunday     True  Spring   \n",
       "4 2025-05-11 07:53:27  2025-05-11 07:53:27 AM    Sunday     True  Spring   \n",
       "\n",
       "   HourAMPM  TimeOfDay             FullStreet        lat        lon  \\\n",
       "0  06:53 PM    Evening   1000 MONTROSE AVE, B  38.019677 -78.476050   \n",
       "1  01:56 PM  Afternoon    2100 ARLINGTON BLVD  38.049267 -78.506344   \n",
       "2  01:37 PM  Afternoon     800 W MAIN ST, 401  38.031480 -78.490333   \n",
       "3  11:18 AM    Morning   LOCUST LN / MEGAN CT  38.045309 -78.457570   \n",
       "4  07:53 AM    Morning         200 E WATER ST  38.029430 -78.481109   \n",
       "\n",
       "     neighborhood    zip  \n",
       "0         Belmont  22903  \n",
       "1   Barracks Road  22905  \n",
       "2      Starr Hill  22903  \n",
       "3    Locust Grove  22901  \n",
       "4  North Downtown  22903  "
      ]
     },
     "execution_count": 11,
     "metadata": {},
     "output_type": "execute_result"
    }
   ],
   "source": [
    "# Initialize the geocoder.\n",
    "geolocator = Nominatim(user_agent=\"zip_lookup\")\n",
    "\n",
    "# Try to load a persistent ZIP cache if available.\n",
    "try:\n",
    "    with open(\"zip_cache.pkl\", \"rb\") as f:\n",
    "        zip_cache = pickle.load(f)\n",
    "    print(\"Loaded zip cache.\")\n",
    "except FileNotFoundError:\n",
    "    zip_cache = {}\n",
    "    print(\"No zip cache found; starting fresh.\")\n",
    "\n",
    "def get_zip(lat, lon):\n",
    "    \"\"\"\n",
    "    Reverse geocodes a latitude and longitude to retrieve the ZIP code.\n",
    "    Caches results to speed up subsequent lookups.\n",
    "    \"\"\"\n",
    "    key = (lat, lon)\n",
    "    if key in zip_cache:\n",
    "        return zip_cache[key]\n",
    "    \n",
    "    try:\n",
    "        location = geolocator.reverse((lat, lon), exactly_one=True, timeout=10)\n",
    "        address = location.raw.get('address', {})\n",
    "        postal_code = address.get('postcode', \"N/A\")\n",
    "    except Exception as e:\n",
    "        print(f\"Error getting ZIP for {lat}, {lon}: {e}\")\n",
    "        postal_code = \"N/A\"\n",
    "    \n",
    "    zip_cache[key] = postal_code\n",
    "    # Pause to respect the usage policy.\n",
    "    time.sleep(1)\n",
    "    return postal_code\n",
    "\n",
    "# Apply the function to each row in the DataFrame.\n",
    "df['zip'] = df.apply(lambda row: get_zip(row['lat'], row['lon']), axis=1)\n",
    "\n",
    "# Save the updated ZIP cache.\n",
    "with open(\"zip_cache.pkl\", \"wb\") as f:\n",
    "    pickle.dump(zip_cache, f)\n",
    "\n",
    "df.head()\n"
   ]
  },
  {
   "cell_type": "code",
   "execution_count": 12,
   "id": "925c321d",
   "metadata": {
    "execution": {
     "iopub.execute_input": "2025-05-14T01:03:26.850649Z",
     "iopub.status.busy": "2025-05-14T01:03:26.850408Z",
     "iopub.status.idle": "2025-05-14T01:03:26.880247Z",
     "shell.execute_reply": "2025-05-14T01:03:26.879662Z"
    },
    "papermill": {
     "duration": 0.038313,
     "end_time": "2025-05-14T01:03:26.881231",
     "exception": false,
     "start_time": "2025-05-14T01:03:26.842918",
     "status": "completed"
    },
    "tags": []
   },
   "outputs": [
    {
     "name": "stdout",
     "output_type": "stream",
     "text": [
      "                  MissingCount  MissingPercentage\n",
      "RecordID                     0               0.00\n",
      "Offense                      0               0.00\n",
      "IncidentID                   0               0.00\n",
      "BlockNumber                  0               0.00\n",
      "StreetName                   0               0.00\n",
      "Agency                       0               0.00\n",
      "HourReported                 0               0.00\n",
      "ReportingOfficer            17               0.07\n",
      "Date                         0               0.00\n",
      "DateString                   0               0.00\n",
      "DayOfWeek                    0               0.00\n",
      "Weekend                      0               0.00\n",
      "Season                       0               0.00\n",
      "HourAMPM                     0               0.00\n",
      "TimeOfDay                    0               0.00\n",
      "FullStreet                   0               0.00\n",
      "lat                          0               0.00\n",
      "lon                          0               0.00\n",
      "neighborhood                 0               0.00\n",
      "zip                          0               0.00\n"
     ]
    }
   ],
   "source": [
    "missing_info = missing_percentage(df)\n",
    "print(missing_info)\n"
   ]
  },
  {
   "cell_type": "code",
   "execution_count": 13,
   "id": "aa708c72",
   "metadata": {
    "execution": {
     "iopub.execute_input": "2025-05-14T01:03:26.896333Z",
     "iopub.status.busy": "2025-05-14T01:03:26.895881Z",
     "iopub.status.idle": "2025-05-14T01:03:26.927192Z",
     "shell.execute_reply": "2025-05-14T01:03:26.926623Z"
    },
    "papermill": {
     "duration": 0.039823,
     "end_time": "2025-05-14T01:03:26.928238",
     "exception": false,
     "start_time": "2025-05-14T01:03:26.888415",
     "status": "completed"
    },
    "tags": []
   },
   "outputs": [
    {
     "name": "stdout",
     "output_type": "stream",
     "text": [
      "<class 'pandas.core.frame.DataFrame'>\n",
      "RangeIndex: 25381 entries, 0 to 25380\n",
      "Data columns (total 20 columns):\n",
      " #   Column            Non-Null Count  Dtype         \n",
      "---  ------            --------------  -----         \n",
      " 0   RecordID          25381 non-null  int64         \n",
      " 1   Offense           25381 non-null  object        \n",
      " 2   IncidentID        25381 non-null  object        \n",
      " 3   BlockNumber       25381 non-null  object        \n",
      " 4   StreetName        25381 non-null  object        \n",
      " 5   Agency            25381 non-null  object        \n",
      " 6   HourReported      25381 non-null  object        \n",
      " 7   ReportingOfficer  25364 non-null  object        \n",
      " 8   Date              25381 non-null  datetime64[ns]\n",
      " 9   DateString        25381 non-null  object        \n",
      " 10  DayOfWeek         25381 non-null  object        \n",
      " 11  Weekend           25381 non-null  bool          \n",
      " 12  Season            25381 non-null  object        \n",
      " 13  HourAMPM          25381 non-null  object        \n",
      " 14  TimeOfDay         25381 non-null  object        \n",
      " 15  FullStreet        25381 non-null  object        \n",
      " 16  lat               25381 non-null  float64       \n",
      " 17  lon               25381 non-null  float64       \n",
      " 18  neighborhood      25381 non-null  object        \n",
      " 19  zip               25381 non-null  object        \n",
      "dtypes: bool(1), datetime64[ns](1), float64(2), int64(1), object(15)\n",
      "memory usage: 3.7+ MB\n"
     ]
    }
   ],
   "source": [
    "df.info()"
   ]
  },
  {
   "cell_type": "code",
   "execution_count": 14,
   "id": "879b715c",
   "metadata": {
    "execution": {
     "iopub.execute_input": "2025-05-14T01:03:26.943641Z",
     "iopub.status.busy": "2025-05-14T01:03:26.943177Z",
     "iopub.status.idle": "2025-05-14T01:03:26.988675Z",
     "shell.execute_reply": "2025-05-14T01:03:26.987985Z"
    },
    "papermill": {
     "duration": 0.054226,
     "end_time": "2025-05-14T01:03:26.989732",
     "exception": false,
     "start_time": "2025-05-14T01:03:26.935506",
     "status": "completed"
    },
    "tags": []
   },
   "outputs": [
    {
     "data": {
      "text/html": [
       "<div>\n",
       "<style scoped>\n",
       "    .dataframe tbody tr th:only-of-type {\n",
       "        vertical-align: middle;\n",
       "    }\n",
       "\n",
       "    .dataframe tbody tr th {\n",
       "        vertical-align: top;\n",
       "    }\n",
       "\n",
       "    .dataframe thead th {\n",
       "        text-align: right;\n",
       "    }\n",
       "</style>\n",
       "<table border=\"1\" class=\"dataframe\">\n",
       "  <thead>\n",
       "    <tr style=\"text-align: right;\">\n",
       "      <th></th>\n",
       "      <th>RecordID</th>\n",
       "      <th>Offense</th>\n",
       "      <th>IncidentID</th>\n",
       "      <th>Agency</th>\n",
       "      <th>ReportingOfficer</th>\n",
       "      <th>Date</th>\n",
       "      <th>DayOfWeek</th>\n",
       "      <th>Weekend</th>\n",
       "      <th>Season</th>\n",
       "      <th>TimeOfDay</th>\n",
       "      <th>FullStreet</th>\n",
       "      <th>lat</th>\n",
       "      <th>lon</th>\n",
       "      <th>neighborhood</th>\n",
       "      <th>zip</th>\n",
       "    </tr>\n",
       "  </thead>\n",
       "  <tbody>\n",
       "    <tr>\n",
       "      <th>0</th>\n",
       "      <td>1</td>\n",
       "      <td>Burglary</td>\n",
       "      <td>202500015944</td>\n",
       "      <td>CPD</td>\n",
       "      <td>Benbow, Lauren</td>\n",
       "      <td>2025-05-11 18:53:29</td>\n",
       "      <td>Sunday</td>\n",
       "      <td>True</td>\n",
       "      <td>Spring</td>\n",
       "      <td>Evening</td>\n",
       "      <td>1000 MONTROSE AVE, B</td>\n",
       "      <td>38.019677</td>\n",
       "      <td>-78.476050</td>\n",
       "      <td>Belmont</td>\n",
       "      <td>22903</td>\n",
       "    </tr>\n",
       "    <tr>\n",
       "      <th>1</th>\n",
       "      <td>2</td>\n",
       "      <td>Larceny - Theft from Building</td>\n",
       "      <td>202500015916</td>\n",
       "      <td>CPD</td>\n",
       "      <td>Brannon, Devin</td>\n",
       "      <td>2025-05-11 13:56:33</td>\n",
       "      <td>Sunday</td>\n",
       "      <td>True</td>\n",
       "      <td>Spring</td>\n",
       "      <td>Afternoon</td>\n",
       "      <td>2100 ARLINGTON BLVD</td>\n",
       "      <td>38.049267</td>\n",
       "      <td>-78.506344</td>\n",
       "      <td>Barracks Road</td>\n",
       "      <td>22905</td>\n",
       "    </tr>\n",
       "    <tr>\n",
       "      <th>2</th>\n",
       "      <td>3</td>\n",
       "      <td>Larceny - From Motor Vehicle</td>\n",
       "      <td>202500015914</td>\n",
       "      <td>CPD</td>\n",
       "      <td>O'Briant, Landon</td>\n",
       "      <td>2025-05-11 13:37:50</td>\n",
       "      <td>Sunday</td>\n",
       "      <td>True</td>\n",
       "      <td>Spring</td>\n",
       "      <td>Afternoon</td>\n",
       "      <td>800 W MAIN ST, 401</td>\n",
       "      <td>38.031480</td>\n",
       "      <td>-78.490333</td>\n",
       "      <td>Starr Hill</td>\n",
       "      <td>22903</td>\n",
       "    </tr>\n",
       "    <tr>\n",
       "      <th>3</th>\n",
       "      <td>4</td>\n",
       "      <td>Animal Complaint</td>\n",
       "      <td>202500015907</td>\n",
       "      <td>CPD</td>\n",
       "      <td>Brannon, Devin</td>\n",
       "      <td>2025-05-11 11:18:47</td>\n",
       "      <td>Sunday</td>\n",
       "      <td>True</td>\n",
       "      <td>Spring</td>\n",
       "      <td>Morning</td>\n",
       "      <td>LOCUST LN / MEGAN CT</td>\n",
       "      <td>38.045309</td>\n",
       "      <td>-78.457570</td>\n",
       "      <td>Locust Grove</td>\n",
       "      <td>22901</td>\n",
       "    </tr>\n",
       "    <tr>\n",
       "      <th>4</th>\n",
       "      <td>5</td>\n",
       "      <td>Lost/FoundProperty</td>\n",
       "      <td>202500015897</td>\n",
       "      <td>CPD</td>\n",
       "      <td>Kirby, Tyree</td>\n",
       "      <td>2025-05-11 07:53:27</td>\n",
       "      <td>Sunday</td>\n",
       "      <td>True</td>\n",
       "      <td>Spring</td>\n",
       "      <td>Morning</td>\n",
       "      <td>200 E WATER ST</td>\n",
       "      <td>38.029430</td>\n",
       "      <td>-78.481109</td>\n",
       "      <td>North Downtown</td>\n",
       "      <td>22903</td>\n",
       "    </tr>\n",
       "  </tbody>\n",
       "</table>\n",
       "</div>"
      ],
      "text/plain": [
       "   RecordID                        Offense    IncidentID Agency  \\\n",
       "0         1                       Burglary  202500015944    CPD   \n",
       "1         2  Larceny - Theft from Building  202500015916    CPD   \n",
       "2         3   Larceny - From Motor Vehicle  202500015914    CPD   \n",
       "3         4               Animal Complaint  202500015907    CPD   \n",
       "4         5             Lost/FoundProperty  202500015897    CPD   \n",
       "\n",
       "   ReportingOfficer                Date DayOfWeek  Weekend  Season  TimeOfDay  \\\n",
       "0    Benbow, Lauren 2025-05-11 18:53:29    Sunday     True  Spring    Evening   \n",
       "1    Brannon, Devin 2025-05-11 13:56:33    Sunday     True  Spring  Afternoon   \n",
       "2  O'Briant, Landon 2025-05-11 13:37:50    Sunday     True  Spring  Afternoon   \n",
       "3    Brannon, Devin 2025-05-11 11:18:47    Sunday     True  Spring    Morning   \n",
       "4      Kirby, Tyree 2025-05-11 07:53:27    Sunday     True  Spring    Morning   \n",
       "\n",
       "              FullStreet        lat        lon    neighborhood    zip  \n",
       "0   1000 MONTROSE AVE, B  38.019677 -78.476050         Belmont  22903  \n",
       "1    2100 ARLINGTON BLVD  38.049267 -78.506344   Barracks Road  22905  \n",
       "2     800 W MAIN ST, 401  38.031480 -78.490333      Starr Hill  22903  \n",
       "3   LOCUST LN / MEGAN CT  38.045309 -78.457570    Locust Grove  22901  \n",
       "4         200 E WATER ST  38.029430 -78.481109  North Downtown  22903  "
      ]
     },
     "execution_count": 14,
     "metadata": {},
     "output_type": "execute_result"
    }
   ],
   "source": [
    "# Now drop the original BlockNumber and StreetName columns\n",
    "df.drop(columns=['BlockNumber', 'StreetName','HourAMPM','HourReported','DateString'], inplace=True)\n",
    "df[\"zip\"] = df[\"zip\"].astype(str)\n",
    "\n",
    "# Fill all missing values in the DataFrame with \"N/A\"\n",
    "df.replace({None: \"N/A\", np.nan: \"N/A\", \"\": \"N/A\"}, inplace=True)\n",
    "df.head()"
   ]
  },
  {
   "cell_type": "code",
   "execution_count": 15,
   "id": "ebecedd9",
   "metadata": {
    "execution": {
     "iopub.execute_input": "2025-05-14T01:03:27.005654Z",
     "iopub.status.busy": "2025-05-14T01:03:27.005227Z",
     "iopub.status.idle": "2025-05-14T01:03:27.026453Z",
     "shell.execute_reply": "2025-05-14T01:03:27.025828Z"
    },
    "papermill": {
     "duration": 0.030202,
     "end_time": "2025-05-14T01:03:27.027494",
     "exception": false,
     "start_time": "2025-05-14T01:03:26.997292",
     "status": "completed"
    },
    "tags": []
   },
   "outputs": [
    {
     "name": "stdout",
     "output_type": "stream",
     "text": [
      "                  MissingCount  MissingPercentage\n",
      "RecordID                     0                0.0\n",
      "Offense                      0                0.0\n",
      "IncidentID                   0                0.0\n",
      "Agency                       0                0.0\n",
      "ReportingOfficer             0                0.0\n",
      "Date                         0                0.0\n",
      "DayOfWeek                    0                0.0\n",
      "Weekend                      0                0.0\n",
      "Season                       0                0.0\n",
      "TimeOfDay                    0                0.0\n",
      "FullStreet                   0                0.0\n",
      "lat                          0                0.0\n",
      "lon                          0                0.0\n",
      "neighborhood                 0                0.0\n",
      "zip                          0                0.0\n"
     ]
    }
   ],
   "source": [
    "missing_info = missing_percentage(df)\n",
    "print(missing_info)"
   ]
  },
  {
   "cell_type": "code",
   "execution_count": 16,
   "id": "c662671d",
   "metadata": {
    "execution": {
     "iopub.execute_input": "2025-05-14T01:03:27.043458Z",
     "iopub.status.busy": "2025-05-14T01:03:27.043007Z",
     "iopub.status.idle": "2025-05-14T01:03:27.047678Z",
     "shell.execute_reply": "2025-05-14T01:03:27.047126Z"
    },
    "papermill": {
     "duration": 0.013601,
     "end_time": "2025-05-14T01:03:27.048673",
     "exception": false,
     "start_time": "2025-05-14T01:03:27.035072",
     "status": "completed"
    },
    "tags": []
   },
   "outputs": [
    {
     "data": {
      "text/plain": [
       "Index(['RecordID', 'Offense', 'IncidentID', 'Agency', 'ReportingOfficer',\n",
       "       'Date', 'DayOfWeek', 'Weekend', 'Season', 'TimeOfDay', 'FullStreet',\n",
       "       'lat', 'lon', 'neighborhood', 'zip'],\n",
       "      dtype='object')"
      ]
     },
     "execution_count": 16,
     "metadata": {},
     "output_type": "execute_result"
    }
   ],
   "source": [
    "df.columns"
   ]
  },
  {
   "cell_type": "code",
   "execution_count": 17,
   "id": "7c30bb02",
   "metadata": {
    "execution": {
     "iopub.execute_input": "2025-05-14T01:03:27.064708Z",
     "iopub.status.busy": "2025-05-14T01:03:27.064215Z",
     "iopub.status.idle": "2025-05-14T01:03:27.087057Z",
     "shell.execute_reply": "2025-05-14T01:03:27.086314Z"
    },
    "papermill": {
     "duration": 0.032157,
     "end_time": "2025-05-14T01:03:27.088258",
     "exception": false,
     "start_time": "2025-05-14T01:03:27.056101",
     "status": "completed"
    },
    "tags": []
   },
   "outputs": [
    {
     "name": "stdout",
     "output_type": "stream",
     "text": [
      "<class 'pandas.core.frame.DataFrame'>\n",
      "RangeIndex: 25381 entries, 0 to 25380\n",
      "Data columns (total 15 columns):\n",
      " #   Column            Non-Null Count  Dtype         \n",
      "---  ------            --------------  -----         \n",
      " 0   RecordID          25381 non-null  int64         \n",
      " 1   Offense           25381 non-null  object        \n",
      " 2   IncidentID        25381 non-null  object        \n",
      " 3   Agency            25381 non-null  object        \n",
      " 4   ReportingOfficer  25381 non-null  object        \n",
      " 5   Date              25381 non-null  datetime64[ns]\n",
      " 6   DayOfWeek         25381 non-null  object        \n",
      " 7   Weekend           25381 non-null  bool          \n",
      " 8   Season            25381 non-null  object        \n",
      " 9   TimeOfDay         25381 non-null  object        \n",
      " 10  FullStreet        25381 non-null  object        \n",
      " 11  lat               25381 non-null  float64       \n",
      " 12  lon               25381 non-null  float64       \n",
      " 13  neighborhood      25381 non-null  object        \n",
      " 14  zip               25381 non-null  object        \n",
      "dtypes: bool(1), datetime64[ns](1), float64(2), int64(1), object(10)\n",
      "memory usage: 2.7+ MB\n"
     ]
    }
   ],
   "source": [
    "df.info()"
   ]
  },
  {
   "cell_type": "markdown",
   "id": "9bb89ebb",
   "metadata": {
    "papermill": {
     "duration": 0.007518,
     "end_time": "2025-05-14T01:03:27.103641",
     "exception": false,
     "start_time": "2025-05-14T01:03:27.096123",
     "status": "completed"
    },
    "tags": []
   },
   "source": [
    "### Export Clean Data"
   ]
  },
  {
   "cell_type": "code",
   "execution_count": 18,
   "id": "0d26ebc7",
   "metadata": {
    "execution": {
     "iopub.execute_input": "2025-05-14T01:03:27.120140Z",
     "iopub.status.busy": "2025-05-14T01:03:27.119544Z",
     "iopub.status.idle": "2025-05-14T01:03:36.546630Z",
     "shell.execute_reply": "2025-05-14T01:03:36.545854Z"
    },
    "papermill": {
     "duration": 9.436712,
     "end_time": "2025-05-14T01:03:36.547872",
     "exception": false,
     "start_time": "2025-05-14T01:03:27.111160",
     "status": "completed"
    },
    "tags": []
   },
   "outputs": [
    {
     "name": "stdout",
     "output_type": "stream",
     "text": [
      "Project Root: /home/runner/work/crime-data/crime-data\n"
     ]
    },
    {
     "name": "stdout",
     "output_type": "stream",
     "text": [
      "Data saved to: /home/runner/work/crime-data/crime-data/data/charlottesville_crime_incidents.csv\n"
     ]
    },
    {
     "name": "stdout",
     "output_type": "stream",
     "text": [
      "Excel saved to: /home/runner/work/crime-data/crime-data/data/charlottesville_crime_incidents.xlsx\n"
     ]
    }
   ],
   "source": [
    "# Determine the project root (assuming papermill is run from the repository root)\n",
    "project_root = os.getcwd()\n",
    "print(\"Project Root:\", project_root)\n",
    "\n",
    "# Set the data directory within the project root\n",
    "data_dir = os.path.join(project_root, \"data\")\n",
    "\n",
    "# Ensure the \"data\" directory exists (create it if it doesn't)\n",
    "if not os.path.exists(data_dir):\n",
    "    os.makedirs(data_dir)\n",
    "\n",
    "# Export the DataFrame to CSV in the \"data\" folder located in the project root\n",
    "csv_path = os.path.join(data_dir, \"charlottesville_crime_incidents.csv\")\n",
    "df.to_csv(csv_path, index=False)\n",
    "print(\"Data saved to:\", csv_path)\n",
    "\n",
    "# Construct the path to your Excel file\n",
    "excel_path = os.path.join(data_dir, \"charlottesville_crime_incidents.xlsx\")\n",
    "\n",
    "# Export the DataFrame to Excel\n",
    "df.to_excel(excel_path, index=False)\n",
    "print(\"Excel saved to:\", excel_path)\n"
   ]
  },
  {
   "cell_type": "markdown",
   "id": "7d1c2e7d",
   "metadata": {
    "papermill": {
     "duration": 0.007794,
     "end_time": "2025-05-14T01:03:36.563831",
     "exception": false,
     "start_time": "2025-05-14T01:03:36.556037",
     "status": "completed"
    },
    "tags": []
   },
   "source": [
    "## Predictive Analytics"
   ]
  },
  {
   "cell_type": "code",
   "execution_count": 19,
   "id": "3c3144f7",
   "metadata": {
    "execution": {
     "iopub.execute_input": "2025-05-14T01:03:36.580988Z",
     "iopub.status.busy": "2025-05-14T01:03:36.580424Z",
     "iopub.status.idle": "2025-05-14T01:03:36.593220Z",
     "shell.execute_reply": "2025-05-14T01:03:36.592530Z"
    },
    "papermill": {
     "duration": 0.022659,
     "end_time": "2025-05-14T01:03:36.594292",
     "exception": false,
     "start_time": "2025-05-14T01:03:36.571633",
     "status": "completed"
    },
    "tags": []
   },
   "outputs": [
    {
     "data": {
      "text/html": [
       "<div>\n",
       "<style scoped>\n",
       "    .dataframe tbody tr th:only-of-type {\n",
       "        vertical-align: middle;\n",
       "    }\n",
       "\n",
       "    .dataframe tbody tr th {\n",
       "        vertical-align: top;\n",
       "    }\n",
       "\n",
       "    .dataframe thead th {\n",
       "        text-align: right;\n",
       "    }\n",
       "</style>\n",
       "<table border=\"1\" class=\"dataframe\">\n",
       "  <thead>\n",
       "    <tr style=\"text-align: right;\">\n",
       "      <th></th>\n",
       "      <th>RecordID</th>\n",
       "      <th>Offense</th>\n",
       "      <th>IncidentID</th>\n",
       "      <th>Agency</th>\n",
       "      <th>ReportingOfficer</th>\n",
       "      <th>Date</th>\n",
       "      <th>DayOfWeek</th>\n",
       "      <th>Weekend</th>\n",
       "      <th>Season</th>\n",
       "      <th>TimeOfDay</th>\n",
       "      <th>FullStreet</th>\n",
       "      <th>lat</th>\n",
       "      <th>lon</th>\n",
       "      <th>neighborhood</th>\n",
       "      <th>zip</th>\n",
       "    </tr>\n",
       "  </thead>\n",
       "  <tbody>\n",
       "    <tr>\n",
       "      <th>0</th>\n",
       "      <td>1</td>\n",
       "      <td>Burglary</td>\n",
       "      <td>202500015944</td>\n",
       "      <td>CPD</td>\n",
       "      <td>Benbow, Lauren</td>\n",
       "      <td>2025-05-11 18:53:29</td>\n",
       "      <td>Sunday</td>\n",
       "      <td>True</td>\n",
       "      <td>Spring</td>\n",
       "      <td>Evening</td>\n",
       "      <td>1000 MONTROSE AVE, B</td>\n",
       "      <td>38.019677</td>\n",
       "      <td>-78.476050</td>\n",
       "      <td>Belmont</td>\n",
       "      <td>22903</td>\n",
       "    </tr>\n",
       "    <tr>\n",
       "      <th>1</th>\n",
       "      <td>2</td>\n",
       "      <td>Larceny - Theft from Building</td>\n",
       "      <td>202500015916</td>\n",
       "      <td>CPD</td>\n",
       "      <td>Brannon, Devin</td>\n",
       "      <td>2025-05-11 13:56:33</td>\n",
       "      <td>Sunday</td>\n",
       "      <td>True</td>\n",
       "      <td>Spring</td>\n",
       "      <td>Afternoon</td>\n",
       "      <td>2100 ARLINGTON BLVD</td>\n",
       "      <td>38.049267</td>\n",
       "      <td>-78.506344</td>\n",
       "      <td>Barracks Road</td>\n",
       "      <td>22905</td>\n",
       "    </tr>\n",
       "    <tr>\n",
       "      <th>2</th>\n",
       "      <td>3</td>\n",
       "      <td>Larceny - From Motor Vehicle</td>\n",
       "      <td>202500015914</td>\n",
       "      <td>CPD</td>\n",
       "      <td>O'Briant, Landon</td>\n",
       "      <td>2025-05-11 13:37:50</td>\n",
       "      <td>Sunday</td>\n",
       "      <td>True</td>\n",
       "      <td>Spring</td>\n",
       "      <td>Afternoon</td>\n",
       "      <td>800 W MAIN ST, 401</td>\n",
       "      <td>38.031480</td>\n",
       "      <td>-78.490333</td>\n",
       "      <td>Starr Hill</td>\n",
       "      <td>22903</td>\n",
       "    </tr>\n",
       "    <tr>\n",
       "      <th>3</th>\n",
       "      <td>4</td>\n",
       "      <td>Animal Complaint</td>\n",
       "      <td>202500015907</td>\n",
       "      <td>CPD</td>\n",
       "      <td>Brannon, Devin</td>\n",
       "      <td>2025-05-11 11:18:47</td>\n",
       "      <td>Sunday</td>\n",
       "      <td>True</td>\n",
       "      <td>Spring</td>\n",
       "      <td>Morning</td>\n",
       "      <td>LOCUST LN / MEGAN CT</td>\n",
       "      <td>38.045309</td>\n",
       "      <td>-78.457570</td>\n",
       "      <td>Locust Grove</td>\n",
       "      <td>22901</td>\n",
       "    </tr>\n",
       "    <tr>\n",
       "      <th>4</th>\n",
       "      <td>5</td>\n",
       "      <td>Lost/FoundProperty</td>\n",
       "      <td>202500015897</td>\n",
       "      <td>CPD</td>\n",
       "      <td>Kirby, Tyree</td>\n",
       "      <td>2025-05-11 07:53:27</td>\n",
       "      <td>Sunday</td>\n",
       "      <td>True</td>\n",
       "      <td>Spring</td>\n",
       "      <td>Morning</td>\n",
       "      <td>200 E WATER ST</td>\n",
       "      <td>38.029430</td>\n",
       "      <td>-78.481109</td>\n",
       "      <td>North Downtown</td>\n",
       "      <td>22903</td>\n",
       "    </tr>\n",
       "  </tbody>\n",
       "</table>\n",
       "</div>"
      ],
      "text/plain": [
       "   RecordID                        Offense    IncidentID Agency  \\\n",
       "0         1                       Burglary  202500015944    CPD   \n",
       "1         2  Larceny - Theft from Building  202500015916    CPD   \n",
       "2         3   Larceny - From Motor Vehicle  202500015914    CPD   \n",
       "3         4               Animal Complaint  202500015907    CPD   \n",
       "4         5             Lost/FoundProperty  202500015897    CPD   \n",
       "\n",
       "   ReportingOfficer                Date DayOfWeek  Weekend  Season  TimeOfDay  \\\n",
       "0    Benbow, Lauren 2025-05-11 18:53:29    Sunday     True  Spring    Evening   \n",
       "1    Brannon, Devin 2025-05-11 13:56:33    Sunday     True  Spring  Afternoon   \n",
       "2  O'Briant, Landon 2025-05-11 13:37:50    Sunday     True  Spring  Afternoon   \n",
       "3    Brannon, Devin 2025-05-11 11:18:47    Sunday     True  Spring    Morning   \n",
       "4      Kirby, Tyree 2025-05-11 07:53:27    Sunday     True  Spring    Morning   \n",
       "\n",
       "              FullStreet        lat        lon    neighborhood    zip  \n",
       "0   1000 MONTROSE AVE, B  38.019677 -78.476050         Belmont  22903  \n",
       "1    2100 ARLINGTON BLVD  38.049267 -78.506344   Barracks Road  22905  \n",
       "2     800 W MAIN ST, 401  38.031480 -78.490333      Starr Hill  22903  \n",
       "3   LOCUST LN / MEGAN CT  38.045309 -78.457570    Locust Grove  22901  \n",
       "4         200 E WATER ST  38.029430 -78.481109  North Downtown  22903  "
      ]
     },
     "execution_count": 19,
     "metadata": {},
     "output_type": "execute_result"
    }
   ],
   "source": [
    "df.head()"
   ]
  },
  {
   "cell_type": "code",
   "execution_count": 20,
   "id": "14a4a486",
   "metadata": {
    "execution": {
     "iopub.execute_input": "2025-05-14T01:03:36.612711Z",
     "iopub.status.busy": "2025-05-14T01:03:36.612064Z",
     "iopub.status.idle": "2025-05-14T01:03:36.616958Z",
     "shell.execute_reply": "2025-05-14T01:03:36.616406Z"
    },
    "papermill": {
     "duration": 0.015139,
     "end_time": "2025-05-14T01:03:36.618093",
     "exception": false,
     "start_time": "2025-05-14T01:03:36.602954",
     "status": "completed"
    },
    "tags": []
   },
   "outputs": [
    {
     "data": {
      "text/plain": [
       "Index(['RecordID', 'Offense', 'IncidentID', 'Agency', 'ReportingOfficer',\n",
       "       'Date', 'DayOfWeek', 'Weekend', 'Season', 'TimeOfDay', 'FullStreet',\n",
       "       'lat', 'lon', 'neighborhood', 'zip'],\n",
       "      dtype='object')"
      ]
     },
     "execution_count": 20,
     "metadata": {},
     "output_type": "execute_result"
    }
   ],
   "source": [
    "df.columns"
   ]
  },
  {
   "cell_type": "markdown",
   "id": "90bc13c9",
   "metadata": {
    "papermill": {
     "duration": 0.008185,
     "end_time": "2025-05-14T01:03:36.634811",
     "exception": false,
     "start_time": "2025-05-14T01:03:36.626626",
     "status": "completed"
    },
    "tags": []
   },
   "source": [
    "### Data Preparation\n",
    "\n",
    "We need to ensure the data is in the correct format for modeling and can handle missing values, categorical variables, and dates. Here's how to prepare your data:"
   ]
  },
  {
   "cell_type": "code",
   "execution_count": 21,
   "id": "82f88362",
   "metadata": {
    "execution": {
     "iopub.execute_input": "2025-05-14T01:03:36.653055Z",
     "iopub.status.busy": "2025-05-14T01:03:36.652413Z",
     "iopub.status.idle": "2025-05-14T01:03:38.396351Z",
     "shell.execute_reply": "2025-05-14T01:03:38.395508Z"
    },
    "papermill": {
     "duration": 1.754786,
     "end_time": "2025-05-14T01:03:38.397870",
     "exception": false,
     "start_time": "2025-05-14T01:03:36.643084",
     "status": "completed"
    },
    "tags": []
   },
   "outputs": [],
   "source": [
    "import pandas as pd\n",
    "from sklearn.model_selection import train_test_split\n",
    "from sklearn.preprocessing import OneHotEncoder, LabelEncoder\n",
    "from sklearn.ensemble import RandomForestClassifier\n",
    "from sklearn.linear_model import LogisticRegression\n",
    "from sklearn.tree import DecisionTreeClassifier\n",
    "from sklearn.metrics import classification_report, accuracy_score\n",
    "import seaborn as sns\n",
    "import matplotlib.pyplot as plt\n",
    "\n",
    "# Convert 'Date' to datetime\n",
    "df['Date'] = pd.to_datetime(df['Date'])\n",
    "\n",
    "# Feature engineering: Extract additional time-based features\n",
    "df['Year'] = df['Date'].dt.year\n",
    "df['Month'] = df['Date'].dt.month\n",
    "df['DayOfMonth'] = df['Date'].dt.day\n",
    "\n",
    "# One-hot encoding for 'FullStreet', 'neighborhood', 'zip'\n",
    "df = pd.get_dummies(df, columns=['FullStreet', 'neighborhood', 'zip'], drop_first=True)\n",
    "\n",
    "# Label encoding for ordered variables (those with a natural order like 'DayOfWeek', 'Season', 'TimeOfDay')\n",
    "label_encoders = {}\n",
    "for column in ['DayOfWeek', 'Season', 'TimeOfDay', 'Agency', 'ReportingOfficer']:  # Example ordinal variables\n",
    "    le = LabelEncoder()\n",
    "    df[column] = le.fit_transform(df[column])\n",
    "    label_encoders[column] = le\n",
    "\n",
    "# Filter the dataset to include only the offenses of interest\n",
    "offenses_of_interest = [\n",
    "    'Hit and Run', 'Assault Simple', 'Suspicious Activity', 'Vandalism', \n",
    "    'Larceny - From Mot Vehicle', 'Larceny - All Other', \n",
    "    'Assist Citizen - Mental/TDO/ECO', 'Lost/FoundProperty'\n",
    "]\n",
    "\n",
    "df = df[df['Offense'].isin(offenses_of_interest)]\n",
    "\n",
    "# Label encode the target variable (Offense)\n",
    "offense_encoder = LabelEncoder()\n",
    "df['Offense'] = offense_encoder.fit_transform(df['Offense'])\n",
    "\n",
    "# Separate features (X) and target (y)\n",
    "X = df[['Year', 'Month', 'DayOfMonth', 'DayOfWeek', 'Weekend', 'Season', 'TimeOfDay', 'lat', 'lon', 'Agency', 'ReportingOfficer']]\n",
    "y = df['Offense']  # Offense is now the encoded target variable\n",
    "\n",
    "# Split the data into training and testing sets\n",
    "X_train, X_test, y_train, y_test = train_test_split(X, y, test_size=0.3, random_state=42)\n"
   ]
  },
  {
   "cell_type": "markdown",
   "id": "d9b89641",
   "metadata": {
    "papermill": {
     "duration": 0.008102,
     "end_time": "2025-05-14T01:03:38.414407",
     "exception": false,
     "start_time": "2025-05-14T01:03:38.406305",
     "status": "completed"
    },
    "tags": []
   },
   "source": [
    "### Model Training\n",
    "\n",
    "Here we will train several models (e.g., Random Forest, Logistic Regression, and Decision Tree). We will use cross-validation to choose the best model based on accuracy, and then explain the impact of the variables."
   ]
  },
  {
   "cell_type": "code",
   "execution_count": 22,
   "id": "e100c452",
   "metadata": {
    "execution": {
     "iopub.execute_input": "2025-05-14T01:03:38.432064Z",
     "iopub.status.busy": "2025-05-14T01:03:38.431419Z",
     "iopub.status.idle": "2025-05-14T01:03:42.118830Z",
     "shell.execute_reply": "2025-05-14T01:03:42.118164Z"
    },
    "papermill": {
     "duration": 3.697617,
     "end_time": "2025-05-14T01:03:42.120017",
     "exception": false,
     "start_time": "2025-05-14T01:03:38.422400",
     "status": "completed"
    },
    "tags": []
   },
   "outputs": [
    {
     "name": "stderr",
     "output_type": "stream",
     "text": [
      "/opt/hostedtoolcache/Python/3.9.22/x64/lib/python3.9/site-packages/sklearn/linear_model/_logistic.py:465: ConvergenceWarning: lbfgs failed to converge (status=1):\n",
      "STOP: TOTAL NO. of ITERATIONS REACHED LIMIT.\n",
      "\n",
      "Increase the number of iterations (max_iter) or scale the data as shown in:\n",
      "    https://scikit-learn.org/stable/modules/preprocessing.html\n",
      "Please also refer to the documentation for alternative solver options:\n",
      "    https://scikit-learn.org/stable/modules/linear_model.html#logistic-regression\n",
      "  n_iter_i = _check_optimize_result(\n",
      "/opt/hostedtoolcache/Python/3.9.22/x64/lib/python3.9/site-packages/sklearn/metrics/_classification.py:1565: UndefinedMetricWarning: Precision is ill-defined and being set to 0.0 in labels with no predicted samples. Use `zero_division` parameter to control this behavior.\n",
      "  _warn_prf(average, modifier, f\"{metric.capitalize()} is\", len(result))\n",
      "/opt/hostedtoolcache/Python/3.9.22/x64/lib/python3.9/site-packages/sklearn/metrics/_classification.py:1565: UndefinedMetricWarning: Precision is ill-defined and being set to 0.0 in labels with no predicted samples. Use `zero_division` parameter to control this behavior.\n",
      "  _warn_prf(average, modifier, f\"{metric.capitalize()} is\", len(result))\n",
      "/opt/hostedtoolcache/Python/3.9.22/x64/lib/python3.9/site-packages/sklearn/metrics/_classification.py:1565: UndefinedMetricWarning: Precision is ill-defined and being set to 0.0 in labels with no predicted samples. Use `zero_division` parameter to control this behavior.\n",
      "  _warn_prf(average, modifier, f\"{metric.capitalize()} is\", len(result))\n"
     ]
    },
    {
     "name": "stdout",
     "output_type": "stream",
     "text": [
      "\n",
      "Classification Report for All Models:\n",
      "\n",
      "Model: RandomForest\n",
      "Accuracy: 0.2876\n",
      "              precision    recall  f1-score    support\n",
      "0              0.297844  0.390459  0.337920   566.0000\n",
      "1              0.266467  0.208431  0.233903   427.0000\n",
      "2              0.310021  0.445946  0.365764   666.0000\n",
      "3              0.225464  0.177824  0.198830   478.0000\n",
      "4              0.360731  0.226361  0.278169   349.0000\n",
      "5              0.254042  0.201465  0.224719   546.0000\n",
      "6              0.287411  0.267699  0.277205   452.0000\n",
      "accuracy       0.287600  0.287600  0.287600     0.2876\n",
      "macro avg      0.285997  0.274027  0.273787  3484.0000\n",
      "weighted avg   0.284477  0.287600  0.279809  3484.0000\n"
     ]
    },
    {
     "data": {
      "image/png": "[encoded data removed]",
      "text/plain": [
       "<Figure size 800x600 with 2 Axes>"
      ]
     },
     "metadata": {},
     "output_type": "display_data"
    },
    {
     "name": "stdout",
     "output_type": "stream",
     "text": [
      "\n",
      "Model: LogisticRegression\n",
      "Accuracy: 0.2144\n",
      "              precision    recall  f1-score      support\n",
      "0              0.202151  0.498233  0.287608   566.000000\n",
      "1              0.000000  0.000000  0.000000   427.000000\n",
      "2              0.222595  0.698198  0.337568   666.000000\n",
      "3              0.000000  0.000000  0.000000   478.000000\n",
      "4              0.000000  0.000000  0.000000   349.000000\n",
      "5              0.000000  0.000000  0.000000   546.000000\n",
      "6              0.000000  0.000000  0.000000   452.000000\n",
      "accuracy       0.214409  0.214409  0.214409     0.214409\n",
      "macro avg      0.060678  0.170919  0.089311  3484.000000\n",
      "weighted avg   0.075392  0.214409  0.111253  3484.000000\n"
     ]
    },
    {
     "data": {
      "image/png": "[encoded data removed]",
      "text/plain": [
       "<Figure size 800x600 with 2 Axes>"
      ]
     },
     "metadata": {},
     "output_type": "display_data"
    },
    {
     "name": "stdout",
     "output_type": "stream",
     "text": [
      "\n",
      "Model: DecisionTree\n",
      "Accuracy: 0.2078\n",
      "              precision    recall  f1-score      support\n",
      "0              0.218213  0.224382  0.221254   566.000000\n",
      "1              0.214286  0.203747  0.208884   427.000000\n",
      "2              0.250373  0.252252  0.251309   666.000000\n",
      "3              0.184805  0.188285  0.186528   478.000000\n",
      "4              0.193732  0.194842  0.194286   349.000000\n",
      "5              0.196881  0.184982  0.190746   546.000000\n",
      "6              0.175105  0.183628  0.179266   452.000000\n",
      "accuracy       0.207807  0.207807  0.207807     0.207807\n",
      "macro avg      0.204771  0.204588  0.204610  3484.000000\n",
      "weighted avg   0.207908  0.207807  0.207789  3484.000000\n"
     ]
    },
    {
     "data": {
      "image/png": "[encoded data removed]",
      "text/plain": [
       "<Figure size 800x600 with 2 Axes>"
      ]
     },
     "metadata": {},
     "output_type": "display_data"
    },
    {
     "name": "stdout",
     "output_type": "stream",
     "text": [
      "\n",
      "Best Model:\n",
      "Best Model: RandomForestClassifier()\n",
      "Best Model Accuracy: 0.2876\n"
     ]
    }
   ],
   "source": [
    "import pandas as pd\n",
    "from sklearn.model_selection import train_test_split\n",
    "from sklearn.ensemble import RandomForestClassifier\n",
    "from sklearn.linear_model import LogisticRegression\n",
    "from sklearn.tree import DecisionTreeClassifier\n",
    "from sklearn.metrics import classification_report, accuracy_score, confusion_matrix\n",
    "import seaborn as sns\n",
    "import matplotlib.pyplot as plt\n",
    "\n",
    "# Define models\n",
    "models = {\n",
    "    'RandomForest': RandomForestClassifier(),\n",
    "    'LogisticRegression': LogisticRegression(max_iter=1000),\n",
    "    'DecisionTree': DecisionTreeClassifier()\n",
    "}\n",
    "\n",
    "# Train models and evaluate them\n",
    "best_model = None\n",
    "best_score = 0\n",
    "model_reports = {}\n",
    "\n",
    "for model_name, model in models.items():\n",
    "    model.fit(X_train, y_train)  # Train model\n",
    "    y_pred = model.predict(X_test)  # Make predictions\n",
    "    \n",
    "    # Calculate accuracy and generate classification report\n",
    "    accuracy = accuracy_score(y_test, y_pred)\n",
    "    model_reports[model_name] = classification_report(y_test, y_pred, output_dict=True)  # Store as a dictionary for easier analysis\n",
    "    \n",
    "    # Track best performing model\n",
    "    if accuracy > best_score:\n",
    "        best_score = accuracy\n",
    "        best_model = model\n",
    "\n",
    "# Display classification reports and confusion matrices\n",
    "print(\"\\nClassification Report for All Models:\")\n",
    "for model_name, report in model_reports.items():\n",
    "    print(f\"\\nModel: {model_name}\")\n",
    "    print(\"Accuracy: {:.4f}\".format(accuracy_score(y_test, models[model_name].predict(X_test))))  # Display accuracy\n",
    "    print(pd.DataFrame(report).transpose())  # Display classification report as a DataFrame\n",
    "\n",
    "    # Plot Confusion Matrix\n",
    "    cm = confusion_matrix(y_test, models[model_name].predict(X_test))\n",
    "    plt.figure(figsize=(8, 6))\n",
    "    sns.heatmap(cm, annot=True, fmt=\"d\", cmap='Blues', xticklabels=offense_encoder.classes_, yticklabels=offense_encoder.classes_)\n",
    "    plt.title(f\"Confusion Matrix - {model_name}\")\n",
    "    plt.xlabel('Predicted Labels')\n",
    "    plt.ylabel('True Labels')\n",
    "    plt.show()\n",
    "\n",
    "# Display best model details\n",
    "print(\"\\nBest Model:\")\n",
    "print(f\"Best Model: {best_model}\")\n",
    "print(f\"Best Model Accuracy: {best_score:.4f}\")\n"
   ]
  },
  {
   "cell_type": "markdown",
   "id": "bc891f36",
   "metadata": {
    "papermill": {
     "duration": 0.011073,
     "end_time": "2025-05-14T01:03:42.142540",
     "exception": false,
     "start_time": "2025-05-14T01:03:42.131467",
     "status": "completed"
    },
    "tags": []
   },
   "source": [
    "#### Classification Report for All Models:\n",
    "\n",
    "### Explanation of the Classification Results (RandomForest Model)\n",
    "\n",
    "The results you provided are from a **Random Forest** model, which is used for predicting different types of offenses. Let's break down the key components of the results:\n",
    "\n",
    "#### 1. **Accuracy: 0.2822**\n",
    "   - **Accuracy** measures the overall percentage of correct predictions made by the model. An accuracy of 28.22% means the model correctly predicted the offense in about 28% of the cases. This indicates the model's predictions are not highly reliable, as the accuracy is quite low.\n",
    "\n",
    "#### 2. **Classification Report:**\n",
    "   The classification report includes precision, recall, and F1-score for each offense. Let's go over these terms and how they apply to the results:\n",
    "\n",
    "   - **Precision**: The proportion of true positive predictions out of all positive predictions made by the model for a specific class (offense).\n",
    "   - **Recall**: The proportion of true positive predictions out of all actual positive instances in the dataset.\n",
    "   - **F1-Score**: The harmonic mean of precision and recall, providing a balance between the two metrics.\n",
    "   - **Support**: The number of actual occurrences of each class in the test set.\n",
    "\n",
    "   Let's analyze each offense based on these metrics:\n",
    "\n",
    "   | **Offense**                        | **Precision** | **Recall** | **F1-Score** | **Support** |\n",
    "   |------------------------------------|---------------|------------|--------------|-------------|\n",
    "   | **Assault Simple**                 | 0.2892        | 0.3754     | 0.3267       | 594         |\n",
    "   | **Assist Citizen - Mental/TDO/ECO**| 0.3182        | 0.2274     | 0.2652       | 431         |\n",
    "   | **Hit and Run**                    | 0.2963        | 0.4765     | 0.3654       | 638         |\n",
    "   | **Larceny - All Other**            | 0.2270        | 0.1453     | 0.1772       | 475         |\n",
    "   | **Lost/FoundProperty**             | 0.3333        | 0.2102     | 0.2578       | 352         |\n",
    "   | **Suspicious Activity**            | 0.2344        | 0.2169     | 0.2253       | 484         |\n",
    "   | **Vandalism**                      | 0.2712        | 0.2106     | 0.2371       | 470         |\n",
    "\n",
    "#### 3. **Key Insights from the Report:**\n",
    "\n",
    "- **Precision**:\n",
    "   - The highest precision is for **Larceny - All Other** (0.3333), indicating that when the model predicts this offense, it is correct about 33% of the time. However, this is still quite low.\n",
    "   - **Assist Citizen - Mental/TDO/ECO** has the lowest precision (0.2269), meaning that the model's predictions for this offense tend to be wrong more often than correct.\n",
    "\n",
    "- **Recall**:\n",
    "   - **Hit and Run** has the highest recall (0.4765), meaning the model identifies about 48% of the actual occurrences of this offense. This is better than the precision, which indicates it is missing many true positives but is still able to identify a fair number of cases.\n",
    "   - **Larceny - All Other** and **Suspicious Activity** have the lowest recall values (0.1453 and 0.2169, respectively), indicating that the model is failing to identify most of the actual cases for these offenses.\n",
    "\n",
    "- **F1-Score**:\n",
    "   - The **F1-Score** balances precision and recall. It is highest for **Hit and Run** (0.3654), but still relatively low overall. This suggests the model is better at identifying **Hit and Run** than other offenses but still has room for improvement.\n",
    "   - **Larceny - All Other** has the lowest F1-Score (0.1772), indicating a poor balance between precision and recall for this offense.\n",
    "\n",
    "#### 4. **Macro Average and Weighted Average:**\n",
    "   - **Macro Average**: This gives the average precision, recall, and F1-Score across all classes (offenses) without considering the class distribution. It averages the results for all offenses equally.\n",
    "     - Precision: 0.2814\n",
    "     - Recall: 0.2661\n",
    "     - F1-Score: 0.2649\n",
    "   - **Weighted Average**: This averages the metrics but weighs each class by its support (the number of true instances in the test set). This gives a better sense of overall performance, considering the class distribution.\n",
    "     - Precision: 0.2799\n",
    "     - Recall: 0.2822\n",
    "     - F1-Score: 0.2720\n",
    "\n",
    "#### 5. **Confusion Matrix (Visualization Analysis)**:\n",
    "   - The confusion matrix shows the distribution of true positive, false positive, true negative, and false negative predictions for each class.\n",
    "     - For **Hit and Run**, the model performs relatively well in identifying this offense (304 true positives). However, it also misclassifies some **Hit and Run** instances as other offenses (e.g., **Assault Simple**, **Suspicious Activity**, etc.).\n",
    "     - **Larceny - All Other** is frequently misclassified as **Hit and Run**, **Suspicious Activity**, and others. This is evident from the large number of off-diagonal elements in its row.\n",
    "     - **Assist Citizen - Mental/TDO/ECO** and **Suspicious Activity** are frequently misclassified, as seen by the off-diagonal values in their rows.\n",
    "\n",
    "### Conclusion:\n",
    "The Random Forest model has low accuracy (28.22%), suggesting that it struggles to predict most offenses accurately. Some offenses like **Hit and Run** are better predicted than others, but overall, the model shows a high level of misclassification across all offenses. There may be a need for further tuning of the model, additional feature engineering, or trying different models for better performance.\n",
    "\n",
    "Let me know if you'd like to improve the model or make adjustments based on these results!\n",
    "\n"
   ]
  },
  {
   "cell_type": "markdown",
   "id": "3d9b3611",
   "metadata": {
    "papermill": {
     "duration": 0.010988,
     "end_time": "2025-05-14T01:03:42.164669",
     "exception": false,
     "start_time": "2025-05-14T01:03:42.153681",
     "status": "completed"
    },
    "tags": []
   },
   "source": [
    "### Model Explanation\n",
    "\n",
    "Once we’ve chosen the best model, we will explain its predictions by examining feature importance for tree-based models and using statistical methods like logistic regression coefficients for linear models."
   ]
  },
  {
   "cell_type": "markdown",
   "id": "bcd04b0b",
   "metadata": {
    "papermill": {
     "duration": 0.011532,
     "end_time": "2025-05-14T01:03:42.187222",
     "exception": false,
     "start_time": "2025-05-14T01:03:42.175690",
     "status": "completed"
    },
    "tags": []
   },
   "source": [
    "#### Feature Importance for Random Forest / Decision Tree\n",
    "\n",
    "##### For Tree-based Models (Random Forest, Decision Tree)\n",
    "\n",
    "For Random Forest or Decision Tree, we can look at feature importance to understand which variables contribute the most to the model's predictions. Here's how you can visualize and interpret the importance of each feature:"
   ]
  },
  {
   "cell_type": "code",
   "execution_count": 23,
   "id": "e98a20bc",
   "metadata": {
    "execution": {
     "iopub.execute_input": "2025-05-14T01:03:42.210809Z",
     "iopub.status.busy": "2025-05-14T01:03:42.210072Z",
     "iopub.status.idle": "2025-05-14T01:03:42.387348Z",
     "shell.execute_reply": "2025-05-14T01:03:42.386625Z"
    },
    "papermill": {
     "duration": 0.190664,
     "end_time": "2025-05-14T01:03:42.388628",
     "exception": false,
     "start_time": "2025-05-14T01:03:42.197964",
     "status": "completed"
    },
    "tags": []
   },
   "outputs": [
    {
     "data": {
      "image/png": "[encoded data removed]",
      "text/plain": [
       "<Figure size 1000x600 with 1 Axes>"
      ]
     },
     "metadata": {},
     "output_type": "display_data"
    }
   ],
   "source": [
    "# For RandomForest or DecisionTree models, we can check feature importance\n",
    "if isinstance(best_model, RandomForestClassifier) or isinstance(best_model, DecisionTreeClassifier):\n",
    "    feature_importance = best_model.feature_importances_\n",
    "    feature_names = X.columns\n",
    "    importance_df = pd.DataFrame({'Feature': feature_names, 'Importance': feature_importance})\n",
    "    importance_df = importance_df.sort_values(by='Importance', ascending=False)\n",
    "    \n",
    "    # Plotting the feature importances\n",
    "    plt.figure(figsize=(10, 6))\n",
    "    sns.barplot(x='Importance', y='Feature', data=importance_df)\n",
    "    plt.title(\"Feature Importance\")\n",
    "    plt.show()\n"
   ]
  },
  {
   "cell_type": "code",
   "execution_count": null,
   "id": "e9fc1ee3",
   "metadata": {
    "papermill": {
     "duration": 0.011493,
     "end_time": "2025-05-14T01:03:42.411785",
     "exception": false,
     "start_time": "2025-05-14T01:03:42.400292",
     "status": "completed"
    },
    "tags": []
   },
   "outputs": [],
   "source": []
  },
  {
   "cell_type": "markdown",
   "id": "2213277b",
   "metadata": {
    "papermill": {
     "duration": 0.011545,
     "end_time": "2025-05-14T01:03:42.434786",
     "exception": false,
     "start_time": "2025-05-14T01:03:42.423241",
     "status": "completed"
    },
    "tags": []
   },
   "source": [
    "### Evaluation\n",
    "\n",
    "After training the models and examining their performance, we evaluate the chosen model based on metrics like accuracy, precision, recall, and F1 score.\n",
    "\n"
   ]
  },
  {
   "cell_type": "code",
   "execution_count": 24,
   "id": "2fdaf33f",
   "metadata": {
    "execution": {
     "iopub.execute_input": "2025-05-14T01:03:42.459533Z",
     "iopub.status.busy": "2025-05-14T01:03:42.458876Z",
     "iopub.status.idle": "2025-05-14T01:03:42.552099Z",
     "shell.execute_reply": "2025-05-14T01:03:42.551448Z"
    },
    "papermill": {
     "duration": 0.106988,
     "end_time": "2025-05-14T01:03:42.553264",
     "exception": false,
     "start_time": "2025-05-14T01:03:42.446276",
     "status": "completed"
    },
    "tags": []
   },
   "outputs": [
    {
     "name": "stdout",
     "output_type": "stream",
     "text": [
      "Accuracy: 0.2876\n",
      "Classification Report:\n",
      "              precision    recall  f1-score   support\n",
      "\n",
      "           0       0.30      0.39      0.34       566\n",
      "           1       0.27      0.21      0.23       427\n",
      "           2       0.31      0.45      0.37       666\n",
      "           3       0.23      0.18      0.20       478\n",
      "           4       0.36      0.23      0.28       349\n",
      "           5       0.25      0.20      0.22       546\n",
      "           6       0.29      0.27      0.28       452\n",
      "\n",
      "    accuracy                           0.29      3484\n",
      "   macro avg       0.29      0.27      0.27      3484\n",
      "weighted avg       0.28      0.29      0.28      3484\n",
      "\n",
      "Confusion Matrix:\n",
      "[[221  71 101  56  18  65  34]\n",
      " [105  89 102  37  18  43  33]\n",
      " [110  42 297  59  24  69  65]\n",
      " [ 83  36 137  85  29  56  52]\n",
      " [ 34  23  80  44  79  32  57]\n",
      " [118  37 146  53  23 110  59]\n",
      " [ 71  36  95  43  28  58 121]]\n",
      "Precision: 0.2845\n",
      "Recall: 0.2876\n",
      "F1 Score: 0.2798\n"
     ]
    }
   ],
   "source": [
    "from sklearn.metrics import classification_report, confusion_matrix, accuracy_score, precision_score, recall_score, f1_score\n",
    "\n",
    "# Predict on the test set\n",
    "y_pred = best_model.predict(X_test)\n",
    "\n",
    "# Calculate Accuracy\n",
    "accuracy = accuracy_score(y_test, y_pred)\n",
    "print(f\"Accuracy: {accuracy:.4f}\")\n",
    "\n",
    "# Classification Report\n",
    "print(\"Classification Report:\")\n",
    "print(classification_report(y_test, y_pred))\n",
    "\n",
    "# Confusion Matrix\n",
    "conf_matrix = confusion_matrix(y_test, y_pred)\n",
    "print(\"Confusion Matrix:\")\n",
    "print(conf_matrix)\n",
    "\n",
    "# Precision, Recall, F1 Score for each class (Offense Type)\n",
    "precision = precision_score(y_test, y_pred, average='weighted')\n",
    "recall = recall_score(y_test, y_pred, average='weighted')\n",
    "f1 = f1_score(y_test, y_pred, average='weighted')\n",
    "\n",
    "print(f\"Precision: {precision:.4f}\")\n",
    "print(f\"Recall: {recall:.4f}\")\n",
    "print(f\"F1 Score: {f1:.4f}\")\n"
   ]
  },
  {
   "cell_type": "markdown",
   "id": "5a94e795",
   "metadata": {
    "papermill": {
     "duration": 0.01166,
     "end_time": "2025-05-14T01:03:42.577054",
     "exception": false,
     "start_time": "2025-05-14T01:03:42.565394",
     "status": "completed"
    },
    "tags": []
   },
   "source": [
    "#### For Logistic Regression (Coefficient Interpretation)\n",
    "\n",
    "For Logistic Regression, the model coefficients can help us understand how each feature affects the likelihood of an offense happening. A positive coefficient indicates a feature increases the likelihood of the offense, and a negative coefficient indicates the opposite."
   ]
  },
  {
   "cell_type": "code",
   "execution_count": 25,
   "id": "530fb0d0",
   "metadata": {
    "execution": {
     "iopub.execute_input": "2025-05-14T01:03:42.601784Z",
     "iopub.status.busy": "2025-05-14T01:03:42.601126Z",
     "iopub.status.idle": "2025-05-14T01:03:42.606381Z",
     "shell.execute_reply": "2025-05-14T01:03:42.605758Z"
    },
    "papermill": {
     "duration": 0.019062,
     "end_time": "2025-05-14T01:03:42.607563",
     "exception": false,
     "start_time": "2025-05-14T01:03:42.588501",
     "status": "completed"
    },
    "tags": []
   },
   "outputs": [],
   "source": [
    "if isinstance(best_model, LogisticRegression):\n",
    "    # Logistic regression coefficients\n",
    "    coef_df = pd.DataFrame({\n",
    "        'Feature': X.columns,\n",
    "        'Coefficient': best_model.coef_[0]\n",
    "    })\n",
    "    coef_df['AbsCoefficient'] = coef_df['Coefficient'].abs()\n",
    "    coef_df = coef_df.sort_values(by='AbsCoefficient', ascending=False)\n",
    "    \n",
    "    # Plotting the coefficients\n",
    "    plt.figure(figsize=(10, 6))\n",
    "    sns.barplot(x='AbsCoefficient', y='Feature', data=coef_df)\n",
    "    plt.title(\"Logistic Regression Coefficients Impact\")\n",
    "    plt.show()\n",
    "\n",
    "    # Print the top 5 most impactful features (by absolute coefficient value)\n",
    "    print(\"Top 5 most impactful features based on coefficients:\")\n",
    "    print(coef_df.head())\n"
   ]
  },
  {
   "cell_type": "markdown",
   "id": "d2b375e1",
   "metadata": {
    "papermill": {
     "duration": 0.011609,
     "end_time": "2025-05-14T01:03:42.630937",
     "exception": false,
     "start_time": "2025-05-14T01:03:42.619328",
     "status": "completed"
    },
    "tags": []
   },
   "source": [
    "Explanation of Output:\n",
    "\n",
    "Feature Importance (Random Forest/Decision Tree): The bar plot will show how important each feature is in the decision-making process. Features at the top of the list are the most influential in predicting the occurrence of offenses.\n",
    "\n",
    "Logistic Regression Coefficients: The bar plot will show the magnitude of the coefficients for each feature. Features with larger absolute values (either positive or negative) have a stronger impact on the model’s predictions. Positive coefficients increase the probability of an offense, while negative coefficients decrease it."
   ]
  },
  {
   "cell_type": "markdown",
   "id": "1e1867ac",
   "metadata": {
    "papermill": {
     "duration": 0.011456,
     "end_time": "2025-05-14T01:03:42.654075",
     "exception": false,
     "start_time": "2025-05-14T01:03:42.642619",
     "status": "completed"
    },
    "tags": []
   },
   "source": []
  }
 ],
 "metadata": {
  "kernelspec": {
   "display_name": "Python 3",
   "language": "python",
   "name": "python3"
  },
  "language_info": {
   "codemirror_mode": {
    "name": "ipython",
    "version": 3
   },
   "file_extension": ".py",
   "mimetype": "text/x-python",
   "name": "python",
   "nbconvert_exporter": "python",
   "pygments_lexer": "ipython3",
   "version": "3.9.22"
  },
  "papermill": {
   "default_parameters": {},
   "duration": 81.625375,
   "end_time": "2025-05-14T01:03:43.283413",
   "environment_variables": {},
   "exception": null,
   "input_path": "notebook/Crime Data.ipynb",
   "output_path": "notebook/Crime Data_output.ipynb",
   "parameters": {},
   "start_time": "2025-05-14T01:02:21.658038",
   "version": "2.6.0"
  }
 },
 "nbformat": 4,
 "nbformat_minor": 5
}