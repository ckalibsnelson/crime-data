{
 "cells": [
  {
   "cell_type": "markdown",
   "id": "e72ac97d",
   "metadata": {
    "papermill": {
     "duration": 0.004362,
     "end_time": "2025-06-14T01:02:15.362875",
     "exception": false,
     "start_time": "2025-06-14T01:02:15.358513",
     "status": "completed"
    },
    "tags": []
   },
   "source": [
    "# Charlottesville Open Data Porttal: Crime Data"
   ]
  },
  {
   "cell_type": "markdown",
   "id": "9f5e595c",
   "metadata": {
    "papermill": {
     "duration": 0.003245,
     "end_time": "2025-06-14T01:02:15.369753",
     "exception": false,
     "start_time": "2025-06-14T01:02:15.366508",
     "status": "completed"
    },
    "tags": []
   },
   "source": [
    "## Import Relevant Librarires & Set WD"
   ]
  },
  {
   "cell_type": "code",
   "execution_count": 1,
   "id": "a08deac8",
   "metadata": {
    "execution": {
     "iopub.execute_input": "2025-06-14T01:02:15.377904Z",
     "iopub.status.busy": "2025-06-14T01:02:15.377348Z",
     "iopub.status.idle": "2025-06-14T01:02:15.960751Z",
     "shell.execute_reply": "2025-06-14T01:02:15.960003Z"
    },
    "papermill": {
     "duration": 0.589317,
     "end_time": "2025-06-14T01:02:15.962307",
     "exception": false,
     "start_time": "2025-06-14T01:02:15.372990",
     "status": "completed"
    },
    "tags": []
   },
   "outputs": [],
   "source": [
    "import requests\n",
    "import pandas as pd\n",
    "import numpy as np\n",
    "import pickle\n",
    "import googlemaps\n",
    "import plotly.express as px\n",
    "from geopy.geocoders import Nominatim\n",
    "import time\n",
    "from dotenv import load_dotenv\n",
    "import os\n",
    "\n",
    "env_path = os.path.join(\"..\", \".env\")\n",
    "#print(\"Looking for .env file at:\", os.path.abspath(env_path))\n",
    "load_dotenv(dotenv_path=env_path)\n",
    "\n",
    "# Retrieve the variables\n",
    "GOOGLE_API_KEY = os.getenv(\"GOOGLE_API_KEY\")\n",
    "WORKING_DIR = os.getenv(\"WORKING_DIR\")\n",
    "\n",
    "if GOOGLE_API_KEY is None or WORKING_DIR is None:\n",
    "    raise RuntimeError(\"No configuration found. Please ensure that your .env file exists with the required variables, or create a local config.py file.\")\n",
    "\n",
    "#print(\"Google API Key:\", GOOGLE_API_KEY)\n",
    "#print(\"Working Directory:\", WORKING_DIR)"
   ]
  },
  {
   "cell_type": "markdown",
   "id": "f6cc6c48",
   "metadata": {
    "papermill": {
     "duration": 0.003321,
     "end_time": "2025-06-14T01:02:15.969362",
     "exception": false,
     "start_time": "2025-06-14T01:02:15.966041",
     "status": "completed"
    },
    "tags": []
   },
   "source": [
    "## Import Data\n",
    "\n",
    "URL: https://opendata.charlottesville.org/datasets/charlottesville::crime-data/about"
   ]
  },
  {
   "cell_type": "code",
   "execution_count": 2,
   "id": "cd958cda",
   "metadata": {
    "execution": {
     "iopub.execute_input": "2025-06-14T01:02:15.977244Z",
     "iopub.status.busy": "2025-06-14T01:02:15.976745Z",
     "iopub.status.idle": "2025-06-14T01:03:20.710801Z",
     "shell.execute_reply": "2025-06-14T01:03:20.710004Z"
    },
    "papermill": {
     "duration": 64.742441,
     "end_time": "2025-06-14T01:03:20.715174",
     "exception": false,
     "start_time": "2025-06-14T01:02:15.972733",
     "status": "completed"
    },
    "tags": []
   },
   "outputs": [
    {
     "name": "stdout",
     "output_type": "stream",
     "text": [
      "Total records imported: 25509\n"
     ]
    }
   ],
   "source": [
    "# Define the endpoint and initial parameters.\n",
    "url = \"https://gisweb.charlottesville.org/arcgis/rest/services/OpenData_2/MapServer/6/query\"\n",
    "params = {\n",
    "    \"where\": \"1=1\",\n",
    "    \"outFields\": \"*\",\n",
    "    \"outSR\": 4326,\n",
    "    \"f\": \"json\",\n",
    "    \"resultOffset\": 0,       # Starting index for results\n",
    "    \"resultRecordCount\": 10000  # Maximum records per batch (if allowed by the API)\n",
    "}\n",
    "\n",
    "records = []\n",
    "\n",
    "while True:\n",
    "    response = requests.get(url, params=params)\n",
    "    response.raise_for_status()\n",
    "    data = response.json()\n",
    "    \n",
    "    # Get the current batch of features.\n",
    "    features = data.get(\"features\", [])\n",
    "    if not features:\n",
    "        break\n",
    "\n",
    "    # Extract the attributes from the features.\n",
    "    batch_records = [feature.get(\"attributes\", {}) for feature in features]\n",
    "    records.extend(batch_records)\n",
    "    \n",
    "    # If the batch size is less than the requested count, we reached the end.\n",
    "    if len(features) < params[\"resultRecordCount\"]:\n",
    "        break\n",
    "\n",
    "    # Update the resultOffset for the next batch.\n",
    "    params[\"resultOffset\"] += params[\"resultRecordCount\"]\n",
    "\n",
    "# Create a DataFrame from the combined records.\n",
    "df = pd.DataFrame(records)\n",
    "print(\"Total records imported:\", len(df))\n"
   ]
  },
  {
   "cell_type": "code",
   "execution_count": 3,
   "id": "5410c4ba",
   "metadata": {
    "execution": {
     "iopub.execute_input": "2025-06-14T01:03:20.723000Z",
     "iopub.status.busy": "2025-06-14T01:03:20.722777Z",
     "iopub.status.idle": "2025-06-14T01:03:20.735513Z",
     "shell.execute_reply": "2025-06-14T01:03:20.734822Z"
    },
    "papermill": {
     "duration": 0.017889,
     "end_time": "2025-06-14T01:03:20.736569",
     "exception": false,
     "start_time": "2025-06-14T01:03:20.718680",
     "status": "completed"
    },
    "tags": []
   },
   "outputs": [
    {
     "data": {
      "text/html": [
       "<div>\n",
       "<style scoped>\n",
       "    .dataframe tbody tr th:only-of-type {\n",
       "        vertical-align: middle;\n",
       "    }\n",
       "\n",
       "    .dataframe tbody tr th {\n",
       "        vertical-align: top;\n",
       "    }\n",
       "\n",
       "    .dataframe thead th {\n",
       "        text-align: right;\n",
       "    }\n",
       "</style>\n",
       "<table border=\"1\" class=\"dataframe\">\n",
       "  <thead>\n",
       "    <tr style=\"text-align: right;\">\n",
       "      <th></th>\n",
       "      <th>RecordID</th>\n",
       "      <th>Offense</th>\n",
       "      <th>IncidentID</th>\n",
       "      <th>BlockNumber</th>\n",
       "      <th>StreetName</th>\n",
       "      <th>Agency</th>\n",
       "      <th>DateReported</th>\n",
       "      <th>HourReported</th>\n",
       "      <th>ReportingOfficer</th>\n",
       "    </tr>\n",
       "  </thead>\n",
       "  <tbody>\n",
       "    <tr>\n",
       "      <th>0</th>\n",
       "      <td>1</td>\n",
       "      <td>Lost/FoundProperty</td>\n",
       "      <td>202500020078</td>\n",
       "      <td>400</td>\n",
       "      <td>GARRETT ST, H</td>\n",
       "      <td>CPD</td>\n",
       "      <td>1749678169000</td>\n",
       "      <td>1742</td>\n",
       "      <td>Crowley, Raeann</td>\n",
       "    </tr>\n",
       "    <tr>\n",
       "      <th>1</th>\n",
       "      <td>2</td>\n",
       "      <td>Larceny - Shoplifitng</td>\n",
       "      <td>202500020074</td>\n",
       "      <td>1100</td>\n",
       "      <td>5TH ST SW</td>\n",
       "      <td>CPD</td>\n",
       "      <td>1749676901000</td>\n",
       "      <td>1721</td>\n",
       "      <td>Bentz, Benjamin</td>\n",
       "    </tr>\n",
       "    <tr>\n",
       "      <th>2</th>\n",
       "      <td>3</td>\n",
       "      <td>Hit and Run</td>\n",
       "      <td>202500020073</td>\n",
       "      <td>900</td>\n",
       "      <td>EMMET ST N</td>\n",
       "      <td>CPD</td>\n",
       "      <td>1749676377000</td>\n",
       "      <td>1712</td>\n",
       "      <td>Reed, Danielle</td>\n",
       "    </tr>\n",
       "    <tr>\n",
       "      <th>3</th>\n",
       "      <td>4</td>\n",
       "      <td>Larceny - Shoplifitng</td>\n",
       "      <td>202500020052</td>\n",
       "      <td>1100</td>\n",
       "      <td>5TH ST SW</td>\n",
       "      <td>CPD</td>\n",
       "      <td>1749668227000</td>\n",
       "      <td>1457</td>\n",
       "      <td>Kinney, Dylan</td>\n",
       "    </tr>\n",
       "    <tr>\n",
       "      <th>4</th>\n",
       "      <td>5</td>\n",
       "      <td>Larceny - All Other</td>\n",
       "      <td>202500020059</td>\n",
       "      <td>900</td>\n",
       "      <td>RIVES ST</td>\n",
       "      <td>CPD</td>\n",
       "      <td>1749667658000</td>\n",
       "      <td>1447</td>\n",
       "      <td>Eckenroth, Rachel</td>\n",
       "    </tr>\n",
       "  </tbody>\n",
       "</table>\n",
       "</div>"
      ],
      "text/plain": [
       "   RecordID                Offense    IncidentID BlockNumber     StreetName  \\\n",
       "0         1     Lost/FoundProperty  202500020078         400  GARRETT ST, H   \n",
       "1         2  Larceny - Shoplifitng  202500020074        1100      5TH ST SW   \n",
       "2         3            Hit and Run  202500020073         900     EMMET ST N   \n",
       "3         4  Larceny - Shoplifitng  202500020052        1100      5TH ST SW   \n",
       "4         5    Larceny - All Other  202500020059         900       RIVES ST   \n",
       "\n",
       "  Agency   DateReported HourReported   ReportingOfficer  \n",
       "0    CPD  1749678169000         1742    Crowley, Raeann  \n",
       "1    CPD  1749676901000         1721   Bentz, Benjamin   \n",
       "2    CPD  1749676377000         1712     Reed, Danielle  \n",
       "3    CPD  1749668227000         1457      Kinney, Dylan  \n",
       "4    CPD  1749667658000         1447  Eckenroth, Rachel  "
      ]
     },
     "execution_count": 3,
     "metadata": {},
     "output_type": "execute_result"
    }
   ],
   "source": [
    "df.head()"
   ]
  },
  {
   "cell_type": "code",
   "execution_count": 4,
   "id": "e73de30e",
   "metadata": {
    "execution": {
     "iopub.execute_input": "2025-06-14T01:03:20.744929Z",
     "iopub.status.busy": "2025-06-14T01:03:20.744577Z",
     "iopub.status.idle": "2025-06-14T01:03:20.749080Z",
     "shell.execute_reply": "2025-06-14T01:03:20.748438Z"
    },
    "papermill": {
     "duration": 0.009705,
     "end_time": "2025-06-14T01:03:20.750087",
     "exception": false,
     "start_time": "2025-06-14T01:03:20.740382",
     "status": "completed"
    },
    "tags": []
   },
   "outputs": [
    {
     "data": {
      "text/plain": [
       "Index(['RecordID', 'Offense', 'IncidentID', 'BlockNumber', 'StreetName',\n",
       "       'Agency', 'DateReported', 'HourReported', 'ReportingOfficer'],\n",
       "      dtype='object')"
      ]
     },
     "execution_count": 4,
     "metadata": {},
     "output_type": "execute_result"
    }
   ],
   "source": [
    "df.columns"
   ]
  },
  {
   "cell_type": "code",
   "execution_count": 5,
   "id": "690a4d8d",
   "metadata": {
    "execution": {
     "iopub.execute_input": "2025-06-14T01:03:20.759062Z",
     "iopub.status.busy": "2025-06-14T01:03:20.758833Z",
     "iopub.status.idle": "2025-06-14T01:03:20.785088Z",
     "shell.execute_reply": "2025-06-14T01:03:20.784374Z"
    },
    "papermill": {
     "duration": 0.032314,
     "end_time": "2025-06-14T01:03:20.786209",
     "exception": false,
     "start_time": "2025-06-14T01:03:20.753895",
     "status": "completed"
    },
    "tags": []
   },
   "outputs": [
    {
     "name": "stdout",
     "output_type": "stream",
     "text": [
      "<class 'pandas.core.frame.DataFrame'>\n",
      "RangeIndex: 25509 entries, 0 to 25508\n",
      "Data columns (total 9 columns):\n",
      " #   Column            Non-Null Count  Dtype \n",
      "---  ------            --------------  ----- \n",
      " 0   RecordID          25509 non-null  int64 \n",
      " 1   Offense           25509 non-null  object\n",
      " 2   IncidentID        25509 non-null  object\n",
      " 3   BlockNumber       25509 non-null  object\n",
      " 4   StreetName        25509 non-null  object\n",
      " 5   Agency            25509 non-null  object\n",
      " 6   DateReported      25509 non-null  int64 \n",
      " 7   HourReported      25509 non-null  object\n",
      " 8   ReportingOfficer  25492 non-null  object\n",
      "dtypes: int64(2), object(7)\n",
      "memory usage: 1.8+ MB\n"
     ]
    }
   ],
   "source": [
    "df.info()"
   ]
  },
  {
   "cell_type": "markdown",
   "id": "9a4ad40b",
   "metadata": {
    "papermill": {
     "duration": 0.003687,
     "end_time": "2025-06-14T01:03:20.793917",
     "exception": false,
     "start_time": "2025-06-14T01:03:20.790230",
     "status": "completed"
    },
    "tags": []
   },
   "source": [
    "### Missing Values"
   ]
  },
  {
   "cell_type": "code",
   "execution_count": 6,
   "id": "df1cd204",
   "metadata": {
    "execution": {
     "iopub.execute_input": "2025-06-14T01:03:20.828735Z",
     "iopub.status.busy": "2025-06-14T01:03:20.828194Z",
     "iopub.status.idle": "2025-06-14T01:03:20.853834Z",
     "shell.execute_reply": "2025-06-14T01:03:20.853268Z"
    },
    "papermill": {
     "duration": 0.031848,
     "end_time": "2025-06-14T01:03:20.854939",
     "exception": false,
     "start_time": "2025-06-14T01:03:20.823091",
     "status": "completed"
    },
    "tags": []
   },
   "outputs": [
    {
     "name": "stdout",
     "output_type": "stream",
     "text": [
      "                  MissingCount  MissingPercentage\n",
      "RecordID                     0               0.00\n",
      "Offense                      0               0.00\n",
      "IncidentID                   0               0.00\n",
      "BlockNumber                  0               0.00\n",
      "StreetName                   0               0.00\n",
      "Agency                       0               0.00\n",
      "DateReported                 0               0.00\n",
      "HourReported                 0               0.00\n",
      "ReportingOfficer            17               0.07\n"
     ]
    }
   ],
   "source": [
    "def missing_percentage(df):\n",
    "    \"\"\"\n",
    "    Returns a DataFrame with the count and percentage of missing values for each column.\n",
    "    \n",
    "    Parameters:\n",
    "        df (pd.DataFrame): The input DataFrame.\n",
    "    \n",
    "    Returns:\n",
    "        pd.DataFrame: A DataFrame with columns 'MissingCount' and 'MissingPercentage'.\n",
    "    \"\"\"\n",
    "    total_rows = len(df)\n",
    "    missing_count = df.isnull().sum()\n",
    "    missing_percent = (missing_count / total_rows) * 100\n",
    "    \n",
    "    result = pd.DataFrame({\n",
    "        'MissingCount': missing_count,\n",
    "        'MissingPercentage': missing_percent.round(2)\n",
    "    })\n",
    "    \n",
    "    return result\n",
    "\n",
    "# Example usage:\n",
    "missing_info = missing_percentage(df)\n",
    "print(missing_info)\n"
   ]
  },
  {
   "cell_type": "markdown",
   "id": "60b0d33e",
   "metadata": {
    "papermill": {
     "duration": 0.003855,
     "end_time": "2025-06-14T01:03:20.862869",
     "exception": false,
     "start_time": "2025-06-14T01:03:20.859014",
     "status": "completed"
    },
    "tags": []
   },
   "source": [
    "## Data Preparation"
   ]
  },
  {
   "cell_type": "markdown",
   "id": "bb8d4f2b",
   "metadata": {
    "papermill": {
     "duration": 0.003784,
     "end_time": "2025-06-14T01:03:20.870459",
     "exception": false,
     "start_time": "2025-06-14T01:03:20.866675",
     "status": "completed"
    },
    "tags": []
   },
   "source": [
    "### Data Conversion"
   ]
  },
  {
   "cell_type": "code",
   "execution_count": 7,
   "id": "1817cebe",
   "metadata": {
    "execution": {
     "iopub.execute_input": "2025-06-14T01:03:20.879369Z",
     "iopub.status.busy": "2025-06-14T01:03:20.878877Z",
     "iopub.status.idle": "2025-06-14T01:03:21.243984Z",
     "shell.execute_reply": "2025-06-14T01:03:21.243386Z"
    },
    "papermill": {
     "duration": 0.370795,
     "end_time": "2025-06-14T01:03:21.245095",
     "exception": false,
     "start_time": "2025-06-14T01:03:20.874300",
     "status": "completed"
    },
    "tags": []
   },
   "outputs": [
    {
     "data": {
      "text/html": [
       "<div>\n",
       "<style scoped>\n",
       "    .dataframe tbody tr th:only-of-type {\n",
       "        vertical-align: middle;\n",
       "    }\n",
       "\n",
       "    .dataframe tbody tr th {\n",
       "        vertical-align: top;\n",
       "    }\n",
       "\n",
       "    .dataframe thead th {\n",
       "        text-align: right;\n",
       "    }\n",
       "</style>\n",
       "<table border=\"1\" class=\"dataframe\">\n",
       "  <thead>\n",
       "    <tr style=\"text-align: right;\">\n",
       "      <th></th>\n",
       "      <th>RecordID</th>\n",
       "      <th>Offense</th>\n",
       "      <th>IncidentID</th>\n",
       "      <th>BlockNumber</th>\n",
       "      <th>StreetName</th>\n",
       "      <th>Agency</th>\n",
       "      <th>HourReported</th>\n",
       "      <th>ReportingOfficer</th>\n",
       "      <th>Date</th>\n",
       "      <th>DateString</th>\n",
       "      <th>DayOfWeek</th>\n",
       "      <th>Weekend</th>\n",
       "      <th>Season</th>\n",
       "      <th>HourAMPM</th>\n",
       "      <th>TimeOfDay</th>\n",
       "    </tr>\n",
       "  </thead>\n",
       "  <tbody>\n",
       "    <tr>\n",
       "      <th>0</th>\n",
       "      <td>1</td>\n",
       "      <td>Lost/FoundProperty</td>\n",
       "      <td>202500020078</td>\n",
       "      <td>400</td>\n",
       "      <td>GARRETT ST, H</td>\n",
       "      <td>CPD</td>\n",
       "      <td>1742</td>\n",
       "      <td>Crowley, Raeann</td>\n",
       "      <td>2025-06-11 17:42:49</td>\n",
       "      <td>2025-06-11 05:42:49 PM</td>\n",
       "      <td>Wednesday</td>\n",
       "      <td>False</td>\n",
       "      <td>Spring</td>\n",
       "      <td>05:42 PM</td>\n",
       "      <td>Evening</td>\n",
       "    </tr>\n",
       "    <tr>\n",
       "      <th>1</th>\n",
       "      <td>2</td>\n",
       "      <td>Larceny - Shoplifitng</td>\n",
       "      <td>202500020074</td>\n",
       "      <td>1100</td>\n",
       "      <td>5TH ST SW</td>\n",
       "      <td>CPD</td>\n",
       "      <td>1721</td>\n",
       "      <td>Bentz, Benjamin</td>\n",
       "      <td>2025-06-11 17:21:41</td>\n",
       "      <td>2025-06-11 05:21:41 PM</td>\n",
       "      <td>Wednesday</td>\n",
       "      <td>False</td>\n",
       "      <td>Spring</td>\n",
       "      <td>05:21 PM</td>\n",
       "      <td>Evening</td>\n",
       "    </tr>\n",
       "    <tr>\n",
       "      <th>2</th>\n",
       "      <td>3</td>\n",
       "      <td>Hit and Run</td>\n",
       "      <td>202500020073</td>\n",
       "      <td>900</td>\n",
       "      <td>EMMET ST N</td>\n",
       "      <td>CPD</td>\n",
       "      <td>1712</td>\n",
       "      <td>Reed, Danielle</td>\n",
       "      <td>2025-06-11 17:12:57</td>\n",
       "      <td>2025-06-11 05:12:57 PM</td>\n",
       "      <td>Wednesday</td>\n",
       "      <td>False</td>\n",
       "      <td>Spring</td>\n",
       "      <td>05:12 PM</td>\n",
       "      <td>Evening</td>\n",
       "    </tr>\n",
       "    <tr>\n",
       "      <th>3</th>\n",
       "      <td>4</td>\n",
       "      <td>Larceny - Shoplifitng</td>\n",
       "      <td>202500020052</td>\n",
       "      <td>1100</td>\n",
       "      <td>5TH ST SW</td>\n",
       "      <td>CPD</td>\n",
       "      <td>1457</td>\n",
       "      <td>Kinney, Dylan</td>\n",
       "      <td>2025-06-11 14:57:07</td>\n",
       "      <td>2025-06-11 02:57:07 PM</td>\n",
       "      <td>Wednesday</td>\n",
       "      <td>False</td>\n",
       "      <td>Spring</td>\n",
       "      <td>02:57 PM</td>\n",
       "      <td>Afternoon</td>\n",
       "    </tr>\n",
       "    <tr>\n",
       "      <th>4</th>\n",
       "      <td>5</td>\n",
       "      <td>Larceny - All Other</td>\n",
       "      <td>202500020059</td>\n",
       "      <td>900</td>\n",
       "      <td>RIVES ST</td>\n",
       "      <td>CPD</td>\n",
       "      <td>1447</td>\n",
       "      <td>Eckenroth, Rachel</td>\n",
       "      <td>2025-06-11 14:47:38</td>\n",
       "      <td>2025-06-11 02:47:38 PM</td>\n",
       "      <td>Wednesday</td>\n",
       "      <td>False</td>\n",
       "      <td>Spring</td>\n",
       "      <td>02:47 PM</td>\n",
       "      <td>Afternoon</td>\n",
       "    </tr>\n",
       "  </tbody>\n",
       "</table>\n",
       "</div>"
      ],
      "text/plain": [
       "   RecordID                Offense    IncidentID BlockNumber     StreetName  \\\n",
       "0         1     Lost/FoundProperty  202500020078         400  GARRETT ST, H   \n",
       "1         2  Larceny - Shoplifitng  202500020074        1100      5TH ST SW   \n",
       "2         3            Hit and Run  202500020073         900     EMMET ST N   \n",
       "3         4  Larceny - Shoplifitng  202500020052        1100      5TH ST SW   \n",
       "4         5    Larceny - All Other  202500020059         900       RIVES ST   \n",
       "\n",
       "  Agency HourReported   ReportingOfficer                Date  \\\n",
       "0    CPD         1742    Crowley, Raeann 2025-06-11 17:42:49   \n",
       "1    CPD         1721   Bentz, Benjamin  2025-06-11 17:21:41   \n",
       "2    CPD         1712     Reed, Danielle 2025-06-11 17:12:57   \n",
       "3    CPD         1457      Kinney, Dylan 2025-06-11 14:57:07   \n",
       "4    CPD         1447  Eckenroth, Rachel 2025-06-11 14:47:38   \n",
       "\n",
       "               DateString  DayOfWeek  Weekend  Season  HourAMPM  TimeOfDay  \n",
       "0  2025-06-11 05:42:49 PM  Wednesday    False  Spring  05:42 PM    Evening  \n",
       "1  2025-06-11 05:21:41 PM  Wednesday    False  Spring  05:21 PM    Evening  \n",
       "2  2025-06-11 05:12:57 PM  Wednesday    False  Spring  05:12 PM    Evening  \n",
       "3  2025-06-11 02:57:07 PM  Wednesday    False  Spring  02:57 PM  Afternoon  \n",
       "4  2025-06-11 02:47:38 PM  Wednesday    False  Spring  02:47 PM  Afternoon  "
      ]
     },
     "execution_count": 7,
     "metadata": {},
     "output_type": "execute_result"
    }
   ],
   "source": [
    "def convert_and_categorize_datereported(df, col='DateReported'):\n",
    "    \"\"\"\n",
    "    Converts an epoch (in milliseconds) date column into a timezone-aware datetime,\n",
    "    converts it to Eastern Time, and then creates columns for day-of-week, weekend flag,\n",
    "    season, 12-hour formatted time, and time-of-day. Keeps both a real datetime column\n",
    "    (Date) and a string representation (DateString).\n",
    "    \"\"\"\n",
    "    import pandas as pd\n",
    "\n",
    "    # Convert the epoch timestamp to a pandas datetime object as UTC, then convert to US/Eastern.\n",
    "    df[\"DateReported_dt\"] = (\n",
    "        pd.to_datetime(df[col], unit=\"ms\", errors=\"coerce\", utc=True)\n",
    "        .dt.tz_convert(\"US/Eastern\")\n",
    "    )\n",
    "    \n",
    "    # Create a true datetime column (remove timezone if you prefer naive datetime)\n",
    "    df[\"Date\"] = df[\"DateReported_dt\"].dt.tz_localize(None)\n",
    "\n",
    "    # Optionally, create a separate string-formatted column\n",
    "    df[\"DateString\"] = df[\"DateReported_dt\"].dt.strftime(\"%Y-%m-%d %I:%M:%S %p\")\n",
    "    \n",
    "    # DayOfWeek\n",
    "    df[\"DayOfWeek\"] = df[\"DateReported_dt\"].dt.day_name()\n",
    "    \n",
    "    # Weekend\n",
    "    df[\"Weekend\"] = df[\"DayOfWeek\"].isin([\"Saturday\", \"Sunday\"])\n",
    "    \n",
    "    # Helper function to determine the season\n",
    "    def get_season(dt):\n",
    "        month = dt.month\n",
    "        day = dt.day\n",
    "        # Approximate Northern Hemisphere season boundaries:\n",
    "        if (month == 12 and day >= 21) or (month < 3) or (month == 3 and day < 20):\n",
    "            return \"Winter\"\n",
    "        elif (month == 3 and day >= 20) or (month < 6) or (month == 6 and day < 21):\n",
    "            return \"Spring\"\n",
    "        elif (month == 6 and day >= 21) or (month < 9) or (month == 9 and day < 22):\n",
    "            return \"Summer\"\n",
    "        else:\n",
    "            return \"Autumn\"\n",
    "    \n",
    "    df[\"Season\"] = df[\"DateReported_dt\"].apply(get_season)\n",
    "    \n",
    "    # 12-hour formatted time (HourAMPM)\n",
    "    df[\"HourAMPM\"] = df[\"DateReported_dt\"].dt.strftime(\"%I:%M %p\")\n",
    "    \n",
    "    # Extract hour (0-23) for time-of-day\n",
    "    df[\"HourValue\"] = df[\"DateReported_dt\"].dt.hour\n",
    "    \n",
    "    def time_of_day(hour):\n",
    "        if pd.isnull(hour):\n",
    "            return None\n",
    "        if 5 <= hour < 12:\n",
    "            return \"Morning\"\n",
    "        elif 12 <= hour < 17:\n",
    "            return \"Afternoon\"\n",
    "        elif 17 <= hour < 21:\n",
    "            return \"Evening\"\n",
    "        else:\n",
    "            return \"Night\"\n",
    "    \n",
    "    df[\"TimeOfDay\"] = df[\"HourValue\"].apply(time_of_day)\n",
    "    \n",
    "    # Drop columns you no longer need\n",
    "    df.drop(columns=[col, \"DateReported_dt\", \"HourValue\"], inplace=True)\n",
    "    \n",
    "    return df\n",
    "\n",
    "# Example usage:\n",
    "df = convert_and_categorize_datereported(df)\n",
    "df.head()\n"
   ]
  },
  {
   "cell_type": "code",
   "execution_count": 8,
   "id": "5c32da60",
   "metadata": {
    "execution": {
     "iopub.execute_input": "2025-06-14T01:03:21.254796Z",
     "iopub.status.busy": "2025-06-14T01:03:21.254353Z",
     "iopub.status.idle": "2025-06-14T01:03:21.282235Z",
     "shell.execute_reply": "2025-06-14T01:03:21.281647Z"
    },
    "papermill": {
     "duration": 0.033832,
     "end_time": "2025-06-14T01:03:21.283333",
     "exception": false,
     "start_time": "2025-06-14T01:03:21.249501",
     "status": "completed"
    },
    "tags": []
   },
   "outputs": [
    {
     "name": "stdout",
     "output_type": "stream",
     "text": [
      "<class 'pandas.core.frame.DataFrame'>\n",
      "RangeIndex: 25509 entries, 0 to 25508\n",
      "Data columns (total 15 columns):\n",
      " #   Column            Non-Null Count  Dtype         \n",
      "---  ------            --------------  -----         \n",
      " 0   RecordID          25509 non-null  int64         \n",
      " 1   Offense           25509 non-null  object        \n",
      " 2   IncidentID        25509 non-null  object        \n",
      " 3   BlockNumber       25509 non-null  object        \n",
      " 4   StreetName        25509 non-null  object        \n",
      " 5   Agency            25509 non-null  object        \n",
      " 6   HourReported      25509 non-null  object        \n",
      " 7   ReportingOfficer  25492 non-null  object        \n",
      " 8   Date              25509 non-null  datetime64[ns]\n",
      " 9   DateString        25509 non-null  object        \n",
      " 10  DayOfWeek         25509 non-null  object        \n",
      " 11  Weekend           25509 non-null  bool          \n",
      " 12  Season            25509 non-null  object        \n",
      " 13  HourAMPM          25509 non-null  object        \n",
      " 14  TimeOfDay         25509 non-null  object        \n",
      "dtypes: bool(1), datetime64[ns](1), int64(1), object(12)\n",
      "memory usage: 2.7+ MB\n"
     ]
    }
   ],
   "source": [
    "df.info()"
   ]
  },
  {
   "cell_type": "markdown",
   "id": "b04ec6da",
   "metadata": {
    "papermill": {
     "duration": 0.004457,
     "end_time": "2025-06-14T01:03:21.292176",
     "exception": false,
     "start_time": "2025-06-14T01:03:21.287719",
     "status": "completed"
    },
    "tags": []
   },
   "source": [
    "### Coordinates"
   ]
  },
  {
   "cell_type": "code",
   "execution_count": 9,
   "id": "4a3bdb46",
   "metadata": {
    "execution": {
     "iopub.execute_input": "2025-06-14T01:03:21.301287Z",
     "iopub.status.busy": "2025-06-14T01:03:21.301062Z",
     "iopub.status.idle": "2025-06-14T01:03:21.453280Z",
     "shell.execute_reply": "2025-06-14T01:03:21.452558Z"
    },
    "papermill": {
     "duration": 0.15806,
     "end_time": "2025-06-14T01:03:21.454389",
     "exception": false,
     "start_time": "2025-06-14T01:03:21.296329",
     "status": "completed"
    },
    "tags": []
   },
   "outputs": [
    {
     "name": "stdout",
     "output_type": "stream",
     "text": [
      "Loaded geocode cache.\n",
      "Error geocoding 100 SHAMROCK RD, A: REQUEST_DENIED (You must enable Billing on the Google Cloud Project at https://console.cloud.google.com/project/_/billing/enable Learn more at https://developers.google.com/maps/gmp-get-started)\n",
      "Geocoded 100 SHAMROCK RD, A: None, None\n",
      "Geocode cache updated and saved.\n"
     ]
    },
    {
     "data": {
      "text/html": [
       "<div>\n",
       "<style scoped>\n",
       "    .dataframe tbody tr th:only-of-type {\n",
       "        vertical-align: middle;\n",
       "    }\n",
       "\n",
       "    .dataframe tbody tr th {\n",
       "        vertical-align: top;\n",
       "    }\n",
       "\n",
       "    .dataframe thead th {\n",
       "        text-align: right;\n",
       "    }\n",
       "</style>\n",
       "<table border=\"1\" class=\"dataframe\">\n",
       "  <thead>\n",
       "    <tr style=\"text-align: right;\">\n",
       "      <th></th>\n",
       "      <th>RecordID</th>\n",
       "      <th>Offense</th>\n",
       "      <th>IncidentID</th>\n",
       "      <th>BlockNumber</th>\n",
       "      <th>StreetName</th>\n",
       "      <th>Agency</th>\n",
       "      <th>HourReported</th>\n",
       "      <th>ReportingOfficer</th>\n",
       "      <th>Date</th>\n",
       "      <th>DateString</th>\n",
       "      <th>DayOfWeek</th>\n",
       "      <th>Weekend</th>\n",
       "      <th>Season</th>\n",
       "      <th>HourAMPM</th>\n",
       "      <th>TimeOfDay</th>\n",
       "      <th>FullStreet</th>\n",
       "      <th>lat</th>\n",
       "      <th>lon</th>\n",
       "    </tr>\n",
       "  </thead>\n",
       "  <tbody>\n",
       "    <tr>\n",
       "      <th>0</th>\n",
       "      <td>1</td>\n",
       "      <td>Lost/FoundProperty</td>\n",
       "      <td>202500020078</td>\n",
       "      <td>400</td>\n",
       "      <td>GARRETT ST, H</td>\n",
       "      <td>CPD</td>\n",
       "      <td>1742</td>\n",
       "      <td>Crowley, Raeann</td>\n",
       "      <td>2025-06-11 17:42:49</td>\n",
       "      <td>2025-06-11 05:42:49 PM</td>\n",
       "      <td>Wednesday</td>\n",
       "      <td>False</td>\n",
       "      <td>Spring</td>\n",
       "      <td>05:42 PM</td>\n",
       "      <td>Evening</td>\n",
       "      <td>400 GARRETT ST, H</td>\n",
       "      <td>38.027935</td>\n",
       "      <td>-78.481659</td>\n",
       "    </tr>\n",
       "    <tr>\n",
       "      <th>1</th>\n",
       "      <td>2</td>\n",
       "      <td>Larceny - Shoplifitng</td>\n",
       "      <td>202500020074</td>\n",
       "      <td>1100</td>\n",
       "      <td>5TH ST SW</td>\n",
       "      <td>CPD</td>\n",
       "      <td>1721</td>\n",
       "      <td>Bentz, Benjamin</td>\n",
       "      <td>2025-06-11 17:21:41</td>\n",
       "      <td>2025-06-11 05:21:41 PM</td>\n",
       "      <td>Wednesday</td>\n",
       "      <td>False</td>\n",
       "      <td>Spring</td>\n",
       "      <td>05:21 PM</td>\n",
       "      <td>Evening</td>\n",
       "      <td>1100 5TH ST SW</td>\n",
       "      <td>38.017130</td>\n",
       "      <td>-78.497806</td>\n",
       "    </tr>\n",
       "    <tr>\n",
       "      <th>2</th>\n",
       "      <td>3</td>\n",
       "      <td>Hit and Run</td>\n",
       "      <td>202500020073</td>\n",
       "      <td>900</td>\n",
       "      <td>EMMET ST N</td>\n",
       "      <td>CPD</td>\n",
       "      <td>1712</td>\n",
       "      <td>Reed, Danielle</td>\n",
       "      <td>2025-06-11 17:12:57</td>\n",
       "      <td>2025-06-11 05:12:57 PM</td>\n",
       "      <td>Wednesday</td>\n",
       "      <td>False</td>\n",
       "      <td>Spring</td>\n",
       "      <td>05:12 PM</td>\n",
       "      <td>Evening</td>\n",
       "      <td>900 EMMET ST N</td>\n",
       "      <td>38.048586</td>\n",
       "      <td>-78.502983</td>\n",
       "    </tr>\n",
       "    <tr>\n",
       "      <th>3</th>\n",
       "      <td>4</td>\n",
       "      <td>Larceny - Shoplifitng</td>\n",
       "      <td>202500020052</td>\n",
       "      <td>1100</td>\n",
       "      <td>5TH ST SW</td>\n",
       "      <td>CPD</td>\n",
       "      <td>1457</td>\n",
       "      <td>Kinney, Dylan</td>\n",
       "      <td>2025-06-11 14:57:07</td>\n",
       "      <td>2025-06-11 02:57:07 PM</td>\n",
       "      <td>Wednesday</td>\n",
       "      <td>False</td>\n",
       "      <td>Spring</td>\n",
       "      <td>02:57 PM</td>\n",
       "      <td>Afternoon</td>\n",
       "      <td>1100 5TH ST SW</td>\n",
       "      <td>38.017130</td>\n",
       "      <td>-78.497806</td>\n",
       "    </tr>\n",
       "    <tr>\n",
       "      <th>4</th>\n",
       "      <td>5</td>\n",
       "      <td>Larceny - All Other</td>\n",
       "      <td>202500020059</td>\n",
       "      <td>900</td>\n",
       "      <td>RIVES ST</td>\n",
       "      <td>CPD</td>\n",
       "      <td>1447</td>\n",
       "      <td>Eckenroth, Rachel</td>\n",
       "      <td>2025-06-11 14:47:38</td>\n",
       "      <td>2025-06-11 02:47:38 PM</td>\n",
       "      <td>Wednesday</td>\n",
       "      <td>False</td>\n",
       "      <td>Spring</td>\n",
       "      <td>02:47 PM</td>\n",
       "      <td>Afternoon</td>\n",
       "      <td>900 RIVES ST</td>\n",
       "      <td>38.017740</td>\n",
       "      <td>-78.469803</td>\n",
       "    </tr>\n",
       "  </tbody>\n",
       "</table>\n",
       "</div>"
      ],
      "text/plain": [
       "   RecordID                Offense    IncidentID BlockNumber     StreetName  \\\n",
       "0         1     Lost/FoundProperty  202500020078         400  GARRETT ST, H   \n",
       "1         2  Larceny - Shoplifitng  202500020074        1100      5TH ST SW   \n",
       "2         3            Hit and Run  202500020073         900     EMMET ST N   \n",
       "3         4  Larceny - Shoplifitng  202500020052        1100      5TH ST SW   \n",
       "4         5    Larceny - All Other  202500020059         900       RIVES ST   \n",
       "\n",
       "  Agency HourReported   ReportingOfficer                Date  \\\n",
       "0    CPD         1742    Crowley, Raeann 2025-06-11 17:42:49   \n",
       "1    CPD         1721   Bentz, Benjamin  2025-06-11 17:21:41   \n",
       "2    CPD         1712     Reed, Danielle 2025-06-11 17:12:57   \n",
       "3    CPD         1457      Kinney, Dylan 2025-06-11 14:57:07   \n",
       "4    CPD         1447  Eckenroth, Rachel 2025-06-11 14:47:38   \n",
       "\n",
       "               DateString  DayOfWeek  Weekend  Season  HourAMPM  TimeOfDay  \\\n",
       "0  2025-06-11 05:42:49 PM  Wednesday    False  Spring  05:42 PM    Evening   \n",
       "1  2025-06-11 05:21:41 PM  Wednesday    False  Spring  05:21 PM    Evening   \n",
       "2  2025-06-11 05:12:57 PM  Wednesday    False  Spring  05:12 PM    Evening   \n",
       "3  2025-06-11 02:57:07 PM  Wednesday    False  Spring  02:57 PM  Afternoon   \n",
       "4  2025-06-11 02:47:38 PM  Wednesday    False  Spring  02:47 PM  Afternoon   \n",
       "\n",
       "          FullStreet        lat        lon  \n",
       "0  400 GARRETT ST, H  38.027935 -78.481659  \n",
       "1     1100 5TH ST SW  38.017130 -78.497806  \n",
       "2     900 EMMET ST N  38.048586 -78.502983  \n",
       "3     1100 5TH ST SW  38.017130 -78.497806  \n",
       "4       900 RIVES ST  38.017740 -78.469803  "
      ]
     },
     "execution_count": 9,
     "metadata": {},
     "output_type": "execute_result"
    }
   ],
   "source": [
    "# Combine BlockNumber and StreetName into a full address string\n",
    "df['FullStreet'] = df['BlockNumber'].astype(str) + \" \" + df['StreetName']\n",
    "\n",
    "# --- Step 1: Setup the Google Maps Client and Cache ---\n",
    "gmaps = googlemaps.Client(key=GOOGLE_API_KEY)\n",
    "\n",
    "# Try to load cached geocoding results if available.\n",
    "try:\n",
    "    with open(\"geocode_cache_google.pkl\", \"rb\") as f:\n",
    "        street_coords = pickle.load(f)\n",
    "    print(\"Loaded geocode cache.\")\n",
    "except FileNotFoundError:\n",
    "    street_coords = {}\n",
    "    print(\"No cache found; starting fresh.\")\n",
    "\n",
    "def geocode_address(address):\n",
    "    try:\n",
    "        # Append city and state to help geocoding\n",
    "        result = gmaps.geocode(f\"{address}, Charlottesville, VA\")\n",
    "        if result:\n",
    "            lat = result[0]['geometry']['location']['lat']\n",
    "            lon = result[0]['geometry']['location']['lng']\n",
    "            return lat, lon\n",
    "    except Exception as e:\n",
    "        print(f\"Error geocoding {address}: {e}\")\n",
    "    return None, None\n",
    "\n",
    "# --- Step 2: Geocode Only New Addresses ---\n",
    "unique_addresses = df['FullStreet'].unique()\n",
    "for address in unique_addresses:\n",
    "    if address not in street_coords:\n",
    "        lat, lon = geocode_address(address)\n",
    "        street_coords[address] = (lat, lon)\n",
    "        print(f\"Geocoded {address}: {lat}, {lon}\")\n",
    "\n",
    "# Save the updated cache to disk.\n",
    "with open(\"geocode_cache_google.pkl\", \"wb\") as f:\n",
    "    pickle.dump(street_coords, f)\n",
    "    print(\"Geocode cache updated and saved.\")\n",
    "\n",
    "# --- Step 3: Map Coordinates Back to DataFrame ---\n",
    "df['lat'] = df['FullStreet'].map(lambda s: street_coords.get(s, (None, None))[0])\n",
    "df['lon'] = df['FullStreet'].map(lambda s: street_coords.get(s, (None, None))[1])\n",
    "\n",
    "df.head()"
   ]
  },
  {
   "cell_type": "markdown",
   "id": "45fa0c73",
   "metadata": {
    "papermill": {
     "duration": 0.004446,
     "end_time": "2025-06-14T01:03:21.463584",
     "exception": false,
     "start_time": "2025-06-14T01:03:21.459138",
     "status": "completed"
    },
    "tags": []
   },
   "source": [
    "### Neighborhood"
   ]
  },
  {
   "cell_type": "code",
   "execution_count": 10,
   "id": "41c9a777",
   "metadata": {
    "execution": {
     "iopub.execute_input": "2025-06-14T01:03:21.473880Z",
     "iopub.status.busy": "2025-06-14T01:03:21.473255Z",
     "iopub.status.idle": "2025-06-14T01:03:22.245715Z",
     "shell.execute_reply": "2025-06-14T01:03:22.244995Z"
    },
    "papermill": {
     "duration": 0.778844,
     "end_time": "2025-06-14T01:03:22.246760",
     "exception": false,
     "start_time": "2025-06-14T01:03:21.467916",
     "status": "completed"
    },
    "tags": []
   },
   "outputs": [
    {
     "name": "stdout",
     "output_type": "stream",
     "text": [
      "Loaded neighborhood cache.\n"
     ]
    },
    {
     "name": "stdout",
     "output_type": "stream",
     "text": [
      "Error getting neighborhood for nan, nan: HTTP Error: 400\n",
      "Error getting neighborhood for nan, nan: HTTP Error: 400\n",
      "Error getting neighborhood for nan, nan: HTTP Error: 400\n"
     ]
    },
    {
     "name": "stdout",
     "output_type": "stream",
     "text": [
      "Error getting neighborhood for nan, nan: HTTP Error: 400\n",
      "Error getting neighborhood for nan, nan: HTTP Error: 400\n",
      "Error getting neighborhood for nan, nan: HTTP Error: 400\n"
     ]
    },
    {
     "name": "stdout",
     "output_type": "stream",
     "text": [
      "Error getting neighborhood for nan, nan: HTTP Error: 400\n",
      "Error getting neighborhood for nan, nan: HTTP Error: 400\n",
      "Error getting neighborhood for nan, nan: HTTP Error: 400\n"
     ]
    },
    {
     "name": "stdout",
     "output_type": "stream",
     "text": [
      "Error getting neighborhood for nan, nan: HTTP Error: 400\n",
      "Error getting neighborhood for nan, nan: HTTP Error: 400\n",
      "Error getting neighborhood for nan, nan: HTTP Error: 400\n",
      "Error getting neighborhood for nan, nan: HTTP Error: 400\n"
     ]
    },
    {
     "name": "stdout",
     "output_type": "stream",
     "text": [
      "Error getting neighborhood for nan, nan: HTTP Error: 400\n",
      "Error getting neighborhood for nan, nan: HTTP Error: 400\n",
      "Error getting neighborhood for nan, nan: HTTP Error: 400\n"
     ]
    },
    {
     "data": {
      "text/html": [
       "<div>\n",
       "<style scoped>\n",
       "    .dataframe tbody tr th:only-of-type {\n",
       "        vertical-align: middle;\n",
       "    }\n",
       "\n",
       "    .dataframe tbody tr th {\n",
       "        vertical-align: top;\n",
       "    }\n",
       "\n",
       "    .dataframe thead th {\n",
       "        text-align: right;\n",
       "    }\n",
       "</style>\n",
       "<table border=\"1\" class=\"dataframe\">\n",
       "  <thead>\n",
       "    <tr style=\"text-align: right;\">\n",
       "      <th></th>\n",
       "      <th>RecordID</th>\n",
       "      <th>Offense</th>\n",
       "      <th>IncidentID</th>\n",
       "      <th>BlockNumber</th>\n",
       "      <th>StreetName</th>\n",
       "      <th>Agency</th>\n",
       "      <th>HourReported</th>\n",
       "      <th>ReportingOfficer</th>\n",
       "      <th>Date</th>\n",
       "      <th>DateString</th>\n",
       "      <th>DayOfWeek</th>\n",
       "      <th>Weekend</th>\n",
       "      <th>Season</th>\n",
       "      <th>HourAMPM</th>\n",
       "      <th>TimeOfDay</th>\n",
       "      <th>FullStreet</th>\n",
       "      <th>lat</th>\n",
       "      <th>lon</th>\n",
       "      <th>neighborhood</th>\n",
       "    </tr>\n",
       "  </thead>\n",
       "  <tbody>\n",
       "    <tr>\n",
       "      <th>0</th>\n",
       "      <td>1</td>\n",
       "      <td>Lost/FoundProperty</td>\n",
       "      <td>202500020078</td>\n",
       "      <td>400</td>\n",
       "      <td>GARRETT ST, H</td>\n",
       "      <td>CPD</td>\n",
       "      <td>1742</td>\n",
       "      <td>Crowley, Raeann</td>\n",
       "      <td>2025-06-11 17:42:49</td>\n",
       "      <td>2025-06-11 05:42:49 PM</td>\n",
       "      <td>Wednesday</td>\n",
       "      <td>False</td>\n",
       "      <td>Spring</td>\n",
       "      <td>05:42 PM</td>\n",
       "      <td>Evening</td>\n",
       "      <td>400 GARRETT ST, H</td>\n",
       "      <td>38.027935</td>\n",
       "      <td>-78.481659</td>\n",
       "      <td>North Downtown</td>\n",
       "    </tr>\n",
       "    <tr>\n",
       "      <th>1</th>\n",
       "      <td>2</td>\n",
       "      <td>Larceny - Shoplifitng</td>\n",
       "      <td>202500020074</td>\n",
       "      <td>1100</td>\n",
       "      <td>5TH ST SW</td>\n",
       "      <td>CPD</td>\n",
       "      <td>1721</td>\n",
       "      <td>Bentz, Benjamin</td>\n",
       "      <td>2025-06-11 17:21:41</td>\n",
       "      <td>2025-06-11 05:21:41 PM</td>\n",
       "      <td>Wednesday</td>\n",
       "      <td>False</td>\n",
       "      <td>Spring</td>\n",
       "      <td>05:21 PM</td>\n",
       "      <td>Evening</td>\n",
       "      <td>1100 5TH ST SW</td>\n",
       "      <td>38.017130</td>\n",
       "      <td>-78.497806</td>\n",
       "      <td>Johnson Village</td>\n",
       "    </tr>\n",
       "    <tr>\n",
       "      <th>2</th>\n",
       "      <td>3</td>\n",
       "      <td>Hit and Run</td>\n",
       "      <td>202500020073</td>\n",
       "      <td>900</td>\n",
       "      <td>EMMET ST N</td>\n",
       "      <td>CPD</td>\n",
       "      <td>1712</td>\n",
       "      <td>Reed, Danielle</td>\n",
       "      <td>2025-06-11 17:12:57</td>\n",
       "      <td>2025-06-11 05:12:57 PM</td>\n",
       "      <td>Wednesday</td>\n",
       "      <td>False</td>\n",
       "      <td>Spring</td>\n",
       "      <td>05:12 PM</td>\n",
       "      <td>Evening</td>\n",
       "      <td>900 EMMET ST N</td>\n",
       "      <td>38.048586</td>\n",
       "      <td>-78.502983</td>\n",
       "      <td>Venable</td>\n",
       "    </tr>\n",
       "    <tr>\n",
       "      <th>3</th>\n",
       "      <td>4</td>\n",
       "      <td>Larceny - Shoplifitng</td>\n",
       "      <td>202500020052</td>\n",
       "      <td>1100</td>\n",
       "      <td>5TH ST SW</td>\n",
       "      <td>CPD</td>\n",
       "      <td>1457</td>\n",
       "      <td>Kinney, Dylan</td>\n",
       "      <td>2025-06-11 14:57:07</td>\n",
       "      <td>2025-06-11 02:57:07 PM</td>\n",
       "      <td>Wednesday</td>\n",
       "      <td>False</td>\n",
       "      <td>Spring</td>\n",
       "      <td>02:57 PM</td>\n",
       "      <td>Afternoon</td>\n",
       "      <td>1100 5TH ST SW</td>\n",
       "      <td>38.017130</td>\n",
       "      <td>-78.497806</td>\n",
       "      <td>Johnson Village</td>\n",
       "    </tr>\n",
       "    <tr>\n",
       "      <th>4</th>\n",
       "      <td>5</td>\n",
       "      <td>Larceny - All Other</td>\n",
       "      <td>202500020059</td>\n",
       "      <td>900</td>\n",
       "      <td>RIVES ST</td>\n",
       "      <td>CPD</td>\n",
       "      <td>1447</td>\n",
       "      <td>Eckenroth, Rachel</td>\n",
       "      <td>2025-06-11 14:47:38</td>\n",
       "      <td>2025-06-11 02:47:38 PM</td>\n",
       "      <td>Wednesday</td>\n",
       "      <td>False</td>\n",
       "      <td>Spring</td>\n",
       "      <td>02:47 PM</td>\n",
       "      <td>Afternoon</td>\n",
       "      <td>900 RIVES ST</td>\n",
       "      <td>38.017740</td>\n",
       "      <td>-78.469803</td>\n",
       "      <td>Belmont</td>\n",
       "    </tr>\n",
       "  </tbody>\n",
       "</table>\n",
       "</div>"
      ],
      "text/plain": [
       "   RecordID                Offense    IncidentID BlockNumber     StreetName  \\\n",
       "0         1     Lost/FoundProperty  202500020078         400  GARRETT ST, H   \n",
       "1         2  Larceny - Shoplifitng  202500020074        1100      5TH ST SW   \n",
       "2         3            Hit and Run  202500020073         900     EMMET ST N   \n",
       "3         4  Larceny - Shoplifitng  202500020052        1100      5TH ST SW   \n",
       "4         5    Larceny - All Other  202500020059         900       RIVES ST   \n",
       "\n",
       "  Agency HourReported   ReportingOfficer                Date  \\\n",
       "0    CPD         1742    Crowley, Raeann 2025-06-11 17:42:49   \n",
       "1    CPD         1721   Bentz, Benjamin  2025-06-11 17:21:41   \n",
       "2    CPD         1712     Reed, Danielle 2025-06-11 17:12:57   \n",
       "3    CPD         1457      Kinney, Dylan 2025-06-11 14:57:07   \n",
       "4    CPD         1447  Eckenroth, Rachel 2025-06-11 14:47:38   \n",
       "\n",
       "               DateString  DayOfWeek  Weekend  Season  HourAMPM  TimeOfDay  \\\n",
       "0  2025-06-11 05:42:49 PM  Wednesday    False  Spring  05:42 PM    Evening   \n",
       "1  2025-06-11 05:21:41 PM  Wednesday    False  Spring  05:21 PM    Evening   \n",
       "2  2025-06-11 05:12:57 PM  Wednesday    False  Spring  05:12 PM    Evening   \n",
       "3  2025-06-11 02:57:07 PM  Wednesday    False  Spring  02:57 PM  Afternoon   \n",
       "4  2025-06-11 02:47:38 PM  Wednesday    False  Spring  02:47 PM  Afternoon   \n",
       "\n",
       "          FullStreet        lat        lon     neighborhood  \n",
       "0  400 GARRETT ST, H  38.027935 -78.481659   North Downtown  \n",
       "1     1100 5TH ST SW  38.017130 -78.497806  Johnson Village  \n",
       "2     900 EMMET ST N  38.048586 -78.502983          Venable  \n",
       "3     1100 5TH ST SW  38.017130 -78.497806  Johnson Village  \n",
       "4       900 RIVES ST  38.017740 -78.469803          Belmont  "
      ]
     },
     "execution_count": 10,
     "metadata": {},
     "output_type": "execute_result"
    }
   ],
   "source": [
    "# Initialize the Google Maps client.\n",
    "gmaps = googlemaps.Client(key=GOOGLE_API_KEY)\n",
    "\n",
    "# Try to load a persistent neighborhood cache if available.\n",
    "try:\n",
    "    with open(\"neighborhood_cache.pkl\", \"rb\") as f:\n",
    "        neighborhood_cache = pickle.load(f)\n",
    "    print(\"Loaded neighborhood cache.\")\n",
    "except FileNotFoundError:\n",
    "    neighborhood_cache = {}\n",
    "    print(\"No neighborhood cache found; starting fresh.\")\n",
    "\n",
    "def get_neighborhood(lat, lon):\n",
    "    \"\"\"\n",
    "    Reverse geocodes a latitude and longitude to retrieve the neighborhood.\n",
    "    Caches results to speed up subsequent lookups.\n",
    "    \"\"\"\n",
    "    key = (lat, lon)\n",
    "    if key in neighborhood_cache:\n",
    "        return neighborhood_cache[key]\n",
    "    \n",
    "    try:\n",
    "        result = gmaps.reverse_geocode((lat, lon))\n",
    "        if result:\n",
    "            # Look for the 'neighborhood' component in the first result.\n",
    "            for component in result[0]['address_components']:\n",
    "                if 'neighborhood' in component['types']:\n",
    "                    neighborhood = component['long_name']\n",
    "                    neighborhood_cache[key] = neighborhood\n",
    "                    return neighborhood\n",
    "            # If no neighborhood is found, return \"N/A\"\n",
    "            neighborhood_cache[key] = \"N/A\"\n",
    "            return \"N/A\"\n",
    "    except Exception as e:\n",
    "        print(f\"Error getting neighborhood for {lat}, {lon}: {e}\")\n",
    "        return \"N/A\"\n",
    "    \n",
    "    # Pause to respect usage limits.\n",
    "    time.sleep(1)\n",
    "\n",
    "# Example usage: Apply to your DataFrame 'df' that already has 'lat' and 'lon' columns.\n",
    "df['neighborhood'] = df.apply(lambda row: get_neighborhood(row['lat'], row['lon']), axis=1)\n",
    "\n",
    "# Save the updated neighborhood cache.\n",
    "with open(\"neighborhood_cache.pkl\", \"wb\") as f:\n",
    "    pickle.dump(neighborhood_cache, f)\n",
    "\n",
    "df.head()\n"
   ]
  },
  {
   "cell_type": "markdown",
   "id": "2edef72b",
   "metadata": {
    "papermill": {
     "duration": 0.004823,
     "end_time": "2025-06-14T01:03:22.256842",
     "exception": false,
     "start_time": "2025-06-14T01:03:22.252019",
     "status": "completed"
    },
    "tags": []
   },
   "source": [
    "### Zip"
   ]
  },
  {
   "cell_type": "code",
   "execution_count": 11,
   "id": "207671f2",
   "metadata": {
    "execution": {
     "iopub.execute_input": "2025-06-14T01:03:22.267603Z",
     "iopub.status.busy": "2025-06-14T01:03:22.267338Z",
     "iopub.status.idle": "2025-06-14T01:03:38.534486Z",
     "shell.execute_reply": "2025-06-14T01:03:38.533761Z"
    },
    "papermill": {
     "duration": 16.273872,
     "end_time": "2025-06-14T01:03:38.535630",
     "exception": false,
     "start_time": "2025-06-14T01:03:22.261758",
     "status": "completed"
    },
    "tags": []
   },
   "outputs": [
    {
     "name": "stdout",
     "output_type": "stream",
     "text": [
      "Loaded zip cache.\n",
      "Error getting ZIP for nan, nan: Must be a coordinate pair or Point\n"
     ]
    },
    {
     "name": "stdout",
     "output_type": "stream",
     "text": [
      "Error getting ZIP for nan, nan: Must be a coordinate pair or Point\n"
     ]
    },
    {
     "name": "stdout",
     "output_type": "stream",
     "text": [
      "Error getting ZIP for nan, nan: Must be a coordinate pair or Point\n"
     ]
    },
    {
     "name": "stdout",
     "output_type": "stream",
     "text": [
      "Error getting ZIP for nan, nan: Must be a coordinate pair or Point\n"
     ]
    },
    {
     "name": "stdout",
     "output_type": "stream",
     "text": [
      "Error getting ZIP for nan, nan: Must be a coordinate pair or Point\n"
     ]
    },
    {
     "name": "stdout",
     "output_type": "stream",
     "text": [
      "Error getting ZIP for nan, nan: Must be a coordinate pair or Point\n"
     ]
    },
    {
     "name": "stdout",
     "output_type": "stream",
     "text": [
      "Error getting ZIP for nan, nan: Must be a coordinate pair or Point\n"
     ]
    },
    {
     "name": "stdout",
     "output_type": "stream",
     "text": [
      "Error getting ZIP for nan, nan: Must be a coordinate pair or Point\n"
     ]
    },
    {
     "name": "stdout",
     "output_type": "stream",
     "text": [
      "Error getting ZIP for nan, nan: Must be a coordinate pair or Point\n"
     ]
    },
    {
     "name": "stdout",
     "output_type": "stream",
     "text": [
      "Error getting ZIP for nan, nan: Must be a coordinate pair or Point\n"
     ]
    },
    {
     "name": "stdout",
     "output_type": "stream",
     "text": [
      "Error getting ZIP for nan, nan: Must be a coordinate pair or Point\n"
     ]
    },
    {
     "name": "stdout",
     "output_type": "stream",
     "text": [
      "Error getting ZIP for nan, nan: Must be a coordinate pair or Point\n"
     ]
    },
    {
     "name": "stdout",
     "output_type": "stream",
     "text": [
      "Error getting ZIP for nan, nan: Must be a coordinate pair or Point\n"
     ]
    },
    {
     "name": "stdout",
     "output_type": "stream",
     "text": [
      "Error getting ZIP for nan, nan: Must be a coordinate pair or Point\n"
     ]
    },
    {
     "name": "stdout",
     "output_type": "stream",
     "text": [
      "Error getting ZIP for nan, nan: Must be a coordinate pair or Point\n"
     ]
    },
    {
     "name": "stdout",
     "output_type": "stream",
     "text": [
      "Error getting ZIP for nan, nan: Must be a coordinate pair or Point\n"
     ]
    },
    {
     "data": {
      "text/html": [
       "<div>\n",
       "<style scoped>\n",
       "    .dataframe tbody tr th:only-of-type {\n",
       "        vertical-align: middle;\n",
       "    }\n",
       "\n",
       "    .dataframe tbody tr th {\n",
       "        vertical-align: top;\n",
       "    }\n",
       "\n",
       "    .dataframe thead th {\n",
       "        text-align: right;\n",
       "    }\n",
       "</style>\n",
       "<table border=\"1\" class=\"dataframe\">\n",
       "  <thead>\n",
       "    <tr style=\"text-align: right;\">\n",
       "      <th></th>\n",
       "      <th>RecordID</th>\n",
       "      <th>Offense</th>\n",
       "      <th>IncidentID</th>\n",
       "      <th>BlockNumber</th>\n",
       "      <th>StreetName</th>\n",
       "      <th>Agency</th>\n",
       "      <th>HourReported</th>\n",
       "      <th>ReportingOfficer</th>\n",
       "      <th>Date</th>\n",
       "      <th>DateString</th>\n",
       "      <th>DayOfWeek</th>\n",
       "      <th>Weekend</th>\n",
       "      <th>Season</th>\n",
       "      <th>HourAMPM</th>\n",
       "      <th>TimeOfDay</th>\n",
       "      <th>FullStreet</th>\n",
       "      <th>lat</th>\n",
       "      <th>lon</th>\n",
       "      <th>neighborhood</th>\n",
       "      <th>zip</th>\n",
       "    </tr>\n",
       "  </thead>\n",
       "  <tbody>\n",
       "    <tr>\n",
       "      <th>0</th>\n",
       "      <td>1</td>\n",
       "      <td>Lost/FoundProperty</td>\n",
       "      <td>202500020078</td>\n",
       "      <td>400</td>\n",
       "      <td>GARRETT ST, H</td>\n",
       "      <td>CPD</td>\n",
       "      <td>1742</td>\n",
       "      <td>Crowley, Raeann</td>\n",
       "      <td>2025-06-11 17:42:49</td>\n",
       "      <td>2025-06-11 05:42:49 PM</td>\n",
       "      <td>Wednesday</td>\n",
       "      <td>False</td>\n",
       "      <td>Spring</td>\n",
       "      <td>05:42 PM</td>\n",
       "      <td>Evening</td>\n",
       "      <td>400 GARRETT ST, H</td>\n",
       "      <td>38.027935</td>\n",
       "      <td>-78.481659</td>\n",
       "      <td>North Downtown</td>\n",
       "      <td>22903</td>\n",
       "    </tr>\n",
       "    <tr>\n",
       "      <th>1</th>\n",
       "      <td>2</td>\n",
       "      <td>Larceny - Shoplifitng</td>\n",
       "      <td>202500020074</td>\n",
       "      <td>1100</td>\n",
       "      <td>5TH ST SW</td>\n",
       "      <td>CPD</td>\n",
       "      <td>1721</td>\n",
       "      <td>Bentz, Benjamin</td>\n",
       "      <td>2025-06-11 17:21:41</td>\n",
       "      <td>2025-06-11 05:21:41 PM</td>\n",
       "      <td>Wednesday</td>\n",
       "      <td>False</td>\n",
       "      <td>Spring</td>\n",
       "      <td>05:21 PM</td>\n",
       "      <td>Evening</td>\n",
       "      <td>1100 5TH ST SW</td>\n",
       "      <td>38.017130</td>\n",
       "      <td>-78.497806</td>\n",
       "      <td>Johnson Village</td>\n",
       "      <td>22903</td>\n",
       "    </tr>\n",
       "    <tr>\n",
       "      <th>2</th>\n",
       "      <td>3</td>\n",
       "      <td>Hit and Run</td>\n",
       "      <td>202500020073</td>\n",
       "      <td>900</td>\n",
       "      <td>EMMET ST N</td>\n",
       "      <td>CPD</td>\n",
       "      <td>1712</td>\n",
       "      <td>Reed, Danielle</td>\n",
       "      <td>2025-06-11 17:12:57</td>\n",
       "      <td>2025-06-11 05:12:57 PM</td>\n",
       "      <td>Wednesday</td>\n",
       "      <td>False</td>\n",
       "      <td>Spring</td>\n",
       "      <td>05:12 PM</td>\n",
       "      <td>Evening</td>\n",
       "      <td>900 EMMET ST N</td>\n",
       "      <td>38.048586</td>\n",
       "      <td>-78.502983</td>\n",
       "      <td>Venable</td>\n",
       "      <td>22903</td>\n",
       "    </tr>\n",
       "    <tr>\n",
       "      <th>3</th>\n",
       "      <td>4</td>\n",
       "      <td>Larceny - Shoplifitng</td>\n",
       "      <td>202500020052</td>\n",
       "      <td>1100</td>\n",
       "      <td>5TH ST SW</td>\n",
       "      <td>CPD</td>\n",
       "      <td>1457</td>\n",
       "      <td>Kinney, Dylan</td>\n",
       "      <td>2025-06-11 14:57:07</td>\n",
       "      <td>2025-06-11 02:57:07 PM</td>\n",
       "      <td>Wednesday</td>\n",
       "      <td>False</td>\n",
       "      <td>Spring</td>\n",
       "      <td>02:57 PM</td>\n",
       "      <td>Afternoon</td>\n",
       "      <td>1100 5TH ST SW</td>\n",
       "      <td>38.017130</td>\n",
       "      <td>-78.497806</td>\n",
       "      <td>Johnson Village</td>\n",
       "      <td>22903</td>\n",
       "    </tr>\n",
       "    <tr>\n",
       "      <th>4</th>\n",
       "      <td>5</td>\n",
       "      <td>Larceny - All Other</td>\n",
       "      <td>202500020059</td>\n",
       "      <td>900</td>\n",
       "      <td>RIVES ST</td>\n",
       "      <td>CPD</td>\n",
       "      <td>1447</td>\n",
       "      <td>Eckenroth, Rachel</td>\n",
       "      <td>2025-06-11 14:47:38</td>\n",
       "      <td>2025-06-11 02:47:38 PM</td>\n",
       "      <td>Wednesday</td>\n",
       "      <td>False</td>\n",
       "      <td>Spring</td>\n",
       "      <td>02:47 PM</td>\n",
       "      <td>Afternoon</td>\n",
       "      <td>900 RIVES ST</td>\n",
       "      <td>38.017740</td>\n",
       "      <td>-78.469803</td>\n",
       "      <td>Belmont</td>\n",
       "      <td>22902</td>\n",
       "    </tr>\n",
       "  </tbody>\n",
       "</table>\n",
       "</div>"
      ],
      "text/plain": [
       "   RecordID                Offense    IncidentID BlockNumber     StreetName  \\\n",
       "0         1     Lost/FoundProperty  202500020078         400  GARRETT ST, H   \n",
       "1         2  Larceny - Shoplifitng  202500020074        1100      5TH ST SW   \n",
       "2         3            Hit and Run  202500020073         900     EMMET ST N   \n",
       "3         4  Larceny - Shoplifitng  202500020052        1100      5TH ST SW   \n",
       "4         5    Larceny - All Other  202500020059         900       RIVES ST   \n",
       "\n",
       "  Agency HourReported   ReportingOfficer                Date  \\\n",
       "0    CPD         1742    Crowley, Raeann 2025-06-11 17:42:49   \n",
       "1    CPD         1721   Bentz, Benjamin  2025-06-11 17:21:41   \n",
       "2    CPD         1712     Reed, Danielle 2025-06-11 17:12:57   \n",
       "3    CPD         1457      Kinney, Dylan 2025-06-11 14:57:07   \n",
       "4    CPD         1447  Eckenroth, Rachel 2025-06-11 14:47:38   \n",
       "\n",
       "               DateString  DayOfWeek  Weekend  Season  HourAMPM  TimeOfDay  \\\n",
       "0  2025-06-11 05:42:49 PM  Wednesday    False  Spring  05:42 PM    Evening   \n",
       "1  2025-06-11 05:21:41 PM  Wednesday    False  Spring  05:21 PM    Evening   \n",
       "2  2025-06-11 05:12:57 PM  Wednesday    False  Spring  05:12 PM    Evening   \n",
       "3  2025-06-11 02:57:07 PM  Wednesday    False  Spring  02:57 PM  Afternoon   \n",
       "4  2025-06-11 02:47:38 PM  Wednesday    False  Spring  02:47 PM  Afternoon   \n",
       "\n",
       "          FullStreet        lat        lon     neighborhood    zip  \n",
       "0  400 GARRETT ST, H  38.027935 -78.481659   North Downtown  22903  \n",
       "1     1100 5TH ST SW  38.017130 -78.497806  Johnson Village  22903  \n",
       "2     900 EMMET ST N  38.048586 -78.502983          Venable  22903  \n",
       "3     1100 5TH ST SW  38.017130 -78.497806  Johnson Village  22903  \n",
       "4       900 RIVES ST  38.017740 -78.469803          Belmont  22902  "
      ]
     },
     "execution_count": 11,
     "metadata": {},
     "output_type": "execute_result"
    }
   ],
   "source": [
    "# Initialize the geocoder.\n",
    "geolocator = Nominatim(user_agent=\"zip_lookup\")\n",
    "\n",
    "# Try to load a persistent ZIP cache if available.\n",
    "try:\n",
    "    with open(\"zip_cache.pkl\", \"rb\") as f:\n",
    "        zip_cache = pickle.load(f)\n",
    "    print(\"Loaded zip cache.\")\n",
    "except FileNotFoundError:\n",
    "    zip_cache = {}\n",
    "    print(\"No zip cache found; starting fresh.\")\n",
    "\n",
    "def get_zip(lat, lon):\n",
    "    \"\"\"\n",
    "    Reverse geocodes a latitude and longitude to retrieve the ZIP code.\n",
    "    Caches results to speed up subsequent lookups.\n",
    "    \"\"\"\n",
    "    key = (lat, lon)\n",
    "    if key in zip_cache:\n",
    "        return zip_cache[key]\n",
    "    \n",
    "    try:\n",
    "        location = geolocator.reverse((lat, lon), exactly_one=True, timeout=10)\n",
    "        address = location.raw.get('address', {})\n",
    "        postal_code = address.get('postcode', \"N/A\")\n",
    "    except Exception as e:\n",
    "        print(f\"Error getting ZIP for {lat}, {lon}: {e}\")\n",
    "        postal_code = \"N/A\"\n",
    "    \n",
    "    zip_cache[key] = postal_code\n",
    "    # Pause to respect the usage policy.\n",
    "    time.sleep(1)\n",
    "    return postal_code\n",
    "\n",
    "# Apply the function to each row in the DataFrame.\n",
    "df['zip'] = df.apply(lambda row: get_zip(row['lat'], row['lon']), axis=1)\n",
    "\n",
    "# Save the updated ZIP cache.\n",
    "with open(\"zip_cache.pkl\", \"wb\") as f:\n",
    "    pickle.dump(zip_cache, f)\n",
    "\n",
    "df.head()\n"
   ]
  },
  {
   "cell_type": "code",
   "execution_count": 12,
   "id": "9be67f2a",
   "metadata": {
    "execution": {
     "iopub.execute_input": "2025-06-14T01:03:38.548949Z",
     "iopub.status.busy": "2025-06-14T01:03:38.548493Z",
     "iopub.status.idle": "2025-06-14T01:03:38.579607Z",
     "shell.execute_reply": "2025-06-14T01:03:38.578994Z"
    },
    "papermill": {
     "duration": 0.038682,
     "end_time": "2025-06-14T01:03:38.580624",
     "exception": false,
     "start_time": "2025-06-14T01:03:38.541942",
     "status": "completed"
    },
    "tags": []
   },
   "outputs": [
    {
     "name": "stdout",
     "output_type": "stream",
     "text": [
      "                  MissingCount  MissingPercentage\n",
      "RecordID                     0               0.00\n",
      "Offense                      0               0.00\n",
      "IncidentID                   0               0.00\n",
      "BlockNumber                  0               0.00\n",
      "StreetName                   0               0.00\n",
      "Agency                       0               0.00\n",
      "HourReported                 0               0.00\n",
      "ReportingOfficer            17               0.07\n",
      "Date                         0               0.00\n",
      "DateString                   0               0.00\n",
      "DayOfWeek                    0               0.00\n",
      "Weekend                      0               0.00\n",
      "Season                       0               0.00\n",
      "HourAMPM                     0               0.00\n",
      "TimeOfDay                    0               0.00\n",
      "FullStreet                   0               0.00\n",
      "lat                         16               0.06\n",
      "lon                         16               0.06\n",
      "neighborhood                 0               0.00\n",
      "zip                          0               0.00\n"
     ]
    }
   ],
   "source": [
    "missing_info = missing_percentage(df)\n",
    "print(missing_info)\n"
   ]
  },
  {
   "cell_type": "code",
   "execution_count": 13,
   "id": "964b3941",
   "metadata": {
    "execution": {
     "iopub.execute_input": "2025-06-14T01:03:38.593587Z",
     "iopub.status.busy": "2025-06-14T01:03:38.593111Z",
     "iopub.status.idle": "2025-06-14T01:03:38.624735Z",
     "shell.execute_reply": "2025-06-14T01:03:38.624183Z"
    },
    "papermill": {
     "duration": 0.039136,
     "end_time": "2025-06-14T01:03:38.625743",
     "exception": false,
     "start_time": "2025-06-14T01:03:38.586607",
     "status": "completed"
    },
    "tags": []
   },
   "outputs": [
    {
     "name": "stdout",
     "output_type": "stream",
     "text": [
      "<class 'pandas.core.frame.DataFrame'>\n",
      "RangeIndex: 25509 entries, 0 to 25508\n",
      "Data columns (total 20 columns):\n",
      " #   Column            Non-Null Count  Dtype         \n",
      "---  ------            --------------  -----         \n",
      " 0   RecordID          25509 non-null  int64         \n",
      " 1   Offense           25509 non-null  object        \n",
      " 2   IncidentID        25509 non-null  object        \n",
      " 3   BlockNumber       25509 non-null  object        \n",
      " 4   StreetName        25509 non-null  object        \n",
      " 5   Agency            25509 non-null  object        \n",
      " 6   HourReported      25509 non-null  object        \n",
      " 7   ReportingOfficer  25492 non-null  object        \n",
      " 8   Date              25509 non-null  datetime64[ns]\n",
      " 9   DateString        25509 non-null  object        \n",
      " 10  DayOfWeek         25509 non-null  object        \n",
      " 11  Weekend           25509 non-null  bool          \n",
      " 12  Season            25509 non-null  object        \n",
      " 13  HourAMPM          25509 non-null  object        \n",
      " 14  TimeOfDay         25509 non-null  object        \n",
      " 15  FullStreet        25509 non-null  object        \n",
      " 16  lat               25493 non-null  float64       \n",
      " 17  lon               25493 non-null  float64       \n",
      " 18  neighborhood      25509 non-null  object        \n",
      " 19  zip               25509 non-null  object        \n",
      "dtypes: bool(1), datetime64[ns](1), float64(2), int64(1), object(15)\n",
      "memory usage: 3.7+ MB\n"
     ]
    }
   ],
   "source": [
    "df.info()"
   ]
  },
  {
   "cell_type": "code",
   "execution_count": 14,
   "id": "9e19685c",
   "metadata": {
    "execution": {
     "iopub.execute_input": "2025-06-14T01:03:38.638835Z",
     "iopub.status.busy": "2025-06-14T01:03:38.638622Z",
     "iopub.status.idle": "2025-06-14T01:03:38.687472Z",
     "shell.execute_reply": "2025-06-14T01:03:38.686854Z"
    },
    "papermill": {
     "duration": 0.056513,
     "end_time": "2025-06-14T01:03:38.688487",
     "exception": false,
     "start_time": "2025-06-14T01:03:38.631974",
     "status": "completed"
    },
    "tags": []
   },
   "outputs": [
    {
     "data": {
      "text/html": [
       "<div>\n",
       "<style scoped>\n",
       "    .dataframe tbody tr th:only-of-type {\n",
       "        vertical-align: middle;\n",
       "    }\n",
       "\n",
       "    .dataframe tbody tr th {\n",
       "        vertical-align: top;\n",
       "    }\n",
       "\n",
       "    .dataframe thead th {\n",
       "        text-align: right;\n",
       "    }\n",
       "</style>\n",
       "<table border=\"1\" class=\"dataframe\">\n",
       "  <thead>\n",
       "    <tr style=\"text-align: right;\">\n",
       "      <th></th>\n",
       "      <th>RecordID</th>\n",
       "      <th>Offense</th>\n",
       "      <th>IncidentID</th>\n",
       "      <th>Agency</th>\n",
       "      <th>ReportingOfficer</th>\n",
       "      <th>Date</th>\n",
       "      <th>DayOfWeek</th>\n",
       "      <th>Weekend</th>\n",
       "      <th>Season</th>\n",
       "      <th>TimeOfDay</th>\n",
       "      <th>FullStreet</th>\n",
       "      <th>lat</th>\n",
       "      <th>lon</th>\n",
       "      <th>neighborhood</th>\n",
       "      <th>zip</th>\n",
       "    </tr>\n",
       "  </thead>\n",
       "  <tbody>\n",
       "    <tr>\n",
       "      <th>0</th>\n",
       "      <td>1</td>\n",
       "      <td>Lost/FoundProperty</td>\n",
       "      <td>202500020078</td>\n",
       "      <td>CPD</td>\n",
       "      <td>Crowley, Raeann</td>\n",
       "      <td>2025-06-11 17:42:49</td>\n",
       "      <td>Wednesday</td>\n",
       "      <td>False</td>\n",
       "      <td>Spring</td>\n",
       "      <td>Evening</td>\n",
       "      <td>400 GARRETT ST, H</td>\n",
       "      <td>38.027935</td>\n",
       "      <td>-78.481659</td>\n",
       "      <td>North Downtown</td>\n",
       "      <td>22903</td>\n",
       "    </tr>\n",
       "    <tr>\n",
       "      <th>1</th>\n",
       "      <td>2</td>\n",
       "      <td>Larceny - Shoplifitng</td>\n",
       "      <td>202500020074</td>\n",
       "      <td>CPD</td>\n",
       "      <td>Bentz, Benjamin</td>\n",
       "      <td>2025-06-11 17:21:41</td>\n",
       "      <td>Wednesday</td>\n",
       "      <td>False</td>\n",
       "      <td>Spring</td>\n",
       "      <td>Evening</td>\n",
       "      <td>1100 5TH ST SW</td>\n",
       "      <td>38.01713</td>\n",
       "      <td>-78.497806</td>\n",
       "      <td>Johnson Village</td>\n",
       "      <td>22903</td>\n",
       "    </tr>\n",
       "    <tr>\n",
       "      <th>2</th>\n",
       "      <td>3</td>\n",
       "      <td>Hit and Run</td>\n",
       "      <td>202500020073</td>\n",
       "      <td>CPD</td>\n",
       "      <td>Reed, Danielle</td>\n",
       "      <td>2025-06-11 17:12:57</td>\n",
       "      <td>Wednesday</td>\n",
       "      <td>False</td>\n",
       "      <td>Spring</td>\n",
       "      <td>Evening</td>\n",
       "      <td>900 EMMET ST N</td>\n",
       "      <td>38.048586</td>\n",
       "      <td>-78.502983</td>\n",
       "      <td>Venable</td>\n",
       "      <td>22903</td>\n",
       "    </tr>\n",
       "    <tr>\n",
       "      <th>3</th>\n",
       "      <td>4</td>\n",
       "      <td>Larceny - Shoplifitng</td>\n",
       "      <td>202500020052</td>\n",
       "      <td>CPD</td>\n",
       "      <td>Kinney, Dylan</td>\n",
       "      <td>2025-06-11 14:57:07</td>\n",
       "      <td>Wednesday</td>\n",
       "      <td>False</td>\n",
       "      <td>Spring</td>\n",
       "      <td>Afternoon</td>\n",
       "      <td>1100 5TH ST SW</td>\n",
       "      <td>38.01713</td>\n",
       "      <td>-78.497806</td>\n",
       "      <td>Johnson Village</td>\n",
       "      <td>22903</td>\n",
       "    </tr>\n",
       "    <tr>\n",
       "      <th>4</th>\n",
       "      <td>5</td>\n",
       "      <td>Larceny - All Other</td>\n",
       "      <td>202500020059</td>\n",
       "      <td>CPD</td>\n",
       "      <td>Eckenroth, Rachel</td>\n",
       "      <td>2025-06-11 14:47:38</td>\n",
       "      <td>Wednesday</td>\n",
       "      <td>False</td>\n",
       "      <td>Spring</td>\n",
       "      <td>Afternoon</td>\n",
       "      <td>900 RIVES ST</td>\n",
       "      <td>38.01774</td>\n",
       "      <td>-78.469803</td>\n",
       "      <td>Belmont</td>\n",
       "      <td>22902</td>\n",
       "    </tr>\n",
       "  </tbody>\n",
       "</table>\n",
       "</div>"
      ],
      "text/plain": [
       "   RecordID                Offense    IncidentID Agency   ReportingOfficer  \\\n",
       "0         1     Lost/FoundProperty  202500020078    CPD    Crowley, Raeann   \n",
       "1         2  Larceny - Shoplifitng  202500020074    CPD   Bentz, Benjamin    \n",
       "2         3            Hit and Run  202500020073    CPD     Reed, Danielle   \n",
       "3         4  Larceny - Shoplifitng  202500020052    CPD      Kinney, Dylan   \n",
       "4         5    Larceny - All Other  202500020059    CPD  Eckenroth, Rachel   \n",
       "\n",
       "                 Date  DayOfWeek  Weekend  Season  TimeOfDay  \\\n",
       "0 2025-06-11 17:42:49  Wednesday    False  Spring    Evening   \n",
       "1 2025-06-11 17:21:41  Wednesday    False  Spring    Evening   \n",
       "2 2025-06-11 17:12:57  Wednesday    False  Spring    Evening   \n",
       "3 2025-06-11 14:57:07  Wednesday    False  Spring  Afternoon   \n",
       "4 2025-06-11 14:47:38  Wednesday    False  Spring  Afternoon   \n",
       "\n",
       "          FullStreet        lat        lon     neighborhood    zip  \n",
       "0  400 GARRETT ST, H  38.027935 -78.481659   North Downtown  22903  \n",
       "1     1100 5TH ST SW   38.01713 -78.497806  Johnson Village  22903  \n",
       "2     900 EMMET ST N  38.048586 -78.502983          Venable  22903  \n",
       "3     1100 5TH ST SW   38.01713 -78.497806  Johnson Village  22903  \n",
       "4       900 RIVES ST   38.01774 -78.469803          Belmont  22902  "
      ]
     },
     "execution_count": 14,
     "metadata": {},
     "output_type": "execute_result"
    }
   ],
   "source": [
    "# Now drop the original BlockNumber and StreetName columns\n",
    "df.drop(columns=['BlockNumber', 'StreetName','HourAMPM','HourReported','DateString'], inplace=True)\n",
    "df[\"zip\"] = df[\"zip\"].astype(str)\n",
    "\n",
    "# Fill all missing values in the DataFrame with \"N/A\"\n",
    "df.replace({None: \"N/A\", np.nan: \"N/A\", \"\": \"N/A\"}, inplace=True)\n",
    "df.head()"
   ]
  },
  {
   "cell_type": "code",
   "execution_count": 15,
   "id": "62a742e1",
   "metadata": {
    "execution": {
     "iopub.execute_input": "2025-06-14T01:03:38.702379Z",
     "iopub.status.busy": "2025-06-14T01:03:38.701900Z",
     "iopub.status.idle": "2025-06-14T01:03:38.721008Z",
     "shell.execute_reply": "2025-06-14T01:03:38.720443Z"
    },
    "papermill": {
     "duration": 0.026886,
     "end_time": "2025-06-14T01:03:38.722046",
     "exception": false,
     "start_time": "2025-06-14T01:03:38.695160",
     "status": "completed"
    },
    "tags": []
   },
   "outputs": [
    {
     "name": "stdout",
     "output_type": "stream",
     "text": [
      "                  MissingCount  MissingPercentage\n",
      "RecordID                     0                0.0\n",
      "Offense                      0                0.0\n",
      "IncidentID                   0                0.0\n",
      "Agency                       0                0.0\n",
      "ReportingOfficer             0                0.0\n",
      "Date                         0                0.0\n",
      "DayOfWeek                    0                0.0\n",
      "Weekend                      0                0.0\n",
      "Season                       0                0.0\n",
      "TimeOfDay                    0                0.0\n",
      "FullStreet                   0                0.0\n",
      "lat                          0                0.0\n",
      "lon                          0                0.0\n",
      "neighborhood                 0                0.0\n",
      "zip                          0                0.0\n"
     ]
    }
   ],
   "source": [
    "missing_info = missing_percentage(df)\n",
    "print(missing_info)"
   ]
  },
  {
   "cell_type": "code",
   "execution_count": 16,
   "id": "631d323d",
   "metadata": {
    "execution": {
     "iopub.execute_input": "2025-06-14T01:03:38.735973Z",
     "iopub.status.busy": "2025-06-14T01:03:38.735571Z",
     "iopub.status.idle": "2025-06-14T01:03:38.740017Z",
     "shell.execute_reply": "2025-06-14T01:03:38.739514Z"
    },
    "papermill": {
     "duration": 0.012546,
     "end_time": "2025-06-14T01:03:38.740955",
     "exception": false,
     "start_time": "2025-06-14T01:03:38.728409",
     "status": "completed"
    },
    "tags": []
   },
   "outputs": [
    {
     "data": {
      "text/plain": [
       "Index(['RecordID', 'Offense', 'IncidentID', 'Agency', 'ReportingOfficer',\n",
       "       'Date', 'DayOfWeek', 'Weekend', 'Season', 'TimeOfDay', 'FullStreet',\n",
       "       'lat', 'lon', 'neighborhood', 'zip'],\n",
       "      dtype='object')"
      ]
     },
     "execution_count": 16,
     "metadata": {},
     "output_type": "execute_result"
    }
   ],
   "source": [
    "df.columns"
   ]
  },
  {
   "cell_type": "code",
   "execution_count": 17,
   "id": "99c6298a",
   "metadata": {
    "execution": {
     "iopub.execute_input": "2025-06-14T01:03:38.754635Z",
     "iopub.status.busy": "2025-06-14T01:03:38.754079Z",
     "iopub.status.idle": "2025-06-14T01:03:38.777129Z",
     "shell.execute_reply": "2025-06-14T01:03:38.776463Z"
    },
    "papermill": {
     "duration": 0.030962,
     "end_time": "2025-06-14T01:03:38.778222",
     "exception": false,
     "start_time": "2025-06-14T01:03:38.747260",
     "status": "completed"
    },
    "tags": []
   },
   "outputs": [
    {
     "name": "stdout",
     "output_type": "stream",
     "text": [
      "<class 'pandas.core.frame.DataFrame'>\n",
      "RangeIndex: 25509 entries, 0 to 25508\n",
      "Data columns (total 15 columns):\n",
      " #   Column            Non-Null Count  Dtype         \n",
      "---  ------            --------------  -----         \n",
      " 0   RecordID          25509 non-null  int64         \n",
      " 1   Offense           25509 non-null  object        \n",
      " 2   IncidentID        25509 non-null  object        \n",
      " 3   Agency            25509 non-null  object        \n",
      " 4   ReportingOfficer  25509 non-null  object        \n",
      " 5   Date              25509 non-null  datetime64[ns]\n",
      " 6   DayOfWeek         25509 non-null  object        \n",
      " 7   Weekend           25509 non-null  bool          \n",
      " 8   Season            25509 non-null  object        \n",
      " 9   TimeOfDay         25509 non-null  object        \n",
      " 10  FullStreet        25509 non-null  object        \n",
      " 11  lat               25509 non-null  object        \n",
      " 12  lon               25509 non-null  object        \n",
      " 13  neighborhood      25509 non-null  object        \n",
      " 14  zip               25509 non-null  object        \n",
      "dtypes: bool(1), datetime64[ns](1), int64(1), object(12)\n",
      "memory usage: 2.7+ MB\n"
     ]
    }
   ],
   "source": [
    "df.info()"
   ]
  },
  {
   "cell_type": "markdown",
   "id": "056df491",
   "metadata": {
    "papermill": {
     "duration": 0.006369,
     "end_time": "2025-06-14T01:03:38.791202",
     "exception": false,
     "start_time": "2025-06-14T01:03:38.784833",
     "status": "completed"
    },
    "tags": []
   },
   "source": [
    "### Export Clean Data"
   ]
  },
  {
   "cell_type": "code",
   "execution_count": 18,
   "id": "a8c98248",
   "metadata": {
    "execution": {
     "iopub.execute_input": "2025-06-14T01:03:38.805295Z",
     "iopub.status.busy": "2025-06-14T01:03:38.804805Z",
     "iopub.status.idle": "2025-06-14T01:03:47.988755Z",
     "shell.execute_reply": "2025-06-14T01:03:47.988049Z"
    },
    "papermill": {
     "duration": 9.192178,
     "end_time": "2025-06-14T01:03:47.989837",
     "exception": false,
     "start_time": "2025-06-14T01:03:38.797659",
     "status": "completed"
    },
    "tags": []
   },
   "outputs": [
    {
     "name": "stdout",
     "output_type": "stream",
     "text": [
      "Project Root: /home/runner/work/crime-data/crime-data\n"
     ]
    },
    {
     "name": "stdout",
     "output_type": "stream",
     "text": [
      "Data saved to: /home/runner/work/crime-data/crime-data/data/charlottesville_crime_incidents.csv\n"
     ]
    },
    {
     "name": "stdout",
     "output_type": "stream",
     "text": [
      "Excel saved to: /home/runner/work/crime-data/crime-data/data/charlottesville_crime_incidents.xlsx\n"
     ]
    }
   ],
   "source": [
    "# Determine the project root (assuming papermill is run from the repository root)\n",
    "project_root = os.getcwd()\n",
    "print(\"Project Root:\", project_root)\n",
    "\n",
    "# Set the data directory within the project root\n",
    "data_dir = os.path.join(project_root, \"data\")\n",
    "\n",
    "# Ensure the \"data\" directory exists (create it if it doesn't)\n",
    "if not os.path.exists(data_dir):\n",
    "    os.makedirs(data_dir)\n",
    "\n",
    "# Export the DataFrame to CSV in the \"data\" folder located in the project root\n",
    "csv_path = os.path.join(data_dir, \"charlottesville_crime_incidents.csv\")\n",
    "df.to_csv(csv_path, index=False)\n",
    "print(\"Data saved to:\", csv_path)\n",
    "\n",
    "# Construct the path to your Excel file\n",
    "excel_path = os.path.join(data_dir, \"charlottesville_crime_incidents.xlsx\")\n",
    "\n",
    "# Export the DataFrame to Excel\n",
    "df.to_excel(excel_path, index=False)\n",
    "print(\"Excel saved to:\", excel_path)\n"
   ]
  }
 ],
 "metadata": {
  "kernelspec": {
   "display_name": "Python 3",
   "language": "python",
   "name": "python3"
  },
  "language_info": {
   "codemirror_mode": {
    "name": "ipython",
    "version": 3
   },
   "file_extension": ".py",
   "mimetype": "text/x-python",
   "name": "python",
   "nbconvert_exporter": "python",
   "pygments_lexer": "ipython3",
   "version": "3.9.23"
  },
  "papermill": {
   "default_parameters": {},
   "duration": 93.996814,
   "end_time": "2025-06-14T01:03:48.412765",
   "environment_variables": {},
   "exception": null,
   "input_path": "notebook/Crime Data.ipynb",
   "output_path": "notebook/Crime Data_output.ipynb",
   "parameters": {},
   "start_time": "2025-06-14T01:02:14.415951",
   "version": "2.6.0"
  }
 },
 "nbformat": 4,
 "nbformat_minor": 5
}