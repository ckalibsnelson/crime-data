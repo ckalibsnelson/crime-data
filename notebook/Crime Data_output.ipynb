{
 "cells": [
  {
   "cell_type": "markdown",
   "id": "71792bd2",
   "metadata": {
    "papermill": {
     "duration": 0.006192,
     "end_time": "2025-05-07T01:02:17.077400",
     "exception": false,
     "start_time": "2025-05-07T01:02:17.071208",
     "status": "completed"
    },
    "tags": []
   },
   "source": [
    "# Charlottesville Open Data Porttal: Crime Data"
   ]
  },
  {
   "cell_type": "markdown",
   "id": "8c6fb86b",
   "metadata": {
    "papermill": {
     "duration": 0.010123,
     "end_time": "2025-05-07T01:02:17.095677",
     "exception": false,
     "start_time": "2025-05-07T01:02:17.085554",
     "status": "completed"
    },
    "tags": []
   },
   "source": [
    "## Import Relevant Librarires & Set WD"
   ]
  },
  {
   "cell_type": "code",
   "execution_count": 1,
   "id": "175715ea",
   "metadata": {
    "execution": {
     "iopub.execute_input": "2025-05-07T01:02:17.112108Z",
     "iopub.status.busy": "2025-05-07T01:02:17.111608Z",
     "iopub.status.idle": "2025-05-07T01:02:17.657406Z",
     "shell.execute_reply": "2025-05-07T01:02:17.656774Z"
    },
    "papermill": {
     "duration": 0.553185,
     "end_time": "2025-05-07T01:02:17.658763",
     "exception": false,
     "start_time": "2025-05-07T01:02:17.105578",
     "status": "completed"
    },
    "tags": []
   },
   "outputs": [],
   "source": [
    "import requests\n",
    "import pandas as pd\n",
    "import numpy as np\n",
    "import pickle\n",
    "import googlemaps\n",
    "import plotly.express as px\n",
    "from geopy.geocoders import Nominatim\n",
    "import time\n",
    "from dotenv import load_dotenv\n",
    "import os\n",
    "\n",
    "env_path = os.path.join(\"..\", \".env\")\n",
    "#print(\"Looking for .env file at:\", os.path.abspath(env_path))\n",
    "load_dotenv(dotenv_path=env_path)\n",
    "\n",
    "# Retrieve the variables\n",
    "GOOGLE_API_KEY = os.getenv(\"GOOGLE_API_KEY\")\n",
    "WORKING_DIR = os.getenv(\"WORKING_DIR\")\n",
    "\n",
    "if GOOGLE_API_KEY is None or WORKING_DIR is None:\n",
    "    raise RuntimeError(\"No configuration found. Please ensure that your .env file exists with the required variables, or create a local config.py file.\")\n",
    "\n",
    "#print(\"Google API Key:\", GOOGLE_API_KEY)\n",
    "#print(\"Working Directory:\", WORKING_DIR)"
   ]
  },
  {
   "cell_type": "markdown",
   "id": "9af68330",
   "metadata": {
    "papermill": {
     "duration": 0.005043,
     "end_time": "2025-05-07T01:02:17.669316",
     "exception": false,
     "start_time": "2025-05-07T01:02:17.664273",
     "status": "completed"
    },
    "tags": []
   },
   "source": [
    "## Import Data\n",
    "\n",
    "URL: https://opendata.charlottesville.org/datasets/charlottesville::crime-data/about"
   ]
  },
  {
   "cell_type": "code",
   "execution_count": 2,
   "id": "bd9b46eb",
   "metadata": {
    "execution": {
     "iopub.execute_input": "2025-05-07T01:02:17.680552Z",
     "iopub.status.busy": "2025-05-07T01:02:17.680265Z",
     "iopub.status.idle": "2025-05-07T01:03:16.418683Z",
     "shell.execute_reply": "2025-05-07T01:03:16.417946Z"
    },
    "papermill": {
     "duration": 58.750396,
     "end_time": "2025-05-07T01:03:16.424877",
     "exception": false,
     "start_time": "2025-05-07T01:02:17.674481",
     "status": "completed"
    },
    "tags": []
   },
   "outputs": [
    {
     "name": "stdout",
     "output_type": "stream",
     "text": [
      "Total records imported: 25338\n"
     ]
    }
   ],
   "source": [
    "# Define the endpoint and initial parameters.\n",
    "url = \"https://gisweb.charlottesville.org/arcgis/rest/services/OpenData_2/MapServer/6/query\"\n",
    "params = {\n",
    "    \"where\": \"1=1\",\n",
    "    \"outFields\": \"*\",\n",
    "    \"outSR\": 4326,\n",
    "    \"f\": \"json\",\n",
    "    \"resultOffset\": 0,       # Starting index for results\n",
    "    \"resultRecordCount\": 10000  # Maximum records per batch (if allowed by the API)\n",
    "}\n",
    "\n",
    "records = []\n",
    "\n",
    "while True:\n",
    "    response = requests.get(url, params=params)\n",
    "    response.raise_for_status()\n",
    "    data = response.json()\n",
    "    \n",
    "    # Get the current batch of features.\n",
    "    features = data.get(\"features\", [])\n",
    "    if not features:\n",
    "        break\n",
    "\n",
    "    # Extract the attributes from the features.\n",
    "    batch_records = [feature.get(\"attributes\", {}) for feature in features]\n",
    "    records.extend(batch_records)\n",
    "    \n",
    "    # If the batch size is less than the requested count, we reached the end.\n",
    "    if len(features) < params[\"resultRecordCount\"]:\n",
    "        break\n",
    "\n",
    "    # Update the resultOffset for the next batch.\n",
    "    params[\"resultOffset\"] += params[\"resultRecordCount\"]\n",
    "\n",
    "# Create a DataFrame from the combined records.\n",
    "df = pd.DataFrame(records)\n",
    "print(\"Total records imported:\", len(df))\n"
   ]
  },
  {
   "cell_type": "code",
   "execution_count": 3,
   "id": "30718ff5",
   "metadata": {
    "execution": {
     "iopub.execute_input": "2025-05-07T01:03:16.437472Z",
     "iopub.status.busy": "2025-05-07T01:03:16.436972Z",
     "iopub.status.idle": "2025-05-07T01:03:16.449425Z",
     "shell.execute_reply": "2025-05-07T01:03:16.448780Z"
    },
    "papermill": {
     "duration": 0.020157,
     "end_time": "2025-05-07T01:03:16.450365",
     "exception": false,
     "start_time": "2025-05-07T01:03:16.430208",
     "status": "completed"
    },
    "tags": []
   },
   "outputs": [
    {
     "data": {
      "text/html": [
       "<div>\n",
       "<style scoped>\n",
       "    .dataframe tbody tr th:only-of-type {\n",
       "        vertical-align: middle;\n",
       "    }\n",
       "\n",
       "    .dataframe tbody tr th {\n",
       "        vertical-align: top;\n",
       "    }\n",
       "\n",
       "    .dataframe thead th {\n",
       "        text-align: right;\n",
       "    }\n",
       "</style>\n",
       "<table border=\"1\" class=\"dataframe\">\n",
       "  <thead>\n",
       "    <tr style=\"text-align: right;\">\n",
       "      <th></th>\n",
       "      <th>RecordID</th>\n",
       "      <th>Offense</th>\n",
       "      <th>IncidentID</th>\n",
       "      <th>BlockNumber</th>\n",
       "      <th>StreetName</th>\n",
       "      <th>Agency</th>\n",
       "      <th>DateReported</th>\n",
       "      <th>HourReported</th>\n",
       "      <th>ReportingOfficer</th>\n",
       "    </tr>\n",
       "  </thead>\n",
       "  <tbody>\n",
       "    <tr>\n",
       "      <th>0</th>\n",
       "      <td>1</td>\n",
       "      <td>Larceny - Shoplifitng</td>\n",
       "      <td>202500014887</td>\n",
       "      <td>500</td>\n",
       "      <td>W MAIN ST</td>\n",
       "      <td>CPD</td>\n",
       "      <td>1746389939000</td>\n",
       "      <td>1618</td>\n",
       "      <td>Benbow, Lauren</td>\n",
       "    </tr>\n",
       "    <tr>\n",
       "      <th>1</th>\n",
       "      <td>2</td>\n",
       "      <td>Larceny - Shoplifitng</td>\n",
       "      <td>202500014883</td>\n",
       "      <td>500</td>\n",
       "      <td>W MAIN ST</td>\n",
       "      <td>CPD</td>\n",
       "      <td>1746388474000</td>\n",
       "      <td>1554</td>\n",
       "      <td>Benbow, Lauren</td>\n",
       "    </tr>\n",
       "    <tr>\n",
       "      <th>2</th>\n",
       "      <td>3</td>\n",
       "      <td>Sex Offense</td>\n",
       "      <td>202500014870</td>\n",
       "      <td></td>\n",
       "      <td>BARRACKS RD @ EMMET ST</td>\n",
       "      <td>CPD</td>\n",
       "      <td>1746381388000</td>\n",
       "      <td>1356</td>\n",
       "      <td>Brannon, Devin</td>\n",
       "    </tr>\n",
       "    <tr>\n",
       "      <th>3</th>\n",
       "      <td>4</td>\n",
       "      <td>Missing Person-juvenile</td>\n",
       "      <td>202500014860</td>\n",
       "      <td>400</td>\n",
       "      <td>GARRETT ST</td>\n",
       "      <td>CPD</td>\n",
       "      <td>1746376343000</td>\n",
       "      <td>1232</td>\n",
       "      <td>Prevost, Payten</td>\n",
       "    </tr>\n",
       "    <tr>\n",
       "      <th>4</th>\n",
       "      <td>5</td>\n",
       "      <td>Suspicious Activity</td>\n",
       "      <td>202500014858</td>\n",
       "      <td>100</td>\n",
       "      <td>E MAIN ST, A</td>\n",
       "      <td>CPD</td>\n",
       "      <td>1746373216000</td>\n",
       "      <td>1140</td>\n",
       "      <td>O'Briant, Landon</td>\n",
       "    </tr>\n",
       "  </tbody>\n",
       "</table>\n",
       "</div>"
      ],
      "text/plain": [
       "   RecordID                  Offense    IncidentID BlockNumber  \\\n",
       "0         1    Larceny - Shoplifitng  202500014887         500   \n",
       "1         2    Larceny - Shoplifitng  202500014883         500   \n",
       "2         3              Sex Offense  202500014870               \n",
       "3         4  Missing Person-juvenile  202500014860         400   \n",
       "4         5      Suspicious Activity  202500014858         100   \n",
       "\n",
       "               StreetName Agency   DateReported HourReported  ReportingOfficer  \n",
       "0               W MAIN ST    CPD  1746389939000         1618    Benbow, Lauren  \n",
       "1               W MAIN ST    CPD  1746388474000         1554    Benbow, Lauren  \n",
       "2  BARRACKS RD @ EMMET ST    CPD  1746381388000         1356    Brannon, Devin  \n",
       "3              GARRETT ST    CPD  1746376343000         1232   Prevost, Payten  \n",
       "4            E MAIN ST, A    CPD  1746373216000         1140  O'Briant, Landon  "
      ]
     },
     "execution_count": 3,
     "metadata": {},
     "output_type": "execute_result"
    }
   ],
   "source": [
    "df.head()"
   ]
  },
  {
   "cell_type": "code",
   "execution_count": 4,
   "id": "55c8904e",
   "metadata": {
    "execution": {
     "iopub.execute_input": "2025-05-07T01:03:16.485929Z",
     "iopub.status.busy": "2025-05-07T01:03:16.485218Z",
     "iopub.status.idle": "2025-05-07T01:03:16.490008Z",
     "shell.execute_reply": "2025-05-07T01:03:16.489468Z"
    },
    "papermill": {
     "duration": 0.035181,
     "end_time": "2025-05-07T01:03:16.490985",
     "exception": false,
     "start_time": "2025-05-07T01:03:16.455804",
     "status": "completed"
    },
    "tags": []
   },
   "outputs": [
    {
     "data": {
      "text/plain": [
       "Index(['RecordID', 'Offense', 'IncidentID', 'BlockNumber', 'StreetName',\n",
       "       'Agency', 'DateReported', 'HourReported', 'ReportingOfficer'],\n",
       "      dtype='object')"
      ]
     },
     "execution_count": 4,
     "metadata": {},
     "output_type": "execute_result"
    }
   ],
   "source": [
    "df.columns"
   ]
  },
  {
   "cell_type": "code",
   "execution_count": 5,
   "id": "543cd4cf",
   "metadata": {
    "execution": {
     "iopub.execute_input": "2025-05-07T01:03:16.503031Z",
     "iopub.status.busy": "2025-05-07T01:03:16.502596Z",
     "iopub.status.idle": "2025-05-07T01:03:16.524952Z",
     "shell.execute_reply": "2025-05-07T01:03:16.524407Z"
    },
    "papermill": {
     "duration": 0.029334,
     "end_time": "2025-05-07T01:03:16.525943",
     "exception": false,
     "start_time": "2025-05-07T01:03:16.496609",
     "status": "completed"
    },
    "tags": []
   },
   "outputs": [
    {
     "name": "stdout",
     "output_type": "stream",
     "text": [
      "<class 'pandas.core.frame.DataFrame'>\n",
      "RangeIndex: 25338 entries, 0 to 25337\n",
      "Data columns (total 9 columns):\n",
      " #   Column            Non-Null Count  Dtype \n",
      "---  ------            --------------  ----- \n",
      " 0   RecordID          25338 non-null  int64 \n",
      " 1   Offense           25338 non-null  object\n",
      " 2   IncidentID        25338 non-null  object\n",
      " 3   BlockNumber       25338 non-null  object\n",
      " 4   StreetName        25338 non-null  object\n",
      " 5   Agency            25338 non-null  object\n",
      " 6   DateReported      25338 non-null  int64 \n",
      " 7   HourReported      25338 non-null  object\n",
      " 8   ReportingOfficer  25321 non-null  object\n",
      "dtypes: int64(2), object(7)\n",
      "memory usage: 1.7+ MB\n"
     ]
    }
   ],
   "source": [
    "df.info()"
   ]
  },
  {
   "cell_type": "markdown",
   "id": "df0cb25d",
   "metadata": {
    "papermill": {
     "duration": 0.005564,
     "end_time": "2025-05-07T01:03:16.537370",
     "exception": false,
     "start_time": "2025-05-07T01:03:16.531806",
     "status": "completed"
    },
    "tags": []
   },
   "source": [
    "### Missing Values"
   ]
  },
  {
   "cell_type": "code",
   "execution_count": 6,
   "id": "16974b09",
   "metadata": {
    "execution": {
     "iopub.execute_input": "2025-05-07T01:03:16.549528Z",
     "iopub.status.busy": "2025-05-07T01:03:16.549101Z",
     "iopub.status.idle": "2025-05-07T01:03:16.568800Z",
     "shell.execute_reply": "2025-05-07T01:03:16.568250Z"
    },
    "papermill": {
     "duration": 0.026823,
     "end_time": "2025-05-07T01:03:16.569798",
     "exception": false,
     "start_time": "2025-05-07T01:03:16.542975",
     "status": "completed"
    },
    "tags": []
   },
   "outputs": [
    {
     "name": "stdout",
     "output_type": "stream",
     "text": [
      "                  MissingCount  MissingPercentage\n",
      "RecordID                     0               0.00\n",
      "Offense                      0               0.00\n",
      "IncidentID                   0               0.00\n",
      "BlockNumber                  0               0.00\n",
      "StreetName                   0               0.00\n",
      "Agency                       0               0.00\n",
      "DateReported                 0               0.00\n",
      "HourReported                 0               0.00\n",
      "ReportingOfficer            17               0.07\n"
     ]
    }
   ],
   "source": [
    "def missing_percentage(df):\n",
    "    \"\"\"\n",
    "    Returns a DataFrame with the count and percentage of missing values for each column.\n",
    "    \n",
    "    Parameters:\n",
    "        df (pd.DataFrame): The input DataFrame.\n",
    "    \n",
    "    Returns:\n",
    "        pd.DataFrame: A DataFrame with columns 'MissingCount' and 'MissingPercentage'.\n",
    "    \"\"\"\n",
    "    total_rows = len(df)\n",
    "    missing_count = df.isnull().sum()\n",
    "    missing_percent = (missing_count / total_rows) * 100\n",
    "    \n",
    "    result = pd.DataFrame({\n",
    "        'MissingCount': missing_count,\n",
    "        'MissingPercentage': missing_percent.round(2)\n",
    "    })\n",
    "    \n",
    "    return result\n",
    "\n",
    "# Example usage:\n",
    "missing_info = missing_percentage(df)\n",
    "print(missing_info)\n"
   ]
  },
  {
   "cell_type": "markdown",
   "id": "4571b363",
   "metadata": {
    "papermill": {
     "duration": 0.005555,
     "end_time": "2025-05-07T01:03:16.581124",
     "exception": false,
     "start_time": "2025-05-07T01:03:16.575569",
     "status": "completed"
    },
    "tags": []
   },
   "source": [
    "## Data Preparation"
   ]
  },
  {
   "cell_type": "markdown",
   "id": "06cfb9f2",
   "metadata": {
    "papermill": {
     "duration": 0.00547,
     "end_time": "2025-05-07T01:03:16.592242",
     "exception": false,
     "start_time": "2025-05-07T01:03:16.586772",
     "status": "completed"
    },
    "tags": []
   },
   "source": [
    "### Data Conversion"
   ]
  },
  {
   "cell_type": "code",
   "execution_count": 7,
   "id": "40a3ae28",
   "metadata": {
    "execution": {
     "iopub.execute_input": "2025-05-07T01:03:16.604505Z",
     "iopub.status.busy": "2025-05-07T01:03:16.604114Z",
     "iopub.status.idle": "2025-05-07T01:03:16.972238Z",
     "shell.execute_reply": "2025-05-07T01:03:16.971593Z"
    },
    "papermill": {
     "duration": 0.375308,
     "end_time": "2025-05-07T01:03:16.973242",
     "exception": false,
     "start_time": "2025-05-07T01:03:16.597934",
     "status": "completed"
    },
    "tags": []
   },
   "outputs": [
    {
     "data": {
      "text/html": [
       "<div>\n",
       "<style scoped>\n",
       "    .dataframe tbody tr th:only-of-type {\n",
       "        vertical-align: middle;\n",
       "    }\n",
       "\n",
       "    .dataframe tbody tr th {\n",
       "        vertical-align: top;\n",
       "    }\n",
       "\n",
       "    .dataframe thead th {\n",
       "        text-align: right;\n",
       "    }\n",
       "</style>\n",
       "<table border=\"1\" class=\"dataframe\">\n",
       "  <thead>\n",
       "    <tr style=\"text-align: right;\">\n",
       "      <th></th>\n",
       "      <th>RecordID</th>\n",
       "      <th>Offense</th>\n",
       "      <th>IncidentID</th>\n",
       "      <th>BlockNumber</th>\n",
       "      <th>StreetName</th>\n",
       "      <th>Agency</th>\n",
       "      <th>HourReported</th>\n",
       "      <th>ReportingOfficer</th>\n",
       "      <th>Date</th>\n",
       "      <th>DateString</th>\n",
       "      <th>DayOfWeek</th>\n",
       "      <th>Weekend</th>\n",
       "      <th>Season</th>\n",
       "      <th>HourAMPM</th>\n",
       "      <th>TimeOfDay</th>\n",
       "    </tr>\n",
       "  </thead>\n",
       "  <tbody>\n",
       "    <tr>\n",
       "      <th>0</th>\n",
       "      <td>1</td>\n",
       "      <td>Larceny - Shoplifitng</td>\n",
       "      <td>202500014887</td>\n",
       "      <td>500</td>\n",
       "      <td>W MAIN ST</td>\n",
       "      <td>CPD</td>\n",
       "      <td>1618</td>\n",
       "      <td>Benbow, Lauren</td>\n",
       "      <td>2025-05-04 16:18:59</td>\n",
       "      <td>2025-05-04 04:18:59 PM</td>\n",
       "      <td>Sunday</td>\n",
       "      <td>True</td>\n",
       "      <td>Spring</td>\n",
       "      <td>04:18 PM</td>\n",
       "      <td>Afternoon</td>\n",
       "    </tr>\n",
       "    <tr>\n",
       "      <th>1</th>\n",
       "      <td>2</td>\n",
       "      <td>Larceny - Shoplifitng</td>\n",
       "      <td>202500014883</td>\n",
       "      <td>500</td>\n",
       "      <td>W MAIN ST</td>\n",
       "      <td>CPD</td>\n",
       "      <td>1554</td>\n",
       "      <td>Benbow, Lauren</td>\n",
       "      <td>2025-05-04 15:54:34</td>\n",
       "      <td>2025-05-04 03:54:34 PM</td>\n",
       "      <td>Sunday</td>\n",
       "      <td>True</td>\n",
       "      <td>Spring</td>\n",
       "      <td>03:54 PM</td>\n",
       "      <td>Afternoon</td>\n",
       "    </tr>\n",
       "    <tr>\n",
       "      <th>2</th>\n",
       "      <td>3</td>\n",
       "      <td>Sex Offense</td>\n",
       "      <td>202500014870</td>\n",
       "      <td></td>\n",
       "      <td>BARRACKS RD @ EMMET ST</td>\n",
       "      <td>CPD</td>\n",
       "      <td>1356</td>\n",
       "      <td>Brannon, Devin</td>\n",
       "      <td>2025-05-04 13:56:28</td>\n",
       "      <td>2025-05-04 01:56:28 PM</td>\n",
       "      <td>Sunday</td>\n",
       "      <td>True</td>\n",
       "      <td>Spring</td>\n",
       "      <td>01:56 PM</td>\n",
       "      <td>Afternoon</td>\n",
       "    </tr>\n",
       "    <tr>\n",
       "      <th>3</th>\n",
       "      <td>4</td>\n",
       "      <td>Missing Person-juvenile</td>\n",
       "      <td>202500014860</td>\n",
       "      <td>400</td>\n",
       "      <td>GARRETT ST</td>\n",
       "      <td>CPD</td>\n",
       "      <td>1232</td>\n",
       "      <td>Prevost, Payten</td>\n",
       "      <td>2025-05-04 12:32:23</td>\n",
       "      <td>2025-05-04 12:32:23 PM</td>\n",
       "      <td>Sunday</td>\n",
       "      <td>True</td>\n",
       "      <td>Spring</td>\n",
       "      <td>12:32 PM</td>\n",
       "      <td>Afternoon</td>\n",
       "    </tr>\n",
       "    <tr>\n",
       "      <th>4</th>\n",
       "      <td>5</td>\n",
       "      <td>Suspicious Activity</td>\n",
       "      <td>202500014858</td>\n",
       "      <td>100</td>\n",
       "      <td>E MAIN ST, A</td>\n",
       "      <td>CPD</td>\n",
       "      <td>1140</td>\n",
       "      <td>O'Briant, Landon</td>\n",
       "      <td>2025-05-04 11:40:16</td>\n",
       "      <td>2025-05-04 11:40:16 AM</td>\n",
       "      <td>Sunday</td>\n",
       "      <td>True</td>\n",
       "      <td>Spring</td>\n",
       "      <td>11:40 AM</td>\n",
       "      <td>Morning</td>\n",
       "    </tr>\n",
       "  </tbody>\n",
       "</table>\n",
       "</div>"
      ],
      "text/plain": [
       "   RecordID                  Offense    IncidentID BlockNumber  \\\n",
       "0         1    Larceny - Shoplifitng  202500014887         500   \n",
       "1         2    Larceny - Shoplifitng  202500014883         500   \n",
       "2         3              Sex Offense  202500014870               \n",
       "3         4  Missing Person-juvenile  202500014860         400   \n",
       "4         5      Suspicious Activity  202500014858         100   \n",
       "\n",
       "               StreetName Agency HourReported  ReportingOfficer  \\\n",
       "0               W MAIN ST    CPD         1618    Benbow, Lauren   \n",
       "1               W MAIN ST    CPD         1554    Benbow, Lauren   \n",
       "2  BARRACKS RD @ EMMET ST    CPD         1356    Brannon, Devin   \n",
       "3              GARRETT ST    CPD         1232   Prevost, Payten   \n",
       "4            E MAIN ST, A    CPD         1140  O'Briant, Landon   \n",
       "\n",
       "                 Date              DateString DayOfWeek  Weekend  Season  \\\n",
       "0 2025-05-04 16:18:59  2025-05-04 04:18:59 PM    Sunday     True  Spring   \n",
       "1 2025-05-04 15:54:34  2025-05-04 03:54:34 PM    Sunday     True  Spring   \n",
       "2 2025-05-04 13:56:28  2025-05-04 01:56:28 PM    Sunday     True  Spring   \n",
       "3 2025-05-04 12:32:23  2025-05-04 12:32:23 PM    Sunday     True  Spring   \n",
       "4 2025-05-04 11:40:16  2025-05-04 11:40:16 AM    Sunday     True  Spring   \n",
       "\n",
       "   HourAMPM  TimeOfDay  \n",
       "0  04:18 PM  Afternoon  \n",
       "1  03:54 PM  Afternoon  \n",
       "2  01:56 PM  Afternoon  \n",
       "3  12:32 PM  Afternoon  \n",
       "4  11:40 AM    Morning  "
      ]
     },
     "execution_count": 7,
     "metadata": {},
     "output_type": "execute_result"
    }
   ],
   "source": [
    "def convert_and_categorize_datereported(df, col='DateReported'):\n",
    "    \"\"\"\n",
    "    Converts an epoch (in milliseconds) date column into a timezone-aware datetime,\n",
    "    converts it to Eastern Time, and then creates columns for day-of-week, weekend flag,\n",
    "    season, 12-hour formatted time, and time-of-day. Keeps both a real datetime column\n",
    "    (Date) and a string representation (DateString).\n",
    "    \"\"\"\n",
    "    import pandas as pd\n",
    "\n",
    "    # Convert the epoch timestamp to a pandas datetime object as UTC, then convert to US/Eastern.\n",
    "    df[\"DateReported_dt\"] = (\n",
    "        pd.to_datetime(df[col], unit=\"ms\", errors=\"coerce\", utc=True)\n",
    "        .dt.tz_convert(\"US/Eastern\")\n",
    "    )\n",
    "    \n",
    "    # Create a true datetime column (remove timezone if you prefer naive datetime)\n",
    "    df[\"Date\"] = df[\"DateReported_dt\"].dt.tz_localize(None)\n",
    "\n",
    "    # Optionally, create a separate string-formatted column\n",
    "    df[\"DateString\"] = df[\"DateReported_dt\"].dt.strftime(\"%Y-%m-%d %I:%M:%S %p\")\n",
    "    \n",
    "    # DayOfWeek\n",
    "    df[\"DayOfWeek\"] = df[\"DateReported_dt\"].dt.day_name()\n",
    "    \n",
    "    # Weekend\n",
    "    df[\"Weekend\"] = df[\"DayOfWeek\"].isin([\"Saturday\", \"Sunday\"])\n",
    "    \n",
    "    # Helper function to determine the season\n",
    "    def get_season(dt):\n",
    "        month = dt.month\n",
    "        day = dt.day\n",
    "        # Approximate Northern Hemisphere season boundaries:\n",
    "        if (month == 12 and day >= 21) or (month < 3) or (month == 3 and day < 20):\n",
    "            return \"Winter\"\n",
    "        elif (month == 3 and day >= 20) or (month < 6) or (month == 6 and day < 21):\n",
    "            return \"Spring\"\n",
    "        elif (month == 6 and day >= 21) or (month < 9) or (month == 9 and day < 22):\n",
    "            return \"Summer\"\n",
    "        else:\n",
    "            return \"Autumn\"\n",
    "    \n",
    "    df[\"Season\"] = df[\"DateReported_dt\"].apply(get_season)\n",
    "    \n",
    "    # 12-hour formatted time (HourAMPM)\n",
    "    df[\"HourAMPM\"] = df[\"DateReported_dt\"].dt.strftime(\"%I:%M %p\")\n",
    "    \n",
    "    # Extract hour (0-23) for time-of-day\n",
    "    df[\"HourValue\"] = df[\"DateReported_dt\"].dt.hour\n",
    "    \n",
    "    def time_of_day(hour):\n",
    "        if pd.isnull(hour):\n",
    "            return None\n",
    "        if 5 <= hour < 12:\n",
    "            return \"Morning\"\n",
    "        elif 12 <= hour < 17:\n",
    "            return \"Afternoon\"\n",
    "        elif 17 <= hour < 21:\n",
    "            return \"Evening\"\n",
    "        else:\n",
    "            return \"Night\"\n",
    "    \n",
    "    df[\"TimeOfDay\"] = df[\"HourValue\"].apply(time_of_day)\n",
    "    \n",
    "    # Drop columns you no longer need\n",
    "    df.drop(columns=[col, \"DateReported_dt\", \"HourValue\"], inplace=True)\n",
    "    \n",
    "    return df\n",
    "\n",
    "# Example usage:\n",
    "df = convert_and_categorize_datereported(df)\n",
    "df.head()\n"
   ]
  },
  {
   "cell_type": "code",
   "execution_count": 8,
   "id": "4d2fc822",
   "metadata": {
    "execution": {
     "iopub.execute_input": "2025-05-07T01:03:16.986571Z",
     "iopub.status.busy": "2025-05-07T01:03:16.986108Z",
     "iopub.status.idle": "2025-05-07T01:03:17.015598Z",
     "shell.execute_reply": "2025-05-07T01:03:17.014906Z"
    },
    "papermill": {
     "duration": 0.03715,
     "end_time": "2025-05-07T01:03:17.016716",
     "exception": false,
     "start_time": "2025-05-07T01:03:16.979566",
     "status": "completed"
    },
    "tags": []
   },
   "outputs": [
    {
     "name": "stdout",
     "output_type": "stream",
     "text": [
      "<class 'pandas.core.frame.DataFrame'>\n",
      "RangeIndex: 25338 entries, 0 to 25337\n",
      "Data columns (total 15 columns):\n",
      " #   Column            Non-Null Count  Dtype         \n",
      "---  ------            --------------  -----         \n",
      " 0   RecordID          25338 non-null  int64         \n",
      " 1   Offense           25338 non-null  object        \n",
      " 2   IncidentID        25338 non-null  object        \n",
      " 3   BlockNumber       25338 non-null  object        \n",
      " 4   StreetName        25338 non-null  object        \n",
      " 5   Agency            25338 non-null  object        \n",
      " 6   HourReported      25338 non-null  object        \n",
      " 7   ReportingOfficer  25321 non-null  object        \n",
      " 8   Date              25338 non-null  datetime64[ns]\n",
      " 9   DateString        25338 non-null  object        \n",
      " 10  DayOfWeek         25338 non-null  object        \n",
      " 11  Weekend           25338 non-null  bool          \n",
      " 12  Season            25338 non-null  object        \n",
      " 13  HourAMPM          25338 non-null  object        \n",
      " 14  TimeOfDay         25338 non-null  object        \n",
      "dtypes: bool(1), datetime64[ns](1), int64(1), object(12)\n",
      "memory usage: 2.7+ MB\n"
     ]
    }
   ],
   "source": [
    "df.info()"
   ]
  },
  {
   "cell_type": "markdown",
   "id": "2eb3c5f0",
   "metadata": {
    "papermill": {
     "duration": 0.005848,
     "end_time": "2025-05-07T01:03:17.028880",
     "exception": false,
     "start_time": "2025-05-07T01:03:17.023032",
     "status": "completed"
    },
    "tags": []
   },
   "source": [
    "### Coordinates"
   ]
  },
  {
   "cell_type": "code",
   "execution_count": 9,
   "id": "bec1f07d",
   "metadata": {
    "execution": {
     "iopub.execute_input": "2025-05-07T01:03:17.042258Z",
     "iopub.status.busy": "2025-05-07T01:03:17.041802Z",
     "iopub.status.idle": "2025-05-07T01:03:17.086392Z",
     "shell.execute_reply": "2025-05-07T01:03:17.085843Z"
    },
    "papermill": {
     "duration": 0.052287,
     "end_time": "2025-05-07T01:03:17.087441",
     "exception": false,
     "start_time": "2025-05-07T01:03:17.035154",
     "status": "completed"
    },
    "tags": []
   },
   "outputs": [
    {
     "name": "stdout",
     "output_type": "stream",
     "text": [
      "Loaded geocode cache.\n",
      "Geocode cache updated and saved.\n"
     ]
    },
    {
     "data": {
      "text/html": [
       "<div>\n",
       "<style scoped>\n",
       "    .dataframe tbody tr th:only-of-type {\n",
       "        vertical-align: middle;\n",
       "    }\n",
       "\n",
       "    .dataframe tbody tr th {\n",
       "        vertical-align: top;\n",
       "    }\n",
       "\n",
       "    .dataframe thead th {\n",
       "        text-align: right;\n",
       "    }\n",
       "</style>\n",
       "<table border=\"1\" class=\"dataframe\">\n",
       "  <thead>\n",
       "    <tr style=\"text-align: right;\">\n",
       "      <th></th>\n",
       "      <th>RecordID</th>\n",
       "      <th>Offense</th>\n",
       "      <th>IncidentID</th>\n",
       "      <th>BlockNumber</th>\n",
       "      <th>StreetName</th>\n",
       "      <th>Agency</th>\n",
       "      <th>HourReported</th>\n",
       "      <th>ReportingOfficer</th>\n",
       "      <th>Date</th>\n",
       "      <th>DateString</th>\n",
       "      <th>DayOfWeek</th>\n",
       "      <th>Weekend</th>\n",
       "      <th>Season</th>\n",
       "      <th>HourAMPM</th>\n",
       "      <th>TimeOfDay</th>\n",
       "      <th>FullStreet</th>\n",
       "      <th>lat</th>\n",
       "      <th>lon</th>\n",
       "    </tr>\n",
       "  </thead>\n",
       "  <tbody>\n",
       "    <tr>\n",
       "      <th>0</th>\n",
       "      <td>1</td>\n",
       "      <td>Larceny - Shoplifitng</td>\n",
       "      <td>202500014887</td>\n",
       "      <td>500</td>\n",
       "      <td>W MAIN ST</td>\n",
       "      <td>CPD</td>\n",
       "      <td>1618</td>\n",
       "      <td>Benbow, Lauren</td>\n",
       "      <td>2025-05-04 16:18:59</td>\n",
       "      <td>2025-05-04 04:18:59 PM</td>\n",
       "      <td>Sunday</td>\n",
       "      <td>True</td>\n",
       "      <td>Spring</td>\n",
       "      <td>04:18 PM</td>\n",
       "      <td>Afternoon</td>\n",
       "      <td>500 W MAIN ST</td>\n",
       "      <td>38.030793</td>\n",
       "      <td>-78.487912</td>\n",
       "    </tr>\n",
       "    <tr>\n",
       "      <th>1</th>\n",
       "      <td>2</td>\n",
       "      <td>Larceny - Shoplifitng</td>\n",
       "      <td>202500014883</td>\n",
       "      <td>500</td>\n",
       "      <td>W MAIN ST</td>\n",
       "      <td>CPD</td>\n",
       "      <td>1554</td>\n",
       "      <td>Benbow, Lauren</td>\n",
       "      <td>2025-05-04 15:54:34</td>\n",
       "      <td>2025-05-04 03:54:34 PM</td>\n",
       "      <td>Sunday</td>\n",
       "      <td>True</td>\n",
       "      <td>Spring</td>\n",
       "      <td>03:54 PM</td>\n",
       "      <td>Afternoon</td>\n",
       "      <td>500 W MAIN ST</td>\n",
       "      <td>38.030793</td>\n",
       "      <td>-78.487912</td>\n",
       "    </tr>\n",
       "    <tr>\n",
       "      <th>2</th>\n",
       "      <td>3</td>\n",
       "      <td>Sex Offense</td>\n",
       "      <td>202500014870</td>\n",
       "      <td></td>\n",
       "      <td>BARRACKS RD @ EMMET ST</td>\n",
       "      <td>CPD</td>\n",
       "      <td>1356</td>\n",
       "      <td>Brannon, Devin</td>\n",
       "      <td>2025-05-04 13:56:28</td>\n",
       "      <td>2025-05-04 01:56:28 PM</td>\n",
       "      <td>Sunday</td>\n",
       "      <td>True</td>\n",
       "      <td>Spring</td>\n",
       "      <td>01:56 PM</td>\n",
       "      <td>Afternoon</td>\n",
       "      <td>BARRACKS RD @ EMMET ST</td>\n",
       "      <td>38.052687</td>\n",
       "      <td>-78.499054</td>\n",
       "    </tr>\n",
       "    <tr>\n",
       "      <th>3</th>\n",
       "      <td>4</td>\n",
       "      <td>Missing Person-juvenile</td>\n",
       "      <td>202500014860</td>\n",
       "      <td>400</td>\n",
       "      <td>GARRETT ST</td>\n",
       "      <td>CPD</td>\n",
       "      <td>1232</td>\n",
       "      <td>Prevost, Payten</td>\n",
       "      <td>2025-05-04 12:32:23</td>\n",
       "      <td>2025-05-04 12:32:23 PM</td>\n",
       "      <td>Sunday</td>\n",
       "      <td>True</td>\n",
       "      <td>Spring</td>\n",
       "      <td>12:32 PM</td>\n",
       "      <td>Afternoon</td>\n",
       "      <td>400 GARRETT ST</td>\n",
       "      <td>38.027748</td>\n",
       "      <td>-78.481632</td>\n",
       "    </tr>\n",
       "    <tr>\n",
       "      <th>4</th>\n",
       "      <td>5</td>\n",
       "      <td>Suspicious Activity</td>\n",
       "      <td>202500014858</td>\n",
       "      <td>100</td>\n",
       "      <td>E MAIN ST, A</td>\n",
       "      <td>CPD</td>\n",
       "      <td>1140</td>\n",
       "      <td>O'Briant, Landon</td>\n",
       "      <td>2025-05-04 11:40:16</td>\n",
       "      <td>2025-05-04 11:40:16 AM</td>\n",
       "      <td>Sunday</td>\n",
       "      <td>True</td>\n",
       "      <td>Spring</td>\n",
       "      <td>11:40 AM</td>\n",
       "      <td>Morning</td>\n",
       "      <td>100 E MAIN ST, A</td>\n",
       "      <td>38.030525</td>\n",
       "      <td>-78.481521</td>\n",
       "    </tr>\n",
       "  </tbody>\n",
       "</table>\n",
       "</div>"
      ],
      "text/plain": [
       "   RecordID                  Offense    IncidentID BlockNumber  \\\n",
       "0         1    Larceny - Shoplifitng  202500014887         500   \n",
       "1         2    Larceny - Shoplifitng  202500014883         500   \n",
       "2         3              Sex Offense  202500014870               \n",
       "3         4  Missing Person-juvenile  202500014860         400   \n",
       "4         5      Suspicious Activity  202500014858         100   \n",
       "\n",
       "               StreetName Agency HourReported  ReportingOfficer  \\\n",
       "0               W MAIN ST    CPD         1618    Benbow, Lauren   \n",
       "1               W MAIN ST    CPD         1554    Benbow, Lauren   \n",
       "2  BARRACKS RD @ EMMET ST    CPD         1356    Brannon, Devin   \n",
       "3              GARRETT ST    CPD         1232   Prevost, Payten   \n",
       "4            E MAIN ST, A    CPD         1140  O'Briant, Landon   \n",
       "\n",
       "                 Date              DateString DayOfWeek  Weekend  Season  \\\n",
       "0 2025-05-04 16:18:59  2025-05-04 04:18:59 PM    Sunday     True  Spring   \n",
       "1 2025-05-04 15:54:34  2025-05-04 03:54:34 PM    Sunday     True  Spring   \n",
       "2 2025-05-04 13:56:28  2025-05-04 01:56:28 PM    Sunday     True  Spring   \n",
       "3 2025-05-04 12:32:23  2025-05-04 12:32:23 PM    Sunday     True  Spring   \n",
       "4 2025-05-04 11:40:16  2025-05-04 11:40:16 AM    Sunday     True  Spring   \n",
       "\n",
       "   HourAMPM  TimeOfDay               FullStreet        lat        lon  \n",
       "0  04:18 PM  Afternoon            500 W MAIN ST  38.030793 -78.487912  \n",
       "1  03:54 PM  Afternoon            500 W MAIN ST  38.030793 -78.487912  \n",
       "2  01:56 PM  Afternoon   BARRACKS RD @ EMMET ST  38.052687 -78.499054  \n",
       "3  12:32 PM  Afternoon           400 GARRETT ST  38.027748 -78.481632  \n",
       "4  11:40 AM    Morning         100 E MAIN ST, A  38.030525 -78.481521  "
      ]
     },
     "execution_count": 9,
     "metadata": {},
     "output_type": "execute_result"
    }
   ],
   "source": [
    "# Combine BlockNumber and StreetName into a full address string\n",
    "df['FullStreet'] = df['BlockNumber'].astype(str) + \" \" + df['StreetName']\n",
    "\n",
    "# --- Step 1: Setup the Google Maps Client and Cache ---\n",
    "gmaps = googlemaps.Client(key=GOOGLE_API_KEY)\n",
    "\n",
    "# Try to load cached geocoding results if available.\n",
    "try:\n",
    "    with open(\"geocode_cache_google.pkl\", \"rb\") as f:\n",
    "        street_coords = pickle.load(f)\n",
    "    print(\"Loaded geocode cache.\")\n",
    "except FileNotFoundError:\n",
    "    street_coords = {}\n",
    "    print(\"No cache found; starting fresh.\")\n",
    "\n",
    "def geocode_address(address):\n",
    "    try:\n",
    "        # Append city and state to help geocoding\n",
    "        result = gmaps.geocode(f\"{address}, Charlottesville, VA\")\n",
    "        if result:\n",
    "            lat = result[0]['geometry']['location']['lat']\n",
    "            lon = result[0]['geometry']['location']['lng']\n",
    "            return lat, lon\n",
    "    except Exception as e:\n",
    "        print(f\"Error geocoding {address}: {e}\")\n",
    "    return None, None\n",
    "\n",
    "# --- Step 2: Geocode Only New Addresses ---\n",
    "unique_addresses = df['FullStreet'].unique()\n",
    "for address in unique_addresses:\n",
    "    if address not in street_coords:\n",
    "        lat, lon = geocode_address(address)\n",
    "        street_coords[address] = (lat, lon)\n",
    "        print(f\"Geocoded {address}: {lat}, {lon}\")\n",
    "\n",
    "# Save the updated cache to disk.\n",
    "with open(\"geocode_cache_google.pkl\", \"wb\") as f:\n",
    "    pickle.dump(street_coords, f)\n",
    "    print(\"Geocode cache updated and saved.\")\n",
    "\n",
    "# --- Step 3: Map Coordinates Back to DataFrame ---\n",
    "df['lat'] = df['FullStreet'].map(lambda s: street_coords.get(s, (None, None))[0])\n",
    "df['lon'] = df['FullStreet'].map(lambda s: street_coords.get(s, (None, None))[1])\n",
    "\n",
    "df.head()"
   ]
  },
  {
   "cell_type": "markdown",
   "id": "350455d7",
   "metadata": {
    "papermill": {
     "duration": 0.006173,
     "end_time": "2025-05-07T01:03:17.100257",
     "exception": false,
     "start_time": "2025-05-07T01:03:17.094084",
     "status": "completed"
    },
    "tags": []
   },
   "source": [
    "### Neighborhood"
   ]
  },
  {
   "cell_type": "code",
   "execution_count": 10,
   "id": "7b5521f7",
   "metadata": {
    "execution": {
     "iopub.execute_input": "2025-05-07T01:03:17.113849Z",
     "iopub.status.busy": "2025-05-07T01:03:17.113397Z",
     "iopub.status.idle": "2025-05-07T01:03:17.374964Z",
     "shell.execute_reply": "2025-05-07T01:03:17.374208Z"
    },
    "papermill": {
     "duration": 0.269578,
     "end_time": "2025-05-07T01:03:17.376116",
     "exception": false,
     "start_time": "2025-05-07T01:03:17.106538",
     "status": "completed"
    },
    "tags": []
   },
   "outputs": [
    {
     "name": "stdout",
     "output_type": "stream",
     "text": [
      "Loaded neighborhood cache.\n"
     ]
    },
    {
     "data": {
      "text/html": [
       "<div>\n",
       "<style scoped>\n",
       "    .dataframe tbody tr th:only-of-type {\n",
       "        vertical-align: middle;\n",
       "    }\n",
       "\n",
       "    .dataframe tbody tr th {\n",
       "        vertical-align: top;\n",
       "    }\n",
       "\n",
       "    .dataframe thead th {\n",
       "        text-align: right;\n",
       "    }\n",
       "</style>\n",
       "<table border=\"1\" class=\"dataframe\">\n",
       "  <thead>\n",
       "    <tr style=\"text-align: right;\">\n",
       "      <th></th>\n",
       "      <th>RecordID</th>\n",
       "      <th>Offense</th>\n",
       "      <th>IncidentID</th>\n",
       "      <th>BlockNumber</th>\n",
       "      <th>StreetName</th>\n",
       "      <th>Agency</th>\n",
       "      <th>HourReported</th>\n",
       "      <th>ReportingOfficer</th>\n",
       "      <th>Date</th>\n",
       "      <th>DateString</th>\n",
       "      <th>DayOfWeek</th>\n",
       "      <th>Weekend</th>\n",
       "      <th>Season</th>\n",
       "      <th>HourAMPM</th>\n",
       "      <th>TimeOfDay</th>\n",
       "      <th>FullStreet</th>\n",
       "      <th>lat</th>\n",
       "      <th>lon</th>\n",
       "      <th>neighborhood</th>\n",
       "    </tr>\n",
       "  </thead>\n",
       "  <tbody>\n",
       "    <tr>\n",
       "      <th>0</th>\n",
       "      <td>1</td>\n",
       "      <td>Larceny - Shoplifitng</td>\n",
       "      <td>202500014887</td>\n",
       "      <td>500</td>\n",
       "      <td>W MAIN ST</td>\n",
       "      <td>CPD</td>\n",
       "      <td>1618</td>\n",
       "      <td>Benbow, Lauren</td>\n",
       "      <td>2025-05-04 16:18:59</td>\n",
       "      <td>2025-05-04 04:18:59 PM</td>\n",
       "      <td>Sunday</td>\n",
       "      <td>True</td>\n",
       "      <td>Spring</td>\n",
       "      <td>04:18 PM</td>\n",
       "      <td>Afternoon</td>\n",
       "      <td>500 W MAIN ST</td>\n",
       "      <td>38.030793</td>\n",
       "      <td>-78.487912</td>\n",
       "      <td>Starr Hill</td>\n",
       "    </tr>\n",
       "    <tr>\n",
       "      <th>1</th>\n",
       "      <td>2</td>\n",
       "      <td>Larceny - Shoplifitng</td>\n",
       "      <td>202500014883</td>\n",
       "      <td>500</td>\n",
       "      <td>W MAIN ST</td>\n",
       "      <td>CPD</td>\n",
       "      <td>1554</td>\n",
       "      <td>Benbow, Lauren</td>\n",
       "      <td>2025-05-04 15:54:34</td>\n",
       "      <td>2025-05-04 03:54:34 PM</td>\n",
       "      <td>Sunday</td>\n",
       "      <td>True</td>\n",
       "      <td>Spring</td>\n",
       "      <td>03:54 PM</td>\n",
       "      <td>Afternoon</td>\n",
       "      <td>500 W MAIN ST</td>\n",
       "      <td>38.030793</td>\n",
       "      <td>-78.487912</td>\n",
       "      <td>Starr Hill</td>\n",
       "    </tr>\n",
       "    <tr>\n",
       "      <th>2</th>\n",
       "      <td>3</td>\n",
       "      <td>Sex Offense</td>\n",
       "      <td>202500014870</td>\n",
       "      <td></td>\n",
       "      <td>BARRACKS RD @ EMMET ST</td>\n",
       "      <td>CPD</td>\n",
       "      <td>1356</td>\n",
       "      <td>Brannon, Devin</td>\n",
       "      <td>2025-05-04 13:56:28</td>\n",
       "      <td>2025-05-04 01:56:28 PM</td>\n",
       "      <td>Sunday</td>\n",
       "      <td>True</td>\n",
       "      <td>Spring</td>\n",
       "      <td>01:56 PM</td>\n",
       "      <td>Afternoon</td>\n",
       "      <td>BARRACKS RD @ EMMET ST</td>\n",
       "      <td>38.052687</td>\n",
       "      <td>-78.499054</td>\n",
       "      <td>Barracks Road</td>\n",
       "    </tr>\n",
       "    <tr>\n",
       "      <th>3</th>\n",
       "      <td>4</td>\n",
       "      <td>Missing Person-juvenile</td>\n",
       "      <td>202500014860</td>\n",
       "      <td>400</td>\n",
       "      <td>GARRETT ST</td>\n",
       "      <td>CPD</td>\n",
       "      <td>1232</td>\n",
       "      <td>Prevost, Payten</td>\n",
       "      <td>2025-05-04 12:32:23</td>\n",
       "      <td>2025-05-04 12:32:23 PM</td>\n",
       "      <td>Sunday</td>\n",
       "      <td>True</td>\n",
       "      <td>Spring</td>\n",
       "      <td>12:32 PM</td>\n",
       "      <td>Afternoon</td>\n",
       "      <td>400 GARRETT ST</td>\n",
       "      <td>38.027748</td>\n",
       "      <td>-78.481632</td>\n",
       "      <td>North Downtown</td>\n",
       "    </tr>\n",
       "    <tr>\n",
       "      <th>4</th>\n",
       "      <td>5</td>\n",
       "      <td>Suspicious Activity</td>\n",
       "      <td>202500014858</td>\n",
       "      <td>100</td>\n",
       "      <td>E MAIN ST, A</td>\n",
       "      <td>CPD</td>\n",
       "      <td>1140</td>\n",
       "      <td>O'Briant, Landon</td>\n",
       "      <td>2025-05-04 11:40:16</td>\n",
       "      <td>2025-05-04 11:40:16 AM</td>\n",
       "      <td>Sunday</td>\n",
       "      <td>True</td>\n",
       "      <td>Spring</td>\n",
       "      <td>11:40 AM</td>\n",
       "      <td>Morning</td>\n",
       "      <td>100 E MAIN ST, A</td>\n",
       "      <td>38.030525</td>\n",
       "      <td>-78.481521</td>\n",
       "      <td>Downtown Mall</td>\n",
       "    </tr>\n",
       "  </tbody>\n",
       "</table>\n",
       "</div>"
      ],
      "text/plain": [
       "   RecordID                  Offense    IncidentID BlockNumber  \\\n",
       "0         1    Larceny - Shoplifitng  202500014887         500   \n",
       "1         2    Larceny - Shoplifitng  202500014883         500   \n",
       "2         3              Sex Offense  202500014870               \n",
       "3         4  Missing Person-juvenile  202500014860         400   \n",
       "4         5      Suspicious Activity  202500014858         100   \n",
       "\n",
       "               StreetName Agency HourReported  ReportingOfficer  \\\n",
       "0               W MAIN ST    CPD         1618    Benbow, Lauren   \n",
       "1               W MAIN ST    CPD         1554    Benbow, Lauren   \n",
       "2  BARRACKS RD @ EMMET ST    CPD         1356    Brannon, Devin   \n",
       "3              GARRETT ST    CPD         1232   Prevost, Payten   \n",
       "4            E MAIN ST, A    CPD         1140  O'Briant, Landon   \n",
       "\n",
       "                 Date              DateString DayOfWeek  Weekend  Season  \\\n",
       "0 2025-05-04 16:18:59  2025-05-04 04:18:59 PM    Sunday     True  Spring   \n",
       "1 2025-05-04 15:54:34  2025-05-04 03:54:34 PM    Sunday     True  Spring   \n",
       "2 2025-05-04 13:56:28  2025-05-04 01:56:28 PM    Sunday     True  Spring   \n",
       "3 2025-05-04 12:32:23  2025-05-04 12:32:23 PM    Sunday     True  Spring   \n",
       "4 2025-05-04 11:40:16  2025-05-04 11:40:16 AM    Sunday     True  Spring   \n",
       "\n",
       "   HourAMPM  TimeOfDay               FullStreet        lat        lon  \\\n",
       "0  04:18 PM  Afternoon            500 W MAIN ST  38.030793 -78.487912   \n",
       "1  03:54 PM  Afternoon            500 W MAIN ST  38.030793 -78.487912   \n",
       "2  01:56 PM  Afternoon   BARRACKS RD @ EMMET ST  38.052687 -78.499054   \n",
       "3  12:32 PM  Afternoon           400 GARRETT ST  38.027748 -78.481632   \n",
       "4  11:40 AM    Morning         100 E MAIN ST, A  38.030525 -78.481521   \n",
       "\n",
       "     neighborhood  \n",
       "0      Starr Hill  \n",
       "1      Starr Hill  \n",
       "2   Barracks Road  \n",
       "3  North Downtown  \n",
       "4   Downtown Mall  "
      ]
     },
     "execution_count": 10,
     "metadata": {},
     "output_type": "execute_result"
    }
   ],
   "source": [
    "# Initialize the Google Maps client.\n",
    "gmaps = googlemaps.Client(key=GOOGLE_API_KEY)\n",
    "\n",
    "# Try to load a persistent neighborhood cache if available.\n",
    "try:\n",
    "    with open(\"neighborhood_cache.pkl\", \"rb\") as f:\n",
    "        neighborhood_cache = pickle.load(f)\n",
    "    print(\"Loaded neighborhood cache.\")\n",
    "except FileNotFoundError:\n",
    "    neighborhood_cache = {}\n",
    "    print(\"No neighborhood cache found; starting fresh.\")\n",
    "\n",
    "def get_neighborhood(lat, lon):\n",
    "    \"\"\"\n",
    "    Reverse geocodes a latitude and longitude to retrieve the neighborhood.\n",
    "    Caches results to speed up subsequent lookups.\n",
    "    \"\"\"\n",
    "    key = (lat, lon)\n",
    "    if key in neighborhood_cache:\n",
    "        return neighborhood_cache[key]\n",
    "    \n",
    "    try:\n",
    "        result = gmaps.reverse_geocode((lat, lon))\n",
    "        if result:\n",
    "            # Look for the 'neighborhood' component in the first result.\n",
    "            for component in result[0]['address_components']:\n",
    "                if 'neighborhood' in component['types']:\n",
    "                    neighborhood = component['long_name']\n",
    "                    neighborhood_cache[key] = neighborhood\n",
    "                    return neighborhood\n",
    "            # If no neighborhood is found, return \"N/A\"\n",
    "            neighborhood_cache[key] = \"N/A\"\n",
    "            return \"N/A\"\n",
    "    except Exception as e:\n",
    "        print(f\"Error getting neighborhood for {lat}, {lon}: {e}\")\n",
    "        return \"N/A\"\n",
    "    \n",
    "    # Pause to respect usage limits.\n",
    "    time.sleep(1)\n",
    "\n",
    "# Example usage: Apply to your DataFrame 'df' that already has 'lat' and 'lon' columns.\n",
    "df['neighborhood'] = df.apply(lambda row: get_neighborhood(row['lat'], row['lon']), axis=1)\n",
    "\n",
    "# Save the updated neighborhood cache.\n",
    "with open(\"neighborhood_cache.pkl\", \"wb\") as f:\n",
    "    pickle.dump(neighborhood_cache, f)\n",
    "\n",
    "df.head()\n"
   ]
  },
  {
   "cell_type": "markdown",
   "id": "fffb123b",
   "metadata": {
    "papermill": {
     "duration": 0.006401,
     "end_time": "2025-05-07T01:03:17.389509",
     "exception": false,
     "start_time": "2025-05-07T01:03:17.383108",
     "status": "completed"
    },
    "tags": []
   },
   "source": [
    "### Zip"
   ]
  },
  {
   "cell_type": "code",
   "execution_count": 11,
   "id": "5fd719d7",
   "metadata": {
    "execution": {
     "iopub.execute_input": "2025-05-07T01:03:17.403356Z",
     "iopub.status.busy": "2025-05-07T01:03:17.403117Z",
     "iopub.status.idle": "2025-05-07T01:03:17.645328Z",
     "shell.execute_reply": "2025-05-07T01:03:17.644780Z"
    },
    "papermill": {
     "duration": 0.250305,
     "end_time": "2025-05-07T01:03:17.646321",
     "exception": false,
     "start_time": "2025-05-07T01:03:17.396016",
     "status": "completed"
    },
    "tags": []
   },
   "outputs": [
    {
     "name": "stdout",
     "output_type": "stream",
     "text": [
      "Loaded zip cache.\n"
     ]
    },
    {
     "data": {
      "text/html": [
       "<div>\n",
       "<style scoped>\n",
       "    .dataframe tbody tr th:only-of-type {\n",
       "        vertical-align: middle;\n",
       "    }\n",
       "\n",
       "    .dataframe tbody tr th {\n",
       "        vertical-align: top;\n",
       "    }\n",
       "\n",
       "    .dataframe thead th {\n",
       "        text-align: right;\n",
       "    }\n",
       "</style>\n",
       "<table border=\"1\" class=\"dataframe\">\n",
       "  <thead>\n",
       "    <tr style=\"text-align: right;\">\n",
       "      <th></th>\n",
       "      <th>RecordID</th>\n",
       "      <th>Offense</th>\n",
       "      <th>IncidentID</th>\n",
       "      <th>BlockNumber</th>\n",
       "      <th>StreetName</th>\n",
       "      <th>Agency</th>\n",
       "      <th>HourReported</th>\n",
       "      <th>ReportingOfficer</th>\n",
       "      <th>Date</th>\n",
       "      <th>DateString</th>\n",
       "      <th>DayOfWeek</th>\n",
       "      <th>Weekend</th>\n",
       "      <th>Season</th>\n",
       "      <th>HourAMPM</th>\n",
       "      <th>TimeOfDay</th>\n",
       "      <th>FullStreet</th>\n",
       "      <th>lat</th>\n",
       "      <th>lon</th>\n",
       "      <th>neighborhood</th>\n",
       "      <th>zip</th>\n",
       "    </tr>\n",
       "  </thead>\n",
       "  <tbody>\n",
       "    <tr>\n",
       "      <th>0</th>\n",
       "      <td>1</td>\n",
       "      <td>Larceny - Shoplifitng</td>\n",
       "      <td>202500014887</td>\n",
       "      <td>500</td>\n",
       "      <td>W MAIN ST</td>\n",
       "      <td>CPD</td>\n",
       "      <td>1618</td>\n",
       "      <td>Benbow, Lauren</td>\n",
       "      <td>2025-05-04 16:18:59</td>\n",
       "      <td>2025-05-04 04:18:59 PM</td>\n",
       "      <td>Sunday</td>\n",
       "      <td>True</td>\n",
       "      <td>Spring</td>\n",
       "      <td>04:18 PM</td>\n",
       "      <td>Afternoon</td>\n",
       "      <td>500 W MAIN ST</td>\n",
       "      <td>38.030793</td>\n",
       "      <td>-78.487912</td>\n",
       "      <td>Starr Hill</td>\n",
       "      <td>22903</td>\n",
       "    </tr>\n",
       "    <tr>\n",
       "      <th>1</th>\n",
       "      <td>2</td>\n",
       "      <td>Larceny - Shoplifitng</td>\n",
       "      <td>202500014883</td>\n",
       "      <td>500</td>\n",
       "      <td>W MAIN ST</td>\n",
       "      <td>CPD</td>\n",
       "      <td>1554</td>\n",
       "      <td>Benbow, Lauren</td>\n",
       "      <td>2025-05-04 15:54:34</td>\n",
       "      <td>2025-05-04 03:54:34 PM</td>\n",
       "      <td>Sunday</td>\n",
       "      <td>True</td>\n",
       "      <td>Spring</td>\n",
       "      <td>03:54 PM</td>\n",
       "      <td>Afternoon</td>\n",
       "      <td>500 W MAIN ST</td>\n",
       "      <td>38.030793</td>\n",
       "      <td>-78.487912</td>\n",
       "      <td>Starr Hill</td>\n",
       "      <td>22903</td>\n",
       "    </tr>\n",
       "    <tr>\n",
       "      <th>2</th>\n",
       "      <td>3</td>\n",
       "      <td>Sex Offense</td>\n",
       "      <td>202500014870</td>\n",
       "      <td></td>\n",
       "      <td>BARRACKS RD @ EMMET ST</td>\n",
       "      <td>CPD</td>\n",
       "      <td>1356</td>\n",
       "      <td>Brannon, Devin</td>\n",
       "      <td>2025-05-04 13:56:28</td>\n",
       "      <td>2025-05-04 01:56:28 PM</td>\n",
       "      <td>Sunday</td>\n",
       "      <td>True</td>\n",
       "      <td>Spring</td>\n",
       "      <td>01:56 PM</td>\n",
       "      <td>Afternoon</td>\n",
       "      <td>BARRACKS RD @ EMMET ST</td>\n",
       "      <td>38.052687</td>\n",
       "      <td>-78.499054</td>\n",
       "      <td>Barracks Road</td>\n",
       "      <td>22905</td>\n",
       "    </tr>\n",
       "    <tr>\n",
       "      <th>3</th>\n",
       "      <td>4</td>\n",
       "      <td>Missing Person-juvenile</td>\n",
       "      <td>202500014860</td>\n",
       "      <td>400</td>\n",
       "      <td>GARRETT ST</td>\n",
       "      <td>CPD</td>\n",
       "      <td>1232</td>\n",
       "      <td>Prevost, Payten</td>\n",
       "      <td>2025-05-04 12:32:23</td>\n",
       "      <td>2025-05-04 12:32:23 PM</td>\n",
       "      <td>Sunday</td>\n",
       "      <td>True</td>\n",
       "      <td>Spring</td>\n",
       "      <td>12:32 PM</td>\n",
       "      <td>Afternoon</td>\n",
       "      <td>400 GARRETT ST</td>\n",
       "      <td>38.027748</td>\n",
       "      <td>-78.481632</td>\n",
       "      <td>North Downtown</td>\n",
       "      <td>22903</td>\n",
       "    </tr>\n",
       "    <tr>\n",
       "      <th>4</th>\n",
       "      <td>5</td>\n",
       "      <td>Suspicious Activity</td>\n",
       "      <td>202500014858</td>\n",
       "      <td>100</td>\n",
       "      <td>E MAIN ST, A</td>\n",
       "      <td>CPD</td>\n",
       "      <td>1140</td>\n",
       "      <td>O'Briant, Landon</td>\n",
       "      <td>2025-05-04 11:40:16</td>\n",
       "      <td>2025-05-04 11:40:16 AM</td>\n",
       "      <td>Sunday</td>\n",
       "      <td>True</td>\n",
       "      <td>Spring</td>\n",
       "      <td>11:40 AM</td>\n",
       "      <td>Morning</td>\n",
       "      <td>100 E MAIN ST, A</td>\n",
       "      <td>38.030525</td>\n",
       "      <td>-78.481521</td>\n",
       "      <td>Downtown Mall</td>\n",
       "      <td>22902</td>\n",
       "    </tr>\n",
       "  </tbody>\n",
       "</table>\n",
       "</div>"
      ],
      "text/plain": [
       "   RecordID                  Offense    IncidentID BlockNumber  \\\n",
       "0         1    Larceny - Shoplifitng  202500014887         500   \n",
       "1         2    Larceny - Shoplifitng  202500014883         500   \n",
       "2         3              Sex Offense  202500014870               \n",
       "3         4  Missing Person-juvenile  202500014860         400   \n",
       "4         5      Suspicious Activity  202500014858         100   \n",
       "\n",
       "               StreetName Agency HourReported  ReportingOfficer  \\\n",
       "0               W MAIN ST    CPD         1618    Benbow, Lauren   \n",
       "1               W MAIN ST    CPD         1554    Benbow, Lauren   \n",
       "2  BARRACKS RD @ EMMET ST    CPD         1356    Brannon, Devin   \n",
       "3              GARRETT ST    CPD         1232   Prevost, Payten   \n",
       "4            E MAIN ST, A    CPD         1140  O'Briant, Landon   \n",
       "\n",
       "                 Date              DateString DayOfWeek  Weekend  Season  \\\n",
       "0 2025-05-04 16:18:59  2025-05-04 04:18:59 PM    Sunday     True  Spring   \n",
       "1 2025-05-04 15:54:34  2025-05-04 03:54:34 PM    Sunday     True  Spring   \n",
       "2 2025-05-04 13:56:28  2025-05-04 01:56:28 PM    Sunday     True  Spring   \n",
       "3 2025-05-04 12:32:23  2025-05-04 12:32:23 PM    Sunday     True  Spring   \n",
       "4 2025-05-04 11:40:16  2025-05-04 11:40:16 AM    Sunday     True  Spring   \n",
       "\n",
       "   HourAMPM  TimeOfDay               FullStreet        lat        lon  \\\n",
       "0  04:18 PM  Afternoon            500 W MAIN ST  38.030793 -78.487912   \n",
       "1  03:54 PM  Afternoon            500 W MAIN ST  38.030793 -78.487912   \n",
       "2  01:56 PM  Afternoon   BARRACKS RD @ EMMET ST  38.052687 -78.499054   \n",
       "3  12:32 PM  Afternoon           400 GARRETT ST  38.027748 -78.481632   \n",
       "4  11:40 AM    Morning         100 E MAIN ST, A  38.030525 -78.481521   \n",
       "\n",
       "     neighborhood    zip  \n",
       "0      Starr Hill  22903  \n",
       "1      Starr Hill  22903  \n",
       "2   Barracks Road  22905  \n",
       "3  North Downtown  22903  \n",
       "4   Downtown Mall  22902  "
      ]
     },
     "execution_count": 11,
     "metadata": {},
     "output_type": "execute_result"
    }
   ],
   "source": [
    "# Initialize the geocoder.\n",
    "geolocator = Nominatim(user_agent=\"zip_lookup\")\n",
    "\n",
    "# Try to load a persistent ZIP cache if available.\n",
    "try:\n",
    "    with open(\"zip_cache.pkl\", \"rb\") as f:\n",
    "        zip_cache = pickle.load(f)\n",
    "    print(\"Loaded zip cache.\")\n",
    "except FileNotFoundError:\n",
    "    zip_cache = {}\n",
    "    print(\"No zip cache found; starting fresh.\")\n",
    "\n",
    "def get_zip(lat, lon):\n",
    "    \"\"\"\n",
    "    Reverse geocodes a latitude and longitude to retrieve the ZIP code.\n",
    "    Caches results to speed up subsequent lookups.\n",
    "    \"\"\"\n",
    "    key = (lat, lon)\n",
    "    if key in zip_cache:\n",
    "        return zip_cache[key]\n",
    "    \n",
    "    try:\n",
    "        location = geolocator.reverse((lat, lon), exactly_one=True, timeout=10)\n",
    "        address = location.raw.get('address', {})\n",
    "        postal_code = address.get('postcode', \"N/A\")\n",
    "    except Exception as e:\n",
    "        print(f\"Error getting ZIP for {lat}, {lon}: {e}\")\n",
    "        postal_code = \"N/A\"\n",
    "    \n",
    "    zip_cache[key] = postal_code\n",
    "    # Pause to respect the usage policy.\n",
    "    time.sleep(1)\n",
    "    return postal_code\n",
    "\n",
    "# Apply the function to each row in the DataFrame.\n",
    "df['zip'] = df.apply(lambda row: get_zip(row['lat'], row['lon']), axis=1)\n",
    "\n",
    "# Save the updated ZIP cache.\n",
    "with open(\"zip_cache.pkl\", \"wb\") as f:\n",
    "    pickle.dump(zip_cache, f)\n",
    "\n",
    "df.head()\n"
   ]
  },
  {
   "cell_type": "code",
   "execution_count": 12,
   "id": "bdb7093a",
   "metadata": {
    "execution": {
     "iopub.execute_input": "2025-05-07T01:03:17.661574Z",
     "iopub.status.busy": "2025-05-07T01:03:17.661121Z",
     "iopub.status.idle": "2025-05-07T01:03:17.690456Z",
     "shell.execute_reply": "2025-05-07T01:03:17.689872Z"
    },
    "papermill": {
     "duration": 0.037829,
     "end_time": "2025-05-07T01:03:17.691424",
     "exception": false,
     "start_time": "2025-05-07T01:03:17.653595",
     "status": "completed"
    },
    "tags": []
   },
   "outputs": [
    {
     "name": "stdout",
     "output_type": "stream",
     "text": [
      "                  MissingCount  MissingPercentage\n",
      "RecordID                     0               0.00\n",
      "Offense                      0               0.00\n",
      "IncidentID                   0               0.00\n",
      "BlockNumber                  0               0.00\n",
      "StreetName                   0               0.00\n",
      "Agency                       0               0.00\n",
      "HourReported                 0               0.00\n",
      "ReportingOfficer            17               0.07\n",
      "Date                         0               0.00\n",
      "DateString                   0               0.00\n",
      "DayOfWeek                    0               0.00\n",
      "Weekend                      0               0.00\n",
      "Season                       0               0.00\n",
      "HourAMPM                     0               0.00\n",
      "TimeOfDay                    0               0.00\n",
      "FullStreet                   0               0.00\n",
      "lat                          0               0.00\n",
      "lon                          0               0.00\n",
      "neighborhood                 0               0.00\n",
      "zip                          0               0.00\n"
     ]
    }
   ],
   "source": [
    "missing_info = missing_percentage(df)\n",
    "print(missing_info)\n"
   ]
  },
  {
   "cell_type": "code",
   "execution_count": 13,
   "id": "c094bd43",
   "metadata": {
    "execution": {
     "iopub.execute_input": "2025-05-07T01:03:17.706416Z",
     "iopub.status.busy": "2025-05-07T01:03:17.706004Z",
     "iopub.status.idle": "2025-05-07T01:03:17.734408Z",
     "shell.execute_reply": "2025-05-07T01:03:17.733842Z"
    },
    "papermill": {
     "duration": 0.03695,
     "end_time": "2025-05-07T01:03:17.735443",
     "exception": false,
     "start_time": "2025-05-07T01:03:17.698493",
     "status": "completed"
    },
    "tags": []
   },
   "outputs": [
    {
     "name": "stdout",
     "output_type": "stream",
     "text": [
      "<class 'pandas.core.frame.DataFrame'>\n",
      "RangeIndex: 25338 entries, 0 to 25337\n",
      "Data columns (total 20 columns):\n",
      " #   Column            Non-Null Count  Dtype         \n",
      "---  ------            --------------  -----         \n",
      " 0   RecordID          25338 non-null  int64         \n",
      " 1   Offense           25338 non-null  object        \n",
      " 2   IncidentID        25338 non-null  object        \n",
      " 3   BlockNumber       25338 non-null  object        \n",
      " 4   StreetName        25338 non-null  object        \n",
      " 5   Agency            25338 non-null  object        \n",
      " 6   HourReported      25338 non-null  object        \n",
      " 7   ReportingOfficer  25321 non-null  object        \n",
      " 8   Date              25338 non-null  datetime64[ns]\n",
      " 9   DateString        25338 non-null  object        \n",
      " 10  DayOfWeek         25338 non-null  object        \n",
      " 11  Weekend           25338 non-null  bool          \n",
      " 12  Season            25338 non-null  object        \n",
      " 13  HourAMPM          25338 non-null  object        \n",
      " 14  TimeOfDay         25338 non-null  object        \n",
      " 15  FullStreet        25338 non-null  object        \n",
      " 16  lat               25338 non-null  float64       \n",
      " 17  lon               25338 non-null  float64       \n",
      " 18  neighborhood      25338 non-null  object        \n",
      " 19  zip               25338 non-null  object        \n",
      "dtypes: bool(1), datetime64[ns](1), float64(2), int64(1), object(15)\n",
      "memory usage: 3.7+ MB\n"
     ]
    }
   ],
   "source": [
    "df.info()"
   ]
  },
  {
   "cell_type": "code",
   "execution_count": 14,
   "id": "ce15c089",
   "metadata": {
    "execution": {
     "iopub.execute_input": "2025-05-07T01:03:17.750595Z",
     "iopub.status.busy": "2025-05-07T01:03:17.750195Z",
     "iopub.status.idle": "2025-05-07T01:03:17.791229Z",
     "shell.execute_reply": "2025-05-07T01:03:17.790532Z"
    },
    "papermill": {
     "duration": 0.049625,
     "end_time": "2025-05-07T01:03:17.792251",
     "exception": false,
     "start_time": "2025-05-07T01:03:17.742626",
     "status": "completed"
    },
    "tags": []
   },
   "outputs": [
    {
     "data": {
      "text/html": [
       "<div>\n",
       "<style scoped>\n",
       "    .dataframe tbody tr th:only-of-type {\n",
       "        vertical-align: middle;\n",
       "    }\n",
       "\n",
       "    .dataframe tbody tr th {\n",
       "        vertical-align: top;\n",
       "    }\n",
       "\n",
       "    .dataframe thead th {\n",
       "        text-align: right;\n",
       "    }\n",
       "</style>\n",
       "<table border=\"1\" class=\"dataframe\">\n",
       "  <thead>\n",
       "    <tr style=\"text-align: right;\">\n",
       "      <th></th>\n",
       "      <th>RecordID</th>\n",
       "      <th>Offense</th>\n",
       "      <th>IncidentID</th>\n",
       "      <th>Agency</th>\n",
       "      <th>ReportingOfficer</th>\n",
       "      <th>Date</th>\n",
       "      <th>DayOfWeek</th>\n",
       "      <th>Weekend</th>\n",
       "      <th>Season</th>\n",
       "      <th>TimeOfDay</th>\n",
       "      <th>FullStreet</th>\n",
       "      <th>lat</th>\n",
       "      <th>lon</th>\n",
       "      <th>neighborhood</th>\n",
       "      <th>zip</th>\n",
       "    </tr>\n",
       "  </thead>\n",
       "  <tbody>\n",
       "    <tr>\n",
       "      <th>0</th>\n",
       "      <td>1</td>\n",
       "      <td>Larceny - Shoplifitng</td>\n",
       "      <td>202500014887</td>\n",
       "      <td>CPD</td>\n",
       "      <td>Benbow, Lauren</td>\n",
       "      <td>2025-05-04 16:18:59</td>\n",
       "      <td>Sunday</td>\n",
       "      <td>True</td>\n",
       "      <td>Spring</td>\n",
       "      <td>Afternoon</td>\n",
       "      <td>500 W MAIN ST</td>\n",
       "      <td>38.030793</td>\n",
       "      <td>-78.487912</td>\n",
       "      <td>Starr Hill</td>\n",
       "      <td>22903</td>\n",
       "    </tr>\n",
       "    <tr>\n",
       "      <th>1</th>\n",
       "      <td>2</td>\n",
       "      <td>Larceny - Shoplifitng</td>\n",
       "      <td>202500014883</td>\n",
       "      <td>CPD</td>\n",
       "      <td>Benbow, Lauren</td>\n",
       "      <td>2025-05-04 15:54:34</td>\n",
       "      <td>Sunday</td>\n",
       "      <td>True</td>\n",
       "      <td>Spring</td>\n",
       "      <td>Afternoon</td>\n",
       "      <td>500 W MAIN ST</td>\n",
       "      <td>38.030793</td>\n",
       "      <td>-78.487912</td>\n",
       "      <td>Starr Hill</td>\n",
       "      <td>22903</td>\n",
       "    </tr>\n",
       "    <tr>\n",
       "      <th>2</th>\n",
       "      <td>3</td>\n",
       "      <td>Sex Offense</td>\n",
       "      <td>202500014870</td>\n",
       "      <td>CPD</td>\n",
       "      <td>Brannon, Devin</td>\n",
       "      <td>2025-05-04 13:56:28</td>\n",
       "      <td>Sunday</td>\n",
       "      <td>True</td>\n",
       "      <td>Spring</td>\n",
       "      <td>Afternoon</td>\n",
       "      <td>BARRACKS RD @ EMMET ST</td>\n",
       "      <td>38.052687</td>\n",
       "      <td>-78.499054</td>\n",
       "      <td>Barracks Road</td>\n",
       "      <td>22905</td>\n",
       "    </tr>\n",
       "    <tr>\n",
       "      <th>3</th>\n",
       "      <td>4</td>\n",
       "      <td>Missing Person-juvenile</td>\n",
       "      <td>202500014860</td>\n",
       "      <td>CPD</td>\n",
       "      <td>Prevost, Payten</td>\n",
       "      <td>2025-05-04 12:32:23</td>\n",
       "      <td>Sunday</td>\n",
       "      <td>True</td>\n",
       "      <td>Spring</td>\n",
       "      <td>Afternoon</td>\n",
       "      <td>400 GARRETT ST</td>\n",
       "      <td>38.027748</td>\n",
       "      <td>-78.481632</td>\n",
       "      <td>North Downtown</td>\n",
       "      <td>22903</td>\n",
       "    </tr>\n",
       "    <tr>\n",
       "      <th>4</th>\n",
       "      <td>5</td>\n",
       "      <td>Suspicious Activity</td>\n",
       "      <td>202500014858</td>\n",
       "      <td>CPD</td>\n",
       "      <td>O'Briant, Landon</td>\n",
       "      <td>2025-05-04 11:40:16</td>\n",
       "      <td>Sunday</td>\n",
       "      <td>True</td>\n",
       "      <td>Spring</td>\n",
       "      <td>Morning</td>\n",
       "      <td>100 E MAIN ST, A</td>\n",
       "      <td>38.030525</td>\n",
       "      <td>-78.481521</td>\n",
       "      <td>Downtown Mall</td>\n",
       "      <td>22902</td>\n",
       "    </tr>\n",
       "  </tbody>\n",
       "</table>\n",
       "</div>"
      ],
      "text/plain": [
       "   RecordID                  Offense    IncidentID Agency  ReportingOfficer  \\\n",
       "0         1    Larceny - Shoplifitng  202500014887    CPD    Benbow, Lauren   \n",
       "1         2    Larceny - Shoplifitng  202500014883    CPD    Benbow, Lauren   \n",
       "2         3              Sex Offense  202500014870    CPD    Brannon, Devin   \n",
       "3         4  Missing Person-juvenile  202500014860    CPD   Prevost, Payten   \n",
       "4         5      Suspicious Activity  202500014858    CPD  O'Briant, Landon   \n",
       "\n",
       "                 Date DayOfWeek  Weekend  Season  TimeOfDay  \\\n",
       "0 2025-05-04 16:18:59    Sunday     True  Spring  Afternoon   \n",
       "1 2025-05-04 15:54:34    Sunday     True  Spring  Afternoon   \n",
       "2 2025-05-04 13:56:28    Sunday     True  Spring  Afternoon   \n",
       "3 2025-05-04 12:32:23    Sunday     True  Spring  Afternoon   \n",
       "4 2025-05-04 11:40:16    Sunday     True  Spring    Morning   \n",
       "\n",
       "                FullStreet        lat        lon    neighborhood    zip  \n",
       "0            500 W MAIN ST  38.030793 -78.487912      Starr Hill  22903  \n",
       "1            500 W MAIN ST  38.030793 -78.487912      Starr Hill  22903  \n",
       "2   BARRACKS RD @ EMMET ST  38.052687 -78.499054   Barracks Road  22905  \n",
       "3           400 GARRETT ST  38.027748 -78.481632  North Downtown  22903  \n",
       "4         100 E MAIN ST, A  38.030525 -78.481521   Downtown Mall  22902  "
      ]
     },
     "execution_count": 14,
     "metadata": {},
     "output_type": "execute_result"
    }
   ],
   "source": [
    "# Now drop the original BlockNumber and StreetName columns\n",
    "df.drop(columns=['BlockNumber', 'StreetName','HourAMPM','HourReported','DateString'], inplace=True)\n",
    "df[\"zip\"] = df[\"zip\"].astype(str)\n",
    "\n",
    "# Fill all missing values in the DataFrame with \"N/A\"\n",
    "df.replace({None: \"N/A\", np.nan: \"N/A\", \"\": \"N/A\"}, inplace=True)\n",
    "df.head()"
   ]
  },
  {
   "cell_type": "code",
   "execution_count": 15,
   "id": "f97eb4d2",
   "metadata": {
    "execution": {
     "iopub.execute_input": "2025-05-07T01:03:17.808253Z",
     "iopub.status.busy": "2025-05-07T01:03:17.807823Z",
     "iopub.status.idle": "2025-05-07T01:03:17.823181Z",
     "shell.execute_reply": "2025-05-07T01:03:17.822621Z"
    },
    "papermill": {
     "duration": 0.024257,
     "end_time": "2025-05-07T01:03:17.824232",
     "exception": false,
     "start_time": "2025-05-07T01:03:17.799975",
     "status": "completed"
    },
    "tags": []
   },
   "outputs": [
    {
     "name": "stdout",
     "output_type": "stream",
     "text": [
      "                  MissingCount  MissingPercentage\n",
      "RecordID                     0                0.0\n",
      "Offense                      0                0.0\n",
      "IncidentID                   0                0.0\n",
      "Agency                       0                0.0\n",
      "ReportingOfficer             0                0.0\n",
      "Date                         0                0.0\n",
      "DayOfWeek                    0                0.0\n",
      "Weekend                      0                0.0\n",
      "Season                       0                0.0\n",
      "TimeOfDay                    0                0.0\n",
      "FullStreet                   0                0.0\n",
      "lat                          0                0.0\n",
      "lon                          0                0.0\n",
      "neighborhood                 0                0.0\n",
      "zip                          0                0.0\n"
     ]
    }
   ],
   "source": [
    "missing_info = missing_percentage(df)\n",
    "print(missing_info)"
   ]
  },
  {
   "cell_type": "code",
   "execution_count": 16,
   "id": "9290977f",
   "metadata": {
    "execution": {
     "iopub.execute_input": "2025-05-07T01:03:17.839745Z",
     "iopub.status.busy": "2025-05-07T01:03:17.839358Z",
     "iopub.status.idle": "2025-05-07T01:03:17.843527Z",
     "shell.execute_reply": "2025-05-07T01:03:17.843027Z"
    },
    "papermill": {
     "duration": 0.012984,
     "end_time": "2025-05-07T01:03:17.844507",
     "exception": false,
     "start_time": "2025-05-07T01:03:17.831523",
     "status": "completed"
    },
    "tags": []
   },
   "outputs": [
    {
     "data": {
      "text/plain": [
       "Index(['RecordID', 'Offense', 'IncidentID', 'Agency', 'ReportingOfficer',\n",
       "       'Date', 'DayOfWeek', 'Weekend', 'Season', 'TimeOfDay', 'FullStreet',\n",
       "       'lat', 'lon', 'neighborhood', 'zip'],\n",
       "      dtype='object')"
      ]
     },
     "execution_count": 16,
     "metadata": {},
     "output_type": "execute_result"
    }
   ],
   "source": [
    "df.columns"
   ]
  },
  {
   "cell_type": "code",
   "execution_count": 17,
   "id": "59bf7e24",
   "metadata": {
    "execution": {
     "iopub.execute_input": "2025-05-07T01:03:17.860110Z",
     "iopub.status.busy": "2025-05-07T01:03:17.859716Z",
     "iopub.status.idle": "2025-05-07T01:03:17.877224Z",
     "shell.execute_reply": "2025-05-07T01:03:17.876705Z"
    },
    "papermill": {
     "duration": 0.026296,
     "end_time": "2025-05-07T01:03:17.878194",
     "exception": false,
     "start_time": "2025-05-07T01:03:17.851898",
     "status": "completed"
    },
    "tags": []
   },
   "outputs": [
    {
     "name": "stdout",
     "output_type": "stream",
     "text": [
      "<class 'pandas.core.frame.DataFrame'>\n",
      "RangeIndex: 25338 entries, 0 to 25337\n",
      "Data columns (total 15 columns):\n",
      " #   Column            Non-Null Count  Dtype         \n",
      "---  ------            --------------  -----         \n",
      " 0   RecordID          25338 non-null  int64         \n",
      " 1   Offense           25338 non-null  object        \n",
      " 2   IncidentID        25338 non-null  object        \n",
      " 3   Agency            25338 non-null  object        \n",
      " 4   ReportingOfficer  25338 non-null  object        \n",
      " 5   Date              25338 non-null  datetime64[ns]\n",
      " 6   DayOfWeek         25338 non-null  object        \n",
      " 7   Weekend           25338 non-null  bool          \n",
      " 8   Season            25338 non-null  object        \n",
      " 9   TimeOfDay         25338 non-null  object        \n",
      " 10  FullStreet        25338 non-null  object        \n",
      " 11  lat               25338 non-null  float64       \n",
      " 12  lon               25338 non-null  float64       \n",
      " 13  neighborhood      25338 non-null  object        \n",
      " 14  zip               25338 non-null  object        \n",
      "dtypes: bool(1), datetime64[ns](1), float64(2), int64(1), object(10)\n",
      "memory usage: 2.7+ MB\n"
     ]
    }
   ],
   "source": [
    "df.info()"
   ]
  },
  {
   "cell_type": "markdown",
   "id": "de743d98",
   "metadata": {
    "papermill": {
     "duration": 0.007414,
     "end_time": "2025-05-07T01:03:17.893267",
     "exception": false,
     "start_time": "2025-05-07T01:03:17.885853",
     "status": "completed"
    },
    "tags": []
   },
   "source": [
    "### Export Clean Data"
   ]
  },
  {
   "cell_type": "code",
   "execution_count": 18,
   "id": "f6f32823",
   "metadata": {
    "execution": {
     "iopub.execute_input": "2025-05-07T01:03:17.909510Z",
     "iopub.status.busy": "2025-05-07T01:03:17.909044Z",
     "iopub.status.idle": "2025-05-07T01:03:27.246303Z",
     "shell.execute_reply": "2025-05-07T01:03:27.245604Z"
    },
    "papermill": {
     "duration": 9.34637,
     "end_time": "2025-05-07T01:03:27.247444",
     "exception": false,
     "start_time": "2025-05-07T01:03:17.901074",
     "status": "completed"
    },
    "tags": []
   },
   "outputs": [
    {
     "name": "stdout",
     "output_type": "stream",
     "text": [
      "Project Root: /home/runner/work/crime-data/crime-data\n"
     ]
    },
    {
     "name": "stdout",
     "output_type": "stream",
     "text": [
      "Data saved to: /home/runner/work/crime-data/crime-data/data/charlottesville_crime_incidents.csv\n"
     ]
    },
    {
     "name": "stdout",
     "output_type": "stream",
     "text": [
      "Excel saved to: /home/runner/work/crime-data/crime-data/data/charlottesville_crime_incidents.xlsx\n"
     ]
    }
   ],
   "source": [
    "# Determine the project root (assuming papermill is run from the repository root)\n",
    "project_root = os.getcwd()\n",
    "print(\"Project Root:\", project_root)\n",
    "\n",
    "# Set the data directory within the project root\n",
    "data_dir = os.path.join(project_root, \"data\")\n",
    "\n",
    "# Ensure the \"data\" directory exists (create it if it doesn't)\n",
    "if not os.path.exists(data_dir):\n",
    "    os.makedirs(data_dir)\n",
    "\n",
    "# Export the DataFrame to CSV in the \"data\" folder located in the project root\n",
    "csv_path = os.path.join(data_dir, \"charlottesville_crime_incidents.csv\")\n",
    "df.to_csv(csv_path, index=False)\n",
    "print(\"Data saved to:\", csv_path)\n",
    "\n",
    "# Construct the path to your Excel file\n",
    "excel_path = os.path.join(data_dir, \"charlottesville_crime_incidents.xlsx\")\n",
    "\n",
    "# Export the DataFrame to Excel\n",
    "df.to_excel(excel_path, index=False)\n",
    "print(\"Excel saved to:\", excel_path)\n"
   ]
  },
  {
   "cell_type": "markdown",
   "id": "ce0aed48",
   "metadata": {
    "papermill": {
     "duration": 0.007593,
     "end_time": "2025-05-07T01:03:27.263014",
     "exception": false,
     "start_time": "2025-05-07T01:03:27.255421",
     "status": "completed"
    },
    "tags": []
   },
   "source": [
    "## Predictive Analytics"
   ]
  },
  {
   "cell_type": "code",
   "execution_count": 19,
   "id": "71c37aa8",
   "metadata": {
    "execution": {
     "iopub.execute_input": "2025-05-07T01:03:27.279869Z",
     "iopub.status.busy": "2025-05-07T01:03:27.279231Z",
     "iopub.status.idle": "2025-05-07T01:03:27.291074Z",
     "shell.execute_reply": "2025-05-07T01:03:27.290520Z"
    },
    "papermill": {
     "duration": 0.021393,
     "end_time": "2025-05-07T01:03:27.292096",
     "exception": false,
     "start_time": "2025-05-07T01:03:27.270703",
     "status": "completed"
    },
    "tags": []
   },
   "outputs": [
    {
     "data": {
      "text/html": [
       "<div>\n",
       "<style scoped>\n",
       "    .dataframe tbody tr th:only-of-type {\n",
       "        vertical-align: middle;\n",
       "    }\n",
       "\n",
       "    .dataframe tbody tr th {\n",
       "        vertical-align: top;\n",
       "    }\n",
       "\n",
       "    .dataframe thead th {\n",
       "        text-align: right;\n",
       "    }\n",
       "</style>\n",
       "<table border=\"1\" class=\"dataframe\">\n",
       "  <thead>\n",
       "    <tr style=\"text-align: right;\">\n",
       "      <th></th>\n",
       "      <th>RecordID</th>\n",
       "      <th>Offense</th>\n",
       "      <th>IncidentID</th>\n",
       "      <th>Agency</th>\n",
       "      <th>ReportingOfficer</th>\n",
       "      <th>Date</th>\n",
       "      <th>DayOfWeek</th>\n",
       "      <th>Weekend</th>\n",
       "      <th>Season</th>\n",
       "      <th>TimeOfDay</th>\n",
       "      <th>FullStreet</th>\n",
       "      <th>lat</th>\n",
       "      <th>lon</th>\n",
       "      <th>neighborhood</th>\n",
       "      <th>zip</th>\n",
       "    </tr>\n",
       "  </thead>\n",
       "  <tbody>\n",
       "    <tr>\n",
       "      <th>0</th>\n",
       "      <td>1</td>\n",
       "      <td>Larceny - Shoplifitng</td>\n",
       "      <td>202500014887</td>\n",
       "      <td>CPD</td>\n",
       "      <td>Benbow, Lauren</td>\n",
       "      <td>2025-05-04 16:18:59</td>\n",
       "      <td>Sunday</td>\n",
       "      <td>True</td>\n",
       "      <td>Spring</td>\n",
       "      <td>Afternoon</td>\n",
       "      <td>500 W MAIN ST</td>\n",
       "      <td>38.030793</td>\n",
       "      <td>-78.487912</td>\n",
       "      <td>Starr Hill</td>\n",
       "      <td>22903</td>\n",
       "    </tr>\n",
       "    <tr>\n",
       "      <th>1</th>\n",
       "      <td>2</td>\n",
       "      <td>Larceny - Shoplifitng</td>\n",
       "      <td>202500014883</td>\n",
       "      <td>CPD</td>\n",
       "      <td>Benbow, Lauren</td>\n",
       "      <td>2025-05-04 15:54:34</td>\n",
       "      <td>Sunday</td>\n",
       "      <td>True</td>\n",
       "      <td>Spring</td>\n",
       "      <td>Afternoon</td>\n",
       "      <td>500 W MAIN ST</td>\n",
       "      <td>38.030793</td>\n",
       "      <td>-78.487912</td>\n",
       "      <td>Starr Hill</td>\n",
       "      <td>22903</td>\n",
       "    </tr>\n",
       "    <tr>\n",
       "      <th>2</th>\n",
       "      <td>3</td>\n",
       "      <td>Sex Offense</td>\n",
       "      <td>202500014870</td>\n",
       "      <td>CPD</td>\n",
       "      <td>Brannon, Devin</td>\n",
       "      <td>2025-05-04 13:56:28</td>\n",
       "      <td>Sunday</td>\n",
       "      <td>True</td>\n",
       "      <td>Spring</td>\n",
       "      <td>Afternoon</td>\n",
       "      <td>BARRACKS RD @ EMMET ST</td>\n",
       "      <td>38.052687</td>\n",
       "      <td>-78.499054</td>\n",
       "      <td>Barracks Road</td>\n",
       "      <td>22905</td>\n",
       "    </tr>\n",
       "    <tr>\n",
       "      <th>3</th>\n",
       "      <td>4</td>\n",
       "      <td>Missing Person-juvenile</td>\n",
       "      <td>202500014860</td>\n",
       "      <td>CPD</td>\n",
       "      <td>Prevost, Payten</td>\n",
       "      <td>2025-05-04 12:32:23</td>\n",
       "      <td>Sunday</td>\n",
       "      <td>True</td>\n",
       "      <td>Spring</td>\n",
       "      <td>Afternoon</td>\n",
       "      <td>400 GARRETT ST</td>\n",
       "      <td>38.027748</td>\n",
       "      <td>-78.481632</td>\n",
       "      <td>North Downtown</td>\n",
       "      <td>22903</td>\n",
       "    </tr>\n",
       "    <tr>\n",
       "      <th>4</th>\n",
       "      <td>5</td>\n",
       "      <td>Suspicious Activity</td>\n",
       "      <td>202500014858</td>\n",
       "      <td>CPD</td>\n",
       "      <td>O'Briant, Landon</td>\n",
       "      <td>2025-05-04 11:40:16</td>\n",
       "      <td>Sunday</td>\n",
       "      <td>True</td>\n",
       "      <td>Spring</td>\n",
       "      <td>Morning</td>\n",
       "      <td>100 E MAIN ST, A</td>\n",
       "      <td>38.030525</td>\n",
       "      <td>-78.481521</td>\n",
       "      <td>Downtown Mall</td>\n",
       "      <td>22902</td>\n",
       "    </tr>\n",
       "  </tbody>\n",
       "</table>\n",
       "</div>"
      ],
      "text/plain": [
       "   RecordID                  Offense    IncidentID Agency  ReportingOfficer  \\\n",
       "0         1    Larceny - Shoplifitng  202500014887    CPD    Benbow, Lauren   \n",
       "1         2    Larceny - Shoplifitng  202500014883    CPD    Benbow, Lauren   \n",
       "2         3              Sex Offense  202500014870    CPD    Brannon, Devin   \n",
       "3         4  Missing Person-juvenile  202500014860    CPD   Prevost, Payten   \n",
       "4         5      Suspicious Activity  202500014858    CPD  O'Briant, Landon   \n",
       "\n",
       "                 Date DayOfWeek  Weekend  Season  TimeOfDay  \\\n",
       "0 2025-05-04 16:18:59    Sunday     True  Spring  Afternoon   \n",
       "1 2025-05-04 15:54:34    Sunday     True  Spring  Afternoon   \n",
       "2 2025-05-04 13:56:28    Sunday     True  Spring  Afternoon   \n",
       "3 2025-05-04 12:32:23    Sunday     True  Spring  Afternoon   \n",
       "4 2025-05-04 11:40:16    Sunday     True  Spring    Morning   \n",
       "\n",
       "                FullStreet        lat        lon    neighborhood    zip  \n",
       "0            500 W MAIN ST  38.030793 -78.487912      Starr Hill  22903  \n",
       "1            500 W MAIN ST  38.030793 -78.487912      Starr Hill  22903  \n",
       "2   BARRACKS RD @ EMMET ST  38.052687 -78.499054   Barracks Road  22905  \n",
       "3           400 GARRETT ST  38.027748 -78.481632  North Downtown  22903  \n",
       "4         100 E MAIN ST, A  38.030525 -78.481521   Downtown Mall  22902  "
      ]
     },
     "execution_count": 19,
     "metadata": {},
     "output_type": "execute_result"
    }
   ],
   "source": [
    "df.head()"
   ]
  },
  {
   "cell_type": "code",
   "execution_count": 20,
   "id": "63bee4de",
   "metadata": {
    "execution": {
     "iopub.execute_input": "2025-05-07T01:03:27.309398Z",
     "iopub.status.busy": "2025-05-07T01:03:27.308965Z",
     "iopub.status.idle": "2025-05-07T01:03:27.313584Z",
     "shell.execute_reply": "2025-05-07T01:03:27.312953Z"
    },
    "papermill": {
     "duration": 0.014145,
     "end_time": "2025-05-07T01:03:27.314541",
     "exception": false,
     "start_time": "2025-05-07T01:03:27.300396",
     "status": "completed"
    },
    "tags": []
   },
   "outputs": [
    {
     "data": {
      "text/plain": [
       "Index(['RecordID', 'Offense', 'IncidentID', 'Agency', 'ReportingOfficer',\n",
       "       'Date', 'DayOfWeek', 'Weekend', 'Season', 'TimeOfDay', 'FullStreet',\n",
       "       'lat', 'lon', 'neighborhood', 'zip'],\n",
       "      dtype='object')"
      ]
     },
     "execution_count": 20,
     "metadata": {},
     "output_type": "execute_result"
    }
   ],
   "source": [
    "df.columns"
   ]
  },
  {
   "cell_type": "markdown",
   "id": "cd2ba40f",
   "metadata": {
    "papermill": {
     "duration": 0.007856,
     "end_time": "2025-05-07T01:03:27.330514",
     "exception": false,
     "start_time": "2025-05-07T01:03:27.322658",
     "status": "completed"
    },
    "tags": []
   },
   "source": [
    "### Data Preparation\n",
    "\n",
    "We need to ensure the data is in the correct format for modeling and can handle missing values, categorical variables, and dates. Here's how to prepare your data:"
   ]
  },
  {
   "cell_type": "code",
   "execution_count": 21,
   "id": "2263932a",
   "metadata": {
    "execution": {
     "iopub.execute_input": "2025-05-07T01:03:27.347835Z",
     "iopub.status.busy": "2025-05-07T01:03:27.347225Z",
     "iopub.status.idle": "2025-05-07T01:03:29.287537Z",
     "shell.execute_reply": "2025-05-07T01:03:29.286719Z"
    },
    "papermill": {
     "duration": 1.950495,
     "end_time": "2025-05-07T01:03:29.288953",
     "exception": false,
     "start_time": "2025-05-07T01:03:27.338458",
     "status": "completed"
    },
    "tags": []
   },
   "outputs": [],
   "source": [
    "import pandas as pd\n",
    "from sklearn.model_selection import train_test_split\n",
    "from sklearn.preprocessing import OneHotEncoder, LabelEncoder\n",
    "from sklearn.ensemble import RandomForestClassifier\n",
    "from sklearn.linear_model import LogisticRegression\n",
    "from sklearn.tree import DecisionTreeClassifier\n",
    "from sklearn.metrics import classification_report, accuracy_score\n",
    "import seaborn as sns\n",
    "import matplotlib.pyplot as plt\n",
    "\n",
    "# Convert 'Date' to datetime\n",
    "df['Date'] = pd.to_datetime(df['Date'])\n",
    "\n",
    "# Feature engineering: Extract additional time-based features\n",
    "df['Year'] = df['Date'].dt.year\n",
    "df['Month'] = df['Date'].dt.month\n",
    "df['DayOfMonth'] = df['Date'].dt.day\n",
    "\n",
    "# One-hot encoding for 'FullStreet', 'neighborhood', 'zip'\n",
    "df = pd.get_dummies(df, columns=['FullStreet', 'neighborhood', 'zip'], drop_first=True)\n",
    "\n",
    "# Label encoding for ordered variables (those with a natural order like 'DayOfWeek', 'Season', 'TimeOfDay')\n",
    "label_encoders = {}\n",
    "for column in ['DayOfWeek', 'Season', 'TimeOfDay', 'Agency', 'ReportingOfficer']:  # Example ordinal variables\n",
    "    le = LabelEncoder()\n",
    "    df[column] = le.fit_transform(df[column])\n",
    "    label_encoders[column] = le\n",
    "\n",
    "# Filter the dataset to include only the offenses of interest\n",
    "offenses_of_interest = [\n",
    "    'Hit and Run', 'Assault Simple', 'Suspicious Activity', 'Vandalism', \n",
    "    'Larceny - From Mot Vehicle', 'Larceny - All Other', \n",
    "    'Assist Citizen - Mental/TDO/ECO', 'Lost/FoundProperty'\n",
    "]\n",
    "\n",
    "df = df[df['Offense'].isin(offenses_of_interest)]\n",
    "\n",
    "# Label encode the target variable (Offense)\n",
    "offense_encoder = LabelEncoder()\n",
    "df['Offense'] = offense_encoder.fit_transform(df['Offense'])\n",
    "\n",
    "# Separate features (X) and target (y)\n",
    "X = df[['Year', 'Month', 'DayOfMonth', 'DayOfWeek', 'Weekend', 'Season', 'TimeOfDay', 'lat', 'lon', 'Agency', 'ReportingOfficer']]\n",
    "y = df['Offense']  # Offense is now the encoded target variable\n",
    "\n",
    "# Split the data into training and testing sets\n",
    "X_train, X_test, y_train, y_test = train_test_split(X, y, test_size=0.3, random_state=42)\n"
   ]
  },
  {
   "cell_type": "markdown",
   "id": "9a2e3308",
   "metadata": {
    "papermill": {
     "duration": 0.007916,
     "end_time": "2025-05-07T01:03:29.305211",
     "exception": false,
     "start_time": "2025-05-07T01:03:29.297295",
     "status": "completed"
    },
    "tags": []
   },
   "source": [
    "### Model Training\n",
    "\n",
    "Here we will train several models (e.g., Random Forest, Logistic Regression, and Decision Tree). We will use cross-validation to choose the best model based on accuracy, and then explain the impact of the variables."
   ]
  },
  {
   "cell_type": "code",
   "execution_count": 22,
   "id": "efcd2583",
   "metadata": {
    "execution": {
     "iopub.execute_input": "2025-05-07T01:03:29.322553Z",
     "iopub.status.busy": "2025-05-07T01:03:29.321834Z",
     "iopub.status.idle": "2025-05-07T01:03:32.905898Z",
     "shell.execute_reply": "2025-05-07T01:03:32.905300Z"
    },
    "papermill": {
     "duration": 3.593824,
     "end_time": "2025-05-07T01:03:32.906931",
     "exception": false,
     "start_time": "2025-05-07T01:03:29.313107",
     "status": "completed"
    },
    "tags": []
   },
   "outputs": [
    {
     "name": "stderr",
     "output_type": "stream",
     "text": [
      "/opt/hostedtoolcache/Python/3.9.22/x64/lib/python3.9/site-packages/sklearn/linear_model/_logistic.py:465: ConvergenceWarning: lbfgs failed to converge (status=1):\n",
      "STOP: TOTAL NO. of ITERATIONS REACHED LIMIT.\n",
      "\n",
      "Increase the number of iterations (max_iter) or scale the data as shown in:\n",
      "    https://scikit-learn.org/stable/modules/preprocessing.html\n",
      "Please also refer to the documentation for alternative solver options:\n",
      "    https://scikit-learn.org/stable/modules/linear_model.html#logistic-regression\n",
      "  n_iter_i = _check_optimize_result(\n",
      "/opt/hostedtoolcache/Python/3.9.22/x64/lib/python3.9/site-packages/sklearn/metrics/_classification.py:1565: UndefinedMetricWarning: Precision is ill-defined and being set to 0.0 in labels with no predicted samples. Use `zero_division` parameter to control this behavior.\n",
      "  _warn_prf(average, modifier, f\"{metric.capitalize()} is\", len(result))\n",
      "/opt/hostedtoolcache/Python/3.9.22/x64/lib/python3.9/site-packages/sklearn/metrics/_classification.py:1565: UndefinedMetricWarning: Precision is ill-defined and being set to 0.0 in labels with no predicted samples. Use `zero_division` parameter to control this behavior.\n",
      "  _warn_prf(average, modifier, f\"{metric.capitalize()} is\", len(result))\n",
      "/opt/hostedtoolcache/Python/3.9.22/x64/lib/python3.9/site-packages/sklearn/metrics/_classification.py:1565: UndefinedMetricWarning: Precision is ill-defined and being set to 0.0 in labels with no predicted samples. Use `zero_division` parameter to control this behavior.\n",
      "  _warn_prf(average, modifier, f\"{metric.capitalize()} is\", len(result))\n"
     ]
    },
    {
     "name": "stdout",
     "output_type": "stream",
     "text": [
      "\n",
      "Classification Report for All Models:\n",
      "\n",
      "Model: RandomForest\n",
      "Accuracy: 0.2849\n",
      "              precision    recall  f1-score      support\n",
      "0              0.281729  0.337793  0.307224   598.000000\n",
      "1              0.298701  0.230576  0.260255   399.000000\n",
      "2              0.324635  0.464179  0.382064   670.000000\n",
      "3              0.235589  0.201285  0.217090   467.000000\n",
      "4              0.288390  0.220000  0.249595   350.000000\n",
      "5              0.241706  0.198058  0.217716   515.000000\n",
      "6              0.277641  0.235908  0.255079   479.000000\n",
      "accuracy       0.284934  0.284934  0.284934     0.284934\n",
      "macro avg      0.278342  0.269686  0.269860  3478.000000\n",
      "weighted avg   0.279927  0.284934  0.277916  3478.000000\n"
     ]
    },
    {
     "data": {
      "image/png": "[encoded data removed]",
      "text/plain": [
       "<Figure size 800x600 with 2 Axes>"
      ]
     },
     "metadata": {},
     "output_type": "display_data"
    },
    {
     "name": "stdout",
     "output_type": "stream",
     "text": [
      "\n",
      "Model: LogisticRegression\n",
      "Accuracy: 0.2073\n",
      "              precision    recall  f1-score      support\n",
      "0              0.206569  0.473244  0.287602   598.000000\n",
      "1              0.200000  0.005013  0.009780   399.000000\n",
      "2              0.208533  0.649254  0.315675   670.000000\n",
      "3              0.000000  0.000000  0.000000   467.000000\n",
      "4              0.000000  0.000000  0.000000   350.000000\n",
      "5              0.000000  0.000000  0.000000   515.000000\n",
      "6              0.090909  0.002088  0.004082   479.000000\n",
      "accuracy       0.207303  0.207303  0.207303     0.207303\n",
      "macro avg      0.100859  0.161371  0.088163  3478.000000\n",
      "weighted avg   0.111153  0.207303  0.111945  3478.000000\n"
     ]
    },
    {
     "data": {
      "image/png": "[encoded data removed]",
      "text/plain": [
       "<Figure size 800x600 with 2 Axes>"
      ]
     },
     "metadata": {},
     "output_type": "display_data"
    },
    {
     "name": "stdout",
     "output_type": "stream",
     "text": [
      "\n",
      "Model: DecisionTree\n",
      "Accuracy: 0.2317\n",
      "              precision    recall  f1-score      support\n",
      "0              0.269811  0.239130  0.253546   598.000000\n",
      "1              0.236486  0.263158  0.249110   399.000000\n",
      "2              0.278274  0.279104  0.278689   670.000000\n",
      "3              0.190476  0.197002  0.193684   467.000000\n",
      "4              0.226221  0.251429  0.238160   350.000000\n",
      "5              0.193416  0.182524  0.187812   515.000000\n",
      "6              0.204641  0.202505  0.203568   479.000000\n",
      "accuracy       0.231742  0.231742  0.231742     0.231742\n",
      "macro avg      0.228475  0.230693  0.229224  3478.000000\n",
      "weighted avg   0.232292  0.231742  0.231678  3478.000000\n"
     ]
    },
    {
     "data": {
      "image/png": "[encoded data removed]",
      "text/plain": [
       "<Figure size 800x600 with 2 Axes>"
      ]
     },
     "metadata": {},
     "output_type": "display_data"
    },
    {
     "name": "stdout",
     "output_type": "stream",
     "text": [
      "\n",
      "Best Model:\n",
      "Best Model: RandomForestClassifier()\n",
      "Best Model Accuracy: 0.2849\n"
     ]
    }
   ],
   "source": [
    "import pandas as pd\n",
    "from sklearn.model_selection import train_test_split\n",
    "from sklearn.ensemble import RandomForestClassifier\n",
    "from sklearn.linear_model import LogisticRegression\n",
    "from sklearn.tree import DecisionTreeClassifier\n",
    "from sklearn.metrics import classification_report, accuracy_score, confusion_matrix\n",
    "import seaborn as sns\n",
    "import matplotlib.pyplot as plt\n",
    "\n",
    "# Define models\n",
    "models = {\n",
    "    'RandomForest': RandomForestClassifier(),\n",
    "    'LogisticRegression': LogisticRegression(max_iter=1000),\n",
    "    'DecisionTree': DecisionTreeClassifier()\n",
    "}\n",
    "\n",
    "# Train models and evaluate them\n",
    "best_model = None\n",
    "best_score = 0\n",
    "model_reports = {}\n",
    "\n",
    "for model_name, model in models.items():\n",
    "    model.fit(X_train, y_train)  # Train model\n",
    "    y_pred = model.predict(X_test)  # Make predictions\n",
    "    \n",
    "    # Calculate accuracy and generate classification report\n",
    "    accuracy = accuracy_score(y_test, y_pred)\n",
    "    model_reports[model_name] = classification_report(y_test, y_pred, output_dict=True)  # Store as a dictionary for easier analysis\n",
    "    \n",
    "    # Track best performing model\n",
    "    if accuracy > best_score:\n",
    "        best_score = accuracy\n",
    "        best_model = model\n",
    "\n",
    "# Display classification reports and confusion matrices\n",
    "print(\"\\nClassification Report for All Models:\")\n",
    "for model_name, report in model_reports.items():\n",
    "    print(f\"\\nModel: {model_name}\")\n",
    "    print(\"Accuracy: {:.4f}\".format(accuracy_score(y_test, models[model_name].predict(X_test))))  # Display accuracy\n",
    "    print(pd.DataFrame(report).transpose())  # Display classification report as a DataFrame\n",
    "\n",
    "    # Plot Confusion Matrix\n",
    "    cm = confusion_matrix(y_test, models[model_name].predict(X_test))\n",
    "    plt.figure(figsize=(8, 6))\n",
    "    sns.heatmap(cm, annot=True, fmt=\"d\", cmap='Blues', xticklabels=offense_encoder.classes_, yticklabels=offense_encoder.classes_)\n",
    "    plt.title(f\"Confusion Matrix - {model_name}\")\n",
    "    plt.xlabel('Predicted Labels')\n",
    "    plt.ylabel('True Labels')\n",
    "    plt.show()\n",
    "\n",
    "# Display best model details\n",
    "print(\"\\nBest Model:\")\n",
    "print(f\"Best Model: {best_model}\")\n",
    "print(f\"Best Model Accuracy: {best_score:.4f}\")\n"
   ]
  },
  {
   "cell_type": "markdown",
   "id": "c95ca082",
   "metadata": {
    "papermill": {
     "duration": 0.010625,
     "end_time": "2025-05-07T01:03:32.928695",
     "exception": false,
     "start_time": "2025-05-07T01:03:32.918070",
     "status": "completed"
    },
    "tags": []
   },
   "source": [
    "#### Classification Report for All Models:\n",
    "\n",
    "### Explanation of the Classification Results (RandomForest Model)\n",
    "\n",
    "The results you provided are from a **Random Forest** model, which is used for predicting different types of offenses. Let's break down the key components of the results:\n",
    "\n",
    "#### 1. **Accuracy: 0.2822**\n",
    "   - **Accuracy** measures the overall percentage of correct predictions made by the model. An accuracy of 28.22% means the model correctly predicted the offense in about 28% of the cases. This indicates the model's predictions are not highly reliable, as the accuracy is quite low.\n",
    "\n",
    "#### 2. **Classification Report:**\n",
    "   The classification report includes precision, recall, and F1-score for each offense. Let's go over these terms and how they apply to the results:\n",
    "\n",
    "   - **Precision**: The proportion of true positive predictions out of all positive predictions made by the model for a specific class (offense).\n",
    "   - **Recall**: The proportion of true positive predictions out of all actual positive instances in the dataset.\n",
    "   - **F1-Score**: The harmonic mean of precision and recall, providing a balance between the two metrics.\n",
    "   - **Support**: The number of actual occurrences of each class in the test set.\n",
    "\n",
    "   Let's analyze each offense based on these metrics:\n",
    "\n",
    "   | **Offense**                        | **Precision** | **Recall** | **F1-Score** | **Support** |\n",
    "   |------------------------------------|---------------|------------|--------------|-------------|\n",
    "   | **Assault Simple**                 | 0.2892        | 0.3754     | 0.3267       | 594         |\n",
    "   | **Assist Citizen - Mental/TDO/ECO**| 0.3182        | 0.2274     | 0.2652       | 431         |\n",
    "   | **Hit and Run**                    | 0.2963        | 0.4765     | 0.3654       | 638         |\n",
    "   | **Larceny - All Other**            | 0.2270        | 0.1453     | 0.1772       | 475         |\n",
    "   | **Lost/FoundProperty**             | 0.3333        | 0.2102     | 0.2578       | 352         |\n",
    "   | **Suspicious Activity**            | 0.2344        | 0.2169     | 0.2253       | 484         |\n",
    "   | **Vandalism**                      | 0.2712        | 0.2106     | 0.2371       | 470         |\n",
    "\n",
    "#### 3. **Key Insights from the Report:**\n",
    "\n",
    "- **Precision**:\n",
    "   - The highest precision is for **Larceny - All Other** (0.3333), indicating that when the model predicts this offense, it is correct about 33% of the time. However, this is still quite low.\n",
    "   - **Assist Citizen - Mental/TDO/ECO** has the lowest precision (0.2269), meaning that the model's predictions for this offense tend to be wrong more often than correct.\n",
    "\n",
    "- **Recall**:\n",
    "   - **Hit and Run** has the highest recall (0.4765), meaning the model identifies about 48% of the actual occurrences of this offense. This is better than the precision, which indicates it is missing many true positives but is still able to identify a fair number of cases.\n",
    "   - **Larceny - All Other** and **Suspicious Activity** have the lowest recall values (0.1453 and 0.2169, respectively), indicating that the model is failing to identify most of the actual cases for these offenses.\n",
    "\n",
    "- **F1-Score**:\n",
    "   - The **F1-Score** balances precision and recall. It is highest for **Hit and Run** (0.3654), but still relatively low overall. This suggests the model is better at identifying **Hit and Run** than other offenses but still has room for improvement.\n",
    "   - **Larceny - All Other** has the lowest F1-Score (0.1772), indicating a poor balance between precision and recall for this offense.\n",
    "\n",
    "#### 4. **Macro Average and Weighted Average:**\n",
    "   - **Macro Average**: This gives the average precision, recall, and F1-Score across all classes (offenses) without considering the class distribution. It averages the results for all offenses equally.\n",
    "     - Precision: 0.2814\n",
    "     - Recall: 0.2661\n",
    "     - F1-Score: 0.2649\n",
    "   - **Weighted Average**: This averages the metrics but weighs each class by its support (the number of true instances in the test set). This gives a better sense of overall performance, considering the class distribution.\n",
    "     - Precision: 0.2799\n",
    "     - Recall: 0.2822\n",
    "     - F1-Score: 0.2720\n",
    "\n",
    "#### 5. **Confusion Matrix (Visualization Analysis)**:\n",
    "   - The confusion matrix shows the distribution of true positive, false positive, true negative, and false negative predictions for each class.\n",
    "     - For **Hit and Run**, the model performs relatively well in identifying this offense (304 true positives). However, it also misclassifies some **Hit and Run** instances as other offenses (e.g., **Assault Simple**, **Suspicious Activity**, etc.).\n",
    "     - **Larceny - All Other** is frequently misclassified as **Hit and Run**, **Suspicious Activity**, and others. This is evident from the large number of off-diagonal elements in its row.\n",
    "     - **Assist Citizen - Mental/TDO/ECO** and **Suspicious Activity** are frequently misclassified, as seen by the off-diagonal values in their rows.\n",
    "\n",
    "### Conclusion:\n",
    "The Random Forest model has low accuracy (28.22%), suggesting that it struggles to predict most offenses accurately. Some offenses like **Hit and Run** are better predicted than others, but overall, the model shows a high level of misclassification across all offenses. There may be a need for further tuning of the model, additional feature engineering, or trying different models for better performance.\n",
    "\n",
    "Let me know if you'd like to improve the model or make adjustments based on these results!\n",
    "\n"
   ]
  },
  {
   "cell_type": "markdown",
   "id": "ecda4324",
   "metadata": {
    "papermill": {
     "duration": 0.010541,
     "end_time": "2025-05-07T01:03:32.950354",
     "exception": false,
     "start_time": "2025-05-07T01:03:32.939813",
     "status": "completed"
    },
    "tags": []
   },
   "source": [
    "### Model Explanation\n",
    "\n",
    "Once we’ve chosen the best model, we will explain its predictions by examining feature importance for tree-based models and using statistical methods like logistic regression coefficients for linear models."
   ]
  },
  {
   "cell_type": "markdown",
   "id": "c52cb1e6",
   "metadata": {
    "papermill": {
     "duration": 0.010502,
     "end_time": "2025-05-07T01:03:32.971467",
     "exception": false,
     "start_time": "2025-05-07T01:03:32.960965",
     "status": "completed"
    },
    "tags": []
   },
   "source": [
    "#### Feature Importance for Random Forest / Decision Tree\n",
    "\n",
    "##### For Tree-based Models (Random Forest, Decision Tree)\n",
    "\n",
    "For Random Forest or Decision Tree, we can look at feature importance to understand which variables contribute the most to the model's predictions. Here's how you can visualize and interpret the importance of each feature:"
   ]
  },
  {
   "cell_type": "code",
   "execution_count": 23,
   "id": "86abe1fb",
   "metadata": {
    "execution": {
     "iopub.execute_input": "2025-05-07T01:03:32.994310Z",
     "iopub.status.busy": "2025-05-07T01:03:32.993819Z",
     "iopub.status.idle": "2025-05-07T01:03:33.157942Z",
     "shell.execute_reply": "2025-05-07T01:03:33.157215Z"
    },
    "papermill": {
     "duration": 0.176763,
     "end_time": "2025-05-07T01:03:33.159027",
     "exception": false,
     "start_time": "2025-05-07T01:03:32.982264",
     "status": "completed"
    },
    "tags": []
   },
   "outputs": [
    {
     "data": {
      "image/png": "[encoded data removed]",
      "text/plain": [
       "<Figure size 1000x600 with 1 Axes>"
      ]
     },
     "metadata": {},
     "output_type": "display_data"
    }
   ],
   "source": [
    "# For RandomForest or DecisionTree models, we can check feature importance\n",
    "if isinstance(best_model, RandomForestClassifier) or isinstance(best_model, DecisionTreeClassifier):\n",
    "    feature_importance = best_model.feature_importances_\n",
    "    feature_names = X.columns\n",
    "    importance_df = pd.DataFrame({'Feature': feature_names, 'Importance': feature_importance})\n",
    "    importance_df = importance_df.sort_values(by='Importance', ascending=False)\n",
    "    \n",
    "    # Plotting the feature importances\n",
    "    plt.figure(figsize=(10, 6))\n",
    "    sns.barplot(x='Importance', y='Feature', data=importance_df)\n",
    "    plt.title(\"Feature Importance\")\n",
    "    plt.show()\n"
   ]
  },
  {
   "cell_type": "code",
   "execution_count": null,
   "id": "ab86d94d",
   "metadata": {
    "papermill": {
     "duration": 0.011038,
     "end_time": "2025-05-07T01:03:33.181539",
     "exception": false,
     "start_time": "2025-05-07T01:03:33.170501",
     "status": "completed"
    },
    "tags": []
   },
   "outputs": [],
   "source": []
  },
  {
   "cell_type": "markdown",
   "id": "5019f7a6",
   "metadata": {
    "papermill": {
     "duration": 0.010739,
     "end_time": "2025-05-07T01:03:33.203329",
     "exception": false,
     "start_time": "2025-05-07T01:03:33.192590",
     "status": "completed"
    },
    "tags": []
   },
   "source": [
    "### Evaluation\n",
    "\n",
    "After training the models and examining their performance, we evaluate the chosen model based on metrics like accuracy, precision, recall, and F1 score.\n",
    "\n"
   ]
  },
  {
   "cell_type": "code",
   "execution_count": 24,
   "id": "030202f6",
   "metadata": {
    "execution": {
     "iopub.execute_input": "2025-05-07T01:03:33.226490Z",
     "iopub.status.busy": "2025-05-07T01:03:33.225815Z",
     "iopub.status.idle": "2025-05-07T01:03:33.316390Z",
     "shell.execute_reply": "2025-05-07T01:03:33.315758Z"
    },
    "papermill": {
     "duration": 0.103289,
     "end_time": "2025-05-07T01:03:33.317492",
     "exception": false,
     "start_time": "2025-05-07T01:03:33.214203",
     "status": "completed"
    },
    "tags": []
   },
   "outputs": [
    {
     "name": "stdout",
     "output_type": "stream",
     "text": [
      "Accuracy: 0.2849\n",
      "Classification Report:\n",
      "              precision    recall  f1-score   support\n",
      "\n",
      "           0       0.28      0.34      0.31       598\n",
      "           1       0.30      0.23      0.26       399\n",
      "           2       0.32      0.46      0.38       670\n",
      "           3       0.24      0.20      0.22       467\n",
      "           4       0.29      0.22      0.25       350\n",
      "           5       0.24      0.20      0.22       515\n",
      "           6       0.28      0.24      0.26       479\n",
      "\n",
      "    accuracy                           0.28      3478\n",
      "   macro avg       0.28      0.27      0.27      3478\n",
      "weighted avg       0.28      0.28      0.28      3478\n",
      "\n",
      "Confusion Matrix:\n",
      "[[202  63 135  57  24  70  47]\n",
      " [ 92  92  94  26  24  39  32]\n",
      " [109  40 311  71  25  57  57]\n",
      " [ 77  30 111  94  42  54  59]\n",
      " [ 51  24  79  45  77  29  45]\n",
      " [107  34 130  55  33 102  54]\n",
      " [ 79  25  98  51  42  71 113]]\n",
      "Precision: 0.2799\n",
      "Recall: 0.2849\n",
      "F1 Score: 0.2779\n"
     ]
    }
   ],
   "source": [
    "from sklearn.metrics import classification_report, confusion_matrix, accuracy_score, precision_score, recall_score, f1_score\n",
    "\n",
    "# Predict on the test set\n",
    "y_pred = best_model.predict(X_test)\n",
    "\n",
    "# Calculate Accuracy\n",
    "accuracy = accuracy_score(y_test, y_pred)\n",
    "print(f\"Accuracy: {accuracy:.4f}\")\n",
    "\n",
    "# Classification Report\n",
    "print(\"Classification Report:\")\n",
    "print(classification_report(y_test, y_pred))\n",
    "\n",
    "# Confusion Matrix\n",
    "conf_matrix = confusion_matrix(y_test, y_pred)\n",
    "print(\"Confusion Matrix:\")\n",
    "print(conf_matrix)\n",
    "\n",
    "# Precision, Recall, F1 Score for each class (Offense Type)\n",
    "precision = precision_score(y_test, y_pred, average='weighted')\n",
    "recall = recall_score(y_test, y_pred, average='weighted')\n",
    "f1 = f1_score(y_test, y_pred, average='weighted')\n",
    "\n",
    "print(f\"Precision: {precision:.4f}\")\n",
    "print(f\"Recall: {recall:.4f}\")\n",
    "print(f\"F1 Score: {f1:.4f}\")\n"
   ]
  },
  {
   "cell_type": "markdown",
   "id": "d4df501c",
   "metadata": {
    "papermill": {
     "duration": 0.011455,
     "end_time": "2025-05-07T01:03:33.340602",
     "exception": false,
     "start_time": "2025-05-07T01:03:33.329147",
     "status": "completed"
    },
    "tags": []
   },
   "source": [
    "#### For Logistic Regression (Coefficient Interpretation)\n",
    "\n",
    "For Logistic Regression, the model coefficients can help us understand how each feature affects the likelihood of an offense happening. A positive coefficient indicates a feature increases the likelihood of the offense, and a negative coefficient indicates the opposite."
   ]
  },
  {
   "cell_type": "code",
   "execution_count": 25,
   "id": "47bfb9c9",
   "metadata": {
    "execution": {
     "iopub.execute_input": "2025-05-07T01:03:33.365292Z",
     "iopub.status.busy": "2025-05-07T01:03:33.364820Z",
     "iopub.status.idle": "2025-05-07T01:03:33.369858Z",
     "shell.execute_reply": "2025-05-07T01:03:33.369151Z"
    },
    "papermill": {
     "duration": 0.018639,
     "end_time": "2025-05-07T01:03:33.370839",
     "exception": false,
     "start_time": "2025-05-07T01:03:33.352200",
     "status": "completed"
    },
    "tags": []
   },
   "outputs": [],
   "source": [
    "if isinstance(best_model, LogisticRegression):\n",
    "    # Logistic regression coefficients\n",
    "    coef_df = pd.DataFrame({\n",
    "        'Feature': X.columns,\n",
    "        'Coefficient': best_model.coef_[0]\n",
    "    })\n",
    "    coef_df['AbsCoefficient'] = coef_df['Coefficient'].abs()\n",
    "    coef_df = coef_df.sort_values(by='AbsCoefficient', ascending=False)\n",
    "    \n",
    "    # Plotting the coefficients\n",
    "    plt.figure(figsize=(10, 6))\n",
    "    sns.barplot(x='AbsCoefficient', y='Feature', data=coef_df)\n",
    "    plt.title(\"Logistic Regression Coefficients Impact\")\n",
    "    plt.show()\n",
    "\n",
    "    # Print the top 5 most impactful features (by absolute coefficient value)\n",
    "    print(\"Top 5 most impactful features based on coefficients:\")\n",
    "    print(coef_df.head())\n"
   ]
  },
  {
   "cell_type": "markdown",
   "id": "dcb68a57",
   "metadata": {
    "papermill": {
     "duration": 0.011583,
     "end_time": "2025-05-07T01:03:33.394083",
     "exception": false,
     "start_time": "2025-05-07T01:03:33.382500",
     "status": "completed"
    },
    "tags": []
   },
   "source": [
    "Explanation of Output:\n",
    "\n",
    "Feature Importance (Random Forest/Decision Tree): The bar plot will show how important each feature is in the decision-making process. Features at the top of the list are the most influential in predicting the occurrence of offenses.\n",
    "\n",
    "Logistic Regression Coefficients: The bar plot will show the magnitude of the coefficients for each feature. Features with larger absolute values (either positive or negative) have a stronger impact on the model’s predictions. Positive coefficients increase the probability of an offense, while negative coefficients decrease it."
   ]
  },
  {
   "cell_type": "markdown",
   "id": "a397683c",
   "metadata": {
    "papermill": {
     "duration": 0.011524,
     "end_time": "2025-05-07T01:03:33.417289",
     "exception": false,
     "start_time": "2025-05-07T01:03:33.405765",
     "status": "completed"
    },
    "tags": []
   },
   "source": []
  }
 ],
 "metadata": {
  "kernelspec": {
   "display_name": "Python 3",
   "language": "python",
   "name": "python3"
  },
  "language_info": {
   "codemirror_mode": {
    "name": "ipython",
    "version": 3
   },
   "file_extension": ".py",
   "mimetype": "text/x-python",
   "name": "python",
   "nbconvert_exporter": "python",
   "pygments_lexer": "ipython3",
   "version": "3.9.22"
  },
  "papermill": {
   "default_parameters": {},
   "duration": 77.784053,
   "end_time": "2025-05-07T01:03:33.947598",
   "environment_variables": {},
   "exception": null,
   "input_path": "notebook/Crime Data.ipynb",
   "output_path": "notebook/Crime Data_output.ipynb",
   "parameters": {},
   "start_time": "2025-05-07T01:02:16.163545",
   "version": "2.6.0"
  }
 },
 "nbformat": 4,
 "nbformat_minor": 5
}