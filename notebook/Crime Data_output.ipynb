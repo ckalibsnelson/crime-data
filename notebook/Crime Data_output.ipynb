{
 "cells": [
  {
   "cell_type": "markdown",
   "id": "ec68c16d",
   "metadata": {
    "papermill": {
     "duration": 0.006254,
     "end_time": "2025-04-28T01:02:48.146254",
     "exception": false,
     "start_time": "2025-04-28T01:02:48.140000",
     "status": "completed"
    },
    "tags": []
   },
   "source": [
    "# Charlottesville Open Data Porttal: Crime Data"
   ]
  },
  {
   "cell_type": "markdown",
   "id": "5552e3a5",
   "metadata": {
    "papermill": {
     "duration": 0.005092,
     "end_time": "2025-04-28T01:02:48.156787",
     "exception": false,
     "start_time": "2025-04-28T01:02:48.151695",
     "status": "completed"
    },
    "tags": []
   },
   "source": [
    "## Import Relevant Librarires & Set WD"
   ]
  },
  {
   "cell_type": "code",
   "execution_count": 1,
   "id": "c9e4e656",
   "metadata": {
    "execution": {
     "iopub.execute_input": "2025-04-28T01:02:48.168247Z",
     "iopub.status.busy": "2025-04-28T01:02:48.167922Z",
     "iopub.status.idle": "2025-04-28T01:02:48.868956Z",
     "shell.execute_reply": "2025-04-28T01:02:48.868252Z"
    },
    "papermill": {
     "duration": 0.708388,
     "end_time": "2025-04-28T01:02:48.870290",
     "exception": false,
     "start_time": "2025-04-28T01:02:48.161902",
     "status": "completed"
    },
    "tags": []
   },
   "outputs": [],
   "source": [
    "import requests\n",
    "import pandas as pd\n",
    "import numpy as np\n",
    "import pickle\n",
    "import googlemaps\n",
    "import plotly.express as px\n",
    "from geopy.geocoders import Nominatim\n",
    "import time\n",
    "from dotenv import load_dotenv\n",
    "import os\n",
    "\n",
    "env_path = os.path.join(\"..\", \".env\")\n",
    "#print(\"Looking for .env file at:\", os.path.abspath(env_path))\n",
    "load_dotenv(dotenv_path=env_path)\n",
    "\n",
    "# Retrieve the variables\n",
    "GOOGLE_API_KEY = os.getenv(\"GOOGLE_API_KEY\")\n",
    "WORKING_DIR = os.getenv(\"WORKING_DIR\")\n",
    "\n",
    "if GOOGLE_API_KEY is None or WORKING_DIR is None:\n",
    "    raise RuntimeError(\"No configuration found. Please ensure that your .env file exists with the required variables, or create a local config.py file.\")\n",
    "\n",
    "#print(\"Google API Key:\", GOOGLE_API_KEY)\n",
    "#print(\"Working Directory:\", WORKING_DIR)"
   ]
  },
  {
   "cell_type": "markdown",
   "id": "17948ce5",
   "metadata": {
    "papermill": {
     "duration": 0.005731,
     "end_time": "2025-04-28T01:02:48.881611",
     "exception": false,
     "start_time": "2025-04-28T01:02:48.875880",
     "status": "completed"
    },
    "tags": []
   },
   "source": [
    "## Import Data\n",
    "\n",
    "URL: https://opendata.charlottesville.org/datasets/charlottesville::crime-data/about"
   ]
  },
  {
   "cell_type": "code",
   "execution_count": 2,
   "id": "540f4daa",
   "metadata": {
    "execution": {
     "iopub.execute_input": "2025-04-28T01:02:48.893246Z",
     "iopub.status.busy": "2025-04-28T01:02:48.892617Z",
     "iopub.status.idle": "2025-04-28T01:03:45.608759Z",
     "shell.execute_reply": "2025-04-28T01:03:45.608003Z"
    },
    "papermill": {
     "duration": 56.728547,
     "end_time": "2025-04-28T01:03:45.615299",
     "exception": false,
     "start_time": "2025-04-28T01:02:48.886752",
     "status": "completed"
    },
    "tags": []
   },
   "outputs": [
    {
     "name": "stdout",
     "output_type": "stream",
     "text": [
      "Total records imported: 25277\n"
     ]
    }
   ],
   "source": [
    "# Define the endpoint and initial parameters.\n",
    "url = \"https://gisweb.charlottesville.org/arcgis/rest/services/OpenData_2/MapServer/6/query\"\n",
    "params = {\n",
    "    \"where\": \"1=1\",\n",
    "    \"outFields\": \"*\",\n",
    "    \"outSR\": 4326,\n",
    "    \"f\": \"json\",\n",
    "    \"resultOffset\": 0,       # Starting index for results\n",
    "    \"resultRecordCount\": 10000  # Maximum records per batch (if allowed by the API)\n",
    "}\n",
    "\n",
    "records = []\n",
    "\n",
    "while True:\n",
    "    response = requests.get(url, params=params)\n",
    "    response.raise_for_status()\n",
    "    data = response.json()\n",
    "    \n",
    "    # Get the current batch of features.\n",
    "    features = data.get(\"features\", [])\n",
    "    if not features:\n",
    "        break\n",
    "\n",
    "    # Extract the attributes from the features.\n",
    "    batch_records = [feature.get(\"attributes\", {}) for feature in features]\n",
    "    records.extend(batch_records)\n",
    "    \n",
    "    # If the batch size is less than the requested count, we reached the end.\n",
    "    if len(features) < params[\"resultRecordCount\"]:\n",
    "        break\n",
    "\n",
    "    # Update the resultOffset for the next batch.\n",
    "    params[\"resultOffset\"] += params[\"resultRecordCount\"]\n",
    "\n",
    "# Create a DataFrame from the combined records.\n",
    "df = pd.DataFrame(records)\n",
    "print(\"Total records imported:\", len(df))\n"
   ]
  },
  {
   "cell_type": "code",
   "execution_count": 3,
   "id": "9705aceb",
   "metadata": {
    "execution": {
     "iopub.execute_input": "2025-04-28T01:03:45.649307Z",
     "iopub.status.busy": "2025-04-28T01:03:45.648646Z",
     "iopub.status.idle": "2025-04-28T01:03:45.661529Z",
     "shell.execute_reply": "2025-04-28T01:03:45.660873Z"
    },
    "papermill": {
     "duration": 0.041912,
     "end_time": "2025-04-28T01:03:45.662554",
     "exception": false,
     "start_time": "2025-04-28T01:03:45.620642",
     "status": "completed"
    },
    "tags": []
   },
   "outputs": [
    {
     "data": {
      "text/html": [
       "<div>\n",
       "<style scoped>\n",
       "    .dataframe tbody tr th:only-of-type {\n",
       "        vertical-align: middle;\n",
       "    }\n",
       "\n",
       "    .dataframe tbody tr th {\n",
       "        vertical-align: top;\n",
       "    }\n",
       "\n",
       "    .dataframe thead th {\n",
       "        text-align: right;\n",
       "    }\n",
       "</style>\n",
       "<table border=\"1\" class=\"dataframe\">\n",
       "  <thead>\n",
       "    <tr style=\"text-align: right;\">\n",
       "      <th></th>\n",
       "      <th>RecordID</th>\n",
       "      <th>Offense</th>\n",
       "      <th>IncidentID</th>\n",
       "      <th>BlockNumber</th>\n",
       "      <th>StreetName</th>\n",
       "      <th>Agency</th>\n",
       "      <th>DateReported</th>\n",
       "      <th>HourReported</th>\n",
       "      <th>ReportingOfficer</th>\n",
       "    </tr>\n",
       "  </thead>\n",
       "  <tbody>\n",
       "    <tr>\n",
       "      <th>0</th>\n",
       "      <td>1</td>\n",
       "      <td>Hit and Run</td>\n",
       "      <td>202500013591</td>\n",
       "      <td>500</td>\n",
       "      <td>MEADE AVE</td>\n",
       "      <td>CPD</td>\n",
       "      <td>1745632616000</td>\n",
       "      <td>2156</td>\n",
       "      <td>Crowley, Raeann</td>\n",
       "    </tr>\n",
       "    <tr>\n",
       "      <th>1</th>\n",
       "      <td>2</td>\n",
       "      <td>Suspicious Activity</td>\n",
       "      <td>202500013573</td>\n",
       "      <td>1500</td>\n",
       "      <td>VIRGINIA AVE</td>\n",
       "      <td>CPD</td>\n",
       "      <td>1745623873000</td>\n",
       "      <td>1931</td>\n",
       "      <td>Rigsby, Lloyd</td>\n",
       "    </tr>\n",
       "    <tr>\n",
       "      <th>2</th>\n",
       "      <td>3</td>\n",
       "      <td>Burglary</td>\n",
       "      <td>202500013569</td>\n",
       "      <td>900</td>\n",
       "      <td>ST CLAIR AVE</td>\n",
       "      <td>CPD</td>\n",
       "      <td>1745621692000</td>\n",
       "      <td>1854</td>\n",
       "      <td>Crowley, Raeann</td>\n",
       "    </tr>\n",
       "    <tr>\n",
       "      <th>3</th>\n",
       "      <td>4</td>\n",
       "      <td>Trespass</td>\n",
       "      <td>202500013564</td>\n",
       "      <td>700</td>\n",
       "      <td>E MAIN ST</td>\n",
       "      <td>CPD</td>\n",
       "      <td>1745619679000</td>\n",
       "      <td>1821</td>\n",
       "      <td>Ryan, Matthew</td>\n",
       "    </tr>\n",
       "    <tr>\n",
       "      <th>4</th>\n",
       "      <td>5</td>\n",
       "      <td>Larceny - Shoplifitng</td>\n",
       "      <td>202500013554</td>\n",
       "      <td>200</td>\n",
       "      <td>E MAIN ST</td>\n",
       "      <td>CPD</td>\n",
       "      <td>1745615961000</td>\n",
       "      <td>1719</td>\n",
       "      <td>Abdelgayed, Adam</td>\n",
       "    </tr>\n",
       "  </tbody>\n",
       "</table>\n",
       "</div>"
      ],
      "text/plain": [
       "   RecordID                Offense    IncidentID BlockNumber    StreetName  \\\n",
       "0         1            Hit and Run  202500013591         500     MEADE AVE   \n",
       "1         2    Suspicious Activity  202500013573        1500  VIRGINIA AVE   \n",
       "2         3               Burglary  202500013569         900  ST CLAIR AVE   \n",
       "3         4               Trespass  202500013564         700     E MAIN ST   \n",
       "4         5  Larceny - Shoplifitng  202500013554         200     E MAIN ST   \n",
       "\n",
       "  Agency   DateReported HourReported  ReportingOfficer  \n",
       "0    CPD  1745632616000         2156   Crowley, Raeann  \n",
       "1    CPD  1745623873000         1931     Rigsby, Lloyd  \n",
       "2    CPD  1745621692000         1854   Crowley, Raeann  \n",
       "3    CPD  1745619679000         1821     Ryan, Matthew  \n",
       "4    CPD  1745615961000         1719  Abdelgayed, Adam  "
      ]
     },
     "execution_count": 3,
     "metadata": {},
     "output_type": "execute_result"
    }
   ],
   "source": [
    "df.head()"
   ]
  },
  {
   "cell_type": "code",
   "execution_count": 4,
   "id": "ff251805",
   "metadata": {
    "execution": {
     "iopub.execute_input": "2025-04-28T01:03:45.674372Z",
     "iopub.status.busy": "2025-04-28T01:03:45.674018Z",
     "iopub.status.idle": "2025-04-28T01:03:45.678134Z",
     "shell.execute_reply": "2025-04-28T01:03:45.677630Z"
    },
    "papermill": {
     "duration": 0.011051,
     "end_time": "2025-04-28T01:03:45.679092",
     "exception": false,
     "start_time": "2025-04-28T01:03:45.668041",
     "status": "completed"
    },
    "tags": []
   },
   "outputs": [
    {
     "data": {
      "text/plain": [
       "Index(['RecordID', 'Offense', 'IncidentID', 'BlockNumber', 'StreetName',\n",
       "       'Agency', 'DateReported', 'HourReported', 'ReportingOfficer'],\n",
       "      dtype='object')"
      ]
     },
     "execution_count": 4,
     "metadata": {},
     "output_type": "execute_result"
    }
   ],
   "source": [
    "df.columns"
   ]
  },
  {
   "cell_type": "code",
   "execution_count": 5,
   "id": "177d0cbe",
   "metadata": {
    "execution": {
     "iopub.execute_input": "2025-04-28T01:03:45.691214Z",
     "iopub.status.busy": "2025-04-28T01:03:45.690716Z",
     "iopub.status.idle": "2025-04-28T01:03:45.714582Z",
     "shell.execute_reply": "2025-04-28T01:03:45.713920Z"
    },
    "papermill": {
     "duration": 0.030881,
     "end_time": "2025-04-28T01:03:45.715621",
     "exception": false,
     "start_time": "2025-04-28T01:03:45.684740",
     "status": "completed"
    },
    "tags": []
   },
   "outputs": [
    {
     "name": "stdout",
     "output_type": "stream",
     "text": [
      "<class 'pandas.core.frame.DataFrame'>\n",
      "RangeIndex: 25277 entries, 0 to 25276\n",
      "Data columns (total 9 columns):\n",
      " #   Column            Non-Null Count  Dtype \n",
      "---  ------            --------------  ----- \n",
      " 0   RecordID          25277 non-null  int64 \n",
      " 1   Offense           25277 non-null  object\n",
      " 2   IncidentID        25277 non-null  object\n",
      " 3   BlockNumber       25277 non-null  object\n",
      " 4   StreetName        25277 non-null  object\n",
      " 5   Agency            25277 non-null  object\n",
      " 6   DateReported      25277 non-null  int64 \n",
      " 7   HourReported      25277 non-null  object\n",
      " 8   ReportingOfficer  25260 non-null  object\n",
      "dtypes: int64(2), object(7)\n",
      "memory usage: 1.7+ MB\n"
     ]
    }
   ],
   "source": [
    "df.info()"
   ]
  },
  {
   "cell_type": "markdown",
   "id": "cf0f670a",
   "metadata": {
    "papermill": {
     "duration": 0.005572,
     "end_time": "2025-04-28T01:03:45.726997",
     "exception": false,
     "start_time": "2025-04-28T01:03:45.721425",
     "status": "completed"
    },
    "tags": []
   },
   "source": [
    "### Missing Values"
   ]
  },
  {
   "cell_type": "code",
   "execution_count": 6,
   "id": "57a8bfc2",
   "metadata": {
    "execution": {
     "iopub.execute_input": "2025-04-28T01:03:45.739124Z",
     "iopub.status.busy": "2025-04-28T01:03:45.738723Z",
     "iopub.status.idle": "2025-04-28T01:03:45.759452Z",
     "shell.execute_reply": "2025-04-28T01:03:45.758878Z"
    },
    "papermill": {
     "duration": 0.027748,
     "end_time": "2025-04-28T01:03:45.760371",
     "exception": false,
     "start_time": "2025-04-28T01:03:45.732623",
     "status": "completed"
    },
    "tags": []
   },
   "outputs": [
    {
     "name": "stdout",
     "output_type": "stream",
     "text": [
      "                  MissingCount  MissingPercentage\n",
      "RecordID                     0               0.00\n",
      "Offense                      0               0.00\n",
      "IncidentID                   0               0.00\n",
      "BlockNumber                  0               0.00\n",
      "StreetName                   0               0.00\n",
      "Agency                       0               0.00\n",
      "DateReported                 0               0.00\n",
      "HourReported                 0               0.00\n",
      "ReportingOfficer            17               0.07\n"
     ]
    }
   ],
   "source": [
    "def missing_percentage(df):\n",
    "    \"\"\"\n",
    "    Returns a DataFrame with the count and percentage of missing values for each column.\n",
    "    \n",
    "    Parameters:\n",
    "        df (pd.DataFrame): The input DataFrame.\n",
    "    \n",
    "    Returns:\n",
    "        pd.DataFrame: A DataFrame with columns 'MissingCount' and 'MissingPercentage'.\n",
    "    \"\"\"\n",
    "    total_rows = len(df)\n",
    "    missing_count = df.isnull().sum()\n",
    "    missing_percent = (missing_count / total_rows) * 100\n",
    "    \n",
    "    result = pd.DataFrame({\n",
    "        'MissingCount': missing_count,\n",
    "        'MissingPercentage': missing_percent.round(2)\n",
    "    })\n",
    "    \n",
    "    return result\n",
    "\n",
    "# Example usage:\n",
    "missing_info = missing_percentage(df)\n",
    "print(missing_info)\n"
   ]
  },
  {
   "cell_type": "markdown",
   "id": "48edfe3d",
   "metadata": {
    "papermill": {
     "duration": 0.005618,
     "end_time": "2025-04-28T01:03:45.771838",
     "exception": false,
     "start_time": "2025-04-28T01:03:45.766220",
     "status": "completed"
    },
    "tags": []
   },
   "source": [
    "## Data Preparation"
   ]
  },
  {
   "cell_type": "markdown",
   "id": "c516517c",
   "metadata": {
    "papermill": {
     "duration": 0.005567,
     "end_time": "2025-04-28T01:03:45.783064",
     "exception": false,
     "start_time": "2025-04-28T01:03:45.777497",
     "status": "completed"
    },
    "tags": []
   },
   "source": [
    "### Data Conversion"
   ]
  },
  {
   "cell_type": "code",
   "execution_count": 7,
   "id": "70d58ff2",
   "metadata": {
    "execution": {
     "iopub.execute_input": "2025-04-28T01:03:45.795454Z",
     "iopub.status.busy": "2025-04-28T01:03:45.795015Z",
     "iopub.status.idle": "2025-04-28T01:03:46.161732Z",
     "shell.execute_reply": "2025-04-28T01:03:46.161125Z"
    },
    "papermill": {
     "duration": 0.373996,
     "end_time": "2025-04-28T01:03:46.162730",
     "exception": false,
     "start_time": "2025-04-28T01:03:45.788734",
     "status": "completed"
    },
    "tags": []
   },
   "outputs": [
    {
     "data": {
      "text/html": [
       "<div>\n",
       "<style scoped>\n",
       "    .dataframe tbody tr th:only-of-type {\n",
       "        vertical-align: middle;\n",
       "    }\n",
       "\n",
       "    .dataframe tbody tr th {\n",
       "        vertical-align: top;\n",
       "    }\n",
       "\n",
       "    .dataframe thead th {\n",
       "        text-align: right;\n",
       "    }\n",
       "</style>\n",
       "<table border=\"1\" class=\"dataframe\">\n",
       "  <thead>\n",
       "    <tr style=\"text-align: right;\">\n",
       "      <th></th>\n",
       "      <th>RecordID</th>\n",
       "      <th>Offense</th>\n",
       "      <th>IncidentID</th>\n",
       "      <th>BlockNumber</th>\n",
       "      <th>StreetName</th>\n",
       "      <th>Agency</th>\n",
       "      <th>HourReported</th>\n",
       "      <th>ReportingOfficer</th>\n",
       "      <th>Date</th>\n",
       "      <th>DateString</th>\n",
       "      <th>DayOfWeek</th>\n",
       "      <th>Weekend</th>\n",
       "      <th>Season</th>\n",
       "      <th>HourAMPM</th>\n",
       "      <th>TimeOfDay</th>\n",
       "    </tr>\n",
       "  </thead>\n",
       "  <tbody>\n",
       "    <tr>\n",
       "      <th>0</th>\n",
       "      <td>1</td>\n",
       "      <td>Hit and Run</td>\n",
       "      <td>202500013591</td>\n",
       "      <td>500</td>\n",
       "      <td>MEADE AVE</td>\n",
       "      <td>CPD</td>\n",
       "      <td>2156</td>\n",
       "      <td>Crowley, Raeann</td>\n",
       "      <td>2025-04-25 21:56:56</td>\n",
       "      <td>2025-04-25 09:56:56 PM</td>\n",
       "      <td>Friday</td>\n",
       "      <td>False</td>\n",
       "      <td>Spring</td>\n",
       "      <td>09:56 PM</td>\n",
       "      <td>Night</td>\n",
       "    </tr>\n",
       "    <tr>\n",
       "      <th>1</th>\n",
       "      <td>2</td>\n",
       "      <td>Suspicious Activity</td>\n",
       "      <td>202500013573</td>\n",
       "      <td>1500</td>\n",
       "      <td>VIRGINIA AVE</td>\n",
       "      <td>CPD</td>\n",
       "      <td>1931</td>\n",
       "      <td>Rigsby, Lloyd</td>\n",
       "      <td>2025-04-25 19:31:13</td>\n",
       "      <td>2025-04-25 07:31:13 PM</td>\n",
       "      <td>Friday</td>\n",
       "      <td>False</td>\n",
       "      <td>Spring</td>\n",
       "      <td>07:31 PM</td>\n",
       "      <td>Evening</td>\n",
       "    </tr>\n",
       "    <tr>\n",
       "      <th>2</th>\n",
       "      <td>3</td>\n",
       "      <td>Burglary</td>\n",
       "      <td>202500013569</td>\n",
       "      <td>900</td>\n",
       "      <td>ST CLAIR AVE</td>\n",
       "      <td>CPD</td>\n",
       "      <td>1854</td>\n",
       "      <td>Crowley, Raeann</td>\n",
       "      <td>2025-04-25 18:54:52</td>\n",
       "      <td>2025-04-25 06:54:52 PM</td>\n",
       "      <td>Friday</td>\n",
       "      <td>False</td>\n",
       "      <td>Spring</td>\n",
       "      <td>06:54 PM</td>\n",
       "      <td>Evening</td>\n",
       "    </tr>\n",
       "    <tr>\n",
       "      <th>3</th>\n",
       "      <td>4</td>\n",
       "      <td>Trespass</td>\n",
       "      <td>202500013564</td>\n",
       "      <td>700</td>\n",
       "      <td>E MAIN ST</td>\n",
       "      <td>CPD</td>\n",
       "      <td>1821</td>\n",
       "      <td>Ryan, Matthew</td>\n",
       "      <td>2025-04-25 18:21:19</td>\n",
       "      <td>2025-04-25 06:21:19 PM</td>\n",
       "      <td>Friday</td>\n",
       "      <td>False</td>\n",
       "      <td>Spring</td>\n",
       "      <td>06:21 PM</td>\n",
       "      <td>Evening</td>\n",
       "    </tr>\n",
       "    <tr>\n",
       "      <th>4</th>\n",
       "      <td>5</td>\n",
       "      <td>Larceny - Shoplifitng</td>\n",
       "      <td>202500013554</td>\n",
       "      <td>200</td>\n",
       "      <td>E MAIN ST</td>\n",
       "      <td>CPD</td>\n",
       "      <td>1719</td>\n",
       "      <td>Abdelgayed, Adam</td>\n",
       "      <td>2025-04-25 17:19:21</td>\n",
       "      <td>2025-04-25 05:19:21 PM</td>\n",
       "      <td>Friday</td>\n",
       "      <td>False</td>\n",
       "      <td>Spring</td>\n",
       "      <td>05:19 PM</td>\n",
       "      <td>Evening</td>\n",
       "    </tr>\n",
       "  </tbody>\n",
       "</table>\n",
       "</div>"
      ],
      "text/plain": [
       "   RecordID                Offense    IncidentID BlockNumber    StreetName  \\\n",
       "0         1            Hit and Run  202500013591         500     MEADE AVE   \n",
       "1         2    Suspicious Activity  202500013573        1500  VIRGINIA AVE   \n",
       "2         3               Burglary  202500013569         900  ST CLAIR AVE   \n",
       "3         4               Trespass  202500013564         700     E MAIN ST   \n",
       "4         5  Larceny - Shoplifitng  202500013554         200     E MAIN ST   \n",
       "\n",
       "  Agency HourReported  ReportingOfficer                Date  \\\n",
       "0    CPD         2156   Crowley, Raeann 2025-04-25 21:56:56   \n",
       "1    CPD         1931     Rigsby, Lloyd 2025-04-25 19:31:13   \n",
       "2    CPD         1854   Crowley, Raeann 2025-04-25 18:54:52   \n",
       "3    CPD         1821     Ryan, Matthew 2025-04-25 18:21:19   \n",
       "4    CPD         1719  Abdelgayed, Adam 2025-04-25 17:19:21   \n",
       "\n",
       "               DateString DayOfWeek  Weekend  Season  HourAMPM TimeOfDay  \n",
       "0  2025-04-25 09:56:56 PM    Friday    False  Spring  09:56 PM     Night  \n",
       "1  2025-04-25 07:31:13 PM    Friday    False  Spring  07:31 PM   Evening  \n",
       "2  2025-04-25 06:54:52 PM    Friday    False  Spring  06:54 PM   Evening  \n",
       "3  2025-04-25 06:21:19 PM    Friday    False  Spring  06:21 PM   Evening  \n",
       "4  2025-04-25 05:19:21 PM    Friday    False  Spring  05:19 PM   Evening  "
      ]
     },
     "execution_count": 7,
     "metadata": {},
     "output_type": "execute_result"
    }
   ],
   "source": [
    "def convert_and_categorize_datereported(df, col='DateReported'):\n",
    "    \"\"\"\n",
    "    Converts an epoch (in milliseconds) date column into a timezone-aware datetime,\n",
    "    converts it to Eastern Time, and then creates columns for day-of-week, weekend flag,\n",
    "    season, 12-hour formatted time, and time-of-day. Keeps both a real datetime column\n",
    "    (Date) and a string representation (DateString).\n",
    "    \"\"\"\n",
    "    import pandas as pd\n",
    "\n",
    "    # Convert the epoch timestamp to a pandas datetime object as UTC, then convert to US/Eastern.\n",
    "    df[\"DateReported_dt\"] = (\n",
    "        pd.to_datetime(df[col], unit=\"ms\", errors=\"coerce\", utc=True)\n",
    "        .dt.tz_convert(\"US/Eastern\")\n",
    "    )\n",
    "    \n",
    "    # Create a true datetime column (remove timezone if you prefer naive datetime)\n",
    "    df[\"Date\"] = df[\"DateReported_dt\"].dt.tz_localize(None)\n",
    "\n",
    "    # Optionally, create a separate string-formatted column\n",
    "    df[\"DateString\"] = df[\"DateReported_dt\"].dt.strftime(\"%Y-%m-%d %I:%M:%S %p\")\n",
    "    \n",
    "    # DayOfWeek\n",
    "    df[\"DayOfWeek\"] = df[\"DateReported_dt\"].dt.day_name()\n",
    "    \n",
    "    # Weekend\n",
    "    df[\"Weekend\"] = df[\"DayOfWeek\"].isin([\"Saturday\", \"Sunday\"])\n",
    "    \n",
    "    # Helper function to determine the season\n",
    "    def get_season(dt):\n",
    "        month = dt.month\n",
    "        day = dt.day\n",
    "        # Approximate Northern Hemisphere season boundaries:\n",
    "        if (month == 12 and day >= 21) or (month < 3) or (month == 3 and day < 20):\n",
    "            return \"Winter\"\n",
    "        elif (month == 3 and day >= 20) or (month < 6) or (month == 6 and day < 21):\n",
    "            return \"Spring\"\n",
    "        elif (month == 6 and day >= 21) or (month < 9) or (month == 9 and day < 22):\n",
    "            return \"Summer\"\n",
    "        else:\n",
    "            return \"Autumn\"\n",
    "    \n",
    "    df[\"Season\"] = df[\"DateReported_dt\"].apply(get_season)\n",
    "    \n",
    "    # 12-hour formatted time (HourAMPM)\n",
    "    df[\"HourAMPM\"] = df[\"DateReported_dt\"].dt.strftime(\"%I:%M %p\")\n",
    "    \n",
    "    # Extract hour (0-23) for time-of-day\n",
    "    df[\"HourValue\"] = df[\"DateReported_dt\"].dt.hour\n",
    "    \n",
    "    def time_of_day(hour):\n",
    "        if pd.isnull(hour):\n",
    "            return None\n",
    "        if 5 <= hour < 12:\n",
    "            return \"Morning\"\n",
    "        elif 12 <= hour < 17:\n",
    "            return \"Afternoon\"\n",
    "        elif 17 <= hour < 21:\n",
    "            return \"Evening\"\n",
    "        else:\n",
    "            return \"Night\"\n",
    "    \n",
    "    df[\"TimeOfDay\"] = df[\"HourValue\"].apply(time_of_day)\n",
    "    \n",
    "    # Drop columns you no longer need\n",
    "    df.drop(columns=[col, \"DateReported_dt\", \"HourValue\"], inplace=True)\n",
    "    \n",
    "    return df\n",
    "\n",
    "# Example usage:\n",
    "df = convert_and_categorize_datereported(df)\n",
    "df.head()\n"
   ]
  },
  {
   "cell_type": "code",
   "execution_count": 8,
   "id": "ae53cef3",
   "metadata": {
    "execution": {
     "iopub.execute_input": "2025-04-28T01:03:46.176056Z",
     "iopub.status.busy": "2025-04-28T01:03:46.175596Z",
     "iopub.status.idle": "2025-04-28T01:03:46.201831Z",
     "shell.execute_reply": "2025-04-28T01:03:46.201147Z"
    },
    "papermill": {
     "duration": 0.033883,
     "end_time": "2025-04-28T01:03:46.202851",
     "exception": false,
     "start_time": "2025-04-28T01:03:46.168968",
     "status": "completed"
    },
    "tags": []
   },
   "outputs": [
    {
     "name": "stdout",
     "output_type": "stream",
     "text": [
      "<class 'pandas.core.frame.DataFrame'>\n",
      "RangeIndex: 25277 entries, 0 to 25276\n",
      "Data columns (total 15 columns):\n",
      " #   Column            Non-Null Count  Dtype         \n",
      "---  ------            --------------  -----         \n",
      " 0   RecordID          25277 non-null  int64         \n",
      " 1   Offense           25277 non-null  object        \n",
      " 2   IncidentID        25277 non-null  object        \n",
      " 3   BlockNumber       25277 non-null  object        \n",
      " 4   StreetName        25277 non-null  object        \n",
      " 5   Agency            25277 non-null  object        \n",
      " 6   HourReported      25277 non-null  object        \n",
      " 7   ReportingOfficer  25260 non-null  object        \n",
      " 8   Date              25277 non-null  datetime64[ns]\n",
      " 9   DateString        25277 non-null  object        \n",
      " 10  DayOfWeek         25277 non-null  object        \n",
      " 11  Weekend           25277 non-null  bool          \n",
      " 12  Season            25277 non-null  object        \n",
      " 13  HourAMPM          25277 non-null  object        \n",
      " 14  TimeOfDay         25277 non-null  object        \n",
      "dtypes: bool(1), datetime64[ns](1), int64(1), object(12)\n",
      "memory usage: 2.7+ MB\n"
     ]
    }
   ],
   "source": [
    "df.info()"
   ]
  },
  {
   "cell_type": "markdown",
   "id": "33379083",
   "metadata": {
    "papermill": {
     "duration": 0.005914,
     "end_time": "2025-04-28T01:03:46.214922",
     "exception": false,
     "start_time": "2025-04-28T01:03:46.209008",
     "status": "completed"
    },
    "tags": []
   },
   "source": [
    "### Coordinates"
   ]
  },
  {
   "cell_type": "code",
   "execution_count": 9,
   "id": "64b8f8b3",
   "metadata": {
    "execution": {
     "iopub.execute_input": "2025-04-28T01:03:46.227808Z",
     "iopub.status.busy": "2025-04-28T01:03:46.227408Z",
     "iopub.status.idle": "2025-04-28T01:03:46.442834Z",
     "shell.execute_reply": "2025-04-28T01:03:46.442169Z"
    },
    "papermill": {
     "duration": 0.223058,
     "end_time": "2025-04-28T01:03:46.443943",
     "exception": false,
     "start_time": "2025-04-28T01:03:46.220885",
     "status": "completed"
    },
    "tags": []
   },
   "outputs": [
    {
     "name": "stdout",
     "output_type": "stream",
     "text": [
      "Loaded geocode cache.\n"
     ]
    },
    {
     "name": "stdout",
     "output_type": "stream",
     "text": [
      "Geocoded 200 15TH ST NW, 301: 38.0351623, -78.49955159999999\n",
      "Geocode cache updated and saved.\n"
     ]
    },
    {
     "data": {
      "text/html": [
       "<div>\n",
       "<style scoped>\n",
       "    .dataframe tbody tr th:only-of-type {\n",
       "        vertical-align: middle;\n",
       "    }\n",
       "\n",
       "    .dataframe tbody tr th {\n",
       "        vertical-align: top;\n",
       "    }\n",
       "\n",
       "    .dataframe thead th {\n",
       "        text-align: right;\n",
       "    }\n",
       "</style>\n",
       "<table border=\"1\" class=\"dataframe\">\n",
       "  <thead>\n",
       "    <tr style=\"text-align: right;\">\n",
       "      <th></th>\n",
       "      <th>RecordID</th>\n",
       "      <th>Offense</th>\n",
       "      <th>IncidentID</th>\n",
       "      <th>BlockNumber</th>\n",
       "      <th>StreetName</th>\n",
       "      <th>Agency</th>\n",
       "      <th>HourReported</th>\n",
       "      <th>ReportingOfficer</th>\n",
       "      <th>Date</th>\n",
       "      <th>DateString</th>\n",
       "      <th>DayOfWeek</th>\n",
       "      <th>Weekend</th>\n",
       "      <th>Season</th>\n",
       "      <th>HourAMPM</th>\n",
       "      <th>TimeOfDay</th>\n",
       "      <th>FullStreet</th>\n",
       "      <th>lat</th>\n",
       "      <th>lon</th>\n",
       "    </tr>\n",
       "  </thead>\n",
       "  <tbody>\n",
       "    <tr>\n",
       "      <th>0</th>\n",
       "      <td>1</td>\n",
       "      <td>Hit and Run</td>\n",
       "      <td>202500013591</td>\n",
       "      <td>500</td>\n",
       "      <td>MEADE AVE</td>\n",
       "      <td>CPD</td>\n",
       "      <td>2156</td>\n",
       "      <td>Crowley, Raeann</td>\n",
       "      <td>2025-04-25 21:56:56</td>\n",
       "      <td>2025-04-25 09:56:56 PM</td>\n",
       "      <td>Friday</td>\n",
       "      <td>False</td>\n",
       "      <td>Spring</td>\n",
       "      <td>09:56 PM</td>\n",
       "      <td>Night</td>\n",
       "      <td>500 MEADE AVE</td>\n",
       "      <td>38.030163</td>\n",
       "      <td>-78.464952</td>\n",
       "    </tr>\n",
       "    <tr>\n",
       "      <th>1</th>\n",
       "      <td>2</td>\n",
       "      <td>Suspicious Activity</td>\n",
       "      <td>202500013573</td>\n",
       "      <td>1500</td>\n",
       "      <td>VIRGINIA AVE</td>\n",
       "      <td>CPD</td>\n",
       "      <td>1931</td>\n",
       "      <td>Rigsby, Lloyd</td>\n",
       "      <td>2025-04-25 19:31:13</td>\n",
       "      <td>2025-04-25 07:31:13 PM</td>\n",
       "      <td>Friday</td>\n",
       "      <td>False</td>\n",
       "      <td>Spring</td>\n",
       "      <td>07:31 PM</td>\n",
       "      <td>Evening</td>\n",
       "      <td>1500 VIRGINIA AVE</td>\n",
       "      <td>38.038025</td>\n",
       "      <td>-78.498790</td>\n",
       "    </tr>\n",
       "    <tr>\n",
       "      <th>2</th>\n",
       "      <td>3</td>\n",
       "      <td>Burglary</td>\n",
       "      <td>202500013569</td>\n",
       "      <td>900</td>\n",
       "      <td>ST CLAIR AVE</td>\n",
       "      <td>CPD</td>\n",
       "      <td>1854</td>\n",
       "      <td>Crowley, Raeann</td>\n",
       "      <td>2025-04-25 18:54:52</td>\n",
       "      <td>2025-04-25 06:54:52 PM</td>\n",
       "      <td>Friday</td>\n",
       "      <td>False</td>\n",
       "      <td>Spring</td>\n",
       "      <td>06:54 PM</td>\n",
       "      <td>Evening</td>\n",
       "      <td>900 ST CLAIR AVE</td>\n",
       "      <td>38.037315</td>\n",
       "      <td>-78.463832</td>\n",
       "    </tr>\n",
       "    <tr>\n",
       "      <th>3</th>\n",
       "      <td>4</td>\n",
       "      <td>Trespass</td>\n",
       "      <td>202500013564</td>\n",
       "      <td>700</td>\n",
       "      <td>E MAIN ST</td>\n",
       "      <td>CPD</td>\n",
       "      <td>1821</td>\n",
       "      <td>Ryan, Matthew</td>\n",
       "      <td>2025-04-25 18:21:19</td>\n",
       "      <td>2025-04-25 06:21:19 PM</td>\n",
       "      <td>Friday</td>\n",
       "      <td>False</td>\n",
       "      <td>Spring</td>\n",
       "      <td>06:21 PM</td>\n",
       "      <td>Evening</td>\n",
       "      <td>700 E MAIN ST</td>\n",
       "      <td>38.029237</td>\n",
       "      <td>-78.476613</td>\n",
       "    </tr>\n",
       "    <tr>\n",
       "      <th>4</th>\n",
       "      <td>5</td>\n",
       "      <td>Larceny - Shoplifitng</td>\n",
       "      <td>202500013554</td>\n",
       "      <td>200</td>\n",
       "      <td>E MAIN ST</td>\n",
       "      <td>CPD</td>\n",
       "      <td>1719</td>\n",
       "      <td>Abdelgayed, Adam</td>\n",
       "      <td>2025-04-25 17:19:21</td>\n",
       "      <td>2025-04-25 05:19:21 PM</td>\n",
       "      <td>Friday</td>\n",
       "      <td>False</td>\n",
       "      <td>Spring</td>\n",
       "      <td>05:19 PM</td>\n",
       "      <td>Evening</td>\n",
       "      <td>200 E MAIN ST</td>\n",
       "      <td>38.030572</td>\n",
       "      <td>-78.480764</td>\n",
       "    </tr>\n",
       "  </tbody>\n",
       "</table>\n",
       "</div>"
      ],
      "text/plain": [
       "   RecordID                Offense    IncidentID BlockNumber    StreetName  \\\n",
       "0         1            Hit and Run  202500013591         500     MEADE AVE   \n",
       "1         2    Suspicious Activity  202500013573        1500  VIRGINIA AVE   \n",
       "2         3               Burglary  202500013569         900  ST CLAIR AVE   \n",
       "3         4               Trespass  202500013564         700     E MAIN ST   \n",
       "4         5  Larceny - Shoplifitng  202500013554         200     E MAIN ST   \n",
       "\n",
       "  Agency HourReported  ReportingOfficer                Date  \\\n",
       "0    CPD         2156   Crowley, Raeann 2025-04-25 21:56:56   \n",
       "1    CPD         1931     Rigsby, Lloyd 2025-04-25 19:31:13   \n",
       "2    CPD         1854   Crowley, Raeann 2025-04-25 18:54:52   \n",
       "3    CPD         1821     Ryan, Matthew 2025-04-25 18:21:19   \n",
       "4    CPD         1719  Abdelgayed, Adam 2025-04-25 17:19:21   \n",
       "\n",
       "               DateString DayOfWeek  Weekend  Season  HourAMPM TimeOfDay  \\\n",
       "0  2025-04-25 09:56:56 PM    Friday    False  Spring  09:56 PM     Night   \n",
       "1  2025-04-25 07:31:13 PM    Friday    False  Spring  07:31 PM   Evening   \n",
       "2  2025-04-25 06:54:52 PM    Friday    False  Spring  06:54 PM   Evening   \n",
       "3  2025-04-25 06:21:19 PM    Friday    False  Spring  06:21 PM   Evening   \n",
       "4  2025-04-25 05:19:21 PM    Friday    False  Spring  05:19 PM   Evening   \n",
       "\n",
       "          FullStreet        lat        lon  \n",
       "0      500 MEADE AVE  38.030163 -78.464952  \n",
       "1  1500 VIRGINIA AVE  38.038025 -78.498790  \n",
       "2   900 ST CLAIR AVE  38.037315 -78.463832  \n",
       "3      700 E MAIN ST  38.029237 -78.476613  \n",
       "4      200 E MAIN ST  38.030572 -78.480764  "
      ]
     },
     "execution_count": 9,
     "metadata": {},
     "output_type": "execute_result"
    }
   ],
   "source": [
    "# Combine BlockNumber and StreetName into a full address string\n",
    "df['FullStreet'] = df['BlockNumber'].astype(str) + \" \" + df['StreetName']\n",
    "\n",
    "# --- Step 1: Setup the Google Maps Client and Cache ---\n",
    "gmaps = googlemaps.Client(key=GOOGLE_API_KEY)\n",
    "\n",
    "# Try to load cached geocoding results if available.\n",
    "try:\n",
    "    with open(\"geocode_cache_google.pkl\", \"rb\") as f:\n",
    "        street_coords = pickle.load(f)\n",
    "    print(\"Loaded geocode cache.\")\n",
    "except FileNotFoundError:\n",
    "    street_coords = {}\n",
    "    print(\"No cache found; starting fresh.\")\n",
    "\n",
    "def geocode_address(address):\n",
    "    try:\n",
    "        # Append city and state to help geocoding\n",
    "        result = gmaps.geocode(f\"{address}, Charlottesville, VA\")\n",
    "        if result:\n",
    "            lat = result[0]['geometry']['location']['lat']\n",
    "            lon = result[0]['geometry']['location']['lng']\n",
    "            return lat, lon\n",
    "    except Exception as e:\n",
    "        print(f\"Error geocoding {address}: {e}\")\n",
    "    return None, None\n",
    "\n",
    "# --- Step 2: Geocode Only New Addresses ---\n",
    "unique_addresses = df['FullStreet'].unique()\n",
    "for address in unique_addresses:\n",
    "    if address not in street_coords:\n",
    "        lat, lon = geocode_address(address)\n",
    "        street_coords[address] = (lat, lon)\n",
    "        print(f\"Geocoded {address}: {lat}, {lon}\")\n",
    "\n",
    "# Save the updated cache to disk.\n",
    "with open(\"geocode_cache_google.pkl\", \"wb\") as f:\n",
    "    pickle.dump(street_coords, f)\n",
    "    print(\"Geocode cache updated and saved.\")\n",
    "\n",
    "# --- Step 3: Map Coordinates Back to DataFrame ---\n",
    "df['lat'] = df['FullStreet'].map(lambda s: street_coords.get(s, (None, None))[0])\n",
    "df['lon'] = df['FullStreet'].map(lambda s: street_coords.get(s, (None, None))[1])\n",
    "\n",
    "df.head()"
   ]
  },
  {
   "cell_type": "markdown",
   "id": "70101b5e",
   "metadata": {
    "papermill": {
     "duration": 0.006207,
     "end_time": "2025-04-28T01:03:46.456846",
     "exception": false,
     "start_time": "2025-04-28T01:03:46.450639",
     "status": "completed"
    },
    "tags": []
   },
   "source": [
    "### Neighborhood"
   ]
  },
  {
   "cell_type": "code",
   "execution_count": 10,
   "id": "07e47808",
   "metadata": {
    "execution": {
     "iopub.execute_input": "2025-04-28T01:03:46.470278Z",
     "iopub.status.busy": "2025-04-28T01:03:46.469872Z",
     "iopub.status.idle": "2025-04-28T01:03:46.722768Z",
     "shell.execute_reply": "2025-04-28T01:03:46.722178Z"
    },
    "papermill": {
     "duration": 0.260715,
     "end_time": "2025-04-28T01:03:46.723792",
     "exception": false,
     "start_time": "2025-04-28T01:03:46.463077",
     "status": "completed"
    },
    "tags": []
   },
   "outputs": [
    {
     "name": "stdout",
     "output_type": "stream",
     "text": [
      "Loaded neighborhood cache.\n"
     ]
    },
    {
     "data": {
      "text/html": [
       "<div>\n",
       "<style scoped>\n",
       "    .dataframe tbody tr th:only-of-type {\n",
       "        vertical-align: middle;\n",
       "    }\n",
       "\n",
       "    .dataframe tbody tr th {\n",
       "        vertical-align: top;\n",
       "    }\n",
       "\n",
       "    .dataframe thead th {\n",
       "        text-align: right;\n",
       "    }\n",
       "</style>\n",
       "<table border=\"1\" class=\"dataframe\">\n",
       "  <thead>\n",
       "    <tr style=\"text-align: right;\">\n",
       "      <th></th>\n",
       "      <th>RecordID</th>\n",
       "      <th>Offense</th>\n",
       "      <th>IncidentID</th>\n",
       "      <th>BlockNumber</th>\n",
       "      <th>StreetName</th>\n",
       "      <th>Agency</th>\n",
       "      <th>HourReported</th>\n",
       "      <th>ReportingOfficer</th>\n",
       "      <th>Date</th>\n",
       "      <th>DateString</th>\n",
       "      <th>DayOfWeek</th>\n",
       "      <th>Weekend</th>\n",
       "      <th>Season</th>\n",
       "      <th>HourAMPM</th>\n",
       "      <th>TimeOfDay</th>\n",
       "      <th>FullStreet</th>\n",
       "      <th>lat</th>\n",
       "      <th>lon</th>\n",
       "      <th>neighborhood</th>\n",
       "    </tr>\n",
       "  </thead>\n",
       "  <tbody>\n",
       "    <tr>\n",
       "      <th>0</th>\n",
       "      <td>1</td>\n",
       "      <td>Hit and Run</td>\n",
       "      <td>202500013591</td>\n",
       "      <td>500</td>\n",
       "      <td>MEADE AVE</td>\n",
       "      <td>CPD</td>\n",
       "      <td>2156</td>\n",
       "      <td>Crowley, Raeann</td>\n",
       "      <td>2025-04-25 21:56:56</td>\n",
       "      <td>2025-04-25 09:56:56 PM</td>\n",
       "      <td>Friday</td>\n",
       "      <td>False</td>\n",
       "      <td>Spring</td>\n",
       "      <td>09:56 PM</td>\n",
       "      <td>Night</td>\n",
       "      <td>500 MEADE AVE</td>\n",
       "      <td>38.030163</td>\n",
       "      <td>-78.464952</td>\n",
       "      <td>Martha Jefferson</td>\n",
       "    </tr>\n",
       "    <tr>\n",
       "      <th>1</th>\n",
       "      <td>2</td>\n",
       "      <td>Suspicious Activity</td>\n",
       "      <td>202500013573</td>\n",
       "      <td>1500</td>\n",
       "      <td>VIRGINIA AVE</td>\n",
       "      <td>CPD</td>\n",
       "      <td>1931</td>\n",
       "      <td>Rigsby, Lloyd</td>\n",
       "      <td>2025-04-25 19:31:13</td>\n",
       "      <td>2025-04-25 07:31:13 PM</td>\n",
       "      <td>Friday</td>\n",
       "      <td>False</td>\n",
       "      <td>Spring</td>\n",
       "      <td>07:31 PM</td>\n",
       "      <td>Evening</td>\n",
       "      <td>1500 VIRGINIA AVE</td>\n",
       "      <td>38.038025</td>\n",
       "      <td>-78.498790</td>\n",
       "      <td>Venable</td>\n",
       "    </tr>\n",
       "    <tr>\n",
       "      <th>2</th>\n",
       "      <td>3</td>\n",
       "      <td>Burglary</td>\n",
       "      <td>202500013569</td>\n",
       "      <td>900</td>\n",
       "      <td>ST CLAIR AVE</td>\n",
       "      <td>CPD</td>\n",
       "      <td>1854</td>\n",
       "      <td>Crowley, Raeann</td>\n",
       "      <td>2025-04-25 18:54:52</td>\n",
       "      <td>2025-04-25 06:54:52 PM</td>\n",
       "      <td>Friday</td>\n",
       "      <td>False</td>\n",
       "      <td>Spring</td>\n",
       "      <td>06:54 PM</td>\n",
       "      <td>Evening</td>\n",
       "      <td>900 ST CLAIR AVE</td>\n",
       "      <td>38.037315</td>\n",
       "      <td>-78.463832</td>\n",
       "      <td>Locust Grove</td>\n",
       "    </tr>\n",
       "    <tr>\n",
       "      <th>3</th>\n",
       "      <td>4</td>\n",
       "      <td>Trespass</td>\n",
       "      <td>202500013564</td>\n",
       "      <td>700</td>\n",
       "      <td>E MAIN ST</td>\n",
       "      <td>CPD</td>\n",
       "      <td>1821</td>\n",
       "      <td>Ryan, Matthew</td>\n",
       "      <td>2025-04-25 18:21:19</td>\n",
       "      <td>2025-04-25 06:21:19 PM</td>\n",
       "      <td>Friday</td>\n",
       "      <td>False</td>\n",
       "      <td>Spring</td>\n",
       "      <td>06:21 PM</td>\n",
       "      <td>Evening</td>\n",
       "      <td>700 E MAIN ST</td>\n",
       "      <td>38.029237</td>\n",
       "      <td>-78.476613</td>\n",
       "      <td>Downtown Mall</td>\n",
       "    </tr>\n",
       "    <tr>\n",
       "      <th>4</th>\n",
       "      <td>5</td>\n",
       "      <td>Larceny - Shoplifitng</td>\n",
       "      <td>202500013554</td>\n",
       "      <td>200</td>\n",
       "      <td>E MAIN ST</td>\n",
       "      <td>CPD</td>\n",
       "      <td>1719</td>\n",
       "      <td>Abdelgayed, Adam</td>\n",
       "      <td>2025-04-25 17:19:21</td>\n",
       "      <td>2025-04-25 05:19:21 PM</td>\n",
       "      <td>Friday</td>\n",
       "      <td>False</td>\n",
       "      <td>Spring</td>\n",
       "      <td>05:19 PM</td>\n",
       "      <td>Evening</td>\n",
       "      <td>200 E MAIN ST</td>\n",
       "      <td>38.030572</td>\n",
       "      <td>-78.480764</td>\n",
       "      <td>Downtown Mall</td>\n",
       "    </tr>\n",
       "  </tbody>\n",
       "</table>\n",
       "</div>"
      ],
      "text/plain": [
       "   RecordID                Offense    IncidentID BlockNumber    StreetName  \\\n",
       "0         1            Hit and Run  202500013591         500     MEADE AVE   \n",
       "1         2    Suspicious Activity  202500013573        1500  VIRGINIA AVE   \n",
       "2         3               Burglary  202500013569         900  ST CLAIR AVE   \n",
       "3         4               Trespass  202500013564         700     E MAIN ST   \n",
       "4         5  Larceny - Shoplifitng  202500013554         200     E MAIN ST   \n",
       "\n",
       "  Agency HourReported  ReportingOfficer                Date  \\\n",
       "0    CPD         2156   Crowley, Raeann 2025-04-25 21:56:56   \n",
       "1    CPD         1931     Rigsby, Lloyd 2025-04-25 19:31:13   \n",
       "2    CPD         1854   Crowley, Raeann 2025-04-25 18:54:52   \n",
       "3    CPD         1821     Ryan, Matthew 2025-04-25 18:21:19   \n",
       "4    CPD         1719  Abdelgayed, Adam 2025-04-25 17:19:21   \n",
       "\n",
       "               DateString DayOfWeek  Weekend  Season  HourAMPM TimeOfDay  \\\n",
       "0  2025-04-25 09:56:56 PM    Friday    False  Spring  09:56 PM     Night   \n",
       "1  2025-04-25 07:31:13 PM    Friday    False  Spring  07:31 PM   Evening   \n",
       "2  2025-04-25 06:54:52 PM    Friday    False  Spring  06:54 PM   Evening   \n",
       "3  2025-04-25 06:21:19 PM    Friday    False  Spring  06:21 PM   Evening   \n",
       "4  2025-04-25 05:19:21 PM    Friday    False  Spring  05:19 PM   Evening   \n",
       "\n",
       "          FullStreet        lat        lon      neighborhood  \n",
       "0      500 MEADE AVE  38.030163 -78.464952  Martha Jefferson  \n",
       "1  1500 VIRGINIA AVE  38.038025 -78.498790           Venable  \n",
       "2   900 ST CLAIR AVE  38.037315 -78.463832      Locust Grove  \n",
       "3      700 E MAIN ST  38.029237 -78.476613     Downtown Mall  \n",
       "4      200 E MAIN ST  38.030572 -78.480764     Downtown Mall  "
      ]
     },
     "execution_count": 10,
     "metadata": {},
     "output_type": "execute_result"
    }
   ],
   "source": [
    "# Initialize the Google Maps client.\n",
    "gmaps = googlemaps.Client(key=GOOGLE_API_KEY)\n",
    "\n",
    "# Try to load a persistent neighborhood cache if available.\n",
    "try:\n",
    "    with open(\"neighborhood_cache.pkl\", \"rb\") as f:\n",
    "        neighborhood_cache = pickle.load(f)\n",
    "    print(\"Loaded neighborhood cache.\")\n",
    "except FileNotFoundError:\n",
    "    neighborhood_cache = {}\n",
    "    print(\"No neighborhood cache found; starting fresh.\")\n",
    "\n",
    "def get_neighborhood(lat, lon):\n",
    "    \"\"\"\n",
    "    Reverse geocodes a latitude and longitude to retrieve the neighborhood.\n",
    "    Caches results to speed up subsequent lookups.\n",
    "    \"\"\"\n",
    "    key = (lat, lon)\n",
    "    if key in neighborhood_cache:\n",
    "        return neighborhood_cache[key]\n",
    "    \n",
    "    try:\n",
    "        result = gmaps.reverse_geocode((lat, lon))\n",
    "        if result:\n",
    "            # Look for the 'neighborhood' component in the first result.\n",
    "            for component in result[0]['address_components']:\n",
    "                if 'neighborhood' in component['types']:\n",
    "                    neighborhood = component['long_name']\n",
    "                    neighborhood_cache[key] = neighborhood\n",
    "                    return neighborhood\n",
    "            # If no neighborhood is found, return \"N/A\"\n",
    "            neighborhood_cache[key] = \"N/A\"\n",
    "            return \"N/A\"\n",
    "    except Exception as e:\n",
    "        print(f\"Error getting neighborhood for {lat}, {lon}: {e}\")\n",
    "        return \"N/A\"\n",
    "    \n",
    "    # Pause to respect usage limits.\n",
    "    time.sleep(1)\n",
    "\n",
    "# Example usage: Apply to your DataFrame 'df' that already has 'lat' and 'lon' columns.\n",
    "df['neighborhood'] = df.apply(lambda row: get_neighborhood(row['lat'], row['lon']), axis=1)\n",
    "\n",
    "# Save the updated neighborhood cache.\n",
    "with open(\"neighborhood_cache.pkl\", \"wb\") as f:\n",
    "    pickle.dump(neighborhood_cache, f)\n",
    "\n",
    "df.head()\n"
   ]
  },
  {
   "cell_type": "markdown",
   "id": "5dd4003f",
   "metadata": {
    "papermill": {
     "duration": 0.006434,
     "end_time": "2025-04-28T01:03:46.737131",
     "exception": false,
     "start_time": "2025-04-28T01:03:46.730697",
     "status": "completed"
    },
    "tags": []
   },
   "source": [
    "### Zip"
   ]
  },
  {
   "cell_type": "code",
   "execution_count": 11,
   "id": "b2aad79b",
   "metadata": {
    "execution": {
     "iopub.execute_input": "2025-04-28T01:03:46.751105Z",
     "iopub.status.busy": "2025-04-28T01:03:46.750672Z",
     "iopub.status.idle": "2025-04-28T01:03:46.985587Z",
     "shell.execute_reply": "2025-04-28T01:03:46.984985Z"
    },
    "papermill": {
     "duration": 0.242999,
     "end_time": "2025-04-28T01:03:46.986603",
     "exception": false,
     "start_time": "2025-04-28T01:03:46.743604",
     "status": "completed"
    },
    "tags": []
   },
   "outputs": [
    {
     "name": "stdout",
     "output_type": "stream",
     "text": [
      "Loaded zip cache.\n"
     ]
    },
    {
     "data": {
      "text/html": [
       "<div>\n",
       "<style scoped>\n",
       "    .dataframe tbody tr th:only-of-type {\n",
       "        vertical-align: middle;\n",
       "    }\n",
       "\n",
       "    .dataframe tbody tr th {\n",
       "        vertical-align: top;\n",
       "    }\n",
       "\n",
       "    .dataframe thead th {\n",
       "        text-align: right;\n",
       "    }\n",
       "</style>\n",
       "<table border=\"1\" class=\"dataframe\">\n",
       "  <thead>\n",
       "    <tr style=\"text-align: right;\">\n",
       "      <th></th>\n",
       "      <th>RecordID</th>\n",
       "      <th>Offense</th>\n",
       "      <th>IncidentID</th>\n",
       "      <th>BlockNumber</th>\n",
       "      <th>StreetName</th>\n",
       "      <th>Agency</th>\n",
       "      <th>HourReported</th>\n",
       "      <th>ReportingOfficer</th>\n",
       "      <th>Date</th>\n",
       "      <th>DateString</th>\n",
       "      <th>DayOfWeek</th>\n",
       "      <th>Weekend</th>\n",
       "      <th>Season</th>\n",
       "      <th>HourAMPM</th>\n",
       "      <th>TimeOfDay</th>\n",
       "      <th>FullStreet</th>\n",
       "      <th>lat</th>\n",
       "      <th>lon</th>\n",
       "      <th>neighborhood</th>\n",
       "      <th>zip</th>\n",
       "    </tr>\n",
       "  </thead>\n",
       "  <tbody>\n",
       "    <tr>\n",
       "      <th>0</th>\n",
       "      <td>1</td>\n",
       "      <td>Hit and Run</td>\n",
       "      <td>202500013591</td>\n",
       "      <td>500</td>\n",
       "      <td>MEADE AVE</td>\n",
       "      <td>CPD</td>\n",
       "      <td>2156</td>\n",
       "      <td>Crowley, Raeann</td>\n",
       "      <td>2025-04-25 21:56:56</td>\n",
       "      <td>2025-04-25 09:56:56 PM</td>\n",
       "      <td>Friday</td>\n",
       "      <td>False</td>\n",
       "      <td>Spring</td>\n",
       "      <td>09:56 PM</td>\n",
       "      <td>Night</td>\n",
       "      <td>500 MEADE AVE</td>\n",
       "      <td>38.030163</td>\n",
       "      <td>-78.464952</td>\n",
       "      <td>Martha Jefferson</td>\n",
       "      <td>22092</td>\n",
       "    </tr>\n",
       "    <tr>\n",
       "      <th>1</th>\n",
       "      <td>2</td>\n",
       "      <td>Suspicious Activity</td>\n",
       "      <td>202500013573</td>\n",
       "      <td>1500</td>\n",
       "      <td>VIRGINIA AVE</td>\n",
       "      <td>CPD</td>\n",
       "      <td>1931</td>\n",
       "      <td>Rigsby, Lloyd</td>\n",
       "      <td>2025-04-25 19:31:13</td>\n",
       "      <td>2025-04-25 07:31:13 PM</td>\n",
       "      <td>Friday</td>\n",
       "      <td>False</td>\n",
       "      <td>Spring</td>\n",
       "      <td>07:31 PM</td>\n",
       "      <td>Evening</td>\n",
       "      <td>1500 VIRGINIA AVE</td>\n",
       "      <td>38.038025</td>\n",
       "      <td>-78.498790</td>\n",
       "      <td>Venable</td>\n",
       "      <td>22903</td>\n",
       "    </tr>\n",
       "    <tr>\n",
       "      <th>2</th>\n",
       "      <td>3</td>\n",
       "      <td>Burglary</td>\n",
       "      <td>202500013569</td>\n",
       "      <td>900</td>\n",
       "      <td>ST CLAIR AVE</td>\n",
       "      <td>CPD</td>\n",
       "      <td>1854</td>\n",
       "      <td>Crowley, Raeann</td>\n",
       "      <td>2025-04-25 18:54:52</td>\n",
       "      <td>2025-04-25 06:54:52 PM</td>\n",
       "      <td>Friday</td>\n",
       "      <td>False</td>\n",
       "      <td>Spring</td>\n",
       "      <td>06:54 PM</td>\n",
       "      <td>Evening</td>\n",
       "      <td>900 ST CLAIR AVE</td>\n",
       "      <td>38.037315</td>\n",
       "      <td>-78.463832</td>\n",
       "      <td>Locust Grove</td>\n",
       "      <td>22901</td>\n",
       "    </tr>\n",
       "    <tr>\n",
       "      <th>3</th>\n",
       "      <td>4</td>\n",
       "      <td>Trespass</td>\n",
       "      <td>202500013564</td>\n",
       "      <td>700</td>\n",
       "      <td>E MAIN ST</td>\n",
       "      <td>CPD</td>\n",
       "      <td>1821</td>\n",
       "      <td>Ryan, Matthew</td>\n",
       "      <td>2025-04-25 18:21:19</td>\n",
       "      <td>2025-04-25 06:21:19 PM</td>\n",
       "      <td>Friday</td>\n",
       "      <td>False</td>\n",
       "      <td>Spring</td>\n",
       "      <td>06:21 PM</td>\n",
       "      <td>Evening</td>\n",
       "      <td>700 E MAIN ST</td>\n",
       "      <td>38.029237</td>\n",
       "      <td>-78.476613</td>\n",
       "      <td>Downtown Mall</td>\n",
       "      <td>22902</td>\n",
       "    </tr>\n",
       "    <tr>\n",
       "      <th>4</th>\n",
       "      <td>5</td>\n",
       "      <td>Larceny - Shoplifitng</td>\n",
       "      <td>202500013554</td>\n",
       "      <td>200</td>\n",
       "      <td>E MAIN ST</td>\n",
       "      <td>CPD</td>\n",
       "      <td>1719</td>\n",
       "      <td>Abdelgayed, Adam</td>\n",
       "      <td>2025-04-25 17:19:21</td>\n",
       "      <td>2025-04-25 05:19:21 PM</td>\n",
       "      <td>Friday</td>\n",
       "      <td>False</td>\n",
       "      <td>Spring</td>\n",
       "      <td>05:19 PM</td>\n",
       "      <td>Evening</td>\n",
       "      <td>200 E MAIN ST</td>\n",
       "      <td>38.030572</td>\n",
       "      <td>-78.480764</td>\n",
       "      <td>Downtown Mall</td>\n",
       "      <td>22902</td>\n",
       "    </tr>\n",
       "  </tbody>\n",
       "</table>\n",
       "</div>"
      ],
      "text/plain": [
       "   RecordID                Offense    IncidentID BlockNumber    StreetName  \\\n",
       "0         1            Hit and Run  202500013591         500     MEADE AVE   \n",
       "1         2    Suspicious Activity  202500013573        1500  VIRGINIA AVE   \n",
       "2         3               Burglary  202500013569         900  ST CLAIR AVE   \n",
       "3         4               Trespass  202500013564         700     E MAIN ST   \n",
       "4         5  Larceny - Shoplifitng  202500013554         200     E MAIN ST   \n",
       "\n",
       "  Agency HourReported  ReportingOfficer                Date  \\\n",
       "0    CPD         2156   Crowley, Raeann 2025-04-25 21:56:56   \n",
       "1    CPD         1931     Rigsby, Lloyd 2025-04-25 19:31:13   \n",
       "2    CPD         1854   Crowley, Raeann 2025-04-25 18:54:52   \n",
       "3    CPD         1821     Ryan, Matthew 2025-04-25 18:21:19   \n",
       "4    CPD         1719  Abdelgayed, Adam 2025-04-25 17:19:21   \n",
       "\n",
       "               DateString DayOfWeek  Weekend  Season  HourAMPM TimeOfDay  \\\n",
       "0  2025-04-25 09:56:56 PM    Friday    False  Spring  09:56 PM     Night   \n",
       "1  2025-04-25 07:31:13 PM    Friday    False  Spring  07:31 PM   Evening   \n",
       "2  2025-04-25 06:54:52 PM    Friday    False  Spring  06:54 PM   Evening   \n",
       "3  2025-04-25 06:21:19 PM    Friday    False  Spring  06:21 PM   Evening   \n",
       "4  2025-04-25 05:19:21 PM    Friday    False  Spring  05:19 PM   Evening   \n",
       "\n",
       "          FullStreet        lat        lon      neighborhood    zip  \n",
       "0      500 MEADE AVE  38.030163 -78.464952  Martha Jefferson  22092  \n",
       "1  1500 VIRGINIA AVE  38.038025 -78.498790           Venable  22903  \n",
       "2   900 ST CLAIR AVE  38.037315 -78.463832      Locust Grove  22901  \n",
       "3      700 E MAIN ST  38.029237 -78.476613     Downtown Mall  22902  \n",
       "4      200 E MAIN ST  38.030572 -78.480764     Downtown Mall  22902  "
      ]
     },
     "execution_count": 11,
     "metadata": {},
     "output_type": "execute_result"
    }
   ],
   "source": [
    "# Initialize the geocoder.\n",
    "geolocator = Nominatim(user_agent=\"zip_lookup\")\n",
    "\n",
    "# Try to load a persistent ZIP cache if available.\n",
    "try:\n",
    "    with open(\"zip_cache.pkl\", \"rb\") as f:\n",
    "        zip_cache = pickle.load(f)\n",
    "    print(\"Loaded zip cache.\")\n",
    "except FileNotFoundError:\n",
    "    zip_cache = {}\n",
    "    print(\"No zip cache found; starting fresh.\")\n",
    "\n",
    "def get_zip(lat, lon):\n",
    "    \"\"\"\n",
    "    Reverse geocodes a latitude and longitude to retrieve the ZIP code.\n",
    "    Caches results to speed up subsequent lookups.\n",
    "    \"\"\"\n",
    "    key = (lat, lon)\n",
    "    if key in zip_cache:\n",
    "        return zip_cache[key]\n",
    "    \n",
    "    try:\n",
    "        location = geolocator.reverse((lat, lon), exactly_one=True, timeout=10)\n",
    "        address = location.raw.get('address', {})\n",
    "        postal_code = address.get('postcode', \"N/A\")\n",
    "    except Exception as e:\n",
    "        print(f\"Error getting ZIP for {lat}, {lon}: {e}\")\n",
    "        postal_code = \"N/A\"\n",
    "    \n",
    "    zip_cache[key] = postal_code\n",
    "    # Pause to respect the usage policy.\n",
    "    time.sleep(1)\n",
    "    return postal_code\n",
    "\n",
    "# Apply the function to each row in the DataFrame.\n",
    "df['zip'] = df.apply(lambda row: get_zip(row['lat'], row['lon']), axis=1)\n",
    "\n",
    "# Save the updated ZIP cache.\n",
    "with open(\"zip_cache.pkl\", \"wb\") as f:\n",
    "    pickle.dump(zip_cache, f)\n",
    "\n",
    "df.head()\n"
   ]
  },
  {
   "cell_type": "code",
   "execution_count": 12,
   "id": "6c002949",
   "metadata": {
    "execution": {
     "iopub.execute_input": "2025-04-28T01:03:47.001695Z",
     "iopub.status.busy": "2025-04-28T01:03:47.001135Z",
     "iopub.status.idle": "2025-04-28T01:03:47.029643Z",
     "shell.execute_reply": "2025-04-28T01:03:47.029060Z"
    },
    "papermill": {
     "duration": 0.036862,
     "end_time": "2025-04-28T01:03:47.030622",
     "exception": false,
     "start_time": "2025-04-28T01:03:46.993760",
     "status": "completed"
    },
    "tags": []
   },
   "outputs": [
    {
     "name": "stdout",
     "output_type": "stream",
     "text": [
      "                  MissingCount  MissingPercentage\n",
      "RecordID                     0               0.00\n",
      "Offense                      0               0.00\n",
      "IncidentID                   0               0.00\n",
      "BlockNumber                  0               0.00\n",
      "StreetName                   0               0.00\n",
      "Agency                       0               0.00\n",
      "HourReported                 0               0.00\n",
      "ReportingOfficer            17               0.07\n",
      "Date                         0               0.00\n",
      "DateString                   0               0.00\n",
      "DayOfWeek                    0               0.00\n",
      "Weekend                      0               0.00\n",
      "Season                       0               0.00\n",
      "HourAMPM                     0               0.00\n",
      "TimeOfDay                    0               0.00\n",
      "FullStreet                   0               0.00\n",
      "lat                          0               0.00\n",
      "lon                          0               0.00\n",
      "neighborhood                 0               0.00\n",
      "zip                          0               0.00\n"
     ]
    }
   ],
   "source": [
    "missing_info = missing_percentage(df)\n",
    "print(missing_info)\n"
   ]
  },
  {
   "cell_type": "code",
   "execution_count": 13,
   "id": "b0decabd",
   "metadata": {
    "execution": {
     "iopub.execute_input": "2025-04-28T01:03:47.045618Z",
     "iopub.status.busy": "2025-04-28T01:03:47.045375Z",
     "iopub.status.idle": "2025-04-28T01:03:47.076728Z",
     "shell.execute_reply": "2025-04-28T01:03:47.076158Z"
    },
    "papermill": {
     "duration": 0.03997,
     "end_time": "2025-04-28T01:03:47.077738",
     "exception": false,
     "start_time": "2025-04-28T01:03:47.037768",
     "status": "completed"
    },
    "tags": []
   },
   "outputs": [
    {
     "name": "stdout",
     "output_type": "stream",
     "text": [
      "<class 'pandas.core.frame.DataFrame'>\n",
      "RangeIndex: 25277 entries, 0 to 25276\n",
      "Data columns (total 20 columns):\n",
      " #   Column            Non-Null Count  Dtype         \n",
      "---  ------            --------------  -----         \n",
      " 0   RecordID          25277 non-null  int64         \n",
      " 1   Offense           25277 non-null  object        \n",
      " 2   IncidentID        25277 non-null  object        \n",
      " 3   BlockNumber       25277 non-null  object        \n",
      " 4   StreetName        25277 non-null  object        \n",
      " 5   Agency            25277 non-null  object        \n",
      " 6   HourReported      25277 non-null  object        \n",
      " 7   ReportingOfficer  25260 non-null  object        \n",
      " 8   Date              25277 non-null  datetime64[ns]\n",
      " 9   DateString        25277 non-null  object        \n",
      " 10  DayOfWeek         25277 non-null  object        \n",
      " 11  Weekend           25277 non-null  bool          \n",
      " 12  Season            25277 non-null  object        \n",
      " 13  HourAMPM          25277 non-null  object        \n",
      " 14  TimeOfDay         25277 non-null  object        \n",
      " 15  FullStreet        25277 non-null  object        \n",
      " 16  lat               25277 non-null  float64       \n",
      " 17  lon               25277 non-null  float64       \n",
      " 18  neighborhood      25277 non-null  object        \n",
      " 19  zip               25277 non-null  object        \n",
      "dtypes: bool(1), datetime64[ns](1), float64(2), int64(1), object(15)\n",
      "memory usage: 3.7+ MB\n"
     ]
    }
   ],
   "source": [
    "df.info()"
   ]
  },
  {
   "cell_type": "code",
   "execution_count": 14,
   "id": "6b82dc43",
   "metadata": {
    "execution": {
     "iopub.execute_input": "2025-04-28T01:03:47.093151Z",
     "iopub.status.busy": "2025-04-28T01:03:47.092612Z",
     "iopub.status.idle": "2025-04-28T01:03:47.134776Z",
     "shell.execute_reply": "2025-04-28T01:03:47.134089Z"
    },
    "papermill": {
     "duration": 0.050796,
     "end_time": "2025-04-28T01:03:47.135864",
     "exception": false,
     "start_time": "2025-04-28T01:03:47.085068",
     "status": "completed"
    },
    "tags": []
   },
   "outputs": [
    {
     "data": {
      "text/html": [
       "<div>\n",
       "<style scoped>\n",
       "    .dataframe tbody tr th:only-of-type {\n",
       "        vertical-align: middle;\n",
       "    }\n",
       "\n",
       "    .dataframe tbody tr th {\n",
       "        vertical-align: top;\n",
       "    }\n",
       "\n",
       "    .dataframe thead th {\n",
       "        text-align: right;\n",
       "    }\n",
       "</style>\n",
       "<table border=\"1\" class=\"dataframe\">\n",
       "  <thead>\n",
       "    <tr style=\"text-align: right;\">\n",
       "      <th></th>\n",
       "      <th>RecordID</th>\n",
       "      <th>Offense</th>\n",
       "      <th>IncidentID</th>\n",
       "      <th>Agency</th>\n",
       "      <th>ReportingOfficer</th>\n",
       "      <th>Date</th>\n",
       "      <th>DayOfWeek</th>\n",
       "      <th>Weekend</th>\n",
       "      <th>Season</th>\n",
       "      <th>TimeOfDay</th>\n",
       "      <th>FullStreet</th>\n",
       "      <th>lat</th>\n",
       "      <th>lon</th>\n",
       "      <th>neighborhood</th>\n",
       "      <th>zip</th>\n",
       "    </tr>\n",
       "  </thead>\n",
       "  <tbody>\n",
       "    <tr>\n",
       "      <th>0</th>\n",
       "      <td>1</td>\n",
       "      <td>Hit and Run</td>\n",
       "      <td>202500013591</td>\n",
       "      <td>CPD</td>\n",
       "      <td>Crowley, Raeann</td>\n",
       "      <td>2025-04-25 21:56:56</td>\n",
       "      <td>Friday</td>\n",
       "      <td>False</td>\n",
       "      <td>Spring</td>\n",
       "      <td>Night</td>\n",
       "      <td>500 MEADE AVE</td>\n",
       "      <td>38.030163</td>\n",
       "      <td>-78.464952</td>\n",
       "      <td>Martha Jefferson</td>\n",
       "      <td>22092</td>\n",
       "    </tr>\n",
       "    <tr>\n",
       "      <th>1</th>\n",
       "      <td>2</td>\n",
       "      <td>Suspicious Activity</td>\n",
       "      <td>202500013573</td>\n",
       "      <td>CPD</td>\n",
       "      <td>Rigsby, Lloyd</td>\n",
       "      <td>2025-04-25 19:31:13</td>\n",
       "      <td>Friday</td>\n",
       "      <td>False</td>\n",
       "      <td>Spring</td>\n",
       "      <td>Evening</td>\n",
       "      <td>1500 VIRGINIA AVE</td>\n",
       "      <td>38.038025</td>\n",
       "      <td>-78.498790</td>\n",
       "      <td>Venable</td>\n",
       "      <td>22903</td>\n",
       "    </tr>\n",
       "    <tr>\n",
       "      <th>2</th>\n",
       "      <td>3</td>\n",
       "      <td>Burglary</td>\n",
       "      <td>202500013569</td>\n",
       "      <td>CPD</td>\n",
       "      <td>Crowley, Raeann</td>\n",
       "      <td>2025-04-25 18:54:52</td>\n",
       "      <td>Friday</td>\n",
       "      <td>False</td>\n",
       "      <td>Spring</td>\n",
       "      <td>Evening</td>\n",
       "      <td>900 ST CLAIR AVE</td>\n",
       "      <td>38.037315</td>\n",
       "      <td>-78.463832</td>\n",
       "      <td>Locust Grove</td>\n",
       "      <td>22901</td>\n",
       "    </tr>\n",
       "    <tr>\n",
       "      <th>3</th>\n",
       "      <td>4</td>\n",
       "      <td>Trespass</td>\n",
       "      <td>202500013564</td>\n",
       "      <td>CPD</td>\n",
       "      <td>Ryan, Matthew</td>\n",
       "      <td>2025-04-25 18:21:19</td>\n",
       "      <td>Friday</td>\n",
       "      <td>False</td>\n",
       "      <td>Spring</td>\n",
       "      <td>Evening</td>\n",
       "      <td>700 E MAIN ST</td>\n",
       "      <td>38.029237</td>\n",
       "      <td>-78.476613</td>\n",
       "      <td>Downtown Mall</td>\n",
       "      <td>22902</td>\n",
       "    </tr>\n",
       "    <tr>\n",
       "      <th>4</th>\n",
       "      <td>5</td>\n",
       "      <td>Larceny - Shoplifitng</td>\n",
       "      <td>202500013554</td>\n",
       "      <td>CPD</td>\n",
       "      <td>Abdelgayed, Adam</td>\n",
       "      <td>2025-04-25 17:19:21</td>\n",
       "      <td>Friday</td>\n",
       "      <td>False</td>\n",
       "      <td>Spring</td>\n",
       "      <td>Evening</td>\n",
       "      <td>200 E MAIN ST</td>\n",
       "      <td>38.030572</td>\n",
       "      <td>-78.480764</td>\n",
       "      <td>Downtown Mall</td>\n",
       "      <td>22902</td>\n",
       "    </tr>\n",
       "  </tbody>\n",
       "</table>\n",
       "</div>"
      ],
      "text/plain": [
       "   RecordID                Offense    IncidentID Agency  ReportingOfficer  \\\n",
       "0         1            Hit and Run  202500013591    CPD   Crowley, Raeann   \n",
       "1         2    Suspicious Activity  202500013573    CPD     Rigsby, Lloyd   \n",
       "2         3               Burglary  202500013569    CPD   Crowley, Raeann   \n",
       "3         4               Trespass  202500013564    CPD     Ryan, Matthew   \n",
       "4         5  Larceny - Shoplifitng  202500013554    CPD  Abdelgayed, Adam   \n",
       "\n",
       "                 Date DayOfWeek  Weekend  Season TimeOfDay         FullStreet  \\\n",
       "0 2025-04-25 21:56:56    Friday    False  Spring     Night      500 MEADE AVE   \n",
       "1 2025-04-25 19:31:13    Friday    False  Spring   Evening  1500 VIRGINIA AVE   \n",
       "2 2025-04-25 18:54:52    Friday    False  Spring   Evening   900 ST CLAIR AVE   \n",
       "3 2025-04-25 18:21:19    Friday    False  Spring   Evening      700 E MAIN ST   \n",
       "4 2025-04-25 17:19:21    Friday    False  Spring   Evening      200 E MAIN ST   \n",
       "\n",
       "         lat        lon      neighborhood    zip  \n",
       "0  38.030163 -78.464952  Martha Jefferson  22092  \n",
       "1  38.038025 -78.498790           Venable  22903  \n",
       "2  38.037315 -78.463832      Locust Grove  22901  \n",
       "3  38.029237 -78.476613     Downtown Mall  22902  \n",
       "4  38.030572 -78.480764     Downtown Mall  22902  "
      ]
     },
     "execution_count": 14,
     "metadata": {},
     "output_type": "execute_result"
    }
   ],
   "source": [
    "# Now drop the original BlockNumber and StreetName columns\n",
    "df.drop(columns=['BlockNumber', 'StreetName','HourAMPM','HourReported','DateString'], inplace=True)\n",
    "df[\"zip\"] = df[\"zip\"].astype(str)\n",
    "\n",
    "# Fill all missing values in the DataFrame with \"N/A\"\n",
    "df.replace({None: \"N/A\", np.nan: \"N/A\", \"\": \"N/A\"}, inplace=True)\n",
    "df.head()"
   ]
  },
  {
   "cell_type": "code",
   "execution_count": 15,
   "id": "855d9ead",
   "metadata": {
    "execution": {
     "iopub.execute_input": "2025-04-28T01:03:47.151782Z",
     "iopub.status.busy": "2025-04-28T01:03:47.151311Z",
     "iopub.status.idle": "2025-04-28T01:03:47.167761Z",
     "shell.execute_reply": "2025-04-28T01:03:47.167119Z"
    },
    "papermill": {
     "duration": 0.025267,
     "end_time": "2025-04-28T01:03:47.168776",
     "exception": false,
     "start_time": "2025-04-28T01:03:47.143509",
     "status": "completed"
    },
    "tags": []
   },
   "outputs": [
    {
     "name": "stdout",
     "output_type": "stream",
     "text": [
      "                  MissingCount  MissingPercentage\n",
      "RecordID                     0                0.0\n",
      "Offense                      0                0.0\n",
      "IncidentID                   0                0.0\n",
      "Agency                       0                0.0\n",
      "ReportingOfficer             0                0.0\n",
      "Date                         0                0.0\n",
      "DayOfWeek                    0                0.0\n",
      "Weekend                      0                0.0\n",
      "Season                       0                0.0\n",
      "TimeOfDay                    0                0.0\n",
      "FullStreet                   0                0.0\n",
      "lat                          0                0.0\n",
      "lon                          0                0.0\n",
      "neighborhood                 0                0.0\n",
      "zip                          0                0.0\n"
     ]
    }
   ],
   "source": [
    "missing_info = missing_percentage(df)\n",
    "print(missing_info)"
   ]
  },
  {
   "cell_type": "code",
   "execution_count": 16,
   "id": "aee49dc9",
   "metadata": {
    "execution": {
     "iopub.execute_input": "2025-04-28T01:03:47.184444Z",
     "iopub.status.busy": "2025-04-28T01:03:47.184046Z",
     "iopub.status.idle": "2025-04-28T01:03:47.188373Z",
     "shell.execute_reply": "2025-04-28T01:03:47.187723Z"
    },
    "papermill": {
     "duration": 0.013228,
     "end_time": "2025-04-28T01:03:47.189382",
     "exception": false,
     "start_time": "2025-04-28T01:03:47.176154",
     "status": "completed"
    },
    "tags": []
   },
   "outputs": [
    {
     "data": {
      "text/plain": [
       "Index(['RecordID', 'Offense', 'IncidentID', 'Agency', 'ReportingOfficer',\n",
       "       'Date', 'DayOfWeek', 'Weekend', 'Season', 'TimeOfDay', 'FullStreet',\n",
       "       'lat', 'lon', 'neighborhood', 'zip'],\n",
       "      dtype='object')"
      ]
     },
     "execution_count": 16,
     "metadata": {},
     "output_type": "execute_result"
    }
   ],
   "source": [
    "df.columns"
   ]
  },
  {
   "cell_type": "code",
   "execution_count": 17,
   "id": "5117a326",
   "metadata": {
    "execution": {
     "iopub.execute_input": "2025-04-28T01:03:47.204937Z",
     "iopub.status.busy": "2025-04-28T01:03:47.204703Z",
     "iopub.status.idle": "2025-04-28T01:03:47.223749Z",
     "shell.execute_reply": "2025-04-28T01:03:47.223172Z"
    },
    "papermill": {
     "duration": 0.027863,
     "end_time": "2025-04-28T01:03:47.224730",
     "exception": false,
     "start_time": "2025-04-28T01:03:47.196867",
     "status": "completed"
    },
    "tags": []
   },
   "outputs": [
    {
     "name": "stdout",
     "output_type": "stream",
     "text": [
      "<class 'pandas.core.frame.DataFrame'>\n",
      "RangeIndex: 25277 entries, 0 to 25276\n",
      "Data columns (total 15 columns):\n",
      " #   Column            Non-Null Count  Dtype         \n",
      "---  ------            --------------  -----         \n",
      " 0   RecordID          25277 non-null  int64         \n",
      " 1   Offense           25277 non-null  object        \n",
      " 2   IncidentID        25277 non-null  object        \n",
      " 3   Agency            25277 non-null  object        \n",
      " 4   ReportingOfficer  25277 non-null  object        \n",
      " 5   Date              25277 non-null  datetime64[ns]\n",
      " 6   DayOfWeek         25277 non-null  object        \n",
      " 7   Weekend           25277 non-null  bool          \n",
      " 8   Season            25277 non-null  object        \n",
      " 9   TimeOfDay         25277 non-null  object        \n",
      " 10  FullStreet        25277 non-null  object        \n",
      " 11  lat               25277 non-null  float64       \n",
      " 12  lon               25277 non-null  float64       \n",
      " 13  neighborhood      25277 non-null  object        \n",
      " 14  zip               25277 non-null  object        \n",
      "dtypes: bool(1), datetime64[ns](1), float64(2), int64(1), object(10)\n",
      "memory usage: 2.7+ MB\n"
     ]
    }
   ],
   "source": [
    "df.info()"
   ]
  },
  {
   "cell_type": "markdown",
   "id": "c77328a6",
   "metadata": {
    "papermill": {
     "duration": 0.007351,
     "end_time": "2025-04-28T01:03:47.239794",
     "exception": false,
     "start_time": "2025-04-28T01:03:47.232443",
     "status": "completed"
    },
    "tags": []
   },
   "source": [
    "### Export Clean Data"
   ]
  },
  {
   "cell_type": "code",
   "execution_count": 18,
   "id": "d9d90dc1",
   "metadata": {
    "execution": {
     "iopub.execute_input": "2025-04-28T01:03:47.255859Z",
     "iopub.status.busy": "2025-04-28T01:03:47.255611Z",
     "iopub.status.idle": "2025-04-28T01:03:56.355107Z",
     "shell.execute_reply": "2025-04-28T01:03:56.354511Z"
    },
    "papermill": {
     "duration": 9.108765,
     "end_time": "2025-04-28T01:03:56.356179",
     "exception": false,
     "start_time": "2025-04-28T01:03:47.247414",
     "status": "completed"
    },
    "tags": []
   },
   "outputs": [
    {
     "name": "stdout",
     "output_type": "stream",
     "text": [
      "Project Root: /home/runner/work/crime-data/crime-data\n"
     ]
    },
    {
     "name": "stdout",
     "output_type": "stream",
     "text": [
      "Data saved to: /home/runner/work/crime-data/crime-data/data/charlottesville_crime_incidents.csv\n"
     ]
    },
    {
     "name": "stdout",
     "output_type": "stream",
     "text": [
      "Excel saved to: /home/runner/work/crime-data/crime-data/data/charlottesville_crime_incidents.xlsx\n"
     ]
    }
   ],
   "source": [
    "# Determine the project root (assuming papermill is run from the repository root)\n",
    "project_root = os.getcwd()\n",
    "print(\"Project Root:\", project_root)\n",
    "\n",
    "# Set the data directory within the project root\n",
    "data_dir = os.path.join(project_root, \"data\")\n",
    "\n",
    "# Ensure the \"data\" directory exists (create it if it doesn't)\n",
    "if not os.path.exists(data_dir):\n",
    "    os.makedirs(data_dir)\n",
    "\n",
    "# Export the DataFrame to CSV in the \"data\" folder located in the project root\n",
    "csv_path = os.path.join(data_dir, \"charlottesville_crime_incidents.csv\")\n",
    "df.to_csv(csv_path, index=False)\n",
    "print(\"Data saved to:\", csv_path)\n",
    "\n",
    "# Construct the path to your Excel file\n",
    "excel_path = os.path.join(data_dir, \"charlottesville_crime_incidents.xlsx\")\n",
    "\n",
    "# Export the DataFrame to Excel\n",
    "df.to_excel(excel_path, index=False)\n",
    "print(\"Excel saved to:\", excel_path)\n"
   ]
  },
  {
   "cell_type": "markdown",
   "id": "215aaa6e",
   "metadata": {
    "papermill": {
     "duration": 0.00768,
     "end_time": "2025-04-28T01:03:56.371884",
     "exception": false,
     "start_time": "2025-04-28T01:03:56.364204",
     "status": "completed"
    },
    "tags": []
   },
   "source": [
    "## Predictive Analytics"
   ]
  },
  {
   "cell_type": "code",
   "execution_count": 19,
   "id": "8d9bdc62",
   "metadata": {
    "execution": {
     "iopub.execute_input": "2025-04-28T01:03:56.388219Z",
     "iopub.status.busy": "2025-04-28T01:03:56.387776Z",
     "iopub.status.idle": "2025-04-28T01:03:56.399580Z",
     "shell.execute_reply": "2025-04-28T01:03:56.398923Z"
    },
    "papermill": {
     "duration": 0.021059,
     "end_time": "2025-04-28T01:03:56.400543",
     "exception": false,
     "start_time": "2025-04-28T01:03:56.379484",
     "status": "completed"
    },
    "tags": []
   },
   "outputs": [
    {
     "data": {
      "text/html": [
       "<div>\n",
       "<style scoped>\n",
       "    .dataframe tbody tr th:only-of-type {\n",
       "        vertical-align: middle;\n",
       "    }\n",
       "\n",
       "    .dataframe tbody tr th {\n",
       "        vertical-align: top;\n",
       "    }\n",
       "\n",
       "    .dataframe thead th {\n",
       "        text-align: right;\n",
       "    }\n",
       "</style>\n",
       "<table border=\"1\" class=\"dataframe\">\n",
       "  <thead>\n",
       "    <tr style=\"text-align: right;\">\n",
       "      <th></th>\n",
       "      <th>RecordID</th>\n",
       "      <th>Offense</th>\n",
       "      <th>IncidentID</th>\n",
       "      <th>Agency</th>\n",
       "      <th>ReportingOfficer</th>\n",
       "      <th>Date</th>\n",
       "      <th>DayOfWeek</th>\n",
       "      <th>Weekend</th>\n",
       "      <th>Season</th>\n",
       "      <th>TimeOfDay</th>\n",
       "      <th>FullStreet</th>\n",
       "      <th>lat</th>\n",
       "      <th>lon</th>\n",
       "      <th>neighborhood</th>\n",
       "      <th>zip</th>\n",
       "    </tr>\n",
       "  </thead>\n",
       "  <tbody>\n",
       "    <tr>\n",
       "      <th>0</th>\n",
       "      <td>1</td>\n",
       "      <td>Hit and Run</td>\n",
       "      <td>202500013591</td>\n",
       "      <td>CPD</td>\n",
       "      <td>Crowley, Raeann</td>\n",
       "      <td>2025-04-25 21:56:56</td>\n",
       "      <td>Friday</td>\n",
       "      <td>False</td>\n",
       "      <td>Spring</td>\n",
       "      <td>Night</td>\n",
       "      <td>500 MEADE AVE</td>\n",
       "      <td>38.030163</td>\n",
       "      <td>-78.464952</td>\n",
       "      <td>Martha Jefferson</td>\n",
       "      <td>22092</td>\n",
       "    </tr>\n",
       "    <tr>\n",
       "      <th>1</th>\n",
       "      <td>2</td>\n",
       "      <td>Suspicious Activity</td>\n",
       "      <td>202500013573</td>\n",
       "      <td>CPD</td>\n",
       "      <td>Rigsby, Lloyd</td>\n",
       "      <td>2025-04-25 19:31:13</td>\n",
       "      <td>Friday</td>\n",
       "      <td>False</td>\n",
       "      <td>Spring</td>\n",
       "      <td>Evening</td>\n",
       "      <td>1500 VIRGINIA AVE</td>\n",
       "      <td>38.038025</td>\n",
       "      <td>-78.498790</td>\n",
       "      <td>Venable</td>\n",
       "      <td>22903</td>\n",
       "    </tr>\n",
       "    <tr>\n",
       "      <th>2</th>\n",
       "      <td>3</td>\n",
       "      <td>Burglary</td>\n",
       "      <td>202500013569</td>\n",
       "      <td>CPD</td>\n",
       "      <td>Crowley, Raeann</td>\n",
       "      <td>2025-04-25 18:54:52</td>\n",
       "      <td>Friday</td>\n",
       "      <td>False</td>\n",
       "      <td>Spring</td>\n",
       "      <td>Evening</td>\n",
       "      <td>900 ST CLAIR AVE</td>\n",
       "      <td>38.037315</td>\n",
       "      <td>-78.463832</td>\n",
       "      <td>Locust Grove</td>\n",
       "      <td>22901</td>\n",
       "    </tr>\n",
       "    <tr>\n",
       "      <th>3</th>\n",
       "      <td>4</td>\n",
       "      <td>Trespass</td>\n",
       "      <td>202500013564</td>\n",
       "      <td>CPD</td>\n",
       "      <td>Ryan, Matthew</td>\n",
       "      <td>2025-04-25 18:21:19</td>\n",
       "      <td>Friday</td>\n",
       "      <td>False</td>\n",
       "      <td>Spring</td>\n",
       "      <td>Evening</td>\n",
       "      <td>700 E MAIN ST</td>\n",
       "      <td>38.029237</td>\n",
       "      <td>-78.476613</td>\n",
       "      <td>Downtown Mall</td>\n",
       "      <td>22902</td>\n",
       "    </tr>\n",
       "    <tr>\n",
       "      <th>4</th>\n",
       "      <td>5</td>\n",
       "      <td>Larceny - Shoplifitng</td>\n",
       "      <td>202500013554</td>\n",
       "      <td>CPD</td>\n",
       "      <td>Abdelgayed, Adam</td>\n",
       "      <td>2025-04-25 17:19:21</td>\n",
       "      <td>Friday</td>\n",
       "      <td>False</td>\n",
       "      <td>Spring</td>\n",
       "      <td>Evening</td>\n",
       "      <td>200 E MAIN ST</td>\n",
       "      <td>38.030572</td>\n",
       "      <td>-78.480764</td>\n",
       "      <td>Downtown Mall</td>\n",
       "      <td>22902</td>\n",
       "    </tr>\n",
       "  </tbody>\n",
       "</table>\n",
       "</div>"
      ],
      "text/plain": [
       "   RecordID                Offense    IncidentID Agency  ReportingOfficer  \\\n",
       "0         1            Hit and Run  202500013591    CPD   Crowley, Raeann   \n",
       "1         2    Suspicious Activity  202500013573    CPD     Rigsby, Lloyd   \n",
       "2         3               Burglary  202500013569    CPD   Crowley, Raeann   \n",
       "3         4               Trespass  202500013564    CPD     Ryan, Matthew   \n",
       "4         5  Larceny - Shoplifitng  202500013554    CPD  Abdelgayed, Adam   \n",
       "\n",
       "                 Date DayOfWeek  Weekend  Season TimeOfDay         FullStreet  \\\n",
       "0 2025-04-25 21:56:56    Friday    False  Spring     Night      500 MEADE AVE   \n",
       "1 2025-04-25 19:31:13    Friday    False  Spring   Evening  1500 VIRGINIA AVE   \n",
       "2 2025-04-25 18:54:52    Friday    False  Spring   Evening   900 ST CLAIR AVE   \n",
       "3 2025-04-25 18:21:19    Friday    False  Spring   Evening      700 E MAIN ST   \n",
       "4 2025-04-25 17:19:21    Friday    False  Spring   Evening      200 E MAIN ST   \n",
       "\n",
       "         lat        lon      neighborhood    zip  \n",
       "0  38.030163 -78.464952  Martha Jefferson  22092  \n",
       "1  38.038025 -78.498790           Venable  22903  \n",
       "2  38.037315 -78.463832      Locust Grove  22901  \n",
       "3  38.029237 -78.476613     Downtown Mall  22902  \n",
       "4  38.030572 -78.480764     Downtown Mall  22902  "
      ]
     },
     "execution_count": 19,
     "metadata": {},
     "output_type": "execute_result"
    }
   ],
   "source": [
    "df.head()"
   ]
  },
  {
   "cell_type": "code",
   "execution_count": 20,
   "id": "e604b243",
   "metadata": {
    "execution": {
     "iopub.execute_input": "2025-04-28T01:03:56.417272Z",
     "iopub.status.busy": "2025-04-28T01:03:56.417027Z",
     "iopub.status.idle": "2025-04-28T01:03:56.421483Z",
     "shell.execute_reply": "2025-04-28T01:03:56.420945Z"
    },
    "papermill": {
     "duration": 0.01388,
     "end_time": "2025-04-28T01:03:56.422433",
     "exception": false,
     "start_time": "2025-04-28T01:03:56.408553",
     "status": "completed"
    },
    "tags": []
   },
   "outputs": [
    {
     "data": {
      "text/plain": [
       "Index(['RecordID', 'Offense', 'IncidentID', 'Agency', 'ReportingOfficer',\n",
       "       'Date', 'DayOfWeek', 'Weekend', 'Season', 'TimeOfDay', 'FullStreet',\n",
       "       'lat', 'lon', 'neighborhood', 'zip'],\n",
       "      dtype='object')"
      ]
     },
     "execution_count": 20,
     "metadata": {},
     "output_type": "execute_result"
    }
   ],
   "source": [
    "df.columns"
   ]
  },
  {
   "cell_type": "markdown",
   "id": "566c0cca",
   "metadata": {
    "papermill": {
     "duration": 0.007865,
     "end_time": "2025-04-28T01:03:56.438223",
     "exception": false,
     "start_time": "2025-04-28T01:03:56.430358",
     "status": "completed"
    },
    "tags": []
   },
   "source": [
    "### Data Preparation\n",
    "\n",
    "We need to ensure the data is in the correct format for modeling and can handle missing values, categorical variables, and dates. Here's how to prepare your data:"
   ]
  },
  {
   "cell_type": "code",
   "execution_count": 21,
   "id": "8fda1eb6",
   "metadata": {
    "execution": {
     "iopub.execute_input": "2025-04-28T01:03:56.455159Z",
     "iopub.status.busy": "2025-04-28T01:03:56.454908Z",
     "iopub.status.idle": "2025-04-28T01:03:59.214454Z",
     "shell.execute_reply": "2025-04-28T01:03:59.213659Z"
    },
    "papermill": {
     "duration": 2.7695,
     "end_time": "2025-04-28T01:03:59.215841",
     "exception": false,
     "start_time": "2025-04-28T01:03:56.446341",
     "status": "completed"
    },
    "tags": []
   },
   "outputs": [],
   "source": [
    "import pandas as pd\n",
    "from sklearn.model_selection import train_test_split\n",
    "from sklearn.preprocessing import OneHotEncoder, LabelEncoder\n",
    "from sklearn.ensemble import RandomForestClassifier\n",
    "from sklearn.linear_model import LogisticRegression\n",
    "from sklearn.tree import DecisionTreeClassifier\n",
    "from sklearn.metrics import classification_report, accuracy_score\n",
    "import seaborn as sns\n",
    "import matplotlib.pyplot as plt\n",
    "\n",
    "# Convert 'Date' to datetime\n",
    "df['Date'] = pd.to_datetime(df['Date'])\n",
    "\n",
    "# Feature engineering: Extract additional time-based features\n",
    "df['Year'] = df['Date'].dt.year\n",
    "df['Month'] = df['Date'].dt.month\n",
    "df['DayOfMonth'] = df['Date'].dt.day\n",
    "\n",
    "# One-hot encoding for 'FullStreet', 'neighborhood', 'zip'\n",
    "df = pd.get_dummies(df, columns=['FullStreet', 'neighborhood', 'zip'], drop_first=True)\n",
    "\n",
    "# Label encoding for ordered variables (those with a natural order like 'DayOfWeek', 'Season', 'TimeOfDay')\n",
    "label_encoders = {}\n",
    "for column in ['DayOfWeek', 'Season', 'TimeOfDay', 'Agency', 'ReportingOfficer']:  # Example ordinal variables\n",
    "    le = LabelEncoder()\n",
    "    df[column] = le.fit_transform(df[column])\n",
    "    label_encoders[column] = le\n",
    "\n",
    "# Filter the dataset to include only the offenses of interest\n",
    "offenses_of_interest = [\n",
    "    'Hit and Run', 'Assault Simple', 'Suspicious Activity', 'Vandalism', \n",
    "    'Larceny - From Mot Vehicle', 'Larceny - All Other', \n",
    "    'Assist Citizen - Mental/TDO/ECO', 'Lost/FoundProperty'\n",
    "]\n",
    "\n",
    "df = df[df['Offense'].isin(offenses_of_interest)]\n",
    "\n",
    "# Label encode the target variable (Offense)\n",
    "offense_encoder = LabelEncoder()\n",
    "df['Offense'] = offense_encoder.fit_transform(df['Offense'])\n",
    "\n",
    "# Separate features (X) and target (y)\n",
    "X = df[['Year', 'Month', 'DayOfMonth', 'DayOfWeek', 'Weekend', 'Season', 'TimeOfDay', 'lat', 'lon', 'Agency', 'ReportingOfficer']]\n",
    "y = df['Offense']  # Offense is now the encoded target variable\n",
    "\n",
    "# Split the data into training and testing sets\n",
    "X_train, X_test, y_train, y_test = train_test_split(X, y, test_size=0.3, random_state=42)\n"
   ]
  },
  {
   "cell_type": "markdown",
   "id": "43b2fdfe",
   "metadata": {
    "papermill": {
     "duration": 0.007946,
     "end_time": "2025-04-28T01:03:59.232357",
     "exception": false,
     "start_time": "2025-04-28T01:03:59.224411",
     "status": "completed"
    },
    "tags": []
   },
   "source": [
    "### Model Training\n",
    "\n",
    "Here we will train several models (e.g., Random Forest, Logistic Regression, and Decision Tree). We will use cross-validation to choose the best model based on accuracy, and then explain the impact of the variables."
   ]
  },
  {
   "cell_type": "code",
   "execution_count": 22,
   "id": "e6c6b2f4",
   "metadata": {
    "execution": {
     "iopub.execute_input": "2025-04-28T01:03:59.249399Z",
     "iopub.status.busy": "2025-04-28T01:03:59.248970Z",
     "iopub.status.idle": "2025-04-28T01:04:02.858396Z",
     "shell.execute_reply": "2025-04-28T01:04:02.857768Z"
    },
    "papermill": {
     "duration": 3.619153,
     "end_time": "2025-04-28T01:04:02.859422",
     "exception": false,
     "start_time": "2025-04-28T01:03:59.240269",
     "status": "completed"
    },
    "tags": []
   },
   "outputs": [
    {
     "name": "stderr",
     "output_type": "stream",
     "text": [
      "/opt/hostedtoolcache/Python/3.9.22/x64/lib/python3.9/site-packages/sklearn/linear_model/_logistic.py:465: ConvergenceWarning: lbfgs failed to converge (status=1):\n",
      "STOP: TOTAL NO. of ITERATIONS REACHED LIMIT.\n",
      "\n",
      "Increase the number of iterations (max_iter) or scale the data as shown in:\n",
      "    https://scikit-learn.org/stable/modules/preprocessing.html\n",
      "Please also refer to the documentation for alternative solver options:\n",
      "    https://scikit-learn.org/stable/modules/linear_model.html#logistic-regression\n",
      "  n_iter_i = _check_optimize_result(\n",
      "/opt/hostedtoolcache/Python/3.9.22/x64/lib/python3.9/site-packages/sklearn/metrics/_classification.py:1565: UndefinedMetricWarning: Precision is ill-defined and being set to 0.0 in labels with no predicted samples. Use `zero_division` parameter to control this behavior.\n",
      "  _warn_prf(average, modifier, f\"{metric.capitalize()} is\", len(result))\n",
      "/opt/hostedtoolcache/Python/3.9.22/x64/lib/python3.9/site-packages/sklearn/metrics/_classification.py:1565: UndefinedMetricWarning: Precision is ill-defined and being set to 0.0 in labels with no predicted samples. Use `zero_division` parameter to control this behavior.\n",
      "  _warn_prf(average, modifier, f\"{metric.capitalize()} is\", len(result))\n",
      "/opt/hostedtoolcache/Python/3.9.22/x64/lib/python3.9/site-packages/sklearn/metrics/_classification.py:1565: UndefinedMetricWarning: Precision is ill-defined and being set to 0.0 in labels with no predicted samples. Use `zero_division` parameter to control this behavior.\n",
      "  _warn_prf(average, modifier, f\"{metric.capitalize()} is\", len(result))\n"
     ]
    },
    {
     "name": "stdout",
     "output_type": "stream",
     "text": [
      "\n",
      "Classification Report for All Models:\n",
      "\n",
      "Model: RandomForest\n",
      "Accuracy: 0.2715\n",
      "              precision    recall  f1-score      support\n",
      "0              0.261814  0.349233  0.299270   587.000000\n",
      "1              0.302326  0.250000  0.273684   416.000000\n",
      "2              0.288191  0.403642  0.336283   659.000000\n",
      "3              0.228228  0.161359  0.189055   471.000000\n",
      "4              0.303704  0.240469  0.268412   341.000000\n",
      "5              0.209446  0.209446  0.209446   487.000000\n",
      "6              0.325228  0.210630  0.255675   508.000000\n",
      "accuracy       0.271548  0.271548  0.271548     0.271548\n",
      "macro avg      0.274134  0.260683  0.261689  3469.000000\n",
      "weighted avg   0.273175  0.271548  0.266241  3469.000000\n"
     ]
    },
    {
     "data": {
      "image/png": "[encoded data removed]",
      "text/plain": [
       "<Figure size 800x600 with 2 Axes>"
      ]
     },
     "metadata": {},
     "output_type": "display_data"
    },
    {
     "name": "stdout",
     "output_type": "stream",
     "text": [
      "\n",
      "Model: LogisticRegression\n",
      "Accuracy: 0.2061\n",
      "              precision    recall  f1-score      support\n",
      "0              0.193697  0.502555  0.279621   587.000000\n",
      "1              0.000000  0.000000  0.000000   416.000000\n",
      "2              0.214508  0.628225  0.319815   659.000000\n",
      "3              0.000000  0.000000  0.000000   471.000000\n",
      "4              0.000000  0.000000  0.000000   341.000000\n",
      "5              0.000000  0.000000  0.000000   487.000000\n",
      "6              0.375000  0.011811  0.022901   508.000000\n",
      "accuracy       0.206111  0.206111  0.206111     0.206111\n",
      "macro avg      0.111886  0.163227  0.088905  3469.000000\n",
      "weighted avg   0.128441  0.206111  0.111424  3469.000000\n"
     ]
    },
    {
     "data": {
      "image/png": "[encoded data removed]",
      "text/plain": [
       "<Figure size 800x600 with 2 Axes>"
      ]
     },
     "metadata": {},
     "output_type": "display_data"
    },
    {
     "name": "stdout",
     "output_type": "stream",
     "text": [
      "\n",
      "Model: DecisionTree\n",
      "Accuracy: 0.2090\n",
      "              precision    recall  f1-score      support\n",
      "0              0.210708  0.207836  0.209262   587.000000\n",
      "1              0.228700  0.245192  0.236659   416.000000\n",
      "2              0.263415  0.245827  0.254317   659.000000\n",
      "3              0.166667  0.161359  0.163970   471.000000\n",
      "4              0.207447  0.228739  0.217573   341.000000\n",
      "5              0.166667  0.176591  0.171486   487.000000\n",
      "6              0.205821  0.194882  0.200202   508.000000\n",
      "accuracy       0.208994  0.208994  0.208994     0.208994\n",
      "macro avg      0.207061  0.208632  0.207638  3469.000000\n",
      "weighted avg   0.209679  0.208994  0.209144  3469.000000\n"
     ]
    },
    {
     "data": {
      "image/png": "[encoded data removed]",
      "text/plain": [
       "<Figure size 800x600 with 2 Axes>"
      ]
     },
     "metadata": {},
     "output_type": "display_data"
    },
    {
     "name": "stdout",
     "output_type": "stream",
     "text": [
      "\n",
      "Best Model:\n",
      "Best Model: RandomForestClassifier()\n",
      "Best Model Accuracy: 0.2715\n"
     ]
    }
   ],
   "source": [
    "import pandas as pd\n",
    "from sklearn.model_selection import train_test_split\n",
    "from sklearn.ensemble import RandomForestClassifier\n",
    "from sklearn.linear_model import LogisticRegression\n",
    "from sklearn.tree import DecisionTreeClassifier\n",
    "from sklearn.metrics import classification_report, accuracy_score, confusion_matrix\n",
    "import seaborn as sns\n",
    "import matplotlib.pyplot as plt\n",
    "\n",
    "# Define models\n",
    "models = {\n",
    "    'RandomForest': RandomForestClassifier(),\n",
    "    'LogisticRegression': LogisticRegression(max_iter=1000),\n",
    "    'DecisionTree': DecisionTreeClassifier()\n",
    "}\n",
    "\n",
    "# Train models and evaluate them\n",
    "best_model = None\n",
    "best_score = 0\n",
    "model_reports = {}\n",
    "\n",
    "for model_name, model in models.items():\n",
    "    model.fit(X_train, y_train)  # Train model\n",
    "    y_pred = model.predict(X_test)  # Make predictions\n",
    "    \n",
    "    # Calculate accuracy and generate classification report\n",
    "    accuracy = accuracy_score(y_test, y_pred)\n",
    "    model_reports[model_name] = classification_report(y_test, y_pred, output_dict=True)  # Store as a dictionary for easier analysis\n",
    "    \n",
    "    # Track best performing model\n",
    "    if accuracy > best_score:\n",
    "        best_score = accuracy\n",
    "        best_model = model\n",
    "\n",
    "# Display classification reports and confusion matrices\n",
    "print(\"\\nClassification Report for All Models:\")\n",
    "for model_name, report in model_reports.items():\n",
    "    print(f\"\\nModel: {model_name}\")\n",
    "    print(\"Accuracy: {:.4f}\".format(accuracy_score(y_test, models[model_name].predict(X_test))))  # Display accuracy\n",
    "    print(pd.DataFrame(report).transpose())  # Display classification report as a DataFrame\n",
    "\n",
    "    # Plot Confusion Matrix\n",
    "    cm = confusion_matrix(y_test, models[model_name].predict(X_test))\n",
    "    plt.figure(figsize=(8, 6))\n",
    "    sns.heatmap(cm, annot=True, fmt=\"d\", cmap='Blues', xticklabels=offense_encoder.classes_, yticklabels=offense_encoder.classes_)\n",
    "    plt.title(f\"Confusion Matrix - {model_name}\")\n",
    "    plt.xlabel('Predicted Labels')\n",
    "    plt.ylabel('True Labels')\n",
    "    plt.show()\n",
    "\n",
    "# Display best model details\n",
    "print(\"\\nBest Model:\")\n",
    "print(f\"Best Model: {best_model}\")\n",
    "print(f\"Best Model Accuracy: {best_score:.4f}\")\n"
   ]
  },
  {
   "cell_type": "markdown",
   "id": "0ba28f6c",
   "metadata": {
    "papermill": {
     "duration": 0.010548,
     "end_time": "2025-04-28T01:04:02.881260",
     "exception": false,
     "start_time": "2025-04-28T01:04:02.870712",
     "status": "completed"
    },
    "tags": []
   },
   "source": [
    "#### Classification Report for All Models:\n",
    "\n",
    "### Explanation of the Classification Results (RandomForest Model)\n",
    "\n",
    "The results you provided are from a **Random Forest** model, which is used for predicting different types of offenses. Let's break down the key components of the results:\n",
    "\n",
    "#### 1. **Accuracy: 0.2822**\n",
    "   - **Accuracy** measures the overall percentage of correct predictions made by the model. An accuracy of 28.22% means the model correctly predicted the offense in about 28% of the cases. This indicates the model's predictions are not highly reliable, as the accuracy is quite low.\n",
    "\n",
    "#### 2. **Classification Report:**\n",
    "   The classification report includes precision, recall, and F1-score for each offense. Let's go over these terms and how they apply to the results:\n",
    "\n",
    "   - **Precision**: The proportion of true positive predictions out of all positive predictions made by the model for a specific class (offense).\n",
    "   - **Recall**: The proportion of true positive predictions out of all actual positive instances in the dataset.\n",
    "   - **F1-Score**: The harmonic mean of precision and recall, providing a balance between the two metrics.\n",
    "   - **Support**: The number of actual occurrences of each class in the test set.\n",
    "\n",
    "   Let's analyze each offense based on these metrics:\n",
    "\n",
    "   | **Offense**                        | **Precision** | **Recall** | **F1-Score** | **Support** |\n",
    "   |------------------------------------|---------------|------------|--------------|-------------|\n",
    "   | **Assault Simple**                 | 0.2892        | 0.3754     | 0.3267       | 594         |\n",
    "   | **Assist Citizen - Mental/TDO/ECO**| 0.3182        | 0.2274     | 0.2652       | 431         |\n",
    "   | **Hit and Run**                    | 0.2963        | 0.4765     | 0.3654       | 638         |\n",
    "   | **Larceny - All Other**            | 0.2270        | 0.1453     | 0.1772       | 475         |\n",
    "   | **Lost/FoundProperty**             | 0.3333        | 0.2102     | 0.2578       | 352         |\n",
    "   | **Suspicious Activity**            | 0.2344        | 0.2169     | 0.2253       | 484         |\n",
    "   | **Vandalism**                      | 0.2712        | 0.2106     | 0.2371       | 470         |\n",
    "\n",
    "#### 3. **Key Insights from the Report:**\n",
    "\n",
    "- **Precision**:\n",
    "   - The highest precision is for **Larceny - All Other** (0.3333), indicating that when the model predicts this offense, it is correct about 33% of the time. However, this is still quite low.\n",
    "   - **Assist Citizen - Mental/TDO/ECO** has the lowest precision (0.2269), meaning that the model's predictions for this offense tend to be wrong more often than correct.\n",
    "\n",
    "- **Recall**:\n",
    "   - **Hit and Run** has the highest recall (0.4765), meaning the model identifies about 48% of the actual occurrences of this offense. This is better than the precision, which indicates it is missing many true positives but is still able to identify a fair number of cases.\n",
    "   - **Larceny - All Other** and **Suspicious Activity** have the lowest recall values (0.1453 and 0.2169, respectively), indicating that the model is failing to identify most of the actual cases for these offenses.\n",
    "\n",
    "- **F1-Score**:\n",
    "   - The **F1-Score** balances precision and recall. It is highest for **Hit and Run** (0.3654), but still relatively low overall. This suggests the model is better at identifying **Hit and Run** than other offenses but still has room for improvement.\n",
    "   - **Larceny - All Other** has the lowest F1-Score (0.1772), indicating a poor balance between precision and recall for this offense.\n",
    "\n",
    "#### 4. **Macro Average and Weighted Average:**\n",
    "   - **Macro Average**: This gives the average precision, recall, and F1-Score across all classes (offenses) without considering the class distribution. It averages the results for all offenses equally.\n",
    "     - Precision: 0.2814\n",
    "     - Recall: 0.2661\n",
    "     - F1-Score: 0.2649\n",
    "   - **Weighted Average**: This averages the metrics but weighs each class by its support (the number of true instances in the test set). This gives a better sense of overall performance, considering the class distribution.\n",
    "     - Precision: 0.2799\n",
    "     - Recall: 0.2822\n",
    "     - F1-Score: 0.2720\n",
    "\n",
    "#### 5. **Confusion Matrix (Visualization Analysis)**:\n",
    "   - The confusion matrix shows the distribution of true positive, false positive, true negative, and false negative predictions for each class.\n",
    "     - For **Hit and Run**, the model performs relatively well in identifying this offense (304 true positives). However, it also misclassifies some **Hit and Run** instances as other offenses (e.g., **Assault Simple**, **Suspicious Activity**, etc.).\n",
    "     - **Larceny - All Other** is frequently misclassified as **Hit and Run**, **Suspicious Activity**, and others. This is evident from the large number of off-diagonal elements in its row.\n",
    "     - **Assist Citizen - Mental/TDO/ECO** and **Suspicious Activity** are frequently misclassified, as seen by the off-diagonal values in their rows.\n",
    "\n",
    "### Conclusion:\n",
    "The Random Forest model has low accuracy (28.22%), suggesting that it struggles to predict most offenses accurately. Some offenses like **Hit and Run** are better predicted than others, but overall, the model shows a high level of misclassification across all offenses. There may be a need for further tuning of the model, additional feature engineering, or trying different models for better performance.\n",
    "\n",
    "Let me know if you'd like to improve the model or make adjustments based on these results!\n",
    "\n"
   ]
  },
  {
   "cell_type": "markdown",
   "id": "29afee45",
   "metadata": {
    "papermill": {
     "duration": 0.010599,
     "end_time": "2025-04-28T01:04:02.902459",
     "exception": false,
     "start_time": "2025-04-28T01:04:02.891860",
     "status": "completed"
    },
    "tags": []
   },
   "source": [
    "### Model Explanation\n",
    "\n",
    "Once we’ve chosen the best model, we will explain its predictions by examining feature importance for tree-based models and using statistical methods like logistic regression coefficients for linear models."
   ]
  },
  {
   "cell_type": "markdown",
   "id": "ab31e996",
   "metadata": {
    "papermill": {
     "duration": 0.010563,
     "end_time": "2025-04-28T01:04:02.923616",
     "exception": false,
     "start_time": "2025-04-28T01:04:02.913053",
     "status": "completed"
    },
    "tags": []
   },
   "source": [
    "#### Feature Importance for Random Forest / Decision Tree\n",
    "\n",
    "##### For Tree-based Models (Random Forest, Decision Tree)\n",
    "\n",
    "For Random Forest or Decision Tree, we can look at feature importance to understand which variables contribute the most to the model's predictions. Here's how you can visualize and interpret the importance of each feature:"
   ]
  },
  {
   "cell_type": "code",
   "execution_count": 23,
   "id": "ae316f43",
   "metadata": {
    "execution": {
     "iopub.execute_input": "2025-04-28T01:04:02.946012Z",
     "iopub.status.busy": "2025-04-28T01:04:02.945622Z",
     "iopub.status.idle": "2025-04-28T01:04:03.111716Z",
     "shell.execute_reply": "2025-04-28T01:04:03.111064Z"
    },
    "papermill": {
     "duration": 0.178496,
     "end_time": "2025-04-28T01:04:03.112730",
     "exception": false,
     "start_time": "2025-04-28T01:04:02.934234",
     "status": "completed"
    },
    "tags": []
   },
   "outputs": [
    {
     "data": {
      "image/png": "[encoded data removed]",
      "text/plain": [
       "<Figure size 1000x600 with 1 Axes>"
      ]
     },
     "metadata": {},
     "output_type": "display_data"
    }
   ],
   "source": [
    "# For RandomForest or DecisionTree models, we can check feature importance\n",
    "if isinstance(best_model, RandomForestClassifier) or isinstance(best_model, DecisionTreeClassifier):\n",
    "    feature_importance = best_model.feature_importances_\n",
    "    feature_names = X.columns\n",
    "    importance_df = pd.DataFrame({'Feature': feature_names, 'Importance': feature_importance})\n",
    "    importance_df = importance_df.sort_values(by='Importance', ascending=False)\n",
    "    \n",
    "    # Plotting the feature importances\n",
    "    plt.figure(figsize=(10, 6))\n",
    "    sns.barplot(x='Importance', y='Feature', data=importance_df)\n",
    "    plt.title(\"Feature Importance\")\n",
    "    plt.show()\n"
   ]
  },
  {
   "cell_type": "code",
   "execution_count": null,
   "id": "b118dc4b",
   "metadata": {
    "papermill": {
     "duration": 0.011026,
     "end_time": "2025-04-28T01:04:03.135250",
     "exception": false,
     "start_time": "2025-04-28T01:04:03.124224",
     "status": "completed"
    },
    "tags": []
   },
   "outputs": [],
   "source": []
  },
  {
   "cell_type": "markdown",
   "id": "efe61bbe",
   "metadata": {
    "papermill": {
     "duration": 0.010915,
     "end_time": "2025-04-28T01:04:03.157089",
     "exception": false,
     "start_time": "2025-04-28T01:04:03.146174",
     "status": "completed"
    },
    "tags": []
   },
   "source": [
    "### Evaluation\n",
    "\n",
    "After training the models and examining their performance, we evaluate the chosen model based on metrics like accuracy, precision, recall, and F1 score.\n",
    "\n"
   ]
  },
  {
   "cell_type": "code",
   "execution_count": 24,
   "id": "229b6de8",
   "metadata": {
    "execution": {
     "iopub.execute_input": "2025-04-28T01:04:03.180054Z",
     "iopub.status.busy": "2025-04-28T01:04:03.179656Z",
     "iopub.status.idle": "2025-04-28T01:04:03.269468Z",
     "shell.execute_reply": "2025-04-28T01:04:03.268753Z"
    },
    "papermill": {
     "duration": 0.102558,
     "end_time": "2025-04-28T01:04:03.270632",
     "exception": false,
     "start_time": "2025-04-28T01:04:03.168074",
     "status": "completed"
    },
    "tags": []
   },
   "outputs": [
    {
     "name": "stdout",
     "output_type": "stream",
     "text": [
      "Accuracy: 0.2715\n",
      "Classification Report:\n",
      "              precision    recall  f1-score   support\n",
      "\n",
      "           0       0.26      0.35      0.30       587\n",
      "           1       0.30      0.25      0.27       416\n",
      "           2       0.29      0.40      0.34       659\n",
      "           3       0.23      0.16      0.19       471\n",
      "           4       0.30      0.24      0.27       341\n",
      "           5       0.21      0.21      0.21       487\n",
      "           6       0.33      0.21      0.26       508\n",
      "\n",
      "    accuracy                           0.27      3469\n",
      "   macro avg       0.27      0.26      0.26      3469\n",
      "weighted avg       0.27      0.27      0.27      3469\n",
      "\n",
      "Confusion Matrix:\n",
      "[[205  57 144  35  30  86  30]\n",
      " [ 98 104  91  18  23  55  27]\n",
      " [132  44 266  78  21  77  41]\n",
      " [ 90  33 126  76  39  66  41]\n",
      " [ 60  22  58  33  82  43  43]\n",
      " [108  51 121  39  26 102  40]\n",
      " [ 90  33 117  54  49  58 107]]\n",
      "Precision: 0.2732\n",
      "Recall: 0.2715\n",
      "F1 Score: 0.2662\n"
     ]
    }
   ],
   "source": [
    "from sklearn.metrics import classification_report, confusion_matrix, accuracy_score, precision_score, recall_score, f1_score\n",
    "\n",
    "# Predict on the test set\n",
    "y_pred = best_model.predict(X_test)\n",
    "\n",
    "# Calculate Accuracy\n",
    "accuracy = accuracy_score(y_test, y_pred)\n",
    "print(f\"Accuracy: {accuracy:.4f}\")\n",
    "\n",
    "# Classification Report\n",
    "print(\"Classification Report:\")\n",
    "print(classification_report(y_test, y_pred))\n",
    "\n",
    "# Confusion Matrix\n",
    "conf_matrix = confusion_matrix(y_test, y_pred)\n",
    "print(\"Confusion Matrix:\")\n",
    "print(conf_matrix)\n",
    "\n",
    "# Precision, Recall, F1 Score for each class (Offense Type)\n",
    "precision = precision_score(y_test, y_pred, average='weighted')\n",
    "recall = recall_score(y_test, y_pred, average='weighted')\n",
    "f1 = f1_score(y_test, y_pred, average='weighted')\n",
    "\n",
    "print(f\"Precision: {precision:.4f}\")\n",
    "print(f\"Recall: {recall:.4f}\")\n",
    "print(f\"F1 Score: {f1:.4f}\")\n"
   ]
  },
  {
   "cell_type": "markdown",
   "id": "88290a89",
   "metadata": {
    "papermill": {
     "duration": 0.011155,
     "end_time": "2025-04-28T01:04:03.293375",
     "exception": false,
     "start_time": "2025-04-28T01:04:03.282220",
     "status": "completed"
    },
    "tags": []
   },
   "source": [
    "#### For Logistic Regression (Coefficient Interpretation)\n",
    "\n",
    "For Logistic Regression, the model coefficients can help us understand how each feature affects the likelihood of an offense happening. A positive coefficient indicates a feature increases the likelihood of the offense, and a negative coefficient indicates the opposite."
   ]
  },
  {
   "cell_type": "code",
   "execution_count": 25,
   "id": "46766b17",
   "metadata": {
    "execution": {
     "iopub.execute_input": "2025-04-28T01:04:03.316810Z",
     "iopub.status.busy": "2025-04-28T01:04:03.316211Z",
     "iopub.status.idle": "2025-04-28T01:04:03.321263Z",
     "shell.execute_reply": "2025-04-28T01:04:03.320733Z"
    },
    "papermill": {
     "duration": 0.017767,
     "end_time": "2025-04-28T01:04:03.322235",
     "exception": false,
     "start_time": "2025-04-28T01:04:03.304468",
     "status": "completed"
    },
    "tags": []
   },
   "outputs": [],
   "source": [
    "if isinstance(best_model, LogisticRegression):\n",
    "    # Logistic regression coefficients\n",
    "    coef_df = pd.DataFrame({\n",
    "        'Feature': X.columns,\n",
    "        'Coefficient': best_model.coef_[0]\n",
    "    })\n",
    "    coef_df['AbsCoefficient'] = coef_df['Coefficient'].abs()\n",
    "    coef_df = coef_df.sort_values(by='AbsCoefficient', ascending=False)\n",
    "    \n",
    "    # Plotting the coefficients\n",
    "    plt.figure(figsize=(10, 6))\n",
    "    sns.barplot(x='AbsCoefficient', y='Feature', data=coef_df)\n",
    "    plt.title(\"Logistic Regression Coefficients Impact\")\n",
    "    plt.show()\n",
    "\n",
    "    # Print the top 5 most impactful features (by absolute coefficient value)\n",
    "    print(\"Top 5 most impactful features based on coefficients:\")\n",
    "    print(coef_df.head())\n"
   ]
  },
  {
   "cell_type": "markdown",
   "id": "224878bd",
   "metadata": {
    "papermill": {
     "duration": 0.01101,
     "end_time": "2025-04-28T01:04:03.344397",
     "exception": false,
     "start_time": "2025-04-28T01:04:03.333387",
     "status": "completed"
    },
    "tags": []
   },
   "source": [
    "Explanation of Output:\n",
    "\n",
    "Feature Importance (Random Forest/Decision Tree): The bar plot will show how important each feature is in the decision-making process. Features at the top of the list are the most influential in predicting the occurrence of offenses.\n",
    "\n",
    "Logistic Regression Coefficients: The bar plot will show the magnitude of the coefficients for each feature. Features with larger absolute values (either positive or negative) have a stronger impact on the model’s predictions. Positive coefficients increase the probability of an offense, while negative coefficients decrease it."
   ]
  },
  {
   "cell_type": "markdown",
   "id": "abda9666",
   "metadata": {
    "papermill": {
     "duration": 0.011034,
     "end_time": "2025-04-28T01:04:03.366472",
     "exception": false,
     "start_time": "2025-04-28T01:04:03.355438",
     "status": "completed"
    },
    "tags": []
   },
   "source": []
  }
 ],
 "metadata": {
  "kernelspec": {
   "display_name": "Python 3",
   "language": "python",
   "name": "python3"
  },
  "language_info": {
   "codemirror_mode": {
    "name": "ipython",
    "version": 3
   },
   "file_extension": ".py",
   "mimetype": "text/x-python",
   "name": "python",
   "nbconvert_exporter": "python",
   "pygments_lexer": "ipython3",
   "version": "3.9.22"
  },
  "papermill": {
   "default_parameters": {},
   "duration": 76.628004,
   "end_time": "2025-04-28T01:04:03.794053",
   "environment_variables": {},
   "exception": null,
   "input_path": "notebook/Crime Data.ipynb",
   "output_path": "notebook/Crime Data_output.ipynb",
   "parameters": {},
   "start_time": "2025-04-28T01:02:47.166049",
   "version": "2.6.0"
  }
 },
 "nbformat": 4,
 "nbformat_minor": 5
}