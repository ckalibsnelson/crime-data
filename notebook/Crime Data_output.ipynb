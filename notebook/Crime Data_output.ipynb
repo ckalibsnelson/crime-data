{
 "cells": [
  {
   "cell_type": "markdown",
   "id": "7691221a",
   "metadata": {
    "papermill": {
     "duration": 0.011455,
     "end_time": "2025-05-22T01:03:04.141362",
     "exception": false,
     "start_time": "2025-05-22T01:03:04.129907",
     "status": "completed"
    },
    "tags": []
   },
   "source": [
    "# Charlottesville Open Data Porttal: Crime Data"
   ]
  },
  {
   "cell_type": "markdown",
   "id": "0f88ba65",
   "metadata": {
    "papermill": {
     "duration": 0.005025,
     "end_time": "2025-05-22T01:03:04.155465",
     "exception": false,
     "start_time": "2025-05-22T01:03:04.150440",
     "status": "completed"
    },
    "tags": []
   },
   "source": [
    "## Import Relevant Librarires & Set WD"
   ]
  },
  {
   "cell_type": "code",
   "execution_count": 1,
   "id": "e4298add",
   "metadata": {
    "execution": {
     "iopub.execute_input": "2025-05-22T01:03:04.167176Z",
     "iopub.status.busy": "2025-05-22T01:03:04.166564Z",
     "iopub.status.idle": "2025-05-22T01:03:04.839762Z",
     "shell.execute_reply": "2025-05-22T01:03:04.839007Z"
    },
    "papermill": {
     "duration": 0.680847,
     "end_time": "2025-05-22T01:03:04.841409",
     "exception": false,
     "start_time": "2025-05-22T01:03:04.160562",
     "status": "completed"
    },
    "tags": []
   },
   "outputs": [],
   "source": [
    "import requests\n",
    "import pandas as pd\n",
    "import numpy as np\n",
    "import pickle\n",
    "import googlemaps\n",
    "import plotly.express as px\n",
    "from geopy.geocoders import Nominatim\n",
    "import time\n",
    "from dotenv import load_dotenv\n",
    "import os\n",
    "\n",
    "env_path = os.path.join(\"..\", \".env\")\n",
    "#print(\"Looking for .env file at:\", os.path.abspath(env_path))\n",
    "load_dotenv(dotenv_path=env_path)\n",
    "\n",
    "# Retrieve the variables\n",
    "GOOGLE_API_KEY = os.getenv(\"GOOGLE_API_KEY\")\n",
    "WORKING_DIR = os.getenv(\"WORKING_DIR\")\n",
    "\n",
    "if GOOGLE_API_KEY is None or WORKING_DIR is None:\n",
    "    raise RuntimeError(\"No configuration found. Please ensure that your .env file exists with the required variables, or create a local config.py file.\")\n",
    "\n",
    "#print(\"Google API Key:\", GOOGLE_API_KEY)\n",
    "#print(\"Working Directory:\", WORKING_DIR)"
   ]
  },
  {
   "cell_type": "markdown",
   "id": "b3fc9fb4",
   "metadata": {
    "papermill": {
     "duration": 0.005122,
     "end_time": "2025-05-22T01:03:04.852784",
     "exception": false,
     "start_time": "2025-05-22T01:03:04.847662",
     "status": "completed"
    },
    "tags": []
   },
   "source": [
    "## Import Data\n",
    "\n",
    "URL: https://opendata.charlottesville.org/datasets/charlottesville::crime-data/about"
   ]
  },
  {
   "cell_type": "code",
   "execution_count": 2,
   "id": "6e37429d",
   "metadata": {
    "execution": {
     "iopub.execute_input": "2025-05-22T01:03:04.865222Z",
     "iopub.status.busy": "2025-05-22T01:03:04.864562Z",
     "iopub.status.idle": "2025-05-22T01:04:05.974078Z",
     "shell.execute_reply": "2025-05-22T01:04:05.973329Z"
    },
    "papermill": {
     "duration": 61.143455,
     "end_time": "2025-05-22T01:04:06.002121",
     "exception": false,
     "start_time": "2025-05-22T01:03:04.858666",
     "status": "completed"
    },
    "tags": []
   },
   "outputs": [
    {
     "name": "stdout",
     "output_type": "stream",
     "text": [
      "Total records imported: 25404\n"
     ]
    }
   ],
   "source": [
    "# Define the endpoint and initial parameters.\n",
    "url = \"https://gisweb.charlottesville.org/arcgis/rest/services/OpenData_2/MapServer/6/query\"\n",
    "params = {\n",
    "    \"where\": \"1=1\",\n",
    "    \"outFields\": \"*\",\n",
    "    \"outSR\": 4326,\n",
    "    \"f\": \"json\",\n",
    "    \"resultOffset\": 0,       # Starting index for results\n",
    "    \"resultRecordCount\": 10000  # Maximum records per batch (if allowed by the API)\n",
    "}\n",
    "\n",
    "records = []\n",
    "\n",
    "while True:\n",
    "    response = requests.get(url, params=params)\n",
    "    response.raise_for_status()\n",
    "    data = response.json()\n",
    "    \n",
    "    # Get the current batch of features.\n",
    "    features = data.get(\"features\", [])\n",
    "    if not features:\n",
    "        break\n",
    "\n",
    "    # Extract the attributes from the features.\n",
    "    batch_records = [feature.get(\"attributes\", {}) for feature in features]\n",
    "    records.extend(batch_records)\n",
    "    \n",
    "    # If the batch size is less than the requested count, we reached the end.\n",
    "    if len(features) < params[\"resultRecordCount\"]:\n",
    "        break\n",
    "\n",
    "    # Update the resultOffset for the next batch.\n",
    "    params[\"resultOffset\"] += params[\"resultRecordCount\"]\n",
    "\n",
    "# Create a DataFrame from the combined records.\n",
    "df = pd.DataFrame(records)\n",
    "print(\"Total records imported:\", len(df))\n"
   ]
  },
  {
   "cell_type": "code",
   "execution_count": 3,
   "id": "ec5e1894",
   "metadata": {
    "execution": {
     "iopub.execute_input": "2025-05-22T01:04:06.014214Z",
     "iopub.status.busy": "2025-05-22T01:04:06.013723Z",
     "iopub.status.idle": "2025-05-22T01:04:06.026174Z",
     "shell.execute_reply": "2025-05-22T01:04:06.025585Z"
    },
    "papermill": {
     "duration": 0.019591,
     "end_time": "2025-05-22T01:04:06.027186",
     "exception": false,
     "start_time": "2025-05-22T01:04:06.007595",
     "status": "completed"
    },
    "tags": []
   },
   "outputs": [
    {
     "data": {
      "text/html": [
       "<div>\n",
       "<style scoped>\n",
       "    .dataframe tbody tr th:only-of-type {\n",
       "        vertical-align: middle;\n",
       "    }\n",
       "\n",
       "    .dataframe tbody tr th {\n",
       "        vertical-align: top;\n",
       "    }\n",
       "\n",
       "    .dataframe thead th {\n",
       "        text-align: right;\n",
       "    }\n",
       "</style>\n",
       "<table border=\"1\" class=\"dataframe\">\n",
       "  <thead>\n",
       "    <tr style=\"text-align: right;\">\n",
       "      <th></th>\n",
       "      <th>RecordID</th>\n",
       "      <th>Offense</th>\n",
       "      <th>IncidentID</th>\n",
       "      <th>BlockNumber</th>\n",
       "      <th>StreetName</th>\n",
       "      <th>Agency</th>\n",
       "      <th>DateReported</th>\n",
       "      <th>HourReported</th>\n",
       "      <th>ReportingOfficer</th>\n",
       "    </tr>\n",
       "  </thead>\n",
       "  <tbody>\n",
       "    <tr>\n",
       "      <th>0</th>\n",
       "      <td>1</td>\n",
       "      <td>Larceny - Shoplifitng</td>\n",
       "      <td>202500017096</td>\n",
       "      <td>1100</td>\n",
       "      <td>5TH ST SW</td>\n",
       "      <td>CPD</td>\n",
       "      <td>1747684475000</td>\n",
       "      <td>1554</td>\n",
       "      <td>Vlasis, Christopher</td>\n",
       "    </tr>\n",
       "    <tr>\n",
       "      <th>1</th>\n",
       "      <td>2</td>\n",
       "      <td>Fraud-false pretense</td>\n",
       "      <td>202500017087</td>\n",
       "      <td>400</td>\n",
       "      <td>GARRETT ST, D</td>\n",
       "      <td>CPD</td>\n",
       "      <td>1747681132000</td>\n",
       "      <td>1458</td>\n",
       "      <td>Schwartz, Honora</td>\n",
       "    </tr>\n",
       "    <tr>\n",
       "      <th>2</th>\n",
       "      <td>3</td>\n",
       "      <td>Larceny - Shoplifitng</td>\n",
       "      <td>202500017075</td>\n",
       "      <td>1100</td>\n",
       "      <td>5TH ST SW</td>\n",
       "      <td>CPD</td>\n",
       "      <td>1747676586000</td>\n",
       "      <td>1343</td>\n",
       "      <td>Schwartz, Honora</td>\n",
       "    </tr>\n",
       "    <tr>\n",
       "      <th>3</th>\n",
       "      <td>4</td>\n",
       "      <td>Larceny - Theft from Building</td>\n",
       "      <td>202500017050</td>\n",
       "      <td>600</td>\n",
       "      <td>RUGBY RD</td>\n",
       "      <td>CPD</td>\n",
       "      <td>1747668815000</td>\n",
       "      <td>1133</td>\n",
       "      <td>Mian, Ghulam</td>\n",
       "    </tr>\n",
       "    <tr>\n",
       "      <th>4</th>\n",
       "      <td>5</td>\n",
       "      <td>Larceny - Shoplifitng</td>\n",
       "      <td>202500017047</td>\n",
       "      <td>1100</td>\n",
       "      <td>5TH ST SW</td>\n",
       "      <td>CPD</td>\n",
       "      <td>1747667260000</td>\n",
       "      <td>1107</td>\n",
       "      <td>Schwartz, Honora</td>\n",
       "    </tr>\n",
       "  </tbody>\n",
       "</table>\n",
       "</div>"
      ],
      "text/plain": [
       "   RecordID                        Offense    IncidentID BlockNumber  \\\n",
       "0         1          Larceny - Shoplifitng  202500017096        1100   \n",
       "1         2           Fraud-false pretense  202500017087         400   \n",
       "2         3          Larceny - Shoplifitng  202500017075        1100   \n",
       "3         4  Larceny - Theft from Building  202500017050         600   \n",
       "4         5          Larceny - Shoplifitng  202500017047        1100   \n",
       "\n",
       "      StreetName Agency   DateReported HourReported     ReportingOfficer  \n",
       "0      5TH ST SW    CPD  1747684475000         1554  Vlasis, Christopher  \n",
       "1  GARRETT ST, D    CPD  1747681132000         1458     Schwartz, Honora  \n",
       "2      5TH ST SW    CPD  1747676586000         1343     Schwartz, Honora  \n",
       "3       RUGBY RD    CPD  1747668815000         1133         Mian, Ghulam  \n",
       "4      5TH ST SW    CPD  1747667260000         1107     Schwartz, Honora  "
      ]
     },
     "execution_count": 3,
     "metadata": {},
     "output_type": "execute_result"
    }
   ],
   "source": [
    "df.head()"
   ]
  },
  {
   "cell_type": "code",
   "execution_count": 4,
   "id": "dfd62e63",
   "metadata": {
    "execution": {
     "iopub.execute_input": "2025-05-22T01:04:06.039221Z",
     "iopub.status.busy": "2025-05-22T01:04:06.038966Z",
     "iopub.status.idle": "2025-05-22T01:04:06.043722Z",
     "shell.execute_reply": "2025-05-22T01:04:06.043164Z"
    },
    "papermill": {
     "duration": 0.012088,
     "end_time": "2025-05-22T01:04:06.044818",
     "exception": false,
     "start_time": "2025-05-22T01:04:06.032730",
     "status": "completed"
    },
    "tags": []
   },
   "outputs": [
    {
     "data": {
      "text/plain": [
       "Index(['RecordID', 'Offense', 'IncidentID', 'BlockNumber', 'StreetName',\n",
       "       'Agency', 'DateReported', 'HourReported', 'ReportingOfficer'],\n",
       "      dtype='object')"
      ]
     },
     "execution_count": 4,
     "metadata": {},
     "output_type": "execute_result"
    }
   ],
   "source": [
    "df.columns"
   ]
  },
  {
   "cell_type": "code",
   "execution_count": 5,
   "id": "fb38280a",
   "metadata": {
    "execution": {
     "iopub.execute_input": "2025-05-22T01:04:06.057163Z",
     "iopub.status.busy": "2025-05-22T01:04:06.056737Z",
     "iopub.status.idle": "2025-05-22T01:04:06.083673Z",
     "shell.execute_reply": "2025-05-22T01:04:06.082971Z"
    },
    "papermill": {
     "duration": 0.034336,
     "end_time": "2025-05-22T01:04:06.084760",
     "exception": false,
     "start_time": "2025-05-22T01:04:06.050424",
     "status": "completed"
    },
    "tags": []
   },
   "outputs": [
    {
     "name": "stdout",
     "output_type": "stream",
     "text": [
      "<class 'pandas.core.frame.DataFrame'>\n",
      "RangeIndex: 25404 entries, 0 to 25403\n",
      "Data columns (total 9 columns):\n",
      " #   Column            Non-Null Count  Dtype \n",
      "---  ------            --------------  ----- \n",
      " 0   RecordID          25404 non-null  int64 \n",
      " 1   Offense           25404 non-null  object\n",
      " 2   IncidentID        25404 non-null  object\n",
      " 3   BlockNumber       25404 non-null  object\n",
      " 4   StreetName        25404 non-null  object\n",
      " 5   Agency            25404 non-null  object\n",
      " 6   DateReported      25404 non-null  int64 \n",
      " 7   HourReported      25404 non-null  object\n",
      " 8   ReportingOfficer  25387 non-null  object\n",
      "dtypes: int64(2), object(7)\n",
      "memory usage: 1.7+ MB\n"
     ]
    }
   ],
   "source": [
    "df.info()"
   ]
  },
  {
   "cell_type": "markdown",
   "id": "6b34c851",
   "metadata": {
    "papermill": {
     "duration": 0.00556,
     "end_time": "2025-05-22T01:04:06.096219",
     "exception": false,
     "start_time": "2025-05-22T01:04:06.090659",
     "status": "completed"
    },
    "tags": []
   },
   "source": [
    "### Missing Values"
   ]
  },
  {
   "cell_type": "code",
   "execution_count": 6,
   "id": "d95e20be",
   "metadata": {
    "execution": {
     "iopub.execute_input": "2025-05-22T01:04:06.108686Z",
     "iopub.status.busy": "2025-05-22T01:04:06.108168Z",
     "iopub.status.idle": "2025-05-22T01:04:06.133333Z",
     "shell.execute_reply": "2025-05-22T01:04:06.132677Z"
    },
    "papermill": {
     "duration": 0.032601,
     "end_time": "2025-05-22T01:04:06.134385",
     "exception": false,
     "start_time": "2025-05-22T01:04:06.101784",
     "status": "completed"
    },
    "tags": []
   },
   "outputs": [
    {
     "name": "stdout",
     "output_type": "stream",
     "text": [
      "                  MissingCount  MissingPercentage\n",
      "RecordID                     0               0.00\n",
      "Offense                      0               0.00\n",
      "IncidentID                   0               0.00\n",
      "BlockNumber                  0               0.00\n",
      "StreetName                   0               0.00\n",
      "Agency                       0               0.00\n",
      "DateReported                 0               0.00\n",
      "HourReported                 0               0.00\n",
      "ReportingOfficer            17               0.07\n"
     ]
    }
   ],
   "source": [
    "def missing_percentage(df):\n",
    "    \"\"\"\n",
    "    Returns a DataFrame with the count and percentage of missing values for each column.\n",
    "    \n",
    "    Parameters:\n",
    "        df (pd.DataFrame): The input DataFrame.\n",
    "    \n",
    "    Returns:\n",
    "        pd.DataFrame: A DataFrame with columns 'MissingCount' and 'MissingPercentage'.\n",
    "    \"\"\"\n",
    "    total_rows = len(df)\n",
    "    missing_count = df.isnull().sum()\n",
    "    missing_percent = (missing_count / total_rows) * 100\n",
    "    \n",
    "    result = pd.DataFrame({\n",
    "        'MissingCount': missing_count,\n",
    "        'MissingPercentage': missing_percent.round(2)\n",
    "    })\n",
    "    \n",
    "    return result\n",
    "\n",
    "# Example usage:\n",
    "missing_info = missing_percentage(df)\n",
    "print(missing_info)\n"
   ]
  },
  {
   "cell_type": "markdown",
   "id": "6151b833",
   "metadata": {
    "papermill": {
     "duration": 0.005714,
     "end_time": "2025-05-22T01:04:06.146207",
     "exception": false,
     "start_time": "2025-05-22T01:04:06.140493",
     "status": "completed"
    },
    "tags": []
   },
   "source": [
    "## Data Preparation"
   ]
  },
  {
   "cell_type": "markdown",
   "id": "6db0a921",
   "metadata": {
    "papermill": {
     "duration": 0.005704,
     "end_time": "2025-05-22T01:04:06.157614",
     "exception": false,
     "start_time": "2025-05-22T01:04:06.151910",
     "status": "completed"
    },
    "tags": []
   },
   "source": [
    "### Data Conversion"
   ]
  },
  {
   "cell_type": "code",
   "execution_count": 7,
   "id": "cfd8aed4",
   "metadata": {
    "execution": {
     "iopub.execute_input": "2025-05-22T01:04:06.170359Z",
     "iopub.status.busy": "2025-05-22T01:04:06.169871Z",
     "iopub.status.idle": "2025-05-22T01:04:06.537530Z",
     "shell.execute_reply": "2025-05-22T01:04:06.536846Z"
    },
    "papermill": {
     "duration": 0.375391,
     "end_time": "2025-05-22T01:04:06.538625",
     "exception": false,
     "start_time": "2025-05-22T01:04:06.163234",
     "status": "completed"
    },
    "tags": []
   },
   "outputs": [
    {
     "data": {
      "text/html": [
       "<div>\n",
       "<style scoped>\n",
       "    .dataframe tbody tr th:only-of-type {\n",
       "        vertical-align: middle;\n",
       "    }\n",
       "\n",
       "    .dataframe tbody tr th {\n",
       "        vertical-align: top;\n",
       "    }\n",
       "\n",
       "    .dataframe thead th {\n",
       "        text-align: right;\n",
       "    }\n",
       "</style>\n",
       "<table border=\"1\" class=\"dataframe\">\n",
       "  <thead>\n",
       "    <tr style=\"text-align: right;\">\n",
       "      <th></th>\n",
       "      <th>RecordID</th>\n",
       "      <th>Offense</th>\n",
       "      <th>IncidentID</th>\n",
       "      <th>BlockNumber</th>\n",
       "      <th>StreetName</th>\n",
       "      <th>Agency</th>\n",
       "      <th>HourReported</th>\n",
       "      <th>ReportingOfficer</th>\n",
       "      <th>Date</th>\n",
       "      <th>DateString</th>\n",
       "      <th>DayOfWeek</th>\n",
       "      <th>Weekend</th>\n",
       "      <th>Season</th>\n",
       "      <th>HourAMPM</th>\n",
       "      <th>TimeOfDay</th>\n",
       "    </tr>\n",
       "  </thead>\n",
       "  <tbody>\n",
       "    <tr>\n",
       "      <th>0</th>\n",
       "      <td>1</td>\n",
       "      <td>Larceny - Shoplifitng</td>\n",
       "      <td>202500017096</td>\n",
       "      <td>1100</td>\n",
       "      <td>5TH ST SW</td>\n",
       "      <td>CPD</td>\n",
       "      <td>1554</td>\n",
       "      <td>Vlasis, Christopher</td>\n",
       "      <td>2025-05-19 15:54:35</td>\n",
       "      <td>2025-05-19 03:54:35 PM</td>\n",
       "      <td>Monday</td>\n",
       "      <td>False</td>\n",
       "      <td>Spring</td>\n",
       "      <td>03:54 PM</td>\n",
       "      <td>Afternoon</td>\n",
       "    </tr>\n",
       "    <tr>\n",
       "      <th>1</th>\n",
       "      <td>2</td>\n",
       "      <td>Fraud-false pretense</td>\n",
       "      <td>202500017087</td>\n",
       "      <td>400</td>\n",
       "      <td>GARRETT ST, D</td>\n",
       "      <td>CPD</td>\n",
       "      <td>1458</td>\n",
       "      <td>Schwartz, Honora</td>\n",
       "      <td>2025-05-19 14:58:52</td>\n",
       "      <td>2025-05-19 02:58:52 PM</td>\n",
       "      <td>Monday</td>\n",
       "      <td>False</td>\n",
       "      <td>Spring</td>\n",
       "      <td>02:58 PM</td>\n",
       "      <td>Afternoon</td>\n",
       "    </tr>\n",
       "    <tr>\n",
       "      <th>2</th>\n",
       "      <td>3</td>\n",
       "      <td>Larceny - Shoplifitng</td>\n",
       "      <td>202500017075</td>\n",
       "      <td>1100</td>\n",
       "      <td>5TH ST SW</td>\n",
       "      <td>CPD</td>\n",
       "      <td>1343</td>\n",
       "      <td>Schwartz, Honora</td>\n",
       "      <td>2025-05-19 13:43:06</td>\n",
       "      <td>2025-05-19 01:43:06 PM</td>\n",
       "      <td>Monday</td>\n",
       "      <td>False</td>\n",
       "      <td>Spring</td>\n",
       "      <td>01:43 PM</td>\n",
       "      <td>Afternoon</td>\n",
       "    </tr>\n",
       "    <tr>\n",
       "      <th>3</th>\n",
       "      <td>4</td>\n",
       "      <td>Larceny - Theft from Building</td>\n",
       "      <td>202500017050</td>\n",
       "      <td>600</td>\n",
       "      <td>RUGBY RD</td>\n",
       "      <td>CPD</td>\n",
       "      <td>1133</td>\n",
       "      <td>Mian, Ghulam</td>\n",
       "      <td>2025-05-19 11:33:35</td>\n",
       "      <td>2025-05-19 11:33:35 AM</td>\n",
       "      <td>Monday</td>\n",
       "      <td>False</td>\n",
       "      <td>Spring</td>\n",
       "      <td>11:33 AM</td>\n",
       "      <td>Morning</td>\n",
       "    </tr>\n",
       "    <tr>\n",
       "      <th>4</th>\n",
       "      <td>5</td>\n",
       "      <td>Larceny - Shoplifitng</td>\n",
       "      <td>202500017047</td>\n",
       "      <td>1100</td>\n",
       "      <td>5TH ST SW</td>\n",
       "      <td>CPD</td>\n",
       "      <td>1107</td>\n",
       "      <td>Schwartz, Honora</td>\n",
       "      <td>2025-05-19 11:07:40</td>\n",
       "      <td>2025-05-19 11:07:40 AM</td>\n",
       "      <td>Monday</td>\n",
       "      <td>False</td>\n",
       "      <td>Spring</td>\n",
       "      <td>11:07 AM</td>\n",
       "      <td>Morning</td>\n",
       "    </tr>\n",
       "  </tbody>\n",
       "</table>\n",
       "</div>"
      ],
      "text/plain": [
       "   RecordID                        Offense    IncidentID BlockNumber  \\\n",
       "0         1          Larceny - Shoplifitng  202500017096        1100   \n",
       "1         2           Fraud-false pretense  202500017087         400   \n",
       "2         3          Larceny - Shoplifitng  202500017075        1100   \n",
       "3         4  Larceny - Theft from Building  202500017050         600   \n",
       "4         5          Larceny - Shoplifitng  202500017047        1100   \n",
       "\n",
       "      StreetName Agency HourReported     ReportingOfficer                Date  \\\n",
       "0      5TH ST SW    CPD         1554  Vlasis, Christopher 2025-05-19 15:54:35   \n",
       "1  GARRETT ST, D    CPD         1458     Schwartz, Honora 2025-05-19 14:58:52   \n",
       "2      5TH ST SW    CPD         1343     Schwartz, Honora 2025-05-19 13:43:06   \n",
       "3       RUGBY RD    CPD         1133         Mian, Ghulam 2025-05-19 11:33:35   \n",
       "4      5TH ST SW    CPD         1107     Schwartz, Honora 2025-05-19 11:07:40   \n",
       "\n",
       "               DateString DayOfWeek  Weekend  Season  HourAMPM  TimeOfDay  \n",
       "0  2025-05-19 03:54:35 PM    Monday    False  Spring  03:54 PM  Afternoon  \n",
       "1  2025-05-19 02:58:52 PM    Monday    False  Spring  02:58 PM  Afternoon  \n",
       "2  2025-05-19 01:43:06 PM    Monday    False  Spring  01:43 PM  Afternoon  \n",
       "3  2025-05-19 11:33:35 AM    Monday    False  Spring  11:33 AM    Morning  \n",
       "4  2025-05-19 11:07:40 AM    Monday    False  Spring  11:07 AM    Morning  "
      ]
     },
     "execution_count": 7,
     "metadata": {},
     "output_type": "execute_result"
    }
   ],
   "source": [
    "def convert_and_categorize_datereported(df, col='DateReported'):\n",
    "    \"\"\"\n",
    "    Converts an epoch (in milliseconds) date column into a timezone-aware datetime,\n",
    "    converts it to Eastern Time, and then creates columns for day-of-week, weekend flag,\n",
    "    season, 12-hour formatted time, and time-of-day. Keeps both a real datetime column\n",
    "    (Date) and a string representation (DateString).\n",
    "    \"\"\"\n",
    "    import pandas as pd\n",
    "\n",
    "    # Convert the epoch timestamp to a pandas datetime object as UTC, then convert to US/Eastern.\n",
    "    df[\"DateReported_dt\"] = (\n",
    "        pd.to_datetime(df[col], unit=\"ms\", errors=\"coerce\", utc=True)\n",
    "        .dt.tz_convert(\"US/Eastern\")\n",
    "    )\n",
    "    \n",
    "    # Create a true datetime column (remove timezone if you prefer naive datetime)\n",
    "    df[\"Date\"] = df[\"DateReported_dt\"].dt.tz_localize(None)\n",
    "\n",
    "    # Optionally, create a separate string-formatted column\n",
    "    df[\"DateString\"] = df[\"DateReported_dt\"].dt.strftime(\"%Y-%m-%d %I:%M:%S %p\")\n",
    "    \n",
    "    # DayOfWeek\n",
    "    df[\"DayOfWeek\"] = df[\"DateReported_dt\"].dt.day_name()\n",
    "    \n",
    "    # Weekend\n",
    "    df[\"Weekend\"] = df[\"DayOfWeek\"].isin([\"Saturday\", \"Sunday\"])\n",
    "    \n",
    "    # Helper function to determine the season\n",
    "    def get_season(dt):\n",
    "        month = dt.month\n",
    "        day = dt.day\n",
    "        # Approximate Northern Hemisphere season boundaries:\n",
    "        if (month == 12 and day >= 21) or (month < 3) or (month == 3 and day < 20):\n",
    "            return \"Winter\"\n",
    "        elif (month == 3 and day >= 20) or (month < 6) or (month == 6 and day < 21):\n",
    "            return \"Spring\"\n",
    "        elif (month == 6 and day >= 21) or (month < 9) or (month == 9 and day < 22):\n",
    "            return \"Summer\"\n",
    "        else:\n",
    "            return \"Autumn\"\n",
    "    \n",
    "    df[\"Season\"] = df[\"DateReported_dt\"].apply(get_season)\n",
    "    \n",
    "    # 12-hour formatted time (HourAMPM)\n",
    "    df[\"HourAMPM\"] = df[\"DateReported_dt\"].dt.strftime(\"%I:%M %p\")\n",
    "    \n",
    "    # Extract hour (0-23) for time-of-day\n",
    "    df[\"HourValue\"] = df[\"DateReported_dt\"].dt.hour\n",
    "    \n",
    "    def time_of_day(hour):\n",
    "        if pd.isnull(hour):\n",
    "            return None\n",
    "        if 5 <= hour < 12:\n",
    "            return \"Morning\"\n",
    "        elif 12 <= hour < 17:\n",
    "            return \"Afternoon\"\n",
    "        elif 17 <= hour < 21:\n",
    "            return \"Evening\"\n",
    "        else:\n",
    "            return \"Night\"\n",
    "    \n",
    "    df[\"TimeOfDay\"] = df[\"HourValue\"].apply(time_of_day)\n",
    "    \n",
    "    # Drop columns you no longer need\n",
    "    df.drop(columns=[col, \"DateReported_dt\", \"HourValue\"], inplace=True)\n",
    "    \n",
    "    return df\n",
    "\n",
    "# Example usage:\n",
    "df = convert_and_categorize_datereported(df)\n",
    "df.head()\n"
   ]
  },
  {
   "cell_type": "code",
   "execution_count": 8,
   "id": "677739b3",
   "metadata": {
    "execution": {
     "iopub.execute_input": "2025-05-22T01:04:06.551972Z",
     "iopub.status.busy": "2025-05-22T01:04:06.551572Z",
     "iopub.status.idle": "2025-05-22T01:04:06.577869Z",
     "shell.execute_reply": "2025-05-22T01:04:06.577198Z"
    },
    "papermill": {
     "duration": 0.034033,
     "end_time": "2025-05-22T01:04:06.578904",
     "exception": false,
     "start_time": "2025-05-22T01:04:06.544871",
     "status": "completed"
    },
    "tags": []
   },
   "outputs": [
    {
     "name": "stdout",
     "output_type": "stream",
     "text": [
      "<class 'pandas.core.frame.DataFrame'>\n",
      "RangeIndex: 25404 entries, 0 to 25403\n",
      "Data columns (total 15 columns):\n",
      " #   Column            Non-Null Count  Dtype         \n",
      "---  ------            --------------  -----         \n",
      " 0   RecordID          25404 non-null  int64         \n",
      " 1   Offense           25404 non-null  object        \n",
      " 2   IncidentID        25404 non-null  object        \n",
      " 3   BlockNumber       25404 non-null  object        \n",
      " 4   StreetName        25404 non-null  object        \n",
      " 5   Agency            25404 non-null  object        \n",
      " 6   HourReported      25404 non-null  object        \n",
      " 7   ReportingOfficer  25387 non-null  object        \n",
      " 8   Date              25404 non-null  datetime64[ns]\n",
      " 9   DateString        25404 non-null  object        \n",
      " 10  DayOfWeek         25404 non-null  object        \n",
      " 11  Weekend           25404 non-null  bool          \n",
      " 12  Season            25404 non-null  object        \n",
      " 13  HourAMPM          25404 non-null  object        \n",
      " 14  TimeOfDay         25404 non-null  object        \n",
      "dtypes: bool(1), datetime64[ns](1), int64(1), object(12)\n",
      "memory usage: 2.7+ MB\n"
     ]
    }
   ],
   "source": [
    "df.info()"
   ]
  },
  {
   "cell_type": "markdown",
   "id": "f9e231cb",
   "metadata": {
    "papermill": {
     "duration": 0.005915,
     "end_time": "2025-05-22T01:04:06.590852",
     "exception": false,
     "start_time": "2025-05-22T01:04:06.584937",
     "status": "completed"
    },
    "tags": []
   },
   "source": [
    "### Coordinates"
   ]
  },
  {
   "cell_type": "code",
   "execution_count": 9,
   "id": "2da27831",
   "metadata": {
    "execution": {
     "iopub.execute_input": "2025-05-22T01:04:06.603778Z",
     "iopub.status.busy": "2025-05-22T01:04:06.603385Z",
     "iopub.status.idle": "2025-05-22T01:04:06.646528Z",
     "shell.execute_reply": "2025-05-22T01:04:06.645865Z"
    },
    "papermill": {
     "duration": 0.050809,
     "end_time": "2025-05-22T01:04:06.647553",
     "exception": false,
     "start_time": "2025-05-22T01:04:06.596744",
     "status": "completed"
    },
    "tags": []
   },
   "outputs": [
    {
     "name": "stdout",
     "output_type": "stream",
     "text": [
      "Loaded geocode cache.\n",
      "Geocode cache updated and saved.\n"
     ]
    },
    {
     "data": {
      "text/html": [
       "<div>\n",
       "<style scoped>\n",
       "    .dataframe tbody tr th:only-of-type {\n",
       "        vertical-align: middle;\n",
       "    }\n",
       "\n",
       "    .dataframe tbody tr th {\n",
       "        vertical-align: top;\n",
       "    }\n",
       "\n",
       "    .dataframe thead th {\n",
       "        text-align: right;\n",
       "    }\n",
       "</style>\n",
       "<table border=\"1\" class=\"dataframe\">\n",
       "  <thead>\n",
       "    <tr style=\"text-align: right;\">\n",
       "      <th></th>\n",
       "      <th>RecordID</th>\n",
       "      <th>Offense</th>\n",
       "      <th>IncidentID</th>\n",
       "      <th>BlockNumber</th>\n",
       "      <th>StreetName</th>\n",
       "      <th>Agency</th>\n",
       "      <th>HourReported</th>\n",
       "      <th>ReportingOfficer</th>\n",
       "      <th>Date</th>\n",
       "      <th>DateString</th>\n",
       "      <th>DayOfWeek</th>\n",
       "      <th>Weekend</th>\n",
       "      <th>Season</th>\n",
       "      <th>HourAMPM</th>\n",
       "      <th>TimeOfDay</th>\n",
       "      <th>FullStreet</th>\n",
       "      <th>lat</th>\n",
       "      <th>lon</th>\n",
       "    </tr>\n",
       "  </thead>\n",
       "  <tbody>\n",
       "    <tr>\n",
       "      <th>0</th>\n",
       "      <td>1</td>\n",
       "      <td>Larceny - Shoplifitng</td>\n",
       "      <td>202500017096</td>\n",
       "      <td>1100</td>\n",
       "      <td>5TH ST SW</td>\n",
       "      <td>CPD</td>\n",
       "      <td>1554</td>\n",
       "      <td>Vlasis, Christopher</td>\n",
       "      <td>2025-05-19 15:54:35</td>\n",
       "      <td>2025-05-19 03:54:35 PM</td>\n",
       "      <td>Monday</td>\n",
       "      <td>False</td>\n",
       "      <td>Spring</td>\n",
       "      <td>03:54 PM</td>\n",
       "      <td>Afternoon</td>\n",
       "      <td>1100 5TH ST SW</td>\n",
       "      <td>38.017130</td>\n",
       "      <td>-78.497806</td>\n",
       "    </tr>\n",
       "    <tr>\n",
       "      <th>1</th>\n",
       "      <td>2</td>\n",
       "      <td>Fraud-false pretense</td>\n",
       "      <td>202500017087</td>\n",
       "      <td>400</td>\n",
       "      <td>GARRETT ST, D</td>\n",
       "      <td>CPD</td>\n",
       "      <td>1458</td>\n",
       "      <td>Schwartz, Honora</td>\n",
       "      <td>2025-05-19 14:58:52</td>\n",
       "      <td>2025-05-19 02:58:52 PM</td>\n",
       "      <td>Monday</td>\n",
       "      <td>False</td>\n",
       "      <td>Spring</td>\n",
       "      <td>02:58 PM</td>\n",
       "      <td>Afternoon</td>\n",
       "      <td>400 GARRETT ST, D</td>\n",
       "      <td>38.027935</td>\n",
       "      <td>-78.481659</td>\n",
       "    </tr>\n",
       "    <tr>\n",
       "      <th>2</th>\n",
       "      <td>3</td>\n",
       "      <td>Larceny - Shoplifitng</td>\n",
       "      <td>202500017075</td>\n",
       "      <td>1100</td>\n",
       "      <td>5TH ST SW</td>\n",
       "      <td>CPD</td>\n",
       "      <td>1343</td>\n",
       "      <td>Schwartz, Honora</td>\n",
       "      <td>2025-05-19 13:43:06</td>\n",
       "      <td>2025-05-19 01:43:06 PM</td>\n",
       "      <td>Monday</td>\n",
       "      <td>False</td>\n",
       "      <td>Spring</td>\n",
       "      <td>01:43 PM</td>\n",
       "      <td>Afternoon</td>\n",
       "      <td>1100 5TH ST SW</td>\n",
       "      <td>38.017130</td>\n",
       "      <td>-78.497806</td>\n",
       "    </tr>\n",
       "    <tr>\n",
       "      <th>3</th>\n",
       "      <td>4</td>\n",
       "      <td>Larceny - Theft from Building</td>\n",
       "      <td>202500017050</td>\n",
       "      <td>600</td>\n",
       "      <td>RUGBY RD</td>\n",
       "      <td>CPD</td>\n",
       "      <td>1133</td>\n",
       "      <td>Mian, Ghulam</td>\n",
       "      <td>2025-05-19 11:33:35</td>\n",
       "      <td>2025-05-19 11:33:35 AM</td>\n",
       "      <td>Monday</td>\n",
       "      <td>False</td>\n",
       "      <td>Spring</td>\n",
       "      <td>11:33 AM</td>\n",
       "      <td>Morning</td>\n",
       "      <td>600 RUGBY RD</td>\n",
       "      <td>38.041930</td>\n",
       "      <td>-78.499985</td>\n",
       "    </tr>\n",
       "    <tr>\n",
       "      <th>4</th>\n",
       "      <td>5</td>\n",
       "      <td>Larceny - Shoplifitng</td>\n",
       "      <td>202500017047</td>\n",
       "      <td>1100</td>\n",
       "      <td>5TH ST SW</td>\n",
       "      <td>CPD</td>\n",
       "      <td>1107</td>\n",
       "      <td>Schwartz, Honora</td>\n",
       "      <td>2025-05-19 11:07:40</td>\n",
       "      <td>2025-05-19 11:07:40 AM</td>\n",
       "      <td>Monday</td>\n",
       "      <td>False</td>\n",
       "      <td>Spring</td>\n",
       "      <td>11:07 AM</td>\n",
       "      <td>Morning</td>\n",
       "      <td>1100 5TH ST SW</td>\n",
       "      <td>38.017130</td>\n",
       "      <td>-78.497806</td>\n",
       "    </tr>\n",
       "  </tbody>\n",
       "</table>\n",
       "</div>"
      ],
      "text/plain": [
       "   RecordID                        Offense    IncidentID BlockNumber  \\\n",
       "0         1          Larceny - Shoplifitng  202500017096        1100   \n",
       "1         2           Fraud-false pretense  202500017087         400   \n",
       "2         3          Larceny - Shoplifitng  202500017075        1100   \n",
       "3         4  Larceny - Theft from Building  202500017050         600   \n",
       "4         5          Larceny - Shoplifitng  202500017047        1100   \n",
       "\n",
       "      StreetName Agency HourReported     ReportingOfficer                Date  \\\n",
       "0      5TH ST SW    CPD         1554  Vlasis, Christopher 2025-05-19 15:54:35   \n",
       "1  GARRETT ST, D    CPD         1458     Schwartz, Honora 2025-05-19 14:58:52   \n",
       "2      5TH ST SW    CPD         1343     Schwartz, Honora 2025-05-19 13:43:06   \n",
       "3       RUGBY RD    CPD         1133         Mian, Ghulam 2025-05-19 11:33:35   \n",
       "4      5TH ST SW    CPD         1107     Schwartz, Honora 2025-05-19 11:07:40   \n",
       "\n",
       "               DateString DayOfWeek  Weekend  Season  HourAMPM  TimeOfDay  \\\n",
       "0  2025-05-19 03:54:35 PM    Monday    False  Spring  03:54 PM  Afternoon   \n",
       "1  2025-05-19 02:58:52 PM    Monday    False  Spring  02:58 PM  Afternoon   \n",
       "2  2025-05-19 01:43:06 PM    Monday    False  Spring  01:43 PM  Afternoon   \n",
       "3  2025-05-19 11:33:35 AM    Monday    False  Spring  11:33 AM    Morning   \n",
       "4  2025-05-19 11:07:40 AM    Monday    False  Spring  11:07 AM    Morning   \n",
       "\n",
       "          FullStreet        lat        lon  \n",
       "0     1100 5TH ST SW  38.017130 -78.497806  \n",
       "1  400 GARRETT ST, D  38.027935 -78.481659  \n",
       "2     1100 5TH ST SW  38.017130 -78.497806  \n",
       "3       600 RUGBY RD  38.041930 -78.499985  \n",
       "4     1100 5TH ST SW  38.017130 -78.497806  "
      ]
     },
     "execution_count": 9,
     "metadata": {},
     "output_type": "execute_result"
    }
   ],
   "source": [
    "# Combine BlockNumber and StreetName into a full address string\n",
    "df['FullStreet'] = df['BlockNumber'].astype(str) + \" \" + df['StreetName']\n",
    "\n",
    "# --- Step 1: Setup the Google Maps Client and Cache ---\n",
    "gmaps = googlemaps.Client(key=GOOGLE_API_KEY)\n",
    "\n",
    "# Try to load cached geocoding results if available.\n",
    "try:\n",
    "    with open(\"geocode_cache_google.pkl\", \"rb\") as f:\n",
    "        street_coords = pickle.load(f)\n",
    "    print(\"Loaded geocode cache.\")\n",
    "except FileNotFoundError:\n",
    "    street_coords = {}\n",
    "    print(\"No cache found; starting fresh.\")\n",
    "\n",
    "def geocode_address(address):\n",
    "    try:\n",
    "        # Append city and state to help geocoding\n",
    "        result = gmaps.geocode(f\"{address}, Charlottesville, VA\")\n",
    "        if result:\n",
    "            lat = result[0]['geometry']['location']['lat']\n",
    "            lon = result[0]['geometry']['location']['lng']\n",
    "            return lat, lon\n",
    "    except Exception as e:\n",
    "        print(f\"Error geocoding {address}: {e}\")\n",
    "    return None, None\n",
    "\n",
    "# --- Step 2: Geocode Only New Addresses ---\n",
    "unique_addresses = df['FullStreet'].unique()\n",
    "for address in unique_addresses:\n",
    "    if address not in street_coords:\n",
    "        lat, lon = geocode_address(address)\n",
    "        street_coords[address] = (lat, lon)\n",
    "        print(f\"Geocoded {address}: {lat}, {lon}\")\n",
    "\n",
    "# Save the updated cache to disk.\n",
    "with open(\"geocode_cache_google.pkl\", \"wb\") as f:\n",
    "    pickle.dump(street_coords, f)\n",
    "    print(\"Geocode cache updated and saved.\")\n",
    "\n",
    "# --- Step 3: Map Coordinates Back to DataFrame ---\n",
    "df['lat'] = df['FullStreet'].map(lambda s: street_coords.get(s, (None, None))[0])\n",
    "df['lon'] = df['FullStreet'].map(lambda s: street_coords.get(s, (None, None))[1])\n",
    "\n",
    "df.head()"
   ]
  },
  {
   "cell_type": "markdown",
   "id": "5b8be7b6",
   "metadata": {
    "papermill": {
     "duration": 0.006322,
     "end_time": "2025-05-22T01:04:06.660510",
     "exception": false,
     "start_time": "2025-05-22T01:04:06.654188",
     "status": "completed"
    },
    "tags": []
   },
   "source": [
    "### Neighborhood"
   ]
  },
  {
   "cell_type": "code",
   "execution_count": 10,
   "id": "b7483fe5",
   "metadata": {
    "execution": {
     "iopub.execute_input": "2025-05-22T01:04:06.673938Z",
     "iopub.status.busy": "2025-05-22T01:04:06.673467Z",
     "iopub.status.idle": "2025-05-22T01:04:06.934086Z",
     "shell.execute_reply": "2025-05-22T01:04:06.933364Z"
    },
    "papermill": {
     "duration": 0.268518,
     "end_time": "2025-05-22T01:04:06.935166",
     "exception": false,
     "start_time": "2025-05-22T01:04:06.666648",
     "status": "completed"
    },
    "tags": []
   },
   "outputs": [
    {
     "name": "stdout",
     "output_type": "stream",
     "text": [
      "Loaded neighborhood cache.\n"
     ]
    },
    {
     "data": {
      "text/html": [
       "<div>\n",
       "<style scoped>\n",
       "    .dataframe tbody tr th:only-of-type {\n",
       "        vertical-align: middle;\n",
       "    }\n",
       "\n",
       "    .dataframe tbody tr th {\n",
       "        vertical-align: top;\n",
       "    }\n",
       "\n",
       "    .dataframe thead th {\n",
       "        text-align: right;\n",
       "    }\n",
       "</style>\n",
       "<table border=\"1\" class=\"dataframe\">\n",
       "  <thead>\n",
       "    <tr style=\"text-align: right;\">\n",
       "      <th></th>\n",
       "      <th>RecordID</th>\n",
       "      <th>Offense</th>\n",
       "      <th>IncidentID</th>\n",
       "      <th>BlockNumber</th>\n",
       "      <th>StreetName</th>\n",
       "      <th>Agency</th>\n",
       "      <th>HourReported</th>\n",
       "      <th>ReportingOfficer</th>\n",
       "      <th>Date</th>\n",
       "      <th>DateString</th>\n",
       "      <th>DayOfWeek</th>\n",
       "      <th>Weekend</th>\n",
       "      <th>Season</th>\n",
       "      <th>HourAMPM</th>\n",
       "      <th>TimeOfDay</th>\n",
       "      <th>FullStreet</th>\n",
       "      <th>lat</th>\n",
       "      <th>lon</th>\n",
       "      <th>neighborhood</th>\n",
       "    </tr>\n",
       "  </thead>\n",
       "  <tbody>\n",
       "    <tr>\n",
       "      <th>0</th>\n",
       "      <td>1</td>\n",
       "      <td>Larceny - Shoplifitng</td>\n",
       "      <td>202500017096</td>\n",
       "      <td>1100</td>\n",
       "      <td>5TH ST SW</td>\n",
       "      <td>CPD</td>\n",
       "      <td>1554</td>\n",
       "      <td>Vlasis, Christopher</td>\n",
       "      <td>2025-05-19 15:54:35</td>\n",
       "      <td>2025-05-19 03:54:35 PM</td>\n",
       "      <td>Monday</td>\n",
       "      <td>False</td>\n",
       "      <td>Spring</td>\n",
       "      <td>03:54 PM</td>\n",
       "      <td>Afternoon</td>\n",
       "      <td>1100 5TH ST SW</td>\n",
       "      <td>38.017130</td>\n",
       "      <td>-78.497806</td>\n",
       "      <td>Johnson Village</td>\n",
       "    </tr>\n",
       "    <tr>\n",
       "      <th>1</th>\n",
       "      <td>2</td>\n",
       "      <td>Fraud-false pretense</td>\n",
       "      <td>202500017087</td>\n",
       "      <td>400</td>\n",
       "      <td>GARRETT ST, D</td>\n",
       "      <td>CPD</td>\n",
       "      <td>1458</td>\n",
       "      <td>Schwartz, Honora</td>\n",
       "      <td>2025-05-19 14:58:52</td>\n",
       "      <td>2025-05-19 02:58:52 PM</td>\n",
       "      <td>Monday</td>\n",
       "      <td>False</td>\n",
       "      <td>Spring</td>\n",
       "      <td>02:58 PM</td>\n",
       "      <td>Afternoon</td>\n",
       "      <td>400 GARRETT ST, D</td>\n",
       "      <td>38.027935</td>\n",
       "      <td>-78.481659</td>\n",
       "      <td>North Downtown</td>\n",
       "    </tr>\n",
       "    <tr>\n",
       "      <th>2</th>\n",
       "      <td>3</td>\n",
       "      <td>Larceny - Shoplifitng</td>\n",
       "      <td>202500017075</td>\n",
       "      <td>1100</td>\n",
       "      <td>5TH ST SW</td>\n",
       "      <td>CPD</td>\n",
       "      <td>1343</td>\n",
       "      <td>Schwartz, Honora</td>\n",
       "      <td>2025-05-19 13:43:06</td>\n",
       "      <td>2025-05-19 01:43:06 PM</td>\n",
       "      <td>Monday</td>\n",
       "      <td>False</td>\n",
       "      <td>Spring</td>\n",
       "      <td>01:43 PM</td>\n",
       "      <td>Afternoon</td>\n",
       "      <td>1100 5TH ST SW</td>\n",
       "      <td>38.017130</td>\n",
       "      <td>-78.497806</td>\n",
       "      <td>Johnson Village</td>\n",
       "    </tr>\n",
       "    <tr>\n",
       "      <th>3</th>\n",
       "      <td>4</td>\n",
       "      <td>Larceny - Theft from Building</td>\n",
       "      <td>202500017050</td>\n",
       "      <td>600</td>\n",
       "      <td>RUGBY RD</td>\n",
       "      <td>CPD</td>\n",
       "      <td>1133</td>\n",
       "      <td>Mian, Ghulam</td>\n",
       "      <td>2025-05-19 11:33:35</td>\n",
       "      <td>2025-05-19 11:33:35 AM</td>\n",
       "      <td>Monday</td>\n",
       "      <td>False</td>\n",
       "      <td>Spring</td>\n",
       "      <td>11:33 AM</td>\n",
       "      <td>Morning</td>\n",
       "      <td>600 RUGBY RD</td>\n",
       "      <td>38.041930</td>\n",
       "      <td>-78.499985</td>\n",
       "      <td>Venable</td>\n",
       "    </tr>\n",
       "    <tr>\n",
       "      <th>4</th>\n",
       "      <td>5</td>\n",
       "      <td>Larceny - Shoplifitng</td>\n",
       "      <td>202500017047</td>\n",
       "      <td>1100</td>\n",
       "      <td>5TH ST SW</td>\n",
       "      <td>CPD</td>\n",
       "      <td>1107</td>\n",
       "      <td>Schwartz, Honora</td>\n",
       "      <td>2025-05-19 11:07:40</td>\n",
       "      <td>2025-05-19 11:07:40 AM</td>\n",
       "      <td>Monday</td>\n",
       "      <td>False</td>\n",
       "      <td>Spring</td>\n",
       "      <td>11:07 AM</td>\n",
       "      <td>Morning</td>\n",
       "      <td>1100 5TH ST SW</td>\n",
       "      <td>38.017130</td>\n",
       "      <td>-78.497806</td>\n",
       "      <td>Johnson Village</td>\n",
       "    </tr>\n",
       "  </tbody>\n",
       "</table>\n",
       "</div>"
      ],
      "text/plain": [
       "   RecordID                        Offense    IncidentID BlockNumber  \\\n",
       "0         1          Larceny - Shoplifitng  202500017096        1100   \n",
       "1         2           Fraud-false pretense  202500017087         400   \n",
       "2         3          Larceny - Shoplifitng  202500017075        1100   \n",
       "3         4  Larceny - Theft from Building  202500017050         600   \n",
       "4         5          Larceny - Shoplifitng  202500017047        1100   \n",
       "\n",
       "      StreetName Agency HourReported     ReportingOfficer                Date  \\\n",
       "0      5TH ST SW    CPD         1554  Vlasis, Christopher 2025-05-19 15:54:35   \n",
       "1  GARRETT ST, D    CPD         1458     Schwartz, Honora 2025-05-19 14:58:52   \n",
       "2      5TH ST SW    CPD         1343     Schwartz, Honora 2025-05-19 13:43:06   \n",
       "3       RUGBY RD    CPD         1133         Mian, Ghulam 2025-05-19 11:33:35   \n",
       "4      5TH ST SW    CPD         1107     Schwartz, Honora 2025-05-19 11:07:40   \n",
       "\n",
       "               DateString DayOfWeek  Weekend  Season  HourAMPM  TimeOfDay  \\\n",
       "0  2025-05-19 03:54:35 PM    Monday    False  Spring  03:54 PM  Afternoon   \n",
       "1  2025-05-19 02:58:52 PM    Monday    False  Spring  02:58 PM  Afternoon   \n",
       "2  2025-05-19 01:43:06 PM    Monday    False  Spring  01:43 PM  Afternoon   \n",
       "3  2025-05-19 11:33:35 AM    Monday    False  Spring  11:33 AM    Morning   \n",
       "4  2025-05-19 11:07:40 AM    Monday    False  Spring  11:07 AM    Morning   \n",
       "\n",
       "          FullStreet        lat        lon     neighborhood  \n",
       "0     1100 5TH ST SW  38.017130 -78.497806  Johnson Village  \n",
       "1  400 GARRETT ST, D  38.027935 -78.481659   North Downtown  \n",
       "2     1100 5TH ST SW  38.017130 -78.497806  Johnson Village  \n",
       "3       600 RUGBY RD  38.041930 -78.499985          Venable  \n",
       "4     1100 5TH ST SW  38.017130 -78.497806  Johnson Village  "
      ]
     },
     "execution_count": 10,
     "metadata": {},
     "output_type": "execute_result"
    }
   ],
   "source": [
    "# Initialize the Google Maps client.\n",
    "gmaps = googlemaps.Client(key=GOOGLE_API_KEY)\n",
    "\n",
    "# Try to load a persistent neighborhood cache if available.\n",
    "try:\n",
    "    with open(\"neighborhood_cache.pkl\", \"rb\") as f:\n",
    "        neighborhood_cache = pickle.load(f)\n",
    "    print(\"Loaded neighborhood cache.\")\n",
    "except FileNotFoundError:\n",
    "    neighborhood_cache = {}\n",
    "    print(\"No neighborhood cache found; starting fresh.\")\n",
    "\n",
    "def get_neighborhood(lat, lon):\n",
    "    \"\"\"\n",
    "    Reverse geocodes a latitude and longitude to retrieve the neighborhood.\n",
    "    Caches results to speed up subsequent lookups.\n",
    "    \"\"\"\n",
    "    key = (lat, lon)\n",
    "    if key in neighborhood_cache:\n",
    "        return neighborhood_cache[key]\n",
    "    \n",
    "    try:\n",
    "        result = gmaps.reverse_geocode((lat, lon))\n",
    "        if result:\n",
    "            # Look for the 'neighborhood' component in the first result.\n",
    "            for component in result[0]['address_components']:\n",
    "                if 'neighborhood' in component['types']:\n",
    "                    neighborhood = component['long_name']\n",
    "                    neighborhood_cache[key] = neighborhood\n",
    "                    return neighborhood\n",
    "            # If no neighborhood is found, return \"N/A\"\n",
    "            neighborhood_cache[key] = \"N/A\"\n",
    "            return \"N/A\"\n",
    "    except Exception as e:\n",
    "        print(f\"Error getting neighborhood for {lat}, {lon}: {e}\")\n",
    "        return \"N/A\"\n",
    "    \n",
    "    # Pause to respect usage limits.\n",
    "    time.sleep(1)\n",
    "\n",
    "# Example usage: Apply to your DataFrame 'df' that already has 'lat' and 'lon' columns.\n",
    "df['neighborhood'] = df.apply(lambda row: get_neighborhood(row['lat'], row['lon']), axis=1)\n",
    "\n",
    "# Save the updated neighborhood cache.\n",
    "with open(\"neighborhood_cache.pkl\", \"wb\") as f:\n",
    "    pickle.dump(neighborhood_cache, f)\n",
    "\n",
    "df.head()\n"
   ]
  },
  {
   "cell_type": "markdown",
   "id": "4df2c063",
   "metadata": {
    "papermill": {
     "duration": 0.006589,
     "end_time": "2025-05-22T01:04:06.948627",
     "exception": false,
     "start_time": "2025-05-22T01:04:06.942038",
     "status": "completed"
    },
    "tags": []
   },
   "source": [
    "### Zip"
   ]
  },
  {
   "cell_type": "code",
   "execution_count": 11,
   "id": "17d653c1",
   "metadata": {
    "execution": {
     "iopub.execute_input": "2025-05-22T01:04:06.962609Z",
     "iopub.status.busy": "2025-05-22T01:04:06.962107Z",
     "iopub.status.idle": "2025-05-22T01:04:07.204107Z",
     "shell.execute_reply": "2025-05-22T01:04:07.203561Z"
    },
    "papermill": {
     "duration": 0.250108,
     "end_time": "2025-05-22T01:04:07.205102",
     "exception": false,
     "start_time": "2025-05-22T01:04:06.954994",
     "status": "completed"
    },
    "tags": []
   },
   "outputs": [
    {
     "name": "stdout",
     "output_type": "stream",
     "text": [
      "Loaded zip cache.\n"
     ]
    },
    {
     "data": {
      "text/html": [
       "<div>\n",
       "<style scoped>\n",
       "    .dataframe tbody tr th:only-of-type {\n",
       "        vertical-align: middle;\n",
       "    }\n",
       "\n",
       "    .dataframe tbody tr th {\n",
       "        vertical-align: top;\n",
       "    }\n",
       "\n",
       "    .dataframe thead th {\n",
       "        text-align: right;\n",
       "    }\n",
       "</style>\n",
       "<table border=\"1\" class=\"dataframe\">\n",
       "  <thead>\n",
       "    <tr style=\"text-align: right;\">\n",
       "      <th></th>\n",
       "      <th>RecordID</th>\n",
       "      <th>Offense</th>\n",
       "      <th>IncidentID</th>\n",
       "      <th>BlockNumber</th>\n",
       "      <th>StreetName</th>\n",
       "      <th>Agency</th>\n",
       "      <th>HourReported</th>\n",
       "      <th>ReportingOfficer</th>\n",
       "      <th>Date</th>\n",
       "      <th>DateString</th>\n",
       "      <th>DayOfWeek</th>\n",
       "      <th>Weekend</th>\n",
       "      <th>Season</th>\n",
       "      <th>HourAMPM</th>\n",
       "      <th>TimeOfDay</th>\n",
       "      <th>FullStreet</th>\n",
       "      <th>lat</th>\n",
       "      <th>lon</th>\n",
       "      <th>neighborhood</th>\n",
       "      <th>zip</th>\n",
       "    </tr>\n",
       "  </thead>\n",
       "  <tbody>\n",
       "    <tr>\n",
       "      <th>0</th>\n",
       "      <td>1</td>\n",
       "      <td>Larceny - Shoplifitng</td>\n",
       "      <td>202500017096</td>\n",
       "      <td>1100</td>\n",
       "      <td>5TH ST SW</td>\n",
       "      <td>CPD</td>\n",
       "      <td>1554</td>\n",
       "      <td>Vlasis, Christopher</td>\n",
       "      <td>2025-05-19 15:54:35</td>\n",
       "      <td>2025-05-19 03:54:35 PM</td>\n",
       "      <td>Monday</td>\n",
       "      <td>False</td>\n",
       "      <td>Spring</td>\n",
       "      <td>03:54 PM</td>\n",
       "      <td>Afternoon</td>\n",
       "      <td>1100 5TH ST SW</td>\n",
       "      <td>38.017130</td>\n",
       "      <td>-78.497806</td>\n",
       "      <td>Johnson Village</td>\n",
       "      <td>22903</td>\n",
       "    </tr>\n",
       "    <tr>\n",
       "      <th>1</th>\n",
       "      <td>2</td>\n",
       "      <td>Fraud-false pretense</td>\n",
       "      <td>202500017087</td>\n",
       "      <td>400</td>\n",
       "      <td>GARRETT ST, D</td>\n",
       "      <td>CPD</td>\n",
       "      <td>1458</td>\n",
       "      <td>Schwartz, Honora</td>\n",
       "      <td>2025-05-19 14:58:52</td>\n",
       "      <td>2025-05-19 02:58:52 PM</td>\n",
       "      <td>Monday</td>\n",
       "      <td>False</td>\n",
       "      <td>Spring</td>\n",
       "      <td>02:58 PM</td>\n",
       "      <td>Afternoon</td>\n",
       "      <td>400 GARRETT ST, D</td>\n",
       "      <td>38.027935</td>\n",
       "      <td>-78.481659</td>\n",
       "      <td>North Downtown</td>\n",
       "      <td>22903</td>\n",
       "    </tr>\n",
       "    <tr>\n",
       "      <th>2</th>\n",
       "      <td>3</td>\n",
       "      <td>Larceny - Shoplifitng</td>\n",
       "      <td>202500017075</td>\n",
       "      <td>1100</td>\n",
       "      <td>5TH ST SW</td>\n",
       "      <td>CPD</td>\n",
       "      <td>1343</td>\n",
       "      <td>Schwartz, Honora</td>\n",
       "      <td>2025-05-19 13:43:06</td>\n",
       "      <td>2025-05-19 01:43:06 PM</td>\n",
       "      <td>Monday</td>\n",
       "      <td>False</td>\n",
       "      <td>Spring</td>\n",
       "      <td>01:43 PM</td>\n",
       "      <td>Afternoon</td>\n",
       "      <td>1100 5TH ST SW</td>\n",
       "      <td>38.017130</td>\n",
       "      <td>-78.497806</td>\n",
       "      <td>Johnson Village</td>\n",
       "      <td>22903</td>\n",
       "    </tr>\n",
       "    <tr>\n",
       "      <th>3</th>\n",
       "      <td>4</td>\n",
       "      <td>Larceny - Theft from Building</td>\n",
       "      <td>202500017050</td>\n",
       "      <td>600</td>\n",
       "      <td>RUGBY RD</td>\n",
       "      <td>CPD</td>\n",
       "      <td>1133</td>\n",
       "      <td>Mian, Ghulam</td>\n",
       "      <td>2025-05-19 11:33:35</td>\n",
       "      <td>2025-05-19 11:33:35 AM</td>\n",
       "      <td>Monday</td>\n",
       "      <td>False</td>\n",
       "      <td>Spring</td>\n",
       "      <td>11:33 AM</td>\n",
       "      <td>Morning</td>\n",
       "      <td>600 RUGBY RD</td>\n",
       "      <td>38.041930</td>\n",
       "      <td>-78.499985</td>\n",
       "      <td>Venable</td>\n",
       "      <td>22903</td>\n",
       "    </tr>\n",
       "    <tr>\n",
       "      <th>4</th>\n",
       "      <td>5</td>\n",
       "      <td>Larceny - Shoplifitng</td>\n",
       "      <td>202500017047</td>\n",
       "      <td>1100</td>\n",
       "      <td>5TH ST SW</td>\n",
       "      <td>CPD</td>\n",
       "      <td>1107</td>\n",
       "      <td>Schwartz, Honora</td>\n",
       "      <td>2025-05-19 11:07:40</td>\n",
       "      <td>2025-05-19 11:07:40 AM</td>\n",
       "      <td>Monday</td>\n",
       "      <td>False</td>\n",
       "      <td>Spring</td>\n",
       "      <td>11:07 AM</td>\n",
       "      <td>Morning</td>\n",
       "      <td>1100 5TH ST SW</td>\n",
       "      <td>38.017130</td>\n",
       "      <td>-78.497806</td>\n",
       "      <td>Johnson Village</td>\n",
       "      <td>22903</td>\n",
       "    </tr>\n",
       "  </tbody>\n",
       "</table>\n",
       "</div>"
      ],
      "text/plain": [
       "   RecordID                        Offense    IncidentID BlockNumber  \\\n",
       "0         1          Larceny - Shoplifitng  202500017096        1100   \n",
       "1         2           Fraud-false pretense  202500017087         400   \n",
       "2         3          Larceny - Shoplifitng  202500017075        1100   \n",
       "3         4  Larceny - Theft from Building  202500017050         600   \n",
       "4         5          Larceny - Shoplifitng  202500017047        1100   \n",
       "\n",
       "      StreetName Agency HourReported     ReportingOfficer                Date  \\\n",
       "0      5TH ST SW    CPD         1554  Vlasis, Christopher 2025-05-19 15:54:35   \n",
       "1  GARRETT ST, D    CPD         1458     Schwartz, Honora 2025-05-19 14:58:52   \n",
       "2      5TH ST SW    CPD         1343     Schwartz, Honora 2025-05-19 13:43:06   \n",
       "3       RUGBY RD    CPD         1133         Mian, Ghulam 2025-05-19 11:33:35   \n",
       "4      5TH ST SW    CPD         1107     Schwartz, Honora 2025-05-19 11:07:40   \n",
       "\n",
       "               DateString DayOfWeek  Weekend  Season  HourAMPM  TimeOfDay  \\\n",
       "0  2025-05-19 03:54:35 PM    Monday    False  Spring  03:54 PM  Afternoon   \n",
       "1  2025-05-19 02:58:52 PM    Monday    False  Spring  02:58 PM  Afternoon   \n",
       "2  2025-05-19 01:43:06 PM    Monday    False  Spring  01:43 PM  Afternoon   \n",
       "3  2025-05-19 11:33:35 AM    Monday    False  Spring  11:33 AM    Morning   \n",
       "4  2025-05-19 11:07:40 AM    Monday    False  Spring  11:07 AM    Morning   \n",
       "\n",
       "          FullStreet        lat        lon     neighborhood    zip  \n",
       "0     1100 5TH ST SW  38.017130 -78.497806  Johnson Village  22903  \n",
       "1  400 GARRETT ST, D  38.027935 -78.481659   North Downtown  22903  \n",
       "2     1100 5TH ST SW  38.017130 -78.497806  Johnson Village  22903  \n",
       "3       600 RUGBY RD  38.041930 -78.499985          Venable  22903  \n",
       "4     1100 5TH ST SW  38.017130 -78.497806  Johnson Village  22903  "
      ]
     },
     "execution_count": 11,
     "metadata": {},
     "output_type": "execute_result"
    }
   ],
   "source": [
    "# Initialize the geocoder.\n",
    "geolocator = Nominatim(user_agent=\"zip_lookup\")\n",
    "\n",
    "# Try to load a persistent ZIP cache if available.\n",
    "try:\n",
    "    with open(\"zip_cache.pkl\", \"rb\") as f:\n",
    "        zip_cache = pickle.load(f)\n",
    "    print(\"Loaded zip cache.\")\n",
    "except FileNotFoundError:\n",
    "    zip_cache = {}\n",
    "    print(\"No zip cache found; starting fresh.\")\n",
    "\n",
    "def get_zip(lat, lon):\n",
    "    \"\"\"\n",
    "    Reverse geocodes a latitude and longitude to retrieve the ZIP code.\n",
    "    Caches results to speed up subsequent lookups.\n",
    "    \"\"\"\n",
    "    key = (lat, lon)\n",
    "    if key in zip_cache:\n",
    "        return zip_cache[key]\n",
    "    \n",
    "    try:\n",
    "        location = geolocator.reverse((lat, lon), exactly_one=True, timeout=10)\n",
    "        address = location.raw.get('address', {})\n",
    "        postal_code = address.get('postcode', \"N/A\")\n",
    "    except Exception as e:\n",
    "        print(f\"Error getting ZIP for {lat}, {lon}: {e}\")\n",
    "        postal_code = \"N/A\"\n",
    "    \n",
    "    zip_cache[key] = postal_code\n",
    "    # Pause to respect the usage policy.\n",
    "    time.sleep(1)\n",
    "    return postal_code\n",
    "\n",
    "# Apply the function to each row in the DataFrame.\n",
    "df['zip'] = df.apply(lambda row: get_zip(row['lat'], row['lon']), axis=1)\n",
    "\n",
    "# Save the updated ZIP cache.\n",
    "with open(\"zip_cache.pkl\", \"wb\") as f:\n",
    "    pickle.dump(zip_cache, f)\n",
    "\n",
    "df.head()\n"
   ]
  },
  {
   "cell_type": "code",
   "execution_count": 12,
   "id": "ad667a56",
   "metadata": {
    "execution": {
     "iopub.execute_input": "2025-05-22T01:04:07.220141Z",
     "iopub.status.busy": "2025-05-22T01:04:07.219710Z",
     "iopub.status.idle": "2025-05-22T01:04:07.248196Z",
     "shell.execute_reply": "2025-05-22T01:04:07.247637Z"
    },
    "papermill": {
     "duration": 0.037099,
     "end_time": "2025-05-22T01:04:07.249284",
     "exception": false,
     "start_time": "2025-05-22T01:04:07.212185",
     "status": "completed"
    },
    "tags": []
   },
   "outputs": [
    {
     "name": "stdout",
     "output_type": "stream",
     "text": [
      "                  MissingCount  MissingPercentage\n",
      "RecordID                     0               0.00\n",
      "Offense                      0               0.00\n",
      "IncidentID                   0               0.00\n",
      "BlockNumber                  0               0.00\n",
      "StreetName                   0               0.00\n",
      "Agency                       0               0.00\n",
      "HourReported                 0               0.00\n",
      "ReportingOfficer            17               0.07\n",
      "Date                         0               0.00\n",
      "DateString                   0               0.00\n",
      "DayOfWeek                    0               0.00\n",
      "Weekend                      0               0.00\n",
      "Season                       0               0.00\n",
      "HourAMPM                     0               0.00\n",
      "TimeOfDay                    0               0.00\n",
      "FullStreet                   0               0.00\n",
      "lat                          0               0.00\n",
      "lon                          0               0.00\n",
      "neighborhood                 0               0.00\n",
      "zip                          0               0.00\n"
     ]
    }
   ],
   "source": [
    "missing_info = missing_percentage(df)\n",
    "print(missing_info)\n"
   ]
  },
  {
   "cell_type": "code",
   "execution_count": 13,
   "id": "f22853de",
   "metadata": {
    "execution": {
     "iopub.execute_input": "2025-05-22T01:04:07.264418Z",
     "iopub.status.busy": "2025-05-22T01:04:07.263977Z",
     "iopub.status.idle": "2025-05-22T01:04:07.293803Z",
     "shell.execute_reply": "2025-05-22T01:04:07.293192Z"
    },
    "papermill": {
     "duration": 0.038437,
     "end_time": "2025-05-22T01:04:07.294913",
     "exception": false,
     "start_time": "2025-05-22T01:04:07.256476",
     "status": "completed"
    },
    "tags": []
   },
   "outputs": [
    {
     "name": "stdout",
     "output_type": "stream",
     "text": [
      "<class 'pandas.core.frame.DataFrame'>\n",
      "RangeIndex: 25404 entries, 0 to 25403\n",
      "Data columns (total 20 columns):\n",
      " #   Column            Non-Null Count  Dtype         \n",
      "---  ------            --------------  -----         \n",
      " 0   RecordID          25404 non-null  int64         \n",
      " 1   Offense           25404 non-null  object        \n",
      " 2   IncidentID        25404 non-null  object        \n",
      " 3   BlockNumber       25404 non-null  object        \n",
      " 4   StreetName        25404 non-null  object        \n",
      " 5   Agency            25404 non-null  object        \n",
      " 6   HourReported      25404 non-null  object        \n",
      " 7   ReportingOfficer  25387 non-null  object        \n",
      " 8   Date              25404 non-null  datetime64[ns]\n",
      " 9   DateString        25404 non-null  object        \n",
      " 10  DayOfWeek         25404 non-null  object        \n",
      " 11  Weekend           25404 non-null  bool          \n",
      " 12  Season            25404 non-null  object        \n",
      " 13  HourAMPM          25404 non-null  object        \n",
      " 14  TimeOfDay         25404 non-null  object        \n",
      " 15  FullStreet        25404 non-null  object        \n",
      " 16  lat               25404 non-null  float64       \n",
      " 17  lon               25404 non-null  float64       \n",
      " 18  neighborhood      25404 non-null  object        \n",
      " 19  zip               25404 non-null  object        \n",
      "dtypes: bool(1), datetime64[ns](1), float64(2), int64(1), object(15)\n",
      "memory usage: 3.7+ MB\n"
     ]
    }
   ],
   "source": [
    "df.info()"
   ]
  },
  {
   "cell_type": "code",
   "execution_count": 14,
   "id": "58d7f251",
   "metadata": {
    "execution": {
     "iopub.execute_input": "2025-05-22T01:04:07.310105Z",
     "iopub.status.busy": "2025-05-22T01:04:07.309656Z",
     "iopub.status.idle": "2025-05-22T01:04:07.354049Z",
     "shell.execute_reply": "2025-05-22T01:04:07.353376Z"
    },
    "papermill": {
     "duration": 0.053098,
     "end_time": "2025-05-22T01:04:07.355201",
     "exception": false,
     "start_time": "2025-05-22T01:04:07.302103",
     "status": "completed"
    },
    "tags": []
   },
   "outputs": [
    {
     "data": {
      "text/html": [
       "<div>\n",
       "<style scoped>\n",
       "    .dataframe tbody tr th:only-of-type {\n",
       "        vertical-align: middle;\n",
       "    }\n",
       "\n",
       "    .dataframe tbody tr th {\n",
       "        vertical-align: top;\n",
       "    }\n",
       "\n",
       "    .dataframe thead th {\n",
       "        text-align: right;\n",
       "    }\n",
       "</style>\n",
       "<table border=\"1\" class=\"dataframe\">\n",
       "  <thead>\n",
       "    <tr style=\"text-align: right;\">\n",
       "      <th></th>\n",
       "      <th>RecordID</th>\n",
       "      <th>Offense</th>\n",
       "      <th>IncidentID</th>\n",
       "      <th>Agency</th>\n",
       "      <th>ReportingOfficer</th>\n",
       "      <th>Date</th>\n",
       "      <th>DayOfWeek</th>\n",
       "      <th>Weekend</th>\n",
       "      <th>Season</th>\n",
       "      <th>TimeOfDay</th>\n",
       "      <th>FullStreet</th>\n",
       "      <th>lat</th>\n",
       "      <th>lon</th>\n",
       "      <th>neighborhood</th>\n",
       "      <th>zip</th>\n",
       "    </tr>\n",
       "  </thead>\n",
       "  <tbody>\n",
       "    <tr>\n",
       "      <th>0</th>\n",
       "      <td>1</td>\n",
       "      <td>Larceny - Shoplifitng</td>\n",
       "      <td>202500017096</td>\n",
       "      <td>CPD</td>\n",
       "      <td>Vlasis, Christopher</td>\n",
       "      <td>2025-05-19 15:54:35</td>\n",
       "      <td>Monday</td>\n",
       "      <td>False</td>\n",
       "      <td>Spring</td>\n",
       "      <td>Afternoon</td>\n",
       "      <td>1100 5TH ST SW</td>\n",
       "      <td>38.017130</td>\n",
       "      <td>-78.497806</td>\n",
       "      <td>Johnson Village</td>\n",
       "      <td>22903</td>\n",
       "    </tr>\n",
       "    <tr>\n",
       "      <th>1</th>\n",
       "      <td>2</td>\n",
       "      <td>Fraud-false pretense</td>\n",
       "      <td>202500017087</td>\n",
       "      <td>CPD</td>\n",
       "      <td>Schwartz, Honora</td>\n",
       "      <td>2025-05-19 14:58:52</td>\n",
       "      <td>Monday</td>\n",
       "      <td>False</td>\n",
       "      <td>Spring</td>\n",
       "      <td>Afternoon</td>\n",
       "      <td>400 GARRETT ST, D</td>\n",
       "      <td>38.027935</td>\n",
       "      <td>-78.481659</td>\n",
       "      <td>North Downtown</td>\n",
       "      <td>22903</td>\n",
       "    </tr>\n",
       "    <tr>\n",
       "      <th>2</th>\n",
       "      <td>3</td>\n",
       "      <td>Larceny - Shoplifitng</td>\n",
       "      <td>202500017075</td>\n",
       "      <td>CPD</td>\n",
       "      <td>Schwartz, Honora</td>\n",
       "      <td>2025-05-19 13:43:06</td>\n",
       "      <td>Monday</td>\n",
       "      <td>False</td>\n",
       "      <td>Spring</td>\n",
       "      <td>Afternoon</td>\n",
       "      <td>1100 5TH ST SW</td>\n",
       "      <td>38.017130</td>\n",
       "      <td>-78.497806</td>\n",
       "      <td>Johnson Village</td>\n",
       "      <td>22903</td>\n",
       "    </tr>\n",
       "    <tr>\n",
       "      <th>3</th>\n",
       "      <td>4</td>\n",
       "      <td>Larceny - Theft from Building</td>\n",
       "      <td>202500017050</td>\n",
       "      <td>CPD</td>\n",
       "      <td>Mian, Ghulam</td>\n",
       "      <td>2025-05-19 11:33:35</td>\n",
       "      <td>Monday</td>\n",
       "      <td>False</td>\n",
       "      <td>Spring</td>\n",
       "      <td>Morning</td>\n",
       "      <td>600 RUGBY RD</td>\n",
       "      <td>38.041930</td>\n",
       "      <td>-78.499985</td>\n",
       "      <td>Venable</td>\n",
       "      <td>22903</td>\n",
       "    </tr>\n",
       "    <tr>\n",
       "      <th>4</th>\n",
       "      <td>5</td>\n",
       "      <td>Larceny - Shoplifitng</td>\n",
       "      <td>202500017047</td>\n",
       "      <td>CPD</td>\n",
       "      <td>Schwartz, Honora</td>\n",
       "      <td>2025-05-19 11:07:40</td>\n",
       "      <td>Monday</td>\n",
       "      <td>False</td>\n",
       "      <td>Spring</td>\n",
       "      <td>Morning</td>\n",
       "      <td>1100 5TH ST SW</td>\n",
       "      <td>38.017130</td>\n",
       "      <td>-78.497806</td>\n",
       "      <td>Johnson Village</td>\n",
       "      <td>22903</td>\n",
       "    </tr>\n",
       "  </tbody>\n",
       "</table>\n",
       "</div>"
      ],
      "text/plain": [
       "   RecordID                        Offense    IncidentID Agency  \\\n",
       "0         1          Larceny - Shoplifitng  202500017096    CPD   \n",
       "1         2           Fraud-false pretense  202500017087    CPD   \n",
       "2         3          Larceny - Shoplifitng  202500017075    CPD   \n",
       "3         4  Larceny - Theft from Building  202500017050    CPD   \n",
       "4         5          Larceny - Shoplifitng  202500017047    CPD   \n",
       "\n",
       "      ReportingOfficer                Date DayOfWeek  Weekend  Season  \\\n",
       "0  Vlasis, Christopher 2025-05-19 15:54:35    Monday    False  Spring   \n",
       "1     Schwartz, Honora 2025-05-19 14:58:52    Monday    False  Spring   \n",
       "2     Schwartz, Honora 2025-05-19 13:43:06    Monday    False  Spring   \n",
       "3         Mian, Ghulam 2025-05-19 11:33:35    Monday    False  Spring   \n",
       "4     Schwartz, Honora 2025-05-19 11:07:40    Monday    False  Spring   \n",
       "\n",
       "   TimeOfDay         FullStreet        lat        lon     neighborhood    zip  \n",
       "0  Afternoon     1100 5TH ST SW  38.017130 -78.497806  Johnson Village  22903  \n",
       "1  Afternoon  400 GARRETT ST, D  38.027935 -78.481659   North Downtown  22903  \n",
       "2  Afternoon     1100 5TH ST SW  38.017130 -78.497806  Johnson Village  22903  \n",
       "3    Morning       600 RUGBY RD  38.041930 -78.499985          Venable  22903  \n",
       "4    Morning     1100 5TH ST SW  38.017130 -78.497806  Johnson Village  22903  "
      ]
     },
     "execution_count": 14,
     "metadata": {},
     "output_type": "execute_result"
    }
   ],
   "source": [
    "# Now drop the original BlockNumber and StreetName columns\n",
    "df.drop(columns=['BlockNumber', 'StreetName','HourAMPM','HourReported','DateString'], inplace=True)\n",
    "df[\"zip\"] = df[\"zip\"].astype(str)\n",
    "\n",
    "# Fill all missing values in the DataFrame with \"N/A\"\n",
    "df.replace({None: \"N/A\", np.nan: \"N/A\", \"\": \"N/A\"}, inplace=True)\n",
    "df.head()"
   ]
  },
  {
   "cell_type": "code",
   "execution_count": 15,
   "id": "5907840f",
   "metadata": {
    "execution": {
     "iopub.execute_input": "2025-05-22T01:04:07.371092Z",
     "iopub.status.busy": "2025-05-22T01:04:07.370624Z",
     "iopub.status.idle": "2025-05-22T01:04:07.390825Z",
     "shell.execute_reply": "2025-05-22T01:04:07.390217Z"
    },
    "papermill": {
     "duration": 0.029106,
     "end_time": "2025-05-22T01:04:07.391815",
     "exception": false,
     "start_time": "2025-05-22T01:04:07.362709",
     "status": "completed"
    },
    "tags": []
   },
   "outputs": [
    {
     "name": "stdout",
     "output_type": "stream",
     "text": [
      "                  MissingCount  MissingPercentage\n",
      "RecordID                     0                0.0\n",
      "Offense                      0                0.0\n",
      "IncidentID                   0                0.0\n",
      "Agency                       0                0.0\n",
      "ReportingOfficer             0                0.0\n",
      "Date                         0                0.0\n",
      "DayOfWeek                    0                0.0\n",
      "Weekend                      0                0.0\n",
      "Season                       0                0.0\n",
      "TimeOfDay                    0                0.0\n",
      "FullStreet                   0                0.0\n",
      "lat                          0                0.0\n",
      "lon                          0                0.0\n",
      "neighborhood                 0                0.0\n",
      "zip                          0                0.0\n"
     ]
    }
   ],
   "source": [
    "missing_info = missing_percentage(df)\n",
    "print(missing_info)"
   ]
  },
  {
   "cell_type": "code",
   "execution_count": 16,
   "id": "30e329c0",
   "metadata": {
    "execution": {
     "iopub.execute_input": "2025-05-22T01:04:07.407525Z",
     "iopub.status.busy": "2025-05-22T01:04:07.407083Z",
     "iopub.status.idle": "2025-05-22T01:04:07.411624Z",
     "shell.execute_reply": "2025-05-22T01:04:07.410975Z"
    },
    "papermill": {
     "duration": 0.013543,
     "end_time": "2025-05-22T01:04:07.412723",
     "exception": false,
     "start_time": "2025-05-22T01:04:07.399180",
     "status": "completed"
    },
    "tags": []
   },
   "outputs": [
    {
     "data": {
      "text/plain": [
       "Index(['RecordID', 'Offense', 'IncidentID', 'Agency', 'ReportingOfficer',\n",
       "       'Date', 'DayOfWeek', 'Weekend', 'Season', 'TimeOfDay', 'FullStreet',\n",
       "       'lat', 'lon', 'neighborhood', 'zip'],\n",
       "      dtype='object')"
      ]
     },
     "execution_count": 16,
     "metadata": {},
     "output_type": "execute_result"
    }
   ],
   "source": [
    "df.columns"
   ]
  },
  {
   "cell_type": "code",
   "execution_count": 17,
   "id": "48cf3c15",
   "metadata": {
    "execution": {
     "iopub.execute_input": "2025-05-22T01:04:07.428352Z",
     "iopub.status.busy": "2025-05-22T01:04:07.427940Z",
     "iopub.status.idle": "2025-05-22T01:04:07.450172Z",
     "shell.execute_reply": "2025-05-22T01:04:07.449495Z"
    },
    "papermill": {
     "duration": 0.031073,
     "end_time": "2025-05-22T01:04:07.451157",
     "exception": false,
     "start_time": "2025-05-22T01:04:07.420084",
     "status": "completed"
    },
    "tags": []
   },
   "outputs": [
    {
     "name": "stdout",
     "output_type": "stream",
     "text": [
      "<class 'pandas.core.frame.DataFrame'>\n",
      "RangeIndex: 25404 entries, 0 to 25403\n",
      "Data columns (total 15 columns):\n",
      " #   Column            Non-Null Count  Dtype         \n",
      "---  ------            --------------  -----         \n",
      " 0   RecordID          25404 non-null  int64         \n",
      " 1   Offense           25404 non-null  object        \n",
      " 2   IncidentID        25404 non-null  object        \n",
      " 3   Agency            25404 non-null  object        \n",
      " 4   ReportingOfficer  25404 non-null  object        \n",
      " 5   Date              25404 non-null  datetime64[ns]\n",
      " 6   DayOfWeek         25404 non-null  object        \n",
      " 7   Weekend           25404 non-null  bool          \n",
      " 8   Season            25404 non-null  object        \n",
      " 9   TimeOfDay         25404 non-null  object        \n",
      " 10  FullStreet        25404 non-null  object        \n",
      " 11  lat               25404 non-null  float64       \n",
      " 12  lon               25404 non-null  float64       \n",
      " 13  neighborhood      25404 non-null  object        \n",
      " 14  zip               25404 non-null  object        \n",
      "dtypes: bool(1), datetime64[ns](1), float64(2), int64(1), object(10)\n",
      "memory usage: 2.7+ MB\n"
     ]
    }
   ],
   "source": [
    "df.info()"
   ]
  },
  {
   "cell_type": "markdown",
   "id": "f2e617f8",
   "metadata": {
    "papermill": {
     "duration": 0.007291,
     "end_time": "2025-05-22T01:04:07.466210",
     "exception": false,
     "start_time": "2025-05-22T01:04:07.458919",
     "status": "completed"
    },
    "tags": []
   },
   "source": [
    "### Export Clean Data"
   ]
  },
  {
   "cell_type": "code",
   "execution_count": 18,
   "id": "438cc15e",
   "metadata": {
    "execution": {
     "iopub.execute_input": "2025-05-22T01:04:07.482255Z",
     "iopub.status.busy": "2025-05-22T01:04:07.481808Z",
     "iopub.status.idle": "2025-05-22T01:04:16.852286Z",
     "shell.execute_reply": "2025-05-22T01:04:16.851591Z"
    },
    "papermill": {
     "duration": 9.379641,
     "end_time": "2025-05-22T01:04:16.853344",
     "exception": false,
     "start_time": "2025-05-22T01:04:07.473703",
     "status": "completed"
    },
    "tags": []
   },
   "outputs": [
    {
     "name": "stdout",
     "output_type": "stream",
     "text": [
      "Project Root: /home/runner/work/crime-data/crime-data\n"
     ]
    },
    {
     "name": "stdout",
     "output_type": "stream",
     "text": [
      "Data saved to: /home/runner/work/crime-data/crime-data/data/charlottesville_crime_incidents.csv\n"
     ]
    },
    {
     "name": "stdout",
     "output_type": "stream",
     "text": [
      "Excel saved to: /home/runner/work/crime-data/crime-data/data/charlottesville_crime_incidents.xlsx\n"
     ]
    }
   ],
   "source": [
    "# Determine the project root (assuming papermill is run from the repository root)\n",
    "project_root = os.getcwd()\n",
    "print(\"Project Root:\", project_root)\n",
    "\n",
    "# Set the data directory within the project root\n",
    "data_dir = os.path.join(project_root, \"data\")\n",
    "\n",
    "# Ensure the \"data\" directory exists (create it if it doesn't)\n",
    "if not os.path.exists(data_dir):\n",
    "    os.makedirs(data_dir)\n",
    "\n",
    "# Export the DataFrame to CSV in the \"data\" folder located in the project root\n",
    "csv_path = os.path.join(data_dir, \"charlottesville_crime_incidents.csv\")\n",
    "df.to_csv(csv_path, index=False)\n",
    "print(\"Data saved to:\", csv_path)\n",
    "\n",
    "# Construct the path to your Excel file\n",
    "excel_path = os.path.join(data_dir, \"charlottesville_crime_incidents.xlsx\")\n",
    "\n",
    "# Export the DataFrame to Excel\n",
    "df.to_excel(excel_path, index=False)\n",
    "print(\"Excel saved to:\", excel_path)\n"
   ]
  },
  {
   "cell_type": "markdown",
   "id": "898a12d2",
   "metadata": {
    "papermill": {
     "duration": 0.00751,
     "end_time": "2025-05-22T01:04:16.868631",
     "exception": false,
     "start_time": "2025-05-22T01:04:16.861121",
     "status": "completed"
    },
    "tags": []
   },
   "source": [
    "## Predictive Analytics"
   ]
  },
  {
   "cell_type": "code",
   "execution_count": 19,
   "id": "515a9b82",
   "metadata": {
    "execution": {
     "iopub.execute_input": "2025-05-22T01:04:16.884864Z",
     "iopub.status.busy": "2025-05-22T01:04:16.884386Z",
     "iopub.status.idle": "2025-05-22T01:04:16.896298Z",
     "shell.execute_reply": "2025-05-22T01:04:16.895774Z"
    },
    "papermill": {
     "duration": 0.021256,
     "end_time": "2025-05-22T01:04:16.897391",
     "exception": false,
     "start_time": "2025-05-22T01:04:16.876135",
     "status": "completed"
    },
    "tags": []
   },
   "outputs": [
    {
     "data": {
      "text/html": [
       "<div>\n",
       "<style scoped>\n",
       "    .dataframe tbody tr th:only-of-type {\n",
       "        vertical-align: middle;\n",
       "    }\n",
       "\n",
       "    .dataframe tbody tr th {\n",
       "        vertical-align: top;\n",
       "    }\n",
       "\n",
       "    .dataframe thead th {\n",
       "        text-align: right;\n",
       "    }\n",
       "</style>\n",
       "<table border=\"1\" class=\"dataframe\">\n",
       "  <thead>\n",
       "    <tr style=\"text-align: right;\">\n",
       "      <th></th>\n",
       "      <th>RecordID</th>\n",
       "      <th>Offense</th>\n",
       "      <th>IncidentID</th>\n",
       "      <th>Agency</th>\n",
       "      <th>ReportingOfficer</th>\n",
       "      <th>Date</th>\n",
       "      <th>DayOfWeek</th>\n",
       "      <th>Weekend</th>\n",
       "      <th>Season</th>\n",
       "      <th>TimeOfDay</th>\n",
       "      <th>FullStreet</th>\n",
       "      <th>lat</th>\n",
       "      <th>lon</th>\n",
       "      <th>neighborhood</th>\n",
       "      <th>zip</th>\n",
       "    </tr>\n",
       "  </thead>\n",
       "  <tbody>\n",
       "    <tr>\n",
       "      <th>0</th>\n",
       "      <td>1</td>\n",
       "      <td>Larceny - Shoplifitng</td>\n",
       "      <td>202500017096</td>\n",
       "      <td>CPD</td>\n",
       "      <td>Vlasis, Christopher</td>\n",
       "      <td>2025-05-19 15:54:35</td>\n",
       "      <td>Monday</td>\n",
       "      <td>False</td>\n",
       "      <td>Spring</td>\n",
       "      <td>Afternoon</td>\n",
       "      <td>1100 5TH ST SW</td>\n",
       "      <td>38.017130</td>\n",
       "      <td>-78.497806</td>\n",
       "      <td>Johnson Village</td>\n",
       "      <td>22903</td>\n",
       "    </tr>\n",
       "    <tr>\n",
       "      <th>1</th>\n",
       "      <td>2</td>\n",
       "      <td>Fraud-false pretense</td>\n",
       "      <td>202500017087</td>\n",
       "      <td>CPD</td>\n",
       "      <td>Schwartz, Honora</td>\n",
       "      <td>2025-05-19 14:58:52</td>\n",
       "      <td>Monday</td>\n",
       "      <td>False</td>\n",
       "      <td>Spring</td>\n",
       "      <td>Afternoon</td>\n",
       "      <td>400 GARRETT ST, D</td>\n",
       "      <td>38.027935</td>\n",
       "      <td>-78.481659</td>\n",
       "      <td>North Downtown</td>\n",
       "      <td>22903</td>\n",
       "    </tr>\n",
       "    <tr>\n",
       "      <th>2</th>\n",
       "      <td>3</td>\n",
       "      <td>Larceny - Shoplifitng</td>\n",
       "      <td>202500017075</td>\n",
       "      <td>CPD</td>\n",
       "      <td>Schwartz, Honora</td>\n",
       "      <td>2025-05-19 13:43:06</td>\n",
       "      <td>Monday</td>\n",
       "      <td>False</td>\n",
       "      <td>Spring</td>\n",
       "      <td>Afternoon</td>\n",
       "      <td>1100 5TH ST SW</td>\n",
       "      <td>38.017130</td>\n",
       "      <td>-78.497806</td>\n",
       "      <td>Johnson Village</td>\n",
       "      <td>22903</td>\n",
       "    </tr>\n",
       "    <tr>\n",
       "      <th>3</th>\n",
       "      <td>4</td>\n",
       "      <td>Larceny - Theft from Building</td>\n",
       "      <td>202500017050</td>\n",
       "      <td>CPD</td>\n",
       "      <td>Mian, Ghulam</td>\n",
       "      <td>2025-05-19 11:33:35</td>\n",
       "      <td>Monday</td>\n",
       "      <td>False</td>\n",
       "      <td>Spring</td>\n",
       "      <td>Morning</td>\n",
       "      <td>600 RUGBY RD</td>\n",
       "      <td>38.041930</td>\n",
       "      <td>-78.499985</td>\n",
       "      <td>Venable</td>\n",
       "      <td>22903</td>\n",
       "    </tr>\n",
       "    <tr>\n",
       "      <th>4</th>\n",
       "      <td>5</td>\n",
       "      <td>Larceny - Shoplifitng</td>\n",
       "      <td>202500017047</td>\n",
       "      <td>CPD</td>\n",
       "      <td>Schwartz, Honora</td>\n",
       "      <td>2025-05-19 11:07:40</td>\n",
       "      <td>Monday</td>\n",
       "      <td>False</td>\n",
       "      <td>Spring</td>\n",
       "      <td>Morning</td>\n",
       "      <td>1100 5TH ST SW</td>\n",
       "      <td>38.017130</td>\n",
       "      <td>-78.497806</td>\n",
       "      <td>Johnson Village</td>\n",
       "      <td>22903</td>\n",
       "    </tr>\n",
       "  </tbody>\n",
       "</table>\n",
       "</div>"
      ],
      "text/plain": [
       "   RecordID                        Offense    IncidentID Agency  \\\n",
       "0         1          Larceny - Shoplifitng  202500017096    CPD   \n",
       "1         2           Fraud-false pretense  202500017087    CPD   \n",
       "2         3          Larceny - Shoplifitng  202500017075    CPD   \n",
       "3         4  Larceny - Theft from Building  202500017050    CPD   \n",
       "4         5          Larceny - Shoplifitng  202500017047    CPD   \n",
       "\n",
       "      ReportingOfficer                Date DayOfWeek  Weekend  Season  \\\n",
       "0  Vlasis, Christopher 2025-05-19 15:54:35    Monday    False  Spring   \n",
       "1     Schwartz, Honora 2025-05-19 14:58:52    Monday    False  Spring   \n",
       "2     Schwartz, Honora 2025-05-19 13:43:06    Monday    False  Spring   \n",
       "3         Mian, Ghulam 2025-05-19 11:33:35    Monday    False  Spring   \n",
       "4     Schwartz, Honora 2025-05-19 11:07:40    Monday    False  Spring   \n",
       "\n",
       "   TimeOfDay         FullStreet        lat        lon     neighborhood    zip  \n",
       "0  Afternoon     1100 5TH ST SW  38.017130 -78.497806  Johnson Village  22903  \n",
       "1  Afternoon  400 GARRETT ST, D  38.027935 -78.481659   North Downtown  22903  \n",
       "2  Afternoon     1100 5TH ST SW  38.017130 -78.497806  Johnson Village  22903  \n",
       "3    Morning       600 RUGBY RD  38.041930 -78.499985          Venable  22903  \n",
       "4    Morning     1100 5TH ST SW  38.017130 -78.497806  Johnson Village  22903  "
      ]
     },
     "execution_count": 19,
     "metadata": {},
     "output_type": "execute_result"
    }
   ],
   "source": [
    "df.head()"
   ]
  },
  {
   "cell_type": "code",
   "execution_count": 20,
   "id": "e1d95fc4",
   "metadata": {
    "execution": {
     "iopub.execute_input": "2025-05-22T01:04:16.914274Z",
     "iopub.status.busy": "2025-05-22T01:04:16.913869Z",
     "iopub.status.idle": "2025-05-22T01:04:16.918254Z",
     "shell.execute_reply": "2025-05-22T01:04:16.917750Z"
    },
    "papermill": {
     "duration": 0.013831,
     "end_time": "2025-05-22T01:04:16.919239",
     "exception": false,
     "start_time": "2025-05-22T01:04:16.905408",
     "status": "completed"
    },
    "tags": []
   },
   "outputs": [
    {
     "data": {
      "text/plain": [
       "Index(['RecordID', 'Offense', 'IncidentID', 'Agency', 'ReportingOfficer',\n",
       "       'Date', 'DayOfWeek', 'Weekend', 'Season', 'TimeOfDay', 'FullStreet',\n",
       "       'lat', 'lon', 'neighborhood', 'zip'],\n",
       "      dtype='object')"
      ]
     },
     "execution_count": 20,
     "metadata": {},
     "output_type": "execute_result"
    }
   ],
   "source": [
    "df.columns"
   ]
  },
  {
   "cell_type": "markdown",
   "id": "ad9aed7d",
   "metadata": {
    "papermill": {
     "duration": 0.007743,
     "end_time": "2025-05-22T01:04:16.935049",
     "exception": false,
     "start_time": "2025-05-22T01:04:16.927306",
     "status": "completed"
    },
    "tags": []
   },
   "source": [
    "### Data Preparation\n",
    "\n",
    "We need to ensure the data is in the correct format for modeling and can handle missing values, categorical variables, and dates. Here's how to prepare your data:"
   ]
  },
  {
   "cell_type": "code",
   "execution_count": 21,
   "id": "70fa0538",
   "metadata": {
    "execution": {
     "iopub.execute_input": "2025-05-22T01:04:16.952154Z",
     "iopub.status.busy": "2025-05-22T01:04:16.951613Z",
     "iopub.status.idle": "2025-05-22T01:04:20.074156Z",
     "shell.execute_reply": "2025-05-22T01:04:20.073340Z"
    },
    "papermill": {
     "duration": 3.132739,
     "end_time": "2025-05-22T01:04:20.075638",
     "exception": false,
     "start_time": "2025-05-22T01:04:16.942899",
     "status": "completed"
    },
    "tags": []
   },
   "outputs": [],
   "source": [
    "import pandas as pd\n",
    "from sklearn.model_selection import train_test_split\n",
    "from sklearn.preprocessing import OneHotEncoder, LabelEncoder\n",
    "from sklearn.ensemble import RandomForestClassifier\n",
    "from sklearn.linear_model import LogisticRegression\n",
    "from sklearn.tree import DecisionTreeClassifier\n",
    "from sklearn.metrics import classification_report, accuracy_score\n",
    "import seaborn as sns\n",
    "import matplotlib.pyplot as plt\n",
    "\n",
    "# Convert 'Date' to datetime\n",
    "df['Date'] = pd.to_datetime(df['Date'])\n",
    "\n",
    "# Feature engineering: Extract additional time-based features\n",
    "df['Year'] = df['Date'].dt.year\n",
    "df['Month'] = df['Date'].dt.month\n",
    "df['DayOfMonth'] = df['Date'].dt.day\n",
    "\n",
    "# One-hot encoding for 'FullStreet', 'neighborhood', 'zip'\n",
    "df = pd.get_dummies(df, columns=['FullStreet', 'neighborhood', 'zip'], drop_first=True)\n",
    "\n",
    "# Label encoding for ordered variables (those with a natural order like 'DayOfWeek', 'Season', 'TimeOfDay')\n",
    "label_encoders = {}\n",
    "for column in ['DayOfWeek', 'Season', 'TimeOfDay', 'Agency', 'ReportingOfficer']:  # Example ordinal variables\n",
    "    le = LabelEncoder()\n",
    "    df[column] = le.fit_transform(df[column])\n",
    "    label_encoders[column] = le\n",
    "\n",
    "# Filter the dataset to include only the offenses of interest\n",
    "offenses_of_interest = [\n",
    "    'Hit and Run', 'Assault Simple', 'Suspicious Activity', 'Vandalism', \n",
    "    'Larceny - From Mot Vehicle', 'Larceny - All Other', \n",
    "    'Assist Citizen - Mental/TDO/ECO', 'Lost/FoundProperty'\n",
    "]\n",
    "\n",
    "df = df[df['Offense'].isin(offenses_of_interest)]\n",
    "\n",
    "# Label encode the target variable (Offense)\n",
    "offense_encoder = LabelEncoder()\n",
    "df['Offense'] = offense_encoder.fit_transform(df['Offense'])\n",
    "\n",
    "# Separate features (X) and target (y)\n",
    "X = df[['Year', 'Month', 'DayOfMonth', 'DayOfWeek', 'Weekend', 'Season', 'TimeOfDay', 'lat', 'lon', 'Agency', 'ReportingOfficer']]\n",
    "y = df['Offense']  # Offense is now the encoded target variable\n",
    "\n",
    "# Split the data into training and testing sets\n",
    "X_train, X_test, y_train, y_test = train_test_split(X, y, test_size=0.3, random_state=42)\n"
   ]
  },
  {
   "cell_type": "markdown",
   "id": "add86f20",
   "metadata": {
    "papermill": {
     "duration": 0.008003,
     "end_time": "2025-05-22T01:04:20.092029",
     "exception": false,
     "start_time": "2025-05-22T01:04:20.084026",
     "status": "completed"
    },
    "tags": []
   },
   "source": [
    "### Model Training\n",
    "\n",
    "Here we will train several models (e.g., Random Forest, Logistic Regression, and Decision Tree). We will use cross-validation to choose the best model based on accuracy, and then explain the impact of the variables."
   ]
  },
  {
   "cell_type": "code",
   "execution_count": 22,
   "id": "ee6c36a2",
   "metadata": {
    "execution": {
     "iopub.execute_input": "2025-05-22T01:04:20.109485Z",
     "iopub.status.busy": "2025-05-22T01:04:20.108971Z",
     "iopub.status.idle": "2025-05-22T01:04:23.634163Z",
     "shell.execute_reply": "2025-05-22T01:04:23.633562Z"
    },
    "papermill": {
     "duration": 3.535231,
     "end_time": "2025-05-22T01:04:23.635236",
     "exception": false,
     "start_time": "2025-05-22T01:04:20.100005",
     "status": "completed"
    },
    "tags": []
   },
   "outputs": [
    {
     "name": "stderr",
     "output_type": "stream",
     "text": [
      "/opt/hostedtoolcache/Python/3.9.22/x64/lib/python3.9/site-packages/sklearn/linear_model/_logistic.py:465: ConvergenceWarning: lbfgs failed to converge (status=1):\n",
      "STOP: TOTAL NO. of ITERATIONS REACHED LIMIT.\n",
      "\n",
      "Increase the number of iterations (max_iter) or scale the data as shown in:\n",
      "    https://scikit-learn.org/stable/modules/preprocessing.html\n",
      "Please also refer to the documentation for alternative solver options:\n",
      "    https://scikit-learn.org/stable/modules/linear_model.html#logistic-regression\n",
      "  n_iter_i = _check_optimize_result(\n",
      "/opt/hostedtoolcache/Python/3.9.22/x64/lib/python3.9/site-packages/sklearn/metrics/_classification.py:1565: UndefinedMetricWarning: Precision is ill-defined and being set to 0.0 in labels with no predicted samples. Use `zero_division` parameter to control this behavior.\n",
      "  _warn_prf(average, modifier, f\"{metric.capitalize()} is\", len(result))\n",
      "/opt/hostedtoolcache/Python/3.9.22/x64/lib/python3.9/site-packages/sklearn/metrics/_classification.py:1565: UndefinedMetricWarning: Precision is ill-defined and being set to 0.0 in labels with no predicted samples. Use `zero_division` parameter to control this behavior.\n",
      "  _warn_prf(average, modifier, f\"{metric.capitalize()} is\", len(result))\n",
      "/opt/hostedtoolcache/Python/3.9.22/x64/lib/python3.9/site-packages/sklearn/metrics/_classification.py:1565: UndefinedMetricWarning: Precision is ill-defined and being set to 0.0 in labels with no predicted samples. Use `zero_division` parameter to control this behavior.\n",
      "  _warn_prf(average, modifier, f\"{metric.capitalize()} is\", len(result))\n"
     ]
    },
    {
     "name": "stdout",
     "output_type": "stream",
     "text": [
      "\n",
      "Classification Report for All Models:\n",
      "\n",
      "Model: RandomForest\n",
      "Accuracy: 0.2840\n",
      "              precision    recall  f1-score      support\n",
      "0              0.289875  0.357877  0.320307   584.000000\n",
      "1              0.280220  0.248780  0.263566   410.000000\n",
      "2              0.313786  0.458647  0.372633   665.000000\n",
      "3              0.252078  0.191176  0.217443   476.000000\n",
      "4              0.290566  0.214485  0.246795   359.000000\n",
      "5              0.247059  0.203883  0.223404   515.000000\n",
      "6              0.267196  0.211740  0.236257   477.000000\n",
      "accuracy       0.283993  0.283993  0.283993     0.283993\n",
      "macro avg      0.277254  0.269513  0.268629  3486.000000\n",
      "weighted avg   0.278782  0.283993  0.276182  3486.000000\n"
     ]
    },
    {
     "data": {
      "image/png": "[encoded data removed]",
      "text/plain": [
       "<Figure size 800x600 with 2 Axes>"
      ]
     },
     "metadata": {},
     "output_type": "display_data"
    },
    {
     "name": "stdout",
     "output_type": "stream",
     "text": [
      "\n",
      "Model: LogisticRegression\n",
      "Accuracy: 0.2129\n",
      "              precision    recall  f1-score      support\n",
      "0              0.206685  0.518836  0.295610   584.000000\n",
      "1              0.000000  0.000000  0.000000   410.000000\n",
      "2              0.217650  0.660150  0.327368   665.000000\n",
      "3              0.000000  0.000000  0.000000   476.000000\n",
      "4              0.000000  0.000000  0.000000   359.000000\n",
      "5              0.000000  0.000000  0.000000   515.000000\n",
      "6              0.000000  0.000000  0.000000   477.000000\n",
      "accuracy       0.212851  0.212851  0.212851     0.212851\n",
      "macro avg      0.060619  0.168427  0.088997  3486.000000\n",
      "weighted avg   0.076145  0.212851  0.111972  3486.000000\n"
     ]
    },
    {
     "data": {
      "image/png": "[encoded data removed]",
      "text/plain": [
       "<Figure size 800x600 with 2 Axes>"
      ]
     },
     "metadata": {},
     "output_type": "display_data"
    },
    {
     "name": "stdout",
     "output_type": "stream",
     "text": [
      "\n",
      "Model: DecisionTree\n",
      "Accuracy: 0.2160\n",
      "              precision    recall  f1-score      support\n",
      "0              0.218543  0.226027  0.222222   584.000000\n",
      "1              0.189310  0.207317  0.197905   410.000000\n",
      "2              0.276899  0.263158  0.269854   665.000000\n",
      "3              0.208817  0.189076  0.198456   476.000000\n",
      "4              0.196023  0.192201  0.194093   359.000000\n",
      "5              0.214153  0.223301  0.218631   515.000000\n",
      "6              0.180873  0.182390  0.181628   477.000000\n",
      "accuracy       0.216007  0.216007  0.216007     0.216007\n",
      "macro avg      0.212088  0.211924  0.211827  3486.000000\n",
      "weighted avg   0.216787  0.216007  0.216221  3486.000000\n"
     ]
    },
    {
     "data": {
      "image/png": "[encoded data removed]",
      "text/plain": [
       "<Figure size 800x600 with 2 Axes>"
      ]
     },
     "metadata": {},
     "output_type": "display_data"
    },
    {
     "name": "stdout",
     "output_type": "stream",
     "text": [
      "\n",
      "Best Model:\n",
      "Best Model: RandomForestClassifier()\n",
      "Best Model Accuracy: 0.2840\n"
     ]
    }
   ],
   "source": [
    "import pandas as pd\n",
    "from sklearn.model_selection import train_test_split\n",
    "from sklearn.ensemble import RandomForestClassifier\n",
    "from sklearn.linear_model import LogisticRegression\n",
    "from sklearn.tree import DecisionTreeClassifier\n",
    "from sklearn.metrics import classification_report, accuracy_score, confusion_matrix\n",
    "import seaborn as sns\n",
    "import matplotlib.pyplot as plt\n",
    "\n",
    "# Define models\n",
    "models = {\n",
    "    'RandomForest': RandomForestClassifier(),\n",
    "    'LogisticRegression': LogisticRegression(max_iter=1000),\n",
    "    'DecisionTree': DecisionTreeClassifier()\n",
    "}\n",
    "\n",
    "# Train models and evaluate them\n",
    "best_model = None\n",
    "best_score = 0\n",
    "model_reports = {}\n",
    "\n",
    "for model_name, model in models.items():\n",
    "    model.fit(X_train, y_train)  # Train model\n",
    "    y_pred = model.predict(X_test)  # Make predictions\n",
    "    \n",
    "    # Calculate accuracy and generate classification report\n",
    "    accuracy = accuracy_score(y_test, y_pred)\n",
    "    model_reports[model_name] = classification_report(y_test, y_pred, output_dict=True)  # Store as a dictionary for easier analysis\n",
    "    \n",
    "    # Track best performing model\n",
    "    if accuracy > best_score:\n",
    "        best_score = accuracy\n",
    "        best_model = model\n",
    "\n",
    "# Display classification reports and confusion matrices\n",
    "print(\"\\nClassification Report for All Models:\")\n",
    "for model_name, report in model_reports.items():\n",
    "    print(f\"\\nModel: {model_name}\")\n",
    "    print(\"Accuracy: {:.4f}\".format(accuracy_score(y_test, models[model_name].predict(X_test))))  # Display accuracy\n",
    "    print(pd.DataFrame(report).transpose())  # Display classification report as a DataFrame\n",
    "\n",
    "    # Plot Confusion Matrix\n",
    "    cm = confusion_matrix(y_test, models[model_name].predict(X_test))\n",
    "    plt.figure(figsize=(8, 6))\n",
    "    sns.heatmap(cm, annot=True, fmt=\"d\", cmap='Blues', xticklabels=offense_encoder.classes_, yticklabels=offense_encoder.classes_)\n",
    "    plt.title(f\"Confusion Matrix - {model_name}\")\n",
    "    plt.xlabel('Predicted Labels')\n",
    "    plt.ylabel('True Labels')\n",
    "    plt.show()\n",
    "\n",
    "# Display best model details\n",
    "print(\"\\nBest Model:\")\n",
    "print(f\"Best Model: {best_model}\")\n",
    "print(f\"Best Model Accuracy: {best_score:.4f}\")\n"
   ]
  },
  {
   "cell_type": "markdown",
   "id": "7a8a395a",
   "metadata": {
    "papermill": {
     "duration": 0.010693,
     "end_time": "2025-05-22T01:04:23.657478",
     "exception": false,
     "start_time": "2025-05-22T01:04:23.646785",
     "status": "completed"
    },
    "tags": []
   },
   "source": [
    "#### Classification Report for All Models:\n",
    "\n",
    "### Explanation of the Classification Results (RandomForest Model)\n",
    "\n",
    "The results you provided are from a **Random Forest** model, which is used for predicting different types of offenses. Let's break down the key components of the results:\n",
    "\n",
    "#### 1. **Accuracy: 0.2822**\n",
    "   - **Accuracy** measures the overall percentage of correct predictions made by the model. An accuracy of 28.22% means the model correctly predicted the offense in about 28% of the cases. This indicates the model's predictions are not highly reliable, as the accuracy is quite low.\n",
    "\n",
    "#### 2. **Classification Report:**\n",
    "   The classification report includes precision, recall, and F1-score for each offense. Let's go over these terms and how they apply to the results:\n",
    "\n",
    "   - **Precision**: The proportion of true positive predictions out of all positive predictions made by the model for a specific class (offense).\n",
    "   - **Recall**: The proportion of true positive predictions out of all actual positive instances in the dataset.\n",
    "   - **F1-Score**: The harmonic mean of precision and recall, providing a balance between the two metrics.\n",
    "   - **Support**: The number of actual occurrences of each class in the test set.\n",
    "\n",
    "   Let's analyze each offense based on these metrics:\n",
    "\n",
    "   | **Offense**                        | **Precision** | **Recall** | **F1-Score** | **Support** |\n",
    "   |------------------------------------|---------------|------------|--------------|-------------|\n",
    "   | **Assault Simple**                 | 0.2892        | 0.3754     | 0.3267       | 594         |\n",
    "   | **Assist Citizen - Mental/TDO/ECO**| 0.3182        | 0.2274     | 0.2652       | 431         |\n",
    "   | **Hit and Run**                    | 0.2963        | 0.4765     | 0.3654       | 638         |\n",
    "   | **Larceny - All Other**            | 0.2270        | 0.1453     | 0.1772       | 475         |\n",
    "   | **Lost/FoundProperty**             | 0.3333        | 0.2102     | 0.2578       | 352         |\n",
    "   | **Suspicious Activity**            | 0.2344        | 0.2169     | 0.2253       | 484         |\n",
    "   | **Vandalism**                      | 0.2712        | 0.2106     | 0.2371       | 470         |\n",
    "\n",
    "#### 3. **Key Insights from the Report:**\n",
    "\n",
    "- **Precision**:\n",
    "   - The highest precision is for **Larceny - All Other** (0.3333), indicating that when the model predicts this offense, it is correct about 33% of the time. However, this is still quite low.\n",
    "   - **Assist Citizen - Mental/TDO/ECO** has the lowest precision (0.2269), meaning that the model's predictions for this offense tend to be wrong more often than correct.\n",
    "\n",
    "- **Recall**:\n",
    "   - **Hit and Run** has the highest recall (0.4765), meaning the model identifies about 48% of the actual occurrences of this offense. This is better than the precision, which indicates it is missing many true positives but is still able to identify a fair number of cases.\n",
    "   - **Larceny - All Other** and **Suspicious Activity** have the lowest recall values (0.1453 and 0.2169, respectively), indicating that the model is failing to identify most of the actual cases for these offenses.\n",
    "\n",
    "- **F1-Score**:\n",
    "   - The **F1-Score** balances precision and recall. It is highest for **Hit and Run** (0.3654), but still relatively low overall. This suggests the model is better at identifying **Hit and Run** than other offenses but still has room for improvement.\n",
    "   - **Larceny - All Other** has the lowest F1-Score (0.1772), indicating a poor balance between precision and recall for this offense.\n",
    "\n",
    "#### 4. **Macro Average and Weighted Average:**\n",
    "   - **Macro Average**: This gives the average precision, recall, and F1-Score across all classes (offenses) without considering the class distribution. It averages the results for all offenses equally.\n",
    "     - Precision: 0.2814\n",
    "     - Recall: 0.2661\n",
    "     - F1-Score: 0.2649\n",
    "   - **Weighted Average**: This averages the metrics but weighs each class by its support (the number of true instances in the test set). This gives a better sense of overall performance, considering the class distribution.\n",
    "     - Precision: 0.2799\n",
    "     - Recall: 0.2822\n",
    "     - F1-Score: 0.2720\n",
    "\n",
    "#### 5. **Confusion Matrix (Visualization Analysis)**:\n",
    "   - The confusion matrix shows the distribution of true positive, false positive, true negative, and false negative predictions for each class.\n",
    "     - For **Hit and Run**, the model performs relatively well in identifying this offense (304 true positives). However, it also misclassifies some **Hit and Run** instances as other offenses (e.g., **Assault Simple**, **Suspicious Activity**, etc.).\n",
    "     - **Larceny - All Other** is frequently misclassified as **Hit and Run**, **Suspicious Activity**, and others. This is evident from the large number of off-diagonal elements in its row.\n",
    "     - **Assist Citizen - Mental/TDO/ECO** and **Suspicious Activity** are frequently misclassified, as seen by the off-diagonal values in their rows.\n",
    "\n",
    "### Conclusion:\n",
    "The Random Forest model has low accuracy (28.22%), suggesting that it struggles to predict most offenses accurately. Some offenses like **Hit and Run** are better predicted than others, but overall, the model shows a high level of misclassification across all offenses. There may be a need for further tuning of the model, additional feature engineering, or trying different models for better performance.\n",
    "\n",
    "Let me know if you'd like to improve the model or make adjustments based on these results!\n",
    "\n"
   ]
  },
  {
   "cell_type": "markdown",
   "id": "5ac187dc",
   "metadata": {
    "papermill": {
     "duration": 0.010709,
     "end_time": "2025-05-22T01:04:23.678866",
     "exception": false,
     "start_time": "2025-05-22T01:04:23.668157",
     "status": "completed"
    },
    "tags": []
   },
   "source": [
    "### Model Explanation\n",
    "\n",
    "Once we’ve chosen the best model, we will explain its predictions by examining feature importance for tree-based models and using statistical methods like logistic regression coefficients for linear models."
   ]
  },
  {
   "cell_type": "markdown",
   "id": "2a6a6016",
   "metadata": {
    "papermill": {
     "duration": 0.010836,
     "end_time": "2025-05-22T01:04:23.700538",
     "exception": false,
     "start_time": "2025-05-22T01:04:23.689702",
     "status": "completed"
    },
    "tags": []
   },
   "source": [
    "#### Feature Importance for Random Forest / Decision Tree\n",
    "\n",
    "##### For Tree-based Models (Random Forest, Decision Tree)\n",
    "\n",
    "For Random Forest or Decision Tree, we can look at feature importance to understand which variables contribute the most to the model's predictions. Here's how you can visualize and interpret the importance of each feature:"
   ]
  },
  {
   "cell_type": "code",
   "execution_count": 23,
   "id": "01cb9877",
   "metadata": {
    "execution": {
     "iopub.execute_input": "2025-05-22T01:04:23.723664Z",
     "iopub.status.busy": "2025-05-22T01:04:23.723128Z",
     "iopub.status.idle": "2025-05-22T01:04:23.989447Z",
     "shell.execute_reply": "2025-05-22T01:04:23.988699Z"
    },
    "papermill": {
     "duration": 0.279149,
     "end_time": "2025-05-22T01:04:23.990548",
     "exception": false,
     "start_time": "2025-05-22T01:04:23.711399",
     "status": "completed"
    },
    "tags": []
   },
   "outputs": [
    {
     "data": {
      "image/png": "[encoded data removed]",
      "text/plain": [
       "<Figure size 1000x600 with 1 Axes>"
      ]
     },
     "metadata": {},
     "output_type": "display_data"
    }
   ],
   "source": [
    "# For RandomForest or DecisionTree models, we can check feature importance\n",
    "if isinstance(best_model, RandomForestClassifier) or isinstance(best_model, DecisionTreeClassifier):\n",
    "    feature_importance = best_model.feature_importances_\n",
    "    feature_names = X.columns\n",
    "    importance_df = pd.DataFrame({'Feature': feature_names, 'Importance': feature_importance})\n",
    "    importance_df = importance_df.sort_values(by='Importance', ascending=False)\n",
    "    \n",
    "    # Plotting the feature importances\n",
    "    plt.figure(figsize=(10, 6))\n",
    "    sns.barplot(x='Importance', y='Feature', data=importance_df)\n",
    "    plt.title(\"Feature Importance\")\n",
    "    plt.show()\n"
   ]
  },
  {
   "cell_type": "code",
   "execution_count": null,
   "id": "cb9e06b7",
   "metadata": {
    "papermill": {
     "duration": 0.011313,
     "end_time": "2025-05-22T01:04:24.013413",
     "exception": false,
     "start_time": "2025-05-22T01:04:24.002100",
     "status": "completed"
    },
    "tags": []
   },
   "outputs": [],
   "source": []
  },
  {
   "cell_type": "markdown",
   "id": "91e815e3",
   "metadata": {
    "papermill": {
     "duration": 0.011037,
     "end_time": "2025-05-22T01:04:24.035620",
     "exception": false,
     "start_time": "2025-05-22T01:04:24.024583",
     "status": "completed"
    },
    "tags": []
   },
   "source": [
    "### Evaluation\n",
    "\n",
    "After training the models and examining their performance, we evaluate the chosen model based on metrics like accuracy, precision, recall, and F1 score.\n",
    "\n"
   ]
  },
  {
   "cell_type": "code",
   "execution_count": 24,
   "id": "4496c233",
   "metadata": {
    "execution": {
     "iopub.execute_input": "2025-05-22T01:04:24.059478Z",
     "iopub.status.busy": "2025-05-22T01:04:24.059004Z",
     "iopub.status.idle": "2025-05-22T01:04:24.149185Z",
     "shell.execute_reply": "2025-05-22T01:04:24.148583Z"
    },
    "papermill": {
     "duration": 0.10347,
     "end_time": "2025-05-22T01:04:24.150284",
     "exception": false,
     "start_time": "2025-05-22T01:04:24.046814",
     "status": "completed"
    },
    "tags": []
   },
   "outputs": [
    {
     "name": "stdout",
     "output_type": "stream",
     "text": [
      "Accuracy: 0.2840\n",
      "Classification Report:\n",
      "              precision    recall  f1-score   support\n",
      "\n",
      "           0       0.29      0.36      0.32       584\n",
      "           1       0.28      0.25      0.26       410\n",
      "           2       0.31      0.46      0.37       665\n",
      "           3       0.25      0.19      0.22       476\n",
      "           4       0.29      0.21      0.25       359\n",
      "           5       0.25      0.20      0.22       515\n",
      "           6       0.27      0.21      0.24       477\n",
      "\n",
      "    accuracy                           0.28      3486\n",
      "   macro avg       0.28      0.27      0.27      3486\n",
      "weighted avg       0.28      0.28      0.28      3486\n",
      "\n",
      "Confusion Matrix:\n",
      "[[209  68 142  40  21  67  37]\n",
      " [ 91 102  91  20  22  52  32]\n",
      " [102  46 305  53  28  68  63]\n",
      " [ 80  34 137  91  35  46  53]\n",
      " [ 49  28  84  45  77  31  45]\n",
      " [101  48 121  56  37 105  47]\n",
      " [ 89  38  92  56  45  56 101]]\n",
      "Precision: 0.2788\n",
      "Recall: 0.2840\n",
      "F1 Score: 0.2762\n"
     ]
    }
   ],
   "source": [
    "from sklearn.metrics import classification_report, confusion_matrix, accuracy_score, precision_score, recall_score, f1_score\n",
    "\n",
    "# Predict on the test set\n",
    "y_pred = best_model.predict(X_test)\n",
    "\n",
    "# Calculate Accuracy\n",
    "accuracy = accuracy_score(y_test, y_pred)\n",
    "print(f\"Accuracy: {accuracy:.4f}\")\n",
    "\n",
    "# Classification Report\n",
    "print(\"Classification Report:\")\n",
    "print(classification_report(y_test, y_pred))\n",
    "\n",
    "# Confusion Matrix\n",
    "conf_matrix = confusion_matrix(y_test, y_pred)\n",
    "print(\"Confusion Matrix:\")\n",
    "print(conf_matrix)\n",
    "\n",
    "# Precision, Recall, F1 Score for each class (Offense Type)\n",
    "precision = precision_score(y_test, y_pred, average='weighted')\n",
    "recall = recall_score(y_test, y_pred, average='weighted')\n",
    "f1 = f1_score(y_test, y_pred, average='weighted')\n",
    "\n",
    "print(f\"Precision: {precision:.4f}\")\n",
    "print(f\"Recall: {recall:.4f}\")\n",
    "print(f\"F1 Score: {f1:.4f}\")\n"
   ]
  },
  {
   "cell_type": "markdown",
   "id": "94e12210",
   "metadata": {
    "papermill": {
     "duration": 0.011214,
     "end_time": "2025-05-22T01:04:24.173020",
     "exception": false,
     "start_time": "2025-05-22T01:04:24.161806",
     "status": "completed"
    },
    "tags": []
   },
   "source": [
    "#### For Logistic Regression (Coefficient Interpretation)\n",
    "\n",
    "For Logistic Regression, the model coefficients can help us understand how each feature affects the likelihood of an offense happening. A positive coefficient indicates a feature increases the likelihood of the offense, and a negative coefficient indicates the opposite."
   ]
  },
  {
   "cell_type": "code",
   "execution_count": 25,
   "id": "9a6ab7e9",
   "metadata": {
    "execution": {
     "iopub.execute_input": "2025-05-22T01:04:24.196946Z",
     "iopub.status.busy": "2025-05-22T01:04:24.196423Z",
     "iopub.status.idle": "2025-05-22T01:04:24.201205Z",
     "shell.execute_reply": "2025-05-22T01:04:24.200660Z"
    },
    "papermill": {
     "duration": 0.018042,
     "end_time": "2025-05-22T01:04:24.202241",
     "exception": false,
     "start_time": "2025-05-22T01:04:24.184199",
     "status": "completed"
    },
    "tags": []
   },
   "outputs": [],
   "source": [
    "if isinstance(best_model, LogisticRegression):\n",
    "    # Logistic regression coefficients\n",
    "    coef_df = pd.DataFrame({\n",
    "        'Feature': X.columns,\n",
    "        'Coefficient': best_model.coef_[0]\n",
    "    })\n",
    "    coef_df['AbsCoefficient'] = coef_df['Coefficient'].abs()\n",
    "    coef_df = coef_df.sort_values(by='AbsCoefficient', ascending=False)\n",
    "    \n",
    "    # Plotting the coefficients\n",
    "    plt.figure(figsize=(10, 6))\n",
    "    sns.barplot(x='AbsCoefficient', y='Feature', data=coef_df)\n",
    "    plt.title(\"Logistic Regression Coefficients Impact\")\n",
    "    plt.show()\n",
    "\n",
    "    # Print the top 5 most impactful features (by absolute coefficient value)\n",
    "    print(\"Top 5 most impactful features based on coefficients:\")\n",
    "    print(coef_df.head())\n"
   ]
  },
  {
   "cell_type": "markdown",
   "id": "cdde133b",
   "metadata": {
    "papermill": {
     "duration": 0.011295,
     "end_time": "2025-05-22T01:04:24.225146",
     "exception": false,
     "start_time": "2025-05-22T01:04:24.213851",
     "status": "completed"
    },
    "tags": []
   },
   "source": [
    "Explanation of Output:\n",
    "\n",
    "Feature Importance (Random Forest/Decision Tree): The bar plot will show how important each feature is in the decision-making process. Features at the top of the list are the most influential in predicting the occurrence of offenses.\n",
    "\n",
    "Logistic Regression Coefficients: The bar plot will show the magnitude of the coefficients for each feature. Features with larger absolute values (either positive or negative) have a stronger impact on the model’s predictions. Positive coefficients increase the probability of an offense, while negative coefficients decrease it."
   ]
  },
  {
   "cell_type": "markdown",
   "id": "c9abdcd5",
   "metadata": {
    "papermill": {
     "duration": 0.012182,
     "end_time": "2025-05-22T01:04:24.248577",
     "exception": false,
     "start_time": "2025-05-22T01:04:24.236395",
     "status": "completed"
    },
    "tags": []
   },
   "source": []
  }
 ],
 "metadata": {
  "kernelspec": {
   "display_name": "Python 3",
   "language": "python",
   "name": "python3"
  },
  "language_info": {
   "codemirror_mode": {
    "name": "ipython",
    "version": 3
   },
   "file_extension": ".py",
   "mimetype": "text/x-python",
   "name": "python",
   "nbconvert_exporter": "python",
   "pygments_lexer": "ipython3",
   "version": "3.9.22"
  },
  "papermill": {
   "default_parameters": {},
   "duration": 81.558801,
   "end_time": "2025-05-22T01:04:24.776928",
   "environment_variables": {},
   "exception": null,
   "input_path": "notebook/Crime Data.ipynb",
   "output_path": "notebook/Crime Data_output.ipynb",
   "parameters": {},
   "start_time": "2025-05-22T01:03:03.218127",
   "version": "2.6.0"
  }
 },
 "nbformat": 4,
 "nbformat_minor": 5
}