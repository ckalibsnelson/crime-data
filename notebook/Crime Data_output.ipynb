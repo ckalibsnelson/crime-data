{
 "cells": [
  {
   "cell_type": "markdown",
   "id": "0b2ea52c",
   "metadata": {
    "papermill": {
     "duration": 0.006076,
     "end_time": "2025-04-07T01:01:14.032478",
     "exception": false,
     "start_time": "2025-04-07T01:01:14.026402",
     "status": "completed"
    },
    "tags": []
   },
   "source": [
    "# Charlottesville Open Data Porttal: Crime Data"
   ]
  },
  {
   "cell_type": "markdown",
   "id": "167ca531",
   "metadata": {
    "papermill": {
     "duration": 0.004938,
     "end_time": "2025-04-07T01:01:14.042790",
     "exception": false,
     "start_time": "2025-04-07T01:01:14.037852",
     "status": "completed"
    },
    "tags": []
   },
   "source": [
    "## Import Relevant Librarires & Set WD"
   ]
  },
  {
   "cell_type": "code",
   "execution_count": 1,
   "id": "84983cb7",
   "metadata": {
    "execution": {
     "iopub.execute_input": "2025-04-07T01:01:14.059351Z",
     "iopub.status.busy": "2025-04-07T01:01:14.059082Z",
     "iopub.status.idle": "2025-04-07T01:01:15.098804Z",
     "shell.execute_reply": "2025-04-07T01:01:15.098031Z"
    },
    "papermill": {
     "duration": 1.051961,
     "end_time": "2025-04-07T01:01:15.100168",
     "exception": false,
     "start_time": "2025-04-07T01:01:14.048207",
     "status": "completed"
    },
    "tags": []
   },
   "outputs": [],
   "source": [
    "import requests\n",
    "import pandas as pd\n",
    "import numpy as np\n",
    "import pickle\n",
    "import googlemaps\n",
    "import plotly.express as px\n",
    "from geopy.geocoders import Nominatim\n",
    "import time\n",
    "from dotenv import load_dotenv\n",
    "import os\n",
    "\n",
    "env_path = os.path.join(\"..\", \".env\")\n",
    "#print(\"Looking for .env file at:\", os.path.abspath(env_path))\n",
    "load_dotenv(dotenv_path=env_path)\n",
    "\n",
    "# Retrieve the variables\n",
    "GOOGLE_API_KEY = os.getenv(\"GOOGLE_API_KEY\")\n",
    "WORKING_DIR = os.getenv(\"WORKING_DIR\")\n",
    "\n",
    "if GOOGLE_API_KEY is None or WORKING_DIR is None:\n",
    "    raise RuntimeError(\"No configuration found. Please ensure that your .env file exists with the required variables, or create a local config.py file.\")\n",
    "\n",
    "#print(\"Google API Key:\", GOOGLE_API_KEY)\n",
    "#print(\"Working Directory:\", WORKING_DIR)"
   ]
  },
  {
   "cell_type": "markdown",
   "id": "df706f5a",
   "metadata": {
    "papermill": {
     "duration": 0.004982,
     "end_time": "2025-04-07T01:01:15.110711",
     "exception": false,
     "start_time": "2025-04-07T01:01:15.105729",
     "status": "completed"
    },
    "tags": []
   },
   "source": [
    "## Import Data\n",
    "\n",
    "URL: https://opendata.charlottesville.org/datasets/charlottesville::crime-data/about"
   ]
  },
  {
   "cell_type": "code",
   "execution_count": 2,
   "id": "7f412647",
   "metadata": {
    "execution": {
     "iopub.execute_input": "2025-04-07T01:01:15.122004Z",
     "iopub.status.busy": "2025-04-07T01:01:15.121427Z",
     "iopub.status.idle": "2025-04-07T01:02:11.792013Z",
     "shell.execute_reply": "2025-04-07T01:02:11.791258Z"
    },
    "papermill": {
     "duration": 56.68244,
     "end_time": "2025-04-07T01:02:11.798213",
     "exception": false,
     "start_time": "2025-04-07T01:01:15.115773",
     "status": "completed"
    },
    "tags": []
   },
   "outputs": [
    {
     "name": "stdout",
     "output_type": "stream",
     "text": [
      "Total records imported: 25120\n"
     ]
    }
   ],
   "source": [
    "# Define the endpoint and initial parameters.\n",
    "url = \"https://gisweb.charlottesville.org/arcgis/rest/services/OpenData_2/MapServer/6/query\"\n",
    "params = {\n",
    "    \"where\": \"1=1\",\n",
    "    \"outFields\": \"*\",\n",
    "    \"outSR\": 4326,\n",
    "    \"f\": \"json\",\n",
    "    \"resultOffset\": 0,       # Starting index for results\n",
    "    \"resultRecordCount\": 10000  # Maximum records per batch (if allowed by the API)\n",
    "}\n",
    "\n",
    "records = []\n",
    "\n",
    "while True:\n",
    "    response = requests.get(url, params=params)\n",
    "    response.raise_for_status()\n",
    "    data = response.json()\n",
    "    \n",
    "    # Get the current batch of features.\n",
    "    features = data.get(\"features\", [])\n",
    "    if not features:\n",
    "        break\n",
    "\n",
    "    # Extract the attributes from the features.\n",
    "    batch_records = [feature.get(\"attributes\", {}) for feature in features]\n",
    "    records.extend(batch_records)\n",
    "    \n",
    "    # If the batch size is less than the requested count, we reached the end.\n",
    "    if len(features) < params[\"resultRecordCount\"]:\n",
    "        break\n",
    "\n",
    "    # Update the resultOffset for the next batch.\n",
    "    params[\"resultOffset\"] += params[\"resultRecordCount\"]\n",
    "\n",
    "# Create a DataFrame from the combined records.\n",
    "df = pd.DataFrame(records)\n",
    "print(\"Total records imported:\", len(df))\n"
   ]
  },
  {
   "cell_type": "code",
   "execution_count": 3,
   "id": "0ab2081c",
   "metadata": {
    "execution": {
     "iopub.execute_input": "2025-04-07T01:02:11.809813Z",
     "iopub.status.busy": "2025-04-07T01:02:11.809390Z",
     "iopub.status.idle": "2025-04-07T01:02:11.821670Z",
     "shell.execute_reply": "2025-04-07T01:02:11.821065Z"
    },
    "papermill": {
     "duration": 0.019093,
     "end_time": "2025-04-07T01:02:11.822683",
     "exception": false,
     "start_time": "2025-04-07T01:02:11.803590",
     "status": "completed"
    },
    "tags": []
   },
   "outputs": [
    {
     "data": {
      "text/html": [
       "<div>\n",
       "<style scoped>\n",
       "    .dataframe tbody tr th:only-of-type {\n",
       "        vertical-align: middle;\n",
       "    }\n",
       "\n",
       "    .dataframe tbody tr th {\n",
       "        vertical-align: top;\n",
       "    }\n",
       "\n",
       "    .dataframe thead th {\n",
       "        text-align: right;\n",
       "    }\n",
       "</style>\n",
       "<table border=\"1\" class=\"dataframe\">\n",
       "  <thead>\n",
       "    <tr style=\"text-align: right;\">\n",
       "      <th></th>\n",
       "      <th>RecordID</th>\n",
       "      <th>Offense</th>\n",
       "      <th>IncidentID</th>\n",
       "      <th>BlockNumber</th>\n",
       "      <th>StreetName</th>\n",
       "      <th>Agency</th>\n",
       "      <th>DateReported</th>\n",
       "      <th>HourReported</th>\n",
       "      <th>ReportingOfficer</th>\n",
       "    </tr>\n",
       "  </thead>\n",
       "  <tbody>\n",
       "    <tr>\n",
       "      <th>0</th>\n",
       "      <td>1</td>\n",
       "      <td>Larceny - Shoplifitng</td>\n",
       "      <td>202500010853</td>\n",
       "      <td>1200</td>\n",
       "      <td>EMMET ST N, 120</td>\n",
       "      <td>CPD</td>\n",
       "      <td>1743813270000</td>\n",
       "      <td>2034</td>\n",
       "      <td>Benbow, Lauren</td>\n",
       "    </tr>\n",
       "    <tr>\n",
       "      <th>1</th>\n",
       "      <td>2</td>\n",
       "      <td>Assist Citizen - Welfare Check</td>\n",
       "      <td>202500010838</td>\n",
       "      <td>500</td>\n",
       "      <td>CAROLINE AVE</td>\n",
       "      <td>CPD</td>\n",
       "      <td>1743803973000</td>\n",
       "      <td>1759</td>\n",
       "      <td>Essex, Dominique</td>\n",
       "    </tr>\n",
       "    <tr>\n",
       "      <th>2</th>\n",
       "      <td>3</td>\n",
       "      <td>Larceny - Theft from Building</td>\n",
       "      <td>202500010816</td>\n",
       "      <td>800</td>\n",
       "      <td>WALKER SQ</td>\n",
       "      <td>CPD</td>\n",
       "      <td>1743795410000</td>\n",
       "      <td>1536</td>\n",
       "      <td>Abdelgayed, Adam</td>\n",
       "    </tr>\n",
       "    <tr>\n",
       "      <th>3</th>\n",
       "      <td>4</td>\n",
       "      <td>Extortion/Blackmail</td>\n",
       "      <td>202500010815</td>\n",
       "      <td>300</td>\n",
       "      <td>15TH ST NW, 5019</td>\n",
       "      <td>CPD</td>\n",
       "      <td>1743794480000</td>\n",
       "      <td>1521</td>\n",
       "      <td>Davis, Charles</td>\n",
       "    </tr>\n",
       "    <tr>\n",
       "      <th>4</th>\n",
       "      <td>5</td>\n",
       "      <td>Burglary</td>\n",
       "      <td>202500010809</td>\n",
       "      <td>500</td>\n",
       "      <td>RIDGE ST, 108</td>\n",
       "      <td>CPD</td>\n",
       "      <td>1743792755000</td>\n",
       "      <td>1452</td>\n",
       "      <td>Reed, Danielle</td>\n",
       "    </tr>\n",
       "  </tbody>\n",
       "</table>\n",
       "</div>"
      ],
      "text/plain": [
       "   RecordID                         Offense    IncidentID BlockNumber  \\\n",
       "0         1           Larceny - Shoplifitng  202500010853        1200   \n",
       "1         2  Assist Citizen - Welfare Check  202500010838         500   \n",
       "2         3   Larceny - Theft from Building  202500010816         800   \n",
       "3         4             Extortion/Blackmail  202500010815         300   \n",
       "4         5                        Burglary  202500010809         500   \n",
       "\n",
       "         StreetName Agency   DateReported HourReported  ReportingOfficer  \n",
       "0   EMMET ST N, 120    CPD  1743813270000         2034    Benbow, Lauren  \n",
       "1      CAROLINE AVE    CPD  1743803973000         1759  Essex, Dominique  \n",
       "2         WALKER SQ    CPD  1743795410000         1536  Abdelgayed, Adam  \n",
       "3  15TH ST NW, 5019    CPD  1743794480000         1521    Davis, Charles  \n",
       "4     RIDGE ST, 108    CPD  1743792755000         1452    Reed, Danielle  "
      ]
     },
     "execution_count": 3,
     "metadata": {},
     "output_type": "execute_result"
    }
   ],
   "source": [
    "df.head()"
   ]
  },
  {
   "cell_type": "code",
   "execution_count": 4,
   "id": "c7b458ae",
   "metadata": {
    "execution": {
     "iopub.execute_input": "2025-04-07T01:02:11.834428Z",
     "iopub.status.busy": "2025-04-07T01:02:11.834045Z",
     "iopub.status.idle": "2025-04-07T01:02:11.838322Z",
     "shell.execute_reply": "2025-04-07T01:02:11.837685Z"
    },
    "papermill": {
     "duration": 0.011272,
     "end_time": "2025-04-07T01:02:11.839314",
     "exception": false,
     "start_time": "2025-04-07T01:02:11.828042",
     "status": "completed"
    },
    "tags": []
   },
   "outputs": [
    {
     "data": {
      "text/plain": [
       "Index(['RecordID', 'Offense', 'IncidentID', 'BlockNumber', 'StreetName',\n",
       "       'Agency', 'DateReported', 'HourReported', 'ReportingOfficer'],\n",
       "      dtype='object')"
      ]
     },
     "execution_count": 4,
     "metadata": {},
     "output_type": "execute_result"
    }
   ],
   "source": [
    "df.columns"
   ]
  },
  {
   "cell_type": "code",
   "execution_count": 5,
   "id": "25cb8572",
   "metadata": {
    "execution": {
     "iopub.execute_input": "2025-04-07T01:02:11.851683Z",
     "iopub.status.busy": "2025-04-07T01:02:11.851246Z",
     "iopub.status.idle": "2025-04-07T01:02:11.873205Z",
     "shell.execute_reply": "2025-04-07T01:02:11.872531Z"
    },
    "papermill": {
     "duration": 0.029465,
     "end_time": "2025-04-07T01:02:11.874294",
     "exception": false,
     "start_time": "2025-04-07T01:02:11.844829",
     "status": "completed"
    },
    "tags": []
   },
   "outputs": [
    {
     "name": "stdout",
     "output_type": "stream",
     "text": [
      "<class 'pandas.core.frame.DataFrame'>\n",
      "RangeIndex: 25120 entries, 0 to 25119\n",
      "Data columns (total 9 columns):\n",
      " #   Column            Non-Null Count  Dtype \n",
      "---  ------            --------------  ----- \n",
      " 0   RecordID          25120 non-null  int64 \n",
      " 1   Offense           25120 non-null  object\n",
      " 2   IncidentID        25120 non-null  object\n",
      " 3   BlockNumber       25120 non-null  object\n",
      " 4   StreetName        25120 non-null  object\n",
      " 5   Agency            25120 non-null  object\n",
      " 6   DateReported      25120 non-null  int64 \n",
      " 7   HourReported      25120 non-null  object\n",
      " 8   ReportingOfficer  25103 non-null  object\n",
      "dtypes: int64(2), object(7)\n",
      "memory usage: 1.7+ MB\n"
     ]
    }
   ],
   "source": [
    "df.info()"
   ]
  },
  {
   "cell_type": "markdown",
   "id": "0af45f7e",
   "metadata": {
    "papermill": {
     "duration": 0.005551,
     "end_time": "2025-04-07T01:02:11.885609",
     "exception": false,
     "start_time": "2025-04-07T01:02:11.880058",
     "status": "completed"
    },
    "tags": []
   },
   "source": [
    "### Missing Values"
   ]
  },
  {
   "cell_type": "code",
   "execution_count": 6,
   "id": "d3946c8f",
   "metadata": {
    "execution": {
     "iopub.execute_input": "2025-04-07T01:02:11.897629Z",
     "iopub.status.busy": "2025-04-07T01:02:11.897213Z",
     "iopub.status.idle": "2025-04-07T01:02:11.917280Z",
     "shell.execute_reply": "2025-04-07T01:02:11.916725Z"
    },
    "papermill": {
     "duration": 0.027188,
     "end_time": "2025-04-07T01:02:11.918265",
     "exception": false,
     "start_time": "2025-04-07T01:02:11.891077",
     "status": "completed"
    },
    "tags": []
   },
   "outputs": [
    {
     "name": "stdout",
     "output_type": "stream",
     "text": [
      "                  MissingCount  MissingPercentage\n",
      "RecordID                     0               0.00\n",
      "Offense                      0               0.00\n",
      "IncidentID                   0               0.00\n",
      "BlockNumber                  0               0.00\n",
      "StreetName                   0               0.00\n",
      "Agency                       0               0.00\n",
      "DateReported                 0               0.00\n",
      "HourReported                 0               0.00\n",
      "ReportingOfficer            17               0.07\n"
     ]
    }
   ],
   "source": [
    "def missing_percentage(df):\n",
    "    \"\"\"\n",
    "    Returns a DataFrame with the count and percentage of missing values for each column.\n",
    "    \n",
    "    Parameters:\n",
    "        df (pd.DataFrame): The input DataFrame.\n",
    "    \n",
    "    Returns:\n",
    "        pd.DataFrame: A DataFrame with columns 'MissingCount' and 'MissingPercentage'.\n",
    "    \"\"\"\n",
    "    total_rows = len(df)\n",
    "    missing_count = df.isnull().sum()\n",
    "    missing_percent = (missing_count / total_rows) * 100\n",
    "    \n",
    "    result = pd.DataFrame({\n",
    "        'MissingCount': missing_count,\n",
    "        'MissingPercentage': missing_percent.round(2)\n",
    "    })\n",
    "    \n",
    "    return result\n",
    "\n",
    "# Example usage:\n",
    "missing_info = missing_percentage(df)\n",
    "print(missing_info)\n"
   ]
  },
  {
   "cell_type": "markdown",
   "id": "6455d514",
   "metadata": {
    "papermill": {
     "duration": 0.005604,
     "end_time": "2025-04-07T01:02:11.929712",
     "exception": false,
     "start_time": "2025-04-07T01:02:11.924108",
     "status": "completed"
    },
    "tags": []
   },
   "source": [
    "## Data Preparation"
   ]
  },
  {
   "cell_type": "markdown",
   "id": "b62dab38",
   "metadata": {
    "papermill": {
     "duration": 0.005576,
     "end_time": "2025-04-07T01:02:11.940789",
     "exception": false,
     "start_time": "2025-04-07T01:02:11.935213",
     "status": "completed"
    },
    "tags": []
   },
   "source": [
    "### Data Conversion"
   ]
  },
  {
   "cell_type": "code",
   "execution_count": 7,
   "id": "91c36418",
   "metadata": {
    "execution": {
     "iopub.execute_input": "2025-04-07T01:02:11.952997Z",
     "iopub.status.busy": "2025-04-07T01:02:11.952517Z",
     "iopub.status.idle": "2025-04-07T01:02:12.319770Z",
     "shell.execute_reply": "2025-04-07T01:02:12.319158Z"
    },
    "papermill": {
     "duration": 0.374563,
     "end_time": "2025-04-07T01:02:12.320869",
     "exception": false,
     "start_time": "2025-04-07T01:02:11.946306",
     "status": "completed"
    },
    "tags": []
   },
   "outputs": [
    {
     "data": {
      "text/html": [
       "<div>\n",
       "<style scoped>\n",
       "    .dataframe tbody tr th:only-of-type {\n",
       "        vertical-align: middle;\n",
       "    }\n",
       "\n",
       "    .dataframe tbody tr th {\n",
       "        vertical-align: top;\n",
       "    }\n",
       "\n",
       "    .dataframe thead th {\n",
       "        text-align: right;\n",
       "    }\n",
       "</style>\n",
       "<table border=\"1\" class=\"dataframe\">\n",
       "  <thead>\n",
       "    <tr style=\"text-align: right;\">\n",
       "      <th></th>\n",
       "      <th>RecordID</th>\n",
       "      <th>Offense</th>\n",
       "      <th>IncidentID</th>\n",
       "      <th>BlockNumber</th>\n",
       "      <th>StreetName</th>\n",
       "      <th>Agency</th>\n",
       "      <th>HourReported</th>\n",
       "      <th>ReportingOfficer</th>\n",
       "      <th>Date</th>\n",
       "      <th>DateString</th>\n",
       "      <th>DayOfWeek</th>\n",
       "      <th>Weekend</th>\n",
       "      <th>Season</th>\n",
       "      <th>HourAMPM</th>\n",
       "      <th>TimeOfDay</th>\n",
       "    </tr>\n",
       "  </thead>\n",
       "  <tbody>\n",
       "    <tr>\n",
       "      <th>0</th>\n",
       "      <td>1</td>\n",
       "      <td>Larceny - Shoplifitng</td>\n",
       "      <td>202500010853</td>\n",
       "      <td>1200</td>\n",
       "      <td>EMMET ST N, 120</td>\n",
       "      <td>CPD</td>\n",
       "      <td>2034</td>\n",
       "      <td>Benbow, Lauren</td>\n",
       "      <td>2025-04-04 20:34:30</td>\n",
       "      <td>2025-04-04 08:34:30 PM</td>\n",
       "      <td>Friday</td>\n",
       "      <td>False</td>\n",
       "      <td>Spring</td>\n",
       "      <td>08:34 PM</td>\n",
       "      <td>Evening</td>\n",
       "    </tr>\n",
       "    <tr>\n",
       "      <th>1</th>\n",
       "      <td>2</td>\n",
       "      <td>Assist Citizen - Welfare Check</td>\n",
       "      <td>202500010838</td>\n",
       "      <td>500</td>\n",
       "      <td>CAROLINE AVE</td>\n",
       "      <td>CPD</td>\n",
       "      <td>1759</td>\n",
       "      <td>Essex, Dominique</td>\n",
       "      <td>2025-04-04 17:59:33</td>\n",
       "      <td>2025-04-04 05:59:33 PM</td>\n",
       "      <td>Friday</td>\n",
       "      <td>False</td>\n",
       "      <td>Spring</td>\n",
       "      <td>05:59 PM</td>\n",
       "      <td>Evening</td>\n",
       "    </tr>\n",
       "    <tr>\n",
       "      <th>2</th>\n",
       "      <td>3</td>\n",
       "      <td>Larceny - Theft from Building</td>\n",
       "      <td>202500010816</td>\n",
       "      <td>800</td>\n",
       "      <td>WALKER SQ</td>\n",
       "      <td>CPD</td>\n",
       "      <td>1536</td>\n",
       "      <td>Abdelgayed, Adam</td>\n",
       "      <td>2025-04-04 15:36:50</td>\n",
       "      <td>2025-04-04 03:36:50 PM</td>\n",
       "      <td>Friday</td>\n",
       "      <td>False</td>\n",
       "      <td>Spring</td>\n",
       "      <td>03:36 PM</td>\n",
       "      <td>Afternoon</td>\n",
       "    </tr>\n",
       "    <tr>\n",
       "      <th>3</th>\n",
       "      <td>4</td>\n",
       "      <td>Extortion/Blackmail</td>\n",
       "      <td>202500010815</td>\n",
       "      <td>300</td>\n",
       "      <td>15TH ST NW, 5019</td>\n",
       "      <td>CPD</td>\n",
       "      <td>1521</td>\n",
       "      <td>Davis, Charles</td>\n",
       "      <td>2025-04-04 15:21:20</td>\n",
       "      <td>2025-04-04 03:21:20 PM</td>\n",
       "      <td>Friday</td>\n",
       "      <td>False</td>\n",
       "      <td>Spring</td>\n",
       "      <td>03:21 PM</td>\n",
       "      <td>Afternoon</td>\n",
       "    </tr>\n",
       "    <tr>\n",
       "      <th>4</th>\n",
       "      <td>5</td>\n",
       "      <td>Burglary</td>\n",
       "      <td>202500010809</td>\n",
       "      <td>500</td>\n",
       "      <td>RIDGE ST, 108</td>\n",
       "      <td>CPD</td>\n",
       "      <td>1452</td>\n",
       "      <td>Reed, Danielle</td>\n",
       "      <td>2025-04-04 14:52:35</td>\n",
       "      <td>2025-04-04 02:52:35 PM</td>\n",
       "      <td>Friday</td>\n",
       "      <td>False</td>\n",
       "      <td>Spring</td>\n",
       "      <td>02:52 PM</td>\n",
       "      <td>Afternoon</td>\n",
       "    </tr>\n",
       "  </tbody>\n",
       "</table>\n",
       "</div>"
      ],
      "text/plain": [
       "   RecordID                         Offense    IncidentID BlockNumber  \\\n",
       "0         1           Larceny - Shoplifitng  202500010853        1200   \n",
       "1         2  Assist Citizen - Welfare Check  202500010838         500   \n",
       "2         3   Larceny - Theft from Building  202500010816         800   \n",
       "3         4             Extortion/Blackmail  202500010815         300   \n",
       "4         5                        Burglary  202500010809         500   \n",
       "\n",
       "         StreetName Agency HourReported  ReportingOfficer                Date  \\\n",
       "0   EMMET ST N, 120    CPD         2034    Benbow, Lauren 2025-04-04 20:34:30   \n",
       "1      CAROLINE AVE    CPD         1759  Essex, Dominique 2025-04-04 17:59:33   \n",
       "2         WALKER SQ    CPD         1536  Abdelgayed, Adam 2025-04-04 15:36:50   \n",
       "3  15TH ST NW, 5019    CPD         1521    Davis, Charles 2025-04-04 15:21:20   \n",
       "4     RIDGE ST, 108    CPD         1452    Reed, Danielle 2025-04-04 14:52:35   \n",
       "\n",
       "               DateString DayOfWeek  Weekend  Season  HourAMPM  TimeOfDay  \n",
       "0  2025-04-04 08:34:30 PM    Friday    False  Spring  08:34 PM    Evening  \n",
       "1  2025-04-04 05:59:33 PM    Friday    False  Spring  05:59 PM    Evening  \n",
       "2  2025-04-04 03:36:50 PM    Friday    False  Spring  03:36 PM  Afternoon  \n",
       "3  2025-04-04 03:21:20 PM    Friday    False  Spring  03:21 PM  Afternoon  \n",
       "4  2025-04-04 02:52:35 PM    Friday    False  Spring  02:52 PM  Afternoon  "
      ]
     },
     "execution_count": 7,
     "metadata": {},
     "output_type": "execute_result"
    }
   ],
   "source": [
    "def convert_and_categorize_datereported(df, col='DateReported'):\n",
    "    \"\"\"\n",
    "    Converts an epoch (in milliseconds) date column into a timezone-aware datetime,\n",
    "    converts it to Eastern Time, and then creates columns for day-of-week, weekend flag,\n",
    "    season, 12-hour formatted time, and time-of-day. Keeps both a real datetime column\n",
    "    (Date) and a string representation (DateString).\n",
    "    \"\"\"\n",
    "    import pandas as pd\n",
    "\n",
    "    # Convert the epoch timestamp to a pandas datetime object as UTC, then convert to US/Eastern.\n",
    "    df[\"DateReported_dt\"] = (\n",
    "        pd.to_datetime(df[col], unit=\"ms\", errors=\"coerce\", utc=True)\n",
    "        .dt.tz_convert(\"US/Eastern\")\n",
    "    )\n",
    "    \n",
    "    # Create a true datetime column (remove timezone if you prefer naive datetime)\n",
    "    df[\"Date\"] = df[\"DateReported_dt\"].dt.tz_localize(None)\n",
    "\n",
    "    # Optionally, create a separate string-formatted column\n",
    "    df[\"DateString\"] = df[\"DateReported_dt\"].dt.strftime(\"%Y-%m-%d %I:%M:%S %p\")\n",
    "    \n",
    "    # DayOfWeek\n",
    "    df[\"DayOfWeek\"] = df[\"DateReported_dt\"].dt.day_name()\n",
    "    \n",
    "    # Weekend\n",
    "    df[\"Weekend\"] = df[\"DayOfWeek\"].isin([\"Saturday\", \"Sunday\"])\n",
    "    \n",
    "    # Helper function to determine the season\n",
    "    def get_season(dt):\n",
    "        month = dt.month\n",
    "        day = dt.day\n",
    "        # Approximate Northern Hemisphere season boundaries:\n",
    "        if (month == 12 and day >= 21) or (month < 3) or (month == 3 and day < 20):\n",
    "            return \"Winter\"\n",
    "        elif (month == 3 and day >= 20) or (month < 6) or (month == 6 and day < 21):\n",
    "            return \"Spring\"\n",
    "        elif (month == 6 and day >= 21) or (month < 9) or (month == 9 and day < 22):\n",
    "            return \"Summer\"\n",
    "        else:\n",
    "            return \"Autumn\"\n",
    "    \n",
    "    df[\"Season\"] = df[\"DateReported_dt\"].apply(get_season)\n",
    "    \n",
    "    # 12-hour formatted time (HourAMPM)\n",
    "    df[\"HourAMPM\"] = df[\"DateReported_dt\"].dt.strftime(\"%I:%M %p\")\n",
    "    \n",
    "    # Extract hour (0-23) for time-of-day\n",
    "    df[\"HourValue\"] = df[\"DateReported_dt\"].dt.hour\n",
    "    \n",
    "    def time_of_day(hour):\n",
    "        if pd.isnull(hour):\n",
    "            return None\n",
    "        if 5 <= hour < 12:\n",
    "            return \"Morning\"\n",
    "        elif 12 <= hour < 17:\n",
    "            return \"Afternoon\"\n",
    "        elif 17 <= hour < 21:\n",
    "            return \"Evening\"\n",
    "        else:\n",
    "            return \"Night\"\n",
    "    \n",
    "    df[\"TimeOfDay\"] = df[\"HourValue\"].apply(time_of_day)\n",
    "    \n",
    "    # Drop columns you no longer need\n",
    "    df.drop(columns=[col, \"DateReported_dt\", \"HourValue\"], inplace=True)\n",
    "    \n",
    "    return df\n",
    "\n",
    "# Example usage:\n",
    "df = convert_and_categorize_datereported(df)\n",
    "df.head()\n"
   ]
  },
  {
   "cell_type": "code",
   "execution_count": 8,
   "id": "b1d6b830",
   "metadata": {
    "execution": {
     "iopub.execute_input": "2025-04-07T01:02:12.333830Z",
     "iopub.status.busy": "2025-04-07T01:02:12.333632Z",
     "iopub.status.idle": "2025-04-07T01:02:12.358464Z",
     "shell.execute_reply": "2025-04-07T01:02:12.357799Z"
    },
    "papermill": {
     "duration": 0.032499,
     "end_time": "2025-04-07T01:02:12.359591",
     "exception": false,
     "start_time": "2025-04-07T01:02:12.327092",
     "status": "completed"
    },
    "tags": []
   },
   "outputs": [
    {
     "name": "stdout",
     "output_type": "stream",
     "text": [
      "<class 'pandas.core.frame.DataFrame'>\n",
      "RangeIndex: 25120 entries, 0 to 25119\n",
      "Data columns (total 15 columns):\n",
      " #   Column            Non-Null Count  Dtype         \n",
      "---  ------            --------------  -----         \n",
      " 0   RecordID          25120 non-null  int64         \n",
      " 1   Offense           25120 non-null  object        \n",
      " 2   IncidentID        25120 non-null  object        \n",
      " 3   BlockNumber       25120 non-null  object        \n",
      " 4   StreetName        25120 non-null  object        \n",
      " 5   Agency            25120 non-null  object        \n",
      " 6   HourReported      25120 non-null  object        \n",
      " 7   ReportingOfficer  25103 non-null  object        \n",
      " 8   Date              25120 non-null  datetime64[ns]\n",
      " 9   DateString        25120 non-null  object        \n",
      " 10  DayOfWeek         25120 non-null  object        \n",
      " 11  Weekend           25120 non-null  bool          \n",
      " 12  Season            25120 non-null  object        \n",
      " 13  HourAMPM          25120 non-null  object        \n",
      " 14  TimeOfDay         25120 non-null  object        \n",
      "dtypes: bool(1), datetime64[ns](1), int64(1), object(12)\n",
      "memory usage: 2.7+ MB\n"
     ]
    }
   ],
   "source": [
    "df.info()"
   ]
  },
  {
   "cell_type": "markdown",
   "id": "4f19b542",
   "metadata": {
    "papermill": {
     "duration": 0.005794,
     "end_time": "2025-04-07T01:02:12.371545",
     "exception": false,
     "start_time": "2025-04-07T01:02:12.365751",
     "status": "completed"
    },
    "tags": []
   },
   "source": [
    "### Coordinates"
   ]
  },
  {
   "cell_type": "code",
   "execution_count": 9,
   "id": "71bb7b59",
   "metadata": {
    "execution": {
     "iopub.execute_input": "2025-04-07T01:02:12.384289Z",
     "iopub.status.busy": "2025-04-07T01:02:12.383900Z",
     "iopub.status.idle": "2025-04-07T01:02:13.129330Z",
     "shell.execute_reply": "2025-04-07T01:02:13.128778Z"
    },
    "papermill": {
     "duration": 0.752998,
     "end_time": "2025-04-07T01:02:13.130364",
     "exception": false,
     "start_time": "2025-04-07T01:02:12.377366",
     "status": "completed"
    },
    "tags": []
   },
   "outputs": [
    {
     "name": "stdout",
     "output_type": "stream",
     "text": [
      "Loaded geocode cache.\n"
     ]
    },
    {
     "name": "stdout",
     "output_type": "stream",
     "text": [
      "Geocoded 300 15TH ST NW, 5019: 38.0363028, -78.4993806\n"
     ]
    },
    {
     "name": "stdout",
     "output_type": "stream",
     "text": [
      "Geocoded 500 RIDGE ST, 108: 38.0271065, -78.48670349999999\n"
     ]
    },
    {
     "name": "stdout",
     "output_type": "stream",
     "text": [
      "Geocoded 1100 E MAIN ST: 38.0291726, -78.4766869\n"
     ]
    },
    {
     "name": "stdout",
     "output_type": "stream",
     "text": [
      "Geocoded  HARRIS RD @ 5TH ST SW: 38.01441880000001, -78.50016509999999\n",
      "Geocode cache updated and saved.\n"
     ]
    },
    {
     "data": {
      "text/html": [
       "<div>\n",
       "<style scoped>\n",
       "    .dataframe tbody tr th:only-of-type {\n",
       "        vertical-align: middle;\n",
       "    }\n",
       "\n",
       "    .dataframe tbody tr th {\n",
       "        vertical-align: top;\n",
       "    }\n",
       "\n",
       "    .dataframe thead th {\n",
       "        text-align: right;\n",
       "    }\n",
       "</style>\n",
       "<table border=\"1\" class=\"dataframe\">\n",
       "  <thead>\n",
       "    <tr style=\"text-align: right;\">\n",
       "      <th></th>\n",
       "      <th>RecordID</th>\n",
       "      <th>Offense</th>\n",
       "      <th>IncidentID</th>\n",
       "      <th>BlockNumber</th>\n",
       "      <th>StreetName</th>\n",
       "      <th>Agency</th>\n",
       "      <th>HourReported</th>\n",
       "      <th>ReportingOfficer</th>\n",
       "      <th>Date</th>\n",
       "      <th>DateString</th>\n",
       "      <th>DayOfWeek</th>\n",
       "      <th>Weekend</th>\n",
       "      <th>Season</th>\n",
       "      <th>HourAMPM</th>\n",
       "      <th>TimeOfDay</th>\n",
       "      <th>FullStreet</th>\n",
       "      <th>lat</th>\n",
       "      <th>lon</th>\n",
       "    </tr>\n",
       "  </thead>\n",
       "  <tbody>\n",
       "    <tr>\n",
       "      <th>0</th>\n",
       "      <td>1</td>\n",
       "      <td>Larceny - Shoplifitng</td>\n",
       "      <td>202500010853</td>\n",
       "      <td>1200</td>\n",
       "      <td>EMMET ST N, 120</td>\n",
       "      <td>CPD</td>\n",
       "      <td>2034</td>\n",
       "      <td>Benbow, Lauren</td>\n",
       "      <td>2025-04-04 20:34:30</td>\n",
       "      <td>2025-04-04 08:34:30 PM</td>\n",
       "      <td>Friday</td>\n",
       "      <td>False</td>\n",
       "      <td>Spring</td>\n",
       "      <td>08:34 PM</td>\n",
       "      <td>Evening</td>\n",
       "      <td>1200 EMMET ST N, 120</td>\n",
       "      <td>38.052917</td>\n",
       "      <td>-78.498591</td>\n",
       "    </tr>\n",
       "    <tr>\n",
       "      <th>1</th>\n",
       "      <td>2</td>\n",
       "      <td>Assist Citizen - Welfare Check</td>\n",
       "      <td>202500010838</td>\n",
       "      <td>500</td>\n",
       "      <td>CAROLINE AVE</td>\n",
       "      <td>CPD</td>\n",
       "      <td>1759</td>\n",
       "      <td>Essex, Dominique</td>\n",
       "      <td>2025-04-04 17:59:33</td>\n",
       "      <td>2025-04-04 05:59:33 PM</td>\n",
       "      <td>Friday</td>\n",
       "      <td>False</td>\n",
       "      <td>Spring</td>\n",
       "      <td>05:59 PM</td>\n",
       "      <td>Evening</td>\n",
       "      <td>500 CAROLINE AVE</td>\n",
       "      <td>38.029772</td>\n",
       "      <td>-78.463879</td>\n",
       "    </tr>\n",
       "    <tr>\n",
       "      <th>2</th>\n",
       "      <td>3</td>\n",
       "      <td>Larceny - Theft from Building</td>\n",
       "      <td>202500010816</td>\n",
       "      <td>800</td>\n",
       "      <td>WALKER SQ</td>\n",
       "      <td>CPD</td>\n",
       "      <td>1536</td>\n",
       "      <td>Abdelgayed, Adam</td>\n",
       "      <td>2025-04-04 15:36:50</td>\n",
       "      <td>2025-04-04 03:36:50 PM</td>\n",
       "      <td>Friday</td>\n",
       "      <td>False</td>\n",
       "      <td>Spring</td>\n",
       "      <td>03:36 PM</td>\n",
       "      <td>Afternoon</td>\n",
       "      <td>800 WALKER SQ</td>\n",
       "      <td>38.030537</td>\n",
       "      <td>-78.491468</td>\n",
       "    </tr>\n",
       "    <tr>\n",
       "      <th>3</th>\n",
       "      <td>4</td>\n",
       "      <td>Extortion/Blackmail</td>\n",
       "      <td>202500010815</td>\n",
       "      <td>300</td>\n",
       "      <td>15TH ST NW, 5019</td>\n",
       "      <td>CPD</td>\n",
       "      <td>1521</td>\n",
       "      <td>Davis, Charles</td>\n",
       "      <td>2025-04-04 15:21:20</td>\n",
       "      <td>2025-04-04 03:21:20 PM</td>\n",
       "      <td>Friday</td>\n",
       "      <td>False</td>\n",
       "      <td>Spring</td>\n",
       "      <td>03:21 PM</td>\n",
       "      <td>Afternoon</td>\n",
       "      <td>300 15TH ST NW, 5019</td>\n",
       "      <td>38.036303</td>\n",
       "      <td>-78.499381</td>\n",
       "    </tr>\n",
       "    <tr>\n",
       "      <th>4</th>\n",
       "      <td>5</td>\n",
       "      <td>Burglary</td>\n",
       "      <td>202500010809</td>\n",
       "      <td>500</td>\n",
       "      <td>RIDGE ST, 108</td>\n",
       "      <td>CPD</td>\n",
       "      <td>1452</td>\n",
       "      <td>Reed, Danielle</td>\n",
       "      <td>2025-04-04 14:52:35</td>\n",
       "      <td>2025-04-04 02:52:35 PM</td>\n",
       "      <td>Friday</td>\n",
       "      <td>False</td>\n",
       "      <td>Spring</td>\n",
       "      <td>02:52 PM</td>\n",
       "      <td>Afternoon</td>\n",
       "      <td>500 RIDGE ST, 108</td>\n",
       "      <td>38.027107</td>\n",
       "      <td>-78.486703</td>\n",
       "    </tr>\n",
       "  </tbody>\n",
       "</table>\n",
       "</div>"
      ],
      "text/plain": [
       "   RecordID                         Offense    IncidentID BlockNumber  \\\n",
       "0         1           Larceny - Shoplifitng  202500010853        1200   \n",
       "1         2  Assist Citizen - Welfare Check  202500010838         500   \n",
       "2         3   Larceny - Theft from Building  202500010816         800   \n",
       "3         4             Extortion/Blackmail  202500010815         300   \n",
       "4         5                        Burglary  202500010809         500   \n",
       "\n",
       "         StreetName Agency HourReported  ReportingOfficer                Date  \\\n",
       "0   EMMET ST N, 120    CPD         2034    Benbow, Lauren 2025-04-04 20:34:30   \n",
       "1      CAROLINE AVE    CPD         1759  Essex, Dominique 2025-04-04 17:59:33   \n",
       "2         WALKER SQ    CPD         1536  Abdelgayed, Adam 2025-04-04 15:36:50   \n",
       "3  15TH ST NW, 5019    CPD         1521    Davis, Charles 2025-04-04 15:21:20   \n",
       "4     RIDGE ST, 108    CPD         1452    Reed, Danielle 2025-04-04 14:52:35   \n",
       "\n",
       "               DateString DayOfWeek  Weekend  Season  HourAMPM  TimeOfDay  \\\n",
       "0  2025-04-04 08:34:30 PM    Friday    False  Spring  08:34 PM    Evening   \n",
       "1  2025-04-04 05:59:33 PM    Friday    False  Spring  05:59 PM    Evening   \n",
       "2  2025-04-04 03:36:50 PM    Friday    False  Spring  03:36 PM  Afternoon   \n",
       "3  2025-04-04 03:21:20 PM    Friday    False  Spring  03:21 PM  Afternoon   \n",
       "4  2025-04-04 02:52:35 PM    Friday    False  Spring  02:52 PM  Afternoon   \n",
       "\n",
       "             FullStreet        lat        lon  \n",
       "0  1200 EMMET ST N, 120  38.052917 -78.498591  \n",
       "1      500 CAROLINE AVE  38.029772 -78.463879  \n",
       "2         800 WALKER SQ  38.030537 -78.491468  \n",
       "3  300 15TH ST NW, 5019  38.036303 -78.499381  \n",
       "4     500 RIDGE ST, 108  38.027107 -78.486703  "
      ]
     },
     "execution_count": 9,
     "metadata": {},
     "output_type": "execute_result"
    }
   ],
   "source": [
    "# Combine BlockNumber and StreetName into a full address string\n",
    "df['FullStreet'] = df['BlockNumber'].astype(str) + \" \" + df['StreetName']\n",
    "\n",
    "# --- Step 1: Setup the Google Maps Client and Cache ---\n",
    "gmaps = googlemaps.Client(key=GOOGLE_API_KEY)\n",
    "\n",
    "# Try to load cached geocoding results if available.\n",
    "try:\n",
    "    with open(\"geocode_cache_google.pkl\", \"rb\") as f:\n",
    "        street_coords = pickle.load(f)\n",
    "    print(\"Loaded geocode cache.\")\n",
    "except FileNotFoundError:\n",
    "    street_coords = {}\n",
    "    print(\"No cache found; starting fresh.\")\n",
    "\n",
    "def geocode_address(address):\n",
    "    try:\n",
    "        # Append city and state to help geocoding\n",
    "        result = gmaps.geocode(f\"{address}, Charlottesville, VA\")\n",
    "        if result:\n",
    "            lat = result[0]['geometry']['location']['lat']\n",
    "            lon = result[0]['geometry']['location']['lng']\n",
    "            return lat, lon\n",
    "    except Exception as e:\n",
    "        print(f\"Error geocoding {address}: {e}\")\n",
    "    return None, None\n",
    "\n",
    "# --- Step 2: Geocode Only New Addresses ---\n",
    "unique_addresses = df['FullStreet'].unique()\n",
    "for address in unique_addresses:\n",
    "    if address not in street_coords:\n",
    "        lat, lon = geocode_address(address)\n",
    "        street_coords[address] = (lat, lon)\n",
    "        print(f\"Geocoded {address}: {lat}, {lon}\")\n",
    "\n",
    "# Save the updated cache to disk.\n",
    "with open(\"geocode_cache_google.pkl\", \"wb\") as f:\n",
    "    pickle.dump(street_coords, f)\n",
    "    print(\"Geocode cache updated and saved.\")\n",
    "\n",
    "# --- Step 3: Map Coordinates Back to DataFrame ---\n",
    "df['lat'] = df['FullStreet'].map(lambda s: street_coords.get(s, (None, None))[0])\n",
    "df['lon'] = df['FullStreet'].map(lambda s: street_coords.get(s, (None, None))[1])\n",
    "\n",
    "df.head()"
   ]
  },
  {
   "cell_type": "markdown",
   "id": "834ddd99",
   "metadata": {
    "papermill": {
     "duration": 0.006347,
     "end_time": "2025-04-07T01:02:13.143380",
     "exception": false,
     "start_time": "2025-04-07T01:02:13.137033",
     "status": "completed"
    },
    "tags": []
   },
   "source": [
    "### Neighborhood"
   ]
  },
  {
   "cell_type": "code",
   "execution_count": 10,
   "id": "f663d8eb",
   "metadata": {
    "execution": {
     "iopub.execute_input": "2025-04-07T01:02:13.163698Z",
     "iopub.status.busy": "2025-04-07T01:02:13.163243Z",
     "iopub.status.idle": "2025-04-07T01:02:13.551686Z",
     "shell.execute_reply": "2025-04-07T01:02:13.551075Z"
    },
    "papermill": {
     "duration": 0.400145,
     "end_time": "2025-04-07T01:02:13.552690",
     "exception": false,
     "start_time": "2025-04-07T01:02:13.152545",
     "status": "completed"
    },
    "tags": []
   },
   "outputs": [
    {
     "name": "stdout",
     "output_type": "stream",
     "text": [
      "Loaded neighborhood cache.\n"
     ]
    },
    {
     "data": {
      "text/html": [
       "<div>\n",
       "<style scoped>\n",
       "    .dataframe tbody tr th:only-of-type {\n",
       "        vertical-align: middle;\n",
       "    }\n",
       "\n",
       "    .dataframe tbody tr th {\n",
       "        vertical-align: top;\n",
       "    }\n",
       "\n",
       "    .dataframe thead th {\n",
       "        text-align: right;\n",
       "    }\n",
       "</style>\n",
       "<table border=\"1\" class=\"dataframe\">\n",
       "  <thead>\n",
       "    <tr style=\"text-align: right;\">\n",
       "      <th></th>\n",
       "      <th>RecordID</th>\n",
       "      <th>Offense</th>\n",
       "      <th>IncidentID</th>\n",
       "      <th>BlockNumber</th>\n",
       "      <th>StreetName</th>\n",
       "      <th>Agency</th>\n",
       "      <th>HourReported</th>\n",
       "      <th>ReportingOfficer</th>\n",
       "      <th>Date</th>\n",
       "      <th>DateString</th>\n",
       "      <th>DayOfWeek</th>\n",
       "      <th>Weekend</th>\n",
       "      <th>Season</th>\n",
       "      <th>HourAMPM</th>\n",
       "      <th>TimeOfDay</th>\n",
       "      <th>FullStreet</th>\n",
       "      <th>lat</th>\n",
       "      <th>lon</th>\n",
       "      <th>neighborhood</th>\n",
       "    </tr>\n",
       "  </thead>\n",
       "  <tbody>\n",
       "    <tr>\n",
       "      <th>0</th>\n",
       "      <td>1</td>\n",
       "      <td>Larceny - Shoplifitng</td>\n",
       "      <td>202500010853</td>\n",
       "      <td>1200</td>\n",
       "      <td>EMMET ST N, 120</td>\n",
       "      <td>CPD</td>\n",
       "      <td>2034</td>\n",
       "      <td>Benbow, Lauren</td>\n",
       "      <td>2025-04-04 20:34:30</td>\n",
       "      <td>2025-04-04 08:34:30 PM</td>\n",
       "      <td>Friday</td>\n",
       "      <td>False</td>\n",
       "      <td>Spring</td>\n",
       "      <td>08:34 PM</td>\n",
       "      <td>Evening</td>\n",
       "      <td>1200 EMMET ST N, 120</td>\n",
       "      <td>38.052917</td>\n",
       "      <td>-78.498591</td>\n",
       "      <td>The Meadows</td>\n",
       "    </tr>\n",
       "    <tr>\n",
       "      <th>1</th>\n",
       "      <td>2</td>\n",
       "      <td>Assist Citizen - Welfare Check</td>\n",
       "      <td>202500010838</td>\n",
       "      <td>500</td>\n",
       "      <td>CAROLINE AVE</td>\n",
       "      <td>CPD</td>\n",
       "      <td>1759</td>\n",
       "      <td>Essex, Dominique</td>\n",
       "      <td>2025-04-04 17:59:33</td>\n",
       "      <td>2025-04-04 05:59:33 PM</td>\n",
       "      <td>Friday</td>\n",
       "      <td>False</td>\n",
       "      <td>Spring</td>\n",
       "      <td>05:59 PM</td>\n",
       "      <td>Evening</td>\n",
       "      <td>500 CAROLINE AVE</td>\n",
       "      <td>38.029772</td>\n",
       "      <td>-78.463879</td>\n",
       "      <td>Woolen Mills</td>\n",
       "    </tr>\n",
       "    <tr>\n",
       "      <th>2</th>\n",
       "      <td>3</td>\n",
       "      <td>Larceny - Theft from Building</td>\n",
       "      <td>202500010816</td>\n",
       "      <td>800</td>\n",
       "      <td>WALKER SQ</td>\n",
       "      <td>CPD</td>\n",
       "      <td>1536</td>\n",
       "      <td>Abdelgayed, Adam</td>\n",
       "      <td>2025-04-04 15:36:50</td>\n",
       "      <td>2025-04-04 03:36:50 PM</td>\n",
       "      <td>Friday</td>\n",
       "      <td>False</td>\n",
       "      <td>Spring</td>\n",
       "      <td>03:36 PM</td>\n",
       "      <td>Afternoon</td>\n",
       "      <td>800 WALKER SQ</td>\n",
       "      <td>38.030537</td>\n",
       "      <td>-78.491468</td>\n",
       "      <td>Fifeville</td>\n",
       "    </tr>\n",
       "    <tr>\n",
       "      <th>3</th>\n",
       "      <td>4</td>\n",
       "      <td>Extortion/Blackmail</td>\n",
       "      <td>202500010815</td>\n",
       "      <td>300</td>\n",
       "      <td>15TH ST NW, 5019</td>\n",
       "      <td>CPD</td>\n",
       "      <td>1521</td>\n",
       "      <td>Davis, Charles</td>\n",
       "      <td>2025-04-04 15:21:20</td>\n",
       "      <td>2025-04-04 03:21:20 PM</td>\n",
       "      <td>Friday</td>\n",
       "      <td>False</td>\n",
       "      <td>Spring</td>\n",
       "      <td>03:21 PM</td>\n",
       "      <td>Afternoon</td>\n",
       "      <td>300 15TH ST NW, 5019</td>\n",
       "      <td>38.036303</td>\n",
       "      <td>-78.499381</td>\n",
       "      <td>Venable</td>\n",
       "    </tr>\n",
       "    <tr>\n",
       "      <th>4</th>\n",
       "      <td>5</td>\n",
       "      <td>Burglary</td>\n",
       "      <td>202500010809</td>\n",
       "      <td>500</td>\n",
       "      <td>RIDGE ST, 108</td>\n",
       "      <td>CPD</td>\n",
       "      <td>1452</td>\n",
       "      <td>Reed, Danielle</td>\n",
       "      <td>2025-04-04 14:52:35</td>\n",
       "      <td>2025-04-04 02:52:35 PM</td>\n",
       "      <td>Friday</td>\n",
       "      <td>False</td>\n",
       "      <td>Spring</td>\n",
       "      <td>02:52 PM</td>\n",
       "      <td>Afternoon</td>\n",
       "      <td>500 RIDGE ST, 108</td>\n",
       "      <td>38.027107</td>\n",
       "      <td>-78.486703</td>\n",
       "      <td>Fifeville</td>\n",
       "    </tr>\n",
       "  </tbody>\n",
       "</table>\n",
       "</div>"
      ],
      "text/plain": [
       "   RecordID                         Offense    IncidentID BlockNumber  \\\n",
       "0         1           Larceny - Shoplifitng  202500010853        1200   \n",
       "1         2  Assist Citizen - Welfare Check  202500010838         500   \n",
       "2         3   Larceny - Theft from Building  202500010816         800   \n",
       "3         4             Extortion/Blackmail  202500010815         300   \n",
       "4         5                        Burglary  202500010809         500   \n",
       "\n",
       "         StreetName Agency HourReported  ReportingOfficer                Date  \\\n",
       "0   EMMET ST N, 120    CPD         2034    Benbow, Lauren 2025-04-04 20:34:30   \n",
       "1      CAROLINE AVE    CPD         1759  Essex, Dominique 2025-04-04 17:59:33   \n",
       "2         WALKER SQ    CPD         1536  Abdelgayed, Adam 2025-04-04 15:36:50   \n",
       "3  15TH ST NW, 5019    CPD         1521    Davis, Charles 2025-04-04 15:21:20   \n",
       "4     RIDGE ST, 108    CPD         1452    Reed, Danielle 2025-04-04 14:52:35   \n",
       "\n",
       "               DateString DayOfWeek  Weekend  Season  HourAMPM  TimeOfDay  \\\n",
       "0  2025-04-04 08:34:30 PM    Friday    False  Spring  08:34 PM    Evening   \n",
       "1  2025-04-04 05:59:33 PM    Friday    False  Spring  05:59 PM    Evening   \n",
       "2  2025-04-04 03:36:50 PM    Friday    False  Spring  03:36 PM  Afternoon   \n",
       "3  2025-04-04 03:21:20 PM    Friday    False  Spring  03:21 PM  Afternoon   \n",
       "4  2025-04-04 02:52:35 PM    Friday    False  Spring  02:52 PM  Afternoon   \n",
       "\n",
       "             FullStreet        lat        lon  neighborhood  \n",
       "0  1200 EMMET ST N, 120  38.052917 -78.498591   The Meadows  \n",
       "1      500 CAROLINE AVE  38.029772 -78.463879  Woolen Mills  \n",
       "2         800 WALKER SQ  38.030537 -78.491468     Fifeville  \n",
       "3  300 15TH ST NW, 5019  38.036303 -78.499381       Venable  \n",
       "4     500 RIDGE ST, 108  38.027107 -78.486703     Fifeville  "
      ]
     },
     "execution_count": 10,
     "metadata": {},
     "output_type": "execute_result"
    }
   ],
   "source": [
    "# Initialize the Google Maps client.\n",
    "gmaps = googlemaps.Client(key=GOOGLE_API_KEY)\n",
    "\n",
    "# Try to load a persistent neighborhood cache if available.\n",
    "try:\n",
    "    with open(\"neighborhood_cache.pkl\", \"rb\") as f:\n",
    "        neighborhood_cache = pickle.load(f)\n",
    "    print(\"Loaded neighborhood cache.\")\n",
    "except FileNotFoundError:\n",
    "    neighborhood_cache = {}\n",
    "    print(\"No neighborhood cache found; starting fresh.\")\n",
    "\n",
    "def get_neighborhood(lat, lon):\n",
    "    \"\"\"\n",
    "    Reverse geocodes a latitude and longitude to retrieve the neighborhood.\n",
    "    Caches results to speed up subsequent lookups.\n",
    "    \"\"\"\n",
    "    key = (lat, lon)\n",
    "    if key in neighborhood_cache:\n",
    "        return neighborhood_cache[key]\n",
    "    \n",
    "    try:\n",
    "        result = gmaps.reverse_geocode((lat, lon))\n",
    "        if result:\n",
    "            # Look for the 'neighborhood' component in the first result.\n",
    "            for component in result[0]['address_components']:\n",
    "                if 'neighborhood' in component['types']:\n",
    "                    neighborhood = component['long_name']\n",
    "                    neighborhood_cache[key] = neighborhood\n",
    "                    return neighborhood\n",
    "            # If no neighborhood is found, return \"N/A\"\n",
    "            neighborhood_cache[key] = \"N/A\"\n",
    "            return \"N/A\"\n",
    "    except Exception as e:\n",
    "        print(f\"Error getting neighborhood for {lat}, {lon}: {e}\")\n",
    "        return \"N/A\"\n",
    "    \n",
    "    # Pause to respect usage limits.\n",
    "    time.sleep(1)\n",
    "\n",
    "# Example usage: Apply to your DataFrame 'df' that already has 'lat' and 'lon' columns.\n",
    "df['neighborhood'] = df.apply(lambda row: get_neighborhood(row['lat'], row['lon']), axis=1)\n",
    "\n",
    "# Save the updated neighborhood cache.\n",
    "with open(\"neighborhood_cache.pkl\", \"wb\") as f:\n",
    "    pickle.dump(neighborhood_cache, f)\n",
    "\n",
    "df.head()\n"
   ]
  },
  {
   "cell_type": "markdown",
   "id": "81776b84",
   "metadata": {
    "papermill": {
     "duration": 0.006773,
     "end_time": "2025-04-07T01:02:13.566468",
     "exception": false,
     "start_time": "2025-04-07T01:02:13.559695",
     "status": "completed"
    },
    "tags": []
   },
   "source": [
    "### Zip"
   ]
  },
  {
   "cell_type": "code",
   "execution_count": 11,
   "id": "981eafdc",
   "metadata": {
    "execution": {
     "iopub.execute_input": "2025-04-07T01:02:13.580997Z",
     "iopub.status.busy": "2025-04-07T01:02:13.580354Z",
     "iopub.status.idle": "2025-04-07T01:02:13.814670Z",
     "shell.execute_reply": "2025-04-07T01:02:13.814065Z"
    },
    "papermill": {
     "duration": 0.242682,
     "end_time": "2025-04-07T01:02:13.815743",
     "exception": false,
     "start_time": "2025-04-07T01:02:13.573061",
     "status": "completed"
    },
    "tags": []
   },
   "outputs": [
    {
     "name": "stdout",
     "output_type": "stream",
     "text": [
      "Loaded zip cache.\n"
     ]
    },
    {
     "data": {
      "text/html": [
       "<div>\n",
       "<style scoped>\n",
       "    .dataframe tbody tr th:only-of-type {\n",
       "        vertical-align: middle;\n",
       "    }\n",
       "\n",
       "    .dataframe tbody tr th {\n",
       "        vertical-align: top;\n",
       "    }\n",
       "\n",
       "    .dataframe thead th {\n",
       "        text-align: right;\n",
       "    }\n",
       "</style>\n",
       "<table border=\"1\" class=\"dataframe\">\n",
       "  <thead>\n",
       "    <tr style=\"text-align: right;\">\n",
       "      <th></th>\n",
       "      <th>RecordID</th>\n",
       "      <th>Offense</th>\n",
       "      <th>IncidentID</th>\n",
       "      <th>BlockNumber</th>\n",
       "      <th>StreetName</th>\n",
       "      <th>Agency</th>\n",
       "      <th>HourReported</th>\n",
       "      <th>ReportingOfficer</th>\n",
       "      <th>Date</th>\n",
       "      <th>DateString</th>\n",
       "      <th>DayOfWeek</th>\n",
       "      <th>Weekend</th>\n",
       "      <th>Season</th>\n",
       "      <th>HourAMPM</th>\n",
       "      <th>TimeOfDay</th>\n",
       "      <th>FullStreet</th>\n",
       "      <th>lat</th>\n",
       "      <th>lon</th>\n",
       "      <th>neighborhood</th>\n",
       "      <th>zip</th>\n",
       "    </tr>\n",
       "  </thead>\n",
       "  <tbody>\n",
       "    <tr>\n",
       "      <th>0</th>\n",
       "      <td>1</td>\n",
       "      <td>Larceny - Shoplifitng</td>\n",
       "      <td>202500010853</td>\n",
       "      <td>1200</td>\n",
       "      <td>EMMET ST N, 120</td>\n",
       "      <td>CPD</td>\n",
       "      <td>2034</td>\n",
       "      <td>Benbow, Lauren</td>\n",
       "      <td>2025-04-04 20:34:30</td>\n",
       "      <td>2025-04-04 08:34:30 PM</td>\n",
       "      <td>Friday</td>\n",
       "      <td>False</td>\n",
       "      <td>Spring</td>\n",
       "      <td>08:34 PM</td>\n",
       "      <td>Evening</td>\n",
       "      <td>1200 EMMET ST N, 120</td>\n",
       "      <td>38.052917</td>\n",
       "      <td>-78.498591</td>\n",
       "      <td>The Meadows</td>\n",
       "      <td>22905</td>\n",
       "    </tr>\n",
       "    <tr>\n",
       "      <th>1</th>\n",
       "      <td>2</td>\n",
       "      <td>Assist Citizen - Welfare Check</td>\n",
       "      <td>202500010838</td>\n",
       "      <td>500</td>\n",
       "      <td>CAROLINE AVE</td>\n",
       "      <td>CPD</td>\n",
       "      <td>1759</td>\n",
       "      <td>Essex, Dominique</td>\n",
       "      <td>2025-04-04 17:59:33</td>\n",
       "      <td>2025-04-04 05:59:33 PM</td>\n",
       "      <td>Friday</td>\n",
       "      <td>False</td>\n",
       "      <td>Spring</td>\n",
       "      <td>05:59 PM</td>\n",
       "      <td>Evening</td>\n",
       "      <td>500 CAROLINE AVE</td>\n",
       "      <td>38.029772</td>\n",
       "      <td>-78.463879</td>\n",
       "      <td>Woolen Mills</td>\n",
       "      <td>22902</td>\n",
       "    </tr>\n",
       "    <tr>\n",
       "      <th>2</th>\n",
       "      <td>3</td>\n",
       "      <td>Larceny - Theft from Building</td>\n",
       "      <td>202500010816</td>\n",
       "      <td>800</td>\n",
       "      <td>WALKER SQ</td>\n",
       "      <td>CPD</td>\n",
       "      <td>1536</td>\n",
       "      <td>Abdelgayed, Adam</td>\n",
       "      <td>2025-04-04 15:36:50</td>\n",
       "      <td>2025-04-04 03:36:50 PM</td>\n",
       "      <td>Friday</td>\n",
       "      <td>False</td>\n",
       "      <td>Spring</td>\n",
       "      <td>03:36 PM</td>\n",
       "      <td>Afternoon</td>\n",
       "      <td>800 WALKER SQ</td>\n",
       "      <td>38.030537</td>\n",
       "      <td>-78.491468</td>\n",
       "      <td>Fifeville</td>\n",
       "      <td>22903</td>\n",
       "    </tr>\n",
       "    <tr>\n",
       "      <th>3</th>\n",
       "      <td>4</td>\n",
       "      <td>Extortion/Blackmail</td>\n",
       "      <td>202500010815</td>\n",
       "      <td>300</td>\n",
       "      <td>15TH ST NW, 5019</td>\n",
       "      <td>CPD</td>\n",
       "      <td>1521</td>\n",
       "      <td>Davis, Charles</td>\n",
       "      <td>2025-04-04 15:21:20</td>\n",
       "      <td>2025-04-04 03:21:20 PM</td>\n",
       "      <td>Friday</td>\n",
       "      <td>False</td>\n",
       "      <td>Spring</td>\n",
       "      <td>03:21 PM</td>\n",
       "      <td>Afternoon</td>\n",
       "      <td>300 15TH ST NW, 5019</td>\n",
       "      <td>38.036303</td>\n",
       "      <td>-78.499381</td>\n",
       "      <td>Venable</td>\n",
       "      <td>22903</td>\n",
       "    </tr>\n",
       "    <tr>\n",
       "      <th>4</th>\n",
       "      <td>5</td>\n",
       "      <td>Burglary</td>\n",
       "      <td>202500010809</td>\n",
       "      <td>500</td>\n",
       "      <td>RIDGE ST, 108</td>\n",
       "      <td>CPD</td>\n",
       "      <td>1452</td>\n",
       "      <td>Reed, Danielle</td>\n",
       "      <td>2025-04-04 14:52:35</td>\n",
       "      <td>2025-04-04 02:52:35 PM</td>\n",
       "      <td>Friday</td>\n",
       "      <td>False</td>\n",
       "      <td>Spring</td>\n",
       "      <td>02:52 PM</td>\n",
       "      <td>Afternoon</td>\n",
       "      <td>500 RIDGE ST, 108</td>\n",
       "      <td>38.027107</td>\n",
       "      <td>-78.486703</td>\n",
       "      <td>Fifeville</td>\n",
       "      <td>22903</td>\n",
       "    </tr>\n",
       "  </tbody>\n",
       "</table>\n",
       "</div>"
      ],
      "text/plain": [
       "   RecordID                         Offense    IncidentID BlockNumber  \\\n",
       "0         1           Larceny - Shoplifitng  202500010853        1200   \n",
       "1         2  Assist Citizen - Welfare Check  202500010838         500   \n",
       "2         3   Larceny - Theft from Building  202500010816         800   \n",
       "3         4             Extortion/Blackmail  202500010815         300   \n",
       "4         5                        Burglary  202500010809         500   \n",
       "\n",
       "         StreetName Agency HourReported  ReportingOfficer                Date  \\\n",
       "0   EMMET ST N, 120    CPD         2034    Benbow, Lauren 2025-04-04 20:34:30   \n",
       "1      CAROLINE AVE    CPD         1759  Essex, Dominique 2025-04-04 17:59:33   \n",
       "2         WALKER SQ    CPD         1536  Abdelgayed, Adam 2025-04-04 15:36:50   \n",
       "3  15TH ST NW, 5019    CPD         1521    Davis, Charles 2025-04-04 15:21:20   \n",
       "4     RIDGE ST, 108    CPD         1452    Reed, Danielle 2025-04-04 14:52:35   \n",
       "\n",
       "               DateString DayOfWeek  Weekend  Season  HourAMPM  TimeOfDay  \\\n",
       "0  2025-04-04 08:34:30 PM    Friday    False  Spring  08:34 PM    Evening   \n",
       "1  2025-04-04 05:59:33 PM    Friday    False  Spring  05:59 PM    Evening   \n",
       "2  2025-04-04 03:36:50 PM    Friday    False  Spring  03:36 PM  Afternoon   \n",
       "3  2025-04-04 03:21:20 PM    Friday    False  Spring  03:21 PM  Afternoon   \n",
       "4  2025-04-04 02:52:35 PM    Friday    False  Spring  02:52 PM  Afternoon   \n",
       "\n",
       "             FullStreet        lat        lon  neighborhood    zip  \n",
       "0  1200 EMMET ST N, 120  38.052917 -78.498591   The Meadows  22905  \n",
       "1      500 CAROLINE AVE  38.029772 -78.463879  Woolen Mills  22902  \n",
       "2         800 WALKER SQ  38.030537 -78.491468     Fifeville  22903  \n",
       "3  300 15TH ST NW, 5019  38.036303 -78.499381       Venable  22903  \n",
       "4     500 RIDGE ST, 108  38.027107 -78.486703     Fifeville  22903  "
      ]
     },
     "execution_count": 11,
     "metadata": {},
     "output_type": "execute_result"
    }
   ],
   "source": [
    "# Initialize the geocoder.\n",
    "geolocator = Nominatim(user_agent=\"zip_lookup\")\n",
    "\n",
    "# Try to load a persistent ZIP cache if available.\n",
    "try:\n",
    "    with open(\"zip_cache.pkl\", \"rb\") as f:\n",
    "        zip_cache = pickle.load(f)\n",
    "    print(\"Loaded zip cache.\")\n",
    "except FileNotFoundError:\n",
    "    zip_cache = {}\n",
    "    print(\"No zip cache found; starting fresh.\")\n",
    "\n",
    "def get_zip(lat, lon):\n",
    "    \"\"\"\n",
    "    Reverse geocodes a latitude and longitude to retrieve the ZIP code.\n",
    "    Caches results to speed up subsequent lookups.\n",
    "    \"\"\"\n",
    "    key = (lat, lon)\n",
    "    if key in zip_cache:\n",
    "        return zip_cache[key]\n",
    "    \n",
    "    try:\n",
    "        location = geolocator.reverse((lat, lon), exactly_one=True, timeout=10)\n",
    "        address = location.raw.get('address', {})\n",
    "        postal_code = address.get('postcode', \"N/A\")\n",
    "    except Exception as e:\n",
    "        print(f\"Error getting ZIP for {lat}, {lon}: {e}\")\n",
    "        postal_code = \"N/A\"\n",
    "    \n",
    "    zip_cache[key] = postal_code\n",
    "    # Pause to respect the usage policy.\n",
    "    time.sleep(1)\n",
    "    return postal_code\n",
    "\n",
    "# Apply the function to each row in the DataFrame.\n",
    "df['zip'] = df.apply(lambda row: get_zip(row['lat'], row['lon']), axis=1)\n",
    "\n",
    "# Save the updated ZIP cache.\n",
    "with open(\"zip_cache.pkl\", \"wb\") as f:\n",
    "    pickle.dump(zip_cache, f)\n",
    "\n",
    "df.head()\n"
   ]
  },
  {
   "cell_type": "code",
   "execution_count": 12,
   "id": "57b954fc",
   "metadata": {
    "execution": {
     "iopub.execute_input": "2025-04-07T01:02:13.831076Z",
     "iopub.status.busy": "2025-04-07T01:02:13.830544Z",
     "iopub.status.idle": "2025-04-07T01:02:13.857032Z",
     "shell.execute_reply": "2025-04-07T01:02:13.856349Z"
    },
    "papermill": {
     "duration": 0.035191,
     "end_time": "2025-04-07T01:02:13.858124",
     "exception": false,
     "start_time": "2025-04-07T01:02:13.822933",
     "status": "completed"
    },
    "tags": []
   },
   "outputs": [
    {
     "name": "stdout",
     "output_type": "stream",
     "text": [
      "                  MissingCount  MissingPercentage\n",
      "RecordID                     0               0.00\n",
      "Offense                      0               0.00\n",
      "IncidentID                   0               0.00\n",
      "BlockNumber                  0               0.00\n",
      "StreetName                   0               0.00\n",
      "Agency                       0               0.00\n",
      "HourReported                 0               0.00\n",
      "ReportingOfficer            17               0.07\n",
      "Date                         0               0.00\n",
      "DateString                   0               0.00\n",
      "DayOfWeek                    0               0.00\n",
      "Weekend                      0               0.00\n",
      "Season                       0               0.00\n",
      "HourAMPM                     0               0.00\n",
      "TimeOfDay                    0               0.00\n",
      "FullStreet                   0               0.00\n",
      "lat                          0               0.00\n",
      "lon                          0               0.00\n",
      "neighborhood                 0               0.00\n",
      "zip                          0               0.00\n"
     ]
    }
   ],
   "source": [
    "missing_info = missing_percentage(df)\n",
    "print(missing_info)\n"
   ]
  },
  {
   "cell_type": "code",
   "execution_count": 13,
   "id": "1b46d8d0",
   "metadata": {
    "execution": {
     "iopub.execute_input": "2025-04-07T01:02:13.873458Z",
     "iopub.status.busy": "2025-04-07T01:02:13.872927Z",
     "iopub.status.idle": "2025-04-07T01:02:13.901077Z",
     "shell.execute_reply": "2025-04-07T01:02:13.900475Z"
    },
    "papermill": {
     "duration": 0.036812,
     "end_time": "2025-04-07T01:02:13.902105",
     "exception": false,
     "start_time": "2025-04-07T01:02:13.865293",
     "status": "completed"
    },
    "tags": []
   },
   "outputs": [
    {
     "name": "stdout",
     "output_type": "stream",
     "text": [
      "<class 'pandas.core.frame.DataFrame'>\n",
      "RangeIndex: 25120 entries, 0 to 25119\n",
      "Data columns (total 20 columns):\n",
      " #   Column            Non-Null Count  Dtype         \n",
      "---  ------            --------------  -----         \n",
      " 0   RecordID          25120 non-null  int64         \n",
      " 1   Offense           25120 non-null  object        \n",
      " 2   IncidentID        25120 non-null  object        \n",
      " 3   BlockNumber       25120 non-null  object        \n",
      " 4   StreetName        25120 non-null  object        \n",
      " 5   Agency            25120 non-null  object        \n",
      " 6   HourReported      25120 non-null  object        \n",
      " 7   ReportingOfficer  25103 non-null  object        \n",
      " 8   Date              25120 non-null  datetime64[ns]\n",
      " 9   DateString        25120 non-null  object        \n",
      " 10  DayOfWeek         25120 non-null  object        \n",
      " 11  Weekend           25120 non-null  bool          \n",
      " 12  Season            25120 non-null  object        \n",
      " 13  HourAMPM          25120 non-null  object        \n",
      " 14  TimeOfDay         25120 non-null  object        \n",
      " 15  FullStreet        25120 non-null  object        \n",
      " 16  lat               25120 non-null  float64       \n",
      " 17  lon               25120 non-null  float64       \n",
      " 18  neighborhood      25120 non-null  object        \n",
      " 19  zip               25120 non-null  object        \n",
      "dtypes: bool(1), datetime64[ns](1), float64(2), int64(1), object(15)\n",
      "memory usage: 3.7+ MB\n"
     ]
    }
   ],
   "source": [
    "df.info()"
   ]
  },
  {
   "cell_type": "code",
   "execution_count": 14,
   "id": "a9190018",
   "metadata": {
    "execution": {
     "iopub.execute_input": "2025-04-07T01:02:13.917697Z",
     "iopub.status.busy": "2025-04-07T01:02:13.917249Z",
     "iopub.status.idle": "2025-04-07T01:02:13.960977Z",
     "shell.execute_reply": "2025-04-07T01:02:13.960288Z"
    },
    "papermill": {
     "duration": 0.052593,
     "end_time": "2025-04-07T01:02:13.962079",
     "exception": false,
     "start_time": "2025-04-07T01:02:13.909486",
     "status": "completed"
    },
    "tags": []
   },
   "outputs": [
    {
     "data": {
      "text/html": [
       "<div>\n",
       "<style scoped>\n",
       "    .dataframe tbody tr th:only-of-type {\n",
       "        vertical-align: middle;\n",
       "    }\n",
       "\n",
       "    .dataframe tbody tr th {\n",
       "        vertical-align: top;\n",
       "    }\n",
       "\n",
       "    .dataframe thead th {\n",
       "        text-align: right;\n",
       "    }\n",
       "</style>\n",
       "<table border=\"1\" class=\"dataframe\">\n",
       "  <thead>\n",
       "    <tr style=\"text-align: right;\">\n",
       "      <th></th>\n",
       "      <th>RecordID</th>\n",
       "      <th>Offense</th>\n",
       "      <th>IncidentID</th>\n",
       "      <th>Agency</th>\n",
       "      <th>ReportingOfficer</th>\n",
       "      <th>Date</th>\n",
       "      <th>DayOfWeek</th>\n",
       "      <th>Weekend</th>\n",
       "      <th>Season</th>\n",
       "      <th>TimeOfDay</th>\n",
       "      <th>FullStreet</th>\n",
       "      <th>lat</th>\n",
       "      <th>lon</th>\n",
       "      <th>neighborhood</th>\n",
       "      <th>zip</th>\n",
       "    </tr>\n",
       "  </thead>\n",
       "  <tbody>\n",
       "    <tr>\n",
       "      <th>0</th>\n",
       "      <td>1</td>\n",
       "      <td>Larceny - Shoplifitng</td>\n",
       "      <td>202500010853</td>\n",
       "      <td>CPD</td>\n",
       "      <td>Benbow, Lauren</td>\n",
       "      <td>2025-04-04 20:34:30</td>\n",
       "      <td>Friday</td>\n",
       "      <td>False</td>\n",
       "      <td>Spring</td>\n",
       "      <td>Evening</td>\n",
       "      <td>1200 EMMET ST N, 120</td>\n",
       "      <td>38.052917</td>\n",
       "      <td>-78.498591</td>\n",
       "      <td>The Meadows</td>\n",
       "      <td>22905</td>\n",
       "    </tr>\n",
       "    <tr>\n",
       "      <th>1</th>\n",
       "      <td>2</td>\n",
       "      <td>Assist Citizen - Welfare Check</td>\n",
       "      <td>202500010838</td>\n",
       "      <td>CPD</td>\n",
       "      <td>Essex, Dominique</td>\n",
       "      <td>2025-04-04 17:59:33</td>\n",
       "      <td>Friday</td>\n",
       "      <td>False</td>\n",
       "      <td>Spring</td>\n",
       "      <td>Evening</td>\n",
       "      <td>500 CAROLINE AVE</td>\n",
       "      <td>38.029772</td>\n",
       "      <td>-78.463879</td>\n",
       "      <td>Woolen Mills</td>\n",
       "      <td>22902</td>\n",
       "    </tr>\n",
       "    <tr>\n",
       "      <th>2</th>\n",
       "      <td>3</td>\n",
       "      <td>Larceny - Theft from Building</td>\n",
       "      <td>202500010816</td>\n",
       "      <td>CPD</td>\n",
       "      <td>Abdelgayed, Adam</td>\n",
       "      <td>2025-04-04 15:36:50</td>\n",
       "      <td>Friday</td>\n",
       "      <td>False</td>\n",
       "      <td>Spring</td>\n",
       "      <td>Afternoon</td>\n",
       "      <td>800 WALKER SQ</td>\n",
       "      <td>38.030537</td>\n",
       "      <td>-78.491468</td>\n",
       "      <td>Fifeville</td>\n",
       "      <td>22903</td>\n",
       "    </tr>\n",
       "    <tr>\n",
       "      <th>3</th>\n",
       "      <td>4</td>\n",
       "      <td>Extortion/Blackmail</td>\n",
       "      <td>202500010815</td>\n",
       "      <td>CPD</td>\n",
       "      <td>Davis, Charles</td>\n",
       "      <td>2025-04-04 15:21:20</td>\n",
       "      <td>Friday</td>\n",
       "      <td>False</td>\n",
       "      <td>Spring</td>\n",
       "      <td>Afternoon</td>\n",
       "      <td>300 15TH ST NW, 5019</td>\n",
       "      <td>38.036303</td>\n",
       "      <td>-78.499381</td>\n",
       "      <td>Venable</td>\n",
       "      <td>22903</td>\n",
       "    </tr>\n",
       "    <tr>\n",
       "      <th>4</th>\n",
       "      <td>5</td>\n",
       "      <td>Burglary</td>\n",
       "      <td>202500010809</td>\n",
       "      <td>CPD</td>\n",
       "      <td>Reed, Danielle</td>\n",
       "      <td>2025-04-04 14:52:35</td>\n",
       "      <td>Friday</td>\n",
       "      <td>False</td>\n",
       "      <td>Spring</td>\n",
       "      <td>Afternoon</td>\n",
       "      <td>500 RIDGE ST, 108</td>\n",
       "      <td>38.027107</td>\n",
       "      <td>-78.486703</td>\n",
       "      <td>Fifeville</td>\n",
       "      <td>22903</td>\n",
       "    </tr>\n",
       "  </tbody>\n",
       "</table>\n",
       "</div>"
      ],
      "text/plain": [
       "   RecordID                         Offense    IncidentID Agency  \\\n",
       "0         1           Larceny - Shoplifitng  202500010853    CPD   \n",
       "1         2  Assist Citizen - Welfare Check  202500010838    CPD   \n",
       "2         3   Larceny - Theft from Building  202500010816    CPD   \n",
       "3         4             Extortion/Blackmail  202500010815    CPD   \n",
       "4         5                        Burglary  202500010809    CPD   \n",
       "\n",
       "   ReportingOfficer                Date DayOfWeek  Weekend  Season  TimeOfDay  \\\n",
       "0    Benbow, Lauren 2025-04-04 20:34:30    Friday    False  Spring    Evening   \n",
       "1  Essex, Dominique 2025-04-04 17:59:33    Friday    False  Spring    Evening   \n",
       "2  Abdelgayed, Adam 2025-04-04 15:36:50    Friday    False  Spring  Afternoon   \n",
       "3    Davis, Charles 2025-04-04 15:21:20    Friday    False  Spring  Afternoon   \n",
       "4    Reed, Danielle 2025-04-04 14:52:35    Friday    False  Spring  Afternoon   \n",
       "\n",
       "             FullStreet        lat        lon  neighborhood    zip  \n",
       "0  1200 EMMET ST N, 120  38.052917 -78.498591   The Meadows  22905  \n",
       "1      500 CAROLINE AVE  38.029772 -78.463879  Woolen Mills  22902  \n",
       "2         800 WALKER SQ  38.030537 -78.491468     Fifeville  22903  \n",
       "3  300 15TH ST NW, 5019  38.036303 -78.499381       Venable  22903  \n",
       "4     500 RIDGE ST, 108  38.027107 -78.486703     Fifeville  22903  "
      ]
     },
     "execution_count": 14,
     "metadata": {},
     "output_type": "execute_result"
    }
   ],
   "source": [
    "# Now drop the original BlockNumber and StreetName columns\n",
    "df.drop(columns=['BlockNumber', 'StreetName','HourAMPM','HourReported','DateString'], inplace=True)\n",
    "df[\"zip\"] = df[\"zip\"].astype(str)\n",
    "\n",
    "# Fill all missing values in the DataFrame with \"N/A\"\n",
    "df.replace({None: \"N/A\", np.nan: \"N/A\", \"\": \"N/A\"}, inplace=True)\n",
    "df.head()"
   ]
  },
  {
   "cell_type": "code",
   "execution_count": 15,
   "id": "4d2b8bf2",
   "metadata": {
    "execution": {
     "iopub.execute_input": "2025-04-07T01:02:13.978224Z",
     "iopub.status.busy": "2025-04-07T01:02:13.977804Z",
     "iopub.status.idle": "2025-04-07T01:02:13.994250Z",
     "shell.execute_reply": "2025-04-07T01:02:13.993696Z"
    },
    "papermill": {
     "duration": 0.025448,
     "end_time": "2025-04-07T01:02:13.995253",
     "exception": false,
     "start_time": "2025-04-07T01:02:13.969805",
     "status": "completed"
    },
    "tags": []
   },
   "outputs": [
    {
     "name": "stdout",
     "output_type": "stream",
     "text": [
      "                  MissingCount  MissingPercentage\n",
      "RecordID                     0                0.0\n",
      "Offense                      0                0.0\n",
      "IncidentID                   0                0.0\n",
      "Agency                       0                0.0\n",
      "ReportingOfficer             0                0.0\n",
      "Date                         0                0.0\n",
      "DayOfWeek                    0                0.0\n",
      "Weekend                      0                0.0\n",
      "Season                       0                0.0\n",
      "TimeOfDay                    0                0.0\n",
      "FullStreet                   0                0.0\n",
      "lat                          0                0.0\n",
      "lon                          0                0.0\n",
      "neighborhood                 0                0.0\n",
      "zip                          0                0.0\n"
     ]
    }
   ],
   "source": [
    "missing_info = missing_percentage(df)\n",
    "print(missing_info)"
   ]
  },
  {
   "cell_type": "code",
   "execution_count": 16,
   "id": "2cb3e4da",
   "metadata": {
    "execution": {
     "iopub.execute_input": "2025-04-07T01:02:14.011119Z",
     "iopub.status.busy": "2025-04-07T01:02:14.010794Z",
     "iopub.status.idle": "2025-04-07T01:02:14.015233Z",
     "shell.execute_reply": "2025-04-07T01:02:14.014601Z"
    },
    "papermill": {
     "duration": 0.013529,
     "end_time": "2025-04-07T01:02:14.016254",
     "exception": false,
     "start_time": "2025-04-07T01:02:14.002725",
     "status": "completed"
    },
    "tags": []
   },
   "outputs": [
    {
     "data": {
      "text/plain": [
       "Index(['RecordID', 'Offense', 'IncidentID', 'Agency', 'ReportingOfficer',\n",
       "       'Date', 'DayOfWeek', 'Weekend', 'Season', 'TimeOfDay', 'FullStreet',\n",
       "       'lat', 'lon', 'neighborhood', 'zip'],\n",
       "      dtype='object')"
      ]
     },
     "execution_count": 16,
     "metadata": {},
     "output_type": "execute_result"
    }
   ],
   "source": [
    "df.columns"
   ]
  },
  {
   "cell_type": "code",
   "execution_count": 17,
   "id": "f0688317",
   "metadata": {
    "execution": {
     "iopub.execute_input": "2025-04-07T01:02:14.032506Z",
     "iopub.status.busy": "2025-04-07T01:02:14.032158Z",
     "iopub.status.idle": "2025-04-07T01:02:14.050262Z",
     "shell.execute_reply": "2025-04-07T01:02:14.049722Z"
    },
    "papermill": {
     "duration": 0.027346,
     "end_time": "2025-04-07T01:02:14.051207",
     "exception": false,
     "start_time": "2025-04-07T01:02:14.023861",
     "status": "completed"
    },
    "tags": []
   },
   "outputs": [
    {
     "name": "stdout",
     "output_type": "stream",
     "text": [
      "<class 'pandas.core.frame.DataFrame'>\n",
      "RangeIndex: 25120 entries, 0 to 25119\n",
      "Data columns (total 15 columns):\n",
      " #   Column            Non-Null Count  Dtype         \n",
      "---  ------            --------------  -----         \n",
      " 0   RecordID          25120 non-null  int64         \n",
      " 1   Offense           25120 non-null  object        \n",
      " 2   IncidentID        25120 non-null  object        \n",
      " 3   Agency            25120 non-null  object        \n",
      " 4   ReportingOfficer  25120 non-null  object        \n",
      " 5   Date              25120 non-null  datetime64[ns]\n",
      " 6   DayOfWeek         25120 non-null  object        \n",
      " 7   Weekend           25120 non-null  bool          \n",
      " 8   Season            25120 non-null  object        \n",
      " 9   TimeOfDay         25120 non-null  object        \n",
      " 10  FullStreet        25120 non-null  object        \n",
      " 11  lat               25120 non-null  float64       \n",
      " 12  lon               25120 non-null  float64       \n",
      " 13  neighborhood      25120 non-null  object        \n",
      " 14  zip               25120 non-null  object        \n",
      "dtypes: bool(1), datetime64[ns](1), float64(2), int64(1), object(10)\n",
      "memory usage: 2.7+ MB\n"
     ]
    }
   ],
   "source": [
    "df.info()"
   ]
  },
  {
   "cell_type": "markdown",
   "id": "aabcc385",
   "metadata": {
    "papermill": {
     "duration": 0.007723,
     "end_time": "2025-04-07T01:02:14.066745",
     "exception": false,
     "start_time": "2025-04-07T01:02:14.059022",
     "status": "completed"
    },
    "tags": []
   },
   "source": [
    "### Export Clean Data"
   ]
  },
  {
   "cell_type": "code",
   "execution_count": 18,
   "id": "2ccea9f4",
   "metadata": {
    "execution": {
     "iopub.execute_input": "2025-04-07T01:02:14.083435Z",
     "iopub.status.busy": "2025-04-07T01:02:14.083001Z",
     "iopub.status.idle": "2025-04-07T01:02:23.104858Z",
     "shell.execute_reply": "2025-04-07T01:02:23.104121Z"
    },
    "papermill": {
     "duration": 9.031349,
     "end_time": "2025-04-07T01:02:23.105980",
     "exception": false,
     "start_time": "2025-04-07T01:02:14.074631",
     "status": "completed"
    },
    "tags": []
   },
   "outputs": [
    {
     "name": "stdout",
     "output_type": "stream",
     "text": [
      "Project Root: /home/runner/work/crime-data/crime-data\n"
     ]
    },
    {
     "name": "stdout",
     "output_type": "stream",
     "text": [
      "Data saved to: /home/runner/work/crime-data/crime-data/data/charlottesville_crime_incidents.csv\n"
     ]
    },
    {
     "name": "stdout",
     "output_type": "stream",
     "text": [
      "Excel saved to: /home/runner/work/crime-data/crime-data/data/charlottesville_crime_incidents.xlsx\n"
     ]
    }
   ],
   "source": [
    "# Determine the project root (assuming papermill is run from the repository root)\n",
    "project_root = os.getcwd()\n",
    "print(\"Project Root:\", project_root)\n",
    "\n",
    "# Set the data directory within the project root\n",
    "data_dir = os.path.join(project_root, \"data\")\n",
    "\n",
    "# Ensure the \"data\" directory exists (create it if it doesn't)\n",
    "if not os.path.exists(data_dir):\n",
    "    os.makedirs(data_dir)\n",
    "\n",
    "# Export the DataFrame to CSV in the \"data\" folder located in the project root\n",
    "csv_path = os.path.join(data_dir, \"charlottesville_crime_incidents.csv\")\n",
    "df.to_csv(csv_path, index=False)\n",
    "print(\"Data saved to:\", csv_path)\n",
    "\n",
    "# Construct the path to your Excel file\n",
    "excel_path = os.path.join(data_dir, \"charlottesville_crime_incidents.xlsx\")\n",
    "\n",
    "# Export the DataFrame to Excel\n",
    "df.to_excel(excel_path, index=False)\n",
    "print(\"Excel saved to:\", excel_path)\n"
   ]
  },
  {
   "cell_type": "markdown",
   "id": "6655e770",
   "metadata": {
    "papermill": {
     "duration": 0.0332,
     "end_time": "2025-04-07T01:02:23.147367",
     "exception": false,
     "start_time": "2025-04-07T01:02:23.114167",
     "status": "completed"
    },
    "tags": []
   },
   "source": [
    "## Predictive Analytics"
   ]
  },
  {
   "cell_type": "code",
   "execution_count": 19,
   "id": "0e2cfbc6",
   "metadata": {
    "execution": {
     "iopub.execute_input": "2025-04-07T01:02:23.164491Z",
     "iopub.status.busy": "2025-04-07T01:02:23.164016Z",
     "iopub.status.idle": "2025-04-07T01:02:23.175490Z",
     "shell.execute_reply": "2025-04-07T01:02:23.174953Z"
    },
    "papermill": {
     "duration": 0.021043,
     "end_time": "2025-04-07T01:02:23.176407",
     "exception": false,
     "start_time": "2025-04-07T01:02:23.155364",
     "status": "completed"
    },
    "tags": []
   },
   "outputs": [
    {
     "data": {
      "text/html": [
       "<div>\n",
       "<style scoped>\n",
       "    .dataframe tbody tr th:only-of-type {\n",
       "        vertical-align: middle;\n",
       "    }\n",
       "\n",
       "    .dataframe tbody tr th {\n",
       "        vertical-align: top;\n",
       "    }\n",
       "\n",
       "    .dataframe thead th {\n",
       "        text-align: right;\n",
       "    }\n",
       "</style>\n",
       "<table border=\"1\" class=\"dataframe\">\n",
       "  <thead>\n",
       "    <tr style=\"text-align: right;\">\n",
       "      <th></th>\n",
       "      <th>RecordID</th>\n",
       "      <th>Offense</th>\n",
       "      <th>IncidentID</th>\n",
       "      <th>Agency</th>\n",
       "      <th>ReportingOfficer</th>\n",
       "      <th>Date</th>\n",
       "      <th>DayOfWeek</th>\n",
       "      <th>Weekend</th>\n",
       "      <th>Season</th>\n",
       "      <th>TimeOfDay</th>\n",
       "      <th>FullStreet</th>\n",
       "      <th>lat</th>\n",
       "      <th>lon</th>\n",
       "      <th>neighborhood</th>\n",
       "      <th>zip</th>\n",
       "    </tr>\n",
       "  </thead>\n",
       "  <tbody>\n",
       "    <tr>\n",
       "      <th>0</th>\n",
       "      <td>1</td>\n",
       "      <td>Larceny - Shoplifitng</td>\n",
       "      <td>202500010853</td>\n",
       "      <td>CPD</td>\n",
       "      <td>Benbow, Lauren</td>\n",
       "      <td>2025-04-04 20:34:30</td>\n",
       "      <td>Friday</td>\n",
       "      <td>False</td>\n",
       "      <td>Spring</td>\n",
       "      <td>Evening</td>\n",
       "      <td>1200 EMMET ST N, 120</td>\n",
       "      <td>38.052917</td>\n",
       "      <td>-78.498591</td>\n",
       "      <td>The Meadows</td>\n",
       "      <td>22905</td>\n",
       "    </tr>\n",
       "    <tr>\n",
       "      <th>1</th>\n",
       "      <td>2</td>\n",
       "      <td>Assist Citizen - Welfare Check</td>\n",
       "      <td>202500010838</td>\n",
       "      <td>CPD</td>\n",
       "      <td>Essex, Dominique</td>\n",
       "      <td>2025-04-04 17:59:33</td>\n",
       "      <td>Friday</td>\n",
       "      <td>False</td>\n",
       "      <td>Spring</td>\n",
       "      <td>Evening</td>\n",
       "      <td>500 CAROLINE AVE</td>\n",
       "      <td>38.029772</td>\n",
       "      <td>-78.463879</td>\n",
       "      <td>Woolen Mills</td>\n",
       "      <td>22902</td>\n",
       "    </tr>\n",
       "    <tr>\n",
       "      <th>2</th>\n",
       "      <td>3</td>\n",
       "      <td>Larceny - Theft from Building</td>\n",
       "      <td>202500010816</td>\n",
       "      <td>CPD</td>\n",
       "      <td>Abdelgayed, Adam</td>\n",
       "      <td>2025-04-04 15:36:50</td>\n",
       "      <td>Friday</td>\n",
       "      <td>False</td>\n",
       "      <td>Spring</td>\n",
       "      <td>Afternoon</td>\n",
       "      <td>800 WALKER SQ</td>\n",
       "      <td>38.030537</td>\n",
       "      <td>-78.491468</td>\n",
       "      <td>Fifeville</td>\n",
       "      <td>22903</td>\n",
       "    </tr>\n",
       "    <tr>\n",
       "      <th>3</th>\n",
       "      <td>4</td>\n",
       "      <td>Extortion/Blackmail</td>\n",
       "      <td>202500010815</td>\n",
       "      <td>CPD</td>\n",
       "      <td>Davis, Charles</td>\n",
       "      <td>2025-04-04 15:21:20</td>\n",
       "      <td>Friday</td>\n",
       "      <td>False</td>\n",
       "      <td>Spring</td>\n",
       "      <td>Afternoon</td>\n",
       "      <td>300 15TH ST NW, 5019</td>\n",
       "      <td>38.036303</td>\n",
       "      <td>-78.499381</td>\n",
       "      <td>Venable</td>\n",
       "      <td>22903</td>\n",
       "    </tr>\n",
       "    <tr>\n",
       "      <th>4</th>\n",
       "      <td>5</td>\n",
       "      <td>Burglary</td>\n",
       "      <td>202500010809</td>\n",
       "      <td>CPD</td>\n",
       "      <td>Reed, Danielle</td>\n",
       "      <td>2025-04-04 14:52:35</td>\n",
       "      <td>Friday</td>\n",
       "      <td>False</td>\n",
       "      <td>Spring</td>\n",
       "      <td>Afternoon</td>\n",
       "      <td>500 RIDGE ST, 108</td>\n",
       "      <td>38.027107</td>\n",
       "      <td>-78.486703</td>\n",
       "      <td>Fifeville</td>\n",
       "      <td>22903</td>\n",
       "    </tr>\n",
       "  </tbody>\n",
       "</table>\n",
       "</div>"
      ],
      "text/plain": [
       "   RecordID                         Offense    IncidentID Agency  \\\n",
       "0         1           Larceny - Shoplifitng  202500010853    CPD   \n",
       "1         2  Assist Citizen - Welfare Check  202500010838    CPD   \n",
       "2         3   Larceny - Theft from Building  202500010816    CPD   \n",
       "3         4             Extortion/Blackmail  202500010815    CPD   \n",
       "4         5                        Burglary  202500010809    CPD   \n",
       "\n",
       "   ReportingOfficer                Date DayOfWeek  Weekend  Season  TimeOfDay  \\\n",
       "0    Benbow, Lauren 2025-04-04 20:34:30    Friday    False  Spring    Evening   \n",
       "1  Essex, Dominique 2025-04-04 17:59:33    Friday    False  Spring    Evening   \n",
       "2  Abdelgayed, Adam 2025-04-04 15:36:50    Friday    False  Spring  Afternoon   \n",
       "3    Davis, Charles 2025-04-04 15:21:20    Friday    False  Spring  Afternoon   \n",
       "4    Reed, Danielle 2025-04-04 14:52:35    Friday    False  Spring  Afternoon   \n",
       "\n",
       "             FullStreet        lat        lon  neighborhood    zip  \n",
       "0  1200 EMMET ST N, 120  38.052917 -78.498591   The Meadows  22905  \n",
       "1      500 CAROLINE AVE  38.029772 -78.463879  Woolen Mills  22902  \n",
       "2         800 WALKER SQ  38.030537 -78.491468     Fifeville  22903  \n",
       "3  300 15TH ST NW, 5019  38.036303 -78.499381       Venable  22903  \n",
       "4     500 RIDGE ST, 108  38.027107 -78.486703     Fifeville  22903  "
      ]
     },
     "execution_count": 19,
     "metadata": {},
     "output_type": "execute_result"
    }
   ],
   "source": [
    "df.head()"
   ]
  },
  {
   "cell_type": "code",
   "execution_count": 20,
   "id": "98c3a797",
   "metadata": {
    "execution": {
     "iopub.execute_input": "2025-04-07T01:02:23.193698Z",
     "iopub.status.busy": "2025-04-07T01:02:23.193267Z",
     "iopub.status.idle": "2025-04-07T01:02:23.197417Z",
     "shell.execute_reply": "2025-04-07T01:02:23.196919Z"
    },
    "papermill": {
     "duration": 0.013718,
     "end_time": "2025-04-07T01:02:23.198315",
     "exception": false,
     "start_time": "2025-04-07T01:02:23.184597",
     "status": "completed"
    },
    "tags": []
   },
   "outputs": [
    {
     "data": {
      "text/plain": [
       "Index(['RecordID', 'Offense', 'IncidentID', 'Agency', 'ReportingOfficer',\n",
       "       'Date', 'DayOfWeek', 'Weekend', 'Season', 'TimeOfDay', 'FullStreet',\n",
       "       'lat', 'lon', 'neighborhood', 'zip'],\n",
       "      dtype='object')"
      ]
     },
     "execution_count": 20,
     "metadata": {},
     "output_type": "execute_result"
    }
   ],
   "source": [
    "df.columns"
   ]
  },
  {
   "cell_type": "markdown",
   "id": "4632adc9",
   "metadata": {
    "papermill": {
     "duration": 0.008106,
     "end_time": "2025-04-07T01:02:23.214768",
     "exception": false,
     "start_time": "2025-04-07T01:02:23.206662",
     "status": "completed"
    },
    "tags": []
   },
   "source": [
    "### Data Preparation\n",
    "\n",
    "We need to ensure the data is in the correct format for modeling and can handle missing values, categorical variables, and dates. Here's how to prepare your data:"
   ]
  },
  {
   "cell_type": "code",
   "execution_count": 21,
   "id": "96688791",
   "metadata": {
    "execution": {
     "iopub.execute_input": "2025-04-07T01:02:23.231867Z",
     "iopub.status.busy": "2025-04-07T01:02:23.231486Z",
     "iopub.status.idle": "2025-04-07T01:02:26.909293Z",
     "shell.execute_reply": "2025-04-07T01:02:26.908539Z"
    },
    "papermill": {
     "duration": 3.687622,
     "end_time": "2025-04-07T01:02:26.910550",
     "exception": false,
     "start_time": "2025-04-07T01:02:23.222928",
     "status": "completed"
    },
    "tags": []
   },
   "outputs": [],
   "source": [
    "import pandas as pd\n",
    "from sklearn.model_selection import train_test_split\n",
    "from sklearn.preprocessing import OneHotEncoder, LabelEncoder\n",
    "from sklearn.ensemble import RandomForestClassifier\n",
    "from sklearn.linear_model import LogisticRegression\n",
    "from sklearn.tree import DecisionTreeClassifier\n",
    "from sklearn.metrics import classification_report, accuracy_score\n",
    "import seaborn as sns\n",
    "import matplotlib.pyplot as plt\n",
    "\n",
    "# Convert 'Date' to datetime\n",
    "df['Date'] = pd.to_datetime(df['Date'])\n",
    "\n",
    "# Feature engineering: Extract additional time-based features\n",
    "df['Year'] = df['Date'].dt.year\n",
    "df['Month'] = df['Date'].dt.month\n",
    "df['DayOfMonth'] = df['Date'].dt.day\n",
    "\n",
    "# One-hot encoding for 'FullStreet', 'neighborhood', 'zip'\n",
    "df = pd.get_dummies(df, columns=['FullStreet', 'neighborhood', 'zip'], drop_first=True)\n",
    "\n",
    "# Label encoding for ordered variables (those with a natural order like 'DayOfWeek', 'Season', 'TimeOfDay')\n",
    "label_encoders = {}\n",
    "for column in ['DayOfWeek', 'Season', 'TimeOfDay', 'Agency', 'ReportingOfficer']:  # Example ordinal variables\n",
    "    le = LabelEncoder()\n",
    "    df[column] = le.fit_transform(df[column])\n",
    "    label_encoders[column] = le\n",
    "\n",
    "# Filter the dataset to include only the offenses of interest\n",
    "offenses_of_interest = [\n",
    "    'Hit and Run', 'Assault Simple', 'Suspicious Activity', 'Vandalism', \n",
    "    'Larceny - From Mot Vehicle', 'Larceny - All Other', \n",
    "    'Assist Citizen - Mental/TDO/ECO', 'Lost/FoundProperty'\n",
    "]\n",
    "\n",
    "df = df[df['Offense'].isin(offenses_of_interest)]\n",
    "\n",
    "# Label encode the target variable (Offense)\n",
    "offense_encoder = LabelEncoder()\n",
    "df['Offense'] = offense_encoder.fit_transform(df['Offense'])\n",
    "\n",
    "# Separate features (X) and target (y)\n",
    "X = df[['Year', 'Month', 'DayOfMonth', 'DayOfWeek', 'Weekend', 'Season', 'TimeOfDay', 'lat', 'lon', 'Agency', 'ReportingOfficer']]\n",
    "y = df['Offense']  # Offense is now the encoded target variable\n",
    "\n",
    "# Split the data into training and testing sets\n",
    "X_train, X_test, y_train, y_test = train_test_split(X, y, test_size=0.3, random_state=42)\n"
   ]
  },
  {
   "cell_type": "markdown",
   "id": "c6c67bf9",
   "metadata": {
    "papermill": {
     "duration": 0.008159,
     "end_time": "2025-04-07T01:02:26.927250",
     "exception": false,
     "start_time": "2025-04-07T01:02:26.919091",
     "status": "completed"
    },
    "tags": []
   },
   "source": [
    "### Model Training\n",
    "\n",
    "Here we will train several models (e.g., Random Forest, Logistic Regression, and Decision Tree). We will use cross-validation to choose the best model based on accuracy, and then explain the impact of the variables."
   ]
  },
  {
   "cell_type": "code",
   "execution_count": 22,
   "id": "25e65d1c",
   "metadata": {
    "execution": {
     "iopub.execute_input": "2025-04-07T01:02:26.944827Z",
     "iopub.status.busy": "2025-04-07T01:02:26.944190Z",
     "iopub.status.idle": "2025-04-07T01:02:30.512283Z",
     "shell.execute_reply": "2025-04-07T01:02:30.511690Z"
    },
    "papermill": {
     "duration": 3.577939,
     "end_time": "2025-04-07T01:02:30.513283",
     "exception": false,
     "start_time": "2025-04-07T01:02:26.935344",
     "status": "completed"
    },
    "tags": []
   },
   "outputs": [
    {
     "name": "stderr",
     "output_type": "stream",
     "text": [
      "/opt/hostedtoolcache/Python/3.9.21/x64/lib/python3.9/site-packages/sklearn/linear_model/_logistic.py:465: ConvergenceWarning: lbfgs failed to converge (status=1):\n",
      "STOP: TOTAL NO. of ITERATIONS REACHED LIMIT.\n",
      "\n",
      "Increase the number of iterations (max_iter) or scale the data as shown in:\n",
      "    https://scikit-learn.org/stable/modules/preprocessing.html\n",
      "Please also refer to the documentation for alternative solver options:\n",
      "    https://scikit-learn.org/stable/modules/linear_model.html#logistic-regression\n",
      "  n_iter_i = _check_optimize_result(\n",
      "/opt/hostedtoolcache/Python/3.9.21/x64/lib/python3.9/site-packages/sklearn/metrics/_classification.py:1565: UndefinedMetricWarning: Precision is ill-defined and being set to 0.0 in labels with no predicted samples. Use `zero_division` parameter to control this behavior.\n",
      "  _warn_prf(average, modifier, f\"{metric.capitalize()} is\", len(result))\n",
      "/opt/hostedtoolcache/Python/3.9.21/x64/lib/python3.9/site-packages/sklearn/metrics/_classification.py:1565: UndefinedMetricWarning: Precision is ill-defined and being set to 0.0 in labels with no predicted samples. Use `zero_division` parameter to control this behavior.\n",
      "  _warn_prf(average, modifier, f\"{metric.capitalize()} is\", len(result))\n",
      "/opt/hostedtoolcache/Python/3.9.21/x64/lib/python3.9/site-packages/sklearn/metrics/_classification.py:1565: UndefinedMetricWarning: Precision is ill-defined and being set to 0.0 in labels with no predicted samples. Use `zero_division` parameter to control this behavior.\n",
      "  _warn_prf(average, modifier, f\"{metric.capitalize()} is\", len(result))\n"
     ]
    },
    {
     "name": "stdout",
     "output_type": "stream",
     "text": [
      "\n",
      "Classification Report for All Models:\n",
      "\n",
      "Model: RandomForest\n",
      "Accuracy: 0.2771\n",
      "              precision    recall  f1-score      support\n",
      "0              0.267516  0.377698  0.313199   556.000000\n",
      "1              0.272414  0.188544  0.222849   419.000000\n",
      "2              0.293347  0.460443  0.358374   632.000000\n",
      "3              0.233244  0.187097  0.207637   465.000000\n",
      "4              0.334728  0.226629  0.270270   353.000000\n",
      "5              0.262136  0.205323  0.230277   526.000000\n",
      "6              0.281690  0.202020  0.235294   495.000000\n",
      "accuracy       0.277133  0.277133  0.277133     0.277133\n",
      "macro avg      0.277868  0.263965  0.262557  3446.000000\n",
      "weighted avg   0.276324  0.277133  0.268009  3446.000000\n"
     ]
    },
    {
     "data": {
      "image/png": "[encoded data removed]",
      "text/plain": [
       "<Figure size 800x600 with 2 Axes>"
      ]
     },
     "metadata": {},
     "output_type": "display_data"
    },
    {
     "name": "stdout",
     "output_type": "stream",
     "text": [
      "\n",
      "Model: LogisticRegression\n",
      "Accuracy: 0.2014\n",
      "              precision    recall  f1-score      support\n",
      "0              0.184896  0.510791  0.271511   556.000000\n",
      "1              0.000000  0.000000  0.000000   419.000000\n",
      "2              0.214885  0.648734  0.322835   632.000000\n",
      "3              0.000000  0.000000  0.000000   465.000000\n",
      "4              0.000000  0.000000  0.000000   353.000000\n",
      "5              0.000000  0.000000  0.000000   526.000000\n",
      "6              0.000000  0.000000  0.000000   495.000000\n",
      "accuracy       0.201393  0.201393  0.201393     0.201393\n",
      "macro avg      0.057112  0.165647  0.084906  3446.000000\n",
      "weighted avg   0.069242  0.201393  0.103015  3446.000000\n"
     ]
    },
    {
     "data": {
      "image/png": "[encoded data removed]",
      "text/plain": [
       "<Figure size 800x600 with 2 Axes>"
      ]
     },
     "metadata": {},
     "output_type": "display_data"
    },
    {
     "name": "stdout",
     "output_type": "stream",
     "text": [
      "\n",
      "Model: DecisionTree\n",
      "Accuracy: 0.2191\n",
      "              precision    recall  f1-score      support\n",
      "0              0.213198  0.226619  0.219704   556.000000\n",
      "1              0.209719  0.195704  0.202469   419.000000\n",
      "2              0.270431  0.287975  0.278927   632.000000\n",
      "3              0.173913  0.163441  0.168514   465.000000\n",
      "4              0.213115  0.220963  0.216968   353.000000\n",
      "5              0.221344  0.212928  0.217054   526.000000\n",
      "6              0.205394  0.200000  0.202661   495.000000\n",
      "accuracy       0.219095  0.219095  0.219095     0.219095\n",
      "macro avg      0.215302  0.215376  0.215185  3446.000000\n",
      "weighted avg   0.218084  0.219095  0.218430  3446.000000\n"
     ]
    },
    {
     "data": {
      "image/png": "[encoded data removed]",
      "text/plain": [
       "<Figure size 800x600 with 2 Axes>"
      ]
     },
     "metadata": {},
     "output_type": "display_data"
    },
    {
     "name": "stdout",
     "output_type": "stream",
     "text": [
      "\n",
      "Best Model:\n",
      "Best Model: RandomForestClassifier()\n",
      "Best Model Accuracy: 0.2771\n"
     ]
    }
   ],
   "source": [
    "import pandas as pd\n",
    "from sklearn.model_selection import train_test_split\n",
    "from sklearn.ensemble import RandomForestClassifier\n",
    "from sklearn.linear_model import LogisticRegression\n",
    "from sklearn.tree import DecisionTreeClassifier\n",
    "from sklearn.metrics import classification_report, accuracy_score, confusion_matrix\n",
    "import seaborn as sns\n",
    "import matplotlib.pyplot as plt\n",
    "\n",
    "# Define models\n",
    "models = {\n",
    "    'RandomForest': RandomForestClassifier(),\n",
    "    'LogisticRegression': LogisticRegression(max_iter=1000),\n",
    "    'DecisionTree': DecisionTreeClassifier()\n",
    "}\n",
    "\n",
    "# Train models and evaluate them\n",
    "best_model = None\n",
    "best_score = 0\n",
    "model_reports = {}\n",
    "\n",
    "for model_name, model in models.items():\n",
    "    model.fit(X_train, y_train)  # Train model\n",
    "    y_pred = model.predict(X_test)  # Make predictions\n",
    "    \n",
    "    # Calculate accuracy and generate classification report\n",
    "    accuracy = accuracy_score(y_test, y_pred)\n",
    "    model_reports[model_name] = classification_report(y_test, y_pred, output_dict=True)  # Store as a dictionary for easier analysis\n",
    "    \n",
    "    # Track best performing model\n",
    "    if accuracy > best_score:\n",
    "        best_score = accuracy\n",
    "        best_model = model\n",
    "\n",
    "# Display classification reports and confusion matrices\n",
    "print(\"\\nClassification Report for All Models:\")\n",
    "for model_name, report in model_reports.items():\n",
    "    print(f\"\\nModel: {model_name}\")\n",
    "    print(\"Accuracy: {:.4f}\".format(accuracy_score(y_test, models[model_name].predict(X_test))))  # Display accuracy\n",
    "    print(pd.DataFrame(report).transpose())  # Display classification report as a DataFrame\n",
    "\n",
    "    # Plot Confusion Matrix\n",
    "    cm = confusion_matrix(y_test, models[model_name].predict(X_test))\n",
    "    plt.figure(figsize=(8, 6))\n",
    "    sns.heatmap(cm, annot=True, fmt=\"d\", cmap='Blues', xticklabels=offense_encoder.classes_, yticklabels=offense_encoder.classes_)\n",
    "    plt.title(f\"Confusion Matrix - {model_name}\")\n",
    "    plt.xlabel('Predicted Labels')\n",
    "    plt.ylabel('True Labels')\n",
    "    plt.show()\n",
    "\n",
    "# Display best model details\n",
    "print(\"\\nBest Model:\")\n",
    "print(f\"Best Model: {best_model}\")\n",
    "print(f\"Best Model Accuracy: {best_score:.4f}\")\n"
   ]
  },
  {
   "cell_type": "markdown",
   "id": "d8cefb5d",
   "metadata": {
    "papermill": {
     "duration": 0.01092,
     "end_time": "2025-04-07T01:02:30.535924",
     "exception": false,
     "start_time": "2025-04-07T01:02:30.525004",
     "status": "completed"
    },
    "tags": []
   },
   "source": [
    "#### Classification Report for All Models:\n",
    "\n",
    "### Explanation of the Classification Results (RandomForest Model)\n",
    "\n",
    "The results you provided are from a **Random Forest** model, which is used for predicting different types of offenses. Let's break down the key components of the results:\n",
    "\n",
    "#### 1. **Accuracy: 0.2822**\n",
    "   - **Accuracy** measures the overall percentage of correct predictions made by the model. An accuracy of 28.22% means the model correctly predicted the offense in about 28% of the cases. This indicates the model's predictions are not highly reliable, as the accuracy is quite low.\n",
    "\n",
    "#### 2. **Classification Report:**\n",
    "   The classification report includes precision, recall, and F1-score for each offense. Let's go over these terms and how they apply to the results:\n",
    "\n",
    "   - **Precision**: The proportion of true positive predictions out of all positive predictions made by the model for a specific class (offense).\n",
    "   - **Recall**: The proportion of true positive predictions out of all actual positive instances in the dataset.\n",
    "   - **F1-Score**: The harmonic mean of precision and recall, providing a balance between the two metrics.\n",
    "   - **Support**: The number of actual occurrences of each class in the test set.\n",
    "\n",
    "   Let's analyze each offense based on these metrics:\n",
    "\n",
    "   | **Offense**                        | **Precision** | **Recall** | **F1-Score** | **Support** |\n",
    "   |------------------------------------|---------------|------------|--------------|-------------|\n",
    "   | **Assault Simple**                 | 0.2892        | 0.3754     | 0.3267       | 594         |\n",
    "   | **Assist Citizen - Mental/TDO/ECO**| 0.3182        | 0.2274     | 0.2652       | 431         |\n",
    "   | **Hit and Run**                    | 0.2963        | 0.4765     | 0.3654       | 638         |\n",
    "   | **Larceny - All Other**            | 0.2270        | 0.1453     | 0.1772       | 475         |\n",
    "   | **Lost/FoundProperty**             | 0.3333        | 0.2102     | 0.2578       | 352         |\n",
    "   | **Suspicious Activity**            | 0.2344        | 0.2169     | 0.2253       | 484         |\n",
    "   | **Vandalism**                      | 0.2712        | 0.2106     | 0.2371       | 470         |\n",
    "\n",
    "#### 3. **Key Insights from the Report:**\n",
    "\n",
    "- **Precision**:\n",
    "   - The highest precision is for **Larceny - All Other** (0.3333), indicating that when the model predicts this offense, it is correct about 33% of the time. However, this is still quite low.\n",
    "   - **Assist Citizen - Mental/TDO/ECO** has the lowest precision (0.2269), meaning that the model's predictions for this offense tend to be wrong more often than correct.\n",
    "\n",
    "- **Recall**:\n",
    "   - **Hit and Run** has the highest recall (0.4765), meaning the model identifies about 48% of the actual occurrences of this offense. This is better than the precision, which indicates it is missing many true positives but is still able to identify a fair number of cases.\n",
    "   - **Larceny - All Other** and **Suspicious Activity** have the lowest recall values (0.1453 and 0.2169, respectively), indicating that the model is failing to identify most of the actual cases for these offenses.\n",
    "\n",
    "- **F1-Score**:\n",
    "   - The **F1-Score** balances precision and recall. It is highest for **Hit and Run** (0.3654), but still relatively low overall. This suggests the model is better at identifying **Hit and Run** than other offenses but still has room for improvement.\n",
    "   - **Larceny - All Other** has the lowest F1-Score (0.1772), indicating a poor balance between precision and recall for this offense.\n",
    "\n",
    "#### 4. **Macro Average and Weighted Average:**\n",
    "   - **Macro Average**: This gives the average precision, recall, and F1-Score across all classes (offenses) without considering the class distribution. It averages the results for all offenses equally.\n",
    "     - Precision: 0.2814\n",
    "     - Recall: 0.2661\n",
    "     - F1-Score: 0.2649\n",
    "   - **Weighted Average**: This averages the metrics but weighs each class by its support (the number of true instances in the test set). This gives a better sense of overall performance, considering the class distribution.\n",
    "     - Precision: 0.2799\n",
    "     - Recall: 0.2822\n",
    "     - F1-Score: 0.2720\n",
    "\n",
    "#### 5. **Confusion Matrix (Visualization Analysis)**:\n",
    "   - The confusion matrix shows the distribution of true positive, false positive, true negative, and false negative predictions for each class.\n",
    "     - For **Hit and Run**, the model performs relatively well in identifying this offense (304 true positives). However, it also misclassifies some **Hit and Run** instances as other offenses (e.g., **Assault Simple**, **Suspicious Activity**, etc.).\n",
    "     - **Larceny - All Other** is frequently misclassified as **Hit and Run**, **Suspicious Activity**, and others. This is evident from the large number of off-diagonal elements in its row.\n",
    "     - **Assist Citizen - Mental/TDO/ECO** and **Suspicious Activity** are frequently misclassified, as seen by the off-diagonal values in their rows.\n",
    "\n",
    "### Conclusion:\n",
    "The Random Forest model has low accuracy (28.22%), suggesting that it struggles to predict most offenses accurately. Some offenses like **Hit and Run** are better predicted than others, but overall, the model shows a high level of misclassification across all offenses. There may be a need for further tuning of the model, additional feature engineering, or trying different models for better performance.\n",
    "\n",
    "Let me know if you'd like to improve the model or make adjustments based on these results!\n",
    "\n"
   ]
  },
  {
   "cell_type": "markdown",
   "id": "b1e84c4c",
   "metadata": {
    "papermill": {
     "duration": 0.01067,
     "end_time": "2025-04-07T01:02:30.557426",
     "exception": false,
     "start_time": "2025-04-07T01:02:30.546756",
     "status": "completed"
    },
    "tags": []
   },
   "source": [
    "### Model Explanation\n",
    "\n",
    "Once we’ve chosen the best model, we will explain its predictions by examining feature importance for tree-based models and using statistical methods like logistic regression coefficients for linear models."
   ]
  },
  {
   "cell_type": "markdown",
   "id": "9a6d8b0d",
   "metadata": {
    "papermill": {
     "duration": 0.010711,
     "end_time": "2025-04-07T01:02:30.578853",
     "exception": false,
     "start_time": "2025-04-07T01:02:30.568142",
     "status": "completed"
    },
    "tags": []
   },
   "source": [
    "#### Feature Importance for Random Forest / Decision Tree\n",
    "\n",
    "##### For Tree-based Models (Random Forest, Decision Tree)\n",
    "\n",
    "For Random Forest or Decision Tree, we can look at feature importance to understand which variables contribute the most to the model's predictions. Here's how you can visualize and interpret the importance of each feature:"
   ]
  },
  {
   "cell_type": "code",
   "execution_count": 23,
   "id": "578df80e",
   "metadata": {
    "execution": {
     "iopub.execute_input": "2025-04-07T01:02:30.601342Z",
     "iopub.status.busy": "2025-04-07T01:02:30.601094Z",
     "iopub.status.idle": "2025-04-07T01:02:30.768309Z",
     "shell.execute_reply": "2025-04-07T01:02:30.767604Z"
    },
    "papermill": {
     "duration": 0.179845,
     "end_time": "2025-04-07T01:02:30.769455",
     "exception": false,
     "start_time": "2025-04-07T01:02:30.589610",
     "status": "completed"
    },
    "tags": []
   },
   "outputs": [
    {
     "data": {
      "image/png": "[encoded data removed]",
      "text/plain": [
       "<Figure size 1000x600 with 1 Axes>"
      ]
     },
     "metadata": {},
     "output_type": "display_data"
    }
   ],
   "source": [
    "# For RandomForest or DecisionTree models, we can check feature importance\n",
    "if isinstance(best_model, RandomForestClassifier) or isinstance(best_model, DecisionTreeClassifier):\n",
    "    feature_importance = best_model.feature_importances_\n",
    "    feature_names = X.columns\n",
    "    importance_df = pd.DataFrame({'Feature': feature_names, 'Importance': feature_importance})\n",
    "    importance_df = importance_df.sort_values(by='Importance', ascending=False)\n",
    "    \n",
    "    # Plotting the feature importances\n",
    "    plt.figure(figsize=(10, 6))\n",
    "    sns.barplot(x='Importance', y='Feature', data=importance_df)\n",
    "    plt.title(\"Feature Importance\")\n",
    "    plt.show()\n"
   ]
  },
  {
   "cell_type": "code",
   "execution_count": null,
   "id": "c49190db",
   "metadata": {
    "papermill": {
     "duration": 0.011101,
     "end_time": "2025-04-07T01:02:30.792337",
     "exception": false,
     "start_time": "2025-04-07T01:02:30.781236",
     "status": "completed"
    },
    "tags": []
   },
   "outputs": [],
   "source": []
  },
  {
   "cell_type": "markdown",
   "id": "9cfc9a0f",
   "metadata": {
    "papermill": {
     "duration": 0.011183,
     "end_time": "2025-04-07T01:02:30.814604",
     "exception": false,
     "start_time": "2025-04-07T01:02:30.803421",
     "status": "completed"
    },
    "tags": []
   },
   "source": [
    "### Evaluation\n",
    "\n",
    "After training the models and examining their performance, we evaluate the chosen model based on metrics like accuracy, precision, recall, and F1 score.\n",
    "\n"
   ]
  },
  {
   "cell_type": "code",
   "execution_count": 24,
   "id": "696a8373",
   "metadata": {
    "execution": {
     "iopub.execute_input": "2025-04-07T01:02:30.837955Z",
     "iopub.status.busy": "2025-04-07T01:02:30.837441Z",
     "iopub.status.idle": "2025-04-07T01:02:30.925670Z",
     "shell.execute_reply": "2025-04-07T01:02:30.924978Z"
    },
    "papermill": {
     "duration": 0.101054,
     "end_time": "2025-04-07T01:02:30.926692",
     "exception": false,
     "start_time": "2025-04-07T01:02:30.825638",
     "status": "completed"
    },
    "tags": []
   },
   "outputs": [
    {
     "name": "stdout",
     "output_type": "stream",
     "text": [
      "Accuracy: 0.2771\n",
      "Classification Report:\n",
      "              precision    recall  f1-score   support\n",
      "\n",
      "           0       0.27      0.38      0.31       556\n",
      "           1       0.27      0.19      0.22       419\n",
      "           2       0.29      0.46      0.36       632\n",
      "           3       0.23      0.19      0.21       465\n",
      "           4       0.33      0.23      0.27       353\n",
      "           5       0.26      0.21      0.23       526\n",
      "           6       0.28      0.20      0.24       495\n",
      "\n",
      "    accuracy                           0.28      3446\n",
      "   macro avg       0.28      0.26      0.26      3446\n",
      "weighted avg       0.28      0.28      0.27      3446\n",
      "\n",
      "Confusion Matrix:\n",
      "[[210  48 141  52  18  55  32]\n",
      " [118  79  95  29  19  51  28]\n",
      " [112  43 291  66  30  52  38]\n",
      " [ 86  31 125  87  24  55  57]\n",
      " [ 55  24  71  45  80  29  49]\n",
      " [112  28 139  49  39 108  51]\n",
      " [ 92  37 130  45  29  62 100]]\n",
      "Precision: 0.2763\n",
      "Recall: 0.2771\n",
      "F1 Score: 0.2680\n"
     ]
    }
   ],
   "source": [
    "from sklearn.metrics import classification_report, confusion_matrix, accuracy_score, precision_score, recall_score, f1_score\n",
    "\n",
    "# Predict on the test set\n",
    "y_pred = best_model.predict(X_test)\n",
    "\n",
    "# Calculate Accuracy\n",
    "accuracy = accuracy_score(y_test, y_pred)\n",
    "print(f\"Accuracy: {accuracy:.4f}\")\n",
    "\n",
    "# Classification Report\n",
    "print(\"Classification Report:\")\n",
    "print(classification_report(y_test, y_pred))\n",
    "\n",
    "# Confusion Matrix\n",
    "conf_matrix = confusion_matrix(y_test, y_pred)\n",
    "print(\"Confusion Matrix:\")\n",
    "print(conf_matrix)\n",
    "\n",
    "# Precision, Recall, F1 Score for each class (Offense Type)\n",
    "precision = precision_score(y_test, y_pred, average='weighted')\n",
    "recall = recall_score(y_test, y_pred, average='weighted')\n",
    "f1 = f1_score(y_test, y_pred, average='weighted')\n",
    "\n",
    "print(f\"Precision: {precision:.4f}\")\n",
    "print(f\"Recall: {recall:.4f}\")\n",
    "print(f\"F1 Score: {f1:.4f}\")\n"
   ]
  },
  {
   "cell_type": "markdown",
   "id": "a62e3b8b",
   "metadata": {
    "papermill": {
     "duration": 0.011086,
     "end_time": "2025-04-07T01:02:30.949479",
     "exception": false,
     "start_time": "2025-04-07T01:02:30.938393",
     "status": "completed"
    },
    "tags": []
   },
   "source": [
    "#### For Logistic Regression (Coefficient Interpretation)\n",
    "\n",
    "For Logistic Regression, the model coefficients can help us understand how each feature affects the likelihood of an offense happening. A positive coefficient indicates a feature increases the likelihood of the offense, and a negative coefficient indicates the opposite."
   ]
  },
  {
   "cell_type": "code",
   "execution_count": 25,
   "id": "1d3d940d",
   "metadata": {
    "execution": {
     "iopub.execute_input": "2025-04-07T01:02:30.973145Z",
     "iopub.status.busy": "2025-04-07T01:02:30.972550Z",
     "iopub.status.idle": "2025-04-07T01:02:30.977277Z",
     "shell.execute_reply": "2025-04-07T01:02:30.976765Z"
    },
    "papermill": {
     "duration": 0.017609,
     "end_time": "2025-04-07T01:02:30.978273",
     "exception": false,
     "start_time": "2025-04-07T01:02:30.960664",
     "status": "completed"
    },
    "tags": []
   },
   "outputs": [],
   "source": [
    "if isinstance(best_model, LogisticRegression):\n",
    "    # Logistic regression coefficients\n",
    "    coef_df = pd.DataFrame({\n",
    "        'Feature': X.columns,\n",
    "        'Coefficient': best_model.coef_[0]\n",
    "    })\n",
    "    coef_df['AbsCoefficient'] = coef_df['Coefficient'].abs()\n",
    "    coef_df = coef_df.sort_values(by='AbsCoefficient', ascending=False)\n",
    "    \n",
    "    # Plotting the coefficients\n",
    "    plt.figure(figsize=(10, 6))\n",
    "    sns.barplot(x='AbsCoefficient', y='Feature', data=coef_df)\n",
    "    plt.title(\"Logistic Regression Coefficients Impact\")\n",
    "    plt.show()\n",
    "\n",
    "    # Print the top 5 most impactful features (by absolute coefficient value)\n",
    "    print(\"Top 5 most impactful features based on coefficients:\")\n",
    "    print(coef_df.head())\n"
   ]
  },
  {
   "cell_type": "markdown",
   "id": "bcd5add8",
   "metadata": {
    "papermill": {
     "duration": 0.011303,
     "end_time": "2025-04-07T01:02:31.000945",
     "exception": false,
     "start_time": "2025-04-07T01:02:30.989642",
     "status": "completed"
    },
    "tags": []
   },
   "source": [
    "Explanation of Output:\n",
    "\n",
    "Feature Importance (Random Forest/Decision Tree): The bar plot will show how important each feature is in the decision-making process. Features at the top of the list are the most influential in predicting the occurrence of offenses.\n",
    "\n",
    "Logistic Regression Coefficients: The bar plot will show the magnitude of the coefficients for each feature. Features with larger absolute values (either positive or negative) have a stronger impact on the model’s predictions. Positive coefficients increase the probability of an offense, while negative coefficients decrease it."
   ]
  },
  {
   "cell_type": "markdown",
   "id": "85ba87ae",
   "metadata": {
    "papermill": {
     "duration": 0.011168,
     "end_time": "2025-04-07T01:02:31.023458",
     "exception": false,
     "start_time": "2025-04-07T01:02:31.012290",
     "status": "completed"
    },
    "tags": []
   },
   "source": []
  }
 ],
 "metadata": {
  "kernelspec": {
   "display_name": "Python 3",
   "language": "python",
   "name": "python3"
  },
  "language_info": {
   "codemirror_mode": {
    "name": "ipython",
    "version": 3
   },
   "file_extension": ".py",
   "mimetype": "text/x-python",
   "name": "python",
   "nbconvert_exporter": "python",
   "pygments_lexer": "ipython3",
   "version": "3.9.21"
  },
  "papermill": {
   "default_parameters": {},
   "duration": 78.373034,
   "end_time": "2025-04-07T01:02:31.451045",
   "environment_variables": {},
   "exception": null,
   "input_path": "notebook/Crime Data.ipynb",
   "output_path": "notebook/Crime Data_output.ipynb",
   "parameters": {},
   "start_time": "2025-04-07T01:01:13.078011",
   "version": "2.6.0"
  }
 },
 "nbformat": 4,
 "nbformat_minor": 5
}