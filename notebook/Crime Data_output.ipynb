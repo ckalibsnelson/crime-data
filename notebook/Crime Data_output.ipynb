{
 "cells": [
  {
   "cell_type": "markdown",
   "id": "3bf39cf1",
   "metadata": {
    "papermill": {
     "duration": 0.006152,
     "end_time": "2025-05-23T01:02:50.335841",
     "exception": false,
     "start_time": "2025-05-23T01:02:50.329689",
     "status": "completed"
    },
    "tags": []
   },
   "source": [
    "# Charlottesville Open Data Porttal: Crime Data"
   ]
  },
  {
   "cell_type": "markdown",
   "id": "d666cbb5",
   "metadata": {
    "papermill": {
     "duration": 0.005022,
     "end_time": "2025-05-23T01:02:50.346280",
     "exception": false,
     "start_time": "2025-05-23T01:02:50.341258",
     "status": "completed"
    },
    "tags": []
   },
   "source": [
    "## Import Relevant Librarires & Set WD"
   ]
  },
  {
   "cell_type": "code",
   "execution_count": 1,
   "id": "a3d41d61",
   "metadata": {
    "execution": {
     "iopub.execute_input": "2025-05-23T01:02:50.358223Z",
     "iopub.status.busy": "2025-05-23T01:02:50.357489Z",
     "iopub.status.idle": "2025-05-23T01:02:50.936982Z",
     "shell.execute_reply": "2025-05-23T01:02:50.936325Z"
    },
    "papermill": {
     "duration": 0.586971,
     "end_time": "2025-05-23T01:02:50.938339",
     "exception": false,
     "start_time": "2025-05-23T01:02:50.351368",
     "status": "completed"
    },
    "tags": []
   },
   "outputs": [],
   "source": [
    "import requests\n",
    "import pandas as pd\n",
    "import numpy as np\n",
    "import pickle\n",
    "import googlemaps\n",
    "import plotly.express as px\n",
    "from geopy.geocoders import Nominatim\n",
    "import time\n",
    "from dotenv import load_dotenv\n",
    "import os\n",
    "\n",
    "env_path = os.path.join(\"..\", \".env\")\n",
    "#print(\"Looking for .env file at:\", os.path.abspath(env_path))\n",
    "load_dotenv(dotenv_path=env_path)\n",
    "\n",
    "# Retrieve the variables\n",
    "GOOGLE_API_KEY = os.getenv(\"GOOGLE_API_KEY\")\n",
    "WORKING_DIR = os.getenv(\"WORKING_DIR\")\n",
    "\n",
    "if GOOGLE_API_KEY is None or WORKING_DIR is None:\n",
    "    raise RuntimeError(\"No configuration found. Please ensure that your .env file exists with the required variables, or create a local config.py file.\")\n",
    "\n",
    "#print(\"Google API Key:\", GOOGLE_API_KEY)\n",
    "#print(\"Working Directory:\", WORKING_DIR)"
   ]
  },
  {
   "cell_type": "markdown",
   "id": "4787de3e",
   "metadata": {
    "papermill": {
     "duration": 0.005038,
     "end_time": "2025-05-23T01:02:50.948854",
     "exception": false,
     "start_time": "2025-05-23T01:02:50.943816",
     "status": "completed"
    },
    "tags": []
   },
   "source": [
    "## Import Data\n",
    "\n",
    "URL: https://opendata.charlottesville.org/datasets/charlottesville::crime-data/about"
   ]
  },
  {
   "cell_type": "code",
   "execution_count": 2,
   "id": "1aab3d29",
   "metadata": {
    "execution": {
     "iopub.execute_input": "2025-05-23T01:02:50.960820Z",
     "iopub.status.busy": "2025-05-23T01:02:50.960335Z",
     "iopub.status.idle": "2025-05-23T01:03:51.718754Z",
     "shell.execute_reply": "2025-05-23T01:03:51.717987Z"
    },
    "papermill": {
     "duration": 60.792645,
     "end_time": "2025-05-23T01:03:51.747304",
     "exception": false,
     "start_time": "2025-05-23T01:02:50.954659",
     "status": "completed"
    },
    "tags": []
   },
   "outputs": [
    {
     "name": "stdout",
     "output_type": "stream",
     "text": [
      "Total records imported: 25418\n"
     ]
    }
   ],
   "source": [
    "# Define the endpoint and initial parameters.\n",
    "url = \"https://gisweb.charlottesville.org/arcgis/rest/services/OpenData_2/MapServer/6/query\"\n",
    "params = {\n",
    "    \"where\": \"1=1\",\n",
    "    \"outFields\": \"*\",\n",
    "    \"outSR\": 4326,\n",
    "    \"f\": \"json\",\n",
    "    \"resultOffset\": 0,       # Starting index for results\n",
    "    \"resultRecordCount\": 10000  # Maximum records per batch (if allowed by the API)\n",
    "}\n",
    "\n",
    "records = []\n",
    "\n",
    "while True:\n",
    "    response = requests.get(url, params=params)\n",
    "    response.raise_for_status()\n",
    "    data = response.json()\n",
    "    \n",
    "    # Get the current batch of features.\n",
    "    features = data.get(\"features\", [])\n",
    "    if not features:\n",
    "        break\n",
    "\n",
    "    # Extract the attributes from the features.\n",
    "    batch_records = [feature.get(\"attributes\", {}) for feature in features]\n",
    "    records.extend(batch_records)\n",
    "    \n",
    "    # If the batch size is less than the requested count, we reached the end.\n",
    "    if len(features) < params[\"resultRecordCount\"]:\n",
    "        break\n",
    "\n",
    "    # Update the resultOffset for the next batch.\n",
    "    params[\"resultOffset\"] += params[\"resultRecordCount\"]\n",
    "\n",
    "# Create a DataFrame from the combined records.\n",
    "df = pd.DataFrame(records)\n",
    "print(\"Total records imported:\", len(df))\n"
   ]
  },
  {
   "cell_type": "code",
   "execution_count": 3,
   "id": "77f7c95e",
   "metadata": {
    "execution": {
     "iopub.execute_input": "2025-05-23T01:03:51.759237Z",
     "iopub.status.busy": "2025-05-23T01:03:51.758704Z",
     "iopub.status.idle": "2025-05-23T01:03:51.771273Z",
     "shell.execute_reply": "2025-05-23T01:03:51.770620Z"
    },
    "papermill": {
     "duration": 0.019745,
     "end_time": "2025-05-23T01:03:51.772354",
     "exception": false,
     "start_time": "2025-05-23T01:03:51.752609",
     "status": "completed"
    },
    "tags": []
   },
   "outputs": [
    {
     "data": {
      "text/html": [
       "<div>\n",
       "<style scoped>\n",
       "    .dataframe tbody tr th:only-of-type {\n",
       "        vertical-align: middle;\n",
       "    }\n",
       "\n",
       "    .dataframe tbody tr th {\n",
       "        vertical-align: top;\n",
       "    }\n",
       "\n",
       "    .dataframe thead th {\n",
       "        text-align: right;\n",
       "    }\n",
       "</style>\n",
       "<table border=\"1\" class=\"dataframe\">\n",
       "  <thead>\n",
       "    <tr style=\"text-align: right;\">\n",
       "      <th></th>\n",
       "      <th>RecordID</th>\n",
       "      <th>Offense</th>\n",
       "      <th>IncidentID</th>\n",
       "      <th>BlockNumber</th>\n",
       "      <th>StreetName</th>\n",
       "      <th>Agency</th>\n",
       "      <th>DateReported</th>\n",
       "      <th>HourReported</th>\n",
       "      <th>ReportingOfficer</th>\n",
       "    </tr>\n",
       "  </thead>\n",
       "  <tbody>\n",
       "    <tr>\n",
       "      <th>0</th>\n",
       "      <td>1</td>\n",
       "      <td>Suspicious Activity</td>\n",
       "      <td>202500017271</td>\n",
       "      <td>700</td>\n",
       "      <td>PROSPECT AVE, E</td>\n",
       "      <td>CPD</td>\n",
       "      <td>1747792962000</td>\n",
       "      <td>2202</td>\n",
       "      <td>Love-Baker, Sydney</td>\n",
       "    </tr>\n",
       "    <tr>\n",
       "      <th>1</th>\n",
       "      <td>2</td>\n",
       "      <td>Missing Person-adult</td>\n",
       "      <td>202500017248</td>\n",
       "      <td>2000</td>\n",
       "      <td>HOLIDAY DR</td>\n",
       "      <td>CPD</td>\n",
       "      <td>1747779891000</td>\n",
       "      <td>1824</td>\n",
       "      <td>Curry, Brian</td>\n",
       "    </tr>\n",
       "    <tr>\n",
       "      <th>2</th>\n",
       "      <td>3</td>\n",
       "      <td>Assist Agency - Other</td>\n",
       "      <td>202500017243</td>\n",
       "      <td>600</td>\n",
       "      <td>E WATER ST</td>\n",
       "      <td>CPD</td>\n",
       "      <td>1747776245000</td>\n",
       "      <td>1724</td>\n",
       "      <td>Hudson, Jesse</td>\n",
       "    </tr>\n",
       "    <tr>\n",
       "      <th>3</th>\n",
       "      <td>4</td>\n",
       "      <td>Larceny - Theft from Building</td>\n",
       "      <td>202580000081</td>\n",
       "      <td>200</td>\n",
       "      <td>15TH ST NW</td>\n",
       "      <td>CPD</td>\n",
       "      <td>1747776167000</td>\n",
       "      <td>1722</td>\n",
       "      <td>Moje, Ashley</td>\n",
       "    </tr>\n",
       "    <tr>\n",
       "      <th>4</th>\n",
       "      <td>5</td>\n",
       "      <td>Misc - Criminal Call</td>\n",
       "      <td>202500017233</td>\n",
       "      <td></td>\n",
       "      <td>FONTAINE AVE / SUMMIT ST</td>\n",
       "      <td>CPD</td>\n",
       "      <td>1747771787000</td>\n",
       "      <td>1609</td>\n",
       "      <td>Carrasco, Julio</td>\n",
       "    </tr>\n",
       "  </tbody>\n",
       "</table>\n",
       "</div>"
      ],
      "text/plain": [
       "   RecordID                        Offense    IncidentID BlockNumber  \\\n",
       "0         1            Suspicious Activity  202500017271         700   \n",
       "1         2           Missing Person-adult  202500017248        2000   \n",
       "2         3          Assist Agency - Other  202500017243         600   \n",
       "3         4  Larceny - Theft from Building  202580000081         200   \n",
       "4         5           Misc - Criminal Call  202500017233               \n",
       "\n",
       "                 StreetName Agency   DateReported HourReported  \\\n",
       "0           PROSPECT AVE, E    CPD  1747792962000         2202   \n",
       "1                HOLIDAY DR    CPD  1747779891000         1824   \n",
       "2                E WATER ST    CPD  1747776245000         1724   \n",
       "3                15TH ST NW    CPD  1747776167000         1722   \n",
       "4  FONTAINE AVE / SUMMIT ST    CPD  1747771787000         1609   \n",
       "\n",
       "     ReportingOfficer  \n",
       "0  Love-Baker, Sydney  \n",
       "1        Curry, Brian  \n",
       "2       Hudson, Jesse  \n",
       "3        Moje, Ashley  \n",
       "4     Carrasco, Julio  "
      ]
     },
     "execution_count": 3,
     "metadata": {},
     "output_type": "execute_result"
    }
   ],
   "source": [
    "df.head()"
   ]
  },
  {
   "cell_type": "code",
   "execution_count": 4,
   "id": "6b398f3a",
   "metadata": {
    "execution": {
     "iopub.execute_input": "2025-05-23T01:03:51.784406Z",
     "iopub.status.busy": "2025-05-23T01:03:51.783778Z",
     "iopub.status.idle": "2025-05-23T01:03:51.788192Z",
     "shell.execute_reply": "2025-05-23T01:03:51.787656Z"
    },
    "papermill": {
     "duration": 0.01143,
     "end_time": "2025-05-23T01:03:51.789215",
     "exception": false,
     "start_time": "2025-05-23T01:03:51.777785",
     "status": "completed"
    },
    "tags": []
   },
   "outputs": [
    {
     "data": {
      "text/plain": [
       "Index(['RecordID', 'Offense', 'IncidentID', 'BlockNumber', 'StreetName',\n",
       "       'Agency', 'DateReported', 'HourReported', 'ReportingOfficer'],\n",
       "      dtype='object')"
      ]
     },
     "execution_count": 4,
     "metadata": {},
     "output_type": "execute_result"
    }
   ],
   "source": [
    "df.columns"
   ]
  },
  {
   "cell_type": "code",
   "execution_count": 5,
   "id": "c6fd6e53",
   "metadata": {
    "execution": {
     "iopub.execute_input": "2025-05-23T01:03:51.801183Z",
     "iopub.status.busy": "2025-05-23T01:03:51.800738Z",
     "iopub.status.idle": "2025-05-23T01:03:51.823767Z",
     "shell.execute_reply": "2025-05-23T01:03:51.823214Z"
    },
    "papermill": {
     "duration": 0.029994,
     "end_time": "2025-05-23T01:03:51.824688",
     "exception": false,
     "start_time": "2025-05-23T01:03:51.794694",
     "status": "completed"
    },
    "tags": []
   },
   "outputs": [
    {
     "name": "stdout",
     "output_type": "stream",
     "text": [
      "<class 'pandas.core.frame.DataFrame'>\n",
      "RangeIndex: 25418 entries, 0 to 25417\n",
      "Data columns (total 9 columns):\n",
      " #   Column            Non-Null Count  Dtype \n",
      "---  ------            --------------  ----- \n",
      " 0   RecordID          25418 non-null  int64 \n",
      " 1   Offense           25418 non-null  object\n",
      " 2   IncidentID        25418 non-null  object\n",
      " 3   BlockNumber       25418 non-null  object\n",
      " 4   StreetName        25418 non-null  object\n",
      " 5   Agency            25418 non-null  object\n",
      " 6   DateReported      25418 non-null  int64 \n",
      " 7   HourReported      25418 non-null  object\n",
      " 8   ReportingOfficer  25401 non-null  object\n",
      "dtypes: int64(2), object(7)\n",
      "memory usage: 1.7+ MB\n"
     ]
    }
   ],
   "source": [
    "df.info()"
   ]
  },
  {
   "cell_type": "markdown",
   "id": "bfa42622",
   "metadata": {
    "papermill": {
     "duration": 0.005607,
     "end_time": "2025-05-23T01:03:51.835956",
     "exception": false,
     "start_time": "2025-05-23T01:03:51.830349",
     "status": "completed"
    },
    "tags": []
   },
   "source": [
    "### Missing Values"
   ]
  },
  {
   "cell_type": "code",
   "execution_count": 6,
   "id": "fa432dec",
   "metadata": {
    "execution": {
     "iopub.execute_input": "2025-05-23T01:03:51.848330Z",
     "iopub.status.busy": "2025-05-23T01:03:51.847820Z",
     "iopub.status.idle": "2025-05-23T01:03:51.868261Z",
     "shell.execute_reply": "2025-05-23T01:03:51.867664Z"
    },
    "papermill": {
     "duration": 0.027737,
     "end_time": "2025-05-23T01:03:51.869314",
     "exception": false,
     "start_time": "2025-05-23T01:03:51.841577",
     "status": "completed"
    },
    "tags": []
   },
   "outputs": [
    {
     "name": "stdout",
     "output_type": "stream",
     "text": [
      "                  MissingCount  MissingPercentage\n",
      "RecordID                     0               0.00\n",
      "Offense                      0               0.00\n",
      "IncidentID                   0               0.00\n",
      "BlockNumber                  0               0.00\n",
      "StreetName                   0               0.00\n",
      "Agency                       0               0.00\n",
      "DateReported                 0               0.00\n",
      "HourReported                 0               0.00\n",
      "ReportingOfficer            17               0.07\n"
     ]
    }
   ],
   "source": [
    "def missing_percentage(df):\n",
    "    \"\"\"\n",
    "    Returns a DataFrame with the count and percentage of missing values for each column.\n",
    "    \n",
    "    Parameters:\n",
    "        df (pd.DataFrame): The input DataFrame.\n",
    "    \n",
    "    Returns:\n",
    "        pd.DataFrame: A DataFrame with columns 'MissingCount' and 'MissingPercentage'.\n",
    "    \"\"\"\n",
    "    total_rows = len(df)\n",
    "    missing_count = df.isnull().sum()\n",
    "    missing_percent = (missing_count / total_rows) * 100\n",
    "    \n",
    "    result = pd.DataFrame({\n",
    "        'MissingCount': missing_count,\n",
    "        'MissingPercentage': missing_percent.round(2)\n",
    "    })\n",
    "    \n",
    "    return result\n",
    "\n",
    "# Example usage:\n",
    "missing_info = missing_percentage(df)\n",
    "print(missing_info)\n"
   ]
  },
  {
   "cell_type": "markdown",
   "id": "9a4661d9",
   "metadata": {
    "papermill": {
     "duration": 0.005741,
     "end_time": "2025-05-23T01:03:51.880859",
     "exception": false,
     "start_time": "2025-05-23T01:03:51.875118",
     "status": "completed"
    },
    "tags": []
   },
   "source": [
    "## Data Preparation"
   ]
  },
  {
   "cell_type": "markdown",
   "id": "432dd30f",
   "metadata": {
    "papermill": {
     "duration": 0.005648,
     "end_time": "2025-05-23T01:03:51.892196",
     "exception": false,
     "start_time": "2025-05-23T01:03:51.886548",
     "status": "completed"
    },
    "tags": []
   },
   "source": [
    "### Data Conversion"
   ]
  },
  {
   "cell_type": "code",
   "execution_count": 7,
   "id": "7398cf90",
   "metadata": {
    "execution": {
     "iopub.execute_input": "2025-05-23T01:03:51.904789Z",
     "iopub.status.busy": "2025-05-23T01:03:51.904339Z",
     "iopub.status.idle": "2025-05-23T01:03:52.269550Z",
     "shell.execute_reply": "2025-05-23T01:03:52.268953Z"
    },
    "papermill": {
     "duration": 0.372689,
     "end_time": "2025-05-23T01:03:52.270636",
     "exception": false,
     "start_time": "2025-05-23T01:03:51.897947",
     "status": "completed"
    },
    "tags": []
   },
   "outputs": [
    {
     "data": {
      "text/html": [
       "<div>\n",
       "<style scoped>\n",
       "    .dataframe tbody tr th:only-of-type {\n",
       "        vertical-align: middle;\n",
       "    }\n",
       "\n",
       "    .dataframe tbody tr th {\n",
       "        vertical-align: top;\n",
       "    }\n",
       "\n",
       "    .dataframe thead th {\n",
       "        text-align: right;\n",
       "    }\n",
       "</style>\n",
       "<table border=\"1\" class=\"dataframe\">\n",
       "  <thead>\n",
       "    <tr style=\"text-align: right;\">\n",
       "      <th></th>\n",
       "      <th>RecordID</th>\n",
       "      <th>Offense</th>\n",
       "      <th>IncidentID</th>\n",
       "      <th>BlockNumber</th>\n",
       "      <th>StreetName</th>\n",
       "      <th>Agency</th>\n",
       "      <th>HourReported</th>\n",
       "      <th>ReportingOfficer</th>\n",
       "      <th>Date</th>\n",
       "      <th>DateString</th>\n",
       "      <th>DayOfWeek</th>\n",
       "      <th>Weekend</th>\n",
       "      <th>Season</th>\n",
       "      <th>HourAMPM</th>\n",
       "      <th>TimeOfDay</th>\n",
       "    </tr>\n",
       "  </thead>\n",
       "  <tbody>\n",
       "    <tr>\n",
       "      <th>0</th>\n",
       "      <td>1</td>\n",
       "      <td>Suspicious Activity</td>\n",
       "      <td>202500017271</td>\n",
       "      <td>700</td>\n",
       "      <td>PROSPECT AVE, E</td>\n",
       "      <td>CPD</td>\n",
       "      <td>2202</td>\n",
       "      <td>Love-Baker, Sydney</td>\n",
       "      <td>2025-05-20 22:02:42</td>\n",
       "      <td>2025-05-20 10:02:42 PM</td>\n",
       "      <td>Tuesday</td>\n",
       "      <td>False</td>\n",
       "      <td>Spring</td>\n",
       "      <td>10:02 PM</td>\n",
       "      <td>Night</td>\n",
       "    </tr>\n",
       "    <tr>\n",
       "      <th>1</th>\n",
       "      <td>2</td>\n",
       "      <td>Missing Person-adult</td>\n",
       "      <td>202500017248</td>\n",
       "      <td>2000</td>\n",
       "      <td>HOLIDAY DR</td>\n",
       "      <td>CPD</td>\n",
       "      <td>1824</td>\n",
       "      <td>Curry, Brian</td>\n",
       "      <td>2025-05-20 18:24:51</td>\n",
       "      <td>2025-05-20 06:24:51 PM</td>\n",
       "      <td>Tuesday</td>\n",
       "      <td>False</td>\n",
       "      <td>Spring</td>\n",
       "      <td>06:24 PM</td>\n",
       "      <td>Evening</td>\n",
       "    </tr>\n",
       "    <tr>\n",
       "      <th>2</th>\n",
       "      <td>3</td>\n",
       "      <td>Assist Agency - Other</td>\n",
       "      <td>202500017243</td>\n",
       "      <td>600</td>\n",
       "      <td>E WATER ST</td>\n",
       "      <td>CPD</td>\n",
       "      <td>1724</td>\n",
       "      <td>Hudson, Jesse</td>\n",
       "      <td>2025-05-20 17:24:05</td>\n",
       "      <td>2025-05-20 05:24:05 PM</td>\n",
       "      <td>Tuesday</td>\n",
       "      <td>False</td>\n",
       "      <td>Spring</td>\n",
       "      <td>05:24 PM</td>\n",
       "      <td>Evening</td>\n",
       "    </tr>\n",
       "    <tr>\n",
       "      <th>3</th>\n",
       "      <td>4</td>\n",
       "      <td>Larceny - Theft from Building</td>\n",
       "      <td>202580000081</td>\n",
       "      <td>200</td>\n",
       "      <td>15TH ST NW</td>\n",
       "      <td>CPD</td>\n",
       "      <td>1722</td>\n",
       "      <td>Moje, Ashley</td>\n",
       "      <td>2025-05-20 17:22:47</td>\n",
       "      <td>2025-05-20 05:22:47 PM</td>\n",
       "      <td>Tuesday</td>\n",
       "      <td>False</td>\n",
       "      <td>Spring</td>\n",
       "      <td>05:22 PM</td>\n",
       "      <td>Evening</td>\n",
       "    </tr>\n",
       "    <tr>\n",
       "      <th>4</th>\n",
       "      <td>5</td>\n",
       "      <td>Misc - Criminal Call</td>\n",
       "      <td>202500017233</td>\n",
       "      <td></td>\n",
       "      <td>FONTAINE AVE / SUMMIT ST</td>\n",
       "      <td>CPD</td>\n",
       "      <td>1609</td>\n",
       "      <td>Carrasco, Julio</td>\n",
       "      <td>2025-05-20 16:09:47</td>\n",
       "      <td>2025-05-20 04:09:47 PM</td>\n",
       "      <td>Tuesday</td>\n",
       "      <td>False</td>\n",
       "      <td>Spring</td>\n",
       "      <td>04:09 PM</td>\n",
       "      <td>Afternoon</td>\n",
       "    </tr>\n",
       "  </tbody>\n",
       "</table>\n",
       "</div>"
      ],
      "text/plain": [
       "   RecordID                        Offense    IncidentID BlockNumber  \\\n",
       "0         1            Suspicious Activity  202500017271         700   \n",
       "1         2           Missing Person-adult  202500017248        2000   \n",
       "2         3          Assist Agency - Other  202500017243         600   \n",
       "3         4  Larceny - Theft from Building  202580000081         200   \n",
       "4         5           Misc - Criminal Call  202500017233               \n",
       "\n",
       "                 StreetName Agency HourReported    ReportingOfficer  \\\n",
       "0           PROSPECT AVE, E    CPD         2202  Love-Baker, Sydney   \n",
       "1                HOLIDAY DR    CPD         1824        Curry, Brian   \n",
       "2                E WATER ST    CPD         1724       Hudson, Jesse   \n",
       "3                15TH ST NW    CPD         1722        Moje, Ashley   \n",
       "4  FONTAINE AVE / SUMMIT ST    CPD         1609     Carrasco, Julio   \n",
       "\n",
       "                 Date              DateString DayOfWeek  Weekend  Season  \\\n",
       "0 2025-05-20 22:02:42  2025-05-20 10:02:42 PM   Tuesday    False  Spring   \n",
       "1 2025-05-20 18:24:51  2025-05-20 06:24:51 PM   Tuesday    False  Spring   \n",
       "2 2025-05-20 17:24:05  2025-05-20 05:24:05 PM   Tuesday    False  Spring   \n",
       "3 2025-05-20 17:22:47  2025-05-20 05:22:47 PM   Tuesday    False  Spring   \n",
       "4 2025-05-20 16:09:47  2025-05-20 04:09:47 PM   Tuesday    False  Spring   \n",
       "\n",
       "   HourAMPM  TimeOfDay  \n",
       "0  10:02 PM      Night  \n",
       "1  06:24 PM    Evening  \n",
       "2  05:24 PM    Evening  \n",
       "3  05:22 PM    Evening  \n",
       "4  04:09 PM  Afternoon  "
      ]
     },
     "execution_count": 7,
     "metadata": {},
     "output_type": "execute_result"
    }
   ],
   "source": [
    "def convert_and_categorize_datereported(df, col='DateReported'):\n",
    "    \"\"\"\n",
    "    Converts an epoch (in milliseconds) date column into a timezone-aware datetime,\n",
    "    converts it to Eastern Time, and then creates columns for day-of-week, weekend flag,\n",
    "    season, 12-hour formatted time, and time-of-day. Keeps both a real datetime column\n",
    "    (Date) and a string representation (DateString).\n",
    "    \"\"\"\n",
    "    import pandas as pd\n",
    "\n",
    "    # Convert the epoch timestamp to a pandas datetime object as UTC, then convert to US/Eastern.\n",
    "    df[\"DateReported_dt\"] = (\n",
    "        pd.to_datetime(df[col], unit=\"ms\", errors=\"coerce\", utc=True)\n",
    "        .dt.tz_convert(\"US/Eastern\")\n",
    "    )\n",
    "    \n",
    "    # Create a true datetime column (remove timezone if you prefer naive datetime)\n",
    "    df[\"Date\"] = df[\"DateReported_dt\"].dt.tz_localize(None)\n",
    "\n",
    "    # Optionally, create a separate string-formatted column\n",
    "    df[\"DateString\"] = df[\"DateReported_dt\"].dt.strftime(\"%Y-%m-%d %I:%M:%S %p\")\n",
    "    \n",
    "    # DayOfWeek\n",
    "    df[\"DayOfWeek\"] = df[\"DateReported_dt\"].dt.day_name()\n",
    "    \n",
    "    # Weekend\n",
    "    df[\"Weekend\"] = df[\"DayOfWeek\"].isin([\"Saturday\", \"Sunday\"])\n",
    "    \n",
    "    # Helper function to determine the season\n",
    "    def get_season(dt):\n",
    "        month = dt.month\n",
    "        day = dt.day\n",
    "        # Approximate Northern Hemisphere season boundaries:\n",
    "        if (month == 12 and day >= 21) or (month < 3) or (month == 3 and day < 20):\n",
    "            return \"Winter\"\n",
    "        elif (month == 3 and day >= 20) or (month < 6) or (month == 6 and day < 21):\n",
    "            return \"Spring\"\n",
    "        elif (month == 6 and day >= 21) or (month < 9) or (month == 9 and day < 22):\n",
    "            return \"Summer\"\n",
    "        else:\n",
    "            return \"Autumn\"\n",
    "    \n",
    "    df[\"Season\"] = df[\"DateReported_dt\"].apply(get_season)\n",
    "    \n",
    "    # 12-hour formatted time (HourAMPM)\n",
    "    df[\"HourAMPM\"] = df[\"DateReported_dt\"].dt.strftime(\"%I:%M %p\")\n",
    "    \n",
    "    # Extract hour (0-23) for time-of-day\n",
    "    df[\"HourValue\"] = df[\"DateReported_dt\"].dt.hour\n",
    "    \n",
    "    def time_of_day(hour):\n",
    "        if pd.isnull(hour):\n",
    "            return None\n",
    "        if 5 <= hour < 12:\n",
    "            return \"Morning\"\n",
    "        elif 12 <= hour < 17:\n",
    "            return \"Afternoon\"\n",
    "        elif 17 <= hour < 21:\n",
    "            return \"Evening\"\n",
    "        else:\n",
    "            return \"Night\"\n",
    "    \n",
    "    df[\"TimeOfDay\"] = df[\"HourValue\"].apply(time_of_day)\n",
    "    \n",
    "    # Drop columns you no longer need\n",
    "    df.drop(columns=[col, \"DateReported_dt\", \"HourValue\"], inplace=True)\n",
    "    \n",
    "    return df\n",
    "\n",
    "# Example usage:\n",
    "df = convert_and_categorize_datereported(df)\n",
    "df.head()\n"
   ]
  },
  {
   "cell_type": "code",
   "execution_count": 8,
   "id": "c526eefa",
   "metadata": {
    "execution": {
     "iopub.execute_input": "2025-05-23T01:03:52.283981Z",
     "iopub.status.busy": "2025-05-23T01:03:52.283550Z",
     "iopub.status.idle": "2025-05-23T01:03:52.310606Z",
     "shell.execute_reply": "2025-05-23T01:03:52.310006Z"
    },
    "papermill": {
     "duration": 0.034815,
     "end_time": "2025-05-23T01:03:52.311692",
     "exception": false,
     "start_time": "2025-05-23T01:03:52.276877",
     "status": "completed"
    },
    "tags": []
   },
   "outputs": [
    {
     "name": "stdout",
     "output_type": "stream",
     "text": [
      "<class 'pandas.core.frame.DataFrame'>\n",
      "RangeIndex: 25418 entries, 0 to 25417\n",
      "Data columns (total 15 columns):\n",
      " #   Column            Non-Null Count  Dtype         \n",
      "---  ------            --------------  -----         \n",
      " 0   RecordID          25418 non-null  int64         \n",
      " 1   Offense           25418 non-null  object        \n",
      " 2   IncidentID        25418 non-null  object        \n",
      " 3   BlockNumber       25418 non-null  object        \n",
      " 4   StreetName        25418 non-null  object        \n",
      " 5   Agency            25418 non-null  object        \n",
      " 6   HourReported      25418 non-null  object        \n",
      " 7   ReportingOfficer  25401 non-null  object        \n",
      " 8   Date              25418 non-null  datetime64[ns]\n",
      " 9   DateString        25418 non-null  object        \n",
      " 10  DayOfWeek         25418 non-null  object        \n",
      " 11  Weekend           25418 non-null  bool          \n",
      " 12  Season            25418 non-null  object        \n",
      " 13  HourAMPM          25418 non-null  object        \n",
      " 14  TimeOfDay         25418 non-null  object        \n",
      "dtypes: bool(1), datetime64[ns](1), int64(1), object(12)\n",
      "memory usage: 2.7+ MB\n"
     ]
    }
   ],
   "source": [
    "df.info()"
   ]
  },
  {
   "cell_type": "markdown",
   "id": "1ee00edc",
   "metadata": {
    "papermill": {
     "duration": 0.005959,
     "end_time": "2025-05-23T01:03:52.323810",
     "exception": false,
     "start_time": "2025-05-23T01:03:52.317851",
     "status": "completed"
    },
    "tags": []
   },
   "source": [
    "### Coordinates"
   ]
  },
  {
   "cell_type": "code",
   "execution_count": 9,
   "id": "a32853d8",
   "metadata": {
    "execution": {
     "iopub.execute_input": "2025-05-23T01:03:52.336909Z",
     "iopub.status.busy": "2025-05-23T01:03:52.336436Z",
     "iopub.status.idle": "2025-05-23T01:03:52.729490Z",
     "shell.execute_reply": "2025-05-23T01:03:52.728868Z"
    },
    "papermill": {
     "duration": 0.400827,
     "end_time": "2025-05-23T01:03:52.730564",
     "exception": false,
     "start_time": "2025-05-23T01:03:52.329737",
     "status": "completed"
    },
    "tags": []
   },
   "outputs": [
    {
     "name": "stdout",
     "output_type": "stream",
     "text": [
      "Loaded geocode cache.\n"
     ]
    },
    {
     "name": "stdout",
     "output_type": "stream",
     "text": [
      "Geocoded  6TH ST SE / BELMONT AVE: 38.0258207, -78.4801545\n"
     ]
    },
    {
     "name": "stdout",
     "output_type": "stream",
     "text": [
      "Geocoded 2400 JEFFERSON PARK AVE, B: 38.0233062, -78.5145254\n",
      "Geocode cache updated and saved.\n"
     ]
    },
    {
     "data": {
      "text/html": [
       "<div>\n",
       "<style scoped>\n",
       "    .dataframe tbody tr th:only-of-type {\n",
       "        vertical-align: middle;\n",
       "    }\n",
       "\n",
       "    .dataframe tbody tr th {\n",
       "        vertical-align: top;\n",
       "    }\n",
       "\n",
       "    .dataframe thead th {\n",
       "        text-align: right;\n",
       "    }\n",
       "</style>\n",
       "<table border=\"1\" class=\"dataframe\">\n",
       "  <thead>\n",
       "    <tr style=\"text-align: right;\">\n",
       "      <th></th>\n",
       "      <th>RecordID</th>\n",
       "      <th>Offense</th>\n",
       "      <th>IncidentID</th>\n",
       "      <th>BlockNumber</th>\n",
       "      <th>StreetName</th>\n",
       "      <th>Agency</th>\n",
       "      <th>HourReported</th>\n",
       "      <th>ReportingOfficer</th>\n",
       "      <th>Date</th>\n",
       "      <th>DateString</th>\n",
       "      <th>DayOfWeek</th>\n",
       "      <th>Weekend</th>\n",
       "      <th>Season</th>\n",
       "      <th>HourAMPM</th>\n",
       "      <th>TimeOfDay</th>\n",
       "      <th>FullStreet</th>\n",
       "      <th>lat</th>\n",
       "      <th>lon</th>\n",
       "    </tr>\n",
       "  </thead>\n",
       "  <tbody>\n",
       "    <tr>\n",
       "      <th>0</th>\n",
       "      <td>1</td>\n",
       "      <td>Suspicious Activity</td>\n",
       "      <td>202500017271</td>\n",
       "      <td>700</td>\n",
       "      <td>PROSPECT AVE, E</td>\n",
       "      <td>CPD</td>\n",
       "      <td>2202</td>\n",
       "      <td>Love-Baker, Sydney</td>\n",
       "      <td>2025-05-20 22:02:42</td>\n",
       "      <td>2025-05-20 10:02:42 PM</td>\n",
       "      <td>Tuesday</td>\n",
       "      <td>False</td>\n",
       "      <td>Spring</td>\n",
       "      <td>10:02 PM</td>\n",
       "      <td>Night</td>\n",
       "      <td>700 PROSPECT AVE, E</td>\n",
       "      <td>38.024639</td>\n",
       "      <td>-78.494396</td>\n",
       "    </tr>\n",
       "    <tr>\n",
       "      <th>1</th>\n",
       "      <td>2</td>\n",
       "      <td>Missing Person-adult</td>\n",
       "      <td>202500017248</td>\n",
       "      <td>2000</td>\n",
       "      <td>HOLIDAY DR</td>\n",
       "      <td>CPD</td>\n",
       "      <td>1824</td>\n",
       "      <td>Curry, Brian</td>\n",
       "      <td>2025-05-20 18:24:51</td>\n",
       "      <td>2025-05-20 06:24:51 PM</td>\n",
       "      <td>Tuesday</td>\n",
       "      <td>False</td>\n",
       "      <td>Spring</td>\n",
       "      <td>06:24 PM</td>\n",
       "      <td>Evening</td>\n",
       "      <td>2000 HOLIDAY DR</td>\n",
       "      <td>38.057681</td>\n",
       "      <td>-78.491402</td>\n",
       "    </tr>\n",
       "    <tr>\n",
       "      <th>2</th>\n",
       "      <td>3</td>\n",
       "      <td>Assist Agency - Other</td>\n",
       "      <td>202500017243</td>\n",
       "      <td>600</td>\n",
       "      <td>E WATER ST</td>\n",
       "      <td>CPD</td>\n",
       "      <td>1724</td>\n",
       "      <td>Hudson, Jesse</td>\n",
       "      <td>2025-05-20 17:24:05</td>\n",
       "      <td>2025-05-20 05:24:05 PM</td>\n",
       "      <td>Tuesday</td>\n",
       "      <td>False</td>\n",
       "      <td>Spring</td>\n",
       "      <td>05:24 PM</td>\n",
       "      <td>Evening</td>\n",
       "      <td>600 E WATER ST</td>\n",
       "      <td>38.028757</td>\n",
       "      <td>-78.477608</td>\n",
       "    </tr>\n",
       "    <tr>\n",
       "      <th>3</th>\n",
       "      <td>4</td>\n",
       "      <td>Larceny - Theft from Building</td>\n",
       "      <td>202580000081</td>\n",
       "      <td>200</td>\n",
       "      <td>15TH ST NW</td>\n",
       "      <td>CPD</td>\n",
       "      <td>1722</td>\n",
       "      <td>Moje, Ashley</td>\n",
       "      <td>2025-05-20 17:22:47</td>\n",
       "      <td>2025-05-20 05:22:47 PM</td>\n",
       "      <td>Tuesday</td>\n",
       "      <td>False</td>\n",
       "      <td>Spring</td>\n",
       "      <td>05:22 PM</td>\n",
       "      <td>Evening</td>\n",
       "      <td>200 15TH ST NW</td>\n",
       "      <td>38.035162</td>\n",
       "      <td>-78.499552</td>\n",
       "    </tr>\n",
       "    <tr>\n",
       "      <th>4</th>\n",
       "      <td>5</td>\n",
       "      <td>Misc - Criminal Call</td>\n",
       "      <td>202500017233</td>\n",
       "      <td></td>\n",
       "      <td>FONTAINE AVE / SUMMIT ST</td>\n",
       "      <td>CPD</td>\n",
       "      <td>1609</td>\n",
       "      <td>Carrasco, Julio</td>\n",
       "      <td>2025-05-20 16:09:47</td>\n",
       "      <td>2025-05-20 04:09:47 PM</td>\n",
       "      <td>Tuesday</td>\n",
       "      <td>False</td>\n",
       "      <td>Spring</td>\n",
       "      <td>04:09 PM</td>\n",
       "      <td>Afternoon</td>\n",
       "      <td>FONTAINE AVE / SUMMIT ST</td>\n",
       "      <td>38.026114</td>\n",
       "      <td>-78.520774</td>\n",
       "    </tr>\n",
       "  </tbody>\n",
       "</table>\n",
       "</div>"
      ],
      "text/plain": [
       "   RecordID                        Offense    IncidentID BlockNumber  \\\n",
       "0         1            Suspicious Activity  202500017271         700   \n",
       "1         2           Missing Person-adult  202500017248        2000   \n",
       "2         3          Assist Agency - Other  202500017243         600   \n",
       "3         4  Larceny - Theft from Building  202580000081         200   \n",
       "4         5           Misc - Criminal Call  202500017233               \n",
       "\n",
       "                 StreetName Agency HourReported    ReportingOfficer  \\\n",
       "0           PROSPECT AVE, E    CPD         2202  Love-Baker, Sydney   \n",
       "1                HOLIDAY DR    CPD         1824        Curry, Brian   \n",
       "2                E WATER ST    CPD         1724       Hudson, Jesse   \n",
       "3                15TH ST NW    CPD         1722        Moje, Ashley   \n",
       "4  FONTAINE AVE / SUMMIT ST    CPD         1609     Carrasco, Julio   \n",
       "\n",
       "                 Date              DateString DayOfWeek  Weekend  Season  \\\n",
       "0 2025-05-20 22:02:42  2025-05-20 10:02:42 PM   Tuesday    False  Spring   \n",
       "1 2025-05-20 18:24:51  2025-05-20 06:24:51 PM   Tuesday    False  Spring   \n",
       "2 2025-05-20 17:24:05  2025-05-20 05:24:05 PM   Tuesday    False  Spring   \n",
       "3 2025-05-20 17:22:47  2025-05-20 05:22:47 PM   Tuesday    False  Spring   \n",
       "4 2025-05-20 16:09:47  2025-05-20 04:09:47 PM   Tuesday    False  Spring   \n",
       "\n",
       "   HourAMPM  TimeOfDay                 FullStreet        lat        lon  \n",
       "0  10:02 PM      Night        700 PROSPECT AVE, E  38.024639 -78.494396  \n",
       "1  06:24 PM    Evening            2000 HOLIDAY DR  38.057681 -78.491402  \n",
       "2  05:24 PM    Evening             600 E WATER ST  38.028757 -78.477608  \n",
       "3  05:22 PM    Evening             200 15TH ST NW  38.035162 -78.499552  \n",
       "4  04:09 PM  Afternoon   FONTAINE AVE / SUMMIT ST  38.026114 -78.520774  "
      ]
     },
     "execution_count": 9,
     "metadata": {},
     "output_type": "execute_result"
    }
   ],
   "source": [
    "# Combine BlockNumber and StreetName into a full address string\n",
    "df['FullStreet'] = df['BlockNumber'].astype(str) + \" \" + df['StreetName']\n",
    "\n",
    "# --- Step 1: Setup the Google Maps Client and Cache ---\n",
    "gmaps = googlemaps.Client(key=GOOGLE_API_KEY)\n",
    "\n",
    "# Try to load cached geocoding results if available.\n",
    "try:\n",
    "    with open(\"geocode_cache_google.pkl\", \"rb\") as f:\n",
    "        street_coords = pickle.load(f)\n",
    "    print(\"Loaded geocode cache.\")\n",
    "except FileNotFoundError:\n",
    "    street_coords = {}\n",
    "    print(\"No cache found; starting fresh.\")\n",
    "\n",
    "def geocode_address(address):\n",
    "    try:\n",
    "        # Append city and state to help geocoding\n",
    "        result = gmaps.geocode(f\"{address}, Charlottesville, VA\")\n",
    "        if result:\n",
    "            lat = result[0]['geometry']['location']['lat']\n",
    "            lon = result[0]['geometry']['location']['lng']\n",
    "            return lat, lon\n",
    "    except Exception as e:\n",
    "        print(f\"Error geocoding {address}: {e}\")\n",
    "    return None, None\n",
    "\n",
    "# --- Step 2: Geocode Only New Addresses ---\n",
    "unique_addresses = df['FullStreet'].unique()\n",
    "for address in unique_addresses:\n",
    "    if address not in street_coords:\n",
    "        lat, lon = geocode_address(address)\n",
    "        street_coords[address] = (lat, lon)\n",
    "        print(f\"Geocoded {address}: {lat}, {lon}\")\n",
    "\n",
    "# Save the updated cache to disk.\n",
    "with open(\"geocode_cache_google.pkl\", \"wb\") as f:\n",
    "    pickle.dump(street_coords, f)\n",
    "    print(\"Geocode cache updated and saved.\")\n",
    "\n",
    "# --- Step 3: Map Coordinates Back to DataFrame ---\n",
    "df['lat'] = df['FullStreet'].map(lambda s: street_coords.get(s, (None, None))[0])\n",
    "df['lon'] = df['FullStreet'].map(lambda s: street_coords.get(s, (None, None))[1])\n",
    "\n",
    "df.head()"
   ]
  },
  {
   "cell_type": "markdown",
   "id": "bfca58e5",
   "metadata": {
    "papermill": {
     "duration": 0.006418,
     "end_time": "2025-05-23T01:03:52.743644",
     "exception": false,
     "start_time": "2025-05-23T01:03:52.737226",
     "status": "completed"
    },
    "tags": []
   },
   "source": [
    "### Neighborhood"
   ]
  },
  {
   "cell_type": "code",
   "execution_count": 10,
   "id": "12a855d0",
   "metadata": {
    "execution": {
     "iopub.execute_input": "2025-05-23T01:03:52.757441Z",
     "iopub.status.busy": "2025-05-23T01:03:52.757020Z",
     "iopub.status.idle": "2025-05-23T01:03:53.164211Z",
     "shell.execute_reply": "2025-05-23T01:03:53.163528Z"
    },
    "papermill": {
     "duration": 0.415423,
     "end_time": "2025-05-23T01:03:53.165389",
     "exception": false,
     "start_time": "2025-05-23T01:03:52.749966",
     "status": "completed"
    },
    "tags": []
   },
   "outputs": [
    {
     "name": "stdout",
     "output_type": "stream",
     "text": [
      "Loaded neighborhood cache.\n"
     ]
    },
    {
     "data": {
      "text/html": [
       "<div>\n",
       "<style scoped>\n",
       "    .dataframe tbody tr th:only-of-type {\n",
       "        vertical-align: middle;\n",
       "    }\n",
       "\n",
       "    .dataframe tbody tr th {\n",
       "        vertical-align: top;\n",
       "    }\n",
       "\n",
       "    .dataframe thead th {\n",
       "        text-align: right;\n",
       "    }\n",
       "</style>\n",
       "<table border=\"1\" class=\"dataframe\">\n",
       "  <thead>\n",
       "    <tr style=\"text-align: right;\">\n",
       "      <th></th>\n",
       "      <th>RecordID</th>\n",
       "      <th>Offense</th>\n",
       "      <th>IncidentID</th>\n",
       "      <th>BlockNumber</th>\n",
       "      <th>StreetName</th>\n",
       "      <th>Agency</th>\n",
       "      <th>HourReported</th>\n",
       "      <th>ReportingOfficer</th>\n",
       "      <th>Date</th>\n",
       "      <th>DateString</th>\n",
       "      <th>DayOfWeek</th>\n",
       "      <th>Weekend</th>\n",
       "      <th>Season</th>\n",
       "      <th>HourAMPM</th>\n",
       "      <th>TimeOfDay</th>\n",
       "      <th>FullStreet</th>\n",
       "      <th>lat</th>\n",
       "      <th>lon</th>\n",
       "      <th>neighborhood</th>\n",
       "    </tr>\n",
       "  </thead>\n",
       "  <tbody>\n",
       "    <tr>\n",
       "      <th>0</th>\n",
       "      <td>1</td>\n",
       "      <td>Suspicious Activity</td>\n",
       "      <td>202500017271</td>\n",
       "      <td>700</td>\n",
       "      <td>PROSPECT AVE, E</td>\n",
       "      <td>CPD</td>\n",
       "      <td>2202</td>\n",
       "      <td>Love-Baker, Sydney</td>\n",
       "      <td>2025-05-20 22:02:42</td>\n",
       "      <td>2025-05-20 10:02:42 PM</td>\n",
       "      <td>Tuesday</td>\n",
       "      <td>False</td>\n",
       "      <td>Spring</td>\n",
       "      <td>10:02 PM</td>\n",
       "      <td>Night</td>\n",
       "      <td>700 PROSPECT AVE, E</td>\n",
       "      <td>38.024639</td>\n",
       "      <td>-78.494396</td>\n",
       "      <td>Fifeville</td>\n",
       "    </tr>\n",
       "    <tr>\n",
       "      <th>1</th>\n",
       "      <td>2</td>\n",
       "      <td>Missing Person-adult</td>\n",
       "      <td>202500017248</td>\n",
       "      <td>2000</td>\n",
       "      <td>HOLIDAY DR</td>\n",
       "      <td>CPD</td>\n",
       "      <td>1824</td>\n",
       "      <td>Curry, Brian</td>\n",
       "      <td>2025-05-20 18:24:51</td>\n",
       "      <td>2025-05-20 06:24:51 PM</td>\n",
       "      <td>Tuesday</td>\n",
       "      <td>False</td>\n",
       "      <td>Spring</td>\n",
       "      <td>06:24 PM</td>\n",
       "      <td>Evening</td>\n",
       "      <td>2000 HOLIDAY DR</td>\n",
       "      <td>38.057681</td>\n",
       "      <td>-78.491402</td>\n",
       "      <td>The Meadows</td>\n",
       "    </tr>\n",
       "    <tr>\n",
       "      <th>2</th>\n",
       "      <td>3</td>\n",
       "      <td>Assist Agency - Other</td>\n",
       "      <td>202500017243</td>\n",
       "      <td>600</td>\n",
       "      <td>E WATER ST</td>\n",
       "      <td>CPD</td>\n",
       "      <td>1724</td>\n",
       "      <td>Hudson, Jesse</td>\n",
       "      <td>2025-05-20 17:24:05</td>\n",
       "      <td>2025-05-20 05:24:05 PM</td>\n",
       "      <td>Tuesday</td>\n",
       "      <td>False</td>\n",
       "      <td>Spring</td>\n",
       "      <td>05:24 PM</td>\n",
       "      <td>Evening</td>\n",
       "      <td>600 E WATER ST</td>\n",
       "      <td>38.028757</td>\n",
       "      <td>-78.477608</td>\n",
       "      <td>North Downtown</td>\n",
       "    </tr>\n",
       "    <tr>\n",
       "      <th>3</th>\n",
       "      <td>4</td>\n",
       "      <td>Larceny - Theft from Building</td>\n",
       "      <td>202580000081</td>\n",
       "      <td>200</td>\n",
       "      <td>15TH ST NW</td>\n",
       "      <td>CPD</td>\n",
       "      <td>1722</td>\n",
       "      <td>Moje, Ashley</td>\n",
       "      <td>2025-05-20 17:22:47</td>\n",
       "      <td>2025-05-20 05:22:47 PM</td>\n",
       "      <td>Tuesday</td>\n",
       "      <td>False</td>\n",
       "      <td>Spring</td>\n",
       "      <td>05:22 PM</td>\n",
       "      <td>Evening</td>\n",
       "      <td>200 15TH ST NW</td>\n",
       "      <td>38.035162</td>\n",
       "      <td>-78.499552</td>\n",
       "      <td>Venable</td>\n",
       "    </tr>\n",
       "    <tr>\n",
       "      <th>4</th>\n",
       "      <td>5</td>\n",
       "      <td>Misc - Criminal Call</td>\n",
       "      <td>202500017233</td>\n",
       "      <td></td>\n",
       "      <td>FONTAINE AVE / SUMMIT ST</td>\n",
       "      <td>CPD</td>\n",
       "      <td>1609</td>\n",
       "      <td>Carrasco, Julio</td>\n",
       "      <td>2025-05-20 16:09:47</td>\n",
       "      <td>2025-05-20 04:09:47 PM</td>\n",
       "      <td>Tuesday</td>\n",
       "      <td>False</td>\n",
       "      <td>Spring</td>\n",
       "      <td>04:09 PM</td>\n",
       "      <td>Afternoon</td>\n",
       "      <td>FONTAINE AVE / SUMMIT ST</td>\n",
       "      <td>38.026114</td>\n",
       "      <td>-78.520774</td>\n",
       "      <td>Jefferson Park Avenue</td>\n",
       "    </tr>\n",
       "  </tbody>\n",
       "</table>\n",
       "</div>"
      ],
      "text/plain": [
       "   RecordID                        Offense    IncidentID BlockNumber  \\\n",
       "0         1            Suspicious Activity  202500017271         700   \n",
       "1         2           Missing Person-adult  202500017248        2000   \n",
       "2         3          Assist Agency - Other  202500017243         600   \n",
       "3         4  Larceny - Theft from Building  202580000081         200   \n",
       "4         5           Misc - Criminal Call  202500017233               \n",
       "\n",
       "                 StreetName Agency HourReported    ReportingOfficer  \\\n",
       "0           PROSPECT AVE, E    CPD         2202  Love-Baker, Sydney   \n",
       "1                HOLIDAY DR    CPD         1824        Curry, Brian   \n",
       "2                E WATER ST    CPD         1724       Hudson, Jesse   \n",
       "3                15TH ST NW    CPD         1722        Moje, Ashley   \n",
       "4  FONTAINE AVE / SUMMIT ST    CPD         1609     Carrasco, Julio   \n",
       "\n",
       "                 Date              DateString DayOfWeek  Weekend  Season  \\\n",
       "0 2025-05-20 22:02:42  2025-05-20 10:02:42 PM   Tuesday    False  Spring   \n",
       "1 2025-05-20 18:24:51  2025-05-20 06:24:51 PM   Tuesday    False  Spring   \n",
       "2 2025-05-20 17:24:05  2025-05-20 05:24:05 PM   Tuesday    False  Spring   \n",
       "3 2025-05-20 17:22:47  2025-05-20 05:22:47 PM   Tuesday    False  Spring   \n",
       "4 2025-05-20 16:09:47  2025-05-20 04:09:47 PM   Tuesday    False  Spring   \n",
       "\n",
       "   HourAMPM  TimeOfDay                 FullStreet        lat        lon  \\\n",
       "0  10:02 PM      Night        700 PROSPECT AVE, E  38.024639 -78.494396   \n",
       "1  06:24 PM    Evening            2000 HOLIDAY DR  38.057681 -78.491402   \n",
       "2  05:24 PM    Evening             600 E WATER ST  38.028757 -78.477608   \n",
       "3  05:22 PM    Evening             200 15TH ST NW  38.035162 -78.499552   \n",
       "4  04:09 PM  Afternoon   FONTAINE AVE / SUMMIT ST  38.026114 -78.520774   \n",
       "\n",
       "            neighborhood  \n",
       "0              Fifeville  \n",
       "1            The Meadows  \n",
       "2         North Downtown  \n",
       "3                Venable  \n",
       "4  Jefferson Park Avenue  "
      ]
     },
     "execution_count": 10,
     "metadata": {},
     "output_type": "execute_result"
    }
   ],
   "source": [
    "# Initialize the Google Maps client.\n",
    "gmaps = googlemaps.Client(key=GOOGLE_API_KEY)\n",
    "\n",
    "# Try to load a persistent neighborhood cache if available.\n",
    "try:\n",
    "    with open(\"neighborhood_cache.pkl\", \"rb\") as f:\n",
    "        neighborhood_cache = pickle.load(f)\n",
    "    print(\"Loaded neighborhood cache.\")\n",
    "except FileNotFoundError:\n",
    "    neighborhood_cache = {}\n",
    "    print(\"No neighborhood cache found; starting fresh.\")\n",
    "\n",
    "def get_neighborhood(lat, lon):\n",
    "    \"\"\"\n",
    "    Reverse geocodes a latitude and longitude to retrieve the neighborhood.\n",
    "    Caches results to speed up subsequent lookups.\n",
    "    \"\"\"\n",
    "    key = (lat, lon)\n",
    "    if key in neighborhood_cache:\n",
    "        return neighborhood_cache[key]\n",
    "    \n",
    "    try:\n",
    "        result = gmaps.reverse_geocode((lat, lon))\n",
    "        if result:\n",
    "            # Look for the 'neighborhood' component in the first result.\n",
    "            for component in result[0]['address_components']:\n",
    "                if 'neighborhood' in component['types']:\n",
    "                    neighborhood = component['long_name']\n",
    "                    neighborhood_cache[key] = neighborhood\n",
    "                    return neighborhood\n",
    "            # If no neighborhood is found, return \"N/A\"\n",
    "            neighborhood_cache[key] = \"N/A\"\n",
    "            return \"N/A\"\n",
    "    except Exception as e:\n",
    "        print(f\"Error getting neighborhood for {lat}, {lon}: {e}\")\n",
    "        return \"N/A\"\n",
    "    \n",
    "    # Pause to respect usage limits.\n",
    "    time.sleep(1)\n",
    "\n",
    "# Example usage: Apply to your DataFrame 'df' that already has 'lat' and 'lon' columns.\n",
    "df['neighborhood'] = df.apply(lambda row: get_neighborhood(row['lat'], row['lon']), axis=1)\n",
    "\n",
    "# Save the updated neighborhood cache.\n",
    "with open(\"neighborhood_cache.pkl\", \"wb\") as f:\n",
    "    pickle.dump(neighborhood_cache, f)\n",
    "\n",
    "df.head()\n"
   ]
  },
  {
   "cell_type": "markdown",
   "id": "acc56a51",
   "metadata": {
    "papermill": {
     "duration": 0.006598,
     "end_time": "2025-05-23T01:03:53.178991",
     "exception": false,
     "start_time": "2025-05-23T01:03:53.172393",
     "status": "completed"
    },
    "tags": []
   },
   "source": [
    "### Zip"
   ]
  },
  {
   "cell_type": "code",
   "execution_count": 11,
   "id": "1f8b2185",
   "metadata": {
    "execution": {
     "iopub.execute_input": "2025-05-23T01:03:53.193303Z",
     "iopub.status.busy": "2025-05-23T01:03:53.192752Z",
     "iopub.status.idle": "2025-05-23T01:03:54.906493Z",
     "shell.execute_reply": "2025-05-23T01:03:54.905836Z"
    },
    "papermill": {
     "duration": 1.722167,
     "end_time": "2025-05-23T01:03:54.907661",
     "exception": false,
     "start_time": "2025-05-23T01:03:53.185494",
     "status": "completed"
    },
    "tags": []
   },
   "outputs": [
    {
     "name": "stdout",
     "output_type": "stream",
     "text": [
      "Loaded zip cache.\n"
     ]
    },
    {
     "data": {
      "text/html": [
       "<div>\n",
       "<style scoped>\n",
       "    .dataframe tbody tr th:only-of-type {\n",
       "        vertical-align: middle;\n",
       "    }\n",
       "\n",
       "    .dataframe tbody tr th {\n",
       "        vertical-align: top;\n",
       "    }\n",
       "\n",
       "    .dataframe thead th {\n",
       "        text-align: right;\n",
       "    }\n",
       "</style>\n",
       "<table border=\"1\" class=\"dataframe\">\n",
       "  <thead>\n",
       "    <tr style=\"text-align: right;\">\n",
       "      <th></th>\n",
       "      <th>RecordID</th>\n",
       "      <th>Offense</th>\n",
       "      <th>IncidentID</th>\n",
       "      <th>BlockNumber</th>\n",
       "      <th>StreetName</th>\n",
       "      <th>Agency</th>\n",
       "      <th>HourReported</th>\n",
       "      <th>ReportingOfficer</th>\n",
       "      <th>Date</th>\n",
       "      <th>DateString</th>\n",
       "      <th>DayOfWeek</th>\n",
       "      <th>Weekend</th>\n",
       "      <th>Season</th>\n",
       "      <th>HourAMPM</th>\n",
       "      <th>TimeOfDay</th>\n",
       "      <th>FullStreet</th>\n",
       "      <th>lat</th>\n",
       "      <th>lon</th>\n",
       "      <th>neighborhood</th>\n",
       "      <th>zip</th>\n",
       "    </tr>\n",
       "  </thead>\n",
       "  <tbody>\n",
       "    <tr>\n",
       "      <th>0</th>\n",
       "      <td>1</td>\n",
       "      <td>Suspicious Activity</td>\n",
       "      <td>202500017271</td>\n",
       "      <td>700</td>\n",
       "      <td>PROSPECT AVE, E</td>\n",
       "      <td>CPD</td>\n",
       "      <td>2202</td>\n",
       "      <td>Love-Baker, Sydney</td>\n",
       "      <td>2025-05-20 22:02:42</td>\n",
       "      <td>2025-05-20 10:02:42 PM</td>\n",
       "      <td>Tuesday</td>\n",
       "      <td>False</td>\n",
       "      <td>Spring</td>\n",
       "      <td>10:02 PM</td>\n",
       "      <td>Night</td>\n",
       "      <td>700 PROSPECT AVE, E</td>\n",
       "      <td>38.024639</td>\n",
       "      <td>-78.494396</td>\n",
       "      <td>Fifeville</td>\n",
       "      <td>22903</td>\n",
       "    </tr>\n",
       "    <tr>\n",
       "      <th>1</th>\n",
       "      <td>2</td>\n",
       "      <td>Missing Person-adult</td>\n",
       "      <td>202500017248</td>\n",
       "      <td>2000</td>\n",
       "      <td>HOLIDAY DR</td>\n",
       "      <td>CPD</td>\n",
       "      <td>1824</td>\n",
       "      <td>Curry, Brian</td>\n",
       "      <td>2025-05-20 18:24:51</td>\n",
       "      <td>2025-05-20 06:24:51 PM</td>\n",
       "      <td>Tuesday</td>\n",
       "      <td>False</td>\n",
       "      <td>Spring</td>\n",
       "      <td>06:24 PM</td>\n",
       "      <td>Evening</td>\n",
       "      <td>2000 HOLIDAY DR</td>\n",
       "      <td>38.057681</td>\n",
       "      <td>-78.491402</td>\n",
       "      <td>The Meadows</td>\n",
       "      <td>22901</td>\n",
       "    </tr>\n",
       "    <tr>\n",
       "      <th>2</th>\n",
       "      <td>3</td>\n",
       "      <td>Assist Agency - Other</td>\n",
       "      <td>202500017243</td>\n",
       "      <td>600</td>\n",
       "      <td>E WATER ST</td>\n",
       "      <td>CPD</td>\n",
       "      <td>1724</td>\n",
       "      <td>Hudson, Jesse</td>\n",
       "      <td>2025-05-20 17:24:05</td>\n",
       "      <td>2025-05-20 05:24:05 PM</td>\n",
       "      <td>Tuesday</td>\n",
       "      <td>False</td>\n",
       "      <td>Spring</td>\n",
       "      <td>05:24 PM</td>\n",
       "      <td>Evening</td>\n",
       "      <td>600 E WATER ST</td>\n",
       "      <td>38.028757</td>\n",
       "      <td>-78.477608</td>\n",
       "      <td>North Downtown</td>\n",
       "      <td>22902</td>\n",
       "    </tr>\n",
       "    <tr>\n",
       "      <th>3</th>\n",
       "      <td>4</td>\n",
       "      <td>Larceny - Theft from Building</td>\n",
       "      <td>202580000081</td>\n",
       "      <td>200</td>\n",
       "      <td>15TH ST NW</td>\n",
       "      <td>CPD</td>\n",
       "      <td>1722</td>\n",
       "      <td>Moje, Ashley</td>\n",
       "      <td>2025-05-20 17:22:47</td>\n",
       "      <td>2025-05-20 05:22:47 PM</td>\n",
       "      <td>Tuesday</td>\n",
       "      <td>False</td>\n",
       "      <td>Spring</td>\n",
       "      <td>05:22 PM</td>\n",
       "      <td>Evening</td>\n",
       "      <td>200 15TH ST NW</td>\n",
       "      <td>38.035162</td>\n",
       "      <td>-78.499552</td>\n",
       "      <td>Venable</td>\n",
       "      <td>22903</td>\n",
       "    </tr>\n",
       "    <tr>\n",
       "      <th>4</th>\n",
       "      <td>5</td>\n",
       "      <td>Misc - Criminal Call</td>\n",
       "      <td>202500017233</td>\n",
       "      <td></td>\n",
       "      <td>FONTAINE AVE / SUMMIT ST</td>\n",
       "      <td>CPD</td>\n",
       "      <td>1609</td>\n",
       "      <td>Carrasco, Julio</td>\n",
       "      <td>2025-05-20 16:09:47</td>\n",
       "      <td>2025-05-20 04:09:47 PM</td>\n",
       "      <td>Tuesday</td>\n",
       "      <td>False</td>\n",
       "      <td>Spring</td>\n",
       "      <td>04:09 PM</td>\n",
       "      <td>Afternoon</td>\n",
       "      <td>FONTAINE AVE / SUMMIT ST</td>\n",
       "      <td>38.026114</td>\n",
       "      <td>-78.520774</td>\n",
       "      <td>Jefferson Park Avenue</td>\n",
       "      <td>22903</td>\n",
       "    </tr>\n",
       "  </tbody>\n",
       "</table>\n",
       "</div>"
      ],
      "text/plain": [
       "   RecordID                        Offense    IncidentID BlockNumber  \\\n",
       "0         1            Suspicious Activity  202500017271         700   \n",
       "1         2           Missing Person-adult  202500017248        2000   \n",
       "2         3          Assist Agency - Other  202500017243         600   \n",
       "3         4  Larceny - Theft from Building  202580000081         200   \n",
       "4         5           Misc - Criminal Call  202500017233               \n",
       "\n",
       "                 StreetName Agency HourReported    ReportingOfficer  \\\n",
       "0           PROSPECT AVE, E    CPD         2202  Love-Baker, Sydney   \n",
       "1                HOLIDAY DR    CPD         1824        Curry, Brian   \n",
       "2                E WATER ST    CPD         1724       Hudson, Jesse   \n",
       "3                15TH ST NW    CPD         1722        Moje, Ashley   \n",
       "4  FONTAINE AVE / SUMMIT ST    CPD         1609     Carrasco, Julio   \n",
       "\n",
       "                 Date              DateString DayOfWeek  Weekend  Season  \\\n",
       "0 2025-05-20 22:02:42  2025-05-20 10:02:42 PM   Tuesday    False  Spring   \n",
       "1 2025-05-20 18:24:51  2025-05-20 06:24:51 PM   Tuesday    False  Spring   \n",
       "2 2025-05-20 17:24:05  2025-05-20 05:24:05 PM   Tuesday    False  Spring   \n",
       "3 2025-05-20 17:22:47  2025-05-20 05:22:47 PM   Tuesday    False  Spring   \n",
       "4 2025-05-20 16:09:47  2025-05-20 04:09:47 PM   Tuesday    False  Spring   \n",
       "\n",
       "   HourAMPM  TimeOfDay                 FullStreet        lat        lon  \\\n",
       "0  10:02 PM      Night        700 PROSPECT AVE, E  38.024639 -78.494396   \n",
       "1  06:24 PM    Evening            2000 HOLIDAY DR  38.057681 -78.491402   \n",
       "2  05:24 PM    Evening             600 E WATER ST  38.028757 -78.477608   \n",
       "3  05:22 PM    Evening             200 15TH ST NW  38.035162 -78.499552   \n",
       "4  04:09 PM  Afternoon   FONTAINE AVE / SUMMIT ST  38.026114 -78.520774   \n",
       "\n",
       "            neighborhood    zip  \n",
       "0              Fifeville  22903  \n",
       "1            The Meadows  22901  \n",
       "2         North Downtown  22902  \n",
       "3                Venable  22903  \n",
       "4  Jefferson Park Avenue  22903  "
      ]
     },
     "execution_count": 11,
     "metadata": {},
     "output_type": "execute_result"
    }
   ],
   "source": [
    "# Initialize the geocoder.\n",
    "geolocator = Nominatim(user_agent=\"zip_lookup\")\n",
    "\n",
    "# Try to load a persistent ZIP cache if available.\n",
    "try:\n",
    "    with open(\"zip_cache.pkl\", \"rb\") as f:\n",
    "        zip_cache = pickle.load(f)\n",
    "    print(\"Loaded zip cache.\")\n",
    "except FileNotFoundError:\n",
    "    zip_cache = {}\n",
    "    print(\"No zip cache found; starting fresh.\")\n",
    "\n",
    "def get_zip(lat, lon):\n",
    "    \"\"\"\n",
    "    Reverse geocodes a latitude and longitude to retrieve the ZIP code.\n",
    "    Caches results to speed up subsequent lookups.\n",
    "    \"\"\"\n",
    "    key = (lat, lon)\n",
    "    if key in zip_cache:\n",
    "        return zip_cache[key]\n",
    "    \n",
    "    try:\n",
    "        location = geolocator.reverse((lat, lon), exactly_one=True, timeout=10)\n",
    "        address = location.raw.get('address', {})\n",
    "        postal_code = address.get('postcode', \"N/A\")\n",
    "    except Exception as e:\n",
    "        print(f\"Error getting ZIP for {lat}, {lon}: {e}\")\n",
    "        postal_code = \"N/A\"\n",
    "    \n",
    "    zip_cache[key] = postal_code\n",
    "    # Pause to respect the usage policy.\n",
    "    time.sleep(1)\n",
    "    return postal_code\n",
    "\n",
    "# Apply the function to each row in the DataFrame.\n",
    "df['zip'] = df.apply(lambda row: get_zip(row['lat'], row['lon']), axis=1)\n",
    "\n",
    "# Save the updated ZIP cache.\n",
    "with open(\"zip_cache.pkl\", \"wb\") as f:\n",
    "    pickle.dump(zip_cache, f)\n",
    "\n",
    "df.head()\n"
   ]
  },
  {
   "cell_type": "code",
   "execution_count": 12,
   "id": "8080fe98",
   "metadata": {
    "execution": {
     "iopub.execute_input": "2025-05-23T01:03:54.923006Z",
     "iopub.status.busy": "2025-05-23T01:03:54.922517Z",
     "iopub.status.idle": "2025-05-23T01:03:54.952250Z",
     "shell.execute_reply": "2025-05-23T01:03:54.951588Z"
    },
    "papermill": {
     "duration": 0.038347,
     "end_time": "2025-05-23T01:03:54.953301",
     "exception": false,
     "start_time": "2025-05-23T01:03:54.914954",
     "status": "completed"
    },
    "tags": []
   },
   "outputs": [
    {
     "name": "stdout",
     "output_type": "stream",
     "text": [
      "                  MissingCount  MissingPercentage\n",
      "RecordID                     0               0.00\n",
      "Offense                      0               0.00\n",
      "IncidentID                   0               0.00\n",
      "BlockNumber                  0               0.00\n",
      "StreetName                   0               0.00\n",
      "Agency                       0               0.00\n",
      "HourReported                 0               0.00\n",
      "ReportingOfficer            17               0.07\n",
      "Date                         0               0.00\n",
      "DateString                   0               0.00\n",
      "DayOfWeek                    0               0.00\n",
      "Weekend                      0               0.00\n",
      "Season                       0               0.00\n",
      "HourAMPM                     0               0.00\n",
      "TimeOfDay                    0               0.00\n",
      "FullStreet                   0               0.00\n",
      "lat                          0               0.00\n",
      "lon                          0               0.00\n",
      "neighborhood                 0               0.00\n",
      "zip                          0               0.00\n"
     ]
    }
   ],
   "source": [
    "missing_info = missing_percentage(df)\n",
    "print(missing_info)\n"
   ]
  },
  {
   "cell_type": "code",
   "execution_count": 13,
   "id": "413d9f0a",
   "metadata": {
    "execution": {
     "iopub.execute_input": "2025-05-23T01:03:54.968358Z",
     "iopub.status.busy": "2025-05-23T01:03:54.967944Z",
     "iopub.status.idle": "2025-05-23T01:03:54.995961Z",
     "shell.execute_reply": "2025-05-23T01:03:54.995315Z"
    },
    "papermill": {
     "duration": 0.036789,
     "end_time": "2025-05-23T01:03:54.997063",
     "exception": false,
     "start_time": "2025-05-23T01:03:54.960274",
     "status": "completed"
    },
    "tags": []
   },
   "outputs": [
    {
     "name": "stdout",
     "output_type": "stream",
     "text": [
      "<class 'pandas.core.frame.DataFrame'>\n",
      "RangeIndex: 25418 entries, 0 to 25417\n",
      "Data columns (total 20 columns):\n",
      " #   Column            Non-Null Count  Dtype         \n",
      "---  ------            --------------  -----         \n",
      " 0   RecordID          25418 non-null  int64         \n",
      " 1   Offense           25418 non-null  object        \n",
      " 2   IncidentID        25418 non-null  object        \n",
      " 3   BlockNumber       25418 non-null  object        \n",
      " 4   StreetName        25418 non-null  object        \n",
      " 5   Agency            25418 non-null  object        \n",
      " 6   HourReported      25418 non-null  object        \n",
      " 7   ReportingOfficer  25401 non-null  object        \n",
      " 8   Date              25418 non-null  datetime64[ns]\n",
      " 9   DateString        25418 non-null  object        \n",
      " 10  DayOfWeek         25418 non-null  object        \n",
      " 11  Weekend           25418 non-null  bool          \n",
      " 12  Season            25418 non-null  object        \n",
      " 13  HourAMPM          25418 non-null  object        \n",
      " 14  TimeOfDay         25418 non-null  object        \n",
      " 15  FullStreet        25418 non-null  object        \n",
      " 16  lat               25418 non-null  float64       \n",
      " 17  lon               25418 non-null  float64       \n",
      " 18  neighborhood      25418 non-null  object        \n",
      " 19  zip               25418 non-null  object        \n",
      "dtypes: bool(1), datetime64[ns](1), float64(2), int64(1), object(15)\n",
      "memory usage: 3.7+ MB\n"
     ]
    }
   ],
   "source": [
    "df.info()"
   ]
  },
  {
   "cell_type": "code",
   "execution_count": 14,
   "id": "30424a4e",
   "metadata": {
    "execution": {
     "iopub.execute_input": "2025-05-23T01:03:55.012443Z",
     "iopub.status.busy": "2025-05-23T01:03:55.012046Z",
     "iopub.status.idle": "2025-05-23T01:03:55.055102Z",
     "shell.execute_reply": "2025-05-23T01:03:55.054429Z"
    },
    "papermill": {
     "duration": 0.051895,
     "end_time": "2025-05-23T01:03:55.056196",
     "exception": false,
     "start_time": "2025-05-23T01:03:55.004301",
     "status": "completed"
    },
    "tags": []
   },
   "outputs": [
    {
     "data": {
      "text/html": [
       "<div>\n",
       "<style scoped>\n",
       "    .dataframe tbody tr th:only-of-type {\n",
       "        vertical-align: middle;\n",
       "    }\n",
       "\n",
       "    .dataframe tbody tr th {\n",
       "        vertical-align: top;\n",
       "    }\n",
       "\n",
       "    .dataframe thead th {\n",
       "        text-align: right;\n",
       "    }\n",
       "</style>\n",
       "<table border=\"1\" class=\"dataframe\">\n",
       "  <thead>\n",
       "    <tr style=\"text-align: right;\">\n",
       "      <th></th>\n",
       "      <th>RecordID</th>\n",
       "      <th>Offense</th>\n",
       "      <th>IncidentID</th>\n",
       "      <th>Agency</th>\n",
       "      <th>ReportingOfficer</th>\n",
       "      <th>Date</th>\n",
       "      <th>DayOfWeek</th>\n",
       "      <th>Weekend</th>\n",
       "      <th>Season</th>\n",
       "      <th>TimeOfDay</th>\n",
       "      <th>FullStreet</th>\n",
       "      <th>lat</th>\n",
       "      <th>lon</th>\n",
       "      <th>neighborhood</th>\n",
       "      <th>zip</th>\n",
       "    </tr>\n",
       "  </thead>\n",
       "  <tbody>\n",
       "    <tr>\n",
       "      <th>0</th>\n",
       "      <td>1</td>\n",
       "      <td>Suspicious Activity</td>\n",
       "      <td>202500017271</td>\n",
       "      <td>CPD</td>\n",
       "      <td>Love-Baker, Sydney</td>\n",
       "      <td>2025-05-20 22:02:42</td>\n",
       "      <td>Tuesday</td>\n",
       "      <td>False</td>\n",
       "      <td>Spring</td>\n",
       "      <td>Night</td>\n",
       "      <td>700 PROSPECT AVE, E</td>\n",
       "      <td>38.024639</td>\n",
       "      <td>-78.494396</td>\n",
       "      <td>Fifeville</td>\n",
       "      <td>22903</td>\n",
       "    </tr>\n",
       "    <tr>\n",
       "      <th>1</th>\n",
       "      <td>2</td>\n",
       "      <td>Missing Person-adult</td>\n",
       "      <td>202500017248</td>\n",
       "      <td>CPD</td>\n",
       "      <td>Curry, Brian</td>\n",
       "      <td>2025-05-20 18:24:51</td>\n",
       "      <td>Tuesday</td>\n",
       "      <td>False</td>\n",
       "      <td>Spring</td>\n",
       "      <td>Evening</td>\n",
       "      <td>2000 HOLIDAY DR</td>\n",
       "      <td>38.057681</td>\n",
       "      <td>-78.491402</td>\n",
       "      <td>The Meadows</td>\n",
       "      <td>22901</td>\n",
       "    </tr>\n",
       "    <tr>\n",
       "      <th>2</th>\n",
       "      <td>3</td>\n",
       "      <td>Assist Agency - Other</td>\n",
       "      <td>202500017243</td>\n",
       "      <td>CPD</td>\n",
       "      <td>Hudson, Jesse</td>\n",
       "      <td>2025-05-20 17:24:05</td>\n",
       "      <td>Tuesday</td>\n",
       "      <td>False</td>\n",
       "      <td>Spring</td>\n",
       "      <td>Evening</td>\n",
       "      <td>600 E WATER ST</td>\n",
       "      <td>38.028757</td>\n",
       "      <td>-78.477608</td>\n",
       "      <td>North Downtown</td>\n",
       "      <td>22902</td>\n",
       "    </tr>\n",
       "    <tr>\n",
       "      <th>3</th>\n",
       "      <td>4</td>\n",
       "      <td>Larceny - Theft from Building</td>\n",
       "      <td>202580000081</td>\n",
       "      <td>CPD</td>\n",
       "      <td>Moje, Ashley</td>\n",
       "      <td>2025-05-20 17:22:47</td>\n",
       "      <td>Tuesday</td>\n",
       "      <td>False</td>\n",
       "      <td>Spring</td>\n",
       "      <td>Evening</td>\n",
       "      <td>200 15TH ST NW</td>\n",
       "      <td>38.035162</td>\n",
       "      <td>-78.499552</td>\n",
       "      <td>Venable</td>\n",
       "      <td>22903</td>\n",
       "    </tr>\n",
       "    <tr>\n",
       "      <th>4</th>\n",
       "      <td>5</td>\n",
       "      <td>Misc - Criminal Call</td>\n",
       "      <td>202500017233</td>\n",
       "      <td>CPD</td>\n",
       "      <td>Carrasco, Julio</td>\n",
       "      <td>2025-05-20 16:09:47</td>\n",
       "      <td>Tuesday</td>\n",
       "      <td>False</td>\n",
       "      <td>Spring</td>\n",
       "      <td>Afternoon</td>\n",
       "      <td>FONTAINE AVE / SUMMIT ST</td>\n",
       "      <td>38.026114</td>\n",
       "      <td>-78.520774</td>\n",
       "      <td>Jefferson Park Avenue</td>\n",
       "      <td>22903</td>\n",
       "    </tr>\n",
       "  </tbody>\n",
       "</table>\n",
       "</div>"
      ],
      "text/plain": [
       "   RecordID                        Offense    IncidentID Agency  \\\n",
       "0         1            Suspicious Activity  202500017271    CPD   \n",
       "1         2           Missing Person-adult  202500017248    CPD   \n",
       "2         3          Assist Agency - Other  202500017243    CPD   \n",
       "3         4  Larceny - Theft from Building  202580000081    CPD   \n",
       "4         5           Misc - Criminal Call  202500017233    CPD   \n",
       "\n",
       "     ReportingOfficer                Date DayOfWeek  Weekend  Season  \\\n",
       "0  Love-Baker, Sydney 2025-05-20 22:02:42   Tuesday    False  Spring   \n",
       "1        Curry, Brian 2025-05-20 18:24:51   Tuesday    False  Spring   \n",
       "2       Hudson, Jesse 2025-05-20 17:24:05   Tuesday    False  Spring   \n",
       "3        Moje, Ashley 2025-05-20 17:22:47   Tuesday    False  Spring   \n",
       "4     Carrasco, Julio 2025-05-20 16:09:47   Tuesday    False  Spring   \n",
       "\n",
       "   TimeOfDay                 FullStreet        lat        lon  \\\n",
       "0      Night        700 PROSPECT AVE, E  38.024639 -78.494396   \n",
       "1    Evening            2000 HOLIDAY DR  38.057681 -78.491402   \n",
       "2    Evening             600 E WATER ST  38.028757 -78.477608   \n",
       "3    Evening             200 15TH ST NW  38.035162 -78.499552   \n",
       "4  Afternoon   FONTAINE AVE / SUMMIT ST  38.026114 -78.520774   \n",
       "\n",
       "            neighborhood    zip  \n",
       "0              Fifeville  22903  \n",
       "1            The Meadows  22901  \n",
       "2         North Downtown  22902  \n",
       "3                Venable  22903  \n",
       "4  Jefferson Park Avenue  22903  "
      ]
     },
     "execution_count": 14,
     "metadata": {},
     "output_type": "execute_result"
    }
   ],
   "source": [
    "# Now drop the original BlockNumber and StreetName columns\n",
    "df.drop(columns=['BlockNumber', 'StreetName','HourAMPM','HourReported','DateString'], inplace=True)\n",
    "df[\"zip\"] = df[\"zip\"].astype(str)\n",
    "\n",
    "# Fill all missing values in the DataFrame with \"N/A\"\n",
    "df.replace({None: \"N/A\", np.nan: \"N/A\", \"\": \"N/A\"}, inplace=True)\n",
    "df.head()"
   ]
  },
  {
   "cell_type": "code",
   "execution_count": 15,
   "id": "34e7752b",
   "metadata": {
    "execution": {
     "iopub.execute_input": "2025-05-23T01:03:55.072576Z",
     "iopub.status.busy": "2025-05-23T01:03:55.072058Z",
     "iopub.status.idle": "2025-05-23T01:03:55.091477Z",
     "shell.execute_reply": "2025-05-23T01:03:55.090819Z"
    },
    "papermill": {
     "duration": 0.028631,
     "end_time": "2025-05-23T01:03:55.092601",
     "exception": false,
     "start_time": "2025-05-23T01:03:55.063970",
     "status": "completed"
    },
    "tags": []
   },
   "outputs": [
    {
     "name": "stdout",
     "output_type": "stream",
     "text": [
      "                  MissingCount  MissingPercentage\n",
      "RecordID                     0                0.0\n",
      "Offense                      0                0.0\n",
      "IncidentID                   0                0.0\n",
      "Agency                       0                0.0\n",
      "ReportingOfficer             0                0.0\n",
      "Date                         0                0.0\n",
      "DayOfWeek                    0                0.0\n",
      "Weekend                      0                0.0\n",
      "Season                       0                0.0\n",
      "TimeOfDay                    0                0.0\n",
      "FullStreet                   0                0.0\n",
      "lat                          0                0.0\n",
      "lon                          0                0.0\n",
      "neighborhood                 0                0.0\n",
      "zip                          0                0.0\n"
     ]
    }
   ],
   "source": [
    "missing_info = missing_percentage(df)\n",
    "print(missing_info)"
   ]
  },
  {
   "cell_type": "code",
   "execution_count": 16,
   "id": "0b314161",
   "metadata": {
    "execution": {
     "iopub.execute_input": "2025-05-23T01:03:55.108464Z",
     "iopub.status.busy": "2025-05-23T01:03:55.107953Z",
     "iopub.status.idle": "2025-05-23T01:03:55.112422Z",
     "shell.execute_reply": "2025-05-23T01:03:55.111881Z"
    },
    "papermill": {
     "duration": 0.013408,
     "end_time": "2025-05-23T01:03:55.113420",
     "exception": false,
     "start_time": "2025-05-23T01:03:55.100012",
     "status": "completed"
    },
    "tags": []
   },
   "outputs": [
    {
     "data": {
      "text/plain": [
       "Index(['RecordID', 'Offense', 'IncidentID', 'Agency', 'ReportingOfficer',\n",
       "       'Date', 'DayOfWeek', 'Weekend', 'Season', 'TimeOfDay', 'FullStreet',\n",
       "       'lat', 'lon', 'neighborhood', 'zip'],\n",
       "      dtype='object')"
      ]
     },
     "execution_count": 16,
     "metadata": {},
     "output_type": "execute_result"
    }
   ],
   "source": [
    "df.columns"
   ]
  },
  {
   "cell_type": "code",
   "execution_count": 17,
   "id": "c2a40daf",
   "metadata": {
    "execution": {
     "iopub.execute_input": "2025-05-23T01:03:55.129269Z",
     "iopub.status.busy": "2025-05-23T01:03:55.128991Z",
     "iopub.status.idle": "2025-05-23T01:03:55.150515Z",
     "shell.execute_reply": "2025-05-23T01:03:55.149924Z"
    },
    "papermill": {
     "duration": 0.030595,
     "end_time": "2025-05-23T01:03:55.151528",
     "exception": false,
     "start_time": "2025-05-23T01:03:55.120933",
     "status": "completed"
    },
    "tags": []
   },
   "outputs": [
    {
     "name": "stdout",
     "output_type": "stream",
     "text": [
      "<class 'pandas.core.frame.DataFrame'>\n",
      "RangeIndex: 25418 entries, 0 to 25417\n",
      "Data columns (total 15 columns):\n",
      " #   Column            Non-Null Count  Dtype         \n",
      "---  ------            --------------  -----         \n",
      " 0   RecordID          25418 non-null  int64         \n",
      " 1   Offense           25418 non-null  object        \n",
      " 2   IncidentID        25418 non-null  object        \n",
      " 3   Agency            25418 non-null  object        \n",
      " 4   ReportingOfficer  25418 non-null  object        \n",
      " 5   Date              25418 non-null  datetime64[ns]\n",
      " 6   DayOfWeek         25418 non-null  object        \n",
      " 7   Weekend           25418 non-null  bool          \n",
      " 8   Season            25418 non-null  object        \n",
      " 9   TimeOfDay         25418 non-null  object        \n",
      " 10  FullStreet        25418 non-null  object        \n",
      " 11  lat               25418 non-null  float64       \n",
      " 12  lon               25418 non-null  float64       \n",
      " 13  neighborhood      25418 non-null  object        \n",
      " 14  zip               25418 non-null  object        \n",
      "dtypes: bool(1), datetime64[ns](1), float64(2), int64(1), object(10)\n",
      "memory usage: 2.7+ MB\n"
     ]
    }
   ],
   "source": [
    "df.info()"
   ]
  },
  {
   "cell_type": "markdown",
   "id": "e38140a2",
   "metadata": {
    "papermill": {
     "duration": 0.007411,
     "end_time": "2025-05-23T01:03:55.166744",
     "exception": false,
     "start_time": "2025-05-23T01:03:55.159333",
     "status": "completed"
    },
    "tags": []
   },
   "source": [
    "### Export Clean Data"
   ]
  },
  {
   "cell_type": "code",
   "execution_count": 18,
   "id": "cc08a7cc",
   "metadata": {
    "execution": {
     "iopub.execute_input": "2025-05-23T01:03:55.182869Z",
     "iopub.status.busy": "2025-05-23T01:03:55.182479Z",
     "iopub.status.idle": "2025-05-23T01:04:04.396038Z",
     "shell.execute_reply": "2025-05-23T01:04:04.395414Z"
    },
    "papermill": {
     "duration": 9.222764,
     "end_time": "2025-05-23T01:04:04.397124",
     "exception": false,
     "start_time": "2025-05-23T01:03:55.174360",
     "status": "completed"
    },
    "tags": []
   },
   "outputs": [
    {
     "name": "stdout",
     "output_type": "stream",
     "text": [
      "Project Root: /home/runner/work/crime-data/crime-data\n"
     ]
    },
    {
     "name": "stdout",
     "output_type": "stream",
     "text": [
      "Data saved to: /home/runner/work/crime-data/crime-data/data/charlottesville_crime_incidents.csv\n"
     ]
    },
    {
     "name": "stdout",
     "output_type": "stream",
     "text": [
      "Excel saved to: /home/runner/work/crime-data/crime-data/data/charlottesville_crime_incidents.xlsx\n"
     ]
    }
   ],
   "source": [
    "# Determine the project root (assuming papermill is run from the repository root)\n",
    "project_root = os.getcwd()\n",
    "print(\"Project Root:\", project_root)\n",
    "\n",
    "# Set the data directory within the project root\n",
    "data_dir = os.path.join(project_root, \"data\")\n",
    "\n",
    "# Ensure the \"data\" directory exists (create it if it doesn't)\n",
    "if not os.path.exists(data_dir):\n",
    "    os.makedirs(data_dir)\n",
    "\n",
    "# Export the DataFrame to CSV in the \"data\" folder located in the project root\n",
    "csv_path = os.path.join(data_dir, \"charlottesville_crime_incidents.csv\")\n",
    "df.to_csv(csv_path, index=False)\n",
    "print(\"Data saved to:\", csv_path)\n",
    "\n",
    "# Construct the path to your Excel file\n",
    "excel_path = os.path.join(data_dir, \"charlottesville_crime_incidents.xlsx\")\n",
    "\n",
    "# Export the DataFrame to Excel\n",
    "df.to_excel(excel_path, index=False)\n",
    "print(\"Excel saved to:\", excel_path)\n"
   ]
  },
  {
   "cell_type": "markdown",
   "id": "2082096e",
   "metadata": {
    "papermill": {
     "duration": 0.007683,
     "end_time": "2025-05-23T01:04:04.412854",
     "exception": false,
     "start_time": "2025-05-23T01:04:04.405171",
     "status": "completed"
    },
    "tags": []
   },
   "source": [
    "## Predictive Analytics"
   ]
  },
  {
   "cell_type": "code",
   "execution_count": 19,
   "id": "cb4e18b4",
   "metadata": {
    "execution": {
     "iopub.execute_input": "2025-05-23T01:04:04.429670Z",
     "iopub.status.busy": "2025-05-23T01:04:04.429195Z",
     "iopub.status.idle": "2025-05-23T01:04:04.440899Z",
     "shell.execute_reply": "2025-05-23T01:04:04.440358Z"
    },
    "papermill": {
     "duration": 0.02112,
     "end_time": "2025-05-23T01:04:04.441857",
     "exception": false,
     "start_time": "2025-05-23T01:04:04.420737",
     "status": "completed"
    },
    "tags": []
   },
   "outputs": [
    {
     "data": {
      "text/html": [
       "<div>\n",
       "<style scoped>\n",
       "    .dataframe tbody tr th:only-of-type {\n",
       "        vertical-align: middle;\n",
       "    }\n",
       "\n",
       "    .dataframe tbody tr th {\n",
       "        vertical-align: top;\n",
       "    }\n",
       "\n",
       "    .dataframe thead th {\n",
       "        text-align: right;\n",
       "    }\n",
       "</style>\n",
       "<table border=\"1\" class=\"dataframe\">\n",
       "  <thead>\n",
       "    <tr style=\"text-align: right;\">\n",
       "      <th></th>\n",
       "      <th>RecordID</th>\n",
       "      <th>Offense</th>\n",
       "      <th>IncidentID</th>\n",
       "      <th>Agency</th>\n",
       "      <th>ReportingOfficer</th>\n",
       "      <th>Date</th>\n",
       "      <th>DayOfWeek</th>\n",
       "      <th>Weekend</th>\n",
       "      <th>Season</th>\n",
       "      <th>TimeOfDay</th>\n",
       "      <th>FullStreet</th>\n",
       "      <th>lat</th>\n",
       "      <th>lon</th>\n",
       "      <th>neighborhood</th>\n",
       "      <th>zip</th>\n",
       "    </tr>\n",
       "  </thead>\n",
       "  <tbody>\n",
       "    <tr>\n",
       "      <th>0</th>\n",
       "      <td>1</td>\n",
       "      <td>Suspicious Activity</td>\n",
       "      <td>202500017271</td>\n",
       "      <td>CPD</td>\n",
       "      <td>Love-Baker, Sydney</td>\n",
       "      <td>2025-05-20 22:02:42</td>\n",
       "      <td>Tuesday</td>\n",
       "      <td>False</td>\n",
       "      <td>Spring</td>\n",
       "      <td>Night</td>\n",
       "      <td>700 PROSPECT AVE, E</td>\n",
       "      <td>38.024639</td>\n",
       "      <td>-78.494396</td>\n",
       "      <td>Fifeville</td>\n",
       "      <td>22903</td>\n",
       "    </tr>\n",
       "    <tr>\n",
       "      <th>1</th>\n",
       "      <td>2</td>\n",
       "      <td>Missing Person-adult</td>\n",
       "      <td>202500017248</td>\n",
       "      <td>CPD</td>\n",
       "      <td>Curry, Brian</td>\n",
       "      <td>2025-05-20 18:24:51</td>\n",
       "      <td>Tuesday</td>\n",
       "      <td>False</td>\n",
       "      <td>Spring</td>\n",
       "      <td>Evening</td>\n",
       "      <td>2000 HOLIDAY DR</td>\n",
       "      <td>38.057681</td>\n",
       "      <td>-78.491402</td>\n",
       "      <td>The Meadows</td>\n",
       "      <td>22901</td>\n",
       "    </tr>\n",
       "    <tr>\n",
       "      <th>2</th>\n",
       "      <td>3</td>\n",
       "      <td>Assist Agency - Other</td>\n",
       "      <td>202500017243</td>\n",
       "      <td>CPD</td>\n",
       "      <td>Hudson, Jesse</td>\n",
       "      <td>2025-05-20 17:24:05</td>\n",
       "      <td>Tuesday</td>\n",
       "      <td>False</td>\n",
       "      <td>Spring</td>\n",
       "      <td>Evening</td>\n",
       "      <td>600 E WATER ST</td>\n",
       "      <td>38.028757</td>\n",
       "      <td>-78.477608</td>\n",
       "      <td>North Downtown</td>\n",
       "      <td>22902</td>\n",
       "    </tr>\n",
       "    <tr>\n",
       "      <th>3</th>\n",
       "      <td>4</td>\n",
       "      <td>Larceny - Theft from Building</td>\n",
       "      <td>202580000081</td>\n",
       "      <td>CPD</td>\n",
       "      <td>Moje, Ashley</td>\n",
       "      <td>2025-05-20 17:22:47</td>\n",
       "      <td>Tuesday</td>\n",
       "      <td>False</td>\n",
       "      <td>Spring</td>\n",
       "      <td>Evening</td>\n",
       "      <td>200 15TH ST NW</td>\n",
       "      <td>38.035162</td>\n",
       "      <td>-78.499552</td>\n",
       "      <td>Venable</td>\n",
       "      <td>22903</td>\n",
       "    </tr>\n",
       "    <tr>\n",
       "      <th>4</th>\n",
       "      <td>5</td>\n",
       "      <td>Misc - Criminal Call</td>\n",
       "      <td>202500017233</td>\n",
       "      <td>CPD</td>\n",
       "      <td>Carrasco, Julio</td>\n",
       "      <td>2025-05-20 16:09:47</td>\n",
       "      <td>Tuesday</td>\n",
       "      <td>False</td>\n",
       "      <td>Spring</td>\n",
       "      <td>Afternoon</td>\n",
       "      <td>FONTAINE AVE / SUMMIT ST</td>\n",
       "      <td>38.026114</td>\n",
       "      <td>-78.520774</td>\n",
       "      <td>Jefferson Park Avenue</td>\n",
       "      <td>22903</td>\n",
       "    </tr>\n",
       "  </tbody>\n",
       "</table>\n",
       "</div>"
      ],
      "text/plain": [
       "   RecordID                        Offense    IncidentID Agency  \\\n",
       "0         1            Suspicious Activity  202500017271    CPD   \n",
       "1         2           Missing Person-adult  202500017248    CPD   \n",
       "2         3          Assist Agency - Other  202500017243    CPD   \n",
       "3         4  Larceny - Theft from Building  202580000081    CPD   \n",
       "4         5           Misc - Criminal Call  202500017233    CPD   \n",
       "\n",
       "     ReportingOfficer                Date DayOfWeek  Weekend  Season  \\\n",
       "0  Love-Baker, Sydney 2025-05-20 22:02:42   Tuesday    False  Spring   \n",
       "1        Curry, Brian 2025-05-20 18:24:51   Tuesday    False  Spring   \n",
       "2       Hudson, Jesse 2025-05-20 17:24:05   Tuesday    False  Spring   \n",
       "3        Moje, Ashley 2025-05-20 17:22:47   Tuesday    False  Spring   \n",
       "4     Carrasco, Julio 2025-05-20 16:09:47   Tuesday    False  Spring   \n",
       "\n",
       "   TimeOfDay                 FullStreet        lat        lon  \\\n",
       "0      Night        700 PROSPECT AVE, E  38.024639 -78.494396   \n",
       "1    Evening            2000 HOLIDAY DR  38.057681 -78.491402   \n",
       "2    Evening             600 E WATER ST  38.028757 -78.477608   \n",
       "3    Evening             200 15TH ST NW  38.035162 -78.499552   \n",
       "4  Afternoon   FONTAINE AVE / SUMMIT ST  38.026114 -78.520774   \n",
       "\n",
       "            neighborhood    zip  \n",
       "0              Fifeville  22903  \n",
       "1            The Meadows  22901  \n",
       "2         North Downtown  22902  \n",
       "3                Venable  22903  \n",
       "4  Jefferson Park Avenue  22903  "
      ]
     },
     "execution_count": 19,
     "metadata": {},
     "output_type": "execute_result"
    }
   ],
   "source": [
    "df.head()"
   ]
  },
  {
   "cell_type": "code",
   "execution_count": 20,
   "id": "c5b11869",
   "metadata": {
    "execution": {
     "iopub.execute_input": "2025-05-23T01:04:04.458713Z",
     "iopub.status.busy": "2025-05-23T01:04:04.458449Z",
     "iopub.status.idle": "2025-05-23T01:04:04.462925Z",
     "shell.execute_reply": "2025-05-23T01:04:04.462404Z"
    },
    "papermill": {
     "duration": 0.014092,
     "end_time": "2025-05-23T01:04:04.463940",
     "exception": false,
     "start_time": "2025-05-23T01:04:04.449848",
     "status": "completed"
    },
    "tags": []
   },
   "outputs": [
    {
     "data": {
      "text/plain": [
       "Index(['RecordID', 'Offense', 'IncidentID', 'Agency', 'ReportingOfficer',\n",
       "       'Date', 'DayOfWeek', 'Weekend', 'Season', 'TimeOfDay', 'FullStreet',\n",
       "       'lat', 'lon', 'neighborhood', 'zip'],\n",
       "      dtype='object')"
      ]
     },
     "execution_count": 20,
     "metadata": {},
     "output_type": "execute_result"
    }
   ],
   "source": [
    "df.columns"
   ]
  },
  {
   "cell_type": "markdown",
   "id": "93f0e836",
   "metadata": {
    "papermill": {
     "duration": 0.007952,
     "end_time": "2025-05-23T01:04:04.479961",
     "exception": false,
     "start_time": "2025-05-23T01:04:04.472009",
     "status": "completed"
    },
    "tags": []
   },
   "source": [
    "### Data Preparation\n",
    "\n",
    "We need to ensure the data is in the correct format for modeling and can handle missing values, categorical variables, and dates. Here's how to prepare your data:"
   ]
  },
  {
   "cell_type": "code",
   "execution_count": 21,
   "id": "1ee3acfe",
   "metadata": {
    "execution": {
     "iopub.execute_input": "2025-05-23T01:04:04.497122Z",
     "iopub.status.busy": "2025-05-23T01:04:04.496653Z",
     "iopub.status.idle": "2025-05-23T01:04:06.500870Z",
     "shell.execute_reply": "2025-05-23T01:04:06.500096Z"
    },
    "papermill": {
     "duration": 2.014259,
     "end_time": "2025-05-23T01:04:06.502218",
     "exception": false,
     "start_time": "2025-05-23T01:04:04.487959",
     "status": "completed"
    },
    "tags": []
   },
   "outputs": [],
   "source": [
    "import pandas as pd\n",
    "from sklearn.model_selection import train_test_split\n",
    "from sklearn.preprocessing import OneHotEncoder, LabelEncoder\n",
    "from sklearn.ensemble import RandomForestClassifier\n",
    "from sklearn.linear_model import LogisticRegression\n",
    "from sklearn.tree import DecisionTreeClassifier\n",
    "from sklearn.metrics import classification_report, accuracy_score\n",
    "import seaborn as sns\n",
    "import matplotlib.pyplot as plt\n",
    "\n",
    "# Convert 'Date' to datetime\n",
    "df['Date'] = pd.to_datetime(df['Date'])\n",
    "\n",
    "# Feature engineering: Extract additional time-based features\n",
    "df['Year'] = df['Date'].dt.year\n",
    "df['Month'] = df['Date'].dt.month\n",
    "df['DayOfMonth'] = df['Date'].dt.day\n",
    "\n",
    "# One-hot encoding for 'FullStreet', 'neighborhood', 'zip'\n",
    "df = pd.get_dummies(df, columns=['FullStreet', 'neighborhood', 'zip'], drop_first=True)\n",
    "\n",
    "# Label encoding for ordered variables (those with a natural order like 'DayOfWeek', 'Season', 'TimeOfDay')\n",
    "label_encoders = {}\n",
    "for column in ['DayOfWeek', 'Season', 'TimeOfDay', 'Agency', 'ReportingOfficer']:  # Example ordinal variables\n",
    "    le = LabelEncoder()\n",
    "    df[column] = le.fit_transform(df[column])\n",
    "    label_encoders[column] = le\n",
    "\n",
    "# Filter the dataset to include only the offenses of interest\n",
    "offenses_of_interest = [\n",
    "    'Hit and Run', 'Assault Simple', 'Suspicious Activity', 'Vandalism', \n",
    "    'Larceny - From Mot Vehicle', 'Larceny - All Other', \n",
    "    'Assist Citizen - Mental/TDO/ECO', 'Lost/FoundProperty'\n",
    "]\n",
    "\n",
    "df = df[df['Offense'].isin(offenses_of_interest)]\n",
    "\n",
    "# Label encode the target variable (Offense)\n",
    "offense_encoder = LabelEncoder()\n",
    "df['Offense'] = offense_encoder.fit_transform(df['Offense'])\n",
    "\n",
    "# Separate features (X) and target (y)\n",
    "X = df[['Year', 'Month', 'DayOfMonth', 'DayOfWeek', 'Weekend', 'Season', 'TimeOfDay', 'lat', 'lon', 'Agency', 'ReportingOfficer']]\n",
    "y = df['Offense']  # Offense is now the encoded target variable\n",
    "\n",
    "# Split the data into training and testing sets\n",
    "X_train, X_test, y_train, y_test = train_test_split(X, y, test_size=0.3, random_state=42)\n"
   ]
  },
  {
   "cell_type": "markdown",
   "id": "1ab28ff2",
   "metadata": {
    "papermill": {
     "duration": 0.008038,
     "end_time": "2025-05-23T01:04:06.518845",
     "exception": false,
     "start_time": "2025-05-23T01:04:06.510807",
     "status": "completed"
    },
    "tags": []
   },
   "source": [
    "### Model Training\n",
    "\n",
    "Here we will train several models (e.g., Random Forest, Logistic Regression, and Decision Tree). We will use cross-validation to choose the best model based on accuracy, and then explain the impact of the variables."
   ]
  },
  {
   "cell_type": "code",
   "execution_count": 22,
   "id": "9bf0c7a7",
   "metadata": {
    "execution": {
     "iopub.execute_input": "2025-05-23T01:04:06.536381Z",
     "iopub.status.busy": "2025-05-23T01:04:06.535738Z",
     "iopub.status.idle": "2025-05-23T01:04:10.123011Z",
     "shell.execute_reply": "2025-05-23T01:04:10.122414Z"
    },
    "papermill": {
     "duration": 3.597163,
     "end_time": "2025-05-23T01:04:10.124053",
     "exception": false,
     "start_time": "2025-05-23T01:04:06.526890",
     "status": "completed"
    },
    "tags": []
   },
   "outputs": [
    {
     "name": "stderr",
     "output_type": "stream",
     "text": [
      "/opt/hostedtoolcache/Python/3.9.22/x64/lib/python3.9/site-packages/sklearn/linear_model/_logistic.py:465: ConvergenceWarning: lbfgs failed to converge (status=1):\n",
      "STOP: TOTAL NO. of ITERATIONS REACHED LIMIT.\n",
      "\n",
      "Increase the number of iterations (max_iter) or scale the data as shown in:\n",
      "    https://scikit-learn.org/stable/modules/preprocessing.html\n",
      "Please also refer to the documentation for alternative solver options:\n",
      "    https://scikit-learn.org/stable/modules/linear_model.html#logistic-regression\n",
      "  n_iter_i = _check_optimize_result(\n",
      "/opt/hostedtoolcache/Python/3.9.22/x64/lib/python3.9/site-packages/sklearn/metrics/_classification.py:1565: UndefinedMetricWarning: Precision is ill-defined and being set to 0.0 in labels with no predicted samples. Use `zero_division` parameter to control this behavior.\n",
      "  _warn_prf(average, modifier, f\"{metric.capitalize()} is\", len(result))\n",
      "/opt/hostedtoolcache/Python/3.9.22/x64/lib/python3.9/site-packages/sklearn/metrics/_classification.py:1565: UndefinedMetricWarning: Precision is ill-defined and being set to 0.0 in labels with no predicted samples. Use `zero_division` parameter to control this behavior.\n",
      "  _warn_prf(average, modifier, f\"{metric.capitalize()} is\", len(result))\n",
      "/opt/hostedtoolcache/Python/3.9.22/x64/lib/python3.9/site-packages/sklearn/metrics/_classification.py:1565: UndefinedMetricWarning: Precision is ill-defined and being set to 0.0 in labels with no predicted samples. Use `zero_division` parameter to control this behavior.\n",
      "  _warn_prf(average, modifier, f\"{metric.capitalize()} is\", len(result))\n"
     ]
    },
    {
     "name": "stdout",
     "output_type": "stream",
     "text": [
      "\n",
      "Classification Report for All Models:\n",
      "\n",
      "Model: RandomForest\n",
      "Accuracy: 0.2909\n",
      "              precision    recall  f1-score      support\n",
      "0              0.294197  0.363333  0.325130   600.000000\n",
      "1              0.297059  0.237647  0.264052   425.000000\n",
      "2              0.306878  0.430906  0.358467   673.000000\n",
      "3              0.248021  0.197895  0.220141   475.000000\n",
      "4              0.321138  0.245342  0.278169   322.000000\n",
      "5              0.254386  0.231076  0.242171   502.000000\n",
      "6              0.306069  0.237219  0.267281   489.000000\n",
      "accuracy       0.290878  0.290878  0.290878     0.290878\n",
      "macro avg      0.289678  0.277631  0.279345  3486.000000\n",
      "weighted avg   0.289123  0.290878  0.285415  3486.000000\n"
     ]
    },
    {
     "data": {
      "image/png": "[encoded data removed]",
      "text/plain": [
       "<Figure size 800x600 with 2 Axes>"
      ]
     },
     "metadata": {},
     "output_type": "display_data"
    },
    {
     "name": "stdout",
     "output_type": "stream",
     "text": [
      "\n",
      "Model: LogisticRegression\n",
      "Accuracy: 0.2160\n",
      "              precision    recall  f1-score      support\n",
      "0              0.212185  0.505000  0.298817   600.000000\n",
      "1              0.000000  0.000000  0.000000   425.000000\n",
      "2              0.218704  0.667162  0.329420   673.000000\n",
      "3              0.000000  0.000000  0.000000   475.000000\n",
      "4              0.000000  0.000000  0.000000   322.000000\n",
      "5              0.000000  0.000000  0.000000   502.000000\n",
      "6              0.200000  0.002045  0.004049   489.000000\n",
      "accuracy       0.216007  0.216007  0.216007     0.216007\n",
      "macro avg      0.090127  0.167744  0.090327  3486.000000\n",
      "weighted avg   0.106798  0.216007  0.115597  3486.000000\n"
     ]
    },
    {
     "data": {
      "image/png": "[encoded data removed]",
      "text/plain": [
       "<Figure size 800x600 with 2 Axes>"
      ]
     },
     "metadata": {},
     "output_type": "display_data"
    },
    {
     "name": "stdout",
     "output_type": "stream",
     "text": [
      "\n",
      "Model: DecisionTree\n",
      "Accuracy: 0.2203\n",
      "              precision    recall  f1-score     support\n",
      "0              0.241993  0.226667  0.234079   600.00000\n",
      "1              0.211813  0.244706  0.227074   425.00000\n",
      "2              0.283439  0.264487  0.273636   673.00000\n",
      "3              0.189066  0.174737  0.181619   475.00000\n",
      "4              0.219020  0.236025  0.227205   322.00000\n",
      "5              0.164815  0.177291  0.170825   502.00000\n",
      "6              0.212944  0.208589  0.210744   489.00000\n",
      "accuracy       0.220310  0.220310  0.220310     0.22031\n",
      "macro avg      0.217584  0.218929  0.217883  3486.00000\n",
      "weighted avg   0.221792  0.220310  0.220696  3486.00000\n"
     ]
    },
    {
     "data": {
      "image/png": "[encoded data removed]",
      "text/plain": [
       "<Figure size 800x600 with 2 Axes>"
      ]
     },
     "metadata": {},
     "output_type": "display_data"
    },
    {
     "name": "stdout",
     "output_type": "stream",
     "text": [
      "\n",
      "Best Model:\n",
      "Best Model: RandomForestClassifier()\n",
      "Best Model Accuracy: 0.2909\n"
     ]
    }
   ],
   "source": [
    "import pandas as pd\n",
    "from sklearn.model_selection import train_test_split\n",
    "from sklearn.ensemble import RandomForestClassifier\n",
    "from sklearn.linear_model import LogisticRegression\n",
    "from sklearn.tree import DecisionTreeClassifier\n",
    "from sklearn.metrics import classification_report, accuracy_score, confusion_matrix\n",
    "import seaborn as sns\n",
    "import matplotlib.pyplot as plt\n",
    "\n",
    "# Define models\n",
    "models = {\n",
    "    'RandomForest': RandomForestClassifier(),\n",
    "    'LogisticRegression': LogisticRegression(max_iter=1000),\n",
    "    'DecisionTree': DecisionTreeClassifier()\n",
    "}\n",
    "\n",
    "# Train models and evaluate them\n",
    "best_model = None\n",
    "best_score = 0\n",
    "model_reports = {}\n",
    "\n",
    "for model_name, model in models.items():\n",
    "    model.fit(X_train, y_train)  # Train model\n",
    "    y_pred = model.predict(X_test)  # Make predictions\n",
    "    \n",
    "    # Calculate accuracy and generate classification report\n",
    "    accuracy = accuracy_score(y_test, y_pred)\n",
    "    model_reports[model_name] = classification_report(y_test, y_pred, output_dict=True)  # Store as a dictionary for easier analysis\n",
    "    \n",
    "    # Track best performing model\n",
    "    if accuracy > best_score:\n",
    "        best_score = accuracy\n",
    "        best_model = model\n",
    "\n",
    "# Display classification reports and confusion matrices\n",
    "print(\"\\nClassification Report for All Models:\")\n",
    "for model_name, report in model_reports.items():\n",
    "    print(f\"\\nModel: {model_name}\")\n",
    "    print(\"Accuracy: {:.4f}\".format(accuracy_score(y_test, models[model_name].predict(X_test))))  # Display accuracy\n",
    "    print(pd.DataFrame(report).transpose())  # Display classification report as a DataFrame\n",
    "\n",
    "    # Plot Confusion Matrix\n",
    "    cm = confusion_matrix(y_test, models[model_name].predict(X_test))\n",
    "    plt.figure(figsize=(8, 6))\n",
    "    sns.heatmap(cm, annot=True, fmt=\"d\", cmap='Blues', xticklabels=offense_encoder.classes_, yticklabels=offense_encoder.classes_)\n",
    "    plt.title(f\"Confusion Matrix - {model_name}\")\n",
    "    plt.xlabel('Predicted Labels')\n",
    "    plt.ylabel('True Labels')\n",
    "    plt.show()\n",
    "\n",
    "# Display best model details\n",
    "print(\"\\nBest Model:\")\n",
    "print(f\"Best Model: {best_model}\")\n",
    "print(f\"Best Model Accuracy: {best_score:.4f}\")\n"
   ]
  },
  {
   "cell_type": "markdown",
   "id": "54bb084f",
   "metadata": {
    "papermill": {
     "duration": 0.010758,
     "end_time": "2025-05-23T01:04:10.146197",
     "exception": false,
     "start_time": "2025-05-23T01:04:10.135439",
     "status": "completed"
    },
    "tags": []
   },
   "source": [
    "#### Classification Report for All Models:\n",
    "\n",
    "### Explanation of the Classification Results (RandomForest Model)\n",
    "\n",
    "The results you provided are from a **Random Forest** model, which is used for predicting different types of offenses. Let's break down the key components of the results:\n",
    "\n",
    "#### 1. **Accuracy: 0.2822**\n",
    "   - **Accuracy** measures the overall percentage of correct predictions made by the model. An accuracy of 28.22% means the model correctly predicted the offense in about 28% of the cases. This indicates the model's predictions are not highly reliable, as the accuracy is quite low.\n",
    "\n",
    "#### 2. **Classification Report:**\n",
    "   The classification report includes precision, recall, and F1-score for each offense. Let's go over these terms and how they apply to the results:\n",
    "\n",
    "   - **Precision**: The proportion of true positive predictions out of all positive predictions made by the model for a specific class (offense).\n",
    "   - **Recall**: The proportion of true positive predictions out of all actual positive instances in the dataset.\n",
    "   - **F1-Score**: The harmonic mean of precision and recall, providing a balance between the two metrics.\n",
    "   - **Support**: The number of actual occurrences of each class in the test set.\n",
    "\n",
    "   Let's analyze each offense based on these metrics:\n",
    "\n",
    "   | **Offense**                        | **Precision** | **Recall** | **F1-Score** | **Support** |\n",
    "   |------------------------------------|---------------|------------|--------------|-------------|\n",
    "   | **Assault Simple**                 | 0.2892        | 0.3754     | 0.3267       | 594         |\n",
    "   | **Assist Citizen - Mental/TDO/ECO**| 0.3182        | 0.2274     | 0.2652       | 431         |\n",
    "   | **Hit and Run**                    | 0.2963        | 0.4765     | 0.3654       | 638         |\n",
    "   | **Larceny - All Other**            | 0.2270        | 0.1453     | 0.1772       | 475         |\n",
    "   | **Lost/FoundProperty**             | 0.3333        | 0.2102     | 0.2578       | 352         |\n",
    "   | **Suspicious Activity**            | 0.2344        | 0.2169     | 0.2253       | 484         |\n",
    "   | **Vandalism**                      | 0.2712        | 0.2106     | 0.2371       | 470         |\n",
    "\n",
    "#### 3. **Key Insights from the Report:**\n",
    "\n",
    "- **Precision**:\n",
    "   - The highest precision is for **Larceny - All Other** (0.3333), indicating that when the model predicts this offense, it is correct about 33% of the time. However, this is still quite low.\n",
    "   - **Assist Citizen - Mental/TDO/ECO** has the lowest precision (0.2269), meaning that the model's predictions for this offense tend to be wrong more often than correct.\n",
    "\n",
    "- **Recall**:\n",
    "   - **Hit and Run** has the highest recall (0.4765), meaning the model identifies about 48% of the actual occurrences of this offense. This is better than the precision, which indicates it is missing many true positives but is still able to identify a fair number of cases.\n",
    "   - **Larceny - All Other** and **Suspicious Activity** have the lowest recall values (0.1453 and 0.2169, respectively), indicating that the model is failing to identify most of the actual cases for these offenses.\n",
    "\n",
    "- **F1-Score**:\n",
    "   - The **F1-Score** balances precision and recall. It is highest for **Hit and Run** (0.3654), but still relatively low overall. This suggests the model is better at identifying **Hit and Run** than other offenses but still has room for improvement.\n",
    "   - **Larceny - All Other** has the lowest F1-Score (0.1772), indicating a poor balance between precision and recall for this offense.\n",
    "\n",
    "#### 4. **Macro Average and Weighted Average:**\n",
    "   - **Macro Average**: This gives the average precision, recall, and F1-Score across all classes (offenses) without considering the class distribution. It averages the results for all offenses equally.\n",
    "     - Precision: 0.2814\n",
    "     - Recall: 0.2661\n",
    "     - F1-Score: 0.2649\n",
    "   - **Weighted Average**: This averages the metrics but weighs each class by its support (the number of true instances in the test set). This gives a better sense of overall performance, considering the class distribution.\n",
    "     - Precision: 0.2799\n",
    "     - Recall: 0.2822\n",
    "     - F1-Score: 0.2720\n",
    "\n",
    "#### 5. **Confusion Matrix (Visualization Analysis)**:\n",
    "   - The confusion matrix shows the distribution of true positive, false positive, true negative, and false negative predictions for each class.\n",
    "     - For **Hit and Run**, the model performs relatively well in identifying this offense (304 true positives). However, it also misclassifies some **Hit and Run** instances as other offenses (e.g., **Assault Simple**, **Suspicious Activity**, etc.).\n",
    "     - **Larceny - All Other** is frequently misclassified as **Hit and Run**, **Suspicious Activity**, and others. This is evident from the large number of off-diagonal elements in its row.\n",
    "     - **Assist Citizen - Mental/TDO/ECO** and **Suspicious Activity** are frequently misclassified, as seen by the off-diagonal values in their rows.\n",
    "\n",
    "### Conclusion:\n",
    "The Random Forest model has low accuracy (28.22%), suggesting that it struggles to predict most offenses accurately. Some offenses like **Hit and Run** are better predicted than others, but overall, the model shows a high level of misclassification across all offenses. There may be a need for further tuning of the model, additional feature engineering, or trying different models for better performance.\n",
    "\n",
    "Let me know if you'd like to improve the model or make adjustments based on these results!\n",
    "\n"
   ]
  },
  {
   "cell_type": "markdown",
   "id": "3fb7e33e",
   "metadata": {
    "papermill": {
     "duration": 0.010647,
     "end_time": "2025-05-23T01:04:10.167553",
     "exception": false,
     "start_time": "2025-05-23T01:04:10.156906",
     "status": "completed"
    },
    "tags": []
   },
   "source": [
    "### Model Explanation\n",
    "\n",
    "Once we’ve chosen the best model, we will explain its predictions by examining feature importance for tree-based models and using statistical methods like logistic regression coefficients for linear models."
   ]
  },
  {
   "cell_type": "markdown",
   "id": "7b8e93ff",
   "metadata": {
    "papermill": {
     "duration": 0.010719,
     "end_time": "2025-05-23T01:04:10.188935",
     "exception": false,
     "start_time": "2025-05-23T01:04:10.178216",
     "status": "completed"
    },
    "tags": []
   },
   "source": [
    "#### Feature Importance for Random Forest / Decision Tree\n",
    "\n",
    "##### For Tree-based Models (Random Forest, Decision Tree)\n",
    "\n",
    "For Random Forest or Decision Tree, we can look at feature importance to understand which variables contribute the most to the model's predictions. Here's how you can visualize and interpret the importance of each feature:"
   ]
  },
  {
   "cell_type": "code",
   "execution_count": 23,
   "id": "5fcaa0ae",
   "metadata": {
    "execution": {
     "iopub.execute_input": "2025-05-23T01:04:10.211966Z",
     "iopub.status.busy": "2025-05-23T01:04:10.211351Z",
     "iopub.status.idle": "2025-05-23T01:04:10.375520Z",
     "shell.execute_reply": "2025-05-23T01:04:10.374854Z"
    },
    "papermill": {
     "duration": 0.176969,
     "end_time": "2025-05-23T01:04:10.376637",
     "exception": false,
     "start_time": "2025-05-23T01:04:10.199668",
     "status": "completed"
    },
    "tags": []
   },
   "outputs": [
    {
     "data": {
      "image/png": "[encoded data removed]",
      "text/plain": [
       "<Figure size 1000x600 with 1 Axes>"
      ]
     },
     "metadata": {},
     "output_type": "display_data"
    }
   ],
   "source": [
    "# For RandomForest or DecisionTree models, we can check feature importance\n",
    "if isinstance(best_model, RandomForestClassifier) or isinstance(best_model, DecisionTreeClassifier):\n",
    "    feature_importance = best_model.feature_importances_\n",
    "    feature_names = X.columns\n",
    "    importance_df = pd.DataFrame({'Feature': feature_names, 'Importance': feature_importance})\n",
    "    importance_df = importance_df.sort_values(by='Importance', ascending=False)\n",
    "    \n",
    "    # Plotting the feature importances\n",
    "    plt.figure(figsize=(10, 6))\n",
    "    sns.barplot(x='Importance', y='Feature', data=importance_df)\n",
    "    plt.title(\"Feature Importance\")\n",
    "    plt.show()\n"
   ]
  },
  {
   "cell_type": "code",
   "execution_count": null,
   "id": "3deebe35",
   "metadata": {
    "papermill": {
     "duration": 0.01108,
     "end_time": "2025-05-23T01:04:10.399382",
     "exception": false,
     "start_time": "2025-05-23T01:04:10.388302",
     "status": "completed"
    },
    "tags": []
   },
   "outputs": [],
   "source": []
  },
  {
   "cell_type": "markdown",
   "id": "26c5bb8a",
   "metadata": {
    "papermill": {
     "duration": 0.01114,
     "end_time": "2025-05-23T01:04:10.421752",
     "exception": false,
     "start_time": "2025-05-23T01:04:10.410612",
     "status": "completed"
    },
    "tags": []
   },
   "source": [
    "### Evaluation\n",
    "\n",
    "After training the models and examining their performance, we evaluate the chosen model based on metrics like accuracy, precision, recall, and F1 score.\n",
    "\n"
   ]
  },
  {
   "cell_type": "code",
   "execution_count": 24,
   "id": "d84bcb61",
   "metadata": {
    "execution": {
     "iopub.execute_input": "2025-05-23T01:04:10.445121Z",
     "iopub.status.busy": "2025-05-23T01:04:10.444668Z",
     "iopub.status.idle": "2025-05-23T01:04:10.533332Z",
     "shell.execute_reply": "2025-05-23T01:04:10.532626Z"
    },
    "papermill": {
     "duration": 0.1016,
     "end_time": "2025-05-23T01:04:10.534448",
     "exception": false,
     "start_time": "2025-05-23T01:04:10.432848",
     "status": "completed"
    },
    "tags": []
   },
   "outputs": [
    {
     "name": "stdout",
     "output_type": "stream",
     "text": [
      "Accuracy: 0.2909\n",
      "Classification Report:\n",
      "              precision    recall  f1-score   support\n",
      "\n",
      "           0       0.29      0.36      0.33       600\n",
      "           1       0.30      0.24      0.26       425\n",
      "           2       0.31      0.43      0.36       673\n",
      "           3       0.25      0.20      0.22       475\n",
      "           4       0.32      0.25      0.28       322\n",
      "           5       0.25      0.23      0.24       502\n",
      "           6       0.31      0.24      0.27       489\n",
      "\n",
      "    accuracy                           0.29      3486\n",
      "   macro avg       0.29      0.28      0.28      3486\n",
      "weighted avg       0.29      0.29      0.29      3486\n",
      "\n",
      "Confusion Matrix:\n",
      "[[218  70 133  48  25  63  43]\n",
      " [106 101  93  30  17  44  34]\n",
      " [112  52 290  72  24  82  41]\n",
      " [ 75  29 132  94  33  58  54]\n",
      " [ 40  19  70  40  79  29  45]\n",
      " [106  38 118  44  34 116  46]\n",
      " [ 84  31 109  51  34  64 116]]\n",
      "Precision: 0.2891\n",
      "Recall: 0.2909\n",
      "F1 Score: 0.2854\n"
     ]
    }
   ],
   "source": [
    "from sklearn.metrics import classification_report, confusion_matrix, accuracy_score, precision_score, recall_score, f1_score\n",
    "\n",
    "# Predict on the test set\n",
    "y_pred = best_model.predict(X_test)\n",
    "\n",
    "# Calculate Accuracy\n",
    "accuracy = accuracy_score(y_test, y_pred)\n",
    "print(f\"Accuracy: {accuracy:.4f}\")\n",
    "\n",
    "# Classification Report\n",
    "print(\"Classification Report:\")\n",
    "print(classification_report(y_test, y_pred))\n",
    "\n",
    "# Confusion Matrix\n",
    "conf_matrix = confusion_matrix(y_test, y_pred)\n",
    "print(\"Confusion Matrix:\")\n",
    "print(conf_matrix)\n",
    "\n",
    "# Precision, Recall, F1 Score for each class (Offense Type)\n",
    "precision = precision_score(y_test, y_pred, average='weighted')\n",
    "recall = recall_score(y_test, y_pred, average='weighted')\n",
    "f1 = f1_score(y_test, y_pred, average='weighted')\n",
    "\n",
    "print(f\"Precision: {precision:.4f}\")\n",
    "print(f\"Recall: {recall:.4f}\")\n",
    "print(f\"F1 Score: {f1:.4f}\")\n"
   ]
  },
  {
   "cell_type": "markdown",
   "id": "dd9a543d",
   "metadata": {
    "papermill": {
     "duration": 0.011158,
     "end_time": "2025-05-23T01:04:10.557199",
     "exception": false,
     "start_time": "2025-05-23T01:04:10.546041",
     "status": "completed"
    },
    "tags": []
   },
   "source": [
    "#### For Logistic Regression (Coefficient Interpretation)\n",
    "\n",
    "For Logistic Regression, the model coefficients can help us understand how each feature affects the likelihood of an offense happening. A positive coefficient indicates a feature increases the likelihood of the offense, and a negative coefficient indicates the opposite."
   ]
  },
  {
   "cell_type": "code",
   "execution_count": 25,
   "id": "e196ea15",
   "metadata": {
    "execution": {
     "iopub.execute_input": "2025-05-23T01:04:10.580419Z",
     "iopub.status.busy": "2025-05-23T01:04:10.580135Z",
     "iopub.status.idle": "2025-05-23T01:04:10.584959Z",
     "shell.execute_reply": "2025-05-23T01:04:10.584396Z"
    },
    "papermill": {
     "duration": 0.017603,
     "end_time": "2025-05-23T01:04:10.585995",
     "exception": false,
     "start_time": "2025-05-23T01:04:10.568392",
     "status": "completed"
    },
    "tags": []
   },
   "outputs": [],
   "source": [
    "if isinstance(best_model, LogisticRegression):\n",
    "    # Logistic regression coefficients\n",
    "    coef_df = pd.DataFrame({\n",
    "        'Feature': X.columns,\n",
    "        'Coefficient': best_model.coef_[0]\n",
    "    })\n",
    "    coef_df['AbsCoefficient'] = coef_df['Coefficient'].abs()\n",
    "    coef_df = coef_df.sort_values(by='AbsCoefficient', ascending=False)\n",
    "    \n",
    "    # Plotting the coefficients\n",
    "    plt.figure(figsize=(10, 6))\n",
    "    sns.barplot(x='AbsCoefficient', y='Feature', data=coef_df)\n",
    "    plt.title(\"Logistic Regression Coefficients Impact\")\n",
    "    plt.show()\n",
    "\n",
    "    # Print the top 5 most impactful features (by absolute coefficient value)\n",
    "    print(\"Top 5 most impactful features based on coefficients:\")\n",
    "    print(coef_df.head())\n"
   ]
  },
  {
   "cell_type": "markdown",
   "id": "2c4e4167",
   "metadata": {
    "papermill": {
     "duration": 0.011143,
     "end_time": "2025-05-23T01:04:10.608377",
     "exception": false,
     "start_time": "2025-05-23T01:04:10.597234",
     "status": "completed"
    },
    "tags": []
   },
   "source": [
    "Explanation of Output:\n",
    "\n",
    "Feature Importance (Random Forest/Decision Tree): The bar plot will show how important each feature is in the decision-making process. Features at the top of the list are the most influential in predicting the occurrence of offenses.\n",
    "\n",
    "Logistic Regression Coefficients: The bar plot will show the magnitude of the coefficients for each feature. Features with larger absolute values (either positive or negative) have a stronger impact on the model’s predictions. Positive coefficients increase the probability of an offense, while negative coefficients decrease it."
   ]
  },
  {
   "cell_type": "markdown",
   "id": "0bf948c6",
   "metadata": {
    "papermill": {
     "duration": 0.011093,
     "end_time": "2025-05-23T01:04:10.630675",
     "exception": false,
     "start_time": "2025-05-23T01:04:10.619582",
     "status": "completed"
    },
    "tags": []
   },
   "source": []
  }
 ],
 "metadata": {
  "kernelspec": {
   "display_name": "Python 3",
   "language": "python",
   "name": "python3"
  },
  "language_info": {
   "codemirror_mode": {
    "name": "ipython",
    "version": 3
   },
   "file_extension": ".py",
   "mimetype": "text/x-python",
   "name": "python",
   "nbconvert_exporter": "python",
   "pygments_lexer": "ipython3",
   "version": "3.9.22"
  },
  "papermill": {
   "default_parameters": {},
   "duration": 81.66043,
   "end_time": "2025-05-23T01:04:11.058359",
   "environment_variables": {},
   "exception": null,
   "input_path": "notebook/Crime Data.ipynb",
   "output_path": "notebook/Crime Data_output.ipynb",
   "parameters": {},
   "start_time": "2025-05-23T01:02:49.397929",
   "version": "2.6.0"
  }
 },
 "nbformat": 4,
 "nbformat_minor": 5
}