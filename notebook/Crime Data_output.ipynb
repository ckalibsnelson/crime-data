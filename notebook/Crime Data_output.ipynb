{
 "cells": [
  {
   "cell_type": "markdown",
   "id": "57f367ef",
   "metadata": {
    "papermill": {
     "duration": 0.004375,
     "end_time": "2025-10-12T00:11:06.115623",
     "exception": false,
     "start_time": "2025-10-12T00:11:06.111248",
     "status": "completed"
    },
    "tags": []
   },
   "source": [
    "# Charlottesville Open Data Porttal: Crime Data"
   ]
  },
  {
   "cell_type": "markdown",
   "id": "4e235b56",
   "metadata": {
    "papermill": {
     "duration": 0.003243,
     "end_time": "2025-10-12T00:11:06.123533",
     "exception": false,
     "start_time": "2025-10-12T00:11:06.120290",
     "status": "completed"
    },
    "tags": []
   },
   "source": [
    "## Import Relevant Librarires & Set WD"
   ]
  },
  {
   "cell_type": "code",
   "execution_count": 1,
   "id": "c50e3d98",
   "metadata": {
    "execution": {
     "iopub.execute_input": "2025-10-12T00:11:06.131191Z",
     "iopub.status.busy": "2025-10-12T00:11:06.130927Z",
     "iopub.status.idle": "2025-10-12T00:11:06.875868Z",
     "shell.execute_reply": "2025-10-12T00:11:06.875088Z"
    },
    "papermill": {
     "duration": 0.750564,
     "end_time": "2025-10-12T00:11:06.877365",
     "exception": false,
     "start_time": "2025-10-12T00:11:06.126801",
     "status": "completed"
    },
    "tags": []
   },
   "outputs": [],
   "source": [
    "import requests\n",
    "import pandas as pd\n",
    "import numpy as np\n",
    "import pickle\n",
    "import googlemaps\n",
    "import plotly.express as px\n",
    "from geopy.geocoders import Nominatim\n",
    "import time\n",
    "from dotenv import load_dotenv\n",
    "import os\n",
    "\n",
    "env_path = os.path.join(\"..\", \".env\")\n",
    "#print(\"Looking for .env file at:\", os.path.abspath(env_path))\n",
    "load_dotenv(dotenv_path=env_path)\n",
    "\n",
    "# Retrieve the variables\n",
    "GOOGLE_API_KEY = os.getenv(\"GOOGLE_API_KEY\")\n",
    "WORKING_DIR = os.getenv(\"WORKING_DIR\")\n",
    "\n",
    "if GOOGLE_API_KEY is None or WORKING_DIR is None:\n",
    "    raise RuntimeError(\"No configuration found. Please ensure that your .env file exists with the required variables, or create a local config.py file.\")\n",
    "\n",
    "#print(\"Google API Key:\", GOOGLE_API_KEY)\n",
    "#print(\"Working Directory:\", WORKING_DIR)"
   ]
  },
  {
   "cell_type": "markdown",
   "id": "9e792d27",
   "metadata": {
    "papermill": {
     "duration": 0.003344,
     "end_time": "2025-10-12T00:11:06.884493",
     "exception": false,
     "start_time": "2025-10-12T00:11:06.881149",
     "status": "completed"
    },
    "tags": []
   },
   "source": [
    "## Import Data\n",
    "\n",
    "URL: https://opendata.charlottesville.org/datasets/charlottesville::crime-data/about"
   ]
  },
  {
   "cell_type": "code",
   "execution_count": 2,
   "id": "163aeed3",
   "metadata": {
    "execution": {
     "iopub.execute_input": "2025-10-12T00:11:06.892189Z",
     "iopub.status.busy": "2025-10-12T00:11:06.891869Z",
     "iopub.status.idle": "2025-10-12T00:11:10.525905Z",
     "shell.execute_reply": "2025-10-12T00:11:10.525171Z"
    },
    "papermill": {
     "duration": 3.639157,
     "end_time": "2025-10-12T00:11:10.527046",
     "exception": false,
     "start_time": "2025-10-12T00:11:06.887889",
     "status": "completed"
    },
    "tags": []
   },
   "outputs": [
    {
     "name": "stdout",
     "output_type": "stream",
     "text": [
      "Total records imported: 25902\n"
     ]
    }
   ],
   "source": [
    "# Define the endpoint and initial parameters.\n",
    "url = \"https://gisweb.charlottesville.org/arcgis/rest/services/OpenData_2/MapServer/6/query\"\n",
    "params = {\n",
    "    \"where\": \"1=1\",\n",
    "    \"outFields\": \"*\",\n",
    "    \"outSR\": 4326,\n",
    "    \"f\": \"json\",\n",
    "    \"resultOffset\": 0,       # Starting index for results\n",
    "    \"resultRecordCount\": 10000  # Maximum records per batch (if allowed by the API)\n",
    "}\n",
    "\n",
    "records = []\n",
    "\n",
    "while True:\n",
    "    response = requests.get(url, params=params)\n",
    "    response.raise_for_status()\n",
    "    data = response.json()\n",
    "    \n",
    "    # Get the current batch of features.\n",
    "    features = data.get(\"features\", [])\n",
    "    if not features:\n",
    "        break\n",
    "\n",
    "    # Extract the attributes from the features.\n",
    "    batch_records = [feature.get(\"attributes\", {}) for feature in features]\n",
    "    records.extend(batch_records)\n",
    "    \n",
    "    # If the batch size is less than the requested count, we reached the end.\n",
    "    if len(features) < params[\"resultRecordCount\"]:\n",
    "        break\n",
    "\n",
    "    # Update the resultOffset for the next batch.\n",
    "    params[\"resultOffset\"] += params[\"resultRecordCount\"]\n",
    "\n",
    "# Create a DataFrame from the combined records.\n",
    "df = pd.DataFrame(records)\n",
    "print(\"Total records imported:\", len(df))\n"
   ]
  },
  {
   "cell_type": "code",
   "execution_count": 3,
   "id": "cf566671",
   "metadata": {
    "execution": {
     "iopub.execute_input": "2025-10-12T00:11:10.535145Z",
     "iopub.status.busy": "2025-10-12T00:11:10.534945Z",
     "iopub.status.idle": "2025-10-12T00:11:10.547136Z",
     "shell.execute_reply": "2025-10-12T00:11:10.546421Z"
    },
    "papermill": {
     "duration": 0.017268,
     "end_time": "2025-10-12T00:11:10.548153",
     "exception": false,
     "start_time": "2025-10-12T00:11:10.530885",
     "status": "completed"
    },
    "tags": []
   },
   "outputs": [
    {
     "data": {
      "text/html": [
       "<div>\n",
       "<style scoped>\n",
       "    .dataframe tbody tr th:only-of-type {\n",
       "        vertical-align: middle;\n",
       "    }\n",
       "\n",
       "    .dataframe tbody tr th {\n",
       "        vertical-align: top;\n",
       "    }\n",
       "\n",
       "    .dataframe thead th {\n",
       "        text-align: right;\n",
       "    }\n",
       "</style>\n",
       "<table border=\"1\" class=\"dataframe\">\n",
       "  <thead>\n",
       "    <tr style=\"text-align: right;\">\n",
       "      <th></th>\n",
       "      <th>RecordID</th>\n",
       "      <th>Offense</th>\n",
       "      <th>IncidentID</th>\n",
       "      <th>BlockNumber</th>\n",
       "      <th>StreetName</th>\n",
       "      <th>Agency</th>\n",
       "      <th>DateReported</th>\n",
       "      <th>HourReported</th>\n",
       "      <th>ReportingOfficer</th>\n",
       "    </tr>\n",
       "  </thead>\n",
       "  <tbody>\n",
       "    <tr>\n",
       "      <th>0</th>\n",
       "      <td>1</td>\n",
       "      <td>Missing Person-juvenile</td>\n",
       "      <td>202500036799</td>\n",
       "      <td>2300</td>\n",
       "      <td>ANGUS RD</td>\n",
       "      <td>CPD</td>\n",
       "      <td>1760061459000</td>\n",
       "      <td>2157</td>\n",
       "      <td>Wells, Matthew</td>\n",
       "    </tr>\n",
       "    <tr>\n",
       "      <th>1</th>\n",
       "      <td>2</td>\n",
       "      <td>Missing Person-juvenile</td>\n",
       "      <td>202500036816</td>\n",
       "      <td>2300</td>\n",
       "      <td>ANGUS RD</td>\n",
       "      <td>CPD</td>\n",
       "      <td>1760061459000</td>\n",
       "      <td>2157</td>\n",
       "      <td>Wells, Matthew</td>\n",
       "    </tr>\n",
       "    <tr>\n",
       "      <th>2</th>\n",
       "      <td>3</td>\n",
       "      <td>Drug Equipment Violation</td>\n",
       "      <td>202500036780</td>\n",
       "      <td>100</td>\n",
       "      <td>W MAIN ST</td>\n",
       "      <td>CPD</td>\n",
       "      <td>1760054424000</td>\n",
       "      <td>2000</td>\n",
       "      <td>Ritter, Kobe</td>\n",
       "    </tr>\n",
       "    <tr>\n",
       "      <th>3</th>\n",
       "      <td>4</td>\n",
       "      <td>Larceny - All Other</td>\n",
       "      <td>202500036744</td>\n",
       "      <td>1300</td>\n",
       "      <td>LONG ST</td>\n",
       "      <td>CPD</td>\n",
       "      <td>1760041502000</td>\n",
       "      <td>1625</td>\n",
       "      <td>Carrasco, Julio</td>\n",
       "    </tr>\n",
       "    <tr>\n",
       "      <th>4</th>\n",
       "      <td>5</td>\n",
       "      <td>Drug Equipment Violation</td>\n",
       "      <td>202500036742</td>\n",
       "      <td>100</td>\n",
       "      <td>1ST ST S</td>\n",
       "      <td>CPD</td>\n",
       "      <td>1760040361000</td>\n",
       "      <td>1606</td>\n",
       "      <td>Ritter, Kobe</td>\n",
       "    </tr>\n",
       "  </tbody>\n",
       "</table>\n",
       "</div>"
      ],
      "text/plain": [
       "   RecordID                   Offense    IncidentID BlockNumber StreetName  \\\n",
       "0         1   Missing Person-juvenile  202500036799        2300   ANGUS RD   \n",
       "1         2   Missing Person-juvenile  202500036816        2300   ANGUS RD   \n",
       "2         3  Drug Equipment Violation  202500036780         100  W MAIN ST   \n",
       "3         4       Larceny - All Other  202500036744        1300    LONG ST   \n",
       "4         5  Drug Equipment Violation  202500036742         100   1ST ST S   \n",
       "\n",
       "  Agency   DateReported HourReported ReportingOfficer  \n",
       "0    CPD  1760061459000         2157   Wells, Matthew  \n",
       "1    CPD  1760061459000         2157   Wells, Matthew  \n",
       "2    CPD  1760054424000         2000     Ritter, Kobe  \n",
       "3    CPD  1760041502000         1625  Carrasco, Julio  \n",
       "4    CPD  1760040361000         1606     Ritter, Kobe  "
      ]
     },
     "execution_count": 3,
     "metadata": {},
     "output_type": "execute_result"
    }
   ],
   "source": [
    "df.head()"
   ]
  },
  {
   "cell_type": "code",
   "execution_count": 4,
   "id": "e1255cc3",
   "metadata": {
    "execution": {
     "iopub.execute_input": "2025-10-12T00:11:10.556197Z",
     "iopub.status.busy": "2025-10-12T00:11:10.556008Z",
     "iopub.status.idle": "2025-10-12T00:11:10.560185Z",
     "shell.execute_reply": "2025-10-12T00:11:10.559499Z"
    },
    "papermill": {
     "duration": 0.009323,
     "end_time": "2025-10-12T00:11:10.561148",
     "exception": false,
     "start_time": "2025-10-12T00:11:10.551825",
     "status": "completed"
    },
    "tags": []
   },
   "outputs": [
    {
     "data": {
      "text/plain": [
       "Index(['RecordID', 'Offense', 'IncidentID', 'BlockNumber', 'StreetName',\n",
       "       'Agency', 'DateReported', 'HourReported', 'ReportingOfficer'],\n",
       "      dtype='object')"
      ]
     },
     "execution_count": 4,
     "metadata": {},
     "output_type": "execute_result"
    }
   ],
   "source": [
    "df.columns"
   ]
  },
  {
   "cell_type": "code",
   "execution_count": 5,
   "id": "c92910ff",
   "metadata": {
    "execution": {
     "iopub.execute_input": "2025-10-12T00:11:10.569275Z",
     "iopub.status.busy": "2025-10-12T00:11:10.569090Z",
     "iopub.status.idle": "2025-10-12T00:11:10.592469Z",
     "shell.execute_reply": "2025-10-12T00:11:10.591922Z"
    },
    "papermill": {
     "duration": 0.028659,
     "end_time": "2025-10-12T00:11:10.593501",
     "exception": false,
     "start_time": "2025-10-12T00:11:10.564842",
     "status": "completed"
    },
    "tags": []
   },
   "outputs": [
    {
     "name": "stdout",
     "output_type": "stream",
     "text": [
      "<class 'pandas.core.frame.DataFrame'>\n",
      "RangeIndex: 25902 entries, 0 to 25901\n",
      "Data columns (total 9 columns):\n",
      " #   Column            Non-Null Count  Dtype \n",
      "---  ------            --------------  ----- \n",
      " 0   RecordID          25902 non-null  int64 \n",
      " 1   Offense           25902 non-null  object\n",
      " 2   IncidentID        25902 non-null  object\n",
      " 3   BlockNumber       25902 non-null  object\n",
      " 4   StreetName        25902 non-null  object\n",
      " 5   Agency            25902 non-null  object\n",
      " 6   DateReported      25902 non-null  int64 \n",
      " 7   HourReported      25902 non-null  object\n",
      " 8   ReportingOfficer  25889 non-null  object\n",
      "dtypes: int64(2), object(7)\n",
      "memory usage: 1.8+ MB\n"
     ]
    }
   ],
   "source": [
    "df.info()"
   ]
  },
  {
   "cell_type": "markdown",
   "id": "c4d4298e",
   "metadata": {
    "papermill": {
     "duration": 0.003744,
     "end_time": "2025-10-12T00:11:10.601179",
     "exception": false,
     "start_time": "2025-10-12T00:11:10.597435",
     "status": "completed"
    },
    "tags": []
   },
   "source": [
    "### Missing Values"
   ]
  },
  {
   "cell_type": "code",
   "execution_count": 6,
   "id": "e8fd9ec6",
   "metadata": {
    "execution": {
     "iopub.execute_input": "2025-10-12T00:11:10.609363Z",
     "iopub.status.busy": "2025-10-12T00:11:10.609140Z",
     "iopub.status.idle": "2025-10-12T00:11:10.630954Z",
     "shell.execute_reply": "2025-10-12T00:11:10.630377Z"
    },
    "papermill": {
     "duration": 0.027082,
     "end_time": "2025-10-12T00:11:10.631976",
     "exception": false,
     "start_time": "2025-10-12T00:11:10.604894",
     "status": "completed"
    },
    "tags": []
   },
   "outputs": [
    {
     "name": "stdout",
     "output_type": "stream",
     "text": [
      "                  MissingCount  MissingPercentage\n",
      "RecordID                     0               0.00\n",
      "Offense                      0               0.00\n",
      "IncidentID                   0               0.00\n",
      "BlockNumber                  0               0.00\n",
      "StreetName                   0               0.00\n",
      "Agency                       0               0.00\n",
      "DateReported                 0               0.00\n",
      "HourReported                 0               0.00\n",
      "ReportingOfficer            13               0.05\n"
     ]
    }
   ],
   "source": [
    "def missing_percentage(df):\n",
    "    \"\"\"\n",
    "    Returns a DataFrame with the count and percentage of missing values for each column.\n",
    "    \n",
    "    Parameters:\n",
    "        df (pd.DataFrame): The input DataFrame.\n",
    "    \n",
    "    Returns:\n",
    "        pd.DataFrame: A DataFrame with columns 'MissingCount' and 'MissingPercentage'.\n",
    "    \"\"\"\n",
    "    total_rows = len(df)\n",
    "    missing_count = df.isnull().sum()\n",
    "    missing_percent = (missing_count / total_rows) * 100\n",
    "    \n",
    "    result = pd.DataFrame({\n",
    "        'MissingCount': missing_count,\n",
    "        'MissingPercentage': missing_percent.round(2)\n",
    "    })\n",
    "    \n",
    "    return result\n",
    "\n",
    "# Example usage:\n",
    "missing_info = missing_percentage(df)\n",
    "print(missing_info)\n"
   ]
  },
  {
   "cell_type": "markdown",
   "id": "7e7855e5",
   "metadata": {
    "papermill": {
     "duration": 0.003893,
     "end_time": "2025-10-12T00:11:10.640032",
     "exception": false,
     "start_time": "2025-10-12T00:11:10.636139",
     "status": "completed"
    },
    "tags": []
   },
   "source": [
    "## Data Preparation"
   ]
  },
  {
   "cell_type": "markdown",
   "id": "8a4c656b",
   "metadata": {
    "papermill": {
     "duration": 0.003794,
     "end_time": "2025-10-12T00:11:10.647626",
     "exception": false,
     "start_time": "2025-10-12T00:11:10.643832",
     "status": "completed"
    },
    "tags": []
   },
   "source": [
    "### Data Conversion"
   ]
  },
  {
   "cell_type": "code",
   "execution_count": 7,
   "id": "f094427f",
   "metadata": {
    "execution": {
     "iopub.execute_input": "2025-10-12T00:11:10.656143Z",
     "iopub.status.busy": "2025-10-12T00:11:10.655909Z",
     "iopub.status.idle": "2025-10-12T00:11:11.026908Z",
     "shell.execute_reply": "2025-10-12T00:11:11.026254Z"
    },
    "papermill": {
     "duration": 0.376493,
     "end_time": "2025-10-12T00:11:11.027993",
     "exception": false,
     "start_time": "2025-10-12T00:11:10.651500",
     "status": "completed"
    },
    "tags": []
   },
   "outputs": [
    {
     "data": {
      "text/html": [
       "<div>\n",
       "<style scoped>\n",
       "    .dataframe tbody tr th:only-of-type {\n",
       "        vertical-align: middle;\n",
       "    }\n",
       "\n",
       "    .dataframe tbody tr th {\n",
       "        vertical-align: top;\n",
       "    }\n",
       "\n",
       "    .dataframe thead th {\n",
       "        text-align: right;\n",
       "    }\n",
       "</style>\n",
       "<table border=\"1\" class=\"dataframe\">\n",
       "  <thead>\n",
       "    <tr style=\"text-align: right;\">\n",
       "      <th></th>\n",
       "      <th>RecordID</th>\n",
       "      <th>Offense</th>\n",
       "      <th>IncidentID</th>\n",
       "      <th>BlockNumber</th>\n",
       "      <th>StreetName</th>\n",
       "      <th>Agency</th>\n",
       "      <th>HourReported</th>\n",
       "      <th>ReportingOfficer</th>\n",
       "      <th>Date</th>\n",
       "      <th>DateString</th>\n",
       "      <th>DayOfWeek</th>\n",
       "      <th>Weekend</th>\n",
       "      <th>Season</th>\n",
       "      <th>HourAMPM</th>\n",
       "      <th>TimeOfDay</th>\n",
       "    </tr>\n",
       "  </thead>\n",
       "  <tbody>\n",
       "    <tr>\n",
       "      <th>0</th>\n",
       "      <td>1</td>\n",
       "      <td>Missing Person-juvenile</td>\n",
       "      <td>202500036799</td>\n",
       "      <td>2300</td>\n",
       "      <td>ANGUS RD</td>\n",
       "      <td>CPD</td>\n",
       "      <td>2157</td>\n",
       "      <td>Wells, Matthew</td>\n",
       "      <td>2025-10-09 21:57:39</td>\n",
       "      <td>2025-10-09 09:57:39 PM</td>\n",
       "      <td>Thursday</td>\n",
       "      <td>False</td>\n",
       "      <td>Autumn</td>\n",
       "      <td>09:57 PM</td>\n",
       "      <td>Night</td>\n",
       "    </tr>\n",
       "    <tr>\n",
       "      <th>1</th>\n",
       "      <td>2</td>\n",
       "      <td>Missing Person-juvenile</td>\n",
       "      <td>202500036816</td>\n",
       "      <td>2300</td>\n",
       "      <td>ANGUS RD</td>\n",
       "      <td>CPD</td>\n",
       "      <td>2157</td>\n",
       "      <td>Wells, Matthew</td>\n",
       "      <td>2025-10-09 21:57:39</td>\n",
       "      <td>2025-10-09 09:57:39 PM</td>\n",
       "      <td>Thursday</td>\n",
       "      <td>False</td>\n",
       "      <td>Autumn</td>\n",
       "      <td>09:57 PM</td>\n",
       "      <td>Night</td>\n",
       "    </tr>\n",
       "    <tr>\n",
       "      <th>2</th>\n",
       "      <td>3</td>\n",
       "      <td>Drug Equipment Violation</td>\n",
       "      <td>202500036780</td>\n",
       "      <td>100</td>\n",
       "      <td>W MAIN ST</td>\n",
       "      <td>CPD</td>\n",
       "      <td>2000</td>\n",
       "      <td>Ritter, Kobe</td>\n",
       "      <td>2025-10-09 20:00:24</td>\n",
       "      <td>2025-10-09 08:00:24 PM</td>\n",
       "      <td>Thursday</td>\n",
       "      <td>False</td>\n",
       "      <td>Autumn</td>\n",
       "      <td>08:00 PM</td>\n",
       "      <td>Evening</td>\n",
       "    </tr>\n",
       "    <tr>\n",
       "      <th>3</th>\n",
       "      <td>4</td>\n",
       "      <td>Larceny - All Other</td>\n",
       "      <td>202500036744</td>\n",
       "      <td>1300</td>\n",
       "      <td>LONG ST</td>\n",
       "      <td>CPD</td>\n",
       "      <td>1625</td>\n",
       "      <td>Carrasco, Julio</td>\n",
       "      <td>2025-10-09 16:25:02</td>\n",
       "      <td>2025-10-09 04:25:02 PM</td>\n",
       "      <td>Thursday</td>\n",
       "      <td>False</td>\n",
       "      <td>Autumn</td>\n",
       "      <td>04:25 PM</td>\n",
       "      <td>Afternoon</td>\n",
       "    </tr>\n",
       "    <tr>\n",
       "      <th>4</th>\n",
       "      <td>5</td>\n",
       "      <td>Drug Equipment Violation</td>\n",
       "      <td>202500036742</td>\n",
       "      <td>100</td>\n",
       "      <td>1ST ST S</td>\n",
       "      <td>CPD</td>\n",
       "      <td>1606</td>\n",
       "      <td>Ritter, Kobe</td>\n",
       "      <td>2025-10-09 16:06:01</td>\n",
       "      <td>2025-10-09 04:06:01 PM</td>\n",
       "      <td>Thursday</td>\n",
       "      <td>False</td>\n",
       "      <td>Autumn</td>\n",
       "      <td>04:06 PM</td>\n",
       "      <td>Afternoon</td>\n",
       "    </tr>\n",
       "  </tbody>\n",
       "</table>\n",
       "</div>"
      ],
      "text/plain": [
       "   RecordID                   Offense    IncidentID BlockNumber StreetName  \\\n",
       "0         1   Missing Person-juvenile  202500036799        2300   ANGUS RD   \n",
       "1         2   Missing Person-juvenile  202500036816        2300   ANGUS RD   \n",
       "2         3  Drug Equipment Violation  202500036780         100  W MAIN ST   \n",
       "3         4       Larceny - All Other  202500036744        1300    LONG ST   \n",
       "4         5  Drug Equipment Violation  202500036742         100   1ST ST S   \n",
       "\n",
       "  Agency HourReported ReportingOfficer                Date  \\\n",
       "0    CPD         2157   Wells, Matthew 2025-10-09 21:57:39   \n",
       "1    CPD         2157   Wells, Matthew 2025-10-09 21:57:39   \n",
       "2    CPD         2000     Ritter, Kobe 2025-10-09 20:00:24   \n",
       "3    CPD         1625  Carrasco, Julio 2025-10-09 16:25:02   \n",
       "4    CPD         1606     Ritter, Kobe 2025-10-09 16:06:01   \n",
       "\n",
       "               DateString DayOfWeek  Weekend  Season  HourAMPM  TimeOfDay  \n",
       "0  2025-10-09 09:57:39 PM  Thursday    False  Autumn  09:57 PM      Night  \n",
       "1  2025-10-09 09:57:39 PM  Thursday    False  Autumn  09:57 PM      Night  \n",
       "2  2025-10-09 08:00:24 PM  Thursday    False  Autumn  08:00 PM    Evening  \n",
       "3  2025-10-09 04:25:02 PM  Thursday    False  Autumn  04:25 PM  Afternoon  \n",
       "4  2025-10-09 04:06:01 PM  Thursday    False  Autumn  04:06 PM  Afternoon  "
      ]
     },
     "execution_count": 7,
     "metadata": {},
     "output_type": "execute_result"
    }
   ],
   "source": [
    "def convert_and_categorize_datereported(df, col='DateReported'):\n",
    "    \"\"\"\n",
    "    Converts an epoch (in milliseconds) date column into a timezone-aware datetime,\n",
    "    converts it to Eastern Time, and then creates columns for day-of-week, weekend flag,\n",
    "    season, 12-hour formatted time, and time-of-day. Keeps both a real datetime column\n",
    "    (Date) and a string representation (DateString).\n",
    "    \"\"\"\n",
    "    import pandas as pd\n",
    "\n",
    "    # Convert the epoch timestamp to a pandas datetime object as UTC, then convert to US/Eastern.\n",
    "    df[\"DateReported_dt\"] = (\n",
    "        pd.to_datetime(df[col], unit=\"ms\", errors=\"coerce\", utc=True)\n",
    "        .dt.tz_convert(\"US/Eastern\")\n",
    "    )\n",
    "    \n",
    "    # Create a true datetime column (remove timezone if you prefer naive datetime)\n",
    "    df[\"Date\"] = df[\"DateReported_dt\"].dt.tz_localize(None)\n",
    "\n",
    "    # Optionally, create a separate string-formatted column\n",
    "    df[\"DateString\"] = df[\"DateReported_dt\"].dt.strftime(\"%Y-%m-%d %I:%M:%S %p\")\n",
    "    \n",
    "    # DayOfWeek\n",
    "    df[\"DayOfWeek\"] = df[\"DateReported_dt\"].dt.day_name()\n",
    "    \n",
    "    # Weekend\n",
    "    df[\"Weekend\"] = df[\"DayOfWeek\"].isin([\"Saturday\", \"Sunday\"])\n",
    "    \n",
    "    # Helper function to determine the season\n",
    "    def get_season(dt):\n",
    "        month = dt.month\n",
    "        day = dt.day\n",
    "        # Approximate Northern Hemisphere season boundaries:\n",
    "        if (month == 12 and day >= 21) or (month < 3) or (month == 3 and day < 20):\n",
    "            return \"Winter\"\n",
    "        elif (month == 3 and day >= 20) or (month < 6) or (month == 6 and day < 21):\n",
    "            return \"Spring\"\n",
    "        elif (month == 6 and day >= 21) or (month < 9) or (month == 9 and day < 22):\n",
    "            return \"Summer\"\n",
    "        else:\n",
    "            return \"Autumn\"\n",
    "    \n",
    "    df[\"Season\"] = df[\"DateReported_dt\"].apply(get_season)\n",
    "    \n",
    "    # 12-hour formatted time (HourAMPM)\n",
    "    df[\"HourAMPM\"] = df[\"DateReported_dt\"].dt.strftime(\"%I:%M %p\")\n",
    "    \n",
    "    # Extract hour (0-23) for time-of-day\n",
    "    df[\"HourValue\"] = df[\"DateReported_dt\"].dt.hour\n",
    "    \n",
    "    def time_of_day(hour):\n",
    "        if pd.isnull(hour):\n",
    "            return None\n",
    "        if 5 <= hour < 12:\n",
    "            return \"Morning\"\n",
    "        elif 12 <= hour < 17:\n",
    "            return \"Afternoon\"\n",
    "        elif 17 <= hour < 21:\n",
    "            return \"Evening\"\n",
    "        else:\n",
    "            return \"Night\"\n",
    "    \n",
    "    df[\"TimeOfDay\"] = df[\"HourValue\"].apply(time_of_day)\n",
    "    \n",
    "    # Drop columns you no longer need\n",
    "    df.drop(columns=[col, \"DateReported_dt\", \"HourValue\"], inplace=True)\n",
    "    \n",
    "    return df\n",
    "\n",
    "# Example usage:\n",
    "df = convert_and_categorize_datereported(df)\n",
    "df.head()\n"
   ]
  },
  {
   "cell_type": "code",
   "execution_count": 8,
   "id": "41a61b9e",
   "metadata": {
    "execution": {
     "iopub.execute_input": "2025-10-12T00:11:11.037358Z",
     "iopub.status.busy": "2025-10-12T00:11:11.037155Z",
     "iopub.status.idle": "2025-10-12T00:11:11.065115Z",
     "shell.execute_reply": "2025-10-12T00:11:11.064509Z"
    },
    "papermill": {
     "duration": 0.033757,
     "end_time": "2025-10-12T00:11:11.066206",
     "exception": false,
     "start_time": "2025-10-12T00:11:11.032449",
     "status": "completed"
    },
    "tags": []
   },
   "outputs": [
    {
     "name": "stdout",
     "output_type": "stream",
     "text": [
      "<class 'pandas.core.frame.DataFrame'>\n",
      "RangeIndex: 25902 entries, 0 to 25901\n",
      "Data columns (total 15 columns):\n",
      " #   Column            Non-Null Count  Dtype         \n",
      "---  ------            --------------  -----         \n",
      " 0   RecordID          25902 non-null  int64         \n",
      " 1   Offense           25902 non-null  object        \n",
      " 2   IncidentID        25902 non-null  object        \n",
      " 3   BlockNumber       25902 non-null  object        \n",
      " 4   StreetName        25902 non-null  object        \n",
      " 5   Agency            25902 non-null  object        \n",
      " 6   HourReported      25902 non-null  object        \n",
      " 7   ReportingOfficer  25889 non-null  object        \n",
      " 8   Date              25902 non-null  datetime64[ns]\n",
      " 9   DateString        25902 non-null  object        \n",
      " 10  DayOfWeek         25902 non-null  object        \n",
      " 11  Weekend           25902 non-null  bool          \n",
      " 12  Season            25902 non-null  object        \n",
      " 13  HourAMPM          25902 non-null  object        \n",
      " 14  TimeOfDay         25902 non-null  object        \n",
      "dtypes: bool(1), datetime64[ns](1), int64(1), object(12)\n",
      "memory usage: 2.8+ MB\n"
     ]
    }
   ],
   "source": [
    "df.info()"
   ]
  },
  {
   "cell_type": "markdown",
   "id": "92191de0",
   "metadata": {
    "papermill": {
     "duration": 0.004085,
     "end_time": "2025-10-12T00:11:11.074736",
     "exception": false,
     "start_time": "2025-10-12T00:11:11.070651",
     "status": "completed"
    },
    "tags": []
   },
   "source": [
    "### Coordinates"
   ]
  },
  {
   "cell_type": "code",
   "execution_count": 9,
   "id": "59d3026e",
   "metadata": {
    "execution": {
     "iopub.execute_input": "2025-10-12T00:11:11.083717Z",
     "iopub.status.busy": "2025-10-12T00:11:11.083522Z",
     "iopub.status.idle": "2025-10-12T00:11:11.516715Z",
     "shell.execute_reply": "2025-10-12T00:11:11.516041Z"
    },
    "papermill": {
     "duration": 0.439002,
     "end_time": "2025-10-12T00:11:11.517820",
     "exception": false,
     "start_time": "2025-10-12T00:11:11.078818",
     "status": "completed"
    },
    "tags": []
   },
   "outputs": [
    {
     "name": "stdout",
     "output_type": "stream",
     "text": [
      "Loaded geocode cache.\n",
      "Error geocoding 1800 YORKTOWN DR, B: REQUEST_DENIED (You must enable Billing on the Google Cloud Project at https://console.cloud.google.com/project/_/billing/enable Learn more at https://developers.google.com/maps/gmp-get-started)\n",
      "Geocoded 1800 YORKTOWN DR, B: None, None\n"
     ]
    },
    {
     "name": "stdout",
     "output_type": "stream",
     "text": [
      "Error geocoding 200 14TH ST NW, 105: REQUEST_DENIED (You must enable Billing on the Google Cloud Project at https://console.cloud.google.com/project/_/billing/enable Learn more at https://developers.google.com/maps/gmp-get-started)\n",
      "Geocoded 200 14TH ST NW, 105: None, None\n",
      "Error geocoding  MEADOWBROOK HEIGHTS RD / YORKTOWN DR: REQUEST_DENIED (You must enable Billing on the Google Cloud Project at https://console.cloud.google.com/project/_/billing/enable Learn more at https://developers.google.com/maps/gmp-get-started)\n",
      "Geocoded  MEADOWBROOK HEIGHTS RD / YORKTOWN DR: None, None\n",
      "Geocode cache updated and saved.\n"
     ]
    },
    {
     "data": {
      "text/html": [
       "<div>\n",
       "<style scoped>\n",
       "    .dataframe tbody tr th:only-of-type {\n",
       "        vertical-align: middle;\n",
       "    }\n",
       "\n",
       "    .dataframe tbody tr th {\n",
       "        vertical-align: top;\n",
       "    }\n",
       "\n",
       "    .dataframe thead th {\n",
       "        text-align: right;\n",
       "    }\n",
       "</style>\n",
       "<table border=\"1\" class=\"dataframe\">\n",
       "  <thead>\n",
       "    <tr style=\"text-align: right;\">\n",
       "      <th></th>\n",
       "      <th>RecordID</th>\n",
       "      <th>Offense</th>\n",
       "      <th>IncidentID</th>\n",
       "      <th>BlockNumber</th>\n",
       "      <th>StreetName</th>\n",
       "      <th>Agency</th>\n",
       "      <th>HourReported</th>\n",
       "      <th>ReportingOfficer</th>\n",
       "      <th>Date</th>\n",
       "      <th>DateString</th>\n",
       "      <th>DayOfWeek</th>\n",
       "      <th>Weekend</th>\n",
       "      <th>Season</th>\n",
       "      <th>HourAMPM</th>\n",
       "      <th>TimeOfDay</th>\n",
       "      <th>FullStreet</th>\n",
       "      <th>lat</th>\n",
       "      <th>lon</th>\n",
       "    </tr>\n",
       "  </thead>\n",
       "  <tbody>\n",
       "    <tr>\n",
       "      <th>0</th>\n",
       "      <td>1</td>\n",
       "      <td>Missing Person-juvenile</td>\n",
       "      <td>202500036799</td>\n",
       "      <td>2300</td>\n",
       "      <td>ANGUS RD</td>\n",
       "      <td>CPD</td>\n",
       "      <td>2157</td>\n",
       "      <td>Wells, Matthew</td>\n",
       "      <td>2025-10-09 21:57:39</td>\n",
       "      <td>2025-10-09 09:57:39 PM</td>\n",
       "      <td>Thursday</td>\n",
       "      <td>False</td>\n",
       "      <td>Autumn</td>\n",
       "      <td>09:57 PM</td>\n",
       "      <td>Night</td>\n",
       "      <td>2300 ANGUS RD</td>\n",
       "      <td>38.061220</td>\n",
       "      <td>-78.498020</td>\n",
       "    </tr>\n",
       "    <tr>\n",
       "      <th>1</th>\n",
       "      <td>2</td>\n",
       "      <td>Missing Person-juvenile</td>\n",
       "      <td>202500036816</td>\n",
       "      <td>2300</td>\n",
       "      <td>ANGUS RD</td>\n",
       "      <td>CPD</td>\n",
       "      <td>2157</td>\n",
       "      <td>Wells, Matthew</td>\n",
       "      <td>2025-10-09 21:57:39</td>\n",
       "      <td>2025-10-09 09:57:39 PM</td>\n",
       "      <td>Thursday</td>\n",
       "      <td>False</td>\n",
       "      <td>Autumn</td>\n",
       "      <td>09:57 PM</td>\n",
       "      <td>Night</td>\n",
       "      <td>2300 ANGUS RD</td>\n",
       "      <td>38.061220</td>\n",
       "      <td>-78.498020</td>\n",
       "    </tr>\n",
       "    <tr>\n",
       "      <th>2</th>\n",
       "      <td>3</td>\n",
       "      <td>Drug Equipment Violation</td>\n",
       "      <td>202500036780</td>\n",
       "      <td>100</td>\n",
       "      <td>W MAIN ST</td>\n",
       "      <td>CPD</td>\n",
       "      <td>2000</td>\n",
       "      <td>Ritter, Kobe</td>\n",
       "      <td>2025-10-09 20:00:24</td>\n",
       "      <td>2025-10-09 08:00:24 PM</td>\n",
       "      <td>Thursday</td>\n",
       "      <td>False</td>\n",
       "      <td>Autumn</td>\n",
       "      <td>08:00 PM</td>\n",
       "      <td>Evening</td>\n",
       "      <td>100 W MAIN ST</td>\n",
       "      <td>38.030718</td>\n",
       "      <td>-78.481656</td>\n",
       "    </tr>\n",
       "    <tr>\n",
       "      <th>3</th>\n",
       "      <td>4</td>\n",
       "      <td>Larceny - All Other</td>\n",
       "      <td>202500036744</td>\n",
       "      <td>1300</td>\n",
       "      <td>LONG ST</td>\n",
       "      <td>CPD</td>\n",
       "      <td>1625</td>\n",
       "      <td>Carrasco, Julio</td>\n",
       "      <td>2025-10-09 16:25:02</td>\n",
       "      <td>2025-10-09 04:25:02 PM</td>\n",
       "      <td>Thursday</td>\n",
       "      <td>False</td>\n",
       "      <td>Autumn</td>\n",
       "      <td>04:25 PM</td>\n",
       "      <td>Afternoon</td>\n",
       "      <td>1300 LONG ST</td>\n",
       "      <td>38.035438</td>\n",
       "      <td>-78.462875</td>\n",
       "    </tr>\n",
       "    <tr>\n",
       "      <th>4</th>\n",
       "      <td>5</td>\n",
       "      <td>Drug Equipment Violation</td>\n",
       "      <td>202500036742</td>\n",
       "      <td>100</td>\n",
       "      <td>1ST ST S</td>\n",
       "      <td>CPD</td>\n",
       "      <td>1606</td>\n",
       "      <td>Ritter, Kobe</td>\n",
       "      <td>2025-10-09 16:06:01</td>\n",
       "      <td>2025-10-09 04:06:01 PM</td>\n",
       "      <td>Thursday</td>\n",
       "      <td>False</td>\n",
       "      <td>Autumn</td>\n",
       "      <td>04:06 PM</td>\n",
       "      <td>Afternoon</td>\n",
       "      <td>100 1ST ST S</td>\n",
       "      <td>38.030310</td>\n",
       "      <td>-78.481732</td>\n",
       "    </tr>\n",
       "  </tbody>\n",
       "</table>\n",
       "</div>"
      ],
      "text/plain": [
       "   RecordID                   Offense    IncidentID BlockNumber StreetName  \\\n",
       "0         1   Missing Person-juvenile  202500036799        2300   ANGUS RD   \n",
       "1         2   Missing Person-juvenile  202500036816        2300   ANGUS RD   \n",
       "2         3  Drug Equipment Violation  202500036780         100  W MAIN ST   \n",
       "3         4       Larceny - All Other  202500036744        1300    LONG ST   \n",
       "4         5  Drug Equipment Violation  202500036742         100   1ST ST S   \n",
       "\n",
       "  Agency HourReported ReportingOfficer                Date  \\\n",
       "0    CPD         2157   Wells, Matthew 2025-10-09 21:57:39   \n",
       "1    CPD         2157   Wells, Matthew 2025-10-09 21:57:39   \n",
       "2    CPD         2000     Ritter, Kobe 2025-10-09 20:00:24   \n",
       "3    CPD         1625  Carrasco, Julio 2025-10-09 16:25:02   \n",
       "4    CPD         1606     Ritter, Kobe 2025-10-09 16:06:01   \n",
       "\n",
       "               DateString DayOfWeek  Weekend  Season  HourAMPM  TimeOfDay  \\\n",
       "0  2025-10-09 09:57:39 PM  Thursday    False  Autumn  09:57 PM      Night   \n",
       "1  2025-10-09 09:57:39 PM  Thursday    False  Autumn  09:57 PM      Night   \n",
       "2  2025-10-09 08:00:24 PM  Thursday    False  Autumn  08:00 PM    Evening   \n",
       "3  2025-10-09 04:25:02 PM  Thursday    False  Autumn  04:25 PM  Afternoon   \n",
       "4  2025-10-09 04:06:01 PM  Thursday    False  Autumn  04:06 PM  Afternoon   \n",
       "\n",
       "      FullStreet        lat        lon  \n",
       "0  2300 ANGUS RD  38.061220 -78.498020  \n",
       "1  2300 ANGUS RD  38.061220 -78.498020  \n",
       "2  100 W MAIN ST  38.030718 -78.481656  \n",
       "3   1300 LONG ST  38.035438 -78.462875  \n",
       "4   100 1ST ST S  38.030310 -78.481732  "
      ]
     },
     "execution_count": 9,
     "metadata": {},
     "output_type": "execute_result"
    }
   ],
   "source": [
    "# Combine BlockNumber and StreetName into a full address string\n",
    "df['FullStreet'] = df['BlockNumber'].astype(str) + \" \" + df['StreetName']\n",
    "\n",
    "# --- Step 1: Setup the Google Maps Client and Cache ---\n",
    "gmaps = googlemaps.Client(key=GOOGLE_API_KEY)\n",
    "\n",
    "# Try to load cached geocoding results if available.\n",
    "try:\n",
    "    with open(\"geocode_cache_google.pkl\", \"rb\") as f:\n",
    "        street_coords = pickle.load(f)\n",
    "    print(\"Loaded geocode cache.\")\n",
    "except FileNotFoundError:\n",
    "    street_coords = {}\n",
    "    print(\"No cache found; starting fresh.\")\n",
    "\n",
    "def geocode_address(address):\n",
    "    try:\n",
    "        # Append city and state to help geocoding\n",
    "        result = gmaps.geocode(f\"{address}, Charlottesville, VA\")\n",
    "        if result:\n",
    "            lat = result[0]['geometry']['location']['lat']\n",
    "            lon = result[0]['geometry']['location']['lng']\n",
    "            return lat, lon\n",
    "    except Exception as e:\n",
    "        print(f\"Error geocoding {address}: {e}\")\n",
    "    return None, None\n",
    "\n",
    "# --- Step 2: Geocode Only New Addresses ---\n",
    "unique_addresses = df['FullStreet'].unique()\n",
    "for address in unique_addresses:\n",
    "    if address not in street_coords:\n",
    "        lat, lon = geocode_address(address)\n",
    "        street_coords[address] = (lat, lon)\n",
    "        print(f\"Geocoded {address}: {lat}, {lon}\")\n",
    "\n",
    "# Save the updated cache to disk.\n",
    "with open(\"geocode_cache_google.pkl\", \"wb\") as f:\n",
    "    pickle.dump(street_coords, f)\n",
    "    print(\"Geocode cache updated and saved.\")\n",
    "\n",
    "# --- Step 3: Map Coordinates Back to DataFrame ---\n",
    "df['lat'] = df['FullStreet'].map(lambda s: street_coords.get(s, (None, None))[0])\n",
    "df['lon'] = df['FullStreet'].map(lambda s: street_coords.get(s, (None, None))[1])\n",
    "\n",
    "df.head()"
   ]
  },
  {
   "cell_type": "markdown",
   "id": "99cc043a",
   "metadata": {
    "papermill": {
     "duration": 0.004414,
     "end_time": "2025-10-12T00:11:11.527122",
     "exception": false,
     "start_time": "2025-10-12T00:11:11.522708",
     "status": "completed"
    },
    "tags": []
   },
   "source": [
    "### Neighborhood"
   ]
  },
  {
   "cell_type": "code",
   "execution_count": 10,
   "id": "e3af6b48",
   "metadata": {
    "execution": {
     "iopub.execute_input": "2025-10-12T00:11:11.537031Z",
     "iopub.status.busy": "2025-10-12T00:11:11.536749Z",
     "iopub.status.idle": "2025-10-12T00:11:15.362314Z",
     "shell.execute_reply": "2025-10-12T00:11:15.361573Z"
    },
    "papermill": {
     "duration": 3.831859,
     "end_time": "2025-10-12T00:11:15.363417",
     "exception": false,
     "start_time": "2025-10-12T00:11:11.531558",
     "status": "completed"
    },
    "tags": []
   },
   "outputs": [
    {
     "name": "stdout",
     "output_type": "stream",
     "text": [
      "Loaded neighborhood cache.\n"
     ]
    },
    {
     "name": "stdout",
     "output_type": "stream",
     "text": [
      "Error getting neighborhood for nan, nan: HTTP Error: 400\n",
      "Error getting neighborhood for nan, nan: HTTP Error: 400\n",
      "Error getting neighborhood for nan, nan: HTTP Error: 400\n"
     ]
    },
    {
     "name": "stdout",
     "output_type": "stream",
     "text": [
      "Error getting neighborhood for nan, nan: HTTP Error: 400\n",
      "Error getting neighborhood for nan, nan: HTTP Error: 400\n",
      "Error getting neighborhood for nan, nan: HTTP Error: 400\n",
      "Error getting neighborhood for nan, nan: HTTP Error: 400\n"
     ]
    },
    {
     "name": "stdout",
     "output_type": "stream",
     "text": [
      "Error getting neighborhood for nan, nan: HTTP Error: 400\n",
      "Error getting neighborhood for nan, nan: HTTP Error: 400\n",
      "Error getting neighborhood for nan, nan: HTTP Error: 400\n"
     ]
    },
    {
     "name": "stdout",
     "output_type": "stream",
     "text": [
      "Error getting neighborhood for nan, nan: HTTP Error: 400\n",
      "Error getting neighborhood for nan, nan: HTTP Error: 400\n",
      "Error getting neighborhood for nan, nan: HTTP Error: 400\n",
      "Error getting neighborhood for nan, nan: HTTP Error: 400\n",
      "Error getting neighborhood for nan, nan: HTTP Error: 400\n",
      "Error getting neighborhood for nan, nan: HTTP Error: 400\n",
      "Error getting neighborhood for nan, nan: HTTP Error: 400\n",
      "Error getting neighborhood for nan, nan: HTTP Error: 400\n",
      "Error getting neighborhood for nan, nan: HTTP Error: 400\n"
     ]
    },
    {
     "name": "stdout",
     "output_type": "stream",
     "text": [
      "Error getting neighborhood for nan, nan: HTTP Error: 400\n",
      "Error getting neighborhood for nan, nan: HTTP Error: 400\n",
      "Error getting neighborhood for nan, nan: HTTP Error: 400\n",
      "Error getting neighborhood for nan, nan: HTTP Error: 400\n",
      "Error getting neighborhood for nan, nan: HTTP Error: 400\n",
      "Error getting neighborhood for nan, nan: HTTP Error: 400\n"
     ]
    },
    {
     "name": "stdout",
     "output_type": "stream",
     "text": [
      "Error getting neighborhood for nan, nan: HTTP Error: 400\n",
      "Error getting neighborhood for nan, nan: HTTP Error: 400\n",
      "Error getting neighborhood for nan, nan: HTTP Error: 400\n",
      "Error getting neighborhood for nan, nan: HTTP Error: 400\n",
      "Error getting neighborhood for nan, nan: HTTP Error: 400\n",
      "Error getting neighborhood for nan, nan: HTTP Error: 400\n",
      "Error getting neighborhood for nan, nan: HTTP Error: 400\n",
      "Error getting neighborhood for nan, nan: HTTP Error: 400\n",
      "Error getting neighborhood for nan, nan: HTTP Error: 400\n"
     ]
    },
    {
     "name": "stdout",
     "output_type": "stream",
     "text": [
      "Error getting neighborhood for nan, nan: HTTP Error: 400\n",
      "Error getting neighborhood for nan, nan: HTTP Error: 400\n",
      "Error getting neighborhood for nan, nan: HTTP Error: 400\n",
      "Error getting neighborhood for nan, nan: HTTP Error: 400\n",
      "Error getting neighborhood for nan, nan: HTTP Error: 400\n",
      "Error getting neighborhood for nan, nan: HTTP Error: 400\n"
     ]
    },
    {
     "name": "stdout",
     "output_type": "stream",
     "text": [
      "Error getting neighborhood for nan, nan: HTTP Error: 400\n",
      "Error getting neighborhood for nan, nan: HTTP Error: 400\n",
      "Error getting neighborhood for nan, nan: HTTP Error: 400\n",
      "Error getting neighborhood for nan, nan: HTTP Error: 400\n",
      "Error getting neighborhood for nan, nan: HTTP Error: 400\n",
      "Error getting neighborhood for nan, nan: HTTP Error: 400\n",
      "Error getting neighborhood for nan, nan: HTTP Error: 400\n",
      "Error getting neighborhood for nan, nan: HTTP Error: 400\n",
      "Error getting neighborhood for nan, nan: HTTP Error: 400\n"
     ]
    },
    {
     "name": "stdout",
     "output_type": "stream",
     "text": [
      "Error getting neighborhood for nan, nan: HTTP Error: 400\n",
      "Error getting neighborhood for nan, nan: HTTP Error: 400\n",
      "Error getting neighborhood for nan, nan: HTTP Error: 400\n",
      "Error getting neighborhood for nan, nan: HTTP Error: 400\n",
      "Error getting neighborhood for nan, nan: HTTP Error: 400\n",
      "Error getting neighborhood for nan, nan: HTTP Error: 400\n"
     ]
    },
    {
     "name": "stdout",
     "output_type": "stream",
     "text": [
      "Error getting neighborhood for nan, nan: HTTP Error: 400\n",
      "Error getting neighborhood for nan, nan: HTTP Error: 400\n",
      "Error getting neighborhood for nan, nan: HTTP Error: 400\n",
      "Error getting neighborhood for nan, nan: HTTP Error: 400\n",
      "Error getting neighborhood for nan, nan: HTTP Error: 400\n",
      "Error getting neighborhood for nan, nan: HTTP Error: 400\n",
      "Error getting neighborhood for nan, nan: HTTP Error: 400\n",
      "Error getting neighborhood for nan, nan: HTTP Error: 400\n",
      "Error getting neighborhood for nan, nan: HTTP Error: 400\n"
     ]
    },
    {
     "name": "stdout",
     "output_type": "stream",
     "text": [
      "Error getting neighborhood for nan, nan: HTTP Error: 400\n",
      "Error getting neighborhood for nan, nan: HTTP Error: 400\n",
      "Error getting neighborhood for nan, nan: HTTP Error: 400\n",
      "Error getting neighborhood for nan, nan: HTTP Error: 400\n",
      "Error getting neighborhood for nan, nan: HTTP Error: 400\n",
      "Error getting neighborhood for nan, nan: HTTP Error: 400\n"
     ]
    },
    {
     "name": "stdout",
     "output_type": "stream",
     "text": [
      "Error getting neighborhood for nan, nan: HTTP Error: 400\n",
      "Error getting neighborhood for nan, nan: HTTP Error: 400\n",
      "Error getting neighborhood for nan, nan: HTTP Error: 400\n",
      "Error getting neighborhood for nan, nan: HTTP Error: 400\n",
      "Error getting neighborhood for nan, nan: HTTP Error: 400\n",
      "Error getting neighborhood for nan, nan: HTTP Error: 400\n",
      "Error getting neighborhood for nan, nan: HTTP Error: 400\n",
      "Error getting neighborhood for nan, nan: HTTP Error: 400\n",
      "Error getting neighborhood for nan, nan: HTTP Error: 400\n"
     ]
    },
    {
     "name": "stdout",
     "output_type": "stream",
     "text": [
      "Error getting neighborhood for nan, nan: HTTP Error: 400\n",
      "Error getting neighborhood for nan, nan: HTTP Error: 400\n",
      "Error getting neighborhood for nan, nan: HTTP Error: 400\n",
      "Error getting neighborhood for nan, nan: HTTP Error: 400\n",
      "Error getting neighborhood for nan, nan: HTTP Error: 400\n",
      "Error getting neighborhood for nan, nan: HTTP Error: 400\n"
     ]
    },
    {
     "name": "stdout",
     "output_type": "stream",
     "text": [
      "Error getting neighborhood for nan, nan: HTTP Error: 400\n",
      "Error getting neighborhood for nan, nan: HTTP Error: 400\n",
      "Error getting neighborhood for nan, nan: HTTP Error: 400\n",
      "Error getting neighborhood for nan, nan: HTTP Error: 400\n",
      "Error getting neighborhood for nan, nan: HTTP Error: 400\n",
      "Error getting neighborhood for nan, nan: HTTP Error: 400\n",
      "Error getting neighborhood for nan, nan: HTTP Error: 400\n",
      "Error getting neighborhood for nan, nan: HTTP Error: 400\n",
      "Error getting neighborhood for nan, nan: HTTP Error: 400\n"
     ]
    },
    {
     "name": "stdout",
     "output_type": "stream",
     "text": [
      "Error getting neighborhood for nan, nan: HTTP Error: 400\n",
      "Error getting neighborhood for nan, nan: HTTP Error: 400\n",
      "Error getting neighborhood for nan, nan: HTTP Error: 400\n",
      "Error getting neighborhood for nan, nan: HTTP Error: 400\n",
      "Error getting neighborhood for nan, nan: HTTP Error: 400\n",
      "Error getting neighborhood for nan, nan: HTTP Error: 400\n"
     ]
    },
    {
     "name": "stdout",
     "output_type": "stream",
     "text": [
      "Error getting neighborhood for nan, nan: HTTP Error: 400\n",
      "Error getting neighborhood for nan, nan: HTTP Error: 400\n",
      "Error getting neighborhood for nan, nan: HTTP Error: 400\n",
      "Error getting neighborhood for nan, nan: HTTP Error: 400\n",
      "Error getting neighborhood for nan, nan: HTTP Error: 400\n",
      "Error getting neighborhood for nan, nan: HTTP Error: 400\n",
      "Error getting neighborhood for nan, nan: HTTP Error: 400\n",
      "Error getting neighborhood for nan, nan: HTTP Error: 400\n",
      "Error getting neighborhood for nan, nan: HTTP Error: 400\n"
     ]
    },
    {
     "name": "stdout",
     "output_type": "stream",
     "text": [
      "Error getting neighborhood for nan, nan: HTTP Error: 400\n",
      "Error getting neighborhood for nan, nan: HTTP Error: 400\n",
      "Error getting neighborhood for nan, nan: HTTP Error: 400\n",
      "Error getting neighborhood for nan, nan: HTTP Error: 400\n",
      "Error getting neighborhood for nan, nan: HTTP Error: 400\n",
      "Error getting neighborhood for nan, nan: HTTP Error: 400\n"
     ]
    },
    {
     "name": "stdout",
     "output_type": "stream",
     "text": [
      "Error getting neighborhood for nan, nan: HTTP Error: 400\n",
      "Error getting neighborhood for nan, nan: HTTP Error: 400\n",
      "Error getting neighborhood for nan, nan: HTTP Error: 400\n",
      "Error getting neighborhood for nan, nan: HTTP Error: 400\n",
      "Error getting neighborhood for nan, nan: HTTP Error: 400\n",
      "Error getting neighborhood for nan, nan: HTTP Error: 400\n",
      "Error getting neighborhood for nan, nan: HTTP Error: 400\n",
      "Error getting neighborhood for nan, nan: HTTP Error: 400\n",
      "Error getting neighborhood for nan, nan: HTTP Error: 400\n"
     ]
    },
    {
     "name": "stdout",
     "output_type": "stream",
     "text": [
      "Error getting neighborhood for nan, nan: HTTP Error: 400\n",
      "Error getting neighborhood for nan, nan: HTTP Error: 400\n",
      "Error getting neighborhood for nan, nan: HTTP Error: 400\n",
      "Error getting neighborhood for nan, nan: HTTP Error: 400\n",
      "Error getting neighborhood for nan, nan: HTTP Error: 400\n",
      "Error getting neighborhood for nan, nan: HTTP Error: 400\n"
     ]
    },
    {
     "name": "stdout",
     "output_type": "stream",
     "text": [
      "Error getting neighborhood for nan, nan: HTTP Error: 400\n",
      "Error getting neighborhood for nan, nan: HTTP Error: 400\n",
      "Error getting neighborhood for nan, nan: HTTP Error: 400\n",
      "Error getting neighborhood for nan, nan: HTTP Error: 400\n",
      "Error getting neighborhood for nan, nan: HTTP Error: 400\n",
      "Error getting neighborhood for nan, nan: HTTP Error: 400\n",
      "Error getting neighborhood for nan, nan: HTTP Error: 400\n",
      "Error getting neighborhood for nan, nan: HTTP Error: 400\n",
      "Error getting neighborhood for nan, nan: HTTP Error: 400\n"
     ]
    },
    {
     "name": "stdout",
     "output_type": "stream",
     "text": [
      "Error getting neighborhood for nan, nan: HTTP Error: 400\n",
      "Error getting neighborhood for nan, nan: HTTP Error: 400\n",
      "Error getting neighborhood for nan, nan: HTTP Error: 400\n",
      "Error getting neighborhood for nan, nan: HTTP Error: 400\n",
      "Error getting neighborhood for nan, nan: HTTP Error: 400\n",
      "Error getting neighborhood for nan, nan: HTTP Error: 400\n"
     ]
    },
    {
     "name": "stdout",
     "output_type": "stream",
     "text": [
      "Error getting neighborhood for nan, nan: HTTP Error: 400\n",
      "Error getting neighborhood for nan, nan: HTTP Error: 400\n",
      "Error getting neighborhood for nan, nan: HTTP Error: 400\n",
      "Error getting neighborhood for nan, nan: HTTP Error: 400\n",
      "Error getting neighborhood for nan, nan: HTTP Error: 400\n",
      "Error getting neighborhood for nan, nan: HTTP Error: 400\n",
      "Error getting neighborhood for nan, nan: HTTP Error: 400\n",
      "Error getting neighborhood for nan, nan: HTTP Error: 400\n",
      "Error getting neighborhood for nan, nan: HTTP Error: 400\n"
     ]
    },
    {
     "name": "stdout",
     "output_type": "stream",
     "text": [
      "Error getting neighborhood for nan, nan: HTTP Error: 400\n",
      "Error getting neighborhood for nan, nan: HTTP Error: 400\n",
      "Error getting neighborhood for nan, nan: HTTP Error: 400\n",
      "Error getting neighborhood for nan, nan: HTTP Error: 400\n",
      "Error getting neighborhood for nan, nan: HTTP Error: 400\n",
      "Error getting neighborhood for nan, nan: HTTP Error: 400\n"
     ]
    },
    {
     "name": "stdout",
     "output_type": "stream",
     "text": [
      "Error getting neighborhood for nan, nan: HTTP Error: 400\n",
      "Error getting neighborhood for nan, nan: HTTP Error: 400\n",
      "Error getting neighborhood for nan, nan: HTTP Error: 400\n",
      "Error getting neighborhood for nan, nan: HTTP Error: 400\n",
      "Error getting neighborhood for nan, nan: HTTP Error: 400\n",
      "Error getting neighborhood for nan, nan: HTTP Error: 400\n",
      "Error getting neighborhood for nan, nan: HTTP Error: 400\n",
      "Error getting neighborhood for nan, nan: HTTP Error: 400\n",
      "Error getting neighborhood for nan, nan: HTTP Error: 400\n"
     ]
    },
    {
     "name": "stdout",
     "output_type": "stream",
     "text": [
      "Error getting neighborhood for nan, nan: HTTP Error: 400\n",
      "Error getting neighborhood for nan, nan: HTTP Error: 400\n",
      "Error getting neighborhood for nan, nan: HTTP Error: 400\n",
      "Error getting neighborhood for nan, nan: HTTP Error: 400\n",
      "Error getting neighborhood for nan, nan: HTTP Error: 400\n",
      "Error getting neighborhood for nan, nan: HTTP Error: 400\n"
     ]
    },
    {
     "name": "stdout",
     "output_type": "stream",
     "text": [
      "Error getting neighborhood for nan, nan: HTTP Error: 400\n",
      "Error getting neighborhood for nan, nan: HTTP Error: 400\n",
      "Error getting neighborhood for nan, nan: HTTP Error: 400\n",
      "Error getting neighborhood for nan, nan: HTTP Error: 400\n",
      "Error getting neighborhood for nan, nan: HTTP Error: 400\n",
      "Error getting neighborhood for nan, nan: HTTP Error: 400\n",
      "Error getting neighborhood for nan, nan: HTTP Error: 400\n",
      "Error getting neighborhood for nan, nan: HTTP Error: 400\n",
      "Error getting neighborhood for nan, nan: HTTP Error: 400\n"
     ]
    },
    {
     "name": "stdout",
     "output_type": "stream",
     "text": [
      "Error getting neighborhood for nan, nan: HTTP Error: 400\n",
      "Error getting neighborhood for nan, nan: HTTP Error: 400\n",
      "Error getting neighborhood for nan, nan: HTTP Error: 400\n",
      "Error getting neighborhood for nan, nan: HTTP Error: 400\n",
      "Error getting neighborhood for nan, nan: HTTP Error: 400\n",
      "Error getting neighborhood for nan, nan: HTTP Error: 400\n"
     ]
    },
    {
     "name": "stdout",
     "output_type": "stream",
     "text": [
      "Error getting neighborhood for nan, nan: HTTP Error: 400\n",
      "Error getting neighborhood for nan, nan: HTTP Error: 400\n",
      "Error getting neighborhood for nan, nan: HTTP Error: 400\n",
      "Error getting neighborhood for nan, nan: HTTP Error: 400\n",
      "Error getting neighborhood for nan, nan: HTTP Error: 400\n",
      "Error getting neighborhood for nan, nan: HTTP Error: 400\n",
      "Error getting neighborhood for nan, nan: HTTP Error: 400\n",
      "Error getting neighborhood for nan, nan: HTTP Error: 400\n",
      "Error getting neighborhood for nan, nan: HTTP Error: 400\n"
     ]
    },
    {
     "name": "stdout",
     "output_type": "stream",
     "text": [
      "Error getting neighborhood for nan, nan: HTTP Error: 400\n",
      "Error getting neighborhood for nan, nan: HTTP Error: 400\n",
      "Error getting neighborhood for nan, nan: HTTP Error: 400\n",
      "Error getting neighborhood for nan, nan: HTTP Error: 400\n",
      "Error getting neighborhood for nan, nan: HTTP Error: 400\n",
      "Error getting neighborhood for nan, nan: HTTP Error: 400\n"
     ]
    },
    {
     "name": "stdout",
     "output_type": "stream",
     "text": [
      "Error getting neighborhood for nan, nan: HTTP Error: 400\n",
      "Error getting neighborhood for nan, nan: HTTP Error: 400\n",
      "Error getting neighborhood for nan, nan: HTTP Error: 400\n",
      "Error getting neighborhood for nan, nan: HTTP Error: 400\n",
      "Error getting neighborhood for nan, nan: HTTP Error: 400\n",
      "Error getting neighborhood for nan, nan: HTTP Error: 400\n",
      "Error getting neighborhood for nan, nan: HTTP Error: 400\n",
      "Error getting neighborhood for nan, nan: HTTP Error: 400\n"
     ]
    },
    {
     "name": "stdout",
     "output_type": "stream",
     "text": [
      "Error getting neighborhood for nan, nan: HTTP Error: 400\n",
      "Error getting neighborhood for nan, nan: HTTP Error: 400\n",
      "Error getting neighborhood for nan, nan: HTTP Error: 400\n",
      "Error getting neighborhood for nan, nan: HTTP Error: 400\n"
     ]
    },
    {
     "name": "stdout",
     "output_type": "stream",
     "text": [
      "Error getting neighborhood for nan, nan: HTTP Error: 400\n",
      "Error getting neighborhood for nan, nan: HTTP Error: 400\n",
      "Error getting neighborhood for nan, nan: HTTP Error: 400\n",
      "Error getting neighborhood for nan, nan: HTTP Error: 400\n",
      "Error getting neighborhood for nan, nan: HTTP Error: 400\n",
      "Error getting neighborhood for nan, nan: HTTP Error: 400\n",
      "Error getting neighborhood for nan, nan: HTTP Error: 400\n",
      "Error getting neighborhood for nan, nan: HTTP Error: 400\n"
     ]
    },
    {
     "name": "stdout",
     "output_type": "stream",
     "text": [
      "Error getting neighborhood for nan, nan: HTTP Error: 400\n",
      "Error getting neighborhood for nan, nan: HTTP Error: 400\n",
      "Error getting neighborhood for nan, nan: HTTP Error: 400\n",
      "Error getting neighborhood for nan, nan: HTTP Error: 400\n",
      "Error getting neighborhood for nan, nan: HTTP Error: 400\n",
      "Error getting neighborhood for nan, nan: HTTP Error: 400\n"
     ]
    },
    {
     "name": "stdout",
     "output_type": "stream",
     "text": [
      "Error getting neighborhood for nan, nan: HTTP Error: 400\n",
      "Error getting neighborhood for nan, nan: HTTP Error: 400\n",
      "Error getting neighborhood for nan, nan: HTTP Error: 400\n",
      "Error getting neighborhood for nan, nan: HTTP Error: 400\n",
      "Error getting neighborhood for nan, nan: HTTP Error: 400\n",
      "Error getting neighborhood for nan, nan: HTTP Error: 400\n",
      "Error getting neighborhood for nan, nan: HTTP Error: 400\n"
     ]
    },
    {
     "data": {
      "text/html": [
       "<div>\n",
       "<style scoped>\n",
       "    .dataframe tbody tr th:only-of-type {\n",
       "        vertical-align: middle;\n",
       "    }\n",
       "\n",
       "    .dataframe tbody tr th {\n",
       "        vertical-align: top;\n",
       "    }\n",
       "\n",
       "    .dataframe thead th {\n",
       "        text-align: right;\n",
       "    }\n",
       "</style>\n",
       "<table border=\"1\" class=\"dataframe\">\n",
       "  <thead>\n",
       "    <tr style=\"text-align: right;\">\n",
       "      <th></th>\n",
       "      <th>RecordID</th>\n",
       "      <th>Offense</th>\n",
       "      <th>IncidentID</th>\n",
       "      <th>BlockNumber</th>\n",
       "      <th>StreetName</th>\n",
       "      <th>Agency</th>\n",
       "      <th>HourReported</th>\n",
       "      <th>ReportingOfficer</th>\n",
       "      <th>Date</th>\n",
       "      <th>DateString</th>\n",
       "      <th>DayOfWeek</th>\n",
       "      <th>Weekend</th>\n",
       "      <th>Season</th>\n",
       "      <th>HourAMPM</th>\n",
       "      <th>TimeOfDay</th>\n",
       "      <th>FullStreet</th>\n",
       "      <th>lat</th>\n",
       "      <th>lon</th>\n",
       "      <th>neighborhood</th>\n",
       "    </tr>\n",
       "  </thead>\n",
       "  <tbody>\n",
       "    <tr>\n",
       "      <th>0</th>\n",
       "      <td>1</td>\n",
       "      <td>Missing Person-juvenile</td>\n",
       "      <td>202500036799</td>\n",
       "      <td>2300</td>\n",
       "      <td>ANGUS RD</td>\n",
       "      <td>CPD</td>\n",
       "      <td>2157</td>\n",
       "      <td>Wells, Matthew</td>\n",
       "      <td>2025-10-09 21:57:39</td>\n",
       "      <td>2025-10-09 09:57:39 PM</td>\n",
       "      <td>Thursday</td>\n",
       "      <td>False</td>\n",
       "      <td>Autumn</td>\n",
       "      <td>09:57 PM</td>\n",
       "      <td>Night</td>\n",
       "      <td>2300 ANGUS RD</td>\n",
       "      <td>38.061220</td>\n",
       "      <td>-78.498020</td>\n",
       "      <td>The Meadows</td>\n",
       "    </tr>\n",
       "    <tr>\n",
       "      <th>1</th>\n",
       "      <td>2</td>\n",
       "      <td>Missing Person-juvenile</td>\n",
       "      <td>202500036816</td>\n",
       "      <td>2300</td>\n",
       "      <td>ANGUS RD</td>\n",
       "      <td>CPD</td>\n",
       "      <td>2157</td>\n",
       "      <td>Wells, Matthew</td>\n",
       "      <td>2025-10-09 21:57:39</td>\n",
       "      <td>2025-10-09 09:57:39 PM</td>\n",
       "      <td>Thursday</td>\n",
       "      <td>False</td>\n",
       "      <td>Autumn</td>\n",
       "      <td>09:57 PM</td>\n",
       "      <td>Night</td>\n",
       "      <td>2300 ANGUS RD</td>\n",
       "      <td>38.061220</td>\n",
       "      <td>-78.498020</td>\n",
       "      <td>The Meadows</td>\n",
       "    </tr>\n",
       "    <tr>\n",
       "      <th>2</th>\n",
       "      <td>3</td>\n",
       "      <td>Drug Equipment Violation</td>\n",
       "      <td>202500036780</td>\n",
       "      <td>100</td>\n",
       "      <td>W MAIN ST</td>\n",
       "      <td>CPD</td>\n",
       "      <td>2000</td>\n",
       "      <td>Ritter, Kobe</td>\n",
       "      <td>2025-10-09 20:00:24</td>\n",
       "      <td>2025-10-09 08:00:24 PM</td>\n",
       "      <td>Thursday</td>\n",
       "      <td>False</td>\n",
       "      <td>Autumn</td>\n",
       "      <td>08:00 PM</td>\n",
       "      <td>Evening</td>\n",
       "      <td>100 W MAIN ST</td>\n",
       "      <td>38.030718</td>\n",
       "      <td>-78.481656</td>\n",
       "      <td>Downtown Mall</td>\n",
       "    </tr>\n",
       "    <tr>\n",
       "      <th>3</th>\n",
       "      <td>4</td>\n",
       "      <td>Larceny - All Other</td>\n",
       "      <td>202500036744</td>\n",
       "      <td>1300</td>\n",
       "      <td>LONG ST</td>\n",
       "      <td>CPD</td>\n",
       "      <td>1625</td>\n",
       "      <td>Carrasco, Julio</td>\n",
       "      <td>2025-10-09 16:25:02</td>\n",
       "      <td>2025-10-09 04:25:02 PM</td>\n",
       "      <td>Thursday</td>\n",
       "      <td>False</td>\n",
       "      <td>Autumn</td>\n",
       "      <td>04:25 PM</td>\n",
       "      <td>Afternoon</td>\n",
       "      <td>1300 LONG ST</td>\n",
       "      <td>38.035438</td>\n",
       "      <td>-78.462875</td>\n",
       "      <td>Martha Jefferson</td>\n",
       "    </tr>\n",
       "    <tr>\n",
       "      <th>4</th>\n",
       "      <td>5</td>\n",
       "      <td>Drug Equipment Violation</td>\n",
       "      <td>202500036742</td>\n",
       "      <td>100</td>\n",
       "      <td>1ST ST S</td>\n",
       "      <td>CPD</td>\n",
       "      <td>1606</td>\n",
       "      <td>Ritter, Kobe</td>\n",
       "      <td>2025-10-09 16:06:01</td>\n",
       "      <td>2025-10-09 04:06:01 PM</td>\n",
       "      <td>Thursday</td>\n",
       "      <td>False</td>\n",
       "      <td>Autumn</td>\n",
       "      <td>04:06 PM</td>\n",
       "      <td>Afternoon</td>\n",
       "      <td>100 1ST ST S</td>\n",
       "      <td>38.030310</td>\n",
       "      <td>-78.481732</td>\n",
       "      <td>Downtown Mall</td>\n",
       "    </tr>\n",
       "  </tbody>\n",
       "</table>\n",
       "</div>"
      ],
      "text/plain": [
       "   RecordID                   Offense    IncidentID BlockNumber StreetName  \\\n",
       "0         1   Missing Person-juvenile  202500036799        2300   ANGUS RD   \n",
       "1         2   Missing Person-juvenile  202500036816        2300   ANGUS RD   \n",
       "2         3  Drug Equipment Violation  202500036780         100  W MAIN ST   \n",
       "3         4       Larceny - All Other  202500036744        1300    LONG ST   \n",
       "4         5  Drug Equipment Violation  202500036742         100   1ST ST S   \n",
       "\n",
       "  Agency HourReported ReportingOfficer                Date  \\\n",
       "0    CPD         2157   Wells, Matthew 2025-10-09 21:57:39   \n",
       "1    CPD         2157   Wells, Matthew 2025-10-09 21:57:39   \n",
       "2    CPD         2000     Ritter, Kobe 2025-10-09 20:00:24   \n",
       "3    CPD         1625  Carrasco, Julio 2025-10-09 16:25:02   \n",
       "4    CPD         1606     Ritter, Kobe 2025-10-09 16:06:01   \n",
       "\n",
       "               DateString DayOfWeek  Weekend  Season  HourAMPM  TimeOfDay  \\\n",
       "0  2025-10-09 09:57:39 PM  Thursday    False  Autumn  09:57 PM      Night   \n",
       "1  2025-10-09 09:57:39 PM  Thursday    False  Autumn  09:57 PM      Night   \n",
       "2  2025-10-09 08:00:24 PM  Thursday    False  Autumn  08:00 PM    Evening   \n",
       "3  2025-10-09 04:25:02 PM  Thursday    False  Autumn  04:25 PM  Afternoon   \n",
       "4  2025-10-09 04:06:01 PM  Thursday    False  Autumn  04:06 PM  Afternoon   \n",
       "\n",
       "      FullStreet        lat        lon      neighborhood  \n",
       "0  2300 ANGUS RD  38.061220 -78.498020       The Meadows  \n",
       "1  2300 ANGUS RD  38.061220 -78.498020       The Meadows  \n",
       "2  100 W MAIN ST  38.030718 -78.481656     Downtown Mall  \n",
       "3   1300 LONG ST  38.035438 -78.462875  Martha Jefferson  \n",
       "4   100 1ST ST S  38.030310 -78.481732     Downtown Mall  "
      ]
     },
     "execution_count": 10,
     "metadata": {},
     "output_type": "execute_result"
    }
   ],
   "source": [
    "# Initialize the Google Maps client.\n",
    "gmaps = googlemaps.Client(key=GOOGLE_API_KEY)\n",
    "\n",
    "# Try to load a persistent neighborhood cache if available.\n",
    "try:\n",
    "    with open(\"neighborhood_cache.pkl\", \"rb\") as f:\n",
    "        neighborhood_cache = pickle.load(f)\n",
    "    print(\"Loaded neighborhood cache.\")\n",
    "except FileNotFoundError:\n",
    "    neighborhood_cache = {}\n",
    "    print(\"No neighborhood cache found; starting fresh.\")\n",
    "\n",
    "def get_neighborhood(lat, lon):\n",
    "    \"\"\"\n",
    "    Reverse geocodes a latitude and longitude to retrieve the neighborhood.\n",
    "    Caches results to speed up subsequent lookups.\n",
    "    \"\"\"\n",
    "    key = (lat, lon)\n",
    "    if key in neighborhood_cache:\n",
    "        return neighborhood_cache[key]\n",
    "    \n",
    "    try:\n",
    "        result = gmaps.reverse_geocode((lat, lon))\n",
    "        if result:\n",
    "            # Look for the 'neighborhood' component in the first result.\n",
    "            for component in result[0]['address_components']:\n",
    "                if 'neighborhood' in component['types']:\n",
    "                    neighborhood = component['long_name']\n",
    "                    neighborhood_cache[key] = neighborhood\n",
    "                    return neighborhood\n",
    "            # If no neighborhood is found, return \"N/A\"\n",
    "            neighborhood_cache[key] = \"N/A\"\n",
    "            return \"N/A\"\n",
    "    except Exception as e:\n",
    "        print(f\"Error getting neighborhood for {lat}, {lon}: {e}\")\n",
    "        return \"N/A\"\n",
    "    \n",
    "    # Pause to respect usage limits.\n",
    "    time.sleep(1)\n",
    "\n",
    "# Example usage: Apply to your DataFrame 'df' that already has 'lat' and 'lon' columns.\n",
    "df['neighborhood'] = df.apply(lambda row: get_neighborhood(row['lat'], row['lon']), axis=1)\n",
    "\n",
    "# Save the updated neighborhood cache.\n",
    "with open(\"neighborhood_cache.pkl\", \"wb\") as f:\n",
    "    pickle.dump(neighborhood_cache, f)\n",
    "\n",
    "df.head()\n"
   ]
  },
  {
   "cell_type": "markdown",
   "id": "3e08f799",
   "metadata": {
    "papermill": {
     "duration": 0.006242,
     "end_time": "2025-10-12T00:11:15.376573",
     "exception": false,
     "start_time": "2025-10-12T00:11:15.370331",
     "status": "completed"
    },
    "tags": []
   },
   "source": [
    "### Zip"
   ]
  },
  {
   "cell_type": "code",
   "execution_count": 11,
   "id": "4c5cbafc",
   "metadata": {
    "execution": {
     "iopub.execute_input": "2025-10-12T00:11:15.390134Z",
     "iopub.status.busy": "2025-10-12T00:11:15.389886Z",
     "iopub.status.idle": "2025-10-12T00:15:16.865693Z",
     "shell.execute_reply": "2025-10-12T00:15:16.864950Z"
    },
    "papermill": {
     "duration": 241.500493,
     "end_time": "2025-10-12T00:15:16.883295",
     "exception": false,
     "start_time": "2025-10-12T00:11:15.382802",
     "status": "completed"
    },
    "tags": []
   },
   "outputs": [
    {
     "name": "stdout",
     "output_type": "stream",
     "text": [
      "Loaded zip cache.\n",
      "Error getting ZIP for nan, nan: Must be a coordinate pair or Point\n"
     ]
    },
    {
     "name": "stdout",
     "output_type": "stream",
     "text": [
      "Error getting ZIP for nan, nan: Must be a coordinate pair or Point\n"
     ]
    },
    {
     "name": "stdout",
     "output_type": "stream",
     "text": [
      "Error getting ZIP for nan, nan: Must be a coordinate pair or Point\n"
     ]
    },
    {
     "name": "stdout",
     "output_type": "stream",
     "text": [
      "Error getting ZIP for nan, nan: Must be a coordinate pair or Point\n"
     ]
    },
    {
     "name": "stdout",
     "output_type": "stream",
     "text": [
      "Error getting ZIP for nan, nan: Must be a coordinate pair or Point\n"
     ]
    },
    {
     "name": "stdout",
     "output_type": "stream",
     "text": [
      "Error getting ZIP for nan, nan: Must be a coordinate pair or Point\n"
     ]
    },
    {
     "name": "stdout",
     "output_type": "stream",
     "text": [
      "Error getting ZIP for nan, nan: Must be a coordinate pair or Point\n"
     ]
    },
    {
     "name": "stdout",
     "output_type": "stream",
     "text": [
      "Error getting ZIP for nan, nan: Must be a coordinate pair or Point\n"
     ]
    },
    {
     "name": "stdout",
     "output_type": "stream",
     "text": [
      "Error getting ZIP for nan, nan: Must be a coordinate pair or Point\n"
     ]
    },
    {
     "name": "stdout",
     "output_type": "stream",
     "text": [
      "Error getting ZIP for nan, nan: Must be a coordinate pair or Point\n"
     ]
    },
    {
     "name": "stdout",
     "output_type": "stream",
     "text": [
      "Error getting ZIP for nan, nan: Must be a coordinate pair or Point\n"
     ]
    },
    {
     "name": "stdout",
     "output_type": "stream",
     "text": [
      "Error getting ZIP for nan, nan: Must be a coordinate pair or Point\n"
     ]
    },
    {
     "name": "stdout",
     "output_type": "stream",
     "text": [
      "Error getting ZIP for nan, nan: Must be a coordinate pair or Point\n"
     ]
    },
    {
     "name": "stdout",
     "output_type": "stream",
     "text": [
      "Error getting ZIP for nan, nan: Must be a coordinate pair or Point\n"
     ]
    },
    {
     "name": "stdout",
     "output_type": "stream",
     "text": [
      "Error getting ZIP for nan, nan: Must be a coordinate pair or Point\n"
     ]
    },
    {
     "name": "stdout",
     "output_type": "stream",
     "text": [
      "Error getting ZIP for nan, nan: Must be a coordinate pair or Point\n"
     ]
    },
    {
     "name": "stdout",
     "output_type": "stream",
     "text": [
      "Error getting ZIP for nan, nan: Must be a coordinate pair or Point\n"
     ]
    },
    {
     "name": "stdout",
     "output_type": "stream",
     "text": [
      "Error getting ZIP for nan, nan: Must be a coordinate pair or Point\n"
     ]
    },
    {
     "name": "stdout",
     "output_type": "stream",
     "text": [
      "Error getting ZIP for nan, nan: Must be a coordinate pair or Point\n"
     ]
    },
    {
     "name": "stdout",
     "output_type": "stream",
     "text": [
      "Error getting ZIP for nan, nan: Must be a coordinate pair or Point\n"
     ]
    },
    {
     "name": "stdout",
     "output_type": "stream",
     "text": [
      "Error getting ZIP for nan, nan: Must be a coordinate pair or Point\n"
     ]
    },
    {
     "name": "stdout",
     "output_type": "stream",
     "text": [
      "Error getting ZIP for nan, nan: Must be a coordinate pair or Point\n"
     ]
    },
    {
     "name": "stdout",
     "output_type": "stream",
     "text": [
      "Error getting ZIP for nan, nan: Must be a coordinate pair or Point\n"
     ]
    },
    {
     "name": "stdout",
     "output_type": "stream",
     "text": [
      "Error getting ZIP for nan, nan: Must be a coordinate pair or Point\n"
     ]
    },
    {
     "name": "stdout",
     "output_type": "stream",
     "text": [
      "Error getting ZIP for nan, nan: Must be a coordinate pair or Point\n"
     ]
    },
    {
     "name": "stdout",
     "output_type": "stream",
     "text": [
      "Error getting ZIP for nan, nan: Must be a coordinate pair or Point\n"
     ]
    },
    {
     "name": "stdout",
     "output_type": "stream",
     "text": [
      "Error getting ZIP for nan, nan: Must be a coordinate pair or Point\n"
     ]
    },
    {
     "name": "stdout",
     "output_type": "stream",
     "text": [
      "Error getting ZIP for nan, nan: Must be a coordinate pair or Point\n"
     ]
    },
    {
     "name": "stdout",
     "output_type": "stream",
     "text": [
      "Error getting ZIP for nan, nan: Must be a coordinate pair or Point\n"
     ]
    },
    {
     "name": "stdout",
     "output_type": "stream",
     "text": [
      "Error getting ZIP for nan, nan: Must be a coordinate pair or Point\n"
     ]
    },
    {
     "name": "stdout",
     "output_type": "stream",
     "text": [
      "Error getting ZIP for nan, nan: Must be a coordinate pair or Point\n"
     ]
    },
    {
     "name": "stdout",
     "output_type": "stream",
     "text": [
      "Error getting ZIP for nan, nan: Must be a coordinate pair or Point\n"
     ]
    },
    {
     "name": "stdout",
     "output_type": "stream",
     "text": [
      "Error getting ZIP for nan, nan: Must be a coordinate pair or Point\n"
     ]
    },
    {
     "name": "stdout",
     "output_type": "stream",
     "text": [
      "Error getting ZIP for nan, nan: Must be a coordinate pair or Point\n"
     ]
    },
    {
     "name": "stdout",
     "output_type": "stream",
     "text": [
      "Error getting ZIP for nan, nan: Must be a coordinate pair or Point\n"
     ]
    },
    {
     "name": "stdout",
     "output_type": "stream",
     "text": [
      "Error getting ZIP for nan, nan: Must be a coordinate pair or Point\n"
     ]
    },
    {
     "name": "stdout",
     "output_type": "stream",
     "text": [
      "Error getting ZIP for nan, nan: Must be a coordinate pair or Point\n"
     ]
    },
    {
     "name": "stdout",
     "output_type": "stream",
     "text": [
      "Error getting ZIP for nan, nan: Must be a coordinate pair or Point\n"
     ]
    },
    {
     "name": "stdout",
     "output_type": "stream",
     "text": [
      "Error getting ZIP for nan, nan: Must be a coordinate pair or Point\n"
     ]
    },
    {
     "name": "stdout",
     "output_type": "stream",
     "text": [
      "Error getting ZIP for nan, nan: Must be a coordinate pair or Point\n"
     ]
    },
    {
     "name": "stdout",
     "output_type": "stream",
     "text": [
      "Error getting ZIP for nan, nan: Must be a coordinate pair or Point\n"
     ]
    },
    {
     "name": "stdout",
     "output_type": "stream",
     "text": [
      "Error getting ZIP for nan, nan: Must be a coordinate pair or Point\n"
     ]
    },
    {
     "name": "stdout",
     "output_type": "stream",
     "text": [
      "Error getting ZIP for nan, nan: Must be a coordinate pair or Point\n"
     ]
    },
    {
     "name": "stdout",
     "output_type": "stream",
     "text": [
      "Error getting ZIP for nan, nan: Must be a coordinate pair or Point\n"
     ]
    },
    {
     "name": "stdout",
     "output_type": "stream",
     "text": [
      "Error getting ZIP for nan, nan: Must be a coordinate pair or Point\n"
     ]
    },
    {
     "name": "stdout",
     "output_type": "stream",
     "text": [
      "Error getting ZIP for nan, nan: Must be a coordinate pair or Point\n"
     ]
    },
    {
     "name": "stdout",
     "output_type": "stream",
     "text": [
      "Error getting ZIP for nan, nan: Must be a coordinate pair or Point\n"
     ]
    },
    {
     "name": "stdout",
     "output_type": "stream",
     "text": [
      "Error getting ZIP for nan, nan: Must be a coordinate pair or Point\n"
     ]
    },
    {
     "name": "stdout",
     "output_type": "stream",
     "text": [
      "Error getting ZIP for nan, nan: Must be a coordinate pair or Point\n"
     ]
    },
    {
     "name": "stdout",
     "output_type": "stream",
     "text": [
      "Error getting ZIP for nan, nan: Must be a coordinate pair or Point\n"
     ]
    },
    {
     "name": "stdout",
     "output_type": "stream",
     "text": [
      "Error getting ZIP for nan, nan: Must be a coordinate pair or Point\n"
     ]
    },
    {
     "name": "stdout",
     "output_type": "stream",
     "text": [
      "Error getting ZIP for nan, nan: Must be a coordinate pair or Point\n"
     ]
    },
    {
     "name": "stdout",
     "output_type": "stream",
     "text": [
      "Error getting ZIP for nan, nan: Must be a coordinate pair or Point\n"
     ]
    },
    {
     "name": "stdout",
     "output_type": "stream",
     "text": [
      "Error getting ZIP for nan, nan: Must be a coordinate pair or Point\n"
     ]
    },
    {
     "name": "stdout",
     "output_type": "stream",
     "text": [
      "Error getting ZIP for nan, nan: Must be a coordinate pair or Point\n"
     ]
    },
    {
     "name": "stdout",
     "output_type": "stream",
     "text": [
      "Error getting ZIP for nan, nan: Must be a coordinate pair or Point\n"
     ]
    },
    {
     "name": "stdout",
     "output_type": "stream",
     "text": [
      "Error getting ZIP for nan, nan: Must be a coordinate pair or Point\n"
     ]
    },
    {
     "name": "stdout",
     "output_type": "stream",
     "text": [
      "Error getting ZIP for nan, nan: Must be a coordinate pair or Point\n"
     ]
    },
    {
     "name": "stdout",
     "output_type": "stream",
     "text": [
      "Error getting ZIP for nan, nan: Must be a coordinate pair or Point\n"
     ]
    },
    {
     "name": "stdout",
     "output_type": "stream",
     "text": [
      "Error getting ZIP for nan, nan: Must be a coordinate pair or Point\n"
     ]
    },
    {
     "name": "stdout",
     "output_type": "stream",
     "text": [
      "Error getting ZIP for nan, nan: Must be a coordinate pair or Point\n"
     ]
    },
    {
     "name": "stdout",
     "output_type": "stream",
     "text": [
      "Error getting ZIP for nan, nan: Must be a coordinate pair or Point\n"
     ]
    },
    {
     "name": "stdout",
     "output_type": "stream",
     "text": [
      "Error getting ZIP for nan, nan: Must be a coordinate pair or Point\n"
     ]
    },
    {
     "name": "stdout",
     "output_type": "stream",
     "text": [
      "Error getting ZIP for nan, nan: Must be a coordinate pair or Point\n"
     ]
    },
    {
     "name": "stdout",
     "output_type": "stream",
     "text": [
      "Error getting ZIP for nan, nan: Must be a coordinate pair or Point\n"
     ]
    },
    {
     "name": "stdout",
     "output_type": "stream",
     "text": [
      "Error getting ZIP for nan, nan: Must be a coordinate pair or Point\n"
     ]
    },
    {
     "name": "stdout",
     "output_type": "stream",
     "text": [
      "Error getting ZIP for nan, nan: Must be a coordinate pair or Point\n"
     ]
    },
    {
     "name": "stdout",
     "output_type": "stream",
     "text": [
      "Error getting ZIP for nan, nan: Must be a coordinate pair or Point\n"
     ]
    },
    {
     "name": "stdout",
     "output_type": "stream",
     "text": [
      "Error getting ZIP for nan, nan: Must be a coordinate pair or Point\n"
     ]
    },
    {
     "name": "stdout",
     "output_type": "stream",
     "text": [
      "Error getting ZIP for nan, nan: Must be a coordinate pair or Point\n"
     ]
    },
    {
     "name": "stdout",
     "output_type": "stream",
     "text": [
      "Error getting ZIP for nan, nan: Must be a coordinate pair or Point\n"
     ]
    },
    {
     "name": "stdout",
     "output_type": "stream",
     "text": [
      "Error getting ZIP for nan, nan: Must be a coordinate pair or Point\n"
     ]
    },
    {
     "name": "stdout",
     "output_type": "stream",
     "text": [
      "Error getting ZIP for nan, nan: Must be a coordinate pair or Point\n"
     ]
    },
    {
     "name": "stdout",
     "output_type": "stream",
     "text": [
      "Error getting ZIP for nan, nan: Must be a coordinate pair or Point\n"
     ]
    },
    {
     "name": "stdout",
     "output_type": "stream",
     "text": [
      "Error getting ZIP for nan, nan: Must be a coordinate pair or Point\n"
     ]
    },
    {
     "name": "stdout",
     "output_type": "stream",
     "text": [
      "Error getting ZIP for nan, nan: Must be a coordinate pair or Point\n"
     ]
    },
    {
     "name": "stdout",
     "output_type": "stream",
     "text": [
      "Error getting ZIP for nan, nan: Must be a coordinate pair or Point\n"
     ]
    },
    {
     "name": "stdout",
     "output_type": "stream",
     "text": [
      "Error getting ZIP for nan, nan: Must be a coordinate pair or Point\n"
     ]
    },
    {
     "name": "stdout",
     "output_type": "stream",
     "text": [
      "Error getting ZIP for nan, nan: Must be a coordinate pair or Point\n"
     ]
    },
    {
     "name": "stdout",
     "output_type": "stream",
     "text": [
      "Error getting ZIP for nan, nan: Must be a coordinate pair or Point\n"
     ]
    },
    {
     "name": "stdout",
     "output_type": "stream",
     "text": [
      "Error getting ZIP for nan, nan: Must be a coordinate pair or Point\n"
     ]
    },
    {
     "name": "stdout",
     "output_type": "stream",
     "text": [
      "Error getting ZIP for nan, nan: Must be a coordinate pair or Point\n"
     ]
    },
    {
     "name": "stdout",
     "output_type": "stream",
     "text": [
      "Error getting ZIP for nan, nan: Must be a coordinate pair or Point\n"
     ]
    },
    {
     "name": "stdout",
     "output_type": "stream",
     "text": [
      "Error getting ZIP for nan, nan: Must be a coordinate pair or Point\n"
     ]
    },
    {
     "name": "stdout",
     "output_type": "stream",
     "text": [
      "Error getting ZIP for nan, nan: Must be a coordinate pair or Point\n"
     ]
    },
    {
     "name": "stdout",
     "output_type": "stream",
     "text": [
      "Error getting ZIP for nan, nan: Must be a coordinate pair or Point\n"
     ]
    },
    {
     "name": "stdout",
     "output_type": "stream",
     "text": [
      "Error getting ZIP for nan, nan: Must be a coordinate pair or Point\n"
     ]
    },
    {
     "name": "stdout",
     "output_type": "stream",
     "text": [
      "Error getting ZIP for nan, nan: Must be a coordinate pair or Point\n"
     ]
    },
    {
     "name": "stdout",
     "output_type": "stream",
     "text": [
      "Error getting ZIP for nan, nan: Must be a coordinate pair or Point\n"
     ]
    },
    {
     "name": "stdout",
     "output_type": "stream",
     "text": [
      "Error getting ZIP for nan, nan: Must be a coordinate pair or Point\n"
     ]
    },
    {
     "name": "stdout",
     "output_type": "stream",
     "text": [
      "Error getting ZIP for nan, nan: Must be a coordinate pair or Point\n"
     ]
    },
    {
     "name": "stdout",
     "output_type": "stream",
     "text": [
      "Error getting ZIP for nan, nan: Must be a coordinate pair or Point\n"
     ]
    },
    {
     "name": "stdout",
     "output_type": "stream",
     "text": [
      "Error getting ZIP for nan, nan: Must be a coordinate pair or Point\n"
     ]
    },
    {
     "name": "stdout",
     "output_type": "stream",
     "text": [
      "Error getting ZIP for nan, nan: Must be a coordinate pair or Point\n"
     ]
    },
    {
     "name": "stdout",
     "output_type": "stream",
     "text": [
      "Error getting ZIP for nan, nan: Must be a coordinate pair or Point\n"
     ]
    },
    {
     "name": "stdout",
     "output_type": "stream",
     "text": [
      "Error getting ZIP for nan, nan: Must be a coordinate pair or Point\n"
     ]
    },
    {
     "name": "stdout",
     "output_type": "stream",
     "text": [
      "Error getting ZIP for nan, nan: Must be a coordinate pair or Point\n"
     ]
    },
    {
     "name": "stdout",
     "output_type": "stream",
     "text": [
      "Error getting ZIP for nan, nan: Must be a coordinate pair or Point\n"
     ]
    },
    {
     "name": "stdout",
     "output_type": "stream",
     "text": [
      "Error getting ZIP for nan, nan: Must be a coordinate pair or Point\n"
     ]
    },
    {
     "name": "stdout",
     "output_type": "stream",
     "text": [
      "Error getting ZIP for nan, nan: Must be a coordinate pair or Point\n"
     ]
    },
    {
     "name": "stdout",
     "output_type": "stream",
     "text": [
      "Error getting ZIP for nan, nan: Must be a coordinate pair or Point\n"
     ]
    },
    {
     "name": "stdout",
     "output_type": "stream",
     "text": [
      "Error getting ZIP for nan, nan: Must be a coordinate pair or Point\n"
     ]
    },
    {
     "name": "stdout",
     "output_type": "stream",
     "text": [
      "Error getting ZIP for nan, nan: Must be a coordinate pair or Point\n"
     ]
    },
    {
     "name": "stdout",
     "output_type": "stream",
     "text": [
      "Error getting ZIP for nan, nan: Must be a coordinate pair or Point\n"
     ]
    },
    {
     "name": "stdout",
     "output_type": "stream",
     "text": [
      "Error getting ZIP for nan, nan: Must be a coordinate pair or Point\n"
     ]
    },
    {
     "name": "stdout",
     "output_type": "stream",
     "text": [
      "Error getting ZIP for nan, nan: Must be a coordinate pair or Point\n"
     ]
    },
    {
     "name": "stdout",
     "output_type": "stream",
     "text": [
      "Error getting ZIP for nan, nan: Must be a coordinate pair or Point\n"
     ]
    },
    {
     "name": "stdout",
     "output_type": "stream",
     "text": [
      "Error getting ZIP for nan, nan: Must be a coordinate pair or Point\n"
     ]
    },
    {
     "name": "stdout",
     "output_type": "stream",
     "text": [
      "Error getting ZIP for nan, nan: Must be a coordinate pair or Point\n"
     ]
    },
    {
     "name": "stdout",
     "output_type": "stream",
     "text": [
      "Error getting ZIP for nan, nan: Must be a coordinate pair or Point\n"
     ]
    },
    {
     "name": "stdout",
     "output_type": "stream",
     "text": [
      "Error getting ZIP for nan, nan: Must be a coordinate pair or Point\n"
     ]
    },
    {
     "name": "stdout",
     "output_type": "stream",
     "text": [
      "Error getting ZIP for nan, nan: Must be a coordinate pair or Point\n"
     ]
    },
    {
     "name": "stdout",
     "output_type": "stream",
     "text": [
      "Error getting ZIP for nan, nan: Must be a coordinate pair or Point\n"
     ]
    },
    {
     "name": "stdout",
     "output_type": "stream",
     "text": [
      "Error getting ZIP for nan, nan: Must be a coordinate pair or Point\n"
     ]
    },
    {
     "name": "stdout",
     "output_type": "stream",
     "text": [
      "Error getting ZIP for nan, nan: Must be a coordinate pair or Point\n"
     ]
    },
    {
     "name": "stdout",
     "output_type": "stream",
     "text": [
      "Error getting ZIP for nan, nan: Must be a coordinate pair or Point\n"
     ]
    },
    {
     "name": "stdout",
     "output_type": "stream",
     "text": [
      "Error getting ZIP for nan, nan: Must be a coordinate pair or Point\n"
     ]
    },
    {
     "name": "stdout",
     "output_type": "stream",
     "text": [
      "Error getting ZIP for nan, nan: Must be a coordinate pair or Point\n"
     ]
    },
    {
     "name": "stdout",
     "output_type": "stream",
     "text": [
      "Error getting ZIP for nan, nan: Must be a coordinate pair or Point\n"
     ]
    },
    {
     "name": "stdout",
     "output_type": "stream",
     "text": [
      "Error getting ZIP for nan, nan: Must be a coordinate pair or Point\n"
     ]
    },
    {
     "name": "stdout",
     "output_type": "stream",
     "text": [
      "Error getting ZIP for nan, nan: Must be a coordinate pair or Point\n"
     ]
    },
    {
     "name": "stdout",
     "output_type": "stream",
     "text": [
      "Error getting ZIP for nan, nan: Must be a coordinate pair or Point\n"
     ]
    },
    {
     "name": "stdout",
     "output_type": "stream",
     "text": [
      "Error getting ZIP for nan, nan: Must be a coordinate pair or Point\n"
     ]
    },
    {
     "name": "stdout",
     "output_type": "stream",
     "text": [
      "Error getting ZIP for nan, nan: Must be a coordinate pair or Point\n"
     ]
    },
    {
     "name": "stdout",
     "output_type": "stream",
     "text": [
      "Error getting ZIP for nan, nan: Must be a coordinate pair or Point\n"
     ]
    },
    {
     "name": "stdout",
     "output_type": "stream",
     "text": [
      "Error getting ZIP for nan, nan: Must be a coordinate pair or Point\n"
     ]
    },
    {
     "name": "stdout",
     "output_type": "stream",
     "text": [
      "Error getting ZIP for nan, nan: Must be a coordinate pair or Point\n"
     ]
    },
    {
     "name": "stdout",
     "output_type": "stream",
     "text": [
      "Error getting ZIP for nan, nan: Must be a coordinate pair or Point\n"
     ]
    },
    {
     "name": "stdout",
     "output_type": "stream",
     "text": [
      "Error getting ZIP for nan, nan: Must be a coordinate pair or Point\n"
     ]
    },
    {
     "name": "stdout",
     "output_type": "stream",
     "text": [
      "Error getting ZIP for nan, nan: Must be a coordinate pair or Point\n"
     ]
    },
    {
     "name": "stdout",
     "output_type": "stream",
     "text": [
      "Error getting ZIP for nan, nan: Must be a coordinate pair or Point\n"
     ]
    },
    {
     "name": "stdout",
     "output_type": "stream",
     "text": [
      "Error getting ZIP for nan, nan: Must be a coordinate pair or Point\n"
     ]
    },
    {
     "name": "stdout",
     "output_type": "stream",
     "text": [
      "Error getting ZIP for nan, nan: Must be a coordinate pair or Point\n"
     ]
    },
    {
     "name": "stdout",
     "output_type": "stream",
     "text": [
      "Error getting ZIP for nan, nan: Must be a coordinate pair or Point\n"
     ]
    },
    {
     "name": "stdout",
     "output_type": "stream",
     "text": [
      "Error getting ZIP for nan, nan: Must be a coordinate pair or Point\n"
     ]
    },
    {
     "name": "stdout",
     "output_type": "stream",
     "text": [
      "Error getting ZIP for nan, nan: Must be a coordinate pair or Point\n"
     ]
    },
    {
     "name": "stdout",
     "output_type": "stream",
     "text": [
      "Error getting ZIP for nan, nan: Must be a coordinate pair or Point\n"
     ]
    },
    {
     "name": "stdout",
     "output_type": "stream",
     "text": [
      "Error getting ZIP for nan, nan: Must be a coordinate pair or Point\n"
     ]
    },
    {
     "name": "stdout",
     "output_type": "stream",
     "text": [
      "Error getting ZIP for nan, nan: Must be a coordinate pair or Point\n"
     ]
    },
    {
     "name": "stdout",
     "output_type": "stream",
     "text": [
      "Error getting ZIP for nan, nan: Must be a coordinate pair or Point\n"
     ]
    },
    {
     "name": "stdout",
     "output_type": "stream",
     "text": [
      "Error getting ZIP for nan, nan: Must be a coordinate pair or Point\n"
     ]
    },
    {
     "name": "stdout",
     "output_type": "stream",
     "text": [
      "Error getting ZIP for nan, nan: Must be a coordinate pair or Point\n"
     ]
    },
    {
     "name": "stdout",
     "output_type": "stream",
     "text": [
      "Error getting ZIP for nan, nan: Must be a coordinate pair or Point\n"
     ]
    },
    {
     "name": "stdout",
     "output_type": "stream",
     "text": [
      "Error getting ZIP for nan, nan: Must be a coordinate pair or Point\n"
     ]
    },
    {
     "name": "stdout",
     "output_type": "stream",
     "text": [
      "Error getting ZIP for nan, nan: Must be a coordinate pair or Point\n"
     ]
    },
    {
     "name": "stdout",
     "output_type": "stream",
     "text": [
      "Error getting ZIP for nan, nan: Must be a coordinate pair or Point\n"
     ]
    },
    {
     "name": "stdout",
     "output_type": "stream",
     "text": [
      "Error getting ZIP for nan, nan: Must be a coordinate pair or Point\n"
     ]
    },
    {
     "name": "stdout",
     "output_type": "stream",
     "text": [
      "Error getting ZIP for nan, nan: Must be a coordinate pair or Point\n"
     ]
    },
    {
     "name": "stdout",
     "output_type": "stream",
     "text": [
      "Error getting ZIP for nan, nan: Must be a coordinate pair or Point\n"
     ]
    },
    {
     "name": "stdout",
     "output_type": "stream",
     "text": [
      "Error getting ZIP for nan, nan: Must be a coordinate pair or Point\n"
     ]
    },
    {
     "name": "stdout",
     "output_type": "stream",
     "text": [
      "Error getting ZIP for nan, nan: Must be a coordinate pair or Point\n"
     ]
    },
    {
     "name": "stdout",
     "output_type": "stream",
     "text": [
      "Error getting ZIP for nan, nan: Must be a coordinate pair or Point\n"
     ]
    },
    {
     "name": "stdout",
     "output_type": "stream",
     "text": [
      "Error getting ZIP for nan, nan: Must be a coordinate pair or Point\n"
     ]
    },
    {
     "name": "stdout",
     "output_type": "stream",
     "text": [
      "Error getting ZIP for nan, nan: Must be a coordinate pair or Point\n"
     ]
    },
    {
     "name": "stdout",
     "output_type": "stream",
     "text": [
      "Error getting ZIP for nan, nan: Must be a coordinate pair or Point\n"
     ]
    },
    {
     "name": "stdout",
     "output_type": "stream",
     "text": [
      "Error getting ZIP for nan, nan: Must be a coordinate pair or Point\n"
     ]
    },
    {
     "name": "stdout",
     "output_type": "stream",
     "text": [
      "Error getting ZIP for nan, nan: Must be a coordinate pair or Point\n"
     ]
    },
    {
     "name": "stdout",
     "output_type": "stream",
     "text": [
      "Error getting ZIP for nan, nan: Must be a coordinate pair or Point\n"
     ]
    },
    {
     "name": "stdout",
     "output_type": "stream",
     "text": [
      "Error getting ZIP for nan, nan: Must be a coordinate pair or Point\n"
     ]
    },
    {
     "name": "stdout",
     "output_type": "stream",
     "text": [
      "Error getting ZIP for nan, nan: Must be a coordinate pair or Point\n"
     ]
    },
    {
     "name": "stdout",
     "output_type": "stream",
     "text": [
      "Error getting ZIP for nan, nan: Must be a coordinate pair or Point\n"
     ]
    },
    {
     "name": "stdout",
     "output_type": "stream",
     "text": [
      "Error getting ZIP for nan, nan: Must be a coordinate pair or Point\n"
     ]
    },
    {
     "name": "stdout",
     "output_type": "stream",
     "text": [
      "Error getting ZIP for nan, nan: Must be a coordinate pair or Point\n"
     ]
    },
    {
     "name": "stdout",
     "output_type": "stream",
     "text": [
      "Error getting ZIP for nan, nan: Must be a coordinate pair or Point\n"
     ]
    },
    {
     "name": "stdout",
     "output_type": "stream",
     "text": [
      "Error getting ZIP for nan, nan: Must be a coordinate pair or Point\n"
     ]
    },
    {
     "name": "stdout",
     "output_type": "stream",
     "text": [
      "Error getting ZIP for nan, nan: Must be a coordinate pair or Point\n"
     ]
    },
    {
     "name": "stdout",
     "output_type": "stream",
     "text": [
      "Error getting ZIP for nan, nan: Must be a coordinate pair or Point\n"
     ]
    },
    {
     "name": "stdout",
     "output_type": "stream",
     "text": [
      "Error getting ZIP for nan, nan: Must be a coordinate pair or Point\n"
     ]
    },
    {
     "name": "stdout",
     "output_type": "stream",
     "text": [
      "Error getting ZIP for nan, nan: Must be a coordinate pair or Point\n"
     ]
    },
    {
     "name": "stdout",
     "output_type": "stream",
     "text": [
      "Error getting ZIP for nan, nan: Must be a coordinate pair or Point\n"
     ]
    },
    {
     "name": "stdout",
     "output_type": "stream",
     "text": [
      "Error getting ZIP for nan, nan: Must be a coordinate pair or Point\n"
     ]
    },
    {
     "name": "stdout",
     "output_type": "stream",
     "text": [
      "Error getting ZIP for nan, nan: Must be a coordinate pair or Point\n"
     ]
    },
    {
     "name": "stdout",
     "output_type": "stream",
     "text": [
      "Error getting ZIP for nan, nan: Must be a coordinate pair or Point\n"
     ]
    },
    {
     "name": "stdout",
     "output_type": "stream",
     "text": [
      "Error getting ZIP for nan, nan: Must be a coordinate pair or Point\n"
     ]
    },
    {
     "name": "stdout",
     "output_type": "stream",
     "text": [
      "Error getting ZIP for nan, nan: Must be a coordinate pair or Point\n"
     ]
    },
    {
     "name": "stdout",
     "output_type": "stream",
     "text": [
      "Error getting ZIP for nan, nan: Must be a coordinate pair or Point\n"
     ]
    },
    {
     "name": "stdout",
     "output_type": "stream",
     "text": [
      "Error getting ZIP for nan, nan: Must be a coordinate pair or Point\n"
     ]
    },
    {
     "name": "stdout",
     "output_type": "stream",
     "text": [
      "Error getting ZIP for nan, nan: Must be a coordinate pair or Point\n"
     ]
    },
    {
     "name": "stdout",
     "output_type": "stream",
     "text": [
      "Error getting ZIP for nan, nan: Must be a coordinate pair or Point\n"
     ]
    },
    {
     "name": "stdout",
     "output_type": "stream",
     "text": [
      "Error getting ZIP for nan, nan: Must be a coordinate pair or Point\n"
     ]
    },
    {
     "name": "stdout",
     "output_type": "stream",
     "text": [
      "Error getting ZIP for nan, nan: Must be a coordinate pair or Point\n"
     ]
    },
    {
     "name": "stdout",
     "output_type": "stream",
     "text": [
      "Error getting ZIP for nan, nan: Must be a coordinate pair or Point\n"
     ]
    },
    {
     "name": "stdout",
     "output_type": "stream",
     "text": [
      "Error getting ZIP for nan, nan: Must be a coordinate pair or Point\n"
     ]
    },
    {
     "name": "stdout",
     "output_type": "stream",
     "text": [
      "Error getting ZIP for nan, nan: Must be a coordinate pair or Point\n"
     ]
    },
    {
     "name": "stdout",
     "output_type": "stream",
     "text": [
      "Error getting ZIP for nan, nan: Must be a coordinate pair or Point\n"
     ]
    },
    {
     "name": "stdout",
     "output_type": "stream",
     "text": [
      "Error getting ZIP for nan, nan: Must be a coordinate pair or Point\n"
     ]
    },
    {
     "name": "stdout",
     "output_type": "stream",
     "text": [
      "Error getting ZIP for nan, nan: Must be a coordinate pair or Point\n"
     ]
    },
    {
     "name": "stdout",
     "output_type": "stream",
     "text": [
      "Error getting ZIP for nan, nan: Must be a coordinate pair or Point\n"
     ]
    },
    {
     "name": "stdout",
     "output_type": "stream",
     "text": [
      "Error getting ZIP for nan, nan: Must be a coordinate pair or Point\n"
     ]
    },
    {
     "name": "stdout",
     "output_type": "stream",
     "text": [
      "Error getting ZIP for nan, nan: Must be a coordinate pair or Point\n"
     ]
    },
    {
     "name": "stdout",
     "output_type": "stream",
     "text": [
      "Error getting ZIP for nan, nan: Must be a coordinate pair or Point\n"
     ]
    },
    {
     "name": "stdout",
     "output_type": "stream",
     "text": [
      "Error getting ZIP for nan, nan: Must be a coordinate pair or Point\n"
     ]
    },
    {
     "name": "stdout",
     "output_type": "stream",
     "text": [
      "Error getting ZIP for nan, nan: Must be a coordinate pair or Point\n"
     ]
    },
    {
     "name": "stdout",
     "output_type": "stream",
     "text": [
      "Error getting ZIP for nan, nan: Must be a coordinate pair or Point\n"
     ]
    },
    {
     "name": "stdout",
     "output_type": "stream",
     "text": [
      "Error getting ZIP for nan, nan: Must be a coordinate pair or Point\n"
     ]
    },
    {
     "name": "stdout",
     "output_type": "stream",
     "text": [
      "Error getting ZIP for nan, nan: Must be a coordinate pair or Point\n"
     ]
    },
    {
     "name": "stdout",
     "output_type": "stream",
     "text": [
      "Error getting ZIP for nan, nan: Must be a coordinate pair or Point\n"
     ]
    },
    {
     "name": "stdout",
     "output_type": "stream",
     "text": [
      "Error getting ZIP for nan, nan: Must be a coordinate pair or Point\n"
     ]
    },
    {
     "name": "stdout",
     "output_type": "stream",
     "text": [
      "Error getting ZIP for nan, nan: Must be a coordinate pair or Point\n"
     ]
    },
    {
     "name": "stdout",
     "output_type": "stream",
     "text": [
      "Error getting ZIP for nan, nan: Must be a coordinate pair or Point\n"
     ]
    },
    {
     "name": "stdout",
     "output_type": "stream",
     "text": [
      "Error getting ZIP for nan, nan: Must be a coordinate pair or Point\n"
     ]
    },
    {
     "name": "stdout",
     "output_type": "stream",
     "text": [
      "Error getting ZIP for nan, nan: Must be a coordinate pair or Point\n"
     ]
    },
    {
     "name": "stdout",
     "output_type": "stream",
     "text": [
      "Error getting ZIP for nan, nan: Must be a coordinate pair or Point\n"
     ]
    },
    {
     "name": "stdout",
     "output_type": "stream",
     "text": [
      "Error getting ZIP for nan, nan: Must be a coordinate pair or Point\n"
     ]
    },
    {
     "name": "stdout",
     "output_type": "stream",
     "text": [
      "Error getting ZIP for nan, nan: Must be a coordinate pair or Point\n"
     ]
    },
    {
     "name": "stdout",
     "output_type": "stream",
     "text": [
      "Error getting ZIP for nan, nan: Must be a coordinate pair or Point\n"
     ]
    },
    {
     "name": "stdout",
     "output_type": "stream",
     "text": [
      "Error getting ZIP for nan, nan: Must be a coordinate pair or Point\n"
     ]
    },
    {
     "name": "stdout",
     "output_type": "stream",
     "text": [
      "Error getting ZIP for nan, nan: Must be a coordinate pair or Point\n"
     ]
    },
    {
     "name": "stdout",
     "output_type": "stream",
     "text": [
      "Error getting ZIP for nan, nan: Must be a coordinate pair or Point\n"
     ]
    },
    {
     "name": "stdout",
     "output_type": "stream",
     "text": [
      "Error getting ZIP for nan, nan: Must be a coordinate pair or Point\n"
     ]
    },
    {
     "name": "stdout",
     "output_type": "stream",
     "text": [
      "Error getting ZIP for nan, nan: Must be a coordinate pair or Point\n"
     ]
    },
    {
     "name": "stdout",
     "output_type": "stream",
     "text": [
      "Error getting ZIP for nan, nan: Must be a coordinate pair or Point\n"
     ]
    },
    {
     "name": "stdout",
     "output_type": "stream",
     "text": [
      "Error getting ZIP for nan, nan: Must be a coordinate pair or Point\n"
     ]
    },
    {
     "name": "stdout",
     "output_type": "stream",
     "text": [
      "Error getting ZIP for nan, nan: Must be a coordinate pair or Point\n"
     ]
    },
    {
     "name": "stdout",
     "output_type": "stream",
     "text": [
      "Error getting ZIP for nan, nan: Must be a coordinate pair or Point\n"
     ]
    },
    {
     "name": "stdout",
     "output_type": "stream",
     "text": [
      "Error getting ZIP for nan, nan: Must be a coordinate pair or Point\n"
     ]
    },
    {
     "name": "stdout",
     "output_type": "stream",
     "text": [
      "Error getting ZIP for nan, nan: Must be a coordinate pair or Point\n"
     ]
    },
    {
     "name": "stdout",
     "output_type": "stream",
     "text": [
      "Error getting ZIP for nan, nan: Must be a coordinate pair or Point\n"
     ]
    },
    {
     "name": "stdout",
     "output_type": "stream",
     "text": [
      "Error getting ZIP for nan, nan: Must be a coordinate pair or Point\n"
     ]
    },
    {
     "name": "stdout",
     "output_type": "stream",
     "text": [
      "Error getting ZIP for nan, nan: Must be a coordinate pair or Point\n"
     ]
    },
    {
     "name": "stdout",
     "output_type": "stream",
     "text": [
      "Error getting ZIP for nan, nan: Must be a coordinate pair or Point\n"
     ]
    },
    {
     "name": "stdout",
     "output_type": "stream",
     "text": [
      "Error getting ZIP for nan, nan: Must be a coordinate pair or Point\n"
     ]
    },
    {
     "name": "stdout",
     "output_type": "stream",
     "text": [
      "Error getting ZIP for nan, nan: Must be a coordinate pair or Point\n"
     ]
    },
    {
     "name": "stdout",
     "output_type": "stream",
     "text": [
      "Error getting ZIP for nan, nan: Must be a coordinate pair or Point\n"
     ]
    },
    {
     "name": "stdout",
     "output_type": "stream",
     "text": [
      "Error getting ZIP for nan, nan: Must be a coordinate pair or Point\n"
     ]
    },
    {
     "name": "stdout",
     "output_type": "stream",
     "text": [
      "Error getting ZIP for nan, nan: Must be a coordinate pair or Point\n"
     ]
    },
    {
     "name": "stdout",
     "output_type": "stream",
     "text": [
      "Error getting ZIP for nan, nan: Must be a coordinate pair or Point\n"
     ]
    },
    {
     "name": "stdout",
     "output_type": "stream",
     "text": [
      "Error getting ZIP for nan, nan: Must be a coordinate pair or Point\n"
     ]
    },
    {
     "name": "stdout",
     "output_type": "stream",
     "text": [
      "Error getting ZIP for nan, nan: Must be a coordinate pair or Point\n"
     ]
    },
    {
     "name": "stdout",
     "output_type": "stream",
     "text": [
      "Error getting ZIP for nan, nan: Must be a coordinate pair or Point\n"
     ]
    },
    {
     "name": "stdout",
     "output_type": "stream",
     "text": [
      "Error getting ZIP for nan, nan: Must be a coordinate pair or Point\n"
     ]
    },
    {
     "name": "stdout",
     "output_type": "stream",
     "text": [
      "Error getting ZIP for nan, nan: Must be a coordinate pair or Point\n"
     ]
    },
    {
     "name": "stdout",
     "output_type": "stream",
     "text": [
      "Error getting ZIP for nan, nan: Must be a coordinate pair or Point\n"
     ]
    },
    {
     "name": "stdout",
     "output_type": "stream",
     "text": [
      "Error getting ZIP for nan, nan: Must be a coordinate pair or Point\n"
     ]
    },
    {
     "name": "stdout",
     "output_type": "stream",
     "text": [
      "Error getting ZIP for nan, nan: Must be a coordinate pair or Point\n"
     ]
    },
    {
     "name": "stdout",
     "output_type": "stream",
     "text": [
      "Error getting ZIP for nan, nan: Must be a coordinate pair or Point\n"
     ]
    },
    {
     "name": "stdout",
     "output_type": "stream",
     "text": [
      "Error getting ZIP for nan, nan: Must be a coordinate pair or Point\n"
     ]
    },
    {
     "name": "stdout",
     "output_type": "stream",
     "text": [
      "Error getting ZIP for nan, nan: Must be a coordinate pair or Point\n"
     ]
    },
    {
     "data": {
      "text/html": [
       "<div>\n",
       "<style scoped>\n",
       "    .dataframe tbody tr th:only-of-type {\n",
       "        vertical-align: middle;\n",
       "    }\n",
       "\n",
       "    .dataframe tbody tr th {\n",
       "        vertical-align: top;\n",
       "    }\n",
       "\n",
       "    .dataframe thead th {\n",
       "        text-align: right;\n",
       "    }\n",
       "</style>\n",
       "<table border=\"1\" class=\"dataframe\">\n",
       "  <thead>\n",
       "    <tr style=\"text-align: right;\">\n",
       "      <th></th>\n",
       "      <th>RecordID</th>\n",
       "      <th>Offense</th>\n",
       "      <th>IncidentID</th>\n",
       "      <th>BlockNumber</th>\n",
       "      <th>StreetName</th>\n",
       "      <th>Agency</th>\n",
       "      <th>HourReported</th>\n",
       "      <th>ReportingOfficer</th>\n",
       "      <th>Date</th>\n",
       "      <th>DateString</th>\n",
       "      <th>DayOfWeek</th>\n",
       "      <th>Weekend</th>\n",
       "      <th>Season</th>\n",
       "      <th>HourAMPM</th>\n",
       "      <th>TimeOfDay</th>\n",
       "      <th>FullStreet</th>\n",
       "      <th>lat</th>\n",
       "      <th>lon</th>\n",
       "      <th>neighborhood</th>\n",
       "      <th>zip</th>\n",
       "    </tr>\n",
       "  </thead>\n",
       "  <tbody>\n",
       "    <tr>\n",
       "      <th>0</th>\n",
       "      <td>1</td>\n",
       "      <td>Missing Person-juvenile</td>\n",
       "      <td>202500036799</td>\n",
       "      <td>2300</td>\n",
       "      <td>ANGUS RD</td>\n",
       "      <td>CPD</td>\n",
       "      <td>2157</td>\n",
       "      <td>Wells, Matthew</td>\n",
       "      <td>2025-10-09 21:57:39</td>\n",
       "      <td>2025-10-09 09:57:39 PM</td>\n",
       "      <td>Thursday</td>\n",
       "      <td>False</td>\n",
       "      <td>Autumn</td>\n",
       "      <td>09:57 PM</td>\n",
       "      <td>Night</td>\n",
       "      <td>2300 ANGUS RD</td>\n",
       "      <td>38.061220</td>\n",
       "      <td>-78.498020</td>\n",
       "      <td>The Meadows</td>\n",
       "      <td>22901</td>\n",
       "    </tr>\n",
       "    <tr>\n",
       "      <th>1</th>\n",
       "      <td>2</td>\n",
       "      <td>Missing Person-juvenile</td>\n",
       "      <td>202500036816</td>\n",
       "      <td>2300</td>\n",
       "      <td>ANGUS RD</td>\n",
       "      <td>CPD</td>\n",
       "      <td>2157</td>\n",
       "      <td>Wells, Matthew</td>\n",
       "      <td>2025-10-09 21:57:39</td>\n",
       "      <td>2025-10-09 09:57:39 PM</td>\n",
       "      <td>Thursday</td>\n",
       "      <td>False</td>\n",
       "      <td>Autumn</td>\n",
       "      <td>09:57 PM</td>\n",
       "      <td>Night</td>\n",
       "      <td>2300 ANGUS RD</td>\n",
       "      <td>38.061220</td>\n",
       "      <td>-78.498020</td>\n",
       "      <td>The Meadows</td>\n",
       "      <td>22901</td>\n",
       "    </tr>\n",
       "    <tr>\n",
       "      <th>2</th>\n",
       "      <td>3</td>\n",
       "      <td>Drug Equipment Violation</td>\n",
       "      <td>202500036780</td>\n",
       "      <td>100</td>\n",
       "      <td>W MAIN ST</td>\n",
       "      <td>CPD</td>\n",
       "      <td>2000</td>\n",
       "      <td>Ritter, Kobe</td>\n",
       "      <td>2025-10-09 20:00:24</td>\n",
       "      <td>2025-10-09 08:00:24 PM</td>\n",
       "      <td>Thursday</td>\n",
       "      <td>False</td>\n",
       "      <td>Autumn</td>\n",
       "      <td>08:00 PM</td>\n",
       "      <td>Evening</td>\n",
       "      <td>100 W MAIN ST</td>\n",
       "      <td>38.030718</td>\n",
       "      <td>-78.481656</td>\n",
       "      <td>Downtown Mall</td>\n",
       "      <td>22902</td>\n",
       "    </tr>\n",
       "    <tr>\n",
       "      <th>3</th>\n",
       "      <td>4</td>\n",
       "      <td>Larceny - All Other</td>\n",
       "      <td>202500036744</td>\n",
       "      <td>1300</td>\n",
       "      <td>LONG ST</td>\n",
       "      <td>CPD</td>\n",
       "      <td>1625</td>\n",
       "      <td>Carrasco, Julio</td>\n",
       "      <td>2025-10-09 16:25:02</td>\n",
       "      <td>2025-10-09 04:25:02 PM</td>\n",
       "      <td>Thursday</td>\n",
       "      <td>False</td>\n",
       "      <td>Autumn</td>\n",
       "      <td>04:25 PM</td>\n",
       "      <td>Afternoon</td>\n",
       "      <td>1300 LONG ST</td>\n",
       "      <td>38.035438</td>\n",
       "      <td>-78.462875</td>\n",
       "      <td>Martha Jefferson</td>\n",
       "      <td>22901</td>\n",
       "    </tr>\n",
       "    <tr>\n",
       "      <th>4</th>\n",
       "      <td>5</td>\n",
       "      <td>Drug Equipment Violation</td>\n",
       "      <td>202500036742</td>\n",
       "      <td>100</td>\n",
       "      <td>1ST ST S</td>\n",
       "      <td>CPD</td>\n",
       "      <td>1606</td>\n",
       "      <td>Ritter, Kobe</td>\n",
       "      <td>2025-10-09 16:06:01</td>\n",
       "      <td>2025-10-09 04:06:01 PM</td>\n",
       "      <td>Thursday</td>\n",
       "      <td>False</td>\n",
       "      <td>Autumn</td>\n",
       "      <td>04:06 PM</td>\n",
       "      <td>Afternoon</td>\n",
       "      <td>100 1ST ST S</td>\n",
       "      <td>38.030310</td>\n",
       "      <td>-78.481732</td>\n",
       "      <td>Downtown Mall</td>\n",
       "      <td>22902</td>\n",
       "    </tr>\n",
       "  </tbody>\n",
       "</table>\n",
       "</div>"
      ],
      "text/plain": [
       "   RecordID                   Offense    IncidentID BlockNumber StreetName  \\\n",
       "0         1   Missing Person-juvenile  202500036799        2300   ANGUS RD   \n",
       "1         2   Missing Person-juvenile  202500036816        2300   ANGUS RD   \n",
       "2         3  Drug Equipment Violation  202500036780         100  W MAIN ST   \n",
       "3         4       Larceny - All Other  202500036744        1300    LONG ST   \n",
       "4         5  Drug Equipment Violation  202500036742         100   1ST ST S   \n",
       "\n",
       "  Agency HourReported ReportingOfficer                Date  \\\n",
       "0    CPD         2157   Wells, Matthew 2025-10-09 21:57:39   \n",
       "1    CPD         2157   Wells, Matthew 2025-10-09 21:57:39   \n",
       "2    CPD         2000     Ritter, Kobe 2025-10-09 20:00:24   \n",
       "3    CPD         1625  Carrasco, Julio 2025-10-09 16:25:02   \n",
       "4    CPD         1606     Ritter, Kobe 2025-10-09 16:06:01   \n",
       "\n",
       "               DateString DayOfWeek  Weekend  Season  HourAMPM  TimeOfDay  \\\n",
       "0  2025-10-09 09:57:39 PM  Thursday    False  Autumn  09:57 PM      Night   \n",
       "1  2025-10-09 09:57:39 PM  Thursday    False  Autumn  09:57 PM      Night   \n",
       "2  2025-10-09 08:00:24 PM  Thursday    False  Autumn  08:00 PM    Evening   \n",
       "3  2025-10-09 04:25:02 PM  Thursday    False  Autumn  04:25 PM  Afternoon   \n",
       "4  2025-10-09 04:06:01 PM  Thursday    False  Autumn  04:06 PM  Afternoon   \n",
       "\n",
       "      FullStreet        lat        lon      neighborhood    zip  \n",
       "0  2300 ANGUS RD  38.061220 -78.498020       The Meadows  22901  \n",
       "1  2300 ANGUS RD  38.061220 -78.498020       The Meadows  22901  \n",
       "2  100 W MAIN ST  38.030718 -78.481656     Downtown Mall  22902  \n",
       "3   1300 LONG ST  38.035438 -78.462875  Martha Jefferson  22901  \n",
       "4   100 1ST ST S  38.030310 -78.481732     Downtown Mall  22902  "
      ]
     },
     "execution_count": 11,
     "metadata": {},
     "output_type": "execute_result"
    }
   ],
   "source": [
    "# Initialize the geocoder.\n",
    "geolocator = Nominatim(user_agent=\"zip_lookup\")\n",
    "\n",
    "# Try to load a persistent ZIP cache if available.\n",
    "try:\n",
    "    with open(\"zip_cache.pkl\", \"rb\") as f:\n",
    "        zip_cache = pickle.load(f)\n",
    "    print(\"Loaded zip cache.\")\n",
    "except FileNotFoundError:\n",
    "    zip_cache = {}\n",
    "    print(\"No zip cache found; starting fresh.\")\n",
    "\n",
    "def get_zip(lat, lon):\n",
    "    \"\"\"\n",
    "    Reverse geocodes a latitude and longitude to retrieve the ZIP code.\n",
    "    Caches results to speed up subsequent lookups.\n",
    "    \"\"\"\n",
    "    key = (lat, lon)\n",
    "    if key in zip_cache:\n",
    "        return zip_cache[key]\n",
    "    \n",
    "    try:\n",
    "        location = geolocator.reverse((lat, lon), exactly_one=True, timeout=10)\n",
    "        address = location.raw.get('address', {})\n",
    "        postal_code = address.get('postcode', \"N/A\")\n",
    "    except Exception as e:\n",
    "        print(f\"Error getting ZIP for {lat}, {lon}: {e}\")\n",
    "        postal_code = \"N/A\"\n",
    "    \n",
    "    zip_cache[key] = postal_code\n",
    "    # Pause to respect the usage policy.\n",
    "    time.sleep(1)\n",
    "    return postal_code\n",
    "\n",
    "# Apply the function to each row in the DataFrame.\n",
    "df['zip'] = df.apply(lambda row: get_zip(row['lat'], row['lon']), axis=1)\n",
    "\n",
    "# Save the updated ZIP cache.\n",
    "with open(\"zip_cache.pkl\", \"wb\") as f:\n",
    "    pickle.dump(zip_cache, f)\n",
    "\n",
    "df.head()\n"
   ]
  },
  {
   "cell_type": "code",
   "execution_count": 12,
   "id": "6b9e38f9",
   "metadata": {
    "execution": {
     "iopub.execute_input": "2025-10-12T00:15:16.917204Z",
     "iopub.status.busy": "2025-10-12T00:15:16.916940Z",
     "iopub.status.idle": "2025-10-12T00:15:16.948451Z",
     "shell.execute_reply": "2025-10-12T00:15:16.947883Z"
    },
    "papermill": {
     "duration": 0.049668,
     "end_time": "2025-10-12T00:15:16.949494",
     "exception": false,
     "start_time": "2025-10-12T00:15:16.899826",
     "status": "completed"
    },
    "tags": []
   },
   "outputs": [
    {
     "name": "stdout",
     "output_type": "stream",
     "text": [
      "                  MissingCount  MissingPercentage\n",
      "RecordID                     0               0.00\n",
      "Offense                      0               0.00\n",
      "IncidentID                   0               0.00\n",
      "BlockNumber                  0               0.00\n",
      "StreetName                   0               0.00\n",
      "Agency                       0               0.00\n",
      "HourReported                 0               0.00\n",
      "ReportingOfficer            13               0.05\n",
      "Date                         0               0.00\n",
      "DateString                   0               0.00\n",
      "DayOfWeek                    0               0.00\n",
      "Weekend                      0               0.00\n",
      "Season                       0               0.00\n",
      "HourAMPM                     0               0.00\n",
      "TimeOfDay                    0               0.00\n",
      "FullStreet                   0               0.00\n",
      "lat                        238               0.92\n",
      "lon                        238               0.92\n",
      "neighborhood                 0               0.00\n",
      "zip                          0               0.00\n"
     ]
    }
   ],
   "source": [
    "missing_info = missing_percentage(df)\n",
    "print(missing_info)\n"
   ]
  },
  {
   "cell_type": "code",
   "execution_count": 13,
   "id": "bb4ed31d",
   "metadata": {
    "execution": {
     "iopub.execute_input": "2025-10-12T00:15:16.983376Z",
     "iopub.status.busy": "2025-10-12T00:15:16.983132Z",
     "iopub.status.idle": "2025-10-12T00:15:17.017088Z",
     "shell.execute_reply": "2025-10-12T00:15:17.016482Z"
    },
    "papermill": {
     "duration": 0.051918,
     "end_time": "2025-10-12T00:15:17.018117",
     "exception": false,
     "start_time": "2025-10-12T00:15:16.966199",
     "status": "completed"
    },
    "tags": []
   },
   "outputs": [
    {
     "name": "stdout",
     "output_type": "stream",
     "text": [
      "<class 'pandas.core.frame.DataFrame'>\n",
      "RangeIndex: 25902 entries, 0 to 25901\n",
      "Data columns (total 20 columns):\n",
      " #   Column            Non-Null Count  Dtype         \n",
      "---  ------            --------------  -----         \n",
      " 0   RecordID          25902 non-null  int64         \n",
      " 1   Offense           25902 non-null  object        \n",
      " 2   IncidentID        25902 non-null  object        \n",
      " 3   BlockNumber       25902 non-null  object        \n",
      " 4   StreetName        25902 non-null  object        \n",
      " 5   Agency            25902 non-null  object        \n",
      " 6   HourReported      25902 non-null  object        \n",
      " 7   ReportingOfficer  25889 non-null  object        \n",
      " 8   Date              25902 non-null  datetime64[ns]\n",
      " 9   DateString        25902 non-null  object        \n",
      " 10  DayOfWeek         25902 non-null  object        \n",
      " 11  Weekend           25902 non-null  bool          \n",
      " 12  Season            25902 non-null  object        \n",
      " 13  HourAMPM          25902 non-null  object        \n",
      " 14  TimeOfDay         25902 non-null  object        \n",
      " 15  FullStreet        25902 non-null  object        \n",
      " 16  lat               25664 non-null  float64       \n",
      " 17  lon               25664 non-null  float64       \n",
      " 18  neighborhood      25902 non-null  object        \n",
      " 19  zip               25902 non-null  object        \n",
      "dtypes: bool(1), datetime64[ns](1), float64(2), int64(1), object(15)\n",
      "memory usage: 3.8+ MB\n"
     ]
    }
   ],
   "source": [
    "df.info()"
   ]
  },
  {
   "cell_type": "code",
   "execution_count": 14,
   "id": "2997c2be",
   "metadata": {
    "execution": {
     "iopub.execute_input": "2025-10-12T00:15:17.052360Z",
     "iopub.status.busy": "2025-10-12T00:15:17.052098Z",
     "iopub.status.idle": "2025-10-12T00:15:17.101932Z",
     "shell.execute_reply": "2025-10-12T00:15:17.101255Z"
    },
    "papermill": {
     "duration": 0.067927,
     "end_time": "2025-10-12T00:15:17.102989",
     "exception": false,
     "start_time": "2025-10-12T00:15:17.035062",
     "status": "completed"
    },
    "tags": []
   },
   "outputs": [
    {
     "data": {
      "text/html": [
       "<div>\n",
       "<style scoped>\n",
       "    .dataframe tbody tr th:only-of-type {\n",
       "        vertical-align: middle;\n",
       "    }\n",
       "\n",
       "    .dataframe tbody tr th {\n",
       "        vertical-align: top;\n",
       "    }\n",
       "\n",
       "    .dataframe thead th {\n",
       "        text-align: right;\n",
       "    }\n",
       "</style>\n",
       "<table border=\"1\" class=\"dataframe\">\n",
       "  <thead>\n",
       "    <tr style=\"text-align: right;\">\n",
       "      <th></th>\n",
       "      <th>RecordID</th>\n",
       "      <th>Offense</th>\n",
       "      <th>IncidentID</th>\n",
       "      <th>Agency</th>\n",
       "      <th>ReportingOfficer</th>\n",
       "      <th>Date</th>\n",
       "      <th>DayOfWeek</th>\n",
       "      <th>Weekend</th>\n",
       "      <th>Season</th>\n",
       "      <th>TimeOfDay</th>\n",
       "      <th>FullStreet</th>\n",
       "      <th>lat</th>\n",
       "      <th>lon</th>\n",
       "      <th>neighborhood</th>\n",
       "      <th>zip</th>\n",
       "    </tr>\n",
       "  </thead>\n",
       "  <tbody>\n",
       "    <tr>\n",
       "      <th>0</th>\n",
       "      <td>1</td>\n",
       "      <td>Missing Person-juvenile</td>\n",
       "      <td>202500036799</td>\n",
       "      <td>CPD</td>\n",
       "      <td>Wells, Matthew</td>\n",
       "      <td>2025-10-09 21:57:39</td>\n",
       "      <td>Thursday</td>\n",
       "      <td>False</td>\n",
       "      <td>Autumn</td>\n",
       "      <td>Night</td>\n",
       "      <td>2300 ANGUS RD</td>\n",
       "      <td>38.06122</td>\n",
       "      <td>-78.49802</td>\n",
       "      <td>The Meadows</td>\n",
       "      <td>22901</td>\n",
       "    </tr>\n",
       "    <tr>\n",
       "      <th>1</th>\n",
       "      <td>2</td>\n",
       "      <td>Missing Person-juvenile</td>\n",
       "      <td>202500036816</td>\n",
       "      <td>CPD</td>\n",
       "      <td>Wells, Matthew</td>\n",
       "      <td>2025-10-09 21:57:39</td>\n",
       "      <td>Thursday</td>\n",
       "      <td>False</td>\n",
       "      <td>Autumn</td>\n",
       "      <td>Night</td>\n",
       "      <td>2300 ANGUS RD</td>\n",
       "      <td>38.06122</td>\n",
       "      <td>-78.49802</td>\n",
       "      <td>The Meadows</td>\n",
       "      <td>22901</td>\n",
       "    </tr>\n",
       "    <tr>\n",
       "      <th>2</th>\n",
       "      <td>3</td>\n",
       "      <td>Drug Equipment Violation</td>\n",
       "      <td>202500036780</td>\n",
       "      <td>CPD</td>\n",
       "      <td>Ritter, Kobe</td>\n",
       "      <td>2025-10-09 20:00:24</td>\n",
       "      <td>Thursday</td>\n",
       "      <td>False</td>\n",
       "      <td>Autumn</td>\n",
       "      <td>Evening</td>\n",
       "      <td>100 W MAIN ST</td>\n",
       "      <td>38.030718</td>\n",
       "      <td>-78.481656</td>\n",
       "      <td>Downtown Mall</td>\n",
       "      <td>22902</td>\n",
       "    </tr>\n",
       "    <tr>\n",
       "      <th>3</th>\n",
       "      <td>4</td>\n",
       "      <td>Larceny - All Other</td>\n",
       "      <td>202500036744</td>\n",
       "      <td>CPD</td>\n",
       "      <td>Carrasco, Julio</td>\n",
       "      <td>2025-10-09 16:25:02</td>\n",
       "      <td>Thursday</td>\n",
       "      <td>False</td>\n",
       "      <td>Autumn</td>\n",
       "      <td>Afternoon</td>\n",
       "      <td>1300 LONG ST</td>\n",
       "      <td>38.035438</td>\n",
       "      <td>-78.462875</td>\n",
       "      <td>Martha Jefferson</td>\n",
       "      <td>22901</td>\n",
       "    </tr>\n",
       "    <tr>\n",
       "      <th>4</th>\n",
       "      <td>5</td>\n",
       "      <td>Drug Equipment Violation</td>\n",
       "      <td>202500036742</td>\n",
       "      <td>CPD</td>\n",
       "      <td>Ritter, Kobe</td>\n",
       "      <td>2025-10-09 16:06:01</td>\n",
       "      <td>Thursday</td>\n",
       "      <td>False</td>\n",
       "      <td>Autumn</td>\n",
       "      <td>Afternoon</td>\n",
       "      <td>100 1ST ST S</td>\n",
       "      <td>38.03031</td>\n",
       "      <td>-78.481732</td>\n",
       "      <td>Downtown Mall</td>\n",
       "      <td>22902</td>\n",
       "    </tr>\n",
       "  </tbody>\n",
       "</table>\n",
       "</div>"
      ],
      "text/plain": [
       "   RecordID                   Offense    IncidentID Agency ReportingOfficer  \\\n",
       "0         1   Missing Person-juvenile  202500036799    CPD   Wells, Matthew   \n",
       "1         2   Missing Person-juvenile  202500036816    CPD   Wells, Matthew   \n",
       "2         3  Drug Equipment Violation  202500036780    CPD     Ritter, Kobe   \n",
       "3         4       Larceny - All Other  202500036744    CPD  Carrasco, Julio   \n",
       "4         5  Drug Equipment Violation  202500036742    CPD     Ritter, Kobe   \n",
       "\n",
       "                 Date DayOfWeek  Weekend  Season  TimeOfDay     FullStreet  \\\n",
       "0 2025-10-09 21:57:39  Thursday    False  Autumn      Night  2300 ANGUS RD   \n",
       "1 2025-10-09 21:57:39  Thursday    False  Autumn      Night  2300 ANGUS RD   \n",
       "2 2025-10-09 20:00:24  Thursday    False  Autumn    Evening  100 W MAIN ST   \n",
       "3 2025-10-09 16:25:02  Thursday    False  Autumn  Afternoon   1300 LONG ST   \n",
       "4 2025-10-09 16:06:01  Thursday    False  Autumn  Afternoon   100 1ST ST S   \n",
       "\n",
       "         lat        lon      neighborhood    zip  \n",
       "0   38.06122  -78.49802       The Meadows  22901  \n",
       "1   38.06122  -78.49802       The Meadows  22901  \n",
       "2  38.030718 -78.481656     Downtown Mall  22902  \n",
       "3  38.035438 -78.462875  Martha Jefferson  22901  \n",
       "4   38.03031 -78.481732     Downtown Mall  22902  "
      ]
     },
     "execution_count": 14,
     "metadata": {},
     "output_type": "execute_result"
    }
   ],
   "source": [
    "# Now drop the original BlockNumber and StreetName columns\n",
    "df.drop(columns=['BlockNumber', 'StreetName','HourAMPM','HourReported','DateString'], inplace=True)\n",
    "df[\"zip\"] = df[\"zip\"].astype(str)\n",
    "\n",
    "# Fill all missing values in the DataFrame with \"N/A\"\n",
    "df.replace({None: \"N/A\", np.nan: \"N/A\", \"\": \"N/A\"}, inplace=True)\n",
    "df.head()"
   ]
  },
  {
   "cell_type": "code",
   "execution_count": 15,
   "id": "e40e7e31",
   "metadata": {
    "execution": {
     "iopub.execute_input": "2025-10-12T00:15:17.137881Z",
     "iopub.status.busy": "2025-10-12T00:15:17.137583Z",
     "iopub.status.idle": "2025-10-12T00:15:17.161324Z",
     "shell.execute_reply": "2025-10-12T00:15:17.160712Z"
    },
    "papermill": {
     "duration": 0.042284,
     "end_time": "2025-10-12T00:15:17.162315",
     "exception": false,
     "start_time": "2025-10-12T00:15:17.120031",
     "status": "completed"
    },
    "tags": []
   },
   "outputs": [
    {
     "name": "stdout",
     "output_type": "stream",
     "text": [
      "                  MissingCount  MissingPercentage\n",
      "RecordID                     0                0.0\n",
      "Offense                      0                0.0\n",
      "IncidentID                   0                0.0\n",
      "Agency                       0                0.0\n",
      "ReportingOfficer             0                0.0\n",
      "Date                         0                0.0\n",
      "DayOfWeek                    0                0.0\n",
      "Weekend                      0                0.0\n",
      "Season                       0                0.0\n",
      "TimeOfDay                    0                0.0\n",
      "FullStreet                   0                0.0\n",
      "lat                          0                0.0\n",
      "lon                          0                0.0\n",
      "neighborhood                 0                0.0\n",
      "zip                          0                0.0\n"
     ]
    }
   ],
   "source": [
    "missing_info = missing_percentage(df)\n",
    "print(missing_info)"
   ]
  },
  {
   "cell_type": "code",
   "execution_count": 16,
   "id": "ec2c3f75",
   "metadata": {
    "execution": {
     "iopub.execute_input": "2025-10-12T00:15:17.197655Z",
     "iopub.status.busy": "2025-10-12T00:15:17.197370Z",
     "iopub.status.idle": "2025-10-12T00:15:17.202126Z",
     "shell.execute_reply": "2025-10-12T00:15:17.201554Z"
    },
    "papermill": {
     "duration": 0.023473,
     "end_time": "2025-10-12T00:15:17.203166",
     "exception": false,
     "start_time": "2025-10-12T00:15:17.179693",
     "status": "completed"
    },
    "tags": []
   },
   "outputs": [
    {
     "data": {
      "text/plain": [
       "Index(['RecordID', 'Offense', 'IncidentID', 'Agency', 'ReportingOfficer',\n",
       "       'Date', 'DayOfWeek', 'Weekend', 'Season', 'TimeOfDay', 'FullStreet',\n",
       "       'lat', 'lon', 'neighborhood', 'zip'],\n",
       "      dtype='object')"
      ]
     },
     "execution_count": 16,
     "metadata": {},
     "output_type": "execute_result"
    }
   ],
   "source": [
    "df.columns"
   ]
  },
  {
   "cell_type": "code",
   "execution_count": 17,
   "id": "9501261f",
   "metadata": {
    "execution": {
     "iopub.execute_input": "2025-10-12T00:15:17.238231Z",
     "iopub.status.busy": "2025-10-12T00:15:17.237958Z",
     "iopub.status.idle": "2025-10-12T00:15:17.262932Z",
     "shell.execute_reply": "2025-10-12T00:15:17.262290Z"
    },
    "papermill": {
     "duration": 0.043781,
     "end_time": "2025-10-12T00:15:17.263977",
     "exception": false,
     "start_time": "2025-10-12T00:15:17.220196",
     "status": "completed"
    },
    "tags": []
   },
   "outputs": [
    {
     "name": "stdout",
     "output_type": "stream",
     "text": [
      "<class 'pandas.core.frame.DataFrame'>\n",
      "RangeIndex: 25902 entries, 0 to 25901\n",
      "Data columns (total 15 columns):\n",
      " #   Column            Non-Null Count  Dtype         \n",
      "---  ------            --------------  -----         \n",
      " 0   RecordID          25902 non-null  int64         \n",
      " 1   Offense           25902 non-null  object        \n",
      " 2   IncidentID        25902 non-null  object        \n",
      " 3   Agency            25902 non-null  object        \n",
      " 4   ReportingOfficer  25902 non-null  object        \n",
      " 5   Date              25902 non-null  datetime64[ns]\n",
      " 6   DayOfWeek         25902 non-null  object        \n",
      " 7   Weekend           25902 non-null  bool          \n",
      " 8   Season            25902 non-null  object        \n",
      " 9   TimeOfDay         25902 non-null  object        \n",
      " 10  FullStreet        25902 non-null  object        \n",
      " 11  lat               25902 non-null  object        \n",
      " 12  lon               25902 non-null  object        \n",
      " 13  neighborhood      25902 non-null  object        \n",
      " 14  zip               25902 non-null  object        \n",
      "dtypes: bool(1), datetime64[ns](1), int64(1), object(12)\n",
      "memory usage: 2.8+ MB\n"
     ]
    }
   ],
   "source": [
    "df.info()"
   ]
  },
  {
   "cell_type": "markdown",
   "id": "6bbc28b3",
   "metadata": {
    "papermill": {
     "duration": 0.017217,
     "end_time": "2025-10-12T00:15:17.299099",
     "exception": false,
     "start_time": "2025-10-12T00:15:17.281882",
     "status": "completed"
    },
    "tags": []
   },
   "source": [
    "### Export Clean Data"
   ]
  },
  {
   "cell_type": "code",
   "execution_count": 18,
   "id": "603054ef",
   "metadata": {
    "execution": {
     "iopub.execute_input": "2025-10-12T00:15:17.334676Z",
     "iopub.status.busy": "2025-10-12T00:15:17.334368Z",
     "iopub.status.idle": "2025-10-12T00:15:26.812475Z",
     "shell.execute_reply": "2025-10-12T00:15:26.811854Z"
    },
    "papermill": {
     "duration": 9.497317,
     "end_time": "2025-10-12T00:15:26.813554",
     "exception": false,
     "start_time": "2025-10-12T00:15:17.316237",
     "status": "completed"
    },
    "tags": []
   },
   "outputs": [
    {
     "name": "stdout",
     "output_type": "stream",
     "text": [
      "Project Root: /home/runner/work/crime-data/crime-data\n"
     ]
    },
    {
     "name": "stdout",
     "output_type": "stream",
     "text": [
      "Data saved to: /home/runner/work/crime-data/crime-data/data/charlottesville_crime_incidents.csv\n"
     ]
    },
    {
     "name": "stdout",
     "output_type": "stream",
     "text": [
      "Excel saved to: /home/runner/work/crime-data/crime-data/data/charlottesville_crime_incidents.xlsx\n"
     ]
    }
   ],
   "source": [
    "# Determine the project root (assuming papermill is run from the repository root)\n",
    "project_root = os.getcwd()\n",
    "print(\"Project Root:\", project_root)\n",
    "\n",
    "# Set the data directory within the project root\n",
    "data_dir = os.path.join(project_root, \"data\")\n",
    "\n",
    "# Ensure the \"data\" directory exists (create it if it doesn't)\n",
    "if not os.path.exists(data_dir):\n",
    "    os.makedirs(data_dir)\n",
    "\n",
    "# Export the DataFrame to CSV in the \"data\" folder located in the project root\n",
    "csv_path = os.path.join(data_dir, \"charlottesville_crime_incidents.csv\")\n",
    "df.to_csv(csv_path, index=False)\n",
    "print(\"Data saved to:\", csv_path)\n",
    "\n",
    "# Construct the path to your Excel file\n",
    "excel_path = os.path.join(data_dir, \"charlottesville_crime_incidents.xlsx\")\n",
    "\n",
    "# Export the DataFrame to Excel\n",
    "df.to_excel(excel_path, index=False)\n",
    "print(\"Excel saved to:\", excel_path)\n"
   ]
  }
 ],
 "metadata": {
  "kernelspec": {
   "display_name": "Python 3",
   "language": "python",
   "name": "python3"
  },
  "language_info": {
   "codemirror_mode": {
    "name": "ipython",
    "version": 3
   },
   "file_extension": ".py",
   "mimetype": "text/x-python",
   "name": "python",
   "nbconvert_exporter": "python",
   "pygments_lexer": "ipython3",
   "version": "3.9.23"
  },
  "papermill": {
   "default_parameters": {},
   "duration": 262.24367,
   "end_time": "2025-10-12T00:15:27.349129",
   "environment_variables": {},
   "exception": null,
   "input_path": "notebook/Crime Data.ipynb",
   "output_path": "notebook/Crime Data_output.ipynb",
   "parameters": {},
   "start_time": "2025-10-12T00:11:05.105459",
   "version": "2.6.0"
  }
 },
 "nbformat": 4,
 "nbformat_minor": 5
}