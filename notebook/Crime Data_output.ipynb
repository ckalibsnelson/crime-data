{
 "cells": [
  {
   "cell_type": "markdown",
   "id": "dbc1b78a",
   "metadata": {
    "papermill": {
     "duration": 0.004216,
     "end_time": "2025-06-20T01:04:16.620421",
     "exception": false,
     "start_time": "2025-06-20T01:04:16.616205",
     "status": "completed"
    },
    "tags": []
   },
   "source": [
    "# Charlottesville Open Data Porttal: Crime Data"
   ]
  },
  {
   "cell_type": "markdown",
   "id": "d3b70274",
   "metadata": {
    "papermill": {
     "duration": 0.003226,
     "end_time": "2025-06-20T01:04:16.627041",
     "exception": false,
     "start_time": "2025-06-20T01:04:16.623815",
     "status": "completed"
    },
    "tags": []
   },
   "source": [
    "## Import Relevant Librarires & Set WD"
   ]
  },
  {
   "cell_type": "code",
   "execution_count": 1,
   "id": "36efd029",
   "metadata": {
    "execution": {
     "iopub.execute_input": "2025-06-20T01:04:16.634373Z",
     "iopub.status.busy": "2025-06-20T01:04:16.633934Z",
     "iopub.status.idle": "2025-06-20T01:04:17.131553Z",
     "shell.execute_reply": "2025-06-20T01:04:17.130900Z"
    },
    "papermill": {
     "duration": 0.502717,
     "end_time": "2025-06-20T01:04:17.132824",
     "exception": false,
     "start_time": "2025-06-20T01:04:16.630107",
     "status": "completed"
    },
    "tags": []
   },
   "outputs": [],
   "source": [
    "import requests\n",
    "import pandas as pd\n",
    "import numpy as np\n",
    "import pickle\n",
    "import googlemaps\n",
    "import plotly.express as px\n",
    "from geopy.geocoders import Nominatim\n",
    "import time\n",
    "from dotenv import load_dotenv\n",
    "import os\n",
    "\n",
    "env_path = os.path.join(\"..\", \".env\")\n",
    "#print(\"Looking for .env file at:\", os.path.abspath(env_path))\n",
    "load_dotenv(dotenv_path=env_path)\n",
    "\n",
    "# Retrieve the variables\n",
    "GOOGLE_API_KEY = os.getenv(\"GOOGLE_API_KEY\")\n",
    "WORKING_DIR = os.getenv(\"WORKING_DIR\")\n",
    "\n",
    "if GOOGLE_API_KEY is None or WORKING_DIR is None:\n",
    "    raise RuntimeError(\"No configuration found. Please ensure that your .env file exists with the required variables, or create a local config.py file.\")\n",
    "\n",
    "#print(\"Google API Key:\", GOOGLE_API_KEY)\n",
    "#print(\"Working Directory:\", WORKING_DIR)"
   ]
  },
  {
   "cell_type": "markdown",
   "id": "ffcda826",
   "metadata": {
    "papermill": {
     "duration": 0.003311,
     "end_time": "2025-06-20T01:04:17.139756",
     "exception": false,
     "start_time": "2025-06-20T01:04:17.136445",
     "status": "completed"
    },
    "tags": []
   },
   "source": [
    "## Import Data\n",
    "\n",
    "URL: https://opendata.charlottesville.org/datasets/charlottesville::crime-data/about"
   ]
  },
  {
   "cell_type": "code",
   "execution_count": 2,
   "id": "c3298591",
   "metadata": {
    "execution": {
     "iopub.execute_input": "2025-06-20T01:04:17.147577Z",
     "iopub.status.busy": "2025-06-20T01:04:17.147074Z",
     "iopub.status.idle": "2025-06-20T01:05:26.911982Z",
     "shell.execute_reply": "2025-06-20T01:05:26.911300Z"
    },
    "papermill": {
     "duration": 69.773409,
     "end_time": "2025-06-20T01:05:26.916570",
     "exception": false,
     "start_time": "2025-06-20T01:04:17.143161",
     "status": "completed"
    },
    "tags": []
   },
   "outputs": [
    {
     "name": "stdout",
     "output_type": "stream",
     "text": [
      "Total records imported: 25533\n"
     ]
    }
   ],
   "source": [
    "# Define the endpoint and initial parameters.\n",
    "url = \"https://gisweb.charlottesville.org/arcgis/rest/services/OpenData_2/MapServer/6/query\"\n",
    "params = {\n",
    "    \"where\": \"1=1\",\n",
    "    \"outFields\": \"*\",\n",
    "    \"outSR\": 4326,\n",
    "    \"f\": \"json\",\n",
    "    \"resultOffset\": 0,       # Starting index for results\n",
    "    \"resultRecordCount\": 10000  # Maximum records per batch (if allowed by the API)\n",
    "}\n",
    "\n",
    "records = []\n",
    "\n",
    "while True:\n",
    "    response = requests.get(url, params=params)\n",
    "    response.raise_for_status()\n",
    "    data = response.json()\n",
    "    \n",
    "    # Get the current batch of features.\n",
    "    features = data.get(\"features\", [])\n",
    "    if not features:\n",
    "        break\n",
    "\n",
    "    # Extract the attributes from the features.\n",
    "    batch_records = [feature.get(\"attributes\", {}) for feature in features]\n",
    "    records.extend(batch_records)\n",
    "    \n",
    "    # If the batch size is less than the requested count, we reached the end.\n",
    "    if len(features) < params[\"resultRecordCount\"]:\n",
    "        break\n",
    "\n",
    "    # Update the resultOffset for the next batch.\n",
    "    params[\"resultOffset\"] += params[\"resultRecordCount\"]\n",
    "\n",
    "# Create a DataFrame from the combined records.\n",
    "df = pd.DataFrame(records)\n",
    "print(\"Total records imported:\", len(df))\n"
   ]
  },
  {
   "cell_type": "code",
   "execution_count": 3,
   "id": "b611ec37",
   "metadata": {
    "execution": {
     "iopub.execute_input": "2025-06-20T01:05:26.924581Z",
     "iopub.status.busy": "2025-06-20T01:05:26.924152Z",
     "iopub.status.idle": "2025-06-20T01:05:26.936333Z",
     "shell.execute_reply": "2025-06-20T01:05:26.935787Z"
    },
    "papermill": {
     "duration": 0.017361,
     "end_time": "2025-06-20T01:05:26.937436",
     "exception": false,
     "start_time": "2025-06-20T01:05:26.920075",
     "status": "completed"
    },
    "tags": []
   },
   "outputs": [
    {
     "data": {
      "text/html": [
       "<div>\n",
       "<style scoped>\n",
       "    .dataframe tbody tr th:only-of-type {\n",
       "        vertical-align: middle;\n",
       "    }\n",
       "\n",
       "    .dataframe tbody tr th {\n",
       "        vertical-align: top;\n",
       "    }\n",
       "\n",
       "    .dataframe thead th {\n",
       "        text-align: right;\n",
       "    }\n",
       "</style>\n",
       "<table border=\"1\" class=\"dataframe\">\n",
       "  <thead>\n",
       "    <tr style=\"text-align: right;\">\n",
       "      <th></th>\n",
       "      <th>RecordID</th>\n",
       "      <th>Offense</th>\n",
       "      <th>IncidentID</th>\n",
       "      <th>BlockNumber</th>\n",
       "      <th>StreetName</th>\n",
       "      <th>Agency</th>\n",
       "      <th>DateReported</th>\n",
       "      <th>HourReported</th>\n",
       "      <th>ReportingOfficer</th>\n",
       "    </tr>\n",
       "  </thead>\n",
       "  <tbody>\n",
       "    <tr>\n",
       "      <th>0</th>\n",
       "      <td>1</td>\n",
       "      <td>Lost/FoundProperty</td>\n",
       "      <td>202500020897</td>\n",
       "      <td>600</td>\n",
       "      <td>E WATER ST</td>\n",
       "      <td>CPD</td>\n",
       "      <td>1750206569000</td>\n",
       "      <td>2029</td>\n",
       "      <td>Crowley, Raeann</td>\n",
       "    </tr>\n",
       "    <tr>\n",
       "      <th>1</th>\n",
       "      <td>2</td>\n",
       "      <td>Animal Complaint</td>\n",
       "      <td>202500020898</td>\n",
       "      <td>900</td>\n",
       "      <td>BOLLING AVE</td>\n",
       "      <td>CPD</td>\n",
       "      <td>1750204881000</td>\n",
       "      <td>2001</td>\n",
       "      <td>Reed, Danielle</td>\n",
       "    </tr>\n",
       "    <tr>\n",
       "      <th>2</th>\n",
       "      <td>3</td>\n",
       "      <td>Domestic Disturbance</td>\n",
       "      <td>202500020890</td>\n",
       "      <td>100</td>\n",
       "      <td>STEWART CIR</td>\n",
       "      <td>CPD</td>\n",
       "      <td>1750200896000</td>\n",
       "      <td>1854</td>\n",
       "      <td>Curry, Brian</td>\n",
       "    </tr>\n",
       "    <tr>\n",
       "      <th>3</th>\n",
       "      <td>4</td>\n",
       "      <td>Assault Simple</td>\n",
       "      <td>202500020858</td>\n",
       "      <td>1900</td>\n",
       "      <td>IVY RD, BLK</td>\n",
       "      <td>CPD</td>\n",
       "      <td>1750182252000</td>\n",
       "      <td>1344</td>\n",
       "      <td>Love-Baker, Sydney</td>\n",
       "    </tr>\n",
       "    <tr>\n",
       "      <th>4</th>\n",
       "      <td>5</td>\n",
       "      <td>Larceny - All Other</td>\n",
       "      <td>202500020829</td>\n",
       "      <td>400</td>\n",
       "      <td>10TH ST NE</td>\n",
       "      <td>CPD</td>\n",
       "      <td>1750169135000</td>\n",
       "      <td>1005</td>\n",
       "      <td>Folston, Elliott</td>\n",
       "    </tr>\n",
       "  </tbody>\n",
       "</table>\n",
       "</div>"
      ],
      "text/plain": [
       "   RecordID               Offense    IncidentID BlockNumber   StreetName  \\\n",
       "0         1    Lost/FoundProperty  202500020897         600   E WATER ST   \n",
       "1         2      Animal Complaint  202500020898         900  BOLLING AVE   \n",
       "2         3  Domestic Disturbance  202500020890         100  STEWART CIR   \n",
       "3         4        Assault Simple  202500020858        1900  IVY RD, BLK   \n",
       "4         5   Larceny - All Other  202500020829         400   10TH ST NE   \n",
       "\n",
       "  Agency   DateReported HourReported    ReportingOfficer  \n",
       "0    CPD  1750206569000         2029     Crowley, Raeann  \n",
       "1    CPD  1750204881000         2001      Reed, Danielle  \n",
       "2    CPD  1750200896000         1854        Curry, Brian  \n",
       "3    CPD  1750182252000         1344  Love-Baker, Sydney  \n",
       "4    CPD  1750169135000         1005    Folston, Elliott  "
      ]
     },
     "execution_count": 3,
     "metadata": {},
     "output_type": "execute_result"
    }
   ],
   "source": [
    "df.head()"
   ]
  },
  {
   "cell_type": "code",
   "execution_count": 4,
   "id": "d4eb6e4e",
   "metadata": {
    "execution": {
     "iopub.execute_input": "2025-06-20T01:05:26.945601Z",
     "iopub.status.busy": "2025-06-20T01:05:26.945225Z",
     "iopub.status.idle": "2025-06-20T01:05:26.949467Z",
     "shell.execute_reply": "2025-06-20T01:05:26.948894Z"
    },
    "papermill": {
     "duration": 0.009448,
     "end_time": "2025-06-20T01:05:26.950538",
     "exception": false,
     "start_time": "2025-06-20T01:05:26.941090",
     "status": "completed"
    },
    "tags": []
   },
   "outputs": [
    {
     "data": {
      "text/plain": [
       "Index(['RecordID', 'Offense', 'IncidentID', 'BlockNumber', 'StreetName',\n",
       "       'Agency', 'DateReported', 'HourReported', 'ReportingOfficer'],\n",
       "      dtype='object')"
      ]
     },
     "execution_count": 4,
     "metadata": {},
     "output_type": "execute_result"
    }
   ],
   "source": [
    "df.columns"
   ]
  },
  {
   "cell_type": "code",
   "execution_count": 5,
   "id": "f77259cc",
   "metadata": {
    "execution": {
     "iopub.execute_input": "2025-06-20T01:05:26.959326Z",
     "iopub.status.busy": "2025-06-20T01:05:26.958948Z",
     "iopub.status.idle": "2025-06-20T01:05:26.976246Z",
     "shell.execute_reply": "2025-06-20T01:05:26.975680Z"
    },
    "papermill": {
     "duration": 0.023025,
     "end_time": "2025-06-20T01:05:26.977251",
     "exception": false,
     "start_time": "2025-06-20T01:05:26.954226",
     "status": "completed"
    },
    "tags": []
   },
   "outputs": [
    {
     "name": "stdout",
     "output_type": "stream",
     "text": [
      "<class 'pandas.core.frame.DataFrame'>\n",
      "RangeIndex: 25533 entries, 0 to 25532\n",
      "Data columns (total 9 columns):\n",
      " #   Column            Non-Null Count  Dtype \n",
      "---  ------            --------------  ----- \n",
      " 0   RecordID          25533 non-null  int64 \n",
      " 1   Offense           25533 non-null  object\n",
      " 2   IncidentID        25533 non-null  object\n",
      " 3   BlockNumber       25533 non-null  object\n",
      " 4   StreetName        25533 non-null  object\n",
      " 5   Agency            25533 non-null  object\n",
      " 6   DateReported      25533 non-null  int64 \n",
      " 7   HourReported      25533 non-null  object\n",
      " 8   ReportingOfficer  25516 non-null  object\n",
      "dtypes: int64(2), object(7)\n",
      "memory usage: 1.8+ MB\n"
     ]
    }
   ],
   "source": [
    "df.info()"
   ]
  },
  {
   "cell_type": "markdown",
   "id": "d80f0b9a",
   "metadata": {
    "papermill": {
     "duration": 0.00374,
     "end_time": "2025-06-20T01:05:26.984768",
     "exception": false,
     "start_time": "2025-06-20T01:05:26.981028",
     "status": "completed"
    },
    "tags": []
   },
   "source": [
    "### Missing Values"
   ]
  },
  {
   "cell_type": "code",
   "execution_count": 6,
   "id": "8c1281e3",
   "metadata": {
    "execution": {
     "iopub.execute_input": "2025-06-20T01:05:27.016719Z",
     "iopub.status.busy": "2025-06-20T01:05:27.016162Z",
     "iopub.status.idle": "2025-06-20T01:05:27.037581Z",
     "shell.execute_reply": "2025-06-20T01:05:27.037024Z"
    },
    "papermill": {
     "duration": 0.02698,
     "end_time": "2025-06-20T01:05:27.038618",
     "exception": false,
     "start_time": "2025-06-20T01:05:27.011638",
     "status": "completed"
    },
    "tags": []
   },
   "outputs": [
    {
     "name": "stdout",
     "output_type": "stream",
     "text": [
      "                  MissingCount  MissingPercentage\n",
      "RecordID                     0               0.00\n",
      "Offense                      0               0.00\n",
      "IncidentID                   0               0.00\n",
      "BlockNumber                  0               0.00\n",
      "StreetName                   0               0.00\n",
      "Agency                       0               0.00\n",
      "DateReported                 0               0.00\n",
      "HourReported                 0               0.00\n",
      "ReportingOfficer            17               0.07\n"
     ]
    }
   ],
   "source": [
    "def missing_percentage(df):\n",
    "    \"\"\"\n",
    "    Returns a DataFrame with the count and percentage of missing values for each column.\n",
    "    \n",
    "    Parameters:\n",
    "        df (pd.DataFrame): The input DataFrame.\n",
    "    \n",
    "    Returns:\n",
    "        pd.DataFrame: A DataFrame with columns 'MissingCount' and 'MissingPercentage'.\n",
    "    \"\"\"\n",
    "    total_rows = len(df)\n",
    "    missing_count = df.isnull().sum()\n",
    "    missing_percent = (missing_count / total_rows) * 100\n",
    "    \n",
    "    result = pd.DataFrame({\n",
    "        'MissingCount': missing_count,\n",
    "        'MissingPercentage': missing_percent.round(2)\n",
    "    })\n",
    "    \n",
    "    return result\n",
    "\n",
    "# Example usage:\n",
    "missing_info = missing_percentage(df)\n",
    "print(missing_info)\n"
   ]
  },
  {
   "cell_type": "markdown",
   "id": "ed2d3426",
   "metadata": {
    "papermill": {
     "duration": 0.003856,
     "end_time": "2025-06-20T01:05:27.046528",
     "exception": false,
     "start_time": "2025-06-20T01:05:27.042672",
     "status": "completed"
    },
    "tags": []
   },
   "source": [
    "## Data Preparation"
   ]
  },
  {
   "cell_type": "markdown",
   "id": "d8a88a1e",
   "metadata": {
    "papermill": {
     "duration": 0.003699,
     "end_time": "2025-06-20T01:05:27.053944",
     "exception": false,
     "start_time": "2025-06-20T01:05:27.050245",
     "status": "completed"
    },
    "tags": []
   },
   "source": [
    "### Data Conversion"
   ]
  },
  {
   "cell_type": "code",
   "execution_count": 7,
   "id": "7856d618",
   "metadata": {
    "execution": {
     "iopub.execute_input": "2025-06-20T01:05:27.062452Z",
     "iopub.status.busy": "2025-06-20T01:05:27.062252Z",
     "iopub.status.idle": "2025-06-20T01:05:27.415530Z",
     "shell.execute_reply": "2025-06-20T01:05:27.414956Z"
    },
    "papermill": {
     "duration": 0.358781,
     "end_time": "2025-06-20T01:05:27.416591",
     "exception": false,
     "start_time": "2025-06-20T01:05:27.057810",
     "status": "completed"
    },
    "tags": []
   },
   "outputs": [
    {
     "data": {
      "text/html": [
       "<div>\n",
       "<style scoped>\n",
       "    .dataframe tbody tr th:only-of-type {\n",
       "        vertical-align: middle;\n",
       "    }\n",
       "\n",
       "    .dataframe tbody tr th {\n",
       "        vertical-align: top;\n",
       "    }\n",
       "\n",
       "    .dataframe thead th {\n",
       "        text-align: right;\n",
       "    }\n",
       "</style>\n",
       "<table border=\"1\" class=\"dataframe\">\n",
       "  <thead>\n",
       "    <tr style=\"text-align: right;\">\n",
       "      <th></th>\n",
       "      <th>RecordID</th>\n",
       "      <th>Offense</th>\n",
       "      <th>IncidentID</th>\n",
       "      <th>BlockNumber</th>\n",
       "      <th>StreetName</th>\n",
       "      <th>Agency</th>\n",
       "      <th>HourReported</th>\n",
       "      <th>ReportingOfficer</th>\n",
       "      <th>Date</th>\n",
       "      <th>DateString</th>\n",
       "      <th>DayOfWeek</th>\n",
       "      <th>Weekend</th>\n",
       "      <th>Season</th>\n",
       "      <th>HourAMPM</th>\n",
       "      <th>TimeOfDay</th>\n",
       "    </tr>\n",
       "  </thead>\n",
       "  <tbody>\n",
       "    <tr>\n",
       "      <th>0</th>\n",
       "      <td>1</td>\n",
       "      <td>Lost/FoundProperty</td>\n",
       "      <td>202500020897</td>\n",
       "      <td>600</td>\n",
       "      <td>E WATER ST</td>\n",
       "      <td>CPD</td>\n",
       "      <td>2029</td>\n",
       "      <td>Crowley, Raeann</td>\n",
       "      <td>2025-06-17 20:29:29</td>\n",
       "      <td>2025-06-17 08:29:29 PM</td>\n",
       "      <td>Tuesday</td>\n",
       "      <td>False</td>\n",
       "      <td>Spring</td>\n",
       "      <td>08:29 PM</td>\n",
       "      <td>Evening</td>\n",
       "    </tr>\n",
       "    <tr>\n",
       "      <th>1</th>\n",
       "      <td>2</td>\n",
       "      <td>Animal Complaint</td>\n",
       "      <td>202500020898</td>\n",
       "      <td>900</td>\n",
       "      <td>BOLLING AVE</td>\n",
       "      <td>CPD</td>\n",
       "      <td>2001</td>\n",
       "      <td>Reed, Danielle</td>\n",
       "      <td>2025-06-17 20:01:21</td>\n",
       "      <td>2025-06-17 08:01:21 PM</td>\n",
       "      <td>Tuesday</td>\n",
       "      <td>False</td>\n",
       "      <td>Spring</td>\n",
       "      <td>08:01 PM</td>\n",
       "      <td>Evening</td>\n",
       "    </tr>\n",
       "    <tr>\n",
       "      <th>2</th>\n",
       "      <td>3</td>\n",
       "      <td>Domestic Disturbance</td>\n",
       "      <td>202500020890</td>\n",
       "      <td>100</td>\n",
       "      <td>STEWART CIR</td>\n",
       "      <td>CPD</td>\n",
       "      <td>1854</td>\n",
       "      <td>Curry, Brian</td>\n",
       "      <td>2025-06-17 18:54:56</td>\n",
       "      <td>2025-06-17 06:54:56 PM</td>\n",
       "      <td>Tuesday</td>\n",
       "      <td>False</td>\n",
       "      <td>Spring</td>\n",
       "      <td>06:54 PM</td>\n",
       "      <td>Evening</td>\n",
       "    </tr>\n",
       "    <tr>\n",
       "      <th>3</th>\n",
       "      <td>4</td>\n",
       "      <td>Assault Simple</td>\n",
       "      <td>202500020858</td>\n",
       "      <td>1900</td>\n",
       "      <td>IVY RD, BLK</td>\n",
       "      <td>CPD</td>\n",
       "      <td>1344</td>\n",
       "      <td>Love-Baker, Sydney</td>\n",
       "      <td>2025-06-17 13:44:12</td>\n",
       "      <td>2025-06-17 01:44:12 PM</td>\n",
       "      <td>Tuesday</td>\n",
       "      <td>False</td>\n",
       "      <td>Spring</td>\n",
       "      <td>01:44 PM</td>\n",
       "      <td>Afternoon</td>\n",
       "    </tr>\n",
       "    <tr>\n",
       "      <th>4</th>\n",
       "      <td>5</td>\n",
       "      <td>Larceny - All Other</td>\n",
       "      <td>202500020829</td>\n",
       "      <td>400</td>\n",
       "      <td>10TH ST NE</td>\n",
       "      <td>CPD</td>\n",
       "      <td>1005</td>\n",
       "      <td>Folston, Elliott</td>\n",
       "      <td>2025-06-17 10:05:35</td>\n",
       "      <td>2025-06-17 10:05:35 AM</td>\n",
       "      <td>Tuesday</td>\n",
       "      <td>False</td>\n",
       "      <td>Spring</td>\n",
       "      <td>10:05 AM</td>\n",
       "      <td>Morning</td>\n",
       "    </tr>\n",
       "  </tbody>\n",
       "</table>\n",
       "</div>"
      ],
      "text/plain": [
       "   RecordID               Offense    IncidentID BlockNumber   StreetName  \\\n",
       "0         1    Lost/FoundProperty  202500020897         600   E WATER ST   \n",
       "1         2      Animal Complaint  202500020898         900  BOLLING AVE   \n",
       "2         3  Domestic Disturbance  202500020890         100  STEWART CIR   \n",
       "3         4        Assault Simple  202500020858        1900  IVY RD, BLK   \n",
       "4         5   Larceny - All Other  202500020829         400   10TH ST NE   \n",
       "\n",
       "  Agency HourReported    ReportingOfficer                Date  \\\n",
       "0    CPD         2029     Crowley, Raeann 2025-06-17 20:29:29   \n",
       "1    CPD         2001      Reed, Danielle 2025-06-17 20:01:21   \n",
       "2    CPD         1854        Curry, Brian 2025-06-17 18:54:56   \n",
       "3    CPD         1344  Love-Baker, Sydney 2025-06-17 13:44:12   \n",
       "4    CPD         1005    Folston, Elliott 2025-06-17 10:05:35   \n",
       "\n",
       "               DateString DayOfWeek  Weekend  Season  HourAMPM  TimeOfDay  \n",
       "0  2025-06-17 08:29:29 PM   Tuesday    False  Spring  08:29 PM    Evening  \n",
       "1  2025-06-17 08:01:21 PM   Tuesday    False  Spring  08:01 PM    Evening  \n",
       "2  2025-06-17 06:54:56 PM   Tuesday    False  Spring  06:54 PM    Evening  \n",
       "3  2025-06-17 01:44:12 PM   Tuesday    False  Spring  01:44 PM  Afternoon  \n",
       "4  2025-06-17 10:05:35 AM   Tuesday    False  Spring  10:05 AM    Morning  "
      ]
     },
     "execution_count": 7,
     "metadata": {},
     "output_type": "execute_result"
    }
   ],
   "source": [
    "def convert_and_categorize_datereported(df, col='DateReported'):\n",
    "    \"\"\"\n",
    "    Converts an epoch (in milliseconds) date column into a timezone-aware datetime,\n",
    "    converts it to Eastern Time, and then creates columns for day-of-week, weekend flag,\n",
    "    season, 12-hour formatted time, and time-of-day. Keeps both a real datetime column\n",
    "    (Date) and a string representation (DateString).\n",
    "    \"\"\"\n",
    "    import pandas as pd\n",
    "\n",
    "    # Convert the epoch timestamp to a pandas datetime object as UTC, then convert to US/Eastern.\n",
    "    df[\"DateReported_dt\"] = (\n",
    "        pd.to_datetime(df[col], unit=\"ms\", errors=\"coerce\", utc=True)\n",
    "        .dt.tz_convert(\"US/Eastern\")\n",
    "    )\n",
    "    \n",
    "    # Create a true datetime column (remove timezone if you prefer naive datetime)\n",
    "    df[\"Date\"] = df[\"DateReported_dt\"].dt.tz_localize(None)\n",
    "\n",
    "    # Optionally, create a separate string-formatted column\n",
    "    df[\"DateString\"] = df[\"DateReported_dt\"].dt.strftime(\"%Y-%m-%d %I:%M:%S %p\")\n",
    "    \n",
    "    # DayOfWeek\n",
    "    df[\"DayOfWeek\"] = df[\"DateReported_dt\"].dt.day_name()\n",
    "    \n",
    "    # Weekend\n",
    "    df[\"Weekend\"] = df[\"DayOfWeek\"].isin([\"Saturday\", \"Sunday\"])\n",
    "    \n",
    "    # Helper function to determine the season\n",
    "    def get_season(dt):\n",
    "        month = dt.month\n",
    "        day = dt.day\n",
    "        # Approximate Northern Hemisphere season boundaries:\n",
    "        if (month == 12 and day >= 21) or (month < 3) or (month == 3 and day < 20):\n",
    "            return \"Winter\"\n",
    "        elif (month == 3 and day >= 20) or (month < 6) or (month == 6 and day < 21):\n",
    "            return \"Spring\"\n",
    "        elif (month == 6 and day >= 21) or (month < 9) or (month == 9 and day < 22):\n",
    "            return \"Summer\"\n",
    "        else:\n",
    "            return \"Autumn\"\n",
    "    \n",
    "    df[\"Season\"] = df[\"DateReported_dt\"].apply(get_season)\n",
    "    \n",
    "    # 12-hour formatted time (HourAMPM)\n",
    "    df[\"HourAMPM\"] = df[\"DateReported_dt\"].dt.strftime(\"%I:%M %p\")\n",
    "    \n",
    "    # Extract hour (0-23) for time-of-day\n",
    "    df[\"HourValue\"] = df[\"DateReported_dt\"].dt.hour\n",
    "    \n",
    "    def time_of_day(hour):\n",
    "        if pd.isnull(hour):\n",
    "            return None\n",
    "        if 5 <= hour < 12:\n",
    "            return \"Morning\"\n",
    "        elif 12 <= hour < 17:\n",
    "            return \"Afternoon\"\n",
    "        elif 17 <= hour < 21:\n",
    "            return \"Evening\"\n",
    "        else:\n",
    "            return \"Night\"\n",
    "    \n",
    "    df[\"TimeOfDay\"] = df[\"HourValue\"].apply(time_of_day)\n",
    "    \n",
    "    # Drop columns you no longer need\n",
    "    df.drop(columns=[col, \"DateReported_dt\", \"HourValue\"], inplace=True)\n",
    "    \n",
    "    return df\n",
    "\n",
    "# Example usage:\n",
    "df = convert_and_categorize_datereported(df)\n",
    "df.head()\n"
   ]
  },
  {
   "cell_type": "code",
   "execution_count": 8,
   "id": "cb6e5f64",
   "metadata": {
    "execution": {
     "iopub.execute_input": "2025-06-20T01:05:27.426061Z",
     "iopub.status.busy": "2025-06-20T01:05:27.425625Z",
     "iopub.status.idle": "2025-06-20T01:05:27.448068Z",
     "shell.execute_reply": "2025-06-20T01:05:27.447536Z"
    },
    "papermill": {
     "duration": 0.028232,
     "end_time": "2025-06-20T01:05:27.449091",
     "exception": false,
     "start_time": "2025-06-20T01:05:27.420859",
     "status": "completed"
    },
    "tags": []
   },
   "outputs": [
    {
     "name": "stdout",
     "output_type": "stream",
     "text": [
      "<class 'pandas.core.frame.DataFrame'>\n",
      "RangeIndex: 25533 entries, 0 to 25532\n",
      "Data columns (total 15 columns):\n",
      " #   Column            Non-Null Count  Dtype         \n",
      "---  ------            --------------  -----         \n",
      " 0   RecordID          25533 non-null  int64         \n",
      " 1   Offense           25533 non-null  object        \n",
      " 2   IncidentID        25533 non-null  object        \n",
      " 3   BlockNumber       25533 non-null  object        \n",
      " 4   StreetName        25533 non-null  object        \n",
      " 5   Agency            25533 non-null  object        \n",
      " 6   HourReported      25533 non-null  object        \n",
      " 7   ReportingOfficer  25516 non-null  object        \n",
      " 8   Date              25533 non-null  datetime64[ns]\n",
      " 9   DateString        25533 non-null  object        \n",
      " 10  DayOfWeek         25533 non-null  object        \n",
      " 11  Weekend           25533 non-null  bool          \n",
      " 12  Season            25533 non-null  object        \n",
      " 13  HourAMPM          25533 non-null  object        \n",
      " 14  TimeOfDay         25533 non-null  object        \n",
      "dtypes: bool(1), datetime64[ns](1), int64(1), object(12)\n",
      "memory usage: 2.8+ MB\n"
     ]
    }
   ],
   "source": [
    "df.info()"
   ]
  },
  {
   "cell_type": "markdown",
   "id": "7ec7aa36",
   "metadata": {
    "papermill": {
     "duration": 0.00386,
     "end_time": "2025-06-20T01:05:27.457153",
     "exception": false,
     "start_time": "2025-06-20T01:05:27.453293",
     "status": "completed"
    },
    "tags": []
   },
   "source": [
    "### Coordinates"
   ]
  },
  {
   "cell_type": "code",
   "execution_count": 9,
   "id": "8502582e",
   "metadata": {
    "execution": {
     "iopub.execute_input": "2025-06-20T01:05:27.465951Z",
     "iopub.status.busy": "2025-06-20T01:05:27.465725Z",
     "iopub.status.idle": "2025-06-20T01:05:27.617892Z",
     "shell.execute_reply": "2025-06-20T01:05:27.617337Z"
    },
    "papermill": {
     "duration": 0.157749,
     "end_time": "2025-06-20T01:05:27.618933",
     "exception": false,
     "start_time": "2025-06-20T01:05:27.461184",
     "status": "completed"
    },
    "tags": []
   },
   "outputs": [
    {
     "name": "stdout",
     "output_type": "stream",
     "text": [
      "Loaded geocode cache.\n",
      "Error geocoding 1900 IVY RD, BLK: REQUEST_DENIED (You must enable Billing on the Google Cloud Project at https://console.cloud.google.com/project/_/billing/enable Learn more at https://developers.google.com/maps/gmp-get-started)\n",
      "Geocoded 1900 IVY RD, BLK: None, None\n",
      "Geocode cache updated and saved.\n"
     ]
    },
    {
     "data": {
      "text/html": [
       "<div>\n",
       "<style scoped>\n",
       "    .dataframe tbody tr th:only-of-type {\n",
       "        vertical-align: middle;\n",
       "    }\n",
       "\n",
       "    .dataframe tbody tr th {\n",
       "        vertical-align: top;\n",
       "    }\n",
       "\n",
       "    .dataframe thead th {\n",
       "        text-align: right;\n",
       "    }\n",
       "</style>\n",
       "<table border=\"1\" class=\"dataframe\">\n",
       "  <thead>\n",
       "    <tr style=\"text-align: right;\">\n",
       "      <th></th>\n",
       "      <th>RecordID</th>\n",
       "      <th>Offense</th>\n",
       "      <th>IncidentID</th>\n",
       "      <th>BlockNumber</th>\n",
       "      <th>StreetName</th>\n",
       "      <th>Agency</th>\n",
       "      <th>HourReported</th>\n",
       "      <th>ReportingOfficer</th>\n",
       "      <th>Date</th>\n",
       "      <th>DateString</th>\n",
       "      <th>DayOfWeek</th>\n",
       "      <th>Weekend</th>\n",
       "      <th>Season</th>\n",
       "      <th>HourAMPM</th>\n",
       "      <th>TimeOfDay</th>\n",
       "      <th>FullStreet</th>\n",
       "      <th>lat</th>\n",
       "      <th>lon</th>\n",
       "    </tr>\n",
       "  </thead>\n",
       "  <tbody>\n",
       "    <tr>\n",
       "      <th>0</th>\n",
       "      <td>1</td>\n",
       "      <td>Lost/FoundProperty</td>\n",
       "      <td>202500020897</td>\n",
       "      <td>600</td>\n",
       "      <td>E WATER ST</td>\n",
       "      <td>CPD</td>\n",
       "      <td>2029</td>\n",
       "      <td>Crowley, Raeann</td>\n",
       "      <td>2025-06-17 20:29:29</td>\n",
       "      <td>2025-06-17 08:29:29 PM</td>\n",
       "      <td>Tuesday</td>\n",
       "      <td>False</td>\n",
       "      <td>Spring</td>\n",
       "      <td>08:29 PM</td>\n",
       "      <td>Evening</td>\n",
       "      <td>600 E WATER ST</td>\n",
       "      <td>38.028757</td>\n",
       "      <td>-78.477608</td>\n",
       "    </tr>\n",
       "    <tr>\n",
       "      <th>1</th>\n",
       "      <td>2</td>\n",
       "      <td>Animal Complaint</td>\n",
       "      <td>202500020898</td>\n",
       "      <td>900</td>\n",
       "      <td>BOLLING AVE</td>\n",
       "      <td>CPD</td>\n",
       "      <td>2001</td>\n",
       "      <td>Reed, Danielle</td>\n",
       "      <td>2025-06-17 20:01:21</td>\n",
       "      <td>2025-06-17 08:01:21 PM</td>\n",
       "      <td>Tuesday</td>\n",
       "      <td>False</td>\n",
       "      <td>Spring</td>\n",
       "      <td>08:01 PM</td>\n",
       "      <td>Evening</td>\n",
       "      <td>900 BOLLING AVE</td>\n",
       "      <td>38.022120</td>\n",
       "      <td>-78.476496</td>\n",
       "    </tr>\n",
       "    <tr>\n",
       "      <th>2</th>\n",
       "      <td>3</td>\n",
       "      <td>Domestic Disturbance</td>\n",
       "      <td>202500020890</td>\n",
       "      <td>100</td>\n",
       "      <td>STEWART CIR</td>\n",
       "      <td>CPD</td>\n",
       "      <td>1854</td>\n",
       "      <td>Curry, Brian</td>\n",
       "      <td>2025-06-17 18:54:56</td>\n",
       "      <td>2025-06-17 06:54:56 PM</td>\n",
       "      <td>Tuesday</td>\n",
       "      <td>False</td>\n",
       "      <td>Spring</td>\n",
       "      <td>06:54 PM</td>\n",
       "      <td>Evening</td>\n",
       "      <td>100 STEWART CIR</td>\n",
       "      <td>38.043495</td>\n",
       "      <td>-78.494343</td>\n",
       "    </tr>\n",
       "    <tr>\n",
       "      <th>3</th>\n",
       "      <td>4</td>\n",
       "      <td>Assault Simple</td>\n",
       "      <td>202500020858</td>\n",
       "      <td>1900</td>\n",
       "      <td>IVY RD, BLK</td>\n",
       "      <td>CPD</td>\n",
       "      <td>1344</td>\n",
       "      <td>Love-Baker, Sydney</td>\n",
       "      <td>2025-06-17 13:44:12</td>\n",
       "      <td>2025-06-17 01:44:12 PM</td>\n",
       "      <td>Tuesday</td>\n",
       "      <td>False</td>\n",
       "      <td>Spring</td>\n",
       "      <td>01:44 PM</td>\n",
       "      <td>Afternoon</td>\n",
       "      <td>1900 IVY RD, BLK</td>\n",
       "      <td>NaN</td>\n",
       "      <td>NaN</td>\n",
       "    </tr>\n",
       "    <tr>\n",
       "      <th>4</th>\n",
       "      <td>5</td>\n",
       "      <td>Larceny - All Other</td>\n",
       "      <td>202500020829</td>\n",
       "      <td>400</td>\n",
       "      <td>10TH ST NE</td>\n",
       "      <td>CPD</td>\n",
       "      <td>1005</td>\n",
       "      <td>Folston, Elliott</td>\n",
       "      <td>2025-06-17 10:05:35</td>\n",
       "      <td>2025-06-17 10:05:35 AM</td>\n",
       "      <td>Tuesday</td>\n",
       "      <td>False</td>\n",
       "      <td>Spring</td>\n",
       "      <td>10:05 AM</td>\n",
       "      <td>Morning</td>\n",
       "      <td>400 10TH ST NE</td>\n",
       "      <td>38.031076</td>\n",
       "      <td>-78.471530</td>\n",
       "    </tr>\n",
       "  </tbody>\n",
       "</table>\n",
       "</div>"
      ],
      "text/plain": [
       "   RecordID               Offense    IncidentID BlockNumber   StreetName  \\\n",
       "0         1    Lost/FoundProperty  202500020897         600   E WATER ST   \n",
       "1         2      Animal Complaint  202500020898         900  BOLLING AVE   \n",
       "2         3  Domestic Disturbance  202500020890         100  STEWART CIR   \n",
       "3         4        Assault Simple  202500020858        1900  IVY RD, BLK   \n",
       "4         5   Larceny - All Other  202500020829         400   10TH ST NE   \n",
       "\n",
       "  Agency HourReported    ReportingOfficer                Date  \\\n",
       "0    CPD         2029     Crowley, Raeann 2025-06-17 20:29:29   \n",
       "1    CPD         2001      Reed, Danielle 2025-06-17 20:01:21   \n",
       "2    CPD         1854        Curry, Brian 2025-06-17 18:54:56   \n",
       "3    CPD         1344  Love-Baker, Sydney 2025-06-17 13:44:12   \n",
       "4    CPD         1005    Folston, Elliott 2025-06-17 10:05:35   \n",
       "\n",
       "               DateString DayOfWeek  Weekend  Season  HourAMPM  TimeOfDay  \\\n",
       "0  2025-06-17 08:29:29 PM   Tuesday    False  Spring  08:29 PM    Evening   \n",
       "1  2025-06-17 08:01:21 PM   Tuesday    False  Spring  08:01 PM    Evening   \n",
       "2  2025-06-17 06:54:56 PM   Tuesday    False  Spring  06:54 PM    Evening   \n",
       "3  2025-06-17 01:44:12 PM   Tuesday    False  Spring  01:44 PM  Afternoon   \n",
       "4  2025-06-17 10:05:35 AM   Tuesday    False  Spring  10:05 AM    Morning   \n",
       "\n",
       "         FullStreet        lat        lon  \n",
       "0    600 E WATER ST  38.028757 -78.477608  \n",
       "1   900 BOLLING AVE  38.022120 -78.476496  \n",
       "2   100 STEWART CIR  38.043495 -78.494343  \n",
       "3  1900 IVY RD, BLK        NaN        NaN  \n",
       "4    400 10TH ST NE  38.031076 -78.471530  "
      ]
     },
     "execution_count": 9,
     "metadata": {},
     "output_type": "execute_result"
    }
   ],
   "source": [
    "# Combine BlockNumber and StreetName into a full address string\n",
    "df['FullStreet'] = df['BlockNumber'].astype(str) + \" \" + df['StreetName']\n",
    "\n",
    "# --- Step 1: Setup the Google Maps Client and Cache ---\n",
    "gmaps = googlemaps.Client(key=GOOGLE_API_KEY)\n",
    "\n",
    "# Try to load cached geocoding results if available.\n",
    "try:\n",
    "    with open(\"geocode_cache_google.pkl\", \"rb\") as f:\n",
    "        street_coords = pickle.load(f)\n",
    "    print(\"Loaded geocode cache.\")\n",
    "except FileNotFoundError:\n",
    "    street_coords = {}\n",
    "    print(\"No cache found; starting fresh.\")\n",
    "\n",
    "def geocode_address(address):\n",
    "    try:\n",
    "        # Append city and state to help geocoding\n",
    "        result = gmaps.geocode(f\"{address}, Charlottesville, VA\")\n",
    "        if result:\n",
    "            lat = result[0]['geometry']['location']['lat']\n",
    "            lon = result[0]['geometry']['location']['lng']\n",
    "            return lat, lon\n",
    "    except Exception as e:\n",
    "        print(f\"Error geocoding {address}: {e}\")\n",
    "    return None, None\n",
    "\n",
    "# --- Step 2: Geocode Only New Addresses ---\n",
    "unique_addresses = df['FullStreet'].unique()\n",
    "for address in unique_addresses:\n",
    "    if address not in street_coords:\n",
    "        lat, lon = geocode_address(address)\n",
    "        street_coords[address] = (lat, lon)\n",
    "        print(f\"Geocoded {address}: {lat}, {lon}\")\n",
    "\n",
    "# Save the updated cache to disk.\n",
    "with open(\"geocode_cache_google.pkl\", \"wb\") as f:\n",
    "    pickle.dump(street_coords, f)\n",
    "    print(\"Geocode cache updated and saved.\")\n",
    "\n",
    "# --- Step 3: Map Coordinates Back to DataFrame ---\n",
    "df['lat'] = df['FullStreet'].map(lambda s: street_coords.get(s, (None, None))[0])\n",
    "df['lon'] = df['FullStreet'].map(lambda s: street_coords.get(s, (None, None))[1])\n",
    "\n",
    "df.head()"
   ]
  },
  {
   "cell_type": "markdown",
   "id": "7fe599ac",
   "metadata": {
    "papermill": {
     "duration": 0.004538,
     "end_time": "2025-06-20T01:05:27.628159",
     "exception": false,
     "start_time": "2025-06-20T01:05:27.623621",
     "status": "completed"
    },
    "tags": []
   },
   "source": [
    "### Neighborhood"
   ]
  },
  {
   "cell_type": "code",
   "execution_count": 10,
   "id": "35b91aaa",
   "metadata": {
    "execution": {
     "iopub.execute_input": "2025-06-20T01:05:27.638141Z",
     "iopub.status.busy": "2025-06-20T01:05:27.637686Z",
     "iopub.status.idle": "2025-06-20T01:05:28.447624Z",
     "shell.execute_reply": "2025-06-20T01:05:28.447026Z"
    },
    "papermill": {
     "duration": 0.816028,
     "end_time": "2025-06-20T01:05:28.448649",
     "exception": false,
     "start_time": "2025-06-20T01:05:27.632621",
     "status": "completed"
    },
    "tags": []
   },
   "outputs": [
    {
     "name": "stdout",
     "output_type": "stream",
     "text": [
      "Loaded neighborhood cache.\n"
     ]
    },
    {
     "name": "stdout",
     "output_type": "stream",
     "text": [
      "Error getting neighborhood for nan, nan: HTTP Error: 400\n",
      "Error getting neighborhood for nan, nan: HTTP Error: 400\n",
      "Error getting neighborhood for nan, nan: HTTP Error: 400\n"
     ]
    },
    {
     "name": "stdout",
     "output_type": "stream",
     "text": [
      "Error getting neighborhood for nan, nan: HTTP Error: 400\n",
      "Error getting neighborhood for nan, nan: HTTP Error: 400\n",
      "Error getting neighborhood for nan, nan: HTTP Error: 400\n",
      "Error getting neighborhood for nan, nan: HTTP Error: 400\n"
     ]
    },
    {
     "name": "stdout",
     "output_type": "stream",
     "text": [
      "Error getting neighborhood for nan, nan: HTTP Error: 400\n",
      "Error getting neighborhood for nan, nan: HTTP Error: 400\n",
      "Error getting neighborhood for nan, nan: HTTP Error: 400\n",
      "Error getting neighborhood for nan, nan: HTTP Error: 400\n"
     ]
    },
    {
     "name": "stdout",
     "output_type": "stream",
     "text": [
      "Error getting neighborhood for nan, nan: HTTP Error: 400\n",
      "Error getting neighborhood for nan, nan: HTTP Error: 400\n",
      "Error getting neighborhood for nan, nan: HTTP Error: 400\n",
      "Error getting neighborhood for nan, nan: HTTP Error: 400\n",
      "Error getting neighborhood for nan, nan: HTTP Error: 400\n",
      "Error getting neighborhood for nan, nan: HTTP Error: 400\n",
      "Error getting neighborhood for nan, nan: HTTP Error: 400\n"
     ]
    },
    {
     "name": "stdout",
     "output_type": "stream",
     "text": [
      "Error getting neighborhood for nan, nan: HTTP Error: 400\n",
      "Error getting neighborhood for nan, nan: HTTP Error: 400\n",
      "Error getting neighborhood for nan, nan: HTTP Error: 400\n",
      "Error getting neighborhood for nan, nan: HTTP Error: 400\n",
      "Error getting neighborhood for nan, nan: HTTP Error: 400\n"
     ]
    },
    {
     "data": {
      "text/html": [
       "<div>\n",
       "<style scoped>\n",
       "    .dataframe tbody tr th:only-of-type {\n",
       "        vertical-align: middle;\n",
       "    }\n",
       "\n",
       "    .dataframe tbody tr th {\n",
       "        vertical-align: top;\n",
       "    }\n",
       "\n",
       "    .dataframe thead th {\n",
       "        text-align: right;\n",
       "    }\n",
       "</style>\n",
       "<table border=\"1\" class=\"dataframe\">\n",
       "  <thead>\n",
       "    <tr style=\"text-align: right;\">\n",
       "      <th></th>\n",
       "      <th>RecordID</th>\n",
       "      <th>Offense</th>\n",
       "      <th>IncidentID</th>\n",
       "      <th>BlockNumber</th>\n",
       "      <th>StreetName</th>\n",
       "      <th>Agency</th>\n",
       "      <th>HourReported</th>\n",
       "      <th>ReportingOfficer</th>\n",
       "      <th>Date</th>\n",
       "      <th>DateString</th>\n",
       "      <th>DayOfWeek</th>\n",
       "      <th>Weekend</th>\n",
       "      <th>Season</th>\n",
       "      <th>HourAMPM</th>\n",
       "      <th>TimeOfDay</th>\n",
       "      <th>FullStreet</th>\n",
       "      <th>lat</th>\n",
       "      <th>lon</th>\n",
       "      <th>neighborhood</th>\n",
       "    </tr>\n",
       "  </thead>\n",
       "  <tbody>\n",
       "    <tr>\n",
       "      <th>0</th>\n",
       "      <td>1</td>\n",
       "      <td>Lost/FoundProperty</td>\n",
       "      <td>202500020897</td>\n",
       "      <td>600</td>\n",
       "      <td>E WATER ST</td>\n",
       "      <td>CPD</td>\n",
       "      <td>2029</td>\n",
       "      <td>Crowley, Raeann</td>\n",
       "      <td>2025-06-17 20:29:29</td>\n",
       "      <td>2025-06-17 08:29:29 PM</td>\n",
       "      <td>Tuesday</td>\n",
       "      <td>False</td>\n",
       "      <td>Spring</td>\n",
       "      <td>08:29 PM</td>\n",
       "      <td>Evening</td>\n",
       "      <td>600 E WATER ST</td>\n",
       "      <td>38.028757</td>\n",
       "      <td>-78.477608</td>\n",
       "      <td>North Downtown</td>\n",
       "    </tr>\n",
       "    <tr>\n",
       "      <th>1</th>\n",
       "      <td>2</td>\n",
       "      <td>Animal Complaint</td>\n",
       "      <td>202500020898</td>\n",
       "      <td>900</td>\n",
       "      <td>BOLLING AVE</td>\n",
       "      <td>CPD</td>\n",
       "      <td>2001</td>\n",
       "      <td>Reed, Danielle</td>\n",
       "      <td>2025-06-17 20:01:21</td>\n",
       "      <td>2025-06-17 08:01:21 PM</td>\n",
       "      <td>Tuesday</td>\n",
       "      <td>False</td>\n",
       "      <td>Spring</td>\n",
       "      <td>08:01 PM</td>\n",
       "      <td>Evening</td>\n",
       "      <td>900 BOLLING AVE</td>\n",
       "      <td>38.022120</td>\n",
       "      <td>-78.476496</td>\n",
       "      <td>Belmont</td>\n",
       "    </tr>\n",
       "    <tr>\n",
       "      <th>2</th>\n",
       "      <td>3</td>\n",
       "      <td>Domestic Disturbance</td>\n",
       "      <td>202500020890</td>\n",
       "      <td>100</td>\n",
       "      <td>STEWART CIR</td>\n",
       "      <td>CPD</td>\n",
       "      <td>1854</td>\n",
       "      <td>Curry, Brian</td>\n",
       "      <td>2025-06-17 18:54:56</td>\n",
       "      <td>2025-06-17 06:54:56 PM</td>\n",
       "      <td>Tuesday</td>\n",
       "      <td>False</td>\n",
       "      <td>Spring</td>\n",
       "      <td>06:54 PM</td>\n",
       "      <td>Evening</td>\n",
       "      <td>100 STEWART CIR</td>\n",
       "      <td>38.043495</td>\n",
       "      <td>-78.494343</td>\n",
       "      <td>Venable</td>\n",
       "    </tr>\n",
       "    <tr>\n",
       "      <th>3</th>\n",
       "      <td>4</td>\n",
       "      <td>Assault Simple</td>\n",
       "      <td>202500020858</td>\n",
       "      <td>1900</td>\n",
       "      <td>IVY RD, BLK</td>\n",
       "      <td>CPD</td>\n",
       "      <td>1344</td>\n",
       "      <td>Love-Baker, Sydney</td>\n",
       "      <td>2025-06-17 13:44:12</td>\n",
       "      <td>2025-06-17 01:44:12 PM</td>\n",
       "      <td>Tuesday</td>\n",
       "      <td>False</td>\n",
       "      <td>Spring</td>\n",
       "      <td>01:44 PM</td>\n",
       "      <td>Afternoon</td>\n",
       "      <td>1900 IVY RD, BLK</td>\n",
       "      <td>NaN</td>\n",
       "      <td>NaN</td>\n",
       "      <td>N/A</td>\n",
       "    </tr>\n",
       "    <tr>\n",
       "      <th>4</th>\n",
       "      <td>5</td>\n",
       "      <td>Larceny - All Other</td>\n",
       "      <td>202500020829</td>\n",
       "      <td>400</td>\n",
       "      <td>10TH ST NE</td>\n",
       "      <td>CPD</td>\n",
       "      <td>1005</td>\n",
       "      <td>Folston, Elliott</td>\n",
       "      <td>2025-06-17 10:05:35</td>\n",
       "      <td>2025-06-17 10:05:35 AM</td>\n",
       "      <td>Tuesday</td>\n",
       "      <td>False</td>\n",
       "      <td>Spring</td>\n",
       "      <td>10:05 AM</td>\n",
       "      <td>Morning</td>\n",
       "      <td>400 10TH ST NE</td>\n",
       "      <td>38.031076</td>\n",
       "      <td>-78.471530</td>\n",
       "      <td>Martha Jefferson</td>\n",
       "    </tr>\n",
       "  </tbody>\n",
       "</table>\n",
       "</div>"
      ],
      "text/plain": [
       "   RecordID               Offense    IncidentID BlockNumber   StreetName  \\\n",
       "0         1    Lost/FoundProperty  202500020897         600   E WATER ST   \n",
       "1         2      Animal Complaint  202500020898         900  BOLLING AVE   \n",
       "2         3  Domestic Disturbance  202500020890         100  STEWART CIR   \n",
       "3         4        Assault Simple  202500020858        1900  IVY RD, BLK   \n",
       "4         5   Larceny - All Other  202500020829         400   10TH ST NE   \n",
       "\n",
       "  Agency HourReported    ReportingOfficer                Date  \\\n",
       "0    CPD         2029     Crowley, Raeann 2025-06-17 20:29:29   \n",
       "1    CPD         2001      Reed, Danielle 2025-06-17 20:01:21   \n",
       "2    CPD         1854        Curry, Brian 2025-06-17 18:54:56   \n",
       "3    CPD         1344  Love-Baker, Sydney 2025-06-17 13:44:12   \n",
       "4    CPD         1005    Folston, Elliott 2025-06-17 10:05:35   \n",
       "\n",
       "               DateString DayOfWeek  Weekend  Season  HourAMPM  TimeOfDay  \\\n",
       "0  2025-06-17 08:29:29 PM   Tuesday    False  Spring  08:29 PM    Evening   \n",
       "1  2025-06-17 08:01:21 PM   Tuesday    False  Spring  08:01 PM    Evening   \n",
       "2  2025-06-17 06:54:56 PM   Tuesday    False  Spring  06:54 PM    Evening   \n",
       "3  2025-06-17 01:44:12 PM   Tuesday    False  Spring  01:44 PM  Afternoon   \n",
       "4  2025-06-17 10:05:35 AM   Tuesday    False  Spring  10:05 AM    Morning   \n",
       "\n",
       "         FullStreet        lat        lon      neighborhood  \n",
       "0    600 E WATER ST  38.028757 -78.477608    North Downtown  \n",
       "1   900 BOLLING AVE  38.022120 -78.476496           Belmont  \n",
       "2   100 STEWART CIR  38.043495 -78.494343           Venable  \n",
       "3  1900 IVY RD, BLK        NaN        NaN               N/A  \n",
       "4    400 10TH ST NE  38.031076 -78.471530  Martha Jefferson  "
      ]
     },
     "execution_count": 10,
     "metadata": {},
     "output_type": "execute_result"
    }
   ],
   "source": [
    "# Initialize the Google Maps client.\n",
    "gmaps = googlemaps.Client(key=GOOGLE_API_KEY)\n",
    "\n",
    "# Try to load a persistent neighborhood cache if available.\n",
    "try:\n",
    "    with open(\"neighborhood_cache.pkl\", \"rb\") as f:\n",
    "        neighborhood_cache = pickle.load(f)\n",
    "    print(\"Loaded neighborhood cache.\")\n",
    "except FileNotFoundError:\n",
    "    neighborhood_cache = {}\n",
    "    print(\"No neighborhood cache found; starting fresh.\")\n",
    "\n",
    "def get_neighborhood(lat, lon):\n",
    "    \"\"\"\n",
    "    Reverse geocodes a latitude and longitude to retrieve the neighborhood.\n",
    "    Caches results to speed up subsequent lookups.\n",
    "    \"\"\"\n",
    "    key = (lat, lon)\n",
    "    if key in neighborhood_cache:\n",
    "        return neighborhood_cache[key]\n",
    "    \n",
    "    try:\n",
    "        result = gmaps.reverse_geocode((lat, lon))\n",
    "        if result:\n",
    "            # Look for the 'neighborhood' component in the first result.\n",
    "            for component in result[0]['address_components']:\n",
    "                if 'neighborhood' in component['types']:\n",
    "                    neighborhood = component['long_name']\n",
    "                    neighborhood_cache[key] = neighborhood\n",
    "                    return neighborhood\n",
    "            # If no neighborhood is found, return \"N/A\"\n",
    "            neighborhood_cache[key] = \"N/A\"\n",
    "            return \"N/A\"\n",
    "    except Exception as e:\n",
    "        print(f\"Error getting neighborhood for {lat}, {lon}: {e}\")\n",
    "        return \"N/A\"\n",
    "    \n",
    "    # Pause to respect usage limits.\n",
    "    time.sleep(1)\n",
    "\n",
    "# Example usage: Apply to your DataFrame 'df' that already has 'lat' and 'lon' columns.\n",
    "df['neighborhood'] = df.apply(lambda row: get_neighborhood(row['lat'], row['lon']), axis=1)\n",
    "\n",
    "# Save the updated neighborhood cache.\n",
    "with open(\"neighborhood_cache.pkl\", \"wb\") as f:\n",
    "    pickle.dump(neighborhood_cache, f)\n",
    "\n",
    "df.head()\n"
   ]
  },
  {
   "cell_type": "markdown",
   "id": "7119a109",
   "metadata": {
    "papermill": {
     "duration": 0.004679,
     "end_time": "2025-06-20T01:05:28.458429",
     "exception": false,
     "start_time": "2025-06-20T01:05:28.453750",
     "status": "completed"
    },
    "tags": []
   },
   "source": [
    "### Zip"
   ]
  },
  {
   "cell_type": "code",
   "execution_count": 11,
   "id": "6c9db460",
   "metadata": {
    "execution": {
     "iopub.execute_input": "2025-06-20T01:05:28.468735Z",
     "iopub.status.busy": "2025-06-20T01:05:28.468358Z",
     "iopub.status.idle": "2025-06-20T01:05:51.727504Z",
     "shell.execute_reply": "2025-06-20T01:05:51.726897Z"
    },
    "papermill": {
     "duration": 23.265497,
     "end_time": "2025-06-20T01:05:51.728485",
     "exception": false,
     "start_time": "2025-06-20T01:05:28.462988",
     "status": "completed"
    },
    "tags": []
   },
   "outputs": [
    {
     "name": "stdout",
     "output_type": "stream",
     "text": [
      "Loaded zip cache.\n",
      "Error getting ZIP for nan, nan: Must be a coordinate pair or Point\n"
     ]
    },
    {
     "name": "stdout",
     "output_type": "stream",
     "text": [
      "Error getting ZIP for nan, nan: Must be a coordinate pair or Point\n"
     ]
    },
    {
     "name": "stdout",
     "output_type": "stream",
     "text": [
      "Error getting ZIP for nan, nan: Must be a coordinate pair or Point\n"
     ]
    },
    {
     "name": "stdout",
     "output_type": "stream",
     "text": [
      "Error getting ZIP for nan, nan: Must be a coordinate pair or Point\n"
     ]
    },
    {
     "name": "stdout",
     "output_type": "stream",
     "text": [
      "Error getting ZIP for nan, nan: Must be a coordinate pair or Point\n"
     ]
    },
    {
     "name": "stdout",
     "output_type": "stream",
     "text": [
      "Error getting ZIP for nan, nan: Must be a coordinate pair or Point\n"
     ]
    },
    {
     "name": "stdout",
     "output_type": "stream",
     "text": [
      "Error getting ZIP for nan, nan: Must be a coordinate pair or Point\n"
     ]
    },
    {
     "name": "stdout",
     "output_type": "stream",
     "text": [
      "Error getting ZIP for nan, nan: Must be a coordinate pair or Point\n"
     ]
    },
    {
     "name": "stdout",
     "output_type": "stream",
     "text": [
      "Error getting ZIP for nan, nan: Must be a coordinate pair or Point\n"
     ]
    },
    {
     "name": "stdout",
     "output_type": "stream",
     "text": [
      "Error getting ZIP for nan, nan: Must be a coordinate pair or Point\n"
     ]
    },
    {
     "name": "stdout",
     "output_type": "stream",
     "text": [
      "Error getting ZIP for nan, nan: Must be a coordinate pair or Point\n"
     ]
    },
    {
     "name": "stdout",
     "output_type": "stream",
     "text": [
      "Error getting ZIP for nan, nan: Must be a coordinate pair or Point\n"
     ]
    },
    {
     "name": "stdout",
     "output_type": "stream",
     "text": [
      "Error getting ZIP for nan, nan: Must be a coordinate pair or Point\n"
     ]
    },
    {
     "name": "stdout",
     "output_type": "stream",
     "text": [
      "Error getting ZIP for nan, nan: Must be a coordinate pair or Point\n"
     ]
    },
    {
     "name": "stdout",
     "output_type": "stream",
     "text": [
      "Error getting ZIP for nan, nan: Must be a coordinate pair or Point\n"
     ]
    },
    {
     "name": "stdout",
     "output_type": "stream",
     "text": [
      "Error getting ZIP for nan, nan: Must be a coordinate pair or Point\n"
     ]
    },
    {
     "name": "stdout",
     "output_type": "stream",
     "text": [
      "Error getting ZIP for nan, nan: Must be a coordinate pair or Point\n"
     ]
    },
    {
     "name": "stdout",
     "output_type": "stream",
     "text": [
      "Error getting ZIP for nan, nan: Must be a coordinate pair or Point\n"
     ]
    },
    {
     "name": "stdout",
     "output_type": "stream",
     "text": [
      "Error getting ZIP for nan, nan: Must be a coordinate pair or Point\n"
     ]
    },
    {
     "name": "stdout",
     "output_type": "stream",
     "text": [
      "Error getting ZIP for nan, nan: Must be a coordinate pair or Point\n"
     ]
    },
    {
     "name": "stdout",
     "output_type": "stream",
     "text": [
      "Error getting ZIP for nan, nan: Must be a coordinate pair or Point\n"
     ]
    },
    {
     "name": "stdout",
     "output_type": "stream",
     "text": [
      "Error getting ZIP for nan, nan: Must be a coordinate pair or Point\n"
     ]
    },
    {
     "name": "stdout",
     "output_type": "stream",
     "text": [
      "Error getting ZIP for nan, nan: Must be a coordinate pair or Point\n"
     ]
    },
    {
     "data": {
      "text/html": [
       "<div>\n",
       "<style scoped>\n",
       "    .dataframe tbody tr th:only-of-type {\n",
       "        vertical-align: middle;\n",
       "    }\n",
       "\n",
       "    .dataframe tbody tr th {\n",
       "        vertical-align: top;\n",
       "    }\n",
       "\n",
       "    .dataframe thead th {\n",
       "        text-align: right;\n",
       "    }\n",
       "</style>\n",
       "<table border=\"1\" class=\"dataframe\">\n",
       "  <thead>\n",
       "    <tr style=\"text-align: right;\">\n",
       "      <th></th>\n",
       "      <th>RecordID</th>\n",
       "      <th>Offense</th>\n",
       "      <th>IncidentID</th>\n",
       "      <th>BlockNumber</th>\n",
       "      <th>StreetName</th>\n",
       "      <th>Agency</th>\n",
       "      <th>HourReported</th>\n",
       "      <th>ReportingOfficer</th>\n",
       "      <th>Date</th>\n",
       "      <th>DateString</th>\n",
       "      <th>DayOfWeek</th>\n",
       "      <th>Weekend</th>\n",
       "      <th>Season</th>\n",
       "      <th>HourAMPM</th>\n",
       "      <th>TimeOfDay</th>\n",
       "      <th>FullStreet</th>\n",
       "      <th>lat</th>\n",
       "      <th>lon</th>\n",
       "      <th>neighborhood</th>\n",
       "      <th>zip</th>\n",
       "    </tr>\n",
       "  </thead>\n",
       "  <tbody>\n",
       "    <tr>\n",
       "      <th>0</th>\n",
       "      <td>1</td>\n",
       "      <td>Lost/FoundProperty</td>\n",
       "      <td>202500020897</td>\n",
       "      <td>600</td>\n",
       "      <td>E WATER ST</td>\n",
       "      <td>CPD</td>\n",
       "      <td>2029</td>\n",
       "      <td>Crowley, Raeann</td>\n",
       "      <td>2025-06-17 20:29:29</td>\n",
       "      <td>2025-06-17 08:29:29 PM</td>\n",
       "      <td>Tuesday</td>\n",
       "      <td>False</td>\n",
       "      <td>Spring</td>\n",
       "      <td>08:29 PM</td>\n",
       "      <td>Evening</td>\n",
       "      <td>600 E WATER ST</td>\n",
       "      <td>38.028757</td>\n",
       "      <td>-78.477608</td>\n",
       "      <td>North Downtown</td>\n",
       "      <td>22902</td>\n",
       "    </tr>\n",
       "    <tr>\n",
       "      <th>1</th>\n",
       "      <td>2</td>\n",
       "      <td>Animal Complaint</td>\n",
       "      <td>202500020898</td>\n",
       "      <td>900</td>\n",
       "      <td>BOLLING AVE</td>\n",
       "      <td>CPD</td>\n",
       "      <td>2001</td>\n",
       "      <td>Reed, Danielle</td>\n",
       "      <td>2025-06-17 20:01:21</td>\n",
       "      <td>2025-06-17 08:01:21 PM</td>\n",
       "      <td>Tuesday</td>\n",
       "      <td>False</td>\n",
       "      <td>Spring</td>\n",
       "      <td>08:01 PM</td>\n",
       "      <td>Evening</td>\n",
       "      <td>900 BOLLING AVE</td>\n",
       "      <td>38.022120</td>\n",
       "      <td>-78.476496</td>\n",
       "      <td>Belmont</td>\n",
       "      <td>22903</td>\n",
       "    </tr>\n",
       "    <tr>\n",
       "      <th>2</th>\n",
       "      <td>3</td>\n",
       "      <td>Domestic Disturbance</td>\n",
       "      <td>202500020890</td>\n",
       "      <td>100</td>\n",
       "      <td>STEWART CIR</td>\n",
       "      <td>CPD</td>\n",
       "      <td>1854</td>\n",
       "      <td>Curry, Brian</td>\n",
       "      <td>2025-06-17 18:54:56</td>\n",
       "      <td>2025-06-17 06:54:56 PM</td>\n",
       "      <td>Tuesday</td>\n",
       "      <td>False</td>\n",
       "      <td>Spring</td>\n",
       "      <td>06:54 PM</td>\n",
       "      <td>Evening</td>\n",
       "      <td>100 STEWART CIR</td>\n",
       "      <td>38.043495</td>\n",
       "      <td>-78.494343</td>\n",
       "      <td>Venable</td>\n",
       "      <td>22903</td>\n",
       "    </tr>\n",
       "    <tr>\n",
       "      <th>3</th>\n",
       "      <td>4</td>\n",
       "      <td>Assault Simple</td>\n",
       "      <td>202500020858</td>\n",
       "      <td>1900</td>\n",
       "      <td>IVY RD, BLK</td>\n",
       "      <td>CPD</td>\n",
       "      <td>1344</td>\n",
       "      <td>Love-Baker, Sydney</td>\n",
       "      <td>2025-06-17 13:44:12</td>\n",
       "      <td>2025-06-17 01:44:12 PM</td>\n",
       "      <td>Tuesday</td>\n",
       "      <td>False</td>\n",
       "      <td>Spring</td>\n",
       "      <td>01:44 PM</td>\n",
       "      <td>Afternoon</td>\n",
       "      <td>1900 IVY RD, BLK</td>\n",
       "      <td>NaN</td>\n",
       "      <td>NaN</td>\n",
       "      <td>N/A</td>\n",
       "      <td>N/A</td>\n",
       "    </tr>\n",
       "    <tr>\n",
       "      <th>4</th>\n",
       "      <td>5</td>\n",
       "      <td>Larceny - All Other</td>\n",
       "      <td>202500020829</td>\n",
       "      <td>400</td>\n",
       "      <td>10TH ST NE</td>\n",
       "      <td>CPD</td>\n",
       "      <td>1005</td>\n",
       "      <td>Folston, Elliott</td>\n",
       "      <td>2025-06-17 10:05:35</td>\n",
       "      <td>2025-06-17 10:05:35 AM</td>\n",
       "      <td>Tuesday</td>\n",
       "      <td>False</td>\n",
       "      <td>Spring</td>\n",
       "      <td>10:05 AM</td>\n",
       "      <td>Morning</td>\n",
       "      <td>400 10TH ST NE</td>\n",
       "      <td>38.031076</td>\n",
       "      <td>-78.471530</td>\n",
       "      <td>Martha Jefferson</td>\n",
       "      <td>22902</td>\n",
       "    </tr>\n",
       "  </tbody>\n",
       "</table>\n",
       "</div>"
      ],
      "text/plain": [
       "   RecordID               Offense    IncidentID BlockNumber   StreetName  \\\n",
       "0         1    Lost/FoundProperty  202500020897         600   E WATER ST   \n",
       "1         2      Animal Complaint  202500020898         900  BOLLING AVE   \n",
       "2         3  Domestic Disturbance  202500020890         100  STEWART CIR   \n",
       "3         4        Assault Simple  202500020858        1900  IVY RD, BLK   \n",
       "4         5   Larceny - All Other  202500020829         400   10TH ST NE   \n",
       "\n",
       "  Agency HourReported    ReportingOfficer                Date  \\\n",
       "0    CPD         2029     Crowley, Raeann 2025-06-17 20:29:29   \n",
       "1    CPD         2001      Reed, Danielle 2025-06-17 20:01:21   \n",
       "2    CPD         1854        Curry, Brian 2025-06-17 18:54:56   \n",
       "3    CPD         1344  Love-Baker, Sydney 2025-06-17 13:44:12   \n",
       "4    CPD         1005    Folston, Elliott 2025-06-17 10:05:35   \n",
       "\n",
       "               DateString DayOfWeek  Weekend  Season  HourAMPM  TimeOfDay  \\\n",
       "0  2025-06-17 08:29:29 PM   Tuesday    False  Spring  08:29 PM    Evening   \n",
       "1  2025-06-17 08:01:21 PM   Tuesday    False  Spring  08:01 PM    Evening   \n",
       "2  2025-06-17 06:54:56 PM   Tuesday    False  Spring  06:54 PM    Evening   \n",
       "3  2025-06-17 01:44:12 PM   Tuesday    False  Spring  01:44 PM  Afternoon   \n",
       "4  2025-06-17 10:05:35 AM   Tuesday    False  Spring  10:05 AM    Morning   \n",
       "\n",
       "         FullStreet        lat        lon      neighborhood    zip  \n",
       "0    600 E WATER ST  38.028757 -78.477608    North Downtown  22902  \n",
       "1   900 BOLLING AVE  38.022120 -78.476496           Belmont  22903  \n",
       "2   100 STEWART CIR  38.043495 -78.494343           Venable  22903  \n",
       "3  1900 IVY RD, BLK        NaN        NaN               N/A    N/A  \n",
       "4    400 10TH ST NE  38.031076 -78.471530  Martha Jefferson  22902  "
      ]
     },
     "execution_count": 11,
     "metadata": {},
     "output_type": "execute_result"
    }
   ],
   "source": [
    "# Initialize the geocoder.\n",
    "geolocator = Nominatim(user_agent=\"zip_lookup\")\n",
    "\n",
    "# Try to load a persistent ZIP cache if available.\n",
    "try:\n",
    "    with open(\"zip_cache.pkl\", \"rb\") as f:\n",
    "        zip_cache = pickle.load(f)\n",
    "    print(\"Loaded zip cache.\")\n",
    "except FileNotFoundError:\n",
    "    zip_cache = {}\n",
    "    print(\"No zip cache found; starting fresh.\")\n",
    "\n",
    "def get_zip(lat, lon):\n",
    "    \"\"\"\n",
    "    Reverse geocodes a latitude and longitude to retrieve the ZIP code.\n",
    "    Caches results to speed up subsequent lookups.\n",
    "    \"\"\"\n",
    "    key = (lat, lon)\n",
    "    if key in zip_cache:\n",
    "        return zip_cache[key]\n",
    "    \n",
    "    try:\n",
    "        location = geolocator.reverse((lat, lon), exactly_one=True, timeout=10)\n",
    "        address = location.raw.get('address', {})\n",
    "        postal_code = address.get('postcode', \"N/A\")\n",
    "    except Exception as e:\n",
    "        print(f\"Error getting ZIP for {lat}, {lon}: {e}\")\n",
    "        postal_code = \"N/A\"\n",
    "    \n",
    "    zip_cache[key] = postal_code\n",
    "    # Pause to respect the usage policy.\n",
    "    time.sleep(1)\n",
    "    return postal_code\n",
    "\n",
    "# Apply the function to each row in the DataFrame.\n",
    "df['zip'] = df.apply(lambda row: get_zip(row['lat'], row['lon']), axis=1)\n",
    "\n",
    "# Save the updated ZIP cache.\n",
    "with open(\"zip_cache.pkl\", \"wb\") as f:\n",
    "    pickle.dump(zip_cache, f)\n",
    "\n",
    "df.head()\n"
   ]
  },
  {
   "cell_type": "code",
   "execution_count": 12,
   "id": "37c862bc",
   "metadata": {
    "execution": {
     "iopub.execute_input": "2025-06-20T01:05:51.741535Z",
     "iopub.status.busy": "2025-06-20T01:05:51.741101Z",
     "iopub.status.idle": "2025-06-20T01:05:51.767718Z",
     "shell.execute_reply": "2025-06-20T01:05:51.767061Z"
    },
    "papermill": {
     "duration": 0.034067,
     "end_time": "2025-06-20T01:05:51.768844",
     "exception": false,
     "start_time": "2025-06-20T01:05:51.734777",
     "status": "completed"
    },
    "tags": []
   },
   "outputs": [
    {
     "name": "stdout",
     "output_type": "stream",
     "text": [
      "                  MissingCount  MissingPercentage\n",
      "RecordID                     0               0.00\n",
      "Offense                      0               0.00\n",
      "IncidentID                   0               0.00\n",
      "BlockNumber                  0               0.00\n",
      "StreetName                   0               0.00\n",
      "Agency                       0               0.00\n",
      "HourReported                 0               0.00\n",
      "ReportingOfficer            17               0.07\n",
      "Date                         0               0.00\n",
      "DateString                   0               0.00\n",
      "DayOfWeek                    0               0.00\n",
      "Weekend                      0               0.00\n",
      "Season                       0               0.00\n",
      "HourAMPM                     0               0.00\n",
      "TimeOfDay                    0               0.00\n",
      "FullStreet                   0               0.00\n",
      "lat                         23               0.09\n",
      "lon                         23               0.09\n",
      "neighborhood                 0               0.00\n",
      "zip                          0               0.00\n"
     ]
    }
   ],
   "source": [
    "missing_info = missing_percentage(df)\n",
    "print(missing_info)\n"
   ]
  },
  {
   "cell_type": "code",
   "execution_count": 13,
   "id": "e016aeff",
   "metadata": {
    "execution": {
     "iopub.execute_input": "2025-06-20T01:05:51.782264Z",
     "iopub.status.busy": "2025-06-20T01:05:51.781822Z",
     "iopub.status.idle": "2025-06-20T01:05:51.805497Z",
     "shell.execute_reply": "2025-06-20T01:05:51.804962Z"
    },
    "papermill": {
     "duration": 0.031573,
     "end_time": "2025-06-20T01:05:51.806547",
     "exception": false,
     "start_time": "2025-06-20T01:05:51.774974",
     "status": "completed"
    },
    "tags": []
   },
   "outputs": [
    {
     "name": "stdout",
     "output_type": "stream",
     "text": [
      "<class 'pandas.core.frame.DataFrame'>\n",
      "RangeIndex: 25533 entries, 0 to 25532\n",
      "Data columns (total 20 columns):\n",
      " #   Column            Non-Null Count  Dtype         \n",
      "---  ------            --------------  -----         \n",
      " 0   RecordID          25533 non-null  int64         \n",
      " 1   Offense           25533 non-null  object        \n",
      " 2   IncidentID        25533 non-null  object        \n",
      " 3   BlockNumber       25533 non-null  object        \n",
      " 4   StreetName        25533 non-null  object        \n",
      " 5   Agency            25533 non-null  object        \n",
      " 6   HourReported      25533 non-null  object        \n",
      " 7   ReportingOfficer  25516 non-null  object        \n",
      " 8   Date              25533 non-null  datetime64[ns]\n",
      " 9   DateString        25533 non-null  object        \n",
      " 10  DayOfWeek         25533 non-null  object        \n",
      " 11  Weekend           25533 non-null  bool          \n",
      " 12  Season            25533 non-null  object        \n",
      " 13  HourAMPM          25533 non-null  object        \n",
      " 14  TimeOfDay         25533 non-null  object        \n",
      " 15  FullStreet        25533 non-null  object        \n",
      " 16  lat               25510 non-null  float64       \n",
      " 17  lon               25510 non-null  float64       \n",
      " 18  neighborhood      25533 non-null  object        \n",
      " 19  zip               25533 non-null  object        \n",
      "dtypes: bool(1), datetime64[ns](1), float64(2), int64(1), object(15)\n",
      "memory usage: 3.7+ MB\n"
     ]
    }
   ],
   "source": [
    "df.info()"
   ]
  },
  {
   "cell_type": "code",
   "execution_count": 14,
   "id": "60ed0505",
   "metadata": {
    "execution": {
     "iopub.execute_input": "2025-06-20T01:05:51.819540Z",
     "iopub.status.busy": "2025-06-20T01:05:51.819068Z",
     "iopub.status.idle": "2025-06-20T01:05:51.858671Z",
     "shell.execute_reply": "2025-06-20T01:05:51.858088Z"
    },
    "papermill": {
     "duration": 0.047099,
     "end_time": "2025-06-20T01:05:51.859688",
     "exception": false,
     "start_time": "2025-06-20T01:05:51.812589",
     "status": "completed"
    },
    "tags": []
   },
   "outputs": [
    {
     "data": {
      "text/html": [
       "<div>\n",
       "<style scoped>\n",
       "    .dataframe tbody tr th:only-of-type {\n",
       "        vertical-align: middle;\n",
       "    }\n",
       "\n",
       "    .dataframe tbody tr th {\n",
       "        vertical-align: top;\n",
       "    }\n",
       "\n",
       "    .dataframe thead th {\n",
       "        text-align: right;\n",
       "    }\n",
       "</style>\n",
       "<table border=\"1\" class=\"dataframe\">\n",
       "  <thead>\n",
       "    <tr style=\"text-align: right;\">\n",
       "      <th></th>\n",
       "      <th>RecordID</th>\n",
       "      <th>Offense</th>\n",
       "      <th>IncidentID</th>\n",
       "      <th>Agency</th>\n",
       "      <th>ReportingOfficer</th>\n",
       "      <th>Date</th>\n",
       "      <th>DayOfWeek</th>\n",
       "      <th>Weekend</th>\n",
       "      <th>Season</th>\n",
       "      <th>TimeOfDay</th>\n",
       "      <th>FullStreet</th>\n",
       "      <th>lat</th>\n",
       "      <th>lon</th>\n",
       "      <th>neighborhood</th>\n",
       "      <th>zip</th>\n",
       "    </tr>\n",
       "  </thead>\n",
       "  <tbody>\n",
       "    <tr>\n",
       "      <th>0</th>\n",
       "      <td>1</td>\n",
       "      <td>Lost/FoundProperty</td>\n",
       "      <td>202500020897</td>\n",
       "      <td>CPD</td>\n",
       "      <td>Crowley, Raeann</td>\n",
       "      <td>2025-06-17 20:29:29</td>\n",
       "      <td>Tuesday</td>\n",
       "      <td>False</td>\n",
       "      <td>Spring</td>\n",
       "      <td>Evening</td>\n",
       "      <td>600 E WATER ST</td>\n",
       "      <td>38.028757</td>\n",
       "      <td>-78.477608</td>\n",
       "      <td>North Downtown</td>\n",
       "      <td>22902</td>\n",
       "    </tr>\n",
       "    <tr>\n",
       "      <th>1</th>\n",
       "      <td>2</td>\n",
       "      <td>Animal Complaint</td>\n",
       "      <td>202500020898</td>\n",
       "      <td>CPD</td>\n",
       "      <td>Reed, Danielle</td>\n",
       "      <td>2025-06-17 20:01:21</td>\n",
       "      <td>Tuesday</td>\n",
       "      <td>False</td>\n",
       "      <td>Spring</td>\n",
       "      <td>Evening</td>\n",
       "      <td>900 BOLLING AVE</td>\n",
       "      <td>38.02212</td>\n",
       "      <td>-78.476496</td>\n",
       "      <td>Belmont</td>\n",
       "      <td>22903</td>\n",
       "    </tr>\n",
       "    <tr>\n",
       "      <th>2</th>\n",
       "      <td>3</td>\n",
       "      <td>Domestic Disturbance</td>\n",
       "      <td>202500020890</td>\n",
       "      <td>CPD</td>\n",
       "      <td>Curry, Brian</td>\n",
       "      <td>2025-06-17 18:54:56</td>\n",
       "      <td>Tuesday</td>\n",
       "      <td>False</td>\n",
       "      <td>Spring</td>\n",
       "      <td>Evening</td>\n",
       "      <td>100 STEWART CIR</td>\n",
       "      <td>38.043495</td>\n",
       "      <td>-78.494343</td>\n",
       "      <td>Venable</td>\n",
       "      <td>22903</td>\n",
       "    </tr>\n",
       "    <tr>\n",
       "      <th>3</th>\n",
       "      <td>4</td>\n",
       "      <td>Assault Simple</td>\n",
       "      <td>202500020858</td>\n",
       "      <td>CPD</td>\n",
       "      <td>Love-Baker, Sydney</td>\n",
       "      <td>2025-06-17 13:44:12</td>\n",
       "      <td>Tuesday</td>\n",
       "      <td>False</td>\n",
       "      <td>Spring</td>\n",
       "      <td>Afternoon</td>\n",
       "      <td>1900 IVY RD, BLK</td>\n",
       "      <td>N/A</td>\n",
       "      <td>N/A</td>\n",
       "      <td>N/A</td>\n",
       "      <td>N/A</td>\n",
       "    </tr>\n",
       "    <tr>\n",
       "      <th>4</th>\n",
       "      <td>5</td>\n",
       "      <td>Larceny - All Other</td>\n",
       "      <td>202500020829</td>\n",
       "      <td>CPD</td>\n",
       "      <td>Folston, Elliott</td>\n",
       "      <td>2025-06-17 10:05:35</td>\n",
       "      <td>Tuesday</td>\n",
       "      <td>False</td>\n",
       "      <td>Spring</td>\n",
       "      <td>Morning</td>\n",
       "      <td>400 10TH ST NE</td>\n",
       "      <td>38.031076</td>\n",
       "      <td>-78.47153</td>\n",
       "      <td>Martha Jefferson</td>\n",
       "      <td>22902</td>\n",
       "    </tr>\n",
       "  </tbody>\n",
       "</table>\n",
       "</div>"
      ],
      "text/plain": [
       "   RecordID               Offense    IncidentID Agency    ReportingOfficer  \\\n",
       "0         1    Lost/FoundProperty  202500020897    CPD     Crowley, Raeann   \n",
       "1         2      Animal Complaint  202500020898    CPD      Reed, Danielle   \n",
       "2         3  Domestic Disturbance  202500020890    CPD        Curry, Brian   \n",
       "3         4        Assault Simple  202500020858    CPD  Love-Baker, Sydney   \n",
       "4         5   Larceny - All Other  202500020829    CPD    Folston, Elliott   \n",
       "\n",
       "                 Date DayOfWeek  Weekend  Season  TimeOfDay        FullStreet  \\\n",
       "0 2025-06-17 20:29:29   Tuesday    False  Spring    Evening    600 E WATER ST   \n",
       "1 2025-06-17 20:01:21   Tuesday    False  Spring    Evening   900 BOLLING AVE   \n",
       "2 2025-06-17 18:54:56   Tuesday    False  Spring    Evening   100 STEWART CIR   \n",
       "3 2025-06-17 13:44:12   Tuesday    False  Spring  Afternoon  1900 IVY RD, BLK   \n",
       "4 2025-06-17 10:05:35   Tuesday    False  Spring    Morning    400 10TH ST NE   \n",
       "\n",
       "         lat        lon      neighborhood    zip  \n",
       "0  38.028757 -78.477608    North Downtown  22902  \n",
       "1   38.02212 -78.476496           Belmont  22903  \n",
       "2  38.043495 -78.494343           Venable  22903  \n",
       "3        N/A        N/A               N/A    N/A  \n",
       "4  38.031076  -78.47153  Martha Jefferson  22902  "
      ]
     },
     "execution_count": 14,
     "metadata": {},
     "output_type": "execute_result"
    }
   ],
   "source": [
    "# Now drop the original BlockNumber and StreetName columns\n",
    "df.drop(columns=['BlockNumber', 'StreetName','HourAMPM','HourReported','DateString'], inplace=True)\n",
    "df[\"zip\"] = df[\"zip\"].astype(str)\n",
    "\n",
    "# Fill all missing values in the DataFrame with \"N/A\"\n",
    "df.replace({None: \"N/A\", np.nan: \"N/A\", \"\": \"N/A\"}, inplace=True)\n",
    "df.head()"
   ]
  },
  {
   "cell_type": "code",
   "execution_count": 15,
   "id": "de428e8d",
   "metadata": {
    "execution": {
     "iopub.execute_input": "2025-06-20T01:05:51.873118Z",
     "iopub.status.busy": "2025-06-20T01:05:51.872889Z",
     "iopub.status.idle": "2025-06-20T01:05:51.888105Z",
     "shell.execute_reply": "2025-06-20T01:05:51.887607Z"
    },
    "papermill": {
     "duration": 0.022853,
     "end_time": "2025-06-20T01:05:51.889054",
     "exception": false,
     "start_time": "2025-06-20T01:05:51.866201",
     "status": "completed"
    },
    "tags": []
   },
   "outputs": [
    {
     "name": "stdout",
     "output_type": "stream",
     "text": [
      "                  MissingCount  MissingPercentage\n",
      "RecordID                     0                0.0\n",
      "Offense                      0                0.0\n",
      "IncidentID                   0                0.0\n",
      "Agency                       0                0.0\n",
      "ReportingOfficer             0                0.0\n",
      "Date                         0                0.0\n",
      "DayOfWeek                    0                0.0\n",
      "Weekend                      0                0.0\n",
      "Season                       0                0.0\n",
      "TimeOfDay                    0                0.0\n",
      "FullStreet                   0                0.0\n",
      "lat                          0                0.0\n",
      "lon                          0                0.0\n",
      "neighborhood                 0                0.0\n",
      "zip                          0                0.0\n"
     ]
    }
   ],
   "source": [
    "missing_info = missing_percentage(df)\n",
    "print(missing_info)"
   ]
  },
  {
   "cell_type": "code",
   "execution_count": 16,
   "id": "cf46281b",
   "metadata": {
    "execution": {
     "iopub.execute_input": "2025-06-20T01:05:51.902484Z",
     "iopub.status.busy": "2025-06-20T01:05:51.901995Z",
     "iopub.status.idle": "2025-06-20T01:05:51.906319Z",
     "shell.execute_reply": "2025-06-20T01:05:51.905670Z"
    },
    "papermill": {
     "duration": 0.012016,
     "end_time": "2025-06-20T01:05:51.907290",
     "exception": false,
     "start_time": "2025-06-20T01:05:51.895274",
     "status": "completed"
    },
    "tags": []
   },
   "outputs": [
    {
     "data": {
      "text/plain": [
       "Index(['RecordID', 'Offense', 'IncidentID', 'Agency', 'ReportingOfficer',\n",
       "       'Date', 'DayOfWeek', 'Weekend', 'Season', 'TimeOfDay', 'FullStreet',\n",
       "       'lat', 'lon', 'neighborhood', 'zip'],\n",
       "      dtype='object')"
      ]
     },
     "execution_count": 16,
     "metadata": {},
     "output_type": "execute_result"
    }
   ],
   "source": [
    "df.columns"
   ]
  },
  {
   "cell_type": "code",
   "execution_count": 17,
   "id": "5c3aef07",
   "metadata": {
    "execution": {
     "iopub.execute_input": "2025-06-20T01:05:51.920715Z",
     "iopub.status.busy": "2025-06-20T01:05:51.920278Z",
     "iopub.status.idle": "2025-06-20T01:05:51.936761Z",
     "shell.execute_reply": "2025-06-20T01:05:51.936247Z"
    },
    "papermill": {
     "duration": 0.024146,
     "end_time": "2025-06-20T01:05:51.937726",
     "exception": false,
     "start_time": "2025-06-20T01:05:51.913580",
     "status": "completed"
    },
    "tags": []
   },
   "outputs": [
    {
     "name": "stdout",
     "output_type": "stream",
     "text": [
      "<class 'pandas.core.frame.DataFrame'>\n",
      "RangeIndex: 25533 entries, 0 to 25532\n",
      "Data columns (total 15 columns):\n",
      " #   Column            Non-Null Count  Dtype         \n",
      "---  ------            --------------  -----         \n",
      " 0   RecordID          25533 non-null  int64         \n",
      " 1   Offense           25533 non-null  object        \n",
      " 2   IncidentID        25533 non-null  object        \n",
      " 3   Agency            25533 non-null  object        \n",
      " 4   ReportingOfficer  25533 non-null  object        \n",
      " 5   Date              25533 non-null  datetime64[ns]\n",
      " 6   DayOfWeek         25533 non-null  object        \n",
      " 7   Weekend           25533 non-null  bool          \n",
      " 8   Season            25533 non-null  object        \n",
      " 9   TimeOfDay         25533 non-null  object        \n",
      " 10  FullStreet        25533 non-null  object        \n",
      " 11  lat               25533 non-null  object        \n",
      " 12  lon               25533 non-null  object        \n",
      " 13  neighborhood      25533 non-null  object        \n",
      " 14  zip               25533 non-null  object        \n",
      "dtypes: bool(1), datetime64[ns](1), int64(1), object(12)\n",
      "memory usage: 2.8+ MB\n"
     ]
    }
   ],
   "source": [
    "df.info()"
   ]
  },
  {
   "cell_type": "markdown",
   "id": "ac6aa86d",
   "metadata": {
    "papermill": {
     "duration": 0.006211,
     "end_time": "2025-06-20T01:05:51.950542",
     "exception": false,
     "start_time": "2025-06-20T01:05:51.944331",
     "status": "completed"
    },
    "tags": []
   },
   "source": [
    "### Export Clean Data"
   ]
  },
  {
   "cell_type": "code",
   "execution_count": 18,
   "id": "56f3e30b",
   "metadata": {
    "execution": {
     "iopub.execute_input": "2025-06-20T01:05:51.964338Z",
     "iopub.status.busy": "2025-06-20T01:05:51.964080Z",
     "iopub.status.idle": "2025-06-20T01:06:00.536752Z",
     "shell.execute_reply": "2025-06-20T01:06:00.536094Z"
    },
    "papermill": {
     "duration": 8.580627,
     "end_time": "2025-06-20T01:06:00.537719",
     "exception": false,
     "start_time": "2025-06-20T01:05:51.957092",
     "status": "completed"
    },
    "tags": []
   },
   "outputs": [
    {
     "name": "stdout",
     "output_type": "stream",
     "text": [
      "Project Root: /home/runner/work/crime-data/crime-data\n"
     ]
    },
    {
     "name": "stdout",
     "output_type": "stream",
     "text": [
      "Data saved to: /home/runner/work/crime-data/crime-data/data/charlottesville_crime_incidents.csv\n"
     ]
    },
    {
     "name": "stdout",
     "output_type": "stream",
     "text": [
      "Excel saved to: /home/runner/work/crime-data/crime-data/data/charlottesville_crime_incidents.xlsx\n"
     ]
    }
   ],
   "source": [
    "# Determine the project root (assuming papermill is run from the repository root)\n",
    "project_root = os.getcwd()\n",
    "print(\"Project Root:\", project_root)\n",
    "\n",
    "# Set the data directory within the project root\n",
    "data_dir = os.path.join(project_root, \"data\")\n",
    "\n",
    "# Ensure the \"data\" directory exists (create it if it doesn't)\n",
    "if not os.path.exists(data_dir):\n",
    "    os.makedirs(data_dir)\n",
    "\n",
    "# Export the DataFrame to CSV in the \"data\" folder located in the project root\n",
    "csv_path = os.path.join(data_dir, \"charlottesville_crime_incidents.csv\")\n",
    "df.to_csv(csv_path, index=False)\n",
    "print(\"Data saved to:\", csv_path)\n",
    "\n",
    "# Construct the path to your Excel file\n",
    "excel_path = os.path.join(data_dir, \"charlottesville_crime_incidents.xlsx\")\n",
    "\n",
    "# Export the DataFrame to Excel\n",
    "df.to_excel(excel_path, index=False)\n",
    "print(\"Excel saved to:\", excel_path)\n"
   ]
  }
 ],
 "metadata": {
  "kernelspec": {
   "display_name": "Python 3",
   "language": "python",
   "name": "python3"
  },
  "language_info": {
   "codemirror_mode": {
    "name": "ipython",
    "version": 3
   },
   "file_extension": ".py",
   "mimetype": "text/x-python",
   "name": "python",
   "nbconvert_exporter": "python",
   "pygments_lexer": "ipython3",
   "version": "3.9.23"
  },
  "papermill": {
   "default_parameters": {},
   "duration": 105.206748,
   "end_time": "2025-06-20T01:06:00.959812",
   "environment_variables": {},
   "exception": null,
   "input_path": "notebook/Crime Data.ipynb",
   "output_path": "notebook/Crime Data_output.ipynb",
   "parameters": {},
   "start_time": "2025-06-20T01:04:15.753064",
   "version": "2.6.0"
  }
 },
 "nbformat": 4,
 "nbformat_minor": 5
}