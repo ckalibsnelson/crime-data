{
 "cells": [
  {
   "cell_type": "markdown",
   "id": "bc08c798",
   "metadata": {
    "papermill": {
     "duration": 0.004225,
     "end_time": "2025-06-22T01:10:52.545450",
     "exception": false,
     "start_time": "2025-06-22T01:10:52.541225",
     "status": "completed"
    },
    "tags": []
   },
   "source": [
    "# Charlottesville Open Data Porttal: Crime Data"
   ]
  },
  {
   "cell_type": "markdown",
   "id": "818a0aeb",
   "metadata": {
    "papermill": {
     "duration": 0.003223,
     "end_time": "2025-06-22T01:10:52.552264",
     "exception": false,
     "start_time": "2025-06-22T01:10:52.549041",
     "status": "completed"
    },
    "tags": []
   },
   "source": [
    "## Import Relevant Librarires & Set WD"
   ]
  },
  {
   "cell_type": "code",
   "execution_count": 1,
   "id": "73d46989",
   "metadata": {
    "execution": {
     "iopub.execute_input": "2025-06-22T01:10:52.560310Z",
     "iopub.status.busy": "2025-06-22T01:10:52.559824Z",
     "iopub.status.idle": "2025-06-22T01:10:53.062668Z",
     "shell.execute_reply": "2025-06-22T01:10:53.061925Z"
    },
    "papermill": {
     "duration": 0.508614,
     "end_time": "2025-06-22T01:10:53.064152",
     "exception": false,
     "start_time": "2025-06-22T01:10:52.555538",
     "status": "completed"
    },
    "tags": []
   },
   "outputs": [],
   "source": [
    "import requests\n",
    "import pandas as pd\n",
    "import numpy as np\n",
    "import pickle\n",
    "import googlemaps\n",
    "import plotly.express as px\n",
    "from geopy.geocoders import Nominatim\n",
    "import time\n",
    "from dotenv import load_dotenv\n",
    "import os\n",
    "\n",
    "env_path = os.path.join(\"..\", \".env\")\n",
    "#print(\"Looking for .env file at:\", os.path.abspath(env_path))\n",
    "load_dotenv(dotenv_path=env_path)\n",
    "\n",
    "# Retrieve the variables\n",
    "GOOGLE_API_KEY = os.getenv(\"GOOGLE_API_KEY\")\n",
    "WORKING_DIR = os.getenv(\"WORKING_DIR\")\n",
    "\n",
    "if GOOGLE_API_KEY is None or WORKING_DIR is None:\n",
    "    raise RuntimeError(\"No configuration found. Please ensure that your .env file exists with the required variables, or create a local config.py file.\")\n",
    "\n",
    "#print(\"Google API Key:\", GOOGLE_API_KEY)\n",
    "#print(\"Working Directory:\", WORKING_DIR)"
   ]
  },
  {
   "cell_type": "markdown",
   "id": "aa1d3651",
   "metadata": {
    "papermill": {
     "duration": 0.003332,
     "end_time": "2025-06-22T01:10:53.071131",
     "exception": false,
     "start_time": "2025-06-22T01:10:53.067799",
     "status": "completed"
    },
    "tags": []
   },
   "source": [
    "## Import Data\n",
    "\n",
    "URL: https://opendata.charlottesville.org/datasets/charlottesville::crime-data/about"
   ]
  },
  {
   "cell_type": "code",
   "execution_count": 2,
   "id": "0a9f0dff",
   "metadata": {
    "execution": {
     "iopub.execute_input": "2025-06-22T01:10:53.078951Z",
     "iopub.status.busy": "2025-06-22T01:10:53.078462Z",
     "iopub.status.idle": "2025-06-22T01:12:03.954166Z",
     "shell.execute_reply": "2025-06-22T01:12:03.953435Z"
    },
    "papermill": {
     "duration": 70.884214,
     "end_time": "2025-06-22T01:12:03.958689",
     "exception": false,
     "start_time": "2025-06-22T01:10:53.074475",
     "status": "completed"
    },
    "tags": []
   },
   "outputs": [
    {
     "name": "stdout",
     "output_type": "stream",
     "text": [
      "Total records imported: 25532\n"
     ]
    }
   ],
   "source": [
    "# Define the endpoint and initial parameters.\n",
    "url = \"https://gisweb.charlottesville.org/arcgis/rest/services/OpenData_2/MapServer/6/query\"\n",
    "params = {\n",
    "    \"where\": \"1=1\",\n",
    "    \"outFields\": \"*\",\n",
    "    \"outSR\": 4326,\n",
    "    \"f\": \"json\",\n",
    "    \"resultOffset\": 0,       # Starting index for results\n",
    "    \"resultRecordCount\": 10000  # Maximum records per batch (if allowed by the API)\n",
    "}\n",
    "\n",
    "records = []\n",
    "\n",
    "while True:\n",
    "    response = requests.get(url, params=params)\n",
    "    response.raise_for_status()\n",
    "    data = response.json()\n",
    "    \n",
    "    # Get the current batch of features.\n",
    "    features = data.get(\"features\", [])\n",
    "    if not features:\n",
    "        break\n",
    "\n",
    "    # Extract the attributes from the features.\n",
    "    batch_records = [feature.get(\"attributes\", {}) for feature in features]\n",
    "    records.extend(batch_records)\n",
    "    \n",
    "    # If the batch size is less than the requested count, we reached the end.\n",
    "    if len(features) < params[\"resultRecordCount\"]:\n",
    "        break\n",
    "\n",
    "    # Update the resultOffset for the next batch.\n",
    "    params[\"resultOffset\"] += params[\"resultRecordCount\"]\n",
    "\n",
    "# Create a DataFrame from the combined records.\n",
    "df = pd.DataFrame(records)\n",
    "print(\"Total records imported:\", len(df))\n"
   ]
  },
  {
   "cell_type": "code",
   "execution_count": 3,
   "id": "fd1bc175",
   "metadata": {
    "execution": {
     "iopub.execute_input": "2025-06-22T01:12:03.966635Z",
     "iopub.status.busy": "2025-06-22T01:12:03.966215Z",
     "iopub.status.idle": "2025-06-22T01:12:03.978474Z",
     "shell.execute_reply": "2025-06-22T01:12:03.977804Z"
    },
    "papermill": {
     "duration": 0.017321,
     "end_time": "2025-06-22T01:12:03.979451",
     "exception": false,
     "start_time": "2025-06-22T01:12:03.962130",
     "status": "completed"
    },
    "tags": []
   },
   "outputs": [
    {
     "data": {
      "text/html": [
       "<div>\n",
       "<style scoped>\n",
       "    .dataframe tbody tr th:only-of-type {\n",
       "        vertical-align: middle;\n",
       "    }\n",
       "\n",
       "    .dataframe tbody tr th {\n",
       "        vertical-align: top;\n",
       "    }\n",
       "\n",
       "    .dataframe thead th {\n",
       "        text-align: right;\n",
       "    }\n",
       "</style>\n",
       "<table border=\"1\" class=\"dataframe\">\n",
       "  <thead>\n",
       "    <tr style=\"text-align: right;\">\n",
       "      <th></th>\n",
       "      <th>RecordID</th>\n",
       "      <th>Offense</th>\n",
       "      <th>IncidentID</th>\n",
       "      <th>BlockNumber</th>\n",
       "      <th>StreetName</th>\n",
       "      <th>Agency</th>\n",
       "      <th>DateReported</th>\n",
       "      <th>HourReported</th>\n",
       "      <th>ReportingOfficer</th>\n",
       "    </tr>\n",
       "  </thead>\n",
       "  <tbody>\n",
       "    <tr>\n",
       "      <th>0</th>\n",
       "      <td>1</td>\n",
       "      <td>Lost/FoundProperty</td>\n",
       "      <td>202500021152</td>\n",
       "      <td>600</td>\n",
       "      <td>CHERRY AVE</td>\n",
       "      <td>CPD</td>\n",
       "      <td>1750367446000</td>\n",
       "      <td>1710</td>\n",
       "      <td>Reed, Danielle</td>\n",
       "    </tr>\n",
       "    <tr>\n",
       "      <th>1</th>\n",
       "      <td>2</td>\n",
       "      <td>Hit and Run</td>\n",
       "      <td>202500021144</td>\n",
       "      <td>1100</td>\n",
       "      <td>EMMET ST N</td>\n",
       "      <td>CPD</td>\n",
       "      <td>1750364714000</td>\n",
       "      <td>1625</td>\n",
       "      <td>Rigsby, Lloyd</td>\n",
       "    </tr>\n",
       "    <tr>\n",
       "      <th>2</th>\n",
       "      <td>3</td>\n",
       "      <td>Larceny - Shoplifitng</td>\n",
       "      <td>202500021138</td>\n",
       "      <td>2100</td>\n",
       "      <td>BARRACKS RD</td>\n",
       "      <td>CPD</td>\n",
       "      <td>1750362952000</td>\n",
       "      <td>1555</td>\n",
       "      <td>Rigsby, Lloyd</td>\n",
       "    </tr>\n",
       "    <tr>\n",
       "      <th>3</th>\n",
       "      <td>4</td>\n",
       "      <td>Larceny - Shoplifitng</td>\n",
       "      <td>202500021130</td>\n",
       "      <td>1100</td>\n",
       "      <td>5TH ST SW</td>\n",
       "      <td>CPD</td>\n",
       "      <td>1750357996000</td>\n",
       "      <td>1433</td>\n",
       "      <td>Turner, Devon</td>\n",
       "    </tr>\n",
       "    <tr>\n",
       "      <th>4</th>\n",
       "      <td>5</td>\n",
       "      <td>Assault Simple</td>\n",
       "      <td>202500021126</td>\n",
       "      <td>300</td>\n",
       "      <td>13TH ST NW, 1</td>\n",
       "      <td>CPD</td>\n",
       "      <td>1750355550000</td>\n",
       "      <td>1352</td>\n",
       "      <td>Kinney, Dylan</td>\n",
       "    </tr>\n",
       "  </tbody>\n",
       "</table>\n",
       "</div>"
      ],
      "text/plain": [
       "   RecordID                Offense    IncidentID BlockNumber     StreetName  \\\n",
       "0         1     Lost/FoundProperty  202500021152         600     CHERRY AVE   \n",
       "1         2            Hit and Run  202500021144        1100     EMMET ST N   \n",
       "2         3  Larceny - Shoplifitng  202500021138        2100    BARRACKS RD   \n",
       "3         4  Larceny - Shoplifitng  202500021130        1100      5TH ST SW   \n",
       "4         5         Assault Simple  202500021126         300  13TH ST NW, 1   \n",
       "\n",
       "  Agency   DateReported HourReported ReportingOfficer  \n",
       "0    CPD  1750367446000         1710   Reed, Danielle  \n",
       "1    CPD  1750364714000         1625    Rigsby, Lloyd  \n",
       "2    CPD  1750362952000         1555    Rigsby, Lloyd  \n",
       "3    CPD  1750357996000         1433    Turner, Devon  \n",
       "4    CPD  1750355550000         1352    Kinney, Dylan  "
      ]
     },
     "execution_count": 3,
     "metadata": {},
     "output_type": "execute_result"
    }
   ],
   "source": [
    "df.head()"
   ]
  },
  {
   "cell_type": "code",
   "execution_count": 4,
   "id": "b481e000",
   "metadata": {
    "execution": {
     "iopub.execute_input": "2025-06-22T01:12:03.987516Z",
     "iopub.status.busy": "2025-06-22T01:12:03.987090Z",
     "iopub.status.idle": "2025-06-22T01:12:03.991432Z",
     "shell.execute_reply": "2025-06-22T01:12:03.990787Z"
    },
    "papermill": {
     "duration": 0.009402,
     "end_time": "2025-06-22T01:12:03.992436",
     "exception": false,
     "start_time": "2025-06-22T01:12:03.983034",
     "status": "completed"
    },
    "tags": []
   },
   "outputs": [
    {
     "data": {
      "text/plain": [
       "Index(['RecordID', 'Offense', 'IncidentID', 'BlockNumber', 'StreetName',\n",
       "       'Agency', 'DateReported', 'HourReported', 'ReportingOfficer'],\n",
       "      dtype='object')"
      ]
     },
     "execution_count": 4,
     "metadata": {},
     "output_type": "execute_result"
    }
   ],
   "source": [
    "df.columns"
   ]
  },
  {
   "cell_type": "code",
   "execution_count": 5,
   "id": "eb35b86d",
   "metadata": {
    "execution": {
     "iopub.execute_input": "2025-06-22T01:12:04.001168Z",
     "iopub.status.busy": "2025-06-22T01:12:04.000789Z",
     "iopub.status.idle": "2025-06-22T01:12:04.022140Z",
     "shell.execute_reply": "2025-06-22T01:12:04.021497Z"
    },
    "papermill": {
     "duration": 0.027049,
     "end_time": "2025-06-22T01:12:04.023150",
     "exception": false,
     "start_time": "2025-06-22T01:12:03.996101",
     "status": "completed"
    },
    "tags": []
   },
   "outputs": [
    {
     "name": "stdout",
     "output_type": "stream",
     "text": [
      "<class 'pandas.core.frame.DataFrame'>\n",
      "RangeIndex: 25532 entries, 0 to 25531\n",
      "Data columns (total 9 columns):\n",
      " #   Column            Non-Null Count  Dtype \n",
      "---  ------            --------------  ----- \n",
      " 0   RecordID          25532 non-null  int64 \n",
      " 1   Offense           25532 non-null  object\n",
      " 2   IncidentID        25532 non-null  object\n",
      " 3   BlockNumber       25532 non-null  object\n",
      " 4   StreetName        25532 non-null  object\n",
      " 5   Agency            25532 non-null  object\n",
      " 6   DateReported      25532 non-null  int64 \n",
      " 7   HourReported      25532 non-null  object\n",
      " 8   ReportingOfficer  25515 non-null  object\n",
      "dtypes: int64(2), object(7)\n",
      "memory usage: 1.8+ MB\n"
     ]
    }
   ],
   "source": [
    "df.info()"
   ]
  },
  {
   "cell_type": "markdown",
   "id": "c65648f0",
   "metadata": {
    "papermill": {
     "duration": 0.003643,
     "end_time": "2025-06-22T01:12:04.030563",
     "exception": false,
     "start_time": "2025-06-22T01:12:04.026920",
     "status": "completed"
    },
    "tags": []
   },
   "source": [
    "### Missing Values"
   ]
  },
  {
   "cell_type": "code",
   "execution_count": 6,
   "id": "18159689",
   "metadata": {
    "execution": {
     "iopub.execute_input": "2025-06-22T01:12:04.060323Z",
     "iopub.status.busy": "2025-06-22T01:12:04.059884Z",
     "iopub.status.idle": "2025-06-22T01:12:04.084088Z",
     "shell.execute_reply": "2025-06-22T01:12:04.083385Z"
    },
    "papermill": {
     "duration": 0.029774,
     "end_time": "2025-06-22T01:12:04.085080",
     "exception": false,
     "start_time": "2025-06-22T01:12:04.055306",
     "status": "completed"
    },
    "tags": []
   },
   "outputs": [
    {
     "name": "stdout",
     "output_type": "stream",
     "text": [
      "                  MissingCount  MissingPercentage\n",
      "RecordID                     0               0.00\n",
      "Offense                      0               0.00\n",
      "IncidentID                   0               0.00\n",
      "BlockNumber                  0               0.00\n",
      "StreetName                   0               0.00\n",
      "Agency                       0               0.00\n",
      "DateReported                 0               0.00\n",
      "HourReported                 0               0.00\n",
      "ReportingOfficer            17               0.07\n"
     ]
    }
   ],
   "source": [
    "def missing_percentage(df):\n",
    "    \"\"\"\n",
    "    Returns a DataFrame with the count and percentage of missing values for each column.\n",
    "    \n",
    "    Parameters:\n",
    "        df (pd.DataFrame): The input DataFrame.\n",
    "    \n",
    "    Returns:\n",
    "        pd.DataFrame: A DataFrame with columns 'MissingCount' and 'MissingPercentage'.\n",
    "    \"\"\"\n",
    "    total_rows = len(df)\n",
    "    missing_count = df.isnull().sum()\n",
    "    missing_percent = (missing_count / total_rows) * 100\n",
    "    \n",
    "    result = pd.DataFrame({\n",
    "        'MissingCount': missing_count,\n",
    "        'MissingPercentage': missing_percent.round(2)\n",
    "    })\n",
    "    \n",
    "    return result\n",
    "\n",
    "# Example usage:\n",
    "missing_info = missing_percentage(df)\n",
    "print(missing_info)\n"
   ]
  },
  {
   "cell_type": "markdown",
   "id": "bc1de454",
   "metadata": {
    "papermill": {
     "duration": 0.003859,
     "end_time": "2025-06-22T01:12:04.092965",
     "exception": false,
     "start_time": "2025-06-22T01:12:04.089106",
     "status": "completed"
    },
    "tags": []
   },
   "source": [
    "## Data Preparation"
   ]
  },
  {
   "cell_type": "markdown",
   "id": "607fb800",
   "metadata": {
    "papermill": {
     "duration": 0.003701,
     "end_time": "2025-06-22T01:12:04.100412",
     "exception": false,
     "start_time": "2025-06-22T01:12:04.096711",
     "status": "completed"
    },
    "tags": []
   },
   "source": [
    "### Data Conversion"
   ]
  },
  {
   "cell_type": "code",
   "execution_count": 7,
   "id": "b76c9d98",
   "metadata": {
    "execution": {
     "iopub.execute_input": "2025-06-22T01:12:04.108979Z",
     "iopub.status.busy": "2025-06-22T01:12:04.108602Z",
     "iopub.status.idle": "2025-06-22T01:12:04.465102Z",
     "shell.execute_reply": "2025-06-22T01:12:04.464408Z"
    },
    "papermill": {
     "duration": 0.361951,
     "end_time": "2025-06-22T01:12:04.466171",
     "exception": false,
     "start_time": "2025-06-22T01:12:04.104220",
     "status": "completed"
    },
    "tags": []
   },
   "outputs": [
    {
     "data": {
      "text/html": [
       "<div>\n",
       "<style scoped>\n",
       "    .dataframe tbody tr th:only-of-type {\n",
       "        vertical-align: middle;\n",
       "    }\n",
       "\n",
       "    .dataframe tbody tr th {\n",
       "        vertical-align: top;\n",
       "    }\n",
       "\n",
       "    .dataframe thead th {\n",
       "        text-align: right;\n",
       "    }\n",
       "</style>\n",
       "<table border=\"1\" class=\"dataframe\">\n",
       "  <thead>\n",
       "    <tr style=\"text-align: right;\">\n",
       "      <th></th>\n",
       "      <th>RecordID</th>\n",
       "      <th>Offense</th>\n",
       "      <th>IncidentID</th>\n",
       "      <th>BlockNumber</th>\n",
       "      <th>StreetName</th>\n",
       "      <th>Agency</th>\n",
       "      <th>HourReported</th>\n",
       "      <th>ReportingOfficer</th>\n",
       "      <th>Date</th>\n",
       "      <th>DateString</th>\n",
       "      <th>DayOfWeek</th>\n",
       "      <th>Weekend</th>\n",
       "      <th>Season</th>\n",
       "      <th>HourAMPM</th>\n",
       "      <th>TimeOfDay</th>\n",
       "    </tr>\n",
       "  </thead>\n",
       "  <tbody>\n",
       "    <tr>\n",
       "      <th>0</th>\n",
       "      <td>1</td>\n",
       "      <td>Lost/FoundProperty</td>\n",
       "      <td>202500021152</td>\n",
       "      <td>600</td>\n",
       "      <td>CHERRY AVE</td>\n",
       "      <td>CPD</td>\n",
       "      <td>1710</td>\n",
       "      <td>Reed, Danielle</td>\n",
       "      <td>2025-06-19 17:10:46</td>\n",
       "      <td>2025-06-19 05:10:46 PM</td>\n",
       "      <td>Thursday</td>\n",
       "      <td>False</td>\n",
       "      <td>Spring</td>\n",
       "      <td>05:10 PM</td>\n",
       "      <td>Evening</td>\n",
       "    </tr>\n",
       "    <tr>\n",
       "      <th>1</th>\n",
       "      <td>2</td>\n",
       "      <td>Hit and Run</td>\n",
       "      <td>202500021144</td>\n",
       "      <td>1100</td>\n",
       "      <td>EMMET ST N</td>\n",
       "      <td>CPD</td>\n",
       "      <td>1625</td>\n",
       "      <td>Rigsby, Lloyd</td>\n",
       "      <td>2025-06-19 16:25:14</td>\n",
       "      <td>2025-06-19 04:25:14 PM</td>\n",
       "      <td>Thursday</td>\n",
       "      <td>False</td>\n",
       "      <td>Spring</td>\n",
       "      <td>04:25 PM</td>\n",
       "      <td>Afternoon</td>\n",
       "    </tr>\n",
       "    <tr>\n",
       "      <th>2</th>\n",
       "      <td>3</td>\n",
       "      <td>Larceny - Shoplifitng</td>\n",
       "      <td>202500021138</td>\n",
       "      <td>2100</td>\n",
       "      <td>BARRACKS RD</td>\n",
       "      <td>CPD</td>\n",
       "      <td>1555</td>\n",
       "      <td>Rigsby, Lloyd</td>\n",
       "      <td>2025-06-19 15:55:52</td>\n",
       "      <td>2025-06-19 03:55:52 PM</td>\n",
       "      <td>Thursday</td>\n",
       "      <td>False</td>\n",
       "      <td>Spring</td>\n",
       "      <td>03:55 PM</td>\n",
       "      <td>Afternoon</td>\n",
       "    </tr>\n",
       "    <tr>\n",
       "      <th>3</th>\n",
       "      <td>4</td>\n",
       "      <td>Larceny - Shoplifitng</td>\n",
       "      <td>202500021130</td>\n",
       "      <td>1100</td>\n",
       "      <td>5TH ST SW</td>\n",
       "      <td>CPD</td>\n",
       "      <td>1433</td>\n",
       "      <td>Turner, Devon</td>\n",
       "      <td>2025-06-19 14:33:16</td>\n",
       "      <td>2025-06-19 02:33:16 PM</td>\n",
       "      <td>Thursday</td>\n",
       "      <td>False</td>\n",
       "      <td>Spring</td>\n",
       "      <td>02:33 PM</td>\n",
       "      <td>Afternoon</td>\n",
       "    </tr>\n",
       "    <tr>\n",
       "      <th>4</th>\n",
       "      <td>5</td>\n",
       "      <td>Assault Simple</td>\n",
       "      <td>202500021126</td>\n",
       "      <td>300</td>\n",
       "      <td>13TH ST NW, 1</td>\n",
       "      <td>CPD</td>\n",
       "      <td>1352</td>\n",
       "      <td>Kinney, Dylan</td>\n",
       "      <td>2025-06-19 13:52:30</td>\n",
       "      <td>2025-06-19 01:52:30 PM</td>\n",
       "      <td>Thursday</td>\n",
       "      <td>False</td>\n",
       "      <td>Spring</td>\n",
       "      <td>01:52 PM</td>\n",
       "      <td>Afternoon</td>\n",
       "    </tr>\n",
       "  </tbody>\n",
       "</table>\n",
       "</div>"
      ],
      "text/plain": [
       "   RecordID                Offense    IncidentID BlockNumber     StreetName  \\\n",
       "0         1     Lost/FoundProperty  202500021152         600     CHERRY AVE   \n",
       "1         2            Hit and Run  202500021144        1100     EMMET ST N   \n",
       "2         3  Larceny - Shoplifitng  202500021138        2100    BARRACKS RD   \n",
       "3         4  Larceny - Shoplifitng  202500021130        1100      5TH ST SW   \n",
       "4         5         Assault Simple  202500021126         300  13TH ST NW, 1   \n",
       "\n",
       "  Agency HourReported ReportingOfficer                Date  \\\n",
       "0    CPD         1710   Reed, Danielle 2025-06-19 17:10:46   \n",
       "1    CPD         1625    Rigsby, Lloyd 2025-06-19 16:25:14   \n",
       "2    CPD         1555    Rigsby, Lloyd 2025-06-19 15:55:52   \n",
       "3    CPD         1433    Turner, Devon 2025-06-19 14:33:16   \n",
       "4    CPD         1352    Kinney, Dylan 2025-06-19 13:52:30   \n",
       "\n",
       "               DateString DayOfWeek  Weekend  Season  HourAMPM  TimeOfDay  \n",
       "0  2025-06-19 05:10:46 PM  Thursday    False  Spring  05:10 PM    Evening  \n",
       "1  2025-06-19 04:25:14 PM  Thursday    False  Spring  04:25 PM  Afternoon  \n",
       "2  2025-06-19 03:55:52 PM  Thursday    False  Spring  03:55 PM  Afternoon  \n",
       "3  2025-06-19 02:33:16 PM  Thursday    False  Spring  02:33 PM  Afternoon  \n",
       "4  2025-06-19 01:52:30 PM  Thursday    False  Spring  01:52 PM  Afternoon  "
      ]
     },
     "execution_count": 7,
     "metadata": {},
     "output_type": "execute_result"
    }
   ],
   "source": [
    "def convert_and_categorize_datereported(df, col='DateReported'):\n",
    "    \"\"\"\n",
    "    Converts an epoch (in milliseconds) date column into a timezone-aware datetime,\n",
    "    converts it to Eastern Time, and then creates columns for day-of-week, weekend flag,\n",
    "    season, 12-hour formatted time, and time-of-day. Keeps both a real datetime column\n",
    "    (Date) and a string representation (DateString).\n",
    "    \"\"\"\n",
    "    import pandas as pd\n",
    "\n",
    "    # Convert the epoch timestamp to a pandas datetime object as UTC, then convert to US/Eastern.\n",
    "    df[\"DateReported_dt\"] = (\n",
    "        pd.to_datetime(df[col], unit=\"ms\", errors=\"coerce\", utc=True)\n",
    "        .dt.tz_convert(\"US/Eastern\")\n",
    "    )\n",
    "    \n",
    "    # Create a true datetime column (remove timezone if you prefer naive datetime)\n",
    "    df[\"Date\"] = df[\"DateReported_dt\"].dt.tz_localize(None)\n",
    "\n",
    "    # Optionally, create a separate string-formatted column\n",
    "    df[\"DateString\"] = df[\"DateReported_dt\"].dt.strftime(\"%Y-%m-%d %I:%M:%S %p\")\n",
    "    \n",
    "    # DayOfWeek\n",
    "    df[\"DayOfWeek\"] = df[\"DateReported_dt\"].dt.day_name()\n",
    "    \n",
    "    # Weekend\n",
    "    df[\"Weekend\"] = df[\"DayOfWeek\"].isin([\"Saturday\", \"Sunday\"])\n",
    "    \n",
    "    # Helper function to determine the season\n",
    "    def get_season(dt):\n",
    "        month = dt.month\n",
    "        day = dt.day\n",
    "        # Approximate Northern Hemisphere season boundaries:\n",
    "        if (month == 12 and day >= 21) or (month < 3) or (month == 3 and day < 20):\n",
    "            return \"Winter\"\n",
    "        elif (month == 3 and day >= 20) or (month < 6) or (month == 6 and day < 21):\n",
    "            return \"Spring\"\n",
    "        elif (month == 6 and day >= 21) or (month < 9) or (month == 9 and day < 22):\n",
    "            return \"Summer\"\n",
    "        else:\n",
    "            return \"Autumn\"\n",
    "    \n",
    "    df[\"Season\"] = df[\"DateReported_dt\"].apply(get_season)\n",
    "    \n",
    "    # 12-hour formatted time (HourAMPM)\n",
    "    df[\"HourAMPM\"] = df[\"DateReported_dt\"].dt.strftime(\"%I:%M %p\")\n",
    "    \n",
    "    # Extract hour (0-23) for time-of-day\n",
    "    df[\"HourValue\"] = df[\"DateReported_dt\"].dt.hour\n",
    "    \n",
    "    def time_of_day(hour):\n",
    "        if pd.isnull(hour):\n",
    "            return None\n",
    "        if 5 <= hour < 12:\n",
    "            return \"Morning\"\n",
    "        elif 12 <= hour < 17:\n",
    "            return \"Afternoon\"\n",
    "        elif 17 <= hour < 21:\n",
    "            return \"Evening\"\n",
    "        else:\n",
    "            return \"Night\"\n",
    "    \n",
    "    df[\"TimeOfDay\"] = df[\"HourValue\"].apply(time_of_day)\n",
    "    \n",
    "    # Drop columns you no longer need\n",
    "    df.drop(columns=[col, \"DateReported_dt\", \"HourValue\"], inplace=True)\n",
    "    \n",
    "    return df\n",
    "\n",
    "# Example usage:\n",
    "df = convert_and_categorize_datereported(df)\n",
    "df.head()\n"
   ]
  },
  {
   "cell_type": "code",
   "execution_count": 8,
   "id": "2ff2b447",
   "metadata": {
    "execution": {
     "iopub.execute_input": "2025-06-22T01:12:04.475681Z",
     "iopub.status.busy": "2025-06-22T01:12:04.475226Z",
     "iopub.status.idle": "2025-06-22T01:12:04.499555Z",
     "shell.execute_reply": "2025-06-22T01:12:04.498893Z"
    },
    "papermill": {
     "duration": 0.030079,
     "end_time": "2025-06-22T01:12:04.500535",
     "exception": false,
     "start_time": "2025-06-22T01:12:04.470456",
     "status": "completed"
    },
    "tags": []
   },
   "outputs": [
    {
     "name": "stdout",
     "output_type": "stream",
     "text": [
      "<class 'pandas.core.frame.DataFrame'>\n",
      "RangeIndex: 25532 entries, 0 to 25531\n",
      "Data columns (total 15 columns):\n",
      " #   Column            Non-Null Count  Dtype         \n",
      "---  ------            --------------  -----         \n",
      " 0   RecordID          25532 non-null  int64         \n",
      " 1   Offense           25532 non-null  object        \n",
      " 2   IncidentID        25532 non-null  object        \n",
      " 3   BlockNumber       25532 non-null  object        \n",
      " 4   StreetName        25532 non-null  object        \n",
      " 5   Agency            25532 non-null  object        \n",
      " 6   HourReported      25532 non-null  object        \n",
      " 7   ReportingOfficer  25515 non-null  object        \n",
      " 8   Date              25532 non-null  datetime64[ns]\n",
      " 9   DateString        25532 non-null  object        \n",
      " 10  DayOfWeek         25532 non-null  object        \n",
      " 11  Weekend           25532 non-null  bool          \n",
      " 12  Season            25532 non-null  object        \n",
      " 13  HourAMPM          25532 non-null  object        \n",
      " 14  TimeOfDay         25532 non-null  object        \n",
      "dtypes: bool(1), datetime64[ns](1), int64(1), object(12)\n",
      "memory usage: 2.8+ MB\n"
     ]
    }
   ],
   "source": [
    "df.info()"
   ]
  },
  {
   "cell_type": "markdown",
   "id": "eca45b8f",
   "metadata": {
    "papermill": {
     "duration": 0.003973,
     "end_time": "2025-06-22T01:12:04.508663",
     "exception": false,
     "start_time": "2025-06-22T01:12:04.504690",
     "status": "completed"
    },
    "tags": []
   },
   "source": [
    "### Coordinates"
   ]
  },
  {
   "cell_type": "code",
   "execution_count": 9,
   "id": "eb79cbc1",
   "metadata": {
    "execution": {
     "iopub.execute_input": "2025-06-22T01:12:04.517971Z",
     "iopub.status.busy": "2025-06-22T01:12:04.517329Z",
     "iopub.status.idle": "2025-06-22T01:12:04.645002Z",
     "shell.execute_reply": "2025-06-22T01:12:04.644309Z"
    },
    "papermill": {
     "duration": 0.13329,
     "end_time": "2025-06-22T01:12:04.646038",
     "exception": false,
     "start_time": "2025-06-22T01:12:04.512748",
     "status": "completed"
    },
    "tags": []
   },
   "outputs": [
    {
     "name": "stdout",
     "output_type": "stream",
     "text": [
      "Loaded geocode cache.\n",
      "Error geocoding 300 13TH ST NW, 1: REQUEST_DENIED (You must enable Billing on the Google Cloud Project at https://console.cloud.google.com/project/_/billing/enable Learn more at https://developers.google.com/maps/gmp-get-started)\n",
      "Geocoded 300 13TH ST NW, 1: None, None\n",
      "Geocode cache updated and saved.\n"
     ]
    },
    {
     "data": {
      "text/html": [
       "<div>\n",
       "<style scoped>\n",
       "    .dataframe tbody tr th:only-of-type {\n",
       "        vertical-align: middle;\n",
       "    }\n",
       "\n",
       "    .dataframe tbody tr th {\n",
       "        vertical-align: top;\n",
       "    }\n",
       "\n",
       "    .dataframe thead th {\n",
       "        text-align: right;\n",
       "    }\n",
       "</style>\n",
       "<table border=\"1\" class=\"dataframe\">\n",
       "  <thead>\n",
       "    <tr style=\"text-align: right;\">\n",
       "      <th></th>\n",
       "      <th>RecordID</th>\n",
       "      <th>Offense</th>\n",
       "      <th>IncidentID</th>\n",
       "      <th>BlockNumber</th>\n",
       "      <th>StreetName</th>\n",
       "      <th>Agency</th>\n",
       "      <th>HourReported</th>\n",
       "      <th>ReportingOfficer</th>\n",
       "      <th>Date</th>\n",
       "      <th>DateString</th>\n",
       "      <th>DayOfWeek</th>\n",
       "      <th>Weekend</th>\n",
       "      <th>Season</th>\n",
       "      <th>HourAMPM</th>\n",
       "      <th>TimeOfDay</th>\n",
       "      <th>FullStreet</th>\n",
       "      <th>lat</th>\n",
       "      <th>lon</th>\n",
       "    </tr>\n",
       "  </thead>\n",
       "  <tbody>\n",
       "    <tr>\n",
       "      <th>0</th>\n",
       "      <td>1</td>\n",
       "      <td>Lost/FoundProperty</td>\n",
       "      <td>202500021152</td>\n",
       "      <td>600</td>\n",
       "      <td>CHERRY AVE</td>\n",
       "      <td>CPD</td>\n",
       "      <td>1710</td>\n",
       "      <td>Reed, Danielle</td>\n",
       "      <td>2025-06-19 17:10:46</td>\n",
       "      <td>2025-06-19 05:10:46 PM</td>\n",
       "      <td>Thursday</td>\n",
       "      <td>False</td>\n",
       "      <td>Spring</td>\n",
       "      <td>05:10 PM</td>\n",
       "      <td>Evening</td>\n",
       "      <td>600 CHERRY AVE</td>\n",
       "      <td>38.027120</td>\n",
       "      <td>-78.491244</td>\n",
       "    </tr>\n",
       "    <tr>\n",
       "      <th>1</th>\n",
       "      <td>2</td>\n",
       "      <td>Hit and Run</td>\n",
       "      <td>202500021144</td>\n",
       "      <td>1100</td>\n",
       "      <td>EMMET ST N</td>\n",
       "      <td>CPD</td>\n",
       "      <td>1625</td>\n",
       "      <td>Rigsby, Lloyd</td>\n",
       "      <td>2025-06-19 16:25:14</td>\n",
       "      <td>2025-06-19 04:25:14 PM</td>\n",
       "      <td>Thursday</td>\n",
       "      <td>False</td>\n",
       "      <td>Spring</td>\n",
       "      <td>04:25 PM</td>\n",
       "      <td>Afternoon</td>\n",
       "      <td>1100 EMMET ST N</td>\n",
       "      <td>38.051639</td>\n",
       "      <td>-78.501523</td>\n",
       "    </tr>\n",
       "    <tr>\n",
       "      <th>2</th>\n",
       "      <td>3</td>\n",
       "      <td>Larceny - Shoplifitng</td>\n",
       "      <td>202500021138</td>\n",
       "      <td>2100</td>\n",
       "      <td>BARRACKS RD</td>\n",
       "      <td>CPD</td>\n",
       "      <td>1555</td>\n",
       "      <td>Rigsby, Lloyd</td>\n",
       "      <td>2025-06-19 15:55:52</td>\n",
       "      <td>2025-06-19 03:55:52 PM</td>\n",
       "      <td>Thursday</td>\n",
       "      <td>False</td>\n",
       "      <td>Spring</td>\n",
       "      <td>03:55 PM</td>\n",
       "      <td>Afternoon</td>\n",
       "      <td>2100 BARRACKS RD</td>\n",
       "      <td>38.052787</td>\n",
       "      <td>-78.499113</td>\n",
       "    </tr>\n",
       "    <tr>\n",
       "      <th>3</th>\n",
       "      <td>4</td>\n",
       "      <td>Larceny - Shoplifitng</td>\n",
       "      <td>202500021130</td>\n",
       "      <td>1100</td>\n",
       "      <td>5TH ST SW</td>\n",
       "      <td>CPD</td>\n",
       "      <td>1433</td>\n",
       "      <td>Turner, Devon</td>\n",
       "      <td>2025-06-19 14:33:16</td>\n",
       "      <td>2025-06-19 02:33:16 PM</td>\n",
       "      <td>Thursday</td>\n",
       "      <td>False</td>\n",
       "      <td>Spring</td>\n",
       "      <td>02:33 PM</td>\n",
       "      <td>Afternoon</td>\n",
       "      <td>1100 5TH ST SW</td>\n",
       "      <td>38.017130</td>\n",
       "      <td>-78.497806</td>\n",
       "    </tr>\n",
       "    <tr>\n",
       "      <th>4</th>\n",
       "      <td>5</td>\n",
       "      <td>Assault Simple</td>\n",
       "      <td>202500021126</td>\n",
       "      <td>300</td>\n",
       "      <td>13TH ST NW, 1</td>\n",
       "      <td>CPD</td>\n",
       "      <td>1352</td>\n",
       "      <td>Kinney, Dylan</td>\n",
       "      <td>2025-06-19 13:52:30</td>\n",
       "      <td>2025-06-19 01:52:30 PM</td>\n",
       "      <td>Thursday</td>\n",
       "      <td>False</td>\n",
       "      <td>Spring</td>\n",
       "      <td>01:52 PM</td>\n",
       "      <td>Afternoon</td>\n",
       "      <td>300 13TH ST NW, 1</td>\n",
       "      <td>NaN</td>\n",
       "      <td>NaN</td>\n",
       "    </tr>\n",
       "  </tbody>\n",
       "</table>\n",
       "</div>"
      ],
      "text/plain": [
       "   RecordID                Offense    IncidentID BlockNumber     StreetName  \\\n",
       "0         1     Lost/FoundProperty  202500021152         600     CHERRY AVE   \n",
       "1         2            Hit and Run  202500021144        1100     EMMET ST N   \n",
       "2         3  Larceny - Shoplifitng  202500021138        2100    BARRACKS RD   \n",
       "3         4  Larceny - Shoplifitng  202500021130        1100      5TH ST SW   \n",
       "4         5         Assault Simple  202500021126         300  13TH ST NW, 1   \n",
       "\n",
       "  Agency HourReported ReportingOfficer                Date  \\\n",
       "0    CPD         1710   Reed, Danielle 2025-06-19 17:10:46   \n",
       "1    CPD         1625    Rigsby, Lloyd 2025-06-19 16:25:14   \n",
       "2    CPD         1555    Rigsby, Lloyd 2025-06-19 15:55:52   \n",
       "3    CPD         1433    Turner, Devon 2025-06-19 14:33:16   \n",
       "4    CPD         1352    Kinney, Dylan 2025-06-19 13:52:30   \n",
       "\n",
       "               DateString DayOfWeek  Weekend  Season  HourAMPM  TimeOfDay  \\\n",
       "0  2025-06-19 05:10:46 PM  Thursday    False  Spring  05:10 PM    Evening   \n",
       "1  2025-06-19 04:25:14 PM  Thursday    False  Spring  04:25 PM  Afternoon   \n",
       "2  2025-06-19 03:55:52 PM  Thursday    False  Spring  03:55 PM  Afternoon   \n",
       "3  2025-06-19 02:33:16 PM  Thursday    False  Spring  02:33 PM  Afternoon   \n",
       "4  2025-06-19 01:52:30 PM  Thursday    False  Spring  01:52 PM  Afternoon   \n",
       "\n",
       "          FullStreet        lat        lon  \n",
       "0     600 CHERRY AVE  38.027120 -78.491244  \n",
       "1    1100 EMMET ST N  38.051639 -78.501523  \n",
       "2   2100 BARRACKS RD  38.052787 -78.499113  \n",
       "3     1100 5TH ST SW  38.017130 -78.497806  \n",
       "4  300 13TH ST NW, 1        NaN        NaN  "
      ]
     },
     "execution_count": 9,
     "metadata": {},
     "output_type": "execute_result"
    }
   ],
   "source": [
    "# Combine BlockNumber and StreetName into a full address string\n",
    "df['FullStreet'] = df['BlockNumber'].astype(str) + \" \" + df['StreetName']\n",
    "\n",
    "# --- Step 1: Setup the Google Maps Client and Cache ---\n",
    "gmaps = googlemaps.Client(key=GOOGLE_API_KEY)\n",
    "\n",
    "# Try to load cached geocoding results if available.\n",
    "try:\n",
    "    with open(\"geocode_cache_google.pkl\", \"rb\") as f:\n",
    "        street_coords = pickle.load(f)\n",
    "    print(\"Loaded geocode cache.\")\n",
    "except FileNotFoundError:\n",
    "    street_coords = {}\n",
    "    print(\"No cache found; starting fresh.\")\n",
    "\n",
    "def geocode_address(address):\n",
    "    try:\n",
    "        # Append city and state to help geocoding\n",
    "        result = gmaps.geocode(f\"{address}, Charlottesville, VA\")\n",
    "        if result:\n",
    "            lat = result[0]['geometry']['location']['lat']\n",
    "            lon = result[0]['geometry']['location']['lng']\n",
    "            return lat, lon\n",
    "    except Exception as e:\n",
    "        print(f\"Error geocoding {address}: {e}\")\n",
    "    return None, None\n",
    "\n",
    "# --- Step 2: Geocode Only New Addresses ---\n",
    "unique_addresses = df['FullStreet'].unique()\n",
    "for address in unique_addresses:\n",
    "    if address not in street_coords:\n",
    "        lat, lon = geocode_address(address)\n",
    "        street_coords[address] = (lat, lon)\n",
    "        print(f\"Geocoded {address}: {lat}, {lon}\")\n",
    "\n",
    "# Save the updated cache to disk.\n",
    "with open(\"geocode_cache_google.pkl\", \"wb\") as f:\n",
    "    pickle.dump(street_coords, f)\n",
    "    print(\"Geocode cache updated and saved.\")\n",
    "\n",
    "# --- Step 3: Map Coordinates Back to DataFrame ---\n",
    "df['lat'] = df['FullStreet'].map(lambda s: street_coords.get(s, (None, None))[0])\n",
    "df['lon'] = df['FullStreet'].map(lambda s: street_coords.get(s, (None, None))[1])\n",
    "\n",
    "df.head()"
   ]
  },
  {
   "cell_type": "markdown",
   "id": "0b4b6934",
   "metadata": {
    "papermill": {
     "duration": 0.004409,
     "end_time": "2025-06-22T01:12:04.655192",
     "exception": false,
     "start_time": "2025-06-22T01:12:04.650783",
     "status": "completed"
    },
    "tags": []
   },
   "source": [
    "### Neighborhood"
   ]
  },
  {
   "cell_type": "code",
   "execution_count": 10,
   "id": "a8738e29",
   "metadata": {
    "execution": {
     "iopub.execute_input": "2025-06-22T01:12:04.664772Z",
     "iopub.status.busy": "2025-06-22T01:12:04.664523Z",
     "iopub.status.idle": "2025-06-22T01:12:05.389798Z",
     "shell.execute_reply": "2025-06-22T01:12:05.389158Z"
    },
    "papermill": {
     "duration": 0.731313,
     "end_time": "2025-06-22T01:12:05.390815",
     "exception": false,
     "start_time": "2025-06-22T01:12:04.659502",
     "status": "completed"
    },
    "tags": []
   },
   "outputs": [
    {
     "name": "stdout",
     "output_type": "stream",
     "text": [
      "Loaded neighborhood cache.\n"
     ]
    },
    {
     "name": "stdout",
     "output_type": "stream",
     "text": [
      "Error getting neighborhood for nan, nan: HTTP Error: 400\n",
      "Error getting neighborhood for nan, nan: HTTP Error: 400\n",
      "Error getting neighborhood for nan, nan: HTTP Error: 400\n",
      "Error getting neighborhood for nan, nan: HTTP Error: 400\n",
      "Error getting neighborhood for nan, nan: HTTP Error: 400\n"
     ]
    },
    {
     "name": "stdout",
     "output_type": "stream",
     "text": [
      "Error getting neighborhood for nan, nan: HTTP Error: 400\n",
      "Error getting neighborhood for nan, nan: HTTP Error: 400\n",
      "Error getting neighborhood for nan, nan: HTTP Error: 400\n",
      "Error getting neighborhood for nan, nan: HTTP Error: 400\n",
      "Error getting neighborhood for nan, nan: HTTP Error: 400\n",
      "Error getting neighborhood for nan, nan: HTTP Error: 400\n"
     ]
    },
    {
     "name": "stdout",
     "output_type": "stream",
     "text": [
      "Error getting neighborhood for nan, nan: HTTP Error: 400\n",
      "Error getting neighborhood for nan, nan: HTTP Error: 400\n",
      "Error getting neighborhood for nan, nan: HTTP Error: 400\n",
      "Error getting neighborhood for nan, nan: HTTP Error: 400\n",
      "Error getting neighborhood for nan, nan: HTTP Error: 400\n",
      "Error getting neighborhood for nan, nan: HTTP Error: 400\n"
     ]
    },
    {
     "name": "stdout",
     "output_type": "stream",
     "text": [
      "Error getting neighborhood for nan, nan: HTTP Error: 400\n",
      "Error getting neighborhood for nan, nan: HTTP Error: 400\n",
      "Error getting neighborhood for nan, nan: HTTP Error: 400\n",
      "Error getting neighborhood for nan, nan: HTTP Error: 400\n",
      "Error getting neighborhood for nan, nan: HTTP Error: 400\n",
      "Error getting neighborhood for nan, nan: HTTP Error: 400\n",
      "Error getting neighborhood for nan, nan: HTTP Error: 400\n"
     ]
    },
    {
     "name": "stdout",
     "output_type": "stream",
     "text": [
      "Error getting neighborhood for nan, nan: HTTP Error: 400\n"
     ]
    },
    {
     "data": {
      "text/html": [
       "<div>\n",
       "<style scoped>\n",
       "    .dataframe tbody tr th:only-of-type {\n",
       "        vertical-align: middle;\n",
       "    }\n",
       "\n",
       "    .dataframe tbody tr th {\n",
       "        vertical-align: top;\n",
       "    }\n",
       "\n",
       "    .dataframe thead th {\n",
       "        text-align: right;\n",
       "    }\n",
       "</style>\n",
       "<table border=\"1\" class=\"dataframe\">\n",
       "  <thead>\n",
       "    <tr style=\"text-align: right;\">\n",
       "      <th></th>\n",
       "      <th>RecordID</th>\n",
       "      <th>Offense</th>\n",
       "      <th>IncidentID</th>\n",
       "      <th>BlockNumber</th>\n",
       "      <th>StreetName</th>\n",
       "      <th>Agency</th>\n",
       "      <th>HourReported</th>\n",
       "      <th>ReportingOfficer</th>\n",
       "      <th>Date</th>\n",
       "      <th>DateString</th>\n",
       "      <th>DayOfWeek</th>\n",
       "      <th>Weekend</th>\n",
       "      <th>Season</th>\n",
       "      <th>HourAMPM</th>\n",
       "      <th>TimeOfDay</th>\n",
       "      <th>FullStreet</th>\n",
       "      <th>lat</th>\n",
       "      <th>lon</th>\n",
       "      <th>neighborhood</th>\n",
       "    </tr>\n",
       "  </thead>\n",
       "  <tbody>\n",
       "    <tr>\n",
       "      <th>0</th>\n",
       "      <td>1</td>\n",
       "      <td>Lost/FoundProperty</td>\n",
       "      <td>202500021152</td>\n",
       "      <td>600</td>\n",
       "      <td>CHERRY AVE</td>\n",
       "      <td>CPD</td>\n",
       "      <td>1710</td>\n",
       "      <td>Reed, Danielle</td>\n",
       "      <td>2025-06-19 17:10:46</td>\n",
       "      <td>2025-06-19 05:10:46 PM</td>\n",
       "      <td>Thursday</td>\n",
       "      <td>False</td>\n",
       "      <td>Spring</td>\n",
       "      <td>05:10 PM</td>\n",
       "      <td>Evening</td>\n",
       "      <td>600 CHERRY AVE</td>\n",
       "      <td>38.027120</td>\n",
       "      <td>-78.491244</td>\n",
       "      <td>Fifeville</td>\n",
       "    </tr>\n",
       "    <tr>\n",
       "      <th>1</th>\n",
       "      <td>2</td>\n",
       "      <td>Hit and Run</td>\n",
       "      <td>202500021144</td>\n",
       "      <td>1100</td>\n",
       "      <td>EMMET ST N</td>\n",
       "      <td>CPD</td>\n",
       "      <td>1625</td>\n",
       "      <td>Rigsby, Lloyd</td>\n",
       "      <td>2025-06-19 16:25:14</td>\n",
       "      <td>2025-06-19 04:25:14 PM</td>\n",
       "      <td>Thursday</td>\n",
       "      <td>False</td>\n",
       "      <td>Spring</td>\n",
       "      <td>04:25 PM</td>\n",
       "      <td>Afternoon</td>\n",
       "      <td>1100 EMMET ST N</td>\n",
       "      <td>38.051639</td>\n",
       "      <td>-78.501523</td>\n",
       "      <td>Barracks Road</td>\n",
       "    </tr>\n",
       "    <tr>\n",
       "      <th>2</th>\n",
       "      <td>3</td>\n",
       "      <td>Larceny - Shoplifitng</td>\n",
       "      <td>202500021138</td>\n",
       "      <td>2100</td>\n",
       "      <td>BARRACKS RD</td>\n",
       "      <td>CPD</td>\n",
       "      <td>1555</td>\n",
       "      <td>Rigsby, Lloyd</td>\n",
       "      <td>2025-06-19 15:55:52</td>\n",
       "      <td>2025-06-19 03:55:52 PM</td>\n",
       "      <td>Thursday</td>\n",
       "      <td>False</td>\n",
       "      <td>Spring</td>\n",
       "      <td>03:55 PM</td>\n",
       "      <td>Afternoon</td>\n",
       "      <td>2100 BARRACKS RD</td>\n",
       "      <td>38.052787</td>\n",
       "      <td>-78.499113</td>\n",
       "      <td>Barracks Road</td>\n",
       "    </tr>\n",
       "    <tr>\n",
       "      <th>3</th>\n",
       "      <td>4</td>\n",
       "      <td>Larceny - Shoplifitng</td>\n",
       "      <td>202500021130</td>\n",
       "      <td>1100</td>\n",
       "      <td>5TH ST SW</td>\n",
       "      <td>CPD</td>\n",
       "      <td>1433</td>\n",
       "      <td>Turner, Devon</td>\n",
       "      <td>2025-06-19 14:33:16</td>\n",
       "      <td>2025-06-19 02:33:16 PM</td>\n",
       "      <td>Thursday</td>\n",
       "      <td>False</td>\n",
       "      <td>Spring</td>\n",
       "      <td>02:33 PM</td>\n",
       "      <td>Afternoon</td>\n",
       "      <td>1100 5TH ST SW</td>\n",
       "      <td>38.017130</td>\n",
       "      <td>-78.497806</td>\n",
       "      <td>Johnson Village</td>\n",
       "    </tr>\n",
       "    <tr>\n",
       "      <th>4</th>\n",
       "      <td>5</td>\n",
       "      <td>Assault Simple</td>\n",
       "      <td>202500021126</td>\n",
       "      <td>300</td>\n",
       "      <td>13TH ST NW, 1</td>\n",
       "      <td>CPD</td>\n",
       "      <td>1352</td>\n",
       "      <td>Kinney, Dylan</td>\n",
       "      <td>2025-06-19 13:52:30</td>\n",
       "      <td>2025-06-19 01:52:30 PM</td>\n",
       "      <td>Thursday</td>\n",
       "      <td>False</td>\n",
       "      <td>Spring</td>\n",
       "      <td>01:52 PM</td>\n",
       "      <td>Afternoon</td>\n",
       "      <td>300 13TH ST NW, 1</td>\n",
       "      <td>NaN</td>\n",
       "      <td>NaN</td>\n",
       "      <td>N/A</td>\n",
       "    </tr>\n",
       "  </tbody>\n",
       "</table>\n",
       "</div>"
      ],
      "text/plain": [
       "   RecordID                Offense    IncidentID BlockNumber     StreetName  \\\n",
       "0         1     Lost/FoundProperty  202500021152         600     CHERRY AVE   \n",
       "1         2            Hit and Run  202500021144        1100     EMMET ST N   \n",
       "2         3  Larceny - Shoplifitng  202500021138        2100    BARRACKS RD   \n",
       "3         4  Larceny - Shoplifitng  202500021130        1100      5TH ST SW   \n",
       "4         5         Assault Simple  202500021126         300  13TH ST NW, 1   \n",
       "\n",
       "  Agency HourReported ReportingOfficer                Date  \\\n",
       "0    CPD         1710   Reed, Danielle 2025-06-19 17:10:46   \n",
       "1    CPD         1625    Rigsby, Lloyd 2025-06-19 16:25:14   \n",
       "2    CPD         1555    Rigsby, Lloyd 2025-06-19 15:55:52   \n",
       "3    CPD         1433    Turner, Devon 2025-06-19 14:33:16   \n",
       "4    CPD         1352    Kinney, Dylan 2025-06-19 13:52:30   \n",
       "\n",
       "               DateString DayOfWeek  Weekend  Season  HourAMPM  TimeOfDay  \\\n",
       "0  2025-06-19 05:10:46 PM  Thursday    False  Spring  05:10 PM    Evening   \n",
       "1  2025-06-19 04:25:14 PM  Thursday    False  Spring  04:25 PM  Afternoon   \n",
       "2  2025-06-19 03:55:52 PM  Thursday    False  Spring  03:55 PM  Afternoon   \n",
       "3  2025-06-19 02:33:16 PM  Thursday    False  Spring  02:33 PM  Afternoon   \n",
       "4  2025-06-19 01:52:30 PM  Thursday    False  Spring  01:52 PM  Afternoon   \n",
       "\n",
       "          FullStreet        lat        lon     neighborhood  \n",
       "0     600 CHERRY AVE  38.027120 -78.491244        Fifeville  \n",
       "1    1100 EMMET ST N  38.051639 -78.501523    Barracks Road  \n",
       "2   2100 BARRACKS RD  38.052787 -78.499113    Barracks Road  \n",
       "3     1100 5TH ST SW  38.017130 -78.497806  Johnson Village  \n",
       "4  300 13TH ST NW, 1        NaN        NaN              N/A  "
      ]
     },
     "execution_count": 10,
     "metadata": {},
     "output_type": "execute_result"
    }
   ],
   "source": [
    "# Initialize the Google Maps client.\n",
    "gmaps = googlemaps.Client(key=GOOGLE_API_KEY)\n",
    "\n",
    "# Try to load a persistent neighborhood cache if available.\n",
    "try:\n",
    "    with open(\"neighborhood_cache.pkl\", \"rb\") as f:\n",
    "        neighborhood_cache = pickle.load(f)\n",
    "    print(\"Loaded neighborhood cache.\")\n",
    "except FileNotFoundError:\n",
    "    neighborhood_cache = {}\n",
    "    print(\"No neighborhood cache found; starting fresh.\")\n",
    "\n",
    "def get_neighborhood(lat, lon):\n",
    "    \"\"\"\n",
    "    Reverse geocodes a latitude and longitude to retrieve the neighborhood.\n",
    "    Caches results to speed up subsequent lookups.\n",
    "    \"\"\"\n",
    "    key = (lat, lon)\n",
    "    if key in neighborhood_cache:\n",
    "        return neighborhood_cache[key]\n",
    "    \n",
    "    try:\n",
    "        result = gmaps.reverse_geocode((lat, lon))\n",
    "        if result:\n",
    "            # Look for the 'neighborhood' component in the first result.\n",
    "            for component in result[0]['address_components']:\n",
    "                if 'neighborhood' in component['types']:\n",
    "                    neighborhood = component['long_name']\n",
    "                    neighborhood_cache[key] = neighborhood\n",
    "                    return neighborhood\n",
    "            # If no neighborhood is found, return \"N/A\"\n",
    "            neighborhood_cache[key] = \"N/A\"\n",
    "            return \"N/A\"\n",
    "    except Exception as e:\n",
    "        print(f\"Error getting neighborhood for {lat}, {lon}: {e}\")\n",
    "        return \"N/A\"\n",
    "    \n",
    "    # Pause to respect usage limits.\n",
    "    time.sleep(1)\n",
    "\n",
    "# Example usage: Apply to your DataFrame 'df' that already has 'lat' and 'lon' columns.\n",
    "df['neighborhood'] = df.apply(lambda row: get_neighborhood(row['lat'], row['lon']), axis=1)\n",
    "\n",
    "# Save the updated neighborhood cache.\n",
    "with open(\"neighborhood_cache.pkl\", \"wb\") as f:\n",
    "    pickle.dump(neighborhood_cache, f)\n",
    "\n",
    "df.head()\n"
   ]
  },
  {
   "cell_type": "markdown",
   "id": "f6b35cd3",
   "metadata": {
    "papermill": {
     "duration": 0.004796,
     "end_time": "2025-06-22T01:12:05.400814",
     "exception": false,
     "start_time": "2025-06-22T01:12:05.396018",
     "status": "completed"
    },
    "tags": []
   },
   "source": [
    "### Zip"
   ]
  },
  {
   "cell_type": "code",
   "execution_count": 11,
   "id": "ed898e20",
   "metadata": {
    "execution": {
     "iopub.execute_input": "2025-06-22T01:12:05.411193Z",
     "iopub.status.busy": "2025-06-22T01:12:05.410984Z",
     "iopub.status.idle": "2025-06-22T01:12:30.689556Z",
     "shell.execute_reply": "2025-06-22T01:12:30.688836Z"
    },
    "papermill": {
     "duration": 25.284948,
     "end_time": "2025-06-22T01:12:30.690565",
     "exception": false,
     "start_time": "2025-06-22T01:12:05.405617",
     "status": "completed"
    },
    "tags": []
   },
   "outputs": [
    {
     "name": "stdout",
     "output_type": "stream",
     "text": [
      "Loaded zip cache.\n",
      "Error getting ZIP for nan, nan: Must be a coordinate pair or Point\n"
     ]
    },
    {
     "name": "stdout",
     "output_type": "stream",
     "text": [
      "Error getting ZIP for nan, nan: Must be a coordinate pair or Point\n"
     ]
    },
    {
     "name": "stdout",
     "output_type": "stream",
     "text": [
      "Error getting ZIP for nan, nan: Must be a coordinate pair or Point\n"
     ]
    },
    {
     "name": "stdout",
     "output_type": "stream",
     "text": [
      "Error getting ZIP for nan, nan: Must be a coordinate pair or Point\n"
     ]
    },
    {
     "name": "stdout",
     "output_type": "stream",
     "text": [
      "Error getting ZIP for nan, nan: Must be a coordinate pair or Point\n"
     ]
    },
    {
     "name": "stdout",
     "output_type": "stream",
     "text": [
      "Error getting ZIP for nan, nan: Must be a coordinate pair or Point\n"
     ]
    },
    {
     "name": "stdout",
     "output_type": "stream",
     "text": [
      "Error getting ZIP for nan, nan: Must be a coordinate pair or Point\n"
     ]
    },
    {
     "name": "stdout",
     "output_type": "stream",
     "text": [
      "Error getting ZIP for nan, nan: Must be a coordinate pair or Point\n"
     ]
    },
    {
     "name": "stdout",
     "output_type": "stream",
     "text": [
      "Error getting ZIP for nan, nan: Must be a coordinate pair or Point\n"
     ]
    },
    {
     "name": "stdout",
     "output_type": "stream",
     "text": [
      "Error getting ZIP for nan, nan: Must be a coordinate pair or Point\n"
     ]
    },
    {
     "name": "stdout",
     "output_type": "stream",
     "text": [
      "Error getting ZIP for nan, nan: Must be a coordinate pair or Point\n"
     ]
    },
    {
     "name": "stdout",
     "output_type": "stream",
     "text": [
      "Error getting ZIP for nan, nan: Must be a coordinate pair or Point\n"
     ]
    },
    {
     "name": "stdout",
     "output_type": "stream",
     "text": [
      "Error getting ZIP for nan, nan: Must be a coordinate pair or Point\n"
     ]
    },
    {
     "name": "stdout",
     "output_type": "stream",
     "text": [
      "Error getting ZIP for nan, nan: Must be a coordinate pair or Point\n"
     ]
    },
    {
     "name": "stdout",
     "output_type": "stream",
     "text": [
      "Error getting ZIP for nan, nan: Must be a coordinate pair or Point\n"
     ]
    },
    {
     "name": "stdout",
     "output_type": "stream",
     "text": [
      "Error getting ZIP for nan, nan: Must be a coordinate pair or Point\n"
     ]
    },
    {
     "name": "stdout",
     "output_type": "stream",
     "text": [
      "Error getting ZIP for nan, nan: Must be a coordinate pair or Point\n"
     ]
    },
    {
     "name": "stdout",
     "output_type": "stream",
     "text": [
      "Error getting ZIP for nan, nan: Must be a coordinate pair or Point\n"
     ]
    },
    {
     "name": "stdout",
     "output_type": "stream",
     "text": [
      "Error getting ZIP for nan, nan: Must be a coordinate pair or Point\n"
     ]
    },
    {
     "name": "stdout",
     "output_type": "stream",
     "text": [
      "Error getting ZIP for nan, nan: Must be a coordinate pair or Point\n"
     ]
    },
    {
     "name": "stdout",
     "output_type": "stream",
     "text": [
      "Error getting ZIP for nan, nan: Must be a coordinate pair or Point\n"
     ]
    },
    {
     "name": "stdout",
     "output_type": "stream",
     "text": [
      "Error getting ZIP for nan, nan: Must be a coordinate pair or Point\n"
     ]
    },
    {
     "name": "stdout",
     "output_type": "stream",
     "text": [
      "Error getting ZIP for nan, nan: Must be a coordinate pair or Point\n"
     ]
    },
    {
     "name": "stdout",
     "output_type": "stream",
     "text": [
      "Error getting ZIP for nan, nan: Must be a coordinate pair or Point\n"
     ]
    },
    {
     "name": "stdout",
     "output_type": "stream",
     "text": [
      "Error getting ZIP for nan, nan: Must be a coordinate pair or Point\n"
     ]
    },
    {
     "data": {
      "text/html": [
       "<div>\n",
       "<style scoped>\n",
       "    .dataframe tbody tr th:only-of-type {\n",
       "        vertical-align: middle;\n",
       "    }\n",
       "\n",
       "    .dataframe tbody tr th {\n",
       "        vertical-align: top;\n",
       "    }\n",
       "\n",
       "    .dataframe thead th {\n",
       "        text-align: right;\n",
       "    }\n",
       "</style>\n",
       "<table border=\"1\" class=\"dataframe\">\n",
       "  <thead>\n",
       "    <tr style=\"text-align: right;\">\n",
       "      <th></th>\n",
       "      <th>RecordID</th>\n",
       "      <th>Offense</th>\n",
       "      <th>IncidentID</th>\n",
       "      <th>BlockNumber</th>\n",
       "      <th>StreetName</th>\n",
       "      <th>Agency</th>\n",
       "      <th>HourReported</th>\n",
       "      <th>ReportingOfficer</th>\n",
       "      <th>Date</th>\n",
       "      <th>DateString</th>\n",
       "      <th>DayOfWeek</th>\n",
       "      <th>Weekend</th>\n",
       "      <th>Season</th>\n",
       "      <th>HourAMPM</th>\n",
       "      <th>TimeOfDay</th>\n",
       "      <th>FullStreet</th>\n",
       "      <th>lat</th>\n",
       "      <th>lon</th>\n",
       "      <th>neighborhood</th>\n",
       "      <th>zip</th>\n",
       "    </tr>\n",
       "  </thead>\n",
       "  <tbody>\n",
       "    <tr>\n",
       "      <th>0</th>\n",
       "      <td>1</td>\n",
       "      <td>Lost/FoundProperty</td>\n",
       "      <td>202500021152</td>\n",
       "      <td>600</td>\n",
       "      <td>CHERRY AVE</td>\n",
       "      <td>CPD</td>\n",
       "      <td>1710</td>\n",
       "      <td>Reed, Danielle</td>\n",
       "      <td>2025-06-19 17:10:46</td>\n",
       "      <td>2025-06-19 05:10:46 PM</td>\n",
       "      <td>Thursday</td>\n",
       "      <td>False</td>\n",
       "      <td>Spring</td>\n",
       "      <td>05:10 PM</td>\n",
       "      <td>Evening</td>\n",
       "      <td>600 CHERRY AVE</td>\n",
       "      <td>38.027120</td>\n",
       "      <td>-78.491244</td>\n",
       "      <td>Fifeville</td>\n",
       "      <td>22903</td>\n",
       "    </tr>\n",
       "    <tr>\n",
       "      <th>1</th>\n",
       "      <td>2</td>\n",
       "      <td>Hit and Run</td>\n",
       "      <td>202500021144</td>\n",
       "      <td>1100</td>\n",
       "      <td>EMMET ST N</td>\n",
       "      <td>CPD</td>\n",
       "      <td>1625</td>\n",
       "      <td>Rigsby, Lloyd</td>\n",
       "      <td>2025-06-19 16:25:14</td>\n",
       "      <td>2025-06-19 04:25:14 PM</td>\n",
       "      <td>Thursday</td>\n",
       "      <td>False</td>\n",
       "      <td>Spring</td>\n",
       "      <td>04:25 PM</td>\n",
       "      <td>Afternoon</td>\n",
       "      <td>1100 EMMET ST N</td>\n",
       "      <td>38.051639</td>\n",
       "      <td>-78.501523</td>\n",
       "      <td>Barracks Road</td>\n",
       "      <td>22901</td>\n",
       "    </tr>\n",
       "    <tr>\n",
       "      <th>2</th>\n",
       "      <td>3</td>\n",
       "      <td>Larceny - Shoplifitng</td>\n",
       "      <td>202500021138</td>\n",
       "      <td>2100</td>\n",
       "      <td>BARRACKS RD</td>\n",
       "      <td>CPD</td>\n",
       "      <td>1555</td>\n",
       "      <td>Rigsby, Lloyd</td>\n",
       "      <td>2025-06-19 15:55:52</td>\n",
       "      <td>2025-06-19 03:55:52 PM</td>\n",
       "      <td>Thursday</td>\n",
       "      <td>False</td>\n",
       "      <td>Spring</td>\n",
       "      <td>03:55 PM</td>\n",
       "      <td>Afternoon</td>\n",
       "      <td>2100 BARRACKS RD</td>\n",
       "      <td>38.052787</td>\n",
       "      <td>-78.499113</td>\n",
       "      <td>Barracks Road</td>\n",
       "      <td>22901</td>\n",
       "    </tr>\n",
       "    <tr>\n",
       "      <th>3</th>\n",
       "      <td>4</td>\n",
       "      <td>Larceny - Shoplifitng</td>\n",
       "      <td>202500021130</td>\n",
       "      <td>1100</td>\n",
       "      <td>5TH ST SW</td>\n",
       "      <td>CPD</td>\n",
       "      <td>1433</td>\n",
       "      <td>Turner, Devon</td>\n",
       "      <td>2025-06-19 14:33:16</td>\n",
       "      <td>2025-06-19 02:33:16 PM</td>\n",
       "      <td>Thursday</td>\n",
       "      <td>False</td>\n",
       "      <td>Spring</td>\n",
       "      <td>02:33 PM</td>\n",
       "      <td>Afternoon</td>\n",
       "      <td>1100 5TH ST SW</td>\n",
       "      <td>38.017130</td>\n",
       "      <td>-78.497806</td>\n",
       "      <td>Johnson Village</td>\n",
       "      <td>22903</td>\n",
       "    </tr>\n",
       "    <tr>\n",
       "      <th>4</th>\n",
       "      <td>5</td>\n",
       "      <td>Assault Simple</td>\n",
       "      <td>202500021126</td>\n",
       "      <td>300</td>\n",
       "      <td>13TH ST NW, 1</td>\n",
       "      <td>CPD</td>\n",
       "      <td>1352</td>\n",
       "      <td>Kinney, Dylan</td>\n",
       "      <td>2025-06-19 13:52:30</td>\n",
       "      <td>2025-06-19 01:52:30 PM</td>\n",
       "      <td>Thursday</td>\n",
       "      <td>False</td>\n",
       "      <td>Spring</td>\n",
       "      <td>01:52 PM</td>\n",
       "      <td>Afternoon</td>\n",
       "      <td>300 13TH ST NW, 1</td>\n",
       "      <td>NaN</td>\n",
       "      <td>NaN</td>\n",
       "      <td>N/A</td>\n",
       "      <td>N/A</td>\n",
       "    </tr>\n",
       "  </tbody>\n",
       "</table>\n",
       "</div>"
      ],
      "text/plain": [
       "   RecordID                Offense    IncidentID BlockNumber     StreetName  \\\n",
       "0         1     Lost/FoundProperty  202500021152         600     CHERRY AVE   \n",
       "1         2            Hit and Run  202500021144        1100     EMMET ST N   \n",
       "2         3  Larceny - Shoplifitng  202500021138        2100    BARRACKS RD   \n",
       "3         4  Larceny - Shoplifitng  202500021130        1100      5TH ST SW   \n",
       "4         5         Assault Simple  202500021126         300  13TH ST NW, 1   \n",
       "\n",
       "  Agency HourReported ReportingOfficer                Date  \\\n",
       "0    CPD         1710   Reed, Danielle 2025-06-19 17:10:46   \n",
       "1    CPD         1625    Rigsby, Lloyd 2025-06-19 16:25:14   \n",
       "2    CPD         1555    Rigsby, Lloyd 2025-06-19 15:55:52   \n",
       "3    CPD         1433    Turner, Devon 2025-06-19 14:33:16   \n",
       "4    CPD         1352    Kinney, Dylan 2025-06-19 13:52:30   \n",
       "\n",
       "               DateString DayOfWeek  Weekend  Season  HourAMPM  TimeOfDay  \\\n",
       "0  2025-06-19 05:10:46 PM  Thursday    False  Spring  05:10 PM    Evening   \n",
       "1  2025-06-19 04:25:14 PM  Thursday    False  Spring  04:25 PM  Afternoon   \n",
       "2  2025-06-19 03:55:52 PM  Thursday    False  Spring  03:55 PM  Afternoon   \n",
       "3  2025-06-19 02:33:16 PM  Thursday    False  Spring  02:33 PM  Afternoon   \n",
       "4  2025-06-19 01:52:30 PM  Thursday    False  Spring  01:52 PM  Afternoon   \n",
       "\n",
       "          FullStreet        lat        lon     neighborhood    zip  \n",
       "0     600 CHERRY AVE  38.027120 -78.491244        Fifeville  22903  \n",
       "1    1100 EMMET ST N  38.051639 -78.501523    Barracks Road  22901  \n",
       "2   2100 BARRACKS RD  38.052787 -78.499113    Barracks Road  22901  \n",
       "3     1100 5TH ST SW  38.017130 -78.497806  Johnson Village  22903  \n",
       "4  300 13TH ST NW, 1        NaN        NaN              N/A    N/A  "
      ]
     },
     "execution_count": 11,
     "metadata": {},
     "output_type": "execute_result"
    }
   ],
   "source": [
    "# Initialize the geocoder.\n",
    "geolocator = Nominatim(user_agent=\"zip_lookup\")\n",
    "\n",
    "# Try to load a persistent ZIP cache if available.\n",
    "try:\n",
    "    with open(\"zip_cache.pkl\", \"rb\") as f:\n",
    "        zip_cache = pickle.load(f)\n",
    "    print(\"Loaded zip cache.\")\n",
    "except FileNotFoundError:\n",
    "    zip_cache = {}\n",
    "    print(\"No zip cache found; starting fresh.\")\n",
    "\n",
    "def get_zip(lat, lon):\n",
    "    \"\"\"\n",
    "    Reverse geocodes a latitude and longitude to retrieve the ZIP code.\n",
    "    Caches results to speed up subsequent lookups.\n",
    "    \"\"\"\n",
    "    key = (lat, lon)\n",
    "    if key in zip_cache:\n",
    "        return zip_cache[key]\n",
    "    \n",
    "    try:\n",
    "        location = geolocator.reverse((lat, lon), exactly_one=True, timeout=10)\n",
    "        address = location.raw.get('address', {})\n",
    "        postal_code = address.get('postcode', \"N/A\")\n",
    "    except Exception as e:\n",
    "        print(f\"Error getting ZIP for {lat}, {lon}: {e}\")\n",
    "        postal_code = \"N/A\"\n",
    "    \n",
    "    zip_cache[key] = postal_code\n",
    "    # Pause to respect the usage policy.\n",
    "    time.sleep(1)\n",
    "    return postal_code\n",
    "\n",
    "# Apply the function to each row in the DataFrame.\n",
    "df['zip'] = df.apply(lambda row: get_zip(row['lat'], row['lon']), axis=1)\n",
    "\n",
    "# Save the updated ZIP cache.\n",
    "with open(\"zip_cache.pkl\", \"wb\") as f:\n",
    "    pickle.dump(zip_cache, f)\n",
    "\n",
    "df.head()\n"
   ]
  },
  {
   "cell_type": "code",
   "execution_count": 12,
   "id": "d0c28ee3",
   "metadata": {
    "execution": {
     "iopub.execute_input": "2025-06-22T01:12:30.703932Z",
     "iopub.status.busy": "2025-06-22T01:12:30.703728Z",
     "iopub.status.idle": "2025-06-22T01:12:30.731176Z",
     "shell.execute_reply": "2025-06-22T01:12:30.730628Z"
    },
    "papermill": {
     "duration": 0.035113,
     "end_time": "2025-06-22T01:12:30.732164",
     "exception": false,
     "start_time": "2025-06-22T01:12:30.697051",
     "status": "completed"
    },
    "tags": []
   },
   "outputs": [
    {
     "name": "stdout",
     "output_type": "stream",
     "text": [
      "                  MissingCount  MissingPercentage\n",
      "RecordID                     0               0.00\n",
      "Offense                      0               0.00\n",
      "IncidentID                   0               0.00\n",
      "BlockNumber                  0               0.00\n",
      "StreetName                   0               0.00\n",
      "Agency                       0               0.00\n",
      "HourReported                 0               0.00\n",
      "ReportingOfficer            17               0.07\n",
      "Date                         0               0.00\n",
      "DateString                   0               0.00\n",
      "DayOfWeek                    0               0.00\n",
      "Weekend                      0               0.00\n",
      "Season                       0               0.00\n",
      "HourAMPM                     0               0.00\n",
      "TimeOfDay                    0               0.00\n",
      "FullStreet                   0               0.00\n",
      "lat                         25               0.10\n",
      "lon                         25               0.10\n",
      "neighborhood                 0               0.00\n",
      "zip                          0               0.00\n"
     ]
    }
   ],
   "source": [
    "missing_info = missing_percentage(df)\n",
    "print(missing_info)\n"
   ]
  },
  {
   "cell_type": "code",
   "execution_count": 13,
   "id": "db0f0b37",
   "metadata": {
    "execution": {
     "iopub.execute_input": "2025-06-22T01:12:30.745749Z",
     "iopub.status.busy": "2025-06-22T01:12:30.745246Z",
     "iopub.status.idle": "2025-06-22T01:12:30.773376Z",
     "shell.execute_reply": "2025-06-22T01:12:30.772712Z"
    },
    "papermill": {
     "duration": 0.036046,
     "end_time": "2025-06-22T01:12:30.774527",
     "exception": false,
     "start_time": "2025-06-22T01:12:30.738481",
     "status": "completed"
    },
    "tags": []
   },
   "outputs": [
    {
     "name": "stdout",
     "output_type": "stream",
     "text": [
      "<class 'pandas.core.frame.DataFrame'>\n",
      "RangeIndex: 25532 entries, 0 to 25531\n",
      "Data columns (total 20 columns):\n",
      " #   Column            Non-Null Count  Dtype         \n",
      "---  ------            --------------  -----         \n",
      " 0   RecordID          25532 non-null  int64         \n",
      " 1   Offense           25532 non-null  object        \n",
      " 2   IncidentID        25532 non-null  object        \n",
      " 3   BlockNumber       25532 non-null  object        \n",
      " 4   StreetName        25532 non-null  object        \n",
      " 5   Agency            25532 non-null  object        \n",
      " 6   HourReported      25532 non-null  object        \n",
      " 7   ReportingOfficer  25515 non-null  object        \n",
      " 8   Date              25532 non-null  datetime64[ns]\n",
      " 9   DateString        25532 non-null  object        \n",
      " 10  DayOfWeek         25532 non-null  object        \n",
      " 11  Weekend           25532 non-null  bool          \n",
      " 12  Season            25532 non-null  object        \n",
      " 13  HourAMPM          25532 non-null  object        \n",
      " 14  TimeOfDay         25532 non-null  object        \n",
      " 15  FullStreet        25532 non-null  object        \n",
      " 16  lat               25507 non-null  float64       \n",
      " 17  lon               25507 non-null  float64       \n",
      " 18  neighborhood      25532 non-null  object        \n",
      " 19  zip               25532 non-null  object        \n",
      "dtypes: bool(1), datetime64[ns](1), float64(2), int64(1), object(15)\n",
      "memory usage: 3.7+ MB\n"
     ]
    }
   ],
   "source": [
    "df.info()"
   ]
  },
  {
   "cell_type": "code",
   "execution_count": 14,
   "id": "43f3f114",
   "metadata": {
    "execution": {
     "iopub.execute_input": "2025-06-22T01:12:30.788276Z",
     "iopub.status.busy": "2025-06-22T01:12:30.787805Z",
     "iopub.status.idle": "2025-06-22T01:12:30.826879Z",
     "shell.execute_reply": "2025-06-22T01:12:30.826167Z"
    },
    "papermill": {
     "duration": 0.046951,
     "end_time": "2025-06-22T01:12:30.827896",
     "exception": false,
     "start_time": "2025-06-22T01:12:30.780945",
     "status": "completed"
    },
    "tags": []
   },
   "outputs": [
    {
     "data": {
      "text/html": [
       "<div>\n",
       "<style scoped>\n",
       "    .dataframe tbody tr th:only-of-type {\n",
       "        vertical-align: middle;\n",
       "    }\n",
       "\n",
       "    .dataframe tbody tr th {\n",
       "        vertical-align: top;\n",
       "    }\n",
       "\n",
       "    .dataframe thead th {\n",
       "        text-align: right;\n",
       "    }\n",
       "</style>\n",
       "<table border=\"1\" class=\"dataframe\">\n",
       "  <thead>\n",
       "    <tr style=\"text-align: right;\">\n",
       "      <th></th>\n",
       "      <th>RecordID</th>\n",
       "      <th>Offense</th>\n",
       "      <th>IncidentID</th>\n",
       "      <th>Agency</th>\n",
       "      <th>ReportingOfficer</th>\n",
       "      <th>Date</th>\n",
       "      <th>DayOfWeek</th>\n",
       "      <th>Weekend</th>\n",
       "      <th>Season</th>\n",
       "      <th>TimeOfDay</th>\n",
       "      <th>FullStreet</th>\n",
       "      <th>lat</th>\n",
       "      <th>lon</th>\n",
       "      <th>neighborhood</th>\n",
       "      <th>zip</th>\n",
       "    </tr>\n",
       "  </thead>\n",
       "  <tbody>\n",
       "    <tr>\n",
       "      <th>0</th>\n",
       "      <td>1</td>\n",
       "      <td>Lost/FoundProperty</td>\n",
       "      <td>202500021152</td>\n",
       "      <td>CPD</td>\n",
       "      <td>Reed, Danielle</td>\n",
       "      <td>2025-06-19 17:10:46</td>\n",
       "      <td>Thursday</td>\n",
       "      <td>False</td>\n",
       "      <td>Spring</td>\n",
       "      <td>Evening</td>\n",
       "      <td>600 CHERRY AVE</td>\n",
       "      <td>38.02712</td>\n",
       "      <td>-78.491244</td>\n",
       "      <td>Fifeville</td>\n",
       "      <td>22903</td>\n",
       "    </tr>\n",
       "    <tr>\n",
       "      <th>1</th>\n",
       "      <td>2</td>\n",
       "      <td>Hit and Run</td>\n",
       "      <td>202500021144</td>\n",
       "      <td>CPD</td>\n",
       "      <td>Rigsby, Lloyd</td>\n",
       "      <td>2025-06-19 16:25:14</td>\n",
       "      <td>Thursday</td>\n",
       "      <td>False</td>\n",
       "      <td>Spring</td>\n",
       "      <td>Afternoon</td>\n",
       "      <td>1100 EMMET ST N</td>\n",
       "      <td>38.051639</td>\n",
       "      <td>-78.501523</td>\n",
       "      <td>Barracks Road</td>\n",
       "      <td>22901</td>\n",
       "    </tr>\n",
       "    <tr>\n",
       "      <th>2</th>\n",
       "      <td>3</td>\n",
       "      <td>Larceny - Shoplifitng</td>\n",
       "      <td>202500021138</td>\n",
       "      <td>CPD</td>\n",
       "      <td>Rigsby, Lloyd</td>\n",
       "      <td>2025-06-19 15:55:52</td>\n",
       "      <td>Thursday</td>\n",
       "      <td>False</td>\n",
       "      <td>Spring</td>\n",
       "      <td>Afternoon</td>\n",
       "      <td>2100 BARRACKS RD</td>\n",
       "      <td>38.052787</td>\n",
       "      <td>-78.499113</td>\n",
       "      <td>Barracks Road</td>\n",
       "      <td>22901</td>\n",
       "    </tr>\n",
       "    <tr>\n",
       "      <th>3</th>\n",
       "      <td>4</td>\n",
       "      <td>Larceny - Shoplifitng</td>\n",
       "      <td>202500021130</td>\n",
       "      <td>CPD</td>\n",
       "      <td>Turner, Devon</td>\n",
       "      <td>2025-06-19 14:33:16</td>\n",
       "      <td>Thursday</td>\n",
       "      <td>False</td>\n",
       "      <td>Spring</td>\n",
       "      <td>Afternoon</td>\n",
       "      <td>1100 5TH ST SW</td>\n",
       "      <td>38.01713</td>\n",
       "      <td>-78.497806</td>\n",
       "      <td>Johnson Village</td>\n",
       "      <td>22903</td>\n",
       "    </tr>\n",
       "    <tr>\n",
       "      <th>4</th>\n",
       "      <td>5</td>\n",
       "      <td>Assault Simple</td>\n",
       "      <td>202500021126</td>\n",
       "      <td>CPD</td>\n",
       "      <td>Kinney, Dylan</td>\n",
       "      <td>2025-06-19 13:52:30</td>\n",
       "      <td>Thursday</td>\n",
       "      <td>False</td>\n",
       "      <td>Spring</td>\n",
       "      <td>Afternoon</td>\n",
       "      <td>300 13TH ST NW, 1</td>\n",
       "      <td>N/A</td>\n",
       "      <td>N/A</td>\n",
       "      <td>N/A</td>\n",
       "      <td>N/A</td>\n",
       "    </tr>\n",
       "  </tbody>\n",
       "</table>\n",
       "</div>"
      ],
      "text/plain": [
       "   RecordID                Offense    IncidentID Agency ReportingOfficer  \\\n",
       "0         1     Lost/FoundProperty  202500021152    CPD   Reed, Danielle   \n",
       "1         2            Hit and Run  202500021144    CPD    Rigsby, Lloyd   \n",
       "2         3  Larceny - Shoplifitng  202500021138    CPD    Rigsby, Lloyd   \n",
       "3         4  Larceny - Shoplifitng  202500021130    CPD    Turner, Devon   \n",
       "4         5         Assault Simple  202500021126    CPD    Kinney, Dylan   \n",
       "\n",
       "                 Date DayOfWeek  Weekend  Season  TimeOfDay  \\\n",
       "0 2025-06-19 17:10:46  Thursday    False  Spring    Evening   \n",
       "1 2025-06-19 16:25:14  Thursday    False  Spring  Afternoon   \n",
       "2 2025-06-19 15:55:52  Thursday    False  Spring  Afternoon   \n",
       "3 2025-06-19 14:33:16  Thursday    False  Spring  Afternoon   \n",
       "4 2025-06-19 13:52:30  Thursday    False  Spring  Afternoon   \n",
       "\n",
       "          FullStreet        lat        lon     neighborhood    zip  \n",
       "0     600 CHERRY AVE   38.02712 -78.491244        Fifeville  22903  \n",
       "1    1100 EMMET ST N  38.051639 -78.501523    Barracks Road  22901  \n",
       "2   2100 BARRACKS RD  38.052787 -78.499113    Barracks Road  22901  \n",
       "3     1100 5TH ST SW   38.01713 -78.497806  Johnson Village  22903  \n",
       "4  300 13TH ST NW, 1        N/A        N/A              N/A    N/A  "
      ]
     },
     "execution_count": 14,
     "metadata": {},
     "output_type": "execute_result"
    }
   ],
   "source": [
    "# Now drop the original BlockNumber and StreetName columns\n",
    "df.drop(columns=['BlockNumber', 'StreetName','HourAMPM','HourReported','DateString'], inplace=True)\n",
    "df[\"zip\"] = df[\"zip\"].astype(str)\n",
    "\n",
    "# Fill all missing values in the DataFrame with \"N/A\"\n",
    "df.replace({None: \"N/A\", np.nan: \"N/A\", \"\": \"N/A\"}, inplace=True)\n",
    "df.head()"
   ]
  },
  {
   "cell_type": "code",
   "execution_count": 15,
   "id": "e5082053",
   "metadata": {
    "execution": {
     "iopub.execute_input": "2025-06-22T01:12:30.842313Z",
     "iopub.status.busy": "2025-06-22T01:12:30.841929Z",
     "iopub.status.idle": "2025-06-22T01:12:30.857585Z",
     "shell.execute_reply": "2025-06-22T01:12:30.856921Z"
    },
    "papermill": {
     "duration": 0.023763,
     "end_time": "2025-06-22T01:12:30.858578",
     "exception": false,
     "start_time": "2025-06-22T01:12:30.834815",
     "status": "completed"
    },
    "tags": []
   },
   "outputs": [
    {
     "name": "stdout",
     "output_type": "stream",
     "text": [
      "                  MissingCount  MissingPercentage\n",
      "RecordID                     0                0.0\n",
      "Offense                      0                0.0\n",
      "IncidentID                   0                0.0\n",
      "Agency                       0                0.0\n",
      "ReportingOfficer             0                0.0\n",
      "Date                         0                0.0\n",
      "DayOfWeek                    0                0.0\n",
      "Weekend                      0                0.0\n",
      "Season                       0                0.0\n",
      "TimeOfDay                    0                0.0\n",
      "FullStreet                   0                0.0\n",
      "lat                          0                0.0\n",
      "lon                          0                0.0\n",
      "neighborhood                 0                0.0\n",
      "zip                          0                0.0\n"
     ]
    }
   ],
   "source": [
    "missing_info = missing_percentage(df)\n",
    "print(missing_info)"
   ]
  },
  {
   "cell_type": "code",
   "execution_count": 16,
   "id": "4ca12254",
   "metadata": {
    "execution": {
     "iopub.execute_input": "2025-06-22T01:12:30.872377Z",
     "iopub.status.busy": "2025-06-22T01:12:30.872188Z",
     "iopub.status.idle": "2025-06-22T01:12:30.876285Z",
     "shell.execute_reply": "2025-06-22T01:12:30.875782Z"
    },
    "papermill": {
     "duration": 0.012168,
     "end_time": "2025-06-22T01:12:30.877252",
     "exception": false,
     "start_time": "2025-06-22T01:12:30.865084",
     "status": "completed"
    },
    "tags": []
   },
   "outputs": [
    {
     "data": {
      "text/plain": [
       "Index(['RecordID', 'Offense', 'IncidentID', 'Agency', 'ReportingOfficer',\n",
       "       'Date', 'DayOfWeek', 'Weekend', 'Season', 'TimeOfDay', 'FullStreet',\n",
       "       'lat', 'lon', 'neighborhood', 'zip'],\n",
       "      dtype='object')"
      ]
     },
     "execution_count": 16,
     "metadata": {},
     "output_type": "execute_result"
    }
   ],
   "source": [
    "df.columns"
   ]
  },
  {
   "cell_type": "code",
   "execution_count": 17,
   "id": "b0b6d81a",
   "metadata": {
    "execution": {
     "iopub.execute_input": "2025-06-22T01:12:30.891540Z",
     "iopub.status.busy": "2025-06-22T01:12:30.891081Z",
     "iopub.status.idle": "2025-06-22T01:12:30.908043Z",
     "shell.execute_reply": "2025-06-22T01:12:30.907367Z"
    },
    "papermill": {
     "duration": 0.025226,
     "end_time": "2025-06-22T01:12:30.909135",
     "exception": false,
     "start_time": "2025-06-22T01:12:30.883909",
     "status": "completed"
    },
    "tags": []
   },
   "outputs": [
    {
     "name": "stdout",
     "output_type": "stream",
     "text": [
      "<class 'pandas.core.frame.DataFrame'>\n",
      "RangeIndex: 25532 entries, 0 to 25531\n",
      "Data columns (total 15 columns):\n",
      " #   Column            Non-Null Count  Dtype         \n",
      "---  ------            --------------  -----         \n",
      " 0   RecordID          25532 non-null  int64         \n",
      " 1   Offense           25532 non-null  object        \n",
      " 2   IncidentID        25532 non-null  object        \n",
      " 3   Agency            25532 non-null  object        \n",
      " 4   ReportingOfficer  25532 non-null  object        \n",
      " 5   Date              25532 non-null  datetime64[ns]\n",
      " 6   DayOfWeek         25532 non-null  object        \n",
      " 7   Weekend           25532 non-null  bool          \n",
      " 8   Season            25532 non-null  object        \n",
      " 9   TimeOfDay         25532 non-null  object        \n",
      " 10  FullStreet        25532 non-null  object        \n",
      " 11  lat               25532 non-null  object        \n",
      " 12  lon               25532 non-null  object        \n",
      " 13  neighborhood      25532 non-null  object        \n",
      " 14  zip               25532 non-null  object        \n",
      "dtypes: bool(1), datetime64[ns](1), int64(1), object(12)\n",
      "memory usage: 2.8+ MB\n"
     ]
    }
   ],
   "source": [
    "df.info()"
   ]
  },
  {
   "cell_type": "markdown",
   "id": "54af7b3e",
   "metadata": {
    "papermill": {
     "duration": 0.006577,
     "end_time": "2025-06-22T01:12:30.922543",
     "exception": false,
     "start_time": "2025-06-22T01:12:30.915966",
     "status": "completed"
    },
    "tags": []
   },
   "source": [
    "### Export Clean Data"
   ]
  },
  {
   "cell_type": "code",
   "execution_count": 18,
   "id": "ae94b719",
   "metadata": {
    "execution": {
     "iopub.execute_input": "2025-06-22T01:12:30.936752Z",
     "iopub.status.busy": "2025-06-22T01:12:30.936562Z",
     "iopub.status.idle": "2025-06-22T01:12:39.988007Z",
     "shell.execute_reply": "2025-06-22T01:12:39.987420Z"
    },
    "papermill": {
     "duration": 9.059884,
     "end_time": "2025-06-22T01:12:39.989148",
     "exception": false,
     "start_time": "2025-06-22T01:12:30.929264",
     "status": "completed"
    },
    "tags": []
   },
   "outputs": [
    {
     "name": "stdout",
     "output_type": "stream",
     "text": [
      "Project Root: /home/runner/work/crime-data/crime-data\n"
     ]
    },
    {
     "name": "stdout",
     "output_type": "stream",
     "text": [
      "Data saved to: /home/runner/work/crime-data/crime-data/data/charlottesville_crime_incidents.csv\n"
     ]
    },
    {
     "name": "stdout",
     "output_type": "stream",
     "text": [
      "Excel saved to: /home/runner/work/crime-data/crime-data/data/charlottesville_crime_incidents.xlsx\n"
     ]
    }
   ],
   "source": [
    "# Determine the project root (assuming papermill is run from the repository root)\n",
    "project_root = os.getcwd()\n",
    "print(\"Project Root:\", project_root)\n",
    "\n",
    "# Set the data directory within the project root\n",
    "data_dir = os.path.join(project_root, \"data\")\n",
    "\n",
    "# Ensure the \"data\" directory exists (create it if it doesn't)\n",
    "if not os.path.exists(data_dir):\n",
    "    os.makedirs(data_dir)\n",
    "\n",
    "# Export the DataFrame to CSV in the \"data\" folder located in the project root\n",
    "csv_path = os.path.join(data_dir, \"charlottesville_crime_incidents.csv\")\n",
    "df.to_csv(csv_path, index=False)\n",
    "print(\"Data saved to:\", csv_path)\n",
    "\n",
    "# Construct the path to your Excel file\n",
    "excel_path = os.path.join(data_dir, \"charlottesville_crime_incidents.xlsx\")\n",
    "\n",
    "# Export the DataFrame to Excel\n",
    "df.to_excel(excel_path, index=False)\n",
    "print(\"Excel saved to:\", excel_path)\n"
   ]
  }
 ],
 "metadata": {
  "kernelspec": {
   "display_name": "Python 3",
   "language": "python",
   "name": "python3"
  },
  "language_info": {
   "codemirror_mode": {
    "name": "ipython",
    "version": 3
   },
   "file_extension": ".py",
   "mimetype": "text/x-python",
   "name": "python",
   "nbconvert_exporter": "python",
   "pygments_lexer": "ipython3",
   "version": "3.9.23"
  },
  "papermill": {
   "default_parameters": {},
   "duration": 108.79548,
   "end_time": "2025-06-22T01:12:40.412894",
   "environment_variables": {},
   "exception": null,
   "input_path": "notebook/Crime Data.ipynb",
   "output_path": "notebook/Crime Data_output.ipynb",
   "parameters": {},
   "start_time": "2025-06-22T01:10:51.617414",
   "version": "2.6.0"
  }
 },
 "nbformat": 4,
 "nbformat_minor": 5
}