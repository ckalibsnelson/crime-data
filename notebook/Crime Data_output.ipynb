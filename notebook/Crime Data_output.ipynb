{
 "cells": [
  {
   "cell_type": "markdown",
   "id": "bd346ac0",
   "metadata": {
    "papermill": {
     "duration": 0.00615,
     "end_time": "2025-04-05T00:57:57.688198",
     "exception": false,
     "start_time": "2025-04-05T00:57:57.682048",
     "status": "completed"
    },
    "tags": []
   },
   "source": [
    "# Charlottesville Open Data Porttal: Crime Data"
   ]
  },
  {
   "cell_type": "markdown",
   "id": "26c8ed3d",
   "metadata": {
    "papermill": {
     "duration": 0.005091,
     "end_time": "2025-04-05T00:57:57.698852",
     "exception": false,
     "start_time": "2025-04-05T00:57:57.693761",
     "status": "completed"
    },
    "tags": []
   },
   "source": [
    "## Import Relevant Librarires & Set WD"
   ]
  },
  {
   "cell_type": "code",
   "execution_count": 1,
   "id": "b283d992",
   "metadata": {
    "execution": {
     "iopub.execute_input": "2025-04-05T00:57:57.710294Z",
     "iopub.status.busy": "2025-04-05T00:57:57.709868Z",
     "iopub.status.idle": "2025-04-05T00:57:58.340371Z",
     "shell.execute_reply": "2025-04-05T00:57:58.339721Z"
    },
    "papermill": {
     "duration": 0.637799,
     "end_time": "2025-04-05T00:57:58.341824",
     "exception": false,
     "start_time": "2025-04-05T00:57:57.704025",
     "status": "completed"
    },
    "tags": []
   },
   "outputs": [],
   "source": [
    "import requests\n",
    "import pandas as pd\n",
    "import numpy as np\n",
    "import pickle\n",
    "import googlemaps\n",
    "import plotly.express as px\n",
    "from geopy.geocoders import Nominatim\n",
    "import time\n",
    "from dotenv import load_dotenv\n",
    "import os\n",
    "\n",
    "env_path = os.path.join(\"..\", \".env\")\n",
    "#print(\"Looking for .env file at:\", os.path.abspath(env_path))\n",
    "load_dotenv(dotenv_path=env_path)\n",
    "\n",
    "# Retrieve the variables\n",
    "GOOGLE_API_KEY = os.getenv(\"GOOGLE_API_KEY\")\n",
    "WORKING_DIR = os.getenv(\"WORKING_DIR\")\n",
    "\n",
    "if GOOGLE_API_KEY is None or WORKING_DIR is None:\n",
    "    raise RuntimeError(\"No configuration found. Please ensure that your .env file exists with the required variables, or create a local config.py file.\")\n",
    "\n",
    "#print(\"Google API Key:\", GOOGLE_API_KEY)\n",
    "#print(\"Working Directory:\", WORKING_DIR)"
   ]
  },
  {
   "cell_type": "markdown",
   "id": "c8eb2d87",
   "metadata": {
    "papermill": {
     "duration": 0.005346,
     "end_time": "2025-04-05T00:57:58.352844",
     "exception": false,
     "start_time": "2025-04-05T00:57:58.347498",
     "status": "completed"
    },
    "tags": []
   },
   "source": [
    "## Import Data\n",
    "\n",
    "URL: https://opendata.charlottesville.org/datasets/charlottesville::crime-data/about"
   ]
  },
  {
   "cell_type": "code",
   "execution_count": 2,
   "id": "7fcbb877",
   "metadata": {
    "execution": {
     "iopub.execute_input": "2025-04-05T00:57:58.364059Z",
     "iopub.status.busy": "2025-04-05T00:57:58.363748Z",
     "iopub.status.idle": "2025-04-05T00:58:57.817477Z",
     "shell.execute_reply": "2025-04-05T00:58:57.816806Z"
    },
    "papermill": {
     "duration": 59.465114,
     "end_time": "2025-04-05T00:58:57.823121",
     "exception": false,
     "start_time": "2025-04-05T00:57:58.358007",
     "status": "completed"
    },
    "tags": []
   },
   "outputs": [
    {
     "name": "stdout",
     "output_type": "stream",
     "text": [
      "Total records imported: 25115\n"
     ]
    }
   ],
   "source": [
    "# Define the endpoint and initial parameters.\n",
    "url = \"https://gisweb.charlottesville.org/arcgis/rest/services/OpenData_2/MapServer/6/query\"\n",
    "params = {\n",
    "    \"where\": \"1=1\",\n",
    "    \"outFields\": \"*\",\n",
    "    \"outSR\": 4326,\n",
    "    \"f\": \"json\",\n",
    "    \"resultOffset\": 0,       # Starting index for results\n",
    "    \"resultRecordCount\": 10000  # Maximum records per batch (if allowed by the API)\n",
    "}\n",
    "\n",
    "records = []\n",
    "\n",
    "while True:\n",
    "    response = requests.get(url, params=params)\n",
    "    response.raise_for_status()\n",
    "    data = response.json()\n",
    "    \n",
    "    # Get the current batch of features.\n",
    "    features = data.get(\"features\", [])\n",
    "    if not features:\n",
    "        break\n",
    "\n",
    "    # Extract the attributes from the features.\n",
    "    batch_records = [feature.get(\"attributes\", {}) for feature in features]\n",
    "    records.extend(batch_records)\n",
    "    \n",
    "    # If the batch size is less than the requested count, we reached the end.\n",
    "    if len(features) < params[\"resultRecordCount\"]:\n",
    "        break\n",
    "\n",
    "    # Update the resultOffset for the next batch.\n",
    "    params[\"resultOffset\"] += params[\"resultRecordCount\"]\n",
    "\n",
    "# Create a DataFrame from the combined records.\n",
    "df = pd.DataFrame(records)\n",
    "print(\"Total records imported:\", len(df))\n"
   ]
  },
  {
   "cell_type": "code",
   "execution_count": 3,
   "id": "16d307b5",
   "metadata": {
    "execution": {
     "iopub.execute_input": "2025-04-05T00:58:57.834768Z",
     "iopub.status.busy": "2025-04-05T00:58:57.834382Z",
     "iopub.status.idle": "2025-04-05T00:58:57.846676Z",
     "shell.execute_reply": "2025-04-05T00:58:57.846113Z"
    },
    "papermill": {
     "duration": 0.019201,
     "end_time": "2025-04-05T00:58:57.847680",
     "exception": false,
     "start_time": "2025-04-05T00:58:57.828479",
     "status": "completed"
    },
    "tags": []
   },
   "outputs": [
    {
     "data": {
      "text/html": [
       "<div>\n",
       "<style scoped>\n",
       "    .dataframe tbody tr th:only-of-type {\n",
       "        vertical-align: middle;\n",
       "    }\n",
       "\n",
       "    .dataframe tbody tr th {\n",
       "        vertical-align: top;\n",
       "    }\n",
       "\n",
       "    .dataframe thead th {\n",
       "        text-align: right;\n",
       "    }\n",
       "</style>\n",
       "<table border=\"1\" class=\"dataframe\">\n",
       "  <thead>\n",
       "    <tr style=\"text-align: right;\">\n",
       "      <th></th>\n",
       "      <th>RecordID</th>\n",
       "      <th>Offense</th>\n",
       "      <th>IncidentID</th>\n",
       "      <th>BlockNumber</th>\n",
       "      <th>StreetName</th>\n",
       "      <th>Agency</th>\n",
       "      <th>DateReported</th>\n",
       "      <th>HourReported</th>\n",
       "      <th>ReportingOfficer</th>\n",
       "    </tr>\n",
       "  </thead>\n",
       "  <tbody>\n",
       "    <tr>\n",
       "      <th>0</th>\n",
       "      <td>1</td>\n",
       "      <td>Hit and Run</td>\n",
       "      <td>202500010562</td>\n",
       "      <td>900</td>\n",
       "      <td>EMMET ST N</td>\n",
       "      <td>CPD</td>\n",
       "      <td>1743649891000</td>\n",
       "      <td>2311</td>\n",
       "      <td>Ritter, Kobe</td>\n",
       "    </tr>\n",
       "    <tr>\n",
       "      <th>1</th>\n",
       "      <td>2</td>\n",
       "      <td>Larceny - From Motor Vehicle</td>\n",
       "      <td>202500010556</td>\n",
       "      <td>1000</td>\n",
       "      <td>W MAIN ST, 325</td>\n",
       "      <td>CPD</td>\n",
       "      <td>1743647645000</td>\n",
       "      <td>2234</td>\n",
       "      <td>McLeod, Dustin</td>\n",
       "    </tr>\n",
       "    <tr>\n",
       "      <th>2</th>\n",
       "      <td>3</td>\n",
       "      <td>Harassment</td>\n",
       "      <td>202500010538</td>\n",
       "      <td>800</td>\n",
       "      <td>NASSAU ST</td>\n",
       "      <td>CPD</td>\n",
       "      <td>1743641646000</td>\n",
       "      <td>2054</td>\n",
       "      <td>Abdelgayed, Adam</td>\n",
       "    </tr>\n",
       "    <tr>\n",
       "      <th>3</th>\n",
       "      <td>4</td>\n",
       "      <td>Hit and Run</td>\n",
       "      <td>202500010516</td>\n",
       "      <td>200</td>\n",
       "      <td>1ST ST N</td>\n",
       "      <td>CPD</td>\n",
       "      <td>1743626913000</td>\n",
       "      <td>1648</td>\n",
       "      <td>Lowry, Brent</td>\n",
       "    </tr>\n",
       "    <tr>\n",
       "      <th>4</th>\n",
       "      <td>5</td>\n",
       "      <td>Larceny - All Other</td>\n",
       "      <td>202500010501</td>\n",
       "      <td>1000</td>\n",
       "      <td>FOREST HILLS AVE</td>\n",
       "      <td>CPD</td>\n",
       "      <td>1743621918000</td>\n",
       "      <td>1525</td>\n",
       "      <td>Carrasco, Julio</td>\n",
       "    </tr>\n",
       "  </tbody>\n",
       "</table>\n",
       "</div>"
      ],
      "text/plain": [
       "   RecordID                       Offense    IncidentID BlockNumber  \\\n",
       "0         1                   Hit and Run  202500010562         900   \n",
       "1         2  Larceny - From Motor Vehicle  202500010556        1000   \n",
       "2         3                    Harassment  202500010538         800   \n",
       "3         4                   Hit and Run  202500010516         200   \n",
       "4         5           Larceny - All Other  202500010501        1000   \n",
       "\n",
       "         StreetName Agency   DateReported HourReported  ReportingOfficer  \n",
       "0        EMMET ST N    CPD  1743649891000         2311      Ritter, Kobe  \n",
       "1    W MAIN ST, 325    CPD  1743647645000         2234    McLeod, Dustin  \n",
       "2         NASSAU ST    CPD  1743641646000         2054  Abdelgayed, Adam  \n",
       "3          1ST ST N    CPD  1743626913000         1648      Lowry, Brent  \n",
       "4  FOREST HILLS AVE    CPD  1743621918000         1525   Carrasco, Julio  "
      ]
     },
     "execution_count": 3,
     "metadata": {},
     "output_type": "execute_result"
    }
   ],
   "source": [
    "df.head()"
   ]
  },
  {
   "cell_type": "code",
   "execution_count": 4,
   "id": "f1282990",
   "metadata": {
    "execution": {
     "iopub.execute_input": "2025-04-05T00:58:57.859161Z",
     "iopub.status.busy": "2025-04-05T00:58:57.858981Z",
     "iopub.status.idle": "2025-04-05T00:58:57.863099Z",
     "shell.execute_reply": "2025-04-05T00:58:57.862585Z"
    },
    "papermill": {
     "duration": 0.010988,
     "end_time": "2025-04-05T00:58:57.864059",
     "exception": false,
     "start_time": "2025-04-05T00:58:57.853071",
     "status": "completed"
    },
    "tags": []
   },
   "outputs": [
    {
     "data": {
      "text/plain": [
       "Index(['RecordID', 'Offense', 'IncidentID', 'BlockNumber', 'StreetName',\n",
       "       'Agency', 'DateReported', 'HourReported', 'ReportingOfficer'],\n",
       "      dtype='object')"
      ]
     },
     "execution_count": 4,
     "metadata": {},
     "output_type": "execute_result"
    }
   ],
   "source": [
    "df.columns"
   ]
  },
  {
   "cell_type": "code",
   "execution_count": 5,
   "id": "99686cbd",
   "metadata": {
    "execution": {
     "iopub.execute_input": "2025-04-05T00:58:57.876345Z",
     "iopub.status.busy": "2025-04-05T00:58:57.875934Z",
     "iopub.status.idle": "2025-04-05T00:58:57.896464Z",
     "shell.execute_reply": "2025-04-05T00:58:57.895928Z"
    },
    "papermill": {
     "duration": 0.02796,
     "end_time": "2025-04-05T00:58:57.897475",
     "exception": false,
     "start_time": "2025-04-05T00:58:57.869515",
     "status": "completed"
    },
    "tags": []
   },
   "outputs": [
    {
     "name": "stdout",
     "output_type": "stream",
     "text": [
      "<class 'pandas.core.frame.DataFrame'>\n",
      "RangeIndex: 25115 entries, 0 to 25114\n",
      "Data columns (total 9 columns):\n",
      " #   Column            Non-Null Count  Dtype \n",
      "---  ------            --------------  ----- \n",
      " 0   RecordID          25115 non-null  int64 \n",
      " 1   Offense           25115 non-null  object\n",
      " 2   IncidentID        25115 non-null  object\n",
      " 3   BlockNumber       25115 non-null  object\n",
      " 4   StreetName        25115 non-null  object\n",
      " 5   Agency            25115 non-null  object\n",
      " 6   DateReported      25115 non-null  int64 \n",
      " 7   HourReported      25115 non-null  object\n",
      " 8   ReportingOfficer  25098 non-null  object\n",
      "dtypes: int64(2), object(7)\n",
      "memory usage: 1.7+ MB\n"
     ]
    }
   ],
   "source": [
    "df.info()"
   ]
  },
  {
   "cell_type": "markdown",
   "id": "8c4915a5",
   "metadata": {
    "papermill": {
     "duration": 0.005552,
     "end_time": "2025-04-05T00:58:57.908766",
     "exception": false,
     "start_time": "2025-04-05T00:58:57.903214",
     "status": "completed"
    },
    "tags": []
   },
   "source": [
    "### Missing Values"
   ]
  },
  {
   "cell_type": "code",
   "execution_count": 6,
   "id": "a3ff4976",
   "metadata": {
    "execution": {
     "iopub.execute_input": "2025-04-05T00:58:57.920849Z",
     "iopub.status.busy": "2025-04-05T00:58:57.920643Z",
     "iopub.status.idle": "2025-04-05T00:58:57.940622Z",
     "shell.execute_reply": "2025-04-05T00:58:57.940035Z"
    },
    "papermill": {
     "duration": 0.027201,
     "end_time": "2025-04-05T00:58:57.941584",
     "exception": false,
     "start_time": "2025-04-05T00:58:57.914383",
     "status": "completed"
    },
    "tags": []
   },
   "outputs": [
    {
     "name": "stdout",
     "output_type": "stream",
     "text": [
      "                  MissingCount  MissingPercentage\n",
      "RecordID                     0               0.00\n",
      "Offense                      0               0.00\n",
      "IncidentID                   0               0.00\n",
      "BlockNumber                  0               0.00\n",
      "StreetName                   0               0.00\n",
      "Agency                       0               0.00\n",
      "DateReported                 0               0.00\n",
      "HourReported                 0               0.00\n",
      "ReportingOfficer            17               0.07\n"
     ]
    }
   ],
   "source": [
    "def missing_percentage(df):\n",
    "    \"\"\"\n",
    "    Returns a DataFrame with the count and percentage of missing values for each column.\n",
    "    \n",
    "    Parameters:\n",
    "        df (pd.DataFrame): The input DataFrame.\n",
    "    \n",
    "    Returns:\n",
    "        pd.DataFrame: A DataFrame with columns 'MissingCount' and 'MissingPercentage'.\n",
    "    \"\"\"\n",
    "    total_rows = len(df)\n",
    "    missing_count = df.isnull().sum()\n",
    "    missing_percent = (missing_count / total_rows) * 100\n",
    "    \n",
    "    result = pd.DataFrame({\n",
    "        'MissingCount': missing_count,\n",
    "        'MissingPercentage': missing_percent.round(2)\n",
    "    })\n",
    "    \n",
    "    return result\n",
    "\n",
    "# Example usage:\n",
    "missing_info = missing_percentage(df)\n",
    "print(missing_info)\n"
   ]
  },
  {
   "cell_type": "markdown",
   "id": "74d6e04a",
   "metadata": {
    "papermill": {
     "duration": 0.005733,
     "end_time": "2025-04-05T00:58:57.953287",
     "exception": false,
     "start_time": "2025-04-05T00:58:57.947554",
     "status": "completed"
    },
    "tags": []
   },
   "source": [
    "## Data Preparation"
   ]
  },
  {
   "cell_type": "markdown",
   "id": "bddb16fb",
   "metadata": {
    "papermill": {
     "duration": 0.00564,
     "end_time": "2025-04-05T00:58:57.964538",
     "exception": false,
     "start_time": "2025-04-05T00:58:57.958898",
     "status": "completed"
    },
    "tags": []
   },
   "source": [
    "### Data Conversion"
   ]
  },
  {
   "cell_type": "code",
   "execution_count": 7,
   "id": "699158a3",
   "metadata": {
    "execution": {
     "iopub.execute_input": "2025-04-05T00:58:57.976893Z",
     "iopub.status.busy": "2025-04-05T00:58:57.976474Z",
     "iopub.status.idle": "2025-04-05T00:58:58.341527Z",
     "shell.execute_reply": "2025-04-05T00:58:58.340856Z"
    },
    "papermill": {
     "duration": 0.372493,
     "end_time": "2025-04-05T00:58:58.342694",
     "exception": false,
     "start_time": "2025-04-05T00:58:57.970201",
     "status": "completed"
    },
    "tags": []
   },
   "outputs": [
    {
     "data": {
      "text/html": [
       "<div>\n",
       "<style scoped>\n",
       "    .dataframe tbody tr th:only-of-type {\n",
       "        vertical-align: middle;\n",
       "    }\n",
       "\n",
       "    .dataframe tbody tr th {\n",
       "        vertical-align: top;\n",
       "    }\n",
       "\n",
       "    .dataframe thead th {\n",
       "        text-align: right;\n",
       "    }\n",
       "</style>\n",
       "<table border=\"1\" class=\"dataframe\">\n",
       "  <thead>\n",
       "    <tr style=\"text-align: right;\">\n",
       "      <th></th>\n",
       "      <th>RecordID</th>\n",
       "      <th>Offense</th>\n",
       "      <th>IncidentID</th>\n",
       "      <th>BlockNumber</th>\n",
       "      <th>StreetName</th>\n",
       "      <th>Agency</th>\n",
       "      <th>HourReported</th>\n",
       "      <th>ReportingOfficer</th>\n",
       "      <th>Date</th>\n",
       "      <th>DateString</th>\n",
       "      <th>DayOfWeek</th>\n",
       "      <th>Weekend</th>\n",
       "      <th>Season</th>\n",
       "      <th>HourAMPM</th>\n",
       "      <th>TimeOfDay</th>\n",
       "    </tr>\n",
       "  </thead>\n",
       "  <tbody>\n",
       "    <tr>\n",
       "      <th>0</th>\n",
       "      <td>1</td>\n",
       "      <td>Hit and Run</td>\n",
       "      <td>202500010562</td>\n",
       "      <td>900</td>\n",
       "      <td>EMMET ST N</td>\n",
       "      <td>CPD</td>\n",
       "      <td>2311</td>\n",
       "      <td>Ritter, Kobe</td>\n",
       "      <td>2025-04-02 23:11:31</td>\n",
       "      <td>2025-04-02 11:11:31 PM</td>\n",
       "      <td>Wednesday</td>\n",
       "      <td>False</td>\n",
       "      <td>Spring</td>\n",
       "      <td>11:11 PM</td>\n",
       "      <td>Night</td>\n",
       "    </tr>\n",
       "    <tr>\n",
       "      <th>1</th>\n",
       "      <td>2</td>\n",
       "      <td>Larceny - From Motor Vehicle</td>\n",
       "      <td>202500010556</td>\n",
       "      <td>1000</td>\n",
       "      <td>W MAIN ST, 325</td>\n",
       "      <td>CPD</td>\n",
       "      <td>2234</td>\n",
       "      <td>McLeod, Dustin</td>\n",
       "      <td>2025-04-02 22:34:05</td>\n",
       "      <td>2025-04-02 10:34:05 PM</td>\n",
       "      <td>Wednesday</td>\n",
       "      <td>False</td>\n",
       "      <td>Spring</td>\n",
       "      <td>10:34 PM</td>\n",
       "      <td>Night</td>\n",
       "    </tr>\n",
       "    <tr>\n",
       "      <th>2</th>\n",
       "      <td>3</td>\n",
       "      <td>Harassment</td>\n",
       "      <td>202500010538</td>\n",
       "      <td>800</td>\n",
       "      <td>NASSAU ST</td>\n",
       "      <td>CPD</td>\n",
       "      <td>2054</td>\n",
       "      <td>Abdelgayed, Adam</td>\n",
       "      <td>2025-04-02 20:54:06</td>\n",
       "      <td>2025-04-02 08:54:06 PM</td>\n",
       "      <td>Wednesday</td>\n",
       "      <td>False</td>\n",
       "      <td>Spring</td>\n",
       "      <td>08:54 PM</td>\n",
       "      <td>Evening</td>\n",
       "    </tr>\n",
       "    <tr>\n",
       "      <th>3</th>\n",
       "      <td>4</td>\n",
       "      <td>Hit and Run</td>\n",
       "      <td>202500010516</td>\n",
       "      <td>200</td>\n",
       "      <td>1ST ST N</td>\n",
       "      <td>CPD</td>\n",
       "      <td>1648</td>\n",
       "      <td>Lowry, Brent</td>\n",
       "      <td>2025-04-02 16:48:33</td>\n",
       "      <td>2025-04-02 04:48:33 PM</td>\n",
       "      <td>Wednesday</td>\n",
       "      <td>False</td>\n",
       "      <td>Spring</td>\n",
       "      <td>04:48 PM</td>\n",
       "      <td>Afternoon</td>\n",
       "    </tr>\n",
       "    <tr>\n",
       "      <th>4</th>\n",
       "      <td>5</td>\n",
       "      <td>Larceny - All Other</td>\n",
       "      <td>202500010501</td>\n",
       "      <td>1000</td>\n",
       "      <td>FOREST HILLS AVE</td>\n",
       "      <td>CPD</td>\n",
       "      <td>1525</td>\n",
       "      <td>Carrasco, Julio</td>\n",
       "      <td>2025-04-02 15:25:18</td>\n",
       "      <td>2025-04-02 03:25:18 PM</td>\n",
       "      <td>Wednesday</td>\n",
       "      <td>False</td>\n",
       "      <td>Spring</td>\n",
       "      <td>03:25 PM</td>\n",
       "      <td>Afternoon</td>\n",
       "    </tr>\n",
       "  </tbody>\n",
       "</table>\n",
       "</div>"
      ],
      "text/plain": [
       "   RecordID                       Offense    IncidentID BlockNumber  \\\n",
       "0         1                   Hit and Run  202500010562         900   \n",
       "1         2  Larceny - From Motor Vehicle  202500010556        1000   \n",
       "2         3                    Harassment  202500010538         800   \n",
       "3         4                   Hit and Run  202500010516         200   \n",
       "4         5           Larceny - All Other  202500010501        1000   \n",
       "\n",
       "         StreetName Agency HourReported  ReportingOfficer                Date  \\\n",
       "0        EMMET ST N    CPD         2311      Ritter, Kobe 2025-04-02 23:11:31   \n",
       "1    W MAIN ST, 325    CPD         2234    McLeod, Dustin 2025-04-02 22:34:05   \n",
       "2         NASSAU ST    CPD         2054  Abdelgayed, Adam 2025-04-02 20:54:06   \n",
       "3          1ST ST N    CPD         1648      Lowry, Brent 2025-04-02 16:48:33   \n",
       "4  FOREST HILLS AVE    CPD         1525   Carrasco, Julio 2025-04-02 15:25:18   \n",
       "\n",
       "               DateString  DayOfWeek  Weekend  Season  HourAMPM  TimeOfDay  \n",
       "0  2025-04-02 11:11:31 PM  Wednesday    False  Spring  11:11 PM      Night  \n",
       "1  2025-04-02 10:34:05 PM  Wednesday    False  Spring  10:34 PM      Night  \n",
       "2  2025-04-02 08:54:06 PM  Wednesday    False  Spring  08:54 PM    Evening  \n",
       "3  2025-04-02 04:48:33 PM  Wednesday    False  Spring  04:48 PM  Afternoon  \n",
       "4  2025-04-02 03:25:18 PM  Wednesday    False  Spring  03:25 PM  Afternoon  "
      ]
     },
     "execution_count": 7,
     "metadata": {},
     "output_type": "execute_result"
    }
   ],
   "source": [
    "def convert_and_categorize_datereported(df, col='DateReported'):\n",
    "    \"\"\"\n",
    "    Converts an epoch (in milliseconds) date column into a timezone-aware datetime,\n",
    "    converts it to Eastern Time, and then creates columns for day-of-week, weekend flag,\n",
    "    season, 12-hour formatted time, and time-of-day. Keeps both a real datetime column\n",
    "    (Date) and a string representation (DateString).\n",
    "    \"\"\"\n",
    "    import pandas as pd\n",
    "\n",
    "    # Convert the epoch timestamp to a pandas datetime object as UTC, then convert to US/Eastern.\n",
    "    df[\"DateReported_dt\"] = (\n",
    "        pd.to_datetime(df[col], unit=\"ms\", errors=\"coerce\", utc=True)\n",
    "        .dt.tz_convert(\"US/Eastern\")\n",
    "    )\n",
    "    \n",
    "    # Create a true datetime column (remove timezone if you prefer naive datetime)\n",
    "    df[\"Date\"] = df[\"DateReported_dt\"].dt.tz_localize(None)\n",
    "\n",
    "    # Optionally, create a separate string-formatted column\n",
    "    df[\"DateString\"] = df[\"DateReported_dt\"].dt.strftime(\"%Y-%m-%d %I:%M:%S %p\")\n",
    "    \n",
    "    # DayOfWeek\n",
    "    df[\"DayOfWeek\"] = df[\"DateReported_dt\"].dt.day_name()\n",
    "    \n",
    "    # Weekend\n",
    "    df[\"Weekend\"] = df[\"DayOfWeek\"].isin([\"Saturday\", \"Sunday\"])\n",
    "    \n",
    "    # Helper function to determine the season\n",
    "    def get_season(dt):\n",
    "        month = dt.month\n",
    "        day = dt.day\n",
    "        # Approximate Northern Hemisphere season boundaries:\n",
    "        if (month == 12 and day >= 21) or (month < 3) or (month == 3 and day < 20):\n",
    "            return \"Winter\"\n",
    "        elif (month == 3 and day >= 20) or (month < 6) or (month == 6 and day < 21):\n",
    "            return \"Spring\"\n",
    "        elif (month == 6 and day >= 21) or (month < 9) or (month == 9 and day < 22):\n",
    "            return \"Summer\"\n",
    "        else:\n",
    "            return \"Autumn\"\n",
    "    \n",
    "    df[\"Season\"] = df[\"DateReported_dt\"].apply(get_season)\n",
    "    \n",
    "    # 12-hour formatted time (HourAMPM)\n",
    "    df[\"HourAMPM\"] = df[\"DateReported_dt\"].dt.strftime(\"%I:%M %p\")\n",
    "    \n",
    "    # Extract hour (0-23) for time-of-day\n",
    "    df[\"HourValue\"] = df[\"DateReported_dt\"].dt.hour\n",
    "    \n",
    "    def time_of_day(hour):\n",
    "        if pd.isnull(hour):\n",
    "            return None\n",
    "        if 5 <= hour < 12:\n",
    "            return \"Morning\"\n",
    "        elif 12 <= hour < 17:\n",
    "            return \"Afternoon\"\n",
    "        elif 17 <= hour < 21:\n",
    "            return \"Evening\"\n",
    "        else:\n",
    "            return \"Night\"\n",
    "    \n",
    "    df[\"TimeOfDay\"] = df[\"HourValue\"].apply(time_of_day)\n",
    "    \n",
    "    # Drop columns you no longer need\n",
    "    df.drop(columns=[col, \"DateReported_dt\", \"HourValue\"], inplace=True)\n",
    "    \n",
    "    return df\n",
    "\n",
    "# Example usage:\n",
    "df = convert_and_categorize_datereported(df)\n",
    "df.head()\n"
   ]
  },
  {
   "cell_type": "code",
   "execution_count": 8,
   "id": "37bdd4ac",
   "metadata": {
    "execution": {
     "iopub.execute_input": "2025-04-05T00:58:58.355899Z",
     "iopub.status.busy": "2025-04-05T00:58:58.355480Z",
     "iopub.status.idle": "2025-04-05T00:58:58.381169Z",
     "shell.execute_reply": "2025-04-05T00:58:58.380490Z"
    },
    "papermill": {
     "duration": 0.033246,
     "end_time": "2025-04-05T00:58:58.382150",
     "exception": false,
     "start_time": "2025-04-05T00:58:58.348904",
     "status": "completed"
    },
    "tags": []
   },
   "outputs": [
    {
     "name": "stdout",
     "output_type": "stream",
     "text": [
      "<class 'pandas.core.frame.DataFrame'>\n",
      "RangeIndex: 25115 entries, 0 to 25114\n",
      "Data columns (total 15 columns):\n",
      " #   Column            Non-Null Count  Dtype         \n",
      "---  ------            --------------  -----         \n",
      " 0   RecordID          25115 non-null  int64         \n",
      " 1   Offense           25115 non-null  object        \n",
      " 2   IncidentID        25115 non-null  object        \n",
      " 3   BlockNumber       25115 non-null  object        \n",
      " 4   StreetName        25115 non-null  object        \n",
      " 5   Agency            25115 non-null  object        \n",
      " 6   HourReported      25115 non-null  object        \n",
      " 7   ReportingOfficer  25098 non-null  object        \n",
      " 8   Date              25115 non-null  datetime64[ns]\n",
      " 9   DateString        25115 non-null  object        \n",
      " 10  DayOfWeek         25115 non-null  object        \n",
      " 11  Weekend           25115 non-null  bool          \n",
      " 12  Season            25115 non-null  object        \n",
      " 13  HourAMPM          25115 non-null  object        \n",
      " 14  TimeOfDay         25115 non-null  object        \n",
      "dtypes: bool(1), datetime64[ns](1), int64(1), object(12)\n",
      "memory usage: 2.7+ MB\n"
     ]
    }
   ],
   "source": [
    "df.info()"
   ]
  },
  {
   "cell_type": "markdown",
   "id": "f5b18e5e",
   "metadata": {
    "papermill": {
     "duration": 0.005959,
     "end_time": "2025-04-05T00:58:58.394187",
     "exception": false,
     "start_time": "2025-04-05T00:58:58.388228",
     "status": "completed"
    },
    "tags": []
   },
   "source": [
    "### Coordinates"
   ]
  },
  {
   "cell_type": "code",
   "execution_count": 9,
   "id": "d384daef",
   "metadata": {
    "execution": {
     "iopub.execute_input": "2025-04-05T00:58:58.407176Z",
     "iopub.status.busy": "2025-04-05T00:58:58.406756Z",
     "iopub.status.idle": "2025-04-05T00:58:58.874420Z",
     "shell.execute_reply": "2025-04-05T00:58:58.873867Z"
    },
    "papermill": {
     "duration": 0.475372,
     "end_time": "2025-04-05T00:58:58.875478",
     "exception": false,
     "start_time": "2025-04-05T00:58:58.400106",
     "status": "completed"
    },
    "tags": []
   },
   "outputs": [
    {
     "name": "stdout",
     "output_type": "stream",
     "text": [
      "Loaded geocode cache.\n"
     ]
    },
    {
     "name": "stdout",
     "output_type": "stream",
     "text": [
      "Geocoded 1000 W MAIN ST, 325: 38.032162, -78.49537099999999\n"
     ]
    },
    {
     "name": "stdout",
     "output_type": "stream",
     "text": [
      "Geocoded  DRUID AVE @ RIALTO ST: 38.0193446, -78.4806779\n"
     ]
    },
    {
     "name": "stdout",
     "output_type": "stream",
     "text": [
      "Geocoded 1000 ROCKFISH GAP TURNPIKE: 38.0394259, -78.7500275\n",
      "Geocode cache updated and saved.\n"
     ]
    },
    {
     "data": {
      "text/html": [
       "<div>\n",
       "<style scoped>\n",
       "    .dataframe tbody tr th:only-of-type {\n",
       "        vertical-align: middle;\n",
       "    }\n",
       "\n",
       "    .dataframe tbody tr th {\n",
       "        vertical-align: top;\n",
       "    }\n",
       "\n",
       "    .dataframe thead th {\n",
       "        text-align: right;\n",
       "    }\n",
       "</style>\n",
       "<table border=\"1\" class=\"dataframe\">\n",
       "  <thead>\n",
       "    <tr style=\"text-align: right;\">\n",
       "      <th></th>\n",
       "      <th>RecordID</th>\n",
       "      <th>Offense</th>\n",
       "      <th>IncidentID</th>\n",
       "      <th>BlockNumber</th>\n",
       "      <th>StreetName</th>\n",
       "      <th>Agency</th>\n",
       "      <th>HourReported</th>\n",
       "      <th>ReportingOfficer</th>\n",
       "      <th>Date</th>\n",
       "      <th>DateString</th>\n",
       "      <th>DayOfWeek</th>\n",
       "      <th>Weekend</th>\n",
       "      <th>Season</th>\n",
       "      <th>HourAMPM</th>\n",
       "      <th>TimeOfDay</th>\n",
       "      <th>FullStreet</th>\n",
       "      <th>lat</th>\n",
       "      <th>lon</th>\n",
       "    </tr>\n",
       "  </thead>\n",
       "  <tbody>\n",
       "    <tr>\n",
       "      <th>0</th>\n",
       "      <td>1</td>\n",
       "      <td>Hit and Run</td>\n",
       "      <td>202500010562</td>\n",
       "      <td>900</td>\n",
       "      <td>EMMET ST N</td>\n",
       "      <td>CPD</td>\n",
       "      <td>2311</td>\n",
       "      <td>Ritter, Kobe</td>\n",
       "      <td>2025-04-02 23:11:31</td>\n",
       "      <td>2025-04-02 11:11:31 PM</td>\n",
       "      <td>Wednesday</td>\n",
       "      <td>False</td>\n",
       "      <td>Spring</td>\n",
       "      <td>11:11 PM</td>\n",
       "      <td>Night</td>\n",
       "      <td>900 EMMET ST N</td>\n",
       "      <td>38.048586</td>\n",
       "      <td>-78.502983</td>\n",
       "    </tr>\n",
       "    <tr>\n",
       "      <th>1</th>\n",
       "      <td>2</td>\n",
       "      <td>Larceny - From Motor Vehicle</td>\n",
       "      <td>202500010556</td>\n",
       "      <td>1000</td>\n",
       "      <td>W MAIN ST, 325</td>\n",
       "      <td>CPD</td>\n",
       "      <td>2234</td>\n",
       "      <td>McLeod, Dustin</td>\n",
       "      <td>2025-04-02 22:34:05</td>\n",
       "      <td>2025-04-02 10:34:05 PM</td>\n",
       "      <td>Wednesday</td>\n",
       "      <td>False</td>\n",
       "      <td>Spring</td>\n",
       "      <td>10:34 PM</td>\n",
       "      <td>Night</td>\n",
       "      <td>1000 W MAIN ST, 325</td>\n",
       "      <td>38.032162</td>\n",
       "      <td>-78.495371</td>\n",
       "    </tr>\n",
       "    <tr>\n",
       "      <th>2</th>\n",
       "      <td>3</td>\n",
       "      <td>Harassment</td>\n",
       "      <td>202500010538</td>\n",
       "      <td>800</td>\n",
       "      <td>NASSAU ST</td>\n",
       "      <td>CPD</td>\n",
       "      <td>2054</td>\n",
       "      <td>Abdelgayed, Adam</td>\n",
       "      <td>2025-04-02 20:54:06</td>\n",
       "      <td>2025-04-02 08:54:06 PM</td>\n",
       "      <td>Wednesday</td>\n",
       "      <td>False</td>\n",
       "      <td>Spring</td>\n",
       "      <td>08:54 PM</td>\n",
       "      <td>Evening</td>\n",
       "      <td>800 NASSAU ST</td>\n",
       "      <td>38.018465</td>\n",
       "      <td>-78.467579</td>\n",
       "    </tr>\n",
       "    <tr>\n",
       "      <th>3</th>\n",
       "      <td>4</td>\n",
       "      <td>Hit and Run</td>\n",
       "      <td>202500010516</td>\n",
       "      <td>200</td>\n",
       "      <td>1ST ST N</td>\n",
       "      <td>CPD</td>\n",
       "      <td>1648</td>\n",
       "      <td>Lowry, Brent</td>\n",
       "      <td>2025-04-02 16:48:33</td>\n",
       "      <td>2025-04-02 04:48:33 PM</td>\n",
       "      <td>Wednesday</td>\n",
       "      <td>False</td>\n",
       "      <td>Spring</td>\n",
       "      <td>04:48 PM</td>\n",
       "      <td>Afternoon</td>\n",
       "      <td>200 1ST ST N</td>\n",
       "      <td>38.031539</td>\n",
       "      <td>-78.481144</td>\n",
       "    </tr>\n",
       "    <tr>\n",
       "      <th>4</th>\n",
       "      <td>5</td>\n",
       "      <td>Larceny - All Other</td>\n",
       "      <td>202500010501</td>\n",
       "      <td>1000</td>\n",
       "      <td>FOREST HILLS AVE</td>\n",
       "      <td>CPD</td>\n",
       "      <td>1525</td>\n",
       "      <td>Carrasco, Julio</td>\n",
       "      <td>2025-04-02 15:25:18</td>\n",
       "      <td>2025-04-02 03:25:18 PM</td>\n",
       "      <td>Wednesday</td>\n",
       "      <td>False</td>\n",
       "      <td>Spring</td>\n",
       "      <td>03:25 PM</td>\n",
       "      <td>Afternoon</td>\n",
       "      <td>1000 FOREST HILLS AVE</td>\n",
       "      <td>38.025324</td>\n",
       "      <td>-78.495728</td>\n",
       "    </tr>\n",
       "  </tbody>\n",
       "</table>\n",
       "</div>"
      ],
      "text/plain": [
       "   RecordID                       Offense    IncidentID BlockNumber  \\\n",
       "0         1                   Hit and Run  202500010562         900   \n",
       "1         2  Larceny - From Motor Vehicle  202500010556        1000   \n",
       "2         3                    Harassment  202500010538         800   \n",
       "3         4                   Hit and Run  202500010516         200   \n",
       "4         5           Larceny - All Other  202500010501        1000   \n",
       "\n",
       "         StreetName Agency HourReported  ReportingOfficer                Date  \\\n",
       "0        EMMET ST N    CPD         2311      Ritter, Kobe 2025-04-02 23:11:31   \n",
       "1    W MAIN ST, 325    CPD         2234    McLeod, Dustin 2025-04-02 22:34:05   \n",
       "2         NASSAU ST    CPD         2054  Abdelgayed, Adam 2025-04-02 20:54:06   \n",
       "3          1ST ST N    CPD         1648      Lowry, Brent 2025-04-02 16:48:33   \n",
       "4  FOREST HILLS AVE    CPD         1525   Carrasco, Julio 2025-04-02 15:25:18   \n",
       "\n",
       "               DateString  DayOfWeek  Weekend  Season  HourAMPM  TimeOfDay  \\\n",
       "0  2025-04-02 11:11:31 PM  Wednesday    False  Spring  11:11 PM      Night   \n",
       "1  2025-04-02 10:34:05 PM  Wednesday    False  Spring  10:34 PM      Night   \n",
       "2  2025-04-02 08:54:06 PM  Wednesday    False  Spring  08:54 PM    Evening   \n",
       "3  2025-04-02 04:48:33 PM  Wednesday    False  Spring  04:48 PM  Afternoon   \n",
       "4  2025-04-02 03:25:18 PM  Wednesday    False  Spring  03:25 PM  Afternoon   \n",
       "\n",
       "              FullStreet        lat        lon  \n",
       "0         900 EMMET ST N  38.048586 -78.502983  \n",
       "1    1000 W MAIN ST, 325  38.032162 -78.495371  \n",
       "2          800 NASSAU ST  38.018465 -78.467579  \n",
       "3           200 1ST ST N  38.031539 -78.481144  \n",
       "4  1000 FOREST HILLS AVE  38.025324 -78.495728  "
      ]
     },
     "execution_count": 9,
     "metadata": {},
     "output_type": "execute_result"
    }
   ],
   "source": [
    "# Combine BlockNumber and StreetName into a full address string\n",
    "df['FullStreet'] = df['BlockNumber'].astype(str) + \" \" + df['StreetName']\n",
    "\n",
    "# --- Step 1: Setup the Google Maps Client and Cache ---\n",
    "gmaps = googlemaps.Client(key=GOOGLE_API_KEY)\n",
    "\n",
    "# Try to load cached geocoding results if available.\n",
    "try:\n",
    "    with open(\"geocode_cache_google.pkl\", \"rb\") as f:\n",
    "        street_coords = pickle.load(f)\n",
    "    print(\"Loaded geocode cache.\")\n",
    "except FileNotFoundError:\n",
    "    street_coords = {}\n",
    "    print(\"No cache found; starting fresh.\")\n",
    "\n",
    "def geocode_address(address):\n",
    "    try:\n",
    "        # Append city and state to help geocoding\n",
    "        result = gmaps.geocode(f\"{address}, Charlottesville, VA\")\n",
    "        if result:\n",
    "            lat = result[0]['geometry']['location']['lat']\n",
    "            lon = result[0]['geometry']['location']['lng']\n",
    "            return lat, lon\n",
    "    except Exception as e:\n",
    "        print(f\"Error geocoding {address}: {e}\")\n",
    "    return None, None\n",
    "\n",
    "# --- Step 2: Geocode Only New Addresses ---\n",
    "unique_addresses = df['FullStreet'].unique()\n",
    "for address in unique_addresses:\n",
    "    if address not in street_coords:\n",
    "        lat, lon = geocode_address(address)\n",
    "        street_coords[address] = (lat, lon)\n",
    "        print(f\"Geocoded {address}: {lat}, {lon}\")\n",
    "\n",
    "# Save the updated cache to disk.\n",
    "with open(\"geocode_cache_google.pkl\", \"wb\") as f:\n",
    "    pickle.dump(street_coords, f)\n",
    "    print(\"Geocode cache updated and saved.\")\n",
    "\n",
    "# --- Step 3: Map Coordinates Back to DataFrame ---\n",
    "df['lat'] = df['FullStreet'].map(lambda s: street_coords.get(s, (None, None))[0])\n",
    "df['lon'] = df['FullStreet'].map(lambda s: street_coords.get(s, (None, None))[1])\n",
    "\n",
    "df.head()"
   ]
  },
  {
   "cell_type": "markdown",
   "id": "7cb53de9",
   "metadata": {
    "papermill": {
     "duration": 0.006452,
     "end_time": "2025-04-05T00:58:58.888654",
     "exception": false,
     "start_time": "2025-04-05T00:58:58.882202",
     "status": "completed"
    },
    "tags": []
   },
   "source": [
    "### Neighborhood"
   ]
  },
  {
   "cell_type": "code",
   "execution_count": 10,
   "id": "9c5a1631",
   "metadata": {
    "execution": {
     "iopub.execute_input": "2025-04-05T00:58:58.902512Z",
     "iopub.status.busy": "2025-04-05T00:58:58.902023Z",
     "iopub.status.idle": "2025-04-05T00:58:59.526201Z",
     "shell.execute_reply": "2025-04-05T00:58:59.525615Z"
    },
    "papermill": {
     "duration": 0.632341,
     "end_time": "2025-04-05T00:58:59.527298",
     "exception": false,
     "start_time": "2025-04-05T00:58:58.894957",
     "status": "completed"
    },
    "tags": []
   },
   "outputs": [
    {
     "name": "stdout",
     "output_type": "stream",
     "text": [
      "Loaded neighborhood cache.\n"
     ]
    },
    {
     "data": {
      "text/html": [
       "<div>\n",
       "<style scoped>\n",
       "    .dataframe tbody tr th:only-of-type {\n",
       "        vertical-align: middle;\n",
       "    }\n",
       "\n",
       "    .dataframe tbody tr th {\n",
       "        vertical-align: top;\n",
       "    }\n",
       "\n",
       "    .dataframe thead th {\n",
       "        text-align: right;\n",
       "    }\n",
       "</style>\n",
       "<table border=\"1\" class=\"dataframe\">\n",
       "  <thead>\n",
       "    <tr style=\"text-align: right;\">\n",
       "      <th></th>\n",
       "      <th>RecordID</th>\n",
       "      <th>Offense</th>\n",
       "      <th>IncidentID</th>\n",
       "      <th>BlockNumber</th>\n",
       "      <th>StreetName</th>\n",
       "      <th>Agency</th>\n",
       "      <th>HourReported</th>\n",
       "      <th>ReportingOfficer</th>\n",
       "      <th>Date</th>\n",
       "      <th>DateString</th>\n",
       "      <th>DayOfWeek</th>\n",
       "      <th>Weekend</th>\n",
       "      <th>Season</th>\n",
       "      <th>HourAMPM</th>\n",
       "      <th>TimeOfDay</th>\n",
       "      <th>FullStreet</th>\n",
       "      <th>lat</th>\n",
       "      <th>lon</th>\n",
       "      <th>neighborhood</th>\n",
       "    </tr>\n",
       "  </thead>\n",
       "  <tbody>\n",
       "    <tr>\n",
       "      <th>0</th>\n",
       "      <td>1</td>\n",
       "      <td>Hit and Run</td>\n",
       "      <td>202500010562</td>\n",
       "      <td>900</td>\n",
       "      <td>EMMET ST N</td>\n",
       "      <td>CPD</td>\n",
       "      <td>2311</td>\n",
       "      <td>Ritter, Kobe</td>\n",
       "      <td>2025-04-02 23:11:31</td>\n",
       "      <td>2025-04-02 11:11:31 PM</td>\n",
       "      <td>Wednesday</td>\n",
       "      <td>False</td>\n",
       "      <td>Spring</td>\n",
       "      <td>11:11 PM</td>\n",
       "      <td>Night</td>\n",
       "      <td>900 EMMET ST N</td>\n",
       "      <td>38.048586</td>\n",
       "      <td>-78.502983</td>\n",
       "      <td>Venable</td>\n",
       "    </tr>\n",
       "    <tr>\n",
       "      <th>1</th>\n",
       "      <td>2</td>\n",
       "      <td>Larceny - From Motor Vehicle</td>\n",
       "      <td>202500010556</td>\n",
       "      <td>1000</td>\n",
       "      <td>W MAIN ST, 325</td>\n",
       "      <td>CPD</td>\n",
       "      <td>2234</td>\n",
       "      <td>McLeod, Dustin</td>\n",
       "      <td>2025-04-02 22:34:05</td>\n",
       "      <td>2025-04-02 10:34:05 PM</td>\n",
       "      <td>Wednesday</td>\n",
       "      <td>False</td>\n",
       "      <td>Spring</td>\n",
       "      <td>10:34 PM</td>\n",
       "      <td>Night</td>\n",
       "      <td>1000 W MAIN ST, 325</td>\n",
       "      <td>38.032162</td>\n",
       "      <td>-78.495371</td>\n",
       "      <td>10th &amp; Page</td>\n",
       "    </tr>\n",
       "    <tr>\n",
       "      <th>2</th>\n",
       "      <td>3</td>\n",
       "      <td>Harassment</td>\n",
       "      <td>202500010538</td>\n",
       "      <td>800</td>\n",
       "      <td>NASSAU ST</td>\n",
       "      <td>CPD</td>\n",
       "      <td>2054</td>\n",
       "      <td>Abdelgayed, Adam</td>\n",
       "      <td>2025-04-02 20:54:06</td>\n",
       "      <td>2025-04-02 08:54:06 PM</td>\n",
       "      <td>Wednesday</td>\n",
       "      <td>False</td>\n",
       "      <td>Spring</td>\n",
       "      <td>08:54 PM</td>\n",
       "      <td>Evening</td>\n",
       "      <td>800 NASSAU ST</td>\n",
       "      <td>38.018465</td>\n",
       "      <td>-78.467579</td>\n",
       "      <td>Belmont</td>\n",
       "    </tr>\n",
       "    <tr>\n",
       "      <th>3</th>\n",
       "      <td>4</td>\n",
       "      <td>Hit and Run</td>\n",
       "      <td>202500010516</td>\n",
       "      <td>200</td>\n",
       "      <td>1ST ST N</td>\n",
       "      <td>CPD</td>\n",
       "      <td>1648</td>\n",
       "      <td>Lowry, Brent</td>\n",
       "      <td>2025-04-02 16:48:33</td>\n",
       "      <td>2025-04-02 04:48:33 PM</td>\n",
       "      <td>Wednesday</td>\n",
       "      <td>False</td>\n",
       "      <td>Spring</td>\n",
       "      <td>04:48 PM</td>\n",
       "      <td>Afternoon</td>\n",
       "      <td>200 1ST ST N</td>\n",
       "      <td>38.031539</td>\n",
       "      <td>-78.481144</td>\n",
       "      <td>Downtown Mall</td>\n",
       "    </tr>\n",
       "    <tr>\n",
       "      <th>4</th>\n",
       "      <td>5</td>\n",
       "      <td>Larceny - All Other</td>\n",
       "      <td>202500010501</td>\n",
       "      <td>1000</td>\n",
       "      <td>FOREST HILLS AVE</td>\n",
       "      <td>CPD</td>\n",
       "      <td>1525</td>\n",
       "      <td>Carrasco, Julio</td>\n",
       "      <td>2025-04-02 15:25:18</td>\n",
       "      <td>2025-04-02 03:25:18 PM</td>\n",
       "      <td>Wednesday</td>\n",
       "      <td>False</td>\n",
       "      <td>Spring</td>\n",
       "      <td>03:25 PM</td>\n",
       "      <td>Afternoon</td>\n",
       "      <td>1000 FOREST HILLS AVE</td>\n",
       "      <td>38.025324</td>\n",
       "      <td>-78.495728</td>\n",
       "      <td>Fifeville</td>\n",
       "    </tr>\n",
       "  </tbody>\n",
       "</table>\n",
       "</div>"
      ],
      "text/plain": [
       "   RecordID                       Offense    IncidentID BlockNumber  \\\n",
       "0         1                   Hit and Run  202500010562         900   \n",
       "1         2  Larceny - From Motor Vehicle  202500010556        1000   \n",
       "2         3                    Harassment  202500010538         800   \n",
       "3         4                   Hit and Run  202500010516         200   \n",
       "4         5           Larceny - All Other  202500010501        1000   \n",
       "\n",
       "         StreetName Agency HourReported  ReportingOfficer                Date  \\\n",
       "0        EMMET ST N    CPD         2311      Ritter, Kobe 2025-04-02 23:11:31   \n",
       "1    W MAIN ST, 325    CPD         2234    McLeod, Dustin 2025-04-02 22:34:05   \n",
       "2         NASSAU ST    CPD         2054  Abdelgayed, Adam 2025-04-02 20:54:06   \n",
       "3          1ST ST N    CPD         1648      Lowry, Brent 2025-04-02 16:48:33   \n",
       "4  FOREST HILLS AVE    CPD         1525   Carrasco, Julio 2025-04-02 15:25:18   \n",
       "\n",
       "               DateString  DayOfWeek  Weekend  Season  HourAMPM  TimeOfDay  \\\n",
       "0  2025-04-02 11:11:31 PM  Wednesday    False  Spring  11:11 PM      Night   \n",
       "1  2025-04-02 10:34:05 PM  Wednesday    False  Spring  10:34 PM      Night   \n",
       "2  2025-04-02 08:54:06 PM  Wednesday    False  Spring  08:54 PM    Evening   \n",
       "3  2025-04-02 04:48:33 PM  Wednesday    False  Spring  04:48 PM  Afternoon   \n",
       "4  2025-04-02 03:25:18 PM  Wednesday    False  Spring  03:25 PM  Afternoon   \n",
       "\n",
       "              FullStreet        lat        lon   neighborhood  \n",
       "0         900 EMMET ST N  38.048586 -78.502983        Venable  \n",
       "1    1000 W MAIN ST, 325  38.032162 -78.495371    10th & Page  \n",
       "2          800 NASSAU ST  38.018465 -78.467579        Belmont  \n",
       "3           200 1ST ST N  38.031539 -78.481144  Downtown Mall  \n",
       "4  1000 FOREST HILLS AVE  38.025324 -78.495728      Fifeville  "
      ]
     },
     "execution_count": 10,
     "metadata": {},
     "output_type": "execute_result"
    }
   ],
   "source": [
    "# Initialize the Google Maps client.\n",
    "gmaps = googlemaps.Client(key=GOOGLE_API_KEY)\n",
    "\n",
    "# Try to load a persistent neighborhood cache if available.\n",
    "try:\n",
    "    with open(\"neighborhood_cache.pkl\", \"rb\") as f:\n",
    "        neighborhood_cache = pickle.load(f)\n",
    "    print(\"Loaded neighborhood cache.\")\n",
    "except FileNotFoundError:\n",
    "    neighborhood_cache = {}\n",
    "    print(\"No neighborhood cache found; starting fresh.\")\n",
    "\n",
    "def get_neighborhood(lat, lon):\n",
    "    \"\"\"\n",
    "    Reverse geocodes a latitude and longitude to retrieve the neighborhood.\n",
    "    Caches results to speed up subsequent lookups.\n",
    "    \"\"\"\n",
    "    key = (lat, lon)\n",
    "    if key in neighborhood_cache:\n",
    "        return neighborhood_cache[key]\n",
    "    \n",
    "    try:\n",
    "        result = gmaps.reverse_geocode((lat, lon))\n",
    "        if result:\n",
    "            # Look for the 'neighborhood' component in the first result.\n",
    "            for component in result[0]['address_components']:\n",
    "                if 'neighborhood' in component['types']:\n",
    "                    neighborhood = component['long_name']\n",
    "                    neighborhood_cache[key] = neighborhood\n",
    "                    return neighborhood\n",
    "            # If no neighborhood is found, return \"N/A\"\n",
    "            neighborhood_cache[key] = \"N/A\"\n",
    "            return \"N/A\"\n",
    "    except Exception as e:\n",
    "        print(f\"Error getting neighborhood for {lat}, {lon}: {e}\")\n",
    "        return \"N/A\"\n",
    "    \n",
    "    # Pause to respect usage limits.\n",
    "    time.sleep(1)\n",
    "\n",
    "# Example usage: Apply to your DataFrame 'df' that already has 'lat' and 'lon' columns.\n",
    "df['neighborhood'] = df.apply(lambda row: get_neighborhood(row['lat'], row['lon']), axis=1)\n",
    "\n",
    "# Save the updated neighborhood cache.\n",
    "with open(\"neighborhood_cache.pkl\", \"wb\") as f:\n",
    "    pickle.dump(neighborhood_cache, f)\n",
    "\n",
    "df.head()\n"
   ]
  },
  {
   "cell_type": "markdown",
   "id": "71ef2fd8",
   "metadata": {
    "papermill": {
     "duration": 0.006719,
     "end_time": "2025-04-05T00:58:59.541044",
     "exception": false,
     "start_time": "2025-04-05T00:58:59.534325",
     "status": "completed"
    },
    "tags": []
   },
   "source": [
    "### Zip"
   ]
  },
  {
   "cell_type": "code",
   "execution_count": 11,
   "id": "e7c30ad9",
   "metadata": {
    "execution": {
     "iopub.execute_input": "2025-04-05T00:58:59.555228Z",
     "iopub.status.busy": "2025-04-05T00:58:59.555014Z",
     "iopub.status.idle": "2025-04-05T00:59:01.233832Z",
     "shell.execute_reply": "2025-04-05T00:59:01.233235Z"
    },
    "papermill": {
     "duration": 1.687145,
     "end_time": "2025-04-05T00:59:01.234894",
     "exception": false,
     "start_time": "2025-04-05T00:58:59.547749",
     "status": "completed"
    },
    "tags": []
   },
   "outputs": [
    {
     "name": "stdout",
     "output_type": "stream",
     "text": [
      "Loaded zip cache.\n"
     ]
    },
    {
     "data": {
      "text/html": [
       "<div>\n",
       "<style scoped>\n",
       "    .dataframe tbody tr th:only-of-type {\n",
       "        vertical-align: middle;\n",
       "    }\n",
       "\n",
       "    .dataframe tbody tr th {\n",
       "        vertical-align: top;\n",
       "    }\n",
       "\n",
       "    .dataframe thead th {\n",
       "        text-align: right;\n",
       "    }\n",
       "</style>\n",
       "<table border=\"1\" class=\"dataframe\">\n",
       "  <thead>\n",
       "    <tr style=\"text-align: right;\">\n",
       "      <th></th>\n",
       "      <th>RecordID</th>\n",
       "      <th>Offense</th>\n",
       "      <th>IncidentID</th>\n",
       "      <th>BlockNumber</th>\n",
       "      <th>StreetName</th>\n",
       "      <th>Agency</th>\n",
       "      <th>HourReported</th>\n",
       "      <th>ReportingOfficer</th>\n",
       "      <th>Date</th>\n",
       "      <th>DateString</th>\n",
       "      <th>DayOfWeek</th>\n",
       "      <th>Weekend</th>\n",
       "      <th>Season</th>\n",
       "      <th>HourAMPM</th>\n",
       "      <th>TimeOfDay</th>\n",
       "      <th>FullStreet</th>\n",
       "      <th>lat</th>\n",
       "      <th>lon</th>\n",
       "      <th>neighborhood</th>\n",
       "      <th>zip</th>\n",
       "    </tr>\n",
       "  </thead>\n",
       "  <tbody>\n",
       "    <tr>\n",
       "      <th>0</th>\n",
       "      <td>1</td>\n",
       "      <td>Hit and Run</td>\n",
       "      <td>202500010562</td>\n",
       "      <td>900</td>\n",
       "      <td>EMMET ST N</td>\n",
       "      <td>CPD</td>\n",
       "      <td>2311</td>\n",
       "      <td>Ritter, Kobe</td>\n",
       "      <td>2025-04-02 23:11:31</td>\n",
       "      <td>2025-04-02 11:11:31 PM</td>\n",
       "      <td>Wednesday</td>\n",
       "      <td>False</td>\n",
       "      <td>Spring</td>\n",
       "      <td>11:11 PM</td>\n",
       "      <td>Night</td>\n",
       "      <td>900 EMMET ST N</td>\n",
       "      <td>38.048586</td>\n",
       "      <td>-78.502983</td>\n",
       "      <td>Venable</td>\n",
       "      <td>22903</td>\n",
       "    </tr>\n",
       "    <tr>\n",
       "      <th>1</th>\n",
       "      <td>2</td>\n",
       "      <td>Larceny - From Motor Vehicle</td>\n",
       "      <td>202500010556</td>\n",
       "      <td>1000</td>\n",
       "      <td>W MAIN ST, 325</td>\n",
       "      <td>CPD</td>\n",
       "      <td>2234</td>\n",
       "      <td>McLeod, Dustin</td>\n",
       "      <td>2025-04-02 22:34:05</td>\n",
       "      <td>2025-04-02 10:34:05 PM</td>\n",
       "      <td>Wednesday</td>\n",
       "      <td>False</td>\n",
       "      <td>Spring</td>\n",
       "      <td>10:34 PM</td>\n",
       "      <td>Night</td>\n",
       "      <td>1000 W MAIN ST, 325</td>\n",
       "      <td>38.032162</td>\n",
       "      <td>-78.495371</td>\n",
       "      <td>10th &amp; Page</td>\n",
       "      <td>22903</td>\n",
       "    </tr>\n",
       "    <tr>\n",
       "      <th>2</th>\n",
       "      <td>3</td>\n",
       "      <td>Harassment</td>\n",
       "      <td>202500010538</td>\n",
       "      <td>800</td>\n",
       "      <td>NASSAU ST</td>\n",
       "      <td>CPD</td>\n",
       "      <td>2054</td>\n",
       "      <td>Abdelgayed, Adam</td>\n",
       "      <td>2025-04-02 20:54:06</td>\n",
       "      <td>2025-04-02 08:54:06 PM</td>\n",
       "      <td>Wednesday</td>\n",
       "      <td>False</td>\n",
       "      <td>Spring</td>\n",
       "      <td>08:54 PM</td>\n",
       "      <td>Evening</td>\n",
       "      <td>800 NASSAU ST</td>\n",
       "      <td>38.018465</td>\n",
       "      <td>-78.467579</td>\n",
       "      <td>Belmont</td>\n",
       "      <td>22902</td>\n",
       "    </tr>\n",
       "    <tr>\n",
       "      <th>3</th>\n",
       "      <td>4</td>\n",
       "      <td>Hit and Run</td>\n",
       "      <td>202500010516</td>\n",
       "      <td>200</td>\n",
       "      <td>1ST ST N</td>\n",
       "      <td>CPD</td>\n",
       "      <td>1648</td>\n",
       "      <td>Lowry, Brent</td>\n",
       "      <td>2025-04-02 16:48:33</td>\n",
       "      <td>2025-04-02 04:48:33 PM</td>\n",
       "      <td>Wednesday</td>\n",
       "      <td>False</td>\n",
       "      <td>Spring</td>\n",
       "      <td>04:48 PM</td>\n",
       "      <td>Afternoon</td>\n",
       "      <td>200 1ST ST N</td>\n",
       "      <td>38.031539</td>\n",
       "      <td>-78.481144</td>\n",
       "      <td>Downtown Mall</td>\n",
       "      <td>22902</td>\n",
       "    </tr>\n",
       "    <tr>\n",
       "      <th>4</th>\n",
       "      <td>5</td>\n",
       "      <td>Larceny - All Other</td>\n",
       "      <td>202500010501</td>\n",
       "      <td>1000</td>\n",
       "      <td>FOREST HILLS AVE</td>\n",
       "      <td>CPD</td>\n",
       "      <td>1525</td>\n",
       "      <td>Carrasco, Julio</td>\n",
       "      <td>2025-04-02 15:25:18</td>\n",
       "      <td>2025-04-02 03:25:18 PM</td>\n",
       "      <td>Wednesday</td>\n",
       "      <td>False</td>\n",
       "      <td>Spring</td>\n",
       "      <td>03:25 PM</td>\n",
       "      <td>Afternoon</td>\n",
       "      <td>1000 FOREST HILLS AVE</td>\n",
       "      <td>38.025324</td>\n",
       "      <td>-78.495728</td>\n",
       "      <td>Fifeville</td>\n",
       "      <td>22903</td>\n",
       "    </tr>\n",
       "  </tbody>\n",
       "</table>\n",
       "</div>"
      ],
      "text/plain": [
       "   RecordID                       Offense    IncidentID BlockNumber  \\\n",
       "0         1                   Hit and Run  202500010562         900   \n",
       "1         2  Larceny - From Motor Vehicle  202500010556        1000   \n",
       "2         3                    Harassment  202500010538         800   \n",
       "3         4                   Hit and Run  202500010516         200   \n",
       "4         5           Larceny - All Other  202500010501        1000   \n",
       "\n",
       "         StreetName Agency HourReported  ReportingOfficer                Date  \\\n",
       "0        EMMET ST N    CPD         2311      Ritter, Kobe 2025-04-02 23:11:31   \n",
       "1    W MAIN ST, 325    CPD         2234    McLeod, Dustin 2025-04-02 22:34:05   \n",
       "2         NASSAU ST    CPD         2054  Abdelgayed, Adam 2025-04-02 20:54:06   \n",
       "3          1ST ST N    CPD         1648      Lowry, Brent 2025-04-02 16:48:33   \n",
       "4  FOREST HILLS AVE    CPD         1525   Carrasco, Julio 2025-04-02 15:25:18   \n",
       "\n",
       "               DateString  DayOfWeek  Weekend  Season  HourAMPM  TimeOfDay  \\\n",
       "0  2025-04-02 11:11:31 PM  Wednesday    False  Spring  11:11 PM      Night   \n",
       "1  2025-04-02 10:34:05 PM  Wednesday    False  Spring  10:34 PM      Night   \n",
       "2  2025-04-02 08:54:06 PM  Wednesday    False  Spring  08:54 PM    Evening   \n",
       "3  2025-04-02 04:48:33 PM  Wednesday    False  Spring  04:48 PM  Afternoon   \n",
       "4  2025-04-02 03:25:18 PM  Wednesday    False  Spring  03:25 PM  Afternoon   \n",
       "\n",
       "              FullStreet        lat        lon   neighborhood    zip  \n",
       "0         900 EMMET ST N  38.048586 -78.502983        Venable  22903  \n",
       "1    1000 W MAIN ST, 325  38.032162 -78.495371    10th & Page  22903  \n",
       "2          800 NASSAU ST  38.018465 -78.467579        Belmont  22902  \n",
       "3           200 1ST ST N  38.031539 -78.481144  Downtown Mall  22902  \n",
       "4  1000 FOREST HILLS AVE  38.025324 -78.495728      Fifeville  22903  "
      ]
     },
     "execution_count": 11,
     "metadata": {},
     "output_type": "execute_result"
    }
   ],
   "source": [
    "# Initialize the geocoder.\n",
    "geolocator = Nominatim(user_agent=\"zip_lookup\")\n",
    "\n",
    "# Try to load a persistent ZIP cache if available.\n",
    "try:\n",
    "    with open(\"zip_cache.pkl\", \"rb\") as f:\n",
    "        zip_cache = pickle.load(f)\n",
    "    print(\"Loaded zip cache.\")\n",
    "except FileNotFoundError:\n",
    "    zip_cache = {}\n",
    "    print(\"No zip cache found; starting fresh.\")\n",
    "\n",
    "def get_zip(lat, lon):\n",
    "    \"\"\"\n",
    "    Reverse geocodes a latitude and longitude to retrieve the ZIP code.\n",
    "    Caches results to speed up subsequent lookups.\n",
    "    \"\"\"\n",
    "    key = (lat, lon)\n",
    "    if key in zip_cache:\n",
    "        return zip_cache[key]\n",
    "    \n",
    "    try:\n",
    "        location = geolocator.reverse((lat, lon), exactly_one=True, timeout=10)\n",
    "        address = location.raw.get('address', {})\n",
    "        postal_code = address.get('postcode', \"N/A\")\n",
    "    except Exception as e:\n",
    "        print(f\"Error getting ZIP for {lat}, {lon}: {e}\")\n",
    "        postal_code = \"N/A\"\n",
    "    \n",
    "    zip_cache[key] = postal_code\n",
    "    # Pause to respect the usage policy.\n",
    "    time.sleep(1)\n",
    "    return postal_code\n",
    "\n",
    "# Apply the function to each row in the DataFrame.\n",
    "df['zip'] = df.apply(lambda row: get_zip(row['lat'], row['lon']), axis=1)\n",
    "\n",
    "# Save the updated ZIP cache.\n",
    "with open(\"zip_cache.pkl\", \"wb\") as f:\n",
    "    pickle.dump(zip_cache, f)\n",
    "\n",
    "df.head()\n"
   ]
  },
  {
   "cell_type": "code",
   "execution_count": 12,
   "id": "253e9b1c",
   "metadata": {
    "execution": {
     "iopub.execute_input": "2025-04-05T00:59:01.250324Z",
     "iopub.status.busy": "2025-04-05T00:59:01.249877Z",
     "iopub.status.idle": "2025-04-05T00:59:01.275746Z",
     "shell.execute_reply": "2025-04-05T00:59:01.275127Z"
    },
    "papermill": {
     "duration": 0.034612,
     "end_time": "2025-04-05T00:59:01.276769",
     "exception": false,
     "start_time": "2025-04-05T00:59:01.242157",
     "status": "completed"
    },
    "tags": []
   },
   "outputs": [
    {
     "name": "stdout",
     "output_type": "stream",
     "text": [
      "                  MissingCount  MissingPercentage\n",
      "RecordID                     0               0.00\n",
      "Offense                      0               0.00\n",
      "IncidentID                   0               0.00\n",
      "BlockNumber                  0               0.00\n",
      "StreetName                   0               0.00\n",
      "Agency                       0               0.00\n",
      "HourReported                 0               0.00\n",
      "ReportingOfficer            17               0.07\n",
      "Date                         0               0.00\n",
      "DateString                   0               0.00\n",
      "DayOfWeek                    0               0.00\n",
      "Weekend                      0               0.00\n",
      "Season                       0               0.00\n",
      "HourAMPM                     0               0.00\n",
      "TimeOfDay                    0               0.00\n",
      "FullStreet                   0               0.00\n",
      "lat                          0               0.00\n",
      "lon                          0               0.00\n",
      "neighborhood                 0               0.00\n",
      "zip                          0               0.00\n"
     ]
    }
   ],
   "source": [
    "missing_info = missing_percentage(df)\n",
    "print(missing_info)\n"
   ]
  },
  {
   "cell_type": "code",
   "execution_count": 13,
   "id": "8442e7a9",
   "metadata": {
    "execution": {
     "iopub.execute_input": "2025-04-05T00:59:01.292027Z",
     "iopub.status.busy": "2025-04-05T00:59:01.291586Z",
     "iopub.status.idle": "2025-04-05T00:59:01.316352Z",
     "shell.execute_reply": "2025-04-05T00:59:01.315823Z"
    },
    "papermill": {
     "duration": 0.033424,
     "end_time": "2025-04-05T00:59:01.317354",
     "exception": false,
     "start_time": "2025-04-05T00:59:01.283930",
     "status": "completed"
    },
    "tags": []
   },
   "outputs": [
    {
     "name": "stdout",
     "output_type": "stream",
     "text": [
      "<class 'pandas.core.frame.DataFrame'>\n",
      "RangeIndex: 25115 entries, 0 to 25114\n",
      "Data columns (total 20 columns):\n",
      " #   Column            Non-Null Count  Dtype         \n",
      "---  ------            --------------  -----         \n",
      " 0   RecordID          25115 non-null  int64         \n",
      " 1   Offense           25115 non-null  object        \n",
      " 2   IncidentID        25115 non-null  object        \n",
      " 3   BlockNumber       25115 non-null  object        \n",
      " 4   StreetName        25115 non-null  object        \n",
      " 5   Agency            25115 non-null  object        \n",
      " 6   HourReported      25115 non-null  object        \n",
      " 7   ReportingOfficer  25098 non-null  object        \n",
      " 8   Date              25115 non-null  datetime64[ns]\n",
      " 9   DateString        25115 non-null  object        \n",
      " 10  DayOfWeek         25115 non-null  object        \n",
      " 11  Weekend           25115 non-null  bool          \n",
      " 12  Season            25115 non-null  object        \n",
      " 13  HourAMPM          25115 non-null  object        \n",
      " 14  TimeOfDay         25115 non-null  object        \n",
      " 15  FullStreet        25115 non-null  object        \n",
      " 16  lat               25115 non-null  float64       \n",
      " 17  lon               25115 non-null  float64       \n",
      " 18  neighborhood      25115 non-null  object        \n",
      " 19  zip               25115 non-null  object        \n",
      "dtypes: bool(1), datetime64[ns](1), float64(2), int64(1), object(15)\n",
      "memory usage: 3.7+ MB\n"
     ]
    }
   ],
   "source": [
    "df.info()"
   ]
  },
  {
   "cell_type": "code",
   "execution_count": 14,
   "id": "e3549a03",
   "metadata": {
    "execution": {
     "iopub.execute_input": "2025-04-05T00:59:01.332898Z",
     "iopub.status.busy": "2025-04-05T00:59:01.332468Z",
     "iopub.status.idle": "2025-04-05T00:59:01.371773Z",
     "shell.execute_reply": "2025-04-05T00:59:01.371086Z"
    },
    "papermill": {
     "duration": 0.048135,
     "end_time": "2025-04-05T00:59:01.372898",
     "exception": false,
     "start_time": "2025-04-05T00:59:01.324763",
     "status": "completed"
    },
    "tags": []
   },
   "outputs": [
    {
     "data": {
      "text/html": [
       "<div>\n",
       "<style scoped>\n",
       "    .dataframe tbody tr th:only-of-type {\n",
       "        vertical-align: middle;\n",
       "    }\n",
       "\n",
       "    .dataframe tbody tr th {\n",
       "        vertical-align: top;\n",
       "    }\n",
       "\n",
       "    .dataframe thead th {\n",
       "        text-align: right;\n",
       "    }\n",
       "</style>\n",
       "<table border=\"1\" class=\"dataframe\">\n",
       "  <thead>\n",
       "    <tr style=\"text-align: right;\">\n",
       "      <th></th>\n",
       "      <th>RecordID</th>\n",
       "      <th>Offense</th>\n",
       "      <th>IncidentID</th>\n",
       "      <th>Agency</th>\n",
       "      <th>ReportingOfficer</th>\n",
       "      <th>Date</th>\n",
       "      <th>DayOfWeek</th>\n",
       "      <th>Weekend</th>\n",
       "      <th>Season</th>\n",
       "      <th>TimeOfDay</th>\n",
       "      <th>FullStreet</th>\n",
       "      <th>lat</th>\n",
       "      <th>lon</th>\n",
       "      <th>neighborhood</th>\n",
       "      <th>zip</th>\n",
       "    </tr>\n",
       "  </thead>\n",
       "  <tbody>\n",
       "    <tr>\n",
       "      <th>0</th>\n",
       "      <td>1</td>\n",
       "      <td>Hit and Run</td>\n",
       "      <td>202500010562</td>\n",
       "      <td>CPD</td>\n",
       "      <td>Ritter, Kobe</td>\n",
       "      <td>2025-04-02 23:11:31</td>\n",
       "      <td>Wednesday</td>\n",
       "      <td>False</td>\n",
       "      <td>Spring</td>\n",
       "      <td>Night</td>\n",
       "      <td>900 EMMET ST N</td>\n",
       "      <td>38.048586</td>\n",
       "      <td>-78.502983</td>\n",
       "      <td>Venable</td>\n",
       "      <td>22903</td>\n",
       "    </tr>\n",
       "    <tr>\n",
       "      <th>1</th>\n",
       "      <td>2</td>\n",
       "      <td>Larceny - From Motor Vehicle</td>\n",
       "      <td>202500010556</td>\n",
       "      <td>CPD</td>\n",
       "      <td>McLeod, Dustin</td>\n",
       "      <td>2025-04-02 22:34:05</td>\n",
       "      <td>Wednesday</td>\n",
       "      <td>False</td>\n",
       "      <td>Spring</td>\n",
       "      <td>Night</td>\n",
       "      <td>1000 W MAIN ST, 325</td>\n",
       "      <td>38.032162</td>\n",
       "      <td>-78.495371</td>\n",
       "      <td>10th &amp; Page</td>\n",
       "      <td>22903</td>\n",
       "    </tr>\n",
       "    <tr>\n",
       "      <th>2</th>\n",
       "      <td>3</td>\n",
       "      <td>Harassment</td>\n",
       "      <td>202500010538</td>\n",
       "      <td>CPD</td>\n",
       "      <td>Abdelgayed, Adam</td>\n",
       "      <td>2025-04-02 20:54:06</td>\n",
       "      <td>Wednesday</td>\n",
       "      <td>False</td>\n",
       "      <td>Spring</td>\n",
       "      <td>Evening</td>\n",
       "      <td>800 NASSAU ST</td>\n",
       "      <td>38.018465</td>\n",
       "      <td>-78.467579</td>\n",
       "      <td>Belmont</td>\n",
       "      <td>22902</td>\n",
       "    </tr>\n",
       "    <tr>\n",
       "      <th>3</th>\n",
       "      <td>4</td>\n",
       "      <td>Hit and Run</td>\n",
       "      <td>202500010516</td>\n",
       "      <td>CPD</td>\n",
       "      <td>Lowry, Brent</td>\n",
       "      <td>2025-04-02 16:48:33</td>\n",
       "      <td>Wednesday</td>\n",
       "      <td>False</td>\n",
       "      <td>Spring</td>\n",
       "      <td>Afternoon</td>\n",
       "      <td>200 1ST ST N</td>\n",
       "      <td>38.031539</td>\n",
       "      <td>-78.481144</td>\n",
       "      <td>Downtown Mall</td>\n",
       "      <td>22902</td>\n",
       "    </tr>\n",
       "    <tr>\n",
       "      <th>4</th>\n",
       "      <td>5</td>\n",
       "      <td>Larceny - All Other</td>\n",
       "      <td>202500010501</td>\n",
       "      <td>CPD</td>\n",
       "      <td>Carrasco, Julio</td>\n",
       "      <td>2025-04-02 15:25:18</td>\n",
       "      <td>Wednesday</td>\n",
       "      <td>False</td>\n",
       "      <td>Spring</td>\n",
       "      <td>Afternoon</td>\n",
       "      <td>1000 FOREST HILLS AVE</td>\n",
       "      <td>38.025324</td>\n",
       "      <td>-78.495728</td>\n",
       "      <td>Fifeville</td>\n",
       "      <td>22903</td>\n",
       "    </tr>\n",
       "  </tbody>\n",
       "</table>\n",
       "</div>"
      ],
      "text/plain": [
       "   RecordID                       Offense    IncidentID Agency  \\\n",
       "0         1                   Hit and Run  202500010562    CPD   \n",
       "1         2  Larceny - From Motor Vehicle  202500010556    CPD   \n",
       "2         3                    Harassment  202500010538    CPD   \n",
       "3         4                   Hit and Run  202500010516    CPD   \n",
       "4         5           Larceny - All Other  202500010501    CPD   \n",
       "\n",
       "   ReportingOfficer                Date  DayOfWeek  Weekend  Season  \\\n",
       "0      Ritter, Kobe 2025-04-02 23:11:31  Wednesday    False  Spring   \n",
       "1    McLeod, Dustin 2025-04-02 22:34:05  Wednesday    False  Spring   \n",
       "2  Abdelgayed, Adam 2025-04-02 20:54:06  Wednesday    False  Spring   \n",
       "3      Lowry, Brent 2025-04-02 16:48:33  Wednesday    False  Spring   \n",
       "4   Carrasco, Julio 2025-04-02 15:25:18  Wednesday    False  Spring   \n",
       "\n",
       "   TimeOfDay             FullStreet        lat        lon   neighborhood  \\\n",
       "0      Night         900 EMMET ST N  38.048586 -78.502983        Venable   \n",
       "1      Night    1000 W MAIN ST, 325  38.032162 -78.495371    10th & Page   \n",
       "2    Evening          800 NASSAU ST  38.018465 -78.467579        Belmont   \n",
       "3  Afternoon           200 1ST ST N  38.031539 -78.481144  Downtown Mall   \n",
       "4  Afternoon  1000 FOREST HILLS AVE  38.025324 -78.495728      Fifeville   \n",
       "\n",
       "     zip  \n",
       "0  22903  \n",
       "1  22903  \n",
       "2  22902  \n",
       "3  22902  \n",
       "4  22903  "
      ]
     },
     "execution_count": 14,
     "metadata": {},
     "output_type": "execute_result"
    }
   ],
   "source": [
    "# Now drop the original BlockNumber and StreetName columns\n",
    "df.drop(columns=['BlockNumber', 'StreetName','HourAMPM','HourReported','DateString'], inplace=True)\n",
    "df[\"zip\"] = df[\"zip\"].astype(str)\n",
    "\n",
    "# Fill all missing values in the DataFrame with \"N/A\"\n",
    "df.replace({None: \"N/A\", np.nan: \"N/A\", \"\": \"N/A\"}, inplace=True)\n",
    "df.head()"
   ]
  },
  {
   "cell_type": "code",
   "execution_count": 15,
   "id": "8cfbb99a",
   "metadata": {
    "execution": {
     "iopub.execute_input": "2025-04-05T00:59:01.388965Z",
     "iopub.status.busy": "2025-04-05T00:59:01.388501Z",
     "iopub.status.idle": "2025-04-05T00:59:01.405367Z",
     "shell.execute_reply": "2025-04-05T00:59:01.404792Z"
    },
    "papermill": {
     "duration": 0.025783,
     "end_time": "2025-04-05T00:59:01.406412",
     "exception": false,
     "start_time": "2025-04-05T00:59:01.380629",
     "status": "completed"
    },
    "tags": []
   },
   "outputs": [
    {
     "name": "stdout",
     "output_type": "stream",
     "text": [
      "                  MissingCount  MissingPercentage\n",
      "RecordID                     0                0.0\n",
      "Offense                      0                0.0\n",
      "IncidentID                   0                0.0\n",
      "Agency                       0                0.0\n",
      "ReportingOfficer             0                0.0\n",
      "Date                         0                0.0\n",
      "DayOfWeek                    0                0.0\n",
      "Weekend                      0                0.0\n",
      "Season                       0                0.0\n",
      "TimeOfDay                    0                0.0\n",
      "FullStreet                   0                0.0\n",
      "lat                          0                0.0\n",
      "lon                          0                0.0\n",
      "neighborhood                 0                0.0\n",
      "zip                          0                0.0\n"
     ]
    }
   ],
   "source": [
    "missing_info = missing_percentage(df)\n",
    "print(missing_info)"
   ]
  },
  {
   "cell_type": "code",
   "execution_count": 16,
   "id": "aee69d6a",
   "metadata": {
    "execution": {
     "iopub.execute_input": "2025-04-05T00:59:01.422252Z",
     "iopub.status.busy": "2025-04-05T00:59:01.421847Z",
     "iopub.status.idle": "2025-04-05T00:59:01.426263Z",
     "shell.execute_reply": "2025-04-05T00:59:01.425584Z"
    },
    "papermill": {
     "duration": 0.0134,
     "end_time": "2025-04-05T00:59:01.427271",
     "exception": false,
     "start_time": "2025-04-05T00:59:01.413871",
     "status": "completed"
    },
    "tags": []
   },
   "outputs": [
    {
     "data": {
      "text/plain": [
       "Index(['RecordID', 'Offense', 'IncidentID', 'Agency', 'ReportingOfficer',\n",
       "       'Date', 'DayOfWeek', 'Weekend', 'Season', 'TimeOfDay', 'FullStreet',\n",
       "       'lat', 'lon', 'neighborhood', 'zip'],\n",
       "      dtype='object')"
      ]
     },
     "execution_count": 16,
     "metadata": {},
     "output_type": "execute_result"
    }
   ],
   "source": [
    "df.columns"
   ]
  },
  {
   "cell_type": "code",
   "execution_count": 17,
   "id": "be932a6a",
   "metadata": {
    "execution": {
     "iopub.execute_input": "2025-04-05T00:59:01.443150Z",
     "iopub.status.busy": "2025-04-05T00:59:01.442777Z",
     "iopub.status.idle": "2025-04-05T00:59:01.460429Z",
     "shell.execute_reply": "2025-04-05T00:59:01.459754Z"
    },
    "papermill": {
     "duration": 0.026709,
     "end_time": "2025-04-05T00:59:01.461517",
     "exception": false,
     "start_time": "2025-04-05T00:59:01.434808",
     "status": "completed"
    },
    "tags": []
   },
   "outputs": [
    {
     "name": "stdout",
     "output_type": "stream",
     "text": [
      "<class 'pandas.core.frame.DataFrame'>\n",
      "RangeIndex: 25115 entries, 0 to 25114\n",
      "Data columns (total 15 columns):\n",
      " #   Column            Non-Null Count  Dtype         \n",
      "---  ------            --------------  -----         \n",
      " 0   RecordID          25115 non-null  int64         \n",
      " 1   Offense           25115 non-null  object        \n",
      " 2   IncidentID        25115 non-null  object        \n",
      " 3   Agency            25115 non-null  object        \n",
      " 4   ReportingOfficer  25115 non-null  object        \n",
      " 5   Date              25115 non-null  datetime64[ns]\n",
      " 6   DayOfWeek         25115 non-null  object        \n",
      " 7   Weekend           25115 non-null  bool          \n",
      " 8   Season            25115 non-null  object        \n",
      " 9   TimeOfDay         25115 non-null  object        \n",
      " 10  FullStreet        25115 non-null  object        \n",
      " 11  lat               25115 non-null  float64       \n",
      " 12  lon               25115 non-null  float64       \n",
      " 13  neighborhood      25115 non-null  object        \n",
      " 14  zip               25115 non-null  object        \n",
      "dtypes: bool(1), datetime64[ns](1), float64(2), int64(1), object(10)\n",
      "memory usage: 2.7+ MB\n"
     ]
    }
   ],
   "source": [
    "df.info()"
   ]
  },
  {
   "cell_type": "markdown",
   "id": "cb117498",
   "metadata": {
    "papermill": {
     "duration": 0.00767,
     "end_time": "2025-04-05T00:59:01.477175",
     "exception": false,
     "start_time": "2025-04-05T00:59:01.469505",
     "status": "completed"
    },
    "tags": []
   },
   "source": [
    "### Export Clean Data"
   ]
  },
  {
   "cell_type": "code",
   "execution_count": 18,
   "id": "c2f1ae04",
   "metadata": {
    "execution": {
     "iopub.execute_input": "2025-04-05T00:59:01.493549Z",
     "iopub.status.busy": "2025-04-05T00:59:01.493167Z",
     "iopub.status.idle": "2025-04-05T00:59:10.820339Z",
     "shell.execute_reply": "2025-04-05T00:59:10.819681Z"
    },
    "papermill": {
     "duration": 9.336408,
     "end_time": "2025-04-05T00:59:10.821375",
     "exception": false,
     "start_time": "2025-04-05T00:59:01.484967",
     "status": "completed"
    },
    "tags": []
   },
   "outputs": [
    {
     "name": "stdout",
     "output_type": "stream",
     "text": [
      "Project Root: /home/runner/work/crime-data/crime-data\n"
     ]
    },
    {
     "name": "stdout",
     "output_type": "stream",
     "text": [
      "Data saved to: /home/runner/work/crime-data/crime-data/data/charlottesville_crime_incidents.csv\n"
     ]
    },
    {
     "name": "stdout",
     "output_type": "stream",
     "text": [
      "Excel saved to: /home/runner/work/crime-data/crime-data/data/charlottesville_crime_incidents.xlsx\n"
     ]
    }
   ],
   "source": [
    "# Determine the project root (assuming papermill is run from the repository root)\n",
    "project_root = os.getcwd()\n",
    "print(\"Project Root:\", project_root)\n",
    "\n",
    "# Set the data directory within the project root\n",
    "data_dir = os.path.join(project_root, \"data\")\n",
    "\n",
    "# Ensure the \"data\" directory exists (create it if it doesn't)\n",
    "if not os.path.exists(data_dir):\n",
    "    os.makedirs(data_dir)\n",
    "\n",
    "# Export the DataFrame to CSV in the \"data\" folder located in the project root\n",
    "csv_path = os.path.join(data_dir, \"charlottesville_crime_incidents.csv\")\n",
    "df.to_csv(csv_path, index=False)\n",
    "print(\"Data saved to:\", csv_path)\n",
    "\n",
    "# Construct the path to your Excel file\n",
    "excel_path = os.path.join(data_dir, \"charlottesville_crime_incidents.xlsx\")\n",
    "\n",
    "# Export the DataFrame to Excel\n",
    "df.to_excel(excel_path, index=False)\n",
    "print(\"Excel saved to:\", excel_path)\n"
   ]
  },
  {
   "cell_type": "markdown",
   "id": "23082abe",
   "metadata": {
    "papermill": {
     "duration": 0.007803,
     "end_time": "2025-04-05T00:59:10.837340",
     "exception": false,
     "start_time": "2025-04-05T00:59:10.829537",
     "status": "completed"
    },
    "tags": []
   },
   "source": [
    "## Predictive Analytics"
   ]
  },
  {
   "cell_type": "code",
   "execution_count": 19,
   "id": "84613eee",
   "metadata": {
    "execution": {
     "iopub.execute_input": "2025-04-05T00:59:10.875403Z",
     "iopub.status.busy": "2025-04-05T00:59:10.874908Z",
     "iopub.status.idle": "2025-04-05T00:59:10.887181Z",
     "shell.execute_reply": "2025-04-05T00:59:10.886504Z"
    },
    "papermill": {
     "duration": 0.022167,
     "end_time": "2025-04-05T00:59:10.888183",
     "exception": false,
     "start_time": "2025-04-05T00:59:10.866016",
     "status": "completed"
    },
    "tags": []
   },
   "outputs": [
    {
     "data": {
      "text/html": [
       "<div>\n",
       "<style scoped>\n",
       "    .dataframe tbody tr th:only-of-type {\n",
       "        vertical-align: middle;\n",
       "    }\n",
       "\n",
       "    .dataframe tbody tr th {\n",
       "        vertical-align: top;\n",
       "    }\n",
       "\n",
       "    .dataframe thead th {\n",
       "        text-align: right;\n",
       "    }\n",
       "</style>\n",
       "<table border=\"1\" class=\"dataframe\">\n",
       "  <thead>\n",
       "    <tr style=\"text-align: right;\">\n",
       "      <th></th>\n",
       "      <th>RecordID</th>\n",
       "      <th>Offense</th>\n",
       "      <th>IncidentID</th>\n",
       "      <th>Agency</th>\n",
       "      <th>ReportingOfficer</th>\n",
       "      <th>Date</th>\n",
       "      <th>DayOfWeek</th>\n",
       "      <th>Weekend</th>\n",
       "      <th>Season</th>\n",
       "      <th>TimeOfDay</th>\n",
       "      <th>FullStreet</th>\n",
       "      <th>lat</th>\n",
       "      <th>lon</th>\n",
       "      <th>neighborhood</th>\n",
       "      <th>zip</th>\n",
       "    </tr>\n",
       "  </thead>\n",
       "  <tbody>\n",
       "    <tr>\n",
       "      <th>0</th>\n",
       "      <td>1</td>\n",
       "      <td>Hit and Run</td>\n",
       "      <td>202500010562</td>\n",
       "      <td>CPD</td>\n",
       "      <td>Ritter, Kobe</td>\n",
       "      <td>2025-04-02 23:11:31</td>\n",
       "      <td>Wednesday</td>\n",
       "      <td>False</td>\n",
       "      <td>Spring</td>\n",
       "      <td>Night</td>\n",
       "      <td>900 EMMET ST N</td>\n",
       "      <td>38.048586</td>\n",
       "      <td>-78.502983</td>\n",
       "      <td>Venable</td>\n",
       "      <td>22903</td>\n",
       "    </tr>\n",
       "    <tr>\n",
       "      <th>1</th>\n",
       "      <td>2</td>\n",
       "      <td>Larceny - From Motor Vehicle</td>\n",
       "      <td>202500010556</td>\n",
       "      <td>CPD</td>\n",
       "      <td>McLeod, Dustin</td>\n",
       "      <td>2025-04-02 22:34:05</td>\n",
       "      <td>Wednesday</td>\n",
       "      <td>False</td>\n",
       "      <td>Spring</td>\n",
       "      <td>Night</td>\n",
       "      <td>1000 W MAIN ST, 325</td>\n",
       "      <td>38.032162</td>\n",
       "      <td>-78.495371</td>\n",
       "      <td>10th &amp; Page</td>\n",
       "      <td>22903</td>\n",
       "    </tr>\n",
       "    <tr>\n",
       "      <th>2</th>\n",
       "      <td>3</td>\n",
       "      <td>Harassment</td>\n",
       "      <td>202500010538</td>\n",
       "      <td>CPD</td>\n",
       "      <td>Abdelgayed, Adam</td>\n",
       "      <td>2025-04-02 20:54:06</td>\n",
       "      <td>Wednesday</td>\n",
       "      <td>False</td>\n",
       "      <td>Spring</td>\n",
       "      <td>Evening</td>\n",
       "      <td>800 NASSAU ST</td>\n",
       "      <td>38.018465</td>\n",
       "      <td>-78.467579</td>\n",
       "      <td>Belmont</td>\n",
       "      <td>22902</td>\n",
       "    </tr>\n",
       "    <tr>\n",
       "      <th>3</th>\n",
       "      <td>4</td>\n",
       "      <td>Hit and Run</td>\n",
       "      <td>202500010516</td>\n",
       "      <td>CPD</td>\n",
       "      <td>Lowry, Brent</td>\n",
       "      <td>2025-04-02 16:48:33</td>\n",
       "      <td>Wednesday</td>\n",
       "      <td>False</td>\n",
       "      <td>Spring</td>\n",
       "      <td>Afternoon</td>\n",
       "      <td>200 1ST ST N</td>\n",
       "      <td>38.031539</td>\n",
       "      <td>-78.481144</td>\n",
       "      <td>Downtown Mall</td>\n",
       "      <td>22902</td>\n",
       "    </tr>\n",
       "    <tr>\n",
       "      <th>4</th>\n",
       "      <td>5</td>\n",
       "      <td>Larceny - All Other</td>\n",
       "      <td>202500010501</td>\n",
       "      <td>CPD</td>\n",
       "      <td>Carrasco, Julio</td>\n",
       "      <td>2025-04-02 15:25:18</td>\n",
       "      <td>Wednesday</td>\n",
       "      <td>False</td>\n",
       "      <td>Spring</td>\n",
       "      <td>Afternoon</td>\n",
       "      <td>1000 FOREST HILLS AVE</td>\n",
       "      <td>38.025324</td>\n",
       "      <td>-78.495728</td>\n",
       "      <td>Fifeville</td>\n",
       "      <td>22903</td>\n",
       "    </tr>\n",
       "  </tbody>\n",
       "</table>\n",
       "</div>"
      ],
      "text/plain": [
       "   RecordID                       Offense    IncidentID Agency  \\\n",
       "0         1                   Hit and Run  202500010562    CPD   \n",
       "1         2  Larceny - From Motor Vehicle  202500010556    CPD   \n",
       "2         3                    Harassment  202500010538    CPD   \n",
       "3         4                   Hit and Run  202500010516    CPD   \n",
       "4         5           Larceny - All Other  202500010501    CPD   \n",
       "\n",
       "   ReportingOfficer                Date  DayOfWeek  Weekend  Season  \\\n",
       "0      Ritter, Kobe 2025-04-02 23:11:31  Wednesday    False  Spring   \n",
       "1    McLeod, Dustin 2025-04-02 22:34:05  Wednesday    False  Spring   \n",
       "2  Abdelgayed, Adam 2025-04-02 20:54:06  Wednesday    False  Spring   \n",
       "3      Lowry, Brent 2025-04-02 16:48:33  Wednesday    False  Spring   \n",
       "4   Carrasco, Julio 2025-04-02 15:25:18  Wednesday    False  Spring   \n",
       "\n",
       "   TimeOfDay             FullStreet        lat        lon   neighborhood  \\\n",
       "0      Night         900 EMMET ST N  38.048586 -78.502983        Venable   \n",
       "1      Night    1000 W MAIN ST, 325  38.032162 -78.495371    10th & Page   \n",
       "2    Evening          800 NASSAU ST  38.018465 -78.467579        Belmont   \n",
       "3  Afternoon           200 1ST ST N  38.031539 -78.481144  Downtown Mall   \n",
       "4  Afternoon  1000 FOREST HILLS AVE  38.025324 -78.495728      Fifeville   \n",
       "\n",
       "     zip  \n",
       "0  22903  \n",
       "1  22903  \n",
       "2  22902  \n",
       "3  22902  \n",
       "4  22903  "
      ]
     },
     "execution_count": 19,
     "metadata": {},
     "output_type": "execute_result"
    }
   ],
   "source": [
    "df.head()"
   ]
  },
  {
   "cell_type": "code",
   "execution_count": 20,
   "id": "f8208b44",
   "metadata": {
    "execution": {
     "iopub.execute_input": "2025-04-05T00:59:10.905357Z",
     "iopub.status.busy": "2025-04-05T00:59:10.904977Z",
     "iopub.status.idle": "2025-04-05T00:59:10.909156Z",
     "shell.execute_reply": "2025-04-05T00:59:10.908631Z"
    },
    "papermill": {
     "duration": 0.013917,
     "end_time": "2025-04-05T00:59:10.910219",
     "exception": false,
     "start_time": "2025-04-05T00:59:10.896302",
     "status": "completed"
    },
    "tags": []
   },
   "outputs": [
    {
     "data": {
      "text/plain": [
       "Index(['RecordID', 'Offense', 'IncidentID', 'Agency', 'ReportingOfficer',\n",
       "       'Date', 'DayOfWeek', 'Weekend', 'Season', 'TimeOfDay', 'FullStreet',\n",
       "       'lat', 'lon', 'neighborhood', 'zip'],\n",
       "      dtype='object')"
      ]
     },
     "execution_count": 20,
     "metadata": {},
     "output_type": "execute_result"
    }
   ],
   "source": [
    "df.columns"
   ]
  },
  {
   "cell_type": "markdown",
   "id": "519616ff",
   "metadata": {
    "papermill": {
     "duration": 0.00823,
     "end_time": "2025-04-05T00:59:10.926804",
     "exception": false,
     "start_time": "2025-04-05T00:59:10.918574",
     "status": "completed"
    },
    "tags": []
   },
   "source": [
    "### Data Preparation\n",
    "\n",
    "We need to ensure the data is in the correct format for modeling and can handle missing values, categorical variables, and dates. Here's how to prepare your data:"
   ]
  },
  {
   "cell_type": "code",
   "execution_count": 21,
   "id": "f6b58fe5",
   "metadata": {
    "execution": {
     "iopub.execute_input": "2025-04-05T00:59:10.944242Z",
     "iopub.status.busy": "2025-04-05T00:59:10.943873Z",
     "iopub.status.idle": "2025-04-05T00:59:12.712768Z",
     "shell.execute_reply": "2025-04-05T00:59:12.711983Z"
    },
    "papermill": {
     "duration": 1.779038,
     "end_time": "2025-04-05T00:59:12.714119",
     "exception": false,
     "start_time": "2025-04-05T00:59:10.935081",
     "status": "completed"
    },
    "tags": []
   },
   "outputs": [],
   "source": [
    "import pandas as pd\n",
    "from sklearn.model_selection import train_test_split\n",
    "from sklearn.preprocessing import OneHotEncoder, LabelEncoder\n",
    "from sklearn.ensemble import RandomForestClassifier\n",
    "from sklearn.linear_model import LogisticRegression\n",
    "from sklearn.tree import DecisionTreeClassifier\n",
    "from sklearn.metrics import classification_report, accuracy_score\n",
    "import seaborn as sns\n",
    "import matplotlib.pyplot as plt\n",
    "\n",
    "# Convert 'Date' to datetime\n",
    "df['Date'] = pd.to_datetime(df['Date'])\n",
    "\n",
    "# Feature engineering: Extract additional time-based features\n",
    "df['Year'] = df['Date'].dt.year\n",
    "df['Month'] = df['Date'].dt.month\n",
    "df['DayOfMonth'] = df['Date'].dt.day\n",
    "\n",
    "# One-hot encoding for 'FullStreet', 'neighborhood', 'zip'\n",
    "df = pd.get_dummies(df, columns=['FullStreet', 'neighborhood', 'zip'], drop_first=True)\n",
    "\n",
    "# Label encoding for ordered variables (those with a natural order like 'DayOfWeek', 'Season', 'TimeOfDay')\n",
    "label_encoders = {}\n",
    "for column in ['DayOfWeek', 'Season', 'TimeOfDay', 'Agency', 'ReportingOfficer']:  # Example ordinal variables\n",
    "    le = LabelEncoder()\n",
    "    df[column] = le.fit_transform(df[column])\n",
    "    label_encoders[column] = le\n",
    "\n",
    "# Filter the dataset to include only the offenses of interest\n",
    "offenses_of_interest = [\n",
    "    'Hit and Run', 'Assault Simple', 'Suspicious Activity', 'Vandalism', \n",
    "    'Larceny - From Mot Vehicle', 'Larceny - All Other', \n",
    "    'Assist Citizen - Mental/TDO/ECO', 'Lost/FoundProperty'\n",
    "]\n",
    "\n",
    "df = df[df['Offense'].isin(offenses_of_interest)]\n",
    "\n",
    "# Label encode the target variable (Offense)\n",
    "offense_encoder = LabelEncoder()\n",
    "df['Offense'] = offense_encoder.fit_transform(df['Offense'])\n",
    "\n",
    "# Separate features (X) and target (y)\n",
    "X = df[['Year', 'Month', 'DayOfMonth', 'DayOfWeek', 'Weekend', 'Season', 'TimeOfDay', 'lat', 'lon', 'Agency', 'ReportingOfficer']]\n",
    "y = df['Offense']  # Offense is now the encoded target variable\n",
    "\n",
    "# Split the data into training and testing sets\n",
    "X_train, X_test, y_train, y_test = train_test_split(X, y, test_size=0.3, random_state=42)\n"
   ]
  },
  {
   "cell_type": "markdown",
   "id": "7a5d8a7e",
   "metadata": {
    "papermill": {
     "duration": 0.007996,
     "end_time": "2025-04-05T00:59:12.730638",
     "exception": false,
     "start_time": "2025-04-05T00:59:12.722642",
     "status": "completed"
    },
    "tags": []
   },
   "source": [
    "### Model Training\n",
    "\n",
    "Here we will train several models (e.g., Random Forest, Logistic Regression, and Decision Tree). We will use cross-validation to choose the best model based on accuracy, and then explain the impact of the variables."
   ]
  },
  {
   "cell_type": "code",
   "execution_count": 22,
   "id": "189d2aea",
   "metadata": {
    "execution": {
     "iopub.execute_input": "2025-04-05T00:59:12.748119Z",
     "iopub.status.busy": "2025-04-05T00:59:12.747718Z",
     "iopub.status.idle": "2025-04-05T00:59:16.292842Z",
     "shell.execute_reply": "2025-04-05T00:59:16.292258Z"
    },
    "papermill": {
     "duration": 3.555057,
     "end_time": "2025-04-05T00:59:16.293819",
     "exception": false,
     "start_time": "2025-04-05T00:59:12.738762",
     "status": "completed"
    },
    "tags": []
   },
   "outputs": [
    {
     "name": "stderr",
     "output_type": "stream",
     "text": [
      "/opt/hostedtoolcache/Python/3.9.21/x64/lib/python3.9/site-packages/sklearn/linear_model/_logistic.py:465: ConvergenceWarning: lbfgs failed to converge (status=1):\n",
      "STOP: TOTAL NO. of ITERATIONS REACHED LIMIT.\n",
      "\n",
      "Increase the number of iterations (max_iter) or scale the data as shown in:\n",
      "    https://scikit-learn.org/stable/modules/preprocessing.html\n",
      "Please also refer to the documentation for alternative solver options:\n",
      "    https://scikit-learn.org/stable/modules/linear_model.html#logistic-regression\n",
      "  n_iter_i = _check_optimize_result(\n",
      "/opt/hostedtoolcache/Python/3.9.21/x64/lib/python3.9/site-packages/sklearn/metrics/_classification.py:1565: UndefinedMetricWarning: Precision is ill-defined and being set to 0.0 in labels with no predicted samples. Use `zero_division` parameter to control this behavior.\n",
      "  _warn_prf(average, modifier, f\"{metric.capitalize()} is\", len(result))\n",
      "/opt/hostedtoolcache/Python/3.9.21/x64/lib/python3.9/site-packages/sklearn/metrics/_classification.py:1565: UndefinedMetricWarning: Precision is ill-defined and being set to 0.0 in labels with no predicted samples. Use `zero_division` parameter to control this behavior.\n",
      "  _warn_prf(average, modifier, f\"{metric.capitalize()} is\", len(result))\n",
      "/opt/hostedtoolcache/Python/3.9.21/x64/lib/python3.9/site-packages/sklearn/metrics/_classification.py:1565: UndefinedMetricWarning: Precision is ill-defined and being set to 0.0 in labels with no predicted samples. Use `zero_division` parameter to control this behavior.\n",
      "  _warn_prf(average, modifier, f\"{metric.capitalize()} is\", len(result))\n"
     ]
    },
    {
     "name": "stdout",
     "output_type": "stream",
     "text": [
      "\n",
      "Classification Report for All Models:\n",
      "\n",
      "Model: RandomForest\n",
      "Accuracy: 0.2779\n",
      "              precision    recall  f1-score      support\n",
      "0              0.264099  0.344704  0.299065   557.000000\n",
      "1              0.305648  0.216981  0.253793   424.000000\n",
      "2              0.295218  0.426426  0.348894   666.000000\n",
      "3              0.211429  0.160521  0.182491   461.000000\n",
      "4              0.348936  0.234957  0.280822   349.000000\n",
      "5              0.242358  0.211832  0.226069   524.000000\n",
      "6              0.297101  0.263948  0.279545   466.000000\n",
      "accuracy       0.277923  0.277923  0.277923     0.277923\n",
      "macro avg      0.280684  0.265624  0.267240  3447.000000\n",
      "weighted avg   0.277924  0.277923  0.271951  3447.000000\n"
     ]
    },
    {
     "data": {
      "image/png": "[encoded data removed]",
      "text/plain": [
       "<Figure size 800x600 with 2 Axes>"
      ]
     },
     "metadata": {},
     "output_type": "display_data"
    },
    {
     "name": "stdout",
     "output_type": "stream",
     "text": [
      "\n",
      "Model: LogisticRegression\n",
      "Accuracy: 0.2022\n",
      "              precision    recall  f1-score      support\n",
      "0              0.184319  0.481149  0.266534   557.000000\n",
      "1              0.000000  0.000000  0.000000   424.000000\n",
      "2              0.216463  0.639640  0.323462   666.000000\n",
      "3              0.166667  0.004338  0.008457   461.000000\n",
      "4              0.000000  0.000000  0.000000   349.000000\n",
      "5              0.076923  0.001908  0.003724   524.000000\n",
      "6              0.000000  0.000000  0.000000   466.000000\n",
      "accuracy       0.202205  0.202205  0.202205     0.202205\n",
      "macro avg      0.092053  0.161005  0.086025  3447.000000\n",
      "weighted avg   0.105591  0.202205  0.107263  3447.000000\n"
     ]
    },
    {
     "data": {
      "image/png": "[encoded data removed]",
      "text/plain": [
       "<Figure size 800x600 with 2 Axes>"
      ]
     },
     "metadata": {},
     "output_type": "display_data"
    },
    {
     "name": "stdout",
     "output_type": "stream",
     "text": [
      "\n",
      "Model: DecisionTree\n",
      "Accuracy: 0.2179\n",
      "              precision    recall  f1-score      support\n",
      "0              0.204047  0.217235  0.210435   557.000000\n",
      "1              0.233333  0.231132  0.232227   424.000000\n",
      "2              0.278135  0.259760  0.268634   666.000000\n",
      "3              0.174393  0.171367  0.172867   461.000000\n",
      "4              0.212658  0.240688  0.225806   349.000000\n",
      "5              0.198364  0.185115  0.191510   524.000000\n",
      "6              0.208421  0.212446  0.210414   466.000000\n",
      "accuracy       0.217871  0.217871  0.217871     0.217871\n",
      "macro avg      0.215622  0.216820  0.215985  3447.000000\n",
      "weighted avg   0.218597  0.217871  0.218012  3447.000000\n"
     ]
    },
    {
     "data": {
      "image/png": "[encoded data removed]",
      "text/plain": [
       "<Figure size 800x600 with 2 Axes>"
      ]
     },
     "metadata": {},
     "output_type": "display_data"
    },
    {
     "name": "stdout",
     "output_type": "stream",
     "text": [
      "\n",
      "Best Model:\n",
      "Best Model: RandomForestClassifier()\n",
      "Best Model Accuracy: 0.2779\n"
     ]
    }
   ],
   "source": [
    "import pandas as pd\n",
    "from sklearn.model_selection import train_test_split\n",
    "from sklearn.ensemble import RandomForestClassifier\n",
    "from sklearn.linear_model import LogisticRegression\n",
    "from sklearn.tree import DecisionTreeClassifier\n",
    "from sklearn.metrics import classification_report, accuracy_score, confusion_matrix\n",
    "import seaborn as sns\n",
    "import matplotlib.pyplot as plt\n",
    "\n",
    "# Define models\n",
    "models = {\n",
    "    'RandomForest': RandomForestClassifier(),\n",
    "    'LogisticRegression': LogisticRegression(max_iter=1000),\n",
    "    'DecisionTree': DecisionTreeClassifier()\n",
    "}\n",
    "\n",
    "# Train models and evaluate them\n",
    "best_model = None\n",
    "best_score = 0\n",
    "model_reports = {}\n",
    "\n",
    "for model_name, model in models.items():\n",
    "    model.fit(X_train, y_train)  # Train model\n",
    "    y_pred = model.predict(X_test)  # Make predictions\n",
    "    \n",
    "    # Calculate accuracy and generate classification report\n",
    "    accuracy = accuracy_score(y_test, y_pred)\n",
    "    model_reports[model_name] = classification_report(y_test, y_pred, output_dict=True)  # Store as a dictionary for easier analysis\n",
    "    \n",
    "    # Track best performing model\n",
    "    if accuracy > best_score:\n",
    "        best_score = accuracy\n",
    "        best_model = model\n",
    "\n",
    "# Display classification reports and confusion matrices\n",
    "print(\"\\nClassification Report for All Models:\")\n",
    "for model_name, report in model_reports.items():\n",
    "    print(f\"\\nModel: {model_name}\")\n",
    "    print(\"Accuracy: {:.4f}\".format(accuracy_score(y_test, models[model_name].predict(X_test))))  # Display accuracy\n",
    "    print(pd.DataFrame(report).transpose())  # Display classification report as a DataFrame\n",
    "\n",
    "    # Plot Confusion Matrix\n",
    "    cm = confusion_matrix(y_test, models[model_name].predict(X_test))\n",
    "    plt.figure(figsize=(8, 6))\n",
    "    sns.heatmap(cm, annot=True, fmt=\"d\", cmap='Blues', xticklabels=offense_encoder.classes_, yticklabels=offense_encoder.classes_)\n",
    "    plt.title(f\"Confusion Matrix - {model_name}\")\n",
    "    plt.xlabel('Predicted Labels')\n",
    "    plt.ylabel('True Labels')\n",
    "    plt.show()\n",
    "\n",
    "# Display best model details\n",
    "print(\"\\nBest Model:\")\n",
    "print(f\"Best Model: {best_model}\")\n",
    "print(f\"Best Model Accuracy: {best_score:.4f}\")\n"
   ]
  },
  {
   "cell_type": "markdown",
   "id": "9daa38e2",
   "metadata": {
    "papermill": {
     "duration": 0.010651,
     "end_time": "2025-04-05T00:59:16.316046",
     "exception": false,
     "start_time": "2025-04-05T00:59:16.305395",
     "status": "completed"
    },
    "tags": []
   },
   "source": [
    "#### Classification Report for All Models:\n",
    "\n",
    "### Explanation of the Classification Results (RandomForest Model)\n",
    "\n",
    "The results you provided are from a **Random Forest** model, which is used for predicting different types of offenses. Let's break down the key components of the results:\n",
    "\n",
    "#### 1. **Accuracy: 0.2822**\n",
    "   - **Accuracy** measures the overall percentage of correct predictions made by the model. An accuracy of 28.22% means the model correctly predicted the offense in about 28% of the cases. This indicates the model's predictions are not highly reliable, as the accuracy is quite low.\n",
    "\n",
    "#### 2. **Classification Report:**\n",
    "   The classification report includes precision, recall, and F1-score for each offense. Let's go over these terms and how they apply to the results:\n",
    "\n",
    "   - **Precision**: The proportion of true positive predictions out of all positive predictions made by the model for a specific class (offense).\n",
    "   - **Recall**: The proportion of true positive predictions out of all actual positive instances in the dataset.\n",
    "   - **F1-Score**: The harmonic mean of precision and recall, providing a balance between the two metrics.\n",
    "   - **Support**: The number of actual occurrences of each class in the test set.\n",
    "\n",
    "   Let's analyze each offense based on these metrics:\n",
    "\n",
    "   | **Offense**                        | **Precision** | **Recall** | **F1-Score** | **Support** |\n",
    "   |------------------------------------|---------------|------------|--------------|-------------|\n",
    "   | **Assault Simple**                 | 0.2892        | 0.3754     | 0.3267       | 594         |\n",
    "   | **Assist Citizen - Mental/TDO/ECO**| 0.3182        | 0.2274     | 0.2652       | 431         |\n",
    "   | **Hit and Run**                    | 0.2963        | 0.4765     | 0.3654       | 638         |\n",
    "   | **Larceny - All Other**            | 0.2270        | 0.1453     | 0.1772       | 475         |\n",
    "   | **Lost/FoundProperty**             | 0.3333        | 0.2102     | 0.2578       | 352         |\n",
    "   | **Suspicious Activity**            | 0.2344        | 0.2169     | 0.2253       | 484         |\n",
    "   | **Vandalism**                      | 0.2712        | 0.2106     | 0.2371       | 470         |\n",
    "\n",
    "#### 3. **Key Insights from the Report:**\n",
    "\n",
    "- **Precision**:\n",
    "   - The highest precision is for **Larceny - All Other** (0.3333), indicating that when the model predicts this offense, it is correct about 33% of the time. However, this is still quite low.\n",
    "   - **Assist Citizen - Mental/TDO/ECO** has the lowest precision (0.2269), meaning that the model's predictions for this offense tend to be wrong more often than correct.\n",
    "\n",
    "- **Recall**:\n",
    "   - **Hit and Run** has the highest recall (0.4765), meaning the model identifies about 48% of the actual occurrences of this offense. This is better than the precision, which indicates it is missing many true positives but is still able to identify a fair number of cases.\n",
    "   - **Larceny - All Other** and **Suspicious Activity** have the lowest recall values (0.1453 and 0.2169, respectively), indicating that the model is failing to identify most of the actual cases for these offenses.\n",
    "\n",
    "- **F1-Score**:\n",
    "   - The **F1-Score** balances precision and recall. It is highest for **Hit and Run** (0.3654), but still relatively low overall. This suggests the model is better at identifying **Hit and Run** than other offenses but still has room for improvement.\n",
    "   - **Larceny - All Other** has the lowest F1-Score (0.1772), indicating a poor balance between precision and recall for this offense.\n",
    "\n",
    "#### 4. **Macro Average and Weighted Average:**\n",
    "   - **Macro Average**: This gives the average precision, recall, and F1-Score across all classes (offenses) without considering the class distribution. It averages the results for all offenses equally.\n",
    "     - Precision: 0.2814\n",
    "     - Recall: 0.2661\n",
    "     - F1-Score: 0.2649\n",
    "   - **Weighted Average**: This averages the metrics but weighs each class by its support (the number of true instances in the test set). This gives a better sense of overall performance, considering the class distribution.\n",
    "     - Precision: 0.2799\n",
    "     - Recall: 0.2822\n",
    "     - F1-Score: 0.2720\n",
    "\n",
    "#### 5. **Confusion Matrix (Visualization Analysis)**:\n",
    "   - The confusion matrix shows the distribution of true positive, false positive, true negative, and false negative predictions for each class.\n",
    "     - For **Hit and Run**, the model performs relatively well in identifying this offense (304 true positives). However, it also misclassifies some **Hit and Run** instances as other offenses (e.g., **Assault Simple**, **Suspicious Activity**, etc.).\n",
    "     - **Larceny - All Other** is frequently misclassified as **Hit and Run**, **Suspicious Activity**, and others. This is evident from the large number of off-diagonal elements in its row.\n",
    "     - **Assist Citizen - Mental/TDO/ECO** and **Suspicious Activity** are frequently misclassified, as seen by the off-diagonal values in their rows.\n",
    "\n",
    "### Conclusion:\n",
    "The Random Forest model has low accuracy (28.22%), suggesting that it struggles to predict most offenses accurately. Some offenses like **Hit and Run** are better predicted than others, but overall, the model shows a high level of misclassification across all offenses. There may be a need for further tuning of the model, additional feature engineering, or trying different models for better performance.\n",
    "\n",
    "Let me know if you'd like to improve the model or make adjustments based on these results!\n",
    "\n"
   ]
  },
  {
   "cell_type": "markdown",
   "id": "0313a2ae",
   "metadata": {
    "papermill": {
     "duration": 0.010641,
     "end_time": "2025-04-05T00:59:16.337404",
     "exception": false,
     "start_time": "2025-04-05T00:59:16.326763",
     "status": "completed"
    },
    "tags": []
   },
   "source": [
    "### Model Explanation\n",
    "\n",
    "Once we’ve chosen the best model, we will explain its predictions by examining feature importance for tree-based models and using statistical methods like logistic regression coefficients for linear models."
   ]
  },
  {
   "cell_type": "markdown",
   "id": "eedcdea9",
   "metadata": {
    "papermill": {
     "duration": 0.010775,
     "end_time": "2025-04-05T00:59:16.358898",
     "exception": false,
     "start_time": "2025-04-05T00:59:16.348123",
     "status": "completed"
    },
    "tags": []
   },
   "source": [
    "#### Feature Importance for Random Forest / Decision Tree\n",
    "\n",
    "##### For Tree-based Models (Random Forest, Decision Tree)\n",
    "\n",
    "For Random Forest or Decision Tree, we can look at feature importance to understand which variables contribute the most to the model's predictions. Here's how you can visualize and interpret the importance of each feature:"
   ]
  },
  {
   "cell_type": "code",
   "execution_count": 23,
   "id": "1c72e786",
   "metadata": {
    "execution": {
     "iopub.execute_input": "2025-04-05T00:59:16.381324Z",
     "iopub.status.busy": "2025-04-05T00:59:16.380879Z",
     "iopub.status.idle": "2025-04-05T00:59:16.546815Z",
     "shell.execute_reply": "2025-04-05T00:59:16.546104Z"
    },
    "papermill": {
     "duration": 0.178141,
     "end_time": "2025-04-05T00:59:16.547812",
     "exception": false,
     "start_time": "2025-04-05T00:59:16.369671",
     "status": "completed"
    },
    "tags": []
   },
   "outputs": [
    {
     "data": {
      "image/png": "[encoded data removed]",
      "text/plain": [
       "<Figure size 1000x600 with 1 Axes>"
      ]
     },
     "metadata": {},
     "output_type": "display_data"
    }
   ],
   "source": [
    "# For RandomForest or DecisionTree models, we can check feature importance\n",
    "if isinstance(best_model, RandomForestClassifier) or isinstance(best_model, DecisionTreeClassifier):\n",
    "    feature_importance = best_model.feature_importances_\n",
    "    feature_names = X.columns\n",
    "    importance_df = pd.DataFrame({'Feature': feature_names, 'Importance': feature_importance})\n",
    "    importance_df = importance_df.sort_values(by='Importance', ascending=False)\n",
    "    \n",
    "    # Plotting the feature importances\n",
    "    plt.figure(figsize=(10, 6))\n",
    "    sns.barplot(x='Importance', y='Feature', data=importance_df)\n",
    "    plt.title(\"Feature Importance\")\n",
    "    plt.show()\n"
   ]
  },
  {
   "cell_type": "code",
   "execution_count": null,
   "id": "8067c57e",
   "metadata": {
    "papermill": {
     "duration": 0.011044,
     "end_time": "2025-04-05T00:59:16.570535",
     "exception": false,
     "start_time": "2025-04-05T00:59:16.559491",
     "status": "completed"
    },
    "tags": []
   },
   "outputs": [],
   "source": []
  },
  {
   "cell_type": "markdown",
   "id": "35225e7a",
   "metadata": {
    "papermill": {
     "duration": 0.011025,
     "end_time": "2025-04-05T00:59:16.592546",
     "exception": false,
     "start_time": "2025-04-05T00:59:16.581521",
     "status": "completed"
    },
    "tags": []
   },
   "source": [
    "### Evaluation\n",
    "\n",
    "After training the models and examining their performance, we evaluate the chosen model based on metrics like accuracy, precision, recall, and F1 score.\n",
    "\n"
   ]
  },
  {
   "cell_type": "code",
   "execution_count": 24,
   "id": "1964af6e",
   "metadata": {
    "execution": {
     "iopub.execute_input": "2025-04-05T00:59:16.615810Z",
     "iopub.status.busy": "2025-04-05T00:59:16.615373Z",
     "iopub.status.idle": "2025-04-05T00:59:16.704959Z",
     "shell.execute_reply": "2025-04-05T00:59:16.704296Z"
    },
    "papermill": {
     "duration": 0.102451,
     "end_time": "2025-04-05T00:59:16.705976",
     "exception": false,
     "start_time": "2025-04-05T00:59:16.603525",
     "status": "completed"
    },
    "tags": []
   },
   "outputs": [
    {
     "name": "stdout",
     "output_type": "stream",
     "text": [
      "Accuracy: 0.2779\n",
      "Classification Report:\n",
      "              precision    recall  f1-score   support\n",
      "\n",
      "           0       0.26      0.34      0.30       557\n",
      "           1       0.31      0.22      0.25       424\n",
      "           2       0.30      0.43      0.35       666\n",
      "           3       0.21      0.16      0.18       461\n",
      "           4       0.35      0.23      0.28       349\n",
      "           5       0.24      0.21      0.23       524\n",
      "           6       0.30      0.26      0.28       466\n",
      "\n",
      "    accuracy                           0.28      3447\n",
      "   macro avg       0.28      0.27      0.27      3447\n",
      "weighted avg       0.28      0.28      0.27      3447\n",
      "\n",
      "Confusion Matrix:\n",
      "[[192  48 158  47  19  62  31]\n",
      " [104  92  91  30  16  53  38]\n",
      " [111  46 284  61  20  82  62]\n",
      " [ 73  19 144  74  30  60  61]\n",
      " [ 53  29  70  33  82  33  49]\n",
      " [121  34 117  51  40 111  50]\n",
      " [ 73  33  98  54  28  57 123]]\n",
      "Precision: 0.2779\n",
      "Recall: 0.2779\n",
      "F1 Score: 0.2720\n"
     ]
    }
   ],
   "source": [
    "from sklearn.metrics import classification_report, confusion_matrix, accuracy_score, precision_score, recall_score, f1_score\n",
    "\n",
    "# Predict on the test set\n",
    "y_pred = best_model.predict(X_test)\n",
    "\n",
    "# Calculate Accuracy\n",
    "accuracy = accuracy_score(y_test, y_pred)\n",
    "print(f\"Accuracy: {accuracy:.4f}\")\n",
    "\n",
    "# Classification Report\n",
    "print(\"Classification Report:\")\n",
    "print(classification_report(y_test, y_pred))\n",
    "\n",
    "# Confusion Matrix\n",
    "conf_matrix = confusion_matrix(y_test, y_pred)\n",
    "print(\"Confusion Matrix:\")\n",
    "print(conf_matrix)\n",
    "\n",
    "# Precision, Recall, F1 Score for each class (Offense Type)\n",
    "precision = precision_score(y_test, y_pred, average='weighted')\n",
    "recall = recall_score(y_test, y_pred, average='weighted')\n",
    "f1 = f1_score(y_test, y_pred, average='weighted')\n",
    "\n",
    "print(f\"Precision: {precision:.4f}\")\n",
    "print(f\"Recall: {recall:.4f}\")\n",
    "print(f\"F1 Score: {f1:.4f}\")\n"
   ]
  },
  {
   "cell_type": "markdown",
   "id": "b53182a2",
   "metadata": {
    "papermill": {
     "duration": 0.011178,
     "end_time": "2025-04-05T00:59:16.728938",
     "exception": false,
     "start_time": "2025-04-05T00:59:16.717760",
     "status": "completed"
    },
    "tags": []
   },
   "source": [
    "#### For Logistic Regression (Coefficient Interpretation)\n",
    "\n",
    "For Logistic Regression, the model coefficients can help us understand how each feature affects the likelihood of an offense happening. A positive coefficient indicates a feature increases the likelihood of the offense, and a negative coefficient indicates the opposite."
   ]
  },
  {
   "cell_type": "code",
   "execution_count": 25,
   "id": "4d035b63",
   "metadata": {
    "execution": {
     "iopub.execute_input": "2025-04-05T00:59:16.752288Z",
     "iopub.status.busy": "2025-04-05T00:59:16.751837Z",
     "iopub.status.idle": "2025-04-05T00:59:16.756438Z",
     "shell.execute_reply": "2025-04-05T00:59:16.755929Z"
    },
    "papermill": {
     "duration": 0.017305,
     "end_time": "2025-04-05T00:59:16.757407",
     "exception": false,
     "start_time": "2025-04-05T00:59:16.740102",
     "status": "completed"
    },
    "tags": []
   },
   "outputs": [],
   "source": [
    "if isinstance(best_model, LogisticRegression):\n",
    "    # Logistic regression coefficients\n",
    "    coef_df = pd.DataFrame({\n",
    "        'Feature': X.columns,\n",
    "        'Coefficient': best_model.coef_[0]\n",
    "    })\n",
    "    coef_df['AbsCoefficient'] = coef_df['Coefficient'].abs()\n",
    "    coef_df = coef_df.sort_values(by='AbsCoefficient', ascending=False)\n",
    "    \n",
    "    # Plotting the coefficients\n",
    "    plt.figure(figsize=(10, 6))\n",
    "    sns.barplot(x='AbsCoefficient', y='Feature', data=coef_df)\n",
    "    plt.title(\"Logistic Regression Coefficients Impact\")\n",
    "    plt.show()\n",
    "\n",
    "    # Print the top 5 most impactful features (by absolute coefficient value)\n",
    "    print(\"Top 5 most impactful features based on coefficients:\")\n",
    "    print(coef_df.head())\n"
   ]
  },
  {
   "cell_type": "markdown",
   "id": "5b5d09b7",
   "metadata": {
    "papermill": {
     "duration": 0.011135,
     "end_time": "2025-04-05T00:59:16.779906",
     "exception": false,
     "start_time": "2025-04-05T00:59:16.768771",
     "status": "completed"
    },
    "tags": []
   },
   "source": [
    "Explanation of Output:\n",
    "\n",
    "Feature Importance (Random Forest/Decision Tree): The bar plot will show how important each feature is in the decision-making process. Features at the top of the list are the most influential in predicting the occurrence of offenses.\n",
    "\n",
    "Logistic Regression Coefficients: The bar plot will show the magnitude of the coefficients for each feature. Features with larger absolute values (either positive or negative) have a stronger impact on the model’s predictions. Positive coefficients increase the probability of an offense, while negative coefficients decrease it."
   ]
  },
  {
   "cell_type": "markdown",
   "id": "8819410f",
   "metadata": {
    "papermill": {
     "duration": 0.011142,
     "end_time": "2025-04-05T00:59:16.802402",
     "exception": false,
     "start_time": "2025-04-05T00:59:16.791260",
     "status": "completed"
    },
    "tags": []
   },
   "source": []
  }
 ],
 "metadata": {
  "kernelspec": {
   "display_name": "Python 3",
   "language": "python",
   "name": "python3"
  },
  "language_info": {
   "codemirror_mode": {
    "name": "ipython",
    "version": 3
   },
   "file_extension": ".py",
   "mimetype": "text/x-python",
   "name": "python",
   "nbconvert_exporter": "python",
   "pygments_lexer": "ipython3",
   "version": "3.9.21"
  },
  "papermill": {
   "default_parameters": {},
   "duration": 80.448035,
   "end_time": "2025-04-05T00:59:17.229648",
   "environment_variables": {},
   "exception": null,
   "input_path": "notebook/Crime Data.ipynb",
   "output_path": "notebook/Crime Data_output.ipynb",
   "parameters": {},
   "start_time": "2025-04-05T00:57:56.781613",
   "version": "2.6.0"
  }
 },
 "nbformat": 4,
 "nbformat_minor": 5
}