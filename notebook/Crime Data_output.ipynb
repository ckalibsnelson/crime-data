{
 "cells": [
  {
   "cell_type": "markdown",
   "id": "ed4a13e1",
   "metadata": {
    "papermill": {
     "duration": 0.004342,
     "end_time": "2025-06-18T01:04:42.591615",
     "exception": false,
     "start_time": "2025-06-18T01:04:42.587273",
     "status": "completed"
    },
    "tags": []
   },
   "source": [
    "# Charlottesville Open Data Porttal: Crime Data"
   ]
  },
  {
   "cell_type": "markdown",
   "id": "9ff0d145",
   "metadata": {
    "papermill": {
     "duration": 0.003205,
     "end_time": "2025-06-18T01:04:42.598503",
     "exception": false,
     "start_time": "2025-06-18T01:04:42.595298",
     "status": "completed"
    },
    "tags": []
   },
   "source": [
    "## Import Relevant Librarires & Set WD"
   ]
  },
  {
   "cell_type": "code",
   "execution_count": 1,
   "id": "1c41ac03",
   "metadata": {
    "execution": {
     "iopub.execute_input": "2025-06-18T01:04:42.606519Z",
     "iopub.status.busy": "2025-06-18T01:04:42.605924Z",
     "iopub.status.idle": "2025-06-18T01:04:43.183803Z",
     "shell.execute_reply": "2025-06-18T01:04:43.183106Z"
    },
    "papermill": {
     "duration": 0.583373,
     "end_time": "2025-06-18T01:04:43.185145",
     "exception": false,
     "start_time": "2025-06-18T01:04:42.601772",
     "status": "completed"
    },
    "tags": []
   },
   "outputs": [],
   "source": [
    "import requests\n",
    "import pandas as pd\n",
    "import numpy as np\n",
    "import pickle\n",
    "import googlemaps\n",
    "import plotly.express as px\n",
    "from geopy.geocoders import Nominatim\n",
    "import time\n",
    "from dotenv import load_dotenv\n",
    "import os\n",
    "\n",
    "env_path = os.path.join(\"..\", \".env\")\n",
    "#print(\"Looking for .env file at:\", os.path.abspath(env_path))\n",
    "load_dotenv(dotenv_path=env_path)\n",
    "\n",
    "# Retrieve the variables\n",
    "GOOGLE_API_KEY = os.getenv(\"GOOGLE_API_KEY\")\n",
    "WORKING_DIR = os.getenv(\"WORKING_DIR\")\n",
    "\n",
    "if GOOGLE_API_KEY is None or WORKING_DIR is None:\n",
    "    raise RuntimeError(\"No configuration found. Please ensure that your .env file exists with the required variables, or create a local config.py file.\")\n",
    "\n",
    "#print(\"Google API Key:\", GOOGLE_API_KEY)\n",
    "#print(\"Working Directory:\", WORKING_DIR)"
   ]
  },
  {
   "cell_type": "markdown",
   "id": "ad628730",
   "metadata": {
    "papermill": {
     "duration": 0.003256,
     "end_time": "2025-06-18T01:04:43.192052",
     "exception": false,
     "start_time": "2025-06-18T01:04:43.188796",
     "status": "completed"
    },
    "tags": []
   },
   "source": [
    "## Import Data\n",
    "\n",
    "URL: https://opendata.charlottesville.org/datasets/charlottesville::crime-data/about"
   ]
  },
  {
   "cell_type": "code",
   "execution_count": 2,
   "id": "f93eade1",
   "metadata": {
    "execution": {
     "iopub.execute_input": "2025-06-18T01:04:43.199656Z",
     "iopub.status.busy": "2025-06-18T01:04:43.199276Z",
     "iopub.status.idle": "2025-06-18T01:05:51.827768Z",
     "shell.execute_reply": "2025-06-18T01:05:51.827008Z"
    },
    "papermill": {
     "duration": 68.636648,
     "end_time": "2025-06-18T01:05:51.832010",
     "exception": false,
     "start_time": "2025-06-18T01:04:43.195362",
     "status": "completed"
    },
    "tags": []
   },
   "outputs": [
    {
     "name": "stdout",
     "output_type": "stream",
     "text": [
      "Total records imported: 25520\n"
     ]
    }
   ],
   "source": [
    "# Define the endpoint and initial parameters.\n",
    "url = \"https://gisweb.charlottesville.org/arcgis/rest/services/OpenData_2/MapServer/6/query\"\n",
    "params = {\n",
    "    \"where\": \"1=1\",\n",
    "    \"outFields\": \"*\",\n",
    "    \"outSR\": 4326,\n",
    "    \"f\": \"json\",\n",
    "    \"resultOffset\": 0,       # Starting index for results\n",
    "    \"resultRecordCount\": 10000  # Maximum records per batch (if allowed by the API)\n",
    "}\n",
    "\n",
    "records = []\n",
    "\n",
    "while True:\n",
    "    response = requests.get(url, params=params)\n",
    "    response.raise_for_status()\n",
    "    data = response.json()\n",
    "    \n",
    "    # Get the current batch of features.\n",
    "    features = data.get(\"features\", [])\n",
    "    if not features:\n",
    "        break\n",
    "\n",
    "    # Extract the attributes from the features.\n",
    "    batch_records = [feature.get(\"attributes\", {}) for feature in features]\n",
    "    records.extend(batch_records)\n",
    "    \n",
    "    # If the batch size is less than the requested count, we reached the end.\n",
    "    if len(features) < params[\"resultRecordCount\"]:\n",
    "        break\n",
    "\n",
    "    # Update the resultOffset for the next batch.\n",
    "    params[\"resultOffset\"] += params[\"resultRecordCount\"]\n",
    "\n",
    "# Create a DataFrame from the combined records.\n",
    "df = pd.DataFrame(records)\n",
    "print(\"Total records imported:\", len(df))\n"
   ]
  },
  {
   "cell_type": "code",
   "execution_count": 3,
   "id": "ae0d30ba",
   "metadata": {
    "execution": {
     "iopub.execute_input": "2025-06-18T01:05:51.840145Z",
     "iopub.status.busy": "2025-06-18T01:05:51.839583Z",
     "iopub.status.idle": "2025-06-18T01:05:51.851839Z",
     "shell.execute_reply": "2025-06-18T01:05:51.851207Z"
    },
    "papermill": {
     "duration": 0.017313,
     "end_time": "2025-06-18T01:05:51.852840",
     "exception": false,
     "start_time": "2025-06-18T01:05:51.835527",
     "status": "completed"
    },
    "tags": []
   },
   "outputs": [
    {
     "data": {
      "text/html": [
       "<div>\n",
       "<style scoped>\n",
       "    .dataframe tbody tr th:only-of-type {\n",
       "        vertical-align: middle;\n",
       "    }\n",
       "\n",
       "    .dataframe tbody tr th {\n",
       "        vertical-align: top;\n",
       "    }\n",
       "\n",
       "    .dataframe thead th {\n",
       "        text-align: right;\n",
       "    }\n",
       "</style>\n",
       "<table border=\"1\" class=\"dataframe\">\n",
       "  <thead>\n",
       "    <tr style=\"text-align: right;\">\n",
       "      <th></th>\n",
       "      <th>RecordID</th>\n",
       "      <th>Offense</th>\n",
       "      <th>IncidentID</th>\n",
       "      <th>BlockNumber</th>\n",
       "      <th>StreetName</th>\n",
       "      <th>Agency</th>\n",
       "      <th>DateReported</th>\n",
       "      <th>HourReported</th>\n",
       "      <th>ReportingOfficer</th>\n",
       "    </tr>\n",
       "  </thead>\n",
       "  <tbody>\n",
       "    <tr>\n",
       "      <th>0</th>\n",
       "      <td>1</td>\n",
       "      <td>Assault Simple</td>\n",
       "      <td>202500020630</td>\n",
       "      <td>800</td>\n",
       "      <td>HARDY DR, B</td>\n",
       "      <td>CPD</td>\n",
       "      <td>1750038893000</td>\n",
       "      <td>2154</td>\n",
       "      <td>Benbow, Lauren</td>\n",
       "    </tr>\n",
       "    <tr>\n",
       "      <th>1</th>\n",
       "      <td>2</td>\n",
       "      <td>Assault Simple</td>\n",
       "      <td>202500020580</td>\n",
       "      <td>400</td>\n",
       "      <td>GARRETT ST, F</td>\n",
       "      <td>CPD</td>\n",
       "      <td>1750012848000</td>\n",
       "      <td>1440</td>\n",
       "      <td>Schwartz, Honora</td>\n",
       "    </tr>\n",
       "    <tr>\n",
       "      <th>2</th>\n",
       "      <td>3</td>\n",
       "      <td>Lost/FoundProperty</td>\n",
       "      <td>202500020578</td>\n",
       "      <td>600</td>\n",
       "      <td>E WATER ST</td>\n",
       "      <td>CPD</td>\n",
       "      <td>1750009176000</td>\n",
       "      <td>1339</td>\n",
       "      <td>Crowley, Raeann</td>\n",
       "    </tr>\n",
       "    <tr>\n",
       "      <th>3</th>\n",
       "      <td>4</td>\n",
       "      <td>Hit and Run</td>\n",
       "      <td>202500020573</td>\n",
       "      <td>900</td>\n",
       "      <td>RIVER RD</td>\n",
       "      <td>CPD</td>\n",
       "      <td>1750006008000</td>\n",
       "      <td>1246</td>\n",
       "      <td>Bland, Johnnà</td>\n",
       "    </tr>\n",
       "    <tr>\n",
       "      <th>4</th>\n",
       "      <td>5</td>\n",
       "      <td>Lost/FoundProperty</td>\n",
       "      <td>202500020554</td>\n",
       "      <td>1100</td>\n",
       "      <td>5TH ST SW</td>\n",
       "      <td>CPD</td>\n",
       "      <td>1749986943000</td>\n",
       "      <td>0729</td>\n",
       "      <td>Jones, Mark</td>\n",
       "    </tr>\n",
       "  </tbody>\n",
       "</table>\n",
       "</div>"
      ],
      "text/plain": [
       "   RecordID             Offense    IncidentID BlockNumber     StreetName  \\\n",
       "0         1      Assault Simple  202500020630         800    HARDY DR, B   \n",
       "1         2      Assault Simple  202500020580         400  GARRETT ST, F   \n",
       "2         3  Lost/FoundProperty  202500020578         600     E WATER ST   \n",
       "3         4         Hit and Run  202500020573         900       RIVER RD   \n",
       "4         5  Lost/FoundProperty  202500020554        1100      5TH ST SW   \n",
       "\n",
       "  Agency   DateReported HourReported  ReportingOfficer  \n",
       "0    CPD  1750038893000         2154    Benbow, Lauren  \n",
       "1    CPD  1750012848000         1440  Schwartz, Honora  \n",
       "2    CPD  1750009176000         1339   Crowley, Raeann  \n",
       "3    CPD  1750006008000         1246     Bland, Johnnà  \n",
       "4    CPD  1749986943000         0729       Jones, Mark  "
      ]
     },
     "execution_count": 3,
     "metadata": {},
     "output_type": "execute_result"
    }
   ],
   "source": [
    "df.head()"
   ]
  },
  {
   "cell_type": "code",
   "execution_count": 4,
   "id": "6ebc39b7",
   "metadata": {
    "execution": {
     "iopub.execute_input": "2025-06-18T01:05:51.861004Z",
     "iopub.status.busy": "2025-06-18T01:05:51.860636Z",
     "iopub.status.idle": "2025-06-18T01:05:51.864860Z",
     "shell.execute_reply": "2025-06-18T01:05:51.864219Z"
    },
    "papermill": {
     "duration": 0.00937,
     "end_time": "2025-06-18T01:05:51.865889",
     "exception": false,
     "start_time": "2025-06-18T01:05:51.856519",
     "status": "completed"
    },
    "tags": []
   },
   "outputs": [
    {
     "data": {
      "text/plain": [
       "Index(['RecordID', 'Offense', 'IncidentID', 'BlockNumber', 'StreetName',\n",
       "       'Agency', 'DateReported', 'HourReported', 'ReportingOfficer'],\n",
       "      dtype='object')"
      ]
     },
     "execution_count": 4,
     "metadata": {},
     "output_type": "execute_result"
    }
   ],
   "source": [
    "df.columns"
   ]
  },
  {
   "cell_type": "code",
   "execution_count": 5,
   "id": "fc78d73d",
   "metadata": {
    "execution": {
     "iopub.execute_input": "2025-06-18T01:05:51.874703Z",
     "iopub.status.busy": "2025-06-18T01:05:51.874366Z",
     "iopub.status.idle": "2025-06-18T01:05:51.893998Z",
     "shell.execute_reply": "2025-06-18T01:05:51.893356Z"
    },
    "papermill": {
     "duration": 0.025452,
     "end_time": "2025-06-18T01:05:51.895028",
     "exception": false,
     "start_time": "2025-06-18T01:05:51.869576",
     "status": "completed"
    },
    "tags": []
   },
   "outputs": [
    {
     "name": "stdout",
     "output_type": "stream",
     "text": [
      "<class 'pandas.core.frame.DataFrame'>\n",
      "RangeIndex: 25520 entries, 0 to 25519\n",
      "Data columns (total 9 columns):\n",
      " #   Column            Non-Null Count  Dtype \n",
      "---  ------            --------------  ----- \n",
      " 0   RecordID          25520 non-null  int64 \n",
      " 1   Offense           25520 non-null  object\n",
      " 2   IncidentID        25520 non-null  object\n",
      " 3   BlockNumber       25520 non-null  object\n",
      " 4   StreetName        25520 non-null  object\n",
      " 5   Agency            25520 non-null  object\n",
      " 6   DateReported      25520 non-null  int64 \n",
      " 7   HourReported      25520 non-null  object\n",
      " 8   ReportingOfficer  25503 non-null  object\n",
      "dtypes: int64(2), object(7)\n",
      "memory usage: 1.8+ MB\n"
     ]
    }
   ],
   "source": [
    "df.info()"
   ]
  },
  {
   "cell_type": "markdown",
   "id": "057b7c1e",
   "metadata": {
    "papermill": {
     "duration": 0.003733,
     "end_time": "2025-06-18T01:05:51.902619",
     "exception": false,
     "start_time": "2025-06-18T01:05:51.898886",
     "status": "completed"
    },
    "tags": []
   },
   "source": [
    "### Missing Values"
   ]
  },
  {
   "cell_type": "code",
   "execution_count": 6,
   "id": "630ec038",
   "metadata": {
    "execution": {
     "iopub.execute_input": "2025-06-18T01:05:51.934889Z",
     "iopub.status.busy": "2025-06-18T01:05:51.934410Z",
     "iopub.status.idle": "2025-06-18T01:05:51.958441Z",
     "shell.execute_reply": "2025-06-18T01:05:51.957722Z"
    },
    "papermill": {
     "duration": 0.02992,
     "end_time": "2025-06-18T01:05:51.959526",
     "exception": false,
     "start_time": "2025-06-18T01:05:51.929606",
     "status": "completed"
    },
    "tags": []
   },
   "outputs": [
    {
     "name": "stdout",
     "output_type": "stream",
     "text": [
      "                  MissingCount  MissingPercentage\n",
      "RecordID                     0               0.00\n",
      "Offense                      0               0.00\n",
      "IncidentID                   0               0.00\n",
      "BlockNumber                  0               0.00\n",
      "StreetName                   0               0.00\n",
      "Agency                       0               0.00\n",
      "DateReported                 0               0.00\n",
      "HourReported                 0               0.00\n",
      "ReportingOfficer            17               0.07\n"
     ]
    }
   ],
   "source": [
    "def missing_percentage(df):\n",
    "    \"\"\"\n",
    "    Returns a DataFrame with the count and percentage of missing values for each column.\n",
    "    \n",
    "    Parameters:\n",
    "        df (pd.DataFrame): The input DataFrame.\n",
    "    \n",
    "    Returns:\n",
    "        pd.DataFrame: A DataFrame with columns 'MissingCount' and 'MissingPercentage'.\n",
    "    \"\"\"\n",
    "    total_rows = len(df)\n",
    "    missing_count = df.isnull().sum()\n",
    "    missing_percent = (missing_count / total_rows) * 100\n",
    "    \n",
    "    result = pd.DataFrame({\n",
    "        'MissingCount': missing_count,\n",
    "        'MissingPercentage': missing_percent.round(2)\n",
    "    })\n",
    "    \n",
    "    return result\n",
    "\n",
    "# Example usage:\n",
    "missing_info = missing_percentage(df)\n",
    "print(missing_info)\n"
   ]
  },
  {
   "cell_type": "markdown",
   "id": "7069d359",
   "metadata": {
    "papermill": {
     "duration": 0.003915,
     "end_time": "2025-06-18T01:05:51.967698",
     "exception": false,
     "start_time": "2025-06-18T01:05:51.963783",
     "status": "completed"
    },
    "tags": []
   },
   "source": [
    "## Data Preparation"
   ]
  },
  {
   "cell_type": "markdown",
   "id": "afd397cc",
   "metadata": {
    "papermill": {
     "duration": 0.003772,
     "end_time": "2025-06-18T01:05:51.975309",
     "exception": false,
     "start_time": "2025-06-18T01:05:51.971537",
     "status": "completed"
    },
    "tags": []
   },
   "source": [
    "### Data Conversion"
   ]
  },
  {
   "cell_type": "code",
   "execution_count": 7,
   "id": "2d76f44d",
   "metadata": {
    "execution": {
     "iopub.execute_input": "2025-06-18T01:05:51.984172Z",
     "iopub.status.busy": "2025-06-18T01:05:51.983720Z",
     "iopub.status.idle": "2025-06-18T01:05:52.344767Z",
     "shell.execute_reply": "2025-06-18T01:05:52.344058Z"
    },
    "papermill": {
     "duration": 0.366655,
     "end_time": "2025-06-18T01:05:52.345831",
     "exception": false,
     "start_time": "2025-06-18T01:05:51.979176",
     "status": "completed"
    },
    "tags": []
   },
   "outputs": [
    {
     "data": {
      "text/html": [
       "<div>\n",
       "<style scoped>\n",
       "    .dataframe tbody tr th:only-of-type {\n",
       "        vertical-align: middle;\n",
       "    }\n",
       "\n",
       "    .dataframe tbody tr th {\n",
       "        vertical-align: top;\n",
       "    }\n",
       "\n",
       "    .dataframe thead th {\n",
       "        text-align: right;\n",
       "    }\n",
       "</style>\n",
       "<table border=\"1\" class=\"dataframe\">\n",
       "  <thead>\n",
       "    <tr style=\"text-align: right;\">\n",
       "      <th></th>\n",
       "      <th>RecordID</th>\n",
       "      <th>Offense</th>\n",
       "      <th>IncidentID</th>\n",
       "      <th>BlockNumber</th>\n",
       "      <th>StreetName</th>\n",
       "      <th>Agency</th>\n",
       "      <th>HourReported</th>\n",
       "      <th>ReportingOfficer</th>\n",
       "      <th>Date</th>\n",
       "      <th>DateString</th>\n",
       "      <th>DayOfWeek</th>\n",
       "      <th>Weekend</th>\n",
       "      <th>Season</th>\n",
       "      <th>HourAMPM</th>\n",
       "      <th>TimeOfDay</th>\n",
       "    </tr>\n",
       "  </thead>\n",
       "  <tbody>\n",
       "    <tr>\n",
       "      <th>0</th>\n",
       "      <td>1</td>\n",
       "      <td>Assault Simple</td>\n",
       "      <td>202500020630</td>\n",
       "      <td>800</td>\n",
       "      <td>HARDY DR, B</td>\n",
       "      <td>CPD</td>\n",
       "      <td>2154</td>\n",
       "      <td>Benbow, Lauren</td>\n",
       "      <td>2025-06-15 21:54:53</td>\n",
       "      <td>2025-06-15 09:54:53 PM</td>\n",
       "      <td>Sunday</td>\n",
       "      <td>True</td>\n",
       "      <td>Spring</td>\n",
       "      <td>09:54 PM</td>\n",
       "      <td>Night</td>\n",
       "    </tr>\n",
       "    <tr>\n",
       "      <th>1</th>\n",
       "      <td>2</td>\n",
       "      <td>Assault Simple</td>\n",
       "      <td>202500020580</td>\n",
       "      <td>400</td>\n",
       "      <td>GARRETT ST, F</td>\n",
       "      <td>CPD</td>\n",
       "      <td>1440</td>\n",
       "      <td>Schwartz, Honora</td>\n",
       "      <td>2025-06-15 14:40:48</td>\n",
       "      <td>2025-06-15 02:40:48 PM</td>\n",
       "      <td>Sunday</td>\n",
       "      <td>True</td>\n",
       "      <td>Spring</td>\n",
       "      <td>02:40 PM</td>\n",
       "      <td>Afternoon</td>\n",
       "    </tr>\n",
       "    <tr>\n",
       "      <th>2</th>\n",
       "      <td>3</td>\n",
       "      <td>Lost/FoundProperty</td>\n",
       "      <td>202500020578</td>\n",
       "      <td>600</td>\n",
       "      <td>E WATER ST</td>\n",
       "      <td>CPD</td>\n",
       "      <td>1339</td>\n",
       "      <td>Crowley, Raeann</td>\n",
       "      <td>2025-06-15 13:39:36</td>\n",
       "      <td>2025-06-15 01:39:36 PM</td>\n",
       "      <td>Sunday</td>\n",
       "      <td>True</td>\n",
       "      <td>Spring</td>\n",
       "      <td>01:39 PM</td>\n",
       "      <td>Afternoon</td>\n",
       "    </tr>\n",
       "    <tr>\n",
       "      <th>3</th>\n",
       "      <td>4</td>\n",
       "      <td>Hit and Run</td>\n",
       "      <td>202500020573</td>\n",
       "      <td>900</td>\n",
       "      <td>RIVER RD</td>\n",
       "      <td>CPD</td>\n",
       "      <td>1246</td>\n",
       "      <td>Bland, Johnnà</td>\n",
       "      <td>2025-06-15 12:46:48</td>\n",
       "      <td>2025-06-15 12:46:48 PM</td>\n",
       "      <td>Sunday</td>\n",
       "      <td>True</td>\n",
       "      <td>Spring</td>\n",
       "      <td>12:46 PM</td>\n",
       "      <td>Afternoon</td>\n",
       "    </tr>\n",
       "    <tr>\n",
       "      <th>4</th>\n",
       "      <td>5</td>\n",
       "      <td>Lost/FoundProperty</td>\n",
       "      <td>202500020554</td>\n",
       "      <td>1100</td>\n",
       "      <td>5TH ST SW</td>\n",
       "      <td>CPD</td>\n",
       "      <td>0729</td>\n",
       "      <td>Jones, Mark</td>\n",
       "      <td>2025-06-15 07:29:03</td>\n",
       "      <td>2025-06-15 07:29:03 AM</td>\n",
       "      <td>Sunday</td>\n",
       "      <td>True</td>\n",
       "      <td>Spring</td>\n",
       "      <td>07:29 AM</td>\n",
       "      <td>Morning</td>\n",
       "    </tr>\n",
       "  </tbody>\n",
       "</table>\n",
       "</div>"
      ],
      "text/plain": [
       "   RecordID             Offense    IncidentID BlockNumber     StreetName  \\\n",
       "0         1      Assault Simple  202500020630         800    HARDY DR, B   \n",
       "1         2      Assault Simple  202500020580         400  GARRETT ST, F   \n",
       "2         3  Lost/FoundProperty  202500020578         600     E WATER ST   \n",
       "3         4         Hit and Run  202500020573         900       RIVER RD   \n",
       "4         5  Lost/FoundProperty  202500020554        1100      5TH ST SW   \n",
       "\n",
       "  Agency HourReported  ReportingOfficer                Date  \\\n",
       "0    CPD         2154    Benbow, Lauren 2025-06-15 21:54:53   \n",
       "1    CPD         1440  Schwartz, Honora 2025-06-15 14:40:48   \n",
       "2    CPD         1339   Crowley, Raeann 2025-06-15 13:39:36   \n",
       "3    CPD         1246     Bland, Johnnà 2025-06-15 12:46:48   \n",
       "4    CPD         0729       Jones, Mark 2025-06-15 07:29:03   \n",
       "\n",
       "               DateString DayOfWeek  Weekend  Season  HourAMPM  TimeOfDay  \n",
       "0  2025-06-15 09:54:53 PM    Sunday     True  Spring  09:54 PM      Night  \n",
       "1  2025-06-15 02:40:48 PM    Sunday     True  Spring  02:40 PM  Afternoon  \n",
       "2  2025-06-15 01:39:36 PM    Sunday     True  Spring  01:39 PM  Afternoon  \n",
       "3  2025-06-15 12:46:48 PM    Sunday     True  Spring  12:46 PM  Afternoon  \n",
       "4  2025-06-15 07:29:03 AM    Sunday     True  Spring  07:29 AM    Morning  "
      ]
     },
     "execution_count": 7,
     "metadata": {},
     "output_type": "execute_result"
    }
   ],
   "source": [
    "def convert_and_categorize_datereported(df, col='DateReported'):\n",
    "    \"\"\"\n",
    "    Converts an epoch (in milliseconds) date column into a timezone-aware datetime,\n",
    "    converts it to Eastern Time, and then creates columns for day-of-week, weekend flag,\n",
    "    season, 12-hour formatted time, and time-of-day. Keeps both a real datetime column\n",
    "    (Date) and a string representation (DateString).\n",
    "    \"\"\"\n",
    "    import pandas as pd\n",
    "\n",
    "    # Convert the epoch timestamp to a pandas datetime object as UTC, then convert to US/Eastern.\n",
    "    df[\"DateReported_dt\"] = (\n",
    "        pd.to_datetime(df[col], unit=\"ms\", errors=\"coerce\", utc=True)\n",
    "        .dt.tz_convert(\"US/Eastern\")\n",
    "    )\n",
    "    \n",
    "    # Create a true datetime column (remove timezone if you prefer naive datetime)\n",
    "    df[\"Date\"] = df[\"DateReported_dt\"].dt.tz_localize(None)\n",
    "\n",
    "    # Optionally, create a separate string-formatted column\n",
    "    df[\"DateString\"] = df[\"DateReported_dt\"].dt.strftime(\"%Y-%m-%d %I:%M:%S %p\")\n",
    "    \n",
    "    # DayOfWeek\n",
    "    df[\"DayOfWeek\"] = df[\"DateReported_dt\"].dt.day_name()\n",
    "    \n",
    "    # Weekend\n",
    "    df[\"Weekend\"] = df[\"DayOfWeek\"].isin([\"Saturday\", \"Sunday\"])\n",
    "    \n",
    "    # Helper function to determine the season\n",
    "    def get_season(dt):\n",
    "        month = dt.month\n",
    "        day = dt.day\n",
    "        # Approximate Northern Hemisphere season boundaries:\n",
    "        if (month == 12 and day >= 21) or (month < 3) or (month == 3 and day < 20):\n",
    "            return \"Winter\"\n",
    "        elif (month == 3 and day >= 20) or (month < 6) or (month == 6 and day < 21):\n",
    "            return \"Spring\"\n",
    "        elif (month == 6 and day >= 21) or (month < 9) or (month == 9 and day < 22):\n",
    "            return \"Summer\"\n",
    "        else:\n",
    "            return \"Autumn\"\n",
    "    \n",
    "    df[\"Season\"] = df[\"DateReported_dt\"].apply(get_season)\n",
    "    \n",
    "    # 12-hour formatted time (HourAMPM)\n",
    "    df[\"HourAMPM\"] = df[\"DateReported_dt\"].dt.strftime(\"%I:%M %p\")\n",
    "    \n",
    "    # Extract hour (0-23) for time-of-day\n",
    "    df[\"HourValue\"] = df[\"DateReported_dt\"].dt.hour\n",
    "    \n",
    "    def time_of_day(hour):\n",
    "        if pd.isnull(hour):\n",
    "            return None\n",
    "        if 5 <= hour < 12:\n",
    "            return \"Morning\"\n",
    "        elif 12 <= hour < 17:\n",
    "            return \"Afternoon\"\n",
    "        elif 17 <= hour < 21:\n",
    "            return \"Evening\"\n",
    "        else:\n",
    "            return \"Night\"\n",
    "    \n",
    "    df[\"TimeOfDay\"] = df[\"HourValue\"].apply(time_of_day)\n",
    "    \n",
    "    # Drop columns you no longer need\n",
    "    df.drop(columns=[col, \"DateReported_dt\", \"HourValue\"], inplace=True)\n",
    "    \n",
    "    return df\n",
    "\n",
    "# Example usage:\n",
    "df = convert_and_categorize_datereported(df)\n",
    "df.head()\n"
   ]
  },
  {
   "cell_type": "code",
   "execution_count": 8,
   "id": "d8cb6c4f",
   "metadata": {
    "execution": {
     "iopub.execute_input": "2025-06-18T01:05:52.355520Z",
     "iopub.status.busy": "2025-06-18T01:05:52.354975Z",
     "iopub.status.idle": "2025-06-18T01:05:52.380364Z",
     "shell.execute_reply": "2025-06-18T01:05:52.379651Z"
    },
    "papermill": {
     "duration": 0.031246,
     "end_time": "2025-06-18T01:05:52.381388",
     "exception": false,
     "start_time": "2025-06-18T01:05:52.350142",
     "status": "completed"
    },
    "tags": []
   },
   "outputs": [
    {
     "name": "stdout",
     "output_type": "stream",
     "text": [
      "<class 'pandas.core.frame.DataFrame'>\n",
      "RangeIndex: 25520 entries, 0 to 25519\n",
      "Data columns (total 15 columns):\n",
      " #   Column            Non-Null Count  Dtype         \n",
      "---  ------            --------------  -----         \n",
      " 0   RecordID          25520 non-null  int64         \n",
      " 1   Offense           25520 non-null  object        \n",
      " 2   IncidentID        25520 non-null  object        \n",
      " 3   BlockNumber       25520 non-null  object        \n",
      " 4   StreetName        25520 non-null  object        \n",
      " 5   Agency            25520 non-null  object        \n",
      " 6   HourReported      25520 non-null  object        \n",
      " 7   ReportingOfficer  25503 non-null  object        \n",
      " 8   Date              25520 non-null  datetime64[ns]\n",
      " 9   DateString        25520 non-null  object        \n",
      " 10  DayOfWeek         25520 non-null  object        \n",
      " 11  Weekend           25520 non-null  bool          \n",
      " 12  Season            25520 non-null  object        \n",
      " 13  HourAMPM          25520 non-null  object        \n",
      " 14  TimeOfDay         25520 non-null  object        \n",
      "dtypes: bool(1), datetime64[ns](1), int64(1), object(12)\n",
      "memory usage: 2.8+ MB\n"
     ]
    }
   ],
   "source": [
    "df.info()"
   ]
  },
  {
   "cell_type": "markdown",
   "id": "341d1b37",
   "metadata": {
    "papermill": {
     "duration": 0.004063,
     "end_time": "2025-06-18T01:05:52.389720",
     "exception": false,
     "start_time": "2025-06-18T01:05:52.385657",
     "status": "completed"
    },
    "tags": []
   },
   "source": [
    "### Coordinates"
   ]
  },
  {
   "cell_type": "code",
   "execution_count": 9,
   "id": "a31cdd86",
   "metadata": {
    "execution": {
     "iopub.execute_input": "2025-06-18T01:05:52.399029Z",
     "iopub.status.busy": "2025-06-18T01:05:52.398667Z",
     "iopub.status.idle": "2025-06-18T01:05:52.441690Z",
     "shell.execute_reply": "2025-06-18T01:05:52.441110Z"
    },
    "papermill": {
     "duration": 0.048763,
     "end_time": "2025-06-18T01:05:52.442665",
     "exception": false,
     "start_time": "2025-06-18T01:05:52.393902",
     "status": "completed"
    },
    "tags": []
   },
   "outputs": [
    {
     "name": "stdout",
     "output_type": "stream",
     "text": [
      "Loaded geocode cache.\n",
      "Geocode cache updated and saved.\n"
     ]
    },
    {
     "data": {
      "text/html": [
       "<div>\n",
       "<style scoped>\n",
       "    .dataframe tbody tr th:only-of-type {\n",
       "        vertical-align: middle;\n",
       "    }\n",
       "\n",
       "    .dataframe tbody tr th {\n",
       "        vertical-align: top;\n",
       "    }\n",
       "\n",
       "    .dataframe thead th {\n",
       "        text-align: right;\n",
       "    }\n",
       "</style>\n",
       "<table border=\"1\" class=\"dataframe\">\n",
       "  <thead>\n",
       "    <tr style=\"text-align: right;\">\n",
       "      <th></th>\n",
       "      <th>RecordID</th>\n",
       "      <th>Offense</th>\n",
       "      <th>IncidentID</th>\n",
       "      <th>BlockNumber</th>\n",
       "      <th>StreetName</th>\n",
       "      <th>Agency</th>\n",
       "      <th>HourReported</th>\n",
       "      <th>ReportingOfficer</th>\n",
       "      <th>Date</th>\n",
       "      <th>DateString</th>\n",
       "      <th>DayOfWeek</th>\n",
       "      <th>Weekend</th>\n",
       "      <th>Season</th>\n",
       "      <th>HourAMPM</th>\n",
       "      <th>TimeOfDay</th>\n",
       "      <th>FullStreet</th>\n",
       "      <th>lat</th>\n",
       "      <th>lon</th>\n",
       "    </tr>\n",
       "  </thead>\n",
       "  <tbody>\n",
       "    <tr>\n",
       "      <th>0</th>\n",
       "      <td>1</td>\n",
       "      <td>Assault Simple</td>\n",
       "      <td>202500020630</td>\n",
       "      <td>800</td>\n",
       "      <td>HARDY DR, B</td>\n",
       "      <td>CPD</td>\n",
       "      <td>2154</td>\n",
       "      <td>Benbow, Lauren</td>\n",
       "      <td>2025-06-15 21:54:53</td>\n",
       "      <td>2025-06-15 09:54:53 PM</td>\n",
       "      <td>Sunday</td>\n",
       "      <td>True</td>\n",
       "      <td>Spring</td>\n",
       "      <td>09:54 PM</td>\n",
       "      <td>Night</td>\n",
       "      <td>800 HARDY DR, B</td>\n",
       "      <td>38.033239</td>\n",
       "      <td>-78.490398</td>\n",
       "    </tr>\n",
       "    <tr>\n",
       "      <th>1</th>\n",
       "      <td>2</td>\n",
       "      <td>Assault Simple</td>\n",
       "      <td>202500020580</td>\n",
       "      <td>400</td>\n",
       "      <td>GARRETT ST, F</td>\n",
       "      <td>CPD</td>\n",
       "      <td>1440</td>\n",
       "      <td>Schwartz, Honora</td>\n",
       "      <td>2025-06-15 14:40:48</td>\n",
       "      <td>2025-06-15 02:40:48 PM</td>\n",
       "      <td>Sunday</td>\n",
       "      <td>True</td>\n",
       "      <td>Spring</td>\n",
       "      <td>02:40 PM</td>\n",
       "      <td>Afternoon</td>\n",
       "      <td>400 GARRETT ST, F</td>\n",
       "      <td>38.027935</td>\n",
       "      <td>-78.481659</td>\n",
       "    </tr>\n",
       "    <tr>\n",
       "      <th>2</th>\n",
       "      <td>3</td>\n",
       "      <td>Lost/FoundProperty</td>\n",
       "      <td>202500020578</td>\n",
       "      <td>600</td>\n",
       "      <td>E WATER ST</td>\n",
       "      <td>CPD</td>\n",
       "      <td>1339</td>\n",
       "      <td>Crowley, Raeann</td>\n",
       "      <td>2025-06-15 13:39:36</td>\n",
       "      <td>2025-06-15 01:39:36 PM</td>\n",
       "      <td>Sunday</td>\n",
       "      <td>True</td>\n",
       "      <td>Spring</td>\n",
       "      <td>01:39 PM</td>\n",
       "      <td>Afternoon</td>\n",
       "      <td>600 E WATER ST</td>\n",
       "      <td>38.028757</td>\n",
       "      <td>-78.477608</td>\n",
       "    </tr>\n",
       "    <tr>\n",
       "      <th>3</th>\n",
       "      <td>4</td>\n",
       "      <td>Hit and Run</td>\n",
       "      <td>202500020573</td>\n",
       "      <td>900</td>\n",
       "      <td>RIVER RD</td>\n",
       "      <td>CPD</td>\n",
       "      <td>1246</td>\n",
       "      <td>Bland, Johnnà</td>\n",
       "      <td>2025-06-15 12:46:48</td>\n",
       "      <td>2025-06-15 12:46:48 PM</td>\n",
       "      <td>Sunday</td>\n",
       "      <td>True</td>\n",
       "      <td>Spring</td>\n",
       "      <td>12:46 PM</td>\n",
       "      <td>Afternoon</td>\n",
       "      <td>900 RIVER RD</td>\n",
       "      <td>38.036328</td>\n",
       "      <td>-78.458121</td>\n",
       "    </tr>\n",
       "    <tr>\n",
       "      <th>4</th>\n",
       "      <td>5</td>\n",
       "      <td>Lost/FoundProperty</td>\n",
       "      <td>202500020554</td>\n",
       "      <td>1100</td>\n",
       "      <td>5TH ST SW</td>\n",
       "      <td>CPD</td>\n",
       "      <td>0729</td>\n",
       "      <td>Jones, Mark</td>\n",
       "      <td>2025-06-15 07:29:03</td>\n",
       "      <td>2025-06-15 07:29:03 AM</td>\n",
       "      <td>Sunday</td>\n",
       "      <td>True</td>\n",
       "      <td>Spring</td>\n",
       "      <td>07:29 AM</td>\n",
       "      <td>Morning</td>\n",
       "      <td>1100 5TH ST SW</td>\n",
       "      <td>38.017130</td>\n",
       "      <td>-78.497806</td>\n",
       "    </tr>\n",
       "  </tbody>\n",
       "</table>\n",
       "</div>"
      ],
      "text/plain": [
       "   RecordID             Offense    IncidentID BlockNumber     StreetName  \\\n",
       "0         1      Assault Simple  202500020630         800    HARDY DR, B   \n",
       "1         2      Assault Simple  202500020580         400  GARRETT ST, F   \n",
       "2         3  Lost/FoundProperty  202500020578         600     E WATER ST   \n",
       "3         4         Hit and Run  202500020573         900       RIVER RD   \n",
       "4         5  Lost/FoundProperty  202500020554        1100      5TH ST SW   \n",
       "\n",
       "  Agency HourReported  ReportingOfficer                Date  \\\n",
       "0    CPD         2154    Benbow, Lauren 2025-06-15 21:54:53   \n",
       "1    CPD         1440  Schwartz, Honora 2025-06-15 14:40:48   \n",
       "2    CPD         1339   Crowley, Raeann 2025-06-15 13:39:36   \n",
       "3    CPD         1246     Bland, Johnnà 2025-06-15 12:46:48   \n",
       "4    CPD         0729       Jones, Mark 2025-06-15 07:29:03   \n",
       "\n",
       "               DateString DayOfWeek  Weekend  Season  HourAMPM  TimeOfDay  \\\n",
       "0  2025-06-15 09:54:53 PM    Sunday     True  Spring  09:54 PM      Night   \n",
       "1  2025-06-15 02:40:48 PM    Sunday     True  Spring  02:40 PM  Afternoon   \n",
       "2  2025-06-15 01:39:36 PM    Sunday     True  Spring  01:39 PM  Afternoon   \n",
       "3  2025-06-15 12:46:48 PM    Sunday     True  Spring  12:46 PM  Afternoon   \n",
       "4  2025-06-15 07:29:03 AM    Sunday     True  Spring  07:29 AM    Morning   \n",
       "\n",
       "          FullStreet        lat        lon  \n",
       "0    800 HARDY DR, B  38.033239 -78.490398  \n",
       "1  400 GARRETT ST, F  38.027935 -78.481659  \n",
       "2     600 E WATER ST  38.028757 -78.477608  \n",
       "3       900 RIVER RD  38.036328 -78.458121  \n",
       "4     1100 5TH ST SW  38.017130 -78.497806  "
      ]
     },
     "execution_count": 9,
     "metadata": {},
     "output_type": "execute_result"
    }
   ],
   "source": [
    "# Combine BlockNumber and StreetName into a full address string\n",
    "df['FullStreet'] = df['BlockNumber'].astype(str) + \" \" + df['StreetName']\n",
    "\n",
    "# --- Step 1: Setup the Google Maps Client and Cache ---\n",
    "gmaps = googlemaps.Client(key=GOOGLE_API_KEY)\n",
    "\n",
    "# Try to load cached geocoding results if available.\n",
    "try:\n",
    "    with open(\"geocode_cache_google.pkl\", \"rb\") as f:\n",
    "        street_coords = pickle.load(f)\n",
    "    print(\"Loaded geocode cache.\")\n",
    "except FileNotFoundError:\n",
    "    street_coords = {}\n",
    "    print(\"No cache found; starting fresh.\")\n",
    "\n",
    "def geocode_address(address):\n",
    "    try:\n",
    "        # Append city and state to help geocoding\n",
    "        result = gmaps.geocode(f\"{address}, Charlottesville, VA\")\n",
    "        if result:\n",
    "            lat = result[0]['geometry']['location']['lat']\n",
    "            lon = result[0]['geometry']['location']['lng']\n",
    "            return lat, lon\n",
    "    except Exception as e:\n",
    "        print(f\"Error geocoding {address}: {e}\")\n",
    "    return None, None\n",
    "\n",
    "# --- Step 2: Geocode Only New Addresses ---\n",
    "unique_addresses = df['FullStreet'].unique()\n",
    "for address in unique_addresses:\n",
    "    if address not in street_coords:\n",
    "        lat, lon = geocode_address(address)\n",
    "        street_coords[address] = (lat, lon)\n",
    "        print(f\"Geocoded {address}: {lat}, {lon}\")\n",
    "\n",
    "# Save the updated cache to disk.\n",
    "with open(\"geocode_cache_google.pkl\", \"wb\") as f:\n",
    "    pickle.dump(street_coords, f)\n",
    "    print(\"Geocode cache updated and saved.\")\n",
    "\n",
    "# --- Step 3: Map Coordinates Back to DataFrame ---\n",
    "df['lat'] = df['FullStreet'].map(lambda s: street_coords.get(s, (None, None))[0])\n",
    "df['lon'] = df['FullStreet'].map(lambda s: street_coords.get(s, (None, None))[1])\n",
    "\n",
    "df.head()"
   ]
  },
  {
   "cell_type": "markdown",
   "id": "7f1a29b7",
   "metadata": {
    "papermill": {
     "duration": 0.004514,
     "end_time": "2025-06-18T01:05:52.451849",
     "exception": false,
     "start_time": "2025-06-18T01:05:52.447335",
     "status": "completed"
    },
    "tags": []
   },
   "source": [
    "### Neighborhood"
   ]
  },
  {
   "cell_type": "code",
   "execution_count": 10,
   "id": "e9ff122c",
   "metadata": {
    "execution": {
     "iopub.execute_input": "2025-06-18T01:05:52.462029Z",
     "iopub.status.busy": "2025-06-18T01:05:52.461619Z",
     "iopub.status.idle": "2025-06-18T01:05:53.665380Z",
     "shell.execute_reply": "2025-06-18T01:05:53.664677Z"
    },
    "papermill": {
     "duration": 1.21007,
     "end_time": "2025-06-18T01:05:53.666498",
     "exception": false,
     "start_time": "2025-06-18T01:05:52.456428",
     "status": "completed"
    },
    "tags": []
   },
   "outputs": [
    {
     "name": "stdout",
     "output_type": "stream",
     "text": [
      "Loaded neighborhood cache.\n"
     ]
    },
    {
     "name": "stdout",
     "output_type": "stream",
     "text": [
      "Error getting neighborhood for nan, nan: HTTP Error: 400\n",
      "Error getting neighborhood for nan, nan: HTTP Error: 400\n"
     ]
    },
    {
     "name": "stdout",
     "output_type": "stream",
     "text": [
      "Error getting neighborhood for nan, nan: HTTP Error: 400\n",
      "Error getting neighborhood for nan, nan: HTTP Error: 400\n",
      "Error getting neighborhood for nan, nan: HTTP Error: 400\n"
     ]
    },
    {
     "name": "stdout",
     "output_type": "stream",
     "text": [
      "Error getting neighborhood for nan, nan: HTTP Error: 400\n",
      "Error getting neighborhood for nan, nan: HTTP Error: 400\n"
     ]
    },
    {
     "name": "stdout",
     "output_type": "stream",
     "text": [
      "Error getting neighborhood for nan, nan: HTTP Error: 400\n",
      "Error getting neighborhood for nan, nan: HTTP Error: 400\n",
      "Error getting neighborhood for nan, nan: HTTP Error: 400\n"
     ]
    },
    {
     "name": "stdout",
     "output_type": "stream",
     "text": [
      "Error getting neighborhood for nan, nan: HTTP Error: 400\n",
      "Error getting neighborhood for nan, nan: HTTP Error: 400\n"
     ]
    },
    {
     "name": "stdout",
     "output_type": "stream",
     "text": [
      "Error getting neighborhood for nan, nan: HTTP Error: 400\n",
      "Error getting neighborhood for nan, nan: HTTP Error: 400\n",
      "Error getting neighborhood for nan, nan: HTTP Error: 400\n"
     ]
    },
    {
     "name": "stdout",
     "output_type": "stream",
     "text": [
      "Error getting neighborhood for nan, nan: HTTP Error: 400\n",
      "Error getting neighborhood for nan, nan: HTTP Error: 400\n"
     ]
    },
    {
     "name": "stdout",
     "output_type": "stream",
     "text": [
      "Error getting neighborhood for nan, nan: HTTP Error: 400\n",
      "Error getting neighborhood for nan, nan: HTTP Error: 400\n",
      "Error getting neighborhood for nan, nan: HTTP Error: 400\n"
     ]
    },
    {
     "name": "stdout",
     "output_type": "stream",
     "text": [
      "Error getting neighborhood for nan, nan: HTTP Error: 400\n"
     ]
    },
    {
     "data": {
      "text/html": [
       "<div>\n",
       "<style scoped>\n",
       "    .dataframe tbody tr th:only-of-type {\n",
       "        vertical-align: middle;\n",
       "    }\n",
       "\n",
       "    .dataframe tbody tr th {\n",
       "        vertical-align: top;\n",
       "    }\n",
       "\n",
       "    .dataframe thead th {\n",
       "        text-align: right;\n",
       "    }\n",
       "</style>\n",
       "<table border=\"1\" class=\"dataframe\">\n",
       "  <thead>\n",
       "    <tr style=\"text-align: right;\">\n",
       "      <th></th>\n",
       "      <th>RecordID</th>\n",
       "      <th>Offense</th>\n",
       "      <th>IncidentID</th>\n",
       "      <th>BlockNumber</th>\n",
       "      <th>StreetName</th>\n",
       "      <th>Agency</th>\n",
       "      <th>HourReported</th>\n",
       "      <th>ReportingOfficer</th>\n",
       "      <th>Date</th>\n",
       "      <th>DateString</th>\n",
       "      <th>DayOfWeek</th>\n",
       "      <th>Weekend</th>\n",
       "      <th>Season</th>\n",
       "      <th>HourAMPM</th>\n",
       "      <th>TimeOfDay</th>\n",
       "      <th>FullStreet</th>\n",
       "      <th>lat</th>\n",
       "      <th>lon</th>\n",
       "      <th>neighborhood</th>\n",
       "    </tr>\n",
       "  </thead>\n",
       "  <tbody>\n",
       "    <tr>\n",
       "      <th>0</th>\n",
       "      <td>1</td>\n",
       "      <td>Assault Simple</td>\n",
       "      <td>202500020630</td>\n",
       "      <td>800</td>\n",
       "      <td>HARDY DR, B</td>\n",
       "      <td>CPD</td>\n",
       "      <td>2154</td>\n",
       "      <td>Benbow, Lauren</td>\n",
       "      <td>2025-06-15 21:54:53</td>\n",
       "      <td>2025-06-15 09:54:53 PM</td>\n",
       "      <td>Sunday</td>\n",
       "      <td>True</td>\n",
       "      <td>Spring</td>\n",
       "      <td>09:54 PM</td>\n",
       "      <td>Night</td>\n",
       "      <td>800 HARDY DR, B</td>\n",
       "      <td>38.033239</td>\n",
       "      <td>-78.490398</td>\n",
       "      <td>10th &amp; Page</td>\n",
       "    </tr>\n",
       "    <tr>\n",
       "      <th>1</th>\n",
       "      <td>2</td>\n",
       "      <td>Assault Simple</td>\n",
       "      <td>202500020580</td>\n",
       "      <td>400</td>\n",
       "      <td>GARRETT ST, F</td>\n",
       "      <td>CPD</td>\n",
       "      <td>1440</td>\n",
       "      <td>Schwartz, Honora</td>\n",
       "      <td>2025-06-15 14:40:48</td>\n",
       "      <td>2025-06-15 02:40:48 PM</td>\n",
       "      <td>Sunday</td>\n",
       "      <td>True</td>\n",
       "      <td>Spring</td>\n",
       "      <td>02:40 PM</td>\n",
       "      <td>Afternoon</td>\n",
       "      <td>400 GARRETT ST, F</td>\n",
       "      <td>38.027935</td>\n",
       "      <td>-78.481659</td>\n",
       "      <td>North Downtown</td>\n",
       "    </tr>\n",
       "    <tr>\n",
       "      <th>2</th>\n",
       "      <td>3</td>\n",
       "      <td>Lost/FoundProperty</td>\n",
       "      <td>202500020578</td>\n",
       "      <td>600</td>\n",
       "      <td>E WATER ST</td>\n",
       "      <td>CPD</td>\n",
       "      <td>1339</td>\n",
       "      <td>Crowley, Raeann</td>\n",
       "      <td>2025-06-15 13:39:36</td>\n",
       "      <td>2025-06-15 01:39:36 PM</td>\n",
       "      <td>Sunday</td>\n",
       "      <td>True</td>\n",
       "      <td>Spring</td>\n",
       "      <td>01:39 PM</td>\n",
       "      <td>Afternoon</td>\n",
       "      <td>600 E WATER ST</td>\n",
       "      <td>38.028757</td>\n",
       "      <td>-78.477608</td>\n",
       "      <td>North Downtown</td>\n",
       "    </tr>\n",
       "    <tr>\n",
       "      <th>3</th>\n",
       "      <td>4</td>\n",
       "      <td>Hit and Run</td>\n",
       "      <td>202500020573</td>\n",
       "      <td>900</td>\n",
       "      <td>RIVER RD</td>\n",
       "      <td>CPD</td>\n",
       "      <td>1246</td>\n",
       "      <td>Bland, Johnnà</td>\n",
       "      <td>2025-06-15 12:46:48</td>\n",
       "      <td>2025-06-15 12:46:48 PM</td>\n",
       "      <td>Sunday</td>\n",
       "      <td>True</td>\n",
       "      <td>Spring</td>\n",
       "      <td>12:46 PM</td>\n",
       "      <td>Afternoon</td>\n",
       "      <td>900 RIVER RD</td>\n",
       "      <td>38.036328</td>\n",
       "      <td>-78.458121</td>\n",
       "      <td>Locust Grove</td>\n",
       "    </tr>\n",
       "    <tr>\n",
       "      <th>4</th>\n",
       "      <td>5</td>\n",
       "      <td>Lost/FoundProperty</td>\n",
       "      <td>202500020554</td>\n",
       "      <td>1100</td>\n",
       "      <td>5TH ST SW</td>\n",
       "      <td>CPD</td>\n",
       "      <td>0729</td>\n",
       "      <td>Jones, Mark</td>\n",
       "      <td>2025-06-15 07:29:03</td>\n",
       "      <td>2025-06-15 07:29:03 AM</td>\n",
       "      <td>Sunday</td>\n",
       "      <td>True</td>\n",
       "      <td>Spring</td>\n",
       "      <td>07:29 AM</td>\n",
       "      <td>Morning</td>\n",
       "      <td>1100 5TH ST SW</td>\n",
       "      <td>38.017130</td>\n",
       "      <td>-78.497806</td>\n",
       "      <td>Johnson Village</td>\n",
       "    </tr>\n",
       "  </tbody>\n",
       "</table>\n",
       "</div>"
      ],
      "text/plain": [
       "   RecordID             Offense    IncidentID BlockNumber     StreetName  \\\n",
       "0         1      Assault Simple  202500020630         800    HARDY DR, B   \n",
       "1         2      Assault Simple  202500020580         400  GARRETT ST, F   \n",
       "2         3  Lost/FoundProperty  202500020578         600     E WATER ST   \n",
       "3         4         Hit and Run  202500020573         900       RIVER RD   \n",
       "4         5  Lost/FoundProperty  202500020554        1100      5TH ST SW   \n",
       "\n",
       "  Agency HourReported  ReportingOfficer                Date  \\\n",
       "0    CPD         2154    Benbow, Lauren 2025-06-15 21:54:53   \n",
       "1    CPD         1440  Schwartz, Honora 2025-06-15 14:40:48   \n",
       "2    CPD         1339   Crowley, Raeann 2025-06-15 13:39:36   \n",
       "3    CPD         1246     Bland, Johnnà 2025-06-15 12:46:48   \n",
       "4    CPD         0729       Jones, Mark 2025-06-15 07:29:03   \n",
       "\n",
       "               DateString DayOfWeek  Weekend  Season  HourAMPM  TimeOfDay  \\\n",
       "0  2025-06-15 09:54:53 PM    Sunday     True  Spring  09:54 PM      Night   \n",
       "1  2025-06-15 02:40:48 PM    Sunday     True  Spring  02:40 PM  Afternoon   \n",
       "2  2025-06-15 01:39:36 PM    Sunday     True  Spring  01:39 PM  Afternoon   \n",
       "3  2025-06-15 12:46:48 PM    Sunday     True  Spring  12:46 PM  Afternoon   \n",
       "4  2025-06-15 07:29:03 AM    Sunday     True  Spring  07:29 AM    Morning   \n",
       "\n",
       "          FullStreet        lat        lon     neighborhood  \n",
       "0    800 HARDY DR, B  38.033239 -78.490398      10th & Page  \n",
       "1  400 GARRETT ST, F  38.027935 -78.481659   North Downtown  \n",
       "2     600 E WATER ST  38.028757 -78.477608   North Downtown  \n",
       "3       900 RIVER RD  38.036328 -78.458121     Locust Grove  \n",
       "4     1100 5TH ST SW  38.017130 -78.497806  Johnson Village  "
      ]
     },
     "execution_count": 10,
     "metadata": {},
     "output_type": "execute_result"
    }
   ],
   "source": [
    "# Initialize the Google Maps client.\n",
    "gmaps = googlemaps.Client(key=GOOGLE_API_KEY)\n",
    "\n",
    "# Try to load a persistent neighborhood cache if available.\n",
    "try:\n",
    "    with open(\"neighborhood_cache.pkl\", \"rb\") as f:\n",
    "        neighborhood_cache = pickle.load(f)\n",
    "    print(\"Loaded neighborhood cache.\")\n",
    "except FileNotFoundError:\n",
    "    neighborhood_cache = {}\n",
    "    print(\"No neighborhood cache found; starting fresh.\")\n",
    "\n",
    "def get_neighborhood(lat, lon):\n",
    "    \"\"\"\n",
    "    Reverse geocodes a latitude and longitude to retrieve the neighborhood.\n",
    "    Caches results to speed up subsequent lookups.\n",
    "    \"\"\"\n",
    "    key = (lat, lon)\n",
    "    if key in neighborhood_cache:\n",
    "        return neighborhood_cache[key]\n",
    "    \n",
    "    try:\n",
    "        result = gmaps.reverse_geocode((lat, lon))\n",
    "        if result:\n",
    "            # Look for the 'neighborhood' component in the first result.\n",
    "            for component in result[0]['address_components']:\n",
    "                if 'neighborhood' in component['types']:\n",
    "                    neighborhood = component['long_name']\n",
    "                    neighborhood_cache[key] = neighborhood\n",
    "                    return neighborhood\n",
    "            # If no neighborhood is found, return \"N/A\"\n",
    "            neighborhood_cache[key] = \"N/A\"\n",
    "            return \"N/A\"\n",
    "    except Exception as e:\n",
    "        print(f\"Error getting neighborhood for {lat}, {lon}: {e}\")\n",
    "        return \"N/A\"\n",
    "    \n",
    "    # Pause to respect usage limits.\n",
    "    time.sleep(1)\n",
    "\n",
    "# Example usage: Apply to your DataFrame 'df' that already has 'lat' and 'lon' columns.\n",
    "df['neighborhood'] = df.apply(lambda row: get_neighborhood(row['lat'], row['lon']), axis=1)\n",
    "\n",
    "# Save the updated neighborhood cache.\n",
    "with open(\"neighborhood_cache.pkl\", \"wb\") as f:\n",
    "    pickle.dump(neighborhood_cache, f)\n",
    "\n",
    "df.head()\n"
   ]
  },
  {
   "cell_type": "markdown",
   "id": "22677b0c",
   "metadata": {
    "papermill": {
     "duration": 0.004963,
     "end_time": "2025-06-18T01:05:53.676786",
     "exception": false,
     "start_time": "2025-06-18T01:05:53.671823",
     "status": "completed"
    },
    "tags": []
   },
   "source": [
    "### Zip"
   ]
  },
  {
   "cell_type": "code",
   "execution_count": 11,
   "id": "f92889c7",
   "metadata": {
    "execution": {
     "iopub.execute_input": "2025-06-18T01:05:53.687789Z",
     "iopub.status.busy": "2025-06-18T01:05:53.687422Z",
     "iopub.status.idle": "2025-06-18T01:06:14.954154Z",
     "shell.execute_reply": "2025-06-18T01:06:14.953480Z"
    },
    "papermill": {
     "duration": 21.273441,
     "end_time": "2025-06-18T01:06:14.955223",
     "exception": false,
     "start_time": "2025-06-18T01:05:53.681782",
     "status": "completed"
    },
    "tags": []
   },
   "outputs": [
    {
     "name": "stdout",
     "output_type": "stream",
     "text": [
      "Loaded zip cache.\n",
      "Error getting ZIP for nan, nan: Must be a coordinate pair or Point\n"
     ]
    },
    {
     "name": "stdout",
     "output_type": "stream",
     "text": [
      "Error getting ZIP for nan, nan: Must be a coordinate pair or Point\n"
     ]
    },
    {
     "name": "stdout",
     "output_type": "stream",
     "text": [
      "Error getting ZIP for nan, nan: Must be a coordinate pair or Point\n"
     ]
    },
    {
     "name": "stdout",
     "output_type": "stream",
     "text": [
      "Error getting ZIP for nan, nan: Must be a coordinate pair or Point\n"
     ]
    },
    {
     "name": "stdout",
     "output_type": "stream",
     "text": [
      "Error getting ZIP for nan, nan: Must be a coordinate pair or Point\n"
     ]
    },
    {
     "name": "stdout",
     "output_type": "stream",
     "text": [
      "Error getting ZIP for nan, nan: Must be a coordinate pair or Point\n"
     ]
    },
    {
     "name": "stdout",
     "output_type": "stream",
     "text": [
      "Error getting ZIP for nan, nan: Must be a coordinate pair or Point\n"
     ]
    },
    {
     "name": "stdout",
     "output_type": "stream",
     "text": [
      "Error getting ZIP for nan, nan: Must be a coordinate pair or Point\n"
     ]
    },
    {
     "name": "stdout",
     "output_type": "stream",
     "text": [
      "Error getting ZIP for nan, nan: Must be a coordinate pair or Point\n"
     ]
    },
    {
     "name": "stdout",
     "output_type": "stream",
     "text": [
      "Error getting ZIP for nan, nan: Must be a coordinate pair or Point\n"
     ]
    },
    {
     "name": "stdout",
     "output_type": "stream",
     "text": [
      "Error getting ZIP for nan, nan: Must be a coordinate pair or Point\n"
     ]
    },
    {
     "name": "stdout",
     "output_type": "stream",
     "text": [
      "Error getting ZIP for nan, nan: Must be a coordinate pair or Point\n"
     ]
    },
    {
     "name": "stdout",
     "output_type": "stream",
     "text": [
      "Error getting ZIP for nan, nan: Must be a coordinate pair or Point\n"
     ]
    },
    {
     "name": "stdout",
     "output_type": "stream",
     "text": [
      "Error getting ZIP for nan, nan: Must be a coordinate pair or Point\n"
     ]
    },
    {
     "name": "stdout",
     "output_type": "stream",
     "text": [
      "Error getting ZIP for nan, nan: Must be a coordinate pair or Point\n"
     ]
    },
    {
     "name": "stdout",
     "output_type": "stream",
     "text": [
      "Error getting ZIP for nan, nan: Must be a coordinate pair or Point\n"
     ]
    },
    {
     "name": "stdout",
     "output_type": "stream",
     "text": [
      "Error getting ZIP for nan, nan: Must be a coordinate pair or Point\n"
     ]
    },
    {
     "name": "stdout",
     "output_type": "stream",
     "text": [
      "Error getting ZIP for nan, nan: Must be a coordinate pair or Point\n"
     ]
    },
    {
     "name": "stdout",
     "output_type": "stream",
     "text": [
      "Error getting ZIP for nan, nan: Must be a coordinate pair or Point\n"
     ]
    },
    {
     "name": "stdout",
     "output_type": "stream",
     "text": [
      "Error getting ZIP for nan, nan: Must be a coordinate pair or Point\n"
     ]
    },
    {
     "name": "stdout",
     "output_type": "stream",
     "text": [
      "Error getting ZIP for nan, nan: Must be a coordinate pair or Point\n"
     ]
    },
    {
     "data": {
      "text/html": [
       "<div>\n",
       "<style scoped>\n",
       "    .dataframe tbody tr th:only-of-type {\n",
       "        vertical-align: middle;\n",
       "    }\n",
       "\n",
       "    .dataframe tbody tr th {\n",
       "        vertical-align: top;\n",
       "    }\n",
       "\n",
       "    .dataframe thead th {\n",
       "        text-align: right;\n",
       "    }\n",
       "</style>\n",
       "<table border=\"1\" class=\"dataframe\">\n",
       "  <thead>\n",
       "    <tr style=\"text-align: right;\">\n",
       "      <th></th>\n",
       "      <th>RecordID</th>\n",
       "      <th>Offense</th>\n",
       "      <th>IncidentID</th>\n",
       "      <th>BlockNumber</th>\n",
       "      <th>StreetName</th>\n",
       "      <th>Agency</th>\n",
       "      <th>HourReported</th>\n",
       "      <th>ReportingOfficer</th>\n",
       "      <th>Date</th>\n",
       "      <th>DateString</th>\n",
       "      <th>DayOfWeek</th>\n",
       "      <th>Weekend</th>\n",
       "      <th>Season</th>\n",
       "      <th>HourAMPM</th>\n",
       "      <th>TimeOfDay</th>\n",
       "      <th>FullStreet</th>\n",
       "      <th>lat</th>\n",
       "      <th>lon</th>\n",
       "      <th>neighborhood</th>\n",
       "      <th>zip</th>\n",
       "    </tr>\n",
       "  </thead>\n",
       "  <tbody>\n",
       "    <tr>\n",
       "      <th>0</th>\n",
       "      <td>1</td>\n",
       "      <td>Assault Simple</td>\n",
       "      <td>202500020630</td>\n",
       "      <td>800</td>\n",
       "      <td>HARDY DR, B</td>\n",
       "      <td>CPD</td>\n",
       "      <td>2154</td>\n",
       "      <td>Benbow, Lauren</td>\n",
       "      <td>2025-06-15 21:54:53</td>\n",
       "      <td>2025-06-15 09:54:53 PM</td>\n",
       "      <td>Sunday</td>\n",
       "      <td>True</td>\n",
       "      <td>Spring</td>\n",
       "      <td>09:54 PM</td>\n",
       "      <td>Night</td>\n",
       "      <td>800 HARDY DR, B</td>\n",
       "      <td>38.033239</td>\n",
       "      <td>-78.490398</td>\n",
       "      <td>10th &amp; Page</td>\n",
       "      <td>22903</td>\n",
       "    </tr>\n",
       "    <tr>\n",
       "      <th>1</th>\n",
       "      <td>2</td>\n",
       "      <td>Assault Simple</td>\n",
       "      <td>202500020580</td>\n",
       "      <td>400</td>\n",
       "      <td>GARRETT ST, F</td>\n",
       "      <td>CPD</td>\n",
       "      <td>1440</td>\n",
       "      <td>Schwartz, Honora</td>\n",
       "      <td>2025-06-15 14:40:48</td>\n",
       "      <td>2025-06-15 02:40:48 PM</td>\n",
       "      <td>Sunday</td>\n",
       "      <td>True</td>\n",
       "      <td>Spring</td>\n",
       "      <td>02:40 PM</td>\n",
       "      <td>Afternoon</td>\n",
       "      <td>400 GARRETT ST, F</td>\n",
       "      <td>38.027935</td>\n",
       "      <td>-78.481659</td>\n",
       "      <td>North Downtown</td>\n",
       "      <td>22903</td>\n",
       "    </tr>\n",
       "    <tr>\n",
       "      <th>2</th>\n",
       "      <td>3</td>\n",
       "      <td>Lost/FoundProperty</td>\n",
       "      <td>202500020578</td>\n",
       "      <td>600</td>\n",
       "      <td>E WATER ST</td>\n",
       "      <td>CPD</td>\n",
       "      <td>1339</td>\n",
       "      <td>Crowley, Raeann</td>\n",
       "      <td>2025-06-15 13:39:36</td>\n",
       "      <td>2025-06-15 01:39:36 PM</td>\n",
       "      <td>Sunday</td>\n",
       "      <td>True</td>\n",
       "      <td>Spring</td>\n",
       "      <td>01:39 PM</td>\n",
       "      <td>Afternoon</td>\n",
       "      <td>600 E WATER ST</td>\n",
       "      <td>38.028757</td>\n",
       "      <td>-78.477608</td>\n",
       "      <td>North Downtown</td>\n",
       "      <td>22902</td>\n",
       "    </tr>\n",
       "    <tr>\n",
       "      <th>3</th>\n",
       "      <td>4</td>\n",
       "      <td>Hit and Run</td>\n",
       "      <td>202500020573</td>\n",
       "      <td>900</td>\n",
       "      <td>RIVER RD</td>\n",
       "      <td>CPD</td>\n",
       "      <td>1246</td>\n",
       "      <td>Bland, Johnnà</td>\n",
       "      <td>2025-06-15 12:46:48</td>\n",
       "      <td>2025-06-15 12:46:48 PM</td>\n",
       "      <td>Sunday</td>\n",
       "      <td>True</td>\n",
       "      <td>Spring</td>\n",
       "      <td>12:46 PM</td>\n",
       "      <td>Afternoon</td>\n",
       "      <td>900 RIVER RD</td>\n",
       "      <td>38.036328</td>\n",
       "      <td>-78.458121</td>\n",
       "      <td>Locust Grove</td>\n",
       "      <td>22901</td>\n",
       "    </tr>\n",
       "    <tr>\n",
       "      <th>4</th>\n",
       "      <td>5</td>\n",
       "      <td>Lost/FoundProperty</td>\n",
       "      <td>202500020554</td>\n",
       "      <td>1100</td>\n",
       "      <td>5TH ST SW</td>\n",
       "      <td>CPD</td>\n",
       "      <td>0729</td>\n",
       "      <td>Jones, Mark</td>\n",
       "      <td>2025-06-15 07:29:03</td>\n",
       "      <td>2025-06-15 07:29:03 AM</td>\n",
       "      <td>Sunday</td>\n",
       "      <td>True</td>\n",
       "      <td>Spring</td>\n",
       "      <td>07:29 AM</td>\n",
       "      <td>Morning</td>\n",
       "      <td>1100 5TH ST SW</td>\n",
       "      <td>38.017130</td>\n",
       "      <td>-78.497806</td>\n",
       "      <td>Johnson Village</td>\n",
       "      <td>22903</td>\n",
       "    </tr>\n",
       "  </tbody>\n",
       "</table>\n",
       "</div>"
      ],
      "text/plain": [
       "   RecordID             Offense    IncidentID BlockNumber     StreetName  \\\n",
       "0         1      Assault Simple  202500020630         800    HARDY DR, B   \n",
       "1         2      Assault Simple  202500020580         400  GARRETT ST, F   \n",
       "2         3  Lost/FoundProperty  202500020578         600     E WATER ST   \n",
       "3         4         Hit and Run  202500020573         900       RIVER RD   \n",
       "4         5  Lost/FoundProperty  202500020554        1100      5TH ST SW   \n",
       "\n",
       "  Agency HourReported  ReportingOfficer                Date  \\\n",
       "0    CPD         2154    Benbow, Lauren 2025-06-15 21:54:53   \n",
       "1    CPD         1440  Schwartz, Honora 2025-06-15 14:40:48   \n",
       "2    CPD         1339   Crowley, Raeann 2025-06-15 13:39:36   \n",
       "3    CPD         1246     Bland, Johnnà 2025-06-15 12:46:48   \n",
       "4    CPD         0729       Jones, Mark 2025-06-15 07:29:03   \n",
       "\n",
       "               DateString DayOfWeek  Weekend  Season  HourAMPM  TimeOfDay  \\\n",
       "0  2025-06-15 09:54:53 PM    Sunday     True  Spring  09:54 PM      Night   \n",
       "1  2025-06-15 02:40:48 PM    Sunday     True  Spring  02:40 PM  Afternoon   \n",
       "2  2025-06-15 01:39:36 PM    Sunday     True  Spring  01:39 PM  Afternoon   \n",
       "3  2025-06-15 12:46:48 PM    Sunday     True  Spring  12:46 PM  Afternoon   \n",
       "4  2025-06-15 07:29:03 AM    Sunday     True  Spring  07:29 AM    Morning   \n",
       "\n",
       "          FullStreet        lat        lon     neighborhood    zip  \n",
       "0    800 HARDY DR, B  38.033239 -78.490398      10th & Page  22903  \n",
       "1  400 GARRETT ST, F  38.027935 -78.481659   North Downtown  22903  \n",
       "2     600 E WATER ST  38.028757 -78.477608   North Downtown  22902  \n",
       "3       900 RIVER RD  38.036328 -78.458121     Locust Grove  22901  \n",
       "4     1100 5TH ST SW  38.017130 -78.497806  Johnson Village  22903  "
      ]
     },
     "execution_count": 11,
     "metadata": {},
     "output_type": "execute_result"
    }
   ],
   "source": [
    "# Initialize the geocoder.\n",
    "geolocator = Nominatim(user_agent=\"zip_lookup\")\n",
    "\n",
    "# Try to load a persistent ZIP cache if available.\n",
    "try:\n",
    "    with open(\"zip_cache.pkl\", \"rb\") as f:\n",
    "        zip_cache = pickle.load(f)\n",
    "    print(\"Loaded zip cache.\")\n",
    "except FileNotFoundError:\n",
    "    zip_cache = {}\n",
    "    print(\"No zip cache found; starting fresh.\")\n",
    "\n",
    "def get_zip(lat, lon):\n",
    "    \"\"\"\n",
    "    Reverse geocodes a latitude and longitude to retrieve the ZIP code.\n",
    "    Caches results to speed up subsequent lookups.\n",
    "    \"\"\"\n",
    "    key = (lat, lon)\n",
    "    if key in zip_cache:\n",
    "        return zip_cache[key]\n",
    "    \n",
    "    try:\n",
    "        location = geolocator.reverse((lat, lon), exactly_one=True, timeout=10)\n",
    "        address = location.raw.get('address', {})\n",
    "        postal_code = address.get('postcode', \"N/A\")\n",
    "    except Exception as e:\n",
    "        print(f\"Error getting ZIP for {lat}, {lon}: {e}\")\n",
    "        postal_code = \"N/A\"\n",
    "    \n",
    "    zip_cache[key] = postal_code\n",
    "    # Pause to respect the usage policy.\n",
    "    time.sleep(1)\n",
    "    return postal_code\n",
    "\n",
    "# Apply the function to each row in the DataFrame.\n",
    "df['zip'] = df.apply(lambda row: get_zip(row['lat'], row['lon']), axis=1)\n",
    "\n",
    "# Save the updated ZIP cache.\n",
    "with open(\"zip_cache.pkl\", \"wb\") as f:\n",
    "    pickle.dump(zip_cache, f)\n",
    "\n",
    "df.head()\n"
   ]
  },
  {
   "cell_type": "code",
   "execution_count": 12,
   "id": "f1eaecd5",
   "metadata": {
    "execution": {
     "iopub.execute_input": "2025-06-18T01:06:14.969292Z",
     "iopub.status.busy": "2025-06-18T01:06:14.968869Z",
     "iopub.status.idle": "2025-06-18T01:06:14.997489Z",
     "shell.execute_reply": "2025-06-18T01:06:14.996797Z"
    },
    "papermill": {
     "duration": 0.036581,
     "end_time": "2025-06-18T01:06:14.998468",
     "exception": false,
     "start_time": "2025-06-18T01:06:14.961887",
     "status": "completed"
    },
    "tags": []
   },
   "outputs": [
    {
     "name": "stdout",
     "output_type": "stream",
     "text": [
      "                  MissingCount  MissingPercentage\n",
      "RecordID                     0               0.00\n",
      "Offense                      0               0.00\n",
      "IncidentID                   0               0.00\n",
      "BlockNumber                  0               0.00\n",
      "StreetName                   0               0.00\n",
      "Agency                       0               0.00\n",
      "HourReported                 0               0.00\n",
      "ReportingOfficer            17               0.07\n",
      "Date                         0               0.00\n",
      "DateString                   0               0.00\n",
      "DayOfWeek                    0               0.00\n",
      "Weekend                      0               0.00\n",
      "Season                       0               0.00\n",
      "HourAMPM                     0               0.00\n",
      "TimeOfDay                    0               0.00\n",
      "FullStreet                   0               0.00\n",
      "lat                         21               0.08\n",
      "lon                         21               0.08\n",
      "neighborhood                 0               0.00\n",
      "zip                          0               0.00\n"
     ]
    }
   ],
   "source": [
    "missing_info = missing_percentage(df)\n",
    "print(missing_info)\n"
   ]
  },
  {
   "cell_type": "code",
   "execution_count": 13,
   "id": "f8b82c7c",
   "metadata": {
    "execution": {
     "iopub.execute_input": "2025-06-18T01:06:15.012273Z",
     "iopub.status.busy": "2025-06-18T01:06:15.011786Z",
     "iopub.status.idle": "2025-06-18T01:06:15.041820Z",
     "shell.execute_reply": "2025-06-18T01:06:15.041100Z"
    },
    "papermill": {
     "duration": 0.037951,
     "end_time": "2025-06-18T01:06:15.042852",
     "exception": false,
     "start_time": "2025-06-18T01:06:15.004901",
     "status": "completed"
    },
    "tags": []
   },
   "outputs": [
    {
     "name": "stdout",
     "output_type": "stream",
     "text": [
      "<class 'pandas.core.frame.DataFrame'>\n",
      "RangeIndex: 25520 entries, 0 to 25519\n",
      "Data columns (total 20 columns):\n",
      " #   Column            Non-Null Count  Dtype         \n",
      "---  ------            --------------  -----         \n",
      " 0   RecordID          25520 non-null  int64         \n",
      " 1   Offense           25520 non-null  object        \n",
      " 2   IncidentID        25520 non-null  object        \n",
      " 3   BlockNumber       25520 non-null  object        \n",
      " 4   StreetName        25520 non-null  object        \n",
      " 5   Agency            25520 non-null  object        \n",
      " 6   HourReported      25520 non-null  object        \n",
      " 7   ReportingOfficer  25503 non-null  object        \n",
      " 8   Date              25520 non-null  datetime64[ns]\n",
      " 9   DateString        25520 non-null  object        \n",
      " 10  DayOfWeek         25520 non-null  object        \n",
      " 11  Weekend           25520 non-null  bool          \n",
      " 12  Season            25520 non-null  object        \n",
      " 13  HourAMPM          25520 non-null  object        \n",
      " 14  TimeOfDay         25520 non-null  object        \n",
      " 15  FullStreet        25520 non-null  object        \n",
      " 16  lat               25499 non-null  float64       \n",
      " 17  lon               25499 non-null  float64       \n",
      " 18  neighborhood      25520 non-null  object        \n",
      " 19  zip               25520 non-null  object        \n",
      "dtypes: bool(1), datetime64[ns](1), float64(2), int64(1), object(15)\n",
      "memory usage: 3.7+ MB\n"
     ]
    }
   ],
   "source": [
    "df.info()"
   ]
  },
  {
   "cell_type": "code",
   "execution_count": 14,
   "id": "96b6c7dc",
   "metadata": {
    "execution": {
     "iopub.execute_input": "2025-06-18T01:06:15.056956Z",
     "iopub.status.busy": "2025-06-18T01:06:15.056397Z",
     "iopub.status.idle": "2025-06-18T01:06:15.100365Z",
     "shell.execute_reply": "2025-06-18T01:06:15.099667Z"
    },
    "papermill": {
     "duration": 0.051979,
     "end_time": "2025-06-18T01:06:15.101447",
     "exception": false,
     "start_time": "2025-06-18T01:06:15.049468",
     "status": "completed"
    },
    "tags": []
   },
   "outputs": [
    {
     "data": {
      "text/html": [
       "<div>\n",
       "<style scoped>\n",
       "    .dataframe tbody tr th:only-of-type {\n",
       "        vertical-align: middle;\n",
       "    }\n",
       "\n",
       "    .dataframe tbody tr th {\n",
       "        vertical-align: top;\n",
       "    }\n",
       "\n",
       "    .dataframe thead th {\n",
       "        text-align: right;\n",
       "    }\n",
       "</style>\n",
       "<table border=\"1\" class=\"dataframe\">\n",
       "  <thead>\n",
       "    <tr style=\"text-align: right;\">\n",
       "      <th></th>\n",
       "      <th>RecordID</th>\n",
       "      <th>Offense</th>\n",
       "      <th>IncidentID</th>\n",
       "      <th>Agency</th>\n",
       "      <th>ReportingOfficer</th>\n",
       "      <th>Date</th>\n",
       "      <th>DayOfWeek</th>\n",
       "      <th>Weekend</th>\n",
       "      <th>Season</th>\n",
       "      <th>TimeOfDay</th>\n",
       "      <th>FullStreet</th>\n",
       "      <th>lat</th>\n",
       "      <th>lon</th>\n",
       "      <th>neighborhood</th>\n",
       "      <th>zip</th>\n",
       "    </tr>\n",
       "  </thead>\n",
       "  <tbody>\n",
       "    <tr>\n",
       "      <th>0</th>\n",
       "      <td>1</td>\n",
       "      <td>Assault Simple</td>\n",
       "      <td>202500020630</td>\n",
       "      <td>CPD</td>\n",
       "      <td>Benbow, Lauren</td>\n",
       "      <td>2025-06-15 21:54:53</td>\n",
       "      <td>Sunday</td>\n",
       "      <td>True</td>\n",
       "      <td>Spring</td>\n",
       "      <td>Night</td>\n",
       "      <td>800 HARDY DR, B</td>\n",
       "      <td>38.033239</td>\n",
       "      <td>-78.490398</td>\n",
       "      <td>10th &amp; Page</td>\n",
       "      <td>22903</td>\n",
       "    </tr>\n",
       "    <tr>\n",
       "      <th>1</th>\n",
       "      <td>2</td>\n",
       "      <td>Assault Simple</td>\n",
       "      <td>202500020580</td>\n",
       "      <td>CPD</td>\n",
       "      <td>Schwartz, Honora</td>\n",
       "      <td>2025-06-15 14:40:48</td>\n",
       "      <td>Sunday</td>\n",
       "      <td>True</td>\n",
       "      <td>Spring</td>\n",
       "      <td>Afternoon</td>\n",
       "      <td>400 GARRETT ST, F</td>\n",
       "      <td>38.027935</td>\n",
       "      <td>-78.481659</td>\n",
       "      <td>North Downtown</td>\n",
       "      <td>22903</td>\n",
       "    </tr>\n",
       "    <tr>\n",
       "      <th>2</th>\n",
       "      <td>3</td>\n",
       "      <td>Lost/FoundProperty</td>\n",
       "      <td>202500020578</td>\n",
       "      <td>CPD</td>\n",
       "      <td>Crowley, Raeann</td>\n",
       "      <td>2025-06-15 13:39:36</td>\n",
       "      <td>Sunday</td>\n",
       "      <td>True</td>\n",
       "      <td>Spring</td>\n",
       "      <td>Afternoon</td>\n",
       "      <td>600 E WATER ST</td>\n",
       "      <td>38.028757</td>\n",
       "      <td>-78.477608</td>\n",
       "      <td>North Downtown</td>\n",
       "      <td>22902</td>\n",
       "    </tr>\n",
       "    <tr>\n",
       "      <th>3</th>\n",
       "      <td>4</td>\n",
       "      <td>Hit and Run</td>\n",
       "      <td>202500020573</td>\n",
       "      <td>CPD</td>\n",
       "      <td>Bland, Johnnà</td>\n",
       "      <td>2025-06-15 12:46:48</td>\n",
       "      <td>Sunday</td>\n",
       "      <td>True</td>\n",
       "      <td>Spring</td>\n",
       "      <td>Afternoon</td>\n",
       "      <td>900 RIVER RD</td>\n",
       "      <td>38.036328</td>\n",
       "      <td>-78.458121</td>\n",
       "      <td>Locust Grove</td>\n",
       "      <td>22901</td>\n",
       "    </tr>\n",
       "    <tr>\n",
       "      <th>4</th>\n",
       "      <td>5</td>\n",
       "      <td>Lost/FoundProperty</td>\n",
       "      <td>202500020554</td>\n",
       "      <td>CPD</td>\n",
       "      <td>Jones, Mark</td>\n",
       "      <td>2025-06-15 07:29:03</td>\n",
       "      <td>Sunday</td>\n",
       "      <td>True</td>\n",
       "      <td>Spring</td>\n",
       "      <td>Morning</td>\n",
       "      <td>1100 5TH ST SW</td>\n",
       "      <td>38.01713</td>\n",
       "      <td>-78.497806</td>\n",
       "      <td>Johnson Village</td>\n",
       "      <td>22903</td>\n",
       "    </tr>\n",
       "  </tbody>\n",
       "</table>\n",
       "</div>"
      ],
      "text/plain": [
       "   RecordID             Offense    IncidentID Agency  ReportingOfficer  \\\n",
       "0         1      Assault Simple  202500020630    CPD    Benbow, Lauren   \n",
       "1         2      Assault Simple  202500020580    CPD  Schwartz, Honora   \n",
       "2         3  Lost/FoundProperty  202500020578    CPD   Crowley, Raeann   \n",
       "3         4         Hit and Run  202500020573    CPD     Bland, Johnnà   \n",
       "4         5  Lost/FoundProperty  202500020554    CPD       Jones, Mark   \n",
       "\n",
       "                 Date DayOfWeek  Weekend  Season  TimeOfDay  \\\n",
       "0 2025-06-15 21:54:53    Sunday     True  Spring      Night   \n",
       "1 2025-06-15 14:40:48    Sunday     True  Spring  Afternoon   \n",
       "2 2025-06-15 13:39:36    Sunday     True  Spring  Afternoon   \n",
       "3 2025-06-15 12:46:48    Sunday     True  Spring  Afternoon   \n",
       "4 2025-06-15 07:29:03    Sunday     True  Spring    Morning   \n",
       "\n",
       "          FullStreet        lat        lon     neighborhood    zip  \n",
       "0    800 HARDY DR, B  38.033239 -78.490398      10th & Page  22903  \n",
       "1  400 GARRETT ST, F  38.027935 -78.481659   North Downtown  22903  \n",
       "2     600 E WATER ST  38.028757 -78.477608   North Downtown  22902  \n",
       "3       900 RIVER RD  38.036328 -78.458121     Locust Grove  22901  \n",
       "4     1100 5TH ST SW   38.01713 -78.497806  Johnson Village  22903  "
      ]
     },
     "execution_count": 14,
     "metadata": {},
     "output_type": "execute_result"
    }
   ],
   "source": [
    "# Now drop the original BlockNumber and StreetName columns\n",
    "df.drop(columns=['BlockNumber', 'StreetName','HourAMPM','HourReported','DateString'], inplace=True)\n",
    "df[\"zip\"] = df[\"zip\"].astype(str)\n",
    "\n",
    "# Fill all missing values in the DataFrame with \"N/A\"\n",
    "df.replace({None: \"N/A\", np.nan: \"N/A\", \"\": \"N/A\"}, inplace=True)\n",
    "df.head()"
   ]
  },
  {
   "cell_type": "code",
   "execution_count": 15,
   "id": "5005f933",
   "metadata": {
    "execution": {
     "iopub.execute_input": "2025-06-18T01:06:15.116255Z",
     "iopub.status.busy": "2025-06-18T01:06:15.115800Z",
     "iopub.status.idle": "2025-06-18T01:06:15.132574Z",
     "shell.execute_reply": "2025-06-18T01:06:15.131965Z"
    },
    "papermill": {
     "duration": 0.025089,
     "end_time": "2025-06-18T01:06:15.133602",
     "exception": false,
     "start_time": "2025-06-18T01:06:15.108513",
     "status": "completed"
    },
    "tags": []
   },
   "outputs": [
    {
     "name": "stdout",
     "output_type": "stream",
     "text": [
      "                  MissingCount  MissingPercentage\n",
      "RecordID                     0                0.0\n",
      "Offense                      0                0.0\n",
      "IncidentID                   0                0.0\n",
      "Agency                       0                0.0\n",
      "ReportingOfficer             0                0.0\n",
      "Date                         0                0.0\n",
      "DayOfWeek                    0                0.0\n",
      "Weekend                      0                0.0\n",
      "Season                       0                0.0\n",
      "TimeOfDay                    0                0.0\n",
      "FullStreet                   0                0.0\n",
      "lat                          0                0.0\n",
      "lon                          0                0.0\n",
      "neighborhood                 0                0.0\n",
      "zip                          0                0.0\n"
     ]
    }
   ],
   "source": [
    "missing_info = missing_percentage(df)\n",
    "print(missing_info)"
   ]
  },
  {
   "cell_type": "code",
   "execution_count": 16,
   "id": "bf8bffb0",
   "metadata": {
    "execution": {
     "iopub.execute_input": "2025-06-18T01:06:15.148121Z",
     "iopub.status.busy": "2025-06-18T01:06:15.147592Z",
     "iopub.status.idle": "2025-06-18T01:06:15.151994Z",
     "shell.execute_reply": "2025-06-18T01:06:15.151465Z"
    },
    "papermill": {
     "duration": 0.012714,
     "end_time": "2025-06-18T01:06:15.153068",
     "exception": false,
     "start_time": "2025-06-18T01:06:15.140354",
     "status": "completed"
    },
    "tags": []
   },
   "outputs": [
    {
     "data": {
      "text/plain": [
       "Index(['RecordID', 'Offense', 'IncidentID', 'Agency', 'ReportingOfficer',\n",
       "       'Date', 'DayOfWeek', 'Weekend', 'Season', 'TimeOfDay', 'FullStreet',\n",
       "       'lat', 'lon', 'neighborhood', 'zip'],\n",
       "      dtype='object')"
      ]
     },
     "execution_count": 16,
     "metadata": {},
     "output_type": "execute_result"
    }
   ],
   "source": [
    "df.columns"
   ]
  },
  {
   "cell_type": "code",
   "execution_count": 17,
   "id": "1edb3c43",
   "metadata": {
    "execution": {
     "iopub.execute_input": "2025-06-18T01:06:15.167637Z",
     "iopub.status.busy": "2025-06-18T01:06:15.167237Z",
     "iopub.status.idle": "2025-06-18T01:06:15.189758Z",
     "shell.execute_reply": "2025-06-18T01:06:15.189214Z"
    },
    "papermill": {
     "duration": 0.030858,
     "end_time": "2025-06-18T01:06:15.190774",
     "exception": false,
     "start_time": "2025-06-18T01:06:15.159916",
     "status": "completed"
    },
    "tags": []
   },
   "outputs": [
    {
     "name": "stdout",
     "output_type": "stream",
     "text": [
      "<class 'pandas.core.frame.DataFrame'>\n",
      "RangeIndex: 25520 entries, 0 to 25519\n",
      "Data columns (total 15 columns):\n",
      " #   Column            Non-Null Count  Dtype         \n",
      "---  ------            --------------  -----         \n",
      " 0   RecordID          25520 non-null  int64         \n",
      " 1   Offense           25520 non-null  object        \n",
      " 2   IncidentID        25520 non-null  object        \n",
      " 3   Agency            25520 non-null  object        \n",
      " 4   ReportingOfficer  25520 non-null  object        \n",
      " 5   Date              25520 non-null  datetime64[ns]\n",
      " 6   DayOfWeek         25520 non-null  object        \n",
      " 7   Weekend           25520 non-null  bool          \n",
      " 8   Season            25520 non-null  object        \n",
      " 9   TimeOfDay         25520 non-null  object        \n",
      " 10  FullStreet        25520 non-null  object        \n",
      " 11  lat               25520 non-null  object        \n",
      " 12  lon               25520 non-null  object        \n",
      " 13  neighborhood      25520 non-null  object        \n",
      " 14  zip               25520 non-null  object        \n",
      "dtypes: bool(1), datetime64[ns](1), int64(1), object(12)\n",
      "memory usage: 2.8+ MB\n"
     ]
    }
   ],
   "source": [
    "df.info()"
   ]
  },
  {
   "cell_type": "markdown",
   "id": "e18c3555",
   "metadata": {
    "papermill": {
     "duration": 0.006824,
     "end_time": "2025-06-18T01:06:15.204873",
     "exception": false,
     "start_time": "2025-06-18T01:06:15.198049",
     "status": "completed"
    },
    "tags": []
   },
   "source": [
    "### Export Clean Data"
   ]
  },
  {
   "cell_type": "code",
   "execution_count": 18,
   "id": "d033c085",
   "metadata": {
    "execution": {
     "iopub.execute_input": "2025-06-18T01:06:15.219548Z",
     "iopub.status.busy": "2025-06-18T01:06:15.219324Z",
     "iopub.status.idle": "2025-06-18T01:06:24.414098Z",
     "shell.execute_reply": "2025-06-18T01:06:24.413416Z"
    },
    "papermill": {
     "duration": 9.2035,
     "end_time": "2025-06-18T01:06:24.415254",
     "exception": false,
     "start_time": "2025-06-18T01:06:15.211754",
     "status": "completed"
    },
    "tags": []
   },
   "outputs": [
    {
     "name": "stdout",
     "output_type": "stream",
     "text": [
      "Project Root: /home/runner/work/crime-data/crime-data\n"
     ]
    },
    {
     "name": "stdout",
     "output_type": "stream",
     "text": [
      "Data saved to: /home/runner/work/crime-data/crime-data/data/charlottesville_crime_incidents.csv\n"
     ]
    },
    {
     "name": "stdout",
     "output_type": "stream",
     "text": [
      "Excel saved to: /home/runner/work/crime-data/crime-data/data/charlottesville_crime_incidents.xlsx\n"
     ]
    }
   ],
   "source": [
    "# Determine the project root (assuming papermill is run from the repository root)\n",
    "project_root = os.getcwd()\n",
    "print(\"Project Root:\", project_root)\n",
    "\n",
    "# Set the data directory within the project root\n",
    "data_dir = os.path.join(project_root, \"data\")\n",
    "\n",
    "# Ensure the \"data\" directory exists (create it if it doesn't)\n",
    "if not os.path.exists(data_dir):\n",
    "    os.makedirs(data_dir)\n",
    "\n",
    "# Export the DataFrame to CSV in the \"data\" folder located in the project root\n",
    "csv_path = os.path.join(data_dir, \"charlottesville_crime_incidents.csv\")\n",
    "df.to_csv(csv_path, index=False)\n",
    "print(\"Data saved to:\", csv_path)\n",
    "\n",
    "# Construct the path to your Excel file\n",
    "excel_path = os.path.join(data_dir, \"charlottesville_crime_incidents.xlsx\")\n",
    "\n",
    "# Export the DataFrame to Excel\n",
    "df.to_excel(excel_path, index=False)\n",
    "print(\"Excel saved to:\", excel_path)\n"
   ]
  }
 ],
 "metadata": {
  "kernelspec": {
   "display_name": "Python 3",
   "language": "python",
   "name": "python3"
  },
  "language_info": {
   "codemirror_mode": {
    "name": "ipython",
    "version": 3
   },
   "file_extension": ".py",
   "mimetype": "text/x-python",
   "name": "python",
   "nbconvert_exporter": "python",
   "pygments_lexer": "ipython3",
   "version": "3.9.23"
  },
  "papermill": {
   "default_parameters": {},
   "duration": 103.177558,
   "end_time": "2025-06-18T01:06:24.838800",
   "environment_variables": {},
   "exception": null,
   "input_path": "notebook/Crime Data.ipynb",
   "output_path": "notebook/Crime Data_output.ipynb",
   "parameters": {},
   "start_time": "2025-06-18T01:04:41.661242",
   "version": "2.6.0"
  }
 },
 "nbformat": 4,
 "nbformat_minor": 5
}