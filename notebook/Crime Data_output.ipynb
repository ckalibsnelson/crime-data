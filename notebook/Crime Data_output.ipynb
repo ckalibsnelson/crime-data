{
 "cells": [
  {
   "cell_type": "markdown",
   "id": "9b95a832",
   "metadata": {
    "papermill": {
     "duration": 0.006115,
     "end_time": "2025-04-05T05:30:41.670885",
     "exception": false,
     "start_time": "2025-04-05T05:30:41.664770",
     "status": "completed"
    },
    "tags": []
   },
   "source": [
    "# Charlottesville Open Data Porttal: Crime Data"
   ]
  },
  {
   "cell_type": "markdown",
   "id": "3700a338",
   "metadata": {
    "papermill": {
     "duration": 0.005112,
     "end_time": "2025-04-05T05:30:41.681490",
     "exception": false,
     "start_time": "2025-04-05T05:30:41.676378",
     "status": "completed"
    },
    "tags": []
   },
   "source": [
    "## Import Relevant Librarires & Set WD"
   ]
  },
  {
   "cell_type": "code",
   "execution_count": 1,
   "id": "0977272d",
   "metadata": {
    "execution": {
     "iopub.execute_input": "2025-04-05T05:30:41.693258Z",
     "iopub.status.busy": "2025-04-05T05:30:41.692753Z",
     "iopub.status.idle": "2025-04-05T05:30:42.204597Z",
     "shell.execute_reply": "2025-04-05T05:30:42.203930Z"
    },
    "papermill": {
     "duration": 0.519372,
     "end_time": "2025-04-05T05:30:42.206023",
     "exception": false,
     "start_time": "2025-04-05T05:30:41.686651",
     "status": "completed"
    },
    "tags": []
   },
   "outputs": [],
   "source": [
    "import requests\n",
    "import pandas as pd\n",
    "import numpy as np\n",
    "import pickle\n",
    "import googlemaps\n",
    "import plotly.express as px\n",
    "from geopy.geocoders import Nominatim\n",
    "import time\n",
    "from dotenv import load_dotenv\n",
    "import os\n",
    "\n",
    "env_path = os.path.join(\"..\", \".env\")\n",
    "#print(\"Looking for .env file at:\", os.path.abspath(env_path))\n",
    "load_dotenv(dotenv_path=env_path)\n",
    "\n",
    "# Retrieve the variables\n",
    "GOOGLE_API_KEY = os.getenv(\"GOOGLE_API_KEY\")\n",
    "WORKING_DIR = os.getenv(\"WORKING_DIR\")\n",
    "\n",
    "if GOOGLE_API_KEY is None or WORKING_DIR is None:\n",
    "    raise RuntimeError(\"No configuration found. Please ensure that your .env file exists with the required variables, or create a local config.py file.\")\n",
    "\n",
    "#print(\"Google API Key:\", GOOGLE_API_KEY)\n",
    "#print(\"Working Directory:\", WORKING_DIR)"
   ]
  },
  {
   "cell_type": "markdown",
   "id": "e6bdf98b",
   "metadata": {
    "papermill": {
     "duration": 0.005034,
     "end_time": "2025-04-05T05:30:42.216558",
     "exception": false,
     "start_time": "2025-04-05T05:30:42.211524",
     "status": "completed"
    },
    "tags": []
   },
   "source": [
    "## Import Data\n",
    "\n",
    "URL: https://opendata.charlottesville.org/datasets/charlottesville::crime-data/about"
   ]
  },
  {
   "cell_type": "code",
   "execution_count": 2,
   "id": "a207170a",
   "metadata": {
    "execution": {
     "iopub.execute_input": "2025-04-05T05:30:42.227957Z",
     "iopub.status.busy": "2025-04-05T05:30:42.227461Z",
     "iopub.status.idle": "2025-04-05T05:31:40.415848Z",
     "shell.execute_reply": "2025-04-05T05:31:40.415121Z"
    },
    "papermill": {
     "duration": 58.199824,
     "end_time": "2025-04-05T05:31:40.421535",
     "exception": false,
     "start_time": "2025-04-05T05:30:42.221711",
     "status": "completed"
    },
    "tags": []
   },
   "outputs": [
    {
     "name": "stdout",
     "output_type": "stream",
     "text": [
      "Total records imported: 25113\n"
     ]
    }
   ],
   "source": [
    "# Define the endpoint and initial parameters.\n",
    "url = \"https://gisweb.charlottesville.org/arcgis/rest/services/OpenData_2/MapServer/6/query\"\n",
    "params = {\n",
    "    \"where\": \"1=1\",\n",
    "    \"outFields\": \"*\",\n",
    "    \"outSR\": 4326,\n",
    "    \"f\": \"json\",\n",
    "    \"resultOffset\": 0,       # Starting index for results\n",
    "    \"resultRecordCount\": 10000  # Maximum records per batch (if allowed by the API)\n",
    "}\n",
    "\n",
    "records = []\n",
    "\n",
    "while True:\n",
    "    response = requests.get(url, params=params)\n",
    "    response.raise_for_status()\n",
    "    data = response.json()\n",
    "    \n",
    "    # Get the current batch of features.\n",
    "    features = data.get(\"features\", [])\n",
    "    if not features:\n",
    "        break\n",
    "\n",
    "    # Extract the attributes from the features.\n",
    "    batch_records = [feature.get(\"attributes\", {}) for feature in features]\n",
    "    records.extend(batch_records)\n",
    "    \n",
    "    # If the batch size is less than the requested count, we reached the end.\n",
    "    if len(features) < params[\"resultRecordCount\"]:\n",
    "        break\n",
    "\n",
    "    # Update the resultOffset for the next batch.\n",
    "    params[\"resultOffset\"] += params[\"resultRecordCount\"]\n",
    "\n",
    "# Create a DataFrame from the combined records.\n",
    "df = pd.DataFrame(records)\n",
    "print(\"Total records imported:\", len(df))\n"
   ]
  },
  {
   "cell_type": "code",
   "execution_count": 3,
   "id": "29c61016",
   "metadata": {
    "execution": {
     "iopub.execute_input": "2025-04-05T05:31:40.433282Z",
     "iopub.status.busy": "2025-04-05T05:31:40.432764Z",
     "iopub.status.idle": "2025-04-05T05:31:40.444967Z",
     "shell.execute_reply": "2025-04-05T05:31:40.444400Z"
    },
    "papermill": {
     "duration": 0.019041,
     "end_time": "2025-04-05T05:31:40.445913",
     "exception": false,
     "start_time": "2025-04-05T05:31:40.426872",
     "status": "completed"
    },
    "tags": []
   },
   "outputs": [
    {
     "data": {
      "text/html": [
       "<div>\n",
       "<style scoped>\n",
       "    .dataframe tbody tr th:only-of-type {\n",
       "        vertical-align: middle;\n",
       "    }\n",
       "\n",
       "    .dataframe tbody tr th {\n",
       "        vertical-align: top;\n",
       "    }\n",
       "\n",
       "    .dataframe thead th {\n",
       "        text-align: right;\n",
       "    }\n",
       "</style>\n",
       "<table border=\"1\" class=\"dataframe\">\n",
       "  <thead>\n",
       "    <tr style=\"text-align: right;\">\n",
       "      <th></th>\n",
       "      <th>RecordID</th>\n",
       "      <th>Offense</th>\n",
       "      <th>IncidentID</th>\n",
       "      <th>BlockNumber</th>\n",
       "      <th>StreetName</th>\n",
       "      <th>Agency</th>\n",
       "      <th>DateReported</th>\n",
       "      <th>HourReported</th>\n",
       "      <th>ReportingOfficer</th>\n",
       "    </tr>\n",
       "  </thead>\n",
       "  <tbody>\n",
       "    <tr>\n",
       "      <th>0</th>\n",
       "      <td>1</td>\n",
       "      <td>Larceny - Shoplifitng</td>\n",
       "      <td>202500010677</td>\n",
       "      <td>500</td>\n",
       "      <td>W MAIN ST</td>\n",
       "      <td>CPD</td>\n",
       "      <td>1743716897000</td>\n",
       "      <td>1748</td>\n",
       "      <td>Hannay, Jacob</td>\n",
       "    </tr>\n",
       "    <tr>\n",
       "      <th>1</th>\n",
       "      <td>2</td>\n",
       "      <td>Lost/FoundProperty</td>\n",
       "      <td>202500010668</td>\n",
       "      <td>200</td>\n",
       "      <td>E MAIN ST</td>\n",
       "      <td>CPD</td>\n",
       "      <td>1743714181000</td>\n",
       "      <td>1703</td>\n",
       "      <td>Rigsby, Lloyd</td>\n",
       "    </tr>\n",
       "    <tr>\n",
       "      <th>2</th>\n",
       "      <td>3</td>\n",
       "      <td>Larceny - Shoplifitng</td>\n",
       "      <td>202500010661</td>\n",
       "      <td>500</td>\n",
       "      <td>W MAIN ST</td>\n",
       "      <td>CPD</td>\n",
       "      <td>1743710768000</td>\n",
       "      <td>1606</td>\n",
       "      <td>Hannay, Jacob</td>\n",
       "    </tr>\n",
       "    <tr>\n",
       "      <th>3</th>\n",
       "      <td>4</td>\n",
       "      <td>Animal Complaint</td>\n",
       "      <td>202500010660</td>\n",
       "      <td>1000</td>\n",
       "      <td>MONTROSE AVE</td>\n",
       "      <td>CPD</td>\n",
       "      <td>1743710085000</td>\n",
       "      <td>1554</td>\n",
       "      <td>Moriarty, Thomas</td>\n",
       "    </tr>\n",
       "    <tr>\n",
       "      <th>4</th>\n",
       "      <td>5</td>\n",
       "      <td>Larceny - All Other</td>\n",
       "      <td>202500010656</td>\n",
       "      <td>100</td>\n",
       "      <td>E MARKET ST</td>\n",
       "      <td>CPD</td>\n",
       "      <td>1743709311000</td>\n",
       "      <td>1541</td>\n",
       "      <td>Ritter, Kobe</td>\n",
       "    </tr>\n",
       "  </tbody>\n",
       "</table>\n",
       "</div>"
      ],
      "text/plain": [
       "   RecordID                Offense    IncidentID BlockNumber    StreetName  \\\n",
       "0         1  Larceny - Shoplifitng  202500010677         500     W MAIN ST   \n",
       "1         2     Lost/FoundProperty  202500010668         200     E MAIN ST   \n",
       "2         3  Larceny - Shoplifitng  202500010661         500     W MAIN ST   \n",
       "3         4       Animal Complaint  202500010660        1000  MONTROSE AVE   \n",
       "4         5    Larceny - All Other  202500010656         100   E MARKET ST   \n",
       "\n",
       "  Agency   DateReported HourReported  ReportingOfficer  \n",
       "0    CPD  1743716897000         1748     Hannay, Jacob  \n",
       "1    CPD  1743714181000         1703     Rigsby, Lloyd  \n",
       "2    CPD  1743710768000         1606     Hannay, Jacob  \n",
       "3    CPD  1743710085000         1554  Moriarty, Thomas  \n",
       "4    CPD  1743709311000         1541      Ritter, Kobe  "
      ]
     },
     "execution_count": 3,
     "metadata": {},
     "output_type": "execute_result"
    }
   ],
   "source": [
    "df.head()"
   ]
  },
  {
   "cell_type": "code",
   "execution_count": 4,
   "id": "3c015802",
   "metadata": {
    "execution": {
     "iopub.execute_input": "2025-04-05T05:31:40.457720Z",
     "iopub.status.busy": "2025-04-05T05:31:40.457368Z",
     "iopub.status.idle": "2025-04-05T05:31:40.461666Z",
     "shell.execute_reply": "2025-04-05T05:31:40.461041Z"
    },
    "papermill": {
     "duration": 0.011198,
     "end_time": "2025-04-05T05:31:40.462588",
     "exception": false,
     "start_time": "2025-04-05T05:31:40.451390",
     "status": "completed"
    },
    "tags": []
   },
   "outputs": [
    {
     "data": {
      "text/plain": [
       "Index(['RecordID', 'Offense', 'IncidentID', 'BlockNumber', 'StreetName',\n",
       "       'Agency', 'DateReported', 'HourReported', 'ReportingOfficer'],\n",
       "      dtype='object')"
      ]
     },
     "execution_count": 4,
     "metadata": {},
     "output_type": "execute_result"
    }
   ],
   "source": [
    "df.columns"
   ]
  },
  {
   "cell_type": "code",
   "execution_count": 5,
   "id": "b27bc5c3",
   "metadata": {
    "execution": {
     "iopub.execute_input": "2025-04-05T05:31:40.475054Z",
     "iopub.status.busy": "2025-04-05T05:31:40.474574Z",
     "iopub.status.idle": "2025-04-05T05:31:40.495500Z",
     "shell.execute_reply": "2025-04-05T05:31:40.494792Z"
    },
    "papermill": {
     "duration": 0.028376,
     "end_time": "2025-04-05T05:31:40.496540",
     "exception": false,
     "start_time": "2025-04-05T05:31:40.468164",
     "status": "completed"
    },
    "tags": []
   },
   "outputs": [
    {
     "name": "stdout",
     "output_type": "stream",
     "text": [
      "<class 'pandas.core.frame.DataFrame'>\n",
      "RangeIndex: 25113 entries, 0 to 25112\n",
      "Data columns (total 9 columns):\n",
      " #   Column            Non-Null Count  Dtype \n",
      "---  ------            --------------  ----- \n",
      " 0   RecordID          25113 non-null  int64 \n",
      " 1   Offense           25113 non-null  object\n",
      " 2   IncidentID        25113 non-null  object\n",
      " 3   BlockNumber       25113 non-null  object\n",
      " 4   StreetName        25113 non-null  object\n",
      " 5   Agency            25113 non-null  object\n",
      " 6   DateReported      25113 non-null  int64 \n",
      " 7   HourReported      25113 non-null  object\n",
      " 8   ReportingOfficer  25096 non-null  object\n",
      "dtypes: int64(2), object(7)\n",
      "memory usage: 1.7+ MB\n"
     ]
    }
   ],
   "source": [
    "df.info()"
   ]
  },
  {
   "cell_type": "markdown",
   "id": "e492a7cd",
   "metadata": {
    "papermill": {
     "duration": 0.005685,
     "end_time": "2025-04-05T05:31:40.508000",
     "exception": false,
     "start_time": "2025-04-05T05:31:40.502315",
     "status": "completed"
    },
    "tags": []
   },
   "source": [
    "### Missing Values"
   ]
  },
  {
   "cell_type": "code",
   "execution_count": 6,
   "id": "95e658bd",
   "metadata": {
    "execution": {
     "iopub.execute_input": "2025-04-05T05:31:40.520151Z",
     "iopub.status.busy": "2025-04-05T05:31:40.519903Z",
     "iopub.status.idle": "2025-04-05T05:31:40.541268Z",
     "shell.execute_reply": "2025-04-05T05:31:40.540661Z"
    },
    "papermill": {
     "duration": 0.028701,
     "end_time": "2025-04-05T05:31:40.542276",
     "exception": false,
     "start_time": "2025-04-05T05:31:40.513575",
     "status": "completed"
    },
    "tags": []
   },
   "outputs": [
    {
     "name": "stdout",
     "output_type": "stream",
     "text": [
      "                  MissingCount  MissingPercentage\n",
      "RecordID                     0               0.00\n",
      "Offense                      0               0.00\n",
      "IncidentID                   0               0.00\n",
      "BlockNumber                  0               0.00\n",
      "StreetName                   0               0.00\n",
      "Agency                       0               0.00\n",
      "DateReported                 0               0.00\n",
      "HourReported                 0               0.00\n",
      "ReportingOfficer            17               0.07\n"
     ]
    }
   ],
   "source": [
    "def missing_percentage(df):\n",
    "    \"\"\"\n",
    "    Returns a DataFrame with the count and percentage of missing values for each column.\n",
    "    \n",
    "    Parameters:\n",
    "        df (pd.DataFrame): The input DataFrame.\n",
    "    \n",
    "    Returns:\n",
    "        pd.DataFrame: A DataFrame with columns 'MissingCount' and 'MissingPercentage'.\n",
    "    \"\"\"\n",
    "    total_rows = len(df)\n",
    "    missing_count = df.isnull().sum()\n",
    "    missing_percent = (missing_count / total_rows) * 100\n",
    "    \n",
    "    result = pd.DataFrame({\n",
    "        'MissingCount': missing_count,\n",
    "        'MissingPercentage': missing_percent.round(2)\n",
    "    })\n",
    "    \n",
    "    return result\n",
    "\n",
    "# Example usage:\n",
    "missing_info = missing_percentage(df)\n",
    "print(missing_info)\n"
   ]
  },
  {
   "cell_type": "markdown",
   "id": "a772bde3",
   "metadata": {
    "papermill": {
     "duration": 0.005828,
     "end_time": "2025-04-05T05:31:40.554011",
     "exception": false,
     "start_time": "2025-04-05T05:31:40.548183",
     "status": "completed"
    },
    "tags": []
   },
   "source": [
    "## Data Preparation"
   ]
  },
  {
   "cell_type": "markdown",
   "id": "29e53a6a",
   "metadata": {
    "papermill": {
     "duration": 0.005919,
     "end_time": "2025-04-05T05:31:40.565617",
     "exception": false,
     "start_time": "2025-04-05T05:31:40.559698",
     "status": "completed"
    },
    "tags": []
   },
   "source": [
    "### Data Conversion"
   ]
  },
  {
   "cell_type": "code",
   "execution_count": 7,
   "id": "f6cf7ef0",
   "metadata": {
    "execution": {
     "iopub.execute_input": "2025-04-05T05:31:40.578567Z",
     "iopub.status.busy": "2025-04-05T05:31:40.577973Z",
     "iopub.status.idle": "2025-04-05T05:31:40.943264Z",
     "shell.execute_reply": "2025-04-05T05:31:40.942562Z"
    },
    "papermill": {
     "duration": 0.373043,
     "end_time": "2025-04-05T05:31:40.944437",
     "exception": false,
     "start_time": "2025-04-05T05:31:40.571394",
     "status": "completed"
    },
    "tags": []
   },
   "outputs": [
    {
     "data": {
      "text/html": [
       "<div>\n",
       "<style scoped>\n",
       "    .dataframe tbody tr th:only-of-type {\n",
       "        vertical-align: middle;\n",
       "    }\n",
       "\n",
       "    .dataframe tbody tr th {\n",
       "        vertical-align: top;\n",
       "    }\n",
       "\n",
       "    .dataframe thead th {\n",
       "        text-align: right;\n",
       "    }\n",
       "</style>\n",
       "<table border=\"1\" class=\"dataframe\">\n",
       "  <thead>\n",
       "    <tr style=\"text-align: right;\">\n",
       "      <th></th>\n",
       "      <th>RecordID</th>\n",
       "      <th>Offense</th>\n",
       "      <th>IncidentID</th>\n",
       "      <th>BlockNumber</th>\n",
       "      <th>StreetName</th>\n",
       "      <th>Agency</th>\n",
       "      <th>HourReported</th>\n",
       "      <th>ReportingOfficer</th>\n",
       "      <th>Date</th>\n",
       "      <th>DateString</th>\n",
       "      <th>DayOfWeek</th>\n",
       "      <th>Weekend</th>\n",
       "      <th>Season</th>\n",
       "      <th>HourAMPM</th>\n",
       "      <th>TimeOfDay</th>\n",
       "    </tr>\n",
       "  </thead>\n",
       "  <tbody>\n",
       "    <tr>\n",
       "      <th>0</th>\n",
       "      <td>1</td>\n",
       "      <td>Larceny - Shoplifitng</td>\n",
       "      <td>202500010677</td>\n",
       "      <td>500</td>\n",
       "      <td>W MAIN ST</td>\n",
       "      <td>CPD</td>\n",
       "      <td>1748</td>\n",
       "      <td>Hannay, Jacob</td>\n",
       "      <td>2025-04-03 17:48:17</td>\n",
       "      <td>2025-04-03 05:48:17 PM</td>\n",
       "      <td>Thursday</td>\n",
       "      <td>False</td>\n",
       "      <td>Spring</td>\n",
       "      <td>05:48 PM</td>\n",
       "      <td>Evening</td>\n",
       "    </tr>\n",
       "    <tr>\n",
       "      <th>1</th>\n",
       "      <td>2</td>\n",
       "      <td>Lost/FoundProperty</td>\n",
       "      <td>202500010668</td>\n",
       "      <td>200</td>\n",
       "      <td>E MAIN ST</td>\n",
       "      <td>CPD</td>\n",
       "      <td>1703</td>\n",
       "      <td>Rigsby, Lloyd</td>\n",
       "      <td>2025-04-03 17:03:01</td>\n",
       "      <td>2025-04-03 05:03:01 PM</td>\n",
       "      <td>Thursday</td>\n",
       "      <td>False</td>\n",
       "      <td>Spring</td>\n",
       "      <td>05:03 PM</td>\n",
       "      <td>Evening</td>\n",
       "    </tr>\n",
       "    <tr>\n",
       "      <th>2</th>\n",
       "      <td>3</td>\n",
       "      <td>Larceny - Shoplifitng</td>\n",
       "      <td>202500010661</td>\n",
       "      <td>500</td>\n",
       "      <td>W MAIN ST</td>\n",
       "      <td>CPD</td>\n",
       "      <td>1606</td>\n",
       "      <td>Hannay, Jacob</td>\n",
       "      <td>2025-04-03 16:06:08</td>\n",
       "      <td>2025-04-03 04:06:08 PM</td>\n",
       "      <td>Thursday</td>\n",
       "      <td>False</td>\n",
       "      <td>Spring</td>\n",
       "      <td>04:06 PM</td>\n",
       "      <td>Afternoon</td>\n",
       "    </tr>\n",
       "    <tr>\n",
       "      <th>3</th>\n",
       "      <td>4</td>\n",
       "      <td>Animal Complaint</td>\n",
       "      <td>202500010660</td>\n",
       "      <td>1000</td>\n",
       "      <td>MONTROSE AVE</td>\n",
       "      <td>CPD</td>\n",
       "      <td>1554</td>\n",
       "      <td>Moriarty, Thomas</td>\n",
       "      <td>2025-04-03 15:54:45</td>\n",
       "      <td>2025-04-03 03:54:45 PM</td>\n",
       "      <td>Thursday</td>\n",
       "      <td>False</td>\n",
       "      <td>Spring</td>\n",
       "      <td>03:54 PM</td>\n",
       "      <td>Afternoon</td>\n",
       "    </tr>\n",
       "    <tr>\n",
       "      <th>4</th>\n",
       "      <td>5</td>\n",
       "      <td>Larceny - All Other</td>\n",
       "      <td>202500010656</td>\n",
       "      <td>100</td>\n",
       "      <td>E MARKET ST</td>\n",
       "      <td>CPD</td>\n",
       "      <td>1541</td>\n",
       "      <td>Ritter, Kobe</td>\n",
       "      <td>2025-04-03 15:41:51</td>\n",
       "      <td>2025-04-03 03:41:51 PM</td>\n",
       "      <td>Thursday</td>\n",
       "      <td>False</td>\n",
       "      <td>Spring</td>\n",
       "      <td>03:41 PM</td>\n",
       "      <td>Afternoon</td>\n",
       "    </tr>\n",
       "  </tbody>\n",
       "</table>\n",
       "</div>"
      ],
      "text/plain": [
       "   RecordID                Offense    IncidentID BlockNumber    StreetName  \\\n",
       "0         1  Larceny - Shoplifitng  202500010677         500     W MAIN ST   \n",
       "1         2     Lost/FoundProperty  202500010668         200     E MAIN ST   \n",
       "2         3  Larceny - Shoplifitng  202500010661         500     W MAIN ST   \n",
       "3         4       Animal Complaint  202500010660        1000  MONTROSE AVE   \n",
       "4         5    Larceny - All Other  202500010656         100   E MARKET ST   \n",
       "\n",
       "  Agency HourReported  ReportingOfficer                Date  \\\n",
       "0    CPD         1748     Hannay, Jacob 2025-04-03 17:48:17   \n",
       "1    CPD         1703     Rigsby, Lloyd 2025-04-03 17:03:01   \n",
       "2    CPD         1606     Hannay, Jacob 2025-04-03 16:06:08   \n",
       "3    CPD         1554  Moriarty, Thomas 2025-04-03 15:54:45   \n",
       "4    CPD         1541      Ritter, Kobe 2025-04-03 15:41:51   \n",
       "\n",
       "               DateString DayOfWeek  Weekend  Season  HourAMPM  TimeOfDay  \n",
       "0  2025-04-03 05:48:17 PM  Thursday    False  Spring  05:48 PM    Evening  \n",
       "1  2025-04-03 05:03:01 PM  Thursday    False  Spring  05:03 PM    Evening  \n",
       "2  2025-04-03 04:06:08 PM  Thursday    False  Spring  04:06 PM  Afternoon  \n",
       "3  2025-04-03 03:54:45 PM  Thursday    False  Spring  03:54 PM  Afternoon  \n",
       "4  2025-04-03 03:41:51 PM  Thursday    False  Spring  03:41 PM  Afternoon  "
      ]
     },
     "execution_count": 7,
     "metadata": {},
     "output_type": "execute_result"
    }
   ],
   "source": [
    "def convert_and_categorize_datereported(df, col='DateReported'):\n",
    "    \"\"\"\n",
    "    Converts an epoch (in milliseconds) date column into a timezone-aware datetime,\n",
    "    converts it to Eastern Time, and then creates columns for day-of-week, weekend flag,\n",
    "    season, 12-hour formatted time, and time-of-day. Keeps both a real datetime column\n",
    "    (Date) and a string representation (DateString).\n",
    "    \"\"\"\n",
    "    import pandas as pd\n",
    "\n",
    "    # Convert the epoch timestamp to a pandas datetime object as UTC, then convert to US/Eastern.\n",
    "    df[\"DateReported_dt\"] = (\n",
    "        pd.to_datetime(df[col], unit=\"ms\", errors=\"coerce\", utc=True)\n",
    "        .dt.tz_convert(\"US/Eastern\")\n",
    "    )\n",
    "    \n",
    "    # Create a true datetime column (remove timezone if you prefer naive datetime)\n",
    "    df[\"Date\"] = df[\"DateReported_dt\"].dt.tz_localize(None)\n",
    "\n",
    "    # Optionally, create a separate string-formatted column\n",
    "    df[\"DateString\"] = df[\"DateReported_dt\"].dt.strftime(\"%Y-%m-%d %I:%M:%S %p\")\n",
    "    \n",
    "    # DayOfWeek\n",
    "    df[\"DayOfWeek\"] = df[\"DateReported_dt\"].dt.day_name()\n",
    "    \n",
    "    # Weekend\n",
    "    df[\"Weekend\"] = df[\"DayOfWeek\"].isin([\"Saturday\", \"Sunday\"])\n",
    "    \n",
    "    # Helper function to determine the season\n",
    "    def get_season(dt):\n",
    "        month = dt.month\n",
    "        day = dt.day\n",
    "        # Approximate Northern Hemisphere season boundaries:\n",
    "        if (month == 12 and day >= 21) or (month < 3) or (month == 3 and day < 20):\n",
    "            return \"Winter\"\n",
    "        elif (month == 3 and day >= 20) or (month < 6) or (month == 6 and day < 21):\n",
    "            return \"Spring\"\n",
    "        elif (month == 6 and day >= 21) or (month < 9) or (month == 9 and day < 22):\n",
    "            return \"Summer\"\n",
    "        else:\n",
    "            return \"Autumn\"\n",
    "    \n",
    "    df[\"Season\"] = df[\"DateReported_dt\"].apply(get_season)\n",
    "    \n",
    "    # 12-hour formatted time (HourAMPM)\n",
    "    df[\"HourAMPM\"] = df[\"DateReported_dt\"].dt.strftime(\"%I:%M %p\")\n",
    "    \n",
    "    # Extract hour (0-23) for time-of-day\n",
    "    df[\"HourValue\"] = df[\"DateReported_dt\"].dt.hour\n",
    "    \n",
    "    def time_of_day(hour):\n",
    "        if pd.isnull(hour):\n",
    "            return None\n",
    "        if 5 <= hour < 12:\n",
    "            return \"Morning\"\n",
    "        elif 12 <= hour < 17:\n",
    "            return \"Afternoon\"\n",
    "        elif 17 <= hour < 21:\n",
    "            return \"Evening\"\n",
    "        else:\n",
    "            return \"Night\"\n",
    "    \n",
    "    df[\"TimeOfDay\"] = df[\"HourValue\"].apply(time_of_day)\n",
    "    \n",
    "    # Drop columns you no longer need\n",
    "    df.drop(columns=[col, \"DateReported_dt\", \"HourValue\"], inplace=True)\n",
    "    \n",
    "    return df\n",
    "\n",
    "# Example usage:\n",
    "df = convert_and_categorize_datereported(df)\n",
    "df.head()\n"
   ]
  },
  {
   "cell_type": "code",
   "execution_count": 8,
   "id": "922b5584",
   "metadata": {
    "execution": {
     "iopub.execute_input": "2025-04-05T05:31:40.957767Z",
     "iopub.status.busy": "2025-04-05T05:31:40.957364Z",
     "iopub.status.idle": "2025-04-05T05:31:40.985186Z",
     "shell.execute_reply": "2025-04-05T05:31:40.984501Z"
    },
    "papermill": {
     "duration": 0.035623,
     "end_time": "2025-04-05T05:31:40.986312",
     "exception": false,
     "start_time": "2025-04-05T05:31:40.950689",
     "status": "completed"
    },
    "tags": []
   },
   "outputs": [
    {
     "name": "stdout",
     "output_type": "stream",
     "text": [
      "<class 'pandas.core.frame.DataFrame'>\n",
      "RangeIndex: 25113 entries, 0 to 25112\n",
      "Data columns (total 15 columns):\n",
      " #   Column            Non-Null Count  Dtype         \n",
      "---  ------            --------------  -----         \n",
      " 0   RecordID          25113 non-null  int64         \n",
      " 1   Offense           25113 non-null  object        \n",
      " 2   IncidentID        25113 non-null  object        \n",
      " 3   BlockNumber       25113 non-null  object        \n",
      " 4   StreetName        25113 non-null  object        \n",
      " 5   Agency            25113 non-null  object        \n",
      " 6   HourReported      25113 non-null  object        \n",
      " 7   ReportingOfficer  25096 non-null  object        \n",
      " 8   Date              25113 non-null  datetime64[ns]\n",
      " 9   DateString        25113 non-null  object        \n",
      " 10  DayOfWeek         25113 non-null  object        \n",
      " 11  Weekend           25113 non-null  bool          \n",
      " 12  Season            25113 non-null  object        \n",
      " 13  HourAMPM          25113 non-null  object        \n",
      " 14  TimeOfDay         25113 non-null  object        \n",
      "dtypes: bool(1), datetime64[ns](1), int64(1), object(12)\n",
      "memory usage: 2.7+ MB\n"
     ]
    }
   ],
   "source": [
    "df.info()"
   ]
  },
  {
   "cell_type": "markdown",
   "id": "683c52ba",
   "metadata": {
    "papermill": {
     "duration": 0.006144,
     "end_time": "2025-04-05T05:31:40.998700",
     "exception": false,
     "start_time": "2025-04-05T05:31:40.992556",
     "status": "completed"
    },
    "tags": []
   },
   "source": [
    "### Coordinates"
   ]
  },
  {
   "cell_type": "code",
   "execution_count": 9,
   "id": "030b6cc1",
   "metadata": {
    "execution": {
     "iopub.execute_input": "2025-04-05T05:31:41.012000Z",
     "iopub.status.busy": "2025-04-05T05:31:41.011635Z",
     "iopub.status.idle": "2025-04-05T05:31:41.055346Z",
     "shell.execute_reply": "2025-04-05T05:31:41.054738Z"
    },
    "papermill": {
     "duration": 0.051564,
     "end_time": "2025-04-05T05:31:41.056344",
     "exception": false,
     "start_time": "2025-04-05T05:31:41.004780",
     "status": "completed"
    },
    "tags": []
   },
   "outputs": [
    {
     "name": "stdout",
     "output_type": "stream",
     "text": [
      "Loaded geocode cache.\n",
      "Geocode cache updated and saved.\n"
     ]
    },
    {
     "data": {
      "text/html": [
       "<div>\n",
       "<style scoped>\n",
       "    .dataframe tbody tr th:only-of-type {\n",
       "        vertical-align: middle;\n",
       "    }\n",
       "\n",
       "    .dataframe tbody tr th {\n",
       "        vertical-align: top;\n",
       "    }\n",
       "\n",
       "    .dataframe thead th {\n",
       "        text-align: right;\n",
       "    }\n",
       "</style>\n",
       "<table border=\"1\" class=\"dataframe\">\n",
       "  <thead>\n",
       "    <tr style=\"text-align: right;\">\n",
       "      <th></th>\n",
       "      <th>RecordID</th>\n",
       "      <th>Offense</th>\n",
       "      <th>IncidentID</th>\n",
       "      <th>BlockNumber</th>\n",
       "      <th>StreetName</th>\n",
       "      <th>Agency</th>\n",
       "      <th>HourReported</th>\n",
       "      <th>ReportingOfficer</th>\n",
       "      <th>Date</th>\n",
       "      <th>DateString</th>\n",
       "      <th>DayOfWeek</th>\n",
       "      <th>Weekend</th>\n",
       "      <th>Season</th>\n",
       "      <th>HourAMPM</th>\n",
       "      <th>TimeOfDay</th>\n",
       "      <th>FullStreet</th>\n",
       "      <th>lat</th>\n",
       "      <th>lon</th>\n",
       "    </tr>\n",
       "  </thead>\n",
       "  <tbody>\n",
       "    <tr>\n",
       "      <th>0</th>\n",
       "      <td>1</td>\n",
       "      <td>Larceny - Shoplifitng</td>\n",
       "      <td>202500010677</td>\n",
       "      <td>500</td>\n",
       "      <td>W MAIN ST</td>\n",
       "      <td>CPD</td>\n",
       "      <td>1748</td>\n",
       "      <td>Hannay, Jacob</td>\n",
       "      <td>2025-04-03 17:48:17</td>\n",
       "      <td>2025-04-03 05:48:17 PM</td>\n",
       "      <td>Thursday</td>\n",
       "      <td>False</td>\n",
       "      <td>Spring</td>\n",
       "      <td>05:48 PM</td>\n",
       "      <td>Evening</td>\n",
       "      <td>500 W MAIN ST</td>\n",
       "      <td>38.030793</td>\n",
       "      <td>-78.487912</td>\n",
       "    </tr>\n",
       "    <tr>\n",
       "      <th>1</th>\n",
       "      <td>2</td>\n",
       "      <td>Lost/FoundProperty</td>\n",
       "      <td>202500010668</td>\n",
       "      <td>200</td>\n",
       "      <td>E MAIN ST</td>\n",
       "      <td>CPD</td>\n",
       "      <td>1703</td>\n",
       "      <td>Rigsby, Lloyd</td>\n",
       "      <td>2025-04-03 17:03:01</td>\n",
       "      <td>2025-04-03 05:03:01 PM</td>\n",
       "      <td>Thursday</td>\n",
       "      <td>False</td>\n",
       "      <td>Spring</td>\n",
       "      <td>05:03 PM</td>\n",
       "      <td>Evening</td>\n",
       "      <td>200 E MAIN ST</td>\n",
       "      <td>38.030572</td>\n",
       "      <td>-78.480764</td>\n",
       "    </tr>\n",
       "    <tr>\n",
       "      <th>2</th>\n",
       "      <td>3</td>\n",
       "      <td>Larceny - Shoplifitng</td>\n",
       "      <td>202500010661</td>\n",
       "      <td>500</td>\n",
       "      <td>W MAIN ST</td>\n",
       "      <td>CPD</td>\n",
       "      <td>1606</td>\n",
       "      <td>Hannay, Jacob</td>\n",
       "      <td>2025-04-03 16:06:08</td>\n",
       "      <td>2025-04-03 04:06:08 PM</td>\n",
       "      <td>Thursday</td>\n",
       "      <td>False</td>\n",
       "      <td>Spring</td>\n",
       "      <td>04:06 PM</td>\n",
       "      <td>Afternoon</td>\n",
       "      <td>500 W MAIN ST</td>\n",
       "      <td>38.030793</td>\n",
       "      <td>-78.487912</td>\n",
       "    </tr>\n",
       "    <tr>\n",
       "      <th>3</th>\n",
       "      <td>4</td>\n",
       "      <td>Animal Complaint</td>\n",
       "      <td>202500010660</td>\n",
       "      <td>1000</td>\n",
       "      <td>MONTROSE AVE</td>\n",
       "      <td>CPD</td>\n",
       "      <td>1554</td>\n",
       "      <td>Moriarty, Thomas</td>\n",
       "      <td>2025-04-03 15:54:45</td>\n",
       "      <td>2025-04-03 03:54:45 PM</td>\n",
       "      <td>Thursday</td>\n",
       "      <td>False</td>\n",
       "      <td>Spring</td>\n",
       "      <td>03:54 PM</td>\n",
       "      <td>Afternoon</td>\n",
       "      <td>1000 MONTROSE AVE</td>\n",
       "      <td>38.019649</td>\n",
       "      <td>-78.476049</td>\n",
       "    </tr>\n",
       "    <tr>\n",
       "      <th>4</th>\n",
       "      <td>5</td>\n",
       "      <td>Larceny - All Other</td>\n",
       "      <td>202500010656</td>\n",
       "      <td>100</td>\n",
       "      <td>E MARKET ST</td>\n",
       "      <td>CPD</td>\n",
       "      <td>1541</td>\n",
       "      <td>Ritter, Kobe</td>\n",
       "      <td>2025-04-03 15:41:51</td>\n",
       "      <td>2025-04-03 03:41:51 PM</td>\n",
       "      <td>Thursday</td>\n",
       "      <td>False</td>\n",
       "      <td>Spring</td>\n",
       "      <td>03:41 PM</td>\n",
       "      <td>Afternoon</td>\n",
       "      <td>100 E MARKET ST</td>\n",
       "      <td>38.031539</td>\n",
       "      <td>-78.481144</td>\n",
       "    </tr>\n",
       "  </tbody>\n",
       "</table>\n",
       "</div>"
      ],
      "text/plain": [
       "   RecordID                Offense    IncidentID BlockNumber    StreetName  \\\n",
       "0         1  Larceny - Shoplifitng  202500010677         500     W MAIN ST   \n",
       "1         2     Lost/FoundProperty  202500010668         200     E MAIN ST   \n",
       "2         3  Larceny - Shoplifitng  202500010661         500     W MAIN ST   \n",
       "3         4       Animal Complaint  202500010660        1000  MONTROSE AVE   \n",
       "4         5    Larceny - All Other  202500010656         100   E MARKET ST   \n",
       "\n",
       "  Agency HourReported  ReportingOfficer                Date  \\\n",
       "0    CPD         1748     Hannay, Jacob 2025-04-03 17:48:17   \n",
       "1    CPD         1703     Rigsby, Lloyd 2025-04-03 17:03:01   \n",
       "2    CPD         1606     Hannay, Jacob 2025-04-03 16:06:08   \n",
       "3    CPD         1554  Moriarty, Thomas 2025-04-03 15:54:45   \n",
       "4    CPD         1541      Ritter, Kobe 2025-04-03 15:41:51   \n",
       "\n",
       "               DateString DayOfWeek  Weekend  Season  HourAMPM  TimeOfDay  \\\n",
       "0  2025-04-03 05:48:17 PM  Thursday    False  Spring  05:48 PM    Evening   \n",
       "1  2025-04-03 05:03:01 PM  Thursday    False  Spring  05:03 PM    Evening   \n",
       "2  2025-04-03 04:06:08 PM  Thursday    False  Spring  04:06 PM  Afternoon   \n",
       "3  2025-04-03 03:54:45 PM  Thursday    False  Spring  03:54 PM  Afternoon   \n",
       "4  2025-04-03 03:41:51 PM  Thursday    False  Spring  03:41 PM  Afternoon   \n",
       "\n",
       "          FullStreet        lat        lon  \n",
       "0      500 W MAIN ST  38.030793 -78.487912  \n",
       "1      200 E MAIN ST  38.030572 -78.480764  \n",
       "2      500 W MAIN ST  38.030793 -78.487912  \n",
       "3  1000 MONTROSE AVE  38.019649 -78.476049  \n",
       "4    100 E MARKET ST  38.031539 -78.481144  "
      ]
     },
     "execution_count": 9,
     "metadata": {},
     "output_type": "execute_result"
    }
   ],
   "source": [
    "# Combine BlockNumber and StreetName into a full address string\n",
    "df['FullStreet'] = df['BlockNumber'].astype(str) + \" \" + df['StreetName']\n",
    "\n",
    "# --- Step 1: Setup the Google Maps Client and Cache ---\n",
    "gmaps = googlemaps.Client(key=GOOGLE_API_KEY)\n",
    "\n",
    "# Try to load cached geocoding results if available.\n",
    "try:\n",
    "    with open(\"geocode_cache_google.pkl\", \"rb\") as f:\n",
    "        street_coords = pickle.load(f)\n",
    "    print(\"Loaded geocode cache.\")\n",
    "except FileNotFoundError:\n",
    "    street_coords = {}\n",
    "    print(\"No cache found; starting fresh.\")\n",
    "\n",
    "def geocode_address(address):\n",
    "    try:\n",
    "        # Append city and state to help geocoding\n",
    "        result = gmaps.geocode(f\"{address}, Charlottesville, VA\")\n",
    "        if result:\n",
    "            lat = result[0]['geometry']['location']['lat']\n",
    "            lon = result[0]['geometry']['location']['lng']\n",
    "            return lat, lon\n",
    "    except Exception as e:\n",
    "        print(f\"Error geocoding {address}: {e}\")\n",
    "    return None, None\n",
    "\n",
    "# --- Step 2: Geocode Only New Addresses ---\n",
    "unique_addresses = df['FullStreet'].unique()\n",
    "for address in unique_addresses:\n",
    "    if address not in street_coords:\n",
    "        lat, lon = geocode_address(address)\n",
    "        street_coords[address] = (lat, lon)\n",
    "        print(f\"Geocoded {address}: {lat}, {lon}\")\n",
    "\n",
    "# Save the updated cache to disk.\n",
    "with open(\"geocode_cache_google.pkl\", \"wb\") as f:\n",
    "    pickle.dump(street_coords, f)\n",
    "    print(\"Geocode cache updated and saved.\")\n",
    "\n",
    "# --- Step 3: Map Coordinates Back to DataFrame ---\n",
    "df['lat'] = df['FullStreet'].map(lambda s: street_coords.get(s, (None, None))[0])\n",
    "df['lon'] = df['FullStreet'].map(lambda s: street_coords.get(s, (None, None))[1])\n",
    "\n",
    "df.head()"
   ]
  },
  {
   "cell_type": "markdown",
   "id": "fccafad8",
   "metadata": {
    "papermill": {
     "duration": 0.006331,
     "end_time": "2025-04-05T05:31:41.069494",
     "exception": false,
     "start_time": "2025-04-05T05:31:41.063163",
     "status": "completed"
    },
    "tags": []
   },
   "source": [
    "### Neighborhood"
   ]
  },
  {
   "cell_type": "code",
   "execution_count": 10,
   "id": "810a241a",
   "metadata": {
    "execution": {
     "iopub.execute_input": "2025-04-05T05:31:41.083047Z",
     "iopub.status.busy": "2025-04-05T05:31:41.082617Z",
     "iopub.status.idle": "2025-04-05T05:31:41.339232Z",
     "shell.execute_reply": "2025-04-05T05:31:41.338536Z"
    },
    "papermill": {
     "duration": 0.264653,
     "end_time": "2025-04-05T05:31:41.340350",
     "exception": false,
     "start_time": "2025-04-05T05:31:41.075697",
     "status": "completed"
    },
    "tags": []
   },
   "outputs": [
    {
     "name": "stdout",
     "output_type": "stream",
     "text": [
      "Loaded neighborhood cache.\n"
     ]
    },
    {
     "data": {
      "text/html": [
       "<div>\n",
       "<style scoped>\n",
       "    .dataframe tbody tr th:only-of-type {\n",
       "        vertical-align: middle;\n",
       "    }\n",
       "\n",
       "    .dataframe tbody tr th {\n",
       "        vertical-align: top;\n",
       "    }\n",
       "\n",
       "    .dataframe thead th {\n",
       "        text-align: right;\n",
       "    }\n",
       "</style>\n",
       "<table border=\"1\" class=\"dataframe\">\n",
       "  <thead>\n",
       "    <tr style=\"text-align: right;\">\n",
       "      <th></th>\n",
       "      <th>RecordID</th>\n",
       "      <th>Offense</th>\n",
       "      <th>IncidentID</th>\n",
       "      <th>BlockNumber</th>\n",
       "      <th>StreetName</th>\n",
       "      <th>Agency</th>\n",
       "      <th>HourReported</th>\n",
       "      <th>ReportingOfficer</th>\n",
       "      <th>Date</th>\n",
       "      <th>DateString</th>\n",
       "      <th>DayOfWeek</th>\n",
       "      <th>Weekend</th>\n",
       "      <th>Season</th>\n",
       "      <th>HourAMPM</th>\n",
       "      <th>TimeOfDay</th>\n",
       "      <th>FullStreet</th>\n",
       "      <th>lat</th>\n",
       "      <th>lon</th>\n",
       "      <th>neighborhood</th>\n",
       "    </tr>\n",
       "  </thead>\n",
       "  <tbody>\n",
       "    <tr>\n",
       "      <th>0</th>\n",
       "      <td>1</td>\n",
       "      <td>Larceny - Shoplifitng</td>\n",
       "      <td>202500010677</td>\n",
       "      <td>500</td>\n",
       "      <td>W MAIN ST</td>\n",
       "      <td>CPD</td>\n",
       "      <td>1748</td>\n",
       "      <td>Hannay, Jacob</td>\n",
       "      <td>2025-04-03 17:48:17</td>\n",
       "      <td>2025-04-03 05:48:17 PM</td>\n",
       "      <td>Thursday</td>\n",
       "      <td>False</td>\n",
       "      <td>Spring</td>\n",
       "      <td>05:48 PM</td>\n",
       "      <td>Evening</td>\n",
       "      <td>500 W MAIN ST</td>\n",
       "      <td>38.030793</td>\n",
       "      <td>-78.487912</td>\n",
       "      <td>Starr Hill</td>\n",
       "    </tr>\n",
       "    <tr>\n",
       "      <th>1</th>\n",
       "      <td>2</td>\n",
       "      <td>Lost/FoundProperty</td>\n",
       "      <td>202500010668</td>\n",
       "      <td>200</td>\n",
       "      <td>E MAIN ST</td>\n",
       "      <td>CPD</td>\n",
       "      <td>1703</td>\n",
       "      <td>Rigsby, Lloyd</td>\n",
       "      <td>2025-04-03 17:03:01</td>\n",
       "      <td>2025-04-03 05:03:01 PM</td>\n",
       "      <td>Thursday</td>\n",
       "      <td>False</td>\n",
       "      <td>Spring</td>\n",
       "      <td>05:03 PM</td>\n",
       "      <td>Evening</td>\n",
       "      <td>200 E MAIN ST</td>\n",
       "      <td>38.030572</td>\n",
       "      <td>-78.480764</td>\n",
       "      <td>Downtown Mall</td>\n",
       "    </tr>\n",
       "    <tr>\n",
       "      <th>2</th>\n",
       "      <td>3</td>\n",
       "      <td>Larceny - Shoplifitng</td>\n",
       "      <td>202500010661</td>\n",
       "      <td>500</td>\n",
       "      <td>W MAIN ST</td>\n",
       "      <td>CPD</td>\n",
       "      <td>1606</td>\n",
       "      <td>Hannay, Jacob</td>\n",
       "      <td>2025-04-03 16:06:08</td>\n",
       "      <td>2025-04-03 04:06:08 PM</td>\n",
       "      <td>Thursday</td>\n",
       "      <td>False</td>\n",
       "      <td>Spring</td>\n",
       "      <td>04:06 PM</td>\n",
       "      <td>Afternoon</td>\n",
       "      <td>500 W MAIN ST</td>\n",
       "      <td>38.030793</td>\n",
       "      <td>-78.487912</td>\n",
       "      <td>Starr Hill</td>\n",
       "    </tr>\n",
       "    <tr>\n",
       "      <th>3</th>\n",
       "      <td>4</td>\n",
       "      <td>Animal Complaint</td>\n",
       "      <td>202500010660</td>\n",
       "      <td>1000</td>\n",
       "      <td>MONTROSE AVE</td>\n",
       "      <td>CPD</td>\n",
       "      <td>1554</td>\n",
       "      <td>Moriarty, Thomas</td>\n",
       "      <td>2025-04-03 15:54:45</td>\n",
       "      <td>2025-04-03 03:54:45 PM</td>\n",
       "      <td>Thursday</td>\n",
       "      <td>False</td>\n",
       "      <td>Spring</td>\n",
       "      <td>03:54 PM</td>\n",
       "      <td>Afternoon</td>\n",
       "      <td>1000 MONTROSE AVE</td>\n",
       "      <td>38.019649</td>\n",
       "      <td>-78.476049</td>\n",
       "      <td>Belmont</td>\n",
       "    </tr>\n",
       "    <tr>\n",
       "      <th>4</th>\n",
       "      <td>5</td>\n",
       "      <td>Larceny - All Other</td>\n",
       "      <td>202500010656</td>\n",
       "      <td>100</td>\n",
       "      <td>E MARKET ST</td>\n",
       "      <td>CPD</td>\n",
       "      <td>1541</td>\n",
       "      <td>Ritter, Kobe</td>\n",
       "      <td>2025-04-03 15:41:51</td>\n",
       "      <td>2025-04-03 03:41:51 PM</td>\n",
       "      <td>Thursday</td>\n",
       "      <td>False</td>\n",
       "      <td>Spring</td>\n",
       "      <td>03:41 PM</td>\n",
       "      <td>Afternoon</td>\n",
       "      <td>100 E MARKET ST</td>\n",
       "      <td>38.031539</td>\n",
       "      <td>-78.481144</td>\n",
       "      <td>Downtown Mall</td>\n",
       "    </tr>\n",
       "  </tbody>\n",
       "</table>\n",
       "</div>"
      ],
      "text/plain": [
       "   RecordID                Offense    IncidentID BlockNumber    StreetName  \\\n",
       "0         1  Larceny - Shoplifitng  202500010677         500     W MAIN ST   \n",
       "1         2     Lost/FoundProperty  202500010668         200     E MAIN ST   \n",
       "2         3  Larceny - Shoplifitng  202500010661         500     W MAIN ST   \n",
       "3         4       Animal Complaint  202500010660        1000  MONTROSE AVE   \n",
       "4         5    Larceny - All Other  202500010656         100   E MARKET ST   \n",
       "\n",
       "  Agency HourReported  ReportingOfficer                Date  \\\n",
       "0    CPD         1748     Hannay, Jacob 2025-04-03 17:48:17   \n",
       "1    CPD         1703     Rigsby, Lloyd 2025-04-03 17:03:01   \n",
       "2    CPD         1606     Hannay, Jacob 2025-04-03 16:06:08   \n",
       "3    CPD         1554  Moriarty, Thomas 2025-04-03 15:54:45   \n",
       "4    CPD         1541      Ritter, Kobe 2025-04-03 15:41:51   \n",
       "\n",
       "               DateString DayOfWeek  Weekend  Season  HourAMPM  TimeOfDay  \\\n",
       "0  2025-04-03 05:48:17 PM  Thursday    False  Spring  05:48 PM    Evening   \n",
       "1  2025-04-03 05:03:01 PM  Thursday    False  Spring  05:03 PM    Evening   \n",
       "2  2025-04-03 04:06:08 PM  Thursday    False  Spring  04:06 PM  Afternoon   \n",
       "3  2025-04-03 03:54:45 PM  Thursday    False  Spring  03:54 PM  Afternoon   \n",
       "4  2025-04-03 03:41:51 PM  Thursday    False  Spring  03:41 PM  Afternoon   \n",
       "\n",
       "          FullStreet        lat        lon   neighborhood  \n",
       "0      500 W MAIN ST  38.030793 -78.487912     Starr Hill  \n",
       "1      200 E MAIN ST  38.030572 -78.480764  Downtown Mall  \n",
       "2      500 W MAIN ST  38.030793 -78.487912     Starr Hill  \n",
       "3  1000 MONTROSE AVE  38.019649 -78.476049        Belmont  \n",
       "4    100 E MARKET ST  38.031539 -78.481144  Downtown Mall  "
      ]
     },
     "execution_count": 10,
     "metadata": {},
     "output_type": "execute_result"
    }
   ],
   "source": [
    "# Initialize the Google Maps client.\n",
    "gmaps = googlemaps.Client(key=GOOGLE_API_KEY)\n",
    "\n",
    "# Try to load a persistent neighborhood cache if available.\n",
    "try:\n",
    "    with open(\"neighborhood_cache.pkl\", \"rb\") as f:\n",
    "        neighborhood_cache = pickle.load(f)\n",
    "    print(\"Loaded neighborhood cache.\")\n",
    "except FileNotFoundError:\n",
    "    neighborhood_cache = {}\n",
    "    print(\"No neighborhood cache found; starting fresh.\")\n",
    "\n",
    "def get_neighborhood(lat, lon):\n",
    "    \"\"\"\n",
    "    Reverse geocodes a latitude and longitude to retrieve the neighborhood.\n",
    "    Caches results to speed up subsequent lookups.\n",
    "    \"\"\"\n",
    "    key = (lat, lon)\n",
    "    if key in neighborhood_cache:\n",
    "        return neighborhood_cache[key]\n",
    "    \n",
    "    try:\n",
    "        result = gmaps.reverse_geocode((lat, lon))\n",
    "        if result:\n",
    "            # Look for the 'neighborhood' component in the first result.\n",
    "            for component in result[0]['address_components']:\n",
    "                if 'neighborhood' in component['types']:\n",
    "                    neighborhood = component['long_name']\n",
    "                    neighborhood_cache[key] = neighborhood\n",
    "                    return neighborhood\n",
    "            # If no neighborhood is found, return \"N/A\"\n",
    "            neighborhood_cache[key] = \"N/A\"\n",
    "            return \"N/A\"\n",
    "    except Exception as e:\n",
    "        print(f\"Error getting neighborhood for {lat}, {lon}: {e}\")\n",
    "        return \"N/A\"\n",
    "    \n",
    "    # Pause to respect usage limits.\n",
    "    time.sleep(1)\n",
    "\n",
    "# Example usage: Apply to your DataFrame 'df' that already has 'lat' and 'lon' columns.\n",
    "df['neighborhood'] = df.apply(lambda row: get_neighborhood(row['lat'], row['lon']), axis=1)\n",
    "\n",
    "# Save the updated neighborhood cache.\n",
    "with open(\"neighborhood_cache.pkl\", \"wb\") as f:\n",
    "    pickle.dump(neighborhood_cache, f)\n",
    "\n",
    "df.head()\n"
   ]
  },
  {
   "cell_type": "markdown",
   "id": "a366426b",
   "metadata": {
    "papermill": {
     "duration": 0.006572,
     "end_time": "2025-04-05T05:31:41.353776",
     "exception": false,
     "start_time": "2025-04-05T05:31:41.347204",
     "status": "completed"
    },
    "tags": []
   },
   "source": [
    "### Zip"
   ]
  },
  {
   "cell_type": "code",
   "execution_count": 11,
   "id": "6ba10bba",
   "metadata": {
    "execution": {
     "iopub.execute_input": "2025-04-05T05:31:41.367812Z",
     "iopub.status.busy": "2025-04-05T05:31:41.367448Z",
     "iopub.status.idle": "2025-04-05T05:31:41.603225Z",
     "shell.execute_reply": "2025-04-05T05:31:41.602531Z"
    },
    "papermill": {
     "duration": 0.244176,
     "end_time": "2025-04-05T05:31:41.604402",
     "exception": false,
     "start_time": "2025-04-05T05:31:41.360226",
     "status": "completed"
    },
    "tags": []
   },
   "outputs": [
    {
     "name": "stdout",
     "output_type": "stream",
     "text": [
      "Loaded zip cache.\n"
     ]
    },
    {
     "data": {
      "text/html": [
       "<div>\n",
       "<style scoped>\n",
       "    .dataframe tbody tr th:only-of-type {\n",
       "        vertical-align: middle;\n",
       "    }\n",
       "\n",
       "    .dataframe tbody tr th {\n",
       "        vertical-align: top;\n",
       "    }\n",
       "\n",
       "    .dataframe thead th {\n",
       "        text-align: right;\n",
       "    }\n",
       "</style>\n",
       "<table border=\"1\" class=\"dataframe\">\n",
       "  <thead>\n",
       "    <tr style=\"text-align: right;\">\n",
       "      <th></th>\n",
       "      <th>RecordID</th>\n",
       "      <th>Offense</th>\n",
       "      <th>IncidentID</th>\n",
       "      <th>BlockNumber</th>\n",
       "      <th>StreetName</th>\n",
       "      <th>Agency</th>\n",
       "      <th>HourReported</th>\n",
       "      <th>ReportingOfficer</th>\n",
       "      <th>Date</th>\n",
       "      <th>DateString</th>\n",
       "      <th>DayOfWeek</th>\n",
       "      <th>Weekend</th>\n",
       "      <th>Season</th>\n",
       "      <th>HourAMPM</th>\n",
       "      <th>TimeOfDay</th>\n",
       "      <th>FullStreet</th>\n",
       "      <th>lat</th>\n",
       "      <th>lon</th>\n",
       "      <th>neighborhood</th>\n",
       "      <th>zip</th>\n",
       "    </tr>\n",
       "  </thead>\n",
       "  <tbody>\n",
       "    <tr>\n",
       "      <th>0</th>\n",
       "      <td>1</td>\n",
       "      <td>Larceny - Shoplifitng</td>\n",
       "      <td>202500010677</td>\n",
       "      <td>500</td>\n",
       "      <td>W MAIN ST</td>\n",
       "      <td>CPD</td>\n",
       "      <td>1748</td>\n",
       "      <td>Hannay, Jacob</td>\n",
       "      <td>2025-04-03 17:48:17</td>\n",
       "      <td>2025-04-03 05:48:17 PM</td>\n",
       "      <td>Thursday</td>\n",
       "      <td>False</td>\n",
       "      <td>Spring</td>\n",
       "      <td>05:48 PM</td>\n",
       "      <td>Evening</td>\n",
       "      <td>500 W MAIN ST</td>\n",
       "      <td>38.030793</td>\n",
       "      <td>-78.487912</td>\n",
       "      <td>Starr Hill</td>\n",
       "      <td>22903</td>\n",
       "    </tr>\n",
       "    <tr>\n",
       "      <th>1</th>\n",
       "      <td>2</td>\n",
       "      <td>Lost/FoundProperty</td>\n",
       "      <td>202500010668</td>\n",
       "      <td>200</td>\n",
       "      <td>E MAIN ST</td>\n",
       "      <td>CPD</td>\n",
       "      <td>1703</td>\n",
       "      <td>Rigsby, Lloyd</td>\n",
       "      <td>2025-04-03 17:03:01</td>\n",
       "      <td>2025-04-03 05:03:01 PM</td>\n",
       "      <td>Thursday</td>\n",
       "      <td>False</td>\n",
       "      <td>Spring</td>\n",
       "      <td>05:03 PM</td>\n",
       "      <td>Evening</td>\n",
       "      <td>200 E MAIN ST</td>\n",
       "      <td>38.030572</td>\n",
       "      <td>-78.480764</td>\n",
       "      <td>Downtown Mall</td>\n",
       "      <td>22902</td>\n",
       "    </tr>\n",
       "    <tr>\n",
       "      <th>2</th>\n",
       "      <td>3</td>\n",
       "      <td>Larceny - Shoplifitng</td>\n",
       "      <td>202500010661</td>\n",
       "      <td>500</td>\n",
       "      <td>W MAIN ST</td>\n",
       "      <td>CPD</td>\n",
       "      <td>1606</td>\n",
       "      <td>Hannay, Jacob</td>\n",
       "      <td>2025-04-03 16:06:08</td>\n",
       "      <td>2025-04-03 04:06:08 PM</td>\n",
       "      <td>Thursday</td>\n",
       "      <td>False</td>\n",
       "      <td>Spring</td>\n",
       "      <td>04:06 PM</td>\n",
       "      <td>Afternoon</td>\n",
       "      <td>500 W MAIN ST</td>\n",
       "      <td>38.030793</td>\n",
       "      <td>-78.487912</td>\n",
       "      <td>Starr Hill</td>\n",
       "      <td>22903</td>\n",
       "    </tr>\n",
       "    <tr>\n",
       "      <th>3</th>\n",
       "      <td>4</td>\n",
       "      <td>Animal Complaint</td>\n",
       "      <td>202500010660</td>\n",
       "      <td>1000</td>\n",
       "      <td>MONTROSE AVE</td>\n",
       "      <td>CPD</td>\n",
       "      <td>1554</td>\n",
       "      <td>Moriarty, Thomas</td>\n",
       "      <td>2025-04-03 15:54:45</td>\n",
       "      <td>2025-04-03 03:54:45 PM</td>\n",
       "      <td>Thursday</td>\n",
       "      <td>False</td>\n",
       "      <td>Spring</td>\n",
       "      <td>03:54 PM</td>\n",
       "      <td>Afternoon</td>\n",
       "      <td>1000 MONTROSE AVE</td>\n",
       "      <td>38.019649</td>\n",
       "      <td>-78.476049</td>\n",
       "      <td>Belmont</td>\n",
       "      <td>22903</td>\n",
       "    </tr>\n",
       "    <tr>\n",
       "      <th>4</th>\n",
       "      <td>5</td>\n",
       "      <td>Larceny - All Other</td>\n",
       "      <td>202500010656</td>\n",
       "      <td>100</td>\n",
       "      <td>E MARKET ST</td>\n",
       "      <td>CPD</td>\n",
       "      <td>1541</td>\n",
       "      <td>Ritter, Kobe</td>\n",
       "      <td>2025-04-03 15:41:51</td>\n",
       "      <td>2025-04-03 03:41:51 PM</td>\n",
       "      <td>Thursday</td>\n",
       "      <td>False</td>\n",
       "      <td>Spring</td>\n",
       "      <td>03:41 PM</td>\n",
       "      <td>Afternoon</td>\n",
       "      <td>100 E MARKET ST</td>\n",
       "      <td>38.031539</td>\n",
       "      <td>-78.481144</td>\n",
       "      <td>Downtown Mall</td>\n",
       "      <td>22902</td>\n",
       "    </tr>\n",
       "  </tbody>\n",
       "</table>\n",
       "</div>"
      ],
      "text/plain": [
       "   RecordID                Offense    IncidentID BlockNumber    StreetName  \\\n",
       "0         1  Larceny - Shoplifitng  202500010677         500     W MAIN ST   \n",
       "1         2     Lost/FoundProperty  202500010668         200     E MAIN ST   \n",
       "2         3  Larceny - Shoplifitng  202500010661         500     W MAIN ST   \n",
       "3         4       Animal Complaint  202500010660        1000  MONTROSE AVE   \n",
       "4         5    Larceny - All Other  202500010656         100   E MARKET ST   \n",
       "\n",
       "  Agency HourReported  ReportingOfficer                Date  \\\n",
       "0    CPD         1748     Hannay, Jacob 2025-04-03 17:48:17   \n",
       "1    CPD         1703     Rigsby, Lloyd 2025-04-03 17:03:01   \n",
       "2    CPD         1606     Hannay, Jacob 2025-04-03 16:06:08   \n",
       "3    CPD         1554  Moriarty, Thomas 2025-04-03 15:54:45   \n",
       "4    CPD         1541      Ritter, Kobe 2025-04-03 15:41:51   \n",
       "\n",
       "               DateString DayOfWeek  Weekend  Season  HourAMPM  TimeOfDay  \\\n",
       "0  2025-04-03 05:48:17 PM  Thursday    False  Spring  05:48 PM    Evening   \n",
       "1  2025-04-03 05:03:01 PM  Thursday    False  Spring  05:03 PM    Evening   \n",
       "2  2025-04-03 04:06:08 PM  Thursday    False  Spring  04:06 PM  Afternoon   \n",
       "3  2025-04-03 03:54:45 PM  Thursday    False  Spring  03:54 PM  Afternoon   \n",
       "4  2025-04-03 03:41:51 PM  Thursday    False  Spring  03:41 PM  Afternoon   \n",
       "\n",
       "          FullStreet        lat        lon   neighborhood    zip  \n",
       "0      500 W MAIN ST  38.030793 -78.487912     Starr Hill  22903  \n",
       "1      200 E MAIN ST  38.030572 -78.480764  Downtown Mall  22902  \n",
       "2      500 W MAIN ST  38.030793 -78.487912     Starr Hill  22903  \n",
       "3  1000 MONTROSE AVE  38.019649 -78.476049        Belmont  22903  \n",
       "4    100 E MARKET ST  38.031539 -78.481144  Downtown Mall  22902  "
      ]
     },
     "execution_count": 11,
     "metadata": {},
     "output_type": "execute_result"
    }
   ],
   "source": [
    "# Initialize the geocoder.\n",
    "geolocator = Nominatim(user_agent=\"zip_lookup\")\n",
    "\n",
    "# Try to load a persistent ZIP cache if available.\n",
    "try:\n",
    "    with open(\"zip_cache.pkl\", \"rb\") as f:\n",
    "        zip_cache = pickle.load(f)\n",
    "    print(\"Loaded zip cache.\")\n",
    "except FileNotFoundError:\n",
    "    zip_cache = {}\n",
    "    print(\"No zip cache found; starting fresh.\")\n",
    "\n",
    "def get_zip(lat, lon):\n",
    "    \"\"\"\n",
    "    Reverse geocodes a latitude and longitude to retrieve the ZIP code.\n",
    "    Caches results to speed up subsequent lookups.\n",
    "    \"\"\"\n",
    "    key = (lat, lon)\n",
    "    if key in zip_cache:\n",
    "        return zip_cache[key]\n",
    "    \n",
    "    try:\n",
    "        location = geolocator.reverse((lat, lon), exactly_one=True, timeout=10)\n",
    "        address = location.raw.get('address', {})\n",
    "        postal_code = address.get('postcode', \"N/A\")\n",
    "    except Exception as e:\n",
    "        print(f\"Error getting ZIP for {lat}, {lon}: {e}\")\n",
    "        postal_code = \"N/A\"\n",
    "    \n",
    "    zip_cache[key] = postal_code\n",
    "    # Pause to respect the usage policy.\n",
    "    time.sleep(1)\n",
    "    return postal_code\n",
    "\n",
    "# Apply the function to each row in the DataFrame.\n",
    "df['zip'] = df.apply(lambda row: get_zip(row['lat'], row['lon']), axis=1)\n",
    "\n",
    "# Save the updated ZIP cache.\n",
    "with open(\"zip_cache.pkl\", \"wb\") as f:\n",
    "    pickle.dump(zip_cache, f)\n",
    "\n",
    "df.head()\n"
   ]
  },
  {
   "cell_type": "code",
   "execution_count": 12,
   "id": "90848014",
   "metadata": {
    "execution": {
     "iopub.execute_input": "2025-04-05T05:31:41.619574Z",
     "iopub.status.busy": "2025-04-05T05:31:41.619196Z",
     "iopub.status.idle": "2025-04-05T05:31:41.647503Z",
     "shell.execute_reply": "2025-04-05T05:31:41.646856Z"
    },
    "papermill": {
     "duration": 0.037029,
     "end_time": "2025-04-05T05:31:41.648607",
     "exception": false,
     "start_time": "2025-04-05T05:31:41.611578",
     "status": "completed"
    },
    "tags": []
   },
   "outputs": [
    {
     "name": "stdout",
     "output_type": "stream",
     "text": [
      "                  MissingCount  MissingPercentage\n",
      "RecordID                     0               0.00\n",
      "Offense                      0               0.00\n",
      "IncidentID                   0               0.00\n",
      "BlockNumber                  0               0.00\n",
      "StreetName                   0               0.00\n",
      "Agency                       0               0.00\n",
      "HourReported                 0               0.00\n",
      "ReportingOfficer            17               0.07\n",
      "Date                         0               0.00\n",
      "DateString                   0               0.00\n",
      "DayOfWeek                    0               0.00\n",
      "Weekend                      0               0.00\n",
      "Season                       0               0.00\n",
      "HourAMPM                     0               0.00\n",
      "TimeOfDay                    0               0.00\n",
      "FullStreet                   0               0.00\n",
      "lat                          0               0.00\n",
      "lon                          0               0.00\n",
      "neighborhood                 0               0.00\n",
      "zip                          0               0.00\n"
     ]
    }
   ],
   "source": [
    "missing_info = missing_percentage(df)\n",
    "print(missing_info)\n"
   ]
  },
  {
   "cell_type": "code",
   "execution_count": 13,
   "id": "9c7e0822",
   "metadata": {
    "execution": {
     "iopub.execute_input": "2025-04-05T05:31:41.663675Z",
     "iopub.status.busy": "2025-04-05T05:31:41.663207Z",
     "iopub.status.idle": "2025-04-05T05:31:41.691162Z",
     "shell.execute_reply": "2025-04-05T05:31:41.690589Z"
    },
    "papermill": {
     "duration": 0.036544,
     "end_time": "2025-04-05T05:31:41.692180",
     "exception": false,
     "start_time": "2025-04-05T05:31:41.655636",
     "status": "completed"
    },
    "tags": []
   },
   "outputs": [
    {
     "name": "stdout",
     "output_type": "stream",
     "text": [
      "<class 'pandas.core.frame.DataFrame'>\n",
      "RangeIndex: 25113 entries, 0 to 25112\n",
      "Data columns (total 20 columns):\n",
      " #   Column            Non-Null Count  Dtype         \n",
      "---  ------            --------------  -----         \n",
      " 0   RecordID          25113 non-null  int64         \n",
      " 1   Offense           25113 non-null  object        \n",
      " 2   IncidentID        25113 non-null  object        \n",
      " 3   BlockNumber       25113 non-null  object        \n",
      " 4   StreetName        25113 non-null  object        \n",
      " 5   Agency            25113 non-null  object        \n",
      " 6   HourReported      25113 non-null  object        \n",
      " 7   ReportingOfficer  25096 non-null  object        \n",
      " 8   Date              25113 non-null  datetime64[ns]\n",
      " 9   DateString        25113 non-null  object        \n",
      " 10  DayOfWeek         25113 non-null  object        \n",
      " 11  Weekend           25113 non-null  bool          \n",
      " 12  Season            25113 non-null  object        \n",
      " 13  HourAMPM          25113 non-null  object        \n",
      " 14  TimeOfDay         25113 non-null  object        \n",
      " 15  FullStreet        25113 non-null  object        \n",
      " 16  lat               25113 non-null  float64       \n",
      " 17  lon               25113 non-null  float64       \n",
      " 18  neighborhood      25113 non-null  object        \n",
      " 19  zip               25113 non-null  object        \n",
      "dtypes: bool(1), datetime64[ns](1), float64(2), int64(1), object(15)\n",
      "memory usage: 3.7+ MB\n"
     ]
    }
   ],
   "source": [
    "df.info()"
   ]
  },
  {
   "cell_type": "code",
   "execution_count": 14,
   "id": "073500f3",
   "metadata": {
    "execution": {
     "iopub.execute_input": "2025-04-05T05:31:41.707352Z",
     "iopub.status.busy": "2025-04-05T05:31:41.706956Z",
     "iopub.status.idle": "2025-04-05T05:31:41.748058Z",
     "shell.execute_reply": "2025-04-05T05:31:41.747356Z"
    },
    "papermill": {
     "duration": 0.049702,
     "end_time": "2025-04-05T05:31:41.749065",
     "exception": false,
     "start_time": "2025-04-05T05:31:41.699363",
     "status": "completed"
    },
    "tags": []
   },
   "outputs": [
    {
     "data": {
      "text/html": [
       "<div>\n",
       "<style scoped>\n",
       "    .dataframe tbody tr th:only-of-type {\n",
       "        vertical-align: middle;\n",
       "    }\n",
       "\n",
       "    .dataframe tbody tr th {\n",
       "        vertical-align: top;\n",
       "    }\n",
       "\n",
       "    .dataframe thead th {\n",
       "        text-align: right;\n",
       "    }\n",
       "</style>\n",
       "<table border=\"1\" class=\"dataframe\">\n",
       "  <thead>\n",
       "    <tr style=\"text-align: right;\">\n",
       "      <th></th>\n",
       "      <th>RecordID</th>\n",
       "      <th>Offense</th>\n",
       "      <th>IncidentID</th>\n",
       "      <th>Agency</th>\n",
       "      <th>ReportingOfficer</th>\n",
       "      <th>Date</th>\n",
       "      <th>DayOfWeek</th>\n",
       "      <th>Weekend</th>\n",
       "      <th>Season</th>\n",
       "      <th>TimeOfDay</th>\n",
       "      <th>FullStreet</th>\n",
       "      <th>lat</th>\n",
       "      <th>lon</th>\n",
       "      <th>neighborhood</th>\n",
       "      <th>zip</th>\n",
       "    </tr>\n",
       "  </thead>\n",
       "  <tbody>\n",
       "    <tr>\n",
       "      <th>0</th>\n",
       "      <td>1</td>\n",
       "      <td>Larceny - Shoplifitng</td>\n",
       "      <td>202500010677</td>\n",
       "      <td>CPD</td>\n",
       "      <td>Hannay, Jacob</td>\n",
       "      <td>2025-04-03 17:48:17</td>\n",
       "      <td>Thursday</td>\n",
       "      <td>False</td>\n",
       "      <td>Spring</td>\n",
       "      <td>Evening</td>\n",
       "      <td>500 W MAIN ST</td>\n",
       "      <td>38.030793</td>\n",
       "      <td>-78.487912</td>\n",
       "      <td>Starr Hill</td>\n",
       "      <td>22903</td>\n",
       "    </tr>\n",
       "    <tr>\n",
       "      <th>1</th>\n",
       "      <td>2</td>\n",
       "      <td>Lost/FoundProperty</td>\n",
       "      <td>202500010668</td>\n",
       "      <td>CPD</td>\n",
       "      <td>Rigsby, Lloyd</td>\n",
       "      <td>2025-04-03 17:03:01</td>\n",
       "      <td>Thursday</td>\n",
       "      <td>False</td>\n",
       "      <td>Spring</td>\n",
       "      <td>Evening</td>\n",
       "      <td>200 E MAIN ST</td>\n",
       "      <td>38.030572</td>\n",
       "      <td>-78.480764</td>\n",
       "      <td>Downtown Mall</td>\n",
       "      <td>22902</td>\n",
       "    </tr>\n",
       "    <tr>\n",
       "      <th>2</th>\n",
       "      <td>3</td>\n",
       "      <td>Larceny - Shoplifitng</td>\n",
       "      <td>202500010661</td>\n",
       "      <td>CPD</td>\n",
       "      <td>Hannay, Jacob</td>\n",
       "      <td>2025-04-03 16:06:08</td>\n",
       "      <td>Thursday</td>\n",
       "      <td>False</td>\n",
       "      <td>Spring</td>\n",
       "      <td>Afternoon</td>\n",
       "      <td>500 W MAIN ST</td>\n",
       "      <td>38.030793</td>\n",
       "      <td>-78.487912</td>\n",
       "      <td>Starr Hill</td>\n",
       "      <td>22903</td>\n",
       "    </tr>\n",
       "    <tr>\n",
       "      <th>3</th>\n",
       "      <td>4</td>\n",
       "      <td>Animal Complaint</td>\n",
       "      <td>202500010660</td>\n",
       "      <td>CPD</td>\n",
       "      <td>Moriarty, Thomas</td>\n",
       "      <td>2025-04-03 15:54:45</td>\n",
       "      <td>Thursday</td>\n",
       "      <td>False</td>\n",
       "      <td>Spring</td>\n",
       "      <td>Afternoon</td>\n",
       "      <td>1000 MONTROSE AVE</td>\n",
       "      <td>38.019649</td>\n",
       "      <td>-78.476049</td>\n",
       "      <td>Belmont</td>\n",
       "      <td>22903</td>\n",
       "    </tr>\n",
       "    <tr>\n",
       "      <th>4</th>\n",
       "      <td>5</td>\n",
       "      <td>Larceny - All Other</td>\n",
       "      <td>202500010656</td>\n",
       "      <td>CPD</td>\n",
       "      <td>Ritter, Kobe</td>\n",
       "      <td>2025-04-03 15:41:51</td>\n",
       "      <td>Thursday</td>\n",
       "      <td>False</td>\n",
       "      <td>Spring</td>\n",
       "      <td>Afternoon</td>\n",
       "      <td>100 E MARKET ST</td>\n",
       "      <td>38.031539</td>\n",
       "      <td>-78.481144</td>\n",
       "      <td>Downtown Mall</td>\n",
       "      <td>22902</td>\n",
       "    </tr>\n",
       "  </tbody>\n",
       "</table>\n",
       "</div>"
      ],
      "text/plain": [
       "   RecordID                Offense    IncidentID Agency  ReportingOfficer  \\\n",
       "0         1  Larceny - Shoplifitng  202500010677    CPD     Hannay, Jacob   \n",
       "1         2     Lost/FoundProperty  202500010668    CPD     Rigsby, Lloyd   \n",
       "2         3  Larceny - Shoplifitng  202500010661    CPD     Hannay, Jacob   \n",
       "3         4       Animal Complaint  202500010660    CPD  Moriarty, Thomas   \n",
       "4         5    Larceny - All Other  202500010656    CPD      Ritter, Kobe   \n",
       "\n",
       "                 Date DayOfWeek  Weekend  Season  TimeOfDay  \\\n",
       "0 2025-04-03 17:48:17  Thursday    False  Spring    Evening   \n",
       "1 2025-04-03 17:03:01  Thursday    False  Spring    Evening   \n",
       "2 2025-04-03 16:06:08  Thursday    False  Spring  Afternoon   \n",
       "3 2025-04-03 15:54:45  Thursday    False  Spring  Afternoon   \n",
       "4 2025-04-03 15:41:51  Thursday    False  Spring  Afternoon   \n",
       "\n",
       "          FullStreet        lat        lon   neighborhood    zip  \n",
       "0      500 W MAIN ST  38.030793 -78.487912     Starr Hill  22903  \n",
       "1      200 E MAIN ST  38.030572 -78.480764  Downtown Mall  22902  \n",
       "2      500 W MAIN ST  38.030793 -78.487912     Starr Hill  22903  \n",
       "3  1000 MONTROSE AVE  38.019649 -78.476049        Belmont  22903  \n",
       "4    100 E MARKET ST  38.031539 -78.481144  Downtown Mall  22902  "
      ]
     },
     "execution_count": 14,
     "metadata": {},
     "output_type": "execute_result"
    }
   ],
   "source": [
    "# Now drop the original BlockNumber and StreetName columns\n",
    "df.drop(columns=['BlockNumber', 'StreetName','HourAMPM','HourReported','DateString'], inplace=True)\n",
    "df[\"zip\"] = df[\"zip\"].astype(str)\n",
    "\n",
    "# Fill all missing values in the DataFrame with \"N/A\"\n",
    "df.replace({None: \"N/A\", np.nan: \"N/A\", \"\": \"N/A\"}, inplace=True)\n",
    "df.head()"
   ]
  },
  {
   "cell_type": "code",
   "execution_count": 15,
   "id": "c5b0cdc3",
   "metadata": {
    "execution": {
     "iopub.execute_input": "2025-04-05T05:31:41.764971Z",
     "iopub.status.busy": "2025-04-05T05:31:41.764616Z",
     "iopub.status.idle": "2025-04-05T05:31:41.781151Z",
     "shell.execute_reply": "2025-04-05T05:31:41.780550Z"
    },
    "papermill": {
     "duration": 0.025536,
     "end_time": "2025-04-05T05:31:41.782242",
     "exception": false,
     "start_time": "2025-04-05T05:31:41.756706",
     "status": "completed"
    },
    "tags": []
   },
   "outputs": [
    {
     "name": "stdout",
     "output_type": "stream",
     "text": [
      "                  MissingCount  MissingPercentage\n",
      "RecordID                     0                0.0\n",
      "Offense                      0                0.0\n",
      "IncidentID                   0                0.0\n",
      "Agency                       0                0.0\n",
      "ReportingOfficer             0                0.0\n",
      "Date                         0                0.0\n",
      "DayOfWeek                    0                0.0\n",
      "Weekend                      0                0.0\n",
      "Season                       0                0.0\n",
      "TimeOfDay                    0                0.0\n",
      "FullStreet                   0                0.0\n",
      "lat                          0                0.0\n",
      "lon                          0                0.0\n",
      "neighborhood                 0                0.0\n",
      "zip                          0                0.0\n"
     ]
    }
   ],
   "source": [
    "missing_info = missing_percentage(df)\n",
    "print(missing_info)"
   ]
  },
  {
   "cell_type": "code",
   "execution_count": 16,
   "id": "5df8f037",
   "metadata": {
    "execution": {
     "iopub.execute_input": "2025-04-05T05:31:41.798514Z",
     "iopub.status.busy": "2025-04-05T05:31:41.798024Z",
     "iopub.status.idle": "2025-04-05T05:31:41.802631Z",
     "shell.execute_reply": "2025-04-05T05:31:41.802103Z"
    },
    "papermill": {
     "duration": 0.013873,
     "end_time": "2025-04-05T05:31:41.803664",
     "exception": false,
     "start_time": "2025-04-05T05:31:41.789791",
     "status": "completed"
    },
    "tags": []
   },
   "outputs": [
    {
     "data": {
      "text/plain": [
       "Index(['RecordID', 'Offense', 'IncidentID', 'Agency', 'ReportingOfficer',\n",
       "       'Date', 'DayOfWeek', 'Weekend', 'Season', 'TimeOfDay', 'FullStreet',\n",
       "       'lat', 'lon', 'neighborhood', 'zip'],\n",
       "      dtype='object')"
      ]
     },
     "execution_count": 16,
     "metadata": {},
     "output_type": "execute_result"
    }
   ],
   "source": [
    "df.columns"
   ]
  },
  {
   "cell_type": "code",
   "execution_count": 17,
   "id": "af01c6c6",
   "metadata": {
    "execution": {
     "iopub.execute_input": "2025-04-05T05:31:41.819511Z",
     "iopub.status.busy": "2025-04-05T05:31:41.819250Z",
     "iopub.status.idle": "2025-04-05T05:31:41.841383Z",
     "shell.execute_reply": "2025-04-05T05:31:41.840677Z"
    },
    "papermill": {
     "duration": 0.031173,
     "end_time": "2025-04-05T05:31:41.842374",
     "exception": false,
     "start_time": "2025-04-05T05:31:41.811201",
     "status": "completed"
    },
    "tags": []
   },
   "outputs": [
    {
     "name": "stdout",
     "output_type": "stream",
     "text": [
      "<class 'pandas.core.frame.DataFrame'>\n",
      "RangeIndex: 25113 entries, 0 to 25112\n",
      "Data columns (total 15 columns):\n",
      " #   Column            Non-Null Count  Dtype         \n",
      "---  ------            --------------  -----         \n",
      " 0   RecordID          25113 non-null  int64         \n",
      " 1   Offense           25113 non-null  object        \n",
      " 2   IncidentID        25113 non-null  object        \n",
      " 3   Agency            25113 non-null  object        \n",
      " 4   ReportingOfficer  25113 non-null  object        \n",
      " 5   Date              25113 non-null  datetime64[ns]\n",
      " 6   DayOfWeek         25113 non-null  object        \n",
      " 7   Weekend           25113 non-null  bool          \n",
      " 8   Season            25113 non-null  object        \n",
      " 9   TimeOfDay         25113 non-null  object        \n",
      " 10  FullStreet        25113 non-null  object        \n",
      " 11  lat               25113 non-null  float64       \n",
      " 12  lon               25113 non-null  float64       \n",
      " 13  neighborhood      25113 non-null  object        \n",
      " 14  zip               25113 non-null  object        \n",
      "dtypes: bool(1), datetime64[ns](1), float64(2), int64(1), object(10)\n",
      "memory usage: 2.7+ MB\n"
     ]
    }
   ],
   "source": [
    "df.info()"
   ]
  },
  {
   "cell_type": "markdown",
   "id": "dacbccec",
   "metadata": {
    "papermill": {
     "duration": 0.007606,
     "end_time": "2025-04-05T05:31:41.857886",
     "exception": false,
     "start_time": "2025-04-05T05:31:41.850280",
     "status": "completed"
    },
    "tags": []
   },
   "source": [
    "### Export Clean Data"
   ]
  },
  {
   "cell_type": "code",
   "execution_count": 18,
   "id": "ab24325d",
   "metadata": {
    "execution": {
     "iopub.execute_input": "2025-04-05T05:31:41.874519Z",
     "iopub.status.busy": "2025-04-05T05:31:41.874038Z",
     "iopub.status.idle": "2025-04-05T05:31:51.071797Z",
     "shell.execute_reply": "2025-04-05T05:31:51.071102Z"
    },
    "papermill": {
     "duration": 9.207111,
     "end_time": "2025-04-05T05:31:51.072812",
     "exception": false,
     "start_time": "2025-04-05T05:31:41.865701",
     "status": "completed"
    },
    "tags": []
   },
   "outputs": [
    {
     "name": "stdout",
     "output_type": "stream",
     "text": [
      "Project Root: /home/runner/work/crime-data/crime-data\n"
     ]
    },
    {
     "name": "stdout",
     "output_type": "stream",
     "text": [
      "Data saved to: /home/runner/work/crime-data/crime-data/data/charlottesville_crime_incidents.csv\n"
     ]
    },
    {
     "name": "stdout",
     "output_type": "stream",
     "text": [
      "Excel saved to: /home/runner/work/crime-data/crime-data/data/charlottesville_crime_incidents.xlsx\n"
     ]
    }
   ],
   "source": [
    "# Determine the project root (assuming papermill is run from the repository root)\n",
    "project_root = os.getcwd()\n",
    "print(\"Project Root:\", project_root)\n",
    "\n",
    "# Set the data directory within the project root\n",
    "data_dir = os.path.join(project_root, \"data\")\n",
    "\n",
    "# Ensure the \"data\" directory exists (create it if it doesn't)\n",
    "if not os.path.exists(data_dir):\n",
    "    os.makedirs(data_dir)\n",
    "\n",
    "# Export the DataFrame to CSV in the \"data\" folder located in the project root\n",
    "csv_path = os.path.join(data_dir, \"charlottesville_crime_incidents.csv\")\n",
    "df.to_csv(csv_path, index=False)\n",
    "print(\"Data saved to:\", csv_path)\n",
    "\n",
    "# Construct the path to your Excel file\n",
    "excel_path = os.path.join(data_dir, \"charlottesville_crime_incidents.xlsx\")\n",
    "\n",
    "# Export the DataFrame to Excel\n",
    "df.to_excel(excel_path, index=False)\n",
    "print(\"Excel saved to:\", excel_path)\n"
   ]
  },
  {
   "cell_type": "markdown",
   "id": "fac148f6",
   "metadata": {
    "papermill": {
     "duration": 0.007676,
     "end_time": "2025-04-05T05:31:51.088575",
     "exception": false,
     "start_time": "2025-04-05T05:31:51.080899",
     "status": "completed"
    },
    "tags": []
   },
   "source": [
    "## Predictive Analytics"
   ]
  },
  {
   "cell_type": "code",
   "execution_count": 19,
   "id": "63bb81ad",
   "metadata": {
    "execution": {
     "iopub.execute_input": "2025-04-05T05:31:51.105216Z",
     "iopub.status.busy": "2025-04-05T05:31:51.104730Z",
     "iopub.status.idle": "2025-04-05T05:31:51.116340Z",
     "shell.execute_reply": "2025-04-05T05:31:51.115817Z"
    },
    "papermill": {
     "duration": 0.02109,
     "end_time": "2025-04-05T05:31:51.117404",
     "exception": false,
     "start_time": "2025-04-05T05:31:51.096314",
     "status": "completed"
    },
    "tags": []
   },
   "outputs": [
    {
     "data": {
      "text/html": [
       "<div>\n",
       "<style scoped>\n",
       "    .dataframe tbody tr th:only-of-type {\n",
       "        vertical-align: middle;\n",
       "    }\n",
       "\n",
       "    .dataframe tbody tr th {\n",
       "        vertical-align: top;\n",
       "    }\n",
       "\n",
       "    .dataframe thead th {\n",
       "        text-align: right;\n",
       "    }\n",
       "</style>\n",
       "<table border=\"1\" class=\"dataframe\">\n",
       "  <thead>\n",
       "    <tr style=\"text-align: right;\">\n",
       "      <th></th>\n",
       "      <th>RecordID</th>\n",
       "      <th>Offense</th>\n",
       "      <th>IncidentID</th>\n",
       "      <th>Agency</th>\n",
       "      <th>ReportingOfficer</th>\n",
       "      <th>Date</th>\n",
       "      <th>DayOfWeek</th>\n",
       "      <th>Weekend</th>\n",
       "      <th>Season</th>\n",
       "      <th>TimeOfDay</th>\n",
       "      <th>FullStreet</th>\n",
       "      <th>lat</th>\n",
       "      <th>lon</th>\n",
       "      <th>neighborhood</th>\n",
       "      <th>zip</th>\n",
       "    </tr>\n",
       "  </thead>\n",
       "  <tbody>\n",
       "    <tr>\n",
       "      <th>0</th>\n",
       "      <td>1</td>\n",
       "      <td>Larceny - Shoplifitng</td>\n",
       "      <td>202500010677</td>\n",
       "      <td>CPD</td>\n",
       "      <td>Hannay, Jacob</td>\n",
       "      <td>2025-04-03 17:48:17</td>\n",
       "      <td>Thursday</td>\n",
       "      <td>False</td>\n",
       "      <td>Spring</td>\n",
       "      <td>Evening</td>\n",
       "      <td>500 W MAIN ST</td>\n",
       "      <td>38.030793</td>\n",
       "      <td>-78.487912</td>\n",
       "      <td>Starr Hill</td>\n",
       "      <td>22903</td>\n",
       "    </tr>\n",
       "    <tr>\n",
       "      <th>1</th>\n",
       "      <td>2</td>\n",
       "      <td>Lost/FoundProperty</td>\n",
       "      <td>202500010668</td>\n",
       "      <td>CPD</td>\n",
       "      <td>Rigsby, Lloyd</td>\n",
       "      <td>2025-04-03 17:03:01</td>\n",
       "      <td>Thursday</td>\n",
       "      <td>False</td>\n",
       "      <td>Spring</td>\n",
       "      <td>Evening</td>\n",
       "      <td>200 E MAIN ST</td>\n",
       "      <td>38.030572</td>\n",
       "      <td>-78.480764</td>\n",
       "      <td>Downtown Mall</td>\n",
       "      <td>22902</td>\n",
       "    </tr>\n",
       "    <tr>\n",
       "      <th>2</th>\n",
       "      <td>3</td>\n",
       "      <td>Larceny - Shoplifitng</td>\n",
       "      <td>202500010661</td>\n",
       "      <td>CPD</td>\n",
       "      <td>Hannay, Jacob</td>\n",
       "      <td>2025-04-03 16:06:08</td>\n",
       "      <td>Thursday</td>\n",
       "      <td>False</td>\n",
       "      <td>Spring</td>\n",
       "      <td>Afternoon</td>\n",
       "      <td>500 W MAIN ST</td>\n",
       "      <td>38.030793</td>\n",
       "      <td>-78.487912</td>\n",
       "      <td>Starr Hill</td>\n",
       "      <td>22903</td>\n",
       "    </tr>\n",
       "    <tr>\n",
       "      <th>3</th>\n",
       "      <td>4</td>\n",
       "      <td>Animal Complaint</td>\n",
       "      <td>202500010660</td>\n",
       "      <td>CPD</td>\n",
       "      <td>Moriarty, Thomas</td>\n",
       "      <td>2025-04-03 15:54:45</td>\n",
       "      <td>Thursday</td>\n",
       "      <td>False</td>\n",
       "      <td>Spring</td>\n",
       "      <td>Afternoon</td>\n",
       "      <td>1000 MONTROSE AVE</td>\n",
       "      <td>38.019649</td>\n",
       "      <td>-78.476049</td>\n",
       "      <td>Belmont</td>\n",
       "      <td>22903</td>\n",
       "    </tr>\n",
       "    <tr>\n",
       "      <th>4</th>\n",
       "      <td>5</td>\n",
       "      <td>Larceny - All Other</td>\n",
       "      <td>202500010656</td>\n",
       "      <td>CPD</td>\n",
       "      <td>Ritter, Kobe</td>\n",
       "      <td>2025-04-03 15:41:51</td>\n",
       "      <td>Thursday</td>\n",
       "      <td>False</td>\n",
       "      <td>Spring</td>\n",
       "      <td>Afternoon</td>\n",
       "      <td>100 E MARKET ST</td>\n",
       "      <td>38.031539</td>\n",
       "      <td>-78.481144</td>\n",
       "      <td>Downtown Mall</td>\n",
       "      <td>22902</td>\n",
       "    </tr>\n",
       "  </tbody>\n",
       "</table>\n",
       "</div>"
      ],
      "text/plain": [
       "   RecordID                Offense    IncidentID Agency  ReportingOfficer  \\\n",
       "0         1  Larceny - Shoplifitng  202500010677    CPD     Hannay, Jacob   \n",
       "1         2     Lost/FoundProperty  202500010668    CPD     Rigsby, Lloyd   \n",
       "2         3  Larceny - Shoplifitng  202500010661    CPD     Hannay, Jacob   \n",
       "3         4       Animal Complaint  202500010660    CPD  Moriarty, Thomas   \n",
       "4         5    Larceny - All Other  202500010656    CPD      Ritter, Kobe   \n",
       "\n",
       "                 Date DayOfWeek  Weekend  Season  TimeOfDay  \\\n",
       "0 2025-04-03 17:48:17  Thursday    False  Spring    Evening   \n",
       "1 2025-04-03 17:03:01  Thursday    False  Spring    Evening   \n",
       "2 2025-04-03 16:06:08  Thursday    False  Spring  Afternoon   \n",
       "3 2025-04-03 15:54:45  Thursday    False  Spring  Afternoon   \n",
       "4 2025-04-03 15:41:51  Thursday    False  Spring  Afternoon   \n",
       "\n",
       "          FullStreet        lat        lon   neighborhood    zip  \n",
       "0      500 W MAIN ST  38.030793 -78.487912     Starr Hill  22903  \n",
       "1      200 E MAIN ST  38.030572 -78.480764  Downtown Mall  22902  \n",
       "2      500 W MAIN ST  38.030793 -78.487912     Starr Hill  22903  \n",
       "3  1000 MONTROSE AVE  38.019649 -78.476049        Belmont  22903  \n",
       "4    100 E MARKET ST  38.031539 -78.481144  Downtown Mall  22902  "
      ]
     },
     "execution_count": 19,
     "metadata": {},
     "output_type": "execute_result"
    }
   ],
   "source": [
    "df.head()"
   ]
  },
  {
   "cell_type": "code",
   "execution_count": 20,
   "id": "eab587b2",
   "metadata": {
    "execution": {
     "iopub.execute_input": "2025-04-05T05:31:51.157151Z",
     "iopub.status.busy": "2025-04-05T05:31:51.156600Z",
     "iopub.status.idle": "2025-04-05T05:31:51.161238Z",
     "shell.execute_reply": "2025-04-05T05:31:51.160699Z"
    },
    "papermill": {
     "duration": 0.014747,
     "end_time": "2025-04-05T05:31:51.162229",
     "exception": false,
     "start_time": "2025-04-05T05:31:51.147482",
     "status": "completed"
    },
    "tags": []
   },
   "outputs": [
    {
     "data": {
      "text/plain": [
       "Index(['RecordID', 'Offense', 'IncidentID', 'Agency', 'ReportingOfficer',\n",
       "       'Date', 'DayOfWeek', 'Weekend', 'Season', 'TimeOfDay', 'FullStreet',\n",
       "       'lat', 'lon', 'neighborhood', 'zip'],\n",
       "      dtype='object')"
      ]
     },
     "execution_count": 20,
     "metadata": {},
     "output_type": "execute_result"
    }
   ],
   "source": [
    "df.columns"
   ]
  },
  {
   "cell_type": "markdown",
   "id": "a129b068",
   "metadata": {
    "papermill": {
     "duration": 0.008029,
     "end_time": "2025-04-05T05:31:51.178402",
     "exception": false,
     "start_time": "2025-04-05T05:31:51.170373",
     "status": "completed"
    },
    "tags": []
   },
   "source": [
    "### Data Preparation\n",
    "\n",
    "We need to ensure the data is in the correct format for modeling and can handle missing values, categorical variables, and dates. Here's how to prepare your data:"
   ]
  },
  {
   "cell_type": "code",
   "execution_count": 21,
   "id": "a86c02cf",
   "metadata": {
    "execution": {
     "iopub.execute_input": "2025-04-05T05:31:51.195943Z",
     "iopub.status.busy": "2025-04-05T05:31:51.195458Z",
     "iopub.status.idle": "2025-04-05T05:31:52.732567Z",
     "shell.execute_reply": "2025-04-05T05:31:52.731699Z"
    },
    "papermill": {
     "duration": 1.547477,
     "end_time": "2025-04-05T05:31:52.733970",
     "exception": false,
     "start_time": "2025-04-05T05:31:51.186493",
     "status": "completed"
    },
    "tags": []
   },
   "outputs": [],
   "source": [
    "import pandas as pd\n",
    "from sklearn.model_selection import train_test_split\n",
    "from sklearn.preprocessing import OneHotEncoder, LabelEncoder\n",
    "from sklearn.ensemble import RandomForestClassifier\n",
    "from sklearn.linear_model import LogisticRegression\n",
    "from sklearn.tree import DecisionTreeClassifier\n",
    "from sklearn.metrics import classification_report, accuracy_score\n",
    "import seaborn as sns\n",
    "import matplotlib.pyplot as plt\n",
    "\n",
    "# Convert 'Date' to datetime\n",
    "df['Date'] = pd.to_datetime(df['Date'])\n",
    "\n",
    "# Feature engineering: Extract additional time-based features\n",
    "df['Year'] = df['Date'].dt.year\n",
    "df['Month'] = df['Date'].dt.month\n",
    "df['DayOfMonth'] = df['Date'].dt.day\n",
    "\n",
    "# One-hot encoding for 'FullStreet', 'neighborhood', 'zip'\n",
    "df = pd.get_dummies(df, columns=['FullStreet', 'neighborhood', 'zip'], drop_first=True)\n",
    "\n",
    "# Label encoding for ordered variables (those with a natural order like 'DayOfWeek', 'Season', 'TimeOfDay')\n",
    "label_encoders = {}\n",
    "for column in ['DayOfWeek', 'Season', 'TimeOfDay', 'Agency', 'ReportingOfficer']:  # Example ordinal variables\n",
    "    le = LabelEncoder()\n",
    "    df[column] = le.fit_transform(df[column])\n",
    "    label_encoders[column] = le\n",
    "\n",
    "# Filter the dataset to include only the offenses of interest\n",
    "offenses_of_interest = [\n",
    "    'Hit and Run', 'Assault Simple', 'Suspicious Activity', 'Vandalism', \n",
    "    'Larceny - From Mot Vehicle', 'Larceny - All Other', \n",
    "    'Assist Citizen - Mental/TDO/ECO', 'Lost/FoundProperty'\n",
    "]\n",
    "\n",
    "df = df[df['Offense'].isin(offenses_of_interest)]\n",
    "\n",
    "# Label encode the target variable (Offense)\n",
    "offense_encoder = LabelEncoder()\n",
    "df['Offense'] = offense_encoder.fit_transform(df['Offense'])\n",
    "\n",
    "# Separate features (X) and target (y)\n",
    "X = df[['Year', 'Month', 'DayOfMonth', 'DayOfWeek', 'Weekend', 'Season', 'TimeOfDay', 'lat', 'lon', 'Agency', 'ReportingOfficer']]\n",
    "y = df['Offense']  # Offense is now the encoded target variable\n",
    "\n",
    "# Split the data into training and testing sets\n",
    "X_train, X_test, y_train, y_test = train_test_split(X, y, test_size=0.3, random_state=42)\n"
   ]
  },
  {
   "cell_type": "markdown",
   "id": "61fc41a3",
   "metadata": {
    "papermill": {
     "duration": 0.007991,
     "end_time": "2025-04-05T05:31:52.750450",
     "exception": false,
     "start_time": "2025-04-05T05:31:52.742459",
     "status": "completed"
    },
    "tags": []
   },
   "source": [
    "### Model Training\n",
    "\n",
    "Here we will train several models (e.g., Random Forest, Logistic Regression, and Decision Tree). We will use cross-validation to choose the best model based on accuracy, and then explain the impact of the variables."
   ]
  },
  {
   "cell_type": "code",
   "execution_count": 22,
   "id": "9786373a",
   "metadata": {
    "execution": {
     "iopub.execute_input": "2025-04-05T05:31:52.767815Z",
     "iopub.status.busy": "2025-04-05T05:31:52.767262Z",
     "iopub.status.idle": "2025-04-05T05:31:56.338206Z",
     "shell.execute_reply": "2025-04-05T05:31:56.337577Z"
    },
    "papermill": {
     "duration": 3.580888,
     "end_time": "2025-04-05T05:31:56.339312",
     "exception": false,
     "start_time": "2025-04-05T05:31:52.758424",
     "status": "completed"
    },
    "tags": []
   },
   "outputs": [
    {
     "name": "stderr",
     "output_type": "stream",
     "text": [
      "/opt/hostedtoolcache/Python/3.9.21/x64/lib/python3.9/site-packages/sklearn/linear_model/_logistic.py:465: ConvergenceWarning: lbfgs failed to converge (status=1):\n",
      "STOP: TOTAL NO. of ITERATIONS REACHED LIMIT.\n",
      "\n",
      "Increase the number of iterations (max_iter) or scale the data as shown in:\n",
      "    https://scikit-learn.org/stable/modules/preprocessing.html\n",
      "Please also refer to the documentation for alternative solver options:\n",
      "    https://scikit-learn.org/stable/modules/linear_model.html#logistic-regression\n",
      "  n_iter_i = _check_optimize_result(\n",
      "/opt/hostedtoolcache/Python/3.9.21/x64/lib/python3.9/site-packages/sklearn/metrics/_classification.py:1565: UndefinedMetricWarning: Precision is ill-defined and being set to 0.0 in labels with no predicted samples. Use `zero_division` parameter to control this behavior.\n",
      "  _warn_prf(average, modifier, f\"{metric.capitalize()} is\", len(result))\n",
      "/opt/hostedtoolcache/Python/3.9.21/x64/lib/python3.9/site-packages/sklearn/metrics/_classification.py:1565: UndefinedMetricWarning: Precision is ill-defined and being set to 0.0 in labels with no predicted samples. Use `zero_division` parameter to control this behavior.\n",
      "  _warn_prf(average, modifier, f\"{metric.capitalize()} is\", len(result))\n",
      "/opt/hostedtoolcache/Python/3.9.21/x64/lib/python3.9/site-packages/sklearn/metrics/_classification.py:1565: UndefinedMetricWarning: Precision is ill-defined and being set to 0.0 in labels with no predicted samples. Use `zero_division` parameter to control this behavior.\n",
      "  _warn_prf(average, modifier, f\"{metric.capitalize()} is\", len(result))\n"
     ]
    },
    {
     "name": "stdout",
     "output_type": "stream",
     "text": [
      "\n",
      "Classification Report for All Models:\n",
      "\n",
      "Model: RandomForest\n",
      "Accuracy: 0.2800\n",
      "              precision    recall  f1-score      support\n",
      "0              0.283520  0.345238  0.311350   588.000000\n",
      "1              0.259587  0.212048  0.233422   415.000000\n",
      "2              0.290526  0.415663  0.342007   664.000000\n",
      "3              0.237197  0.196429  0.214896   448.000000\n",
      "4              0.334711  0.247706  0.284710   327.000000\n",
      "5              0.240826  0.205882  0.221987   510.000000\n",
      "6              0.315522  0.250505  0.279279   495.000000\n",
      "accuracy       0.279954  0.279954  0.279954     0.279954\n",
      "macro avg      0.280270  0.267639  0.269665  3447.000000\n",
      "weighted avg   0.279103  0.279954  0.274983  3447.000000\n"
     ]
    },
    {
     "data": {
      "image/png": "[encoded data removed]",
      "text/plain": [
       "<Figure size 800x600 with 2 Axes>"
      ]
     },
     "metadata": {},
     "output_type": "display_data"
    },
    {
     "name": "stdout",
     "output_type": "stream",
     "text": [
      "\n",
      "Model: LogisticRegression\n",
      "Accuracy: 0.2089\n",
      "              precision    recall  f1-score      support\n",
      "0              0.194910  0.494898  0.279673   588.000000\n",
      "1              0.000000  0.000000  0.000000   415.000000\n",
      "2              0.219588  0.641566  0.327189   664.000000\n",
      "3              0.000000  0.000000  0.000000   448.000000\n",
      "4              0.000000  0.000000  0.000000   327.000000\n",
      "5              0.214286  0.005882  0.011450   510.000000\n",
      "6              0.000000  0.000000  0.000000   495.000000\n",
      "accuracy       0.208877  0.208877  0.208877     0.208877\n",
      "macro avg      0.089826  0.163192  0.088330  3447.000000\n",
      "weighted avg   0.107252  0.208877  0.112428  3447.000000\n"
     ]
    },
    {
     "data": {
      "image/png": "[encoded data removed]",
      "text/plain": [
       "<Figure size 800x600 with 2 Axes>"
      ]
     },
     "metadata": {},
     "output_type": "display_data"
    },
    {
     "name": "stdout",
     "output_type": "stream",
     "text": [
      "\n",
      "Model: DecisionTree\n",
      "Accuracy: 0.2034\n",
      "              precision    recall  f1-score      support\n",
      "0              0.198052  0.207483  0.202658   588.000000\n",
      "1              0.168224  0.173494  0.170819   415.000000\n",
      "2              0.267742  0.250000  0.258567   664.000000\n",
      "3              0.152993  0.154018  0.153504   448.000000\n",
      "4              0.207792  0.244648  0.224719   327.000000\n",
      "5              0.181818  0.176471  0.179104   510.000000\n",
      "6              0.225664  0.206061  0.215417   495.000000\n",
      "accuracy       0.203365  0.203365  0.203365     0.203365\n",
      "macro avg      0.200327  0.201739  0.200684  3447.000000\n",
      "weighted avg   0.204516  0.203365  0.203646  3447.000000\n"
     ]
    },
    {
     "data": {
      "image/png": "[encoded data removed]",
      "text/plain": [
       "<Figure size 800x600 with 2 Axes>"
      ]
     },
     "metadata": {},
     "output_type": "display_data"
    },
    {
     "name": "stdout",
     "output_type": "stream",
     "text": [
      "\n",
      "Best Model:\n",
      "Best Model: RandomForestClassifier()\n",
      "Best Model Accuracy: 0.2800\n"
     ]
    }
   ],
   "source": [
    "import pandas as pd\n",
    "from sklearn.model_selection import train_test_split\n",
    "from sklearn.ensemble import RandomForestClassifier\n",
    "from sklearn.linear_model import LogisticRegression\n",
    "from sklearn.tree import DecisionTreeClassifier\n",
    "from sklearn.metrics import classification_report, accuracy_score, confusion_matrix\n",
    "import seaborn as sns\n",
    "import matplotlib.pyplot as plt\n",
    "\n",
    "# Define models\n",
    "models = {\n",
    "    'RandomForest': RandomForestClassifier(),\n",
    "    'LogisticRegression': LogisticRegression(max_iter=1000),\n",
    "    'DecisionTree': DecisionTreeClassifier()\n",
    "}\n",
    "\n",
    "# Train models and evaluate them\n",
    "best_model = None\n",
    "best_score = 0\n",
    "model_reports = {}\n",
    "\n",
    "for model_name, model in models.items():\n",
    "    model.fit(X_train, y_train)  # Train model\n",
    "    y_pred = model.predict(X_test)  # Make predictions\n",
    "    \n",
    "    # Calculate accuracy and generate classification report\n",
    "    accuracy = accuracy_score(y_test, y_pred)\n",
    "    model_reports[model_name] = classification_report(y_test, y_pred, output_dict=True)  # Store as a dictionary for easier analysis\n",
    "    \n",
    "    # Track best performing model\n",
    "    if accuracy > best_score:\n",
    "        best_score = accuracy\n",
    "        best_model = model\n",
    "\n",
    "# Display classification reports and confusion matrices\n",
    "print(\"\\nClassification Report for All Models:\")\n",
    "for model_name, report in model_reports.items():\n",
    "    print(f\"\\nModel: {model_name}\")\n",
    "    print(\"Accuracy: {:.4f}\".format(accuracy_score(y_test, models[model_name].predict(X_test))))  # Display accuracy\n",
    "    print(pd.DataFrame(report).transpose())  # Display classification report as a DataFrame\n",
    "\n",
    "    # Plot Confusion Matrix\n",
    "    cm = confusion_matrix(y_test, models[model_name].predict(X_test))\n",
    "    plt.figure(figsize=(8, 6))\n",
    "    sns.heatmap(cm, annot=True, fmt=\"d\", cmap='Blues', xticklabels=offense_encoder.classes_, yticklabels=offense_encoder.classes_)\n",
    "    plt.title(f\"Confusion Matrix - {model_name}\")\n",
    "    plt.xlabel('Predicted Labels')\n",
    "    plt.ylabel('True Labels')\n",
    "    plt.show()\n",
    "\n",
    "# Display best model details\n",
    "print(\"\\nBest Model:\")\n",
    "print(f\"Best Model: {best_model}\")\n",
    "print(f\"Best Model Accuracy: {best_score:.4f}\")\n"
   ]
  },
  {
   "cell_type": "markdown",
   "id": "c1569103",
   "metadata": {
    "papermill": {
     "duration": 0.0107,
     "end_time": "2025-04-05T05:31:56.361599",
     "exception": false,
     "start_time": "2025-04-05T05:31:56.350899",
     "status": "completed"
    },
    "tags": []
   },
   "source": [
    "#### Classification Report for All Models:\n",
    "\n",
    "### Explanation of the Classification Results (RandomForest Model)\n",
    "\n",
    "The results you provided are from a **Random Forest** model, which is used for predicting different types of offenses. Let's break down the key components of the results:\n",
    "\n",
    "#### 1. **Accuracy: 0.2822**\n",
    "   - **Accuracy** measures the overall percentage of correct predictions made by the model. An accuracy of 28.22% means the model correctly predicted the offense in about 28% of the cases. This indicates the model's predictions are not highly reliable, as the accuracy is quite low.\n",
    "\n",
    "#### 2. **Classification Report:**\n",
    "   The classification report includes precision, recall, and F1-score for each offense. Let's go over these terms and how they apply to the results:\n",
    "\n",
    "   - **Precision**: The proportion of true positive predictions out of all positive predictions made by the model for a specific class (offense).\n",
    "   - **Recall**: The proportion of true positive predictions out of all actual positive instances in the dataset.\n",
    "   - **F1-Score**: The harmonic mean of precision and recall, providing a balance between the two metrics.\n",
    "   - **Support**: The number of actual occurrences of each class in the test set.\n",
    "\n",
    "   Let's analyze each offense based on these metrics:\n",
    "\n",
    "   | **Offense**                        | **Precision** | **Recall** | **F1-Score** | **Support** |\n",
    "   |------------------------------------|---------------|------------|--------------|-------------|\n",
    "   | **Assault Simple**                 | 0.2892        | 0.3754     | 0.3267       | 594         |\n",
    "   | **Assist Citizen - Mental/TDO/ECO**| 0.3182        | 0.2274     | 0.2652       | 431         |\n",
    "   | **Hit and Run**                    | 0.2963        | 0.4765     | 0.3654       | 638         |\n",
    "   | **Larceny - All Other**            | 0.2270        | 0.1453     | 0.1772       | 475         |\n",
    "   | **Lost/FoundProperty**             | 0.3333        | 0.2102     | 0.2578       | 352         |\n",
    "   | **Suspicious Activity**            | 0.2344        | 0.2169     | 0.2253       | 484         |\n",
    "   | **Vandalism**                      | 0.2712        | 0.2106     | 0.2371       | 470         |\n",
    "\n",
    "#### 3. **Key Insights from the Report:**\n",
    "\n",
    "- **Precision**:\n",
    "   - The highest precision is for **Larceny - All Other** (0.3333), indicating that when the model predicts this offense, it is correct about 33% of the time. However, this is still quite low.\n",
    "   - **Assist Citizen - Mental/TDO/ECO** has the lowest precision (0.2269), meaning that the model's predictions for this offense tend to be wrong more often than correct.\n",
    "\n",
    "- **Recall**:\n",
    "   - **Hit and Run** has the highest recall (0.4765), meaning the model identifies about 48% of the actual occurrences of this offense. This is better than the precision, which indicates it is missing many true positives but is still able to identify a fair number of cases.\n",
    "   - **Larceny - All Other** and **Suspicious Activity** have the lowest recall values (0.1453 and 0.2169, respectively), indicating that the model is failing to identify most of the actual cases for these offenses.\n",
    "\n",
    "- **F1-Score**:\n",
    "   - The **F1-Score** balances precision and recall. It is highest for **Hit and Run** (0.3654), but still relatively low overall. This suggests the model is better at identifying **Hit and Run** than other offenses but still has room for improvement.\n",
    "   - **Larceny - All Other** has the lowest F1-Score (0.1772), indicating a poor balance between precision and recall for this offense.\n",
    "\n",
    "#### 4. **Macro Average and Weighted Average:**\n",
    "   - **Macro Average**: This gives the average precision, recall, and F1-Score across all classes (offenses) without considering the class distribution. It averages the results for all offenses equally.\n",
    "     - Precision: 0.2814\n",
    "     - Recall: 0.2661\n",
    "     - F1-Score: 0.2649\n",
    "   - **Weighted Average**: This averages the metrics but weighs each class by its support (the number of true instances in the test set). This gives a better sense of overall performance, considering the class distribution.\n",
    "     - Precision: 0.2799\n",
    "     - Recall: 0.2822\n",
    "     - F1-Score: 0.2720\n",
    "\n",
    "#### 5. **Confusion Matrix (Visualization Analysis)**:\n",
    "   - The confusion matrix shows the distribution of true positive, false positive, true negative, and false negative predictions for each class.\n",
    "     - For **Hit and Run**, the model performs relatively well in identifying this offense (304 true positives). However, it also misclassifies some **Hit and Run** instances as other offenses (e.g., **Assault Simple**, **Suspicious Activity**, etc.).\n",
    "     - **Larceny - All Other** is frequently misclassified as **Hit and Run**, **Suspicious Activity**, and others. This is evident from the large number of off-diagonal elements in its row.\n",
    "     - **Assist Citizen - Mental/TDO/ECO** and **Suspicious Activity** are frequently misclassified, as seen by the off-diagonal values in their rows.\n",
    "\n",
    "### Conclusion:\n",
    "The Random Forest model has low accuracy (28.22%), suggesting that it struggles to predict most offenses accurately. Some offenses like **Hit and Run** are better predicted than others, but overall, the model shows a high level of misclassification across all offenses. There may be a need for further tuning of the model, additional feature engineering, or trying different models for better performance.\n",
    "\n",
    "Let me know if you'd like to improve the model or make adjustments based on these results!\n",
    "\n"
   ]
  },
  {
   "cell_type": "markdown",
   "id": "e7e96b6d",
   "metadata": {
    "papermill": {
     "duration": 0.010633,
     "end_time": "2025-04-05T05:31:56.382910",
     "exception": false,
     "start_time": "2025-04-05T05:31:56.372277",
     "status": "completed"
    },
    "tags": []
   },
   "source": [
    "### Model Explanation\n",
    "\n",
    "Once we’ve chosen the best model, we will explain its predictions by examining feature importance for tree-based models and using statistical methods like logistic regression coefficients for linear models."
   ]
  },
  {
   "cell_type": "markdown",
   "id": "77ef6420",
   "metadata": {
    "papermill": {
     "duration": 0.010672,
     "end_time": "2025-04-05T05:31:56.404227",
     "exception": false,
     "start_time": "2025-04-05T05:31:56.393555",
     "status": "completed"
    },
    "tags": []
   },
   "source": [
    "#### Feature Importance for Random Forest / Decision Tree\n",
    "\n",
    "##### For Tree-based Models (Random Forest, Decision Tree)\n",
    "\n",
    "For Random Forest or Decision Tree, we can look at feature importance to understand which variables contribute the most to the model's predictions. Here's how you can visualize and interpret the importance of each feature:"
   ]
  },
  {
   "cell_type": "code",
   "execution_count": 23,
   "id": "20a8b469",
   "metadata": {
    "execution": {
     "iopub.execute_input": "2025-04-05T05:31:56.426998Z",
     "iopub.status.busy": "2025-04-05T05:31:56.426493Z",
     "iopub.status.idle": "2025-04-05T05:31:56.594512Z",
     "shell.execute_reply": "2025-04-05T05:31:56.593769Z"
    },
    "papermill": {
     "duration": 0.180582,
     "end_time": "2025-04-05T05:31:56.595629",
     "exception": false,
     "start_time": "2025-04-05T05:31:56.415047",
     "status": "completed"
    },
    "tags": []
   },
   "outputs": [
    {
     "data": {
      "image/png": "[encoded data removed]",
      "text/plain": [
       "<Figure size 1000x600 with 1 Axes>"
      ]
     },
     "metadata": {},
     "output_type": "display_data"
    }
   ],
   "source": [
    "# For RandomForest or DecisionTree models, we can check feature importance\n",
    "if isinstance(best_model, RandomForestClassifier) or isinstance(best_model, DecisionTreeClassifier):\n",
    "    feature_importance = best_model.feature_importances_\n",
    "    feature_names = X.columns\n",
    "    importance_df = pd.DataFrame({'Feature': feature_names, 'Importance': feature_importance})\n",
    "    importance_df = importance_df.sort_values(by='Importance', ascending=False)\n",
    "    \n",
    "    # Plotting the feature importances\n",
    "    plt.figure(figsize=(10, 6))\n",
    "    sns.barplot(x='Importance', y='Feature', data=importance_df)\n",
    "    plt.title(\"Feature Importance\")\n",
    "    plt.show()\n"
   ]
  },
  {
   "cell_type": "code",
   "execution_count": null,
   "id": "15da8ad5",
   "metadata": {
    "papermill": {
     "duration": 0.011035,
     "end_time": "2025-04-05T05:31:56.618296",
     "exception": false,
     "start_time": "2025-04-05T05:31:56.607261",
     "status": "completed"
    },
    "tags": []
   },
   "outputs": [],
   "source": []
  },
  {
   "cell_type": "markdown",
   "id": "e89e3af2",
   "metadata": {
    "papermill": {
     "duration": 0.010897,
     "end_time": "2025-04-05T05:31:56.640145",
     "exception": false,
     "start_time": "2025-04-05T05:31:56.629248",
     "status": "completed"
    },
    "tags": []
   },
   "source": [
    "### Evaluation\n",
    "\n",
    "After training the models and examining their performance, we evaluate the chosen model based on metrics like accuracy, precision, recall, and F1 score.\n",
    "\n"
   ]
  },
  {
   "cell_type": "code",
   "execution_count": 24,
   "id": "6d41367b",
   "metadata": {
    "execution": {
     "iopub.execute_input": "2025-04-05T05:31:56.663590Z",
     "iopub.status.busy": "2025-04-05T05:31:56.662976Z",
     "iopub.status.idle": "2025-04-05T05:31:56.751765Z",
     "shell.execute_reply": "2025-04-05T05:31:56.751113Z"
    },
    "papermill": {
     "duration": 0.101745,
     "end_time": "2025-04-05T05:31:56.752912",
     "exception": false,
     "start_time": "2025-04-05T05:31:56.651167",
     "status": "completed"
    },
    "tags": []
   },
   "outputs": [
    {
     "name": "stdout",
     "output_type": "stream",
     "text": [
      "Accuracy: 0.2800\n",
      "Classification Report:\n",
      "              precision    recall  f1-score   support\n",
      "\n",
      "           0       0.28      0.35      0.31       588\n",
      "           1       0.26      0.21      0.23       415\n",
      "           2       0.29      0.42      0.34       664\n",
      "           3       0.24      0.20      0.21       448\n",
      "           4       0.33      0.25      0.28       327\n",
      "           5       0.24      0.21      0.22       510\n",
      "           6       0.32      0.25      0.28       495\n",
      "\n",
      "    accuracy                           0.28      3447\n",
      "   macro avg       0.28      0.27      0.27      3447\n",
      "weighted avg       0.28      0.28      0.27      3447\n",
      "\n",
      "Confusion Matrix:\n",
      "[[203  60 143  44  22  75  41]\n",
      " [103  88 103  27  16  54  24]\n",
      " [115  46 276  81  22  66  58]\n",
      " [ 66  32 122  88  38  50  52]\n",
      " [ 42  18  66  44  81  30  46]\n",
      " [102  47 126  44  38 105  48]\n",
      " [ 85  48 114  43  25  56 124]]\n",
      "Precision: 0.2791\n",
      "Recall: 0.2800\n",
      "F1 Score: 0.2750\n"
     ]
    }
   ],
   "source": [
    "from sklearn.metrics import classification_report, confusion_matrix, accuracy_score, precision_score, recall_score, f1_score\n",
    "\n",
    "# Predict on the test set\n",
    "y_pred = best_model.predict(X_test)\n",
    "\n",
    "# Calculate Accuracy\n",
    "accuracy = accuracy_score(y_test, y_pred)\n",
    "print(f\"Accuracy: {accuracy:.4f}\")\n",
    "\n",
    "# Classification Report\n",
    "print(\"Classification Report:\")\n",
    "print(classification_report(y_test, y_pred))\n",
    "\n",
    "# Confusion Matrix\n",
    "conf_matrix = confusion_matrix(y_test, y_pred)\n",
    "print(\"Confusion Matrix:\")\n",
    "print(conf_matrix)\n",
    "\n",
    "# Precision, Recall, F1 Score for each class (Offense Type)\n",
    "precision = precision_score(y_test, y_pred, average='weighted')\n",
    "recall = recall_score(y_test, y_pred, average='weighted')\n",
    "f1 = f1_score(y_test, y_pred, average='weighted')\n",
    "\n",
    "print(f\"Precision: {precision:.4f}\")\n",
    "print(f\"Recall: {recall:.4f}\")\n",
    "print(f\"F1 Score: {f1:.4f}\")\n"
   ]
  },
  {
   "cell_type": "markdown",
   "id": "726d03e0",
   "metadata": {
    "papermill": {
     "duration": 0.011112,
     "end_time": "2025-04-05T05:31:56.775689",
     "exception": false,
     "start_time": "2025-04-05T05:31:56.764577",
     "status": "completed"
    },
    "tags": []
   },
   "source": [
    "#### For Logistic Regression (Coefficient Interpretation)\n",
    "\n",
    "For Logistic Regression, the model coefficients can help us understand how each feature affects the likelihood of an offense happening. A positive coefficient indicates a feature increases the likelihood of the offense, and a negative coefficient indicates the opposite."
   ]
  },
  {
   "cell_type": "code",
   "execution_count": 25,
   "id": "656ae2b7",
   "metadata": {
    "execution": {
     "iopub.execute_input": "2025-04-05T05:31:56.798999Z",
     "iopub.status.busy": "2025-04-05T05:31:56.798452Z",
     "iopub.status.idle": "2025-04-05T05:31:56.803359Z",
     "shell.execute_reply": "2025-04-05T05:31:56.802777Z"
    },
    "papermill": {
     "duration": 0.017573,
     "end_time": "2025-04-05T05:31:56.804316",
     "exception": false,
     "start_time": "2025-04-05T05:31:56.786743",
     "status": "completed"
    },
    "tags": []
   },
   "outputs": [],
   "source": [
    "if isinstance(best_model, LogisticRegression):\n",
    "    # Logistic regression coefficients\n",
    "    coef_df = pd.DataFrame({\n",
    "        'Feature': X.columns,\n",
    "        'Coefficient': best_model.coef_[0]\n",
    "    })\n",
    "    coef_df['AbsCoefficient'] = coef_df['Coefficient'].abs()\n",
    "    coef_df = coef_df.sort_values(by='AbsCoefficient', ascending=False)\n",
    "    \n",
    "    # Plotting the coefficients\n",
    "    plt.figure(figsize=(10, 6))\n",
    "    sns.barplot(x='AbsCoefficient', y='Feature', data=coef_df)\n",
    "    plt.title(\"Logistic Regression Coefficients Impact\")\n",
    "    plt.show()\n",
    "\n",
    "    # Print the top 5 most impactful features (by absolute coefficient value)\n",
    "    print(\"Top 5 most impactful features based on coefficients:\")\n",
    "    print(coef_df.head())\n"
   ]
  },
  {
   "cell_type": "markdown",
   "id": "a03e58f9",
   "metadata": {
    "papermill": {
     "duration": 0.011011,
     "end_time": "2025-04-05T05:31:56.826464",
     "exception": false,
     "start_time": "2025-04-05T05:31:56.815453",
     "status": "completed"
    },
    "tags": []
   },
   "source": [
    "Explanation of Output:\n",
    "\n",
    "Feature Importance (Random Forest/Decision Tree): The bar plot will show how important each feature is in the decision-making process. Features at the top of the list are the most influential in predicting the occurrence of offenses.\n",
    "\n",
    "Logistic Regression Coefficients: The bar plot will show the magnitude of the coefficients for each feature. Features with larger absolute values (either positive or negative) have a stronger impact on the model’s predictions. Positive coefficients increase the probability of an offense, while negative coefficients decrease it."
   ]
  },
  {
   "cell_type": "markdown",
   "id": "e9a2a3d6",
   "metadata": {
    "papermill": {
     "duration": 0.010936,
     "end_time": "2025-04-05T05:31:56.848417",
     "exception": false,
     "start_time": "2025-04-05T05:31:56.837481",
     "status": "completed"
    },
    "tags": []
   },
   "source": []
  }
 ],
 "metadata": {
  "kernelspec": {
   "display_name": "Python 3",
   "language": "python",
   "name": "python3"
  },
  "language_info": {
   "codemirror_mode": {
    "name": "ipython",
    "version": 3
   },
   "file_extension": ".py",
   "mimetype": "text/x-python",
   "name": "python",
   "nbconvert_exporter": "python",
   "pygments_lexer": "ipython3",
   "version": "3.9.21"
  },
  "papermill": {
   "default_parameters": {},
   "duration": 76.62954,
   "end_time": "2025-04-05T05:31:57.376483",
   "environment_variables": {},
   "exception": null,
   "input_path": "notebook/Crime Data.ipynb",
   "output_path": "notebook/Crime Data_output.ipynb",
   "parameters": {},
   "start_time": "2025-04-05T05:30:40.746943",
   "version": "2.6.0"
  }
 },
 "nbformat": 4,
 "nbformat_minor": 5
}