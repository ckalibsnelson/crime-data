{
 "cells": [
  {
   "cell_type": "markdown",
   "id": "ceff791d",
   "metadata": {
    "papermill": {
     "duration": 0.004214,
     "end_time": "2025-06-15T01:11:28.848939",
     "exception": false,
     "start_time": "2025-06-15T01:11:28.844725",
     "status": "completed"
    },
    "tags": []
   },
   "source": [
    "# Charlottesville Open Data Porttal: Crime Data"
   ]
  },
  {
   "cell_type": "markdown",
   "id": "5fd34b68",
   "metadata": {
    "papermill": {
     "duration": 0.003216,
     "end_time": "2025-06-15T01:11:28.855760",
     "exception": false,
     "start_time": "2025-06-15T01:11:28.852544",
     "status": "completed"
    },
    "tags": []
   },
   "source": [
    "## Import Relevant Librarires & Set WD"
   ]
  },
  {
   "cell_type": "code",
   "execution_count": 1,
   "id": "14e86c94",
   "metadata": {
    "execution": {
     "iopub.execute_input": "2025-06-15T01:11:28.863551Z",
     "iopub.status.busy": "2025-06-15T01:11:28.863092Z",
     "iopub.status.idle": "2025-06-15T01:11:29.621091Z",
     "shell.execute_reply": "2025-06-15T01:11:29.620369Z"
    },
    "papermill": {
     "duration": 0.763468,
     "end_time": "2025-06-15T01:11:29.622540",
     "exception": false,
     "start_time": "2025-06-15T01:11:28.859072",
     "status": "completed"
    },
    "tags": []
   },
   "outputs": [],
   "source": [
    "import requests\n",
    "import pandas as pd\n",
    "import numpy as np\n",
    "import pickle\n",
    "import googlemaps\n",
    "import plotly.express as px\n",
    "from geopy.geocoders import Nominatim\n",
    "import time\n",
    "from dotenv import load_dotenv\n",
    "import os\n",
    "\n",
    "env_path = os.path.join(\"..\", \".env\")\n",
    "#print(\"Looking for .env file at:\", os.path.abspath(env_path))\n",
    "load_dotenv(dotenv_path=env_path)\n",
    "\n",
    "# Retrieve the variables\n",
    "GOOGLE_API_KEY = os.getenv(\"GOOGLE_API_KEY\")\n",
    "WORKING_DIR = os.getenv(\"WORKING_DIR\")\n",
    "\n",
    "if GOOGLE_API_KEY is None or WORKING_DIR is None:\n",
    "    raise RuntimeError(\"No configuration found. Please ensure that your .env file exists with the required variables, or create a local config.py file.\")\n",
    "\n",
    "#print(\"Google API Key:\", GOOGLE_API_KEY)\n",
    "#print(\"Working Directory:\", WORKING_DIR)"
   ]
  },
  {
   "cell_type": "markdown",
   "id": "c70fc493",
   "metadata": {
    "papermill": {
     "duration": 0.003287,
     "end_time": "2025-06-15T01:11:29.629393",
     "exception": false,
     "start_time": "2025-06-15T01:11:29.626106",
     "status": "completed"
    },
    "tags": []
   },
   "source": [
    "## Import Data\n",
    "\n",
    "URL: https://opendata.charlottesville.org/datasets/charlottesville::crime-data/about"
   ]
  },
  {
   "cell_type": "code",
   "execution_count": 2,
   "id": "5941f8a9",
   "metadata": {
    "execution": {
     "iopub.execute_input": "2025-06-15T01:11:29.637007Z",
     "iopub.status.busy": "2025-06-15T01:11:29.636737Z",
     "iopub.status.idle": "2025-06-15T01:12:34.628665Z",
     "shell.execute_reply": "2025-06-15T01:12:34.627966Z"
    },
    "papermill": {
     "duration": 64.999771,
     "end_time": "2025-06-15T01:12:34.632533",
     "exception": false,
     "start_time": "2025-06-15T01:11:29.632762",
     "status": "completed"
    },
    "tags": []
   },
   "outputs": [
    {
     "name": "stdout",
     "output_type": "stream",
     "text": [
      "Total records imported: 25515\n"
     ]
    }
   ],
   "source": [
    "# Define the endpoint and initial parameters.\n",
    "url = \"https://gisweb.charlottesville.org/arcgis/rest/services/OpenData_2/MapServer/6/query\"\n",
    "params = {\n",
    "    \"where\": \"1=1\",\n",
    "    \"outFields\": \"*\",\n",
    "    \"outSR\": 4326,\n",
    "    \"f\": \"json\",\n",
    "    \"resultOffset\": 0,       # Starting index for results\n",
    "    \"resultRecordCount\": 10000  # Maximum records per batch (if allowed by the API)\n",
    "}\n",
    "\n",
    "records = []\n",
    "\n",
    "while True:\n",
    "    response = requests.get(url, params=params)\n",
    "    response.raise_for_status()\n",
    "    data = response.json()\n",
    "    \n",
    "    # Get the current batch of features.\n",
    "    features = data.get(\"features\", [])\n",
    "    if not features:\n",
    "        break\n",
    "\n",
    "    # Extract the attributes from the features.\n",
    "    batch_records = [feature.get(\"attributes\", {}) for feature in features]\n",
    "    records.extend(batch_records)\n",
    "    \n",
    "    # If the batch size is less than the requested count, we reached the end.\n",
    "    if len(features) < params[\"resultRecordCount\"]:\n",
    "        break\n",
    "\n",
    "    # Update the resultOffset for the next batch.\n",
    "    params[\"resultOffset\"] += params[\"resultRecordCount\"]\n",
    "\n",
    "# Create a DataFrame from the combined records.\n",
    "df = pd.DataFrame(records)\n",
    "print(\"Total records imported:\", len(df))\n"
   ]
  },
  {
   "cell_type": "code",
   "execution_count": 3,
   "id": "a641dcd3",
   "metadata": {
    "execution": {
     "iopub.execute_input": "2025-06-15T01:12:34.640561Z",
     "iopub.status.busy": "2025-06-15T01:12:34.640100Z",
     "iopub.status.idle": "2025-06-15T01:12:34.652413Z",
     "shell.execute_reply": "2025-06-15T01:12:34.651766Z"
    },
    "papermill": {
     "duration": 0.017524,
     "end_time": "2025-06-15T01:12:34.653563",
     "exception": false,
     "start_time": "2025-06-15T01:12:34.636039",
     "status": "completed"
    },
    "tags": []
   },
   "outputs": [
    {
     "data": {
      "text/html": [
       "<div>\n",
       "<style scoped>\n",
       "    .dataframe tbody tr th:only-of-type {\n",
       "        vertical-align: middle;\n",
       "    }\n",
       "\n",
       "    .dataframe tbody tr th {\n",
       "        vertical-align: top;\n",
       "    }\n",
       "\n",
       "    .dataframe thead th {\n",
       "        text-align: right;\n",
       "    }\n",
       "</style>\n",
       "<table border=\"1\" class=\"dataframe\">\n",
       "  <thead>\n",
       "    <tr style=\"text-align: right;\">\n",
       "      <th></th>\n",
       "      <th>RecordID</th>\n",
       "      <th>Offense</th>\n",
       "      <th>IncidentID</th>\n",
       "      <th>BlockNumber</th>\n",
       "      <th>StreetName</th>\n",
       "      <th>Agency</th>\n",
       "      <th>DateReported</th>\n",
       "      <th>HourReported</th>\n",
       "      <th>ReportingOfficer</th>\n",
       "    </tr>\n",
       "  </thead>\n",
       "  <tbody>\n",
       "    <tr>\n",
       "      <th>0</th>\n",
       "      <td>1</td>\n",
       "      <td>Hit and Run</td>\n",
       "      <td>202500020231</td>\n",
       "      <td>1300</td>\n",
       "      <td>LONG ST, 4</td>\n",
       "      <td>CPD</td>\n",
       "      <td>1749773582000</td>\n",
       "      <td>2013</td>\n",
       "      <td>Reed, Danielle</td>\n",
       "    </tr>\n",
       "    <tr>\n",
       "      <th>1</th>\n",
       "      <td>2</td>\n",
       "      <td>Assist Citizen - Mental/TDO/ECO</td>\n",
       "      <td>202500020205</td>\n",
       "      <td>600</td>\n",
       "      <td>E MARKET ST</td>\n",
       "      <td>CPD</td>\n",
       "      <td>1749762448000</td>\n",
       "      <td>1707</td>\n",
       "      <td>Abdelgayed, Adam</td>\n",
       "    </tr>\n",
       "    <tr>\n",
       "      <th>2</th>\n",
       "      <td>3</td>\n",
       "      <td>Assist Citizen - Mental/TDO/ECO</td>\n",
       "      <td>202500020203</td>\n",
       "      <td>700</td>\n",
       "      <td>WALKER SQ, 3B</td>\n",
       "      <td>CPD</td>\n",
       "      <td>1749760364000</td>\n",
       "      <td>1632</td>\n",
       "      <td>Bentz, Benjamin</td>\n",
       "    </tr>\n",
       "    <tr>\n",
       "      <th>3</th>\n",
       "      <td>4</td>\n",
       "      <td>Larceny - All Other</td>\n",
       "      <td>202500020199</td>\n",
       "      <td>1400</td>\n",
       "      <td>LONG ST</td>\n",
       "      <td>CPD</td>\n",
       "      <td>1749758786000</td>\n",
       "      <td>1606</td>\n",
       "      <td>Hannay, Jacob</td>\n",
       "    </tr>\n",
       "    <tr>\n",
       "      <th>4</th>\n",
       "      <td>5</td>\n",
       "      <td>Hit and Run</td>\n",
       "      <td>202500020189</td>\n",
       "      <td>1400</td>\n",
       "      <td>GRACE ST</td>\n",
       "      <td>CPD</td>\n",
       "      <td>1749755041000</td>\n",
       "      <td>1504</td>\n",
       "      <td>Eckenroth, Rachel</td>\n",
       "    </tr>\n",
       "  </tbody>\n",
       "</table>\n",
       "</div>"
      ],
      "text/plain": [
       "   RecordID                          Offense    IncidentID BlockNumber  \\\n",
       "0         1                      Hit and Run  202500020231        1300   \n",
       "1         2  Assist Citizen - Mental/TDO/ECO  202500020205         600   \n",
       "2         3  Assist Citizen - Mental/TDO/ECO  202500020203         700   \n",
       "3         4              Larceny - All Other  202500020199        1400   \n",
       "4         5                      Hit and Run  202500020189        1400   \n",
       "\n",
       "      StreetName Agency   DateReported HourReported   ReportingOfficer  \n",
       "0     LONG ST, 4    CPD  1749773582000         2013     Reed, Danielle  \n",
       "1    E MARKET ST    CPD  1749762448000         1707   Abdelgayed, Adam  \n",
       "2  WALKER SQ, 3B    CPD  1749760364000         1632   Bentz, Benjamin   \n",
       "3        LONG ST    CPD  1749758786000         1606      Hannay, Jacob  \n",
       "4       GRACE ST    CPD  1749755041000         1504  Eckenroth, Rachel  "
      ]
     },
     "execution_count": 3,
     "metadata": {},
     "output_type": "execute_result"
    }
   ],
   "source": [
    "df.head()"
   ]
  },
  {
   "cell_type": "code",
   "execution_count": 4,
   "id": "5ff7859e",
   "metadata": {
    "execution": {
     "iopub.execute_input": "2025-06-15T01:12:34.661678Z",
     "iopub.status.busy": "2025-06-15T01:12:34.661264Z",
     "iopub.status.idle": "2025-06-15T01:12:34.665563Z",
     "shell.execute_reply": "2025-06-15T01:12:34.665022Z"
    },
    "papermill": {
     "duration": 0.009329,
     "end_time": "2025-06-15T01:12:34.666522",
     "exception": false,
     "start_time": "2025-06-15T01:12:34.657193",
     "status": "completed"
    },
    "tags": []
   },
   "outputs": [
    {
     "data": {
      "text/plain": [
       "Index(['RecordID', 'Offense', 'IncidentID', 'BlockNumber', 'StreetName',\n",
       "       'Agency', 'DateReported', 'HourReported', 'ReportingOfficer'],\n",
       "      dtype='object')"
      ]
     },
     "execution_count": 4,
     "metadata": {},
     "output_type": "execute_result"
    }
   ],
   "source": [
    "df.columns"
   ]
  },
  {
   "cell_type": "code",
   "execution_count": 5,
   "id": "1cd10c0d",
   "metadata": {
    "execution": {
     "iopub.execute_input": "2025-06-15T01:12:34.675320Z",
     "iopub.status.busy": "2025-06-15T01:12:34.674894Z",
     "iopub.status.idle": "2025-06-15T01:12:34.696111Z",
     "shell.execute_reply": "2025-06-15T01:12:34.695558Z"
    },
    "papermill": {
     "duration": 0.026912,
     "end_time": "2025-06-15T01:12:34.697056",
     "exception": false,
     "start_time": "2025-06-15T01:12:34.670144",
     "status": "completed"
    },
    "tags": []
   },
   "outputs": [
    {
     "name": "stdout",
     "output_type": "stream",
     "text": [
      "<class 'pandas.core.frame.DataFrame'>\n",
      "RangeIndex: 25515 entries, 0 to 25514\n",
      "Data columns (total 9 columns):\n",
      " #   Column            Non-Null Count  Dtype \n",
      "---  ------            --------------  ----- \n",
      " 0   RecordID          25515 non-null  int64 \n",
      " 1   Offense           25515 non-null  object\n",
      " 2   IncidentID        25515 non-null  object\n",
      " 3   BlockNumber       25515 non-null  object\n",
      " 4   StreetName        25515 non-null  object\n",
      " 5   Agency            25515 non-null  object\n",
      " 6   DateReported      25515 non-null  int64 \n",
      " 7   HourReported      25515 non-null  object\n",
      " 8   ReportingOfficer  25498 non-null  object\n",
      "dtypes: int64(2), object(7)\n",
      "memory usage: 1.8+ MB\n"
     ]
    }
   ],
   "source": [
    "df.info()"
   ]
  },
  {
   "cell_type": "markdown",
   "id": "dacf8427",
   "metadata": {
    "papermill": {
     "duration": 0.003665,
     "end_time": "2025-06-15T01:12:34.704677",
     "exception": false,
     "start_time": "2025-06-15T01:12:34.701012",
     "status": "completed"
    },
    "tags": []
   },
   "source": [
    "### Missing Values"
   ]
  },
  {
   "cell_type": "code",
   "execution_count": 6,
   "id": "9e070245",
   "metadata": {
    "execution": {
     "iopub.execute_input": "2025-06-15T01:12:34.736563Z",
     "iopub.status.busy": "2025-06-15T01:12:34.735954Z",
     "iopub.status.idle": "2025-06-15T01:12:34.760244Z",
     "shell.execute_reply": "2025-06-15T01:12:34.759591Z"
    },
    "papermill": {
     "duration": 0.03001,
     "end_time": "2025-06-15T01:12:34.761279",
     "exception": false,
     "start_time": "2025-06-15T01:12:34.731269",
     "status": "completed"
    },
    "tags": []
   },
   "outputs": [
    {
     "name": "stdout",
     "output_type": "stream",
     "text": [
      "                  MissingCount  MissingPercentage\n",
      "RecordID                     0               0.00\n",
      "Offense                      0               0.00\n",
      "IncidentID                   0               0.00\n",
      "BlockNumber                  0               0.00\n",
      "StreetName                   0               0.00\n",
      "Agency                       0               0.00\n",
      "DateReported                 0               0.00\n",
      "HourReported                 0               0.00\n",
      "ReportingOfficer            17               0.07\n"
     ]
    }
   ],
   "source": [
    "def missing_percentage(df):\n",
    "    \"\"\"\n",
    "    Returns a DataFrame with the count and percentage of missing values for each column.\n",
    "    \n",
    "    Parameters:\n",
    "        df (pd.DataFrame): The input DataFrame.\n",
    "    \n",
    "    Returns:\n",
    "        pd.DataFrame: A DataFrame with columns 'MissingCount' and 'MissingPercentage'.\n",
    "    \"\"\"\n",
    "    total_rows = len(df)\n",
    "    missing_count = df.isnull().sum()\n",
    "    missing_percent = (missing_count / total_rows) * 100\n",
    "    \n",
    "    result = pd.DataFrame({\n",
    "        'MissingCount': missing_count,\n",
    "        'MissingPercentage': missing_percent.round(2)\n",
    "    })\n",
    "    \n",
    "    return result\n",
    "\n",
    "# Example usage:\n",
    "missing_info = missing_percentage(df)\n",
    "print(missing_info)\n"
   ]
  },
  {
   "cell_type": "markdown",
   "id": "ca2380d7",
   "metadata": {
    "papermill": {
     "duration": 0.003848,
     "end_time": "2025-06-15T01:12:34.769189",
     "exception": false,
     "start_time": "2025-06-15T01:12:34.765341",
     "status": "completed"
    },
    "tags": []
   },
   "source": [
    "## Data Preparation"
   ]
  },
  {
   "cell_type": "markdown",
   "id": "85d324d2",
   "metadata": {
    "papermill": {
     "duration": 0.003851,
     "end_time": "2025-06-15T01:12:34.776837",
     "exception": false,
     "start_time": "2025-06-15T01:12:34.772986",
     "status": "completed"
    },
    "tags": []
   },
   "source": [
    "### Data Conversion"
   ]
  },
  {
   "cell_type": "code",
   "execution_count": 7,
   "id": "65d231e0",
   "metadata": {
    "execution": {
     "iopub.execute_input": "2025-06-15T01:12:34.785581Z",
     "iopub.status.busy": "2025-06-15T01:12:34.785314Z",
     "iopub.status.idle": "2025-06-15T01:12:35.144412Z",
     "shell.execute_reply": "2025-06-15T01:12:35.143710Z"
    },
    "papermill": {
     "duration": 0.364791,
     "end_time": "2025-06-15T01:12:35.145569",
     "exception": false,
     "start_time": "2025-06-15T01:12:34.780778",
     "status": "completed"
    },
    "tags": []
   },
   "outputs": [
    {
     "data": {
      "text/html": [
       "<div>\n",
       "<style scoped>\n",
       "    .dataframe tbody tr th:only-of-type {\n",
       "        vertical-align: middle;\n",
       "    }\n",
       "\n",
       "    .dataframe tbody tr th {\n",
       "        vertical-align: top;\n",
       "    }\n",
       "\n",
       "    .dataframe thead th {\n",
       "        text-align: right;\n",
       "    }\n",
       "</style>\n",
       "<table border=\"1\" class=\"dataframe\">\n",
       "  <thead>\n",
       "    <tr style=\"text-align: right;\">\n",
       "      <th></th>\n",
       "      <th>RecordID</th>\n",
       "      <th>Offense</th>\n",
       "      <th>IncidentID</th>\n",
       "      <th>BlockNumber</th>\n",
       "      <th>StreetName</th>\n",
       "      <th>Agency</th>\n",
       "      <th>HourReported</th>\n",
       "      <th>ReportingOfficer</th>\n",
       "      <th>Date</th>\n",
       "      <th>DateString</th>\n",
       "      <th>DayOfWeek</th>\n",
       "      <th>Weekend</th>\n",
       "      <th>Season</th>\n",
       "      <th>HourAMPM</th>\n",
       "      <th>TimeOfDay</th>\n",
       "    </tr>\n",
       "  </thead>\n",
       "  <tbody>\n",
       "    <tr>\n",
       "      <th>0</th>\n",
       "      <td>1</td>\n",
       "      <td>Hit and Run</td>\n",
       "      <td>202500020231</td>\n",
       "      <td>1300</td>\n",
       "      <td>LONG ST, 4</td>\n",
       "      <td>CPD</td>\n",
       "      <td>2013</td>\n",
       "      <td>Reed, Danielle</td>\n",
       "      <td>2025-06-12 20:13:02</td>\n",
       "      <td>2025-06-12 08:13:02 PM</td>\n",
       "      <td>Thursday</td>\n",
       "      <td>False</td>\n",
       "      <td>Spring</td>\n",
       "      <td>08:13 PM</td>\n",
       "      <td>Evening</td>\n",
       "    </tr>\n",
       "    <tr>\n",
       "      <th>1</th>\n",
       "      <td>2</td>\n",
       "      <td>Assist Citizen - Mental/TDO/ECO</td>\n",
       "      <td>202500020205</td>\n",
       "      <td>600</td>\n",
       "      <td>E MARKET ST</td>\n",
       "      <td>CPD</td>\n",
       "      <td>1707</td>\n",
       "      <td>Abdelgayed, Adam</td>\n",
       "      <td>2025-06-12 17:07:28</td>\n",
       "      <td>2025-06-12 05:07:28 PM</td>\n",
       "      <td>Thursday</td>\n",
       "      <td>False</td>\n",
       "      <td>Spring</td>\n",
       "      <td>05:07 PM</td>\n",
       "      <td>Evening</td>\n",
       "    </tr>\n",
       "    <tr>\n",
       "      <th>2</th>\n",
       "      <td>3</td>\n",
       "      <td>Assist Citizen - Mental/TDO/ECO</td>\n",
       "      <td>202500020203</td>\n",
       "      <td>700</td>\n",
       "      <td>WALKER SQ, 3B</td>\n",
       "      <td>CPD</td>\n",
       "      <td>1632</td>\n",
       "      <td>Bentz, Benjamin</td>\n",
       "      <td>2025-06-12 16:32:44</td>\n",
       "      <td>2025-06-12 04:32:44 PM</td>\n",
       "      <td>Thursday</td>\n",
       "      <td>False</td>\n",
       "      <td>Spring</td>\n",
       "      <td>04:32 PM</td>\n",
       "      <td>Afternoon</td>\n",
       "    </tr>\n",
       "    <tr>\n",
       "      <th>3</th>\n",
       "      <td>4</td>\n",
       "      <td>Larceny - All Other</td>\n",
       "      <td>202500020199</td>\n",
       "      <td>1400</td>\n",
       "      <td>LONG ST</td>\n",
       "      <td>CPD</td>\n",
       "      <td>1606</td>\n",
       "      <td>Hannay, Jacob</td>\n",
       "      <td>2025-06-12 16:06:26</td>\n",
       "      <td>2025-06-12 04:06:26 PM</td>\n",
       "      <td>Thursday</td>\n",
       "      <td>False</td>\n",
       "      <td>Spring</td>\n",
       "      <td>04:06 PM</td>\n",
       "      <td>Afternoon</td>\n",
       "    </tr>\n",
       "    <tr>\n",
       "      <th>4</th>\n",
       "      <td>5</td>\n",
       "      <td>Hit and Run</td>\n",
       "      <td>202500020189</td>\n",
       "      <td>1400</td>\n",
       "      <td>GRACE ST</td>\n",
       "      <td>CPD</td>\n",
       "      <td>1504</td>\n",
       "      <td>Eckenroth, Rachel</td>\n",
       "      <td>2025-06-12 15:04:01</td>\n",
       "      <td>2025-06-12 03:04:01 PM</td>\n",
       "      <td>Thursday</td>\n",
       "      <td>False</td>\n",
       "      <td>Spring</td>\n",
       "      <td>03:04 PM</td>\n",
       "      <td>Afternoon</td>\n",
       "    </tr>\n",
       "  </tbody>\n",
       "</table>\n",
       "</div>"
      ],
      "text/plain": [
       "   RecordID                          Offense    IncidentID BlockNumber  \\\n",
       "0         1                      Hit and Run  202500020231        1300   \n",
       "1         2  Assist Citizen - Mental/TDO/ECO  202500020205         600   \n",
       "2         3  Assist Citizen - Mental/TDO/ECO  202500020203         700   \n",
       "3         4              Larceny - All Other  202500020199        1400   \n",
       "4         5                      Hit and Run  202500020189        1400   \n",
       "\n",
       "      StreetName Agency HourReported   ReportingOfficer                Date  \\\n",
       "0     LONG ST, 4    CPD         2013     Reed, Danielle 2025-06-12 20:13:02   \n",
       "1    E MARKET ST    CPD         1707   Abdelgayed, Adam 2025-06-12 17:07:28   \n",
       "2  WALKER SQ, 3B    CPD         1632   Bentz, Benjamin  2025-06-12 16:32:44   \n",
       "3        LONG ST    CPD         1606      Hannay, Jacob 2025-06-12 16:06:26   \n",
       "4       GRACE ST    CPD         1504  Eckenroth, Rachel 2025-06-12 15:04:01   \n",
       "\n",
       "               DateString DayOfWeek  Weekend  Season  HourAMPM  TimeOfDay  \n",
       "0  2025-06-12 08:13:02 PM  Thursday    False  Spring  08:13 PM    Evening  \n",
       "1  2025-06-12 05:07:28 PM  Thursday    False  Spring  05:07 PM    Evening  \n",
       "2  2025-06-12 04:32:44 PM  Thursday    False  Spring  04:32 PM  Afternoon  \n",
       "3  2025-06-12 04:06:26 PM  Thursday    False  Spring  04:06 PM  Afternoon  \n",
       "4  2025-06-12 03:04:01 PM  Thursday    False  Spring  03:04 PM  Afternoon  "
      ]
     },
     "execution_count": 7,
     "metadata": {},
     "output_type": "execute_result"
    }
   ],
   "source": [
    "def convert_and_categorize_datereported(df, col='DateReported'):\n",
    "    \"\"\"\n",
    "    Converts an epoch (in milliseconds) date column into a timezone-aware datetime,\n",
    "    converts it to Eastern Time, and then creates columns for day-of-week, weekend flag,\n",
    "    season, 12-hour formatted time, and time-of-day. Keeps both a real datetime column\n",
    "    (Date) and a string representation (DateString).\n",
    "    \"\"\"\n",
    "    import pandas as pd\n",
    "\n",
    "    # Convert the epoch timestamp to a pandas datetime object as UTC, then convert to US/Eastern.\n",
    "    df[\"DateReported_dt\"] = (\n",
    "        pd.to_datetime(df[col], unit=\"ms\", errors=\"coerce\", utc=True)\n",
    "        .dt.tz_convert(\"US/Eastern\")\n",
    "    )\n",
    "    \n",
    "    # Create a true datetime column (remove timezone if you prefer naive datetime)\n",
    "    df[\"Date\"] = df[\"DateReported_dt\"].dt.tz_localize(None)\n",
    "\n",
    "    # Optionally, create a separate string-formatted column\n",
    "    df[\"DateString\"] = df[\"DateReported_dt\"].dt.strftime(\"%Y-%m-%d %I:%M:%S %p\")\n",
    "    \n",
    "    # DayOfWeek\n",
    "    df[\"DayOfWeek\"] = df[\"DateReported_dt\"].dt.day_name()\n",
    "    \n",
    "    # Weekend\n",
    "    df[\"Weekend\"] = df[\"DayOfWeek\"].isin([\"Saturday\", \"Sunday\"])\n",
    "    \n",
    "    # Helper function to determine the season\n",
    "    def get_season(dt):\n",
    "        month = dt.month\n",
    "        day = dt.day\n",
    "        # Approximate Northern Hemisphere season boundaries:\n",
    "        if (month == 12 and day >= 21) or (month < 3) or (month == 3 and day < 20):\n",
    "            return \"Winter\"\n",
    "        elif (month == 3 and day >= 20) or (month < 6) or (month == 6 and day < 21):\n",
    "            return \"Spring\"\n",
    "        elif (month == 6 and day >= 21) or (month < 9) or (month == 9 and day < 22):\n",
    "            return \"Summer\"\n",
    "        else:\n",
    "            return \"Autumn\"\n",
    "    \n",
    "    df[\"Season\"] = df[\"DateReported_dt\"].apply(get_season)\n",
    "    \n",
    "    # 12-hour formatted time (HourAMPM)\n",
    "    df[\"HourAMPM\"] = df[\"DateReported_dt\"].dt.strftime(\"%I:%M %p\")\n",
    "    \n",
    "    # Extract hour (0-23) for time-of-day\n",
    "    df[\"HourValue\"] = df[\"DateReported_dt\"].dt.hour\n",
    "    \n",
    "    def time_of_day(hour):\n",
    "        if pd.isnull(hour):\n",
    "            return None\n",
    "        if 5 <= hour < 12:\n",
    "            return \"Morning\"\n",
    "        elif 12 <= hour < 17:\n",
    "            return \"Afternoon\"\n",
    "        elif 17 <= hour < 21:\n",
    "            return \"Evening\"\n",
    "        else:\n",
    "            return \"Night\"\n",
    "    \n",
    "    df[\"TimeOfDay\"] = df[\"HourValue\"].apply(time_of_day)\n",
    "    \n",
    "    # Drop columns you no longer need\n",
    "    df.drop(columns=[col, \"DateReported_dt\", \"HourValue\"], inplace=True)\n",
    "    \n",
    "    return df\n",
    "\n",
    "# Example usage:\n",
    "df = convert_and_categorize_datereported(df)\n",
    "df.head()\n"
   ]
  },
  {
   "cell_type": "code",
   "execution_count": 8,
   "id": "02af22aa",
   "metadata": {
    "execution": {
     "iopub.execute_input": "2025-06-15T01:12:35.155276Z",
     "iopub.status.busy": "2025-06-15T01:12:35.154853Z",
     "iopub.status.idle": "2025-06-15T01:12:35.182338Z",
     "shell.execute_reply": "2025-06-15T01:12:35.181815Z"
    },
    "papermill": {
     "duration": 0.033422,
     "end_time": "2025-06-15T01:12:35.183383",
     "exception": false,
     "start_time": "2025-06-15T01:12:35.149961",
     "status": "completed"
    },
    "tags": []
   },
   "outputs": [
    {
     "name": "stdout",
     "output_type": "stream",
     "text": [
      "<class 'pandas.core.frame.DataFrame'>\n",
      "RangeIndex: 25515 entries, 0 to 25514\n",
      "Data columns (total 15 columns):\n",
      " #   Column            Non-Null Count  Dtype         \n",
      "---  ------            --------------  -----         \n",
      " 0   RecordID          25515 non-null  int64         \n",
      " 1   Offense           25515 non-null  object        \n",
      " 2   IncidentID        25515 non-null  object        \n",
      " 3   BlockNumber       25515 non-null  object        \n",
      " 4   StreetName        25515 non-null  object        \n",
      " 5   Agency            25515 non-null  object        \n",
      " 6   HourReported      25515 non-null  object        \n",
      " 7   ReportingOfficer  25498 non-null  object        \n",
      " 8   Date              25515 non-null  datetime64[ns]\n",
      " 9   DateString        25515 non-null  object        \n",
      " 10  DayOfWeek         25515 non-null  object        \n",
      " 11  Weekend           25515 non-null  bool          \n",
      " 12  Season            25515 non-null  object        \n",
      " 13  HourAMPM          25515 non-null  object        \n",
      " 14  TimeOfDay         25515 non-null  object        \n",
      "dtypes: bool(1), datetime64[ns](1), int64(1), object(12)\n",
      "memory usage: 2.7+ MB\n"
     ]
    }
   ],
   "source": [
    "df.info()"
   ]
  },
  {
   "cell_type": "markdown",
   "id": "cf575776",
   "metadata": {
    "papermill": {
     "duration": 0.004067,
     "end_time": "2025-06-15T01:12:35.191768",
     "exception": false,
     "start_time": "2025-06-15T01:12:35.187701",
     "status": "completed"
    },
    "tags": []
   },
   "source": [
    "### Coordinates"
   ]
  },
  {
   "cell_type": "code",
   "execution_count": 9,
   "id": "4b272f50",
   "metadata": {
    "execution": {
     "iopub.execute_input": "2025-06-15T01:12:35.201327Z",
     "iopub.status.busy": "2025-06-15T01:12:35.200946Z",
     "iopub.status.idle": "2025-06-15T01:12:35.443393Z",
     "shell.execute_reply": "2025-06-15T01:12:35.442685Z"
    },
    "papermill": {
     "duration": 0.248557,
     "end_time": "2025-06-15T01:12:35.444516",
     "exception": false,
     "start_time": "2025-06-15T01:12:35.195959",
     "status": "completed"
    },
    "tags": []
   },
   "outputs": [
    {
     "name": "stdout",
     "output_type": "stream",
     "text": [
      "Loaded geocode cache.\n"
     ]
    },
    {
     "name": "stdout",
     "output_type": "stream",
     "text": [
      "Error geocoding 1100 KING ST, B: REQUEST_DENIED (You must enable Billing on the Google Cloud Project at https://console.cloud.google.com/project/_/billing/enable Learn more at https://developers.google.com/maps/gmp-get-started)\n",
      "Geocoded 1100 KING ST, B: None, None\n"
     ]
    },
    {
     "name": "stdout",
     "output_type": "stream",
     "text": [
      "Geocode cache updated and saved.\n"
     ]
    },
    {
     "data": {
      "text/html": [
       "<div>\n",
       "<style scoped>\n",
       "    .dataframe tbody tr th:only-of-type {\n",
       "        vertical-align: middle;\n",
       "    }\n",
       "\n",
       "    .dataframe tbody tr th {\n",
       "        vertical-align: top;\n",
       "    }\n",
       "\n",
       "    .dataframe thead th {\n",
       "        text-align: right;\n",
       "    }\n",
       "</style>\n",
       "<table border=\"1\" class=\"dataframe\">\n",
       "  <thead>\n",
       "    <tr style=\"text-align: right;\">\n",
       "      <th></th>\n",
       "      <th>RecordID</th>\n",
       "      <th>Offense</th>\n",
       "      <th>IncidentID</th>\n",
       "      <th>BlockNumber</th>\n",
       "      <th>StreetName</th>\n",
       "      <th>Agency</th>\n",
       "      <th>HourReported</th>\n",
       "      <th>ReportingOfficer</th>\n",
       "      <th>Date</th>\n",
       "      <th>DateString</th>\n",
       "      <th>DayOfWeek</th>\n",
       "      <th>Weekend</th>\n",
       "      <th>Season</th>\n",
       "      <th>HourAMPM</th>\n",
       "      <th>TimeOfDay</th>\n",
       "      <th>FullStreet</th>\n",
       "      <th>lat</th>\n",
       "      <th>lon</th>\n",
       "    </tr>\n",
       "  </thead>\n",
       "  <tbody>\n",
       "    <tr>\n",
       "      <th>0</th>\n",
       "      <td>1</td>\n",
       "      <td>Hit and Run</td>\n",
       "      <td>202500020231</td>\n",
       "      <td>1300</td>\n",
       "      <td>LONG ST, 4</td>\n",
       "      <td>CPD</td>\n",
       "      <td>2013</td>\n",
       "      <td>Reed, Danielle</td>\n",
       "      <td>2025-06-12 20:13:02</td>\n",
       "      <td>2025-06-12 08:13:02 PM</td>\n",
       "      <td>Thursday</td>\n",
       "      <td>False</td>\n",
       "      <td>Spring</td>\n",
       "      <td>08:13 PM</td>\n",
       "      <td>Evening</td>\n",
       "      <td>1300 LONG ST, 4</td>\n",
       "      <td>38.035438</td>\n",
       "      <td>-78.462875</td>\n",
       "    </tr>\n",
       "    <tr>\n",
       "      <th>1</th>\n",
       "      <td>2</td>\n",
       "      <td>Assist Citizen - Mental/TDO/ECO</td>\n",
       "      <td>202500020205</td>\n",
       "      <td>600</td>\n",
       "      <td>E MARKET ST</td>\n",
       "      <td>CPD</td>\n",
       "      <td>1707</td>\n",
       "      <td>Abdelgayed, Adam</td>\n",
       "      <td>2025-06-12 17:07:28</td>\n",
       "      <td>2025-06-12 05:07:28 PM</td>\n",
       "      <td>Thursday</td>\n",
       "      <td>False</td>\n",
       "      <td>Spring</td>\n",
       "      <td>05:07 PM</td>\n",
       "      <td>Evening</td>\n",
       "      <td>600 E MARKET ST</td>\n",
       "      <td>38.030175</td>\n",
       "      <td>-78.477574</td>\n",
       "    </tr>\n",
       "    <tr>\n",
       "      <th>2</th>\n",
       "      <td>3</td>\n",
       "      <td>Assist Citizen - Mental/TDO/ECO</td>\n",
       "      <td>202500020203</td>\n",
       "      <td>700</td>\n",
       "      <td>WALKER SQ, 3B</td>\n",
       "      <td>CPD</td>\n",
       "      <td>1632</td>\n",
       "      <td>Bentz, Benjamin</td>\n",
       "      <td>2025-06-12 16:32:44</td>\n",
       "      <td>2025-06-12 04:32:44 PM</td>\n",
       "      <td>Thursday</td>\n",
       "      <td>False</td>\n",
       "      <td>Spring</td>\n",
       "      <td>04:32 PM</td>\n",
       "      <td>Afternoon</td>\n",
       "      <td>700 WALKER SQ, 3B</td>\n",
       "      <td>38.030445</td>\n",
       "      <td>-78.491372</td>\n",
       "    </tr>\n",
       "    <tr>\n",
       "      <th>3</th>\n",
       "      <td>4</td>\n",
       "      <td>Larceny - All Other</td>\n",
       "      <td>202500020199</td>\n",
       "      <td>1400</td>\n",
       "      <td>LONG ST</td>\n",
       "      <td>CPD</td>\n",
       "      <td>1606</td>\n",
       "      <td>Hannay, Jacob</td>\n",
       "      <td>2025-06-12 16:06:26</td>\n",
       "      <td>2025-06-12 04:06:26 PM</td>\n",
       "      <td>Thursday</td>\n",
       "      <td>False</td>\n",
       "      <td>Spring</td>\n",
       "      <td>04:06 PM</td>\n",
       "      <td>Afternoon</td>\n",
       "      <td>1400 LONG ST</td>\n",
       "      <td>38.035016</td>\n",
       "      <td>-78.459915</td>\n",
       "    </tr>\n",
       "    <tr>\n",
       "      <th>4</th>\n",
       "      <td>5</td>\n",
       "      <td>Hit and Run</td>\n",
       "      <td>202500020189</td>\n",
       "      <td>1400</td>\n",
       "      <td>GRACE ST</td>\n",
       "      <td>CPD</td>\n",
       "      <td>1504</td>\n",
       "      <td>Eckenroth, Rachel</td>\n",
       "      <td>2025-06-12 15:04:01</td>\n",
       "      <td>2025-06-12 03:04:01 PM</td>\n",
       "      <td>Thursday</td>\n",
       "      <td>False</td>\n",
       "      <td>Spring</td>\n",
       "      <td>03:04 PM</td>\n",
       "      <td>Afternoon</td>\n",
       "      <td>1400 GRACE ST</td>\n",
       "      <td>38.034469</td>\n",
       "      <td>-78.464642</td>\n",
       "    </tr>\n",
       "  </tbody>\n",
       "</table>\n",
       "</div>"
      ],
      "text/plain": [
       "   RecordID                          Offense    IncidentID BlockNumber  \\\n",
       "0         1                      Hit and Run  202500020231        1300   \n",
       "1         2  Assist Citizen - Mental/TDO/ECO  202500020205         600   \n",
       "2         3  Assist Citizen - Mental/TDO/ECO  202500020203         700   \n",
       "3         4              Larceny - All Other  202500020199        1400   \n",
       "4         5                      Hit and Run  202500020189        1400   \n",
       "\n",
       "      StreetName Agency HourReported   ReportingOfficer                Date  \\\n",
       "0     LONG ST, 4    CPD         2013     Reed, Danielle 2025-06-12 20:13:02   \n",
       "1    E MARKET ST    CPD         1707   Abdelgayed, Adam 2025-06-12 17:07:28   \n",
       "2  WALKER SQ, 3B    CPD         1632   Bentz, Benjamin  2025-06-12 16:32:44   \n",
       "3        LONG ST    CPD         1606      Hannay, Jacob 2025-06-12 16:06:26   \n",
       "4       GRACE ST    CPD         1504  Eckenroth, Rachel 2025-06-12 15:04:01   \n",
       "\n",
       "               DateString DayOfWeek  Weekend  Season  HourAMPM  TimeOfDay  \\\n",
       "0  2025-06-12 08:13:02 PM  Thursday    False  Spring  08:13 PM    Evening   \n",
       "1  2025-06-12 05:07:28 PM  Thursday    False  Spring  05:07 PM    Evening   \n",
       "2  2025-06-12 04:32:44 PM  Thursday    False  Spring  04:32 PM  Afternoon   \n",
       "3  2025-06-12 04:06:26 PM  Thursday    False  Spring  04:06 PM  Afternoon   \n",
       "4  2025-06-12 03:04:01 PM  Thursday    False  Spring  03:04 PM  Afternoon   \n",
       "\n",
       "          FullStreet        lat        lon  \n",
       "0    1300 LONG ST, 4  38.035438 -78.462875  \n",
       "1    600 E MARKET ST  38.030175 -78.477574  \n",
       "2  700 WALKER SQ, 3B  38.030445 -78.491372  \n",
       "3       1400 LONG ST  38.035016 -78.459915  \n",
       "4      1400 GRACE ST  38.034469 -78.464642  "
      ]
     },
     "execution_count": 9,
     "metadata": {},
     "output_type": "execute_result"
    }
   ],
   "source": [
    "# Combine BlockNumber and StreetName into a full address string\n",
    "df['FullStreet'] = df['BlockNumber'].astype(str) + \" \" + df['StreetName']\n",
    "\n",
    "# --- Step 1: Setup the Google Maps Client and Cache ---\n",
    "gmaps = googlemaps.Client(key=GOOGLE_API_KEY)\n",
    "\n",
    "# Try to load cached geocoding results if available.\n",
    "try:\n",
    "    with open(\"geocode_cache_google.pkl\", \"rb\") as f:\n",
    "        street_coords = pickle.load(f)\n",
    "    print(\"Loaded geocode cache.\")\n",
    "except FileNotFoundError:\n",
    "    street_coords = {}\n",
    "    print(\"No cache found; starting fresh.\")\n",
    "\n",
    "def geocode_address(address):\n",
    "    try:\n",
    "        # Append city and state to help geocoding\n",
    "        result = gmaps.geocode(f\"{address}, Charlottesville, VA\")\n",
    "        if result:\n",
    "            lat = result[0]['geometry']['location']['lat']\n",
    "            lon = result[0]['geometry']['location']['lng']\n",
    "            return lat, lon\n",
    "    except Exception as e:\n",
    "        print(f\"Error geocoding {address}: {e}\")\n",
    "    return None, None\n",
    "\n",
    "# --- Step 2: Geocode Only New Addresses ---\n",
    "unique_addresses = df['FullStreet'].unique()\n",
    "for address in unique_addresses:\n",
    "    if address not in street_coords:\n",
    "        lat, lon = geocode_address(address)\n",
    "        street_coords[address] = (lat, lon)\n",
    "        print(f\"Geocoded {address}: {lat}, {lon}\")\n",
    "\n",
    "# Save the updated cache to disk.\n",
    "with open(\"geocode_cache_google.pkl\", \"wb\") as f:\n",
    "    pickle.dump(street_coords, f)\n",
    "    print(\"Geocode cache updated and saved.\")\n",
    "\n",
    "# --- Step 3: Map Coordinates Back to DataFrame ---\n",
    "df['lat'] = df['FullStreet'].map(lambda s: street_coords.get(s, (None, None))[0])\n",
    "df['lon'] = df['FullStreet'].map(lambda s: street_coords.get(s, (None, None))[1])\n",
    "\n",
    "df.head()"
   ]
  },
  {
   "cell_type": "markdown",
   "id": "a31d06de",
   "metadata": {
    "papermill": {
     "duration": 0.004501,
     "end_time": "2025-06-15T01:12:35.453891",
     "exception": false,
     "start_time": "2025-06-15T01:12:35.449390",
     "status": "completed"
    },
    "tags": []
   },
   "source": [
    "### Neighborhood"
   ]
  },
  {
   "cell_type": "code",
   "execution_count": 10,
   "id": "2c7bb5c8",
   "metadata": {
    "execution": {
     "iopub.execute_input": "2025-06-15T01:12:35.463941Z",
     "iopub.status.busy": "2025-06-15T01:12:35.463539Z",
     "iopub.status.idle": "2025-06-15T01:12:36.086876Z",
     "shell.execute_reply": "2025-06-15T01:12:36.086176Z"
    },
    "papermill": {
     "duration": 0.629655,
     "end_time": "2025-06-15T01:12:36.088062",
     "exception": false,
     "start_time": "2025-06-15T01:12:35.458407",
     "status": "completed"
    },
    "tags": []
   },
   "outputs": [
    {
     "name": "stdout",
     "output_type": "stream",
     "text": [
      "Loaded neighborhood cache.\n",
      "Error getting neighborhood for nan, nan: HTTP Error: 400\n",
      "Error getting neighborhood for nan, nan: HTTP Error: 400\n"
     ]
    },
    {
     "name": "stdout",
     "output_type": "stream",
     "text": [
      "Error getting neighborhood for nan, nan: HTTP Error: 400\n",
      "Error getting neighborhood for nan, nan: HTTP Error: 400\n"
     ]
    },
    {
     "name": "stdout",
     "output_type": "stream",
     "text": [
      "Error getting neighborhood for nan, nan: HTTP Error: 400\n",
      "Error getting neighborhood for nan, nan: HTTP Error: 400\n",
      "Error getting neighborhood for nan, nan: HTTP Error: 400\n",
      "Error getting neighborhood for nan, nan: HTTP Error: 400\n",
      "Error getting neighborhood for nan, nan: HTTP Error: 400\n",
      "Error getting neighborhood for nan, nan: HTTP Error: 400\n",
      "Error getting neighborhood for nan, nan: HTTP Error: 400\n",
      "Error getting neighborhood for nan, nan: HTTP Error: 400\n",
      "Error getting neighborhood for nan, nan: HTTP Error: 400\n"
     ]
    },
    {
     "name": "stdout",
     "output_type": "stream",
     "text": [
      "Error getting neighborhood for nan, nan: HTTP Error: 400\n",
      "Error getting neighborhood for nan, nan: HTTP Error: 400\n"
     ]
    },
    {
     "name": "stdout",
     "output_type": "stream",
     "text": [
      "Error getting neighborhood for nan, nan: HTTP Error: 400\n",
      "Error getting neighborhood for nan, nan: HTTP Error: 400\n"
     ]
    },
    {
     "data": {
      "text/html": [
       "<div>\n",
       "<style scoped>\n",
       "    .dataframe tbody tr th:only-of-type {\n",
       "        vertical-align: middle;\n",
       "    }\n",
       "\n",
       "    .dataframe tbody tr th {\n",
       "        vertical-align: top;\n",
       "    }\n",
       "\n",
       "    .dataframe thead th {\n",
       "        text-align: right;\n",
       "    }\n",
       "</style>\n",
       "<table border=\"1\" class=\"dataframe\">\n",
       "  <thead>\n",
       "    <tr style=\"text-align: right;\">\n",
       "      <th></th>\n",
       "      <th>RecordID</th>\n",
       "      <th>Offense</th>\n",
       "      <th>IncidentID</th>\n",
       "      <th>BlockNumber</th>\n",
       "      <th>StreetName</th>\n",
       "      <th>Agency</th>\n",
       "      <th>HourReported</th>\n",
       "      <th>ReportingOfficer</th>\n",
       "      <th>Date</th>\n",
       "      <th>DateString</th>\n",
       "      <th>DayOfWeek</th>\n",
       "      <th>Weekend</th>\n",
       "      <th>Season</th>\n",
       "      <th>HourAMPM</th>\n",
       "      <th>TimeOfDay</th>\n",
       "      <th>FullStreet</th>\n",
       "      <th>lat</th>\n",
       "      <th>lon</th>\n",
       "      <th>neighborhood</th>\n",
       "    </tr>\n",
       "  </thead>\n",
       "  <tbody>\n",
       "    <tr>\n",
       "      <th>0</th>\n",
       "      <td>1</td>\n",
       "      <td>Hit and Run</td>\n",
       "      <td>202500020231</td>\n",
       "      <td>1300</td>\n",
       "      <td>LONG ST, 4</td>\n",
       "      <td>CPD</td>\n",
       "      <td>2013</td>\n",
       "      <td>Reed, Danielle</td>\n",
       "      <td>2025-06-12 20:13:02</td>\n",
       "      <td>2025-06-12 08:13:02 PM</td>\n",
       "      <td>Thursday</td>\n",
       "      <td>False</td>\n",
       "      <td>Spring</td>\n",
       "      <td>08:13 PM</td>\n",
       "      <td>Evening</td>\n",
       "      <td>1300 LONG ST, 4</td>\n",
       "      <td>38.035438</td>\n",
       "      <td>-78.462875</td>\n",
       "      <td>Martha Jefferson</td>\n",
       "    </tr>\n",
       "    <tr>\n",
       "      <th>1</th>\n",
       "      <td>2</td>\n",
       "      <td>Assist Citizen - Mental/TDO/ECO</td>\n",
       "      <td>202500020205</td>\n",
       "      <td>600</td>\n",
       "      <td>E MARKET ST</td>\n",
       "      <td>CPD</td>\n",
       "      <td>1707</td>\n",
       "      <td>Abdelgayed, Adam</td>\n",
       "      <td>2025-06-12 17:07:28</td>\n",
       "      <td>2025-06-12 05:07:28 PM</td>\n",
       "      <td>Thursday</td>\n",
       "      <td>False</td>\n",
       "      <td>Spring</td>\n",
       "      <td>05:07 PM</td>\n",
       "      <td>Evening</td>\n",
       "      <td>600 E MARKET ST</td>\n",
       "      <td>38.030175</td>\n",
       "      <td>-78.477574</td>\n",
       "      <td>Downtown Mall</td>\n",
       "    </tr>\n",
       "    <tr>\n",
       "      <th>2</th>\n",
       "      <td>3</td>\n",
       "      <td>Assist Citizen - Mental/TDO/ECO</td>\n",
       "      <td>202500020203</td>\n",
       "      <td>700</td>\n",
       "      <td>WALKER SQ, 3B</td>\n",
       "      <td>CPD</td>\n",
       "      <td>1632</td>\n",
       "      <td>Bentz, Benjamin</td>\n",
       "      <td>2025-06-12 16:32:44</td>\n",
       "      <td>2025-06-12 04:32:44 PM</td>\n",
       "      <td>Thursday</td>\n",
       "      <td>False</td>\n",
       "      <td>Spring</td>\n",
       "      <td>04:32 PM</td>\n",
       "      <td>Afternoon</td>\n",
       "      <td>700 WALKER SQ, 3B</td>\n",
       "      <td>38.030445</td>\n",
       "      <td>-78.491372</td>\n",
       "      <td>Fifeville</td>\n",
       "    </tr>\n",
       "    <tr>\n",
       "      <th>3</th>\n",
       "      <td>4</td>\n",
       "      <td>Larceny - All Other</td>\n",
       "      <td>202500020199</td>\n",
       "      <td>1400</td>\n",
       "      <td>LONG ST</td>\n",
       "      <td>CPD</td>\n",
       "      <td>1606</td>\n",
       "      <td>Hannay, Jacob</td>\n",
       "      <td>2025-06-12 16:06:26</td>\n",
       "      <td>2025-06-12 04:06:26 PM</td>\n",
       "      <td>Thursday</td>\n",
       "      <td>False</td>\n",
       "      <td>Spring</td>\n",
       "      <td>04:06 PM</td>\n",
       "      <td>Afternoon</td>\n",
       "      <td>1400 LONG ST</td>\n",
       "      <td>38.035016</td>\n",
       "      <td>-78.459915</td>\n",
       "      <td>Martha Jefferson</td>\n",
       "    </tr>\n",
       "    <tr>\n",
       "      <th>4</th>\n",
       "      <td>5</td>\n",
       "      <td>Hit and Run</td>\n",
       "      <td>202500020189</td>\n",
       "      <td>1400</td>\n",
       "      <td>GRACE ST</td>\n",
       "      <td>CPD</td>\n",
       "      <td>1504</td>\n",
       "      <td>Eckenroth, Rachel</td>\n",
       "      <td>2025-06-12 15:04:01</td>\n",
       "      <td>2025-06-12 03:04:01 PM</td>\n",
       "      <td>Thursday</td>\n",
       "      <td>False</td>\n",
       "      <td>Spring</td>\n",
       "      <td>03:04 PM</td>\n",
       "      <td>Afternoon</td>\n",
       "      <td>1400 GRACE ST</td>\n",
       "      <td>38.034469</td>\n",
       "      <td>-78.464642</td>\n",
       "      <td>Martha Jefferson</td>\n",
       "    </tr>\n",
       "  </tbody>\n",
       "</table>\n",
       "</div>"
      ],
      "text/plain": [
       "   RecordID                          Offense    IncidentID BlockNumber  \\\n",
       "0         1                      Hit and Run  202500020231        1300   \n",
       "1         2  Assist Citizen - Mental/TDO/ECO  202500020205         600   \n",
       "2         3  Assist Citizen - Mental/TDO/ECO  202500020203         700   \n",
       "3         4              Larceny - All Other  202500020199        1400   \n",
       "4         5                      Hit and Run  202500020189        1400   \n",
       "\n",
       "      StreetName Agency HourReported   ReportingOfficer                Date  \\\n",
       "0     LONG ST, 4    CPD         2013     Reed, Danielle 2025-06-12 20:13:02   \n",
       "1    E MARKET ST    CPD         1707   Abdelgayed, Adam 2025-06-12 17:07:28   \n",
       "2  WALKER SQ, 3B    CPD         1632   Bentz, Benjamin  2025-06-12 16:32:44   \n",
       "3        LONG ST    CPD         1606      Hannay, Jacob 2025-06-12 16:06:26   \n",
       "4       GRACE ST    CPD         1504  Eckenroth, Rachel 2025-06-12 15:04:01   \n",
       "\n",
       "               DateString DayOfWeek  Weekend  Season  HourAMPM  TimeOfDay  \\\n",
       "0  2025-06-12 08:13:02 PM  Thursday    False  Spring  08:13 PM    Evening   \n",
       "1  2025-06-12 05:07:28 PM  Thursday    False  Spring  05:07 PM    Evening   \n",
       "2  2025-06-12 04:32:44 PM  Thursday    False  Spring  04:32 PM  Afternoon   \n",
       "3  2025-06-12 04:06:26 PM  Thursday    False  Spring  04:06 PM  Afternoon   \n",
       "4  2025-06-12 03:04:01 PM  Thursday    False  Spring  03:04 PM  Afternoon   \n",
       "\n",
       "          FullStreet        lat        lon      neighborhood  \n",
       "0    1300 LONG ST, 4  38.035438 -78.462875  Martha Jefferson  \n",
       "1    600 E MARKET ST  38.030175 -78.477574     Downtown Mall  \n",
       "2  700 WALKER SQ, 3B  38.030445 -78.491372         Fifeville  \n",
       "3       1400 LONG ST  38.035016 -78.459915  Martha Jefferson  \n",
       "4      1400 GRACE ST  38.034469 -78.464642  Martha Jefferson  "
      ]
     },
     "execution_count": 10,
     "metadata": {},
     "output_type": "execute_result"
    }
   ],
   "source": [
    "# Initialize the Google Maps client.\n",
    "gmaps = googlemaps.Client(key=GOOGLE_API_KEY)\n",
    "\n",
    "# Try to load a persistent neighborhood cache if available.\n",
    "try:\n",
    "    with open(\"neighborhood_cache.pkl\", \"rb\") as f:\n",
    "        neighborhood_cache = pickle.load(f)\n",
    "    print(\"Loaded neighborhood cache.\")\n",
    "except FileNotFoundError:\n",
    "    neighborhood_cache = {}\n",
    "    print(\"No neighborhood cache found; starting fresh.\")\n",
    "\n",
    "def get_neighborhood(lat, lon):\n",
    "    \"\"\"\n",
    "    Reverse geocodes a latitude and longitude to retrieve the neighborhood.\n",
    "    Caches results to speed up subsequent lookups.\n",
    "    \"\"\"\n",
    "    key = (lat, lon)\n",
    "    if key in neighborhood_cache:\n",
    "        return neighborhood_cache[key]\n",
    "    \n",
    "    try:\n",
    "        result = gmaps.reverse_geocode((lat, lon))\n",
    "        if result:\n",
    "            # Look for the 'neighborhood' component in the first result.\n",
    "            for component in result[0]['address_components']:\n",
    "                if 'neighborhood' in component['types']:\n",
    "                    neighborhood = component['long_name']\n",
    "                    neighborhood_cache[key] = neighborhood\n",
    "                    return neighborhood\n",
    "            # If no neighborhood is found, return \"N/A\"\n",
    "            neighborhood_cache[key] = \"N/A\"\n",
    "            return \"N/A\"\n",
    "    except Exception as e:\n",
    "        print(f\"Error getting neighborhood for {lat}, {lon}: {e}\")\n",
    "        return \"N/A\"\n",
    "    \n",
    "    # Pause to respect usage limits.\n",
    "    time.sleep(1)\n",
    "\n",
    "# Example usage: Apply to your DataFrame 'df' that already has 'lat' and 'lon' columns.\n",
    "df['neighborhood'] = df.apply(lambda row: get_neighborhood(row['lat'], row['lon']), axis=1)\n",
    "\n",
    "# Save the updated neighborhood cache.\n",
    "with open(\"neighborhood_cache.pkl\", \"wb\") as f:\n",
    "    pickle.dump(neighborhood_cache, f)\n",
    "\n",
    "df.head()\n"
   ]
  },
  {
   "cell_type": "markdown",
   "id": "bbb42508",
   "metadata": {
    "papermill": {
     "duration": 0.004904,
     "end_time": "2025-06-15T01:12:36.098368",
     "exception": false,
     "start_time": "2025-06-15T01:12:36.093464",
     "status": "completed"
    },
    "tags": []
   },
   "source": [
    "### Zip"
   ]
  },
  {
   "cell_type": "code",
   "execution_count": 11,
   "id": "299468c2",
   "metadata": {
    "execution": {
     "iopub.execute_input": "2025-06-15T01:12:36.109239Z",
     "iopub.status.busy": "2025-06-15T01:12:36.108749Z",
     "iopub.status.idle": "2025-06-15T01:12:53.373705Z",
     "shell.execute_reply": "2025-06-15T01:12:53.372981Z"
    },
    "papermill": {
     "duration": 17.271477,
     "end_time": "2025-06-15T01:12:53.374714",
     "exception": false,
     "start_time": "2025-06-15T01:12:36.103237",
     "status": "completed"
    },
    "tags": []
   },
   "outputs": [
    {
     "name": "stdout",
     "output_type": "stream",
     "text": [
      "Loaded zip cache.\n",
      "Error getting ZIP for nan, nan: Must be a coordinate pair or Point\n"
     ]
    },
    {
     "name": "stdout",
     "output_type": "stream",
     "text": [
      "Error getting ZIP for nan, nan: Must be a coordinate pair or Point\n"
     ]
    },
    {
     "name": "stdout",
     "output_type": "stream",
     "text": [
      "Error getting ZIP for nan, nan: Must be a coordinate pair or Point\n"
     ]
    },
    {
     "name": "stdout",
     "output_type": "stream",
     "text": [
      "Error getting ZIP for nan, nan: Must be a coordinate pair or Point\n"
     ]
    },
    {
     "name": "stdout",
     "output_type": "stream",
     "text": [
      "Error getting ZIP for nan, nan: Must be a coordinate pair or Point\n"
     ]
    },
    {
     "name": "stdout",
     "output_type": "stream",
     "text": [
      "Error getting ZIP for nan, nan: Must be a coordinate pair or Point\n"
     ]
    },
    {
     "name": "stdout",
     "output_type": "stream",
     "text": [
      "Error getting ZIP for nan, nan: Must be a coordinate pair or Point\n"
     ]
    },
    {
     "name": "stdout",
     "output_type": "stream",
     "text": [
      "Error getting ZIP for nan, nan: Must be a coordinate pair or Point\n"
     ]
    },
    {
     "name": "stdout",
     "output_type": "stream",
     "text": [
      "Error getting ZIP for nan, nan: Must be a coordinate pair or Point\n"
     ]
    },
    {
     "name": "stdout",
     "output_type": "stream",
     "text": [
      "Error getting ZIP for nan, nan: Must be a coordinate pair or Point\n"
     ]
    },
    {
     "name": "stdout",
     "output_type": "stream",
     "text": [
      "Error getting ZIP for nan, nan: Must be a coordinate pair or Point\n"
     ]
    },
    {
     "name": "stdout",
     "output_type": "stream",
     "text": [
      "Error getting ZIP for nan, nan: Must be a coordinate pair or Point\n"
     ]
    },
    {
     "name": "stdout",
     "output_type": "stream",
     "text": [
      "Error getting ZIP for nan, nan: Must be a coordinate pair or Point\n"
     ]
    },
    {
     "name": "stdout",
     "output_type": "stream",
     "text": [
      "Error getting ZIP for nan, nan: Must be a coordinate pair or Point\n"
     ]
    },
    {
     "name": "stdout",
     "output_type": "stream",
     "text": [
      "Error getting ZIP for nan, nan: Must be a coordinate pair or Point\n"
     ]
    },
    {
     "name": "stdout",
     "output_type": "stream",
     "text": [
      "Error getting ZIP for nan, nan: Must be a coordinate pair or Point\n"
     ]
    },
    {
     "name": "stdout",
     "output_type": "stream",
     "text": [
      "Error getting ZIP for nan, nan: Must be a coordinate pair or Point\n"
     ]
    },
    {
     "data": {
      "text/html": [
       "<div>\n",
       "<style scoped>\n",
       "    .dataframe tbody tr th:only-of-type {\n",
       "        vertical-align: middle;\n",
       "    }\n",
       "\n",
       "    .dataframe tbody tr th {\n",
       "        vertical-align: top;\n",
       "    }\n",
       "\n",
       "    .dataframe thead th {\n",
       "        text-align: right;\n",
       "    }\n",
       "</style>\n",
       "<table border=\"1\" class=\"dataframe\">\n",
       "  <thead>\n",
       "    <tr style=\"text-align: right;\">\n",
       "      <th></th>\n",
       "      <th>RecordID</th>\n",
       "      <th>Offense</th>\n",
       "      <th>IncidentID</th>\n",
       "      <th>BlockNumber</th>\n",
       "      <th>StreetName</th>\n",
       "      <th>Agency</th>\n",
       "      <th>HourReported</th>\n",
       "      <th>ReportingOfficer</th>\n",
       "      <th>Date</th>\n",
       "      <th>DateString</th>\n",
       "      <th>DayOfWeek</th>\n",
       "      <th>Weekend</th>\n",
       "      <th>Season</th>\n",
       "      <th>HourAMPM</th>\n",
       "      <th>TimeOfDay</th>\n",
       "      <th>FullStreet</th>\n",
       "      <th>lat</th>\n",
       "      <th>lon</th>\n",
       "      <th>neighborhood</th>\n",
       "      <th>zip</th>\n",
       "    </tr>\n",
       "  </thead>\n",
       "  <tbody>\n",
       "    <tr>\n",
       "      <th>0</th>\n",
       "      <td>1</td>\n",
       "      <td>Hit and Run</td>\n",
       "      <td>202500020231</td>\n",
       "      <td>1300</td>\n",
       "      <td>LONG ST, 4</td>\n",
       "      <td>CPD</td>\n",
       "      <td>2013</td>\n",
       "      <td>Reed, Danielle</td>\n",
       "      <td>2025-06-12 20:13:02</td>\n",
       "      <td>2025-06-12 08:13:02 PM</td>\n",
       "      <td>Thursday</td>\n",
       "      <td>False</td>\n",
       "      <td>Spring</td>\n",
       "      <td>08:13 PM</td>\n",
       "      <td>Evening</td>\n",
       "      <td>1300 LONG ST, 4</td>\n",
       "      <td>38.035438</td>\n",
       "      <td>-78.462875</td>\n",
       "      <td>Martha Jefferson</td>\n",
       "      <td>22901</td>\n",
       "    </tr>\n",
       "    <tr>\n",
       "      <th>1</th>\n",
       "      <td>2</td>\n",
       "      <td>Assist Citizen - Mental/TDO/ECO</td>\n",
       "      <td>202500020205</td>\n",
       "      <td>600</td>\n",
       "      <td>E MARKET ST</td>\n",
       "      <td>CPD</td>\n",
       "      <td>1707</td>\n",
       "      <td>Abdelgayed, Adam</td>\n",
       "      <td>2025-06-12 17:07:28</td>\n",
       "      <td>2025-06-12 05:07:28 PM</td>\n",
       "      <td>Thursday</td>\n",
       "      <td>False</td>\n",
       "      <td>Spring</td>\n",
       "      <td>05:07 PM</td>\n",
       "      <td>Evening</td>\n",
       "      <td>600 E MARKET ST</td>\n",
       "      <td>38.030175</td>\n",
       "      <td>-78.477574</td>\n",
       "      <td>Downtown Mall</td>\n",
       "      <td>22902</td>\n",
       "    </tr>\n",
       "    <tr>\n",
       "      <th>2</th>\n",
       "      <td>3</td>\n",
       "      <td>Assist Citizen - Mental/TDO/ECO</td>\n",
       "      <td>202500020203</td>\n",
       "      <td>700</td>\n",
       "      <td>WALKER SQ, 3B</td>\n",
       "      <td>CPD</td>\n",
       "      <td>1632</td>\n",
       "      <td>Bentz, Benjamin</td>\n",
       "      <td>2025-06-12 16:32:44</td>\n",
       "      <td>2025-06-12 04:32:44 PM</td>\n",
       "      <td>Thursday</td>\n",
       "      <td>False</td>\n",
       "      <td>Spring</td>\n",
       "      <td>04:32 PM</td>\n",
       "      <td>Afternoon</td>\n",
       "      <td>700 WALKER SQ, 3B</td>\n",
       "      <td>38.030445</td>\n",
       "      <td>-78.491372</td>\n",
       "      <td>Fifeville</td>\n",
       "      <td>22903</td>\n",
       "    </tr>\n",
       "    <tr>\n",
       "      <th>3</th>\n",
       "      <td>4</td>\n",
       "      <td>Larceny - All Other</td>\n",
       "      <td>202500020199</td>\n",
       "      <td>1400</td>\n",
       "      <td>LONG ST</td>\n",
       "      <td>CPD</td>\n",
       "      <td>1606</td>\n",
       "      <td>Hannay, Jacob</td>\n",
       "      <td>2025-06-12 16:06:26</td>\n",
       "      <td>2025-06-12 04:06:26 PM</td>\n",
       "      <td>Thursday</td>\n",
       "      <td>False</td>\n",
       "      <td>Spring</td>\n",
       "      <td>04:06 PM</td>\n",
       "      <td>Afternoon</td>\n",
       "      <td>1400 LONG ST</td>\n",
       "      <td>38.035016</td>\n",
       "      <td>-78.459915</td>\n",
       "      <td>Martha Jefferson</td>\n",
       "      <td>22902</td>\n",
       "    </tr>\n",
       "    <tr>\n",
       "      <th>4</th>\n",
       "      <td>5</td>\n",
       "      <td>Hit and Run</td>\n",
       "      <td>202500020189</td>\n",
       "      <td>1400</td>\n",
       "      <td>GRACE ST</td>\n",
       "      <td>CPD</td>\n",
       "      <td>1504</td>\n",
       "      <td>Eckenroth, Rachel</td>\n",
       "      <td>2025-06-12 15:04:01</td>\n",
       "      <td>2025-06-12 03:04:01 PM</td>\n",
       "      <td>Thursday</td>\n",
       "      <td>False</td>\n",
       "      <td>Spring</td>\n",
       "      <td>03:04 PM</td>\n",
       "      <td>Afternoon</td>\n",
       "      <td>1400 GRACE ST</td>\n",
       "      <td>38.034469</td>\n",
       "      <td>-78.464642</td>\n",
       "      <td>Martha Jefferson</td>\n",
       "      <td>22902</td>\n",
       "    </tr>\n",
       "  </tbody>\n",
       "</table>\n",
       "</div>"
      ],
      "text/plain": [
       "   RecordID                          Offense    IncidentID BlockNumber  \\\n",
       "0         1                      Hit and Run  202500020231        1300   \n",
       "1         2  Assist Citizen - Mental/TDO/ECO  202500020205         600   \n",
       "2         3  Assist Citizen - Mental/TDO/ECO  202500020203         700   \n",
       "3         4              Larceny - All Other  202500020199        1400   \n",
       "4         5                      Hit and Run  202500020189        1400   \n",
       "\n",
       "      StreetName Agency HourReported   ReportingOfficer                Date  \\\n",
       "0     LONG ST, 4    CPD         2013     Reed, Danielle 2025-06-12 20:13:02   \n",
       "1    E MARKET ST    CPD         1707   Abdelgayed, Adam 2025-06-12 17:07:28   \n",
       "2  WALKER SQ, 3B    CPD         1632   Bentz, Benjamin  2025-06-12 16:32:44   \n",
       "3        LONG ST    CPD         1606      Hannay, Jacob 2025-06-12 16:06:26   \n",
       "4       GRACE ST    CPD         1504  Eckenroth, Rachel 2025-06-12 15:04:01   \n",
       "\n",
       "               DateString DayOfWeek  Weekend  Season  HourAMPM  TimeOfDay  \\\n",
       "0  2025-06-12 08:13:02 PM  Thursday    False  Spring  08:13 PM    Evening   \n",
       "1  2025-06-12 05:07:28 PM  Thursday    False  Spring  05:07 PM    Evening   \n",
       "2  2025-06-12 04:32:44 PM  Thursday    False  Spring  04:32 PM  Afternoon   \n",
       "3  2025-06-12 04:06:26 PM  Thursday    False  Spring  04:06 PM  Afternoon   \n",
       "4  2025-06-12 03:04:01 PM  Thursday    False  Spring  03:04 PM  Afternoon   \n",
       "\n",
       "          FullStreet        lat        lon      neighborhood    zip  \n",
       "0    1300 LONG ST, 4  38.035438 -78.462875  Martha Jefferson  22901  \n",
       "1    600 E MARKET ST  38.030175 -78.477574     Downtown Mall  22902  \n",
       "2  700 WALKER SQ, 3B  38.030445 -78.491372         Fifeville  22903  \n",
       "3       1400 LONG ST  38.035016 -78.459915  Martha Jefferson  22902  \n",
       "4      1400 GRACE ST  38.034469 -78.464642  Martha Jefferson  22902  "
      ]
     },
     "execution_count": 11,
     "metadata": {},
     "output_type": "execute_result"
    }
   ],
   "source": [
    "# Initialize the geocoder.\n",
    "geolocator = Nominatim(user_agent=\"zip_lookup\")\n",
    "\n",
    "# Try to load a persistent ZIP cache if available.\n",
    "try:\n",
    "    with open(\"zip_cache.pkl\", \"rb\") as f:\n",
    "        zip_cache = pickle.load(f)\n",
    "    print(\"Loaded zip cache.\")\n",
    "except FileNotFoundError:\n",
    "    zip_cache = {}\n",
    "    print(\"No zip cache found; starting fresh.\")\n",
    "\n",
    "def get_zip(lat, lon):\n",
    "    \"\"\"\n",
    "    Reverse geocodes a latitude and longitude to retrieve the ZIP code.\n",
    "    Caches results to speed up subsequent lookups.\n",
    "    \"\"\"\n",
    "    key = (lat, lon)\n",
    "    if key in zip_cache:\n",
    "        return zip_cache[key]\n",
    "    \n",
    "    try:\n",
    "        location = geolocator.reverse((lat, lon), exactly_one=True, timeout=10)\n",
    "        address = location.raw.get('address', {})\n",
    "        postal_code = address.get('postcode', \"N/A\")\n",
    "    except Exception as e:\n",
    "        print(f\"Error getting ZIP for {lat}, {lon}: {e}\")\n",
    "        postal_code = \"N/A\"\n",
    "    \n",
    "    zip_cache[key] = postal_code\n",
    "    # Pause to respect the usage policy.\n",
    "    time.sleep(1)\n",
    "    return postal_code\n",
    "\n",
    "# Apply the function to each row in the DataFrame.\n",
    "df['zip'] = df.apply(lambda row: get_zip(row['lat'], row['lon']), axis=1)\n",
    "\n",
    "# Save the updated ZIP cache.\n",
    "with open(\"zip_cache.pkl\", \"wb\") as f:\n",
    "    pickle.dump(zip_cache, f)\n",
    "\n",
    "df.head()\n"
   ]
  },
  {
   "cell_type": "code",
   "execution_count": 12,
   "id": "fb0cf205",
   "metadata": {
    "execution": {
     "iopub.execute_input": "2025-06-15T01:12:53.387924Z",
     "iopub.status.busy": "2025-06-15T01:12:53.387422Z",
     "iopub.status.idle": "2025-06-15T01:12:53.415425Z",
     "shell.execute_reply": "2025-06-15T01:12:53.414882Z"
    },
    "papermill": {
     "duration": 0.03552,
     "end_time": "2025-06-15T01:12:53.416525",
     "exception": false,
     "start_time": "2025-06-15T01:12:53.381005",
     "status": "completed"
    },
    "tags": []
   },
   "outputs": [
    {
     "name": "stdout",
     "output_type": "stream",
     "text": [
      "                  MissingCount  MissingPercentage\n",
      "RecordID                     0               0.00\n",
      "Offense                      0               0.00\n",
      "IncidentID                   0               0.00\n",
      "BlockNumber                  0               0.00\n",
      "StreetName                   0               0.00\n",
      "Agency                       0               0.00\n",
      "HourReported                 0               0.00\n",
      "ReportingOfficer            17               0.07\n",
      "Date                         0               0.00\n",
      "DateString                   0               0.00\n",
      "DayOfWeek                    0               0.00\n",
      "Weekend                      0               0.00\n",
      "Season                       0               0.00\n",
      "HourAMPM                     0               0.00\n",
      "TimeOfDay                    0               0.00\n",
      "FullStreet                   0               0.00\n",
      "lat                         17               0.07\n",
      "lon                         17               0.07\n",
      "neighborhood                 0               0.00\n",
      "zip                          0               0.00\n"
     ]
    }
   ],
   "source": [
    "missing_info = missing_percentage(df)\n",
    "print(missing_info)\n"
   ]
  },
  {
   "cell_type": "code",
   "execution_count": 13,
   "id": "4c3a3a0d",
   "metadata": {
    "execution": {
     "iopub.execute_input": "2025-06-15T01:12:53.429593Z",
     "iopub.status.busy": "2025-06-15T01:12:53.429142Z",
     "iopub.status.idle": "2025-06-15T01:12:53.456813Z",
     "shell.execute_reply": "2025-06-15T01:12:53.456231Z"
    },
    "papermill": {
     "duration": 0.035248,
     "end_time": "2025-06-15T01:12:53.457857",
     "exception": false,
     "start_time": "2025-06-15T01:12:53.422609",
     "status": "completed"
    },
    "tags": []
   },
   "outputs": [
    {
     "name": "stdout",
     "output_type": "stream",
     "text": [
      "<class 'pandas.core.frame.DataFrame'>\n",
      "RangeIndex: 25515 entries, 0 to 25514\n",
      "Data columns (total 20 columns):\n",
      " #   Column            Non-Null Count  Dtype         \n",
      "---  ------            --------------  -----         \n",
      " 0   RecordID          25515 non-null  int64         \n",
      " 1   Offense           25515 non-null  object        \n",
      " 2   IncidentID        25515 non-null  object        \n",
      " 3   BlockNumber       25515 non-null  object        \n",
      " 4   StreetName        25515 non-null  object        \n",
      " 5   Agency            25515 non-null  object        \n",
      " 6   HourReported      25515 non-null  object        \n",
      " 7   ReportingOfficer  25498 non-null  object        \n",
      " 8   Date              25515 non-null  datetime64[ns]\n",
      " 9   DateString        25515 non-null  object        \n",
      " 10  DayOfWeek         25515 non-null  object        \n",
      " 11  Weekend           25515 non-null  bool          \n",
      " 12  Season            25515 non-null  object        \n",
      " 13  HourAMPM          25515 non-null  object        \n",
      " 14  TimeOfDay         25515 non-null  object        \n",
      " 15  FullStreet        25515 non-null  object        \n",
      " 16  lat               25498 non-null  float64       \n",
      " 17  lon               25498 non-null  float64       \n",
      " 18  neighborhood      25515 non-null  object        \n",
      " 19  zip               25515 non-null  object        \n",
      "dtypes: bool(1), datetime64[ns](1), float64(2), int64(1), object(15)\n",
      "memory usage: 3.7+ MB\n"
     ]
    }
   ],
   "source": [
    "df.info()"
   ]
  },
  {
   "cell_type": "code",
   "execution_count": 14,
   "id": "e008b779",
   "metadata": {
    "execution": {
     "iopub.execute_input": "2025-06-15T01:12:53.470805Z",
     "iopub.status.busy": "2025-06-15T01:12:53.470612Z",
     "iopub.status.idle": "2025-06-15T01:12:53.514426Z",
     "shell.execute_reply": "2025-06-15T01:12:53.513842Z"
    },
    "papermill": {
     "duration": 0.051569,
     "end_time": "2025-06-15T01:12:53.515548",
     "exception": false,
     "start_time": "2025-06-15T01:12:53.463979",
     "status": "completed"
    },
    "tags": []
   },
   "outputs": [
    {
     "data": {
      "text/html": [
       "<div>\n",
       "<style scoped>\n",
       "    .dataframe tbody tr th:only-of-type {\n",
       "        vertical-align: middle;\n",
       "    }\n",
       "\n",
       "    .dataframe tbody tr th {\n",
       "        vertical-align: top;\n",
       "    }\n",
       "\n",
       "    .dataframe thead th {\n",
       "        text-align: right;\n",
       "    }\n",
       "</style>\n",
       "<table border=\"1\" class=\"dataframe\">\n",
       "  <thead>\n",
       "    <tr style=\"text-align: right;\">\n",
       "      <th></th>\n",
       "      <th>RecordID</th>\n",
       "      <th>Offense</th>\n",
       "      <th>IncidentID</th>\n",
       "      <th>Agency</th>\n",
       "      <th>ReportingOfficer</th>\n",
       "      <th>Date</th>\n",
       "      <th>DayOfWeek</th>\n",
       "      <th>Weekend</th>\n",
       "      <th>Season</th>\n",
       "      <th>TimeOfDay</th>\n",
       "      <th>FullStreet</th>\n",
       "      <th>lat</th>\n",
       "      <th>lon</th>\n",
       "      <th>neighborhood</th>\n",
       "      <th>zip</th>\n",
       "    </tr>\n",
       "  </thead>\n",
       "  <tbody>\n",
       "    <tr>\n",
       "      <th>0</th>\n",
       "      <td>1</td>\n",
       "      <td>Hit and Run</td>\n",
       "      <td>202500020231</td>\n",
       "      <td>CPD</td>\n",
       "      <td>Reed, Danielle</td>\n",
       "      <td>2025-06-12 20:13:02</td>\n",
       "      <td>Thursday</td>\n",
       "      <td>False</td>\n",
       "      <td>Spring</td>\n",
       "      <td>Evening</td>\n",
       "      <td>1300 LONG ST, 4</td>\n",
       "      <td>38.035438</td>\n",
       "      <td>-78.462875</td>\n",
       "      <td>Martha Jefferson</td>\n",
       "      <td>22901</td>\n",
       "    </tr>\n",
       "    <tr>\n",
       "      <th>1</th>\n",
       "      <td>2</td>\n",
       "      <td>Assist Citizen - Mental/TDO/ECO</td>\n",
       "      <td>202500020205</td>\n",
       "      <td>CPD</td>\n",
       "      <td>Abdelgayed, Adam</td>\n",
       "      <td>2025-06-12 17:07:28</td>\n",
       "      <td>Thursday</td>\n",
       "      <td>False</td>\n",
       "      <td>Spring</td>\n",
       "      <td>Evening</td>\n",
       "      <td>600 E MARKET ST</td>\n",
       "      <td>38.030175</td>\n",
       "      <td>-78.477574</td>\n",
       "      <td>Downtown Mall</td>\n",
       "      <td>22902</td>\n",
       "    </tr>\n",
       "    <tr>\n",
       "      <th>2</th>\n",
       "      <td>3</td>\n",
       "      <td>Assist Citizen - Mental/TDO/ECO</td>\n",
       "      <td>202500020203</td>\n",
       "      <td>CPD</td>\n",
       "      <td>Bentz, Benjamin</td>\n",
       "      <td>2025-06-12 16:32:44</td>\n",
       "      <td>Thursday</td>\n",
       "      <td>False</td>\n",
       "      <td>Spring</td>\n",
       "      <td>Afternoon</td>\n",
       "      <td>700 WALKER SQ, 3B</td>\n",
       "      <td>38.030445</td>\n",
       "      <td>-78.491372</td>\n",
       "      <td>Fifeville</td>\n",
       "      <td>22903</td>\n",
       "    </tr>\n",
       "    <tr>\n",
       "      <th>3</th>\n",
       "      <td>4</td>\n",
       "      <td>Larceny - All Other</td>\n",
       "      <td>202500020199</td>\n",
       "      <td>CPD</td>\n",
       "      <td>Hannay, Jacob</td>\n",
       "      <td>2025-06-12 16:06:26</td>\n",
       "      <td>Thursday</td>\n",
       "      <td>False</td>\n",
       "      <td>Spring</td>\n",
       "      <td>Afternoon</td>\n",
       "      <td>1400 LONG ST</td>\n",
       "      <td>38.035016</td>\n",
       "      <td>-78.459915</td>\n",
       "      <td>Martha Jefferson</td>\n",
       "      <td>22902</td>\n",
       "    </tr>\n",
       "    <tr>\n",
       "      <th>4</th>\n",
       "      <td>5</td>\n",
       "      <td>Hit and Run</td>\n",
       "      <td>202500020189</td>\n",
       "      <td>CPD</td>\n",
       "      <td>Eckenroth, Rachel</td>\n",
       "      <td>2025-06-12 15:04:01</td>\n",
       "      <td>Thursday</td>\n",
       "      <td>False</td>\n",
       "      <td>Spring</td>\n",
       "      <td>Afternoon</td>\n",
       "      <td>1400 GRACE ST</td>\n",
       "      <td>38.034469</td>\n",
       "      <td>-78.464642</td>\n",
       "      <td>Martha Jefferson</td>\n",
       "      <td>22902</td>\n",
       "    </tr>\n",
       "  </tbody>\n",
       "</table>\n",
       "</div>"
      ],
      "text/plain": [
       "   RecordID                          Offense    IncidentID Agency  \\\n",
       "0         1                      Hit and Run  202500020231    CPD   \n",
       "1         2  Assist Citizen - Mental/TDO/ECO  202500020205    CPD   \n",
       "2         3  Assist Citizen - Mental/TDO/ECO  202500020203    CPD   \n",
       "3         4              Larceny - All Other  202500020199    CPD   \n",
       "4         5                      Hit and Run  202500020189    CPD   \n",
       "\n",
       "    ReportingOfficer                Date DayOfWeek  Weekend  Season  \\\n",
       "0     Reed, Danielle 2025-06-12 20:13:02  Thursday    False  Spring   \n",
       "1   Abdelgayed, Adam 2025-06-12 17:07:28  Thursday    False  Spring   \n",
       "2   Bentz, Benjamin  2025-06-12 16:32:44  Thursday    False  Spring   \n",
       "3      Hannay, Jacob 2025-06-12 16:06:26  Thursday    False  Spring   \n",
       "4  Eckenroth, Rachel 2025-06-12 15:04:01  Thursday    False  Spring   \n",
       "\n",
       "   TimeOfDay         FullStreet        lat        lon      neighborhood    zip  \n",
       "0    Evening    1300 LONG ST, 4  38.035438 -78.462875  Martha Jefferson  22901  \n",
       "1    Evening    600 E MARKET ST  38.030175 -78.477574     Downtown Mall  22902  \n",
       "2  Afternoon  700 WALKER SQ, 3B  38.030445 -78.491372         Fifeville  22903  \n",
       "3  Afternoon       1400 LONG ST  38.035016 -78.459915  Martha Jefferson  22902  \n",
       "4  Afternoon      1400 GRACE ST  38.034469 -78.464642  Martha Jefferson  22902  "
      ]
     },
     "execution_count": 14,
     "metadata": {},
     "output_type": "execute_result"
    }
   ],
   "source": [
    "# Now drop the original BlockNumber and StreetName columns\n",
    "df.drop(columns=['BlockNumber', 'StreetName','HourAMPM','HourReported','DateString'], inplace=True)\n",
    "df[\"zip\"] = df[\"zip\"].astype(str)\n",
    "\n",
    "# Fill all missing values in the DataFrame with \"N/A\"\n",
    "df.replace({None: \"N/A\", np.nan: \"N/A\", \"\": \"N/A\"}, inplace=True)\n",
    "df.head()"
   ]
  },
  {
   "cell_type": "code",
   "execution_count": 15,
   "id": "9728aac8",
   "metadata": {
    "execution": {
     "iopub.execute_input": "2025-06-15T01:12:53.529590Z",
     "iopub.status.busy": "2025-06-15T01:12:53.529107Z",
     "iopub.status.idle": "2025-06-15T01:12:53.547946Z",
     "shell.execute_reply": "2025-06-15T01:12:53.547391Z"
    },
    "papermill": {
     "duration": 0.026739,
     "end_time": "2025-06-15T01:12:53.548993",
     "exception": false,
     "start_time": "2025-06-15T01:12:53.522254",
     "status": "completed"
    },
    "tags": []
   },
   "outputs": [
    {
     "name": "stdout",
     "output_type": "stream",
     "text": [
      "                  MissingCount  MissingPercentage\n",
      "RecordID                     0                0.0\n",
      "Offense                      0                0.0\n",
      "IncidentID                   0                0.0\n",
      "Agency                       0                0.0\n",
      "ReportingOfficer             0                0.0\n",
      "Date                         0                0.0\n",
      "DayOfWeek                    0                0.0\n",
      "Weekend                      0                0.0\n",
      "Season                       0                0.0\n",
      "TimeOfDay                    0                0.0\n",
      "FullStreet                   0                0.0\n",
      "lat                          0                0.0\n",
      "lon                          0                0.0\n",
      "neighborhood                 0                0.0\n",
      "zip                          0                0.0\n"
     ]
    }
   ],
   "source": [
    "missing_info = missing_percentage(df)\n",
    "print(missing_info)"
   ]
  },
  {
   "cell_type": "code",
   "execution_count": 16,
   "id": "1f72b739",
   "metadata": {
    "execution": {
     "iopub.execute_input": "2025-06-15T01:12:53.562672Z",
     "iopub.status.busy": "2025-06-15T01:12:53.562242Z",
     "iopub.status.idle": "2025-06-15T01:12:53.566818Z",
     "shell.execute_reply": "2025-06-15T01:12:53.566258Z"
    },
    "papermill": {
     "duration": 0.012432,
     "end_time": "2025-06-15T01:12:53.567861",
     "exception": false,
     "start_time": "2025-06-15T01:12:53.555429",
     "status": "completed"
    },
    "tags": []
   },
   "outputs": [
    {
     "data": {
      "text/plain": [
       "Index(['RecordID', 'Offense', 'IncidentID', 'Agency', 'ReportingOfficer',\n",
       "       'Date', 'DayOfWeek', 'Weekend', 'Season', 'TimeOfDay', 'FullStreet',\n",
       "       'lat', 'lon', 'neighborhood', 'zip'],\n",
       "      dtype='object')"
      ]
     },
     "execution_count": 16,
     "metadata": {},
     "output_type": "execute_result"
    }
   ],
   "source": [
    "df.columns"
   ]
  },
  {
   "cell_type": "code",
   "execution_count": 17,
   "id": "64cbe4d0",
   "metadata": {
    "execution": {
     "iopub.execute_input": "2025-06-15T01:12:53.581592Z",
     "iopub.status.busy": "2025-06-15T01:12:53.581368Z",
     "iopub.status.idle": "2025-06-15T01:12:53.603186Z",
     "shell.execute_reply": "2025-06-15T01:12:53.602642Z"
    },
    "papermill": {
     "duration": 0.029761,
     "end_time": "2025-06-15T01:12:53.604156",
     "exception": false,
     "start_time": "2025-06-15T01:12:53.574395",
     "status": "completed"
    },
    "tags": []
   },
   "outputs": [
    {
     "name": "stdout",
     "output_type": "stream",
     "text": [
      "<class 'pandas.core.frame.DataFrame'>\n",
      "RangeIndex: 25515 entries, 0 to 25514\n",
      "Data columns (total 15 columns):\n",
      " #   Column            Non-Null Count  Dtype         \n",
      "---  ------            --------------  -----         \n",
      " 0   RecordID          25515 non-null  int64         \n",
      " 1   Offense           25515 non-null  object        \n",
      " 2   IncidentID        25515 non-null  object        \n",
      " 3   Agency            25515 non-null  object        \n",
      " 4   ReportingOfficer  25515 non-null  object        \n",
      " 5   Date              25515 non-null  datetime64[ns]\n",
      " 6   DayOfWeek         25515 non-null  object        \n",
      " 7   Weekend           25515 non-null  bool          \n",
      " 8   Season            25515 non-null  object        \n",
      " 9   TimeOfDay         25515 non-null  object        \n",
      " 10  FullStreet        25515 non-null  object        \n",
      " 11  lat               25515 non-null  object        \n",
      " 12  lon               25515 non-null  object        \n",
      " 13  neighborhood      25515 non-null  object        \n",
      " 14  zip               25515 non-null  object        \n",
      "dtypes: bool(1), datetime64[ns](1), int64(1), object(12)\n",
      "memory usage: 2.7+ MB\n"
     ]
    }
   ],
   "source": [
    "df.info()"
   ]
  },
  {
   "cell_type": "markdown",
   "id": "b491f2d3",
   "metadata": {
    "papermill": {
     "duration": 0.006339,
     "end_time": "2025-06-15T01:12:53.617336",
     "exception": false,
     "start_time": "2025-06-15T01:12:53.610997",
     "status": "completed"
    },
    "tags": []
   },
   "source": [
    "### Export Clean Data"
   ]
  },
  {
   "cell_type": "code",
   "execution_count": 18,
   "id": "7ce8dc60",
   "metadata": {
    "execution": {
     "iopub.execute_input": "2025-06-15T01:12:53.631543Z",
     "iopub.status.busy": "2025-06-15T01:12:53.631114Z",
     "iopub.status.idle": "2025-06-15T01:13:02.868116Z",
     "shell.execute_reply": "2025-06-15T01:13:02.867332Z"
    },
    "papermill": {
     "duration": 9.245328,
     "end_time": "2025-06-15T01:13:02.869269",
     "exception": false,
     "start_time": "2025-06-15T01:12:53.623941",
     "status": "completed"
    },
    "tags": []
   },
   "outputs": [
    {
     "name": "stdout",
     "output_type": "stream",
     "text": [
      "Project Root: /home/runner/work/crime-data/crime-data\n"
     ]
    },
    {
     "name": "stdout",
     "output_type": "stream",
     "text": [
      "Data saved to: /home/runner/work/crime-data/crime-data/data/charlottesville_crime_incidents.csv\n"
     ]
    },
    {
     "name": "stdout",
     "output_type": "stream",
     "text": [
      "Excel saved to: /home/runner/work/crime-data/crime-data/data/charlottesville_crime_incidents.xlsx\n"
     ]
    }
   ],
   "source": [
    "# Determine the project root (assuming papermill is run from the repository root)\n",
    "project_root = os.getcwd()\n",
    "print(\"Project Root:\", project_root)\n",
    "\n",
    "# Set the data directory within the project root\n",
    "data_dir = os.path.join(project_root, \"data\")\n",
    "\n",
    "# Ensure the \"data\" directory exists (create it if it doesn't)\n",
    "if not os.path.exists(data_dir):\n",
    "    os.makedirs(data_dir)\n",
    "\n",
    "# Export the DataFrame to CSV in the \"data\" folder located in the project root\n",
    "csv_path = os.path.join(data_dir, \"charlottesville_crime_incidents.csv\")\n",
    "df.to_csv(csv_path, index=False)\n",
    "print(\"Data saved to:\", csv_path)\n",
    "\n",
    "# Construct the path to your Excel file\n",
    "excel_path = os.path.join(data_dir, \"charlottesville_crime_incidents.xlsx\")\n",
    "\n",
    "# Export the DataFrame to Excel\n",
    "df.to_excel(excel_path, index=False)\n",
    "print(\"Excel saved to:\", excel_path)\n"
   ]
  }
 ],
 "metadata": {
  "kernelspec": {
   "display_name": "Python 3",
   "language": "python",
   "name": "python3"
  },
  "language_info": {
   "codemirror_mode": {
    "name": "ipython",
    "version": 3
   },
   "file_extension": ".py",
   "mimetype": "text/x-python",
   "name": "python",
   "nbconvert_exporter": "python",
   "pygments_lexer": "ipython3",
   "version": "3.9.23"
  },
  "papermill": {
   "default_parameters": {},
   "duration": 95.356208,
   "end_time": "2025-06-15T01:13:03.292642",
   "environment_variables": {},
   "exception": null,
   "input_path": "notebook/Crime Data.ipynb",
   "output_path": "notebook/Crime Data_output.ipynb",
   "parameters": {},
   "start_time": "2025-06-15T01:11:27.936434",
   "version": "2.6.0"
  }
 },
 "nbformat": 4,
 "nbformat_minor": 5
}