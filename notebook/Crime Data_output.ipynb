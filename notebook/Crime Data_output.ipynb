{
 "cells": [
  {
   "cell_type": "markdown",
   "id": "821c14ed",
   "metadata": {
    "papermill": {
     "duration": 0.004243,
     "end_time": "2025-09-09T00:59:27.664254",
     "exception": false,
     "start_time": "2025-09-09T00:59:27.660011",
     "status": "completed"
    },
    "tags": []
   },
   "source": [
    "# Charlottesville Open Data Porttal: Crime Data"
   ]
  },
  {
   "cell_type": "markdown",
   "id": "97f5a2c8",
   "metadata": {
    "papermill": {
     "duration": 0.004293,
     "end_time": "2025-09-09T00:59:27.672181",
     "exception": false,
     "start_time": "2025-09-09T00:59:27.667888",
     "status": "completed"
    },
    "tags": []
   },
   "source": [
    "## Import Relevant Librarires & Set WD"
   ]
  },
  {
   "cell_type": "code",
   "execution_count": 1,
   "id": "59e44c9b",
   "metadata": {
    "execution": {
     "iopub.execute_input": "2025-09-09T00:59:27.679738Z",
     "iopub.status.busy": "2025-09-09T00:59:27.679464Z",
     "iopub.status.idle": "2025-09-09T00:59:28.313150Z",
     "shell.execute_reply": "2025-09-09T00:59:28.312515Z"
    },
    "papermill": {
     "duration": 0.639066,
     "end_time": "2025-09-09T00:59:28.314508",
     "exception": false,
     "start_time": "2025-09-09T00:59:27.675442",
     "status": "completed"
    },
    "tags": []
   },
   "outputs": [],
   "source": [
    "import requests\n",
    "import pandas as pd\n",
    "import numpy as np\n",
    "import pickle\n",
    "import googlemaps\n",
    "import plotly.express as px\n",
    "from geopy.geocoders import Nominatim\n",
    "import time\n",
    "from dotenv import load_dotenv\n",
    "import os\n",
    "\n",
    "env_path = os.path.join(\"..\", \".env\")\n",
    "#print(\"Looking for .env file at:\", os.path.abspath(env_path))\n",
    "load_dotenv(dotenv_path=env_path)\n",
    "\n",
    "# Retrieve the variables\n",
    "GOOGLE_API_KEY = os.getenv(\"GOOGLE_API_KEY\")\n",
    "WORKING_DIR = os.getenv(\"WORKING_DIR\")\n",
    "\n",
    "if GOOGLE_API_KEY is None or WORKING_DIR is None:\n",
    "    raise RuntimeError(\"No configuration found. Please ensure that your .env file exists with the required variables, or create a local config.py file.\")\n",
    "\n",
    "#print(\"Google API Key:\", GOOGLE_API_KEY)\n",
    "#print(\"Working Directory:\", WORKING_DIR)"
   ]
  },
  {
   "cell_type": "markdown",
   "id": "1dcee64f",
   "metadata": {
    "papermill": {
     "duration": 0.003349,
     "end_time": "2025-09-09T00:59:28.321661",
     "exception": false,
     "start_time": "2025-09-09T00:59:28.318312",
     "status": "completed"
    },
    "tags": []
   },
   "source": [
    "## Import Data\n",
    "\n",
    "URL: https://opendata.charlottesville.org/datasets/charlottesville::crime-data/about"
   ]
  },
  {
   "cell_type": "code",
   "execution_count": 2,
   "id": "a696f790",
   "metadata": {
    "execution": {
     "iopub.execute_input": "2025-09-09T00:59:28.329903Z",
     "iopub.status.busy": "2025-09-09T00:59:28.329587Z",
     "iopub.status.idle": "2025-09-09T01:00:37.725022Z",
     "shell.execute_reply": "2025-09-09T01:00:37.724301Z"
    },
    "papermill": {
     "duration": 69.403275,
     "end_time": "2025-09-09T01:00:37.728833",
     "exception": false,
     "start_time": "2025-09-09T00:59:28.325558",
     "status": "completed"
    },
    "tags": []
   },
   "outputs": [
    {
     "name": "stdout",
     "output_type": "stream",
     "text": [
      "Total records imported: 25761\n"
     ]
    }
   ],
   "source": [
    "# Define the endpoint and initial parameters.\n",
    "url = \"https://gisweb.charlottesville.org/arcgis/rest/services/OpenData_2/MapServer/6/query\"\n",
    "params = {\n",
    "    \"where\": \"1=1\",\n",
    "    \"outFields\": \"*\",\n",
    "    \"outSR\": 4326,\n",
    "    \"f\": \"json\",\n",
    "    \"resultOffset\": 0,       # Starting index for results\n",
    "    \"resultRecordCount\": 10000  # Maximum records per batch (if allowed by the API)\n",
    "}\n",
    "\n",
    "records = []\n",
    "\n",
    "while True:\n",
    "    response = requests.get(url, params=params)\n",
    "    response.raise_for_status()\n",
    "    data = response.json()\n",
    "    \n",
    "    # Get the current batch of features.\n",
    "    features = data.get(\"features\", [])\n",
    "    if not features:\n",
    "        break\n",
    "\n",
    "    # Extract the attributes from the features.\n",
    "    batch_records = [feature.get(\"attributes\", {}) for feature in features]\n",
    "    records.extend(batch_records)\n",
    "    \n",
    "    # If the batch size is less than the requested count, we reached the end.\n",
    "    if len(features) < params[\"resultRecordCount\"]:\n",
    "        break\n",
    "\n",
    "    # Update the resultOffset for the next batch.\n",
    "    params[\"resultOffset\"] += params[\"resultRecordCount\"]\n",
    "\n",
    "# Create a DataFrame from the combined records.\n",
    "df = pd.DataFrame(records)\n",
    "print(\"Total records imported:\", len(df))\n"
   ]
  },
  {
   "cell_type": "code",
   "execution_count": 3,
   "id": "00372dfe",
   "metadata": {
    "execution": {
     "iopub.execute_input": "2025-09-09T01:00:37.736521Z",
     "iopub.status.busy": "2025-09-09T01:00:37.736293Z",
     "iopub.status.idle": "2025-09-09T01:00:37.748518Z",
     "shell.execute_reply": "2025-09-09T01:00:37.747862Z"
    },
    "papermill": {
     "duration": 0.017232,
     "end_time": "2025-09-09T01:00:37.749552",
     "exception": false,
     "start_time": "2025-09-09T01:00:37.732320",
     "status": "completed"
    },
    "tags": []
   },
   "outputs": [
    {
     "data": {
      "text/html": [
       "<div>\n",
       "<style scoped>\n",
       "    .dataframe tbody tr th:only-of-type {\n",
       "        vertical-align: middle;\n",
       "    }\n",
       "\n",
       "    .dataframe tbody tr th {\n",
       "        vertical-align: top;\n",
       "    }\n",
       "\n",
       "    .dataframe thead th {\n",
       "        text-align: right;\n",
       "    }\n",
       "</style>\n",
       "<table border=\"1\" class=\"dataframe\">\n",
       "  <thead>\n",
       "    <tr style=\"text-align: right;\">\n",
       "      <th></th>\n",
       "      <th>RecordID</th>\n",
       "      <th>Offense</th>\n",
       "      <th>IncidentID</th>\n",
       "      <th>BlockNumber</th>\n",
       "      <th>StreetName</th>\n",
       "      <th>Agency</th>\n",
       "      <th>DateReported</th>\n",
       "      <th>HourReported</th>\n",
       "      <th>ReportingOfficer</th>\n",
       "    </tr>\n",
       "  </thead>\n",
       "  <tbody>\n",
       "    <tr>\n",
       "      <th>0</th>\n",
       "      <td>1</td>\n",
       "      <td>Larceny - All Other</td>\n",
       "      <td>202500032095</td>\n",
       "      <td>200</td>\n",
       "      <td>STRIBLING AVE</td>\n",
       "      <td>CPD</td>\n",
       "      <td>1757205070000</td>\n",
       "      <td>2031</td>\n",
       "      <td>Reed, Danielle</td>\n",
       "    </tr>\n",
       "    <tr>\n",
       "      <th>1</th>\n",
       "      <td>2</td>\n",
       "      <td>Larceny - Of Veh Parts/Access</td>\n",
       "      <td>202500032091</td>\n",
       "      <td>300</td>\n",
       "      <td>15TH ST NW, 1006</td>\n",
       "      <td>CPD</td>\n",
       "      <td>1757203403000</td>\n",
       "      <td>2003</td>\n",
       "      <td>Crowley, Raeann</td>\n",
       "    </tr>\n",
       "    <tr>\n",
       "      <th>2</th>\n",
       "      <td>3</td>\n",
       "      <td>Lost/FoundProperty</td>\n",
       "      <td>202500032083</td>\n",
       "      <td>300</td>\n",
       "      <td>15TH ST NW, 1015A</td>\n",
       "      <td>CPD</td>\n",
       "      <td>1757200989000</td>\n",
       "      <td>1923</td>\n",
       "      <td>Crowley, Raeann</td>\n",
       "    </tr>\n",
       "    <tr>\n",
       "      <th>3</th>\n",
       "      <td>4</td>\n",
       "      <td>Larceny - All Other</td>\n",
       "      <td>202500032070</td>\n",
       "      <td>200</td>\n",
       "      <td>12TH ST NE</td>\n",
       "      <td>CPD</td>\n",
       "      <td>1757191937000</td>\n",
       "      <td>1652</td>\n",
       "      <td>Crowley, Raeann</td>\n",
       "    </tr>\n",
       "    <tr>\n",
       "      <th>4</th>\n",
       "      <td>5</td>\n",
       "      <td>Assist Agency - Backup/Assist</td>\n",
       "      <td>202500032064</td>\n",
       "      <td>500</td>\n",
       "      <td>E MARKET ST</td>\n",
       "      <td>CPD</td>\n",
       "      <td>1757189360000</td>\n",
       "      <td>1609</td>\n",
       "      <td>Ritter, Kobe</td>\n",
       "    </tr>\n",
       "  </tbody>\n",
       "</table>\n",
       "</div>"
      ],
      "text/plain": [
       "   RecordID                        Offense    IncidentID BlockNumber  \\\n",
       "0         1            Larceny - All Other  202500032095         200   \n",
       "1         2  Larceny - Of Veh Parts/Access  202500032091         300   \n",
       "2         3             Lost/FoundProperty  202500032083         300   \n",
       "3         4            Larceny - All Other  202500032070         200   \n",
       "4         5  Assist Agency - Backup/Assist  202500032064         500   \n",
       "\n",
       "          StreetName Agency   DateReported HourReported ReportingOfficer  \n",
       "0      STRIBLING AVE    CPD  1757205070000         2031   Reed, Danielle  \n",
       "1   15TH ST NW, 1006    CPD  1757203403000         2003  Crowley, Raeann  \n",
       "2  15TH ST NW, 1015A    CPD  1757200989000         1923  Crowley, Raeann  \n",
       "3         12TH ST NE    CPD  1757191937000         1652  Crowley, Raeann  \n",
       "4        E MARKET ST    CPD  1757189360000         1609     Ritter, Kobe  "
      ]
     },
     "execution_count": 3,
     "metadata": {},
     "output_type": "execute_result"
    }
   ],
   "source": [
    "df.head()"
   ]
  },
  {
   "cell_type": "code",
   "execution_count": 4,
   "id": "d3b8e97e",
   "metadata": {
    "execution": {
     "iopub.execute_input": "2025-09-09T01:00:37.757418Z",
     "iopub.status.busy": "2025-09-09T01:00:37.757209Z",
     "iopub.status.idle": "2025-09-09T01:00:37.761291Z",
     "shell.execute_reply": "2025-09-09T01:00:37.760779Z"
    },
    "papermill": {
     "duration": 0.009017,
     "end_time": "2025-09-09T01:00:37.762188",
     "exception": false,
     "start_time": "2025-09-09T01:00:37.753171",
     "status": "completed"
    },
    "tags": []
   },
   "outputs": [
    {
     "data": {
      "text/plain": [
       "Index(['RecordID', 'Offense', 'IncidentID', 'BlockNumber', 'StreetName',\n",
       "       'Agency', 'DateReported', 'HourReported', 'ReportingOfficer'],\n",
       "      dtype='object')"
      ]
     },
     "execution_count": 4,
     "metadata": {},
     "output_type": "execute_result"
    }
   ],
   "source": [
    "df.columns"
   ]
  },
  {
   "cell_type": "code",
   "execution_count": 5,
   "id": "4958593d",
   "metadata": {
    "execution": {
     "iopub.execute_input": "2025-09-09T01:00:37.770327Z",
     "iopub.status.busy": "2025-09-09T01:00:37.770114Z",
     "iopub.status.idle": "2025-09-09T01:00:37.792144Z",
     "shell.execute_reply": "2025-09-09T01:00:37.791570Z"
    },
    "papermill": {
     "duration": 0.02714,
     "end_time": "2025-09-09T01:00:37.793112",
     "exception": false,
     "start_time": "2025-09-09T01:00:37.765972",
     "status": "completed"
    },
    "tags": []
   },
   "outputs": [
    {
     "name": "stdout",
     "output_type": "stream",
     "text": [
      "<class 'pandas.core.frame.DataFrame'>\n",
      "RangeIndex: 25761 entries, 0 to 25760\n",
      "Data columns (total 9 columns):\n",
      " #   Column            Non-Null Count  Dtype \n",
      "---  ------            --------------  ----- \n",
      " 0   RecordID          25761 non-null  int64 \n",
      " 1   Offense           25761 non-null  object\n",
      " 2   IncidentID        25761 non-null  object\n",
      " 3   BlockNumber       25761 non-null  object\n",
      " 4   StreetName        25761 non-null  object\n",
      " 5   Agency            25761 non-null  object\n",
      " 6   DateReported      25761 non-null  int64 \n",
      " 7   HourReported      25761 non-null  object\n",
      " 8   ReportingOfficer  25747 non-null  object\n",
      "dtypes: int64(2), object(7)\n",
      "memory usage: 1.8+ MB\n"
     ]
    }
   ],
   "source": [
    "df.info()"
   ]
  },
  {
   "cell_type": "markdown",
   "id": "ced1785d",
   "metadata": {
    "papermill": {
     "duration": 0.003738,
     "end_time": "2025-09-09T01:00:37.800846",
     "exception": false,
     "start_time": "2025-09-09T01:00:37.797108",
     "status": "completed"
    },
    "tags": []
   },
   "source": [
    "### Missing Values"
   ]
  },
  {
   "cell_type": "code",
   "execution_count": 6,
   "id": "86aff0fa",
   "metadata": {
    "execution": {
     "iopub.execute_input": "2025-09-09T01:00:37.808955Z",
     "iopub.status.busy": "2025-09-09T01:00:37.808771Z",
     "iopub.status.idle": "2025-09-09T01:00:37.829201Z",
     "shell.execute_reply": "2025-09-09T01:00:37.828670Z"
    },
    "papermill": {
     "duration": 0.025653,
     "end_time": "2025-09-09T01:00:37.830190",
     "exception": false,
     "start_time": "2025-09-09T01:00:37.804537",
     "status": "completed"
    },
    "tags": []
   },
   "outputs": [
    {
     "name": "stdout",
     "output_type": "stream",
     "text": [
      "                  MissingCount  MissingPercentage\n",
      "RecordID                     0               0.00\n",
      "Offense                      0               0.00\n",
      "IncidentID                   0               0.00\n",
      "BlockNumber                  0               0.00\n",
      "StreetName                   0               0.00\n",
      "Agency                       0               0.00\n",
      "DateReported                 0               0.00\n",
      "HourReported                 0               0.00\n",
      "ReportingOfficer            14               0.05\n"
     ]
    }
   ],
   "source": [
    "def missing_percentage(df):\n",
    "    \"\"\"\n",
    "    Returns a DataFrame with the count and percentage of missing values for each column.\n",
    "    \n",
    "    Parameters:\n",
    "        df (pd.DataFrame): The input DataFrame.\n",
    "    \n",
    "    Returns:\n",
    "        pd.DataFrame: A DataFrame with columns 'MissingCount' and 'MissingPercentage'.\n",
    "    \"\"\"\n",
    "    total_rows = len(df)\n",
    "    missing_count = df.isnull().sum()\n",
    "    missing_percent = (missing_count / total_rows) * 100\n",
    "    \n",
    "    result = pd.DataFrame({\n",
    "        'MissingCount': missing_count,\n",
    "        'MissingPercentage': missing_percent.round(2)\n",
    "    })\n",
    "    \n",
    "    return result\n",
    "\n",
    "# Example usage:\n",
    "missing_info = missing_percentage(df)\n",
    "print(missing_info)\n"
   ]
  },
  {
   "cell_type": "markdown",
   "id": "f233be10",
   "metadata": {
    "papermill": {
     "duration": 0.003931,
     "end_time": "2025-09-09T01:00:37.838212",
     "exception": false,
     "start_time": "2025-09-09T01:00:37.834281",
     "status": "completed"
    },
    "tags": []
   },
   "source": [
    "## Data Preparation"
   ]
  },
  {
   "cell_type": "markdown",
   "id": "a888c096",
   "metadata": {
    "papermill": {
     "duration": 0.003757,
     "end_time": "2025-09-09T01:00:37.845791",
     "exception": false,
     "start_time": "2025-09-09T01:00:37.842034",
     "status": "completed"
    },
    "tags": []
   },
   "source": [
    "### Data Conversion"
   ]
  },
  {
   "cell_type": "code",
   "execution_count": 7,
   "id": "a156ff7b",
   "metadata": {
    "execution": {
     "iopub.execute_input": "2025-09-09T01:00:37.854300Z",
     "iopub.status.busy": "2025-09-09T01:00:37.854073Z",
     "iopub.status.idle": "2025-09-09T01:00:38.208556Z",
     "shell.execute_reply": "2025-09-09T01:00:38.207841Z"
    },
    "papermill": {
     "duration": 0.359945,
     "end_time": "2025-09-09T01:00:38.209613",
     "exception": false,
     "start_time": "2025-09-09T01:00:37.849668",
     "status": "completed"
    },
    "tags": []
   },
   "outputs": [
    {
     "data": {
      "text/html": [
       "<div>\n",
       "<style scoped>\n",
       "    .dataframe tbody tr th:only-of-type {\n",
       "        vertical-align: middle;\n",
       "    }\n",
       "\n",
       "    .dataframe tbody tr th {\n",
       "        vertical-align: top;\n",
       "    }\n",
       "\n",
       "    .dataframe thead th {\n",
       "        text-align: right;\n",
       "    }\n",
       "</style>\n",
       "<table border=\"1\" class=\"dataframe\">\n",
       "  <thead>\n",
       "    <tr style=\"text-align: right;\">\n",
       "      <th></th>\n",
       "      <th>RecordID</th>\n",
       "      <th>Offense</th>\n",
       "      <th>IncidentID</th>\n",
       "      <th>BlockNumber</th>\n",
       "      <th>StreetName</th>\n",
       "      <th>Agency</th>\n",
       "      <th>HourReported</th>\n",
       "      <th>ReportingOfficer</th>\n",
       "      <th>Date</th>\n",
       "      <th>DateString</th>\n",
       "      <th>DayOfWeek</th>\n",
       "      <th>Weekend</th>\n",
       "      <th>Season</th>\n",
       "      <th>HourAMPM</th>\n",
       "      <th>TimeOfDay</th>\n",
       "    </tr>\n",
       "  </thead>\n",
       "  <tbody>\n",
       "    <tr>\n",
       "      <th>0</th>\n",
       "      <td>1</td>\n",
       "      <td>Larceny - All Other</td>\n",
       "      <td>202500032095</td>\n",
       "      <td>200</td>\n",
       "      <td>STRIBLING AVE</td>\n",
       "      <td>CPD</td>\n",
       "      <td>2031</td>\n",
       "      <td>Reed, Danielle</td>\n",
       "      <td>2025-09-06 20:31:10</td>\n",
       "      <td>2025-09-06 08:31:10 PM</td>\n",
       "      <td>Saturday</td>\n",
       "      <td>True</td>\n",
       "      <td>Summer</td>\n",
       "      <td>08:31 PM</td>\n",
       "      <td>Evening</td>\n",
       "    </tr>\n",
       "    <tr>\n",
       "      <th>1</th>\n",
       "      <td>2</td>\n",
       "      <td>Larceny - Of Veh Parts/Access</td>\n",
       "      <td>202500032091</td>\n",
       "      <td>300</td>\n",
       "      <td>15TH ST NW, 1006</td>\n",
       "      <td>CPD</td>\n",
       "      <td>2003</td>\n",
       "      <td>Crowley, Raeann</td>\n",
       "      <td>2025-09-06 20:03:23</td>\n",
       "      <td>2025-09-06 08:03:23 PM</td>\n",
       "      <td>Saturday</td>\n",
       "      <td>True</td>\n",
       "      <td>Summer</td>\n",
       "      <td>08:03 PM</td>\n",
       "      <td>Evening</td>\n",
       "    </tr>\n",
       "    <tr>\n",
       "      <th>2</th>\n",
       "      <td>3</td>\n",
       "      <td>Lost/FoundProperty</td>\n",
       "      <td>202500032083</td>\n",
       "      <td>300</td>\n",
       "      <td>15TH ST NW, 1015A</td>\n",
       "      <td>CPD</td>\n",
       "      <td>1923</td>\n",
       "      <td>Crowley, Raeann</td>\n",
       "      <td>2025-09-06 19:23:09</td>\n",
       "      <td>2025-09-06 07:23:09 PM</td>\n",
       "      <td>Saturday</td>\n",
       "      <td>True</td>\n",
       "      <td>Summer</td>\n",
       "      <td>07:23 PM</td>\n",
       "      <td>Evening</td>\n",
       "    </tr>\n",
       "    <tr>\n",
       "      <th>3</th>\n",
       "      <td>4</td>\n",
       "      <td>Larceny - All Other</td>\n",
       "      <td>202500032070</td>\n",
       "      <td>200</td>\n",
       "      <td>12TH ST NE</td>\n",
       "      <td>CPD</td>\n",
       "      <td>1652</td>\n",
       "      <td>Crowley, Raeann</td>\n",
       "      <td>2025-09-06 16:52:17</td>\n",
       "      <td>2025-09-06 04:52:17 PM</td>\n",
       "      <td>Saturday</td>\n",
       "      <td>True</td>\n",
       "      <td>Summer</td>\n",
       "      <td>04:52 PM</td>\n",
       "      <td>Afternoon</td>\n",
       "    </tr>\n",
       "    <tr>\n",
       "      <th>4</th>\n",
       "      <td>5</td>\n",
       "      <td>Assist Agency - Backup/Assist</td>\n",
       "      <td>202500032064</td>\n",
       "      <td>500</td>\n",
       "      <td>E MARKET ST</td>\n",
       "      <td>CPD</td>\n",
       "      <td>1609</td>\n",
       "      <td>Ritter, Kobe</td>\n",
       "      <td>2025-09-06 16:09:20</td>\n",
       "      <td>2025-09-06 04:09:20 PM</td>\n",
       "      <td>Saturday</td>\n",
       "      <td>True</td>\n",
       "      <td>Summer</td>\n",
       "      <td>04:09 PM</td>\n",
       "      <td>Afternoon</td>\n",
       "    </tr>\n",
       "  </tbody>\n",
       "</table>\n",
       "</div>"
      ],
      "text/plain": [
       "   RecordID                        Offense    IncidentID BlockNumber  \\\n",
       "0         1            Larceny - All Other  202500032095         200   \n",
       "1         2  Larceny - Of Veh Parts/Access  202500032091         300   \n",
       "2         3             Lost/FoundProperty  202500032083         300   \n",
       "3         4            Larceny - All Other  202500032070         200   \n",
       "4         5  Assist Agency - Backup/Assist  202500032064         500   \n",
       "\n",
       "          StreetName Agency HourReported ReportingOfficer                Date  \\\n",
       "0      STRIBLING AVE    CPD         2031   Reed, Danielle 2025-09-06 20:31:10   \n",
       "1   15TH ST NW, 1006    CPD         2003  Crowley, Raeann 2025-09-06 20:03:23   \n",
       "2  15TH ST NW, 1015A    CPD         1923  Crowley, Raeann 2025-09-06 19:23:09   \n",
       "3         12TH ST NE    CPD         1652  Crowley, Raeann 2025-09-06 16:52:17   \n",
       "4        E MARKET ST    CPD         1609     Ritter, Kobe 2025-09-06 16:09:20   \n",
       "\n",
       "               DateString DayOfWeek  Weekend  Season  HourAMPM  TimeOfDay  \n",
       "0  2025-09-06 08:31:10 PM  Saturday     True  Summer  08:31 PM    Evening  \n",
       "1  2025-09-06 08:03:23 PM  Saturday     True  Summer  08:03 PM    Evening  \n",
       "2  2025-09-06 07:23:09 PM  Saturday     True  Summer  07:23 PM    Evening  \n",
       "3  2025-09-06 04:52:17 PM  Saturday     True  Summer  04:52 PM  Afternoon  \n",
       "4  2025-09-06 04:09:20 PM  Saturday     True  Summer  04:09 PM  Afternoon  "
      ]
     },
     "execution_count": 7,
     "metadata": {},
     "output_type": "execute_result"
    }
   ],
   "source": [
    "def convert_and_categorize_datereported(df, col='DateReported'):\n",
    "    \"\"\"\n",
    "    Converts an epoch (in milliseconds) date column into a timezone-aware datetime,\n",
    "    converts it to Eastern Time, and then creates columns for day-of-week, weekend flag,\n",
    "    season, 12-hour formatted time, and time-of-day. Keeps both a real datetime column\n",
    "    (Date) and a string representation (DateString).\n",
    "    \"\"\"\n",
    "    import pandas as pd\n",
    "\n",
    "    # Convert the epoch timestamp to a pandas datetime object as UTC, then convert to US/Eastern.\n",
    "    df[\"DateReported_dt\"] = (\n",
    "        pd.to_datetime(df[col], unit=\"ms\", errors=\"coerce\", utc=True)\n",
    "        .dt.tz_convert(\"US/Eastern\")\n",
    "    )\n",
    "    \n",
    "    # Create a true datetime column (remove timezone if you prefer naive datetime)\n",
    "    df[\"Date\"] = df[\"DateReported_dt\"].dt.tz_localize(None)\n",
    "\n",
    "    # Optionally, create a separate string-formatted column\n",
    "    df[\"DateString\"] = df[\"DateReported_dt\"].dt.strftime(\"%Y-%m-%d %I:%M:%S %p\")\n",
    "    \n",
    "    # DayOfWeek\n",
    "    df[\"DayOfWeek\"] = df[\"DateReported_dt\"].dt.day_name()\n",
    "    \n",
    "    # Weekend\n",
    "    df[\"Weekend\"] = df[\"DayOfWeek\"].isin([\"Saturday\", \"Sunday\"])\n",
    "    \n",
    "    # Helper function to determine the season\n",
    "    def get_season(dt):\n",
    "        month = dt.month\n",
    "        day = dt.day\n",
    "        # Approximate Northern Hemisphere season boundaries:\n",
    "        if (month == 12 and day >= 21) or (month < 3) or (month == 3 and day < 20):\n",
    "            return \"Winter\"\n",
    "        elif (month == 3 and day >= 20) or (month < 6) or (month == 6 and day < 21):\n",
    "            return \"Spring\"\n",
    "        elif (month == 6 and day >= 21) or (month < 9) or (month == 9 and day < 22):\n",
    "            return \"Summer\"\n",
    "        else:\n",
    "            return \"Autumn\"\n",
    "    \n",
    "    df[\"Season\"] = df[\"DateReported_dt\"].apply(get_season)\n",
    "    \n",
    "    # 12-hour formatted time (HourAMPM)\n",
    "    df[\"HourAMPM\"] = df[\"DateReported_dt\"].dt.strftime(\"%I:%M %p\")\n",
    "    \n",
    "    # Extract hour (0-23) for time-of-day\n",
    "    df[\"HourValue\"] = df[\"DateReported_dt\"].dt.hour\n",
    "    \n",
    "    def time_of_day(hour):\n",
    "        if pd.isnull(hour):\n",
    "            return None\n",
    "        if 5 <= hour < 12:\n",
    "            return \"Morning\"\n",
    "        elif 12 <= hour < 17:\n",
    "            return \"Afternoon\"\n",
    "        elif 17 <= hour < 21:\n",
    "            return \"Evening\"\n",
    "        else:\n",
    "            return \"Night\"\n",
    "    \n",
    "    df[\"TimeOfDay\"] = df[\"HourValue\"].apply(time_of_day)\n",
    "    \n",
    "    # Drop columns you no longer need\n",
    "    df.drop(columns=[col, \"DateReported_dt\", \"HourValue\"], inplace=True)\n",
    "    \n",
    "    return df\n",
    "\n",
    "# Example usage:\n",
    "df = convert_and_categorize_datereported(df)\n",
    "df.head()\n"
   ]
  },
  {
   "cell_type": "code",
   "execution_count": 8,
   "id": "d374bd15",
   "metadata": {
    "execution": {
     "iopub.execute_input": "2025-09-09T01:00:38.218912Z",
     "iopub.status.busy": "2025-09-09T01:00:38.218670Z",
     "iopub.status.idle": "2025-09-09T01:00:38.243428Z",
     "shell.execute_reply": "2025-09-09T01:00:38.242902Z"
    },
    "papermill": {
     "duration": 0.030471,
     "end_time": "2025-09-09T01:00:38.244422",
     "exception": false,
     "start_time": "2025-09-09T01:00:38.213951",
     "status": "completed"
    },
    "tags": []
   },
   "outputs": [
    {
     "name": "stdout",
     "output_type": "stream",
     "text": [
      "<class 'pandas.core.frame.DataFrame'>\n",
      "RangeIndex: 25761 entries, 0 to 25760\n",
      "Data columns (total 15 columns):\n",
      " #   Column            Non-Null Count  Dtype         \n",
      "---  ------            --------------  -----         \n",
      " 0   RecordID          25761 non-null  int64         \n",
      " 1   Offense           25761 non-null  object        \n",
      " 2   IncidentID        25761 non-null  object        \n",
      " 3   BlockNumber       25761 non-null  object        \n",
      " 4   StreetName        25761 non-null  object        \n",
      " 5   Agency            25761 non-null  object        \n",
      " 6   HourReported      25761 non-null  object        \n",
      " 7   ReportingOfficer  25747 non-null  object        \n",
      " 8   Date              25761 non-null  datetime64[ns]\n",
      " 9   DateString        25761 non-null  object        \n",
      " 10  DayOfWeek         25761 non-null  object        \n",
      " 11  Weekend           25761 non-null  bool          \n",
      " 12  Season            25761 non-null  object        \n",
      " 13  HourAMPM          25761 non-null  object        \n",
      " 14  TimeOfDay         25761 non-null  object        \n",
      "dtypes: bool(1), datetime64[ns](1), int64(1), object(12)\n",
      "memory usage: 2.8+ MB\n"
     ]
    }
   ],
   "source": [
    "df.info()"
   ]
  },
  {
   "cell_type": "markdown",
   "id": "078cc6f4",
   "metadata": {
    "papermill": {
     "duration": 0.004008,
     "end_time": "2025-09-09T01:00:38.252776",
     "exception": false,
     "start_time": "2025-09-09T01:00:38.248768",
     "status": "completed"
    },
    "tags": []
   },
   "source": [
    "### Coordinates"
   ]
  },
  {
   "cell_type": "code",
   "execution_count": 9,
   "id": "fb94371a",
   "metadata": {
    "execution": {
     "iopub.execute_input": "2025-09-09T01:00:38.261712Z",
     "iopub.status.busy": "2025-09-09T01:00:38.261444Z",
     "iopub.status.idle": "2025-09-09T01:00:38.396804Z",
     "shell.execute_reply": "2025-09-09T01:00:38.396216Z"
    },
    "papermill": {
     "duration": 0.140998,
     "end_time": "2025-09-09T01:00:38.397790",
     "exception": false,
     "start_time": "2025-09-09T01:00:38.256792",
     "status": "completed"
    },
    "tags": []
   },
   "outputs": [
    {
     "name": "stdout",
     "output_type": "stream",
     "text": [
      "Loaded geocode cache.\n",
      "Error geocoding 300 15TH ST NW, 1015A: REQUEST_DENIED (You must enable Billing on the Google Cloud Project at https://console.cloud.google.com/project/_/billing/enable Learn more at https://developers.google.com/maps/gmp-get-started)\n",
      "Geocoded 300 15TH ST NW, 1015A: None, None\n",
      "Geocode cache updated and saved.\n"
     ]
    },
    {
     "data": {
      "text/html": [
       "<div>\n",
       "<style scoped>\n",
       "    .dataframe tbody tr th:only-of-type {\n",
       "        vertical-align: middle;\n",
       "    }\n",
       "\n",
       "    .dataframe tbody tr th {\n",
       "        vertical-align: top;\n",
       "    }\n",
       "\n",
       "    .dataframe thead th {\n",
       "        text-align: right;\n",
       "    }\n",
       "</style>\n",
       "<table border=\"1\" class=\"dataframe\">\n",
       "  <thead>\n",
       "    <tr style=\"text-align: right;\">\n",
       "      <th></th>\n",
       "      <th>RecordID</th>\n",
       "      <th>Offense</th>\n",
       "      <th>IncidentID</th>\n",
       "      <th>BlockNumber</th>\n",
       "      <th>StreetName</th>\n",
       "      <th>Agency</th>\n",
       "      <th>HourReported</th>\n",
       "      <th>ReportingOfficer</th>\n",
       "      <th>Date</th>\n",
       "      <th>DateString</th>\n",
       "      <th>DayOfWeek</th>\n",
       "      <th>Weekend</th>\n",
       "      <th>Season</th>\n",
       "      <th>HourAMPM</th>\n",
       "      <th>TimeOfDay</th>\n",
       "      <th>FullStreet</th>\n",
       "      <th>lat</th>\n",
       "      <th>lon</th>\n",
       "    </tr>\n",
       "  </thead>\n",
       "  <tbody>\n",
       "    <tr>\n",
       "      <th>0</th>\n",
       "      <td>1</td>\n",
       "      <td>Larceny - All Other</td>\n",
       "      <td>202500032095</td>\n",
       "      <td>200</td>\n",
       "      <td>STRIBLING AVE</td>\n",
       "      <td>CPD</td>\n",
       "      <td>2031</td>\n",
       "      <td>Reed, Danielle</td>\n",
       "      <td>2025-09-06 20:31:10</td>\n",
       "      <td>2025-09-06 08:31:10 PM</td>\n",
       "      <td>Saturday</td>\n",
       "      <td>True</td>\n",
       "      <td>Summer</td>\n",
       "      <td>08:31 PM</td>\n",
       "      <td>Evening</td>\n",
       "      <td>200 STRIBLING AVE</td>\n",
       "      <td>38.022452</td>\n",
       "      <td>-78.519037</td>\n",
       "    </tr>\n",
       "    <tr>\n",
       "      <th>1</th>\n",
       "      <td>2</td>\n",
       "      <td>Larceny - Of Veh Parts/Access</td>\n",
       "      <td>202500032091</td>\n",
       "      <td>300</td>\n",
       "      <td>15TH ST NW, 1006</td>\n",
       "      <td>CPD</td>\n",
       "      <td>2003</td>\n",
       "      <td>Crowley, Raeann</td>\n",
       "      <td>2025-09-06 20:03:23</td>\n",
       "      <td>2025-09-06 08:03:23 PM</td>\n",
       "      <td>Saturday</td>\n",
       "      <td>True</td>\n",
       "      <td>Summer</td>\n",
       "      <td>08:03 PM</td>\n",
       "      <td>Evening</td>\n",
       "      <td>300 15TH ST NW, 1006</td>\n",
       "      <td>38.036303</td>\n",
       "      <td>-78.499381</td>\n",
       "    </tr>\n",
       "    <tr>\n",
       "      <th>2</th>\n",
       "      <td>3</td>\n",
       "      <td>Lost/FoundProperty</td>\n",
       "      <td>202500032083</td>\n",
       "      <td>300</td>\n",
       "      <td>15TH ST NW, 1015A</td>\n",
       "      <td>CPD</td>\n",
       "      <td>1923</td>\n",
       "      <td>Crowley, Raeann</td>\n",
       "      <td>2025-09-06 19:23:09</td>\n",
       "      <td>2025-09-06 07:23:09 PM</td>\n",
       "      <td>Saturday</td>\n",
       "      <td>True</td>\n",
       "      <td>Summer</td>\n",
       "      <td>07:23 PM</td>\n",
       "      <td>Evening</td>\n",
       "      <td>300 15TH ST NW, 1015A</td>\n",
       "      <td>NaN</td>\n",
       "      <td>NaN</td>\n",
       "    </tr>\n",
       "    <tr>\n",
       "      <th>3</th>\n",
       "      <td>4</td>\n",
       "      <td>Larceny - All Other</td>\n",
       "      <td>202500032070</td>\n",
       "      <td>200</td>\n",
       "      <td>12TH ST NE</td>\n",
       "      <td>CPD</td>\n",
       "      <td>1652</td>\n",
       "      <td>Crowley, Raeann</td>\n",
       "      <td>2025-09-06 16:52:17</td>\n",
       "      <td>2025-09-06 04:52:17 PM</td>\n",
       "      <td>Saturday</td>\n",
       "      <td>True</td>\n",
       "      <td>Summer</td>\n",
       "      <td>04:52 PM</td>\n",
       "      <td>Afternoon</td>\n",
       "      <td>200 12TH ST NE</td>\n",
       "      <td>38.027394</td>\n",
       "      <td>-78.469923</td>\n",
       "    </tr>\n",
       "    <tr>\n",
       "      <th>4</th>\n",
       "      <td>5</td>\n",
       "      <td>Assist Agency - Backup/Assist</td>\n",
       "      <td>202500032064</td>\n",
       "      <td>500</td>\n",
       "      <td>E MARKET ST</td>\n",
       "      <td>CPD</td>\n",
       "      <td>1609</td>\n",
       "      <td>Ritter, Kobe</td>\n",
       "      <td>2025-09-06 16:09:20</td>\n",
       "      <td>2025-09-06 04:09:20 PM</td>\n",
       "      <td>Saturday</td>\n",
       "      <td>True</td>\n",
       "      <td>Summer</td>\n",
       "      <td>04:09 PM</td>\n",
       "      <td>Afternoon</td>\n",
       "      <td>500 E MARKET ST</td>\n",
       "      <td>38.030349</td>\n",
       "      <td>-78.477767</td>\n",
       "    </tr>\n",
       "  </tbody>\n",
       "</table>\n",
       "</div>"
      ],
      "text/plain": [
       "   RecordID                        Offense    IncidentID BlockNumber  \\\n",
       "0         1            Larceny - All Other  202500032095         200   \n",
       "1         2  Larceny - Of Veh Parts/Access  202500032091         300   \n",
       "2         3             Lost/FoundProperty  202500032083         300   \n",
       "3         4            Larceny - All Other  202500032070         200   \n",
       "4         5  Assist Agency - Backup/Assist  202500032064         500   \n",
       "\n",
       "          StreetName Agency HourReported ReportingOfficer                Date  \\\n",
       "0      STRIBLING AVE    CPD         2031   Reed, Danielle 2025-09-06 20:31:10   \n",
       "1   15TH ST NW, 1006    CPD         2003  Crowley, Raeann 2025-09-06 20:03:23   \n",
       "2  15TH ST NW, 1015A    CPD         1923  Crowley, Raeann 2025-09-06 19:23:09   \n",
       "3         12TH ST NE    CPD         1652  Crowley, Raeann 2025-09-06 16:52:17   \n",
       "4        E MARKET ST    CPD         1609     Ritter, Kobe 2025-09-06 16:09:20   \n",
       "\n",
       "               DateString DayOfWeek  Weekend  Season  HourAMPM  TimeOfDay  \\\n",
       "0  2025-09-06 08:31:10 PM  Saturday     True  Summer  08:31 PM    Evening   \n",
       "1  2025-09-06 08:03:23 PM  Saturday     True  Summer  08:03 PM    Evening   \n",
       "2  2025-09-06 07:23:09 PM  Saturday     True  Summer  07:23 PM    Evening   \n",
       "3  2025-09-06 04:52:17 PM  Saturday     True  Summer  04:52 PM  Afternoon   \n",
       "4  2025-09-06 04:09:20 PM  Saturday     True  Summer  04:09 PM  Afternoon   \n",
       "\n",
       "              FullStreet        lat        lon  \n",
       "0      200 STRIBLING AVE  38.022452 -78.519037  \n",
       "1   300 15TH ST NW, 1006  38.036303 -78.499381  \n",
       "2  300 15TH ST NW, 1015A        NaN        NaN  \n",
       "3         200 12TH ST NE  38.027394 -78.469923  \n",
       "4        500 E MARKET ST  38.030349 -78.477767  "
      ]
     },
     "execution_count": 9,
     "metadata": {},
     "output_type": "execute_result"
    }
   ],
   "source": [
    "# Combine BlockNumber and StreetName into a full address string\n",
    "df['FullStreet'] = df['BlockNumber'].astype(str) + \" \" + df['StreetName']\n",
    "\n",
    "# --- Step 1: Setup the Google Maps Client and Cache ---\n",
    "gmaps = googlemaps.Client(key=GOOGLE_API_KEY)\n",
    "\n",
    "# Try to load cached geocoding results if available.\n",
    "try:\n",
    "    with open(\"geocode_cache_google.pkl\", \"rb\") as f:\n",
    "        street_coords = pickle.load(f)\n",
    "    print(\"Loaded geocode cache.\")\n",
    "except FileNotFoundError:\n",
    "    street_coords = {}\n",
    "    print(\"No cache found; starting fresh.\")\n",
    "\n",
    "def geocode_address(address):\n",
    "    try:\n",
    "        # Append city and state to help geocoding\n",
    "        result = gmaps.geocode(f\"{address}, Charlottesville, VA\")\n",
    "        if result:\n",
    "            lat = result[0]['geometry']['location']['lat']\n",
    "            lon = result[0]['geometry']['location']['lng']\n",
    "            return lat, lon\n",
    "    except Exception as e:\n",
    "        print(f\"Error geocoding {address}: {e}\")\n",
    "    return None, None\n",
    "\n",
    "# --- Step 2: Geocode Only New Addresses ---\n",
    "unique_addresses = df['FullStreet'].unique()\n",
    "for address in unique_addresses:\n",
    "    if address not in street_coords:\n",
    "        lat, lon = geocode_address(address)\n",
    "        street_coords[address] = (lat, lon)\n",
    "        print(f\"Geocoded {address}: {lat}, {lon}\")\n",
    "\n",
    "# Save the updated cache to disk.\n",
    "with open(\"geocode_cache_google.pkl\", \"wb\") as f:\n",
    "    pickle.dump(street_coords, f)\n",
    "    print(\"Geocode cache updated and saved.\")\n",
    "\n",
    "# --- Step 3: Map Coordinates Back to DataFrame ---\n",
    "df['lat'] = df['FullStreet'].map(lambda s: street_coords.get(s, (None, None))[0])\n",
    "df['lon'] = df['FullStreet'].map(lambda s: street_coords.get(s, (None, None))[1])\n",
    "\n",
    "df.head()"
   ]
  },
  {
   "cell_type": "markdown",
   "id": "343d7f05",
   "metadata": {
    "papermill": {
     "duration": 0.004347,
     "end_time": "2025-09-09T01:00:38.406937",
     "exception": false,
     "start_time": "2025-09-09T01:00:38.402590",
     "status": "completed"
    },
    "tags": []
   },
   "source": [
    "### Neighborhood"
   ]
  },
  {
   "cell_type": "code",
   "execution_count": 10,
   "id": "59189f52",
   "metadata": {
    "execution": {
     "iopub.execute_input": "2025-09-09T01:00:38.416446Z",
     "iopub.status.busy": "2025-09-09T01:00:38.416252Z",
     "iopub.status.idle": "2025-09-09T01:00:41.494328Z",
     "shell.execute_reply": "2025-09-09T01:00:41.493766Z"
    },
    "papermill": {
     "duration": 3.083898,
     "end_time": "2025-09-09T01:00:41.495317",
     "exception": false,
     "start_time": "2025-09-09T01:00:38.411419",
     "status": "completed"
    },
    "tags": []
   },
   "outputs": [
    {
     "name": "stdout",
     "output_type": "stream",
     "text": [
      "Loaded neighborhood cache.\n"
     ]
    },
    {
     "name": "stdout",
     "output_type": "stream",
     "text": [
      "Error getting neighborhood for nan, nan: HTTP Error: 400\n",
      "Error getting neighborhood for nan, nan: HTTP Error: 400\n",
      "Error getting neighborhood for nan, nan: HTTP Error: 400\n"
     ]
    },
    {
     "name": "stdout",
     "output_type": "stream",
     "text": [
      "Error getting neighborhood for nan, nan: HTTP Error: 400\n",
      "Error getting neighborhood for nan, nan: HTTP Error: 400\n",
      "Error getting neighborhood for nan, nan: HTTP Error: 400\n",
      "Error getting neighborhood for nan, nan: HTTP Error: 400\n"
     ]
    },
    {
     "name": "stdout",
     "output_type": "stream",
     "text": [
      "Error getting neighborhood for nan, nan: HTTP Error: 400\n",
      "Error getting neighborhood for nan, nan: HTTP Error: 400\n",
      "Error getting neighborhood for nan, nan: HTTP Error: 400\n",
      "Error getting neighborhood for nan, nan: HTTP Error: 400\n"
     ]
    },
    {
     "name": "stdout",
     "output_type": "stream",
     "text": [
      "Error getting neighborhood for nan, nan: HTTP Error: 400\n",
      "Error getting neighborhood for nan, nan: HTTP Error: 400\n",
      "Error getting neighborhood for nan, nan: HTTP Error: 400\n",
      "Error getting neighborhood for nan, nan: HTTP Error: 400\n",
      "Error getting neighborhood for nan, nan: HTTP Error: 400\n",
      "Error getting neighborhood for nan, nan: HTTP Error: 400\n",
      "Error getting neighborhood for nan, nan: HTTP Error: 400\n",
      "Error getting neighborhood for nan, nan: HTTP Error: 400\n"
     ]
    },
    {
     "name": "stdout",
     "output_type": "stream",
     "text": [
      "Error getting neighborhood for nan, nan: HTTP Error: 400\n",
      "Error getting neighborhood for nan, nan: HTTP Error: 400\n",
      "Error getting neighborhood for nan, nan: HTTP Error: 400\n",
      "Error getting neighborhood for nan, nan: HTTP Error: 400\n",
      "Error getting neighborhood for nan, nan: HTTP Error: 400\n",
      "Error getting neighborhood for nan, nan: HTTP Error: 400\n"
     ]
    },
    {
     "name": "stdout",
     "output_type": "stream",
     "text": [
      "Error getting neighborhood for nan, nan: HTTP Error: 400\n",
      "Error getting neighborhood for nan, nan: HTTP Error: 400\n",
      "Error getting neighborhood for nan, nan: HTTP Error: 400\n",
      "Error getting neighborhood for nan, nan: HTTP Error: 400\n",
      "Error getting neighborhood for nan, nan: HTTP Error: 400\n",
      "Error getting neighborhood for nan, nan: HTTP Error: 400\n",
      "Error getting neighborhood for nan, nan: HTTP Error: 400\n",
      "Error getting neighborhood for nan, nan: HTTP Error: 400\n"
     ]
    },
    {
     "name": "stdout",
     "output_type": "stream",
     "text": [
      "Error getting neighborhood for nan, nan: HTTP Error: 400\n",
      "Error getting neighborhood for nan, nan: HTTP Error: 400\n",
      "Error getting neighborhood for nan, nan: HTTP Error: 400\n",
      "Error getting neighborhood for nan, nan: HTTP Error: 400\n",
      "Error getting neighborhood for nan, nan: HTTP Error: 400\n",
      "Error getting neighborhood for nan, nan: HTTP Error: 400\n",
      "Error getting neighborhood for nan, nan: HTTP Error: 400\n"
     ]
    },
    {
     "name": "stdout",
     "output_type": "stream",
     "text": [
      "Error getting neighborhood for nan, nan: HTTP Error: 400\n",
      "Error getting neighborhood for nan, nan: HTTP Error: 400\n",
      "Error getting neighborhood for nan, nan: HTTP Error: 400\n",
      "Error getting neighborhood for nan, nan: HTTP Error: 400\n",
      "Error getting neighborhood for nan, nan: HTTP Error: 400\n",
      "Error getting neighborhood for nan, nan: HTTP Error: 400\n"
     ]
    },
    {
     "name": "stdout",
     "output_type": "stream",
     "text": [
      "Error getting neighborhood for nan, nan: HTTP Error: 400\n",
      "Error getting neighborhood for nan, nan: HTTP Error: 400\n",
      "Error getting neighborhood for nan, nan: HTTP Error: 400\n",
      "Error getting neighborhood for nan, nan: HTTP Error: 400\n",
      "Error getting neighborhood for nan, nan: HTTP Error: 400\n",
      "Error getting neighborhood for nan, nan: HTTP Error: 400\n",
      "Error getting neighborhood for nan, nan: HTTP Error: 400\n"
     ]
    },
    {
     "name": "stdout",
     "output_type": "stream",
     "text": [
      "Error getting neighborhood for nan, nan: HTTP Error: 400\n",
      "Error getting neighborhood for nan, nan: HTTP Error: 400\n",
      "Error getting neighborhood for nan, nan: HTTP Error: 400\n",
      "Error getting neighborhood for nan, nan: HTTP Error: 400\n",
      "Error getting neighborhood for nan, nan: HTTP Error: 400\n",
      "Error getting neighborhood for nan, nan: HTTP Error: 400\n",
      "Error getting neighborhood for nan, nan: HTTP Error: 400\n",
      "Error getting neighborhood for nan, nan: HTTP Error: 400\n"
     ]
    },
    {
     "name": "stdout",
     "output_type": "stream",
     "text": [
      "Error getting neighborhood for nan, nan: HTTP Error: 400\n",
      "Error getting neighborhood for nan, nan: HTTP Error: 400\n",
      "Error getting neighborhood for nan, nan: HTTP Error: 400\n",
      "Error getting neighborhood for nan, nan: HTTP Error: 400\n",
      "Error getting neighborhood for nan, nan: HTTP Error: 400\n",
      "Error getting neighborhood for nan, nan: HTTP Error: 400\n",
      "Error getting neighborhood for nan, nan: HTTP Error: 400\n"
     ]
    },
    {
     "name": "stdout",
     "output_type": "stream",
     "text": [
      "Error getting neighborhood for nan, nan: HTTP Error: 400\n",
      "Error getting neighborhood for nan, nan: HTTP Error: 400\n",
      "Error getting neighborhood for nan, nan: HTTP Error: 400\n",
      "Error getting neighborhood for nan, nan: HTTP Error: 400\n",
      "Error getting neighborhood for nan, nan: HTTP Error: 400\n",
      "Error getting neighborhood for nan, nan: HTTP Error: 400\n",
      "Error getting neighborhood for nan, nan: HTTP Error: 400\n",
      "Error getting neighborhood for nan, nan: HTTP Error: 400\n"
     ]
    },
    {
     "name": "stdout",
     "output_type": "stream",
     "text": [
      "Error getting neighborhood for nan, nan: HTTP Error: 400\n",
      "Error getting neighborhood for nan, nan: HTTP Error: 400\n",
      "Error getting neighborhood for nan, nan: HTTP Error: 400\n",
      "Error getting neighborhood for nan, nan: HTTP Error: 400\n",
      "Error getting neighborhood for nan, nan: HTTP Error: 400\n",
      "Error getting neighborhood for nan, nan: HTTP Error: 400\n",
      "Error getting neighborhood for nan, nan: HTTP Error: 400\n"
     ]
    },
    {
     "name": "stdout",
     "output_type": "stream",
     "text": [
      "Error getting neighborhood for nan, nan: HTTP Error: 400\n",
      "Error getting neighborhood for nan, nan: HTTP Error: 400\n",
      "Error getting neighborhood for nan, nan: HTTP Error: 400\n",
      "Error getting neighborhood for nan, nan: HTTP Error: 400\n",
      "Error getting neighborhood for nan, nan: HTTP Error: 400\n",
      "Error getting neighborhood for nan, nan: HTTP Error: 400\n",
      "Error getting neighborhood for nan, nan: HTTP Error: 400\n",
      "Error getting neighborhood for nan, nan: HTTP Error: 400\n"
     ]
    },
    {
     "name": "stdout",
     "output_type": "stream",
     "text": [
      "Error getting neighborhood for nan, nan: HTTP Error: 400\n",
      "Error getting neighborhood for nan, nan: HTTP Error: 400\n",
      "Error getting neighborhood for nan, nan: HTTP Error: 400\n",
      "Error getting neighborhood for nan, nan: HTTP Error: 400\n",
      "Error getting neighborhood for nan, nan: HTTP Error: 400\n",
      "Error getting neighborhood for nan, nan: HTTP Error: 400\n",
      "Error getting neighborhood for nan, nan: HTTP Error: 400\n"
     ]
    },
    {
     "name": "stdout",
     "output_type": "stream",
     "text": [
      "Error getting neighborhood for nan, nan: HTTP Error: 400\n",
      "Error getting neighborhood for nan, nan: HTTP Error: 400\n",
      "Error getting neighborhood for nan, nan: HTTP Error: 400\n",
      "Error getting neighborhood for nan, nan: HTTP Error: 400\n",
      "Error getting neighborhood for nan, nan: HTTP Error: 400\n",
      "Error getting neighborhood for nan, nan: HTTP Error: 400\n",
      "Error getting neighborhood for nan, nan: HTTP Error: 400\n",
      "Error getting neighborhood for nan, nan: HTTP Error: 400\n"
     ]
    },
    {
     "name": "stdout",
     "output_type": "stream",
     "text": [
      "Error getting neighborhood for nan, nan: HTTP Error: 400\n",
      "Error getting neighborhood for nan, nan: HTTP Error: 400\n",
      "Error getting neighborhood for nan, nan: HTTP Error: 400\n",
      "Error getting neighborhood for nan, nan: HTTP Error: 400\n",
      "Error getting neighborhood for nan, nan: HTTP Error: 400\n",
      "Error getting neighborhood for nan, nan: HTTP Error: 400\n",
      "Error getting neighborhood for nan, nan: HTTP Error: 400\n"
     ]
    },
    {
     "name": "stdout",
     "output_type": "stream",
     "text": [
      "Error getting neighborhood for nan, nan: HTTP Error: 400\n",
      "Error getting neighborhood for nan, nan: HTTP Error: 400\n",
      "Error getting neighborhood for nan, nan: HTTP Error: 400\n",
      "Error getting neighborhood for nan, nan: HTTP Error: 400\n",
      "Error getting neighborhood for nan, nan: HTTP Error: 400\n",
      "Error getting neighborhood for nan, nan: HTTP Error: 400\n",
      "Error getting neighborhood for nan, nan: HTTP Error: 400\n",
      "Error getting neighborhood for nan, nan: HTTP Error: 400\n"
     ]
    },
    {
     "name": "stdout",
     "output_type": "stream",
     "text": [
      "Error getting neighborhood for nan, nan: HTTP Error: 400\n",
      "Error getting neighborhood for nan, nan: HTTP Error: 400\n",
      "Error getting neighborhood for nan, nan: HTTP Error: 400\n",
      "Error getting neighborhood for nan, nan: HTTP Error: 400\n",
      "Error getting neighborhood for nan, nan: HTTP Error: 400\n",
      "Error getting neighborhood for nan, nan: HTTP Error: 400\n",
      "Error getting neighborhood for nan, nan: HTTP Error: 400\n"
     ]
    },
    {
     "name": "stdout",
     "output_type": "stream",
     "text": [
      "Error getting neighborhood for nan, nan: HTTP Error: 400\n",
      "Error getting neighborhood for nan, nan: HTTP Error: 400\n",
      "Error getting neighborhood for nan, nan: HTTP Error: 400\n",
      "Error getting neighborhood for nan, nan: HTTP Error: 400\n",
      "Error getting neighborhood for nan, nan: HTTP Error: 400\n",
      "Error getting neighborhood for nan, nan: HTTP Error: 400\n",
      "Error getting neighborhood for nan, nan: HTTP Error: 400\n",
      "Error getting neighborhood for nan, nan: HTTP Error: 400\n"
     ]
    },
    {
     "name": "stdout",
     "output_type": "stream",
     "text": [
      "Error getting neighborhood for nan, nan: HTTP Error: 400\n",
      "Error getting neighborhood for nan, nan: HTTP Error: 400\n",
      "Error getting neighborhood for nan, nan: HTTP Error: 400\n",
      "Error getting neighborhood for nan, nan: HTTP Error: 400\n",
      "Error getting neighborhood for nan, nan: HTTP Error: 400\n",
      "Error getting neighborhood for nan, nan: HTTP Error: 400\n",
      "Error getting neighborhood for nan, nan: HTTP Error: 400\n"
     ]
    },
    {
     "name": "stdout",
     "output_type": "stream",
     "text": [
      "Error getting neighborhood for nan, nan: HTTP Error: 400\n",
      "Error getting neighborhood for nan, nan: HTTP Error: 400\n",
      "Error getting neighborhood for nan, nan: HTTP Error: 400\n",
      "Error getting neighborhood for nan, nan: HTTP Error: 400\n",
      "Error getting neighborhood for nan, nan: HTTP Error: 400\n",
      "Error getting neighborhood for nan, nan: HTTP Error: 400\n",
      "Error getting neighborhood for nan, nan: HTTP Error: 400\n"
     ]
    },
    {
     "name": "stdout",
     "output_type": "stream",
     "text": [
      "Error getting neighborhood for nan, nan: HTTP Error: 400\n",
      "Error getting neighborhood for nan, nan: HTTP Error: 400\n",
      "Error getting neighborhood for nan, nan: HTTP Error: 400\n",
      "Error getting neighborhood for nan, nan: HTTP Error: 400\n",
      "Error getting neighborhood for nan, nan: HTTP Error: 400\n",
      "Error getting neighborhood for nan, nan: HTTP Error: 400\n",
      "Error getting neighborhood for nan, nan: HTTP Error: 400\n"
     ]
    },
    {
     "name": "stdout",
     "output_type": "stream",
     "text": [
      "Error getting neighborhood for nan, nan: HTTP Error: 400\n",
      "Error getting neighborhood for nan, nan: HTTP Error: 400\n",
      "Error getting neighborhood for nan, nan: HTTP Error: 400\n",
      "Error getting neighborhood for nan, nan: HTTP Error: 400\n",
      "Error getting neighborhood for nan, nan: HTTP Error: 400\n"
     ]
    },
    {
     "name": "stdout",
     "output_type": "stream",
     "text": [
      "Error getting neighborhood for nan, nan: HTTP Error: 400\n",
      "Error getting neighborhood for nan, nan: HTTP Error: 400\n",
      "Error getting neighborhood for nan, nan: HTTP Error: 400\n",
      "Error getting neighborhood for nan, nan: HTTP Error: 400\n",
      "Error getting neighborhood for nan, nan: HTTP Error: 400\n",
      "Error getting neighborhood for nan, nan: HTTP Error: 400\n",
      "Error getting neighborhood for nan, nan: HTTP Error: 400\n"
     ]
    },
    {
     "name": "stdout",
     "output_type": "stream",
     "text": [
      "Error getting neighborhood for nan, nan: HTTP Error: 400\n",
      "Error getting neighborhood for nan, nan: HTTP Error: 400\n",
      "Error getting neighborhood for nan, nan: HTTP Error: 400\n",
      "Error getting neighborhood for nan, nan: HTTP Error: 400\n",
      "Error getting neighborhood for nan, nan: HTTP Error: 400\n",
      "Error getting neighborhood for nan, nan: HTTP Error: 400\n",
      "Error getting neighborhood for nan, nan: HTTP Error: 400\n"
     ]
    },
    {
     "name": "stdout",
     "output_type": "stream",
     "text": [
      "Error getting neighborhood for nan, nan: HTTP Error: 400\n",
      "Error getting neighborhood for nan, nan: HTTP Error: 400\n",
      "Error getting neighborhood for nan, nan: HTTP Error: 400\n",
      "Error getting neighborhood for nan, nan: HTTP Error: 400\n",
      "Error getting neighborhood for nan, nan: HTTP Error: 400\n"
     ]
    },
    {
     "name": "stdout",
     "output_type": "stream",
     "text": [
      "Error getting neighborhood for nan, nan: HTTP Error: 400\n"
     ]
    },
    {
     "data": {
      "text/html": [
       "<div>\n",
       "<style scoped>\n",
       "    .dataframe tbody tr th:only-of-type {\n",
       "        vertical-align: middle;\n",
       "    }\n",
       "\n",
       "    .dataframe tbody tr th {\n",
       "        vertical-align: top;\n",
       "    }\n",
       "\n",
       "    .dataframe thead th {\n",
       "        text-align: right;\n",
       "    }\n",
       "</style>\n",
       "<table border=\"1\" class=\"dataframe\">\n",
       "  <thead>\n",
       "    <tr style=\"text-align: right;\">\n",
       "      <th></th>\n",
       "      <th>RecordID</th>\n",
       "      <th>Offense</th>\n",
       "      <th>IncidentID</th>\n",
       "      <th>BlockNumber</th>\n",
       "      <th>StreetName</th>\n",
       "      <th>Agency</th>\n",
       "      <th>HourReported</th>\n",
       "      <th>ReportingOfficer</th>\n",
       "      <th>Date</th>\n",
       "      <th>DateString</th>\n",
       "      <th>DayOfWeek</th>\n",
       "      <th>Weekend</th>\n",
       "      <th>Season</th>\n",
       "      <th>HourAMPM</th>\n",
       "      <th>TimeOfDay</th>\n",
       "      <th>FullStreet</th>\n",
       "      <th>lat</th>\n",
       "      <th>lon</th>\n",
       "      <th>neighborhood</th>\n",
       "    </tr>\n",
       "  </thead>\n",
       "  <tbody>\n",
       "    <tr>\n",
       "      <th>0</th>\n",
       "      <td>1</td>\n",
       "      <td>Larceny - All Other</td>\n",
       "      <td>202500032095</td>\n",
       "      <td>200</td>\n",
       "      <td>STRIBLING AVE</td>\n",
       "      <td>CPD</td>\n",
       "      <td>2031</td>\n",
       "      <td>Reed, Danielle</td>\n",
       "      <td>2025-09-06 20:31:10</td>\n",
       "      <td>2025-09-06 08:31:10 PM</td>\n",
       "      <td>Saturday</td>\n",
       "      <td>True</td>\n",
       "      <td>Summer</td>\n",
       "      <td>08:31 PM</td>\n",
       "      <td>Evening</td>\n",
       "      <td>200 STRIBLING AVE</td>\n",
       "      <td>38.022452</td>\n",
       "      <td>-78.519037</td>\n",
       "      <td>Fry's Spring</td>\n",
       "    </tr>\n",
       "    <tr>\n",
       "      <th>1</th>\n",
       "      <td>2</td>\n",
       "      <td>Larceny - Of Veh Parts/Access</td>\n",
       "      <td>202500032091</td>\n",
       "      <td>300</td>\n",
       "      <td>15TH ST NW, 1006</td>\n",
       "      <td>CPD</td>\n",
       "      <td>2003</td>\n",
       "      <td>Crowley, Raeann</td>\n",
       "      <td>2025-09-06 20:03:23</td>\n",
       "      <td>2025-09-06 08:03:23 PM</td>\n",
       "      <td>Saturday</td>\n",
       "      <td>True</td>\n",
       "      <td>Summer</td>\n",
       "      <td>08:03 PM</td>\n",
       "      <td>Evening</td>\n",
       "      <td>300 15TH ST NW, 1006</td>\n",
       "      <td>38.036303</td>\n",
       "      <td>-78.499381</td>\n",
       "      <td>Venable</td>\n",
       "    </tr>\n",
       "    <tr>\n",
       "      <th>2</th>\n",
       "      <td>3</td>\n",
       "      <td>Lost/FoundProperty</td>\n",
       "      <td>202500032083</td>\n",
       "      <td>300</td>\n",
       "      <td>15TH ST NW, 1015A</td>\n",
       "      <td>CPD</td>\n",
       "      <td>1923</td>\n",
       "      <td>Crowley, Raeann</td>\n",
       "      <td>2025-09-06 19:23:09</td>\n",
       "      <td>2025-09-06 07:23:09 PM</td>\n",
       "      <td>Saturday</td>\n",
       "      <td>True</td>\n",
       "      <td>Summer</td>\n",
       "      <td>07:23 PM</td>\n",
       "      <td>Evening</td>\n",
       "      <td>300 15TH ST NW, 1015A</td>\n",
       "      <td>NaN</td>\n",
       "      <td>NaN</td>\n",
       "      <td>N/A</td>\n",
       "    </tr>\n",
       "    <tr>\n",
       "      <th>3</th>\n",
       "      <td>4</td>\n",
       "      <td>Larceny - All Other</td>\n",
       "      <td>202500032070</td>\n",
       "      <td>200</td>\n",
       "      <td>12TH ST NE</td>\n",
       "      <td>CPD</td>\n",
       "      <td>1652</td>\n",
       "      <td>Crowley, Raeann</td>\n",
       "      <td>2025-09-06 16:52:17</td>\n",
       "      <td>2025-09-06 04:52:17 PM</td>\n",
       "      <td>Saturday</td>\n",
       "      <td>True</td>\n",
       "      <td>Summer</td>\n",
       "      <td>04:52 PM</td>\n",
       "      <td>Afternoon</td>\n",
       "      <td>200 12TH ST NE</td>\n",
       "      <td>38.027394</td>\n",
       "      <td>-78.469923</td>\n",
       "      <td>Martha Jefferson</td>\n",
       "    </tr>\n",
       "    <tr>\n",
       "      <th>4</th>\n",
       "      <td>5</td>\n",
       "      <td>Assist Agency - Backup/Assist</td>\n",
       "      <td>202500032064</td>\n",
       "      <td>500</td>\n",
       "      <td>E MARKET ST</td>\n",
       "      <td>CPD</td>\n",
       "      <td>1609</td>\n",
       "      <td>Ritter, Kobe</td>\n",
       "      <td>2025-09-06 16:09:20</td>\n",
       "      <td>2025-09-06 04:09:20 PM</td>\n",
       "      <td>Saturday</td>\n",
       "      <td>True</td>\n",
       "      <td>Summer</td>\n",
       "      <td>04:09 PM</td>\n",
       "      <td>Afternoon</td>\n",
       "      <td>500 E MARKET ST</td>\n",
       "      <td>38.030349</td>\n",
       "      <td>-78.477767</td>\n",
       "      <td>Downtown Mall</td>\n",
       "    </tr>\n",
       "  </tbody>\n",
       "</table>\n",
       "</div>"
      ],
      "text/plain": [
       "   RecordID                        Offense    IncidentID BlockNumber  \\\n",
       "0         1            Larceny - All Other  202500032095         200   \n",
       "1         2  Larceny - Of Veh Parts/Access  202500032091         300   \n",
       "2         3             Lost/FoundProperty  202500032083         300   \n",
       "3         4            Larceny - All Other  202500032070         200   \n",
       "4         5  Assist Agency - Backup/Assist  202500032064         500   \n",
       "\n",
       "          StreetName Agency HourReported ReportingOfficer                Date  \\\n",
       "0      STRIBLING AVE    CPD         2031   Reed, Danielle 2025-09-06 20:31:10   \n",
       "1   15TH ST NW, 1006    CPD         2003  Crowley, Raeann 2025-09-06 20:03:23   \n",
       "2  15TH ST NW, 1015A    CPD         1923  Crowley, Raeann 2025-09-06 19:23:09   \n",
       "3         12TH ST NE    CPD         1652  Crowley, Raeann 2025-09-06 16:52:17   \n",
       "4        E MARKET ST    CPD         1609     Ritter, Kobe 2025-09-06 16:09:20   \n",
       "\n",
       "               DateString DayOfWeek  Weekend  Season  HourAMPM  TimeOfDay  \\\n",
       "0  2025-09-06 08:31:10 PM  Saturday     True  Summer  08:31 PM    Evening   \n",
       "1  2025-09-06 08:03:23 PM  Saturday     True  Summer  08:03 PM    Evening   \n",
       "2  2025-09-06 07:23:09 PM  Saturday     True  Summer  07:23 PM    Evening   \n",
       "3  2025-09-06 04:52:17 PM  Saturday     True  Summer  04:52 PM  Afternoon   \n",
       "4  2025-09-06 04:09:20 PM  Saturday     True  Summer  04:09 PM  Afternoon   \n",
       "\n",
       "              FullStreet        lat        lon      neighborhood  \n",
       "0      200 STRIBLING AVE  38.022452 -78.519037      Fry's Spring  \n",
       "1   300 15TH ST NW, 1006  38.036303 -78.499381           Venable  \n",
       "2  300 15TH ST NW, 1015A        NaN        NaN               N/A  \n",
       "3         200 12TH ST NE  38.027394 -78.469923  Martha Jefferson  \n",
       "4        500 E MARKET ST  38.030349 -78.477767     Downtown Mall  "
      ]
     },
     "execution_count": 10,
     "metadata": {},
     "output_type": "execute_result"
    }
   ],
   "source": [
    "# Initialize the Google Maps client.\n",
    "gmaps = googlemaps.Client(key=GOOGLE_API_KEY)\n",
    "\n",
    "# Try to load a persistent neighborhood cache if available.\n",
    "try:\n",
    "    with open(\"neighborhood_cache.pkl\", \"rb\") as f:\n",
    "        neighborhood_cache = pickle.load(f)\n",
    "    print(\"Loaded neighborhood cache.\")\n",
    "except FileNotFoundError:\n",
    "    neighborhood_cache = {}\n",
    "    print(\"No neighborhood cache found; starting fresh.\")\n",
    "\n",
    "def get_neighborhood(lat, lon):\n",
    "    \"\"\"\n",
    "    Reverse geocodes a latitude and longitude to retrieve the neighborhood.\n",
    "    Caches results to speed up subsequent lookups.\n",
    "    \"\"\"\n",
    "    key = (lat, lon)\n",
    "    if key in neighborhood_cache:\n",
    "        return neighborhood_cache[key]\n",
    "    \n",
    "    try:\n",
    "        result = gmaps.reverse_geocode((lat, lon))\n",
    "        if result:\n",
    "            # Look for the 'neighborhood' component in the first result.\n",
    "            for component in result[0]['address_components']:\n",
    "                if 'neighborhood' in component['types']:\n",
    "                    neighborhood = component['long_name']\n",
    "                    neighborhood_cache[key] = neighborhood\n",
    "                    return neighborhood\n",
    "            # If no neighborhood is found, return \"N/A\"\n",
    "            neighborhood_cache[key] = \"N/A\"\n",
    "            return \"N/A\"\n",
    "    except Exception as e:\n",
    "        print(f\"Error getting neighborhood for {lat}, {lon}: {e}\")\n",
    "        return \"N/A\"\n",
    "    \n",
    "    # Pause to respect usage limits.\n",
    "    time.sleep(1)\n",
    "\n",
    "# Example usage: Apply to your DataFrame 'df' that already has 'lat' and 'lon' columns.\n",
    "df['neighborhood'] = df.apply(lambda row: get_neighborhood(row['lat'], row['lon']), axis=1)\n",
    "\n",
    "# Save the updated neighborhood cache.\n",
    "with open(\"neighborhood_cache.pkl\", \"wb\") as f:\n",
    "    pickle.dump(neighborhood_cache, f)\n",
    "\n",
    "df.head()\n"
   ]
  },
  {
   "cell_type": "markdown",
   "id": "322481fb",
   "metadata": {
    "papermill": {
     "duration": 0.005904,
     "end_time": "2025-09-09T01:00:41.507611",
     "exception": false,
     "start_time": "2025-09-09T01:00:41.501707",
     "status": "completed"
    },
    "tags": []
   },
   "source": [
    "### Zip"
   ]
  },
  {
   "cell_type": "code",
   "execution_count": 11,
   "id": "b28e8838",
   "metadata": {
    "execution": {
     "iopub.execute_input": "2025-09-09T01:00:41.520265Z",
     "iopub.status.busy": "2025-09-09T01:00:41.520029Z",
     "iopub.status.idle": "2025-09-09T01:03:44.864571Z",
     "shell.execute_reply": "2025-09-09T01:03:44.863864Z"
    },
    "papermill": {
     "duration": 183.352124,
     "end_time": "2025-09-09T01:03:44.865590",
     "exception": false,
     "start_time": "2025-09-09T01:00:41.513466",
     "status": "completed"
    },
    "tags": []
   },
   "outputs": [
    {
     "name": "stdout",
     "output_type": "stream",
     "text": [
      "Loaded zip cache.\n",
      "Error getting ZIP for nan, nan: Must be a coordinate pair or Point\n"
     ]
    },
    {
     "name": "stdout",
     "output_type": "stream",
     "text": [
      "Error getting ZIP for nan, nan: Must be a coordinate pair or Point\n"
     ]
    },
    {
     "name": "stdout",
     "output_type": "stream",
     "text": [
      "Error getting ZIP for nan, nan: Must be a coordinate pair or Point\n"
     ]
    },
    {
     "name": "stdout",
     "output_type": "stream",
     "text": [
      "Error getting ZIP for nan, nan: Must be a coordinate pair or Point\n"
     ]
    },
    {
     "name": "stdout",
     "output_type": "stream",
     "text": [
      "Error getting ZIP for nan, nan: Must be a coordinate pair or Point\n"
     ]
    },
    {
     "name": "stdout",
     "output_type": "stream",
     "text": [
      "Error getting ZIP for nan, nan: Must be a coordinate pair or Point\n"
     ]
    },
    {
     "name": "stdout",
     "output_type": "stream",
     "text": [
      "Error getting ZIP for nan, nan: Must be a coordinate pair or Point\n"
     ]
    },
    {
     "name": "stdout",
     "output_type": "stream",
     "text": [
      "Error getting ZIP for nan, nan: Must be a coordinate pair or Point\n"
     ]
    },
    {
     "name": "stdout",
     "output_type": "stream",
     "text": [
      "Error getting ZIP for nan, nan: Must be a coordinate pair or Point\n"
     ]
    },
    {
     "name": "stdout",
     "output_type": "stream",
     "text": [
      "Error getting ZIP for nan, nan: Must be a coordinate pair or Point\n"
     ]
    },
    {
     "name": "stdout",
     "output_type": "stream",
     "text": [
      "Error getting ZIP for nan, nan: Must be a coordinate pair or Point\n"
     ]
    },
    {
     "name": "stdout",
     "output_type": "stream",
     "text": [
      "Error getting ZIP for nan, nan: Must be a coordinate pair or Point\n"
     ]
    },
    {
     "name": "stdout",
     "output_type": "stream",
     "text": [
      "Error getting ZIP for nan, nan: Must be a coordinate pair or Point\n"
     ]
    },
    {
     "name": "stdout",
     "output_type": "stream",
     "text": [
      "Error getting ZIP for nan, nan: Must be a coordinate pair or Point\n"
     ]
    },
    {
     "name": "stdout",
     "output_type": "stream",
     "text": [
      "Error getting ZIP for nan, nan: Must be a coordinate pair or Point\n"
     ]
    },
    {
     "name": "stdout",
     "output_type": "stream",
     "text": [
      "Error getting ZIP for nan, nan: Must be a coordinate pair or Point\n"
     ]
    },
    {
     "name": "stdout",
     "output_type": "stream",
     "text": [
      "Error getting ZIP for nan, nan: Must be a coordinate pair or Point\n"
     ]
    },
    {
     "name": "stdout",
     "output_type": "stream",
     "text": [
      "Error getting ZIP for nan, nan: Must be a coordinate pair or Point\n"
     ]
    },
    {
     "name": "stdout",
     "output_type": "stream",
     "text": [
      "Error getting ZIP for nan, nan: Must be a coordinate pair or Point\n"
     ]
    },
    {
     "name": "stdout",
     "output_type": "stream",
     "text": [
      "Error getting ZIP for nan, nan: Must be a coordinate pair or Point\n"
     ]
    },
    {
     "name": "stdout",
     "output_type": "stream",
     "text": [
      "Error getting ZIP for nan, nan: Must be a coordinate pair or Point\n"
     ]
    },
    {
     "name": "stdout",
     "output_type": "stream",
     "text": [
      "Error getting ZIP for nan, nan: Must be a coordinate pair or Point\n"
     ]
    },
    {
     "name": "stdout",
     "output_type": "stream",
     "text": [
      "Error getting ZIP for nan, nan: Must be a coordinate pair or Point\n"
     ]
    },
    {
     "name": "stdout",
     "output_type": "stream",
     "text": [
      "Error getting ZIP for nan, nan: Must be a coordinate pair or Point\n"
     ]
    },
    {
     "name": "stdout",
     "output_type": "stream",
     "text": [
      "Error getting ZIP for nan, nan: Must be a coordinate pair or Point\n"
     ]
    },
    {
     "name": "stdout",
     "output_type": "stream",
     "text": [
      "Error getting ZIP for nan, nan: Must be a coordinate pair or Point\n"
     ]
    },
    {
     "name": "stdout",
     "output_type": "stream",
     "text": [
      "Error getting ZIP for nan, nan: Must be a coordinate pair or Point\n"
     ]
    },
    {
     "name": "stdout",
     "output_type": "stream",
     "text": [
      "Error getting ZIP for nan, nan: Must be a coordinate pair or Point\n"
     ]
    },
    {
     "name": "stdout",
     "output_type": "stream",
     "text": [
      "Error getting ZIP for nan, nan: Must be a coordinate pair or Point\n"
     ]
    },
    {
     "name": "stdout",
     "output_type": "stream",
     "text": [
      "Error getting ZIP for nan, nan: Must be a coordinate pair or Point\n"
     ]
    },
    {
     "name": "stdout",
     "output_type": "stream",
     "text": [
      "Error getting ZIP for nan, nan: Must be a coordinate pair or Point\n"
     ]
    },
    {
     "name": "stdout",
     "output_type": "stream",
     "text": [
      "Error getting ZIP for nan, nan: Must be a coordinate pair or Point\n"
     ]
    },
    {
     "name": "stdout",
     "output_type": "stream",
     "text": [
      "Error getting ZIP for nan, nan: Must be a coordinate pair or Point\n"
     ]
    },
    {
     "name": "stdout",
     "output_type": "stream",
     "text": [
      "Error getting ZIP for nan, nan: Must be a coordinate pair or Point\n"
     ]
    },
    {
     "name": "stdout",
     "output_type": "stream",
     "text": [
      "Error getting ZIP for nan, nan: Must be a coordinate pair or Point\n"
     ]
    },
    {
     "name": "stdout",
     "output_type": "stream",
     "text": [
      "Error getting ZIP for nan, nan: Must be a coordinate pair or Point\n"
     ]
    },
    {
     "name": "stdout",
     "output_type": "stream",
     "text": [
      "Error getting ZIP for nan, nan: Must be a coordinate pair or Point\n"
     ]
    },
    {
     "name": "stdout",
     "output_type": "stream",
     "text": [
      "Error getting ZIP for nan, nan: Must be a coordinate pair or Point\n"
     ]
    },
    {
     "name": "stdout",
     "output_type": "stream",
     "text": [
      "Error getting ZIP for nan, nan: Must be a coordinate pair or Point\n"
     ]
    },
    {
     "name": "stdout",
     "output_type": "stream",
     "text": [
      "Error getting ZIP for nan, nan: Must be a coordinate pair or Point\n"
     ]
    },
    {
     "name": "stdout",
     "output_type": "stream",
     "text": [
      "Error getting ZIP for nan, nan: Must be a coordinate pair or Point\n"
     ]
    },
    {
     "name": "stdout",
     "output_type": "stream",
     "text": [
      "Error getting ZIP for nan, nan: Must be a coordinate pair or Point\n"
     ]
    },
    {
     "name": "stdout",
     "output_type": "stream",
     "text": [
      "Error getting ZIP for nan, nan: Must be a coordinate pair or Point\n"
     ]
    },
    {
     "name": "stdout",
     "output_type": "stream",
     "text": [
      "Error getting ZIP for nan, nan: Must be a coordinate pair or Point\n"
     ]
    },
    {
     "name": "stdout",
     "output_type": "stream",
     "text": [
      "Error getting ZIP for nan, nan: Must be a coordinate pair or Point\n"
     ]
    },
    {
     "name": "stdout",
     "output_type": "stream",
     "text": [
      "Error getting ZIP for nan, nan: Must be a coordinate pair or Point\n"
     ]
    },
    {
     "name": "stdout",
     "output_type": "stream",
     "text": [
      "Error getting ZIP for nan, nan: Must be a coordinate pair or Point\n"
     ]
    },
    {
     "name": "stdout",
     "output_type": "stream",
     "text": [
      "Error getting ZIP for nan, nan: Must be a coordinate pair or Point\n"
     ]
    },
    {
     "name": "stdout",
     "output_type": "stream",
     "text": [
      "Error getting ZIP for nan, nan: Must be a coordinate pair or Point\n"
     ]
    },
    {
     "name": "stdout",
     "output_type": "stream",
     "text": [
      "Error getting ZIP for nan, nan: Must be a coordinate pair or Point\n"
     ]
    },
    {
     "name": "stdout",
     "output_type": "stream",
     "text": [
      "Error getting ZIP for nan, nan: Must be a coordinate pair or Point\n"
     ]
    },
    {
     "name": "stdout",
     "output_type": "stream",
     "text": [
      "Error getting ZIP for nan, nan: Must be a coordinate pair or Point\n"
     ]
    },
    {
     "name": "stdout",
     "output_type": "stream",
     "text": [
      "Error getting ZIP for nan, nan: Must be a coordinate pair or Point\n"
     ]
    },
    {
     "name": "stdout",
     "output_type": "stream",
     "text": [
      "Error getting ZIP for nan, nan: Must be a coordinate pair or Point\n"
     ]
    },
    {
     "name": "stdout",
     "output_type": "stream",
     "text": [
      "Error getting ZIP for nan, nan: Must be a coordinate pair or Point\n"
     ]
    },
    {
     "name": "stdout",
     "output_type": "stream",
     "text": [
      "Error getting ZIP for nan, nan: Must be a coordinate pair or Point\n"
     ]
    },
    {
     "name": "stdout",
     "output_type": "stream",
     "text": [
      "Error getting ZIP for nan, nan: Must be a coordinate pair or Point\n"
     ]
    },
    {
     "name": "stdout",
     "output_type": "stream",
     "text": [
      "Error getting ZIP for nan, nan: Must be a coordinate pair or Point\n"
     ]
    },
    {
     "name": "stdout",
     "output_type": "stream",
     "text": [
      "Error getting ZIP for nan, nan: Must be a coordinate pair or Point\n"
     ]
    },
    {
     "name": "stdout",
     "output_type": "stream",
     "text": [
      "Error getting ZIP for nan, nan: Must be a coordinate pair or Point\n"
     ]
    },
    {
     "name": "stdout",
     "output_type": "stream",
     "text": [
      "Error getting ZIP for nan, nan: Must be a coordinate pair or Point\n"
     ]
    },
    {
     "name": "stdout",
     "output_type": "stream",
     "text": [
      "Error getting ZIP for nan, nan: Must be a coordinate pair or Point\n"
     ]
    },
    {
     "name": "stdout",
     "output_type": "stream",
     "text": [
      "Error getting ZIP for nan, nan: Must be a coordinate pair or Point\n"
     ]
    },
    {
     "name": "stdout",
     "output_type": "stream",
     "text": [
      "Error getting ZIP for nan, nan: Must be a coordinate pair or Point\n"
     ]
    },
    {
     "name": "stdout",
     "output_type": "stream",
     "text": [
      "Error getting ZIP for nan, nan: Must be a coordinate pair or Point\n"
     ]
    },
    {
     "name": "stdout",
     "output_type": "stream",
     "text": [
      "Error getting ZIP for nan, nan: Must be a coordinate pair or Point\n"
     ]
    },
    {
     "name": "stdout",
     "output_type": "stream",
     "text": [
      "Error getting ZIP for nan, nan: Must be a coordinate pair or Point\n"
     ]
    },
    {
     "name": "stdout",
     "output_type": "stream",
     "text": [
      "Error getting ZIP for nan, nan: Must be a coordinate pair or Point\n"
     ]
    },
    {
     "name": "stdout",
     "output_type": "stream",
     "text": [
      "Error getting ZIP for nan, nan: Must be a coordinate pair or Point\n"
     ]
    },
    {
     "name": "stdout",
     "output_type": "stream",
     "text": [
      "Error getting ZIP for nan, nan: Must be a coordinate pair or Point\n"
     ]
    },
    {
     "name": "stdout",
     "output_type": "stream",
     "text": [
      "Error getting ZIP for nan, nan: Must be a coordinate pair or Point\n"
     ]
    },
    {
     "name": "stdout",
     "output_type": "stream",
     "text": [
      "Error getting ZIP for nan, nan: Must be a coordinate pair or Point\n"
     ]
    },
    {
     "name": "stdout",
     "output_type": "stream",
     "text": [
      "Error getting ZIP for nan, nan: Must be a coordinate pair or Point\n"
     ]
    },
    {
     "name": "stdout",
     "output_type": "stream",
     "text": [
      "Error getting ZIP for nan, nan: Must be a coordinate pair or Point\n"
     ]
    },
    {
     "name": "stdout",
     "output_type": "stream",
     "text": [
      "Error getting ZIP for nan, nan: Must be a coordinate pair or Point\n"
     ]
    },
    {
     "name": "stdout",
     "output_type": "stream",
     "text": [
      "Error getting ZIP for nan, nan: Must be a coordinate pair or Point\n"
     ]
    },
    {
     "name": "stdout",
     "output_type": "stream",
     "text": [
      "Error getting ZIP for nan, nan: Must be a coordinate pair or Point\n"
     ]
    },
    {
     "name": "stdout",
     "output_type": "stream",
     "text": [
      "Error getting ZIP for nan, nan: Must be a coordinate pair or Point\n"
     ]
    },
    {
     "name": "stdout",
     "output_type": "stream",
     "text": [
      "Error getting ZIP for nan, nan: Must be a coordinate pair or Point\n"
     ]
    },
    {
     "name": "stdout",
     "output_type": "stream",
     "text": [
      "Error getting ZIP for nan, nan: Must be a coordinate pair or Point\n"
     ]
    },
    {
     "name": "stdout",
     "output_type": "stream",
     "text": [
      "Error getting ZIP for nan, nan: Must be a coordinate pair or Point\n"
     ]
    },
    {
     "name": "stdout",
     "output_type": "stream",
     "text": [
      "Error getting ZIP for nan, nan: Must be a coordinate pair or Point\n"
     ]
    },
    {
     "name": "stdout",
     "output_type": "stream",
     "text": [
      "Error getting ZIP for nan, nan: Must be a coordinate pair or Point\n"
     ]
    },
    {
     "name": "stdout",
     "output_type": "stream",
     "text": [
      "Error getting ZIP for nan, nan: Must be a coordinate pair or Point\n"
     ]
    },
    {
     "name": "stdout",
     "output_type": "stream",
     "text": [
      "Error getting ZIP for nan, nan: Must be a coordinate pair or Point\n"
     ]
    },
    {
     "name": "stdout",
     "output_type": "stream",
     "text": [
      "Error getting ZIP for nan, nan: Must be a coordinate pair or Point\n"
     ]
    },
    {
     "name": "stdout",
     "output_type": "stream",
     "text": [
      "Error getting ZIP for nan, nan: Must be a coordinate pair or Point\n"
     ]
    },
    {
     "name": "stdout",
     "output_type": "stream",
     "text": [
      "Error getting ZIP for nan, nan: Must be a coordinate pair or Point\n"
     ]
    },
    {
     "name": "stdout",
     "output_type": "stream",
     "text": [
      "Error getting ZIP for nan, nan: Must be a coordinate pair or Point\n"
     ]
    },
    {
     "name": "stdout",
     "output_type": "stream",
     "text": [
      "Error getting ZIP for nan, nan: Must be a coordinate pair or Point\n"
     ]
    },
    {
     "name": "stdout",
     "output_type": "stream",
     "text": [
      "Error getting ZIP for nan, nan: Must be a coordinate pair or Point\n"
     ]
    },
    {
     "name": "stdout",
     "output_type": "stream",
     "text": [
      "Error getting ZIP for nan, nan: Must be a coordinate pair or Point\n"
     ]
    },
    {
     "name": "stdout",
     "output_type": "stream",
     "text": [
      "Error getting ZIP for nan, nan: Must be a coordinate pair or Point\n"
     ]
    },
    {
     "name": "stdout",
     "output_type": "stream",
     "text": [
      "Error getting ZIP for nan, nan: Must be a coordinate pair or Point\n"
     ]
    },
    {
     "name": "stdout",
     "output_type": "stream",
     "text": [
      "Error getting ZIP for nan, nan: Must be a coordinate pair or Point\n"
     ]
    },
    {
     "name": "stdout",
     "output_type": "stream",
     "text": [
      "Error getting ZIP for nan, nan: Must be a coordinate pair or Point\n"
     ]
    },
    {
     "name": "stdout",
     "output_type": "stream",
     "text": [
      "Error getting ZIP for nan, nan: Must be a coordinate pair or Point\n"
     ]
    },
    {
     "name": "stdout",
     "output_type": "stream",
     "text": [
      "Error getting ZIP for nan, nan: Must be a coordinate pair or Point\n"
     ]
    },
    {
     "name": "stdout",
     "output_type": "stream",
     "text": [
      "Error getting ZIP for nan, nan: Must be a coordinate pair or Point\n"
     ]
    },
    {
     "name": "stdout",
     "output_type": "stream",
     "text": [
      "Error getting ZIP for nan, nan: Must be a coordinate pair or Point\n"
     ]
    },
    {
     "name": "stdout",
     "output_type": "stream",
     "text": [
      "Error getting ZIP for nan, nan: Must be a coordinate pair or Point\n"
     ]
    },
    {
     "name": "stdout",
     "output_type": "stream",
     "text": [
      "Error getting ZIP for nan, nan: Must be a coordinate pair or Point\n"
     ]
    },
    {
     "name": "stdout",
     "output_type": "stream",
     "text": [
      "Error getting ZIP for nan, nan: Must be a coordinate pair or Point\n"
     ]
    },
    {
     "name": "stdout",
     "output_type": "stream",
     "text": [
      "Error getting ZIP for nan, nan: Must be a coordinate pair or Point\n"
     ]
    },
    {
     "name": "stdout",
     "output_type": "stream",
     "text": [
      "Error getting ZIP for nan, nan: Must be a coordinate pair or Point\n"
     ]
    },
    {
     "name": "stdout",
     "output_type": "stream",
     "text": [
      "Error getting ZIP for nan, nan: Must be a coordinate pair or Point\n"
     ]
    },
    {
     "name": "stdout",
     "output_type": "stream",
     "text": [
      "Error getting ZIP for nan, nan: Must be a coordinate pair or Point\n"
     ]
    },
    {
     "name": "stdout",
     "output_type": "stream",
     "text": [
      "Error getting ZIP for nan, nan: Must be a coordinate pair or Point\n"
     ]
    },
    {
     "name": "stdout",
     "output_type": "stream",
     "text": [
      "Error getting ZIP for nan, nan: Must be a coordinate pair or Point\n"
     ]
    },
    {
     "name": "stdout",
     "output_type": "stream",
     "text": [
      "Error getting ZIP for nan, nan: Must be a coordinate pair or Point\n"
     ]
    },
    {
     "name": "stdout",
     "output_type": "stream",
     "text": [
      "Error getting ZIP for nan, nan: Must be a coordinate pair or Point\n"
     ]
    },
    {
     "name": "stdout",
     "output_type": "stream",
     "text": [
      "Error getting ZIP for nan, nan: Must be a coordinate pair or Point\n"
     ]
    },
    {
     "name": "stdout",
     "output_type": "stream",
     "text": [
      "Error getting ZIP for nan, nan: Must be a coordinate pair or Point\n"
     ]
    },
    {
     "name": "stdout",
     "output_type": "stream",
     "text": [
      "Error getting ZIP for nan, nan: Must be a coordinate pair or Point\n"
     ]
    },
    {
     "name": "stdout",
     "output_type": "stream",
     "text": [
      "Error getting ZIP for nan, nan: Must be a coordinate pair or Point\n"
     ]
    },
    {
     "name": "stdout",
     "output_type": "stream",
     "text": [
      "Error getting ZIP for nan, nan: Must be a coordinate pair or Point\n"
     ]
    },
    {
     "name": "stdout",
     "output_type": "stream",
     "text": [
      "Error getting ZIP for nan, nan: Must be a coordinate pair or Point\n"
     ]
    },
    {
     "name": "stdout",
     "output_type": "stream",
     "text": [
      "Error getting ZIP for nan, nan: Must be a coordinate pair or Point\n"
     ]
    },
    {
     "name": "stdout",
     "output_type": "stream",
     "text": [
      "Error getting ZIP for nan, nan: Must be a coordinate pair or Point\n"
     ]
    },
    {
     "name": "stdout",
     "output_type": "stream",
     "text": [
      "Error getting ZIP for nan, nan: Must be a coordinate pair or Point\n"
     ]
    },
    {
     "name": "stdout",
     "output_type": "stream",
     "text": [
      "Error getting ZIP for nan, nan: Must be a coordinate pair or Point\n"
     ]
    },
    {
     "name": "stdout",
     "output_type": "stream",
     "text": [
      "Error getting ZIP for nan, nan: Must be a coordinate pair or Point\n"
     ]
    },
    {
     "name": "stdout",
     "output_type": "stream",
     "text": [
      "Error getting ZIP for nan, nan: Must be a coordinate pair or Point\n"
     ]
    },
    {
     "name": "stdout",
     "output_type": "stream",
     "text": [
      "Error getting ZIP for nan, nan: Must be a coordinate pair or Point\n"
     ]
    },
    {
     "name": "stdout",
     "output_type": "stream",
     "text": [
      "Error getting ZIP for nan, nan: Must be a coordinate pair or Point\n"
     ]
    },
    {
     "name": "stdout",
     "output_type": "stream",
     "text": [
      "Error getting ZIP for nan, nan: Must be a coordinate pair or Point\n"
     ]
    },
    {
     "name": "stdout",
     "output_type": "stream",
     "text": [
      "Error getting ZIP for nan, nan: Must be a coordinate pair or Point\n"
     ]
    },
    {
     "name": "stdout",
     "output_type": "stream",
     "text": [
      "Error getting ZIP for nan, nan: Must be a coordinate pair or Point\n"
     ]
    },
    {
     "name": "stdout",
     "output_type": "stream",
     "text": [
      "Error getting ZIP for nan, nan: Must be a coordinate pair or Point\n"
     ]
    },
    {
     "name": "stdout",
     "output_type": "stream",
     "text": [
      "Error getting ZIP for nan, nan: Must be a coordinate pair or Point\n"
     ]
    },
    {
     "name": "stdout",
     "output_type": "stream",
     "text": [
      "Error getting ZIP for nan, nan: Must be a coordinate pair or Point\n"
     ]
    },
    {
     "name": "stdout",
     "output_type": "stream",
     "text": [
      "Error getting ZIP for nan, nan: Must be a coordinate pair or Point\n"
     ]
    },
    {
     "name": "stdout",
     "output_type": "stream",
     "text": [
      "Error getting ZIP for nan, nan: Must be a coordinate pair or Point\n"
     ]
    },
    {
     "name": "stdout",
     "output_type": "stream",
     "text": [
      "Error getting ZIP for nan, nan: Must be a coordinate pair or Point\n"
     ]
    },
    {
     "name": "stdout",
     "output_type": "stream",
     "text": [
      "Error getting ZIP for nan, nan: Must be a coordinate pair or Point\n"
     ]
    },
    {
     "name": "stdout",
     "output_type": "stream",
     "text": [
      "Error getting ZIP for nan, nan: Must be a coordinate pair or Point\n"
     ]
    },
    {
     "name": "stdout",
     "output_type": "stream",
     "text": [
      "Error getting ZIP for nan, nan: Must be a coordinate pair or Point\n"
     ]
    },
    {
     "name": "stdout",
     "output_type": "stream",
     "text": [
      "Error getting ZIP for nan, nan: Must be a coordinate pair or Point\n"
     ]
    },
    {
     "name": "stdout",
     "output_type": "stream",
     "text": [
      "Error getting ZIP for nan, nan: Must be a coordinate pair or Point\n"
     ]
    },
    {
     "name": "stdout",
     "output_type": "stream",
     "text": [
      "Error getting ZIP for nan, nan: Must be a coordinate pair or Point\n"
     ]
    },
    {
     "name": "stdout",
     "output_type": "stream",
     "text": [
      "Error getting ZIP for nan, nan: Must be a coordinate pair or Point\n"
     ]
    },
    {
     "name": "stdout",
     "output_type": "stream",
     "text": [
      "Error getting ZIP for nan, nan: Must be a coordinate pair or Point\n"
     ]
    },
    {
     "name": "stdout",
     "output_type": "stream",
     "text": [
      "Error getting ZIP for nan, nan: Must be a coordinate pair or Point\n"
     ]
    },
    {
     "name": "stdout",
     "output_type": "stream",
     "text": [
      "Error getting ZIP for nan, nan: Must be a coordinate pair or Point\n"
     ]
    },
    {
     "name": "stdout",
     "output_type": "stream",
     "text": [
      "Error getting ZIP for nan, nan: Must be a coordinate pair or Point\n"
     ]
    },
    {
     "name": "stdout",
     "output_type": "stream",
     "text": [
      "Error getting ZIP for nan, nan: Must be a coordinate pair or Point\n"
     ]
    },
    {
     "name": "stdout",
     "output_type": "stream",
     "text": [
      "Error getting ZIP for nan, nan: Must be a coordinate pair or Point\n"
     ]
    },
    {
     "name": "stdout",
     "output_type": "stream",
     "text": [
      "Error getting ZIP for nan, nan: Must be a coordinate pair or Point\n"
     ]
    },
    {
     "name": "stdout",
     "output_type": "stream",
     "text": [
      "Error getting ZIP for nan, nan: Must be a coordinate pair or Point\n"
     ]
    },
    {
     "name": "stdout",
     "output_type": "stream",
     "text": [
      "Error getting ZIP for nan, nan: Must be a coordinate pair or Point\n"
     ]
    },
    {
     "name": "stdout",
     "output_type": "stream",
     "text": [
      "Error getting ZIP for nan, nan: Must be a coordinate pair or Point\n"
     ]
    },
    {
     "name": "stdout",
     "output_type": "stream",
     "text": [
      "Error getting ZIP for nan, nan: Must be a coordinate pair or Point\n"
     ]
    },
    {
     "name": "stdout",
     "output_type": "stream",
     "text": [
      "Error getting ZIP for nan, nan: Must be a coordinate pair or Point\n"
     ]
    },
    {
     "name": "stdout",
     "output_type": "stream",
     "text": [
      "Error getting ZIP for nan, nan: Must be a coordinate pair or Point\n"
     ]
    },
    {
     "name": "stdout",
     "output_type": "stream",
     "text": [
      "Error getting ZIP for nan, nan: Must be a coordinate pair or Point\n"
     ]
    },
    {
     "name": "stdout",
     "output_type": "stream",
     "text": [
      "Error getting ZIP for nan, nan: Must be a coordinate pair or Point\n"
     ]
    },
    {
     "name": "stdout",
     "output_type": "stream",
     "text": [
      "Error getting ZIP for nan, nan: Must be a coordinate pair or Point\n"
     ]
    },
    {
     "name": "stdout",
     "output_type": "stream",
     "text": [
      "Error getting ZIP for nan, nan: Must be a coordinate pair or Point\n"
     ]
    },
    {
     "name": "stdout",
     "output_type": "stream",
     "text": [
      "Error getting ZIP for nan, nan: Must be a coordinate pair or Point\n"
     ]
    },
    {
     "name": "stdout",
     "output_type": "stream",
     "text": [
      "Error getting ZIP for nan, nan: Must be a coordinate pair or Point\n"
     ]
    },
    {
     "name": "stdout",
     "output_type": "stream",
     "text": [
      "Error getting ZIP for nan, nan: Must be a coordinate pair or Point\n"
     ]
    },
    {
     "name": "stdout",
     "output_type": "stream",
     "text": [
      "Error getting ZIP for nan, nan: Must be a coordinate pair or Point\n"
     ]
    },
    {
     "name": "stdout",
     "output_type": "stream",
     "text": [
      "Error getting ZIP for nan, nan: Must be a coordinate pair or Point\n"
     ]
    },
    {
     "name": "stdout",
     "output_type": "stream",
     "text": [
      "Error getting ZIP for nan, nan: Must be a coordinate pair or Point\n"
     ]
    },
    {
     "name": "stdout",
     "output_type": "stream",
     "text": [
      "Error getting ZIP for nan, nan: Must be a coordinate pair or Point\n"
     ]
    },
    {
     "name": "stdout",
     "output_type": "stream",
     "text": [
      "Error getting ZIP for nan, nan: Must be a coordinate pair or Point\n"
     ]
    },
    {
     "name": "stdout",
     "output_type": "stream",
     "text": [
      "Error getting ZIP for nan, nan: Must be a coordinate pair or Point\n"
     ]
    },
    {
     "name": "stdout",
     "output_type": "stream",
     "text": [
      "Error getting ZIP for nan, nan: Must be a coordinate pair or Point\n"
     ]
    },
    {
     "name": "stdout",
     "output_type": "stream",
     "text": [
      "Error getting ZIP for nan, nan: Must be a coordinate pair or Point\n"
     ]
    },
    {
     "name": "stdout",
     "output_type": "stream",
     "text": [
      "Error getting ZIP for nan, nan: Must be a coordinate pair or Point\n"
     ]
    },
    {
     "name": "stdout",
     "output_type": "stream",
     "text": [
      "Error getting ZIP for nan, nan: Must be a coordinate pair or Point\n"
     ]
    },
    {
     "name": "stdout",
     "output_type": "stream",
     "text": [
      "Error getting ZIP for nan, nan: Must be a coordinate pair or Point\n"
     ]
    },
    {
     "name": "stdout",
     "output_type": "stream",
     "text": [
      "Error getting ZIP for nan, nan: Must be a coordinate pair or Point\n"
     ]
    },
    {
     "name": "stdout",
     "output_type": "stream",
     "text": [
      "Error getting ZIP for nan, nan: Must be a coordinate pair or Point\n"
     ]
    },
    {
     "name": "stdout",
     "output_type": "stream",
     "text": [
      "Error getting ZIP for nan, nan: Must be a coordinate pair or Point\n"
     ]
    },
    {
     "name": "stdout",
     "output_type": "stream",
     "text": [
      "Error getting ZIP for nan, nan: Must be a coordinate pair or Point\n"
     ]
    },
    {
     "name": "stdout",
     "output_type": "stream",
     "text": [
      "Error getting ZIP for nan, nan: Must be a coordinate pair or Point\n"
     ]
    },
    {
     "name": "stdout",
     "output_type": "stream",
     "text": [
      "Error getting ZIP for nan, nan: Must be a coordinate pair or Point\n"
     ]
    },
    {
     "name": "stdout",
     "output_type": "stream",
     "text": [
      "Error getting ZIP for nan, nan: Must be a coordinate pair or Point\n"
     ]
    },
    {
     "name": "stdout",
     "output_type": "stream",
     "text": [
      "Error getting ZIP for nan, nan: Must be a coordinate pair or Point\n"
     ]
    },
    {
     "name": "stdout",
     "output_type": "stream",
     "text": [
      "Error getting ZIP for nan, nan: Must be a coordinate pair or Point\n"
     ]
    },
    {
     "name": "stdout",
     "output_type": "stream",
     "text": [
      "Error getting ZIP for nan, nan: Must be a coordinate pair or Point\n"
     ]
    },
    {
     "data": {
      "text/html": [
       "<div>\n",
       "<style scoped>\n",
       "    .dataframe tbody tr th:only-of-type {\n",
       "        vertical-align: middle;\n",
       "    }\n",
       "\n",
       "    .dataframe tbody tr th {\n",
       "        vertical-align: top;\n",
       "    }\n",
       "\n",
       "    .dataframe thead th {\n",
       "        text-align: right;\n",
       "    }\n",
       "</style>\n",
       "<table border=\"1\" class=\"dataframe\">\n",
       "  <thead>\n",
       "    <tr style=\"text-align: right;\">\n",
       "      <th></th>\n",
       "      <th>RecordID</th>\n",
       "      <th>Offense</th>\n",
       "      <th>IncidentID</th>\n",
       "      <th>BlockNumber</th>\n",
       "      <th>StreetName</th>\n",
       "      <th>Agency</th>\n",
       "      <th>HourReported</th>\n",
       "      <th>ReportingOfficer</th>\n",
       "      <th>Date</th>\n",
       "      <th>DateString</th>\n",
       "      <th>DayOfWeek</th>\n",
       "      <th>Weekend</th>\n",
       "      <th>Season</th>\n",
       "      <th>HourAMPM</th>\n",
       "      <th>TimeOfDay</th>\n",
       "      <th>FullStreet</th>\n",
       "      <th>lat</th>\n",
       "      <th>lon</th>\n",
       "      <th>neighborhood</th>\n",
       "      <th>zip</th>\n",
       "    </tr>\n",
       "  </thead>\n",
       "  <tbody>\n",
       "    <tr>\n",
       "      <th>0</th>\n",
       "      <td>1</td>\n",
       "      <td>Larceny - All Other</td>\n",
       "      <td>202500032095</td>\n",
       "      <td>200</td>\n",
       "      <td>STRIBLING AVE</td>\n",
       "      <td>CPD</td>\n",
       "      <td>2031</td>\n",
       "      <td>Reed, Danielle</td>\n",
       "      <td>2025-09-06 20:31:10</td>\n",
       "      <td>2025-09-06 08:31:10 PM</td>\n",
       "      <td>Saturday</td>\n",
       "      <td>True</td>\n",
       "      <td>Summer</td>\n",
       "      <td>08:31 PM</td>\n",
       "      <td>Evening</td>\n",
       "      <td>200 STRIBLING AVE</td>\n",
       "      <td>38.022452</td>\n",
       "      <td>-78.519037</td>\n",
       "      <td>Fry's Spring</td>\n",
       "      <td>22903</td>\n",
       "    </tr>\n",
       "    <tr>\n",
       "      <th>1</th>\n",
       "      <td>2</td>\n",
       "      <td>Larceny - Of Veh Parts/Access</td>\n",
       "      <td>202500032091</td>\n",
       "      <td>300</td>\n",
       "      <td>15TH ST NW, 1006</td>\n",
       "      <td>CPD</td>\n",
       "      <td>2003</td>\n",
       "      <td>Crowley, Raeann</td>\n",
       "      <td>2025-09-06 20:03:23</td>\n",
       "      <td>2025-09-06 08:03:23 PM</td>\n",
       "      <td>Saturday</td>\n",
       "      <td>True</td>\n",
       "      <td>Summer</td>\n",
       "      <td>08:03 PM</td>\n",
       "      <td>Evening</td>\n",
       "      <td>300 15TH ST NW, 1006</td>\n",
       "      <td>38.036303</td>\n",
       "      <td>-78.499381</td>\n",
       "      <td>Venable</td>\n",
       "      <td>22903</td>\n",
       "    </tr>\n",
       "    <tr>\n",
       "      <th>2</th>\n",
       "      <td>3</td>\n",
       "      <td>Lost/FoundProperty</td>\n",
       "      <td>202500032083</td>\n",
       "      <td>300</td>\n",
       "      <td>15TH ST NW, 1015A</td>\n",
       "      <td>CPD</td>\n",
       "      <td>1923</td>\n",
       "      <td>Crowley, Raeann</td>\n",
       "      <td>2025-09-06 19:23:09</td>\n",
       "      <td>2025-09-06 07:23:09 PM</td>\n",
       "      <td>Saturday</td>\n",
       "      <td>True</td>\n",
       "      <td>Summer</td>\n",
       "      <td>07:23 PM</td>\n",
       "      <td>Evening</td>\n",
       "      <td>300 15TH ST NW, 1015A</td>\n",
       "      <td>NaN</td>\n",
       "      <td>NaN</td>\n",
       "      <td>N/A</td>\n",
       "      <td>N/A</td>\n",
       "    </tr>\n",
       "    <tr>\n",
       "      <th>3</th>\n",
       "      <td>4</td>\n",
       "      <td>Larceny - All Other</td>\n",
       "      <td>202500032070</td>\n",
       "      <td>200</td>\n",
       "      <td>12TH ST NE</td>\n",
       "      <td>CPD</td>\n",
       "      <td>1652</td>\n",
       "      <td>Crowley, Raeann</td>\n",
       "      <td>2025-09-06 16:52:17</td>\n",
       "      <td>2025-09-06 04:52:17 PM</td>\n",
       "      <td>Saturday</td>\n",
       "      <td>True</td>\n",
       "      <td>Summer</td>\n",
       "      <td>04:52 PM</td>\n",
       "      <td>Afternoon</td>\n",
       "      <td>200 12TH ST NE</td>\n",
       "      <td>38.027394</td>\n",
       "      <td>-78.469923</td>\n",
       "      <td>Martha Jefferson</td>\n",
       "      <td>22902</td>\n",
       "    </tr>\n",
       "    <tr>\n",
       "      <th>4</th>\n",
       "      <td>5</td>\n",
       "      <td>Assist Agency - Backup/Assist</td>\n",
       "      <td>202500032064</td>\n",
       "      <td>500</td>\n",
       "      <td>E MARKET ST</td>\n",
       "      <td>CPD</td>\n",
       "      <td>1609</td>\n",
       "      <td>Ritter, Kobe</td>\n",
       "      <td>2025-09-06 16:09:20</td>\n",
       "      <td>2025-09-06 04:09:20 PM</td>\n",
       "      <td>Saturday</td>\n",
       "      <td>True</td>\n",
       "      <td>Summer</td>\n",
       "      <td>04:09 PM</td>\n",
       "      <td>Afternoon</td>\n",
       "      <td>500 E MARKET ST</td>\n",
       "      <td>38.030349</td>\n",
       "      <td>-78.477767</td>\n",
       "      <td>Downtown Mall</td>\n",
       "      <td>22902</td>\n",
       "    </tr>\n",
       "  </tbody>\n",
       "</table>\n",
       "</div>"
      ],
      "text/plain": [
       "   RecordID                        Offense    IncidentID BlockNumber  \\\n",
       "0         1            Larceny - All Other  202500032095         200   \n",
       "1         2  Larceny - Of Veh Parts/Access  202500032091         300   \n",
       "2         3             Lost/FoundProperty  202500032083         300   \n",
       "3         4            Larceny - All Other  202500032070         200   \n",
       "4         5  Assist Agency - Backup/Assist  202500032064         500   \n",
       "\n",
       "          StreetName Agency HourReported ReportingOfficer                Date  \\\n",
       "0      STRIBLING AVE    CPD         2031   Reed, Danielle 2025-09-06 20:31:10   \n",
       "1   15TH ST NW, 1006    CPD         2003  Crowley, Raeann 2025-09-06 20:03:23   \n",
       "2  15TH ST NW, 1015A    CPD         1923  Crowley, Raeann 2025-09-06 19:23:09   \n",
       "3         12TH ST NE    CPD         1652  Crowley, Raeann 2025-09-06 16:52:17   \n",
       "4        E MARKET ST    CPD         1609     Ritter, Kobe 2025-09-06 16:09:20   \n",
       "\n",
       "               DateString DayOfWeek  Weekend  Season  HourAMPM  TimeOfDay  \\\n",
       "0  2025-09-06 08:31:10 PM  Saturday     True  Summer  08:31 PM    Evening   \n",
       "1  2025-09-06 08:03:23 PM  Saturday     True  Summer  08:03 PM    Evening   \n",
       "2  2025-09-06 07:23:09 PM  Saturday     True  Summer  07:23 PM    Evening   \n",
       "3  2025-09-06 04:52:17 PM  Saturday     True  Summer  04:52 PM  Afternoon   \n",
       "4  2025-09-06 04:09:20 PM  Saturday     True  Summer  04:09 PM  Afternoon   \n",
       "\n",
       "              FullStreet        lat        lon      neighborhood    zip  \n",
       "0      200 STRIBLING AVE  38.022452 -78.519037      Fry's Spring  22903  \n",
       "1   300 15TH ST NW, 1006  38.036303 -78.499381           Venable  22903  \n",
       "2  300 15TH ST NW, 1015A        NaN        NaN               N/A    N/A  \n",
       "3         200 12TH ST NE  38.027394 -78.469923  Martha Jefferson  22902  \n",
       "4        500 E MARKET ST  38.030349 -78.477767     Downtown Mall  22902  "
      ]
     },
     "execution_count": 11,
     "metadata": {},
     "output_type": "execute_result"
    }
   ],
   "source": [
    "# Initialize the geocoder.\n",
    "geolocator = Nominatim(user_agent=\"zip_lookup\")\n",
    "\n",
    "# Try to load a persistent ZIP cache if available.\n",
    "try:\n",
    "    with open(\"zip_cache.pkl\", \"rb\") as f:\n",
    "        zip_cache = pickle.load(f)\n",
    "    print(\"Loaded zip cache.\")\n",
    "except FileNotFoundError:\n",
    "    zip_cache = {}\n",
    "    print(\"No zip cache found; starting fresh.\")\n",
    "\n",
    "def get_zip(lat, lon):\n",
    "    \"\"\"\n",
    "    Reverse geocodes a latitude and longitude to retrieve the ZIP code.\n",
    "    Caches results to speed up subsequent lookups.\n",
    "    \"\"\"\n",
    "    key = (lat, lon)\n",
    "    if key in zip_cache:\n",
    "        return zip_cache[key]\n",
    "    \n",
    "    try:\n",
    "        location = geolocator.reverse((lat, lon), exactly_one=True, timeout=10)\n",
    "        address = location.raw.get('address', {})\n",
    "        postal_code = address.get('postcode', \"N/A\")\n",
    "    except Exception as e:\n",
    "        print(f\"Error getting ZIP for {lat}, {lon}: {e}\")\n",
    "        postal_code = \"N/A\"\n",
    "    \n",
    "    zip_cache[key] = postal_code\n",
    "    # Pause to respect the usage policy.\n",
    "    time.sleep(1)\n",
    "    return postal_code\n",
    "\n",
    "# Apply the function to each row in the DataFrame.\n",
    "df['zip'] = df.apply(lambda row: get_zip(row['lat'], row['lon']), axis=1)\n",
    "\n",
    "# Save the updated ZIP cache.\n",
    "with open(\"zip_cache.pkl\", \"wb\") as f:\n",
    "    pickle.dump(zip_cache, f)\n",
    "\n",
    "df.head()\n"
   ]
  },
  {
   "cell_type": "code",
   "execution_count": 12,
   "id": "0e604738",
   "metadata": {
    "execution": {
     "iopub.execute_input": "2025-09-09T01:03:44.893855Z",
     "iopub.status.busy": "2025-09-09T01:03:44.893664Z",
     "iopub.status.idle": "2025-09-09T01:03:44.921361Z",
     "shell.execute_reply": "2025-09-09T01:03:44.920694Z"
    },
    "papermill": {
     "duration": 0.042805,
     "end_time": "2025-09-09T01:03:44.922328",
     "exception": false,
     "start_time": "2025-09-09T01:03:44.879523",
     "status": "completed"
    },
    "tags": []
   },
   "outputs": [
    {
     "name": "stdout",
     "output_type": "stream",
     "text": [
      "                  MissingCount  MissingPercentage\n",
      "RecordID                     0               0.00\n",
      "Offense                      0               0.00\n",
      "IncidentID                   0               0.00\n",
      "BlockNumber                  0               0.00\n",
      "StreetName                   0               0.00\n",
      "Agency                       0               0.00\n",
      "HourReported                 0               0.00\n",
      "ReportingOfficer            14               0.05\n",
      "Date                         0               0.00\n",
      "DateString                   0               0.00\n",
      "DayOfWeek                    0               0.00\n",
      "Weekend                      0               0.00\n",
      "Season                       0               0.00\n",
      "HourAMPM                     0               0.00\n",
      "TimeOfDay                    0               0.00\n",
      "FullStreet                   0               0.00\n",
      "lat                        182               0.71\n",
      "lon                        182               0.71\n",
      "neighborhood                 0               0.00\n",
      "zip                          0               0.00\n"
     ]
    }
   ],
   "source": [
    "missing_info = missing_percentage(df)\n",
    "print(missing_info)\n"
   ]
  },
  {
   "cell_type": "code",
   "execution_count": 13,
   "id": "eb727857",
   "metadata": {
    "execution": {
     "iopub.execute_input": "2025-09-09T01:03:44.950807Z",
     "iopub.status.busy": "2025-09-09T01:03:44.950613Z",
     "iopub.status.idle": "2025-09-09T01:03:44.978332Z",
     "shell.execute_reply": "2025-09-09T01:03:44.977799Z"
    },
    "papermill": {
     "duration": 0.042975,
     "end_time": "2025-09-09T01:03:44.979339",
     "exception": false,
     "start_time": "2025-09-09T01:03:44.936364",
     "status": "completed"
    },
    "tags": []
   },
   "outputs": [
    {
     "name": "stdout",
     "output_type": "stream",
     "text": [
      "<class 'pandas.core.frame.DataFrame'>\n",
      "RangeIndex: 25761 entries, 0 to 25760\n",
      "Data columns (total 20 columns):\n",
      " #   Column            Non-Null Count  Dtype         \n",
      "---  ------            --------------  -----         \n",
      " 0   RecordID          25761 non-null  int64         \n",
      " 1   Offense           25761 non-null  object        \n",
      " 2   IncidentID        25761 non-null  object        \n",
      " 3   BlockNumber       25761 non-null  object        \n",
      " 4   StreetName        25761 non-null  object        \n",
      " 5   Agency            25761 non-null  object        \n",
      " 6   HourReported      25761 non-null  object        \n",
      " 7   ReportingOfficer  25747 non-null  object        \n",
      " 8   Date              25761 non-null  datetime64[ns]\n",
      " 9   DateString        25761 non-null  object        \n",
      " 10  DayOfWeek         25761 non-null  object        \n",
      " 11  Weekend           25761 non-null  bool          \n",
      " 12  Season            25761 non-null  object        \n",
      " 13  HourAMPM          25761 non-null  object        \n",
      " 14  TimeOfDay         25761 non-null  object        \n",
      " 15  FullStreet        25761 non-null  object        \n",
      " 16  lat               25579 non-null  float64       \n",
      " 17  lon               25579 non-null  float64       \n",
      " 18  neighborhood      25761 non-null  object        \n",
      " 19  zip               25761 non-null  object        \n",
      "dtypes: bool(1), datetime64[ns](1), float64(2), int64(1), object(15)\n",
      "memory usage: 3.8+ MB\n"
     ]
    }
   ],
   "source": [
    "df.info()"
   ]
  },
  {
   "cell_type": "code",
   "execution_count": 14,
   "id": "80bdb900",
   "metadata": {
    "execution": {
     "iopub.execute_input": "2025-09-09T01:03:45.008045Z",
     "iopub.status.busy": "2025-09-09T01:03:45.007853Z",
     "iopub.status.idle": "2025-09-09T01:03:45.049973Z",
     "shell.execute_reply": "2025-09-09T01:03:45.049276Z"
    },
    "papermill": {
     "duration": 0.05746,
     "end_time": "2025-09-09T01:03:45.051008",
     "exception": false,
     "start_time": "2025-09-09T01:03:44.993548",
     "status": "completed"
    },
    "tags": []
   },
   "outputs": [
    {
     "data": {
      "text/html": [
       "<div>\n",
       "<style scoped>\n",
       "    .dataframe tbody tr th:only-of-type {\n",
       "        vertical-align: middle;\n",
       "    }\n",
       "\n",
       "    .dataframe tbody tr th {\n",
       "        vertical-align: top;\n",
       "    }\n",
       "\n",
       "    .dataframe thead th {\n",
       "        text-align: right;\n",
       "    }\n",
       "</style>\n",
       "<table border=\"1\" class=\"dataframe\">\n",
       "  <thead>\n",
       "    <tr style=\"text-align: right;\">\n",
       "      <th></th>\n",
       "      <th>RecordID</th>\n",
       "      <th>Offense</th>\n",
       "      <th>IncidentID</th>\n",
       "      <th>Agency</th>\n",
       "      <th>ReportingOfficer</th>\n",
       "      <th>Date</th>\n",
       "      <th>DayOfWeek</th>\n",
       "      <th>Weekend</th>\n",
       "      <th>Season</th>\n",
       "      <th>TimeOfDay</th>\n",
       "      <th>FullStreet</th>\n",
       "      <th>lat</th>\n",
       "      <th>lon</th>\n",
       "      <th>neighborhood</th>\n",
       "      <th>zip</th>\n",
       "    </tr>\n",
       "  </thead>\n",
       "  <tbody>\n",
       "    <tr>\n",
       "      <th>0</th>\n",
       "      <td>1</td>\n",
       "      <td>Larceny - All Other</td>\n",
       "      <td>202500032095</td>\n",
       "      <td>CPD</td>\n",
       "      <td>Reed, Danielle</td>\n",
       "      <td>2025-09-06 20:31:10</td>\n",
       "      <td>Saturday</td>\n",
       "      <td>True</td>\n",
       "      <td>Summer</td>\n",
       "      <td>Evening</td>\n",
       "      <td>200 STRIBLING AVE</td>\n",
       "      <td>38.022452</td>\n",
       "      <td>-78.519037</td>\n",
       "      <td>Fry's Spring</td>\n",
       "      <td>22903</td>\n",
       "    </tr>\n",
       "    <tr>\n",
       "      <th>1</th>\n",
       "      <td>2</td>\n",
       "      <td>Larceny - Of Veh Parts/Access</td>\n",
       "      <td>202500032091</td>\n",
       "      <td>CPD</td>\n",
       "      <td>Crowley, Raeann</td>\n",
       "      <td>2025-09-06 20:03:23</td>\n",
       "      <td>Saturday</td>\n",
       "      <td>True</td>\n",
       "      <td>Summer</td>\n",
       "      <td>Evening</td>\n",
       "      <td>300 15TH ST NW, 1006</td>\n",
       "      <td>38.036303</td>\n",
       "      <td>-78.499381</td>\n",
       "      <td>Venable</td>\n",
       "      <td>22903</td>\n",
       "    </tr>\n",
       "    <tr>\n",
       "      <th>2</th>\n",
       "      <td>3</td>\n",
       "      <td>Lost/FoundProperty</td>\n",
       "      <td>202500032083</td>\n",
       "      <td>CPD</td>\n",
       "      <td>Crowley, Raeann</td>\n",
       "      <td>2025-09-06 19:23:09</td>\n",
       "      <td>Saturday</td>\n",
       "      <td>True</td>\n",
       "      <td>Summer</td>\n",
       "      <td>Evening</td>\n",
       "      <td>300 15TH ST NW, 1015A</td>\n",
       "      <td>N/A</td>\n",
       "      <td>N/A</td>\n",
       "      <td>N/A</td>\n",
       "      <td>N/A</td>\n",
       "    </tr>\n",
       "    <tr>\n",
       "      <th>3</th>\n",
       "      <td>4</td>\n",
       "      <td>Larceny - All Other</td>\n",
       "      <td>202500032070</td>\n",
       "      <td>CPD</td>\n",
       "      <td>Crowley, Raeann</td>\n",
       "      <td>2025-09-06 16:52:17</td>\n",
       "      <td>Saturday</td>\n",
       "      <td>True</td>\n",
       "      <td>Summer</td>\n",
       "      <td>Afternoon</td>\n",
       "      <td>200 12TH ST NE</td>\n",
       "      <td>38.027394</td>\n",
       "      <td>-78.469923</td>\n",
       "      <td>Martha Jefferson</td>\n",
       "      <td>22902</td>\n",
       "    </tr>\n",
       "    <tr>\n",
       "      <th>4</th>\n",
       "      <td>5</td>\n",
       "      <td>Assist Agency - Backup/Assist</td>\n",
       "      <td>202500032064</td>\n",
       "      <td>CPD</td>\n",
       "      <td>Ritter, Kobe</td>\n",
       "      <td>2025-09-06 16:09:20</td>\n",
       "      <td>Saturday</td>\n",
       "      <td>True</td>\n",
       "      <td>Summer</td>\n",
       "      <td>Afternoon</td>\n",
       "      <td>500 E MARKET ST</td>\n",
       "      <td>38.030349</td>\n",
       "      <td>-78.477767</td>\n",
       "      <td>Downtown Mall</td>\n",
       "      <td>22902</td>\n",
       "    </tr>\n",
       "  </tbody>\n",
       "</table>\n",
       "</div>"
      ],
      "text/plain": [
       "   RecordID                        Offense    IncidentID Agency  \\\n",
       "0         1            Larceny - All Other  202500032095    CPD   \n",
       "1         2  Larceny - Of Veh Parts/Access  202500032091    CPD   \n",
       "2         3             Lost/FoundProperty  202500032083    CPD   \n",
       "3         4            Larceny - All Other  202500032070    CPD   \n",
       "4         5  Assist Agency - Backup/Assist  202500032064    CPD   \n",
       "\n",
       "  ReportingOfficer                Date DayOfWeek  Weekend  Season  TimeOfDay  \\\n",
       "0   Reed, Danielle 2025-09-06 20:31:10  Saturday     True  Summer    Evening   \n",
       "1  Crowley, Raeann 2025-09-06 20:03:23  Saturday     True  Summer    Evening   \n",
       "2  Crowley, Raeann 2025-09-06 19:23:09  Saturday     True  Summer    Evening   \n",
       "3  Crowley, Raeann 2025-09-06 16:52:17  Saturday     True  Summer  Afternoon   \n",
       "4     Ritter, Kobe 2025-09-06 16:09:20  Saturday     True  Summer  Afternoon   \n",
       "\n",
       "              FullStreet        lat        lon      neighborhood    zip  \n",
       "0      200 STRIBLING AVE  38.022452 -78.519037      Fry's Spring  22903  \n",
       "1   300 15TH ST NW, 1006  38.036303 -78.499381           Venable  22903  \n",
       "2  300 15TH ST NW, 1015A        N/A        N/A               N/A    N/A  \n",
       "3         200 12TH ST NE  38.027394 -78.469923  Martha Jefferson  22902  \n",
       "4        500 E MARKET ST  38.030349 -78.477767     Downtown Mall  22902  "
      ]
     },
     "execution_count": 14,
     "metadata": {},
     "output_type": "execute_result"
    }
   ],
   "source": [
    "# Now drop the original BlockNumber and StreetName columns\n",
    "df.drop(columns=['BlockNumber', 'StreetName','HourAMPM','HourReported','DateString'], inplace=True)\n",
    "df[\"zip\"] = df[\"zip\"].astype(str)\n",
    "\n",
    "# Fill all missing values in the DataFrame with \"N/A\"\n",
    "df.replace({None: \"N/A\", np.nan: \"N/A\", \"\": \"N/A\"}, inplace=True)\n",
    "df.head()"
   ]
  },
  {
   "cell_type": "code",
   "execution_count": 15,
   "id": "19651efb",
   "metadata": {
    "execution": {
     "iopub.execute_input": "2025-09-09T01:03:45.079995Z",
     "iopub.status.busy": "2025-09-09T01:03:45.079801Z",
     "iopub.status.idle": "2025-09-09T01:03:45.098186Z",
     "shell.execute_reply": "2025-09-09T01:03:45.097664Z"
    },
    "papermill": {
     "duration": 0.033823,
     "end_time": "2025-09-09T01:03:45.099190",
     "exception": false,
     "start_time": "2025-09-09T01:03:45.065367",
     "status": "completed"
    },
    "tags": []
   },
   "outputs": [
    {
     "name": "stdout",
     "output_type": "stream",
     "text": [
      "                  MissingCount  MissingPercentage\n",
      "RecordID                     0                0.0\n",
      "Offense                      0                0.0\n",
      "IncidentID                   0                0.0\n",
      "Agency                       0                0.0\n",
      "ReportingOfficer             0                0.0\n",
      "Date                         0                0.0\n",
      "DayOfWeek                    0                0.0\n",
      "Weekend                      0                0.0\n",
      "Season                       0                0.0\n",
      "TimeOfDay                    0                0.0\n",
      "FullStreet                   0                0.0\n",
      "lat                          0                0.0\n",
      "lon                          0                0.0\n",
      "neighborhood                 0                0.0\n",
      "zip                          0                0.0\n"
     ]
    }
   ],
   "source": [
    "missing_info = missing_percentage(df)\n",
    "print(missing_info)"
   ]
  },
  {
   "cell_type": "code",
   "execution_count": 16,
   "id": "997c46df",
   "metadata": {
    "execution": {
     "iopub.execute_input": "2025-09-09T01:03:45.128270Z",
     "iopub.status.busy": "2025-09-09T01:03:45.128082Z",
     "iopub.status.idle": "2025-09-09T01:03:45.132014Z",
     "shell.execute_reply": "2025-09-09T01:03:45.131509Z"
    },
    "papermill": {
     "duration": 0.019501,
     "end_time": "2025-09-09T01:03:45.132969",
     "exception": false,
     "start_time": "2025-09-09T01:03:45.113468",
     "status": "completed"
    },
    "tags": []
   },
   "outputs": [
    {
     "data": {
      "text/plain": [
       "Index(['RecordID', 'Offense', 'IncidentID', 'Agency', 'ReportingOfficer',\n",
       "       'Date', 'DayOfWeek', 'Weekend', 'Season', 'TimeOfDay', 'FullStreet',\n",
       "       'lat', 'lon', 'neighborhood', 'zip'],\n",
       "      dtype='object')"
      ]
     },
     "execution_count": 16,
     "metadata": {},
     "output_type": "execute_result"
    }
   ],
   "source": [
    "df.columns"
   ]
  },
  {
   "cell_type": "code",
   "execution_count": 17,
   "id": "61017236",
   "metadata": {
    "execution": {
     "iopub.execute_input": "2025-09-09T01:03:45.161751Z",
     "iopub.status.busy": "2025-09-09T01:03:45.161572Z",
     "iopub.status.idle": "2025-09-09T01:03:45.182463Z",
     "shell.execute_reply": "2025-09-09T01:03:45.181918Z"
    },
    "papermill": {
     "duration": 0.036379,
     "end_time": "2025-09-09T01:03:45.183502",
     "exception": false,
     "start_time": "2025-09-09T01:03:45.147123",
     "status": "completed"
    },
    "tags": []
   },
   "outputs": [
    {
     "name": "stdout",
     "output_type": "stream",
     "text": [
      "<class 'pandas.core.frame.DataFrame'>\n",
      "RangeIndex: 25761 entries, 0 to 25760\n",
      "Data columns (total 15 columns):\n",
      " #   Column            Non-Null Count  Dtype         \n",
      "---  ------            --------------  -----         \n",
      " 0   RecordID          25761 non-null  int64         \n",
      " 1   Offense           25761 non-null  object        \n",
      " 2   IncidentID        25761 non-null  object        \n",
      " 3   Agency            25761 non-null  object        \n",
      " 4   ReportingOfficer  25761 non-null  object        \n",
      " 5   Date              25761 non-null  datetime64[ns]\n",
      " 6   DayOfWeek         25761 non-null  object        \n",
      " 7   Weekend           25761 non-null  bool          \n",
      " 8   Season            25761 non-null  object        \n",
      " 9   TimeOfDay         25761 non-null  object        \n",
      " 10  FullStreet        25761 non-null  object        \n",
      " 11  lat               25761 non-null  object        \n",
      " 12  lon               25761 non-null  object        \n",
      " 13  neighborhood      25761 non-null  object        \n",
      " 14  zip               25761 non-null  object        \n",
      "dtypes: bool(1), datetime64[ns](1), int64(1), object(12)\n",
      "memory usage: 2.8+ MB\n"
     ]
    }
   ],
   "source": [
    "df.info()"
   ]
  },
  {
   "cell_type": "markdown",
   "id": "08061889",
   "metadata": {
    "papermill": {
     "duration": 0.014161,
     "end_time": "2025-09-09T01:03:45.212074",
     "exception": false,
     "start_time": "2025-09-09T01:03:45.197913",
     "status": "completed"
    },
    "tags": []
   },
   "source": [
    "### Export Clean Data"
   ]
  },
  {
   "cell_type": "code",
   "execution_count": 18,
   "id": "c96de57c",
   "metadata": {
    "execution": {
     "iopub.execute_input": "2025-09-09T01:03:45.241425Z",
     "iopub.status.busy": "2025-09-09T01:03:45.241204Z",
     "iopub.status.idle": "2025-09-09T01:03:54.358857Z",
     "shell.execute_reply": "2025-09-09T01:03:54.358205Z"
    },
    "papermill": {
     "duration": 9.133536,
     "end_time": "2025-09-09T01:03:54.359950",
     "exception": false,
     "start_time": "2025-09-09T01:03:45.226414",
     "status": "completed"
    },
    "tags": []
   },
   "outputs": [
    {
     "name": "stdout",
     "output_type": "stream",
     "text": [
      "Project Root: /home/runner/work/crime-data/crime-data\n"
     ]
    },
    {
     "name": "stdout",
     "output_type": "stream",
     "text": [
      "Data saved to: /home/runner/work/crime-data/crime-data/data/charlottesville_crime_incidents.csv\n"
     ]
    },
    {
     "name": "stdout",
     "output_type": "stream",
     "text": [
      "Excel saved to: /home/runner/work/crime-data/crime-data/data/charlottesville_crime_incidents.xlsx\n"
     ]
    }
   ],
   "source": [
    "# Determine the project root (assuming papermill is run from the repository root)\n",
    "project_root = os.getcwd()\n",
    "print(\"Project Root:\", project_root)\n",
    "\n",
    "# Set the data directory within the project root\n",
    "data_dir = os.path.join(project_root, \"data\")\n",
    "\n",
    "# Ensure the \"data\" directory exists (create it if it doesn't)\n",
    "if not os.path.exists(data_dir):\n",
    "    os.makedirs(data_dir)\n",
    "\n",
    "# Export the DataFrame to CSV in the \"data\" folder located in the project root\n",
    "csv_path = os.path.join(data_dir, \"charlottesville_crime_incidents.csv\")\n",
    "df.to_csv(csv_path, index=False)\n",
    "print(\"Data saved to:\", csv_path)\n",
    "\n",
    "# Construct the path to your Excel file\n",
    "excel_path = os.path.join(data_dir, \"charlottesville_crime_incidents.xlsx\")\n",
    "\n",
    "# Export the DataFrame to Excel\n",
    "df.to_excel(excel_path, index=False)\n",
    "print(\"Excel saved to:\", excel_path)\n"
   ]
  }
 ],
 "metadata": {
  "kernelspec": {
   "display_name": "Python 3",
   "language": "python",
   "name": "python3"
  },
  "language_info": {
   "codemirror_mode": {
    "name": "ipython",
    "version": 3
   },
   "file_extension": ".py",
   "mimetype": "text/x-python",
   "name": "python",
   "nbconvert_exporter": "python",
   "pygments_lexer": "ipython3",
   "version": "3.9.23"
  },
  "papermill": {
   "default_parameters": {},
   "duration": 268.202317,
   "end_time": "2025-09-09T01:03:54.790575",
   "environment_variables": {},
   "exception": null,
   "input_path": "notebook/Crime Data.ipynb",
   "output_path": "notebook/Crime Data_output.ipynb",
   "parameters": {},
   "start_time": "2025-09-09T00:59:26.588258",
   "version": "2.6.0"
  }
 },
 "nbformat": 4,
 "nbformat_minor": 5
}