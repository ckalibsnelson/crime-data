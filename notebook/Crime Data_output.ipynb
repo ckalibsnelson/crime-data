{
 "cells": [
  {
   "cell_type": "markdown",
   "id": "05b9543e",
   "metadata": {
    "papermill": {
     "duration": 0.004542,
     "end_time": "2025-06-11T01:04:40.992019",
     "exception": false,
     "start_time": "2025-06-11T01:04:40.987477",
     "status": "completed"
    },
    "tags": []
   },
   "source": [
    "# Charlottesville Open Data Porttal: Crime Data"
   ]
  },
  {
   "cell_type": "markdown",
   "id": "a4f20365",
   "metadata": {
    "papermill": {
     "duration": 0.003418,
     "end_time": "2025-06-11T01:04:40.999268",
     "exception": false,
     "start_time": "2025-06-11T01:04:40.995850",
     "status": "completed"
    },
    "tags": []
   },
   "source": [
    "## Import Relevant Librarires & Set WD"
   ]
  },
  {
   "cell_type": "code",
   "execution_count": 1,
   "id": "da77f8a6",
   "metadata": {
    "execution": {
     "iopub.execute_input": "2025-06-11T01:04:41.007662Z",
     "iopub.status.busy": "2025-06-11T01:04:41.007098Z",
     "iopub.status.idle": "2025-06-11T01:04:41.633179Z",
     "shell.execute_reply": "2025-06-11T01:04:41.632433Z"
    },
    "papermill": {
     "duration": 0.631998,
     "end_time": "2025-06-11T01:04:41.634632",
     "exception": false,
     "start_time": "2025-06-11T01:04:41.002634",
     "status": "completed"
    },
    "tags": []
   },
   "outputs": [],
   "source": [
    "import requests\n",
    "import pandas as pd\n",
    "import numpy as np\n",
    "import pickle\n",
    "import googlemaps\n",
    "import plotly.express as px\n",
    "from geopy.geocoders import Nominatim\n",
    "import time\n",
    "from dotenv import load_dotenv\n",
    "import os\n",
    "\n",
    "env_path = os.path.join(\"..\", \".env\")\n",
    "#print(\"Looking for .env file at:\", os.path.abspath(env_path))\n",
    "load_dotenv(dotenv_path=env_path)\n",
    "\n",
    "# Retrieve the variables\n",
    "GOOGLE_API_KEY = os.getenv(\"GOOGLE_API_KEY\")\n",
    "WORKING_DIR = os.getenv(\"WORKING_DIR\")\n",
    "\n",
    "if GOOGLE_API_KEY is None or WORKING_DIR is None:\n",
    "    raise RuntimeError(\"No configuration found. Please ensure that your .env file exists with the required variables, or create a local config.py file.\")\n",
    "\n",
    "#print(\"Google API Key:\", GOOGLE_API_KEY)\n",
    "#print(\"Working Directory:\", WORKING_DIR)"
   ]
  },
  {
   "cell_type": "markdown",
   "id": "1ca1d81d",
   "metadata": {
    "papermill": {
     "duration": 0.003558,
     "end_time": "2025-06-11T01:04:41.641931",
     "exception": false,
     "start_time": "2025-06-11T01:04:41.638373",
     "status": "completed"
    },
    "tags": []
   },
   "source": [
    "## Import Data\n",
    "\n",
    "URL: https://opendata.charlottesville.org/datasets/charlottesville::crime-data/about"
   ]
  },
  {
   "cell_type": "code",
   "execution_count": 2,
   "id": "485ec47a",
   "metadata": {
    "execution": {
     "iopub.execute_input": "2025-06-11T01:04:41.650526Z",
     "iopub.status.busy": "2025-06-11T01:04:41.649814Z",
     "iopub.status.idle": "2025-06-11T01:05:48.614826Z",
     "shell.execute_reply": "2025-06-11T01:05:48.614123Z"
    },
    "papermill": {
     "duration": 66.973477,
     "end_time": "2025-06-11T01:05:48.618927",
     "exception": false,
     "start_time": "2025-06-11T01:04:41.645450",
     "status": "completed"
    },
    "tags": []
   },
   "outputs": [
    {
     "name": "stdout",
     "output_type": "stream",
     "text": [
      "Total records imported: 25473\n"
     ]
    }
   ],
   "source": [
    "# Define the endpoint and initial parameters.\n",
    "url = \"https://gisweb.charlottesville.org/arcgis/rest/services/OpenData_2/MapServer/6/query\"\n",
    "params = {\n",
    "    \"where\": \"1=1\",\n",
    "    \"outFields\": \"*\",\n",
    "    \"outSR\": 4326,\n",
    "    \"f\": \"json\",\n",
    "    \"resultOffset\": 0,       # Starting index for results\n",
    "    \"resultRecordCount\": 10000  # Maximum records per batch (if allowed by the API)\n",
    "}\n",
    "\n",
    "records = []\n",
    "\n",
    "while True:\n",
    "    response = requests.get(url, params=params)\n",
    "    response.raise_for_status()\n",
    "    data = response.json()\n",
    "    \n",
    "    # Get the current batch of features.\n",
    "    features = data.get(\"features\", [])\n",
    "    if not features:\n",
    "        break\n",
    "\n",
    "    # Extract the attributes from the features.\n",
    "    batch_records = [feature.get(\"attributes\", {}) for feature in features]\n",
    "    records.extend(batch_records)\n",
    "    \n",
    "    # If the batch size is less than the requested count, we reached the end.\n",
    "    if len(features) < params[\"resultRecordCount\"]:\n",
    "        break\n",
    "\n",
    "    # Update the resultOffset for the next batch.\n",
    "    params[\"resultOffset\"] += params[\"resultRecordCount\"]\n",
    "\n",
    "# Create a DataFrame from the combined records.\n",
    "df = pd.DataFrame(records)\n",
    "print(\"Total records imported:\", len(df))\n"
   ]
  },
  {
   "cell_type": "code",
   "execution_count": 3,
   "id": "28f4879a",
   "metadata": {
    "execution": {
     "iopub.execute_input": "2025-06-11T01:05:48.627187Z",
     "iopub.status.busy": "2025-06-11T01:05:48.626708Z",
     "iopub.status.idle": "2025-06-11T01:05:48.639283Z",
     "shell.execute_reply": "2025-06-11T01:05:48.638604Z"
    },
    "papermill": {
     "duration": 0.017748,
     "end_time": "2025-06-11T01:05:48.640303",
     "exception": false,
     "start_time": "2025-06-11T01:05:48.622555",
     "status": "completed"
    },
    "tags": []
   },
   "outputs": [
    {
     "data": {
      "text/html": [
       "<div>\n",
       "<style scoped>\n",
       "    .dataframe tbody tr th:only-of-type {\n",
       "        vertical-align: middle;\n",
       "    }\n",
       "\n",
       "    .dataframe tbody tr th {\n",
       "        vertical-align: top;\n",
       "    }\n",
       "\n",
       "    .dataframe thead th {\n",
       "        text-align: right;\n",
       "    }\n",
       "</style>\n",
       "<table border=\"1\" class=\"dataframe\">\n",
       "  <thead>\n",
       "    <tr style=\"text-align: right;\">\n",
       "      <th></th>\n",
       "      <th>RecordID</th>\n",
       "      <th>Offense</th>\n",
       "      <th>IncidentID</th>\n",
       "      <th>BlockNumber</th>\n",
       "      <th>StreetName</th>\n",
       "      <th>Agency</th>\n",
       "      <th>DateReported</th>\n",
       "      <th>HourReported</th>\n",
       "      <th>ReportingOfficer</th>\n",
       "    </tr>\n",
       "  </thead>\n",
       "  <tbody>\n",
       "    <tr>\n",
       "      <th>0</th>\n",
       "      <td>1</td>\n",
       "      <td>Missing Person-juvenile</td>\n",
       "      <td>202500019654</td>\n",
       "      <td>500</td>\n",
       "      <td>ROCKLAND AVE</td>\n",
       "      <td>CPD</td>\n",
       "      <td>1749437025000</td>\n",
       "      <td>2243</td>\n",
       "      <td>Benbow, Lauren</td>\n",
       "    </tr>\n",
       "    <tr>\n",
       "      <th>1</th>\n",
       "      <td>2</td>\n",
       "      <td>Vandalism</td>\n",
       "      <td>202500019653</td>\n",
       "      <td>200</td>\n",
       "      <td>E WATER ST</td>\n",
       "      <td>CPD</td>\n",
       "      <td>1749436003000</td>\n",
       "      <td>2226</td>\n",
       "      <td>Crowley, Raeann</td>\n",
       "    </tr>\n",
       "    <tr>\n",
       "      <th>2</th>\n",
       "      <td>3</td>\n",
       "      <td>Assault Simple</td>\n",
       "      <td>202500019649</td>\n",
       "      <td>600</td>\n",
       "      <td>E MAIN ST</td>\n",
       "      <td>CPD</td>\n",
       "      <td>1749432963000</td>\n",
       "      <td>2136</td>\n",
       "      <td>Oakes, Maithe</td>\n",
       "    </tr>\n",
       "    <tr>\n",
       "      <th>3</th>\n",
       "      <td>4</td>\n",
       "      <td>Disturbance - Non Domestic</td>\n",
       "      <td>202500019636</td>\n",
       "      <td>1300</td>\n",
       "      <td>CARLTON AVE</td>\n",
       "      <td>CPD</td>\n",
       "      <td>1749425719000</td>\n",
       "      <td>1935</td>\n",
       "      <td>Ritter, Kobe</td>\n",
       "    </tr>\n",
       "    <tr>\n",
       "      <th>4</th>\n",
       "      <td>5</td>\n",
       "      <td>Assault Simple</td>\n",
       "      <td>202500019617</td>\n",
       "      <td></td>\n",
       "      <td>HAMPTON ST / RIVES ST</td>\n",
       "      <td>CPD</td>\n",
       "      <td>1749412775000</td>\n",
       "      <td>1559</td>\n",
       "      <td>Essex, Dominique</td>\n",
       "    </tr>\n",
       "  </tbody>\n",
       "</table>\n",
       "</div>"
      ],
      "text/plain": [
       "   RecordID                     Offense    IncidentID BlockNumber  \\\n",
       "0         1     Missing Person-juvenile  202500019654         500   \n",
       "1         2                   Vandalism  202500019653         200   \n",
       "2         3              Assault Simple  202500019649         600   \n",
       "3         4  Disturbance - Non Domestic  202500019636        1300   \n",
       "4         5              Assault Simple  202500019617               \n",
       "\n",
       "              StreetName Agency   DateReported HourReported  ReportingOfficer  \n",
       "0           ROCKLAND AVE    CPD  1749437025000         2243    Benbow, Lauren  \n",
       "1             E WATER ST    CPD  1749436003000         2226   Crowley, Raeann  \n",
       "2              E MAIN ST    CPD  1749432963000         2136     Oakes, Maithe  \n",
       "3            CARLTON AVE    CPD  1749425719000         1935      Ritter, Kobe  \n",
       "4  HAMPTON ST / RIVES ST    CPD  1749412775000         1559  Essex, Dominique  "
      ]
     },
     "execution_count": 3,
     "metadata": {},
     "output_type": "execute_result"
    }
   ],
   "source": [
    "df.head()"
   ]
  },
  {
   "cell_type": "code",
   "execution_count": 4,
   "id": "068b9e22",
   "metadata": {
    "execution": {
     "iopub.execute_input": "2025-06-11T01:05:48.648688Z",
     "iopub.status.busy": "2025-06-11T01:05:48.648480Z",
     "iopub.status.idle": "2025-06-11T01:05:48.652556Z",
     "shell.execute_reply": "2025-06-11T01:05:48.652019Z"
    },
    "papermill": {
     "duration": 0.009617,
     "end_time": "2025-06-11T01:05:48.653649",
     "exception": false,
     "start_time": "2025-06-11T01:05:48.644032",
     "status": "completed"
    },
    "tags": []
   },
   "outputs": [
    {
     "data": {
      "text/plain": [
       "Index(['RecordID', 'Offense', 'IncidentID', 'BlockNumber', 'StreetName',\n",
       "       'Agency', 'DateReported', 'HourReported', 'ReportingOfficer'],\n",
       "      dtype='object')"
      ]
     },
     "execution_count": 4,
     "metadata": {},
     "output_type": "execute_result"
    }
   ],
   "source": [
    "df.columns"
   ]
  },
  {
   "cell_type": "code",
   "execution_count": 5,
   "id": "ee323171",
   "metadata": {
    "execution": {
     "iopub.execute_input": "2025-06-11T01:05:48.662371Z",
     "iopub.status.busy": "2025-06-11T01:05:48.662173Z",
     "iopub.status.idle": "2025-06-11T01:05:48.685675Z",
     "shell.execute_reply": "2025-06-11T01:05:48.685101Z"
    },
    "papermill": {
     "duration": 0.029321,
     "end_time": "2025-06-11T01:05:48.686717",
     "exception": false,
     "start_time": "2025-06-11T01:05:48.657396",
     "status": "completed"
    },
    "tags": []
   },
   "outputs": [
    {
     "name": "stdout",
     "output_type": "stream",
     "text": [
      "<class 'pandas.core.frame.DataFrame'>\n",
      "RangeIndex: 25473 entries, 0 to 25472\n",
      "Data columns (total 9 columns):\n",
      " #   Column            Non-Null Count  Dtype \n",
      "---  ------            --------------  ----- \n",
      " 0   RecordID          25473 non-null  int64 \n",
      " 1   Offense           25473 non-null  object\n",
      " 2   IncidentID        25473 non-null  object\n",
      " 3   BlockNumber       25473 non-null  object\n",
      " 4   StreetName        25473 non-null  object\n",
      " 5   Agency            25473 non-null  object\n",
      " 6   DateReported      25473 non-null  int64 \n",
      " 7   HourReported      25473 non-null  object\n",
      " 8   ReportingOfficer  25456 non-null  object\n",
      "dtypes: int64(2), object(7)\n",
      "memory usage: 1.7+ MB\n"
     ]
    }
   ],
   "source": [
    "df.info()"
   ]
  },
  {
   "cell_type": "markdown",
   "id": "0bfa6b40",
   "metadata": {
    "papermill": {
     "duration": 0.003783,
     "end_time": "2025-06-11T01:05:48.694536",
     "exception": false,
     "start_time": "2025-06-11T01:05:48.690753",
     "status": "completed"
    },
    "tags": []
   },
   "source": [
    "### Missing Values"
   ]
  },
  {
   "cell_type": "code",
   "execution_count": 6,
   "id": "aef26959",
   "metadata": {
    "execution": {
     "iopub.execute_input": "2025-06-11T01:05:48.727561Z",
     "iopub.status.busy": "2025-06-11T01:05:48.726902Z",
     "iopub.status.idle": "2025-06-11T01:05:48.751933Z",
     "shell.execute_reply": "2025-06-11T01:05:48.751240Z"
    },
    "papermill": {
     "duration": 0.030961,
     "end_time": "2025-06-11T01:05:48.753012",
     "exception": false,
     "start_time": "2025-06-11T01:05:48.722051",
     "status": "completed"
    },
    "tags": []
   },
   "outputs": [
    {
     "name": "stdout",
     "output_type": "stream",
     "text": [
      "                  MissingCount  MissingPercentage\n",
      "RecordID                     0               0.00\n",
      "Offense                      0               0.00\n",
      "IncidentID                   0               0.00\n",
      "BlockNumber                  0               0.00\n",
      "StreetName                   0               0.00\n",
      "Agency                       0               0.00\n",
      "DateReported                 0               0.00\n",
      "HourReported                 0               0.00\n",
      "ReportingOfficer            17               0.07\n"
     ]
    }
   ],
   "source": [
    "def missing_percentage(df):\n",
    "    \"\"\"\n",
    "    Returns a DataFrame with the count and percentage of missing values for each column.\n",
    "    \n",
    "    Parameters:\n",
    "        df (pd.DataFrame): The input DataFrame.\n",
    "    \n",
    "    Returns:\n",
    "        pd.DataFrame: A DataFrame with columns 'MissingCount' and 'MissingPercentage'.\n",
    "    \"\"\"\n",
    "    total_rows = len(df)\n",
    "    missing_count = df.isnull().sum()\n",
    "    missing_percent = (missing_count / total_rows) * 100\n",
    "    \n",
    "    result = pd.DataFrame({\n",
    "        'MissingCount': missing_count,\n",
    "        'MissingPercentage': missing_percent.round(2)\n",
    "    })\n",
    "    \n",
    "    return result\n",
    "\n",
    "# Example usage:\n",
    "missing_info = missing_percentage(df)\n",
    "print(missing_info)\n"
   ]
  },
  {
   "cell_type": "markdown",
   "id": "6d2e7be7",
   "metadata": {
    "papermill": {
     "duration": 0.004009,
     "end_time": "2025-06-11T01:05:48.761348",
     "exception": false,
     "start_time": "2025-06-11T01:05:48.757339",
     "status": "completed"
    },
    "tags": []
   },
   "source": [
    "## Data Preparation"
   ]
  },
  {
   "cell_type": "markdown",
   "id": "27cde422",
   "metadata": {
    "papermill": {
     "duration": 0.003781,
     "end_time": "2025-06-11T01:05:48.769007",
     "exception": false,
     "start_time": "2025-06-11T01:05:48.765226",
     "status": "completed"
    },
    "tags": []
   },
   "source": [
    "### Data Conversion"
   ]
  },
  {
   "cell_type": "code",
   "execution_count": 7,
   "id": "e0808627",
   "metadata": {
    "execution": {
     "iopub.execute_input": "2025-06-11T01:05:48.778115Z",
     "iopub.status.busy": "2025-06-11T01:05:48.777652Z",
     "iopub.status.idle": "2025-06-11T01:05:49.144558Z",
     "shell.execute_reply": "2025-06-11T01:05:49.143843Z"
    },
    "papermill": {
     "duration": 0.372665,
     "end_time": "2025-06-11T01:05:49.145599",
     "exception": false,
     "start_time": "2025-06-11T01:05:48.772934",
     "status": "completed"
    },
    "tags": []
   },
   "outputs": [
    {
     "data": {
      "text/html": [
       "<div>\n",
       "<style scoped>\n",
       "    .dataframe tbody tr th:only-of-type {\n",
       "        vertical-align: middle;\n",
       "    }\n",
       "\n",
       "    .dataframe tbody tr th {\n",
       "        vertical-align: top;\n",
       "    }\n",
       "\n",
       "    .dataframe thead th {\n",
       "        text-align: right;\n",
       "    }\n",
       "</style>\n",
       "<table border=\"1\" class=\"dataframe\">\n",
       "  <thead>\n",
       "    <tr style=\"text-align: right;\">\n",
       "      <th></th>\n",
       "      <th>RecordID</th>\n",
       "      <th>Offense</th>\n",
       "      <th>IncidentID</th>\n",
       "      <th>BlockNumber</th>\n",
       "      <th>StreetName</th>\n",
       "      <th>Agency</th>\n",
       "      <th>HourReported</th>\n",
       "      <th>ReportingOfficer</th>\n",
       "      <th>Date</th>\n",
       "      <th>DateString</th>\n",
       "      <th>DayOfWeek</th>\n",
       "      <th>Weekend</th>\n",
       "      <th>Season</th>\n",
       "      <th>HourAMPM</th>\n",
       "      <th>TimeOfDay</th>\n",
       "    </tr>\n",
       "  </thead>\n",
       "  <tbody>\n",
       "    <tr>\n",
       "      <th>0</th>\n",
       "      <td>1</td>\n",
       "      <td>Missing Person-juvenile</td>\n",
       "      <td>202500019654</td>\n",
       "      <td>500</td>\n",
       "      <td>ROCKLAND AVE</td>\n",
       "      <td>CPD</td>\n",
       "      <td>2243</td>\n",
       "      <td>Benbow, Lauren</td>\n",
       "      <td>2025-06-08 22:43:45</td>\n",
       "      <td>2025-06-08 10:43:45 PM</td>\n",
       "      <td>Sunday</td>\n",
       "      <td>True</td>\n",
       "      <td>Spring</td>\n",
       "      <td>10:43 PM</td>\n",
       "      <td>Night</td>\n",
       "    </tr>\n",
       "    <tr>\n",
       "      <th>1</th>\n",
       "      <td>2</td>\n",
       "      <td>Vandalism</td>\n",
       "      <td>202500019653</td>\n",
       "      <td>200</td>\n",
       "      <td>E WATER ST</td>\n",
       "      <td>CPD</td>\n",
       "      <td>2226</td>\n",
       "      <td>Crowley, Raeann</td>\n",
       "      <td>2025-06-08 22:26:43</td>\n",
       "      <td>2025-06-08 10:26:43 PM</td>\n",
       "      <td>Sunday</td>\n",
       "      <td>True</td>\n",
       "      <td>Spring</td>\n",
       "      <td>10:26 PM</td>\n",
       "      <td>Night</td>\n",
       "    </tr>\n",
       "    <tr>\n",
       "      <th>2</th>\n",
       "      <td>3</td>\n",
       "      <td>Assault Simple</td>\n",
       "      <td>202500019649</td>\n",
       "      <td>600</td>\n",
       "      <td>E MAIN ST</td>\n",
       "      <td>CPD</td>\n",
       "      <td>2136</td>\n",
       "      <td>Oakes, Maithe</td>\n",
       "      <td>2025-06-08 21:36:03</td>\n",
       "      <td>2025-06-08 09:36:03 PM</td>\n",
       "      <td>Sunday</td>\n",
       "      <td>True</td>\n",
       "      <td>Spring</td>\n",
       "      <td>09:36 PM</td>\n",
       "      <td>Night</td>\n",
       "    </tr>\n",
       "    <tr>\n",
       "      <th>3</th>\n",
       "      <td>4</td>\n",
       "      <td>Disturbance - Non Domestic</td>\n",
       "      <td>202500019636</td>\n",
       "      <td>1300</td>\n",
       "      <td>CARLTON AVE</td>\n",
       "      <td>CPD</td>\n",
       "      <td>1935</td>\n",
       "      <td>Ritter, Kobe</td>\n",
       "      <td>2025-06-08 19:35:19</td>\n",
       "      <td>2025-06-08 07:35:19 PM</td>\n",
       "      <td>Sunday</td>\n",
       "      <td>True</td>\n",
       "      <td>Spring</td>\n",
       "      <td>07:35 PM</td>\n",
       "      <td>Evening</td>\n",
       "    </tr>\n",
       "    <tr>\n",
       "      <th>4</th>\n",
       "      <td>5</td>\n",
       "      <td>Assault Simple</td>\n",
       "      <td>202500019617</td>\n",
       "      <td></td>\n",
       "      <td>HAMPTON ST / RIVES ST</td>\n",
       "      <td>CPD</td>\n",
       "      <td>1559</td>\n",
       "      <td>Essex, Dominique</td>\n",
       "      <td>2025-06-08 15:59:35</td>\n",
       "      <td>2025-06-08 03:59:35 PM</td>\n",
       "      <td>Sunday</td>\n",
       "      <td>True</td>\n",
       "      <td>Spring</td>\n",
       "      <td>03:59 PM</td>\n",
       "      <td>Afternoon</td>\n",
       "    </tr>\n",
       "  </tbody>\n",
       "</table>\n",
       "</div>"
      ],
      "text/plain": [
       "   RecordID                     Offense    IncidentID BlockNumber  \\\n",
       "0         1     Missing Person-juvenile  202500019654         500   \n",
       "1         2                   Vandalism  202500019653         200   \n",
       "2         3              Assault Simple  202500019649         600   \n",
       "3         4  Disturbance - Non Domestic  202500019636        1300   \n",
       "4         5              Assault Simple  202500019617               \n",
       "\n",
       "              StreetName Agency HourReported  ReportingOfficer  \\\n",
       "0           ROCKLAND AVE    CPD         2243    Benbow, Lauren   \n",
       "1             E WATER ST    CPD         2226   Crowley, Raeann   \n",
       "2              E MAIN ST    CPD         2136     Oakes, Maithe   \n",
       "3            CARLTON AVE    CPD         1935      Ritter, Kobe   \n",
       "4  HAMPTON ST / RIVES ST    CPD         1559  Essex, Dominique   \n",
       "\n",
       "                 Date              DateString DayOfWeek  Weekend  Season  \\\n",
       "0 2025-06-08 22:43:45  2025-06-08 10:43:45 PM    Sunday     True  Spring   \n",
       "1 2025-06-08 22:26:43  2025-06-08 10:26:43 PM    Sunday     True  Spring   \n",
       "2 2025-06-08 21:36:03  2025-06-08 09:36:03 PM    Sunday     True  Spring   \n",
       "3 2025-06-08 19:35:19  2025-06-08 07:35:19 PM    Sunday     True  Spring   \n",
       "4 2025-06-08 15:59:35  2025-06-08 03:59:35 PM    Sunday     True  Spring   \n",
       "\n",
       "   HourAMPM  TimeOfDay  \n",
       "0  10:43 PM      Night  \n",
       "1  10:26 PM      Night  \n",
       "2  09:36 PM      Night  \n",
       "3  07:35 PM    Evening  \n",
       "4  03:59 PM  Afternoon  "
      ]
     },
     "execution_count": 7,
     "metadata": {},
     "output_type": "execute_result"
    }
   ],
   "source": [
    "def convert_and_categorize_datereported(df, col='DateReported'):\n",
    "    \"\"\"\n",
    "    Converts an epoch (in milliseconds) date column into a timezone-aware datetime,\n",
    "    converts it to Eastern Time, and then creates columns for day-of-week, weekend flag,\n",
    "    season, 12-hour formatted time, and time-of-day. Keeps both a real datetime column\n",
    "    (Date) and a string representation (DateString).\n",
    "    \"\"\"\n",
    "    import pandas as pd\n",
    "\n",
    "    # Convert the epoch timestamp to a pandas datetime object as UTC, then convert to US/Eastern.\n",
    "    df[\"DateReported_dt\"] = (\n",
    "        pd.to_datetime(df[col], unit=\"ms\", errors=\"coerce\", utc=True)\n",
    "        .dt.tz_convert(\"US/Eastern\")\n",
    "    )\n",
    "    \n",
    "    # Create a true datetime column (remove timezone if you prefer naive datetime)\n",
    "    df[\"Date\"] = df[\"DateReported_dt\"].dt.tz_localize(None)\n",
    "\n",
    "    # Optionally, create a separate string-formatted column\n",
    "    df[\"DateString\"] = df[\"DateReported_dt\"].dt.strftime(\"%Y-%m-%d %I:%M:%S %p\")\n",
    "    \n",
    "    # DayOfWeek\n",
    "    df[\"DayOfWeek\"] = df[\"DateReported_dt\"].dt.day_name()\n",
    "    \n",
    "    # Weekend\n",
    "    df[\"Weekend\"] = df[\"DayOfWeek\"].isin([\"Saturday\", \"Sunday\"])\n",
    "    \n",
    "    # Helper function to determine the season\n",
    "    def get_season(dt):\n",
    "        month = dt.month\n",
    "        day = dt.day\n",
    "        # Approximate Northern Hemisphere season boundaries:\n",
    "        if (month == 12 and day >= 21) or (month < 3) or (month == 3 and day < 20):\n",
    "            return \"Winter\"\n",
    "        elif (month == 3 and day >= 20) or (month < 6) or (month == 6 and day < 21):\n",
    "            return \"Spring\"\n",
    "        elif (month == 6 and day >= 21) or (month < 9) or (month == 9 and day < 22):\n",
    "            return \"Summer\"\n",
    "        else:\n",
    "            return \"Autumn\"\n",
    "    \n",
    "    df[\"Season\"] = df[\"DateReported_dt\"].apply(get_season)\n",
    "    \n",
    "    # 12-hour formatted time (HourAMPM)\n",
    "    df[\"HourAMPM\"] = df[\"DateReported_dt\"].dt.strftime(\"%I:%M %p\")\n",
    "    \n",
    "    # Extract hour (0-23) for time-of-day\n",
    "    df[\"HourValue\"] = df[\"DateReported_dt\"].dt.hour\n",
    "    \n",
    "    def time_of_day(hour):\n",
    "        if pd.isnull(hour):\n",
    "            return None\n",
    "        if 5 <= hour < 12:\n",
    "            return \"Morning\"\n",
    "        elif 12 <= hour < 17:\n",
    "            return \"Afternoon\"\n",
    "        elif 17 <= hour < 21:\n",
    "            return \"Evening\"\n",
    "        else:\n",
    "            return \"Night\"\n",
    "    \n",
    "    df[\"TimeOfDay\"] = df[\"HourValue\"].apply(time_of_day)\n",
    "    \n",
    "    # Drop columns you no longer need\n",
    "    df.drop(columns=[col, \"DateReported_dt\", \"HourValue\"], inplace=True)\n",
    "    \n",
    "    return df\n",
    "\n",
    "# Example usage:\n",
    "df = convert_and_categorize_datereported(df)\n",
    "df.head()\n"
   ]
  },
  {
   "cell_type": "code",
   "execution_count": 8,
   "id": "7c7151cb",
   "metadata": {
    "execution": {
     "iopub.execute_input": "2025-06-11T01:05:49.155366Z",
     "iopub.status.busy": "2025-06-11T01:05:49.155102Z",
     "iopub.status.idle": "2025-06-11T01:05:49.183692Z",
     "shell.execute_reply": "2025-06-11T01:05:49.183072Z"
    },
    "papermill": {
     "duration": 0.034699,
     "end_time": "2025-06-11T01:05:49.184764",
     "exception": false,
     "start_time": "2025-06-11T01:05:49.150065",
     "status": "completed"
    },
    "tags": []
   },
   "outputs": [
    {
     "name": "stdout",
     "output_type": "stream",
     "text": [
      "<class 'pandas.core.frame.DataFrame'>\n",
      "RangeIndex: 25473 entries, 0 to 25472\n",
      "Data columns (total 15 columns):\n",
      " #   Column            Non-Null Count  Dtype         \n",
      "---  ------            --------------  -----         \n",
      " 0   RecordID          25473 non-null  int64         \n",
      " 1   Offense           25473 non-null  object        \n",
      " 2   IncidentID        25473 non-null  object        \n",
      " 3   BlockNumber       25473 non-null  object        \n",
      " 4   StreetName        25473 non-null  object        \n",
      " 5   Agency            25473 non-null  object        \n",
      " 6   HourReported      25473 non-null  object        \n",
      " 7   ReportingOfficer  25456 non-null  object        \n",
      " 8   Date              25473 non-null  datetime64[ns]\n",
      " 9   DateString        25473 non-null  object        \n",
      " 10  DayOfWeek         25473 non-null  object        \n",
      " 11  Weekend           25473 non-null  bool          \n",
      " 12  Season            25473 non-null  object        \n",
      " 13  HourAMPM          25473 non-null  object        \n",
      " 14  TimeOfDay         25473 non-null  object        \n",
      "dtypes: bool(1), datetime64[ns](1), int64(1), object(12)\n",
      "memory usage: 2.7+ MB\n"
     ]
    }
   ],
   "source": [
    "df.info()"
   ]
  },
  {
   "cell_type": "markdown",
   "id": "a73d18cc",
   "metadata": {
    "papermill": {
     "duration": 0.004367,
     "end_time": "2025-06-11T01:05:49.193715",
     "exception": false,
     "start_time": "2025-06-11T01:05:49.189348",
     "status": "completed"
    },
    "tags": []
   },
   "source": [
    "### Coordinates"
   ]
  },
  {
   "cell_type": "code",
   "execution_count": 9,
   "id": "48bdb9d6",
   "metadata": {
    "execution": {
     "iopub.execute_input": "2025-06-11T01:05:49.203855Z",
     "iopub.status.busy": "2025-06-11T01:05:49.203355Z",
     "iopub.status.idle": "2025-06-11T01:05:49.325923Z",
     "shell.execute_reply": "2025-06-11T01:05:49.325334Z"
    },
    "papermill": {
     "duration": 0.128947,
     "end_time": "2025-06-11T01:05:49.327022",
     "exception": false,
     "start_time": "2025-06-11T01:05:49.198075",
     "status": "completed"
    },
    "tags": []
   },
   "outputs": [
    {
     "name": "stdout",
     "output_type": "stream",
     "text": [
      "Loaded geocode cache.\n",
      "Error geocoding  HAMPTON ST / RIVES ST: REQUEST_DENIED (You must enable Billing on the Google Cloud Project at https://console.cloud.google.com/project/_/billing/enable Learn more at https://developers.google.com/maps/gmp-get-started)\n",
      "Geocoded  HAMPTON ST / RIVES ST: None, None\n",
      "Geocode cache updated and saved.\n"
     ]
    },
    {
     "data": {
      "text/html": [
       "<div>\n",
       "<style scoped>\n",
       "    .dataframe tbody tr th:only-of-type {\n",
       "        vertical-align: middle;\n",
       "    }\n",
       "\n",
       "    .dataframe tbody tr th {\n",
       "        vertical-align: top;\n",
       "    }\n",
       "\n",
       "    .dataframe thead th {\n",
       "        text-align: right;\n",
       "    }\n",
       "</style>\n",
       "<table border=\"1\" class=\"dataframe\">\n",
       "  <thead>\n",
       "    <tr style=\"text-align: right;\">\n",
       "      <th></th>\n",
       "      <th>RecordID</th>\n",
       "      <th>Offense</th>\n",
       "      <th>IncidentID</th>\n",
       "      <th>BlockNumber</th>\n",
       "      <th>StreetName</th>\n",
       "      <th>Agency</th>\n",
       "      <th>HourReported</th>\n",
       "      <th>ReportingOfficer</th>\n",
       "      <th>Date</th>\n",
       "      <th>DateString</th>\n",
       "      <th>DayOfWeek</th>\n",
       "      <th>Weekend</th>\n",
       "      <th>Season</th>\n",
       "      <th>HourAMPM</th>\n",
       "      <th>TimeOfDay</th>\n",
       "      <th>FullStreet</th>\n",
       "      <th>lat</th>\n",
       "      <th>lon</th>\n",
       "    </tr>\n",
       "  </thead>\n",
       "  <tbody>\n",
       "    <tr>\n",
       "      <th>0</th>\n",
       "      <td>1</td>\n",
       "      <td>Missing Person-juvenile</td>\n",
       "      <td>202500019654</td>\n",
       "      <td>500</td>\n",
       "      <td>ROCKLAND AVE</td>\n",
       "      <td>CPD</td>\n",
       "      <td>2243</td>\n",
       "      <td>Benbow, Lauren</td>\n",
       "      <td>2025-06-08 22:43:45</td>\n",
       "      <td>2025-06-08 10:43:45 PM</td>\n",
       "      <td>Sunday</td>\n",
       "      <td>True</td>\n",
       "      <td>Spring</td>\n",
       "      <td>10:43 PM</td>\n",
       "      <td>Night</td>\n",
       "      <td>500 ROCKLAND AVE</td>\n",
       "      <td>38.019715</td>\n",
       "      <td>-78.486133</td>\n",
       "    </tr>\n",
       "    <tr>\n",
       "      <th>1</th>\n",
       "      <td>2</td>\n",
       "      <td>Vandalism</td>\n",
       "      <td>202500019653</td>\n",
       "      <td>200</td>\n",
       "      <td>E WATER ST</td>\n",
       "      <td>CPD</td>\n",
       "      <td>2226</td>\n",
       "      <td>Crowley, Raeann</td>\n",
       "      <td>2025-06-08 22:26:43</td>\n",
       "      <td>2025-06-08 10:26:43 PM</td>\n",
       "      <td>Sunday</td>\n",
       "      <td>True</td>\n",
       "      <td>Spring</td>\n",
       "      <td>10:26 PM</td>\n",
       "      <td>Night</td>\n",
       "      <td>200 E WATER ST</td>\n",
       "      <td>38.029430</td>\n",
       "      <td>-78.481109</td>\n",
       "    </tr>\n",
       "    <tr>\n",
       "      <th>2</th>\n",
       "      <td>3</td>\n",
       "      <td>Assault Simple</td>\n",
       "      <td>202500019649</td>\n",
       "      <td>600</td>\n",
       "      <td>E MAIN ST</td>\n",
       "      <td>CPD</td>\n",
       "      <td>2136</td>\n",
       "      <td>Oakes, Maithe</td>\n",
       "      <td>2025-06-08 21:36:03</td>\n",
       "      <td>2025-06-08 09:36:03 PM</td>\n",
       "      <td>Sunday</td>\n",
       "      <td>True</td>\n",
       "      <td>Spring</td>\n",
       "      <td>09:36 PM</td>\n",
       "      <td>Night</td>\n",
       "      <td>600 E MAIN ST</td>\n",
       "      <td>38.029566</td>\n",
       "      <td>-78.477638</td>\n",
       "    </tr>\n",
       "    <tr>\n",
       "      <th>3</th>\n",
       "      <td>4</td>\n",
       "      <td>Disturbance - Non Domestic</td>\n",
       "      <td>202500019636</td>\n",
       "      <td>1300</td>\n",
       "      <td>CARLTON AVE</td>\n",
       "      <td>CPD</td>\n",
       "      <td>1935</td>\n",
       "      <td>Ritter, Kobe</td>\n",
       "      <td>2025-06-08 19:35:19</td>\n",
       "      <td>2025-06-08 07:35:19 PM</td>\n",
       "      <td>Sunday</td>\n",
       "      <td>True</td>\n",
       "      <td>Spring</td>\n",
       "      <td>07:35 PM</td>\n",
       "      <td>Evening</td>\n",
       "      <td>1300 CARLTON AVE</td>\n",
       "      <td>38.022060</td>\n",
       "      <td>-78.469336</td>\n",
       "    </tr>\n",
       "    <tr>\n",
       "      <th>4</th>\n",
       "      <td>5</td>\n",
       "      <td>Assault Simple</td>\n",
       "      <td>202500019617</td>\n",
       "      <td></td>\n",
       "      <td>HAMPTON ST / RIVES ST</td>\n",
       "      <td>CPD</td>\n",
       "      <td>1559</td>\n",
       "      <td>Essex, Dominique</td>\n",
       "      <td>2025-06-08 15:59:35</td>\n",
       "      <td>2025-06-08 03:59:35 PM</td>\n",
       "      <td>Sunday</td>\n",
       "      <td>True</td>\n",
       "      <td>Spring</td>\n",
       "      <td>03:59 PM</td>\n",
       "      <td>Afternoon</td>\n",
       "      <td>HAMPTON ST / RIVES ST</td>\n",
       "      <td>NaN</td>\n",
       "      <td>NaN</td>\n",
       "    </tr>\n",
       "  </tbody>\n",
       "</table>\n",
       "</div>"
      ],
      "text/plain": [
       "   RecordID                     Offense    IncidentID BlockNumber  \\\n",
       "0         1     Missing Person-juvenile  202500019654         500   \n",
       "1         2                   Vandalism  202500019653         200   \n",
       "2         3              Assault Simple  202500019649         600   \n",
       "3         4  Disturbance - Non Domestic  202500019636        1300   \n",
       "4         5              Assault Simple  202500019617               \n",
       "\n",
       "              StreetName Agency HourReported  ReportingOfficer  \\\n",
       "0           ROCKLAND AVE    CPD         2243    Benbow, Lauren   \n",
       "1             E WATER ST    CPD         2226   Crowley, Raeann   \n",
       "2              E MAIN ST    CPD         2136     Oakes, Maithe   \n",
       "3            CARLTON AVE    CPD         1935      Ritter, Kobe   \n",
       "4  HAMPTON ST / RIVES ST    CPD         1559  Essex, Dominique   \n",
       "\n",
       "                 Date              DateString DayOfWeek  Weekend  Season  \\\n",
       "0 2025-06-08 22:43:45  2025-06-08 10:43:45 PM    Sunday     True  Spring   \n",
       "1 2025-06-08 22:26:43  2025-06-08 10:26:43 PM    Sunday     True  Spring   \n",
       "2 2025-06-08 21:36:03  2025-06-08 09:36:03 PM    Sunday     True  Spring   \n",
       "3 2025-06-08 19:35:19  2025-06-08 07:35:19 PM    Sunday     True  Spring   \n",
       "4 2025-06-08 15:59:35  2025-06-08 03:59:35 PM    Sunday     True  Spring   \n",
       "\n",
       "   HourAMPM  TimeOfDay              FullStreet        lat        lon  \n",
       "0  10:43 PM      Night        500 ROCKLAND AVE  38.019715 -78.486133  \n",
       "1  10:26 PM      Night          200 E WATER ST  38.029430 -78.481109  \n",
       "2  09:36 PM      Night           600 E MAIN ST  38.029566 -78.477638  \n",
       "3  07:35 PM    Evening        1300 CARLTON AVE  38.022060 -78.469336  \n",
       "4  03:59 PM  Afternoon   HAMPTON ST / RIVES ST        NaN        NaN  "
      ]
     },
     "execution_count": 9,
     "metadata": {},
     "output_type": "execute_result"
    }
   ],
   "source": [
    "# Combine BlockNumber and StreetName into a full address string\n",
    "df['FullStreet'] = df['BlockNumber'].astype(str) + \" \" + df['StreetName']\n",
    "\n",
    "# --- Step 1: Setup the Google Maps Client and Cache ---\n",
    "gmaps = googlemaps.Client(key=GOOGLE_API_KEY)\n",
    "\n",
    "# Try to load cached geocoding results if available.\n",
    "try:\n",
    "    with open(\"geocode_cache_google.pkl\", \"rb\") as f:\n",
    "        street_coords = pickle.load(f)\n",
    "    print(\"Loaded geocode cache.\")\n",
    "except FileNotFoundError:\n",
    "    street_coords = {}\n",
    "    print(\"No cache found; starting fresh.\")\n",
    "\n",
    "def geocode_address(address):\n",
    "    try:\n",
    "        # Append city and state to help geocoding\n",
    "        result = gmaps.geocode(f\"{address}, Charlottesville, VA\")\n",
    "        if result:\n",
    "            lat = result[0]['geometry']['location']['lat']\n",
    "            lon = result[0]['geometry']['location']['lng']\n",
    "            return lat, lon\n",
    "    except Exception as e:\n",
    "        print(f\"Error geocoding {address}: {e}\")\n",
    "    return None, None\n",
    "\n",
    "# --- Step 2: Geocode Only New Addresses ---\n",
    "unique_addresses = df['FullStreet'].unique()\n",
    "for address in unique_addresses:\n",
    "    if address not in street_coords:\n",
    "        lat, lon = geocode_address(address)\n",
    "        street_coords[address] = (lat, lon)\n",
    "        print(f\"Geocoded {address}: {lat}, {lon}\")\n",
    "\n",
    "# Save the updated cache to disk.\n",
    "with open(\"geocode_cache_google.pkl\", \"wb\") as f:\n",
    "    pickle.dump(street_coords, f)\n",
    "    print(\"Geocode cache updated and saved.\")\n",
    "\n",
    "# --- Step 3: Map Coordinates Back to DataFrame ---\n",
    "df['lat'] = df['FullStreet'].map(lambda s: street_coords.get(s, (None, None))[0])\n",
    "df['lon'] = df['FullStreet'].map(lambda s: street_coords.get(s, (None, None))[1])\n",
    "\n",
    "df.head()"
   ]
  },
  {
   "cell_type": "markdown",
   "id": "39100d0f",
   "metadata": {
    "papermill": {
     "duration": 0.004654,
     "end_time": "2025-06-11T01:05:49.336548",
     "exception": false,
     "start_time": "2025-06-11T01:05:49.331894",
     "status": "completed"
    },
    "tags": []
   },
   "source": [
    "### Neighborhood"
   ]
  },
  {
   "cell_type": "code",
   "execution_count": 10,
   "id": "6bd5241b",
   "metadata": {
    "execution": {
     "iopub.execute_input": "2025-06-11T01:05:49.346910Z",
     "iopub.status.busy": "2025-06-11T01:05:49.346404Z",
     "iopub.status.idle": "2025-06-11T01:05:49.950303Z",
     "shell.execute_reply": "2025-06-11T01:05:49.949650Z"
    },
    "papermill": {
     "duration": 0.610379,
     "end_time": "2025-06-11T01:05:49.951423",
     "exception": false,
     "start_time": "2025-06-11T01:05:49.341044",
     "status": "completed"
    },
    "tags": []
   },
   "outputs": [
    {
     "name": "stdout",
     "output_type": "stream",
     "text": [
      "Loaded neighborhood cache.\n"
     ]
    },
    {
     "name": "stdout",
     "output_type": "stream",
     "text": [
      "Error getting neighborhood for nan, nan: HTTP Error: 400\n",
      "Error getting neighborhood for nan, nan: HTTP Error: 400\n",
      "Error getting neighborhood for nan, nan: HTTP Error: 400\n"
     ]
    },
    {
     "name": "stdout",
     "output_type": "stream",
     "text": [
      "Error getting neighborhood for nan, nan: HTTP Error: 400\n",
      "Error getting neighborhood for nan, nan: HTTP Error: 400\n",
      "Error getting neighborhood for nan, nan: HTTP Error: 400\n",
      "Error getting neighborhood for nan, nan: HTTP Error: 400\n"
     ]
    },
    {
     "name": "stdout",
     "output_type": "stream",
     "text": [
      "Error getting neighborhood for nan, nan: HTTP Error: 400\n",
      "Error getting neighborhood for nan, nan: HTTP Error: 400\n",
      "Error getting neighborhood for nan, nan: HTTP Error: 400\n",
      "Error getting neighborhood for nan, nan: HTTP Error: 400\n"
     ]
    },
    {
     "data": {
      "text/html": [
       "<div>\n",
       "<style scoped>\n",
       "    .dataframe tbody tr th:only-of-type {\n",
       "        vertical-align: middle;\n",
       "    }\n",
       "\n",
       "    .dataframe tbody tr th {\n",
       "        vertical-align: top;\n",
       "    }\n",
       "\n",
       "    .dataframe thead th {\n",
       "        text-align: right;\n",
       "    }\n",
       "</style>\n",
       "<table border=\"1\" class=\"dataframe\">\n",
       "  <thead>\n",
       "    <tr style=\"text-align: right;\">\n",
       "      <th></th>\n",
       "      <th>RecordID</th>\n",
       "      <th>Offense</th>\n",
       "      <th>IncidentID</th>\n",
       "      <th>BlockNumber</th>\n",
       "      <th>StreetName</th>\n",
       "      <th>Agency</th>\n",
       "      <th>HourReported</th>\n",
       "      <th>ReportingOfficer</th>\n",
       "      <th>Date</th>\n",
       "      <th>DateString</th>\n",
       "      <th>DayOfWeek</th>\n",
       "      <th>Weekend</th>\n",
       "      <th>Season</th>\n",
       "      <th>HourAMPM</th>\n",
       "      <th>TimeOfDay</th>\n",
       "      <th>FullStreet</th>\n",
       "      <th>lat</th>\n",
       "      <th>lon</th>\n",
       "      <th>neighborhood</th>\n",
       "    </tr>\n",
       "  </thead>\n",
       "  <tbody>\n",
       "    <tr>\n",
       "      <th>0</th>\n",
       "      <td>1</td>\n",
       "      <td>Missing Person-juvenile</td>\n",
       "      <td>202500019654</td>\n",
       "      <td>500</td>\n",
       "      <td>ROCKLAND AVE</td>\n",
       "      <td>CPD</td>\n",
       "      <td>2243</td>\n",
       "      <td>Benbow, Lauren</td>\n",
       "      <td>2025-06-08 22:43:45</td>\n",
       "      <td>2025-06-08 10:43:45 PM</td>\n",
       "      <td>Sunday</td>\n",
       "      <td>True</td>\n",
       "      <td>Spring</td>\n",
       "      <td>10:43 PM</td>\n",
       "      <td>Night</td>\n",
       "      <td>500 ROCKLAND AVE</td>\n",
       "      <td>38.019715</td>\n",
       "      <td>-78.486133</td>\n",
       "      <td>Ridge St.</td>\n",
       "    </tr>\n",
       "    <tr>\n",
       "      <th>1</th>\n",
       "      <td>2</td>\n",
       "      <td>Vandalism</td>\n",
       "      <td>202500019653</td>\n",
       "      <td>200</td>\n",
       "      <td>E WATER ST</td>\n",
       "      <td>CPD</td>\n",
       "      <td>2226</td>\n",
       "      <td>Crowley, Raeann</td>\n",
       "      <td>2025-06-08 22:26:43</td>\n",
       "      <td>2025-06-08 10:26:43 PM</td>\n",
       "      <td>Sunday</td>\n",
       "      <td>True</td>\n",
       "      <td>Spring</td>\n",
       "      <td>10:26 PM</td>\n",
       "      <td>Night</td>\n",
       "      <td>200 E WATER ST</td>\n",
       "      <td>38.029430</td>\n",
       "      <td>-78.481109</td>\n",
       "      <td>North Downtown</td>\n",
       "    </tr>\n",
       "    <tr>\n",
       "      <th>2</th>\n",
       "      <td>3</td>\n",
       "      <td>Assault Simple</td>\n",
       "      <td>202500019649</td>\n",
       "      <td>600</td>\n",
       "      <td>E MAIN ST</td>\n",
       "      <td>CPD</td>\n",
       "      <td>2136</td>\n",
       "      <td>Oakes, Maithe</td>\n",
       "      <td>2025-06-08 21:36:03</td>\n",
       "      <td>2025-06-08 09:36:03 PM</td>\n",
       "      <td>Sunday</td>\n",
       "      <td>True</td>\n",
       "      <td>Spring</td>\n",
       "      <td>09:36 PM</td>\n",
       "      <td>Night</td>\n",
       "      <td>600 E MAIN ST</td>\n",
       "      <td>38.029566</td>\n",
       "      <td>-78.477638</td>\n",
       "      <td>Downtown Mall</td>\n",
       "    </tr>\n",
       "    <tr>\n",
       "      <th>3</th>\n",
       "      <td>4</td>\n",
       "      <td>Disturbance - Non Domestic</td>\n",
       "      <td>202500019636</td>\n",
       "      <td>1300</td>\n",
       "      <td>CARLTON AVE</td>\n",
       "      <td>CPD</td>\n",
       "      <td>1935</td>\n",
       "      <td>Ritter, Kobe</td>\n",
       "      <td>2025-06-08 19:35:19</td>\n",
       "      <td>2025-06-08 07:35:19 PM</td>\n",
       "      <td>Sunday</td>\n",
       "      <td>True</td>\n",
       "      <td>Spring</td>\n",
       "      <td>07:35 PM</td>\n",
       "      <td>Evening</td>\n",
       "      <td>1300 CARLTON AVE</td>\n",
       "      <td>38.022060</td>\n",
       "      <td>-78.469336</td>\n",
       "      <td>Belmont</td>\n",
       "    </tr>\n",
       "    <tr>\n",
       "      <th>4</th>\n",
       "      <td>5</td>\n",
       "      <td>Assault Simple</td>\n",
       "      <td>202500019617</td>\n",
       "      <td></td>\n",
       "      <td>HAMPTON ST / RIVES ST</td>\n",
       "      <td>CPD</td>\n",
       "      <td>1559</td>\n",
       "      <td>Essex, Dominique</td>\n",
       "      <td>2025-06-08 15:59:35</td>\n",
       "      <td>2025-06-08 03:59:35 PM</td>\n",
       "      <td>Sunday</td>\n",
       "      <td>True</td>\n",
       "      <td>Spring</td>\n",
       "      <td>03:59 PM</td>\n",
       "      <td>Afternoon</td>\n",
       "      <td>HAMPTON ST / RIVES ST</td>\n",
       "      <td>NaN</td>\n",
       "      <td>NaN</td>\n",
       "      <td>N/A</td>\n",
       "    </tr>\n",
       "  </tbody>\n",
       "</table>\n",
       "</div>"
      ],
      "text/plain": [
       "   RecordID                     Offense    IncidentID BlockNumber  \\\n",
       "0         1     Missing Person-juvenile  202500019654         500   \n",
       "1         2                   Vandalism  202500019653         200   \n",
       "2         3              Assault Simple  202500019649         600   \n",
       "3         4  Disturbance - Non Domestic  202500019636        1300   \n",
       "4         5              Assault Simple  202500019617               \n",
       "\n",
       "              StreetName Agency HourReported  ReportingOfficer  \\\n",
       "0           ROCKLAND AVE    CPD         2243    Benbow, Lauren   \n",
       "1             E WATER ST    CPD         2226   Crowley, Raeann   \n",
       "2              E MAIN ST    CPD         2136     Oakes, Maithe   \n",
       "3            CARLTON AVE    CPD         1935      Ritter, Kobe   \n",
       "4  HAMPTON ST / RIVES ST    CPD         1559  Essex, Dominique   \n",
       "\n",
       "                 Date              DateString DayOfWeek  Weekend  Season  \\\n",
       "0 2025-06-08 22:43:45  2025-06-08 10:43:45 PM    Sunday     True  Spring   \n",
       "1 2025-06-08 22:26:43  2025-06-08 10:26:43 PM    Sunday     True  Spring   \n",
       "2 2025-06-08 21:36:03  2025-06-08 09:36:03 PM    Sunday     True  Spring   \n",
       "3 2025-06-08 19:35:19  2025-06-08 07:35:19 PM    Sunday     True  Spring   \n",
       "4 2025-06-08 15:59:35  2025-06-08 03:59:35 PM    Sunday     True  Spring   \n",
       "\n",
       "   HourAMPM  TimeOfDay              FullStreet        lat        lon  \\\n",
       "0  10:43 PM      Night        500 ROCKLAND AVE  38.019715 -78.486133   \n",
       "1  10:26 PM      Night          200 E WATER ST  38.029430 -78.481109   \n",
       "2  09:36 PM      Night           600 E MAIN ST  38.029566 -78.477638   \n",
       "3  07:35 PM    Evening        1300 CARLTON AVE  38.022060 -78.469336   \n",
       "4  03:59 PM  Afternoon   HAMPTON ST / RIVES ST        NaN        NaN   \n",
       "\n",
       "     neighborhood  \n",
       "0       Ridge St.  \n",
       "1  North Downtown  \n",
       "2   Downtown Mall  \n",
       "3         Belmont  \n",
       "4             N/A  "
      ]
     },
     "execution_count": 10,
     "metadata": {},
     "output_type": "execute_result"
    }
   ],
   "source": [
    "# Initialize the Google Maps client.\n",
    "gmaps = googlemaps.Client(key=GOOGLE_API_KEY)\n",
    "\n",
    "# Try to load a persistent neighborhood cache if available.\n",
    "try:\n",
    "    with open(\"neighborhood_cache.pkl\", \"rb\") as f:\n",
    "        neighborhood_cache = pickle.load(f)\n",
    "    print(\"Loaded neighborhood cache.\")\n",
    "except FileNotFoundError:\n",
    "    neighborhood_cache = {}\n",
    "    print(\"No neighborhood cache found; starting fresh.\")\n",
    "\n",
    "def get_neighborhood(lat, lon):\n",
    "    \"\"\"\n",
    "    Reverse geocodes a latitude and longitude to retrieve the neighborhood.\n",
    "    Caches results to speed up subsequent lookups.\n",
    "    \"\"\"\n",
    "    key = (lat, lon)\n",
    "    if key in neighborhood_cache:\n",
    "        return neighborhood_cache[key]\n",
    "    \n",
    "    try:\n",
    "        result = gmaps.reverse_geocode((lat, lon))\n",
    "        if result:\n",
    "            # Look for the 'neighborhood' component in the first result.\n",
    "            for component in result[0]['address_components']:\n",
    "                if 'neighborhood' in component['types']:\n",
    "                    neighborhood = component['long_name']\n",
    "                    neighborhood_cache[key] = neighborhood\n",
    "                    return neighborhood\n",
    "            # If no neighborhood is found, return \"N/A\"\n",
    "            neighborhood_cache[key] = \"N/A\"\n",
    "            return \"N/A\"\n",
    "    except Exception as e:\n",
    "        print(f\"Error getting neighborhood for {lat}, {lon}: {e}\")\n",
    "        return \"N/A\"\n",
    "    \n",
    "    # Pause to respect usage limits.\n",
    "    time.sleep(1)\n",
    "\n",
    "# Example usage: Apply to your DataFrame 'df' that already has 'lat' and 'lon' columns.\n",
    "df['neighborhood'] = df.apply(lambda row: get_neighborhood(row['lat'], row['lon']), axis=1)\n",
    "\n",
    "# Save the updated neighborhood cache.\n",
    "with open(\"neighborhood_cache.pkl\", \"wb\") as f:\n",
    "    pickle.dump(neighborhood_cache, f)\n",
    "\n",
    "df.head()\n"
   ]
  },
  {
   "cell_type": "markdown",
   "id": "1ddb005d",
   "metadata": {
    "papermill": {
     "duration": 0.004981,
     "end_time": "2025-06-11T01:05:49.961829",
     "exception": false,
     "start_time": "2025-06-11T01:05:49.956848",
     "status": "completed"
    },
    "tags": []
   },
   "source": [
    "### Zip"
   ]
  },
  {
   "cell_type": "code",
   "execution_count": 11,
   "id": "1da99597",
   "metadata": {
    "execution": {
     "iopub.execute_input": "2025-06-11T01:05:49.973057Z",
     "iopub.status.busy": "2025-06-11T01:05:49.972536Z",
     "iopub.status.idle": "2025-06-11T01:06:01.233632Z",
     "shell.execute_reply": "2025-06-11T01:06:01.232917Z"
    },
    "papermill": {
     "duration": 11.267978,
     "end_time": "2025-06-11T01:06:01.234716",
     "exception": false,
     "start_time": "2025-06-11T01:05:49.966738",
     "status": "completed"
    },
    "tags": []
   },
   "outputs": [
    {
     "name": "stdout",
     "output_type": "stream",
     "text": [
      "Loaded zip cache.\n",
      "Error getting ZIP for nan, nan: Must be a coordinate pair or Point\n"
     ]
    },
    {
     "name": "stdout",
     "output_type": "stream",
     "text": [
      "Error getting ZIP for nan, nan: Must be a coordinate pair or Point\n"
     ]
    },
    {
     "name": "stdout",
     "output_type": "stream",
     "text": [
      "Error getting ZIP for nan, nan: Must be a coordinate pair or Point\n"
     ]
    },
    {
     "name": "stdout",
     "output_type": "stream",
     "text": [
      "Error getting ZIP for nan, nan: Must be a coordinate pair or Point\n"
     ]
    },
    {
     "name": "stdout",
     "output_type": "stream",
     "text": [
      "Error getting ZIP for nan, nan: Must be a coordinate pair or Point\n"
     ]
    },
    {
     "name": "stdout",
     "output_type": "stream",
     "text": [
      "Error getting ZIP for nan, nan: Must be a coordinate pair or Point\n"
     ]
    },
    {
     "name": "stdout",
     "output_type": "stream",
     "text": [
      "Error getting ZIP for nan, nan: Must be a coordinate pair or Point\n"
     ]
    },
    {
     "name": "stdout",
     "output_type": "stream",
     "text": [
      "Error getting ZIP for nan, nan: Must be a coordinate pair or Point\n"
     ]
    },
    {
     "name": "stdout",
     "output_type": "stream",
     "text": [
      "Error getting ZIP for nan, nan: Must be a coordinate pair or Point\n"
     ]
    },
    {
     "name": "stdout",
     "output_type": "stream",
     "text": [
      "Error getting ZIP for nan, nan: Must be a coordinate pair or Point\n"
     ]
    },
    {
     "name": "stdout",
     "output_type": "stream",
     "text": [
      "Error getting ZIP for nan, nan: Must be a coordinate pair or Point\n"
     ]
    },
    {
     "data": {
      "text/html": [
       "<div>\n",
       "<style scoped>\n",
       "    .dataframe tbody tr th:only-of-type {\n",
       "        vertical-align: middle;\n",
       "    }\n",
       "\n",
       "    .dataframe tbody tr th {\n",
       "        vertical-align: top;\n",
       "    }\n",
       "\n",
       "    .dataframe thead th {\n",
       "        text-align: right;\n",
       "    }\n",
       "</style>\n",
       "<table border=\"1\" class=\"dataframe\">\n",
       "  <thead>\n",
       "    <tr style=\"text-align: right;\">\n",
       "      <th></th>\n",
       "      <th>RecordID</th>\n",
       "      <th>Offense</th>\n",
       "      <th>IncidentID</th>\n",
       "      <th>BlockNumber</th>\n",
       "      <th>StreetName</th>\n",
       "      <th>Agency</th>\n",
       "      <th>HourReported</th>\n",
       "      <th>ReportingOfficer</th>\n",
       "      <th>Date</th>\n",
       "      <th>DateString</th>\n",
       "      <th>DayOfWeek</th>\n",
       "      <th>Weekend</th>\n",
       "      <th>Season</th>\n",
       "      <th>HourAMPM</th>\n",
       "      <th>TimeOfDay</th>\n",
       "      <th>FullStreet</th>\n",
       "      <th>lat</th>\n",
       "      <th>lon</th>\n",
       "      <th>neighborhood</th>\n",
       "      <th>zip</th>\n",
       "    </tr>\n",
       "  </thead>\n",
       "  <tbody>\n",
       "    <tr>\n",
       "      <th>0</th>\n",
       "      <td>1</td>\n",
       "      <td>Missing Person-juvenile</td>\n",
       "      <td>202500019654</td>\n",
       "      <td>500</td>\n",
       "      <td>ROCKLAND AVE</td>\n",
       "      <td>CPD</td>\n",
       "      <td>2243</td>\n",
       "      <td>Benbow, Lauren</td>\n",
       "      <td>2025-06-08 22:43:45</td>\n",
       "      <td>2025-06-08 10:43:45 PM</td>\n",
       "      <td>Sunday</td>\n",
       "      <td>True</td>\n",
       "      <td>Spring</td>\n",
       "      <td>10:43 PM</td>\n",
       "      <td>Night</td>\n",
       "      <td>500 ROCKLAND AVE</td>\n",
       "      <td>38.019715</td>\n",
       "      <td>-78.486133</td>\n",
       "      <td>Ridge St.</td>\n",
       "      <td>22903</td>\n",
       "    </tr>\n",
       "    <tr>\n",
       "      <th>1</th>\n",
       "      <td>2</td>\n",
       "      <td>Vandalism</td>\n",
       "      <td>202500019653</td>\n",
       "      <td>200</td>\n",
       "      <td>E WATER ST</td>\n",
       "      <td>CPD</td>\n",
       "      <td>2226</td>\n",
       "      <td>Crowley, Raeann</td>\n",
       "      <td>2025-06-08 22:26:43</td>\n",
       "      <td>2025-06-08 10:26:43 PM</td>\n",
       "      <td>Sunday</td>\n",
       "      <td>True</td>\n",
       "      <td>Spring</td>\n",
       "      <td>10:26 PM</td>\n",
       "      <td>Night</td>\n",
       "      <td>200 E WATER ST</td>\n",
       "      <td>38.029430</td>\n",
       "      <td>-78.481109</td>\n",
       "      <td>North Downtown</td>\n",
       "      <td>22903</td>\n",
       "    </tr>\n",
       "    <tr>\n",
       "      <th>2</th>\n",
       "      <td>3</td>\n",
       "      <td>Assault Simple</td>\n",
       "      <td>202500019649</td>\n",
       "      <td>600</td>\n",
       "      <td>E MAIN ST</td>\n",
       "      <td>CPD</td>\n",
       "      <td>2136</td>\n",
       "      <td>Oakes, Maithe</td>\n",
       "      <td>2025-06-08 21:36:03</td>\n",
       "      <td>2025-06-08 09:36:03 PM</td>\n",
       "      <td>Sunday</td>\n",
       "      <td>True</td>\n",
       "      <td>Spring</td>\n",
       "      <td>09:36 PM</td>\n",
       "      <td>Night</td>\n",
       "      <td>600 E MAIN ST</td>\n",
       "      <td>38.029566</td>\n",
       "      <td>-78.477638</td>\n",
       "      <td>Downtown Mall</td>\n",
       "      <td>22902</td>\n",
       "    </tr>\n",
       "    <tr>\n",
       "      <th>3</th>\n",
       "      <td>4</td>\n",
       "      <td>Disturbance - Non Domestic</td>\n",
       "      <td>202500019636</td>\n",
       "      <td>1300</td>\n",
       "      <td>CARLTON AVE</td>\n",
       "      <td>CPD</td>\n",
       "      <td>1935</td>\n",
       "      <td>Ritter, Kobe</td>\n",
       "      <td>2025-06-08 19:35:19</td>\n",
       "      <td>2025-06-08 07:35:19 PM</td>\n",
       "      <td>Sunday</td>\n",
       "      <td>True</td>\n",
       "      <td>Spring</td>\n",
       "      <td>07:35 PM</td>\n",
       "      <td>Evening</td>\n",
       "      <td>1300 CARLTON AVE</td>\n",
       "      <td>38.022060</td>\n",
       "      <td>-78.469336</td>\n",
       "      <td>Belmont</td>\n",
       "      <td>22902</td>\n",
       "    </tr>\n",
       "    <tr>\n",
       "      <th>4</th>\n",
       "      <td>5</td>\n",
       "      <td>Assault Simple</td>\n",
       "      <td>202500019617</td>\n",
       "      <td></td>\n",
       "      <td>HAMPTON ST / RIVES ST</td>\n",
       "      <td>CPD</td>\n",
       "      <td>1559</td>\n",
       "      <td>Essex, Dominique</td>\n",
       "      <td>2025-06-08 15:59:35</td>\n",
       "      <td>2025-06-08 03:59:35 PM</td>\n",
       "      <td>Sunday</td>\n",
       "      <td>True</td>\n",
       "      <td>Spring</td>\n",
       "      <td>03:59 PM</td>\n",
       "      <td>Afternoon</td>\n",
       "      <td>HAMPTON ST / RIVES ST</td>\n",
       "      <td>NaN</td>\n",
       "      <td>NaN</td>\n",
       "      <td>N/A</td>\n",
       "      <td>N/A</td>\n",
       "    </tr>\n",
       "  </tbody>\n",
       "</table>\n",
       "</div>"
      ],
      "text/plain": [
       "   RecordID                     Offense    IncidentID BlockNumber  \\\n",
       "0         1     Missing Person-juvenile  202500019654         500   \n",
       "1         2                   Vandalism  202500019653         200   \n",
       "2         3              Assault Simple  202500019649         600   \n",
       "3         4  Disturbance - Non Domestic  202500019636        1300   \n",
       "4         5              Assault Simple  202500019617               \n",
       "\n",
       "              StreetName Agency HourReported  ReportingOfficer  \\\n",
       "0           ROCKLAND AVE    CPD         2243    Benbow, Lauren   \n",
       "1             E WATER ST    CPD         2226   Crowley, Raeann   \n",
       "2              E MAIN ST    CPD         2136     Oakes, Maithe   \n",
       "3            CARLTON AVE    CPD         1935      Ritter, Kobe   \n",
       "4  HAMPTON ST / RIVES ST    CPD         1559  Essex, Dominique   \n",
       "\n",
       "                 Date              DateString DayOfWeek  Weekend  Season  \\\n",
       "0 2025-06-08 22:43:45  2025-06-08 10:43:45 PM    Sunday     True  Spring   \n",
       "1 2025-06-08 22:26:43  2025-06-08 10:26:43 PM    Sunday     True  Spring   \n",
       "2 2025-06-08 21:36:03  2025-06-08 09:36:03 PM    Sunday     True  Spring   \n",
       "3 2025-06-08 19:35:19  2025-06-08 07:35:19 PM    Sunday     True  Spring   \n",
       "4 2025-06-08 15:59:35  2025-06-08 03:59:35 PM    Sunday     True  Spring   \n",
       "\n",
       "   HourAMPM  TimeOfDay              FullStreet        lat        lon  \\\n",
       "0  10:43 PM      Night        500 ROCKLAND AVE  38.019715 -78.486133   \n",
       "1  10:26 PM      Night          200 E WATER ST  38.029430 -78.481109   \n",
       "2  09:36 PM      Night           600 E MAIN ST  38.029566 -78.477638   \n",
       "3  07:35 PM    Evening        1300 CARLTON AVE  38.022060 -78.469336   \n",
       "4  03:59 PM  Afternoon   HAMPTON ST / RIVES ST        NaN        NaN   \n",
       "\n",
       "     neighborhood    zip  \n",
       "0       Ridge St.  22903  \n",
       "1  North Downtown  22903  \n",
       "2   Downtown Mall  22902  \n",
       "3         Belmont  22902  \n",
       "4             N/A    N/A  "
      ]
     },
     "execution_count": 11,
     "metadata": {},
     "output_type": "execute_result"
    }
   ],
   "source": [
    "# Initialize the geocoder.\n",
    "geolocator = Nominatim(user_agent=\"zip_lookup\")\n",
    "\n",
    "# Try to load a persistent ZIP cache if available.\n",
    "try:\n",
    "    with open(\"zip_cache.pkl\", \"rb\") as f:\n",
    "        zip_cache = pickle.load(f)\n",
    "    print(\"Loaded zip cache.\")\n",
    "except FileNotFoundError:\n",
    "    zip_cache = {}\n",
    "    print(\"No zip cache found; starting fresh.\")\n",
    "\n",
    "def get_zip(lat, lon):\n",
    "    \"\"\"\n",
    "    Reverse geocodes a latitude and longitude to retrieve the ZIP code.\n",
    "    Caches results to speed up subsequent lookups.\n",
    "    \"\"\"\n",
    "    key = (lat, lon)\n",
    "    if key in zip_cache:\n",
    "        return zip_cache[key]\n",
    "    \n",
    "    try:\n",
    "        location = geolocator.reverse((lat, lon), exactly_one=True, timeout=10)\n",
    "        address = location.raw.get('address', {})\n",
    "        postal_code = address.get('postcode', \"N/A\")\n",
    "    except Exception as e:\n",
    "        print(f\"Error getting ZIP for {lat}, {lon}: {e}\")\n",
    "        postal_code = \"N/A\"\n",
    "    \n",
    "    zip_cache[key] = postal_code\n",
    "    # Pause to respect the usage policy.\n",
    "    time.sleep(1)\n",
    "    return postal_code\n",
    "\n",
    "# Apply the function to each row in the DataFrame.\n",
    "df['zip'] = df.apply(lambda row: get_zip(row['lat'], row['lon']), axis=1)\n",
    "\n",
    "# Save the updated ZIP cache.\n",
    "with open(\"zip_cache.pkl\", \"wb\") as f:\n",
    "    pickle.dump(zip_cache, f)\n",
    "\n",
    "df.head()\n"
   ]
  },
  {
   "cell_type": "code",
   "execution_count": 12,
   "id": "23fd9e44",
   "metadata": {
    "execution": {
     "iopub.execute_input": "2025-06-11T01:06:01.247642Z",
     "iopub.status.busy": "2025-06-11T01:06:01.247192Z",
     "iopub.status.idle": "2025-06-11T01:06:01.277607Z",
     "shell.execute_reply": "2025-06-11T01:06:01.277007Z"
    },
    "papermill": {
     "duration": 0.037874,
     "end_time": "2025-06-11T01:06:01.278646",
     "exception": false,
     "start_time": "2025-06-11T01:06:01.240772",
     "status": "completed"
    },
    "tags": []
   },
   "outputs": [
    {
     "name": "stdout",
     "output_type": "stream",
     "text": [
      "                  MissingCount  MissingPercentage\n",
      "RecordID                     0               0.00\n",
      "Offense                      0               0.00\n",
      "IncidentID                   0               0.00\n",
      "BlockNumber                  0               0.00\n",
      "StreetName                   0               0.00\n",
      "Agency                       0               0.00\n",
      "HourReported                 0               0.00\n",
      "ReportingOfficer            17               0.07\n",
      "Date                         0               0.00\n",
      "DateString                   0               0.00\n",
      "DayOfWeek                    0               0.00\n",
      "Weekend                      0               0.00\n",
      "Season                       0               0.00\n",
      "HourAMPM                     0               0.00\n",
      "TimeOfDay                    0               0.00\n",
      "FullStreet                   0               0.00\n",
      "lat                         11               0.04\n",
      "lon                         11               0.04\n",
      "neighborhood                 0               0.00\n",
      "zip                          0               0.00\n"
     ]
    }
   ],
   "source": [
    "missing_info = missing_percentage(df)\n",
    "print(missing_info)\n"
   ]
  },
  {
   "cell_type": "code",
   "execution_count": 13,
   "id": "ec0c92af",
   "metadata": {
    "execution": {
     "iopub.execute_input": "2025-06-11T01:06:01.291274Z",
     "iopub.status.busy": "2025-06-11T01:06:01.290834Z",
     "iopub.status.idle": "2025-06-11T01:06:01.322826Z",
     "shell.execute_reply": "2025-06-11T01:06:01.322188Z"
    },
    "papermill": {
     "duration": 0.039431,
     "end_time": "2025-06-11T01:06:01.323946",
     "exception": false,
     "start_time": "2025-06-11T01:06:01.284515",
     "status": "completed"
    },
    "tags": []
   },
   "outputs": [
    {
     "name": "stdout",
     "output_type": "stream",
     "text": [
      "<class 'pandas.core.frame.DataFrame'>\n",
      "RangeIndex: 25473 entries, 0 to 25472\n",
      "Data columns (total 20 columns):\n",
      " #   Column            Non-Null Count  Dtype         \n",
      "---  ------            --------------  -----         \n",
      " 0   RecordID          25473 non-null  int64         \n",
      " 1   Offense           25473 non-null  object        \n",
      " 2   IncidentID        25473 non-null  object        \n",
      " 3   BlockNumber       25473 non-null  object        \n",
      " 4   StreetName        25473 non-null  object        \n",
      " 5   Agency            25473 non-null  object        \n",
      " 6   HourReported      25473 non-null  object        \n",
      " 7   ReportingOfficer  25456 non-null  object        \n",
      " 8   Date              25473 non-null  datetime64[ns]\n",
      " 9   DateString        25473 non-null  object        \n",
      " 10  DayOfWeek         25473 non-null  object        \n",
      " 11  Weekend           25473 non-null  bool          \n",
      " 12  Season            25473 non-null  object        \n",
      " 13  HourAMPM          25473 non-null  object        \n",
      " 14  TimeOfDay         25473 non-null  object        \n",
      " 15  FullStreet        25473 non-null  object        \n",
      " 16  lat               25462 non-null  float64       \n",
      " 17  lon               25462 non-null  float64       \n",
      " 18  neighborhood      25473 non-null  object        \n",
      " 19  zip               25473 non-null  object        \n",
      "dtypes: bool(1), datetime64[ns](1), float64(2), int64(1), object(15)\n",
      "memory usage: 3.7+ MB\n"
     ]
    }
   ],
   "source": [
    "df.info()"
   ]
  },
  {
   "cell_type": "code",
   "execution_count": 14,
   "id": "4ae67a72",
   "metadata": {
    "execution": {
     "iopub.execute_input": "2025-06-11T01:06:01.336669Z",
     "iopub.status.busy": "2025-06-11T01:06:01.336253Z",
     "iopub.status.idle": "2025-06-11T01:06:01.384545Z",
     "shell.execute_reply": "2025-06-11T01:06:01.383851Z"
    },
    "papermill": {
     "duration": 0.055653,
     "end_time": "2025-06-11T01:06:01.385574",
     "exception": false,
     "start_time": "2025-06-11T01:06:01.329921",
     "status": "completed"
    },
    "tags": []
   },
   "outputs": [
    {
     "data": {
      "text/html": [
       "<div>\n",
       "<style scoped>\n",
       "    .dataframe tbody tr th:only-of-type {\n",
       "        vertical-align: middle;\n",
       "    }\n",
       "\n",
       "    .dataframe tbody tr th {\n",
       "        vertical-align: top;\n",
       "    }\n",
       "\n",
       "    .dataframe thead th {\n",
       "        text-align: right;\n",
       "    }\n",
       "</style>\n",
       "<table border=\"1\" class=\"dataframe\">\n",
       "  <thead>\n",
       "    <tr style=\"text-align: right;\">\n",
       "      <th></th>\n",
       "      <th>RecordID</th>\n",
       "      <th>Offense</th>\n",
       "      <th>IncidentID</th>\n",
       "      <th>Agency</th>\n",
       "      <th>ReportingOfficer</th>\n",
       "      <th>Date</th>\n",
       "      <th>DayOfWeek</th>\n",
       "      <th>Weekend</th>\n",
       "      <th>Season</th>\n",
       "      <th>TimeOfDay</th>\n",
       "      <th>FullStreet</th>\n",
       "      <th>lat</th>\n",
       "      <th>lon</th>\n",
       "      <th>neighborhood</th>\n",
       "      <th>zip</th>\n",
       "    </tr>\n",
       "  </thead>\n",
       "  <tbody>\n",
       "    <tr>\n",
       "      <th>0</th>\n",
       "      <td>1</td>\n",
       "      <td>Missing Person-juvenile</td>\n",
       "      <td>202500019654</td>\n",
       "      <td>CPD</td>\n",
       "      <td>Benbow, Lauren</td>\n",
       "      <td>2025-06-08 22:43:45</td>\n",
       "      <td>Sunday</td>\n",
       "      <td>True</td>\n",
       "      <td>Spring</td>\n",
       "      <td>Night</td>\n",
       "      <td>500 ROCKLAND AVE</td>\n",
       "      <td>38.019715</td>\n",
       "      <td>-78.486133</td>\n",
       "      <td>Ridge St.</td>\n",
       "      <td>22903</td>\n",
       "    </tr>\n",
       "    <tr>\n",
       "      <th>1</th>\n",
       "      <td>2</td>\n",
       "      <td>Vandalism</td>\n",
       "      <td>202500019653</td>\n",
       "      <td>CPD</td>\n",
       "      <td>Crowley, Raeann</td>\n",
       "      <td>2025-06-08 22:26:43</td>\n",
       "      <td>Sunday</td>\n",
       "      <td>True</td>\n",
       "      <td>Spring</td>\n",
       "      <td>Night</td>\n",
       "      <td>200 E WATER ST</td>\n",
       "      <td>38.02943</td>\n",
       "      <td>-78.481109</td>\n",
       "      <td>North Downtown</td>\n",
       "      <td>22903</td>\n",
       "    </tr>\n",
       "    <tr>\n",
       "      <th>2</th>\n",
       "      <td>3</td>\n",
       "      <td>Assault Simple</td>\n",
       "      <td>202500019649</td>\n",
       "      <td>CPD</td>\n",
       "      <td>Oakes, Maithe</td>\n",
       "      <td>2025-06-08 21:36:03</td>\n",
       "      <td>Sunday</td>\n",
       "      <td>True</td>\n",
       "      <td>Spring</td>\n",
       "      <td>Night</td>\n",
       "      <td>600 E MAIN ST</td>\n",
       "      <td>38.029566</td>\n",
       "      <td>-78.477638</td>\n",
       "      <td>Downtown Mall</td>\n",
       "      <td>22902</td>\n",
       "    </tr>\n",
       "    <tr>\n",
       "      <th>3</th>\n",
       "      <td>4</td>\n",
       "      <td>Disturbance - Non Domestic</td>\n",
       "      <td>202500019636</td>\n",
       "      <td>CPD</td>\n",
       "      <td>Ritter, Kobe</td>\n",
       "      <td>2025-06-08 19:35:19</td>\n",
       "      <td>Sunday</td>\n",
       "      <td>True</td>\n",
       "      <td>Spring</td>\n",
       "      <td>Evening</td>\n",
       "      <td>1300 CARLTON AVE</td>\n",
       "      <td>38.02206</td>\n",
       "      <td>-78.469336</td>\n",
       "      <td>Belmont</td>\n",
       "      <td>22902</td>\n",
       "    </tr>\n",
       "    <tr>\n",
       "      <th>4</th>\n",
       "      <td>5</td>\n",
       "      <td>Assault Simple</td>\n",
       "      <td>202500019617</td>\n",
       "      <td>CPD</td>\n",
       "      <td>Essex, Dominique</td>\n",
       "      <td>2025-06-08 15:59:35</td>\n",
       "      <td>Sunday</td>\n",
       "      <td>True</td>\n",
       "      <td>Spring</td>\n",
       "      <td>Afternoon</td>\n",
       "      <td>HAMPTON ST / RIVES ST</td>\n",
       "      <td>N/A</td>\n",
       "      <td>N/A</td>\n",
       "      <td>N/A</td>\n",
       "      <td>N/A</td>\n",
       "    </tr>\n",
       "  </tbody>\n",
       "</table>\n",
       "</div>"
      ],
      "text/plain": [
       "   RecordID                     Offense    IncidentID Agency  \\\n",
       "0         1     Missing Person-juvenile  202500019654    CPD   \n",
       "1         2                   Vandalism  202500019653    CPD   \n",
       "2         3              Assault Simple  202500019649    CPD   \n",
       "3         4  Disturbance - Non Domestic  202500019636    CPD   \n",
       "4         5              Assault Simple  202500019617    CPD   \n",
       "\n",
       "   ReportingOfficer                Date DayOfWeek  Weekend  Season  TimeOfDay  \\\n",
       "0    Benbow, Lauren 2025-06-08 22:43:45    Sunday     True  Spring      Night   \n",
       "1   Crowley, Raeann 2025-06-08 22:26:43    Sunday     True  Spring      Night   \n",
       "2     Oakes, Maithe 2025-06-08 21:36:03    Sunday     True  Spring      Night   \n",
       "3      Ritter, Kobe 2025-06-08 19:35:19    Sunday     True  Spring    Evening   \n",
       "4  Essex, Dominique 2025-06-08 15:59:35    Sunday     True  Spring  Afternoon   \n",
       "\n",
       "               FullStreet        lat        lon    neighborhood    zip  \n",
       "0        500 ROCKLAND AVE  38.019715 -78.486133       Ridge St.  22903  \n",
       "1          200 E WATER ST   38.02943 -78.481109  North Downtown  22903  \n",
       "2           600 E MAIN ST  38.029566 -78.477638   Downtown Mall  22902  \n",
       "3        1300 CARLTON AVE   38.02206 -78.469336         Belmont  22902  \n",
       "4   HAMPTON ST / RIVES ST        N/A        N/A             N/A    N/A  "
      ]
     },
     "execution_count": 14,
     "metadata": {},
     "output_type": "execute_result"
    }
   ],
   "source": [
    "# Now drop the original BlockNumber and StreetName columns\n",
    "df.drop(columns=['BlockNumber', 'StreetName','HourAMPM','HourReported','DateString'], inplace=True)\n",
    "df[\"zip\"] = df[\"zip\"].astype(str)\n",
    "\n",
    "# Fill all missing values in the DataFrame with \"N/A\"\n",
    "df.replace({None: \"N/A\", np.nan: \"N/A\", \"\": \"N/A\"}, inplace=True)\n",
    "df.head()"
   ]
  },
  {
   "cell_type": "code",
   "execution_count": 15,
   "id": "419440fa",
   "metadata": {
    "execution": {
     "iopub.execute_input": "2025-06-11T01:06:01.399147Z",
     "iopub.status.busy": "2025-06-11T01:06:01.398857Z",
     "iopub.status.idle": "2025-06-11T01:06:01.421360Z",
     "shell.execute_reply": "2025-06-11T01:06:01.420767Z"
    },
    "papermill": {
     "duration": 0.030484,
     "end_time": "2025-06-11T01:06:01.422459",
     "exception": false,
     "start_time": "2025-06-11T01:06:01.391975",
     "status": "completed"
    },
    "tags": []
   },
   "outputs": [
    {
     "name": "stdout",
     "output_type": "stream",
     "text": [
      "                  MissingCount  MissingPercentage\n",
      "RecordID                     0                0.0\n",
      "Offense                      0                0.0\n",
      "IncidentID                   0                0.0\n",
      "Agency                       0                0.0\n",
      "ReportingOfficer             0                0.0\n",
      "Date                         0                0.0\n",
      "DayOfWeek                    0                0.0\n",
      "Weekend                      0                0.0\n",
      "Season                       0                0.0\n",
      "TimeOfDay                    0                0.0\n",
      "FullStreet                   0                0.0\n",
      "lat                          0                0.0\n",
      "lon                          0                0.0\n",
      "neighborhood                 0                0.0\n",
      "zip                          0                0.0\n"
     ]
    }
   ],
   "source": [
    "missing_info = missing_percentage(df)\n",
    "print(missing_info)"
   ]
  },
  {
   "cell_type": "code",
   "execution_count": 16,
   "id": "d32e699a",
   "metadata": {
    "execution": {
     "iopub.execute_input": "2025-06-11T01:06:01.435915Z",
     "iopub.status.busy": "2025-06-11T01:06:01.435407Z",
     "iopub.status.idle": "2025-06-11T01:06:01.439726Z",
     "shell.execute_reply": "2025-06-11T01:06:01.439211Z"
    },
    "papermill": {
     "duration": 0.012088,
     "end_time": "2025-06-11T01:06:01.440816",
     "exception": false,
     "start_time": "2025-06-11T01:06:01.428728",
     "status": "completed"
    },
    "tags": []
   },
   "outputs": [
    {
     "data": {
      "text/plain": [
       "Index(['RecordID', 'Offense', 'IncidentID', 'Agency', 'ReportingOfficer',\n",
       "       'Date', 'DayOfWeek', 'Weekend', 'Season', 'TimeOfDay', 'FullStreet',\n",
       "       'lat', 'lon', 'neighborhood', 'zip'],\n",
       "      dtype='object')"
      ]
     },
     "execution_count": 16,
     "metadata": {},
     "output_type": "execute_result"
    }
   ],
   "source": [
    "df.columns"
   ]
  },
  {
   "cell_type": "code",
   "execution_count": 17,
   "id": "c939cf52",
   "metadata": {
    "execution": {
     "iopub.execute_input": "2025-06-11T01:06:01.454216Z",
     "iopub.status.busy": "2025-06-11T01:06:01.453760Z",
     "iopub.status.idle": "2025-06-11T01:06:01.477029Z",
     "shell.execute_reply": "2025-06-11T01:06:01.476452Z"
    },
    "papermill": {
     "duration": 0.031125,
     "end_time": "2025-06-11T01:06:01.478099",
     "exception": false,
     "start_time": "2025-06-11T01:06:01.446974",
     "status": "completed"
    },
    "tags": []
   },
   "outputs": [
    {
     "name": "stdout",
     "output_type": "stream",
     "text": [
      "<class 'pandas.core.frame.DataFrame'>\n",
      "RangeIndex: 25473 entries, 0 to 25472\n",
      "Data columns (total 15 columns):\n",
      " #   Column            Non-Null Count  Dtype         \n",
      "---  ------            --------------  -----         \n",
      " 0   RecordID          25473 non-null  int64         \n",
      " 1   Offense           25473 non-null  object        \n",
      " 2   IncidentID        25473 non-null  object        \n",
      " 3   Agency            25473 non-null  object        \n",
      " 4   ReportingOfficer  25473 non-null  object        \n",
      " 5   Date              25473 non-null  datetime64[ns]\n",
      " 6   DayOfWeek         25473 non-null  object        \n",
      " 7   Weekend           25473 non-null  bool          \n",
      " 8   Season            25473 non-null  object        \n",
      " 9   TimeOfDay         25473 non-null  object        \n",
      " 10  FullStreet        25473 non-null  object        \n",
      " 11  lat               25473 non-null  object        \n",
      " 12  lon               25473 non-null  object        \n",
      " 13  neighborhood      25473 non-null  object        \n",
      " 14  zip               25473 non-null  object        \n",
      "dtypes: bool(1), datetime64[ns](1), int64(1), object(12)\n",
      "memory usage: 2.7+ MB\n"
     ]
    }
   ],
   "source": [
    "df.info()"
   ]
  },
  {
   "cell_type": "markdown",
   "id": "185d3cd9",
   "metadata": {
    "papermill": {
     "duration": 0.006143,
     "end_time": "2025-06-11T01:06:01.490905",
     "exception": false,
     "start_time": "2025-06-11T01:06:01.484762",
     "status": "completed"
    },
    "tags": []
   },
   "source": [
    "### Export Clean Data"
   ]
  },
  {
   "cell_type": "code",
   "execution_count": 18,
   "id": "f70c9619",
   "metadata": {
    "execution": {
     "iopub.execute_input": "2025-06-11T01:06:01.504776Z",
     "iopub.status.busy": "2025-06-11T01:06:01.504320Z",
     "iopub.status.idle": "2025-06-11T01:06:11.101453Z",
     "shell.execute_reply": "2025-06-11T01:06:11.100704Z"
    },
    "papermill": {
     "duration": 9.605299,
     "end_time": "2025-06-11T01:06:11.102537",
     "exception": false,
     "start_time": "2025-06-11T01:06:01.497238",
     "status": "completed"
    },
    "tags": []
   },
   "outputs": [
    {
     "name": "stdout",
     "output_type": "stream",
     "text": [
      "Project Root: /home/runner/work/crime-data/crime-data\n"
     ]
    },
    {
     "name": "stdout",
     "output_type": "stream",
     "text": [
      "Data saved to: /home/runner/work/crime-data/crime-data/data/charlottesville_crime_incidents.csv\n"
     ]
    },
    {
     "name": "stdout",
     "output_type": "stream",
     "text": [
      "Excel saved to: /home/runner/work/crime-data/crime-data/data/charlottesville_crime_incidents.xlsx\n"
     ]
    }
   ],
   "source": [
    "# Determine the project root (assuming papermill is run from the repository root)\n",
    "project_root = os.getcwd()\n",
    "print(\"Project Root:\", project_root)\n",
    "\n",
    "# Set the data directory within the project root\n",
    "data_dir = os.path.join(project_root, \"data\")\n",
    "\n",
    "# Ensure the \"data\" directory exists (create it if it doesn't)\n",
    "if not os.path.exists(data_dir):\n",
    "    os.makedirs(data_dir)\n",
    "\n",
    "# Export the DataFrame to CSV in the \"data\" folder located in the project root\n",
    "csv_path = os.path.join(data_dir, \"charlottesville_crime_incidents.csv\")\n",
    "df.to_csv(csv_path, index=False)\n",
    "print(\"Data saved to:\", csv_path)\n",
    "\n",
    "# Construct the path to your Excel file\n",
    "excel_path = os.path.join(data_dir, \"charlottesville_crime_incidents.xlsx\")\n",
    "\n",
    "# Export the DataFrame to Excel\n",
    "df.to_excel(excel_path, index=False)\n",
    "print(\"Excel saved to:\", excel_path)\n"
   ]
  }
 ],
 "metadata": {
  "kernelspec": {
   "display_name": "Python 3",
   "language": "python",
   "name": "python3"
  },
  "language_info": {
   "codemirror_mode": {
    "name": "ipython",
    "version": 3
   },
   "file_extension": ".py",
   "mimetype": "text/x-python",
   "name": "python",
   "nbconvert_exporter": "python",
   "pygments_lexer": "ipython3",
   "version": "3.9.22"
  },
  "papermill": {
   "default_parameters": {},
   "duration": 91.60271,
   "end_time": "2025-06-11T01:06:11.626234",
   "environment_variables": {},
   "exception": null,
   "input_path": "notebook/Crime Data.ipynb",
   "output_path": "notebook/Crime Data_output.ipynb",
   "parameters": {},
   "start_time": "2025-06-11T01:04:40.023524",
   "version": "2.6.0"
  }
 },
 "nbformat": 4,
 "nbformat_minor": 5
}