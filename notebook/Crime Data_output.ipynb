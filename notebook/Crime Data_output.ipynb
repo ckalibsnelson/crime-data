{
 "cells": [
  {
   "cell_type": "markdown",
   "id": "97eca3fa",
   "metadata": {
    "papermill": {
     "duration": 0.004623,
     "end_time": "2025-08-13T01:05:49.246177",
     "exception": false,
     "start_time": "2025-08-13T01:05:49.241554",
     "status": "completed"
    },
    "tags": []
   },
   "source": [
    "# Charlottesville Open Data Porttal: Crime Data"
   ]
  },
  {
   "cell_type": "markdown",
   "id": "51cef19e",
   "metadata": {
    "papermill": {
     "duration": 0.004829,
     "end_time": "2025-08-13T01:05:49.254819",
     "exception": false,
     "start_time": "2025-08-13T01:05:49.249990",
     "status": "completed"
    },
    "tags": []
   },
   "source": [
    "## Import Relevant Librarires & Set WD"
   ]
  },
  {
   "cell_type": "code",
   "execution_count": 1,
   "id": "89a81652",
   "metadata": {
    "execution": {
     "iopub.execute_input": "2025-08-13T01:05:49.262880Z",
     "iopub.status.busy": "2025-08-13T01:05:49.262598Z",
     "iopub.status.idle": "2025-08-13T01:05:49.879195Z",
     "shell.execute_reply": "2025-08-13T01:05:49.878380Z"
    },
    "papermill": {
     "duration": 0.622601,
     "end_time": "2025-08-13T01:05:49.880874",
     "exception": false,
     "start_time": "2025-08-13T01:05:49.258273",
     "status": "completed"
    },
    "tags": []
   },
   "outputs": [],
   "source": [
    "import requests\n",
    "import pandas as pd\n",
    "import numpy as np\n",
    "import pickle\n",
    "import googlemaps\n",
    "import plotly.express as px\n",
    "from geopy.geocoders import Nominatim\n",
    "import time\n",
    "from dotenv import load_dotenv\n",
    "import os\n",
    "\n",
    "env_path = os.path.join(\"..\", \".env\")\n",
    "#print(\"Looking for .env file at:\", os.path.abspath(env_path))\n",
    "load_dotenv(dotenv_path=env_path)\n",
    "\n",
    "# Retrieve the variables\n",
    "GOOGLE_API_KEY = os.getenv(\"GOOGLE_API_KEY\")\n",
    "WORKING_DIR = os.getenv(\"WORKING_DIR\")\n",
    "\n",
    "if GOOGLE_API_KEY is None or WORKING_DIR is None:\n",
    "    raise RuntimeError(\"No configuration found. Please ensure that your .env file exists with the required variables, or create a local config.py file.\")\n",
    "\n",
    "#print(\"Google API Key:\", GOOGLE_API_KEY)\n",
    "#print(\"Working Directory:\", WORKING_DIR)"
   ]
  },
  {
   "cell_type": "markdown",
   "id": "b37650c3",
   "metadata": {
    "papermill": {
     "duration": 0.003775,
     "end_time": "2025-08-13T01:05:49.888734",
     "exception": false,
     "start_time": "2025-08-13T01:05:49.884959",
     "status": "completed"
    },
    "tags": []
   },
   "source": [
    "## Import Data\n",
    "\n",
    "URL: https://opendata.charlottesville.org/datasets/charlottesville::crime-data/about"
   ]
  },
  {
   "cell_type": "code",
   "execution_count": 2,
   "id": "93749fc8",
   "metadata": {
    "execution": {
     "iopub.execute_input": "2025-08-13T01:05:49.900226Z",
     "iopub.status.busy": "2025-08-13T01:05:49.899176Z",
     "iopub.status.idle": "2025-08-13T01:07:01.103847Z",
     "shell.execute_reply": "2025-08-13T01:07:01.103129Z"
    },
    "papermill": {
     "duration": 71.215953,
     "end_time": "2025-08-13T01:07:01.108535",
     "exception": false,
     "start_time": "2025-08-13T01:05:49.892582",
     "status": "completed"
    },
    "tags": []
   },
   "outputs": [
    {
     "name": "stdout",
     "output_type": "stream",
     "text": [
      "Total records imported: 25640\n"
     ]
    }
   ],
   "source": [
    "# Define the endpoint and initial parameters.\n",
    "url = \"https://gisweb.charlottesville.org/arcgis/rest/services/OpenData_2/MapServer/6/query\"\n",
    "params = {\n",
    "    \"where\": \"1=1\",\n",
    "    \"outFields\": \"*\",\n",
    "    \"outSR\": 4326,\n",
    "    \"f\": \"json\",\n",
    "    \"resultOffset\": 0,       # Starting index for results\n",
    "    \"resultRecordCount\": 10000  # Maximum records per batch (if allowed by the API)\n",
    "}\n",
    "\n",
    "records = []\n",
    "\n",
    "while True:\n",
    "    response = requests.get(url, params=params)\n",
    "    response.raise_for_status()\n",
    "    data = response.json()\n",
    "    \n",
    "    # Get the current batch of features.\n",
    "    features = data.get(\"features\", [])\n",
    "    if not features:\n",
    "        break\n",
    "\n",
    "    # Extract the attributes from the features.\n",
    "    batch_records = [feature.get(\"attributes\", {}) for feature in features]\n",
    "    records.extend(batch_records)\n",
    "    \n",
    "    # If the batch size is less than the requested count, we reached the end.\n",
    "    if len(features) < params[\"resultRecordCount\"]:\n",
    "        break\n",
    "\n",
    "    # Update the resultOffset for the next batch.\n",
    "    params[\"resultOffset\"] += params[\"resultRecordCount\"]\n",
    "\n",
    "# Create a DataFrame from the combined records.\n",
    "df = pd.DataFrame(records)\n",
    "print(\"Total records imported:\", len(df))\n"
   ]
  },
  {
   "cell_type": "code",
   "execution_count": 3,
   "id": "f1c09ce2",
   "metadata": {
    "execution": {
     "iopub.execute_input": "2025-08-13T01:07:01.122733Z",
     "iopub.status.busy": "2025-08-13T01:07:01.122492Z",
     "iopub.status.idle": "2025-08-13T01:07:01.135154Z",
     "shell.execute_reply": "2025-08-13T01:07:01.134440Z"
    },
    "papermill": {
     "duration": 0.018152,
     "end_time": "2025-08-13T01:07:01.136245",
     "exception": false,
     "start_time": "2025-08-13T01:07:01.118093",
     "status": "completed"
    },
    "tags": []
   },
   "outputs": [
    {
     "data": {
      "text/html": [
       "<div>\n",
       "<style scoped>\n",
       "    .dataframe tbody tr th:only-of-type {\n",
       "        vertical-align: middle;\n",
       "    }\n",
       "\n",
       "    .dataframe tbody tr th {\n",
       "        vertical-align: top;\n",
       "    }\n",
       "\n",
       "    .dataframe thead th {\n",
       "        text-align: right;\n",
       "    }\n",
       "</style>\n",
       "<table border=\"1\" class=\"dataframe\">\n",
       "  <thead>\n",
       "    <tr style=\"text-align: right;\">\n",
       "      <th></th>\n",
       "      <th>RecordID</th>\n",
       "      <th>Offense</th>\n",
       "      <th>IncidentID</th>\n",
       "      <th>BlockNumber</th>\n",
       "      <th>StreetName</th>\n",
       "      <th>Agency</th>\n",
       "      <th>DateReported</th>\n",
       "      <th>HourReported</th>\n",
       "      <th>ReportingOfficer</th>\n",
       "    </tr>\n",
       "  </thead>\n",
       "  <tbody>\n",
       "    <tr>\n",
       "      <th>0</th>\n",
       "      <td>1</td>\n",
       "      <td>Suspicious Activity</td>\n",
       "      <td>202500028312</td>\n",
       "      <td>1000</td>\n",
       "      <td>ROUGEMONT AVE, A</td>\n",
       "      <td>CPD</td>\n",
       "      <td>1754864659000</td>\n",
       "      <td>1824</td>\n",
       "      <td>Abdelgayed, Adam</td>\n",
       "    </tr>\n",
       "    <tr>\n",
       "      <th>1</th>\n",
       "      <td>2</td>\n",
       "      <td>Accident - w/out Injuries</td>\n",
       "      <td>202500028283</td>\n",
       "      <td>1800</td>\n",
       "      <td>EMMET ST N</td>\n",
       "      <td>CPD</td>\n",
       "      <td>1754853272000</td>\n",
       "      <td>1514</td>\n",
       "      <td>Bland, Johnnà</td>\n",
       "    </tr>\n",
       "    <tr>\n",
       "      <th>2</th>\n",
       "      <td>3</td>\n",
       "      <td>Larceny - Shoplifitng</td>\n",
       "      <td>202500028282</td>\n",
       "      <td>500</td>\n",
       "      <td>W MAIN ST</td>\n",
       "      <td>CPD</td>\n",
       "      <td>1754853131000</td>\n",
       "      <td>1512</td>\n",
       "      <td>O'Briant, Landon</td>\n",
       "    </tr>\n",
       "    <tr>\n",
       "      <th>3</th>\n",
       "      <td>4</td>\n",
       "      <td>Larceny - Shoplifitng</td>\n",
       "      <td>202500028275</td>\n",
       "      <td>1200</td>\n",
       "      <td>EMMET ST N, 120</td>\n",
       "      <td>CPD</td>\n",
       "      <td>1754847073000</td>\n",
       "      <td>1331</td>\n",
       "      <td>Love-Baker, Sydney</td>\n",
       "    </tr>\n",
       "    <tr>\n",
       "      <th>4</th>\n",
       "      <td>5</td>\n",
       "      <td>Lost/FoundProperty</td>\n",
       "      <td>202500028272</td>\n",
       "      <td>1300</td>\n",
       "      <td>CHESAPEAKE ST</td>\n",
       "      <td>CPD</td>\n",
       "      <td>1754845331000</td>\n",
       "      <td>1302</td>\n",
       "      <td>O'Briant, Landon</td>\n",
       "    </tr>\n",
       "  </tbody>\n",
       "</table>\n",
       "</div>"
      ],
      "text/plain": [
       "   RecordID                    Offense    IncidentID BlockNumber  \\\n",
       "0         1        Suspicious Activity  202500028312        1000   \n",
       "1         2  Accident - w/out Injuries  202500028283        1800   \n",
       "2         3      Larceny - Shoplifitng  202500028282         500   \n",
       "3         4      Larceny - Shoplifitng  202500028275        1200   \n",
       "4         5         Lost/FoundProperty  202500028272        1300   \n",
       "\n",
       "         StreetName Agency   DateReported HourReported    ReportingOfficer  \n",
       "0  ROUGEMONT AVE, A    CPD  1754864659000         1824    Abdelgayed, Adam  \n",
       "1        EMMET ST N    CPD  1754853272000         1514       Bland, Johnnà  \n",
       "2         W MAIN ST    CPD  1754853131000         1512    O'Briant, Landon  \n",
       "3   EMMET ST N, 120    CPD  1754847073000         1331  Love-Baker, Sydney  \n",
       "4     CHESAPEAKE ST    CPD  1754845331000         1302    O'Briant, Landon  "
      ]
     },
     "execution_count": 3,
     "metadata": {},
     "output_type": "execute_result"
    }
   ],
   "source": [
    "df.head()"
   ]
  },
  {
   "cell_type": "code",
   "execution_count": 4,
   "id": "d5ca9a53",
   "metadata": {
    "execution": {
     "iopub.execute_input": "2025-08-13T01:07:01.144508Z",
     "iopub.status.busy": "2025-08-13T01:07:01.144268Z",
     "iopub.status.idle": "2025-08-13T01:07:01.148482Z",
     "shell.execute_reply": "2025-08-13T01:07:01.147934Z"
    },
    "papermill": {
     "duration": 0.009448,
     "end_time": "2025-08-13T01:07:01.149521",
     "exception": false,
     "start_time": "2025-08-13T01:07:01.140073",
     "status": "completed"
    },
    "tags": []
   },
   "outputs": [
    {
     "data": {
      "text/plain": [
       "Index(['RecordID', 'Offense', 'IncidentID', 'BlockNumber', 'StreetName',\n",
       "       'Agency', 'DateReported', 'HourReported', 'ReportingOfficer'],\n",
       "      dtype='object')"
      ]
     },
     "execution_count": 4,
     "metadata": {},
     "output_type": "execute_result"
    }
   ],
   "source": [
    "df.columns"
   ]
  },
  {
   "cell_type": "code",
   "execution_count": 5,
   "id": "b1032823",
   "metadata": {
    "execution": {
     "iopub.execute_input": "2025-08-13T01:07:01.158505Z",
     "iopub.status.busy": "2025-08-13T01:07:01.158213Z",
     "iopub.status.idle": "2025-08-13T01:07:01.185833Z",
     "shell.execute_reply": "2025-08-13T01:07:01.185203Z"
    },
    "papermill": {
     "duration": 0.033429,
     "end_time": "2025-08-13T01:07:01.186861",
     "exception": false,
     "start_time": "2025-08-13T01:07:01.153432",
     "status": "completed"
    },
    "tags": []
   },
   "outputs": [
    {
     "name": "stdout",
     "output_type": "stream",
     "text": [
      "<class 'pandas.core.frame.DataFrame'>\n",
      "RangeIndex: 25640 entries, 0 to 25639\n",
      "Data columns (total 9 columns):\n",
      " #   Column            Non-Null Count  Dtype \n",
      "---  ------            --------------  ----- \n",
      " 0   RecordID          25640 non-null  int64 \n",
      " 1   Offense           25640 non-null  object\n",
      " 2   IncidentID        25640 non-null  object\n",
      " 3   BlockNumber       25640 non-null  object\n",
      " 4   StreetName        25640 non-null  object\n",
      " 5   Agency            25640 non-null  object\n",
      " 6   DateReported      25640 non-null  int64 \n",
      " 7   HourReported      25640 non-null  object\n",
      " 8   ReportingOfficer  25625 non-null  object\n",
      "dtypes: int64(2), object(7)\n",
      "memory usage: 1.8+ MB\n"
     ]
    }
   ],
   "source": [
    "df.info()"
   ]
  },
  {
   "cell_type": "markdown",
   "id": "521d92aa",
   "metadata": {
    "papermill": {
     "duration": 0.003874,
     "end_time": "2025-08-13T01:07:01.194864",
     "exception": false,
     "start_time": "2025-08-13T01:07:01.190990",
     "status": "completed"
    },
    "tags": []
   },
   "source": [
    "### Missing Values"
   ]
  },
  {
   "cell_type": "code",
   "execution_count": 6,
   "id": "2a03aa77",
   "metadata": {
    "execution": {
     "iopub.execute_input": "2025-08-13T01:07:01.203605Z",
     "iopub.status.busy": "2025-08-13T01:07:01.203336Z",
     "iopub.status.idle": "2025-08-13T01:07:01.232931Z",
     "shell.execute_reply": "2025-08-13T01:07:01.232204Z"
    },
    "papermill": {
     "duration": 0.035411,
     "end_time": "2025-08-13T01:07:01.234136",
     "exception": false,
     "start_time": "2025-08-13T01:07:01.198725",
     "status": "completed"
    },
    "tags": []
   },
   "outputs": [
    {
     "name": "stdout",
     "output_type": "stream",
     "text": [
      "                  MissingCount  MissingPercentage\n",
      "RecordID                     0               0.00\n",
      "Offense                      0               0.00\n",
      "IncidentID                   0               0.00\n",
      "BlockNumber                  0               0.00\n",
      "StreetName                   0               0.00\n",
      "Agency                       0               0.00\n",
      "DateReported                 0               0.00\n",
      "HourReported                 0               0.00\n",
      "ReportingOfficer            15               0.06\n"
     ]
    }
   ],
   "source": [
    "def missing_percentage(df):\n",
    "    \"\"\"\n",
    "    Returns a DataFrame with the count and percentage of missing values for each column.\n",
    "    \n",
    "    Parameters:\n",
    "        df (pd.DataFrame): The input DataFrame.\n",
    "    \n",
    "    Returns:\n",
    "        pd.DataFrame: A DataFrame with columns 'MissingCount' and 'MissingPercentage'.\n",
    "    \"\"\"\n",
    "    total_rows = len(df)\n",
    "    missing_count = df.isnull().sum()\n",
    "    missing_percent = (missing_count / total_rows) * 100\n",
    "    \n",
    "    result = pd.DataFrame({\n",
    "        'MissingCount': missing_count,\n",
    "        'MissingPercentage': missing_percent.round(2)\n",
    "    })\n",
    "    \n",
    "    return result\n",
    "\n",
    "# Example usage:\n",
    "missing_info = missing_percentage(df)\n",
    "print(missing_info)\n"
   ]
  },
  {
   "cell_type": "markdown",
   "id": "5c1d116d",
   "metadata": {
    "papermill": {
     "duration": 0.003964,
     "end_time": "2025-08-13T01:07:01.242498",
     "exception": false,
     "start_time": "2025-08-13T01:07:01.238534",
     "status": "completed"
    },
    "tags": []
   },
   "source": [
    "## Data Preparation"
   ]
  },
  {
   "cell_type": "markdown",
   "id": "8cf3d3ff",
   "metadata": {
    "papermill": {
     "duration": 0.00382,
     "end_time": "2025-08-13T01:07:01.250256",
     "exception": false,
     "start_time": "2025-08-13T01:07:01.246436",
     "status": "completed"
    },
    "tags": []
   },
   "source": [
    "### Data Conversion"
   ]
  },
  {
   "cell_type": "code",
   "execution_count": 7,
   "id": "22c4969e",
   "metadata": {
    "execution": {
     "iopub.execute_input": "2025-08-13T01:07:01.259247Z",
     "iopub.status.busy": "2025-08-13T01:07:01.258935Z",
     "iopub.status.idle": "2025-08-13T01:07:01.629493Z",
     "shell.execute_reply": "2025-08-13T01:07:01.628743Z"
    },
    "papermill": {
     "duration": 0.376349,
     "end_time": "2025-08-13T01:07:01.630532",
     "exception": false,
     "start_time": "2025-08-13T01:07:01.254183",
     "status": "completed"
    },
    "tags": []
   },
   "outputs": [
    {
     "data": {
      "text/html": [
       "<div>\n",
       "<style scoped>\n",
       "    .dataframe tbody tr th:only-of-type {\n",
       "        vertical-align: middle;\n",
       "    }\n",
       "\n",
       "    .dataframe tbody tr th {\n",
       "        vertical-align: top;\n",
       "    }\n",
       "\n",
       "    .dataframe thead th {\n",
       "        text-align: right;\n",
       "    }\n",
       "</style>\n",
       "<table border=\"1\" class=\"dataframe\">\n",
       "  <thead>\n",
       "    <tr style=\"text-align: right;\">\n",
       "      <th></th>\n",
       "      <th>RecordID</th>\n",
       "      <th>Offense</th>\n",
       "      <th>IncidentID</th>\n",
       "      <th>BlockNumber</th>\n",
       "      <th>StreetName</th>\n",
       "      <th>Agency</th>\n",
       "      <th>HourReported</th>\n",
       "      <th>ReportingOfficer</th>\n",
       "      <th>Date</th>\n",
       "      <th>DateString</th>\n",
       "      <th>DayOfWeek</th>\n",
       "      <th>Weekend</th>\n",
       "      <th>Season</th>\n",
       "      <th>HourAMPM</th>\n",
       "      <th>TimeOfDay</th>\n",
       "    </tr>\n",
       "  </thead>\n",
       "  <tbody>\n",
       "    <tr>\n",
       "      <th>0</th>\n",
       "      <td>1</td>\n",
       "      <td>Suspicious Activity</td>\n",
       "      <td>202500028312</td>\n",
       "      <td>1000</td>\n",
       "      <td>ROUGEMONT AVE, A</td>\n",
       "      <td>CPD</td>\n",
       "      <td>1824</td>\n",
       "      <td>Abdelgayed, Adam</td>\n",
       "      <td>2025-08-10 18:24:19</td>\n",
       "      <td>2025-08-10 06:24:19 PM</td>\n",
       "      <td>Sunday</td>\n",
       "      <td>True</td>\n",
       "      <td>Summer</td>\n",
       "      <td>06:24 PM</td>\n",
       "      <td>Evening</td>\n",
       "    </tr>\n",
       "    <tr>\n",
       "      <th>1</th>\n",
       "      <td>2</td>\n",
       "      <td>Accident - w/out Injuries</td>\n",
       "      <td>202500028283</td>\n",
       "      <td>1800</td>\n",
       "      <td>EMMET ST N</td>\n",
       "      <td>CPD</td>\n",
       "      <td>1514</td>\n",
       "      <td>Bland, Johnnà</td>\n",
       "      <td>2025-08-10 15:14:32</td>\n",
       "      <td>2025-08-10 03:14:32 PM</td>\n",
       "      <td>Sunday</td>\n",
       "      <td>True</td>\n",
       "      <td>Summer</td>\n",
       "      <td>03:14 PM</td>\n",
       "      <td>Afternoon</td>\n",
       "    </tr>\n",
       "    <tr>\n",
       "      <th>2</th>\n",
       "      <td>3</td>\n",
       "      <td>Larceny - Shoplifitng</td>\n",
       "      <td>202500028282</td>\n",
       "      <td>500</td>\n",
       "      <td>W MAIN ST</td>\n",
       "      <td>CPD</td>\n",
       "      <td>1512</td>\n",
       "      <td>O'Briant, Landon</td>\n",
       "      <td>2025-08-10 15:12:11</td>\n",
       "      <td>2025-08-10 03:12:11 PM</td>\n",
       "      <td>Sunday</td>\n",
       "      <td>True</td>\n",
       "      <td>Summer</td>\n",
       "      <td>03:12 PM</td>\n",
       "      <td>Afternoon</td>\n",
       "    </tr>\n",
       "    <tr>\n",
       "      <th>3</th>\n",
       "      <td>4</td>\n",
       "      <td>Larceny - Shoplifitng</td>\n",
       "      <td>202500028275</td>\n",
       "      <td>1200</td>\n",
       "      <td>EMMET ST N, 120</td>\n",
       "      <td>CPD</td>\n",
       "      <td>1331</td>\n",
       "      <td>Love-Baker, Sydney</td>\n",
       "      <td>2025-08-10 13:31:13</td>\n",
       "      <td>2025-08-10 01:31:13 PM</td>\n",
       "      <td>Sunday</td>\n",
       "      <td>True</td>\n",
       "      <td>Summer</td>\n",
       "      <td>01:31 PM</td>\n",
       "      <td>Afternoon</td>\n",
       "    </tr>\n",
       "    <tr>\n",
       "      <th>4</th>\n",
       "      <td>5</td>\n",
       "      <td>Lost/FoundProperty</td>\n",
       "      <td>202500028272</td>\n",
       "      <td>1300</td>\n",
       "      <td>CHESAPEAKE ST</td>\n",
       "      <td>CPD</td>\n",
       "      <td>1302</td>\n",
       "      <td>O'Briant, Landon</td>\n",
       "      <td>2025-08-10 13:02:11</td>\n",
       "      <td>2025-08-10 01:02:11 PM</td>\n",
       "      <td>Sunday</td>\n",
       "      <td>True</td>\n",
       "      <td>Summer</td>\n",
       "      <td>01:02 PM</td>\n",
       "      <td>Afternoon</td>\n",
       "    </tr>\n",
       "  </tbody>\n",
       "</table>\n",
       "</div>"
      ],
      "text/plain": [
       "   RecordID                    Offense    IncidentID BlockNumber  \\\n",
       "0         1        Suspicious Activity  202500028312        1000   \n",
       "1         2  Accident - w/out Injuries  202500028283        1800   \n",
       "2         3      Larceny - Shoplifitng  202500028282         500   \n",
       "3         4      Larceny - Shoplifitng  202500028275        1200   \n",
       "4         5         Lost/FoundProperty  202500028272        1300   \n",
       "\n",
       "         StreetName Agency HourReported    ReportingOfficer  \\\n",
       "0  ROUGEMONT AVE, A    CPD         1824    Abdelgayed, Adam   \n",
       "1        EMMET ST N    CPD         1514       Bland, Johnnà   \n",
       "2         W MAIN ST    CPD         1512    O'Briant, Landon   \n",
       "3   EMMET ST N, 120    CPD         1331  Love-Baker, Sydney   \n",
       "4     CHESAPEAKE ST    CPD         1302    O'Briant, Landon   \n",
       "\n",
       "                 Date              DateString DayOfWeek  Weekend  Season  \\\n",
       "0 2025-08-10 18:24:19  2025-08-10 06:24:19 PM    Sunday     True  Summer   \n",
       "1 2025-08-10 15:14:32  2025-08-10 03:14:32 PM    Sunday     True  Summer   \n",
       "2 2025-08-10 15:12:11  2025-08-10 03:12:11 PM    Sunday     True  Summer   \n",
       "3 2025-08-10 13:31:13  2025-08-10 01:31:13 PM    Sunday     True  Summer   \n",
       "4 2025-08-10 13:02:11  2025-08-10 01:02:11 PM    Sunday     True  Summer   \n",
       "\n",
       "   HourAMPM  TimeOfDay  \n",
       "0  06:24 PM    Evening  \n",
       "1  03:14 PM  Afternoon  \n",
       "2  03:12 PM  Afternoon  \n",
       "3  01:31 PM  Afternoon  \n",
       "4  01:02 PM  Afternoon  "
      ]
     },
     "execution_count": 7,
     "metadata": {},
     "output_type": "execute_result"
    }
   ],
   "source": [
    "def convert_and_categorize_datereported(df, col='DateReported'):\n",
    "    \"\"\"\n",
    "    Converts an epoch (in milliseconds) date column into a timezone-aware datetime,\n",
    "    converts it to Eastern Time, and then creates columns for day-of-week, weekend flag,\n",
    "    season, 12-hour formatted time, and time-of-day. Keeps both a real datetime column\n",
    "    (Date) and a string representation (DateString).\n",
    "    \"\"\"\n",
    "    import pandas as pd\n",
    "\n",
    "    # Convert the epoch timestamp to a pandas datetime object as UTC, then convert to US/Eastern.\n",
    "    df[\"DateReported_dt\"] = (\n",
    "        pd.to_datetime(df[col], unit=\"ms\", errors=\"coerce\", utc=True)\n",
    "        .dt.tz_convert(\"US/Eastern\")\n",
    "    )\n",
    "    \n",
    "    # Create a true datetime column (remove timezone if you prefer naive datetime)\n",
    "    df[\"Date\"] = df[\"DateReported_dt\"].dt.tz_localize(None)\n",
    "\n",
    "    # Optionally, create a separate string-formatted column\n",
    "    df[\"DateString\"] = df[\"DateReported_dt\"].dt.strftime(\"%Y-%m-%d %I:%M:%S %p\")\n",
    "    \n",
    "    # DayOfWeek\n",
    "    df[\"DayOfWeek\"] = df[\"DateReported_dt\"].dt.day_name()\n",
    "    \n",
    "    # Weekend\n",
    "    df[\"Weekend\"] = df[\"DayOfWeek\"].isin([\"Saturday\", \"Sunday\"])\n",
    "    \n",
    "    # Helper function to determine the season\n",
    "    def get_season(dt):\n",
    "        month = dt.month\n",
    "        day = dt.day\n",
    "        # Approximate Northern Hemisphere season boundaries:\n",
    "        if (month == 12 and day >= 21) or (month < 3) or (month == 3 and day < 20):\n",
    "            return \"Winter\"\n",
    "        elif (month == 3 and day >= 20) or (month < 6) or (month == 6 and day < 21):\n",
    "            return \"Spring\"\n",
    "        elif (month == 6 and day >= 21) or (month < 9) or (month == 9 and day < 22):\n",
    "            return \"Summer\"\n",
    "        else:\n",
    "            return \"Autumn\"\n",
    "    \n",
    "    df[\"Season\"] = df[\"DateReported_dt\"].apply(get_season)\n",
    "    \n",
    "    # 12-hour formatted time (HourAMPM)\n",
    "    df[\"HourAMPM\"] = df[\"DateReported_dt\"].dt.strftime(\"%I:%M %p\")\n",
    "    \n",
    "    # Extract hour (0-23) for time-of-day\n",
    "    df[\"HourValue\"] = df[\"DateReported_dt\"].dt.hour\n",
    "    \n",
    "    def time_of_day(hour):\n",
    "        if pd.isnull(hour):\n",
    "            return None\n",
    "        if 5 <= hour < 12:\n",
    "            return \"Morning\"\n",
    "        elif 12 <= hour < 17:\n",
    "            return \"Afternoon\"\n",
    "        elif 17 <= hour < 21:\n",
    "            return \"Evening\"\n",
    "        else:\n",
    "            return \"Night\"\n",
    "    \n",
    "    df[\"TimeOfDay\"] = df[\"HourValue\"].apply(time_of_day)\n",
    "    \n",
    "    # Drop columns you no longer need\n",
    "    df.drop(columns=[col, \"DateReported_dt\", \"HourValue\"], inplace=True)\n",
    "    \n",
    "    return df\n",
    "\n",
    "# Example usage:\n",
    "df = convert_and_categorize_datereported(df)\n",
    "df.head()\n"
   ]
  },
  {
   "cell_type": "code",
   "execution_count": 8,
   "id": "f69746d4",
   "metadata": {
    "execution": {
     "iopub.execute_input": "2025-08-13T01:07:01.640259Z",
     "iopub.status.busy": "2025-08-13T01:07:01.639982Z",
     "iopub.status.idle": "2025-08-13T01:07:01.672500Z",
     "shell.execute_reply": "2025-08-13T01:07:01.671864Z"
    },
    "papermill": {
     "duration": 0.038519,
     "end_time": "2025-08-13T01:07:01.673592",
     "exception": false,
     "start_time": "2025-08-13T01:07:01.635073",
     "status": "completed"
    },
    "tags": []
   },
   "outputs": [
    {
     "name": "stdout",
     "output_type": "stream",
     "text": [
      "<class 'pandas.core.frame.DataFrame'>\n",
      "RangeIndex: 25640 entries, 0 to 25639\n",
      "Data columns (total 15 columns):\n",
      " #   Column            Non-Null Count  Dtype         \n",
      "---  ------            --------------  -----         \n",
      " 0   RecordID          25640 non-null  int64         \n",
      " 1   Offense           25640 non-null  object        \n",
      " 2   IncidentID        25640 non-null  object        \n",
      " 3   BlockNumber       25640 non-null  object        \n",
      " 4   StreetName        25640 non-null  object        \n",
      " 5   Agency            25640 non-null  object        \n",
      " 6   HourReported      25640 non-null  object        \n",
      " 7   ReportingOfficer  25625 non-null  object        \n",
      " 8   Date              25640 non-null  datetime64[ns]\n",
      " 9   DateString        25640 non-null  object        \n",
      " 10  DayOfWeek         25640 non-null  object        \n",
      " 11  Weekend           25640 non-null  bool          \n",
      " 12  Season            25640 non-null  object        \n",
      " 13  HourAMPM          25640 non-null  object        \n",
      " 14  TimeOfDay         25640 non-null  object        \n",
      "dtypes: bool(1), datetime64[ns](1), int64(1), object(12)\n",
      "memory usage: 2.8+ MB\n"
     ]
    }
   ],
   "source": [
    "df.info()"
   ]
  },
  {
   "cell_type": "markdown",
   "id": "e91381a8",
   "metadata": {
    "papermill": {
     "duration": 0.004113,
     "end_time": "2025-08-13T01:07:01.682291",
     "exception": false,
     "start_time": "2025-08-13T01:07:01.678178",
     "status": "completed"
    },
    "tags": []
   },
   "source": [
    "### Coordinates"
   ]
  },
  {
   "cell_type": "code",
   "execution_count": 9,
   "id": "c27bb407",
   "metadata": {
    "execution": {
     "iopub.execute_input": "2025-08-13T01:07:01.691964Z",
     "iopub.status.busy": "2025-08-13T01:07:01.691642Z",
     "iopub.status.idle": "2025-08-13T01:07:01.739464Z",
     "shell.execute_reply": "2025-08-13T01:07:01.738836Z"
    },
    "papermill": {
     "duration": 0.054053,
     "end_time": "2025-08-13T01:07:01.740552",
     "exception": false,
     "start_time": "2025-08-13T01:07:01.686499",
     "status": "completed"
    },
    "tags": []
   },
   "outputs": [
    {
     "name": "stdout",
     "output_type": "stream",
     "text": [
      "Loaded geocode cache.\n",
      "Geocode cache updated and saved.\n"
     ]
    },
    {
     "data": {
      "text/html": [
       "<div>\n",
       "<style scoped>\n",
       "    .dataframe tbody tr th:only-of-type {\n",
       "        vertical-align: middle;\n",
       "    }\n",
       "\n",
       "    .dataframe tbody tr th {\n",
       "        vertical-align: top;\n",
       "    }\n",
       "\n",
       "    .dataframe thead th {\n",
       "        text-align: right;\n",
       "    }\n",
       "</style>\n",
       "<table border=\"1\" class=\"dataframe\">\n",
       "  <thead>\n",
       "    <tr style=\"text-align: right;\">\n",
       "      <th></th>\n",
       "      <th>RecordID</th>\n",
       "      <th>Offense</th>\n",
       "      <th>IncidentID</th>\n",
       "      <th>BlockNumber</th>\n",
       "      <th>StreetName</th>\n",
       "      <th>Agency</th>\n",
       "      <th>HourReported</th>\n",
       "      <th>ReportingOfficer</th>\n",
       "      <th>Date</th>\n",
       "      <th>DateString</th>\n",
       "      <th>DayOfWeek</th>\n",
       "      <th>Weekend</th>\n",
       "      <th>Season</th>\n",
       "      <th>HourAMPM</th>\n",
       "      <th>TimeOfDay</th>\n",
       "      <th>FullStreet</th>\n",
       "      <th>lat</th>\n",
       "      <th>lon</th>\n",
       "    </tr>\n",
       "  </thead>\n",
       "  <tbody>\n",
       "    <tr>\n",
       "      <th>0</th>\n",
       "      <td>1</td>\n",
       "      <td>Suspicious Activity</td>\n",
       "      <td>202500028312</td>\n",
       "      <td>1000</td>\n",
       "      <td>ROUGEMONT AVE, A</td>\n",
       "      <td>CPD</td>\n",
       "      <td>1824</td>\n",
       "      <td>Abdelgayed, Adam</td>\n",
       "      <td>2025-08-10 18:24:19</td>\n",
       "      <td>2025-08-10 06:24:19 PM</td>\n",
       "      <td>Sunday</td>\n",
       "      <td>True</td>\n",
       "      <td>Summer</td>\n",
       "      <td>06:24 PM</td>\n",
       "      <td>Evening</td>\n",
       "      <td>1000 ROUGEMONT AVE, A</td>\n",
       "      <td>38.014257</td>\n",
       "      <td>-78.479964</td>\n",
       "    </tr>\n",
       "    <tr>\n",
       "      <th>1</th>\n",
       "      <td>2</td>\n",
       "      <td>Accident - w/out Injuries</td>\n",
       "      <td>202500028283</td>\n",
       "      <td>1800</td>\n",
       "      <td>EMMET ST N</td>\n",
       "      <td>CPD</td>\n",
       "      <td>1514</td>\n",
       "      <td>Bland, Johnnà</td>\n",
       "      <td>2025-08-10 15:14:32</td>\n",
       "      <td>2025-08-10 03:14:32 PM</td>\n",
       "      <td>Sunday</td>\n",
       "      <td>True</td>\n",
       "      <td>Summer</td>\n",
       "      <td>03:14 PM</td>\n",
       "      <td>Afternoon</td>\n",
       "      <td>1800 EMMET ST N</td>\n",
       "      <td>38.059766</td>\n",
       "      <td>-78.493132</td>\n",
       "    </tr>\n",
       "    <tr>\n",
       "      <th>2</th>\n",
       "      <td>3</td>\n",
       "      <td>Larceny - Shoplifitng</td>\n",
       "      <td>202500028282</td>\n",
       "      <td>500</td>\n",
       "      <td>W MAIN ST</td>\n",
       "      <td>CPD</td>\n",
       "      <td>1512</td>\n",
       "      <td>O'Briant, Landon</td>\n",
       "      <td>2025-08-10 15:12:11</td>\n",
       "      <td>2025-08-10 03:12:11 PM</td>\n",
       "      <td>Sunday</td>\n",
       "      <td>True</td>\n",
       "      <td>Summer</td>\n",
       "      <td>03:12 PM</td>\n",
       "      <td>Afternoon</td>\n",
       "      <td>500 W MAIN ST</td>\n",
       "      <td>38.030793</td>\n",
       "      <td>-78.487912</td>\n",
       "    </tr>\n",
       "    <tr>\n",
       "      <th>3</th>\n",
       "      <td>4</td>\n",
       "      <td>Larceny - Shoplifitng</td>\n",
       "      <td>202500028275</td>\n",
       "      <td>1200</td>\n",
       "      <td>EMMET ST N, 120</td>\n",
       "      <td>CPD</td>\n",
       "      <td>1331</td>\n",
       "      <td>Love-Baker, Sydney</td>\n",
       "      <td>2025-08-10 13:31:13</td>\n",
       "      <td>2025-08-10 01:31:13 PM</td>\n",
       "      <td>Sunday</td>\n",
       "      <td>True</td>\n",
       "      <td>Summer</td>\n",
       "      <td>01:31 PM</td>\n",
       "      <td>Afternoon</td>\n",
       "      <td>1200 EMMET ST N, 120</td>\n",
       "      <td>38.052917</td>\n",
       "      <td>-78.498591</td>\n",
       "    </tr>\n",
       "    <tr>\n",
       "      <th>4</th>\n",
       "      <td>5</td>\n",
       "      <td>Lost/FoundProperty</td>\n",
       "      <td>202500028272</td>\n",
       "      <td>1300</td>\n",
       "      <td>CHESAPEAKE ST</td>\n",
       "      <td>CPD</td>\n",
       "      <td>1302</td>\n",
       "      <td>O'Briant, Landon</td>\n",
       "      <td>2025-08-10 13:02:11</td>\n",
       "      <td>2025-08-10 01:02:11 PM</td>\n",
       "      <td>Sunday</td>\n",
       "      <td>True</td>\n",
       "      <td>Summer</td>\n",
       "      <td>01:02 PM</td>\n",
       "      <td>Afternoon</td>\n",
       "      <td>1300 CHESAPEAKE ST</td>\n",
       "      <td>38.027231</td>\n",
       "      <td>-78.466641</td>\n",
       "    </tr>\n",
       "  </tbody>\n",
       "</table>\n",
       "</div>"
      ],
      "text/plain": [
       "   RecordID                    Offense    IncidentID BlockNumber  \\\n",
       "0         1        Suspicious Activity  202500028312        1000   \n",
       "1         2  Accident - w/out Injuries  202500028283        1800   \n",
       "2         3      Larceny - Shoplifitng  202500028282         500   \n",
       "3         4      Larceny - Shoplifitng  202500028275        1200   \n",
       "4         5         Lost/FoundProperty  202500028272        1300   \n",
       "\n",
       "         StreetName Agency HourReported    ReportingOfficer  \\\n",
       "0  ROUGEMONT AVE, A    CPD         1824    Abdelgayed, Adam   \n",
       "1        EMMET ST N    CPD         1514       Bland, Johnnà   \n",
       "2         W MAIN ST    CPD         1512    O'Briant, Landon   \n",
       "3   EMMET ST N, 120    CPD         1331  Love-Baker, Sydney   \n",
       "4     CHESAPEAKE ST    CPD         1302    O'Briant, Landon   \n",
       "\n",
       "                 Date              DateString DayOfWeek  Weekend  Season  \\\n",
       "0 2025-08-10 18:24:19  2025-08-10 06:24:19 PM    Sunday     True  Summer   \n",
       "1 2025-08-10 15:14:32  2025-08-10 03:14:32 PM    Sunday     True  Summer   \n",
       "2 2025-08-10 15:12:11  2025-08-10 03:12:11 PM    Sunday     True  Summer   \n",
       "3 2025-08-10 13:31:13  2025-08-10 01:31:13 PM    Sunday     True  Summer   \n",
       "4 2025-08-10 13:02:11  2025-08-10 01:02:11 PM    Sunday     True  Summer   \n",
       "\n",
       "   HourAMPM  TimeOfDay             FullStreet        lat        lon  \n",
       "0  06:24 PM    Evening  1000 ROUGEMONT AVE, A  38.014257 -78.479964  \n",
       "1  03:14 PM  Afternoon        1800 EMMET ST N  38.059766 -78.493132  \n",
       "2  03:12 PM  Afternoon          500 W MAIN ST  38.030793 -78.487912  \n",
       "3  01:31 PM  Afternoon   1200 EMMET ST N, 120  38.052917 -78.498591  \n",
       "4  01:02 PM  Afternoon     1300 CHESAPEAKE ST  38.027231 -78.466641  "
      ]
     },
     "execution_count": 9,
     "metadata": {},
     "output_type": "execute_result"
    }
   ],
   "source": [
    "# Combine BlockNumber and StreetName into a full address string\n",
    "df['FullStreet'] = df['BlockNumber'].astype(str) + \" \" + df['StreetName']\n",
    "\n",
    "# --- Step 1: Setup the Google Maps Client and Cache ---\n",
    "gmaps = googlemaps.Client(key=GOOGLE_API_KEY)\n",
    "\n",
    "# Try to load cached geocoding results if available.\n",
    "try:\n",
    "    with open(\"geocode_cache_google.pkl\", \"rb\") as f:\n",
    "        street_coords = pickle.load(f)\n",
    "    print(\"Loaded geocode cache.\")\n",
    "except FileNotFoundError:\n",
    "    street_coords = {}\n",
    "    print(\"No cache found; starting fresh.\")\n",
    "\n",
    "def geocode_address(address):\n",
    "    try:\n",
    "        # Append city and state to help geocoding\n",
    "        result = gmaps.geocode(f\"{address}, Charlottesville, VA\")\n",
    "        if result:\n",
    "            lat = result[0]['geometry']['location']['lat']\n",
    "            lon = result[0]['geometry']['location']['lng']\n",
    "            return lat, lon\n",
    "    except Exception as e:\n",
    "        print(f\"Error geocoding {address}: {e}\")\n",
    "    return None, None\n",
    "\n",
    "# --- Step 2: Geocode Only New Addresses ---\n",
    "unique_addresses = df['FullStreet'].unique()\n",
    "for address in unique_addresses:\n",
    "    if address not in street_coords:\n",
    "        lat, lon = geocode_address(address)\n",
    "        street_coords[address] = (lat, lon)\n",
    "        print(f\"Geocoded {address}: {lat}, {lon}\")\n",
    "\n",
    "# Save the updated cache to disk.\n",
    "with open(\"geocode_cache_google.pkl\", \"wb\") as f:\n",
    "    pickle.dump(street_coords, f)\n",
    "    print(\"Geocode cache updated and saved.\")\n",
    "\n",
    "# --- Step 3: Map Coordinates Back to DataFrame ---\n",
    "df['lat'] = df['FullStreet'].map(lambda s: street_coords.get(s, (None, None))[0])\n",
    "df['lon'] = df['FullStreet'].map(lambda s: street_coords.get(s, (None, None))[1])\n",
    "\n",
    "df.head()"
   ]
  },
  {
   "cell_type": "markdown",
   "id": "2e854380",
   "metadata": {
    "papermill": {
     "duration": 0.004614,
     "end_time": "2025-08-13T01:07:01.750217",
     "exception": false,
     "start_time": "2025-08-13T01:07:01.745603",
     "status": "completed"
    },
    "tags": []
   },
   "source": [
    "### Neighborhood"
   ]
  },
  {
   "cell_type": "code",
   "execution_count": 10,
   "id": "50b8b04a",
   "metadata": {
    "execution": {
     "iopub.execute_input": "2025-08-13T01:07:01.760690Z",
     "iopub.status.busy": "2025-08-13T01:07:01.760389Z",
     "iopub.status.idle": "2025-08-13T01:07:04.433934Z",
     "shell.execute_reply": "2025-08-13T01:07:04.433193Z"
    },
    "papermill": {
     "duration": 2.680432,
     "end_time": "2025-08-13T01:07:04.435187",
     "exception": false,
     "start_time": "2025-08-13T01:07:01.754755",
     "status": "completed"
    },
    "tags": []
   },
   "outputs": [
    {
     "name": "stdout",
     "output_type": "stream",
     "text": [
      "Loaded neighborhood cache.\n"
     ]
    },
    {
     "name": "stdout",
     "output_type": "stream",
     "text": [
      "Error getting neighborhood for nan, nan: HTTP Error: 400\n"
     ]
    },
    {
     "name": "stdout",
     "output_type": "stream",
     "text": [
      "Error getting neighborhood for nan, nan: HTTP Error: 400\n",
      "Error getting neighborhood for nan, nan: HTTP Error: 400\n"
     ]
    },
    {
     "name": "stdout",
     "output_type": "stream",
     "text": [
      "Error getting neighborhood for nan, nan: HTTP Error: 400\n",
      "Error getting neighborhood for nan, nan: HTTP Error: 400\n",
      "Error getting neighborhood for nan, nan: HTTP Error: 400\n",
      "Error getting neighborhood for nan, nan: HTTP Error: 400\n"
     ]
    },
    {
     "name": "stdout",
     "output_type": "stream",
     "text": [
      "Error getting neighborhood for nan, nan: HTTP Error: 400\n"
     ]
    },
    {
     "name": "stdout",
     "output_type": "stream",
     "text": [
      "Error getting neighborhood for nan, nan: HTTP Error: 400\n",
      "Error getting neighborhood for nan, nan: HTTP Error: 400\n"
     ]
    },
    {
     "name": "stdout",
     "output_type": "stream",
     "text": [
      "Error getting neighborhood for nan, nan: HTTP Error: 400\n",
      "Error getting neighborhood for nan, nan: HTTP Error: 400\n",
      "Error getting neighborhood for nan, nan: HTTP Error: 400\n",
      "Error getting neighborhood for nan, nan: HTTP Error: 400\n",
      "Error getting neighborhood for nan, nan: HTTP Error: 400\n"
     ]
    },
    {
     "name": "stdout",
     "output_type": "stream",
     "text": [
      "Error getting neighborhood for nan, nan: HTTP Error: 400\n"
     ]
    },
    {
     "name": "stdout",
     "output_type": "stream",
     "text": [
      "Error getting neighborhood for nan, nan: HTTP Error: 400\n",
      "Error getting neighborhood for nan, nan: HTTP Error: 400\n",
      "Error getting neighborhood for nan, nan: HTTP Error: 400\n"
     ]
    },
    {
     "name": "stdout",
     "output_type": "stream",
     "text": [
      "Error getting neighborhood for nan, nan: HTTP Error: 400\n",
      "Error getting neighborhood for nan, nan: HTTP Error: 400\n",
      "Error getting neighborhood for nan, nan: HTTP Error: 400\n",
      "Error getting neighborhood for nan, nan: HTTP Error: 400\n",
      "Error getting neighborhood for nan, nan: HTTP Error: 400\n"
     ]
    },
    {
     "name": "stdout",
     "output_type": "stream",
     "text": [
      "Error getting neighborhood for nan, nan: HTTP Error: 400\n"
     ]
    },
    {
     "name": "stdout",
     "output_type": "stream",
     "text": [
      "Error getting neighborhood for nan, nan: HTTP Error: 400\n",
      "Error getting neighborhood for nan, nan: HTTP Error: 400\n",
      "Error getting neighborhood for nan, nan: HTTP Error: 400\n"
     ]
    },
    {
     "name": "stdout",
     "output_type": "stream",
     "text": [
      "Error getting neighborhood for nan, nan: HTTP Error: 400\n",
      "Error getting neighborhood for nan, nan: HTTP Error: 400\n",
      "Error getting neighborhood for nan, nan: HTTP Error: 400\n",
      "Error getting neighborhood for nan, nan: HTTP Error: 400\n",
      "Error getting neighborhood for nan, nan: HTTP Error: 400\n"
     ]
    },
    {
     "name": "stdout",
     "output_type": "stream",
     "text": [
      "Error getting neighborhood for nan, nan: HTTP Error: 400\n"
     ]
    },
    {
     "name": "stdout",
     "output_type": "stream",
     "text": [
      "Error getting neighborhood for nan, nan: HTTP Error: 400\n",
      "Error getting neighborhood for nan, nan: HTTP Error: 400\n",
      "Error getting neighborhood for nan, nan: HTTP Error: 400\n"
     ]
    },
    {
     "name": "stdout",
     "output_type": "stream",
     "text": [
      "Error getting neighborhood for nan, nan: HTTP Error: 400\n",
      "Error getting neighborhood for nan, nan: HTTP Error: 400\n",
      "Error getting neighborhood for nan, nan: HTTP Error: 400\n",
      "Error getting neighborhood for nan, nan: HTTP Error: 400\n",
      "Error getting neighborhood for nan, nan: HTTP Error: 400\n"
     ]
    },
    {
     "name": "stdout",
     "output_type": "stream",
     "text": [
      "Error getting neighborhood for nan, nan: HTTP Error: 400\n"
     ]
    },
    {
     "name": "stdout",
     "output_type": "stream",
     "text": [
      "Error getting neighborhood for nan, nan: HTTP Error: 400\n",
      "Error getting neighborhood for nan, nan: HTTP Error: 400\n",
      "Error getting neighborhood for nan, nan: HTTP Error: 400\n"
     ]
    },
    {
     "name": "stdout",
     "output_type": "stream",
     "text": [
      "Error getting neighborhood for nan, nan: HTTP Error: 400\n",
      "Error getting neighborhood for nan, nan: HTTP Error: 400\n",
      "Error getting neighborhood for nan, nan: HTTP Error: 400\n",
      "Error getting neighborhood for nan, nan: HTTP Error: 400\n",
      "Error getting neighborhood for nan, nan: HTTP Error: 400\n"
     ]
    },
    {
     "name": "stdout",
     "output_type": "stream",
     "text": [
      "Error getting neighborhood for nan, nan: HTTP Error: 400\n"
     ]
    },
    {
     "name": "stdout",
     "output_type": "stream",
     "text": [
      "Error getting neighborhood for nan, nan: HTTP Error: 400\n",
      "Error getting neighborhood for nan, nan: HTTP Error: 400\n",
      "Error getting neighborhood for nan, nan: HTTP Error: 400\n"
     ]
    },
    {
     "name": "stdout",
     "output_type": "stream",
     "text": [
      "Error getting neighborhood for nan, nan: HTTP Error: 400\n",
      "Error getting neighborhood for nan, nan: HTTP Error: 400\n",
      "Error getting neighborhood for nan, nan: HTTP Error: 400\n",
      "Error getting neighborhood for nan, nan: HTTP Error: 400\n",
      "Error getting neighborhood for nan, nan: HTTP Error: 400\n"
     ]
    },
    {
     "name": "stdout",
     "output_type": "stream",
     "text": [
      "Error getting neighborhood for nan, nan: HTTP Error: 400\n"
     ]
    },
    {
     "name": "stdout",
     "output_type": "stream",
     "text": [
      "Error getting neighborhood for nan, nan: HTTP Error: 400\n",
      "Error getting neighborhood for nan, nan: HTTP Error: 400\n",
      "Error getting neighborhood for nan, nan: HTTP Error: 400\n"
     ]
    },
    {
     "name": "stdout",
     "output_type": "stream",
     "text": [
      "Error getting neighborhood for nan, nan: HTTP Error: 400\n",
      "Error getting neighborhood for nan, nan: HTTP Error: 400\n",
      "Error getting neighborhood for nan, nan: HTTP Error: 400\n",
      "Error getting neighborhood for nan, nan: HTTP Error: 400\n",
      "Error getting neighborhood for nan, nan: HTTP Error: 400\n"
     ]
    },
    {
     "name": "stdout",
     "output_type": "stream",
     "text": [
      "Error getting neighborhood for nan, nan: HTTP Error: 400\n"
     ]
    },
    {
     "name": "stdout",
     "output_type": "stream",
     "text": [
      "Error getting neighborhood for nan, nan: HTTP Error: 400\n",
      "Error getting neighborhood for nan, nan: HTTP Error: 400\n",
      "Error getting neighborhood for nan, nan: HTTP Error: 400\n"
     ]
    },
    {
     "name": "stdout",
     "output_type": "stream",
     "text": [
      "Error getting neighborhood for nan, nan: HTTP Error: 400\n",
      "Error getting neighborhood for nan, nan: HTTP Error: 400\n",
      "Error getting neighborhood for nan, nan: HTTP Error: 400\n",
      "Error getting neighborhood for nan, nan: HTTP Error: 400\n",
      "Error getting neighborhood for nan, nan: HTTP Error: 400\n"
     ]
    },
    {
     "name": "stdout",
     "output_type": "stream",
     "text": [
      "Error getting neighborhood for nan, nan: HTTP Error: 400\n"
     ]
    },
    {
     "name": "stdout",
     "output_type": "stream",
     "text": [
      "Error getting neighborhood for nan, nan: HTTP Error: 400\n",
      "Error getting neighborhood for nan, nan: HTTP Error: 400\n",
      "Error getting neighborhood for nan, nan: HTTP Error: 400\n"
     ]
    },
    {
     "name": "stdout",
     "output_type": "stream",
     "text": [
      "Error getting neighborhood for nan, nan: HTTP Error: 400\n",
      "Error getting neighborhood for nan, nan: HTTP Error: 400\n",
      "Error getting neighborhood for nan, nan: HTTP Error: 400\n",
      "Error getting neighborhood for nan, nan: HTTP Error: 400\n",
      "Error getting neighborhood for nan, nan: HTTP Error: 400\n"
     ]
    },
    {
     "name": "stdout",
     "output_type": "stream",
     "text": [
      "Error getting neighborhood for nan, nan: HTTP Error: 400\n"
     ]
    },
    {
     "name": "stdout",
     "output_type": "stream",
     "text": [
      "Error getting neighborhood for nan, nan: HTTP Error: 400\n",
      "Error getting neighborhood for nan, nan: HTTP Error: 400\n",
      "Error getting neighborhood for nan, nan: HTTP Error: 400\n"
     ]
    },
    {
     "name": "stdout",
     "output_type": "stream",
     "text": [
      "Error getting neighborhood for nan, nan: HTTP Error: 400\n",
      "Error getting neighborhood for nan, nan: HTTP Error: 400\n",
      "Error getting neighborhood for nan, nan: HTTP Error: 400\n",
      "Error getting neighborhood for nan, nan: HTTP Error: 400\n"
     ]
    },
    {
     "name": "stdout",
     "output_type": "stream",
     "text": [
      "Error getting neighborhood for nan, nan: HTTP Error: 400\n",
      "Error getting neighborhood for nan, nan: HTTP Error: 400\n"
     ]
    },
    {
     "data": {
      "text/html": [
       "<div>\n",
       "<style scoped>\n",
       "    .dataframe tbody tr th:only-of-type {\n",
       "        vertical-align: middle;\n",
       "    }\n",
       "\n",
       "    .dataframe tbody tr th {\n",
       "        vertical-align: top;\n",
       "    }\n",
       "\n",
       "    .dataframe thead th {\n",
       "        text-align: right;\n",
       "    }\n",
       "</style>\n",
       "<table border=\"1\" class=\"dataframe\">\n",
       "  <thead>\n",
       "    <tr style=\"text-align: right;\">\n",
       "      <th></th>\n",
       "      <th>RecordID</th>\n",
       "      <th>Offense</th>\n",
       "      <th>IncidentID</th>\n",
       "      <th>BlockNumber</th>\n",
       "      <th>StreetName</th>\n",
       "      <th>Agency</th>\n",
       "      <th>HourReported</th>\n",
       "      <th>ReportingOfficer</th>\n",
       "      <th>Date</th>\n",
       "      <th>DateString</th>\n",
       "      <th>DayOfWeek</th>\n",
       "      <th>Weekend</th>\n",
       "      <th>Season</th>\n",
       "      <th>HourAMPM</th>\n",
       "      <th>TimeOfDay</th>\n",
       "      <th>FullStreet</th>\n",
       "      <th>lat</th>\n",
       "      <th>lon</th>\n",
       "      <th>neighborhood</th>\n",
       "    </tr>\n",
       "  </thead>\n",
       "  <tbody>\n",
       "    <tr>\n",
       "      <th>0</th>\n",
       "      <td>1</td>\n",
       "      <td>Suspicious Activity</td>\n",
       "      <td>202500028312</td>\n",
       "      <td>1000</td>\n",
       "      <td>ROUGEMONT AVE, A</td>\n",
       "      <td>CPD</td>\n",
       "      <td>1824</td>\n",
       "      <td>Abdelgayed, Adam</td>\n",
       "      <td>2025-08-10 18:24:19</td>\n",
       "      <td>2025-08-10 06:24:19 PM</td>\n",
       "      <td>Sunday</td>\n",
       "      <td>True</td>\n",
       "      <td>Summer</td>\n",
       "      <td>06:24 PM</td>\n",
       "      <td>Evening</td>\n",
       "      <td>1000 ROUGEMONT AVE, A</td>\n",
       "      <td>38.014257</td>\n",
       "      <td>-78.479964</td>\n",
       "      <td>Belmont</td>\n",
       "    </tr>\n",
       "    <tr>\n",
       "      <th>1</th>\n",
       "      <td>2</td>\n",
       "      <td>Accident - w/out Injuries</td>\n",
       "      <td>202500028283</td>\n",
       "      <td>1800</td>\n",
       "      <td>EMMET ST N</td>\n",
       "      <td>CPD</td>\n",
       "      <td>1514</td>\n",
       "      <td>Bland, Johnnà</td>\n",
       "      <td>2025-08-10 15:14:32</td>\n",
       "      <td>2025-08-10 03:14:32 PM</td>\n",
       "      <td>Sunday</td>\n",
       "      <td>True</td>\n",
       "      <td>Summer</td>\n",
       "      <td>03:14 PM</td>\n",
       "      <td>Afternoon</td>\n",
       "      <td>1800 EMMET ST N</td>\n",
       "      <td>38.059766</td>\n",
       "      <td>-78.493132</td>\n",
       "      <td>The Meadows</td>\n",
       "    </tr>\n",
       "    <tr>\n",
       "      <th>2</th>\n",
       "      <td>3</td>\n",
       "      <td>Larceny - Shoplifitng</td>\n",
       "      <td>202500028282</td>\n",
       "      <td>500</td>\n",
       "      <td>W MAIN ST</td>\n",
       "      <td>CPD</td>\n",
       "      <td>1512</td>\n",
       "      <td>O'Briant, Landon</td>\n",
       "      <td>2025-08-10 15:12:11</td>\n",
       "      <td>2025-08-10 03:12:11 PM</td>\n",
       "      <td>Sunday</td>\n",
       "      <td>True</td>\n",
       "      <td>Summer</td>\n",
       "      <td>03:12 PM</td>\n",
       "      <td>Afternoon</td>\n",
       "      <td>500 W MAIN ST</td>\n",
       "      <td>38.030793</td>\n",
       "      <td>-78.487912</td>\n",
       "      <td>Starr Hill</td>\n",
       "    </tr>\n",
       "    <tr>\n",
       "      <th>3</th>\n",
       "      <td>4</td>\n",
       "      <td>Larceny - Shoplifitng</td>\n",
       "      <td>202500028275</td>\n",
       "      <td>1200</td>\n",
       "      <td>EMMET ST N, 120</td>\n",
       "      <td>CPD</td>\n",
       "      <td>1331</td>\n",
       "      <td>Love-Baker, Sydney</td>\n",
       "      <td>2025-08-10 13:31:13</td>\n",
       "      <td>2025-08-10 01:31:13 PM</td>\n",
       "      <td>Sunday</td>\n",
       "      <td>True</td>\n",
       "      <td>Summer</td>\n",
       "      <td>01:31 PM</td>\n",
       "      <td>Afternoon</td>\n",
       "      <td>1200 EMMET ST N, 120</td>\n",
       "      <td>38.052917</td>\n",
       "      <td>-78.498591</td>\n",
       "      <td>The Meadows</td>\n",
       "    </tr>\n",
       "    <tr>\n",
       "      <th>4</th>\n",
       "      <td>5</td>\n",
       "      <td>Lost/FoundProperty</td>\n",
       "      <td>202500028272</td>\n",
       "      <td>1300</td>\n",
       "      <td>CHESAPEAKE ST</td>\n",
       "      <td>CPD</td>\n",
       "      <td>1302</td>\n",
       "      <td>O'Briant, Landon</td>\n",
       "      <td>2025-08-10 13:02:11</td>\n",
       "      <td>2025-08-10 01:02:11 PM</td>\n",
       "      <td>Sunday</td>\n",
       "      <td>True</td>\n",
       "      <td>Summer</td>\n",
       "      <td>01:02 PM</td>\n",
       "      <td>Afternoon</td>\n",
       "      <td>1300 CHESAPEAKE ST</td>\n",
       "      <td>38.027231</td>\n",
       "      <td>-78.466641</td>\n",
       "      <td>Woolen Mills</td>\n",
       "    </tr>\n",
       "  </tbody>\n",
       "</table>\n",
       "</div>"
      ],
      "text/plain": [
       "   RecordID                    Offense    IncidentID BlockNumber  \\\n",
       "0         1        Suspicious Activity  202500028312        1000   \n",
       "1         2  Accident - w/out Injuries  202500028283        1800   \n",
       "2         3      Larceny - Shoplifitng  202500028282         500   \n",
       "3         4      Larceny - Shoplifitng  202500028275        1200   \n",
       "4         5         Lost/FoundProperty  202500028272        1300   \n",
       "\n",
       "         StreetName Agency HourReported    ReportingOfficer  \\\n",
       "0  ROUGEMONT AVE, A    CPD         1824    Abdelgayed, Adam   \n",
       "1        EMMET ST N    CPD         1514       Bland, Johnnà   \n",
       "2         W MAIN ST    CPD         1512    O'Briant, Landon   \n",
       "3   EMMET ST N, 120    CPD         1331  Love-Baker, Sydney   \n",
       "4     CHESAPEAKE ST    CPD         1302    O'Briant, Landon   \n",
       "\n",
       "                 Date              DateString DayOfWeek  Weekend  Season  \\\n",
       "0 2025-08-10 18:24:19  2025-08-10 06:24:19 PM    Sunday     True  Summer   \n",
       "1 2025-08-10 15:14:32  2025-08-10 03:14:32 PM    Sunday     True  Summer   \n",
       "2 2025-08-10 15:12:11  2025-08-10 03:12:11 PM    Sunday     True  Summer   \n",
       "3 2025-08-10 13:31:13  2025-08-10 01:31:13 PM    Sunday     True  Summer   \n",
       "4 2025-08-10 13:02:11  2025-08-10 01:02:11 PM    Sunday     True  Summer   \n",
       "\n",
       "   HourAMPM  TimeOfDay             FullStreet        lat        lon  \\\n",
       "0  06:24 PM    Evening  1000 ROUGEMONT AVE, A  38.014257 -78.479964   \n",
       "1  03:14 PM  Afternoon        1800 EMMET ST N  38.059766 -78.493132   \n",
       "2  03:12 PM  Afternoon          500 W MAIN ST  38.030793 -78.487912   \n",
       "3  01:31 PM  Afternoon   1200 EMMET ST N, 120  38.052917 -78.498591   \n",
       "4  01:02 PM  Afternoon     1300 CHESAPEAKE ST  38.027231 -78.466641   \n",
       "\n",
       "   neighborhood  \n",
       "0       Belmont  \n",
       "1   The Meadows  \n",
       "2    Starr Hill  \n",
       "3   The Meadows  \n",
       "4  Woolen Mills  "
      ]
     },
     "execution_count": 10,
     "metadata": {},
     "output_type": "execute_result"
    }
   ],
   "source": [
    "# Initialize the Google Maps client.\n",
    "gmaps = googlemaps.Client(key=GOOGLE_API_KEY)\n",
    "\n",
    "# Try to load a persistent neighborhood cache if available.\n",
    "try:\n",
    "    with open(\"neighborhood_cache.pkl\", \"rb\") as f:\n",
    "        neighborhood_cache = pickle.load(f)\n",
    "    print(\"Loaded neighborhood cache.\")\n",
    "except FileNotFoundError:\n",
    "    neighborhood_cache = {}\n",
    "    print(\"No neighborhood cache found; starting fresh.\")\n",
    "\n",
    "def get_neighborhood(lat, lon):\n",
    "    \"\"\"\n",
    "    Reverse geocodes a latitude and longitude to retrieve the neighborhood.\n",
    "    Caches results to speed up subsequent lookups.\n",
    "    \"\"\"\n",
    "    key = (lat, lon)\n",
    "    if key in neighborhood_cache:\n",
    "        return neighborhood_cache[key]\n",
    "    \n",
    "    try:\n",
    "        result = gmaps.reverse_geocode((lat, lon))\n",
    "        if result:\n",
    "            # Look for the 'neighborhood' component in the first result.\n",
    "            for component in result[0]['address_components']:\n",
    "                if 'neighborhood' in component['types']:\n",
    "                    neighborhood = component['long_name']\n",
    "                    neighborhood_cache[key] = neighborhood\n",
    "                    return neighborhood\n",
    "            # If no neighborhood is found, return \"N/A\"\n",
    "            neighborhood_cache[key] = \"N/A\"\n",
    "            return \"N/A\"\n",
    "    except Exception as e:\n",
    "        print(f\"Error getting neighborhood for {lat}, {lon}: {e}\")\n",
    "        return \"N/A\"\n",
    "    \n",
    "    # Pause to respect usage limits.\n",
    "    time.sleep(1)\n",
    "\n",
    "# Example usage: Apply to your DataFrame 'df' that already has 'lat' and 'lon' columns.\n",
    "df['neighborhood'] = df.apply(lambda row: get_neighborhood(row['lat'], row['lon']), axis=1)\n",
    "\n",
    "# Save the updated neighborhood cache.\n",
    "with open(\"neighborhood_cache.pkl\", \"wb\") as f:\n",
    "    pickle.dump(neighborhood_cache, f)\n",
    "\n",
    "df.head()\n"
   ]
  },
  {
   "cell_type": "markdown",
   "id": "5769444c",
   "metadata": {
    "papermill": {
     "duration": 0.00621,
     "end_time": "2025-08-13T01:07:04.448198",
     "exception": false,
     "start_time": "2025-08-13T01:07:04.441988",
     "status": "completed"
    },
    "tags": []
   },
   "source": [
    "### Zip"
   ]
  },
  {
   "cell_type": "code",
   "execution_count": 11,
   "id": "deb6bf0d",
   "metadata": {
    "execution": {
     "iopub.execute_input": "2025-08-13T01:07:04.461747Z",
     "iopub.status.busy": "2025-08-13T01:07:04.461455Z",
     "iopub.status.idle": "2025-08-13T01:08:42.030933Z",
     "shell.execute_reply": "2025-08-13T01:08:42.030240Z"
    },
    "papermill": {
     "duration": 97.577586,
     "end_time": "2025-08-13T01:08:42.031976",
     "exception": false,
     "start_time": "2025-08-13T01:07:04.454390",
     "status": "completed"
    },
    "tags": []
   },
   "outputs": [
    {
     "name": "stdout",
     "output_type": "stream",
     "text": [
      "Loaded zip cache.\n",
      "Error getting ZIP for nan, nan: Must be a coordinate pair or Point\n"
     ]
    },
    {
     "name": "stdout",
     "output_type": "stream",
     "text": [
      "Error getting ZIP for nan, nan: Must be a coordinate pair or Point\n"
     ]
    },
    {
     "name": "stdout",
     "output_type": "stream",
     "text": [
      "Error getting ZIP for nan, nan: Must be a coordinate pair or Point\n"
     ]
    },
    {
     "name": "stdout",
     "output_type": "stream",
     "text": [
      "Error getting ZIP for nan, nan: Must be a coordinate pair or Point\n"
     ]
    },
    {
     "name": "stdout",
     "output_type": "stream",
     "text": [
      "Error getting ZIP for nan, nan: Must be a coordinate pair or Point\n"
     ]
    },
    {
     "name": "stdout",
     "output_type": "stream",
     "text": [
      "Error getting ZIP for nan, nan: Must be a coordinate pair or Point\n"
     ]
    },
    {
     "name": "stdout",
     "output_type": "stream",
     "text": [
      "Error getting ZIP for nan, nan: Must be a coordinate pair or Point\n"
     ]
    },
    {
     "name": "stdout",
     "output_type": "stream",
     "text": [
      "Error getting ZIP for nan, nan: Must be a coordinate pair or Point\n"
     ]
    },
    {
     "name": "stdout",
     "output_type": "stream",
     "text": [
      "Error getting ZIP for nan, nan: Must be a coordinate pair or Point\n"
     ]
    },
    {
     "name": "stdout",
     "output_type": "stream",
     "text": [
      "Error getting ZIP for nan, nan: Must be a coordinate pair or Point\n"
     ]
    },
    {
     "name": "stdout",
     "output_type": "stream",
     "text": [
      "Error getting ZIP for nan, nan: Must be a coordinate pair or Point\n"
     ]
    },
    {
     "name": "stdout",
     "output_type": "stream",
     "text": [
      "Error getting ZIP for nan, nan: Must be a coordinate pair or Point\n"
     ]
    },
    {
     "name": "stdout",
     "output_type": "stream",
     "text": [
      "Error getting ZIP for nan, nan: Must be a coordinate pair or Point\n"
     ]
    },
    {
     "name": "stdout",
     "output_type": "stream",
     "text": [
      "Error getting ZIP for nan, nan: Must be a coordinate pair or Point\n"
     ]
    },
    {
     "name": "stdout",
     "output_type": "stream",
     "text": [
      "Error getting ZIP for nan, nan: Must be a coordinate pair or Point\n"
     ]
    },
    {
     "name": "stdout",
     "output_type": "stream",
     "text": [
      "Error getting ZIP for nan, nan: Must be a coordinate pair or Point\n"
     ]
    },
    {
     "name": "stdout",
     "output_type": "stream",
     "text": [
      "Error getting ZIP for nan, nan: Must be a coordinate pair or Point\n"
     ]
    },
    {
     "name": "stdout",
     "output_type": "stream",
     "text": [
      "Error getting ZIP for nan, nan: Must be a coordinate pair or Point\n"
     ]
    },
    {
     "name": "stdout",
     "output_type": "stream",
     "text": [
      "Error getting ZIP for nan, nan: Must be a coordinate pair or Point\n"
     ]
    },
    {
     "name": "stdout",
     "output_type": "stream",
     "text": [
      "Error getting ZIP for nan, nan: Must be a coordinate pair or Point\n"
     ]
    },
    {
     "name": "stdout",
     "output_type": "stream",
     "text": [
      "Error getting ZIP for nan, nan: Must be a coordinate pair or Point\n"
     ]
    },
    {
     "name": "stdout",
     "output_type": "stream",
     "text": [
      "Error getting ZIP for nan, nan: Must be a coordinate pair or Point\n"
     ]
    },
    {
     "name": "stdout",
     "output_type": "stream",
     "text": [
      "Error getting ZIP for nan, nan: Must be a coordinate pair or Point\n"
     ]
    },
    {
     "name": "stdout",
     "output_type": "stream",
     "text": [
      "Error getting ZIP for nan, nan: Must be a coordinate pair or Point\n"
     ]
    },
    {
     "name": "stdout",
     "output_type": "stream",
     "text": [
      "Error getting ZIP for nan, nan: Must be a coordinate pair or Point\n"
     ]
    },
    {
     "name": "stdout",
     "output_type": "stream",
     "text": [
      "Error getting ZIP for nan, nan: Must be a coordinate pair or Point\n"
     ]
    },
    {
     "name": "stdout",
     "output_type": "stream",
     "text": [
      "Error getting ZIP for nan, nan: Must be a coordinate pair or Point\n"
     ]
    },
    {
     "name": "stdout",
     "output_type": "stream",
     "text": [
      "Error getting ZIP for nan, nan: Must be a coordinate pair or Point\n"
     ]
    },
    {
     "name": "stdout",
     "output_type": "stream",
     "text": [
      "Error getting ZIP for nan, nan: Must be a coordinate pair or Point\n"
     ]
    },
    {
     "name": "stdout",
     "output_type": "stream",
     "text": [
      "Error getting ZIP for nan, nan: Must be a coordinate pair or Point\n"
     ]
    },
    {
     "name": "stdout",
     "output_type": "stream",
     "text": [
      "Error getting ZIP for nan, nan: Must be a coordinate pair or Point\n"
     ]
    },
    {
     "name": "stdout",
     "output_type": "stream",
     "text": [
      "Error getting ZIP for nan, nan: Must be a coordinate pair or Point\n"
     ]
    },
    {
     "name": "stdout",
     "output_type": "stream",
     "text": [
      "Error getting ZIP for nan, nan: Must be a coordinate pair or Point\n"
     ]
    },
    {
     "name": "stdout",
     "output_type": "stream",
     "text": [
      "Error getting ZIP for nan, nan: Must be a coordinate pair or Point\n"
     ]
    },
    {
     "name": "stdout",
     "output_type": "stream",
     "text": [
      "Error getting ZIP for nan, nan: Must be a coordinate pair or Point\n"
     ]
    },
    {
     "name": "stdout",
     "output_type": "stream",
     "text": [
      "Error getting ZIP for nan, nan: Must be a coordinate pair or Point\n"
     ]
    },
    {
     "name": "stdout",
     "output_type": "stream",
     "text": [
      "Error getting ZIP for nan, nan: Must be a coordinate pair or Point\n"
     ]
    },
    {
     "name": "stdout",
     "output_type": "stream",
     "text": [
      "Error getting ZIP for nan, nan: Must be a coordinate pair or Point\n"
     ]
    },
    {
     "name": "stdout",
     "output_type": "stream",
     "text": [
      "Error getting ZIP for nan, nan: Must be a coordinate pair or Point\n"
     ]
    },
    {
     "name": "stdout",
     "output_type": "stream",
     "text": [
      "Error getting ZIP for nan, nan: Must be a coordinate pair or Point\n"
     ]
    },
    {
     "name": "stdout",
     "output_type": "stream",
     "text": [
      "Error getting ZIP for nan, nan: Must be a coordinate pair or Point\n"
     ]
    },
    {
     "name": "stdout",
     "output_type": "stream",
     "text": [
      "Error getting ZIP for nan, nan: Must be a coordinate pair or Point\n"
     ]
    },
    {
     "name": "stdout",
     "output_type": "stream",
     "text": [
      "Error getting ZIP for nan, nan: Must be a coordinate pair or Point\n"
     ]
    },
    {
     "name": "stdout",
     "output_type": "stream",
     "text": [
      "Error getting ZIP for nan, nan: Must be a coordinate pair or Point\n"
     ]
    },
    {
     "name": "stdout",
     "output_type": "stream",
     "text": [
      "Error getting ZIP for nan, nan: Must be a coordinate pair or Point\n"
     ]
    },
    {
     "name": "stdout",
     "output_type": "stream",
     "text": [
      "Error getting ZIP for nan, nan: Must be a coordinate pair or Point\n"
     ]
    },
    {
     "name": "stdout",
     "output_type": "stream",
     "text": [
      "Error getting ZIP for nan, nan: Must be a coordinate pair or Point\n"
     ]
    },
    {
     "name": "stdout",
     "output_type": "stream",
     "text": [
      "Error getting ZIP for nan, nan: Must be a coordinate pair or Point\n"
     ]
    },
    {
     "name": "stdout",
     "output_type": "stream",
     "text": [
      "Error getting ZIP for nan, nan: Must be a coordinate pair or Point\n"
     ]
    },
    {
     "name": "stdout",
     "output_type": "stream",
     "text": [
      "Error getting ZIP for nan, nan: Must be a coordinate pair or Point\n"
     ]
    },
    {
     "name": "stdout",
     "output_type": "stream",
     "text": [
      "Error getting ZIP for nan, nan: Must be a coordinate pair or Point\n"
     ]
    },
    {
     "name": "stdout",
     "output_type": "stream",
     "text": [
      "Error getting ZIP for nan, nan: Must be a coordinate pair or Point\n"
     ]
    },
    {
     "name": "stdout",
     "output_type": "stream",
     "text": [
      "Error getting ZIP for nan, nan: Must be a coordinate pair or Point\n"
     ]
    },
    {
     "name": "stdout",
     "output_type": "stream",
     "text": [
      "Error getting ZIP for nan, nan: Must be a coordinate pair or Point\n"
     ]
    },
    {
     "name": "stdout",
     "output_type": "stream",
     "text": [
      "Error getting ZIP for nan, nan: Must be a coordinate pair or Point\n"
     ]
    },
    {
     "name": "stdout",
     "output_type": "stream",
     "text": [
      "Error getting ZIP for nan, nan: Must be a coordinate pair or Point\n"
     ]
    },
    {
     "name": "stdout",
     "output_type": "stream",
     "text": [
      "Error getting ZIP for nan, nan: Must be a coordinate pair or Point\n"
     ]
    },
    {
     "name": "stdout",
     "output_type": "stream",
     "text": [
      "Error getting ZIP for nan, nan: Must be a coordinate pair or Point\n"
     ]
    },
    {
     "name": "stdout",
     "output_type": "stream",
     "text": [
      "Error getting ZIP for nan, nan: Must be a coordinate pair or Point\n"
     ]
    },
    {
     "name": "stdout",
     "output_type": "stream",
     "text": [
      "Error getting ZIP for nan, nan: Must be a coordinate pair or Point\n"
     ]
    },
    {
     "name": "stdout",
     "output_type": "stream",
     "text": [
      "Error getting ZIP for nan, nan: Must be a coordinate pair or Point\n"
     ]
    },
    {
     "name": "stdout",
     "output_type": "stream",
     "text": [
      "Error getting ZIP for nan, nan: Must be a coordinate pair or Point\n"
     ]
    },
    {
     "name": "stdout",
     "output_type": "stream",
     "text": [
      "Error getting ZIP for nan, nan: Must be a coordinate pair or Point\n"
     ]
    },
    {
     "name": "stdout",
     "output_type": "stream",
     "text": [
      "Error getting ZIP for nan, nan: Must be a coordinate pair or Point\n"
     ]
    },
    {
     "name": "stdout",
     "output_type": "stream",
     "text": [
      "Error getting ZIP for nan, nan: Must be a coordinate pair or Point\n"
     ]
    },
    {
     "name": "stdout",
     "output_type": "stream",
     "text": [
      "Error getting ZIP for nan, nan: Must be a coordinate pair or Point\n"
     ]
    },
    {
     "name": "stdout",
     "output_type": "stream",
     "text": [
      "Error getting ZIP for nan, nan: Must be a coordinate pair or Point\n"
     ]
    },
    {
     "name": "stdout",
     "output_type": "stream",
     "text": [
      "Error getting ZIP for nan, nan: Must be a coordinate pair or Point\n"
     ]
    },
    {
     "name": "stdout",
     "output_type": "stream",
     "text": [
      "Error getting ZIP for nan, nan: Must be a coordinate pair or Point\n"
     ]
    },
    {
     "name": "stdout",
     "output_type": "stream",
     "text": [
      "Error getting ZIP for nan, nan: Must be a coordinate pair or Point\n"
     ]
    },
    {
     "name": "stdout",
     "output_type": "stream",
     "text": [
      "Error getting ZIP for nan, nan: Must be a coordinate pair or Point\n"
     ]
    },
    {
     "name": "stdout",
     "output_type": "stream",
     "text": [
      "Error getting ZIP for nan, nan: Must be a coordinate pair or Point\n"
     ]
    },
    {
     "name": "stdout",
     "output_type": "stream",
     "text": [
      "Error getting ZIP for nan, nan: Must be a coordinate pair or Point\n"
     ]
    },
    {
     "name": "stdout",
     "output_type": "stream",
     "text": [
      "Error getting ZIP for nan, nan: Must be a coordinate pair or Point\n"
     ]
    },
    {
     "name": "stdout",
     "output_type": "stream",
     "text": [
      "Error getting ZIP for nan, nan: Must be a coordinate pair or Point\n"
     ]
    },
    {
     "name": "stdout",
     "output_type": "stream",
     "text": [
      "Error getting ZIP for nan, nan: Must be a coordinate pair or Point\n"
     ]
    },
    {
     "name": "stdout",
     "output_type": "stream",
     "text": [
      "Error getting ZIP for nan, nan: Must be a coordinate pair or Point\n"
     ]
    },
    {
     "name": "stdout",
     "output_type": "stream",
     "text": [
      "Error getting ZIP for nan, nan: Must be a coordinate pair or Point\n"
     ]
    },
    {
     "name": "stdout",
     "output_type": "stream",
     "text": [
      "Error getting ZIP for nan, nan: Must be a coordinate pair or Point\n"
     ]
    },
    {
     "name": "stdout",
     "output_type": "stream",
     "text": [
      "Error getting ZIP for nan, nan: Must be a coordinate pair or Point\n"
     ]
    },
    {
     "name": "stdout",
     "output_type": "stream",
     "text": [
      "Error getting ZIP for nan, nan: Must be a coordinate pair or Point\n"
     ]
    },
    {
     "name": "stdout",
     "output_type": "stream",
     "text": [
      "Error getting ZIP for nan, nan: Must be a coordinate pair or Point\n"
     ]
    },
    {
     "name": "stdout",
     "output_type": "stream",
     "text": [
      "Error getting ZIP for nan, nan: Must be a coordinate pair or Point\n"
     ]
    },
    {
     "name": "stdout",
     "output_type": "stream",
     "text": [
      "Error getting ZIP for nan, nan: Must be a coordinate pair or Point\n"
     ]
    },
    {
     "name": "stdout",
     "output_type": "stream",
     "text": [
      "Error getting ZIP for nan, nan: Must be a coordinate pair or Point\n"
     ]
    },
    {
     "name": "stdout",
     "output_type": "stream",
     "text": [
      "Error getting ZIP for nan, nan: Must be a coordinate pair or Point\n"
     ]
    },
    {
     "name": "stdout",
     "output_type": "stream",
     "text": [
      "Error getting ZIP for nan, nan: Must be a coordinate pair or Point\n"
     ]
    },
    {
     "name": "stdout",
     "output_type": "stream",
     "text": [
      "Error getting ZIP for nan, nan: Must be a coordinate pair or Point\n"
     ]
    },
    {
     "name": "stdout",
     "output_type": "stream",
     "text": [
      "Error getting ZIP for nan, nan: Must be a coordinate pair or Point\n"
     ]
    },
    {
     "name": "stdout",
     "output_type": "stream",
     "text": [
      "Error getting ZIP for nan, nan: Must be a coordinate pair or Point\n"
     ]
    },
    {
     "name": "stdout",
     "output_type": "stream",
     "text": [
      "Error getting ZIP for nan, nan: Must be a coordinate pair or Point\n"
     ]
    },
    {
     "name": "stdout",
     "output_type": "stream",
     "text": [
      "Error getting ZIP for nan, nan: Must be a coordinate pair or Point\n"
     ]
    },
    {
     "name": "stdout",
     "output_type": "stream",
     "text": [
      "Error getting ZIP for nan, nan: Must be a coordinate pair or Point\n"
     ]
    },
    {
     "name": "stdout",
     "output_type": "stream",
     "text": [
      "Error getting ZIP for nan, nan: Must be a coordinate pair or Point\n"
     ]
    },
    {
     "name": "stdout",
     "output_type": "stream",
     "text": [
      "Error getting ZIP for nan, nan: Must be a coordinate pair or Point\n"
     ]
    },
    {
     "name": "stdout",
     "output_type": "stream",
     "text": [
      "Error getting ZIP for nan, nan: Must be a coordinate pair or Point\n"
     ]
    },
    {
     "name": "stdout",
     "output_type": "stream",
     "text": [
      "Error getting ZIP for nan, nan: Must be a coordinate pair or Point\n"
     ]
    },
    {
     "data": {
      "text/html": [
       "<div>\n",
       "<style scoped>\n",
       "    .dataframe tbody tr th:only-of-type {\n",
       "        vertical-align: middle;\n",
       "    }\n",
       "\n",
       "    .dataframe tbody tr th {\n",
       "        vertical-align: top;\n",
       "    }\n",
       "\n",
       "    .dataframe thead th {\n",
       "        text-align: right;\n",
       "    }\n",
       "</style>\n",
       "<table border=\"1\" class=\"dataframe\">\n",
       "  <thead>\n",
       "    <tr style=\"text-align: right;\">\n",
       "      <th></th>\n",
       "      <th>RecordID</th>\n",
       "      <th>Offense</th>\n",
       "      <th>IncidentID</th>\n",
       "      <th>BlockNumber</th>\n",
       "      <th>StreetName</th>\n",
       "      <th>Agency</th>\n",
       "      <th>HourReported</th>\n",
       "      <th>ReportingOfficer</th>\n",
       "      <th>Date</th>\n",
       "      <th>DateString</th>\n",
       "      <th>DayOfWeek</th>\n",
       "      <th>Weekend</th>\n",
       "      <th>Season</th>\n",
       "      <th>HourAMPM</th>\n",
       "      <th>TimeOfDay</th>\n",
       "      <th>FullStreet</th>\n",
       "      <th>lat</th>\n",
       "      <th>lon</th>\n",
       "      <th>neighborhood</th>\n",
       "      <th>zip</th>\n",
       "    </tr>\n",
       "  </thead>\n",
       "  <tbody>\n",
       "    <tr>\n",
       "      <th>0</th>\n",
       "      <td>1</td>\n",
       "      <td>Suspicious Activity</td>\n",
       "      <td>202500028312</td>\n",
       "      <td>1000</td>\n",
       "      <td>ROUGEMONT AVE, A</td>\n",
       "      <td>CPD</td>\n",
       "      <td>1824</td>\n",
       "      <td>Abdelgayed, Adam</td>\n",
       "      <td>2025-08-10 18:24:19</td>\n",
       "      <td>2025-08-10 06:24:19 PM</td>\n",
       "      <td>Sunday</td>\n",
       "      <td>True</td>\n",
       "      <td>Summer</td>\n",
       "      <td>06:24 PM</td>\n",
       "      <td>Evening</td>\n",
       "      <td>1000 ROUGEMONT AVE, A</td>\n",
       "      <td>38.014257</td>\n",
       "      <td>-78.479964</td>\n",
       "      <td>Belmont</td>\n",
       "      <td>22903</td>\n",
       "    </tr>\n",
       "    <tr>\n",
       "      <th>1</th>\n",
       "      <td>2</td>\n",
       "      <td>Accident - w/out Injuries</td>\n",
       "      <td>202500028283</td>\n",
       "      <td>1800</td>\n",
       "      <td>EMMET ST N</td>\n",
       "      <td>CPD</td>\n",
       "      <td>1514</td>\n",
       "      <td>Bland, Johnnà</td>\n",
       "      <td>2025-08-10 15:14:32</td>\n",
       "      <td>2025-08-10 03:14:32 PM</td>\n",
       "      <td>Sunday</td>\n",
       "      <td>True</td>\n",
       "      <td>Summer</td>\n",
       "      <td>03:14 PM</td>\n",
       "      <td>Afternoon</td>\n",
       "      <td>1800 EMMET ST N</td>\n",
       "      <td>38.059766</td>\n",
       "      <td>-78.493132</td>\n",
       "      <td>The Meadows</td>\n",
       "      <td>22905</td>\n",
       "    </tr>\n",
       "    <tr>\n",
       "      <th>2</th>\n",
       "      <td>3</td>\n",
       "      <td>Larceny - Shoplifitng</td>\n",
       "      <td>202500028282</td>\n",
       "      <td>500</td>\n",
       "      <td>W MAIN ST</td>\n",
       "      <td>CPD</td>\n",
       "      <td>1512</td>\n",
       "      <td>O'Briant, Landon</td>\n",
       "      <td>2025-08-10 15:12:11</td>\n",
       "      <td>2025-08-10 03:12:11 PM</td>\n",
       "      <td>Sunday</td>\n",
       "      <td>True</td>\n",
       "      <td>Summer</td>\n",
       "      <td>03:12 PM</td>\n",
       "      <td>Afternoon</td>\n",
       "      <td>500 W MAIN ST</td>\n",
       "      <td>38.030793</td>\n",
       "      <td>-78.487912</td>\n",
       "      <td>Starr Hill</td>\n",
       "      <td>22903</td>\n",
       "    </tr>\n",
       "    <tr>\n",
       "      <th>3</th>\n",
       "      <td>4</td>\n",
       "      <td>Larceny - Shoplifitng</td>\n",
       "      <td>202500028275</td>\n",
       "      <td>1200</td>\n",
       "      <td>EMMET ST N, 120</td>\n",
       "      <td>CPD</td>\n",
       "      <td>1331</td>\n",
       "      <td>Love-Baker, Sydney</td>\n",
       "      <td>2025-08-10 13:31:13</td>\n",
       "      <td>2025-08-10 01:31:13 PM</td>\n",
       "      <td>Sunday</td>\n",
       "      <td>True</td>\n",
       "      <td>Summer</td>\n",
       "      <td>01:31 PM</td>\n",
       "      <td>Afternoon</td>\n",
       "      <td>1200 EMMET ST N, 120</td>\n",
       "      <td>38.052917</td>\n",
       "      <td>-78.498591</td>\n",
       "      <td>The Meadows</td>\n",
       "      <td>22905</td>\n",
       "    </tr>\n",
       "    <tr>\n",
       "      <th>4</th>\n",
       "      <td>5</td>\n",
       "      <td>Lost/FoundProperty</td>\n",
       "      <td>202500028272</td>\n",
       "      <td>1300</td>\n",
       "      <td>CHESAPEAKE ST</td>\n",
       "      <td>CPD</td>\n",
       "      <td>1302</td>\n",
       "      <td>O'Briant, Landon</td>\n",
       "      <td>2025-08-10 13:02:11</td>\n",
       "      <td>2025-08-10 01:02:11 PM</td>\n",
       "      <td>Sunday</td>\n",
       "      <td>True</td>\n",
       "      <td>Summer</td>\n",
       "      <td>01:02 PM</td>\n",
       "      <td>Afternoon</td>\n",
       "      <td>1300 CHESAPEAKE ST</td>\n",
       "      <td>38.027231</td>\n",
       "      <td>-78.466641</td>\n",
       "      <td>Woolen Mills</td>\n",
       "      <td>22902</td>\n",
       "    </tr>\n",
       "  </tbody>\n",
       "</table>\n",
       "</div>"
      ],
      "text/plain": [
       "   RecordID                    Offense    IncidentID BlockNumber  \\\n",
       "0         1        Suspicious Activity  202500028312        1000   \n",
       "1         2  Accident - w/out Injuries  202500028283        1800   \n",
       "2         3      Larceny - Shoplifitng  202500028282         500   \n",
       "3         4      Larceny - Shoplifitng  202500028275        1200   \n",
       "4         5         Lost/FoundProperty  202500028272        1300   \n",
       "\n",
       "         StreetName Agency HourReported    ReportingOfficer  \\\n",
       "0  ROUGEMONT AVE, A    CPD         1824    Abdelgayed, Adam   \n",
       "1        EMMET ST N    CPD         1514       Bland, Johnnà   \n",
       "2         W MAIN ST    CPD         1512    O'Briant, Landon   \n",
       "3   EMMET ST N, 120    CPD         1331  Love-Baker, Sydney   \n",
       "4     CHESAPEAKE ST    CPD         1302    O'Briant, Landon   \n",
       "\n",
       "                 Date              DateString DayOfWeek  Weekend  Season  \\\n",
       "0 2025-08-10 18:24:19  2025-08-10 06:24:19 PM    Sunday     True  Summer   \n",
       "1 2025-08-10 15:14:32  2025-08-10 03:14:32 PM    Sunday     True  Summer   \n",
       "2 2025-08-10 15:12:11  2025-08-10 03:12:11 PM    Sunday     True  Summer   \n",
       "3 2025-08-10 13:31:13  2025-08-10 01:31:13 PM    Sunday     True  Summer   \n",
       "4 2025-08-10 13:02:11  2025-08-10 01:02:11 PM    Sunday     True  Summer   \n",
       "\n",
       "   HourAMPM  TimeOfDay             FullStreet        lat        lon  \\\n",
       "0  06:24 PM    Evening  1000 ROUGEMONT AVE, A  38.014257 -78.479964   \n",
       "1  03:14 PM  Afternoon        1800 EMMET ST N  38.059766 -78.493132   \n",
       "2  03:12 PM  Afternoon          500 W MAIN ST  38.030793 -78.487912   \n",
       "3  01:31 PM  Afternoon   1200 EMMET ST N, 120  38.052917 -78.498591   \n",
       "4  01:02 PM  Afternoon     1300 CHESAPEAKE ST  38.027231 -78.466641   \n",
       "\n",
       "   neighborhood    zip  \n",
       "0       Belmont  22903  \n",
       "1   The Meadows  22905  \n",
       "2    Starr Hill  22903  \n",
       "3   The Meadows  22905  \n",
       "4  Woolen Mills  22902  "
      ]
     },
     "execution_count": 11,
     "metadata": {},
     "output_type": "execute_result"
    }
   ],
   "source": [
    "# Initialize the geocoder.\n",
    "geolocator = Nominatim(user_agent=\"zip_lookup\")\n",
    "\n",
    "# Try to load a persistent ZIP cache if available.\n",
    "try:\n",
    "    with open(\"zip_cache.pkl\", \"rb\") as f:\n",
    "        zip_cache = pickle.load(f)\n",
    "    print(\"Loaded zip cache.\")\n",
    "except FileNotFoundError:\n",
    "    zip_cache = {}\n",
    "    print(\"No zip cache found; starting fresh.\")\n",
    "\n",
    "def get_zip(lat, lon):\n",
    "    \"\"\"\n",
    "    Reverse geocodes a latitude and longitude to retrieve the ZIP code.\n",
    "    Caches results to speed up subsequent lookups.\n",
    "    \"\"\"\n",
    "    key = (lat, lon)\n",
    "    if key in zip_cache:\n",
    "        return zip_cache[key]\n",
    "    \n",
    "    try:\n",
    "        location = geolocator.reverse((lat, lon), exactly_one=True, timeout=10)\n",
    "        address = location.raw.get('address', {})\n",
    "        postal_code = address.get('postcode', \"N/A\")\n",
    "    except Exception as e:\n",
    "        print(f\"Error getting ZIP for {lat}, {lon}: {e}\")\n",
    "        postal_code = \"N/A\"\n",
    "    \n",
    "    zip_cache[key] = postal_code\n",
    "    # Pause to respect the usage policy.\n",
    "    time.sleep(1)\n",
    "    return postal_code\n",
    "\n",
    "# Apply the function to each row in the DataFrame.\n",
    "df['zip'] = df.apply(lambda row: get_zip(row['lat'], row['lon']), axis=1)\n",
    "\n",
    "# Save the updated ZIP cache.\n",
    "with open(\"zip_cache.pkl\", \"wb\") as f:\n",
    "    pickle.dump(zip_cache, f)\n",
    "\n",
    "df.head()\n"
   ]
  },
  {
   "cell_type": "code",
   "execution_count": 12,
   "id": "f7d86153",
   "metadata": {
    "execution": {
     "iopub.execute_input": "2025-08-13T01:08:42.054438Z",
     "iopub.status.busy": "2025-08-13T01:08:42.054177Z",
     "iopub.status.idle": "2025-08-13T01:08:42.084676Z",
     "shell.execute_reply": "2025-08-13T01:08:42.084106Z"
    },
    "papermill": {
     "duration": 0.042812,
     "end_time": "2025-08-13T01:08:42.085714",
     "exception": false,
     "start_time": "2025-08-13T01:08:42.042902",
     "status": "completed"
    },
    "tags": []
   },
   "outputs": [
    {
     "name": "stdout",
     "output_type": "stream",
     "text": [
      "                  MissingCount  MissingPercentage\n",
      "RecordID                     0               0.00\n",
      "Offense                      0               0.00\n",
      "IncidentID                   0               0.00\n",
      "BlockNumber                  0               0.00\n",
      "StreetName                   0               0.00\n",
      "Agency                       0               0.00\n",
      "HourReported                 0               0.00\n",
      "ReportingOfficer            15               0.06\n",
      "Date                         0               0.00\n",
      "DateString                   0               0.00\n",
      "DayOfWeek                    0               0.00\n",
      "Weekend                      0               0.00\n",
      "Season                       0               0.00\n",
      "HourAMPM                     0               0.00\n",
      "TimeOfDay                    0               0.00\n",
      "FullStreet                   0               0.00\n",
      "lat                         97               0.38\n",
      "lon                         97               0.38\n",
      "neighborhood                 0               0.00\n",
      "zip                          0               0.00\n"
     ]
    }
   ],
   "source": [
    "missing_info = missing_percentage(df)\n",
    "print(missing_info)\n"
   ]
  },
  {
   "cell_type": "code",
   "execution_count": 13,
   "id": "122f92e2",
   "metadata": {
    "execution": {
     "iopub.execute_input": "2025-08-13T01:08:42.108204Z",
     "iopub.status.busy": "2025-08-13T01:08:42.107912Z",
     "iopub.status.idle": "2025-08-13T01:08:42.140748Z",
     "shell.execute_reply": "2025-08-13T01:08:42.140152Z"
    },
    "papermill": {
     "duration": 0.045261,
     "end_time": "2025-08-13T01:08:42.141887",
     "exception": false,
     "start_time": "2025-08-13T01:08:42.096626",
     "status": "completed"
    },
    "tags": []
   },
   "outputs": [
    {
     "name": "stdout",
     "output_type": "stream",
     "text": [
      "<class 'pandas.core.frame.DataFrame'>\n",
      "RangeIndex: 25640 entries, 0 to 25639\n",
      "Data columns (total 20 columns):\n",
      " #   Column            Non-Null Count  Dtype         \n",
      "---  ------            --------------  -----         \n",
      " 0   RecordID          25640 non-null  int64         \n",
      " 1   Offense           25640 non-null  object        \n",
      " 2   IncidentID        25640 non-null  object        \n",
      " 3   BlockNumber       25640 non-null  object        \n",
      " 4   StreetName        25640 non-null  object        \n",
      " 5   Agency            25640 non-null  object        \n",
      " 6   HourReported      25640 non-null  object        \n",
      " 7   ReportingOfficer  25625 non-null  object        \n",
      " 8   Date              25640 non-null  datetime64[ns]\n",
      " 9   DateString        25640 non-null  object        \n",
      " 10  DayOfWeek         25640 non-null  object        \n",
      " 11  Weekend           25640 non-null  bool          \n",
      " 12  Season            25640 non-null  object        \n",
      " 13  HourAMPM          25640 non-null  object        \n",
      " 14  TimeOfDay         25640 non-null  object        \n",
      " 15  FullStreet        25640 non-null  object        \n",
      " 16  lat               25543 non-null  float64       \n",
      " 17  lon               25543 non-null  float64       \n",
      " 18  neighborhood      25640 non-null  object        \n",
      " 19  zip               25640 non-null  object        \n",
      "dtypes: bool(1), datetime64[ns](1), float64(2), int64(1), object(15)\n",
      "memory usage: 3.7+ MB\n"
     ]
    }
   ],
   "source": [
    "df.info()"
   ]
  },
  {
   "cell_type": "code",
   "execution_count": 14,
   "id": "16e608cb",
   "metadata": {
    "execution": {
     "iopub.execute_input": "2025-08-13T01:08:42.165011Z",
     "iopub.status.busy": "2025-08-13T01:08:42.164744Z",
     "iopub.status.idle": "2025-08-13T01:08:42.216269Z",
     "shell.execute_reply": "2025-08-13T01:08:42.215521Z"
    },
    "papermill": {
     "duration": 0.064315,
     "end_time": "2025-08-13T01:08:42.217475",
     "exception": false,
     "start_time": "2025-08-13T01:08:42.153160",
     "status": "completed"
    },
    "tags": []
   },
   "outputs": [
    {
     "data": {
      "text/html": [
       "<div>\n",
       "<style scoped>\n",
       "    .dataframe tbody tr th:only-of-type {\n",
       "        vertical-align: middle;\n",
       "    }\n",
       "\n",
       "    .dataframe tbody tr th {\n",
       "        vertical-align: top;\n",
       "    }\n",
       "\n",
       "    .dataframe thead th {\n",
       "        text-align: right;\n",
       "    }\n",
       "</style>\n",
       "<table border=\"1\" class=\"dataframe\">\n",
       "  <thead>\n",
       "    <tr style=\"text-align: right;\">\n",
       "      <th></th>\n",
       "      <th>RecordID</th>\n",
       "      <th>Offense</th>\n",
       "      <th>IncidentID</th>\n",
       "      <th>Agency</th>\n",
       "      <th>ReportingOfficer</th>\n",
       "      <th>Date</th>\n",
       "      <th>DayOfWeek</th>\n",
       "      <th>Weekend</th>\n",
       "      <th>Season</th>\n",
       "      <th>TimeOfDay</th>\n",
       "      <th>FullStreet</th>\n",
       "      <th>lat</th>\n",
       "      <th>lon</th>\n",
       "      <th>neighborhood</th>\n",
       "      <th>zip</th>\n",
       "    </tr>\n",
       "  </thead>\n",
       "  <tbody>\n",
       "    <tr>\n",
       "      <th>0</th>\n",
       "      <td>1</td>\n",
       "      <td>Suspicious Activity</td>\n",
       "      <td>202500028312</td>\n",
       "      <td>CPD</td>\n",
       "      <td>Abdelgayed, Adam</td>\n",
       "      <td>2025-08-10 18:24:19</td>\n",
       "      <td>Sunday</td>\n",
       "      <td>True</td>\n",
       "      <td>Summer</td>\n",
       "      <td>Evening</td>\n",
       "      <td>1000 ROUGEMONT AVE, A</td>\n",
       "      <td>38.014257</td>\n",
       "      <td>-78.479964</td>\n",
       "      <td>Belmont</td>\n",
       "      <td>22903</td>\n",
       "    </tr>\n",
       "    <tr>\n",
       "      <th>1</th>\n",
       "      <td>2</td>\n",
       "      <td>Accident - w/out Injuries</td>\n",
       "      <td>202500028283</td>\n",
       "      <td>CPD</td>\n",
       "      <td>Bland, Johnnà</td>\n",
       "      <td>2025-08-10 15:14:32</td>\n",
       "      <td>Sunday</td>\n",
       "      <td>True</td>\n",
       "      <td>Summer</td>\n",
       "      <td>Afternoon</td>\n",
       "      <td>1800 EMMET ST N</td>\n",
       "      <td>38.059766</td>\n",
       "      <td>-78.493132</td>\n",
       "      <td>The Meadows</td>\n",
       "      <td>22905</td>\n",
       "    </tr>\n",
       "    <tr>\n",
       "      <th>2</th>\n",
       "      <td>3</td>\n",
       "      <td>Larceny - Shoplifitng</td>\n",
       "      <td>202500028282</td>\n",
       "      <td>CPD</td>\n",
       "      <td>O'Briant, Landon</td>\n",
       "      <td>2025-08-10 15:12:11</td>\n",
       "      <td>Sunday</td>\n",
       "      <td>True</td>\n",
       "      <td>Summer</td>\n",
       "      <td>Afternoon</td>\n",
       "      <td>500 W MAIN ST</td>\n",
       "      <td>38.030793</td>\n",
       "      <td>-78.487912</td>\n",
       "      <td>Starr Hill</td>\n",
       "      <td>22903</td>\n",
       "    </tr>\n",
       "    <tr>\n",
       "      <th>3</th>\n",
       "      <td>4</td>\n",
       "      <td>Larceny - Shoplifitng</td>\n",
       "      <td>202500028275</td>\n",
       "      <td>CPD</td>\n",
       "      <td>Love-Baker, Sydney</td>\n",
       "      <td>2025-08-10 13:31:13</td>\n",
       "      <td>Sunday</td>\n",
       "      <td>True</td>\n",
       "      <td>Summer</td>\n",
       "      <td>Afternoon</td>\n",
       "      <td>1200 EMMET ST N, 120</td>\n",
       "      <td>38.052917</td>\n",
       "      <td>-78.498591</td>\n",
       "      <td>The Meadows</td>\n",
       "      <td>22905</td>\n",
       "    </tr>\n",
       "    <tr>\n",
       "      <th>4</th>\n",
       "      <td>5</td>\n",
       "      <td>Lost/FoundProperty</td>\n",
       "      <td>202500028272</td>\n",
       "      <td>CPD</td>\n",
       "      <td>O'Briant, Landon</td>\n",
       "      <td>2025-08-10 13:02:11</td>\n",
       "      <td>Sunday</td>\n",
       "      <td>True</td>\n",
       "      <td>Summer</td>\n",
       "      <td>Afternoon</td>\n",
       "      <td>1300 CHESAPEAKE ST</td>\n",
       "      <td>38.027231</td>\n",
       "      <td>-78.466641</td>\n",
       "      <td>Woolen Mills</td>\n",
       "      <td>22902</td>\n",
       "    </tr>\n",
       "  </tbody>\n",
       "</table>\n",
       "</div>"
      ],
      "text/plain": [
       "   RecordID                    Offense    IncidentID Agency  \\\n",
       "0         1        Suspicious Activity  202500028312    CPD   \n",
       "1         2  Accident - w/out Injuries  202500028283    CPD   \n",
       "2         3      Larceny - Shoplifitng  202500028282    CPD   \n",
       "3         4      Larceny - Shoplifitng  202500028275    CPD   \n",
       "4         5         Lost/FoundProperty  202500028272    CPD   \n",
       "\n",
       "     ReportingOfficer                Date DayOfWeek  Weekend  Season  \\\n",
       "0    Abdelgayed, Adam 2025-08-10 18:24:19    Sunday     True  Summer   \n",
       "1       Bland, Johnnà 2025-08-10 15:14:32    Sunday     True  Summer   \n",
       "2    O'Briant, Landon 2025-08-10 15:12:11    Sunday     True  Summer   \n",
       "3  Love-Baker, Sydney 2025-08-10 13:31:13    Sunday     True  Summer   \n",
       "4    O'Briant, Landon 2025-08-10 13:02:11    Sunday     True  Summer   \n",
       "\n",
       "   TimeOfDay             FullStreet        lat        lon  neighborhood    zip  \n",
       "0    Evening  1000 ROUGEMONT AVE, A  38.014257 -78.479964       Belmont  22903  \n",
       "1  Afternoon        1800 EMMET ST N  38.059766 -78.493132   The Meadows  22905  \n",
       "2  Afternoon          500 W MAIN ST  38.030793 -78.487912    Starr Hill  22903  \n",
       "3  Afternoon   1200 EMMET ST N, 120  38.052917 -78.498591   The Meadows  22905  \n",
       "4  Afternoon     1300 CHESAPEAKE ST  38.027231 -78.466641  Woolen Mills  22902  "
      ]
     },
     "execution_count": 14,
     "metadata": {},
     "output_type": "execute_result"
    }
   ],
   "source": [
    "# Now drop the original BlockNumber and StreetName columns\n",
    "df.drop(columns=['BlockNumber', 'StreetName','HourAMPM','HourReported','DateString'], inplace=True)\n",
    "df[\"zip\"] = df[\"zip\"].astype(str)\n",
    "\n",
    "# Fill all missing values in the DataFrame with \"N/A\"\n",
    "df.replace({None: \"N/A\", np.nan: \"N/A\", \"\": \"N/A\"}, inplace=True)\n",
    "df.head()"
   ]
  },
  {
   "cell_type": "code",
   "execution_count": 15,
   "id": "6ad8efe7",
   "metadata": {
    "execution": {
     "iopub.execute_input": "2025-08-13T01:08:42.240811Z",
     "iopub.status.busy": "2025-08-13T01:08:42.240528Z",
     "iopub.status.idle": "2025-08-13T01:08:42.263394Z",
     "shell.execute_reply": "2025-08-13T01:08:42.262673Z"
    },
    "papermill": {
     "duration": 0.035758,
     "end_time": "2025-08-13T01:08:42.264470",
     "exception": false,
     "start_time": "2025-08-13T01:08:42.228712",
     "status": "completed"
    },
    "tags": []
   },
   "outputs": [
    {
     "name": "stdout",
     "output_type": "stream",
     "text": [
      "                  MissingCount  MissingPercentage\n",
      "RecordID                     0                0.0\n",
      "Offense                      0                0.0\n",
      "IncidentID                   0                0.0\n",
      "Agency                       0                0.0\n",
      "ReportingOfficer             0                0.0\n",
      "Date                         0                0.0\n",
      "DayOfWeek                    0                0.0\n",
      "Weekend                      0                0.0\n",
      "Season                       0                0.0\n",
      "TimeOfDay                    0                0.0\n",
      "FullStreet                   0                0.0\n",
      "lat                          0                0.0\n",
      "lon                          0                0.0\n",
      "neighborhood                 0                0.0\n",
      "zip                          0                0.0\n"
     ]
    }
   ],
   "source": [
    "missing_info = missing_percentage(df)\n",
    "print(missing_info)"
   ]
  },
  {
   "cell_type": "code",
   "execution_count": 16,
   "id": "27f08597",
   "metadata": {
    "execution": {
     "iopub.execute_input": "2025-08-13T01:08:42.287964Z",
     "iopub.status.busy": "2025-08-13T01:08:42.287687Z",
     "iopub.status.idle": "2025-08-13T01:08:42.292478Z",
     "shell.execute_reply": "2025-08-13T01:08:42.291727Z"
    },
    "papermill": {
     "duration": 0.017734,
     "end_time": "2025-08-13T01:08:42.293570",
     "exception": false,
     "start_time": "2025-08-13T01:08:42.275836",
     "status": "completed"
    },
    "tags": []
   },
   "outputs": [
    {
     "data": {
      "text/plain": [
       "Index(['RecordID', 'Offense', 'IncidentID', 'Agency', 'ReportingOfficer',\n",
       "       'Date', 'DayOfWeek', 'Weekend', 'Season', 'TimeOfDay', 'FullStreet',\n",
       "       'lat', 'lon', 'neighborhood', 'zip'],\n",
       "      dtype='object')"
      ]
     },
     "execution_count": 16,
     "metadata": {},
     "output_type": "execute_result"
    }
   ],
   "source": [
    "df.columns"
   ]
  },
  {
   "cell_type": "code",
   "execution_count": 17,
   "id": "4258054b",
   "metadata": {
    "execution": {
     "iopub.execute_input": "2025-08-13T01:08:42.318786Z",
     "iopub.status.busy": "2025-08-13T01:08:42.318490Z",
     "iopub.status.idle": "2025-08-13T01:08:42.350059Z",
     "shell.execute_reply": "2025-08-13T01:08:42.349383Z"
    },
    "papermill": {
     "duration": 0.045651,
     "end_time": "2025-08-13T01:08:42.351171",
     "exception": false,
     "start_time": "2025-08-13T01:08:42.305520",
     "status": "completed"
    },
    "tags": []
   },
   "outputs": [
    {
     "name": "stdout",
     "output_type": "stream",
     "text": [
      "<class 'pandas.core.frame.DataFrame'>\n",
      "RangeIndex: 25640 entries, 0 to 25639\n",
      "Data columns (total 15 columns):\n",
      " #   Column            Non-Null Count  Dtype         \n",
      "---  ------            --------------  -----         \n",
      " 0   RecordID          25640 non-null  int64         \n",
      " 1   Offense           25640 non-null  object        \n",
      " 2   IncidentID        25640 non-null  object        \n",
      " 3   Agency            25640 non-null  object        \n",
      " 4   ReportingOfficer  25640 non-null  object        \n",
      " 5   Date              25640 non-null  datetime64[ns]\n",
      " 6   DayOfWeek         25640 non-null  object        \n",
      " 7   Weekend           25640 non-null  bool          \n",
      " 8   Season            25640 non-null  object        \n",
      " 9   TimeOfDay         25640 non-null  object        \n",
      " 10  FullStreet        25640 non-null  object        \n",
      " 11  lat               25640 non-null  object        \n",
      " 12  lon               25640 non-null  object        \n",
      " 13  neighborhood      25640 non-null  object        \n",
      " 14  zip               25640 non-null  object        \n",
      "dtypes: bool(1), datetime64[ns](1), int64(1), object(12)\n",
      "memory usage: 2.8+ MB\n"
     ]
    }
   ],
   "source": [
    "df.info()"
   ]
  },
  {
   "cell_type": "markdown",
   "id": "8148f53c",
   "metadata": {
    "papermill": {
     "duration": 0.011291,
     "end_time": "2025-08-13T01:08:42.374199",
     "exception": false,
     "start_time": "2025-08-13T01:08:42.362908",
     "status": "completed"
    },
    "tags": []
   },
   "source": [
    "### Export Clean Data"
   ]
  },
  {
   "cell_type": "code",
   "execution_count": 18,
   "id": "6ee629e0",
   "metadata": {
    "execution": {
     "iopub.execute_input": "2025-08-13T01:08:42.402392Z",
     "iopub.status.busy": "2025-08-13T01:08:42.402104Z",
     "iopub.status.idle": "2025-08-13T01:08:51.881953Z",
     "shell.execute_reply": "2025-08-13T01:08:51.881277Z"
    },
    "papermill": {
     "duration": 9.493818,
     "end_time": "2025-08-13T01:08:51.883067",
     "exception": false,
     "start_time": "2025-08-13T01:08:42.389249",
     "status": "completed"
    },
    "tags": []
   },
   "outputs": [
    {
     "name": "stdout",
     "output_type": "stream",
     "text": [
      "Project Root: /home/runner/work/crime-data/crime-data\n"
     ]
    },
    {
     "name": "stdout",
     "output_type": "stream",
     "text": [
      "Data saved to: /home/runner/work/crime-data/crime-data/data/charlottesville_crime_incidents.csv\n"
     ]
    },
    {
     "name": "stdout",
     "output_type": "stream",
     "text": [
      "Excel saved to: /home/runner/work/crime-data/crime-data/data/charlottesville_crime_incidents.xlsx\n"
     ]
    }
   ],
   "source": [
    "# Determine the project root (assuming papermill is run from the repository root)\n",
    "project_root = os.getcwd()\n",
    "print(\"Project Root:\", project_root)\n",
    "\n",
    "# Set the data directory within the project root\n",
    "data_dir = os.path.join(project_root, \"data\")\n",
    "\n",
    "# Ensure the \"data\" directory exists (create it if it doesn't)\n",
    "if not os.path.exists(data_dir):\n",
    "    os.makedirs(data_dir)\n",
    "\n",
    "# Export the DataFrame to CSV in the \"data\" folder located in the project root\n",
    "csv_path = os.path.join(data_dir, \"charlottesville_crime_incidents.csv\")\n",
    "df.to_csv(csv_path, index=False)\n",
    "print(\"Data saved to:\", csv_path)\n",
    "\n",
    "# Construct the path to your Excel file\n",
    "excel_path = os.path.join(data_dir, \"charlottesville_crime_incidents.xlsx\")\n",
    "\n",
    "# Export the DataFrame to Excel\n",
    "df.to_excel(excel_path, index=False)\n",
    "print(\"Excel saved to:\", excel_path)\n"
   ]
  }
 ],
 "metadata": {
  "kernelspec": {
   "display_name": "Python 3",
   "language": "python",
   "name": "python3"
  },
  "language_info": {
   "codemirror_mode": {
    "name": "ipython",
    "version": 3
   },
   "file_extension": ".py",
   "mimetype": "text/x-python",
   "name": "python",
   "nbconvert_exporter": "python",
   "pygments_lexer": "ipython3",
   "version": "3.9.23"
  },
  "papermill": {
   "default_parameters": {},
   "duration": 184.201908,
   "end_time": "2025-08-13T01:08:52.411525",
   "environment_variables": {},
   "exception": null,
   "input_path": "notebook/Crime Data.ipynb",
   "output_path": "notebook/Crime Data_output.ipynb",
   "parameters": {},
   "start_time": "2025-08-13T01:05:48.209617",
   "version": "2.6.0"
  }
 },
 "nbformat": 4,
 "nbformat_minor": 5
}