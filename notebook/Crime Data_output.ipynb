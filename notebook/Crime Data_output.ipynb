{
 "cells": [
  {
   "cell_type": "markdown",
   "id": "cc8c6e66",
   "metadata": {
    "papermill": {
     "duration": 0.00631,
     "end_time": "2025-05-25T01:08:47.125977",
     "exception": false,
     "start_time": "2025-05-25T01:08:47.119667",
     "status": "completed"
    },
    "tags": []
   },
   "source": [
    "# Charlottesville Open Data Porttal: Crime Data"
   ]
  },
  {
   "cell_type": "markdown",
   "id": "11427906",
   "metadata": {
    "papermill": {
     "duration": 0.00501,
     "end_time": "2025-05-25T01:08:47.136364",
     "exception": false,
     "start_time": "2025-05-25T01:08:47.131354",
     "status": "completed"
    },
    "tags": []
   },
   "source": [
    "## Import Relevant Librarires & Set WD"
   ]
  },
  {
   "cell_type": "code",
   "execution_count": 1,
   "id": "26d7c52b",
   "metadata": {
    "execution": {
     "iopub.execute_input": "2025-05-25T01:08:47.147663Z",
     "iopub.status.busy": "2025-05-25T01:08:47.147085Z",
     "iopub.status.idle": "2025-05-25T01:08:47.637215Z",
     "shell.execute_reply": "2025-05-25T01:08:47.636503Z"
    },
    "papermill": {
     "duration": 0.49716,
     "end_time": "2025-05-25T01:08:47.638593",
     "exception": false,
     "start_time": "2025-05-25T01:08:47.141433",
     "status": "completed"
    },
    "tags": []
   },
   "outputs": [],
   "source": [
    "import requests\n",
    "import pandas as pd\n",
    "import numpy as np\n",
    "import pickle\n",
    "import googlemaps\n",
    "import plotly.express as px\n",
    "from geopy.geocoders import Nominatim\n",
    "import time\n",
    "from dotenv import load_dotenv\n",
    "import os\n",
    "\n",
    "env_path = os.path.join(\"..\", \".env\")\n",
    "#print(\"Looking for .env file at:\", os.path.abspath(env_path))\n",
    "load_dotenv(dotenv_path=env_path)\n",
    "\n",
    "# Retrieve the variables\n",
    "GOOGLE_API_KEY = os.getenv(\"GOOGLE_API_KEY\")\n",
    "WORKING_DIR = os.getenv(\"WORKING_DIR\")\n",
    "\n",
    "if GOOGLE_API_KEY is None or WORKING_DIR is None:\n",
    "    raise RuntimeError(\"No configuration found. Please ensure that your .env file exists with the required variables, or create a local config.py file.\")\n",
    "\n",
    "#print(\"Google API Key:\", GOOGLE_API_KEY)\n",
    "#print(\"Working Directory:\", WORKING_DIR)"
   ]
  },
  {
   "cell_type": "markdown",
   "id": "941ad5b4",
   "metadata": {
    "papermill": {
     "duration": 0.005019,
     "end_time": "2025-05-25T01:08:47.648960",
     "exception": false,
     "start_time": "2025-05-25T01:08:47.643941",
     "status": "completed"
    },
    "tags": []
   },
   "source": [
    "## Import Data\n",
    "\n",
    "URL: https://opendata.charlottesville.org/datasets/charlottesville::crime-data/about"
   ]
  },
  {
   "cell_type": "code",
   "execution_count": 2,
   "id": "babe2dbc",
   "metadata": {
    "execution": {
     "iopub.execute_input": "2025-05-25T01:08:47.660843Z",
     "iopub.status.busy": "2025-05-25T01:08:47.660299Z",
     "iopub.status.idle": "2025-05-25T01:09:48.665460Z",
     "shell.execute_reply": "2025-05-25T01:09:48.664743Z"
    },
    "papermill": {
     "duration": 61.038166,
     "end_time": "2025-05-25T01:09:48.692802",
     "exception": false,
     "start_time": "2025-05-25T01:08:47.654636",
     "status": "completed"
    },
    "tags": []
   },
   "outputs": [
    {
     "name": "stdout",
     "output_type": "stream",
     "text": [
      "Total records imported: 25431\n"
     ]
    }
   ],
   "source": [
    "# Define the endpoint and initial parameters.\n",
    "url = \"https://gisweb.charlottesville.org/arcgis/rest/services/OpenData_2/MapServer/6/query\"\n",
    "params = {\n",
    "    \"where\": \"1=1\",\n",
    "    \"outFields\": \"*\",\n",
    "    \"outSR\": 4326,\n",
    "    \"f\": \"json\",\n",
    "    \"resultOffset\": 0,       # Starting index for results\n",
    "    \"resultRecordCount\": 10000  # Maximum records per batch (if allowed by the API)\n",
    "}\n",
    "\n",
    "records = []\n",
    "\n",
    "while True:\n",
    "    response = requests.get(url, params=params)\n",
    "    response.raise_for_status()\n",
    "    data = response.json()\n",
    "    \n",
    "    # Get the current batch of features.\n",
    "    features = data.get(\"features\", [])\n",
    "    if not features:\n",
    "        break\n",
    "\n",
    "    # Extract the attributes from the features.\n",
    "    batch_records = [feature.get(\"attributes\", {}) for feature in features]\n",
    "    records.extend(batch_records)\n",
    "    \n",
    "    # If the batch size is less than the requested count, we reached the end.\n",
    "    if len(features) < params[\"resultRecordCount\"]:\n",
    "        break\n",
    "\n",
    "    # Update the resultOffset for the next batch.\n",
    "    params[\"resultOffset\"] += params[\"resultRecordCount\"]\n",
    "\n",
    "# Create a DataFrame from the combined records.\n",
    "df = pd.DataFrame(records)\n",
    "print(\"Total records imported:\", len(df))\n"
   ]
  },
  {
   "cell_type": "code",
   "execution_count": 3,
   "id": "669b03e1",
   "metadata": {
    "execution": {
     "iopub.execute_input": "2025-05-25T01:09:48.704626Z",
     "iopub.status.busy": "2025-05-25T01:09:48.704140Z",
     "iopub.status.idle": "2025-05-25T01:09:48.716574Z",
     "shell.execute_reply": "2025-05-25T01:09:48.715915Z"
    },
    "papermill": {
     "duration": 0.019489,
     "end_time": "2025-05-25T01:09:48.717586",
     "exception": false,
     "start_time": "2025-05-25T01:09:48.698097",
     "status": "completed"
    },
    "tags": []
   },
   "outputs": [
    {
     "data": {
      "text/html": [
       "<div>\n",
       "<style scoped>\n",
       "    .dataframe tbody tr th:only-of-type {\n",
       "        vertical-align: middle;\n",
       "    }\n",
       "\n",
       "    .dataframe tbody tr th {\n",
       "        vertical-align: top;\n",
       "    }\n",
       "\n",
       "    .dataframe thead th {\n",
       "        text-align: right;\n",
       "    }\n",
       "</style>\n",
       "<table border=\"1\" class=\"dataframe\">\n",
       "  <thead>\n",
       "    <tr style=\"text-align: right;\">\n",
       "      <th></th>\n",
       "      <th>RecordID</th>\n",
       "      <th>Offense</th>\n",
       "      <th>IncidentID</th>\n",
       "      <th>BlockNumber</th>\n",
       "      <th>StreetName</th>\n",
       "      <th>Agency</th>\n",
       "      <th>DateReported</th>\n",
       "      <th>HourReported</th>\n",
       "      <th>ReportingOfficer</th>\n",
       "    </tr>\n",
       "  </thead>\n",
       "  <tbody>\n",
       "    <tr>\n",
       "      <th>0</th>\n",
       "      <td>1</td>\n",
       "      <td>Assault Simple</td>\n",
       "      <td>202500017508</td>\n",
       "      <td>100</td>\n",
       "      <td>14TH ST NW</td>\n",
       "      <td>CPD</td>\n",
       "      <td>1747962482000</td>\n",
       "      <td>2108</td>\n",
       "      <td>Ritter, Kobe</td>\n",
       "    </tr>\n",
       "    <tr>\n",
       "      <th>1</th>\n",
       "      <td>2</td>\n",
       "      <td>Disturbance - Non Domestic</td>\n",
       "      <td>202500017505</td>\n",
       "      <td>400</td>\n",
       "      <td>RIDGE MCINTIRE RD</td>\n",
       "      <td>CPD</td>\n",
       "      <td>1747960187000</td>\n",
       "      <td>2029</td>\n",
       "      <td>Darby, Michael</td>\n",
       "    </tr>\n",
       "    <tr>\n",
       "      <th>2</th>\n",
       "      <td>3</td>\n",
       "      <td>Hit and Run</td>\n",
       "      <td>202500017476</td>\n",
       "      <td>1900</td>\n",
       "      <td>THOMSON RD</td>\n",
       "      <td>CPD</td>\n",
       "      <td>1747938838000</td>\n",
       "      <td>1433</td>\n",
       "      <td>Turner, Devon</td>\n",
       "    </tr>\n",
       "    <tr>\n",
       "      <th>3</th>\n",
       "      <td>4</td>\n",
       "      <td>Larceny - Shoplifitng</td>\n",
       "      <td>202500017462</td>\n",
       "      <td>1100</td>\n",
       "      <td>5TH ST SW</td>\n",
       "      <td>CPD</td>\n",
       "      <td>1747932573000</td>\n",
       "      <td>1249</td>\n",
       "      <td>Eckenroth, Rachel</td>\n",
       "    </tr>\n",
       "    <tr>\n",
       "      <th>4</th>\n",
       "      <td>5</td>\n",
       "      <td>Assist Citizen - Mental/TDO/ECO</td>\n",
       "      <td>202500017461</td>\n",
       "      <td>1000</td>\n",
       "      <td>ALTAVISTA AVE, B</td>\n",
       "      <td>CPD</td>\n",
       "      <td>1747932486000</td>\n",
       "      <td>1248</td>\n",
       "      <td>Shiflett, Tammy</td>\n",
       "    </tr>\n",
       "  </tbody>\n",
       "</table>\n",
       "</div>"
      ],
      "text/plain": [
       "   RecordID                          Offense    IncidentID BlockNumber  \\\n",
       "0         1                   Assault Simple  202500017508         100   \n",
       "1         2       Disturbance - Non Domestic  202500017505         400   \n",
       "2         3                      Hit and Run  202500017476        1900   \n",
       "3         4            Larceny - Shoplifitng  202500017462        1100   \n",
       "4         5  Assist Citizen - Mental/TDO/ECO  202500017461        1000   \n",
       "\n",
       "          StreetName Agency   DateReported HourReported   ReportingOfficer  \n",
       "0         14TH ST NW    CPD  1747962482000         2108       Ritter, Kobe  \n",
       "1  RIDGE MCINTIRE RD    CPD  1747960187000         2029     Darby, Michael  \n",
       "2         THOMSON RD    CPD  1747938838000         1433      Turner, Devon  \n",
       "3          5TH ST SW    CPD  1747932573000         1249  Eckenroth, Rachel  \n",
       "4   ALTAVISTA AVE, B    CPD  1747932486000         1248    Shiflett, Tammy  "
      ]
     },
     "execution_count": 3,
     "metadata": {},
     "output_type": "execute_result"
    }
   ],
   "source": [
    "df.head()"
   ]
  },
  {
   "cell_type": "code",
   "execution_count": 4,
   "id": "10022dc2",
   "metadata": {
    "execution": {
     "iopub.execute_input": "2025-05-25T01:09:48.729185Z",
     "iopub.status.busy": "2025-05-25T01:09:48.728799Z",
     "iopub.status.idle": "2025-05-25T01:09:48.732987Z",
     "shell.execute_reply": "2025-05-25T01:09:48.732427Z"
    },
    "papermill": {
     "duration": 0.011024,
     "end_time": "2025-05-25T01:09:48.733968",
     "exception": false,
     "start_time": "2025-05-25T01:09:48.722944",
     "status": "completed"
    },
    "tags": []
   },
   "outputs": [
    {
     "data": {
      "text/plain": [
       "Index(['RecordID', 'Offense', 'IncidentID', 'BlockNumber', 'StreetName',\n",
       "       'Agency', 'DateReported', 'HourReported', 'ReportingOfficer'],\n",
       "      dtype='object')"
      ]
     },
     "execution_count": 4,
     "metadata": {},
     "output_type": "execute_result"
    }
   ],
   "source": [
    "df.columns"
   ]
  },
  {
   "cell_type": "code",
   "execution_count": 5,
   "id": "53f36550",
   "metadata": {
    "execution": {
     "iopub.execute_input": "2025-05-25T01:09:48.745723Z",
     "iopub.status.busy": "2025-05-25T01:09:48.745347Z",
     "iopub.status.idle": "2025-05-25T01:09:48.766145Z",
     "shell.execute_reply": "2025-05-25T01:09:48.765576Z"
    },
    "papermill": {
     "duration": 0.027658,
     "end_time": "2025-05-25T01:09:48.767100",
     "exception": false,
     "start_time": "2025-05-25T01:09:48.739442",
     "status": "completed"
    },
    "tags": []
   },
   "outputs": [
    {
     "name": "stdout",
     "output_type": "stream",
     "text": [
      "<class 'pandas.core.frame.DataFrame'>\n",
      "RangeIndex: 25431 entries, 0 to 25430\n",
      "Data columns (total 9 columns):\n",
      " #   Column            Non-Null Count  Dtype \n",
      "---  ------            --------------  ----- \n",
      " 0   RecordID          25431 non-null  int64 \n",
      " 1   Offense           25431 non-null  object\n",
      " 2   IncidentID        25431 non-null  object\n",
      " 3   BlockNumber       25431 non-null  object\n",
      " 4   StreetName        25431 non-null  object\n",
      " 5   Agency            25431 non-null  object\n",
      " 6   DateReported      25431 non-null  int64 \n",
      " 7   HourReported      25431 non-null  object\n",
      " 8   ReportingOfficer  25414 non-null  object\n",
      "dtypes: int64(2), object(7)\n",
      "memory usage: 1.7+ MB\n"
     ]
    }
   ],
   "source": [
    "df.info()"
   ]
  },
  {
   "cell_type": "markdown",
   "id": "359d264b",
   "metadata": {
    "papermill": {
     "duration": 0.005381,
     "end_time": "2025-05-25T01:09:48.777661",
     "exception": false,
     "start_time": "2025-05-25T01:09:48.772280",
     "status": "completed"
    },
    "tags": []
   },
   "source": [
    "### Missing Values"
   ]
  },
  {
   "cell_type": "code",
   "execution_count": 6,
   "id": "cac5f8a0",
   "metadata": {
    "execution": {
     "iopub.execute_input": "2025-05-25T01:09:48.789258Z",
     "iopub.status.busy": "2025-05-25T01:09:48.788824Z",
     "iopub.status.idle": "2025-05-25T01:09:48.804230Z",
     "shell.execute_reply": "2025-05-25T01:09:48.803721Z"
    },
    "papermill": {
     "duration": 0.022388,
     "end_time": "2025-05-25T01:09:48.805253",
     "exception": false,
     "start_time": "2025-05-25T01:09:48.782865",
     "status": "completed"
    },
    "tags": []
   },
   "outputs": [
    {
     "name": "stdout",
     "output_type": "stream",
     "text": [
      "                  MissingCount  MissingPercentage\n",
      "RecordID                     0               0.00\n",
      "Offense                      0               0.00\n",
      "IncidentID                   0               0.00\n",
      "BlockNumber                  0               0.00\n",
      "StreetName                   0               0.00\n",
      "Agency                       0               0.00\n",
      "DateReported                 0               0.00\n",
      "HourReported                 0               0.00\n",
      "ReportingOfficer            17               0.07\n"
     ]
    }
   ],
   "source": [
    "def missing_percentage(df):\n",
    "    \"\"\"\n",
    "    Returns a DataFrame with the count and percentage of missing values for each column.\n",
    "    \n",
    "    Parameters:\n",
    "        df (pd.DataFrame): The input DataFrame.\n",
    "    \n",
    "    Returns:\n",
    "        pd.DataFrame: A DataFrame with columns 'MissingCount' and 'MissingPercentage'.\n",
    "    \"\"\"\n",
    "    total_rows = len(df)\n",
    "    missing_count = df.isnull().sum()\n",
    "    missing_percent = (missing_count / total_rows) * 100\n",
    "    \n",
    "    result = pd.DataFrame({\n",
    "        'MissingCount': missing_count,\n",
    "        'MissingPercentage': missing_percent.round(2)\n",
    "    })\n",
    "    \n",
    "    return result\n",
    "\n",
    "# Example usage:\n",
    "missing_info = missing_percentage(df)\n",
    "print(missing_info)\n"
   ]
  },
  {
   "cell_type": "markdown",
   "id": "14b8a3d1",
   "metadata": {
    "papermill": {
     "duration": 0.005276,
     "end_time": "2025-05-25T01:09:48.816023",
     "exception": false,
     "start_time": "2025-05-25T01:09:48.810747",
     "status": "completed"
    },
    "tags": []
   },
   "source": [
    "## Data Preparation"
   ]
  },
  {
   "cell_type": "markdown",
   "id": "5676f418",
   "metadata": {
    "papermill": {
     "duration": 0.005375,
     "end_time": "2025-05-25T01:09:48.826775",
     "exception": false,
     "start_time": "2025-05-25T01:09:48.821400",
     "status": "completed"
    },
    "tags": []
   },
   "source": [
    "### Data Conversion"
   ]
  },
  {
   "cell_type": "code",
   "execution_count": 7,
   "id": "a40d3f32",
   "metadata": {
    "execution": {
     "iopub.execute_input": "2025-05-25T01:09:48.838272Z",
     "iopub.status.busy": "2025-05-25T01:09:48.837872Z",
     "iopub.status.idle": "2025-05-25T01:09:49.199005Z",
     "shell.execute_reply": "2025-05-25T01:09:49.198417Z"
    },
    "papermill": {
     "duration": 0.368164,
     "end_time": "2025-05-25T01:09:49.200077",
     "exception": false,
     "start_time": "2025-05-25T01:09:48.831913",
     "status": "completed"
    },
    "tags": []
   },
   "outputs": [
    {
     "data": {
      "text/html": [
       "<div>\n",
       "<style scoped>\n",
       "    .dataframe tbody tr th:only-of-type {\n",
       "        vertical-align: middle;\n",
       "    }\n",
       "\n",
       "    .dataframe tbody tr th {\n",
       "        vertical-align: top;\n",
       "    }\n",
       "\n",
       "    .dataframe thead th {\n",
       "        text-align: right;\n",
       "    }\n",
       "</style>\n",
       "<table border=\"1\" class=\"dataframe\">\n",
       "  <thead>\n",
       "    <tr style=\"text-align: right;\">\n",
       "      <th></th>\n",
       "      <th>RecordID</th>\n",
       "      <th>Offense</th>\n",
       "      <th>IncidentID</th>\n",
       "      <th>BlockNumber</th>\n",
       "      <th>StreetName</th>\n",
       "      <th>Agency</th>\n",
       "      <th>HourReported</th>\n",
       "      <th>ReportingOfficer</th>\n",
       "      <th>Date</th>\n",
       "      <th>DateString</th>\n",
       "      <th>DayOfWeek</th>\n",
       "      <th>Weekend</th>\n",
       "      <th>Season</th>\n",
       "      <th>HourAMPM</th>\n",
       "      <th>TimeOfDay</th>\n",
       "    </tr>\n",
       "  </thead>\n",
       "  <tbody>\n",
       "    <tr>\n",
       "      <th>0</th>\n",
       "      <td>1</td>\n",
       "      <td>Assault Simple</td>\n",
       "      <td>202500017508</td>\n",
       "      <td>100</td>\n",
       "      <td>14TH ST NW</td>\n",
       "      <td>CPD</td>\n",
       "      <td>2108</td>\n",
       "      <td>Ritter, Kobe</td>\n",
       "      <td>2025-05-22 21:08:02</td>\n",
       "      <td>2025-05-22 09:08:02 PM</td>\n",
       "      <td>Thursday</td>\n",
       "      <td>False</td>\n",
       "      <td>Spring</td>\n",
       "      <td>09:08 PM</td>\n",
       "      <td>Night</td>\n",
       "    </tr>\n",
       "    <tr>\n",
       "      <th>1</th>\n",
       "      <td>2</td>\n",
       "      <td>Disturbance - Non Domestic</td>\n",
       "      <td>202500017505</td>\n",
       "      <td>400</td>\n",
       "      <td>RIDGE MCINTIRE RD</td>\n",
       "      <td>CPD</td>\n",
       "      <td>2029</td>\n",
       "      <td>Darby, Michael</td>\n",
       "      <td>2025-05-22 20:29:47</td>\n",
       "      <td>2025-05-22 08:29:47 PM</td>\n",
       "      <td>Thursday</td>\n",
       "      <td>False</td>\n",
       "      <td>Spring</td>\n",
       "      <td>08:29 PM</td>\n",
       "      <td>Evening</td>\n",
       "    </tr>\n",
       "    <tr>\n",
       "      <th>2</th>\n",
       "      <td>3</td>\n",
       "      <td>Hit and Run</td>\n",
       "      <td>202500017476</td>\n",
       "      <td>1900</td>\n",
       "      <td>THOMSON RD</td>\n",
       "      <td>CPD</td>\n",
       "      <td>1433</td>\n",
       "      <td>Turner, Devon</td>\n",
       "      <td>2025-05-22 14:33:58</td>\n",
       "      <td>2025-05-22 02:33:58 PM</td>\n",
       "      <td>Thursday</td>\n",
       "      <td>False</td>\n",
       "      <td>Spring</td>\n",
       "      <td>02:33 PM</td>\n",
       "      <td>Afternoon</td>\n",
       "    </tr>\n",
       "    <tr>\n",
       "      <th>3</th>\n",
       "      <td>4</td>\n",
       "      <td>Larceny - Shoplifitng</td>\n",
       "      <td>202500017462</td>\n",
       "      <td>1100</td>\n",
       "      <td>5TH ST SW</td>\n",
       "      <td>CPD</td>\n",
       "      <td>1249</td>\n",
       "      <td>Eckenroth, Rachel</td>\n",
       "      <td>2025-05-22 12:49:33</td>\n",
       "      <td>2025-05-22 12:49:33 PM</td>\n",
       "      <td>Thursday</td>\n",
       "      <td>False</td>\n",
       "      <td>Spring</td>\n",
       "      <td>12:49 PM</td>\n",
       "      <td>Afternoon</td>\n",
       "    </tr>\n",
       "    <tr>\n",
       "      <th>4</th>\n",
       "      <td>5</td>\n",
       "      <td>Assist Citizen - Mental/TDO/ECO</td>\n",
       "      <td>202500017461</td>\n",
       "      <td>1000</td>\n",
       "      <td>ALTAVISTA AVE, B</td>\n",
       "      <td>CPD</td>\n",
       "      <td>1248</td>\n",
       "      <td>Shiflett, Tammy</td>\n",
       "      <td>2025-05-22 12:48:06</td>\n",
       "      <td>2025-05-22 12:48:06 PM</td>\n",
       "      <td>Thursday</td>\n",
       "      <td>False</td>\n",
       "      <td>Spring</td>\n",
       "      <td>12:48 PM</td>\n",
       "      <td>Afternoon</td>\n",
       "    </tr>\n",
       "  </tbody>\n",
       "</table>\n",
       "</div>"
      ],
      "text/plain": [
       "   RecordID                          Offense    IncidentID BlockNumber  \\\n",
       "0         1                   Assault Simple  202500017508         100   \n",
       "1         2       Disturbance - Non Domestic  202500017505         400   \n",
       "2         3                      Hit and Run  202500017476        1900   \n",
       "3         4            Larceny - Shoplifitng  202500017462        1100   \n",
       "4         5  Assist Citizen - Mental/TDO/ECO  202500017461        1000   \n",
       "\n",
       "          StreetName Agency HourReported   ReportingOfficer  \\\n",
       "0         14TH ST NW    CPD         2108       Ritter, Kobe   \n",
       "1  RIDGE MCINTIRE RD    CPD         2029     Darby, Michael   \n",
       "2         THOMSON RD    CPD         1433      Turner, Devon   \n",
       "3          5TH ST SW    CPD         1249  Eckenroth, Rachel   \n",
       "4   ALTAVISTA AVE, B    CPD         1248    Shiflett, Tammy   \n",
       "\n",
       "                 Date              DateString DayOfWeek  Weekend  Season  \\\n",
       "0 2025-05-22 21:08:02  2025-05-22 09:08:02 PM  Thursday    False  Spring   \n",
       "1 2025-05-22 20:29:47  2025-05-22 08:29:47 PM  Thursday    False  Spring   \n",
       "2 2025-05-22 14:33:58  2025-05-22 02:33:58 PM  Thursday    False  Spring   \n",
       "3 2025-05-22 12:49:33  2025-05-22 12:49:33 PM  Thursday    False  Spring   \n",
       "4 2025-05-22 12:48:06  2025-05-22 12:48:06 PM  Thursday    False  Spring   \n",
       "\n",
       "   HourAMPM  TimeOfDay  \n",
       "0  09:08 PM      Night  \n",
       "1  08:29 PM    Evening  \n",
       "2  02:33 PM  Afternoon  \n",
       "3  12:49 PM  Afternoon  \n",
       "4  12:48 PM  Afternoon  "
      ]
     },
     "execution_count": 7,
     "metadata": {},
     "output_type": "execute_result"
    }
   ],
   "source": [
    "def convert_and_categorize_datereported(df, col='DateReported'):\n",
    "    \"\"\"\n",
    "    Converts an epoch (in milliseconds) date column into a timezone-aware datetime,\n",
    "    converts it to Eastern Time, and then creates columns for day-of-week, weekend flag,\n",
    "    season, 12-hour formatted time, and time-of-day. Keeps both a real datetime column\n",
    "    (Date) and a string representation (DateString).\n",
    "    \"\"\"\n",
    "    import pandas as pd\n",
    "\n",
    "    # Convert the epoch timestamp to a pandas datetime object as UTC, then convert to US/Eastern.\n",
    "    df[\"DateReported_dt\"] = (\n",
    "        pd.to_datetime(df[col], unit=\"ms\", errors=\"coerce\", utc=True)\n",
    "        .dt.tz_convert(\"US/Eastern\")\n",
    "    )\n",
    "    \n",
    "    # Create a true datetime column (remove timezone if you prefer naive datetime)\n",
    "    df[\"Date\"] = df[\"DateReported_dt\"].dt.tz_localize(None)\n",
    "\n",
    "    # Optionally, create a separate string-formatted column\n",
    "    df[\"DateString\"] = df[\"DateReported_dt\"].dt.strftime(\"%Y-%m-%d %I:%M:%S %p\")\n",
    "    \n",
    "    # DayOfWeek\n",
    "    df[\"DayOfWeek\"] = df[\"DateReported_dt\"].dt.day_name()\n",
    "    \n",
    "    # Weekend\n",
    "    df[\"Weekend\"] = df[\"DayOfWeek\"].isin([\"Saturday\", \"Sunday\"])\n",
    "    \n",
    "    # Helper function to determine the season\n",
    "    def get_season(dt):\n",
    "        month = dt.month\n",
    "        day = dt.day\n",
    "        # Approximate Northern Hemisphere season boundaries:\n",
    "        if (month == 12 and day >= 21) or (month < 3) or (month == 3 and day < 20):\n",
    "            return \"Winter\"\n",
    "        elif (month == 3 and day >= 20) or (month < 6) or (month == 6 and day < 21):\n",
    "            return \"Spring\"\n",
    "        elif (month == 6 and day >= 21) or (month < 9) or (month == 9 and day < 22):\n",
    "            return \"Summer\"\n",
    "        else:\n",
    "            return \"Autumn\"\n",
    "    \n",
    "    df[\"Season\"] = df[\"DateReported_dt\"].apply(get_season)\n",
    "    \n",
    "    # 12-hour formatted time (HourAMPM)\n",
    "    df[\"HourAMPM\"] = df[\"DateReported_dt\"].dt.strftime(\"%I:%M %p\")\n",
    "    \n",
    "    # Extract hour (0-23) for time-of-day\n",
    "    df[\"HourValue\"] = df[\"DateReported_dt\"].dt.hour\n",
    "    \n",
    "    def time_of_day(hour):\n",
    "        if pd.isnull(hour):\n",
    "            return None\n",
    "        if 5 <= hour < 12:\n",
    "            return \"Morning\"\n",
    "        elif 12 <= hour < 17:\n",
    "            return \"Afternoon\"\n",
    "        elif 17 <= hour < 21:\n",
    "            return \"Evening\"\n",
    "        else:\n",
    "            return \"Night\"\n",
    "    \n",
    "    df[\"TimeOfDay\"] = df[\"HourValue\"].apply(time_of_day)\n",
    "    \n",
    "    # Drop columns you no longer need\n",
    "    df.drop(columns=[col, \"DateReported_dt\", \"HourValue\"], inplace=True)\n",
    "    \n",
    "    return df\n",
    "\n",
    "# Example usage:\n",
    "df = convert_and_categorize_datereported(df)\n",
    "df.head()\n"
   ]
  },
  {
   "cell_type": "code",
   "execution_count": 8,
   "id": "ad2169ea",
   "metadata": {
    "execution": {
     "iopub.execute_input": "2025-05-25T01:09:49.213162Z",
     "iopub.status.busy": "2025-05-25T01:09:49.212766Z",
     "iopub.status.idle": "2025-05-25T01:09:49.235364Z",
     "shell.execute_reply": "2025-05-25T01:09:49.234697Z"
    },
    "papermill": {
     "duration": 0.030231,
     "end_time": "2025-05-25T01:09:49.236468",
     "exception": false,
     "start_time": "2025-05-25T01:09:49.206237",
     "status": "completed"
    },
    "tags": []
   },
   "outputs": [
    {
     "name": "stdout",
     "output_type": "stream",
     "text": [
      "<class 'pandas.core.frame.DataFrame'>\n",
      "RangeIndex: 25431 entries, 0 to 25430\n",
      "Data columns (total 15 columns):\n",
      " #   Column            Non-Null Count  Dtype         \n",
      "---  ------            --------------  -----         \n",
      " 0   RecordID          25431 non-null  int64         \n",
      " 1   Offense           25431 non-null  object        \n",
      " 2   IncidentID        25431 non-null  object        \n",
      " 3   BlockNumber       25431 non-null  object        \n",
      " 4   StreetName        25431 non-null  object        \n",
      " 5   Agency            25431 non-null  object        \n",
      " 6   HourReported      25431 non-null  object        \n",
      " 7   ReportingOfficer  25414 non-null  object        \n",
      " 8   Date              25431 non-null  datetime64[ns]\n",
      " 9   DateString        25431 non-null  object        \n",
      " 10  DayOfWeek         25431 non-null  object        \n",
      " 11  Weekend           25431 non-null  bool          \n",
      " 12  Season            25431 non-null  object        \n",
      " 13  HourAMPM          25431 non-null  object        \n",
      " 14  TimeOfDay         25431 non-null  object        \n",
      "dtypes: bool(1), datetime64[ns](1), int64(1), object(12)\n",
      "memory usage: 2.7+ MB\n"
     ]
    }
   ],
   "source": [
    "df.info()"
   ]
  },
  {
   "cell_type": "markdown",
   "id": "c2b39f9c",
   "metadata": {
    "papermill": {
     "duration": 0.005989,
     "end_time": "2025-05-25T01:09:49.248457",
     "exception": false,
     "start_time": "2025-05-25T01:09:49.242468",
     "status": "completed"
    },
    "tags": []
   },
   "source": [
    "### Coordinates"
   ]
  },
  {
   "cell_type": "code",
   "execution_count": 9,
   "id": "c088f986",
   "metadata": {
    "execution": {
     "iopub.execute_input": "2025-05-25T01:09:49.261303Z",
     "iopub.status.busy": "2025-05-25T01:09:49.260927Z",
     "iopub.status.idle": "2025-05-25T01:09:49.477520Z",
     "shell.execute_reply": "2025-05-25T01:09:49.476962Z"
    },
    "papermill": {
     "duration": 0.224211,
     "end_time": "2025-05-25T01:09:49.478584",
     "exception": false,
     "start_time": "2025-05-25T01:09:49.254373",
     "status": "completed"
    },
    "tags": []
   },
   "outputs": [
    {
     "name": "stdout",
     "output_type": "stream",
     "text": [
      "Loaded geocode cache.\n"
     ]
    },
    {
     "name": "stdout",
     "output_type": "stream",
     "text": [
      "Geocoded 600 DALE AVE, A: 38.0356497, -78.4849995\n",
      "Geocode cache updated and saved.\n"
     ]
    },
    {
     "data": {
      "text/html": [
       "<div>\n",
       "<style scoped>\n",
       "    .dataframe tbody tr th:only-of-type {\n",
       "        vertical-align: middle;\n",
       "    }\n",
       "\n",
       "    .dataframe tbody tr th {\n",
       "        vertical-align: top;\n",
       "    }\n",
       "\n",
       "    .dataframe thead th {\n",
       "        text-align: right;\n",
       "    }\n",
       "</style>\n",
       "<table border=\"1\" class=\"dataframe\">\n",
       "  <thead>\n",
       "    <tr style=\"text-align: right;\">\n",
       "      <th></th>\n",
       "      <th>RecordID</th>\n",
       "      <th>Offense</th>\n",
       "      <th>IncidentID</th>\n",
       "      <th>BlockNumber</th>\n",
       "      <th>StreetName</th>\n",
       "      <th>Agency</th>\n",
       "      <th>HourReported</th>\n",
       "      <th>ReportingOfficer</th>\n",
       "      <th>Date</th>\n",
       "      <th>DateString</th>\n",
       "      <th>DayOfWeek</th>\n",
       "      <th>Weekend</th>\n",
       "      <th>Season</th>\n",
       "      <th>HourAMPM</th>\n",
       "      <th>TimeOfDay</th>\n",
       "      <th>FullStreet</th>\n",
       "      <th>lat</th>\n",
       "      <th>lon</th>\n",
       "    </tr>\n",
       "  </thead>\n",
       "  <tbody>\n",
       "    <tr>\n",
       "      <th>0</th>\n",
       "      <td>1</td>\n",
       "      <td>Assault Simple</td>\n",
       "      <td>202500017508</td>\n",
       "      <td>100</td>\n",
       "      <td>14TH ST NW</td>\n",
       "      <td>CPD</td>\n",
       "      <td>2108</td>\n",
       "      <td>Ritter, Kobe</td>\n",
       "      <td>2025-05-22 21:08:02</td>\n",
       "      <td>2025-05-22 09:08:02 PM</td>\n",
       "      <td>Thursday</td>\n",
       "      <td>False</td>\n",
       "      <td>Spring</td>\n",
       "      <td>09:08 PM</td>\n",
       "      <td>Night</td>\n",
       "      <td>100 14TH ST NW</td>\n",
       "      <td>38.034184</td>\n",
       "      <td>-78.499400</td>\n",
       "    </tr>\n",
       "    <tr>\n",
       "      <th>1</th>\n",
       "      <td>2</td>\n",
       "      <td>Disturbance - Non Domestic</td>\n",
       "      <td>202500017505</td>\n",
       "      <td>400</td>\n",
       "      <td>RIDGE MCINTIRE RD</td>\n",
       "      <td>CPD</td>\n",
       "      <td>2029</td>\n",
       "      <td>Darby, Michael</td>\n",
       "      <td>2025-05-22 20:29:47</td>\n",
       "      <td>2025-05-22 08:29:47 PM</td>\n",
       "      <td>Thursday</td>\n",
       "      <td>False</td>\n",
       "      <td>Spring</td>\n",
       "      <td>08:29 PM</td>\n",
       "      <td>Evening</td>\n",
       "      <td>400 RIDGE MCINTIRE RD</td>\n",
       "      <td>38.032597</td>\n",
       "      <td>-78.484605</td>\n",
       "    </tr>\n",
       "    <tr>\n",
       "      <th>2</th>\n",
       "      <td>3</td>\n",
       "      <td>Hit and Run</td>\n",
       "      <td>202500017476</td>\n",
       "      <td>1900</td>\n",
       "      <td>THOMSON RD</td>\n",
       "      <td>CPD</td>\n",
       "      <td>1433</td>\n",
       "      <td>Turner, Devon</td>\n",
       "      <td>2025-05-22 14:33:58</td>\n",
       "      <td>2025-05-22 02:33:58 PM</td>\n",
       "      <td>Thursday</td>\n",
       "      <td>False</td>\n",
       "      <td>Spring</td>\n",
       "      <td>02:33 PM</td>\n",
       "      <td>Afternoon</td>\n",
       "      <td>1900 THOMSON RD</td>\n",
       "      <td>38.036541</td>\n",
       "      <td>-78.507851</td>\n",
       "    </tr>\n",
       "    <tr>\n",
       "      <th>3</th>\n",
       "      <td>4</td>\n",
       "      <td>Larceny - Shoplifitng</td>\n",
       "      <td>202500017462</td>\n",
       "      <td>1100</td>\n",
       "      <td>5TH ST SW</td>\n",
       "      <td>CPD</td>\n",
       "      <td>1249</td>\n",
       "      <td>Eckenroth, Rachel</td>\n",
       "      <td>2025-05-22 12:49:33</td>\n",
       "      <td>2025-05-22 12:49:33 PM</td>\n",
       "      <td>Thursday</td>\n",
       "      <td>False</td>\n",
       "      <td>Spring</td>\n",
       "      <td>12:49 PM</td>\n",
       "      <td>Afternoon</td>\n",
       "      <td>1100 5TH ST SW</td>\n",
       "      <td>38.017130</td>\n",
       "      <td>-78.497806</td>\n",
       "    </tr>\n",
       "    <tr>\n",
       "      <th>4</th>\n",
       "      <td>5</td>\n",
       "      <td>Assist Citizen - Mental/TDO/ECO</td>\n",
       "      <td>202500017461</td>\n",
       "      <td>1000</td>\n",
       "      <td>ALTAVISTA AVE, B</td>\n",
       "      <td>CPD</td>\n",
       "      <td>1248</td>\n",
       "      <td>Shiflett, Tammy</td>\n",
       "      <td>2025-05-22 12:48:06</td>\n",
       "      <td>2025-05-22 12:48:06 PM</td>\n",
       "      <td>Thursday</td>\n",
       "      <td>False</td>\n",
       "      <td>Spring</td>\n",
       "      <td>12:48 PM</td>\n",
       "      <td>Afternoon</td>\n",
       "      <td>1000 ALTAVISTA AVE, B</td>\n",
       "      <td>38.018135</td>\n",
       "      <td>-78.477155</td>\n",
       "    </tr>\n",
       "  </tbody>\n",
       "</table>\n",
       "</div>"
      ],
      "text/plain": [
       "   RecordID                          Offense    IncidentID BlockNumber  \\\n",
       "0         1                   Assault Simple  202500017508         100   \n",
       "1         2       Disturbance - Non Domestic  202500017505         400   \n",
       "2         3                      Hit and Run  202500017476        1900   \n",
       "3         4            Larceny - Shoplifitng  202500017462        1100   \n",
       "4         5  Assist Citizen - Mental/TDO/ECO  202500017461        1000   \n",
       "\n",
       "          StreetName Agency HourReported   ReportingOfficer  \\\n",
       "0         14TH ST NW    CPD         2108       Ritter, Kobe   \n",
       "1  RIDGE MCINTIRE RD    CPD         2029     Darby, Michael   \n",
       "2         THOMSON RD    CPD         1433      Turner, Devon   \n",
       "3          5TH ST SW    CPD         1249  Eckenroth, Rachel   \n",
       "4   ALTAVISTA AVE, B    CPD         1248    Shiflett, Tammy   \n",
       "\n",
       "                 Date              DateString DayOfWeek  Weekend  Season  \\\n",
       "0 2025-05-22 21:08:02  2025-05-22 09:08:02 PM  Thursday    False  Spring   \n",
       "1 2025-05-22 20:29:47  2025-05-22 08:29:47 PM  Thursday    False  Spring   \n",
       "2 2025-05-22 14:33:58  2025-05-22 02:33:58 PM  Thursday    False  Spring   \n",
       "3 2025-05-22 12:49:33  2025-05-22 12:49:33 PM  Thursday    False  Spring   \n",
       "4 2025-05-22 12:48:06  2025-05-22 12:48:06 PM  Thursday    False  Spring   \n",
       "\n",
       "   HourAMPM  TimeOfDay             FullStreet        lat        lon  \n",
       "0  09:08 PM      Night         100 14TH ST NW  38.034184 -78.499400  \n",
       "1  08:29 PM    Evening  400 RIDGE MCINTIRE RD  38.032597 -78.484605  \n",
       "2  02:33 PM  Afternoon        1900 THOMSON RD  38.036541 -78.507851  \n",
       "3  12:49 PM  Afternoon         1100 5TH ST SW  38.017130 -78.497806  \n",
       "4  12:48 PM  Afternoon  1000 ALTAVISTA AVE, B  38.018135 -78.477155  "
      ]
     },
     "execution_count": 9,
     "metadata": {},
     "output_type": "execute_result"
    }
   ],
   "source": [
    "# Combine BlockNumber and StreetName into a full address string\n",
    "df['FullStreet'] = df['BlockNumber'].astype(str) + \" \" + df['StreetName']\n",
    "\n",
    "# --- Step 1: Setup the Google Maps Client and Cache ---\n",
    "gmaps = googlemaps.Client(key=GOOGLE_API_KEY)\n",
    "\n",
    "# Try to load cached geocoding results if available.\n",
    "try:\n",
    "    with open(\"geocode_cache_google.pkl\", \"rb\") as f:\n",
    "        street_coords = pickle.load(f)\n",
    "    print(\"Loaded geocode cache.\")\n",
    "except FileNotFoundError:\n",
    "    street_coords = {}\n",
    "    print(\"No cache found; starting fresh.\")\n",
    "\n",
    "def geocode_address(address):\n",
    "    try:\n",
    "        # Append city and state to help geocoding\n",
    "        result = gmaps.geocode(f\"{address}, Charlottesville, VA\")\n",
    "        if result:\n",
    "            lat = result[0]['geometry']['location']['lat']\n",
    "            lon = result[0]['geometry']['location']['lng']\n",
    "            return lat, lon\n",
    "    except Exception as e:\n",
    "        print(f\"Error geocoding {address}: {e}\")\n",
    "    return None, None\n",
    "\n",
    "# --- Step 2: Geocode Only New Addresses ---\n",
    "unique_addresses = df['FullStreet'].unique()\n",
    "for address in unique_addresses:\n",
    "    if address not in street_coords:\n",
    "        lat, lon = geocode_address(address)\n",
    "        street_coords[address] = (lat, lon)\n",
    "        print(f\"Geocoded {address}: {lat}, {lon}\")\n",
    "\n",
    "# Save the updated cache to disk.\n",
    "with open(\"geocode_cache_google.pkl\", \"wb\") as f:\n",
    "    pickle.dump(street_coords, f)\n",
    "    print(\"Geocode cache updated and saved.\")\n",
    "\n",
    "# --- Step 3: Map Coordinates Back to DataFrame ---\n",
    "df['lat'] = df['FullStreet'].map(lambda s: street_coords.get(s, (None, None))[0])\n",
    "df['lon'] = df['FullStreet'].map(lambda s: street_coords.get(s, (None, None))[1])\n",
    "\n",
    "df.head()"
   ]
  },
  {
   "cell_type": "markdown",
   "id": "ed8ac26f",
   "metadata": {
    "papermill": {
     "duration": 0.006287,
     "end_time": "2025-05-25T01:09:49.491372",
     "exception": false,
     "start_time": "2025-05-25T01:09:49.485085",
     "status": "completed"
    },
    "tags": []
   },
   "source": [
    "### Neighborhood"
   ]
  },
  {
   "cell_type": "code",
   "execution_count": 10,
   "id": "01a50874",
   "metadata": {
    "execution": {
     "iopub.execute_input": "2025-05-25T01:09:49.505031Z",
     "iopub.status.busy": "2025-05-25T01:09:49.504500Z",
     "iopub.status.idle": "2025-05-25T01:09:49.754283Z",
     "shell.execute_reply": "2025-05-25T01:09:49.753645Z"
    },
    "papermill": {
     "duration": 0.257741,
     "end_time": "2025-05-25T01:09:49.755295",
     "exception": false,
     "start_time": "2025-05-25T01:09:49.497554",
     "status": "completed"
    },
    "tags": []
   },
   "outputs": [
    {
     "name": "stdout",
     "output_type": "stream",
     "text": [
      "Loaded neighborhood cache.\n"
     ]
    },
    {
     "data": {
      "text/html": [
       "<div>\n",
       "<style scoped>\n",
       "    .dataframe tbody tr th:only-of-type {\n",
       "        vertical-align: middle;\n",
       "    }\n",
       "\n",
       "    .dataframe tbody tr th {\n",
       "        vertical-align: top;\n",
       "    }\n",
       "\n",
       "    .dataframe thead th {\n",
       "        text-align: right;\n",
       "    }\n",
       "</style>\n",
       "<table border=\"1\" class=\"dataframe\">\n",
       "  <thead>\n",
       "    <tr style=\"text-align: right;\">\n",
       "      <th></th>\n",
       "      <th>RecordID</th>\n",
       "      <th>Offense</th>\n",
       "      <th>IncidentID</th>\n",
       "      <th>BlockNumber</th>\n",
       "      <th>StreetName</th>\n",
       "      <th>Agency</th>\n",
       "      <th>HourReported</th>\n",
       "      <th>ReportingOfficer</th>\n",
       "      <th>Date</th>\n",
       "      <th>DateString</th>\n",
       "      <th>DayOfWeek</th>\n",
       "      <th>Weekend</th>\n",
       "      <th>Season</th>\n",
       "      <th>HourAMPM</th>\n",
       "      <th>TimeOfDay</th>\n",
       "      <th>FullStreet</th>\n",
       "      <th>lat</th>\n",
       "      <th>lon</th>\n",
       "      <th>neighborhood</th>\n",
       "    </tr>\n",
       "  </thead>\n",
       "  <tbody>\n",
       "    <tr>\n",
       "      <th>0</th>\n",
       "      <td>1</td>\n",
       "      <td>Assault Simple</td>\n",
       "      <td>202500017508</td>\n",
       "      <td>100</td>\n",
       "      <td>14TH ST NW</td>\n",
       "      <td>CPD</td>\n",
       "      <td>2108</td>\n",
       "      <td>Ritter, Kobe</td>\n",
       "      <td>2025-05-22 21:08:02</td>\n",
       "      <td>2025-05-22 09:08:02 PM</td>\n",
       "      <td>Thursday</td>\n",
       "      <td>False</td>\n",
       "      <td>Spring</td>\n",
       "      <td>09:08 PM</td>\n",
       "      <td>Night</td>\n",
       "      <td>100 14TH ST NW</td>\n",
       "      <td>38.034184</td>\n",
       "      <td>-78.499400</td>\n",
       "      <td>Venable</td>\n",
       "    </tr>\n",
       "    <tr>\n",
       "      <th>1</th>\n",
       "      <td>2</td>\n",
       "      <td>Disturbance - Non Domestic</td>\n",
       "      <td>202500017505</td>\n",
       "      <td>400</td>\n",
       "      <td>RIDGE MCINTIRE RD</td>\n",
       "      <td>CPD</td>\n",
       "      <td>2029</td>\n",
       "      <td>Darby, Michael</td>\n",
       "      <td>2025-05-22 20:29:47</td>\n",
       "      <td>2025-05-22 08:29:47 PM</td>\n",
       "      <td>Thursday</td>\n",
       "      <td>False</td>\n",
       "      <td>Spring</td>\n",
       "      <td>08:29 PM</td>\n",
       "      <td>Evening</td>\n",
       "      <td>400 RIDGE MCINTIRE RD</td>\n",
       "      <td>38.032597</td>\n",
       "      <td>-78.484605</td>\n",
       "      <td>Starr Hill</td>\n",
       "    </tr>\n",
       "    <tr>\n",
       "      <th>2</th>\n",
       "      <td>3</td>\n",
       "      <td>Hit and Run</td>\n",
       "      <td>202500017476</td>\n",
       "      <td>1900</td>\n",
       "      <td>THOMSON RD</td>\n",
       "      <td>CPD</td>\n",
       "      <td>1433</td>\n",
       "      <td>Turner, Devon</td>\n",
       "      <td>2025-05-22 14:33:58</td>\n",
       "      <td>2025-05-22 02:33:58 PM</td>\n",
       "      <td>Thursday</td>\n",
       "      <td>False</td>\n",
       "      <td>Spring</td>\n",
       "      <td>02:33 PM</td>\n",
       "      <td>Afternoon</td>\n",
       "      <td>1900 THOMSON RD</td>\n",
       "      <td>38.036541</td>\n",
       "      <td>-78.507851</td>\n",
       "      <td>Lewis Mountain</td>\n",
       "    </tr>\n",
       "    <tr>\n",
       "      <th>3</th>\n",
       "      <td>4</td>\n",
       "      <td>Larceny - Shoplifitng</td>\n",
       "      <td>202500017462</td>\n",
       "      <td>1100</td>\n",
       "      <td>5TH ST SW</td>\n",
       "      <td>CPD</td>\n",
       "      <td>1249</td>\n",
       "      <td>Eckenroth, Rachel</td>\n",
       "      <td>2025-05-22 12:49:33</td>\n",
       "      <td>2025-05-22 12:49:33 PM</td>\n",
       "      <td>Thursday</td>\n",
       "      <td>False</td>\n",
       "      <td>Spring</td>\n",
       "      <td>12:49 PM</td>\n",
       "      <td>Afternoon</td>\n",
       "      <td>1100 5TH ST SW</td>\n",
       "      <td>38.017130</td>\n",
       "      <td>-78.497806</td>\n",
       "      <td>Johnson Village</td>\n",
       "    </tr>\n",
       "    <tr>\n",
       "      <th>4</th>\n",
       "      <td>5</td>\n",
       "      <td>Assist Citizen - Mental/TDO/ECO</td>\n",
       "      <td>202500017461</td>\n",
       "      <td>1000</td>\n",
       "      <td>ALTAVISTA AVE, B</td>\n",
       "      <td>CPD</td>\n",
       "      <td>1248</td>\n",
       "      <td>Shiflett, Tammy</td>\n",
       "      <td>2025-05-22 12:48:06</td>\n",
       "      <td>2025-05-22 12:48:06 PM</td>\n",
       "      <td>Thursday</td>\n",
       "      <td>False</td>\n",
       "      <td>Spring</td>\n",
       "      <td>12:48 PM</td>\n",
       "      <td>Afternoon</td>\n",
       "      <td>1000 ALTAVISTA AVE, B</td>\n",
       "      <td>38.018135</td>\n",
       "      <td>-78.477155</td>\n",
       "      <td>Belmont</td>\n",
       "    </tr>\n",
       "  </tbody>\n",
       "</table>\n",
       "</div>"
      ],
      "text/plain": [
       "   RecordID                          Offense    IncidentID BlockNumber  \\\n",
       "0         1                   Assault Simple  202500017508         100   \n",
       "1         2       Disturbance - Non Domestic  202500017505         400   \n",
       "2         3                      Hit and Run  202500017476        1900   \n",
       "3         4            Larceny - Shoplifitng  202500017462        1100   \n",
       "4         5  Assist Citizen - Mental/TDO/ECO  202500017461        1000   \n",
       "\n",
       "          StreetName Agency HourReported   ReportingOfficer  \\\n",
       "0         14TH ST NW    CPD         2108       Ritter, Kobe   \n",
       "1  RIDGE MCINTIRE RD    CPD         2029     Darby, Michael   \n",
       "2         THOMSON RD    CPD         1433      Turner, Devon   \n",
       "3          5TH ST SW    CPD         1249  Eckenroth, Rachel   \n",
       "4   ALTAVISTA AVE, B    CPD         1248    Shiflett, Tammy   \n",
       "\n",
       "                 Date              DateString DayOfWeek  Weekend  Season  \\\n",
       "0 2025-05-22 21:08:02  2025-05-22 09:08:02 PM  Thursday    False  Spring   \n",
       "1 2025-05-22 20:29:47  2025-05-22 08:29:47 PM  Thursday    False  Spring   \n",
       "2 2025-05-22 14:33:58  2025-05-22 02:33:58 PM  Thursday    False  Spring   \n",
       "3 2025-05-22 12:49:33  2025-05-22 12:49:33 PM  Thursday    False  Spring   \n",
       "4 2025-05-22 12:48:06  2025-05-22 12:48:06 PM  Thursday    False  Spring   \n",
       "\n",
       "   HourAMPM  TimeOfDay             FullStreet        lat        lon  \\\n",
       "0  09:08 PM      Night         100 14TH ST NW  38.034184 -78.499400   \n",
       "1  08:29 PM    Evening  400 RIDGE MCINTIRE RD  38.032597 -78.484605   \n",
       "2  02:33 PM  Afternoon        1900 THOMSON RD  38.036541 -78.507851   \n",
       "3  12:49 PM  Afternoon         1100 5TH ST SW  38.017130 -78.497806   \n",
       "4  12:48 PM  Afternoon  1000 ALTAVISTA AVE, B  38.018135 -78.477155   \n",
       "\n",
       "      neighborhood  \n",
       "0          Venable  \n",
       "1       Starr Hill  \n",
       "2   Lewis Mountain  \n",
       "3  Johnson Village  \n",
       "4          Belmont  "
      ]
     },
     "execution_count": 10,
     "metadata": {},
     "output_type": "execute_result"
    }
   ],
   "source": [
    "# Initialize the Google Maps client.\n",
    "gmaps = googlemaps.Client(key=GOOGLE_API_KEY)\n",
    "\n",
    "# Try to load a persistent neighborhood cache if available.\n",
    "try:\n",
    "    with open(\"neighborhood_cache.pkl\", \"rb\") as f:\n",
    "        neighborhood_cache = pickle.load(f)\n",
    "    print(\"Loaded neighborhood cache.\")\n",
    "except FileNotFoundError:\n",
    "    neighborhood_cache = {}\n",
    "    print(\"No neighborhood cache found; starting fresh.\")\n",
    "\n",
    "def get_neighborhood(lat, lon):\n",
    "    \"\"\"\n",
    "    Reverse geocodes a latitude and longitude to retrieve the neighborhood.\n",
    "    Caches results to speed up subsequent lookups.\n",
    "    \"\"\"\n",
    "    key = (lat, lon)\n",
    "    if key in neighborhood_cache:\n",
    "        return neighborhood_cache[key]\n",
    "    \n",
    "    try:\n",
    "        result = gmaps.reverse_geocode((lat, lon))\n",
    "        if result:\n",
    "            # Look for the 'neighborhood' component in the first result.\n",
    "            for component in result[0]['address_components']:\n",
    "                if 'neighborhood' in component['types']:\n",
    "                    neighborhood = component['long_name']\n",
    "                    neighborhood_cache[key] = neighborhood\n",
    "                    return neighborhood\n",
    "            # If no neighborhood is found, return \"N/A\"\n",
    "            neighborhood_cache[key] = \"N/A\"\n",
    "            return \"N/A\"\n",
    "    except Exception as e:\n",
    "        print(f\"Error getting neighborhood for {lat}, {lon}: {e}\")\n",
    "        return \"N/A\"\n",
    "    \n",
    "    # Pause to respect usage limits.\n",
    "    time.sleep(1)\n",
    "\n",
    "# Example usage: Apply to your DataFrame 'df' that already has 'lat' and 'lon' columns.\n",
    "df['neighborhood'] = df.apply(lambda row: get_neighborhood(row['lat'], row['lon']), axis=1)\n",
    "\n",
    "# Save the updated neighborhood cache.\n",
    "with open(\"neighborhood_cache.pkl\", \"wb\") as f:\n",
    "    pickle.dump(neighborhood_cache, f)\n",
    "\n",
    "df.head()\n"
   ]
  },
  {
   "cell_type": "markdown",
   "id": "3d9e7c74",
   "metadata": {
    "papermill": {
     "duration": 0.006598,
     "end_time": "2025-05-25T01:09:49.768659",
     "exception": false,
     "start_time": "2025-05-25T01:09:49.762061",
     "status": "completed"
    },
    "tags": []
   },
   "source": [
    "### Zip"
   ]
  },
  {
   "cell_type": "code",
   "execution_count": 11,
   "id": "a27d4d06",
   "metadata": {
    "execution": {
     "iopub.execute_input": "2025-05-25T01:09:49.782717Z",
     "iopub.status.busy": "2025-05-25T01:09:49.782289Z",
     "iopub.status.idle": "2025-05-25T01:09:50.020621Z",
     "shell.execute_reply": "2025-05-25T01:09:50.019955Z"
    },
    "papermill": {
     "duration": 0.246666,
     "end_time": "2025-05-25T01:09:50.021764",
     "exception": false,
     "start_time": "2025-05-25T01:09:49.775098",
     "status": "completed"
    },
    "tags": []
   },
   "outputs": [
    {
     "name": "stdout",
     "output_type": "stream",
     "text": [
      "Loaded zip cache.\n"
     ]
    },
    {
     "data": {
      "text/html": [
       "<div>\n",
       "<style scoped>\n",
       "    .dataframe tbody tr th:only-of-type {\n",
       "        vertical-align: middle;\n",
       "    }\n",
       "\n",
       "    .dataframe tbody tr th {\n",
       "        vertical-align: top;\n",
       "    }\n",
       "\n",
       "    .dataframe thead th {\n",
       "        text-align: right;\n",
       "    }\n",
       "</style>\n",
       "<table border=\"1\" class=\"dataframe\">\n",
       "  <thead>\n",
       "    <tr style=\"text-align: right;\">\n",
       "      <th></th>\n",
       "      <th>RecordID</th>\n",
       "      <th>Offense</th>\n",
       "      <th>IncidentID</th>\n",
       "      <th>BlockNumber</th>\n",
       "      <th>StreetName</th>\n",
       "      <th>Agency</th>\n",
       "      <th>HourReported</th>\n",
       "      <th>ReportingOfficer</th>\n",
       "      <th>Date</th>\n",
       "      <th>DateString</th>\n",
       "      <th>DayOfWeek</th>\n",
       "      <th>Weekend</th>\n",
       "      <th>Season</th>\n",
       "      <th>HourAMPM</th>\n",
       "      <th>TimeOfDay</th>\n",
       "      <th>FullStreet</th>\n",
       "      <th>lat</th>\n",
       "      <th>lon</th>\n",
       "      <th>neighborhood</th>\n",
       "      <th>zip</th>\n",
       "    </tr>\n",
       "  </thead>\n",
       "  <tbody>\n",
       "    <tr>\n",
       "      <th>0</th>\n",
       "      <td>1</td>\n",
       "      <td>Assault Simple</td>\n",
       "      <td>202500017508</td>\n",
       "      <td>100</td>\n",
       "      <td>14TH ST NW</td>\n",
       "      <td>CPD</td>\n",
       "      <td>2108</td>\n",
       "      <td>Ritter, Kobe</td>\n",
       "      <td>2025-05-22 21:08:02</td>\n",
       "      <td>2025-05-22 09:08:02 PM</td>\n",
       "      <td>Thursday</td>\n",
       "      <td>False</td>\n",
       "      <td>Spring</td>\n",
       "      <td>09:08 PM</td>\n",
       "      <td>Night</td>\n",
       "      <td>100 14TH ST NW</td>\n",
       "      <td>38.034184</td>\n",
       "      <td>-78.499400</td>\n",
       "      <td>Venable</td>\n",
       "      <td>22903</td>\n",
       "    </tr>\n",
       "    <tr>\n",
       "      <th>1</th>\n",
       "      <td>2</td>\n",
       "      <td>Disturbance - Non Domestic</td>\n",
       "      <td>202500017505</td>\n",
       "      <td>400</td>\n",
       "      <td>RIDGE MCINTIRE RD</td>\n",
       "      <td>CPD</td>\n",
       "      <td>2029</td>\n",
       "      <td>Darby, Michael</td>\n",
       "      <td>2025-05-22 20:29:47</td>\n",
       "      <td>2025-05-22 08:29:47 PM</td>\n",
       "      <td>Thursday</td>\n",
       "      <td>False</td>\n",
       "      <td>Spring</td>\n",
       "      <td>08:29 PM</td>\n",
       "      <td>Evening</td>\n",
       "      <td>400 RIDGE MCINTIRE RD</td>\n",
       "      <td>38.032597</td>\n",
       "      <td>-78.484605</td>\n",
       "      <td>Starr Hill</td>\n",
       "      <td>22908</td>\n",
       "    </tr>\n",
       "    <tr>\n",
       "      <th>2</th>\n",
       "      <td>3</td>\n",
       "      <td>Hit and Run</td>\n",
       "      <td>202500017476</td>\n",
       "      <td>1900</td>\n",
       "      <td>THOMSON RD</td>\n",
       "      <td>CPD</td>\n",
       "      <td>1433</td>\n",
       "      <td>Turner, Devon</td>\n",
       "      <td>2025-05-22 14:33:58</td>\n",
       "      <td>2025-05-22 02:33:58 PM</td>\n",
       "      <td>Thursday</td>\n",
       "      <td>False</td>\n",
       "      <td>Spring</td>\n",
       "      <td>02:33 PM</td>\n",
       "      <td>Afternoon</td>\n",
       "      <td>1900 THOMSON RD</td>\n",
       "      <td>38.036541</td>\n",
       "      <td>-78.507851</td>\n",
       "      <td>Lewis Mountain</td>\n",
       "      <td>22908</td>\n",
       "    </tr>\n",
       "    <tr>\n",
       "      <th>3</th>\n",
       "      <td>4</td>\n",
       "      <td>Larceny - Shoplifitng</td>\n",
       "      <td>202500017462</td>\n",
       "      <td>1100</td>\n",
       "      <td>5TH ST SW</td>\n",
       "      <td>CPD</td>\n",
       "      <td>1249</td>\n",
       "      <td>Eckenroth, Rachel</td>\n",
       "      <td>2025-05-22 12:49:33</td>\n",
       "      <td>2025-05-22 12:49:33 PM</td>\n",
       "      <td>Thursday</td>\n",
       "      <td>False</td>\n",
       "      <td>Spring</td>\n",
       "      <td>12:49 PM</td>\n",
       "      <td>Afternoon</td>\n",
       "      <td>1100 5TH ST SW</td>\n",
       "      <td>38.017130</td>\n",
       "      <td>-78.497806</td>\n",
       "      <td>Johnson Village</td>\n",
       "      <td>22903</td>\n",
       "    </tr>\n",
       "    <tr>\n",
       "      <th>4</th>\n",
       "      <td>5</td>\n",
       "      <td>Assist Citizen - Mental/TDO/ECO</td>\n",
       "      <td>202500017461</td>\n",
       "      <td>1000</td>\n",
       "      <td>ALTAVISTA AVE, B</td>\n",
       "      <td>CPD</td>\n",
       "      <td>1248</td>\n",
       "      <td>Shiflett, Tammy</td>\n",
       "      <td>2025-05-22 12:48:06</td>\n",
       "      <td>2025-05-22 12:48:06 PM</td>\n",
       "      <td>Thursday</td>\n",
       "      <td>False</td>\n",
       "      <td>Spring</td>\n",
       "      <td>12:48 PM</td>\n",
       "      <td>Afternoon</td>\n",
       "      <td>1000 ALTAVISTA AVE, B</td>\n",
       "      <td>38.018135</td>\n",
       "      <td>-78.477155</td>\n",
       "      <td>Belmont</td>\n",
       "      <td>22903</td>\n",
       "    </tr>\n",
       "  </tbody>\n",
       "</table>\n",
       "</div>"
      ],
      "text/plain": [
       "   RecordID                          Offense    IncidentID BlockNumber  \\\n",
       "0         1                   Assault Simple  202500017508         100   \n",
       "1         2       Disturbance - Non Domestic  202500017505         400   \n",
       "2         3                      Hit and Run  202500017476        1900   \n",
       "3         4            Larceny - Shoplifitng  202500017462        1100   \n",
       "4         5  Assist Citizen - Mental/TDO/ECO  202500017461        1000   \n",
       "\n",
       "          StreetName Agency HourReported   ReportingOfficer  \\\n",
       "0         14TH ST NW    CPD         2108       Ritter, Kobe   \n",
       "1  RIDGE MCINTIRE RD    CPD         2029     Darby, Michael   \n",
       "2         THOMSON RD    CPD         1433      Turner, Devon   \n",
       "3          5TH ST SW    CPD         1249  Eckenroth, Rachel   \n",
       "4   ALTAVISTA AVE, B    CPD         1248    Shiflett, Tammy   \n",
       "\n",
       "                 Date              DateString DayOfWeek  Weekend  Season  \\\n",
       "0 2025-05-22 21:08:02  2025-05-22 09:08:02 PM  Thursday    False  Spring   \n",
       "1 2025-05-22 20:29:47  2025-05-22 08:29:47 PM  Thursday    False  Spring   \n",
       "2 2025-05-22 14:33:58  2025-05-22 02:33:58 PM  Thursday    False  Spring   \n",
       "3 2025-05-22 12:49:33  2025-05-22 12:49:33 PM  Thursday    False  Spring   \n",
       "4 2025-05-22 12:48:06  2025-05-22 12:48:06 PM  Thursday    False  Spring   \n",
       "\n",
       "   HourAMPM  TimeOfDay             FullStreet        lat        lon  \\\n",
       "0  09:08 PM      Night         100 14TH ST NW  38.034184 -78.499400   \n",
       "1  08:29 PM    Evening  400 RIDGE MCINTIRE RD  38.032597 -78.484605   \n",
       "2  02:33 PM  Afternoon        1900 THOMSON RD  38.036541 -78.507851   \n",
       "3  12:49 PM  Afternoon         1100 5TH ST SW  38.017130 -78.497806   \n",
       "4  12:48 PM  Afternoon  1000 ALTAVISTA AVE, B  38.018135 -78.477155   \n",
       "\n",
       "      neighborhood    zip  \n",
       "0          Venable  22903  \n",
       "1       Starr Hill  22908  \n",
       "2   Lewis Mountain  22908  \n",
       "3  Johnson Village  22903  \n",
       "4          Belmont  22903  "
      ]
     },
     "execution_count": 11,
     "metadata": {},
     "output_type": "execute_result"
    }
   ],
   "source": [
    "# Initialize the geocoder.\n",
    "geolocator = Nominatim(user_agent=\"zip_lookup\")\n",
    "\n",
    "# Try to load a persistent ZIP cache if available.\n",
    "try:\n",
    "    with open(\"zip_cache.pkl\", \"rb\") as f:\n",
    "        zip_cache = pickle.load(f)\n",
    "    print(\"Loaded zip cache.\")\n",
    "except FileNotFoundError:\n",
    "    zip_cache = {}\n",
    "    print(\"No zip cache found; starting fresh.\")\n",
    "\n",
    "def get_zip(lat, lon):\n",
    "    \"\"\"\n",
    "    Reverse geocodes a latitude and longitude to retrieve the ZIP code.\n",
    "    Caches results to speed up subsequent lookups.\n",
    "    \"\"\"\n",
    "    key = (lat, lon)\n",
    "    if key in zip_cache:\n",
    "        return zip_cache[key]\n",
    "    \n",
    "    try:\n",
    "        location = geolocator.reverse((lat, lon), exactly_one=True, timeout=10)\n",
    "        address = location.raw.get('address', {})\n",
    "        postal_code = address.get('postcode', \"N/A\")\n",
    "    except Exception as e:\n",
    "        print(f\"Error getting ZIP for {lat}, {lon}: {e}\")\n",
    "        postal_code = \"N/A\"\n",
    "    \n",
    "    zip_cache[key] = postal_code\n",
    "    # Pause to respect the usage policy.\n",
    "    time.sleep(1)\n",
    "    return postal_code\n",
    "\n",
    "# Apply the function to each row in the DataFrame.\n",
    "df['zip'] = df.apply(lambda row: get_zip(row['lat'], row['lon']), axis=1)\n",
    "\n",
    "# Save the updated ZIP cache.\n",
    "with open(\"zip_cache.pkl\", \"wb\") as f:\n",
    "    pickle.dump(zip_cache, f)\n",
    "\n",
    "df.head()\n"
   ]
  },
  {
   "cell_type": "code",
   "execution_count": 12,
   "id": "a607f73b",
   "metadata": {
    "execution": {
     "iopub.execute_input": "2025-05-25T01:09:50.036831Z",
     "iopub.status.busy": "2025-05-25T01:09:50.036460Z",
     "iopub.status.idle": "2025-05-25T01:09:50.060710Z",
     "shell.execute_reply": "2025-05-25T01:09:50.060019Z"
    },
    "papermill": {
     "duration": 0.032811,
     "end_time": "2025-05-25T01:09:50.061718",
     "exception": false,
     "start_time": "2025-05-25T01:09:50.028907",
     "status": "completed"
    },
    "tags": []
   },
   "outputs": [
    {
     "name": "stdout",
     "output_type": "stream",
     "text": [
      "                  MissingCount  MissingPercentage\n",
      "RecordID                     0               0.00\n",
      "Offense                      0               0.00\n",
      "IncidentID                   0               0.00\n",
      "BlockNumber                  0               0.00\n",
      "StreetName                   0               0.00\n",
      "Agency                       0               0.00\n",
      "HourReported                 0               0.00\n",
      "ReportingOfficer            17               0.07\n",
      "Date                         0               0.00\n",
      "DateString                   0               0.00\n",
      "DayOfWeek                    0               0.00\n",
      "Weekend                      0               0.00\n",
      "Season                       0               0.00\n",
      "HourAMPM                     0               0.00\n",
      "TimeOfDay                    0               0.00\n",
      "FullStreet                   0               0.00\n",
      "lat                          0               0.00\n",
      "lon                          0               0.00\n",
      "neighborhood                 0               0.00\n",
      "zip                          0               0.00\n"
     ]
    }
   ],
   "source": [
    "missing_info = missing_percentage(df)\n",
    "print(missing_info)\n"
   ]
  },
  {
   "cell_type": "code",
   "execution_count": 13,
   "id": "2bb84f5e",
   "metadata": {
    "execution": {
     "iopub.execute_input": "2025-05-25T01:09:50.076541Z",
     "iopub.status.busy": "2025-05-25T01:09:50.076113Z",
     "iopub.status.idle": "2025-05-25T01:09:50.100327Z",
     "shell.execute_reply": "2025-05-25T01:09:50.099776Z"
    },
    "papermill": {
     "duration": 0.032658,
     "end_time": "2025-05-25T01:09:50.101339",
     "exception": false,
     "start_time": "2025-05-25T01:09:50.068681",
     "status": "completed"
    },
    "tags": []
   },
   "outputs": [
    {
     "name": "stdout",
     "output_type": "stream",
     "text": [
      "<class 'pandas.core.frame.DataFrame'>\n",
      "RangeIndex: 25431 entries, 0 to 25430\n",
      "Data columns (total 20 columns):\n",
      " #   Column            Non-Null Count  Dtype         \n",
      "---  ------            --------------  -----         \n",
      " 0   RecordID          25431 non-null  int64         \n",
      " 1   Offense           25431 non-null  object        \n",
      " 2   IncidentID        25431 non-null  object        \n",
      " 3   BlockNumber       25431 non-null  object        \n",
      " 4   StreetName        25431 non-null  object        \n",
      " 5   Agency            25431 non-null  object        \n",
      " 6   HourReported      25431 non-null  object        \n",
      " 7   ReportingOfficer  25414 non-null  object        \n",
      " 8   Date              25431 non-null  datetime64[ns]\n",
      " 9   DateString        25431 non-null  object        \n",
      " 10  DayOfWeek         25431 non-null  object        \n",
      " 11  Weekend           25431 non-null  bool          \n",
      " 12  Season            25431 non-null  object        \n",
      " 13  HourAMPM          25431 non-null  object        \n",
      " 14  TimeOfDay         25431 non-null  object        \n",
      " 15  FullStreet        25431 non-null  object        \n",
      " 16  lat               25431 non-null  float64       \n",
      " 17  lon               25431 non-null  float64       \n",
      " 18  neighborhood      25431 non-null  object        \n",
      " 19  zip               25431 non-null  object        \n",
      "dtypes: bool(1), datetime64[ns](1), float64(2), int64(1), object(15)\n",
      "memory usage: 3.7+ MB\n"
     ]
    }
   ],
   "source": [
    "df.info()"
   ]
  },
  {
   "cell_type": "code",
   "execution_count": 14,
   "id": "876f3c84",
   "metadata": {
    "execution": {
     "iopub.execute_input": "2025-05-25T01:09:50.116496Z",
     "iopub.status.busy": "2025-05-25T01:09:50.116014Z",
     "iopub.status.idle": "2025-05-25T01:09:50.153900Z",
     "shell.execute_reply": "2025-05-25T01:09:50.153329Z"
    },
    "papermill": {
     "duration": 0.046499,
     "end_time": "2025-05-25T01:09:50.154985",
     "exception": false,
     "start_time": "2025-05-25T01:09:50.108486",
     "status": "completed"
    },
    "tags": []
   },
   "outputs": [
    {
     "data": {
      "text/html": [
       "<div>\n",
       "<style scoped>\n",
       "    .dataframe tbody tr th:only-of-type {\n",
       "        vertical-align: middle;\n",
       "    }\n",
       "\n",
       "    .dataframe tbody tr th {\n",
       "        vertical-align: top;\n",
       "    }\n",
       "\n",
       "    .dataframe thead th {\n",
       "        text-align: right;\n",
       "    }\n",
       "</style>\n",
       "<table border=\"1\" class=\"dataframe\">\n",
       "  <thead>\n",
       "    <tr style=\"text-align: right;\">\n",
       "      <th></th>\n",
       "      <th>RecordID</th>\n",
       "      <th>Offense</th>\n",
       "      <th>IncidentID</th>\n",
       "      <th>Agency</th>\n",
       "      <th>ReportingOfficer</th>\n",
       "      <th>Date</th>\n",
       "      <th>DayOfWeek</th>\n",
       "      <th>Weekend</th>\n",
       "      <th>Season</th>\n",
       "      <th>TimeOfDay</th>\n",
       "      <th>FullStreet</th>\n",
       "      <th>lat</th>\n",
       "      <th>lon</th>\n",
       "      <th>neighborhood</th>\n",
       "      <th>zip</th>\n",
       "    </tr>\n",
       "  </thead>\n",
       "  <tbody>\n",
       "    <tr>\n",
       "      <th>0</th>\n",
       "      <td>1</td>\n",
       "      <td>Assault Simple</td>\n",
       "      <td>202500017508</td>\n",
       "      <td>CPD</td>\n",
       "      <td>Ritter, Kobe</td>\n",
       "      <td>2025-05-22 21:08:02</td>\n",
       "      <td>Thursday</td>\n",
       "      <td>False</td>\n",
       "      <td>Spring</td>\n",
       "      <td>Night</td>\n",
       "      <td>100 14TH ST NW</td>\n",
       "      <td>38.034184</td>\n",
       "      <td>-78.499400</td>\n",
       "      <td>Venable</td>\n",
       "      <td>22903</td>\n",
       "    </tr>\n",
       "    <tr>\n",
       "      <th>1</th>\n",
       "      <td>2</td>\n",
       "      <td>Disturbance - Non Domestic</td>\n",
       "      <td>202500017505</td>\n",
       "      <td>CPD</td>\n",
       "      <td>Darby, Michael</td>\n",
       "      <td>2025-05-22 20:29:47</td>\n",
       "      <td>Thursday</td>\n",
       "      <td>False</td>\n",
       "      <td>Spring</td>\n",
       "      <td>Evening</td>\n",
       "      <td>400 RIDGE MCINTIRE RD</td>\n",
       "      <td>38.032597</td>\n",
       "      <td>-78.484605</td>\n",
       "      <td>Starr Hill</td>\n",
       "      <td>22908</td>\n",
       "    </tr>\n",
       "    <tr>\n",
       "      <th>2</th>\n",
       "      <td>3</td>\n",
       "      <td>Hit and Run</td>\n",
       "      <td>202500017476</td>\n",
       "      <td>CPD</td>\n",
       "      <td>Turner, Devon</td>\n",
       "      <td>2025-05-22 14:33:58</td>\n",
       "      <td>Thursday</td>\n",
       "      <td>False</td>\n",
       "      <td>Spring</td>\n",
       "      <td>Afternoon</td>\n",
       "      <td>1900 THOMSON RD</td>\n",
       "      <td>38.036541</td>\n",
       "      <td>-78.507851</td>\n",
       "      <td>Lewis Mountain</td>\n",
       "      <td>22908</td>\n",
       "    </tr>\n",
       "    <tr>\n",
       "      <th>3</th>\n",
       "      <td>4</td>\n",
       "      <td>Larceny - Shoplifitng</td>\n",
       "      <td>202500017462</td>\n",
       "      <td>CPD</td>\n",
       "      <td>Eckenroth, Rachel</td>\n",
       "      <td>2025-05-22 12:49:33</td>\n",
       "      <td>Thursday</td>\n",
       "      <td>False</td>\n",
       "      <td>Spring</td>\n",
       "      <td>Afternoon</td>\n",
       "      <td>1100 5TH ST SW</td>\n",
       "      <td>38.017130</td>\n",
       "      <td>-78.497806</td>\n",
       "      <td>Johnson Village</td>\n",
       "      <td>22903</td>\n",
       "    </tr>\n",
       "    <tr>\n",
       "      <th>4</th>\n",
       "      <td>5</td>\n",
       "      <td>Assist Citizen - Mental/TDO/ECO</td>\n",
       "      <td>202500017461</td>\n",
       "      <td>CPD</td>\n",
       "      <td>Shiflett, Tammy</td>\n",
       "      <td>2025-05-22 12:48:06</td>\n",
       "      <td>Thursday</td>\n",
       "      <td>False</td>\n",
       "      <td>Spring</td>\n",
       "      <td>Afternoon</td>\n",
       "      <td>1000 ALTAVISTA AVE, B</td>\n",
       "      <td>38.018135</td>\n",
       "      <td>-78.477155</td>\n",
       "      <td>Belmont</td>\n",
       "      <td>22903</td>\n",
       "    </tr>\n",
       "  </tbody>\n",
       "</table>\n",
       "</div>"
      ],
      "text/plain": [
       "   RecordID                          Offense    IncidentID Agency  \\\n",
       "0         1                   Assault Simple  202500017508    CPD   \n",
       "1         2       Disturbance - Non Domestic  202500017505    CPD   \n",
       "2         3                      Hit and Run  202500017476    CPD   \n",
       "3         4            Larceny - Shoplifitng  202500017462    CPD   \n",
       "4         5  Assist Citizen - Mental/TDO/ECO  202500017461    CPD   \n",
       "\n",
       "    ReportingOfficer                Date DayOfWeek  Weekend  Season  \\\n",
       "0       Ritter, Kobe 2025-05-22 21:08:02  Thursday    False  Spring   \n",
       "1     Darby, Michael 2025-05-22 20:29:47  Thursday    False  Spring   \n",
       "2      Turner, Devon 2025-05-22 14:33:58  Thursday    False  Spring   \n",
       "3  Eckenroth, Rachel 2025-05-22 12:49:33  Thursday    False  Spring   \n",
       "4    Shiflett, Tammy 2025-05-22 12:48:06  Thursday    False  Spring   \n",
       "\n",
       "   TimeOfDay             FullStreet        lat        lon     neighborhood  \\\n",
       "0      Night         100 14TH ST NW  38.034184 -78.499400          Venable   \n",
       "1    Evening  400 RIDGE MCINTIRE RD  38.032597 -78.484605       Starr Hill   \n",
       "2  Afternoon        1900 THOMSON RD  38.036541 -78.507851   Lewis Mountain   \n",
       "3  Afternoon         1100 5TH ST SW  38.017130 -78.497806  Johnson Village   \n",
       "4  Afternoon  1000 ALTAVISTA AVE, B  38.018135 -78.477155          Belmont   \n",
       "\n",
       "     zip  \n",
       "0  22903  \n",
       "1  22908  \n",
       "2  22908  \n",
       "3  22903  \n",
       "4  22903  "
      ]
     },
     "execution_count": 14,
     "metadata": {},
     "output_type": "execute_result"
    }
   ],
   "source": [
    "# Now drop the original BlockNumber and StreetName columns\n",
    "df.drop(columns=['BlockNumber', 'StreetName','HourAMPM','HourReported','DateString'], inplace=True)\n",
    "df[\"zip\"] = df[\"zip\"].astype(str)\n",
    "\n",
    "# Fill all missing values in the DataFrame with \"N/A\"\n",
    "df.replace({None: \"N/A\", np.nan: \"N/A\", \"\": \"N/A\"}, inplace=True)\n",
    "df.head()"
   ]
  },
  {
   "cell_type": "code",
   "execution_count": 15,
   "id": "33353f5a",
   "metadata": {
    "execution": {
     "iopub.execute_input": "2025-05-25T01:09:50.170627Z",
     "iopub.status.busy": "2025-05-25T01:09:50.170393Z",
     "iopub.status.idle": "2025-05-25T01:09:50.184646Z",
     "shell.execute_reply": "2025-05-25T01:09:50.184096Z"
    },
    "papermill": {
     "duration": 0.023177,
     "end_time": "2025-05-25T01:09:50.185694",
     "exception": false,
     "start_time": "2025-05-25T01:09:50.162517",
     "status": "completed"
    },
    "tags": []
   },
   "outputs": [
    {
     "name": "stdout",
     "output_type": "stream",
     "text": [
      "                  MissingCount  MissingPercentage\n",
      "RecordID                     0                0.0\n",
      "Offense                      0                0.0\n",
      "IncidentID                   0                0.0\n",
      "Agency                       0                0.0\n",
      "ReportingOfficer             0                0.0\n",
      "Date                         0                0.0\n",
      "DayOfWeek                    0                0.0\n",
      "Weekend                      0                0.0\n",
      "Season                       0                0.0\n",
      "TimeOfDay                    0                0.0\n",
      "FullStreet                   0                0.0\n",
      "lat                          0                0.0\n",
      "lon                          0                0.0\n",
      "neighborhood                 0                0.0\n",
      "zip                          0                0.0\n"
     ]
    }
   ],
   "source": [
    "missing_info = missing_percentage(df)\n",
    "print(missing_info)"
   ]
  },
  {
   "cell_type": "code",
   "execution_count": 16,
   "id": "db2a321d",
   "metadata": {
    "execution": {
     "iopub.execute_input": "2025-05-25T01:09:50.201277Z",
     "iopub.status.busy": "2025-05-25T01:09:50.200834Z",
     "iopub.status.idle": "2025-05-25T01:09:50.205378Z",
     "shell.execute_reply": "2025-05-25T01:09:50.204814Z"
    },
    "papermill": {
     "duration": 0.01343,
     "end_time": "2025-05-25T01:09:50.206381",
     "exception": false,
     "start_time": "2025-05-25T01:09:50.192951",
     "status": "completed"
    },
    "tags": []
   },
   "outputs": [
    {
     "data": {
      "text/plain": [
       "Index(['RecordID', 'Offense', 'IncidentID', 'Agency', 'ReportingOfficer',\n",
       "       'Date', 'DayOfWeek', 'Weekend', 'Season', 'TimeOfDay', 'FullStreet',\n",
       "       'lat', 'lon', 'neighborhood', 'zip'],\n",
       "      dtype='object')"
      ]
     },
     "execution_count": 16,
     "metadata": {},
     "output_type": "execute_result"
    }
   ],
   "source": [
    "df.columns"
   ]
  },
  {
   "cell_type": "code",
   "execution_count": 17,
   "id": "143d338f",
   "metadata": {
    "execution": {
     "iopub.execute_input": "2025-05-25T01:09:50.222038Z",
     "iopub.status.busy": "2025-05-25T01:09:50.221653Z",
     "iopub.status.idle": "2025-05-25T01:09:50.237702Z",
     "shell.execute_reply": "2025-05-25T01:09:50.237029Z"
    },
    "papermill": {
     "duration": 0.025,
     "end_time": "2025-05-25T01:09:50.238775",
     "exception": false,
     "start_time": "2025-05-25T01:09:50.213775",
     "status": "completed"
    },
    "tags": []
   },
   "outputs": [
    {
     "name": "stdout",
     "output_type": "stream",
     "text": [
      "<class 'pandas.core.frame.DataFrame'>\n",
      "RangeIndex: 25431 entries, 0 to 25430\n",
      "Data columns (total 15 columns):\n",
      " #   Column            Non-Null Count  Dtype         \n",
      "---  ------            --------------  -----         \n",
      " 0   RecordID          25431 non-null  int64         \n",
      " 1   Offense           25431 non-null  object        \n",
      " 2   IncidentID        25431 non-null  object        \n",
      " 3   Agency            25431 non-null  object        \n",
      " 4   ReportingOfficer  25431 non-null  object        \n",
      " 5   Date              25431 non-null  datetime64[ns]\n",
      " 6   DayOfWeek         25431 non-null  object        \n",
      " 7   Weekend           25431 non-null  bool          \n",
      " 8   Season            25431 non-null  object        \n",
      " 9   TimeOfDay         25431 non-null  object        \n",
      " 10  FullStreet        25431 non-null  object        \n",
      " 11  lat               25431 non-null  float64       \n",
      " 12  lon               25431 non-null  float64       \n",
      " 13  neighborhood      25431 non-null  object        \n",
      " 14  zip               25431 non-null  object        \n",
      "dtypes: bool(1), datetime64[ns](1), float64(2), int64(1), object(10)\n",
      "memory usage: 2.7+ MB\n"
     ]
    }
   ],
   "source": [
    "df.info()"
   ]
  },
  {
   "cell_type": "markdown",
   "id": "cd67430d",
   "metadata": {
    "papermill": {
     "duration": 0.007304,
     "end_time": "2025-05-25T01:09:50.253574",
     "exception": false,
     "start_time": "2025-05-25T01:09:50.246270",
     "status": "completed"
    },
    "tags": []
   },
   "source": [
    "### Export Clean Data"
   ]
  },
  {
   "cell_type": "code",
   "execution_count": 18,
   "id": "5f2a5ead",
   "metadata": {
    "execution": {
     "iopub.execute_input": "2025-05-25T01:09:50.269421Z",
     "iopub.status.busy": "2025-05-25T01:09:50.269012Z",
     "iopub.status.idle": "2025-05-25T01:09:59.258136Z",
     "shell.execute_reply": "2025-05-25T01:09:59.257458Z"
    },
    "papermill": {
     "duration": 8.998205,
     "end_time": "2025-05-25T01:09:59.259260",
     "exception": false,
     "start_time": "2025-05-25T01:09:50.261055",
     "status": "completed"
    },
    "tags": []
   },
   "outputs": [
    {
     "name": "stdout",
     "output_type": "stream",
     "text": [
      "Project Root: /home/runner/work/crime-data/crime-data\n"
     ]
    },
    {
     "name": "stdout",
     "output_type": "stream",
     "text": [
      "Data saved to: /home/runner/work/crime-data/crime-data/data/charlottesville_crime_incidents.csv\n"
     ]
    },
    {
     "name": "stdout",
     "output_type": "stream",
     "text": [
      "Excel saved to: /home/runner/work/crime-data/crime-data/data/charlottesville_crime_incidents.xlsx\n"
     ]
    }
   ],
   "source": [
    "# Determine the project root (assuming papermill is run from the repository root)\n",
    "project_root = os.getcwd()\n",
    "print(\"Project Root:\", project_root)\n",
    "\n",
    "# Set the data directory within the project root\n",
    "data_dir = os.path.join(project_root, \"data\")\n",
    "\n",
    "# Ensure the \"data\" directory exists (create it if it doesn't)\n",
    "if not os.path.exists(data_dir):\n",
    "    os.makedirs(data_dir)\n",
    "\n",
    "# Export the DataFrame to CSV in the \"data\" folder located in the project root\n",
    "csv_path = os.path.join(data_dir, \"charlottesville_crime_incidents.csv\")\n",
    "df.to_csv(csv_path, index=False)\n",
    "print(\"Data saved to:\", csv_path)\n",
    "\n",
    "# Construct the path to your Excel file\n",
    "excel_path = os.path.join(data_dir, \"charlottesville_crime_incidents.xlsx\")\n",
    "\n",
    "# Export the DataFrame to Excel\n",
    "df.to_excel(excel_path, index=False)\n",
    "print(\"Excel saved to:\", excel_path)\n"
   ]
  },
  {
   "cell_type": "markdown",
   "id": "ae48d695",
   "metadata": {
    "papermill": {
     "duration": 0.007579,
     "end_time": "2025-05-25T01:09:59.274959",
     "exception": false,
     "start_time": "2025-05-25T01:09:59.267380",
     "status": "completed"
    },
    "tags": []
   },
   "source": [
    "## Predictive Analytics"
   ]
  },
  {
   "cell_type": "code",
   "execution_count": 19,
   "id": "f92a3f24",
   "metadata": {
    "execution": {
     "iopub.execute_input": "2025-05-25T01:09:59.291086Z",
     "iopub.status.busy": "2025-05-25T01:09:59.290668Z",
     "iopub.status.idle": "2025-05-25T01:09:59.302221Z",
     "shell.execute_reply": "2025-05-25T01:09:59.301581Z"
    },
    "papermill": {
     "duration": 0.020734,
     "end_time": "2025-05-25T01:09:59.303237",
     "exception": false,
     "start_time": "2025-05-25T01:09:59.282503",
     "status": "completed"
    },
    "tags": []
   },
   "outputs": [
    {
     "data": {
      "text/html": [
       "<div>\n",
       "<style scoped>\n",
       "    .dataframe tbody tr th:only-of-type {\n",
       "        vertical-align: middle;\n",
       "    }\n",
       "\n",
       "    .dataframe tbody tr th {\n",
       "        vertical-align: top;\n",
       "    }\n",
       "\n",
       "    .dataframe thead th {\n",
       "        text-align: right;\n",
       "    }\n",
       "</style>\n",
       "<table border=\"1\" class=\"dataframe\">\n",
       "  <thead>\n",
       "    <tr style=\"text-align: right;\">\n",
       "      <th></th>\n",
       "      <th>RecordID</th>\n",
       "      <th>Offense</th>\n",
       "      <th>IncidentID</th>\n",
       "      <th>Agency</th>\n",
       "      <th>ReportingOfficer</th>\n",
       "      <th>Date</th>\n",
       "      <th>DayOfWeek</th>\n",
       "      <th>Weekend</th>\n",
       "      <th>Season</th>\n",
       "      <th>TimeOfDay</th>\n",
       "      <th>FullStreet</th>\n",
       "      <th>lat</th>\n",
       "      <th>lon</th>\n",
       "      <th>neighborhood</th>\n",
       "      <th>zip</th>\n",
       "    </tr>\n",
       "  </thead>\n",
       "  <tbody>\n",
       "    <tr>\n",
       "      <th>0</th>\n",
       "      <td>1</td>\n",
       "      <td>Assault Simple</td>\n",
       "      <td>202500017508</td>\n",
       "      <td>CPD</td>\n",
       "      <td>Ritter, Kobe</td>\n",
       "      <td>2025-05-22 21:08:02</td>\n",
       "      <td>Thursday</td>\n",
       "      <td>False</td>\n",
       "      <td>Spring</td>\n",
       "      <td>Night</td>\n",
       "      <td>100 14TH ST NW</td>\n",
       "      <td>38.034184</td>\n",
       "      <td>-78.499400</td>\n",
       "      <td>Venable</td>\n",
       "      <td>22903</td>\n",
       "    </tr>\n",
       "    <tr>\n",
       "      <th>1</th>\n",
       "      <td>2</td>\n",
       "      <td>Disturbance - Non Domestic</td>\n",
       "      <td>202500017505</td>\n",
       "      <td>CPD</td>\n",
       "      <td>Darby, Michael</td>\n",
       "      <td>2025-05-22 20:29:47</td>\n",
       "      <td>Thursday</td>\n",
       "      <td>False</td>\n",
       "      <td>Spring</td>\n",
       "      <td>Evening</td>\n",
       "      <td>400 RIDGE MCINTIRE RD</td>\n",
       "      <td>38.032597</td>\n",
       "      <td>-78.484605</td>\n",
       "      <td>Starr Hill</td>\n",
       "      <td>22908</td>\n",
       "    </tr>\n",
       "    <tr>\n",
       "      <th>2</th>\n",
       "      <td>3</td>\n",
       "      <td>Hit and Run</td>\n",
       "      <td>202500017476</td>\n",
       "      <td>CPD</td>\n",
       "      <td>Turner, Devon</td>\n",
       "      <td>2025-05-22 14:33:58</td>\n",
       "      <td>Thursday</td>\n",
       "      <td>False</td>\n",
       "      <td>Spring</td>\n",
       "      <td>Afternoon</td>\n",
       "      <td>1900 THOMSON RD</td>\n",
       "      <td>38.036541</td>\n",
       "      <td>-78.507851</td>\n",
       "      <td>Lewis Mountain</td>\n",
       "      <td>22908</td>\n",
       "    </tr>\n",
       "    <tr>\n",
       "      <th>3</th>\n",
       "      <td>4</td>\n",
       "      <td>Larceny - Shoplifitng</td>\n",
       "      <td>202500017462</td>\n",
       "      <td>CPD</td>\n",
       "      <td>Eckenroth, Rachel</td>\n",
       "      <td>2025-05-22 12:49:33</td>\n",
       "      <td>Thursday</td>\n",
       "      <td>False</td>\n",
       "      <td>Spring</td>\n",
       "      <td>Afternoon</td>\n",
       "      <td>1100 5TH ST SW</td>\n",
       "      <td>38.017130</td>\n",
       "      <td>-78.497806</td>\n",
       "      <td>Johnson Village</td>\n",
       "      <td>22903</td>\n",
       "    </tr>\n",
       "    <tr>\n",
       "      <th>4</th>\n",
       "      <td>5</td>\n",
       "      <td>Assist Citizen - Mental/TDO/ECO</td>\n",
       "      <td>202500017461</td>\n",
       "      <td>CPD</td>\n",
       "      <td>Shiflett, Tammy</td>\n",
       "      <td>2025-05-22 12:48:06</td>\n",
       "      <td>Thursday</td>\n",
       "      <td>False</td>\n",
       "      <td>Spring</td>\n",
       "      <td>Afternoon</td>\n",
       "      <td>1000 ALTAVISTA AVE, B</td>\n",
       "      <td>38.018135</td>\n",
       "      <td>-78.477155</td>\n",
       "      <td>Belmont</td>\n",
       "      <td>22903</td>\n",
       "    </tr>\n",
       "  </tbody>\n",
       "</table>\n",
       "</div>"
      ],
      "text/plain": [
       "   RecordID                          Offense    IncidentID Agency  \\\n",
       "0         1                   Assault Simple  202500017508    CPD   \n",
       "1         2       Disturbance - Non Domestic  202500017505    CPD   \n",
       "2         3                      Hit and Run  202500017476    CPD   \n",
       "3         4            Larceny - Shoplifitng  202500017462    CPD   \n",
       "4         5  Assist Citizen - Mental/TDO/ECO  202500017461    CPD   \n",
       "\n",
       "    ReportingOfficer                Date DayOfWeek  Weekend  Season  \\\n",
       "0       Ritter, Kobe 2025-05-22 21:08:02  Thursday    False  Spring   \n",
       "1     Darby, Michael 2025-05-22 20:29:47  Thursday    False  Spring   \n",
       "2      Turner, Devon 2025-05-22 14:33:58  Thursday    False  Spring   \n",
       "3  Eckenroth, Rachel 2025-05-22 12:49:33  Thursday    False  Spring   \n",
       "4    Shiflett, Tammy 2025-05-22 12:48:06  Thursday    False  Spring   \n",
       "\n",
       "   TimeOfDay             FullStreet        lat        lon     neighborhood  \\\n",
       "0      Night         100 14TH ST NW  38.034184 -78.499400          Venable   \n",
       "1    Evening  400 RIDGE MCINTIRE RD  38.032597 -78.484605       Starr Hill   \n",
       "2  Afternoon        1900 THOMSON RD  38.036541 -78.507851   Lewis Mountain   \n",
       "3  Afternoon         1100 5TH ST SW  38.017130 -78.497806  Johnson Village   \n",
       "4  Afternoon  1000 ALTAVISTA AVE, B  38.018135 -78.477155          Belmont   \n",
       "\n",
       "     zip  \n",
       "0  22903  \n",
       "1  22908  \n",
       "2  22908  \n",
       "3  22903  \n",
       "4  22903  "
      ]
     },
     "execution_count": 19,
     "metadata": {},
     "output_type": "execute_result"
    }
   ],
   "source": [
    "df.head()"
   ]
  },
  {
   "cell_type": "code",
   "execution_count": 20,
   "id": "4c3dac04",
   "metadata": {
    "execution": {
     "iopub.execute_input": "2025-05-25T01:09:59.319964Z",
     "iopub.status.busy": "2025-05-25T01:09:59.319480Z",
     "iopub.status.idle": "2025-05-25T01:09:59.323894Z",
     "shell.execute_reply": "2025-05-25T01:09:59.323354Z"
    },
    "papermill": {
     "duration": 0.013848,
     "end_time": "2025-05-25T01:09:59.324935",
     "exception": false,
     "start_time": "2025-05-25T01:09:59.311087",
     "status": "completed"
    },
    "tags": []
   },
   "outputs": [
    {
     "data": {
      "text/plain": [
       "Index(['RecordID', 'Offense', 'IncidentID', 'Agency', 'ReportingOfficer',\n",
       "       'Date', 'DayOfWeek', 'Weekend', 'Season', 'TimeOfDay', 'FullStreet',\n",
       "       'lat', 'lon', 'neighborhood', 'zip'],\n",
       "      dtype='object')"
      ]
     },
     "execution_count": 20,
     "metadata": {},
     "output_type": "execute_result"
    }
   ],
   "source": [
    "df.columns"
   ]
  },
  {
   "cell_type": "markdown",
   "id": "c746cc81",
   "metadata": {
    "papermill": {
     "duration": 0.007824,
     "end_time": "2025-05-25T01:09:59.340790",
     "exception": false,
     "start_time": "2025-05-25T01:09:59.332966",
     "status": "completed"
    },
    "tags": []
   },
   "source": [
    "### Data Preparation\n",
    "\n",
    "We need to ensure the data is in the correct format for modeling and can handle missing values, categorical variables, and dates. Here's how to prepare your data:"
   ]
  },
  {
   "cell_type": "code",
   "execution_count": 21,
   "id": "e1fe0e22",
   "metadata": {
    "execution": {
     "iopub.execute_input": "2025-05-25T01:09:59.357716Z",
     "iopub.status.busy": "2025-05-25T01:09:59.357247Z",
     "iopub.status.idle": "2025-05-25T01:10:00.802675Z",
     "shell.execute_reply": "2025-05-25T01:10:00.801937Z"
    },
    "papermill": {
     "duration": 1.455316,
     "end_time": "2025-05-25T01:10:00.804026",
     "exception": false,
     "start_time": "2025-05-25T01:09:59.348710",
     "status": "completed"
    },
    "tags": []
   },
   "outputs": [],
   "source": [
    "import pandas as pd\n",
    "from sklearn.model_selection import train_test_split\n",
    "from sklearn.preprocessing import OneHotEncoder, LabelEncoder\n",
    "from sklearn.ensemble import RandomForestClassifier\n",
    "from sklearn.linear_model import LogisticRegression\n",
    "from sklearn.tree import DecisionTreeClassifier\n",
    "from sklearn.metrics import classification_report, accuracy_score\n",
    "import seaborn as sns\n",
    "import matplotlib.pyplot as plt\n",
    "\n",
    "# Convert 'Date' to datetime\n",
    "df['Date'] = pd.to_datetime(df['Date'])\n",
    "\n",
    "# Feature engineering: Extract additional time-based features\n",
    "df['Year'] = df['Date'].dt.year\n",
    "df['Month'] = df['Date'].dt.month\n",
    "df['DayOfMonth'] = df['Date'].dt.day\n",
    "\n",
    "# One-hot encoding for 'FullStreet', 'neighborhood', 'zip'\n",
    "df = pd.get_dummies(df, columns=['FullStreet', 'neighborhood', 'zip'], drop_first=True)\n",
    "\n",
    "# Label encoding for ordered variables (those with a natural order like 'DayOfWeek', 'Season', 'TimeOfDay')\n",
    "label_encoders = {}\n",
    "for column in ['DayOfWeek', 'Season', 'TimeOfDay', 'Agency', 'ReportingOfficer']:  # Example ordinal variables\n",
    "    le = LabelEncoder()\n",
    "    df[column] = le.fit_transform(df[column])\n",
    "    label_encoders[column] = le\n",
    "\n",
    "# Filter the dataset to include only the offenses of interest\n",
    "offenses_of_interest = [\n",
    "    'Hit and Run', 'Assault Simple', 'Suspicious Activity', 'Vandalism', \n",
    "    'Larceny - From Mot Vehicle', 'Larceny - All Other', \n",
    "    'Assist Citizen - Mental/TDO/ECO', 'Lost/FoundProperty'\n",
    "]\n",
    "\n",
    "df = df[df['Offense'].isin(offenses_of_interest)]\n",
    "\n",
    "# Label encode the target variable (Offense)\n",
    "offense_encoder = LabelEncoder()\n",
    "df['Offense'] = offense_encoder.fit_transform(df['Offense'])\n",
    "\n",
    "# Separate features (X) and target (y)\n",
    "X = df[['Year', 'Month', 'DayOfMonth', 'DayOfWeek', 'Weekend', 'Season', 'TimeOfDay', 'lat', 'lon', 'Agency', 'ReportingOfficer']]\n",
    "y = df['Offense']  # Offense is now the encoded target variable\n",
    "\n",
    "# Split the data into training and testing sets\n",
    "X_train, X_test, y_train, y_test = train_test_split(X, y, test_size=0.3, random_state=42)\n"
   ]
  },
  {
   "cell_type": "markdown",
   "id": "a695f05f",
   "metadata": {
    "papermill": {
     "duration": 0.007947,
     "end_time": "2025-05-25T01:10:00.820452",
     "exception": false,
     "start_time": "2025-05-25T01:10:00.812505",
     "status": "completed"
    },
    "tags": []
   },
   "source": [
    "### Model Training\n",
    "\n",
    "Here we will train several models (e.g., Random Forest, Logistic Regression, and Decision Tree). We will use cross-validation to choose the best model based on accuracy, and then explain the impact of the variables."
   ]
  },
  {
   "cell_type": "code",
   "execution_count": 22,
   "id": "0de7fca0",
   "metadata": {
    "execution": {
     "iopub.execute_input": "2025-05-25T01:10:00.837544Z",
     "iopub.status.busy": "2025-05-25T01:10:00.836971Z",
     "iopub.status.idle": "2025-05-25T01:10:04.294658Z",
     "shell.execute_reply": "2025-05-25T01:10:04.294037Z"
    },
    "papermill": {
     "duration": 3.467341,
     "end_time": "2025-05-25T01:10:04.295649",
     "exception": false,
     "start_time": "2025-05-25T01:10:00.828308",
     "status": "completed"
    },
    "tags": []
   },
   "outputs": [
    {
     "name": "stderr",
     "output_type": "stream",
     "text": [
      "/opt/hostedtoolcache/Python/3.9.22/x64/lib/python3.9/site-packages/sklearn/linear_model/_logistic.py:465: ConvergenceWarning: lbfgs failed to converge (status=1):\n",
      "STOP: TOTAL NO. of ITERATIONS REACHED LIMIT.\n",
      "\n",
      "Increase the number of iterations (max_iter) or scale the data as shown in:\n",
      "    https://scikit-learn.org/stable/modules/preprocessing.html\n",
      "Please also refer to the documentation for alternative solver options:\n",
      "    https://scikit-learn.org/stable/modules/linear_model.html#logistic-regression\n",
      "  n_iter_i = _check_optimize_result(\n",
      "/opt/hostedtoolcache/Python/3.9.22/x64/lib/python3.9/site-packages/sklearn/metrics/_classification.py:1565: UndefinedMetricWarning: Precision is ill-defined and being set to 0.0 in labels with no predicted samples. Use `zero_division` parameter to control this behavior.\n",
      "  _warn_prf(average, modifier, f\"{metric.capitalize()} is\", len(result))\n",
      "/opt/hostedtoolcache/Python/3.9.22/x64/lib/python3.9/site-packages/sklearn/metrics/_classification.py:1565: UndefinedMetricWarning: Precision is ill-defined and being set to 0.0 in labels with no predicted samples. Use `zero_division` parameter to control this behavior.\n",
      "  _warn_prf(average, modifier, f\"{metric.capitalize()} is\", len(result))\n",
      "/opt/hostedtoolcache/Python/3.9.22/x64/lib/python3.9/site-packages/sklearn/metrics/_classification.py:1565: UndefinedMetricWarning: Precision is ill-defined and being set to 0.0 in labels with no predicted samples. Use `zero_division` parameter to control this behavior.\n",
      "  _warn_prf(average, modifier, f\"{metric.capitalize()} is\", len(result))\n"
     ]
    },
    {
     "name": "stdout",
     "output_type": "stream",
     "text": [
      "\n",
      "Classification Report for All Models:\n",
      "\n",
      "Model: RandomForest\n",
      "Accuracy: 0.2825\n",
      "              precision    recall  f1-score      support\n",
      "0              0.297101  0.341098  0.317583   601.000000\n",
      "1              0.305322  0.251152  0.275601   434.000000\n",
      "2              0.293307  0.464899  0.359686   641.000000\n",
      "3              0.177378  0.155056  0.165468   445.000000\n",
      "4              0.309735  0.201729  0.244328   347.000000\n",
      "5              0.237762  0.206897  0.221258   493.000000\n",
      "6              0.347258  0.251418  0.291667   529.000000\n",
      "accuracy       0.282521  0.282521  0.282521     0.282521\n",
      "macro avg      0.281123  0.267464  0.267941  3490.000000\n",
      "weighted avg   0.282638  0.282521  0.275881  3490.000000\n"
     ]
    },
    {
     "data": {
      "image/png": "[encoded data removed]",
      "text/plain": [
       "<Figure size 800x600 with 2 Axes>"
      ]
     },
     "metadata": {},
     "output_type": "display_data"
    },
    {
     "name": "stdout",
     "output_type": "stream",
     "text": [
      "\n",
      "Model: LogisticRegression\n",
      "Accuracy: 0.2135\n",
      "              precision    recall  f1-score      support\n",
      "0              0.224036  0.502496  0.309903   601.000000\n",
      "1              0.000000  0.000000  0.000000   434.000000\n",
      "2              0.206816  0.691108  0.318361   641.000000\n",
      "3              0.000000  0.000000  0.000000   445.000000\n",
      "4              0.000000  0.000000  0.000000   347.000000\n",
      "5              0.000000  0.000000  0.000000   493.000000\n",
      "6              0.000000  0.000000  0.000000   529.000000\n",
      "accuracy       0.213467  0.213467  0.213467     0.213467\n",
      "macro avg      0.061550  0.170515  0.089752  3490.000000\n",
      "weighted avg   0.076566  0.213467  0.111840  3490.000000\n"
     ]
    },
    {
     "data": {
      "image/png": "[encoded data removed]",
      "text/plain": [
       "<Figure size 800x600 with 2 Axes>"
      ]
     },
     "metadata": {},
     "output_type": "display_data"
    },
    {
     "name": "stdout",
     "output_type": "stream",
     "text": [
      "\n",
      "Model: DecisionTree\n",
      "Accuracy: 0.2307\n",
      "              precision    recall  f1-score      support\n",
      "0              0.257576  0.254576  0.256067   601.000000\n",
      "1              0.239180  0.241935  0.240550   434.000000\n",
      "2              0.298938  0.307332  0.303077   641.000000\n",
      "3              0.166292  0.166292  0.166292   445.000000\n",
      "4              0.176781  0.193084  0.184573   347.000000\n",
      "5              0.196242  0.190669  0.193416   493.000000\n",
      "6              0.232323  0.217391  0.224609   529.000000\n",
      "accuracy       0.230659  0.230659  0.230659     0.230659\n",
      "macro avg      0.223905  0.224469  0.224083  3490.000000\n",
      "weighted avg   0.230721  0.230659  0.230598  3490.000000\n"
     ]
    },
    {
     "data": {
      "image/png": "[encoded data removed]",
      "text/plain": [
       "<Figure size 800x600 with 2 Axes>"
      ]
     },
     "metadata": {},
     "output_type": "display_data"
    },
    {
     "name": "stdout",
     "output_type": "stream",
     "text": [
      "\n",
      "Best Model:\n",
      "Best Model: RandomForestClassifier()\n",
      "Best Model Accuracy: 0.2825\n"
     ]
    }
   ],
   "source": [
    "import pandas as pd\n",
    "from sklearn.model_selection import train_test_split\n",
    "from sklearn.ensemble import RandomForestClassifier\n",
    "from sklearn.linear_model import LogisticRegression\n",
    "from sklearn.tree import DecisionTreeClassifier\n",
    "from sklearn.metrics import classification_report, accuracy_score, confusion_matrix\n",
    "import seaborn as sns\n",
    "import matplotlib.pyplot as plt\n",
    "\n",
    "# Define models\n",
    "models = {\n",
    "    'RandomForest': RandomForestClassifier(),\n",
    "    'LogisticRegression': LogisticRegression(max_iter=1000),\n",
    "    'DecisionTree': DecisionTreeClassifier()\n",
    "}\n",
    "\n",
    "# Train models and evaluate them\n",
    "best_model = None\n",
    "best_score = 0\n",
    "model_reports = {}\n",
    "\n",
    "for model_name, model in models.items():\n",
    "    model.fit(X_train, y_train)  # Train model\n",
    "    y_pred = model.predict(X_test)  # Make predictions\n",
    "    \n",
    "    # Calculate accuracy and generate classification report\n",
    "    accuracy = accuracy_score(y_test, y_pred)\n",
    "    model_reports[model_name] = classification_report(y_test, y_pred, output_dict=True)  # Store as a dictionary for easier analysis\n",
    "    \n",
    "    # Track best performing model\n",
    "    if accuracy > best_score:\n",
    "        best_score = accuracy\n",
    "        best_model = model\n",
    "\n",
    "# Display classification reports and confusion matrices\n",
    "print(\"\\nClassification Report for All Models:\")\n",
    "for model_name, report in model_reports.items():\n",
    "    print(f\"\\nModel: {model_name}\")\n",
    "    print(\"Accuracy: {:.4f}\".format(accuracy_score(y_test, models[model_name].predict(X_test))))  # Display accuracy\n",
    "    print(pd.DataFrame(report).transpose())  # Display classification report as a DataFrame\n",
    "\n",
    "    # Plot Confusion Matrix\n",
    "    cm = confusion_matrix(y_test, models[model_name].predict(X_test))\n",
    "    plt.figure(figsize=(8, 6))\n",
    "    sns.heatmap(cm, annot=True, fmt=\"d\", cmap='Blues', xticklabels=offense_encoder.classes_, yticklabels=offense_encoder.classes_)\n",
    "    plt.title(f\"Confusion Matrix - {model_name}\")\n",
    "    plt.xlabel('Predicted Labels')\n",
    "    plt.ylabel('True Labels')\n",
    "    plt.show()\n",
    "\n",
    "# Display best model details\n",
    "print(\"\\nBest Model:\")\n",
    "print(f\"Best Model: {best_model}\")\n",
    "print(f\"Best Model Accuracy: {best_score:.4f}\")\n"
   ]
  },
  {
   "cell_type": "markdown",
   "id": "ede27b64",
   "metadata": {
    "papermill": {
     "duration": 0.010374,
     "end_time": "2025-05-25T01:10:04.317197",
     "exception": false,
     "start_time": "2025-05-25T01:10:04.306823",
     "status": "completed"
    },
    "tags": []
   },
   "source": [
    "#### Classification Report for All Models:\n",
    "\n",
    "### Explanation of the Classification Results (RandomForest Model)\n",
    "\n",
    "The results you provided are from a **Random Forest** model, which is used for predicting different types of offenses. Let's break down the key components of the results:\n",
    "\n",
    "#### 1. **Accuracy: 0.2822**\n",
    "   - **Accuracy** measures the overall percentage of correct predictions made by the model. An accuracy of 28.22% means the model correctly predicted the offense in about 28% of the cases. This indicates the model's predictions are not highly reliable, as the accuracy is quite low.\n",
    "\n",
    "#### 2. **Classification Report:**\n",
    "   The classification report includes precision, recall, and F1-score for each offense. Let's go over these terms and how they apply to the results:\n",
    "\n",
    "   - **Precision**: The proportion of true positive predictions out of all positive predictions made by the model for a specific class (offense).\n",
    "   - **Recall**: The proportion of true positive predictions out of all actual positive instances in the dataset.\n",
    "   - **F1-Score**: The harmonic mean of precision and recall, providing a balance between the two metrics.\n",
    "   - **Support**: The number of actual occurrences of each class in the test set.\n",
    "\n",
    "   Let's analyze each offense based on these metrics:\n",
    "\n",
    "   | **Offense**                        | **Precision** | **Recall** | **F1-Score** | **Support** |\n",
    "   |------------------------------------|---------------|------------|--------------|-------------|\n",
    "   | **Assault Simple**                 | 0.2892        | 0.3754     | 0.3267       | 594         |\n",
    "   | **Assist Citizen - Mental/TDO/ECO**| 0.3182        | 0.2274     | 0.2652       | 431         |\n",
    "   | **Hit and Run**                    | 0.2963        | 0.4765     | 0.3654       | 638         |\n",
    "   | **Larceny - All Other**            | 0.2270        | 0.1453     | 0.1772       | 475         |\n",
    "   | **Lost/FoundProperty**             | 0.3333        | 0.2102     | 0.2578       | 352         |\n",
    "   | **Suspicious Activity**            | 0.2344        | 0.2169     | 0.2253       | 484         |\n",
    "   | **Vandalism**                      | 0.2712        | 0.2106     | 0.2371       | 470         |\n",
    "\n",
    "#### 3. **Key Insights from the Report:**\n",
    "\n",
    "- **Precision**:\n",
    "   - The highest precision is for **Larceny - All Other** (0.3333), indicating that when the model predicts this offense, it is correct about 33% of the time. However, this is still quite low.\n",
    "   - **Assist Citizen - Mental/TDO/ECO** has the lowest precision (0.2269), meaning that the model's predictions for this offense tend to be wrong more often than correct.\n",
    "\n",
    "- **Recall**:\n",
    "   - **Hit and Run** has the highest recall (0.4765), meaning the model identifies about 48% of the actual occurrences of this offense. This is better than the precision, which indicates it is missing many true positives but is still able to identify a fair number of cases.\n",
    "   - **Larceny - All Other** and **Suspicious Activity** have the lowest recall values (0.1453 and 0.2169, respectively), indicating that the model is failing to identify most of the actual cases for these offenses.\n",
    "\n",
    "- **F1-Score**:\n",
    "   - The **F1-Score** balances precision and recall. It is highest for **Hit and Run** (0.3654), but still relatively low overall. This suggests the model is better at identifying **Hit and Run** than other offenses but still has room for improvement.\n",
    "   - **Larceny - All Other** has the lowest F1-Score (0.1772), indicating a poor balance between precision and recall for this offense.\n",
    "\n",
    "#### 4. **Macro Average and Weighted Average:**\n",
    "   - **Macro Average**: This gives the average precision, recall, and F1-Score across all classes (offenses) without considering the class distribution. It averages the results for all offenses equally.\n",
    "     - Precision: 0.2814\n",
    "     - Recall: 0.2661\n",
    "     - F1-Score: 0.2649\n",
    "   - **Weighted Average**: This averages the metrics but weighs each class by its support (the number of true instances in the test set). This gives a better sense of overall performance, considering the class distribution.\n",
    "     - Precision: 0.2799\n",
    "     - Recall: 0.2822\n",
    "     - F1-Score: 0.2720\n",
    "\n",
    "#### 5. **Confusion Matrix (Visualization Analysis)**:\n",
    "   - The confusion matrix shows the distribution of true positive, false positive, true negative, and false negative predictions for each class.\n",
    "     - For **Hit and Run**, the model performs relatively well in identifying this offense (304 true positives). However, it also misclassifies some **Hit and Run** instances as other offenses (e.g., **Assault Simple**, **Suspicious Activity**, etc.).\n",
    "     - **Larceny - All Other** is frequently misclassified as **Hit and Run**, **Suspicious Activity**, and others. This is evident from the large number of off-diagonal elements in its row.\n",
    "     - **Assist Citizen - Mental/TDO/ECO** and **Suspicious Activity** are frequently misclassified, as seen by the off-diagonal values in their rows.\n",
    "\n",
    "### Conclusion:\n",
    "The Random Forest model has low accuracy (28.22%), suggesting that it struggles to predict most offenses accurately. Some offenses like **Hit and Run** are better predicted than others, but overall, the model shows a high level of misclassification across all offenses. There may be a need for further tuning of the model, additional feature engineering, or trying different models for better performance.\n",
    "\n",
    "Let me know if you'd like to improve the model or make adjustments based on these results!\n",
    "\n"
   ]
  },
  {
   "cell_type": "markdown",
   "id": "b86d8d97",
   "metadata": {
    "papermill": {
     "duration": 0.010174,
     "end_time": "2025-05-25T01:10:04.337401",
     "exception": false,
     "start_time": "2025-05-25T01:10:04.327227",
     "status": "completed"
    },
    "tags": []
   },
   "source": [
    "### Model Explanation\n",
    "\n",
    "Once we’ve chosen the best model, we will explain its predictions by examining feature importance for tree-based models and using statistical methods like logistic regression coefficients for linear models."
   ]
  },
  {
   "cell_type": "markdown",
   "id": "082ecfa3",
   "metadata": {
    "papermill": {
     "duration": 0.010157,
     "end_time": "2025-05-25T01:10:04.357839",
     "exception": false,
     "start_time": "2025-05-25T01:10:04.347682",
     "status": "completed"
    },
    "tags": []
   },
   "source": [
    "#### Feature Importance for Random Forest / Decision Tree\n",
    "\n",
    "##### For Tree-based Models (Random Forest, Decision Tree)\n",
    "\n",
    "For Random Forest or Decision Tree, we can look at feature importance to understand which variables contribute the most to the model's predictions. Here's how you can visualize and interpret the importance of each feature:"
   ]
  },
  {
   "cell_type": "code",
   "execution_count": 23,
   "id": "aa033774",
   "metadata": {
    "execution": {
     "iopub.execute_input": "2025-05-25T01:10:04.380300Z",
     "iopub.status.busy": "2025-05-25T01:10:04.379695Z",
     "iopub.status.idle": "2025-05-25T01:10:04.541883Z",
     "shell.execute_reply": "2025-05-25T01:10:04.541259Z"
    },
    "papermill": {
     "duration": 0.174553,
     "end_time": "2025-05-25T01:10:04.542944",
     "exception": false,
     "start_time": "2025-05-25T01:10:04.368391",
     "status": "completed"
    },
    "tags": []
   },
   "outputs": [
    {
     "data": {
      "image/png": "[encoded data removed]",
      "text/plain": [
       "<Figure size 1000x600 with 1 Axes>"
      ]
     },
     "metadata": {},
     "output_type": "display_data"
    }
   ],
   "source": [
    "# For RandomForest or DecisionTree models, we can check feature importance\n",
    "if isinstance(best_model, RandomForestClassifier) or isinstance(best_model, DecisionTreeClassifier):\n",
    "    feature_importance = best_model.feature_importances_\n",
    "    feature_names = X.columns\n",
    "    importance_df = pd.DataFrame({'Feature': feature_names, 'Importance': feature_importance})\n",
    "    importance_df = importance_df.sort_values(by='Importance', ascending=False)\n",
    "    \n",
    "    # Plotting the feature importances\n",
    "    plt.figure(figsize=(10, 6))\n",
    "    sns.barplot(x='Importance', y='Feature', data=importance_df)\n",
    "    plt.title(\"Feature Importance\")\n",
    "    plt.show()\n"
   ]
  },
  {
   "cell_type": "code",
   "execution_count": null,
   "id": "b0714081",
   "metadata": {
    "papermill": {
     "duration": 0.010414,
     "end_time": "2025-05-25T01:10:04.564401",
     "exception": false,
     "start_time": "2025-05-25T01:10:04.553987",
     "status": "completed"
    },
    "tags": []
   },
   "outputs": [],
   "source": []
  },
  {
   "cell_type": "markdown",
   "id": "1990f2bd",
   "metadata": {
    "papermill": {
     "duration": 0.010443,
     "end_time": "2025-05-25T01:10:04.585252",
     "exception": false,
     "start_time": "2025-05-25T01:10:04.574809",
     "status": "completed"
    },
    "tags": []
   },
   "source": [
    "### Evaluation\n",
    "\n",
    "After training the models and examining their performance, we evaluate the chosen model based on metrics like accuracy, precision, recall, and F1 score.\n",
    "\n"
   ]
  },
  {
   "cell_type": "code",
   "execution_count": 24,
   "id": "f67932cd",
   "metadata": {
    "execution": {
     "iopub.execute_input": "2025-05-25T01:10:04.607735Z",
     "iopub.status.busy": "2025-05-25T01:10:04.607342Z",
     "iopub.status.idle": "2025-05-25T01:10:04.696472Z",
     "shell.execute_reply": "2025-05-25T01:10:04.695835Z"
    },
    "papermill": {
     "duration": 0.101775,
     "end_time": "2025-05-25T01:10:04.697590",
     "exception": false,
     "start_time": "2025-05-25T01:10:04.595815",
     "status": "completed"
    },
    "tags": []
   },
   "outputs": [
    {
     "name": "stdout",
     "output_type": "stream",
     "text": [
      "Accuracy: 0.2825\n",
      "Classification Report:\n",
      "              precision    recall  f1-score   support\n",
      "\n",
      "           0       0.30      0.34      0.32       601\n",
      "           1       0.31      0.25      0.28       434\n",
      "           2       0.29      0.46      0.36       641\n",
      "           3       0.18      0.16      0.17       445\n",
      "           4       0.31      0.20      0.24       347\n",
      "           5       0.24      0.21      0.22       493\n",
      "           6       0.35      0.25      0.29       529\n",
      "\n",
      "    accuracy                           0.28      3490\n",
      "   macro avg       0.28      0.27      0.27      3490\n",
      "weighted avg       0.28      0.28      0.28      3490\n",
      "\n",
      "Confusion Matrix:\n",
      "[[205  72 146  52  16  71  39]\n",
      " [ 93 109 107  38  12  49  26]\n",
      " [ 99  40 298  68  21  68  47]\n",
      " [ 74  34 136  69  34  48  50]\n",
      " [ 44  23  75  51  70  31  53]\n",
      " [ 94  43 145  46  28 102  35]\n",
      " [ 81  36 109  65  45  60 133]]\n",
      "Precision: 0.2826\n",
      "Recall: 0.2825\n",
      "F1 Score: 0.2759\n"
     ]
    }
   ],
   "source": [
    "from sklearn.metrics import classification_report, confusion_matrix, accuracy_score, precision_score, recall_score, f1_score\n",
    "\n",
    "# Predict on the test set\n",
    "y_pred = best_model.predict(X_test)\n",
    "\n",
    "# Calculate Accuracy\n",
    "accuracy = accuracy_score(y_test, y_pred)\n",
    "print(f\"Accuracy: {accuracy:.4f}\")\n",
    "\n",
    "# Classification Report\n",
    "print(\"Classification Report:\")\n",
    "print(classification_report(y_test, y_pred))\n",
    "\n",
    "# Confusion Matrix\n",
    "conf_matrix = confusion_matrix(y_test, y_pred)\n",
    "print(\"Confusion Matrix:\")\n",
    "print(conf_matrix)\n",
    "\n",
    "# Precision, Recall, F1 Score for each class (Offense Type)\n",
    "precision = precision_score(y_test, y_pred, average='weighted')\n",
    "recall = recall_score(y_test, y_pred, average='weighted')\n",
    "f1 = f1_score(y_test, y_pred, average='weighted')\n",
    "\n",
    "print(f\"Precision: {precision:.4f}\")\n",
    "print(f\"Recall: {recall:.4f}\")\n",
    "print(f\"F1 Score: {f1:.4f}\")\n"
   ]
  },
  {
   "cell_type": "markdown",
   "id": "d630d729",
   "metadata": {
    "papermill": {
     "duration": 0.011069,
     "end_time": "2025-05-25T01:10:04.720122",
     "exception": false,
     "start_time": "2025-05-25T01:10:04.709053",
     "status": "completed"
    },
    "tags": []
   },
   "source": [
    "#### For Logistic Regression (Coefficient Interpretation)\n",
    "\n",
    "For Logistic Regression, the model coefficients can help us understand how each feature affects the likelihood of an offense happening. A positive coefficient indicates a feature increases the likelihood of the offense, and a negative coefficient indicates the opposite."
   ]
  },
  {
   "cell_type": "code",
   "execution_count": 25,
   "id": "7cb3b725",
   "metadata": {
    "execution": {
     "iopub.execute_input": "2025-05-25T01:10:04.743374Z",
     "iopub.status.busy": "2025-05-25T01:10:04.742904Z",
     "iopub.status.idle": "2025-05-25T01:10:04.747490Z",
     "shell.execute_reply": "2025-05-25T01:10:04.746935Z"
    },
    "papermill": {
     "duration": 0.017334,
     "end_time": "2025-05-25T01:10:04.748506",
     "exception": false,
     "start_time": "2025-05-25T01:10:04.731172",
     "status": "completed"
    },
    "tags": []
   },
   "outputs": [],
   "source": [
    "if isinstance(best_model, LogisticRegression):\n",
    "    # Logistic regression coefficients\n",
    "    coef_df = pd.DataFrame({\n",
    "        'Feature': X.columns,\n",
    "        'Coefficient': best_model.coef_[0]\n",
    "    })\n",
    "    coef_df['AbsCoefficient'] = coef_df['Coefficient'].abs()\n",
    "    coef_df = coef_df.sort_values(by='AbsCoefficient', ascending=False)\n",
    "    \n",
    "    # Plotting the coefficients\n",
    "    plt.figure(figsize=(10, 6))\n",
    "    sns.barplot(x='AbsCoefficient', y='Feature', data=coef_df)\n",
    "    plt.title(\"Logistic Regression Coefficients Impact\")\n",
    "    plt.show()\n",
    "\n",
    "    # Print the top 5 most impactful features (by absolute coefficient value)\n",
    "    print(\"Top 5 most impactful features based on coefficients:\")\n",
    "    print(coef_df.head())\n"
   ]
  },
  {
   "cell_type": "markdown",
   "id": "4f365543",
   "metadata": {
    "papermill": {
     "duration": 0.011011,
     "end_time": "2025-05-25T01:10:04.770647",
     "exception": false,
     "start_time": "2025-05-25T01:10:04.759636",
     "status": "completed"
    },
    "tags": []
   },
   "source": [
    "Explanation of Output:\n",
    "\n",
    "Feature Importance (Random Forest/Decision Tree): The bar plot will show how important each feature is in the decision-making process. Features at the top of the list are the most influential in predicting the occurrence of offenses.\n",
    "\n",
    "Logistic Regression Coefficients: The bar plot will show the magnitude of the coefficients for each feature. Features with larger absolute values (either positive or negative) have a stronger impact on the model’s predictions. Positive coefficients increase the probability of an offense, while negative coefficients decrease it."
   ]
  },
  {
   "cell_type": "markdown",
   "id": "7c85d06b",
   "metadata": {
    "papermill": {
     "duration": 0.010993,
     "end_time": "2025-05-25T01:10:04.792724",
     "exception": false,
     "start_time": "2025-05-25T01:10:04.781731",
     "status": "completed"
    },
    "tags": []
   },
   "source": []
  }
 ],
 "metadata": {
  "kernelspec": {
   "display_name": "Python 3",
   "language": "python",
   "name": "python3"
  },
  "language_info": {
   "codemirror_mode": {
    "name": "ipython",
    "version": 3
   },
   "file_extension": ".py",
   "mimetype": "text/x-python",
   "name": "python",
   "nbconvert_exporter": "python",
   "pygments_lexer": "ipython3",
   "version": "3.9.22"
  },
  "papermill": {
   "default_parameters": {},
   "duration": 78.973854,
   "end_time": "2025-05-25T01:10:05.219717",
   "environment_variables": {},
   "exception": null,
   "input_path": "notebook/Crime Data.ipynb",
   "output_path": "notebook/Crime Data_output.ipynb",
   "parameters": {},
   "start_time": "2025-05-25T01:08:46.245863",
   "version": "2.6.0"
  }
 },
 "nbformat": 4,
 "nbformat_minor": 5
}