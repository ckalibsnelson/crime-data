{
 "cells": [
  {
   "cell_type": "markdown",
   "id": "699f843e",
   "metadata": {
    "papermill": {
     "duration": 0.004563,
     "end_time": "2025-06-24T01:05:28.098918",
     "exception": false,
     "start_time": "2025-06-24T01:05:28.094355",
     "status": "completed"
    },
    "tags": []
   },
   "source": [
    "# Charlottesville Open Data Porttal: Crime Data"
   ]
  },
  {
   "cell_type": "markdown",
   "id": "224c5db0",
   "metadata": {
    "papermill": {
     "duration": 0.00331,
     "end_time": "2025-06-24T01:05:28.106241",
     "exception": false,
     "start_time": "2025-06-24T01:05:28.102931",
     "status": "completed"
    },
    "tags": []
   },
   "source": [
    "## Import Relevant Librarires & Set WD"
   ]
  },
  {
   "cell_type": "code",
   "execution_count": 1,
   "id": "61880c49",
   "metadata": {
    "execution": {
     "iopub.execute_input": "2025-06-24T01:05:28.114403Z",
     "iopub.status.busy": "2025-06-24T01:05:28.113907Z",
     "iopub.status.idle": "2025-06-24T01:05:28.655572Z",
     "shell.execute_reply": "2025-06-24T01:05:28.654822Z"
    },
    "papermill": {
     "duration": 0.547531,
     "end_time": "2025-06-24T01:05:28.657081",
     "exception": false,
     "start_time": "2025-06-24T01:05:28.109550",
     "status": "completed"
    },
    "tags": []
   },
   "outputs": [],
   "source": [
    "import requests\n",
    "import pandas as pd\n",
    "import numpy as np\n",
    "import pickle\n",
    "import googlemaps\n",
    "import plotly.express as px\n",
    "from geopy.geocoders import Nominatim\n",
    "import time\n",
    "from dotenv import load_dotenv\n",
    "import os\n",
    "\n",
    "env_path = os.path.join(\"..\", \".env\")\n",
    "#print(\"Looking for .env file at:\", os.path.abspath(env_path))\n",
    "load_dotenv(dotenv_path=env_path)\n",
    "\n",
    "# Retrieve the variables\n",
    "GOOGLE_API_KEY = os.getenv(\"GOOGLE_API_KEY\")\n",
    "WORKING_DIR = os.getenv(\"WORKING_DIR\")\n",
    "\n",
    "if GOOGLE_API_KEY is None or WORKING_DIR is None:\n",
    "    raise RuntimeError(\"No configuration found. Please ensure that your .env file exists with the required variables, or create a local config.py file.\")\n",
    "\n",
    "#print(\"Google API Key:\", GOOGLE_API_KEY)\n",
    "#print(\"Working Directory:\", WORKING_DIR)"
   ]
  },
  {
   "cell_type": "markdown",
   "id": "5bdeb116",
   "metadata": {
    "papermill": {
     "duration": 0.003394,
     "end_time": "2025-06-24T01:05:28.664215",
     "exception": false,
     "start_time": "2025-06-24T01:05:28.660821",
     "status": "completed"
    },
    "tags": []
   },
   "source": [
    "## Import Data\n",
    "\n",
    "URL: https://opendata.charlottesville.org/datasets/charlottesville::crime-data/about"
   ]
  },
  {
   "cell_type": "code",
   "execution_count": 2,
   "id": "6ae9ef6c",
   "metadata": {
    "execution": {
     "iopub.execute_input": "2025-06-24T01:05:28.672379Z",
     "iopub.status.busy": "2025-06-24T01:05:28.671777Z",
     "iopub.status.idle": "2025-06-24T01:06:38.885249Z",
     "shell.execute_reply": "2025-06-24T01:06:38.884563Z"
    },
    "papermill": {
     "duration": 70.221702,
     "end_time": "2025-06-24T01:06:38.889303",
     "exception": false,
     "start_time": "2025-06-24T01:05:28.667601",
     "status": "completed"
    },
    "tags": []
   },
   "outputs": [
    {
     "name": "stdout",
     "output_type": "stream",
     "text": [
      "Total records imported: 25533\n"
     ]
    }
   ],
   "source": [
    "# Define the endpoint and initial parameters.\n",
    "url = \"https://gisweb.charlottesville.org/arcgis/rest/services/OpenData_2/MapServer/6/query\"\n",
    "params = {\n",
    "    \"where\": \"1=1\",\n",
    "    \"outFields\": \"*\",\n",
    "    \"outSR\": 4326,\n",
    "    \"f\": \"json\",\n",
    "    \"resultOffset\": 0,       # Starting index for results\n",
    "    \"resultRecordCount\": 10000  # Maximum records per batch (if allowed by the API)\n",
    "}\n",
    "\n",
    "records = []\n",
    "\n",
    "while True:\n",
    "    response = requests.get(url, params=params)\n",
    "    response.raise_for_status()\n",
    "    data = response.json()\n",
    "    \n",
    "    # Get the current batch of features.\n",
    "    features = data.get(\"features\", [])\n",
    "    if not features:\n",
    "        break\n",
    "\n",
    "    # Extract the attributes from the features.\n",
    "    batch_records = [feature.get(\"attributes\", {}) for feature in features]\n",
    "    records.extend(batch_records)\n",
    "    \n",
    "    # If the batch size is less than the requested count, we reached the end.\n",
    "    if len(features) < params[\"resultRecordCount\"]:\n",
    "        break\n",
    "\n",
    "    # Update the resultOffset for the next batch.\n",
    "    params[\"resultOffset\"] += params[\"resultRecordCount\"]\n",
    "\n",
    "# Create a DataFrame from the combined records.\n",
    "df = pd.DataFrame(records)\n",
    "print(\"Total records imported:\", len(df))\n"
   ]
  },
  {
   "cell_type": "code",
   "execution_count": 3,
   "id": "84a54f96",
   "metadata": {
    "execution": {
     "iopub.execute_input": "2025-06-24T01:06:38.897530Z",
     "iopub.status.busy": "2025-06-24T01:06:38.896970Z",
     "iopub.status.idle": "2025-06-24T01:06:38.909687Z",
     "shell.execute_reply": "2025-06-24T01:06:38.909102Z"
    },
    "papermill": {
     "duration": 0.017922,
     "end_time": "2025-06-24T01:06:38.910731",
     "exception": false,
     "start_time": "2025-06-24T01:06:38.892809",
     "status": "completed"
    },
    "tags": []
   },
   "outputs": [
    {
     "data": {
      "text/html": [
       "<div>\n",
       "<style scoped>\n",
       "    .dataframe tbody tr th:only-of-type {\n",
       "        vertical-align: middle;\n",
       "    }\n",
       "\n",
       "    .dataframe tbody tr th {\n",
       "        vertical-align: top;\n",
       "    }\n",
       "\n",
       "    .dataframe thead th {\n",
       "        text-align: right;\n",
       "    }\n",
       "</style>\n",
       "<table border=\"1\" class=\"dataframe\">\n",
       "  <thead>\n",
       "    <tr style=\"text-align: right;\">\n",
       "      <th></th>\n",
       "      <th>RecordID</th>\n",
       "      <th>Offense</th>\n",
       "      <th>IncidentID</th>\n",
       "      <th>BlockNumber</th>\n",
       "      <th>StreetName</th>\n",
       "      <th>Agency</th>\n",
       "      <th>DateReported</th>\n",
       "      <th>HourReported</th>\n",
       "      <th>ReportingOfficer</th>\n",
       "    </tr>\n",
       "  </thead>\n",
       "  <tbody>\n",
       "    <tr>\n",
       "      <th>0</th>\n",
       "      <td>1</td>\n",
       "      <td>Drunkeness DIP</td>\n",
       "      <td>202500021430</td>\n",
       "      <td>200</td>\n",
       "      <td>W MAIN ST</td>\n",
       "      <td>CPD</td>\n",
       "      <td>1750551405000</td>\n",
       "      <td>2016</td>\n",
       "      <td>Turner, Devon</td>\n",
       "    </tr>\n",
       "    <tr>\n",
       "      <th>1</th>\n",
       "      <td>2</td>\n",
       "      <td>Larceny - All Other</td>\n",
       "      <td>202500021409</td>\n",
       "      <td>300</td>\n",
       "      <td>MEADE AVE</td>\n",
       "      <td>CPD</td>\n",
       "      <td>1750540089000</td>\n",
       "      <td>1708</td>\n",
       "      <td>Bland, Johnnà</td>\n",
       "    </tr>\n",
       "    <tr>\n",
       "      <th>2</th>\n",
       "      <td>3</td>\n",
       "      <td>Suspicious Activity</td>\n",
       "      <td>202500021401</td>\n",
       "      <td>1400</td>\n",
       "      <td>BAKER ST</td>\n",
       "      <td>CPD</td>\n",
       "      <td>1750533428000</td>\n",
       "      <td>1517</td>\n",
       "      <td>Rigsby, Lloyd</td>\n",
       "    </tr>\n",
       "    <tr>\n",
       "      <th>3</th>\n",
       "      <td>4</td>\n",
       "      <td>Motor Vehicle Theft</td>\n",
       "      <td>202500021390</td>\n",
       "      <td>1700</td>\n",
       "      <td>MONTICELLO RD</td>\n",
       "      <td>CPD</td>\n",
       "      <td>1750524994000</td>\n",
       "      <td>1256</td>\n",
       "      <td>Eckenroth, Rachel</td>\n",
       "    </tr>\n",
       "    <tr>\n",
       "      <th>4</th>\n",
       "      <td>5</td>\n",
       "      <td>Burglary</td>\n",
       "      <td>202500021384</td>\n",
       "      <td>100</td>\n",
       "      <td>ELLIEWOOD AVE</td>\n",
       "      <td>CPD</td>\n",
       "      <td>1750521508000</td>\n",
       "      <td>1158</td>\n",
       "      <td>O'Briant, Landon</td>\n",
       "    </tr>\n",
       "  </tbody>\n",
       "</table>\n",
       "</div>"
      ],
      "text/plain": [
       "   RecordID              Offense    IncidentID BlockNumber     StreetName  \\\n",
       "0         1       Drunkeness DIP  202500021430         200      W MAIN ST   \n",
       "1         2  Larceny - All Other  202500021409         300      MEADE AVE   \n",
       "2         3  Suspicious Activity  202500021401        1400       BAKER ST   \n",
       "3         4  Motor Vehicle Theft  202500021390        1700  MONTICELLO RD   \n",
       "4         5             Burglary  202500021384         100  ELLIEWOOD AVE   \n",
       "\n",
       "  Agency   DateReported HourReported   ReportingOfficer  \n",
       "0    CPD  1750551405000         2016      Turner, Devon  \n",
       "1    CPD  1750540089000         1708      Bland, Johnnà  \n",
       "2    CPD  1750533428000         1517      Rigsby, Lloyd  \n",
       "3    CPD  1750524994000         1256  Eckenroth, Rachel  \n",
       "4    CPD  1750521508000         1158   O'Briant, Landon  "
      ]
     },
     "execution_count": 3,
     "metadata": {},
     "output_type": "execute_result"
    }
   ],
   "source": [
    "df.head()"
   ]
  },
  {
   "cell_type": "code",
   "execution_count": 4,
   "id": "afe1ea0f",
   "metadata": {
    "execution": {
     "iopub.execute_input": "2025-06-24T01:06:38.918992Z",
     "iopub.status.busy": "2025-06-24T01:06:38.918572Z",
     "iopub.status.idle": "2025-06-24T01:06:38.922955Z",
     "shell.execute_reply": "2025-06-24T01:06:38.922292Z"
    },
    "papermill": {
     "duration": 0.009652,
     "end_time": "2025-06-24T01:06:38.924050",
     "exception": false,
     "start_time": "2025-06-24T01:06:38.914398",
     "status": "completed"
    },
    "tags": []
   },
   "outputs": [
    {
     "data": {
      "text/plain": [
       "Index(['RecordID', 'Offense', 'IncidentID', 'BlockNumber', 'StreetName',\n",
       "       'Agency', 'DateReported', 'HourReported', 'ReportingOfficer'],\n",
       "      dtype='object')"
      ]
     },
     "execution_count": 4,
     "metadata": {},
     "output_type": "execute_result"
    }
   ],
   "source": [
    "df.columns"
   ]
  },
  {
   "cell_type": "code",
   "execution_count": 5,
   "id": "54bdbeb8",
   "metadata": {
    "execution": {
     "iopub.execute_input": "2025-06-24T01:06:38.932763Z",
     "iopub.status.busy": "2025-06-24T01:06:38.932523Z",
     "iopub.status.idle": "2025-06-24T01:06:38.956576Z",
     "shell.execute_reply": "2025-06-24T01:06:38.955991Z"
    },
    "papermill": {
     "duration": 0.029838,
     "end_time": "2025-06-24T01:06:38.957565",
     "exception": false,
     "start_time": "2025-06-24T01:06:38.927727",
     "status": "completed"
    },
    "tags": []
   },
   "outputs": [
    {
     "name": "stdout",
     "output_type": "stream",
     "text": [
      "<class 'pandas.core.frame.DataFrame'>\n",
      "RangeIndex: 25533 entries, 0 to 25532\n",
      "Data columns (total 9 columns):\n",
      " #   Column            Non-Null Count  Dtype \n",
      "---  ------            --------------  ----- \n",
      " 0   RecordID          25533 non-null  int64 \n",
      " 1   Offense           25533 non-null  object\n",
      " 2   IncidentID        25533 non-null  object\n",
      " 3   BlockNumber       25533 non-null  object\n",
      " 4   StreetName        25533 non-null  object\n",
      " 5   Agency            25533 non-null  object\n",
      " 6   DateReported      25533 non-null  int64 \n",
      " 7   HourReported      25533 non-null  object\n",
      " 8   ReportingOfficer  25516 non-null  object\n",
      "dtypes: int64(2), object(7)\n",
      "memory usage: 1.8+ MB\n"
     ]
    }
   ],
   "source": [
    "df.info()"
   ]
  },
  {
   "cell_type": "markdown",
   "id": "7ea86d37",
   "metadata": {
    "papermill": {
     "duration": 0.003713,
     "end_time": "2025-06-24T01:06:38.965088",
     "exception": false,
     "start_time": "2025-06-24T01:06:38.961375",
     "status": "completed"
    },
    "tags": []
   },
   "source": [
    "### Missing Values"
   ]
  },
  {
   "cell_type": "code",
   "execution_count": 6,
   "id": "77f2e0ba",
   "metadata": {
    "execution": {
     "iopub.execute_input": "2025-06-24T01:06:38.996941Z",
     "iopub.status.busy": "2025-06-24T01:06:38.996632Z",
     "iopub.status.idle": "2025-06-24T01:06:39.021681Z",
     "shell.execute_reply": "2025-06-24T01:06:39.021085Z"
    },
    "papermill": {
     "duration": 0.030773,
     "end_time": "2025-06-24T01:06:39.022699",
     "exception": false,
     "start_time": "2025-06-24T01:06:38.991926",
     "status": "completed"
    },
    "tags": []
   },
   "outputs": [
    {
     "name": "stdout",
     "output_type": "stream",
     "text": [
      "                  MissingCount  MissingPercentage\n",
      "RecordID                     0               0.00\n",
      "Offense                      0               0.00\n",
      "IncidentID                   0               0.00\n",
      "BlockNumber                  0               0.00\n",
      "StreetName                   0               0.00\n",
      "Agency                       0               0.00\n",
      "DateReported                 0               0.00\n",
      "HourReported                 0               0.00\n",
      "ReportingOfficer            17               0.07\n"
     ]
    }
   ],
   "source": [
    "def missing_percentage(df):\n",
    "    \"\"\"\n",
    "    Returns a DataFrame with the count and percentage of missing values for each column.\n",
    "    \n",
    "    Parameters:\n",
    "        df (pd.DataFrame): The input DataFrame.\n",
    "    \n",
    "    Returns:\n",
    "        pd.DataFrame: A DataFrame with columns 'MissingCount' and 'MissingPercentage'.\n",
    "    \"\"\"\n",
    "    total_rows = len(df)\n",
    "    missing_count = df.isnull().sum()\n",
    "    missing_percent = (missing_count / total_rows) * 100\n",
    "    \n",
    "    result = pd.DataFrame({\n",
    "        'MissingCount': missing_count,\n",
    "        'MissingPercentage': missing_percent.round(2)\n",
    "    })\n",
    "    \n",
    "    return result\n",
    "\n",
    "# Example usage:\n",
    "missing_info = missing_percentage(df)\n",
    "print(missing_info)\n"
   ]
  },
  {
   "cell_type": "markdown",
   "id": "ba8b15bd",
   "metadata": {
    "papermill": {
     "duration": 0.003985,
     "end_time": "2025-06-24T01:06:39.030912",
     "exception": false,
     "start_time": "2025-06-24T01:06:39.026927",
     "status": "completed"
    },
    "tags": []
   },
   "source": [
    "## Data Preparation"
   ]
  },
  {
   "cell_type": "markdown",
   "id": "77803acb",
   "metadata": {
    "papermill": {
     "duration": 0.003908,
     "end_time": "2025-06-24T01:06:39.038646",
     "exception": false,
     "start_time": "2025-06-24T01:06:39.034738",
     "status": "completed"
    },
    "tags": []
   },
   "source": [
    "### Data Conversion"
   ]
  },
  {
   "cell_type": "code",
   "execution_count": 7,
   "id": "c499b11e",
   "metadata": {
    "execution": {
     "iopub.execute_input": "2025-06-24T01:06:39.047493Z",
     "iopub.status.busy": "2025-06-24T01:06:39.047024Z",
     "iopub.status.idle": "2025-06-24T01:06:39.406998Z",
     "shell.execute_reply": "2025-06-24T01:06:39.406360Z"
    },
    "papermill": {
     "duration": 0.365567,
     "end_time": "2025-06-24T01:06:39.408109",
     "exception": false,
     "start_time": "2025-06-24T01:06:39.042542",
     "status": "completed"
    },
    "tags": []
   },
   "outputs": [
    {
     "data": {
      "text/html": [
       "<div>\n",
       "<style scoped>\n",
       "    .dataframe tbody tr th:only-of-type {\n",
       "        vertical-align: middle;\n",
       "    }\n",
       "\n",
       "    .dataframe tbody tr th {\n",
       "        vertical-align: top;\n",
       "    }\n",
       "\n",
       "    .dataframe thead th {\n",
       "        text-align: right;\n",
       "    }\n",
       "</style>\n",
       "<table border=\"1\" class=\"dataframe\">\n",
       "  <thead>\n",
       "    <tr style=\"text-align: right;\">\n",
       "      <th></th>\n",
       "      <th>RecordID</th>\n",
       "      <th>Offense</th>\n",
       "      <th>IncidentID</th>\n",
       "      <th>BlockNumber</th>\n",
       "      <th>StreetName</th>\n",
       "      <th>Agency</th>\n",
       "      <th>HourReported</th>\n",
       "      <th>ReportingOfficer</th>\n",
       "      <th>Date</th>\n",
       "      <th>DateString</th>\n",
       "      <th>DayOfWeek</th>\n",
       "      <th>Weekend</th>\n",
       "      <th>Season</th>\n",
       "      <th>HourAMPM</th>\n",
       "      <th>TimeOfDay</th>\n",
       "    </tr>\n",
       "  </thead>\n",
       "  <tbody>\n",
       "    <tr>\n",
       "      <th>0</th>\n",
       "      <td>1</td>\n",
       "      <td>Drunkeness DIP</td>\n",
       "      <td>202500021430</td>\n",
       "      <td>200</td>\n",
       "      <td>W MAIN ST</td>\n",
       "      <td>CPD</td>\n",
       "      <td>2016</td>\n",
       "      <td>Turner, Devon</td>\n",
       "      <td>2025-06-21 20:16:45</td>\n",
       "      <td>2025-06-21 08:16:45 PM</td>\n",
       "      <td>Saturday</td>\n",
       "      <td>True</td>\n",
       "      <td>Summer</td>\n",
       "      <td>08:16 PM</td>\n",
       "      <td>Evening</td>\n",
       "    </tr>\n",
       "    <tr>\n",
       "      <th>1</th>\n",
       "      <td>2</td>\n",
       "      <td>Larceny - All Other</td>\n",
       "      <td>202500021409</td>\n",
       "      <td>300</td>\n",
       "      <td>MEADE AVE</td>\n",
       "      <td>CPD</td>\n",
       "      <td>1708</td>\n",
       "      <td>Bland, Johnnà</td>\n",
       "      <td>2025-06-21 17:08:09</td>\n",
       "      <td>2025-06-21 05:08:09 PM</td>\n",
       "      <td>Saturday</td>\n",
       "      <td>True</td>\n",
       "      <td>Summer</td>\n",
       "      <td>05:08 PM</td>\n",
       "      <td>Evening</td>\n",
       "    </tr>\n",
       "    <tr>\n",
       "      <th>2</th>\n",
       "      <td>3</td>\n",
       "      <td>Suspicious Activity</td>\n",
       "      <td>202500021401</td>\n",
       "      <td>1400</td>\n",
       "      <td>BAKER ST</td>\n",
       "      <td>CPD</td>\n",
       "      <td>1517</td>\n",
       "      <td>Rigsby, Lloyd</td>\n",
       "      <td>2025-06-21 15:17:08</td>\n",
       "      <td>2025-06-21 03:17:08 PM</td>\n",
       "      <td>Saturday</td>\n",
       "      <td>True</td>\n",
       "      <td>Summer</td>\n",
       "      <td>03:17 PM</td>\n",
       "      <td>Afternoon</td>\n",
       "    </tr>\n",
       "    <tr>\n",
       "      <th>3</th>\n",
       "      <td>4</td>\n",
       "      <td>Motor Vehicle Theft</td>\n",
       "      <td>202500021390</td>\n",
       "      <td>1700</td>\n",
       "      <td>MONTICELLO RD</td>\n",
       "      <td>CPD</td>\n",
       "      <td>1256</td>\n",
       "      <td>Eckenroth, Rachel</td>\n",
       "      <td>2025-06-21 12:56:34</td>\n",
       "      <td>2025-06-21 12:56:34 PM</td>\n",
       "      <td>Saturday</td>\n",
       "      <td>True</td>\n",
       "      <td>Summer</td>\n",
       "      <td>12:56 PM</td>\n",
       "      <td>Afternoon</td>\n",
       "    </tr>\n",
       "    <tr>\n",
       "      <th>4</th>\n",
       "      <td>5</td>\n",
       "      <td>Burglary</td>\n",
       "      <td>202500021384</td>\n",
       "      <td>100</td>\n",
       "      <td>ELLIEWOOD AVE</td>\n",
       "      <td>CPD</td>\n",
       "      <td>1158</td>\n",
       "      <td>O'Briant, Landon</td>\n",
       "      <td>2025-06-21 11:58:28</td>\n",
       "      <td>2025-06-21 11:58:28 AM</td>\n",
       "      <td>Saturday</td>\n",
       "      <td>True</td>\n",
       "      <td>Summer</td>\n",
       "      <td>11:58 AM</td>\n",
       "      <td>Morning</td>\n",
       "    </tr>\n",
       "  </tbody>\n",
       "</table>\n",
       "</div>"
      ],
      "text/plain": [
       "   RecordID              Offense    IncidentID BlockNumber     StreetName  \\\n",
       "0         1       Drunkeness DIP  202500021430         200      W MAIN ST   \n",
       "1         2  Larceny - All Other  202500021409         300      MEADE AVE   \n",
       "2         3  Suspicious Activity  202500021401        1400       BAKER ST   \n",
       "3         4  Motor Vehicle Theft  202500021390        1700  MONTICELLO RD   \n",
       "4         5             Burglary  202500021384         100  ELLIEWOOD AVE   \n",
       "\n",
       "  Agency HourReported   ReportingOfficer                Date  \\\n",
       "0    CPD         2016      Turner, Devon 2025-06-21 20:16:45   \n",
       "1    CPD         1708      Bland, Johnnà 2025-06-21 17:08:09   \n",
       "2    CPD         1517      Rigsby, Lloyd 2025-06-21 15:17:08   \n",
       "3    CPD         1256  Eckenroth, Rachel 2025-06-21 12:56:34   \n",
       "4    CPD         1158   O'Briant, Landon 2025-06-21 11:58:28   \n",
       "\n",
       "               DateString DayOfWeek  Weekend  Season  HourAMPM  TimeOfDay  \n",
       "0  2025-06-21 08:16:45 PM  Saturday     True  Summer  08:16 PM    Evening  \n",
       "1  2025-06-21 05:08:09 PM  Saturday     True  Summer  05:08 PM    Evening  \n",
       "2  2025-06-21 03:17:08 PM  Saturday     True  Summer  03:17 PM  Afternoon  \n",
       "3  2025-06-21 12:56:34 PM  Saturday     True  Summer  12:56 PM  Afternoon  \n",
       "4  2025-06-21 11:58:28 AM  Saturday     True  Summer  11:58 AM    Morning  "
      ]
     },
     "execution_count": 7,
     "metadata": {},
     "output_type": "execute_result"
    }
   ],
   "source": [
    "def convert_and_categorize_datereported(df, col='DateReported'):\n",
    "    \"\"\"\n",
    "    Converts an epoch (in milliseconds) date column into a timezone-aware datetime,\n",
    "    converts it to Eastern Time, and then creates columns for day-of-week, weekend flag,\n",
    "    season, 12-hour formatted time, and time-of-day. Keeps both a real datetime column\n",
    "    (Date) and a string representation (DateString).\n",
    "    \"\"\"\n",
    "    import pandas as pd\n",
    "\n",
    "    # Convert the epoch timestamp to a pandas datetime object as UTC, then convert to US/Eastern.\n",
    "    df[\"DateReported_dt\"] = (\n",
    "        pd.to_datetime(df[col], unit=\"ms\", errors=\"coerce\", utc=True)\n",
    "        .dt.tz_convert(\"US/Eastern\")\n",
    "    )\n",
    "    \n",
    "    # Create a true datetime column (remove timezone if you prefer naive datetime)\n",
    "    df[\"Date\"] = df[\"DateReported_dt\"].dt.tz_localize(None)\n",
    "\n",
    "    # Optionally, create a separate string-formatted column\n",
    "    df[\"DateString\"] = df[\"DateReported_dt\"].dt.strftime(\"%Y-%m-%d %I:%M:%S %p\")\n",
    "    \n",
    "    # DayOfWeek\n",
    "    df[\"DayOfWeek\"] = df[\"DateReported_dt\"].dt.day_name()\n",
    "    \n",
    "    # Weekend\n",
    "    df[\"Weekend\"] = df[\"DayOfWeek\"].isin([\"Saturday\", \"Sunday\"])\n",
    "    \n",
    "    # Helper function to determine the season\n",
    "    def get_season(dt):\n",
    "        month = dt.month\n",
    "        day = dt.day\n",
    "        # Approximate Northern Hemisphere season boundaries:\n",
    "        if (month == 12 and day >= 21) or (month < 3) or (month == 3 and day < 20):\n",
    "            return \"Winter\"\n",
    "        elif (month == 3 and day >= 20) or (month < 6) or (month == 6 and day < 21):\n",
    "            return \"Spring\"\n",
    "        elif (month == 6 and day >= 21) or (month < 9) or (month == 9 and day < 22):\n",
    "            return \"Summer\"\n",
    "        else:\n",
    "            return \"Autumn\"\n",
    "    \n",
    "    df[\"Season\"] = df[\"DateReported_dt\"].apply(get_season)\n",
    "    \n",
    "    # 12-hour formatted time (HourAMPM)\n",
    "    df[\"HourAMPM\"] = df[\"DateReported_dt\"].dt.strftime(\"%I:%M %p\")\n",
    "    \n",
    "    # Extract hour (0-23) for time-of-day\n",
    "    df[\"HourValue\"] = df[\"DateReported_dt\"].dt.hour\n",
    "    \n",
    "    def time_of_day(hour):\n",
    "        if pd.isnull(hour):\n",
    "            return None\n",
    "        if 5 <= hour < 12:\n",
    "            return \"Morning\"\n",
    "        elif 12 <= hour < 17:\n",
    "            return \"Afternoon\"\n",
    "        elif 17 <= hour < 21:\n",
    "            return \"Evening\"\n",
    "        else:\n",
    "            return \"Night\"\n",
    "    \n",
    "    df[\"TimeOfDay\"] = df[\"HourValue\"].apply(time_of_day)\n",
    "    \n",
    "    # Drop columns you no longer need\n",
    "    df.drop(columns=[col, \"DateReported_dt\", \"HourValue\"], inplace=True)\n",
    "    \n",
    "    return df\n",
    "\n",
    "# Example usage:\n",
    "df = convert_and_categorize_datereported(df)\n",
    "df.head()\n"
   ]
  },
  {
   "cell_type": "code",
   "execution_count": 8,
   "id": "1fde2fb4",
   "metadata": {
    "execution": {
     "iopub.execute_input": "2025-06-24T01:06:39.417849Z",
     "iopub.status.busy": "2025-06-24T01:06:39.417341Z",
     "iopub.status.idle": "2025-06-24T01:06:39.444358Z",
     "shell.execute_reply": "2025-06-24T01:06:39.443789Z"
    },
    "papermill": {
     "duration": 0.032962,
     "end_time": "2025-06-24T01:06:39.445458",
     "exception": false,
     "start_time": "2025-06-24T01:06:39.412496",
     "status": "completed"
    },
    "tags": []
   },
   "outputs": [
    {
     "name": "stdout",
     "output_type": "stream",
     "text": [
      "<class 'pandas.core.frame.DataFrame'>\n",
      "RangeIndex: 25533 entries, 0 to 25532\n",
      "Data columns (total 15 columns):\n",
      " #   Column            Non-Null Count  Dtype         \n",
      "---  ------            --------------  -----         \n",
      " 0   RecordID          25533 non-null  int64         \n",
      " 1   Offense           25533 non-null  object        \n",
      " 2   IncidentID        25533 non-null  object        \n",
      " 3   BlockNumber       25533 non-null  object        \n",
      " 4   StreetName        25533 non-null  object        \n",
      " 5   Agency            25533 non-null  object        \n",
      " 6   HourReported      25533 non-null  object        \n",
      " 7   ReportingOfficer  25516 non-null  object        \n",
      " 8   Date              25533 non-null  datetime64[ns]\n",
      " 9   DateString        25533 non-null  object        \n",
      " 10  DayOfWeek         25533 non-null  object        \n",
      " 11  Weekend           25533 non-null  bool          \n",
      " 12  Season            25533 non-null  object        \n",
      " 13  HourAMPM          25533 non-null  object        \n",
      " 14  TimeOfDay         25533 non-null  object        \n",
      "dtypes: bool(1), datetime64[ns](1), int64(1), object(12)\n",
      "memory usage: 2.8+ MB\n"
     ]
    }
   ],
   "source": [
    "df.info()"
   ]
  },
  {
   "cell_type": "markdown",
   "id": "da5a212c",
   "metadata": {
    "papermill": {
     "duration": 0.004057,
     "end_time": "2025-06-24T01:06:39.453893",
     "exception": false,
     "start_time": "2025-06-24T01:06:39.449836",
     "status": "completed"
    },
    "tags": []
   },
   "source": [
    "### Coordinates"
   ]
  },
  {
   "cell_type": "code",
   "execution_count": 9,
   "id": "99ba247d",
   "metadata": {
    "execution": {
     "iopub.execute_input": "2025-06-24T01:06:39.463499Z",
     "iopub.status.busy": "2025-06-24T01:06:39.462914Z",
     "iopub.status.idle": "2025-06-24T01:06:39.609602Z",
     "shell.execute_reply": "2025-06-24T01:06:39.608982Z"
    },
    "papermill": {
     "duration": 0.152656,
     "end_time": "2025-06-24T01:06:39.610720",
     "exception": false,
     "start_time": "2025-06-24T01:06:39.458064",
     "status": "completed"
    },
    "tags": []
   },
   "outputs": [
    {
     "name": "stdout",
     "output_type": "stream",
     "text": [
      "Loaded geocode cache.\n",
      "Error geocoding 1600 EMMET ST N, 121: REQUEST_DENIED (You must enable Billing on the Google Cloud Project at https://console.cloud.google.com/project/_/billing/enable Learn more at https://developers.google.com/maps/gmp-get-started)\n",
      "Geocoded 1600 EMMET ST N, 121: None, None\n",
      "Error geocoding 2100 IVY RD, 13: REQUEST_DENIED (You must enable Billing on the Google Cloud Project at https://console.cloud.google.com/project/_/billing/enable Learn more at https://developers.google.com/maps/gmp-get-started)\n",
      "Geocoded 2100 IVY RD, 13: None, None\n",
      "Geocode cache updated and saved.\n"
     ]
    },
    {
     "data": {
      "text/html": [
       "<div>\n",
       "<style scoped>\n",
       "    .dataframe tbody tr th:only-of-type {\n",
       "        vertical-align: middle;\n",
       "    }\n",
       "\n",
       "    .dataframe tbody tr th {\n",
       "        vertical-align: top;\n",
       "    }\n",
       "\n",
       "    .dataframe thead th {\n",
       "        text-align: right;\n",
       "    }\n",
       "</style>\n",
       "<table border=\"1\" class=\"dataframe\">\n",
       "  <thead>\n",
       "    <tr style=\"text-align: right;\">\n",
       "      <th></th>\n",
       "      <th>RecordID</th>\n",
       "      <th>Offense</th>\n",
       "      <th>IncidentID</th>\n",
       "      <th>BlockNumber</th>\n",
       "      <th>StreetName</th>\n",
       "      <th>Agency</th>\n",
       "      <th>HourReported</th>\n",
       "      <th>ReportingOfficer</th>\n",
       "      <th>Date</th>\n",
       "      <th>DateString</th>\n",
       "      <th>DayOfWeek</th>\n",
       "      <th>Weekend</th>\n",
       "      <th>Season</th>\n",
       "      <th>HourAMPM</th>\n",
       "      <th>TimeOfDay</th>\n",
       "      <th>FullStreet</th>\n",
       "      <th>lat</th>\n",
       "      <th>lon</th>\n",
       "    </tr>\n",
       "  </thead>\n",
       "  <tbody>\n",
       "    <tr>\n",
       "      <th>0</th>\n",
       "      <td>1</td>\n",
       "      <td>Drunkeness DIP</td>\n",
       "      <td>202500021430</td>\n",
       "      <td>200</td>\n",
       "      <td>W MAIN ST</td>\n",
       "      <td>CPD</td>\n",
       "      <td>2016</td>\n",
       "      <td>Turner, Devon</td>\n",
       "      <td>2025-06-21 20:16:45</td>\n",
       "      <td>2025-06-21 08:16:45 PM</td>\n",
       "      <td>Saturday</td>\n",
       "      <td>True</td>\n",
       "      <td>Summer</td>\n",
       "      <td>08:16 PM</td>\n",
       "      <td>Evening</td>\n",
       "      <td>200 W MAIN ST</td>\n",
       "      <td>38.030841</td>\n",
       "      <td>-78.482517</td>\n",
       "    </tr>\n",
       "    <tr>\n",
       "      <th>1</th>\n",
       "      <td>2</td>\n",
       "      <td>Larceny - All Other</td>\n",
       "      <td>202500021409</td>\n",
       "      <td>300</td>\n",
       "      <td>MEADE AVE</td>\n",
       "      <td>CPD</td>\n",
       "      <td>1708</td>\n",
       "      <td>Bland, Johnnà</td>\n",
       "      <td>2025-06-21 17:08:09</td>\n",
       "      <td>2025-06-21 05:08:09 PM</td>\n",
       "      <td>Saturday</td>\n",
       "      <td>True</td>\n",
       "      <td>Summer</td>\n",
       "      <td>05:08 PM</td>\n",
       "      <td>Evening</td>\n",
       "      <td>300 MEADE AVE</td>\n",
       "      <td>38.027759</td>\n",
       "      <td>-78.466098</td>\n",
       "    </tr>\n",
       "    <tr>\n",
       "      <th>2</th>\n",
       "      <td>3</td>\n",
       "      <td>Suspicious Activity</td>\n",
       "      <td>202500021401</td>\n",
       "      <td>1400</td>\n",
       "      <td>BAKER ST</td>\n",
       "      <td>CPD</td>\n",
       "      <td>1517</td>\n",
       "      <td>Rigsby, Lloyd</td>\n",
       "      <td>2025-06-21 15:17:08</td>\n",
       "      <td>2025-06-21 03:17:08 PM</td>\n",
       "      <td>Saturday</td>\n",
       "      <td>True</td>\n",
       "      <td>Summer</td>\n",
       "      <td>03:17 PM</td>\n",
       "      <td>Afternoon</td>\n",
       "      <td>1400 BAKER ST</td>\n",
       "      <td>38.025760</td>\n",
       "      <td>-78.502157</td>\n",
       "    </tr>\n",
       "    <tr>\n",
       "      <th>3</th>\n",
       "      <td>4</td>\n",
       "      <td>Motor Vehicle Theft</td>\n",
       "      <td>202500021390</td>\n",
       "      <td>1700</td>\n",
       "      <td>MONTICELLO RD</td>\n",
       "      <td>CPD</td>\n",
       "      <td>1256</td>\n",
       "      <td>Eckenroth, Rachel</td>\n",
       "      <td>2025-06-21 12:56:34</td>\n",
       "      <td>2025-06-21 12:56:34 PM</td>\n",
       "      <td>Saturday</td>\n",
       "      <td>True</td>\n",
       "      <td>Summer</td>\n",
       "      <td>12:56 PM</td>\n",
       "      <td>Afternoon</td>\n",
       "      <td>1700 MONTICELLO RD</td>\n",
       "      <td>38.016489</td>\n",
       "      <td>-78.473156</td>\n",
       "    </tr>\n",
       "    <tr>\n",
       "      <th>4</th>\n",
       "      <td>5</td>\n",
       "      <td>Burglary</td>\n",
       "      <td>202500021384</td>\n",
       "      <td>100</td>\n",
       "      <td>ELLIEWOOD AVE</td>\n",
       "      <td>CPD</td>\n",
       "      <td>1158</td>\n",
       "      <td>O'Briant, Landon</td>\n",
       "      <td>2025-06-21 11:58:28</td>\n",
       "      <td>2025-06-21 11:58:28 AM</td>\n",
       "      <td>Saturday</td>\n",
       "      <td>True</td>\n",
       "      <td>Summer</td>\n",
       "      <td>11:58 AM</td>\n",
       "      <td>Morning</td>\n",
       "      <td>100 ELLIEWOOD AVE</td>\n",
       "      <td>38.036309</td>\n",
       "      <td>-78.500571</td>\n",
       "    </tr>\n",
       "  </tbody>\n",
       "</table>\n",
       "</div>"
      ],
      "text/plain": [
       "   RecordID              Offense    IncidentID BlockNumber     StreetName  \\\n",
       "0         1       Drunkeness DIP  202500021430         200      W MAIN ST   \n",
       "1         2  Larceny - All Other  202500021409         300      MEADE AVE   \n",
       "2         3  Suspicious Activity  202500021401        1400       BAKER ST   \n",
       "3         4  Motor Vehicle Theft  202500021390        1700  MONTICELLO RD   \n",
       "4         5             Burglary  202500021384         100  ELLIEWOOD AVE   \n",
       "\n",
       "  Agency HourReported   ReportingOfficer                Date  \\\n",
       "0    CPD         2016      Turner, Devon 2025-06-21 20:16:45   \n",
       "1    CPD         1708      Bland, Johnnà 2025-06-21 17:08:09   \n",
       "2    CPD         1517      Rigsby, Lloyd 2025-06-21 15:17:08   \n",
       "3    CPD         1256  Eckenroth, Rachel 2025-06-21 12:56:34   \n",
       "4    CPD         1158   O'Briant, Landon 2025-06-21 11:58:28   \n",
       "\n",
       "               DateString DayOfWeek  Weekend  Season  HourAMPM  TimeOfDay  \\\n",
       "0  2025-06-21 08:16:45 PM  Saturday     True  Summer  08:16 PM    Evening   \n",
       "1  2025-06-21 05:08:09 PM  Saturday     True  Summer  05:08 PM    Evening   \n",
       "2  2025-06-21 03:17:08 PM  Saturday     True  Summer  03:17 PM  Afternoon   \n",
       "3  2025-06-21 12:56:34 PM  Saturday     True  Summer  12:56 PM  Afternoon   \n",
       "4  2025-06-21 11:58:28 AM  Saturday     True  Summer  11:58 AM    Morning   \n",
       "\n",
       "           FullStreet        lat        lon  \n",
       "0       200 W MAIN ST  38.030841 -78.482517  \n",
       "1       300 MEADE AVE  38.027759 -78.466098  \n",
       "2       1400 BAKER ST  38.025760 -78.502157  \n",
       "3  1700 MONTICELLO RD  38.016489 -78.473156  \n",
       "4   100 ELLIEWOOD AVE  38.036309 -78.500571  "
      ]
     },
     "execution_count": 9,
     "metadata": {},
     "output_type": "execute_result"
    }
   ],
   "source": [
    "# Combine BlockNumber and StreetName into a full address string\n",
    "df['FullStreet'] = df['BlockNumber'].astype(str) + \" \" + df['StreetName']\n",
    "\n",
    "# --- Step 1: Setup the Google Maps Client and Cache ---\n",
    "gmaps = googlemaps.Client(key=GOOGLE_API_KEY)\n",
    "\n",
    "# Try to load cached geocoding results if available.\n",
    "try:\n",
    "    with open(\"geocode_cache_google.pkl\", \"rb\") as f:\n",
    "        street_coords = pickle.load(f)\n",
    "    print(\"Loaded geocode cache.\")\n",
    "except FileNotFoundError:\n",
    "    street_coords = {}\n",
    "    print(\"No cache found; starting fresh.\")\n",
    "\n",
    "def geocode_address(address):\n",
    "    try:\n",
    "        # Append city and state to help geocoding\n",
    "        result = gmaps.geocode(f\"{address}, Charlottesville, VA\")\n",
    "        if result:\n",
    "            lat = result[0]['geometry']['location']['lat']\n",
    "            lon = result[0]['geometry']['location']['lng']\n",
    "            return lat, lon\n",
    "    except Exception as e:\n",
    "        print(f\"Error geocoding {address}: {e}\")\n",
    "    return None, None\n",
    "\n",
    "# --- Step 2: Geocode Only New Addresses ---\n",
    "unique_addresses = df['FullStreet'].unique()\n",
    "for address in unique_addresses:\n",
    "    if address not in street_coords:\n",
    "        lat, lon = geocode_address(address)\n",
    "        street_coords[address] = (lat, lon)\n",
    "        print(f\"Geocoded {address}: {lat}, {lon}\")\n",
    "\n",
    "# Save the updated cache to disk.\n",
    "with open(\"geocode_cache_google.pkl\", \"wb\") as f:\n",
    "    pickle.dump(street_coords, f)\n",
    "    print(\"Geocode cache updated and saved.\")\n",
    "\n",
    "# --- Step 3: Map Coordinates Back to DataFrame ---\n",
    "df['lat'] = df['FullStreet'].map(lambda s: street_coords.get(s, (None, None))[0])\n",
    "df['lon'] = df['FullStreet'].map(lambda s: street_coords.get(s, (None, None))[1])\n",
    "\n",
    "df.head()"
   ]
  },
  {
   "cell_type": "markdown",
   "id": "f04e519b",
   "metadata": {
    "papermill": {
     "duration": 0.00449,
     "end_time": "2025-06-24T01:06:39.620027",
     "exception": false,
     "start_time": "2025-06-24T01:06:39.615537",
     "status": "completed"
    },
    "tags": []
   },
   "source": [
    "### Neighborhood"
   ]
  },
  {
   "cell_type": "code",
   "execution_count": 10,
   "id": "933c01a2",
   "metadata": {
    "execution": {
     "iopub.execute_input": "2025-06-24T01:06:39.629750Z",
     "iopub.status.busy": "2025-06-24T01:06:39.629542Z",
     "iopub.status.idle": "2025-06-24T01:06:40.602511Z",
     "shell.execute_reply": "2025-06-24T01:06:40.601659Z"
    },
    "papermill": {
     "duration": 0.979572,
     "end_time": "2025-06-24T01:06:40.603977",
     "exception": false,
     "start_time": "2025-06-24T01:06:39.624405",
     "status": "completed"
    },
    "tags": []
   },
   "outputs": [
    {
     "name": "stdout",
     "output_type": "stream",
     "text": [
      "Loaded neighborhood cache.\n"
     ]
    },
    {
     "name": "stdout",
     "output_type": "stream",
     "text": [
      "Error getting neighborhood for nan, nan: HTTP Error: 400\n",
      "Error getting neighborhood for nan, nan: HTTP Error: 400\n",
      "Error getting neighborhood for nan, nan: HTTP Error: 400\n"
     ]
    },
    {
     "name": "stdout",
     "output_type": "stream",
     "text": [
      "Error getting neighborhood for nan, nan: HTTP Error: 400\n",
      "Error getting neighborhood for nan, nan: HTTP Error: 400\n",
      "Error getting neighborhood for nan, nan: HTTP Error: 400\n",
      "Error getting neighborhood for nan, nan: HTTP Error: 400\n",
      "Error getting neighborhood for nan, nan: HTTP Error: 400\n"
     ]
    },
    {
     "name": "stdout",
     "output_type": "stream",
     "text": [
      "Error getting neighborhood for nan, nan: HTTP Error: 400\n",
      "Error getting neighborhood for nan, nan: HTTP Error: 400\n",
      "Error getting neighborhood for nan, nan: HTTP Error: 400\n"
     ]
    },
    {
     "name": "stdout",
     "output_type": "stream",
     "text": [
      "Error getting neighborhood for nan, nan: HTTP Error: 400\n",
      "Error getting neighborhood for nan, nan: HTTP Error: 400\n",
      "Error getting neighborhood for nan, nan: HTTP Error: 400\n",
      "Error getting neighborhood for nan, nan: HTTP Error: 400\n",
      "Error getting neighborhood for nan, nan: HTTP Error: 400\n",
      "Error getting neighborhood for nan, nan: HTTP Error: 400\n"
     ]
    },
    {
     "name": "stdout",
     "output_type": "stream",
     "text": [
      "Error getting neighborhood for nan, nan: HTTP Error: 400\n",
      "Error getting neighborhood for nan, nan: HTTP Error: 400\n",
      "Error getting neighborhood for nan, nan: HTTP Error: 400\n"
     ]
    },
    {
     "name": "stdout",
     "output_type": "stream",
     "text": [
      "Error getting neighborhood for nan, nan: HTTP Error: 400\n",
      "Error getting neighborhood for nan, nan: HTTP Error: 400\n",
      "Error getting neighborhood for nan, nan: HTTP Error: 400\n",
      "Error getting neighborhood for nan, nan: HTTP Error: 400\n",
      "Error getting neighborhood for nan, nan: HTTP Error: 400\n",
      "Error getting neighborhood for nan, nan: HTTP Error: 400\n"
     ]
    },
    {
     "name": "stdout",
     "output_type": "stream",
     "text": [
      "Error getting neighborhood for nan, nan: HTTP Error: 400\n"
     ]
    },
    {
     "data": {
      "text/html": [
       "<div>\n",
       "<style scoped>\n",
       "    .dataframe tbody tr th:only-of-type {\n",
       "        vertical-align: middle;\n",
       "    }\n",
       "\n",
       "    .dataframe tbody tr th {\n",
       "        vertical-align: top;\n",
       "    }\n",
       "\n",
       "    .dataframe thead th {\n",
       "        text-align: right;\n",
       "    }\n",
       "</style>\n",
       "<table border=\"1\" class=\"dataframe\">\n",
       "  <thead>\n",
       "    <tr style=\"text-align: right;\">\n",
       "      <th></th>\n",
       "      <th>RecordID</th>\n",
       "      <th>Offense</th>\n",
       "      <th>IncidentID</th>\n",
       "      <th>BlockNumber</th>\n",
       "      <th>StreetName</th>\n",
       "      <th>Agency</th>\n",
       "      <th>HourReported</th>\n",
       "      <th>ReportingOfficer</th>\n",
       "      <th>Date</th>\n",
       "      <th>DateString</th>\n",
       "      <th>DayOfWeek</th>\n",
       "      <th>Weekend</th>\n",
       "      <th>Season</th>\n",
       "      <th>HourAMPM</th>\n",
       "      <th>TimeOfDay</th>\n",
       "      <th>FullStreet</th>\n",
       "      <th>lat</th>\n",
       "      <th>lon</th>\n",
       "      <th>neighborhood</th>\n",
       "    </tr>\n",
       "  </thead>\n",
       "  <tbody>\n",
       "    <tr>\n",
       "      <th>0</th>\n",
       "      <td>1</td>\n",
       "      <td>Drunkeness DIP</td>\n",
       "      <td>202500021430</td>\n",
       "      <td>200</td>\n",
       "      <td>W MAIN ST</td>\n",
       "      <td>CPD</td>\n",
       "      <td>2016</td>\n",
       "      <td>Turner, Devon</td>\n",
       "      <td>2025-06-21 20:16:45</td>\n",
       "      <td>2025-06-21 08:16:45 PM</td>\n",
       "      <td>Saturday</td>\n",
       "      <td>True</td>\n",
       "      <td>Summer</td>\n",
       "      <td>08:16 PM</td>\n",
       "      <td>Evening</td>\n",
       "      <td>200 W MAIN ST</td>\n",
       "      <td>38.030841</td>\n",
       "      <td>-78.482517</td>\n",
       "      <td>Downtown Mall</td>\n",
       "    </tr>\n",
       "    <tr>\n",
       "      <th>1</th>\n",
       "      <td>2</td>\n",
       "      <td>Larceny - All Other</td>\n",
       "      <td>202500021409</td>\n",
       "      <td>300</td>\n",
       "      <td>MEADE AVE</td>\n",
       "      <td>CPD</td>\n",
       "      <td>1708</td>\n",
       "      <td>Bland, Johnnà</td>\n",
       "      <td>2025-06-21 17:08:09</td>\n",
       "      <td>2025-06-21 05:08:09 PM</td>\n",
       "      <td>Saturday</td>\n",
       "      <td>True</td>\n",
       "      <td>Summer</td>\n",
       "      <td>05:08 PM</td>\n",
       "      <td>Evening</td>\n",
       "      <td>300 MEADE AVE</td>\n",
       "      <td>38.027759</td>\n",
       "      <td>-78.466098</td>\n",
       "      <td>Woolen Mills</td>\n",
       "    </tr>\n",
       "    <tr>\n",
       "      <th>2</th>\n",
       "      <td>3</td>\n",
       "      <td>Suspicious Activity</td>\n",
       "      <td>202500021401</td>\n",
       "      <td>1400</td>\n",
       "      <td>BAKER ST</td>\n",
       "      <td>CPD</td>\n",
       "      <td>1517</td>\n",
       "      <td>Rigsby, Lloyd</td>\n",
       "      <td>2025-06-21 15:17:08</td>\n",
       "      <td>2025-06-21 03:17:08 PM</td>\n",
       "      <td>Saturday</td>\n",
       "      <td>True</td>\n",
       "      <td>Summer</td>\n",
       "      <td>03:17 PM</td>\n",
       "      <td>Afternoon</td>\n",
       "      <td>1400 BAKER ST</td>\n",
       "      <td>38.025760</td>\n",
       "      <td>-78.502157</td>\n",
       "      <td>Fifeville</td>\n",
       "    </tr>\n",
       "    <tr>\n",
       "      <th>3</th>\n",
       "      <td>4</td>\n",
       "      <td>Motor Vehicle Theft</td>\n",
       "      <td>202500021390</td>\n",
       "      <td>1700</td>\n",
       "      <td>MONTICELLO RD</td>\n",
       "      <td>CPD</td>\n",
       "      <td>1256</td>\n",
       "      <td>Eckenroth, Rachel</td>\n",
       "      <td>2025-06-21 12:56:34</td>\n",
       "      <td>2025-06-21 12:56:34 PM</td>\n",
       "      <td>Saturday</td>\n",
       "      <td>True</td>\n",
       "      <td>Summer</td>\n",
       "      <td>12:56 PM</td>\n",
       "      <td>Afternoon</td>\n",
       "      <td>1700 MONTICELLO RD</td>\n",
       "      <td>38.016489</td>\n",
       "      <td>-78.473156</td>\n",
       "      <td>Belmont</td>\n",
       "    </tr>\n",
       "    <tr>\n",
       "      <th>4</th>\n",
       "      <td>5</td>\n",
       "      <td>Burglary</td>\n",
       "      <td>202500021384</td>\n",
       "      <td>100</td>\n",
       "      <td>ELLIEWOOD AVE</td>\n",
       "      <td>CPD</td>\n",
       "      <td>1158</td>\n",
       "      <td>O'Briant, Landon</td>\n",
       "      <td>2025-06-21 11:58:28</td>\n",
       "      <td>2025-06-21 11:58:28 AM</td>\n",
       "      <td>Saturday</td>\n",
       "      <td>True</td>\n",
       "      <td>Summer</td>\n",
       "      <td>11:58 AM</td>\n",
       "      <td>Morning</td>\n",
       "      <td>100 ELLIEWOOD AVE</td>\n",
       "      <td>38.036309</td>\n",
       "      <td>-78.500571</td>\n",
       "      <td>Venable</td>\n",
       "    </tr>\n",
       "  </tbody>\n",
       "</table>\n",
       "</div>"
      ],
      "text/plain": [
       "   RecordID              Offense    IncidentID BlockNumber     StreetName  \\\n",
       "0         1       Drunkeness DIP  202500021430         200      W MAIN ST   \n",
       "1         2  Larceny - All Other  202500021409         300      MEADE AVE   \n",
       "2         3  Suspicious Activity  202500021401        1400       BAKER ST   \n",
       "3         4  Motor Vehicle Theft  202500021390        1700  MONTICELLO RD   \n",
       "4         5             Burglary  202500021384         100  ELLIEWOOD AVE   \n",
       "\n",
       "  Agency HourReported   ReportingOfficer                Date  \\\n",
       "0    CPD         2016      Turner, Devon 2025-06-21 20:16:45   \n",
       "1    CPD         1708      Bland, Johnnà 2025-06-21 17:08:09   \n",
       "2    CPD         1517      Rigsby, Lloyd 2025-06-21 15:17:08   \n",
       "3    CPD         1256  Eckenroth, Rachel 2025-06-21 12:56:34   \n",
       "4    CPD         1158   O'Briant, Landon 2025-06-21 11:58:28   \n",
       "\n",
       "               DateString DayOfWeek  Weekend  Season  HourAMPM  TimeOfDay  \\\n",
       "0  2025-06-21 08:16:45 PM  Saturday     True  Summer  08:16 PM    Evening   \n",
       "1  2025-06-21 05:08:09 PM  Saturday     True  Summer  05:08 PM    Evening   \n",
       "2  2025-06-21 03:17:08 PM  Saturday     True  Summer  03:17 PM  Afternoon   \n",
       "3  2025-06-21 12:56:34 PM  Saturday     True  Summer  12:56 PM  Afternoon   \n",
       "4  2025-06-21 11:58:28 AM  Saturday     True  Summer  11:58 AM    Morning   \n",
       "\n",
       "           FullStreet        lat        lon   neighborhood  \n",
       "0       200 W MAIN ST  38.030841 -78.482517  Downtown Mall  \n",
       "1       300 MEADE AVE  38.027759 -78.466098   Woolen Mills  \n",
       "2       1400 BAKER ST  38.025760 -78.502157      Fifeville  \n",
       "3  1700 MONTICELLO RD  38.016489 -78.473156        Belmont  \n",
       "4   100 ELLIEWOOD AVE  38.036309 -78.500571        Venable  "
      ]
     },
     "execution_count": 10,
     "metadata": {},
     "output_type": "execute_result"
    }
   ],
   "source": [
    "# Initialize the Google Maps client.\n",
    "gmaps = googlemaps.Client(key=GOOGLE_API_KEY)\n",
    "\n",
    "# Try to load a persistent neighborhood cache if available.\n",
    "try:\n",
    "    with open(\"neighborhood_cache.pkl\", \"rb\") as f:\n",
    "        neighborhood_cache = pickle.load(f)\n",
    "    print(\"Loaded neighborhood cache.\")\n",
    "except FileNotFoundError:\n",
    "    neighborhood_cache = {}\n",
    "    print(\"No neighborhood cache found; starting fresh.\")\n",
    "\n",
    "def get_neighborhood(lat, lon):\n",
    "    \"\"\"\n",
    "    Reverse geocodes a latitude and longitude to retrieve the neighborhood.\n",
    "    Caches results to speed up subsequent lookups.\n",
    "    \"\"\"\n",
    "    key = (lat, lon)\n",
    "    if key in neighborhood_cache:\n",
    "        return neighborhood_cache[key]\n",
    "    \n",
    "    try:\n",
    "        result = gmaps.reverse_geocode((lat, lon))\n",
    "        if result:\n",
    "            # Look for the 'neighborhood' component in the first result.\n",
    "            for component in result[0]['address_components']:\n",
    "                if 'neighborhood' in component['types']:\n",
    "                    neighborhood = component['long_name']\n",
    "                    neighborhood_cache[key] = neighborhood\n",
    "                    return neighborhood\n",
    "            # If no neighborhood is found, return \"N/A\"\n",
    "            neighborhood_cache[key] = \"N/A\"\n",
    "            return \"N/A\"\n",
    "    except Exception as e:\n",
    "        print(f\"Error getting neighborhood for {lat}, {lon}: {e}\")\n",
    "        return \"N/A\"\n",
    "    \n",
    "    # Pause to respect usage limits.\n",
    "    time.sleep(1)\n",
    "\n",
    "# Example usage: Apply to your DataFrame 'df' that already has 'lat' and 'lon' columns.\n",
    "df['neighborhood'] = df.apply(lambda row: get_neighborhood(row['lat'], row['lon']), axis=1)\n",
    "\n",
    "# Save the updated neighborhood cache.\n",
    "with open(\"neighborhood_cache.pkl\", \"wb\") as f:\n",
    "    pickle.dump(neighborhood_cache, f)\n",
    "\n",
    "df.head()\n"
   ]
  },
  {
   "cell_type": "markdown",
   "id": "5360483c",
   "metadata": {
    "papermill": {
     "duration": 0.008819,
     "end_time": "2025-06-24T01:06:40.622326",
     "exception": false,
     "start_time": "2025-06-24T01:06:40.613507",
     "status": "completed"
    },
    "tags": []
   },
   "source": [
    "### Zip"
   ]
  },
  {
   "cell_type": "code",
   "execution_count": 11,
   "id": "938e32fa",
   "metadata": {
    "execution": {
     "iopub.execute_input": "2025-06-24T01:06:40.635654Z",
     "iopub.status.busy": "2025-06-24T01:06:40.635363Z",
     "iopub.status.idle": "2025-06-24T01:07:07.919338Z",
     "shell.execute_reply": "2025-06-24T01:07:07.918638Z"
    },
    "papermill": {
     "duration": 27.290819,
     "end_time": "2025-06-24T01:07:07.920431",
     "exception": false,
     "start_time": "2025-06-24T01:06:40.629612",
     "status": "completed"
    },
    "tags": []
   },
   "outputs": [
    {
     "name": "stdout",
     "output_type": "stream",
     "text": [
      "Loaded zip cache.\n",
      "Error getting ZIP for nan, nan: Must be a coordinate pair or Point\n"
     ]
    },
    {
     "name": "stdout",
     "output_type": "stream",
     "text": [
      "Error getting ZIP for nan, nan: Must be a coordinate pair or Point\n"
     ]
    },
    {
     "name": "stdout",
     "output_type": "stream",
     "text": [
      "Error getting ZIP for nan, nan: Must be a coordinate pair or Point\n"
     ]
    },
    {
     "name": "stdout",
     "output_type": "stream",
     "text": [
      "Error getting ZIP for nan, nan: Must be a coordinate pair or Point\n"
     ]
    },
    {
     "name": "stdout",
     "output_type": "stream",
     "text": [
      "Error getting ZIP for nan, nan: Must be a coordinate pair or Point\n"
     ]
    },
    {
     "name": "stdout",
     "output_type": "stream",
     "text": [
      "Error getting ZIP for nan, nan: Must be a coordinate pair or Point\n"
     ]
    },
    {
     "name": "stdout",
     "output_type": "stream",
     "text": [
      "Error getting ZIP for nan, nan: Must be a coordinate pair or Point\n"
     ]
    },
    {
     "name": "stdout",
     "output_type": "stream",
     "text": [
      "Error getting ZIP for nan, nan: Must be a coordinate pair or Point\n"
     ]
    },
    {
     "name": "stdout",
     "output_type": "stream",
     "text": [
      "Error getting ZIP for nan, nan: Must be a coordinate pair or Point\n"
     ]
    },
    {
     "name": "stdout",
     "output_type": "stream",
     "text": [
      "Error getting ZIP for nan, nan: Must be a coordinate pair or Point\n"
     ]
    },
    {
     "name": "stdout",
     "output_type": "stream",
     "text": [
      "Error getting ZIP for nan, nan: Must be a coordinate pair or Point\n"
     ]
    },
    {
     "name": "stdout",
     "output_type": "stream",
     "text": [
      "Error getting ZIP for nan, nan: Must be a coordinate pair or Point\n"
     ]
    },
    {
     "name": "stdout",
     "output_type": "stream",
     "text": [
      "Error getting ZIP for nan, nan: Must be a coordinate pair or Point\n"
     ]
    },
    {
     "name": "stdout",
     "output_type": "stream",
     "text": [
      "Error getting ZIP for nan, nan: Must be a coordinate pair or Point\n"
     ]
    },
    {
     "name": "stdout",
     "output_type": "stream",
     "text": [
      "Error getting ZIP for nan, nan: Must be a coordinate pair or Point\n"
     ]
    },
    {
     "name": "stdout",
     "output_type": "stream",
     "text": [
      "Error getting ZIP for nan, nan: Must be a coordinate pair or Point\n"
     ]
    },
    {
     "name": "stdout",
     "output_type": "stream",
     "text": [
      "Error getting ZIP for nan, nan: Must be a coordinate pair or Point\n"
     ]
    },
    {
     "name": "stdout",
     "output_type": "stream",
     "text": [
      "Error getting ZIP for nan, nan: Must be a coordinate pair or Point\n"
     ]
    },
    {
     "name": "stdout",
     "output_type": "stream",
     "text": [
      "Error getting ZIP for nan, nan: Must be a coordinate pair or Point\n"
     ]
    },
    {
     "name": "stdout",
     "output_type": "stream",
     "text": [
      "Error getting ZIP for nan, nan: Must be a coordinate pair or Point\n"
     ]
    },
    {
     "name": "stdout",
     "output_type": "stream",
     "text": [
      "Error getting ZIP for nan, nan: Must be a coordinate pair or Point\n"
     ]
    },
    {
     "name": "stdout",
     "output_type": "stream",
     "text": [
      "Error getting ZIP for nan, nan: Must be a coordinate pair or Point\n"
     ]
    },
    {
     "name": "stdout",
     "output_type": "stream",
     "text": [
      "Error getting ZIP for nan, nan: Must be a coordinate pair or Point\n"
     ]
    },
    {
     "name": "stdout",
     "output_type": "stream",
     "text": [
      "Error getting ZIP for nan, nan: Must be a coordinate pair or Point\n"
     ]
    },
    {
     "name": "stdout",
     "output_type": "stream",
     "text": [
      "Error getting ZIP for nan, nan: Must be a coordinate pair or Point\n"
     ]
    },
    {
     "name": "stdout",
     "output_type": "stream",
     "text": [
      "Error getting ZIP for nan, nan: Must be a coordinate pair or Point\n"
     ]
    },
    {
     "name": "stdout",
     "output_type": "stream",
     "text": [
      "Error getting ZIP for nan, nan: Must be a coordinate pair or Point\n"
     ]
    },
    {
     "data": {
      "text/html": [
       "<div>\n",
       "<style scoped>\n",
       "    .dataframe tbody tr th:only-of-type {\n",
       "        vertical-align: middle;\n",
       "    }\n",
       "\n",
       "    .dataframe tbody tr th {\n",
       "        vertical-align: top;\n",
       "    }\n",
       "\n",
       "    .dataframe thead th {\n",
       "        text-align: right;\n",
       "    }\n",
       "</style>\n",
       "<table border=\"1\" class=\"dataframe\">\n",
       "  <thead>\n",
       "    <tr style=\"text-align: right;\">\n",
       "      <th></th>\n",
       "      <th>RecordID</th>\n",
       "      <th>Offense</th>\n",
       "      <th>IncidentID</th>\n",
       "      <th>BlockNumber</th>\n",
       "      <th>StreetName</th>\n",
       "      <th>Agency</th>\n",
       "      <th>HourReported</th>\n",
       "      <th>ReportingOfficer</th>\n",
       "      <th>Date</th>\n",
       "      <th>DateString</th>\n",
       "      <th>DayOfWeek</th>\n",
       "      <th>Weekend</th>\n",
       "      <th>Season</th>\n",
       "      <th>HourAMPM</th>\n",
       "      <th>TimeOfDay</th>\n",
       "      <th>FullStreet</th>\n",
       "      <th>lat</th>\n",
       "      <th>lon</th>\n",
       "      <th>neighborhood</th>\n",
       "      <th>zip</th>\n",
       "    </tr>\n",
       "  </thead>\n",
       "  <tbody>\n",
       "    <tr>\n",
       "      <th>0</th>\n",
       "      <td>1</td>\n",
       "      <td>Drunkeness DIP</td>\n",
       "      <td>202500021430</td>\n",
       "      <td>200</td>\n",
       "      <td>W MAIN ST</td>\n",
       "      <td>CPD</td>\n",
       "      <td>2016</td>\n",
       "      <td>Turner, Devon</td>\n",
       "      <td>2025-06-21 20:16:45</td>\n",
       "      <td>2025-06-21 08:16:45 PM</td>\n",
       "      <td>Saturday</td>\n",
       "      <td>True</td>\n",
       "      <td>Summer</td>\n",
       "      <td>08:16 PM</td>\n",
       "      <td>Evening</td>\n",
       "      <td>200 W MAIN ST</td>\n",
       "      <td>38.030841</td>\n",
       "      <td>-78.482517</td>\n",
       "      <td>Downtown Mall</td>\n",
       "      <td>22902</td>\n",
       "    </tr>\n",
       "    <tr>\n",
       "      <th>1</th>\n",
       "      <td>2</td>\n",
       "      <td>Larceny - All Other</td>\n",
       "      <td>202500021409</td>\n",
       "      <td>300</td>\n",
       "      <td>MEADE AVE</td>\n",
       "      <td>CPD</td>\n",
       "      <td>1708</td>\n",
       "      <td>Bland, Johnnà</td>\n",
       "      <td>2025-06-21 17:08:09</td>\n",
       "      <td>2025-06-21 05:08:09 PM</td>\n",
       "      <td>Saturday</td>\n",
       "      <td>True</td>\n",
       "      <td>Summer</td>\n",
       "      <td>05:08 PM</td>\n",
       "      <td>Evening</td>\n",
       "      <td>300 MEADE AVE</td>\n",
       "      <td>38.027759</td>\n",
       "      <td>-78.466098</td>\n",
       "      <td>Woolen Mills</td>\n",
       "      <td>22902</td>\n",
       "    </tr>\n",
       "    <tr>\n",
       "      <th>2</th>\n",
       "      <td>3</td>\n",
       "      <td>Suspicious Activity</td>\n",
       "      <td>202500021401</td>\n",
       "      <td>1400</td>\n",
       "      <td>BAKER ST</td>\n",
       "      <td>CPD</td>\n",
       "      <td>1517</td>\n",
       "      <td>Rigsby, Lloyd</td>\n",
       "      <td>2025-06-21 15:17:08</td>\n",
       "      <td>2025-06-21 03:17:08 PM</td>\n",
       "      <td>Saturday</td>\n",
       "      <td>True</td>\n",
       "      <td>Summer</td>\n",
       "      <td>03:17 PM</td>\n",
       "      <td>Afternoon</td>\n",
       "      <td>1400 BAKER ST</td>\n",
       "      <td>38.025760</td>\n",
       "      <td>-78.502157</td>\n",
       "      <td>Fifeville</td>\n",
       "      <td>22903</td>\n",
       "    </tr>\n",
       "    <tr>\n",
       "      <th>3</th>\n",
       "      <td>4</td>\n",
       "      <td>Motor Vehicle Theft</td>\n",
       "      <td>202500021390</td>\n",
       "      <td>1700</td>\n",
       "      <td>MONTICELLO RD</td>\n",
       "      <td>CPD</td>\n",
       "      <td>1256</td>\n",
       "      <td>Eckenroth, Rachel</td>\n",
       "      <td>2025-06-21 12:56:34</td>\n",
       "      <td>2025-06-21 12:56:34 PM</td>\n",
       "      <td>Saturday</td>\n",
       "      <td>True</td>\n",
       "      <td>Summer</td>\n",
       "      <td>12:56 PM</td>\n",
       "      <td>Afternoon</td>\n",
       "      <td>1700 MONTICELLO RD</td>\n",
       "      <td>38.016489</td>\n",
       "      <td>-78.473156</td>\n",
       "      <td>Belmont</td>\n",
       "      <td>22902</td>\n",
       "    </tr>\n",
       "    <tr>\n",
       "      <th>4</th>\n",
       "      <td>5</td>\n",
       "      <td>Burglary</td>\n",
       "      <td>202500021384</td>\n",
       "      <td>100</td>\n",
       "      <td>ELLIEWOOD AVE</td>\n",
       "      <td>CPD</td>\n",
       "      <td>1158</td>\n",
       "      <td>O'Briant, Landon</td>\n",
       "      <td>2025-06-21 11:58:28</td>\n",
       "      <td>2025-06-21 11:58:28 AM</td>\n",
       "      <td>Saturday</td>\n",
       "      <td>True</td>\n",
       "      <td>Summer</td>\n",
       "      <td>11:58 AM</td>\n",
       "      <td>Morning</td>\n",
       "      <td>100 ELLIEWOOD AVE</td>\n",
       "      <td>38.036309</td>\n",
       "      <td>-78.500571</td>\n",
       "      <td>Venable</td>\n",
       "      <td>22903</td>\n",
       "    </tr>\n",
       "  </tbody>\n",
       "</table>\n",
       "</div>"
      ],
      "text/plain": [
       "   RecordID              Offense    IncidentID BlockNumber     StreetName  \\\n",
       "0         1       Drunkeness DIP  202500021430         200      W MAIN ST   \n",
       "1         2  Larceny - All Other  202500021409         300      MEADE AVE   \n",
       "2         3  Suspicious Activity  202500021401        1400       BAKER ST   \n",
       "3         4  Motor Vehicle Theft  202500021390        1700  MONTICELLO RD   \n",
       "4         5             Burglary  202500021384         100  ELLIEWOOD AVE   \n",
       "\n",
       "  Agency HourReported   ReportingOfficer                Date  \\\n",
       "0    CPD         2016      Turner, Devon 2025-06-21 20:16:45   \n",
       "1    CPD         1708      Bland, Johnnà 2025-06-21 17:08:09   \n",
       "2    CPD         1517      Rigsby, Lloyd 2025-06-21 15:17:08   \n",
       "3    CPD         1256  Eckenroth, Rachel 2025-06-21 12:56:34   \n",
       "4    CPD         1158   O'Briant, Landon 2025-06-21 11:58:28   \n",
       "\n",
       "               DateString DayOfWeek  Weekend  Season  HourAMPM  TimeOfDay  \\\n",
       "0  2025-06-21 08:16:45 PM  Saturday     True  Summer  08:16 PM    Evening   \n",
       "1  2025-06-21 05:08:09 PM  Saturday     True  Summer  05:08 PM    Evening   \n",
       "2  2025-06-21 03:17:08 PM  Saturday     True  Summer  03:17 PM  Afternoon   \n",
       "3  2025-06-21 12:56:34 PM  Saturday     True  Summer  12:56 PM  Afternoon   \n",
       "4  2025-06-21 11:58:28 AM  Saturday     True  Summer  11:58 AM    Morning   \n",
       "\n",
       "           FullStreet        lat        lon   neighborhood    zip  \n",
       "0       200 W MAIN ST  38.030841 -78.482517  Downtown Mall  22902  \n",
       "1       300 MEADE AVE  38.027759 -78.466098   Woolen Mills  22902  \n",
       "2       1400 BAKER ST  38.025760 -78.502157      Fifeville  22903  \n",
       "3  1700 MONTICELLO RD  38.016489 -78.473156        Belmont  22902  \n",
       "4   100 ELLIEWOOD AVE  38.036309 -78.500571        Venable  22903  "
      ]
     },
     "execution_count": 11,
     "metadata": {},
     "output_type": "execute_result"
    }
   ],
   "source": [
    "# Initialize the geocoder.\n",
    "geolocator = Nominatim(user_agent=\"zip_lookup\")\n",
    "\n",
    "# Try to load a persistent ZIP cache if available.\n",
    "try:\n",
    "    with open(\"zip_cache.pkl\", \"rb\") as f:\n",
    "        zip_cache = pickle.load(f)\n",
    "    print(\"Loaded zip cache.\")\n",
    "except FileNotFoundError:\n",
    "    zip_cache = {}\n",
    "    print(\"No zip cache found; starting fresh.\")\n",
    "\n",
    "def get_zip(lat, lon):\n",
    "    \"\"\"\n",
    "    Reverse geocodes a latitude and longitude to retrieve the ZIP code.\n",
    "    Caches results to speed up subsequent lookups.\n",
    "    \"\"\"\n",
    "    key = (lat, lon)\n",
    "    if key in zip_cache:\n",
    "        return zip_cache[key]\n",
    "    \n",
    "    try:\n",
    "        location = geolocator.reverse((lat, lon), exactly_one=True, timeout=10)\n",
    "        address = location.raw.get('address', {})\n",
    "        postal_code = address.get('postcode', \"N/A\")\n",
    "    except Exception as e:\n",
    "        print(f\"Error getting ZIP for {lat}, {lon}: {e}\")\n",
    "        postal_code = \"N/A\"\n",
    "    \n",
    "    zip_cache[key] = postal_code\n",
    "    # Pause to respect the usage policy.\n",
    "    time.sleep(1)\n",
    "    return postal_code\n",
    "\n",
    "# Apply the function to each row in the DataFrame.\n",
    "df['zip'] = df.apply(lambda row: get_zip(row['lat'], row['lon']), axis=1)\n",
    "\n",
    "# Save the updated ZIP cache.\n",
    "with open(\"zip_cache.pkl\", \"wb\") as f:\n",
    "    pickle.dump(zip_cache, f)\n",
    "\n",
    "df.head()\n"
   ]
  },
  {
   "cell_type": "code",
   "execution_count": 12,
   "id": "e335e83e",
   "metadata": {
    "execution": {
     "iopub.execute_input": "2025-06-24T01:07:07.934977Z",
     "iopub.status.busy": "2025-06-24T01:07:07.934396Z",
     "iopub.status.idle": "2025-06-24T01:07:07.965849Z",
     "shell.execute_reply": "2025-06-24T01:07:07.965248Z"
    },
    "papermill": {
     "duration": 0.039517,
     "end_time": "2025-06-24T01:07:07.966890",
     "exception": false,
     "start_time": "2025-06-24T01:07:07.927373",
     "status": "completed"
    },
    "tags": []
   },
   "outputs": [
    {
     "name": "stdout",
     "output_type": "stream",
     "text": [
      "                  MissingCount  MissingPercentage\n",
      "RecordID                     0               0.00\n",
      "Offense                      0               0.00\n",
      "IncidentID                   0               0.00\n",
      "BlockNumber                  0               0.00\n",
      "StreetName                   0               0.00\n",
      "Agency                       0               0.00\n",
      "HourReported                 0               0.00\n",
      "ReportingOfficer            17               0.07\n",
      "Date                         0               0.00\n",
      "DateString                   0               0.00\n",
      "DayOfWeek                    0               0.00\n",
      "Weekend                      0               0.00\n",
      "Season                       0               0.00\n",
      "HourAMPM                     0               0.00\n",
      "TimeOfDay                    0               0.00\n",
      "FullStreet                   0               0.00\n",
      "lat                         27               0.11\n",
      "lon                         27               0.11\n",
      "neighborhood                 0               0.00\n",
      "zip                          0               0.00\n"
     ]
    }
   ],
   "source": [
    "missing_info = missing_percentage(df)\n",
    "print(missing_info)\n"
   ]
  },
  {
   "cell_type": "code",
   "execution_count": 13,
   "id": "caf40a0b",
   "metadata": {
    "execution": {
     "iopub.execute_input": "2025-06-24T01:07:07.981013Z",
     "iopub.status.busy": "2025-06-24T01:07:07.980651Z",
     "iopub.status.idle": "2025-06-24T01:07:08.012080Z",
     "shell.execute_reply": "2025-06-24T01:07:08.011532Z"
    },
    "papermill": {
     "duration": 0.039648,
     "end_time": "2025-06-24T01:07:08.013201",
     "exception": false,
     "start_time": "2025-06-24T01:07:07.973553",
     "status": "completed"
    },
    "tags": []
   },
   "outputs": [
    {
     "name": "stdout",
     "output_type": "stream",
     "text": [
      "<class 'pandas.core.frame.DataFrame'>\n",
      "RangeIndex: 25533 entries, 0 to 25532\n",
      "Data columns (total 20 columns):\n",
      " #   Column            Non-Null Count  Dtype         \n",
      "---  ------            --------------  -----         \n",
      " 0   RecordID          25533 non-null  int64         \n",
      " 1   Offense           25533 non-null  object        \n",
      " 2   IncidentID        25533 non-null  object        \n",
      " 3   BlockNumber       25533 non-null  object        \n",
      " 4   StreetName        25533 non-null  object        \n",
      " 5   Agency            25533 non-null  object        \n",
      " 6   HourReported      25533 non-null  object        \n",
      " 7   ReportingOfficer  25516 non-null  object        \n",
      " 8   Date              25533 non-null  datetime64[ns]\n",
      " 9   DateString        25533 non-null  object        \n",
      " 10  DayOfWeek         25533 non-null  object        \n",
      " 11  Weekend           25533 non-null  bool          \n",
      " 12  Season            25533 non-null  object        \n",
      " 13  HourAMPM          25533 non-null  object        \n",
      " 14  TimeOfDay         25533 non-null  object        \n",
      " 15  FullStreet        25533 non-null  object        \n",
      " 16  lat               25506 non-null  float64       \n",
      " 17  lon               25506 non-null  float64       \n",
      " 18  neighborhood      25533 non-null  object        \n",
      " 19  zip               25533 non-null  object        \n",
      "dtypes: bool(1), datetime64[ns](1), float64(2), int64(1), object(15)\n",
      "memory usage: 3.7+ MB\n"
     ]
    }
   ],
   "source": [
    "df.info()"
   ]
  },
  {
   "cell_type": "code",
   "execution_count": 14,
   "id": "e32cc9b1",
   "metadata": {
    "execution": {
     "iopub.execute_input": "2025-06-24T01:07:08.027400Z",
     "iopub.status.busy": "2025-06-24T01:07:08.027026Z",
     "iopub.status.idle": "2025-06-24T01:07:08.068864Z",
     "shell.execute_reply": "2025-06-24T01:07:08.068225Z"
    },
    "papermill": {
     "duration": 0.049981,
     "end_time": "2025-06-24T01:07:08.069900",
     "exception": false,
     "start_time": "2025-06-24T01:07:08.019919",
     "status": "completed"
    },
    "tags": []
   },
   "outputs": [
    {
     "data": {
      "text/html": [
       "<div>\n",
       "<style scoped>\n",
       "    .dataframe tbody tr th:only-of-type {\n",
       "        vertical-align: middle;\n",
       "    }\n",
       "\n",
       "    .dataframe tbody tr th {\n",
       "        vertical-align: top;\n",
       "    }\n",
       "\n",
       "    .dataframe thead th {\n",
       "        text-align: right;\n",
       "    }\n",
       "</style>\n",
       "<table border=\"1\" class=\"dataframe\">\n",
       "  <thead>\n",
       "    <tr style=\"text-align: right;\">\n",
       "      <th></th>\n",
       "      <th>RecordID</th>\n",
       "      <th>Offense</th>\n",
       "      <th>IncidentID</th>\n",
       "      <th>Agency</th>\n",
       "      <th>ReportingOfficer</th>\n",
       "      <th>Date</th>\n",
       "      <th>DayOfWeek</th>\n",
       "      <th>Weekend</th>\n",
       "      <th>Season</th>\n",
       "      <th>TimeOfDay</th>\n",
       "      <th>FullStreet</th>\n",
       "      <th>lat</th>\n",
       "      <th>lon</th>\n",
       "      <th>neighborhood</th>\n",
       "      <th>zip</th>\n",
       "    </tr>\n",
       "  </thead>\n",
       "  <tbody>\n",
       "    <tr>\n",
       "      <th>0</th>\n",
       "      <td>1</td>\n",
       "      <td>Drunkeness DIP</td>\n",
       "      <td>202500021430</td>\n",
       "      <td>CPD</td>\n",
       "      <td>Turner, Devon</td>\n",
       "      <td>2025-06-21 20:16:45</td>\n",
       "      <td>Saturday</td>\n",
       "      <td>True</td>\n",
       "      <td>Summer</td>\n",
       "      <td>Evening</td>\n",
       "      <td>200 W MAIN ST</td>\n",
       "      <td>38.030841</td>\n",
       "      <td>-78.482517</td>\n",
       "      <td>Downtown Mall</td>\n",
       "      <td>22902</td>\n",
       "    </tr>\n",
       "    <tr>\n",
       "      <th>1</th>\n",
       "      <td>2</td>\n",
       "      <td>Larceny - All Other</td>\n",
       "      <td>202500021409</td>\n",
       "      <td>CPD</td>\n",
       "      <td>Bland, Johnnà</td>\n",
       "      <td>2025-06-21 17:08:09</td>\n",
       "      <td>Saturday</td>\n",
       "      <td>True</td>\n",
       "      <td>Summer</td>\n",
       "      <td>Evening</td>\n",
       "      <td>300 MEADE AVE</td>\n",
       "      <td>38.027759</td>\n",
       "      <td>-78.466098</td>\n",
       "      <td>Woolen Mills</td>\n",
       "      <td>22902</td>\n",
       "    </tr>\n",
       "    <tr>\n",
       "      <th>2</th>\n",
       "      <td>3</td>\n",
       "      <td>Suspicious Activity</td>\n",
       "      <td>202500021401</td>\n",
       "      <td>CPD</td>\n",
       "      <td>Rigsby, Lloyd</td>\n",
       "      <td>2025-06-21 15:17:08</td>\n",
       "      <td>Saturday</td>\n",
       "      <td>True</td>\n",
       "      <td>Summer</td>\n",
       "      <td>Afternoon</td>\n",
       "      <td>1400 BAKER ST</td>\n",
       "      <td>38.02576</td>\n",
       "      <td>-78.502157</td>\n",
       "      <td>Fifeville</td>\n",
       "      <td>22903</td>\n",
       "    </tr>\n",
       "    <tr>\n",
       "      <th>3</th>\n",
       "      <td>4</td>\n",
       "      <td>Motor Vehicle Theft</td>\n",
       "      <td>202500021390</td>\n",
       "      <td>CPD</td>\n",
       "      <td>Eckenroth, Rachel</td>\n",
       "      <td>2025-06-21 12:56:34</td>\n",
       "      <td>Saturday</td>\n",
       "      <td>True</td>\n",
       "      <td>Summer</td>\n",
       "      <td>Afternoon</td>\n",
       "      <td>1700 MONTICELLO RD</td>\n",
       "      <td>38.016489</td>\n",
       "      <td>-78.473156</td>\n",
       "      <td>Belmont</td>\n",
       "      <td>22902</td>\n",
       "    </tr>\n",
       "    <tr>\n",
       "      <th>4</th>\n",
       "      <td>5</td>\n",
       "      <td>Burglary</td>\n",
       "      <td>202500021384</td>\n",
       "      <td>CPD</td>\n",
       "      <td>O'Briant, Landon</td>\n",
       "      <td>2025-06-21 11:58:28</td>\n",
       "      <td>Saturday</td>\n",
       "      <td>True</td>\n",
       "      <td>Summer</td>\n",
       "      <td>Morning</td>\n",
       "      <td>100 ELLIEWOOD AVE</td>\n",
       "      <td>38.036309</td>\n",
       "      <td>-78.500571</td>\n",
       "      <td>Venable</td>\n",
       "      <td>22903</td>\n",
       "    </tr>\n",
       "  </tbody>\n",
       "</table>\n",
       "</div>"
      ],
      "text/plain": [
       "   RecordID              Offense    IncidentID Agency   ReportingOfficer  \\\n",
       "0         1       Drunkeness DIP  202500021430    CPD      Turner, Devon   \n",
       "1         2  Larceny - All Other  202500021409    CPD      Bland, Johnnà   \n",
       "2         3  Suspicious Activity  202500021401    CPD      Rigsby, Lloyd   \n",
       "3         4  Motor Vehicle Theft  202500021390    CPD  Eckenroth, Rachel   \n",
       "4         5             Burglary  202500021384    CPD   O'Briant, Landon   \n",
       "\n",
       "                 Date DayOfWeek  Weekend  Season  TimeOfDay  \\\n",
       "0 2025-06-21 20:16:45  Saturday     True  Summer    Evening   \n",
       "1 2025-06-21 17:08:09  Saturday     True  Summer    Evening   \n",
       "2 2025-06-21 15:17:08  Saturday     True  Summer  Afternoon   \n",
       "3 2025-06-21 12:56:34  Saturday     True  Summer  Afternoon   \n",
       "4 2025-06-21 11:58:28  Saturday     True  Summer    Morning   \n",
       "\n",
       "           FullStreet        lat        lon   neighborhood    zip  \n",
       "0       200 W MAIN ST  38.030841 -78.482517  Downtown Mall  22902  \n",
       "1       300 MEADE AVE  38.027759 -78.466098   Woolen Mills  22902  \n",
       "2       1400 BAKER ST   38.02576 -78.502157      Fifeville  22903  \n",
       "3  1700 MONTICELLO RD  38.016489 -78.473156        Belmont  22902  \n",
       "4   100 ELLIEWOOD AVE  38.036309 -78.500571        Venable  22903  "
      ]
     },
     "execution_count": 14,
     "metadata": {},
     "output_type": "execute_result"
    }
   ],
   "source": [
    "# Now drop the original BlockNumber and StreetName columns\n",
    "df.drop(columns=['BlockNumber', 'StreetName','HourAMPM','HourReported','DateString'], inplace=True)\n",
    "df[\"zip\"] = df[\"zip\"].astype(str)\n",
    "\n",
    "# Fill all missing values in the DataFrame with \"N/A\"\n",
    "df.replace({None: \"N/A\", np.nan: \"N/A\", \"\": \"N/A\"}, inplace=True)\n",
    "df.head()"
   ]
  },
  {
   "cell_type": "code",
   "execution_count": 15,
   "id": "d0a007cc",
   "metadata": {
    "execution": {
     "iopub.execute_input": "2025-06-24T01:07:08.085323Z",
     "iopub.status.busy": "2025-06-24T01:07:08.084725Z",
     "iopub.status.idle": "2025-06-24T01:07:08.107372Z",
     "shell.execute_reply": "2025-06-24T01:07:08.106697Z"
    },
    "papermill": {
     "duration": 0.031224,
     "end_time": "2025-06-24T01:07:08.108449",
     "exception": false,
     "start_time": "2025-06-24T01:07:08.077225",
     "status": "completed"
    },
    "tags": []
   },
   "outputs": [
    {
     "name": "stdout",
     "output_type": "stream",
     "text": [
      "                  MissingCount  MissingPercentage\n",
      "RecordID                     0                0.0\n",
      "Offense                      0                0.0\n",
      "IncidentID                   0                0.0\n",
      "Agency                       0                0.0\n",
      "ReportingOfficer             0                0.0\n",
      "Date                         0                0.0\n",
      "DayOfWeek                    0                0.0\n",
      "Weekend                      0                0.0\n",
      "Season                       0                0.0\n",
      "TimeOfDay                    0                0.0\n",
      "FullStreet                   0                0.0\n",
      "lat                          0                0.0\n",
      "lon                          0                0.0\n",
      "neighborhood                 0                0.0\n",
      "zip                          0                0.0\n"
     ]
    }
   ],
   "source": [
    "missing_info = missing_percentage(df)\n",
    "print(missing_info)"
   ]
  },
  {
   "cell_type": "code",
   "execution_count": 16,
   "id": "b5de054f",
   "metadata": {
    "execution": {
     "iopub.execute_input": "2025-06-24T01:07:08.123513Z",
     "iopub.status.busy": "2025-06-24T01:07:08.123045Z",
     "iopub.status.idle": "2025-06-24T01:07:08.127560Z",
     "shell.execute_reply": "2025-06-24T01:07:08.126930Z"
    },
    "papermill": {
     "duration": 0.01305,
     "end_time": "2025-06-24T01:07:08.128548",
     "exception": false,
     "start_time": "2025-06-24T01:07:08.115498",
     "status": "completed"
    },
    "tags": []
   },
   "outputs": [
    {
     "data": {
      "text/plain": [
       "Index(['RecordID', 'Offense', 'IncidentID', 'Agency', 'ReportingOfficer',\n",
       "       'Date', 'DayOfWeek', 'Weekend', 'Season', 'TimeOfDay', 'FullStreet',\n",
       "       'lat', 'lon', 'neighborhood', 'zip'],\n",
       "      dtype='object')"
      ]
     },
     "execution_count": 16,
     "metadata": {},
     "output_type": "execute_result"
    }
   ],
   "source": [
    "df.columns"
   ]
  },
  {
   "cell_type": "code",
   "execution_count": 17,
   "id": "e217c61b",
   "metadata": {
    "execution": {
     "iopub.execute_input": "2025-06-24T01:07:08.143135Z",
     "iopub.status.busy": "2025-06-24T01:07:08.142892Z",
     "iopub.status.idle": "2025-06-24T01:07:08.166877Z",
     "shell.execute_reply": "2025-06-24T01:07:08.166222Z"
    },
    "papermill": {
     "duration": 0.032595,
     "end_time": "2025-06-24T01:07:08.167986",
     "exception": false,
     "start_time": "2025-06-24T01:07:08.135391",
     "status": "completed"
    },
    "tags": []
   },
   "outputs": [
    {
     "name": "stdout",
     "output_type": "stream",
     "text": [
      "<class 'pandas.core.frame.DataFrame'>\n",
      "RangeIndex: 25533 entries, 0 to 25532\n",
      "Data columns (total 15 columns):\n",
      " #   Column            Non-Null Count  Dtype         \n",
      "---  ------            --------------  -----         \n",
      " 0   RecordID          25533 non-null  int64         \n",
      " 1   Offense           25533 non-null  object        \n",
      " 2   IncidentID        25533 non-null  object        \n",
      " 3   Agency            25533 non-null  object        \n",
      " 4   ReportingOfficer  25533 non-null  object        \n",
      " 5   Date              25533 non-null  datetime64[ns]\n",
      " 6   DayOfWeek         25533 non-null  object        \n",
      " 7   Weekend           25533 non-null  bool          \n",
      " 8   Season            25533 non-null  object        \n",
      " 9   TimeOfDay         25533 non-null  object        \n",
      " 10  FullStreet        25533 non-null  object        \n",
      " 11  lat               25533 non-null  object        \n",
      " 12  lon               25533 non-null  object        \n",
      " 13  neighborhood      25533 non-null  object        \n",
      " 14  zip               25533 non-null  object        \n",
      "dtypes: bool(1), datetime64[ns](1), int64(1), object(12)\n",
      "memory usage: 2.8+ MB\n"
     ]
    }
   ],
   "source": [
    "df.info()"
   ]
  },
  {
   "cell_type": "markdown",
   "id": "6118cbe9",
   "metadata": {
    "papermill": {
     "duration": 0.006871,
     "end_time": "2025-06-24T01:07:08.181993",
     "exception": false,
     "start_time": "2025-06-24T01:07:08.175122",
     "status": "completed"
    },
    "tags": []
   },
   "source": [
    "### Export Clean Data"
   ]
  },
  {
   "cell_type": "code",
   "execution_count": 18,
   "id": "2f064099",
   "metadata": {
    "execution": {
     "iopub.execute_input": "2025-06-24T01:07:08.197275Z",
     "iopub.status.busy": "2025-06-24T01:07:08.196748Z",
     "iopub.status.idle": "2025-06-24T01:07:17.370609Z",
     "shell.execute_reply": "2025-06-24T01:07:17.369892Z"
    },
    "papermill": {
     "duration": 9.182695,
     "end_time": "2025-06-24T01:07:17.371721",
     "exception": false,
     "start_time": "2025-06-24T01:07:08.189026",
     "status": "completed"
    },
    "tags": []
   },
   "outputs": [
    {
     "name": "stdout",
     "output_type": "stream",
     "text": [
      "Project Root: /home/runner/work/crime-data/crime-data\n"
     ]
    },
    {
     "name": "stdout",
     "output_type": "stream",
     "text": [
      "Data saved to: /home/runner/work/crime-data/crime-data/data/charlottesville_crime_incidents.csv\n"
     ]
    },
    {
     "name": "stdout",
     "output_type": "stream",
     "text": [
      "Excel saved to: /home/runner/work/crime-data/crime-data/data/charlottesville_crime_incidents.xlsx\n"
     ]
    }
   ],
   "source": [
    "# Determine the project root (assuming papermill is run from the repository root)\n",
    "project_root = os.getcwd()\n",
    "print(\"Project Root:\", project_root)\n",
    "\n",
    "# Set the data directory within the project root\n",
    "data_dir = os.path.join(project_root, \"data\")\n",
    "\n",
    "# Ensure the \"data\" directory exists (create it if it doesn't)\n",
    "if not os.path.exists(data_dir):\n",
    "    os.makedirs(data_dir)\n",
    "\n",
    "# Export the DataFrame to CSV in the \"data\" folder located in the project root\n",
    "csv_path = os.path.join(data_dir, \"charlottesville_crime_incidents.csv\")\n",
    "df.to_csv(csv_path, index=False)\n",
    "print(\"Data saved to:\", csv_path)\n",
    "\n",
    "# Construct the path to your Excel file\n",
    "excel_path = os.path.join(data_dir, \"charlottesville_crime_incidents.xlsx\")\n",
    "\n",
    "# Export the DataFrame to Excel\n",
    "df.to_excel(excel_path, index=False)\n",
    "print(\"Excel saved to:\", excel_path)\n"
   ]
  }
 ],
 "metadata": {
  "kernelspec": {
   "display_name": "Python 3",
   "language": "python",
   "name": "python3"
  },
  "language_info": {
   "codemirror_mode": {
    "name": "ipython",
    "version": 3
   },
   "file_extension": ".py",
   "mimetype": "text/x-python",
   "name": "python",
   "nbconvert_exporter": "python",
   "pygments_lexer": "ipython3",
   "version": "3.9.23"
  },
  "papermill": {
   "default_parameters": {},
   "duration": 110.705596,
   "end_time": "2025-06-24T01:07:17.795317",
   "environment_variables": {},
   "exception": null,
   "input_path": "notebook/Crime Data.ipynb",
   "output_path": "notebook/Crime Data_output.ipynb",
   "parameters": {},
   "start_time": "2025-06-24T01:05:27.089721",
   "version": "2.6.0"
  }
 },
 "nbformat": 4,
 "nbformat_minor": 5
}