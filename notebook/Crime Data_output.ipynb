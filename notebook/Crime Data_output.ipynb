{
 "cells": [
  {
   "cell_type": "markdown",
   "id": "bfd1cd46",
   "metadata": {
    "papermill": {
     "duration": 0.005954,
     "end_time": "2025-05-10T01:00:05.148905",
     "exception": false,
     "start_time": "2025-05-10T01:00:05.142951",
     "status": "completed"
    },
    "tags": []
   },
   "source": [
    "# Charlottesville Open Data Porttal: Crime Data"
   ]
  },
  {
   "cell_type": "markdown",
   "id": "859fc26f",
   "metadata": {
    "papermill": {
     "duration": 0.004967,
     "end_time": "2025-05-10T01:00:05.159233",
     "exception": false,
     "start_time": "2025-05-10T01:00:05.154266",
     "status": "completed"
    },
    "tags": []
   },
   "source": [
    "## Import Relevant Librarires & Set WD"
   ]
  },
  {
   "cell_type": "code",
   "execution_count": 1,
   "id": "1f703dc1",
   "metadata": {
    "execution": {
     "iopub.execute_input": "2025-05-10T01:00:05.170039Z",
     "iopub.status.busy": "2025-05-10T01:00:05.169833Z",
     "iopub.status.idle": "2025-05-10T01:00:05.680286Z",
     "shell.execute_reply": "2025-05-10T01:00:05.679625Z"
    },
    "papermill": {
     "duration": 0.517419,
     "end_time": "2025-05-10T01:00:05.681654",
     "exception": false,
     "start_time": "2025-05-10T01:00:05.164235",
     "status": "completed"
    },
    "tags": []
   },
   "outputs": [],
   "source": [
    "import requests\n",
    "import pandas as pd\n",
    "import numpy as np\n",
    "import pickle\n",
    "import googlemaps\n",
    "import plotly.express as px\n",
    "from geopy.geocoders import Nominatim\n",
    "import time\n",
    "from dotenv import load_dotenv\n",
    "import os\n",
    "\n",
    "env_path = os.path.join(\"..\", \".env\")\n",
    "#print(\"Looking for .env file at:\", os.path.abspath(env_path))\n",
    "load_dotenv(dotenv_path=env_path)\n",
    "\n",
    "# Retrieve the variables\n",
    "GOOGLE_API_KEY = os.getenv(\"GOOGLE_API_KEY\")\n",
    "WORKING_DIR = os.getenv(\"WORKING_DIR\")\n",
    "\n",
    "if GOOGLE_API_KEY is None or WORKING_DIR is None:\n",
    "    raise RuntimeError(\"No configuration found. Please ensure that your .env file exists with the required variables, or create a local config.py file.\")\n",
    "\n",
    "#print(\"Google API Key:\", GOOGLE_API_KEY)\n",
    "#print(\"Working Directory:\", WORKING_DIR)"
   ]
  },
  {
   "cell_type": "markdown",
   "id": "04a26f04",
   "metadata": {
    "papermill": {
     "duration": 0.005081,
     "end_time": "2025-05-10T01:00:05.692294",
     "exception": false,
     "start_time": "2025-05-10T01:00:05.687213",
     "status": "completed"
    },
    "tags": []
   },
   "source": [
    "## Import Data\n",
    "\n",
    "URL: https://opendata.charlottesville.org/datasets/charlottesville::crime-data/about"
   ]
  },
  {
   "cell_type": "code",
   "execution_count": 2,
   "id": "f56a33ce",
   "metadata": {
    "execution": {
     "iopub.execute_input": "2025-05-10T01:00:05.703623Z",
     "iopub.status.busy": "2025-05-10T01:00:05.703150Z",
     "iopub.status.idle": "2025-05-10T01:01:08.801797Z",
     "shell.execute_reply": "2025-05-10T01:01:08.801087Z"
    },
    "papermill": {
     "duration": 63.110606,
     "end_time": "2025-05-10T01:01:08.808068",
     "exception": false,
     "start_time": "2025-05-10T01:00:05.697462",
     "status": "completed"
    },
    "tags": []
   },
   "outputs": [
    {
     "name": "stdout",
     "output_type": "stream",
     "text": [
      "Total records imported: 25363\n"
     ]
    }
   ],
   "source": [
    "# Define the endpoint and initial parameters.\n",
    "url = \"https://gisweb.charlottesville.org/arcgis/rest/services/OpenData_2/MapServer/6/query\"\n",
    "params = {\n",
    "    \"where\": \"1=1\",\n",
    "    \"outFields\": \"*\",\n",
    "    \"outSR\": 4326,\n",
    "    \"f\": \"json\",\n",
    "    \"resultOffset\": 0,       # Starting index for results\n",
    "    \"resultRecordCount\": 10000  # Maximum records per batch (if allowed by the API)\n",
    "}\n",
    "\n",
    "records = []\n",
    "\n",
    "while True:\n",
    "    response = requests.get(url, params=params)\n",
    "    response.raise_for_status()\n",
    "    data = response.json()\n",
    "    \n",
    "    # Get the current batch of features.\n",
    "    features = data.get(\"features\", [])\n",
    "    if not features:\n",
    "        break\n",
    "\n",
    "    # Extract the attributes from the features.\n",
    "    batch_records = [feature.get(\"attributes\", {}) for feature in features]\n",
    "    records.extend(batch_records)\n",
    "    \n",
    "    # If the batch size is less than the requested count, we reached the end.\n",
    "    if len(features) < params[\"resultRecordCount\"]:\n",
    "        break\n",
    "\n",
    "    # Update the resultOffset for the next batch.\n",
    "    params[\"resultOffset\"] += params[\"resultRecordCount\"]\n",
    "\n",
    "# Create a DataFrame from the combined records.\n",
    "df = pd.DataFrame(records)\n",
    "print(\"Total records imported:\", len(df))\n"
   ]
  },
  {
   "cell_type": "code",
   "execution_count": 3,
   "id": "91d3f039",
   "metadata": {
    "execution": {
     "iopub.execute_input": "2025-05-10T01:01:08.842105Z",
     "iopub.status.busy": "2025-05-10T01:01:08.841820Z",
     "iopub.status.idle": "2025-05-10T01:01:08.854431Z",
     "shell.execute_reply": "2025-05-10T01:01:08.853849Z"
    },
    "papermill": {
     "duration": 0.042185,
     "end_time": "2025-05-10T01:01:08.855597",
     "exception": false,
     "start_time": "2025-05-10T01:01:08.813412",
     "status": "completed"
    },
    "tags": []
   },
   "outputs": [
    {
     "data": {
      "text/html": [
       "<div>\n",
       "<style scoped>\n",
       "    .dataframe tbody tr th:only-of-type {\n",
       "        vertical-align: middle;\n",
       "    }\n",
       "\n",
       "    .dataframe tbody tr th {\n",
       "        vertical-align: top;\n",
       "    }\n",
       "\n",
       "    .dataframe thead th {\n",
       "        text-align: right;\n",
       "    }\n",
       "</style>\n",
       "<table border=\"1\" class=\"dataframe\">\n",
       "  <thead>\n",
       "    <tr style=\"text-align: right;\">\n",
       "      <th></th>\n",
       "      <th>RecordID</th>\n",
       "      <th>Offense</th>\n",
       "      <th>IncidentID</th>\n",
       "      <th>BlockNumber</th>\n",
       "      <th>StreetName</th>\n",
       "      <th>Agency</th>\n",
       "      <th>DateReported</th>\n",
       "      <th>HourReported</th>\n",
       "      <th>ReportingOfficer</th>\n",
       "    </tr>\n",
       "  </thead>\n",
       "  <tbody>\n",
       "    <tr>\n",
       "      <th>0</th>\n",
       "      <td>1</td>\n",
       "      <td>Assist Citizen - Mental/TDO/ECO</td>\n",
       "      <td>202500015377</td>\n",
       "      <td>900</td>\n",
       "      <td>EMMET ST N</td>\n",
       "      <td>CPD</td>\n",
       "      <td>1746670527000</td>\n",
       "      <td>2215</td>\n",
       "      <td>Hudson, Jesse</td>\n",
       "    </tr>\n",
       "    <tr>\n",
       "      <th>1</th>\n",
       "      <td>2</td>\n",
       "      <td>Vandalism</td>\n",
       "      <td>202500015375</td>\n",
       "      <td>400</td>\n",
       "      <td>17TH ST NW, 1</td>\n",
       "      <td>CPD</td>\n",
       "      <td>1746669407000</td>\n",
       "      <td>2156</td>\n",
       "      <td>Bland, Johnnà</td>\n",
       "    </tr>\n",
       "    <tr>\n",
       "      <th>2</th>\n",
       "      <td>3</td>\n",
       "      <td>Larceny - From Motor Vehicle</td>\n",
       "      <td>202500015364</td>\n",
       "      <td></td>\n",
       "      <td>9TH ST SW / ROOSEVELT BROWN BLVD</td>\n",
       "      <td>CPD</td>\n",
       "      <td>1746664572000</td>\n",
       "      <td>2036</td>\n",
       "      <td>Bentz, Benjamin</td>\n",
       "    </tr>\n",
       "    <tr>\n",
       "      <th>3</th>\n",
       "      <td>4</td>\n",
       "      <td>Assist Agency - Other</td>\n",
       "      <td>202500015363</td>\n",
       "      <td>800</td>\n",
       "      <td>CHERRY AVE</td>\n",
       "      <td>CPD</td>\n",
       "      <td>1746664245000</td>\n",
       "      <td>2030</td>\n",
       "      <td>Davis, Charles</td>\n",
       "    </tr>\n",
       "    <tr>\n",
       "      <th>4</th>\n",
       "      <td>5</td>\n",
       "      <td>Vandalism</td>\n",
       "      <td>202500015362</td>\n",
       "      <td></td>\n",
       "      <td>ELLIEWOOD AVE / UNIVERSITY AVE</td>\n",
       "      <td>CPD</td>\n",
       "      <td>1746663116000</td>\n",
       "      <td>2011</td>\n",
       "      <td>Rigsby, Lloyd</td>\n",
       "    </tr>\n",
       "  </tbody>\n",
       "</table>\n",
       "</div>"
      ],
      "text/plain": [
       "   RecordID                          Offense    IncidentID BlockNumber  \\\n",
       "0         1  Assist Citizen - Mental/TDO/ECO  202500015377         900   \n",
       "1         2                        Vandalism  202500015375         400   \n",
       "2         3     Larceny - From Motor Vehicle  202500015364               \n",
       "3         4            Assist Agency - Other  202500015363         800   \n",
       "4         5                        Vandalism  202500015362               \n",
       "\n",
       "                         StreetName Agency   DateReported HourReported  \\\n",
       "0                        EMMET ST N    CPD  1746670527000         2215   \n",
       "1                     17TH ST NW, 1    CPD  1746669407000         2156   \n",
       "2  9TH ST SW / ROOSEVELT BROWN BLVD    CPD  1746664572000         2036   \n",
       "3                        CHERRY AVE    CPD  1746664245000         2030   \n",
       "4    ELLIEWOOD AVE / UNIVERSITY AVE    CPD  1746663116000         2011   \n",
       "\n",
       "   ReportingOfficer  \n",
       "0     Hudson, Jesse  \n",
       "1     Bland, Johnnà  \n",
       "2  Bentz, Benjamin   \n",
       "3    Davis, Charles  \n",
       "4     Rigsby, Lloyd  "
      ]
     },
     "execution_count": 3,
     "metadata": {},
     "output_type": "execute_result"
    }
   ],
   "source": [
    "df.head()"
   ]
  },
  {
   "cell_type": "code",
   "execution_count": 4,
   "id": "d8630234",
   "metadata": {
    "execution": {
     "iopub.execute_input": "2025-05-10T01:01:08.869795Z",
     "iopub.status.busy": "2025-05-10T01:01:08.869415Z",
     "iopub.status.idle": "2025-05-10T01:01:08.873891Z",
     "shell.execute_reply": "2025-05-10T01:01:08.873359Z"
    },
    "papermill": {
     "duration": 0.011465,
     "end_time": "2025-05-10T01:01:08.874941",
     "exception": false,
     "start_time": "2025-05-10T01:01:08.863476",
     "status": "completed"
    },
    "tags": []
   },
   "outputs": [
    {
     "data": {
      "text/plain": [
       "Index(['RecordID', 'Offense', 'IncidentID', 'BlockNumber', 'StreetName',\n",
       "       'Agency', 'DateReported', 'HourReported', 'ReportingOfficer'],\n",
       "      dtype='object')"
      ]
     },
     "execution_count": 4,
     "metadata": {},
     "output_type": "execute_result"
    }
   ],
   "source": [
    "df.columns"
   ]
  },
  {
   "cell_type": "code",
   "execution_count": 5,
   "id": "6bb5dba8",
   "metadata": {
    "execution": {
     "iopub.execute_input": "2025-05-10T01:01:08.886804Z",
     "iopub.status.busy": "2025-05-10T01:01:08.886411Z",
     "iopub.status.idle": "2025-05-10T01:01:08.909084Z",
     "shell.execute_reply": "2025-05-10T01:01:08.908504Z"
    },
    "papermill": {
     "duration": 0.029739,
     "end_time": "2025-05-10T01:01:08.910151",
     "exception": false,
     "start_time": "2025-05-10T01:01:08.880412",
     "status": "completed"
    },
    "tags": []
   },
   "outputs": [
    {
     "name": "stdout",
     "output_type": "stream",
     "text": [
      "<class 'pandas.core.frame.DataFrame'>\n",
      "RangeIndex: 25363 entries, 0 to 25362\n",
      "Data columns (total 9 columns):\n",
      " #   Column            Non-Null Count  Dtype \n",
      "---  ------            --------------  ----- \n",
      " 0   RecordID          25363 non-null  int64 \n",
      " 1   Offense           25363 non-null  object\n",
      " 2   IncidentID        25363 non-null  object\n",
      " 3   BlockNumber       25363 non-null  object\n",
      " 4   StreetName        25363 non-null  object\n",
      " 5   Agency            25363 non-null  object\n",
      " 6   DateReported      25363 non-null  int64 \n",
      " 7   HourReported      25363 non-null  object\n",
      " 8   ReportingOfficer  25346 non-null  object\n",
      "dtypes: int64(2), object(7)\n",
      "memory usage: 1.7+ MB\n"
     ]
    }
   ],
   "source": [
    "df.info()"
   ]
  },
  {
   "cell_type": "markdown",
   "id": "366294f1",
   "metadata": {
    "papermill": {
     "duration": 0.005581,
     "end_time": "2025-05-10T01:01:08.921470",
     "exception": false,
     "start_time": "2025-05-10T01:01:08.915889",
     "status": "completed"
    },
    "tags": []
   },
   "source": [
    "### Missing Values"
   ]
  },
  {
   "cell_type": "code",
   "execution_count": 6,
   "id": "bab1af0a",
   "metadata": {
    "execution": {
     "iopub.execute_input": "2025-05-10T01:01:08.933396Z",
     "iopub.status.busy": "2025-05-10T01:01:08.933156Z",
     "iopub.status.idle": "2025-05-10T01:01:08.950054Z",
     "shell.execute_reply": "2025-05-10T01:01:08.949522Z"
    },
    "papermill": {
     "duration": 0.024103,
     "end_time": "2025-05-10T01:01:08.951127",
     "exception": false,
     "start_time": "2025-05-10T01:01:08.927024",
     "status": "completed"
    },
    "tags": []
   },
   "outputs": [
    {
     "name": "stdout",
     "output_type": "stream",
     "text": [
      "                  MissingCount  MissingPercentage\n",
      "RecordID                     0               0.00\n",
      "Offense                      0               0.00\n",
      "IncidentID                   0               0.00\n",
      "BlockNumber                  0               0.00\n",
      "StreetName                   0               0.00\n",
      "Agency                       0               0.00\n",
      "DateReported                 0               0.00\n",
      "HourReported                 0               0.00\n",
      "ReportingOfficer            17               0.07\n"
     ]
    }
   ],
   "source": [
    "def missing_percentage(df):\n",
    "    \"\"\"\n",
    "    Returns a DataFrame with the count and percentage of missing values for each column.\n",
    "    \n",
    "    Parameters:\n",
    "        df (pd.DataFrame): The input DataFrame.\n",
    "    \n",
    "    Returns:\n",
    "        pd.DataFrame: A DataFrame with columns 'MissingCount' and 'MissingPercentage'.\n",
    "    \"\"\"\n",
    "    total_rows = len(df)\n",
    "    missing_count = df.isnull().sum()\n",
    "    missing_percent = (missing_count / total_rows) * 100\n",
    "    \n",
    "    result = pd.DataFrame({\n",
    "        'MissingCount': missing_count,\n",
    "        'MissingPercentage': missing_percent.round(2)\n",
    "    })\n",
    "    \n",
    "    return result\n",
    "\n",
    "# Example usage:\n",
    "missing_info = missing_percentage(df)\n",
    "print(missing_info)\n"
   ]
  },
  {
   "cell_type": "markdown",
   "id": "e75a494c",
   "metadata": {
    "papermill": {
     "duration": 0.005544,
     "end_time": "2025-05-10T01:01:08.962409",
     "exception": false,
     "start_time": "2025-05-10T01:01:08.956865",
     "status": "completed"
    },
    "tags": []
   },
   "source": [
    "## Data Preparation"
   ]
  },
  {
   "cell_type": "markdown",
   "id": "661bd74c",
   "metadata": {
    "papermill": {
     "duration": 0.005522,
     "end_time": "2025-05-10T01:01:08.973528",
     "exception": false,
     "start_time": "2025-05-10T01:01:08.968006",
     "status": "completed"
    },
    "tags": []
   },
   "source": [
    "### Data Conversion"
   ]
  },
  {
   "cell_type": "code",
   "execution_count": 7,
   "id": "e4895c23",
   "metadata": {
    "execution": {
     "iopub.execute_input": "2025-05-10T01:01:08.985922Z",
     "iopub.status.busy": "2025-05-10T01:01:08.985334Z",
     "iopub.status.idle": "2025-05-10T01:01:09.351719Z",
     "shell.execute_reply": "2025-05-10T01:01:09.351126Z"
    },
    "papermill": {
     "duration": 0.373562,
     "end_time": "2025-05-10T01:01:09.352724",
     "exception": false,
     "start_time": "2025-05-10T01:01:08.979162",
     "status": "completed"
    },
    "tags": []
   },
   "outputs": [
    {
     "data": {
      "text/html": [
       "<div>\n",
       "<style scoped>\n",
       "    .dataframe tbody tr th:only-of-type {\n",
       "        vertical-align: middle;\n",
       "    }\n",
       "\n",
       "    .dataframe tbody tr th {\n",
       "        vertical-align: top;\n",
       "    }\n",
       "\n",
       "    .dataframe thead th {\n",
       "        text-align: right;\n",
       "    }\n",
       "</style>\n",
       "<table border=\"1\" class=\"dataframe\">\n",
       "  <thead>\n",
       "    <tr style=\"text-align: right;\">\n",
       "      <th></th>\n",
       "      <th>RecordID</th>\n",
       "      <th>Offense</th>\n",
       "      <th>IncidentID</th>\n",
       "      <th>BlockNumber</th>\n",
       "      <th>StreetName</th>\n",
       "      <th>Agency</th>\n",
       "      <th>HourReported</th>\n",
       "      <th>ReportingOfficer</th>\n",
       "      <th>Date</th>\n",
       "      <th>DateString</th>\n",
       "      <th>DayOfWeek</th>\n",
       "      <th>Weekend</th>\n",
       "      <th>Season</th>\n",
       "      <th>HourAMPM</th>\n",
       "      <th>TimeOfDay</th>\n",
       "    </tr>\n",
       "  </thead>\n",
       "  <tbody>\n",
       "    <tr>\n",
       "      <th>0</th>\n",
       "      <td>1</td>\n",
       "      <td>Assist Citizen - Mental/TDO/ECO</td>\n",
       "      <td>202500015377</td>\n",
       "      <td>900</td>\n",
       "      <td>EMMET ST N</td>\n",
       "      <td>CPD</td>\n",
       "      <td>2215</td>\n",
       "      <td>Hudson, Jesse</td>\n",
       "      <td>2025-05-07 22:15:27</td>\n",
       "      <td>2025-05-07 10:15:27 PM</td>\n",
       "      <td>Wednesday</td>\n",
       "      <td>False</td>\n",
       "      <td>Spring</td>\n",
       "      <td>10:15 PM</td>\n",
       "      <td>Night</td>\n",
       "    </tr>\n",
       "    <tr>\n",
       "      <th>1</th>\n",
       "      <td>2</td>\n",
       "      <td>Vandalism</td>\n",
       "      <td>202500015375</td>\n",
       "      <td>400</td>\n",
       "      <td>17TH ST NW, 1</td>\n",
       "      <td>CPD</td>\n",
       "      <td>2156</td>\n",
       "      <td>Bland, Johnnà</td>\n",
       "      <td>2025-05-07 21:56:47</td>\n",
       "      <td>2025-05-07 09:56:47 PM</td>\n",
       "      <td>Wednesday</td>\n",
       "      <td>False</td>\n",
       "      <td>Spring</td>\n",
       "      <td>09:56 PM</td>\n",
       "      <td>Night</td>\n",
       "    </tr>\n",
       "    <tr>\n",
       "      <th>2</th>\n",
       "      <td>3</td>\n",
       "      <td>Larceny - From Motor Vehicle</td>\n",
       "      <td>202500015364</td>\n",
       "      <td></td>\n",
       "      <td>9TH ST SW / ROOSEVELT BROWN BLVD</td>\n",
       "      <td>CPD</td>\n",
       "      <td>2036</td>\n",
       "      <td>Bentz, Benjamin</td>\n",
       "      <td>2025-05-07 20:36:12</td>\n",
       "      <td>2025-05-07 08:36:12 PM</td>\n",
       "      <td>Wednesday</td>\n",
       "      <td>False</td>\n",
       "      <td>Spring</td>\n",
       "      <td>08:36 PM</td>\n",
       "      <td>Evening</td>\n",
       "    </tr>\n",
       "    <tr>\n",
       "      <th>3</th>\n",
       "      <td>4</td>\n",
       "      <td>Assist Agency - Other</td>\n",
       "      <td>202500015363</td>\n",
       "      <td>800</td>\n",
       "      <td>CHERRY AVE</td>\n",
       "      <td>CPD</td>\n",
       "      <td>2030</td>\n",
       "      <td>Davis, Charles</td>\n",
       "      <td>2025-05-07 20:30:45</td>\n",
       "      <td>2025-05-07 08:30:45 PM</td>\n",
       "      <td>Wednesday</td>\n",
       "      <td>False</td>\n",
       "      <td>Spring</td>\n",
       "      <td>08:30 PM</td>\n",
       "      <td>Evening</td>\n",
       "    </tr>\n",
       "    <tr>\n",
       "      <th>4</th>\n",
       "      <td>5</td>\n",
       "      <td>Vandalism</td>\n",
       "      <td>202500015362</td>\n",
       "      <td></td>\n",
       "      <td>ELLIEWOOD AVE / UNIVERSITY AVE</td>\n",
       "      <td>CPD</td>\n",
       "      <td>2011</td>\n",
       "      <td>Rigsby, Lloyd</td>\n",
       "      <td>2025-05-07 20:11:56</td>\n",
       "      <td>2025-05-07 08:11:56 PM</td>\n",
       "      <td>Wednesday</td>\n",
       "      <td>False</td>\n",
       "      <td>Spring</td>\n",
       "      <td>08:11 PM</td>\n",
       "      <td>Evening</td>\n",
       "    </tr>\n",
       "  </tbody>\n",
       "</table>\n",
       "</div>"
      ],
      "text/plain": [
       "   RecordID                          Offense    IncidentID BlockNumber  \\\n",
       "0         1  Assist Citizen - Mental/TDO/ECO  202500015377         900   \n",
       "1         2                        Vandalism  202500015375         400   \n",
       "2         3     Larceny - From Motor Vehicle  202500015364               \n",
       "3         4            Assist Agency - Other  202500015363         800   \n",
       "4         5                        Vandalism  202500015362               \n",
       "\n",
       "                         StreetName Agency HourReported  ReportingOfficer  \\\n",
       "0                        EMMET ST N    CPD         2215     Hudson, Jesse   \n",
       "1                     17TH ST NW, 1    CPD         2156     Bland, Johnnà   \n",
       "2  9TH ST SW / ROOSEVELT BROWN BLVD    CPD         2036  Bentz, Benjamin    \n",
       "3                        CHERRY AVE    CPD         2030    Davis, Charles   \n",
       "4    ELLIEWOOD AVE / UNIVERSITY AVE    CPD         2011     Rigsby, Lloyd   \n",
       "\n",
       "                 Date              DateString  DayOfWeek  Weekend  Season  \\\n",
       "0 2025-05-07 22:15:27  2025-05-07 10:15:27 PM  Wednesday    False  Spring   \n",
       "1 2025-05-07 21:56:47  2025-05-07 09:56:47 PM  Wednesday    False  Spring   \n",
       "2 2025-05-07 20:36:12  2025-05-07 08:36:12 PM  Wednesday    False  Spring   \n",
       "3 2025-05-07 20:30:45  2025-05-07 08:30:45 PM  Wednesday    False  Spring   \n",
       "4 2025-05-07 20:11:56  2025-05-07 08:11:56 PM  Wednesday    False  Spring   \n",
       "\n",
       "   HourAMPM TimeOfDay  \n",
       "0  10:15 PM     Night  \n",
       "1  09:56 PM     Night  \n",
       "2  08:36 PM   Evening  \n",
       "3  08:30 PM   Evening  \n",
       "4  08:11 PM   Evening  "
      ]
     },
     "execution_count": 7,
     "metadata": {},
     "output_type": "execute_result"
    }
   ],
   "source": [
    "def convert_and_categorize_datereported(df, col='DateReported'):\n",
    "    \"\"\"\n",
    "    Converts an epoch (in milliseconds) date column into a timezone-aware datetime,\n",
    "    converts it to Eastern Time, and then creates columns for day-of-week, weekend flag,\n",
    "    season, 12-hour formatted time, and time-of-day. Keeps both a real datetime column\n",
    "    (Date) and a string representation (DateString).\n",
    "    \"\"\"\n",
    "    import pandas as pd\n",
    "\n",
    "    # Convert the epoch timestamp to a pandas datetime object as UTC, then convert to US/Eastern.\n",
    "    df[\"DateReported_dt\"] = (\n",
    "        pd.to_datetime(df[col], unit=\"ms\", errors=\"coerce\", utc=True)\n",
    "        .dt.tz_convert(\"US/Eastern\")\n",
    "    )\n",
    "    \n",
    "    # Create a true datetime column (remove timezone if you prefer naive datetime)\n",
    "    df[\"Date\"] = df[\"DateReported_dt\"].dt.tz_localize(None)\n",
    "\n",
    "    # Optionally, create a separate string-formatted column\n",
    "    df[\"DateString\"] = df[\"DateReported_dt\"].dt.strftime(\"%Y-%m-%d %I:%M:%S %p\")\n",
    "    \n",
    "    # DayOfWeek\n",
    "    df[\"DayOfWeek\"] = df[\"DateReported_dt\"].dt.day_name()\n",
    "    \n",
    "    # Weekend\n",
    "    df[\"Weekend\"] = df[\"DayOfWeek\"].isin([\"Saturday\", \"Sunday\"])\n",
    "    \n",
    "    # Helper function to determine the season\n",
    "    def get_season(dt):\n",
    "        month = dt.month\n",
    "        day = dt.day\n",
    "        # Approximate Northern Hemisphere season boundaries:\n",
    "        if (month == 12 and day >= 21) or (month < 3) or (month == 3 and day < 20):\n",
    "            return \"Winter\"\n",
    "        elif (month == 3 and day >= 20) or (month < 6) or (month == 6 and day < 21):\n",
    "            return \"Spring\"\n",
    "        elif (month == 6 and day >= 21) or (month < 9) or (month == 9 and day < 22):\n",
    "            return \"Summer\"\n",
    "        else:\n",
    "            return \"Autumn\"\n",
    "    \n",
    "    df[\"Season\"] = df[\"DateReported_dt\"].apply(get_season)\n",
    "    \n",
    "    # 12-hour formatted time (HourAMPM)\n",
    "    df[\"HourAMPM\"] = df[\"DateReported_dt\"].dt.strftime(\"%I:%M %p\")\n",
    "    \n",
    "    # Extract hour (0-23) for time-of-day\n",
    "    df[\"HourValue\"] = df[\"DateReported_dt\"].dt.hour\n",
    "    \n",
    "    def time_of_day(hour):\n",
    "        if pd.isnull(hour):\n",
    "            return None\n",
    "        if 5 <= hour < 12:\n",
    "            return \"Morning\"\n",
    "        elif 12 <= hour < 17:\n",
    "            return \"Afternoon\"\n",
    "        elif 17 <= hour < 21:\n",
    "            return \"Evening\"\n",
    "        else:\n",
    "            return \"Night\"\n",
    "    \n",
    "    df[\"TimeOfDay\"] = df[\"HourValue\"].apply(time_of_day)\n",
    "    \n",
    "    # Drop columns you no longer need\n",
    "    df.drop(columns=[col, \"DateReported_dt\", \"HourValue\"], inplace=True)\n",
    "    \n",
    "    return df\n",
    "\n",
    "# Example usage:\n",
    "df = convert_and_categorize_datereported(df)\n",
    "df.head()\n"
   ]
  },
  {
   "cell_type": "code",
   "execution_count": 8,
   "id": "245592e2",
   "metadata": {
    "execution": {
     "iopub.execute_input": "2025-05-10T01:01:09.365971Z",
     "iopub.status.busy": "2025-05-10T01:01:09.365480Z",
     "iopub.status.idle": "2025-05-10T01:01:09.388488Z",
     "shell.execute_reply": "2025-05-10T01:01:09.387800Z"
    },
    "papermill": {
     "duration": 0.030567,
     "end_time": "2025-05-10T01:01:09.389546",
     "exception": false,
     "start_time": "2025-05-10T01:01:09.358979",
     "status": "completed"
    },
    "tags": []
   },
   "outputs": [
    {
     "name": "stdout",
     "output_type": "stream",
     "text": [
      "<class 'pandas.core.frame.DataFrame'>\n",
      "RangeIndex: 25363 entries, 0 to 25362\n",
      "Data columns (total 15 columns):\n",
      " #   Column            Non-Null Count  Dtype         \n",
      "---  ------            --------------  -----         \n",
      " 0   RecordID          25363 non-null  int64         \n",
      " 1   Offense           25363 non-null  object        \n",
      " 2   IncidentID        25363 non-null  object        \n",
      " 3   BlockNumber       25363 non-null  object        \n",
      " 4   StreetName        25363 non-null  object        \n",
      " 5   Agency            25363 non-null  object        \n",
      " 6   HourReported      25363 non-null  object        \n",
      " 7   ReportingOfficer  25346 non-null  object        \n",
      " 8   Date              25363 non-null  datetime64[ns]\n",
      " 9   DateString        25363 non-null  object        \n",
      " 10  DayOfWeek         25363 non-null  object        \n",
      " 11  Weekend           25363 non-null  bool          \n",
      " 12  Season            25363 non-null  object        \n",
      " 13  HourAMPM          25363 non-null  object        \n",
      " 14  TimeOfDay         25363 non-null  object        \n",
      "dtypes: bool(1), datetime64[ns](1), int64(1), object(12)\n",
      "memory usage: 2.7+ MB\n"
     ]
    }
   ],
   "source": [
    "df.info()"
   ]
  },
  {
   "cell_type": "markdown",
   "id": "6ccbcdcb",
   "metadata": {
    "papermill": {
     "duration": 0.005923,
     "end_time": "2025-05-10T01:01:09.401588",
     "exception": false,
     "start_time": "2025-05-10T01:01:09.395665",
     "status": "completed"
    },
    "tags": []
   },
   "source": [
    "### Coordinates"
   ]
  },
  {
   "cell_type": "code",
   "execution_count": 9,
   "id": "3f68265e",
   "metadata": {
    "execution": {
     "iopub.execute_input": "2025-05-10T01:01:09.414714Z",
     "iopub.status.busy": "2025-05-10T01:01:09.414215Z",
     "iopub.status.idle": "2025-05-10T01:01:10.179571Z",
     "shell.execute_reply": "2025-05-10T01:01:10.178992Z"
    },
    "papermill": {
     "duration": 0.773007,
     "end_time": "2025-05-10T01:01:10.180579",
     "exception": false,
     "start_time": "2025-05-10T01:01:09.407572",
     "status": "completed"
    },
    "tags": []
   },
   "outputs": [
    {
     "name": "stdout",
     "output_type": "stream",
     "text": [
      "Loaded geocode cache.\n"
     ]
    },
    {
     "name": "stdout",
     "output_type": "stream",
     "text": [
      "Geocoded  9TH ST SW / ROOSEVELT BROWN BLVD: 38.0288471, -78.4952694\n"
     ]
    },
    {
     "name": "stdout",
     "output_type": "stream",
     "text": [
      "Geocoded  DRUID AVE / AVON ST: 38.0197484, -78.4825114\n"
     ]
    },
    {
     "name": "stdout",
     "output_type": "stream",
     "text": [
      "Geocoded 1000 EMMET ST N, B: 38.050261, -78.5024746\n"
     ]
    },
    {
     "name": "stdout",
     "output_type": "stream",
     "text": [
      "Geocoded 1800 LAMBETH LN, 3: 38.0404182, -78.5012569\n"
     ]
    },
    {
     "name": "stdout",
     "output_type": "stream",
     "text": [
      "Geocoded 400 CHERRY AVE, PH2: 38.0258962, -78.4889724\n",
      "Geocode cache updated and saved.\n"
     ]
    },
    {
     "data": {
      "text/html": [
       "<div>\n",
       "<style scoped>\n",
       "    .dataframe tbody tr th:only-of-type {\n",
       "        vertical-align: middle;\n",
       "    }\n",
       "\n",
       "    .dataframe tbody tr th {\n",
       "        vertical-align: top;\n",
       "    }\n",
       "\n",
       "    .dataframe thead th {\n",
       "        text-align: right;\n",
       "    }\n",
       "</style>\n",
       "<table border=\"1\" class=\"dataframe\">\n",
       "  <thead>\n",
       "    <tr style=\"text-align: right;\">\n",
       "      <th></th>\n",
       "      <th>RecordID</th>\n",
       "      <th>Offense</th>\n",
       "      <th>IncidentID</th>\n",
       "      <th>BlockNumber</th>\n",
       "      <th>StreetName</th>\n",
       "      <th>Agency</th>\n",
       "      <th>HourReported</th>\n",
       "      <th>ReportingOfficer</th>\n",
       "      <th>Date</th>\n",
       "      <th>DateString</th>\n",
       "      <th>DayOfWeek</th>\n",
       "      <th>Weekend</th>\n",
       "      <th>Season</th>\n",
       "      <th>HourAMPM</th>\n",
       "      <th>TimeOfDay</th>\n",
       "      <th>FullStreet</th>\n",
       "      <th>lat</th>\n",
       "      <th>lon</th>\n",
       "    </tr>\n",
       "  </thead>\n",
       "  <tbody>\n",
       "    <tr>\n",
       "      <th>0</th>\n",
       "      <td>1</td>\n",
       "      <td>Assist Citizen - Mental/TDO/ECO</td>\n",
       "      <td>202500015377</td>\n",
       "      <td>900</td>\n",
       "      <td>EMMET ST N</td>\n",
       "      <td>CPD</td>\n",
       "      <td>2215</td>\n",
       "      <td>Hudson, Jesse</td>\n",
       "      <td>2025-05-07 22:15:27</td>\n",
       "      <td>2025-05-07 10:15:27 PM</td>\n",
       "      <td>Wednesday</td>\n",
       "      <td>False</td>\n",
       "      <td>Spring</td>\n",
       "      <td>10:15 PM</td>\n",
       "      <td>Night</td>\n",
       "      <td>900 EMMET ST N</td>\n",
       "      <td>38.048586</td>\n",
       "      <td>-78.502983</td>\n",
       "    </tr>\n",
       "    <tr>\n",
       "      <th>1</th>\n",
       "      <td>2</td>\n",
       "      <td>Vandalism</td>\n",
       "      <td>202500015375</td>\n",
       "      <td>400</td>\n",
       "      <td>17TH ST NW, 1</td>\n",
       "      <td>CPD</td>\n",
       "      <td>2156</td>\n",
       "      <td>Bland, Johnnà</td>\n",
       "      <td>2025-05-07 21:56:47</td>\n",
       "      <td>2025-05-07 09:56:47 PM</td>\n",
       "      <td>Wednesday</td>\n",
       "      <td>False</td>\n",
       "      <td>Spring</td>\n",
       "      <td>09:56 PM</td>\n",
       "      <td>Night</td>\n",
       "      <td>400 17TH ST NW, 1</td>\n",
       "      <td>38.039167</td>\n",
       "      <td>-78.500637</td>\n",
       "    </tr>\n",
       "    <tr>\n",
       "      <th>2</th>\n",
       "      <td>3</td>\n",
       "      <td>Larceny - From Motor Vehicle</td>\n",
       "      <td>202500015364</td>\n",
       "      <td></td>\n",
       "      <td>9TH ST SW / ROOSEVELT BROWN BLVD</td>\n",
       "      <td>CPD</td>\n",
       "      <td>2036</td>\n",
       "      <td>Bentz, Benjamin</td>\n",
       "      <td>2025-05-07 20:36:12</td>\n",
       "      <td>2025-05-07 08:36:12 PM</td>\n",
       "      <td>Wednesday</td>\n",
       "      <td>False</td>\n",
       "      <td>Spring</td>\n",
       "      <td>08:36 PM</td>\n",
       "      <td>Evening</td>\n",
       "      <td>9TH ST SW / ROOSEVELT BROWN BLVD</td>\n",
       "      <td>38.028847</td>\n",
       "      <td>-78.495269</td>\n",
       "    </tr>\n",
       "    <tr>\n",
       "      <th>3</th>\n",
       "      <td>4</td>\n",
       "      <td>Assist Agency - Other</td>\n",
       "      <td>202500015363</td>\n",
       "      <td>800</td>\n",
       "      <td>CHERRY AVE</td>\n",
       "      <td>CPD</td>\n",
       "      <td>2030</td>\n",
       "      <td>Davis, Charles</td>\n",
       "      <td>2025-05-07 20:30:45</td>\n",
       "      <td>2025-05-07 08:30:45 PM</td>\n",
       "      <td>Wednesday</td>\n",
       "      <td>False</td>\n",
       "      <td>Spring</td>\n",
       "      <td>08:30 PM</td>\n",
       "      <td>Evening</td>\n",
       "      <td>800 CHERRY AVE</td>\n",
       "      <td>38.028312</td>\n",
       "      <td>-78.493379</td>\n",
       "    </tr>\n",
       "    <tr>\n",
       "      <th>4</th>\n",
       "      <td>5</td>\n",
       "      <td>Vandalism</td>\n",
       "      <td>202500015362</td>\n",
       "      <td></td>\n",
       "      <td>ELLIEWOOD AVE / UNIVERSITY AVE</td>\n",
       "      <td>CPD</td>\n",
       "      <td>2011</td>\n",
       "      <td>Rigsby, Lloyd</td>\n",
       "      <td>2025-05-07 20:11:56</td>\n",
       "      <td>2025-05-07 08:11:56 PM</td>\n",
       "      <td>Wednesday</td>\n",
       "      <td>False</td>\n",
       "      <td>Spring</td>\n",
       "      <td>08:11 PM</td>\n",
       "      <td>Evening</td>\n",
       "      <td>ELLIEWOOD AVE / UNIVERSITY AVE</td>\n",
       "      <td>38.035312</td>\n",
       "      <td>-78.500920</td>\n",
       "    </tr>\n",
       "  </tbody>\n",
       "</table>\n",
       "</div>"
      ],
      "text/plain": [
       "   RecordID                          Offense    IncidentID BlockNumber  \\\n",
       "0         1  Assist Citizen - Mental/TDO/ECO  202500015377         900   \n",
       "1         2                        Vandalism  202500015375         400   \n",
       "2         3     Larceny - From Motor Vehicle  202500015364               \n",
       "3         4            Assist Agency - Other  202500015363         800   \n",
       "4         5                        Vandalism  202500015362               \n",
       "\n",
       "                         StreetName Agency HourReported  ReportingOfficer  \\\n",
       "0                        EMMET ST N    CPD         2215     Hudson, Jesse   \n",
       "1                     17TH ST NW, 1    CPD         2156     Bland, Johnnà   \n",
       "2  9TH ST SW / ROOSEVELT BROWN BLVD    CPD         2036  Bentz, Benjamin    \n",
       "3                        CHERRY AVE    CPD         2030    Davis, Charles   \n",
       "4    ELLIEWOOD AVE / UNIVERSITY AVE    CPD         2011     Rigsby, Lloyd   \n",
       "\n",
       "                 Date              DateString  DayOfWeek  Weekend  Season  \\\n",
       "0 2025-05-07 22:15:27  2025-05-07 10:15:27 PM  Wednesday    False  Spring   \n",
       "1 2025-05-07 21:56:47  2025-05-07 09:56:47 PM  Wednesday    False  Spring   \n",
       "2 2025-05-07 20:36:12  2025-05-07 08:36:12 PM  Wednesday    False  Spring   \n",
       "3 2025-05-07 20:30:45  2025-05-07 08:30:45 PM  Wednesday    False  Spring   \n",
       "4 2025-05-07 20:11:56  2025-05-07 08:11:56 PM  Wednesday    False  Spring   \n",
       "\n",
       "   HourAMPM TimeOfDay                         FullStreet        lat        lon  \n",
       "0  10:15 PM     Night                     900 EMMET ST N  38.048586 -78.502983  \n",
       "1  09:56 PM     Night                  400 17TH ST NW, 1  38.039167 -78.500637  \n",
       "2  08:36 PM   Evening   9TH ST SW / ROOSEVELT BROWN BLVD  38.028847 -78.495269  \n",
       "3  08:30 PM   Evening                     800 CHERRY AVE  38.028312 -78.493379  \n",
       "4  08:11 PM   Evening     ELLIEWOOD AVE / UNIVERSITY AVE  38.035312 -78.500920  "
      ]
     },
     "execution_count": 9,
     "metadata": {},
     "output_type": "execute_result"
    }
   ],
   "source": [
    "# Combine BlockNumber and StreetName into a full address string\n",
    "df['FullStreet'] = df['BlockNumber'].astype(str) + \" \" + df['StreetName']\n",
    "\n",
    "# --- Step 1: Setup the Google Maps Client and Cache ---\n",
    "gmaps = googlemaps.Client(key=GOOGLE_API_KEY)\n",
    "\n",
    "# Try to load cached geocoding results if available.\n",
    "try:\n",
    "    with open(\"geocode_cache_google.pkl\", \"rb\") as f:\n",
    "        street_coords = pickle.load(f)\n",
    "    print(\"Loaded geocode cache.\")\n",
    "except FileNotFoundError:\n",
    "    street_coords = {}\n",
    "    print(\"No cache found; starting fresh.\")\n",
    "\n",
    "def geocode_address(address):\n",
    "    try:\n",
    "        # Append city and state to help geocoding\n",
    "        result = gmaps.geocode(f\"{address}, Charlottesville, VA\")\n",
    "        if result:\n",
    "            lat = result[0]['geometry']['location']['lat']\n",
    "            lon = result[0]['geometry']['location']['lng']\n",
    "            return lat, lon\n",
    "    except Exception as e:\n",
    "        print(f\"Error geocoding {address}: {e}\")\n",
    "    return None, None\n",
    "\n",
    "# --- Step 2: Geocode Only New Addresses ---\n",
    "unique_addresses = df['FullStreet'].unique()\n",
    "for address in unique_addresses:\n",
    "    if address not in street_coords:\n",
    "        lat, lon = geocode_address(address)\n",
    "        street_coords[address] = (lat, lon)\n",
    "        print(f\"Geocoded {address}: {lat}, {lon}\")\n",
    "\n",
    "# Save the updated cache to disk.\n",
    "with open(\"geocode_cache_google.pkl\", \"wb\") as f:\n",
    "    pickle.dump(street_coords, f)\n",
    "    print(\"Geocode cache updated and saved.\")\n",
    "\n",
    "# --- Step 3: Map Coordinates Back to DataFrame ---\n",
    "df['lat'] = df['FullStreet'].map(lambda s: street_coords.get(s, (None, None))[0])\n",
    "df['lon'] = df['FullStreet'].map(lambda s: street_coords.get(s, (None, None))[1])\n",
    "\n",
    "df.head()"
   ]
  },
  {
   "cell_type": "markdown",
   "id": "188dbad9",
   "metadata": {
    "papermill": {
     "duration": 0.006339,
     "end_time": "2025-05-10T01:01:10.193762",
     "exception": false,
     "start_time": "2025-05-10T01:01:10.187423",
     "status": "completed"
    },
    "tags": []
   },
   "source": [
    "### Neighborhood"
   ]
  },
  {
   "cell_type": "code",
   "execution_count": 10,
   "id": "087ecbc6",
   "metadata": {
    "execution": {
     "iopub.execute_input": "2025-05-10T01:01:10.207355Z",
     "iopub.status.busy": "2025-05-10T01:01:10.207152Z",
     "iopub.status.idle": "2025-05-10T01:01:10.467383Z",
     "shell.execute_reply": "2025-05-10T01:01:10.466639Z"
    },
    "papermill": {
     "duration": 0.268345,
     "end_time": "2025-05-10T01:01:10.468604",
     "exception": false,
     "start_time": "2025-05-10T01:01:10.200259",
     "status": "completed"
    },
    "tags": []
   },
   "outputs": [
    {
     "name": "stdout",
     "output_type": "stream",
     "text": [
      "Loaded neighborhood cache.\n"
     ]
    },
    {
     "data": {
      "text/html": [
       "<div>\n",
       "<style scoped>\n",
       "    .dataframe tbody tr th:only-of-type {\n",
       "        vertical-align: middle;\n",
       "    }\n",
       "\n",
       "    .dataframe tbody tr th {\n",
       "        vertical-align: top;\n",
       "    }\n",
       "\n",
       "    .dataframe thead th {\n",
       "        text-align: right;\n",
       "    }\n",
       "</style>\n",
       "<table border=\"1\" class=\"dataframe\">\n",
       "  <thead>\n",
       "    <tr style=\"text-align: right;\">\n",
       "      <th></th>\n",
       "      <th>RecordID</th>\n",
       "      <th>Offense</th>\n",
       "      <th>IncidentID</th>\n",
       "      <th>BlockNumber</th>\n",
       "      <th>StreetName</th>\n",
       "      <th>Agency</th>\n",
       "      <th>HourReported</th>\n",
       "      <th>ReportingOfficer</th>\n",
       "      <th>Date</th>\n",
       "      <th>DateString</th>\n",
       "      <th>DayOfWeek</th>\n",
       "      <th>Weekend</th>\n",
       "      <th>Season</th>\n",
       "      <th>HourAMPM</th>\n",
       "      <th>TimeOfDay</th>\n",
       "      <th>FullStreet</th>\n",
       "      <th>lat</th>\n",
       "      <th>lon</th>\n",
       "      <th>neighborhood</th>\n",
       "    </tr>\n",
       "  </thead>\n",
       "  <tbody>\n",
       "    <tr>\n",
       "      <th>0</th>\n",
       "      <td>1</td>\n",
       "      <td>Assist Citizen - Mental/TDO/ECO</td>\n",
       "      <td>202500015377</td>\n",
       "      <td>900</td>\n",
       "      <td>EMMET ST N</td>\n",
       "      <td>CPD</td>\n",
       "      <td>2215</td>\n",
       "      <td>Hudson, Jesse</td>\n",
       "      <td>2025-05-07 22:15:27</td>\n",
       "      <td>2025-05-07 10:15:27 PM</td>\n",
       "      <td>Wednesday</td>\n",
       "      <td>False</td>\n",
       "      <td>Spring</td>\n",
       "      <td>10:15 PM</td>\n",
       "      <td>Night</td>\n",
       "      <td>900 EMMET ST N</td>\n",
       "      <td>38.048586</td>\n",
       "      <td>-78.502983</td>\n",
       "      <td>Venable</td>\n",
       "    </tr>\n",
       "    <tr>\n",
       "      <th>1</th>\n",
       "      <td>2</td>\n",
       "      <td>Vandalism</td>\n",
       "      <td>202500015375</td>\n",
       "      <td>400</td>\n",
       "      <td>17TH ST NW, 1</td>\n",
       "      <td>CPD</td>\n",
       "      <td>2156</td>\n",
       "      <td>Bland, Johnnà</td>\n",
       "      <td>2025-05-07 21:56:47</td>\n",
       "      <td>2025-05-07 09:56:47 PM</td>\n",
       "      <td>Wednesday</td>\n",
       "      <td>False</td>\n",
       "      <td>Spring</td>\n",
       "      <td>09:56 PM</td>\n",
       "      <td>Night</td>\n",
       "      <td>400 17TH ST NW, 1</td>\n",
       "      <td>38.039167</td>\n",
       "      <td>-78.500637</td>\n",
       "      <td>Venable</td>\n",
       "    </tr>\n",
       "    <tr>\n",
       "      <th>2</th>\n",
       "      <td>3</td>\n",
       "      <td>Larceny - From Motor Vehicle</td>\n",
       "      <td>202500015364</td>\n",
       "      <td></td>\n",
       "      <td>9TH ST SW / ROOSEVELT BROWN BLVD</td>\n",
       "      <td>CPD</td>\n",
       "      <td>2036</td>\n",
       "      <td>Bentz, Benjamin</td>\n",
       "      <td>2025-05-07 20:36:12</td>\n",
       "      <td>2025-05-07 08:36:12 PM</td>\n",
       "      <td>Wednesday</td>\n",
       "      <td>False</td>\n",
       "      <td>Spring</td>\n",
       "      <td>08:36 PM</td>\n",
       "      <td>Evening</td>\n",
       "      <td>9TH ST SW / ROOSEVELT BROWN BLVD</td>\n",
       "      <td>38.028847</td>\n",
       "      <td>-78.495269</td>\n",
       "      <td>Fifeville</td>\n",
       "    </tr>\n",
       "    <tr>\n",
       "      <th>3</th>\n",
       "      <td>4</td>\n",
       "      <td>Assist Agency - Other</td>\n",
       "      <td>202500015363</td>\n",
       "      <td>800</td>\n",
       "      <td>CHERRY AVE</td>\n",
       "      <td>CPD</td>\n",
       "      <td>2030</td>\n",
       "      <td>Davis, Charles</td>\n",
       "      <td>2025-05-07 20:30:45</td>\n",
       "      <td>2025-05-07 08:30:45 PM</td>\n",
       "      <td>Wednesday</td>\n",
       "      <td>False</td>\n",
       "      <td>Spring</td>\n",
       "      <td>08:30 PM</td>\n",
       "      <td>Evening</td>\n",
       "      <td>800 CHERRY AVE</td>\n",
       "      <td>38.028312</td>\n",
       "      <td>-78.493379</td>\n",
       "      <td>Fifeville</td>\n",
       "    </tr>\n",
       "    <tr>\n",
       "      <th>4</th>\n",
       "      <td>5</td>\n",
       "      <td>Vandalism</td>\n",
       "      <td>202500015362</td>\n",
       "      <td></td>\n",
       "      <td>ELLIEWOOD AVE / UNIVERSITY AVE</td>\n",
       "      <td>CPD</td>\n",
       "      <td>2011</td>\n",
       "      <td>Rigsby, Lloyd</td>\n",
       "      <td>2025-05-07 20:11:56</td>\n",
       "      <td>2025-05-07 08:11:56 PM</td>\n",
       "      <td>Wednesday</td>\n",
       "      <td>False</td>\n",
       "      <td>Spring</td>\n",
       "      <td>08:11 PM</td>\n",
       "      <td>Evening</td>\n",
       "      <td>ELLIEWOOD AVE / UNIVERSITY AVE</td>\n",
       "      <td>38.035312</td>\n",
       "      <td>-78.500920</td>\n",
       "      <td>Venable</td>\n",
       "    </tr>\n",
       "  </tbody>\n",
       "</table>\n",
       "</div>"
      ],
      "text/plain": [
       "   RecordID                          Offense    IncidentID BlockNumber  \\\n",
       "0         1  Assist Citizen - Mental/TDO/ECO  202500015377         900   \n",
       "1         2                        Vandalism  202500015375         400   \n",
       "2         3     Larceny - From Motor Vehicle  202500015364               \n",
       "3         4            Assist Agency - Other  202500015363         800   \n",
       "4         5                        Vandalism  202500015362               \n",
       "\n",
       "                         StreetName Agency HourReported  ReportingOfficer  \\\n",
       "0                        EMMET ST N    CPD         2215     Hudson, Jesse   \n",
       "1                     17TH ST NW, 1    CPD         2156     Bland, Johnnà   \n",
       "2  9TH ST SW / ROOSEVELT BROWN BLVD    CPD         2036  Bentz, Benjamin    \n",
       "3                        CHERRY AVE    CPD         2030    Davis, Charles   \n",
       "4    ELLIEWOOD AVE / UNIVERSITY AVE    CPD         2011     Rigsby, Lloyd   \n",
       "\n",
       "                 Date              DateString  DayOfWeek  Weekend  Season  \\\n",
       "0 2025-05-07 22:15:27  2025-05-07 10:15:27 PM  Wednesday    False  Spring   \n",
       "1 2025-05-07 21:56:47  2025-05-07 09:56:47 PM  Wednesday    False  Spring   \n",
       "2 2025-05-07 20:36:12  2025-05-07 08:36:12 PM  Wednesday    False  Spring   \n",
       "3 2025-05-07 20:30:45  2025-05-07 08:30:45 PM  Wednesday    False  Spring   \n",
       "4 2025-05-07 20:11:56  2025-05-07 08:11:56 PM  Wednesday    False  Spring   \n",
       "\n",
       "   HourAMPM TimeOfDay                         FullStreet        lat  \\\n",
       "0  10:15 PM     Night                     900 EMMET ST N  38.048586   \n",
       "1  09:56 PM     Night                  400 17TH ST NW, 1  38.039167   \n",
       "2  08:36 PM   Evening   9TH ST SW / ROOSEVELT BROWN BLVD  38.028847   \n",
       "3  08:30 PM   Evening                     800 CHERRY AVE  38.028312   \n",
       "4  08:11 PM   Evening     ELLIEWOOD AVE / UNIVERSITY AVE  38.035312   \n",
       "\n",
       "         lon neighborhood  \n",
       "0 -78.502983      Venable  \n",
       "1 -78.500637      Venable  \n",
       "2 -78.495269    Fifeville  \n",
       "3 -78.493379    Fifeville  \n",
       "4 -78.500920      Venable  "
      ]
     },
     "execution_count": 10,
     "metadata": {},
     "output_type": "execute_result"
    }
   ],
   "source": [
    "# Initialize the Google Maps client.\n",
    "gmaps = googlemaps.Client(key=GOOGLE_API_KEY)\n",
    "\n",
    "# Try to load a persistent neighborhood cache if available.\n",
    "try:\n",
    "    with open(\"neighborhood_cache.pkl\", \"rb\") as f:\n",
    "        neighborhood_cache = pickle.load(f)\n",
    "    print(\"Loaded neighborhood cache.\")\n",
    "except FileNotFoundError:\n",
    "    neighborhood_cache = {}\n",
    "    print(\"No neighborhood cache found; starting fresh.\")\n",
    "\n",
    "def get_neighborhood(lat, lon):\n",
    "    \"\"\"\n",
    "    Reverse geocodes a latitude and longitude to retrieve the neighborhood.\n",
    "    Caches results to speed up subsequent lookups.\n",
    "    \"\"\"\n",
    "    key = (lat, lon)\n",
    "    if key in neighborhood_cache:\n",
    "        return neighborhood_cache[key]\n",
    "    \n",
    "    try:\n",
    "        result = gmaps.reverse_geocode((lat, lon))\n",
    "        if result:\n",
    "            # Look for the 'neighborhood' component in the first result.\n",
    "            for component in result[0]['address_components']:\n",
    "                if 'neighborhood' in component['types']:\n",
    "                    neighborhood = component['long_name']\n",
    "                    neighborhood_cache[key] = neighborhood\n",
    "                    return neighborhood\n",
    "            # If no neighborhood is found, return \"N/A\"\n",
    "            neighborhood_cache[key] = \"N/A\"\n",
    "            return \"N/A\"\n",
    "    except Exception as e:\n",
    "        print(f\"Error getting neighborhood for {lat}, {lon}: {e}\")\n",
    "        return \"N/A\"\n",
    "    \n",
    "    # Pause to respect usage limits.\n",
    "    time.sleep(1)\n",
    "\n",
    "# Example usage: Apply to your DataFrame 'df' that already has 'lat' and 'lon' columns.\n",
    "df['neighborhood'] = df.apply(lambda row: get_neighborhood(row['lat'], row['lon']), axis=1)\n",
    "\n",
    "# Save the updated neighborhood cache.\n",
    "with open(\"neighborhood_cache.pkl\", \"wb\") as f:\n",
    "    pickle.dump(neighborhood_cache, f)\n",
    "\n",
    "df.head()\n"
   ]
  },
  {
   "cell_type": "markdown",
   "id": "379b7b0c",
   "metadata": {
    "papermill": {
     "duration": 0.006704,
     "end_time": "2025-05-10T01:01:10.482492",
     "exception": false,
     "start_time": "2025-05-10T01:01:10.475788",
     "status": "completed"
    },
    "tags": []
   },
   "source": [
    "### Zip"
   ]
  },
  {
   "cell_type": "code",
   "execution_count": 11,
   "id": "7486a284",
   "metadata": {
    "execution": {
     "iopub.execute_input": "2025-05-10T01:01:10.500323Z",
     "iopub.status.busy": "2025-05-10T01:01:10.499866Z",
     "iopub.status.idle": "2025-05-10T01:01:10.743113Z",
     "shell.execute_reply": "2025-05-10T01:01:10.742469Z"
    },
    "papermill": {
     "duration": 0.254896,
     "end_time": "2025-05-10T01:01:10.744172",
     "exception": false,
     "start_time": "2025-05-10T01:01:10.489276",
     "status": "completed"
    },
    "tags": []
   },
   "outputs": [
    {
     "name": "stdout",
     "output_type": "stream",
     "text": [
      "Loaded zip cache.\n"
     ]
    },
    {
     "data": {
      "text/html": [
       "<div>\n",
       "<style scoped>\n",
       "    .dataframe tbody tr th:only-of-type {\n",
       "        vertical-align: middle;\n",
       "    }\n",
       "\n",
       "    .dataframe tbody tr th {\n",
       "        vertical-align: top;\n",
       "    }\n",
       "\n",
       "    .dataframe thead th {\n",
       "        text-align: right;\n",
       "    }\n",
       "</style>\n",
       "<table border=\"1\" class=\"dataframe\">\n",
       "  <thead>\n",
       "    <tr style=\"text-align: right;\">\n",
       "      <th></th>\n",
       "      <th>RecordID</th>\n",
       "      <th>Offense</th>\n",
       "      <th>IncidentID</th>\n",
       "      <th>BlockNumber</th>\n",
       "      <th>StreetName</th>\n",
       "      <th>Agency</th>\n",
       "      <th>HourReported</th>\n",
       "      <th>ReportingOfficer</th>\n",
       "      <th>Date</th>\n",
       "      <th>DateString</th>\n",
       "      <th>DayOfWeek</th>\n",
       "      <th>Weekend</th>\n",
       "      <th>Season</th>\n",
       "      <th>HourAMPM</th>\n",
       "      <th>TimeOfDay</th>\n",
       "      <th>FullStreet</th>\n",
       "      <th>lat</th>\n",
       "      <th>lon</th>\n",
       "      <th>neighborhood</th>\n",
       "      <th>zip</th>\n",
       "    </tr>\n",
       "  </thead>\n",
       "  <tbody>\n",
       "    <tr>\n",
       "      <th>0</th>\n",
       "      <td>1</td>\n",
       "      <td>Assist Citizen - Mental/TDO/ECO</td>\n",
       "      <td>202500015377</td>\n",
       "      <td>900</td>\n",
       "      <td>EMMET ST N</td>\n",
       "      <td>CPD</td>\n",
       "      <td>2215</td>\n",
       "      <td>Hudson, Jesse</td>\n",
       "      <td>2025-05-07 22:15:27</td>\n",
       "      <td>2025-05-07 10:15:27 PM</td>\n",
       "      <td>Wednesday</td>\n",
       "      <td>False</td>\n",
       "      <td>Spring</td>\n",
       "      <td>10:15 PM</td>\n",
       "      <td>Night</td>\n",
       "      <td>900 EMMET ST N</td>\n",
       "      <td>38.048586</td>\n",
       "      <td>-78.502983</td>\n",
       "      <td>Venable</td>\n",
       "      <td>22903</td>\n",
       "    </tr>\n",
       "    <tr>\n",
       "      <th>1</th>\n",
       "      <td>2</td>\n",
       "      <td>Vandalism</td>\n",
       "      <td>202500015375</td>\n",
       "      <td>400</td>\n",
       "      <td>17TH ST NW, 1</td>\n",
       "      <td>CPD</td>\n",
       "      <td>2156</td>\n",
       "      <td>Bland, Johnnà</td>\n",
       "      <td>2025-05-07 21:56:47</td>\n",
       "      <td>2025-05-07 09:56:47 PM</td>\n",
       "      <td>Wednesday</td>\n",
       "      <td>False</td>\n",
       "      <td>Spring</td>\n",
       "      <td>09:56 PM</td>\n",
       "      <td>Night</td>\n",
       "      <td>400 17TH ST NW, 1</td>\n",
       "      <td>38.039167</td>\n",
       "      <td>-78.500637</td>\n",
       "      <td>Venable</td>\n",
       "      <td>22903</td>\n",
       "    </tr>\n",
       "    <tr>\n",
       "      <th>2</th>\n",
       "      <td>3</td>\n",
       "      <td>Larceny - From Motor Vehicle</td>\n",
       "      <td>202500015364</td>\n",
       "      <td></td>\n",
       "      <td>9TH ST SW / ROOSEVELT BROWN BLVD</td>\n",
       "      <td>CPD</td>\n",
       "      <td>2036</td>\n",
       "      <td>Bentz, Benjamin</td>\n",
       "      <td>2025-05-07 20:36:12</td>\n",
       "      <td>2025-05-07 08:36:12 PM</td>\n",
       "      <td>Wednesday</td>\n",
       "      <td>False</td>\n",
       "      <td>Spring</td>\n",
       "      <td>08:36 PM</td>\n",
       "      <td>Evening</td>\n",
       "      <td>9TH ST SW / ROOSEVELT BROWN BLVD</td>\n",
       "      <td>38.028847</td>\n",
       "      <td>-78.495269</td>\n",
       "      <td>Fifeville</td>\n",
       "      <td>22903</td>\n",
       "    </tr>\n",
       "    <tr>\n",
       "      <th>3</th>\n",
       "      <td>4</td>\n",
       "      <td>Assist Agency - Other</td>\n",
       "      <td>202500015363</td>\n",
       "      <td>800</td>\n",
       "      <td>CHERRY AVE</td>\n",
       "      <td>CPD</td>\n",
       "      <td>2030</td>\n",
       "      <td>Davis, Charles</td>\n",
       "      <td>2025-05-07 20:30:45</td>\n",
       "      <td>2025-05-07 08:30:45 PM</td>\n",
       "      <td>Wednesday</td>\n",
       "      <td>False</td>\n",
       "      <td>Spring</td>\n",
       "      <td>08:30 PM</td>\n",
       "      <td>Evening</td>\n",
       "      <td>800 CHERRY AVE</td>\n",
       "      <td>38.028312</td>\n",
       "      <td>-78.493379</td>\n",
       "      <td>Fifeville</td>\n",
       "      <td>22903</td>\n",
       "    </tr>\n",
       "    <tr>\n",
       "      <th>4</th>\n",
       "      <td>5</td>\n",
       "      <td>Vandalism</td>\n",
       "      <td>202500015362</td>\n",
       "      <td></td>\n",
       "      <td>ELLIEWOOD AVE / UNIVERSITY AVE</td>\n",
       "      <td>CPD</td>\n",
       "      <td>2011</td>\n",
       "      <td>Rigsby, Lloyd</td>\n",
       "      <td>2025-05-07 20:11:56</td>\n",
       "      <td>2025-05-07 08:11:56 PM</td>\n",
       "      <td>Wednesday</td>\n",
       "      <td>False</td>\n",
       "      <td>Spring</td>\n",
       "      <td>08:11 PM</td>\n",
       "      <td>Evening</td>\n",
       "      <td>ELLIEWOOD AVE / UNIVERSITY AVE</td>\n",
       "      <td>38.035312</td>\n",
       "      <td>-78.500920</td>\n",
       "      <td>Venable</td>\n",
       "      <td>22908</td>\n",
       "    </tr>\n",
       "  </tbody>\n",
       "</table>\n",
       "</div>"
      ],
      "text/plain": [
       "   RecordID                          Offense    IncidentID BlockNumber  \\\n",
       "0         1  Assist Citizen - Mental/TDO/ECO  202500015377         900   \n",
       "1         2                        Vandalism  202500015375         400   \n",
       "2         3     Larceny - From Motor Vehicle  202500015364               \n",
       "3         4            Assist Agency - Other  202500015363         800   \n",
       "4         5                        Vandalism  202500015362               \n",
       "\n",
       "                         StreetName Agency HourReported  ReportingOfficer  \\\n",
       "0                        EMMET ST N    CPD         2215     Hudson, Jesse   \n",
       "1                     17TH ST NW, 1    CPD         2156     Bland, Johnnà   \n",
       "2  9TH ST SW / ROOSEVELT BROWN BLVD    CPD         2036  Bentz, Benjamin    \n",
       "3                        CHERRY AVE    CPD         2030    Davis, Charles   \n",
       "4    ELLIEWOOD AVE / UNIVERSITY AVE    CPD         2011     Rigsby, Lloyd   \n",
       "\n",
       "                 Date              DateString  DayOfWeek  Weekend  Season  \\\n",
       "0 2025-05-07 22:15:27  2025-05-07 10:15:27 PM  Wednesday    False  Spring   \n",
       "1 2025-05-07 21:56:47  2025-05-07 09:56:47 PM  Wednesday    False  Spring   \n",
       "2 2025-05-07 20:36:12  2025-05-07 08:36:12 PM  Wednesday    False  Spring   \n",
       "3 2025-05-07 20:30:45  2025-05-07 08:30:45 PM  Wednesday    False  Spring   \n",
       "4 2025-05-07 20:11:56  2025-05-07 08:11:56 PM  Wednesday    False  Spring   \n",
       "\n",
       "   HourAMPM TimeOfDay                         FullStreet        lat  \\\n",
       "0  10:15 PM     Night                     900 EMMET ST N  38.048586   \n",
       "1  09:56 PM     Night                  400 17TH ST NW, 1  38.039167   \n",
       "2  08:36 PM   Evening   9TH ST SW / ROOSEVELT BROWN BLVD  38.028847   \n",
       "3  08:30 PM   Evening                     800 CHERRY AVE  38.028312   \n",
       "4  08:11 PM   Evening     ELLIEWOOD AVE / UNIVERSITY AVE  38.035312   \n",
       "\n",
       "         lon neighborhood    zip  \n",
       "0 -78.502983      Venable  22903  \n",
       "1 -78.500637      Venable  22903  \n",
       "2 -78.495269    Fifeville  22903  \n",
       "3 -78.493379    Fifeville  22903  \n",
       "4 -78.500920      Venable  22908  "
      ]
     },
     "execution_count": 11,
     "metadata": {},
     "output_type": "execute_result"
    }
   ],
   "source": [
    "# Initialize the geocoder.\n",
    "geolocator = Nominatim(user_agent=\"zip_lookup\")\n",
    "\n",
    "# Try to load a persistent ZIP cache if available.\n",
    "try:\n",
    "    with open(\"zip_cache.pkl\", \"rb\") as f:\n",
    "        zip_cache = pickle.load(f)\n",
    "    print(\"Loaded zip cache.\")\n",
    "except FileNotFoundError:\n",
    "    zip_cache = {}\n",
    "    print(\"No zip cache found; starting fresh.\")\n",
    "\n",
    "def get_zip(lat, lon):\n",
    "    \"\"\"\n",
    "    Reverse geocodes a latitude and longitude to retrieve the ZIP code.\n",
    "    Caches results to speed up subsequent lookups.\n",
    "    \"\"\"\n",
    "    key = (lat, lon)\n",
    "    if key in zip_cache:\n",
    "        return zip_cache[key]\n",
    "    \n",
    "    try:\n",
    "        location = geolocator.reverse((lat, lon), exactly_one=True, timeout=10)\n",
    "        address = location.raw.get('address', {})\n",
    "        postal_code = address.get('postcode', \"N/A\")\n",
    "    except Exception as e:\n",
    "        print(f\"Error getting ZIP for {lat}, {lon}: {e}\")\n",
    "        postal_code = \"N/A\"\n",
    "    \n",
    "    zip_cache[key] = postal_code\n",
    "    # Pause to respect the usage policy.\n",
    "    time.sleep(1)\n",
    "    return postal_code\n",
    "\n",
    "# Apply the function to each row in the DataFrame.\n",
    "df['zip'] = df.apply(lambda row: get_zip(row['lat'], row['lon']), axis=1)\n",
    "\n",
    "# Save the updated ZIP cache.\n",
    "with open(\"zip_cache.pkl\", \"wb\") as f:\n",
    "    pickle.dump(zip_cache, f)\n",
    "\n",
    "df.head()\n"
   ]
  },
  {
   "cell_type": "code",
   "execution_count": 12,
   "id": "c139a170",
   "metadata": {
    "execution": {
     "iopub.execute_input": "2025-05-10T01:01:10.759774Z",
     "iopub.status.busy": "2025-05-10T01:01:10.759357Z",
     "iopub.status.idle": "2025-05-10T01:01:10.783966Z",
     "shell.execute_reply": "2025-05-10T01:01:10.783427Z"
    },
    "papermill": {
     "duration": 0.033346,
     "end_time": "2025-05-10T01:01:10.785011",
     "exception": false,
     "start_time": "2025-05-10T01:01:10.751665",
     "status": "completed"
    },
    "tags": []
   },
   "outputs": [
    {
     "name": "stdout",
     "output_type": "stream",
     "text": [
      "                  MissingCount  MissingPercentage\n",
      "RecordID                     0               0.00\n",
      "Offense                      0               0.00\n",
      "IncidentID                   0               0.00\n",
      "BlockNumber                  0               0.00\n",
      "StreetName                   0               0.00\n",
      "Agency                       0               0.00\n",
      "HourReported                 0               0.00\n",
      "ReportingOfficer            17               0.07\n",
      "Date                         0               0.00\n",
      "DateString                   0               0.00\n",
      "DayOfWeek                    0               0.00\n",
      "Weekend                      0               0.00\n",
      "Season                       0               0.00\n",
      "HourAMPM                     0               0.00\n",
      "TimeOfDay                    0               0.00\n",
      "FullStreet                   0               0.00\n",
      "lat                          0               0.00\n",
      "lon                          0               0.00\n",
      "neighborhood                 0               0.00\n",
      "zip                          0               0.00\n"
     ]
    }
   ],
   "source": [
    "missing_info = missing_percentage(df)\n",
    "print(missing_info)\n"
   ]
  },
  {
   "cell_type": "code",
   "execution_count": 13,
   "id": "a7542134",
   "metadata": {
    "execution": {
     "iopub.execute_input": "2025-05-10T01:01:10.800293Z",
     "iopub.status.busy": "2025-05-10T01:01:10.799818Z",
     "iopub.status.idle": "2025-05-10T01:01:10.824103Z",
     "shell.execute_reply": "2025-05-10T01:01:10.823546Z"
    },
    "papermill": {
     "duration": 0.032854,
     "end_time": "2025-05-10T01:01:10.825061",
     "exception": false,
     "start_time": "2025-05-10T01:01:10.792207",
     "status": "completed"
    },
    "tags": []
   },
   "outputs": [
    {
     "name": "stdout",
     "output_type": "stream",
     "text": [
      "<class 'pandas.core.frame.DataFrame'>\n",
      "RangeIndex: 25363 entries, 0 to 25362\n",
      "Data columns (total 20 columns):\n",
      " #   Column            Non-Null Count  Dtype         \n",
      "---  ------            --------------  -----         \n",
      " 0   RecordID          25363 non-null  int64         \n",
      " 1   Offense           25363 non-null  object        \n",
      " 2   IncidentID        25363 non-null  object        \n",
      " 3   BlockNumber       25363 non-null  object        \n",
      " 4   StreetName        25363 non-null  object        \n",
      " 5   Agency            25363 non-null  object        \n",
      " 6   HourReported      25363 non-null  object        \n",
      " 7   ReportingOfficer  25346 non-null  object        \n",
      " 8   Date              25363 non-null  datetime64[ns]\n",
      " 9   DateString        25363 non-null  object        \n",
      " 10  DayOfWeek         25363 non-null  object        \n",
      " 11  Weekend           25363 non-null  bool          \n",
      " 12  Season            25363 non-null  object        \n",
      " 13  HourAMPM          25363 non-null  object        \n",
      " 14  TimeOfDay         25363 non-null  object        \n",
      " 15  FullStreet        25363 non-null  object        \n",
      " 16  lat               25363 non-null  float64       \n",
      " 17  lon               25363 non-null  float64       \n",
      " 18  neighborhood      25363 non-null  object        \n",
      " 19  zip               25363 non-null  object        \n",
      "dtypes: bool(1), datetime64[ns](1), float64(2), int64(1), object(15)\n",
      "memory usage: 3.7+ MB\n"
     ]
    }
   ],
   "source": [
    "df.info()"
   ]
  },
  {
   "cell_type": "code",
   "execution_count": 14,
   "id": "a8e4f628",
   "metadata": {
    "execution": {
     "iopub.execute_input": "2025-05-10T01:01:10.840529Z",
     "iopub.status.busy": "2025-05-10T01:01:10.840021Z",
     "iopub.status.idle": "2025-05-10T01:01:10.883042Z",
     "shell.execute_reply": "2025-05-10T01:01:10.882342Z"
    },
    "papermill": {
     "duration": 0.051825,
     "end_time": "2025-05-10T01:01:10.884144",
     "exception": false,
     "start_time": "2025-05-10T01:01:10.832319",
     "status": "completed"
    },
    "tags": []
   },
   "outputs": [
    {
     "data": {
      "text/html": [
       "<div>\n",
       "<style scoped>\n",
       "    .dataframe tbody tr th:only-of-type {\n",
       "        vertical-align: middle;\n",
       "    }\n",
       "\n",
       "    .dataframe tbody tr th {\n",
       "        vertical-align: top;\n",
       "    }\n",
       "\n",
       "    .dataframe thead th {\n",
       "        text-align: right;\n",
       "    }\n",
       "</style>\n",
       "<table border=\"1\" class=\"dataframe\">\n",
       "  <thead>\n",
       "    <tr style=\"text-align: right;\">\n",
       "      <th></th>\n",
       "      <th>RecordID</th>\n",
       "      <th>Offense</th>\n",
       "      <th>IncidentID</th>\n",
       "      <th>Agency</th>\n",
       "      <th>ReportingOfficer</th>\n",
       "      <th>Date</th>\n",
       "      <th>DayOfWeek</th>\n",
       "      <th>Weekend</th>\n",
       "      <th>Season</th>\n",
       "      <th>TimeOfDay</th>\n",
       "      <th>FullStreet</th>\n",
       "      <th>lat</th>\n",
       "      <th>lon</th>\n",
       "      <th>neighborhood</th>\n",
       "      <th>zip</th>\n",
       "    </tr>\n",
       "  </thead>\n",
       "  <tbody>\n",
       "    <tr>\n",
       "      <th>0</th>\n",
       "      <td>1</td>\n",
       "      <td>Assist Citizen - Mental/TDO/ECO</td>\n",
       "      <td>202500015377</td>\n",
       "      <td>CPD</td>\n",
       "      <td>Hudson, Jesse</td>\n",
       "      <td>2025-05-07 22:15:27</td>\n",
       "      <td>Wednesday</td>\n",
       "      <td>False</td>\n",
       "      <td>Spring</td>\n",
       "      <td>Night</td>\n",
       "      <td>900 EMMET ST N</td>\n",
       "      <td>38.048586</td>\n",
       "      <td>-78.502983</td>\n",
       "      <td>Venable</td>\n",
       "      <td>22903</td>\n",
       "    </tr>\n",
       "    <tr>\n",
       "      <th>1</th>\n",
       "      <td>2</td>\n",
       "      <td>Vandalism</td>\n",
       "      <td>202500015375</td>\n",
       "      <td>CPD</td>\n",
       "      <td>Bland, Johnnà</td>\n",
       "      <td>2025-05-07 21:56:47</td>\n",
       "      <td>Wednesday</td>\n",
       "      <td>False</td>\n",
       "      <td>Spring</td>\n",
       "      <td>Night</td>\n",
       "      <td>400 17TH ST NW, 1</td>\n",
       "      <td>38.039167</td>\n",
       "      <td>-78.500637</td>\n",
       "      <td>Venable</td>\n",
       "      <td>22903</td>\n",
       "    </tr>\n",
       "    <tr>\n",
       "      <th>2</th>\n",
       "      <td>3</td>\n",
       "      <td>Larceny - From Motor Vehicle</td>\n",
       "      <td>202500015364</td>\n",
       "      <td>CPD</td>\n",
       "      <td>Bentz, Benjamin</td>\n",
       "      <td>2025-05-07 20:36:12</td>\n",
       "      <td>Wednesday</td>\n",
       "      <td>False</td>\n",
       "      <td>Spring</td>\n",
       "      <td>Evening</td>\n",
       "      <td>9TH ST SW / ROOSEVELT BROWN BLVD</td>\n",
       "      <td>38.028847</td>\n",
       "      <td>-78.495269</td>\n",
       "      <td>Fifeville</td>\n",
       "      <td>22903</td>\n",
       "    </tr>\n",
       "    <tr>\n",
       "      <th>3</th>\n",
       "      <td>4</td>\n",
       "      <td>Assist Agency - Other</td>\n",
       "      <td>202500015363</td>\n",
       "      <td>CPD</td>\n",
       "      <td>Davis, Charles</td>\n",
       "      <td>2025-05-07 20:30:45</td>\n",
       "      <td>Wednesday</td>\n",
       "      <td>False</td>\n",
       "      <td>Spring</td>\n",
       "      <td>Evening</td>\n",
       "      <td>800 CHERRY AVE</td>\n",
       "      <td>38.028312</td>\n",
       "      <td>-78.493379</td>\n",
       "      <td>Fifeville</td>\n",
       "      <td>22903</td>\n",
       "    </tr>\n",
       "    <tr>\n",
       "      <th>4</th>\n",
       "      <td>5</td>\n",
       "      <td>Vandalism</td>\n",
       "      <td>202500015362</td>\n",
       "      <td>CPD</td>\n",
       "      <td>Rigsby, Lloyd</td>\n",
       "      <td>2025-05-07 20:11:56</td>\n",
       "      <td>Wednesday</td>\n",
       "      <td>False</td>\n",
       "      <td>Spring</td>\n",
       "      <td>Evening</td>\n",
       "      <td>ELLIEWOOD AVE / UNIVERSITY AVE</td>\n",
       "      <td>38.035312</td>\n",
       "      <td>-78.500920</td>\n",
       "      <td>Venable</td>\n",
       "      <td>22908</td>\n",
       "    </tr>\n",
       "  </tbody>\n",
       "</table>\n",
       "</div>"
      ],
      "text/plain": [
       "   RecordID                          Offense    IncidentID Agency  \\\n",
       "0         1  Assist Citizen - Mental/TDO/ECO  202500015377    CPD   \n",
       "1         2                        Vandalism  202500015375    CPD   \n",
       "2         3     Larceny - From Motor Vehicle  202500015364    CPD   \n",
       "3         4            Assist Agency - Other  202500015363    CPD   \n",
       "4         5                        Vandalism  202500015362    CPD   \n",
       "\n",
       "   ReportingOfficer                Date  DayOfWeek  Weekend  Season TimeOfDay  \\\n",
       "0     Hudson, Jesse 2025-05-07 22:15:27  Wednesday    False  Spring     Night   \n",
       "1     Bland, Johnnà 2025-05-07 21:56:47  Wednesday    False  Spring     Night   \n",
       "2  Bentz, Benjamin  2025-05-07 20:36:12  Wednesday    False  Spring   Evening   \n",
       "3    Davis, Charles 2025-05-07 20:30:45  Wednesday    False  Spring   Evening   \n",
       "4     Rigsby, Lloyd 2025-05-07 20:11:56  Wednesday    False  Spring   Evening   \n",
       "\n",
       "                          FullStreet        lat        lon neighborhood    zip  \n",
       "0                     900 EMMET ST N  38.048586 -78.502983      Venable  22903  \n",
       "1                  400 17TH ST NW, 1  38.039167 -78.500637      Venable  22903  \n",
       "2   9TH ST SW / ROOSEVELT BROWN BLVD  38.028847 -78.495269    Fifeville  22903  \n",
       "3                     800 CHERRY AVE  38.028312 -78.493379    Fifeville  22903  \n",
       "4     ELLIEWOOD AVE / UNIVERSITY AVE  38.035312 -78.500920      Venable  22908  "
      ]
     },
     "execution_count": 14,
     "metadata": {},
     "output_type": "execute_result"
    }
   ],
   "source": [
    "# Now drop the original BlockNumber and StreetName columns\n",
    "df.drop(columns=['BlockNumber', 'StreetName','HourAMPM','HourReported','DateString'], inplace=True)\n",
    "df[\"zip\"] = df[\"zip\"].astype(str)\n",
    "\n",
    "# Fill all missing values in the DataFrame with \"N/A\"\n",
    "df.replace({None: \"N/A\", np.nan: \"N/A\", \"\": \"N/A\"}, inplace=True)\n",
    "df.head()"
   ]
  },
  {
   "cell_type": "code",
   "execution_count": 15,
   "id": "32342893",
   "metadata": {
    "execution": {
     "iopub.execute_input": "2025-05-10T01:01:10.900879Z",
     "iopub.status.busy": "2025-05-10T01:01:10.900285Z",
     "iopub.status.idle": "2025-05-10T01:01:10.916355Z",
     "shell.execute_reply": "2025-05-10T01:01:10.915786Z"
    },
    "papermill": {
     "duration": 0.025294,
     "end_time": "2025-05-10T01:01:10.917406",
     "exception": false,
     "start_time": "2025-05-10T01:01:10.892112",
     "status": "completed"
    },
    "tags": []
   },
   "outputs": [
    {
     "name": "stdout",
     "output_type": "stream",
     "text": [
      "                  MissingCount  MissingPercentage\n",
      "RecordID                     0                0.0\n",
      "Offense                      0                0.0\n",
      "IncidentID                   0                0.0\n",
      "Agency                       0                0.0\n",
      "ReportingOfficer             0                0.0\n",
      "Date                         0                0.0\n",
      "DayOfWeek                    0                0.0\n",
      "Weekend                      0                0.0\n",
      "Season                       0                0.0\n",
      "TimeOfDay                    0                0.0\n",
      "FullStreet                   0                0.0\n",
      "lat                          0                0.0\n",
      "lon                          0                0.0\n",
      "neighborhood                 0                0.0\n",
      "zip                          0                0.0\n"
     ]
    }
   ],
   "source": [
    "missing_info = missing_percentage(df)\n",
    "print(missing_info)"
   ]
  },
  {
   "cell_type": "code",
   "execution_count": 16,
   "id": "48fb6c95",
   "metadata": {
    "execution": {
     "iopub.execute_input": "2025-05-10T01:01:10.933286Z",
     "iopub.status.busy": "2025-05-10T01:01:10.932894Z",
     "iopub.status.idle": "2025-05-10T01:01:10.937378Z",
     "shell.execute_reply": "2025-05-10T01:01:10.936704Z"
    },
    "papermill": {
     "duration": 0.013444,
     "end_time": "2025-05-10T01:01:10.938418",
     "exception": false,
     "start_time": "2025-05-10T01:01:10.924974",
     "status": "completed"
    },
    "tags": []
   },
   "outputs": [
    {
     "data": {
      "text/plain": [
       "Index(['RecordID', 'Offense', 'IncidentID', 'Agency', 'ReportingOfficer',\n",
       "       'Date', 'DayOfWeek', 'Weekend', 'Season', 'TimeOfDay', 'FullStreet',\n",
       "       'lat', 'lon', 'neighborhood', 'zip'],\n",
       "      dtype='object')"
      ]
     },
     "execution_count": 16,
     "metadata": {},
     "output_type": "execute_result"
    }
   ],
   "source": [
    "df.columns"
   ]
  },
  {
   "cell_type": "code",
   "execution_count": 17,
   "id": "ec22ea31",
   "metadata": {
    "execution": {
     "iopub.execute_input": "2025-05-10T01:01:10.954540Z",
     "iopub.status.busy": "2025-05-10T01:01:10.954292Z",
     "iopub.status.idle": "2025-05-10T01:01:10.970713Z",
     "shell.execute_reply": "2025-05-10T01:01:10.970153Z"
    },
    "papermill": {
     "duration": 0.025627,
     "end_time": "2025-05-10T01:01:10.971760",
     "exception": false,
     "start_time": "2025-05-10T01:01:10.946133",
     "status": "completed"
    },
    "tags": []
   },
   "outputs": [
    {
     "name": "stdout",
     "output_type": "stream",
     "text": [
      "<class 'pandas.core.frame.DataFrame'>\n",
      "RangeIndex: 25363 entries, 0 to 25362\n",
      "Data columns (total 15 columns):\n",
      " #   Column            Non-Null Count  Dtype         \n",
      "---  ------            --------------  -----         \n",
      " 0   RecordID          25363 non-null  int64         \n",
      " 1   Offense           25363 non-null  object        \n",
      " 2   IncidentID        25363 non-null  object        \n",
      " 3   Agency            25363 non-null  object        \n",
      " 4   ReportingOfficer  25363 non-null  object        \n",
      " 5   Date              25363 non-null  datetime64[ns]\n",
      " 6   DayOfWeek         25363 non-null  object        \n",
      " 7   Weekend           25363 non-null  bool          \n",
      " 8   Season            25363 non-null  object        \n",
      " 9   TimeOfDay         25363 non-null  object        \n",
      " 10  FullStreet        25363 non-null  object        \n",
      " 11  lat               25363 non-null  float64       \n",
      " 12  lon               25363 non-null  float64       \n",
      " 13  neighborhood      25363 non-null  object        \n",
      " 14  zip               25363 non-null  object        \n",
      "dtypes: bool(1), datetime64[ns](1), float64(2), int64(1), object(10)\n",
      "memory usage: 2.7+ MB\n"
     ]
    }
   ],
   "source": [
    "df.info()"
   ]
  },
  {
   "cell_type": "markdown",
   "id": "56af46b6",
   "metadata": {
    "papermill": {
     "duration": 0.00766,
     "end_time": "2025-05-10T01:01:10.987121",
     "exception": false,
     "start_time": "2025-05-10T01:01:10.979461",
     "status": "completed"
    },
    "tags": []
   },
   "source": [
    "### Export Clean Data"
   ]
  },
  {
   "cell_type": "code",
   "execution_count": 18,
   "id": "3e11101e",
   "metadata": {
    "execution": {
     "iopub.execute_input": "2025-05-10T01:01:11.003451Z",
     "iopub.status.busy": "2025-05-10T01:01:11.003251Z",
     "iopub.status.idle": "2025-05-10T01:01:20.231587Z",
     "shell.execute_reply": "2025-05-10T01:01:20.230887Z"
    },
    "papermill": {
     "duration": 9.237672,
     "end_time": "2025-05-10T01:01:20.232623",
     "exception": false,
     "start_time": "2025-05-10T01:01:10.994951",
     "status": "completed"
    },
    "tags": []
   },
   "outputs": [
    {
     "name": "stdout",
     "output_type": "stream",
     "text": [
      "Project Root: /home/runner/work/crime-data/crime-data\n"
     ]
    },
    {
     "name": "stdout",
     "output_type": "stream",
     "text": [
      "Data saved to: /home/runner/work/crime-data/crime-data/data/charlottesville_crime_incidents.csv\n"
     ]
    },
    {
     "name": "stdout",
     "output_type": "stream",
     "text": [
      "Excel saved to: /home/runner/work/crime-data/crime-data/data/charlottesville_crime_incidents.xlsx\n"
     ]
    }
   ],
   "source": [
    "# Determine the project root (assuming papermill is run from the repository root)\n",
    "project_root = os.getcwd()\n",
    "print(\"Project Root:\", project_root)\n",
    "\n",
    "# Set the data directory within the project root\n",
    "data_dir = os.path.join(project_root, \"data\")\n",
    "\n",
    "# Ensure the \"data\" directory exists (create it if it doesn't)\n",
    "if not os.path.exists(data_dir):\n",
    "    os.makedirs(data_dir)\n",
    "\n",
    "# Export the DataFrame to CSV in the \"data\" folder located in the project root\n",
    "csv_path = os.path.join(data_dir, \"charlottesville_crime_incidents.csv\")\n",
    "df.to_csv(csv_path, index=False)\n",
    "print(\"Data saved to:\", csv_path)\n",
    "\n",
    "# Construct the path to your Excel file\n",
    "excel_path = os.path.join(data_dir, \"charlottesville_crime_incidents.xlsx\")\n",
    "\n",
    "# Export the DataFrame to Excel\n",
    "df.to_excel(excel_path, index=False)\n",
    "print(\"Excel saved to:\", excel_path)\n"
   ]
  },
  {
   "cell_type": "markdown",
   "id": "cc8d7058",
   "metadata": {
    "papermill": {
     "duration": 0.007747,
     "end_time": "2025-05-10T01:01:20.248482",
     "exception": false,
     "start_time": "2025-05-10T01:01:20.240735",
     "status": "completed"
    },
    "tags": []
   },
   "source": [
    "## Predictive Analytics"
   ]
  },
  {
   "cell_type": "code",
   "execution_count": 19,
   "id": "67ad5fef",
   "metadata": {
    "execution": {
     "iopub.execute_input": "2025-05-10T01:01:20.265130Z",
     "iopub.status.busy": "2025-05-10T01:01:20.264866Z",
     "iopub.status.idle": "2025-05-10T01:01:20.276711Z",
     "shell.execute_reply": "2025-05-10T01:01:20.276169Z"
    },
    "papermill": {
     "duration": 0.021379,
     "end_time": "2025-05-10T01:01:20.277699",
     "exception": false,
     "start_time": "2025-05-10T01:01:20.256320",
     "status": "completed"
    },
    "tags": []
   },
   "outputs": [
    {
     "data": {
      "text/html": [
       "<div>\n",
       "<style scoped>\n",
       "    .dataframe tbody tr th:only-of-type {\n",
       "        vertical-align: middle;\n",
       "    }\n",
       "\n",
       "    .dataframe tbody tr th {\n",
       "        vertical-align: top;\n",
       "    }\n",
       "\n",
       "    .dataframe thead th {\n",
       "        text-align: right;\n",
       "    }\n",
       "</style>\n",
       "<table border=\"1\" class=\"dataframe\">\n",
       "  <thead>\n",
       "    <tr style=\"text-align: right;\">\n",
       "      <th></th>\n",
       "      <th>RecordID</th>\n",
       "      <th>Offense</th>\n",
       "      <th>IncidentID</th>\n",
       "      <th>Agency</th>\n",
       "      <th>ReportingOfficer</th>\n",
       "      <th>Date</th>\n",
       "      <th>DayOfWeek</th>\n",
       "      <th>Weekend</th>\n",
       "      <th>Season</th>\n",
       "      <th>TimeOfDay</th>\n",
       "      <th>FullStreet</th>\n",
       "      <th>lat</th>\n",
       "      <th>lon</th>\n",
       "      <th>neighborhood</th>\n",
       "      <th>zip</th>\n",
       "    </tr>\n",
       "  </thead>\n",
       "  <tbody>\n",
       "    <tr>\n",
       "      <th>0</th>\n",
       "      <td>1</td>\n",
       "      <td>Assist Citizen - Mental/TDO/ECO</td>\n",
       "      <td>202500015377</td>\n",
       "      <td>CPD</td>\n",
       "      <td>Hudson, Jesse</td>\n",
       "      <td>2025-05-07 22:15:27</td>\n",
       "      <td>Wednesday</td>\n",
       "      <td>False</td>\n",
       "      <td>Spring</td>\n",
       "      <td>Night</td>\n",
       "      <td>900 EMMET ST N</td>\n",
       "      <td>38.048586</td>\n",
       "      <td>-78.502983</td>\n",
       "      <td>Venable</td>\n",
       "      <td>22903</td>\n",
       "    </tr>\n",
       "    <tr>\n",
       "      <th>1</th>\n",
       "      <td>2</td>\n",
       "      <td>Vandalism</td>\n",
       "      <td>202500015375</td>\n",
       "      <td>CPD</td>\n",
       "      <td>Bland, Johnnà</td>\n",
       "      <td>2025-05-07 21:56:47</td>\n",
       "      <td>Wednesday</td>\n",
       "      <td>False</td>\n",
       "      <td>Spring</td>\n",
       "      <td>Night</td>\n",
       "      <td>400 17TH ST NW, 1</td>\n",
       "      <td>38.039167</td>\n",
       "      <td>-78.500637</td>\n",
       "      <td>Venable</td>\n",
       "      <td>22903</td>\n",
       "    </tr>\n",
       "    <tr>\n",
       "      <th>2</th>\n",
       "      <td>3</td>\n",
       "      <td>Larceny - From Motor Vehicle</td>\n",
       "      <td>202500015364</td>\n",
       "      <td>CPD</td>\n",
       "      <td>Bentz, Benjamin</td>\n",
       "      <td>2025-05-07 20:36:12</td>\n",
       "      <td>Wednesday</td>\n",
       "      <td>False</td>\n",
       "      <td>Spring</td>\n",
       "      <td>Evening</td>\n",
       "      <td>9TH ST SW / ROOSEVELT BROWN BLVD</td>\n",
       "      <td>38.028847</td>\n",
       "      <td>-78.495269</td>\n",
       "      <td>Fifeville</td>\n",
       "      <td>22903</td>\n",
       "    </tr>\n",
       "    <tr>\n",
       "      <th>3</th>\n",
       "      <td>4</td>\n",
       "      <td>Assist Agency - Other</td>\n",
       "      <td>202500015363</td>\n",
       "      <td>CPD</td>\n",
       "      <td>Davis, Charles</td>\n",
       "      <td>2025-05-07 20:30:45</td>\n",
       "      <td>Wednesday</td>\n",
       "      <td>False</td>\n",
       "      <td>Spring</td>\n",
       "      <td>Evening</td>\n",
       "      <td>800 CHERRY AVE</td>\n",
       "      <td>38.028312</td>\n",
       "      <td>-78.493379</td>\n",
       "      <td>Fifeville</td>\n",
       "      <td>22903</td>\n",
       "    </tr>\n",
       "    <tr>\n",
       "      <th>4</th>\n",
       "      <td>5</td>\n",
       "      <td>Vandalism</td>\n",
       "      <td>202500015362</td>\n",
       "      <td>CPD</td>\n",
       "      <td>Rigsby, Lloyd</td>\n",
       "      <td>2025-05-07 20:11:56</td>\n",
       "      <td>Wednesday</td>\n",
       "      <td>False</td>\n",
       "      <td>Spring</td>\n",
       "      <td>Evening</td>\n",
       "      <td>ELLIEWOOD AVE / UNIVERSITY AVE</td>\n",
       "      <td>38.035312</td>\n",
       "      <td>-78.500920</td>\n",
       "      <td>Venable</td>\n",
       "      <td>22908</td>\n",
       "    </tr>\n",
       "  </tbody>\n",
       "</table>\n",
       "</div>"
      ],
      "text/plain": [
       "   RecordID                          Offense    IncidentID Agency  \\\n",
       "0         1  Assist Citizen - Mental/TDO/ECO  202500015377    CPD   \n",
       "1         2                        Vandalism  202500015375    CPD   \n",
       "2         3     Larceny - From Motor Vehicle  202500015364    CPD   \n",
       "3         4            Assist Agency - Other  202500015363    CPD   \n",
       "4         5                        Vandalism  202500015362    CPD   \n",
       "\n",
       "   ReportingOfficer                Date  DayOfWeek  Weekend  Season TimeOfDay  \\\n",
       "0     Hudson, Jesse 2025-05-07 22:15:27  Wednesday    False  Spring     Night   \n",
       "1     Bland, Johnnà 2025-05-07 21:56:47  Wednesday    False  Spring     Night   \n",
       "2  Bentz, Benjamin  2025-05-07 20:36:12  Wednesday    False  Spring   Evening   \n",
       "3    Davis, Charles 2025-05-07 20:30:45  Wednesday    False  Spring   Evening   \n",
       "4     Rigsby, Lloyd 2025-05-07 20:11:56  Wednesday    False  Spring   Evening   \n",
       "\n",
       "                          FullStreet        lat        lon neighborhood    zip  \n",
       "0                     900 EMMET ST N  38.048586 -78.502983      Venable  22903  \n",
       "1                  400 17TH ST NW, 1  38.039167 -78.500637      Venable  22903  \n",
       "2   9TH ST SW / ROOSEVELT BROWN BLVD  38.028847 -78.495269    Fifeville  22903  \n",
       "3                     800 CHERRY AVE  38.028312 -78.493379    Fifeville  22903  \n",
       "4     ELLIEWOOD AVE / UNIVERSITY AVE  38.035312 -78.500920      Venable  22908  "
      ]
     },
     "execution_count": 19,
     "metadata": {},
     "output_type": "execute_result"
    }
   ],
   "source": [
    "df.head()"
   ]
  },
  {
   "cell_type": "code",
   "execution_count": 20,
   "id": "09006adc",
   "metadata": {
    "execution": {
     "iopub.execute_input": "2025-05-10T01:01:20.294839Z",
     "iopub.status.busy": "2025-05-10T01:01:20.294589Z",
     "iopub.status.idle": "2025-05-10T01:01:20.299115Z",
     "shell.execute_reply": "2025-05-10T01:01:20.298459Z"
    },
    "papermill": {
     "duration": 0.014351,
     "end_time": "2025-05-10T01:01:20.300216",
     "exception": false,
     "start_time": "2025-05-10T01:01:20.285865",
     "status": "completed"
    },
    "tags": []
   },
   "outputs": [
    {
     "data": {
      "text/plain": [
       "Index(['RecordID', 'Offense', 'IncidentID', 'Agency', 'ReportingOfficer',\n",
       "       'Date', 'DayOfWeek', 'Weekend', 'Season', 'TimeOfDay', 'FullStreet',\n",
       "       'lat', 'lon', 'neighborhood', 'zip'],\n",
       "      dtype='object')"
      ]
     },
     "execution_count": 20,
     "metadata": {},
     "output_type": "execute_result"
    }
   ],
   "source": [
    "df.columns"
   ]
  },
  {
   "cell_type": "markdown",
   "id": "ea9bc8ff",
   "metadata": {
    "papermill": {
     "duration": 0.008007,
     "end_time": "2025-05-10T01:01:20.316333",
     "exception": false,
     "start_time": "2025-05-10T01:01:20.308326",
     "status": "completed"
    },
    "tags": []
   },
   "source": [
    "### Data Preparation\n",
    "\n",
    "We need to ensure the data is in the correct format for modeling and can handle missing values, categorical variables, and dates. Here's how to prepare your data:"
   ]
  },
  {
   "cell_type": "code",
   "execution_count": 21,
   "id": "3d9bc7f3",
   "metadata": {
    "execution": {
     "iopub.execute_input": "2025-05-10T01:01:20.334719Z",
     "iopub.status.busy": "2025-05-10T01:01:20.334254Z",
     "iopub.status.idle": "2025-05-10T01:01:21.868013Z",
     "shell.execute_reply": "2025-05-10T01:01:21.867233Z"
    },
    "papermill": {
     "duration": 1.545039,
     "end_time": "2025-05-10T01:01:21.869479",
     "exception": false,
     "start_time": "2025-05-10T01:01:20.324440",
     "status": "completed"
    },
    "tags": []
   },
   "outputs": [],
   "source": [
    "import pandas as pd\n",
    "from sklearn.model_selection import train_test_split\n",
    "from sklearn.preprocessing import OneHotEncoder, LabelEncoder\n",
    "from sklearn.ensemble import RandomForestClassifier\n",
    "from sklearn.linear_model import LogisticRegression\n",
    "from sklearn.tree import DecisionTreeClassifier\n",
    "from sklearn.metrics import classification_report, accuracy_score\n",
    "import seaborn as sns\n",
    "import matplotlib.pyplot as plt\n",
    "\n",
    "# Convert 'Date' to datetime\n",
    "df['Date'] = pd.to_datetime(df['Date'])\n",
    "\n",
    "# Feature engineering: Extract additional time-based features\n",
    "df['Year'] = df['Date'].dt.year\n",
    "df['Month'] = df['Date'].dt.month\n",
    "df['DayOfMonth'] = df['Date'].dt.day\n",
    "\n",
    "# One-hot encoding for 'FullStreet', 'neighborhood', 'zip'\n",
    "df = pd.get_dummies(df, columns=['FullStreet', 'neighborhood', 'zip'], drop_first=True)\n",
    "\n",
    "# Label encoding for ordered variables (those with a natural order like 'DayOfWeek', 'Season', 'TimeOfDay')\n",
    "label_encoders = {}\n",
    "for column in ['DayOfWeek', 'Season', 'TimeOfDay', 'Agency', 'ReportingOfficer']:  # Example ordinal variables\n",
    "    le = LabelEncoder()\n",
    "    df[column] = le.fit_transform(df[column])\n",
    "    label_encoders[column] = le\n",
    "\n",
    "# Filter the dataset to include only the offenses of interest\n",
    "offenses_of_interest = [\n",
    "    'Hit and Run', 'Assault Simple', 'Suspicious Activity', 'Vandalism', \n",
    "    'Larceny - From Mot Vehicle', 'Larceny - All Other', \n",
    "    'Assist Citizen - Mental/TDO/ECO', 'Lost/FoundProperty'\n",
    "]\n",
    "\n",
    "df = df[df['Offense'].isin(offenses_of_interest)]\n",
    "\n",
    "# Label encode the target variable (Offense)\n",
    "offense_encoder = LabelEncoder()\n",
    "df['Offense'] = offense_encoder.fit_transform(df['Offense'])\n",
    "\n",
    "# Separate features (X) and target (y)\n",
    "X = df[['Year', 'Month', 'DayOfMonth', 'DayOfWeek', 'Weekend', 'Season', 'TimeOfDay', 'lat', 'lon', 'Agency', 'ReportingOfficer']]\n",
    "y = df['Offense']  # Offense is now the encoded target variable\n",
    "\n",
    "# Split the data into training and testing sets\n",
    "X_train, X_test, y_train, y_test = train_test_split(X, y, test_size=0.3, random_state=42)\n"
   ]
  },
  {
   "cell_type": "markdown",
   "id": "a58266dd",
   "metadata": {
    "papermill": {
     "duration": 0.00808,
     "end_time": "2025-05-10T01:01:21.886105",
     "exception": false,
     "start_time": "2025-05-10T01:01:21.878025",
     "status": "completed"
    },
    "tags": []
   },
   "source": [
    "### Model Training\n",
    "\n",
    "Here we will train several models (e.g., Random Forest, Logistic Regression, and Decision Tree). We will use cross-validation to choose the best model based on accuracy, and then explain the impact of the variables."
   ]
  },
  {
   "cell_type": "code",
   "execution_count": 22,
   "id": "4d5cdc93",
   "metadata": {
    "execution": {
     "iopub.execute_input": "2025-05-10T01:01:21.903317Z",
     "iopub.status.busy": "2025-05-10T01:01:21.902923Z",
     "iopub.status.idle": "2025-05-10T01:01:25.393938Z",
     "shell.execute_reply": "2025-05-10T01:01:25.393371Z"
    },
    "papermill": {
     "duration": 3.500874,
     "end_time": "2025-05-10T01:01:25.395008",
     "exception": false,
     "start_time": "2025-05-10T01:01:21.894134",
     "status": "completed"
    },
    "tags": []
   },
   "outputs": [
    {
     "name": "stderr",
     "output_type": "stream",
     "text": [
      "/opt/hostedtoolcache/Python/3.9.22/x64/lib/python3.9/site-packages/sklearn/linear_model/_logistic.py:465: ConvergenceWarning: lbfgs failed to converge (status=1):\n",
      "STOP: TOTAL NO. of ITERATIONS REACHED LIMIT.\n",
      "\n",
      "Increase the number of iterations (max_iter) or scale the data as shown in:\n",
      "    https://scikit-learn.org/stable/modules/preprocessing.html\n",
      "Please also refer to the documentation for alternative solver options:\n",
      "    https://scikit-learn.org/stable/modules/linear_model.html#logistic-regression\n",
      "  n_iter_i = _check_optimize_result(\n",
      "/opt/hostedtoolcache/Python/3.9.22/x64/lib/python3.9/site-packages/sklearn/metrics/_classification.py:1565: UndefinedMetricWarning: Precision is ill-defined and being set to 0.0 in labels with no predicted samples. Use `zero_division` parameter to control this behavior.\n",
      "  _warn_prf(average, modifier, f\"{metric.capitalize()} is\", len(result))\n",
      "/opt/hostedtoolcache/Python/3.9.22/x64/lib/python3.9/site-packages/sklearn/metrics/_classification.py:1565: UndefinedMetricWarning: Precision is ill-defined and being set to 0.0 in labels with no predicted samples. Use `zero_division` parameter to control this behavior.\n",
      "  _warn_prf(average, modifier, f\"{metric.capitalize()} is\", len(result))\n",
      "/opt/hostedtoolcache/Python/3.9.22/x64/lib/python3.9/site-packages/sklearn/metrics/_classification.py:1565: UndefinedMetricWarning: Precision is ill-defined and being set to 0.0 in labels with no predicted samples. Use `zero_division` parameter to control this behavior.\n",
      "  _warn_prf(average, modifier, f\"{metric.capitalize()} is\", len(result))\n"
     ]
    },
    {
     "name": "stdout",
     "output_type": "stream",
     "text": [
      "\n",
      "Classification Report for All Models:\n",
      "\n",
      "Model: RandomForest\n",
      "Accuracy: 0.2856\n",
      "              precision    recall  f1-score      support\n",
      "0              0.282158  0.349914  0.312404   583.000000\n",
      "1              0.294118  0.214286  0.247934   420.000000\n",
      "2              0.307377  0.440529  0.362100   681.000000\n",
      "3              0.213429  0.200903  0.206977   443.000000\n",
      "4              0.345679  0.247059  0.288165   340.000000\n",
      "5              0.265882  0.210428  0.234927   537.000000\n",
      "6              0.292308  0.239496  0.263279   476.000000\n",
      "accuracy       0.285632  0.285632  0.285632     0.285632\n",
      "macro avg      0.285850  0.271802  0.273684  3480.000000\n",
      "weighted avg   0.284870  0.285632  0.279884  3480.000000\n"
     ]
    },
    {
     "data": {
      "image/png": "[encoded data removed]",
      "text/plain": [
       "<Figure size 800x600 with 2 Axes>"
      ]
     },
     "metadata": {},
     "output_type": "display_data"
    },
    {
     "name": "stdout",
     "output_type": "stream",
     "text": [
      "\n",
      "Model: LogisticRegression\n",
      "Accuracy: 0.2029\n",
      "              precision    recall  f1-score      support\n",
      "0              0.192739  0.500858  0.278360   583.000000\n",
      "1              0.000000  0.000000  0.000000   420.000000\n",
      "2              0.209968  0.581498  0.308531   681.000000\n",
      "3              0.000000  0.000000  0.000000   443.000000\n",
      "4              0.000000  0.000000  0.000000   340.000000\n",
      "5              0.000000  0.000000  0.000000   537.000000\n",
      "6              0.227848  0.037815  0.064865   476.000000\n",
      "accuracy       0.202874  0.202874  0.202874     0.202874\n",
      "macro avg      0.090079  0.160024  0.093108  3480.000000\n",
      "weighted avg   0.104543  0.202874  0.115882  3480.000000\n"
     ]
    },
    {
     "data": {
      "image/png": "[encoded data removed]",
      "text/plain": [
       "<Figure size 800x600 with 2 Axes>"
      ]
     },
     "metadata": {},
     "output_type": "display_data"
    },
    {
     "name": "stdout",
     "output_type": "stream",
     "text": [
      "\n",
      "Model: DecisionTree\n",
      "Accuracy: 0.2339\n",
      "              precision    recall  f1-score      support\n",
      "0              0.235772  0.248714  0.242070   583.000000\n",
      "1              0.236659  0.242857  0.239718   420.000000\n",
      "2              0.290679  0.270191  0.280061   681.000000\n",
      "3              0.183158  0.196388  0.189542   443.000000\n",
      "4              0.234421  0.232353  0.233383   340.000000\n",
      "5              0.211896  0.212291  0.212093   537.000000\n",
      "6              0.228381  0.216387  0.222222   476.000000\n",
      "accuracy       0.233908  0.233908  0.233908     0.233908\n",
      "macro avg      0.231567  0.231311  0.231298  3480.000000\n",
      "weighted avg   0.235099  0.233908  0.234345  3480.000000\n"
     ]
    },
    {
     "data": {
      "image/png": "[encoded data removed]",
      "text/plain": [
       "<Figure size 800x600 with 2 Axes>"
      ]
     },
     "metadata": {},
     "output_type": "display_data"
    },
    {
     "name": "stdout",
     "output_type": "stream",
     "text": [
      "\n",
      "Best Model:\n",
      "Best Model: RandomForestClassifier()\n",
      "Best Model Accuracy: 0.2856\n"
     ]
    }
   ],
   "source": [
    "import pandas as pd\n",
    "from sklearn.model_selection import train_test_split\n",
    "from sklearn.ensemble import RandomForestClassifier\n",
    "from sklearn.linear_model import LogisticRegression\n",
    "from sklearn.tree import DecisionTreeClassifier\n",
    "from sklearn.metrics import classification_report, accuracy_score, confusion_matrix\n",
    "import seaborn as sns\n",
    "import matplotlib.pyplot as plt\n",
    "\n",
    "# Define models\n",
    "models = {\n",
    "    'RandomForest': RandomForestClassifier(),\n",
    "    'LogisticRegression': LogisticRegression(max_iter=1000),\n",
    "    'DecisionTree': DecisionTreeClassifier()\n",
    "}\n",
    "\n",
    "# Train models and evaluate them\n",
    "best_model = None\n",
    "best_score = 0\n",
    "model_reports = {}\n",
    "\n",
    "for model_name, model in models.items():\n",
    "    model.fit(X_train, y_train)  # Train model\n",
    "    y_pred = model.predict(X_test)  # Make predictions\n",
    "    \n",
    "    # Calculate accuracy and generate classification report\n",
    "    accuracy = accuracy_score(y_test, y_pred)\n",
    "    model_reports[model_name] = classification_report(y_test, y_pred, output_dict=True)  # Store as a dictionary for easier analysis\n",
    "    \n",
    "    # Track best performing model\n",
    "    if accuracy > best_score:\n",
    "        best_score = accuracy\n",
    "        best_model = model\n",
    "\n",
    "# Display classification reports and confusion matrices\n",
    "print(\"\\nClassification Report for All Models:\")\n",
    "for model_name, report in model_reports.items():\n",
    "    print(f\"\\nModel: {model_name}\")\n",
    "    print(\"Accuracy: {:.4f}\".format(accuracy_score(y_test, models[model_name].predict(X_test))))  # Display accuracy\n",
    "    print(pd.DataFrame(report).transpose())  # Display classification report as a DataFrame\n",
    "\n",
    "    # Plot Confusion Matrix\n",
    "    cm = confusion_matrix(y_test, models[model_name].predict(X_test))\n",
    "    plt.figure(figsize=(8, 6))\n",
    "    sns.heatmap(cm, annot=True, fmt=\"d\", cmap='Blues', xticklabels=offense_encoder.classes_, yticklabels=offense_encoder.classes_)\n",
    "    plt.title(f\"Confusion Matrix - {model_name}\")\n",
    "    plt.xlabel('Predicted Labels')\n",
    "    plt.ylabel('True Labels')\n",
    "    plt.show()\n",
    "\n",
    "# Display best model details\n",
    "print(\"\\nBest Model:\")\n",
    "print(f\"Best Model: {best_model}\")\n",
    "print(f\"Best Model Accuracy: {best_score:.4f}\")\n"
   ]
  },
  {
   "cell_type": "markdown",
   "id": "4630a952",
   "metadata": {
    "papermill": {
     "duration": 0.010747,
     "end_time": "2025-05-10T01:01:25.417290",
     "exception": false,
     "start_time": "2025-05-10T01:01:25.406543",
     "status": "completed"
    },
    "tags": []
   },
   "source": [
    "#### Classification Report for All Models:\n",
    "\n",
    "### Explanation of the Classification Results (RandomForest Model)\n",
    "\n",
    "The results you provided are from a **Random Forest** model, which is used for predicting different types of offenses. Let's break down the key components of the results:\n",
    "\n",
    "#### 1. **Accuracy: 0.2822**\n",
    "   - **Accuracy** measures the overall percentage of correct predictions made by the model. An accuracy of 28.22% means the model correctly predicted the offense in about 28% of the cases. This indicates the model's predictions are not highly reliable, as the accuracy is quite low.\n",
    "\n",
    "#### 2. **Classification Report:**\n",
    "   The classification report includes precision, recall, and F1-score for each offense. Let's go over these terms and how they apply to the results:\n",
    "\n",
    "   - **Precision**: The proportion of true positive predictions out of all positive predictions made by the model for a specific class (offense).\n",
    "   - **Recall**: The proportion of true positive predictions out of all actual positive instances in the dataset.\n",
    "   - **F1-Score**: The harmonic mean of precision and recall, providing a balance between the two metrics.\n",
    "   - **Support**: The number of actual occurrences of each class in the test set.\n",
    "\n",
    "   Let's analyze each offense based on these metrics:\n",
    "\n",
    "   | **Offense**                        | **Precision** | **Recall** | **F1-Score** | **Support** |\n",
    "   |------------------------------------|---------------|------------|--------------|-------------|\n",
    "   | **Assault Simple**                 | 0.2892        | 0.3754     | 0.3267       | 594         |\n",
    "   | **Assist Citizen - Mental/TDO/ECO**| 0.3182        | 0.2274     | 0.2652       | 431         |\n",
    "   | **Hit and Run**                    | 0.2963        | 0.4765     | 0.3654       | 638         |\n",
    "   | **Larceny - All Other**            | 0.2270        | 0.1453     | 0.1772       | 475         |\n",
    "   | **Lost/FoundProperty**             | 0.3333        | 0.2102     | 0.2578       | 352         |\n",
    "   | **Suspicious Activity**            | 0.2344        | 0.2169     | 0.2253       | 484         |\n",
    "   | **Vandalism**                      | 0.2712        | 0.2106     | 0.2371       | 470         |\n",
    "\n",
    "#### 3. **Key Insights from the Report:**\n",
    "\n",
    "- **Precision**:\n",
    "   - The highest precision is for **Larceny - All Other** (0.3333), indicating that when the model predicts this offense, it is correct about 33% of the time. However, this is still quite low.\n",
    "   - **Assist Citizen - Mental/TDO/ECO** has the lowest precision (0.2269), meaning that the model's predictions for this offense tend to be wrong more often than correct.\n",
    "\n",
    "- **Recall**:\n",
    "   - **Hit and Run** has the highest recall (0.4765), meaning the model identifies about 48% of the actual occurrences of this offense. This is better than the precision, which indicates it is missing many true positives but is still able to identify a fair number of cases.\n",
    "   - **Larceny - All Other** and **Suspicious Activity** have the lowest recall values (0.1453 and 0.2169, respectively), indicating that the model is failing to identify most of the actual cases for these offenses.\n",
    "\n",
    "- **F1-Score**:\n",
    "   - The **F1-Score** balances precision and recall. It is highest for **Hit and Run** (0.3654), but still relatively low overall. This suggests the model is better at identifying **Hit and Run** than other offenses but still has room for improvement.\n",
    "   - **Larceny - All Other** has the lowest F1-Score (0.1772), indicating a poor balance between precision and recall for this offense.\n",
    "\n",
    "#### 4. **Macro Average and Weighted Average:**\n",
    "   - **Macro Average**: This gives the average precision, recall, and F1-Score across all classes (offenses) without considering the class distribution. It averages the results for all offenses equally.\n",
    "     - Precision: 0.2814\n",
    "     - Recall: 0.2661\n",
    "     - F1-Score: 0.2649\n",
    "   - **Weighted Average**: This averages the metrics but weighs each class by its support (the number of true instances in the test set). This gives a better sense of overall performance, considering the class distribution.\n",
    "     - Precision: 0.2799\n",
    "     - Recall: 0.2822\n",
    "     - F1-Score: 0.2720\n",
    "\n",
    "#### 5. **Confusion Matrix (Visualization Analysis)**:\n",
    "   - The confusion matrix shows the distribution of true positive, false positive, true negative, and false negative predictions for each class.\n",
    "     - For **Hit and Run**, the model performs relatively well in identifying this offense (304 true positives). However, it also misclassifies some **Hit and Run** instances as other offenses (e.g., **Assault Simple**, **Suspicious Activity**, etc.).\n",
    "     - **Larceny - All Other** is frequently misclassified as **Hit and Run**, **Suspicious Activity**, and others. This is evident from the large number of off-diagonal elements in its row.\n",
    "     - **Assist Citizen - Mental/TDO/ECO** and **Suspicious Activity** are frequently misclassified, as seen by the off-diagonal values in their rows.\n",
    "\n",
    "### Conclusion:\n",
    "The Random Forest model has low accuracy (28.22%), suggesting that it struggles to predict most offenses accurately. Some offenses like **Hit and Run** are better predicted than others, but overall, the model shows a high level of misclassification across all offenses. There may be a need for further tuning of the model, additional feature engineering, or trying different models for better performance.\n",
    "\n",
    "Let me know if you'd like to improve the model or make adjustments based on these results!\n",
    "\n"
   ]
  },
  {
   "cell_type": "markdown",
   "id": "ad5315f6",
   "metadata": {
    "papermill": {
     "duration": 0.010661,
     "end_time": "2025-05-10T01:01:25.438655",
     "exception": false,
     "start_time": "2025-05-10T01:01:25.427994",
     "status": "completed"
    },
    "tags": []
   },
   "source": [
    "### Model Explanation\n",
    "\n",
    "Once we’ve chosen the best model, we will explain its predictions by examining feature importance for tree-based models and using statistical methods like logistic regression coefficients for linear models."
   ]
  },
  {
   "cell_type": "markdown",
   "id": "fdd16970",
   "metadata": {
    "papermill": {
     "duration": 0.010682,
     "end_time": "2025-05-10T01:01:25.460054",
     "exception": false,
     "start_time": "2025-05-10T01:01:25.449372",
     "status": "completed"
    },
    "tags": []
   },
   "source": [
    "#### Feature Importance for Random Forest / Decision Tree\n",
    "\n",
    "##### For Tree-based Models (Random Forest, Decision Tree)\n",
    "\n",
    "For Random Forest or Decision Tree, we can look at feature importance to understand which variables contribute the most to the model's predictions. Here's how you can visualize and interpret the importance of each feature:"
   ]
  },
  {
   "cell_type": "code",
   "execution_count": 23,
   "id": "ea057112",
   "metadata": {
    "execution": {
     "iopub.execute_input": "2025-05-10T01:01:25.482730Z",
     "iopub.status.busy": "2025-05-10T01:01:25.482231Z",
     "iopub.status.idle": "2025-05-10T01:01:25.646977Z",
     "shell.execute_reply": "2025-05-10T01:01:25.646299Z"
    },
    "papermill": {
     "duration": 0.17718,
     "end_time": "2025-05-10T01:01:25.648046",
     "exception": false,
     "start_time": "2025-05-10T01:01:25.470866",
     "status": "completed"
    },
    "tags": []
   },
   "outputs": [
    {
     "data": {
      "image/png": "[encoded data removed]",
      "text/plain": [
       "<Figure size 1000x600 with 1 Axes>"
      ]
     },
     "metadata": {},
     "output_type": "display_data"
    }
   ],
   "source": [
    "# For RandomForest or DecisionTree models, we can check feature importance\n",
    "if isinstance(best_model, RandomForestClassifier) or isinstance(best_model, DecisionTreeClassifier):\n",
    "    feature_importance = best_model.feature_importances_\n",
    "    feature_names = X.columns\n",
    "    importance_df = pd.DataFrame({'Feature': feature_names, 'Importance': feature_importance})\n",
    "    importance_df = importance_df.sort_values(by='Importance', ascending=False)\n",
    "    \n",
    "    # Plotting the feature importances\n",
    "    plt.figure(figsize=(10, 6))\n",
    "    sns.barplot(x='Importance', y='Feature', data=importance_df)\n",
    "    plt.title(\"Feature Importance\")\n",
    "    plt.show()\n"
   ]
  },
  {
   "cell_type": "code",
   "execution_count": null,
   "id": "6e3366bd",
   "metadata": {
    "papermill": {
     "duration": 0.01114,
     "end_time": "2025-05-10T01:01:25.670883",
     "exception": false,
     "start_time": "2025-05-10T01:01:25.659743",
     "status": "completed"
    },
    "tags": []
   },
   "outputs": [],
   "source": []
  },
  {
   "cell_type": "markdown",
   "id": "a2f773f2",
   "metadata": {
    "papermill": {
     "duration": 0.011045,
     "end_time": "2025-05-10T01:01:25.693016",
     "exception": false,
     "start_time": "2025-05-10T01:01:25.681971",
     "status": "completed"
    },
    "tags": []
   },
   "source": [
    "### Evaluation\n",
    "\n",
    "After training the models and examining their performance, we evaluate the chosen model based on metrics like accuracy, precision, recall, and F1 score.\n",
    "\n"
   ]
  },
  {
   "cell_type": "code",
   "execution_count": 24,
   "id": "d34bdf28",
   "metadata": {
    "execution": {
     "iopub.execute_input": "2025-05-10T01:01:25.716173Z",
     "iopub.status.busy": "2025-05-10T01:01:25.715897Z",
     "iopub.status.idle": "2025-05-10T01:01:25.804864Z",
     "shell.execute_reply": "2025-05-10T01:01:25.804241Z"
    },
    "papermill": {
     "duration": 0.101748,
     "end_time": "2025-05-10T01:01:25.805940",
     "exception": false,
     "start_time": "2025-05-10T01:01:25.704192",
     "status": "completed"
    },
    "tags": []
   },
   "outputs": [
    {
     "name": "stdout",
     "output_type": "stream",
     "text": [
      "Accuracy: 0.2856\n",
      "Classification Report:\n",
      "              precision    recall  f1-score   support\n",
      "\n",
      "           0       0.28      0.35      0.31       583\n",
      "           1       0.29      0.21      0.25       420\n",
      "           2       0.31      0.44      0.36       681\n",
      "           3       0.21      0.20      0.21       443\n",
      "           4       0.35      0.25      0.29       340\n",
      "           5       0.27      0.21      0.23       537\n",
      "           6       0.29      0.24      0.26       476\n",
      "\n",
      "    accuracy                           0.29      3480\n",
      "   macro avg       0.29      0.27      0.27      3480\n",
      "weighted avg       0.28      0.29      0.28      3480\n",
      "\n",
      "Confusion Matrix:\n",
      "[[204  63 135  52  22  68  39]\n",
      " [105  90  93  31  19  46  36]\n",
      " [118  43 300  70  28  66  56]\n",
      " [ 68  23 139  89  26  46  52]\n",
      " [ 38  21  71  57  84  29  40]\n",
      " [115  31 128  63  34 113  53]\n",
      " [ 75  35 110  55  30  57 114]]\n",
      "Precision: 0.2849\n",
      "Recall: 0.2856\n",
      "F1 Score: 0.2799\n"
     ]
    }
   ],
   "source": [
    "from sklearn.metrics import classification_report, confusion_matrix, accuracy_score, precision_score, recall_score, f1_score\n",
    "\n",
    "# Predict on the test set\n",
    "y_pred = best_model.predict(X_test)\n",
    "\n",
    "# Calculate Accuracy\n",
    "accuracy = accuracy_score(y_test, y_pred)\n",
    "print(f\"Accuracy: {accuracy:.4f}\")\n",
    "\n",
    "# Classification Report\n",
    "print(\"Classification Report:\")\n",
    "print(classification_report(y_test, y_pred))\n",
    "\n",
    "# Confusion Matrix\n",
    "conf_matrix = confusion_matrix(y_test, y_pred)\n",
    "print(\"Confusion Matrix:\")\n",
    "print(conf_matrix)\n",
    "\n",
    "# Precision, Recall, F1 Score for each class (Offense Type)\n",
    "precision = precision_score(y_test, y_pred, average='weighted')\n",
    "recall = recall_score(y_test, y_pred, average='weighted')\n",
    "f1 = f1_score(y_test, y_pred, average='weighted')\n",
    "\n",
    "print(f\"Precision: {precision:.4f}\")\n",
    "print(f\"Recall: {recall:.4f}\")\n",
    "print(f\"F1 Score: {f1:.4f}\")\n"
   ]
  },
  {
   "cell_type": "markdown",
   "id": "909b3b45",
   "metadata": {
    "papermill": {
     "duration": 0.011431,
     "end_time": "2025-05-10T01:01:25.829482",
     "exception": false,
     "start_time": "2025-05-10T01:01:25.818051",
     "status": "completed"
    },
    "tags": []
   },
   "source": [
    "#### For Logistic Regression (Coefficient Interpretation)\n",
    "\n",
    "For Logistic Regression, the model coefficients can help us understand how each feature affects the likelihood of an offense happening. A positive coefficient indicates a feature increases the likelihood of the offense, and a negative coefficient indicates the opposite."
   ]
  },
  {
   "cell_type": "code",
   "execution_count": 25,
   "id": "760ece79",
   "metadata": {
    "execution": {
     "iopub.execute_input": "2025-05-10T01:01:25.853047Z",
     "iopub.status.busy": "2025-05-10T01:01:25.852814Z",
     "iopub.status.idle": "2025-05-10T01:01:25.857470Z",
     "shell.execute_reply": "2025-05-10T01:01:25.856880Z"
    },
    "papermill": {
     "duration": 0.017688,
     "end_time": "2025-05-10T01:01:25.858478",
     "exception": false,
     "start_time": "2025-05-10T01:01:25.840790",
     "status": "completed"
    },
    "tags": []
   },
   "outputs": [],
   "source": [
    "if isinstance(best_model, LogisticRegression):\n",
    "    # Logistic regression coefficients\n",
    "    coef_df = pd.DataFrame({\n",
    "        'Feature': X.columns,\n",
    "        'Coefficient': best_model.coef_[0]\n",
    "    })\n",
    "    coef_df['AbsCoefficient'] = coef_df['Coefficient'].abs()\n",
    "    coef_df = coef_df.sort_values(by='AbsCoefficient', ascending=False)\n",
    "    \n",
    "    # Plotting the coefficients\n",
    "    plt.figure(figsize=(10, 6))\n",
    "    sns.barplot(x='AbsCoefficient', y='Feature', data=coef_df)\n",
    "    plt.title(\"Logistic Regression Coefficients Impact\")\n",
    "    plt.show()\n",
    "\n",
    "    # Print the top 5 most impactful features (by absolute coefficient value)\n",
    "    print(\"Top 5 most impactful features based on coefficients:\")\n",
    "    print(coef_df.head())\n"
   ]
  },
  {
   "cell_type": "markdown",
   "id": "3e0b45cf",
   "metadata": {
    "papermill": {
     "duration": 0.011194,
     "end_time": "2025-05-10T01:01:25.881049",
     "exception": false,
     "start_time": "2025-05-10T01:01:25.869855",
     "status": "completed"
    },
    "tags": []
   },
   "source": [
    "Explanation of Output:\n",
    "\n",
    "Feature Importance (Random Forest/Decision Tree): The bar plot will show how important each feature is in the decision-making process. Features at the top of the list are the most influential in predicting the occurrence of offenses.\n",
    "\n",
    "Logistic Regression Coefficients: The bar plot will show the magnitude of the coefficients for each feature. Features with larger absolute values (either positive or negative) have a stronger impact on the model’s predictions. Positive coefficients increase the probability of an offense, while negative coefficients decrease it."
   ]
  },
  {
   "cell_type": "markdown",
   "id": "0f3c02b1",
   "metadata": {
    "papermill": {
     "duration": 0.011158,
     "end_time": "2025-05-10T01:01:25.903433",
     "exception": false,
     "start_time": "2025-05-10T01:01:25.892275",
     "status": "completed"
    },
    "tags": []
   },
   "source": []
  }
 ],
 "metadata": {
  "kernelspec": {
   "display_name": "Python 3",
   "language": "python",
   "name": "python3"
  },
  "language_info": {
   "codemirror_mode": {
    "name": "ipython",
    "version": 3
   },
   "file_extension": ".py",
   "mimetype": "text/x-python",
   "name": "python",
   "nbconvert_exporter": "python",
   "pygments_lexer": "ipython3",
   "version": "3.9.22"
  },
  "papermill": {
   "default_parameters": {},
   "duration": 82.089,
   "end_time": "2025-05-10T01:01:26.330942",
   "environment_variables": {},
   "exception": null,
   "input_path": "notebook/Crime Data.ipynb",
   "output_path": "notebook/Crime Data_output.ipynb",
   "parameters": {},
   "start_time": "2025-05-10T01:00:04.241942",
   "version": "2.6.0"
  }
 },
 "nbformat": 4,
 "nbformat_minor": 5
}