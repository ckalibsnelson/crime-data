{
 "cells": [
  {
   "cell_type": "markdown",
   "id": "86bb89ea",
   "metadata": {
    "papermill": {
     "duration": 0.005965,
     "end_time": "2025-04-29T01:01:00.428940",
     "exception": false,
     "start_time": "2025-04-29T01:01:00.422975",
     "status": "completed"
    },
    "tags": []
   },
   "source": [
    "# Charlottesville Open Data Porttal: Crime Data"
   ]
  },
  {
   "cell_type": "markdown",
   "id": "fd4d32de",
   "metadata": {
    "papermill": {
     "duration": 0.005496,
     "end_time": "2025-04-29T01:01:00.439843",
     "exception": false,
     "start_time": "2025-04-29T01:01:00.434347",
     "status": "completed"
    },
    "tags": []
   },
   "source": [
    "## Import Relevant Librarires & Set WD"
   ]
  },
  {
   "cell_type": "code",
   "execution_count": 1,
   "id": "0aa28788",
   "metadata": {
    "execution": {
     "iopub.execute_input": "2025-04-29T01:01:00.451498Z",
     "iopub.status.busy": "2025-04-29T01:01:00.451064Z",
     "iopub.status.idle": "2025-04-29T01:01:01.231323Z",
     "shell.execute_reply": "2025-04-29T01:01:01.230660Z"
    },
    "papermill": {
     "duration": 0.787688,
     "end_time": "2025-04-29T01:01:01.232650",
     "exception": false,
     "start_time": "2025-04-29T01:01:00.444962",
     "status": "completed"
    },
    "tags": []
   },
   "outputs": [],
   "source": [
    "import requests\n",
    "import pandas as pd\n",
    "import numpy as np\n",
    "import pickle\n",
    "import googlemaps\n",
    "import plotly.express as px\n",
    "from geopy.geocoders import Nominatim\n",
    "import time\n",
    "from dotenv import load_dotenv\n",
    "import os\n",
    "\n",
    "env_path = os.path.join(\"..\", \".env\")\n",
    "#print(\"Looking for .env file at:\", os.path.abspath(env_path))\n",
    "load_dotenv(dotenv_path=env_path)\n",
    "\n",
    "# Retrieve the variables\n",
    "GOOGLE_API_KEY = os.getenv(\"GOOGLE_API_KEY\")\n",
    "WORKING_DIR = os.getenv(\"WORKING_DIR\")\n",
    "\n",
    "if GOOGLE_API_KEY is None or WORKING_DIR is None:\n",
    "    raise RuntimeError(\"No configuration found. Please ensure that your .env file exists with the required variables, or create a local config.py file.\")\n",
    "\n",
    "#print(\"Google API Key:\", GOOGLE_API_KEY)\n",
    "#print(\"Working Directory:\", WORKING_DIR)"
   ]
  },
  {
   "cell_type": "markdown",
   "id": "838ed8e7",
   "metadata": {
    "papermill": {
     "duration": 0.005082,
     "end_time": "2025-04-29T01:01:01.243190",
     "exception": false,
     "start_time": "2025-04-29T01:01:01.238108",
     "status": "completed"
    },
    "tags": []
   },
   "source": [
    "## Import Data\n",
    "\n",
    "URL: https://opendata.charlottesville.org/datasets/charlottesville::crime-data/about"
   ]
  },
  {
   "cell_type": "code",
   "execution_count": 2,
   "id": "0f6327bf",
   "metadata": {
    "execution": {
     "iopub.execute_input": "2025-04-29T01:01:01.254264Z",
     "iopub.status.busy": "2025-04-29T01:01:01.253964Z",
     "iopub.status.idle": "2025-04-29T01:02:02.635885Z",
     "shell.execute_reply": "2025-04-29T01:02:02.635197Z"
    },
    "papermill": {
     "duration": 61.393874,
     "end_time": "2025-04-29T01:02:02.642193",
     "exception": false,
     "start_time": "2025-04-29T01:01:01.248319",
     "status": "completed"
    },
    "tags": []
   },
   "outputs": [
    {
     "name": "stdout",
     "output_type": "stream",
     "text": [
      "Total records imported: 25270\n"
     ]
    }
   ],
   "source": [
    "# Define the endpoint and initial parameters.\n",
    "url = \"https://gisweb.charlottesville.org/arcgis/rest/services/OpenData_2/MapServer/6/query\"\n",
    "params = {\n",
    "    \"where\": \"1=1\",\n",
    "    \"outFields\": \"*\",\n",
    "    \"outSR\": 4326,\n",
    "    \"f\": \"json\",\n",
    "    \"resultOffset\": 0,       # Starting index for results\n",
    "    \"resultRecordCount\": 10000  # Maximum records per batch (if allowed by the API)\n",
    "}\n",
    "\n",
    "records = []\n",
    "\n",
    "while True:\n",
    "    response = requests.get(url, params=params)\n",
    "    response.raise_for_status()\n",
    "    data = response.json()\n",
    "    \n",
    "    # Get the current batch of features.\n",
    "    features = data.get(\"features\", [])\n",
    "    if not features:\n",
    "        break\n",
    "\n",
    "    # Extract the attributes from the features.\n",
    "    batch_records = [feature.get(\"attributes\", {}) for feature in features]\n",
    "    records.extend(batch_records)\n",
    "    \n",
    "    # If the batch size is less than the requested count, we reached the end.\n",
    "    if len(features) < params[\"resultRecordCount\"]:\n",
    "        break\n",
    "\n",
    "    # Update the resultOffset for the next batch.\n",
    "    params[\"resultOffset\"] += params[\"resultRecordCount\"]\n",
    "\n",
    "# Create a DataFrame from the combined records.\n",
    "df = pd.DataFrame(records)\n",
    "print(\"Total records imported:\", len(df))\n"
   ]
  },
  {
   "cell_type": "code",
   "execution_count": 3,
   "id": "9c0a1fbb",
   "metadata": {
    "execution": {
     "iopub.execute_input": "2025-04-29T01:02:02.674324Z",
     "iopub.status.busy": "2025-04-29T01:02:02.673824Z",
     "iopub.status.idle": "2025-04-29T01:02:02.686385Z",
     "shell.execute_reply": "2025-04-29T01:02:02.685831Z"
    },
    "papermill": {
     "duration": 0.03998,
     "end_time": "2025-04-29T01:02:02.687417",
     "exception": false,
     "start_time": "2025-04-29T01:02:02.647437",
     "status": "completed"
    },
    "tags": []
   },
   "outputs": [
    {
     "data": {
      "text/html": [
       "<div>\n",
       "<style scoped>\n",
       "    .dataframe tbody tr th:only-of-type {\n",
       "        vertical-align: middle;\n",
       "    }\n",
       "\n",
       "    .dataframe tbody tr th {\n",
       "        vertical-align: top;\n",
       "    }\n",
       "\n",
       "    .dataframe thead th {\n",
       "        text-align: right;\n",
       "    }\n",
       "</style>\n",
       "<table border=\"1\" class=\"dataframe\">\n",
       "  <thead>\n",
       "    <tr style=\"text-align: right;\">\n",
       "      <th></th>\n",
       "      <th>RecordID</th>\n",
       "      <th>Offense</th>\n",
       "      <th>IncidentID</th>\n",
       "      <th>BlockNumber</th>\n",
       "      <th>StreetName</th>\n",
       "      <th>Agency</th>\n",
       "      <th>DateReported</th>\n",
       "      <th>HourReported</th>\n",
       "      <th>ReportingOfficer</th>\n",
       "    </tr>\n",
       "  </thead>\n",
       "  <tbody>\n",
       "    <tr>\n",
       "      <th>0</th>\n",
       "      <td>1</td>\n",
       "      <td>Lost/FoundProperty</td>\n",
       "      <td>202500013685</td>\n",
       "      <td>600</td>\n",
       "      <td>E MARKET ST</td>\n",
       "      <td>CPD</td>\n",
       "      <td>1745696495000</td>\n",
       "      <td>1541</td>\n",
       "      <td>Schwartz, Honora</td>\n",
       "    </tr>\n",
       "    <tr>\n",
       "      <th>1</th>\n",
       "      <td>2</td>\n",
       "      <td>Weapons Violations</td>\n",
       "      <td>202500013681</td>\n",
       "      <td></td>\n",
       "      <td>HYDRAULIC RD @ 250 BYPASS W</td>\n",
       "      <td>CPD</td>\n",
       "      <td>1745693948000</td>\n",
       "      <td>1459</td>\n",
       "      <td>Abdelgayed, Adam</td>\n",
       "    </tr>\n",
       "    <tr>\n",
       "      <th>2</th>\n",
       "      <td>3</td>\n",
       "      <td>Larceny - Shoplifitng</td>\n",
       "      <td>202500013668</td>\n",
       "      <td>500</td>\n",
       "      <td>W MAIN ST</td>\n",
       "      <td>CPD</td>\n",
       "      <td>1745685515000</td>\n",
       "      <td>1238</td>\n",
       "      <td>Khaleefa, Hamzeh</td>\n",
       "    </tr>\n",
       "    <tr>\n",
       "      <th>3</th>\n",
       "      <td>4</td>\n",
       "      <td>Fraud-false pretense</td>\n",
       "      <td>202500013649</td>\n",
       "      <td>500</td>\n",
       "      <td>1ST ST S, 714</td>\n",
       "      <td>CPD</td>\n",
       "      <td>1745669040000</td>\n",
       "      <td>0804</td>\n",
       "      <td>Reed, Danielle</td>\n",
       "    </tr>\n",
       "    <tr>\n",
       "      <th>4</th>\n",
       "      <td>5</td>\n",
       "      <td>Hit and Run</td>\n",
       "      <td>202500013591</td>\n",
       "      <td>500</td>\n",
       "      <td>MEADE AVE</td>\n",
       "      <td>CPD</td>\n",
       "      <td>1745632616000</td>\n",
       "      <td>2156</td>\n",
       "      <td>Crowley, Raeann</td>\n",
       "    </tr>\n",
       "  </tbody>\n",
       "</table>\n",
       "</div>"
      ],
      "text/plain": [
       "   RecordID                Offense    IncidentID BlockNumber  \\\n",
       "0         1     Lost/FoundProperty  202500013685         600   \n",
       "1         2     Weapons Violations  202500013681               \n",
       "2         3  Larceny - Shoplifitng  202500013668         500   \n",
       "3         4   Fraud-false pretense  202500013649         500   \n",
       "4         5            Hit and Run  202500013591         500   \n",
       "\n",
       "                    StreetName Agency   DateReported HourReported  \\\n",
       "0                  E MARKET ST    CPD  1745696495000         1541   \n",
       "1  HYDRAULIC RD @ 250 BYPASS W    CPD  1745693948000         1459   \n",
       "2                    W MAIN ST    CPD  1745685515000         1238   \n",
       "3                1ST ST S, 714    CPD  1745669040000         0804   \n",
       "4                    MEADE AVE    CPD  1745632616000         2156   \n",
       "\n",
       "   ReportingOfficer  \n",
       "0  Schwartz, Honora  \n",
       "1  Abdelgayed, Adam  \n",
       "2  Khaleefa, Hamzeh  \n",
       "3    Reed, Danielle  \n",
       "4   Crowley, Raeann  "
      ]
     },
     "execution_count": 3,
     "metadata": {},
     "output_type": "execute_result"
    }
   ],
   "source": [
    "df.head()"
   ]
  },
  {
   "cell_type": "code",
   "execution_count": 4,
   "id": "3d739a90",
   "metadata": {
    "execution": {
     "iopub.execute_input": "2025-04-29T01:02:02.699082Z",
     "iopub.status.busy": "2025-04-29T01:02:02.698665Z",
     "iopub.status.idle": "2025-04-29T01:02:02.702929Z",
     "shell.execute_reply": "2025-04-29T01:02:02.702296Z"
    },
    "papermill": {
     "duration": 0.011065,
     "end_time": "2025-04-29T01:02:02.703931",
     "exception": false,
     "start_time": "2025-04-29T01:02:02.692866",
     "status": "completed"
    },
    "tags": []
   },
   "outputs": [
    {
     "data": {
      "text/plain": [
       "Index(['RecordID', 'Offense', 'IncidentID', 'BlockNumber', 'StreetName',\n",
       "       'Agency', 'DateReported', 'HourReported', 'ReportingOfficer'],\n",
       "      dtype='object')"
      ]
     },
     "execution_count": 4,
     "metadata": {},
     "output_type": "execute_result"
    }
   ],
   "source": [
    "df.columns"
   ]
  },
  {
   "cell_type": "code",
   "execution_count": 5,
   "id": "fc4fb414",
   "metadata": {
    "execution": {
     "iopub.execute_input": "2025-04-29T01:02:02.715550Z",
     "iopub.status.busy": "2025-04-29T01:02:02.715355Z",
     "iopub.status.idle": "2025-04-29T01:02:02.736916Z",
     "shell.execute_reply": "2025-04-29T01:02:02.736284Z"
    },
    "papermill": {
     "duration": 0.02841,
     "end_time": "2025-04-29T01:02:02.737884",
     "exception": false,
     "start_time": "2025-04-29T01:02:02.709474",
     "status": "completed"
    },
    "tags": []
   },
   "outputs": [
    {
     "name": "stdout",
     "output_type": "stream",
     "text": [
      "<class 'pandas.core.frame.DataFrame'>\n",
      "RangeIndex: 25270 entries, 0 to 25269\n",
      "Data columns (total 9 columns):\n",
      " #   Column            Non-Null Count  Dtype \n",
      "---  ------            --------------  ----- \n",
      " 0   RecordID          25270 non-null  int64 \n",
      " 1   Offense           25270 non-null  object\n",
      " 2   IncidentID        25270 non-null  object\n",
      " 3   BlockNumber       25270 non-null  object\n",
      " 4   StreetName        25270 non-null  object\n",
      " 5   Agency            25270 non-null  object\n",
      " 6   DateReported      25270 non-null  int64 \n",
      " 7   HourReported      25270 non-null  object\n",
      " 8   ReportingOfficer  25253 non-null  object\n",
      "dtypes: int64(2), object(7)\n",
      "memory usage: 1.7+ MB\n"
     ]
    }
   ],
   "source": [
    "df.info()"
   ]
  },
  {
   "cell_type": "markdown",
   "id": "c0daf8a4",
   "metadata": {
    "papermill": {
     "duration": 0.005414,
     "end_time": "2025-04-29T01:02:02.748885",
     "exception": false,
     "start_time": "2025-04-29T01:02:02.743471",
     "status": "completed"
    },
    "tags": []
   },
   "source": [
    "### Missing Values"
   ]
  },
  {
   "cell_type": "code",
   "execution_count": 6,
   "id": "b0e0f41e",
   "metadata": {
    "execution": {
     "iopub.execute_input": "2025-04-29T01:02:02.761118Z",
     "iopub.status.busy": "2025-04-29T01:02:02.760710Z",
     "iopub.status.idle": "2025-04-29T01:02:02.777401Z",
     "shell.execute_reply": "2025-04-29T01:02:02.776827Z"
    },
    "papermill": {
     "duration": 0.023817,
     "end_time": "2025-04-29T01:02:02.778364",
     "exception": false,
     "start_time": "2025-04-29T01:02:02.754547",
     "status": "completed"
    },
    "tags": []
   },
   "outputs": [
    {
     "name": "stdout",
     "output_type": "stream",
     "text": [
      "                  MissingCount  MissingPercentage\n",
      "RecordID                     0               0.00\n",
      "Offense                      0               0.00\n",
      "IncidentID                   0               0.00\n",
      "BlockNumber                  0               0.00\n",
      "StreetName                   0               0.00\n",
      "Agency                       0               0.00\n",
      "DateReported                 0               0.00\n",
      "HourReported                 0               0.00\n",
      "ReportingOfficer            17               0.07\n"
     ]
    }
   ],
   "source": [
    "def missing_percentage(df):\n",
    "    \"\"\"\n",
    "    Returns a DataFrame with the count and percentage of missing values for each column.\n",
    "    \n",
    "    Parameters:\n",
    "        df (pd.DataFrame): The input DataFrame.\n",
    "    \n",
    "    Returns:\n",
    "        pd.DataFrame: A DataFrame with columns 'MissingCount' and 'MissingPercentage'.\n",
    "    \"\"\"\n",
    "    total_rows = len(df)\n",
    "    missing_count = df.isnull().sum()\n",
    "    missing_percent = (missing_count / total_rows) * 100\n",
    "    \n",
    "    result = pd.DataFrame({\n",
    "        'MissingCount': missing_count,\n",
    "        'MissingPercentage': missing_percent.round(2)\n",
    "    })\n",
    "    \n",
    "    return result\n",
    "\n",
    "# Example usage:\n",
    "missing_info = missing_percentage(df)\n",
    "print(missing_info)\n"
   ]
  },
  {
   "cell_type": "markdown",
   "id": "8d863f02",
   "metadata": {
    "papermill": {
     "duration": 0.005789,
     "end_time": "2025-04-29T01:02:02.790046",
     "exception": false,
     "start_time": "2025-04-29T01:02:02.784257",
     "status": "completed"
    },
    "tags": []
   },
   "source": [
    "## Data Preparation"
   ]
  },
  {
   "cell_type": "markdown",
   "id": "34a50c39",
   "metadata": {
    "papermill": {
     "duration": 0.00555,
     "end_time": "2025-04-29T01:02:02.801237",
     "exception": false,
     "start_time": "2025-04-29T01:02:02.795687",
     "status": "completed"
    },
    "tags": []
   },
   "source": [
    "### Data Conversion"
   ]
  },
  {
   "cell_type": "code",
   "execution_count": 7,
   "id": "46d45829",
   "metadata": {
    "execution": {
     "iopub.execute_input": "2025-04-29T01:02:02.813125Z",
     "iopub.status.busy": "2025-04-29T01:02:02.812881Z",
     "iopub.status.idle": "2025-04-29T01:02:03.179604Z",
     "shell.execute_reply": "2025-04-29T01:02:03.179012Z"
    },
    "papermill": {
     "duration": 0.373755,
     "end_time": "2025-04-29T01:02:03.180579",
     "exception": false,
     "start_time": "2025-04-29T01:02:02.806824",
     "status": "completed"
    },
    "tags": []
   },
   "outputs": [
    {
     "data": {
      "text/html": [
       "<div>\n",
       "<style scoped>\n",
       "    .dataframe tbody tr th:only-of-type {\n",
       "        vertical-align: middle;\n",
       "    }\n",
       "\n",
       "    .dataframe tbody tr th {\n",
       "        vertical-align: top;\n",
       "    }\n",
       "\n",
       "    .dataframe thead th {\n",
       "        text-align: right;\n",
       "    }\n",
       "</style>\n",
       "<table border=\"1\" class=\"dataframe\">\n",
       "  <thead>\n",
       "    <tr style=\"text-align: right;\">\n",
       "      <th></th>\n",
       "      <th>RecordID</th>\n",
       "      <th>Offense</th>\n",
       "      <th>IncidentID</th>\n",
       "      <th>BlockNumber</th>\n",
       "      <th>StreetName</th>\n",
       "      <th>Agency</th>\n",
       "      <th>HourReported</th>\n",
       "      <th>ReportingOfficer</th>\n",
       "      <th>Date</th>\n",
       "      <th>DateString</th>\n",
       "      <th>DayOfWeek</th>\n",
       "      <th>Weekend</th>\n",
       "      <th>Season</th>\n",
       "      <th>HourAMPM</th>\n",
       "      <th>TimeOfDay</th>\n",
       "    </tr>\n",
       "  </thead>\n",
       "  <tbody>\n",
       "    <tr>\n",
       "      <th>0</th>\n",
       "      <td>1</td>\n",
       "      <td>Lost/FoundProperty</td>\n",
       "      <td>202500013685</td>\n",
       "      <td>600</td>\n",
       "      <td>E MARKET ST</td>\n",
       "      <td>CPD</td>\n",
       "      <td>1541</td>\n",
       "      <td>Schwartz, Honora</td>\n",
       "      <td>2025-04-26 15:41:35</td>\n",
       "      <td>2025-04-26 03:41:35 PM</td>\n",
       "      <td>Saturday</td>\n",
       "      <td>True</td>\n",
       "      <td>Spring</td>\n",
       "      <td>03:41 PM</td>\n",
       "      <td>Afternoon</td>\n",
       "    </tr>\n",
       "    <tr>\n",
       "      <th>1</th>\n",
       "      <td>2</td>\n",
       "      <td>Weapons Violations</td>\n",
       "      <td>202500013681</td>\n",
       "      <td></td>\n",
       "      <td>HYDRAULIC RD @ 250 BYPASS W</td>\n",
       "      <td>CPD</td>\n",
       "      <td>1459</td>\n",
       "      <td>Abdelgayed, Adam</td>\n",
       "      <td>2025-04-26 14:59:08</td>\n",
       "      <td>2025-04-26 02:59:08 PM</td>\n",
       "      <td>Saturday</td>\n",
       "      <td>True</td>\n",
       "      <td>Spring</td>\n",
       "      <td>02:59 PM</td>\n",
       "      <td>Afternoon</td>\n",
       "    </tr>\n",
       "    <tr>\n",
       "      <th>2</th>\n",
       "      <td>3</td>\n",
       "      <td>Larceny - Shoplifitng</td>\n",
       "      <td>202500013668</td>\n",
       "      <td>500</td>\n",
       "      <td>W MAIN ST</td>\n",
       "      <td>CPD</td>\n",
       "      <td>1238</td>\n",
       "      <td>Khaleefa, Hamzeh</td>\n",
       "      <td>2025-04-26 12:38:35</td>\n",
       "      <td>2025-04-26 12:38:35 PM</td>\n",
       "      <td>Saturday</td>\n",
       "      <td>True</td>\n",
       "      <td>Spring</td>\n",
       "      <td>12:38 PM</td>\n",
       "      <td>Afternoon</td>\n",
       "    </tr>\n",
       "    <tr>\n",
       "      <th>3</th>\n",
       "      <td>4</td>\n",
       "      <td>Fraud-false pretense</td>\n",
       "      <td>202500013649</td>\n",
       "      <td>500</td>\n",
       "      <td>1ST ST S, 714</td>\n",
       "      <td>CPD</td>\n",
       "      <td>0804</td>\n",
       "      <td>Reed, Danielle</td>\n",
       "      <td>2025-04-26 08:04:00</td>\n",
       "      <td>2025-04-26 08:04:00 AM</td>\n",
       "      <td>Saturday</td>\n",
       "      <td>True</td>\n",
       "      <td>Spring</td>\n",
       "      <td>08:04 AM</td>\n",
       "      <td>Morning</td>\n",
       "    </tr>\n",
       "    <tr>\n",
       "      <th>4</th>\n",
       "      <td>5</td>\n",
       "      <td>Hit and Run</td>\n",
       "      <td>202500013591</td>\n",
       "      <td>500</td>\n",
       "      <td>MEADE AVE</td>\n",
       "      <td>CPD</td>\n",
       "      <td>2156</td>\n",
       "      <td>Crowley, Raeann</td>\n",
       "      <td>2025-04-25 21:56:56</td>\n",
       "      <td>2025-04-25 09:56:56 PM</td>\n",
       "      <td>Friday</td>\n",
       "      <td>False</td>\n",
       "      <td>Spring</td>\n",
       "      <td>09:56 PM</td>\n",
       "      <td>Night</td>\n",
       "    </tr>\n",
       "  </tbody>\n",
       "</table>\n",
       "</div>"
      ],
      "text/plain": [
       "   RecordID                Offense    IncidentID BlockNumber  \\\n",
       "0         1     Lost/FoundProperty  202500013685         600   \n",
       "1         2     Weapons Violations  202500013681               \n",
       "2         3  Larceny - Shoplifitng  202500013668         500   \n",
       "3         4   Fraud-false pretense  202500013649         500   \n",
       "4         5            Hit and Run  202500013591         500   \n",
       "\n",
       "                    StreetName Agency HourReported  ReportingOfficer  \\\n",
       "0                  E MARKET ST    CPD         1541  Schwartz, Honora   \n",
       "1  HYDRAULIC RD @ 250 BYPASS W    CPD         1459  Abdelgayed, Adam   \n",
       "2                    W MAIN ST    CPD         1238  Khaleefa, Hamzeh   \n",
       "3                1ST ST S, 714    CPD         0804    Reed, Danielle   \n",
       "4                    MEADE AVE    CPD         2156   Crowley, Raeann   \n",
       "\n",
       "                 Date              DateString DayOfWeek  Weekend  Season  \\\n",
       "0 2025-04-26 15:41:35  2025-04-26 03:41:35 PM  Saturday     True  Spring   \n",
       "1 2025-04-26 14:59:08  2025-04-26 02:59:08 PM  Saturday     True  Spring   \n",
       "2 2025-04-26 12:38:35  2025-04-26 12:38:35 PM  Saturday     True  Spring   \n",
       "3 2025-04-26 08:04:00  2025-04-26 08:04:00 AM  Saturday     True  Spring   \n",
       "4 2025-04-25 21:56:56  2025-04-25 09:56:56 PM    Friday    False  Spring   \n",
       "\n",
       "   HourAMPM  TimeOfDay  \n",
       "0  03:41 PM  Afternoon  \n",
       "1  02:59 PM  Afternoon  \n",
       "2  12:38 PM  Afternoon  \n",
       "3  08:04 AM    Morning  \n",
       "4  09:56 PM      Night  "
      ]
     },
     "execution_count": 7,
     "metadata": {},
     "output_type": "execute_result"
    }
   ],
   "source": [
    "def convert_and_categorize_datereported(df, col='DateReported'):\n",
    "    \"\"\"\n",
    "    Converts an epoch (in milliseconds) date column into a timezone-aware datetime,\n",
    "    converts it to Eastern Time, and then creates columns for day-of-week, weekend flag,\n",
    "    season, 12-hour formatted time, and time-of-day. Keeps both a real datetime column\n",
    "    (Date) and a string representation (DateString).\n",
    "    \"\"\"\n",
    "    import pandas as pd\n",
    "\n",
    "    # Convert the epoch timestamp to a pandas datetime object as UTC, then convert to US/Eastern.\n",
    "    df[\"DateReported_dt\"] = (\n",
    "        pd.to_datetime(df[col], unit=\"ms\", errors=\"coerce\", utc=True)\n",
    "        .dt.tz_convert(\"US/Eastern\")\n",
    "    )\n",
    "    \n",
    "    # Create a true datetime column (remove timezone if you prefer naive datetime)\n",
    "    df[\"Date\"] = df[\"DateReported_dt\"].dt.tz_localize(None)\n",
    "\n",
    "    # Optionally, create a separate string-formatted column\n",
    "    df[\"DateString\"] = df[\"DateReported_dt\"].dt.strftime(\"%Y-%m-%d %I:%M:%S %p\")\n",
    "    \n",
    "    # DayOfWeek\n",
    "    df[\"DayOfWeek\"] = df[\"DateReported_dt\"].dt.day_name()\n",
    "    \n",
    "    # Weekend\n",
    "    df[\"Weekend\"] = df[\"DayOfWeek\"].isin([\"Saturday\", \"Sunday\"])\n",
    "    \n",
    "    # Helper function to determine the season\n",
    "    def get_season(dt):\n",
    "        month = dt.month\n",
    "        day = dt.day\n",
    "        # Approximate Northern Hemisphere season boundaries:\n",
    "        if (month == 12 and day >= 21) or (month < 3) or (month == 3 and day < 20):\n",
    "            return \"Winter\"\n",
    "        elif (month == 3 and day >= 20) or (month < 6) or (month == 6 and day < 21):\n",
    "            return \"Spring\"\n",
    "        elif (month == 6 and day >= 21) or (month < 9) or (month == 9 and day < 22):\n",
    "            return \"Summer\"\n",
    "        else:\n",
    "            return \"Autumn\"\n",
    "    \n",
    "    df[\"Season\"] = df[\"DateReported_dt\"].apply(get_season)\n",
    "    \n",
    "    # 12-hour formatted time (HourAMPM)\n",
    "    df[\"HourAMPM\"] = df[\"DateReported_dt\"].dt.strftime(\"%I:%M %p\")\n",
    "    \n",
    "    # Extract hour (0-23) for time-of-day\n",
    "    df[\"HourValue\"] = df[\"DateReported_dt\"].dt.hour\n",
    "    \n",
    "    def time_of_day(hour):\n",
    "        if pd.isnull(hour):\n",
    "            return None\n",
    "        if 5 <= hour < 12:\n",
    "            return \"Morning\"\n",
    "        elif 12 <= hour < 17:\n",
    "            return \"Afternoon\"\n",
    "        elif 17 <= hour < 21:\n",
    "            return \"Evening\"\n",
    "        else:\n",
    "            return \"Night\"\n",
    "    \n",
    "    df[\"TimeOfDay\"] = df[\"HourValue\"].apply(time_of_day)\n",
    "    \n",
    "    # Drop columns you no longer need\n",
    "    df.drop(columns=[col, \"DateReported_dt\", \"HourValue\"], inplace=True)\n",
    "    \n",
    "    return df\n",
    "\n",
    "# Example usage:\n",
    "df = convert_and_categorize_datereported(df)\n",
    "df.head()\n"
   ]
  },
  {
   "cell_type": "code",
   "execution_count": 8,
   "id": "47035a58",
   "metadata": {
    "execution": {
     "iopub.execute_input": "2025-04-29T01:02:03.193517Z",
     "iopub.status.busy": "2025-04-29T01:02:03.193052Z",
     "iopub.status.idle": "2025-04-29T01:02:03.217097Z",
     "shell.execute_reply": "2025-04-29T01:02:03.216554Z"
    },
    "papermill": {
     "duration": 0.03142,
     "end_time": "2025-04-29T01:02:03.218105",
     "exception": false,
     "start_time": "2025-04-29T01:02:03.186685",
     "status": "completed"
    },
    "tags": []
   },
   "outputs": [
    {
     "name": "stdout",
     "output_type": "stream",
     "text": [
      "<class 'pandas.core.frame.DataFrame'>\n",
      "RangeIndex: 25270 entries, 0 to 25269\n",
      "Data columns (total 15 columns):\n",
      " #   Column            Non-Null Count  Dtype         \n",
      "---  ------            --------------  -----         \n",
      " 0   RecordID          25270 non-null  int64         \n",
      " 1   Offense           25270 non-null  object        \n",
      " 2   IncidentID        25270 non-null  object        \n",
      " 3   BlockNumber       25270 non-null  object        \n",
      " 4   StreetName        25270 non-null  object        \n",
      " 5   Agency            25270 non-null  object        \n",
      " 6   HourReported      25270 non-null  object        \n",
      " 7   ReportingOfficer  25253 non-null  object        \n",
      " 8   Date              25270 non-null  datetime64[ns]\n",
      " 9   DateString        25270 non-null  object        \n",
      " 10  DayOfWeek         25270 non-null  object        \n",
      " 11  Weekend           25270 non-null  bool          \n",
      " 12  Season            25270 non-null  object        \n",
      " 13  HourAMPM          25270 non-null  object        \n",
      " 14  TimeOfDay         25270 non-null  object        \n",
      "dtypes: bool(1), datetime64[ns](1), int64(1), object(12)\n",
      "memory usage: 2.7+ MB\n"
     ]
    }
   ],
   "source": [
    "df.info()"
   ]
  },
  {
   "cell_type": "markdown",
   "id": "7f64cf5d",
   "metadata": {
    "papermill": {
     "duration": 0.005767,
     "end_time": "2025-04-29T01:02:03.229861",
     "exception": false,
     "start_time": "2025-04-29T01:02:03.224094",
     "status": "completed"
    },
    "tags": []
   },
   "source": [
    "### Coordinates"
   ]
  },
  {
   "cell_type": "code",
   "execution_count": 9,
   "id": "a881d8fc",
   "metadata": {
    "execution": {
     "iopub.execute_input": "2025-04-29T01:02:03.242423Z",
     "iopub.status.busy": "2025-04-29T01:02:03.242232Z",
     "iopub.status.idle": "2025-04-29T01:02:03.648402Z",
     "shell.execute_reply": "2025-04-29T01:02:03.647783Z"
    },
    "papermill": {
     "duration": 0.413652,
     "end_time": "2025-04-29T01:02:03.649432",
     "exception": false,
     "start_time": "2025-04-29T01:02:03.235780",
     "status": "completed"
    },
    "tags": []
   },
   "outputs": [
    {
     "name": "stdout",
     "output_type": "stream",
     "text": [
      "Loaded geocode cache.\n",
      "Geocoded  HYDRAULIC RD @ 250 BYPASS W: 38.056683, -78.489198\n"
     ]
    },
    {
     "name": "stdout",
     "output_type": "stream",
     "text": [
      "Geocoded 500 1ST ST S, 714: 38.0269388, -78.4832662\n",
      "Geocoded 2000 HOLIDAY DR, 245: 38.0576812, -78.4914019\n",
      "Geocode cache updated and saved.\n"
     ]
    },
    {
     "data": {
      "text/html": [
       "<div>\n",
       "<style scoped>\n",
       "    .dataframe tbody tr th:only-of-type {\n",
       "        vertical-align: middle;\n",
       "    }\n",
       "\n",
       "    .dataframe tbody tr th {\n",
       "        vertical-align: top;\n",
       "    }\n",
       "\n",
       "    .dataframe thead th {\n",
       "        text-align: right;\n",
       "    }\n",
       "</style>\n",
       "<table border=\"1\" class=\"dataframe\">\n",
       "  <thead>\n",
       "    <tr style=\"text-align: right;\">\n",
       "      <th></th>\n",
       "      <th>RecordID</th>\n",
       "      <th>Offense</th>\n",
       "      <th>IncidentID</th>\n",
       "      <th>BlockNumber</th>\n",
       "      <th>StreetName</th>\n",
       "      <th>Agency</th>\n",
       "      <th>HourReported</th>\n",
       "      <th>ReportingOfficer</th>\n",
       "      <th>Date</th>\n",
       "      <th>DateString</th>\n",
       "      <th>DayOfWeek</th>\n",
       "      <th>Weekend</th>\n",
       "      <th>Season</th>\n",
       "      <th>HourAMPM</th>\n",
       "      <th>TimeOfDay</th>\n",
       "      <th>FullStreet</th>\n",
       "      <th>lat</th>\n",
       "      <th>lon</th>\n",
       "    </tr>\n",
       "  </thead>\n",
       "  <tbody>\n",
       "    <tr>\n",
       "      <th>0</th>\n",
       "      <td>1</td>\n",
       "      <td>Lost/FoundProperty</td>\n",
       "      <td>202500013685</td>\n",
       "      <td>600</td>\n",
       "      <td>E MARKET ST</td>\n",
       "      <td>CPD</td>\n",
       "      <td>1541</td>\n",
       "      <td>Schwartz, Honora</td>\n",
       "      <td>2025-04-26 15:41:35</td>\n",
       "      <td>2025-04-26 03:41:35 PM</td>\n",
       "      <td>Saturday</td>\n",
       "      <td>True</td>\n",
       "      <td>Spring</td>\n",
       "      <td>03:41 PM</td>\n",
       "      <td>Afternoon</td>\n",
       "      <td>600 E MARKET ST</td>\n",
       "      <td>38.030175</td>\n",
       "      <td>-78.477574</td>\n",
       "    </tr>\n",
       "    <tr>\n",
       "      <th>1</th>\n",
       "      <td>2</td>\n",
       "      <td>Weapons Violations</td>\n",
       "      <td>202500013681</td>\n",
       "      <td></td>\n",
       "      <td>HYDRAULIC RD @ 250 BYPASS W</td>\n",
       "      <td>CPD</td>\n",
       "      <td>1459</td>\n",
       "      <td>Abdelgayed, Adam</td>\n",
       "      <td>2025-04-26 14:59:08</td>\n",
       "      <td>2025-04-26 02:59:08 PM</td>\n",
       "      <td>Saturday</td>\n",
       "      <td>True</td>\n",
       "      <td>Spring</td>\n",
       "      <td>02:59 PM</td>\n",
       "      <td>Afternoon</td>\n",
       "      <td>HYDRAULIC RD @ 250 BYPASS W</td>\n",
       "      <td>38.056683</td>\n",
       "      <td>-78.489198</td>\n",
       "    </tr>\n",
       "    <tr>\n",
       "      <th>2</th>\n",
       "      <td>3</td>\n",
       "      <td>Larceny - Shoplifitng</td>\n",
       "      <td>202500013668</td>\n",
       "      <td>500</td>\n",
       "      <td>W MAIN ST</td>\n",
       "      <td>CPD</td>\n",
       "      <td>1238</td>\n",
       "      <td>Khaleefa, Hamzeh</td>\n",
       "      <td>2025-04-26 12:38:35</td>\n",
       "      <td>2025-04-26 12:38:35 PM</td>\n",
       "      <td>Saturday</td>\n",
       "      <td>True</td>\n",
       "      <td>Spring</td>\n",
       "      <td>12:38 PM</td>\n",
       "      <td>Afternoon</td>\n",
       "      <td>500 W MAIN ST</td>\n",
       "      <td>38.030793</td>\n",
       "      <td>-78.487912</td>\n",
       "    </tr>\n",
       "    <tr>\n",
       "      <th>3</th>\n",
       "      <td>4</td>\n",
       "      <td>Fraud-false pretense</td>\n",
       "      <td>202500013649</td>\n",
       "      <td>500</td>\n",
       "      <td>1ST ST S, 714</td>\n",
       "      <td>CPD</td>\n",
       "      <td>0804</td>\n",
       "      <td>Reed, Danielle</td>\n",
       "      <td>2025-04-26 08:04:00</td>\n",
       "      <td>2025-04-26 08:04:00 AM</td>\n",
       "      <td>Saturday</td>\n",
       "      <td>True</td>\n",
       "      <td>Spring</td>\n",
       "      <td>08:04 AM</td>\n",
       "      <td>Morning</td>\n",
       "      <td>500 1ST ST S, 714</td>\n",
       "      <td>38.026939</td>\n",
       "      <td>-78.483266</td>\n",
       "    </tr>\n",
       "    <tr>\n",
       "      <th>4</th>\n",
       "      <td>5</td>\n",
       "      <td>Hit and Run</td>\n",
       "      <td>202500013591</td>\n",
       "      <td>500</td>\n",
       "      <td>MEADE AVE</td>\n",
       "      <td>CPD</td>\n",
       "      <td>2156</td>\n",
       "      <td>Crowley, Raeann</td>\n",
       "      <td>2025-04-25 21:56:56</td>\n",
       "      <td>2025-04-25 09:56:56 PM</td>\n",
       "      <td>Friday</td>\n",
       "      <td>False</td>\n",
       "      <td>Spring</td>\n",
       "      <td>09:56 PM</td>\n",
       "      <td>Night</td>\n",
       "      <td>500 MEADE AVE</td>\n",
       "      <td>38.030163</td>\n",
       "      <td>-78.464952</td>\n",
       "    </tr>\n",
       "  </tbody>\n",
       "</table>\n",
       "</div>"
      ],
      "text/plain": [
       "   RecordID                Offense    IncidentID BlockNumber  \\\n",
       "0         1     Lost/FoundProperty  202500013685         600   \n",
       "1         2     Weapons Violations  202500013681               \n",
       "2         3  Larceny - Shoplifitng  202500013668         500   \n",
       "3         4   Fraud-false pretense  202500013649         500   \n",
       "4         5            Hit and Run  202500013591         500   \n",
       "\n",
       "                    StreetName Agency HourReported  ReportingOfficer  \\\n",
       "0                  E MARKET ST    CPD         1541  Schwartz, Honora   \n",
       "1  HYDRAULIC RD @ 250 BYPASS W    CPD         1459  Abdelgayed, Adam   \n",
       "2                    W MAIN ST    CPD         1238  Khaleefa, Hamzeh   \n",
       "3                1ST ST S, 714    CPD         0804    Reed, Danielle   \n",
       "4                    MEADE AVE    CPD         2156   Crowley, Raeann   \n",
       "\n",
       "                 Date              DateString DayOfWeek  Weekend  Season  \\\n",
       "0 2025-04-26 15:41:35  2025-04-26 03:41:35 PM  Saturday     True  Spring   \n",
       "1 2025-04-26 14:59:08  2025-04-26 02:59:08 PM  Saturday     True  Spring   \n",
       "2 2025-04-26 12:38:35  2025-04-26 12:38:35 PM  Saturday     True  Spring   \n",
       "3 2025-04-26 08:04:00  2025-04-26 08:04:00 AM  Saturday     True  Spring   \n",
       "4 2025-04-25 21:56:56  2025-04-25 09:56:56 PM    Friday    False  Spring   \n",
       "\n",
       "   HourAMPM  TimeOfDay                    FullStreet        lat        lon  \n",
       "0  03:41 PM  Afternoon               600 E MARKET ST  38.030175 -78.477574  \n",
       "1  02:59 PM  Afternoon   HYDRAULIC RD @ 250 BYPASS W  38.056683 -78.489198  \n",
       "2  12:38 PM  Afternoon                 500 W MAIN ST  38.030793 -78.487912  \n",
       "3  08:04 AM    Morning             500 1ST ST S, 714  38.026939 -78.483266  \n",
       "4  09:56 PM      Night                 500 MEADE AVE  38.030163 -78.464952  "
      ]
     },
     "execution_count": 9,
     "metadata": {},
     "output_type": "execute_result"
    }
   ],
   "source": [
    "# Combine BlockNumber and StreetName into a full address string\n",
    "df['FullStreet'] = df['BlockNumber'].astype(str) + \" \" + df['StreetName']\n",
    "\n",
    "# --- Step 1: Setup the Google Maps Client and Cache ---\n",
    "gmaps = googlemaps.Client(key=GOOGLE_API_KEY)\n",
    "\n",
    "# Try to load cached geocoding results if available.\n",
    "try:\n",
    "    with open(\"geocode_cache_google.pkl\", \"rb\") as f:\n",
    "        street_coords = pickle.load(f)\n",
    "    print(\"Loaded geocode cache.\")\n",
    "except FileNotFoundError:\n",
    "    street_coords = {}\n",
    "    print(\"No cache found; starting fresh.\")\n",
    "\n",
    "def geocode_address(address):\n",
    "    try:\n",
    "        # Append city and state to help geocoding\n",
    "        result = gmaps.geocode(f\"{address}, Charlottesville, VA\")\n",
    "        if result:\n",
    "            lat = result[0]['geometry']['location']['lat']\n",
    "            lon = result[0]['geometry']['location']['lng']\n",
    "            return lat, lon\n",
    "    except Exception as e:\n",
    "        print(f\"Error geocoding {address}: {e}\")\n",
    "    return None, None\n",
    "\n",
    "# --- Step 2: Geocode Only New Addresses ---\n",
    "unique_addresses = df['FullStreet'].unique()\n",
    "for address in unique_addresses:\n",
    "    if address not in street_coords:\n",
    "        lat, lon = geocode_address(address)\n",
    "        street_coords[address] = (lat, lon)\n",
    "        print(f\"Geocoded {address}: {lat}, {lon}\")\n",
    "\n",
    "# Save the updated cache to disk.\n",
    "with open(\"geocode_cache_google.pkl\", \"wb\") as f:\n",
    "    pickle.dump(street_coords, f)\n",
    "    print(\"Geocode cache updated and saved.\")\n",
    "\n",
    "# --- Step 3: Map Coordinates Back to DataFrame ---\n",
    "df['lat'] = df['FullStreet'].map(lambda s: street_coords.get(s, (None, None))[0])\n",
    "df['lon'] = df['FullStreet'].map(lambda s: street_coords.get(s, (None, None))[1])\n",
    "\n",
    "df.head()"
   ]
  },
  {
   "cell_type": "markdown",
   "id": "841f00d3",
   "metadata": {
    "papermill": {
     "duration": 0.006161,
     "end_time": "2025-04-29T01:02:03.662142",
     "exception": false,
     "start_time": "2025-04-29T01:02:03.655981",
     "status": "completed"
    },
    "tags": []
   },
   "source": [
    "### Neighborhood"
   ]
  },
  {
   "cell_type": "code",
   "execution_count": 10,
   "id": "0c78f82b",
   "metadata": {
    "execution": {
     "iopub.execute_input": "2025-04-29T01:02:03.675601Z",
     "iopub.status.busy": "2025-04-29T01:02:03.675206Z",
     "iopub.status.idle": "2025-04-29T01:02:03.930962Z",
     "shell.execute_reply": "2025-04-29T01:02:03.930312Z"
    },
    "papermill": {
     "duration": 0.263724,
     "end_time": "2025-04-29T01:02:03.932126",
     "exception": false,
     "start_time": "2025-04-29T01:02:03.668402",
     "status": "completed"
    },
    "tags": []
   },
   "outputs": [
    {
     "name": "stdout",
     "output_type": "stream",
     "text": [
      "Loaded neighborhood cache.\n"
     ]
    },
    {
     "data": {
      "text/html": [
       "<div>\n",
       "<style scoped>\n",
       "    .dataframe tbody tr th:only-of-type {\n",
       "        vertical-align: middle;\n",
       "    }\n",
       "\n",
       "    .dataframe tbody tr th {\n",
       "        vertical-align: top;\n",
       "    }\n",
       "\n",
       "    .dataframe thead th {\n",
       "        text-align: right;\n",
       "    }\n",
       "</style>\n",
       "<table border=\"1\" class=\"dataframe\">\n",
       "  <thead>\n",
       "    <tr style=\"text-align: right;\">\n",
       "      <th></th>\n",
       "      <th>RecordID</th>\n",
       "      <th>Offense</th>\n",
       "      <th>IncidentID</th>\n",
       "      <th>BlockNumber</th>\n",
       "      <th>StreetName</th>\n",
       "      <th>Agency</th>\n",
       "      <th>HourReported</th>\n",
       "      <th>ReportingOfficer</th>\n",
       "      <th>Date</th>\n",
       "      <th>DateString</th>\n",
       "      <th>DayOfWeek</th>\n",
       "      <th>Weekend</th>\n",
       "      <th>Season</th>\n",
       "      <th>HourAMPM</th>\n",
       "      <th>TimeOfDay</th>\n",
       "      <th>FullStreet</th>\n",
       "      <th>lat</th>\n",
       "      <th>lon</th>\n",
       "      <th>neighborhood</th>\n",
       "    </tr>\n",
       "  </thead>\n",
       "  <tbody>\n",
       "    <tr>\n",
       "      <th>0</th>\n",
       "      <td>1</td>\n",
       "      <td>Lost/FoundProperty</td>\n",
       "      <td>202500013685</td>\n",
       "      <td>600</td>\n",
       "      <td>E MARKET ST</td>\n",
       "      <td>CPD</td>\n",
       "      <td>1541</td>\n",
       "      <td>Schwartz, Honora</td>\n",
       "      <td>2025-04-26 15:41:35</td>\n",
       "      <td>2025-04-26 03:41:35 PM</td>\n",
       "      <td>Saturday</td>\n",
       "      <td>True</td>\n",
       "      <td>Spring</td>\n",
       "      <td>03:41 PM</td>\n",
       "      <td>Afternoon</td>\n",
       "      <td>600 E MARKET ST</td>\n",
       "      <td>38.030175</td>\n",
       "      <td>-78.477574</td>\n",
       "      <td>Downtown Mall</td>\n",
       "    </tr>\n",
       "    <tr>\n",
       "      <th>1</th>\n",
       "      <td>2</td>\n",
       "      <td>Weapons Violations</td>\n",
       "      <td>202500013681</td>\n",
       "      <td></td>\n",
       "      <td>HYDRAULIC RD @ 250 BYPASS W</td>\n",
       "      <td>CPD</td>\n",
       "      <td>1459</td>\n",
       "      <td>Abdelgayed, Adam</td>\n",
       "      <td>2025-04-26 14:59:08</td>\n",
       "      <td>2025-04-26 02:59:08 PM</td>\n",
       "      <td>Saturday</td>\n",
       "      <td>True</td>\n",
       "      <td>Spring</td>\n",
       "      <td>02:59 PM</td>\n",
       "      <td>Afternoon</td>\n",
       "      <td>HYDRAULIC RD @ 250 BYPASS W</td>\n",
       "      <td>38.056683</td>\n",
       "      <td>-78.489198</td>\n",
       "      <td>Barracks Rugby</td>\n",
       "    </tr>\n",
       "    <tr>\n",
       "      <th>2</th>\n",
       "      <td>3</td>\n",
       "      <td>Larceny - Shoplifitng</td>\n",
       "      <td>202500013668</td>\n",
       "      <td>500</td>\n",
       "      <td>W MAIN ST</td>\n",
       "      <td>CPD</td>\n",
       "      <td>1238</td>\n",
       "      <td>Khaleefa, Hamzeh</td>\n",
       "      <td>2025-04-26 12:38:35</td>\n",
       "      <td>2025-04-26 12:38:35 PM</td>\n",
       "      <td>Saturday</td>\n",
       "      <td>True</td>\n",
       "      <td>Spring</td>\n",
       "      <td>12:38 PM</td>\n",
       "      <td>Afternoon</td>\n",
       "      <td>500 W MAIN ST</td>\n",
       "      <td>38.030793</td>\n",
       "      <td>-78.487912</td>\n",
       "      <td>Starr Hill</td>\n",
       "    </tr>\n",
       "    <tr>\n",
       "      <th>3</th>\n",
       "      <td>4</td>\n",
       "      <td>Fraud-false pretense</td>\n",
       "      <td>202500013649</td>\n",
       "      <td>500</td>\n",
       "      <td>1ST ST S, 714</td>\n",
       "      <td>CPD</td>\n",
       "      <td>0804</td>\n",
       "      <td>Reed, Danielle</td>\n",
       "      <td>2025-04-26 08:04:00</td>\n",
       "      <td>2025-04-26 08:04:00 AM</td>\n",
       "      <td>Saturday</td>\n",
       "      <td>True</td>\n",
       "      <td>Spring</td>\n",
       "      <td>08:04 AM</td>\n",
       "      <td>Morning</td>\n",
       "      <td>500 1ST ST S, 714</td>\n",
       "      <td>38.026939</td>\n",
       "      <td>-78.483266</td>\n",
       "      <td>Ridge St.</td>\n",
       "    </tr>\n",
       "    <tr>\n",
       "      <th>4</th>\n",
       "      <td>5</td>\n",
       "      <td>Hit and Run</td>\n",
       "      <td>202500013591</td>\n",
       "      <td>500</td>\n",
       "      <td>MEADE AVE</td>\n",
       "      <td>CPD</td>\n",
       "      <td>2156</td>\n",
       "      <td>Crowley, Raeann</td>\n",
       "      <td>2025-04-25 21:56:56</td>\n",
       "      <td>2025-04-25 09:56:56 PM</td>\n",
       "      <td>Friday</td>\n",
       "      <td>False</td>\n",
       "      <td>Spring</td>\n",
       "      <td>09:56 PM</td>\n",
       "      <td>Night</td>\n",
       "      <td>500 MEADE AVE</td>\n",
       "      <td>38.030163</td>\n",
       "      <td>-78.464952</td>\n",
       "      <td>Martha Jefferson</td>\n",
       "    </tr>\n",
       "  </tbody>\n",
       "</table>\n",
       "</div>"
      ],
      "text/plain": [
       "   RecordID                Offense    IncidentID BlockNumber  \\\n",
       "0         1     Lost/FoundProperty  202500013685         600   \n",
       "1         2     Weapons Violations  202500013681               \n",
       "2         3  Larceny - Shoplifitng  202500013668         500   \n",
       "3         4   Fraud-false pretense  202500013649         500   \n",
       "4         5            Hit and Run  202500013591         500   \n",
       "\n",
       "                    StreetName Agency HourReported  ReportingOfficer  \\\n",
       "0                  E MARKET ST    CPD         1541  Schwartz, Honora   \n",
       "1  HYDRAULIC RD @ 250 BYPASS W    CPD         1459  Abdelgayed, Adam   \n",
       "2                    W MAIN ST    CPD         1238  Khaleefa, Hamzeh   \n",
       "3                1ST ST S, 714    CPD         0804    Reed, Danielle   \n",
       "4                    MEADE AVE    CPD         2156   Crowley, Raeann   \n",
       "\n",
       "                 Date              DateString DayOfWeek  Weekend  Season  \\\n",
       "0 2025-04-26 15:41:35  2025-04-26 03:41:35 PM  Saturday     True  Spring   \n",
       "1 2025-04-26 14:59:08  2025-04-26 02:59:08 PM  Saturday     True  Spring   \n",
       "2 2025-04-26 12:38:35  2025-04-26 12:38:35 PM  Saturday     True  Spring   \n",
       "3 2025-04-26 08:04:00  2025-04-26 08:04:00 AM  Saturday     True  Spring   \n",
       "4 2025-04-25 21:56:56  2025-04-25 09:56:56 PM    Friday    False  Spring   \n",
       "\n",
       "   HourAMPM  TimeOfDay                    FullStreet        lat        lon  \\\n",
       "0  03:41 PM  Afternoon               600 E MARKET ST  38.030175 -78.477574   \n",
       "1  02:59 PM  Afternoon   HYDRAULIC RD @ 250 BYPASS W  38.056683 -78.489198   \n",
       "2  12:38 PM  Afternoon                 500 W MAIN ST  38.030793 -78.487912   \n",
       "3  08:04 AM    Morning             500 1ST ST S, 714  38.026939 -78.483266   \n",
       "4  09:56 PM      Night                 500 MEADE AVE  38.030163 -78.464952   \n",
       "\n",
       "       neighborhood  \n",
       "0     Downtown Mall  \n",
       "1    Barracks Rugby  \n",
       "2        Starr Hill  \n",
       "3         Ridge St.  \n",
       "4  Martha Jefferson  "
      ]
     },
     "execution_count": 10,
     "metadata": {},
     "output_type": "execute_result"
    }
   ],
   "source": [
    "# Initialize the Google Maps client.\n",
    "gmaps = googlemaps.Client(key=GOOGLE_API_KEY)\n",
    "\n",
    "# Try to load a persistent neighborhood cache if available.\n",
    "try:\n",
    "    with open(\"neighborhood_cache.pkl\", \"rb\") as f:\n",
    "        neighborhood_cache = pickle.load(f)\n",
    "    print(\"Loaded neighborhood cache.\")\n",
    "except FileNotFoundError:\n",
    "    neighborhood_cache = {}\n",
    "    print(\"No neighborhood cache found; starting fresh.\")\n",
    "\n",
    "def get_neighborhood(lat, lon):\n",
    "    \"\"\"\n",
    "    Reverse geocodes a latitude and longitude to retrieve the neighborhood.\n",
    "    Caches results to speed up subsequent lookups.\n",
    "    \"\"\"\n",
    "    key = (lat, lon)\n",
    "    if key in neighborhood_cache:\n",
    "        return neighborhood_cache[key]\n",
    "    \n",
    "    try:\n",
    "        result = gmaps.reverse_geocode((lat, lon))\n",
    "        if result:\n",
    "            # Look for the 'neighborhood' component in the first result.\n",
    "            for component in result[0]['address_components']:\n",
    "                if 'neighborhood' in component['types']:\n",
    "                    neighborhood = component['long_name']\n",
    "                    neighborhood_cache[key] = neighborhood\n",
    "                    return neighborhood\n",
    "            # If no neighborhood is found, return \"N/A\"\n",
    "            neighborhood_cache[key] = \"N/A\"\n",
    "            return \"N/A\"\n",
    "    except Exception as e:\n",
    "        print(f\"Error getting neighborhood for {lat}, {lon}: {e}\")\n",
    "        return \"N/A\"\n",
    "    \n",
    "    # Pause to respect usage limits.\n",
    "    time.sleep(1)\n",
    "\n",
    "# Example usage: Apply to your DataFrame 'df' that already has 'lat' and 'lon' columns.\n",
    "df['neighborhood'] = df.apply(lambda row: get_neighborhood(row['lat'], row['lon']), axis=1)\n",
    "\n",
    "# Save the updated neighborhood cache.\n",
    "with open(\"neighborhood_cache.pkl\", \"wb\") as f:\n",
    "    pickle.dump(neighborhood_cache, f)\n",
    "\n",
    "df.head()\n"
   ]
  },
  {
   "cell_type": "markdown",
   "id": "7f8d35ba",
   "metadata": {
    "papermill": {
     "duration": 0.006505,
     "end_time": "2025-04-29T01:02:03.945641",
     "exception": false,
     "start_time": "2025-04-29T01:02:03.939136",
     "status": "completed"
    },
    "tags": []
   },
   "source": [
    "### Zip"
   ]
  },
  {
   "cell_type": "code",
   "execution_count": 11,
   "id": "0e99a60d",
   "metadata": {
    "execution": {
     "iopub.execute_input": "2025-04-29T01:02:03.959777Z",
     "iopub.status.busy": "2025-04-29T01:02:03.959266Z",
     "iopub.status.idle": "2025-04-29T01:02:04.208508Z",
     "shell.execute_reply": "2025-04-29T01:02:04.207910Z"
    },
    "papermill": {
     "duration": 0.257437,
     "end_time": "2025-04-29T01:02:04.209593",
     "exception": false,
     "start_time": "2025-04-29T01:02:03.952156",
     "status": "completed"
    },
    "tags": []
   },
   "outputs": [
    {
     "name": "stdout",
     "output_type": "stream",
     "text": [
      "Loaded zip cache.\n"
     ]
    },
    {
     "data": {
      "text/html": [
       "<div>\n",
       "<style scoped>\n",
       "    .dataframe tbody tr th:only-of-type {\n",
       "        vertical-align: middle;\n",
       "    }\n",
       "\n",
       "    .dataframe tbody tr th {\n",
       "        vertical-align: top;\n",
       "    }\n",
       "\n",
       "    .dataframe thead th {\n",
       "        text-align: right;\n",
       "    }\n",
       "</style>\n",
       "<table border=\"1\" class=\"dataframe\">\n",
       "  <thead>\n",
       "    <tr style=\"text-align: right;\">\n",
       "      <th></th>\n",
       "      <th>RecordID</th>\n",
       "      <th>Offense</th>\n",
       "      <th>IncidentID</th>\n",
       "      <th>BlockNumber</th>\n",
       "      <th>StreetName</th>\n",
       "      <th>Agency</th>\n",
       "      <th>HourReported</th>\n",
       "      <th>ReportingOfficer</th>\n",
       "      <th>Date</th>\n",
       "      <th>DateString</th>\n",
       "      <th>DayOfWeek</th>\n",
       "      <th>Weekend</th>\n",
       "      <th>Season</th>\n",
       "      <th>HourAMPM</th>\n",
       "      <th>TimeOfDay</th>\n",
       "      <th>FullStreet</th>\n",
       "      <th>lat</th>\n",
       "      <th>lon</th>\n",
       "      <th>neighborhood</th>\n",
       "      <th>zip</th>\n",
       "    </tr>\n",
       "  </thead>\n",
       "  <tbody>\n",
       "    <tr>\n",
       "      <th>0</th>\n",
       "      <td>1</td>\n",
       "      <td>Lost/FoundProperty</td>\n",
       "      <td>202500013685</td>\n",
       "      <td>600</td>\n",
       "      <td>E MARKET ST</td>\n",
       "      <td>CPD</td>\n",
       "      <td>1541</td>\n",
       "      <td>Schwartz, Honora</td>\n",
       "      <td>2025-04-26 15:41:35</td>\n",
       "      <td>2025-04-26 03:41:35 PM</td>\n",
       "      <td>Saturday</td>\n",
       "      <td>True</td>\n",
       "      <td>Spring</td>\n",
       "      <td>03:41 PM</td>\n",
       "      <td>Afternoon</td>\n",
       "      <td>600 E MARKET ST</td>\n",
       "      <td>38.030175</td>\n",
       "      <td>-78.477574</td>\n",
       "      <td>Downtown Mall</td>\n",
       "      <td>22902</td>\n",
       "    </tr>\n",
       "    <tr>\n",
       "      <th>1</th>\n",
       "      <td>2</td>\n",
       "      <td>Weapons Violations</td>\n",
       "      <td>202500013681</td>\n",
       "      <td></td>\n",
       "      <td>HYDRAULIC RD @ 250 BYPASS W</td>\n",
       "      <td>CPD</td>\n",
       "      <td>1459</td>\n",
       "      <td>Abdelgayed, Adam</td>\n",
       "      <td>2025-04-26 14:59:08</td>\n",
       "      <td>2025-04-26 02:59:08 PM</td>\n",
       "      <td>Saturday</td>\n",
       "      <td>True</td>\n",
       "      <td>Spring</td>\n",
       "      <td>02:59 PM</td>\n",
       "      <td>Afternoon</td>\n",
       "      <td>HYDRAULIC RD @ 250 BYPASS W</td>\n",
       "      <td>38.056683</td>\n",
       "      <td>-78.489198</td>\n",
       "      <td>Barracks Rugby</td>\n",
       "      <td>22901</td>\n",
       "    </tr>\n",
       "    <tr>\n",
       "      <th>2</th>\n",
       "      <td>3</td>\n",
       "      <td>Larceny - Shoplifitng</td>\n",
       "      <td>202500013668</td>\n",
       "      <td>500</td>\n",
       "      <td>W MAIN ST</td>\n",
       "      <td>CPD</td>\n",
       "      <td>1238</td>\n",
       "      <td>Khaleefa, Hamzeh</td>\n",
       "      <td>2025-04-26 12:38:35</td>\n",
       "      <td>2025-04-26 12:38:35 PM</td>\n",
       "      <td>Saturday</td>\n",
       "      <td>True</td>\n",
       "      <td>Spring</td>\n",
       "      <td>12:38 PM</td>\n",
       "      <td>Afternoon</td>\n",
       "      <td>500 W MAIN ST</td>\n",
       "      <td>38.030793</td>\n",
       "      <td>-78.487912</td>\n",
       "      <td>Starr Hill</td>\n",
       "      <td>22903</td>\n",
       "    </tr>\n",
       "    <tr>\n",
       "      <th>3</th>\n",
       "      <td>4</td>\n",
       "      <td>Fraud-false pretense</td>\n",
       "      <td>202500013649</td>\n",
       "      <td>500</td>\n",
       "      <td>1ST ST S, 714</td>\n",
       "      <td>CPD</td>\n",
       "      <td>0804</td>\n",
       "      <td>Reed, Danielle</td>\n",
       "      <td>2025-04-26 08:04:00</td>\n",
       "      <td>2025-04-26 08:04:00 AM</td>\n",
       "      <td>Saturday</td>\n",
       "      <td>True</td>\n",
       "      <td>Spring</td>\n",
       "      <td>08:04 AM</td>\n",
       "      <td>Morning</td>\n",
       "      <td>500 1ST ST S, 714</td>\n",
       "      <td>38.026939</td>\n",
       "      <td>-78.483266</td>\n",
       "      <td>Ridge St.</td>\n",
       "      <td>22903</td>\n",
       "    </tr>\n",
       "    <tr>\n",
       "      <th>4</th>\n",
       "      <td>5</td>\n",
       "      <td>Hit and Run</td>\n",
       "      <td>202500013591</td>\n",
       "      <td>500</td>\n",
       "      <td>MEADE AVE</td>\n",
       "      <td>CPD</td>\n",
       "      <td>2156</td>\n",
       "      <td>Crowley, Raeann</td>\n",
       "      <td>2025-04-25 21:56:56</td>\n",
       "      <td>2025-04-25 09:56:56 PM</td>\n",
       "      <td>Friday</td>\n",
       "      <td>False</td>\n",
       "      <td>Spring</td>\n",
       "      <td>09:56 PM</td>\n",
       "      <td>Night</td>\n",
       "      <td>500 MEADE AVE</td>\n",
       "      <td>38.030163</td>\n",
       "      <td>-78.464952</td>\n",
       "      <td>Martha Jefferson</td>\n",
       "      <td>22092</td>\n",
       "    </tr>\n",
       "  </tbody>\n",
       "</table>\n",
       "</div>"
      ],
      "text/plain": [
       "   RecordID                Offense    IncidentID BlockNumber  \\\n",
       "0         1     Lost/FoundProperty  202500013685         600   \n",
       "1         2     Weapons Violations  202500013681               \n",
       "2         3  Larceny - Shoplifitng  202500013668         500   \n",
       "3         4   Fraud-false pretense  202500013649         500   \n",
       "4         5            Hit and Run  202500013591         500   \n",
       "\n",
       "                    StreetName Agency HourReported  ReportingOfficer  \\\n",
       "0                  E MARKET ST    CPD         1541  Schwartz, Honora   \n",
       "1  HYDRAULIC RD @ 250 BYPASS W    CPD         1459  Abdelgayed, Adam   \n",
       "2                    W MAIN ST    CPD         1238  Khaleefa, Hamzeh   \n",
       "3                1ST ST S, 714    CPD         0804    Reed, Danielle   \n",
       "4                    MEADE AVE    CPD         2156   Crowley, Raeann   \n",
       "\n",
       "                 Date              DateString DayOfWeek  Weekend  Season  \\\n",
       "0 2025-04-26 15:41:35  2025-04-26 03:41:35 PM  Saturday     True  Spring   \n",
       "1 2025-04-26 14:59:08  2025-04-26 02:59:08 PM  Saturday     True  Spring   \n",
       "2 2025-04-26 12:38:35  2025-04-26 12:38:35 PM  Saturday     True  Spring   \n",
       "3 2025-04-26 08:04:00  2025-04-26 08:04:00 AM  Saturday     True  Spring   \n",
       "4 2025-04-25 21:56:56  2025-04-25 09:56:56 PM    Friday    False  Spring   \n",
       "\n",
       "   HourAMPM  TimeOfDay                    FullStreet        lat        lon  \\\n",
       "0  03:41 PM  Afternoon               600 E MARKET ST  38.030175 -78.477574   \n",
       "1  02:59 PM  Afternoon   HYDRAULIC RD @ 250 BYPASS W  38.056683 -78.489198   \n",
       "2  12:38 PM  Afternoon                 500 W MAIN ST  38.030793 -78.487912   \n",
       "3  08:04 AM    Morning             500 1ST ST S, 714  38.026939 -78.483266   \n",
       "4  09:56 PM      Night                 500 MEADE AVE  38.030163 -78.464952   \n",
       "\n",
       "       neighborhood    zip  \n",
       "0     Downtown Mall  22902  \n",
       "1    Barracks Rugby  22901  \n",
       "2        Starr Hill  22903  \n",
       "3         Ridge St.  22903  \n",
       "4  Martha Jefferson  22092  "
      ]
     },
     "execution_count": 11,
     "metadata": {},
     "output_type": "execute_result"
    }
   ],
   "source": [
    "# Initialize the geocoder.\n",
    "geolocator = Nominatim(user_agent=\"zip_lookup\")\n",
    "\n",
    "# Try to load a persistent ZIP cache if available.\n",
    "try:\n",
    "    with open(\"zip_cache.pkl\", \"rb\") as f:\n",
    "        zip_cache = pickle.load(f)\n",
    "    print(\"Loaded zip cache.\")\n",
    "except FileNotFoundError:\n",
    "    zip_cache = {}\n",
    "    print(\"No zip cache found; starting fresh.\")\n",
    "\n",
    "def get_zip(lat, lon):\n",
    "    \"\"\"\n",
    "    Reverse geocodes a latitude and longitude to retrieve the ZIP code.\n",
    "    Caches results to speed up subsequent lookups.\n",
    "    \"\"\"\n",
    "    key = (lat, lon)\n",
    "    if key in zip_cache:\n",
    "        return zip_cache[key]\n",
    "    \n",
    "    try:\n",
    "        location = geolocator.reverse((lat, lon), exactly_one=True, timeout=10)\n",
    "        address = location.raw.get('address', {})\n",
    "        postal_code = address.get('postcode', \"N/A\")\n",
    "    except Exception as e:\n",
    "        print(f\"Error getting ZIP for {lat}, {lon}: {e}\")\n",
    "        postal_code = \"N/A\"\n",
    "    \n",
    "    zip_cache[key] = postal_code\n",
    "    # Pause to respect the usage policy.\n",
    "    time.sleep(1)\n",
    "    return postal_code\n",
    "\n",
    "# Apply the function to each row in the DataFrame.\n",
    "df['zip'] = df.apply(lambda row: get_zip(row['lat'], row['lon']), axis=1)\n",
    "\n",
    "# Save the updated ZIP cache.\n",
    "with open(\"zip_cache.pkl\", \"wb\") as f:\n",
    "    pickle.dump(zip_cache, f)\n",
    "\n",
    "df.head()\n"
   ]
  },
  {
   "cell_type": "code",
   "execution_count": 12,
   "id": "27b034e4",
   "metadata": {
    "execution": {
     "iopub.execute_input": "2025-04-29T01:02:04.224725Z",
     "iopub.status.busy": "2025-04-29T01:02:04.224458Z",
     "iopub.status.idle": "2025-04-29T01:02:04.249799Z",
     "shell.execute_reply": "2025-04-29T01:02:04.249242Z"
    },
    "papermill": {
     "duration": 0.033991,
     "end_time": "2025-04-29T01:02:04.250826",
     "exception": false,
     "start_time": "2025-04-29T01:02:04.216835",
     "status": "completed"
    },
    "tags": []
   },
   "outputs": [
    {
     "name": "stdout",
     "output_type": "stream",
     "text": [
      "                  MissingCount  MissingPercentage\n",
      "RecordID                     0               0.00\n",
      "Offense                      0               0.00\n",
      "IncidentID                   0               0.00\n",
      "BlockNumber                  0               0.00\n",
      "StreetName                   0               0.00\n",
      "Agency                       0               0.00\n",
      "HourReported                 0               0.00\n",
      "ReportingOfficer            17               0.07\n",
      "Date                         0               0.00\n",
      "DateString                   0               0.00\n",
      "DayOfWeek                    0               0.00\n",
      "Weekend                      0               0.00\n",
      "Season                       0               0.00\n",
      "HourAMPM                     0               0.00\n",
      "TimeOfDay                    0               0.00\n",
      "FullStreet                   0               0.00\n",
      "lat                          0               0.00\n",
      "lon                          0               0.00\n",
      "neighborhood                 0               0.00\n",
      "zip                          0               0.00\n"
     ]
    }
   ],
   "source": [
    "missing_info = missing_percentage(df)\n",
    "print(missing_info)\n"
   ]
  },
  {
   "cell_type": "code",
   "execution_count": 13,
   "id": "81444453",
   "metadata": {
    "execution": {
     "iopub.execute_input": "2025-04-29T01:02:04.265710Z",
     "iopub.status.busy": "2025-04-29T01:02:04.265292Z",
     "iopub.status.idle": "2025-04-29T01:02:04.290527Z",
     "shell.execute_reply": "2025-04-29T01:02:04.289866Z"
    },
    "papermill": {
     "duration": 0.033809,
     "end_time": "2025-04-29T01:02:04.291595",
     "exception": false,
     "start_time": "2025-04-29T01:02:04.257786",
     "status": "completed"
    },
    "tags": []
   },
   "outputs": [
    {
     "name": "stdout",
     "output_type": "stream",
     "text": [
      "<class 'pandas.core.frame.DataFrame'>\n",
      "RangeIndex: 25270 entries, 0 to 25269\n",
      "Data columns (total 20 columns):\n",
      " #   Column            Non-Null Count  Dtype         \n",
      "---  ------            --------------  -----         \n",
      " 0   RecordID          25270 non-null  int64         \n",
      " 1   Offense           25270 non-null  object        \n",
      " 2   IncidentID        25270 non-null  object        \n",
      " 3   BlockNumber       25270 non-null  object        \n",
      " 4   StreetName        25270 non-null  object        \n",
      " 5   Agency            25270 non-null  object        \n",
      " 6   HourReported      25270 non-null  object        \n",
      " 7   ReportingOfficer  25253 non-null  object        \n",
      " 8   Date              25270 non-null  datetime64[ns]\n",
      " 9   DateString        25270 non-null  object        \n",
      " 10  DayOfWeek         25270 non-null  object        \n",
      " 11  Weekend           25270 non-null  bool          \n",
      " 12  Season            25270 non-null  object        \n",
      " 13  HourAMPM          25270 non-null  object        \n",
      " 14  TimeOfDay         25270 non-null  object        \n",
      " 15  FullStreet        25270 non-null  object        \n",
      " 16  lat               25270 non-null  float64       \n",
      " 17  lon               25270 non-null  float64       \n",
      " 18  neighborhood      25270 non-null  object        \n",
      " 19  zip               25270 non-null  object        \n",
      "dtypes: bool(1), datetime64[ns](1), float64(2), int64(1), object(15)\n",
      "memory usage: 3.7+ MB\n"
     ]
    }
   ],
   "source": [
    "df.info()"
   ]
  },
  {
   "cell_type": "code",
   "execution_count": 14,
   "id": "a495e24e",
   "metadata": {
    "execution": {
     "iopub.execute_input": "2025-04-29T01:02:04.306631Z",
     "iopub.status.busy": "2025-04-29T01:02:04.306186Z",
     "iopub.status.idle": "2025-04-29T01:02:04.347071Z",
     "shell.execute_reply": "2025-04-29T01:02:04.346401Z"
    },
    "papermill": {
     "duration": 0.049518,
     "end_time": "2025-04-29T01:02:04.348180",
     "exception": false,
     "start_time": "2025-04-29T01:02:04.298662",
     "status": "completed"
    },
    "tags": []
   },
   "outputs": [
    {
     "data": {
      "text/html": [
       "<div>\n",
       "<style scoped>\n",
       "    .dataframe tbody tr th:only-of-type {\n",
       "        vertical-align: middle;\n",
       "    }\n",
       "\n",
       "    .dataframe tbody tr th {\n",
       "        vertical-align: top;\n",
       "    }\n",
       "\n",
       "    .dataframe thead th {\n",
       "        text-align: right;\n",
       "    }\n",
       "</style>\n",
       "<table border=\"1\" class=\"dataframe\">\n",
       "  <thead>\n",
       "    <tr style=\"text-align: right;\">\n",
       "      <th></th>\n",
       "      <th>RecordID</th>\n",
       "      <th>Offense</th>\n",
       "      <th>IncidentID</th>\n",
       "      <th>Agency</th>\n",
       "      <th>ReportingOfficer</th>\n",
       "      <th>Date</th>\n",
       "      <th>DayOfWeek</th>\n",
       "      <th>Weekend</th>\n",
       "      <th>Season</th>\n",
       "      <th>TimeOfDay</th>\n",
       "      <th>FullStreet</th>\n",
       "      <th>lat</th>\n",
       "      <th>lon</th>\n",
       "      <th>neighborhood</th>\n",
       "      <th>zip</th>\n",
       "    </tr>\n",
       "  </thead>\n",
       "  <tbody>\n",
       "    <tr>\n",
       "      <th>0</th>\n",
       "      <td>1</td>\n",
       "      <td>Lost/FoundProperty</td>\n",
       "      <td>202500013685</td>\n",
       "      <td>CPD</td>\n",
       "      <td>Schwartz, Honora</td>\n",
       "      <td>2025-04-26 15:41:35</td>\n",
       "      <td>Saturday</td>\n",
       "      <td>True</td>\n",
       "      <td>Spring</td>\n",
       "      <td>Afternoon</td>\n",
       "      <td>600 E MARKET ST</td>\n",
       "      <td>38.030175</td>\n",
       "      <td>-78.477574</td>\n",
       "      <td>Downtown Mall</td>\n",
       "      <td>22902</td>\n",
       "    </tr>\n",
       "    <tr>\n",
       "      <th>1</th>\n",
       "      <td>2</td>\n",
       "      <td>Weapons Violations</td>\n",
       "      <td>202500013681</td>\n",
       "      <td>CPD</td>\n",
       "      <td>Abdelgayed, Adam</td>\n",
       "      <td>2025-04-26 14:59:08</td>\n",
       "      <td>Saturday</td>\n",
       "      <td>True</td>\n",
       "      <td>Spring</td>\n",
       "      <td>Afternoon</td>\n",
       "      <td>HYDRAULIC RD @ 250 BYPASS W</td>\n",
       "      <td>38.056683</td>\n",
       "      <td>-78.489198</td>\n",
       "      <td>Barracks Rugby</td>\n",
       "      <td>22901</td>\n",
       "    </tr>\n",
       "    <tr>\n",
       "      <th>2</th>\n",
       "      <td>3</td>\n",
       "      <td>Larceny - Shoplifitng</td>\n",
       "      <td>202500013668</td>\n",
       "      <td>CPD</td>\n",
       "      <td>Khaleefa, Hamzeh</td>\n",
       "      <td>2025-04-26 12:38:35</td>\n",
       "      <td>Saturday</td>\n",
       "      <td>True</td>\n",
       "      <td>Spring</td>\n",
       "      <td>Afternoon</td>\n",
       "      <td>500 W MAIN ST</td>\n",
       "      <td>38.030793</td>\n",
       "      <td>-78.487912</td>\n",
       "      <td>Starr Hill</td>\n",
       "      <td>22903</td>\n",
       "    </tr>\n",
       "    <tr>\n",
       "      <th>3</th>\n",
       "      <td>4</td>\n",
       "      <td>Fraud-false pretense</td>\n",
       "      <td>202500013649</td>\n",
       "      <td>CPD</td>\n",
       "      <td>Reed, Danielle</td>\n",
       "      <td>2025-04-26 08:04:00</td>\n",
       "      <td>Saturday</td>\n",
       "      <td>True</td>\n",
       "      <td>Spring</td>\n",
       "      <td>Morning</td>\n",
       "      <td>500 1ST ST S, 714</td>\n",
       "      <td>38.026939</td>\n",
       "      <td>-78.483266</td>\n",
       "      <td>Ridge St.</td>\n",
       "      <td>22903</td>\n",
       "    </tr>\n",
       "    <tr>\n",
       "      <th>4</th>\n",
       "      <td>5</td>\n",
       "      <td>Hit and Run</td>\n",
       "      <td>202500013591</td>\n",
       "      <td>CPD</td>\n",
       "      <td>Crowley, Raeann</td>\n",
       "      <td>2025-04-25 21:56:56</td>\n",
       "      <td>Friday</td>\n",
       "      <td>False</td>\n",
       "      <td>Spring</td>\n",
       "      <td>Night</td>\n",
       "      <td>500 MEADE AVE</td>\n",
       "      <td>38.030163</td>\n",
       "      <td>-78.464952</td>\n",
       "      <td>Martha Jefferson</td>\n",
       "      <td>22092</td>\n",
       "    </tr>\n",
       "  </tbody>\n",
       "</table>\n",
       "</div>"
      ],
      "text/plain": [
       "   RecordID                Offense    IncidentID Agency  ReportingOfficer  \\\n",
       "0         1     Lost/FoundProperty  202500013685    CPD  Schwartz, Honora   \n",
       "1         2     Weapons Violations  202500013681    CPD  Abdelgayed, Adam   \n",
       "2         3  Larceny - Shoplifitng  202500013668    CPD  Khaleefa, Hamzeh   \n",
       "3         4   Fraud-false pretense  202500013649    CPD    Reed, Danielle   \n",
       "4         5            Hit and Run  202500013591    CPD   Crowley, Raeann   \n",
       "\n",
       "                 Date DayOfWeek  Weekend  Season  TimeOfDay  \\\n",
       "0 2025-04-26 15:41:35  Saturday     True  Spring  Afternoon   \n",
       "1 2025-04-26 14:59:08  Saturday     True  Spring  Afternoon   \n",
       "2 2025-04-26 12:38:35  Saturday     True  Spring  Afternoon   \n",
       "3 2025-04-26 08:04:00  Saturday     True  Spring    Morning   \n",
       "4 2025-04-25 21:56:56    Friday    False  Spring      Night   \n",
       "\n",
       "                     FullStreet        lat        lon      neighborhood    zip  \n",
       "0               600 E MARKET ST  38.030175 -78.477574     Downtown Mall  22902  \n",
       "1   HYDRAULIC RD @ 250 BYPASS W  38.056683 -78.489198    Barracks Rugby  22901  \n",
       "2                 500 W MAIN ST  38.030793 -78.487912        Starr Hill  22903  \n",
       "3             500 1ST ST S, 714  38.026939 -78.483266         Ridge St.  22903  \n",
       "4                 500 MEADE AVE  38.030163 -78.464952  Martha Jefferson  22092  "
      ]
     },
     "execution_count": 14,
     "metadata": {},
     "output_type": "execute_result"
    }
   ],
   "source": [
    "# Now drop the original BlockNumber and StreetName columns\n",
    "df.drop(columns=['BlockNumber', 'StreetName','HourAMPM','HourReported','DateString'], inplace=True)\n",
    "df[\"zip\"] = df[\"zip\"].astype(str)\n",
    "\n",
    "# Fill all missing values in the DataFrame with \"N/A\"\n",
    "df.replace({None: \"N/A\", np.nan: \"N/A\", \"\": \"N/A\"}, inplace=True)\n",
    "df.head()"
   ]
  },
  {
   "cell_type": "code",
   "execution_count": 15,
   "id": "816d4cd4",
   "metadata": {
    "execution": {
     "iopub.execute_input": "2025-04-29T01:02:04.364056Z",
     "iopub.status.busy": "2025-04-29T01:02:04.363589Z",
     "iopub.status.idle": "2025-04-29T01:02:04.378329Z",
     "shell.execute_reply": "2025-04-29T01:02:04.377780Z"
    },
    "papermill": {
     "duration": 0.023589,
     "end_time": "2025-04-29T01:02:04.379371",
     "exception": false,
     "start_time": "2025-04-29T01:02:04.355782",
     "status": "completed"
    },
    "tags": []
   },
   "outputs": [
    {
     "name": "stdout",
     "output_type": "stream",
     "text": [
      "                  MissingCount  MissingPercentage\n",
      "RecordID                     0                0.0\n",
      "Offense                      0                0.0\n",
      "IncidentID                   0                0.0\n",
      "Agency                       0                0.0\n",
      "ReportingOfficer             0                0.0\n",
      "Date                         0                0.0\n",
      "DayOfWeek                    0                0.0\n",
      "Weekend                      0                0.0\n",
      "Season                       0                0.0\n",
      "TimeOfDay                    0                0.0\n",
      "FullStreet                   0                0.0\n",
      "lat                          0                0.0\n",
      "lon                          0                0.0\n",
      "neighborhood                 0                0.0\n",
      "zip                          0                0.0\n"
     ]
    }
   ],
   "source": [
    "missing_info = missing_percentage(df)\n",
    "print(missing_info)"
   ]
  },
  {
   "cell_type": "code",
   "execution_count": 16,
   "id": "ce89eb83",
   "metadata": {
    "execution": {
     "iopub.execute_input": "2025-04-29T01:02:04.394590Z",
     "iopub.status.busy": "2025-04-29T01:02:04.394348Z",
     "iopub.status.idle": "2025-04-29T01:02:04.398921Z",
     "shell.execute_reply": "2025-04-29T01:02:04.398384Z"
    },
    "papermill": {
     "duration": 0.013316,
     "end_time": "2025-04-29T01:02:04.399939",
     "exception": false,
     "start_time": "2025-04-29T01:02:04.386623",
     "status": "completed"
    },
    "tags": []
   },
   "outputs": [
    {
     "data": {
      "text/plain": [
       "Index(['RecordID', 'Offense', 'IncidentID', 'Agency', 'ReportingOfficer',\n",
       "       'Date', 'DayOfWeek', 'Weekend', 'Season', 'TimeOfDay', 'FullStreet',\n",
       "       'lat', 'lon', 'neighborhood', 'zip'],\n",
       "      dtype='object')"
      ]
     },
     "execution_count": 16,
     "metadata": {},
     "output_type": "execute_result"
    }
   ],
   "source": [
    "df.columns"
   ]
  },
  {
   "cell_type": "code",
   "execution_count": 17,
   "id": "d9c3348f",
   "metadata": {
    "execution": {
     "iopub.execute_input": "2025-04-29T01:02:04.415851Z",
     "iopub.status.busy": "2025-04-29T01:02:04.415411Z",
     "iopub.status.idle": "2025-04-29T01:02:04.431303Z",
     "shell.execute_reply": "2025-04-29T01:02:04.430661Z"
    },
    "papermill": {
     "duration": 0.024822,
     "end_time": "2025-04-29T01:02:04.432281",
     "exception": false,
     "start_time": "2025-04-29T01:02:04.407459",
     "status": "completed"
    },
    "tags": []
   },
   "outputs": [
    {
     "name": "stdout",
     "output_type": "stream",
     "text": [
      "<class 'pandas.core.frame.DataFrame'>\n",
      "RangeIndex: 25270 entries, 0 to 25269\n",
      "Data columns (total 15 columns):\n",
      " #   Column            Non-Null Count  Dtype         \n",
      "---  ------            --------------  -----         \n",
      " 0   RecordID          25270 non-null  int64         \n",
      " 1   Offense           25270 non-null  object        \n",
      " 2   IncidentID        25270 non-null  object        \n",
      " 3   Agency            25270 non-null  object        \n",
      " 4   ReportingOfficer  25270 non-null  object        \n",
      " 5   Date              25270 non-null  datetime64[ns]\n",
      " 6   DayOfWeek         25270 non-null  object        \n",
      " 7   Weekend           25270 non-null  bool          \n",
      " 8   Season            25270 non-null  object        \n",
      " 9   TimeOfDay         25270 non-null  object        \n",
      " 10  FullStreet        25270 non-null  object        \n",
      " 11  lat               25270 non-null  float64       \n",
      " 12  lon               25270 non-null  float64       \n",
      " 13  neighborhood      25270 non-null  object        \n",
      " 14  zip               25270 non-null  object        \n",
      "dtypes: bool(1), datetime64[ns](1), float64(2), int64(1), object(10)\n",
      "memory usage: 2.7+ MB\n"
     ]
    }
   ],
   "source": [
    "df.info()"
   ]
  },
  {
   "cell_type": "markdown",
   "id": "e6b11c9c",
   "metadata": {
    "papermill": {
     "duration": 0.007328,
     "end_time": "2025-04-29T01:02:04.447138",
     "exception": false,
     "start_time": "2025-04-29T01:02:04.439810",
     "status": "completed"
    },
    "tags": []
   },
   "source": [
    "### Export Clean Data"
   ]
  },
  {
   "cell_type": "code",
   "execution_count": 18,
   "id": "214b358e",
   "metadata": {
    "execution": {
     "iopub.execute_input": "2025-04-29T01:02:04.462767Z",
     "iopub.status.busy": "2025-04-29T01:02:04.462525Z",
     "iopub.status.idle": "2025-04-29T01:02:13.592602Z",
     "shell.execute_reply": "2025-04-29T01:02:13.591920Z"
    },
    "papermill": {
     "duration": 9.139091,
     "end_time": "2025-04-29T01:02:13.593650",
     "exception": false,
     "start_time": "2025-04-29T01:02:04.454559",
     "status": "completed"
    },
    "tags": []
   },
   "outputs": [
    {
     "name": "stdout",
     "output_type": "stream",
     "text": [
      "Project Root: /home/runner/work/crime-data/crime-data\n"
     ]
    },
    {
     "name": "stdout",
     "output_type": "stream",
     "text": [
      "Data saved to: /home/runner/work/crime-data/crime-data/data/charlottesville_crime_incidents.csv\n"
     ]
    },
    {
     "name": "stdout",
     "output_type": "stream",
     "text": [
      "Excel saved to: /home/runner/work/crime-data/crime-data/data/charlottesville_crime_incidents.xlsx\n"
     ]
    }
   ],
   "source": [
    "# Determine the project root (assuming papermill is run from the repository root)\n",
    "project_root = os.getcwd()\n",
    "print(\"Project Root:\", project_root)\n",
    "\n",
    "# Set the data directory within the project root\n",
    "data_dir = os.path.join(project_root, \"data\")\n",
    "\n",
    "# Ensure the \"data\" directory exists (create it if it doesn't)\n",
    "if not os.path.exists(data_dir):\n",
    "    os.makedirs(data_dir)\n",
    "\n",
    "# Export the DataFrame to CSV in the \"data\" folder located in the project root\n",
    "csv_path = os.path.join(data_dir, \"charlottesville_crime_incidents.csv\")\n",
    "df.to_csv(csv_path, index=False)\n",
    "print(\"Data saved to:\", csv_path)\n",
    "\n",
    "# Construct the path to your Excel file\n",
    "excel_path = os.path.join(data_dir, \"charlottesville_crime_incidents.xlsx\")\n",
    "\n",
    "# Export the DataFrame to Excel\n",
    "df.to_excel(excel_path, index=False)\n",
    "print(\"Excel saved to:\", excel_path)\n"
   ]
  },
  {
   "cell_type": "markdown",
   "id": "195b942a",
   "metadata": {
    "papermill": {
     "duration": 0.014398,
     "end_time": "2025-04-29T01:02:13.616109",
     "exception": false,
     "start_time": "2025-04-29T01:02:13.601711",
     "status": "completed"
    },
    "tags": []
   },
   "source": [
    "## Predictive Analytics"
   ]
  },
  {
   "cell_type": "code",
   "execution_count": 19,
   "id": "783e9241",
   "metadata": {
    "execution": {
     "iopub.execute_input": "2025-04-29T01:02:13.632443Z",
     "iopub.status.busy": "2025-04-29T01:02:13.632000Z",
     "iopub.status.idle": "2025-04-29T01:02:13.643651Z",
     "shell.execute_reply": "2025-04-29T01:02:13.643152Z"
    },
    "papermill": {
     "duration": 0.020798,
     "end_time": "2025-04-29T01:02:13.644582",
     "exception": false,
     "start_time": "2025-04-29T01:02:13.623784",
     "status": "completed"
    },
    "tags": []
   },
   "outputs": [
    {
     "data": {
      "text/html": [
       "<div>\n",
       "<style scoped>\n",
       "    .dataframe tbody tr th:only-of-type {\n",
       "        vertical-align: middle;\n",
       "    }\n",
       "\n",
       "    .dataframe tbody tr th {\n",
       "        vertical-align: top;\n",
       "    }\n",
       "\n",
       "    .dataframe thead th {\n",
       "        text-align: right;\n",
       "    }\n",
       "</style>\n",
       "<table border=\"1\" class=\"dataframe\">\n",
       "  <thead>\n",
       "    <tr style=\"text-align: right;\">\n",
       "      <th></th>\n",
       "      <th>RecordID</th>\n",
       "      <th>Offense</th>\n",
       "      <th>IncidentID</th>\n",
       "      <th>Agency</th>\n",
       "      <th>ReportingOfficer</th>\n",
       "      <th>Date</th>\n",
       "      <th>DayOfWeek</th>\n",
       "      <th>Weekend</th>\n",
       "      <th>Season</th>\n",
       "      <th>TimeOfDay</th>\n",
       "      <th>FullStreet</th>\n",
       "      <th>lat</th>\n",
       "      <th>lon</th>\n",
       "      <th>neighborhood</th>\n",
       "      <th>zip</th>\n",
       "    </tr>\n",
       "  </thead>\n",
       "  <tbody>\n",
       "    <tr>\n",
       "      <th>0</th>\n",
       "      <td>1</td>\n",
       "      <td>Lost/FoundProperty</td>\n",
       "      <td>202500013685</td>\n",
       "      <td>CPD</td>\n",
       "      <td>Schwartz, Honora</td>\n",
       "      <td>2025-04-26 15:41:35</td>\n",
       "      <td>Saturday</td>\n",
       "      <td>True</td>\n",
       "      <td>Spring</td>\n",
       "      <td>Afternoon</td>\n",
       "      <td>600 E MARKET ST</td>\n",
       "      <td>38.030175</td>\n",
       "      <td>-78.477574</td>\n",
       "      <td>Downtown Mall</td>\n",
       "      <td>22902</td>\n",
       "    </tr>\n",
       "    <tr>\n",
       "      <th>1</th>\n",
       "      <td>2</td>\n",
       "      <td>Weapons Violations</td>\n",
       "      <td>202500013681</td>\n",
       "      <td>CPD</td>\n",
       "      <td>Abdelgayed, Adam</td>\n",
       "      <td>2025-04-26 14:59:08</td>\n",
       "      <td>Saturday</td>\n",
       "      <td>True</td>\n",
       "      <td>Spring</td>\n",
       "      <td>Afternoon</td>\n",
       "      <td>HYDRAULIC RD @ 250 BYPASS W</td>\n",
       "      <td>38.056683</td>\n",
       "      <td>-78.489198</td>\n",
       "      <td>Barracks Rugby</td>\n",
       "      <td>22901</td>\n",
       "    </tr>\n",
       "    <tr>\n",
       "      <th>2</th>\n",
       "      <td>3</td>\n",
       "      <td>Larceny - Shoplifitng</td>\n",
       "      <td>202500013668</td>\n",
       "      <td>CPD</td>\n",
       "      <td>Khaleefa, Hamzeh</td>\n",
       "      <td>2025-04-26 12:38:35</td>\n",
       "      <td>Saturday</td>\n",
       "      <td>True</td>\n",
       "      <td>Spring</td>\n",
       "      <td>Afternoon</td>\n",
       "      <td>500 W MAIN ST</td>\n",
       "      <td>38.030793</td>\n",
       "      <td>-78.487912</td>\n",
       "      <td>Starr Hill</td>\n",
       "      <td>22903</td>\n",
       "    </tr>\n",
       "    <tr>\n",
       "      <th>3</th>\n",
       "      <td>4</td>\n",
       "      <td>Fraud-false pretense</td>\n",
       "      <td>202500013649</td>\n",
       "      <td>CPD</td>\n",
       "      <td>Reed, Danielle</td>\n",
       "      <td>2025-04-26 08:04:00</td>\n",
       "      <td>Saturday</td>\n",
       "      <td>True</td>\n",
       "      <td>Spring</td>\n",
       "      <td>Morning</td>\n",
       "      <td>500 1ST ST S, 714</td>\n",
       "      <td>38.026939</td>\n",
       "      <td>-78.483266</td>\n",
       "      <td>Ridge St.</td>\n",
       "      <td>22903</td>\n",
       "    </tr>\n",
       "    <tr>\n",
       "      <th>4</th>\n",
       "      <td>5</td>\n",
       "      <td>Hit and Run</td>\n",
       "      <td>202500013591</td>\n",
       "      <td>CPD</td>\n",
       "      <td>Crowley, Raeann</td>\n",
       "      <td>2025-04-25 21:56:56</td>\n",
       "      <td>Friday</td>\n",
       "      <td>False</td>\n",
       "      <td>Spring</td>\n",
       "      <td>Night</td>\n",
       "      <td>500 MEADE AVE</td>\n",
       "      <td>38.030163</td>\n",
       "      <td>-78.464952</td>\n",
       "      <td>Martha Jefferson</td>\n",
       "      <td>22092</td>\n",
       "    </tr>\n",
       "  </tbody>\n",
       "</table>\n",
       "</div>"
      ],
      "text/plain": [
       "   RecordID                Offense    IncidentID Agency  ReportingOfficer  \\\n",
       "0         1     Lost/FoundProperty  202500013685    CPD  Schwartz, Honora   \n",
       "1         2     Weapons Violations  202500013681    CPD  Abdelgayed, Adam   \n",
       "2         3  Larceny - Shoplifitng  202500013668    CPD  Khaleefa, Hamzeh   \n",
       "3         4   Fraud-false pretense  202500013649    CPD    Reed, Danielle   \n",
       "4         5            Hit and Run  202500013591    CPD   Crowley, Raeann   \n",
       "\n",
       "                 Date DayOfWeek  Weekend  Season  TimeOfDay  \\\n",
       "0 2025-04-26 15:41:35  Saturday     True  Spring  Afternoon   \n",
       "1 2025-04-26 14:59:08  Saturday     True  Spring  Afternoon   \n",
       "2 2025-04-26 12:38:35  Saturday     True  Spring  Afternoon   \n",
       "3 2025-04-26 08:04:00  Saturday     True  Spring    Morning   \n",
       "4 2025-04-25 21:56:56    Friday    False  Spring      Night   \n",
       "\n",
       "                     FullStreet        lat        lon      neighborhood    zip  \n",
       "0               600 E MARKET ST  38.030175 -78.477574     Downtown Mall  22902  \n",
       "1   HYDRAULIC RD @ 250 BYPASS W  38.056683 -78.489198    Barracks Rugby  22901  \n",
       "2                 500 W MAIN ST  38.030793 -78.487912        Starr Hill  22903  \n",
       "3             500 1ST ST S, 714  38.026939 -78.483266         Ridge St.  22903  \n",
       "4                 500 MEADE AVE  38.030163 -78.464952  Martha Jefferson  22092  "
      ]
     },
     "execution_count": 19,
     "metadata": {},
     "output_type": "execute_result"
    }
   ],
   "source": [
    "df.head()"
   ]
  },
  {
   "cell_type": "code",
   "execution_count": 20,
   "id": "d9f2b098",
   "metadata": {
    "execution": {
     "iopub.execute_input": "2025-04-29T01:02:13.661106Z",
     "iopub.status.busy": "2025-04-29T01:02:13.660661Z",
     "iopub.status.idle": "2025-04-29T01:02:13.664990Z",
     "shell.execute_reply": "2025-04-29T01:02:13.664387Z"
    },
    "papermill": {
     "duration": 0.013711,
     "end_time": "2025-04-29T01:02:13.666110",
     "exception": false,
     "start_time": "2025-04-29T01:02:13.652399",
     "status": "completed"
    },
    "tags": []
   },
   "outputs": [
    {
     "data": {
      "text/plain": [
       "Index(['RecordID', 'Offense', 'IncidentID', 'Agency', 'ReportingOfficer',\n",
       "       'Date', 'DayOfWeek', 'Weekend', 'Season', 'TimeOfDay', 'FullStreet',\n",
       "       'lat', 'lon', 'neighborhood', 'zip'],\n",
       "      dtype='object')"
      ]
     },
     "execution_count": 20,
     "metadata": {},
     "output_type": "execute_result"
    }
   ],
   "source": [
    "df.columns"
   ]
  },
  {
   "cell_type": "markdown",
   "id": "90814e91",
   "metadata": {
    "papermill": {
     "duration": 0.007769,
     "end_time": "2025-04-29T01:02:13.681836",
     "exception": false,
     "start_time": "2025-04-29T01:02:13.674067",
     "status": "completed"
    },
    "tags": []
   },
   "source": [
    "### Data Preparation\n",
    "\n",
    "We need to ensure the data is in the correct format for modeling and can handle missing values, categorical variables, and dates. Here's how to prepare your data:"
   ]
  },
  {
   "cell_type": "code",
   "execution_count": 21,
   "id": "7852d86d",
   "metadata": {
    "execution": {
     "iopub.execute_input": "2025-04-29T01:02:13.698492Z",
     "iopub.status.busy": "2025-04-29T01:02:13.698308Z",
     "iopub.status.idle": "2025-04-29T01:02:16.612522Z",
     "shell.execute_reply": "2025-04-29T01:02:16.611763Z"
    },
    "papermill": {
     "duration": 2.924116,
     "end_time": "2025-04-29T01:02:16.613854",
     "exception": false,
     "start_time": "2025-04-29T01:02:13.689738",
     "status": "completed"
    },
    "tags": []
   },
   "outputs": [],
   "source": [
    "import pandas as pd\n",
    "from sklearn.model_selection import train_test_split\n",
    "from sklearn.preprocessing import OneHotEncoder, LabelEncoder\n",
    "from sklearn.ensemble import RandomForestClassifier\n",
    "from sklearn.linear_model import LogisticRegression\n",
    "from sklearn.tree import DecisionTreeClassifier\n",
    "from sklearn.metrics import classification_report, accuracy_score\n",
    "import seaborn as sns\n",
    "import matplotlib.pyplot as plt\n",
    "\n",
    "# Convert 'Date' to datetime\n",
    "df['Date'] = pd.to_datetime(df['Date'])\n",
    "\n",
    "# Feature engineering: Extract additional time-based features\n",
    "df['Year'] = df['Date'].dt.year\n",
    "df['Month'] = df['Date'].dt.month\n",
    "df['DayOfMonth'] = df['Date'].dt.day\n",
    "\n",
    "# One-hot encoding for 'FullStreet', 'neighborhood', 'zip'\n",
    "df = pd.get_dummies(df, columns=['FullStreet', 'neighborhood', 'zip'], drop_first=True)\n",
    "\n",
    "# Label encoding for ordered variables (those with a natural order like 'DayOfWeek', 'Season', 'TimeOfDay')\n",
    "label_encoders = {}\n",
    "for column in ['DayOfWeek', 'Season', 'TimeOfDay', 'Agency', 'ReportingOfficer']:  # Example ordinal variables\n",
    "    le = LabelEncoder()\n",
    "    df[column] = le.fit_transform(df[column])\n",
    "    label_encoders[column] = le\n",
    "\n",
    "# Filter the dataset to include only the offenses of interest\n",
    "offenses_of_interest = [\n",
    "    'Hit and Run', 'Assault Simple', 'Suspicious Activity', 'Vandalism', \n",
    "    'Larceny - From Mot Vehicle', 'Larceny - All Other', \n",
    "    'Assist Citizen - Mental/TDO/ECO', 'Lost/FoundProperty'\n",
    "]\n",
    "\n",
    "df = df[df['Offense'].isin(offenses_of_interest)]\n",
    "\n",
    "# Label encode the target variable (Offense)\n",
    "offense_encoder = LabelEncoder()\n",
    "df['Offense'] = offense_encoder.fit_transform(df['Offense'])\n",
    "\n",
    "# Separate features (X) and target (y)\n",
    "X = df[['Year', 'Month', 'DayOfMonth', 'DayOfWeek', 'Weekend', 'Season', 'TimeOfDay', 'lat', 'lon', 'Agency', 'ReportingOfficer']]\n",
    "y = df['Offense']  # Offense is now the encoded target variable\n",
    "\n",
    "# Split the data into training and testing sets\n",
    "X_train, X_test, y_train, y_test = train_test_split(X, y, test_size=0.3, random_state=42)\n"
   ]
  },
  {
   "cell_type": "markdown",
   "id": "168258e1",
   "metadata": {
    "papermill": {
     "duration": 0.008117,
     "end_time": "2025-04-29T01:02:16.630334",
     "exception": false,
     "start_time": "2025-04-29T01:02:16.622217",
     "status": "completed"
    },
    "tags": []
   },
   "source": [
    "### Model Training\n",
    "\n",
    "Here we will train several models (e.g., Random Forest, Logistic Regression, and Decision Tree). We will use cross-validation to choose the best model based on accuracy, and then explain the impact of the variables."
   ]
  },
  {
   "cell_type": "code",
   "execution_count": 22,
   "id": "1696affc",
   "metadata": {
    "execution": {
     "iopub.execute_input": "2025-04-29T01:02:16.647483Z",
     "iopub.status.busy": "2025-04-29T01:02:16.646890Z",
     "iopub.status.idle": "2025-04-29T01:02:20.178477Z",
     "shell.execute_reply": "2025-04-29T01:02:20.177798Z"
    },
    "papermill": {
     "duration": 3.541344,
     "end_time": "2025-04-29T01:02:20.179573",
     "exception": false,
     "start_time": "2025-04-29T01:02:16.638229",
     "status": "completed"
    },
    "tags": []
   },
   "outputs": [
    {
     "name": "stderr",
     "output_type": "stream",
     "text": [
      "/opt/hostedtoolcache/Python/3.9.22/x64/lib/python3.9/site-packages/sklearn/linear_model/_logistic.py:465: ConvergenceWarning: lbfgs failed to converge (status=1):\n",
      "STOP: TOTAL NO. of ITERATIONS REACHED LIMIT.\n",
      "\n",
      "Increase the number of iterations (max_iter) or scale the data as shown in:\n",
      "    https://scikit-learn.org/stable/modules/preprocessing.html\n",
      "Please also refer to the documentation for alternative solver options:\n",
      "    https://scikit-learn.org/stable/modules/linear_model.html#logistic-regression\n",
      "  n_iter_i = _check_optimize_result(\n",
      "/opt/hostedtoolcache/Python/3.9.22/x64/lib/python3.9/site-packages/sklearn/metrics/_classification.py:1565: UndefinedMetricWarning: Precision is ill-defined and being set to 0.0 in labels with no predicted samples. Use `zero_division` parameter to control this behavior.\n",
      "  _warn_prf(average, modifier, f\"{metric.capitalize()} is\", len(result))\n",
      "/opt/hostedtoolcache/Python/3.9.22/x64/lib/python3.9/site-packages/sklearn/metrics/_classification.py:1565: UndefinedMetricWarning: Precision is ill-defined and being set to 0.0 in labels with no predicted samples. Use `zero_division` parameter to control this behavior.\n",
      "  _warn_prf(average, modifier, f\"{metric.capitalize()} is\", len(result))\n",
      "/opt/hostedtoolcache/Python/3.9.22/x64/lib/python3.9/site-packages/sklearn/metrics/_classification.py:1565: UndefinedMetricWarning: Precision is ill-defined and being set to 0.0 in labels with no predicted samples. Use `zero_division` parameter to control this behavior.\n",
      "  _warn_prf(average, modifier, f\"{metric.capitalize()} is\", len(result))\n"
     ]
    },
    {
     "name": "stdout",
     "output_type": "stream",
     "text": [
      "\n",
      "Classification Report for All Models:\n",
      "\n",
      "Model: RandomForest\n",
      "Accuracy: 0.2785\n",
      "              precision    recall  f1-score      support\n",
      "0              0.274457  0.334437  0.301493   604.000000\n",
      "1              0.297935  0.245146  0.268975   412.000000\n",
      "2              0.309771  0.454962  0.368584   655.000000\n",
      "3              0.223881  0.159915  0.186567   469.000000\n",
      "4              0.329317  0.240469  0.277966   341.000000\n",
      "5              0.216450  0.199601  0.207684   501.000000\n",
      "6              0.280519  0.222222  0.247991   486.000000\n",
      "accuracy       0.278547  0.278547  0.278547     0.278547\n",
      "macro avg      0.276047  0.265250  0.265608  3468.000000\n",
      "weighted avg   0.274940  0.278547  0.271396  3468.000000\n"
     ]
    },
    {
     "data": {
      "image/png": "[encoded data removed]",
      "text/plain": [
       "<Figure size 800x600 with 2 Axes>"
      ]
     },
     "metadata": {},
     "output_type": "display_data"
    },
    {
     "name": "stdout",
     "output_type": "stream",
     "text": [
      "\n",
      "Model: LogisticRegression\n",
      "Accuracy: 0.2122\n",
      "              precision    recall  f1-score      support\n",
      "0              0.215686  0.491722  0.299849   604.000000\n",
      "1              0.000000  0.000000  0.000000   412.000000\n",
      "2              0.210048  0.670229  0.319854   655.000000\n",
      "3              0.000000  0.000000  0.000000   469.000000\n",
      "4              0.000000  0.000000  0.000000   341.000000\n",
      "5              0.000000  0.000000  0.000000   501.000000\n",
      "6              0.000000  0.000000  0.000000   486.000000\n",
      "accuracy       0.212226  0.212226  0.212226     0.212226\n",
      "macro avg      0.060819  0.165993  0.088529  3468.000000\n",
      "weighted avg   0.077236  0.212226  0.112634  3468.000000\n"
     ]
    },
    {
     "data": {
      "image/png": "[encoded data removed]",
      "text/plain": [
       "<Figure size 800x600 with 2 Axes>"
      ]
     },
     "metadata": {},
     "output_type": "display_data"
    },
    {
     "name": "stdout",
     "output_type": "stream",
     "text": [
      "\n",
      "Model: DecisionTree\n",
      "Accuracy: 0.2119\n",
      "              precision    recall  f1-score      support\n",
      "0              0.235192  0.223510  0.229202   604.000000\n",
      "1              0.191781  0.203883  0.197647   412.000000\n",
      "2              0.255738  0.238168  0.246640   655.000000\n",
      "3              0.189300  0.196162  0.192670   469.000000\n",
      "4              0.188953  0.190616  0.189781   341.000000\n",
      "5              0.193974  0.205589  0.199612   501.000000\n",
      "6              0.206186  0.205761  0.205973   486.000000\n",
      "accuracy       0.211938  0.211938  0.211938     0.211938\n",
      "macro avg      0.208732  0.209098  0.208789  3468.000000\n",
      "weighted avg   0.213143  0.211938  0.212400  3468.000000\n"
     ]
    },
    {
     "data": {
      "image/png": "[encoded data removed]",
      "text/plain": [
       "<Figure size 800x600 with 2 Axes>"
      ]
     },
     "metadata": {},
     "output_type": "display_data"
    },
    {
     "name": "stdout",
     "output_type": "stream",
     "text": [
      "\n",
      "Best Model:\n",
      "Best Model: RandomForestClassifier()\n",
      "Best Model Accuracy: 0.2785\n"
     ]
    }
   ],
   "source": [
    "import pandas as pd\n",
    "from sklearn.model_selection import train_test_split\n",
    "from sklearn.ensemble import RandomForestClassifier\n",
    "from sklearn.linear_model import LogisticRegression\n",
    "from sklearn.tree import DecisionTreeClassifier\n",
    "from sklearn.metrics import classification_report, accuracy_score, confusion_matrix\n",
    "import seaborn as sns\n",
    "import matplotlib.pyplot as plt\n",
    "\n",
    "# Define models\n",
    "models = {\n",
    "    'RandomForest': RandomForestClassifier(),\n",
    "    'LogisticRegression': LogisticRegression(max_iter=1000),\n",
    "    'DecisionTree': DecisionTreeClassifier()\n",
    "}\n",
    "\n",
    "# Train models and evaluate them\n",
    "best_model = None\n",
    "best_score = 0\n",
    "model_reports = {}\n",
    "\n",
    "for model_name, model in models.items():\n",
    "    model.fit(X_train, y_train)  # Train model\n",
    "    y_pred = model.predict(X_test)  # Make predictions\n",
    "    \n",
    "    # Calculate accuracy and generate classification report\n",
    "    accuracy = accuracy_score(y_test, y_pred)\n",
    "    model_reports[model_name] = classification_report(y_test, y_pred, output_dict=True)  # Store as a dictionary for easier analysis\n",
    "    \n",
    "    # Track best performing model\n",
    "    if accuracy > best_score:\n",
    "        best_score = accuracy\n",
    "        best_model = model\n",
    "\n",
    "# Display classification reports and confusion matrices\n",
    "print(\"\\nClassification Report for All Models:\")\n",
    "for model_name, report in model_reports.items():\n",
    "    print(f\"\\nModel: {model_name}\")\n",
    "    print(\"Accuracy: {:.4f}\".format(accuracy_score(y_test, models[model_name].predict(X_test))))  # Display accuracy\n",
    "    print(pd.DataFrame(report).transpose())  # Display classification report as a DataFrame\n",
    "\n",
    "    # Plot Confusion Matrix\n",
    "    cm = confusion_matrix(y_test, models[model_name].predict(X_test))\n",
    "    plt.figure(figsize=(8, 6))\n",
    "    sns.heatmap(cm, annot=True, fmt=\"d\", cmap='Blues', xticklabels=offense_encoder.classes_, yticklabels=offense_encoder.classes_)\n",
    "    plt.title(f\"Confusion Matrix - {model_name}\")\n",
    "    plt.xlabel('Predicted Labels')\n",
    "    plt.ylabel('True Labels')\n",
    "    plt.show()\n",
    "\n",
    "# Display best model details\n",
    "print(\"\\nBest Model:\")\n",
    "print(f\"Best Model: {best_model}\")\n",
    "print(f\"Best Model Accuracy: {best_score:.4f}\")\n"
   ]
  },
  {
   "cell_type": "markdown",
   "id": "f8d6bea4",
   "metadata": {
    "papermill": {
     "duration": 0.010579,
     "end_time": "2025-04-29T01:02:20.201491",
     "exception": false,
     "start_time": "2025-04-29T01:02:20.190912",
     "status": "completed"
    },
    "tags": []
   },
   "source": [
    "#### Classification Report for All Models:\n",
    "\n",
    "### Explanation of the Classification Results (RandomForest Model)\n",
    "\n",
    "The results you provided are from a **Random Forest** model, which is used for predicting different types of offenses. Let's break down the key components of the results:\n",
    "\n",
    "#### 1. **Accuracy: 0.2822**\n",
    "   - **Accuracy** measures the overall percentage of correct predictions made by the model. An accuracy of 28.22% means the model correctly predicted the offense in about 28% of the cases. This indicates the model's predictions are not highly reliable, as the accuracy is quite low.\n",
    "\n",
    "#### 2. **Classification Report:**\n",
    "   The classification report includes precision, recall, and F1-score for each offense. Let's go over these terms and how they apply to the results:\n",
    "\n",
    "   - **Precision**: The proportion of true positive predictions out of all positive predictions made by the model for a specific class (offense).\n",
    "   - **Recall**: The proportion of true positive predictions out of all actual positive instances in the dataset.\n",
    "   - **F1-Score**: The harmonic mean of precision and recall, providing a balance between the two metrics.\n",
    "   - **Support**: The number of actual occurrences of each class in the test set.\n",
    "\n",
    "   Let's analyze each offense based on these metrics:\n",
    "\n",
    "   | **Offense**                        | **Precision** | **Recall** | **F1-Score** | **Support** |\n",
    "   |------------------------------------|---------------|------------|--------------|-------------|\n",
    "   | **Assault Simple**                 | 0.2892        | 0.3754     | 0.3267       | 594         |\n",
    "   | **Assist Citizen - Mental/TDO/ECO**| 0.3182        | 0.2274     | 0.2652       | 431         |\n",
    "   | **Hit and Run**                    | 0.2963        | 0.4765     | 0.3654       | 638         |\n",
    "   | **Larceny - All Other**            | 0.2270        | 0.1453     | 0.1772       | 475         |\n",
    "   | **Lost/FoundProperty**             | 0.3333        | 0.2102     | 0.2578       | 352         |\n",
    "   | **Suspicious Activity**            | 0.2344        | 0.2169     | 0.2253       | 484         |\n",
    "   | **Vandalism**                      | 0.2712        | 0.2106     | 0.2371       | 470         |\n",
    "\n",
    "#### 3. **Key Insights from the Report:**\n",
    "\n",
    "- **Precision**:\n",
    "   - The highest precision is for **Larceny - All Other** (0.3333), indicating that when the model predicts this offense, it is correct about 33% of the time. However, this is still quite low.\n",
    "   - **Assist Citizen - Mental/TDO/ECO** has the lowest precision (0.2269), meaning that the model's predictions for this offense tend to be wrong more often than correct.\n",
    "\n",
    "- **Recall**:\n",
    "   - **Hit and Run** has the highest recall (0.4765), meaning the model identifies about 48% of the actual occurrences of this offense. This is better than the precision, which indicates it is missing many true positives but is still able to identify a fair number of cases.\n",
    "   - **Larceny - All Other** and **Suspicious Activity** have the lowest recall values (0.1453 and 0.2169, respectively), indicating that the model is failing to identify most of the actual cases for these offenses.\n",
    "\n",
    "- **F1-Score**:\n",
    "   - The **F1-Score** balances precision and recall. It is highest for **Hit and Run** (0.3654), but still relatively low overall. This suggests the model is better at identifying **Hit and Run** than other offenses but still has room for improvement.\n",
    "   - **Larceny - All Other** has the lowest F1-Score (0.1772), indicating a poor balance between precision and recall for this offense.\n",
    "\n",
    "#### 4. **Macro Average and Weighted Average:**\n",
    "   - **Macro Average**: This gives the average precision, recall, and F1-Score across all classes (offenses) without considering the class distribution. It averages the results for all offenses equally.\n",
    "     - Precision: 0.2814\n",
    "     - Recall: 0.2661\n",
    "     - F1-Score: 0.2649\n",
    "   - **Weighted Average**: This averages the metrics but weighs each class by its support (the number of true instances in the test set). This gives a better sense of overall performance, considering the class distribution.\n",
    "     - Precision: 0.2799\n",
    "     - Recall: 0.2822\n",
    "     - F1-Score: 0.2720\n",
    "\n",
    "#### 5. **Confusion Matrix (Visualization Analysis)**:\n",
    "   - The confusion matrix shows the distribution of true positive, false positive, true negative, and false negative predictions for each class.\n",
    "     - For **Hit and Run**, the model performs relatively well in identifying this offense (304 true positives). However, it also misclassifies some **Hit and Run** instances as other offenses (e.g., **Assault Simple**, **Suspicious Activity**, etc.).\n",
    "     - **Larceny - All Other** is frequently misclassified as **Hit and Run**, **Suspicious Activity**, and others. This is evident from the large number of off-diagonal elements in its row.\n",
    "     - **Assist Citizen - Mental/TDO/ECO** and **Suspicious Activity** are frequently misclassified, as seen by the off-diagonal values in their rows.\n",
    "\n",
    "### Conclusion:\n",
    "The Random Forest model has low accuracy (28.22%), suggesting that it struggles to predict most offenses accurately. Some offenses like **Hit and Run** are better predicted than others, but overall, the model shows a high level of misclassification across all offenses. There may be a need for further tuning of the model, additional feature engineering, or trying different models for better performance.\n",
    "\n",
    "Let me know if you'd like to improve the model or make adjustments based on these results!\n",
    "\n"
   ]
  },
  {
   "cell_type": "markdown",
   "id": "45d41b91",
   "metadata": {
    "papermill": {
     "duration": 0.010486,
     "end_time": "2025-04-29T01:02:20.222480",
     "exception": false,
     "start_time": "2025-04-29T01:02:20.211994",
     "status": "completed"
    },
    "tags": []
   },
   "source": [
    "### Model Explanation\n",
    "\n",
    "Once we’ve chosen the best model, we will explain its predictions by examining feature importance for tree-based models and using statistical methods like logistic regression coefficients for linear models."
   ]
  },
  {
   "cell_type": "markdown",
   "id": "34191a06",
   "metadata": {
    "papermill": {
     "duration": 0.010527,
     "end_time": "2025-04-29T01:02:20.243582",
     "exception": false,
     "start_time": "2025-04-29T01:02:20.233055",
     "status": "completed"
    },
    "tags": []
   },
   "source": [
    "#### Feature Importance for Random Forest / Decision Tree\n",
    "\n",
    "##### For Tree-based Models (Random Forest, Decision Tree)\n",
    "\n",
    "For Random Forest or Decision Tree, we can look at feature importance to understand which variables contribute the most to the model's predictions. Here's how you can visualize and interpret the importance of each feature:"
   ]
  },
  {
   "cell_type": "code",
   "execution_count": 23,
   "id": "3f8f4db2",
   "metadata": {
    "execution": {
     "iopub.execute_input": "2025-04-29T01:02:20.265831Z",
     "iopub.status.busy": "2025-04-29T01:02:20.265415Z",
     "iopub.status.idle": "2025-04-29T01:02:20.430977Z",
     "shell.execute_reply": "2025-04-29T01:02:20.430397Z"
    },
    "papermill": {
     "duration": 0.177786,
     "end_time": "2025-04-29T01:02:20.431988",
     "exception": false,
     "start_time": "2025-04-29T01:02:20.254202",
     "status": "completed"
    },
    "tags": []
   },
   "outputs": [
    {
     "data": {
      "image/png": "[encoded data removed]",
      "text/plain": [
       "<Figure size 1000x600 with 1 Axes>"
      ]
     },
     "metadata": {},
     "output_type": "display_data"
    }
   ],
   "source": [
    "# For RandomForest or DecisionTree models, we can check feature importance\n",
    "if isinstance(best_model, RandomForestClassifier) or isinstance(best_model, DecisionTreeClassifier):\n",
    "    feature_importance = best_model.feature_importances_\n",
    "    feature_names = X.columns\n",
    "    importance_df = pd.DataFrame({'Feature': feature_names, 'Importance': feature_importance})\n",
    "    importance_df = importance_df.sort_values(by='Importance', ascending=False)\n",
    "    \n",
    "    # Plotting the feature importances\n",
    "    plt.figure(figsize=(10, 6))\n",
    "    sns.barplot(x='Importance', y='Feature', data=importance_df)\n",
    "    plt.title(\"Feature Importance\")\n",
    "    plt.show()\n"
   ]
  },
  {
   "cell_type": "code",
   "execution_count": null,
   "id": "209f0cac",
   "metadata": {
    "papermill": {
     "duration": 0.010849,
     "end_time": "2025-04-29T01:02:20.454108",
     "exception": false,
     "start_time": "2025-04-29T01:02:20.443259",
     "status": "completed"
    },
    "tags": []
   },
   "outputs": [],
   "source": []
  },
  {
   "cell_type": "markdown",
   "id": "e8a1971d",
   "metadata": {
    "papermill": {
     "duration": 0.010889,
     "end_time": "2025-04-29T01:02:20.475965",
     "exception": false,
     "start_time": "2025-04-29T01:02:20.465076",
     "status": "completed"
    },
    "tags": []
   },
   "source": [
    "### Evaluation\n",
    "\n",
    "After training the models and examining their performance, we evaluate the chosen model based on metrics like accuracy, precision, recall, and F1 score.\n",
    "\n"
   ]
  },
  {
   "cell_type": "code",
   "execution_count": 24,
   "id": "17307c6f",
   "metadata": {
    "execution": {
     "iopub.execute_input": "2025-04-29T01:02:20.498915Z",
     "iopub.status.busy": "2025-04-29T01:02:20.498475Z",
     "iopub.status.idle": "2025-04-29T01:02:20.587973Z",
     "shell.execute_reply": "2025-04-29T01:02:20.587357Z"
    },
    "papermill": {
     "duration": 0.102178,
     "end_time": "2025-04-29T01:02:20.589061",
     "exception": false,
     "start_time": "2025-04-29T01:02:20.486883",
     "status": "completed"
    },
    "tags": []
   },
   "outputs": [
    {
     "name": "stdout",
     "output_type": "stream",
     "text": [
      "Accuracy: 0.2785\n",
      "Classification Report:\n",
      "              precision    recall  f1-score   support\n",
      "\n",
      "           0       0.27      0.33      0.30       604\n",
      "           1       0.30      0.25      0.27       412\n",
      "           2       0.31      0.45      0.37       655\n",
      "           3       0.22      0.16      0.19       469\n",
      "           4       0.33      0.24      0.28       341\n",
      "           5       0.22      0.20      0.21       501\n",
      "           6       0.28      0.22      0.25       486\n",
      "\n",
      "    accuracy                           0.28      3468\n",
      "   macro avg       0.28      0.27      0.27      3468\n",
      "weighted avg       0.27      0.28      0.27      3468\n",
      "\n",
      "Confusion Matrix:\n",
      "[[202  53 139  47  26  92  45]\n",
      " [ 96 101  91  30  18  50  26]\n",
      " [115  48 298  52  24  75  43]\n",
      " [ 87  31 126  75  35  57  58]\n",
      " [ 42  19  76  37  82  33  52]\n",
      " [104  41 127  48  28 100  53]\n",
      " [ 90  46 105  46  36  55 108]]\n",
      "Precision: 0.2749\n",
      "Recall: 0.2785\n",
      "F1 Score: 0.2714\n"
     ]
    }
   ],
   "source": [
    "from sklearn.metrics import classification_report, confusion_matrix, accuracy_score, precision_score, recall_score, f1_score\n",
    "\n",
    "# Predict on the test set\n",
    "y_pred = best_model.predict(X_test)\n",
    "\n",
    "# Calculate Accuracy\n",
    "accuracy = accuracy_score(y_test, y_pred)\n",
    "print(f\"Accuracy: {accuracy:.4f}\")\n",
    "\n",
    "# Classification Report\n",
    "print(\"Classification Report:\")\n",
    "print(classification_report(y_test, y_pred))\n",
    "\n",
    "# Confusion Matrix\n",
    "conf_matrix = confusion_matrix(y_test, y_pred)\n",
    "print(\"Confusion Matrix:\")\n",
    "print(conf_matrix)\n",
    "\n",
    "# Precision, Recall, F1 Score for each class (Offense Type)\n",
    "precision = precision_score(y_test, y_pred, average='weighted')\n",
    "recall = recall_score(y_test, y_pred, average='weighted')\n",
    "f1 = f1_score(y_test, y_pred, average='weighted')\n",
    "\n",
    "print(f\"Precision: {precision:.4f}\")\n",
    "print(f\"Recall: {recall:.4f}\")\n",
    "print(f\"F1 Score: {f1:.4f}\")\n"
   ]
  },
  {
   "cell_type": "markdown",
   "id": "8ba1b406",
   "metadata": {
    "papermill": {
     "duration": 0.011039,
     "end_time": "2025-04-29T01:02:20.611597",
     "exception": false,
     "start_time": "2025-04-29T01:02:20.600558",
     "status": "completed"
    },
    "tags": []
   },
   "source": [
    "#### For Logistic Regression (Coefficient Interpretation)\n",
    "\n",
    "For Logistic Regression, the model coefficients can help us understand how each feature affects the likelihood of an offense happening. A positive coefficient indicates a feature increases the likelihood of the offense, and a negative coefficient indicates the opposite."
   ]
  },
  {
   "cell_type": "code",
   "execution_count": 25,
   "id": "04c36965",
   "metadata": {
    "execution": {
     "iopub.execute_input": "2025-04-29T01:02:20.634994Z",
     "iopub.status.busy": "2025-04-29T01:02:20.634537Z",
     "iopub.status.idle": "2025-04-29T01:02:20.639424Z",
     "shell.execute_reply": "2025-04-29T01:02:20.638758Z"
    },
    "papermill": {
     "duration": 0.017763,
     "end_time": "2025-04-29T01:02:20.640499",
     "exception": false,
     "start_time": "2025-04-29T01:02:20.622736",
     "status": "completed"
    },
    "tags": []
   },
   "outputs": [],
   "source": [
    "if isinstance(best_model, LogisticRegression):\n",
    "    # Logistic regression coefficients\n",
    "    coef_df = pd.DataFrame({\n",
    "        'Feature': X.columns,\n",
    "        'Coefficient': best_model.coef_[0]\n",
    "    })\n",
    "    coef_df['AbsCoefficient'] = coef_df['Coefficient'].abs()\n",
    "    coef_df = coef_df.sort_values(by='AbsCoefficient', ascending=False)\n",
    "    \n",
    "    # Plotting the coefficients\n",
    "    plt.figure(figsize=(10, 6))\n",
    "    sns.barplot(x='AbsCoefficient', y='Feature', data=coef_df)\n",
    "    plt.title(\"Logistic Regression Coefficients Impact\")\n",
    "    plt.show()\n",
    "\n",
    "    # Print the top 5 most impactful features (by absolute coefficient value)\n",
    "    print(\"Top 5 most impactful features based on coefficients:\")\n",
    "    print(coef_df.head())\n"
   ]
  },
  {
   "cell_type": "markdown",
   "id": "cd8aa633",
   "metadata": {
    "papermill": {
     "duration": 0.011028,
     "end_time": "2025-04-29T01:02:20.662605",
     "exception": false,
     "start_time": "2025-04-29T01:02:20.651577",
     "status": "completed"
    },
    "tags": []
   },
   "source": [
    "Explanation of Output:\n",
    "\n",
    "Feature Importance (Random Forest/Decision Tree): The bar plot will show how important each feature is in the decision-making process. Features at the top of the list are the most influential in predicting the occurrence of offenses.\n",
    "\n",
    "Logistic Regression Coefficients: The bar plot will show the magnitude of the coefficients for each feature. Features with larger absolute values (either positive or negative) have a stronger impact on the model’s predictions. Positive coefficients increase the probability of an offense, while negative coefficients decrease it."
   ]
  },
  {
   "cell_type": "markdown",
   "id": "d6408ceb",
   "metadata": {
    "papermill": {
     "duration": 0.01092,
     "end_time": "2025-04-29T01:02:20.684606",
     "exception": false,
     "start_time": "2025-04-29T01:02:20.673686",
     "status": "completed"
    },
    "tags": []
   },
   "source": []
  }
 ],
 "metadata": {
  "kernelspec": {
   "display_name": "Python 3",
   "language": "python",
   "name": "python3"
  },
  "language_info": {
   "codemirror_mode": {
    "name": "ipython",
    "version": 3
   },
   "file_extension": ".py",
   "mimetype": "text/x-python",
   "name": "python",
   "nbconvert_exporter": "python",
   "pygments_lexer": "ipython3",
   "version": "3.9.22"
  },
  "papermill": {
   "default_parameters": {},
   "duration": 81.595039,
   "end_time": "2025-04-29T01:02:21.111416",
   "environment_variables": {},
   "exception": null,
   "input_path": "notebook/Crime Data.ipynb",
   "output_path": "notebook/Crime Data_output.ipynb",
   "parameters": {},
   "start_time": "2025-04-29T01:00:59.516377",
   "version": "2.6.0"
  }
 },
 "nbformat": 4,
 "nbformat_minor": 5
}