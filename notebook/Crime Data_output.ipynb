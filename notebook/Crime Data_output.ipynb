{
 "cells": [
  {
   "cell_type": "markdown",
   "id": "24a957f4",
   "metadata": {
    "papermill": {
     "duration": 0.031832,
     "end_time": "2025-07-15T01:10:03.201940",
     "exception": false,
     "start_time": "2025-07-15T01:10:03.170108",
     "status": "completed"
    },
    "tags": []
   },
   "source": [
    "# Charlottesville Open Data Porttal: Crime Data"
   ]
  },
  {
   "cell_type": "markdown",
   "id": "e02524d6",
   "metadata": {
    "papermill": {
     "duration": 0.003421,
     "end_time": "2025-07-15T01:10:03.209289",
     "exception": false,
     "start_time": "2025-07-15T01:10:03.205868",
     "status": "completed"
    },
    "tags": []
   },
   "source": [
    "## Import Relevant Librarires & Set WD"
   ]
  },
  {
   "cell_type": "code",
   "execution_count": 1,
   "id": "b3e0d4a6",
   "metadata": {
    "execution": {
     "iopub.execute_input": "2025-07-15T01:10:03.256058Z",
     "iopub.status.busy": "2025-07-15T01:10:03.255367Z",
     "iopub.status.idle": "2025-07-15T01:10:04.302340Z",
     "shell.execute_reply": "2025-07-15T01:10:04.301593Z"
    },
    "papermill": {
     "duration": 1.052938,
     "end_time": "2025-07-15T01:10:04.303849",
     "exception": false,
     "start_time": "2025-07-15T01:10:03.250911",
     "status": "completed"
    },
    "tags": []
   },
   "outputs": [],
   "source": [
    "import requests\n",
    "import pandas as pd\n",
    "import numpy as np\n",
    "import pickle\n",
    "import googlemaps\n",
    "import plotly.express as px\n",
    "from geopy.geocoders import Nominatim\n",
    "import time\n",
    "from dotenv import load_dotenv\n",
    "import os\n",
    "\n",
    "env_path = os.path.join(\"..\", \".env\")\n",
    "#print(\"Looking for .env file at:\", os.path.abspath(env_path))\n",
    "load_dotenv(dotenv_path=env_path)\n",
    "\n",
    "# Retrieve the variables\n",
    "GOOGLE_API_KEY = os.getenv(\"GOOGLE_API_KEY\")\n",
    "WORKING_DIR = os.getenv(\"WORKING_DIR\")\n",
    "\n",
    "if GOOGLE_API_KEY is None or WORKING_DIR is None:\n",
    "    raise RuntimeError(\"No configuration found. Please ensure that your .env file exists with the required variables, or create a local config.py file.\")\n",
    "\n",
    "#print(\"Google API Key:\", GOOGLE_API_KEY)\n",
    "#print(\"Working Directory:\", WORKING_DIR)"
   ]
  },
  {
   "cell_type": "markdown",
   "id": "e2f662db",
   "metadata": {
    "papermill": {
     "duration": 0.003396,
     "end_time": "2025-07-15T01:10:04.310992",
     "exception": false,
     "start_time": "2025-07-15T01:10:04.307596",
     "status": "completed"
    },
    "tags": []
   },
   "source": [
    "## Import Data\n",
    "\n",
    "URL: https://opendata.charlottesville.org/datasets/charlottesville::crime-data/about"
   ]
  },
  {
   "cell_type": "code",
   "execution_count": 2,
   "id": "c5d7648e",
   "metadata": {
    "execution": {
     "iopub.execute_input": "2025-07-15T01:10:04.319034Z",
     "iopub.status.busy": "2025-07-15T01:10:04.318361Z",
     "iopub.status.idle": "2025-07-15T01:11:13.206187Z",
     "shell.execute_reply": "2025-07-15T01:11:13.205425Z"
    },
    "papermill": {
     "duration": 68.895909,
     "end_time": "2025-07-15T01:11:13.210216",
     "exception": false,
     "start_time": "2025-07-15T01:10:04.314307",
     "status": "completed"
    },
    "tags": []
   },
   "outputs": [
    {
     "name": "stdout",
     "output_type": "stream",
     "text": [
      "Total records imported: 25527\n"
     ]
    }
   ],
   "source": [
    "# Define the endpoint and initial parameters.\n",
    "url = \"https://gisweb.charlottesville.org/arcgis/rest/services/OpenData_2/MapServer/6/query\"\n",
    "params = {\n",
    "    \"where\": \"1=1\",\n",
    "    \"outFields\": \"*\",\n",
    "    \"outSR\": 4326,\n",
    "    \"f\": \"json\",\n",
    "    \"resultOffset\": 0,       # Starting index for results\n",
    "    \"resultRecordCount\": 10000  # Maximum records per batch (if allowed by the API)\n",
    "}\n",
    "\n",
    "records = []\n",
    "\n",
    "while True:\n",
    "    response = requests.get(url, params=params)\n",
    "    response.raise_for_status()\n",
    "    data = response.json()\n",
    "    \n",
    "    # Get the current batch of features.\n",
    "    features = data.get(\"features\", [])\n",
    "    if not features:\n",
    "        break\n",
    "\n",
    "    # Extract the attributes from the features.\n",
    "    batch_records = [feature.get(\"attributes\", {}) for feature in features]\n",
    "    records.extend(batch_records)\n",
    "    \n",
    "    # If the batch size is less than the requested count, we reached the end.\n",
    "    if len(features) < params[\"resultRecordCount\"]:\n",
    "        break\n",
    "\n",
    "    # Update the resultOffset for the next batch.\n",
    "    params[\"resultOffset\"] += params[\"resultRecordCount\"]\n",
    "\n",
    "# Create a DataFrame from the combined records.\n",
    "df = pd.DataFrame(records)\n",
    "print(\"Total records imported:\", len(df))\n"
   ]
  },
  {
   "cell_type": "code",
   "execution_count": 3,
   "id": "2d4de73e",
   "metadata": {
    "execution": {
     "iopub.execute_input": "2025-07-15T01:11:13.218213Z",
     "iopub.status.busy": "2025-07-15T01:11:13.217717Z",
     "iopub.status.idle": "2025-07-15T01:11:13.229964Z",
     "shell.execute_reply": "2025-07-15T01:11:13.229386Z"
    },
    "papermill": {
     "duration": 0.017189,
     "end_time": "2025-07-15T01:11:13.230907",
     "exception": false,
     "start_time": "2025-07-15T01:11:13.213718",
     "status": "completed"
    },
    "tags": []
   },
   "outputs": [
    {
     "data": {
      "text/html": [
       "<div>\n",
       "<style scoped>\n",
       "    .dataframe tbody tr th:only-of-type {\n",
       "        vertical-align: middle;\n",
       "    }\n",
       "\n",
       "    .dataframe tbody tr th {\n",
       "        vertical-align: top;\n",
       "    }\n",
       "\n",
       "    .dataframe thead th {\n",
       "        text-align: right;\n",
       "    }\n",
       "</style>\n",
       "<table border=\"1\" class=\"dataframe\">\n",
       "  <thead>\n",
       "    <tr style=\"text-align: right;\">\n",
       "      <th></th>\n",
       "      <th>RecordID</th>\n",
       "      <th>Offense</th>\n",
       "      <th>IncidentID</th>\n",
       "      <th>BlockNumber</th>\n",
       "      <th>StreetName</th>\n",
       "      <th>Agency</th>\n",
       "      <th>DateReported</th>\n",
       "      <th>HourReported</th>\n",
       "      <th>ReportingOfficer</th>\n",
       "    </tr>\n",
       "  </thead>\n",
       "  <tbody>\n",
       "    <tr>\n",
       "      <th>0</th>\n",
       "      <td>1</td>\n",
       "      <td>Larceny - From Motor Vehicle</td>\n",
       "      <td>202500024434</td>\n",
       "      <td>100</td>\n",
       "      <td>1ST ST S</td>\n",
       "      <td>CPD</td>\n",
       "      <td>1752361170000</td>\n",
       "      <td>1859</td>\n",
       "      <td>Hannay, Jacob</td>\n",
       "    </tr>\n",
       "    <tr>\n",
       "      <th>1</th>\n",
       "      <td>2</td>\n",
       "      <td>Lost/FoundProperty</td>\n",
       "      <td>202500024423</td>\n",
       "      <td>100</td>\n",
       "      <td>ELLIEWOOD AVE</td>\n",
       "      <td>CPD</td>\n",
       "      <td>1752358509000</td>\n",
       "      <td>1815</td>\n",
       "      <td>Crowley, Raeann</td>\n",
       "    </tr>\n",
       "    <tr>\n",
       "      <th>2</th>\n",
       "      <td>3</td>\n",
       "      <td>Traffic Stops</td>\n",
       "      <td>202500024405</td>\n",
       "      <td>700</td>\n",
       "      <td>PROSPECT AVE</td>\n",
       "      <td>CPD</td>\n",
       "      <td>1752349438000</td>\n",
       "      <td>1543</td>\n",
       "      <td>Ritter, Kobe</td>\n",
       "    </tr>\n",
       "    <tr>\n",
       "      <th>3</th>\n",
       "      <td>4</td>\n",
       "      <td>Burglary</td>\n",
       "      <td>202500024387</td>\n",
       "      <td>1500</td>\n",
       "      <td>SHORT 18TH ST</td>\n",
       "      <td>CPD</td>\n",
       "      <td>1752331889000</td>\n",
       "      <td>1051</td>\n",
       "      <td>Mian, Ghulam</td>\n",
       "    </tr>\n",
       "    <tr>\n",
       "      <th>4</th>\n",
       "      <td>5</td>\n",
       "      <td>Harassment</td>\n",
       "      <td>202500024384</td>\n",
       "      <td>500</td>\n",
       "      <td>DRUID AVE</td>\n",
       "      <td>CPD</td>\n",
       "      <td>1752328843000</td>\n",
       "      <td>1000</td>\n",
       "      <td>Kirby, Tyree</td>\n",
       "    </tr>\n",
       "  </tbody>\n",
       "</table>\n",
       "</div>"
      ],
      "text/plain": [
       "   RecordID                       Offense    IncidentID BlockNumber  \\\n",
       "0         1  Larceny - From Motor Vehicle  202500024434         100   \n",
       "1         2            Lost/FoundProperty  202500024423         100   \n",
       "2         3                 Traffic Stops  202500024405         700   \n",
       "3         4                      Burglary  202500024387        1500   \n",
       "4         5                    Harassment  202500024384         500   \n",
       "\n",
       "      StreetName Agency   DateReported HourReported ReportingOfficer  \n",
       "0       1ST ST S    CPD  1752361170000         1859    Hannay, Jacob  \n",
       "1  ELLIEWOOD AVE    CPD  1752358509000         1815  Crowley, Raeann  \n",
       "2   PROSPECT AVE    CPD  1752349438000         1543     Ritter, Kobe  \n",
       "3  SHORT 18TH ST    CPD  1752331889000         1051     Mian, Ghulam  \n",
       "4      DRUID AVE    CPD  1752328843000         1000     Kirby, Tyree  "
      ]
     },
     "execution_count": 3,
     "metadata": {},
     "output_type": "execute_result"
    }
   ],
   "source": [
    "df.head()"
   ]
  },
  {
   "cell_type": "code",
   "execution_count": 4,
   "id": "2950427c",
   "metadata": {
    "execution": {
     "iopub.execute_input": "2025-07-15T01:11:13.239171Z",
     "iopub.status.busy": "2025-07-15T01:11:13.238602Z",
     "iopub.status.idle": "2025-07-15T01:11:13.242848Z",
     "shell.execute_reply": "2025-07-15T01:11:13.242309Z"
    },
    "papermill": {
     "duration": 0.009396,
     "end_time": "2025-07-15T01:11:13.243858",
     "exception": false,
     "start_time": "2025-07-15T01:11:13.234462",
     "status": "completed"
    },
    "tags": []
   },
   "outputs": [
    {
     "data": {
      "text/plain": [
       "Index(['RecordID', 'Offense', 'IncidentID', 'BlockNumber', 'StreetName',\n",
       "       'Agency', 'DateReported', 'HourReported', 'ReportingOfficer'],\n",
       "      dtype='object')"
      ]
     },
     "execution_count": 4,
     "metadata": {},
     "output_type": "execute_result"
    }
   ],
   "source": [
    "df.columns"
   ]
  },
  {
   "cell_type": "code",
   "execution_count": 5,
   "id": "74236832",
   "metadata": {
    "execution": {
     "iopub.execute_input": "2025-07-15T01:11:13.251654Z",
     "iopub.status.busy": "2025-07-15T01:11:13.251462Z",
     "iopub.status.idle": "2025-07-15T01:11:13.273171Z",
     "shell.execute_reply": "2025-07-15T01:11:13.272572Z"
    },
    "papermill": {
     "duration": 0.02676,
     "end_time": "2025-07-15T01:11:13.274217",
     "exception": false,
     "start_time": "2025-07-15T01:11:13.247457",
     "status": "completed"
    },
    "tags": []
   },
   "outputs": [
    {
     "name": "stdout",
     "output_type": "stream",
     "text": [
      "<class 'pandas.core.frame.DataFrame'>\n",
      "RangeIndex: 25527 entries, 0 to 25526\n",
      "Data columns (total 9 columns):\n",
      " #   Column            Non-Null Count  Dtype \n",
      "---  ------            --------------  ----- \n",
      " 0   RecordID          25527 non-null  int64 \n",
      " 1   Offense           25527 non-null  object\n",
      " 2   IncidentID        25527 non-null  object\n",
      " 3   BlockNumber       25527 non-null  object\n",
      " 4   StreetName        25527 non-null  object\n",
      " 5   Agency            25527 non-null  object\n",
      " 6   DateReported      25527 non-null  int64 \n",
      " 7   HourReported      25527 non-null  object\n",
      " 8   ReportingOfficer  25510 non-null  object\n",
      "dtypes: int64(2), object(7)\n",
      "memory usage: 1.8+ MB\n"
     ]
    }
   ],
   "source": [
    "df.info()"
   ]
  },
  {
   "cell_type": "markdown",
   "id": "f3b8aee2",
   "metadata": {
    "papermill": {
     "duration": 0.003661,
     "end_time": "2025-07-15T01:11:13.282235",
     "exception": false,
     "start_time": "2025-07-15T01:11:13.278574",
     "status": "completed"
    },
    "tags": []
   },
   "source": [
    "### Missing Values"
   ]
  },
  {
   "cell_type": "code",
   "execution_count": 6,
   "id": "beceb816",
   "metadata": {
    "execution": {
     "iopub.execute_input": "2025-07-15T01:11:13.312611Z",
     "iopub.status.busy": "2025-07-15T01:11:13.312141Z",
     "iopub.status.idle": "2025-07-15T01:11:13.338008Z",
     "shell.execute_reply": "2025-07-15T01:11:13.337320Z"
    },
    "papermill": {
     "duration": 0.053217,
     "end_time": "2025-07-15T01:11:13.339115",
     "exception": false,
     "start_time": "2025-07-15T01:11:13.285898",
     "status": "completed"
    },
    "tags": []
   },
   "outputs": [
    {
     "name": "stdout",
     "output_type": "stream",
     "text": [
      "                  MissingCount  MissingPercentage\n",
      "RecordID                     0               0.00\n",
      "Offense                      0               0.00\n",
      "IncidentID                   0               0.00\n",
      "BlockNumber                  0               0.00\n",
      "StreetName                   0               0.00\n",
      "Agency                       0               0.00\n",
      "DateReported                 0               0.00\n",
      "HourReported                 0               0.00\n",
      "ReportingOfficer            17               0.07\n"
     ]
    }
   ],
   "source": [
    "def missing_percentage(df):\n",
    "    \"\"\"\n",
    "    Returns a DataFrame with the count and percentage of missing values for each column.\n",
    "    \n",
    "    Parameters:\n",
    "        df (pd.DataFrame): The input DataFrame.\n",
    "    \n",
    "    Returns:\n",
    "        pd.DataFrame: A DataFrame with columns 'MissingCount' and 'MissingPercentage'.\n",
    "    \"\"\"\n",
    "    total_rows = len(df)\n",
    "    missing_count = df.isnull().sum()\n",
    "    missing_percent = (missing_count / total_rows) * 100\n",
    "    \n",
    "    result = pd.DataFrame({\n",
    "        'MissingCount': missing_count,\n",
    "        'MissingPercentage': missing_percent.round(2)\n",
    "    })\n",
    "    \n",
    "    return result\n",
    "\n",
    "# Example usage:\n",
    "missing_info = missing_percentage(df)\n",
    "print(missing_info)\n"
   ]
  },
  {
   "cell_type": "markdown",
   "id": "efbadcb8",
   "metadata": {
    "papermill": {
     "duration": 0.003729,
     "end_time": "2025-07-15T01:11:13.346939",
     "exception": false,
     "start_time": "2025-07-15T01:11:13.343210",
     "status": "completed"
    },
    "tags": []
   },
   "source": [
    "## Data Preparation"
   ]
  },
  {
   "cell_type": "markdown",
   "id": "c3a91d92",
   "metadata": {
    "papermill": {
     "duration": 0.003671,
     "end_time": "2025-07-15T01:11:13.354357",
     "exception": false,
     "start_time": "2025-07-15T01:11:13.350686",
     "status": "completed"
    },
    "tags": []
   },
   "source": [
    "### Data Conversion"
   ]
  },
  {
   "cell_type": "code",
   "execution_count": 7,
   "id": "4bf12b0e",
   "metadata": {
    "execution": {
     "iopub.execute_input": "2025-07-15T01:11:13.363455Z",
     "iopub.status.busy": "2025-07-15T01:11:13.362995Z",
     "iopub.status.idle": "2025-07-15T01:11:13.722204Z",
     "shell.execute_reply": "2025-07-15T01:11:13.721503Z"
    },
    "papermill": {
     "duration": 0.365211,
     "end_time": "2025-07-15T01:11:13.723349",
     "exception": false,
     "start_time": "2025-07-15T01:11:13.358138",
     "status": "completed"
    },
    "tags": []
   },
   "outputs": [
    {
     "data": {
      "text/html": [
       "<div>\n",
       "<style scoped>\n",
       "    .dataframe tbody tr th:only-of-type {\n",
       "        vertical-align: middle;\n",
       "    }\n",
       "\n",
       "    .dataframe tbody tr th {\n",
       "        vertical-align: top;\n",
       "    }\n",
       "\n",
       "    .dataframe thead th {\n",
       "        text-align: right;\n",
       "    }\n",
       "</style>\n",
       "<table border=\"1\" class=\"dataframe\">\n",
       "  <thead>\n",
       "    <tr style=\"text-align: right;\">\n",
       "      <th></th>\n",
       "      <th>RecordID</th>\n",
       "      <th>Offense</th>\n",
       "      <th>IncidentID</th>\n",
       "      <th>BlockNumber</th>\n",
       "      <th>StreetName</th>\n",
       "      <th>Agency</th>\n",
       "      <th>HourReported</th>\n",
       "      <th>ReportingOfficer</th>\n",
       "      <th>Date</th>\n",
       "      <th>DateString</th>\n",
       "      <th>DayOfWeek</th>\n",
       "      <th>Weekend</th>\n",
       "      <th>Season</th>\n",
       "      <th>HourAMPM</th>\n",
       "      <th>TimeOfDay</th>\n",
       "    </tr>\n",
       "  </thead>\n",
       "  <tbody>\n",
       "    <tr>\n",
       "      <th>0</th>\n",
       "      <td>1</td>\n",
       "      <td>Larceny - From Motor Vehicle</td>\n",
       "      <td>202500024434</td>\n",
       "      <td>100</td>\n",
       "      <td>1ST ST S</td>\n",
       "      <td>CPD</td>\n",
       "      <td>1859</td>\n",
       "      <td>Hannay, Jacob</td>\n",
       "      <td>2025-07-12 18:59:30</td>\n",
       "      <td>2025-07-12 06:59:30 PM</td>\n",
       "      <td>Saturday</td>\n",
       "      <td>True</td>\n",
       "      <td>Summer</td>\n",
       "      <td>06:59 PM</td>\n",
       "      <td>Evening</td>\n",
       "    </tr>\n",
       "    <tr>\n",
       "      <th>1</th>\n",
       "      <td>2</td>\n",
       "      <td>Lost/FoundProperty</td>\n",
       "      <td>202500024423</td>\n",
       "      <td>100</td>\n",
       "      <td>ELLIEWOOD AVE</td>\n",
       "      <td>CPD</td>\n",
       "      <td>1815</td>\n",
       "      <td>Crowley, Raeann</td>\n",
       "      <td>2025-07-12 18:15:09</td>\n",
       "      <td>2025-07-12 06:15:09 PM</td>\n",
       "      <td>Saturday</td>\n",
       "      <td>True</td>\n",
       "      <td>Summer</td>\n",
       "      <td>06:15 PM</td>\n",
       "      <td>Evening</td>\n",
       "    </tr>\n",
       "    <tr>\n",
       "      <th>2</th>\n",
       "      <td>3</td>\n",
       "      <td>Traffic Stops</td>\n",
       "      <td>202500024405</td>\n",
       "      <td>700</td>\n",
       "      <td>PROSPECT AVE</td>\n",
       "      <td>CPD</td>\n",
       "      <td>1543</td>\n",
       "      <td>Ritter, Kobe</td>\n",
       "      <td>2025-07-12 15:43:58</td>\n",
       "      <td>2025-07-12 03:43:58 PM</td>\n",
       "      <td>Saturday</td>\n",
       "      <td>True</td>\n",
       "      <td>Summer</td>\n",
       "      <td>03:43 PM</td>\n",
       "      <td>Afternoon</td>\n",
       "    </tr>\n",
       "    <tr>\n",
       "      <th>3</th>\n",
       "      <td>4</td>\n",
       "      <td>Burglary</td>\n",
       "      <td>202500024387</td>\n",
       "      <td>1500</td>\n",
       "      <td>SHORT 18TH ST</td>\n",
       "      <td>CPD</td>\n",
       "      <td>1051</td>\n",
       "      <td>Mian, Ghulam</td>\n",
       "      <td>2025-07-12 10:51:29</td>\n",
       "      <td>2025-07-12 10:51:29 AM</td>\n",
       "      <td>Saturday</td>\n",
       "      <td>True</td>\n",
       "      <td>Summer</td>\n",
       "      <td>10:51 AM</td>\n",
       "      <td>Morning</td>\n",
       "    </tr>\n",
       "    <tr>\n",
       "      <th>4</th>\n",
       "      <td>5</td>\n",
       "      <td>Harassment</td>\n",
       "      <td>202500024384</td>\n",
       "      <td>500</td>\n",
       "      <td>DRUID AVE</td>\n",
       "      <td>CPD</td>\n",
       "      <td>1000</td>\n",
       "      <td>Kirby, Tyree</td>\n",
       "      <td>2025-07-12 10:00:43</td>\n",
       "      <td>2025-07-12 10:00:43 AM</td>\n",
       "      <td>Saturday</td>\n",
       "      <td>True</td>\n",
       "      <td>Summer</td>\n",
       "      <td>10:00 AM</td>\n",
       "      <td>Morning</td>\n",
       "    </tr>\n",
       "  </tbody>\n",
       "</table>\n",
       "</div>"
      ],
      "text/plain": [
       "   RecordID                       Offense    IncidentID BlockNumber  \\\n",
       "0         1  Larceny - From Motor Vehicle  202500024434         100   \n",
       "1         2            Lost/FoundProperty  202500024423         100   \n",
       "2         3                 Traffic Stops  202500024405         700   \n",
       "3         4                      Burglary  202500024387        1500   \n",
       "4         5                    Harassment  202500024384         500   \n",
       "\n",
       "      StreetName Agency HourReported ReportingOfficer                Date  \\\n",
       "0       1ST ST S    CPD         1859    Hannay, Jacob 2025-07-12 18:59:30   \n",
       "1  ELLIEWOOD AVE    CPD         1815  Crowley, Raeann 2025-07-12 18:15:09   \n",
       "2   PROSPECT AVE    CPD         1543     Ritter, Kobe 2025-07-12 15:43:58   \n",
       "3  SHORT 18TH ST    CPD         1051     Mian, Ghulam 2025-07-12 10:51:29   \n",
       "4      DRUID AVE    CPD         1000     Kirby, Tyree 2025-07-12 10:00:43   \n",
       "\n",
       "               DateString DayOfWeek  Weekend  Season  HourAMPM  TimeOfDay  \n",
       "0  2025-07-12 06:59:30 PM  Saturday     True  Summer  06:59 PM    Evening  \n",
       "1  2025-07-12 06:15:09 PM  Saturday     True  Summer  06:15 PM    Evening  \n",
       "2  2025-07-12 03:43:58 PM  Saturday     True  Summer  03:43 PM  Afternoon  \n",
       "3  2025-07-12 10:51:29 AM  Saturday     True  Summer  10:51 AM    Morning  \n",
       "4  2025-07-12 10:00:43 AM  Saturday     True  Summer  10:00 AM    Morning  "
      ]
     },
     "execution_count": 7,
     "metadata": {},
     "output_type": "execute_result"
    }
   ],
   "source": [
    "def convert_and_categorize_datereported(df, col='DateReported'):\n",
    "    \"\"\"\n",
    "    Converts an epoch (in milliseconds) date column into a timezone-aware datetime,\n",
    "    converts it to Eastern Time, and then creates columns for day-of-week, weekend flag,\n",
    "    season, 12-hour formatted time, and time-of-day. Keeps both a real datetime column\n",
    "    (Date) and a string representation (DateString).\n",
    "    \"\"\"\n",
    "    import pandas as pd\n",
    "\n",
    "    # Convert the epoch timestamp to a pandas datetime object as UTC, then convert to US/Eastern.\n",
    "    df[\"DateReported_dt\"] = (\n",
    "        pd.to_datetime(df[col], unit=\"ms\", errors=\"coerce\", utc=True)\n",
    "        .dt.tz_convert(\"US/Eastern\")\n",
    "    )\n",
    "    \n",
    "    # Create a true datetime column (remove timezone if you prefer naive datetime)\n",
    "    df[\"Date\"] = df[\"DateReported_dt\"].dt.tz_localize(None)\n",
    "\n",
    "    # Optionally, create a separate string-formatted column\n",
    "    df[\"DateString\"] = df[\"DateReported_dt\"].dt.strftime(\"%Y-%m-%d %I:%M:%S %p\")\n",
    "    \n",
    "    # DayOfWeek\n",
    "    df[\"DayOfWeek\"] = df[\"DateReported_dt\"].dt.day_name()\n",
    "    \n",
    "    # Weekend\n",
    "    df[\"Weekend\"] = df[\"DayOfWeek\"].isin([\"Saturday\", \"Sunday\"])\n",
    "    \n",
    "    # Helper function to determine the season\n",
    "    def get_season(dt):\n",
    "        month = dt.month\n",
    "        day = dt.day\n",
    "        # Approximate Northern Hemisphere season boundaries:\n",
    "        if (month == 12 and day >= 21) or (month < 3) or (month == 3 and day < 20):\n",
    "            return \"Winter\"\n",
    "        elif (month == 3 and day >= 20) or (month < 6) or (month == 6 and day < 21):\n",
    "            return \"Spring\"\n",
    "        elif (month == 6 and day >= 21) or (month < 9) or (month == 9 and day < 22):\n",
    "            return \"Summer\"\n",
    "        else:\n",
    "            return \"Autumn\"\n",
    "    \n",
    "    df[\"Season\"] = df[\"DateReported_dt\"].apply(get_season)\n",
    "    \n",
    "    # 12-hour formatted time (HourAMPM)\n",
    "    df[\"HourAMPM\"] = df[\"DateReported_dt\"].dt.strftime(\"%I:%M %p\")\n",
    "    \n",
    "    # Extract hour (0-23) for time-of-day\n",
    "    df[\"HourValue\"] = df[\"DateReported_dt\"].dt.hour\n",
    "    \n",
    "    def time_of_day(hour):\n",
    "        if pd.isnull(hour):\n",
    "            return None\n",
    "        if 5 <= hour < 12:\n",
    "            return \"Morning\"\n",
    "        elif 12 <= hour < 17:\n",
    "            return \"Afternoon\"\n",
    "        elif 17 <= hour < 21:\n",
    "            return \"Evening\"\n",
    "        else:\n",
    "            return \"Night\"\n",
    "    \n",
    "    df[\"TimeOfDay\"] = df[\"HourValue\"].apply(time_of_day)\n",
    "    \n",
    "    # Drop columns you no longer need\n",
    "    df.drop(columns=[col, \"DateReported_dt\", \"HourValue\"], inplace=True)\n",
    "    \n",
    "    return df\n",
    "\n",
    "# Example usage:\n",
    "df = convert_and_categorize_datereported(df)\n",
    "df.head()\n"
   ]
  },
  {
   "cell_type": "code",
   "execution_count": 8,
   "id": "b7178e2c",
   "metadata": {
    "execution": {
     "iopub.execute_input": "2025-07-15T01:11:13.732803Z",
     "iopub.status.busy": "2025-07-15T01:11:13.732402Z",
     "iopub.status.idle": "2025-07-15T01:11:13.763150Z",
     "shell.execute_reply": "2025-07-15T01:11:13.762562Z"
    },
    "papermill": {
     "duration": 0.036416,
     "end_time": "2025-07-15T01:11:13.764159",
     "exception": false,
     "start_time": "2025-07-15T01:11:13.727743",
     "status": "completed"
    },
    "tags": []
   },
   "outputs": [
    {
     "name": "stdout",
     "output_type": "stream",
     "text": [
      "<class 'pandas.core.frame.DataFrame'>\n",
      "RangeIndex: 25527 entries, 0 to 25526\n",
      "Data columns (total 15 columns):\n",
      " #   Column            Non-Null Count  Dtype         \n",
      "---  ------            --------------  -----         \n",
      " 0   RecordID          25527 non-null  int64         \n",
      " 1   Offense           25527 non-null  object        \n",
      " 2   IncidentID        25527 non-null  object        \n",
      " 3   BlockNumber       25527 non-null  object        \n",
      " 4   StreetName        25527 non-null  object        \n",
      " 5   Agency            25527 non-null  object        \n",
      " 6   HourReported      25527 non-null  object        \n",
      " 7   ReportingOfficer  25510 non-null  object        \n",
      " 8   Date              25527 non-null  datetime64[ns]\n",
      " 9   DateString        25527 non-null  object        \n",
      " 10  DayOfWeek         25527 non-null  object        \n",
      " 11  Weekend           25527 non-null  bool          \n",
      " 12  Season            25527 non-null  object        \n",
      " 13  HourAMPM          25527 non-null  object        \n",
      " 14  TimeOfDay         25527 non-null  object        \n",
      "dtypes: bool(1), datetime64[ns](1), int64(1), object(12)\n",
      "memory usage: 2.8+ MB\n"
     ]
    }
   ],
   "source": [
    "df.info()"
   ]
  },
  {
   "cell_type": "markdown",
   "id": "4d1959bc",
   "metadata": {
    "papermill": {
     "duration": 0.003948,
     "end_time": "2025-07-15T01:11:13.772514",
     "exception": false,
     "start_time": "2025-07-15T01:11:13.768566",
     "status": "completed"
    },
    "tags": []
   },
   "source": [
    "### Coordinates"
   ]
  },
  {
   "cell_type": "code",
   "execution_count": 9,
   "id": "46079539",
   "metadata": {
    "execution": {
     "iopub.execute_input": "2025-07-15T01:11:13.781499Z",
     "iopub.status.busy": "2025-07-15T01:11:13.781299Z",
     "iopub.status.idle": "2025-07-15T01:11:13.824057Z",
     "shell.execute_reply": "2025-07-15T01:11:13.823508Z"
    },
    "papermill": {
     "duration": 0.048525,
     "end_time": "2025-07-15T01:11:13.825056",
     "exception": false,
     "start_time": "2025-07-15T01:11:13.776531",
     "status": "completed"
    },
    "tags": []
   },
   "outputs": [
    {
     "name": "stdout",
     "output_type": "stream",
     "text": [
      "Loaded geocode cache.\n",
      "Geocode cache updated and saved.\n"
     ]
    },
    {
     "data": {
      "text/html": [
       "<div>\n",
       "<style scoped>\n",
       "    .dataframe tbody tr th:only-of-type {\n",
       "        vertical-align: middle;\n",
       "    }\n",
       "\n",
       "    .dataframe tbody tr th {\n",
       "        vertical-align: top;\n",
       "    }\n",
       "\n",
       "    .dataframe thead th {\n",
       "        text-align: right;\n",
       "    }\n",
       "</style>\n",
       "<table border=\"1\" class=\"dataframe\">\n",
       "  <thead>\n",
       "    <tr style=\"text-align: right;\">\n",
       "      <th></th>\n",
       "      <th>RecordID</th>\n",
       "      <th>Offense</th>\n",
       "      <th>IncidentID</th>\n",
       "      <th>BlockNumber</th>\n",
       "      <th>StreetName</th>\n",
       "      <th>Agency</th>\n",
       "      <th>HourReported</th>\n",
       "      <th>ReportingOfficer</th>\n",
       "      <th>Date</th>\n",
       "      <th>DateString</th>\n",
       "      <th>DayOfWeek</th>\n",
       "      <th>Weekend</th>\n",
       "      <th>Season</th>\n",
       "      <th>HourAMPM</th>\n",
       "      <th>TimeOfDay</th>\n",
       "      <th>FullStreet</th>\n",
       "      <th>lat</th>\n",
       "      <th>lon</th>\n",
       "    </tr>\n",
       "  </thead>\n",
       "  <tbody>\n",
       "    <tr>\n",
       "      <th>0</th>\n",
       "      <td>1</td>\n",
       "      <td>Larceny - From Motor Vehicle</td>\n",
       "      <td>202500024434</td>\n",
       "      <td>100</td>\n",
       "      <td>1ST ST S</td>\n",
       "      <td>CPD</td>\n",
       "      <td>1859</td>\n",
       "      <td>Hannay, Jacob</td>\n",
       "      <td>2025-07-12 18:59:30</td>\n",
       "      <td>2025-07-12 06:59:30 PM</td>\n",
       "      <td>Saturday</td>\n",
       "      <td>True</td>\n",
       "      <td>Summer</td>\n",
       "      <td>06:59 PM</td>\n",
       "      <td>Evening</td>\n",
       "      <td>100 1ST ST S</td>\n",
       "      <td>38.030310</td>\n",
       "      <td>-78.481732</td>\n",
       "    </tr>\n",
       "    <tr>\n",
       "      <th>1</th>\n",
       "      <td>2</td>\n",
       "      <td>Lost/FoundProperty</td>\n",
       "      <td>202500024423</td>\n",
       "      <td>100</td>\n",
       "      <td>ELLIEWOOD AVE</td>\n",
       "      <td>CPD</td>\n",
       "      <td>1815</td>\n",
       "      <td>Crowley, Raeann</td>\n",
       "      <td>2025-07-12 18:15:09</td>\n",
       "      <td>2025-07-12 06:15:09 PM</td>\n",
       "      <td>Saturday</td>\n",
       "      <td>True</td>\n",
       "      <td>Summer</td>\n",
       "      <td>06:15 PM</td>\n",
       "      <td>Evening</td>\n",
       "      <td>100 ELLIEWOOD AVE</td>\n",
       "      <td>38.036309</td>\n",
       "      <td>-78.500571</td>\n",
       "    </tr>\n",
       "    <tr>\n",
       "      <th>2</th>\n",
       "      <td>3</td>\n",
       "      <td>Traffic Stops</td>\n",
       "      <td>202500024405</td>\n",
       "      <td>700</td>\n",
       "      <td>PROSPECT AVE</td>\n",
       "      <td>CPD</td>\n",
       "      <td>1543</td>\n",
       "      <td>Ritter, Kobe</td>\n",
       "      <td>2025-07-12 15:43:58</td>\n",
       "      <td>2025-07-12 03:43:58 PM</td>\n",
       "      <td>Saturday</td>\n",
       "      <td>True</td>\n",
       "      <td>Summer</td>\n",
       "      <td>03:43 PM</td>\n",
       "      <td>Afternoon</td>\n",
       "      <td>700 PROSPECT AVE</td>\n",
       "      <td>38.024639</td>\n",
       "      <td>-78.494396</td>\n",
       "    </tr>\n",
       "    <tr>\n",
       "      <th>3</th>\n",
       "      <td>4</td>\n",
       "      <td>Burglary</td>\n",
       "      <td>202500024387</td>\n",
       "      <td>1500</td>\n",
       "      <td>SHORT 18TH ST</td>\n",
       "      <td>CPD</td>\n",
       "      <td>1051</td>\n",
       "      <td>Mian, Ghulam</td>\n",
       "      <td>2025-07-12 10:51:29</td>\n",
       "      <td>2025-07-12 10:51:29 AM</td>\n",
       "      <td>Saturday</td>\n",
       "      <td>True</td>\n",
       "      <td>Summer</td>\n",
       "      <td>10:51 AM</td>\n",
       "      <td>Morning</td>\n",
       "      <td>1500 SHORT 18TH ST</td>\n",
       "      <td>38.025812</td>\n",
       "      <td>-78.460762</td>\n",
       "    </tr>\n",
       "    <tr>\n",
       "      <th>4</th>\n",
       "      <td>5</td>\n",
       "      <td>Harassment</td>\n",
       "      <td>202500024384</td>\n",
       "      <td>500</td>\n",
       "      <td>DRUID AVE</td>\n",
       "      <td>CPD</td>\n",
       "      <td>1000</td>\n",
       "      <td>Kirby, Tyree</td>\n",
       "      <td>2025-07-12 10:00:43</td>\n",
       "      <td>2025-07-12 10:00:43 AM</td>\n",
       "      <td>Saturday</td>\n",
       "      <td>True</td>\n",
       "      <td>Summer</td>\n",
       "      <td>10:00 AM</td>\n",
       "      <td>Morning</td>\n",
       "      <td>500 DRUID AVE</td>\n",
       "      <td>38.021091</td>\n",
       "      <td>-78.485105</td>\n",
       "    </tr>\n",
       "  </tbody>\n",
       "</table>\n",
       "</div>"
      ],
      "text/plain": [
       "   RecordID                       Offense    IncidentID BlockNumber  \\\n",
       "0         1  Larceny - From Motor Vehicle  202500024434         100   \n",
       "1         2            Lost/FoundProperty  202500024423         100   \n",
       "2         3                 Traffic Stops  202500024405         700   \n",
       "3         4                      Burglary  202500024387        1500   \n",
       "4         5                    Harassment  202500024384         500   \n",
       "\n",
       "      StreetName Agency HourReported ReportingOfficer                Date  \\\n",
       "0       1ST ST S    CPD         1859    Hannay, Jacob 2025-07-12 18:59:30   \n",
       "1  ELLIEWOOD AVE    CPD         1815  Crowley, Raeann 2025-07-12 18:15:09   \n",
       "2   PROSPECT AVE    CPD         1543     Ritter, Kobe 2025-07-12 15:43:58   \n",
       "3  SHORT 18TH ST    CPD         1051     Mian, Ghulam 2025-07-12 10:51:29   \n",
       "4      DRUID AVE    CPD         1000     Kirby, Tyree 2025-07-12 10:00:43   \n",
       "\n",
       "               DateString DayOfWeek  Weekend  Season  HourAMPM  TimeOfDay  \\\n",
       "0  2025-07-12 06:59:30 PM  Saturday     True  Summer  06:59 PM    Evening   \n",
       "1  2025-07-12 06:15:09 PM  Saturday     True  Summer  06:15 PM    Evening   \n",
       "2  2025-07-12 03:43:58 PM  Saturday     True  Summer  03:43 PM  Afternoon   \n",
       "3  2025-07-12 10:51:29 AM  Saturday     True  Summer  10:51 AM    Morning   \n",
       "4  2025-07-12 10:00:43 AM  Saturday     True  Summer  10:00 AM    Morning   \n",
       "\n",
       "           FullStreet        lat        lon  \n",
       "0        100 1ST ST S  38.030310 -78.481732  \n",
       "1   100 ELLIEWOOD AVE  38.036309 -78.500571  \n",
       "2    700 PROSPECT AVE  38.024639 -78.494396  \n",
       "3  1500 SHORT 18TH ST  38.025812 -78.460762  \n",
       "4       500 DRUID AVE  38.021091 -78.485105  "
      ]
     },
     "execution_count": 9,
     "metadata": {},
     "output_type": "execute_result"
    }
   ],
   "source": [
    "# Combine BlockNumber and StreetName into a full address string\n",
    "df['FullStreet'] = df['BlockNumber'].astype(str) + \" \" + df['StreetName']\n",
    "\n",
    "# --- Step 1: Setup the Google Maps Client and Cache ---\n",
    "gmaps = googlemaps.Client(key=GOOGLE_API_KEY)\n",
    "\n",
    "# Try to load cached geocoding results if available.\n",
    "try:\n",
    "    with open(\"geocode_cache_google.pkl\", \"rb\") as f:\n",
    "        street_coords = pickle.load(f)\n",
    "    print(\"Loaded geocode cache.\")\n",
    "except FileNotFoundError:\n",
    "    street_coords = {}\n",
    "    print(\"No cache found; starting fresh.\")\n",
    "\n",
    "def geocode_address(address):\n",
    "    try:\n",
    "        # Append city and state to help geocoding\n",
    "        result = gmaps.geocode(f\"{address}, Charlottesville, VA\")\n",
    "        if result:\n",
    "            lat = result[0]['geometry']['location']['lat']\n",
    "            lon = result[0]['geometry']['location']['lng']\n",
    "            return lat, lon\n",
    "    except Exception as e:\n",
    "        print(f\"Error geocoding {address}: {e}\")\n",
    "    return None, None\n",
    "\n",
    "# --- Step 2: Geocode Only New Addresses ---\n",
    "unique_addresses = df['FullStreet'].unique()\n",
    "for address in unique_addresses:\n",
    "    if address not in street_coords:\n",
    "        lat, lon = geocode_address(address)\n",
    "        street_coords[address] = (lat, lon)\n",
    "        print(f\"Geocoded {address}: {lat}, {lon}\")\n",
    "\n",
    "# Save the updated cache to disk.\n",
    "with open(\"geocode_cache_google.pkl\", \"wb\") as f:\n",
    "    pickle.dump(street_coords, f)\n",
    "    print(\"Geocode cache updated and saved.\")\n",
    "\n",
    "# --- Step 3: Map Coordinates Back to DataFrame ---\n",
    "df['lat'] = df['FullStreet'].map(lambda s: street_coords.get(s, (None, None))[0])\n",
    "df['lon'] = df['FullStreet'].map(lambda s: street_coords.get(s, (None, None))[1])\n",
    "\n",
    "df.head()"
   ]
  },
  {
   "cell_type": "markdown",
   "id": "c3e63eb9",
   "metadata": {
    "papermill": {
     "duration": 0.004329,
     "end_time": "2025-07-15T01:11:13.834066",
     "exception": false,
     "start_time": "2025-07-15T01:11:13.829737",
     "status": "completed"
    },
    "tags": []
   },
   "source": [
    "### Neighborhood"
   ]
  },
  {
   "cell_type": "code",
   "execution_count": 10,
   "id": "4ebbb1e8",
   "metadata": {
    "execution": {
     "iopub.execute_input": "2025-07-15T01:11:13.843682Z",
     "iopub.status.busy": "2025-07-15T01:11:13.843278Z",
     "iopub.status.idle": "2025-07-15T01:11:15.109961Z",
     "shell.execute_reply": "2025-07-15T01:11:15.109269Z"
    },
    "papermill": {
     "duration": 1.272783,
     "end_time": "2025-07-15T01:11:15.111131",
     "exception": false,
     "start_time": "2025-07-15T01:11:13.838348",
     "status": "completed"
    },
    "tags": []
   },
   "outputs": [
    {
     "name": "stdout",
     "output_type": "stream",
     "text": [
      "Loaded neighborhood cache.\n"
     ]
    },
    {
     "name": "stdout",
     "output_type": "stream",
     "text": [
      "Error getting neighborhood for nan, nan: HTTP Error: 400\n"
     ]
    },
    {
     "name": "stdout",
     "output_type": "stream",
     "text": [
      "Error getting neighborhood for nan, nan: HTTP Error: 400\n",
      "Error getting neighborhood for nan, nan: HTTP Error: 400\n",
      "Error getting neighborhood for nan, nan: HTTP Error: 400\n"
     ]
    },
    {
     "name": "stdout",
     "output_type": "stream",
     "text": [
      "Error getting neighborhood for nan, nan: HTTP Error: 400\n",
      "Error getting neighborhood for nan, nan: HTTP Error: 400\n",
      "Error getting neighborhood for nan, nan: HTTP Error: 400\n",
      "Error getting neighborhood for nan, nan: HTTP Error: 400\n",
      "Error getting neighborhood for nan, nan: HTTP Error: 400\n"
     ]
    },
    {
     "name": "stdout",
     "output_type": "stream",
     "text": [
      "Error getting neighborhood for nan, nan: HTTP Error: 400\n"
     ]
    },
    {
     "name": "stdout",
     "output_type": "stream",
     "text": [
      "Error getting neighborhood for nan, nan: HTTP Error: 400\n",
      "Error getting neighborhood for nan, nan: HTTP Error: 400\n",
      "Error getting neighborhood for nan, nan: HTTP Error: 400\n",
      "Error getting neighborhood for nan, nan: HTTP Error: 400\n"
     ]
    },
    {
     "name": "stdout",
     "output_type": "stream",
     "text": [
      "Error getting neighborhood for nan, nan: HTTP Error: 400\n",
      "Error getting neighborhood for nan, nan: HTTP Error: 400\n",
      "Error getting neighborhood for nan, nan: HTTP Error: 400\n",
      "Error getting neighborhood for nan, nan: HTTP Error: 400\n",
      "Error getting neighborhood for nan, nan: HTTP Error: 400\n",
      "Error getting neighborhood for nan, nan: HTTP Error: 400\n",
      "Error getting neighborhood for nan, nan: HTTP Error: 400\n"
     ]
    },
    {
     "name": "stdout",
     "output_type": "stream",
     "text": [
      "Error getting neighborhood for nan, nan: HTTP Error: 400\n"
     ]
    },
    {
     "name": "stdout",
     "output_type": "stream",
     "text": [
      "Error getting neighborhood for nan, nan: HTTP Error: 400\n",
      "Error getting neighborhood for nan, nan: HTTP Error: 400\n",
      "Error getting neighborhood for nan, nan: HTTP Error: 400\n",
      "Error getting neighborhood for nan, nan: HTTP Error: 400\n"
     ]
    },
    {
     "name": "stdout",
     "output_type": "stream",
     "text": [
      "Error getting neighborhood for nan, nan: HTTP Error: 400\n",
      "Error getting neighborhood for nan, nan: HTTP Error: 400\n",
      "Error getting neighborhood for nan, nan: HTTP Error: 400\n",
      "Error getting neighborhood for nan, nan: HTTP Error: 400\n",
      "Error getting neighborhood for nan, nan: HTTP Error: 400\n",
      "Error getting neighborhood for nan, nan: HTTP Error: 400\n",
      "Error getting neighborhood for nan, nan: HTTP Error: 400\n"
     ]
    },
    {
     "name": "stdout",
     "output_type": "stream",
     "text": [
      "Error getting neighborhood for nan, nan: HTTP Error: 400\n"
     ]
    },
    {
     "name": "stdout",
     "output_type": "stream",
     "text": [
      "Error getting neighborhood for nan, nan: HTTP Error: 400\n",
      "Error getting neighborhood for nan, nan: HTTP Error: 400\n",
      "Error getting neighborhood for nan, nan: HTTP Error: 400\n",
      "Error getting neighborhood for nan, nan: HTTP Error: 400\n",
      "Error getting neighborhood for nan, nan: HTTP Error: 400\n"
     ]
    },
    {
     "name": "stdout",
     "output_type": "stream",
     "text": [
      "Error getting neighborhood for nan, nan: HTTP Error: 400\n",
      "Error getting neighborhood for nan, nan: HTTP Error: 400\n",
      "Error getting neighborhood for nan, nan: HTTP Error: 400\n",
      "Error getting neighborhood for nan, nan: HTTP Error: 400\n",
      "Error getting neighborhood for nan, nan: HTTP Error: 400\n",
      "Error getting neighborhood for nan, nan: HTTP Error: 400\n",
      "Error getting neighborhood for nan, nan: HTTP Error: 400\n"
     ]
    },
    {
     "name": "stdout",
     "output_type": "stream",
     "text": [
      "Error getting neighborhood for nan, nan: HTTP Error: 400\n"
     ]
    },
    {
     "name": "stdout",
     "output_type": "stream",
     "text": [
      "Error getting neighborhood for nan, nan: HTTP Error: 400\n",
      "Error getting neighborhood for nan, nan: HTTP Error: 400\n",
      "Error getting neighborhood for nan, nan: HTTP Error: 400\n",
      "Error getting neighborhood for nan, nan: HTTP Error: 400\n",
      "Error getting neighborhood for nan, nan: HTTP Error: 400\n"
     ]
    },
    {
     "name": "stdout",
     "output_type": "stream",
     "text": [
      "Error getting neighborhood for nan, nan: HTTP Error: 400\n"
     ]
    },
    {
     "data": {
      "text/html": [
       "<div>\n",
       "<style scoped>\n",
       "    .dataframe tbody tr th:only-of-type {\n",
       "        vertical-align: middle;\n",
       "    }\n",
       "\n",
       "    .dataframe tbody tr th {\n",
       "        vertical-align: top;\n",
       "    }\n",
       "\n",
       "    .dataframe thead th {\n",
       "        text-align: right;\n",
       "    }\n",
       "</style>\n",
       "<table border=\"1\" class=\"dataframe\">\n",
       "  <thead>\n",
       "    <tr style=\"text-align: right;\">\n",
       "      <th></th>\n",
       "      <th>RecordID</th>\n",
       "      <th>Offense</th>\n",
       "      <th>IncidentID</th>\n",
       "      <th>BlockNumber</th>\n",
       "      <th>StreetName</th>\n",
       "      <th>Agency</th>\n",
       "      <th>HourReported</th>\n",
       "      <th>ReportingOfficer</th>\n",
       "      <th>Date</th>\n",
       "      <th>DateString</th>\n",
       "      <th>DayOfWeek</th>\n",
       "      <th>Weekend</th>\n",
       "      <th>Season</th>\n",
       "      <th>HourAMPM</th>\n",
       "      <th>TimeOfDay</th>\n",
       "      <th>FullStreet</th>\n",
       "      <th>lat</th>\n",
       "      <th>lon</th>\n",
       "      <th>neighborhood</th>\n",
       "    </tr>\n",
       "  </thead>\n",
       "  <tbody>\n",
       "    <tr>\n",
       "      <th>0</th>\n",
       "      <td>1</td>\n",
       "      <td>Larceny - From Motor Vehicle</td>\n",
       "      <td>202500024434</td>\n",
       "      <td>100</td>\n",
       "      <td>1ST ST S</td>\n",
       "      <td>CPD</td>\n",
       "      <td>1859</td>\n",
       "      <td>Hannay, Jacob</td>\n",
       "      <td>2025-07-12 18:59:30</td>\n",
       "      <td>2025-07-12 06:59:30 PM</td>\n",
       "      <td>Saturday</td>\n",
       "      <td>True</td>\n",
       "      <td>Summer</td>\n",
       "      <td>06:59 PM</td>\n",
       "      <td>Evening</td>\n",
       "      <td>100 1ST ST S</td>\n",
       "      <td>38.030310</td>\n",
       "      <td>-78.481732</td>\n",
       "      <td>Downtown Mall</td>\n",
       "    </tr>\n",
       "    <tr>\n",
       "      <th>1</th>\n",
       "      <td>2</td>\n",
       "      <td>Lost/FoundProperty</td>\n",
       "      <td>202500024423</td>\n",
       "      <td>100</td>\n",
       "      <td>ELLIEWOOD AVE</td>\n",
       "      <td>CPD</td>\n",
       "      <td>1815</td>\n",
       "      <td>Crowley, Raeann</td>\n",
       "      <td>2025-07-12 18:15:09</td>\n",
       "      <td>2025-07-12 06:15:09 PM</td>\n",
       "      <td>Saturday</td>\n",
       "      <td>True</td>\n",
       "      <td>Summer</td>\n",
       "      <td>06:15 PM</td>\n",
       "      <td>Evening</td>\n",
       "      <td>100 ELLIEWOOD AVE</td>\n",
       "      <td>38.036309</td>\n",
       "      <td>-78.500571</td>\n",
       "      <td>Venable</td>\n",
       "    </tr>\n",
       "    <tr>\n",
       "      <th>2</th>\n",
       "      <td>3</td>\n",
       "      <td>Traffic Stops</td>\n",
       "      <td>202500024405</td>\n",
       "      <td>700</td>\n",
       "      <td>PROSPECT AVE</td>\n",
       "      <td>CPD</td>\n",
       "      <td>1543</td>\n",
       "      <td>Ritter, Kobe</td>\n",
       "      <td>2025-07-12 15:43:58</td>\n",
       "      <td>2025-07-12 03:43:58 PM</td>\n",
       "      <td>Saturday</td>\n",
       "      <td>True</td>\n",
       "      <td>Summer</td>\n",
       "      <td>03:43 PM</td>\n",
       "      <td>Afternoon</td>\n",
       "      <td>700 PROSPECT AVE</td>\n",
       "      <td>38.024639</td>\n",
       "      <td>-78.494396</td>\n",
       "      <td>Fifeville</td>\n",
       "    </tr>\n",
       "    <tr>\n",
       "      <th>3</th>\n",
       "      <td>4</td>\n",
       "      <td>Burglary</td>\n",
       "      <td>202500024387</td>\n",
       "      <td>1500</td>\n",
       "      <td>SHORT 18TH ST</td>\n",
       "      <td>CPD</td>\n",
       "      <td>1051</td>\n",
       "      <td>Mian, Ghulam</td>\n",
       "      <td>2025-07-12 10:51:29</td>\n",
       "      <td>2025-07-12 10:51:29 AM</td>\n",
       "      <td>Saturday</td>\n",
       "      <td>True</td>\n",
       "      <td>Summer</td>\n",
       "      <td>10:51 AM</td>\n",
       "      <td>Morning</td>\n",
       "      <td>1500 SHORT 18TH ST</td>\n",
       "      <td>38.025812</td>\n",
       "      <td>-78.460762</td>\n",
       "      <td>Woolen Mills</td>\n",
       "    </tr>\n",
       "    <tr>\n",
       "      <th>4</th>\n",
       "      <td>5</td>\n",
       "      <td>Harassment</td>\n",
       "      <td>202500024384</td>\n",
       "      <td>500</td>\n",
       "      <td>DRUID AVE</td>\n",
       "      <td>CPD</td>\n",
       "      <td>1000</td>\n",
       "      <td>Kirby, Tyree</td>\n",
       "      <td>2025-07-12 10:00:43</td>\n",
       "      <td>2025-07-12 10:00:43 AM</td>\n",
       "      <td>Saturday</td>\n",
       "      <td>True</td>\n",
       "      <td>Summer</td>\n",
       "      <td>10:00 AM</td>\n",
       "      <td>Morning</td>\n",
       "      <td>500 DRUID AVE</td>\n",
       "      <td>38.021091</td>\n",
       "      <td>-78.485105</td>\n",
       "      <td>Ridge St.</td>\n",
       "    </tr>\n",
       "  </tbody>\n",
       "</table>\n",
       "</div>"
      ],
      "text/plain": [
       "   RecordID                       Offense    IncidentID BlockNumber  \\\n",
       "0         1  Larceny - From Motor Vehicle  202500024434         100   \n",
       "1         2            Lost/FoundProperty  202500024423         100   \n",
       "2         3                 Traffic Stops  202500024405         700   \n",
       "3         4                      Burglary  202500024387        1500   \n",
       "4         5                    Harassment  202500024384         500   \n",
       "\n",
       "      StreetName Agency HourReported ReportingOfficer                Date  \\\n",
       "0       1ST ST S    CPD         1859    Hannay, Jacob 2025-07-12 18:59:30   \n",
       "1  ELLIEWOOD AVE    CPD         1815  Crowley, Raeann 2025-07-12 18:15:09   \n",
       "2   PROSPECT AVE    CPD         1543     Ritter, Kobe 2025-07-12 15:43:58   \n",
       "3  SHORT 18TH ST    CPD         1051     Mian, Ghulam 2025-07-12 10:51:29   \n",
       "4      DRUID AVE    CPD         1000     Kirby, Tyree 2025-07-12 10:00:43   \n",
       "\n",
       "               DateString DayOfWeek  Weekend  Season  HourAMPM  TimeOfDay  \\\n",
       "0  2025-07-12 06:59:30 PM  Saturday     True  Summer  06:59 PM    Evening   \n",
       "1  2025-07-12 06:15:09 PM  Saturday     True  Summer  06:15 PM    Evening   \n",
       "2  2025-07-12 03:43:58 PM  Saturday     True  Summer  03:43 PM  Afternoon   \n",
       "3  2025-07-12 10:51:29 AM  Saturday     True  Summer  10:51 AM    Morning   \n",
       "4  2025-07-12 10:00:43 AM  Saturday     True  Summer  10:00 AM    Morning   \n",
       "\n",
       "           FullStreet        lat        lon   neighborhood  \n",
       "0        100 1ST ST S  38.030310 -78.481732  Downtown Mall  \n",
       "1   100 ELLIEWOOD AVE  38.036309 -78.500571        Venable  \n",
       "2    700 PROSPECT AVE  38.024639 -78.494396      Fifeville  \n",
       "3  1500 SHORT 18TH ST  38.025812 -78.460762   Woolen Mills  \n",
       "4       500 DRUID AVE  38.021091 -78.485105      Ridge St.  "
      ]
     },
     "execution_count": 10,
     "metadata": {},
     "output_type": "execute_result"
    }
   ],
   "source": [
    "# Initialize the Google Maps client.\n",
    "gmaps = googlemaps.Client(key=GOOGLE_API_KEY)\n",
    "\n",
    "# Try to load a persistent neighborhood cache if available.\n",
    "try:\n",
    "    with open(\"neighborhood_cache.pkl\", \"rb\") as f:\n",
    "        neighborhood_cache = pickle.load(f)\n",
    "    print(\"Loaded neighborhood cache.\")\n",
    "except FileNotFoundError:\n",
    "    neighborhood_cache = {}\n",
    "    print(\"No neighborhood cache found; starting fresh.\")\n",
    "\n",
    "def get_neighborhood(lat, lon):\n",
    "    \"\"\"\n",
    "    Reverse geocodes a latitude and longitude to retrieve the neighborhood.\n",
    "    Caches results to speed up subsequent lookups.\n",
    "    \"\"\"\n",
    "    key = (lat, lon)\n",
    "    if key in neighborhood_cache:\n",
    "        return neighborhood_cache[key]\n",
    "    \n",
    "    try:\n",
    "        result = gmaps.reverse_geocode((lat, lon))\n",
    "        if result:\n",
    "            # Look for the 'neighborhood' component in the first result.\n",
    "            for component in result[0]['address_components']:\n",
    "                if 'neighborhood' in component['types']:\n",
    "                    neighborhood = component['long_name']\n",
    "                    neighborhood_cache[key] = neighborhood\n",
    "                    return neighborhood\n",
    "            # If no neighborhood is found, return \"N/A\"\n",
    "            neighborhood_cache[key] = \"N/A\"\n",
    "            return \"N/A\"\n",
    "    except Exception as e:\n",
    "        print(f\"Error getting neighborhood for {lat}, {lon}: {e}\")\n",
    "        return \"N/A\"\n",
    "    \n",
    "    # Pause to respect usage limits.\n",
    "    time.sleep(1)\n",
    "\n",
    "# Example usage: Apply to your DataFrame 'df' that already has 'lat' and 'lon' columns.\n",
    "df['neighborhood'] = df.apply(lambda row: get_neighborhood(row['lat'], row['lon']), axis=1)\n",
    "\n",
    "# Save the updated neighborhood cache.\n",
    "with open(\"neighborhood_cache.pkl\", \"wb\") as f:\n",
    "    pickle.dump(neighborhood_cache, f)\n",
    "\n",
    "df.head()\n"
   ]
  },
  {
   "cell_type": "markdown",
   "id": "b61cc07f",
   "metadata": {
    "papermill": {
     "duration": 0.005226,
     "end_time": "2025-07-15T01:11:15.122067",
     "exception": false,
     "start_time": "2025-07-15T01:11:15.116841",
     "status": "completed"
    },
    "tags": []
   },
   "source": [
    "### Zip"
   ]
  },
  {
   "cell_type": "code",
   "execution_count": 11,
   "id": "8ada7f59",
   "metadata": {
    "execution": {
     "iopub.execute_input": "2025-07-15T01:11:15.133417Z",
     "iopub.status.busy": "2025-07-15T01:11:15.133210Z",
     "iopub.status.idle": "2025-07-15T01:12:08.473379Z",
     "shell.execute_reply": "2025-07-15T01:12:08.472813Z"
    },
    "papermill": {
     "duration": 53.347114,
     "end_time": "2025-07-15T01:12:08.474379",
     "exception": false,
     "start_time": "2025-07-15T01:11:15.127265",
     "status": "completed"
    },
    "tags": []
   },
   "outputs": [
    {
     "name": "stdout",
     "output_type": "stream",
     "text": [
      "Loaded zip cache.\n",
      "Error getting ZIP for nan, nan: Must be a coordinate pair or Point\n"
     ]
    },
    {
     "name": "stdout",
     "output_type": "stream",
     "text": [
      "Error getting ZIP for nan, nan: Must be a coordinate pair or Point\n"
     ]
    },
    {
     "name": "stdout",
     "output_type": "stream",
     "text": [
      "Error getting ZIP for nan, nan: Must be a coordinate pair or Point\n"
     ]
    },
    {
     "name": "stdout",
     "output_type": "stream",
     "text": [
      "Error getting ZIP for nan, nan: Must be a coordinate pair or Point\n"
     ]
    },
    {
     "name": "stdout",
     "output_type": "stream",
     "text": [
      "Error getting ZIP for nan, nan: Must be a coordinate pair or Point\n"
     ]
    },
    {
     "name": "stdout",
     "output_type": "stream",
     "text": [
      "Error getting ZIP for nan, nan: Must be a coordinate pair or Point\n"
     ]
    },
    {
     "name": "stdout",
     "output_type": "stream",
     "text": [
      "Error getting ZIP for nan, nan: Must be a coordinate pair or Point\n"
     ]
    },
    {
     "name": "stdout",
     "output_type": "stream",
     "text": [
      "Error getting ZIP for nan, nan: Must be a coordinate pair or Point\n"
     ]
    },
    {
     "name": "stdout",
     "output_type": "stream",
     "text": [
      "Error getting ZIP for nan, nan: Must be a coordinate pair or Point\n"
     ]
    },
    {
     "name": "stdout",
     "output_type": "stream",
     "text": [
      "Error getting ZIP for nan, nan: Must be a coordinate pair or Point\n"
     ]
    },
    {
     "name": "stdout",
     "output_type": "stream",
     "text": [
      "Error getting ZIP for nan, nan: Must be a coordinate pair or Point\n"
     ]
    },
    {
     "name": "stdout",
     "output_type": "stream",
     "text": [
      "Error getting ZIP for nan, nan: Must be a coordinate pair or Point\n"
     ]
    },
    {
     "name": "stdout",
     "output_type": "stream",
     "text": [
      "Error getting ZIP for nan, nan: Must be a coordinate pair or Point\n"
     ]
    },
    {
     "name": "stdout",
     "output_type": "stream",
     "text": [
      "Error getting ZIP for nan, nan: Must be a coordinate pair or Point\n"
     ]
    },
    {
     "name": "stdout",
     "output_type": "stream",
     "text": [
      "Error getting ZIP for nan, nan: Must be a coordinate pair or Point\n"
     ]
    },
    {
     "name": "stdout",
     "output_type": "stream",
     "text": [
      "Error getting ZIP for nan, nan: Must be a coordinate pair or Point\n"
     ]
    },
    {
     "name": "stdout",
     "output_type": "stream",
     "text": [
      "Error getting ZIP for nan, nan: Must be a coordinate pair or Point\n"
     ]
    },
    {
     "name": "stdout",
     "output_type": "stream",
     "text": [
      "Error getting ZIP for nan, nan: Must be a coordinate pair or Point\n"
     ]
    },
    {
     "name": "stdout",
     "output_type": "stream",
     "text": [
      "Error getting ZIP for nan, nan: Must be a coordinate pair or Point\n"
     ]
    },
    {
     "name": "stdout",
     "output_type": "stream",
     "text": [
      "Error getting ZIP for nan, nan: Must be a coordinate pair or Point\n"
     ]
    },
    {
     "name": "stdout",
     "output_type": "stream",
     "text": [
      "Error getting ZIP for nan, nan: Must be a coordinate pair or Point\n"
     ]
    },
    {
     "name": "stdout",
     "output_type": "stream",
     "text": [
      "Error getting ZIP for nan, nan: Must be a coordinate pair or Point\n"
     ]
    },
    {
     "name": "stdout",
     "output_type": "stream",
     "text": [
      "Error getting ZIP for nan, nan: Must be a coordinate pair or Point\n"
     ]
    },
    {
     "name": "stdout",
     "output_type": "stream",
     "text": [
      "Error getting ZIP for nan, nan: Must be a coordinate pair or Point\n"
     ]
    },
    {
     "name": "stdout",
     "output_type": "stream",
     "text": [
      "Error getting ZIP for nan, nan: Must be a coordinate pair or Point\n"
     ]
    },
    {
     "name": "stdout",
     "output_type": "stream",
     "text": [
      "Error getting ZIP for nan, nan: Must be a coordinate pair or Point\n"
     ]
    },
    {
     "name": "stdout",
     "output_type": "stream",
     "text": [
      "Error getting ZIP for nan, nan: Must be a coordinate pair or Point\n"
     ]
    },
    {
     "name": "stdout",
     "output_type": "stream",
     "text": [
      "Error getting ZIP for nan, nan: Must be a coordinate pair or Point\n"
     ]
    },
    {
     "name": "stdout",
     "output_type": "stream",
     "text": [
      "Error getting ZIP for nan, nan: Must be a coordinate pair or Point\n"
     ]
    },
    {
     "name": "stdout",
     "output_type": "stream",
     "text": [
      "Error getting ZIP for nan, nan: Must be a coordinate pair or Point\n"
     ]
    },
    {
     "name": "stdout",
     "output_type": "stream",
     "text": [
      "Error getting ZIP for nan, nan: Must be a coordinate pair or Point\n"
     ]
    },
    {
     "name": "stdout",
     "output_type": "stream",
     "text": [
      "Error getting ZIP for nan, nan: Must be a coordinate pair or Point\n"
     ]
    },
    {
     "name": "stdout",
     "output_type": "stream",
     "text": [
      "Error getting ZIP for nan, nan: Must be a coordinate pair or Point\n"
     ]
    },
    {
     "name": "stdout",
     "output_type": "stream",
     "text": [
      "Error getting ZIP for nan, nan: Must be a coordinate pair or Point\n"
     ]
    },
    {
     "name": "stdout",
     "output_type": "stream",
     "text": [
      "Error getting ZIP for nan, nan: Must be a coordinate pair or Point\n"
     ]
    },
    {
     "name": "stdout",
     "output_type": "stream",
     "text": [
      "Error getting ZIP for nan, nan: Must be a coordinate pair or Point\n"
     ]
    },
    {
     "name": "stdout",
     "output_type": "stream",
     "text": [
      "Error getting ZIP for nan, nan: Must be a coordinate pair or Point\n"
     ]
    },
    {
     "name": "stdout",
     "output_type": "stream",
     "text": [
      "Error getting ZIP for nan, nan: Must be a coordinate pair or Point\n"
     ]
    },
    {
     "name": "stdout",
     "output_type": "stream",
     "text": [
      "Error getting ZIP for nan, nan: Must be a coordinate pair or Point\n"
     ]
    },
    {
     "name": "stdout",
     "output_type": "stream",
     "text": [
      "Error getting ZIP for nan, nan: Must be a coordinate pair or Point\n"
     ]
    },
    {
     "name": "stdout",
     "output_type": "stream",
     "text": [
      "Error getting ZIP for nan, nan: Must be a coordinate pair or Point\n"
     ]
    },
    {
     "name": "stdout",
     "output_type": "stream",
     "text": [
      "Error getting ZIP for nan, nan: Must be a coordinate pair or Point\n"
     ]
    },
    {
     "name": "stdout",
     "output_type": "stream",
     "text": [
      "Error getting ZIP for nan, nan: Must be a coordinate pair or Point\n"
     ]
    },
    {
     "name": "stdout",
     "output_type": "stream",
     "text": [
      "Error getting ZIP for nan, nan: Must be a coordinate pair or Point\n"
     ]
    },
    {
     "name": "stdout",
     "output_type": "stream",
     "text": [
      "Error getting ZIP for nan, nan: Must be a coordinate pair or Point\n"
     ]
    },
    {
     "name": "stdout",
     "output_type": "stream",
     "text": [
      "Error getting ZIP for nan, nan: Must be a coordinate pair or Point\n"
     ]
    },
    {
     "name": "stdout",
     "output_type": "stream",
     "text": [
      "Error getting ZIP for nan, nan: Must be a coordinate pair or Point\n"
     ]
    },
    {
     "name": "stdout",
     "output_type": "stream",
     "text": [
      "Error getting ZIP for nan, nan: Must be a coordinate pair or Point\n"
     ]
    },
    {
     "name": "stdout",
     "output_type": "stream",
     "text": [
      "Error getting ZIP for nan, nan: Must be a coordinate pair or Point\n"
     ]
    },
    {
     "name": "stdout",
     "output_type": "stream",
     "text": [
      "Error getting ZIP for nan, nan: Must be a coordinate pair or Point\n"
     ]
    },
    {
     "name": "stdout",
     "output_type": "stream",
     "text": [
      "Error getting ZIP for nan, nan: Must be a coordinate pair or Point\n"
     ]
    },
    {
     "name": "stdout",
     "output_type": "stream",
     "text": [
      "Error getting ZIP for nan, nan: Must be a coordinate pair or Point\n"
     ]
    },
    {
     "name": "stdout",
     "output_type": "stream",
     "text": [
      "Error getting ZIP for nan, nan: Must be a coordinate pair or Point\n"
     ]
    },
    {
     "data": {
      "text/html": [
       "<div>\n",
       "<style scoped>\n",
       "    .dataframe tbody tr th:only-of-type {\n",
       "        vertical-align: middle;\n",
       "    }\n",
       "\n",
       "    .dataframe tbody tr th {\n",
       "        vertical-align: top;\n",
       "    }\n",
       "\n",
       "    .dataframe thead th {\n",
       "        text-align: right;\n",
       "    }\n",
       "</style>\n",
       "<table border=\"1\" class=\"dataframe\">\n",
       "  <thead>\n",
       "    <tr style=\"text-align: right;\">\n",
       "      <th></th>\n",
       "      <th>RecordID</th>\n",
       "      <th>Offense</th>\n",
       "      <th>IncidentID</th>\n",
       "      <th>BlockNumber</th>\n",
       "      <th>StreetName</th>\n",
       "      <th>Agency</th>\n",
       "      <th>HourReported</th>\n",
       "      <th>ReportingOfficer</th>\n",
       "      <th>Date</th>\n",
       "      <th>DateString</th>\n",
       "      <th>DayOfWeek</th>\n",
       "      <th>Weekend</th>\n",
       "      <th>Season</th>\n",
       "      <th>HourAMPM</th>\n",
       "      <th>TimeOfDay</th>\n",
       "      <th>FullStreet</th>\n",
       "      <th>lat</th>\n",
       "      <th>lon</th>\n",
       "      <th>neighborhood</th>\n",
       "      <th>zip</th>\n",
       "    </tr>\n",
       "  </thead>\n",
       "  <tbody>\n",
       "    <tr>\n",
       "      <th>0</th>\n",
       "      <td>1</td>\n",
       "      <td>Larceny - From Motor Vehicle</td>\n",
       "      <td>202500024434</td>\n",
       "      <td>100</td>\n",
       "      <td>1ST ST S</td>\n",
       "      <td>CPD</td>\n",
       "      <td>1859</td>\n",
       "      <td>Hannay, Jacob</td>\n",
       "      <td>2025-07-12 18:59:30</td>\n",
       "      <td>2025-07-12 06:59:30 PM</td>\n",
       "      <td>Saturday</td>\n",
       "      <td>True</td>\n",
       "      <td>Summer</td>\n",
       "      <td>06:59 PM</td>\n",
       "      <td>Evening</td>\n",
       "      <td>100 1ST ST S</td>\n",
       "      <td>38.030310</td>\n",
       "      <td>-78.481732</td>\n",
       "      <td>Downtown Mall</td>\n",
       "      <td>22902</td>\n",
       "    </tr>\n",
       "    <tr>\n",
       "      <th>1</th>\n",
       "      <td>2</td>\n",
       "      <td>Lost/FoundProperty</td>\n",
       "      <td>202500024423</td>\n",
       "      <td>100</td>\n",
       "      <td>ELLIEWOOD AVE</td>\n",
       "      <td>CPD</td>\n",
       "      <td>1815</td>\n",
       "      <td>Crowley, Raeann</td>\n",
       "      <td>2025-07-12 18:15:09</td>\n",
       "      <td>2025-07-12 06:15:09 PM</td>\n",
       "      <td>Saturday</td>\n",
       "      <td>True</td>\n",
       "      <td>Summer</td>\n",
       "      <td>06:15 PM</td>\n",
       "      <td>Evening</td>\n",
       "      <td>100 ELLIEWOOD AVE</td>\n",
       "      <td>38.036309</td>\n",
       "      <td>-78.500571</td>\n",
       "      <td>Venable</td>\n",
       "      <td>22903</td>\n",
       "    </tr>\n",
       "    <tr>\n",
       "      <th>2</th>\n",
       "      <td>3</td>\n",
       "      <td>Traffic Stops</td>\n",
       "      <td>202500024405</td>\n",
       "      <td>700</td>\n",
       "      <td>PROSPECT AVE</td>\n",
       "      <td>CPD</td>\n",
       "      <td>1543</td>\n",
       "      <td>Ritter, Kobe</td>\n",
       "      <td>2025-07-12 15:43:58</td>\n",
       "      <td>2025-07-12 03:43:58 PM</td>\n",
       "      <td>Saturday</td>\n",
       "      <td>True</td>\n",
       "      <td>Summer</td>\n",
       "      <td>03:43 PM</td>\n",
       "      <td>Afternoon</td>\n",
       "      <td>700 PROSPECT AVE</td>\n",
       "      <td>38.024639</td>\n",
       "      <td>-78.494396</td>\n",
       "      <td>Fifeville</td>\n",
       "      <td>22903</td>\n",
       "    </tr>\n",
       "    <tr>\n",
       "      <th>3</th>\n",
       "      <td>4</td>\n",
       "      <td>Burglary</td>\n",
       "      <td>202500024387</td>\n",
       "      <td>1500</td>\n",
       "      <td>SHORT 18TH ST</td>\n",
       "      <td>CPD</td>\n",
       "      <td>1051</td>\n",
       "      <td>Mian, Ghulam</td>\n",
       "      <td>2025-07-12 10:51:29</td>\n",
       "      <td>2025-07-12 10:51:29 AM</td>\n",
       "      <td>Saturday</td>\n",
       "      <td>True</td>\n",
       "      <td>Summer</td>\n",
       "      <td>10:51 AM</td>\n",
       "      <td>Morning</td>\n",
       "      <td>1500 SHORT 18TH ST</td>\n",
       "      <td>38.025812</td>\n",
       "      <td>-78.460762</td>\n",
       "      <td>Woolen Mills</td>\n",
       "      <td>22902</td>\n",
       "    </tr>\n",
       "    <tr>\n",
       "      <th>4</th>\n",
       "      <td>5</td>\n",
       "      <td>Harassment</td>\n",
       "      <td>202500024384</td>\n",
       "      <td>500</td>\n",
       "      <td>DRUID AVE</td>\n",
       "      <td>CPD</td>\n",
       "      <td>1000</td>\n",
       "      <td>Kirby, Tyree</td>\n",
       "      <td>2025-07-12 10:00:43</td>\n",
       "      <td>2025-07-12 10:00:43 AM</td>\n",
       "      <td>Saturday</td>\n",
       "      <td>True</td>\n",
       "      <td>Summer</td>\n",
       "      <td>10:00 AM</td>\n",
       "      <td>Morning</td>\n",
       "      <td>500 DRUID AVE</td>\n",
       "      <td>38.021091</td>\n",
       "      <td>-78.485105</td>\n",
       "      <td>Ridge St.</td>\n",
       "      <td>22903</td>\n",
       "    </tr>\n",
       "  </tbody>\n",
       "</table>\n",
       "</div>"
      ],
      "text/plain": [
       "   RecordID                       Offense    IncidentID BlockNumber  \\\n",
       "0         1  Larceny - From Motor Vehicle  202500024434         100   \n",
       "1         2            Lost/FoundProperty  202500024423         100   \n",
       "2         3                 Traffic Stops  202500024405         700   \n",
       "3         4                      Burglary  202500024387        1500   \n",
       "4         5                    Harassment  202500024384         500   \n",
       "\n",
       "      StreetName Agency HourReported ReportingOfficer                Date  \\\n",
       "0       1ST ST S    CPD         1859    Hannay, Jacob 2025-07-12 18:59:30   \n",
       "1  ELLIEWOOD AVE    CPD         1815  Crowley, Raeann 2025-07-12 18:15:09   \n",
       "2   PROSPECT AVE    CPD         1543     Ritter, Kobe 2025-07-12 15:43:58   \n",
       "3  SHORT 18TH ST    CPD         1051     Mian, Ghulam 2025-07-12 10:51:29   \n",
       "4      DRUID AVE    CPD         1000     Kirby, Tyree 2025-07-12 10:00:43   \n",
       "\n",
       "               DateString DayOfWeek  Weekend  Season  HourAMPM  TimeOfDay  \\\n",
       "0  2025-07-12 06:59:30 PM  Saturday     True  Summer  06:59 PM    Evening   \n",
       "1  2025-07-12 06:15:09 PM  Saturday     True  Summer  06:15 PM    Evening   \n",
       "2  2025-07-12 03:43:58 PM  Saturday     True  Summer  03:43 PM  Afternoon   \n",
       "3  2025-07-12 10:51:29 AM  Saturday     True  Summer  10:51 AM    Morning   \n",
       "4  2025-07-12 10:00:43 AM  Saturday     True  Summer  10:00 AM    Morning   \n",
       "\n",
       "           FullStreet        lat        lon   neighborhood    zip  \n",
       "0        100 1ST ST S  38.030310 -78.481732  Downtown Mall  22902  \n",
       "1   100 ELLIEWOOD AVE  38.036309 -78.500571        Venable  22903  \n",
       "2    700 PROSPECT AVE  38.024639 -78.494396      Fifeville  22903  \n",
       "3  1500 SHORT 18TH ST  38.025812 -78.460762   Woolen Mills  22902  \n",
       "4       500 DRUID AVE  38.021091 -78.485105      Ridge St.  22903  "
      ]
     },
     "execution_count": 11,
     "metadata": {},
     "output_type": "execute_result"
    }
   ],
   "source": [
    "# Initialize the geocoder.\n",
    "geolocator = Nominatim(user_agent=\"zip_lookup\")\n",
    "\n",
    "# Try to load a persistent ZIP cache if available.\n",
    "try:\n",
    "    with open(\"zip_cache.pkl\", \"rb\") as f:\n",
    "        zip_cache = pickle.load(f)\n",
    "    print(\"Loaded zip cache.\")\n",
    "except FileNotFoundError:\n",
    "    zip_cache = {}\n",
    "    print(\"No zip cache found; starting fresh.\")\n",
    "\n",
    "def get_zip(lat, lon):\n",
    "    \"\"\"\n",
    "    Reverse geocodes a latitude and longitude to retrieve the ZIP code.\n",
    "    Caches results to speed up subsequent lookups.\n",
    "    \"\"\"\n",
    "    key = (lat, lon)\n",
    "    if key in zip_cache:\n",
    "        return zip_cache[key]\n",
    "    \n",
    "    try:\n",
    "        location = geolocator.reverse((lat, lon), exactly_one=True, timeout=10)\n",
    "        address = location.raw.get('address', {})\n",
    "        postal_code = address.get('postcode', \"N/A\")\n",
    "    except Exception as e:\n",
    "        print(f\"Error getting ZIP for {lat}, {lon}: {e}\")\n",
    "        postal_code = \"N/A\"\n",
    "    \n",
    "    zip_cache[key] = postal_code\n",
    "    # Pause to respect the usage policy.\n",
    "    time.sleep(1)\n",
    "    return postal_code\n",
    "\n",
    "# Apply the function to each row in the DataFrame.\n",
    "df['zip'] = df.apply(lambda row: get_zip(row['lat'], row['lon']), axis=1)\n",
    "\n",
    "# Save the updated ZIP cache.\n",
    "with open(\"zip_cache.pkl\", \"wb\") as f:\n",
    "    pickle.dump(zip_cache, f)\n",
    "\n",
    "df.head()\n"
   ]
  },
  {
   "cell_type": "code",
   "execution_count": 12,
   "id": "68149a55",
   "metadata": {
    "execution": {
     "iopub.execute_input": "2025-07-15T01:12:08.491189Z",
     "iopub.status.busy": "2025-07-15T01:12:08.490723Z",
     "iopub.status.idle": "2025-07-15T01:12:08.520308Z",
     "shell.execute_reply": "2025-07-15T01:12:08.519705Z"
    },
    "papermill": {
     "duration": 0.038878,
     "end_time": "2025-07-15T01:12:08.521320",
     "exception": false,
     "start_time": "2025-07-15T01:12:08.482442",
     "status": "completed"
    },
    "tags": []
   },
   "outputs": [
    {
     "name": "stdout",
     "output_type": "stream",
     "text": [
      "                  MissingCount  MissingPercentage\n",
      "RecordID                     0               0.00\n",
      "Offense                      0               0.00\n",
      "IncidentID                   0               0.00\n",
      "BlockNumber                  0               0.00\n",
      "StreetName                   0               0.00\n",
      "Agency                       0               0.00\n",
      "HourReported                 0               0.00\n",
      "ReportingOfficer            17               0.07\n",
      "Date                         0               0.00\n",
      "DateString                   0               0.00\n",
      "DayOfWeek                    0               0.00\n",
      "Weekend                      0               0.00\n",
      "Season                       0               0.00\n",
      "HourAMPM                     0               0.00\n",
      "TimeOfDay                    0               0.00\n",
      "FullStreet                   0               0.00\n",
      "lat                         53               0.21\n",
      "lon                         53               0.21\n",
      "neighborhood                 0               0.00\n",
      "zip                          0               0.00\n"
     ]
    }
   ],
   "source": [
    "missing_info = missing_percentage(df)\n",
    "print(missing_info)\n"
   ]
  },
  {
   "cell_type": "code",
   "execution_count": 13,
   "id": "0712aac3",
   "metadata": {
    "execution": {
     "iopub.execute_input": "2025-07-15T01:12:08.538124Z",
     "iopub.status.busy": "2025-07-15T01:12:08.537655Z",
     "iopub.status.idle": "2025-07-15T01:12:08.568338Z",
     "shell.execute_reply": "2025-07-15T01:12:08.567772Z"
    },
    "papermill": {
     "duration": 0.039955,
     "end_time": "2025-07-15T01:12:08.569315",
     "exception": false,
     "start_time": "2025-07-15T01:12:08.529360",
     "status": "completed"
    },
    "tags": []
   },
   "outputs": [
    {
     "name": "stdout",
     "output_type": "stream",
     "text": [
      "<class 'pandas.core.frame.DataFrame'>\n",
      "RangeIndex: 25527 entries, 0 to 25526\n",
      "Data columns (total 20 columns):\n",
      " #   Column            Non-Null Count  Dtype         \n",
      "---  ------            --------------  -----         \n",
      " 0   RecordID          25527 non-null  int64         \n",
      " 1   Offense           25527 non-null  object        \n",
      " 2   IncidentID        25527 non-null  object        \n",
      " 3   BlockNumber       25527 non-null  object        \n",
      " 4   StreetName        25527 non-null  object        \n",
      " 5   Agency            25527 non-null  object        \n",
      " 6   HourReported      25527 non-null  object        \n",
      " 7   ReportingOfficer  25510 non-null  object        \n",
      " 8   Date              25527 non-null  datetime64[ns]\n",
      " 9   DateString        25527 non-null  object        \n",
      " 10  DayOfWeek         25527 non-null  object        \n",
      " 11  Weekend           25527 non-null  bool          \n",
      " 12  Season            25527 non-null  object        \n",
      " 13  HourAMPM          25527 non-null  object        \n",
      " 14  TimeOfDay         25527 non-null  object        \n",
      " 15  FullStreet        25527 non-null  object        \n",
      " 16  lat               25474 non-null  float64       \n",
      " 17  lon               25474 non-null  float64       \n",
      " 18  neighborhood      25527 non-null  object        \n",
      " 19  zip               25527 non-null  object        \n",
      "dtypes: bool(1), datetime64[ns](1), float64(2), int64(1), object(15)\n",
      "memory usage: 3.7+ MB\n"
     ]
    }
   ],
   "source": [
    "df.info()"
   ]
  },
  {
   "cell_type": "code",
   "execution_count": 14,
   "id": "aaa58ef9",
   "metadata": {
    "execution": {
     "iopub.execute_input": "2025-07-15T01:12:08.586595Z",
     "iopub.status.busy": "2025-07-15T01:12:08.586091Z",
     "iopub.status.idle": "2025-07-15T01:12:08.632881Z",
     "shell.execute_reply": "2025-07-15T01:12:08.632281Z"
    },
    "papermill": {
     "duration": 0.05642,
     "end_time": "2025-07-15T01:12:08.633881",
     "exception": false,
     "start_time": "2025-07-15T01:12:08.577461",
     "status": "completed"
    },
    "tags": []
   },
   "outputs": [
    {
     "data": {
      "text/html": [
       "<div>\n",
       "<style scoped>\n",
       "    .dataframe tbody tr th:only-of-type {\n",
       "        vertical-align: middle;\n",
       "    }\n",
       "\n",
       "    .dataframe tbody tr th {\n",
       "        vertical-align: top;\n",
       "    }\n",
       "\n",
       "    .dataframe thead th {\n",
       "        text-align: right;\n",
       "    }\n",
       "</style>\n",
       "<table border=\"1\" class=\"dataframe\">\n",
       "  <thead>\n",
       "    <tr style=\"text-align: right;\">\n",
       "      <th></th>\n",
       "      <th>RecordID</th>\n",
       "      <th>Offense</th>\n",
       "      <th>IncidentID</th>\n",
       "      <th>Agency</th>\n",
       "      <th>ReportingOfficer</th>\n",
       "      <th>Date</th>\n",
       "      <th>DayOfWeek</th>\n",
       "      <th>Weekend</th>\n",
       "      <th>Season</th>\n",
       "      <th>TimeOfDay</th>\n",
       "      <th>FullStreet</th>\n",
       "      <th>lat</th>\n",
       "      <th>lon</th>\n",
       "      <th>neighborhood</th>\n",
       "      <th>zip</th>\n",
       "    </tr>\n",
       "  </thead>\n",
       "  <tbody>\n",
       "    <tr>\n",
       "      <th>0</th>\n",
       "      <td>1</td>\n",
       "      <td>Larceny - From Motor Vehicle</td>\n",
       "      <td>202500024434</td>\n",
       "      <td>CPD</td>\n",
       "      <td>Hannay, Jacob</td>\n",
       "      <td>2025-07-12 18:59:30</td>\n",
       "      <td>Saturday</td>\n",
       "      <td>True</td>\n",
       "      <td>Summer</td>\n",
       "      <td>Evening</td>\n",
       "      <td>100 1ST ST S</td>\n",
       "      <td>38.03031</td>\n",
       "      <td>-78.481732</td>\n",
       "      <td>Downtown Mall</td>\n",
       "      <td>22902</td>\n",
       "    </tr>\n",
       "    <tr>\n",
       "      <th>1</th>\n",
       "      <td>2</td>\n",
       "      <td>Lost/FoundProperty</td>\n",
       "      <td>202500024423</td>\n",
       "      <td>CPD</td>\n",
       "      <td>Crowley, Raeann</td>\n",
       "      <td>2025-07-12 18:15:09</td>\n",
       "      <td>Saturday</td>\n",
       "      <td>True</td>\n",
       "      <td>Summer</td>\n",
       "      <td>Evening</td>\n",
       "      <td>100 ELLIEWOOD AVE</td>\n",
       "      <td>38.036309</td>\n",
       "      <td>-78.500571</td>\n",
       "      <td>Venable</td>\n",
       "      <td>22903</td>\n",
       "    </tr>\n",
       "    <tr>\n",
       "      <th>2</th>\n",
       "      <td>3</td>\n",
       "      <td>Traffic Stops</td>\n",
       "      <td>202500024405</td>\n",
       "      <td>CPD</td>\n",
       "      <td>Ritter, Kobe</td>\n",
       "      <td>2025-07-12 15:43:58</td>\n",
       "      <td>Saturday</td>\n",
       "      <td>True</td>\n",
       "      <td>Summer</td>\n",
       "      <td>Afternoon</td>\n",
       "      <td>700 PROSPECT AVE</td>\n",
       "      <td>38.024639</td>\n",
       "      <td>-78.494396</td>\n",
       "      <td>Fifeville</td>\n",
       "      <td>22903</td>\n",
       "    </tr>\n",
       "    <tr>\n",
       "      <th>3</th>\n",
       "      <td>4</td>\n",
       "      <td>Burglary</td>\n",
       "      <td>202500024387</td>\n",
       "      <td>CPD</td>\n",
       "      <td>Mian, Ghulam</td>\n",
       "      <td>2025-07-12 10:51:29</td>\n",
       "      <td>Saturday</td>\n",
       "      <td>True</td>\n",
       "      <td>Summer</td>\n",
       "      <td>Morning</td>\n",
       "      <td>1500 SHORT 18TH ST</td>\n",
       "      <td>38.025812</td>\n",
       "      <td>-78.460762</td>\n",
       "      <td>Woolen Mills</td>\n",
       "      <td>22902</td>\n",
       "    </tr>\n",
       "    <tr>\n",
       "      <th>4</th>\n",
       "      <td>5</td>\n",
       "      <td>Harassment</td>\n",
       "      <td>202500024384</td>\n",
       "      <td>CPD</td>\n",
       "      <td>Kirby, Tyree</td>\n",
       "      <td>2025-07-12 10:00:43</td>\n",
       "      <td>Saturday</td>\n",
       "      <td>True</td>\n",
       "      <td>Summer</td>\n",
       "      <td>Morning</td>\n",
       "      <td>500 DRUID AVE</td>\n",
       "      <td>38.021091</td>\n",
       "      <td>-78.485105</td>\n",
       "      <td>Ridge St.</td>\n",
       "      <td>22903</td>\n",
       "    </tr>\n",
       "  </tbody>\n",
       "</table>\n",
       "</div>"
      ],
      "text/plain": [
       "   RecordID                       Offense    IncidentID Agency  \\\n",
       "0         1  Larceny - From Motor Vehicle  202500024434    CPD   \n",
       "1         2            Lost/FoundProperty  202500024423    CPD   \n",
       "2         3                 Traffic Stops  202500024405    CPD   \n",
       "3         4                      Burglary  202500024387    CPD   \n",
       "4         5                    Harassment  202500024384    CPD   \n",
       "\n",
       "  ReportingOfficer                Date DayOfWeek  Weekend  Season  TimeOfDay  \\\n",
       "0    Hannay, Jacob 2025-07-12 18:59:30  Saturday     True  Summer    Evening   \n",
       "1  Crowley, Raeann 2025-07-12 18:15:09  Saturday     True  Summer    Evening   \n",
       "2     Ritter, Kobe 2025-07-12 15:43:58  Saturday     True  Summer  Afternoon   \n",
       "3     Mian, Ghulam 2025-07-12 10:51:29  Saturday     True  Summer    Morning   \n",
       "4     Kirby, Tyree 2025-07-12 10:00:43  Saturday     True  Summer    Morning   \n",
       "\n",
       "           FullStreet        lat        lon   neighborhood    zip  \n",
       "0        100 1ST ST S   38.03031 -78.481732  Downtown Mall  22902  \n",
       "1   100 ELLIEWOOD AVE  38.036309 -78.500571        Venable  22903  \n",
       "2    700 PROSPECT AVE  38.024639 -78.494396      Fifeville  22903  \n",
       "3  1500 SHORT 18TH ST  38.025812 -78.460762   Woolen Mills  22902  \n",
       "4       500 DRUID AVE  38.021091 -78.485105      Ridge St.  22903  "
      ]
     },
     "execution_count": 14,
     "metadata": {},
     "output_type": "execute_result"
    }
   ],
   "source": [
    "# Now drop the original BlockNumber and StreetName columns\n",
    "df.drop(columns=['BlockNumber', 'StreetName','HourAMPM','HourReported','DateString'], inplace=True)\n",
    "df[\"zip\"] = df[\"zip\"].astype(str)\n",
    "\n",
    "# Fill all missing values in the DataFrame with \"N/A\"\n",
    "df.replace({None: \"N/A\", np.nan: \"N/A\", \"\": \"N/A\"}, inplace=True)\n",
    "df.head()"
   ]
  },
  {
   "cell_type": "code",
   "execution_count": 15,
   "id": "788ffa3e",
   "metadata": {
    "execution": {
     "iopub.execute_input": "2025-07-15T01:12:08.651438Z",
     "iopub.status.busy": "2025-07-15T01:12:08.651003Z",
     "iopub.status.idle": "2025-07-15T01:12:08.670913Z",
     "shell.execute_reply": "2025-07-15T01:12:08.670367Z"
    },
    "papermill": {
     "duration": 0.029551,
     "end_time": "2025-07-15T01:12:08.671903",
     "exception": false,
     "start_time": "2025-07-15T01:12:08.642352",
     "status": "completed"
    },
    "tags": []
   },
   "outputs": [
    {
     "name": "stdout",
     "output_type": "stream",
     "text": [
      "                  MissingCount  MissingPercentage\n",
      "RecordID                     0                0.0\n",
      "Offense                      0                0.0\n",
      "IncidentID                   0                0.0\n",
      "Agency                       0                0.0\n",
      "ReportingOfficer             0                0.0\n",
      "Date                         0                0.0\n",
      "DayOfWeek                    0                0.0\n",
      "Weekend                      0                0.0\n",
      "Season                       0                0.0\n",
      "TimeOfDay                    0                0.0\n",
      "FullStreet                   0                0.0\n",
      "lat                          0                0.0\n",
      "lon                          0                0.0\n",
      "neighborhood                 0                0.0\n",
      "zip                          0                0.0\n"
     ]
    }
   ],
   "source": [
    "missing_info = missing_percentage(df)\n",
    "print(missing_info)"
   ]
  },
  {
   "cell_type": "code",
   "execution_count": 16,
   "id": "2ed56c05",
   "metadata": {
    "execution": {
     "iopub.execute_input": "2025-07-15T01:12:08.689120Z",
     "iopub.status.busy": "2025-07-15T01:12:08.688657Z",
     "iopub.status.idle": "2025-07-15T01:12:08.693299Z",
     "shell.execute_reply": "2025-07-15T01:12:08.692754Z"
    },
    "papermill": {
     "duration": 0.014126,
     "end_time": "2025-07-15T01:12:08.694259",
     "exception": false,
     "start_time": "2025-07-15T01:12:08.680133",
     "status": "completed"
    },
    "tags": []
   },
   "outputs": [
    {
     "data": {
      "text/plain": [
       "Index(['RecordID', 'Offense', 'IncidentID', 'Agency', 'ReportingOfficer',\n",
       "       'Date', 'DayOfWeek', 'Weekend', 'Season', 'TimeOfDay', 'FullStreet',\n",
       "       'lat', 'lon', 'neighborhood', 'zip'],\n",
       "      dtype='object')"
      ]
     },
     "execution_count": 16,
     "metadata": {},
     "output_type": "execute_result"
    }
   ],
   "source": [
    "df.columns"
   ]
  },
  {
   "cell_type": "code",
   "execution_count": 17,
   "id": "ddb04ca5",
   "metadata": {
    "execution": {
     "iopub.execute_input": "2025-07-15T01:12:08.711537Z",
     "iopub.status.busy": "2025-07-15T01:12:08.711143Z",
     "iopub.status.idle": "2025-07-15T01:12:08.733543Z",
     "shell.execute_reply": "2025-07-15T01:12:08.733021Z"
    },
    "papermill": {
     "duration": 0.032083,
     "end_time": "2025-07-15T01:12:08.734549",
     "exception": false,
     "start_time": "2025-07-15T01:12:08.702466",
     "status": "completed"
    },
    "tags": []
   },
   "outputs": [
    {
     "name": "stdout",
     "output_type": "stream",
     "text": [
      "<class 'pandas.core.frame.DataFrame'>\n",
      "RangeIndex: 25527 entries, 0 to 25526\n",
      "Data columns (total 15 columns):\n",
      " #   Column            Non-Null Count  Dtype         \n",
      "---  ------            --------------  -----         \n",
      " 0   RecordID          25527 non-null  int64         \n",
      " 1   Offense           25527 non-null  object        \n",
      " 2   IncidentID        25527 non-null  object        \n",
      " 3   Agency            25527 non-null  object        \n",
      " 4   ReportingOfficer  25527 non-null  object        \n",
      " 5   Date              25527 non-null  datetime64[ns]\n",
      " 6   DayOfWeek         25527 non-null  object        \n",
      " 7   Weekend           25527 non-null  bool          \n",
      " 8   Season            25527 non-null  object        \n",
      " 9   TimeOfDay         25527 non-null  object        \n",
      " 10  FullStreet        25527 non-null  object        \n",
      " 11  lat               25527 non-null  object        \n",
      " 12  lon               25527 non-null  object        \n",
      " 13  neighborhood      25527 non-null  object        \n",
      " 14  zip               25527 non-null  object        \n",
      "dtypes: bool(1), datetime64[ns](1), int64(1), object(12)\n",
      "memory usage: 2.8+ MB\n"
     ]
    }
   ],
   "source": [
    "df.info()"
   ]
  },
  {
   "cell_type": "markdown",
   "id": "6692228f",
   "metadata": {
    "papermill": {
     "duration": 0.008143,
     "end_time": "2025-07-15T01:12:08.751219",
     "exception": false,
     "start_time": "2025-07-15T01:12:08.743076",
     "status": "completed"
    },
    "tags": []
   },
   "source": [
    "### Export Clean Data"
   ]
  },
  {
   "cell_type": "code",
   "execution_count": 18,
   "id": "c6147580",
   "metadata": {
    "execution": {
     "iopub.execute_input": "2025-07-15T01:12:08.768750Z",
     "iopub.status.busy": "2025-07-15T01:12:08.768334Z",
     "iopub.status.idle": "2025-07-15T01:12:18.095795Z",
     "shell.execute_reply": "2025-07-15T01:12:18.095111Z"
    },
    "papermill": {
     "duration": 9.337402,
     "end_time": "2025-07-15T01:12:18.096844",
     "exception": false,
     "start_time": "2025-07-15T01:12:08.759442",
     "status": "completed"
    },
    "tags": []
   },
   "outputs": [
    {
     "name": "stdout",
     "output_type": "stream",
     "text": [
      "Project Root: /home/runner/work/crime-data/crime-data\n"
     ]
    },
    {
     "name": "stdout",
     "output_type": "stream",
     "text": [
      "Data saved to: /home/runner/work/crime-data/crime-data/data/charlottesville_crime_incidents.csv\n"
     ]
    },
    {
     "name": "stdout",
     "output_type": "stream",
     "text": [
      "Excel saved to: /home/runner/work/crime-data/crime-data/data/charlottesville_crime_incidents.xlsx\n"
     ]
    }
   ],
   "source": [
    "# Determine the project root (assuming papermill is run from the repository root)\n",
    "project_root = os.getcwd()\n",
    "print(\"Project Root:\", project_root)\n",
    "\n",
    "# Set the data directory within the project root\n",
    "data_dir = os.path.join(project_root, \"data\")\n",
    "\n",
    "# Ensure the \"data\" directory exists (create it if it doesn't)\n",
    "if not os.path.exists(data_dir):\n",
    "    os.makedirs(data_dir)\n",
    "\n",
    "# Export the DataFrame to CSV in the \"data\" folder located in the project root\n",
    "csv_path = os.path.join(data_dir, \"charlottesville_crime_incidents.csv\")\n",
    "df.to_csv(csv_path, index=False)\n",
    "print(\"Data saved to:\", csv_path)\n",
    "\n",
    "# Construct the path to your Excel file\n",
    "excel_path = os.path.join(data_dir, \"charlottesville_crime_incidents.xlsx\")\n",
    "\n",
    "# Export the DataFrame to Excel\n",
    "df.to_excel(excel_path, index=False)\n",
    "print(\"Excel saved to:\", excel_path)\n"
   ]
  }
 ],
 "metadata": {
  "kernelspec": {
   "display_name": "Python 3",
   "language": "python",
   "name": "python3"
  },
  "language_info": {
   "codemirror_mode": {
    "name": "ipython",
    "version": 3
   },
   "file_extension": ".py",
   "mimetype": "text/x-python",
   "name": "python",
   "nbconvert_exporter": "python",
   "pygments_lexer": "ipython3",
   "version": "3.9.23"
  },
  "papermill": {
   "default_parameters": {},
   "duration": 136.488156,
   "end_time": "2025-07-15T01:12:18.522249",
   "environment_variables": {},
   "exception": null,
   "input_path": "notebook/Crime Data.ipynb",
   "output_path": "notebook/Crime Data_output.ipynb",
   "parameters": {},
   "start_time": "2025-07-15T01:10:02.034093",
   "version": "2.6.0"
  }
 },
 "nbformat": 4,
 "nbformat_minor": 5
}