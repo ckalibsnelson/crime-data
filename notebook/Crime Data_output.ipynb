{
 "cells": [
  {
   "cell_type": "markdown",
   "id": "348bc1e9",
   "metadata": {
    "papermill": {
     "duration": 0.006136,
     "end_time": "2025-04-08T00:59:13.311659",
     "exception": false,
     "start_time": "2025-04-08T00:59:13.305523",
     "status": "completed"
    },
    "tags": []
   },
   "source": [
    "# Charlottesville Open Data Porttal: Crime Data"
   ]
  },
  {
   "cell_type": "markdown",
   "id": "0bd45c77",
   "metadata": {
    "papermill": {
     "duration": 0.00497,
     "end_time": "2025-04-08T00:59:13.322036",
     "exception": false,
     "start_time": "2025-04-08T00:59:13.317066",
     "status": "completed"
    },
    "tags": []
   },
   "source": [
    "## Import Relevant Librarires & Set WD"
   ]
  },
  {
   "cell_type": "code",
   "execution_count": 1,
   "id": "8d03ac58",
   "metadata": {
    "execution": {
     "iopub.execute_input": "2025-04-08T00:59:13.333568Z",
     "iopub.status.busy": "2025-04-08T00:59:13.333006Z",
     "iopub.status.idle": "2025-04-08T00:59:14.008911Z",
     "shell.execute_reply": "2025-04-08T00:59:14.008176Z"
    },
    "papermill": {
     "duration": 0.683243,
     "end_time": "2025-04-08T00:59:14.010360",
     "exception": false,
     "start_time": "2025-04-08T00:59:13.327117",
     "status": "completed"
    },
    "tags": []
   },
   "outputs": [],
   "source": [
    "import requests\n",
    "import pandas as pd\n",
    "import numpy as np\n",
    "import pickle\n",
    "import googlemaps\n",
    "import plotly.express as px\n",
    "from geopy.geocoders import Nominatim\n",
    "import time\n",
    "from dotenv import load_dotenv\n",
    "import os\n",
    "\n",
    "env_path = os.path.join(\"..\", \".env\")\n",
    "#print(\"Looking for .env file at:\", os.path.abspath(env_path))\n",
    "load_dotenv(dotenv_path=env_path)\n",
    "\n",
    "# Retrieve the variables\n",
    "GOOGLE_API_KEY = os.getenv(\"GOOGLE_API_KEY\")\n",
    "WORKING_DIR = os.getenv(\"WORKING_DIR\")\n",
    "\n",
    "if GOOGLE_API_KEY is None or WORKING_DIR is None:\n",
    "    raise RuntimeError(\"No configuration found. Please ensure that your .env file exists with the required variables, or create a local config.py file.\")\n",
    "\n",
    "#print(\"Google API Key:\", GOOGLE_API_KEY)\n",
    "#print(\"Working Directory:\", WORKING_DIR)"
   ]
  },
  {
   "cell_type": "markdown",
   "id": "a4da5404",
   "metadata": {
    "papermill": {
     "duration": 0.005042,
     "end_time": "2025-04-08T00:59:14.020931",
     "exception": false,
     "start_time": "2025-04-08T00:59:14.015889",
     "status": "completed"
    },
    "tags": []
   },
   "source": [
    "## Import Data\n",
    "\n",
    "URL: https://opendata.charlottesville.org/datasets/charlottesville::crime-data/about"
   ]
  },
  {
   "cell_type": "code",
   "execution_count": 2,
   "id": "2ae6a48c",
   "metadata": {
    "execution": {
     "iopub.execute_input": "2025-04-08T00:59:14.032510Z",
     "iopub.status.busy": "2025-04-08T00:59:14.031886Z",
     "iopub.status.idle": "2025-04-08T01:00:14.902462Z",
     "shell.execute_reply": "2025-04-08T01:00:14.901766Z"
    },
    "papermill": {
     "duration": 60.882648,
     "end_time": "2025-04-08T01:00:14.908745",
     "exception": false,
     "start_time": "2025-04-08T00:59:14.026097",
     "status": "completed"
    },
    "tags": []
   },
   "outputs": [
    {
     "name": "stdout",
     "output_type": "stream",
     "text": [
      "Total records imported: 25118\n"
     ]
    }
   ],
   "source": [
    "# Define the endpoint and initial parameters.\n",
    "url = \"https://gisweb.charlottesville.org/arcgis/rest/services/OpenData_2/MapServer/6/query\"\n",
    "params = {\n",
    "    \"where\": \"1=1\",\n",
    "    \"outFields\": \"*\",\n",
    "    \"outSR\": 4326,\n",
    "    \"f\": \"json\",\n",
    "    \"resultOffset\": 0,       # Starting index for results\n",
    "    \"resultRecordCount\": 10000  # Maximum records per batch (if allowed by the API)\n",
    "}\n",
    "\n",
    "records = []\n",
    "\n",
    "while True:\n",
    "    response = requests.get(url, params=params)\n",
    "    response.raise_for_status()\n",
    "    data = response.json()\n",
    "    \n",
    "    # Get the current batch of features.\n",
    "    features = data.get(\"features\", [])\n",
    "    if not features:\n",
    "        break\n",
    "\n",
    "    # Extract the attributes from the features.\n",
    "    batch_records = [feature.get(\"attributes\", {}) for feature in features]\n",
    "    records.extend(batch_records)\n",
    "    \n",
    "    # If the batch size is less than the requested count, we reached the end.\n",
    "    if len(features) < params[\"resultRecordCount\"]:\n",
    "        break\n",
    "\n",
    "    # Update the resultOffset for the next batch.\n",
    "    params[\"resultOffset\"] += params[\"resultRecordCount\"]\n",
    "\n",
    "# Create a DataFrame from the combined records.\n",
    "df = pd.DataFrame(records)\n",
    "print(\"Total records imported:\", len(df))\n"
   ]
  },
  {
   "cell_type": "code",
   "execution_count": 3,
   "id": "13671b4f",
   "metadata": {
    "execution": {
     "iopub.execute_input": "2025-04-08T01:00:14.920299Z",
     "iopub.status.busy": "2025-04-08T01:00:14.919882Z",
     "iopub.status.idle": "2025-04-08T01:00:14.932229Z",
     "shell.execute_reply": "2025-04-08T01:00:14.931704Z"
    },
    "papermill": {
     "duration": 0.019165,
     "end_time": "2025-04-08T01:00:14.933177",
     "exception": false,
     "start_time": "2025-04-08T01:00:14.914012",
     "status": "completed"
    },
    "tags": []
   },
   "outputs": [
    {
     "data": {
      "text/html": [
       "<div>\n",
       "<style scoped>\n",
       "    .dataframe tbody tr th:only-of-type {\n",
       "        vertical-align: middle;\n",
       "    }\n",
       "\n",
       "    .dataframe tbody tr th {\n",
       "        vertical-align: top;\n",
       "    }\n",
       "\n",
       "    .dataframe thead th {\n",
       "        text-align: right;\n",
       "    }\n",
       "</style>\n",
       "<table border=\"1\" class=\"dataframe\">\n",
       "  <thead>\n",
       "    <tr style=\"text-align: right;\">\n",
       "      <th></th>\n",
       "      <th>RecordID</th>\n",
       "      <th>Offense</th>\n",
       "      <th>IncidentID</th>\n",
       "      <th>BlockNumber</th>\n",
       "      <th>StreetName</th>\n",
       "      <th>Agency</th>\n",
       "      <th>DateReported</th>\n",
       "      <th>HourReported</th>\n",
       "      <th>ReportingOfficer</th>\n",
       "    </tr>\n",
       "  </thead>\n",
       "  <tbody>\n",
       "    <tr>\n",
       "      <th>0</th>\n",
       "      <td>1</td>\n",
       "      <td>Assault Simple</td>\n",
       "      <td>202500011002</td>\n",
       "      <td>400</td>\n",
       "      <td>10TH ST NW</td>\n",
       "      <td>CPD</td>\n",
       "      <td>1743912464000</td>\n",
       "      <td>0007</td>\n",
       "      <td>Wells, Matthew</td>\n",
       "    </tr>\n",
       "    <tr>\n",
       "      <th>1</th>\n",
       "      <td>2</td>\n",
       "      <td>Motor Vehicle Theft</td>\n",
       "      <td>202500011001</td>\n",
       "      <td>1100</td>\n",
       "      <td>5TH ST SW</td>\n",
       "      <td>CPD</td>\n",
       "      <td>1743911502000</td>\n",
       "      <td>2351</td>\n",
       "      <td>Darby, Michael</td>\n",
       "    </tr>\n",
       "    <tr>\n",
       "      <th>2</th>\n",
       "      <td>3</td>\n",
       "      <td>Weapons Violations</td>\n",
       "      <td>202500010981</td>\n",
       "      <td>200</td>\n",
       "      <td>AVON ST</td>\n",
       "      <td>CPD</td>\n",
       "      <td>1743902740000</td>\n",
       "      <td>2125</td>\n",
       "      <td>Ryan, Matthew</td>\n",
       "    </tr>\n",
       "    <tr>\n",
       "      <th>3</th>\n",
       "      <td>4</td>\n",
       "      <td>Assist Citizen - Mental/TDO/ECO</td>\n",
       "      <td>202500010954</td>\n",
       "      <td>1400</td>\n",
       "      <td>MONTICELLO RD, 100</td>\n",
       "      <td>CPD</td>\n",
       "      <td>1743885524000</td>\n",
       "      <td>1638</td>\n",
       "      <td>Crowley, Raeann</td>\n",
       "    </tr>\n",
       "    <tr>\n",
       "      <th>4</th>\n",
       "      <td>5</td>\n",
       "      <td>Burglary</td>\n",
       "      <td>202500010955</td>\n",
       "      <td>800</td>\n",
       "      <td>W MAIN ST, 24B</td>\n",
       "      <td>CPD</td>\n",
       "      <td>1743885406000</td>\n",
       "      <td>1636</td>\n",
       "      <td>Aguilera, Natalia</td>\n",
       "    </tr>\n",
       "  </tbody>\n",
       "</table>\n",
       "</div>"
      ],
      "text/plain": [
       "   RecordID                          Offense    IncidentID BlockNumber  \\\n",
       "0         1                   Assault Simple  202500011002         400   \n",
       "1         2              Motor Vehicle Theft  202500011001        1100   \n",
       "2         3               Weapons Violations  202500010981         200   \n",
       "3         4  Assist Citizen - Mental/TDO/ECO  202500010954        1400   \n",
       "4         5                         Burglary  202500010955         800   \n",
       "\n",
       "           StreetName Agency   DateReported HourReported   ReportingOfficer  \n",
       "0          10TH ST NW    CPD  1743912464000         0007     Wells, Matthew  \n",
       "1           5TH ST SW    CPD  1743911502000         2351     Darby, Michael  \n",
       "2             AVON ST    CPD  1743902740000         2125      Ryan, Matthew  \n",
       "3  MONTICELLO RD, 100    CPD  1743885524000         1638    Crowley, Raeann  \n",
       "4      W MAIN ST, 24B    CPD  1743885406000         1636  Aguilera, Natalia  "
      ]
     },
     "execution_count": 3,
     "metadata": {},
     "output_type": "execute_result"
    }
   ],
   "source": [
    "df.head()"
   ]
  },
  {
   "cell_type": "code",
   "execution_count": 4,
   "id": "16045fe7",
   "metadata": {
    "execution": {
     "iopub.execute_input": "2025-04-08T01:00:14.944846Z",
     "iopub.status.busy": "2025-04-08T01:00:14.944443Z",
     "iopub.status.idle": "2025-04-08T01:00:14.948524Z",
     "shell.execute_reply": "2025-04-08T01:00:14.948020Z"
    },
    "papermill": {
     "duration": 0.01088,
     "end_time": "2025-04-08T01:00:14.949431",
     "exception": false,
     "start_time": "2025-04-08T01:00:14.938551",
     "status": "completed"
    },
    "tags": []
   },
   "outputs": [
    {
     "data": {
      "text/plain": [
       "Index(['RecordID', 'Offense', 'IncidentID', 'BlockNumber', 'StreetName',\n",
       "       'Agency', 'DateReported', 'HourReported', 'ReportingOfficer'],\n",
       "      dtype='object')"
      ]
     },
     "execution_count": 4,
     "metadata": {},
     "output_type": "execute_result"
    }
   ],
   "source": [
    "df.columns"
   ]
  },
  {
   "cell_type": "code",
   "execution_count": 5,
   "id": "14cde14d",
   "metadata": {
    "execution": {
     "iopub.execute_input": "2025-04-08T01:00:14.961361Z",
     "iopub.status.busy": "2025-04-08T01:00:14.961124Z",
     "iopub.status.idle": "2025-04-08T01:00:14.982499Z",
     "shell.execute_reply": "2025-04-08T01:00:14.981937Z"
    },
    "papermill": {
     "duration": 0.028645,
     "end_time": "2025-04-08T01:00:14.983506",
     "exception": false,
     "start_time": "2025-04-08T01:00:14.954861",
     "status": "completed"
    },
    "tags": []
   },
   "outputs": [
    {
     "name": "stdout",
     "output_type": "stream",
     "text": [
      "<class 'pandas.core.frame.DataFrame'>\n",
      "RangeIndex: 25118 entries, 0 to 25117\n",
      "Data columns (total 9 columns):\n",
      " #   Column            Non-Null Count  Dtype \n",
      "---  ------            --------------  ----- \n",
      " 0   RecordID          25118 non-null  int64 \n",
      " 1   Offense           25118 non-null  object\n",
      " 2   IncidentID        25118 non-null  object\n",
      " 3   BlockNumber       25118 non-null  object\n",
      " 4   StreetName        25118 non-null  object\n",
      " 5   Agency            25118 non-null  object\n",
      " 6   DateReported      25118 non-null  int64 \n",
      " 7   HourReported      25118 non-null  object\n",
      " 8   ReportingOfficer  25101 non-null  object\n",
      "dtypes: int64(2), object(7)\n",
      "memory usage: 1.7+ MB\n"
     ]
    }
   ],
   "source": [
    "df.info()"
   ]
  },
  {
   "cell_type": "markdown",
   "id": "7a423885",
   "metadata": {
    "papermill": {
     "duration": 0.005402,
     "end_time": "2025-04-08T01:00:14.994600",
     "exception": false,
     "start_time": "2025-04-08T01:00:14.989198",
     "status": "completed"
    },
    "tags": []
   },
   "source": [
    "### Missing Values"
   ]
  },
  {
   "cell_type": "code",
   "execution_count": 6,
   "id": "130a47c5",
   "metadata": {
    "execution": {
     "iopub.execute_input": "2025-04-08T01:00:15.006347Z",
     "iopub.status.busy": "2025-04-08T01:00:15.006151Z",
     "iopub.status.idle": "2025-04-08T01:00:15.026093Z",
     "shell.execute_reply": "2025-04-08T01:00:15.025508Z"
    },
    "papermill": {
     "duration": 0.027105,
     "end_time": "2025-04-08T01:00:15.027136",
     "exception": false,
     "start_time": "2025-04-08T01:00:15.000031",
     "status": "completed"
    },
    "tags": []
   },
   "outputs": [
    {
     "name": "stdout",
     "output_type": "stream",
     "text": [
      "                  MissingCount  MissingPercentage\n",
      "RecordID                     0               0.00\n",
      "Offense                      0               0.00\n",
      "IncidentID                   0               0.00\n",
      "BlockNumber                  0               0.00\n",
      "StreetName                   0               0.00\n",
      "Agency                       0               0.00\n",
      "DateReported                 0               0.00\n",
      "HourReported                 0               0.00\n",
      "ReportingOfficer            17               0.07\n"
     ]
    }
   ],
   "source": [
    "def missing_percentage(df):\n",
    "    \"\"\"\n",
    "    Returns a DataFrame with the count and percentage of missing values for each column.\n",
    "    \n",
    "    Parameters:\n",
    "        df (pd.DataFrame): The input DataFrame.\n",
    "    \n",
    "    Returns:\n",
    "        pd.DataFrame: A DataFrame with columns 'MissingCount' and 'MissingPercentage'.\n",
    "    \"\"\"\n",
    "    total_rows = len(df)\n",
    "    missing_count = df.isnull().sum()\n",
    "    missing_percent = (missing_count / total_rows) * 100\n",
    "    \n",
    "    result = pd.DataFrame({\n",
    "        'MissingCount': missing_count,\n",
    "        'MissingPercentage': missing_percent.round(2)\n",
    "    })\n",
    "    \n",
    "    return result\n",
    "\n",
    "# Example usage:\n",
    "missing_info = missing_percentage(df)\n",
    "print(missing_info)\n"
   ]
  },
  {
   "cell_type": "markdown",
   "id": "b21736b0",
   "metadata": {
    "papermill": {
     "duration": 0.005629,
     "end_time": "2025-04-08T01:00:15.038610",
     "exception": false,
     "start_time": "2025-04-08T01:00:15.032981",
     "status": "completed"
    },
    "tags": []
   },
   "source": [
    "## Data Preparation"
   ]
  },
  {
   "cell_type": "markdown",
   "id": "5ab46177",
   "metadata": {
    "papermill": {
     "duration": 0.005468,
     "end_time": "2025-04-08T01:00:15.049577",
     "exception": false,
     "start_time": "2025-04-08T01:00:15.044109",
     "status": "completed"
    },
    "tags": []
   },
   "source": [
    "### Data Conversion"
   ]
  },
  {
   "cell_type": "code",
   "execution_count": 7,
   "id": "4716adbd",
   "metadata": {
    "execution": {
     "iopub.execute_input": "2025-04-08T01:00:15.061546Z",
     "iopub.status.busy": "2025-04-08T01:00:15.061338Z",
     "iopub.status.idle": "2025-04-08T01:00:15.430910Z",
     "shell.execute_reply": "2025-04-08T01:00:15.430199Z"
    },
    "papermill": {
     "duration": 0.376886,
     "end_time": "2025-04-08T01:00:15.431971",
     "exception": false,
     "start_time": "2025-04-08T01:00:15.055085",
     "status": "completed"
    },
    "tags": []
   },
   "outputs": [
    {
     "data": {
      "text/html": [
       "<div>\n",
       "<style scoped>\n",
       "    .dataframe tbody tr th:only-of-type {\n",
       "        vertical-align: middle;\n",
       "    }\n",
       "\n",
       "    .dataframe tbody tr th {\n",
       "        vertical-align: top;\n",
       "    }\n",
       "\n",
       "    .dataframe thead th {\n",
       "        text-align: right;\n",
       "    }\n",
       "</style>\n",
       "<table border=\"1\" class=\"dataframe\">\n",
       "  <thead>\n",
       "    <tr style=\"text-align: right;\">\n",
       "      <th></th>\n",
       "      <th>RecordID</th>\n",
       "      <th>Offense</th>\n",
       "      <th>IncidentID</th>\n",
       "      <th>BlockNumber</th>\n",
       "      <th>StreetName</th>\n",
       "      <th>Agency</th>\n",
       "      <th>HourReported</th>\n",
       "      <th>ReportingOfficer</th>\n",
       "      <th>Date</th>\n",
       "      <th>DateString</th>\n",
       "      <th>DayOfWeek</th>\n",
       "      <th>Weekend</th>\n",
       "      <th>Season</th>\n",
       "      <th>HourAMPM</th>\n",
       "      <th>TimeOfDay</th>\n",
       "    </tr>\n",
       "  </thead>\n",
       "  <tbody>\n",
       "    <tr>\n",
       "      <th>0</th>\n",
       "      <td>1</td>\n",
       "      <td>Assault Simple</td>\n",
       "      <td>202500011002</td>\n",
       "      <td>400</td>\n",
       "      <td>10TH ST NW</td>\n",
       "      <td>CPD</td>\n",
       "      <td>0007</td>\n",
       "      <td>Wells, Matthew</td>\n",
       "      <td>2025-04-06 00:07:44</td>\n",
       "      <td>2025-04-06 12:07:44 AM</td>\n",
       "      <td>Sunday</td>\n",
       "      <td>True</td>\n",
       "      <td>Spring</td>\n",
       "      <td>12:07 AM</td>\n",
       "      <td>Night</td>\n",
       "    </tr>\n",
       "    <tr>\n",
       "      <th>1</th>\n",
       "      <td>2</td>\n",
       "      <td>Motor Vehicle Theft</td>\n",
       "      <td>202500011001</td>\n",
       "      <td>1100</td>\n",
       "      <td>5TH ST SW</td>\n",
       "      <td>CPD</td>\n",
       "      <td>2351</td>\n",
       "      <td>Darby, Michael</td>\n",
       "      <td>2025-04-05 23:51:42</td>\n",
       "      <td>2025-04-05 11:51:42 PM</td>\n",
       "      <td>Saturday</td>\n",
       "      <td>True</td>\n",
       "      <td>Spring</td>\n",
       "      <td>11:51 PM</td>\n",
       "      <td>Night</td>\n",
       "    </tr>\n",
       "    <tr>\n",
       "      <th>2</th>\n",
       "      <td>3</td>\n",
       "      <td>Weapons Violations</td>\n",
       "      <td>202500010981</td>\n",
       "      <td>200</td>\n",
       "      <td>AVON ST</td>\n",
       "      <td>CPD</td>\n",
       "      <td>2125</td>\n",
       "      <td>Ryan, Matthew</td>\n",
       "      <td>2025-04-05 21:25:40</td>\n",
       "      <td>2025-04-05 09:25:40 PM</td>\n",
       "      <td>Saturday</td>\n",
       "      <td>True</td>\n",
       "      <td>Spring</td>\n",
       "      <td>09:25 PM</td>\n",
       "      <td>Night</td>\n",
       "    </tr>\n",
       "    <tr>\n",
       "      <th>3</th>\n",
       "      <td>4</td>\n",
       "      <td>Assist Citizen - Mental/TDO/ECO</td>\n",
       "      <td>202500010954</td>\n",
       "      <td>1400</td>\n",
       "      <td>MONTICELLO RD, 100</td>\n",
       "      <td>CPD</td>\n",
       "      <td>1638</td>\n",
       "      <td>Crowley, Raeann</td>\n",
       "      <td>2025-04-05 16:38:44</td>\n",
       "      <td>2025-04-05 04:38:44 PM</td>\n",
       "      <td>Saturday</td>\n",
       "      <td>True</td>\n",
       "      <td>Spring</td>\n",
       "      <td>04:38 PM</td>\n",
       "      <td>Afternoon</td>\n",
       "    </tr>\n",
       "    <tr>\n",
       "      <th>4</th>\n",
       "      <td>5</td>\n",
       "      <td>Burglary</td>\n",
       "      <td>202500010955</td>\n",
       "      <td>800</td>\n",
       "      <td>W MAIN ST, 24B</td>\n",
       "      <td>CPD</td>\n",
       "      <td>1636</td>\n",
       "      <td>Aguilera, Natalia</td>\n",
       "      <td>2025-04-05 16:36:46</td>\n",
       "      <td>2025-04-05 04:36:46 PM</td>\n",
       "      <td>Saturday</td>\n",
       "      <td>True</td>\n",
       "      <td>Spring</td>\n",
       "      <td>04:36 PM</td>\n",
       "      <td>Afternoon</td>\n",
       "    </tr>\n",
       "  </tbody>\n",
       "</table>\n",
       "</div>"
      ],
      "text/plain": [
       "   RecordID                          Offense    IncidentID BlockNumber  \\\n",
       "0         1                   Assault Simple  202500011002         400   \n",
       "1         2              Motor Vehicle Theft  202500011001        1100   \n",
       "2         3               Weapons Violations  202500010981         200   \n",
       "3         4  Assist Citizen - Mental/TDO/ECO  202500010954        1400   \n",
       "4         5                         Burglary  202500010955         800   \n",
       "\n",
       "           StreetName Agency HourReported   ReportingOfficer  \\\n",
       "0          10TH ST NW    CPD         0007     Wells, Matthew   \n",
       "1           5TH ST SW    CPD         2351     Darby, Michael   \n",
       "2             AVON ST    CPD         2125      Ryan, Matthew   \n",
       "3  MONTICELLO RD, 100    CPD         1638    Crowley, Raeann   \n",
       "4      W MAIN ST, 24B    CPD         1636  Aguilera, Natalia   \n",
       "\n",
       "                 Date              DateString DayOfWeek  Weekend  Season  \\\n",
       "0 2025-04-06 00:07:44  2025-04-06 12:07:44 AM    Sunday     True  Spring   \n",
       "1 2025-04-05 23:51:42  2025-04-05 11:51:42 PM  Saturday     True  Spring   \n",
       "2 2025-04-05 21:25:40  2025-04-05 09:25:40 PM  Saturday     True  Spring   \n",
       "3 2025-04-05 16:38:44  2025-04-05 04:38:44 PM  Saturday     True  Spring   \n",
       "4 2025-04-05 16:36:46  2025-04-05 04:36:46 PM  Saturday     True  Spring   \n",
       "\n",
       "   HourAMPM  TimeOfDay  \n",
       "0  12:07 AM      Night  \n",
       "1  11:51 PM      Night  \n",
       "2  09:25 PM      Night  \n",
       "3  04:38 PM  Afternoon  \n",
       "4  04:36 PM  Afternoon  "
      ]
     },
     "execution_count": 7,
     "metadata": {},
     "output_type": "execute_result"
    }
   ],
   "source": [
    "def convert_and_categorize_datereported(df, col='DateReported'):\n",
    "    \"\"\"\n",
    "    Converts an epoch (in milliseconds) date column into a timezone-aware datetime,\n",
    "    converts it to Eastern Time, and then creates columns for day-of-week, weekend flag,\n",
    "    season, 12-hour formatted time, and time-of-day. Keeps both a real datetime column\n",
    "    (Date) and a string representation (DateString).\n",
    "    \"\"\"\n",
    "    import pandas as pd\n",
    "\n",
    "    # Convert the epoch timestamp to a pandas datetime object as UTC, then convert to US/Eastern.\n",
    "    df[\"DateReported_dt\"] = (\n",
    "        pd.to_datetime(df[col], unit=\"ms\", errors=\"coerce\", utc=True)\n",
    "        .dt.tz_convert(\"US/Eastern\")\n",
    "    )\n",
    "    \n",
    "    # Create a true datetime column (remove timezone if you prefer naive datetime)\n",
    "    df[\"Date\"] = df[\"DateReported_dt\"].dt.tz_localize(None)\n",
    "\n",
    "    # Optionally, create a separate string-formatted column\n",
    "    df[\"DateString\"] = df[\"DateReported_dt\"].dt.strftime(\"%Y-%m-%d %I:%M:%S %p\")\n",
    "    \n",
    "    # DayOfWeek\n",
    "    df[\"DayOfWeek\"] = df[\"DateReported_dt\"].dt.day_name()\n",
    "    \n",
    "    # Weekend\n",
    "    df[\"Weekend\"] = df[\"DayOfWeek\"].isin([\"Saturday\", \"Sunday\"])\n",
    "    \n",
    "    # Helper function to determine the season\n",
    "    def get_season(dt):\n",
    "        month = dt.month\n",
    "        day = dt.day\n",
    "        # Approximate Northern Hemisphere season boundaries:\n",
    "        if (month == 12 and day >= 21) or (month < 3) or (month == 3 and day < 20):\n",
    "            return \"Winter\"\n",
    "        elif (month == 3 and day >= 20) or (month < 6) or (month == 6 and day < 21):\n",
    "            return \"Spring\"\n",
    "        elif (month == 6 and day >= 21) or (month < 9) or (month == 9 and day < 22):\n",
    "            return \"Summer\"\n",
    "        else:\n",
    "            return \"Autumn\"\n",
    "    \n",
    "    df[\"Season\"] = df[\"DateReported_dt\"].apply(get_season)\n",
    "    \n",
    "    # 12-hour formatted time (HourAMPM)\n",
    "    df[\"HourAMPM\"] = df[\"DateReported_dt\"].dt.strftime(\"%I:%M %p\")\n",
    "    \n",
    "    # Extract hour (0-23) for time-of-day\n",
    "    df[\"HourValue\"] = df[\"DateReported_dt\"].dt.hour\n",
    "    \n",
    "    def time_of_day(hour):\n",
    "        if pd.isnull(hour):\n",
    "            return None\n",
    "        if 5 <= hour < 12:\n",
    "            return \"Morning\"\n",
    "        elif 12 <= hour < 17:\n",
    "            return \"Afternoon\"\n",
    "        elif 17 <= hour < 21:\n",
    "            return \"Evening\"\n",
    "        else:\n",
    "            return \"Night\"\n",
    "    \n",
    "    df[\"TimeOfDay\"] = df[\"HourValue\"].apply(time_of_day)\n",
    "    \n",
    "    # Drop columns you no longer need\n",
    "    df.drop(columns=[col, \"DateReported_dt\", \"HourValue\"], inplace=True)\n",
    "    \n",
    "    return df\n",
    "\n",
    "# Example usage:\n",
    "df = convert_and_categorize_datereported(df)\n",
    "df.head()\n"
   ]
  },
  {
   "cell_type": "code",
   "execution_count": 8,
   "id": "3e59a7a4",
   "metadata": {
    "execution": {
     "iopub.execute_input": "2025-04-08T01:00:15.444946Z",
     "iopub.status.busy": "2025-04-08T01:00:15.444544Z",
     "iopub.status.idle": "2025-04-08T01:00:15.469865Z",
     "shell.execute_reply": "2025-04-08T01:00:15.469167Z"
    },
    "papermill": {
     "duration": 0.032869,
     "end_time": "2025-04-08T01:00:15.470939",
     "exception": false,
     "start_time": "2025-04-08T01:00:15.438070",
     "status": "completed"
    },
    "tags": []
   },
   "outputs": [
    {
     "name": "stdout",
     "output_type": "stream",
     "text": [
      "<class 'pandas.core.frame.DataFrame'>\n",
      "RangeIndex: 25118 entries, 0 to 25117\n",
      "Data columns (total 15 columns):\n",
      " #   Column            Non-Null Count  Dtype         \n",
      "---  ------            --------------  -----         \n",
      " 0   RecordID          25118 non-null  int64         \n",
      " 1   Offense           25118 non-null  object        \n",
      " 2   IncidentID        25118 non-null  object        \n",
      " 3   BlockNumber       25118 non-null  object        \n",
      " 4   StreetName        25118 non-null  object        \n",
      " 5   Agency            25118 non-null  object        \n",
      " 6   HourReported      25118 non-null  object        \n",
      " 7   ReportingOfficer  25101 non-null  object        \n",
      " 8   Date              25118 non-null  datetime64[ns]\n",
      " 9   DateString        25118 non-null  object        \n",
      " 10  DayOfWeek         25118 non-null  object        \n",
      " 11  Weekend           25118 non-null  bool          \n",
      " 12  Season            25118 non-null  object        \n",
      " 13  HourAMPM          25118 non-null  object        \n",
      " 14  TimeOfDay         25118 non-null  object        \n",
      "dtypes: bool(1), datetime64[ns](1), int64(1), object(12)\n",
      "memory usage: 2.7+ MB\n"
     ]
    }
   ],
   "source": [
    "df.info()"
   ]
  },
  {
   "cell_type": "markdown",
   "id": "b767b7ef",
   "metadata": {
    "papermill": {
     "duration": 0.005885,
     "end_time": "2025-04-08T01:00:15.482783",
     "exception": false,
     "start_time": "2025-04-08T01:00:15.476898",
     "status": "completed"
    },
    "tags": []
   },
   "source": [
    "### Coordinates"
   ]
  },
  {
   "cell_type": "code",
   "execution_count": 9,
   "id": "8bf6a02e",
   "metadata": {
    "execution": {
     "iopub.execute_input": "2025-04-08T01:00:15.495372Z",
     "iopub.status.busy": "2025-04-08T01:00:15.495012Z",
     "iopub.status.idle": "2025-04-08T01:00:15.698061Z",
     "shell.execute_reply": "2025-04-08T01:00:15.697474Z"
    },
    "papermill": {
     "duration": 0.210534,
     "end_time": "2025-04-08T01:00:15.699128",
     "exception": false,
     "start_time": "2025-04-08T01:00:15.488594",
     "status": "completed"
    },
    "tags": []
   },
   "outputs": [
    {
     "name": "stdout",
     "output_type": "stream",
     "text": [
      "Loaded geocode cache.\n"
     ]
    },
    {
     "name": "stdout",
     "output_type": "stream",
     "text": [
      "Geocoded 800 W MAIN ST, 24B: 38.0314795, -78.4903331\n",
      "Geocode cache updated and saved.\n"
     ]
    },
    {
     "data": {
      "text/html": [
       "<div>\n",
       "<style scoped>\n",
       "    .dataframe tbody tr th:only-of-type {\n",
       "        vertical-align: middle;\n",
       "    }\n",
       "\n",
       "    .dataframe tbody tr th {\n",
       "        vertical-align: top;\n",
       "    }\n",
       "\n",
       "    .dataframe thead th {\n",
       "        text-align: right;\n",
       "    }\n",
       "</style>\n",
       "<table border=\"1\" class=\"dataframe\">\n",
       "  <thead>\n",
       "    <tr style=\"text-align: right;\">\n",
       "      <th></th>\n",
       "      <th>RecordID</th>\n",
       "      <th>Offense</th>\n",
       "      <th>IncidentID</th>\n",
       "      <th>BlockNumber</th>\n",
       "      <th>StreetName</th>\n",
       "      <th>Agency</th>\n",
       "      <th>HourReported</th>\n",
       "      <th>ReportingOfficer</th>\n",
       "      <th>Date</th>\n",
       "      <th>DateString</th>\n",
       "      <th>DayOfWeek</th>\n",
       "      <th>Weekend</th>\n",
       "      <th>Season</th>\n",
       "      <th>HourAMPM</th>\n",
       "      <th>TimeOfDay</th>\n",
       "      <th>FullStreet</th>\n",
       "      <th>lat</th>\n",
       "      <th>lon</th>\n",
       "    </tr>\n",
       "  </thead>\n",
       "  <tbody>\n",
       "    <tr>\n",
       "      <th>0</th>\n",
       "      <td>1</td>\n",
       "      <td>Assault Simple</td>\n",
       "      <td>202500011002</td>\n",
       "      <td>400</td>\n",
       "      <td>10TH ST NW</td>\n",
       "      <td>CPD</td>\n",
       "      <td>0007</td>\n",
       "      <td>Wells, Matthew</td>\n",
       "      <td>2025-04-06 00:07:44</td>\n",
       "      <td>2025-04-06 12:07:44 AM</td>\n",
       "      <td>Sunday</td>\n",
       "      <td>True</td>\n",
       "      <td>Spring</td>\n",
       "      <td>12:07 AM</td>\n",
       "      <td>Night</td>\n",
       "      <td>400 10TH ST NW</td>\n",
       "      <td>38.037244</td>\n",
       "      <td>-78.491465</td>\n",
       "    </tr>\n",
       "    <tr>\n",
       "      <th>1</th>\n",
       "      <td>2</td>\n",
       "      <td>Motor Vehicle Theft</td>\n",
       "      <td>202500011001</td>\n",
       "      <td>1100</td>\n",
       "      <td>5TH ST SW</td>\n",
       "      <td>CPD</td>\n",
       "      <td>2351</td>\n",
       "      <td>Darby, Michael</td>\n",
       "      <td>2025-04-05 23:51:42</td>\n",
       "      <td>2025-04-05 11:51:42 PM</td>\n",
       "      <td>Saturday</td>\n",
       "      <td>True</td>\n",
       "      <td>Spring</td>\n",
       "      <td>11:51 PM</td>\n",
       "      <td>Night</td>\n",
       "      <td>1100 5TH ST SW</td>\n",
       "      <td>38.017130</td>\n",
       "      <td>-78.497806</td>\n",
       "    </tr>\n",
       "    <tr>\n",
       "      <th>2</th>\n",
       "      <td>3</td>\n",
       "      <td>Weapons Violations</td>\n",
       "      <td>202500010981</td>\n",
       "      <td>200</td>\n",
       "      <td>AVON ST</td>\n",
       "      <td>CPD</td>\n",
       "      <td>2125</td>\n",
       "      <td>Ryan, Matthew</td>\n",
       "      <td>2025-04-05 21:25:40</td>\n",
       "      <td>2025-04-05 09:25:40 PM</td>\n",
       "      <td>Saturday</td>\n",
       "      <td>True</td>\n",
       "      <td>Spring</td>\n",
       "      <td>09:25 PM</td>\n",
       "      <td>Night</td>\n",
       "      <td>200 AVON ST</td>\n",
       "      <td>38.028142</td>\n",
       "      <td>-78.477448</td>\n",
       "    </tr>\n",
       "    <tr>\n",
       "      <th>3</th>\n",
       "      <td>4</td>\n",
       "      <td>Assist Citizen - Mental/TDO/ECO</td>\n",
       "      <td>202500010954</td>\n",
       "      <td>1400</td>\n",
       "      <td>MONTICELLO RD, 100</td>\n",
       "      <td>CPD</td>\n",
       "      <td>1638</td>\n",
       "      <td>Crowley, Raeann</td>\n",
       "      <td>2025-04-05 16:38:44</td>\n",
       "      <td>2025-04-05 04:38:44 PM</td>\n",
       "      <td>Saturday</td>\n",
       "      <td>True</td>\n",
       "      <td>Spring</td>\n",
       "      <td>04:38 PM</td>\n",
       "      <td>Afternoon</td>\n",
       "      <td>1400 MONTICELLO RD, 100</td>\n",
       "      <td>38.019453</td>\n",
       "      <td>-78.472626</td>\n",
       "    </tr>\n",
       "    <tr>\n",
       "      <th>4</th>\n",
       "      <td>5</td>\n",
       "      <td>Burglary</td>\n",
       "      <td>202500010955</td>\n",
       "      <td>800</td>\n",
       "      <td>W MAIN ST, 24B</td>\n",
       "      <td>CPD</td>\n",
       "      <td>1636</td>\n",
       "      <td>Aguilera, Natalia</td>\n",
       "      <td>2025-04-05 16:36:46</td>\n",
       "      <td>2025-04-05 04:36:46 PM</td>\n",
       "      <td>Saturday</td>\n",
       "      <td>True</td>\n",
       "      <td>Spring</td>\n",
       "      <td>04:36 PM</td>\n",
       "      <td>Afternoon</td>\n",
       "      <td>800 W MAIN ST, 24B</td>\n",
       "      <td>38.031480</td>\n",
       "      <td>-78.490333</td>\n",
       "    </tr>\n",
       "  </tbody>\n",
       "</table>\n",
       "</div>"
      ],
      "text/plain": [
       "   RecordID                          Offense    IncidentID BlockNumber  \\\n",
       "0         1                   Assault Simple  202500011002         400   \n",
       "1         2              Motor Vehicle Theft  202500011001        1100   \n",
       "2         3               Weapons Violations  202500010981         200   \n",
       "3         4  Assist Citizen - Mental/TDO/ECO  202500010954        1400   \n",
       "4         5                         Burglary  202500010955         800   \n",
       "\n",
       "           StreetName Agency HourReported   ReportingOfficer  \\\n",
       "0          10TH ST NW    CPD         0007     Wells, Matthew   \n",
       "1           5TH ST SW    CPD         2351     Darby, Michael   \n",
       "2             AVON ST    CPD         2125      Ryan, Matthew   \n",
       "3  MONTICELLO RD, 100    CPD         1638    Crowley, Raeann   \n",
       "4      W MAIN ST, 24B    CPD         1636  Aguilera, Natalia   \n",
       "\n",
       "                 Date              DateString DayOfWeek  Weekend  Season  \\\n",
       "0 2025-04-06 00:07:44  2025-04-06 12:07:44 AM    Sunday     True  Spring   \n",
       "1 2025-04-05 23:51:42  2025-04-05 11:51:42 PM  Saturday     True  Spring   \n",
       "2 2025-04-05 21:25:40  2025-04-05 09:25:40 PM  Saturday     True  Spring   \n",
       "3 2025-04-05 16:38:44  2025-04-05 04:38:44 PM  Saturday     True  Spring   \n",
       "4 2025-04-05 16:36:46  2025-04-05 04:36:46 PM  Saturday     True  Spring   \n",
       "\n",
       "   HourAMPM  TimeOfDay               FullStreet        lat        lon  \n",
       "0  12:07 AM      Night           400 10TH ST NW  38.037244 -78.491465  \n",
       "1  11:51 PM      Night           1100 5TH ST SW  38.017130 -78.497806  \n",
       "2  09:25 PM      Night              200 AVON ST  38.028142 -78.477448  \n",
       "3  04:38 PM  Afternoon  1400 MONTICELLO RD, 100  38.019453 -78.472626  \n",
       "4  04:36 PM  Afternoon       800 W MAIN ST, 24B  38.031480 -78.490333  "
      ]
     },
     "execution_count": 9,
     "metadata": {},
     "output_type": "execute_result"
    }
   ],
   "source": [
    "# Combine BlockNumber and StreetName into a full address string\n",
    "df['FullStreet'] = df['BlockNumber'].astype(str) + \" \" + df['StreetName']\n",
    "\n",
    "# --- Step 1: Setup the Google Maps Client and Cache ---\n",
    "gmaps = googlemaps.Client(key=GOOGLE_API_KEY)\n",
    "\n",
    "# Try to load cached geocoding results if available.\n",
    "try:\n",
    "    with open(\"geocode_cache_google.pkl\", \"rb\") as f:\n",
    "        street_coords = pickle.load(f)\n",
    "    print(\"Loaded geocode cache.\")\n",
    "except FileNotFoundError:\n",
    "    street_coords = {}\n",
    "    print(\"No cache found; starting fresh.\")\n",
    "\n",
    "def geocode_address(address):\n",
    "    try:\n",
    "        # Append city and state to help geocoding\n",
    "        result = gmaps.geocode(f\"{address}, Charlottesville, VA\")\n",
    "        if result:\n",
    "            lat = result[0]['geometry']['location']['lat']\n",
    "            lon = result[0]['geometry']['location']['lng']\n",
    "            return lat, lon\n",
    "    except Exception as e:\n",
    "        print(f\"Error geocoding {address}: {e}\")\n",
    "    return None, None\n",
    "\n",
    "# --- Step 2: Geocode Only New Addresses ---\n",
    "unique_addresses = df['FullStreet'].unique()\n",
    "for address in unique_addresses:\n",
    "    if address not in street_coords:\n",
    "        lat, lon = geocode_address(address)\n",
    "        street_coords[address] = (lat, lon)\n",
    "        print(f\"Geocoded {address}: {lat}, {lon}\")\n",
    "\n",
    "# Save the updated cache to disk.\n",
    "with open(\"geocode_cache_google.pkl\", \"wb\") as f:\n",
    "    pickle.dump(street_coords, f)\n",
    "    print(\"Geocode cache updated and saved.\")\n",
    "\n",
    "# --- Step 3: Map Coordinates Back to DataFrame ---\n",
    "df['lat'] = df['FullStreet'].map(lambda s: street_coords.get(s, (None, None))[0])\n",
    "df['lon'] = df['FullStreet'].map(lambda s: street_coords.get(s, (None, None))[1])\n",
    "\n",
    "df.head()"
   ]
  },
  {
   "cell_type": "markdown",
   "id": "8ddc4c5b",
   "metadata": {
    "papermill": {
     "duration": 0.006239,
     "end_time": "2025-04-08T01:00:15.711970",
     "exception": false,
     "start_time": "2025-04-08T01:00:15.705731",
     "status": "completed"
    },
    "tags": []
   },
   "source": [
    "### Neighborhood"
   ]
  },
  {
   "cell_type": "code",
   "execution_count": 10,
   "id": "49ff82d4",
   "metadata": {
    "execution": {
     "iopub.execute_input": "2025-04-08T01:00:15.725753Z",
     "iopub.status.busy": "2025-04-08T01:00:15.725139Z",
     "iopub.status.idle": "2025-04-08T01:00:15.980774Z",
     "shell.execute_reply": "2025-04-08T01:00:15.980149Z"
    },
    "papermill": {
     "duration": 0.263721,
     "end_time": "2025-04-08T01:00:15.981882",
     "exception": false,
     "start_time": "2025-04-08T01:00:15.718161",
     "status": "completed"
    },
    "tags": []
   },
   "outputs": [
    {
     "name": "stdout",
     "output_type": "stream",
     "text": [
      "Loaded neighborhood cache.\n"
     ]
    },
    {
     "data": {
      "text/html": [
       "<div>\n",
       "<style scoped>\n",
       "    .dataframe tbody tr th:only-of-type {\n",
       "        vertical-align: middle;\n",
       "    }\n",
       "\n",
       "    .dataframe tbody tr th {\n",
       "        vertical-align: top;\n",
       "    }\n",
       "\n",
       "    .dataframe thead th {\n",
       "        text-align: right;\n",
       "    }\n",
       "</style>\n",
       "<table border=\"1\" class=\"dataframe\">\n",
       "  <thead>\n",
       "    <tr style=\"text-align: right;\">\n",
       "      <th></th>\n",
       "      <th>RecordID</th>\n",
       "      <th>Offense</th>\n",
       "      <th>IncidentID</th>\n",
       "      <th>BlockNumber</th>\n",
       "      <th>StreetName</th>\n",
       "      <th>Agency</th>\n",
       "      <th>HourReported</th>\n",
       "      <th>ReportingOfficer</th>\n",
       "      <th>Date</th>\n",
       "      <th>DateString</th>\n",
       "      <th>DayOfWeek</th>\n",
       "      <th>Weekend</th>\n",
       "      <th>Season</th>\n",
       "      <th>HourAMPM</th>\n",
       "      <th>TimeOfDay</th>\n",
       "      <th>FullStreet</th>\n",
       "      <th>lat</th>\n",
       "      <th>lon</th>\n",
       "      <th>neighborhood</th>\n",
       "    </tr>\n",
       "  </thead>\n",
       "  <tbody>\n",
       "    <tr>\n",
       "      <th>0</th>\n",
       "      <td>1</td>\n",
       "      <td>Assault Simple</td>\n",
       "      <td>202500011002</td>\n",
       "      <td>400</td>\n",
       "      <td>10TH ST NW</td>\n",
       "      <td>CPD</td>\n",
       "      <td>0007</td>\n",
       "      <td>Wells, Matthew</td>\n",
       "      <td>2025-04-06 00:07:44</td>\n",
       "      <td>2025-04-06 12:07:44 AM</td>\n",
       "      <td>Sunday</td>\n",
       "      <td>True</td>\n",
       "      <td>Spring</td>\n",
       "      <td>12:07 AM</td>\n",
       "      <td>Night</td>\n",
       "      <td>400 10TH ST NW</td>\n",
       "      <td>38.037244</td>\n",
       "      <td>-78.491465</td>\n",
       "      <td>10th &amp; Page</td>\n",
       "    </tr>\n",
       "    <tr>\n",
       "      <th>1</th>\n",
       "      <td>2</td>\n",
       "      <td>Motor Vehicle Theft</td>\n",
       "      <td>202500011001</td>\n",
       "      <td>1100</td>\n",
       "      <td>5TH ST SW</td>\n",
       "      <td>CPD</td>\n",
       "      <td>2351</td>\n",
       "      <td>Darby, Michael</td>\n",
       "      <td>2025-04-05 23:51:42</td>\n",
       "      <td>2025-04-05 11:51:42 PM</td>\n",
       "      <td>Saturday</td>\n",
       "      <td>True</td>\n",
       "      <td>Spring</td>\n",
       "      <td>11:51 PM</td>\n",
       "      <td>Night</td>\n",
       "      <td>1100 5TH ST SW</td>\n",
       "      <td>38.017130</td>\n",
       "      <td>-78.497806</td>\n",
       "      <td>Johnson Village</td>\n",
       "    </tr>\n",
       "    <tr>\n",
       "      <th>2</th>\n",
       "      <td>3</td>\n",
       "      <td>Weapons Violations</td>\n",
       "      <td>202500010981</td>\n",
       "      <td>200</td>\n",
       "      <td>AVON ST</td>\n",
       "      <td>CPD</td>\n",
       "      <td>2125</td>\n",
       "      <td>Ryan, Matthew</td>\n",
       "      <td>2025-04-05 21:25:40</td>\n",
       "      <td>2025-04-05 09:25:40 PM</td>\n",
       "      <td>Saturday</td>\n",
       "      <td>True</td>\n",
       "      <td>Spring</td>\n",
       "      <td>09:25 PM</td>\n",
       "      <td>Night</td>\n",
       "      <td>200 AVON ST</td>\n",
       "      <td>38.028142</td>\n",
       "      <td>-78.477448</td>\n",
       "      <td>Belmont</td>\n",
       "    </tr>\n",
       "    <tr>\n",
       "      <th>3</th>\n",
       "      <td>4</td>\n",
       "      <td>Assist Citizen - Mental/TDO/ECO</td>\n",
       "      <td>202500010954</td>\n",
       "      <td>1400</td>\n",
       "      <td>MONTICELLO RD, 100</td>\n",
       "      <td>CPD</td>\n",
       "      <td>1638</td>\n",
       "      <td>Crowley, Raeann</td>\n",
       "      <td>2025-04-05 16:38:44</td>\n",
       "      <td>2025-04-05 04:38:44 PM</td>\n",
       "      <td>Saturday</td>\n",
       "      <td>True</td>\n",
       "      <td>Spring</td>\n",
       "      <td>04:38 PM</td>\n",
       "      <td>Afternoon</td>\n",
       "      <td>1400 MONTICELLO RD, 100</td>\n",
       "      <td>38.019453</td>\n",
       "      <td>-78.472626</td>\n",
       "      <td>Belmont</td>\n",
       "    </tr>\n",
       "    <tr>\n",
       "      <th>4</th>\n",
       "      <td>5</td>\n",
       "      <td>Burglary</td>\n",
       "      <td>202500010955</td>\n",
       "      <td>800</td>\n",
       "      <td>W MAIN ST, 24B</td>\n",
       "      <td>CPD</td>\n",
       "      <td>1636</td>\n",
       "      <td>Aguilera, Natalia</td>\n",
       "      <td>2025-04-05 16:36:46</td>\n",
       "      <td>2025-04-05 04:36:46 PM</td>\n",
       "      <td>Saturday</td>\n",
       "      <td>True</td>\n",
       "      <td>Spring</td>\n",
       "      <td>04:36 PM</td>\n",
       "      <td>Afternoon</td>\n",
       "      <td>800 W MAIN ST, 24B</td>\n",
       "      <td>38.031480</td>\n",
       "      <td>-78.490333</td>\n",
       "      <td>Starr Hill</td>\n",
       "    </tr>\n",
       "  </tbody>\n",
       "</table>\n",
       "</div>"
      ],
      "text/plain": [
       "   RecordID                          Offense    IncidentID BlockNumber  \\\n",
       "0         1                   Assault Simple  202500011002         400   \n",
       "1         2              Motor Vehicle Theft  202500011001        1100   \n",
       "2         3               Weapons Violations  202500010981         200   \n",
       "3         4  Assist Citizen - Mental/TDO/ECO  202500010954        1400   \n",
       "4         5                         Burglary  202500010955         800   \n",
       "\n",
       "           StreetName Agency HourReported   ReportingOfficer  \\\n",
       "0          10TH ST NW    CPD         0007     Wells, Matthew   \n",
       "1           5TH ST SW    CPD         2351     Darby, Michael   \n",
       "2             AVON ST    CPD         2125      Ryan, Matthew   \n",
       "3  MONTICELLO RD, 100    CPD         1638    Crowley, Raeann   \n",
       "4      W MAIN ST, 24B    CPD         1636  Aguilera, Natalia   \n",
       "\n",
       "                 Date              DateString DayOfWeek  Weekend  Season  \\\n",
       "0 2025-04-06 00:07:44  2025-04-06 12:07:44 AM    Sunday     True  Spring   \n",
       "1 2025-04-05 23:51:42  2025-04-05 11:51:42 PM  Saturday     True  Spring   \n",
       "2 2025-04-05 21:25:40  2025-04-05 09:25:40 PM  Saturday     True  Spring   \n",
       "3 2025-04-05 16:38:44  2025-04-05 04:38:44 PM  Saturday     True  Spring   \n",
       "4 2025-04-05 16:36:46  2025-04-05 04:36:46 PM  Saturday     True  Spring   \n",
       "\n",
       "   HourAMPM  TimeOfDay               FullStreet        lat        lon  \\\n",
       "0  12:07 AM      Night           400 10TH ST NW  38.037244 -78.491465   \n",
       "1  11:51 PM      Night           1100 5TH ST SW  38.017130 -78.497806   \n",
       "2  09:25 PM      Night              200 AVON ST  38.028142 -78.477448   \n",
       "3  04:38 PM  Afternoon  1400 MONTICELLO RD, 100  38.019453 -78.472626   \n",
       "4  04:36 PM  Afternoon       800 W MAIN ST, 24B  38.031480 -78.490333   \n",
       "\n",
       "      neighborhood  \n",
       "0      10th & Page  \n",
       "1  Johnson Village  \n",
       "2          Belmont  \n",
       "3          Belmont  \n",
       "4       Starr Hill  "
      ]
     },
     "execution_count": 10,
     "metadata": {},
     "output_type": "execute_result"
    }
   ],
   "source": [
    "# Initialize the Google Maps client.\n",
    "gmaps = googlemaps.Client(key=GOOGLE_API_KEY)\n",
    "\n",
    "# Try to load a persistent neighborhood cache if available.\n",
    "try:\n",
    "    with open(\"neighborhood_cache.pkl\", \"rb\") as f:\n",
    "        neighborhood_cache = pickle.load(f)\n",
    "    print(\"Loaded neighborhood cache.\")\n",
    "except FileNotFoundError:\n",
    "    neighborhood_cache = {}\n",
    "    print(\"No neighborhood cache found; starting fresh.\")\n",
    "\n",
    "def get_neighborhood(lat, lon):\n",
    "    \"\"\"\n",
    "    Reverse geocodes a latitude and longitude to retrieve the neighborhood.\n",
    "    Caches results to speed up subsequent lookups.\n",
    "    \"\"\"\n",
    "    key = (lat, lon)\n",
    "    if key in neighborhood_cache:\n",
    "        return neighborhood_cache[key]\n",
    "    \n",
    "    try:\n",
    "        result = gmaps.reverse_geocode((lat, lon))\n",
    "        if result:\n",
    "            # Look for the 'neighborhood' component in the first result.\n",
    "            for component in result[0]['address_components']:\n",
    "                if 'neighborhood' in component['types']:\n",
    "                    neighborhood = component['long_name']\n",
    "                    neighborhood_cache[key] = neighborhood\n",
    "                    return neighborhood\n",
    "            # If no neighborhood is found, return \"N/A\"\n",
    "            neighborhood_cache[key] = \"N/A\"\n",
    "            return \"N/A\"\n",
    "    except Exception as e:\n",
    "        print(f\"Error getting neighborhood for {lat}, {lon}: {e}\")\n",
    "        return \"N/A\"\n",
    "    \n",
    "    # Pause to respect usage limits.\n",
    "    time.sleep(1)\n",
    "\n",
    "# Example usage: Apply to your DataFrame 'df' that already has 'lat' and 'lon' columns.\n",
    "df['neighborhood'] = df.apply(lambda row: get_neighborhood(row['lat'], row['lon']), axis=1)\n",
    "\n",
    "# Save the updated neighborhood cache.\n",
    "with open(\"neighborhood_cache.pkl\", \"wb\") as f:\n",
    "    pickle.dump(neighborhood_cache, f)\n",
    "\n",
    "df.head()\n"
   ]
  },
  {
   "cell_type": "markdown",
   "id": "285600ae",
   "metadata": {
    "papermill": {
     "duration": 0.006547,
     "end_time": "2025-04-08T01:00:15.995201",
     "exception": false,
     "start_time": "2025-04-08T01:00:15.988654",
     "status": "completed"
    },
    "tags": []
   },
   "source": [
    "### Zip"
   ]
  },
  {
   "cell_type": "code",
   "execution_count": 11,
   "id": "3c6ee7da",
   "metadata": {
    "execution": {
     "iopub.execute_input": "2025-04-08T01:00:16.009192Z",
     "iopub.status.busy": "2025-04-08T01:00:16.008753Z",
     "iopub.status.idle": "2025-04-08T01:00:16.249388Z",
     "shell.execute_reply": "2025-04-08T01:00:16.248695Z"
    },
    "papermill": {
     "duration": 0.248852,
     "end_time": "2025-04-08T01:00:16.250440",
     "exception": false,
     "start_time": "2025-04-08T01:00:16.001588",
     "status": "completed"
    },
    "tags": []
   },
   "outputs": [
    {
     "name": "stdout",
     "output_type": "stream",
     "text": [
      "Loaded zip cache.\n"
     ]
    },
    {
     "data": {
      "text/html": [
       "<div>\n",
       "<style scoped>\n",
       "    .dataframe tbody tr th:only-of-type {\n",
       "        vertical-align: middle;\n",
       "    }\n",
       "\n",
       "    .dataframe tbody tr th {\n",
       "        vertical-align: top;\n",
       "    }\n",
       "\n",
       "    .dataframe thead th {\n",
       "        text-align: right;\n",
       "    }\n",
       "</style>\n",
       "<table border=\"1\" class=\"dataframe\">\n",
       "  <thead>\n",
       "    <tr style=\"text-align: right;\">\n",
       "      <th></th>\n",
       "      <th>RecordID</th>\n",
       "      <th>Offense</th>\n",
       "      <th>IncidentID</th>\n",
       "      <th>BlockNumber</th>\n",
       "      <th>StreetName</th>\n",
       "      <th>Agency</th>\n",
       "      <th>HourReported</th>\n",
       "      <th>ReportingOfficer</th>\n",
       "      <th>Date</th>\n",
       "      <th>DateString</th>\n",
       "      <th>DayOfWeek</th>\n",
       "      <th>Weekend</th>\n",
       "      <th>Season</th>\n",
       "      <th>HourAMPM</th>\n",
       "      <th>TimeOfDay</th>\n",
       "      <th>FullStreet</th>\n",
       "      <th>lat</th>\n",
       "      <th>lon</th>\n",
       "      <th>neighborhood</th>\n",
       "      <th>zip</th>\n",
       "    </tr>\n",
       "  </thead>\n",
       "  <tbody>\n",
       "    <tr>\n",
       "      <th>0</th>\n",
       "      <td>1</td>\n",
       "      <td>Assault Simple</td>\n",
       "      <td>202500011002</td>\n",
       "      <td>400</td>\n",
       "      <td>10TH ST NW</td>\n",
       "      <td>CPD</td>\n",
       "      <td>0007</td>\n",
       "      <td>Wells, Matthew</td>\n",
       "      <td>2025-04-06 00:07:44</td>\n",
       "      <td>2025-04-06 12:07:44 AM</td>\n",
       "      <td>Sunday</td>\n",
       "      <td>True</td>\n",
       "      <td>Spring</td>\n",
       "      <td>12:07 AM</td>\n",
       "      <td>Night</td>\n",
       "      <td>400 10TH ST NW</td>\n",
       "      <td>38.037244</td>\n",
       "      <td>-78.491465</td>\n",
       "      <td>10th &amp; Page</td>\n",
       "      <td>22903</td>\n",
       "    </tr>\n",
       "    <tr>\n",
       "      <th>1</th>\n",
       "      <td>2</td>\n",
       "      <td>Motor Vehicle Theft</td>\n",
       "      <td>202500011001</td>\n",
       "      <td>1100</td>\n",
       "      <td>5TH ST SW</td>\n",
       "      <td>CPD</td>\n",
       "      <td>2351</td>\n",
       "      <td>Darby, Michael</td>\n",
       "      <td>2025-04-05 23:51:42</td>\n",
       "      <td>2025-04-05 11:51:42 PM</td>\n",
       "      <td>Saturday</td>\n",
       "      <td>True</td>\n",
       "      <td>Spring</td>\n",
       "      <td>11:51 PM</td>\n",
       "      <td>Night</td>\n",
       "      <td>1100 5TH ST SW</td>\n",
       "      <td>38.017130</td>\n",
       "      <td>-78.497806</td>\n",
       "      <td>Johnson Village</td>\n",
       "      <td>22903</td>\n",
       "    </tr>\n",
       "    <tr>\n",
       "      <th>2</th>\n",
       "      <td>3</td>\n",
       "      <td>Weapons Violations</td>\n",
       "      <td>202500010981</td>\n",
       "      <td>200</td>\n",
       "      <td>AVON ST</td>\n",
       "      <td>CPD</td>\n",
       "      <td>2125</td>\n",
       "      <td>Ryan, Matthew</td>\n",
       "      <td>2025-04-05 21:25:40</td>\n",
       "      <td>2025-04-05 09:25:40 PM</td>\n",
       "      <td>Saturday</td>\n",
       "      <td>True</td>\n",
       "      <td>Spring</td>\n",
       "      <td>09:25 PM</td>\n",
       "      <td>Night</td>\n",
       "      <td>200 AVON ST</td>\n",
       "      <td>38.028142</td>\n",
       "      <td>-78.477448</td>\n",
       "      <td>Belmont</td>\n",
       "      <td>22903</td>\n",
       "    </tr>\n",
       "    <tr>\n",
       "      <th>3</th>\n",
       "      <td>4</td>\n",
       "      <td>Assist Citizen - Mental/TDO/ECO</td>\n",
       "      <td>202500010954</td>\n",
       "      <td>1400</td>\n",
       "      <td>MONTICELLO RD, 100</td>\n",
       "      <td>CPD</td>\n",
       "      <td>1638</td>\n",
       "      <td>Crowley, Raeann</td>\n",
       "      <td>2025-04-05 16:38:44</td>\n",
       "      <td>2025-04-05 04:38:44 PM</td>\n",
       "      <td>Saturday</td>\n",
       "      <td>True</td>\n",
       "      <td>Spring</td>\n",
       "      <td>04:38 PM</td>\n",
       "      <td>Afternoon</td>\n",
       "      <td>1400 MONTICELLO RD, 100</td>\n",
       "      <td>38.019453</td>\n",
       "      <td>-78.472626</td>\n",
       "      <td>Belmont</td>\n",
       "      <td>22902</td>\n",
       "    </tr>\n",
       "    <tr>\n",
       "      <th>4</th>\n",
       "      <td>5</td>\n",
       "      <td>Burglary</td>\n",
       "      <td>202500010955</td>\n",
       "      <td>800</td>\n",
       "      <td>W MAIN ST, 24B</td>\n",
       "      <td>CPD</td>\n",
       "      <td>1636</td>\n",
       "      <td>Aguilera, Natalia</td>\n",
       "      <td>2025-04-05 16:36:46</td>\n",
       "      <td>2025-04-05 04:36:46 PM</td>\n",
       "      <td>Saturday</td>\n",
       "      <td>True</td>\n",
       "      <td>Spring</td>\n",
       "      <td>04:36 PM</td>\n",
       "      <td>Afternoon</td>\n",
       "      <td>800 W MAIN ST, 24B</td>\n",
       "      <td>38.031480</td>\n",
       "      <td>-78.490333</td>\n",
       "      <td>Starr Hill</td>\n",
       "      <td>22903</td>\n",
       "    </tr>\n",
       "  </tbody>\n",
       "</table>\n",
       "</div>"
      ],
      "text/plain": [
       "   RecordID                          Offense    IncidentID BlockNumber  \\\n",
       "0         1                   Assault Simple  202500011002         400   \n",
       "1         2              Motor Vehicle Theft  202500011001        1100   \n",
       "2         3               Weapons Violations  202500010981         200   \n",
       "3         4  Assist Citizen - Mental/TDO/ECO  202500010954        1400   \n",
       "4         5                         Burglary  202500010955         800   \n",
       "\n",
       "           StreetName Agency HourReported   ReportingOfficer  \\\n",
       "0          10TH ST NW    CPD         0007     Wells, Matthew   \n",
       "1           5TH ST SW    CPD         2351     Darby, Michael   \n",
       "2             AVON ST    CPD         2125      Ryan, Matthew   \n",
       "3  MONTICELLO RD, 100    CPD         1638    Crowley, Raeann   \n",
       "4      W MAIN ST, 24B    CPD         1636  Aguilera, Natalia   \n",
       "\n",
       "                 Date              DateString DayOfWeek  Weekend  Season  \\\n",
       "0 2025-04-06 00:07:44  2025-04-06 12:07:44 AM    Sunday     True  Spring   \n",
       "1 2025-04-05 23:51:42  2025-04-05 11:51:42 PM  Saturday     True  Spring   \n",
       "2 2025-04-05 21:25:40  2025-04-05 09:25:40 PM  Saturday     True  Spring   \n",
       "3 2025-04-05 16:38:44  2025-04-05 04:38:44 PM  Saturday     True  Spring   \n",
       "4 2025-04-05 16:36:46  2025-04-05 04:36:46 PM  Saturday     True  Spring   \n",
       "\n",
       "   HourAMPM  TimeOfDay               FullStreet        lat        lon  \\\n",
       "0  12:07 AM      Night           400 10TH ST NW  38.037244 -78.491465   \n",
       "1  11:51 PM      Night           1100 5TH ST SW  38.017130 -78.497806   \n",
       "2  09:25 PM      Night              200 AVON ST  38.028142 -78.477448   \n",
       "3  04:38 PM  Afternoon  1400 MONTICELLO RD, 100  38.019453 -78.472626   \n",
       "4  04:36 PM  Afternoon       800 W MAIN ST, 24B  38.031480 -78.490333   \n",
       "\n",
       "      neighborhood    zip  \n",
       "0      10th & Page  22903  \n",
       "1  Johnson Village  22903  \n",
       "2          Belmont  22903  \n",
       "3          Belmont  22902  \n",
       "4       Starr Hill  22903  "
      ]
     },
     "execution_count": 11,
     "metadata": {},
     "output_type": "execute_result"
    }
   ],
   "source": [
    "# Initialize the geocoder.\n",
    "geolocator = Nominatim(user_agent=\"zip_lookup\")\n",
    "\n",
    "# Try to load a persistent ZIP cache if available.\n",
    "try:\n",
    "    with open(\"zip_cache.pkl\", \"rb\") as f:\n",
    "        zip_cache = pickle.load(f)\n",
    "    print(\"Loaded zip cache.\")\n",
    "except FileNotFoundError:\n",
    "    zip_cache = {}\n",
    "    print(\"No zip cache found; starting fresh.\")\n",
    "\n",
    "def get_zip(lat, lon):\n",
    "    \"\"\"\n",
    "    Reverse geocodes a latitude and longitude to retrieve the ZIP code.\n",
    "    Caches results to speed up subsequent lookups.\n",
    "    \"\"\"\n",
    "    key = (lat, lon)\n",
    "    if key in zip_cache:\n",
    "        return zip_cache[key]\n",
    "    \n",
    "    try:\n",
    "        location = geolocator.reverse((lat, lon), exactly_one=True, timeout=10)\n",
    "        address = location.raw.get('address', {})\n",
    "        postal_code = address.get('postcode', \"N/A\")\n",
    "    except Exception as e:\n",
    "        print(f\"Error getting ZIP for {lat}, {lon}: {e}\")\n",
    "        postal_code = \"N/A\"\n",
    "    \n",
    "    zip_cache[key] = postal_code\n",
    "    # Pause to respect the usage policy.\n",
    "    time.sleep(1)\n",
    "    return postal_code\n",
    "\n",
    "# Apply the function to each row in the DataFrame.\n",
    "df['zip'] = df.apply(lambda row: get_zip(row['lat'], row['lon']), axis=1)\n",
    "\n",
    "# Save the updated ZIP cache.\n",
    "with open(\"zip_cache.pkl\", \"wb\") as f:\n",
    "    pickle.dump(zip_cache, f)\n",
    "\n",
    "df.head()\n"
   ]
  },
  {
   "cell_type": "code",
   "execution_count": 12,
   "id": "3bc9a8a4",
   "metadata": {
    "execution": {
     "iopub.execute_input": "2025-04-08T01:00:16.265521Z",
     "iopub.status.busy": "2025-04-08T01:00:16.265107Z",
     "iopub.status.idle": "2025-04-08T01:00:16.291233Z",
     "shell.execute_reply": "2025-04-08T01:00:16.290642Z"
    },
    "papermill": {
     "duration": 0.034647,
     "end_time": "2025-04-08T01:00:16.292270",
     "exception": false,
     "start_time": "2025-04-08T01:00:16.257623",
     "status": "completed"
    },
    "tags": []
   },
   "outputs": [
    {
     "name": "stdout",
     "output_type": "stream",
     "text": [
      "                  MissingCount  MissingPercentage\n",
      "RecordID                     0               0.00\n",
      "Offense                      0               0.00\n",
      "IncidentID                   0               0.00\n",
      "BlockNumber                  0               0.00\n",
      "StreetName                   0               0.00\n",
      "Agency                       0               0.00\n",
      "HourReported                 0               0.00\n",
      "ReportingOfficer            17               0.07\n",
      "Date                         0               0.00\n",
      "DateString                   0               0.00\n",
      "DayOfWeek                    0               0.00\n",
      "Weekend                      0               0.00\n",
      "Season                       0               0.00\n",
      "HourAMPM                     0               0.00\n",
      "TimeOfDay                    0               0.00\n",
      "FullStreet                   0               0.00\n",
      "lat                          0               0.00\n",
      "lon                          0               0.00\n",
      "neighborhood                 0               0.00\n",
      "zip                          0               0.00\n"
     ]
    }
   ],
   "source": [
    "missing_info = missing_percentage(df)\n",
    "print(missing_info)\n"
   ]
  },
  {
   "cell_type": "code",
   "execution_count": 13,
   "id": "de2c9ec5",
   "metadata": {
    "execution": {
     "iopub.execute_input": "2025-04-08T01:00:16.306850Z",
     "iopub.status.busy": "2025-04-08T01:00:16.306626Z",
     "iopub.status.idle": "2025-04-08T01:00:16.332261Z",
     "shell.execute_reply": "2025-04-08T01:00:16.331664Z"
    },
    "papermill": {
     "duration": 0.034143,
     "end_time": "2025-04-08T01:00:16.333329",
     "exception": false,
     "start_time": "2025-04-08T01:00:16.299186",
     "status": "completed"
    },
    "tags": []
   },
   "outputs": [
    {
     "name": "stdout",
     "output_type": "stream",
     "text": [
      "<class 'pandas.core.frame.DataFrame'>\n",
      "RangeIndex: 25118 entries, 0 to 25117\n",
      "Data columns (total 20 columns):\n",
      " #   Column            Non-Null Count  Dtype         \n",
      "---  ------            --------------  -----         \n",
      " 0   RecordID          25118 non-null  int64         \n",
      " 1   Offense           25118 non-null  object        \n",
      " 2   IncidentID        25118 non-null  object        \n",
      " 3   BlockNumber       25118 non-null  object        \n",
      " 4   StreetName        25118 non-null  object        \n",
      " 5   Agency            25118 non-null  object        \n",
      " 6   HourReported      25118 non-null  object        \n",
      " 7   ReportingOfficer  25101 non-null  object        \n",
      " 8   Date              25118 non-null  datetime64[ns]\n",
      " 9   DateString        25118 non-null  object        \n",
      " 10  DayOfWeek         25118 non-null  object        \n",
      " 11  Weekend           25118 non-null  bool          \n",
      " 12  Season            25118 non-null  object        \n",
      " 13  HourAMPM          25118 non-null  object        \n",
      " 14  TimeOfDay         25118 non-null  object        \n",
      " 15  FullStreet        25118 non-null  object        \n",
      " 16  lat               25118 non-null  float64       \n",
      " 17  lon               25118 non-null  float64       \n",
      " 18  neighborhood      25118 non-null  object        \n",
      " 19  zip               25118 non-null  object        \n",
      "dtypes: bool(1), datetime64[ns](1), float64(2), int64(1), object(15)\n",
      "memory usage: 3.7+ MB\n"
     ]
    }
   ],
   "source": [
    "df.info()"
   ]
  },
  {
   "cell_type": "code",
   "execution_count": 14,
   "id": "d92fb691",
   "metadata": {
    "execution": {
     "iopub.execute_input": "2025-04-08T01:00:16.348142Z",
     "iopub.status.busy": "2025-04-08T01:00:16.347946Z",
     "iopub.status.idle": "2025-04-08T01:00:16.388430Z",
     "shell.execute_reply": "2025-04-08T01:00:16.387758Z"
    },
    "papermill": {
     "duration": 0.049024,
     "end_time": "2025-04-08T01:00:16.389445",
     "exception": false,
     "start_time": "2025-04-08T01:00:16.340421",
     "status": "completed"
    },
    "tags": []
   },
   "outputs": [
    {
     "data": {
      "text/html": [
       "<div>\n",
       "<style scoped>\n",
       "    .dataframe tbody tr th:only-of-type {\n",
       "        vertical-align: middle;\n",
       "    }\n",
       "\n",
       "    .dataframe tbody tr th {\n",
       "        vertical-align: top;\n",
       "    }\n",
       "\n",
       "    .dataframe thead th {\n",
       "        text-align: right;\n",
       "    }\n",
       "</style>\n",
       "<table border=\"1\" class=\"dataframe\">\n",
       "  <thead>\n",
       "    <tr style=\"text-align: right;\">\n",
       "      <th></th>\n",
       "      <th>RecordID</th>\n",
       "      <th>Offense</th>\n",
       "      <th>IncidentID</th>\n",
       "      <th>Agency</th>\n",
       "      <th>ReportingOfficer</th>\n",
       "      <th>Date</th>\n",
       "      <th>DayOfWeek</th>\n",
       "      <th>Weekend</th>\n",
       "      <th>Season</th>\n",
       "      <th>TimeOfDay</th>\n",
       "      <th>FullStreet</th>\n",
       "      <th>lat</th>\n",
       "      <th>lon</th>\n",
       "      <th>neighborhood</th>\n",
       "      <th>zip</th>\n",
       "    </tr>\n",
       "  </thead>\n",
       "  <tbody>\n",
       "    <tr>\n",
       "      <th>0</th>\n",
       "      <td>1</td>\n",
       "      <td>Assault Simple</td>\n",
       "      <td>202500011002</td>\n",
       "      <td>CPD</td>\n",
       "      <td>Wells, Matthew</td>\n",
       "      <td>2025-04-06 00:07:44</td>\n",
       "      <td>Sunday</td>\n",
       "      <td>True</td>\n",
       "      <td>Spring</td>\n",
       "      <td>Night</td>\n",
       "      <td>400 10TH ST NW</td>\n",
       "      <td>38.037244</td>\n",
       "      <td>-78.491465</td>\n",
       "      <td>10th &amp; Page</td>\n",
       "      <td>22903</td>\n",
       "    </tr>\n",
       "    <tr>\n",
       "      <th>1</th>\n",
       "      <td>2</td>\n",
       "      <td>Motor Vehicle Theft</td>\n",
       "      <td>202500011001</td>\n",
       "      <td>CPD</td>\n",
       "      <td>Darby, Michael</td>\n",
       "      <td>2025-04-05 23:51:42</td>\n",
       "      <td>Saturday</td>\n",
       "      <td>True</td>\n",
       "      <td>Spring</td>\n",
       "      <td>Night</td>\n",
       "      <td>1100 5TH ST SW</td>\n",
       "      <td>38.017130</td>\n",
       "      <td>-78.497806</td>\n",
       "      <td>Johnson Village</td>\n",
       "      <td>22903</td>\n",
       "    </tr>\n",
       "    <tr>\n",
       "      <th>2</th>\n",
       "      <td>3</td>\n",
       "      <td>Weapons Violations</td>\n",
       "      <td>202500010981</td>\n",
       "      <td>CPD</td>\n",
       "      <td>Ryan, Matthew</td>\n",
       "      <td>2025-04-05 21:25:40</td>\n",
       "      <td>Saturday</td>\n",
       "      <td>True</td>\n",
       "      <td>Spring</td>\n",
       "      <td>Night</td>\n",
       "      <td>200 AVON ST</td>\n",
       "      <td>38.028142</td>\n",
       "      <td>-78.477448</td>\n",
       "      <td>Belmont</td>\n",
       "      <td>22903</td>\n",
       "    </tr>\n",
       "    <tr>\n",
       "      <th>3</th>\n",
       "      <td>4</td>\n",
       "      <td>Assist Citizen - Mental/TDO/ECO</td>\n",
       "      <td>202500010954</td>\n",
       "      <td>CPD</td>\n",
       "      <td>Crowley, Raeann</td>\n",
       "      <td>2025-04-05 16:38:44</td>\n",
       "      <td>Saturday</td>\n",
       "      <td>True</td>\n",
       "      <td>Spring</td>\n",
       "      <td>Afternoon</td>\n",
       "      <td>1400 MONTICELLO RD, 100</td>\n",
       "      <td>38.019453</td>\n",
       "      <td>-78.472626</td>\n",
       "      <td>Belmont</td>\n",
       "      <td>22902</td>\n",
       "    </tr>\n",
       "    <tr>\n",
       "      <th>4</th>\n",
       "      <td>5</td>\n",
       "      <td>Burglary</td>\n",
       "      <td>202500010955</td>\n",
       "      <td>CPD</td>\n",
       "      <td>Aguilera, Natalia</td>\n",
       "      <td>2025-04-05 16:36:46</td>\n",
       "      <td>Saturday</td>\n",
       "      <td>True</td>\n",
       "      <td>Spring</td>\n",
       "      <td>Afternoon</td>\n",
       "      <td>800 W MAIN ST, 24B</td>\n",
       "      <td>38.031480</td>\n",
       "      <td>-78.490333</td>\n",
       "      <td>Starr Hill</td>\n",
       "      <td>22903</td>\n",
       "    </tr>\n",
       "  </tbody>\n",
       "</table>\n",
       "</div>"
      ],
      "text/plain": [
       "   RecordID                          Offense    IncidentID Agency  \\\n",
       "0         1                   Assault Simple  202500011002    CPD   \n",
       "1         2              Motor Vehicle Theft  202500011001    CPD   \n",
       "2         3               Weapons Violations  202500010981    CPD   \n",
       "3         4  Assist Citizen - Mental/TDO/ECO  202500010954    CPD   \n",
       "4         5                         Burglary  202500010955    CPD   \n",
       "\n",
       "    ReportingOfficer                Date DayOfWeek  Weekend  Season  \\\n",
       "0     Wells, Matthew 2025-04-06 00:07:44    Sunday     True  Spring   \n",
       "1     Darby, Michael 2025-04-05 23:51:42  Saturday     True  Spring   \n",
       "2      Ryan, Matthew 2025-04-05 21:25:40  Saturday     True  Spring   \n",
       "3    Crowley, Raeann 2025-04-05 16:38:44  Saturday     True  Spring   \n",
       "4  Aguilera, Natalia 2025-04-05 16:36:46  Saturday     True  Spring   \n",
       "\n",
       "   TimeOfDay               FullStreet        lat        lon     neighborhood  \\\n",
       "0      Night           400 10TH ST NW  38.037244 -78.491465      10th & Page   \n",
       "1      Night           1100 5TH ST SW  38.017130 -78.497806  Johnson Village   \n",
       "2      Night              200 AVON ST  38.028142 -78.477448          Belmont   \n",
       "3  Afternoon  1400 MONTICELLO RD, 100  38.019453 -78.472626          Belmont   \n",
       "4  Afternoon       800 W MAIN ST, 24B  38.031480 -78.490333       Starr Hill   \n",
       "\n",
       "     zip  \n",
       "0  22903  \n",
       "1  22903  \n",
       "2  22903  \n",
       "3  22902  \n",
       "4  22903  "
      ]
     },
     "execution_count": 14,
     "metadata": {},
     "output_type": "execute_result"
    }
   ],
   "source": [
    "# Now drop the original BlockNumber and StreetName columns\n",
    "df.drop(columns=['BlockNumber', 'StreetName','HourAMPM','HourReported','DateString'], inplace=True)\n",
    "df[\"zip\"] = df[\"zip\"].astype(str)\n",
    "\n",
    "# Fill all missing values in the DataFrame with \"N/A\"\n",
    "df.replace({None: \"N/A\", np.nan: \"N/A\", \"\": \"N/A\"}, inplace=True)\n",
    "df.head()"
   ]
  },
  {
   "cell_type": "code",
   "execution_count": 15,
   "id": "2f78a724",
   "metadata": {
    "execution": {
     "iopub.execute_input": "2025-04-08T01:00:16.405142Z",
     "iopub.status.busy": "2025-04-08T01:00:16.404895Z",
     "iopub.status.idle": "2025-04-08T01:00:16.420375Z",
     "shell.execute_reply": "2025-04-08T01:00:16.419827Z"
    },
    "papermill": {
     "duration": 0.024324,
     "end_time": "2025-04-08T01:00:16.421356",
     "exception": false,
     "start_time": "2025-04-08T01:00:16.397032",
     "status": "completed"
    },
    "tags": []
   },
   "outputs": [
    {
     "name": "stdout",
     "output_type": "stream",
     "text": [
      "                  MissingCount  MissingPercentage\n",
      "RecordID                     0                0.0\n",
      "Offense                      0                0.0\n",
      "IncidentID                   0                0.0\n",
      "Agency                       0                0.0\n",
      "ReportingOfficer             0                0.0\n",
      "Date                         0                0.0\n",
      "DayOfWeek                    0                0.0\n",
      "Weekend                      0                0.0\n",
      "Season                       0                0.0\n",
      "TimeOfDay                    0                0.0\n",
      "FullStreet                   0                0.0\n",
      "lat                          0                0.0\n",
      "lon                          0                0.0\n",
      "neighborhood                 0                0.0\n",
      "zip                          0                0.0\n"
     ]
    }
   ],
   "source": [
    "missing_info = missing_percentage(df)\n",
    "print(missing_info)"
   ]
  },
  {
   "cell_type": "code",
   "execution_count": 16,
   "id": "4809b9f0",
   "metadata": {
    "execution": {
     "iopub.execute_input": "2025-04-08T01:00:16.436953Z",
     "iopub.status.busy": "2025-04-08T01:00:16.436474Z",
     "iopub.status.idle": "2025-04-08T01:00:16.440812Z",
     "shell.execute_reply": "2025-04-08T01:00:16.440285Z"
    },
    "papermill": {
     "duration": 0.013165,
     "end_time": "2025-04-08T01:00:16.441813",
     "exception": false,
     "start_time": "2025-04-08T01:00:16.428648",
     "status": "completed"
    },
    "tags": []
   },
   "outputs": [
    {
     "data": {
      "text/plain": [
       "Index(['RecordID', 'Offense', 'IncidentID', 'Agency', 'ReportingOfficer',\n",
       "       'Date', 'DayOfWeek', 'Weekend', 'Season', 'TimeOfDay', 'FullStreet',\n",
       "       'lat', 'lon', 'neighborhood', 'zip'],\n",
       "      dtype='object')"
      ]
     },
     "execution_count": 16,
     "metadata": {},
     "output_type": "execute_result"
    }
   ],
   "source": [
    "df.columns"
   ]
  },
  {
   "cell_type": "code",
   "execution_count": 17,
   "id": "8f424ba9",
   "metadata": {
    "execution": {
     "iopub.execute_input": "2025-04-08T01:00:16.457231Z",
     "iopub.status.busy": "2025-04-08T01:00:16.457049Z",
     "iopub.status.idle": "2025-04-08T01:00:16.473239Z",
     "shell.execute_reply": "2025-04-08T01:00:16.472726Z"
    },
    "papermill": {
     "duration": 0.024983,
     "end_time": "2025-04-08T01:00:16.474215",
     "exception": false,
     "start_time": "2025-04-08T01:00:16.449232",
     "status": "completed"
    },
    "tags": []
   },
   "outputs": [
    {
     "name": "stdout",
     "output_type": "stream",
     "text": [
      "<class 'pandas.core.frame.DataFrame'>\n",
      "RangeIndex: 25118 entries, 0 to 25117\n",
      "Data columns (total 15 columns):\n",
      " #   Column            Non-Null Count  Dtype         \n",
      "---  ------            --------------  -----         \n",
      " 0   RecordID          25118 non-null  int64         \n",
      " 1   Offense           25118 non-null  object        \n",
      " 2   IncidentID        25118 non-null  object        \n",
      " 3   Agency            25118 non-null  object        \n",
      " 4   ReportingOfficer  25118 non-null  object        \n",
      " 5   Date              25118 non-null  datetime64[ns]\n",
      " 6   DayOfWeek         25118 non-null  object        \n",
      " 7   Weekend           25118 non-null  bool          \n",
      " 8   Season            25118 non-null  object        \n",
      " 9   TimeOfDay         25118 non-null  object        \n",
      " 10  FullStreet        25118 non-null  object        \n",
      " 11  lat               25118 non-null  float64       \n",
      " 12  lon               25118 non-null  float64       \n",
      " 13  neighborhood      25118 non-null  object        \n",
      " 14  zip               25118 non-null  object        \n",
      "dtypes: bool(1), datetime64[ns](1), float64(2), int64(1), object(10)\n",
      "memory usage: 2.7+ MB\n"
     ]
    }
   ],
   "source": [
    "df.info()"
   ]
  },
  {
   "cell_type": "markdown",
   "id": "9db7d20a",
   "metadata": {
    "papermill": {
     "duration": 0.007436,
     "end_time": "2025-04-08T01:00:16.489366",
     "exception": false,
     "start_time": "2025-04-08T01:00:16.481930",
     "status": "completed"
    },
    "tags": []
   },
   "source": [
    "### Export Clean Data"
   ]
  },
  {
   "cell_type": "code",
   "execution_count": 18,
   "id": "a8693835",
   "metadata": {
    "execution": {
     "iopub.execute_input": "2025-04-08T01:00:16.505694Z",
     "iopub.status.busy": "2025-04-08T01:00:16.505247Z",
     "iopub.status.idle": "2025-04-08T01:00:25.747274Z",
     "shell.execute_reply": "2025-04-08T01:00:25.746664Z"
    },
    "papermill": {
     "duration": 9.25117,
     "end_time": "2025-04-08T01:00:25.748288",
     "exception": false,
     "start_time": "2025-04-08T01:00:16.497118",
     "status": "completed"
    },
    "tags": []
   },
   "outputs": [
    {
     "name": "stdout",
     "output_type": "stream",
     "text": [
      "Project Root: /home/runner/work/crime-data/crime-data\n"
     ]
    },
    {
     "name": "stdout",
     "output_type": "stream",
     "text": [
      "Data saved to: /home/runner/work/crime-data/crime-data/data/charlottesville_crime_incidents.csv\n"
     ]
    },
    {
     "name": "stdout",
     "output_type": "stream",
     "text": [
      "Excel saved to: /home/runner/work/crime-data/crime-data/data/charlottesville_crime_incidents.xlsx\n"
     ]
    }
   ],
   "source": [
    "# Determine the project root (assuming papermill is run from the repository root)\n",
    "project_root = os.getcwd()\n",
    "print(\"Project Root:\", project_root)\n",
    "\n",
    "# Set the data directory within the project root\n",
    "data_dir = os.path.join(project_root, \"data\")\n",
    "\n",
    "# Ensure the \"data\" directory exists (create it if it doesn't)\n",
    "if not os.path.exists(data_dir):\n",
    "    os.makedirs(data_dir)\n",
    "\n",
    "# Export the DataFrame to CSV in the \"data\" folder located in the project root\n",
    "csv_path = os.path.join(data_dir, \"charlottesville_crime_incidents.csv\")\n",
    "df.to_csv(csv_path, index=False)\n",
    "print(\"Data saved to:\", csv_path)\n",
    "\n",
    "# Construct the path to your Excel file\n",
    "excel_path = os.path.join(data_dir, \"charlottesville_crime_incidents.xlsx\")\n",
    "\n",
    "# Export the DataFrame to Excel\n",
    "df.to_excel(excel_path, index=False)\n",
    "print(\"Excel saved to:\", excel_path)\n"
   ]
  },
  {
   "cell_type": "markdown",
   "id": "c13774ee",
   "metadata": {
    "papermill": {
     "duration": 0.00769,
     "end_time": "2025-04-08T01:00:25.764017",
     "exception": false,
     "start_time": "2025-04-08T01:00:25.756327",
     "status": "completed"
    },
    "tags": []
   },
   "source": [
    "## Predictive Analytics"
   ]
  },
  {
   "cell_type": "code",
   "execution_count": 19,
   "id": "5f975579",
   "metadata": {
    "execution": {
     "iopub.execute_input": "2025-04-08T01:00:25.780418Z",
     "iopub.status.busy": "2025-04-08T01:00:25.780182Z",
     "iopub.status.idle": "2025-04-08T01:00:25.792148Z",
     "shell.execute_reply": "2025-04-08T01:00:25.791480Z"
    },
    "papermill": {
     "duration": 0.021461,
     "end_time": "2025-04-08T01:00:25.793226",
     "exception": false,
     "start_time": "2025-04-08T01:00:25.771765",
     "status": "completed"
    },
    "tags": []
   },
   "outputs": [
    {
     "data": {
      "text/html": [
       "<div>\n",
       "<style scoped>\n",
       "    .dataframe tbody tr th:only-of-type {\n",
       "        vertical-align: middle;\n",
       "    }\n",
       "\n",
       "    .dataframe tbody tr th {\n",
       "        vertical-align: top;\n",
       "    }\n",
       "\n",
       "    .dataframe thead th {\n",
       "        text-align: right;\n",
       "    }\n",
       "</style>\n",
       "<table border=\"1\" class=\"dataframe\">\n",
       "  <thead>\n",
       "    <tr style=\"text-align: right;\">\n",
       "      <th></th>\n",
       "      <th>RecordID</th>\n",
       "      <th>Offense</th>\n",
       "      <th>IncidentID</th>\n",
       "      <th>Agency</th>\n",
       "      <th>ReportingOfficer</th>\n",
       "      <th>Date</th>\n",
       "      <th>DayOfWeek</th>\n",
       "      <th>Weekend</th>\n",
       "      <th>Season</th>\n",
       "      <th>TimeOfDay</th>\n",
       "      <th>FullStreet</th>\n",
       "      <th>lat</th>\n",
       "      <th>lon</th>\n",
       "      <th>neighborhood</th>\n",
       "      <th>zip</th>\n",
       "    </tr>\n",
       "  </thead>\n",
       "  <tbody>\n",
       "    <tr>\n",
       "      <th>0</th>\n",
       "      <td>1</td>\n",
       "      <td>Assault Simple</td>\n",
       "      <td>202500011002</td>\n",
       "      <td>CPD</td>\n",
       "      <td>Wells, Matthew</td>\n",
       "      <td>2025-04-06 00:07:44</td>\n",
       "      <td>Sunday</td>\n",
       "      <td>True</td>\n",
       "      <td>Spring</td>\n",
       "      <td>Night</td>\n",
       "      <td>400 10TH ST NW</td>\n",
       "      <td>38.037244</td>\n",
       "      <td>-78.491465</td>\n",
       "      <td>10th &amp; Page</td>\n",
       "      <td>22903</td>\n",
       "    </tr>\n",
       "    <tr>\n",
       "      <th>1</th>\n",
       "      <td>2</td>\n",
       "      <td>Motor Vehicle Theft</td>\n",
       "      <td>202500011001</td>\n",
       "      <td>CPD</td>\n",
       "      <td>Darby, Michael</td>\n",
       "      <td>2025-04-05 23:51:42</td>\n",
       "      <td>Saturday</td>\n",
       "      <td>True</td>\n",
       "      <td>Spring</td>\n",
       "      <td>Night</td>\n",
       "      <td>1100 5TH ST SW</td>\n",
       "      <td>38.017130</td>\n",
       "      <td>-78.497806</td>\n",
       "      <td>Johnson Village</td>\n",
       "      <td>22903</td>\n",
       "    </tr>\n",
       "    <tr>\n",
       "      <th>2</th>\n",
       "      <td>3</td>\n",
       "      <td>Weapons Violations</td>\n",
       "      <td>202500010981</td>\n",
       "      <td>CPD</td>\n",
       "      <td>Ryan, Matthew</td>\n",
       "      <td>2025-04-05 21:25:40</td>\n",
       "      <td>Saturday</td>\n",
       "      <td>True</td>\n",
       "      <td>Spring</td>\n",
       "      <td>Night</td>\n",
       "      <td>200 AVON ST</td>\n",
       "      <td>38.028142</td>\n",
       "      <td>-78.477448</td>\n",
       "      <td>Belmont</td>\n",
       "      <td>22903</td>\n",
       "    </tr>\n",
       "    <tr>\n",
       "      <th>3</th>\n",
       "      <td>4</td>\n",
       "      <td>Assist Citizen - Mental/TDO/ECO</td>\n",
       "      <td>202500010954</td>\n",
       "      <td>CPD</td>\n",
       "      <td>Crowley, Raeann</td>\n",
       "      <td>2025-04-05 16:38:44</td>\n",
       "      <td>Saturday</td>\n",
       "      <td>True</td>\n",
       "      <td>Spring</td>\n",
       "      <td>Afternoon</td>\n",
       "      <td>1400 MONTICELLO RD, 100</td>\n",
       "      <td>38.019453</td>\n",
       "      <td>-78.472626</td>\n",
       "      <td>Belmont</td>\n",
       "      <td>22902</td>\n",
       "    </tr>\n",
       "    <tr>\n",
       "      <th>4</th>\n",
       "      <td>5</td>\n",
       "      <td>Burglary</td>\n",
       "      <td>202500010955</td>\n",
       "      <td>CPD</td>\n",
       "      <td>Aguilera, Natalia</td>\n",
       "      <td>2025-04-05 16:36:46</td>\n",
       "      <td>Saturday</td>\n",
       "      <td>True</td>\n",
       "      <td>Spring</td>\n",
       "      <td>Afternoon</td>\n",
       "      <td>800 W MAIN ST, 24B</td>\n",
       "      <td>38.031480</td>\n",
       "      <td>-78.490333</td>\n",
       "      <td>Starr Hill</td>\n",
       "      <td>22903</td>\n",
       "    </tr>\n",
       "  </tbody>\n",
       "</table>\n",
       "</div>"
      ],
      "text/plain": [
       "   RecordID                          Offense    IncidentID Agency  \\\n",
       "0         1                   Assault Simple  202500011002    CPD   \n",
       "1         2              Motor Vehicle Theft  202500011001    CPD   \n",
       "2         3               Weapons Violations  202500010981    CPD   \n",
       "3         4  Assist Citizen - Mental/TDO/ECO  202500010954    CPD   \n",
       "4         5                         Burglary  202500010955    CPD   \n",
       "\n",
       "    ReportingOfficer                Date DayOfWeek  Weekend  Season  \\\n",
       "0     Wells, Matthew 2025-04-06 00:07:44    Sunday     True  Spring   \n",
       "1     Darby, Michael 2025-04-05 23:51:42  Saturday     True  Spring   \n",
       "2      Ryan, Matthew 2025-04-05 21:25:40  Saturday     True  Spring   \n",
       "3    Crowley, Raeann 2025-04-05 16:38:44  Saturday     True  Spring   \n",
       "4  Aguilera, Natalia 2025-04-05 16:36:46  Saturday     True  Spring   \n",
       "\n",
       "   TimeOfDay               FullStreet        lat        lon     neighborhood  \\\n",
       "0      Night           400 10TH ST NW  38.037244 -78.491465      10th & Page   \n",
       "1      Night           1100 5TH ST SW  38.017130 -78.497806  Johnson Village   \n",
       "2      Night              200 AVON ST  38.028142 -78.477448          Belmont   \n",
       "3  Afternoon  1400 MONTICELLO RD, 100  38.019453 -78.472626          Belmont   \n",
       "4  Afternoon       800 W MAIN ST, 24B  38.031480 -78.490333       Starr Hill   \n",
       "\n",
       "     zip  \n",
       "0  22903  \n",
       "1  22903  \n",
       "2  22903  \n",
       "3  22902  \n",
       "4  22903  "
      ]
     },
     "execution_count": 19,
     "metadata": {},
     "output_type": "execute_result"
    }
   ],
   "source": [
    "df.head()"
   ]
  },
  {
   "cell_type": "code",
   "execution_count": 20,
   "id": "7da5c4fa",
   "metadata": {
    "execution": {
     "iopub.execute_input": "2025-04-08T01:00:25.832908Z",
     "iopub.status.busy": "2025-04-08T01:00:25.832392Z",
     "iopub.status.idle": "2025-04-08T01:00:25.837188Z",
     "shell.execute_reply": "2025-04-08T01:00:25.836617Z"
    },
    "papermill": {
     "duration": 0.014647,
     "end_time": "2025-04-08T01:00:25.838203",
     "exception": false,
     "start_time": "2025-04-08T01:00:25.823556",
     "status": "completed"
    },
    "tags": []
   },
   "outputs": [
    {
     "data": {
      "text/plain": [
       "Index(['RecordID', 'Offense', 'IncidentID', 'Agency', 'ReportingOfficer',\n",
       "       'Date', 'DayOfWeek', 'Weekend', 'Season', 'TimeOfDay', 'FullStreet',\n",
       "       'lat', 'lon', 'neighborhood', 'zip'],\n",
       "      dtype='object')"
      ]
     },
     "execution_count": 20,
     "metadata": {},
     "output_type": "execute_result"
    }
   ],
   "source": [
    "df.columns"
   ]
  },
  {
   "cell_type": "markdown",
   "id": "00d16a43",
   "metadata": {
    "papermill": {
     "duration": 0.007957,
     "end_time": "2025-04-08T01:00:25.854232",
     "exception": false,
     "start_time": "2025-04-08T01:00:25.846275",
     "status": "completed"
    },
    "tags": []
   },
   "source": [
    "### Data Preparation\n",
    "\n",
    "We need to ensure the data is in the correct format for modeling and can handle missing values, categorical variables, and dates. Here's how to prepare your data:"
   ]
  },
  {
   "cell_type": "code",
   "execution_count": 21,
   "id": "56dde178",
   "metadata": {
    "execution": {
     "iopub.execute_input": "2025-04-08T01:00:25.871023Z",
     "iopub.status.busy": "2025-04-08T01:00:25.870607Z",
     "iopub.status.idle": "2025-04-08T01:00:27.593520Z",
     "shell.execute_reply": "2025-04-08T01:00:27.592738Z"
    },
    "papermill": {
     "duration": 1.73272,
     "end_time": "2025-04-08T01:00:27.594931",
     "exception": false,
     "start_time": "2025-04-08T01:00:25.862211",
     "status": "completed"
    },
    "tags": []
   },
   "outputs": [],
   "source": [
    "import pandas as pd\n",
    "from sklearn.model_selection import train_test_split\n",
    "from sklearn.preprocessing import OneHotEncoder, LabelEncoder\n",
    "from sklearn.ensemble import RandomForestClassifier\n",
    "from sklearn.linear_model import LogisticRegression\n",
    "from sklearn.tree import DecisionTreeClassifier\n",
    "from sklearn.metrics import classification_report, accuracy_score\n",
    "import seaborn as sns\n",
    "import matplotlib.pyplot as plt\n",
    "\n",
    "# Convert 'Date' to datetime\n",
    "df['Date'] = pd.to_datetime(df['Date'])\n",
    "\n",
    "# Feature engineering: Extract additional time-based features\n",
    "df['Year'] = df['Date'].dt.year\n",
    "df['Month'] = df['Date'].dt.month\n",
    "df['DayOfMonth'] = df['Date'].dt.day\n",
    "\n",
    "# One-hot encoding for 'FullStreet', 'neighborhood', 'zip'\n",
    "df = pd.get_dummies(df, columns=['FullStreet', 'neighborhood', 'zip'], drop_first=True)\n",
    "\n",
    "# Label encoding for ordered variables (those with a natural order like 'DayOfWeek', 'Season', 'TimeOfDay')\n",
    "label_encoders = {}\n",
    "for column in ['DayOfWeek', 'Season', 'TimeOfDay', 'Agency', 'ReportingOfficer']:  # Example ordinal variables\n",
    "    le = LabelEncoder()\n",
    "    df[column] = le.fit_transform(df[column])\n",
    "    label_encoders[column] = le\n",
    "\n",
    "# Filter the dataset to include only the offenses of interest\n",
    "offenses_of_interest = [\n",
    "    'Hit and Run', 'Assault Simple', 'Suspicious Activity', 'Vandalism', \n",
    "    'Larceny - From Mot Vehicle', 'Larceny - All Other', \n",
    "    'Assist Citizen - Mental/TDO/ECO', 'Lost/FoundProperty'\n",
    "]\n",
    "\n",
    "df = df[df['Offense'].isin(offenses_of_interest)]\n",
    "\n",
    "# Label encode the target variable (Offense)\n",
    "offense_encoder = LabelEncoder()\n",
    "df['Offense'] = offense_encoder.fit_transform(df['Offense'])\n",
    "\n",
    "# Separate features (X) and target (y)\n",
    "X = df[['Year', 'Month', 'DayOfMonth', 'DayOfWeek', 'Weekend', 'Season', 'TimeOfDay', 'lat', 'lon', 'Agency', 'ReportingOfficer']]\n",
    "y = df['Offense']  # Offense is now the encoded target variable\n",
    "\n",
    "# Split the data into training and testing sets\n",
    "X_train, X_test, y_train, y_test = train_test_split(X, y, test_size=0.3, random_state=42)\n"
   ]
  },
  {
   "cell_type": "markdown",
   "id": "e288bb07",
   "metadata": {
    "papermill": {
     "duration": 0.00792,
     "end_time": "2025-04-08T01:00:27.611238",
     "exception": false,
     "start_time": "2025-04-08T01:00:27.603318",
     "status": "completed"
    },
    "tags": []
   },
   "source": [
    "### Model Training\n",
    "\n",
    "Here we will train several models (e.g., Random Forest, Logistic Regression, and Decision Tree). We will use cross-validation to choose the best model based on accuracy, and then explain the impact of the variables."
   ]
  },
  {
   "cell_type": "code",
   "execution_count": 22,
   "id": "5b146d31",
   "metadata": {
    "execution": {
     "iopub.execute_input": "2025-04-08T01:00:27.628180Z",
     "iopub.status.busy": "2025-04-08T01:00:27.627834Z",
     "iopub.status.idle": "2025-04-08T01:00:31.156033Z",
     "shell.execute_reply": "2025-04-08T01:00:31.155354Z"
    },
    "papermill": {
     "duration": 3.537986,
     "end_time": "2025-04-08T01:00:31.157089",
     "exception": false,
     "start_time": "2025-04-08T01:00:27.619103",
     "status": "completed"
    },
    "tags": []
   },
   "outputs": [
    {
     "name": "stderr",
     "output_type": "stream",
     "text": [
      "/opt/hostedtoolcache/Python/3.9.21/x64/lib/python3.9/site-packages/sklearn/linear_model/_logistic.py:465: ConvergenceWarning: lbfgs failed to converge (status=1):\n",
      "STOP: TOTAL NO. of ITERATIONS REACHED LIMIT.\n",
      "\n",
      "Increase the number of iterations (max_iter) or scale the data as shown in:\n",
      "    https://scikit-learn.org/stable/modules/preprocessing.html\n",
      "Please also refer to the documentation for alternative solver options:\n",
      "    https://scikit-learn.org/stable/modules/linear_model.html#logistic-regression\n",
      "  n_iter_i = _check_optimize_result(\n",
      "/opt/hostedtoolcache/Python/3.9.21/x64/lib/python3.9/site-packages/sklearn/metrics/_classification.py:1565: UndefinedMetricWarning: Precision is ill-defined and being set to 0.0 in labels with no predicted samples. Use `zero_division` parameter to control this behavior.\n",
      "  _warn_prf(average, modifier, f\"{metric.capitalize()} is\", len(result))\n",
      "/opt/hostedtoolcache/Python/3.9.21/x64/lib/python3.9/site-packages/sklearn/metrics/_classification.py:1565: UndefinedMetricWarning: Precision is ill-defined and being set to 0.0 in labels with no predicted samples. Use `zero_division` parameter to control this behavior.\n",
      "  _warn_prf(average, modifier, f\"{metric.capitalize()} is\", len(result))\n",
      "/opt/hostedtoolcache/Python/3.9.21/x64/lib/python3.9/site-packages/sklearn/metrics/_classification.py:1565: UndefinedMetricWarning: Precision is ill-defined and being set to 0.0 in labels with no predicted samples. Use `zero_division` parameter to control this behavior.\n",
      "  _warn_prf(average, modifier, f\"{metric.capitalize()} is\", len(result))\n"
     ]
    },
    {
     "name": "stdout",
     "output_type": "stream",
     "text": [
      "\n",
      "Classification Report for All Models:\n",
      "\n",
      "Model: RandomForest\n",
      "Accuracy: 0.2803\n",
      "              precision    recall  f1-score      support\n",
      "0              0.282670  0.330017  0.304514   603.000000\n",
      "1              0.297059  0.248157  0.270415   407.000000\n",
      "2              0.321091  0.450663  0.375000   679.000000\n",
      "3              0.198511  0.175055  0.186047   457.000000\n",
      "4              0.342857  0.211765  0.261818   340.000000\n",
      "5              0.227273  0.203252  0.214592   492.000000\n",
      "6              0.272727  0.230769  0.250000   468.000000\n",
      "accuracy       0.280325  0.280325  0.280325     0.280325\n",
      "macro avg      0.277456  0.264240  0.266055  3446.000000\n",
      "weighted avg   0.277458  0.280325  0.274210  3446.000000\n"
     ]
    },
    {
     "data": {
      "image/png": "[encoded data removed]",
      "text/plain": [
       "<Figure size 800x600 with 2 Axes>"
      ]
     },
     "metadata": {},
     "output_type": "display_data"
    },
    {
     "name": "stdout",
     "output_type": "stream",
     "text": [
      "\n",
      "Model: LogisticRegression\n",
      "Accuracy: 0.2165\n",
      "              precision    recall  f1-score      support\n",
      "0              0.209677  0.495854  0.294726   603.000000\n",
      "1              0.250000  0.002457  0.004866   407.000000\n",
      "2              0.222054  0.646539  0.330572   679.000000\n",
      "3              0.000000  0.000000  0.000000   457.000000\n",
      "4              0.000000  0.000000  0.000000   340.000000\n",
      "5              0.179487  0.014228  0.026365   492.000000\n",
      "6              0.000000  0.000000  0.000000   468.000000\n",
      "accuracy       0.216483  0.216483  0.216483     0.216483\n",
      "macro avg      0.123031  0.165583  0.093790  3446.000000\n",
      "weighted avg   0.135597  0.216483  0.121048  3446.000000\n"
     ]
    },
    {
     "data": {
      "image/png": "[encoded data removed]",
      "text/plain": [
       "<Figure size 800x600 with 2 Axes>"
      ]
     },
     "metadata": {},
     "output_type": "display_data"
    },
    {
     "name": "stdout",
     "output_type": "stream",
     "text": [
      "\n",
      "Model: DecisionTree\n",
      "Accuracy: 0.2130\n",
      "              precision    recall  f1-score      support\n",
      "0              0.233677  0.225539  0.229536   603.000000\n",
      "1              0.193317  0.199017  0.196126   407.000000\n",
      "2              0.300926  0.287187  0.293896   679.000000\n",
      "3              0.161826  0.170678  0.166134   457.000000\n",
      "4              0.173021  0.173529  0.173275   340.000000\n",
      "5              0.172065  0.172764  0.172414   492.000000\n",
      "6              0.208333  0.213675  0.210970   468.000000\n",
      "accuracy       0.213001  0.213001  0.213001     0.213001\n",
      "macro avg      0.206166  0.206056  0.206050  3446.000000\n",
      "weighted avg   0.214409  0.213001  0.213635  3446.000000\n"
     ]
    },
    {
     "data": {
      "image/png": "[encoded data removed]",
      "text/plain": [
       "<Figure size 800x600 with 2 Axes>"
      ]
     },
     "metadata": {},
     "output_type": "display_data"
    },
    {
     "name": "stdout",
     "output_type": "stream",
     "text": [
      "\n",
      "Best Model:\n",
      "Best Model: RandomForestClassifier()\n",
      "Best Model Accuracy: 0.2803\n"
     ]
    }
   ],
   "source": [
    "import pandas as pd\n",
    "from sklearn.model_selection import train_test_split\n",
    "from sklearn.ensemble import RandomForestClassifier\n",
    "from sklearn.linear_model import LogisticRegression\n",
    "from sklearn.tree import DecisionTreeClassifier\n",
    "from sklearn.metrics import classification_report, accuracy_score, confusion_matrix\n",
    "import seaborn as sns\n",
    "import matplotlib.pyplot as plt\n",
    "\n",
    "# Define models\n",
    "models = {\n",
    "    'RandomForest': RandomForestClassifier(),\n",
    "    'LogisticRegression': LogisticRegression(max_iter=1000),\n",
    "    'DecisionTree': DecisionTreeClassifier()\n",
    "}\n",
    "\n",
    "# Train models and evaluate them\n",
    "best_model = None\n",
    "best_score = 0\n",
    "model_reports = {}\n",
    "\n",
    "for model_name, model in models.items():\n",
    "    model.fit(X_train, y_train)  # Train model\n",
    "    y_pred = model.predict(X_test)  # Make predictions\n",
    "    \n",
    "    # Calculate accuracy and generate classification report\n",
    "    accuracy = accuracy_score(y_test, y_pred)\n",
    "    model_reports[model_name] = classification_report(y_test, y_pred, output_dict=True)  # Store as a dictionary for easier analysis\n",
    "    \n",
    "    # Track best performing model\n",
    "    if accuracy > best_score:\n",
    "        best_score = accuracy\n",
    "        best_model = model\n",
    "\n",
    "# Display classification reports and confusion matrices\n",
    "print(\"\\nClassification Report for All Models:\")\n",
    "for model_name, report in model_reports.items():\n",
    "    print(f\"\\nModel: {model_name}\")\n",
    "    print(\"Accuracy: {:.4f}\".format(accuracy_score(y_test, models[model_name].predict(X_test))))  # Display accuracy\n",
    "    print(pd.DataFrame(report).transpose())  # Display classification report as a DataFrame\n",
    "\n",
    "    # Plot Confusion Matrix\n",
    "    cm = confusion_matrix(y_test, models[model_name].predict(X_test))\n",
    "    plt.figure(figsize=(8, 6))\n",
    "    sns.heatmap(cm, annot=True, fmt=\"d\", cmap='Blues', xticklabels=offense_encoder.classes_, yticklabels=offense_encoder.classes_)\n",
    "    plt.title(f\"Confusion Matrix - {model_name}\")\n",
    "    plt.xlabel('Predicted Labels')\n",
    "    plt.ylabel('True Labels')\n",
    "    plt.show()\n",
    "\n",
    "# Display best model details\n",
    "print(\"\\nBest Model:\")\n",
    "print(f\"Best Model: {best_model}\")\n",
    "print(f\"Best Model Accuracy: {best_score:.4f}\")\n"
   ]
  },
  {
   "cell_type": "markdown",
   "id": "b4935f2d",
   "metadata": {
    "papermill": {
     "duration": 0.010484,
     "end_time": "2025-04-08T01:00:31.179106",
     "exception": false,
     "start_time": "2025-04-08T01:00:31.168622",
     "status": "completed"
    },
    "tags": []
   },
   "source": [
    "#### Classification Report for All Models:\n",
    "\n",
    "### Explanation of the Classification Results (RandomForest Model)\n",
    "\n",
    "The results you provided are from a **Random Forest** model, which is used for predicting different types of offenses. Let's break down the key components of the results:\n",
    "\n",
    "#### 1. **Accuracy: 0.2822**\n",
    "   - **Accuracy** measures the overall percentage of correct predictions made by the model. An accuracy of 28.22% means the model correctly predicted the offense in about 28% of the cases. This indicates the model's predictions are not highly reliable, as the accuracy is quite low.\n",
    "\n",
    "#### 2. **Classification Report:**\n",
    "   The classification report includes precision, recall, and F1-score for each offense. Let's go over these terms and how they apply to the results:\n",
    "\n",
    "   - **Precision**: The proportion of true positive predictions out of all positive predictions made by the model for a specific class (offense).\n",
    "   - **Recall**: The proportion of true positive predictions out of all actual positive instances in the dataset.\n",
    "   - **F1-Score**: The harmonic mean of precision and recall, providing a balance between the two metrics.\n",
    "   - **Support**: The number of actual occurrences of each class in the test set.\n",
    "\n",
    "   Let's analyze each offense based on these metrics:\n",
    "\n",
    "   | **Offense**                        | **Precision** | **Recall** | **F1-Score** | **Support** |\n",
    "   |------------------------------------|---------------|------------|--------------|-------------|\n",
    "   | **Assault Simple**                 | 0.2892        | 0.3754     | 0.3267       | 594         |\n",
    "   | **Assist Citizen - Mental/TDO/ECO**| 0.3182        | 0.2274     | 0.2652       | 431         |\n",
    "   | **Hit and Run**                    | 0.2963        | 0.4765     | 0.3654       | 638         |\n",
    "   | **Larceny - All Other**            | 0.2270        | 0.1453     | 0.1772       | 475         |\n",
    "   | **Lost/FoundProperty**             | 0.3333        | 0.2102     | 0.2578       | 352         |\n",
    "   | **Suspicious Activity**            | 0.2344        | 0.2169     | 0.2253       | 484         |\n",
    "   | **Vandalism**                      | 0.2712        | 0.2106     | 0.2371       | 470         |\n",
    "\n",
    "#### 3. **Key Insights from the Report:**\n",
    "\n",
    "- **Precision**:\n",
    "   - The highest precision is for **Larceny - All Other** (0.3333), indicating that when the model predicts this offense, it is correct about 33% of the time. However, this is still quite low.\n",
    "   - **Assist Citizen - Mental/TDO/ECO** has the lowest precision (0.2269), meaning that the model's predictions for this offense tend to be wrong more often than correct.\n",
    "\n",
    "- **Recall**:\n",
    "   - **Hit and Run** has the highest recall (0.4765), meaning the model identifies about 48% of the actual occurrences of this offense. This is better than the precision, which indicates it is missing many true positives but is still able to identify a fair number of cases.\n",
    "   - **Larceny - All Other** and **Suspicious Activity** have the lowest recall values (0.1453 and 0.2169, respectively), indicating that the model is failing to identify most of the actual cases for these offenses.\n",
    "\n",
    "- **F1-Score**:\n",
    "   - The **F1-Score** balances precision and recall. It is highest for **Hit and Run** (0.3654), but still relatively low overall. This suggests the model is better at identifying **Hit and Run** than other offenses but still has room for improvement.\n",
    "   - **Larceny - All Other** has the lowest F1-Score (0.1772), indicating a poor balance between precision and recall for this offense.\n",
    "\n",
    "#### 4. **Macro Average and Weighted Average:**\n",
    "   - **Macro Average**: This gives the average precision, recall, and F1-Score across all classes (offenses) without considering the class distribution. It averages the results for all offenses equally.\n",
    "     - Precision: 0.2814\n",
    "     - Recall: 0.2661\n",
    "     - F1-Score: 0.2649\n",
    "   - **Weighted Average**: This averages the metrics but weighs each class by its support (the number of true instances in the test set). This gives a better sense of overall performance, considering the class distribution.\n",
    "     - Precision: 0.2799\n",
    "     - Recall: 0.2822\n",
    "     - F1-Score: 0.2720\n",
    "\n",
    "#### 5. **Confusion Matrix (Visualization Analysis)**:\n",
    "   - The confusion matrix shows the distribution of true positive, false positive, true negative, and false negative predictions for each class.\n",
    "     - For **Hit and Run**, the model performs relatively well in identifying this offense (304 true positives). However, it also misclassifies some **Hit and Run** instances as other offenses (e.g., **Assault Simple**, **Suspicious Activity**, etc.).\n",
    "     - **Larceny - All Other** is frequently misclassified as **Hit and Run**, **Suspicious Activity**, and others. This is evident from the large number of off-diagonal elements in its row.\n",
    "     - **Assist Citizen - Mental/TDO/ECO** and **Suspicious Activity** are frequently misclassified, as seen by the off-diagonal values in their rows.\n",
    "\n",
    "### Conclusion:\n",
    "The Random Forest model has low accuracy (28.22%), suggesting that it struggles to predict most offenses accurately. Some offenses like **Hit and Run** are better predicted than others, but overall, the model shows a high level of misclassification across all offenses. There may be a need for further tuning of the model, additional feature engineering, or trying different models for better performance.\n",
    "\n",
    "Let me know if you'd like to improve the model or make adjustments based on these results!\n",
    "\n"
   ]
  },
  {
   "cell_type": "markdown",
   "id": "fcf7b172",
   "metadata": {
    "papermill": {
     "duration": 0.010395,
     "end_time": "2025-04-08T01:00:31.200104",
     "exception": false,
     "start_time": "2025-04-08T01:00:31.189709",
     "status": "completed"
    },
    "tags": []
   },
   "source": [
    "### Model Explanation\n",
    "\n",
    "Once we’ve chosen the best model, we will explain its predictions by examining feature importance for tree-based models and using statistical methods like logistic regression coefficients for linear models."
   ]
  },
  {
   "cell_type": "markdown",
   "id": "8a1922e2",
   "metadata": {
    "papermill": {
     "duration": 0.010563,
     "end_time": "2025-04-08T01:00:31.221166",
     "exception": false,
     "start_time": "2025-04-08T01:00:31.210603",
     "status": "completed"
    },
    "tags": []
   },
   "source": [
    "#### Feature Importance for Random Forest / Decision Tree\n",
    "\n",
    "##### For Tree-based Models (Random Forest, Decision Tree)\n",
    "\n",
    "For Random Forest or Decision Tree, we can look at feature importance to understand which variables contribute the most to the model's predictions. Here's how you can visualize and interpret the importance of each feature:"
   ]
  },
  {
   "cell_type": "code",
   "execution_count": 23,
   "id": "221c1caa",
   "metadata": {
    "execution": {
     "iopub.execute_input": "2025-04-08T01:00:31.243307Z",
     "iopub.status.busy": "2025-04-08T01:00:31.243068Z",
     "iopub.status.idle": "2025-04-08T01:00:31.406432Z",
     "shell.execute_reply": "2025-04-08T01:00:31.405846Z"
    },
    "papermill": {
     "duration": 0.175636,
     "end_time": "2025-04-08T01:00:31.407423",
     "exception": false,
     "start_time": "2025-04-08T01:00:31.231787",
     "status": "completed"
    },
    "tags": []
   },
   "outputs": [
    {
     "data": {
      "image/png": "[encoded data removed]",
      "text/plain": [
       "<Figure size 1000x600 with 1 Axes>"
      ]
     },
     "metadata": {},
     "output_type": "display_data"
    }
   ],
   "source": [
    "# For RandomForest or DecisionTree models, we can check feature importance\n",
    "if isinstance(best_model, RandomForestClassifier) or isinstance(best_model, DecisionTreeClassifier):\n",
    "    feature_importance = best_model.feature_importances_\n",
    "    feature_names = X.columns\n",
    "    importance_df = pd.DataFrame({'Feature': feature_names, 'Importance': feature_importance})\n",
    "    importance_df = importance_df.sort_values(by='Importance', ascending=False)\n",
    "    \n",
    "    # Plotting the feature importances\n",
    "    plt.figure(figsize=(10, 6))\n",
    "    sns.barplot(x='Importance', y='Feature', data=importance_df)\n",
    "    plt.title(\"Feature Importance\")\n",
    "    plt.show()\n"
   ]
  },
  {
   "cell_type": "code",
   "execution_count": null,
   "id": "09922953",
   "metadata": {
    "papermill": {
     "duration": 0.010919,
     "end_time": "2025-04-08T01:00:31.429723",
     "exception": false,
     "start_time": "2025-04-08T01:00:31.418804",
     "status": "completed"
    },
    "tags": []
   },
   "outputs": [],
   "source": []
  },
  {
   "cell_type": "markdown",
   "id": "8a6e2953",
   "metadata": {
    "papermill": {
     "duration": 0.010808,
     "end_time": "2025-04-08T01:00:31.451443",
     "exception": false,
     "start_time": "2025-04-08T01:00:31.440635",
     "status": "completed"
    },
    "tags": []
   },
   "source": [
    "### Evaluation\n",
    "\n",
    "After training the models and examining their performance, we evaluate the chosen model based on metrics like accuracy, precision, recall, and F1 score.\n",
    "\n"
   ]
  },
  {
   "cell_type": "code",
   "execution_count": 24,
   "id": "c3b5d104",
   "metadata": {
    "execution": {
     "iopub.execute_input": "2025-04-08T01:00:31.474236Z",
     "iopub.status.busy": "2025-04-08T01:00:31.473994Z",
     "iopub.status.idle": "2025-04-08T01:00:31.562059Z",
     "shell.execute_reply": "2025-04-08T01:00:31.561359Z"
    },
    "papermill": {
     "duration": 0.100905,
     "end_time": "2025-04-08T01:00:31.563222",
     "exception": false,
     "start_time": "2025-04-08T01:00:31.462317",
     "status": "completed"
    },
    "tags": []
   },
   "outputs": [
    {
     "name": "stdout",
     "output_type": "stream",
     "text": [
      "Accuracy: 0.2803\n",
      "Classification Report:\n",
      "              precision    recall  f1-score   support\n",
      "\n",
      "           0       0.28      0.33      0.30       603\n",
      "           1       0.30      0.25      0.27       407\n",
      "           2       0.32      0.45      0.38       679\n",
      "           3       0.20      0.18      0.19       457\n",
      "           4       0.34      0.21      0.26       340\n",
      "           5       0.23      0.20      0.21       492\n",
      "           6       0.27      0.23      0.25       468\n",
      "\n",
      "    accuracy                           0.28      3446\n",
      "   macro avg       0.28      0.26      0.27      3446\n",
      "weighted avg       0.28      0.28      0.27      3446\n",
      "\n",
      "Confusion Matrix:\n",
      "[[199  58 159  68  17  58  44]\n",
      " [ 94 101  89  36  20  42  25]\n",
      " [114  50 306  61  19  77  52]\n",
      " [ 70  31 114  80  34  63  65]\n",
      " [ 45  27  60  45  72  40  51]\n",
      " [105  40 108  68  20 100  51]\n",
      " [ 77  33 117  45  28  60 108]]\n",
      "Precision: 0.2775\n",
      "Recall: 0.2803\n",
      "F1 Score: 0.2742\n"
     ]
    }
   ],
   "source": [
    "from sklearn.metrics import classification_report, confusion_matrix, accuracy_score, precision_score, recall_score, f1_score\n",
    "\n",
    "# Predict on the test set\n",
    "y_pred = best_model.predict(X_test)\n",
    "\n",
    "# Calculate Accuracy\n",
    "accuracy = accuracy_score(y_test, y_pred)\n",
    "print(f\"Accuracy: {accuracy:.4f}\")\n",
    "\n",
    "# Classification Report\n",
    "print(\"Classification Report:\")\n",
    "print(classification_report(y_test, y_pred))\n",
    "\n",
    "# Confusion Matrix\n",
    "conf_matrix = confusion_matrix(y_test, y_pred)\n",
    "print(\"Confusion Matrix:\")\n",
    "print(conf_matrix)\n",
    "\n",
    "# Precision, Recall, F1 Score for each class (Offense Type)\n",
    "precision = precision_score(y_test, y_pred, average='weighted')\n",
    "recall = recall_score(y_test, y_pred, average='weighted')\n",
    "f1 = f1_score(y_test, y_pred, average='weighted')\n",
    "\n",
    "print(f\"Precision: {precision:.4f}\")\n",
    "print(f\"Recall: {recall:.4f}\")\n",
    "print(f\"F1 Score: {f1:.4f}\")\n"
   ]
  },
  {
   "cell_type": "markdown",
   "id": "ae817724",
   "metadata": {
    "papermill": {
     "duration": 0.011263,
     "end_time": "2025-04-08T01:00:31.586002",
     "exception": false,
     "start_time": "2025-04-08T01:00:31.574739",
     "status": "completed"
    },
    "tags": []
   },
   "source": [
    "#### For Logistic Regression (Coefficient Interpretation)\n",
    "\n",
    "For Logistic Regression, the model coefficients can help us understand how each feature affects the likelihood of an offense happening. A positive coefficient indicates a feature increases the likelihood of the offense, and a negative coefficient indicates the opposite."
   ]
  },
  {
   "cell_type": "code",
   "execution_count": 25,
   "id": "1ccda363",
   "metadata": {
    "execution": {
     "iopub.execute_input": "2025-04-08T01:00:31.609657Z",
     "iopub.status.busy": "2025-04-08T01:00:31.609119Z",
     "iopub.status.idle": "2025-04-08T01:00:31.613987Z",
     "shell.execute_reply": "2025-04-08T01:00:31.613312Z"
    },
    "papermill": {
     "duration": 0.01757,
     "end_time": "2025-04-08T01:00:31.615062",
     "exception": false,
     "start_time": "2025-04-08T01:00:31.597492",
     "status": "completed"
    },
    "tags": []
   },
   "outputs": [],
   "source": [
    "if isinstance(best_model, LogisticRegression):\n",
    "    # Logistic regression coefficients\n",
    "    coef_df = pd.DataFrame({\n",
    "        'Feature': X.columns,\n",
    "        'Coefficient': best_model.coef_[0]\n",
    "    })\n",
    "    coef_df['AbsCoefficient'] = coef_df['Coefficient'].abs()\n",
    "    coef_df = coef_df.sort_values(by='AbsCoefficient', ascending=False)\n",
    "    \n",
    "    # Plotting the coefficients\n",
    "    plt.figure(figsize=(10, 6))\n",
    "    sns.barplot(x='AbsCoefficient', y='Feature', data=coef_df)\n",
    "    plt.title(\"Logistic Regression Coefficients Impact\")\n",
    "    plt.show()\n",
    "\n",
    "    # Print the top 5 most impactful features (by absolute coefficient value)\n",
    "    print(\"Top 5 most impactful features based on coefficients:\")\n",
    "    print(coef_df.head())\n"
   ]
  },
  {
   "cell_type": "markdown",
   "id": "c194e80b",
   "metadata": {
    "papermill": {
     "duration": 0.010911,
     "end_time": "2025-04-08T01:00:31.637137",
     "exception": false,
     "start_time": "2025-04-08T01:00:31.626226",
     "status": "completed"
    },
    "tags": []
   },
   "source": [
    "Explanation of Output:\n",
    "\n",
    "Feature Importance (Random Forest/Decision Tree): The bar plot will show how important each feature is in the decision-making process. Features at the top of the list are the most influential in predicting the occurrence of offenses.\n",
    "\n",
    "Logistic Regression Coefficients: The bar plot will show the magnitude of the coefficients for each feature. Features with larger absolute values (either positive or negative) have a stronger impact on the model’s predictions. Positive coefficients increase the probability of an offense, while negative coefficients decrease it."
   ]
  },
  {
   "cell_type": "markdown",
   "id": "852ebb14",
   "metadata": {
    "papermill": {
     "duration": 0.011122,
     "end_time": "2025-04-08T01:00:31.659296",
     "exception": false,
     "start_time": "2025-04-08T01:00:31.648174",
     "status": "completed"
    },
    "tags": []
   },
   "source": []
  }
 ],
 "metadata": {
  "kernelspec": {
   "display_name": "Python 3",
   "language": "python",
   "name": "python3"
  },
  "language_info": {
   "codemirror_mode": {
    "name": "ipython",
    "version": 3
   },
   "file_extension": ".py",
   "mimetype": "text/x-python",
   "name": "python",
   "nbconvert_exporter": "python",
   "pygments_lexer": "ipython3",
   "version": "3.9.21"
  },
  "papermill": {
   "default_parameters": {},
   "duration": 79.704218,
   "end_time": "2025-04-08T01:00:32.086432",
   "environment_variables": {},
   "exception": null,
   "input_path": "notebook/Crime Data.ipynb",
   "output_path": "notebook/Crime Data_output.ipynb",
   "parameters": {},
   "start_time": "2025-04-08T00:59:12.382214",
   "version": "2.6.0"
  }
 },
 "nbformat": 4,
 "nbformat_minor": 5
}