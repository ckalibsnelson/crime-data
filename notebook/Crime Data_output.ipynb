{
 "cells": [
  {
   "cell_type": "markdown",
   "id": "d4448486",
   "metadata": {
    "papermill": {
     "duration": 0.00649,
     "end_time": "2025-05-03T01:00:01.247456",
     "exception": false,
     "start_time": "2025-05-03T01:00:01.240966",
     "status": "completed"
    },
    "tags": []
   },
   "source": [
    "# Charlottesville Open Data Porttal: Crime Data"
   ]
  },
  {
   "cell_type": "markdown",
   "id": "1b9a5f3d",
   "metadata": {
    "papermill": {
     "duration": 0.005174,
     "end_time": "2025-05-03T01:00:01.258169",
     "exception": false,
     "start_time": "2025-05-03T01:00:01.252995",
     "status": "completed"
    },
    "tags": []
   },
   "source": [
    "## Import Relevant Librarires & Set WD"
   ]
  },
  {
   "cell_type": "code",
   "execution_count": 1,
   "id": "9d1049b3",
   "metadata": {
    "execution": {
     "iopub.execute_input": "2025-05-03T01:00:01.269801Z",
     "iopub.status.busy": "2025-05-03T01:00:01.269513Z",
     "iopub.status.idle": "2025-05-03T01:00:01.812397Z",
     "shell.execute_reply": "2025-05-03T01:00:01.811772Z"
    },
    "papermill": {
     "duration": 0.550497,
     "end_time": "2025-05-03T01:00:01.813841",
     "exception": false,
     "start_time": "2025-05-03T01:00:01.263344",
     "status": "completed"
    },
    "tags": []
   },
   "outputs": [],
   "source": [
    "import requests\n",
    "import pandas as pd\n",
    "import numpy as np\n",
    "import pickle\n",
    "import googlemaps\n",
    "import plotly.express as px\n",
    "from geopy.geocoders import Nominatim\n",
    "import time\n",
    "from dotenv import load_dotenv\n",
    "import os\n",
    "\n",
    "env_path = os.path.join(\"..\", \".env\")\n",
    "#print(\"Looking for .env file at:\", os.path.abspath(env_path))\n",
    "load_dotenv(dotenv_path=env_path)\n",
    "\n",
    "# Retrieve the variables\n",
    "GOOGLE_API_KEY = os.getenv(\"GOOGLE_API_KEY\")\n",
    "WORKING_DIR = os.getenv(\"WORKING_DIR\")\n",
    "\n",
    "if GOOGLE_API_KEY is None or WORKING_DIR is None:\n",
    "    raise RuntimeError(\"No configuration found. Please ensure that your .env file exists with the required variables, or create a local config.py file.\")\n",
    "\n",
    "#print(\"Google API Key:\", GOOGLE_API_KEY)\n",
    "#print(\"Working Directory:\", WORKING_DIR)"
   ]
  },
  {
   "cell_type": "markdown",
   "id": "4e750ae6",
   "metadata": {
    "papermill": {
     "duration": 0.00514,
     "end_time": "2025-05-03T01:00:01.824711",
     "exception": false,
     "start_time": "2025-05-03T01:00:01.819571",
     "status": "completed"
    },
    "tags": []
   },
   "source": [
    "## Import Data\n",
    "\n",
    "URL: https://opendata.charlottesville.org/datasets/charlottesville::crime-data/about"
   ]
  },
  {
   "cell_type": "code",
   "execution_count": 2,
   "id": "1cde4c95",
   "metadata": {
    "execution": {
     "iopub.execute_input": "2025-05-03T01:00:01.836315Z",
     "iopub.status.busy": "2025-05-03T01:00:01.835913Z",
     "iopub.status.idle": "2025-05-03T01:01:05.551108Z",
     "shell.execute_reply": "2025-05-03T01:01:05.550362Z"
    },
    "papermill": {
     "duration": 63.728301,
     "end_time": "2025-05-03T01:01:05.558209",
     "exception": false,
     "start_time": "2025-05-03T01:00:01.829908",
     "status": "completed"
    },
    "tags": []
   },
   "outputs": [
    {
     "name": "stdout",
     "output_type": "stream",
     "text": [
      "Total records imported: 25313\n"
     ]
    }
   ],
   "source": [
    "# Define the endpoint and initial parameters.\n",
    "url = \"https://gisweb.charlottesville.org/arcgis/rest/services/OpenData_2/MapServer/6/query\"\n",
    "params = {\n",
    "    \"where\": \"1=1\",\n",
    "    \"outFields\": \"*\",\n",
    "    \"outSR\": 4326,\n",
    "    \"f\": \"json\",\n",
    "    \"resultOffset\": 0,       # Starting index for results\n",
    "    \"resultRecordCount\": 10000  # Maximum records per batch (if allowed by the API)\n",
    "}\n",
    "\n",
    "records = []\n",
    "\n",
    "while True:\n",
    "    response = requests.get(url, params=params)\n",
    "    response.raise_for_status()\n",
    "    data = response.json()\n",
    "    \n",
    "    # Get the current batch of features.\n",
    "    features = data.get(\"features\", [])\n",
    "    if not features:\n",
    "        break\n",
    "\n",
    "    # Extract the attributes from the features.\n",
    "    batch_records = [feature.get(\"attributes\", {}) for feature in features]\n",
    "    records.extend(batch_records)\n",
    "    \n",
    "    # If the batch size is less than the requested count, we reached the end.\n",
    "    if len(features) < params[\"resultRecordCount\"]:\n",
    "        break\n",
    "\n",
    "    # Update the resultOffset for the next batch.\n",
    "    params[\"resultOffset\"] += params[\"resultRecordCount\"]\n",
    "\n",
    "# Create a DataFrame from the combined records.\n",
    "df = pd.DataFrame(records)\n",
    "print(\"Total records imported:\", len(df))\n"
   ]
  },
  {
   "cell_type": "code",
   "execution_count": 3,
   "id": "787615d1",
   "metadata": {
    "execution": {
     "iopub.execute_input": "2025-05-03T01:01:05.602302Z",
     "iopub.status.busy": "2025-05-03T01:01:05.601647Z",
     "iopub.status.idle": "2025-05-03T01:01:05.614648Z",
     "shell.execute_reply": "2025-05-03T01:01:05.613937Z"
    },
    "papermill": {
     "duration": 0.052042,
     "end_time": "2025-05-03T01:01:05.615724",
     "exception": false,
     "start_time": "2025-05-03T01:01:05.563682",
     "status": "completed"
    },
    "tags": []
   },
   "outputs": [
    {
     "data": {
      "text/html": [
       "<div>\n",
       "<style scoped>\n",
       "    .dataframe tbody tr th:only-of-type {\n",
       "        vertical-align: middle;\n",
       "    }\n",
       "\n",
       "    .dataframe tbody tr th {\n",
       "        vertical-align: top;\n",
       "    }\n",
       "\n",
       "    .dataframe thead th {\n",
       "        text-align: right;\n",
       "    }\n",
       "</style>\n",
       "<table border=\"1\" class=\"dataframe\">\n",
       "  <thead>\n",
       "    <tr style=\"text-align: right;\">\n",
       "      <th></th>\n",
       "      <th>RecordID</th>\n",
       "      <th>Offense</th>\n",
       "      <th>IncidentID</th>\n",
       "      <th>BlockNumber</th>\n",
       "      <th>StreetName</th>\n",
       "      <th>Agency</th>\n",
       "      <th>DateReported</th>\n",
       "      <th>HourReported</th>\n",
       "      <th>ReportingOfficer</th>\n",
       "    </tr>\n",
       "  </thead>\n",
       "  <tbody>\n",
       "    <tr>\n",
       "      <th>0</th>\n",
       "      <td>1</td>\n",
       "      <td>Traffic Stops</td>\n",
       "      <td>202500014284</td>\n",
       "      <td></td>\n",
       "      <td>JEFFERSON PARK AVE / SUNSET AVE</td>\n",
       "      <td>CPD</td>\n",
       "      <td>1746065052000</td>\n",
       "      <td>2204</td>\n",
       "      <td>Vlasis, Christopher</td>\n",
       "    </tr>\n",
       "    <tr>\n",
       "      <th>1</th>\n",
       "      <td>2</td>\n",
       "      <td>Death Investigation - DOA</td>\n",
       "      <td>202500014281</td>\n",
       "      <td>1900</td>\n",
       "      <td>BLUE RIDGE RD</td>\n",
       "      <td>CPD</td>\n",
       "      <td>1746061752000</td>\n",
       "      <td>2109</td>\n",
       "      <td>Shiflett, Ethan</td>\n",
       "    </tr>\n",
       "    <tr>\n",
       "      <th>2</th>\n",
       "      <td>3</td>\n",
       "      <td>Burglary</td>\n",
       "      <td>202500014278</td>\n",
       "      <td>200</td>\n",
       "      <td>FLORENCE RD</td>\n",
       "      <td>CPD</td>\n",
       "      <td>1746058281000</td>\n",
       "      <td>2011</td>\n",
       "      <td>Venereo, Arturo</td>\n",
       "    </tr>\n",
       "    <tr>\n",
       "      <th>3</th>\n",
       "      <td>4</td>\n",
       "      <td>Sex Offense</td>\n",
       "      <td>202500014274</td>\n",
       "      <td>1900</td>\n",
       "      <td>CHESAPEAKE ST</td>\n",
       "      <td>CPD</td>\n",
       "      <td>1746052956000</td>\n",
       "      <td>1842</td>\n",
       "      <td>Ritter, Kobe</td>\n",
       "    </tr>\n",
       "    <tr>\n",
       "      <th>4</th>\n",
       "      <td>5</td>\n",
       "      <td>Hit and Run</td>\n",
       "      <td>202500014268</td>\n",
       "      <td>1700</td>\n",
       "      <td>ALLIED LN</td>\n",
       "      <td>CPD</td>\n",
       "      <td>1746048835000</td>\n",
       "      <td>1733</td>\n",
       "      <td>Abdelgayed, Adam</td>\n",
       "    </tr>\n",
       "  </tbody>\n",
       "</table>\n",
       "</div>"
      ],
      "text/plain": [
       "   RecordID                    Offense    IncidentID BlockNumber  \\\n",
       "0         1              Traffic Stops  202500014284               \n",
       "1         2  Death Investigation - DOA  202500014281        1900   \n",
       "2         3                   Burglary  202500014278         200   \n",
       "3         4                Sex Offense  202500014274        1900   \n",
       "4         5                Hit and Run  202500014268        1700   \n",
       "\n",
       "                        StreetName Agency   DateReported HourReported  \\\n",
       "0  JEFFERSON PARK AVE / SUNSET AVE    CPD  1746065052000         2204   \n",
       "1                    BLUE RIDGE RD    CPD  1746061752000         2109   \n",
       "2                      FLORENCE RD    CPD  1746058281000         2011   \n",
       "3                    CHESAPEAKE ST    CPD  1746052956000         1842   \n",
       "4                        ALLIED LN    CPD  1746048835000         1733   \n",
       "\n",
       "      ReportingOfficer  \n",
       "0  Vlasis, Christopher  \n",
       "1     Shiflett, Ethan   \n",
       "2      Venereo, Arturo  \n",
       "3         Ritter, Kobe  \n",
       "4     Abdelgayed, Adam  "
      ]
     },
     "execution_count": 3,
     "metadata": {},
     "output_type": "execute_result"
    }
   ],
   "source": [
    "df.head()"
   ]
  },
  {
   "cell_type": "code",
   "execution_count": 4,
   "id": "8bf7e01c",
   "metadata": {
    "execution": {
     "iopub.execute_input": "2025-05-03T01:01:05.628124Z",
     "iopub.status.busy": "2025-05-03T01:01:05.627617Z",
     "iopub.status.idle": "2025-05-03T01:01:05.632152Z",
     "shell.execute_reply": "2025-05-03T01:01:05.631616Z"
    },
    "papermill": {
     "duration": 0.011634,
     "end_time": "2025-05-03T01:01:05.633120",
     "exception": false,
     "start_time": "2025-05-03T01:01:05.621486",
     "status": "completed"
    },
    "tags": []
   },
   "outputs": [
    {
     "data": {
      "text/plain": [
       "Index(['RecordID', 'Offense', 'IncidentID', 'BlockNumber', 'StreetName',\n",
       "       'Agency', 'DateReported', 'HourReported', 'ReportingOfficer'],\n",
       "      dtype='object')"
      ]
     },
     "execution_count": 4,
     "metadata": {},
     "output_type": "execute_result"
    }
   ],
   "source": [
    "df.columns"
   ]
  },
  {
   "cell_type": "code",
   "execution_count": 5,
   "id": "1a554973",
   "metadata": {
    "execution": {
     "iopub.execute_input": "2025-05-03T01:01:05.644998Z",
     "iopub.status.busy": "2025-05-03T01:01:05.644752Z",
     "iopub.status.idle": "2025-05-03T01:01:05.670628Z",
     "shell.execute_reply": "2025-05-03T01:01:05.669933Z"
    },
    "papermill": {
     "duration": 0.033121,
     "end_time": "2025-05-03T01:01:05.671823",
     "exception": false,
     "start_time": "2025-05-03T01:01:05.638702",
     "status": "completed"
    },
    "tags": []
   },
   "outputs": [
    {
     "name": "stdout",
     "output_type": "stream",
     "text": [
      "<class 'pandas.core.frame.DataFrame'>\n",
      "RangeIndex: 25313 entries, 0 to 25312\n",
      "Data columns (total 9 columns):\n",
      " #   Column            Non-Null Count  Dtype \n",
      "---  ------            --------------  ----- \n",
      " 0   RecordID          25313 non-null  int64 \n",
      " 1   Offense           25313 non-null  object\n",
      " 2   IncidentID        25313 non-null  object\n",
      " 3   BlockNumber       25313 non-null  object\n",
      " 4   StreetName        25313 non-null  object\n",
      " 5   Agency            25313 non-null  object\n",
      " 6   DateReported      25313 non-null  int64 \n",
      " 7   HourReported      25313 non-null  object\n",
      " 8   ReportingOfficer  25296 non-null  object\n",
      "dtypes: int64(2), object(7)\n",
      "memory usage: 1.7+ MB\n"
     ]
    }
   ],
   "source": [
    "df.info()"
   ]
  },
  {
   "cell_type": "markdown",
   "id": "d7bbaaaa",
   "metadata": {
    "papermill": {
     "duration": 0.005553,
     "end_time": "2025-05-03T01:01:05.683448",
     "exception": false,
     "start_time": "2025-05-03T01:01:05.677895",
     "status": "completed"
    },
    "tags": []
   },
   "source": [
    "### Missing Values"
   ]
  },
  {
   "cell_type": "code",
   "execution_count": 6,
   "id": "a44353f9",
   "metadata": {
    "execution": {
     "iopub.execute_input": "2025-05-03T01:01:05.695769Z",
     "iopub.status.busy": "2025-05-03T01:01:05.695314Z",
     "iopub.status.idle": "2025-05-03T01:01:05.719921Z",
     "shell.execute_reply": "2025-05-03T01:01:05.719261Z"
    },
    "papermill": {
     "duration": 0.031882,
     "end_time": "2025-05-03T01:01:05.720909",
     "exception": false,
     "start_time": "2025-05-03T01:01:05.689027",
     "status": "completed"
    },
    "tags": []
   },
   "outputs": [
    {
     "name": "stdout",
     "output_type": "stream",
     "text": [
      "                  MissingCount  MissingPercentage\n",
      "RecordID                     0               0.00\n",
      "Offense                      0               0.00\n",
      "IncidentID                   0               0.00\n",
      "BlockNumber                  0               0.00\n",
      "StreetName                   0               0.00\n",
      "Agency                       0               0.00\n",
      "DateReported                 0               0.00\n",
      "HourReported                 0               0.00\n",
      "ReportingOfficer            17               0.07\n"
     ]
    }
   ],
   "source": [
    "def missing_percentage(df):\n",
    "    \"\"\"\n",
    "    Returns a DataFrame with the count and percentage of missing values for each column.\n",
    "    \n",
    "    Parameters:\n",
    "        df (pd.DataFrame): The input DataFrame.\n",
    "    \n",
    "    Returns:\n",
    "        pd.DataFrame: A DataFrame with columns 'MissingCount' and 'MissingPercentage'.\n",
    "    \"\"\"\n",
    "    total_rows = len(df)\n",
    "    missing_count = df.isnull().sum()\n",
    "    missing_percent = (missing_count / total_rows) * 100\n",
    "    \n",
    "    result = pd.DataFrame({\n",
    "        'MissingCount': missing_count,\n",
    "        'MissingPercentage': missing_percent.round(2)\n",
    "    })\n",
    "    \n",
    "    return result\n",
    "\n",
    "# Example usage:\n",
    "missing_info = missing_percentage(df)\n",
    "print(missing_info)\n"
   ]
  },
  {
   "cell_type": "markdown",
   "id": "499ce1ad",
   "metadata": {
    "papermill": {
     "duration": 0.005615,
     "end_time": "2025-05-03T01:01:05.732437",
     "exception": false,
     "start_time": "2025-05-03T01:01:05.726822",
     "status": "completed"
    },
    "tags": []
   },
   "source": [
    "## Data Preparation"
   ]
  },
  {
   "cell_type": "markdown",
   "id": "4d5c874a",
   "metadata": {
    "papermill": {
     "duration": 0.005556,
     "end_time": "2025-05-03T01:01:05.743658",
     "exception": false,
     "start_time": "2025-05-03T01:01:05.738102",
     "status": "completed"
    },
    "tags": []
   },
   "source": [
    "### Data Conversion"
   ]
  },
  {
   "cell_type": "code",
   "execution_count": 7,
   "id": "e4158016",
   "metadata": {
    "execution": {
     "iopub.execute_input": "2025-05-03T01:01:05.756385Z",
     "iopub.status.busy": "2025-05-03T01:01:05.755795Z",
     "iopub.status.idle": "2025-05-03T01:01:06.124905Z",
     "shell.execute_reply": "2025-05-03T01:01:06.124170Z"
    },
    "papermill": {
     "duration": 0.376647,
     "end_time": "2025-05-03T01:01:06.125987",
     "exception": false,
     "start_time": "2025-05-03T01:01:05.749340",
     "status": "completed"
    },
    "tags": []
   },
   "outputs": [
    {
     "data": {
      "text/html": [
       "<div>\n",
       "<style scoped>\n",
       "    .dataframe tbody tr th:only-of-type {\n",
       "        vertical-align: middle;\n",
       "    }\n",
       "\n",
       "    .dataframe tbody tr th {\n",
       "        vertical-align: top;\n",
       "    }\n",
       "\n",
       "    .dataframe thead th {\n",
       "        text-align: right;\n",
       "    }\n",
       "</style>\n",
       "<table border=\"1\" class=\"dataframe\">\n",
       "  <thead>\n",
       "    <tr style=\"text-align: right;\">\n",
       "      <th></th>\n",
       "      <th>RecordID</th>\n",
       "      <th>Offense</th>\n",
       "      <th>IncidentID</th>\n",
       "      <th>BlockNumber</th>\n",
       "      <th>StreetName</th>\n",
       "      <th>Agency</th>\n",
       "      <th>HourReported</th>\n",
       "      <th>ReportingOfficer</th>\n",
       "      <th>Date</th>\n",
       "      <th>DateString</th>\n",
       "      <th>DayOfWeek</th>\n",
       "      <th>Weekend</th>\n",
       "      <th>Season</th>\n",
       "      <th>HourAMPM</th>\n",
       "      <th>TimeOfDay</th>\n",
       "    </tr>\n",
       "  </thead>\n",
       "  <tbody>\n",
       "    <tr>\n",
       "      <th>0</th>\n",
       "      <td>1</td>\n",
       "      <td>Traffic Stops</td>\n",
       "      <td>202500014284</td>\n",
       "      <td></td>\n",
       "      <td>JEFFERSON PARK AVE / SUNSET AVE</td>\n",
       "      <td>CPD</td>\n",
       "      <td>2204</td>\n",
       "      <td>Vlasis, Christopher</td>\n",
       "      <td>2025-04-30 22:04:12</td>\n",
       "      <td>2025-04-30 10:04:12 PM</td>\n",
       "      <td>Wednesday</td>\n",
       "      <td>False</td>\n",
       "      <td>Spring</td>\n",
       "      <td>10:04 PM</td>\n",
       "      <td>Night</td>\n",
       "    </tr>\n",
       "    <tr>\n",
       "      <th>1</th>\n",
       "      <td>2</td>\n",
       "      <td>Death Investigation - DOA</td>\n",
       "      <td>202500014281</td>\n",
       "      <td>1900</td>\n",
       "      <td>BLUE RIDGE RD</td>\n",
       "      <td>CPD</td>\n",
       "      <td>2109</td>\n",
       "      <td>Shiflett, Ethan</td>\n",
       "      <td>2025-04-30 21:09:12</td>\n",
       "      <td>2025-04-30 09:09:12 PM</td>\n",
       "      <td>Wednesday</td>\n",
       "      <td>False</td>\n",
       "      <td>Spring</td>\n",
       "      <td>09:09 PM</td>\n",
       "      <td>Night</td>\n",
       "    </tr>\n",
       "    <tr>\n",
       "      <th>2</th>\n",
       "      <td>3</td>\n",
       "      <td>Burglary</td>\n",
       "      <td>202500014278</td>\n",
       "      <td>200</td>\n",
       "      <td>FLORENCE RD</td>\n",
       "      <td>CPD</td>\n",
       "      <td>2011</td>\n",
       "      <td>Venereo, Arturo</td>\n",
       "      <td>2025-04-30 20:11:21</td>\n",
       "      <td>2025-04-30 08:11:21 PM</td>\n",
       "      <td>Wednesday</td>\n",
       "      <td>False</td>\n",
       "      <td>Spring</td>\n",
       "      <td>08:11 PM</td>\n",
       "      <td>Evening</td>\n",
       "    </tr>\n",
       "    <tr>\n",
       "      <th>3</th>\n",
       "      <td>4</td>\n",
       "      <td>Sex Offense</td>\n",
       "      <td>202500014274</td>\n",
       "      <td>1900</td>\n",
       "      <td>CHESAPEAKE ST</td>\n",
       "      <td>CPD</td>\n",
       "      <td>1842</td>\n",
       "      <td>Ritter, Kobe</td>\n",
       "      <td>2025-04-30 18:42:36</td>\n",
       "      <td>2025-04-30 06:42:36 PM</td>\n",
       "      <td>Wednesday</td>\n",
       "      <td>False</td>\n",
       "      <td>Spring</td>\n",
       "      <td>06:42 PM</td>\n",
       "      <td>Evening</td>\n",
       "    </tr>\n",
       "    <tr>\n",
       "      <th>4</th>\n",
       "      <td>5</td>\n",
       "      <td>Hit and Run</td>\n",
       "      <td>202500014268</td>\n",
       "      <td>1700</td>\n",
       "      <td>ALLIED LN</td>\n",
       "      <td>CPD</td>\n",
       "      <td>1733</td>\n",
       "      <td>Abdelgayed, Adam</td>\n",
       "      <td>2025-04-30 17:33:55</td>\n",
       "      <td>2025-04-30 05:33:55 PM</td>\n",
       "      <td>Wednesday</td>\n",
       "      <td>False</td>\n",
       "      <td>Spring</td>\n",
       "      <td>05:33 PM</td>\n",
       "      <td>Evening</td>\n",
       "    </tr>\n",
       "  </tbody>\n",
       "</table>\n",
       "</div>"
      ],
      "text/plain": [
       "   RecordID                    Offense    IncidentID BlockNumber  \\\n",
       "0         1              Traffic Stops  202500014284               \n",
       "1         2  Death Investigation - DOA  202500014281        1900   \n",
       "2         3                   Burglary  202500014278         200   \n",
       "3         4                Sex Offense  202500014274        1900   \n",
       "4         5                Hit and Run  202500014268        1700   \n",
       "\n",
       "                        StreetName Agency HourReported     ReportingOfficer  \\\n",
       "0  JEFFERSON PARK AVE / SUNSET AVE    CPD         2204  Vlasis, Christopher   \n",
       "1                    BLUE RIDGE RD    CPD         2109     Shiflett, Ethan    \n",
       "2                      FLORENCE RD    CPD         2011      Venereo, Arturo   \n",
       "3                    CHESAPEAKE ST    CPD         1842         Ritter, Kobe   \n",
       "4                        ALLIED LN    CPD         1733     Abdelgayed, Adam   \n",
       "\n",
       "                 Date              DateString  DayOfWeek  Weekend  Season  \\\n",
       "0 2025-04-30 22:04:12  2025-04-30 10:04:12 PM  Wednesday    False  Spring   \n",
       "1 2025-04-30 21:09:12  2025-04-30 09:09:12 PM  Wednesday    False  Spring   \n",
       "2 2025-04-30 20:11:21  2025-04-30 08:11:21 PM  Wednesday    False  Spring   \n",
       "3 2025-04-30 18:42:36  2025-04-30 06:42:36 PM  Wednesday    False  Spring   \n",
       "4 2025-04-30 17:33:55  2025-04-30 05:33:55 PM  Wednesday    False  Spring   \n",
       "\n",
       "   HourAMPM TimeOfDay  \n",
       "0  10:04 PM     Night  \n",
       "1  09:09 PM     Night  \n",
       "2  08:11 PM   Evening  \n",
       "3  06:42 PM   Evening  \n",
       "4  05:33 PM   Evening  "
      ]
     },
     "execution_count": 7,
     "metadata": {},
     "output_type": "execute_result"
    }
   ],
   "source": [
    "def convert_and_categorize_datereported(df, col='DateReported'):\n",
    "    \"\"\"\n",
    "    Converts an epoch (in milliseconds) date column into a timezone-aware datetime,\n",
    "    converts it to Eastern Time, and then creates columns for day-of-week, weekend flag,\n",
    "    season, 12-hour formatted time, and time-of-day. Keeps both a real datetime column\n",
    "    (Date) and a string representation (DateString).\n",
    "    \"\"\"\n",
    "    import pandas as pd\n",
    "\n",
    "    # Convert the epoch timestamp to a pandas datetime object as UTC, then convert to US/Eastern.\n",
    "    df[\"DateReported_dt\"] = (\n",
    "        pd.to_datetime(df[col], unit=\"ms\", errors=\"coerce\", utc=True)\n",
    "        .dt.tz_convert(\"US/Eastern\")\n",
    "    )\n",
    "    \n",
    "    # Create a true datetime column (remove timezone if you prefer naive datetime)\n",
    "    df[\"Date\"] = df[\"DateReported_dt\"].dt.tz_localize(None)\n",
    "\n",
    "    # Optionally, create a separate string-formatted column\n",
    "    df[\"DateString\"] = df[\"DateReported_dt\"].dt.strftime(\"%Y-%m-%d %I:%M:%S %p\")\n",
    "    \n",
    "    # DayOfWeek\n",
    "    df[\"DayOfWeek\"] = df[\"DateReported_dt\"].dt.day_name()\n",
    "    \n",
    "    # Weekend\n",
    "    df[\"Weekend\"] = df[\"DayOfWeek\"].isin([\"Saturday\", \"Sunday\"])\n",
    "    \n",
    "    # Helper function to determine the season\n",
    "    def get_season(dt):\n",
    "        month = dt.month\n",
    "        day = dt.day\n",
    "        # Approximate Northern Hemisphere season boundaries:\n",
    "        if (month == 12 and day >= 21) or (month < 3) or (month == 3 and day < 20):\n",
    "            return \"Winter\"\n",
    "        elif (month == 3 and day >= 20) or (month < 6) or (month == 6 and day < 21):\n",
    "            return \"Spring\"\n",
    "        elif (month == 6 and day >= 21) or (month < 9) or (month == 9 and day < 22):\n",
    "            return \"Summer\"\n",
    "        else:\n",
    "            return \"Autumn\"\n",
    "    \n",
    "    df[\"Season\"] = df[\"DateReported_dt\"].apply(get_season)\n",
    "    \n",
    "    # 12-hour formatted time (HourAMPM)\n",
    "    df[\"HourAMPM\"] = df[\"DateReported_dt\"].dt.strftime(\"%I:%M %p\")\n",
    "    \n",
    "    # Extract hour (0-23) for time-of-day\n",
    "    df[\"HourValue\"] = df[\"DateReported_dt\"].dt.hour\n",
    "    \n",
    "    def time_of_day(hour):\n",
    "        if pd.isnull(hour):\n",
    "            return None\n",
    "        if 5 <= hour < 12:\n",
    "            return \"Morning\"\n",
    "        elif 12 <= hour < 17:\n",
    "            return \"Afternoon\"\n",
    "        elif 17 <= hour < 21:\n",
    "            return \"Evening\"\n",
    "        else:\n",
    "            return \"Night\"\n",
    "    \n",
    "    df[\"TimeOfDay\"] = df[\"HourValue\"].apply(time_of_day)\n",
    "    \n",
    "    # Drop columns you no longer need\n",
    "    df.drop(columns=[col, \"DateReported_dt\", \"HourValue\"], inplace=True)\n",
    "    \n",
    "    return df\n",
    "\n",
    "# Example usage:\n",
    "df = convert_and_categorize_datereported(df)\n",
    "df.head()\n"
   ]
  },
  {
   "cell_type": "code",
   "execution_count": 8,
   "id": "fa092647",
   "metadata": {
    "execution": {
     "iopub.execute_input": "2025-05-03T01:01:06.139695Z",
     "iopub.status.busy": "2025-05-03T01:01:06.139177Z",
     "iopub.status.idle": "2025-05-03T01:01:06.168889Z",
     "shell.execute_reply": "2025-05-03T01:01:06.168323Z"
    },
    "papermill": {
     "duration": 0.037544,
     "end_time": "2025-05-03T01:01:06.169962",
     "exception": false,
     "start_time": "2025-05-03T01:01:06.132418",
     "status": "completed"
    },
    "tags": []
   },
   "outputs": [
    {
     "name": "stdout",
     "output_type": "stream",
     "text": [
      "<class 'pandas.core.frame.DataFrame'>\n",
      "RangeIndex: 25313 entries, 0 to 25312\n",
      "Data columns (total 15 columns):\n",
      " #   Column            Non-Null Count  Dtype         \n",
      "---  ------            --------------  -----         \n",
      " 0   RecordID          25313 non-null  int64         \n",
      " 1   Offense           25313 non-null  object        \n",
      " 2   IncidentID        25313 non-null  object        \n",
      " 3   BlockNumber       25313 non-null  object        \n",
      " 4   StreetName        25313 non-null  object        \n",
      " 5   Agency            25313 non-null  object        \n",
      " 6   HourReported      25313 non-null  object        \n",
      " 7   ReportingOfficer  25296 non-null  object        \n",
      " 8   Date              25313 non-null  datetime64[ns]\n",
      " 9   DateString        25313 non-null  object        \n",
      " 10  DayOfWeek         25313 non-null  object        \n",
      " 11  Weekend           25313 non-null  bool          \n",
      " 12  Season            25313 non-null  object        \n",
      " 13  HourAMPM          25313 non-null  object        \n",
      " 14  TimeOfDay         25313 non-null  object        \n",
      "dtypes: bool(1), datetime64[ns](1), int64(1), object(12)\n",
      "memory usage: 2.7+ MB\n"
     ]
    }
   ],
   "source": [
    "df.info()"
   ]
  },
  {
   "cell_type": "markdown",
   "id": "87f5d093",
   "metadata": {
    "papermill": {
     "duration": 0.005795,
     "end_time": "2025-05-03T01:01:06.182158",
     "exception": false,
     "start_time": "2025-05-03T01:01:06.176363",
     "status": "completed"
    },
    "tags": []
   },
   "source": [
    "### Coordinates"
   ]
  },
  {
   "cell_type": "code",
   "execution_count": 9,
   "id": "abbc75fd",
   "metadata": {
    "execution": {
     "iopub.execute_input": "2025-05-03T01:01:06.195222Z",
     "iopub.status.busy": "2025-05-03T01:01:06.194720Z",
     "iopub.status.idle": "2025-05-03T01:01:06.584002Z",
     "shell.execute_reply": "2025-05-03T01:01:06.583415Z"
    },
    "papermill": {
     "duration": 0.396924,
     "end_time": "2025-05-03T01:01:06.585077",
     "exception": false,
     "start_time": "2025-05-03T01:01:06.188153",
     "status": "completed"
    },
    "tags": []
   },
   "outputs": [
    {
     "name": "stdout",
     "output_type": "stream",
     "text": [
      "Loaded geocode cache.\n"
     ]
    },
    {
     "name": "stdout",
     "output_type": "stream",
     "text": [
      "Geocoded 300 15TH ST NW, 2039: 38.0363028, -78.4993806\n",
      "Geocoded 800 PANTOPS CORNER WAY: 38.033816, -78.45289799999999\n",
      "Geocode cache updated and saved.\n"
     ]
    },
    {
     "data": {
      "text/html": [
       "<div>\n",
       "<style scoped>\n",
       "    .dataframe tbody tr th:only-of-type {\n",
       "        vertical-align: middle;\n",
       "    }\n",
       "\n",
       "    .dataframe tbody tr th {\n",
       "        vertical-align: top;\n",
       "    }\n",
       "\n",
       "    .dataframe thead th {\n",
       "        text-align: right;\n",
       "    }\n",
       "</style>\n",
       "<table border=\"1\" class=\"dataframe\">\n",
       "  <thead>\n",
       "    <tr style=\"text-align: right;\">\n",
       "      <th></th>\n",
       "      <th>RecordID</th>\n",
       "      <th>Offense</th>\n",
       "      <th>IncidentID</th>\n",
       "      <th>BlockNumber</th>\n",
       "      <th>StreetName</th>\n",
       "      <th>Agency</th>\n",
       "      <th>HourReported</th>\n",
       "      <th>ReportingOfficer</th>\n",
       "      <th>Date</th>\n",
       "      <th>DateString</th>\n",
       "      <th>DayOfWeek</th>\n",
       "      <th>Weekend</th>\n",
       "      <th>Season</th>\n",
       "      <th>HourAMPM</th>\n",
       "      <th>TimeOfDay</th>\n",
       "      <th>FullStreet</th>\n",
       "      <th>lat</th>\n",
       "      <th>lon</th>\n",
       "    </tr>\n",
       "  </thead>\n",
       "  <tbody>\n",
       "    <tr>\n",
       "      <th>0</th>\n",
       "      <td>1</td>\n",
       "      <td>Traffic Stops</td>\n",
       "      <td>202500014284</td>\n",
       "      <td></td>\n",
       "      <td>JEFFERSON PARK AVE / SUNSET AVE</td>\n",
       "      <td>CPD</td>\n",
       "      <td>2204</td>\n",
       "      <td>Vlasis, Christopher</td>\n",
       "      <td>2025-04-30 22:04:12</td>\n",
       "      <td>2025-04-30 10:04:12 PM</td>\n",
       "      <td>Wednesday</td>\n",
       "      <td>False</td>\n",
       "      <td>Spring</td>\n",
       "      <td>10:04 PM</td>\n",
       "      <td>Night</td>\n",
       "      <td>JEFFERSON PARK AVE / SUNSET AVE</td>\n",
       "      <td>38.020481</td>\n",
       "      <td>-78.514823</td>\n",
       "    </tr>\n",
       "    <tr>\n",
       "      <th>1</th>\n",
       "      <td>2</td>\n",
       "      <td>Death Investigation - DOA</td>\n",
       "      <td>202500014281</td>\n",
       "      <td>1900</td>\n",
       "      <td>BLUE RIDGE RD</td>\n",
       "      <td>CPD</td>\n",
       "      <td>2109</td>\n",
       "      <td>Shiflett, Ethan</td>\n",
       "      <td>2025-04-30 21:09:12</td>\n",
       "      <td>2025-04-30 09:09:12 PM</td>\n",
       "      <td>Wednesday</td>\n",
       "      <td>False</td>\n",
       "      <td>Spring</td>\n",
       "      <td>09:09 PM</td>\n",
       "      <td>Night</td>\n",
       "      <td>1900 BLUE RIDGE RD</td>\n",
       "      <td>38.050492</td>\n",
       "      <td>-78.492900</td>\n",
       "    </tr>\n",
       "    <tr>\n",
       "      <th>2</th>\n",
       "      <td>3</td>\n",
       "      <td>Burglary</td>\n",
       "      <td>202500014278</td>\n",
       "      <td>200</td>\n",
       "      <td>FLORENCE RD</td>\n",
       "      <td>CPD</td>\n",
       "      <td>2011</td>\n",
       "      <td>Venereo, Arturo</td>\n",
       "      <td>2025-04-30 20:11:21</td>\n",
       "      <td>2025-04-30 08:11:21 PM</td>\n",
       "      <td>Wednesday</td>\n",
       "      <td>False</td>\n",
       "      <td>Spring</td>\n",
       "      <td>08:11 PM</td>\n",
       "      <td>Evening</td>\n",
       "      <td>200 FLORENCE RD</td>\n",
       "      <td>38.017613</td>\n",
       "      <td>-78.469581</td>\n",
       "    </tr>\n",
       "    <tr>\n",
       "      <th>3</th>\n",
       "      <td>4</td>\n",
       "      <td>Sex Offense</td>\n",
       "      <td>202500014274</td>\n",
       "      <td>1900</td>\n",
       "      <td>CHESAPEAKE ST</td>\n",
       "      <td>CPD</td>\n",
       "      <td>1842</td>\n",
       "      <td>Ritter, Kobe</td>\n",
       "      <td>2025-04-30 18:42:36</td>\n",
       "      <td>2025-04-30 06:42:36 PM</td>\n",
       "      <td>Wednesday</td>\n",
       "      <td>False</td>\n",
       "      <td>Spring</td>\n",
       "      <td>06:42 PM</td>\n",
       "      <td>Evening</td>\n",
       "      <td>1900 CHESAPEAKE ST</td>\n",
       "      <td>38.022855</td>\n",
       "      <td>-78.455941</td>\n",
       "    </tr>\n",
       "    <tr>\n",
       "      <th>4</th>\n",
       "      <td>5</td>\n",
       "      <td>Hit and Run</td>\n",
       "      <td>202500014268</td>\n",
       "      <td>1700</td>\n",
       "      <td>ALLIED LN</td>\n",
       "      <td>CPD</td>\n",
       "      <td>1733</td>\n",
       "      <td>Abdelgayed, Adam</td>\n",
       "      <td>2025-04-30 17:33:55</td>\n",
       "      <td>2025-04-30 05:33:55 PM</td>\n",
       "      <td>Wednesday</td>\n",
       "      <td>False</td>\n",
       "      <td>Spring</td>\n",
       "      <td>05:33 PM</td>\n",
       "      <td>Evening</td>\n",
       "      <td>1700 ALLIED LN</td>\n",
       "      <td>38.040864</td>\n",
       "      <td>-78.477061</td>\n",
       "    </tr>\n",
       "  </tbody>\n",
       "</table>\n",
       "</div>"
      ],
      "text/plain": [
       "   RecordID                    Offense    IncidentID BlockNumber  \\\n",
       "0         1              Traffic Stops  202500014284               \n",
       "1         2  Death Investigation - DOA  202500014281        1900   \n",
       "2         3                   Burglary  202500014278         200   \n",
       "3         4                Sex Offense  202500014274        1900   \n",
       "4         5                Hit and Run  202500014268        1700   \n",
       "\n",
       "                        StreetName Agency HourReported     ReportingOfficer  \\\n",
       "0  JEFFERSON PARK AVE / SUNSET AVE    CPD         2204  Vlasis, Christopher   \n",
       "1                    BLUE RIDGE RD    CPD         2109     Shiflett, Ethan    \n",
       "2                      FLORENCE RD    CPD         2011      Venereo, Arturo   \n",
       "3                    CHESAPEAKE ST    CPD         1842         Ritter, Kobe   \n",
       "4                        ALLIED LN    CPD         1733     Abdelgayed, Adam   \n",
       "\n",
       "                 Date              DateString  DayOfWeek  Weekend  Season  \\\n",
       "0 2025-04-30 22:04:12  2025-04-30 10:04:12 PM  Wednesday    False  Spring   \n",
       "1 2025-04-30 21:09:12  2025-04-30 09:09:12 PM  Wednesday    False  Spring   \n",
       "2 2025-04-30 20:11:21  2025-04-30 08:11:21 PM  Wednesday    False  Spring   \n",
       "3 2025-04-30 18:42:36  2025-04-30 06:42:36 PM  Wednesday    False  Spring   \n",
       "4 2025-04-30 17:33:55  2025-04-30 05:33:55 PM  Wednesday    False  Spring   \n",
       "\n",
       "   HourAMPM TimeOfDay                        FullStreet        lat        lon  \n",
       "0  10:04 PM     Night   JEFFERSON PARK AVE / SUNSET AVE  38.020481 -78.514823  \n",
       "1  09:09 PM     Night                1900 BLUE RIDGE RD  38.050492 -78.492900  \n",
       "2  08:11 PM   Evening                   200 FLORENCE RD  38.017613 -78.469581  \n",
       "3  06:42 PM   Evening                1900 CHESAPEAKE ST  38.022855 -78.455941  \n",
       "4  05:33 PM   Evening                    1700 ALLIED LN  38.040864 -78.477061  "
      ]
     },
     "execution_count": 9,
     "metadata": {},
     "output_type": "execute_result"
    }
   ],
   "source": [
    "# Combine BlockNumber and StreetName into a full address string\n",
    "df['FullStreet'] = df['BlockNumber'].astype(str) + \" \" + df['StreetName']\n",
    "\n",
    "# --- Step 1: Setup the Google Maps Client and Cache ---\n",
    "gmaps = googlemaps.Client(key=GOOGLE_API_KEY)\n",
    "\n",
    "# Try to load cached geocoding results if available.\n",
    "try:\n",
    "    with open(\"geocode_cache_google.pkl\", \"rb\") as f:\n",
    "        street_coords = pickle.load(f)\n",
    "    print(\"Loaded geocode cache.\")\n",
    "except FileNotFoundError:\n",
    "    street_coords = {}\n",
    "    print(\"No cache found; starting fresh.\")\n",
    "\n",
    "def geocode_address(address):\n",
    "    try:\n",
    "        # Append city and state to help geocoding\n",
    "        result = gmaps.geocode(f\"{address}, Charlottesville, VA\")\n",
    "        if result:\n",
    "            lat = result[0]['geometry']['location']['lat']\n",
    "            lon = result[0]['geometry']['location']['lng']\n",
    "            return lat, lon\n",
    "    except Exception as e:\n",
    "        print(f\"Error geocoding {address}: {e}\")\n",
    "    return None, None\n",
    "\n",
    "# --- Step 2: Geocode Only New Addresses ---\n",
    "unique_addresses = df['FullStreet'].unique()\n",
    "for address in unique_addresses:\n",
    "    if address not in street_coords:\n",
    "        lat, lon = geocode_address(address)\n",
    "        street_coords[address] = (lat, lon)\n",
    "        print(f\"Geocoded {address}: {lat}, {lon}\")\n",
    "\n",
    "# Save the updated cache to disk.\n",
    "with open(\"geocode_cache_google.pkl\", \"wb\") as f:\n",
    "    pickle.dump(street_coords, f)\n",
    "    print(\"Geocode cache updated and saved.\")\n",
    "\n",
    "# --- Step 3: Map Coordinates Back to DataFrame ---\n",
    "df['lat'] = df['FullStreet'].map(lambda s: street_coords.get(s, (None, None))[0])\n",
    "df['lon'] = df['FullStreet'].map(lambda s: street_coords.get(s, (None, None))[1])\n",
    "\n",
    "df.head()"
   ]
  },
  {
   "cell_type": "markdown",
   "id": "fafded8f",
   "metadata": {
    "papermill": {
     "duration": 0.006463,
     "end_time": "2025-05-03T01:01:06.598347",
     "exception": false,
     "start_time": "2025-05-03T01:01:06.591884",
     "status": "completed"
    },
    "tags": []
   },
   "source": [
    "### Neighborhood"
   ]
  },
  {
   "cell_type": "code",
   "execution_count": 10,
   "id": "750beeb5",
   "metadata": {
    "execution": {
     "iopub.execute_input": "2025-05-03T01:01:06.612968Z",
     "iopub.status.busy": "2025-05-03T01:01:06.612300Z",
     "iopub.status.idle": "2025-05-03T01:01:07.047141Z",
     "shell.execute_reply": "2025-05-03T01:01:07.046460Z"
    },
    "papermill": {
     "duration": 0.443431,
     "end_time": "2025-05-03T01:01:07.048386",
     "exception": false,
     "start_time": "2025-05-03T01:01:06.604955",
     "status": "completed"
    },
    "tags": []
   },
   "outputs": [
    {
     "name": "stdout",
     "output_type": "stream",
     "text": [
      "Loaded neighborhood cache.\n"
     ]
    },
    {
     "data": {
      "text/html": [
       "<div>\n",
       "<style scoped>\n",
       "    .dataframe tbody tr th:only-of-type {\n",
       "        vertical-align: middle;\n",
       "    }\n",
       "\n",
       "    .dataframe tbody tr th {\n",
       "        vertical-align: top;\n",
       "    }\n",
       "\n",
       "    .dataframe thead th {\n",
       "        text-align: right;\n",
       "    }\n",
       "</style>\n",
       "<table border=\"1\" class=\"dataframe\">\n",
       "  <thead>\n",
       "    <tr style=\"text-align: right;\">\n",
       "      <th></th>\n",
       "      <th>RecordID</th>\n",
       "      <th>Offense</th>\n",
       "      <th>IncidentID</th>\n",
       "      <th>BlockNumber</th>\n",
       "      <th>StreetName</th>\n",
       "      <th>Agency</th>\n",
       "      <th>HourReported</th>\n",
       "      <th>ReportingOfficer</th>\n",
       "      <th>Date</th>\n",
       "      <th>DateString</th>\n",
       "      <th>DayOfWeek</th>\n",
       "      <th>Weekend</th>\n",
       "      <th>Season</th>\n",
       "      <th>HourAMPM</th>\n",
       "      <th>TimeOfDay</th>\n",
       "      <th>FullStreet</th>\n",
       "      <th>lat</th>\n",
       "      <th>lon</th>\n",
       "      <th>neighborhood</th>\n",
       "    </tr>\n",
       "  </thead>\n",
       "  <tbody>\n",
       "    <tr>\n",
       "      <th>0</th>\n",
       "      <td>1</td>\n",
       "      <td>Traffic Stops</td>\n",
       "      <td>202500014284</td>\n",
       "      <td></td>\n",
       "      <td>JEFFERSON PARK AVE / SUNSET AVE</td>\n",
       "      <td>CPD</td>\n",
       "      <td>2204</td>\n",
       "      <td>Vlasis, Christopher</td>\n",
       "      <td>2025-04-30 22:04:12</td>\n",
       "      <td>2025-04-30 10:04:12 PM</td>\n",
       "      <td>Wednesday</td>\n",
       "      <td>False</td>\n",
       "      <td>Spring</td>\n",
       "      <td>10:04 PM</td>\n",
       "      <td>Night</td>\n",
       "      <td>JEFFERSON PARK AVE / SUNSET AVE</td>\n",
       "      <td>38.020481</td>\n",
       "      <td>-78.514823</td>\n",
       "      <td>Fry's Spring</td>\n",
       "    </tr>\n",
       "    <tr>\n",
       "      <th>1</th>\n",
       "      <td>2</td>\n",
       "      <td>Death Investigation - DOA</td>\n",
       "      <td>202500014281</td>\n",
       "      <td>1900</td>\n",
       "      <td>BLUE RIDGE RD</td>\n",
       "      <td>CPD</td>\n",
       "      <td>2109</td>\n",
       "      <td>Shiflett, Ethan</td>\n",
       "      <td>2025-04-30 21:09:12</td>\n",
       "      <td>2025-04-30 09:09:12 PM</td>\n",
       "      <td>Wednesday</td>\n",
       "      <td>False</td>\n",
       "      <td>Spring</td>\n",
       "      <td>09:09 PM</td>\n",
       "      <td>Night</td>\n",
       "      <td>1900 BLUE RIDGE RD</td>\n",
       "      <td>38.050492</td>\n",
       "      <td>-78.492900</td>\n",
       "      <td>Barracks Rugby</td>\n",
       "    </tr>\n",
       "    <tr>\n",
       "      <th>2</th>\n",
       "      <td>3</td>\n",
       "      <td>Burglary</td>\n",
       "      <td>202500014278</td>\n",
       "      <td>200</td>\n",
       "      <td>FLORENCE RD</td>\n",
       "      <td>CPD</td>\n",
       "      <td>2011</td>\n",
       "      <td>Venereo, Arturo</td>\n",
       "      <td>2025-04-30 20:11:21</td>\n",
       "      <td>2025-04-30 08:11:21 PM</td>\n",
       "      <td>Wednesday</td>\n",
       "      <td>False</td>\n",
       "      <td>Spring</td>\n",
       "      <td>08:11 PM</td>\n",
       "      <td>Evening</td>\n",
       "      <td>200 FLORENCE RD</td>\n",
       "      <td>38.017613</td>\n",
       "      <td>-78.469581</td>\n",
       "      <td>Belmont</td>\n",
       "    </tr>\n",
       "    <tr>\n",
       "      <th>3</th>\n",
       "      <td>4</td>\n",
       "      <td>Sex Offense</td>\n",
       "      <td>202500014274</td>\n",
       "      <td>1900</td>\n",
       "      <td>CHESAPEAKE ST</td>\n",
       "      <td>CPD</td>\n",
       "      <td>1842</td>\n",
       "      <td>Ritter, Kobe</td>\n",
       "      <td>2025-04-30 18:42:36</td>\n",
       "      <td>2025-04-30 06:42:36 PM</td>\n",
       "      <td>Wednesday</td>\n",
       "      <td>False</td>\n",
       "      <td>Spring</td>\n",
       "      <td>06:42 PM</td>\n",
       "      <td>Evening</td>\n",
       "      <td>1900 CHESAPEAKE ST</td>\n",
       "      <td>38.022855</td>\n",
       "      <td>-78.455941</td>\n",
       "      <td>Woolen Mills</td>\n",
       "    </tr>\n",
       "    <tr>\n",
       "      <th>4</th>\n",
       "      <td>5</td>\n",
       "      <td>Hit and Run</td>\n",
       "      <td>202500014268</td>\n",
       "      <td>1700</td>\n",
       "      <td>ALLIED LN</td>\n",
       "      <td>CPD</td>\n",
       "      <td>1733</td>\n",
       "      <td>Abdelgayed, Adam</td>\n",
       "      <td>2025-04-30 17:33:55</td>\n",
       "      <td>2025-04-30 05:33:55 PM</td>\n",
       "      <td>Wednesday</td>\n",
       "      <td>False</td>\n",
       "      <td>Spring</td>\n",
       "      <td>05:33 PM</td>\n",
       "      <td>Evening</td>\n",
       "      <td>1700 ALLIED LN</td>\n",
       "      <td>38.040864</td>\n",
       "      <td>-78.477061</td>\n",
       "      <td>North Downtown</td>\n",
       "    </tr>\n",
       "  </tbody>\n",
       "</table>\n",
       "</div>"
      ],
      "text/plain": [
       "   RecordID                    Offense    IncidentID BlockNumber  \\\n",
       "0         1              Traffic Stops  202500014284               \n",
       "1         2  Death Investigation - DOA  202500014281        1900   \n",
       "2         3                   Burglary  202500014278         200   \n",
       "3         4                Sex Offense  202500014274        1900   \n",
       "4         5                Hit and Run  202500014268        1700   \n",
       "\n",
       "                        StreetName Agency HourReported     ReportingOfficer  \\\n",
       "0  JEFFERSON PARK AVE / SUNSET AVE    CPD         2204  Vlasis, Christopher   \n",
       "1                    BLUE RIDGE RD    CPD         2109     Shiflett, Ethan    \n",
       "2                      FLORENCE RD    CPD         2011      Venereo, Arturo   \n",
       "3                    CHESAPEAKE ST    CPD         1842         Ritter, Kobe   \n",
       "4                        ALLIED LN    CPD         1733     Abdelgayed, Adam   \n",
       "\n",
       "                 Date              DateString  DayOfWeek  Weekend  Season  \\\n",
       "0 2025-04-30 22:04:12  2025-04-30 10:04:12 PM  Wednesday    False  Spring   \n",
       "1 2025-04-30 21:09:12  2025-04-30 09:09:12 PM  Wednesday    False  Spring   \n",
       "2 2025-04-30 20:11:21  2025-04-30 08:11:21 PM  Wednesday    False  Spring   \n",
       "3 2025-04-30 18:42:36  2025-04-30 06:42:36 PM  Wednesday    False  Spring   \n",
       "4 2025-04-30 17:33:55  2025-04-30 05:33:55 PM  Wednesday    False  Spring   \n",
       "\n",
       "   HourAMPM TimeOfDay                        FullStreet        lat        lon  \\\n",
       "0  10:04 PM     Night   JEFFERSON PARK AVE / SUNSET AVE  38.020481 -78.514823   \n",
       "1  09:09 PM     Night                1900 BLUE RIDGE RD  38.050492 -78.492900   \n",
       "2  08:11 PM   Evening                   200 FLORENCE RD  38.017613 -78.469581   \n",
       "3  06:42 PM   Evening                1900 CHESAPEAKE ST  38.022855 -78.455941   \n",
       "4  05:33 PM   Evening                    1700 ALLIED LN  38.040864 -78.477061   \n",
       "\n",
       "     neighborhood  \n",
       "0    Fry's Spring  \n",
       "1  Barracks Rugby  \n",
       "2         Belmont  \n",
       "3    Woolen Mills  \n",
       "4  North Downtown  "
      ]
     },
     "execution_count": 10,
     "metadata": {},
     "output_type": "execute_result"
    }
   ],
   "source": [
    "# Initialize the Google Maps client.\n",
    "gmaps = googlemaps.Client(key=GOOGLE_API_KEY)\n",
    "\n",
    "# Try to load a persistent neighborhood cache if available.\n",
    "try:\n",
    "    with open(\"neighborhood_cache.pkl\", \"rb\") as f:\n",
    "        neighborhood_cache = pickle.load(f)\n",
    "    print(\"Loaded neighborhood cache.\")\n",
    "except FileNotFoundError:\n",
    "    neighborhood_cache = {}\n",
    "    print(\"No neighborhood cache found; starting fresh.\")\n",
    "\n",
    "def get_neighborhood(lat, lon):\n",
    "    \"\"\"\n",
    "    Reverse geocodes a latitude and longitude to retrieve the neighborhood.\n",
    "    Caches results to speed up subsequent lookups.\n",
    "    \"\"\"\n",
    "    key = (lat, lon)\n",
    "    if key in neighborhood_cache:\n",
    "        return neighborhood_cache[key]\n",
    "    \n",
    "    try:\n",
    "        result = gmaps.reverse_geocode((lat, lon))\n",
    "        if result:\n",
    "            # Look for the 'neighborhood' component in the first result.\n",
    "            for component in result[0]['address_components']:\n",
    "                if 'neighborhood' in component['types']:\n",
    "                    neighborhood = component['long_name']\n",
    "                    neighborhood_cache[key] = neighborhood\n",
    "                    return neighborhood\n",
    "            # If no neighborhood is found, return \"N/A\"\n",
    "            neighborhood_cache[key] = \"N/A\"\n",
    "            return \"N/A\"\n",
    "    except Exception as e:\n",
    "        print(f\"Error getting neighborhood for {lat}, {lon}: {e}\")\n",
    "        return \"N/A\"\n",
    "    \n",
    "    # Pause to respect usage limits.\n",
    "    time.sleep(1)\n",
    "\n",
    "# Example usage: Apply to your DataFrame 'df' that already has 'lat' and 'lon' columns.\n",
    "df['neighborhood'] = df.apply(lambda row: get_neighborhood(row['lat'], row['lon']), axis=1)\n",
    "\n",
    "# Save the updated neighborhood cache.\n",
    "with open(\"neighborhood_cache.pkl\", \"wb\") as f:\n",
    "    pickle.dump(neighborhood_cache, f)\n",
    "\n",
    "df.head()\n"
   ]
  },
  {
   "cell_type": "markdown",
   "id": "ae3fa671",
   "metadata": {
    "papermill": {
     "duration": 0.006732,
     "end_time": "2025-05-03T01:01:07.062218",
     "exception": false,
     "start_time": "2025-05-03T01:01:07.055486",
     "status": "completed"
    },
    "tags": []
   },
   "source": [
    "### Zip"
   ]
  },
  {
   "cell_type": "code",
   "execution_count": 11,
   "id": "c2f7722c",
   "metadata": {
    "execution": {
     "iopub.execute_input": "2025-05-03T01:01:07.076781Z",
     "iopub.status.busy": "2025-05-03T01:01:07.076500Z",
     "iopub.status.idle": "2025-05-03T01:01:09.168344Z",
     "shell.execute_reply": "2025-05-03T01:01:09.167624Z"
    },
    "papermill": {
     "duration": 2.100489,
     "end_time": "2025-05-03T01:01:09.169418",
     "exception": false,
     "start_time": "2025-05-03T01:01:07.068929",
     "status": "completed"
    },
    "tags": []
   },
   "outputs": [
    {
     "name": "stdout",
     "output_type": "stream",
     "text": [
      "Loaded zip cache.\n"
     ]
    },
    {
     "data": {
      "text/html": [
       "<div>\n",
       "<style scoped>\n",
       "    .dataframe tbody tr th:only-of-type {\n",
       "        vertical-align: middle;\n",
       "    }\n",
       "\n",
       "    .dataframe tbody tr th {\n",
       "        vertical-align: top;\n",
       "    }\n",
       "\n",
       "    .dataframe thead th {\n",
       "        text-align: right;\n",
       "    }\n",
       "</style>\n",
       "<table border=\"1\" class=\"dataframe\">\n",
       "  <thead>\n",
       "    <tr style=\"text-align: right;\">\n",
       "      <th></th>\n",
       "      <th>RecordID</th>\n",
       "      <th>Offense</th>\n",
       "      <th>IncidentID</th>\n",
       "      <th>BlockNumber</th>\n",
       "      <th>StreetName</th>\n",
       "      <th>Agency</th>\n",
       "      <th>HourReported</th>\n",
       "      <th>ReportingOfficer</th>\n",
       "      <th>Date</th>\n",
       "      <th>DateString</th>\n",
       "      <th>DayOfWeek</th>\n",
       "      <th>Weekend</th>\n",
       "      <th>Season</th>\n",
       "      <th>HourAMPM</th>\n",
       "      <th>TimeOfDay</th>\n",
       "      <th>FullStreet</th>\n",
       "      <th>lat</th>\n",
       "      <th>lon</th>\n",
       "      <th>neighborhood</th>\n",
       "      <th>zip</th>\n",
       "    </tr>\n",
       "  </thead>\n",
       "  <tbody>\n",
       "    <tr>\n",
       "      <th>0</th>\n",
       "      <td>1</td>\n",
       "      <td>Traffic Stops</td>\n",
       "      <td>202500014284</td>\n",
       "      <td></td>\n",
       "      <td>JEFFERSON PARK AVE / SUNSET AVE</td>\n",
       "      <td>CPD</td>\n",
       "      <td>2204</td>\n",
       "      <td>Vlasis, Christopher</td>\n",
       "      <td>2025-04-30 22:04:12</td>\n",
       "      <td>2025-04-30 10:04:12 PM</td>\n",
       "      <td>Wednesday</td>\n",
       "      <td>False</td>\n",
       "      <td>Spring</td>\n",
       "      <td>10:04 PM</td>\n",
       "      <td>Night</td>\n",
       "      <td>JEFFERSON PARK AVE / SUNSET AVE</td>\n",
       "      <td>38.020481</td>\n",
       "      <td>-78.514823</td>\n",
       "      <td>Fry's Spring</td>\n",
       "      <td>22903</td>\n",
       "    </tr>\n",
       "    <tr>\n",
       "      <th>1</th>\n",
       "      <td>2</td>\n",
       "      <td>Death Investigation - DOA</td>\n",
       "      <td>202500014281</td>\n",
       "      <td>1900</td>\n",
       "      <td>BLUE RIDGE RD</td>\n",
       "      <td>CPD</td>\n",
       "      <td>2109</td>\n",
       "      <td>Shiflett, Ethan</td>\n",
       "      <td>2025-04-30 21:09:12</td>\n",
       "      <td>2025-04-30 09:09:12 PM</td>\n",
       "      <td>Wednesday</td>\n",
       "      <td>False</td>\n",
       "      <td>Spring</td>\n",
       "      <td>09:09 PM</td>\n",
       "      <td>Night</td>\n",
       "      <td>1900 BLUE RIDGE RD</td>\n",
       "      <td>38.050492</td>\n",
       "      <td>-78.492900</td>\n",
       "      <td>Barracks Rugby</td>\n",
       "      <td>22905</td>\n",
       "    </tr>\n",
       "    <tr>\n",
       "      <th>2</th>\n",
       "      <td>3</td>\n",
       "      <td>Burglary</td>\n",
       "      <td>202500014278</td>\n",
       "      <td>200</td>\n",
       "      <td>FLORENCE RD</td>\n",
       "      <td>CPD</td>\n",
       "      <td>2011</td>\n",
       "      <td>Venereo, Arturo</td>\n",
       "      <td>2025-04-30 20:11:21</td>\n",
       "      <td>2025-04-30 08:11:21 PM</td>\n",
       "      <td>Wednesday</td>\n",
       "      <td>False</td>\n",
       "      <td>Spring</td>\n",
       "      <td>08:11 PM</td>\n",
       "      <td>Evening</td>\n",
       "      <td>200 FLORENCE RD</td>\n",
       "      <td>38.017613</td>\n",
       "      <td>-78.469581</td>\n",
       "      <td>Belmont</td>\n",
       "      <td>22902</td>\n",
       "    </tr>\n",
       "    <tr>\n",
       "      <th>3</th>\n",
       "      <td>4</td>\n",
       "      <td>Sex Offense</td>\n",
       "      <td>202500014274</td>\n",
       "      <td>1900</td>\n",
       "      <td>CHESAPEAKE ST</td>\n",
       "      <td>CPD</td>\n",
       "      <td>1842</td>\n",
       "      <td>Ritter, Kobe</td>\n",
       "      <td>2025-04-30 18:42:36</td>\n",
       "      <td>2025-04-30 06:42:36 PM</td>\n",
       "      <td>Wednesday</td>\n",
       "      <td>False</td>\n",
       "      <td>Spring</td>\n",
       "      <td>06:42 PM</td>\n",
       "      <td>Evening</td>\n",
       "      <td>1900 CHESAPEAKE ST</td>\n",
       "      <td>38.022855</td>\n",
       "      <td>-78.455941</td>\n",
       "      <td>Woolen Mills</td>\n",
       "      <td>22902</td>\n",
       "    </tr>\n",
       "    <tr>\n",
       "      <th>4</th>\n",
       "      <td>5</td>\n",
       "      <td>Hit and Run</td>\n",
       "      <td>202500014268</td>\n",
       "      <td>1700</td>\n",
       "      <td>ALLIED LN</td>\n",
       "      <td>CPD</td>\n",
       "      <td>1733</td>\n",
       "      <td>Abdelgayed, Adam</td>\n",
       "      <td>2025-04-30 17:33:55</td>\n",
       "      <td>2025-04-30 05:33:55 PM</td>\n",
       "      <td>Wednesday</td>\n",
       "      <td>False</td>\n",
       "      <td>Spring</td>\n",
       "      <td>05:33 PM</td>\n",
       "      <td>Evening</td>\n",
       "      <td>1700 ALLIED LN</td>\n",
       "      <td>38.040864</td>\n",
       "      <td>-78.477061</td>\n",
       "      <td>North Downtown</td>\n",
       "      <td>22903</td>\n",
       "    </tr>\n",
       "  </tbody>\n",
       "</table>\n",
       "</div>"
      ],
      "text/plain": [
       "   RecordID                    Offense    IncidentID BlockNumber  \\\n",
       "0         1              Traffic Stops  202500014284               \n",
       "1         2  Death Investigation - DOA  202500014281        1900   \n",
       "2         3                   Burglary  202500014278         200   \n",
       "3         4                Sex Offense  202500014274        1900   \n",
       "4         5                Hit and Run  202500014268        1700   \n",
       "\n",
       "                        StreetName Agency HourReported     ReportingOfficer  \\\n",
       "0  JEFFERSON PARK AVE / SUNSET AVE    CPD         2204  Vlasis, Christopher   \n",
       "1                    BLUE RIDGE RD    CPD         2109     Shiflett, Ethan    \n",
       "2                      FLORENCE RD    CPD         2011      Venereo, Arturo   \n",
       "3                    CHESAPEAKE ST    CPD         1842         Ritter, Kobe   \n",
       "4                        ALLIED LN    CPD         1733     Abdelgayed, Adam   \n",
       "\n",
       "                 Date              DateString  DayOfWeek  Weekend  Season  \\\n",
       "0 2025-04-30 22:04:12  2025-04-30 10:04:12 PM  Wednesday    False  Spring   \n",
       "1 2025-04-30 21:09:12  2025-04-30 09:09:12 PM  Wednesday    False  Spring   \n",
       "2 2025-04-30 20:11:21  2025-04-30 08:11:21 PM  Wednesday    False  Spring   \n",
       "3 2025-04-30 18:42:36  2025-04-30 06:42:36 PM  Wednesday    False  Spring   \n",
       "4 2025-04-30 17:33:55  2025-04-30 05:33:55 PM  Wednesday    False  Spring   \n",
       "\n",
       "   HourAMPM TimeOfDay                        FullStreet        lat        lon  \\\n",
       "0  10:04 PM     Night   JEFFERSON PARK AVE / SUNSET AVE  38.020481 -78.514823   \n",
       "1  09:09 PM     Night                1900 BLUE RIDGE RD  38.050492 -78.492900   \n",
       "2  08:11 PM   Evening                   200 FLORENCE RD  38.017613 -78.469581   \n",
       "3  06:42 PM   Evening                1900 CHESAPEAKE ST  38.022855 -78.455941   \n",
       "4  05:33 PM   Evening                    1700 ALLIED LN  38.040864 -78.477061   \n",
       "\n",
       "     neighborhood    zip  \n",
       "0    Fry's Spring  22903  \n",
       "1  Barracks Rugby  22905  \n",
       "2         Belmont  22902  \n",
       "3    Woolen Mills  22902  \n",
       "4  North Downtown  22903  "
      ]
     },
     "execution_count": 11,
     "metadata": {},
     "output_type": "execute_result"
    }
   ],
   "source": [
    "# Initialize the geocoder.\n",
    "geolocator = Nominatim(user_agent=\"zip_lookup\")\n",
    "\n",
    "# Try to load a persistent ZIP cache if available.\n",
    "try:\n",
    "    with open(\"zip_cache.pkl\", \"rb\") as f:\n",
    "        zip_cache = pickle.load(f)\n",
    "    print(\"Loaded zip cache.\")\n",
    "except FileNotFoundError:\n",
    "    zip_cache = {}\n",
    "    print(\"No zip cache found; starting fresh.\")\n",
    "\n",
    "def get_zip(lat, lon):\n",
    "    \"\"\"\n",
    "    Reverse geocodes a latitude and longitude to retrieve the ZIP code.\n",
    "    Caches results to speed up subsequent lookups.\n",
    "    \"\"\"\n",
    "    key = (lat, lon)\n",
    "    if key in zip_cache:\n",
    "        return zip_cache[key]\n",
    "    \n",
    "    try:\n",
    "        location = geolocator.reverse((lat, lon), exactly_one=True, timeout=10)\n",
    "        address = location.raw.get('address', {})\n",
    "        postal_code = address.get('postcode', \"N/A\")\n",
    "    except Exception as e:\n",
    "        print(f\"Error getting ZIP for {lat}, {lon}: {e}\")\n",
    "        postal_code = \"N/A\"\n",
    "    \n",
    "    zip_cache[key] = postal_code\n",
    "    # Pause to respect the usage policy.\n",
    "    time.sleep(1)\n",
    "    return postal_code\n",
    "\n",
    "# Apply the function to each row in the DataFrame.\n",
    "df['zip'] = df.apply(lambda row: get_zip(row['lat'], row['lon']), axis=1)\n",
    "\n",
    "# Save the updated ZIP cache.\n",
    "with open(\"zip_cache.pkl\", \"wb\") as f:\n",
    "    pickle.dump(zip_cache, f)\n",
    "\n",
    "df.head()\n"
   ]
  },
  {
   "cell_type": "code",
   "execution_count": 12,
   "id": "28d558e6",
   "metadata": {
    "execution": {
     "iopub.execute_input": "2025-05-03T01:01:09.185135Z",
     "iopub.status.busy": "2025-05-03T01:01:09.184580Z",
     "iopub.status.idle": "2025-05-03T01:01:09.216150Z",
     "shell.execute_reply": "2025-05-03T01:01:09.215465Z"
    },
    "papermill": {
     "duration": 0.040411,
     "end_time": "2025-05-03T01:01:09.217220",
     "exception": false,
     "start_time": "2025-05-03T01:01:09.176809",
     "status": "completed"
    },
    "tags": []
   },
   "outputs": [
    {
     "name": "stdout",
     "output_type": "stream",
     "text": [
      "                  MissingCount  MissingPercentage\n",
      "RecordID                     0               0.00\n",
      "Offense                      0               0.00\n",
      "IncidentID                   0               0.00\n",
      "BlockNumber                  0               0.00\n",
      "StreetName                   0               0.00\n",
      "Agency                       0               0.00\n",
      "HourReported                 0               0.00\n",
      "ReportingOfficer            17               0.07\n",
      "Date                         0               0.00\n",
      "DateString                   0               0.00\n",
      "DayOfWeek                    0               0.00\n",
      "Weekend                      0               0.00\n",
      "Season                       0               0.00\n",
      "HourAMPM                     0               0.00\n",
      "TimeOfDay                    0               0.00\n",
      "FullStreet                   0               0.00\n",
      "lat                          0               0.00\n",
      "lon                          0               0.00\n",
      "neighborhood                 0               0.00\n",
      "zip                          0               0.00\n"
     ]
    }
   ],
   "source": [
    "missing_info = missing_percentage(df)\n",
    "print(missing_info)\n"
   ]
  },
  {
   "cell_type": "code",
   "execution_count": 13,
   "id": "802e2569",
   "metadata": {
    "execution": {
     "iopub.execute_input": "2025-05-03T01:01:09.232430Z",
     "iopub.status.busy": "2025-05-03T01:01:09.231959Z",
     "iopub.status.idle": "2025-05-03T01:01:09.262662Z",
     "shell.execute_reply": "2025-05-03T01:01:09.262056Z"
    },
    "papermill": {
     "duration": 0.039297,
     "end_time": "2025-05-03T01:01:09.263736",
     "exception": false,
     "start_time": "2025-05-03T01:01:09.224439",
     "status": "completed"
    },
    "tags": []
   },
   "outputs": [
    {
     "name": "stdout",
     "output_type": "stream",
     "text": [
      "<class 'pandas.core.frame.DataFrame'>\n",
      "RangeIndex: 25313 entries, 0 to 25312\n",
      "Data columns (total 20 columns):\n",
      " #   Column            Non-Null Count  Dtype         \n",
      "---  ------            --------------  -----         \n",
      " 0   RecordID          25313 non-null  int64         \n",
      " 1   Offense           25313 non-null  object        \n",
      " 2   IncidentID        25313 non-null  object        \n",
      " 3   BlockNumber       25313 non-null  object        \n",
      " 4   StreetName        25313 non-null  object        \n",
      " 5   Agency            25313 non-null  object        \n",
      " 6   HourReported      25313 non-null  object        \n",
      " 7   ReportingOfficer  25296 non-null  object        \n",
      " 8   Date              25313 non-null  datetime64[ns]\n",
      " 9   DateString        25313 non-null  object        \n",
      " 10  DayOfWeek         25313 non-null  object        \n",
      " 11  Weekend           25313 non-null  bool          \n",
      " 12  Season            25313 non-null  object        \n",
      " 13  HourAMPM          25313 non-null  object        \n",
      " 14  TimeOfDay         25313 non-null  object        \n",
      " 15  FullStreet        25313 non-null  object        \n",
      " 16  lat               25313 non-null  float64       \n",
      " 17  lon               25313 non-null  float64       \n",
      " 18  neighborhood      25313 non-null  object        \n",
      " 19  zip               25313 non-null  object        \n",
      "dtypes: bool(1), datetime64[ns](1), float64(2), int64(1), object(15)\n",
      "memory usage: 3.7+ MB\n"
     ]
    }
   ],
   "source": [
    "df.info()"
   ]
  },
  {
   "cell_type": "code",
   "execution_count": 14,
   "id": "e18089b3",
   "metadata": {
    "execution": {
     "iopub.execute_input": "2025-05-03T01:01:09.279626Z",
     "iopub.status.busy": "2025-05-03T01:01:09.279070Z",
     "iopub.status.idle": "2025-05-03T01:01:09.327809Z",
     "shell.execute_reply": "2025-05-03T01:01:09.327098Z"
    },
    "papermill": {
     "duration": 0.057857,
     "end_time": "2025-05-03T01:01:09.328947",
     "exception": false,
     "start_time": "2025-05-03T01:01:09.271090",
     "status": "completed"
    },
    "tags": []
   },
   "outputs": [
    {
     "data": {
      "text/html": [
       "<div>\n",
       "<style scoped>\n",
       "    .dataframe tbody tr th:only-of-type {\n",
       "        vertical-align: middle;\n",
       "    }\n",
       "\n",
       "    .dataframe tbody tr th {\n",
       "        vertical-align: top;\n",
       "    }\n",
       "\n",
       "    .dataframe thead th {\n",
       "        text-align: right;\n",
       "    }\n",
       "</style>\n",
       "<table border=\"1\" class=\"dataframe\">\n",
       "  <thead>\n",
       "    <tr style=\"text-align: right;\">\n",
       "      <th></th>\n",
       "      <th>RecordID</th>\n",
       "      <th>Offense</th>\n",
       "      <th>IncidentID</th>\n",
       "      <th>Agency</th>\n",
       "      <th>ReportingOfficer</th>\n",
       "      <th>Date</th>\n",
       "      <th>DayOfWeek</th>\n",
       "      <th>Weekend</th>\n",
       "      <th>Season</th>\n",
       "      <th>TimeOfDay</th>\n",
       "      <th>FullStreet</th>\n",
       "      <th>lat</th>\n",
       "      <th>lon</th>\n",
       "      <th>neighborhood</th>\n",
       "      <th>zip</th>\n",
       "    </tr>\n",
       "  </thead>\n",
       "  <tbody>\n",
       "    <tr>\n",
       "      <th>0</th>\n",
       "      <td>1</td>\n",
       "      <td>Traffic Stops</td>\n",
       "      <td>202500014284</td>\n",
       "      <td>CPD</td>\n",
       "      <td>Vlasis, Christopher</td>\n",
       "      <td>2025-04-30 22:04:12</td>\n",
       "      <td>Wednesday</td>\n",
       "      <td>False</td>\n",
       "      <td>Spring</td>\n",
       "      <td>Night</td>\n",
       "      <td>JEFFERSON PARK AVE / SUNSET AVE</td>\n",
       "      <td>38.020481</td>\n",
       "      <td>-78.514823</td>\n",
       "      <td>Fry's Spring</td>\n",
       "      <td>22903</td>\n",
       "    </tr>\n",
       "    <tr>\n",
       "      <th>1</th>\n",
       "      <td>2</td>\n",
       "      <td>Death Investigation - DOA</td>\n",
       "      <td>202500014281</td>\n",
       "      <td>CPD</td>\n",
       "      <td>Shiflett, Ethan</td>\n",
       "      <td>2025-04-30 21:09:12</td>\n",
       "      <td>Wednesday</td>\n",
       "      <td>False</td>\n",
       "      <td>Spring</td>\n",
       "      <td>Night</td>\n",
       "      <td>1900 BLUE RIDGE RD</td>\n",
       "      <td>38.050492</td>\n",
       "      <td>-78.492900</td>\n",
       "      <td>Barracks Rugby</td>\n",
       "      <td>22905</td>\n",
       "    </tr>\n",
       "    <tr>\n",
       "      <th>2</th>\n",
       "      <td>3</td>\n",
       "      <td>Burglary</td>\n",
       "      <td>202500014278</td>\n",
       "      <td>CPD</td>\n",
       "      <td>Venereo, Arturo</td>\n",
       "      <td>2025-04-30 20:11:21</td>\n",
       "      <td>Wednesday</td>\n",
       "      <td>False</td>\n",
       "      <td>Spring</td>\n",
       "      <td>Evening</td>\n",
       "      <td>200 FLORENCE RD</td>\n",
       "      <td>38.017613</td>\n",
       "      <td>-78.469581</td>\n",
       "      <td>Belmont</td>\n",
       "      <td>22902</td>\n",
       "    </tr>\n",
       "    <tr>\n",
       "      <th>3</th>\n",
       "      <td>4</td>\n",
       "      <td>Sex Offense</td>\n",
       "      <td>202500014274</td>\n",
       "      <td>CPD</td>\n",
       "      <td>Ritter, Kobe</td>\n",
       "      <td>2025-04-30 18:42:36</td>\n",
       "      <td>Wednesday</td>\n",
       "      <td>False</td>\n",
       "      <td>Spring</td>\n",
       "      <td>Evening</td>\n",
       "      <td>1900 CHESAPEAKE ST</td>\n",
       "      <td>38.022855</td>\n",
       "      <td>-78.455941</td>\n",
       "      <td>Woolen Mills</td>\n",
       "      <td>22902</td>\n",
       "    </tr>\n",
       "    <tr>\n",
       "      <th>4</th>\n",
       "      <td>5</td>\n",
       "      <td>Hit and Run</td>\n",
       "      <td>202500014268</td>\n",
       "      <td>CPD</td>\n",
       "      <td>Abdelgayed, Adam</td>\n",
       "      <td>2025-04-30 17:33:55</td>\n",
       "      <td>Wednesday</td>\n",
       "      <td>False</td>\n",
       "      <td>Spring</td>\n",
       "      <td>Evening</td>\n",
       "      <td>1700 ALLIED LN</td>\n",
       "      <td>38.040864</td>\n",
       "      <td>-78.477061</td>\n",
       "      <td>North Downtown</td>\n",
       "      <td>22903</td>\n",
       "    </tr>\n",
       "  </tbody>\n",
       "</table>\n",
       "</div>"
      ],
      "text/plain": [
       "   RecordID                    Offense    IncidentID Agency  \\\n",
       "0         1              Traffic Stops  202500014284    CPD   \n",
       "1         2  Death Investigation - DOA  202500014281    CPD   \n",
       "2         3                   Burglary  202500014278    CPD   \n",
       "3         4                Sex Offense  202500014274    CPD   \n",
       "4         5                Hit and Run  202500014268    CPD   \n",
       "\n",
       "      ReportingOfficer                Date  DayOfWeek  Weekend  Season  \\\n",
       "0  Vlasis, Christopher 2025-04-30 22:04:12  Wednesday    False  Spring   \n",
       "1     Shiflett, Ethan  2025-04-30 21:09:12  Wednesday    False  Spring   \n",
       "2      Venereo, Arturo 2025-04-30 20:11:21  Wednesday    False  Spring   \n",
       "3         Ritter, Kobe 2025-04-30 18:42:36  Wednesday    False  Spring   \n",
       "4     Abdelgayed, Adam 2025-04-30 17:33:55  Wednesday    False  Spring   \n",
       "\n",
       "  TimeOfDay                        FullStreet        lat        lon  \\\n",
       "0     Night   JEFFERSON PARK AVE / SUNSET AVE  38.020481 -78.514823   \n",
       "1     Night                1900 BLUE RIDGE RD  38.050492 -78.492900   \n",
       "2   Evening                   200 FLORENCE RD  38.017613 -78.469581   \n",
       "3   Evening                1900 CHESAPEAKE ST  38.022855 -78.455941   \n",
       "4   Evening                    1700 ALLIED LN  38.040864 -78.477061   \n",
       "\n",
       "     neighborhood    zip  \n",
       "0    Fry's Spring  22903  \n",
       "1  Barracks Rugby  22905  \n",
       "2         Belmont  22902  \n",
       "3    Woolen Mills  22902  \n",
       "4  North Downtown  22903  "
      ]
     },
     "execution_count": 14,
     "metadata": {},
     "output_type": "execute_result"
    }
   ],
   "source": [
    "# Now drop the original BlockNumber and StreetName columns\n",
    "df.drop(columns=['BlockNumber', 'StreetName','HourAMPM','HourReported','DateString'], inplace=True)\n",
    "df[\"zip\"] = df[\"zip\"].astype(str)\n",
    "\n",
    "# Fill all missing values in the DataFrame with \"N/A\"\n",
    "df.replace({None: \"N/A\", np.nan: \"N/A\", \"\": \"N/A\"}, inplace=True)\n",
    "df.head()"
   ]
  },
  {
   "cell_type": "code",
   "execution_count": 15,
   "id": "7ef1941e",
   "metadata": {
    "execution": {
     "iopub.execute_input": "2025-05-03T01:01:09.345270Z",
     "iopub.status.busy": "2025-05-03T01:01:09.344829Z",
     "iopub.status.idle": "2025-05-03T01:01:09.364414Z",
     "shell.execute_reply": "2025-05-03T01:01:09.363686Z"
    },
    "papermill": {
     "duration": 0.028616,
     "end_time": "2025-05-03T01:01:09.365529",
     "exception": false,
     "start_time": "2025-05-03T01:01:09.336913",
     "status": "completed"
    },
    "tags": []
   },
   "outputs": [
    {
     "name": "stdout",
     "output_type": "stream",
     "text": [
      "                  MissingCount  MissingPercentage\n",
      "RecordID                     0                0.0\n",
      "Offense                      0                0.0\n",
      "IncidentID                   0                0.0\n",
      "Agency                       0                0.0\n",
      "ReportingOfficer             0                0.0\n",
      "Date                         0                0.0\n",
      "DayOfWeek                    0                0.0\n",
      "Weekend                      0                0.0\n",
      "Season                       0                0.0\n",
      "TimeOfDay                    0                0.0\n",
      "FullStreet                   0                0.0\n",
      "lat                          0                0.0\n",
      "lon                          0                0.0\n",
      "neighborhood                 0                0.0\n",
      "zip                          0                0.0\n"
     ]
    }
   ],
   "source": [
    "missing_info = missing_percentage(df)\n",
    "print(missing_info)"
   ]
  },
  {
   "cell_type": "code",
   "execution_count": 16,
   "id": "3cf29ef4",
   "metadata": {
    "execution": {
     "iopub.execute_input": "2025-05-03T01:01:09.381619Z",
     "iopub.status.busy": "2025-05-03T01:01:09.381105Z",
     "iopub.status.idle": "2025-05-03T01:01:09.385856Z",
     "shell.execute_reply": "2025-05-03T01:01:09.385339Z"
    },
    "papermill": {
     "duration": 0.01374,
     "end_time": "2025-05-03T01:01:09.386887",
     "exception": false,
     "start_time": "2025-05-03T01:01:09.373147",
     "status": "completed"
    },
    "tags": []
   },
   "outputs": [
    {
     "data": {
      "text/plain": [
       "Index(['RecordID', 'Offense', 'IncidentID', 'Agency', 'ReportingOfficer',\n",
       "       'Date', 'DayOfWeek', 'Weekend', 'Season', 'TimeOfDay', 'FullStreet',\n",
       "       'lat', 'lon', 'neighborhood', 'zip'],\n",
       "      dtype='object')"
      ]
     },
     "execution_count": 16,
     "metadata": {},
     "output_type": "execute_result"
    }
   ],
   "source": [
    "df.columns"
   ]
  },
  {
   "cell_type": "code",
   "execution_count": 17,
   "id": "fedbaf85",
   "metadata": {
    "execution": {
     "iopub.execute_input": "2025-05-03T01:01:09.402987Z",
     "iopub.status.busy": "2025-05-03T01:01:09.402482Z",
     "iopub.status.idle": "2025-05-03T01:01:09.425629Z",
     "shell.execute_reply": "2025-05-03T01:01:09.424934Z"
    },
    "papermill": {
     "duration": 0.03228,
     "end_time": "2025-05-03T01:01:09.426760",
     "exception": false,
     "start_time": "2025-05-03T01:01:09.394480",
     "status": "completed"
    },
    "tags": []
   },
   "outputs": [
    {
     "name": "stdout",
     "output_type": "stream",
     "text": [
      "<class 'pandas.core.frame.DataFrame'>\n",
      "RangeIndex: 25313 entries, 0 to 25312\n",
      "Data columns (total 15 columns):\n",
      " #   Column            Non-Null Count  Dtype         \n",
      "---  ------            --------------  -----         \n",
      " 0   RecordID          25313 non-null  int64         \n",
      " 1   Offense           25313 non-null  object        \n",
      " 2   IncidentID        25313 non-null  object        \n",
      " 3   Agency            25313 non-null  object        \n",
      " 4   ReportingOfficer  25313 non-null  object        \n",
      " 5   Date              25313 non-null  datetime64[ns]\n",
      " 6   DayOfWeek         25313 non-null  object        \n",
      " 7   Weekend           25313 non-null  bool          \n",
      " 8   Season            25313 non-null  object        \n",
      " 9   TimeOfDay         25313 non-null  object        \n",
      " 10  FullStreet        25313 non-null  object        \n",
      " 11  lat               25313 non-null  float64       \n",
      " 12  lon               25313 non-null  float64       \n",
      " 13  neighborhood      25313 non-null  object        \n",
      " 14  zip               25313 non-null  object        \n",
      "dtypes: bool(1), datetime64[ns](1), float64(2), int64(1), object(10)\n",
      "memory usage: 2.7+ MB\n"
     ]
    }
   ],
   "source": [
    "df.info()"
   ]
  },
  {
   "cell_type": "markdown",
   "id": "de1bb067",
   "metadata": {
    "papermill": {
     "duration": 0.007399,
     "end_time": "2025-05-03T01:01:09.442040",
     "exception": false,
     "start_time": "2025-05-03T01:01:09.434641",
     "status": "completed"
    },
    "tags": []
   },
   "source": [
    "### Export Clean Data"
   ]
  },
  {
   "cell_type": "code",
   "execution_count": 18,
   "id": "4a1711b9",
   "metadata": {
    "execution": {
     "iopub.execute_input": "2025-05-03T01:01:09.458428Z",
     "iopub.status.busy": "2025-05-03T01:01:09.457915Z",
     "iopub.status.idle": "2025-05-03T01:01:18.804012Z",
     "shell.execute_reply": "2025-05-03T01:01:18.803270Z"
    },
    "papermill": {
     "duration": 9.355405,
     "end_time": "2025-05-03T01:01:18.805082",
     "exception": false,
     "start_time": "2025-05-03T01:01:09.449677",
     "status": "completed"
    },
    "tags": []
   },
   "outputs": [
    {
     "name": "stdout",
     "output_type": "stream",
     "text": [
      "Project Root: /home/runner/work/crime-data/crime-data\n"
     ]
    },
    {
     "name": "stdout",
     "output_type": "stream",
     "text": [
      "Data saved to: /home/runner/work/crime-data/crime-data/data/charlottesville_crime_incidents.csv\n"
     ]
    },
    {
     "name": "stdout",
     "output_type": "stream",
     "text": [
      "Excel saved to: /home/runner/work/crime-data/crime-data/data/charlottesville_crime_incidents.xlsx\n"
     ]
    }
   ],
   "source": [
    "# Determine the project root (assuming papermill is run from the repository root)\n",
    "project_root = os.getcwd()\n",
    "print(\"Project Root:\", project_root)\n",
    "\n",
    "# Set the data directory within the project root\n",
    "data_dir = os.path.join(project_root, \"data\")\n",
    "\n",
    "# Ensure the \"data\" directory exists (create it if it doesn't)\n",
    "if not os.path.exists(data_dir):\n",
    "    os.makedirs(data_dir)\n",
    "\n",
    "# Export the DataFrame to CSV in the \"data\" folder located in the project root\n",
    "csv_path = os.path.join(data_dir, \"charlottesville_crime_incidents.csv\")\n",
    "df.to_csv(csv_path, index=False)\n",
    "print(\"Data saved to:\", csv_path)\n",
    "\n",
    "# Construct the path to your Excel file\n",
    "excel_path = os.path.join(data_dir, \"charlottesville_crime_incidents.xlsx\")\n",
    "\n",
    "# Export the DataFrame to Excel\n",
    "df.to_excel(excel_path, index=False)\n",
    "print(\"Excel saved to:\", excel_path)\n"
   ]
  },
  {
   "cell_type": "markdown",
   "id": "0bd997a6",
   "metadata": {
    "papermill": {
     "duration": 0.007634,
     "end_time": "2025-05-03T01:01:18.820628",
     "exception": false,
     "start_time": "2025-05-03T01:01:18.812994",
     "status": "completed"
    },
    "tags": []
   },
   "source": [
    "## Predictive Analytics"
   ]
  },
  {
   "cell_type": "code",
   "execution_count": 19,
   "id": "c05ceeba",
   "metadata": {
    "execution": {
     "iopub.execute_input": "2025-05-03T01:01:18.837387Z",
     "iopub.status.busy": "2025-05-03T01:01:18.836862Z",
     "iopub.status.idle": "2025-05-03T01:01:18.849005Z",
     "shell.execute_reply": "2025-05-03T01:01:18.848348Z"
    },
    "papermill": {
     "duration": 0.021632,
     "end_time": "2025-05-03T01:01:18.850054",
     "exception": false,
     "start_time": "2025-05-03T01:01:18.828422",
     "status": "completed"
    },
    "tags": []
   },
   "outputs": [
    {
     "data": {
      "text/html": [
       "<div>\n",
       "<style scoped>\n",
       "    .dataframe tbody tr th:only-of-type {\n",
       "        vertical-align: middle;\n",
       "    }\n",
       "\n",
       "    .dataframe tbody tr th {\n",
       "        vertical-align: top;\n",
       "    }\n",
       "\n",
       "    .dataframe thead th {\n",
       "        text-align: right;\n",
       "    }\n",
       "</style>\n",
       "<table border=\"1\" class=\"dataframe\">\n",
       "  <thead>\n",
       "    <tr style=\"text-align: right;\">\n",
       "      <th></th>\n",
       "      <th>RecordID</th>\n",
       "      <th>Offense</th>\n",
       "      <th>IncidentID</th>\n",
       "      <th>Agency</th>\n",
       "      <th>ReportingOfficer</th>\n",
       "      <th>Date</th>\n",
       "      <th>DayOfWeek</th>\n",
       "      <th>Weekend</th>\n",
       "      <th>Season</th>\n",
       "      <th>TimeOfDay</th>\n",
       "      <th>FullStreet</th>\n",
       "      <th>lat</th>\n",
       "      <th>lon</th>\n",
       "      <th>neighborhood</th>\n",
       "      <th>zip</th>\n",
       "    </tr>\n",
       "  </thead>\n",
       "  <tbody>\n",
       "    <tr>\n",
       "      <th>0</th>\n",
       "      <td>1</td>\n",
       "      <td>Traffic Stops</td>\n",
       "      <td>202500014284</td>\n",
       "      <td>CPD</td>\n",
       "      <td>Vlasis, Christopher</td>\n",
       "      <td>2025-04-30 22:04:12</td>\n",
       "      <td>Wednesday</td>\n",
       "      <td>False</td>\n",
       "      <td>Spring</td>\n",
       "      <td>Night</td>\n",
       "      <td>JEFFERSON PARK AVE / SUNSET AVE</td>\n",
       "      <td>38.020481</td>\n",
       "      <td>-78.514823</td>\n",
       "      <td>Fry's Spring</td>\n",
       "      <td>22903</td>\n",
       "    </tr>\n",
       "    <tr>\n",
       "      <th>1</th>\n",
       "      <td>2</td>\n",
       "      <td>Death Investigation - DOA</td>\n",
       "      <td>202500014281</td>\n",
       "      <td>CPD</td>\n",
       "      <td>Shiflett, Ethan</td>\n",
       "      <td>2025-04-30 21:09:12</td>\n",
       "      <td>Wednesday</td>\n",
       "      <td>False</td>\n",
       "      <td>Spring</td>\n",
       "      <td>Night</td>\n",
       "      <td>1900 BLUE RIDGE RD</td>\n",
       "      <td>38.050492</td>\n",
       "      <td>-78.492900</td>\n",
       "      <td>Barracks Rugby</td>\n",
       "      <td>22905</td>\n",
       "    </tr>\n",
       "    <tr>\n",
       "      <th>2</th>\n",
       "      <td>3</td>\n",
       "      <td>Burglary</td>\n",
       "      <td>202500014278</td>\n",
       "      <td>CPD</td>\n",
       "      <td>Venereo, Arturo</td>\n",
       "      <td>2025-04-30 20:11:21</td>\n",
       "      <td>Wednesday</td>\n",
       "      <td>False</td>\n",
       "      <td>Spring</td>\n",
       "      <td>Evening</td>\n",
       "      <td>200 FLORENCE RD</td>\n",
       "      <td>38.017613</td>\n",
       "      <td>-78.469581</td>\n",
       "      <td>Belmont</td>\n",
       "      <td>22902</td>\n",
       "    </tr>\n",
       "    <tr>\n",
       "      <th>3</th>\n",
       "      <td>4</td>\n",
       "      <td>Sex Offense</td>\n",
       "      <td>202500014274</td>\n",
       "      <td>CPD</td>\n",
       "      <td>Ritter, Kobe</td>\n",
       "      <td>2025-04-30 18:42:36</td>\n",
       "      <td>Wednesday</td>\n",
       "      <td>False</td>\n",
       "      <td>Spring</td>\n",
       "      <td>Evening</td>\n",
       "      <td>1900 CHESAPEAKE ST</td>\n",
       "      <td>38.022855</td>\n",
       "      <td>-78.455941</td>\n",
       "      <td>Woolen Mills</td>\n",
       "      <td>22902</td>\n",
       "    </tr>\n",
       "    <tr>\n",
       "      <th>4</th>\n",
       "      <td>5</td>\n",
       "      <td>Hit and Run</td>\n",
       "      <td>202500014268</td>\n",
       "      <td>CPD</td>\n",
       "      <td>Abdelgayed, Adam</td>\n",
       "      <td>2025-04-30 17:33:55</td>\n",
       "      <td>Wednesday</td>\n",
       "      <td>False</td>\n",
       "      <td>Spring</td>\n",
       "      <td>Evening</td>\n",
       "      <td>1700 ALLIED LN</td>\n",
       "      <td>38.040864</td>\n",
       "      <td>-78.477061</td>\n",
       "      <td>North Downtown</td>\n",
       "      <td>22903</td>\n",
       "    </tr>\n",
       "  </tbody>\n",
       "</table>\n",
       "</div>"
      ],
      "text/plain": [
       "   RecordID                    Offense    IncidentID Agency  \\\n",
       "0         1              Traffic Stops  202500014284    CPD   \n",
       "1         2  Death Investigation - DOA  202500014281    CPD   \n",
       "2         3                   Burglary  202500014278    CPD   \n",
       "3         4                Sex Offense  202500014274    CPD   \n",
       "4         5                Hit and Run  202500014268    CPD   \n",
       "\n",
       "      ReportingOfficer                Date  DayOfWeek  Weekend  Season  \\\n",
       "0  Vlasis, Christopher 2025-04-30 22:04:12  Wednesday    False  Spring   \n",
       "1     Shiflett, Ethan  2025-04-30 21:09:12  Wednesday    False  Spring   \n",
       "2      Venereo, Arturo 2025-04-30 20:11:21  Wednesday    False  Spring   \n",
       "3         Ritter, Kobe 2025-04-30 18:42:36  Wednesday    False  Spring   \n",
       "4     Abdelgayed, Adam 2025-04-30 17:33:55  Wednesday    False  Spring   \n",
       "\n",
       "  TimeOfDay                        FullStreet        lat        lon  \\\n",
       "0     Night   JEFFERSON PARK AVE / SUNSET AVE  38.020481 -78.514823   \n",
       "1     Night                1900 BLUE RIDGE RD  38.050492 -78.492900   \n",
       "2   Evening                   200 FLORENCE RD  38.017613 -78.469581   \n",
       "3   Evening                1900 CHESAPEAKE ST  38.022855 -78.455941   \n",
       "4   Evening                    1700 ALLIED LN  38.040864 -78.477061   \n",
       "\n",
       "     neighborhood    zip  \n",
       "0    Fry's Spring  22903  \n",
       "1  Barracks Rugby  22905  \n",
       "2         Belmont  22902  \n",
       "3    Woolen Mills  22902  \n",
       "4  North Downtown  22903  "
      ]
     },
     "execution_count": 19,
     "metadata": {},
     "output_type": "execute_result"
    }
   ],
   "source": [
    "df.head()"
   ]
  },
  {
   "cell_type": "code",
   "execution_count": 20,
   "id": "38102753",
   "metadata": {
    "execution": {
     "iopub.execute_input": "2025-05-03T01:01:18.867153Z",
     "iopub.status.busy": "2025-05-03T01:01:18.866730Z",
     "iopub.status.idle": "2025-05-03T01:01:18.871293Z",
     "shell.execute_reply": "2025-05-03T01:01:18.870615Z"
    },
    "papermill": {
     "duration": 0.014268,
     "end_time": "2025-05-03T01:01:18.872396",
     "exception": false,
     "start_time": "2025-05-03T01:01:18.858128",
     "status": "completed"
    },
    "tags": []
   },
   "outputs": [
    {
     "data": {
      "text/plain": [
       "Index(['RecordID', 'Offense', 'IncidentID', 'Agency', 'ReportingOfficer',\n",
       "       'Date', 'DayOfWeek', 'Weekend', 'Season', 'TimeOfDay', 'FullStreet',\n",
       "       'lat', 'lon', 'neighborhood', 'zip'],\n",
       "      dtype='object')"
      ]
     },
     "execution_count": 20,
     "metadata": {},
     "output_type": "execute_result"
    }
   ],
   "source": [
    "df.columns"
   ]
  },
  {
   "cell_type": "markdown",
   "id": "26bdd30a",
   "metadata": {
    "papermill": {
     "duration": 0.007927,
     "end_time": "2025-05-03T01:01:18.888404",
     "exception": false,
     "start_time": "2025-05-03T01:01:18.880477",
     "status": "completed"
    },
    "tags": []
   },
   "source": [
    "### Data Preparation\n",
    "\n",
    "We need to ensure the data is in the correct format for modeling and can handle missing values, categorical variables, and dates. Here's how to prepare your data:"
   ]
  },
  {
   "cell_type": "code",
   "execution_count": 21,
   "id": "bf480319",
   "metadata": {
    "execution": {
     "iopub.execute_input": "2025-05-03T01:01:18.905896Z",
     "iopub.status.busy": "2025-05-03T01:01:18.905367Z",
     "iopub.status.idle": "2025-05-03T01:01:20.566777Z",
     "shell.execute_reply": "2025-05-03T01:01:20.566019Z"
    },
    "papermill": {
     "duration": 1.671631,
     "end_time": "2025-05-03T01:01:20.568161",
     "exception": false,
     "start_time": "2025-05-03T01:01:18.896530",
     "status": "completed"
    },
    "tags": []
   },
   "outputs": [],
   "source": [
    "import pandas as pd\n",
    "from sklearn.model_selection import train_test_split\n",
    "from sklearn.preprocessing import OneHotEncoder, LabelEncoder\n",
    "from sklearn.ensemble import RandomForestClassifier\n",
    "from sklearn.linear_model import LogisticRegression\n",
    "from sklearn.tree import DecisionTreeClassifier\n",
    "from sklearn.metrics import classification_report, accuracy_score\n",
    "import seaborn as sns\n",
    "import matplotlib.pyplot as plt\n",
    "\n",
    "# Convert 'Date' to datetime\n",
    "df['Date'] = pd.to_datetime(df['Date'])\n",
    "\n",
    "# Feature engineering: Extract additional time-based features\n",
    "df['Year'] = df['Date'].dt.year\n",
    "df['Month'] = df['Date'].dt.month\n",
    "df['DayOfMonth'] = df['Date'].dt.day\n",
    "\n",
    "# One-hot encoding for 'FullStreet', 'neighborhood', 'zip'\n",
    "df = pd.get_dummies(df, columns=['FullStreet', 'neighborhood', 'zip'], drop_first=True)\n",
    "\n",
    "# Label encoding for ordered variables (those with a natural order like 'DayOfWeek', 'Season', 'TimeOfDay')\n",
    "label_encoders = {}\n",
    "for column in ['DayOfWeek', 'Season', 'TimeOfDay', 'Agency', 'ReportingOfficer']:  # Example ordinal variables\n",
    "    le = LabelEncoder()\n",
    "    df[column] = le.fit_transform(df[column])\n",
    "    label_encoders[column] = le\n",
    "\n",
    "# Filter the dataset to include only the offenses of interest\n",
    "offenses_of_interest = [\n",
    "    'Hit and Run', 'Assault Simple', 'Suspicious Activity', 'Vandalism', \n",
    "    'Larceny - From Mot Vehicle', 'Larceny - All Other', \n",
    "    'Assist Citizen - Mental/TDO/ECO', 'Lost/FoundProperty'\n",
    "]\n",
    "\n",
    "df = df[df['Offense'].isin(offenses_of_interest)]\n",
    "\n",
    "# Label encode the target variable (Offense)\n",
    "offense_encoder = LabelEncoder()\n",
    "df['Offense'] = offense_encoder.fit_transform(df['Offense'])\n",
    "\n",
    "# Separate features (X) and target (y)\n",
    "X = df[['Year', 'Month', 'DayOfMonth', 'DayOfWeek', 'Weekend', 'Season', 'TimeOfDay', 'lat', 'lon', 'Agency', 'ReportingOfficer']]\n",
    "y = df['Offense']  # Offense is now the encoded target variable\n",
    "\n",
    "# Split the data into training and testing sets\n",
    "X_train, X_test, y_train, y_test = train_test_split(X, y, test_size=0.3, random_state=42)\n"
   ]
  },
  {
   "cell_type": "markdown",
   "id": "34c344df",
   "metadata": {
    "papermill": {
     "duration": 0.008045,
     "end_time": "2025-05-03T01:01:20.584743",
     "exception": false,
     "start_time": "2025-05-03T01:01:20.576698",
     "status": "completed"
    },
    "tags": []
   },
   "source": [
    "### Model Training\n",
    "\n",
    "Here we will train several models (e.g., Random Forest, Logistic Regression, and Decision Tree). We will use cross-validation to choose the best model based on accuracy, and then explain the impact of the variables."
   ]
  },
  {
   "cell_type": "code",
   "execution_count": 22,
   "id": "b2a3a2fd",
   "metadata": {
    "execution": {
     "iopub.execute_input": "2025-05-03T01:01:20.603001Z",
     "iopub.status.busy": "2025-05-03T01:01:20.602120Z",
     "iopub.status.idle": "2025-05-03T01:01:24.240496Z",
     "shell.execute_reply": "2025-05-03T01:01:24.239831Z"
    },
    "papermill": {
     "duration": 3.648693,
     "end_time": "2025-05-03T01:01:24.241524",
     "exception": false,
     "start_time": "2025-05-03T01:01:20.592831",
     "status": "completed"
    },
    "tags": []
   },
   "outputs": [
    {
     "name": "stderr",
     "output_type": "stream",
     "text": [
      "/opt/hostedtoolcache/Python/3.9.22/x64/lib/python3.9/site-packages/sklearn/linear_model/_logistic.py:465: ConvergenceWarning: lbfgs failed to converge (status=1):\n",
      "STOP: TOTAL NO. of ITERATIONS REACHED LIMIT.\n",
      "\n",
      "Increase the number of iterations (max_iter) or scale the data as shown in:\n",
      "    https://scikit-learn.org/stable/modules/preprocessing.html\n",
      "Please also refer to the documentation for alternative solver options:\n",
      "    https://scikit-learn.org/stable/modules/linear_model.html#logistic-regression\n",
      "  n_iter_i = _check_optimize_result(\n",
      "/opt/hostedtoolcache/Python/3.9.22/x64/lib/python3.9/site-packages/sklearn/metrics/_classification.py:1565: UndefinedMetricWarning: Precision is ill-defined and being set to 0.0 in labels with no predicted samples. Use `zero_division` parameter to control this behavior.\n",
      "  _warn_prf(average, modifier, f\"{metric.capitalize()} is\", len(result))\n",
      "/opt/hostedtoolcache/Python/3.9.22/x64/lib/python3.9/site-packages/sklearn/metrics/_classification.py:1565: UndefinedMetricWarning: Precision is ill-defined and being set to 0.0 in labels with no predicted samples. Use `zero_division` parameter to control this behavior.\n",
      "  _warn_prf(average, modifier, f\"{metric.capitalize()} is\", len(result))\n",
      "/opt/hostedtoolcache/Python/3.9.22/x64/lib/python3.9/site-packages/sklearn/metrics/_classification.py:1565: UndefinedMetricWarning: Precision is ill-defined and being set to 0.0 in labels with no predicted samples. Use `zero_division` parameter to control this behavior.\n",
      "  _warn_prf(average, modifier, f\"{metric.capitalize()} is\", len(result))\n"
     ]
    },
    {
     "name": "stdout",
     "output_type": "stream",
     "text": [
      "\n",
      "Classification Report for All Models:\n",
      "\n",
      "Model: RandomForest\n",
      "Accuracy: 0.2813\n",
      "              precision    recall  f1-score      support\n",
      "0              0.307692  0.374384  0.337778   609.000000\n",
      "1              0.299320  0.206089  0.244105   427.000000\n",
      "2              0.277228  0.427481  0.336336   655.000000\n",
      "3              0.209302  0.184091  0.195889   440.000000\n",
      "4              0.346320  0.226629  0.273973   353.000000\n",
      "5              0.241627  0.200795  0.219327   503.000000\n",
      "6              0.303571  0.244856  0.271071   486.000000\n",
      "accuracy       0.281313  0.281313  0.281313     0.281313\n",
      "macro avg      0.283580  0.266332  0.268354  3473.000000\n",
      "weighted avg   0.282233  0.281313  0.275037  3473.000000\n"
     ]
    },
    {
     "data": {
      "image/png": "[encoded data removed]",
      "text/plain": [
       "<Figure size 800x600 with 2 Axes>"
      ]
     },
     "metadata": {},
     "output_type": "display_data"
    },
    {
     "name": "stdout",
     "output_type": "stream",
     "text": [
      "\n",
      "Model: LogisticRegression\n",
      "Accuracy: 0.2056\n",
      "              precision    recall  f1-score      support\n",
      "0              0.204155  0.467980  0.284289   609.000000\n",
      "1              0.000000  0.000000  0.000000   427.000000\n",
      "2              0.206181  0.651908  0.313280   655.000000\n",
      "3              0.000000  0.000000  0.000000   440.000000\n",
      "4              0.000000  0.000000  0.000000   353.000000\n",
      "5              0.000000  0.000000  0.000000   503.000000\n",
      "6              0.333333  0.004115  0.008130   486.000000\n",
      "accuracy       0.205586  0.205586  0.205586     0.205586\n",
      "macro avg      0.106238  0.160572  0.086528  3473.000000\n",
      "weighted avg   0.121330  0.205586  0.110072  3473.000000\n"
     ]
    },
    {
     "data": {
      "image/png": "[encoded data removed]",
      "text/plain": [
       "<Figure size 800x600 with 2 Axes>"
      ]
     },
     "metadata": {},
     "output_type": "display_data"
    },
    {
     "name": "stdout",
     "output_type": "stream",
     "text": [
      "\n",
      "Model: DecisionTree\n",
      "Accuracy: 0.2332\n",
      "              precision    recall  f1-score      support\n",
      "0              0.245217  0.231527  0.238176   609.000000\n",
      "1              0.225225  0.234192  0.229621   427.000000\n",
      "2              0.278583  0.264122  0.271160   655.000000\n",
      "3              0.194030  0.206818  0.200220   440.000000\n",
      "4              0.244118  0.235127  0.239538   353.000000\n",
      "5              0.215356  0.228628  0.221794   503.000000\n",
      "6              0.218367  0.220165  0.219262   486.000000\n",
      "accuracy       0.233228  0.233228  0.233228     0.233228\n",
      "macro avg      0.231557  0.231511  0.231396  3473.000000\n",
      "weighted avg   0.234373  0.233228  0.233655  3473.000000\n"
     ]
    },
    {
     "data": {
      "image/png": "[encoded data removed]",
      "text/plain": [
       "<Figure size 800x600 with 2 Axes>"
      ]
     },
     "metadata": {},
     "output_type": "display_data"
    },
    {
     "name": "stdout",
     "output_type": "stream",
     "text": [
      "\n",
      "Best Model:\n",
      "Best Model: RandomForestClassifier()\n",
      "Best Model Accuracy: 0.2813\n"
     ]
    }
   ],
   "source": [
    "import pandas as pd\n",
    "from sklearn.model_selection import train_test_split\n",
    "from sklearn.ensemble import RandomForestClassifier\n",
    "from sklearn.linear_model import LogisticRegression\n",
    "from sklearn.tree import DecisionTreeClassifier\n",
    "from sklearn.metrics import classification_report, accuracy_score, confusion_matrix\n",
    "import seaborn as sns\n",
    "import matplotlib.pyplot as plt\n",
    "\n",
    "# Define models\n",
    "models = {\n",
    "    'RandomForest': RandomForestClassifier(),\n",
    "    'LogisticRegression': LogisticRegression(max_iter=1000),\n",
    "    'DecisionTree': DecisionTreeClassifier()\n",
    "}\n",
    "\n",
    "# Train models and evaluate them\n",
    "best_model = None\n",
    "best_score = 0\n",
    "model_reports = {}\n",
    "\n",
    "for model_name, model in models.items():\n",
    "    model.fit(X_train, y_train)  # Train model\n",
    "    y_pred = model.predict(X_test)  # Make predictions\n",
    "    \n",
    "    # Calculate accuracy and generate classification report\n",
    "    accuracy = accuracy_score(y_test, y_pred)\n",
    "    model_reports[model_name] = classification_report(y_test, y_pred, output_dict=True)  # Store as a dictionary for easier analysis\n",
    "    \n",
    "    # Track best performing model\n",
    "    if accuracy > best_score:\n",
    "        best_score = accuracy\n",
    "        best_model = model\n",
    "\n",
    "# Display classification reports and confusion matrices\n",
    "print(\"\\nClassification Report for All Models:\")\n",
    "for model_name, report in model_reports.items():\n",
    "    print(f\"\\nModel: {model_name}\")\n",
    "    print(\"Accuracy: {:.4f}\".format(accuracy_score(y_test, models[model_name].predict(X_test))))  # Display accuracy\n",
    "    print(pd.DataFrame(report).transpose())  # Display classification report as a DataFrame\n",
    "\n",
    "    # Plot Confusion Matrix\n",
    "    cm = confusion_matrix(y_test, models[model_name].predict(X_test))\n",
    "    plt.figure(figsize=(8, 6))\n",
    "    sns.heatmap(cm, annot=True, fmt=\"d\", cmap='Blues', xticklabels=offense_encoder.classes_, yticklabels=offense_encoder.classes_)\n",
    "    plt.title(f\"Confusion Matrix - {model_name}\")\n",
    "    plt.xlabel('Predicted Labels')\n",
    "    plt.ylabel('True Labels')\n",
    "    plt.show()\n",
    "\n",
    "# Display best model details\n",
    "print(\"\\nBest Model:\")\n",
    "print(f\"Best Model: {best_model}\")\n",
    "print(f\"Best Model Accuracy: {best_score:.4f}\")\n"
   ]
  },
  {
   "cell_type": "markdown",
   "id": "2b752621",
   "metadata": {
    "papermill": {
     "duration": 0.010753,
     "end_time": "2025-05-03T01:01:24.263977",
     "exception": false,
     "start_time": "2025-05-03T01:01:24.253224",
     "status": "completed"
    },
    "tags": []
   },
   "source": [
    "#### Classification Report for All Models:\n",
    "\n",
    "### Explanation of the Classification Results (RandomForest Model)\n",
    "\n",
    "The results you provided are from a **Random Forest** model, which is used for predicting different types of offenses. Let's break down the key components of the results:\n",
    "\n",
    "#### 1. **Accuracy: 0.2822**\n",
    "   - **Accuracy** measures the overall percentage of correct predictions made by the model. An accuracy of 28.22% means the model correctly predicted the offense in about 28% of the cases. This indicates the model's predictions are not highly reliable, as the accuracy is quite low.\n",
    "\n",
    "#### 2. **Classification Report:**\n",
    "   The classification report includes precision, recall, and F1-score for each offense. Let's go over these terms and how they apply to the results:\n",
    "\n",
    "   - **Precision**: The proportion of true positive predictions out of all positive predictions made by the model for a specific class (offense).\n",
    "   - **Recall**: The proportion of true positive predictions out of all actual positive instances in the dataset.\n",
    "   - **F1-Score**: The harmonic mean of precision and recall, providing a balance between the two metrics.\n",
    "   - **Support**: The number of actual occurrences of each class in the test set.\n",
    "\n",
    "   Let's analyze each offense based on these metrics:\n",
    "\n",
    "   | **Offense**                        | **Precision** | **Recall** | **F1-Score** | **Support** |\n",
    "   |------------------------------------|---------------|------------|--------------|-------------|\n",
    "   | **Assault Simple**                 | 0.2892        | 0.3754     | 0.3267       | 594         |\n",
    "   | **Assist Citizen - Mental/TDO/ECO**| 0.3182        | 0.2274     | 0.2652       | 431         |\n",
    "   | **Hit and Run**                    | 0.2963        | 0.4765     | 0.3654       | 638         |\n",
    "   | **Larceny - All Other**            | 0.2270        | 0.1453     | 0.1772       | 475         |\n",
    "   | **Lost/FoundProperty**             | 0.3333        | 0.2102     | 0.2578       | 352         |\n",
    "   | **Suspicious Activity**            | 0.2344        | 0.2169     | 0.2253       | 484         |\n",
    "   | **Vandalism**                      | 0.2712        | 0.2106     | 0.2371       | 470         |\n",
    "\n",
    "#### 3. **Key Insights from the Report:**\n",
    "\n",
    "- **Precision**:\n",
    "   - The highest precision is for **Larceny - All Other** (0.3333), indicating that when the model predicts this offense, it is correct about 33% of the time. However, this is still quite low.\n",
    "   - **Assist Citizen - Mental/TDO/ECO** has the lowest precision (0.2269), meaning that the model's predictions for this offense tend to be wrong more often than correct.\n",
    "\n",
    "- **Recall**:\n",
    "   - **Hit and Run** has the highest recall (0.4765), meaning the model identifies about 48% of the actual occurrences of this offense. This is better than the precision, which indicates it is missing many true positives but is still able to identify a fair number of cases.\n",
    "   - **Larceny - All Other** and **Suspicious Activity** have the lowest recall values (0.1453 and 0.2169, respectively), indicating that the model is failing to identify most of the actual cases for these offenses.\n",
    "\n",
    "- **F1-Score**:\n",
    "   - The **F1-Score** balances precision and recall. It is highest for **Hit and Run** (0.3654), but still relatively low overall. This suggests the model is better at identifying **Hit and Run** than other offenses but still has room for improvement.\n",
    "   - **Larceny - All Other** has the lowest F1-Score (0.1772), indicating a poor balance between precision and recall for this offense.\n",
    "\n",
    "#### 4. **Macro Average and Weighted Average:**\n",
    "   - **Macro Average**: This gives the average precision, recall, and F1-Score across all classes (offenses) without considering the class distribution. It averages the results for all offenses equally.\n",
    "     - Precision: 0.2814\n",
    "     - Recall: 0.2661\n",
    "     - F1-Score: 0.2649\n",
    "   - **Weighted Average**: This averages the metrics but weighs each class by its support (the number of true instances in the test set). This gives a better sense of overall performance, considering the class distribution.\n",
    "     - Precision: 0.2799\n",
    "     - Recall: 0.2822\n",
    "     - F1-Score: 0.2720\n",
    "\n",
    "#### 5. **Confusion Matrix (Visualization Analysis)**:\n",
    "   - The confusion matrix shows the distribution of true positive, false positive, true negative, and false negative predictions for each class.\n",
    "     - For **Hit and Run**, the model performs relatively well in identifying this offense (304 true positives). However, it also misclassifies some **Hit and Run** instances as other offenses (e.g., **Assault Simple**, **Suspicious Activity**, etc.).\n",
    "     - **Larceny - All Other** is frequently misclassified as **Hit and Run**, **Suspicious Activity**, and others. This is evident from the large number of off-diagonal elements in its row.\n",
    "     - **Assist Citizen - Mental/TDO/ECO** and **Suspicious Activity** are frequently misclassified, as seen by the off-diagonal values in their rows.\n",
    "\n",
    "### Conclusion:\n",
    "The Random Forest model has low accuracy (28.22%), suggesting that it struggles to predict most offenses accurately. Some offenses like **Hit and Run** are better predicted than others, but overall, the model shows a high level of misclassification across all offenses. There may be a need for further tuning of the model, additional feature engineering, or trying different models for better performance.\n",
    "\n",
    "Let me know if you'd like to improve the model or make adjustments based on these results!\n",
    "\n"
   ]
  },
  {
   "cell_type": "markdown",
   "id": "5d43d377",
   "metadata": {
    "papermill": {
     "duration": 0.010785,
     "end_time": "2025-05-03T01:01:24.285412",
     "exception": false,
     "start_time": "2025-05-03T01:01:24.274627",
     "status": "completed"
    },
    "tags": []
   },
   "source": [
    "### Model Explanation\n",
    "\n",
    "Once we’ve chosen the best model, we will explain its predictions by examining feature importance for tree-based models and using statistical methods like logistic regression coefficients for linear models."
   ]
  },
  {
   "cell_type": "markdown",
   "id": "f0d0dee9",
   "metadata": {
    "papermill": {
     "duration": 0.010744,
     "end_time": "2025-05-03T01:01:24.306839",
     "exception": false,
     "start_time": "2025-05-03T01:01:24.296095",
     "status": "completed"
    },
    "tags": []
   },
   "source": [
    "#### Feature Importance for Random Forest / Decision Tree\n",
    "\n",
    "##### For Tree-based Models (Random Forest, Decision Tree)\n",
    "\n",
    "For Random Forest or Decision Tree, we can look at feature importance to understand which variables contribute the most to the model's predictions. Here's how you can visualize and interpret the importance of each feature:"
   ]
  },
  {
   "cell_type": "code",
   "execution_count": 23,
   "id": "3c0a02c2",
   "metadata": {
    "execution": {
     "iopub.execute_input": "2025-05-03T01:01:24.329814Z",
     "iopub.status.busy": "2025-05-03T01:01:24.329173Z",
     "iopub.status.idle": "2025-05-03T01:01:24.496190Z",
     "shell.execute_reply": "2025-05-03T01:01:24.495485Z"
    },
    "papermill": {
     "duration": 0.17988,
     "end_time": "2025-05-03T01:01:24.497436",
     "exception": false,
     "start_time": "2025-05-03T01:01:24.317556",
     "status": "completed"
    },
    "tags": []
   },
   "outputs": [
    {
     "data": {
      "image/png": "[encoded data removed]",
      "text/plain": [
       "<Figure size 1000x600 with 1 Axes>"
      ]
     },
     "metadata": {},
     "output_type": "display_data"
    }
   ],
   "source": [
    "# For RandomForest or DecisionTree models, we can check feature importance\n",
    "if isinstance(best_model, RandomForestClassifier) or isinstance(best_model, DecisionTreeClassifier):\n",
    "    feature_importance = best_model.feature_importances_\n",
    "    feature_names = X.columns\n",
    "    importance_df = pd.DataFrame({'Feature': feature_names, 'Importance': feature_importance})\n",
    "    importance_df = importance_df.sort_values(by='Importance', ascending=False)\n",
    "    \n",
    "    # Plotting the feature importances\n",
    "    plt.figure(figsize=(10, 6))\n",
    "    sns.barplot(x='Importance', y='Feature', data=importance_df)\n",
    "    plt.title(\"Feature Importance\")\n",
    "    plt.show()\n"
   ]
  },
  {
   "cell_type": "code",
   "execution_count": null,
   "id": "a5bbaeca",
   "metadata": {
    "papermill": {
     "duration": 0.010999,
     "end_time": "2025-05-03T01:01:24.520069",
     "exception": false,
     "start_time": "2025-05-03T01:01:24.509070",
     "status": "completed"
    },
    "tags": []
   },
   "outputs": [],
   "source": []
  },
  {
   "cell_type": "markdown",
   "id": "2ad0971f",
   "metadata": {
    "papermill": {
     "duration": 0.011091,
     "end_time": "2025-05-03T01:01:24.542273",
     "exception": false,
     "start_time": "2025-05-03T01:01:24.531182",
     "status": "completed"
    },
    "tags": []
   },
   "source": [
    "### Evaluation\n",
    "\n",
    "After training the models and examining their performance, we evaluate the chosen model based on metrics like accuracy, precision, recall, and F1 score.\n",
    "\n"
   ]
  },
  {
   "cell_type": "code",
   "execution_count": 24,
   "id": "29eb229b",
   "metadata": {
    "execution": {
     "iopub.execute_input": "2025-05-03T01:01:24.565979Z",
     "iopub.status.busy": "2025-05-03T01:01:24.565359Z",
     "iopub.status.idle": "2025-05-03T01:01:24.657203Z",
     "shell.execute_reply": "2025-05-03T01:01:24.656607Z"
    },
    "papermill": {
     "duration": 0.104965,
     "end_time": "2025-05-03T01:01:24.658287",
     "exception": false,
     "start_time": "2025-05-03T01:01:24.553322",
     "status": "completed"
    },
    "tags": []
   },
   "outputs": [
    {
     "name": "stdout",
     "output_type": "stream",
     "text": [
      "Accuracy: 0.2813\n",
      "Classification Report:\n",
      "              precision    recall  f1-score   support\n",
      "\n",
      "           0       0.31      0.37      0.34       609\n",
      "           1       0.30      0.21      0.24       427\n",
      "           2       0.28      0.43      0.34       655\n",
      "           3       0.21      0.18      0.20       440\n",
      "           4       0.35      0.23      0.27       353\n",
      "           5       0.24      0.20      0.22       503\n",
      "           6       0.30      0.24      0.27       486\n",
      "\n",
      "    accuracy                           0.28      3473\n",
      "   macro avg       0.28      0.27      0.27      3473\n",
      "weighted avg       0.28      0.28      0.28      3473\n",
      "\n",
      "Confusion Matrix:\n",
      "[[228  53 147  64  17  61  39]\n",
      " [104  88 106  30  21  48  30]\n",
      " [131  38 280  64  26  70  46]\n",
      " [ 57  25 147  81  30  46  54]\n",
      " [ 46  17  84  35  80  39  52]\n",
      " [106  40 131  54  19 101  52]\n",
      " [ 69  33 115  59  38  53 119]]\n",
      "Precision: 0.2822\n",
      "Recall: 0.2813\n",
      "F1 Score: 0.2750\n"
     ]
    }
   ],
   "source": [
    "from sklearn.metrics import classification_report, confusion_matrix, accuracy_score, precision_score, recall_score, f1_score\n",
    "\n",
    "# Predict on the test set\n",
    "y_pred = best_model.predict(X_test)\n",
    "\n",
    "# Calculate Accuracy\n",
    "accuracy = accuracy_score(y_test, y_pred)\n",
    "print(f\"Accuracy: {accuracy:.4f}\")\n",
    "\n",
    "# Classification Report\n",
    "print(\"Classification Report:\")\n",
    "print(classification_report(y_test, y_pred))\n",
    "\n",
    "# Confusion Matrix\n",
    "conf_matrix = confusion_matrix(y_test, y_pred)\n",
    "print(\"Confusion Matrix:\")\n",
    "print(conf_matrix)\n",
    "\n",
    "# Precision, Recall, F1 Score for each class (Offense Type)\n",
    "precision = precision_score(y_test, y_pred, average='weighted')\n",
    "recall = recall_score(y_test, y_pred, average='weighted')\n",
    "f1 = f1_score(y_test, y_pred, average='weighted')\n",
    "\n",
    "print(f\"Precision: {precision:.4f}\")\n",
    "print(f\"Recall: {recall:.4f}\")\n",
    "print(f\"F1 Score: {f1:.4f}\")\n"
   ]
  },
  {
   "cell_type": "markdown",
   "id": "1638bf6f",
   "metadata": {
    "papermill": {
     "duration": 0.011273,
     "end_time": "2025-05-03T01:01:24.681178",
     "exception": false,
     "start_time": "2025-05-03T01:01:24.669905",
     "status": "completed"
    },
    "tags": []
   },
   "source": [
    "#### For Logistic Regression (Coefficient Interpretation)\n",
    "\n",
    "For Logistic Regression, the model coefficients can help us understand how each feature affects the likelihood of an offense happening. A positive coefficient indicates a feature increases the likelihood of the offense, and a negative coefficient indicates the opposite."
   ]
  },
  {
   "cell_type": "code",
   "execution_count": 25,
   "id": "79b30890",
   "metadata": {
    "execution": {
     "iopub.execute_input": "2025-05-03T01:01:24.704751Z",
     "iopub.status.busy": "2025-05-03T01:01:24.704264Z",
     "iopub.status.idle": "2025-05-03T01:01:24.709252Z",
     "shell.execute_reply": "2025-05-03T01:01:24.708681Z"
    },
    "papermill": {
     "duration": 0.018025,
     "end_time": "2025-05-03T01:01:24.710295",
     "exception": false,
     "start_time": "2025-05-03T01:01:24.692270",
     "status": "completed"
    },
    "tags": []
   },
   "outputs": [],
   "source": [
    "if isinstance(best_model, LogisticRegression):\n",
    "    # Logistic regression coefficients\n",
    "    coef_df = pd.DataFrame({\n",
    "        'Feature': X.columns,\n",
    "        'Coefficient': best_model.coef_[0]\n",
    "    })\n",
    "    coef_df['AbsCoefficient'] = coef_df['Coefficient'].abs()\n",
    "    coef_df = coef_df.sort_values(by='AbsCoefficient', ascending=False)\n",
    "    \n",
    "    # Plotting the coefficients\n",
    "    plt.figure(figsize=(10, 6))\n",
    "    sns.barplot(x='AbsCoefficient', y='Feature', data=coef_df)\n",
    "    plt.title(\"Logistic Regression Coefficients Impact\")\n",
    "    plt.show()\n",
    "\n",
    "    # Print the top 5 most impactful features (by absolute coefficient value)\n",
    "    print(\"Top 5 most impactful features based on coefficients:\")\n",
    "    print(coef_df.head())\n"
   ]
  },
  {
   "cell_type": "markdown",
   "id": "83875b03",
   "metadata": {
    "papermill": {
     "duration": 0.011392,
     "end_time": "2025-05-03T01:01:24.732996",
     "exception": false,
     "start_time": "2025-05-03T01:01:24.721604",
     "status": "completed"
    },
    "tags": []
   },
   "source": [
    "Explanation of Output:\n",
    "\n",
    "Feature Importance (Random Forest/Decision Tree): The bar plot will show how important each feature is in the decision-making process. Features at the top of the list are the most influential in predicting the occurrence of offenses.\n",
    "\n",
    "Logistic Regression Coefficients: The bar plot will show the magnitude of the coefficients for each feature. Features with larger absolute values (either positive or negative) have a stronger impact on the model’s predictions. Positive coefficients increase the probability of an offense, while negative coefficients decrease it."
   ]
  },
  {
   "cell_type": "markdown",
   "id": "1883fa50",
   "metadata": {
    "papermill": {
     "duration": 0.011235,
     "end_time": "2025-05-03T01:01:24.755532",
     "exception": false,
     "start_time": "2025-05-03T01:01:24.744297",
     "status": "completed"
    },
    "tags": []
   },
   "source": []
  }
 ],
 "metadata": {
  "kernelspec": {
   "display_name": "Python 3",
   "language": "python",
   "name": "python3"
  },
  "language_info": {
   "codemirror_mode": {
    "name": "ipython",
    "version": 3
   },
   "file_extension": ".py",
   "mimetype": "text/x-python",
   "name": "python",
   "nbconvert_exporter": "python",
   "pygments_lexer": "ipython3",
   "version": "3.9.22"
  },
  "papermill": {
   "default_parameters": {},
   "duration": 84.968816,
   "end_time": "2025-05-03T01:01:25.284104",
   "environment_variables": {},
   "exception": null,
   "input_path": "notebook/Crime Data.ipynb",
   "output_path": "notebook/Crime Data_output.ipynb",
   "parameters": {},
   "start_time": "2025-05-03T01:00:00.315288",
   "version": "2.6.0"
  }
 },
 "nbformat": 4,
 "nbformat_minor": 5
}