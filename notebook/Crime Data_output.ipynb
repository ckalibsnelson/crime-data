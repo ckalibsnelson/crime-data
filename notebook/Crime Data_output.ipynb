{
 "cells": [
  {
   "cell_type": "markdown",
   "id": "6dfe4768",
   "metadata": {
    "papermill": {
     "duration": 0.004389,
     "end_time": "2025-06-12T01:03:59.722815",
     "exception": false,
     "start_time": "2025-06-12T01:03:59.718426",
     "status": "completed"
    },
    "tags": []
   },
   "source": [
    "# Charlottesville Open Data Porttal: Crime Data"
   ]
  },
  {
   "cell_type": "markdown",
   "id": "20c7df7a",
   "metadata": {
    "papermill": {
     "duration": 0.0032,
     "end_time": "2025-06-12T01:03:59.729633",
     "exception": false,
     "start_time": "2025-06-12T01:03:59.726433",
     "status": "completed"
    },
    "tags": []
   },
   "source": [
    "## Import Relevant Librarires & Set WD"
   ]
  },
  {
   "cell_type": "code",
   "execution_count": 1,
   "id": "e2012e93",
   "metadata": {
    "execution": {
     "iopub.execute_input": "2025-06-12T01:03:59.737380Z",
     "iopub.status.busy": "2025-06-12T01:03:59.737098Z",
     "iopub.status.idle": "2025-06-12T01:04:00.389106Z",
     "shell.execute_reply": "2025-06-12T01:04:00.388468Z"
    },
    "papermill": {
     "duration": 0.657405,
     "end_time": "2025-06-12T01:04:00.390446",
     "exception": false,
     "start_time": "2025-06-12T01:03:59.733041",
     "status": "completed"
    },
    "tags": []
   },
   "outputs": [],
   "source": [
    "import requests\n",
    "import pandas as pd\n",
    "import numpy as np\n",
    "import pickle\n",
    "import googlemaps\n",
    "import plotly.express as px\n",
    "from geopy.geocoders import Nominatim\n",
    "import time\n",
    "from dotenv import load_dotenv\n",
    "import os\n",
    "\n",
    "env_path = os.path.join(\"..\", \".env\")\n",
    "#print(\"Looking for .env file at:\", os.path.abspath(env_path))\n",
    "load_dotenv(dotenv_path=env_path)\n",
    "\n",
    "# Retrieve the variables\n",
    "GOOGLE_API_KEY = os.getenv(\"GOOGLE_API_KEY\")\n",
    "WORKING_DIR = os.getenv(\"WORKING_DIR\")\n",
    "\n",
    "if GOOGLE_API_KEY is None or WORKING_DIR is None:\n",
    "    raise RuntimeError(\"No configuration found. Please ensure that your .env file exists with the required variables, or create a local config.py file.\")\n",
    "\n",
    "#print(\"Google API Key:\", GOOGLE_API_KEY)\n",
    "#print(\"Working Directory:\", WORKING_DIR)"
   ]
  },
  {
   "cell_type": "markdown",
   "id": "882db794",
   "metadata": {
    "papermill": {
     "duration": 0.003323,
     "end_time": "2025-06-12T01:04:00.397390",
     "exception": false,
     "start_time": "2025-06-12T01:04:00.394067",
     "status": "completed"
    },
    "tags": []
   },
   "source": [
    "## Import Data\n",
    "\n",
    "URL: https://opendata.charlottesville.org/datasets/charlottesville::crime-data/about"
   ]
  },
  {
   "cell_type": "code",
   "execution_count": 2,
   "id": "98e35100",
   "metadata": {
    "execution": {
     "iopub.execute_input": "2025-06-12T01:04:00.405137Z",
     "iopub.status.busy": "2025-06-12T01:04:00.404723Z",
     "iopub.status.idle": "2025-06-12T01:05:13.530648Z",
     "shell.execute_reply": "2025-06-12T01:05:13.529870Z"
    },
    "papermill": {
     "duration": 73.134541,
     "end_time": "2025-06-12T01:05:13.535298",
     "exception": false,
     "start_time": "2025-06-12T01:04:00.400757",
     "status": "completed"
    },
    "tags": []
   },
   "outputs": [
    {
     "name": "stdout",
     "output_type": "stream",
     "text": [
      "Total records imported: 25482\n"
     ]
    }
   ],
   "source": [
    "# Define the endpoint and initial parameters.\n",
    "url = \"https://gisweb.charlottesville.org/arcgis/rest/services/OpenData_2/MapServer/6/query\"\n",
    "params = {\n",
    "    \"where\": \"1=1\",\n",
    "    \"outFields\": \"*\",\n",
    "    \"outSR\": 4326,\n",
    "    \"f\": \"json\",\n",
    "    \"resultOffset\": 0,       # Starting index for results\n",
    "    \"resultRecordCount\": 10000  # Maximum records per batch (if allowed by the API)\n",
    "}\n",
    "\n",
    "records = []\n",
    "\n",
    "while True:\n",
    "    response = requests.get(url, params=params)\n",
    "    response.raise_for_status()\n",
    "    data = response.json()\n",
    "    \n",
    "    # Get the current batch of features.\n",
    "    features = data.get(\"features\", [])\n",
    "    if not features:\n",
    "        break\n",
    "\n",
    "    # Extract the attributes from the features.\n",
    "    batch_records = [feature.get(\"attributes\", {}) for feature in features]\n",
    "    records.extend(batch_records)\n",
    "    \n",
    "    # If the batch size is less than the requested count, we reached the end.\n",
    "    if len(features) < params[\"resultRecordCount\"]:\n",
    "        break\n",
    "\n",
    "    # Update the resultOffset for the next batch.\n",
    "    params[\"resultOffset\"] += params[\"resultRecordCount\"]\n",
    "\n",
    "# Create a DataFrame from the combined records.\n",
    "df = pd.DataFrame(records)\n",
    "print(\"Total records imported:\", len(df))\n"
   ]
  },
  {
   "cell_type": "code",
   "execution_count": 3,
   "id": "31eef1f7",
   "metadata": {
    "execution": {
     "iopub.execute_input": "2025-06-12T01:05:13.543246Z",
     "iopub.status.busy": "2025-06-12T01:05:13.543027Z",
     "iopub.status.idle": "2025-06-12T01:05:13.555635Z",
     "shell.execute_reply": "2025-06-12T01:05:13.554971Z"
    },
    "papermill": {
     "duration": 0.017853,
     "end_time": "2025-06-12T01:05:13.556705",
     "exception": false,
     "start_time": "2025-06-12T01:05:13.538852",
     "status": "completed"
    },
    "tags": []
   },
   "outputs": [
    {
     "data": {
      "text/html": [
       "<div>\n",
       "<style scoped>\n",
       "    .dataframe tbody tr th:only-of-type {\n",
       "        vertical-align: middle;\n",
       "    }\n",
       "\n",
       "    .dataframe tbody tr th {\n",
       "        vertical-align: top;\n",
       "    }\n",
       "\n",
       "    .dataframe thead th {\n",
       "        text-align: right;\n",
       "    }\n",
       "</style>\n",
       "<table border=\"1\" class=\"dataframe\">\n",
       "  <thead>\n",
       "    <tr style=\"text-align: right;\">\n",
       "      <th></th>\n",
       "      <th>RecordID</th>\n",
       "      <th>Offense</th>\n",
       "      <th>IncidentID</th>\n",
       "      <th>BlockNumber</th>\n",
       "      <th>StreetName</th>\n",
       "      <th>Agency</th>\n",
       "      <th>DateReported</th>\n",
       "      <th>HourReported</th>\n",
       "      <th>ReportingOfficer</th>\n",
       "    </tr>\n",
       "  </thead>\n",
       "  <tbody>\n",
       "    <tr>\n",
       "      <th>0</th>\n",
       "      <td>1</td>\n",
       "      <td>Vandalism</td>\n",
       "      <td>202500019791</td>\n",
       "      <td>1200</td>\n",
       "      <td>CEDARS CT</td>\n",
       "      <td>CPD</td>\n",
       "      <td>1749519590000</td>\n",
       "      <td>2139</td>\n",
       "      <td>Vlasis, Christopher</td>\n",
       "    </tr>\n",
       "    <tr>\n",
       "      <th>1</th>\n",
       "      <td>2</td>\n",
       "      <td>Larceny - All Other</td>\n",
       "      <td>202500019779</td>\n",
       "      <td>700</td>\n",
       "      <td>10TH ST NW</td>\n",
       "      <td>CPD</td>\n",
       "      <td>1749513046000</td>\n",
       "      <td>1950</td>\n",
       "      <td>Bland, Johnnà</td>\n",
       "    </tr>\n",
       "    <tr>\n",
       "      <th>2</th>\n",
       "      <td>3</td>\n",
       "      <td>Assist Citizen - Mental/TDO/ECO</td>\n",
       "      <td>202500019763</td>\n",
       "      <td>1900</td>\n",
       "      <td>CEDAR HILL RD</td>\n",
       "      <td>CPD</td>\n",
       "      <td>1749503709000</td>\n",
       "      <td>1715</td>\n",
       "      <td>Curry, Brian</td>\n",
       "    </tr>\n",
       "    <tr>\n",
       "      <th>3</th>\n",
       "      <td>4</td>\n",
       "      <td>Larceny - Shoplifitng</td>\n",
       "      <td>202500019753</td>\n",
       "      <td>1100</td>\n",
       "      <td>5TH ST SW</td>\n",
       "      <td>CPD</td>\n",
       "      <td>1749499608000</td>\n",
       "      <td>1606</td>\n",
       "      <td>Vlasis, Christopher</td>\n",
       "    </tr>\n",
       "    <tr>\n",
       "      <th>4</th>\n",
       "      <td>5</td>\n",
       "      <td>Assist Citizen - Mental/TDO/ECO</td>\n",
       "      <td>202500019743</td>\n",
       "      <td>500</td>\n",
       "      <td>1ST ST S, 201</td>\n",
       "      <td>CPD</td>\n",
       "      <td>1749491087000</td>\n",
       "      <td>1344</td>\n",
       "      <td>Love-Baker, Sydney</td>\n",
       "    </tr>\n",
       "  </tbody>\n",
       "</table>\n",
       "</div>"
      ],
      "text/plain": [
       "   RecordID                          Offense    IncidentID BlockNumber  \\\n",
       "0         1                        Vandalism  202500019791        1200   \n",
       "1         2              Larceny - All Other  202500019779         700   \n",
       "2         3  Assist Citizen - Mental/TDO/ECO  202500019763        1900   \n",
       "3         4            Larceny - Shoplifitng  202500019753        1100   \n",
       "4         5  Assist Citizen - Mental/TDO/ECO  202500019743         500   \n",
       "\n",
       "      StreetName Agency   DateReported HourReported     ReportingOfficer  \n",
       "0      CEDARS CT    CPD  1749519590000         2139  Vlasis, Christopher  \n",
       "1     10TH ST NW    CPD  1749513046000         1950        Bland, Johnnà  \n",
       "2  CEDAR HILL RD    CPD  1749503709000         1715         Curry, Brian  \n",
       "3      5TH ST SW    CPD  1749499608000         1606  Vlasis, Christopher  \n",
       "4  1ST ST S, 201    CPD  1749491087000         1344   Love-Baker, Sydney  "
      ]
     },
     "execution_count": 3,
     "metadata": {},
     "output_type": "execute_result"
    }
   ],
   "source": [
    "df.head()"
   ]
  },
  {
   "cell_type": "code",
   "execution_count": 4,
   "id": "d38c3b5b",
   "metadata": {
    "execution": {
     "iopub.execute_input": "2025-06-12T01:05:13.564979Z",
     "iopub.status.busy": "2025-06-12T01:05:13.564782Z",
     "iopub.status.idle": "2025-06-12T01:05:13.569280Z",
     "shell.execute_reply": "2025-06-12T01:05:13.568637Z"
    },
    "papermill": {
     "duration": 0.009691,
     "end_time": "2025-06-12T01:05:13.570242",
     "exception": false,
     "start_time": "2025-06-12T01:05:13.560551",
     "status": "completed"
    },
    "tags": []
   },
   "outputs": [
    {
     "data": {
      "text/plain": [
       "Index(['RecordID', 'Offense', 'IncidentID', 'BlockNumber', 'StreetName',\n",
       "       'Agency', 'DateReported', 'HourReported', 'ReportingOfficer'],\n",
       "      dtype='object')"
      ]
     },
     "execution_count": 4,
     "metadata": {},
     "output_type": "execute_result"
    }
   ],
   "source": [
    "df.columns"
   ]
  },
  {
   "cell_type": "code",
   "execution_count": 5,
   "id": "6d4f9e80",
   "metadata": {
    "execution": {
     "iopub.execute_input": "2025-06-12T01:05:13.579348Z",
     "iopub.status.busy": "2025-06-12T01:05:13.578940Z",
     "iopub.status.idle": "2025-06-12T01:05:13.604086Z",
     "shell.execute_reply": "2025-06-12T01:05:13.603502Z"
    },
    "papermill": {
     "duration": 0.031048,
     "end_time": "2025-06-12T01:05:13.605082",
     "exception": false,
     "start_time": "2025-06-12T01:05:13.574034",
     "status": "completed"
    },
    "tags": []
   },
   "outputs": [
    {
     "name": "stdout",
     "output_type": "stream",
     "text": [
      "<class 'pandas.core.frame.DataFrame'>\n",
      "RangeIndex: 25482 entries, 0 to 25481\n",
      "Data columns (total 9 columns):\n",
      " #   Column            Non-Null Count  Dtype \n",
      "---  ------            --------------  ----- \n",
      " 0   RecordID          25482 non-null  int64 \n",
      " 1   Offense           25482 non-null  object\n",
      " 2   IncidentID        25482 non-null  object\n",
      " 3   BlockNumber       25482 non-null  object\n",
      " 4   StreetName        25482 non-null  object\n",
      " 5   Agency            25482 non-null  object\n",
      " 6   DateReported      25482 non-null  int64 \n",
      " 7   HourReported      25482 non-null  object\n",
      " 8   ReportingOfficer  25465 non-null  object\n",
      "dtypes: int64(2), object(7)\n",
      "memory usage: 1.7+ MB\n"
     ]
    }
   ],
   "source": [
    "df.info()"
   ]
  },
  {
   "cell_type": "markdown",
   "id": "a5cf8788",
   "metadata": {
    "papermill": {
     "duration": 0.003761,
     "end_time": "2025-06-12T01:05:13.612825",
     "exception": false,
     "start_time": "2025-06-12T01:05:13.609064",
     "status": "completed"
    },
    "tags": []
   },
   "source": [
    "### Missing Values"
   ]
  },
  {
   "cell_type": "code",
   "execution_count": 6,
   "id": "06f1b6db",
   "metadata": {
    "execution": {
     "iopub.execute_input": "2025-06-12T01:05:13.648393Z",
     "iopub.status.busy": "2025-06-12T01:05:13.647896Z",
     "iopub.status.idle": "2025-06-12T01:05:13.673217Z",
     "shell.execute_reply": "2025-06-12T01:05:13.672603Z"
    },
    "papermill": {
     "duration": 0.031338,
     "end_time": "2025-06-12T01:05:13.674363",
     "exception": false,
     "start_time": "2025-06-12T01:05:13.643025",
     "status": "completed"
    },
    "tags": []
   },
   "outputs": [
    {
     "name": "stdout",
     "output_type": "stream",
     "text": [
      "                  MissingCount  MissingPercentage\n",
      "RecordID                     0               0.00\n",
      "Offense                      0               0.00\n",
      "IncidentID                   0               0.00\n",
      "BlockNumber                  0               0.00\n",
      "StreetName                   0               0.00\n",
      "Agency                       0               0.00\n",
      "DateReported                 0               0.00\n",
      "HourReported                 0               0.00\n",
      "ReportingOfficer            17               0.07\n"
     ]
    }
   ],
   "source": [
    "def missing_percentage(df):\n",
    "    \"\"\"\n",
    "    Returns a DataFrame with the count and percentage of missing values for each column.\n",
    "    \n",
    "    Parameters:\n",
    "        df (pd.DataFrame): The input DataFrame.\n",
    "    \n",
    "    Returns:\n",
    "        pd.DataFrame: A DataFrame with columns 'MissingCount' and 'MissingPercentage'.\n",
    "    \"\"\"\n",
    "    total_rows = len(df)\n",
    "    missing_count = df.isnull().sum()\n",
    "    missing_percent = (missing_count / total_rows) * 100\n",
    "    \n",
    "    result = pd.DataFrame({\n",
    "        'MissingCount': missing_count,\n",
    "        'MissingPercentage': missing_percent.round(2)\n",
    "    })\n",
    "    \n",
    "    return result\n",
    "\n",
    "# Example usage:\n",
    "missing_info = missing_percentage(df)\n",
    "print(missing_info)\n"
   ]
  },
  {
   "cell_type": "markdown",
   "id": "5f656f02",
   "metadata": {
    "papermill": {
     "duration": 0.003911,
     "end_time": "2025-06-12T01:05:13.682416",
     "exception": false,
     "start_time": "2025-06-12T01:05:13.678505",
     "status": "completed"
    },
    "tags": []
   },
   "source": [
    "## Data Preparation"
   ]
  },
  {
   "cell_type": "markdown",
   "id": "fee96b15",
   "metadata": {
    "papermill": {
     "duration": 0.003801,
     "end_time": "2025-06-12T01:05:13.690047",
     "exception": false,
     "start_time": "2025-06-12T01:05:13.686246",
     "status": "completed"
    },
    "tags": []
   },
   "source": [
    "### Data Conversion"
   ]
  },
  {
   "cell_type": "code",
   "execution_count": 7,
   "id": "fe213a68",
   "metadata": {
    "execution": {
     "iopub.execute_input": "2025-06-12T01:05:13.699078Z",
     "iopub.status.busy": "2025-06-12T01:05:13.698654Z",
     "iopub.status.idle": "2025-06-12T01:05:14.061469Z",
     "shell.execute_reply": "2025-06-12T01:05:14.060827Z"
    },
    "papermill": {
     "duration": 0.36857,
     "end_time": "2025-06-12T01:05:14.062536",
     "exception": false,
     "start_time": "2025-06-12T01:05:13.693966",
     "status": "completed"
    },
    "tags": []
   },
   "outputs": [
    {
     "data": {
      "text/html": [
       "<div>\n",
       "<style scoped>\n",
       "    .dataframe tbody tr th:only-of-type {\n",
       "        vertical-align: middle;\n",
       "    }\n",
       "\n",
       "    .dataframe tbody tr th {\n",
       "        vertical-align: top;\n",
       "    }\n",
       "\n",
       "    .dataframe thead th {\n",
       "        text-align: right;\n",
       "    }\n",
       "</style>\n",
       "<table border=\"1\" class=\"dataframe\">\n",
       "  <thead>\n",
       "    <tr style=\"text-align: right;\">\n",
       "      <th></th>\n",
       "      <th>RecordID</th>\n",
       "      <th>Offense</th>\n",
       "      <th>IncidentID</th>\n",
       "      <th>BlockNumber</th>\n",
       "      <th>StreetName</th>\n",
       "      <th>Agency</th>\n",
       "      <th>HourReported</th>\n",
       "      <th>ReportingOfficer</th>\n",
       "      <th>Date</th>\n",
       "      <th>DateString</th>\n",
       "      <th>DayOfWeek</th>\n",
       "      <th>Weekend</th>\n",
       "      <th>Season</th>\n",
       "      <th>HourAMPM</th>\n",
       "      <th>TimeOfDay</th>\n",
       "    </tr>\n",
       "  </thead>\n",
       "  <tbody>\n",
       "    <tr>\n",
       "      <th>0</th>\n",
       "      <td>1</td>\n",
       "      <td>Vandalism</td>\n",
       "      <td>202500019791</td>\n",
       "      <td>1200</td>\n",
       "      <td>CEDARS CT</td>\n",
       "      <td>CPD</td>\n",
       "      <td>2139</td>\n",
       "      <td>Vlasis, Christopher</td>\n",
       "      <td>2025-06-09 21:39:50</td>\n",
       "      <td>2025-06-09 09:39:50 PM</td>\n",
       "      <td>Monday</td>\n",
       "      <td>False</td>\n",
       "      <td>Spring</td>\n",
       "      <td>09:39 PM</td>\n",
       "      <td>Night</td>\n",
       "    </tr>\n",
       "    <tr>\n",
       "      <th>1</th>\n",
       "      <td>2</td>\n",
       "      <td>Larceny - All Other</td>\n",
       "      <td>202500019779</td>\n",
       "      <td>700</td>\n",
       "      <td>10TH ST NW</td>\n",
       "      <td>CPD</td>\n",
       "      <td>1950</td>\n",
       "      <td>Bland, Johnnà</td>\n",
       "      <td>2025-06-09 19:50:46</td>\n",
       "      <td>2025-06-09 07:50:46 PM</td>\n",
       "      <td>Monday</td>\n",
       "      <td>False</td>\n",
       "      <td>Spring</td>\n",
       "      <td>07:50 PM</td>\n",
       "      <td>Evening</td>\n",
       "    </tr>\n",
       "    <tr>\n",
       "      <th>2</th>\n",
       "      <td>3</td>\n",
       "      <td>Assist Citizen - Mental/TDO/ECO</td>\n",
       "      <td>202500019763</td>\n",
       "      <td>1900</td>\n",
       "      <td>CEDAR HILL RD</td>\n",
       "      <td>CPD</td>\n",
       "      <td>1715</td>\n",
       "      <td>Curry, Brian</td>\n",
       "      <td>2025-06-09 17:15:09</td>\n",
       "      <td>2025-06-09 05:15:09 PM</td>\n",
       "      <td>Monday</td>\n",
       "      <td>False</td>\n",
       "      <td>Spring</td>\n",
       "      <td>05:15 PM</td>\n",
       "      <td>Evening</td>\n",
       "    </tr>\n",
       "    <tr>\n",
       "      <th>3</th>\n",
       "      <td>4</td>\n",
       "      <td>Larceny - Shoplifitng</td>\n",
       "      <td>202500019753</td>\n",
       "      <td>1100</td>\n",
       "      <td>5TH ST SW</td>\n",
       "      <td>CPD</td>\n",
       "      <td>1606</td>\n",
       "      <td>Vlasis, Christopher</td>\n",
       "      <td>2025-06-09 16:06:48</td>\n",
       "      <td>2025-06-09 04:06:48 PM</td>\n",
       "      <td>Monday</td>\n",
       "      <td>False</td>\n",
       "      <td>Spring</td>\n",
       "      <td>04:06 PM</td>\n",
       "      <td>Afternoon</td>\n",
       "    </tr>\n",
       "    <tr>\n",
       "      <th>4</th>\n",
       "      <td>5</td>\n",
       "      <td>Assist Citizen - Mental/TDO/ECO</td>\n",
       "      <td>202500019743</td>\n",
       "      <td>500</td>\n",
       "      <td>1ST ST S, 201</td>\n",
       "      <td>CPD</td>\n",
       "      <td>1344</td>\n",
       "      <td>Love-Baker, Sydney</td>\n",
       "      <td>2025-06-09 13:44:47</td>\n",
       "      <td>2025-06-09 01:44:47 PM</td>\n",
       "      <td>Monday</td>\n",
       "      <td>False</td>\n",
       "      <td>Spring</td>\n",
       "      <td>01:44 PM</td>\n",
       "      <td>Afternoon</td>\n",
       "    </tr>\n",
       "  </tbody>\n",
       "</table>\n",
       "</div>"
      ],
      "text/plain": [
       "   RecordID                          Offense    IncidentID BlockNumber  \\\n",
       "0         1                        Vandalism  202500019791        1200   \n",
       "1         2              Larceny - All Other  202500019779         700   \n",
       "2         3  Assist Citizen - Mental/TDO/ECO  202500019763        1900   \n",
       "3         4            Larceny - Shoplifitng  202500019753        1100   \n",
       "4         5  Assist Citizen - Mental/TDO/ECO  202500019743         500   \n",
       "\n",
       "      StreetName Agency HourReported     ReportingOfficer                Date  \\\n",
       "0      CEDARS CT    CPD         2139  Vlasis, Christopher 2025-06-09 21:39:50   \n",
       "1     10TH ST NW    CPD         1950        Bland, Johnnà 2025-06-09 19:50:46   \n",
       "2  CEDAR HILL RD    CPD         1715         Curry, Brian 2025-06-09 17:15:09   \n",
       "3      5TH ST SW    CPD         1606  Vlasis, Christopher 2025-06-09 16:06:48   \n",
       "4  1ST ST S, 201    CPD         1344   Love-Baker, Sydney 2025-06-09 13:44:47   \n",
       "\n",
       "               DateString DayOfWeek  Weekend  Season  HourAMPM  TimeOfDay  \n",
       "0  2025-06-09 09:39:50 PM    Monday    False  Spring  09:39 PM      Night  \n",
       "1  2025-06-09 07:50:46 PM    Monday    False  Spring  07:50 PM    Evening  \n",
       "2  2025-06-09 05:15:09 PM    Monday    False  Spring  05:15 PM    Evening  \n",
       "3  2025-06-09 04:06:48 PM    Monday    False  Spring  04:06 PM  Afternoon  \n",
       "4  2025-06-09 01:44:47 PM    Monday    False  Spring  01:44 PM  Afternoon  "
      ]
     },
     "execution_count": 7,
     "metadata": {},
     "output_type": "execute_result"
    }
   ],
   "source": [
    "def convert_and_categorize_datereported(df, col='DateReported'):\n",
    "    \"\"\"\n",
    "    Converts an epoch (in milliseconds) date column into a timezone-aware datetime,\n",
    "    converts it to Eastern Time, and then creates columns for day-of-week, weekend flag,\n",
    "    season, 12-hour formatted time, and time-of-day. Keeps both a real datetime column\n",
    "    (Date) and a string representation (DateString).\n",
    "    \"\"\"\n",
    "    import pandas as pd\n",
    "\n",
    "    # Convert the epoch timestamp to a pandas datetime object as UTC, then convert to US/Eastern.\n",
    "    df[\"DateReported_dt\"] = (\n",
    "        pd.to_datetime(df[col], unit=\"ms\", errors=\"coerce\", utc=True)\n",
    "        .dt.tz_convert(\"US/Eastern\")\n",
    "    )\n",
    "    \n",
    "    # Create a true datetime column (remove timezone if you prefer naive datetime)\n",
    "    df[\"Date\"] = df[\"DateReported_dt\"].dt.tz_localize(None)\n",
    "\n",
    "    # Optionally, create a separate string-formatted column\n",
    "    df[\"DateString\"] = df[\"DateReported_dt\"].dt.strftime(\"%Y-%m-%d %I:%M:%S %p\")\n",
    "    \n",
    "    # DayOfWeek\n",
    "    df[\"DayOfWeek\"] = df[\"DateReported_dt\"].dt.day_name()\n",
    "    \n",
    "    # Weekend\n",
    "    df[\"Weekend\"] = df[\"DayOfWeek\"].isin([\"Saturday\", \"Sunday\"])\n",
    "    \n",
    "    # Helper function to determine the season\n",
    "    def get_season(dt):\n",
    "        month = dt.month\n",
    "        day = dt.day\n",
    "        # Approximate Northern Hemisphere season boundaries:\n",
    "        if (month == 12 and day >= 21) or (month < 3) or (month == 3 and day < 20):\n",
    "            return \"Winter\"\n",
    "        elif (month == 3 and day >= 20) or (month < 6) or (month == 6 and day < 21):\n",
    "            return \"Spring\"\n",
    "        elif (month == 6 and day >= 21) or (month < 9) or (month == 9 and day < 22):\n",
    "            return \"Summer\"\n",
    "        else:\n",
    "            return \"Autumn\"\n",
    "    \n",
    "    df[\"Season\"] = df[\"DateReported_dt\"].apply(get_season)\n",
    "    \n",
    "    # 12-hour formatted time (HourAMPM)\n",
    "    df[\"HourAMPM\"] = df[\"DateReported_dt\"].dt.strftime(\"%I:%M %p\")\n",
    "    \n",
    "    # Extract hour (0-23) for time-of-day\n",
    "    df[\"HourValue\"] = df[\"DateReported_dt\"].dt.hour\n",
    "    \n",
    "    def time_of_day(hour):\n",
    "        if pd.isnull(hour):\n",
    "            return None\n",
    "        if 5 <= hour < 12:\n",
    "            return \"Morning\"\n",
    "        elif 12 <= hour < 17:\n",
    "            return \"Afternoon\"\n",
    "        elif 17 <= hour < 21:\n",
    "            return \"Evening\"\n",
    "        else:\n",
    "            return \"Night\"\n",
    "    \n",
    "    df[\"TimeOfDay\"] = df[\"HourValue\"].apply(time_of_day)\n",
    "    \n",
    "    # Drop columns you no longer need\n",
    "    df.drop(columns=[col, \"DateReported_dt\", \"HourValue\"], inplace=True)\n",
    "    \n",
    "    return df\n",
    "\n",
    "# Example usage:\n",
    "df = convert_and_categorize_datereported(df)\n",
    "df.head()\n"
   ]
  },
  {
   "cell_type": "code",
   "execution_count": 8,
   "id": "6d3cfa25",
   "metadata": {
    "execution": {
     "iopub.execute_input": "2025-06-12T01:05:14.072291Z",
     "iopub.status.busy": "2025-06-12T01:05:14.071836Z",
     "iopub.status.idle": "2025-06-12T01:05:14.101213Z",
     "shell.execute_reply": "2025-06-12T01:05:14.100641Z"
    },
    "papermill": {
     "duration": 0.035214,
     "end_time": "2025-06-12T01:05:14.102205",
     "exception": false,
     "start_time": "2025-06-12T01:05:14.066991",
     "status": "completed"
    },
    "tags": []
   },
   "outputs": [
    {
     "name": "stdout",
     "output_type": "stream",
     "text": [
      "<class 'pandas.core.frame.DataFrame'>\n",
      "RangeIndex: 25482 entries, 0 to 25481\n",
      "Data columns (total 15 columns):\n",
      " #   Column            Non-Null Count  Dtype         \n",
      "---  ------            --------------  -----         \n",
      " 0   RecordID          25482 non-null  int64         \n",
      " 1   Offense           25482 non-null  object        \n",
      " 2   IncidentID        25482 non-null  object        \n",
      " 3   BlockNumber       25482 non-null  object        \n",
      " 4   StreetName        25482 non-null  object        \n",
      " 5   Agency            25482 non-null  object        \n",
      " 6   HourReported      25482 non-null  object        \n",
      " 7   ReportingOfficer  25465 non-null  object        \n",
      " 8   Date              25482 non-null  datetime64[ns]\n",
      " 9   DateString        25482 non-null  object        \n",
      " 10  DayOfWeek         25482 non-null  object        \n",
      " 11  Weekend           25482 non-null  bool          \n",
      " 12  Season            25482 non-null  object        \n",
      " 13  HourAMPM          25482 non-null  object        \n",
      " 14  TimeOfDay         25482 non-null  object        \n",
      "dtypes: bool(1), datetime64[ns](1), int64(1), object(12)\n",
      "memory usage: 2.7+ MB\n"
     ]
    }
   ],
   "source": [
    "df.info()"
   ]
  },
  {
   "cell_type": "markdown",
   "id": "e5dc8c48",
   "metadata": {
    "papermill": {
     "duration": 0.004135,
     "end_time": "2025-06-12T01:05:14.110747",
     "exception": false,
     "start_time": "2025-06-12T01:05:14.106612",
     "status": "completed"
    },
    "tags": []
   },
   "source": [
    "### Coordinates"
   ]
  },
  {
   "cell_type": "code",
   "execution_count": 9,
   "id": "3ee94148",
   "metadata": {
    "execution": {
     "iopub.execute_input": "2025-06-12T01:05:14.120472Z",
     "iopub.status.busy": "2025-06-12T01:05:14.120148Z",
     "iopub.status.idle": "2025-06-12T01:05:14.324385Z",
     "shell.execute_reply": "2025-06-12T01:05:14.323675Z"
    },
    "papermill": {
     "duration": 0.210398,
     "end_time": "2025-06-12T01:05:14.325501",
     "exception": false,
     "start_time": "2025-06-12T01:05:14.115103",
     "status": "completed"
    },
    "tags": []
   },
   "outputs": [
    {
     "name": "stdout",
     "output_type": "stream",
     "text": [
      "Loaded geocode cache.\n",
      "Error geocoding 800 CYNTHIANNA AVE, 4: REQUEST_DENIED (You must enable Billing on the Google Cloud Project at https://console.cloud.google.com/project/_/billing/enable Learn more at https://developers.google.com/maps/gmp-get-started)\n",
      "Geocoded 800 CYNTHIANNA AVE, 4: None, None\n",
      "Error geocoding  DARIEN TER, 109: REQUEST_DENIED (You must enable Billing on the Google Cloud Project at https://console.cloud.google.com/project/_/billing/enable Learn more at https://developers.google.com/maps/gmp-get-started)\n",
      "Geocoded  DARIEN TER, 109: None, None\n",
      "Geocode cache updated and saved.\n"
     ]
    },
    {
     "data": {
      "text/html": [
       "<div>\n",
       "<style scoped>\n",
       "    .dataframe tbody tr th:only-of-type {\n",
       "        vertical-align: middle;\n",
       "    }\n",
       "\n",
       "    .dataframe tbody tr th {\n",
       "        vertical-align: top;\n",
       "    }\n",
       "\n",
       "    .dataframe thead th {\n",
       "        text-align: right;\n",
       "    }\n",
       "</style>\n",
       "<table border=\"1\" class=\"dataframe\">\n",
       "  <thead>\n",
       "    <tr style=\"text-align: right;\">\n",
       "      <th></th>\n",
       "      <th>RecordID</th>\n",
       "      <th>Offense</th>\n",
       "      <th>IncidentID</th>\n",
       "      <th>BlockNumber</th>\n",
       "      <th>StreetName</th>\n",
       "      <th>Agency</th>\n",
       "      <th>HourReported</th>\n",
       "      <th>ReportingOfficer</th>\n",
       "      <th>Date</th>\n",
       "      <th>DateString</th>\n",
       "      <th>DayOfWeek</th>\n",
       "      <th>Weekend</th>\n",
       "      <th>Season</th>\n",
       "      <th>HourAMPM</th>\n",
       "      <th>TimeOfDay</th>\n",
       "      <th>FullStreet</th>\n",
       "      <th>lat</th>\n",
       "      <th>lon</th>\n",
       "    </tr>\n",
       "  </thead>\n",
       "  <tbody>\n",
       "    <tr>\n",
       "      <th>0</th>\n",
       "      <td>1</td>\n",
       "      <td>Vandalism</td>\n",
       "      <td>202500019791</td>\n",
       "      <td>1200</td>\n",
       "      <td>CEDARS CT</td>\n",
       "      <td>CPD</td>\n",
       "      <td>2139</td>\n",
       "      <td>Vlasis, Christopher</td>\n",
       "      <td>2025-06-09 21:39:50</td>\n",
       "      <td>2025-06-09 09:39:50 PM</td>\n",
       "      <td>Monday</td>\n",
       "      <td>False</td>\n",
       "      <td>Spring</td>\n",
       "      <td>09:39 PM</td>\n",
       "      <td>Night</td>\n",
       "      <td>1200 CEDARS CT</td>\n",
       "      <td>38.055355</td>\n",
       "      <td>-78.501478</td>\n",
       "    </tr>\n",
       "    <tr>\n",
       "      <th>1</th>\n",
       "      <td>2</td>\n",
       "      <td>Larceny - All Other</td>\n",
       "      <td>202500019779</td>\n",
       "      <td>700</td>\n",
       "      <td>10TH ST NW</td>\n",
       "      <td>CPD</td>\n",
       "      <td>1950</td>\n",
       "      <td>Bland, Johnnà</td>\n",
       "      <td>2025-06-09 19:50:46</td>\n",
       "      <td>2025-06-09 07:50:46 PM</td>\n",
       "      <td>Monday</td>\n",
       "      <td>False</td>\n",
       "      <td>Spring</td>\n",
       "      <td>07:50 PM</td>\n",
       "      <td>Evening</td>\n",
       "      <td>700 10TH ST NW</td>\n",
       "      <td>38.039929</td>\n",
       "      <td>-78.490350</td>\n",
       "    </tr>\n",
       "    <tr>\n",
       "      <th>2</th>\n",
       "      <td>3</td>\n",
       "      <td>Assist Citizen - Mental/TDO/ECO</td>\n",
       "      <td>202500019763</td>\n",
       "      <td>1900</td>\n",
       "      <td>CEDAR HILL RD</td>\n",
       "      <td>CPD</td>\n",
       "      <td>1715</td>\n",
       "      <td>Curry, Brian</td>\n",
       "      <td>2025-06-09 17:15:09</td>\n",
       "      <td>2025-06-09 05:15:09 PM</td>\n",
       "      <td>Monday</td>\n",
       "      <td>False</td>\n",
       "      <td>Spring</td>\n",
       "      <td>05:15 PM</td>\n",
       "      <td>Evening</td>\n",
       "      <td>1900 CEDAR HILL RD</td>\n",
       "      <td>38.063340</td>\n",
       "      <td>-78.495715</td>\n",
       "    </tr>\n",
       "    <tr>\n",
       "      <th>3</th>\n",
       "      <td>4</td>\n",
       "      <td>Larceny - Shoplifitng</td>\n",
       "      <td>202500019753</td>\n",
       "      <td>1100</td>\n",
       "      <td>5TH ST SW</td>\n",
       "      <td>CPD</td>\n",
       "      <td>1606</td>\n",
       "      <td>Vlasis, Christopher</td>\n",
       "      <td>2025-06-09 16:06:48</td>\n",
       "      <td>2025-06-09 04:06:48 PM</td>\n",
       "      <td>Monday</td>\n",
       "      <td>False</td>\n",
       "      <td>Spring</td>\n",
       "      <td>04:06 PM</td>\n",
       "      <td>Afternoon</td>\n",
       "      <td>1100 5TH ST SW</td>\n",
       "      <td>38.017130</td>\n",
       "      <td>-78.497806</td>\n",
       "    </tr>\n",
       "    <tr>\n",
       "      <th>4</th>\n",
       "      <td>5</td>\n",
       "      <td>Assist Citizen - Mental/TDO/ECO</td>\n",
       "      <td>202500019743</td>\n",
       "      <td>500</td>\n",
       "      <td>1ST ST S, 201</td>\n",
       "      <td>CPD</td>\n",
       "      <td>1344</td>\n",
       "      <td>Love-Baker, Sydney</td>\n",
       "      <td>2025-06-09 13:44:47</td>\n",
       "      <td>2025-06-09 01:44:47 PM</td>\n",
       "      <td>Monday</td>\n",
       "      <td>False</td>\n",
       "      <td>Spring</td>\n",
       "      <td>01:44 PM</td>\n",
       "      <td>Afternoon</td>\n",
       "      <td>500 1ST ST S, 201</td>\n",
       "      <td>38.026939</td>\n",
       "      <td>-78.483266</td>\n",
       "    </tr>\n",
       "  </tbody>\n",
       "</table>\n",
       "</div>"
      ],
      "text/plain": [
       "   RecordID                          Offense    IncidentID BlockNumber  \\\n",
       "0         1                        Vandalism  202500019791        1200   \n",
       "1         2              Larceny - All Other  202500019779         700   \n",
       "2         3  Assist Citizen - Mental/TDO/ECO  202500019763        1900   \n",
       "3         4            Larceny - Shoplifitng  202500019753        1100   \n",
       "4         5  Assist Citizen - Mental/TDO/ECO  202500019743         500   \n",
       "\n",
       "      StreetName Agency HourReported     ReportingOfficer                Date  \\\n",
       "0      CEDARS CT    CPD         2139  Vlasis, Christopher 2025-06-09 21:39:50   \n",
       "1     10TH ST NW    CPD         1950        Bland, Johnnà 2025-06-09 19:50:46   \n",
       "2  CEDAR HILL RD    CPD         1715         Curry, Brian 2025-06-09 17:15:09   \n",
       "3      5TH ST SW    CPD         1606  Vlasis, Christopher 2025-06-09 16:06:48   \n",
       "4  1ST ST S, 201    CPD         1344   Love-Baker, Sydney 2025-06-09 13:44:47   \n",
       "\n",
       "               DateString DayOfWeek  Weekend  Season  HourAMPM  TimeOfDay  \\\n",
       "0  2025-06-09 09:39:50 PM    Monday    False  Spring  09:39 PM      Night   \n",
       "1  2025-06-09 07:50:46 PM    Monday    False  Spring  07:50 PM    Evening   \n",
       "2  2025-06-09 05:15:09 PM    Monday    False  Spring  05:15 PM    Evening   \n",
       "3  2025-06-09 04:06:48 PM    Monday    False  Spring  04:06 PM  Afternoon   \n",
       "4  2025-06-09 01:44:47 PM    Monday    False  Spring  01:44 PM  Afternoon   \n",
       "\n",
       "           FullStreet        lat        lon  \n",
       "0      1200 CEDARS CT  38.055355 -78.501478  \n",
       "1      700 10TH ST NW  38.039929 -78.490350  \n",
       "2  1900 CEDAR HILL RD  38.063340 -78.495715  \n",
       "3      1100 5TH ST SW  38.017130 -78.497806  \n",
       "4   500 1ST ST S, 201  38.026939 -78.483266  "
      ]
     },
     "execution_count": 9,
     "metadata": {},
     "output_type": "execute_result"
    }
   ],
   "source": [
    "# Combine BlockNumber and StreetName into a full address string\n",
    "df['FullStreet'] = df['BlockNumber'].astype(str) + \" \" + df['StreetName']\n",
    "\n",
    "# --- Step 1: Setup the Google Maps Client and Cache ---\n",
    "gmaps = googlemaps.Client(key=GOOGLE_API_KEY)\n",
    "\n",
    "# Try to load cached geocoding results if available.\n",
    "try:\n",
    "    with open(\"geocode_cache_google.pkl\", \"rb\") as f:\n",
    "        street_coords = pickle.load(f)\n",
    "    print(\"Loaded geocode cache.\")\n",
    "except FileNotFoundError:\n",
    "    street_coords = {}\n",
    "    print(\"No cache found; starting fresh.\")\n",
    "\n",
    "def geocode_address(address):\n",
    "    try:\n",
    "        # Append city and state to help geocoding\n",
    "        result = gmaps.geocode(f\"{address}, Charlottesville, VA\")\n",
    "        if result:\n",
    "            lat = result[0]['geometry']['location']['lat']\n",
    "            lon = result[0]['geometry']['location']['lng']\n",
    "            return lat, lon\n",
    "    except Exception as e:\n",
    "        print(f\"Error geocoding {address}: {e}\")\n",
    "    return None, None\n",
    "\n",
    "# --- Step 2: Geocode Only New Addresses ---\n",
    "unique_addresses = df['FullStreet'].unique()\n",
    "for address in unique_addresses:\n",
    "    if address not in street_coords:\n",
    "        lat, lon = geocode_address(address)\n",
    "        street_coords[address] = (lat, lon)\n",
    "        print(f\"Geocoded {address}: {lat}, {lon}\")\n",
    "\n",
    "# Save the updated cache to disk.\n",
    "with open(\"geocode_cache_google.pkl\", \"wb\") as f:\n",
    "    pickle.dump(street_coords, f)\n",
    "    print(\"Geocode cache updated and saved.\")\n",
    "\n",
    "# --- Step 3: Map Coordinates Back to DataFrame ---\n",
    "df['lat'] = df['FullStreet'].map(lambda s: street_coords.get(s, (None, None))[0])\n",
    "df['lon'] = df['FullStreet'].map(lambda s: street_coords.get(s, (None, None))[1])\n",
    "\n",
    "df.head()"
   ]
  },
  {
   "cell_type": "markdown",
   "id": "cf6dc76e",
   "metadata": {
    "papermill": {
     "duration": 0.004525,
     "end_time": "2025-06-12T01:05:14.334921",
     "exception": false,
     "start_time": "2025-06-12T01:05:14.330396",
     "status": "completed"
    },
    "tags": []
   },
   "source": [
    "### Neighborhood"
   ]
  },
  {
   "cell_type": "code",
   "execution_count": 10,
   "id": "51c8f4f1",
   "metadata": {
    "execution": {
     "iopub.execute_input": "2025-06-12T01:05:14.345067Z",
     "iopub.status.busy": "2025-06-12T01:05:14.344618Z",
     "iopub.status.idle": "2025-06-12T01:05:14.990957Z",
     "shell.execute_reply": "2025-06-12T01:05:14.990376Z"
    },
    "papermill": {
     "duration": 0.652598,
     "end_time": "2025-06-12T01:05:14.992020",
     "exception": false,
     "start_time": "2025-06-12T01:05:14.339422",
     "status": "completed"
    },
    "tags": []
   },
   "outputs": [
    {
     "name": "stdout",
     "output_type": "stream",
     "text": [
      "Loaded neighborhood cache.\n",
      "Error getting neighborhood for nan, nan: HTTP Error: 400\n",
      "Error getting neighborhood for nan, nan: HTTP Error: 400\n",
      "Error getting neighborhood for nan, nan: HTTP Error: 400\n",
      "Error getting neighborhood for nan, nan: HTTP Error: 400\n"
     ]
    },
    {
     "name": "stdout",
     "output_type": "stream",
     "text": [
      "Error getting neighborhood for nan, nan: HTTP Error: 400\n",
      "Error getting neighborhood for nan, nan: HTTP Error: 400\n",
      "Error getting neighborhood for nan, nan: HTTP Error: 400\n",
      "Error getting neighborhood for nan, nan: HTTP Error: 400\n",
      "Error getting neighborhood for nan, nan: HTTP Error: 400\n",
      "Error getting neighborhood for nan, nan: HTTP Error: 400\n",
      "Error getting neighborhood for nan, nan: HTTP Error: 400\n",
      "Error getting neighborhood for nan, nan: HTTP Error: 400\n"
     ]
    },
    {
     "name": "stdout",
     "output_type": "stream",
     "text": [
      "Error getting neighborhood for nan, nan: HTTP Error: 400\n"
     ]
    },
    {
     "data": {
      "text/html": [
       "<div>\n",
       "<style scoped>\n",
       "    .dataframe tbody tr th:only-of-type {\n",
       "        vertical-align: middle;\n",
       "    }\n",
       "\n",
       "    .dataframe tbody tr th {\n",
       "        vertical-align: top;\n",
       "    }\n",
       "\n",
       "    .dataframe thead th {\n",
       "        text-align: right;\n",
       "    }\n",
       "</style>\n",
       "<table border=\"1\" class=\"dataframe\">\n",
       "  <thead>\n",
       "    <tr style=\"text-align: right;\">\n",
       "      <th></th>\n",
       "      <th>RecordID</th>\n",
       "      <th>Offense</th>\n",
       "      <th>IncidentID</th>\n",
       "      <th>BlockNumber</th>\n",
       "      <th>StreetName</th>\n",
       "      <th>Agency</th>\n",
       "      <th>HourReported</th>\n",
       "      <th>ReportingOfficer</th>\n",
       "      <th>Date</th>\n",
       "      <th>DateString</th>\n",
       "      <th>DayOfWeek</th>\n",
       "      <th>Weekend</th>\n",
       "      <th>Season</th>\n",
       "      <th>HourAMPM</th>\n",
       "      <th>TimeOfDay</th>\n",
       "      <th>FullStreet</th>\n",
       "      <th>lat</th>\n",
       "      <th>lon</th>\n",
       "      <th>neighborhood</th>\n",
       "    </tr>\n",
       "  </thead>\n",
       "  <tbody>\n",
       "    <tr>\n",
       "      <th>0</th>\n",
       "      <td>1</td>\n",
       "      <td>Vandalism</td>\n",
       "      <td>202500019791</td>\n",
       "      <td>1200</td>\n",
       "      <td>CEDARS CT</td>\n",
       "      <td>CPD</td>\n",
       "      <td>2139</td>\n",
       "      <td>Vlasis, Christopher</td>\n",
       "      <td>2025-06-09 21:39:50</td>\n",
       "      <td>2025-06-09 09:39:50 PM</td>\n",
       "      <td>Monday</td>\n",
       "      <td>False</td>\n",
       "      <td>Spring</td>\n",
       "      <td>09:39 PM</td>\n",
       "      <td>Night</td>\n",
       "      <td>1200 CEDARS CT</td>\n",
       "      <td>38.055355</td>\n",
       "      <td>-78.501478</td>\n",
       "      <td>The Meadows</td>\n",
       "    </tr>\n",
       "    <tr>\n",
       "      <th>1</th>\n",
       "      <td>2</td>\n",
       "      <td>Larceny - All Other</td>\n",
       "      <td>202500019779</td>\n",
       "      <td>700</td>\n",
       "      <td>10TH ST NW</td>\n",
       "      <td>CPD</td>\n",
       "      <td>1950</td>\n",
       "      <td>Bland, Johnnà</td>\n",
       "      <td>2025-06-09 19:50:46</td>\n",
       "      <td>2025-06-09 07:50:46 PM</td>\n",
       "      <td>Monday</td>\n",
       "      <td>False</td>\n",
       "      <td>Spring</td>\n",
       "      <td>07:50 PM</td>\n",
       "      <td>Evening</td>\n",
       "      <td>700 10TH ST NW</td>\n",
       "      <td>38.039929</td>\n",
       "      <td>-78.490350</td>\n",
       "      <td>Rose Hill</td>\n",
       "    </tr>\n",
       "    <tr>\n",
       "      <th>2</th>\n",
       "      <td>3</td>\n",
       "      <td>Assist Citizen - Mental/TDO/ECO</td>\n",
       "      <td>202500019763</td>\n",
       "      <td>1900</td>\n",
       "      <td>CEDAR HILL RD</td>\n",
       "      <td>CPD</td>\n",
       "      <td>1715</td>\n",
       "      <td>Curry, Brian</td>\n",
       "      <td>2025-06-09 17:15:09</td>\n",
       "      <td>2025-06-09 05:15:09 PM</td>\n",
       "      <td>Monday</td>\n",
       "      <td>False</td>\n",
       "      <td>Spring</td>\n",
       "      <td>05:15 PM</td>\n",
       "      <td>Evening</td>\n",
       "      <td>1900 CEDAR HILL RD</td>\n",
       "      <td>38.063340</td>\n",
       "      <td>-78.495715</td>\n",
       "      <td>The Meadows</td>\n",
       "    </tr>\n",
       "    <tr>\n",
       "      <th>3</th>\n",
       "      <td>4</td>\n",
       "      <td>Larceny - Shoplifitng</td>\n",
       "      <td>202500019753</td>\n",
       "      <td>1100</td>\n",
       "      <td>5TH ST SW</td>\n",
       "      <td>CPD</td>\n",
       "      <td>1606</td>\n",
       "      <td>Vlasis, Christopher</td>\n",
       "      <td>2025-06-09 16:06:48</td>\n",
       "      <td>2025-06-09 04:06:48 PM</td>\n",
       "      <td>Monday</td>\n",
       "      <td>False</td>\n",
       "      <td>Spring</td>\n",
       "      <td>04:06 PM</td>\n",
       "      <td>Afternoon</td>\n",
       "      <td>1100 5TH ST SW</td>\n",
       "      <td>38.017130</td>\n",
       "      <td>-78.497806</td>\n",
       "      <td>Johnson Village</td>\n",
       "    </tr>\n",
       "    <tr>\n",
       "      <th>4</th>\n",
       "      <td>5</td>\n",
       "      <td>Assist Citizen - Mental/TDO/ECO</td>\n",
       "      <td>202500019743</td>\n",
       "      <td>500</td>\n",
       "      <td>1ST ST S, 201</td>\n",
       "      <td>CPD</td>\n",
       "      <td>1344</td>\n",
       "      <td>Love-Baker, Sydney</td>\n",
       "      <td>2025-06-09 13:44:47</td>\n",
       "      <td>2025-06-09 01:44:47 PM</td>\n",
       "      <td>Monday</td>\n",
       "      <td>False</td>\n",
       "      <td>Spring</td>\n",
       "      <td>01:44 PM</td>\n",
       "      <td>Afternoon</td>\n",
       "      <td>500 1ST ST S, 201</td>\n",
       "      <td>38.026939</td>\n",
       "      <td>-78.483266</td>\n",
       "      <td>Ridge St.</td>\n",
       "    </tr>\n",
       "  </tbody>\n",
       "</table>\n",
       "</div>"
      ],
      "text/plain": [
       "   RecordID                          Offense    IncidentID BlockNumber  \\\n",
       "0         1                        Vandalism  202500019791        1200   \n",
       "1         2              Larceny - All Other  202500019779         700   \n",
       "2         3  Assist Citizen - Mental/TDO/ECO  202500019763        1900   \n",
       "3         4            Larceny - Shoplifitng  202500019753        1100   \n",
       "4         5  Assist Citizen - Mental/TDO/ECO  202500019743         500   \n",
       "\n",
       "      StreetName Agency HourReported     ReportingOfficer                Date  \\\n",
       "0      CEDARS CT    CPD         2139  Vlasis, Christopher 2025-06-09 21:39:50   \n",
       "1     10TH ST NW    CPD         1950        Bland, Johnnà 2025-06-09 19:50:46   \n",
       "2  CEDAR HILL RD    CPD         1715         Curry, Brian 2025-06-09 17:15:09   \n",
       "3      5TH ST SW    CPD         1606  Vlasis, Christopher 2025-06-09 16:06:48   \n",
       "4  1ST ST S, 201    CPD         1344   Love-Baker, Sydney 2025-06-09 13:44:47   \n",
       "\n",
       "               DateString DayOfWeek  Weekend  Season  HourAMPM  TimeOfDay  \\\n",
       "0  2025-06-09 09:39:50 PM    Monday    False  Spring  09:39 PM      Night   \n",
       "1  2025-06-09 07:50:46 PM    Monday    False  Spring  07:50 PM    Evening   \n",
       "2  2025-06-09 05:15:09 PM    Monday    False  Spring  05:15 PM    Evening   \n",
       "3  2025-06-09 04:06:48 PM    Monday    False  Spring  04:06 PM  Afternoon   \n",
       "4  2025-06-09 01:44:47 PM    Monday    False  Spring  01:44 PM  Afternoon   \n",
       "\n",
       "           FullStreet        lat        lon     neighborhood  \n",
       "0      1200 CEDARS CT  38.055355 -78.501478      The Meadows  \n",
       "1      700 10TH ST NW  38.039929 -78.490350        Rose Hill  \n",
       "2  1900 CEDAR HILL RD  38.063340 -78.495715      The Meadows  \n",
       "3      1100 5TH ST SW  38.017130 -78.497806  Johnson Village  \n",
       "4   500 1ST ST S, 201  38.026939 -78.483266        Ridge St.  "
      ]
     },
     "execution_count": 10,
     "metadata": {},
     "output_type": "execute_result"
    }
   ],
   "source": [
    "# Initialize the Google Maps client.\n",
    "gmaps = googlemaps.Client(key=GOOGLE_API_KEY)\n",
    "\n",
    "# Try to load a persistent neighborhood cache if available.\n",
    "try:\n",
    "    with open(\"neighborhood_cache.pkl\", \"rb\") as f:\n",
    "        neighborhood_cache = pickle.load(f)\n",
    "    print(\"Loaded neighborhood cache.\")\n",
    "except FileNotFoundError:\n",
    "    neighborhood_cache = {}\n",
    "    print(\"No neighborhood cache found; starting fresh.\")\n",
    "\n",
    "def get_neighborhood(lat, lon):\n",
    "    \"\"\"\n",
    "    Reverse geocodes a latitude and longitude to retrieve the neighborhood.\n",
    "    Caches results to speed up subsequent lookups.\n",
    "    \"\"\"\n",
    "    key = (lat, lon)\n",
    "    if key in neighborhood_cache:\n",
    "        return neighborhood_cache[key]\n",
    "    \n",
    "    try:\n",
    "        result = gmaps.reverse_geocode((lat, lon))\n",
    "        if result:\n",
    "            # Look for the 'neighborhood' component in the first result.\n",
    "            for component in result[0]['address_components']:\n",
    "                if 'neighborhood' in component['types']:\n",
    "                    neighborhood = component['long_name']\n",
    "                    neighborhood_cache[key] = neighborhood\n",
    "                    return neighborhood\n",
    "            # If no neighborhood is found, return \"N/A\"\n",
    "            neighborhood_cache[key] = \"N/A\"\n",
    "            return \"N/A\"\n",
    "    except Exception as e:\n",
    "        print(f\"Error getting neighborhood for {lat}, {lon}: {e}\")\n",
    "        return \"N/A\"\n",
    "    \n",
    "    # Pause to respect usage limits.\n",
    "    time.sleep(1)\n",
    "\n",
    "# Example usage: Apply to your DataFrame 'df' that already has 'lat' and 'lon' columns.\n",
    "df['neighborhood'] = df.apply(lambda row: get_neighborhood(row['lat'], row['lon']), axis=1)\n",
    "\n",
    "# Save the updated neighborhood cache.\n",
    "with open(\"neighborhood_cache.pkl\", \"wb\") as f:\n",
    "    pickle.dump(neighborhood_cache, f)\n",
    "\n",
    "df.head()\n"
   ]
  },
  {
   "cell_type": "markdown",
   "id": "158cdf2d",
   "metadata": {
    "papermill": {
     "duration": 0.004931,
     "end_time": "2025-06-12T01:05:15.002220",
     "exception": false,
     "start_time": "2025-06-12T01:05:14.997289",
     "status": "completed"
    },
    "tags": []
   },
   "source": [
    "### Zip"
   ]
  },
  {
   "cell_type": "code",
   "execution_count": 11,
   "id": "65d5d7fb",
   "metadata": {
    "execution": {
     "iopub.execute_input": "2025-06-12T01:05:15.012965Z",
     "iopub.status.busy": "2025-06-12T01:05:15.012483Z",
     "iopub.status.idle": "2025-06-12T01:05:28.275769Z",
     "shell.execute_reply": "2025-06-12T01:05:28.275052Z"
    },
    "papermill": {
     "duration": 13.269932,
     "end_time": "2025-06-12T01:05:28.276960",
     "exception": false,
     "start_time": "2025-06-12T01:05:15.007028",
     "status": "completed"
    },
    "tags": []
   },
   "outputs": [
    {
     "name": "stdout",
     "output_type": "stream",
     "text": [
      "Loaded zip cache.\n",
      "Error getting ZIP for nan, nan: Must be a coordinate pair or Point\n"
     ]
    },
    {
     "name": "stdout",
     "output_type": "stream",
     "text": [
      "Error getting ZIP for nan, nan: Must be a coordinate pair or Point\n"
     ]
    },
    {
     "name": "stdout",
     "output_type": "stream",
     "text": [
      "Error getting ZIP for nan, nan: Must be a coordinate pair or Point\n"
     ]
    },
    {
     "name": "stdout",
     "output_type": "stream",
     "text": [
      "Error getting ZIP for nan, nan: Must be a coordinate pair or Point\n"
     ]
    },
    {
     "name": "stdout",
     "output_type": "stream",
     "text": [
      "Error getting ZIP for nan, nan: Must be a coordinate pair or Point\n"
     ]
    },
    {
     "name": "stdout",
     "output_type": "stream",
     "text": [
      "Error getting ZIP for nan, nan: Must be a coordinate pair or Point\n"
     ]
    },
    {
     "name": "stdout",
     "output_type": "stream",
     "text": [
      "Error getting ZIP for nan, nan: Must be a coordinate pair or Point\n"
     ]
    },
    {
     "name": "stdout",
     "output_type": "stream",
     "text": [
      "Error getting ZIP for nan, nan: Must be a coordinate pair or Point\n"
     ]
    },
    {
     "name": "stdout",
     "output_type": "stream",
     "text": [
      "Error getting ZIP for nan, nan: Must be a coordinate pair or Point\n"
     ]
    },
    {
     "name": "stdout",
     "output_type": "stream",
     "text": [
      "Error getting ZIP for nan, nan: Must be a coordinate pair or Point\n"
     ]
    },
    {
     "name": "stdout",
     "output_type": "stream",
     "text": [
      "Error getting ZIP for nan, nan: Must be a coordinate pair or Point\n"
     ]
    },
    {
     "name": "stdout",
     "output_type": "stream",
     "text": [
      "Error getting ZIP for nan, nan: Must be a coordinate pair or Point\n"
     ]
    },
    {
     "name": "stdout",
     "output_type": "stream",
     "text": [
      "Error getting ZIP for nan, nan: Must be a coordinate pair or Point\n"
     ]
    },
    {
     "data": {
      "text/html": [
       "<div>\n",
       "<style scoped>\n",
       "    .dataframe tbody tr th:only-of-type {\n",
       "        vertical-align: middle;\n",
       "    }\n",
       "\n",
       "    .dataframe tbody tr th {\n",
       "        vertical-align: top;\n",
       "    }\n",
       "\n",
       "    .dataframe thead th {\n",
       "        text-align: right;\n",
       "    }\n",
       "</style>\n",
       "<table border=\"1\" class=\"dataframe\">\n",
       "  <thead>\n",
       "    <tr style=\"text-align: right;\">\n",
       "      <th></th>\n",
       "      <th>RecordID</th>\n",
       "      <th>Offense</th>\n",
       "      <th>IncidentID</th>\n",
       "      <th>BlockNumber</th>\n",
       "      <th>StreetName</th>\n",
       "      <th>Agency</th>\n",
       "      <th>HourReported</th>\n",
       "      <th>ReportingOfficer</th>\n",
       "      <th>Date</th>\n",
       "      <th>DateString</th>\n",
       "      <th>DayOfWeek</th>\n",
       "      <th>Weekend</th>\n",
       "      <th>Season</th>\n",
       "      <th>HourAMPM</th>\n",
       "      <th>TimeOfDay</th>\n",
       "      <th>FullStreet</th>\n",
       "      <th>lat</th>\n",
       "      <th>lon</th>\n",
       "      <th>neighborhood</th>\n",
       "      <th>zip</th>\n",
       "    </tr>\n",
       "  </thead>\n",
       "  <tbody>\n",
       "    <tr>\n",
       "      <th>0</th>\n",
       "      <td>1</td>\n",
       "      <td>Vandalism</td>\n",
       "      <td>202500019791</td>\n",
       "      <td>1200</td>\n",
       "      <td>CEDARS CT</td>\n",
       "      <td>CPD</td>\n",
       "      <td>2139</td>\n",
       "      <td>Vlasis, Christopher</td>\n",
       "      <td>2025-06-09 21:39:50</td>\n",
       "      <td>2025-06-09 09:39:50 PM</td>\n",
       "      <td>Monday</td>\n",
       "      <td>False</td>\n",
       "      <td>Spring</td>\n",
       "      <td>09:39 PM</td>\n",
       "      <td>Night</td>\n",
       "      <td>1200 CEDARS CT</td>\n",
       "      <td>38.055355</td>\n",
       "      <td>-78.501478</td>\n",
       "      <td>The Meadows</td>\n",
       "      <td>22903</td>\n",
       "    </tr>\n",
       "    <tr>\n",
       "      <th>1</th>\n",
       "      <td>2</td>\n",
       "      <td>Larceny - All Other</td>\n",
       "      <td>202500019779</td>\n",
       "      <td>700</td>\n",
       "      <td>10TH ST NW</td>\n",
       "      <td>CPD</td>\n",
       "      <td>1950</td>\n",
       "      <td>Bland, Johnnà</td>\n",
       "      <td>2025-06-09 19:50:46</td>\n",
       "      <td>2025-06-09 07:50:46 PM</td>\n",
       "      <td>Monday</td>\n",
       "      <td>False</td>\n",
       "      <td>Spring</td>\n",
       "      <td>07:50 PM</td>\n",
       "      <td>Evening</td>\n",
       "      <td>700 10TH ST NW</td>\n",
       "      <td>38.039929</td>\n",
       "      <td>-78.490350</td>\n",
       "      <td>Rose Hill</td>\n",
       "      <td>22903</td>\n",
       "    </tr>\n",
       "    <tr>\n",
       "      <th>2</th>\n",
       "      <td>3</td>\n",
       "      <td>Assist Citizen - Mental/TDO/ECO</td>\n",
       "      <td>202500019763</td>\n",
       "      <td>1900</td>\n",
       "      <td>CEDAR HILL RD</td>\n",
       "      <td>CPD</td>\n",
       "      <td>1715</td>\n",
       "      <td>Curry, Brian</td>\n",
       "      <td>2025-06-09 17:15:09</td>\n",
       "      <td>2025-06-09 05:15:09 PM</td>\n",
       "      <td>Monday</td>\n",
       "      <td>False</td>\n",
       "      <td>Spring</td>\n",
       "      <td>05:15 PM</td>\n",
       "      <td>Evening</td>\n",
       "      <td>1900 CEDAR HILL RD</td>\n",
       "      <td>38.063340</td>\n",
       "      <td>-78.495715</td>\n",
       "      <td>The Meadows</td>\n",
       "      <td>22901</td>\n",
       "    </tr>\n",
       "    <tr>\n",
       "      <th>3</th>\n",
       "      <td>4</td>\n",
       "      <td>Larceny - Shoplifitng</td>\n",
       "      <td>202500019753</td>\n",
       "      <td>1100</td>\n",
       "      <td>5TH ST SW</td>\n",
       "      <td>CPD</td>\n",
       "      <td>1606</td>\n",
       "      <td>Vlasis, Christopher</td>\n",
       "      <td>2025-06-09 16:06:48</td>\n",
       "      <td>2025-06-09 04:06:48 PM</td>\n",
       "      <td>Monday</td>\n",
       "      <td>False</td>\n",
       "      <td>Spring</td>\n",
       "      <td>04:06 PM</td>\n",
       "      <td>Afternoon</td>\n",
       "      <td>1100 5TH ST SW</td>\n",
       "      <td>38.017130</td>\n",
       "      <td>-78.497806</td>\n",
       "      <td>Johnson Village</td>\n",
       "      <td>22903</td>\n",
       "    </tr>\n",
       "    <tr>\n",
       "      <th>4</th>\n",
       "      <td>5</td>\n",
       "      <td>Assist Citizen - Mental/TDO/ECO</td>\n",
       "      <td>202500019743</td>\n",
       "      <td>500</td>\n",
       "      <td>1ST ST S, 201</td>\n",
       "      <td>CPD</td>\n",
       "      <td>1344</td>\n",
       "      <td>Love-Baker, Sydney</td>\n",
       "      <td>2025-06-09 13:44:47</td>\n",
       "      <td>2025-06-09 01:44:47 PM</td>\n",
       "      <td>Monday</td>\n",
       "      <td>False</td>\n",
       "      <td>Spring</td>\n",
       "      <td>01:44 PM</td>\n",
       "      <td>Afternoon</td>\n",
       "      <td>500 1ST ST S, 201</td>\n",
       "      <td>38.026939</td>\n",
       "      <td>-78.483266</td>\n",
       "      <td>Ridge St.</td>\n",
       "      <td>22903</td>\n",
       "    </tr>\n",
       "  </tbody>\n",
       "</table>\n",
       "</div>"
      ],
      "text/plain": [
       "   RecordID                          Offense    IncidentID BlockNumber  \\\n",
       "0         1                        Vandalism  202500019791        1200   \n",
       "1         2              Larceny - All Other  202500019779         700   \n",
       "2         3  Assist Citizen - Mental/TDO/ECO  202500019763        1900   \n",
       "3         4            Larceny - Shoplifitng  202500019753        1100   \n",
       "4         5  Assist Citizen - Mental/TDO/ECO  202500019743         500   \n",
       "\n",
       "      StreetName Agency HourReported     ReportingOfficer                Date  \\\n",
       "0      CEDARS CT    CPD         2139  Vlasis, Christopher 2025-06-09 21:39:50   \n",
       "1     10TH ST NW    CPD         1950        Bland, Johnnà 2025-06-09 19:50:46   \n",
       "2  CEDAR HILL RD    CPD         1715         Curry, Brian 2025-06-09 17:15:09   \n",
       "3      5TH ST SW    CPD         1606  Vlasis, Christopher 2025-06-09 16:06:48   \n",
       "4  1ST ST S, 201    CPD         1344   Love-Baker, Sydney 2025-06-09 13:44:47   \n",
       "\n",
       "               DateString DayOfWeek  Weekend  Season  HourAMPM  TimeOfDay  \\\n",
       "0  2025-06-09 09:39:50 PM    Monday    False  Spring  09:39 PM      Night   \n",
       "1  2025-06-09 07:50:46 PM    Monday    False  Spring  07:50 PM    Evening   \n",
       "2  2025-06-09 05:15:09 PM    Monday    False  Spring  05:15 PM    Evening   \n",
       "3  2025-06-09 04:06:48 PM    Monday    False  Spring  04:06 PM  Afternoon   \n",
       "4  2025-06-09 01:44:47 PM    Monday    False  Spring  01:44 PM  Afternoon   \n",
       "\n",
       "           FullStreet        lat        lon     neighborhood    zip  \n",
       "0      1200 CEDARS CT  38.055355 -78.501478      The Meadows  22903  \n",
       "1      700 10TH ST NW  38.039929 -78.490350        Rose Hill  22903  \n",
       "2  1900 CEDAR HILL RD  38.063340 -78.495715      The Meadows  22901  \n",
       "3      1100 5TH ST SW  38.017130 -78.497806  Johnson Village  22903  \n",
       "4   500 1ST ST S, 201  38.026939 -78.483266        Ridge St.  22903  "
      ]
     },
     "execution_count": 11,
     "metadata": {},
     "output_type": "execute_result"
    }
   ],
   "source": [
    "# Initialize the geocoder.\n",
    "geolocator = Nominatim(user_agent=\"zip_lookup\")\n",
    "\n",
    "# Try to load a persistent ZIP cache if available.\n",
    "try:\n",
    "    with open(\"zip_cache.pkl\", \"rb\") as f:\n",
    "        zip_cache = pickle.load(f)\n",
    "    print(\"Loaded zip cache.\")\n",
    "except FileNotFoundError:\n",
    "    zip_cache = {}\n",
    "    print(\"No zip cache found; starting fresh.\")\n",
    "\n",
    "def get_zip(lat, lon):\n",
    "    \"\"\"\n",
    "    Reverse geocodes a latitude and longitude to retrieve the ZIP code.\n",
    "    Caches results to speed up subsequent lookups.\n",
    "    \"\"\"\n",
    "    key = (lat, lon)\n",
    "    if key in zip_cache:\n",
    "        return zip_cache[key]\n",
    "    \n",
    "    try:\n",
    "        location = geolocator.reverse((lat, lon), exactly_one=True, timeout=10)\n",
    "        address = location.raw.get('address', {})\n",
    "        postal_code = address.get('postcode', \"N/A\")\n",
    "    except Exception as e:\n",
    "        print(f\"Error getting ZIP for {lat}, {lon}: {e}\")\n",
    "        postal_code = \"N/A\"\n",
    "    \n",
    "    zip_cache[key] = postal_code\n",
    "    # Pause to respect the usage policy.\n",
    "    time.sleep(1)\n",
    "    return postal_code\n",
    "\n",
    "# Apply the function to each row in the DataFrame.\n",
    "df['zip'] = df.apply(lambda row: get_zip(row['lat'], row['lon']), axis=1)\n",
    "\n",
    "# Save the updated ZIP cache.\n",
    "with open(\"zip_cache.pkl\", \"wb\") as f:\n",
    "    pickle.dump(zip_cache, f)\n",
    "\n",
    "df.head()\n"
   ]
  },
  {
   "cell_type": "code",
   "execution_count": 12,
   "id": "779d2ee7",
   "metadata": {
    "execution": {
     "iopub.execute_input": "2025-06-12T01:05:28.289696Z",
     "iopub.status.busy": "2025-06-12T01:05:28.289463Z",
     "iopub.status.idle": "2025-06-12T01:05:28.320158Z",
     "shell.execute_reply": "2025-06-12T01:05:28.319628Z"
    },
    "papermill": {
     "duration": 0.038079,
     "end_time": "2025-06-12T01:05:28.321168",
     "exception": false,
     "start_time": "2025-06-12T01:05:28.283089",
     "status": "completed"
    },
    "tags": []
   },
   "outputs": [
    {
     "name": "stdout",
     "output_type": "stream",
     "text": [
      "                  MissingCount  MissingPercentage\n",
      "RecordID                     0               0.00\n",
      "Offense                      0               0.00\n",
      "IncidentID                   0               0.00\n",
      "BlockNumber                  0               0.00\n",
      "StreetName                   0               0.00\n",
      "Agency                       0               0.00\n",
      "HourReported                 0               0.00\n",
      "ReportingOfficer            17               0.07\n",
      "Date                         0               0.00\n",
      "DateString                   0               0.00\n",
      "DayOfWeek                    0               0.00\n",
      "Weekend                      0               0.00\n",
      "Season                       0               0.00\n",
      "HourAMPM                     0               0.00\n",
      "TimeOfDay                    0               0.00\n",
      "FullStreet                   0               0.00\n",
      "lat                         13               0.05\n",
      "lon                         13               0.05\n",
      "neighborhood                 0               0.00\n",
      "zip                          0               0.00\n"
     ]
    }
   ],
   "source": [
    "missing_info = missing_percentage(df)\n",
    "print(missing_info)\n"
   ]
  },
  {
   "cell_type": "code",
   "execution_count": 13,
   "id": "c6567283",
   "metadata": {
    "execution": {
     "iopub.execute_input": "2025-06-12T01:05:28.333526Z",
     "iopub.status.busy": "2025-06-12T01:05:28.333249Z",
     "iopub.status.idle": "2025-06-12T01:05:28.363506Z",
     "shell.execute_reply": "2025-06-12T01:05:28.362909Z"
    },
    "papermill": {
     "duration": 0.037578,
     "end_time": "2025-06-12T01:05:28.364543",
     "exception": false,
     "start_time": "2025-06-12T01:05:28.326965",
     "status": "completed"
    },
    "tags": []
   },
   "outputs": [
    {
     "name": "stdout",
     "output_type": "stream",
     "text": [
      "<class 'pandas.core.frame.DataFrame'>\n",
      "RangeIndex: 25482 entries, 0 to 25481\n",
      "Data columns (total 20 columns):\n",
      " #   Column            Non-Null Count  Dtype         \n",
      "---  ------            --------------  -----         \n",
      " 0   RecordID          25482 non-null  int64         \n",
      " 1   Offense           25482 non-null  object        \n",
      " 2   IncidentID        25482 non-null  object        \n",
      " 3   BlockNumber       25482 non-null  object        \n",
      " 4   StreetName        25482 non-null  object        \n",
      " 5   Agency            25482 non-null  object        \n",
      " 6   HourReported      25482 non-null  object        \n",
      " 7   ReportingOfficer  25465 non-null  object        \n",
      " 8   Date              25482 non-null  datetime64[ns]\n",
      " 9   DateString        25482 non-null  object        \n",
      " 10  DayOfWeek         25482 non-null  object        \n",
      " 11  Weekend           25482 non-null  bool          \n",
      " 12  Season            25482 non-null  object        \n",
      " 13  HourAMPM          25482 non-null  object        \n",
      " 14  TimeOfDay         25482 non-null  object        \n",
      " 15  FullStreet        25482 non-null  object        \n",
      " 16  lat               25469 non-null  float64       \n",
      " 17  lon               25469 non-null  float64       \n",
      " 18  neighborhood      25482 non-null  object        \n",
      " 19  zip               25482 non-null  object        \n",
      "dtypes: bool(1), datetime64[ns](1), float64(2), int64(1), object(15)\n",
      "memory usage: 3.7+ MB\n"
     ]
    }
   ],
   "source": [
    "df.info()"
   ]
  },
  {
   "cell_type": "code",
   "execution_count": 14,
   "id": "30e515bb",
   "metadata": {
    "execution": {
     "iopub.execute_input": "2025-06-12T01:05:28.377665Z",
     "iopub.status.busy": "2025-06-12T01:05:28.377398Z",
     "iopub.status.idle": "2025-06-12T01:05:28.422864Z",
     "shell.execute_reply": "2025-06-12T01:05:28.422241Z"
    },
    "papermill": {
     "duration": 0.053124,
     "end_time": "2025-06-12T01:05:28.423937",
     "exception": false,
     "start_time": "2025-06-12T01:05:28.370813",
     "status": "completed"
    },
    "tags": []
   },
   "outputs": [
    {
     "data": {
      "text/html": [
       "<div>\n",
       "<style scoped>\n",
       "    .dataframe tbody tr th:only-of-type {\n",
       "        vertical-align: middle;\n",
       "    }\n",
       "\n",
       "    .dataframe tbody tr th {\n",
       "        vertical-align: top;\n",
       "    }\n",
       "\n",
       "    .dataframe thead th {\n",
       "        text-align: right;\n",
       "    }\n",
       "</style>\n",
       "<table border=\"1\" class=\"dataframe\">\n",
       "  <thead>\n",
       "    <tr style=\"text-align: right;\">\n",
       "      <th></th>\n",
       "      <th>RecordID</th>\n",
       "      <th>Offense</th>\n",
       "      <th>IncidentID</th>\n",
       "      <th>Agency</th>\n",
       "      <th>ReportingOfficer</th>\n",
       "      <th>Date</th>\n",
       "      <th>DayOfWeek</th>\n",
       "      <th>Weekend</th>\n",
       "      <th>Season</th>\n",
       "      <th>TimeOfDay</th>\n",
       "      <th>FullStreet</th>\n",
       "      <th>lat</th>\n",
       "      <th>lon</th>\n",
       "      <th>neighborhood</th>\n",
       "      <th>zip</th>\n",
       "    </tr>\n",
       "  </thead>\n",
       "  <tbody>\n",
       "    <tr>\n",
       "      <th>0</th>\n",
       "      <td>1</td>\n",
       "      <td>Vandalism</td>\n",
       "      <td>202500019791</td>\n",
       "      <td>CPD</td>\n",
       "      <td>Vlasis, Christopher</td>\n",
       "      <td>2025-06-09 21:39:50</td>\n",
       "      <td>Monday</td>\n",
       "      <td>False</td>\n",
       "      <td>Spring</td>\n",
       "      <td>Night</td>\n",
       "      <td>1200 CEDARS CT</td>\n",
       "      <td>38.055355</td>\n",
       "      <td>-78.501478</td>\n",
       "      <td>The Meadows</td>\n",
       "      <td>22903</td>\n",
       "    </tr>\n",
       "    <tr>\n",
       "      <th>1</th>\n",
       "      <td>2</td>\n",
       "      <td>Larceny - All Other</td>\n",
       "      <td>202500019779</td>\n",
       "      <td>CPD</td>\n",
       "      <td>Bland, Johnnà</td>\n",
       "      <td>2025-06-09 19:50:46</td>\n",
       "      <td>Monday</td>\n",
       "      <td>False</td>\n",
       "      <td>Spring</td>\n",
       "      <td>Evening</td>\n",
       "      <td>700 10TH ST NW</td>\n",
       "      <td>38.039929</td>\n",
       "      <td>-78.49035</td>\n",
       "      <td>Rose Hill</td>\n",
       "      <td>22903</td>\n",
       "    </tr>\n",
       "    <tr>\n",
       "      <th>2</th>\n",
       "      <td>3</td>\n",
       "      <td>Assist Citizen - Mental/TDO/ECO</td>\n",
       "      <td>202500019763</td>\n",
       "      <td>CPD</td>\n",
       "      <td>Curry, Brian</td>\n",
       "      <td>2025-06-09 17:15:09</td>\n",
       "      <td>Monday</td>\n",
       "      <td>False</td>\n",
       "      <td>Spring</td>\n",
       "      <td>Evening</td>\n",
       "      <td>1900 CEDAR HILL RD</td>\n",
       "      <td>38.06334</td>\n",
       "      <td>-78.495715</td>\n",
       "      <td>The Meadows</td>\n",
       "      <td>22901</td>\n",
       "    </tr>\n",
       "    <tr>\n",
       "      <th>3</th>\n",
       "      <td>4</td>\n",
       "      <td>Larceny - Shoplifitng</td>\n",
       "      <td>202500019753</td>\n",
       "      <td>CPD</td>\n",
       "      <td>Vlasis, Christopher</td>\n",
       "      <td>2025-06-09 16:06:48</td>\n",
       "      <td>Monday</td>\n",
       "      <td>False</td>\n",
       "      <td>Spring</td>\n",
       "      <td>Afternoon</td>\n",
       "      <td>1100 5TH ST SW</td>\n",
       "      <td>38.01713</td>\n",
       "      <td>-78.497806</td>\n",
       "      <td>Johnson Village</td>\n",
       "      <td>22903</td>\n",
       "    </tr>\n",
       "    <tr>\n",
       "      <th>4</th>\n",
       "      <td>5</td>\n",
       "      <td>Assist Citizen - Mental/TDO/ECO</td>\n",
       "      <td>202500019743</td>\n",
       "      <td>CPD</td>\n",
       "      <td>Love-Baker, Sydney</td>\n",
       "      <td>2025-06-09 13:44:47</td>\n",
       "      <td>Monday</td>\n",
       "      <td>False</td>\n",
       "      <td>Spring</td>\n",
       "      <td>Afternoon</td>\n",
       "      <td>500 1ST ST S, 201</td>\n",
       "      <td>38.026939</td>\n",
       "      <td>-78.483266</td>\n",
       "      <td>Ridge St.</td>\n",
       "      <td>22903</td>\n",
       "    </tr>\n",
       "  </tbody>\n",
       "</table>\n",
       "</div>"
      ],
      "text/plain": [
       "   RecordID                          Offense    IncidentID Agency  \\\n",
       "0         1                        Vandalism  202500019791    CPD   \n",
       "1         2              Larceny - All Other  202500019779    CPD   \n",
       "2         3  Assist Citizen - Mental/TDO/ECO  202500019763    CPD   \n",
       "3         4            Larceny - Shoplifitng  202500019753    CPD   \n",
       "4         5  Assist Citizen - Mental/TDO/ECO  202500019743    CPD   \n",
       "\n",
       "      ReportingOfficer                Date DayOfWeek  Weekend  Season  \\\n",
       "0  Vlasis, Christopher 2025-06-09 21:39:50    Monday    False  Spring   \n",
       "1        Bland, Johnnà 2025-06-09 19:50:46    Monday    False  Spring   \n",
       "2         Curry, Brian 2025-06-09 17:15:09    Monday    False  Spring   \n",
       "3  Vlasis, Christopher 2025-06-09 16:06:48    Monday    False  Spring   \n",
       "4   Love-Baker, Sydney 2025-06-09 13:44:47    Monday    False  Spring   \n",
       "\n",
       "   TimeOfDay          FullStreet        lat        lon     neighborhood    zip  \n",
       "0      Night      1200 CEDARS CT  38.055355 -78.501478      The Meadows  22903  \n",
       "1    Evening      700 10TH ST NW  38.039929  -78.49035        Rose Hill  22903  \n",
       "2    Evening  1900 CEDAR HILL RD   38.06334 -78.495715      The Meadows  22901  \n",
       "3  Afternoon      1100 5TH ST SW   38.01713 -78.497806  Johnson Village  22903  \n",
       "4  Afternoon   500 1ST ST S, 201  38.026939 -78.483266        Ridge St.  22903  "
      ]
     },
     "execution_count": 14,
     "metadata": {},
     "output_type": "execute_result"
    }
   ],
   "source": [
    "# Now drop the original BlockNumber and StreetName columns\n",
    "df.drop(columns=['BlockNumber', 'StreetName','HourAMPM','HourReported','DateString'], inplace=True)\n",
    "df[\"zip\"] = df[\"zip\"].astype(str)\n",
    "\n",
    "# Fill all missing values in the DataFrame with \"N/A\"\n",
    "df.replace({None: \"N/A\", np.nan: \"N/A\", \"\": \"N/A\"}, inplace=True)\n",
    "df.head()"
   ]
  },
  {
   "cell_type": "code",
   "execution_count": 15,
   "id": "12257ca7",
   "metadata": {
    "execution": {
     "iopub.execute_input": "2025-06-12T01:05:28.437336Z",
     "iopub.status.busy": "2025-06-12T01:05:28.437069Z",
     "iopub.status.idle": "2025-06-12T01:05:28.455895Z",
     "shell.execute_reply": "2025-06-12T01:05:28.455284Z"
    },
    "papermill": {
     "duration": 0.026507,
     "end_time": "2025-06-12T01:05:28.456949",
     "exception": false,
     "start_time": "2025-06-12T01:05:28.430442",
     "status": "completed"
    },
    "tags": []
   },
   "outputs": [
    {
     "name": "stdout",
     "output_type": "stream",
     "text": [
      "                  MissingCount  MissingPercentage\n",
      "RecordID                     0                0.0\n",
      "Offense                      0                0.0\n",
      "IncidentID                   0                0.0\n",
      "Agency                       0                0.0\n",
      "ReportingOfficer             0                0.0\n",
      "Date                         0                0.0\n",
      "DayOfWeek                    0                0.0\n",
      "Weekend                      0                0.0\n",
      "Season                       0                0.0\n",
      "TimeOfDay                    0                0.0\n",
      "FullStreet                   0                0.0\n",
      "lat                          0                0.0\n",
      "lon                          0                0.0\n",
      "neighborhood                 0                0.0\n",
      "zip                          0                0.0\n"
     ]
    }
   ],
   "source": [
    "missing_info = missing_percentage(df)\n",
    "print(missing_info)"
   ]
  },
  {
   "cell_type": "code",
   "execution_count": 16,
   "id": "1ab37646",
   "metadata": {
    "execution": {
     "iopub.execute_input": "2025-06-12T01:05:28.470253Z",
     "iopub.status.busy": "2025-06-12T01:05:28.470008Z",
     "iopub.status.idle": "2025-06-12T01:05:28.474614Z",
     "shell.execute_reply": "2025-06-12T01:05:28.474045Z"
    },
    "papermill": {
     "duration": 0.0125,
     "end_time": "2025-06-12T01:05:28.475677",
     "exception": false,
     "start_time": "2025-06-12T01:05:28.463177",
     "status": "completed"
    },
    "tags": []
   },
   "outputs": [
    {
     "data": {
      "text/plain": [
       "Index(['RecordID', 'Offense', 'IncidentID', 'Agency', 'ReportingOfficer',\n",
       "       'Date', 'DayOfWeek', 'Weekend', 'Season', 'TimeOfDay', 'FullStreet',\n",
       "       'lat', 'lon', 'neighborhood', 'zip'],\n",
       "      dtype='object')"
      ]
     },
     "execution_count": 16,
     "metadata": {},
     "output_type": "execute_result"
    }
   ],
   "source": [
    "df.columns"
   ]
  },
  {
   "cell_type": "code",
   "execution_count": 17,
   "id": "5c734485",
   "metadata": {
    "execution": {
     "iopub.execute_input": "2025-06-12T01:05:28.488887Z",
     "iopub.status.busy": "2025-06-12T01:05:28.488654Z",
     "iopub.status.idle": "2025-06-12T01:05:28.510692Z",
     "shell.execute_reply": "2025-06-12T01:05:28.510092Z"
    },
    "papermill": {
     "duration": 0.029817,
     "end_time": "2025-06-12T01:05:28.511735",
     "exception": false,
     "start_time": "2025-06-12T01:05:28.481918",
     "status": "completed"
    },
    "tags": []
   },
   "outputs": [
    {
     "name": "stdout",
     "output_type": "stream",
     "text": [
      "<class 'pandas.core.frame.DataFrame'>\n",
      "RangeIndex: 25482 entries, 0 to 25481\n",
      "Data columns (total 15 columns):\n",
      " #   Column            Non-Null Count  Dtype         \n",
      "---  ------            --------------  -----         \n",
      " 0   RecordID          25482 non-null  int64         \n",
      " 1   Offense           25482 non-null  object        \n",
      " 2   IncidentID        25482 non-null  object        \n",
      " 3   Agency            25482 non-null  object        \n",
      " 4   ReportingOfficer  25482 non-null  object        \n",
      " 5   Date              25482 non-null  datetime64[ns]\n",
      " 6   DayOfWeek         25482 non-null  object        \n",
      " 7   Weekend           25482 non-null  bool          \n",
      " 8   Season            25482 non-null  object        \n",
      " 9   TimeOfDay         25482 non-null  object        \n",
      " 10  FullStreet        25482 non-null  object        \n",
      " 11  lat               25482 non-null  object        \n",
      " 12  lon               25482 non-null  object        \n",
      " 13  neighborhood      25482 non-null  object        \n",
      " 14  zip               25482 non-null  object        \n",
      "dtypes: bool(1), datetime64[ns](1), int64(1), object(12)\n",
      "memory usage: 2.7+ MB\n"
     ]
    }
   ],
   "source": [
    "df.info()"
   ]
  },
  {
   "cell_type": "markdown",
   "id": "6c32f8c8",
   "metadata": {
    "papermill": {
     "duration": 0.00632,
     "end_time": "2025-06-12T01:05:28.524531",
     "exception": false,
     "start_time": "2025-06-12T01:05:28.518211",
     "status": "completed"
    },
    "tags": []
   },
   "source": [
    "### Export Clean Data"
   ]
  },
  {
   "cell_type": "code",
   "execution_count": 18,
   "id": "803a7a55",
   "metadata": {
    "execution": {
     "iopub.execute_input": "2025-06-12T01:05:28.537968Z",
     "iopub.status.busy": "2025-06-12T01:05:28.537758Z",
     "iopub.status.idle": "2025-06-12T01:05:37.812646Z",
     "shell.execute_reply": "2025-06-12T01:05:37.811882Z"
    },
    "papermill": {
     "duration": 9.282943,
     "end_time": "2025-06-12T01:05:37.813785",
     "exception": false,
     "start_time": "2025-06-12T01:05:28.530842",
     "status": "completed"
    },
    "tags": []
   },
   "outputs": [
    {
     "name": "stdout",
     "output_type": "stream",
     "text": [
      "Project Root: /home/runner/work/crime-data/crime-data\n"
     ]
    },
    {
     "name": "stdout",
     "output_type": "stream",
     "text": [
      "Data saved to: /home/runner/work/crime-data/crime-data/data/charlottesville_crime_incidents.csv\n"
     ]
    },
    {
     "name": "stdout",
     "output_type": "stream",
     "text": [
      "Excel saved to: /home/runner/work/crime-data/crime-data/data/charlottesville_crime_incidents.xlsx\n"
     ]
    }
   ],
   "source": [
    "# Determine the project root (assuming papermill is run from the repository root)\n",
    "project_root = os.getcwd()\n",
    "print(\"Project Root:\", project_root)\n",
    "\n",
    "# Set the data directory within the project root\n",
    "data_dir = os.path.join(project_root, \"data\")\n",
    "\n",
    "# Ensure the \"data\" directory exists (create it if it doesn't)\n",
    "if not os.path.exists(data_dir):\n",
    "    os.makedirs(data_dir)\n",
    "\n",
    "# Export the DataFrame to CSV in the \"data\" folder located in the project root\n",
    "csv_path = os.path.join(data_dir, \"charlottesville_crime_incidents.csv\")\n",
    "df.to_csv(csv_path, index=False)\n",
    "print(\"Data saved to:\", csv_path)\n",
    "\n",
    "# Construct the path to your Excel file\n",
    "excel_path = os.path.join(data_dir, \"charlottesville_crime_incidents.xlsx\")\n",
    "\n",
    "# Export the DataFrame to Excel\n",
    "df.to_excel(excel_path, index=False)\n",
    "print(\"Excel saved to:\", excel_path)\n"
   ]
  }
 ],
 "metadata": {
  "kernelspec": {
   "display_name": "Python 3",
   "language": "python",
   "name": "python3"
  },
  "language_info": {
   "codemirror_mode": {
    "name": "ipython",
    "version": 3
   },
   "file_extension": ".py",
   "mimetype": "text/x-python",
   "name": "python",
   "nbconvert_exporter": "python",
   "pygments_lexer": "ipython3",
   "version": "3.9.23"
  },
  "papermill": {
   "default_parameters": {},
   "duration": 99.589815,
   "end_time": "2025-06-12T01:05:38.236431",
   "environment_variables": {},
   "exception": null,
   "input_path": "notebook/Crime Data.ipynb",
   "output_path": "notebook/Crime Data_output.ipynb",
   "parameters": {},
   "start_time": "2025-06-12T01:03:58.646616",
   "version": "2.6.0"
  }
 },
 "nbformat": 4,
 "nbformat_minor": 5
}