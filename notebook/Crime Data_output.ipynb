{
 "cells": [
  {
   "cell_type": "markdown",
   "id": "62de5a37",
   "metadata": {
    "papermill": {
     "duration": 0.004254,
     "end_time": "2025-07-14T01:10:19.767305",
     "exception": false,
     "start_time": "2025-07-14T01:10:19.763051",
     "status": "completed"
    },
    "tags": []
   },
   "source": [
    "# Charlottesville Open Data Porttal: Crime Data"
   ]
  },
  {
   "cell_type": "markdown",
   "id": "3a57f518",
   "metadata": {
    "papermill": {
     "duration": 0.003192,
     "end_time": "2025-07-14T01:10:19.774163",
     "exception": false,
     "start_time": "2025-07-14T01:10:19.770971",
     "status": "completed"
    },
    "tags": []
   },
   "source": [
    "## Import Relevant Librarires & Set WD"
   ]
  },
  {
   "cell_type": "code",
   "execution_count": 1,
   "id": "679d2b68",
   "metadata": {
    "execution": {
     "iopub.execute_input": "2025-07-14T01:10:19.782133Z",
     "iopub.status.busy": "2025-07-14T01:10:19.781518Z",
     "iopub.status.idle": "2025-07-14T01:10:20.362058Z",
     "shell.execute_reply": "2025-07-14T01:10:20.361282Z"
    },
    "papermill": {
     "duration": 0.586219,
     "end_time": "2025-07-14T01:10:20.363591",
     "exception": false,
     "start_time": "2025-07-14T01:10:19.777372",
     "status": "completed"
    },
    "tags": []
   },
   "outputs": [],
   "source": [
    "import requests\n",
    "import pandas as pd\n",
    "import numpy as np\n",
    "import pickle\n",
    "import googlemaps\n",
    "import plotly.express as px\n",
    "from geopy.geocoders import Nominatim\n",
    "import time\n",
    "from dotenv import load_dotenv\n",
    "import os\n",
    "\n",
    "env_path = os.path.join(\"..\", \".env\")\n",
    "#print(\"Looking for .env file at:\", os.path.abspath(env_path))\n",
    "load_dotenv(dotenv_path=env_path)\n",
    "\n",
    "# Retrieve the variables\n",
    "GOOGLE_API_KEY = os.getenv(\"GOOGLE_API_KEY\")\n",
    "WORKING_DIR = os.getenv(\"WORKING_DIR\")\n",
    "\n",
    "if GOOGLE_API_KEY is None or WORKING_DIR is None:\n",
    "    raise RuntimeError(\"No configuration found. Please ensure that your .env file exists with the required variables, or create a local config.py file.\")\n",
    "\n",
    "#print(\"Google API Key:\", GOOGLE_API_KEY)\n",
    "#print(\"Working Directory:\", WORKING_DIR)"
   ]
  },
  {
   "cell_type": "markdown",
   "id": "91c52cad",
   "metadata": {
    "papermill": {
     "duration": 0.00335,
     "end_time": "2025-07-14T01:10:20.370646",
     "exception": false,
     "start_time": "2025-07-14T01:10:20.367296",
     "status": "completed"
    },
    "tags": []
   },
   "source": [
    "## Import Data\n",
    "\n",
    "URL: https://opendata.charlottesville.org/datasets/charlottesville::crime-data/about"
   ]
  },
  {
   "cell_type": "code",
   "execution_count": 2,
   "id": "d0552f3d",
   "metadata": {
    "execution": {
     "iopub.execute_input": "2025-07-14T01:10:20.378674Z",
     "iopub.status.busy": "2025-07-14T01:10:20.377984Z",
     "iopub.status.idle": "2025-07-14T01:11:30.064007Z",
     "shell.execute_reply": "2025-07-14T01:11:30.063232Z"
    },
    "papermill": {
     "duration": 69.694286,
     "end_time": "2025-07-14T01:11:30.068299",
     "exception": false,
     "start_time": "2025-07-14T01:10:20.374013",
     "status": "completed"
    },
    "tags": []
   },
   "outputs": [
    {
     "name": "stdout",
     "output_type": "stream",
     "text": [
      "Total records imported: 25529\n"
     ]
    }
   ],
   "source": [
    "# Define the endpoint and initial parameters.\n",
    "url = \"https://gisweb.charlottesville.org/arcgis/rest/services/OpenData_2/MapServer/6/query\"\n",
    "params = {\n",
    "    \"where\": \"1=1\",\n",
    "    \"outFields\": \"*\",\n",
    "    \"outSR\": 4326,\n",
    "    \"f\": \"json\",\n",
    "    \"resultOffset\": 0,       # Starting index for results\n",
    "    \"resultRecordCount\": 10000  # Maximum records per batch (if allowed by the API)\n",
    "}\n",
    "\n",
    "records = []\n",
    "\n",
    "while True:\n",
    "    response = requests.get(url, params=params)\n",
    "    response.raise_for_status()\n",
    "    data = response.json()\n",
    "    \n",
    "    # Get the current batch of features.\n",
    "    features = data.get(\"features\", [])\n",
    "    if not features:\n",
    "        break\n",
    "\n",
    "    # Extract the attributes from the features.\n",
    "    batch_records = [feature.get(\"attributes\", {}) for feature in features]\n",
    "    records.extend(batch_records)\n",
    "    \n",
    "    # If the batch size is less than the requested count, we reached the end.\n",
    "    if len(features) < params[\"resultRecordCount\"]:\n",
    "        break\n",
    "\n",
    "    # Update the resultOffset for the next batch.\n",
    "    params[\"resultOffset\"] += params[\"resultRecordCount\"]\n",
    "\n",
    "# Create a DataFrame from the combined records.\n",
    "df = pd.DataFrame(records)\n",
    "print(\"Total records imported:\", len(df))\n"
   ]
  },
  {
   "cell_type": "code",
   "execution_count": 3,
   "id": "8fd7450d",
   "metadata": {
    "execution": {
     "iopub.execute_input": "2025-07-14T01:11:30.076853Z",
     "iopub.status.busy": "2025-07-14T01:11:30.076247Z",
     "iopub.status.idle": "2025-07-14T01:11:30.089131Z",
     "shell.execute_reply": "2025-07-14T01:11:30.088454Z"
    },
    "papermill": {
     "duration": 0.018278,
     "end_time": "2025-07-14T01:11:30.090151",
     "exception": false,
     "start_time": "2025-07-14T01:11:30.071873",
     "status": "completed"
    },
    "tags": []
   },
   "outputs": [
    {
     "data": {
      "text/html": [
       "<div>\n",
       "<style scoped>\n",
       "    .dataframe tbody tr th:only-of-type {\n",
       "        vertical-align: middle;\n",
       "    }\n",
       "\n",
       "    .dataframe tbody tr th {\n",
       "        vertical-align: top;\n",
       "    }\n",
       "\n",
       "    .dataframe thead th {\n",
       "        text-align: right;\n",
       "    }\n",
       "</style>\n",
       "<table border=\"1\" class=\"dataframe\">\n",
       "  <thead>\n",
       "    <tr style=\"text-align: right;\">\n",
       "      <th></th>\n",
       "      <th>RecordID</th>\n",
       "      <th>Offense</th>\n",
       "      <th>IncidentID</th>\n",
       "      <th>BlockNumber</th>\n",
       "      <th>StreetName</th>\n",
       "      <th>Agency</th>\n",
       "      <th>DateReported</th>\n",
       "      <th>HourReported</th>\n",
       "      <th>ReportingOfficer</th>\n",
       "    </tr>\n",
       "  </thead>\n",
       "  <tbody>\n",
       "    <tr>\n",
       "      <th>0</th>\n",
       "      <td>1</td>\n",
       "      <td>Missing Person-juvenile</td>\n",
       "      <td>202500024337</td>\n",
       "      <td>1400</td>\n",
       "      <td>BAKER ST</td>\n",
       "      <td>CPD</td>\n",
       "      <td>1752294671000</td>\n",
       "      <td>0031</td>\n",
       "      <td>Troche, Nicholas</td>\n",
       "    </tr>\n",
       "    <tr>\n",
       "      <th>1</th>\n",
       "      <td>2</td>\n",
       "      <td>Drug Equipment Violation</td>\n",
       "      <td>202500024303</td>\n",
       "      <td>400</td>\n",
       "      <td>11TH ST NE, 11A</td>\n",
       "      <td>CPD</td>\n",
       "      <td>1752284976000</td>\n",
       "      <td>2149</td>\n",
       "      <td>Benbow, Lauren</td>\n",
       "    </tr>\n",
       "    <tr>\n",
       "      <th>2</th>\n",
       "      <td>3</td>\n",
       "      <td>Larceny - Theft from Building</td>\n",
       "      <td>202500024244</td>\n",
       "      <td>1400</td>\n",
       "      <td>BAKER ST</td>\n",
       "      <td>CPD</td>\n",
       "      <td>1752271147000</td>\n",
       "      <td>1759</td>\n",
       "      <td>Darby, Michael</td>\n",
       "    </tr>\n",
       "    <tr>\n",
       "      <th>3</th>\n",
       "      <td>4</td>\n",
       "      <td>Burglary</td>\n",
       "      <td>202500024245</td>\n",
       "      <td>700</td>\n",
       "      <td>RIDGE ST</td>\n",
       "      <td>CPD</td>\n",
       "      <td>1752271139000</td>\n",
       "      <td>1758</td>\n",
       "      <td>Reed, Danielle</td>\n",
       "    </tr>\n",
       "    <tr>\n",
       "      <th>4</th>\n",
       "      <td>5</td>\n",
       "      <td>Misc - Criminal Call</td>\n",
       "      <td>202500024219</td>\n",
       "      <td></td>\n",
       "      <td>14TH ST NW / UNIVERSITY AVE</td>\n",
       "      <td>CPD</td>\n",
       "      <td>1752264192000</td>\n",
       "      <td>1603</td>\n",
       "      <td>Ritter, Kobe</td>\n",
       "    </tr>\n",
       "  </tbody>\n",
       "</table>\n",
       "</div>"
      ],
      "text/plain": [
       "   RecordID                        Offense    IncidentID BlockNumber  \\\n",
       "0         1        Missing Person-juvenile  202500024337        1400   \n",
       "1         2       Drug Equipment Violation  202500024303         400   \n",
       "2         3  Larceny - Theft from Building  202500024244        1400   \n",
       "3         4                       Burglary  202500024245         700   \n",
       "4         5           Misc - Criminal Call  202500024219               \n",
       "\n",
       "                    StreetName Agency   DateReported HourReported  \\\n",
       "0                     BAKER ST    CPD  1752294671000         0031   \n",
       "1              11TH ST NE, 11A    CPD  1752284976000         2149   \n",
       "2                     BAKER ST    CPD  1752271147000         1759   \n",
       "3                     RIDGE ST    CPD  1752271139000         1758   \n",
       "4  14TH ST NW / UNIVERSITY AVE    CPD  1752264192000         1603   \n",
       "\n",
       "   ReportingOfficer  \n",
       "0  Troche, Nicholas  \n",
       "1    Benbow, Lauren  \n",
       "2    Darby, Michael  \n",
       "3    Reed, Danielle  \n",
       "4      Ritter, Kobe  "
      ]
     },
     "execution_count": 3,
     "metadata": {},
     "output_type": "execute_result"
    }
   ],
   "source": [
    "df.head()"
   ]
  },
  {
   "cell_type": "code",
   "execution_count": 4,
   "id": "bebe2b68",
   "metadata": {
    "execution": {
     "iopub.execute_input": "2025-07-14T01:11:30.098652Z",
     "iopub.status.busy": "2025-07-14T01:11:30.098376Z",
     "iopub.status.idle": "2025-07-14T01:11:30.103087Z",
     "shell.execute_reply": "2025-07-14T01:11:30.102444Z"
    },
    "papermill": {
     "duration": 0.010156,
     "end_time": "2025-07-14T01:11:30.104190",
     "exception": false,
     "start_time": "2025-07-14T01:11:30.094034",
     "status": "completed"
    },
    "tags": []
   },
   "outputs": [
    {
     "data": {
      "text/plain": [
       "Index(['RecordID', 'Offense', 'IncidentID', 'BlockNumber', 'StreetName',\n",
       "       'Agency', 'DateReported', 'HourReported', 'ReportingOfficer'],\n",
       "      dtype='object')"
      ]
     },
     "execution_count": 4,
     "metadata": {},
     "output_type": "execute_result"
    }
   ],
   "source": [
    "df.columns"
   ]
  },
  {
   "cell_type": "code",
   "execution_count": 5,
   "id": "b3a3ea54",
   "metadata": {
    "execution": {
     "iopub.execute_input": "2025-07-14T01:11:30.113608Z",
     "iopub.status.busy": "2025-07-14T01:11:30.113004Z",
     "iopub.status.idle": "2025-07-14T01:11:30.139582Z",
     "shell.execute_reply": "2025-07-14T01:11:30.138935Z"
    },
    "papermill": {
     "duration": 0.032679,
     "end_time": "2025-07-14T01:11:30.140692",
     "exception": false,
     "start_time": "2025-07-14T01:11:30.108013",
     "status": "completed"
    },
    "tags": []
   },
   "outputs": [
    {
     "name": "stdout",
     "output_type": "stream",
     "text": [
      "<class 'pandas.core.frame.DataFrame'>\n",
      "RangeIndex: 25529 entries, 0 to 25528\n",
      "Data columns (total 9 columns):\n",
      " #   Column            Non-Null Count  Dtype \n",
      "---  ------            --------------  ----- \n",
      " 0   RecordID          25529 non-null  int64 \n",
      " 1   Offense           25529 non-null  object\n",
      " 2   IncidentID        25529 non-null  object\n",
      " 3   BlockNumber       25529 non-null  object\n",
      " 4   StreetName        25529 non-null  object\n",
      " 5   Agency            25529 non-null  object\n",
      " 6   DateReported      25529 non-null  int64 \n",
      " 7   HourReported      25529 non-null  object\n",
      " 8   ReportingOfficer  25512 non-null  object\n",
      "dtypes: int64(2), object(7)\n",
      "memory usage: 1.8+ MB\n"
     ]
    }
   ],
   "source": [
    "df.info()"
   ]
  },
  {
   "cell_type": "markdown",
   "id": "32b43edb",
   "metadata": {
    "papermill": {
     "duration": 0.003856,
     "end_time": "2025-07-14T01:11:30.148586",
     "exception": false,
     "start_time": "2025-07-14T01:11:30.144730",
     "status": "completed"
    },
    "tags": []
   },
   "source": [
    "### Missing Values"
   ]
  },
  {
   "cell_type": "code",
   "execution_count": 6,
   "id": "9060433e",
   "metadata": {
    "execution": {
     "iopub.execute_input": "2025-07-14T01:11:30.185184Z",
     "iopub.status.busy": "2025-07-14T01:11:30.184588Z",
     "iopub.status.idle": "2025-07-14T01:11:30.211421Z",
     "shell.execute_reply": "2025-07-14T01:11:30.210725Z"
    },
    "papermill": {
     "duration": 0.032753,
     "end_time": "2025-07-14T01:11:30.212510",
     "exception": false,
     "start_time": "2025-07-14T01:11:30.179757",
     "status": "completed"
    },
    "tags": []
   },
   "outputs": [
    {
     "name": "stdout",
     "output_type": "stream",
     "text": [
      "                  MissingCount  MissingPercentage\n",
      "RecordID                     0               0.00\n",
      "Offense                      0               0.00\n",
      "IncidentID                   0               0.00\n",
      "BlockNumber                  0               0.00\n",
      "StreetName                   0               0.00\n",
      "Agency                       0               0.00\n",
      "DateReported                 0               0.00\n",
      "HourReported                 0               0.00\n",
      "ReportingOfficer            17               0.07\n"
     ]
    }
   ],
   "source": [
    "def missing_percentage(df):\n",
    "    \"\"\"\n",
    "    Returns a DataFrame with the count and percentage of missing values for each column.\n",
    "    \n",
    "    Parameters:\n",
    "        df (pd.DataFrame): The input DataFrame.\n",
    "    \n",
    "    Returns:\n",
    "        pd.DataFrame: A DataFrame with columns 'MissingCount' and 'MissingPercentage'.\n",
    "    \"\"\"\n",
    "    total_rows = len(df)\n",
    "    missing_count = df.isnull().sum()\n",
    "    missing_percent = (missing_count / total_rows) * 100\n",
    "    \n",
    "    result = pd.DataFrame({\n",
    "        'MissingCount': missing_count,\n",
    "        'MissingPercentage': missing_percent.round(2)\n",
    "    })\n",
    "    \n",
    "    return result\n",
    "\n",
    "# Example usage:\n",
    "missing_info = missing_percentage(df)\n",
    "print(missing_info)\n"
   ]
  },
  {
   "cell_type": "markdown",
   "id": "3d1387f8",
   "metadata": {
    "papermill": {
     "duration": 0.003852,
     "end_time": "2025-07-14T01:11:30.220442",
     "exception": false,
     "start_time": "2025-07-14T01:11:30.216590",
     "status": "completed"
    },
    "tags": []
   },
   "source": [
    "## Data Preparation"
   ]
  },
  {
   "cell_type": "markdown",
   "id": "70fb17fc",
   "metadata": {
    "papermill": {
     "duration": 0.003947,
     "end_time": "2025-07-14T01:11:30.228224",
     "exception": false,
     "start_time": "2025-07-14T01:11:30.224277",
     "status": "completed"
    },
    "tags": []
   },
   "source": [
    "### Data Conversion"
   ]
  },
  {
   "cell_type": "code",
   "execution_count": 7,
   "id": "60088f55",
   "metadata": {
    "execution": {
     "iopub.execute_input": "2025-07-14T01:11:30.237498Z",
     "iopub.status.busy": "2025-07-14T01:11:30.236964Z",
     "iopub.status.idle": "2025-07-14T01:11:30.600208Z",
     "shell.execute_reply": "2025-07-14T01:11:30.599501Z"
    },
    "papermill": {
     "duration": 0.369027,
     "end_time": "2025-07-14T01:11:30.601198",
     "exception": false,
     "start_time": "2025-07-14T01:11:30.232171",
     "status": "completed"
    },
    "tags": []
   },
   "outputs": [
    {
     "data": {
      "text/html": [
       "<div>\n",
       "<style scoped>\n",
       "    .dataframe tbody tr th:only-of-type {\n",
       "        vertical-align: middle;\n",
       "    }\n",
       "\n",
       "    .dataframe tbody tr th {\n",
       "        vertical-align: top;\n",
       "    }\n",
       "\n",
       "    .dataframe thead th {\n",
       "        text-align: right;\n",
       "    }\n",
       "</style>\n",
       "<table border=\"1\" class=\"dataframe\">\n",
       "  <thead>\n",
       "    <tr style=\"text-align: right;\">\n",
       "      <th></th>\n",
       "      <th>RecordID</th>\n",
       "      <th>Offense</th>\n",
       "      <th>IncidentID</th>\n",
       "      <th>BlockNumber</th>\n",
       "      <th>StreetName</th>\n",
       "      <th>Agency</th>\n",
       "      <th>HourReported</th>\n",
       "      <th>ReportingOfficer</th>\n",
       "      <th>Date</th>\n",
       "      <th>DateString</th>\n",
       "      <th>DayOfWeek</th>\n",
       "      <th>Weekend</th>\n",
       "      <th>Season</th>\n",
       "      <th>HourAMPM</th>\n",
       "      <th>TimeOfDay</th>\n",
       "    </tr>\n",
       "  </thead>\n",
       "  <tbody>\n",
       "    <tr>\n",
       "      <th>0</th>\n",
       "      <td>1</td>\n",
       "      <td>Missing Person-juvenile</td>\n",
       "      <td>202500024337</td>\n",
       "      <td>1400</td>\n",
       "      <td>BAKER ST</td>\n",
       "      <td>CPD</td>\n",
       "      <td>0031</td>\n",
       "      <td>Troche, Nicholas</td>\n",
       "      <td>2025-07-12 00:31:11</td>\n",
       "      <td>2025-07-12 12:31:11 AM</td>\n",
       "      <td>Saturday</td>\n",
       "      <td>True</td>\n",
       "      <td>Summer</td>\n",
       "      <td>12:31 AM</td>\n",
       "      <td>Night</td>\n",
       "    </tr>\n",
       "    <tr>\n",
       "      <th>1</th>\n",
       "      <td>2</td>\n",
       "      <td>Drug Equipment Violation</td>\n",
       "      <td>202500024303</td>\n",
       "      <td>400</td>\n",
       "      <td>11TH ST NE, 11A</td>\n",
       "      <td>CPD</td>\n",
       "      <td>2149</td>\n",
       "      <td>Benbow, Lauren</td>\n",
       "      <td>2025-07-11 21:49:36</td>\n",
       "      <td>2025-07-11 09:49:36 PM</td>\n",
       "      <td>Friday</td>\n",
       "      <td>False</td>\n",
       "      <td>Summer</td>\n",
       "      <td>09:49 PM</td>\n",
       "      <td>Night</td>\n",
       "    </tr>\n",
       "    <tr>\n",
       "      <th>2</th>\n",
       "      <td>3</td>\n",
       "      <td>Larceny - Theft from Building</td>\n",
       "      <td>202500024244</td>\n",
       "      <td>1400</td>\n",
       "      <td>BAKER ST</td>\n",
       "      <td>CPD</td>\n",
       "      <td>1759</td>\n",
       "      <td>Darby, Michael</td>\n",
       "      <td>2025-07-11 17:59:07</td>\n",
       "      <td>2025-07-11 05:59:07 PM</td>\n",
       "      <td>Friday</td>\n",
       "      <td>False</td>\n",
       "      <td>Summer</td>\n",
       "      <td>05:59 PM</td>\n",
       "      <td>Evening</td>\n",
       "    </tr>\n",
       "    <tr>\n",
       "      <th>3</th>\n",
       "      <td>4</td>\n",
       "      <td>Burglary</td>\n",
       "      <td>202500024245</td>\n",
       "      <td>700</td>\n",
       "      <td>RIDGE ST</td>\n",
       "      <td>CPD</td>\n",
       "      <td>1758</td>\n",
       "      <td>Reed, Danielle</td>\n",
       "      <td>2025-07-11 17:58:59</td>\n",
       "      <td>2025-07-11 05:58:59 PM</td>\n",
       "      <td>Friday</td>\n",
       "      <td>False</td>\n",
       "      <td>Summer</td>\n",
       "      <td>05:58 PM</td>\n",
       "      <td>Evening</td>\n",
       "    </tr>\n",
       "    <tr>\n",
       "      <th>4</th>\n",
       "      <td>5</td>\n",
       "      <td>Misc - Criminal Call</td>\n",
       "      <td>202500024219</td>\n",
       "      <td></td>\n",
       "      <td>14TH ST NW / UNIVERSITY AVE</td>\n",
       "      <td>CPD</td>\n",
       "      <td>1603</td>\n",
       "      <td>Ritter, Kobe</td>\n",
       "      <td>2025-07-11 16:03:12</td>\n",
       "      <td>2025-07-11 04:03:12 PM</td>\n",
       "      <td>Friday</td>\n",
       "      <td>False</td>\n",
       "      <td>Summer</td>\n",
       "      <td>04:03 PM</td>\n",
       "      <td>Afternoon</td>\n",
       "    </tr>\n",
       "  </tbody>\n",
       "</table>\n",
       "</div>"
      ],
      "text/plain": [
       "   RecordID                        Offense    IncidentID BlockNumber  \\\n",
       "0         1        Missing Person-juvenile  202500024337        1400   \n",
       "1         2       Drug Equipment Violation  202500024303         400   \n",
       "2         3  Larceny - Theft from Building  202500024244        1400   \n",
       "3         4                       Burglary  202500024245         700   \n",
       "4         5           Misc - Criminal Call  202500024219               \n",
       "\n",
       "                    StreetName Agency HourReported  ReportingOfficer  \\\n",
       "0                     BAKER ST    CPD         0031  Troche, Nicholas   \n",
       "1              11TH ST NE, 11A    CPD         2149    Benbow, Lauren   \n",
       "2                     BAKER ST    CPD         1759    Darby, Michael   \n",
       "3                     RIDGE ST    CPD         1758    Reed, Danielle   \n",
       "4  14TH ST NW / UNIVERSITY AVE    CPD         1603      Ritter, Kobe   \n",
       "\n",
       "                 Date              DateString DayOfWeek  Weekend  Season  \\\n",
       "0 2025-07-12 00:31:11  2025-07-12 12:31:11 AM  Saturday     True  Summer   \n",
       "1 2025-07-11 21:49:36  2025-07-11 09:49:36 PM    Friday    False  Summer   \n",
       "2 2025-07-11 17:59:07  2025-07-11 05:59:07 PM    Friday    False  Summer   \n",
       "3 2025-07-11 17:58:59  2025-07-11 05:58:59 PM    Friday    False  Summer   \n",
       "4 2025-07-11 16:03:12  2025-07-11 04:03:12 PM    Friday    False  Summer   \n",
       "\n",
       "   HourAMPM  TimeOfDay  \n",
       "0  12:31 AM      Night  \n",
       "1  09:49 PM      Night  \n",
       "2  05:59 PM    Evening  \n",
       "3  05:58 PM    Evening  \n",
       "4  04:03 PM  Afternoon  "
      ]
     },
     "execution_count": 7,
     "metadata": {},
     "output_type": "execute_result"
    }
   ],
   "source": [
    "def convert_and_categorize_datereported(df, col='DateReported'):\n",
    "    \"\"\"\n",
    "    Converts an epoch (in milliseconds) date column into a timezone-aware datetime,\n",
    "    converts it to Eastern Time, and then creates columns for day-of-week, weekend flag,\n",
    "    season, 12-hour formatted time, and time-of-day. Keeps both a real datetime column\n",
    "    (Date) and a string representation (DateString).\n",
    "    \"\"\"\n",
    "    import pandas as pd\n",
    "\n",
    "    # Convert the epoch timestamp to a pandas datetime object as UTC, then convert to US/Eastern.\n",
    "    df[\"DateReported_dt\"] = (\n",
    "        pd.to_datetime(df[col], unit=\"ms\", errors=\"coerce\", utc=True)\n",
    "        .dt.tz_convert(\"US/Eastern\")\n",
    "    )\n",
    "    \n",
    "    # Create a true datetime column (remove timezone if you prefer naive datetime)\n",
    "    df[\"Date\"] = df[\"DateReported_dt\"].dt.tz_localize(None)\n",
    "\n",
    "    # Optionally, create a separate string-formatted column\n",
    "    df[\"DateString\"] = df[\"DateReported_dt\"].dt.strftime(\"%Y-%m-%d %I:%M:%S %p\")\n",
    "    \n",
    "    # DayOfWeek\n",
    "    df[\"DayOfWeek\"] = df[\"DateReported_dt\"].dt.day_name()\n",
    "    \n",
    "    # Weekend\n",
    "    df[\"Weekend\"] = df[\"DayOfWeek\"].isin([\"Saturday\", \"Sunday\"])\n",
    "    \n",
    "    # Helper function to determine the season\n",
    "    def get_season(dt):\n",
    "        month = dt.month\n",
    "        day = dt.day\n",
    "        # Approximate Northern Hemisphere season boundaries:\n",
    "        if (month == 12 and day >= 21) or (month < 3) or (month == 3 and day < 20):\n",
    "            return \"Winter\"\n",
    "        elif (month == 3 and day >= 20) or (month < 6) or (month == 6 and day < 21):\n",
    "            return \"Spring\"\n",
    "        elif (month == 6 and day >= 21) or (month < 9) or (month == 9 and day < 22):\n",
    "            return \"Summer\"\n",
    "        else:\n",
    "            return \"Autumn\"\n",
    "    \n",
    "    df[\"Season\"] = df[\"DateReported_dt\"].apply(get_season)\n",
    "    \n",
    "    # 12-hour formatted time (HourAMPM)\n",
    "    df[\"HourAMPM\"] = df[\"DateReported_dt\"].dt.strftime(\"%I:%M %p\")\n",
    "    \n",
    "    # Extract hour (0-23) for time-of-day\n",
    "    df[\"HourValue\"] = df[\"DateReported_dt\"].dt.hour\n",
    "    \n",
    "    def time_of_day(hour):\n",
    "        if pd.isnull(hour):\n",
    "            return None\n",
    "        if 5 <= hour < 12:\n",
    "            return \"Morning\"\n",
    "        elif 12 <= hour < 17:\n",
    "            return \"Afternoon\"\n",
    "        elif 17 <= hour < 21:\n",
    "            return \"Evening\"\n",
    "        else:\n",
    "            return \"Night\"\n",
    "    \n",
    "    df[\"TimeOfDay\"] = df[\"HourValue\"].apply(time_of_day)\n",
    "    \n",
    "    # Drop columns you no longer need\n",
    "    df.drop(columns=[col, \"DateReported_dt\", \"HourValue\"], inplace=True)\n",
    "    \n",
    "    return df\n",
    "\n",
    "# Example usage:\n",
    "df = convert_and_categorize_datereported(df)\n",
    "df.head()\n"
   ]
  },
  {
   "cell_type": "code",
   "execution_count": 8,
   "id": "d2c53e51",
   "metadata": {
    "execution": {
     "iopub.execute_input": "2025-07-14T01:11:30.610770Z",
     "iopub.status.busy": "2025-07-14T01:11:30.610300Z",
     "iopub.status.idle": "2025-07-14T01:11:30.640237Z",
     "shell.execute_reply": "2025-07-14T01:11:30.639702Z"
    },
    "papermill": {
     "duration": 0.035745,
     "end_time": "2025-07-14T01:11:30.641291",
     "exception": false,
     "start_time": "2025-07-14T01:11:30.605546",
     "status": "completed"
    },
    "tags": []
   },
   "outputs": [
    {
     "name": "stdout",
     "output_type": "stream",
     "text": [
      "<class 'pandas.core.frame.DataFrame'>\n",
      "RangeIndex: 25529 entries, 0 to 25528\n",
      "Data columns (total 15 columns):\n",
      " #   Column            Non-Null Count  Dtype         \n",
      "---  ------            --------------  -----         \n",
      " 0   RecordID          25529 non-null  int64         \n",
      " 1   Offense           25529 non-null  object        \n",
      " 2   IncidentID        25529 non-null  object        \n",
      " 3   BlockNumber       25529 non-null  object        \n",
      " 4   StreetName        25529 non-null  object        \n",
      " 5   Agency            25529 non-null  object        \n",
      " 6   HourReported      25529 non-null  object        \n",
      " 7   ReportingOfficer  25512 non-null  object        \n",
      " 8   Date              25529 non-null  datetime64[ns]\n",
      " 9   DateString        25529 non-null  object        \n",
      " 10  DayOfWeek         25529 non-null  object        \n",
      " 11  Weekend           25529 non-null  bool          \n",
      " 12  Season            25529 non-null  object        \n",
      " 13  HourAMPM          25529 non-null  object        \n",
      " 14  TimeOfDay         25529 non-null  object        \n",
      "dtypes: bool(1), datetime64[ns](1), int64(1), object(12)\n",
      "memory usage: 2.8+ MB\n"
     ]
    }
   ],
   "source": [
    "df.info()"
   ]
  },
  {
   "cell_type": "markdown",
   "id": "35824651",
   "metadata": {
    "papermill": {
     "duration": 0.004101,
     "end_time": "2025-07-14T01:11:30.649799",
     "exception": false,
     "start_time": "2025-07-14T01:11:30.645698",
     "status": "completed"
    },
    "tags": []
   },
   "source": [
    "### Coordinates"
   ]
  },
  {
   "cell_type": "code",
   "execution_count": 9,
   "id": "55f06ee4",
   "metadata": {
    "execution": {
     "iopub.execute_input": "2025-07-14T01:11:30.659642Z",
     "iopub.status.busy": "2025-07-14T01:11:30.659121Z",
     "iopub.status.idle": "2025-07-14T01:11:30.920058Z",
     "shell.execute_reply": "2025-07-14T01:11:30.919451Z"
    },
    "papermill": {
     "duration": 0.267034,
     "end_time": "2025-07-14T01:11:30.921141",
     "exception": false,
     "start_time": "2025-07-14T01:11:30.654107",
     "status": "completed"
    },
    "tags": []
   },
   "outputs": [
    {
     "name": "stdout",
     "output_type": "stream",
     "text": [
      "Loaded geocode cache.\n",
      "Error geocoding 400 11TH ST NE, 11A: REQUEST_DENIED (You must enable Billing on the Google Cloud Project at https://console.cloud.google.com/project/_/billing/enable Learn more at https://developers.google.com/maps/gmp-get-started)\n",
      "Geocoded 400 11TH ST NE, 11A: None, None\n"
     ]
    },
    {
     "name": "stdout",
     "output_type": "stream",
     "text": [
      "Error geocoding 500 RIDGE ST, 202: REQUEST_DENIED (You must enable Billing on the Google Cloud Project at https://console.cloud.google.com/project/_/billing/enable Learn more at https://developers.google.com/maps/gmp-get-started)\n",
      "Geocoded 500 RIDGE ST, 202: None, None\n"
     ]
    },
    {
     "name": "stdout",
     "output_type": "stream",
     "text": [
      "Error geocoding 200 STRIBLING AVE, Unit B: REQUEST_DENIED (You must enable Billing on the Google Cloud Project at https://console.cloud.google.com/project/_/billing/enable Learn more at https://developers.google.com/maps/gmp-get-started)\n",
      "Geocoded 200 STRIBLING AVE, Unit B: None, None\n",
      "Geocode cache updated and saved.\n"
     ]
    },
    {
     "data": {
      "text/html": [
       "<div>\n",
       "<style scoped>\n",
       "    .dataframe tbody tr th:only-of-type {\n",
       "        vertical-align: middle;\n",
       "    }\n",
       "\n",
       "    .dataframe tbody tr th {\n",
       "        vertical-align: top;\n",
       "    }\n",
       "\n",
       "    .dataframe thead th {\n",
       "        text-align: right;\n",
       "    }\n",
       "</style>\n",
       "<table border=\"1\" class=\"dataframe\">\n",
       "  <thead>\n",
       "    <tr style=\"text-align: right;\">\n",
       "      <th></th>\n",
       "      <th>RecordID</th>\n",
       "      <th>Offense</th>\n",
       "      <th>IncidentID</th>\n",
       "      <th>BlockNumber</th>\n",
       "      <th>StreetName</th>\n",
       "      <th>Agency</th>\n",
       "      <th>HourReported</th>\n",
       "      <th>ReportingOfficer</th>\n",
       "      <th>Date</th>\n",
       "      <th>DateString</th>\n",
       "      <th>DayOfWeek</th>\n",
       "      <th>Weekend</th>\n",
       "      <th>Season</th>\n",
       "      <th>HourAMPM</th>\n",
       "      <th>TimeOfDay</th>\n",
       "      <th>FullStreet</th>\n",
       "      <th>lat</th>\n",
       "      <th>lon</th>\n",
       "    </tr>\n",
       "  </thead>\n",
       "  <tbody>\n",
       "    <tr>\n",
       "      <th>0</th>\n",
       "      <td>1</td>\n",
       "      <td>Missing Person-juvenile</td>\n",
       "      <td>202500024337</td>\n",
       "      <td>1400</td>\n",
       "      <td>BAKER ST</td>\n",
       "      <td>CPD</td>\n",
       "      <td>0031</td>\n",
       "      <td>Troche, Nicholas</td>\n",
       "      <td>2025-07-12 00:31:11</td>\n",
       "      <td>2025-07-12 12:31:11 AM</td>\n",
       "      <td>Saturday</td>\n",
       "      <td>True</td>\n",
       "      <td>Summer</td>\n",
       "      <td>12:31 AM</td>\n",
       "      <td>Night</td>\n",
       "      <td>1400 BAKER ST</td>\n",
       "      <td>38.025760</td>\n",
       "      <td>-78.502157</td>\n",
       "    </tr>\n",
       "    <tr>\n",
       "      <th>1</th>\n",
       "      <td>2</td>\n",
       "      <td>Drug Equipment Violation</td>\n",
       "      <td>202500024303</td>\n",
       "      <td>400</td>\n",
       "      <td>11TH ST NE, 11A</td>\n",
       "      <td>CPD</td>\n",
       "      <td>2149</td>\n",
       "      <td>Benbow, Lauren</td>\n",
       "      <td>2025-07-11 21:49:36</td>\n",
       "      <td>2025-07-11 09:49:36 PM</td>\n",
       "      <td>Friday</td>\n",
       "      <td>False</td>\n",
       "      <td>Summer</td>\n",
       "      <td>09:49 PM</td>\n",
       "      <td>Night</td>\n",
       "      <td>400 11TH ST NE, 11A</td>\n",
       "      <td>NaN</td>\n",
       "      <td>NaN</td>\n",
       "    </tr>\n",
       "    <tr>\n",
       "      <th>2</th>\n",
       "      <td>3</td>\n",
       "      <td>Larceny - Theft from Building</td>\n",
       "      <td>202500024244</td>\n",
       "      <td>1400</td>\n",
       "      <td>BAKER ST</td>\n",
       "      <td>CPD</td>\n",
       "      <td>1759</td>\n",
       "      <td>Darby, Michael</td>\n",
       "      <td>2025-07-11 17:59:07</td>\n",
       "      <td>2025-07-11 05:59:07 PM</td>\n",
       "      <td>Friday</td>\n",
       "      <td>False</td>\n",
       "      <td>Summer</td>\n",
       "      <td>05:59 PM</td>\n",
       "      <td>Evening</td>\n",
       "      <td>1400 BAKER ST</td>\n",
       "      <td>38.025760</td>\n",
       "      <td>-78.502157</td>\n",
       "    </tr>\n",
       "    <tr>\n",
       "      <th>3</th>\n",
       "      <td>4</td>\n",
       "      <td>Burglary</td>\n",
       "      <td>202500024245</td>\n",
       "      <td>700</td>\n",
       "      <td>RIDGE ST</td>\n",
       "      <td>CPD</td>\n",
       "      <td>1758</td>\n",
       "      <td>Reed, Danielle</td>\n",
       "      <td>2025-07-11 17:58:59</td>\n",
       "      <td>2025-07-11 05:58:59 PM</td>\n",
       "      <td>Friday</td>\n",
       "      <td>False</td>\n",
       "      <td>Summer</td>\n",
       "      <td>05:58 PM</td>\n",
       "      <td>Evening</td>\n",
       "      <td>700 RIDGE ST</td>\n",
       "      <td>38.024520</td>\n",
       "      <td>-78.489852</td>\n",
       "    </tr>\n",
       "    <tr>\n",
       "      <th>4</th>\n",
       "      <td>5</td>\n",
       "      <td>Misc - Criminal Call</td>\n",
       "      <td>202500024219</td>\n",
       "      <td></td>\n",
       "      <td>14TH ST NW / UNIVERSITY AVE</td>\n",
       "      <td>CPD</td>\n",
       "      <td>1603</td>\n",
       "      <td>Ritter, Kobe</td>\n",
       "      <td>2025-07-11 16:03:12</td>\n",
       "      <td>2025-07-11 04:03:12 PM</td>\n",
       "      <td>Friday</td>\n",
       "      <td>False</td>\n",
       "      <td>Summer</td>\n",
       "      <td>04:03 PM</td>\n",
       "      <td>Afternoon</td>\n",
       "      <td>14TH ST NW / UNIVERSITY AVE</td>\n",
       "      <td>38.034042</td>\n",
       "      <td>-78.499591</td>\n",
       "    </tr>\n",
       "  </tbody>\n",
       "</table>\n",
       "</div>"
      ],
      "text/plain": [
       "   RecordID                        Offense    IncidentID BlockNumber  \\\n",
       "0         1        Missing Person-juvenile  202500024337        1400   \n",
       "1         2       Drug Equipment Violation  202500024303         400   \n",
       "2         3  Larceny - Theft from Building  202500024244        1400   \n",
       "3         4                       Burglary  202500024245         700   \n",
       "4         5           Misc - Criminal Call  202500024219               \n",
       "\n",
       "                    StreetName Agency HourReported  ReportingOfficer  \\\n",
       "0                     BAKER ST    CPD         0031  Troche, Nicholas   \n",
       "1              11TH ST NE, 11A    CPD         2149    Benbow, Lauren   \n",
       "2                     BAKER ST    CPD         1759    Darby, Michael   \n",
       "3                     RIDGE ST    CPD         1758    Reed, Danielle   \n",
       "4  14TH ST NW / UNIVERSITY AVE    CPD         1603      Ritter, Kobe   \n",
       "\n",
       "                 Date              DateString DayOfWeek  Weekend  Season  \\\n",
       "0 2025-07-12 00:31:11  2025-07-12 12:31:11 AM  Saturday     True  Summer   \n",
       "1 2025-07-11 21:49:36  2025-07-11 09:49:36 PM    Friday    False  Summer   \n",
       "2 2025-07-11 17:59:07  2025-07-11 05:59:07 PM    Friday    False  Summer   \n",
       "3 2025-07-11 17:58:59  2025-07-11 05:58:59 PM    Friday    False  Summer   \n",
       "4 2025-07-11 16:03:12  2025-07-11 04:03:12 PM    Friday    False  Summer   \n",
       "\n",
       "   HourAMPM  TimeOfDay                    FullStreet        lat        lon  \n",
       "0  12:31 AM      Night                 1400 BAKER ST  38.025760 -78.502157  \n",
       "1  09:49 PM      Night           400 11TH ST NE, 11A        NaN        NaN  \n",
       "2  05:59 PM    Evening                 1400 BAKER ST  38.025760 -78.502157  \n",
       "3  05:58 PM    Evening                  700 RIDGE ST  38.024520 -78.489852  \n",
       "4  04:03 PM  Afternoon   14TH ST NW / UNIVERSITY AVE  38.034042 -78.499591  "
      ]
     },
     "execution_count": 9,
     "metadata": {},
     "output_type": "execute_result"
    }
   ],
   "source": [
    "# Combine BlockNumber and StreetName into a full address string\n",
    "df['FullStreet'] = df['BlockNumber'].astype(str) + \" \" + df['StreetName']\n",
    "\n",
    "# --- Step 1: Setup the Google Maps Client and Cache ---\n",
    "gmaps = googlemaps.Client(key=GOOGLE_API_KEY)\n",
    "\n",
    "# Try to load cached geocoding results if available.\n",
    "try:\n",
    "    with open(\"geocode_cache_google.pkl\", \"rb\") as f:\n",
    "        street_coords = pickle.load(f)\n",
    "    print(\"Loaded geocode cache.\")\n",
    "except FileNotFoundError:\n",
    "    street_coords = {}\n",
    "    print(\"No cache found; starting fresh.\")\n",
    "\n",
    "def geocode_address(address):\n",
    "    try:\n",
    "        # Append city and state to help geocoding\n",
    "        result = gmaps.geocode(f\"{address}, Charlottesville, VA\")\n",
    "        if result:\n",
    "            lat = result[0]['geometry']['location']['lat']\n",
    "            lon = result[0]['geometry']['location']['lng']\n",
    "            return lat, lon\n",
    "    except Exception as e:\n",
    "        print(f\"Error geocoding {address}: {e}\")\n",
    "    return None, None\n",
    "\n",
    "# --- Step 2: Geocode Only New Addresses ---\n",
    "unique_addresses = df['FullStreet'].unique()\n",
    "for address in unique_addresses:\n",
    "    if address not in street_coords:\n",
    "        lat, lon = geocode_address(address)\n",
    "        street_coords[address] = (lat, lon)\n",
    "        print(f\"Geocoded {address}: {lat}, {lon}\")\n",
    "\n",
    "# Save the updated cache to disk.\n",
    "with open(\"geocode_cache_google.pkl\", \"wb\") as f:\n",
    "    pickle.dump(street_coords, f)\n",
    "    print(\"Geocode cache updated and saved.\")\n",
    "\n",
    "# --- Step 3: Map Coordinates Back to DataFrame ---\n",
    "df['lat'] = df['FullStreet'].map(lambda s: street_coords.get(s, (None, None))[0])\n",
    "df['lon'] = df['FullStreet'].map(lambda s: street_coords.get(s, (None, None))[1])\n",
    "\n",
    "df.head()"
   ]
  },
  {
   "cell_type": "markdown",
   "id": "e82b75d3",
   "metadata": {
    "papermill": {
     "duration": 0.004551,
     "end_time": "2025-07-14T01:11:30.930544",
     "exception": false,
     "start_time": "2025-07-14T01:11:30.925993",
     "status": "completed"
    },
    "tags": []
   },
   "source": [
    "### Neighborhood"
   ]
  },
  {
   "cell_type": "code",
   "execution_count": 10,
   "id": "e99bfaba",
   "metadata": {
    "execution": {
     "iopub.execute_input": "2025-07-14T01:11:30.940884Z",
     "iopub.status.busy": "2025-07-14T01:11:30.940356Z",
     "iopub.status.idle": "2025-07-14T01:11:32.603810Z",
     "shell.execute_reply": "2025-07-14T01:11:32.603206Z"
    },
    "papermill": {
     "duration": 1.669796,
     "end_time": "2025-07-14T01:11:32.604817",
     "exception": false,
     "start_time": "2025-07-14T01:11:30.935021",
     "status": "completed"
    },
    "tags": []
   },
   "outputs": [
    {
     "name": "stdout",
     "output_type": "stream",
     "text": [
      "Loaded neighborhood cache.\n"
     ]
    },
    {
     "name": "stdout",
     "output_type": "stream",
     "text": [
      "Error getting neighborhood for nan, nan: HTTP Error: 400\n"
     ]
    },
    {
     "name": "stdout",
     "output_type": "stream",
     "text": [
      "Error getting neighborhood for nan, nan: HTTP Error: 400\n",
      "Error getting neighborhood for nan, nan: HTTP Error: 400\n"
     ]
    },
    {
     "name": "stdout",
     "output_type": "stream",
     "text": [
      "Error getting neighborhood for nan, nan: HTTP Error: 400\n",
      "Error getting neighborhood for nan, nan: HTTP Error: 400\n",
      "Error getting neighborhood for nan, nan: HTTP Error: 400\n",
      "Error getting neighborhood for nan, nan: HTTP Error: 400\n"
     ]
    },
    {
     "name": "stdout",
     "output_type": "stream",
     "text": [
      "Error getting neighborhood for nan, nan: HTTP Error: 400\n"
     ]
    },
    {
     "name": "stdout",
     "output_type": "stream",
     "text": [
      "Error getting neighborhood for nan, nan: HTTP Error: 400\n",
      "Error getting neighborhood for nan, nan: HTTP Error: 400\n"
     ]
    },
    {
     "name": "stdout",
     "output_type": "stream",
     "text": [
      "Error getting neighborhood for nan, nan: HTTP Error: 400\n",
      "Error getting neighborhood for nan, nan: HTTP Error: 400\n",
      "Error getting neighborhood for nan, nan: HTTP Error: 400\n",
      "Error getting neighborhood for nan, nan: HTTP Error: 400\n",
      "Error getting neighborhood for nan, nan: HTTP Error: 400\n"
     ]
    },
    {
     "name": "stdout",
     "output_type": "stream",
     "text": [
      "Error getting neighborhood for nan, nan: HTTP Error: 400\n",
      "Error getting neighborhood for nan, nan: HTTP Error: 400\n"
     ]
    },
    {
     "name": "stdout",
     "output_type": "stream",
     "text": [
      "Error getting neighborhood for nan, nan: HTTP Error: 400\n",
      "Error getting neighborhood for nan, nan: HTTP Error: 400\n"
     ]
    },
    {
     "name": "stdout",
     "output_type": "stream",
     "text": [
      "Error getting neighborhood for nan, nan: HTTP Error: 400\n",
      "Error getting neighborhood for nan, nan: HTTP Error: 400\n",
      "Error getting neighborhood for nan, nan: HTTP Error: 400\n",
      "Error getting neighborhood for nan, nan: HTTP Error: 400\n",
      "Error getting neighborhood for nan, nan: HTTP Error: 400\n"
     ]
    },
    {
     "name": "stdout",
     "output_type": "stream",
     "text": [
      "Error getting neighborhood for nan, nan: HTTP Error: 400\n",
      "Error getting neighborhood for nan, nan: HTTP Error: 400\n"
     ]
    },
    {
     "name": "stdout",
     "output_type": "stream",
     "text": [
      "Error getting neighborhood for nan, nan: HTTP Error: 400\n",
      "Error getting neighborhood for nan, nan: HTTP Error: 400\n"
     ]
    },
    {
     "name": "stdout",
     "output_type": "stream",
     "text": [
      "Error getting neighborhood for nan, nan: HTTP Error: 400\n",
      "Error getting neighborhood for nan, nan: HTTP Error: 400\n",
      "Error getting neighborhood for nan, nan: HTTP Error: 400\n",
      "Error getting neighborhood for nan, nan: HTTP Error: 400\n",
      "Error getting neighborhood for nan, nan: HTTP Error: 400\n"
     ]
    },
    {
     "name": "stdout",
     "output_type": "stream",
     "text": [
      "Error getting neighborhood for nan, nan: HTTP Error: 400\n",
      "Error getting neighborhood for nan, nan: HTTP Error: 400\n"
     ]
    },
    {
     "name": "stdout",
     "output_type": "stream",
     "text": [
      "Error getting neighborhood for nan, nan: HTTP Error: 400\n",
      "Error getting neighborhood for nan, nan: HTTP Error: 400\n"
     ]
    },
    {
     "name": "stdout",
     "output_type": "stream",
     "text": [
      "Error getting neighborhood for nan, nan: HTTP Error: 400\n",
      "Error getting neighborhood for nan, nan: HTTP Error: 400\n",
      "Error getting neighborhood for nan, nan: HTTP Error: 400\n",
      "Error getting neighborhood for nan, nan: HTTP Error: 400\n",
      "Error getting neighborhood for nan, nan: HTTP Error: 400\n"
     ]
    },
    {
     "name": "stdout",
     "output_type": "stream",
     "text": [
      "Error getting neighborhood for nan, nan: HTTP Error: 400\n",
      "Error getting neighborhood for nan, nan: HTTP Error: 400\n"
     ]
    },
    {
     "name": "stdout",
     "output_type": "stream",
     "text": [
      "Error getting neighborhood for nan, nan: HTTP Error: 400\n",
      "Error getting neighborhood for nan, nan: HTTP Error: 400\n"
     ]
    },
    {
     "name": "stdout",
     "output_type": "stream",
     "text": [
      "Error getting neighborhood for nan, nan: HTTP Error: 400\n",
      "Error getting neighborhood for nan, nan: HTTP Error: 400\n",
      "Error getting neighborhood for nan, nan: HTTP Error: 400\n",
      "Error getting neighborhood for nan, nan: HTTP Error: 400\n",
      "Error getting neighborhood for nan, nan: HTTP Error: 400\n"
     ]
    },
    {
     "name": "stdout",
     "output_type": "stream",
     "text": [
      "Error getting neighborhood for nan, nan: HTTP Error: 400\n",
      "Error getting neighborhood for nan, nan: HTTP Error: 400\n"
     ]
    },
    {
     "data": {
      "text/html": [
       "<div>\n",
       "<style scoped>\n",
       "    .dataframe tbody tr th:only-of-type {\n",
       "        vertical-align: middle;\n",
       "    }\n",
       "\n",
       "    .dataframe tbody tr th {\n",
       "        vertical-align: top;\n",
       "    }\n",
       "\n",
       "    .dataframe thead th {\n",
       "        text-align: right;\n",
       "    }\n",
       "</style>\n",
       "<table border=\"1\" class=\"dataframe\">\n",
       "  <thead>\n",
       "    <tr style=\"text-align: right;\">\n",
       "      <th></th>\n",
       "      <th>RecordID</th>\n",
       "      <th>Offense</th>\n",
       "      <th>IncidentID</th>\n",
       "      <th>BlockNumber</th>\n",
       "      <th>StreetName</th>\n",
       "      <th>Agency</th>\n",
       "      <th>HourReported</th>\n",
       "      <th>ReportingOfficer</th>\n",
       "      <th>Date</th>\n",
       "      <th>DateString</th>\n",
       "      <th>DayOfWeek</th>\n",
       "      <th>Weekend</th>\n",
       "      <th>Season</th>\n",
       "      <th>HourAMPM</th>\n",
       "      <th>TimeOfDay</th>\n",
       "      <th>FullStreet</th>\n",
       "      <th>lat</th>\n",
       "      <th>lon</th>\n",
       "      <th>neighborhood</th>\n",
       "    </tr>\n",
       "  </thead>\n",
       "  <tbody>\n",
       "    <tr>\n",
       "      <th>0</th>\n",
       "      <td>1</td>\n",
       "      <td>Missing Person-juvenile</td>\n",
       "      <td>202500024337</td>\n",
       "      <td>1400</td>\n",
       "      <td>BAKER ST</td>\n",
       "      <td>CPD</td>\n",
       "      <td>0031</td>\n",
       "      <td>Troche, Nicholas</td>\n",
       "      <td>2025-07-12 00:31:11</td>\n",
       "      <td>2025-07-12 12:31:11 AM</td>\n",
       "      <td>Saturday</td>\n",
       "      <td>True</td>\n",
       "      <td>Summer</td>\n",
       "      <td>12:31 AM</td>\n",
       "      <td>Night</td>\n",
       "      <td>1400 BAKER ST</td>\n",
       "      <td>38.025760</td>\n",
       "      <td>-78.502157</td>\n",
       "      <td>Fifeville</td>\n",
       "    </tr>\n",
       "    <tr>\n",
       "      <th>1</th>\n",
       "      <td>2</td>\n",
       "      <td>Drug Equipment Violation</td>\n",
       "      <td>202500024303</td>\n",
       "      <td>400</td>\n",
       "      <td>11TH ST NE, 11A</td>\n",
       "      <td>CPD</td>\n",
       "      <td>2149</td>\n",
       "      <td>Benbow, Lauren</td>\n",
       "      <td>2025-07-11 21:49:36</td>\n",
       "      <td>2025-07-11 09:49:36 PM</td>\n",
       "      <td>Friday</td>\n",
       "      <td>False</td>\n",
       "      <td>Summer</td>\n",
       "      <td>09:49 PM</td>\n",
       "      <td>Night</td>\n",
       "      <td>400 11TH ST NE, 11A</td>\n",
       "      <td>NaN</td>\n",
       "      <td>NaN</td>\n",
       "      <td>N/A</td>\n",
       "    </tr>\n",
       "    <tr>\n",
       "      <th>2</th>\n",
       "      <td>3</td>\n",
       "      <td>Larceny - Theft from Building</td>\n",
       "      <td>202500024244</td>\n",
       "      <td>1400</td>\n",
       "      <td>BAKER ST</td>\n",
       "      <td>CPD</td>\n",
       "      <td>1759</td>\n",
       "      <td>Darby, Michael</td>\n",
       "      <td>2025-07-11 17:59:07</td>\n",
       "      <td>2025-07-11 05:59:07 PM</td>\n",
       "      <td>Friday</td>\n",
       "      <td>False</td>\n",
       "      <td>Summer</td>\n",
       "      <td>05:59 PM</td>\n",
       "      <td>Evening</td>\n",
       "      <td>1400 BAKER ST</td>\n",
       "      <td>38.025760</td>\n",
       "      <td>-78.502157</td>\n",
       "      <td>Fifeville</td>\n",
       "    </tr>\n",
       "    <tr>\n",
       "      <th>3</th>\n",
       "      <td>4</td>\n",
       "      <td>Burglary</td>\n",
       "      <td>202500024245</td>\n",
       "      <td>700</td>\n",
       "      <td>RIDGE ST</td>\n",
       "      <td>CPD</td>\n",
       "      <td>1758</td>\n",
       "      <td>Reed, Danielle</td>\n",
       "      <td>2025-07-11 17:58:59</td>\n",
       "      <td>2025-07-11 05:58:59 PM</td>\n",
       "      <td>Friday</td>\n",
       "      <td>False</td>\n",
       "      <td>Summer</td>\n",
       "      <td>05:58 PM</td>\n",
       "      <td>Evening</td>\n",
       "      <td>700 RIDGE ST</td>\n",
       "      <td>38.024520</td>\n",
       "      <td>-78.489852</td>\n",
       "      <td>Ridge St.</td>\n",
       "    </tr>\n",
       "    <tr>\n",
       "      <th>4</th>\n",
       "      <td>5</td>\n",
       "      <td>Misc - Criminal Call</td>\n",
       "      <td>202500024219</td>\n",
       "      <td></td>\n",
       "      <td>14TH ST NW / UNIVERSITY AVE</td>\n",
       "      <td>CPD</td>\n",
       "      <td>1603</td>\n",
       "      <td>Ritter, Kobe</td>\n",
       "      <td>2025-07-11 16:03:12</td>\n",
       "      <td>2025-07-11 04:03:12 PM</td>\n",
       "      <td>Friday</td>\n",
       "      <td>False</td>\n",
       "      <td>Summer</td>\n",
       "      <td>04:03 PM</td>\n",
       "      <td>Afternoon</td>\n",
       "      <td>14TH ST NW / UNIVERSITY AVE</td>\n",
       "      <td>38.034042</td>\n",
       "      <td>-78.499591</td>\n",
       "      <td>Venable</td>\n",
       "    </tr>\n",
       "  </tbody>\n",
       "</table>\n",
       "</div>"
      ],
      "text/plain": [
       "   RecordID                        Offense    IncidentID BlockNumber  \\\n",
       "0         1        Missing Person-juvenile  202500024337        1400   \n",
       "1         2       Drug Equipment Violation  202500024303         400   \n",
       "2         3  Larceny - Theft from Building  202500024244        1400   \n",
       "3         4                       Burglary  202500024245         700   \n",
       "4         5           Misc - Criminal Call  202500024219               \n",
       "\n",
       "                    StreetName Agency HourReported  ReportingOfficer  \\\n",
       "0                     BAKER ST    CPD         0031  Troche, Nicholas   \n",
       "1              11TH ST NE, 11A    CPD         2149    Benbow, Lauren   \n",
       "2                     BAKER ST    CPD         1759    Darby, Michael   \n",
       "3                     RIDGE ST    CPD         1758    Reed, Danielle   \n",
       "4  14TH ST NW / UNIVERSITY AVE    CPD         1603      Ritter, Kobe   \n",
       "\n",
       "                 Date              DateString DayOfWeek  Weekend  Season  \\\n",
       "0 2025-07-12 00:31:11  2025-07-12 12:31:11 AM  Saturday     True  Summer   \n",
       "1 2025-07-11 21:49:36  2025-07-11 09:49:36 PM    Friday    False  Summer   \n",
       "2 2025-07-11 17:59:07  2025-07-11 05:59:07 PM    Friday    False  Summer   \n",
       "3 2025-07-11 17:58:59  2025-07-11 05:58:59 PM    Friday    False  Summer   \n",
       "4 2025-07-11 16:03:12  2025-07-11 04:03:12 PM    Friday    False  Summer   \n",
       "\n",
       "   HourAMPM  TimeOfDay                    FullStreet        lat        lon  \\\n",
       "0  12:31 AM      Night                 1400 BAKER ST  38.025760 -78.502157   \n",
       "1  09:49 PM      Night           400 11TH ST NE, 11A        NaN        NaN   \n",
       "2  05:59 PM    Evening                 1400 BAKER ST  38.025760 -78.502157   \n",
       "3  05:58 PM    Evening                  700 RIDGE ST  38.024520 -78.489852   \n",
       "4  04:03 PM  Afternoon   14TH ST NW / UNIVERSITY AVE  38.034042 -78.499591   \n",
       "\n",
       "  neighborhood  \n",
       "0    Fifeville  \n",
       "1          N/A  \n",
       "2    Fifeville  \n",
       "3    Ridge St.  \n",
       "4      Venable  "
      ]
     },
     "execution_count": 10,
     "metadata": {},
     "output_type": "execute_result"
    }
   ],
   "source": [
    "# Initialize the Google Maps client.\n",
    "gmaps = googlemaps.Client(key=GOOGLE_API_KEY)\n",
    "\n",
    "# Try to load a persistent neighborhood cache if available.\n",
    "try:\n",
    "    with open(\"neighborhood_cache.pkl\", \"rb\") as f:\n",
    "        neighborhood_cache = pickle.load(f)\n",
    "    print(\"Loaded neighborhood cache.\")\n",
    "except FileNotFoundError:\n",
    "    neighborhood_cache = {}\n",
    "    print(\"No neighborhood cache found; starting fresh.\")\n",
    "\n",
    "def get_neighborhood(lat, lon):\n",
    "    \"\"\"\n",
    "    Reverse geocodes a latitude and longitude to retrieve the neighborhood.\n",
    "    Caches results to speed up subsequent lookups.\n",
    "    \"\"\"\n",
    "    key = (lat, lon)\n",
    "    if key in neighborhood_cache:\n",
    "        return neighborhood_cache[key]\n",
    "    \n",
    "    try:\n",
    "        result = gmaps.reverse_geocode((lat, lon))\n",
    "        if result:\n",
    "            # Look for the 'neighborhood' component in the first result.\n",
    "            for component in result[0]['address_components']:\n",
    "                if 'neighborhood' in component['types']:\n",
    "                    neighborhood = component['long_name']\n",
    "                    neighborhood_cache[key] = neighborhood\n",
    "                    return neighborhood\n",
    "            # If no neighborhood is found, return \"N/A\"\n",
    "            neighborhood_cache[key] = \"N/A\"\n",
    "            return \"N/A\"\n",
    "    except Exception as e:\n",
    "        print(f\"Error getting neighborhood for {lat}, {lon}: {e}\")\n",
    "        return \"N/A\"\n",
    "    \n",
    "    # Pause to respect usage limits.\n",
    "    time.sleep(1)\n",
    "\n",
    "# Example usage: Apply to your DataFrame 'df' that already has 'lat' and 'lon' columns.\n",
    "df['neighborhood'] = df.apply(lambda row: get_neighborhood(row['lat'], row['lon']), axis=1)\n",
    "\n",
    "# Save the updated neighborhood cache.\n",
    "with open(\"neighborhood_cache.pkl\", \"wb\") as f:\n",
    "    pickle.dump(neighborhood_cache, f)\n",
    "\n",
    "df.head()\n"
   ]
  },
  {
   "cell_type": "markdown",
   "id": "b8107739",
   "metadata": {
    "papermill": {
     "duration": 0.005514,
     "end_time": "2025-07-14T01:11:32.616324",
     "exception": false,
     "start_time": "2025-07-14T01:11:32.610810",
     "status": "completed"
    },
    "tags": []
   },
   "source": [
    "### Zip"
   ]
  },
  {
   "cell_type": "code",
   "execution_count": 11,
   "id": "4064f52a",
   "metadata": {
    "execution": {
     "iopub.execute_input": "2025-07-14T01:11:32.628865Z",
     "iopub.status.busy": "2025-07-14T01:11:32.628348Z",
     "iopub.status.idle": "2025-07-14T01:12:25.967424Z",
     "shell.execute_reply": "2025-07-14T01:12:25.966837Z"
    },
    "papermill": {
     "duration": 53.346633,
     "end_time": "2025-07-14T01:12:25.968501",
     "exception": false,
     "start_time": "2025-07-14T01:11:32.621868",
     "status": "completed"
    },
    "tags": []
   },
   "outputs": [
    {
     "name": "stdout",
     "output_type": "stream",
     "text": [
      "Loaded zip cache.\n",
      "Error getting ZIP for nan, nan: Must be a coordinate pair or Point\n"
     ]
    },
    {
     "name": "stdout",
     "output_type": "stream",
     "text": [
      "Error getting ZIP for nan, nan: Must be a coordinate pair or Point\n"
     ]
    },
    {
     "name": "stdout",
     "output_type": "stream",
     "text": [
      "Error getting ZIP for nan, nan: Must be a coordinate pair or Point\n"
     ]
    },
    {
     "name": "stdout",
     "output_type": "stream",
     "text": [
      "Error getting ZIP for nan, nan: Must be a coordinate pair or Point\n"
     ]
    },
    {
     "name": "stdout",
     "output_type": "stream",
     "text": [
      "Error getting ZIP for nan, nan: Must be a coordinate pair or Point\n"
     ]
    },
    {
     "name": "stdout",
     "output_type": "stream",
     "text": [
      "Error getting ZIP for nan, nan: Must be a coordinate pair or Point\n"
     ]
    },
    {
     "name": "stdout",
     "output_type": "stream",
     "text": [
      "Error getting ZIP for nan, nan: Must be a coordinate pair or Point\n"
     ]
    },
    {
     "name": "stdout",
     "output_type": "stream",
     "text": [
      "Error getting ZIP for nan, nan: Must be a coordinate pair or Point\n"
     ]
    },
    {
     "name": "stdout",
     "output_type": "stream",
     "text": [
      "Error getting ZIP for nan, nan: Must be a coordinate pair or Point\n"
     ]
    },
    {
     "name": "stdout",
     "output_type": "stream",
     "text": [
      "Error getting ZIP for nan, nan: Must be a coordinate pair or Point\n"
     ]
    },
    {
     "name": "stdout",
     "output_type": "stream",
     "text": [
      "Error getting ZIP for nan, nan: Must be a coordinate pair or Point\n"
     ]
    },
    {
     "name": "stdout",
     "output_type": "stream",
     "text": [
      "Error getting ZIP for nan, nan: Must be a coordinate pair or Point\n"
     ]
    },
    {
     "name": "stdout",
     "output_type": "stream",
     "text": [
      "Error getting ZIP for nan, nan: Must be a coordinate pair or Point\n"
     ]
    },
    {
     "name": "stdout",
     "output_type": "stream",
     "text": [
      "Error getting ZIP for nan, nan: Must be a coordinate pair or Point\n"
     ]
    },
    {
     "name": "stdout",
     "output_type": "stream",
     "text": [
      "Error getting ZIP for nan, nan: Must be a coordinate pair or Point\n"
     ]
    },
    {
     "name": "stdout",
     "output_type": "stream",
     "text": [
      "Error getting ZIP for nan, nan: Must be a coordinate pair or Point\n"
     ]
    },
    {
     "name": "stdout",
     "output_type": "stream",
     "text": [
      "Error getting ZIP for nan, nan: Must be a coordinate pair or Point\n"
     ]
    },
    {
     "name": "stdout",
     "output_type": "stream",
     "text": [
      "Error getting ZIP for nan, nan: Must be a coordinate pair or Point\n"
     ]
    },
    {
     "name": "stdout",
     "output_type": "stream",
     "text": [
      "Error getting ZIP for nan, nan: Must be a coordinate pair or Point\n"
     ]
    },
    {
     "name": "stdout",
     "output_type": "stream",
     "text": [
      "Error getting ZIP for nan, nan: Must be a coordinate pair or Point\n"
     ]
    },
    {
     "name": "stdout",
     "output_type": "stream",
     "text": [
      "Error getting ZIP for nan, nan: Must be a coordinate pair or Point\n"
     ]
    },
    {
     "name": "stdout",
     "output_type": "stream",
     "text": [
      "Error getting ZIP for nan, nan: Must be a coordinate pair or Point\n"
     ]
    },
    {
     "name": "stdout",
     "output_type": "stream",
     "text": [
      "Error getting ZIP for nan, nan: Must be a coordinate pair or Point\n"
     ]
    },
    {
     "name": "stdout",
     "output_type": "stream",
     "text": [
      "Error getting ZIP for nan, nan: Must be a coordinate pair or Point\n"
     ]
    },
    {
     "name": "stdout",
     "output_type": "stream",
     "text": [
      "Error getting ZIP for nan, nan: Must be a coordinate pair or Point\n"
     ]
    },
    {
     "name": "stdout",
     "output_type": "stream",
     "text": [
      "Error getting ZIP for nan, nan: Must be a coordinate pair or Point\n"
     ]
    },
    {
     "name": "stdout",
     "output_type": "stream",
     "text": [
      "Error getting ZIP for nan, nan: Must be a coordinate pair or Point\n"
     ]
    },
    {
     "name": "stdout",
     "output_type": "stream",
     "text": [
      "Error getting ZIP for nan, nan: Must be a coordinate pair or Point\n"
     ]
    },
    {
     "name": "stdout",
     "output_type": "stream",
     "text": [
      "Error getting ZIP for nan, nan: Must be a coordinate pair or Point\n"
     ]
    },
    {
     "name": "stdout",
     "output_type": "stream",
     "text": [
      "Error getting ZIP for nan, nan: Must be a coordinate pair or Point\n"
     ]
    },
    {
     "name": "stdout",
     "output_type": "stream",
     "text": [
      "Error getting ZIP for nan, nan: Must be a coordinate pair or Point\n"
     ]
    },
    {
     "name": "stdout",
     "output_type": "stream",
     "text": [
      "Error getting ZIP for nan, nan: Must be a coordinate pair or Point\n"
     ]
    },
    {
     "name": "stdout",
     "output_type": "stream",
     "text": [
      "Error getting ZIP for nan, nan: Must be a coordinate pair or Point\n"
     ]
    },
    {
     "name": "stdout",
     "output_type": "stream",
     "text": [
      "Error getting ZIP for nan, nan: Must be a coordinate pair or Point\n"
     ]
    },
    {
     "name": "stdout",
     "output_type": "stream",
     "text": [
      "Error getting ZIP for nan, nan: Must be a coordinate pair or Point\n"
     ]
    },
    {
     "name": "stdout",
     "output_type": "stream",
     "text": [
      "Error getting ZIP for nan, nan: Must be a coordinate pair or Point\n"
     ]
    },
    {
     "name": "stdout",
     "output_type": "stream",
     "text": [
      "Error getting ZIP for nan, nan: Must be a coordinate pair or Point\n"
     ]
    },
    {
     "name": "stdout",
     "output_type": "stream",
     "text": [
      "Error getting ZIP for nan, nan: Must be a coordinate pair or Point\n"
     ]
    },
    {
     "name": "stdout",
     "output_type": "stream",
     "text": [
      "Error getting ZIP for nan, nan: Must be a coordinate pair or Point\n"
     ]
    },
    {
     "name": "stdout",
     "output_type": "stream",
     "text": [
      "Error getting ZIP for nan, nan: Must be a coordinate pair or Point\n"
     ]
    },
    {
     "name": "stdout",
     "output_type": "stream",
     "text": [
      "Error getting ZIP for nan, nan: Must be a coordinate pair or Point\n"
     ]
    },
    {
     "name": "stdout",
     "output_type": "stream",
     "text": [
      "Error getting ZIP for nan, nan: Must be a coordinate pair or Point\n"
     ]
    },
    {
     "name": "stdout",
     "output_type": "stream",
     "text": [
      "Error getting ZIP for nan, nan: Must be a coordinate pair or Point\n"
     ]
    },
    {
     "name": "stdout",
     "output_type": "stream",
     "text": [
      "Error getting ZIP for nan, nan: Must be a coordinate pair or Point\n"
     ]
    },
    {
     "name": "stdout",
     "output_type": "stream",
     "text": [
      "Error getting ZIP for nan, nan: Must be a coordinate pair or Point\n"
     ]
    },
    {
     "name": "stdout",
     "output_type": "stream",
     "text": [
      "Error getting ZIP for nan, nan: Must be a coordinate pair or Point\n"
     ]
    },
    {
     "name": "stdout",
     "output_type": "stream",
     "text": [
      "Error getting ZIP for nan, nan: Must be a coordinate pair or Point\n"
     ]
    },
    {
     "name": "stdout",
     "output_type": "stream",
     "text": [
      "Error getting ZIP for nan, nan: Must be a coordinate pair or Point\n"
     ]
    },
    {
     "name": "stdout",
     "output_type": "stream",
     "text": [
      "Error getting ZIP for nan, nan: Must be a coordinate pair or Point\n"
     ]
    },
    {
     "name": "stdout",
     "output_type": "stream",
     "text": [
      "Error getting ZIP for nan, nan: Must be a coordinate pair or Point\n"
     ]
    },
    {
     "name": "stdout",
     "output_type": "stream",
     "text": [
      "Error getting ZIP for nan, nan: Must be a coordinate pair or Point\n"
     ]
    },
    {
     "name": "stdout",
     "output_type": "stream",
     "text": [
      "Error getting ZIP for nan, nan: Must be a coordinate pair or Point\n"
     ]
    },
    {
     "name": "stdout",
     "output_type": "stream",
     "text": [
      "Error getting ZIP for nan, nan: Must be a coordinate pair or Point\n"
     ]
    },
    {
     "data": {
      "text/html": [
       "<div>\n",
       "<style scoped>\n",
       "    .dataframe tbody tr th:only-of-type {\n",
       "        vertical-align: middle;\n",
       "    }\n",
       "\n",
       "    .dataframe tbody tr th {\n",
       "        vertical-align: top;\n",
       "    }\n",
       "\n",
       "    .dataframe thead th {\n",
       "        text-align: right;\n",
       "    }\n",
       "</style>\n",
       "<table border=\"1\" class=\"dataframe\">\n",
       "  <thead>\n",
       "    <tr style=\"text-align: right;\">\n",
       "      <th></th>\n",
       "      <th>RecordID</th>\n",
       "      <th>Offense</th>\n",
       "      <th>IncidentID</th>\n",
       "      <th>BlockNumber</th>\n",
       "      <th>StreetName</th>\n",
       "      <th>Agency</th>\n",
       "      <th>HourReported</th>\n",
       "      <th>ReportingOfficer</th>\n",
       "      <th>Date</th>\n",
       "      <th>DateString</th>\n",
       "      <th>DayOfWeek</th>\n",
       "      <th>Weekend</th>\n",
       "      <th>Season</th>\n",
       "      <th>HourAMPM</th>\n",
       "      <th>TimeOfDay</th>\n",
       "      <th>FullStreet</th>\n",
       "      <th>lat</th>\n",
       "      <th>lon</th>\n",
       "      <th>neighborhood</th>\n",
       "      <th>zip</th>\n",
       "    </tr>\n",
       "  </thead>\n",
       "  <tbody>\n",
       "    <tr>\n",
       "      <th>0</th>\n",
       "      <td>1</td>\n",
       "      <td>Missing Person-juvenile</td>\n",
       "      <td>202500024337</td>\n",
       "      <td>1400</td>\n",
       "      <td>BAKER ST</td>\n",
       "      <td>CPD</td>\n",
       "      <td>0031</td>\n",
       "      <td>Troche, Nicholas</td>\n",
       "      <td>2025-07-12 00:31:11</td>\n",
       "      <td>2025-07-12 12:31:11 AM</td>\n",
       "      <td>Saturday</td>\n",
       "      <td>True</td>\n",
       "      <td>Summer</td>\n",
       "      <td>12:31 AM</td>\n",
       "      <td>Night</td>\n",
       "      <td>1400 BAKER ST</td>\n",
       "      <td>38.025760</td>\n",
       "      <td>-78.502157</td>\n",
       "      <td>Fifeville</td>\n",
       "      <td>22903</td>\n",
       "    </tr>\n",
       "    <tr>\n",
       "      <th>1</th>\n",
       "      <td>2</td>\n",
       "      <td>Drug Equipment Violation</td>\n",
       "      <td>202500024303</td>\n",
       "      <td>400</td>\n",
       "      <td>11TH ST NE, 11A</td>\n",
       "      <td>CPD</td>\n",
       "      <td>2149</td>\n",
       "      <td>Benbow, Lauren</td>\n",
       "      <td>2025-07-11 21:49:36</td>\n",
       "      <td>2025-07-11 09:49:36 PM</td>\n",
       "      <td>Friday</td>\n",
       "      <td>False</td>\n",
       "      <td>Summer</td>\n",
       "      <td>09:49 PM</td>\n",
       "      <td>Night</td>\n",
       "      <td>400 11TH ST NE, 11A</td>\n",
       "      <td>NaN</td>\n",
       "      <td>NaN</td>\n",
       "      <td>N/A</td>\n",
       "      <td>N/A</td>\n",
       "    </tr>\n",
       "    <tr>\n",
       "      <th>2</th>\n",
       "      <td>3</td>\n",
       "      <td>Larceny - Theft from Building</td>\n",
       "      <td>202500024244</td>\n",
       "      <td>1400</td>\n",
       "      <td>BAKER ST</td>\n",
       "      <td>CPD</td>\n",
       "      <td>1759</td>\n",
       "      <td>Darby, Michael</td>\n",
       "      <td>2025-07-11 17:59:07</td>\n",
       "      <td>2025-07-11 05:59:07 PM</td>\n",
       "      <td>Friday</td>\n",
       "      <td>False</td>\n",
       "      <td>Summer</td>\n",
       "      <td>05:59 PM</td>\n",
       "      <td>Evening</td>\n",
       "      <td>1400 BAKER ST</td>\n",
       "      <td>38.025760</td>\n",
       "      <td>-78.502157</td>\n",
       "      <td>Fifeville</td>\n",
       "      <td>22903</td>\n",
       "    </tr>\n",
       "    <tr>\n",
       "      <th>3</th>\n",
       "      <td>4</td>\n",
       "      <td>Burglary</td>\n",
       "      <td>202500024245</td>\n",
       "      <td>700</td>\n",
       "      <td>RIDGE ST</td>\n",
       "      <td>CPD</td>\n",
       "      <td>1758</td>\n",
       "      <td>Reed, Danielle</td>\n",
       "      <td>2025-07-11 17:58:59</td>\n",
       "      <td>2025-07-11 05:58:59 PM</td>\n",
       "      <td>Friday</td>\n",
       "      <td>False</td>\n",
       "      <td>Summer</td>\n",
       "      <td>05:58 PM</td>\n",
       "      <td>Evening</td>\n",
       "      <td>700 RIDGE ST</td>\n",
       "      <td>38.024520</td>\n",
       "      <td>-78.489852</td>\n",
       "      <td>Ridge St.</td>\n",
       "      <td>22903</td>\n",
       "    </tr>\n",
       "    <tr>\n",
       "      <th>4</th>\n",
       "      <td>5</td>\n",
       "      <td>Misc - Criminal Call</td>\n",
       "      <td>202500024219</td>\n",
       "      <td></td>\n",
       "      <td>14TH ST NW / UNIVERSITY AVE</td>\n",
       "      <td>CPD</td>\n",
       "      <td>1603</td>\n",
       "      <td>Ritter, Kobe</td>\n",
       "      <td>2025-07-11 16:03:12</td>\n",
       "      <td>2025-07-11 04:03:12 PM</td>\n",
       "      <td>Friday</td>\n",
       "      <td>False</td>\n",
       "      <td>Summer</td>\n",
       "      <td>04:03 PM</td>\n",
       "      <td>Afternoon</td>\n",
       "      <td>14TH ST NW / UNIVERSITY AVE</td>\n",
       "      <td>38.034042</td>\n",
       "      <td>-78.499591</td>\n",
       "      <td>Venable</td>\n",
       "      <td>22903</td>\n",
       "    </tr>\n",
       "  </tbody>\n",
       "</table>\n",
       "</div>"
      ],
      "text/plain": [
       "   RecordID                        Offense    IncidentID BlockNumber  \\\n",
       "0         1        Missing Person-juvenile  202500024337        1400   \n",
       "1         2       Drug Equipment Violation  202500024303         400   \n",
       "2         3  Larceny - Theft from Building  202500024244        1400   \n",
       "3         4                       Burglary  202500024245         700   \n",
       "4         5           Misc - Criminal Call  202500024219               \n",
       "\n",
       "                    StreetName Agency HourReported  ReportingOfficer  \\\n",
       "0                     BAKER ST    CPD         0031  Troche, Nicholas   \n",
       "1              11TH ST NE, 11A    CPD         2149    Benbow, Lauren   \n",
       "2                     BAKER ST    CPD         1759    Darby, Michael   \n",
       "3                     RIDGE ST    CPD         1758    Reed, Danielle   \n",
       "4  14TH ST NW / UNIVERSITY AVE    CPD         1603      Ritter, Kobe   \n",
       "\n",
       "                 Date              DateString DayOfWeek  Weekend  Season  \\\n",
       "0 2025-07-12 00:31:11  2025-07-12 12:31:11 AM  Saturday     True  Summer   \n",
       "1 2025-07-11 21:49:36  2025-07-11 09:49:36 PM    Friday    False  Summer   \n",
       "2 2025-07-11 17:59:07  2025-07-11 05:59:07 PM    Friday    False  Summer   \n",
       "3 2025-07-11 17:58:59  2025-07-11 05:58:59 PM    Friday    False  Summer   \n",
       "4 2025-07-11 16:03:12  2025-07-11 04:03:12 PM    Friday    False  Summer   \n",
       "\n",
       "   HourAMPM  TimeOfDay                    FullStreet        lat        lon  \\\n",
       "0  12:31 AM      Night                 1400 BAKER ST  38.025760 -78.502157   \n",
       "1  09:49 PM      Night           400 11TH ST NE, 11A        NaN        NaN   \n",
       "2  05:59 PM    Evening                 1400 BAKER ST  38.025760 -78.502157   \n",
       "3  05:58 PM    Evening                  700 RIDGE ST  38.024520 -78.489852   \n",
       "4  04:03 PM  Afternoon   14TH ST NW / UNIVERSITY AVE  38.034042 -78.499591   \n",
       "\n",
       "  neighborhood    zip  \n",
       "0    Fifeville  22903  \n",
       "1          N/A    N/A  \n",
       "2    Fifeville  22903  \n",
       "3    Ridge St.  22903  \n",
       "4      Venable  22903  "
      ]
     },
     "execution_count": 11,
     "metadata": {},
     "output_type": "execute_result"
    }
   ],
   "source": [
    "# Initialize the geocoder.\n",
    "geolocator = Nominatim(user_agent=\"zip_lookup\")\n",
    "\n",
    "# Try to load a persistent ZIP cache if available.\n",
    "try:\n",
    "    with open(\"zip_cache.pkl\", \"rb\") as f:\n",
    "        zip_cache = pickle.load(f)\n",
    "    print(\"Loaded zip cache.\")\n",
    "except FileNotFoundError:\n",
    "    zip_cache = {}\n",
    "    print(\"No zip cache found; starting fresh.\")\n",
    "\n",
    "def get_zip(lat, lon):\n",
    "    \"\"\"\n",
    "    Reverse geocodes a latitude and longitude to retrieve the ZIP code.\n",
    "    Caches results to speed up subsequent lookups.\n",
    "    \"\"\"\n",
    "    key = (lat, lon)\n",
    "    if key in zip_cache:\n",
    "        return zip_cache[key]\n",
    "    \n",
    "    try:\n",
    "        location = geolocator.reverse((lat, lon), exactly_one=True, timeout=10)\n",
    "        address = location.raw.get('address', {})\n",
    "        postal_code = address.get('postcode', \"N/A\")\n",
    "    except Exception as e:\n",
    "        print(f\"Error getting ZIP for {lat}, {lon}: {e}\")\n",
    "        postal_code = \"N/A\"\n",
    "    \n",
    "    zip_cache[key] = postal_code\n",
    "    # Pause to respect the usage policy.\n",
    "    time.sleep(1)\n",
    "    return postal_code\n",
    "\n",
    "# Apply the function to each row in the DataFrame.\n",
    "df['zip'] = df.apply(lambda row: get_zip(row['lat'], row['lon']), axis=1)\n",
    "\n",
    "# Save the updated ZIP cache.\n",
    "with open(\"zip_cache.pkl\", \"wb\") as f:\n",
    "    pickle.dump(zip_cache, f)\n",
    "\n",
    "df.head()\n"
   ]
  },
  {
   "cell_type": "code",
   "execution_count": 12,
   "id": "60f9c06f",
   "metadata": {
    "execution": {
     "iopub.execute_input": "2025-07-14T01:12:25.986115Z",
     "iopub.status.busy": "2025-07-14T01:12:25.985655Z",
     "iopub.status.idle": "2025-07-14T01:12:26.017259Z",
     "shell.execute_reply": "2025-07-14T01:12:26.016669Z"
    },
    "papermill": {
     "duration": 0.041408,
     "end_time": "2025-07-14T01:12:26.018234",
     "exception": false,
     "start_time": "2025-07-14T01:12:25.976826",
     "status": "completed"
    },
    "tags": []
   },
   "outputs": [
    {
     "name": "stdout",
     "output_type": "stream",
     "text": [
      "                  MissingCount  MissingPercentage\n",
      "RecordID                     0               0.00\n",
      "Offense                      0               0.00\n",
      "IncidentID                   0               0.00\n",
      "BlockNumber                  0               0.00\n",
      "StreetName                   0               0.00\n",
      "Agency                       0               0.00\n",
      "HourReported                 0               0.00\n",
      "ReportingOfficer            17               0.07\n",
      "Date                         0               0.00\n",
      "DateString                   0               0.00\n",
      "DayOfWeek                    0               0.00\n",
      "Weekend                      0               0.00\n",
      "Season                       0               0.00\n",
      "HourAMPM                     0               0.00\n",
      "TimeOfDay                    0               0.00\n",
      "FullStreet                   0               0.00\n",
      "lat                         53               0.21\n",
      "lon                         53               0.21\n",
      "neighborhood                 0               0.00\n",
      "zip                          0               0.00\n"
     ]
    }
   ],
   "source": [
    "missing_info = missing_percentage(df)\n",
    "print(missing_info)\n"
   ]
  },
  {
   "cell_type": "code",
   "execution_count": 13,
   "id": "952dff78",
   "metadata": {
    "execution": {
     "iopub.execute_input": "2025-07-14T01:12:26.036535Z",
     "iopub.status.busy": "2025-07-14T01:12:26.035858Z",
     "iopub.status.idle": "2025-07-14T01:12:26.068303Z",
     "shell.execute_reply": "2025-07-14T01:12:26.067712Z"
    },
    "papermill": {
     "duration": 0.042696,
     "end_time": "2025-07-14T01:12:26.069347",
     "exception": false,
     "start_time": "2025-07-14T01:12:26.026651",
     "status": "completed"
    },
    "tags": []
   },
   "outputs": [
    {
     "name": "stdout",
     "output_type": "stream",
     "text": [
      "<class 'pandas.core.frame.DataFrame'>\n",
      "RangeIndex: 25529 entries, 0 to 25528\n",
      "Data columns (total 20 columns):\n",
      " #   Column            Non-Null Count  Dtype         \n",
      "---  ------            --------------  -----         \n",
      " 0   RecordID          25529 non-null  int64         \n",
      " 1   Offense           25529 non-null  object        \n",
      " 2   IncidentID        25529 non-null  object        \n",
      " 3   BlockNumber       25529 non-null  object        \n",
      " 4   StreetName        25529 non-null  object        \n",
      " 5   Agency            25529 non-null  object        \n",
      " 6   HourReported      25529 non-null  object        \n",
      " 7   ReportingOfficer  25512 non-null  object        \n",
      " 8   Date              25529 non-null  datetime64[ns]\n",
      " 9   DateString        25529 non-null  object        \n",
      " 10  DayOfWeek         25529 non-null  object        \n",
      " 11  Weekend           25529 non-null  bool          \n",
      " 12  Season            25529 non-null  object        \n",
      " 13  HourAMPM          25529 non-null  object        \n",
      " 14  TimeOfDay         25529 non-null  object        \n",
      " 15  FullStreet        25529 non-null  object        \n",
      " 16  lat               25476 non-null  float64       \n",
      " 17  lon               25476 non-null  float64       \n",
      " 18  neighborhood      25529 non-null  object        \n",
      " 19  zip               25529 non-null  object        \n",
      "dtypes: bool(1), datetime64[ns](1), float64(2), int64(1), object(15)\n",
      "memory usage: 3.7+ MB\n"
     ]
    }
   ],
   "source": [
    "df.info()"
   ]
  },
  {
   "cell_type": "code",
   "execution_count": 14,
   "id": "6b9dca88",
   "metadata": {
    "execution": {
     "iopub.execute_input": "2025-07-14T01:12:26.087737Z",
     "iopub.status.busy": "2025-07-14T01:12:26.087190Z",
     "iopub.status.idle": "2025-07-14T01:12:26.138025Z",
     "shell.execute_reply": "2025-07-14T01:12:26.137281Z"
    },
    "papermill": {
     "duration": 0.061156,
     "end_time": "2025-07-14T01:12:26.139141",
     "exception": false,
     "start_time": "2025-07-14T01:12:26.077985",
     "status": "completed"
    },
    "tags": []
   },
   "outputs": [
    {
     "data": {
      "text/html": [
       "<div>\n",
       "<style scoped>\n",
       "    .dataframe tbody tr th:only-of-type {\n",
       "        vertical-align: middle;\n",
       "    }\n",
       "\n",
       "    .dataframe tbody tr th {\n",
       "        vertical-align: top;\n",
       "    }\n",
       "\n",
       "    .dataframe thead th {\n",
       "        text-align: right;\n",
       "    }\n",
       "</style>\n",
       "<table border=\"1\" class=\"dataframe\">\n",
       "  <thead>\n",
       "    <tr style=\"text-align: right;\">\n",
       "      <th></th>\n",
       "      <th>RecordID</th>\n",
       "      <th>Offense</th>\n",
       "      <th>IncidentID</th>\n",
       "      <th>Agency</th>\n",
       "      <th>ReportingOfficer</th>\n",
       "      <th>Date</th>\n",
       "      <th>DayOfWeek</th>\n",
       "      <th>Weekend</th>\n",
       "      <th>Season</th>\n",
       "      <th>TimeOfDay</th>\n",
       "      <th>FullStreet</th>\n",
       "      <th>lat</th>\n",
       "      <th>lon</th>\n",
       "      <th>neighborhood</th>\n",
       "      <th>zip</th>\n",
       "    </tr>\n",
       "  </thead>\n",
       "  <tbody>\n",
       "    <tr>\n",
       "      <th>0</th>\n",
       "      <td>1</td>\n",
       "      <td>Missing Person-juvenile</td>\n",
       "      <td>202500024337</td>\n",
       "      <td>CPD</td>\n",
       "      <td>Troche, Nicholas</td>\n",
       "      <td>2025-07-12 00:31:11</td>\n",
       "      <td>Saturday</td>\n",
       "      <td>True</td>\n",
       "      <td>Summer</td>\n",
       "      <td>Night</td>\n",
       "      <td>1400 BAKER ST</td>\n",
       "      <td>38.02576</td>\n",
       "      <td>-78.502157</td>\n",
       "      <td>Fifeville</td>\n",
       "      <td>22903</td>\n",
       "    </tr>\n",
       "    <tr>\n",
       "      <th>1</th>\n",
       "      <td>2</td>\n",
       "      <td>Drug Equipment Violation</td>\n",
       "      <td>202500024303</td>\n",
       "      <td>CPD</td>\n",
       "      <td>Benbow, Lauren</td>\n",
       "      <td>2025-07-11 21:49:36</td>\n",
       "      <td>Friday</td>\n",
       "      <td>False</td>\n",
       "      <td>Summer</td>\n",
       "      <td>Night</td>\n",
       "      <td>400 11TH ST NE, 11A</td>\n",
       "      <td>N/A</td>\n",
       "      <td>N/A</td>\n",
       "      <td>N/A</td>\n",
       "      <td>N/A</td>\n",
       "    </tr>\n",
       "    <tr>\n",
       "      <th>2</th>\n",
       "      <td>3</td>\n",
       "      <td>Larceny - Theft from Building</td>\n",
       "      <td>202500024244</td>\n",
       "      <td>CPD</td>\n",
       "      <td>Darby, Michael</td>\n",
       "      <td>2025-07-11 17:59:07</td>\n",
       "      <td>Friday</td>\n",
       "      <td>False</td>\n",
       "      <td>Summer</td>\n",
       "      <td>Evening</td>\n",
       "      <td>1400 BAKER ST</td>\n",
       "      <td>38.02576</td>\n",
       "      <td>-78.502157</td>\n",
       "      <td>Fifeville</td>\n",
       "      <td>22903</td>\n",
       "    </tr>\n",
       "    <tr>\n",
       "      <th>3</th>\n",
       "      <td>4</td>\n",
       "      <td>Burglary</td>\n",
       "      <td>202500024245</td>\n",
       "      <td>CPD</td>\n",
       "      <td>Reed, Danielle</td>\n",
       "      <td>2025-07-11 17:58:59</td>\n",
       "      <td>Friday</td>\n",
       "      <td>False</td>\n",
       "      <td>Summer</td>\n",
       "      <td>Evening</td>\n",
       "      <td>700 RIDGE ST</td>\n",
       "      <td>38.02452</td>\n",
       "      <td>-78.489852</td>\n",
       "      <td>Ridge St.</td>\n",
       "      <td>22903</td>\n",
       "    </tr>\n",
       "    <tr>\n",
       "      <th>4</th>\n",
       "      <td>5</td>\n",
       "      <td>Misc - Criminal Call</td>\n",
       "      <td>202500024219</td>\n",
       "      <td>CPD</td>\n",
       "      <td>Ritter, Kobe</td>\n",
       "      <td>2025-07-11 16:03:12</td>\n",
       "      <td>Friday</td>\n",
       "      <td>False</td>\n",
       "      <td>Summer</td>\n",
       "      <td>Afternoon</td>\n",
       "      <td>14TH ST NW / UNIVERSITY AVE</td>\n",
       "      <td>38.034042</td>\n",
       "      <td>-78.499591</td>\n",
       "      <td>Venable</td>\n",
       "      <td>22903</td>\n",
       "    </tr>\n",
       "  </tbody>\n",
       "</table>\n",
       "</div>"
      ],
      "text/plain": [
       "   RecordID                        Offense    IncidentID Agency  \\\n",
       "0         1        Missing Person-juvenile  202500024337    CPD   \n",
       "1         2       Drug Equipment Violation  202500024303    CPD   \n",
       "2         3  Larceny - Theft from Building  202500024244    CPD   \n",
       "3         4                       Burglary  202500024245    CPD   \n",
       "4         5           Misc - Criminal Call  202500024219    CPD   \n",
       "\n",
       "   ReportingOfficer                Date DayOfWeek  Weekend  Season  TimeOfDay  \\\n",
       "0  Troche, Nicholas 2025-07-12 00:31:11  Saturday     True  Summer      Night   \n",
       "1    Benbow, Lauren 2025-07-11 21:49:36    Friday    False  Summer      Night   \n",
       "2    Darby, Michael 2025-07-11 17:59:07    Friday    False  Summer    Evening   \n",
       "3    Reed, Danielle 2025-07-11 17:58:59    Friday    False  Summer    Evening   \n",
       "4      Ritter, Kobe 2025-07-11 16:03:12    Friday    False  Summer  Afternoon   \n",
       "\n",
       "                     FullStreet        lat        lon neighborhood    zip  \n",
       "0                 1400 BAKER ST   38.02576 -78.502157    Fifeville  22903  \n",
       "1           400 11TH ST NE, 11A        N/A        N/A          N/A    N/A  \n",
       "2                 1400 BAKER ST   38.02576 -78.502157    Fifeville  22903  \n",
       "3                  700 RIDGE ST   38.02452 -78.489852    Ridge St.  22903  \n",
       "4   14TH ST NW / UNIVERSITY AVE  38.034042 -78.499591      Venable  22903  "
      ]
     },
     "execution_count": 14,
     "metadata": {},
     "output_type": "execute_result"
    }
   ],
   "source": [
    "# Now drop the original BlockNumber and StreetName columns\n",
    "df.drop(columns=['BlockNumber', 'StreetName','HourAMPM','HourReported','DateString'], inplace=True)\n",
    "df[\"zip\"] = df[\"zip\"].astype(str)\n",
    "\n",
    "# Fill all missing values in the DataFrame with \"N/A\"\n",
    "df.replace({None: \"N/A\", np.nan: \"N/A\", \"\": \"N/A\"}, inplace=True)\n",
    "df.head()"
   ]
  },
  {
   "cell_type": "code",
   "execution_count": 15,
   "id": "b72aaadb",
   "metadata": {
    "execution": {
     "iopub.execute_input": "2025-07-14T01:12:26.158106Z",
     "iopub.status.busy": "2025-07-14T01:12:26.157482Z",
     "iopub.status.idle": "2025-07-14T01:12:26.180371Z",
     "shell.execute_reply": "2025-07-14T01:12:26.179706Z"
    },
    "papermill": {
     "duration": 0.033502,
     "end_time": "2025-07-14T01:12:26.181491",
     "exception": false,
     "start_time": "2025-07-14T01:12:26.147989",
     "status": "completed"
    },
    "tags": []
   },
   "outputs": [
    {
     "name": "stdout",
     "output_type": "stream",
     "text": [
      "                  MissingCount  MissingPercentage\n",
      "RecordID                     0                0.0\n",
      "Offense                      0                0.0\n",
      "IncidentID                   0                0.0\n",
      "Agency                       0                0.0\n",
      "ReportingOfficer             0                0.0\n",
      "Date                         0                0.0\n",
      "DayOfWeek                    0                0.0\n",
      "Weekend                      0                0.0\n",
      "Season                       0                0.0\n",
      "TimeOfDay                    0                0.0\n",
      "FullStreet                   0                0.0\n",
      "lat                          0                0.0\n",
      "lon                          0                0.0\n",
      "neighborhood                 0                0.0\n",
      "zip                          0                0.0\n"
     ]
    }
   ],
   "source": [
    "missing_info = missing_percentage(df)\n",
    "print(missing_info)"
   ]
  },
  {
   "cell_type": "code",
   "execution_count": 16,
   "id": "72710d42",
   "metadata": {
    "execution": {
     "iopub.execute_input": "2025-07-14T01:12:26.199833Z",
     "iopub.status.busy": "2025-07-14T01:12:26.199380Z",
     "iopub.status.idle": "2025-07-14T01:12:26.203979Z",
     "shell.execute_reply": "2025-07-14T01:12:26.203315Z"
    },
    "papermill": {
     "duration": 0.014685,
     "end_time": "2025-07-14T01:12:26.204980",
     "exception": false,
     "start_time": "2025-07-14T01:12:26.190295",
     "status": "completed"
    },
    "tags": []
   },
   "outputs": [
    {
     "data": {
      "text/plain": [
       "Index(['RecordID', 'Offense', 'IncidentID', 'Agency', 'ReportingOfficer',\n",
       "       'Date', 'DayOfWeek', 'Weekend', 'Season', 'TimeOfDay', 'FullStreet',\n",
       "       'lat', 'lon', 'neighborhood', 'zip'],\n",
       "      dtype='object')"
      ]
     },
     "execution_count": 16,
     "metadata": {},
     "output_type": "execute_result"
    }
   ],
   "source": [
    "df.columns"
   ]
  },
  {
   "cell_type": "code",
   "execution_count": 17,
   "id": "01ebf3a4",
   "metadata": {
    "execution": {
     "iopub.execute_input": "2025-07-14T01:12:26.223241Z",
     "iopub.status.busy": "2025-07-14T01:12:26.222615Z",
     "iopub.status.idle": "2025-07-14T01:12:26.246301Z",
     "shell.execute_reply": "2025-07-14T01:12:26.245602Z"
    },
    "papermill": {
     "duration": 0.033812,
     "end_time": "2025-07-14T01:12:26.247352",
     "exception": false,
     "start_time": "2025-07-14T01:12:26.213540",
     "status": "completed"
    },
    "tags": []
   },
   "outputs": [
    {
     "name": "stdout",
     "output_type": "stream",
     "text": [
      "<class 'pandas.core.frame.DataFrame'>\n",
      "RangeIndex: 25529 entries, 0 to 25528\n",
      "Data columns (total 15 columns):\n",
      " #   Column            Non-Null Count  Dtype         \n",
      "---  ------            --------------  -----         \n",
      " 0   RecordID          25529 non-null  int64         \n",
      " 1   Offense           25529 non-null  object        \n",
      " 2   IncidentID        25529 non-null  object        \n",
      " 3   Agency            25529 non-null  object        \n",
      " 4   ReportingOfficer  25529 non-null  object        \n",
      " 5   Date              25529 non-null  datetime64[ns]\n",
      " 6   DayOfWeek         25529 non-null  object        \n",
      " 7   Weekend           25529 non-null  bool          \n",
      " 8   Season            25529 non-null  object        \n",
      " 9   TimeOfDay         25529 non-null  object        \n",
      " 10  FullStreet        25529 non-null  object        \n",
      " 11  lat               25529 non-null  object        \n",
      " 12  lon               25529 non-null  object        \n",
      " 13  neighborhood      25529 non-null  object        \n",
      " 14  zip               25529 non-null  object        \n",
      "dtypes: bool(1), datetime64[ns](1), int64(1), object(12)\n",
      "memory usage: 2.8+ MB\n"
     ]
    }
   ],
   "source": [
    "df.info()"
   ]
  },
  {
   "cell_type": "markdown",
   "id": "7ccf80b3",
   "metadata": {
    "papermill": {
     "duration": 0.008669,
     "end_time": "2025-07-14T01:12:26.265047",
     "exception": false,
     "start_time": "2025-07-14T01:12:26.256378",
     "status": "completed"
    },
    "tags": []
   },
   "source": [
    "### Export Clean Data"
   ]
  },
  {
   "cell_type": "code",
   "execution_count": 18,
   "id": "44023b39",
   "metadata": {
    "execution": {
     "iopub.execute_input": "2025-07-14T01:12:26.283754Z",
     "iopub.status.busy": "2025-07-14T01:12:26.283115Z",
     "iopub.status.idle": "2025-07-14T01:12:35.558560Z",
     "shell.execute_reply": "2025-07-14T01:12:35.557892Z"
    },
    "papermill": {
     "duration": 9.285923,
     "end_time": "2025-07-14T01:12:35.559638",
     "exception": false,
     "start_time": "2025-07-14T01:12:26.273715",
     "status": "completed"
    },
    "tags": []
   },
   "outputs": [
    {
     "name": "stdout",
     "output_type": "stream",
     "text": [
      "Project Root: /home/runner/work/crime-data/crime-data\n"
     ]
    },
    {
     "name": "stdout",
     "output_type": "stream",
     "text": [
      "Data saved to: /home/runner/work/crime-data/crime-data/data/charlottesville_crime_incidents.csv\n"
     ]
    },
    {
     "name": "stdout",
     "output_type": "stream",
     "text": [
      "Excel saved to: /home/runner/work/crime-data/crime-data/data/charlottesville_crime_incidents.xlsx\n"
     ]
    }
   ],
   "source": [
    "# Determine the project root (assuming papermill is run from the repository root)\n",
    "project_root = os.getcwd()\n",
    "print(\"Project Root:\", project_root)\n",
    "\n",
    "# Set the data directory within the project root\n",
    "data_dir = os.path.join(project_root, \"data\")\n",
    "\n",
    "# Ensure the \"data\" directory exists (create it if it doesn't)\n",
    "if not os.path.exists(data_dir):\n",
    "    os.makedirs(data_dir)\n",
    "\n",
    "# Export the DataFrame to CSV in the \"data\" folder located in the project root\n",
    "csv_path = os.path.join(data_dir, \"charlottesville_crime_incidents.csv\")\n",
    "df.to_csv(csv_path, index=False)\n",
    "print(\"Data saved to:\", csv_path)\n",
    "\n",
    "# Construct the path to your Excel file\n",
    "excel_path = os.path.join(data_dir, \"charlottesville_crime_incidents.xlsx\")\n",
    "\n",
    "# Export the DataFrame to Excel\n",
    "df.to_excel(excel_path, index=False)\n",
    "print(\"Excel saved to:\", excel_path)\n"
   ]
  }
 ],
 "metadata": {
  "kernelspec": {
   "display_name": "Python 3",
   "language": "python",
   "name": "python3"
  },
  "language_info": {
   "codemirror_mode": {
    "name": "ipython",
    "version": 3
   },
   "file_extension": ".py",
   "mimetype": "text/x-python",
   "name": "python",
   "nbconvert_exporter": "python",
   "pygments_lexer": "ipython3",
   "version": "3.9.23"
  },
  "papermill": {
   "default_parameters": {},
   "duration": 137.189543,
   "end_time": "2025-07-14T01:12:35.985186",
   "environment_variables": {},
   "exception": null,
   "input_path": "notebook/Crime Data.ipynb",
   "output_path": "notebook/Crime Data_output.ipynb",
   "parameters": {},
   "start_time": "2025-07-14T01:10:18.795643",
   "version": "2.6.0"
  }
 },
 "nbformat": 4,
 "nbformat_minor": 5
}