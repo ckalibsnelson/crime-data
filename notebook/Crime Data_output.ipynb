{
 "cells": [
  {
   "cell_type": "markdown",
   "id": "9f544c28",
   "metadata": {
    "papermill": {
     "duration": 0.004388,
     "end_time": "2025-07-04T01:04:58.410586",
     "exception": false,
     "start_time": "2025-07-04T01:04:58.406198",
     "status": "completed"
    },
    "tags": []
   },
   "source": [
    "# Charlottesville Open Data Porttal: Crime Data"
   ]
  },
  {
   "cell_type": "markdown",
   "id": "fcf910a9",
   "metadata": {
    "papermill": {
     "duration": 0.003249,
     "end_time": "2025-07-04T01:04:58.417498",
     "exception": false,
     "start_time": "2025-07-04T01:04:58.414249",
     "status": "completed"
    },
    "tags": []
   },
   "source": [
    "## Import Relevant Librarires & Set WD"
   ]
  },
  {
   "cell_type": "code",
   "execution_count": 1,
   "id": "b7891bbd",
   "metadata": {
    "execution": {
     "iopub.execute_input": "2025-07-04T01:04:58.425912Z",
     "iopub.status.busy": "2025-07-04T01:04:58.425171Z",
     "iopub.status.idle": "2025-07-04T01:04:59.030162Z",
     "shell.execute_reply": "2025-07-04T01:04:59.029532Z"
    },
    "papermill": {
     "duration": 0.610809,
     "end_time": "2025-07-04T01:04:59.031585",
     "exception": false,
     "start_time": "2025-07-04T01:04:58.420776",
     "status": "completed"
    },
    "tags": []
   },
   "outputs": [],
   "source": [
    "import requests\n",
    "import pandas as pd\n",
    "import numpy as np\n",
    "import pickle\n",
    "import googlemaps\n",
    "import plotly.express as px\n",
    "from geopy.geocoders import Nominatim\n",
    "import time\n",
    "from dotenv import load_dotenv\n",
    "import os\n",
    "\n",
    "env_path = os.path.join(\"..\", \".env\")\n",
    "#print(\"Looking for .env file at:\", os.path.abspath(env_path))\n",
    "load_dotenv(dotenv_path=env_path)\n",
    "\n",
    "# Retrieve the variables\n",
    "GOOGLE_API_KEY = os.getenv(\"GOOGLE_API_KEY\")\n",
    "WORKING_DIR = os.getenv(\"WORKING_DIR\")\n",
    "\n",
    "if GOOGLE_API_KEY is None or WORKING_DIR is None:\n",
    "    raise RuntimeError(\"No configuration found. Please ensure that your .env file exists with the required variables, or create a local config.py file.\")\n",
    "\n",
    "#print(\"Google API Key:\", GOOGLE_API_KEY)\n",
    "#print(\"Working Directory:\", WORKING_DIR)"
   ]
  },
  {
   "cell_type": "markdown",
   "id": "7243b80a",
   "metadata": {
    "papermill": {
     "duration": 0.00329,
     "end_time": "2025-07-04T01:04:59.038574",
     "exception": false,
     "start_time": "2025-07-04T01:04:59.035284",
     "status": "completed"
    },
    "tags": []
   },
   "source": [
    "## Import Data\n",
    "\n",
    "URL: https://opendata.charlottesville.org/datasets/charlottesville::crime-data/about"
   ]
  },
  {
   "cell_type": "code",
   "execution_count": 2,
   "id": "821e7cb2",
   "metadata": {
    "execution": {
     "iopub.execute_input": "2025-07-04T01:04:59.046345Z",
     "iopub.status.busy": "2025-07-04T01:04:59.045871Z",
     "iopub.status.idle": "2025-07-04T01:06:04.779398Z",
     "shell.execute_reply": "2025-07-04T01:06:04.778629Z"
    },
    "papermill": {
     "duration": 65.741606,
     "end_time": "2025-07-04T01:06:04.783524",
     "exception": false,
     "start_time": "2025-07-04T01:04:59.041918",
     "status": "completed"
    },
    "tags": []
   },
   "outputs": [
    {
     "name": "stdout",
     "output_type": "stream",
     "text": [
      "Total records imported: 25546\n"
     ]
    }
   ],
   "source": [
    "# Define the endpoint and initial parameters.\n",
    "url = \"https://gisweb.charlottesville.org/arcgis/rest/services/OpenData_2/MapServer/6/query\"\n",
    "params = {\n",
    "    \"where\": \"1=1\",\n",
    "    \"outFields\": \"*\",\n",
    "    \"outSR\": 4326,\n",
    "    \"f\": \"json\",\n",
    "    \"resultOffset\": 0,       # Starting index for results\n",
    "    \"resultRecordCount\": 10000  # Maximum records per batch (if allowed by the API)\n",
    "}\n",
    "\n",
    "records = []\n",
    "\n",
    "while True:\n",
    "    response = requests.get(url, params=params)\n",
    "    response.raise_for_status()\n",
    "    data = response.json()\n",
    "    \n",
    "    # Get the current batch of features.\n",
    "    features = data.get(\"features\", [])\n",
    "    if not features:\n",
    "        break\n",
    "\n",
    "    # Extract the attributes from the features.\n",
    "    batch_records = [feature.get(\"attributes\", {}) for feature in features]\n",
    "    records.extend(batch_records)\n",
    "    \n",
    "    # If the batch size is less than the requested count, we reached the end.\n",
    "    if len(features) < params[\"resultRecordCount\"]:\n",
    "        break\n",
    "\n",
    "    # Update the resultOffset for the next batch.\n",
    "    params[\"resultOffset\"] += params[\"resultRecordCount\"]\n",
    "\n",
    "# Create a DataFrame from the combined records.\n",
    "df = pd.DataFrame(records)\n",
    "print(\"Total records imported:\", len(df))\n"
   ]
  },
  {
   "cell_type": "code",
   "execution_count": 3,
   "id": "979ab83d",
   "metadata": {
    "execution": {
     "iopub.execute_input": "2025-07-04T01:06:04.791578Z",
     "iopub.status.busy": "2025-07-04T01:06:04.791130Z",
     "iopub.status.idle": "2025-07-04T01:06:04.803337Z",
     "shell.execute_reply": "2025-07-04T01:06:04.802780Z"
    },
    "papermill": {
     "duration": 0.01724,
     "end_time": "2025-07-04T01:06:04.804276",
     "exception": false,
     "start_time": "2025-07-04T01:06:04.787036",
     "status": "completed"
    },
    "tags": []
   },
   "outputs": [
    {
     "data": {
      "text/html": [
       "<div>\n",
       "<style scoped>\n",
       "    .dataframe tbody tr th:only-of-type {\n",
       "        vertical-align: middle;\n",
       "    }\n",
       "\n",
       "    .dataframe tbody tr th {\n",
       "        vertical-align: top;\n",
       "    }\n",
       "\n",
       "    .dataframe thead th {\n",
       "        text-align: right;\n",
       "    }\n",
       "</style>\n",
       "<table border=\"1\" class=\"dataframe\">\n",
       "  <thead>\n",
       "    <tr style=\"text-align: right;\">\n",
       "      <th></th>\n",
       "      <th>RecordID</th>\n",
       "      <th>Offense</th>\n",
       "      <th>IncidentID</th>\n",
       "      <th>BlockNumber</th>\n",
       "      <th>StreetName</th>\n",
       "      <th>Agency</th>\n",
       "      <th>DateReported</th>\n",
       "      <th>HourReported</th>\n",
       "      <th>ReportingOfficer</th>\n",
       "    </tr>\n",
       "  </thead>\n",
       "  <tbody>\n",
       "    <tr>\n",
       "      <th>0</th>\n",
       "      <td>1</td>\n",
       "      <td>Larceny - From Motor Vehicle</td>\n",
       "      <td>202500022761</td>\n",
       "      <td>100</td>\n",
       "      <td>LANKFORD AVE</td>\n",
       "      <td>CPD</td>\n",
       "      <td>1751408803000</td>\n",
       "      <td>1826</td>\n",
       "      <td>Hudson, Jesse</td>\n",
       "    </tr>\n",
       "    <tr>\n",
       "      <th>1</th>\n",
       "      <td>2</td>\n",
       "      <td>Assault Simple</td>\n",
       "      <td>202500022739</td>\n",
       "      <td>700</td>\n",
       "      <td>STONEHENGE AVE</td>\n",
       "      <td>CPD</td>\n",
       "      <td>1751399161000</td>\n",
       "      <td>1546</td>\n",
       "      <td>Hudson, Jesse</td>\n",
       "    </tr>\n",
       "    <tr>\n",
       "      <th>2</th>\n",
       "      <td>3</td>\n",
       "      <td>Assault Simple</td>\n",
       "      <td>202500022734</td>\n",
       "      <td>2500</td>\n",
       "      <td>WILLARD DR</td>\n",
       "      <td>CPD</td>\n",
       "      <td>1751397786000</td>\n",
       "      <td>1523</td>\n",
       "      <td>Lowry, Ryan</td>\n",
       "    </tr>\n",
       "    <tr>\n",
       "      <th>3</th>\n",
       "      <td>4</td>\n",
       "      <td>Lost/FoundProperty</td>\n",
       "      <td>202500022733</td>\n",
       "      <td>600</td>\n",
       "      <td>E MARKET ST</td>\n",
       "      <td>CPD</td>\n",
       "      <td>1751396483000</td>\n",
       "      <td>1501</td>\n",
       "      <td>Houchens, Jamell</td>\n",
       "    </tr>\n",
       "    <tr>\n",
       "      <th>4</th>\n",
       "      <td>5</td>\n",
       "      <td>Hit and Run</td>\n",
       "      <td>202500022728</td>\n",
       "      <td>1100</td>\n",
       "      <td>EMMET ST N</td>\n",
       "      <td>CPD</td>\n",
       "      <td>1751394042000</td>\n",
       "      <td>1420</td>\n",
       "      <td>Love-Baker, Sydney</td>\n",
       "    </tr>\n",
       "  </tbody>\n",
       "</table>\n",
       "</div>"
      ],
      "text/plain": [
       "   RecordID                       Offense    IncidentID BlockNumber  \\\n",
       "0         1  Larceny - From Motor Vehicle  202500022761         100   \n",
       "1         2                Assault Simple  202500022739         700   \n",
       "2         3                Assault Simple  202500022734        2500   \n",
       "3         4            Lost/FoundProperty  202500022733         600   \n",
       "4         5                   Hit and Run  202500022728        1100   \n",
       "\n",
       "       StreetName Agency   DateReported HourReported    ReportingOfficer  \n",
       "0    LANKFORD AVE    CPD  1751408803000         1826       Hudson, Jesse  \n",
       "1  STONEHENGE AVE    CPD  1751399161000         1546       Hudson, Jesse  \n",
       "2      WILLARD DR    CPD  1751397786000         1523         Lowry, Ryan  \n",
       "3     E MARKET ST    CPD  1751396483000         1501    Houchens, Jamell  \n",
       "4      EMMET ST N    CPD  1751394042000         1420  Love-Baker, Sydney  "
      ]
     },
     "execution_count": 3,
     "metadata": {},
     "output_type": "execute_result"
    }
   ],
   "source": [
    "df.head()"
   ]
  },
  {
   "cell_type": "code",
   "execution_count": 4,
   "id": "2cded83e",
   "metadata": {
    "execution": {
     "iopub.execute_input": "2025-07-04T01:06:04.812143Z",
     "iopub.status.busy": "2025-07-04T01:06:04.811967Z",
     "iopub.status.idle": "2025-07-04T01:06:04.816304Z",
     "shell.execute_reply": "2025-07-04T01:06:04.815632Z"
    },
    "papermill": {
     "duration": 0.00959,
     "end_time": "2025-07-04T01:06:04.817526",
     "exception": false,
     "start_time": "2025-07-04T01:06:04.807936",
     "status": "completed"
    },
    "tags": []
   },
   "outputs": [
    {
     "data": {
      "text/plain": [
       "Index(['RecordID', 'Offense', 'IncidentID', 'BlockNumber', 'StreetName',\n",
       "       'Agency', 'DateReported', 'HourReported', 'ReportingOfficer'],\n",
       "      dtype='object')"
      ]
     },
     "execution_count": 4,
     "metadata": {},
     "output_type": "execute_result"
    }
   ],
   "source": [
    "df.columns"
   ]
  },
  {
   "cell_type": "code",
   "execution_count": 5,
   "id": "866fb84b",
   "metadata": {
    "execution": {
     "iopub.execute_input": "2025-07-04T01:06:04.830050Z",
     "iopub.status.busy": "2025-07-04T01:06:04.829849Z",
     "iopub.status.idle": "2025-07-04T01:06:04.852739Z",
     "shell.execute_reply": "2025-07-04T01:06:04.852074Z"
    },
    "papermill": {
     "duration": 0.030738,
     "end_time": "2025-07-04T01:06:04.853779",
     "exception": false,
     "start_time": "2025-07-04T01:06:04.823041",
     "status": "completed"
    },
    "tags": []
   },
   "outputs": [
    {
     "name": "stdout",
     "output_type": "stream",
     "text": [
      "<class 'pandas.core.frame.DataFrame'>\n",
      "RangeIndex: 25546 entries, 0 to 25545\n",
      "Data columns (total 9 columns):\n",
      " #   Column            Non-Null Count  Dtype \n",
      "---  ------            --------------  ----- \n",
      " 0   RecordID          25546 non-null  int64 \n",
      " 1   Offense           25546 non-null  object\n",
      " 2   IncidentID        25546 non-null  object\n",
      " 3   BlockNumber       25546 non-null  object\n",
      " 4   StreetName        25546 non-null  object\n",
      " 5   Agency            25546 non-null  object\n",
      " 6   DateReported      25546 non-null  int64 \n",
      " 7   HourReported      25546 non-null  object\n",
      " 8   ReportingOfficer  25529 non-null  object\n",
      "dtypes: int64(2), object(7)\n",
      "memory usage: 1.8+ MB\n"
     ]
    }
   ],
   "source": [
    "df.info()"
   ]
  },
  {
   "cell_type": "markdown",
   "id": "0b965e3b",
   "metadata": {
    "papermill": {
     "duration": 0.003951,
     "end_time": "2025-07-04T01:06:04.861883",
     "exception": false,
     "start_time": "2025-07-04T01:06:04.857932",
     "status": "completed"
    },
    "tags": []
   },
   "source": [
    "### Missing Values"
   ]
  },
  {
   "cell_type": "code",
   "execution_count": 6,
   "id": "bde27046",
   "metadata": {
    "execution": {
     "iopub.execute_input": "2025-07-04T01:06:04.896915Z",
     "iopub.status.busy": "2025-07-04T01:06:04.896163Z",
     "iopub.status.idle": "2025-07-04T01:06:04.923600Z",
     "shell.execute_reply": "2025-07-04T01:06:04.923033Z"
    },
    "papermill": {
     "duration": 0.033728,
     "end_time": "2025-07-04T01:06:04.924671",
     "exception": false,
     "start_time": "2025-07-04T01:06:04.890943",
     "status": "completed"
    },
    "tags": []
   },
   "outputs": [
    {
     "name": "stdout",
     "output_type": "stream",
     "text": [
      "                  MissingCount  MissingPercentage\n",
      "RecordID                     0               0.00\n",
      "Offense                      0               0.00\n",
      "IncidentID                   0               0.00\n",
      "BlockNumber                  0               0.00\n",
      "StreetName                   0               0.00\n",
      "Agency                       0               0.00\n",
      "DateReported                 0               0.00\n",
      "HourReported                 0               0.00\n",
      "ReportingOfficer            17               0.07\n"
     ]
    }
   ],
   "source": [
    "def missing_percentage(df):\n",
    "    \"\"\"\n",
    "    Returns a DataFrame with the count and percentage of missing values for each column.\n",
    "    \n",
    "    Parameters:\n",
    "        df (pd.DataFrame): The input DataFrame.\n",
    "    \n",
    "    Returns:\n",
    "        pd.DataFrame: A DataFrame with columns 'MissingCount' and 'MissingPercentage'.\n",
    "    \"\"\"\n",
    "    total_rows = len(df)\n",
    "    missing_count = df.isnull().sum()\n",
    "    missing_percent = (missing_count / total_rows) * 100\n",
    "    \n",
    "    result = pd.DataFrame({\n",
    "        'MissingCount': missing_count,\n",
    "        'MissingPercentage': missing_percent.round(2)\n",
    "    })\n",
    "    \n",
    "    return result\n",
    "\n",
    "# Example usage:\n",
    "missing_info = missing_percentage(df)\n",
    "print(missing_info)\n"
   ]
  },
  {
   "cell_type": "markdown",
   "id": "9a458c7a",
   "metadata": {
    "papermill": {
     "duration": 0.003875,
     "end_time": "2025-07-04T01:06:04.932582",
     "exception": false,
     "start_time": "2025-07-04T01:06:04.928707",
     "status": "completed"
    },
    "tags": []
   },
   "source": [
    "## Data Preparation"
   ]
  },
  {
   "cell_type": "markdown",
   "id": "c61933b8",
   "metadata": {
    "papermill": {
     "duration": 0.003751,
     "end_time": "2025-07-04T01:06:04.940153",
     "exception": false,
     "start_time": "2025-07-04T01:06:04.936402",
     "status": "completed"
    },
    "tags": []
   },
   "source": [
    "### Data Conversion"
   ]
  },
  {
   "cell_type": "code",
   "execution_count": 7,
   "id": "03f4897e",
   "metadata": {
    "execution": {
     "iopub.execute_input": "2025-07-04T01:06:04.948984Z",
     "iopub.status.busy": "2025-07-04T01:06:04.948483Z",
     "iopub.status.idle": "2025-07-04T01:06:05.308862Z",
     "shell.execute_reply": "2025-07-04T01:06:05.308119Z"
    },
    "papermill": {
     "duration": 0.365927,
     "end_time": "2025-07-04T01:06:05.309927",
     "exception": false,
     "start_time": "2025-07-04T01:06:04.944000",
     "status": "completed"
    },
    "tags": []
   },
   "outputs": [
    {
     "data": {
      "text/html": [
       "<div>\n",
       "<style scoped>\n",
       "    .dataframe tbody tr th:only-of-type {\n",
       "        vertical-align: middle;\n",
       "    }\n",
       "\n",
       "    .dataframe tbody tr th {\n",
       "        vertical-align: top;\n",
       "    }\n",
       "\n",
       "    .dataframe thead th {\n",
       "        text-align: right;\n",
       "    }\n",
       "</style>\n",
       "<table border=\"1\" class=\"dataframe\">\n",
       "  <thead>\n",
       "    <tr style=\"text-align: right;\">\n",
       "      <th></th>\n",
       "      <th>RecordID</th>\n",
       "      <th>Offense</th>\n",
       "      <th>IncidentID</th>\n",
       "      <th>BlockNumber</th>\n",
       "      <th>StreetName</th>\n",
       "      <th>Agency</th>\n",
       "      <th>HourReported</th>\n",
       "      <th>ReportingOfficer</th>\n",
       "      <th>Date</th>\n",
       "      <th>DateString</th>\n",
       "      <th>DayOfWeek</th>\n",
       "      <th>Weekend</th>\n",
       "      <th>Season</th>\n",
       "      <th>HourAMPM</th>\n",
       "      <th>TimeOfDay</th>\n",
       "    </tr>\n",
       "  </thead>\n",
       "  <tbody>\n",
       "    <tr>\n",
       "      <th>0</th>\n",
       "      <td>1</td>\n",
       "      <td>Larceny - From Motor Vehicle</td>\n",
       "      <td>202500022761</td>\n",
       "      <td>100</td>\n",
       "      <td>LANKFORD AVE</td>\n",
       "      <td>CPD</td>\n",
       "      <td>1826</td>\n",
       "      <td>Hudson, Jesse</td>\n",
       "      <td>2025-07-01 18:26:43</td>\n",
       "      <td>2025-07-01 06:26:43 PM</td>\n",
       "      <td>Tuesday</td>\n",
       "      <td>False</td>\n",
       "      <td>Summer</td>\n",
       "      <td>06:26 PM</td>\n",
       "      <td>Evening</td>\n",
       "    </tr>\n",
       "    <tr>\n",
       "      <th>1</th>\n",
       "      <td>2</td>\n",
       "      <td>Assault Simple</td>\n",
       "      <td>202500022739</td>\n",
       "      <td>700</td>\n",
       "      <td>STONEHENGE AVE</td>\n",
       "      <td>CPD</td>\n",
       "      <td>1546</td>\n",
       "      <td>Hudson, Jesse</td>\n",
       "      <td>2025-07-01 15:46:01</td>\n",
       "      <td>2025-07-01 03:46:01 PM</td>\n",
       "      <td>Tuesday</td>\n",
       "      <td>False</td>\n",
       "      <td>Summer</td>\n",
       "      <td>03:46 PM</td>\n",
       "      <td>Afternoon</td>\n",
       "    </tr>\n",
       "    <tr>\n",
       "      <th>2</th>\n",
       "      <td>3</td>\n",
       "      <td>Assault Simple</td>\n",
       "      <td>202500022734</td>\n",
       "      <td>2500</td>\n",
       "      <td>WILLARD DR</td>\n",
       "      <td>CPD</td>\n",
       "      <td>1523</td>\n",
       "      <td>Lowry, Ryan</td>\n",
       "      <td>2025-07-01 15:23:06</td>\n",
       "      <td>2025-07-01 03:23:06 PM</td>\n",
       "      <td>Tuesday</td>\n",
       "      <td>False</td>\n",
       "      <td>Summer</td>\n",
       "      <td>03:23 PM</td>\n",
       "      <td>Afternoon</td>\n",
       "    </tr>\n",
       "    <tr>\n",
       "      <th>3</th>\n",
       "      <td>4</td>\n",
       "      <td>Lost/FoundProperty</td>\n",
       "      <td>202500022733</td>\n",
       "      <td>600</td>\n",
       "      <td>E MARKET ST</td>\n",
       "      <td>CPD</td>\n",
       "      <td>1501</td>\n",
       "      <td>Houchens, Jamell</td>\n",
       "      <td>2025-07-01 15:01:23</td>\n",
       "      <td>2025-07-01 03:01:23 PM</td>\n",
       "      <td>Tuesday</td>\n",
       "      <td>False</td>\n",
       "      <td>Summer</td>\n",
       "      <td>03:01 PM</td>\n",
       "      <td>Afternoon</td>\n",
       "    </tr>\n",
       "    <tr>\n",
       "      <th>4</th>\n",
       "      <td>5</td>\n",
       "      <td>Hit and Run</td>\n",
       "      <td>202500022728</td>\n",
       "      <td>1100</td>\n",
       "      <td>EMMET ST N</td>\n",
       "      <td>CPD</td>\n",
       "      <td>1420</td>\n",
       "      <td>Love-Baker, Sydney</td>\n",
       "      <td>2025-07-01 14:20:42</td>\n",
       "      <td>2025-07-01 02:20:42 PM</td>\n",
       "      <td>Tuesday</td>\n",
       "      <td>False</td>\n",
       "      <td>Summer</td>\n",
       "      <td>02:20 PM</td>\n",
       "      <td>Afternoon</td>\n",
       "    </tr>\n",
       "  </tbody>\n",
       "</table>\n",
       "</div>"
      ],
      "text/plain": [
       "   RecordID                       Offense    IncidentID BlockNumber  \\\n",
       "0         1  Larceny - From Motor Vehicle  202500022761         100   \n",
       "1         2                Assault Simple  202500022739         700   \n",
       "2         3                Assault Simple  202500022734        2500   \n",
       "3         4            Lost/FoundProperty  202500022733         600   \n",
       "4         5                   Hit and Run  202500022728        1100   \n",
       "\n",
       "       StreetName Agency HourReported    ReportingOfficer                Date  \\\n",
       "0    LANKFORD AVE    CPD         1826       Hudson, Jesse 2025-07-01 18:26:43   \n",
       "1  STONEHENGE AVE    CPD         1546       Hudson, Jesse 2025-07-01 15:46:01   \n",
       "2      WILLARD DR    CPD         1523         Lowry, Ryan 2025-07-01 15:23:06   \n",
       "3     E MARKET ST    CPD         1501    Houchens, Jamell 2025-07-01 15:01:23   \n",
       "4      EMMET ST N    CPD         1420  Love-Baker, Sydney 2025-07-01 14:20:42   \n",
       "\n",
       "               DateString DayOfWeek  Weekend  Season  HourAMPM  TimeOfDay  \n",
       "0  2025-07-01 06:26:43 PM   Tuesday    False  Summer  06:26 PM    Evening  \n",
       "1  2025-07-01 03:46:01 PM   Tuesday    False  Summer  03:46 PM  Afternoon  \n",
       "2  2025-07-01 03:23:06 PM   Tuesday    False  Summer  03:23 PM  Afternoon  \n",
       "3  2025-07-01 03:01:23 PM   Tuesday    False  Summer  03:01 PM  Afternoon  \n",
       "4  2025-07-01 02:20:42 PM   Tuesday    False  Summer  02:20 PM  Afternoon  "
      ]
     },
     "execution_count": 7,
     "metadata": {},
     "output_type": "execute_result"
    }
   ],
   "source": [
    "def convert_and_categorize_datereported(df, col='DateReported'):\n",
    "    \"\"\"\n",
    "    Converts an epoch (in milliseconds) date column into a timezone-aware datetime,\n",
    "    converts it to Eastern Time, and then creates columns for day-of-week, weekend flag,\n",
    "    season, 12-hour formatted time, and time-of-day. Keeps both a real datetime column\n",
    "    (Date) and a string representation (DateString).\n",
    "    \"\"\"\n",
    "    import pandas as pd\n",
    "\n",
    "    # Convert the epoch timestamp to a pandas datetime object as UTC, then convert to US/Eastern.\n",
    "    df[\"DateReported_dt\"] = (\n",
    "        pd.to_datetime(df[col], unit=\"ms\", errors=\"coerce\", utc=True)\n",
    "        .dt.tz_convert(\"US/Eastern\")\n",
    "    )\n",
    "    \n",
    "    # Create a true datetime column (remove timezone if you prefer naive datetime)\n",
    "    df[\"Date\"] = df[\"DateReported_dt\"].dt.tz_localize(None)\n",
    "\n",
    "    # Optionally, create a separate string-formatted column\n",
    "    df[\"DateString\"] = df[\"DateReported_dt\"].dt.strftime(\"%Y-%m-%d %I:%M:%S %p\")\n",
    "    \n",
    "    # DayOfWeek\n",
    "    df[\"DayOfWeek\"] = df[\"DateReported_dt\"].dt.day_name()\n",
    "    \n",
    "    # Weekend\n",
    "    df[\"Weekend\"] = df[\"DayOfWeek\"].isin([\"Saturday\", \"Sunday\"])\n",
    "    \n",
    "    # Helper function to determine the season\n",
    "    def get_season(dt):\n",
    "        month = dt.month\n",
    "        day = dt.day\n",
    "        # Approximate Northern Hemisphere season boundaries:\n",
    "        if (month == 12 and day >= 21) or (month < 3) or (month == 3 and day < 20):\n",
    "            return \"Winter\"\n",
    "        elif (month == 3 and day >= 20) or (month < 6) or (month == 6 and day < 21):\n",
    "            return \"Spring\"\n",
    "        elif (month == 6 and day >= 21) or (month < 9) or (month == 9 and day < 22):\n",
    "            return \"Summer\"\n",
    "        else:\n",
    "            return \"Autumn\"\n",
    "    \n",
    "    df[\"Season\"] = df[\"DateReported_dt\"].apply(get_season)\n",
    "    \n",
    "    # 12-hour formatted time (HourAMPM)\n",
    "    df[\"HourAMPM\"] = df[\"DateReported_dt\"].dt.strftime(\"%I:%M %p\")\n",
    "    \n",
    "    # Extract hour (0-23) for time-of-day\n",
    "    df[\"HourValue\"] = df[\"DateReported_dt\"].dt.hour\n",
    "    \n",
    "    def time_of_day(hour):\n",
    "        if pd.isnull(hour):\n",
    "            return None\n",
    "        if 5 <= hour < 12:\n",
    "            return \"Morning\"\n",
    "        elif 12 <= hour < 17:\n",
    "            return \"Afternoon\"\n",
    "        elif 17 <= hour < 21:\n",
    "            return \"Evening\"\n",
    "        else:\n",
    "            return \"Night\"\n",
    "    \n",
    "    df[\"TimeOfDay\"] = df[\"HourValue\"].apply(time_of_day)\n",
    "    \n",
    "    # Drop columns you no longer need\n",
    "    df.drop(columns=[col, \"DateReported_dt\", \"HourValue\"], inplace=True)\n",
    "    \n",
    "    return df\n",
    "\n",
    "# Example usage:\n",
    "df = convert_and_categorize_datereported(df)\n",
    "df.head()\n"
   ]
  },
  {
   "cell_type": "code",
   "execution_count": 8,
   "id": "b023f95c",
   "metadata": {
    "execution": {
     "iopub.execute_input": "2025-07-04T01:06:05.319678Z",
     "iopub.status.busy": "2025-07-04T01:06:05.319227Z",
     "iopub.status.idle": "2025-07-04T01:06:05.347081Z",
     "shell.execute_reply": "2025-07-04T01:06:05.346524Z"
    },
    "papermill": {
     "duration": 0.033791,
     "end_time": "2025-07-04T01:06:05.348126",
     "exception": false,
     "start_time": "2025-07-04T01:06:05.314335",
     "status": "completed"
    },
    "tags": []
   },
   "outputs": [
    {
     "name": "stdout",
     "output_type": "stream",
     "text": [
      "<class 'pandas.core.frame.DataFrame'>\n",
      "RangeIndex: 25546 entries, 0 to 25545\n",
      "Data columns (total 15 columns):\n",
      " #   Column            Non-Null Count  Dtype         \n",
      "---  ------            --------------  -----         \n",
      " 0   RecordID          25546 non-null  int64         \n",
      " 1   Offense           25546 non-null  object        \n",
      " 2   IncidentID        25546 non-null  object        \n",
      " 3   BlockNumber       25546 non-null  object        \n",
      " 4   StreetName        25546 non-null  object        \n",
      " 5   Agency            25546 non-null  object        \n",
      " 6   HourReported      25546 non-null  object        \n",
      " 7   ReportingOfficer  25529 non-null  object        \n",
      " 8   Date              25546 non-null  datetime64[ns]\n",
      " 9   DateString        25546 non-null  object        \n",
      " 10  DayOfWeek         25546 non-null  object        \n",
      " 11  Weekend           25546 non-null  bool          \n",
      " 12  Season            25546 non-null  object        \n",
      " 13  HourAMPM          25546 non-null  object        \n",
      " 14  TimeOfDay         25546 non-null  object        \n",
      "dtypes: bool(1), datetime64[ns](1), int64(1), object(12)\n",
      "memory usage: 2.8+ MB\n"
     ]
    }
   ],
   "source": [
    "df.info()"
   ]
  },
  {
   "cell_type": "markdown",
   "id": "946f35d4",
   "metadata": {
    "papermill": {
     "duration": 0.004082,
     "end_time": "2025-07-04T01:06:05.356489",
     "exception": false,
     "start_time": "2025-07-04T01:06:05.352407",
     "status": "completed"
    },
    "tags": []
   },
   "source": [
    "### Coordinates"
   ]
  },
  {
   "cell_type": "code",
   "execution_count": 9,
   "id": "69536e66",
   "metadata": {
    "execution": {
     "iopub.execute_input": "2025-07-04T01:06:05.365936Z",
     "iopub.status.busy": "2025-07-04T01:06:05.365476Z",
     "iopub.status.idle": "2025-07-04T01:06:05.410024Z",
     "shell.execute_reply": "2025-07-04T01:06:05.409329Z"
    },
    "papermill": {
     "duration": 0.050331,
     "end_time": "2025-07-04T01:06:05.411006",
     "exception": false,
     "start_time": "2025-07-04T01:06:05.360675",
     "status": "completed"
    },
    "tags": []
   },
   "outputs": [
    {
     "name": "stdout",
     "output_type": "stream",
     "text": [
      "Loaded geocode cache.\n",
      "Geocode cache updated and saved.\n"
     ]
    },
    {
     "data": {
      "text/html": [
       "<div>\n",
       "<style scoped>\n",
       "    .dataframe tbody tr th:only-of-type {\n",
       "        vertical-align: middle;\n",
       "    }\n",
       "\n",
       "    .dataframe tbody tr th {\n",
       "        vertical-align: top;\n",
       "    }\n",
       "\n",
       "    .dataframe thead th {\n",
       "        text-align: right;\n",
       "    }\n",
       "</style>\n",
       "<table border=\"1\" class=\"dataframe\">\n",
       "  <thead>\n",
       "    <tr style=\"text-align: right;\">\n",
       "      <th></th>\n",
       "      <th>RecordID</th>\n",
       "      <th>Offense</th>\n",
       "      <th>IncidentID</th>\n",
       "      <th>BlockNumber</th>\n",
       "      <th>StreetName</th>\n",
       "      <th>Agency</th>\n",
       "      <th>HourReported</th>\n",
       "      <th>ReportingOfficer</th>\n",
       "      <th>Date</th>\n",
       "      <th>DateString</th>\n",
       "      <th>DayOfWeek</th>\n",
       "      <th>Weekend</th>\n",
       "      <th>Season</th>\n",
       "      <th>HourAMPM</th>\n",
       "      <th>TimeOfDay</th>\n",
       "      <th>FullStreet</th>\n",
       "      <th>lat</th>\n",
       "      <th>lon</th>\n",
       "    </tr>\n",
       "  </thead>\n",
       "  <tbody>\n",
       "    <tr>\n",
       "      <th>0</th>\n",
       "      <td>1</td>\n",
       "      <td>Larceny - From Motor Vehicle</td>\n",
       "      <td>202500022761</td>\n",
       "      <td>100</td>\n",
       "      <td>LANKFORD AVE</td>\n",
       "      <td>CPD</td>\n",
       "      <td>1826</td>\n",
       "      <td>Hudson, Jesse</td>\n",
       "      <td>2025-07-01 18:26:43</td>\n",
       "      <td>2025-07-01 06:26:43 PM</td>\n",
       "      <td>Tuesday</td>\n",
       "      <td>False</td>\n",
       "      <td>Summer</td>\n",
       "      <td>06:26 PM</td>\n",
       "      <td>Evening</td>\n",
       "      <td>100 LANKFORD AVE</td>\n",
       "      <td>38.021311</td>\n",
       "      <td>-78.487056</td>\n",
       "    </tr>\n",
       "    <tr>\n",
       "      <th>1</th>\n",
       "      <td>2</td>\n",
       "      <td>Assault Simple</td>\n",
       "      <td>202500022739</td>\n",
       "      <td>700</td>\n",
       "      <td>STONEHENGE AVE</td>\n",
       "      <td>CPD</td>\n",
       "      <td>1546</td>\n",
       "      <td>Hudson, Jesse</td>\n",
       "      <td>2025-07-01 15:46:01</td>\n",
       "      <td>2025-07-01 03:46:01 PM</td>\n",
       "      <td>Tuesday</td>\n",
       "      <td>False</td>\n",
       "      <td>Summer</td>\n",
       "      <td>03:46 PM</td>\n",
       "      <td>Afternoon</td>\n",
       "      <td>700 STONEHENGE AVE</td>\n",
       "      <td>38.018659</td>\n",
       "      <td>-78.482357</td>\n",
       "    </tr>\n",
       "    <tr>\n",
       "      <th>2</th>\n",
       "      <td>3</td>\n",
       "      <td>Assault Simple</td>\n",
       "      <td>202500022734</td>\n",
       "      <td>2500</td>\n",
       "      <td>WILLARD DR</td>\n",
       "      <td>CPD</td>\n",
       "      <td>1523</td>\n",
       "      <td>Lowry, Ryan</td>\n",
       "      <td>2025-07-01 15:23:06</td>\n",
       "      <td>2025-07-01 03:23:06 PM</td>\n",
       "      <td>Tuesday</td>\n",
       "      <td>False</td>\n",
       "      <td>Summer</td>\n",
       "      <td>03:23 PM</td>\n",
       "      <td>Afternoon</td>\n",
       "      <td>2500 WILLARD DR</td>\n",
       "      <td>38.019395</td>\n",
       "      <td>-78.510234</td>\n",
       "    </tr>\n",
       "    <tr>\n",
       "      <th>3</th>\n",
       "      <td>4</td>\n",
       "      <td>Lost/FoundProperty</td>\n",
       "      <td>202500022733</td>\n",
       "      <td>600</td>\n",
       "      <td>E MARKET ST</td>\n",
       "      <td>CPD</td>\n",
       "      <td>1501</td>\n",
       "      <td>Houchens, Jamell</td>\n",
       "      <td>2025-07-01 15:01:23</td>\n",
       "      <td>2025-07-01 03:01:23 PM</td>\n",
       "      <td>Tuesday</td>\n",
       "      <td>False</td>\n",
       "      <td>Summer</td>\n",
       "      <td>03:01 PM</td>\n",
       "      <td>Afternoon</td>\n",
       "      <td>600 E MARKET ST</td>\n",
       "      <td>38.030175</td>\n",
       "      <td>-78.477574</td>\n",
       "    </tr>\n",
       "    <tr>\n",
       "      <th>4</th>\n",
       "      <td>5</td>\n",
       "      <td>Hit and Run</td>\n",
       "      <td>202500022728</td>\n",
       "      <td>1100</td>\n",
       "      <td>EMMET ST N</td>\n",
       "      <td>CPD</td>\n",
       "      <td>1420</td>\n",
       "      <td>Love-Baker, Sydney</td>\n",
       "      <td>2025-07-01 14:20:42</td>\n",
       "      <td>2025-07-01 02:20:42 PM</td>\n",
       "      <td>Tuesday</td>\n",
       "      <td>False</td>\n",
       "      <td>Summer</td>\n",
       "      <td>02:20 PM</td>\n",
       "      <td>Afternoon</td>\n",
       "      <td>1100 EMMET ST N</td>\n",
       "      <td>38.051639</td>\n",
       "      <td>-78.501523</td>\n",
       "    </tr>\n",
       "  </tbody>\n",
       "</table>\n",
       "</div>"
      ],
      "text/plain": [
       "   RecordID                       Offense    IncidentID BlockNumber  \\\n",
       "0         1  Larceny - From Motor Vehicle  202500022761         100   \n",
       "1         2                Assault Simple  202500022739         700   \n",
       "2         3                Assault Simple  202500022734        2500   \n",
       "3         4            Lost/FoundProperty  202500022733         600   \n",
       "4         5                   Hit and Run  202500022728        1100   \n",
       "\n",
       "       StreetName Agency HourReported    ReportingOfficer                Date  \\\n",
       "0    LANKFORD AVE    CPD         1826       Hudson, Jesse 2025-07-01 18:26:43   \n",
       "1  STONEHENGE AVE    CPD         1546       Hudson, Jesse 2025-07-01 15:46:01   \n",
       "2      WILLARD DR    CPD         1523         Lowry, Ryan 2025-07-01 15:23:06   \n",
       "3     E MARKET ST    CPD         1501    Houchens, Jamell 2025-07-01 15:01:23   \n",
       "4      EMMET ST N    CPD         1420  Love-Baker, Sydney 2025-07-01 14:20:42   \n",
       "\n",
       "               DateString DayOfWeek  Weekend  Season  HourAMPM  TimeOfDay  \\\n",
       "0  2025-07-01 06:26:43 PM   Tuesday    False  Summer  06:26 PM    Evening   \n",
       "1  2025-07-01 03:46:01 PM   Tuesday    False  Summer  03:46 PM  Afternoon   \n",
       "2  2025-07-01 03:23:06 PM   Tuesday    False  Summer  03:23 PM  Afternoon   \n",
       "3  2025-07-01 03:01:23 PM   Tuesday    False  Summer  03:01 PM  Afternoon   \n",
       "4  2025-07-01 02:20:42 PM   Tuesday    False  Summer  02:20 PM  Afternoon   \n",
       "\n",
       "           FullStreet        lat        lon  \n",
       "0    100 LANKFORD AVE  38.021311 -78.487056  \n",
       "1  700 STONEHENGE AVE  38.018659 -78.482357  \n",
       "2     2500 WILLARD DR  38.019395 -78.510234  \n",
       "3     600 E MARKET ST  38.030175 -78.477574  \n",
       "4     1100 EMMET ST N  38.051639 -78.501523  "
      ]
     },
     "execution_count": 9,
     "metadata": {},
     "output_type": "execute_result"
    }
   ],
   "source": [
    "# Combine BlockNumber and StreetName into a full address string\n",
    "df['FullStreet'] = df['BlockNumber'].astype(str) + \" \" + df['StreetName']\n",
    "\n",
    "# --- Step 1: Setup the Google Maps Client and Cache ---\n",
    "gmaps = googlemaps.Client(key=GOOGLE_API_KEY)\n",
    "\n",
    "# Try to load cached geocoding results if available.\n",
    "try:\n",
    "    with open(\"geocode_cache_google.pkl\", \"rb\") as f:\n",
    "        street_coords = pickle.load(f)\n",
    "    print(\"Loaded geocode cache.\")\n",
    "except FileNotFoundError:\n",
    "    street_coords = {}\n",
    "    print(\"No cache found; starting fresh.\")\n",
    "\n",
    "def geocode_address(address):\n",
    "    try:\n",
    "        # Append city and state to help geocoding\n",
    "        result = gmaps.geocode(f\"{address}, Charlottesville, VA\")\n",
    "        if result:\n",
    "            lat = result[0]['geometry']['location']['lat']\n",
    "            lon = result[0]['geometry']['location']['lng']\n",
    "            return lat, lon\n",
    "    except Exception as e:\n",
    "        print(f\"Error geocoding {address}: {e}\")\n",
    "    return None, None\n",
    "\n",
    "# --- Step 2: Geocode Only New Addresses ---\n",
    "unique_addresses = df['FullStreet'].unique()\n",
    "for address in unique_addresses:\n",
    "    if address not in street_coords:\n",
    "        lat, lon = geocode_address(address)\n",
    "        street_coords[address] = (lat, lon)\n",
    "        print(f\"Geocoded {address}: {lat}, {lon}\")\n",
    "\n",
    "# Save the updated cache to disk.\n",
    "with open(\"geocode_cache_google.pkl\", \"wb\") as f:\n",
    "    pickle.dump(street_coords, f)\n",
    "    print(\"Geocode cache updated and saved.\")\n",
    "\n",
    "# --- Step 3: Map Coordinates Back to DataFrame ---\n",
    "df['lat'] = df['FullStreet'].map(lambda s: street_coords.get(s, (None, None))[0])\n",
    "df['lon'] = df['FullStreet'].map(lambda s: street_coords.get(s, (None, None))[1])\n",
    "\n",
    "df.head()"
   ]
  },
  {
   "cell_type": "markdown",
   "id": "ea6b4459",
   "metadata": {
    "papermill": {
     "duration": 0.004494,
     "end_time": "2025-07-04T01:06:05.420246",
     "exception": false,
     "start_time": "2025-07-04T01:06:05.415752",
     "status": "completed"
    },
    "tags": []
   },
   "source": [
    "### Neighborhood"
   ]
  },
  {
   "cell_type": "code",
   "execution_count": 10,
   "id": "f49b256f",
   "metadata": {
    "execution": {
     "iopub.execute_input": "2025-07-04T01:06:05.429988Z",
     "iopub.status.busy": "2025-07-04T01:06:05.429555Z",
     "iopub.status.idle": "2025-07-04T01:06:06.414839Z",
     "shell.execute_reply": "2025-07-04T01:06:06.414149Z"
    },
    "papermill": {
     "duration": 0.991331,
     "end_time": "2025-07-04T01:06:06.415912",
     "exception": false,
     "start_time": "2025-07-04T01:06:05.424581",
     "status": "completed"
    },
    "tags": []
   },
   "outputs": [
    {
     "name": "stdout",
     "output_type": "stream",
     "text": [
      "Loaded neighborhood cache.\n"
     ]
    },
    {
     "name": "stdout",
     "output_type": "stream",
     "text": [
      "Error getting neighborhood for nan, nan: HTTP Error: 400\n",
      "Error getting neighborhood for nan, nan: HTTP Error: 400\n"
     ]
    },
    {
     "name": "stdout",
     "output_type": "stream",
     "text": [
      "Error getting neighborhood for nan, nan: HTTP Error: 400\n",
      "Error getting neighborhood for nan, nan: HTTP Error: 400\n",
      "Error getting neighborhood for nan, nan: HTTP Error: 400\n"
     ]
    },
    {
     "name": "stdout",
     "output_type": "stream",
     "text": [
      "Error getting neighborhood for nan, nan: HTTP Error: 400\n",
      "Error getting neighborhood for nan, nan: HTTP Error: 400\n",
      "Error getting neighborhood for nan, nan: HTTP Error: 400\n",
      "Error getting neighborhood for nan, nan: HTTP Error: 400\n"
     ]
    },
    {
     "name": "stdout",
     "output_type": "stream",
     "text": [
      "Error getting neighborhood for nan, nan: HTTP Error: 400\n",
      "Error getting neighborhood for nan, nan: HTTP Error: 400\n"
     ]
    },
    {
     "name": "stdout",
     "output_type": "stream",
     "text": [
      "Error getting neighborhood for nan, nan: HTTP Error: 400\n",
      "Error getting neighborhood for nan, nan: HTTP Error: 400\n",
      "Error getting neighborhood for nan, nan: HTTP Error: 400\n",
      "Error getting neighborhood for nan, nan: HTTP Error: 400\n",
      "Error getting neighborhood for nan, nan: HTTP Error: 400\n"
     ]
    },
    {
     "name": "stdout",
     "output_type": "stream",
     "text": [
      "Error getting neighborhood for nan, nan: HTTP Error: 400\n",
      "Error getting neighborhood for nan, nan: HTTP Error: 400\n",
      "Error getting neighborhood for nan, nan: HTTP Error: 400\n",
      "Error getting neighborhood for nan, nan: HTTP Error: 400\n",
      "Error getting neighborhood for nan, nan: HTTP Error: 400\n",
      "Error getting neighborhood for nan, nan: HTTP Error: 400\n"
     ]
    },
    {
     "name": "stdout",
     "output_type": "stream",
     "text": [
      "Error getting neighborhood for nan, nan: HTTP Error: 400\n",
      "Error getting neighborhood for nan, nan: HTTP Error: 400\n"
     ]
    },
    {
     "name": "stdout",
     "output_type": "stream",
     "text": [
      "Error getting neighborhood for nan, nan: HTTP Error: 400\n",
      "Error getting neighborhood for nan, nan: HTTP Error: 400\n",
      "Error getting neighborhood for nan, nan: HTTP Error: 400\n",
      "Error getting neighborhood for nan, nan: HTTP Error: 400\n",
      "Error getting neighborhood for nan, nan: HTTP Error: 400\n"
     ]
    },
    {
     "name": "stdout",
     "output_type": "stream",
     "text": [
      "Error getting neighborhood for nan, nan: HTTP Error: 400\n",
      "Error getting neighborhood for nan, nan: HTTP Error: 400\n",
      "Error getting neighborhood for nan, nan: HTTP Error: 400\n",
      "Error getting neighborhood for nan, nan: HTTP Error: 400\n",
      "Error getting neighborhood for nan, nan: HTTP Error: 400\n",
      "Error getting neighborhood for nan, nan: HTTP Error: 400\n"
     ]
    },
    {
     "name": "stdout",
     "output_type": "stream",
     "text": [
      "Error getting neighborhood for nan, nan: HTTP Error: 400\n",
      "Error getting neighborhood for nan, nan: HTTP Error: 400\n"
     ]
    },
    {
     "name": "stdout",
     "output_type": "stream",
     "text": [
      "Error getting neighborhood for nan, nan: HTTP Error: 400\n"
     ]
    },
    {
     "data": {
      "text/html": [
       "<div>\n",
       "<style scoped>\n",
       "    .dataframe tbody tr th:only-of-type {\n",
       "        vertical-align: middle;\n",
       "    }\n",
       "\n",
       "    .dataframe tbody tr th {\n",
       "        vertical-align: top;\n",
       "    }\n",
       "\n",
       "    .dataframe thead th {\n",
       "        text-align: right;\n",
       "    }\n",
       "</style>\n",
       "<table border=\"1\" class=\"dataframe\">\n",
       "  <thead>\n",
       "    <tr style=\"text-align: right;\">\n",
       "      <th></th>\n",
       "      <th>RecordID</th>\n",
       "      <th>Offense</th>\n",
       "      <th>IncidentID</th>\n",
       "      <th>BlockNumber</th>\n",
       "      <th>StreetName</th>\n",
       "      <th>Agency</th>\n",
       "      <th>HourReported</th>\n",
       "      <th>ReportingOfficer</th>\n",
       "      <th>Date</th>\n",
       "      <th>DateString</th>\n",
       "      <th>DayOfWeek</th>\n",
       "      <th>Weekend</th>\n",
       "      <th>Season</th>\n",
       "      <th>HourAMPM</th>\n",
       "      <th>TimeOfDay</th>\n",
       "      <th>FullStreet</th>\n",
       "      <th>lat</th>\n",
       "      <th>lon</th>\n",
       "      <th>neighborhood</th>\n",
       "    </tr>\n",
       "  </thead>\n",
       "  <tbody>\n",
       "    <tr>\n",
       "      <th>0</th>\n",
       "      <td>1</td>\n",
       "      <td>Larceny - From Motor Vehicle</td>\n",
       "      <td>202500022761</td>\n",
       "      <td>100</td>\n",
       "      <td>LANKFORD AVE</td>\n",
       "      <td>CPD</td>\n",
       "      <td>1826</td>\n",
       "      <td>Hudson, Jesse</td>\n",
       "      <td>2025-07-01 18:26:43</td>\n",
       "      <td>2025-07-01 06:26:43 PM</td>\n",
       "      <td>Tuesday</td>\n",
       "      <td>False</td>\n",
       "      <td>Summer</td>\n",
       "      <td>06:26 PM</td>\n",
       "      <td>Evening</td>\n",
       "      <td>100 LANKFORD AVE</td>\n",
       "      <td>38.021311</td>\n",
       "      <td>-78.487056</td>\n",
       "      <td>Ridge St.</td>\n",
       "    </tr>\n",
       "    <tr>\n",
       "      <th>1</th>\n",
       "      <td>2</td>\n",
       "      <td>Assault Simple</td>\n",
       "      <td>202500022739</td>\n",
       "      <td>700</td>\n",
       "      <td>STONEHENGE AVE</td>\n",
       "      <td>CPD</td>\n",
       "      <td>1546</td>\n",
       "      <td>Hudson, Jesse</td>\n",
       "      <td>2025-07-01 15:46:01</td>\n",
       "      <td>2025-07-01 03:46:01 PM</td>\n",
       "      <td>Tuesday</td>\n",
       "      <td>False</td>\n",
       "      <td>Summer</td>\n",
       "      <td>03:46 PM</td>\n",
       "      <td>Afternoon</td>\n",
       "      <td>700 STONEHENGE AVE</td>\n",
       "      <td>38.018659</td>\n",
       "      <td>-78.482357</td>\n",
       "      <td>Belmont</td>\n",
       "    </tr>\n",
       "    <tr>\n",
       "      <th>2</th>\n",
       "      <td>3</td>\n",
       "      <td>Assault Simple</td>\n",
       "      <td>202500022734</td>\n",
       "      <td>2500</td>\n",
       "      <td>WILLARD DR</td>\n",
       "      <td>CPD</td>\n",
       "      <td>1523</td>\n",
       "      <td>Lowry, Ryan</td>\n",
       "      <td>2025-07-01 15:23:06</td>\n",
       "      <td>2025-07-01 03:23:06 PM</td>\n",
       "      <td>Tuesday</td>\n",
       "      <td>False</td>\n",
       "      <td>Summer</td>\n",
       "      <td>03:23 PM</td>\n",
       "      <td>Afternoon</td>\n",
       "      <td>2500 WILLARD DR</td>\n",
       "      <td>38.019395</td>\n",
       "      <td>-78.510234</td>\n",
       "      <td>Fry's Spring</td>\n",
       "    </tr>\n",
       "    <tr>\n",
       "      <th>3</th>\n",
       "      <td>4</td>\n",
       "      <td>Lost/FoundProperty</td>\n",
       "      <td>202500022733</td>\n",
       "      <td>600</td>\n",
       "      <td>E MARKET ST</td>\n",
       "      <td>CPD</td>\n",
       "      <td>1501</td>\n",
       "      <td>Houchens, Jamell</td>\n",
       "      <td>2025-07-01 15:01:23</td>\n",
       "      <td>2025-07-01 03:01:23 PM</td>\n",
       "      <td>Tuesday</td>\n",
       "      <td>False</td>\n",
       "      <td>Summer</td>\n",
       "      <td>03:01 PM</td>\n",
       "      <td>Afternoon</td>\n",
       "      <td>600 E MARKET ST</td>\n",
       "      <td>38.030175</td>\n",
       "      <td>-78.477574</td>\n",
       "      <td>Downtown Mall</td>\n",
       "    </tr>\n",
       "    <tr>\n",
       "      <th>4</th>\n",
       "      <td>5</td>\n",
       "      <td>Hit and Run</td>\n",
       "      <td>202500022728</td>\n",
       "      <td>1100</td>\n",
       "      <td>EMMET ST N</td>\n",
       "      <td>CPD</td>\n",
       "      <td>1420</td>\n",
       "      <td>Love-Baker, Sydney</td>\n",
       "      <td>2025-07-01 14:20:42</td>\n",
       "      <td>2025-07-01 02:20:42 PM</td>\n",
       "      <td>Tuesday</td>\n",
       "      <td>False</td>\n",
       "      <td>Summer</td>\n",
       "      <td>02:20 PM</td>\n",
       "      <td>Afternoon</td>\n",
       "      <td>1100 EMMET ST N</td>\n",
       "      <td>38.051639</td>\n",
       "      <td>-78.501523</td>\n",
       "      <td>Barracks Road</td>\n",
       "    </tr>\n",
       "  </tbody>\n",
       "</table>\n",
       "</div>"
      ],
      "text/plain": [
       "   RecordID                       Offense    IncidentID BlockNumber  \\\n",
       "0         1  Larceny - From Motor Vehicle  202500022761         100   \n",
       "1         2                Assault Simple  202500022739         700   \n",
       "2         3                Assault Simple  202500022734        2500   \n",
       "3         4            Lost/FoundProperty  202500022733         600   \n",
       "4         5                   Hit and Run  202500022728        1100   \n",
       "\n",
       "       StreetName Agency HourReported    ReportingOfficer                Date  \\\n",
       "0    LANKFORD AVE    CPD         1826       Hudson, Jesse 2025-07-01 18:26:43   \n",
       "1  STONEHENGE AVE    CPD         1546       Hudson, Jesse 2025-07-01 15:46:01   \n",
       "2      WILLARD DR    CPD         1523         Lowry, Ryan 2025-07-01 15:23:06   \n",
       "3     E MARKET ST    CPD         1501    Houchens, Jamell 2025-07-01 15:01:23   \n",
       "4      EMMET ST N    CPD         1420  Love-Baker, Sydney 2025-07-01 14:20:42   \n",
       "\n",
       "               DateString DayOfWeek  Weekend  Season  HourAMPM  TimeOfDay  \\\n",
       "0  2025-07-01 06:26:43 PM   Tuesday    False  Summer  06:26 PM    Evening   \n",
       "1  2025-07-01 03:46:01 PM   Tuesday    False  Summer  03:46 PM  Afternoon   \n",
       "2  2025-07-01 03:23:06 PM   Tuesday    False  Summer  03:23 PM  Afternoon   \n",
       "3  2025-07-01 03:01:23 PM   Tuesday    False  Summer  03:01 PM  Afternoon   \n",
       "4  2025-07-01 02:20:42 PM   Tuesday    False  Summer  02:20 PM  Afternoon   \n",
       "\n",
       "           FullStreet        lat        lon   neighborhood  \n",
       "0    100 LANKFORD AVE  38.021311 -78.487056      Ridge St.  \n",
       "1  700 STONEHENGE AVE  38.018659 -78.482357        Belmont  \n",
       "2     2500 WILLARD DR  38.019395 -78.510234   Fry's Spring  \n",
       "3     600 E MARKET ST  38.030175 -78.477574  Downtown Mall  \n",
       "4     1100 EMMET ST N  38.051639 -78.501523  Barracks Road  "
      ]
     },
     "execution_count": 10,
     "metadata": {},
     "output_type": "execute_result"
    }
   ],
   "source": [
    "# Initialize the Google Maps client.\n",
    "gmaps = googlemaps.Client(key=GOOGLE_API_KEY)\n",
    "\n",
    "# Try to load a persistent neighborhood cache if available.\n",
    "try:\n",
    "    with open(\"neighborhood_cache.pkl\", \"rb\") as f:\n",
    "        neighborhood_cache = pickle.load(f)\n",
    "    print(\"Loaded neighborhood cache.\")\n",
    "except FileNotFoundError:\n",
    "    neighborhood_cache = {}\n",
    "    print(\"No neighborhood cache found; starting fresh.\")\n",
    "\n",
    "def get_neighborhood(lat, lon):\n",
    "    \"\"\"\n",
    "    Reverse geocodes a latitude and longitude to retrieve the neighborhood.\n",
    "    Caches results to speed up subsequent lookups.\n",
    "    \"\"\"\n",
    "    key = (lat, lon)\n",
    "    if key in neighborhood_cache:\n",
    "        return neighborhood_cache[key]\n",
    "    \n",
    "    try:\n",
    "        result = gmaps.reverse_geocode((lat, lon))\n",
    "        if result:\n",
    "            # Look for the 'neighborhood' component in the first result.\n",
    "            for component in result[0]['address_components']:\n",
    "                if 'neighborhood' in component['types']:\n",
    "                    neighborhood = component['long_name']\n",
    "                    neighborhood_cache[key] = neighborhood\n",
    "                    return neighborhood\n",
    "            # If no neighborhood is found, return \"N/A\"\n",
    "            neighborhood_cache[key] = \"N/A\"\n",
    "            return \"N/A\"\n",
    "    except Exception as e:\n",
    "        print(f\"Error getting neighborhood for {lat}, {lon}: {e}\")\n",
    "        return \"N/A\"\n",
    "    \n",
    "    # Pause to respect usage limits.\n",
    "    time.sleep(1)\n",
    "\n",
    "# Example usage: Apply to your DataFrame 'df' that already has 'lat' and 'lon' columns.\n",
    "df['neighborhood'] = df.apply(lambda row: get_neighborhood(row['lat'], row['lon']), axis=1)\n",
    "\n",
    "# Save the updated neighborhood cache.\n",
    "with open(\"neighborhood_cache.pkl\", \"wb\") as f:\n",
    "    pickle.dump(neighborhood_cache, f)\n",
    "\n",
    "df.head()\n"
   ]
  },
  {
   "cell_type": "markdown",
   "id": "c2a98c02",
   "metadata": {
    "papermill": {
     "duration": 0.005028,
     "end_time": "2025-07-04T01:06:06.426419",
     "exception": false,
     "start_time": "2025-07-04T01:06:06.421391",
     "status": "completed"
    },
    "tags": []
   },
   "source": [
    "### Zip"
   ]
  },
  {
   "cell_type": "code",
   "execution_count": 11,
   "id": "966284b7",
   "metadata": {
    "execution": {
     "iopub.execute_input": "2025-07-04T01:06:06.437679Z",
     "iopub.status.busy": "2025-07-04T01:06:06.437248Z",
     "iopub.status.idle": "2025-07-04T01:06:44.740142Z",
     "shell.execute_reply": "2025-07-04T01:06:44.739502Z"
    },
    "papermill": {
     "duration": 38.309703,
     "end_time": "2025-07-04T01:06:44.741235",
     "exception": false,
     "start_time": "2025-07-04T01:06:06.431532",
     "status": "completed"
    },
    "tags": []
   },
   "outputs": [
    {
     "name": "stdout",
     "output_type": "stream",
     "text": [
      "Loaded zip cache.\n",
      "Error getting ZIP for nan, nan: Must be a coordinate pair or Point\n"
     ]
    },
    {
     "name": "stdout",
     "output_type": "stream",
     "text": [
      "Error getting ZIP for nan, nan: Must be a coordinate pair or Point\n"
     ]
    },
    {
     "name": "stdout",
     "output_type": "stream",
     "text": [
      "Error getting ZIP for nan, nan: Must be a coordinate pair or Point\n"
     ]
    },
    {
     "name": "stdout",
     "output_type": "stream",
     "text": [
      "Error getting ZIP for nan, nan: Must be a coordinate pair or Point\n"
     ]
    },
    {
     "name": "stdout",
     "output_type": "stream",
     "text": [
      "Error getting ZIP for nan, nan: Must be a coordinate pair or Point\n"
     ]
    },
    {
     "name": "stdout",
     "output_type": "stream",
     "text": [
      "Error getting ZIP for nan, nan: Must be a coordinate pair or Point\n"
     ]
    },
    {
     "name": "stdout",
     "output_type": "stream",
     "text": [
      "Error getting ZIP for nan, nan: Must be a coordinate pair or Point\n"
     ]
    },
    {
     "name": "stdout",
     "output_type": "stream",
     "text": [
      "Error getting ZIP for nan, nan: Must be a coordinate pair or Point\n"
     ]
    },
    {
     "name": "stdout",
     "output_type": "stream",
     "text": [
      "Error getting ZIP for nan, nan: Must be a coordinate pair or Point\n"
     ]
    },
    {
     "name": "stdout",
     "output_type": "stream",
     "text": [
      "Error getting ZIP for nan, nan: Must be a coordinate pair or Point\n"
     ]
    },
    {
     "name": "stdout",
     "output_type": "stream",
     "text": [
      "Error getting ZIP for nan, nan: Must be a coordinate pair or Point\n"
     ]
    },
    {
     "name": "stdout",
     "output_type": "stream",
     "text": [
      "Error getting ZIP for nan, nan: Must be a coordinate pair or Point\n"
     ]
    },
    {
     "name": "stdout",
     "output_type": "stream",
     "text": [
      "Error getting ZIP for nan, nan: Must be a coordinate pair or Point\n"
     ]
    },
    {
     "name": "stdout",
     "output_type": "stream",
     "text": [
      "Error getting ZIP for nan, nan: Must be a coordinate pair or Point\n"
     ]
    },
    {
     "name": "stdout",
     "output_type": "stream",
     "text": [
      "Error getting ZIP for nan, nan: Must be a coordinate pair or Point\n"
     ]
    },
    {
     "name": "stdout",
     "output_type": "stream",
     "text": [
      "Error getting ZIP for nan, nan: Must be a coordinate pair or Point\n"
     ]
    },
    {
     "name": "stdout",
     "output_type": "stream",
     "text": [
      "Error getting ZIP for nan, nan: Must be a coordinate pair or Point\n"
     ]
    },
    {
     "name": "stdout",
     "output_type": "stream",
     "text": [
      "Error getting ZIP for nan, nan: Must be a coordinate pair or Point\n"
     ]
    },
    {
     "name": "stdout",
     "output_type": "stream",
     "text": [
      "Error getting ZIP for nan, nan: Must be a coordinate pair or Point\n"
     ]
    },
    {
     "name": "stdout",
     "output_type": "stream",
     "text": [
      "Error getting ZIP for nan, nan: Must be a coordinate pair or Point\n"
     ]
    },
    {
     "name": "stdout",
     "output_type": "stream",
     "text": [
      "Error getting ZIP for nan, nan: Must be a coordinate pair or Point\n"
     ]
    },
    {
     "name": "stdout",
     "output_type": "stream",
     "text": [
      "Error getting ZIP for nan, nan: Must be a coordinate pair or Point\n"
     ]
    },
    {
     "name": "stdout",
     "output_type": "stream",
     "text": [
      "Error getting ZIP for nan, nan: Must be a coordinate pair or Point\n"
     ]
    },
    {
     "name": "stdout",
     "output_type": "stream",
     "text": [
      "Error getting ZIP for nan, nan: Must be a coordinate pair or Point\n"
     ]
    },
    {
     "name": "stdout",
     "output_type": "stream",
     "text": [
      "Error getting ZIP for nan, nan: Must be a coordinate pair or Point\n"
     ]
    },
    {
     "name": "stdout",
     "output_type": "stream",
     "text": [
      "Error getting ZIP for nan, nan: Must be a coordinate pair or Point\n"
     ]
    },
    {
     "name": "stdout",
     "output_type": "stream",
     "text": [
      "Error getting ZIP for nan, nan: Must be a coordinate pair or Point\n"
     ]
    },
    {
     "name": "stdout",
     "output_type": "stream",
     "text": [
      "Error getting ZIP for nan, nan: Must be a coordinate pair or Point\n"
     ]
    },
    {
     "name": "stdout",
     "output_type": "stream",
     "text": [
      "Error getting ZIP for nan, nan: Must be a coordinate pair or Point\n"
     ]
    },
    {
     "name": "stdout",
     "output_type": "stream",
     "text": [
      "Error getting ZIP for nan, nan: Must be a coordinate pair or Point\n"
     ]
    },
    {
     "name": "stdout",
     "output_type": "stream",
     "text": [
      "Error getting ZIP for nan, nan: Must be a coordinate pair or Point\n"
     ]
    },
    {
     "name": "stdout",
     "output_type": "stream",
     "text": [
      "Error getting ZIP for nan, nan: Must be a coordinate pair or Point\n"
     ]
    },
    {
     "name": "stdout",
     "output_type": "stream",
     "text": [
      "Error getting ZIP for nan, nan: Must be a coordinate pair or Point\n"
     ]
    },
    {
     "name": "stdout",
     "output_type": "stream",
     "text": [
      "Error getting ZIP for nan, nan: Must be a coordinate pair or Point\n"
     ]
    },
    {
     "name": "stdout",
     "output_type": "stream",
     "text": [
      "Error getting ZIP for nan, nan: Must be a coordinate pair or Point\n"
     ]
    },
    {
     "name": "stdout",
     "output_type": "stream",
     "text": [
      "Error getting ZIP for nan, nan: Must be a coordinate pair or Point\n"
     ]
    },
    {
     "name": "stdout",
     "output_type": "stream",
     "text": [
      "Error getting ZIP for nan, nan: Must be a coordinate pair or Point\n"
     ]
    },
    {
     "name": "stdout",
     "output_type": "stream",
     "text": [
      "Error getting ZIP for nan, nan: Must be a coordinate pair or Point\n"
     ]
    },
    {
     "data": {
      "text/html": [
       "<div>\n",
       "<style scoped>\n",
       "    .dataframe tbody tr th:only-of-type {\n",
       "        vertical-align: middle;\n",
       "    }\n",
       "\n",
       "    .dataframe tbody tr th {\n",
       "        vertical-align: top;\n",
       "    }\n",
       "\n",
       "    .dataframe thead th {\n",
       "        text-align: right;\n",
       "    }\n",
       "</style>\n",
       "<table border=\"1\" class=\"dataframe\">\n",
       "  <thead>\n",
       "    <tr style=\"text-align: right;\">\n",
       "      <th></th>\n",
       "      <th>RecordID</th>\n",
       "      <th>Offense</th>\n",
       "      <th>IncidentID</th>\n",
       "      <th>BlockNumber</th>\n",
       "      <th>StreetName</th>\n",
       "      <th>Agency</th>\n",
       "      <th>HourReported</th>\n",
       "      <th>ReportingOfficer</th>\n",
       "      <th>Date</th>\n",
       "      <th>DateString</th>\n",
       "      <th>DayOfWeek</th>\n",
       "      <th>Weekend</th>\n",
       "      <th>Season</th>\n",
       "      <th>HourAMPM</th>\n",
       "      <th>TimeOfDay</th>\n",
       "      <th>FullStreet</th>\n",
       "      <th>lat</th>\n",
       "      <th>lon</th>\n",
       "      <th>neighborhood</th>\n",
       "      <th>zip</th>\n",
       "    </tr>\n",
       "  </thead>\n",
       "  <tbody>\n",
       "    <tr>\n",
       "      <th>0</th>\n",
       "      <td>1</td>\n",
       "      <td>Larceny - From Motor Vehicle</td>\n",
       "      <td>202500022761</td>\n",
       "      <td>100</td>\n",
       "      <td>LANKFORD AVE</td>\n",
       "      <td>CPD</td>\n",
       "      <td>1826</td>\n",
       "      <td>Hudson, Jesse</td>\n",
       "      <td>2025-07-01 18:26:43</td>\n",
       "      <td>2025-07-01 06:26:43 PM</td>\n",
       "      <td>Tuesday</td>\n",
       "      <td>False</td>\n",
       "      <td>Summer</td>\n",
       "      <td>06:26 PM</td>\n",
       "      <td>Evening</td>\n",
       "      <td>100 LANKFORD AVE</td>\n",
       "      <td>38.021311</td>\n",
       "      <td>-78.487056</td>\n",
       "      <td>Ridge St.</td>\n",
       "      <td>22903</td>\n",
       "    </tr>\n",
       "    <tr>\n",
       "      <th>1</th>\n",
       "      <td>2</td>\n",
       "      <td>Assault Simple</td>\n",
       "      <td>202500022739</td>\n",
       "      <td>700</td>\n",
       "      <td>STONEHENGE AVE</td>\n",
       "      <td>CPD</td>\n",
       "      <td>1546</td>\n",
       "      <td>Hudson, Jesse</td>\n",
       "      <td>2025-07-01 15:46:01</td>\n",
       "      <td>2025-07-01 03:46:01 PM</td>\n",
       "      <td>Tuesday</td>\n",
       "      <td>False</td>\n",
       "      <td>Summer</td>\n",
       "      <td>03:46 PM</td>\n",
       "      <td>Afternoon</td>\n",
       "      <td>700 STONEHENGE AVE</td>\n",
       "      <td>38.018659</td>\n",
       "      <td>-78.482357</td>\n",
       "      <td>Belmont</td>\n",
       "      <td>22903</td>\n",
       "    </tr>\n",
       "    <tr>\n",
       "      <th>2</th>\n",
       "      <td>3</td>\n",
       "      <td>Assault Simple</td>\n",
       "      <td>202500022734</td>\n",
       "      <td>2500</td>\n",
       "      <td>WILLARD DR</td>\n",
       "      <td>CPD</td>\n",
       "      <td>1523</td>\n",
       "      <td>Lowry, Ryan</td>\n",
       "      <td>2025-07-01 15:23:06</td>\n",
       "      <td>2025-07-01 03:23:06 PM</td>\n",
       "      <td>Tuesday</td>\n",
       "      <td>False</td>\n",
       "      <td>Summer</td>\n",
       "      <td>03:23 PM</td>\n",
       "      <td>Afternoon</td>\n",
       "      <td>2500 WILLARD DR</td>\n",
       "      <td>38.019395</td>\n",
       "      <td>-78.510234</td>\n",
       "      <td>Fry's Spring</td>\n",
       "      <td>22903</td>\n",
       "    </tr>\n",
       "    <tr>\n",
       "      <th>3</th>\n",
       "      <td>4</td>\n",
       "      <td>Lost/FoundProperty</td>\n",
       "      <td>202500022733</td>\n",
       "      <td>600</td>\n",
       "      <td>E MARKET ST</td>\n",
       "      <td>CPD</td>\n",
       "      <td>1501</td>\n",
       "      <td>Houchens, Jamell</td>\n",
       "      <td>2025-07-01 15:01:23</td>\n",
       "      <td>2025-07-01 03:01:23 PM</td>\n",
       "      <td>Tuesday</td>\n",
       "      <td>False</td>\n",
       "      <td>Summer</td>\n",
       "      <td>03:01 PM</td>\n",
       "      <td>Afternoon</td>\n",
       "      <td>600 E MARKET ST</td>\n",
       "      <td>38.030175</td>\n",
       "      <td>-78.477574</td>\n",
       "      <td>Downtown Mall</td>\n",
       "      <td>22902</td>\n",
       "    </tr>\n",
       "    <tr>\n",
       "      <th>4</th>\n",
       "      <td>5</td>\n",
       "      <td>Hit and Run</td>\n",
       "      <td>202500022728</td>\n",
       "      <td>1100</td>\n",
       "      <td>EMMET ST N</td>\n",
       "      <td>CPD</td>\n",
       "      <td>1420</td>\n",
       "      <td>Love-Baker, Sydney</td>\n",
       "      <td>2025-07-01 14:20:42</td>\n",
       "      <td>2025-07-01 02:20:42 PM</td>\n",
       "      <td>Tuesday</td>\n",
       "      <td>False</td>\n",
       "      <td>Summer</td>\n",
       "      <td>02:20 PM</td>\n",
       "      <td>Afternoon</td>\n",
       "      <td>1100 EMMET ST N</td>\n",
       "      <td>38.051639</td>\n",
       "      <td>-78.501523</td>\n",
       "      <td>Barracks Road</td>\n",
       "      <td>22901</td>\n",
       "    </tr>\n",
       "  </tbody>\n",
       "</table>\n",
       "</div>"
      ],
      "text/plain": [
       "   RecordID                       Offense    IncidentID BlockNumber  \\\n",
       "0         1  Larceny - From Motor Vehicle  202500022761         100   \n",
       "1         2                Assault Simple  202500022739         700   \n",
       "2         3                Assault Simple  202500022734        2500   \n",
       "3         4            Lost/FoundProperty  202500022733         600   \n",
       "4         5                   Hit and Run  202500022728        1100   \n",
       "\n",
       "       StreetName Agency HourReported    ReportingOfficer                Date  \\\n",
       "0    LANKFORD AVE    CPD         1826       Hudson, Jesse 2025-07-01 18:26:43   \n",
       "1  STONEHENGE AVE    CPD         1546       Hudson, Jesse 2025-07-01 15:46:01   \n",
       "2      WILLARD DR    CPD         1523         Lowry, Ryan 2025-07-01 15:23:06   \n",
       "3     E MARKET ST    CPD         1501    Houchens, Jamell 2025-07-01 15:01:23   \n",
       "4      EMMET ST N    CPD         1420  Love-Baker, Sydney 2025-07-01 14:20:42   \n",
       "\n",
       "               DateString DayOfWeek  Weekend  Season  HourAMPM  TimeOfDay  \\\n",
       "0  2025-07-01 06:26:43 PM   Tuesday    False  Summer  06:26 PM    Evening   \n",
       "1  2025-07-01 03:46:01 PM   Tuesday    False  Summer  03:46 PM  Afternoon   \n",
       "2  2025-07-01 03:23:06 PM   Tuesday    False  Summer  03:23 PM  Afternoon   \n",
       "3  2025-07-01 03:01:23 PM   Tuesday    False  Summer  03:01 PM  Afternoon   \n",
       "4  2025-07-01 02:20:42 PM   Tuesday    False  Summer  02:20 PM  Afternoon   \n",
       "\n",
       "           FullStreet        lat        lon   neighborhood    zip  \n",
       "0    100 LANKFORD AVE  38.021311 -78.487056      Ridge St.  22903  \n",
       "1  700 STONEHENGE AVE  38.018659 -78.482357        Belmont  22903  \n",
       "2     2500 WILLARD DR  38.019395 -78.510234   Fry's Spring  22903  \n",
       "3     600 E MARKET ST  38.030175 -78.477574  Downtown Mall  22902  \n",
       "4     1100 EMMET ST N  38.051639 -78.501523  Barracks Road  22901  "
      ]
     },
     "execution_count": 11,
     "metadata": {},
     "output_type": "execute_result"
    }
   ],
   "source": [
    "# Initialize the geocoder.\n",
    "geolocator = Nominatim(user_agent=\"zip_lookup\")\n",
    "\n",
    "# Try to load a persistent ZIP cache if available.\n",
    "try:\n",
    "    with open(\"zip_cache.pkl\", \"rb\") as f:\n",
    "        zip_cache = pickle.load(f)\n",
    "    print(\"Loaded zip cache.\")\n",
    "except FileNotFoundError:\n",
    "    zip_cache = {}\n",
    "    print(\"No zip cache found; starting fresh.\")\n",
    "\n",
    "def get_zip(lat, lon):\n",
    "    \"\"\"\n",
    "    Reverse geocodes a latitude and longitude to retrieve the ZIP code.\n",
    "    Caches results to speed up subsequent lookups.\n",
    "    \"\"\"\n",
    "    key = (lat, lon)\n",
    "    if key in zip_cache:\n",
    "        return zip_cache[key]\n",
    "    \n",
    "    try:\n",
    "        location = geolocator.reverse((lat, lon), exactly_one=True, timeout=10)\n",
    "        address = location.raw.get('address', {})\n",
    "        postal_code = address.get('postcode', \"N/A\")\n",
    "    except Exception as e:\n",
    "        print(f\"Error getting ZIP for {lat}, {lon}: {e}\")\n",
    "        postal_code = \"N/A\"\n",
    "    \n",
    "    zip_cache[key] = postal_code\n",
    "    # Pause to respect the usage policy.\n",
    "    time.sleep(1)\n",
    "    return postal_code\n",
    "\n",
    "# Apply the function to each row in the DataFrame.\n",
    "df['zip'] = df.apply(lambda row: get_zip(row['lat'], row['lon']), axis=1)\n",
    "\n",
    "# Save the updated ZIP cache.\n",
    "with open(\"zip_cache.pkl\", \"wb\") as f:\n",
    "    pickle.dump(zip_cache, f)\n",
    "\n",
    "df.head()\n"
   ]
  },
  {
   "cell_type": "code",
   "execution_count": 12,
   "id": "de2cbad9",
   "metadata": {
    "execution": {
     "iopub.execute_input": "2025-07-04T01:06:44.756384Z",
     "iopub.status.busy": "2025-07-04T01:06:44.756187Z",
     "iopub.status.idle": "2025-07-04T01:06:44.785753Z",
     "shell.execute_reply": "2025-07-04T01:06:44.785062Z"
    },
    "papermill": {
     "duration": 0.038323,
     "end_time": "2025-07-04T01:06:44.786898",
     "exception": false,
     "start_time": "2025-07-04T01:06:44.748575",
     "status": "completed"
    },
    "tags": []
   },
   "outputs": [
    {
     "name": "stdout",
     "output_type": "stream",
     "text": [
      "                  MissingCount  MissingPercentage\n",
      "RecordID                     0               0.00\n",
      "Offense                      0               0.00\n",
      "IncidentID                   0               0.00\n",
      "BlockNumber                  0               0.00\n",
      "StreetName                   0               0.00\n",
      "Agency                       0               0.00\n",
      "HourReported                 0               0.00\n",
      "ReportingOfficer            17               0.07\n",
      "Date                         0               0.00\n",
      "DateString                   0               0.00\n",
      "DayOfWeek                    0               0.00\n",
      "Weekend                      0               0.00\n",
      "Season                       0               0.00\n",
      "HourAMPM                     0               0.00\n",
      "TimeOfDay                    0               0.00\n",
      "FullStreet                   0               0.00\n",
      "lat                         38               0.15\n",
      "lon                         38               0.15\n",
      "neighborhood                 0               0.00\n",
      "zip                          0               0.00\n"
     ]
    }
   ],
   "source": [
    "missing_info = missing_percentage(df)\n",
    "print(missing_info)\n"
   ]
  },
  {
   "cell_type": "code",
   "execution_count": 13,
   "id": "6263b7a3",
   "metadata": {
    "execution": {
     "iopub.execute_input": "2025-07-04T01:06:44.802069Z",
     "iopub.status.busy": "2025-07-04T01:06:44.801866Z",
     "iopub.status.idle": "2025-07-04T01:06:44.832058Z",
     "shell.execute_reply": "2025-07-04T01:06:44.831397Z"
    },
    "papermill": {
     "duration": 0.0389,
     "end_time": "2025-07-04T01:06:44.833119",
     "exception": false,
     "start_time": "2025-07-04T01:06:44.794219",
     "status": "completed"
    },
    "tags": []
   },
   "outputs": [
    {
     "name": "stdout",
     "output_type": "stream",
     "text": [
      "<class 'pandas.core.frame.DataFrame'>\n",
      "RangeIndex: 25546 entries, 0 to 25545\n",
      "Data columns (total 20 columns):\n",
      " #   Column            Non-Null Count  Dtype         \n",
      "---  ------            --------------  -----         \n",
      " 0   RecordID          25546 non-null  int64         \n",
      " 1   Offense           25546 non-null  object        \n",
      " 2   IncidentID        25546 non-null  object        \n",
      " 3   BlockNumber       25546 non-null  object        \n",
      " 4   StreetName        25546 non-null  object        \n",
      " 5   Agency            25546 non-null  object        \n",
      " 6   HourReported      25546 non-null  object        \n",
      " 7   ReportingOfficer  25529 non-null  object        \n",
      " 8   Date              25546 non-null  datetime64[ns]\n",
      " 9   DateString        25546 non-null  object        \n",
      " 10  DayOfWeek         25546 non-null  object        \n",
      " 11  Weekend           25546 non-null  bool          \n",
      " 12  Season            25546 non-null  object        \n",
      " 13  HourAMPM          25546 non-null  object        \n",
      " 14  TimeOfDay         25546 non-null  object        \n",
      " 15  FullStreet        25546 non-null  object        \n",
      " 16  lat               25508 non-null  float64       \n",
      " 17  lon               25508 non-null  float64       \n",
      " 18  neighborhood      25546 non-null  object        \n",
      " 19  zip               25546 non-null  object        \n",
      "dtypes: bool(1), datetime64[ns](1), float64(2), int64(1), object(15)\n",
      "memory usage: 3.7+ MB\n"
     ]
    }
   ],
   "source": [
    "df.info()"
   ]
  },
  {
   "cell_type": "code",
   "execution_count": 14,
   "id": "4e5d658f",
   "metadata": {
    "execution": {
     "iopub.execute_input": "2025-07-04T01:06:44.848495Z",
     "iopub.status.busy": "2025-07-04T01:06:44.848288Z",
     "iopub.status.idle": "2025-07-04T01:06:44.895862Z",
     "shell.execute_reply": "2025-07-04T01:06:44.895134Z"
    },
    "papermill": {
     "duration": 0.056497,
     "end_time": "2025-07-04T01:06:44.896993",
     "exception": false,
     "start_time": "2025-07-04T01:06:44.840496",
     "status": "completed"
    },
    "tags": []
   },
   "outputs": [
    {
     "data": {
      "text/html": [
       "<div>\n",
       "<style scoped>\n",
       "    .dataframe tbody tr th:only-of-type {\n",
       "        vertical-align: middle;\n",
       "    }\n",
       "\n",
       "    .dataframe tbody tr th {\n",
       "        vertical-align: top;\n",
       "    }\n",
       "\n",
       "    .dataframe thead th {\n",
       "        text-align: right;\n",
       "    }\n",
       "</style>\n",
       "<table border=\"1\" class=\"dataframe\">\n",
       "  <thead>\n",
       "    <tr style=\"text-align: right;\">\n",
       "      <th></th>\n",
       "      <th>RecordID</th>\n",
       "      <th>Offense</th>\n",
       "      <th>IncidentID</th>\n",
       "      <th>Agency</th>\n",
       "      <th>ReportingOfficer</th>\n",
       "      <th>Date</th>\n",
       "      <th>DayOfWeek</th>\n",
       "      <th>Weekend</th>\n",
       "      <th>Season</th>\n",
       "      <th>TimeOfDay</th>\n",
       "      <th>FullStreet</th>\n",
       "      <th>lat</th>\n",
       "      <th>lon</th>\n",
       "      <th>neighborhood</th>\n",
       "      <th>zip</th>\n",
       "    </tr>\n",
       "  </thead>\n",
       "  <tbody>\n",
       "    <tr>\n",
       "      <th>0</th>\n",
       "      <td>1</td>\n",
       "      <td>Larceny - From Motor Vehicle</td>\n",
       "      <td>202500022761</td>\n",
       "      <td>CPD</td>\n",
       "      <td>Hudson, Jesse</td>\n",
       "      <td>2025-07-01 18:26:43</td>\n",
       "      <td>Tuesday</td>\n",
       "      <td>False</td>\n",
       "      <td>Summer</td>\n",
       "      <td>Evening</td>\n",
       "      <td>100 LANKFORD AVE</td>\n",
       "      <td>38.021311</td>\n",
       "      <td>-78.487056</td>\n",
       "      <td>Ridge St.</td>\n",
       "      <td>22903</td>\n",
       "    </tr>\n",
       "    <tr>\n",
       "      <th>1</th>\n",
       "      <td>2</td>\n",
       "      <td>Assault Simple</td>\n",
       "      <td>202500022739</td>\n",
       "      <td>CPD</td>\n",
       "      <td>Hudson, Jesse</td>\n",
       "      <td>2025-07-01 15:46:01</td>\n",
       "      <td>Tuesday</td>\n",
       "      <td>False</td>\n",
       "      <td>Summer</td>\n",
       "      <td>Afternoon</td>\n",
       "      <td>700 STONEHENGE AVE</td>\n",
       "      <td>38.018659</td>\n",
       "      <td>-78.482357</td>\n",
       "      <td>Belmont</td>\n",
       "      <td>22903</td>\n",
       "    </tr>\n",
       "    <tr>\n",
       "      <th>2</th>\n",
       "      <td>3</td>\n",
       "      <td>Assault Simple</td>\n",
       "      <td>202500022734</td>\n",
       "      <td>CPD</td>\n",
       "      <td>Lowry, Ryan</td>\n",
       "      <td>2025-07-01 15:23:06</td>\n",
       "      <td>Tuesday</td>\n",
       "      <td>False</td>\n",
       "      <td>Summer</td>\n",
       "      <td>Afternoon</td>\n",
       "      <td>2500 WILLARD DR</td>\n",
       "      <td>38.019395</td>\n",
       "      <td>-78.510234</td>\n",
       "      <td>Fry's Spring</td>\n",
       "      <td>22903</td>\n",
       "    </tr>\n",
       "    <tr>\n",
       "      <th>3</th>\n",
       "      <td>4</td>\n",
       "      <td>Lost/FoundProperty</td>\n",
       "      <td>202500022733</td>\n",
       "      <td>CPD</td>\n",
       "      <td>Houchens, Jamell</td>\n",
       "      <td>2025-07-01 15:01:23</td>\n",
       "      <td>Tuesday</td>\n",
       "      <td>False</td>\n",
       "      <td>Summer</td>\n",
       "      <td>Afternoon</td>\n",
       "      <td>600 E MARKET ST</td>\n",
       "      <td>38.030175</td>\n",
       "      <td>-78.477574</td>\n",
       "      <td>Downtown Mall</td>\n",
       "      <td>22902</td>\n",
       "    </tr>\n",
       "    <tr>\n",
       "      <th>4</th>\n",
       "      <td>5</td>\n",
       "      <td>Hit and Run</td>\n",
       "      <td>202500022728</td>\n",
       "      <td>CPD</td>\n",
       "      <td>Love-Baker, Sydney</td>\n",
       "      <td>2025-07-01 14:20:42</td>\n",
       "      <td>Tuesday</td>\n",
       "      <td>False</td>\n",
       "      <td>Summer</td>\n",
       "      <td>Afternoon</td>\n",
       "      <td>1100 EMMET ST N</td>\n",
       "      <td>38.051639</td>\n",
       "      <td>-78.501523</td>\n",
       "      <td>Barracks Road</td>\n",
       "      <td>22901</td>\n",
       "    </tr>\n",
       "  </tbody>\n",
       "</table>\n",
       "</div>"
      ],
      "text/plain": [
       "   RecordID                       Offense    IncidentID Agency  \\\n",
       "0         1  Larceny - From Motor Vehicle  202500022761    CPD   \n",
       "1         2                Assault Simple  202500022739    CPD   \n",
       "2         3                Assault Simple  202500022734    CPD   \n",
       "3         4            Lost/FoundProperty  202500022733    CPD   \n",
       "4         5                   Hit and Run  202500022728    CPD   \n",
       "\n",
       "     ReportingOfficer                Date DayOfWeek  Weekend  Season  \\\n",
       "0       Hudson, Jesse 2025-07-01 18:26:43   Tuesday    False  Summer   \n",
       "1       Hudson, Jesse 2025-07-01 15:46:01   Tuesday    False  Summer   \n",
       "2         Lowry, Ryan 2025-07-01 15:23:06   Tuesday    False  Summer   \n",
       "3    Houchens, Jamell 2025-07-01 15:01:23   Tuesday    False  Summer   \n",
       "4  Love-Baker, Sydney 2025-07-01 14:20:42   Tuesday    False  Summer   \n",
       "\n",
       "   TimeOfDay          FullStreet        lat        lon   neighborhood    zip  \n",
       "0    Evening    100 LANKFORD AVE  38.021311 -78.487056      Ridge St.  22903  \n",
       "1  Afternoon  700 STONEHENGE AVE  38.018659 -78.482357        Belmont  22903  \n",
       "2  Afternoon     2500 WILLARD DR  38.019395 -78.510234   Fry's Spring  22903  \n",
       "3  Afternoon     600 E MARKET ST  38.030175 -78.477574  Downtown Mall  22902  \n",
       "4  Afternoon     1100 EMMET ST N  38.051639 -78.501523  Barracks Road  22901  "
      ]
     },
     "execution_count": 14,
     "metadata": {},
     "output_type": "execute_result"
    }
   ],
   "source": [
    "# Now drop the original BlockNumber and StreetName columns\n",
    "df.drop(columns=['BlockNumber', 'StreetName','HourAMPM','HourReported','DateString'], inplace=True)\n",
    "df[\"zip\"] = df[\"zip\"].astype(str)\n",
    "\n",
    "# Fill all missing values in the DataFrame with \"N/A\"\n",
    "df.replace({None: \"N/A\", np.nan: \"N/A\", \"\": \"N/A\"}, inplace=True)\n",
    "df.head()"
   ]
  },
  {
   "cell_type": "code",
   "execution_count": 15,
   "id": "92fe86eb",
   "metadata": {
    "execution": {
     "iopub.execute_input": "2025-07-04T01:06:44.913370Z",
     "iopub.status.busy": "2025-07-04T01:06:44.912860Z",
     "iopub.status.idle": "2025-07-04T01:06:44.932606Z",
     "shell.execute_reply": "2025-07-04T01:06:44.932049Z"
    },
    "papermill": {
     "duration": 0.02877,
     "end_time": "2025-07-04T01:06:44.933639",
     "exception": false,
     "start_time": "2025-07-04T01:06:44.904869",
     "status": "completed"
    },
    "tags": []
   },
   "outputs": [
    {
     "name": "stdout",
     "output_type": "stream",
     "text": [
      "                  MissingCount  MissingPercentage\n",
      "RecordID                     0                0.0\n",
      "Offense                      0                0.0\n",
      "IncidentID                   0                0.0\n",
      "Agency                       0                0.0\n",
      "ReportingOfficer             0                0.0\n",
      "Date                         0                0.0\n",
      "DayOfWeek                    0                0.0\n",
      "Weekend                      0                0.0\n",
      "Season                       0                0.0\n",
      "TimeOfDay                    0                0.0\n",
      "FullStreet                   0                0.0\n",
      "lat                          0                0.0\n",
      "lon                          0                0.0\n",
      "neighborhood                 0                0.0\n",
      "zip                          0                0.0\n"
     ]
    }
   ],
   "source": [
    "missing_info = missing_percentage(df)\n",
    "print(missing_info)"
   ]
  },
  {
   "cell_type": "code",
   "execution_count": 16,
   "id": "5538c22d",
   "metadata": {
    "execution": {
     "iopub.execute_input": "2025-07-04T01:06:44.949673Z",
     "iopub.status.busy": "2025-07-04T01:06:44.949263Z",
     "iopub.status.idle": "2025-07-04T01:06:44.953538Z",
     "shell.execute_reply": "2025-07-04T01:06:44.953020Z"
    },
    "papermill": {
     "duration": 0.013217,
     "end_time": "2025-07-04T01:06:44.954511",
     "exception": false,
     "start_time": "2025-07-04T01:06:44.941294",
     "status": "completed"
    },
    "tags": []
   },
   "outputs": [
    {
     "data": {
      "text/plain": [
       "Index(['RecordID', 'Offense', 'IncidentID', 'Agency', 'ReportingOfficer',\n",
       "       'Date', 'DayOfWeek', 'Weekend', 'Season', 'TimeOfDay', 'FullStreet',\n",
       "       'lat', 'lon', 'neighborhood', 'zip'],\n",
       "      dtype='object')"
      ]
     },
     "execution_count": 16,
     "metadata": {},
     "output_type": "execute_result"
    }
   ],
   "source": [
    "df.columns"
   ]
  },
  {
   "cell_type": "code",
   "execution_count": 17,
   "id": "7e4c9e4c",
   "metadata": {
    "execution": {
     "iopub.execute_input": "2025-07-04T01:06:44.970445Z",
     "iopub.status.busy": "2025-07-04T01:06:44.970054Z",
     "iopub.status.idle": "2025-07-04T01:06:44.992176Z",
     "shell.execute_reply": "2025-07-04T01:06:44.991584Z"
    },
    "papermill": {
     "duration": 0.031091,
     "end_time": "2025-07-04T01:06:44.993187",
     "exception": false,
     "start_time": "2025-07-04T01:06:44.962096",
     "status": "completed"
    },
    "tags": []
   },
   "outputs": [
    {
     "name": "stdout",
     "output_type": "stream",
     "text": [
      "<class 'pandas.core.frame.DataFrame'>\n",
      "RangeIndex: 25546 entries, 0 to 25545\n",
      "Data columns (total 15 columns):\n",
      " #   Column            Non-Null Count  Dtype         \n",
      "---  ------            --------------  -----         \n",
      " 0   RecordID          25546 non-null  int64         \n",
      " 1   Offense           25546 non-null  object        \n",
      " 2   IncidentID        25546 non-null  object        \n",
      " 3   Agency            25546 non-null  object        \n",
      " 4   ReportingOfficer  25546 non-null  object        \n",
      " 5   Date              25546 non-null  datetime64[ns]\n",
      " 6   DayOfWeek         25546 non-null  object        \n",
      " 7   Weekend           25546 non-null  bool          \n",
      " 8   Season            25546 non-null  object        \n",
      " 9   TimeOfDay         25546 non-null  object        \n",
      " 10  FullStreet        25546 non-null  object        \n",
      " 11  lat               25546 non-null  object        \n",
      " 12  lon               25546 non-null  object        \n",
      " 13  neighborhood      25546 non-null  object        \n",
      " 14  zip               25546 non-null  object        \n",
      "dtypes: bool(1), datetime64[ns](1), int64(1), object(12)\n",
      "memory usage: 2.8+ MB\n"
     ]
    }
   ],
   "source": [
    "df.info()"
   ]
  },
  {
   "cell_type": "markdown",
   "id": "3f2a4cad",
   "metadata": {
    "papermill": {
     "duration": 0.007512,
     "end_time": "2025-07-04T01:06:45.008469",
     "exception": false,
     "start_time": "2025-07-04T01:06:45.000957",
     "status": "completed"
    },
    "tags": []
   },
   "source": [
    "### Export Clean Data"
   ]
  },
  {
   "cell_type": "code",
   "execution_count": 18,
   "id": "47a7d729",
   "metadata": {
    "execution": {
     "iopub.execute_input": "2025-07-04T01:06:45.024863Z",
     "iopub.status.busy": "2025-07-04T01:06:45.024414Z",
     "iopub.status.idle": "2025-07-04T01:06:54.261653Z",
     "shell.execute_reply": "2025-07-04T01:06:54.260978Z"
    },
    "papermill": {
     "duration": 9.246539,
     "end_time": "2025-07-04T01:06:54.262779",
     "exception": false,
     "start_time": "2025-07-04T01:06:45.016240",
     "status": "completed"
    },
    "tags": []
   },
   "outputs": [
    {
     "name": "stdout",
     "output_type": "stream",
     "text": [
      "Project Root: /home/runner/work/crime-data/crime-data\n"
     ]
    },
    {
     "name": "stdout",
     "output_type": "stream",
     "text": [
      "Data saved to: /home/runner/work/crime-data/crime-data/data/charlottesville_crime_incidents.csv\n"
     ]
    },
    {
     "name": "stdout",
     "output_type": "stream",
     "text": [
      "Excel saved to: /home/runner/work/crime-data/crime-data/data/charlottesville_crime_incidents.xlsx\n"
     ]
    }
   ],
   "source": [
    "# Determine the project root (assuming papermill is run from the repository root)\n",
    "project_root = os.getcwd()\n",
    "print(\"Project Root:\", project_root)\n",
    "\n",
    "# Set the data directory within the project root\n",
    "data_dir = os.path.join(project_root, \"data\")\n",
    "\n",
    "# Ensure the \"data\" directory exists (create it if it doesn't)\n",
    "if not os.path.exists(data_dir):\n",
    "    os.makedirs(data_dir)\n",
    "\n",
    "# Export the DataFrame to CSV in the \"data\" folder located in the project root\n",
    "csv_path = os.path.join(data_dir, \"charlottesville_crime_incidents.csv\")\n",
    "df.to_csv(csv_path, index=False)\n",
    "print(\"Data saved to:\", csv_path)\n",
    "\n",
    "# Construct the path to your Excel file\n",
    "excel_path = os.path.join(data_dir, \"charlottesville_crime_incidents.xlsx\")\n",
    "\n",
    "# Export the DataFrame to Excel\n",
    "df.to_excel(excel_path, index=False)\n",
    "print(\"Excel saved to:\", excel_path)\n"
   ]
  }
 ],
 "metadata": {
  "kernelspec": {
   "display_name": "Python 3",
   "language": "python",
   "name": "python3"
  },
  "language_info": {
   "codemirror_mode": {
    "name": "ipython",
    "version": 3
   },
   "file_extension": ".py",
   "mimetype": "text/x-python",
   "name": "python",
   "nbconvert_exporter": "python",
   "pygments_lexer": "ipython3",
   "version": "3.9.23"
  },
  "papermill": {
   "default_parameters": {},
   "duration": 117.198196,
   "end_time": "2025-07-04T01:06:54.687919",
   "environment_variables": {},
   "exception": null,
   "input_path": "notebook/Crime Data.ipynb",
   "output_path": "notebook/Crime Data_output.ipynb",
   "parameters": {},
   "start_time": "2025-07-04T01:04:57.489723",
   "version": "2.6.0"
  }
 },
 "nbformat": 4,
 "nbformat_minor": 5
}