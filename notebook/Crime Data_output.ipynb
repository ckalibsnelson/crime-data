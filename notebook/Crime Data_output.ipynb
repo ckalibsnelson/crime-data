{
 "cells": [
  {
   "cell_type": "markdown",
   "id": "bc89e5db",
   "metadata": {
    "papermill": {
     "duration": 0.006317,
     "end_time": "2025-04-09T00:59:23.042062",
     "exception": false,
     "start_time": "2025-04-09T00:59:23.035745",
     "status": "completed"
    },
    "tags": []
   },
   "source": [
    "# Charlottesville Open Data Porttal: Crime Data"
   ]
  },
  {
   "cell_type": "markdown",
   "id": "538886d3",
   "metadata": {
    "papermill": {
     "duration": 0.005001,
     "end_time": "2025-04-09T00:59:23.052453",
     "exception": false,
     "start_time": "2025-04-09T00:59:23.047452",
     "status": "completed"
    },
    "tags": []
   },
   "source": [
    "## Import Relevant Librarires & Set WD"
   ]
  },
  {
   "cell_type": "code",
   "execution_count": 1,
   "id": "13e44783",
   "metadata": {
    "execution": {
     "iopub.execute_input": "2025-04-09T00:59:23.063658Z",
     "iopub.status.busy": "2025-04-09T00:59:23.063230Z",
     "iopub.status.idle": "2025-04-09T00:59:23.581130Z",
     "shell.execute_reply": "2025-04-09T00:59:23.580529Z"
    },
    "papermill": {
     "duration": 0.525059,
     "end_time": "2025-04-09T00:59:23.582535",
     "exception": false,
     "start_time": "2025-04-09T00:59:23.057476",
     "status": "completed"
    },
    "tags": []
   },
   "outputs": [],
   "source": [
    "import requests\n",
    "import pandas as pd\n",
    "import numpy as np\n",
    "import pickle\n",
    "import googlemaps\n",
    "import plotly.express as px\n",
    "from geopy.geocoders import Nominatim\n",
    "import time\n",
    "from dotenv import load_dotenv\n",
    "import os\n",
    "\n",
    "env_path = os.path.join(\"..\", \".env\")\n",
    "#print(\"Looking for .env file at:\", os.path.abspath(env_path))\n",
    "load_dotenv(dotenv_path=env_path)\n",
    "\n",
    "# Retrieve the variables\n",
    "GOOGLE_API_KEY = os.getenv(\"GOOGLE_API_KEY\")\n",
    "WORKING_DIR = os.getenv(\"WORKING_DIR\")\n",
    "\n",
    "if GOOGLE_API_KEY is None or WORKING_DIR is None:\n",
    "    raise RuntimeError(\"No configuration found. Please ensure that your .env file exists with the required variables, or create a local config.py file.\")\n",
    "\n",
    "#print(\"Google API Key:\", GOOGLE_API_KEY)\n",
    "#print(\"Working Directory:\", WORKING_DIR)"
   ]
  },
  {
   "cell_type": "markdown",
   "id": "eadc4e5c",
   "metadata": {
    "papermill": {
     "duration": 0.005055,
     "end_time": "2025-04-09T00:59:23.593057",
     "exception": false,
     "start_time": "2025-04-09T00:59:23.588002",
     "status": "completed"
    },
    "tags": []
   },
   "source": [
    "## Import Data\n",
    "\n",
    "URL: https://opendata.charlottesville.org/datasets/charlottesville::crime-data/about"
   ]
  },
  {
   "cell_type": "code",
   "execution_count": 2,
   "id": "1624d3d8",
   "metadata": {
    "execution": {
     "iopub.execute_input": "2025-04-09T00:59:23.604272Z",
     "iopub.status.busy": "2025-04-09T00:59:23.603933Z",
     "iopub.status.idle": "2025-04-09T01:00:21.397201Z",
     "shell.execute_reply": "2025-04-09T01:00:21.396512Z"
    },
    "papermill": {
     "duration": 57.804915,
     "end_time": "2025-04-09T01:00:21.403105",
     "exception": false,
     "start_time": "2025-04-09T00:59:23.598190",
     "status": "completed"
    },
    "tags": []
   },
   "outputs": [
    {
     "name": "stdout",
     "output_type": "stream",
     "text": [
      "Total records imported: 25127\n"
     ]
    }
   ],
   "source": [
    "# Define the endpoint and initial parameters.\n",
    "url = \"https://gisweb.charlottesville.org/arcgis/rest/services/OpenData_2/MapServer/6/query\"\n",
    "params = {\n",
    "    \"where\": \"1=1\",\n",
    "    \"outFields\": \"*\",\n",
    "    \"outSR\": 4326,\n",
    "    \"f\": \"json\",\n",
    "    \"resultOffset\": 0,       # Starting index for results\n",
    "    \"resultRecordCount\": 10000  # Maximum records per batch (if allowed by the API)\n",
    "}\n",
    "\n",
    "records = []\n",
    "\n",
    "while True:\n",
    "    response = requests.get(url, params=params)\n",
    "    response.raise_for_status()\n",
    "    data = response.json()\n",
    "    \n",
    "    # Get the current batch of features.\n",
    "    features = data.get(\"features\", [])\n",
    "    if not features:\n",
    "        break\n",
    "\n",
    "    # Extract the attributes from the features.\n",
    "    batch_records = [feature.get(\"attributes\", {}) for feature in features]\n",
    "    records.extend(batch_records)\n",
    "    \n",
    "    # If the batch size is less than the requested count, we reached the end.\n",
    "    if len(features) < params[\"resultRecordCount\"]:\n",
    "        break\n",
    "\n",
    "    # Update the resultOffset for the next batch.\n",
    "    params[\"resultOffset\"] += params[\"resultRecordCount\"]\n",
    "\n",
    "# Create a DataFrame from the combined records.\n",
    "df = pd.DataFrame(records)\n",
    "print(\"Total records imported:\", len(df))\n"
   ]
  },
  {
   "cell_type": "code",
   "execution_count": 3,
   "id": "b315fc7b",
   "metadata": {
    "execution": {
     "iopub.execute_input": "2025-04-09T01:00:21.415436Z",
     "iopub.status.busy": "2025-04-09T01:00:21.414801Z",
     "iopub.status.idle": "2025-04-09T01:00:21.427896Z",
     "shell.execute_reply": "2025-04-09T01:00:21.427192Z"
    },
    "papermill": {
     "duration": 0.020429,
     "end_time": "2025-04-09T01:00:21.428981",
     "exception": false,
     "start_time": "2025-04-09T01:00:21.408552",
     "status": "completed"
    },
    "tags": []
   },
   "outputs": [
    {
     "data": {
      "text/html": [
       "<div>\n",
       "<style scoped>\n",
       "    .dataframe tbody tr th:only-of-type {\n",
       "        vertical-align: middle;\n",
       "    }\n",
       "\n",
       "    .dataframe tbody tr th {\n",
       "        vertical-align: top;\n",
       "    }\n",
       "\n",
       "    .dataframe thead th {\n",
       "        text-align: right;\n",
       "    }\n",
       "</style>\n",
       "<table border=\"1\" class=\"dataframe\">\n",
       "  <thead>\n",
       "    <tr style=\"text-align: right;\">\n",
       "      <th></th>\n",
       "      <th>RecordID</th>\n",
       "      <th>Offense</th>\n",
       "      <th>IncidentID</th>\n",
       "      <th>BlockNumber</th>\n",
       "      <th>StreetName</th>\n",
       "      <th>Agency</th>\n",
       "      <th>DateReported</th>\n",
       "      <th>HourReported</th>\n",
       "      <th>ReportingOfficer</th>\n",
       "    </tr>\n",
       "  </thead>\n",
       "  <tbody>\n",
       "    <tr>\n",
       "      <th>0</th>\n",
       "      <td>1</td>\n",
       "      <td>Suspicious Activity</td>\n",
       "      <td>202500011104</td>\n",
       "      <td>800</td>\n",
       "      <td>NASSAU ST</td>\n",
       "      <td>CPD</td>\n",
       "      <td>1743992194000</td>\n",
       "      <td>2216</td>\n",
       "      <td>Rigsby, Lloyd</td>\n",
       "    </tr>\n",
       "    <tr>\n",
       "      <th>1</th>\n",
       "      <td>2</td>\n",
       "      <td>Assault Simple</td>\n",
       "      <td>202500011092</td>\n",
       "      <td>400</td>\n",
       "      <td>RIDGE MCINTIRE RD</td>\n",
       "      <td>CPD</td>\n",
       "      <td>1743984992000</td>\n",
       "      <td>2016</td>\n",
       "      <td>Benbow, Lauren</td>\n",
       "    </tr>\n",
       "    <tr>\n",
       "      <th>2</th>\n",
       "      <td>3</td>\n",
       "      <td>Vandalism</td>\n",
       "      <td>202500011084</td>\n",
       "      <td>400</td>\n",
       "      <td>E HIGH ST</td>\n",
       "      <td>CPD</td>\n",
       "      <td>1743976656000</td>\n",
       "      <td>1757</td>\n",
       "      <td>Benbow, Lauren</td>\n",
       "    </tr>\n",
       "    <tr>\n",
       "      <th>3</th>\n",
       "      <td>4</td>\n",
       "      <td>Assault Intimidation</td>\n",
       "      <td>202500011073</td>\n",
       "      <td>1000</td>\n",
       "      <td>RIO RD E</td>\n",
       "      <td>CPD</td>\n",
       "      <td>1743971103000</td>\n",
       "      <td>1625</td>\n",
       "      <td>Bland, Johnnà</td>\n",
       "    </tr>\n",
       "    <tr>\n",
       "      <th>4</th>\n",
       "      <td>5</td>\n",
       "      <td>Vandalism</td>\n",
       "      <td>202500011072</td>\n",
       "      <td>100</td>\n",
       "      <td>PIEDMONT AVE S, B</td>\n",
       "      <td>CPD</td>\n",
       "      <td>1743970484000</td>\n",
       "      <td>1614</td>\n",
       "      <td>Rigsby, Lloyd</td>\n",
       "    </tr>\n",
       "  </tbody>\n",
       "</table>\n",
       "</div>"
      ],
      "text/plain": [
       "   RecordID               Offense    IncidentID BlockNumber  \\\n",
       "0         1   Suspicious Activity  202500011104         800   \n",
       "1         2        Assault Simple  202500011092         400   \n",
       "2         3             Vandalism  202500011084         400   \n",
       "3         4  Assault Intimidation  202500011073        1000   \n",
       "4         5             Vandalism  202500011072         100   \n",
       "\n",
       "          StreetName Agency   DateReported HourReported ReportingOfficer  \n",
       "0          NASSAU ST    CPD  1743992194000         2216    Rigsby, Lloyd  \n",
       "1  RIDGE MCINTIRE RD    CPD  1743984992000         2016   Benbow, Lauren  \n",
       "2          E HIGH ST    CPD  1743976656000         1757   Benbow, Lauren  \n",
       "3           RIO RD E    CPD  1743971103000         1625    Bland, Johnnà  \n",
       "4  PIEDMONT AVE S, B    CPD  1743970484000         1614    Rigsby, Lloyd  "
      ]
     },
     "execution_count": 3,
     "metadata": {},
     "output_type": "execute_result"
    }
   ],
   "source": [
    "df.head()"
   ]
  },
  {
   "cell_type": "code",
   "execution_count": 4,
   "id": "5c65bab7",
   "metadata": {
    "execution": {
     "iopub.execute_input": "2025-04-09T01:00:21.440927Z",
     "iopub.status.busy": "2025-04-09T01:00:21.440544Z",
     "iopub.status.idle": "2025-04-09T01:00:21.444862Z",
     "shell.execute_reply": "2025-04-09T01:00:21.444351Z"
    },
    "papermill": {
     "duration": 0.011372,
     "end_time": "2025-04-09T01:00:21.445949",
     "exception": false,
     "start_time": "2025-04-09T01:00:21.434577",
     "status": "completed"
    },
    "tags": []
   },
   "outputs": [
    {
     "data": {
      "text/plain": [
       "Index(['RecordID', 'Offense', 'IncidentID', 'BlockNumber', 'StreetName',\n",
       "       'Agency', 'DateReported', 'HourReported', 'ReportingOfficer'],\n",
       "      dtype='object')"
      ]
     },
     "execution_count": 4,
     "metadata": {},
     "output_type": "execute_result"
    }
   ],
   "source": [
    "df.columns"
   ]
  },
  {
   "cell_type": "code",
   "execution_count": 5,
   "id": "81747114",
   "metadata": {
    "execution": {
     "iopub.execute_input": "2025-04-09T01:00:21.458074Z",
     "iopub.status.busy": "2025-04-09T01:00:21.457718Z",
     "iopub.status.idle": "2025-04-09T01:00:21.481246Z",
     "shell.execute_reply": "2025-04-09T01:00:21.480693Z"
    },
    "papermill": {
     "duration": 0.030916,
     "end_time": "2025-04-09T01:00:21.482320",
     "exception": false,
     "start_time": "2025-04-09T01:00:21.451404",
     "status": "completed"
    },
    "tags": []
   },
   "outputs": [
    {
     "name": "stdout",
     "output_type": "stream",
     "text": [
      "<class 'pandas.core.frame.DataFrame'>\n",
      "RangeIndex: 25127 entries, 0 to 25126\n",
      "Data columns (total 9 columns):\n",
      " #   Column            Non-Null Count  Dtype \n",
      "---  ------            --------------  ----- \n",
      " 0   RecordID          25127 non-null  int64 \n",
      " 1   Offense           25127 non-null  object\n",
      " 2   IncidentID        25127 non-null  object\n",
      " 3   BlockNumber       25127 non-null  object\n",
      " 4   StreetName        25127 non-null  object\n",
      " 5   Agency            25127 non-null  object\n",
      " 6   DateReported      25127 non-null  int64 \n",
      " 7   HourReported      25127 non-null  object\n",
      " 8   ReportingOfficer  25110 non-null  object\n",
      "dtypes: int64(2), object(7)\n",
      "memory usage: 1.7+ MB\n"
     ]
    }
   ],
   "source": [
    "df.info()"
   ]
  },
  {
   "cell_type": "markdown",
   "id": "20ba224c",
   "metadata": {
    "papermill": {
     "duration": 0.005537,
     "end_time": "2025-04-09T01:00:21.493646",
     "exception": false,
     "start_time": "2025-04-09T01:00:21.488109",
     "status": "completed"
    },
    "tags": []
   },
   "source": [
    "### Missing Values"
   ]
  },
  {
   "cell_type": "code",
   "execution_count": 6,
   "id": "5a2172d8",
   "metadata": {
    "execution": {
     "iopub.execute_input": "2025-04-09T01:00:21.505759Z",
     "iopub.status.busy": "2025-04-09T01:00:21.505475Z",
     "iopub.status.idle": "2025-04-09T01:00:21.529269Z",
     "shell.execute_reply": "2025-04-09T01:00:21.528704Z"
    },
    "papermill": {
     "duration": 0.031304,
     "end_time": "2025-04-09T01:00:21.530408",
     "exception": false,
     "start_time": "2025-04-09T01:00:21.499104",
     "status": "completed"
    },
    "tags": []
   },
   "outputs": [
    {
     "name": "stdout",
     "output_type": "stream",
     "text": [
      "                  MissingCount  MissingPercentage\n",
      "RecordID                     0               0.00\n",
      "Offense                      0               0.00\n",
      "IncidentID                   0               0.00\n",
      "BlockNumber                  0               0.00\n",
      "StreetName                   0               0.00\n",
      "Agency                       0               0.00\n",
      "DateReported                 0               0.00\n",
      "HourReported                 0               0.00\n",
      "ReportingOfficer            17               0.07\n"
     ]
    }
   ],
   "source": [
    "def missing_percentage(df):\n",
    "    \"\"\"\n",
    "    Returns a DataFrame with the count and percentage of missing values for each column.\n",
    "    \n",
    "    Parameters:\n",
    "        df (pd.DataFrame): The input DataFrame.\n",
    "    \n",
    "    Returns:\n",
    "        pd.DataFrame: A DataFrame with columns 'MissingCount' and 'MissingPercentage'.\n",
    "    \"\"\"\n",
    "    total_rows = len(df)\n",
    "    missing_count = df.isnull().sum()\n",
    "    missing_percent = (missing_count / total_rows) * 100\n",
    "    \n",
    "    result = pd.DataFrame({\n",
    "        'MissingCount': missing_count,\n",
    "        'MissingPercentage': missing_percent.round(2)\n",
    "    })\n",
    "    \n",
    "    return result\n",
    "\n",
    "# Example usage:\n",
    "missing_info = missing_percentage(df)\n",
    "print(missing_info)\n"
   ]
  },
  {
   "cell_type": "markdown",
   "id": "c228722f",
   "metadata": {
    "papermill": {
     "duration": 0.005651,
     "end_time": "2025-04-09T01:00:21.542103",
     "exception": false,
     "start_time": "2025-04-09T01:00:21.536452",
     "status": "completed"
    },
    "tags": []
   },
   "source": [
    "## Data Preparation"
   ]
  },
  {
   "cell_type": "markdown",
   "id": "873ecc69",
   "metadata": {
    "papermill": {
     "duration": 0.005512,
     "end_time": "2025-04-09T01:00:21.553155",
     "exception": false,
     "start_time": "2025-04-09T01:00:21.547643",
     "status": "completed"
    },
    "tags": []
   },
   "source": [
    "### Data Conversion"
   ]
  },
  {
   "cell_type": "code",
   "execution_count": 7,
   "id": "df21cdf5",
   "metadata": {
    "execution": {
     "iopub.execute_input": "2025-04-09T01:00:21.565830Z",
     "iopub.status.busy": "2025-04-09T01:00:21.565367Z",
     "iopub.status.idle": "2025-04-09T01:00:21.933315Z",
     "shell.execute_reply": "2025-04-09T01:00:21.932569Z"
    },
    "papermill": {
     "duration": 0.375794,
     "end_time": "2025-04-09T01:00:21.934475",
     "exception": false,
     "start_time": "2025-04-09T01:00:21.558681",
     "status": "completed"
    },
    "tags": []
   },
   "outputs": [
    {
     "data": {
      "text/html": [
       "<div>\n",
       "<style scoped>\n",
       "    .dataframe tbody tr th:only-of-type {\n",
       "        vertical-align: middle;\n",
       "    }\n",
       "\n",
       "    .dataframe tbody tr th {\n",
       "        vertical-align: top;\n",
       "    }\n",
       "\n",
       "    .dataframe thead th {\n",
       "        text-align: right;\n",
       "    }\n",
       "</style>\n",
       "<table border=\"1\" class=\"dataframe\">\n",
       "  <thead>\n",
       "    <tr style=\"text-align: right;\">\n",
       "      <th></th>\n",
       "      <th>RecordID</th>\n",
       "      <th>Offense</th>\n",
       "      <th>IncidentID</th>\n",
       "      <th>BlockNumber</th>\n",
       "      <th>StreetName</th>\n",
       "      <th>Agency</th>\n",
       "      <th>HourReported</th>\n",
       "      <th>ReportingOfficer</th>\n",
       "      <th>Date</th>\n",
       "      <th>DateString</th>\n",
       "      <th>DayOfWeek</th>\n",
       "      <th>Weekend</th>\n",
       "      <th>Season</th>\n",
       "      <th>HourAMPM</th>\n",
       "      <th>TimeOfDay</th>\n",
       "    </tr>\n",
       "  </thead>\n",
       "  <tbody>\n",
       "    <tr>\n",
       "      <th>0</th>\n",
       "      <td>1</td>\n",
       "      <td>Suspicious Activity</td>\n",
       "      <td>202500011104</td>\n",
       "      <td>800</td>\n",
       "      <td>NASSAU ST</td>\n",
       "      <td>CPD</td>\n",
       "      <td>2216</td>\n",
       "      <td>Rigsby, Lloyd</td>\n",
       "      <td>2025-04-06 22:16:34</td>\n",
       "      <td>2025-04-06 10:16:34 PM</td>\n",
       "      <td>Sunday</td>\n",
       "      <td>True</td>\n",
       "      <td>Spring</td>\n",
       "      <td>10:16 PM</td>\n",
       "      <td>Night</td>\n",
       "    </tr>\n",
       "    <tr>\n",
       "      <th>1</th>\n",
       "      <td>2</td>\n",
       "      <td>Assault Simple</td>\n",
       "      <td>202500011092</td>\n",
       "      <td>400</td>\n",
       "      <td>RIDGE MCINTIRE RD</td>\n",
       "      <td>CPD</td>\n",
       "      <td>2016</td>\n",
       "      <td>Benbow, Lauren</td>\n",
       "      <td>2025-04-06 20:16:32</td>\n",
       "      <td>2025-04-06 08:16:32 PM</td>\n",
       "      <td>Sunday</td>\n",
       "      <td>True</td>\n",
       "      <td>Spring</td>\n",
       "      <td>08:16 PM</td>\n",
       "      <td>Evening</td>\n",
       "    </tr>\n",
       "    <tr>\n",
       "      <th>2</th>\n",
       "      <td>3</td>\n",
       "      <td>Vandalism</td>\n",
       "      <td>202500011084</td>\n",
       "      <td>400</td>\n",
       "      <td>E HIGH ST</td>\n",
       "      <td>CPD</td>\n",
       "      <td>1757</td>\n",
       "      <td>Benbow, Lauren</td>\n",
       "      <td>2025-04-06 17:57:36</td>\n",
       "      <td>2025-04-06 05:57:36 PM</td>\n",
       "      <td>Sunday</td>\n",
       "      <td>True</td>\n",
       "      <td>Spring</td>\n",
       "      <td>05:57 PM</td>\n",
       "      <td>Evening</td>\n",
       "    </tr>\n",
       "    <tr>\n",
       "      <th>3</th>\n",
       "      <td>4</td>\n",
       "      <td>Assault Intimidation</td>\n",
       "      <td>202500011073</td>\n",
       "      <td>1000</td>\n",
       "      <td>RIO RD E</td>\n",
       "      <td>CPD</td>\n",
       "      <td>1625</td>\n",
       "      <td>Bland, Johnnà</td>\n",
       "      <td>2025-04-06 16:25:03</td>\n",
       "      <td>2025-04-06 04:25:03 PM</td>\n",
       "      <td>Sunday</td>\n",
       "      <td>True</td>\n",
       "      <td>Spring</td>\n",
       "      <td>04:25 PM</td>\n",
       "      <td>Afternoon</td>\n",
       "    </tr>\n",
       "    <tr>\n",
       "      <th>4</th>\n",
       "      <td>5</td>\n",
       "      <td>Vandalism</td>\n",
       "      <td>202500011072</td>\n",
       "      <td>100</td>\n",
       "      <td>PIEDMONT AVE S, B</td>\n",
       "      <td>CPD</td>\n",
       "      <td>1614</td>\n",
       "      <td>Rigsby, Lloyd</td>\n",
       "      <td>2025-04-06 16:14:44</td>\n",
       "      <td>2025-04-06 04:14:44 PM</td>\n",
       "      <td>Sunday</td>\n",
       "      <td>True</td>\n",
       "      <td>Spring</td>\n",
       "      <td>04:14 PM</td>\n",
       "      <td>Afternoon</td>\n",
       "    </tr>\n",
       "  </tbody>\n",
       "</table>\n",
       "</div>"
      ],
      "text/plain": [
       "   RecordID               Offense    IncidentID BlockNumber  \\\n",
       "0         1   Suspicious Activity  202500011104         800   \n",
       "1         2        Assault Simple  202500011092         400   \n",
       "2         3             Vandalism  202500011084         400   \n",
       "3         4  Assault Intimidation  202500011073        1000   \n",
       "4         5             Vandalism  202500011072         100   \n",
       "\n",
       "          StreetName Agency HourReported ReportingOfficer                Date  \\\n",
       "0          NASSAU ST    CPD         2216    Rigsby, Lloyd 2025-04-06 22:16:34   \n",
       "1  RIDGE MCINTIRE RD    CPD         2016   Benbow, Lauren 2025-04-06 20:16:32   \n",
       "2          E HIGH ST    CPD         1757   Benbow, Lauren 2025-04-06 17:57:36   \n",
       "3           RIO RD E    CPD         1625    Bland, Johnnà 2025-04-06 16:25:03   \n",
       "4  PIEDMONT AVE S, B    CPD         1614    Rigsby, Lloyd 2025-04-06 16:14:44   \n",
       "\n",
       "               DateString DayOfWeek  Weekend  Season  HourAMPM  TimeOfDay  \n",
       "0  2025-04-06 10:16:34 PM    Sunday     True  Spring  10:16 PM      Night  \n",
       "1  2025-04-06 08:16:32 PM    Sunday     True  Spring  08:16 PM    Evening  \n",
       "2  2025-04-06 05:57:36 PM    Sunday     True  Spring  05:57 PM    Evening  \n",
       "3  2025-04-06 04:25:03 PM    Sunday     True  Spring  04:25 PM  Afternoon  \n",
       "4  2025-04-06 04:14:44 PM    Sunday     True  Spring  04:14 PM  Afternoon  "
      ]
     },
     "execution_count": 7,
     "metadata": {},
     "output_type": "execute_result"
    }
   ],
   "source": [
    "def convert_and_categorize_datereported(df, col='DateReported'):\n",
    "    \"\"\"\n",
    "    Converts an epoch (in milliseconds) date column into a timezone-aware datetime,\n",
    "    converts it to Eastern Time, and then creates columns for day-of-week, weekend flag,\n",
    "    season, 12-hour formatted time, and time-of-day. Keeps both a real datetime column\n",
    "    (Date) and a string representation (DateString).\n",
    "    \"\"\"\n",
    "    import pandas as pd\n",
    "\n",
    "    # Convert the epoch timestamp to a pandas datetime object as UTC, then convert to US/Eastern.\n",
    "    df[\"DateReported_dt\"] = (\n",
    "        pd.to_datetime(df[col], unit=\"ms\", errors=\"coerce\", utc=True)\n",
    "        .dt.tz_convert(\"US/Eastern\")\n",
    "    )\n",
    "    \n",
    "    # Create a true datetime column (remove timezone if you prefer naive datetime)\n",
    "    df[\"Date\"] = df[\"DateReported_dt\"].dt.tz_localize(None)\n",
    "\n",
    "    # Optionally, create a separate string-formatted column\n",
    "    df[\"DateString\"] = df[\"DateReported_dt\"].dt.strftime(\"%Y-%m-%d %I:%M:%S %p\")\n",
    "    \n",
    "    # DayOfWeek\n",
    "    df[\"DayOfWeek\"] = df[\"DateReported_dt\"].dt.day_name()\n",
    "    \n",
    "    # Weekend\n",
    "    df[\"Weekend\"] = df[\"DayOfWeek\"].isin([\"Saturday\", \"Sunday\"])\n",
    "    \n",
    "    # Helper function to determine the season\n",
    "    def get_season(dt):\n",
    "        month = dt.month\n",
    "        day = dt.day\n",
    "        # Approximate Northern Hemisphere season boundaries:\n",
    "        if (month == 12 and day >= 21) or (month < 3) or (month == 3 and day < 20):\n",
    "            return \"Winter\"\n",
    "        elif (month == 3 and day >= 20) or (month < 6) or (month == 6 and day < 21):\n",
    "            return \"Spring\"\n",
    "        elif (month == 6 and day >= 21) or (month < 9) or (month == 9 and day < 22):\n",
    "            return \"Summer\"\n",
    "        else:\n",
    "            return \"Autumn\"\n",
    "    \n",
    "    df[\"Season\"] = df[\"DateReported_dt\"].apply(get_season)\n",
    "    \n",
    "    # 12-hour formatted time (HourAMPM)\n",
    "    df[\"HourAMPM\"] = df[\"DateReported_dt\"].dt.strftime(\"%I:%M %p\")\n",
    "    \n",
    "    # Extract hour (0-23) for time-of-day\n",
    "    df[\"HourValue\"] = df[\"DateReported_dt\"].dt.hour\n",
    "    \n",
    "    def time_of_day(hour):\n",
    "        if pd.isnull(hour):\n",
    "            return None\n",
    "        if 5 <= hour < 12:\n",
    "            return \"Morning\"\n",
    "        elif 12 <= hour < 17:\n",
    "            return \"Afternoon\"\n",
    "        elif 17 <= hour < 21:\n",
    "            return \"Evening\"\n",
    "        else:\n",
    "            return \"Night\"\n",
    "    \n",
    "    df[\"TimeOfDay\"] = df[\"HourValue\"].apply(time_of_day)\n",
    "    \n",
    "    # Drop columns you no longer need\n",
    "    df.drop(columns=[col, \"DateReported_dt\", \"HourValue\"], inplace=True)\n",
    "    \n",
    "    return df\n",
    "\n",
    "# Example usage:\n",
    "df = convert_and_categorize_datereported(df)\n",
    "df.head()\n"
   ]
  },
  {
   "cell_type": "code",
   "execution_count": 8,
   "id": "5ee9a76f",
   "metadata": {
    "execution": {
     "iopub.execute_input": "2025-04-09T01:00:21.947413Z",
     "iopub.status.busy": "2025-04-09T01:00:21.947181Z",
     "iopub.status.idle": "2025-04-09T01:00:21.972707Z",
     "shell.execute_reply": "2025-04-09T01:00:21.972121Z"
    },
    "papermill": {
     "duration": 0.033109,
     "end_time": "2025-04-09T01:00:21.973753",
     "exception": false,
     "start_time": "2025-04-09T01:00:21.940644",
     "status": "completed"
    },
    "tags": []
   },
   "outputs": [
    {
     "name": "stdout",
     "output_type": "stream",
     "text": [
      "<class 'pandas.core.frame.DataFrame'>\n",
      "RangeIndex: 25127 entries, 0 to 25126\n",
      "Data columns (total 15 columns):\n",
      " #   Column            Non-Null Count  Dtype         \n",
      "---  ------            --------------  -----         \n",
      " 0   RecordID          25127 non-null  int64         \n",
      " 1   Offense           25127 non-null  object        \n",
      " 2   IncidentID        25127 non-null  object        \n",
      " 3   BlockNumber       25127 non-null  object        \n",
      " 4   StreetName        25127 non-null  object        \n",
      " 5   Agency            25127 non-null  object        \n",
      " 6   HourReported      25127 non-null  object        \n",
      " 7   ReportingOfficer  25110 non-null  object        \n",
      " 8   Date              25127 non-null  datetime64[ns]\n",
      " 9   DateString        25127 non-null  object        \n",
      " 10  DayOfWeek         25127 non-null  object        \n",
      " 11  Weekend           25127 non-null  bool          \n",
      " 12  Season            25127 non-null  object        \n",
      " 13  HourAMPM          25127 non-null  object        \n",
      " 14  TimeOfDay         25127 non-null  object        \n",
      "dtypes: bool(1), datetime64[ns](1), int64(1), object(12)\n",
      "memory usage: 2.7+ MB\n"
     ]
    }
   ],
   "source": [
    "df.info()"
   ]
  },
  {
   "cell_type": "markdown",
   "id": "d7ae81af",
   "metadata": {
    "papermill": {
     "duration": 0.005898,
     "end_time": "2025-04-09T01:00:21.985646",
     "exception": false,
     "start_time": "2025-04-09T01:00:21.979748",
     "status": "completed"
    },
    "tags": []
   },
   "source": [
    "### Coordinates"
   ]
  },
  {
   "cell_type": "code",
   "execution_count": 9,
   "id": "7f35b680",
   "metadata": {
    "execution": {
     "iopub.execute_input": "2025-04-09T01:00:21.998562Z",
     "iopub.status.busy": "2025-04-09T01:00:21.998149Z",
     "iopub.status.idle": "2025-04-09T01:00:22.729880Z",
     "shell.execute_reply": "2025-04-09T01:00:22.729197Z"
    },
    "papermill": {
     "duration": 0.739459,
     "end_time": "2025-04-09T01:00:22.730996",
     "exception": false,
     "start_time": "2025-04-09T01:00:21.991537",
     "status": "completed"
    },
    "tags": []
   },
   "outputs": [
    {
     "name": "stdout",
     "output_type": "stream",
     "text": [
      "Loaded geocode cache.\n"
     ]
    },
    {
     "name": "stdout",
     "output_type": "stream",
     "text": [
      "Geocoded 100 PIEDMONT AVE S, B: 38.0259068, -78.5187363\n"
     ]
    },
    {
     "name": "stdout",
     "output_type": "stream",
     "text": [
      "Geocoded 100 PIEDMONT AVE S: 38.0259068, -78.5187363\n"
     ]
    },
    {
     "name": "stdout",
     "output_type": "stream",
     "text": [
      "Geocoded 2100 ARLINGTON BLVD, 412: 38.0492674, -78.5063442\n"
     ]
    },
    {
     "name": "stdout",
     "output_type": "stream",
     "text": [
      "Geocoded 800 W MAIN ST, 110: 38.0314795, -78.4903331\n"
     ]
    },
    {
     "name": "stdout",
     "output_type": "stream",
     "text": [
      "Geocoded 1900 ARLINGTON BLVD, 200: 38.0477652, -78.5043276\n",
      "Geocode cache updated and saved.\n"
     ]
    },
    {
     "data": {
      "text/html": [
       "<div>\n",
       "<style scoped>\n",
       "    .dataframe tbody tr th:only-of-type {\n",
       "        vertical-align: middle;\n",
       "    }\n",
       "\n",
       "    .dataframe tbody tr th {\n",
       "        vertical-align: top;\n",
       "    }\n",
       "\n",
       "    .dataframe thead th {\n",
       "        text-align: right;\n",
       "    }\n",
       "</style>\n",
       "<table border=\"1\" class=\"dataframe\">\n",
       "  <thead>\n",
       "    <tr style=\"text-align: right;\">\n",
       "      <th></th>\n",
       "      <th>RecordID</th>\n",
       "      <th>Offense</th>\n",
       "      <th>IncidentID</th>\n",
       "      <th>BlockNumber</th>\n",
       "      <th>StreetName</th>\n",
       "      <th>Agency</th>\n",
       "      <th>HourReported</th>\n",
       "      <th>ReportingOfficer</th>\n",
       "      <th>Date</th>\n",
       "      <th>DateString</th>\n",
       "      <th>DayOfWeek</th>\n",
       "      <th>Weekend</th>\n",
       "      <th>Season</th>\n",
       "      <th>HourAMPM</th>\n",
       "      <th>TimeOfDay</th>\n",
       "      <th>FullStreet</th>\n",
       "      <th>lat</th>\n",
       "      <th>lon</th>\n",
       "    </tr>\n",
       "  </thead>\n",
       "  <tbody>\n",
       "    <tr>\n",
       "      <th>0</th>\n",
       "      <td>1</td>\n",
       "      <td>Suspicious Activity</td>\n",
       "      <td>202500011104</td>\n",
       "      <td>800</td>\n",
       "      <td>NASSAU ST</td>\n",
       "      <td>CPD</td>\n",
       "      <td>2216</td>\n",
       "      <td>Rigsby, Lloyd</td>\n",
       "      <td>2025-04-06 22:16:34</td>\n",
       "      <td>2025-04-06 10:16:34 PM</td>\n",
       "      <td>Sunday</td>\n",
       "      <td>True</td>\n",
       "      <td>Spring</td>\n",
       "      <td>10:16 PM</td>\n",
       "      <td>Night</td>\n",
       "      <td>800 NASSAU ST</td>\n",
       "      <td>38.018465</td>\n",
       "      <td>-78.467579</td>\n",
       "    </tr>\n",
       "    <tr>\n",
       "      <th>1</th>\n",
       "      <td>2</td>\n",
       "      <td>Assault Simple</td>\n",
       "      <td>202500011092</td>\n",
       "      <td>400</td>\n",
       "      <td>RIDGE MCINTIRE RD</td>\n",
       "      <td>CPD</td>\n",
       "      <td>2016</td>\n",
       "      <td>Benbow, Lauren</td>\n",
       "      <td>2025-04-06 20:16:32</td>\n",
       "      <td>2025-04-06 08:16:32 PM</td>\n",
       "      <td>Sunday</td>\n",
       "      <td>True</td>\n",
       "      <td>Spring</td>\n",
       "      <td>08:16 PM</td>\n",
       "      <td>Evening</td>\n",
       "      <td>400 RIDGE MCINTIRE RD</td>\n",
       "      <td>38.032597</td>\n",
       "      <td>-78.484605</td>\n",
       "    </tr>\n",
       "    <tr>\n",
       "      <th>2</th>\n",
       "      <td>3</td>\n",
       "      <td>Vandalism</td>\n",
       "      <td>202500011084</td>\n",
       "      <td>400</td>\n",
       "      <td>E HIGH ST</td>\n",
       "      <td>CPD</td>\n",
       "      <td>1757</td>\n",
       "      <td>Benbow, Lauren</td>\n",
       "      <td>2025-04-06 17:57:36</td>\n",
       "      <td>2025-04-06 05:57:36 PM</td>\n",
       "      <td>Sunday</td>\n",
       "      <td>True</td>\n",
       "      <td>Spring</td>\n",
       "      <td>05:57 PM</td>\n",
       "      <td>Evening</td>\n",
       "      <td>400 E HIGH ST</td>\n",
       "      <td>38.032316</td>\n",
       "      <td>-78.478176</td>\n",
       "    </tr>\n",
       "    <tr>\n",
       "      <th>3</th>\n",
       "      <td>4</td>\n",
       "      <td>Assault Intimidation</td>\n",
       "      <td>202500011073</td>\n",
       "      <td>1000</td>\n",
       "      <td>RIO RD E</td>\n",
       "      <td>CPD</td>\n",
       "      <td>1625</td>\n",
       "      <td>Bland, Johnnà</td>\n",
       "      <td>2025-04-06 16:25:03</td>\n",
       "      <td>2025-04-06 04:25:03 PM</td>\n",
       "      <td>Sunday</td>\n",
       "      <td>True</td>\n",
       "      <td>Spring</td>\n",
       "      <td>04:25 PM</td>\n",
       "      <td>Afternoon</td>\n",
       "      <td>1000 RIO RD E</td>\n",
       "      <td>38.062645</td>\n",
       "      <td>-78.463781</td>\n",
       "    </tr>\n",
       "    <tr>\n",
       "      <th>4</th>\n",
       "      <td>5</td>\n",
       "      <td>Vandalism</td>\n",
       "      <td>202500011072</td>\n",
       "      <td>100</td>\n",
       "      <td>PIEDMONT AVE S, B</td>\n",
       "      <td>CPD</td>\n",
       "      <td>1614</td>\n",
       "      <td>Rigsby, Lloyd</td>\n",
       "      <td>2025-04-06 16:14:44</td>\n",
       "      <td>2025-04-06 04:14:44 PM</td>\n",
       "      <td>Sunday</td>\n",
       "      <td>True</td>\n",
       "      <td>Spring</td>\n",
       "      <td>04:14 PM</td>\n",
       "      <td>Afternoon</td>\n",
       "      <td>100 PIEDMONT AVE S, B</td>\n",
       "      <td>38.025907</td>\n",
       "      <td>-78.518736</td>\n",
       "    </tr>\n",
       "  </tbody>\n",
       "</table>\n",
       "</div>"
      ],
      "text/plain": [
       "   RecordID               Offense    IncidentID BlockNumber  \\\n",
       "0         1   Suspicious Activity  202500011104         800   \n",
       "1         2        Assault Simple  202500011092         400   \n",
       "2         3             Vandalism  202500011084         400   \n",
       "3         4  Assault Intimidation  202500011073        1000   \n",
       "4         5             Vandalism  202500011072         100   \n",
       "\n",
       "          StreetName Agency HourReported ReportingOfficer                Date  \\\n",
       "0          NASSAU ST    CPD         2216    Rigsby, Lloyd 2025-04-06 22:16:34   \n",
       "1  RIDGE MCINTIRE RD    CPD         2016   Benbow, Lauren 2025-04-06 20:16:32   \n",
       "2          E HIGH ST    CPD         1757   Benbow, Lauren 2025-04-06 17:57:36   \n",
       "3           RIO RD E    CPD         1625    Bland, Johnnà 2025-04-06 16:25:03   \n",
       "4  PIEDMONT AVE S, B    CPD         1614    Rigsby, Lloyd 2025-04-06 16:14:44   \n",
       "\n",
       "               DateString DayOfWeek  Weekend  Season  HourAMPM  TimeOfDay  \\\n",
       "0  2025-04-06 10:16:34 PM    Sunday     True  Spring  10:16 PM      Night   \n",
       "1  2025-04-06 08:16:32 PM    Sunday     True  Spring  08:16 PM    Evening   \n",
       "2  2025-04-06 05:57:36 PM    Sunday     True  Spring  05:57 PM    Evening   \n",
       "3  2025-04-06 04:25:03 PM    Sunday     True  Spring  04:25 PM  Afternoon   \n",
       "4  2025-04-06 04:14:44 PM    Sunday     True  Spring  04:14 PM  Afternoon   \n",
       "\n",
       "              FullStreet        lat        lon  \n",
       "0          800 NASSAU ST  38.018465 -78.467579  \n",
       "1  400 RIDGE MCINTIRE RD  38.032597 -78.484605  \n",
       "2          400 E HIGH ST  38.032316 -78.478176  \n",
       "3          1000 RIO RD E  38.062645 -78.463781  \n",
       "4  100 PIEDMONT AVE S, B  38.025907 -78.518736  "
      ]
     },
     "execution_count": 9,
     "metadata": {},
     "output_type": "execute_result"
    }
   ],
   "source": [
    "# Combine BlockNumber and StreetName into a full address string\n",
    "df['FullStreet'] = df['BlockNumber'].astype(str) + \" \" + df['StreetName']\n",
    "\n",
    "# --- Step 1: Setup the Google Maps Client and Cache ---\n",
    "gmaps = googlemaps.Client(key=GOOGLE_API_KEY)\n",
    "\n",
    "# Try to load cached geocoding results if available.\n",
    "try:\n",
    "    with open(\"geocode_cache_google.pkl\", \"rb\") as f:\n",
    "        street_coords = pickle.load(f)\n",
    "    print(\"Loaded geocode cache.\")\n",
    "except FileNotFoundError:\n",
    "    street_coords = {}\n",
    "    print(\"No cache found; starting fresh.\")\n",
    "\n",
    "def geocode_address(address):\n",
    "    try:\n",
    "        # Append city and state to help geocoding\n",
    "        result = gmaps.geocode(f\"{address}, Charlottesville, VA\")\n",
    "        if result:\n",
    "            lat = result[0]['geometry']['location']['lat']\n",
    "            lon = result[0]['geometry']['location']['lng']\n",
    "            return lat, lon\n",
    "    except Exception as e:\n",
    "        print(f\"Error geocoding {address}: {e}\")\n",
    "    return None, None\n",
    "\n",
    "# --- Step 2: Geocode Only New Addresses ---\n",
    "unique_addresses = df['FullStreet'].unique()\n",
    "for address in unique_addresses:\n",
    "    if address not in street_coords:\n",
    "        lat, lon = geocode_address(address)\n",
    "        street_coords[address] = (lat, lon)\n",
    "        print(f\"Geocoded {address}: {lat}, {lon}\")\n",
    "\n",
    "# Save the updated cache to disk.\n",
    "with open(\"geocode_cache_google.pkl\", \"wb\") as f:\n",
    "    pickle.dump(street_coords, f)\n",
    "    print(\"Geocode cache updated and saved.\")\n",
    "\n",
    "# --- Step 3: Map Coordinates Back to DataFrame ---\n",
    "df['lat'] = df['FullStreet'].map(lambda s: street_coords.get(s, (None, None))[0])\n",
    "df['lon'] = df['FullStreet'].map(lambda s: street_coords.get(s, (None, None))[1])\n",
    "\n",
    "df.head()"
   ]
  },
  {
   "cell_type": "markdown",
   "id": "2dd9ff5e",
   "metadata": {
    "papermill": {
     "duration": 0.006681,
     "end_time": "2025-04-09T01:00:22.746131",
     "exception": false,
     "start_time": "2025-04-09T01:00:22.739450",
     "status": "completed"
    },
    "tags": []
   },
   "source": [
    "### Neighborhood"
   ]
  },
  {
   "cell_type": "code",
   "execution_count": 10,
   "id": "c0b97a68",
   "metadata": {
    "execution": {
     "iopub.execute_input": "2025-04-09T01:00:22.760155Z",
     "iopub.status.busy": "2025-04-09T01:00:22.759623Z",
     "iopub.status.idle": "2025-04-09T01:00:23.167022Z",
     "shell.execute_reply": "2025-04-09T01:00:23.166329Z"
    },
    "papermill": {
     "duration": 0.415678,
     "end_time": "2025-04-09T01:00:23.168172",
     "exception": false,
     "start_time": "2025-04-09T01:00:22.752494",
     "status": "completed"
    },
    "tags": []
   },
   "outputs": [
    {
     "name": "stdout",
     "output_type": "stream",
     "text": [
      "Loaded neighborhood cache.\n"
     ]
    },
    {
     "data": {
      "text/html": [
       "<div>\n",
       "<style scoped>\n",
       "    .dataframe tbody tr th:only-of-type {\n",
       "        vertical-align: middle;\n",
       "    }\n",
       "\n",
       "    .dataframe tbody tr th {\n",
       "        vertical-align: top;\n",
       "    }\n",
       "\n",
       "    .dataframe thead th {\n",
       "        text-align: right;\n",
       "    }\n",
       "</style>\n",
       "<table border=\"1\" class=\"dataframe\">\n",
       "  <thead>\n",
       "    <tr style=\"text-align: right;\">\n",
       "      <th></th>\n",
       "      <th>RecordID</th>\n",
       "      <th>Offense</th>\n",
       "      <th>IncidentID</th>\n",
       "      <th>BlockNumber</th>\n",
       "      <th>StreetName</th>\n",
       "      <th>Agency</th>\n",
       "      <th>HourReported</th>\n",
       "      <th>ReportingOfficer</th>\n",
       "      <th>Date</th>\n",
       "      <th>DateString</th>\n",
       "      <th>DayOfWeek</th>\n",
       "      <th>Weekend</th>\n",
       "      <th>Season</th>\n",
       "      <th>HourAMPM</th>\n",
       "      <th>TimeOfDay</th>\n",
       "      <th>FullStreet</th>\n",
       "      <th>lat</th>\n",
       "      <th>lon</th>\n",
       "      <th>neighborhood</th>\n",
       "    </tr>\n",
       "  </thead>\n",
       "  <tbody>\n",
       "    <tr>\n",
       "      <th>0</th>\n",
       "      <td>1</td>\n",
       "      <td>Suspicious Activity</td>\n",
       "      <td>202500011104</td>\n",
       "      <td>800</td>\n",
       "      <td>NASSAU ST</td>\n",
       "      <td>CPD</td>\n",
       "      <td>2216</td>\n",
       "      <td>Rigsby, Lloyd</td>\n",
       "      <td>2025-04-06 22:16:34</td>\n",
       "      <td>2025-04-06 10:16:34 PM</td>\n",
       "      <td>Sunday</td>\n",
       "      <td>True</td>\n",
       "      <td>Spring</td>\n",
       "      <td>10:16 PM</td>\n",
       "      <td>Night</td>\n",
       "      <td>800 NASSAU ST</td>\n",
       "      <td>38.018465</td>\n",
       "      <td>-78.467579</td>\n",
       "      <td>Belmont</td>\n",
       "    </tr>\n",
       "    <tr>\n",
       "      <th>1</th>\n",
       "      <td>2</td>\n",
       "      <td>Assault Simple</td>\n",
       "      <td>202500011092</td>\n",
       "      <td>400</td>\n",
       "      <td>RIDGE MCINTIRE RD</td>\n",
       "      <td>CPD</td>\n",
       "      <td>2016</td>\n",
       "      <td>Benbow, Lauren</td>\n",
       "      <td>2025-04-06 20:16:32</td>\n",
       "      <td>2025-04-06 08:16:32 PM</td>\n",
       "      <td>Sunday</td>\n",
       "      <td>True</td>\n",
       "      <td>Spring</td>\n",
       "      <td>08:16 PM</td>\n",
       "      <td>Evening</td>\n",
       "      <td>400 RIDGE MCINTIRE RD</td>\n",
       "      <td>38.032597</td>\n",
       "      <td>-78.484605</td>\n",
       "      <td>Starr Hill</td>\n",
       "    </tr>\n",
       "    <tr>\n",
       "      <th>2</th>\n",
       "      <td>3</td>\n",
       "      <td>Vandalism</td>\n",
       "      <td>202500011084</td>\n",
       "      <td>400</td>\n",
       "      <td>E HIGH ST</td>\n",
       "      <td>CPD</td>\n",
       "      <td>1757</td>\n",
       "      <td>Benbow, Lauren</td>\n",
       "      <td>2025-04-06 17:57:36</td>\n",
       "      <td>2025-04-06 05:57:36 PM</td>\n",
       "      <td>Sunday</td>\n",
       "      <td>True</td>\n",
       "      <td>Spring</td>\n",
       "      <td>05:57 PM</td>\n",
       "      <td>Evening</td>\n",
       "      <td>400 E HIGH ST</td>\n",
       "      <td>38.032316</td>\n",
       "      <td>-78.478176</td>\n",
       "      <td>North Downtown</td>\n",
       "    </tr>\n",
       "    <tr>\n",
       "      <th>3</th>\n",
       "      <td>4</td>\n",
       "      <td>Assault Intimidation</td>\n",
       "      <td>202500011073</td>\n",
       "      <td>1000</td>\n",
       "      <td>RIO RD E</td>\n",
       "      <td>CPD</td>\n",
       "      <td>1625</td>\n",
       "      <td>Bland, Johnnà</td>\n",
       "      <td>2025-04-06 16:25:03</td>\n",
       "      <td>2025-04-06 04:25:03 PM</td>\n",
       "      <td>Sunday</td>\n",
       "      <td>True</td>\n",
       "      <td>Spring</td>\n",
       "      <td>04:25 PM</td>\n",
       "      <td>Afternoon</td>\n",
       "      <td>1000 RIO RD E</td>\n",
       "      <td>38.062645</td>\n",
       "      <td>-78.463781</td>\n",
       "      <td>N/A</td>\n",
       "    </tr>\n",
       "    <tr>\n",
       "      <th>4</th>\n",
       "      <td>5</td>\n",
       "      <td>Vandalism</td>\n",
       "      <td>202500011072</td>\n",
       "      <td>100</td>\n",
       "      <td>PIEDMONT AVE S, B</td>\n",
       "      <td>CPD</td>\n",
       "      <td>1614</td>\n",
       "      <td>Rigsby, Lloyd</td>\n",
       "      <td>2025-04-06 16:14:44</td>\n",
       "      <td>2025-04-06 04:14:44 PM</td>\n",
       "      <td>Sunday</td>\n",
       "      <td>True</td>\n",
       "      <td>Spring</td>\n",
       "      <td>04:14 PM</td>\n",
       "      <td>Afternoon</td>\n",
       "      <td>100 PIEDMONT AVE S, B</td>\n",
       "      <td>38.025907</td>\n",
       "      <td>-78.518736</td>\n",
       "      <td>Jefferson Park Avenue</td>\n",
       "    </tr>\n",
       "  </tbody>\n",
       "</table>\n",
       "</div>"
      ],
      "text/plain": [
       "   RecordID               Offense    IncidentID BlockNumber  \\\n",
       "0         1   Suspicious Activity  202500011104         800   \n",
       "1         2        Assault Simple  202500011092         400   \n",
       "2         3             Vandalism  202500011084         400   \n",
       "3         4  Assault Intimidation  202500011073        1000   \n",
       "4         5             Vandalism  202500011072         100   \n",
       "\n",
       "          StreetName Agency HourReported ReportingOfficer                Date  \\\n",
       "0          NASSAU ST    CPD         2216    Rigsby, Lloyd 2025-04-06 22:16:34   \n",
       "1  RIDGE MCINTIRE RD    CPD         2016   Benbow, Lauren 2025-04-06 20:16:32   \n",
       "2          E HIGH ST    CPD         1757   Benbow, Lauren 2025-04-06 17:57:36   \n",
       "3           RIO RD E    CPD         1625    Bland, Johnnà 2025-04-06 16:25:03   \n",
       "4  PIEDMONT AVE S, B    CPD         1614    Rigsby, Lloyd 2025-04-06 16:14:44   \n",
       "\n",
       "               DateString DayOfWeek  Weekend  Season  HourAMPM  TimeOfDay  \\\n",
       "0  2025-04-06 10:16:34 PM    Sunday     True  Spring  10:16 PM      Night   \n",
       "1  2025-04-06 08:16:32 PM    Sunday     True  Spring  08:16 PM    Evening   \n",
       "2  2025-04-06 05:57:36 PM    Sunday     True  Spring  05:57 PM    Evening   \n",
       "3  2025-04-06 04:25:03 PM    Sunday     True  Spring  04:25 PM  Afternoon   \n",
       "4  2025-04-06 04:14:44 PM    Sunday     True  Spring  04:14 PM  Afternoon   \n",
       "\n",
       "              FullStreet        lat        lon           neighborhood  \n",
       "0          800 NASSAU ST  38.018465 -78.467579                Belmont  \n",
       "1  400 RIDGE MCINTIRE RD  38.032597 -78.484605             Starr Hill  \n",
       "2          400 E HIGH ST  38.032316 -78.478176         North Downtown  \n",
       "3          1000 RIO RD E  38.062645 -78.463781                    N/A  \n",
       "4  100 PIEDMONT AVE S, B  38.025907 -78.518736  Jefferson Park Avenue  "
      ]
     },
     "execution_count": 10,
     "metadata": {},
     "output_type": "execute_result"
    }
   ],
   "source": [
    "# Initialize the Google Maps client.\n",
    "gmaps = googlemaps.Client(key=GOOGLE_API_KEY)\n",
    "\n",
    "# Try to load a persistent neighborhood cache if available.\n",
    "try:\n",
    "    with open(\"neighborhood_cache.pkl\", \"rb\") as f:\n",
    "        neighborhood_cache = pickle.load(f)\n",
    "    print(\"Loaded neighborhood cache.\")\n",
    "except FileNotFoundError:\n",
    "    neighborhood_cache = {}\n",
    "    print(\"No neighborhood cache found; starting fresh.\")\n",
    "\n",
    "def get_neighborhood(lat, lon):\n",
    "    \"\"\"\n",
    "    Reverse geocodes a latitude and longitude to retrieve the neighborhood.\n",
    "    Caches results to speed up subsequent lookups.\n",
    "    \"\"\"\n",
    "    key = (lat, lon)\n",
    "    if key in neighborhood_cache:\n",
    "        return neighborhood_cache[key]\n",
    "    \n",
    "    try:\n",
    "        result = gmaps.reverse_geocode((lat, lon))\n",
    "        if result:\n",
    "            # Look for the 'neighborhood' component in the first result.\n",
    "            for component in result[0]['address_components']:\n",
    "                if 'neighborhood' in component['types']:\n",
    "                    neighborhood = component['long_name']\n",
    "                    neighborhood_cache[key] = neighborhood\n",
    "                    return neighborhood\n",
    "            # If no neighborhood is found, return \"N/A\"\n",
    "            neighborhood_cache[key] = \"N/A\"\n",
    "            return \"N/A\"\n",
    "    except Exception as e:\n",
    "        print(f\"Error getting neighborhood for {lat}, {lon}: {e}\")\n",
    "        return \"N/A\"\n",
    "    \n",
    "    # Pause to respect usage limits.\n",
    "    time.sleep(1)\n",
    "\n",
    "# Example usage: Apply to your DataFrame 'df' that already has 'lat' and 'lon' columns.\n",
    "df['neighborhood'] = df.apply(lambda row: get_neighborhood(row['lat'], row['lon']), axis=1)\n",
    "\n",
    "# Save the updated neighborhood cache.\n",
    "with open(\"neighborhood_cache.pkl\", \"wb\") as f:\n",
    "    pickle.dump(neighborhood_cache, f)\n",
    "\n",
    "df.head()\n"
   ]
  },
  {
   "cell_type": "markdown",
   "id": "7e094c9b",
   "metadata": {
    "papermill": {
     "duration": 0.006682,
     "end_time": "2025-04-09T01:00:23.181830",
     "exception": false,
     "start_time": "2025-04-09T01:00:23.175148",
     "status": "completed"
    },
    "tags": []
   },
   "source": [
    "### Zip"
   ]
  },
  {
   "cell_type": "code",
   "execution_count": 11,
   "id": "1cdf6ae4",
   "metadata": {
    "execution": {
     "iopub.execute_input": "2025-04-09T01:00:23.196038Z",
     "iopub.status.busy": "2025-04-09T01:00:23.195783Z",
     "iopub.status.idle": "2025-04-09T01:00:24.936572Z",
     "shell.execute_reply": "2025-04-09T01:00:24.935871Z"
    },
    "papermill": {
     "duration": 1.749302,
     "end_time": "2025-04-09T01:00:24.937730",
     "exception": false,
     "start_time": "2025-04-09T01:00:23.188428",
     "status": "completed"
    },
    "tags": []
   },
   "outputs": [
    {
     "name": "stdout",
     "output_type": "stream",
     "text": [
      "Loaded zip cache.\n"
     ]
    },
    {
     "data": {
      "text/html": [
       "<div>\n",
       "<style scoped>\n",
       "    .dataframe tbody tr th:only-of-type {\n",
       "        vertical-align: middle;\n",
       "    }\n",
       "\n",
       "    .dataframe tbody tr th {\n",
       "        vertical-align: top;\n",
       "    }\n",
       "\n",
       "    .dataframe thead th {\n",
       "        text-align: right;\n",
       "    }\n",
       "</style>\n",
       "<table border=\"1\" class=\"dataframe\">\n",
       "  <thead>\n",
       "    <tr style=\"text-align: right;\">\n",
       "      <th></th>\n",
       "      <th>RecordID</th>\n",
       "      <th>Offense</th>\n",
       "      <th>IncidentID</th>\n",
       "      <th>BlockNumber</th>\n",
       "      <th>StreetName</th>\n",
       "      <th>Agency</th>\n",
       "      <th>HourReported</th>\n",
       "      <th>ReportingOfficer</th>\n",
       "      <th>Date</th>\n",
       "      <th>DateString</th>\n",
       "      <th>DayOfWeek</th>\n",
       "      <th>Weekend</th>\n",
       "      <th>Season</th>\n",
       "      <th>HourAMPM</th>\n",
       "      <th>TimeOfDay</th>\n",
       "      <th>FullStreet</th>\n",
       "      <th>lat</th>\n",
       "      <th>lon</th>\n",
       "      <th>neighborhood</th>\n",
       "      <th>zip</th>\n",
       "    </tr>\n",
       "  </thead>\n",
       "  <tbody>\n",
       "    <tr>\n",
       "      <th>0</th>\n",
       "      <td>1</td>\n",
       "      <td>Suspicious Activity</td>\n",
       "      <td>202500011104</td>\n",
       "      <td>800</td>\n",
       "      <td>NASSAU ST</td>\n",
       "      <td>CPD</td>\n",
       "      <td>2216</td>\n",
       "      <td>Rigsby, Lloyd</td>\n",
       "      <td>2025-04-06 22:16:34</td>\n",
       "      <td>2025-04-06 10:16:34 PM</td>\n",
       "      <td>Sunday</td>\n",
       "      <td>True</td>\n",
       "      <td>Spring</td>\n",
       "      <td>10:16 PM</td>\n",
       "      <td>Night</td>\n",
       "      <td>800 NASSAU ST</td>\n",
       "      <td>38.018465</td>\n",
       "      <td>-78.467579</td>\n",
       "      <td>Belmont</td>\n",
       "      <td>22902</td>\n",
       "    </tr>\n",
       "    <tr>\n",
       "      <th>1</th>\n",
       "      <td>2</td>\n",
       "      <td>Assault Simple</td>\n",
       "      <td>202500011092</td>\n",
       "      <td>400</td>\n",
       "      <td>RIDGE MCINTIRE RD</td>\n",
       "      <td>CPD</td>\n",
       "      <td>2016</td>\n",
       "      <td>Benbow, Lauren</td>\n",
       "      <td>2025-04-06 20:16:32</td>\n",
       "      <td>2025-04-06 08:16:32 PM</td>\n",
       "      <td>Sunday</td>\n",
       "      <td>True</td>\n",
       "      <td>Spring</td>\n",
       "      <td>08:16 PM</td>\n",
       "      <td>Evening</td>\n",
       "      <td>400 RIDGE MCINTIRE RD</td>\n",
       "      <td>38.032597</td>\n",
       "      <td>-78.484605</td>\n",
       "      <td>Starr Hill</td>\n",
       "      <td>22908</td>\n",
       "    </tr>\n",
       "    <tr>\n",
       "      <th>2</th>\n",
       "      <td>3</td>\n",
       "      <td>Vandalism</td>\n",
       "      <td>202500011084</td>\n",
       "      <td>400</td>\n",
       "      <td>E HIGH ST</td>\n",
       "      <td>CPD</td>\n",
       "      <td>1757</td>\n",
       "      <td>Benbow, Lauren</td>\n",
       "      <td>2025-04-06 17:57:36</td>\n",
       "      <td>2025-04-06 05:57:36 PM</td>\n",
       "      <td>Sunday</td>\n",
       "      <td>True</td>\n",
       "      <td>Spring</td>\n",
       "      <td>05:57 PM</td>\n",
       "      <td>Evening</td>\n",
       "      <td>400 E HIGH ST</td>\n",
       "      <td>38.032316</td>\n",
       "      <td>-78.478176</td>\n",
       "      <td>North Downtown</td>\n",
       "      <td>22902</td>\n",
       "    </tr>\n",
       "    <tr>\n",
       "      <th>3</th>\n",
       "      <td>4</td>\n",
       "      <td>Assault Intimidation</td>\n",
       "      <td>202500011073</td>\n",
       "      <td>1000</td>\n",
       "      <td>RIO RD E</td>\n",
       "      <td>CPD</td>\n",
       "      <td>1625</td>\n",
       "      <td>Bland, Johnnà</td>\n",
       "      <td>2025-04-06 16:25:03</td>\n",
       "      <td>2025-04-06 04:25:03 PM</td>\n",
       "      <td>Sunday</td>\n",
       "      <td>True</td>\n",
       "      <td>Spring</td>\n",
       "      <td>04:25 PM</td>\n",
       "      <td>Afternoon</td>\n",
       "      <td>1000 RIO RD E</td>\n",
       "      <td>38.062645</td>\n",
       "      <td>-78.463781</td>\n",
       "      <td>N/A</td>\n",
       "      <td>22901</td>\n",
       "    </tr>\n",
       "    <tr>\n",
       "      <th>4</th>\n",
       "      <td>5</td>\n",
       "      <td>Vandalism</td>\n",
       "      <td>202500011072</td>\n",
       "      <td>100</td>\n",
       "      <td>PIEDMONT AVE S, B</td>\n",
       "      <td>CPD</td>\n",
       "      <td>1614</td>\n",
       "      <td>Rigsby, Lloyd</td>\n",
       "      <td>2025-04-06 16:14:44</td>\n",
       "      <td>2025-04-06 04:14:44 PM</td>\n",
       "      <td>Sunday</td>\n",
       "      <td>True</td>\n",
       "      <td>Spring</td>\n",
       "      <td>04:14 PM</td>\n",
       "      <td>Afternoon</td>\n",
       "      <td>100 PIEDMONT AVE S, B</td>\n",
       "      <td>38.025907</td>\n",
       "      <td>-78.518736</td>\n",
       "      <td>Jefferson Park Avenue</td>\n",
       "      <td>22903</td>\n",
       "    </tr>\n",
       "  </tbody>\n",
       "</table>\n",
       "</div>"
      ],
      "text/plain": [
       "   RecordID               Offense    IncidentID BlockNumber  \\\n",
       "0         1   Suspicious Activity  202500011104         800   \n",
       "1         2        Assault Simple  202500011092         400   \n",
       "2         3             Vandalism  202500011084         400   \n",
       "3         4  Assault Intimidation  202500011073        1000   \n",
       "4         5             Vandalism  202500011072         100   \n",
       "\n",
       "          StreetName Agency HourReported ReportingOfficer                Date  \\\n",
       "0          NASSAU ST    CPD         2216    Rigsby, Lloyd 2025-04-06 22:16:34   \n",
       "1  RIDGE MCINTIRE RD    CPD         2016   Benbow, Lauren 2025-04-06 20:16:32   \n",
       "2          E HIGH ST    CPD         1757   Benbow, Lauren 2025-04-06 17:57:36   \n",
       "3           RIO RD E    CPD         1625    Bland, Johnnà 2025-04-06 16:25:03   \n",
       "4  PIEDMONT AVE S, B    CPD         1614    Rigsby, Lloyd 2025-04-06 16:14:44   \n",
       "\n",
       "               DateString DayOfWeek  Weekend  Season  HourAMPM  TimeOfDay  \\\n",
       "0  2025-04-06 10:16:34 PM    Sunday     True  Spring  10:16 PM      Night   \n",
       "1  2025-04-06 08:16:32 PM    Sunday     True  Spring  08:16 PM    Evening   \n",
       "2  2025-04-06 05:57:36 PM    Sunday     True  Spring  05:57 PM    Evening   \n",
       "3  2025-04-06 04:25:03 PM    Sunday     True  Spring  04:25 PM  Afternoon   \n",
       "4  2025-04-06 04:14:44 PM    Sunday     True  Spring  04:14 PM  Afternoon   \n",
       "\n",
       "              FullStreet        lat        lon           neighborhood    zip  \n",
       "0          800 NASSAU ST  38.018465 -78.467579                Belmont  22902  \n",
       "1  400 RIDGE MCINTIRE RD  38.032597 -78.484605             Starr Hill  22908  \n",
       "2          400 E HIGH ST  38.032316 -78.478176         North Downtown  22902  \n",
       "3          1000 RIO RD E  38.062645 -78.463781                    N/A  22901  \n",
       "4  100 PIEDMONT AVE S, B  38.025907 -78.518736  Jefferson Park Avenue  22903  "
      ]
     },
     "execution_count": 11,
     "metadata": {},
     "output_type": "execute_result"
    }
   ],
   "source": [
    "# Initialize the geocoder.\n",
    "geolocator = Nominatim(user_agent=\"zip_lookup\")\n",
    "\n",
    "# Try to load a persistent ZIP cache if available.\n",
    "try:\n",
    "    with open(\"zip_cache.pkl\", \"rb\") as f:\n",
    "        zip_cache = pickle.load(f)\n",
    "    print(\"Loaded zip cache.\")\n",
    "except FileNotFoundError:\n",
    "    zip_cache = {}\n",
    "    print(\"No zip cache found; starting fresh.\")\n",
    "\n",
    "def get_zip(lat, lon):\n",
    "    \"\"\"\n",
    "    Reverse geocodes a latitude and longitude to retrieve the ZIP code.\n",
    "    Caches results to speed up subsequent lookups.\n",
    "    \"\"\"\n",
    "    key = (lat, lon)\n",
    "    if key in zip_cache:\n",
    "        return zip_cache[key]\n",
    "    \n",
    "    try:\n",
    "        location = geolocator.reverse((lat, lon), exactly_one=True, timeout=10)\n",
    "        address = location.raw.get('address', {})\n",
    "        postal_code = address.get('postcode', \"N/A\")\n",
    "    except Exception as e:\n",
    "        print(f\"Error getting ZIP for {lat}, {lon}: {e}\")\n",
    "        postal_code = \"N/A\"\n",
    "    \n",
    "    zip_cache[key] = postal_code\n",
    "    # Pause to respect the usage policy.\n",
    "    time.sleep(1)\n",
    "    return postal_code\n",
    "\n",
    "# Apply the function to each row in the DataFrame.\n",
    "df['zip'] = df.apply(lambda row: get_zip(row['lat'], row['lon']), axis=1)\n",
    "\n",
    "# Save the updated ZIP cache.\n",
    "with open(\"zip_cache.pkl\", \"wb\") as f:\n",
    "    pickle.dump(zip_cache, f)\n",
    "\n",
    "df.head()\n"
   ]
  },
  {
   "cell_type": "code",
   "execution_count": 12,
   "id": "5bff44a3",
   "metadata": {
    "execution": {
     "iopub.execute_input": "2025-04-09T01:00:24.953132Z",
     "iopub.status.busy": "2025-04-09T01:00:24.952751Z",
     "iopub.status.idle": "2025-04-09T01:00:24.980383Z",
     "shell.execute_reply": "2025-04-09T01:00:24.979752Z"
    },
    "papermill": {
     "duration": 0.036361,
     "end_time": "2025-04-09T01:00:24.981376",
     "exception": false,
     "start_time": "2025-04-09T01:00:24.945015",
     "status": "completed"
    },
    "tags": []
   },
   "outputs": [
    {
     "name": "stdout",
     "output_type": "stream",
     "text": [
      "                  MissingCount  MissingPercentage\n",
      "RecordID                     0               0.00\n",
      "Offense                      0               0.00\n",
      "IncidentID                   0               0.00\n",
      "BlockNumber                  0               0.00\n",
      "StreetName                   0               0.00\n",
      "Agency                       0               0.00\n",
      "HourReported                 0               0.00\n",
      "ReportingOfficer            17               0.07\n",
      "Date                         0               0.00\n",
      "DateString                   0               0.00\n",
      "DayOfWeek                    0               0.00\n",
      "Weekend                      0               0.00\n",
      "Season                       0               0.00\n",
      "HourAMPM                     0               0.00\n",
      "TimeOfDay                    0               0.00\n",
      "FullStreet                   0               0.00\n",
      "lat                          0               0.00\n",
      "lon                          0               0.00\n",
      "neighborhood                 0               0.00\n",
      "zip                          0               0.00\n"
     ]
    }
   ],
   "source": [
    "missing_info = missing_percentage(df)\n",
    "print(missing_info)\n"
   ]
  },
  {
   "cell_type": "code",
   "execution_count": 13,
   "id": "fab5f1dc",
   "metadata": {
    "execution": {
     "iopub.execute_input": "2025-04-09T01:00:24.996819Z",
     "iopub.status.busy": "2025-04-09T01:00:24.996362Z",
     "iopub.status.idle": "2025-04-09T01:00:25.025093Z",
     "shell.execute_reply": "2025-04-09T01:00:25.024499Z"
    },
    "papermill": {
     "duration": 0.037459,
     "end_time": "2025-04-09T01:00:25.026084",
     "exception": false,
     "start_time": "2025-04-09T01:00:24.988625",
     "status": "completed"
    },
    "tags": []
   },
   "outputs": [
    {
     "name": "stdout",
     "output_type": "stream",
     "text": [
      "<class 'pandas.core.frame.DataFrame'>\n",
      "RangeIndex: 25127 entries, 0 to 25126\n",
      "Data columns (total 20 columns):\n",
      " #   Column            Non-Null Count  Dtype         \n",
      "---  ------            --------------  -----         \n",
      " 0   RecordID          25127 non-null  int64         \n",
      " 1   Offense           25127 non-null  object        \n",
      " 2   IncidentID        25127 non-null  object        \n",
      " 3   BlockNumber       25127 non-null  object        \n",
      " 4   StreetName        25127 non-null  object        \n",
      " 5   Agency            25127 non-null  object        \n",
      " 6   HourReported      25127 non-null  object        \n",
      " 7   ReportingOfficer  25110 non-null  object        \n",
      " 8   Date              25127 non-null  datetime64[ns]\n",
      " 9   DateString        25127 non-null  object        \n",
      " 10  DayOfWeek         25127 non-null  object        \n",
      " 11  Weekend           25127 non-null  bool          \n",
      " 12  Season            25127 non-null  object        \n",
      " 13  HourAMPM          25127 non-null  object        \n",
      " 14  TimeOfDay         25127 non-null  object        \n",
      " 15  FullStreet        25127 non-null  object        \n",
      " 16  lat               25127 non-null  float64       \n",
      " 17  lon               25127 non-null  float64       \n",
      " 18  neighborhood      25127 non-null  object        \n",
      " 19  zip               25127 non-null  object        \n",
      "dtypes: bool(1), datetime64[ns](1), float64(2), int64(1), object(15)\n",
      "memory usage: 3.7+ MB\n"
     ]
    }
   ],
   "source": [
    "df.info()"
   ]
  },
  {
   "cell_type": "code",
   "execution_count": 14,
   "id": "eb974605",
   "metadata": {
    "execution": {
     "iopub.execute_input": "2025-04-09T01:00:25.042010Z",
     "iopub.status.busy": "2025-04-09T01:00:25.041555Z",
     "iopub.status.idle": "2025-04-09T01:00:25.088270Z",
     "shell.execute_reply": "2025-04-09T01:00:25.087667Z"
    },
    "papermill": {
     "duration": 0.055832,
     "end_time": "2025-04-09T01:00:25.089391",
     "exception": false,
     "start_time": "2025-04-09T01:00:25.033559",
     "status": "completed"
    },
    "tags": []
   },
   "outputs": [
    {
     "data": {
      "text/html": [
       "<div>\n",
       "<style scoped>\n",
       "    .dataframe tbody tr th:only-of-type {\n",
       "        vertical-align: middle;\n",
       "    }\n",
       "\n",
       "    .dataframe tbody tr th {\n",
       "        vertical-align: top;\n",
       "    }\n",
       "\n",
       "    .dataframe thead th {\n",
       "        text-align: right;\n",
       "    }\n",
       "</style>\n",
       "<table border=\"1\" class=\"dataframe\">\n",
       "  <thead>\n",
       "    <tr style=\"text-align: right;\">\n",
       "      <th></th>\n",
       "      <th>RecordID</th>\n",
       "      <th>Offense</th>\n",
       "      <th>IncidentID</th>\n",
       "      <th>Agency</th>\n",
       "      <th>ReportingOfficer</th>\n",
       "      <th>Date</th>\n",
       "      <th>DayOfWeek</th>\n",
       "      <th>Weekend</th>\n",
       "      <th>Season</th>\n",
       "      <th>TimeOfDay</th>\n",
       "      <th>FullStreet</th>\n",
       "      <th>lat</th>\n",
       "      <th>lon</th>\n",
       "      <th>neighborhood</th>\n",
       "      <th>zip</th>\n",
       "    </tr>\n",
       "  </thead>\n",
       "  <tbody>\n",
       "    <tr>\n",
       "      <th>0</th>\n",
       "      <td>1</td>\n",
       "      <td>Suspicious Activity</td>\n",
       "      <td>202500011104</td>\n",
       "      <td>CPD</td>\n",
       "      <td>Rigsby, Lloyd</td>\n",
       "      <td>2025-04-06 22:16:34</td>\n",
       "      <td>Sunday</td>\n",
       "      <td>True</td>\n",
       "      <td>Spring</td>\n",
       "      <td>Night</td>\n",
       "      <td>800 NASSAU ST</td>\n",
       "      <td>38.018465</td>\n",
       "      <td>-78.467579</td>\n",
       "      <td>Belmont</td>\n",
       "      <td>22902</td>\n",
       "    </tr>\n",
       "    <tr>\n",
       "      <th>1</th>\n",
       "      <td>2</td>\n",
       "      <td>Assault Simple</td>\n",
       "      <td>202500011092</td>\n",
       "      <td>CPD</td>\n",
       "      <td>Benbow, Lauren</td>\n",
       "      <td>2025-04-06 20:16:32</td>\n",
       "      <td>Sunday</td>\n",
       "      <td>True</td>\n",
       "      <td>Spring</td>\n",
       "      <td>Evening</td>\n",
       "      <td>400 RIDGE MCINTIRE RD</td>\n",
       "      <td>38.032597</td>\n",
       "      <td>-78.484605</td>\n",
       "      <td>Starr Hill</td>\n",
       "      <td>22908</td>\n",
       "    </tr>\n",
       "    <tr>\n",
       "      <th>2</th>\n",
       "      <td>3</td>\n",
       "      <td>Vandalism</td>\n",
       "      <td>202500011084</td>\n",
       "      <td>CPD</td>\n",
       "      <td>Benbow, Lauren</td>\n",
       "      <td>2025-04-06 17:57:36</td>\n",
       "      <td>Sunday</td>\n",
       "      <td>True</td>\n",
       "      <td>Spring</td>\n",
       "      <td>Evening</td>\n",
       "      <td>400 E HIGH ST</td>\n",
       "      <td>38.032316</td>\n",
       "      <td>-78.478176</td>\n",
       "      <td>North Downtown</td>\n",
       "      <td>22902</td>\n",
       "    </tr>\n",
       "    <tr>\n",
       "      <th>3</th>\n",
       "      <td>4</td>\n",
       "      <td>Assault Intimidation</td>\n",
       "      <td>202500011073</td>\n",
       "      <td>CPD</td>\n",
       "      <td>Bland, Johnnà</td>\n",
       "      <td>2025-04-06 16:25:03</td>\n",
       "      <td>Sunday</td>\n",
       "      <td>True</td>\n",
       "      <td>Spring</td>\n",
       "      <td>Afternoon</td>\n",
       "      <td>1000 RIO RD E</td>\n",
       "      <td>38.062645</td>\n",
       "      <td>-78.463781</td>\n",
       "      <td>N/A</td>\n",
       "      <td>22901</td>\n",
       "    </tr>\n",
       "    <tr>\n",
       "      <th>4</th>\n",
       "      <td>5</td>\n",
       "      <td>Vandalism</td>\n",
       "      <td>202500011072</td>\n",
       "      <td>CPD</td>\n",
       "      <td>Rigsby, Lloyd</td>\n",
       "      <td>2025-04-06 16:14:44</td>\n",
       "      <td>Sunday</td>\n",
       "      <td>True</td>\n",
       "      <td>Spring</td>\n",
       "      <td>Afternoon</td>\n",
       "      <td>100 PIEDMONT AVE S, B</td>\n",
       "      <td>38.025907</td>\n",
       "      <td>-78.518736</td>\n",
       "      <td>Jefferson Park Avenue</td>\n",
       "      <td>22903</td>\n",
       "    </tr>\n",
       "  </tbody>\n",
       "</table>\n",
       "</div>"
      ],
      "text/plain": [
       "   RecordID               Offense    IncidentID Agency ReportingOfficer  \\\n",
       "0         1   Suspicious Activity  202500011104    CPD    Rigsby, Lloyd   \n",
       "1         2        Assault Simple  202500011092    CPD   Benbow, Lauren   \n",
       "2         3             Vandalism  202500011084    CPD   Benbow, Lauren   \n",
       "3         4  Assault Intimidation  202500011073    CPD    Bland, Johnnà   \n",
       "4         5             Vandalism  202500011072    CPD    Rigsby, Lloyd   \n",
       "\n",
       "                 Date DayOfWeek  Weekend  Season  TimeOfDay  \\\n",
       "0 2025-04-06 22:16:34    Sunday     True  Spring      Night   \n",
       "1 2025-04-06 20:16:32    Sunday     True  Spring    Evening   \n",
       "2 2025-04-06 17:57:36    Sunday     True  Spring    Evening   \n",
       "3 2025-04-06 16:25:03    Sunday     True  Spring  Afternoon   \n",
       "4 2025-04-06 16:14:44    Sunday     True  Spring  Afternoon   \n",
       "\n",
       "              FullStreet        lat        lon           neighborhood    zip  \n",
       "0          800 NASSAU ST  38.018465 -78.467579                Belmont  22902  \n",
       "1  400 RIDGE MCINTIRE RD  38.032597 -78.484605             Starr Hill  22908  \n",
       "2          400 E HIGH ST  38.032316 -78.478176         North Downtown  22902  \n",
       "3          1000 RIO RD E  38.062645 -78.463781                    N/A  22901  \n",
       "4  100 PIEDMONT AVE S, B  38.025907 -78.518736  Jefferson Park Avenue  22903  "
      ]
     },
     "execution_count": 14,
     "metadata": {},
     "output_type": "execute_result"
    }
   ],
   "source": [
    "# Now drop the original BlockNumber and StreetName columns\n",
    "df.drop(columns=['BlockNumber', 'StreetName','HourAMPM','HourReported','DateString'], inplace=True)\n",
    "df[\"zip\"] = df[\"zip\"].astype(str)\n",
    "\n",
    "# Fill all missing values in the DataFrame with \"N/A\"\n",
    "df.replace({None: \"N/A\", np.nan: \"N/A\", \"\": \"N/A\"}, inplace=True)\n",
    "df.head()"
   ]
  },
  {
   "cell_type": "code",
   "execution_count": 15,
   "id": "8f9e15b5",
   "metadata": {
    "execution": {
     "iopub.execute_input": "2025-04-09T01:00:25.105794Z",
     "iopub.status.busy": "2025-04-09T01:00:25.105308Z",
     "iopub.status.idle": "2025-04-09T01:00:25.125072Z",
     "shell.execute_reply": "2025-04-09T01:00:25.124376Z"
    },
    "papermill": {
     "duration": 0.029041,
     "end_time": "2025-04-09T01:00:25.126118",
     "exception": false,
     "start_time": "2025-04-09T01:00:25.097077",
     "status": "completed"
    },
    "tags": []
   },
   "outputs": [
    {
     "name": "stdout",
     "output_type": "stream",
     "text": [
      "                  MissingCount  MissingPercentage\n",
      "RecordID                     0                0.0\n",
      "Offense                      0                0.0\n",
      "IncidentID                   0                0.0\n",
      "Agency                       0                0.0\n",
      "ReportingOfficer             0                0.0\n",
      "Date                         0                0.0\n",
      "DayOfWeek                    0                0.0\n",
      "Weekend                      0                0.0\n",
      "Season                       0                0.0\n",
      "TimeOfDay                    0                0.0\n",
      "FullStreet                   0                0.0\n",
      "lat                          0                0.0\n",
      "lon                          0                0.0\n",
      "neighborhood                 0                0.0\n",
      "zip                          0                0.0\n"
     ]
    }
   ],
   "source": [
    "missing_info = missing_percentage(df)\n",
    "print(missing_info)"
   ]
  },
  {
   "cell_type": "code",
   "execution_count": 16,
   "id": "4e8c8d55",
   "metadata": {
    "execution": {
     "iopub.execute_input": "2025-04-09T01:00:25.142241Z",
     "iopub.status.busy": "2025-04-09T01:00:25.141836Z",
     "iopub.status.idle": "2025-04-09T01:00:25.146322Z",
     "shell.execute_reply": "2025-04-09T01:00:25.145662Z"
    },
    "papermill": {
     "duration": 0.013601,
     "end_time": "2025-04-09T01:00:25.147345",
     "exception": false,
     "start_time": "2025-04-09T01:00:25.133744",
     "status": "completed"
    },
    "tags": []
   },
   "outputs": [
    {
     "data": {
      "text/plain": [
       "Index(['RecordID', 'Offense', 'IncidentID', 'Agency', 'ReportingOfficer',\n",
       "       'Date', 'DayOfWeek', 'Weekend', 'Season', 'TimeOfDay', 'FullStreet',\n",
       "       'lat', 'lon', 'neighborhood', 'zip'],\n",
       "      dtype='object')"
      ]
     },
     "execution_count": 16,
     "metadata": {},
     "output_type": "execute_result"
    }
   ],
   "source": [
    "df.columns"
   ]
  },
  {
   "cell_type": "code",
   "execution_count": 17,
   "id": "86e37fef",
   "metadata": {
    "execution": {
     "iopub.execute_input": "2025-04-09T01:00:25.163440Z",
     "iopub.status.busy": "2025-04-09T01:00:25.163007Z",
     "iopub.status.idle": "2025-04-09T01:00:25.184075Z",
     "shell.execute_reply": "2025-04-09T01:00:25.183491Z"
    },
    "papermill": {
     "duration": 0.030186,
     "end_time": "2025-04-09T01:00:25.185134",
     "exception": false,
     "start_time": "2025-04-09T01:00:25.154948",
     "status": "completed"
    },
    "tags": []
   },
   "outputs": [
    {
     "name": "stdout",
     "output_type": "stream",
     "text": [
      "<class 'pandas.core.frame.DataFrame'>\n",
      "RangeIndex: 25127 entries, 0 to 25126\n",
      "Data columns (total 15 columns):\n",
      " #   Column            Non-Null Count  Dtype         \n",
      "---  ------            --------------  -----         \n",
      " 0   RecordID          25127 non-null  int64         \n",
      " 1   Offense           25127 non-null  object        \n",
      " 2   IncidentID        25127 non-null  object        \n",
      " 3   Agency            25127 non-null  object        \n",
      " 4   ReportingOfficer  25127 non-null  object        \n",
      " 5   Date              25127 non-null  datetime64[ns]\n",
      " 6   DayOfWeek         25127 non-null  object        \n",
      " 7   Weekend           25127 non-null  bool          \n",
      " 8   Season            25127 non-null  object        \n",
      " 9   TimeOfDay         25127 non-null  object        \n",
      " 10  FullStreet        25127 non-null  object        \n",
      " 11  lat               25127 non-null  float64       \n",
      " 12  lon               25127 non-null  float64       \n",
      " 13  neighborhood      25127 non-null  object        \n",
      " 14  zip               25127 non-null  object        \n",
      "dtypes: bool(1), datetime64[ns](1), float64(2), int64(1), object(10)\n",
      "memory usage: 2.7+ MB\n"
     ]
    }
   ],
   "source": [
    "df.info()"
   ]
  },
  {
   "cell_type": "markdown",
   "id": "30836e6b",
   "metadata": {
    "papermill": {
     "duration": 0.007758,
     "end_time": "2025-04-09T01:00:25.200800",
     "exception": false,
     "start_time": "2025-04-09T01:00:25.193042",
     "status": "completed"
    },
    "tags": []
   },
   "source": [
    "### Export Clean Data"
   ]
  },
  {
   "cell_type": "code",
   "execution_count": 18,
   "id": "974da99c",
   "metadata": {
    "execution": {
     "iopub.execute_input": "2025-04-09T01:00:25.217764Z",
     "iopub.status.busy": "2025-04-09T01:00:25.217214Z",
     "iopub.status.idle": "2025-04-09T01:00:34.505225Z",
     "shell.execute_reply": "2025-04-09T01:00:34.504599Z"
    },
    "papermill": {
     "duration": 9.297646,
     "end_time": "2025-04-09T01:00:34.506307",
     "exception": false,
     "start_time": "2025-04-09T01:00:25.208661",
     "status": "completed"
    },
    "tags": []
   },
   "outputs": [
    {
     "name": "stdout",
     "output_type": "stream",
     "text": [
      "Project Root: /home/runner/work/crime-data/crime-data\n"
     ]
    },
    {
     "name": "stdout",
     "output_type": "stream",
     "text": [
      "Data saved to: /home/runner/work/crime-data/crime-data/data/charlottesville_crime_incidents.csv\n"
     ]
    },
    {
     "name": "stdout",
     "output_type": "stream",
     "text": [
      "Excel saved to: /home/runner/work/crime-data/crime-data/data/charlottesville_crime_incidents.xlsx\n"
     ]
    }
   ],
   "source": [
    "# Determine the project root (assuming papermill is run from the repository root)\n",
    "project_root = os.getcwd()\n",
    "print(\"Project Root:\", project_root)\n",
    "\n",
    "# Set the data directory within the project root\n",
    "data_dir = os.path.join(project_root, \"data\")\n",
    "\n",
    "# Ensure the \"data\" directory exists (create it if it doesn't)\n",
    "if not os.path.exists(data_dir):\n",
    "    os.makedirs(data_dir)\n",
    "\n",
    "# Export the DataFrame to CSV in the \"data\" folder located in the project root\n",
    "csv_path = os.path.join(data_dir, \"charlottesville_crime_incidents.csv\")\n",
    "df.to_csv(csv_path, index=False)\n",
    "print(\"Data saved to:\", csv_path)\n",
    "\n",
    "# Construct the path to your Excel file\n",
    "excel_path = os.path.join(data_dir, \"charlottesville_crime_incidents.xlsx\")\n",
    "\n",
    "# Export the DataFrame to Excel\n",
    "df.to_excel(excel_path, index=False)\n",
    "print(\"Excel saved to:\", excel_path)\n"
   ]
  },
  {
   "cell_type": "markdown",
   "id": "dfb595cf",
   "metadata": {
    "papermill": {
     "duration": 0.032494,
     "end_time": "2025-04-09T01:00:34.547021",
     "exception": false,
     "start_time": "2025-04-09T01:00:34.514527",
     "status": "completed"
    },
    "tags": []
   },
   "source": [
    "## Predictive Analytics"
   ]
  },
  {
   "cell_type": "code",
   "execution_count": 19,
   "id": "2166d9d7",
   "metadata": {
    "execution": {
     "iopub.execute_input": "2025-04-09T01:00:34.564270Z",
     "iopub.status.busy": "2025-04-09T01:00:34.563771Z",
     "iopub.status.idle": "2025-04-09T01:00:34.575519Z",
     "shell.execute_reply": "2025-04-09T01:00:34.574956Z"
    },
    "papermill": {
     "duration": 0.021475,
     "end_time": "2025-04-09T01:00:34.576506",
     "exception": false,
     "start_time": "2025-04-09T01:00:34.555031",
     "status": "completed"
    },
    "tags": []
   },
   "outputs": [
    {
     "data": {
      "text/html": [
       "<div>\n",
       "<style scoped>\n",
       "    .dataframe tbody tr th:only-of-type {\n",
       "        vertical-align: middle;\n",
       "    }\n",
       "\n",
       "    .dataframe tbody tr th {\n",
       "        vertical-align: top;\n",
       "    }\n",
       "\n",
       "    .dataframe thead th {\n",
       "        text-align: right;\n",
       "    }\n",
       "</style>\n",
       "<table border=\"1\" class=\"dataframe\">\n",
       "  <thead>\n",
       "    <tr style=\"text-align: right;\">\n",
       "      <th></th>\n",
       "      <th>RecordID</th>\n",
       "      <th>Offense</th>\n",
       "      <th>IncidentID</th>\n",
       "      <th>Agency</th>\n",
       "      <th>ReportingOfficer</th>\n",
       "      <th>Date</th>\n",
       "      <th>DayOfWeek</th>\n",
       "      <th>Weekend</th>\n",
       "      <th>Season</th>\n",
       "      <th>TimeOfDay</th>\n",
       "      <th>FullStreet</th>\n",
       "      <th>lat</th>\n",
       "      <th>lon</th>\n",
       "      <th>neighborhood</th>\n",
       "      <th>zip</th>\n",
       "    </tr>\n",
       "  </thead>\n",
       "  <tbody>\n",
       "    <tr>\n",
       "      <th>0</th>\n",
       "      <td>1</td>\n",
       "      <td>Suspicious Activity</td>\n",
       "      <td>202500011104</td>\n",
       "      <td>CPD</td>\n",
       "      <td>Rigsby, Lloyd</td>\n",
       "      <td>2025-04-06 22:16:34</td>\n",
       "      <td>Sunday</td>\n",
       "      <td>True</td>\n",
       "      <td>Spring</td>\n",
       "      <td>Night</td>\n",
       "      <td>800 NASSAU ST</td>\n",
       "      <td>38.018465</td>\n",
       "      <td>-78.467579</td>\n",
       "      <td>Belmont</td>\n",
       "      <td>22902</td>\n",
       "    </tr>\n",
       "    <tr>\n",
       "      <th>1</th>\n",
       "      <td>2</td>\n",
       "      <td>Assault Simple</td>\n",
       "      <td>202500011092</td>\n",
       "      <td>CPD</td>\n",
       "      <td>Benbow, Lauren</td>\n",
       "      <td>2025-04-06 20:16:32</td>\n",
       "      <td>Sunday</td>\n",
       "      <td>True</td>\n",
       "      <td>Spring</td>\n",
       "      <td>Evening</td>\n",
       "      <td>400 RIDGE MCINTIRE RD</td>\n",
       "      <td>38.032597</td>\n",
       "      <td>-78.484605</td>\n",
       "      <td>Starr Hill</td>\n",
       "      <td>22908</td>\n",
       "    </tr>\n",
       "    <tr>\n",
       "      <th>2</th>\n",
       "      <td>3</td>\n",
       "      <td>Vandalism</td>\n",
       "      <td>202500011084</td>\n",
       "      <td>CPD</td>\n",
       "      <td>Benbow, Lauren</td>\n",
       "      <td>2025-04-06 17:57:36</td>\n",
       "      <td>Sunday</td>\n",
       "      <td>True</td>\n",
       "      <td>Spring</td>\n",
       "      <td>Evening</td>\n",
       "      <td>400 E HIGH ST</td>\n",
       "      <td>38.032316</td>\n",
       "      <td>-78.478176</td>\n",
       "      <td>North Downtown</td>\n",
       "      <td>22902</td>\n",
       "    </tr>\n",
       "    <tr>\n",
       "      <th>3</th>\n",
       "      <td>4</td>\n",
       "      <td>Assault Intimidation</td>\n",
       "      <td>202500011073</td>\n",
       "      <td>CPD</td>\n",
       "      <td>Bland, Johnnà</td>\n",
       "      <td>2025-04-06 16:25:03</td>\n",
       "      <td>Sunday</td>\n",
       "      <td>True</td>\n",
       "      <td>Spring</td>\n",
       "      <td>Afternoon</td>\n",
       "      <td>1000 RIO RD E</td>\n",
       "      <td>38.062645</td>\n",
       "      <td>-78.463781</td>\n",
       "      <td>N/A</td>\n",
       "      <td>22901</td>\n",
       "    </tr>\n",
       "    <tr>\n",
       "      <th>4</th>\n",
       "      <td>5</td>\n",
       "      <td>Vandalism</td>\n",
       "      <td>202500011072</td>\n",
       "      <td>CPD</td>\n",
       "      <td>Rigsby, Lloyd</td>\n",
       "      <td>2025-04-06 16:14:44</td>\n",
       "      <td>Sunday</td>\n",
       "      <td>True</td>\n",
       "      <td>Spring</td>\n",
       "      <td>Afternoon</td>\n",
       "      <td>100 PIEDMONT AVE S, B</td>\n",
       "      <td>38.025907</td>\n",
       "      <td>-78.518736</td>\n",
       "      <td>Jefferson Park Avenue</td>\n",
       "      <td>22903</td>\n",
       "    </tr>\n",
       "  </tbody>\n",
       "</table>\n",
       "</div>"
      ],
      "text/plain": [
       "   RecordID               Offense    IncidentID Agency ReportingOfficer  \\\n",
       "0         1   Suspicious Activity  202500011104    CPD    Rigsby, Lloyd   \n",
       "1         2        Assault Simple  202500011092    CPD   Benbow, Lauren   \n",
       "2         3             Vandalism  202500011084    CPD   Benbow, Lauren   \n",
       "3         4  Assault Intimidation  202500011073    CPD    Bland, Johnnà   \n",
       "4         5             Vandalism  202500011072    CPD    Rigsby, Lloyd   \n",
       "\n",
       "                 Date DayOfWeek  Weekend  Season  TimeOfDay  \\\n",
       "0 2025-04-06 22:16:34    Sunday     True  Spring      Night   \n",
       "1 2025-04-06 20:16:32    Sunday     True  Spring    Evening   \n",
       "2 2025-04-06 17:57:36    Sunday     True  Spring    Evening   \n",
       "3 2025-04-06 16:25:03    Sunday     True  Spring  Afternoon   \n",
       "4 2025-04-06 16:14:44    Sunday     True  Spring  Afternoon   \n",
       "\n",
       "              FullStreet        lat        lon           neighborhood    zip  \n",
       "0          800 NASSAU ST  38.018465 -78.467579                Belmont  22902  \n",
       "1  400 RIDGE MCINTIRE RD  38.032597 -78.484605             Starr Hill  22908  \n",
       "2          400 E HIGH ST  38.032316 -78.478176         North Downtown  22902  \n",
       "3          1000 RIO RD E  38.062645 -78.463781                    N/A  22901  \n",
       "4  100 PIEDMONT AVE S, B  38.025907 -78.518736  Jefferson Park Avenue  22903  "
      ]
     },
     "execution_count": 19,
     "metadata": {},
     "output_type": "execute_result"
    }
   ],
   "source": [
    "df.head()"
   ]
  },
  {
   "cell_type": "code",
   "execution_count": 20,
   "id": "021ba104",
   "metadata": {
    "execution": {
     "iopub.execute_input": "2025-04-09T01:00:34.593489Z",
     "iopub.status.busy": "2025-04-09T01:00:34.593219Z",
     "iopub.status.idle": "2025-04-09T01:00:34.597435Z",
     "shell.execute_reply": "2025-04-09T01:00:34.596897Z"
    },
    "papermill": {
     "duration": 0.013954,
     "end_time": "2025-04-09T01:00:34.598459",
     "exception": false,
     "start_time": "2025-04-09T01:00:34.584505",
     "status": "completed"
    },
    "tags": []
   },
   "outputs": [
    {
     "data": {
      "text/plain": [
       "Index(['RecordID', 'Offense', 'IncidentID', 'Agency', 'ReportingOfficer',\n",
       "       'Date', 'DayOfWeek', 'Weekend', 'Season', 'TimeOfDay', 'FullStreet',\n",
       "       'lat', 'lon', 'neighborhood', 'zip'],\n",
       "      dtype='object')"
      ]
     },
     "execution_count": 20,
     "metadata": {},
     "output_type": "execute_result"
    }
   ],
   "source": [
    "df.columns"
   ]
  },
  {
   "cell_type": "markdown",
   "id": "a6620e2e",
   "metadata": {
    "papermill": {
     "duration": 0.008176,
     "end_time": "2025-04-09T01:00:34.614925",
     "exception": false,
     "start_time": "2025-04-09T01:00:34.606749",
     "status": "completed"
    },
    "tags": []
   },
   "source": [
    "### Data Preparation\n",
    "\n",
    "We need to ensure the data is in the correct format for modeling and can handle missing values, categorical variables, and dates. Here's how to prepare your data:"
   ]
  },
  {
   "cell_type": "code",
   "execution_count": 21,
   "id": "7b5e3d51",
   "metadata": {
    "execution": {
     "iopub.execute_input": "2025-04-09T01:00:34.632253Z",
     "iopub.status.busy": "2025-04-09T01:00:34.631786Z",
     "iopub.status.idle": "2025-04-09T01:00:36.232403Z",
     "shell.execute_reply": "2025-04-09T01:00:36.231636Z"
    },
    "papermill": {
     "duration": 1.610687,
     "end_time": "2025-04-09T01:00:36.233773",
     "exception": false,
     "start_time": "2025-04-09T01:00:34.623086",
     "status": "completed"
    },
    "tags": []
   },
   "outputs": [],
   "source": [
    "import pandas as pd\n",
    "from sklearn.model_selection import train_test_split\n",
    "from sklearn.preprocessing import OneHotEncoder, LabelEncoder\n",
    "from sklearn.ensemble import RandomForestClassifier\n",
    "from sklearn.linear_model import LogisticRegression\n",
    "from sklearn.tree import DecisionTreeClassifier\n",
    "from sklearn.metrics import classification_report, accuracy_score\n",
    "import seaborn as sns\n",
    "import matplotlib.pyplot as plt\n",
    "\n",
    "# Convert 'Date' to datetime\n",
    "df['Date'] = pd.to_datetime(df['Date'])\n",
    "\n",
    "# Feature engineering: Extract additional time-based features\n",
    "df['Year'] = df['Date'].dt.year\n",
    "df['Month'] = df['Date'].dt.month\n",
    "df['DayOfMonth'] = df['Date'].dt.day\n",
    "\n",
    "# One-hot encoding for 'FullStreet', 'neighborhood', 'zip'\n",
    "df = pd.get_dummies(df, columns=['FullStreet', 'neighborhood', 'zip'], drop_first=True)\n",
    "\n",
    "# Label encoding for ordered variables (those with a natural order like 'DayOfWeek', 'Season', 'TimeOfDay')\n",
    "label_encoders = {}\n",
    "for column in ['DayOfWeek', 'Season', 'TimeOfDay', 'Agency', 'ReportingOfficer']:  # Example ordinal variables\n",
    "    le = LabelEncoder()\n",
    "    df[column] = le.fit_transform(df[column])\n",
    "    label_encoders[column] = le\n",
    "\n",
    "# Filter the dataset to include only the offenses of interest\n",
    "offenses_of_interest = [\n",
    "    'Hit and Run', 'Assault Simple', 'Suspicious Activity', 'Vandalism', \n",
    "    'Larceny - From Mot Vehicle', 'Larceny - All Other', \n",
    "    'Assist Citizen - Mental/TDO/ECO', 'Lost/FoundProperty'\n",
    "]\n",
    "\n",
    "df = df[df['Offense'].isin(offenses_of_interest)]\n",
    "\n",
    "# Label encode the target variable (Offense)\n",
    "offense_encoder = LabelEncoder()\n",
    "df['Offense'] = offense_encoder.fit_transform(df['Offense'])\n",
    "\n",
    "# Separate features (X) and target (y)\n",
    "X = df[['Year', 'Month', 'DayOfMonth', 'DayOfWeek', 'Weekend', 'Season', 'TimeOfDay', 'lat', 'lon', 'Agency', 'ReportingOfficer']]\n",
    "y = df['Offense']  # Offense is now the encoded target variable\n",
    "\n",
    "# Split the data into training and testing sets\n",
    "X_train, X_test, y_train, y_test = train_test_split(X, y, test_size=0.3, random_state=42)\n"
   ]
  },
  {
   "cell_type": "markdown",
   "id": "0b084c3b",
   "metadata": {
    "papermill": {
     "duration": 0.008354,
     "end_time": "2025-04-09T01:00:36.250628",
     "exception": false,
     "start_time": "2025-04-09T01:00:36.242274",
     "status": "completed"
    },
    "tags": []
   },
   "source": [
    "### Model Training\n",
    "\n",
    "Here we will train several models (e.g., Random Forest, Logistic Regression, and Decision Tree). We will use cross-validation to choose the best model based on accuracy, and then explain the impact of the variables."
   ]
  },
  {
   "cell_type": "code",
   "execution_count": 22,
   "id": "6e76299f",
   "metadata": {
    "execution": {
     "iopub.execute_input": "2025-04-09T01:00:36.268293Z",
     "iopub.status.busy": "2025-04-09T01:00:36.267704Z",
     "iopub.status.idle": "2025-04-09T01:00:39.904304Z",
     "shell.execute_reply": "2025-04-09T01:00:39.903730Z"
    },
    "papermill": {
     "duration": 3.646704,
     "end_time": "2025-04-09T01:00:39.905413",
     "exception": false,
     "start_time": "2025-04-09T01:00:36.258709",
     "status": "completed"
    },
    "tags": []
   },
   "outputs": [
    {
     "name": "stderr",
     "output_type": "stream",
     "text": [
      "/opt/hostedtoolcache/Python/3.9.21/x64/lib/python3.9/site-packages/sklearn/linear_model/_logistic.py:465: ConvergenceWarning: lbfgs failed to converge (status=1):\n",
      "STOP: TOTAL NO. of ITERATIONS REACHED LIMIT.\n",
      "\n",
      "Increase the number of iterations (max_iter) or scale the data as shown in:\n",
      "    https://scikit-learn.org/stable/modules/preprocessing.html\n",
      "Please also refer to the documentation for alternative solver options:\n",
      "    https://scikit-learn.org/stable/modules/linear_model.html#logistic-regression\n",
      "  n_iter_i = _check_optimize_result(\n",
      "/opt/hostedtoolcache/Python/3.9.21/x64/lib/python3.9/site-packages/sklearn/metrics/_classification.py:1565: UndefinedMetricWarning: Precision is ill-defined and being set to 0.0 in labels with no predicted samples. Use `zero_division` parameter to control this behavior.\n",
      "  _warn_prf(average, modifier, f\"{metric.capitalize()} is\", len(result))\n",
      "/opt/hostedtoolcache/Python/3.9.21/x64/lib/python3.9/site-packages/sklearn/metrics/_classification.py:1565: UndefinedMetricWarning: Precision is ill-defined and being set to 0.0 in labels with no predicted samples. Use `zero_division` parameter to control this behavior.\n",
      "  _warn_prf(average, modifier, f\"{metric.capitalize()} is\", len(result))\n",
      "/opt/hostedtoolcache/Python/3.9.21/x64/lib/python3.9/site-packages/sklearn/metrics/_classification.py:1565: UndefinedMetricWarning: Precision is ill-defined and being set to 0.0 in labels with no predicted samples. Use `zero_division` parameter to control this behavior.\n",
      "  _warn_prf(average, modifier, f\"{metric.capitalize()} is\", len(result))\n"
     ]
    },
    {
     "name": "stdout",
     "output_type": "stream",
     "text": [
      "\n",
      "Classification Report for All Models:\n",
      "\n",
      "Model: RandomForest\n",
      "Accuracy: 0.2703\n",
      "              precision    recall  f1-score      support\n",
      "0              0.261620  0.337329  0.294690   584.000000\n",
      "1              0.260000  0.226368  0.242021   402.000000\n",
      "2              0.323400  0.427737  0.368322   685.000000\n",
      "3              0.200000  0.188995  0.194342   418.000000\n",
      "4              0.257812  0.194690  0.221849   339.000000\n",
      "5              0.262255  0.204198  0.229614   524.000000\n",
      "6              0.260526  0.199597  0.226027   496.000000\n",
      "accuracy       0.270302  0.270302  0.270302     0.270302\n",
      "macro avg      0.260802  0.254131  0.253838  3448.000000\n",
      "weighted avg   0.265799  0.270302  0.264084  3448.000000\n"
     ]
    },
    {
     "data": {
      "image/png": "[encoded data removed]",
      "text/plain": [
       "<Figure size 800x600 with 2 Axes>"
      ]
     },
     "metadata": {},
     "output_type": "display_data"
    },
    {
     "name": "stdout",
     "output_type": "stream",
     "text": [
      "\n",
      "Model: LogisticRegression\n",
      "Accuracy: 0.2053\n",
      "              precision    recall  f1-score      support\n",
      "0              0.183548  0.511986  0.270221   584.000000\n",
      "1              0.000000  0.000000  0.000000   402.000000\n",
      "2              0.224849  0.597080  0.326677   685.000000\n",
      "3              0.000000  0.000000  0.000000   418.000000\n",
      "4              0.000000  0.000000  0.000000   339.000000\n",
      "5              0.000000  0.000000  0.000000   524.000000\n",
      "6              0.000000  0.000000  0.000000   496.000000\n",
      "accuracy       0.205336  0.205336  0.205336     0.205336\n",
      "macro avg      0.058342  0.158438  0.085271  3448.000000\n",
      "weighted avg   0.075758  0.205336  0.110668  3448.000000\n"
     ]
    },
    {
     "data": {
      "image/png": "[encoded data removed]",
      "text/plain": [
       "<Figure size 800x600 with 2 Axes>"
      ]
     },
     "metadata": {},
     "output_type": "display_data"
    },
    {
     "name": "stdout",
     "output_type": "stream",
     "text": [
      "\n",
      "Model: DecisionTree\n",
      "Accuracy: 0.2143\n",
      "              precision    recall  f1-score      support\n",
      "0              0.241187  0.222603  0.231523   584.000000\n",
      "1              0.201794  0.223881  0.212264   402.000000\n",
      "2              0.315457  0.291971  0.303260   685.000000\n",
      "3              0.146237  0.162679  0.154020   418.000000\n",
      "4              0.196133  0.209440  0.202568   339.000000\n",
      "5              0.191147  0.181298  0.186092   524.000000\n",
      "6              0.168317  0.171371  0.169830   496.000000\n",
      "accuracy       0.214327  0.214327  0.214327     0.214327\n",
      "macro avg      0.208610  0.209035  0.208508  3448.000000\n",
      "weighted avg   0.217322  0.214327  0.215508  3448.000000\n"
     ]
    },
    {
     "data": {
      "image/png": "[encoded data removed]",
      "text/plain": [
       "<Figure size 800x600 with 2 Axes>"
      ]
     },
     "metadata": {},
     "output_type": "display_data"
    },
    {
     "name": "stdout",
     "output_type": "stream",
     "text": [
      "\n",
      "Best Model:\n",
      "Best Model: RandomForestClassifier()\n",
      "Best Model Accuracy: 0.2703\n"
     ]
    }
   ],
   "source": [
    "import pandas as pd\n",
    "from sklearn.model_selection import train_test_split\n",
    "from sklearn.ensemble import RandomForestClassifier\n",
    "from sklearn.linear_model import LogisticRegression\n",
    "from sklearn.tree import DecisionTreeClassifier\n",
    "from sklearn.metrics import classification_report, accuracy_score, confusion_matrix\n",
    "import seaborn as sns\n",
    "import matplotlib.pyplot as plt\n",
    "\n",
    "# Define models\n",
    "models = {\n",
    "    'RandomForest': RandomForestClassifier(),\n",
    "    'LogisticRegression': LogisticRegression(max_iter=1000),\n",
    "    'DecisionTree': DecisionTreeClassifier()\n",
    "}\n",
    "\n",
    "# Train models and evaluate them\n",
    "best_model = None\n",
    "best_score = 0\n",
    "model_reports = {}\n",
    "\n",
    "for model_name, model in models.items():\n",
    "    model.fit(X_train, y_train)  # Train model\n",
    "    y_pred = model.predict(X_test)  # Make predictions\n",
    "    \n",
    "    # Calculate accuracy and generate classification report\n",
    "    accuracy = accuracy_score(y_test, y_pred)\n",
    "    model_reports[model_name] = classification_report(y_test, y_pred, output_dict=True)  # Store as a dictionary for easier analysis\n",
    "    \n",
    "    # Track best performing model\n",
    "    if accuracy > best_score:\n",
    "        best_score = accuracy\n",
    "        best_model = model\n",
    "\n",
    "# Display classification reports and confusion matrices\n",
    "print(\"\\nClassification Report for All Models:\")\n",
    "for model_name, report in model_reports.items():\n",
    "    print(f\"\\nModel: {model_name}\")\n",
    "    print(\"Accuracy: {:.4f}\".format(accuracy_score(y_test, models[model_name].predict(X_test))))  # Display accuracy\n",
    "    print(pd.DataFrame(report).transpose())  # Display classification report as a DataFrame\n",
    "\n",
    "    # Plot Confusion Matrix\n",
    "    cm = confusion_matrix(y_test, models[model_name].predict(X_test))\n",
    "    plt.figure(figsize=(8, 6))\n",
    "    sns.heatmap(cm, annot=True, fmt=\"d\", cmap='Blues', xticklabels=offense_encoder.classes_, yticklabels=offense_encoder.classes_)\n",
    "    plt.title(f\"Confusion Matrix - {model_name}\")\n",
    "    plt.xlabel('Predicted Labels')\n",
    "    plt.ylabel('True Labels')\n",
    "    plt.show()\n",
    "\n",
    "# Display best model details\n",
    "print(\"\\nBest Model:\")\n",
    "print(f\"Best Model: {best_model}\")\n",
    "print(f\"Best Model Accuracy: {best_score:.4f}\")\n"
   ]
  },
  {
   "cell_type": "markdown",
   "id": "28316f5e",
   "metadata": {
    "papermill": {
     "duration": 0.010808,
     "end_time": "2025-04-09T01:00:39.927760",
     "exception": false,
     "start_time": "2025-04-09T01:00:39.916952",
     "status": "completed"
    },
    "tags": []
   },
   "source": [
    "#### Classification Report for All Models:\n",
    "\n",
    "### Explanation of the Classification Results (RandomForest Model)\n",
    "\n",
    "The results you provided are from a **Random Forest** model, which is used for predicting different types of offenses. Let's break down the key components of the results:\n",
    "\n",
    "#### 1. **Accuracy: 0.2822**\n",
    "   - **Accuracy** measures the overall percentage of correct predictions made by the model. An accuracy of 28.22% means the model correctly predicted the offense in about 28% of the cases. This indicates the model's predictions are not highly reliable, as the accuracy is quite low.\n",
    "\n",
    "#### 2. **Classification Report:**\n",
    "   The classification report includes precision, recall, and F1-score for each offense. Let's go over these terms and how they apply to the results:\n",
    "\n",
    "   - **Precision**: The proportion of true positive predictions out of all positive predictions made by the model for a specific class (offense).\n",
    "   - **Recall**: The proportion of true positive predictions out of all actual positive instances in the dataset.\n",
    "   - **F1-Score**: The harmonic mean of precision and recall, providing a balance between the two metrics.\n",
    "   - **Support**: The number of actual occurrences of each class in the test set.\n",
    "\n",
    "   Let's analyze each offense based on these metrics:\n",
    "\n",
    "   | **Offense**                        | **Precision** | **Recall** | **F1-Score** | **Support** |\n",
    "   |------------------------------------|---------------|------------|--------------|-------------|\n",
    "   | **Assault Simple**                 | 0.2892        | 0.3754     | 0.3267       | 594         |\n",
    "   | **Assist Citizen - Mental/TDO/ECO**| 0.3182        | 0.2274     | 0.2652       | 431         |\n",
    "   | **Hit and Run**                    | 0.2963        | 0.4765     | 0.3654       | 638         |\n",
    "   | **Larceny - All Other**            | 0.2270        | 0.1453     | 0.1772       | 475         |\n",
    "   | **Lost/FoundProperty**             | 0.3333        | 0.2102     | 0.2578       | 352         |\n",
    "   | **Suspicious Activity**            | 0.2344        | 0.2169     | 0.2253       | 484         |\n",
    "   | **Vandalism**                      | 0.2712        | 0.2106     | 0.2371       | 470         |\n",
    "\n",
    "#### 3. **Key Insights from the Report:**\n",
    "\n",
    "- **Precision**:\n",
    "   - The highest precision is for **Larceny - All Other** (0.3333), indicating that when the model predicts this offense, it is correct about 33% of the time. However, this is still quite low.\n",
    "   - **Assist Citizen - Mental/TDO/ECO** has the lowest precision (0.2269), meaning that the model's predictions for this offense tend to be wrong more often than correct.\n",
    "\n",
    "- **Recall**:\n",
    "   - **Hit and Run** has the highest recall (0.4765), meaning the model identifies about 48% of the actual occurrences of this offense. This is better than the precision, which indicates it is missing many true positives but is still able to identify a fair number of cases.\n",
    "   - **Larceny - All Other** and **Suspicious Activity** have the lowest recall values (0.1453 and 0.2169, respectively), indicating that the model is failing to identify most of the actual cases for these offenses.\n",
    "\n",
    "- **F1-Score**:\n",
    "   - The **F1-Score** balances precision and recall. It is highest for **Hit and Run** (0.3654), but still relatively low overall. This suggests the model is better at identifying **Hit and Run** than other offenses but still has room for improvement.\n",
    "   - **Larceny - All Other** has the lowest F1-Score (0.1772), indicating a poor balance between precision and recall for this offense.\n",
    "\n",
    "#### 4. **Macro Average and Weighted Average:**\n",
    "   - **Macro Average**: This gives the average precision, recall, and F1-Score across all classes (offenses) without considering the class distribution. It averages the results for all offenses equally.\n",
    "     - Precision: 0.2814\n",
    "     - Recall: 0.2661\n",
    "     - F1-Score: 0.2649\n",
    "   - **Weighted Average**: This averages the metrics but weighs each class by its support (the number of true instances in the test set). This gives a better sense of overall performance, considering the class distribution.\n",
    "     - Precision: 0.2799\n",
    "     - Recall: 0.2822\n",
    "     - F1-Score: 0.2720\n",
    "\n",
    "#### 5. **Confusion Matrix (Visualization Analysis)**:\n",
    "   - The confusion matrix shows the distribution of true positive, false positive, true negative, and false negative predictions for each class.\n",
    "     - For **Hit and Run**, the model performs relatively well in identifying this offense (304 true positives). However, it also misclassifies some **Hit and Run** instances as other offenses (e.g., **Assault Simple**, **Suspicious Activity**, etc.).\n",
    "     - **Larceny - All Other** is frequently misclassified as **Hit and Run**, **Suspicious Activity**, and others. This is evident from the large number of off-diagonal elements in its row.\n",
    "     - **Assist Citizen - Mental/TDO/ECO** and **Suspicious Activity** are frequently misclassified, as seen by the off-diagonal values in their rows.\n",
    "\n",
    "### Conclusion:\n",
    "The Random Forest model has low accuracy (28.22%), suggesting that it struggles to predict most offenses accurately. Some offenses like **Hit and Run** are better predicted than others, but overall, the model shows a high level of misclassification across all offenses. There may be a need for further tuning of the model, additional feature engineering, or trying different models for better performance.\n",
    "\n",
    "Let me know if you'd like to improve the model or make adjustments based on these results!\n",
    "\n"
   ]
  },
  {
   "cell_type": "markdown",
   "id": "062598b7",
   "metadata": {
    "papermill": {
     "duration": 0.010601,
     "end_time": "2025-04-09T01:00:39.949088",
     "exception": false,
     "start_time": "2025-04-09T01:00:39.938487",
     "status": "completed"
    },
    "tags": []
   },
   "source": [
    "### Model Explanation\n",
    "\n",
    "Once we’ve chosen the best model, we will explain its predictions by examining feature importance for tree-based models and using statistical methods like logistic regression coefficients for linear models."
   ]
  },
  {
   "cell_type": "markdown",
   "id": "9ff44cc6",
   "metadata": {
    "papermill": {
     "duration": 0.010679,
     "end_time": "2025-04-09T01:00:39.970467",
     "exception": false,
     "start_time": "2025-04-09T01:00:39.959788",
     "status": "completed"
    },
    "tags": []
   },
   "source": [
    "#### Feature Importance for Random Forest / Decision Tree\n",
    "\n",
    "##### For Tree-based Models (Random Forest, Decision Tree)\n",
    "\n",
    "For Random Forest or Decision Tree, we can look at feature importance to understand which variables contribute the most to the model's predictions. Here's how you can visualize and interpret the importance of each feature:"
   ]
  },
  {
   "cell_type": "code",
   "execution_count": 23,
   "id": "0acf14a3",
   "metadata": {
    "execution": {
     "iopub.execute_input": "2025-04-09T01:00:39.993061Z",
     "iopub.status.busy": "2025-04-09T01:00:39.992807Z",
     "iopub.status.idle": "2025-04-09T01:00:40.157860Z",
     "shell.execute_reply": "2025-04-09T01:00:40.157139Z"
    },
    "papermill": {
     "duration": 0.177696,
     "end_time": "2025-04-09T01:00:40.158864",
     "exception": false,
     "start_time": "2025-04-09T01:00:39.981168",
     "status": "completed"
    },
    "tags": []
   },
   "outputs": [
    {
     "data": {
      "image/png": "[encoded data removed]",
      "text/plain": [
       "<Figure size 1000x600 with 1 Axes>"
      ]
     },
     "metadata": {},
     "output_type": "display_data"
    }
   ],
   "source": [
    "# For RandomForest or DecisionTree models, we can check feature importance\n",
    "if isinstance(best_model, RandomForestClassifier) or isinstance(best_model, DecisionTreeClassifier):\n",
    "    feature_importance = best_model.feature_importances_\n",
    "    feature_names = X.columns\n",
    "    importance_df = pd.DataFrame({'Feature': feature_names, 'Importance': feature_importance})\n",
    "    importance_df = importance_df.sort_values(by='Importance', ascending=False)\n",
    "    \n",
    "    # Plotting the feature importances\n",
    "    plt.figure(figsize=(10, 6))\n",
    "    sns.barplot(x='Importance', y='Feature', data=importance_df)\n",
    "    plt.title(\"Feature Importance\")\n",
    "    plt.show()\n"
   ]
  },
  {
   "cell_type": "code",
   "execution_count": null,
   "id": "fc182cf3",
   "metadata": {
    "papermill": {
     "duration": 0.01122,
     "end_time": "2025-04-09T01:00:40.181954",
     "exception": false,
     "start_time": "2025-04-09T01:00:40.170734",
     "status": "completed"
    },
    "tags": []
   },
   "outputs": [],
   "source": []
  },
  {
   "cell_type": "markdown",
   "id": "fbd9e22d",
   "metadata": {
    "papermill": {
     "duration": 0.011078,
     "end_time": "2025-04-09T01:00:40.204157",
     "exception": false,
     "start_time": "2025-04-09T01:00:40.193079",
     "status": "completed"
    },
    "tags": []
   },
   "source": [
    "### Evaluation\n",
    "\n",
    "After training the models and examining their performance, we evaluate the chosen model based on metrics like accuracy, precision, recall, and F1 score.\n",
    "\n"
   ]
  },
  {
   "cell_type": "code",
   "execution_count": 24,
   "id": "86bfc745",
   "metadata": {
    "execution": {
     "iopub.execute_input": "2025-04-09T01:00:40.227383Z",
     "iopub.status.busy": "2025-04-09T01:00:40.227132Z",
     "iopub.status.idle": "2025-04-09T01:00:40.317059Z",
     "shell.execute_reply": "2025-04-09T01:00:40.316389Z"
    },
    "papermill": {
     "duration": 0.102929,
     "end_time": "2025-04-09T01:00:40.318169",
     "exception": false,
     "start_time": "2025-04-09T01:00:40.215240",
     "status": "completed"
    },
    "tags": []
   },
   "outputs": [
    {
     "name": "stdout",
     "output_type": "stream",
     "text": [
      "Accuracy: 0.2703\n",
      "Classification Report:\n",
      "              precision    recall  f1-score   support\n",
      "\n",
      "           0       0.26      0.34      0.29       584\n",
      "           1       0.26      0.23      0.24       402\n",
      "           2       0.32      0.43      0.37       685\n",
      "           3       0.20      0.19      0.19       418\n",
      "           4       0.26      0.19      0.22       339\n",
      "           5       0.26      0.20      0.23       524\n",
      "           6       0.26      0.20      0.23       496\n",
      "\n",
      "    accuracy                           0.27      3448\n",
      "   macro avg       0.26      0.25      0.25      3448\n",
      "weighted avg       0.27      0.27      0.26      3448\n",
      "\n",
      "Confusion Matrix:\n",
      "[[197  63 132  58  23  63  48]\n",
      " [116  91  78  26  21  41  29]\n",
      " [117  49 293  71  26  74  55]\n",
      " [ 76  31 101  79  35  50  46]\n",
      " [ 70  24  67  44  66  23  45]\n",
      " [110  52 120  49  28 107  58]\n",
      " [ 67  40 115  68  57  50  99]]\n",
      "Precision: 0.2658\n",
      "Recall: 0.2703\n",
      "F1 Score: 0.2641\n"
     ]
    }
   ],
   "source": [
    "from sklearn.metrics import classification_report, confusion_matrix, accuracy_score, precision_score, recall_score, f1_score\n",
    "\n",
    "# Predict on the test set\n",
    "y_pred = best_model.predict(X_test)\n",
    "\n",
    "# Calculate Accuracy\n",
    "accuracy = accuracy_score(y_test, y_pred)\n",
    "print(f\"Accuracy: {accuracy:.4f}\")\n",
    "\n",
    "# Classification Report\n",
    "print(\"Classification Report:\")\n",
    "print(classification_report(y_test, y_pred))\n",
    "\n",
    "# Confusion Matrix\n",
    "conf_matrix = confusion_matrix(y_test, y_pred)\n",
    "print(\"Confusion Matrix:\")\n",
    "print(conf_matrix)\n",
    "\n",
    "# Precision, Recall, F1 Score for each class (Offense Type)\n",
    "precision = precision_score(y_test, y_pred, average='weighted')\n",
    "recall = recall_score(y_test, y_pred, average='weighted')\n",
    "f1 = f1_score(y_test, y_pred, average='weighted')\n",
    "\n",
    "print(f\"Precision: {precision:.4f}\")\n",
    "print(f\"Recall: {recall:.4f}\")\n",
    "print(f\"F1 Score: {f1:.4f}\")\n"
   ]
  },
  {
   "cell_type": "markdown",
   "id": "973b100b",
   "metadata": {
    "papermill": {
     "duration": 0.011128,
     "end_time": "2025-04-09T01:00:40.340968",
     "exception": false,
     "start_time": "2025-04-09T01:00:40.329840",
     "status": "completed"
    },
    "tags": []
   },
   "source": [
    "#### For Logistic Regression (Coefficient Interpretation)\n",
    "\n",
    "For Logistic Regression, the model coefficients can help us understand how each feature affects the likelihood of an offense happening. A positive coefficient indicates a feature increases the likelihood of the offense, and a negative coefficient indicates the opposite."
   ]
  },
  {
   "cell_type": "code",
   "execution_count": 25,
   "id": "4382102d",
   "metadata": {
    "execution": {
     "iopub.execute_input": "2025-04-09T01:00:40.364583Z",
     "iopub.status.busy": "2025-04-09T01:00:40.364050Z",
     "iopub.status.idle": "2025-04-09T01:00:40.368730Z",
     "shell.execute_reply": "2025-04-09T01:00:40.368181Z"
    },
    "papermill": {
     "duration": 0.017571,
     "end_time": "2025-04-09T01:00:40.369684",
     "exception": false,
     "start_time": "2025-04-09T01:00:40.352113",
     "status": "completed"
    },
    "tags": []
   },
   "outputs": [],
   "source": [
    "if isinstance(best_model, LogisticRegression):\n",
    "    # Logistic regression coefficients\n",
    "    coef_df = pd.DataFrame({\n",
    "        'Feature': X.columns,\n",
    "        'Coefficient': best_model.coef_[0]\n",
    "    })\n",
    "    coef_df['AbsCoefficient'] = coef_df['Coefficient'].abs()\n",
    "    coef_df = coef_df.sort_values(by='AbsCoefficient', ascending=False)\n",
    "    \n",
    "    # Plotting the coefficients\n",
    "    plt.figure(figsize=(10, 6))\n",
    "    sns.barplot(x='AbsCoefficient', y='Feature', data=coef_df)\n",
    "    plt.title(\"Logistic Regression Coefficients Impact\")\n",
    "    plt.show()\n",
    "\n",
    "    # Print the top 5 most impactful features (by absolute coefficient value)\n",
    "    print(\"Top 5 most impactful features based on coefficients:\")\n",
    "    print(coef_df.head())\n"
   ]
  },
  {
   "cell_type": "markdown",
   "id": "84c040b3",
   "metadata": {
    "papermill": {
     "duration": 0.011219,
     "end_time": "2025-04-09T01:00:40.392167",
     "exception": false,
     "start_time": "2025-04-09T01:00:40.380948",
     "status": "completed"
    },
    "tags": []
   },
   "source": [
    "Explanation of Output:\n",
    "\n",
    "Feature Importance (Random Forest/Decision Tree): The bar plot will show how important each feature is in the decision-making process. Features at the top of the list are the most influential in predicting the occurrence of offenses.\n",
    "\n",
    "Logistic Regression Coefficients: The bar plot will show the magnitude of the coefficients for each feature. Features with larger absolute values (either positive or negative) have a stronger impact on the model’s predictions. Positive coefficients increase the probability of an offense, while negative coefficients decrease it."
   ]
  },
  {
   "cell_type": "markdown",
   "id": "ce3f01d9",
   "metadata": {
    "papermill": {
     "duration": 0.011188,
     "end_time": "2025-04-09T01:00:40.414766",
     "exception": false,
     "start_time": "2025-04-09T01:00:40.403578",
     "status": "completed"
    },
    "tags": []
   },
   "source": []
  }
 ],
 "metadata": {
  "kernelspec": {
   "display_name": "Python 3",
   "language": "python",
   "name": "python3"
  },
  "language_info": {
   "codemirror_mode": {
    "name": "ipython",
    "version": 3
   },
   "file_extension": ".py",
   "mimetype": "text/x-python",
   "name": "python",
   "nbconvert_exporter": "python",
   "pygments_lexer": "ipython3",
   "version": "3.9.21"
  },
  "papermill": {
   "default_parameters": {},
   "duration": 78.68167,
   "end_time": "2025-04-09T01:00:40.842045",
   "environment_variables": {},
   "exception": null,
   "input_path": "notebook/Crime Data.ipynb",
   "output_path": "notebook/Crime Data_output.ipynb",
   "parameters": {},
   "start_time": "2025-04-09T00:59:22.160375",
   "version": "2.6.0"
  }
 },
 "nbformat": 4,
 "nbformat_minor": 5
}