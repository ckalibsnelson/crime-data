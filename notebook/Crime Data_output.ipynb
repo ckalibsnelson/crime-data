{
 "cells": [
  {
   "cell_type": "markdown",
   "id": "1663f7e5",
   "metadata": {
    "papermill": {
     "duration": 0.00419,
     "end_time": "2025-06-29T01:12:08.425842",
     "exception": false,
     "start_time": "2025-06-29T01:12:08.421652",
     "status": "completed"
    },
    "tags": []
   },
   "source": [
    "# Charlottesville Open Data Porttal: Crime Data"
   ]
  },
  {
   "cell_type": "markdown",
   "id": "341451b3",
   "metadata": {
    "papermill": {
     "duration": 0.003276,
     "end_time": "2025-06-29T01:12:08.432718",
     "exception": false,
     "start_time": "2025-06-29T01:12:08.429442",
     "status": "completed"
    },
    "tags": []
   },
   "source": [
    "## Import Relevant Librarires & Set WD"
   ]
  },
  {
   "cell_type": "code",
   "execution_count": 1,
   "id": "b79b8433",
   "metadata": {
    "execution": {
     "iopub.execute_input": "2025-06-29T01:12:08.440383Z",
     "iopub.status.busy": "2025-06-29T01:12:08.439910Z",
     "iopub.status.idle": "2025-06-29T01:12:08.927152Z",
     "shell.execute_reply": "2025-06-29T01:12:08.926390Z"
    },
    "papermill": {
     "duration": 0.492566,
     "end_time": "2025-06-29T01:12:08.928522",
     "exception": false,
     "start_time": "2025-06-29T01:12:08.435956",
     "status": "completed"
    },
    "tags": []
   },
   "outputs": [],
   "source": [
    "import requests\n",
    "import pandas as pd\n",
    "import numpy as np\n",
    "import pickle\n",
    "import googlemaps\n",
    "import plotly.express as px\n",
    "from geopy.geocoders import Nominatim\n",
    "import time\n",
    "from dotenv import load_dotenv\n",
    "import os\n",
    "\n",
    "env_path = os.path.join(\"..\", \".env\")\n",
    "#print(\"Looking for .env file at:\", os.path.abspath(env_path))\n",
    "load_dotenv(dotenv_path=env_path)\n",
    "\n",
    "# Retrieve the variables\n",
    "GOOGLE_API_KEY = os.getenv(\"GOOGLE_API_KEY\")\n",
    "WORKING_DIR = os.getenv(\"WORKING_DIR\")\n",
    "\n",
    "if GOOGLE_API_KEY is None or WORKING_DIR is None:\n",
    "    raise RuntimeError(\"No configuration found. Please ensure that your .env file exists with the required variables, or create a local config.py file.\")\n",
    "\n",
    "#print(\"Google API Key:\", GOOGLE_API_KEY)\n",
    "#print(\"Working Directory:\", WORKING_DIR)"
   ]
  },
  {
   "cell_type": "markdown",
   "id": "3498435c",
   "metadata": {
    "papermill": {
     "duration": 0.003308,
     "end_time": "2025-06-29T01:12:08.935474",
     "exception": false,
     "start_time": "2025-06-29T01:12:08.932166",
     "status": "completed"
    },
    "tags": []
   },
   "source": [
    "## Import Data\n",
    "\n",
    "URL: https://opendata.charlottesville.org/datasets/charlottesville::crime-data/about"
   ]
  },
  {
   "cell_type": "code",
   "execution_count": 2,
   "id": "b2d04b39",
   "metadata": {
    "execution": {
     "iopub.execute_input": "2025-06-29T01:12:08.943177Z",
     "iopub.status.busy": "2025-06-29T01:12:08.942702Z",
     "iopub.status.idle": "2025-06-29T01:13:21.255123Z",
     "shell.execute_reply": "2025-06-29T01:13:21.254430Z"
    },
    "papermill": {
     "duration": 72.320885,
     "end_time": "2025-06-29T01:13:21.259699",
     "exception": false,
     "start_time": "2025-06-29T01:12:08.938814",
     "status": "completed"
    },
    "tags": []
   },
   "outputs": [
    {
     "name": "stdout",
     "output_type": "stream",
     "text": [
      "Total records imported: 25547\n"
     ]
    }
   ],
   "source": [
    "# Define the endpoint and initial parameters.\n",
    "url = \"https://gisweb.charlottesville.org/arcgis/rest/services/OpenData_2/MapServer/6/query\"\n",
    "params = {\n",
    "    \"where\": \"1=1\",\n",
    "    \"outFields\": \"*\",\n",
    "    \"outSR\": 4326,\n",
    "    \"f\": \"json\",\n",
    "    \"resultOffset\": 0,       # Starting index for results\n",
    "    \"resultRecordCount\": 10000  # Maximum records per batch (if allowed by the API)\n",
    "}\n",
    "\n",
    "records = []\n",
    "\n",
    "while True:\n",
    "    response = requests.get(url, params=params)\n",
    "    response.raise_for_status()\n",
    "    data = response.json()\n",
    "    \n",
    "    # Get the current batch of features.\n",
    "    features = data.get(\"features\", [])\n",
    "    if not features:\n",
    "        break\n",
    "\n",
    "    # Extract the attributes from the features.\n",
    "    batch_records = [feature.get(\"attributes\", {}) for feature in features]\n",
    "    records.extend(batch_records)\n",
    "    \n",
    "    # If the batch size is less than the requested count, we reached the end.\n",
    "    if len(features) < params[\"resultRecordCount\"]:\n",
    "        break\n",
    "\n",
    "    # Update the resultOffset for the next batch.\n",
    "    params[\"resultOffset\"] += params[\"resultRecordCount\"]\n",
    "\n",
    "# Create a DataFrame from the combined records.\n",
    "df = pd.DataFrame(records)\n",
    "print(\"Total records imported:\", len(df))\n"
   ]
  },
  {
   "cell_type": "code",
   "execution_count": 3,
   "id": "8ee384ef",
   "metadata": {
    "execution": {
     "iopub.execute_input": "2025-06-29T01:13:21.267731Z",
     "iopub.status.busy": "2025-06-29T01:13:21.267327Z",
     "iopub.status.idle": "2025-06-29T01:13:21.279278Z",
     "shell.execute_reply": "2025-06-29T01:13:21.278722Z"
    },
    "papermill": {
     "duration": 0.017069,
     "end_time": "2025-06-29T01:13:21.280308",
     "exception": false,
     "start_time": "2025-06-29T01:13:21.263239",
     "status": "completed"
    },
    "tags": []
   },
   "outputs": [
    {
     "data": {
      "text/html": [
       "<div>\n",
       "<style scoped>\n",
       "    .dataframe tbody tr th:only-of-type {\n",
       "        vertical-align: middle;\n",
       "    }\n",
       "\n",
       "    .dataframe tbody tr th {\n",
       "        vertical-align: top;\n",
       "    }\n",
       "\n",
       "    .dataframe thead th {\n",
       "        text-align: right;\n",
       "    }\n",
       "</style>\n",
       "<table border=\"1\" class=\"dataframe\">\n",
       "  <thead>\n",
       "    <tr style=\"text-align: right;\">\n",
       "      <th></th>\n",
       "      <th>RecordID</th>\n",
       "      <th>Offense</th>\n",
       "      <th>IncidentID</th>\n",
       "      <th>BlockNumber</th>\n",
       "      <th>StreetName</th>\n",
       "      <th>Agency</th>\n",
       "      <th>DateReported</th>\n",
       "      <th>HourReported</th>\n",
       "      <th>ReportingOfficer</th>\n",
       "    </tr>\n",
       "  </thead>\n",
       "  <tbody>\n",
       "    <tr>\n",
       "      <th>0</th>\n",
       "      <td>1</td>\n",
       "      <td>Warrant Service</td>\n",
       "      <td>202500022118</td>\n",
       "      <td>600</td>\n",
       "      <td>E MARKET ST</td>\n",
       "      <td>CPD</td>\n",
       "      <td>1750995115000</td>\n",
       "      <td>2331</td>\n",
       "      <td>McLeod, Dustin</td>\n",
       "    </tr>\n",
       "    <tr>\n",
       "      <th>1</th>\n",
       "      <td>2</td>\n",
       "      <td>Disorderly Conduct</td>\n",
       "      <td>202500022094</td>\n",
       "      <td></td>\n",
       "      <td>3RD ST SE / E WATER ST</td>\n",
       "      <td>CPD</td>\n",
       "      <td>1750982919000</td>\n",
       "      <td>2008</td>\n",
       "      <td>Abdelgayed, Adam</td>\n",
       "    </tr>\n",
       "    <tr>\n",
       "      <th>2</th>\n",
       "      <td>3</td>\n",
       "      <td>Misc - Criminal Call</td>\n",
       "      <td>202500022063</td>\n",
       "      <td>800</td>\n",
       "      <td>HARDY DR, D</td>\n",
       "      <td>CPD</td>\n",
       "      <td>1750965358000</td>\n",
       "      <td>1515</td>\n",
       "      <td>Bentz, Benjamin</td>\n",
       "    </tr>\n",
       "    <tr>\n",
       "      <th>3</th>\n",
       "      <td>4</td>\n",
       "      <td>Larceny - All Other</td>\n",
       "      <td>202500022057</td>\n",
       "      <td>700</td>\n",
       "      <td>MONTICELLO AVE</td>\n",
       "      <td>CPD</td>\n",
       "      <td>1750962967000</td>\n",
       "      <td>1436</td>\n",
       "      <td>Jones, Mark</td>\n",
       "    </tr>\n",
       "    <tr>\n",
       "      <th>4</th>\n",
       "      <td>5</td>\n",
       "      <td>Suspicious Activity</td>\n",
       "      <td>202500022045</td>\n",
       "      <td>1900</td>\n",
       "      <td>CHESAPEAKE ST</td>\n",
       "      <td>CPD</td>\n",
       "      <td>1750959817000</td>\n",
       "      <td>1343</td>\n",
       "      <td>Prevost, Payten</td>\n",
       "    </tr>\n",
       "  </tbody>\n",
       "</table>\n",
       "</div>"
      ],
      "text/plain": [
       "   RecordID               Offense    IncidentID BlockNumber  \\\n",
       "0         1       Warrant Service  202500022118         600   \n",
       "1         2    Disorderly Conduct  202500022094               \n",
       "2         3  Misc - Criminal Call  202500022063         800   \n",
       "3         4   Larceny - All Other  202500022057         700   \n",
       "4         5   Suspicious Activity  202500022045        1900   \n",
       "\n",
       "               StreetName Agency   DateReported HourReported  ReportingOfficer  \n",
       "0             E MARKET ST    CPD  1750995115000         2331    McLeod, Dustin  \n",
       "1  3RD ST SE / E WATER ST    CPD  1750982919000         2008  Abdelgayed, Adam  \n",
       "2             HARDY DR, D    CPD  1750965358000         1515  Bentz, Benjamin   \n",
       "3          MONTICELLO AVE    CPD  1750962967000         1436       Jones, Mark  \n",
       "4           CHESAPEAKE ST    CPD  1750959817000         1343   Prevost, Payten  "
      ]
     },
     "execution_count": 3,
     "metadata": {},
     "output_type": "execute_result"
    }
   ],
   "source": [
    "df.head()"
   ]
  },
  {
   "cell_type": "code",
   "execution_count": 4,
   "id": "72663da2",
   "metadata": {
    "execution": {
     "iopub.execute_input": "2025-06-29T01:13:21.288139Z",
     "iopub.status.busy": "2025-06-29T01:13:21.287942Z",
     "iopub.status.idle": "2025-06-29T01:13:21.292294Z",
     "shell.execute_reply": "2025-06-29T01:13:21.291738Z"
    },
    "papermill": {
     "duration": 0.009369,
     "end_time": "2025-06-29T01:13:21.293290",
     "exception": false,
     "start_time": "2025-06-29T01:13:21.283921",
     "status": "completed"
    },
    "tags": []
   },
   "outputs": [
    {
     "data": {
      "text/plain": [
       "Index(['RecordID', 'Offense', 'IncidentID', 'BlockNumber', 'StreetName',\n",
       "       'Agency', 'DateReported', 'HourReported', 'ReportingOfficer'],\n",
       "      dtype='object')"
      ]
     },
     "execution_count": 4,
     "metadata": {},
     "output_type": "execute_result"
    }
   ],
   "source": [
    "df.columns"
   ]
  },
  {
   "cell_type": "code",
   "execution_count": 5,
   "id": "3453cbf0",
   "metadata": {
    "execution": {
     "iopub.execute_input": "2025-06-29T01:13:21.302095Z",
     "iopub.status.busy": "2025-06-29T01:13:21.301750Z",
     "iopub.status.idle": "2025-06-29T01:13:21.319247Z",
     "shell.execute_reply": "2025-06-29T01:13:21.318669Z"
    },
    "papermill": {
     "duration": 0.023297,
     "end_time": "2025-06-29T01:13:21.320271",
     "exception": false,
     "start_time": "2025-06-29T01:13:21.296974",
     "status": "completed"
    },
    "tags": []
   },
   "outputs": [
    {
     "name": "stdout",
     "output_type": "stream",
     "text": [
      "<class 'pandas.core.frame.DataFrame'>\n",
      "RangeIndex: 25547 entries, 0 to 25546\n",
      "Data columns (total 9 columns):\n",
      " #   Column            Non-Null Count  Dtype \n",
      "---  ------            --------------  ----- \n",
      " 0   RecordID          25547 non-null  int64 \n",
      " 1   Offense           25547 non-null  object\n",
      " 2   IncidentID        25547 non-null  object\n",
      " 3   BlockNumber       25547 non-null  object\n",
      " 4   StreetName        25547 non-null  object\n",
      " 5   Agency            25547 non-null  object\n",
      " 6   DateReported      25547 non-null  int64 \n",
      " 7   HourReported      25547 non-null  object\n",
      " 8   ReportingOfficer  25530 non-null  object\n",
      "dtypes: int64(2), object(7)\n",
      "memory usage: 1.8+ MB\n"
     ]
    }
   ],
   "source": [
    "df.info()"
   ]
  },
  {
   "cell_type": "markdown",
   "id": "fd977ce7",
   "metadata": {
    "papermill": {
     "duration": 0.003642,
     "end_time": "2025-06-29T01:13:21.327893",
     "exception": false,
     "start_time": "2025-06-29T01:13:21.324251",
     "status": "completed"
    },
    "tags": []
   },
   "source": [
    "### Missing Values"
   ]
  },
  {
   "cell_type": "code",
   "execution_count": 6,
   "id": "5c80a46b",
   "metadata": {
    "execution": {
     "iopub.execute_input": "2025-06-29T01:13:21.359160Z",
     "iopub.status.busy": "2025-06-29T01:13:21.358719Z",
     "iopub.status.idle": "2025-06-29T01:13:21.381802Z",
     "shell.execute_reply": "2025-06-29T01:13:21.381118Z"
    },
    "papermill": {
     "duration": 0.028731,
     "end_time": "2025-06-29T01:13:21.382803",
     "exception": false,
     "start_time": "2025-06-29T01:13:21.354072",
     "status": "completed"
    },
    "tags": []
   },
   "outputs": [
    {
     "name": "stdout",
     "output_type": "stream",
     "text": [
      "                  MissingCount  MissingPercentage\n",
      "RecordID                     0               0.00\n",
      "Offense                      0               0.00\n",
      "IncidentID                   0               0.00\n",
      "BlockNumber                  0               0.00\n",
      "StreetName                   0               0.00\n",
      "Agency                       0               0.00\n",
      "DateReported                 0               0.00\n",
      "HourReported                 0               0.00\n",
      "ReportingOfficer            17               0.07\n"
     ]
    }
   ],
   "source": [
    "def missing_percentage(df):\n",
    "    \"\"\"\n",
    "    Returns a DataFrame with the count and percentage of missing values for each column.\n",
    "    \n",
    "    Parameters:\n",
    "        df (pd.DataFrame): The input DataFrame.\n",
    "    \n",
    "    Returns:\n",
    "        pd.DataFrame: A DataFrame with columns 'MissingCount' and 'MissingPercentage'.\n",
    "    \"\"\"\n",
    "    total_rows = len(df)\n",
    "    missing_count = df.isnull().sum()\n",
    "    missing_percent = (missing_count / total_rows) * 100\n",
    "    \n",
    "    result = pd.DataFrame({\n",
    "        'MissingCount': missing_count,\n",
    "        'MissingPercentage': missing_percent.round(2)\n",
    "    })\n",
    "    \n",
    "    return result\n",
    "\n",
    "# Example usage:\n",
    "missing_info = missing_percentage(df)\n",
    "print(missing_info)\n"
   ]
  },
  {
   "cell_type": "markdown",
   "id": "39c634dc",
   "metadata": {
    "papermill": {
     "duration": 0.00384,
     "end_time": "2025-06-29T01:13:21.390687",
     "exception": false,
     "start_time": "2025-06-29T01:13:21.386847",
     "status": "completed"
    },
    "tags": []
   },
   "source": [
    "## Data Preparation"
   ]
  },
  {
   "cell_type": "markdown",
   "id": "043bac97",
   "metadata": {
    "papermill": {
     "duration": 0.003707,
     "end_time": "2025-06-29T01:13:21.398274",
     "exception": false,
     "start_time": "2025-06-29T01:13:21.394567",
     "status": "completed"
    },
    "tags": []
   },
   "source": [
    "### Data Conversion"
   ]
  },
  {
   "cell_type": "code",
   "execution_count": 7,
   "id": "3180cc0b",
   "metadata": {
    "execution": {
     "iopub.execute_input": "2025-06-29T01:13:21.406921Z",
     "iopub.status.busy": "2025-06-29T01:13:21.406538Z",
     "iopub.status.idle": "2025-06-29T01:13:21.765276Z",
     "shell.execute_reply": "2025-06-29T01:13:21.764581Z"
    },
    "papermill": {
     "duration": 0.364335,
     "end_time": "2025-06-29T01:13:21.766420",
     "exception": false,
     "start_time": "2025-06-29T01:13:21.402085",
     "status": "completed"
    },
    "tags": []
   },
   "outputs": [
    {
     "data": {
      "text/html": [
       "<div>\n",
       "<style scoped>\n",
       "    .dataframe tbody tr th:only-of-type {\n",
       "        vertical-align: middle;\n",
       "    }\n",
       "\n",
       "    .dataframe tbody tr th {\n",
       "        vertical-align: top;\n",
       "    }\n",
       "\n",
       "    .dataframe thead th {\n",
       "        text-align: right;\n",
       "    }\n",
       "</style>\n",
       "<table border=\"1\" class=\"dataframe\">\n",
       "  <thead>\n",
       "    <tr style=\"text-align: right;\">\n",
       "      <th></th>\n",
       "      <th>RecordID</th>\n",
       "      <th>Offense</th>\n",
       "      <th>IncidentID</th>\n",
       "      <th>BlockNumber</th>\n",
       "      <th>StreetName</th>\n",
       "      <th>Agency</th>\n",
       "      <th>HourReported</th>\n",
       "      <th>ReportingOfficer</th>\n",
       "      <th>Date</th>\n",
       "      <th>DateString</th>\n",
       "      <th>DayOfWeek</th>\n",
       "      <th>Weekend</th>\n",
       "      <th>Season</th>\n",
       "      <th>HourAMPM</th>\n",
       "      <th>TimeOfDay</th>\n",
       "    </tr>\n",
       "  </thead>\n",
       "  <tbody>\n",
       "    <tr>\n",
       "      <th>0</th>\n",
       "      <td>1</td>\n",
       "      <td>Warrant Service</td>\n",
       "      <td>202500022118</td>\n",
       "      <td>600</td>\n",
       "      <td>E MARKET ST</td>\n",
       "      <td>CPD</td>\n",
       "      <td>2331</td>\n",
       "      <td>McLeod, Dustin</td>\n",
       "      <td>2025-06-26 23:31:55</td>\n",
       "      <td>2025-06-26 11:31:55 PM</td>\n",
       "      <td>Thursday</td>\n",
       "      <td>False</td>\n",
       "      <td>Summer</td>\n",
       "      <td>11:31 PM</td>\n",
       "      <td>Night</td>\n",
       "    </tr>\n",
       "    <tr>\n",
       "      <th>1</th>\n",
       "      <td>2</td>\n",
       "      <td>Disorderly Conduct</td>\n",
       "      <td>202500022094</td>\n",
       "      <td></td>\n",
       "      <td>3RD ST SE / E WATER ST</td>\n",
       "      <td>CPD</td>\n",
       "      <td>2008</td>\n",
       "      <td>Abdelgayed, Adam</td>\n",
       "      <td>2025-06-26 20:08:39</td>\n",
       "      <td>2025-06-26 08:08:39 PM</td>\n",
       "      <td>Thursday</td>\n",
       "      <td>False</td>\n",
       "      <td>Summer</td>\n",
       "      <td>08:08 PM</td>\n",
       "      <td>Evening</td>\n",
       "    </tr>\n",
       "    <tr>\n",
       "      <th>2</th>\n",
       "      <td>3</td>\n",
       "      <td>Misc - Criminal Call</td>\n",
       "      <td>202500022063</td>\n",
       "      <td>800</td>\n",
       "      <td>HARDY DR, D</td>\n",
       "      <td>CPD</td>\n",
       "      <td>1515</td>\n",
       "      <td>Bentz, Benjamin</td>\n",
       "      <td>2025-06-26 15:15:58</td>\n",
       "      <td>2025-06-26 03:15:58 PM</td>\n",
       "      <td>Thursday</td>\n",
       "      <td>False</td>\n",
       "      <td>Summer</td>\n",
       "      <td>03:15 PM</td>\n",
       "      <td>Afternoon</td>\n",
       "    </tr>\n",
       "    <tr>\n",
       "      <th>3</th>\n",
       "      <td>4</td>\n",
       "      <td>Larceny - All Other</td>\n",
       "      <td>202500022057</td>\n",
       "      <td>700</td>\n",
       "      <td>MONTICELLO AVE</td>\n",
       "      <td>CPD</td>\n",
       "      <td>1436</td>\n",
       "      <td>Jones, Mark</td>\n",
       "      <td>2025-06-26 14:36:07</td>\n",
       "      <td>2025-06-26 02:36:07 PM</td>\n",
       "      <td>Thursday</td>\n",
       "      <td>False</td>\n",
       "      <td>Summer</td>\n",
       "      <td>02:36 PM</td>\n",
       "      <td>Afternoon</td>\n",
       "    </tr>\n",
       "    <tr>\n",
       "      <th>4</th>\n",
       "      <td>5</td>\n",
       "      <td>Suspicious Activity</td>\n",
       "      <td>202500022045</td>\n",
       "      <td>1900</td>\n",
       "      <td>CHESAPEAKE ST</td>\n",
       "      <td>CPD</td>\n",
       "      <td>1343</td>\n",
       "      <td>Prevost, Payten</td>\n",
       "      <td>2025-06-26 13:43:37</td>\n",
       "      <td>2025-06-26 01:43:37 PM</td>\n",
       "      <td>Thursday</td>\n",
       "      <td>False</td>\n",
       "      <td>Summer</td>\n",
       "      <td>01:43 PM</td>\n",
       "      <td>Afternoon</td>\n",
       "    </tr>\n",
       "  </tbody>\n",
       "</table>\n",
       "</div>"
      ],
      "text/plain": [
       "   RecordID               Offense    IncidentID BlockNumber  \\\n",
       "0         1       Warrant Service  202500022118         600   \n",
       "1         2    Disorderly Conduct  202500022094               \n",
       "2         3  Misc - Criminal Call  202500022063         800   \n",
       "3         4   Larceny - All Other  202500022057         700   \n",
       "4         5   Suspicious Activity  202500022045        1900   \n",
       "\n",
       "               StreetName Agency HourReported  ReportingOfficer  \\\n",
       "0             E MARKET ST    CPD         2331    McLeod, Dustin   \n",
       "1  3RD ST SE / E WATER ST    CPD         2008  Abdelgayed, Adam   \n",
       "2             HARDY DR, D    CPD         1515  Bentz, Benjamin    \n",
       "3          MONTICELLO AVE    CPD         1436       Jones, Mark   \n",
       "4           CHESAPEAKE ST    CPD         1343   Prevost, Payten   \n",
       "\n",
       "                 Date              DateString DayOfWeek  Weekend  Season  \\\n",
       "0 2025-06-26 23:31:55  2025-06-26 11:31:55 PM  Thursday    False  Summer   \n",
       "1 2025-06-26 20:08:39  2025-06-26 08:08:39 PM  Thursday    False  Summer   \n",
       "2 2025-06-26 15:15:58  2025-06-26 03:15:58 PM  Thursday    False  Summer   \n",
       "3 2025-06-26 14:36:07  2025-06-26 02:36:07 PM  Thursday    False  Summer   \n",
       "4 2025-06-26 13:43:37  2025-06-26 01:43:37 PM  Thursday    False  Summer   \n",
       "\n",
       "   HourAMPM  TimeOfDay  \n",
       "0  11:31 PM      Night  \n",
       "1  08:08 PM    Evening  \n",
       "2  03:15 PM  Afternoon  \n",
       "3  02:36 PM  Afternoon  \n",
       "4  01:43 PM  Afternoon  "
      ]
     },
     "execution_count": 7,
     "metadata": {},
     "output_type": "execute_result"
    }
   ],
   "source": [
    "def convert_and_categorize_datereported(df, col='DateReported'):\n",
    "    \"\"\"\n",
    "    Converts an epoch (in milliseconds) date column into a timezone-aware datetime,\n",
    "    converts it to Eastern Time, and then creates columns for day-of-week, weekend flag,\n",
    "    season, 12-hour formatted time, and time-of-day. Keeps both a real datetime column\n",
    "    (Date) and a string representation (DateString).\n",
    "    \"\"\"\n",
    "    import pandas as pd\n",
    "\n",
    "    # Convert the epoch timestamp to a pandas datetime object as UTC, then convert to US/Eastern.\n",
    "    df[\"DateReported_dt\"] = (\n",
    "        pd.to_datetime(df[col], unit=\"ms\", errors=\"coerce\", utc=True)\n",
    "        .dt.tz_convert(\"US/Eastern\")\n",
    "    )\n",
    "    \n",
    "    # Create a true datetime column (remove timezone if you prefer naive datetime)\n",
    "    df[\"Date\"] = df[\"DateReported_dt\"].dt.tz_localize(None)\n",
    "\n",
    "    # Optionally, create a separate string-formatted column\n",
    "    df[\"DateString\"] = df[\"DateReported_dt\"].dt.strftime(\"%Y-%m-%d %I:%M:%S %p\")\n",
    "    \n",
    "    # DayOfWeek\n",
    "    df[\"DayOfWeek\"] = df[\"DateReported_dt\"].dt.day_name()\n",
    "    \n",
    "    # Weekend\n",
    "    df[\"Weekend\"] = df[\"DayOfWeek\"].isin([\"Saturday\", \"Sunday\"])\n",
    "    \n",
    "    # Helper function to determine the season\n",
    "    def get_season(dt):\n",
    "        month = dt.month\n",
    "        day = dt.day\n",
    "        # Approximate Northern Hemisphere season boundaries:\n",
    "        if (month == 12 and day >= 21) or (month < 3) or (month == 3 and day < 20):\n",
    "            return \"Winter\"\n",
    "        elif (month == 3 and day >= 20) or (month < 6) or (month == 6 and day < 21):\n",
    "            return \"Spring\"\n",
    "        elif (month == 6 and day >= 21) or (month < 9) or (month == 9 and day < 22):\n",
    "            return \"Summer\"\n",
    "        else:\n",
    "            return \"Autumn\"\n",
    "    \n",
    "    df[\"Season\"] = df[\"DateReported_dt\"].apply(get_season)\n",
    "    \n",
    "    # 12-hour formatted time (HourAMPM)\n",
    "    df[\"HourAMPM\"] = df[\"DateReported_dt\"].dt.strftime(\"%I:%M %p\")\n",
    "    \n",
    "    # Extract hour (0-23) for time-of-day\n",
    "    df[\"HourValue\"] = df[\"DateReported_dt\"].dt.hour\n",
    "    \n",
    "    def time_of_day(hour):\n",
    "        if pd.isnull(hour):\n",
    "            return None\n",
    "        if 5 <= hour < 12:\n",
    "            return \"Morning\"\n",
    "        elif 12 <= hour < 17:\n",
    "            return \"Afternoon\"\n",
    "        elif 17 <= hour < 21:\n",
    "            return \"Evening\"\n",
    "        else:\n",
    "            return \"Night\"\n",
    "    \n",
    "    df[\"TimeOfDay\"] = df[\"HourValue\"].apply(time_of_day)\n",
    "    \n",
    "    # Drop columns you no longer need\n",
    "    df.drop(columns=[col, \"DateReported_dt\", \"HourValue\"], inplace=True)\n",
    "    \n",
    "    return df\n",
    "\n",
    "# Example usage:\n",
    "df = convert_and_categorize_datereported(df)\n",
    "df.head()\n"
   ]
  },
  {
   "cell_type": "code",
   "execution_count": 8,
   "id": "c52a37f8",
   "metadata": {
    "execution": {
     "iopub.execute_input": "2025-06-29T01:13:21.775973Z",
     "iopub.status.busy": "2025-06-29T01:13:21.775555Z",
     "iopub.status.idle": "2025-06-29T01:13:21.798989Z",
     "shell.execute_reply": "2025-06-29T01:13:21.798347Z"
    },
    "papermill": {
     "duration": 0.029321,
     "end_time": "2025-06-29T01:13:21.800028",
     "exception": false,
     "start_time": "2025-06-29T01:13:21.770707",
     "status": "completed"
    },
    "tags": []
   },
   "outputs": [
    {
     "name": "stdout",
     "output_type": "stream",
     "text": [
      "<class 'pandas.core.frame.DataFrame'>\n",
      "RangeIndex: 25547 entries, 0 to 25546\n",
      "Data columns (total 15 columns):\n",
      " #   Column            Non-Null Count  Dtype         \n",
      "---  ------            --------------  -----         \n",
      " 0   RecordID          25547 non-null  int64         \n",
      " 1   Offense           25547 non-null  object        \n",
      " 2   IncidentID        25547 non-null  object        \n",
      " 3   BlockNumber       25547 non-null  object        \n",
      " 4   StreetName        25547 non-null  object        \n",
      " 5   Agency            25547 non-null  object        \n",
      " 6   HourReported      25547 non-null  object        \n",
      " 7   ReportingOfficer  25530 non-null  object        \n",
      " 8   Date              25547 non-null  datetime64[ns]\n",
      " 9   DateString        25547 non-null  object        \n",
      " 10  DayOfWeek         25547 non-null  object        \n",
      " 11  Weekend           25547 non-null  bool          \n",
      " 12  Season            25547 non-null  object        \n",
      " 13  HourAMPM          25547 non-null  object        \n",
      " 14  TimeOfDay         25547 non-null  object        \n",
      "dtypes: bool(1), datetime64[ns](1), int64(1), object(12)\n",
      "memory usage: 2.8+ MB\n"
     ]
    }
   ],
   "source": [
    "df.info()"
   ]
  },
  {
   "cell_type": "markdown",
   "id": "b3f14552",
   "metadata": {
    "papermill": {
     "duration": 0.00427,
     "end_time": "2025-06-29T01:13:21.808575",
     "exception": false,
     "start_time": "2025-06-29T01:13:21.804305",
     "status": "completed"
    },
    "tags": []
   },
   "source": [
    "### Coordinates"
   ]
  },
  {
   "cell_type": "code",
   "execution_count": 9,
   "id": "b2e1de63",
   "metadata": {
    "execution": {
     "iopub.execute_input": "2025-06-29T01:13:21.817842Z",
     "iopub.status.busy": "2025-06-29T01:13:21.817481Z",
     "iopub.status.idle": "2025-06-29T01:13:22.058721Z",
     "shell.execute_reply": "2025-06-29T01:13:22.058005Z"
    },
    "papermill": {
     "duration": 0.247049,
     "end_time": "2025-06-29T01:13:22.059786",
     "exception": false,
     "start_time": "2025-06-29T01:13:21.812737",
     "status": "completed"
    },
    "tags": []
   },
   "outputs": [
    {
     "name": "stdout",
     "output_type": "stream",
     "text": [
      "Loaded geocode cache.\n",
      "Error geocoding 1000 RIDGE ST, 10: REQUEST_DENIED (You must enable Billing on the Google Cloud Project at https://console.cloud.google.com/project/_/billing/enable Learn more at https://developers.google.com/maps/gmp-get-started)\n",
      "Geocoded 1000 RIDGE ST, 10: None, None\n"
     ]
    },
    {
     "name": "stdout",
     "output_type": "stream",
     "text": [
      "Error geocoding 400 VALLEY RD EXT, B: REQUEST_DENIED (You must enable Billing on the Google Cloud Project at https://console.cloud.google.com/project/_/billing/enable Learn more at https://developers.google.com/maps/gmp-get-started)\n",
      "Geocoded 400 VALLEY RD EXT, B: None, None\n",
      "Geocode cache updated and saved.\n"
     ]
    },
    {
     "data": {
      "text/html": [
       "<div>\n",
       "<style scoped>\n",
       "    .dataframe tbody tr th:only-of-type {\n",
       "        vertical-align: middle;\n",
       "    }\n",
       "\n",
       "    .dataframe tbody tr th {\n",
       "        vertical-align: top;\n",
       "    }\n",
       "\n",
       "    .dataframe thead th {\n",
       "        text-align: right;\n",
       "    }\n",
       "</style>\n",
       "<table border=\"1\" class=\"dataframe\">\n",
       "  <thead>\n",
       "    <tr style=\"text-align: right;\">\n",
       "      <th></th>\n",
       "      <th>RecordID</th>\n",
       "      <th>Offense</th>\n",
       "      <th>IncidentID</th>\n",
       "      <th>BlockNumber</th>\n",
       "      <th>StreetName</th>\n",
       "      <th>Agency</th>\n",
       "      <th>HourReported</th>\n",
       "      <th>ReportingOfficer</th>\n",
       "      <th>Date</th>\n",
       "      <th>DateString</th>\n",
       "      <th>DayOfWeek</th>\n",
       "      <th>Weekend</th>\n",
       "      <th>Season</th>\n",
       "      <th>HourAMPM</th>\n",
       "      <th>TimeOfDay</th>\n",
       "      <th>FullStreet</th>\n",
       "      <th>lat</th>\n",
       "      <th>lon</th>\n",
       "    </tr>\n",
       "  </thead>\n",
       "  <tbody>\n",
       "    <tr>\n",
       "      <th>0</th>\n",
       "      <td>1</td>\n",
       "      <td>Warrant Service</td>\n",
       "      <td>202500022118</td>\n",
       "      <td>600</td>\n",
       "      <td>E MARKET ST</td>\n",
       "      <td>CPD</td>\n",
       "      <td>2331</td>\n",
       "      <td>McLeod, Dustin</td>\n",
       "      <td>2025-06-26 23:31:55</td>\n",
       "      <td>2025-06-26 11:31:55 PM</td>\n",
       "      <td>Thursday</td>\n",
       "      <td>False</td>\n",
       "      <td>Summer</td>\n",
       "      <td>11:31 PM</td>\n",
       "      <td>Night</td>\n",
       "      <td>600 E MARKET ST</td>\n",
       "      <td>38.030175</td>\n",
       "      <td>-78.477574</td>\n",
       "    </tr>\n",
       "    <tr>\n",
       "      <th>1</th>\n",
       "      <td>2</td>\n",
       "      <td>Disorderly Conduct</td>\n",
       "      <td>202500022094</td>\n",
       "      <td></td>\n",
       "      <td>3RD ST SE / E WATER ST</td>\n",
       "      <td>CPD</td>\n",
       "      <td>2008</td>\n",
       "      <td>Abdelgayed, Adam</td>\n",
       "      <td>2025-06-26 20:08:39</td>\n",
       "      <td>2025-06-26 08:08:39 PM</td>\n",
       "      <td>Thursday</td>\n",
       "      <td>False</td>\n",
       "      <td>Summer</td>\n",
       "      <td>08:08 PM</td>\n",
       "      <td>Evening</td>\n",
       "      <td>3RD ST SE / E WATER ST</td>\n",
       "      <td>38.028520</td>\n",
       "      <td>-78.474958</td>\n",
       "    </tr>\n",
       "    <tr>\n",
       "      <th>2</th>\n",
       "      <td>3</td>\n",
       "      <td>Misc - Criminal Call</td>\n",
       "      <td>202500022063</td>\n",
       "      <td>800</td>\n",
       "      <td>HARDY DR, D</td>\n",
       "      <td>CPD</td>\n",
       "      <td>1515</td>\n",
       "      <td>Bentz, Benjamin</td>\n",
       "      <td>2025-06-26 15:15:58</td>\n",
       "      <td>2025-06-26 03:15:58 PM</td>\n",
       "      <td>Thursday</td>\n",
       "      <td>False</td>\n",
       "      <td>Summer</td>\n",
       "      <td>03:15 PM</td>\n",
       "      <td>Afternoon</td>\n",
       "      <td>800 HARDY DR, D</td>\n",
       "      <td>38.033239</td>\n",
       "      <td>-78.490398</td>\n",
       "    </tr>\n",
       "    <tr>\n",
       "      <th>3</th>\n",
       "      <td>4</td>\n",
       "      <td>Larceny - All Other</td>\n",
       "      <td>202500022057</td>\n",
       "      <td>700</td>\n",
       "      <td>MONTICELLO AVE</td>\n",
       "      <td>CPD</td>\n",
       "      <td>1436</td>\n",
       "      <td>Jones, Mark</td>\n",
       "      <td>2025-06-26 14:36:07</td>\n",
       "      <td>2025-06-26 02:36:07 PM</td>\n",
       "      <td>Thursday</td>\n",
       "      <td>False</td>\n",
       "      <td>Summer</td>\n",
       "      <td>02:36 PM</td>\n",
       "      <td>Afternoon</td>\n",
       "      <td>700 MONTICELLO AVE</td>\n",
       "      <td>38.024120</td>\n",
       "      <td>-78.479081</td>\n",
       "    </tr>\n",
       "    <tr>\n",
       "      <th>4</th>\n",
       "      <td>5</td>\n",
       "      <td>Suspicious Activity</td>\n",
       "      <td>202500022045</td>\n",
       "      <td>1900</td>\n",
       "      <td>CHESAPEAKE ST</td>\n",
       "      <td>CPD</td>\n",
       "      <td>1343</td>\n",
       "      <td>Prevost, Payten</td>\n",
       "      <td>2025-06-26 13:43:37</td>\n",
       "      <td>2025-06-26 01:43:37 PM</td>\n",
       "      <td>Thursday</td>\n",
       "      <td>False</td>\n",
       "      <td>Summer</td>\n",
       "      <td>01:43 PM</td>\n",
       "      <td>Afternoon</td>\n",
       "      <td>1900 CHESAPEAKE ST</td>\n",
       "      <td>38.022855</td>\n",
       "      <td>-78.455941</td>\n",
       "    </tr>\n",
       "  </tbody>\n",
       "</table>\n",
       "</div>"
      ],
      "text/plain": [
       "   RecordID               Offense    IncidentID BlockNumber  \\\n",
       "0         1       Warrant Service  202500022118         600   \n",
       "1         2    Disorderly Conduct  202500022094               \n",
       "2         3  Misc - Criminal Call  202500022063         800   \n",
       "3         4   Larceny - All Other  202500022057         700   \n",
       "4         5   Suspicious Activity  202500022045        1900   \n",
       "\n",
       "               StreetName Agency HourReported  ReportingOfficer  \\\n",
       "0             E MARKET ST    CPD         2331    McLeod, Dustin   \n",
       "1  3RD ST SE / E WATER ST    CPD         2008  Abdelgayed, Adam   \n",
       "2             HARDY DR, D    CPD         1515  Bentz, Benjamin    \n",
       "3          MONTICELLO AVE    CPD         1436       Jones, Mark   \n",
       "4           CHESAPEAKE ST    CPD         1343   Prevost, Payten   \n",
       "\n",
       "                 Date              DateString DayOfWeek  Weekend  Season  \\\n",
       "0 2025-06-26 23:31:55  2025-06-26 11:31:55 PM  Thursday    False  Summer   \n",
       "1 2025-06-26 20:08:39  2025-06-26 08:08:39 PM  Thursday    False  Summer   \n",
       "2 2025-06-26 15:15:58  2025-06-26 03:15:58 PM  Thursday    False  Summer   \n",
       "3 2025-06-26 14:36:07  2025-06-26 02:36:07 PM  Thursday    False  Summer   \n",
       "4 2025-06-26 13:43:37  2025-06-26 01:43:37 PM  Thursday    False  Summer   \n",
       "\n",
       "   HourAMPM  TimeOfDay               FullStreet        lat        lon  \n",
       "0  11:31 PM      Night          600 E MARKET ST  38.030175 -78.477574  \n",
       "1  08:08 PM    Evening   3RD ST SE / E WATER ST  38.028520 -78.474958  \n",
       "2  03:15 PM  Afternoon          800 HARDY DR, D  38.033239 -78.490398  \n",
       "3  02:36 PM  Afternoon       700 MONTICELLO AVE  38.024120 -78.479081  \n",
       "4  01:43 PM  Afternoon       1900 CHESAPEAKE ST  38.022855 -78.455941  "
      ]
     },
     "execution_count": 9,
     "metadata": {},
     "output_type": "execute_result"
    }
   ],
   "source": [
    "# Combine BlockNumber and StreetName into a full address string\n",
    "df['FullStreet'] = df['BlockNumber'].astype(str) + \" \" + df['StreetName']\n",
    "\n",
    "# --- Step 1: Setup the Google Maps Client and Cache ---\n",
    "gmaps = googlemaps.Client(key=GOOGLE_API_KEY)\n",
    "\n",
    "# Try to load cached geocoding results if available.\n",
    "try:\n",
    "    with open(\"geocode_cache_google.pkl\", \"rb\") as f:\n",
    "        street_coords = pickle.load(f)\n",
    "    print(\"Loaded geocode cache.\")\n",
    "except FileNotFoundError:\n",
    "    street_coords = {}\n",
    "    print(\"No cache found; starting fresh.\")\n",
    "\n",
    "def geocode_address(address):\n",
    "    try:\n",
    "        # Append city and state to help geocoding\n",
    "        result = gmaps.geocode(f\"{address}, Charlottesville, VA\")\n",
    "        if result:\n",
    "            lat = result[0]['geometry']['location']['lat']\n",
    "            lon = result[0]['geometry']['location']['lng']\n",
    "            return lat, lon\n",
    "    except Exception as e:\n",
    "        print(f\"Error geocoding {address}: {e}\")\n",
    "    return None, None\n",
    "\n",
    "# --- Step 2: Geocode Only New Addresses ---\n",
    "unique_addresses = df['FullStreet'].unique()\n",
    "for address in unique_addresses:\n",
    "    if address not in street_coords:\n",
    "        lat, lon = geocode_address(address)\n",
    "        street_coords[address] = (lat, lon)\n",
    "        print(f\"Geocoded {address}: {lat}, {lon}\")\n",
    "\n",
    "# Save the updated cache to disk.\n",
    "with open(\"geocode_cache_google.pkl\", \"wb\") as f:\n",
    "    pickle.dump(street_coords, f)\n",
    "    print(\"Geocode cache updated and saved.\")\n",
    "\n",
    "# --- Step 3: Map Coordinates Back to DataFrame ---\n",
    "df['lat'] = df['FullStreet'].map(lambda s: street_coords.get(s, (None, None))[0])\n",
    "df['lon'] = df['FullStreet'].map(lambda s: street_coords.get(s, (None, None))[1])\n",
    "\n",
    "df.head()"
   ]
  },
  {
   "cell_type": "markdown",
   "id": "f471a1e6",
   "metadata": {
    "papermill": {
     "duration": 0.004401,
     "end_time": "2025-06-29T01:13:22.068932",
     "exception": false,
     "start_time": "2025-06-29T01:13:22.064531",
     "status": "completed"
    },
    "tags": []
   },
   "source": [
    "### Neighborhood"
   ]
  },
  {
   "cell_type": "code",
   "execution_count": 10,
   "id": "559610c7",
   "metadata": {
    "execution": {
     "iopub.execute_input": "2025-06-29T01:13:22.078951Z",
     "iopub.status.busy": "2025-06-29T01:13:22.078430Z",
     "iopub.status.idle": "2025-06-29T01:13:23.785254Z",
     "shell.execute_reply": "2025-06-29T01:13:23.784557Z"
    },
    "papermill": {
     "duration": 1.713087,
     "end_time": "2025-06-29T01:13:23.786398",
     "exception": false,
     "start_time": "2025-06-29T01:13:22.073311",
     "status": "completed"
    },
    "tags": []
   },
   "outputs": [
    {
     "name": "stdout",
     "output_type": "stream",
     "text": [
      "Loaded neighborhood cache.\n",
      "Error getting neighborhood for nan, nan: HTTP Error: 400\n"
     ]
    },
    {
     "name": "stdout",
     "output_type": "stream",
     "text": [
      "Error getting neighborhood for nan, nan: HTTP Error: 400\n"
     ]
    },
    {
     "name": "stdout",
     "output_type": "stream",
     "text": [
      "Error getting neighborhood for nan, nan: HTTP Error: 400\n",
      "Error getting neighborhood for nan, nan: HTTP Error: 400\n",
      "Error getting neighborhood for nan, nan: HTTP Error: 400\n",
      "Error getting neighborhood for nan, nan: HTTP Error: 400\n"
     ]
    },
    {
     "name": "stdout",
     "output_type": "stream",
     "text": [
      "Error getting neighborhood for nan, nan: HTTP Error: 400\n"
     ]
    },
    {
     "name": "stdout",
     "output_type": "stream",
     "text": [
      "Error getting neighborhood for nan, nan: HTTP Error: 400\n",
      "Error getting neighborhood for nan, nan: HTTP Error: 400\n",
      "Error getting neighborhood for nan, nan: HTTP Error: 400\n",
      "Error getting neighborhood for nan, nan: HTTP Error: 400\n"
     ]
    },
    {
     "name": "stdout",
     "output_type": "stream",
     "text": [
      "Error getting neighborhood for nan, nan: HTTP Error: 400\n"
     ]
    },
    {
     "name": "stdout",
     "output_type": "stream",
     "text": [
      "Error getting neighborhood for nan, nan: HTTP Error: 400\n",
      "Error getting neighborhood for nan, nan: HTTP Error: 400\n",
      "Error getting neighborhood for nan, nan: HTTP Error: 400\n",
      "Error getting neighborhood for nan, nan: HTTP Error: 400\n",
      "Error getting neighborhood for nan, nan: HTTP Error: 400\n"
     ]
    },
    {
     "name": "stdout",
     "output_type": "stream",
     "text": [
      "Error getting neighborhood for nan, nan: HTTP Error: 400\n"
     ]
    },
    {
     "name": "stdout",
     "output_type": "stream",
     "text": [
      "Error getting neighborhood for nan, nan: HTTP Error: 400\n",
      "Error getting neighborhood for nan, nan: HTTP Error: 400\n",
      "Error getting neighborhood for nan, nan: HTTP Error: 400\n",
      "Error getting neighborhood for nan, nan: HTTP Error: 400\n",
      "Error getting neighborhood for nan, nan: HTTP Error: 400\n"
     ]
    },
    {
     "name": "stdout",
     "output_type": "stream",
     "text": [
      "Error getting neighborhood for nan, nan: HTTP Error: 400\n"
     ]
    },
    {
     "name": "stdout",
     "output_type": "stream",
     "text": [
      "Error getting neighborhood for nan, nan: HTTP Error: 400\n",
      "Error getting neighborhood for nan, nan: HTTP Error: 400\n",
      "Error getting neighborhood for nan, nan: HTTP Error: 400\n",
      "Error getting neighborhood for nan, nan: HTTP Error: 400\n",
      "Error getting neighborhood for nan, nan: HTTP Error: 400\n"
     ]
    },
    {
     "name": "stdout",
     "output_type": "stream",
     "text": [
      "Error getting neighborhood for nan, nan: HTTP Error: 400\n"
     ]
    },
    {
     "name": "stdout",
     "output_type": "stream",
     "text": [
      "Error getting neighborhood for nan, nan: HTTP Error: 400\n",
      "Error getting neighborhood for nan, nan: HTTP Error: 400\n",
      "Error getting neighborhood for nan, nan: HTTP Error: 400\n",
      "Error getting neighborhood for nan, nan: HTTP Error: 400\n",
      "Error getting neighborhood for nan, nan: HTTP Error: 400\n"
     ]
    },
    {
     "data": {
      "text/html": [
       "<div>\n",
       "<style scoped>\n",
       "    .dataframe tbody tr th:only-of-type {\n",
       "        vertical-align: middle;\n",
       "    }\n",
       "\n",
       "    .dataframe tbody tr th {\n",
       "        vertical-align: top;\n",
       "    }\n",
       "\n",
       "    .dataframe thead th {\n",
       "        text-align: right;\n",
       "    }\n",
       "</style>\n",
       "<table border=\"1\" class=\"dataframe\">\n",
       "  <thead>\n",
       "    <tr style=\"text-align: right;\">\n",
       "      <th></th>\n",
       "      <th>RecordID</th>\n",
       "      <th>Offense</th>\n",
       "      <th>IncidentID</th>\n",
       "      <th>BlockNumber</th>\n",
       "      <th>StreetName</th>\n",
       "      <th>Agency</th>\n",
       "      <th>HourReported</th>\n",
       "      <th>ReportingOfficer</th>\n",
       "      <th>Date</th>\n",
       "      <th>DateString</th>\n",
       "      <th>DayOfWeek</th>\n",
       "      <th>Weekend</th>\n",
       "      <th>Season</th>\n",
       "      <th>HourAMPM</th>\n",
       "      <th>TimeOfDay</th>\n",
       "      <th>FullStreet</th>\n",
       "      <th>lat</th>\n",
       "      <th>lon</th>\n",
       "      <th>neighborhood</th>\n",
       "    </tr>\n",
       "  </thead>\n",
       "  <tbody>\n",
       "    <tr>\n",
       "      <th>0</th>\n",
       "      <td>1</td>\n",
       "      <td>Warrant Service</td>\n",
       "      <td>202500022118</td>\n",
       "      <td>600</td>\n",
       "      <td>E MARKET ST</td>\n",
       "      <td>CPD</td>\n",
       "      <td>2331</td>\n",
       "      <td>McLeod, Dustin</td>\n",
       "      <td>2025-06-26 23:31:55</td>\n",
       "      <td>2025-06-26 11:31:55 PM</td>\n",
       "      <td>Thursday</td>\n",
       "      <td>False</td>\n",
       "      <td>Summer</td>\n",
       "      <td>11:31 PM</td>\n",
       "      <td>Night</td>\n",
       "      <td>600 E MARKET ST</td>\n",
       "      <td>38.030175</td>\n",
       "      <td>-78.477574</td>\n",
       "      <td>Downtown Mall</td>\n",
       "    </tr>\n",
       "    <tr>\n",
       "      <th>1</th>\n",
       "      <td>2</td>\n",
       "      <td>Disorderly Conduct</td>\n",
       "      <td>202500022094</td>\n",
       "      <td></td>\n",
       "      <td>3RD ST SE / E WATER ST</td>\n",
       "      <td>CPD</td>\n",
       "      <td>2008</td>\n",
       "      <td>Abdelgayed, Adam</td>\n",
       "      <td>2025-06-26 20:08:39</td>\n",
       "      <td>2025-06-26 08:08:39 PM</td>\n",
       "      <td>Thursday</td>\n",
       "      <td>False</td>\n",
       "      <td>Summer</td>\n",
       "      <td>08:08 PM</td>\n",
       "      <td>Evening</td>\n",
       "      <td>3RD ST SE / E WATER ST</td>\n",
       "      <td>38.028520</td>\n",
       "      <td>-78.474958</td>\n",
       "      <td>Martha Jefferson</td>\n",
       "    </tr>\n",
       "    <tr>\n",
       "      <th>2</th>\n",
       "      <td>3</td>\n",
       "      <td>Misc - Criminal Call</td>\n",
       "      <td>202500022063</td>\n",
       "      <td>800</td>\n",
       "      <td>HARDY DR, D</td>\n",
       "      <td>CPD</td>\n",
       "      <td>1515</td>\n",
       "      <td>Bentz, Benjamin</td>\n",
       "      <td>2025-06-26 15:15:58</td>\n",
       "      <td>2025-06-26 03:15:58 PM</td>\n",
       "      <td>Thursday</td>\n",
       "      <td>False</td>\n",
       "      <td>Summer</td>\n",
       "      <td>03:15 PM</td>\n",
       "      <td>Afternoon</td>\n",
       "      <td>800 HARDY DR, D</td>\n",
       "      <td>38.033239</td>\n",
       "      <td>-78.490398</td>\n",
       "      <td>10th &amp; Page</td>\n",
       "    </tr>\n",
       "    <tr>\n",
       "      <th>3</th>\n",
       "      <td>4</td>\n",
       "      <td>Larceny - All Other</td>\n",
       "      <td>202500022057</td>\n",
       "      <td>700</td>\n",
       "      <td>MONTICELLO AVE</td>\n",
       "      <td>CPD</td>\n",
       "      <td>1436</td>\n",
       "      <td>Jones, Mark</td>\n",
       "      <td>2025-06-26 14:36:07</td>\n",
       "      <td>2025-06-26 02:36:07 PM</td>\n",
       "      <td>Thursday</td>\n",
       "      <td>False</td>\n",
       "      <td>Summer</td>\n",
       "      <td>02:36 PM</td>\n",
       "      <td>Afternoon</td>\n",
       "      <td>700 MONTICELLO AVE</td>\n",
       "      <td>38.024120</td>\n",
       "      <td>-78.479081</td>\n",
       "      <td>Belmont</td>\n",
       "    </tr>\n",
       "    <tr>\n",
       "      <th>4</th>\n",
       "      <td>5</td>\n",
       "      <td>Suspicious Activity</td>\n",
       "      <td>202500022045</td>\n",
       "      <td>1900</td>\n",
       "      <td>CHESAPEAKE ST</td>\n",
       "      <td>CPD</td>\n",
       "      <td>1343</td>\n",
       "      <td>Prevost, Payten</td>\n",
       "      <td>2025-06-26 13:43:37</td>\n",
       "      <td>2025-06-26 01:43:37 PM</td>\n",
       "      <td>Thursday</td>\n",
       "      <td>False</td>\n",
       "      <td>Summer</td>\n",
       "      <td>01:43 PM</td>\n",
       "      <td>Afternoon</td>\n",
       "      <td>1900 CHESAPEAKE ST</td>\n",
       "      <td>38.022855</td>\n",
       "      <td>-78.455941</td>\n",
       "      <td>Woolen Mills</td>\n",
       "    </tr>\n",
       "  </tbody>\n",
       "</table>\n",
       "</div>"
      ],
      "text/plain": [
       "   RecordID               Offense    IncidentID BlockNumber  \\\n",
       "0         1       Warrant Service  202500022118         600   \n",
       "1         2    Disorderly Conduct  202500022094               \n",
       "2         3  Misc - Criminal Call  202500022063         800   \n",
       "3         4   Larceny - All Other  202500022057         700   \n",
       "4         5   Suspicious Activity  202500022045        1900   \n",
       "\n",
       "               StreetName Agency HourReported  ReportingOfficer  \\\n",
       "0             E MARKET ST    CPD         2331    McLeod, Dustin   \n",
       "1  3RD ST SE / E WATER ST    CPD         2008  Abdelgayed, Adam   \n",
       "2             HARDY DR, D    CPD         1515  Bentz, Benjamin    \n",
       "3          MONTICELLO AVE    CPD         1436       Jones, Mark   \n",
       "4           CHESAPEAKE ST    CPD         1343   Prevost, Payten   \n",
       "\n",
       "                 Date              DateString DayOfWeek  Weekend  Season  \\\n",
       "0 2025-06-26 23:31:55  2025-06-26 11:31:55 PM  Thursday    False  Summer   \n",
       "1 2025-06-26 20:08:39  2025-06-26 08:08:39 PM  Thursday    False  Summer   \n",
       "2 2025-06-26 15:15:58  2025-06-26 03:15:58 PM  Thursday    False  Summer   \n",
       "3 2025-06-26 14:36:07  2025-06-26 02:36:07 PM  Thursday    False  Summer   \n",
       "4 2025-06-26 13:43:37  2025-06-26 01:43:37 PM  Thursday    False  Summer   \n",
       "\n",
       "   HourAMPM  TimeOfDay               FullStreet        lat        lon  \\\n",
       "0  11:31 PM      Night          600 E MARKET ST  38.030175 -78.477574   \n",
       "1  08:08 PM    Evening   3RD ST SE / E WATER ST  38.028520 -78.474958   \n",
       "2  03:15 PM  Afternoon          800 HARDY DR, D  38.033239 -78.490398   \n",
       "3  02:36 PM  Afternoon       700 MONTICELLO AVE  38.024120 -78.479081   \n",
       "4  01:43 PM  Afternoon       1900 CHESAPEAKE ST  38.022855 -78.455941   \n",
       "\n",
       "       neighborhood  \n",
       "0     Downtown Mall  \n",
       "1  Martha Jefferson  \n",
       "2       10th & Page  \n",
       "3           Belmont  \n",
       "4      Woolen Mills  "
      ]
     },
     "execution_count": 10,
     "metadata": {},
     "output_type": "execute_result"
    }
   ],
   "source": [
    "# Initialize the Google Maps client.\n",
    "gmaps = googlemaps.Client(key=GOOGLE_API_KEY)\n",
    "\n",
    "# Try to load a persistent neighborhood cache if available.\n",
    "try:\n",
    "    with open(\"neighborhood_cache.pkl\", \"rb\") as f:\n",
    "        neighborhood_cache = pickle.load(f)\n",
    "    print(\"Loaded neighborhood cache.\")\n",
    "except FileNotFoundError:\n",
    "    neighborhood_cache = {}\n",
    "    print(\"No neighborhood cache found; starting fresh.\")\n",
    "\n",
    "def get_neighborhood(lat, lon):\n",
    "    \"\"\"\n",
    "    Reverse geocodes a latitude and longitude to retrieve the neighborhood.\n",
    "    Caches results to speed up subsequent lookups.\n",
    "    \"\"\"\n",
    "    key = (lat, lon)\n",
    "    if key in neighborhood_cache:\n",
    "        return neighborhood_cache[key]\n",
    "    \n",
    "    try:\n",
    "        result = gmaps.reverse_geocode((lat, lon))\n",
    "        if result:\n",
    "            # Look for the 'neighborhood' component in the first result.\n",
    "            for component in result[0]['address_components']:\n",
    "                if 'neighborhood' in component['types']:\n",
    "                    neighborhood = component['long_name']\n",
    "                    neighborhood_cache[key] = neighborhood\n",
    "                    return neighborhood\n",
    "            # If no neighborhood is found, return \"N/A\"\n",
    "            neighborhood_cache[key] = \"N/A\"\n",
    "            return \"N/A\"\n",
    "    except Exception as e:\n",
    "        print(f\"Error getting neighborhood for {lat}, {lon}: {e}\")\n",
    "        return \"N/A\"\n",
    "    \n",
    "    # Pause to respect usage limits.\n",
    "    time.sleep(1)\n",
    "\n",
    "# Example usage: Apply to your DataFrame 'df' that already has 'lat' and 'lon' columns.\n",
    "df['neighborhood'] = df.apply(lambda row: get_neighborhood(row['lat'], row['lon']), axis=1)\n",
    "\n",
    "# Save the updated neighborhood cache.\n",
    "with open(\"neighborhood_cache.pkl\", \"wb\") as f:\n",
    "    pickle.dump(neighborhood_cache, f)\n",
    "\n",
    "df.head()\n"
   ]
  },
  {
   "cell_type": "markdown",
   "id": "66c6f591",
   "metadata": {
    "papermill": {
     "duration": 0.005221,
     "end_time": "2025-06-29T01:13:23.797125",
     "exception": false,
     "start_time": "2025-06-29T01:13:23.791904",
     "status": "completed"
    },
    "tags": []
   },
   "source": [
    "### Zip"
   ]
  },
  {
   "cell_type": "code",
   "execution_count": 11,
   "id": "bbb475d8",
   "metadata": {
    "execution": {
     "iopub.execute_input": "2025-06-29T01:13:23.808693Z",
     "iopub.status.busy": "2025-06-29T01:13:23.808229Z",
     "iopub.status.idle": "2025-06-29T01:13:59.098374Z",
     "shell.execute_reply": "2025-06-29T01:13:59.097651Z"
    },
    "papermill": {
     "duration": 35.297136,
     "end_time": "2025-06-29T01:13:59.099556",
     "exception": false,
     "start_time": "2025-06-29T01:13:23.802420",
     "status": "completed"
    },
    "tags": []
   },
   "outputs": [
    {
     "name": "stdout",
     "output_type": "stream",
     "text": [
      "Loaded zip cache.\n",
      "Error getting ZIP for nan, nan: Must be a coordinate pair or Point\n"
     ]
    },
    {
     "name": "stdout",
     "output_type": "stream",
     "text": [
      "Error getting ZIP for nan, nan: Must be a coordinate pair or Point\n"
     ]
    },
    {
     "name": "stdout",
     "output_type": "stream",
     "text": [
      "Error getting ZIP for nan, nan: Must be a coordinate pair or Point\n"
     ]
    },
    {
     "name": "stdout",
     "output_type": "stream",
     "text": [
      "Error getting ZIP for nan, nan: Must be a coordinate pair or Point\n"
     ]
    },
    {
     "name": "stdout",
     "output_type": "stream",
     "text": [
      "Error getting ZIP for nan, nan: Must be a coordinate pair or Point\n"
     ]
    },
    {
     "name": "stdout",
     "output_type": "stream",
     "text": [
      "Error getting ZIP for nan, nan: Must be a coordinate pair or Point\n"
     ]
    },
    {
     "name": "stdout",
     "output_type": "stream",
     "text": [
      "Error getting ZIP for nan, nan: Must be a coordinate pair or Point\n"
     ]
    },
    {
     "name": "stdout",
     "output_type": "stream",
     "text": [
      "Error getting ZIP for nan, nan: Must be a coordinate pair or Point\n"
     ]
    },
    {
     "name": "stdout",
     "output_type": "stream",
     "text": [
      "Error getting ZIP for nan, nan: Must be a coordinate pair or Point\n"
     ]
    },
    {
     "name": "stdout",
     "output_type": "stream",
     "text": [
      "Error getting ZIP for nan, nan: Must be a coordinate pair or Point\n"
     ]
    },
    {
     "name": "stdout",
     "output_type": "stream",
     "text": [
      "Error getting ZIP for nan, nan: Must be a coordinate pair or Point\n"
     ]
    },
    {
     "name": "stdout",
     "output_type": "stream",
     "text": [
      "Error getting ZIP for nan, nan: Must be a coordinate pair or Point\n"
     ]
    },
    {
     "name": "stdout",
     "output_type": "stream",
     "text": [
      "Error getting ZIP for nan, nan: Must be a coordinate pair or Point\n"
     ]
    },
    {
     "name": "stdout",
     "output_type": "stream",
     "text": [
      "Error getting ZIP for nan, nan: Must be a coordinate pair or Point\n"
     ]
    },
    {
     "name": "stdout",
     "output_type": "stream",
     "text": [
      "Error getting ZIP for nan, nan: Must be a coordinate pair or Point\n"
     ]
    },
    {
     "name": "stdout",
     "output_type": "stream",
     "text": [
      "Error getting ZIP for nan, nan: Must be a coordinate pair or Point\n"
     ]
    },
    {
     "name": "stdout",
     "output_type": "stream",
     "text": [
      "Error getting ZIP for nan, nan: Must be a coordinate pair or Point\n"
     ]
    },
    {
     "name": "stdout",
     "output_type": "stream",
     "text": [
      "Error getting ZIP for nan, nan: Must be a coordinate pair or Point\n"
     ]
    },
    {
     "name": "stdout",
     "output_type": "stream",
     "text": [
      "Error getting ZIP for nan, nan: Must be a coordinate pair or Point\n"
     ]
    },
    {
     "name": "stdout",
     "output_type": "stream",
     "text": [
      "Error getting ZIP for nan, nan: Must be a coordinate pair or Point\n"
     ]
    },
    {
     "name": "stdout",
     "output_type": "stream",
     "text": [
      "Error getting ZIP for nan, nan: Must be a coordinate pair or Point\n"
     ]
    },
    {
     "name": "stdout",
     "output_type": "stream",
     "text": [
      "Error getting ZIP for nan, nan: Must be a coordinate pair or Point\n"
     ]
    },
    {
     "name": "stdout",
     "output_type": "stream",
     "text": [
      "Error getting ZIP for nan, nan: Must be a coordinate pair or Point\n"
     ]
    },
    {
     "name": "stdout",
     "output_type": "stream",
     "text": [
      "Error getting ZIP for nan, nan: Must be a coordinate pair or Point\n"
     ]
    },
    {
     "name": "stdout",
     "output_type": "stream",
     "text": [
      "Error getting ZIP for nan, nan: Must be a coordinate pair or Point\n"
     ]
    },
    {
     "name": "stdout",
     "output_type": "stream",
     "text": [
      "Error getting ZIP for nan, nan: Must be a coordinate pair or Point\n"
     ]
    },
    {
     "name": "stdout",
     "output_type": "stream",
     "text": [
      "Error getting ZIP for nan, nan: Must be a coordinate pair or Point\n"
     ]
    },
    {
     "name": "stdout",
     "output_type": "stream",
     "text": [
      "Error getting ZIP for nan, nan: Must be a coordinate pair or Point\n"
     ]
    },
    {
     "name": "stdout",
     "output_type": "stream",
     "text": [
      "Error getting ZIP for nan, nan: Must be a coordinate pair or Point\n"
     ]
    },
    {
     "name": "stdout",
     "output_type": "stream",
     "text": [
      "Error getting ZIP for nan, nan: Must be a coordinate pair or Point\n"
     ]
    },
    {
     "name": "stdout",
     "output_type": "stream",
     "text": [
      "Error getting ZIP for nan, nan: Must be a coordinate pair or Point\n"
     ]
    },
    {
     "name": "stdout",
     "output_type": "stream",
     "text": [
      "Error getting ZIP for nan, nan: Must be a coordinate pair or Point\n"
     ]
    },
    {
     "name": "stdout",
     "output_type": "stream",
     "text": [
      "Error getting ZIP for nan, nan: Must be a coordinate pair or Point\n"
     ]
    },
    {
     "name": "stdout",
     "output_type": "stream",
     "text": [
      "Error getting ZIP for nan, nan: Must be a coordinate pair or Point\n"
     ]
    },
    {
     "name": "stdout",
     "output_type": "stream",
     "text": [
      "Error getting ZIP for nan, nan: Must be a coordinate pair or Point\n"
     ]
    },
    {
     "data": {
      "text/html": [
       "<div>\n",
       "<style scoped>\n",
       "    .dataframe tbody tr th:only-of-type {\n",
       "        vertical-align: middle;\n",
       "    }\n",
       "\n",
       "    .dataframe tbody tr th {\n",
       "        vertical-align: top;\n",
       "    }\n",
       "\n",
       "    .dataframe thead th {\n",
       "        text-align: right;\n",
       "    }\n",
       "</style>\n",
       "<table border=\"1\" class=\"dataframe\">\n",
       "  <thead>\n",
       "    <tr style=\"text-align: right;\">\n",
       "      <th></th>\n",
       "      <th>RecordID</th>\n",
       "      <th>Offense</th>\n",
       "      <th>IncidentID</th>\n",
       "      <th>BlockNumber</th>\n",
       "      <th>StreetName</th>\n",
       "      <th>Agency</th>\n",
       "      <th>HourReported</th>\n",
       "      <th>ReportingOfficer</th>\n",
       "      <th>Date</th>\n",
       "      <th>DateString</th>\n",
       "      <th>DayOfWeek</th>\n",
       "      <th>Weekend</th>\n",
       "      <th>Season</th>\n",
       "      <th>HourAMPM</th>\n",
       "      <th>TimeOfDay</th>\n",
       "      <th>FullStreet</th>\n",
       "      <th>lat</th>\n",
       "      <th>lon</th>\n",
       "      <th>neighborhood</th>\n",
       "      <th>zip</th>\n",
       "    </tr>\n",
       "  </thead>\n",
       "  <tbody>\n",
       "    <tr>\n",
       "      <th>0</th>\n",
       "      <td>1</td>\n",
       "      <td>Warrant Service</td>\n",
       "      <td>202500022118</td>\n",
       "      <td>600</td>\n",
       "      <td>E MARKET ST</td>\n",
       "      <td>CPD</td>\n",
       "      <td>2331</td>\n",
       "      <td>McLeod, Dustin</td>\n",
       "      <td>2025-06-26 23:31:55</td>\n",
       "      <td>2025-06-26 11:31:55 PM</td>\n",
       "      <td>Thursday</td>\n",
       "      <td>False</td>\n",
       "      <td>Summer</td>\n",
       "      <td>11:31 PM</td>\n",
       "      <td>Night</td>\n",
       "      <td>600 E MARKET ST</td>\n",
       "      <td>38.030175</td>\n",
       "      <td>-78.477574</td>\n",
       "      <td>Downtown Mall</td>\n",
       "      <td>22902</td>\n",
       "    </tr>\n",
       "    <tr>\n",
       "      <th>1</th>\n",
       "      <td>2</td>\n",
       "      <td>Disorderly Conduct</td>\n",
       "      <td>202500022094</td>\n",
       "      <td></td>\n",
       "      <td>3RD ST SE / E WATER ST</td>\n",
       "      <td>CPD</td>\n",
       "      <td>2008</td>\n",
       "      <td>Abdelgayed, Adam</td>\n",
       "      <td>2025-06-26 20:08:39</td>\n",
       "      <td>2025-06-26 08:08:39 PM</td>\n",
       "      <td>Thursday</td>\n",
       "      <td>False</td>\n",
       "      <td>Summer</td>\n",
       "      <td>08:08 PM</td>\n",
       "      <td>Evening</td>\n",
       "      <td>3RD ST SE / E WATER ST</td>\n",
       "      <td>38.028520</td>\n",
       "      <td>-78.474958</td>\n",
       "      <td>Martha Jefferson</td>\n",
       "      <td>22902</td>\n",
       "    </tr>\n",
       "    <tr>\n",
       "      <th>2</th>\n",
       "      <td>3</td>\n",
       "      <td>Misc - Criminal Call</td>\n",
       "      <td>202500022063</td>\n",
       "      <td>800</td>\n",
       "      <td>HARDY DR, D</td>\n",
       "      <td>CPD</td>\n",
       "      <td>1515</td>\n",
       "      <td>Bentz, Benjamin</td>\n",
       "      <td>2025-06-26 15:15:58</td>\n",
       "      <td>2025-06-26 03:15:58 PM</td>\n",
       "      <td>Thursday</td>\n",
       "      <td>False</td>\n",
       "      <td>Summer</td>\n",
       "      <td>03:15 PM</td>\n",
       "      <td>Afternoon</td>\n",
       "      <td>800 HARDY DR, D</td>\n",
       "      <td>38.033239</td>\n",
       "      <td>-78.490398</td>\n",
       "      <td>10th &amp; Page</td>\n",
       "      <td>22903</td>\n",
       "    </tr>\n",
       "    <tr>\n",
       "      <th>3</th>\n",
       "      <td>4</td>\n",
       "      <td>Larceny - All Other</td>\n",
       "      <td>202500022057</td>\n",
       "      <td>700</td>\n",
       "      <td>MONTICELLO AVE</td>\n",
       "      <td>CPD</td>\n",
       "      <td>1436</td>\n",
       "      <td>Jones, Mark</td>\n",
       "      <td>2025-06-26 14:36:07</td>\n",
       "      <td>2025-06-26 02:36:07 PM</td>\n",
       "      <td>Thursday</td>\n",
       "      <td>False</td>\n",
       "      <td>Summer</td>\n",
       "      <td>02:36 PM</td>\n",
       "      <td>Afternoon</td>\n",
       "      <td>700 MONTICELLO AVE</td>\n",
       "      <td>38.024120</td>\n",
       "      <td>-78.479081</td>\n",
       "      <td>Belmont</td>\n",
       "      <td>22903</td>\n",
       "    </tr>\n",
       "    <tr>\n",
       "      <th>4</th>\n",
       "      <td>5</td>\n",
       "      <td>Suspicious Activity</td>\n",
       "      <td>202500022045</td>\n",
       "      <td>1900</td>\n",
       "      <td>CHESAPEAKE ST</td>\n",
       "      <td>CPD</td>\n",
       "      <td>1343</td>\n",
       "      <td>Prevost, Payten</td>\n",
       "      <td>2025-06-26 13:43:37</td>\n",
       "      <td>2025-06-26 01:43:37 PM</td>\n",
       "      <td>Thursday</td>\n",
       "      <td>False</td>\n",
       "      <td>Summer</td>\n",
       "      <td>01:43 PM</td>\n",
       "      <td>Afternoon</td>\n",
       "      <td>1900 CHESAPEAKE ST</td>\n",
       "      <td>38.022855</td>\n",
       "      <td>-78.455941</td>\n",
       "      <td>Woolen Mills</td>\n",
       "      <td>22902</td>\n",
       "    </tr>\n",
       "  </tbody>\n",
       "</table>\n",
       "</div>"
      ],
      "text/plain": [
       "   RecordID               Offense    IncidentID BlockNumber  \\\n",
       "0         1       Warrant Service  202500022118         600   \n",
       "1         2    Disorderly Conduct  202500022094               \n",
       "2         3  Misc - Criminal Call  202500022063         800   \n",
       "3         4   Larceny - All Other  202500022057         700   \n",
       "4         5   Suspicious Activity  202500022045        1900   \n",
       "\n",
       "               StreetName Agency HourReported  ReportingOfficer  \\\n",
       "0             E MARKET ST    CPD         2331    McLeod, Dustin   \n",
       "1  3RD ST SE / E WATER ST    CPD         2008  Abdelgayed, Adam   \n",
       "2             HARDY DR, D    CPD         1515  Bentz, Benjamin    \n",
       "3          MONTICELLO AVE    CPD         1436       Jones, Mark   \n",
       "4           CHESAPEAKE ST    CPD         1343   Prevost, Payten   \n",
       "\n",
       "                 Date              DateString DayOfWeek  Weekend  Season  \\\n",
       "0 2025-06-26 23:31:55  2025-06-26 11:31:55 PM  Thursday    False  Summer   \n",
       "1 2025-06-26 20:08:39  2025-06-26 08:08:39 PM  Thursday    False  Summer   \n",
       "2 2025-06-26 15:15:58  2025-06-26 03:15:58 PM  Thursday    False  Summer   \n",
       "3 2025-06-26 14:36:07  2025-06-26 02:36:07 PM  Thursday    False  Summer   \n",
       "4 2025-06-26 13:43:37  2025-06-26 01:43:37 PM  Thursday    False  Summer   \n",
       "\n",
       "   HourAMPM  TimeOfDay               FullStreet        lat        lon  \\\n",
       "0  11:31 PM      Night          600 E MARKET ST  38.030175 -78.477574   \n",
       "1  08:08 PM    Evening   3RD ST SE / E WATER ST  38.028520 -78.474958   \n",
       "2  03:15 PM  Afternoon          800 HARDY DR, D  38.033239 -78.490398   \n",
       "3  02:36 PM  Afternoon       700 MONTICELLO AVE  38.024120 -78.479081   \n",
       "4  01:43 PM  Afternoon       1900 CHESAPEAKE ST  38.022855 -78.455941   \n",
       "\n",
       "       neighborhood    zip  \n",
       "0     Downtown Mall  22902  \n",
       "1  Martha Jefferson  22902  \n",
       "2       10th & Page  22903  \n",
       "3           Belmont  22903  \n",
       "4      Woolen Mills  22902  "
      ]
     },
     "execution_count": 11,
     "metadata": {},
     "output_type": "execute_result"
    }
   ],
   "source": [
    "# Initialize the geocoder.\n",
    "geolocator = Nominatim(user_agent=\"zip_lookup\")\n",
    "\n",
    "# Try to load a persistent ZIP cache if available.\n",
    "try:\n",
    "    with open(\"zip_cache.pkl\", \"rb\") as f:\n",
    "        zip_cache = pickle.load(f)\n",
    "    print(\"Loaded zip cache.\")\n",
    "except FileNotFoundError:\n",
    "    zip_cache = {}\n",
    "    print(\"No zip cache found; starting fresh.\")\n",
    "\n",
    "def get_zip(lat, lon):\n",
    "    \"\"\"\n",
    "    Reverse geocodes a latitude and longitude to retrieve the ZIP code.\n",
    "    Caches results to speed up subsequent lookups.\n",
    "    \"\"\"\n",
    "    key = (lat, lon)\n",
    "    if key in zip_cache:\n",
    "        return zip_cache[key]\n",
    "    \n",
    "    try:\n",
    "        location = geolocator.reverse((lat, lon), exactly_one=True, timeout=10)\n",
    "        address = location.raw.get('address', {})\n",
    "        postal_code = address.get('postcode', \"N/A\")\n",
    "    except Exception as e:\n",
    "        print(f\"Error getting ZIP for {lat}, {lon}: {e}\")\n",
    "        postal_code = \"N/A\"\n",
    "    \n",
    "    zip_cache[key] = postal_code\n",
    "    # Pause to respect the usage policy.\n",
    "    time.sleep(1)\n",
    "    return postal_code\n",
    "\n",
    "# Apply the function to each row in the DataFrame.\n",
    "df['zip'] = df.apply(lambda row: get_zip(row['lat'], row['lon']), axis=1)\n",
    "\n",
    "# Save the updated ZIP cache.\n",
    "with open(\"zip_cache.pkl\", \"wb\") as f:\n",
    "    pickle.dump(zip_cache, f)\n",
    "\n",
    "df.head()\n"
   ]
  },
  {
   "cell_type": "code",
   "execution_count": 12,
   "id": "1064befd",
   "metadata": {
    "execution": {
     "iopub.execute_input": "2025-06-29T01:13:59.114978Z",
     "iopub.status.busy": "2025-06-29T01:13:59.114499Z",
     "iopub.status.idle": "2025-06-29T01:13:59.142886Z",
     "shell.execute_reply": "2025-06-29T01:13:59.142235Z"
    },
    "papermill": {
     "duration": 0.036927,
     "end_time": "2025-06-29T01:13:59.143873",
     "exception": false,
     "start_time": "2025-06-29T01:13:59.106946",
     "status": "completed"
    },
    "tags": []
   },
   "outputs": [
    {
     "name": "stdout",
     "output_type": "stream",
     "text": [
      "                  MissingCount  MissingPercentage\n",
      "RecordID                     0               0.00\n",
      "Offense                      0               0.00\n",
      "IncidentID                   0               0.00\n",
      "BlockNumber                  0               0.00\n",
      "StreetName                   0               0.00\n",
      "Agency                       0               0.00\n",
      "HourReported                 0               0.00\n",
      "ReportingOfficer            17               0.07\n",
      "Date                         0               0.00\n",
      "DateString                   0               0.00\n",
      "DayOfWeek                    0               0.00\n",
      "Weekend                      0               0.00\n",
      "Season                       0               0.00\n",
      "HourAMPM                     0               0.00\n",
      "TimeOfDay                    0               0.00\n",
      "FullStreet                   0               0.00\n",
      "lat                         35               0.14\n",
      "lon                         35               0.14\n",
      "neighborhood                 0               0.00\n",
      "zip                          0               0.00\n"
     ]
    }
   ],
   "source": [
    "missing_info = missing_percentage(df)\n",
    "print(missing_info)\n"
   ]
  },
  {
   "cell_type": "code",
   "execution_count": 13,
   "id": "22281c0d",
   "metadata": {
    "execution": {
     "iopub.execute_input": "2025-06-29T01:13:59.158981Z",
     "iopub.status.busy": "2025-06-29T01:13:59.158482Z",
     "iopub.status.idle": "2025-06-29T01:13:59.184487Z",
     "shell.execute_reply": "2025-06-29T01:13:59.183811Z"
    },
    "papermill": {
     "duration": 0.034656,
     "end_time": "2025-06-29T01:13:59.185616",
     "exception": false,
     "start_time": "2025-06-29T01:13:59.150960",
     "status": "completed"
    },
    "tags": []
   },
   "outputs": [
    {
     "name": "stdout",
     "output_type": "stream",
     "text": [
      "<class 'pandas.core.frame.DataFrame'>\n",
      "RangeIndex: 25547 entries, 0 to 25546\n",
      "Data columns (total 20 columns):\n",
      " #   Column            Non-Null Count  Dtype         \n",
      "---  ------            --------------  -----         \n",
      " 0   RecordID          25547 non-null  int64         \n",
      " 1   Offense           25547 non-null  object        \n",
      " 2   IncidentID        25547 non-null  object        \n",
      " 3   BlockNumber       25547 non-null  object        \n",
      " 4   StreetName        25547 non-null  object        \n",
      " 5   Agency            25547 non-null  object        \n",
      " 6   HourReported      25547 non-null  object        \n",
      " 7   ReportingOfficer  25530 non-null  object        \n",
      " 8   Date              25547 non-null  datetime64[ns]\n",
      " 9   DateString        25547 non-null  object        \n",
      " 10  DayOfWeek         25547 non-null  object        \n",
      " 11  Weekend           25547 non-null  bool          \n",
      " 12  Season            25547 non-null  object        \n",
      " 13  HourAMPM          25547 non-null  object        \n",
      " 14  TimeOfDay         25547 non-null  object        \n",
      " 15  FullStreet        25547 non-null  object        \n",
      " 16  lat               25512 non-null  float64       \n",
      " 17  lon               25512 non-null  float64       \n",
      " 18  neighborhood      25547 non-null  object        \n",
      " 19  zip               25547 non-null  object        \n",
      "dtypes: bool(1), datetime64[ns](1), float64(2), int64(1), object(15)\n",
      "memory usage: 3.7+ MB\n"
     ]
    }
   ],
   "source": [
    "df.info()"
   ]
  },
  {
   "cell_type": "code",
   "execution_count": 14,
   "id": "0be722a6",
   "metadata": {
    "execution": {
     "iopub.execute_input": "2025-06-29T01:13:59.200622Z",
     "iopub.status.busy": "2025-06-29T01:13:59.200380Z",
     "iopub.status.idle": "2025-06-29T01:13:59.240805Z",
     "shell.execute_reply": "2025-06-29T01:13:59.240210Z"
    },
    "papermill": {
     "duration": 0.049141,
     "end_time": "2025-06-29T01:13:59.241914",
     "exception": false,
     "start_time": "2025-06-29T01:13:59.192773",
     "status": "completed"
    },
    "tags": []
   },
   "outputs": [
    {
     "data": {
      "text/html": [
       "<div>\n",
       "<style scoped>\n",
       "    .dataframe tbody tr th:only-of-type {\n",
       "        vertical-align: middle;\n",
       "    }\n",
       "\n",
       "    .dataframe tbody tr th {\n",
       "        vertical-align: top;\n",
       "    }\n",
       "\n",
       "    .dataframe thead th {\n",
       "        text-align: right;\n",
       "    }\n",
       "</style>\n",
       "<table border=\"1\" class=\"dataframe\">\n",
       "  <thead>\n",
       "    <tr style=\"text-align: right;\">\n",
       "      <th></th>\n",
       "      <th>RecordID</th>\n",
       "      <th>Offense</th>\n",
       "      <th>IncidentID</th>\n",
       "      <th>Agency</th>\n",
       "      <th>ReportingOfficer</th>\n",
       "      <th>Date</th>\n",
       "      <th>DayOfWeek</th>\n",
       "      <th>Weekend</th>\n",
       "      <th>Season</th>\n",
       "      <th>TimeOfDay</th>\n",
       "      <th>FullStreet</th>\n",
       "      <th>lat</th>\n",
       "      <th>lon</th>\n",
       "      <th>neighborhood</th>\n",
       "      <th>zip</th>\n",
       "    </tr>\n",
       "  </thead>\n",
       "  <tbody>\n",
       "    <tr>\n",
       "      <th>0</th>\n",
       "      <td>1</td>\n",
       "      <td>Warrant Service</td>\n",
       "      <td>202500022118</td>\n",
       "      <td>CPD</td>\n",
       "      <td>McLeod, Dustin</td>\n",
       "      <td>2025-06-26 23:31:55</td>\n",
       "      <td>Thursday</td>\n",
       "      <td>False</td>\n",
       "      <td>Summer</td>\n",
       "      <td>Night</td>\n",
       "      <td>600 E MARKET ST</td>\n",
       "      <td>38.030175</td>\n",
       "      <td>-78.477574</td>\n",
       "      <td>Downtown Mall</td>\n",
       "      <td>22902</td>\n",
       "    </tr>\n",
       "    <tr>\n",
       "      <th>1</th>\n",
       "      <td>2</td>\n",
       "      <td>Disorderly Conduct</td>\n",
       "      <td>202500022094</td>\n",
       "      <td>CPD</td>\n",
       "      <td>Abdelgayed, Adam</td>\n",
       "      <td>2025-06-26 20:08:39</td>\n",
       "      <td>Thursday</td>\n",
       "      <td>False</td>\n",
       "      <td>Summer</td>\n",
       "      <td>Evening</td>\n",
       "      <td>3RD ST SE / E WATER ST</td>\n",
       "      <td>38.02852</td>\n",
       "      <td>-78.474958</td>\n",
       "      <td>Martha Jefferson</td>\n",
       "      <td>22902</td>\n",
       "    </tr>\n",
       "    <tr>\n",
       "      <th>2</th>\n",
       "      <td>3</td>\n",
       "      <td>Misc - Criminal Call</td>\n",
       "      <td>202500022063</td>\n",
       "      <td>CPD</td>\n",
       "      <td>Bentz, Benjamin</td>\n",
       "      <td>2025-06-26 15:15:58</td>\n",
       "      <td>Thursday</td>\n",
       "      <td>False</td>\n",
       "      <td>Summer</td>\n",
       "      <td>Afternoon</td>\n",
       "      <td>800 HARDY DR, D</td>\n",
       "      <td>38.033239</td>\n",
       "      <td>-78.490398</td>\n",
       "      <td>10th &amp; Page</td>\n",
       "      <td>22903</td>\n",
       "    </tr>\n",
       "    <tr>\n",
       "      <th>3</th>\n",
       "      <td>4</td>\n",
       "      <td>Larceny - All Other</td>\n",
       "      <td>202500022057</td>\n",
       "      <td>CPD</td>\n",
       "      <td>Jones, Mark</td>\n",
       "      <td>2025-06-26 14:36:07</td>\n",
       "      <td>Thursday</td>\n",
       "      <td>False</td>\n",
       "      <td>Summer</td>\n",
       "      <td>Afternoon</td>\n",
       "      <td>700 MONTICELLO AVE</td>\n",
       "      <td>38.02412</td>\n",
       "      <td>-78.479081</td>\n",
       "      <td>Belmont</td>\n",
       "      <td>22903</td>\n",
       "    </tr>\n",
       "    <tr>\n",
       "      <th>4</th>\n",
       "      <td>5</td>\n",
       "      <td>Suspicious Activity</td>\n",
       "      <td>202500022045</td>\n",
       "      <td>CPD</td>\n",
       "      <td>Prevost, Payten</td>\n",
       "      <td>2025-06-26 13:43:37</td>\n",
       "      <td>Thursday</td>\n",
       "      <td>False</td>\n",
       "      <td>Summer</td>\n",
       "      <td>Afternoon</td>\n",
       "      <td>1900 CHESAPEAKE ST</td>\n",
       "      <td>38.022855</td>\n",
       "      <td>-78.455941</td>\n",
       "      <td>Woolen Mills</td>\n",
       "      <td>22902</td>\n",
       "    </tr>\n",
       "  </tbody>\n",
       "</table>\n",
       "</div>"
      ],
      "text/plain": [
       "   RecordID               Offense    IncidentID Agency  ReportingOfficer  \\\n",
       "0         1       Warrant Service  202500022118    CPD    McLeod, Dustin   \n",
       "1         2    Disorderly Conduct  202500022094    CPD  Abdelgayed, Adam   \n",
       "2         3  Misc - Criminal Call  202500022063    CPD  Bentz, Benjamin    \n",
       "3         4   Larceny - All Other  202500022057    CPD       Jones, Mark   \n",
       "4         5   Suspicious Activity  202500022045    CPD   Prevost, Payten   \n",
       "\n",
       "                 Date DayOfWeek  Weekend  Season  TimeOfDay  \\\n",
       "0 2025-06-26 23:31:55  Thursday    False  Summer      Night   \n",
       "1 2025-06-26 20:08:39  Thursday    False  Summer    Evening   \n",
       "2 2025-06-26 15:15:58  Thursday    False  Summer  Afternoon   \n",
       "3 2025-06-26 14:36:07  Thursday    False  Summer  Afternoon   \n",
       "4 2025-06-26 13:43:37  Thursday    False  Summer  Afternoon   \n",
       "\n",
       "                FullStreet        lat        lon      neighborhood    zip  \n",
       "0          600 E MARKET ST  38.030175 -78.477574     Downtown Mall  22902  \n",
       "1   3RD ST SE / E WATER ST   38.02852 -78.474958  Martha Jefferson  22902  \n",
       "2          800 HARDY DR, D  38.033239 -78.490398       10th & Page  22903  \n",
       "3       700 MONTICELLO AVE   38.02412 -78.479081           Belmont  22903  \n",
       "4       1900 CHESAPEAKE ST  38.022855 -78.455941      Woolen Mills  22902  "
      ]
     },
     "execution_count": 14,
     "metadata": {},
     "output_type": "execute_result"
    }
   ],
   "source": [
    "# Now drop the original BlockNumber and StreetName columns\n",
    "df.drop(columns=['BlockNumber', 'StreetName','HourAMPM','HourReported','DateString'], inplace=True)\n",
    "df[\"zip\"] = df[\"zip\"].astype(str)\n",
    "\n",
    "# Fill all missing values in the DataFrame with \"N/A\"\n",
    "df.replace({None: \"N/A\", np.nan: \"N/A\", \"\": \"N/A\"}, inplace=True)\n",
    "df.head()"
   ]
  },
  {
   "cell_type": "code",
   "execution_count": 15,
   "id": "2612ac6f",
   "metadata": {
    "execution": {
     "iopub.execute_input": "2025-06-29T01:13:59.258019Z",
     "iopub.status.busy": "2025-06-29T01:13:59.257574Z",
     "iopub.status.idle": "2025-06-29T01:13:59.273450Z",
     "shell.execute_reply": "2025-06-29T01:13:59.272891Z"
    },
    "papermill": {
     "duration": 0.024772,
     "end_time": "2025-06-29T01:13:59.274447",
     "exception": false,
     "start_time": "2025-06-29T01:13:59.249675",
     "status": "completed"
    },
    "tags": []
   },
   "outputs": [
    {
     "name": "stdout",
     "output_type": "stream",
     "text": [
      "                  MissingCount  MissingPercentage\n",
      "RecordID                     0                0.0\n",
      "Offense                      0                0.0\n",
      "IncidentID                   0                0.0\n",
      "Agency                       0                0.0\n",
      "ReportingOfficer             0                0.0\n",
      "Date                         0                0.0\n",
      "DayOfWeek                    0                0.0\n",
      "Weekend                      0                0.0\n",
      "Season                       0                0.0\n",
      "TimeOfDay                    0                0.0\n",
      "FullStreet                   0                0.0\n",
      "lat                          0                0.0\n",
      "lon                          0                0.0\n",
      "neighborhood                 0                0.0\n",
      "zip                          0                0.0\n"
     ]
    }
   ],
   "source": [
    "missing_info = missing_percentage(df)\n",
    "print(missing_info)"
   ]
  },
  {
   "cell_type": "code",
   "execution_count": 16,
   "id": "6d4b7fbe",
   "metadata": {
    "execution": {
     "iopub.execute_input": "2025-06-29T01:13:59.290092Z",
     "iopub.status.busy": "2025-06-29T01:13:59.289849Z",
     "iopub.status.idle": "2025-06-29T01:13:59.294366Z",
     "shell.execute_reply": "2025-06-29T01:13:59.293711Z"
    },
    "papermill": {
     "duration": 0.013338,
     "end_time": "2025-06-29T01:13:59.295325",
     "exception": false,
     "start_time": "2025-06-29T01:13:59.281987",
     "status": "completed"
    },
    "tags": []
   },
   "outputs": [
    {
     "data": {
      "text/plain": [
       "Index(['RecordID', 'Offense', 'IncidentID', 'Agency', 'ReportingOfficer',\n",
       "       'Date', 'DayOfWeek', 'Weekend', 'Season', 'TimeOfDay', 'FullStreet',\n",
       "       'lat', 'lon', 'neighborhood', 'zip'],\n",
       "      dtype='object')"
      ]
     },
     "execution_count": 16,
     "metadata": {},
     "output_type": "execute_result"
    }
   ],
   "source": [
    "df.columns"
   ]
  },
  {
   "cell_type": "code",
   "execution_count": 17,
   "id": "fa612670",
   "metadata": {
    "execution": {
     "iopub.execute_input": "2025-06-29T01:13:59.311287Z",
     "iopub.status.busy": "2025-06-29T01:13:59.310779Z",
     "iopub.status.idle": "2025-06-29T01:13:59.328068Z",
     "shell.execute_reply": "2025-06-29T01:13:59.327492Z"
    },
    "papermill": {
     "duration": 0.026287,
     "end_time": "2025-06-29T01:13:59.329085",
     "exception": false,
     "start_time": "2025-06-29T01:13:59.302798",
     "status": "completed"
    },
    "tags": []
   },
   "outputs": [
    {
     "name": "stdout",
     "output_type": "stream",
     "text": [
      "<class 'pandas.core.frame.DataFrame'>\n",
      "RangeIndex: 25547 entries, 0 to 25546\n",
      "Data columns (total 15 columns):\n",
      " #   Column            Non-Null Count  Dtype         \n",
      "---  ------            --------------  -----         \n",
      " 0   RecordID          25547 non-null  int64         \n",
      " 1   Offense           25547 non-null  object        \n",
      " 2   IncidentID        25547 non-null  object        \n",
      " 3   Agency            25547 non-null  object        \n",
      " 4   ReportingOfficer  25547 non-null  object        \n",
      " 5   Date              25547 non-null  datetime64[ns]\n",
      " 6   DayOfWeek         25547 non-null  object        \n",
      " 7   Weekend           25547 non-null  bool          \n",
      " 8   Season            25547 non-null  object        \n",
      " 9   TimeOfDay         25547 non-null  object        \n",
      " 10  FullStreet        25547 non-null  object        \n",
      " 11  lat               25547 non-null  object        \n",
      " 12  lon               25547 non-null  object        \n",
      " 13  neighborhood      25547 non-null  object        \n",
      " 14  zip               25547 non-null  object        \n",
      "dtypes: bool(1), datetime64[ns](1), int64(1), object(12)\n",
      "memory usage: 2.8+ MB\n"
     ]
    }
   ],
   "source": [
    "df.info()"
   ]
  },
  {
   "cell_type": "markdown",
   "id": "7f1f6bd8",
   "metadata": {
    "papermill": {
     "duration": 0.007558,
     "end_time": "2025-06-29T01:13:59.344267",
     "exception": false,
     "start_time": "2025-06-29T01:13:59.336709",
     "status": "completed"
    },
    "tags": []
   },
   "source": [
    "### Export Clean Data"
   ]
  },
  {
   "cell_type": "code",
   "execution_count": 18,
   "id": "d0ed9038",
   "metadata": {
    "execution": {
     "iopub.execute_input": "2025-06-29T01:13:59.360362Z",
     "iopub.status.busy": "2025-06-29T01:13:59.359933Z",
     "iopub.status.idle": "2025-06-29T01:14:08.512906Z",
     "shell.execute_reply": "2025-06-29T01:14:08.512217Z"
    },
    "papermill": {
     "duration": 9.162041,
     "end_time": "2025-06-29T01:14:08.513901",
     "exception": false,
     "start_time": "2025-06-29T01:13:59.351860",
     "status": "completed"
    },
    "tags": []
   },
   "outputs": [
    {
     "name": "stdout",
     "output_type": "stream",
     "text": [
      "Project Root: /home/runner/work/crime-data/crime-data\n"
     ]
    },
    {
     "name": "stdout",
     "output_type": "stream",
     "text": [
      "Data saved to: /home/runner/work/crime-data/crime-data/data/charlottesville_crime_incidents.csv\n"
     ]
    },
    {
     "name": "stdout",
     "output_type": "stream",
     "text": [
      "Excel saved to: /home/runner/work/crime-data/crime-data/data/charlottesville_crime_incidents.xlsx\n"
     ]
    }
   ],
   "source": [
    "# Determine the project root (assuming papermill is run from the repository root)\n",
    "project_root = os.getcwd()\n",
    "print(\"Project Root:\", project_root)\n",
    "\n",
    "# Set the data directory within the project root\n",
    "data_dir = os.path.join(project_root, \"data\")\n",
    "\n",
    "# Ensure the \"data\" directory exists (create it if it doesn't)\n",
    "if not os.path.exists(data_dir):\n",
    "    os.makedirs(data_dir)\n",
    "\n",
    "# Export the DataFrame to CSV in the \"data\" folder located in the project root\n",
    "csv_path = os.path.join(data_dir, \"charlottesville_crime_incidents.csv\")\n",
    "df.to_csv(csv_path, index=False)\n",
    "print(\"Data saved to:\", csv_path)\n",
    "\n",
    "# Construct the path to your Excel file\n",
    "excel_path = os.path.join(data_dir, \"charlottesville_crime_incidents.xlsx\")\n",
    "\n",
    "# Export the DataFrame to Excel\n",
    "df.to_excel(excel_path, index=False)\n",
    "print(\"Excel saved to:\", excel_path)\n"
   ]
  }
 ],
 "metadata": {
  "kernelspec": {
   "display_name": "Python 3",
   "language": "python",
   "name": "python3"
  },
  "language_info": {
   "codemirror_mode": {
    "name": "ipython",
    "version": 3
   },
   "file_extension": ".py",
   "mimetype": "text/x-python",
   "name": "python",
   "nbconvert_exporter": "python",
   "pygments_lexer": "ipython3",
   "version": "3.9.23"
  },
  "papermill": {
   "default_parameters": {},
   "duration": 121.392513,
   "end_time": "2025-06-29T01:14:08.937322",
   "environment_variables": {},
   "exception": null,
   "input_path": "notebook/Crime Data.ipynb",
   "output_path": "notebook/Crime Data_output.ipynb",
   "parameters": {},
   "start_time": "2025-06-29T01:12:07.544809",
   "version": "2.6.0"
  }
 },
 "nbformat": 4,
 "nbformat_minor": 5
}