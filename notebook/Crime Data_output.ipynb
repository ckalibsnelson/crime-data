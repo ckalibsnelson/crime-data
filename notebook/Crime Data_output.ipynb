{
 "cells": [
  {
   "cell_type": "markdown",
   "id": "d0baabbf",
   "metadata": {
    "papermill": {
     "duration": 0.004793,
     "end_time": "2025-07-12T01:09:15.090987",
     "exception": false,
     "start_time": "2025-07-12T01:09:15.086194",
     "status": "completed"
    },
    "tags": []
   },
   "source": [
    "# Charlottesville Open Data Porttal: Crime Data"
   ]
  },
  {
   "cell_type": "markdown",
   "id": "e4962e87",
   "metadata": {
    "papermill": {
     "duration": 0.003303,
     "end_time": "2025-07-12T01:09:15.097954",
     "exception": false,
     "start_time": "2025-07-12T01:09:15.094651",
     "status": "completed"
    },
    "tags": []
   },
   "source": [
    "## Import Relevant Librarires & Set WD"
   ]
  },
  {
   "cell_type": "code",
   "execution_count": 1,
   "id": "9d3c6231",
   "metadata": {
    "execution": {
     "iopub.execute_input": "2025-07-12T01:09:15.105803Z",
     "iopub.status.busy": "2025-07-12T01:09:15.105526Z",
     "iopub.status.idle": "2025-07-12T01:09:15.725473Z",
     "shell.execute_reply": "2025-07-12T01:09:15.724792Z"
    },
    "papermill": {
     "duration": 0.625606,
     "end_time": "2025-07-12T01:09:15.726844",
     "exception": false,
     "start_time": "2025-07-12T01:09:15.101238",
     "status": "completed"
    },
    "tags": []
   },
   "outputs": [],
   "source": [
    "import requests\n",
    "import pandas as pd\n",
    "import numpy as np\n",
    "import pickle\n",
    "import googlemaps\n",
    "import plotly.express as px\n",
    "from geopy.geocoders import Nominatim\n",
    "import time\n",
    "from dotenv import load_dotenv\n",
    "import os\n",
    "\n",
    "env_path = os.path.join(\"..\", \".env\")\n",
    "#print(\"Looking for .env file at:\", os.path.abspath(env_path))\n",
    "load_dotenv(dotenv_path=env_path)\n",
    "\n",
    "# Retrieve the variables\n",
    "GOOGLE_API_KEY = os.getenv(\"GOOGLE_API_KEY\")\n",
    "WORKING_DIR = os.getenv(\"WORKING_DIR\")\n",
    "\n",
    "if GOOGLE_API_KEY is None or WORKING_DIR is None:\n",
    "    raise RuntimeError(\"No configuration found. Please ensure that your .env file exists with the required variables, or create a local config.py file.\")\n",
    "\n",
    "#print(\"Google API Key:\", GOOGLE_API_KEY)\n",
    "#print(\"Working Directory:\", WORKING_DIR)"
   ]
  },
  {
   "cell_type": "markdown",
   "id": "fd03b6d5",
   "metadata": {
    "papermill": {
     "duration": 0.003359,
     "end_time": "2025-07-12T01:09:15.733779",
     "exception": false,
     "start_time": "2025-07-12T01:09:15.730420",
     "status": "completed"
    },
    "tags": []
   },
   "source": [
    "## Import Data\n",
    "\n",
    "URL: https://opendata.charlottesville.org/datasets/charlottesville::crime-data/about"
   ]
  },
  {
   "cell_type": "code",
   "execution_count": 2,
   "id": "42a562c5",
   "metadata": {
    "execution": {
     "iopub.execute_input": "2025-07-12T01:09:15.745178Z",
     "iopub.status.busy": "2025-07-12T01:09:15.744635Z",
     "iopub.status.idle": "2025-07-12T01:10:29.696419Z",
     "shell.execute_reply": "2025-07-12T01:10:29.695645Z"
    },
    "papermill": {
     "duration": 73.96355,
     "end_time": "2025-07-12T01:10:29.700630",
     "exception": false,
     "start_time": "2025-07-12T01:09:15.737080",
     "status": "completed"
    },
    "tags": []
   },
   "outputs": [
    {
     "name": "stdout",
     "output_type": "stream",
     "text": [
      "Total records imported: 25512\n"
     ]
    }
   ],
   "source": [
    "# Define the endpoint and initial parameters.\n",
    "url = \"https://gisweb.charlottesville.org/arcgis/rest/services/OpenData_2/MapServer/6/query\"\n",
    "params = {\n",
    "    \"where\": \"1=1\",\n",
    "    \"outFields\": \"*\",\n",
    "    \"outSR\": 4326,\n",
    "    \"f\": \"json\",\n",
    "    \"resultOffset\": 0,       # Starting index for results\n",
    "    \"resultRecordCount\": 10000  # Maximum records per batch (if allowed by the API)\n",
    "}\n",
    "\n",
    "records = []\n",
    "\n",
    "while True:\n",
    "    response = requests.get(url, params=params)\n",
    "    response.raise_for_status()\n",
    "    data = response.json()\n",
    "    \n",
    "    # Get the current batch of features.\n",
    "    features = data.get(\"features\", [])\n",
    "    if not features:\n",
    "        break\n",
    "\n",
    "    # Extract the attributes from the features.\n",
    "    batch_records = [feature.get(\"attributes\", {}) for feature in features]\n",
    "    records.extend(batch_records)\n",
    "    \n",
    "    # If the batch size is less than the requested count, we reached the end.\n",
    "    if len(features) < params[\"resultRecordCount\"]:\n",
    "        break\n",
    "\n",
    "    # Update the resultOffset for the next batch.\n",
    "    params[\"resultOffset\"] += params[\"resultRecordCount\"]\n",
    "\n",
    "# Create a DataFrame from the combined records.\n",
    "df = pd.DataFrame(records)\n",
    "print(\"Total records imported:\", len(df))\n"
   ]
  },
  {
   "cell_type": "code",
   "execution_count": 3,
   "id": "963865a2",
   "metadata": {
    "execution": {
     "iopub.execute_input": "2025-07-12T01:10:29.708547Z",
     "iopub.status.busy": "2025-07-12T01:10:29.708117Z",
     "iopub.status.idle": "2025-07-12T01:10:29.720339Z",
     "shell.execute_reply": "2025-07-12T01:10:29.719797Z"
    },
    "papermill": {
     "duration": 0.017222,
     "end_time": "2025-07-12T01:10:29.721325",
     "exception": false,
     "start_time": "2025-07-12T01:10:29.704103",
     "status": "completed"
    },
    "tags": []
   },
   "outputs": [
    {
     "data": {
      "text/html": [
       "<div>\n",
       "<style scoped>\n",
       "    .dataframe tbody tr th:only-of-type {\n",
       "        vertical-align: middle;\n",
       "    }\n",
       "\n",
       "    .dataframe tbody tr th {\n",
       "        vertical-align: top;\n",
       "    }\n",
       "\n",
       "    .dataframe thead th {\n",
       "        text-align: right;\n",
       "    }\n",
       "</style>\n",
       "<table border=\"1\" class=\"dataframe\">\n",
       "  <thead>\n",
       "    <tr style=\"text-align: right;\">\n",
       "      <th></th>\n",
       "      <th>RecordID</th>\n",
       "      <th>Offense</th>\n",
       "      <th>IncidentID</th>\n",
       "      <th>BlockNumber</th>\n",
       "      <th>StreetName</th>\n",
       "      <th>Agency</th>\n",
       "      <th>DateReported</th>\n",
       "      <th>HourReported</th>\n",
       "      <th>ReportingOfficer</th>\n",
       "    </tr>\n",
       "  </thead>\n",
       "  <tbody>\n",
       "    <tr>\n",
       "      <th>0</th>\n",
       "      <td>1</td>\n",
       "      <td>Larceny - All Other</td>\n",
       "      <td>202500023866</td>\n",
       "      <td>500</td>\n",
       "      <td>HARRIS RD, B</td>\n",
       "      <td>CPD</td>\n",
       "      <td>1752105490000</td>\n",
       "      <td>1958</td>\n",
       "      <td>Vlasis, Christopher</td>\n",
       "    </tr>\n",
       "    <tr>\n",
       "      <th>1</th>\n",
       "      <td>2</td>\n",
       "      <td>Death Investigation - DOA</td>\n",
       "      <td>202500023835</td>\n",
       "      <td>200</td>\n",
       "      <td>5TH ST NW</td>\n",
       "      <td>CPD</td>\n",
       "      <td>1752096175000</td>\n",
       "      <td>1722</td>\n",
       "      <td>Houchens, Jamell</td>\n",
       "    </tr>\n",
       "    <tr>\n",
       "      <th>2</th>\n",
       "      <td>3</td>\n",
       "      <td>Hit and Run</td>\n",
       "      <td>202500023833</td>\n",
       "      <td>200</td>\n",
       "      <td>E WATER ST</td>\n",
       "      <td>CPD</td>\n",
       "      <td>1752093639000</td>\n",
       "      <td>1640</td>\n",
       "      <td>Hudson, Jesse</td>\n",
       "    </tr>\n",
       "    <tr>\n",
       "      <th>3</th>\n",
       "      <td>4</td>\n",
       "      <td>Larceny - All Other</td>\n",
       "      <td>202500023820</td>\n",
       "      <td>600</td>\n",
       "      <td>E WATER ST</td>\n",
       "      <td>CPD</td>\n",
       "      <td>1752092868000</td>\n",
       "      <td>1627</td>\n",
       "      <td>Hudson, Jesse</td>\n",
       "    </tr>\n",
       "    <tr>\n",
       "      <th>4</th>\n",
       "      <td>5</td>\n",
       "      <td>Fraud-false pretense</td>\n",
       "      <td>202500023797</td>\n",
       "      <td>100</td>\n",
       "      <td>KEYSTONE PL</td>\n",
       "      <td>CPD</td>\n",
       "      <td>1752079501000</td>\n",
       "      <td>1245</td>\n",
       "      <td>Eckenroth, Rachel</td>\n",
       "    </tr>\n",
       "  </tbody>\n",
       "</table>\n",
       "</div>"
      ],
      "text/plain": [
       "   RecordID                    Offense    IncidentID BlockNumber  \\\n",
       "0         1        Larceny - All Other  202500023866         500   \n",
       "1         2  Death Investigation - DOA  202500023835         200   \n",
       "2         3                Hit and Run  202500023833         200   \n",
       "3         4        Larceny - All Other  202500023820         600   \n",
       "4         5       Fraud-false pretense  202500023797         100   \n",
       "\n",
       "     StreetName Agency   DateReported HourReported     ReportingOfficer  \n",
       "0  HARRIS RD, B    CPD  1752105490000         1958  Vlasis, Christopher  \n",
       "1     5TH ST NW    CPD  1752096175000         1722     Houchens, Jamell  \n",
       "2    E WATER ST    CPD  1752093639000         1640        Hudson, Jesse  \n",
       "3    E WATER ST    CPD  1752092868000         1627        Hudson, Jesse  \n",
       "4   KEYSTONE PL    CPD  1752079501000         1245    Eckenroth, Rachel  "
      ]
     },
     "execution_count": 3,
     "metadata": {},
     "output_type": "execute_result"
    }
   ],
   "source": [
    "df.head()"
   ]
  },
  {
   "cell_type": "code",
   "execution_count": 4,
   "id": "ffc173da",
   "metadata": {
    "execution": {
     "iopub.execute_input": "2025-07-12T01:10:29.729320Z",
     "iopub.status.busy": "2025-07-12T01:10:29.729132Z",
     "iopub.status.idle": "2025-07-12T01:10:29.733410Z",
     "shell.execute_reply": "2025-07-12T01:10:29.732732Z"
    },
    "papermill": {
     "duration": 0.009412,
     "end_time": "2025-07-12T01:10:29.734412",
     "exception": false,
     "start_time": "2025-07-12T01:10:29.725000",
     "status": "completed"
    },
    "tags": []
   },
   "outputs": [
    {
     "data": {
      "text/plain": [
       "Index(['RecordID', 'Offense', 'IncidentID', 'BlockNumber', 'StreetName',\n",
       "       'Agency', 'DateReported', 'HourReported', 'ReportingOfficer'],\n",
       "      dtype='object')"
      ]
     },
     "execution_count": 4,
     "metadata": {},
     "output_type": "execute_result"
    }
   ],
   "source": [
    "df.columns"
   ]
  },
  {
   "cell_type": "code",
   "execution_count": 5,
   "id": "ea004ab8",
   "metadata": {
    "execution": {
     "iopub.execute_input": "2025-07-12T01:10:29.743154Z",
     "iopub.status.busy": "2025-07-12T01:10:29.742737Z",
     "iopub.status.idle": "2025-07-12T01:10:29.766445Z",
     "shell.execute_reply": "2025-07-12T01:10:29.765732Z"
    },
    "papermill": {
     "duration": 0.02935,
     "end_time": "2025-07-12T01:10:29.767468",
     "exception": false,
     "start_time": "2025-07-12T01:10:29.738118",
     "status": "completed"
    },
    "tags": []
   },
   "outputs": [
    {
     "name": "stdout",
     "output_type": "stream",
     "text": [
      "<class 'pandas.core.frame.DataFrame'>\n",
      "RangeIndex: 25512 entries, 0 to 25511\n",
      "Data columns (total 9 columns):\n",
      " #   Column            Non-Null Count  Dtype \n",
      "---  ------            --------------  ----- \n",
      " 0   RecordID          25512 non-null  int64 \n",
      " 1   Offense           25512 non-null  object\n",
      " 2   IncidentID        25512 non-null  object\n",
      " 3   BlockNumber       25512 non-null  object\n",
      " 4   StreetName        25512 non-null  object\n",
      " 5   Agency            25512 non-null  object\n",
      " 6   DateReported      25512 non-null  int64 \n",
      " 7   HourReported      25512 non-null  object\n",
      " 8   ReportingOfficer  25495 non-null  object\n",
      "dtypes: int64(2), object(7)\n",
      "memory usage: 1.8+ MB\n"
     ]
    }
   ],
   "source": [
    "df.info()"
   ]
  },
  {
   "cell_type": "markdown",
   "id": "70129dcd",
   "metadata": {
    "papermill": {
     "duration": 0.003659,
     "end_time": "2025-07-12T01:10:29.775052",
     "exception": false,
     "start_time": "2025-07-12T01:10:29.771393",
     "status": "completed"
    },
    "tags": []
   },
   "source": [
    "### Missing Values"
   ]
  },
  {
   "cell_type": "code",
   "execution_count": 6,
   "id": "4717ec99",
   "metadata": {
    "execution": {
     "iopub.execute_input": "2025-07-12T01:10:29.806876Z",
     "iopub.status.busy": "2025-07-12T01:10:29.806287Z",
     "iopub.status.idle": "2025-07-12T01:10:29.829501Z",
     "shell.execute_reply": "2025-07-12T01:10:29.828804Z"
    },
    "papermill": {
     "duration": 0.029018,
     "end_time": "2025-07-12T01:10:29.830631",
     "exception": false,
     "start_time": "2025-07-12T01:10:29.801613",
     "status": "completed"
    },
    "tags": []
   },
   "outputs": [
    {
     "name": "stdout",
     "output_type": "stream",
     "text": [
      "                  MissingCount  MissingPercentage\n",
      "RecordID                     0               0.00\n",
      "Offense                      0               0.00\n",
      "IncidentID                   0               0.00\n",
      "BlockNumber                  0               0.00\n",
      "StreetName                   0               0.00\n",
      "Agency                       0               0.00\n",
      "DateReported                 0               0.00\n",
      "HourReported                 0               0.00\n",
      "ReportingOfficer            17               0.07\n"
     ]
    }
   ],
   "source": [
    "def missing_percentage(df):\n",
    "    \"\"\"\n",
    "    Returns a DataFrame with the count and percentage of missing values for each column.\n",
    "    \n",
    "    Parameters:\n",
    "        df (pd.DataFrame): The input DataFrame.\n",
    "    \n",
    "    Returns:\n",
    "        pd.DataFrame: A DataFrame with columns 'MissingCount' and 'MissingPercentage'.\n",
    "    \"\"\"\n",
    "    total_rows = len(df)\n",
    "    missing_count = df.isnull().sum()\n",
    "    missing_percent = (missing_count / total_rows) * 100\n",
    "    \n",
    "    result = pd.DataFrame({\n",
    "        'MissingCount': missing_count,\n",
    "        'MissingPercentage': missing_percent.round(2)\n",
    "    })\n",
    "    \n",
    "    return result\n",
    "\n",
    "# Example usage:\n",
    "missing_info = missing_percentage(df)\n",
    "print(missing_info)\n"
   ]
  },
  {
   "cell_type": "markdown",
   "id": "0759c0d9",
   "metadata": {
    "papermill": {
     "duration": 0.003865,
     "end_time": "2025-07-12T01:10:29.838577",
     "exception": false,
     "start_time": "2025-07-12T01:10:29.834712",
     "status": "completed"
    },
    "tags": []
   },
   "source": [
    "## Data Preparation"
   ]
  },
  {
   "cell_type": "markdown",
   "id": "d3763aaf",
   "metadata": {
    "papermill": {
     "duration": 0.003712,
     "end_time": "2025-07-12T01:10:29.846032",
     "exception": false,
     "start_time": "2025-07-12T01:10:29.842320",
     "status": "completed"
    },
    "tags": []
   },
   "source": [
    "### Data Conversion"
   ]
  },
  {
   "cell_type": "code",
   "execution_count": 7,
   "id": "b7e65a5e",
   "metadata": {
    "execution": {
     "iopub.execute_input": "2025-07-12T01:10:29.854711Z",
     "iopub.status.busy": "2025-07-12T01:10:29.854318Z",
     "iopub.status.idle": "2025-07-12T01:10:30.216028Z",
     "shell.execute_reply": "2025-07-12T01:10:30.215318Z"
    },
    "papermill": {
     "duration": 0.367336,
     "end_time": "2025-07-12T01:10:30.217150",
     "exception": false,
     "start_time": "2025-07-12T01:10:29.849814",
     "status": "completed"
    },
    "tags": []
   },
   "outputs": [
    {
     "data": {
      "text/html": [
       "<div>\n",
       "<style scoped>\n",
       "    .dataframe tbody tr th:only-of-type {\n",
       "        vertical-align: middle;\n",
       "    }\n",
       "\n",
       "    .dataframe tbody tr th {\n",
       "        vertical-align: top;\n",
       "    }\n",
       "\n",
       "    .dataframe thead th {\n",
       "        text-align: right;\n",
       "    }\n",
       "</style>\n",
       "<table border=\"1\" class=\"dataframe\">\n",
       "  <thead>\n",
       "    <tr style=\"text-align: right;\">\n",
       "      <th></th>\n",
       "      <th>RecordID</th>\n",
       "      <th>Offense</th>\n",
       "      <th>IncidentID</th>\n",
       "      <th>BlockNumber</th>\n",
       "      <th>StreetName</th>\n",
       "      <th>Agency</th>\n",
       "      <th>HourReported</th>\n",
       "      <th>ReportingOfficer</th>\n",
       "      <th>Date</th>\n",
       "      <th>DateString</th>\n",
       "      <th>DayOfWeek</th>\n",
       "      <th>Weekend</th>\n",
       "      <th>Season</th>\n",
       "      <th>HourAMPM</th>\n",
       "      <th>TimeOfDay</th>\n",
       "    </tr>\n",
       "  </thead>\n",
       "  <tbody>\n",
       "    <tr>\n",
       "      <th>0</th>\n",
       "      <td>1</td>\n",
       "      <td>Larceny - All Other</td>\n",
       "      <td>202500023866</td>\n",
       "      <td>500</td>\n",
       "      <td>HARRIS RD, B</td>\n",
       "      <td>CPD</td>\n",
       "      <td>1958</td>\n",
       "      <td>Vlasis, Christopher</td>\n",
       "      <td>2025-07-09 19:58:10</td>\n",
       "      <td>2025-07-09 07:58:10 PM</td>\n",
       "      <td>Wednesday</td>\n",
       "      <td>False</td>\n",
       "      <td>Summer</td>\n",
       "      <td>07:58 PM</td>\n",
       "      <td>Evening</td>\n",
       "    </tr>\n",
       "    <tr>\n",
       "      <th>1</th>\n",
       "      <td>2</td>\n",
       "      <td>Death Investigation - DOA</td>\n",
       "      <td>202500023835</td>\n",
       "      <td>200</td>\n",
       "      <td>5TH ST NW</td>\n",
       "      <td>CPD</td>\n",
       "      <td>1722</td>\n",
       "      <td>Houchens, Jamell</td>\n",
       "      <td>2025-07-09 17:22:55</td>\n",
       "      <td>2025-07-09 05:22:55 PM</td>\n",
       "      <td>Wednesday</td>\n",
       "      <td>False</td>\n",
       "      <td>Summer</td>\n",
       "      <td>05:22 PM</td>\n",
       "      <td>Evening</td>\n",
       "    </tr>\n",
       "    <tr>\n",
       "      <th>2</th>\n",
       "      <td>3</td>\n",
       "      <td>Hit and Run</td>\n",
       "      <td>202500023833</td>\n",
       "      <td>200</td>\n",
       "      <td>E WATER ST</td>\n",
       "      <td>CPD</td>\n",
       "      <td>1640</td>\n",
       "      <td>Hudson, Jesse</td>\n",
       "      <td>2025-07-09 16:40:39</td>\n",
       "      <td>2025-07-09 04:40:39 PM</td>\n",
       "      <td>Wednesday</td>\n",
       "      <td>False</td>\n",
       "      <td>Summer</td>\n",
       "      <td>04:40 PM</td>\n",
       "      <td>Afternoon</td>\n",
       "    </tr>\n",
       "    <tr>\n",
       "      <th>3</th>\n",
       "      <td>4</td>\n",
       "      <td>Larceny - All Other</td>\n",
       "      <td>202500023820</td>\n",
       "      <td>600</td>\n",
       "      <td>E WATER ST</td>\n",
       "      <td>CPD</td>\n",
       "      <td>1627</td>\n",
       "      <td>Hudson, Jesse</td>\n",
       "      <td>2025-07-09 16:27:48</td>\n",
       "      <td>2025-07-09 04:27:48 PM</td>\n",
       "      <td>Wednesday</td>\n",
       "      <td>False</td>\n",
       "      <td>Summer</td>\n",
       "      <td>04:27 PM</td>\n",
       "      <td>Afternoon</td>\n",
       "    </tr>\n",
       "    <tr>\n",
       "      <th>4</th>\n",
       "      <td>5</td>\n",
       "      <td>Fraud-false pretense</td>\n",
       "      <td>202500023797</td>\n",
       "      <td>100</td>\n",
       "      <td>KEYSTONE PL</td>\n",
       "      <td>CPD</td>\n",
       "      <td>1245</td>\n",
       "      <td>Eckenroth, Rachel</td>\n",
       "      <td>2025-07-09 12:45:01</td>\n",
       "      <td>2025-07-09 12:45:01 PM</td>\n",
       "      <td>Wednesday</td>\n",
       "      <td>False</td>\n",
       "      <td>Summer</td>\n",
       "      <td>12:45 PM</td>\n",
       "      <td>Afternoon</td>\n",
       "    </tr>\n",
       "  </tbody>\n",
       "</table>\n",
       "</div>"
      ],
      "text/plain": [
       "   RecordID                    Offense    IncidentID BlockNumber  \\\n",
       "0         1        Larceny - All Other  202500023866         500   \n",
       "1         2  Death Investigation - DOA  202500023835         200   \n",
       "2         3                Hit and Run  202500023833         200   \n",
       "3         4        Larceny - All Other  202500023820         600   \n",
       "4         5       Fraud-false pretense  202500023797         100   \n",
       "\n",
       "     StreetName Agency HourReported     ReportingOfficer                Date  \\\n",
       "0  HARRIS RD, B    CPD         1958  Vlasis, Christopher 2025-07-09 19:58:10   \n",
       "1     5TH ST NW    CPD         1722     Houchens, Jamell 2025-07-09 17:22:55   \n",
       "2    E WATER ST    CPD         1640        Hudson, Jesse 2025-07-09 16:40:39   \n",
       "3    E WATER ST    CPD         1627        Hudson, Jesse 2025-07-09 16:27:48   \n",
       "4   KEYSTONE PL    CPD         1245    Eckenroth, Rachel 2025-07-09 12:45:01   \n",
       "\n",
       "               DateString  DayOfWeek  Weekend  Season  HourAMPM  TimeOfDay  \n",
       "0  2025-07-09 07:58:10 PM  Wednesday    False  Summer  07:58 PM    Evening  \n",
       "1  2025-07-09 05:22:55 PM  Wednesday    False  Summer  05:22 PM    Evening  \n",
       "2  2025-07-09 04:40:39 PM  Wednesday    False  Summer  04:40 PM  Afternoon  \n",
       "3  2025-07-09 04:27:48 PM  Wednesday    False  Summer  04:27 PM  Afternoon  \n",
       "4  2025-07-09 12:45:01 PM  Wednesday    False  Summer  12:45 PM  Afternoon  "
      ]
     },
     "execution_count": 7,
     "metadata": {},
     "output_type": "execute_result"
    }
   ],
   "source": [
    "def convert_and_categorize_datereported(df, col='DateReported'):\n",
    "    \"\"\"\n",
    "    Converts an epoch (in milliseconds) date column into a timezone-aware datetime,\n",
    "    converts it to Eastern Time, and then creates columns for day-of-week, weekend flag,\n",
    "    season, 12-hour formatted time, and time-of-day. Keeps both a real datetime column\n",
    "    (Date) and a string representation (DateString).\n",
    "    \"\"\"\n",
    "    import pandas as pd\n",
    "\n",
    "    # Convert the epoch timestamp to a pandas datetime object as UTC, then convert to US/Eastern.\n",
    "    df[\"DateReported_dt\"] = (\n",
    "        pd.to_datetime(df[col], unit=\"ms\", errors=\"coerce\", utc=True)\n",
    "        .dt.tz_convert(\"US/Eastern\")\n",
    "    )\n",
    "    \n",
    "    # Create a true datetime column (remove timezone if you prefer naive datetime)\n",
    "    df[\"Date\"] = df[\"DateReported_dt\"].dt.tz_localize(None)\n",
    "\n",
    "    # Optionally, create a separate string-formatted column\n",
    "    df[\"DateString\"] = df[\"DateReported_dt\"].dt.strftime(\"%Y-%m-%d %I:%M:%S %p\")\n",
    "    \n",
    "    # DayOfWeek\n",
    "    df[\"DayOfWeek\"] = df[\"DateReported_dt\"].dt.day_name()\n",
    "    \n",
    "    # Weekend\n",
    "    df[\"Weekend\"] = df[\"DayOfWeek\"].isin([\"Saturday\", \"Sunday\"])\n",
    "    \n",
    "    # Helper function to determine the season\n",
    "    def get_season(dt):\n",
    "        month = dt.month\n",
    "        day = dt.day\n",
    "        # Approximate Northern Hemisphere season boundaries:\n",
    "        if (month == 12 and day >= 21) or (month < 3) or (month == 3 and day < 20):\n",
    "            return \"Winter\"\n",
    "        elif (month == 3 and day >= 20) or (month < 6) or (month == 6 and day < 21):\n",
    "            return \"Spring\"\n",
    "        elif (month == 6 and day >= 21) or (month < 9) or (month == 9 and day < 22):\n",
    "            return \"Summer\"\n",
    "        else:\n",
    "            return \"Autumn\"\n",
    "    \n",
    "    df[\"Season\"] = df[\"DateReported_dt\"].apply(get_season)\n",
    "    \n",
    "    # 12-hour formatted time (HourAMPM)\n",
    "    df[\"HourAMPM\"] = df[\"DateReported_dt\"].dt.strftime(\"%I:%M %p\")\n",
    "    \n",
    "    # Extract hour (0-23) for time-of-day\n",
    "    df[\"HourValue\"] = df[\"DateReported_dt\"].dt.hour\n",
    "    \n",
    "    def time_of_day(hour):\n",
    "        if pd.isnull(hour):\n",
    "            return None\n",
    "        if 5 <= hour < 12:\n",
    "            return \"Morning\"\n",
    "        elif 12 <= hour < 17:\n",
    "            return \"Afternoon\"\n",
    "        elif 17 <= hour < 21:\n",
    "            return \"Evening\"\n",
    "        else:\n",
    "            return \"Night\"\n",
    "    \n",
    "    df[\"TimeOfDay\"] = df[\"HourValue\"].apply(time_of_day)\n",
    "    \n",
    "    # Drop columns you no longer need\n",
    "    df.drop(columns=[col, \"DateReported_dt\", \"HourValue\"], inplace=True)\n",
    "    \n",
    "    return df\n",
    "\n",
    "# Example usage:\n",
    "df = convert_and_categorize_datereported(df)\n",
    "df.head()\n"
   ]
  },
  {
   "cell_type": "code",
   "execution_count": 8,
   "id": "d34a1968",
   "metadata": {
    "execution": {
     "iopub.execute_input": "2025-07-12T01:10:30.226830Z",
     "iopub.status.busy": "2025-07-12T01:10:30.226389Z",
     "iopub.status.idle": "2025-07-12T01:10:30.255920Z",
     "shell.execute_reply": "2025-07-12T01:10:30.255241Z"
    },
    "papermill": {
     "duration": 0.035422,
     "end_time": "2025-07-12T01:10:30.256958",
     "exception": false,
     "start_time": "2025-07-12T01:10:30.221536",
     "status": "completed"
    },
    "tags": []
   },
   "outputs": [
    {
     "name": "stdout",
     "output_type": "stream",
     "text": [
      "<class 'pandas.core.frame.DataFrame'>\n",
      "RangeIndex: 25512 entries, 0 to 25511\n",
      "Data columns (total 15 columns):\n",
      " #   Column            Non-Null Count  Dtype         \n",
      "---  ------            --------------  -----         \n",
      " 0   RecordID          25512 non-null  int64         \n",
      " 1   Offense           25512 non-null  object        \n",
      " 2   IncidentID        25512 non-null  object        \n",
      " 3   BlockNumber       25512 non-null  object        \n",
      " 4   StreetName        25512 non-null  object        \n",
      " 5   Agency            25512 non-null  object        \n",
      " 6   HourReported      25512 non-null  object        \n",
      " 7   ReportingOfficer  25495 non-null  object        \n",
      " 8   Date              25512 non-null  datetime64[ns]\n",
      " 9   DateString        25512 non-null  object        \n",
      " 10  DayOfWeek         25512 non-null  object        \n",
      " 11  Weekend           25512 non-null  bool          \n",
      " 12  Season            25512 non-null  object        \n",
      " 13  HourAMPM          25512 non-null  object        \n",
      " 14  TimeOfDay         25512 non-null  object        \n",
      "dtypes: bool(1), datetime64[ns](1), int64(1), object(12)\n",
      "memory usage: 2.7+ MB\n"
     ]
    }
   ],
   "source": [
    "df.info()"
   ]
  },
  {
   "cell_type": "markdown",
   "id": "f3e76107",
   "metadata": {
    "papermill": {
     "duration": 0.004098,
     "end_time": "2025-07-12T01:10:30.265396",
     "exception": false,
     "start_time": "2025-07-12T01:10:30.261298",
     "status": "completed"
    },
    "tags": []
   },
   "source": [
    "### Coordinates"
   ]
  },
  {
   "cell_type": "code",
   "execution_count": 9,
   "id": "feefdf81",
   "metadata": {
    "execution": {
     "iopub.execute_input": "2025-07-12T01:10:30.274861Z",
     "iopub.status.busy": "2025-07-12T01:10:30.274319Z",
     "iopub.status.idle": "2025-07-12T01:10:30.382307Z",
     "shell.execute_reply": "2025-07-12T01:10:30.381663Z"
    },
    "papermill": {
     "duration": 0.113798,
     "end_time": "2025-07-12T01:10:30.383352",
     "exception": false,
     "start_time": "2025-07-12T01:10:30.269554",
     "status": "completed"
    },
    "tags": []
   },
   "outputs": [
    {
     "name": "stdout",
     "output_type": "stream",
     "text": [
      "Loaded geocode cache.\n",
      "Error geocoding 500 1ST ST S, 210: REQUEST_DENIED (You must enable Billing on the Google Cloud Project at https://console.cloud.google.com/project/_/billing/enable Learn more at https://developers.google.com/maps/gmp-get-started)\n",
      "Geocoded 500 1ST ST S, 210: None, None\n",
      "Geocode cache updated and saved.\n"
     ]
    },
    {
     "data": {
      "text/html": [
       "<div>\n",
       "<style scoped>\n",
       "    .dataframe tbody tr th:only-of-type {\n",
       "        vertical-align: middle;\n",
       "    }\n",
       "\n",
       "    .dataframe tbody tr th {\n",
       "        vertical-align: top;\n",
       "    }\n",
       "\n",
       "    .dataframe thead th {\n",
       "        text-align: right;\n",
       "    }\n",
       "</style>\n",
       "<table border=\"1\" class=\"dataframe\">\n",
       "  <thead>\n",
       "    <tr style=\"text-align: right;\">\n",
       "      <th></th>\n",
       "      <th>RecordID</th>\n",
       "      <th>Offense</th>\n",
       "      <th>IncidentID</th>\n",
       "      <th>BlockNumber</th>\n",
       "      <th>StreetName</th>\n",
       "      <th>Agency</th>\n",
       "      <th>HourReported</th>\n",
       "      <th>ReportingOfficer</th>\n",
       "      <th>Date</th>\n",
       "      <th>DateString</th>\n",
       "      <th>DayOfWeek</th>\n",
       "      <th>Weekend</th>\n",
       "      <th>Season</th>\n",
       "      <th>HourAMPM</th>\n",
       "      <th>TimeOfDay</th>\n",
       "      <th>FullStreet</th>\n",
       "      <th>lat</th>\n",
       "      <th>lon</th>\n",
       "    </tr>\n",
       "  </thead>\n",
       "  <tbody>\n",
       "    <tr>\n",
       "      <th>0</th>\n",
       "      <td>1</td>\n",
       "      <td>Larceny - All Other</td>\n",
       "      <td>202500023866</td>\n",
       "      <td>500</td>\n",
       "      <td>HARRIS RD, B</td>\n",
       "      <td>CPD</td>\n",
       "      <td>1958</td>\n",
       "      <td>Vlasis, Christopher</td>\n",
       "      <td>2025-07-09 19:58:10</td>\n",
       "      <td>2025-07-09 07:58:10 PM</td>\n",
       "      <td>Wednesday</td>\n",
       "      <td>False</td>\n",
       "      <td>Summer</td>\n",
       "      <td>07:58 PM</td>\n",
       "      <td>Evening</td>\n",
       "      <td>500 HARRIS RD, B</td>\n",
       "      <td>38.015099</td>\n",
       "      <td>-78.503687</td>\n",
       "    </tr>\n",
       "    <tr>\n",
       "      <th>1</th>\n",
       "      <td>2</td>\n",
       "      <td>Death Investigation - DOA</td>\n",
       "      <td>202500023835</td>\n",
       "      <td>200</td>\n",
       "      <td>5TH ST NW</td>\n",
       "      <td>CPD</td>\n",
       "      <td>1722</td>\n",
       "      <td>Houchens, Jamell</td>\n",
       "      <td>2025-07-09 17:22:55</td>\n",
       "      <td>2025-07-09 05:22:55 PM</td>\n",
       "      <td>Wednesday</td>\n",
       "      <td>False</td>\n",
       "      <td>Summer</td>\n",
       "      <td>05:22 PM</td>\n",
       "      <td>Evening</td>\n",
       "      <td>200 5TH ST NW</td>\n",
       "      <td>38.031612</td>\n",
       "      <td>-78.487454</td>\n",
       "    </tr>\n",
       "    <tr>\n",
       "      <th>2</th>\n",
       "      <td>3</td>\n",
       "      <td>Hit and Run</td>\n",
       "      <td>202500023833</td>\n",
       "      <td>200</td>\n",
       "      <td>E WATER ST</td>\n",
       "      <td>CPD</td>\n",
       "      <td>1640</td>\n",
       "      <td>Hudson, Jesse</td>\n",
       "      <td>2025-07-09 16:40:39</td>\n",
       "      <td>2025-07-09 04:40:39 PM</td>\n",
       "      <td>Wednesday</td>\n",
       "      <td>False</td>\n",
       "      <td>Summer</td>\n",
       "      <td>04:40 PM</td>\n",
       "      <td>Afternoon</td>\n",
       "      <td>200 E WATER ST</td>\n",
       "      <td>38.029430</td>\n",
       "      <td>-78.481109</td>\n",
       "    </tr>\n",
       "    <tr>\n",
       "      <th>3</th>\n",
       "      <td>4</td>\n",
       "      <td>Larceny - All Other</td>\n",
       "      <td>202500023820</td>\n",
       "      <td>600</td>\n",
       "      <td>E WATER ST</td>\n",
       "      <td>CPD</td>\n",
       "      <td>1627</td>\n",
       "      <td>Hudson, Jesse</td>\n",
       "      <td>2025-07-09 16:27:48</td>\n",
       "      <td>2025-07-09 04:27:48 PM</td>\n",
       "      <td>Wednesday</td>\n",
       "      <td>False</td>\n",
       "      <td>Summer</td>\n",
       "      <td>04:27 PM</td>\n",
       "      <td>Afternoon</td>\n",
       "      <td>600 E WATER ST</td>\n",
       "      <td>38.028757</td>\n",
       "      <td>-78.477608</td>\n",
       "    </tr>\n",
       "    <tr>\n",
       "      <th>4</th>\n",
       "      <td>5</td>\n",
       "      <td>Fraud-false pretense</td>\n",
       "      <td>202500023797</td>\n",
       "      <td>100</td>\n",
       "      <td>KEYSTONE PL</td>\n",
       "      <td>CPD</td>\n",
       "      <td>1245</td>\n",
       "      <td>Eckenroth, Rachel</td>\n",
       "      <td>2025-07-09 12:45:01</td>\n",
       "      <td>2025-07-09 12:45:01 PM</td>\n",
       "      <td>Wednesday</td>\n",
       "      <td>False</td>\n",
       "      <td>Summer</td>\n",
       "      <td>12:45 PM</td>\n",
       "      <td>Afternoon</td>\n",
       "      <td>100 KEYSTONE PL</td>\n",
       "      <td>38.015094</td>\n",
       "      <td>-78.471297</td>\n",
       "    </tr>\n",
       "  </tbody>\n",
       "</table>\n",
       "</div>"
      ],
      "text/plain": [
       "   RecordID                    Offense    IncidentID BlockNumber  \\\n",
       "0         1        Larceny - All Other  202500023866         500   \n",
       "1         2  Death Investigation - DOA  202500023835         200   \n",
       "2         3                Hit and Run  202500023833         200   \n",
       "3         4        Larceny - All Other  202500023820         600   \n",
       "4         5       Fraud-false pretense  202500023797         100   \n",
       "\n",
       "     StreetName Agency HourReported     ReportingOfficer                Date  \\\n",
       "0  HARRIS RD, B    CPD         1958  Vlasis, Christopher 2025-07-09 19:58:10   \n",
       "1     5TH ST NW    CPD         1722     Houchens, Jamell 2025-07-09 17:22:55   \n",
       "2    E WATER ST    CPD         1640        Hudson, Jesse 2025-07-09 16:40:39   \n",
       "3    E WATER ST    CPD         1627        Hudson, Jesse 2025-07-09 16:27:48   \n",
       "4   KEYSTONE PL    CPD         1245    Eckenroth, Rachel 2025-07-09 12:45:01   \n",
       "\n",
       "               DateString  DayOfWeek  Weekend  Season  HourAMPM  TimeOfDay  \\\n",
       "0  2025-07-09 07:58:10 PM  Wednesday    False  Summer  07:58 PM    Evening   \n",
       "1  2025-07-09 05:22:55 PM  Wednesday    False  Summer  05:22 PM    Evening   \n",
       "2  2025-07-09 04:40:39 PM  Wednesday    False  Summer  04:40 PM  Afternoon   \n",
       "3  2025-07-09 04:27:48 PM  Wednesday    False  Summer  04:27 PM  Afternoon   \n",
       "4  2025-07-09 12:45:01 PM  Wednesday    False  Summer  12:45 PM  Afternoon   \n",
       "\n",
       "         FullStreet        lat        lon  \n",
       "0  500 HARRIS RD, B  38.015099 -78.503687  \n",
       "1     200 5TH ST NW  38.031612 -78.487454  \n",
       "2    200 E WATER ST  38.029430 -78.481109  \n",
       "3    600 E WATER ST  38.028757 -78.477608  \n",
       "4   100 KEYSTONE PL  38.015094 -78.471297  "
      ]
     },
     "execution_count": 9,
     "metadata": {},
     "output_type": "execute_result"
    }
   ],
   "source": [
    "# Combine BlockNumber and StreetName into a full address string\n",
    "df['FullStreet'] = df['BlockNumber'].astype(str) + \" \" + df['StreetName']\n",
    "\n",
    "# --- Step 1: Setup the Google Maps Client and Cache ---\n",
    "gmaps = googlemaps.Client(key=GOOGLE_API_KEY)\n",
    "\n",
    "# Try to load cached geocoding results if available.\n",
    "try:\n",
    "    with open(\"geocode_cache_google.pkl\", \"rb\") as f:\n",
    "        street_coords = pickle.load(f)\n",
    "    print(\"Loaded geocode cache.\")\n",
    "except FileNotFoundError:\n",
    "    street_coords = {}\n",
    "    print(\"No cache found; starting fresh.\")\n",
    "\n",
    "def geocode_address(address):\n",
    "    try:\n",
    "        # Append city and state to help geocoding\n",
    "        result = gmaps.geocode(f\"{address}, Charlottesville, VA\")\n",
    "        if result:\n",
    "            lat = result[0]['geometry']['location']['lat']\n",
    "            lon = result[0]['geometry']['location']['lng']\n",
    "            return lat, lon\n",
    "    except Exception as e:\n",
    "        print(f\"Error geocoding {address}: {e}\")\n",
    "    return None, None\n",
    "\n",
    "# --- Step 2: Geocode Only New Addresses ---\n",
    "unique_addresses = df['FullStreet'].unique()\n",
    "for address in unique_addresses:\n",
    "    if address not in street_coords:\n",
    "        lat, lon = geocode_address(address)\n",
    "        street_coords[address] = (lat, lon)\n",
    "        print(f\"Geocoded {address}: {lat}, {lon}\")\n",
    "\n",
    "# Save the updated cache to disk.\n",
    "with open(\"geocode_cache_google.pkl\", \"wb\") as f:\n",
    "    pickle.dump(street_coords, f)\n",
    "    print(\"Geocode cache updated and saved.\")\n",
    "\n",
    "# --- Step 3: Map Coordinates Back to DataFrame ---\n",
    "df['lat'] = df['FullStreet'].map(lambda s: street_coords.get(s, (None, None))[0])\n",
    "df['lon'] = df['FullStreet'].map(lambda s: street_coords.get(s, (None, None))[1])\n",
    "\n",
    "df.head()"
   ]
  },
  {
   "cell_type": "markdown",
   "id": "5eb2d60e",
   "metadata": {
    "papermill": {
     "duration": 0.004335,
     "end_time": "2025-07-12T01:10:30.392405",
     "exception": false,
     "start_time": "2025-07-12T01:10:30.388070",
     "status": "completed"
    },
    "tags": []
   },
   "source": [
    "### Neighborhood"
   ]
  },
  {
   "cell_type": "code",
   "execution_count": 10,
   "id": "50e7597e",
   "metadata": {
    "execution": {
     "iopub.execute_input": "2025-07-12T01:10:30.401863Z",
     "iopub.status.busy": "2025-07-12T01:10:30.401669Z",
     "iopub.status.idle": "2025-07-12T01:10:31.890417Z",
     "shell.execute_reply": "2025-07-12T01:10:31.889753Z"
    },
    "papermill": {
     "duration": 1.494739,
     "end_time": "2025-07-12T01:10:31.891440",
     "exception": false,
     "start_time": "2025-07-12T01:10:30.396701",
     "status": "completed"
    },
    "tags": []
   },
   "outputs": [
    {
     "name": "stdout",
     "output_type": "stream",
     "text": [
      "Loaded neighborhood cache.\n"
     ]
    },
    {
     "name": "stdout",
     "output_type": "stream",
     "text": [
      "Error getting neighborhood for nan, nan: HTTP Error: 400\n",
      "Error getting neighborhood for nan, nan: HTTP Error: 400\n"
     ]
    },
    {
     "name": "stdout",
     "output_type": "stream",
     "text": [
      "Error getting neighborhood for nan, nan: HTTP Error: 400\n",
      "Error getting neighborhood for nan, nan: HTTP Error: 400\n",
      "Error getting neighborhood for nan, nan: HTTP Error: 400\n",
      "Error getting neighborhood for nan, nan: HTTP Error: 400\n"
     ]
    },
    {
     "name": "stdout",
     "output_type": "stream",
     "text": [
      "Error getting neighborhood for nan, nan: HTTP Error: 400\n",
      "Error getting neighborhood for nan, nan: HTTP Error: 400\n",
      "Error getting neighborhood for nan, nan: HTTP Error: 400\n",
      "Error getting neighborhood for nan, nan: HTTP Error: 400\n"
     ]
    },
    {
     "name": "stdout",
     "output_type": "stream",
     "text": [
      "Error getting neighborhood for nan, nan: HTTP Error: 400\n",
      "Error getting neighborhood for nan, nan: HTTP Error: 400\n",
      "Error getting neighborhood for nan, nan: HTTP Error: 400\n",
      "Error getting neighborhood for nan, nan: HTTP Error: 400\n",
      "Error getting neighborhood for nan, nan: HTTP Error: 400\n"
     ]
    },
    {
     "name": "stdout",
     "output_type": "stream",
     "text": [
      "Error getting neighborhood for nan, nan: HTTP Error: 400\n",
      "Error getting neighborhood for nan, nan: HTTP Error: 400\n",
      "Error getting neighborhood for nan, nan: HTTP Error: 400\n",
      "Error getting neighborhood for nan, nan: HTTP Error: 400\n"
     ]
    },
    {
     "name": "stdout",
     "output_type": "stream",
     "text": [
      "Error getting neighborhood for nan, nan: HTTP Error: 400\n",
      "Error getting neighborhood for nan, nan: HTTP Error: 400\n",
      "Error getting neighborhood for nan, nan: HTTP Error: 400\n",
      "Error getting neighborhood for nan, nan: HTTP Error: 400\n",
      "Error getting neighborhood for nan, nan: HTTP Error: 400\n",
      "Error getting neighborhood for nan, nan: HTTP Error: 400\n"
     ]
    },
    {
     "name": "stdout",
     "output_type": "stream",
     "text": [
      "Error getting neighborhood for nan, nan: HTTP Error: 400\n",
      "Error getting neighborhood for nan, nan: HTTP Error: 400\n",
      "Error getting neighborhood for nan, nan: HTTP Error: 400\n"
     ]
    },
    {
     "name": "stdout",
     "output_type": "stream",
     "text": [
      "Error getting neighborhood for nan, nan: HTTP Error: 400\n",
      "Error getting neighborhood for nan, nan: HTTP Error: 400\n",
      "Error getting neighborhood for nan, nan: HTTP Error: 400\n",
      "Error getting neighborhood for nan, nan: HTTP Error: 400\n",
      "Error getting neighborhood for nan, nan: HTTP Error: 400\n",
      "Error getting neighborhood for nan, nan: HTTP Error: 400\n"
     ]
    },
    {
     "name": "stdout",
     "output_type": "stream",
     "text": [
      "Error getting neighborhood for nan, nan: HTTP Error: 400\n",
      "Error getting neighborhood for nan, nan: HTTP Error: 400\n",
      "Error getting neighborhood for nan, nan: HTTP Error: 400\n"
     ]
    },
    {
     "name": "stdout",
     "output_type": "stream",
     "text": [
      "Error getting neighborhood for nan, nan: HTTP Error: 400\n",
      "Error getting neighborhood for nan, nan: HTTP Error: 400\n",
      "Error getting neighborhood for nan, nan: HTTP Error: 400\n",
      "Error getting neighborhood for nan, nan: HTTP Error: 400\n",
      "Error getting neighborhood for nan, nan: HTTP Error: 400\n",
      "Error getting neighborhood for nan, nan: HTTP Error: 400\n"
     ]
    },
    {
     "name": "stdout",
     "output_type": "stream",
     "text": [
      "Error getting neighborhood for nan, nan: HTTP Error: 400\n",
      "Error getting neighborhood for nan, nan: HTTP Error: 400\n",
      "Error getting neighborhood for nan, nan: HTTP Error: 400\n"
     ]
    },
    {
     "name": "stdout",
     "output_type": "stream",
     "text": [
      "Error getting neighborhood for nan, nan: HTTP Error: 400\n",
      "Error getting neighborhood for nan, nan: HTTP Error: 400\n"
     ]
    },
    {
     "data": {
      "text/html": [
       "<div>\n",
       "<style scoped>\n",
       "    .dataframe tbody tr th:only-of-type {\n",
       "        vertical-align: middle;\n",
       "    }\n",
       "\n",
       "    .dataframe tbody tr th {\n",
       "        vertical-align: top;\n",
       "    }\n",
       "\n",
       "    .dataframe thead th {\n",
       "        text-align: right;\n",
       "    }\n",
       "</style>\n",
       "<table border=\"1\" class=\"dataframe\">\n",
       "  <thead>\n",
       "    <tr style=\"text-align: right;\">\n",
       "      <th></th>\n",
       "      <th>RecordID</th>\n",
       "      <th>Offense</th>\n",
       "      <th>IncidentID</th>\n",
       "      <th>BlockNumber</th>\n",
       "      <th>StreetName</th>\n",
       "      <th>Agency</th>\n",
       "      <th>HourReported</th>\n",
       "      <th>ReportingOfficer</th>\n",
       "      <th>Date</th>\n",
       "      <th>DateString</th>\n",
       "      <th>DayOfWeek</th>\n",
       "      <th>Weekend</th>\n",
       "      <th>Season</th>\n",
       "      <th>HourAMPM</th>\n",
       "      <th>TimeOfDay</th>\n",
       "      <th>FullStreet</th>\n",
       "      <th>lat</th>\n",
       "      <th>lon</th>\n",
       "      <th>neighborhood</th>\n",
       "    </tr>\n",
       "  </thead>\n",
       "  <tbody>\n",
       "    <tr>\n",
       "      <th>0</th>\n",
       "      <td>1</td>\n",
       "      <td>Larceny - All Other</td>\n",
       "      <td>202500023866</td>\n",
       "      <td>500</td>\n",
       "      <td>HARRIS RD, B</td>\n",
       "      <td>CPD</td>\n",
       "      <td>1958</td>\n",
       "      <td>Vlasis, Christopher</td>\n",
       "      <td>2025-07-09 19:58:10</td>\n",
       "      <td>2025-07-09 07:58:10 PM</td>\n",
       "      <td>Wednesday</td>\n",
       "      <td>False</td>\n",
       "      <td>Summer</td>\n",
       "      <td>07:58 PM</td>\n",
       "      <td>Evening</td>\n",
       "      <td>500 HARRIS RD, B</td>\n",
       "      <td>38.015099</td>\n",
       "      <td>-78.503687</td>\n",
       "      <td>Fry's Spring</td>\n",
       "    </tr>\n",
       "    <tr>\n",
       "      <th>1</th>\n",
       "      <td>2</td>\n",
       "      <td>Death Investigation - DOA</td>\n",
       "      <td>202500023835</td>\n",
       "      <td>200</td>\n",
       "      <td>5TH ST NW</td>\n",
       "      <td>CPD</td>\n",
       "      <td>1722</td>\n",
       "      <td>Houchens, Jamell</td>\n",
       "      <td>2025-07-09 17:22:55</td>\n",
       "      <td>2025-07-09 05:22:55 PM</td>\n",
       "      <td>Wednesday</td>\n",
       "      <td>False</td>\n",
       "      <td>Summer</td>\n",
       "      <td>05:22 PM</td>\n",
       "      <td>Evening</td>\n",
       "      <td>200 5TH ST NW</td>\n",
       "      <td>38.031612</td>\n",
       "      <td>-78.487454</td>\n",
       "      <td>Starr Hill</td>\n",
       "    </tr>\n",
       "    <tr>\n",
       "      <th>2</th>\n",
       "      <td>3</td>\n",
       "      <td>Hit and Run</td>\n",
       "      <td>202500023833</td>\n",
       "      <td>200</td>\n",
       "      <td>E WATER ST</td>\n",
       "      <td>CPD</td>\n",
       "      <td>1640</td>\n",
       "      <td>Hudson, Jesse</td>\n",
       "      <td>2025-07-09 16:40:39</td>\n",
       "      <td>2025-07-09 04:40:39 PM</td>\n",
       "      <td>Wednesday</td>\n",
       "      <td>False</td>\n",
       "      <td>Summer</td>\n",
       "      <td>04:40 PM</td>\n",
       "      <td>Afternoon</td>\n",
       "      <td>200 E WATER ST</td>\n",
       "      <td>38.029430</td>\n",
       "      <td>-78.481109</td>\n",
       "      <td>North Downtown</td>\n",
       "    </tr>\n",
       "    <tr>\n",
       "      <th>3</th>\n",
       "      <td>4</td>\n",
       "      <td>Larceny - All Other</td>\n",
       "      <td>202500023820</td>\n",
       "      <td>600</td>\n",
       "      <td>E WATER ST</td>\n",
       "      <td>CPD</td>\n",
       "      <td>1627</td>\n",
       "      <td>Hudson, Jesse</td>\n",
       "      <td>2025-07-09 16:27:48</td>\n",
       "      <td>2025-07-09 04:27:48 PM</td>\n",
       "      <td>Wednesday</td>\n",
       "      <td>False</td>\n",
       "      <td>Summer</td>\n",
       "      <td>04:27 PM</td>\n",
       "      <td>Afternoon</td>\n",
       "      <td>600 E WATER ST</td>\n",
       "      <td>38.028757</td>\n",
       "      <td>-78.477608</td>\n",
       "      <td>North Downtown</td>\n",
       "    </tr>\n",
       "    <tr>\n",
       "      <th>4</th>\n",
       "      <td>5</td>\n",
       "      <td>Fraud-false pretense</td>\n",
       "      <td>202500023797</td>\n",
       "      <td>100</td>\n",
       "      <td>KEYSTONE PL</td>\n",
       "      <td>CPD</td>\n",
       "      <td>1245</td>\n",
       "      <td>Eckenroth, Rachel</td>\n",
       "      <td>2025-07-09 12:45:01</td>\n",
       "      <td>2025-07-09 12:45:01 PM</td>\n",
       "      <td>Wednesday</td>\n",
       "      <td>False</td>\n",
       "      <td>Summer</td>\n",
       "      <td>12:45 PM</td>\n",
       "      <td>Afternoon</td>\n",
       "      <td>100 KEYSTONE PL</td>\n",
       "      <td>38.015094</td>\n",
       "      <td>-78.471297</td>\n",
       "      <td>Belmont</td>\n",
       "    </tr>\n",
       "  </tbody>\n",
       "</table>\n",
       "</div>"
      ],
      "text/plain": [
       "   RecordID                    Offense    IncidentID BlockNumber  \\\n",
       "0         1        Larceny - All Other  202500023866         500   \n",
       "1         2  Death Investigation - DOA  202500023835         200   \n",
       "2         3                Hit and Run  202500023833         200   \n",
       "3         4        Larceny - All Other  202500023820         600   \n",
       "4         5       Fraud-false pretense  202500023797         100   \n",
       "\n",
       "     StreetName Agency HourReported     ReportingOfficer                Date  \\\n",
       "0  HARRIS RD, B    CPD         1958  Vlasis, Christopher 2025-07-09 19:58:10   \n",
       "1     5TH ST NW    CPD         1722     Houchens, Jamell 2025-07-09 17:22:55   \n",
       "2    E WATER ST    CPD         1640        Hudson, Jesse 2025-07-09 16:40:39   \n",
       "3    E WATER ST    CPD         1627        Hudson, Jesse 2025-07-09 16:27:48   \n",
       "4   KEYSTONE PL    CPD         1245    Eckenroth, Rachel 2025-07-09 12:45:01   \n",
       "\n",
       "               DateString  DayOfWeek  Weekend  Season  HourAMPM  TimeOfDay  \\\n",
       "0  2025-07-09 07:58:10 PM  Wednesday    False  Summer  07:58 PM    Evening   \n",
       "1  2025-07-09 05:22:55 PM  Wednesday    False  Summer  05:22 PM    Evening   \n",
       "2  2025-07-09 04:40:39 PM  Wednesday    False  Summer  04:40 PM  Afternoon   \n",
       "3  2025-07-09 04:27:48 PM  Wednesday    False  Summer  04:27 PM  Afternoon   \n",
       "4  2025-07-09 12:45:01 PM  Wednesday    False  Summer  12:45 PM  Afternoon   \n",
       "\n",
       "         FullStreet        lat        lon    neighborhood  \n",
       "0  500 HARRIS RD, B  38.015099 -78.503687    Fry's Spring  \n",
       "1     200 5TH ST NW  38.031612 -78.487454      Starr Hill  \n",
       "2    200 E WATER ST  38.029430 -78.481109  North Downtown  \n",
       "3    600 E WATER ST  38.028757 -78.477608  North Downtown  \n",
       "4   100 KEYSTONE PL  38.015094 -78.471297         Belmont  "
      ]
     },
     "execution_count": 10,
     "metadata": {},
     "output_type": "execute_result"
    }
   ],
   "source": [
    "# Initialize the Google Maps client.\n",
    "gmaps = googlemaps.Client(key=GOOGLE_API_KEY)\n",
    "\n",
    "# Try to load a persistent neighborhood cache if available.\n",
    "try:\n",
    "    with open(\"neighborhood_cache.pkl\", \"rb\") as f:\n",
    "        neighborhood_cache = pickle.load(f)\n",
    "    print(\"Loaded neighborhood cache.\")\n",
    "except FileNotFoundError:\n",
    "    neighborhood_cache = {}\n",
    "    print(\"No neighborhood cache found; starting fresh.\")\n",
    "\n",
    "def get_neighborhood(lat, lon):\n",
    "    \"\"\"\n",
    "    Reverse geocodes a latitude and longitude to retrieve the neighborhood.\n",
    "    Caches results to speed up subsequent lookups.\n",
    "    \"\"\"\n",
    "    key = (lat, lon)\n",
    "    if key in neighborhood_cache:\n",
    "        return neighborhood_cache[key]\n",
    "    \n",
    "    try:\n",
    "        result = gmaps.reverse_geocode((lat, lon))\n",
    "        if result:\n",
    "            # Look for the 'neighborhood' component in the first result.\n",
    "            for component in result[0]['address_components']:\n",
    "                if 'neighborhood' in component['types']:\n",
    "                    neighborhood = component['long_name']\n",
    "                    neighborhood_cache[key] = neighborhood\n",
    "                    return neighborhood\n",
    "            # If no neighborhood is found, return \"N/A\"\n",
    "            neighborhood_cache[key] = \"N/A\"\n",
    "            return \"N/A\"\n",
    "    except Exception as e:\n",
    "        print(f\"Error getting neighborhood for {lat}, {lon}: {e}\")\n",
    "        return \"N/A\"\n",
    "    \n",
    "    # Pause to respect usage limits.\n",
    "    time.sleep(1)\n",
    "\n",
    "# Example usage: Apply to your DataFrame 'df' that already has 'lat' and 'lon' columns.\n",
    "df['neighborhood'] = df.apply(lambda row: get_neighborhood(row['lat'], row['lon']), axis=1)\n",
    "\n",
    "# Save the updated neighborhood cache.\n",
    "with open(\"neighborhood_cache.pkl\", \"wb\") as f:\n",
    "    pickle.dump(neighborhood_cache, f)\n",
    "\n",
    "df.head()\n"
   ]
  },
  {
   "cell_type": "markdown",
   "id": "e95fd95c",
   "metadata": {
    "papermill": {
     "duration": 0.005096,
     "end_time": "2025-07-12T01:10:31.902121",
     "exception": false,
     "start_time": "2025-07-12T01:10:31.897025",
     "status": "completed"
    },
    "tags": []
   },
   "source": [
    "### Zip"
   ]
  },
  {
   "cell_type": "code",
   "execution_count": 11,
   "id": "a33aeaaf",
   "metadata": {
    "execution": {
     "iopub.execute_input": "2025-07-12T01:10:31.913792Z",
     "iopub.status.busy": "2025-07-12T01:10:31.913304Z",
     "iopub.status.idle": "2025-07-12T01:11:20.238013Z",
     "shell.execute_reply": "2025-07-12T01:11:20.237318Z"
    },
    "papermill": {
     "duration": 48.332014,
     "end_time": "2025-07-12T01:11:20.239227",
     "exception": false,
     "start_time": "2025-07-12T01:10:31.907213",
     "status": "completed"
    },
    "tags": []
   },
   "outputs": [
    {
     "name": "stdout",
     "output_type": "stream",
     "text": [
      "Loaded zip cache.\n",
      "Error getting ZIP for nan, nan: Must be a coordinate pair or Point\n"
     ]
    },
    {
     "name": "stdout",
     "output_type": "stream",
     "text": [
      "Error getting ZIP for nan, nan: Must be a coordinate pair or Point\n"
     ]
    },
    {
     "name": "stdout",
     "output_type": "stream",
     "text": [
      "Error getting ZIP for nan, nan: Must be a coordinate pair or Point\n"
     ]
    },
    {
     "name": "stdout",
     "output_type": "stream",
     "text": [
      "Error getting ZIP for nan, nan: Must be a coordinate pair or Point\n"
     ]
    },
    {
     "name": "stdout",
     "output_type": "stream",
     "text": [
      "Error getting ZIP for nan, nan: Must be a coordinate pair or Point\n"
     ]
    },
    {
     "name": "stdout",
     "output_type": "stream",
     "text": [
      "Error getting ZIP for nan, nan: Must be a coordinate pair or Point\n"
     ]
    },
    {
     "name": "stdout",
     "output_type": "stream",
     "text": [
      "Error getting ZIP for nan, nan: Must be a coordinate pair or Point\n"
     ]
    },
    {
     "name": "stdout",
     "output_type": "stream",
     "text": [
      "Error getting ZIP for nan, nan: Must be a coordinate pair or Point\n"
     ]
    },
    {
     "name": "stdout",
     "output_type": "stream",
     "text": [
      "Error getting ZIP for nan, nan: Must be a coordinate pair or Point\n"
     ]
    },
    {
     "name": "stdout",
     "output_type": "stream",
     "text": [
      "Error getting ZIP for nan, nan: Must be a coordinate pair or Point\n"
     ]
    },
    {
     "name": "stdout",
     "output_type": "stream",
     "text": [
      "Error getting ZIP for nan, nan: Must be a coordinate pair or Point\n"
     ]
    },
    {
     "name": "stdout",
     "output_type": "stream",
     "text": [
      "Error getting ZIP for nan, nan: Must be a coordinate pair or Point\n"
     ]
    },
    {
     "name": "stdout",
     "output_type": "stream",
     "text": [
      "Error getting ZIP for nan, nan: Must be a coordinate pair or Point\n"
     ]
    },
    {
     "name": "stdout",
     "output_type": "stream",
     "text": [
      "Error getting ZIP for nan, nan: Must be a coordinate pair or Point\n"
     ]
    },
    {
     "name": "stdout",
     "output_type": "stream",
     "text": [
      "Error getting ZIP for nan, nan: Must be a coordinate pair or Point\n"
     ]
    },
    {
     "name": "stdout",
     "output_type": "stream",
     "text": [
      "Error getting ZIP for nan, nan: Must be a coordinate pair or Point\n"
     ]
    },
    {
     "name": "stdout",
     "output_type": "stream",
     "text": [
      "Error getting ZIP for nan, nan: Must be a coordinate pair or Point\n"
     ]
    },
    {
     "name": "stdout",
     "output_type": "stream",
     "text": [
      "Error getting ZIP for nan, nan: Must be a coordinate pair or Point\n"
     ]
    },
    {
     "name": "stdout",
     "output_type": "stream",
     "text": [
      "Error getting ZIP for nan, nan: Must be a coordinate pair or Point\n"
     ]
    },
    {
     "name": "stdout",
     "output_type": "stream",
     "text": [
      "Error getting ZIP for nan, nan: Must be a coordinate pair or Point\n"
     ]
    },
    {
     "name": "stdout",
     "output_type": "stream",
     "text": [
      "Error getting ZIP for nan, nan: Must be a coordinate pair or Point\n"
     ]
    },
    {
     "name": "stdout",
     "output_type": "stream",
     "text": [
      "Error getting ZIP for nan, nan: Must be a coordinate pair or Point\n"
     ]
    },
    {
     "name": "stdout",
     "output_type": "stream",
     "text": [
      "Error getting ZIP for nan, nan: Must be a coordinate pair or Point\n"
     ]
    },
    {
     "name": "stdout",
     "output_type": "stream",
     "text": [
      "Error getting ZIP for nan, nan: Must be a coordinate pair or Point\n"
     ]
    },
    {
     "name": "stdout",
     "output_type": "stream",
     "text": [
      "Error getting ZIP for nan, nan: Must be a coordinate pair or Point\n"
     ]
    },
    {
     "name": "stdout",
     "output_type": "stream",
     "text": [
      "Error getting ZIP for nan, nan: Must be a coordinate pair or Point\n"
     ]
    },
    {
     "name": "stdout",
     "output_type": "stream",
     "text": [
      "Error getting ZIP for nan, nan: Must be a coordinate pair or Point\n"
     ]
    },
    {
     "name": "stdout",
     "output_type": "stream",
     "text": [
      "Error getting ZIP for nan, nan: Must be a coordinate pair or Point\n"
     ]
    },
    {
     "name": "stdout",
     "output_type": "stream",
     "text": [
      "Error getting ZIP for nan, nan: Must be a coordinate pair or Point\n"
     ]
    },
    {
     "name": "stdout",
     "output_type": "stream",
     "text": [
      "Error getting ZIP for nan, nan: Must be a coordinate pair or Point\n"
     ]
    },
    {
     "name": "stdout",
     "output_type": "stream",
     "text": [
      "Error getting ZIP for nan, nan: Must be a coordinate pair or Point\n"
     ]
    },
    {
     "name": "stdout",
     "output_type": "stream",
     "text": [
      "Error getting ZIP for nan, nan: Must be a coordinate pair or Point\n"
     ]
    },
    {
     "name": "stdout",
     "output_type": "stream",
     "text": [
      "Error getting ZIP for nan, nan: Must be a coordinate pair or Point\n"
     ]
    },
    {
     "name": "stdout",
     "output_type": "stream",
     "text": [
      "Error getting ZIP for nan, nan: Must be a coordinate pair or Point\n"
     ]
    },
    {
     "name": "stdout",
     "output_type": "stream",
     "text": [
      "Error getting ZIP for nan, nan: Must be a coordinate pair or Point\n"
     ]
    },
    {
     "name": "stdout",
     "output_type": "stream",
     "text": [
      "Error getting ZIP for nan, nan: Must be a coordinate pair or Point\n"
     ]
    },
    {
     "name": "stdout",
     "output_type": "stream",
     "text": [
      "Error getting ZIP for nan, nan: Must be a coordinate pair or Point\n"
     ]
    },
    {
     "name": "stdout",
     "output_type": "stream",
     "text": [
      "Error getting ZIP for nan, nan: Must be a coordinate pair or Point\n"
     ]
    },
    {
     "name": "stdout",
     "output_type": "stream",
     "text": [
      "Error getting ZIP for nan, nan: Must be a coordinate pair or Point\n"
     ]
    },
    {
     "name": "stdout",
     "output_type": "stream",
     "text": [
      "Error getting ZIP for nan, nan: Must be a coordinate pair or Point\n"
     ]
    },
    {
     "name": "stdout",
     "output_type": "stream",
     "text": [
      "Error getting ZIP for nan, nan: Must be a coordinate pair or Point\n"
     ]
    },
    {
     "name": "stdout",
     "output_type": "stream",
     "text": [
      "Error getting ZIP for nan, nan: Must be a coordinate pair or Point\n"
     ]
    },
    {
     "name": "stdout",
     "output_type": "stream",
     "text": [
      "Error getting ZIP for nan, nan: Must be a coordinate pair or Point\n"
     ]
    },
    {
     "name": "stdout",
     "output_type": "stream",
     "text": [
      "Error getting ZIP for nan, nan: Must be a coordinate pair or Point\n"
     ]
    },
    {
     "name": "stdout",
     "output_type": "stream",
     "text": [
      "Error getting ZIP for nan, nan: Must be a coordinate pair or Point\n"
     ]
    },
    {
     "name": "stdout",
     "output_type": "stream",
     "text": [
      "Error getting ZIP for nan, nan: Must be a coordinate pair or Point\n"
     ]
    },
    {
     "name": "stdout",
     "output_type": "stream",
     "text": [
      "Error getting ZIP for nan, nan: Must be a coordinate pair or Point\n"
     ]
    },
    {
     "name": "stdout",
     "output_type": "stream",
     "text": [
      "Error getting ZIP for nan, nan: Must be a coordinate pair or Point\n"
     ]
    },
    {
     "data": {
      "text/html": [
       "<div>\n",
       "<style scoped>\n",
       "    .dataframe tbody tr th:only-of-type {\n",
       "        vertical-align: middle;\n",
       "    }\n",
       "\n",
       "    .dataframe tbody tr th {\n",
       "        vertical-align: top;\n",
       "    }\n",
       "\n",
       "    .dataframe thead th {\n",
       "        text-align: right;\n",
       "    }\n",
       "</style>\n",
       "<table border=\"1\" class=\"dataframe\">\n",
       "  <thead>\n",
       "    <tr style=\"text-align: right;\">\n",
       "      <th></th>\n",
       "      <th>RecordID</th>\n",
       "      <th>Offense</th>\n",
       "      <th>IncidentID</th>\n",
       "      <th>BlockNumber</th>\n",
       "      <th>StreetName</th>\n",
       "      <th>Agency</th>\n",
       "      <th>HourReported</th>\n",
       "      <th>ReportingOfficer</th>\n",
       "      <th>Date</th>\n",
       "      <th>DateString</th>\n",
       "      <th>DayOfWeek</th>\n",
       "      <th>Weekend</th>\n",
       "      <th>Season</th>\n",
       "      <th>HourAMPM</th>\n",
       "      <th>TimeOfDay</th>\n",
       "      <th>FullStreet</th>\n",
       "      <th>lat</th>\n",
       "      <th>lon</th>\n",
       "      <th>neighborhood</th>\n",
       "      <th>zip</th>\n",
       "    </tr>\n",
       "  </thead>\n",
       "  <tbody>\n",
       "    <tr>\n",
       "      <th>0</th>\n",
       "      <td>1</td>\n",
       "      <td>Larceny - All Other</td>\n",
       "      <td>202500023866</td>\n",
       "      <td>500</td>\n",
       "      <td>HARRIS RD, B</td>\n",
       "      <td>CPD</td>\n",
       "      <td>1958</td>\n",
       "      <td>Vlasis, Christopher</td>\n",
       "      <td>2025-07-09 19:58:10</td>\n",
       "      <td>2025-07-09 07:58:10 PM</td>\n",
       "      <td>Wednesday</td>\n",
       "      <td>False</td>\n",
       "      <td>Summer</td>\n",
       "      <td>07:58 PM</td>\n",
       "      <td>Evening</td>\n",
       "      <td>500 HARRIS RD, B</td>\n",
       "      <td>38.015099</td>\n",
       "      <td>-78.503687</td>\n",
       "      <td>Fry's Spring</td>\n",
       "      <td>22903</td>\n",
       "    </tr>\n",
       "    <tr>\n",
       "      <th>1</th>\n",
       "      <td>2</td>\n",
       "      <td>Death Investigation - DOA</td>\n",
       "      <td>202500023835</td>\n",
       "      <td>200</td>\n",
       "      <td>5TH ST NW</td>\n",
       "      <td>CPD</td>\n",
       "      <td>1722</td>\n",
       "      <td>Houchens, Jamell</td>\n",
       "      <td>2025-07-09 17:22:55</td>\n",
       "      <td>2025-07-09 05:22:55 PM</td>\n",
       "      <td>Wednesday</td>\n",
       "      <td>False</td>\n",
       "      <td>Summer</td>\n",
       "      <td>05:22 PM</td>\n",
       "      <td>Evening</td>\n",
       "      <td>200 5TH ST NW</td>\n",
       "      <td>38.031612</td>\n",
       "      <td>-78.487454</td>\n",
       "      <td>Starr Hill</td>\n",
       "      <td>22903</td>\n",
       "    </tr>\n",
       "    <tr>\n",
       "      <th>2</th>\n",
       "      <td>3</td>\n",
       "      <td>Hit and Run</td>\n",
       "      <td>202500023833</td>\n",
       "      <td>200</td>\n",
       "      <td>E WATER ST</td>\n",
       "      <td>CPD</td>\n",
       "      <td>1640</td>\n",
       "      <td>Hudson, Jesse</td>\n",
       "      <td>2025-07-09 16:40:39</td>\n",
       "      <td>2025-07-09 04:40:39 PM</td>\n",
       "      <td>Wednesday</td>\n",
       "      <td>False</td>\n",
       "      <td>Summer</td>\n",
       "      <td>04:40 PM</td>\n",
       "      <td>Afternoon</td>\n",
       "      <td>200 E WATER ST</td>\n",
       "      <td>38.029430</td>\n",
       "      <td>-78.481109</td>\n",
       "      <td>North Downtown</td>\n",
       "      <td>22903</td>\n",
       "    </tr>\n",
       "    <tr>\n",
       "      <th>3</th>\n",
       "      <td>4</td>\n",
       "      <td>Larceny - All Other</td>\n",
       "      <td>202500023820</td>\n",
       "      <td>600</td>\n",
       "      <td>E WATER ST</td>\n",
       "      <td>CPD</td>\n",
       "      <td>1627</td>\n",
       "      <td>Hudson, Jesse</td>\n",
       "      <td>2025-07-09 16:27:48</td>\n",
       "      <td>2025-07-09 04:27:48 PM</td>\n",
       "      <td>Wednesday</td>\n",
       "      <td>False</td>\n",
       "      <td>Summer</td>\n",
       "      <td>04:27 PM</td>\n",
       "      <td>Afternoon</td>\n",
       "      <td>600 E WATER ST</td>\n",
       "      <td>38.028757</td>\n",
       "      <td>-78.477608</td>\n",
       "      <td>North Downtown</td>\n",
       "      <td>22902</td>\n",
       "    </tr>\n",
       "    <tr>\n",
       "      <th>4</th>\n",
       "      <td>5</td>\n",
       "      <td>Fraud-false pretense</td>\n",
       "      <td>202500023797</td>\n",
       "      <td>100</td>\n",
       "      <td>KEYSTONE PL</td>\n",
       "      <td>CPD</td>\n",
       "      <td>1245</td>\n",
       "      <td>Eckenroth, Rachel</td>\n",
       "      <td>2025-07-09 12:45:01</td>\n",
       "      <td>2025-07-09 12:45:01 PM</td>\n",
       "      <td>Wednesday</td>\n",
       "      <td>False</td>\n",
       "      <td>Summer</td>\n",
       "      <td>12:45 PM</td>\n",
       "      <td>Afternoon</td>\n",
       "      <td>100 KEYSTONE PL</td>\n",
       "      <td>38.015094</td>\n",
       "      <td>-78.471297</td>\n",
       "      <td>Belmont</td>\n",
       "      <td>22902</td>\n",
       "    </tr>\n",
       "  </tbody>\n",
       "</table>\n",
       "</div>"
      ],
      "text/plain": [
       "   RecordID                    Offense    IncidentID BlockNumber  \\\n",
       "0         1        Larceny - All Other  202500023866         500   \n",
       "1         2  Death Investigation - DOA  202500023835         200   \n",
       "2         3                Hit and Run  202500023833         200   \n",
       "3         4        Larceny - All Other  202500023820         600   \n",
       "4         5       Fraud-false pretense  202500023797         100   \n",
       "\n",
       "     StreetName Agency HourReported     ReportingOfficer                Date  \\\n",
       "0  HARRIS RD, B    CPD         1958  Vlasis, Christopher 2025-07-09 19:58:10   \n",
       "1     5TH ST NW    CPD         1722     Houchens, Jamell 2025-07-09 17:22:55   \n",
       "2    E WATER ST    CPD         1640        Hudson, Jesse 2025-07-09 16:40:39   \n",
       "3    E WATER ST    CPD         1627        Hudson, Jesse 2025-07-09 16:27:48   \n",
       "4   KEYSTONE PL    CPD         1245    Eckenroth, Rachel 2025-07-09 12:45:01   \n",
       "\n",
       "               DateString  DayOfWeek  Weekend  Season  HourAMPM  TimeOfDay  \\\n",
       "0  2025-07-09 07:58:10 PM  Wednesday    False  Summer  07:58 PM    Evening   \n",
       "1  2025-07-09 05:22:55 PM  Wednesday    False  Summer  05:22 PM    Evening   \n",
       "2  2025-07-09 04:40:39 PM  Wednesday    False  Summer  04:40 PM  Afternoon   \n",
       "3  2025-07-09 04:27:48 PM  Wednesday    False  Summer  04:27 PM  Afternoon   \n",
       "4  2025-07-09 12:45:01 PM  Wednesday    False  Summer  12:45 PM  Afternoon   \n",
       "\n",
       "         FullStreet        lat        lon    neighborhood    zip  \n",
       "0  500 HARRIS RD, B  38.015099 -78.503687    Fry's Spring  22903  \n",
       "1     200 5TH ST NW  38.031612 -78.487454      Starr Hill  22903  \n",
       "2    200 E WATER ST  38.029430 -78.481109  North Downtown  22903  \n",
       "3    600 E WATER ST  38.028757 -78.477608  North Downtown  22902  \n",
       "4   100 KEYSTONE PL  38.015094 -78.471297         Belmont  22902  "
      ]
     },
     "execution_count": 11,
     "metadata": {},
     "output_type": "execute_result"
    }
   ],
   "source": [
    "# Initialize the geocoder.\n",
    "geolocator = Nominatim(user_agent=\"zip_lookup\")\n",
    "\n",
    "# Try to load a persistent ZIP cache if available.\n",
    "try:\n",
    "    with open(\"zip_cache.pkl\", \"rb\") as f:\n",
    "        zip_cache = pickle.load(f)\n",
    "    print(\"Loaded zip cache.\")\n",
    "except FileNotFoundError:\n",
    "    zip_cache = {}\n",
    "    print(\"No zip cache found; starting fresh.\")\n",
    "\n",
    "def get_zip(lat, lon):\n",
    "    \"\"\"\n",
    "    Reverse geocodes a latitude and longitude to retrieve the ZIP code.\n",
    "    Caches results to speed up subsequent lookups.\n",
    "    \"\"\"\n",
    "    key = (lat, lon)\n",
    "    if key in zip_cache:\n",
    "        return zip_cache[key]\n",
    "    \n",
    "    try:\n",
    "        location = geolocator.reverse((lat, lon), exactly_one=True, timeout=10)\n",
    "        address = location.raw.get('address', {})\n",
    "        postal_code = address.get('postcode', \"N/A\")\n",
    "    except Exception as e:\n",
    "        print(f\"Error getting ZIP for {lat}, {lon}: {e}\")\n",
    "        postal_code = \"N/A\"\n",
    "    \n",
    "    zip_cache[key] = postal_code\n",
    "    # Pause to respect the usage policy.\n",
    "    time.sleep(1)\n",
    "    return postal_code\n",
    "\n",
    "# Apply the function to each row in the DataFrame.\n",
    "df['zip'] = df.apply(lambda row: get_zip(row['lat'], row['lon']), axis=1)\n",
    "\n",
    "# Save the updated ZIP cache.\n",
    "with open(\"zip_cache.pkl\", \"wb\") as f:\n",
    "    pickle.dump(zip_cache, f)\n",
    "\n",
    "df.head()\n"
   ]
  },
  {
   "cell_type": "code",
   "execution_count": 12,
   "id": "b073a13a",
   "metadata": {
    "execution": {
     "iopub.execute_input": "2025-07-12T01:11:20.270113Z",
     "iopub.status.busy": "2025-07-12T01:11:20.269835Z",
     "iopub.status.idle": "2025-07-12T01:11:20.299603Z",
     "shell.execute_reply": "2025-07-12T01:11:20.299035Z"
    },
    "papermill": {
     "duration": 0.046637,
     "end_time": "2025-07-12T01:11:20.300696",
     "exception": false,
     "start_time": "2025-07-12T01:11:20.254059",
     "status": "completed"
    },
    "tags": []
   },
   "outputs": [
    {
     "name": "stdout",
     "output_type": "stream",
     "text": [
      "                  MissingCount  MissingPercentage\n",
      "RecordID                     0               0.00\n",
      "Offense                      0               0.00\n",
      "IncidentID                   0               0.00\n",
      "BlockNumber                  0               0.00\n",
      "StreetName                   0               0.00\n",
      "Agency                       0               0.00\n",
      "HourReported                 0               0.00\n",
      "ReportingOfficer            17               0.07\n",
      "Date                         0               0.00\n",
      "DateString                   0               0.00\n",
      "DayOfWeek                    0               0.00\n",
      "Weekend                      0               0.00\n",
      "Season                       0               0.00\n",
      "HourAMPM                     0               0.00\n",
      "TimeOfDay                    0               0.00\n",
      "FullStreet                   0               0.00\n",
      "lat                         48               0.19\n",
      "lon                         48               0.19\n",
      "neighborhood                 0               0.00\n",
      "zip                          0               0.00\n"
     ]
    }
   ],
   "source": [
    "missing_info = missing_percentage(df)\n",
    "print(missing_info)\n"
   ]
  },
  {
   "cell_type": "code",
   "execution_count": 13,
   "id": "96c539c6",
   "metadata": {
    "execution": {
     "iopub.execute_input": "2025-07-12T01:11:20.316824Z",
     "iopub.status.busy": "2025-07-12T01:11:20.316584Z",
     "iopub.status.idle": "2025-07-12T01:11:20.347646Z",
     "shell.execute_reply": "2025-07-12T01:11:20.347073Z"
    },
    "papermill": {
     "duration": 0.040203,
     "end_time": "2025-07-12T01:11:20.348691",
     "exception": false,
     "start_time": "2025-07-12T01:11:20.308488",
     "status": "completed"
    },
    "tags": []
   },
   "outputs": [
    {
     "name": "stdout",
     "output_type": "stream",
     "text": [
      "<class 'pandas.core.frame.DataFrame'>\n",
      "RangeIndex: 25512 entries, 0 to 25511\n",
      "Data columns (total 20 columns):\n",
      " #   Column            Non-Null Count  Dtype         \n",
      "---  ------            --------------  -----         \n",
      " 0   RecordID          25512 non-null  int64         \n",
      " 1   Offense           25512 non-null  object        \n",
      " 2   IncidentID        25512 non-null  object        \n",
      " 3   BlockNumber       25512 non-null  object        \n",
      " 4   StreetName        25512 non-null  object        \n",
      " 5   Agency            25512 non-null  object        \n",
      " 6   HourReported      25512 non-null  object        \n",
      " 7   ReportingOfficer  25495 non-null  object        \n",
      " 8   Date              25512 non-null  datetime64[ns]\n",
      " 9   DateString        25512 non-null  object        \n",
      " 10  DayOfWeek         25512 non-null  object        \n",
      " 11  Weekend           25512 non-null  bool          \n",
      " 12  Season            25512 non-null  object        \n",
      " 13  HourAMPM          25512 non-null  object        \n",
      " 14  TimeOfDay         25512 non-null  object        \n",
      " 15  FullStreet        25512 non-null  object        \n",
      " 16  lat               25464 non-null  float64       \n",
      " 17  lon               25464 non-null  float64       \n",
      " 18  neighborhood      25512 non-null  object        \n",
      " 19  zip               25512 non-null  object        \n",
      "dtypes: bool(1), datetime64[ns](1), float64(2), int64(1), object(15)\n",
      "memory usage: 3.7+ MB\n"
     ]
    }
   ],
   "source": [
    "df.info()"
   ]
  },
  {
   "cell_type": "code",
   "execution_count": 14,
   "id": "51cfe70b",
   "metadata": {
    "execution": {
     "iopub.execute_input": "2025-07-12T01:11:20.365253Z",
     "iopub.status.busy": "2025-07-12T01:11:20.364836Z",
     "iopub.status.idle": "2025-07-12T01:11:20.409832Z",
     "shell.execute_reply": "2025-07-12T01:11:20.409207Z"
    },
    "papermill": {
     "duration": 0.054248,
     "end_time": "2025-07-12T01:11:20.410869",
     "exception": false,
     "start_time": "2025-07-12T01:11:20.356621",
     "status": "completed"
    },
    "tags": []
   },
   "outputs": [
    {
     "data": {
      "text/html": [
       "<div>\n",
       "<style scoped>\n",
       "    .dataframe tbody tr th:only-of-type {\n",
       "        vertical-align: middle;\n",
       "    }\n",
       "\n",
       "    .dataframe tbody tr th {\n",
       "        vertical-align: top;\n",
       "    }\n",
       "\n",
       "    .dataframe thead th {\n",
       "        text-align: right;\n",
       "    }\n",
       "</style>\n",
       "<table border=\"1\" class=\"dataframe\">\n",
       "  <thead>\n",
       "    <tr style=\"text-align: right;\">\n",
       "      <th></th>\n",
       "      <th>RecordID</th>\n",
       "      <th>Offense</th>\n",
       "      <th>IncidentID</th>\n",
       "      <th>Agency</th>\n",
       "      <th>ReportingOfficer</th>\n",
       "      <th>Date</th>\n",
       "      <th>DayOfWeek</th>\n",
       "      <th>Weekend</th>\n",
       "      <th>Season</th>\n",
       "      <th>TimeOfDay</th>\n",
       "      <th>FullStreet</th>\n",
       "      <th>lat</th>\n",
       "      <th>lon</th>\n",
       "      <th>neighborhood</th>\n",
       "      <th>zip</th>\n",
       "    </tr>\n",
       "  </thead>\n",
       "  <tbody>\n",
       "    <tr>\n",
       "      <th>0</th>\n",
       "      <td>1</td>\n",
       "      <td>Larceny - All Other</td>\n",
       "      <td>202500023866</td>\n",
       "      <td>CPD</td>\n",
       "      <td>Vlasis, Christopher</td>\n",
       "      <td>2025-07-09 19:58:10</td>\n",
       "      <td>Wednesday</td>\n",
       "      <td>False</td>\n",
       "      <td>Summer</td>\n",
       "      <td>Evening</td>\n",
       "      <td>500 HARRIS RD, B</td>\n",
       "      <td>38.015099</td>\n",
       "      <td>-78.503687</td>\n",
       "      <td>Fry's Spring</td>\n",
       "      <td>22903</td>\n",
       "    </tr>\n",
       "    <tr>\n",
       "      <th>1</th>\n",
       "      <td>2</td>\n",
       "      <td>Death Investigation - DOA</td>\n",
       "      <td>202500023835</td>\n",
       "      <td>CPD</td>\n",
       "      <td>Houchens, Jamell</td>\n",
       "      <td>2025-07-09 17:22:55</td>\n",
       "      <td>Wednesday</td>\n",
       "      <td>False</td>\n",
       "      <td>Summer</td>\n",
       "      <td>Evening</td>\n",
       "      <td>200 5TH ST NW</td>\n",
       "      <td>38.031612</td>\n",
       "      <td>-78.487454</td>\n",
       "      <td>Starr Hill</td>\n",
       "      <td>22903</td>\n",
       "    </tr>\n",
       "    <tr>\n",
       "      <th>2</th>\n",
       "      <td>3</td>\n",
       "      <td>Hit and Run</td>\n",
       "      <td>202500023833</td>\n",
       "      <td>CPD</td>\n",
       "      <td>Hudson, Jesse</td>\n",
       "      <td>2025-07-09 16:40:39</td>\n",
       "      <td>Wednesday</td>\n",
       "      <td>False</td>\n",
       "      <td>Summer</td>\n",
       "      <td>Afternoon</td>\n",
       "      <td>200 E WATER ST</td>\n",
       "      <td>38.02943</td>\n",
       "      <td>-78.481109</td>\n",
       "      <td>North Downtown</td>\n",
       "      <td>22903</td>\n",
       "    </tr>\n",
       "    <tr>\n",
       "      <th>3</th>\n",
       "      <td>4</td>\n",
       "      <td>Larceny - All Other</td>\n",
       "      <td>202500023820</td>\n",
       "      <td>CPD</td>\n",
       "      <td>Hudson, Jesse</td>\n",
       "      <td>2025-07-09 16:27:48</td>\n",
       "      <td>Wednesday</td>\n",
       "      <td>False</td>\n",
       "      <td>Summer</td>\n",
       "      <td>Afternoon</td>\n",
       "      <td>600 E WATER ST</td>\n",
       "      <td>38.028757</td>\n",
       "      <td>-78.477608</td>\n",
       "      <td>North Downtown</td>\n",
       "      <td>22902</td>\n",
       "    </tr>\n",
       "    <tr>\n",
       "      <th>4</th>\n",
       "      <td>5</td>\n",
       "      <td>Fraud-false pretense</td>\n",
       "      <td>202500023797</td>\n",
       "      <td>CPD</td>\n",
       "      <td>Eckenroth, Rachel</td>\n",
       "      <td>2025-07-09 12:45:01</td>\n",
       "      <td>Wednesday</td>\n",
       "      <td>False</td>\n",
       "      <td>Summer</td>\n",
       "      <td>Afternoon</td>\n",
       "      <td>100 KEYSTONE PL</td>\n",
       "      <td>38.015094</td>\n",
       "      <td>-78.471297</td>\n",
       "      <td>Belmont</td>\n",
       "      <td>22902</td>\n",
       "    </tr>\n",
       "  </tbody>\n",
       "</table>\n",
       "</div>"
      ],
      "text/plain": [
       "   RecordID                    Offense    IncidentID Agency  \\\n",
       "0         1        Larceny - All Other  202500023866    CPD   \n",
       "1         2  Death Investigation - DOA  202500023835    CPD   \n",
       "2         3                Hit and Run  202500023833    CPD   \n",
       "3         4        Larceny - All Other  202500023820    CPD   \n",
       "4         5       Fraud-false pretense  202500023797    CPD   \n",
       "\n",
       "      ReportingOfficer                Date  DayOfWeek  Weekend  Season  \\\n",
       "0  Vlasis, Christopher 2025-07-09 19:58:10  Wednesday    False  Summer   \n",
       "1     Houchens, Jamell 2025-07-09 17:22:55  Wednesday    False  Summer   \n",
       "2        Hudson, Jesse 2025-07-09 16:40:39  Wednesday    False  Summer   \n",
       "3        Hudson, Jesse 2025-07-09 16:27:48  Wednesday    False  Summer   \n",
       "4    Eckenroth, Rachel 2025-07-09 12:45:01  Wednesday    False  Summer   \n",
       "\n",
       "   TimeOfDay        FullStreet        lat        lon    neighborhood    zip  \n",
       "0    Evening  500 HARRIS RD, B  38.015099 -78.503687    Fry's Spring  22903  \n",
       "1    Evening     200 5TH ST NW  38.031612 -78.487454      Starr Hill  22903  \n",
       "2  Afternoon    200 E WATER ST   38.02943 -78.481109  North Downtown  22903  \n",
       "3  Afternoon    600 E WATER ST  38.028757 -78.477608  North Downtown  22902  \n",
       "4  Afternoon   100 KEYSTONE PL  38.015094 -78.471297         Belmont  22902  "
      ]
     },
     "execution_count": 14,
     "metadata": {},
     "output_type": "execute_result"
    }
   ],
   "source": [
    "# Now drop the original BlockNumber and StreetName columns\n",
    "df.drop(columns=['BlockNumber', 'StreetName','HourAMPM','HourReported','DateString'], inplace=True)\n",
    "df[\"zip\"] = df[\"zip\"].astype(str)\n",
    "\n",
    "# Fill all missing values in the DataFrame with \"N/A\"\n",
    "df.replace({None: \"N/A\", np.nan: \"N/A\", \"\": \"N/A\"}, inplace=True)\n",
    "df.head()"
   ]
  },
  {
   "cell_type": "code",
   "execution_count": 15,
   "id": "d56a59b0",
   "metadata": {
    "execution": {
     "iopub.execute_input": "2025-07-12T01:11:20.427446Z",
     "iopub.status.busy": "2025-07-12T01:11:20.427206Z",
     "iopub.status.idle": "2025-07-12T01:11:20.445495Z",
     "shell.execute_reply": "2025-07-12T01:11:20.444973Z"
    },
    "papermill": {
     "duration": 0.027671,
     "end_time": "2025-07-12T01:11:20.446499",
     "exception": false,
     "start_time": "2025-07-12T01:11:20.418828",
     "status": "completed"
    },
    "tags": []
   },
   "outputs": [
    {
     "name": "stdout",
     "output_type": "stream",
     "text": [
      "                  MissingCount  MissingPercentage\n",
      "RecordID                     0                0.0\n",
      "Offense                      0                0.0\n",
      "IncidentID                   0                0.0\n",
      "Agency                       0                0.0\n",
      "ReportingOfficer             0                0.0\n",
      "Date                         0                0.0\n",
      "DayOfWeek                    0                0.0\n",
      "Weekend                      0                0.0\n",
      "Season                       0                0.0\n",
      "TimeOfDay                    0                0.0\n",
      "FullStreet                   0                0.0\n",
      "lat                          0                0.0\n",
      "lon                          0                0.0\n",
      "neighborhood                 0                0.0\n",
      "zip                          0                0.0\n"
     ]
    }
   ],
   "source": [
    "missing_info = missing_percentage(df)\n",
    "print(missing_info)"
   ]
  },
  {
   "cell_type": "code",
   "execution_count": 16,
   "id": "3bdc9abd",
   "metadata": {
    "execution": {
     "iopub.execute_input": "2025-07-12T01:11:20.463667Z",
     "iopub.status.busy": "2025-07-12T01:11:20.463099Z",
     "iopub.status.idle": "2025-07-12T01:11:20.467453Z",
     "shell.execute_reply": "2025-07-12T01:11:20.466955Z"
    },
    "papermill": {
     "duration": 0.014096,
     "end_time": "2025-07-12T01:11:20.468468",
     "exception": false,
     "start_time": "2025-07-12T01:11:20.454372",
     "status": "completed"
    },
    "tags": []
   },
   "outputs": [
    {
     "data": {
      "text/plain": [
       "Index(['RecordID', 'Offense', 'IncidentID', 'Agency', 'ReportingOfficer',\n",
       "       'Date', 'DayOfWeek', 'Weekend', 'Season', 'TimeOfDay', 'FullStreet',\n",
       "       'lat', 'lon', 'neighborhood', 'zip'],\n",
       "      dtype='object')"
      ]
     },
     "execution_count": 16,
     "metadata": {},
     "output_type": "execute_result"
    }
   ],
   "source": [
    "df.columns"
   ]
  },
  {
   "cell_type": "code",
   "execution_count": 17,
   "id": "b40d7e9b",
   "metadata": {
    "execution": {
     "iopub.execute_input": "2025-07-12T01:11:20.485279Z",
     "iopub.status.busy": "2025-07-12T01:11:20.484853Z",
     "iopub.status.idle": "2025-07-12T01:11:20.506084Z",
     "shell.execute_reply": "2025-07-12T01:11:20.505503Z"
    },
    "papermill": {
     "duration": 0.030672,
     "end_time": "2025-07-12T01:11:20.507111",
     "exception": false,
     "start_time": "2025-07-12T01:11:20.476439",
     "status": "completed"
    },
    "tags": []
   },
   "outputs": [
    {
     "name": "stdout",
     "output_type": "stream",
     "text": [
      "<class 'pandas.core.frame.DataFrame'>\n",
      "RangeIndex: 25512 entries, 0 to 25511\n",
      "Data columns (total 15 columns):\n",
      " #   Column            Non-Null Count  Dtype         \n",
      "---  ------            --------------  -----         \n",
      " 0   RecordID          25512 non-null  int64         \n",
      " 1   Offense           25512 non-null  object        \n",
      " 2   IncidentID        25512 non-null  object        \n",
      " 3   Agency            25512 non-null  object        \n",
      " 4   ReportingOfficer  25512 non-null  object        \n",
      " 5   Date              25512 non-null  datetime64[ns]\n",
      " 6   DayOfWeek         25512 non-null  object        \n",
      " 7   Weekend           25512 non-null  bool          \n",
      " 8   Season            25512 non-null  object        \n",
      " 9   TimeOfDay         25512 non-null  object        \n",
      " 10  FullStreet        25512 non-null  object        \n",
      " 11  lat               25512 non-null  object        \n",
      " 12  lon               25512 non-null  object        \n",
      " 13  neighborhood      25512 non-null  object        \n",
      " 14  zip               25512 non-null  object        \n",
      "dtypes: bool(1), datetime64[ns](1), int64(1), object(12)\n",
      "memory usage: 2.7+ MB\n"
     ]
    }
   ],
   "source": [
    "df.info()"
   ]
  },
  {
   "cell_type": "markdown",
   "id": "13d39d41",
   "metadata": {
    "papermill": {
     "duration": 0.008681,
     "end_time": "2025-07-12T01:11:20.523836",
     "exception": false,
     "start_time": "2025-07-12T01:11:20.515155",
     "status": "completed"
    },
    "tags": []
   },
   "source": [
    "### Export Clean Data"
   ]
  },
  {
   "cell_type": "code",
   "execution_count": 18,
   "id": "236b9e1d",
   "metadata": {
    "execution": {
     "iopub.execute_input": "2025-07-12T01:11:20.542226Z",
     "iopub.status.busy": "2025-07-12T01:11:20.541729Z",
     "iopub.status.idle": "2025-07-12T01:11:29.728479Z",
     "shell.execute_reply": "2025-07-12T01:11:29.727843Z"
    },
    "papermill": {
     "duration": 9.196569,
     "end_time": "2025-07-12T01:11:29.729598",
     "exception": false,
     "start_time": "2025-07-12T01:11:20.533029",
     "status": "completed"
    },
    "tags": []
   },
   "outputs": [
    {
     "name": "stdout",
     "output_type": "stream",
     "text": [
      "Project Root: /home/runner/work/crime-data/crime-data\n"
     ]
    },
    {
     "name": "stdout",
     "output_type": "stream",
     "text": [
      "Data saved to: /home/runner/work/crime-data/crime-data/data/charlottesville_crime_incidents.csv\n"
     ]
    },
    {
     "name": "stdout",
     "output_type": "stream",
     "text": [
      "Excel saved to: /home/runner/work/crime-data/crime-data/data/charlottesville_crime_incidents.xlsx\n"
     ]
    }
   ],
   "source": [
    "# Determine the project root (assuming papermill is run from the repository root)\n",
    "project_root = os.getcwd()\n",
    "print(\"Project Root:\", project_root)\n",
    "\n",
    "# Set the data directory within the project root\n",
    "data_dir = os.path.join(project_root, \"data\")\n",
    "\n",
    "# Ensure the \"data\" directory exists (create it if it doesn't)\n",
    "if not os.path.exists(data_dir):\n",
    "    os.makedirs(data_dir)\n",
    "\n",
    "# Export the DataFrame to CSV in the \"data\" folder located in the project root\n",
    "csv_path = os.path.join(data_dir, \"charlottesville_crime_incidents.csv\")\n",
    "df.to_csv(csv_path, index=False)\n",
    "print(\"Data saved to:\", csv_path)\n",
    "\n",
    "# Construct the path to your Excel file\n",
    "excel_path = os.path.join(data_dir, \"charlottesville_crime_incidents.xlsx\")\n",
    "\n",
    "# Export the DataFrame to Excel\n",
    "df.to_excel(excel_path, index=False)\n",
    "print(\"Excel saved to:\", excel_path)\n"
   ]
  }
 ],
 "metadata": {
  "kernelspec": {
   "display_name": "Python 3",
   "language": "python",
   "name": "python3"
  },
  "language_info": {
   "codemirror_mode": {
    "name": "ipython",
    "version": 3
   },
   "file_extension": ".py",
   "mimetype": "text/x-python",
   "name": "python",
   "nbconvert_exporter": "python",
   "pygments_lexer": "ipython3",
   "version": "3.9.23"
  },
  "papermill": {
   "default_parameters": {},
   "duration": 135.989573,
   "end_time": "2025-07-12T01:11:30.154047",
   "environment_variables": {},
   "exception": null,
   "input_path": "notebook/Crime Data.ipynb",
   "output_path": "notebook/Crime Data_output.ipynb",
   "parameters": {},
   "start_time": "2025-07-12T01:09:14.164474",
   "version": "2.6.0"
  }
 },
 "nbformat": 4,
 "nbformat_minor": 5
}