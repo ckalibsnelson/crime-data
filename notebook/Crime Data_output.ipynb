{
 "cells": [
  {
   "cell_type": "markdown",
   "id": "ee3ec319",
   "metadata": {
    "papermill": {
     "duration": 0.00444,
     "end_time": "2025-07-10T01:06:34.592859",
     "exception": false,
     "start_time": "2025-07-10T01:06:34.588419",
     "status": "completed"
    },
    "tags": []
   },
   "source": [
    "# Charlottesville Open Data Porttal: Crime Data"
   ]
  },
  {
   "cell_type": "markdown",
   "id": "0a37e790",
   "metadata": {
    "papermill": {
     "duration": 0.003202,
     "end_time": "2025-07-10T01:06:34.599651",
     "exception": false,
     "start_time": "2025-07-10T01:06:34.596449",
     "status": "completed"
    },
    "tags": []
   },
   "source": [
    "## Import Relevant Librarires & Set WD"
   ]
  },
  {
   "cell_type": "code",
   "execution_count": 1,
   "id": "a3b67caa",
   "metadata": {
    "execution": {
     "iopub.execute_input": "2025-07-10T01:06:34.607673Z",
     "iopub.status.busy": "2025-07-10T01:06:34.607194Z",
     "iopub.status.idle": "2025-07-10T01:06:35.124861Z",
     "shell.execute_reply": "2025-07-10T01:06:35.124101Z"
    },
    "papermill": {
     "duration": 0.523412,
     "end_time": "2025-07-10T01:06:35.126304",
     "exception": false,
     "start_time": "2025-07-10T01:06:34.602892",
     "status": "completed"
    },
    "tags": []
   },
   "outputs": [],
   "source": [
    "import requests\n",
    "import pandas as pd\n",
    "import numpy as np\n",
    "import pickle\n",
    "import googlemaps\n",
    "import plotly.express as px\n",
    "from geopy.geocoders import Nominatim\n",
    "import time\n",
    "from dotenv import load_dotenv\n",
    "import os\n",
    "\n",
    "env_path = os.path.join(\"..\", \".env\")\n",
    "#print(\"Looking for .env file at:\", os.path.abspath(env_path))\n",
    "load_dotenv(dotenv_path=env_path)\n",
    "\n",
    "# Retrieve the variables\n",
    "GOOGLE_API_KEY = os.getenv(\"GOOGLE_API_KEY\")\n",
    "WORKING_DIR = os.getenv(\"WORKING_DIR\")\n",
    "\n",
    "if GOOGLE_API_KEY is None or WORKING_DIR is None:\n",
    "    raise RuntimeError(\"No configuration found. Please ensure that your .env file exists with the required variables, or create a local config.py file.\")\n",
    "\n",
    "#print(\"Google API Key:\", GOOGLE_API_KEY)\n",
    "#print(\"Working Directory:\", WORKING_DIR)"
   ]
  },
  {
   "cell_type": "markdown",
   "id": "f995d7d0",
   "metadata": {
    "papermill": {
     "duration": 0.003333,
     "end_time": "2025-07-10T01:06:35.133350",
     "exception": false,
     "start_time": "2025-07-10T01:06:35.130017",
     "status": "completed"
    },
    "tags": []
   },
   "source": [
    "## Import Data\n",
    "\n",
    "URL: https://opendata.charlottesville.org/datasets/charlottesville::crime-data/about"
   ]
  },
  {
   "cell_type": "code",
   "execution_count": 2,
   "id": "c4cd7dbc",
   "metadata": {
    "execution": {
     "iopub.execute_input": "2025-07-10T01:06:35.141186Z",
     "iopub.status.busy": "2025-07-10T01:06:35.140676Z",
     "iopub.status.idle": "2025-07-10T01:07:49.135962Z",
     "shell.execute_reply": "2025-07-10T01:07:49.135250Z"
    },
    "papermill": {
     "duration": 74.003284,
     "end_time": "2025-07-10T01:07:49.139988",
     "exception": false,
     "start_time": "2025-07-10T01:06:35.136704",
     "status": "completed"
    },
    "tags": []
   },
   "outputs": [
    {
     "name": "stdout",
     "output_type": "stream",
     "text": [
      "Total records imported: 25512\n"
     ]
    }
   ],
   "source": [
    "# Define the endpoint and initial parameters.\n",
    "url = \"https://gisweb.charlottesville.org/arcgis/rest/services/OpenData_2/MapServer/6/query\"\n",
    "params = {\n",
    "    \"where\": \"1=1\",\n",
    "    \"outFields\": \"*\",\n",
    "    \"outSR\": 4326,\n",
    "    \"f\": \"json\",\n",
    "    \"resultOffset\": 0,       # Starting index for results\n",
    "    \"resultRecordCount\": 10000  # Maximum records per batch (if allowed by the API)\n",
    "}\n",
    "\n",
    "records = []\n",
    "\n",
    "while True:\n",
    "    response = requests.get(url, params=params)\n",
    "    response.raise_for_status()\n",
    "    data = response.json()\n",
    "    \n",
    "    # Get the current batch of features.\n",
    "    features = data.get(\"features\", [])\n",
    "    if not features:\n",
    "        break\n",
    "\n",
    "    # Extract the attributes from the features.\n",
    "    batch_records = [feature.get(\"attributes\", {}) for feature in features]\n",
    "    records.extend(batch_records)\n",
    "    \n",
    "    # If the batch size is less than the requested count, we reached the end.\n",
    "    if len(features) < params[\"resultRecordCount\"]:\n",
    "        break\n",
    "\n",
    "    # Update the resultOffset for the next batch.\n",
    "    params[\"resultOffset\"] += params[\"resultRecordCount\"]\n",
    "\n",
    "# Create a DataFrame from the combined records.\n",
    "df = pd.DataFrame(records)\n",
    "print(\"Total records imported:\", len(df))\n"
   ]
  },
  {
   "cell_type": "code",
   "execution_count": 3,
   "id": "898ab539",
   "metadata": {
    "execution": {
     "iopub.execute_input": "2025-07-10T01:07:49.148021Z",
     "iopub.status.busy": "2025-07-10T01:07:49.147504Z",
     "iopub.status.idle": "2025-07-10T01:07:49.160333Z",
     "shell.execute_reply": "2025-07-10T01:07:49.159624Z"
    },
    "papermill": {
     "duration": 0.017873,
     "end_time": "2025-07-10T01:07:49.161345",
     "exception": false,
     "start_time": "2025-07-10T01:07:49.143472",
     "status": "completed"
    },
    "tags": []
   },
   "outputs": [
    {
     "data": {
      "text/html": [
       "<div>\n",
       "<style scoped>\n",
       "    .dataframe tbody tr th:only-of-type {\n",
       "        vertical-align: middle;\n",
       "    }\n",
       "\n",
       "    .dataframe tbody tr th {\n",
       "        vertical-align: top;\n",
       "    }\n",
       "\n",
       "    .dataframe thead th {\n",
       "        text-align: right;\n",
       "    }\n",
       "</style>\n",
       "<table border=\"1\" class=\"dataframe\">\n",
       "  <thead>\n",
       "    <tr style=\"text-align: right;\">\n",
       "      <th></th>\n",
       "      <th>RecordID</th>\n",
       "      <th>Offense</th>\n",
       "      <th>IncidentID</th>\n",
       "      <th>BlockNumber</th>\n",
       "      <th>StreetName</th>\n",
       "      <th>Agency</th>\n",
       "      <th>DateReported</th>\n",
       "      <th>HourReported</th>\n",
       "      <th>ReportingOfficer</th>\n",
       "    </tr>\n",
       "  </thead>\n",
       "  <tbody>\n",
       "    <tr>\n",
       "      <th>0</th>\n",
       "      <td>1</td>\n",
       "      <td>Larceny - From Motor Vehicle</td>\n",
       "      <td>202500023520</td>\n",
       "      <td>100</td>\n",
       "      <td>10TH ST NW</td>\n",
       "      <td>CPD</td>\n",
       "      <td>1751911896000</td>\n",
       "      <td>1411</td>\n",
       "      <td>O'Briant, Landon</td>\n",
       "    </tr>\n",
       "    <tr>\n",
       "      <th>1</th>\n",
       "      <td>2</td>\n",
       "      <td>Vandalism</td>\n",
       "      <td>202500023515</td>\n",
       "      <td>1100</td>\n",
       "      <td>KENSINGTON AVE</td>\n",
       "      <td>CPD</td>\n",
       "      <td>1751910430000</td>\n",
       "      <td>1347</td>\n",
       "      <td>Mian, Ghulam</td>\n",
       "    </tr>\n",
       "    <tr>\n",
       "      <th>2</th>\n",
       "      <td>3</td>\n",
       "      <td>Fraud-wire fraud</td>\n",
       "      <td>202500023499</td>\n",
       "      <td>1600</td>\n",
       "      <td>YORKTOWN DR</td>\n",
       "      <td>CPD</td>\n",
       "      <td>1751903788000</td>\n",
       "      <td>1156</td>\n",
       "      <td>O'Briant, Landon</td>\n",
       "    </tr>\n",
       "    <tr>\n",
       "      <th>3</th>\n",
       "      <td>4</td>\n",
       "      <td>Larceny - Theft from Building</td>\n",
       "      <td>202500023434</td>\n",
       "      <td>100</td>\n",
       "      <td>LANKFORD AVE, 5</td>\n",
       "      <td>CPD</td>\n",
       "      <td>1751864159000</td>\n",
       "      <td>0055</td>\n",
       "      <td>Troche, Nicholas</td>\n",
       "    </tr>\n",
       "    <tr>\n",
       "      <th>4</th>\n",
       "      <td>5</td>\n",
       "      <td>Domestic Disturbance</td>\n",
       "      <td>202500023423</td>\n",
       "      <td>300</td>\n",
       "      <td>UNIVERSITY CIR, 202</td>\n",
       "      <td>CPD</td>\n",
       "      <td>1751854292000</td>\n",
       "      <td>2211</td>\n",
       "      <td>Oakes, Maithe</td>\n",
       "    </tr>\n",
       "  </tbody>\n",
       "</table>\n",
       "</div>"
      ],
      "text/plain": [
       "   RecordID                        Offense    IncidentID BlockNumber  \\\n",
       "0         1   Larceny - From Motor Vehicle  202500023520         100   \n",
       "1         2                      Vandalism  202500023515        1100   \n",
       "2         3               Fraud-wire fraud  202500023499        1600   \n",
       "3         4  Larceny - Theft from Building  202500023434         100   \n",
       "4         5           Domestic Disturbance  202500023423         300   \n",
       "\n",
       "            StreetName Agency   DateReported HourReported  ReportingOfficer  \n",
       "0           10TH ST NW    CPD  1751911896000         1411  O'Briant, Landon  \n",
       "1       KENSINGTON AVE    CPD  1751910430000         1347      Mian, Ghulam  \n",
       "2          YORKTOWN DR    CPD  1751903788000         1156  O'Briant, Landon  \n",
       "3      LANKFORD AVE, 5    CPD  1751864159000         0055  Troche, Nicholas  \n",
       "4  UNIVERSITY CIR, 202    CPD  1751854292000         2211     Oakes, Maithe  "
      ]
     },
     "execution_count": 3,
     "metadata": {},
     "output_type": "execute_result"
    }
   ],
   "source": [
    "df.head()"
   ]
  },
  {
   "cell_type": "code",
   "execution_count": 4,
   "id": "1a8ec22e",
   "metadata": {
    "execution": {
     "iopub.execute_input": "2025-07-10T01:07:49.169983Z",
     "iopub.status.busy": "2025-07-10T01:07:49.169453Z",
     "iopub.status.idle": "2025-07-10T01:07:49.174184Z",
     "shell.execute_reply": "2025-07-10T01:07:49.173505Z"
    },
    "papermill": {
     "duration": 0.010039,
     "end_time": "2025-07-10T01:07:49.175223",
     "exception": false,
     "start_time": "2025-07-10T01:07:49.165184",
     "status": "completed"
    },
    "tags": []
   },
   "outputs": [
    {
     "data": {
      "text/plain": [
       "Index(['RecordID', 'Offense', 'IncidentID', 'BlockNumber', 'StreetName',\n",
       "       'Agency', 'DateReported', 'HourReported', 'ReportingOfficer'],\n",
       "      dtype='object')"
      ]
     },
     "execution_count": 4,
     "metadata": {},
     "output_type": "execute_result"
    }
   ],
   "source": [
    "df.columns"
   ]
  },
  {
   "cell_type": "code",
   "execution_count": 5,
   "id": "71dde3ed",
   "metadata": {
    "execution": {
     "iopub.execute_input": "2025-07-10T01:07:49.185651Z",
     "iopub.status.busy": "2025-07-10T01:07:49.184968Z",
     "iopub.status.idle": "2025-07-10T01:07:49.210498Z",
     "shell.execute_reply": "2025-07-10T01:07:49.209784Z"
    },
    "papermill": {
     "duration": 0.032531,
     "end_time": "2025-07-10T01:07:49.211563",
     "exception": false,
     "start_time": "2025-07-10T01:07:49.179032",
     "status": "completed"
    },
    "tags": []
   },
   "outputs": [
    {
     "name": "stdout",
     "output_type": "stream",
     "text": [
      "<class 'pandas.core.frame.DataFrame'>\n",
      "RangeIndex: 25512 entries, 0 to 25511\n",
      "Data columns (total 9 columns):\n",
      " #   Column            Non-Null Count  Dtype \n",
      "---  ------            --------------  ----- \n",
      " 0   RecordID          25512 non-null  int64 \n",
      " 1   Offense           25512 non-null  object\n",
      " 2   IncidentID        25512 non-null  object\n",
      " 3   BlockNumber       25512 non-null  object\n",
      " 4   StreetName        25512 non-null  object\n",
      " 5   Agency            25512 non-null  object\n",
      " 6   DateReported      25512 non-null  int64 \n",
      " 7   HourReported      25512 non-null  object\n",
      " 8   ReportingOfficer  25495 non-null  object\n",
      "dtypes: int64(2), object(7)\n",
      "memory usage: 1.8+ MB\n"
     ]
    }
   ],
   "source": [
    "df.info()"
   ]
  },
  {
   "cell_type": "markdown",
   "id": "d768b09c",
   "metadata": {
    "papermill": {
     "duration": 0.003667,
     "end_time": "2025-07-10T01:07:49.219128",
     "exception": false,
     "start_time": "2025-07-10T01:07:49.215461",
     "status": "completed"
    },
    "tags": []
   },
   "source": [
    "### Missing Values"
   ]
  },
  {
   "cell_type": "code",
   "execution_count": 6,
   "id": "36ac909e",
   "metadata": {
    "execution": {
     "iopub.execute_input": "2025-07-10T01:07:49.251052Z",
     "iopub.status.busy": "2025-07-10T01:07:49.250579Z",
     "iopub.status.idle": "2025-07-10T01:07:49.275216Z",
     "shell.execute_reply": "2025-07-10T01:07:49.274499Z"
    },
    "papermill": {
     "duration": 0.030514,
     "end_time": "2025-07-10T01:07:49.276368",
     "exception": false,
     "start_time": "2025-07-10T01:07:49.245854",
     "status": "completed"
    },
    "tags": []
   },
   "outputs": [
    {
     "name": "stdout",
     "output_type": "stream",
     "text": [
      "                  MissingCount  MissingPercentage\n",
      "RecordID                     0               0.00\n",
      "Offense                      0               0.00\n",
      "IncidentID                   0               0.00\n",
      "BlockNumber                  0               0.00\n",
      "StreetName                   0               0.00\n",
      "Agency                       0               0.00\n",
      "DateReported                 0               0.00\n",
      "HourReported                 0               0.00\n",
      "ReportingOfficer            17               0.07\n"
     ]
    }
   ],
   "source": [
    "def missing_percentage(df):\n",
    "    \"\"\"\n",
    "    Returns a DataFrame with the count and percentage of missing values for each column.\n",
    "    \n",
    "    Parameters:\n",
    "        df (pd.DataFrame): The input DataFrame.\n",
    "    \n",
    "    Returns:\n",
    "        pd.DataFrame: A DataFrame with columns 'MissingCount' and 'MissingPercentage'.\n",
    "    \"\"\"\n",
    "    total_rows = len(df)\n",
    "    missing_count = df.isnull().sum()\n",
    "    missing_percent = (missing_count / total_rows) * 100\n",
    "    \n",
    "    result = pd.DataFrame({\n",
    "        'MissingCount': missing_count,\n",
    "        'MissingPercentage': missing_percent.round(2)\n",
    "    })\n",
    "    \n",
    "    return result\n",
    "\n",
    "# Example usage:\n",
    "missing_info = missing_percentage(df)\n",
    "print(missing_info)\n"
   ]
  },
  {
   "cell_type": "markdown",
   "id": "9971c36d",
   "metadata": {
    "papermill": {
     "duration": 0.003769,
     "end_time": "2025-07-10T01:07:49.284097",
     "exception": false,
     "start_time": "2025-07-10T01:07:49.280328",
     "status": "completed"
    },
    "tags": []
   },
   "source": [
    "## Data Preparation"
   ]
  },
  {
   "cell_type": "markdown",
   "id": "73f22083",
   "metadata": {
    "papermill": {
     "duration": 0.003727,
     "end_time": "2025-07-10T01:07:49.291605",
     "exception": false,
     "start_time": "2025-07-10T01:07:49.287878",
     "status": "completed"
    },
    "tags": []
   },
   "source": [
    "### Data Conversion"
   ]
  },
  {
   "cell_type": "code",
   "execution_count": 7,
   "id": "5ac46a94",
   "metadata": {
    "execution": {
     "iopub.execute_input": "2025-07-10T01:07:49.300413Z",
     "iopub.status.busy": "2025-07-10T01:07:49.299878Z",
     "iopub.status.idle": "2025-07-10T01:07:49.660167Z",
     "shell.execute_reply": "2025-07-10T01:07:49.659430Z"
    },
    "papermill": {
     "duration": 0.365874,
     "end_time": "2025-07-10T01:07:49.661349",
     "exception": false,
     "start_time": "2025-07-10T01:07:49.295475",
     "status": "completed"
    },
    "tags": []
   },
   "outputs": [
    {
     "data": {
      "text/html": [
       "<div>\n",
       "<style scoped>\n",
       "    .dataframe tbody tr th:only-of-type {\n",
       "        vertical-align: middle;\n",
       "    }\n",
       "\n",
       "    .dataframe tbody tr th {\n",
       "        vertical-align: top;\n",
       "    }\n",
       "\n",
       "    .dataframe thead th {\n",
       "        text-align: right;\n",
       "    }\n",
       "</style>\n",
       "<table border=\"1\" class=\"dataframe\">\n",
       "  <thead>\n",
       "    <tr style=\"text-align: right;\">\n",
       "      <th></th>\n",
       "      <th>RecordID</th>\n",
       "      <th>Offense</th>\n",
       "      <th>IncidentID</th>\n",
       "      <th>BlockNumber</th>\n",
       "      <th>StreetName</th>\n",
       "      <th>Agency</th>\n",
       "      <th>HourReported</th>\n",
       "      <th>ReportingOfficer</th>\n",
       "      <th>Date</th>\n",
       "      <th>DateString</th>\n",
       "      <th>DayOfWeek</th>\n",
       "      <th>Weekend</th>\n",
       "      <th>Season</th>\n",
       "      <th>HourAMPM</th>\n",
       "      <th>TimeOfDay</th>\n",
       "    </tr>\n",
       "  </thead>\n",
       "  <tbody>\n",
       "    <tr>\n",
       "      <th>0</th>\n",
       "      <td>1</td>\n",
       "      <td>Larceny - From Motor Vehicle</td>\n",
       "      <td>202500023520</td>\n",
       "      <td>100</td>\n",
       "      <td>10TH ST NW</td>\n",
       "      <td>CPD</td>\n",
       "      <td>1411</td>\n",
       "      <td>O'Briant, Landon</td>\n",
       "      <td>2025-07-07 14:11:36</td>\n",
       "      <td>2025-07-07 02:11:36 PM</td>\n",
       "      <td>Monday</td>\n",
       "      <td>False</td>\n",
       "      <td>Summer</td>\n",
       "      <td>02:11 PM</td>\n",
       "      <td>Afternoon</td>\n",
       "    </tr>\n",
       "    <tr>\n",
       "      <th>1</th>\n",
       "      <td>2</td>\n",
       "      <td>Vandalism</td>\n",
       "      <td>202500023515</td>\n",
       "      <td>1100</td>\n",
       "      <td>KENSINGTON AVE</td>\n",
       "      <td>CPD</td>\n",
       "      <td>1347</td>\n",
       "      <td>Mian, Ghulam</td>\n",
       "      <td>2025-07-07 13:47:10</td>\n",
       "      <td>2025-07-07 01:47:10 PM</td>\n",
       "      <td>Monday</td>\n",
       "      <td>False</td>\n",
       "      <td>Summer</td>\n",
       "      <td>01:47 PM</td>\n",
       "      <td>Afternoon</td>\n",
       "    </tr>\n",
       "    <tr>\n",
       "      <th>2</th>\n",
       "      <td>3</td>\n",
       "      <td>Fraud-wire fraud</td>\n",
       "      <td>202500023499</td>\n",
       "      <td>1600</td>\n",
       "      <td>YORKTOWN DR</td>\n",
       "      <td>CPD</td>\n",
       "      <td>1156</td>\n",
       "      <td>O'Briant, Landon</td>\n",
       "      <td>2025-07-07 11:56:28</td>\n",
       "      <td>2025-07-07 11:56:28 AM</td>\n",
       "      <td>Monday</td>\n",
       "      <td>False</td>\n",
       "      <td>Summer</td>\n",
       "      <td>11:56 AM</td>\n",
       "      <td>Morning</td>\n",
       "    </tr>\n",
       "    <tr>\n",
       "      <th>3</th>\n",
       "      <td>4</td>\n",
       "      <td>Larceny - Theft from Building</td>\n",
       "      <td>202500023434</td>\n",
       "      <td>100</td>\n",
       "      <td>LANKFORD AVE, 5</td>\n",
       "      <td>CPD</td>\n",
       "      <td>0055</td>\n",
       "      <td>Troche, Nicholas</td>\n",
       "      <td>2025-07-07 00:55:59</td>\n",
       "      <td>2025-07-07 12:55:59 AM</td>\n",
       "      <td>Monday</td>\n",
       "      <td>False</td>\n",
       "      <td>Summer</td>\n",
       "      <td>12:55 AM</td>\n",
       "      <td>Night</td>\n",
       "    </tr>\n",
       "    <tr>\n",
       "      <th>4</th>\n",
       "      <td>5</td>\n",
       "      <td>Domestic Disturbance</td>\n",
       "      <td>202500023423</td>\n",
       "      <td>300</td>\n",
       "      <td>UNIVERSITY CIR, 202</td>\n",
       "      <td>CPD</td>\n",
       "      <td>2211</td>\n",
       "      <td>Oakes, Maithe</td>\n",
       "      <td>2025-07-06 22:11:32</td>\n",
       "      <td>2025-07-06 10:11:32 PM</td>\n",
       "      <td>Sunday</td>\n",
       "      <td>True</td>\n",
       "      <td>Summer</td>\n",
       "      <td>10:11 PM</td>\n",
       "      <td>Night</td>\n",
       "    </tr>\n",
       "  </tbody>\n",
       "</table>\n",
       "</div>"
      ],
      "text/plain": [
       "   RecordID                        Offense    IncidentID BlockNumber  \\\n",
       "0         1   Larceny - From Motor Vehicle  202500023520         100   \n",
       "1         2                      Vandalism  202500023515        1100   \n",
       "2         3               Fraud-wire fraud  202500023499        1600   \n",
       "3         4  Larceny - Theft from Building  202500023434         100   \n",
       "4         5           Domestic Disturbance  202500023423         300   \n",
       "\n",
       "            StreetName Agency HourReported  ReportingOfficer  \\\n",
       "0           10TH ST NW    CPD         1411  O'Briant, Landon   \n",
       "1       KENSINGTON AVE    CPD         1347      Mian, Ghulam   \n",
       "2          YORKTOWN DR    CPD         1156  O'Briant, Landon   \n",
       "3      LANKFORD AVE, 5    CPD         0055  Troche, Nicholas   \n",
       "4  UNIVERSITY CIR, 202    CPD         2211     Oakes, Maithe   \n",
       "\n",
       "                 Date              DateString DayOfWeek  Weekend  Season  \\\n",
       "0 2025-07-07 14:11:36  2025-07-07 02:11:36 PM    Monday    False  Summer   \n",
       "1 2025-07-07 13:47:10  2025-07-07 01:47:10 PM    Monday    False  Summer   \n",
       "2 2025-07-07 11:56:28  2025-07-07 11:56:28 AM    Monday    False  Summer   \n",
       "3 2025-07-07 00:55:59  2025-07-07 12:55:59 AM    Monday    False  Summer   \n",
       "4 2025-07-06 22:11:32  2025-07-06 10:11:32 PM    Sunday     True  Summer   \n",
       "\n",
       "   HourAMPM  TimeOfDay  \n",
       "0  02:11 PM  Afternoon  \n",
       "1  01:47 PM  Afternoon  \n",
       "2  11:56 AM    Morning  \n",
       "3  12:55 AM      Night  \n",
       "4  10:11 PM      Night  "
      ]
     },
     "execution_count": 7,
     "metadata": {},
     "output_type": "execute_result"
    }
   ],
   "source": [
    "def convert_and_categorize_datereported(df, col='DateReported'):\n",
    "    \"\"\"\n",
    "    Converts an epoch (in milliseconds) date column into a timezone-aware datetime,\n",
    "    converts it to Eastern Time, and then creates columns for day-of-week, weekend flag,\n",
    "    season, 12-hour formatted time, and time-of-day. Keeps both a real datetime column\n",
    "    (Date) and a string representation (DateString).\n",
    "    \"\"\"\n",
    "    import pandas as pd\n",
    "\n",
    "    # Convert the epoch timestamp to a pandas datetime object as UTC, then convert to US/Eastern.\n",
    "    df[\"DateReported_dt\"] = (\n",
    "        pd.to_datetime(df[col], unit=\"ms\", errors=\"coerce\", utc=True)\n",
    "        .dt.tz_convert(\"US/Eastern\")\n",
    "    )\n",
    "    \n",
    "    # Create a true datetime column (remove timezone if you prefer naive datetime)\n",
    "    df[\"Date\"] = df[\"DateReported_dt\"].dt.tz_localize(None)\n",
    "\n",
    "    # Optionally, create a separate string-formatted column\n",
    "    df[\"DateString\"] = df[\"DateReported_dt\"].dt.strftime(\"%Y-%m-%d %I:%M:%S %p\")\n",
    "    \n",
    "    # DayOfWeek\n",
    "    df[\"DayOfWeek\"] = df[\"DateReported_dt\"].dt.day_name()\n",
    "    \n",
    "    # Weekend\n",
    "    df[\"Weekend\"] = df[\"DayOfWeek\"].isin([\"Saturday\", \"Sunday\"])\n",
    "    \n",
    "    # Helper function to determine the season\n",
    "    def get_season(dt):\n",
    "        month = dt.month\n",
    "        day = dt.day\n",
    "        # Approximate Northern Hemisphere season boundaries:\n",
    "        if (month == 12 and day >= 21) or (month < 3) or (month == 3 and day < 20):\n",
    "            return \"Winter\"\n",
    "        elif (month == 3 and day >= 20) or (month < 6) or (month == 6 and day < 21):\n",
    "            return \"Spring\"\n",
    "        elif (month == 6 and day >= 21) or (month < 9) or (month == 9 and day < 22):\n",
    "            return \"Summer\"\n",
    "        else:\n",
    "            return \"Autumn\"\n",
    "    \n",
    "    df[\"Season\"] = df[\"DateReported_dt\"].apply(get_season)\n",
    "    \n",
    "    # 12-hour formatted time (HourAMPM)\n",
    "    df[\"HourAMPM\"] = df[\"DateReported_dt\"].dt.strftime(\"%I:%M %p\")\n",
    "    \n",
    "    # Extract hour (0-23) for time-of-day\n",
    "    df[\"HourValue\"] = df[\"DateReported_dt\"].dt.hour\n",
    "    \n",
    "    def time_of_day(hour):\n",
    "        if pd.isnull(hour):\n",
    "            return None\n",
    "        if 5 <= hour < 12:\n",
    "            return \"Morning\"\n",
    "        elif 12 <= hour < 17:\n",
    "            return \"Afternoon\"\n",
    "        elif 17 <= hour < 21:\n",
    "            return \"Evening\"\n",
    "        else:\n",
    "            return \"Night\"\n",
    "    \n",
    "    df[\"TimeOfDay\"] = df[\"HourValue\"].apply(time_of_day)\n",
    "    \n",
    "    # Drop columns you no longer need\n",
    "    df.drop(columns=[col, \"DateReported_dt\", \"HourValue\"], inplace=True)\n",
    "    \n",
    "    return df\n",
    "\n",
    "# Example usage:\n",
    "df = convert_and_categorize_datereported(df)\n",
    "df.head()\n"
   ]
  },
  {
   "cell_type": "code",
   "execution_count": 8,
   "id": "63f80d8b",
   "metadata": {
    "execution": {
     "iopub.execute_input": "2025-07-10T01:07:49.670728Z",
     "iopub.status.busy": "2025-07-10T01:07:49.670525Z",
     "iopub.status.idle": "2025-07-10T01:07:49.696881Z",
     "shell.execute_reply": "2025-07-10T01:07:49.696211Z"
    },
    "papermill": {
     "duration": 0.032134,
     "end_time": "2025-07-10T01:07:49.697872",
     "exception": false,
     "start_time": "2025-07-10T01:07:49.665738",
     "status": "completed"
    },
    "tags": []
   },
   "outputs": [
    {
     "name": "stdout",
     "output_type": "stream",
     "text": [
      "<class 'pandas.core.frame.DataFrame'>\n",
      "RangeIndex: 25512 entries, 0 to 25511\n",
      "Data columns (total 15 columns):\n",
      " #   Column            Non-Null Count  Dtype         \n",
      "---  ------            --------------  -----         \n",
      " 0   RecordID          25512 non-null  int64         \n",
      " 1   Offense           25512 non-null  object        \n",
      " 2   IncidentID        25512 non-null  object        \n",
      " 3   BlockNumber       25512 non-null  object        \n",
      " 4   StreetName        25512 non-null  object        \n",
      " 5   Agency            25512 non-null  object        \n",
      " 6   HourReported      25512 non-null  object        \n",
      " 7   ReportingOfficer  25495 non-null  object        \n",
      " 8   Date              25512 non-null  datetime64[ns]\n",
      " 9   DateString        25512 non-null  object        \n",
      " 10  DayOfWeek         25512 non-null  object        \n",
      " 11  Weekend           25512 non-null  bool          \n",
      " 12  Season            25512 non-null  object        \n",
      " 13  HourAMPM          25512 non-null  object        \n",
      " 14  TimeOfDay         25512 non-null  object        \n",
      "dtypes: bool(1), datetime64[ns](1), int64(1), object(12)\n",
      "memory usage: 2.7+ MB\n"
     ]
    }
   ],
   "source": [
    "df.info()"
   ]
  },
  {
   "cell_type": "markdown",
   "id": "dc930cd5",
   "metadata": {
    "papermill": {
     "duration": 0.004006,
     "end_time": "2025-07-10T01:07:49.706200",
     "exception": false,
     "start_time": "2025-07-10T01:07:49.702194",
     "status": "completed"
    },
    "tags": []
   },
   "source": [
    "### Coordinates"
   ]
  },
  {
   "cell_type": "code",
   "execution_count": 9,
   "id": "4137472f",
   "metadata": {
    "execution": {
     "iopub.execute_input": "2025-07-10T01:07:49.715522Z",
     "iopub.status.busy": "2025-07-10T01:07:49.715058Z",
     "iopub.status.idle": "2025-07-10T01:07:49.917849Z",
     "shell.execute_reply": "2025-07-10T01:07:49.917263Z"
    },
    "papermill": {
     "duration": 0.208548,
     "end_time": "2025-07-10T01:07:49.918831",
     "exception": false,
     "start_time": "2025-07-10T01:07:49.710283",
     "status": "completed"
    },
    "tags": []
   },
   "outputs": [
    {
     "name": "stdout",
     "output_type": "stream",
     "text": [
      "Loaded geocode cache.\n",
      "Error geocoding 1100 KENSINGTON AVE: REQUEST_DENIED (You must enable Billing on the Google Cloud Project at https://console.cloud.google.com/project/_/billing/enable Learn more at https://developers.google.com/maps/gmp-get-started)\n",
      "Geocoded 1100 KENSINGTON AVE: None, None\n",
      "Error geocoding 1600 YORKTOWN DR: REQUEST_DENIED (You must enable Billing on the Google Cloud Project at https://console.cloud.google.com/project/_/billing/enable Learn more at https://developers.google.com/maps/gmp-get-started)\n",
      "Geocoded 1600 YORKTOWN DR: None, None\n",
      "Error geocoding 300 UNIVERSITY CIR, 202: REQUEST_DENIED (You must enable Billing on the Google Cloud Project at https://console.cloud.google.com/project/_/billing/enable Learn more at https://developers.google.com/maps/gmp-get-started)\n",
      "Geocoded 300 UNIVERSITY CIR, 202: None, None\n",
      "Geocode cache updated and saved.\n"
     ]
    },
    {
     "data": {
      "text/html": [
       "<div>\n",
       "<style scoped>\n",
       "    .dataframe tbody tr th:only-of-type {\n",
       "        vertical-align: middle;\n",
       "    }\n",
       "\n",
       "    .dataframe tbody tr th {\n",
       "        vertical-align: top;\n",
       "    }\n",
       "\n",
       "    .dataframe thead th {\n",
       "        text-align: right;\n",
       "    }\n",
       "</style>\n",
       "<table border=\"1\" class=\"dataframe\">\n",
       "  <thead>\n",
       "    <tr style=\"text-align: right;\">\n",
       "      <th></th>\n",
       "      <th>RecordID</th>\n",
       "      <th>Offense</th>\n",
       "      <th>IncidentID</th>\n",
       "      <th>BlockNumber</th>\n",
       "      <th>StreetName</th>\n",
       "      <th>Agency</th>\n",
       "      <th>HourReported</th>\n",
       "      <th>ReportingOfficer</th>\n",
       "      <th>Date</th>\n",
       "      <th>DateString</th>\n",
       "      <th>DayOfWeek</th>\n",
       "      <th>Weekend</th>\n",
       "      <th>Season</th>\n",
       "      <th>HourAMPM</th>\n",
       "      <th>TimeOfDay</th>\n",
       "      <th>FullStreet</th>\n",
       "      <th>lat</th>\n",
       "      <th>lon</th>\n",
       "    </tr>\n",
       "  </thead>\n",
       "  <tbody>\n",
       "    <tr>\n",
       "      <th>0</th>\n",
       "      <td>1</td>\n",
       "      <td>Larceny - From Motor Vehicle</td>\n",
       "      <td>202500023520</td>\n",
       "      <td>100</td>\n",
       "      <td>10TH ST NW</td>\n",
       "      <td>CPD</td>\n",
       "      <td>1411</td>\n",
       "      <td>O'Briant, Landon</td>\n",
       "      <td>2025-07-07 14:11:36</td>\n",
       "      <td>2025-07-07 02:11:36 PM</td>\n",
       "      <td>Monday</td>\n",
       "      <td>False</td>\n",
       "      <td>Summer</td>\n",
       "      <td>02:11 PM</td>\n",
       "      <td>Afternoon</td>\n",
       "      <td>100 10TH ST NW</td>\n",
       "      <td>38.032602</td>\n",
       "      <td>-78.494750</td>\n",
       "    </tr>\n",
       "    <tr>\n",
       "      <th>1</th>\n",
       "      <td>2</td>\n",
       "      <td>Vandalism</td>\n",
       "      <td>202500023515</td>\n",
       "      <td>1100</td>\n",
       "      <td>KENSINGTON AVE</td>\n",
       "      <td>CPD</td>\n",
       "      <td>1347</td>\n",
       "      <td>Mian, Ghulam</td>\n",
       "      <td>2025-07-07 13:47:10</td>\n",
       "      <td>2025-07-07 01:47:10 PM</td>\n",
       "      <td>Monday</td>\n",
       "      <td>False</td>\n",
       "      <td>Summer</td>\n",
       "      <td>01:47 PM</td>\n",
       "      <td>Afternoon</td>\n",
       "      <td>1100 KENSINGTON AVE</td>\n",
       "      <td>NaN</td>\n",
       "      <td>NaN</td>\n",
       "    </tr>\n",
       "    <tr>\n",
       "      <th>2</th>\n",
       "      <td>3</td>\n",
       "      <td>Fraud-wire fraud</td>\n",
       "      <td>202500023499</td>\n",
       "      <td>1600</td>\n",
       "      <td>YORKTOWN DR</td>\n",
       "      <td>CPD</td>\n",
       "      <td>1156</td>\n",
       "      <td>O'Briant, Landon</td>\n",
       "      <td>2025-07-07 11:56:28</td>\n",
       "      <td>2025-07-07 11:56:28 AM</td>\n",
       "      <td>Monday</td>\n",
       "      <td>False</td>\n",
       "      <td>Summer</td>\n",
       "      <td>11:56 AM</td>\n",
       "      <td>Morning</td>\n",
       "      <td>1600 YORKTOWN DR</td>\n",
       "      <td>NaN</td>\n",
       "      <td>NaN</td>\n",
       "    </tr>\n",
       "    <tr>\n",
       "      <th>3</th>\n",
       "      <td>4</td>\n",
       "      <td>Larceny - Theft from Building</td>\n",
       "      <td>202500023434</td>\n",
       "      <td>100</td>\n",
       "      <td>LANKFORD AVE, 5</td>\n",
       "      <td>CPD</td>\n",
       "      <td>0055</td>\n",
       "      <td>Troche, Nicholas</td>\n",
       "      <td>2025-07-07 00:55:59</td>\n",
       "      <td>2025-07-07 12:55:59 AM</td>\n",
       "      <td>Monday</td>\n",
       "      <td>False</td>\n",
       "      <td>Summer</td>\n",
       "      <td>12:55 AM</td>\n",
       "      <td>Night</td>\n",
       "      <td>100 LANKFORD AVE, 5</td>\n",
       "      <td>38.021311</td>\n",
       "      <td>-78.487056</td>\n",
       "    </tr>\n",
       "    <tr>\n",
       "      <th>4</th>\n",
       "      <td>5</td>\n",
       "      <td>Domestic Disturbance</td>\n",
       "      <td>202500023423</td>\n",
       "      <td>300</td>\n",
       "      <td>UNIVERSITY CIR, 202</td>\n",
       "      <td>CPD</td>\n",
       "      <td>2211</td>\n",
       "      <td>Oakes, Maithe</td>\n",
       "      <td>2025-07-06 22:11:32</td>\n",
       "      <td>2025-07-06 10:11:32 PM</td>\n",
       "      <td>Sunday</td>\n",
       "      <td>True</td>\n",
       "      <td>Summer</td>\n",
       "      <td>10:11 PM</td>\n",
       "      <td>Night</td>\n",
       "      <td>300 UNIVERSITY CIR, 202</td>\n",
       "      <td>NaN</td>\n",
       "      <td>NaN</td>\n",
       "    </tr>\n",
       "  </tbody>\n",
       "</table>\n",
       "</div>"
      ],
      "text/plain": [
       "   RecordID                        Offense    IncidentID BlockNumber  \\\n",
       "0         1   Larceny - From Motor Vehicle  202500023520         100   \n",
       "1         2                      Vandalism  202500023515        1100   \n",
       "2         3               Fraud-wire fraud  202500023499        1600   \n",
       "3         4  Larceny - Theft from Building  202500023434         100   \n",
       "4         5           Domestic Disturbance  202500023423         300   \n",
       "\n",
       "            StreetName Agency HourReported  ReportingOfficer  \\\n",
       "0           10TH ST NW    CPD         1411  O'Briant, Landon   \n",
       "1       KENSINGTON AVE    CPD         1347      Mian, Ghulam   \n",
       "2          YORKTOWN DR    CPD         1156  O'Briant, Landon   \n",
       "3      LANKFORD AVE, 5    CPD         0055  Troche, Nicholas   \n",
       "4  UNIVERSITY CIR, 202    CPD         2211     Oakes, Maithe   \n",
       "\n",
       "                 Date              DateString DayOfWeek  Weekend  Season  \\\n",
       "0 2025-07-07 14:11:36  2025-07-07 02:11:36 PM    Monday    False  Summer   \n",
       "1 2025-07-07 13:47:10  2025-07-07 01:47:10 PM    Monday    False  Summer   \n",
       "2 2025-07-07 11:56:28  2025-07-07 11:56:28 AM    Monday    False  Summer   \n",
       "3 2025-07-07 00:55:59  2025-07-07 12:55:59 AM    Monday    False  Summer   \n",
       "4 2025-07-06 22:11:32  2025-07-06 10:11:32 PM    Sunday     True  Summer   \n",
       "\n",
       "   HourAMPM  TimeOfDay               FullStreet        lat        lon  \n",
       "0  02:11 PM  Afternoon           100 10TH ST NW  38.032602 -78.494750  \n",
       "1  01:47 PM  Afternoon      1100 KENSINGTON AVE        NaN        NaN  \n",
       "2  11:56 AM    Morning         1600 YORKTOWN DR        NaN        NaN  \n",
       "3  12:55 AM      Night      100 LANKFORD AVE, 5  38.021311 -78.487056  \n",
       "4  10:11 PM      Night  300 UNIVERSITY CIR, 202        NaN        NaN  "
      ]
     },
     "execution_count": 9,
     "metadata": {},
     "output_type": "execute_result"
    }
   ],
   "source": [
    "# Combine BlockNumber and StreetName into a full address string\n",
    "df['FullStreet'] = df['BlockNumber'].astype(str) + \" \" + df['StreetName']\n",
    "\n",
    "# --- Step 1: Setup the Google Maps Client and Cache ---\n",
    "gmaps = googlemaps.Client(key=GOOGLE_API_KEY)\n",
    "\n",
    "# Try to load cached geocoding results if available.\n",
    "try:\n",
    "    with open(\"geocode_cache_google.pkl\", \"rb\") as f:\n",
    "        street_coords = pickle.load(f)\n",
    "    print(\"Loaded geocode cache.\")\n",
    "except FileNotFoundError:\n",
    "    street_coords = {}\n",
    "    print(\"No cache found; starting fresh.\")\n",
    "\n",
    "def geocode_address(address):\n",
    "    try:\n",
    "        # Append city and state to help geocoding\n",
    "        result = gmaps.geocode(f\"{address}, Charlottesville, VA\")\n",
    "        if result:\n",
    "            lat = result[0]['geometry']['location']['lat']\n",
    "            lon = result[0]['geometry']['location']['lng']\n",
    "            return lat, lon\n",
    "    except Exception as e:\n",
    "        print(f\"Error geocoding {address}: {e}\")\n",
    "    return None, None\n",
    "\n",
    "# --- Step 2: Geocode Only New Addresses ---\n",
    "unique_addresses = df['FullStreet'].unique()\n",
    "for address in unique_addresses:\n",
    "    if address not in street_coords:\n",
    "        lat, lon = geocode_address(address)\n",
    "        street_coords[address] = (lat, lon)\n",
    "        print(f\"Geocoded {address}: {lat}, {lon}\")\n",
    "\n",
    "# Save the updated cache to disk.\n",
    "with open(\"geocode_cache_google.pkl\", \"wb\") as f:\n",
    "    pickle.dump(street_coords, f)\n",
    "    print(\"Geocode cache updated and saved.\")\n",
    "\n",
    "# --- Step 3: Map Coordinates Back to DataFrame ---\n",
    "df['lat'] = df['FullStreet'].map(lambda s: street_coords.get(s, (None, None))[0])\n",
    "df['lon'] = df['FullStreet'].map(lambda s: street_coords.get(s, (None, None))[1])\n",
    "\n",
    "df.head()"
   ]
  },
  {
   "cell_type": "markdown",
   "id": "34753b60",
   "metadata": {
    "papermill": {
     "duration": 0.004377,
     "end_time": "2025-07-10T01:07:49.927951",
     "exception": false,
     "start_time": "2025-07-10T01:07:49.923574",
     "status": "completed"
    },
    "tags": []
   },
   "source": [
    "### Neighborhood"
   ]
  },
  {
   "cell_type": "code",
   "execution_count": 10,
   "id": "57948345",
   "metadata": {
    "execution": {
     "iopub.execute_input": "2025-07-10T01:07:49.937757Z",
     "iopub.status.busy": "2025-07-10T01:07:49.937308Z",
     "iopub.status.idle": "2025-07-10T01:07:51.456498Z",
     "shell.execute_reply": "2025-07-10T01:07:51.455812Z"
    },
    "papermill": {
     "duration": 1.525279,
     "end_time": "2025-07-10T01:07:51.457554",
     "exception": false,
     "start_time": "2025-07-10T01:07:49.932275",
     "status": "completed"
    },
    "tags": []
   },
   "outputs": [
    {
     "name": "stdout",
     "output_type": "stream",
     "text": [
      "Loaded neighborhood cache.\n",
      "Error getting neighborhood for nan, nan: HTTP Error: 400\n",
      "Error getting neighborhood for nan, nan: HTTP Error: 400\n",
      "Error getting neighborhood for nan, nan: HTTP Error: 400\n",
      "Error getting neighborhood for nan, nan: HTTP Error: 400\n"
     ]
    },
    {
     "name": "stdout",
     "output_type": "stream",
     "text": [
      "Error getting neighborhood for nan, nan: HTTP Error: 400\n",
      "Error getting neighborhood for nan, nan: HTTP Error: 400\n",
      "Error getting neighborhood for nan, nan: HTTP Error: 400\n",
      "Error getting neighborhood for nan, nan: HTTP Error: 400\n",
      "Error getting neighborhood for nan, nan: HTTP Error: 400\n"
     ]
    },
    {
     "name": "stdout",
     "output_type": "stream",
     "text": [
      "Error getting neighborhood for nan, nan: HTTP Error: 400\n",
      "Error getting neighborhood for nan, nan: HTTP Error: 400\n",
      "Error getting neighborhood for nan, nan: HTTP Error: 400\n",
      "Error getting neighborhood for nan, nan: HTTP Error: 400\n",
      "Error getting neighborhood for nan, nan: HTTP Error: 400\n",
      "Error getting neighborhood for nan, nan: HTTP Error: 400\n",
      "Error getting neighborhood for nan, nan: HTTP Error: 400\n",
      "Error getting neighborhood for nan, nan: HTTP Error: 400\n"
     ]
    },
    {
     "name": "stdout",
     "output_type": "stream",
     "text": [
      "Error getting neighborhood for nan, nan: HTTP Error: 400\n",
      "Error getting neighborhood for nan, nan: HTTP Error: 400\n",
      "Error getting neighborhood for nan, nan: HTTP Error: 400\n",
      "Error getting neighborhood for nan, nan: HTTP Error: 400\n",
      "Error getting neighborhood for nan, nan: HTTP Error: 400\n",
      "Error getting neighborhood for nan, nan: HTTP Error: 400\n",
      "Error getting neighborhood for nan, nan: HTTP Error: 400\n",
      "Error getting neighborhood for nan, nan: HTTP Error: 400\n",
      "Error getting neighborhood for nan, nan: HTTP Error: 400\n"
     ]
    },
    {
     "name": "stdout",
     "output_type": "stream",
     "text": [
      "Error getting neighborhood for nan, nan: HTTP Error: 400\n",
      "Error getting neighborhood for nan, nan: HTTP Error: 400\n",
      "Error getting neighborhood for nan, nan: HTTP Error: 400\n",
      "Error getting neighborhood for nan, nan: HTTP Error: 400\n",
      "Error getting neighborhood for nan, nan: HTTP Error: 400\n",
      "Error getting neighborhood for nan, nan: HTTP Error: 400\n",
      "Error getting neighborhood for nan, nan: HTTP Error: 400\n",
      "Error getting neighborhood for nan, nan: HTTP Error: 400\n",
      "Error getting neighborhood for nan, nan: HTTP Error: 400\n"
     ]
    },
    {
     "name": "stdout",
     "output_type": "stream",
     "text": [
      "Error getting neighborhood for nan, nan: HTTP Error: 400\n",
      "Error getting neighborhood for nan, nan: HTTP Error: 400\n",
      "Error getting neighborhood for nan, nan: HTTP Error: 400\n",
      "Error getting neighborhood for nan, nan: HTTP Error: 400\n",
      "Error getting neighborhood for nan, nan: HTTP Error: 400\n",
      "Error getting neighborhood for nan, nan: HTTP Error: 400\n",
      "Error getting neighborhood for nan, nan: HTTP Error: 400\n",
      "Error getting neighborhood for nan, nan: HTTP Error: 400\n",
      "Error getting neighborhood for nan, nan: HTTP Error: 400\n"
     ]
    },
    {
     "name": "stdout",
     "output_type": "stream",
     "text": [
      "Error getting neighborhood for nan, nan: HTTP Error: 400\n",
      "Error getting neighborhood for nan, nan: HTTP Error: 400\n",
      "Error getting neighborhood for nan, nan: HTTP Error: 400\n"
     ]
    },
    {
     "data": {
      "text/html": [
       "<div>\n",
       "<style scoped>\n",
       "    .dataframe tbody tr th:only-of-type {\n",
       "        vertical-align: middle;\n",
       "    }\n",
       "\n",
       "    .dataframe tbody tr th {\n",
       "        vertical-align: top;\n",
       "    }\n",
       "\n",
       "    .dataframe thead th {\n",
       "        text-align: right;\n",
       "    }\n",
       "</style>\n",
       "<table border=\"1\" class=\"dataframe\">\n",
       "  <thead>\n",
       "    <tr style=\"text-align: right;\">\n",
       "      <th></th>\n",
       "      <th>RecordID</th>\n",
       "      <th>Offense</th>\n",
       "      <th>IncidentID</th>\n",
       "      <th>BlockNumber</th>\n",
       "      <th>StreetName</th>\n",
       "      <th>Agency</th>\n",
       "      <th>HourReported</th>\n",
       "      <th>ReportingOfficer</th>\n",
       "      <th>Date</th>\n",
       "      <th>DateString</th>\n",
       "      <th>DayOfWeek</th>\n",
       "      <th>Weekend</th>\n",
       "      <th>Season</th>\n",
       "      <th>HourAMPM</th>\n",
       "      <th>TimeOfDay</th>\n",
       "      <th>FullStreet</th>\n",
       "      <th>lat</th>\n",
       "      <th>lon</th>\n",
       "      <th>neighborhood</th>\n",
       "    </tr>\n",
       "  </thead>\n",
       "  <tbody>\n",
       "    <tr>\n",
       "      <th>0</th>\n",
       "      <td>1</td>\n",
       "      <td>Larceny - From Motor Vehicle</td>\n",
       "      <td>202500023520</td>\n",
       "      <td>100</td>\n",
       "      <td>10TH ST NW</td>\n",
       "      <td>CPD</td>\n",
       "      <td>1411</td>\n",
       "      <td>O'Briant, Landon</td>\n",
       "      <td>2025-07-07 14:11:36</td>\n",
       "      <td>2025-07-07 02:11:36 PM</td>\n",
       "      <td>Monday</td>\n",
       "      <td>False</td>\n",
       "      <td>Summer</td>\n",
       "      <td>02:11 PM</td>\n",
       "      <td>Afternoon</td>\n",
       "      <td>100 10TH ST NW</td>\n",
       "      <td>38.032602</td>\n",
       "      <td>-78.494750</td>\n",
       "      <td>10th &amp; Page</td>\n",
       "    </tr>\n",
       "    <tr>\n",
       "      <th>1</th>\n",
       "      <td>2</td>\n",
       "      <td>Vandalism</td>\n",
       "      <td>202500023515</td>\n",
       "      <td>1100</td>\n",
       "      <td>KENSINGTON AVE</td>\n",
       "      <td>CPD</td>\n",
       "      <td>1347</td>\n",
       "      <td>Mian, Ghulam</td>\n",
       "      <td>2025-07-07 13:47:10</td>\n",
       "      <td>2025-07-07 01:47:10 PM</td>\n",
       "      <td>Monday</td>\n",
       "      <td>False</td>\n",
       "      <td>Summer</td>\n",
       "      <td>01:47 PM</td>\n",
       "      <td>Afternoon</td>\n",
       "      <td>1100 KENSINGTON AVE</td>\n",
       "      <td>NaN</td>\n",
       "      <td>NaN</td>\n",
       "      <td>N/A</td>\n",
       "    </tr>\n",
       "    <tr>\n",
       "      <th>2</th>\n",
       "      <td>3</td>\n",
       "      <td>Fraud-wire fraud</td>\n",
       "      <td>202500023499</td>\n",
       "      <td>1600</td>\n",
       "      <td>YORKTOWN DR</td>\n",
       "      <td>CPD</td>\n",
       "      <td>1156</td>\n",
       "      <td>O'Briant, Landon</td>\n",
       "      <td>2025-07-07 11:56:28</td>\n",
       "      <td>2025-07-07 11:56:28 AM</td>\n",
       "      <td>Monday</td>\n",
       "      <td>False</td>\n",
       "      <td>Summer</td>\n",
       "      <td>11:56 AM</td>\n",
       "      <td>Morning</td>\n",
       "      <td>1600 YORKTOWN DR</td>\n",
       "      <td>NaN</td>\n",
       "      <td>NaN</td>\n",
       "      <td>N/A</td>\n",
       "    </tr>\n",
       "    <tr>\n",
       "      <th>3</th>\n",
       "      <td>4</td>\n",
       "      <td>Larceny - Theft from Building</td>\n",
       "      <td>202500023434</td>\n",
       "      <td>100</td>\n",
       "      <td>LANKFORD AVE, 5</td>\n",
       "      <td>CPD</td>\n",
       "      <td>0055</td>\n",
       "      <td>Troche, Nicholas</td>\n",
       "      <td>2025-07-07 00:55:59</td>\n",
       "      <td>2025-07-07 12:55:59 AM</td>\n",
       "      <td>Monday</td>\n",
       "      <td>False</td>\n",
       "      <td>Summer</td>\n",
       "      <td>12:55 AM</td>\n",
       "      <td>Night</td>\n",
       "      <td>100 LANKFORD AVE, 5</td>\n",
       "      <td>38.021311</td>\n",
       "      <td>-78.487056</td>\n",
       "      <td>Ridge St.</td>\n",
       "    </tr>\n",
       "    <tr>\n",
       "      <th>4</th>\n",
       "      <td>5</td>\n",
       "      <td>Domestic Disturbance</td>\n",
       "      <td>202500023423</td>\n",
       "      <td>300</td>\n",
       "      <td>UNIVERSITY CIR, 202</td>\n",
       "      <td>CPD</td>\n",
       "      <td>2211</td>\n",
       "      <td>Oakes, Maithe</td>\n",
       "      <td>2025-07-06 22:11:32</td>\n",
       "      <td>2025-07-06 10:11:32 PM</td>\n",
       "      <td>Sunday</td>\n",
       "      <td>True</td>\n",
       "      <td>Summer</td>\n",
       "      <td>10:11 PM</td>\n",
       "      <td>Night</td>\n",
       "      <td>300 UNIVERSITY CIR, 202</td>\n",
       "      <td>NaN</td>\n",
       "      <td>NaN</td>\n",
       "      <td>N/A</td>\n",
       "    </tr>\n",
       "  </tbody>\n",
       "</table>\n",
       "</div>"
      ],
      "text/plain": [
       "   RecordID                        Offense    IncidentID BlockNumber  \\\n",
       "0         1   Larceny - From Motor Vehicle  202500023520         100   \n",
       "1         2                      Vandalism  202500023515        1100   \n",
       "2         3               Fraud-wire fraud  202500023499        1600   \n",
       "3         4  Larceny - Theft from Building  202500023434         100   \n",
       "4         5           Domestic Disturbance  202500023423         300   \n",
       "\n",
       "            StreetName Agency HourReported  ReportingOfficer  \\\n",
       "0           10TH ST NW    CPD         1411  O'Briant, Landon   \n",
       "1       KENSINGTON AVE    CPD         1347      Mian, Ghulam   \n",
       "2          YORKTOWN DR    CPD         1156  O'Briant, Landon   \n",
       "3      LANKFORD AVE, 5    CPD         0055  Troche, Nicholas   \n",
       "4  UNIVERSITY CIR, 202    CPD         2211     Oakes, Maithe   \n",
       "\n",
       "                 Date              DateString DayOfWeek  Weekend  Season  \\\n",
       "0 2025-07-07 14:11:36  2025-07-07 02:11:36 PM    Monday    False  Summer   \n",
       "1 2025-07-07 13:47:10  2025-07-07 01:47:10 PM    Monday    False  Summer   \n",
       "2 2025-07-07 11:56:28  2025-07-07 11:56:28 AM    Monday    False  Summer   \n",
       "3 2025-07-07 00:55:59  2025-07-07 12:55:59 AM    Monday    False  Summer   \n",
       "4 2025-07-06 22:11:32  2025-07-06 10:11:32 PM    Sunday     True  Summer   \n",
       "\n",
       "   HourAMPM  TimeOfDay               FullStreet        lat        lon  \\\n",
       "0  02:11 PM  Afternoon           100 10TH ST NW  38.032602 -78.494750   \n",
       "1  01:47 PM  Afternoon      1100 KENSINGTON AVE        NaN        NaN   \n",
       "2  11:56 AM    Morning         1600 YORKTOWN DR        NaN        NaN   \n",
       "3  12:55 AM      Night      100 LANKFORD AVE, 5  38.021311 -78.487056   \n",
       "4  10:11 PM      Night  300 UNIVERSITY CIR, 202        NaN        NaN   \n",
       "\n",
       "  neighborhood  \n",
       "0  10th & Page  \n",
       "1          N/A  \n",
       "2          N/A  \n",
       "3    Ridge St.  \n",
       "4          N/A  "
      ]
     },
     "execution_count": 10,
     "metadata": {},
     "output_type": "execute_result"
    }
   ],
   "source": [
    "# Initialize the Google Maps client.\n",
    "gmaps = googlemaps.Client(key=GOOGLE_API_KEY)\n",
    "\n",
    "# Try to load a persistent neighborhood cache if available.\n",
    "try:\n",
    "    with open(\"neighborhood_cache.pkl\", \"rb\") as f:\n",
    "        neighborhood_cache = pickle.load(f)\n",
    "    print(\"Loaded neighborhood cache.\")\n",
    "except FileNotFoundError:\n",
    "    neighborhood_cache = {}\n",
    "    print(\"No neighborhood cache found; starting fresh.\")\n",
    "\n",
    "def get_neighborhood(lat, lon):\n",
    "    \"\"\"\n",
    "    Reverse geocodes a latitude and longitude to retrieve the neighborhood.\n",
    "    Caches results to speed up subsequent lookups.\n",
    "    \"\"\"\n",
    "    key = (lat, lon)\n",
    "    if key in neighborhood_cache:\n",
    "        return neighborhood_cache[key]\n",
    "    \n",
    "    try:\n",
    "        result = gmaps.reverse_geocode((lat, lon))\n",
    "        if result:\n",
    "            # Look for the 'neighborhood' component in the first result.\n",
    "            for component in result[0]['address_components']:\n",
    "                if 'neighborhood' in component['types']:\n",
    "                    neighborhood = component['long_name']\n",
    "                    neighborhood_cache[key] = neighborhood\n",
    "                    return neighborhood\n",
    "            # If no neighborhood is found, return \"N/A\"\n",
    "            neighborhood_cache[key] = \"N/A\"\n",
    "            return \"N/A\"\n",
    "    except Exception as e:\n",
    "        print(f\"Error getting neighborhood for {lat}, {lon}: {e}\")\n",
    "        return \"N/A\"\n",
    "    \n",
    "    # Pause to respect usage limits.\n",
    "    time.sleep(1)\n",
    "\n",
    "# Example usage: Apply to your DataFrame 'df' that already has 'lat' and 'lon' columns.\n",
    "df['neighborhood'] = df.apply(lambda row: get_neighborhood(row['lat'], row['lon']), axis=1)\n",
    "\n",
    "# Save the updated neighborhood cache.\n",
    "with open(\"neighborhood_cache.pkl\", \"wb\") as f:\n",
    "    pickle.dump(neighborhood_cache, f)\n",
    "\n",
    "df.head()\n"
   ]
  },
  {
   "cell_type": "markdown",
   "id": "031edd1a",
   "metadata": {
    "papermill": {
     "duration": 0.004952,
     "end_time": "2025-07-10T01:07:51.467790",
     "exception": false,
     "start_time": "2025-07-10T01:07:51.462838",
     "status": "completed"
    },
    "tags": []
   },
   "source": [
    "### Zip"
   ]
  },
  {
   "cell_type": "code",
   "execution_count": 11,
   "id": "4caa719c",
   "metadata": {
    "execution": {
     "iopub.execute_input": "2025-07-10T01:07:51.478617Z",
     "iopub.status.busy": "2025-07-10T01:07:51.478328Z",
     "iopub.status.idle": "2025-07-10T01:08:38.800834Z",
     "shell.execute_reply": "2025-07-10T01:08:38.800117Z"
    },
    "papermill": {
     "duration": 47.329268,
     "end_time": "2025-07-10T01:08:38.801917",
     "exception": false,
     "start_time": "2025-07-10T01:07:51.472649",
     "status": "completed"
    },
    "tags": []
   },
   "outputs": [
    {
     "name": "stdout",
     "output_type": "stream",
     "text": [
      "Loaded zip cache.\n",
      "Error getting ZIP for nan, nan: Must be a coordinate pair or Point\n"
     ]
    },
    {
     "name": "stdout",
     "output_type": "stream",
     "text": [
      "Error getting ZIP for nan, nan: Must be a coordinate pair or Point\n"
     ]
    },
    {
     "name": "stdout",
     "output_type": "stream",
     "text": [
      "Error getting ZIP for nan, nan: Must be a coordinate pair or Point\n"
     ]
    },
    {
     "name": "stdout",
     "output_type": "stream",
     "text": [
      "Error getting ZIP for nan, nan: Must be a coordinate pair or Point\n"
     ]
    },
    {
     "name": "stdout",
     "output_type": "stream",
     "text": [
      "Error getting ZIP for nan, nan: Must be a coordinate pair or Point\n"
     ]
    },
    {
     "name": "stdout",
     "output_type": "stream",
     "text": [
      "Error getting ZIP for nan, nan: Must be a coordinate pair or Point\n"
     ]
    },
    {
     "name": "stdout",
     "output_type": "stream",
     "text": [
      "Error getting ZIP for nan, nan: Must be a coordinate pair or Point\n"
     ]
    },
    {
     "name": "stdout",
     "output_type": "stream",
     "text": [
      "Error getting ZIP for nan, nan: Must be a coordinate pair or Point\n"
     ]
    },
    {
     "name": "stdout",
     "output_type": "stream",
     "text": [
      "Error getting ZIP for nan, nan: Must be a coordinate pair or Point\n"
     ]
    },
    {
     "name": "stdout",
     "output_type": "stream",
     "text": [
      "Error getting ZIP for nan, nan: Must be a coordinate pair or Point\n"
     ]
    },
    {
     "name": "stdout",
     "output_type": "stream",
     "text": [
      "Error getting ZIP for nan, nan: Must be a coordinate pair or Point\n"
     ]
    },
    {
     "name": "stdout",
     "output_type": "stream",
     "text": [
      "Error getting ZIP for nan, nan: Must be a coordinate pair or Point\n"
     ]
    },
    {
     "name": "stdout",
     "output_type": "stream",
     "text": [
      "Error getting ZIP for nan, nan: Must be a coordinate pair or Point\n"
     ]
    },
    {
     "name": "stdout",
     "output_type": "stream",
     "text": [
      "Error getting ZIP for nan, nan: Must be a coordinate pair or Point\n"
     ]
    },
    {
     "name": "stdout",
     "output_type": "stream",
     "text": [
      "Error getting ZIP for nan, nan: Must be a coordinate pair or Point\n"
     ]
    },
    {
     "name": "stdout",
     "output_type": "stream",
     "text": [
      "Error getting ZIP for nan, nan: Must be a coordinate pair or Point\n"
     ]
    },
    {
     "name": "stdout",
     "output_type": "stream",
     "text": [
      "Error getting ZIP for nan, nan: Must be a coordinate pair or Point\n"
     ]
    },
    {
     "name": "stdout",
     "output_type": "stream",
     "text": [
      "Error getting ZIP for nan, nan: Must be a coordinate pair or Point\n"
     ]
    },
    {
     "name": "stdout",
     "output_type": "stream",
     "text": [
      "Error getting ZIP for nan, nan: Must be a coordinate pair or Point\n"
     ]
    },
    {
     "name": "stdout",
     "output_type": "stream",
     "text": [
      "Error getting ZIP for nan, nan: Must be a coordinate pair or Point\n"
     ]
    },
    {
     "name": "stdout",
     "output_type": "stream",
     "text": [
      "Error getting ZIP for nan, nan: Must be a coordinate pair or Point\n"
     ]
    },
    {
     "name": "stdout",
     "output_type": "stream",
     "text": [
      "Error getting ZIP for nan, nan: Must be a coordinate pair or Point\n"
     ]
    },
    {
     "name": "stdout",
     "output_type": "stream",
     "text": [
      "Error getting ZIP for nan, nan: Must be a coordinate pair or Point\n"
     ]
    },
    {
     "name": "stdout",
     "output_type": "stream",
     "text": [
      "Error getting ZIP for nan, nan: Must be a coordinate pair or Point\n"
     ]
    },
    {
     "name": "stdout",
     "output_type": "stream",
     "text": [
      "Error getting ZIP for nan, nan: Must be a coordinate pair or Point\n"
     ]
    },
    {
     "name": "stdout",
     "output_type": "stream",
     "text": [
      "Error getting ZIP for nan, nan: Must be a coordinate pair or Point\n"
     ]
    },
    {
     "name": "stdout",
     "output_type": "stream",
     "text": [
      "Error getting ZIP for nan, nan: Must be a coordinate pair or Point\n"
     ]
    },
    {
     "name": "stdout",
     "output_type": "stream",
     "text": [
      "Error getting ZIP for nan, nan: Must be a coordinate pair or Point\n"
     ]
    },
    {
     "name": "stdout",
     "output_type": "stream",
     "text": [
      "Error getting ZIP for nan, nan: Must be a coordinate pair or Point\n"
     ]
    },
    {
     "name": "stdout",
     "output_type": "stream",
     "text": [
      "Error getting ZIP for nan, nan: Must be a coordinate pair or Point\n"
     ]
    },
    {
     "name": "stdout",
     "output_type": "stream",
     "text": [
      "Error getting ZIP for nan, nan: Must be a coordinate pair or Point\n"
     ]
    },
    {
     "name": "stdout",
     "output_type": "stream",
     "text": [
      "Error getting ZIP for nan, nan: Must be a coordinate pair or Point\n"
     ]
    },
    {
     "name": "stdout",
     "output_type": "stream",
     "text": [
      "Error getting ZIP for nan, nan: Must be a coordinate pair or Point\n"
     ]
    },
    {
     "name": "stdout",
     "output_type": "stream",
     "text": [
      "Error getting ZIP for nan, nan: Must be a coordinate pair or Point\n"
     ]
    },
    {
     "name": "stdout",
     "output_type": "stream",
     "text": [
      "Error getting ZIP for nan, nan: Must be a coordinate pair or Point\n"
     ]
    },
    {
     "name": "stdout",
     "output_type": "stream",
     "text": [
      "Error getting ZIP for nan, nan: Must be a coordinate pair or Point\n"
     ]
    },
    {
     "name": "stdout",
     "output_type": "stream",
     "text": [
      "Error getting ZIP for nan, nan: Must be a coordinate pair or Point\n"
     ]
    },
    {
     "name": "stdout",
     "output_type": "stream",
     "text": [
      "Error getting ZIP for nan, nan: Must be a coordinate pair or Point\n"
     ]
    },
    {
     "name": "stdout",
     "output_type": "stream",
     "text": [
      "Error getting ZIP for nan, nan: Must be a coordinate pair or Point\n"
     ]
    },
    {
     "name": "stdout",
     "output_type": "stream",
     "text": [
      "Error getting ZIP for nan, nan: Must be a coordinate pair or Point\n"
     ]
    },
    {
     "name": "stdout",
     "output_type": "stream",
     "text": [
      "Error getting ZIP for nan, nan: Must be a coordinate pair or Point\n"
     ]
    },
    {
     "name": "stdout",
     "output_type": "stream",
     "text": [
      "Error getting ZIP for nan, nan: Must be a coordinate pair or Point\n"
     ]
    },
    {
     "name": "stdout",
     "output_type": "stream",
     "text": [
      "Error getting ZIP for nan, nan: Must be a coordinate pair or Point\n"
     ]
    },
    {
     "name": "stdout",
     "output_type": "stream",
     "text": [
      "Error getting ZIP for nan, nan: Must be a coordinate pair or Point\n"
     ]
    },
    {
     "name": "stdout",
     "output_type": "stream",
     "text": [
      "Error getting ZIP for nan, nan: Must be a coordinate pair or Point\n"
     ]
    },
    {
     "name": "stdout",
     "output_type": "stream",
     "text": [
      "Error getting ZIP for nan, nan: Must be a coordinate pair or Point\n"
     ]
    },
    {
     "name": "stdout",
     "output_type": "stream",
     "text": [
      "Error getting ZIP for nan, nan: Must be a coordinate pair or Point\n"
     ]
    },
    {
     "data": {
      "text/html": [
       "<div>\n",
       "<style scoped>\n",
       "    .dataframe tbody tr th:only-of-type {\n",
       "        vertical-align: middle;\n",
       "    }\n",
       "\n",
       "    .dataframe tbody tr th {\n",
       "        vertical-align: top;\n",
       "    }\n",
       "\n",
       "    .dataframe thead th {\n",
       "        text-align: right;\n",
       "    }\n",
       "</style>\n",
       "<table border=\"1\" class=\"dataframe\">\n",
       "  <thead>\n",
       "    <tr style=\"text-align: right;\">\n",
       "      <th></th>\n",
       "      <th>RecordID</th>\n",
       "      <th>Offense</th>\n",
       "      <th>IncidentID</th>\n",
       "      <th>BlockNumber</th>\n",
       "      <th>StreetName</th>\n",
       "      <th>Agency</th>\n",
       "      <th>HourReported</th>\n",
       "      <th>ReportingOfficer</th>\n",
       "      <th>Date</th>\n",
       "      <th>DateString</th>\n",
       "      <th>DayOfWeek</th>\n",
       "      <th>Weekend</th>\n",
       "      <th>Season</th>\n",
       "      <th>HourAMPM</th>\n",
       "      <th>TimeOfDay</th>\n",
       "      <th>FullStreet</th>\n",
       "      <th>lat</th>\n",
       "      <th>lon</th>\n",
       "      <th>neighborhood</th>\n",
       "      <th>zip</th>\n",
       "    </tr>\n",
       "  </thead>\n",
       "  <tbody>\n",
       "    <tr>\n",
       "      <th>0</th>\n",
       "      <td>1</td>\n",
       "      <td>Larceny - From Motor Vehicle</td>\n",
       "      <td>202500023520</td>\n",
       "      <td>100</td>\n",
       "      <td>10TH ST NW</td>\n",
       "      <td>CPD</td>\n",
       "      <td>1411</td>\n",
       "      <td>O'Briant, Landon</td>\n",
       "      <td>2025-07-07 14:11:36</td>\n",
       "      <td>2025-07-07 02:11:36 PM</td>\n",
       "      <td>Monday</td>\n",
       "      <td>False</td>\n",
       "      <td>Summer</td>\n",
       "      <td>02:11 PM</td>\n",
       "      <td>Afternoon</td>\n",
       "      <td>100 10TH ST NW</td>\n",
       "      <td>38.032602</td>\n",
       "      <td>-78.494750</td>\n",
       "      <td>10th &amp; Page</td>\n",
       "      <td>22903</td>\n",
       "    </tr>\n",
       "    <tr>\n",
       "      <th>1</th>\n",
       "      <td>2</td>\n",
       "      <td>Vandalism</td>\n",
       "      <td>202500023515</td>\n",
       "      <td>1100</td>\n",
       "      <td>KENSINGTON AVE</td>\n",
       "      <td>CPD</td>\n",
       "      <td>1347</td>\n",
       "      <td>Mian, Ghulam</td>\n",
       "      <td>2025-07-07 13:47:10</td>\n",
       "      <td>2025-07-07 01:47:10 PM</td>\n",
       "      <td>Monday</td>\n",
       "      <td>False</td>\n",
       "      <td>Summer</td>\n",
       "      <td>01:47 PM</td>\n",
       "      <td>Afternoon</td>\n",
       "      <td>1100 KENSINGTON AVE</td>\n",
       "      <td>NaN</td>\n",
       "      <td>NaN</td>\n",
       "      <td>N/A</td>\n",
       "      <td>N/A</td>\n",
       "    </tr>\n",
       "    <tr>\n",
       "      <th>2</th>\n",
       "      <td>3</td>\n",
       "      <td>Fraud-wire fraud</td>\n",
       "      <td>202500023499</td>\n",
       "      <td>1600</td>\n",
       "      <td>YORKTOWN DR</td>\n",
       "      <td>CPD</td>\n",
       "      <td>1156</td>\n",
       "      <td>O'Briant, Landon</td>\n",
       "      <td>2025-07-07 11:56:28</td>\n",
       "      <td>2025-07-07 11:56:28 AM</td>\n",
       "      <td>Monday</td>\n",
       "      <td>False</td>\n",
       "      <td>Summer</td>\n",
       "      <td>11:56 AM</td>\n",
       "      <td>Morning</td>\n",
       "      <td>1600 YORKTOWN DR</td>\n",
       "      <td>NaN</td>\n",
       "      <td>NaN</td>\n",
       "      <td>N/A</td>\n",
       "      <td>N/A</td>\n",
       "    </tr>\n",
       "    <tr>\n",
       "      <th>3</th>\n",
       "      <td>4</td>\n",
       "      <td>Larceny - Theft from Building</td>\n",
       "      <td>202500023434</td>\n",
       "      <td>100</td>\n",
       "      <td>LANKFORD AVE, 5</td>\n",
       "      <td>CPD</td>\n",
       "      <td>0055</td>\n",
       "      <td>Troche, Nicholas</td>\n",
       "      <td>2025-07-07 00:55:59</td>\n",
       "      <td>2025-07-07 12:55:59 AM</td>\n",
       "      <td>Monday</td>\n",
       "      <td>False</td>\n",
       "      <td>Summer</td>\n",
       "      <td>12:55 AM</td>\n",
       "      <td>Night</td>\n",
       "      <td>100 LANKFORD AVE, 5</td>\n",
       "      <td>38.021311</td>\n",
       "      <td>-78.487056</td>\n",
       "      <td>Ridge St.</td>\n",
       "      <td>22903</td>\n",
       "    </tr>\n",
       "    <tr>\n",
       "      <th>4</th>\n",
       "      <td>5</td>\n",
       "      <td>Domestic Disturbance</td>\n",
       "      <td>202500023423</td>\n",
       "      <td>300</td>\n",
       "      <td>UNIVERSITY CIR, 202</td>\n",
       "      <td>CPD</td>\n",
       "      <td>2211</td>\n",
       "      <td>Oakes, Maithe</td>\n",
       "      <td>2025-07-06 22:11:32</td>\n",
       "      <td>2025-07-06 10:11:32 PM</td>\n",
       "      <td>Sunday</td>\n",
       "      <td>True</td>\n",
       "      <td>Summer</td>\n",
       "      <td>10:11 PM</td>\n",
       "      <td>Night</td>\n",
       "      <td>300 UNIVERSITY CIR, 202</td>\n",
       "      <td>NaN</td>\n",
       "      <td>NaN</td>\n",
       "      <td>N/A</td>\n",
       "      <td>N/A</td>\n",
       "    </tr>\n",
       "  </tbody>\n",
       "</table>\n",
       "</div>"
      ],
      "text/plain": [
       "   RecordID                        Offense    IncidentID BlockNumber  \\\n",
       "0         1   Larceny - From Motor Vehicle  202500023520         100   \n",
       "1         2                      Vandalism  202500023515        1100   \n",
       "2         3               Fraud-wire fraud  202500023499        1600   \n",
       "3         4  Larceny - Theft from Building  202500023434         100   \n",
       "4         5           Domestic Disturbance  202500023423         300   \n",
       "\n",
       "            StreetName Agency HourReported  ReportingOfficer  \\\n",
       "0           10TH ST NW    CPD         1411  O'Briant, Landon   \n",
       "1       KENSINGTON AVE    CPD         1347      Mian, Ghulam   \n",
       "2          YORKTOWN DR    CPD         1156  O'Briant, Landon   \n",
       "3      LANKFORD AVE, 5    CPD         0055  Troche, Nicholas   \n",
       "4  UNIVERSITY CIR, 202    CPD         2211     Oakes, Maithe   \n",
       "\n",
       "                 Date              DateString DayOfWeek  Weekend  Season  \\\n",
       "0 2025-07-07 14:11:36  2025-07-07 02:11:36 PM    Monday    False  Summer   \n",
       "1 2025-07-07 13:47:10  2025-07-07 01:47:10 PM    Monday    False  Summer   \n",
       "2 2025-07-07 11:56:28  2025-07-07 11:56:28 AM    Monday    False  Summer   \n",
       "3 2025-07-07 00:55:59  2025-07-07 12:55:59 AM    Monday    False  Summer   \n",
       "4 2025-07-06 22:11:32  2025-07-06 10:11:32 PM    Sunday     True  Summer   \n",
       "\n",
       "   HourAMPM  TimeOfDay               FullStreet        lat        lon  \\\n",
       "0  02:11 PM  Afternoon           100 10TH ST NW  38.032602 -78.494750   \n",
       "1  01:47 PM  Afternoon      1100 KENSINGTON AVE        NaN        NaN   \n",
       "2  11:56 AM    Morning         1600 YORKTOWN DR        NaN        NaN   \n",
       "3  12:55 AM      Night      100 LANKFORD AVE, 5  38.021311 -78.487056   \n",
       "4  10:11 PM      Night  300 UNIVERSITY CIR, 202        NaN        NaN   \n",
       "\n",
       "  neighborhood    zip  \n",
       "0  10th & Page  22903  \n",
       "1          N/A    N/A  \n",
       "2          N/A    N/A  \n",
       "3    Ridge St.  22903  \n",
       "4          N/A    N/A  "
      ]
     },
     "execution_count": 11,
     "metadata": {},
     "output_type": "execute_result"
    }
   ],
   "source": [
    "# Initialize the geocoder.\n",
    "geolocator = Nominatim(user_agent=\"zip_lookup\")\n",
    "\n",
    "# Try to load a persistent ZIP cache if available.\n",
    "try:\n",
    "    with open(\"zip_cache.pkl\", \"rb\") as f:\n",
    "        zip_cache = pickle.load(f)\n",
    "    print(\"Loaded zip cache.\")\n",
    "except FileNotFoundError:\n",
    "    zip_cache = {}\n",
    "    print(\"No zip cache found; starting fresh.\")\n",
    "\n",
    "def get_zip(lat, lon):\n",
    "    \"\"\"\n",
    "    Reverse geocodes a latitude and longitude to retrieve the ZIP code.\n",
    "    Caches results to speed up subsequent lookups.\n",
    "    \"\"\"\n",
    "    key = (lat, lon)\n",
    "    if key in zip_cache:\n",
    "        return zip_cache[key]\n",
    "    \n",
    "    try:\n",
    "        location = geolocator.reverse((lat, lon), exactly_one=True, timeout=10)\n",
    "        address = location.raw.get('address', {})\n",
    "        postal_code = address.get('postcode', \"N/A\")\n",
    "    except Exception as e:\n",
    "        print(f\"Error getting ZIP for {lat}, {lon}: {e}\")\n",
    "        postal_code = \"N/A\"\n",
    "    \n",
    "    zip_cache[key] = postal_code\n",
    "    # Pause to respect the usage policy.\n",
    "    time.sleep(1)\n",
    "    return postal_code\n",
    "\n",
    "# Apply the function to each row in the DataFrame.\n",
    "df['zip'] = df.apply(lambda row: get_zip(row['lat'], row['lon']), axis=1)\n",
    "\n",
    "# Save the updated ZIP cache.\n",
    "with open(\"zip_cache.pkl\", \"wb\") as f:\n",
    "    pickle.dump(zip_cache, f)\n",
    "\n",
    "df.head()\n"
   ]
  },
  {
   "cell_type": "code",
   "execution_count": 12,
   "id": "9f7fe02e",
   "metadata": {
    "execution": {
     "iopub.execute_input": "2025-07-10T01:08:38.817696Z",
     "iopub.status.busy": "2025-07-10T01:08:38.817182Z",
     "iopub.status.idle": "2025-07-10T01:08:38.845507Z",
     "shell.execute_reply": "2025-07-10T01:08:38.844945Z"
    },
    "papermill": {
     "duration": 0.037118,
     "end_time": "2025-07-10T01:08:38.846547",
     "exception": false,
     "start_time": "2025-07-10T01:08:38.809429",
     "status": "completed"
    },
    "tags": []
   },
   "outputs": [
    {
     "name": "stdout",
     "output_type": "stream",
     "text": [
      "                  MissingCount  MissingPercentage\n",
      "RecordID                     0               0.00\n",
      "Offense                      0               0.00\n",
      "IncidentID                   0               0.00\n",
      "BlockNumber                  0               0.00\n",
      "StreetName                   0               0.00\n",
      "Agency                       0               0.00\n",
      "HourReported                 0               0.00\n",
      "ReportingOfficer            17               0.07\n",
      "Date                         0               0.00\n",
      "DateString                   0               0.00\n",
      "DayOfWeek                    0               0.00\n",
      "Weekend                      0               0.00\n",
      "Season                       0               0.00\n",
      "HourAMPM                     0               0.00\n",
      "TimeOfDay                    0               0.00\n",
      "FullStreet                   0               0.00\n",
      "lat                         47               0.18\n",
      "lon                         47               0.18\n",
      "neighborhood                 0               0.00\n",
      "zip                          0               0.00\n"
     ]
    }
   ],
   "source": [
    "missing_info = missing_percentage(df)\n",
    "print(missing_info)\n"
   ]
  },
  {
   "cell_type": "code",
   "execution_count": 13,
   "id": "b2617267",
   "metadata": {
    "execution": {
     "iopub.execute_input": "2025-07-10T01:08:38.862489Z",
     "iopub.status.busy": "2025-07-10T01:08:38.861963Z",
     "iopub.status.idle": "2025-07-10T01:08:38.894271Z",
     "shell.execute_reply": "2025-07-10T01:08:38.893561Z"
    },
    "papermill": {
     "duration": 0.041427,
     "end_time": "2025-07-10T01:08:38.895350",
     "exception": false,
     "start_time": "2025-07-10T01:08:38.853923",
     "status": "completed"
    },
    "tags": []
   },
   "outputs": [
    {
     "name": "stdout",
     "output_type": "stream",
     "text": [
      "<class 'pandas.core.frame.DataFrame'>\n",
      "RangeIndex: 25512 entries, 0 to 25511\n",
      "Data columns (total 20 columns):\n",
      " #   Column            Non-Null Count  Dtype         \n",
      "---  ------            --------------  -----         \n",
      " 0   RecordID          25512 non-null  int64         \n",
      " 1   Offense           25512 non-null  object        \n",
      " 2   IncidentID        25512 non-null  object        \n",
      " 3   BlockNumber       25512 non-null  object        \n",
      " 4   StreetName        25512 non-null  object        \n",
      " 5   Agency            25512 non-null  object        \n",
      " 6   HourReported      25512 non-null  object        \n",
      " 7   ReportingOfficer  25495 non-null  object        \n",
      " 8   Date              25512 non-null  datetime64[ns]\n",
      " 9   DateString        25512 non-null  object        \n",
      " 10  DayOfWeek         25512 non-null  object        \n",
      " 11  Weekend           25512 non-null  bool          \n",
      " 12  Season            25512 non-null  object        \n",
      " 13  HourAMPM          25512 non-null  object        \n",
      " 14  TimeOfDay         25512 non-null  object        \n",
      " 15  FullStreet        25512 non-null  object        \n",
      " 16  lat               25465 non-null  float64       \n",
      " 17  lon               25465 non-null  float64       \n",
      " 18  neighborhood      25512 non-null  object        \n",
      " 19  zip               25512 non-null  object        \n",
      "dtypes: bool(1), datetime64[ns](1), float64(2), int64(1), object(15)\n",
      "memory usage: 3.7+ MB\n"
     ]
    }
   ],
   "source": [
    "df.info()"
   ]
  },
  {
   "cell_type": "code",
   "execution_count": 14,
   "id": "186c82bc",
   "metadata": {
    "execution": {
     "iopub.execute_input": "2025-07-10T01:08:38.910924Z",
     "iopub.status.busy": "2025-07-10T01:08:38.910718Z",
     "iopub.status.idle": "2025-07-10T01:08:38.956544Z",
     "shell.execute_reply": "2025-07-10T01:08:38.955948Z"
    },
    "papermill": {
     "duration": 0.054693,
     "end_time": "2025-07-10T01:08:38.957544",
     "exception": false,
     "start_time": "2025-07-10T01:08:38.902851",
     "status": "completed"
    },
    "tags": []
   },
   "outputs": [
    {
     "data": {
      "text/html": [
       "<div>\n",
       "<style scoped>\n",
       "    .dataframe tbody tr th:only-of-type {\n",
       "        vertical-align: middle;\n",
       "    }\n",
       "\n",
       "    .dataframe tbody tr th {\n",
       "        vertical-align: top;\n",
       "    }\n",
       "\n",
       "    .dataframe thead th {\n",
       "        text-align: right;\n",
       "    }\n",
       "</style>\n",
       "<table border=\"1\" class=\"dataframe\">\n",
       "  <thead>\n",
       "    <tr style=\"text-align: right;\">\n",
       "      <th></th>\n",
       "      <th>RecordID</th>\n",
       "      <th>Offense</th>\n",
       "      <th>IncidentID</th>\n",
       "      <th>Agency</th>\n",
       "      <th>ReportingOfficer</th>\n",
       "      <th>Date</th>\n",
       "      <th>DayOfWeek</th>\n",
       "      <th>Weekend</th>\n",
       "      <th>Season</th>\n",
       "      <th>TimeOfDay</th>\n",
       "      <th>FullStreet</th>\n",
       "      <th>lat</th>\n",
       "      <th>lon</th>\n",
       "      <th>neighborhood</th>\n",
       "      <th>zip</th>\n",
       "    </tr>\n",
       "  </thead>\n",
       "  <tbody>\n",
       "    <tr>\n",
       "      <th>0</th>\n",
       "      <td>1</td>\n",
       "      <td>Larceny - From Motor Vehicle</td>\n",
       "      <td>202500023520</td>\n",
       "      <td>CPD</td>\n",
       "      <td>O'Briant, Landon</td>\n",
       "      <td>2025-07-07 14:11:36</td>\n",
       "      <td>Monday</td>\n",
       "      <td>False</td>\n",
       "      <td>Summer</td>\n",
       "      <td>Afternoon</td>\n",
       "      <td>100 10TH ST NW</td>\n",
       "      <td>38.032602</td>\n",
       "      <td>-78.49475</td>\n",
       "      <td>10th &amp; Page</td>\n",
       "      <td>22903</td>\n",
       "    </tr>\n",
       "    <tr>\n",
       "      <th>1</th>\n",
       "      <td>2</td>\n",
       "      <td>Vandalism</td>\n",
       "      <td>202500023515</td>\n",
       "      <td>CPD</td>\n",
       "      <td>Mian, Ghulam</td>\n",
       "      <td>2025-07-07 13:47:10</td>\n",
       "      <td>Monday</td>\n",
       "      <td>False</td>\n",
       "      <td>Summer</td>\n",
       "      <td>Afternoon</td>\n",
       "      <td>1100 KENSINGTON AVE</td>\n",
       "      <td>N/A</td>\n",
       "      <td>N/A</td>\n",
       "      <td>N/A</td>\n",
       "      <td>N/A</td>\n",
       "    </tr>\n",
       "    <tr>\n",
       "      <th>2</th>\n",
       "      <td>3</td>\n",
       "      <td>Fraud-wire fraud</td>\n",
       "      <td>202500023499</td>\n",
       "      <td>CPD</td>\n",
       "      <td>O'Briant, Landon</td>\n",
       "      <td>2025-07-07 11:56:28</td>\n",
       "      <td>Monday</td>\n",
       "      <td>False</td>\n",
       "      <td>Summer</td>\n",
       "      <td>Morning</td>\n",
       "      <td>1600 YORKTOWN DR</td>\n",
       "      <td>N/A</td>\n",
       "      <td>N/A</td>\n",
       "      <td>N/A</td>\n",
       "      <td>N/A</td>\n",
       "    </tr>\n",
       "    <tr>\n",
       "      <th>3</th>\n",
       "      <td>4</td>\n",
       "      <td>Larceny - Theft from Building</td>\n",
       "      <td>202500023434</td>\n",
       "      <td>CPD</td>\n",
       "      <td>Troche, Nicholas</td>\n",
       "      <td>2025-07-07 00:55:59</td>\n",
       "      <td>Monday</td>\n",
       "      <td>False</td>\n",
       "      <td>Summer</td>\n",
       "      <td>Night</td>\n",
       "      <td>100 LANKFORD AVE, 5</td>\n",
       "      <td>38.021311</td>\n",
       "      <td>-78.487056</td>\n",
       "      <td>Ridge St.</td>\n",
       "      <td>22903</td>\n",
       "    </tr>\n",
       "    <tr>\n",
       "      <th>4</th>\n",
       "      <td>5</td>\n",
       "      <td>Domestic Disturbance</td>\n",
       "      <td>202500023423</td>\n",
       "      <td>CPD</td>\n",
       "      <td>Oakes, Maithe</td>\n",
       "      <td>2025-07-06 22:11:32</td>\n",
       "      <td>Sunday</td>\n",
       "      <td>True</td>\n",
       "      <td>Summer</td>\n",
       "      <td>Night</td>\n",
       "      <td>300 UNIVERSITY CIR, 202</td>\n",
       "      <td>N/A</td>\n",
       "      <td>N/A</td>\n",
       "      <td>N/A</td>\n",
       "      <td>N/A</td>\n",
       "    </tr>\n",
       "  </tbody>\n",
       "</table>\n",
       "</div>"
      ],
      "text/plain": [
       "   RecordID                        Offense    IncidentID Agency  \\\n",
       "0         1   Larceny - From Motor Vehicle  202500023520    CPD   \n",
       "1         2                      Vandalism  202500023515    CPD   \n",
       "2         3               Fraud-wire fraud  202500023499    CPD   \n",
       "3         4  Larceny - Theft from Building  202500023434    CPD   \n",
       "4         5           Domestic Disturbance  202500023423    CPD   \n",
       "\n",
       "   ReportingOfficer                Date DayOfWeek  Weekend  Season  TimeOfDay  \\\n",
       "0  O'Briant, Landon 2025-07-07 14:11:36    Monday    False  Summer  Afternoon   \n",
       "1      Mian, Ghulam 2025-07-07 13:47:10    Monday    False  Summer  Afternoon   \n",
       "2  O'Briant, Landon 2025-07-07 11:56:28    Monday    False  Summer    Morning   \n",
       "3  Troche, Nicholas 2025-07-07 00:55:59    Monday    False  Summer      Night   \n",
       "4     Oakes, Maithe 2025-07-06 22:11:32    Sunday     True  Summer      Night   \n",
       "\n",
       "                FullStreet        lat        lon neighborhood    zip  \n",
       "0           100 10TH ST NW  38.032602  -78.49475  10th & Page  22903  \n",
       "1      1100 KENSINGTON AVE        N/A        N/A          N/A    N/A  \n",
       "2         1600 YORKTOWN DR        N/A        N/A          N/A    N/A  \n",
       "3      100 LANKFORD AVE, 5  38.021311 -78.487056    Ridge St.  22903  \n",
       "4  300 UNIVERSITY CIR, 202        N/A        N/A          N/A    N/A  "
      ]
     },
     "execution_count": 14,
     "metadata": {},
     "output_type": "execute_result"
    }
   ],
   "source": [
    "# Now drop the original BlockNumber and StreetName columns\n",
    "df.drop(columns=['BlockNumber', 'StreetName','HourAMPM','HourReported','DateString'], inplace=True)\n",
    "df[\"zip\"] = df[\"zip\"].astype(str)\n",
    "\n",
    "# Fill all missing values in the DataFrame with \"N/A\"\n",
    "df.replace({None: \"N/A\", np.nan: \"N/A\", \"\": \"N/A\"}, inplace=True)\n",
    "df.head()"
   ]
  },
  {
   "cell_type": "code",
   "execution_count": 15,
   "id": "3b9c3e05",
   "metadata": {
    "execution": {
     "iopub.execute_input": "2025-07-10T01:08:38.974202Z",
     "iopub.status.busy": "2025-07-10T01:08:38.973752Z",
     "iopub.status.idle": "2025-07-10T01:08:38.992496Z",
     "shell.execute_reply": "2025-07-10T01:08:38.991872Z"
    },
    "papermill": {
     "duration": 0.028149,
     "end_time": "2025-07-10T01:08:38.993541",
     "exception": false,
     "start_time": "2025-07-10T01:08:38.965392",
     "status": "completed"
    },
    "tags": []
   },
   "outputs": [
    {
     "name": "stdout",
     "output_type": "stream",
     "text": [
      "                  MissingCount  MissingPercentage\n",
      "RecordID                     0                0.0\n",
      "Offense                      0                0.0\n",
      "IncidentID                   0                0.0\n",
      "Agency                       0                0.0\n",
      "ReportingOfficer             0                0.0\n",
      "Date                         0                0.0\n",
      "DayOfWeek                    0                0.0\n",
      "Weekend                      0                0.0\n",
      "Season                       0                0.0\n",
      "TimeOfDay                    0                0.0\n",
      "FullStreet                   0                0.0\n",
      "lat                          0                0.0\n",
      "lon                          0                0.0\n",
      "neighborhood                 0                0.0\n",
      "zip                          0                0.0\n"
     ]
    }
   ],
   "source": [
    "missing_info = missing_percentage(df)\n",
    "print(missing_info)"
   ]
  },
  {
   "cell_type": "code",
   "execution_count": 16,
   "id": "10ed79d5",
   "metadata": {
    "execution": {
     "iopub.execute_input": "2025-07-10T01:08:39.011374Z",
     "iopub.status.busy": "2025-07-10T01:08:39.010969Z",
     "iopub.status.idle": "2025-07-10T01:08:39.015482Z",
     "shell.execute_reply": "2025-07-10T01:08:39.014835Z"
    },
    "papermill": {
     "duration": 0.015241,
     "end_time": "2025-07-10T01:08:39.016486",
     "exception": false,
     "start_time": "2025-07-10T01:08:39.001245",
     "status": "completed"
    },
    "tags": []
   },
   "outputs": [
    {
     "data": {
      "text/plain": [
       "Index(['RecordID', 'Offense', 'IncidentID', 'Agency', 'ReportingOfficer',\n",
       "       'Date', 'DayOfWeek', 'Weekend', 'Season', 'TimeOfDay', 'FullStreet',\n",
       "       'lat', 'lon', 'neighborhood', 'zip'],\n",
       "      dtype='object')"
      ]
     },
     "execution_count": 16,
     "metadata": {},
     "output_type": "execute_result"
    }
   ],
   "source": [
    "df.columns"
   ]
  },
  {
   "cell_type": "code",
   "execution_count": 17,
   "id": "e344a166",
   "metadata": {
    "execution": {
     "iopub.execute_input": "2025-07-10T01:08:39.033168Z",
     "iopub.status.busy": "2025-07-10T01:08:39.032720Z",
     "iopub.status.idle": "2025-07-10T01:08:39.055497Z",
     "shell.execute_reply": "2025-07-10T01:08:39.054866Z"
    },
    "papermill": {
     "duration": 0.032025,
     "end_time": "2025-07-10T01:08:39.056530",
     "exception": false,
     "start_time": "2025-07-10T01:08:39.024505",
     "status": "completed"
    },
    "tags": []
   },
   "outputs": [
    {
     "name": "stdout",
     "output_type": "stream",
     "text": [
      "<class 'pandas.core.frame.DataFrame'>\n",
      "RangeIndex: 25512 entries, 0 to 25511\n",
      "Data columns (total 15 columns):\n",
      " #   Column            Non-Null Count  Dtype         \n",
      "---  ------            --------------  -----         \n",
      " 0   RecordID          25512 non-null  int64         \n",
      " 1   Offense           25512 non-null  object        \n",
      " 2   IncidentID        25512 non-null  object        \n",
      " 3   Agency            25512 non-null  object        \n",
      " 4   ReportingOfficer  25512 non-null  object        \n",
      " 5   Date              25512 non-null  datetime64[ns]\n",
      " 6   DayOfWeek         25512 non-null  object        \n",
      " 7   Weekend           25512 non-null  bool          \n",
      " 8   Season            25512 non-null  object        \n",
      " 9   TimeOfDay         25512 non-null  object        \n",
      " 10  FullStreet        25512 non-null  object        \n",
      " 11  lat               25512 non-null  object        \n",
      " 12  lon               25512 non-null  object        \n",
      " 13  neighborhood      25512 non-null  object        \n",
      " 14  zip               25512 non-null  object        \n",
      "dtypes: bool(1), datetime64[ns](1), int64(1), object(12)\n",
      "memory usage: 2.7+ MB\n"
     ]
    }
   ],
   "source": [
    "df.info()"
   ]
  },
  {
   "cell_type": "markdown",
   "id": "f20ccc61",
   "metadata": {
    "papermill": {
     "duration": 0.007596,
     "end_time": "2025-07-10T01:08:39.072089",
     "exception": false,
     "start_time": "2025-07-10T01:08:39.064493",
     "status": "completed"
    },
    "tags": []
   },
   "source": [
    "### Export Clean Data"
   ]
  },
  {
   "cell_type": "code",
   "execution_count": 18,
   "id": "fc52a82d",
   "metadata": {
    "execution": {
     "iopub.execute_input": "2025-07-10T01:08:39.088666Z",
     "iopub.status.busy": "2025-07-10T01:08:39.088179Z",
     "iopub.status.idle": "2025-07-10T01:08:48.244046Z",
     "shell.execute_reply": "2025-07-10T01:08:48.243334Z"
    },
    "papermill": {
     "duration": 9.165394,
     "end_time": "2025-07-10T01:08:48.245156",
     "exception": false,
     "start_time": "2025-07-10T01:08:39.079762",
     "status": "completed"
    },
    "tags": []
   },
   "outputs": [
    {
     "name": "stdout",
     "output_type": "stream",
     "text": [
      "Project Root: /home/runner/work/crime-data/crime-data\n"
     ]
    },
    {
     "name": "stdout",
     "output_type": "stream",
     "text": [
      "Data saved to: /home/runner/work/crime-data/crime-data/data/charlottesville_crime_incidents.csv\n"
     ]
    },
    {
     "name": "stdout",
     "output_type": "stream",
     "text": [
      "Excel saved to: /home/runner/work/crime-data/crime-data/data/charlottesville_crime_incidents.xlsx\n"
     ]
    }
   ],
   "source": [
    "# Determine the project root (assuming papermill is run from the repository root)\n",
    "project_root = os.getcwd()\n",
    "print(\"Project Root:\", project_root)\n",
    "\n",
    "# Set the data directory within the project root\n",
    "data_dir = os.path.join(project_root, \"data\")\n",
    "\n",
    "# Ensure the \"data\" directory exists (create it if it doesn't)\n",
    "if not os.path.exists(data_dir):\n",
    "    os.makedirs(data_dir)\n",
    "\n",
    "# Export the DataFrame to CSV in the \"data\" folder located in the project root\n",
    "csv_path = os.path.join(data_dir, \"charlottesville_crime_incidents.csv\")\n",
    "df.to_csv(csv_path, index=False)\n",
    "print(\"Data saved to:\", csv_path)\n",
    "\n",
    "# Construct the path to your Excel file\n",
    "excel_path = os.path.join(data_dir, \"charlottesville_crime_incidents.xlsx\")\n",
    "\n",
    "# Export the DataFrame to Excel\n",
    "df.to_excel(excel_path, index=False)\n",
    "print(\"Excel saved to:\", excel_path)\n"
   ]
  }
 ],
 "metadata": {
  "kernelspec": {
   "display_name": "Python 3",
   "language": "python",
   "name": "python3"
  },
  "language_info": {
   "codemirror_mode": {
    "name": "ipython",
    "version": 3
   },
   "file_extension": ".py",
   "mimetype": "text/x-python",
   "name": "python",
   "nbconvert_exporter": "python",
   "pygments_lexer": "ipython3",
   "version": "3.9.23"
  },
  "papermill": {
   "default_parameters": {},
   "duration": 134.98852,
   "end_time": "2025-07-10T01:08:48.669244",
   "environment_variables": {},
   "exception": null,
   "input_path": "notebook/Crime Data.ipynb",
   "output_path": "notebook/Crime Data_output.ipynb",
   "parameters": {},
   "start_time": "2025-07-10T01:06:33.680724",
   "version": "2.6.0"
  }
 },
 "nbformat": 4,
 "nbformat_minor": 5
}