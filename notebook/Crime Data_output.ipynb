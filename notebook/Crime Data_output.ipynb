{
 "cells": [
  {
   "cell_type": "markdown",
   "id": "78570dcf",
   "metadata": {
    "papermill": {
     "duration": 0.00429,
     "end_time": "2025-07-23T01:10:09.152525",
     "exception": false,
     "start_time": "2025-07-23T01:10:09.148235",
     "status": "completed"
    },
    "tags": []
   },
   "source": [
    "# Charlottesville Open Data Porttal: Crime Data"
   ]
  },
  {
   "cell_type": "markdown",
   "id": "6cb6b050",
   "metadata": {
    "papermill": {
     "duration": 0.004341,
     "end_time": "2025-07-23T01:10:09.160432",
     "exception": false,
     "start_time": "2025-07-23T01:10:09.156091",
     "status": "completed"
    },
    "tags": []
   },
   "source": [
    "## Import Relevant Librarires & Set WD"
   ]
  },
  {
   "cell_type": "code",
   "execution_count": 1,
   "id": "883fa5b4",
   "metadata": {
    "execution": {
     "iopub.execute_input": "2025-07-23T01:10:09.168253Z",
     "iopub.status.busy": "2025-07-23T01:10:09.167997Z",
     "iopub.status.idle": "2025-07-23T01:10:09.793589Z",
     "shell.execute_reply": "2025-07-23T01:10:09.792907Z"
    },
    "papermill": {
     "duration": 0.631271,
     "end_time": "2025-07-23T01:10:09.794989",
     "exception": false,
     "start_time": "2025-07-23T01:10:09.163718",
     "status": "completed"
    },
    "tags": []
   },
   "outputs": [],
   "source": [
    "import requests\n",
    "import pandas as pd\n",
    "import numpy as np\n",
    "import pickle\n",
    "import googlemaps\n",
    "import plotly.express as px\n",
    "from geopy.geocoders import Nominatim\n",
    "import time\n",
    "from dotenv import load_dotenv\n",
    "import os\n",
    "\n",
    "env_path = os.path.join(\"..\", \".env\")\n",
    "#print(\"Looking for .env file at:\", os.path.abspath(env_path))\n",
    "load_dotenv(dotenv_path=env_path)\n",
    "\n",
    "# Retrieve the variables\n",
    "GOOGLE_API_KEY = os.getenv(\"GOOGLE_API_KEY\")\n",
    "WORKING_DIR = os.getenv(\"WORKING_DIR\")\n",
    "\n",
    "if GOOGLE_API_KEY is None or WORKING_DIR is None:\n",
    "    raise RuntimeError(\"No configuration found. Please ensure that your .env file exists with the required variables, or create a local config.py file.\")\n",
    "\n",
    "#print(\"Google API Key:\", GOOGLE_API_KEY)\n",
    "#print(\"Working Directory:\", WORKING_DIR)"
   ]
  },
  {
   "cell_type": "markdown",
   "id": "6bf65a50",
   "metadata": {
    "papermill": {
     "duration": 0.003382,
     "end_time": "2025-07-23T01:10:09.802043",
     "exception": false,
     "start_time": "2025-07-23T01:10:09.798661",
     "status": "completed"
    },
    "tags": []
   },
   "source": [
    "## Import Data\n",
    "\n",
    "URL: https://opendata.charlottesville.org/datasets/charlottesville::crime-data/about"
   ]
  },
  {
   "cell_type": "code",
   "execution_count": 2,
   "id": "0cddc713",
   "metadata": {
    "execution": {
     "iopub.execute_input": "2025-07-23T01:10:09.809686Z",
     "iopub.status.busy": "2025-07-23T01:10:09.809357Z",
     "iopub.status.idle": "2025-07-23T01:11:18.178546Z",
     "shell.execute_reply": "2025-07-23T01:11:18.177834Z"
    },
    "papermill": {
     "duration": 68.377104,
     "end_time": "2025-07-23T01:11:18.182424",
     "exception": false,
     "start_time": "2025-07-23T01:10:09.805320",
     "status": "completed"
    },
    "tags": []
   },
   "outputs": [
    {
     "name": "stdout",
     "output_type": "stream",
     "text": [
      "Total records imported: 25560\n"
     ]
    }
   ],
   "source": [
    "# Define the endpoint and initial parameters.\n",
    "url = \"https://gisweb.charlottesville.org/arcgis/rest/services/OpenData_2/MapServer/6/query\"\n",
    "params = {\n",
    "    \"where\": \"1=1\",\n",
    "    \"outFields\": \"*\",\n",
    "    \"outSR\": 4326,\n",
    "    \"f\": \"json\",\n",
    "    \"resultOffset\": 0,       # Starting index for results\n",
    "    \"resultRecordCount\": 10000  # Maximum records per batch (if allowed by the API)\n",
    "}\n",
    "\n",
    "records = []\n",
    "\n",
    "while True:\n",
    "    response = requests.get(url, params=params)\n",
    "    response.raise_for_status()\n",
    "    data = response.json()\n",
    "    \n",
    "    # Get the current batch of features.\n",
    "    features = data.get(\"features\", [])\n",
    "    if not features:\n",
    "        break\n",
    "\n",
    "    # Extract the attributes from the features.\n",
    "    batch_records = [feature.get(\"attributes\", {}) for feature in features]\n",
    "    records.extend(batch_records)\n",
    "    \n",
    "    # If the batch size is less than the requested count, we reached the end.\n",
    "    if len(features) < params[\"resultRecordCount\"]:\n",
    "        break\n",
    "\n",
    "    # Update the resultOffset for the next batch.\n",
    "    params[\"resultOffset\"] += params[\"resultRecordCount\"]\n",
    "\n",
    "# Create a DataFrame from the combined records.\n",
    "df = pd.DataFrame(records)\n",
    "print(\"Total records imported:\", len(df))\n"
   ]
  },
  {
   "cell_type": "code",
   "execution_count": 3,
   "id": "a09ceafc",
   "metadata": {
    "execution": {
     "iopub.execute_input": "2025-07-23T01:11:18.190213Z",
     "iopub.status.busy": "2025-07-23T01:11:18.189996Z",
     "iopub.status.idle": "2025-07-23T01:11:18.202545Z",
     "shell.execute_reply": "2025-07-23T01:11:18.201846Z"
    },
    "papermill": {
     "duration": 0.017602,
     "end_time": "2025-07-23T01:11:18.203593",
     "exception": false,
     "start_time": "2025-07-23T01:11:18.185991",
     "status": "completed"
    },
    "tags": []
   },
   "outputs": [
    {
     "data": {
      "text/html": [
       "<div>\n",
       "<style scoped>\n",
       "    .dataframe tbody tr th:only-of-type {\n",
       "        vertical-align: middle;\n",
       "    }\n",
       "\n",
       "    .dataframe tbody tr th {\n",
       "        vertical-align: top;\n",
       "    }\n",
       "\n",
       "    .dataframe thead th {\n",
       "        text-align: right;\n",
       "    }\n",
       "</style>\n",
       "<table border=\"1\" class=\"dataframe\">\n",
       "  <thead>\n",
       "    <tr style=\"text-align: right;\">\n",
       "      <th></th>\n",
       "      <th>RecordID</th>\n",
       "      <th>Offense</th>\n",
       "      <th>IncidentID</th>\n",
       "      <th>BlockNumber</th>\n",
       "      <th>StreetName</th>\n",
       "      <th>Agency</th>\n",
       "      <th>DateReported</th>\n",
       "      <th>HourReported</th>\n",
       "      <th>ReportingOfficer</th>\n",
       "    </tr>\n",
       "  </thead>\n",
       "  <tbody>\n",
       "    <tr>\n",
       "      <th>0</th>\n",
       "      <td>1</td>\n",
       "      <td>Assist Citizen - Mental/TDO/ECO</td>\n",
       "      <td>202500025520</td>\n",
       "      <td>400</td>\n",
       "      <td>RIDGE MCINTIRE RD</td>\n",
       "      <td>CPD</td>\n",
       "      <td>1753066331000</td>\n",
       "      <td>2252</td>\n",
       "      <td>Hannay, Jacob</td>\n",
       "    </tr>\n",
       "    <tr>\n",
       "      <th>1</th>\n",
       "      <td>2</td>\n",
       "      <td>Larceny - From Motor Vehicle</td>\n",
       "      <td>202500025510</td>\n",
       "      <td>1400</td>\n",
       "      <td>PEN PARK RD</td>\n",
       "      <td>CPD</td>\n",
       "      <td>1753058231000</td>\n",
       "      <td>2037</td>\n",
       "      <td>Carrasco, Julio</td>\n",
       "    </tr>\n",
       "    <tr>\n",
       "      <th>2</th>\n",
       "      <td>3</td>\n",
       "      <td>Assault Simple</td>\n",
       "      <td>202500025502</td>\n",
       "      <td>1000</td>\n",
       "      <td>5TH ST SW</td>\n",
       "      <td>CPD</td>\n",
       "      <td>1753055217000</td>\n",
       "      <td>1946</td>\n",
       "      <td>Essex, Dominique</td>\n",
       "    </tr>\n",
       "    <tr>\n",
       "      <th>3</th>\n",
       "      <td>4</td>\n",
       "      <td>Missing Person-juvenile</td>\n",
       "      <td>202500025484</td>\n",
       "      <td>500</td>\n",
       "      <td>PARK ST</td>\n",
       "      <td>CPD</td>\n",
       "      <td>1753045437000</td>\n",
       "      <td>1703</td>\n",
       "      <td>Buckley, Michael</td>\n",
       "    </tr>\n",
       "    <tr>\n",
       "      <th>4</th>\n",
       "      <td>5</td>\n",
       "      <td>Trespass</td>\n",
       "      <td>202500025481</td>\n",
       "      <td>500</td>\n",
       "      <td>1ST ST S</td>\n",
       "      <td>CPD</td>\n",
       "      <td>1753044152000</td>\n",
       "      <td>1642</td>\n",
       "      <td>Essex, Dominique</td>\n",
       "    </tr>\n",
       "  </tbody>\n",
       "</table>\n",
       "</div>"
      ],
      "text/plain": [
       "   RecordID                          Offense    IncidentID BlockNumber  \\\n",
       "0         1  Assist Citizen - Mental/TDO/ECO  202500025520         400   \n",
       "1         2     Larceny - From Motor Vehicle  202500025510        1400   \n",
       "2         3                   Assault Simple  202500025502        1000   \n",
       "3         4          Missing Person-juvenile  202500025484         500   \n",
       "4         5                         Trespass  202500025481         500   \n",
       "\n",
       "          StreetName Agency   DateReported HourReported  ReportingOfficer  \n",
       "0  RIDGE MCINTIRE RD    CPD  1753066331000         2252     Hannay, Jacob  \n",
       "1        PEN PARK RD    CPD  1753058231000         2037   Carrasco, Julio  \n",
       "2          5TH ST SW    CPD  1753055217000         1946  Essex, Dominique  \n",
       "3            PARK ST    CPD  1753045437000         1703  Buckley, Michael  \n",
       "4           1ST ST S    CPD  1753044152000         1642  Essex, Dominique  "
      ]
     },
     "execution_count": 3,
     "metadata": {},
     "output_type": "execute_result"
    }
   ],
   "source": [
    "df.head()"
   ]
  },
  {
   "cell_type": "code",
   "execution_count": 4,
   "id": "a0875f95",
   "metadata": {
    "execution": {
     "iopub.execute_input": "2025-07-23T01:11:18.211731Z",
     "iopub.status.busy": "2025-07-23T01:11:18.211485Z",
     "iopub.status.idle": "2025-07-23T01:11:18.215981Z",
     "shell.execute_reply": "2025-07-23T01:11:18.215412Z"
    },
    "papermill": {
     "duration": 0.009651,
     "end_time": "2025-07-23T01:11:18.217016",
     "exception": false,
     "start_time": "2025-07-23T01:11:18.207365",
     "status": "completed"
    },
    "tags": []
   },
   "outputs": [
    {
     "data": {
      "text/plain": [
       "Index(['RecordID', 'Offense', 'IncidentID', 'BlockNumber', 'StreetName',\n",
       "       'Agency', 'DateReported', 'HourReported', 'ReportingOfficer'],\n",
       "      dtype='object')"
      ]
     },
     "execution_count": 4,
     "metadata": {},
     "output_type": "execute_result"
    }
   ],
   "source": [
    "df.columns"
   ]
  },
  {
   "cell_type": "code",
   "execution_count": 5,
   "id": "ef6cbfc2",
   "metadata": {
    "execution": {
     "iopub.execute_input": "2025-07-23T01:11:18.225215Z",
     "iopub.status.busy": "2025-07-23T01:11:18.224996Z",
     "iopub.status.idle": "2025-07-23T01:11:18.251064Z",
     "shell.execute_reply": "2025-07-23T01:11:18.250469Z"
    },
    "papermill": {
     "duration": 0.031294,
     "end_time": "2025-07-23T01:11:18.252083",
     "exception": false,
     "start_time": "2025-07-23T01:11:18.220789",
     "status": "completed"
    },
    "tags": []
   },
   "outputs": [
    {
     "name": "stdout",
     "output_type": "stream",
     "text": [
      "<class 'pandas.core.frame.DataFrame'>\n",
      "RangeIndex: 25560 entries, 0 to 25559\n",
      "Data columns (total 9 columns):\n",
      " #   Column            Non-Null Count  Dtype \n",
      "---  ------            --------------  ----- \n",
      " 0   RecordID          25560 non-null  int64 \n",
      " 1   Offense           25560 non-null  object\n",
      " 2   IncidentID        25560 non-null  object\n",
      " 3   BlockNumber       25560 non-null  object\n",
      " 4   StreetName        25560 non-null  object\n",
      " 5   Agency            25560 non-null  object\n",
      " 6   DateReported      25560 non-null  int64 \n",
      " 7   HourReported      25560 non-null  object\n",
      " 8   ReportingOfficer  25543 non-null  object\n",
      "dtypes: int64(2), object(7)\n",
      "memory usage: 1.8+ MB\n"
     ]
    }
   ],
   "source": [
    "df.info()"
   ]
  },
  {
   "cell_type": "markdown",
   "id": "c9a8f978",
   "metadata": {
    "papermill": {
     "duration": 0.003725,
     "end_time": "2025-07-23T01:11:18.259835",
     "exception": false,
     "start_time": "2025-07-23T01:11:18.256110",
     "status": "completed"
    },
    "tags": []
   },
   "source": [
    "### Missing Values"
   ]
  },
  {
   "cell_type": "code",
   "execution_count": 6,
   "id": "9b6998e5",
   "metadata": {
    "execution": {
     "iopub.execute_input": "2025-07-23T01:11:18.268194Z",
     "iopub.status.busy": "2025-07-23T01:11:18.267945Z",
     "iopub.status.idle": "2025-07-23T01:11:18.293541Z",
     "shell.execute_reply": "2025-07-23T01:11:18.292942Z"
    },
    "papermill": {
     "duration": 0.03107,
     "end_time": "2025-07-23T01:11:18.294591",
     "exception": false,
     "start_time": "2025-07-23T01:11:18.263521",
     "status": "completed"
    },
    "tags": []
   },
   "outputs": [
    {
     "name": "stdout",
     "output_type": "stream",
     "text": [
      "                  MissingCount  MissingPercentage\n",
      "RecordID                     0               0.00\n",
      "Offense                      0               0.00\n",
      "IncidentID                   0               0.00\n",
      "BlockNumber                  0               0.00\n",
      "StreetName                   0               0.00\n",
      "Agency                       0               0.00\n",
      "DateReported                 0               0.00\n",
      "HourReported                 0               0.00\n",
      "ReportingOfficer            17               0.07\n"
     ]
    }
   ],
   "source": [
    "def missing_percentage(df):\n",
    "    \"\"\"\n",
    "    Returns a DataFrame with the count and percentage of missing values for each column.\n",
    "    \n",
    "    Parameters:\n",
    "        df (pd.DataFrame): The input DataFrame.\n",
    "    \n",
    "    Returns:\n",
    "        pd.DataFrame: A DataFrame with columns 'MissingCount' and 'MissingPercentage'.\n",
    "    \"\"\"\n",
    "    total_rows = len(df)\n",
    "    missing_count = df.isnull().sum()\n",
    "    missing_percent = (missing_count / total_rows) * 100\n",
    "    \n",
    "    result = pd.DataFrame({\n",
    "        'MissingCount': missing_count,\n",
    "        'MissingPercentage': missing_percent.round(2)\n",
    "    })\n",
    "    \n",
    "    return result\n",
    "\n",
    "# Example usage:\n",
    "missing_info = missing_percentage(df)\n",
    "print(missing_info)\n"
   ]
  },
  {
   "cell_type": "markdown",
   "id": "bc60d273",
   "metadata": {
    "papermill": {
     "duration": 0.003808,
     "end_time": "2025-07-23T01:11:18.302760",
     "exception": false,
     "start_time": "2025-07-23T01:11:18.298952",
     "status": "completed"
    },
    "tags": []
   },
   "source": [
    "## Data Preparation"
   ]
  },
  {
   "cell_type": "markdown",
   "id": "ba118039",
   "metadata": {
    "papermill": {
     "duration": 0.003754,
     "end_time": "2025-07-23T01:11:18.310316",
     "exception": false,
     "start_time": "2025-07-23T01:11:18.306562",
     "status": "completed"
    },
    "tags": []
   },
   "source": [
    "### Data Conversion"
   ]
  },
  {
   "cell_type": "code",
   "execution_count": 7,
   "id": "2ecf2595",
   "metadata": {
    "execution": {
     "iopub.execute_input": "2025-07-23T01:11:18.319159Z",
     "iopub.status.busy": "2025-07-23T01:11:18.318894Z",
     "iopub.status.idle": "2025-07-23T01:11:18.683381Z",
     "shell.execute_reply": "2025-07-23T01:11:18.682793Z"
    },
    "papermill": {
     "duration": 0.370236,
     "end_time": "2025-07-23T01:11:18.684443",
     "exception": false,
     "start_time": "2025-07-23T01:11:18.314207",
     "status": "completed"
    },
    "tags": []
   },
   "outputs": [
    {
     "data": {
      "text/html": [
       "<div>\n",
       "<style scoped>\n",
       "    .dataframe tbody tr th:only-of-type {\n",
       "        vertical-align: middle;\n",
       "    }\n",
       "\n",
       "    .dataframe tbody tr th {\n",
       "        vertical-align: top;\n",
       "    }\n",
       "\n",
       "    .dataframe thead th {\n",
       "        text-align: right;\n",
       "    }\n",
       "</style>\n",
       "<table border=\"1\" class=\"dataframe\">\n",
       "  <thead>\n",
       "    <tr style=\"text-align: right;\">\n",
       "      <th></th>\n",
       "      <th>RecordID</th>\n",
       "      <th>Offense</th>\n",
       "      <th>IncidentID</th>\n",
       "      <th>BlockNumber</th>\n",
       "      <th>StreetName</th>\n",
       "      <th>Agency</th>\n",
       "      <th>HourReported</th>\n",
       "      <th>ReportingOfficer</th>\n",
       "      <th>Date</th>\n",
       "      <th>DateString</th>\n",
       "      <th>DayOfWeek</th>\n",
       "      <th>Weekend</th>\n",
       "      <th>Season</th>\n",
       "      <th>HourAMPM</th>\n",
       "      <th>TimeOfDay</th>\n",
       "    </tr>\n",
       "  </thead>\n",
       "  <tbody>\n",
       "    <tr>\n",
       "      <th>0</th>\n",
       "      <td>1</td>\n",
       "      <td>Assist Citizen - Mental/TDO/ECO</td>\n",
       "      <td>202500025520</td>\n",
       "      <td>400</td>\n",
       "      <td>RIDGE MCINTIRE RD</td>\n",
       "      <td>CPD</td>\n",
       "      <td>2252</td>\n",
       "      <td>Hannay, Jacob</td>\n",
       "      <td>2025-07-20 22:52:11</td>\n",
       "      <td>2025-07-20 10:52:11 PM</td>\n",
       "      <td>Sunday</td>\n",
       "      <td>True</td>\n",
       "      <td>Summer</td>\n",
       "      <td>10:52 PM</td>\n",
       "      <td>Night</td>\n",
       "    </tr>\n",
       "    <tr>\n",
       "      <th>1</th>\n",
       "      <td>2</td>\n",
       "      <td>Larceny - From Motor Vehicle</td>\n",
       "      <td>202500025510</td>\n",
       "      <td>1400</td>\n",
       "      <td>PEN PARK RD</td>\n",
       "      <td>CPD</td>\n",
       "      <td>2037</td>\n",
       "      <td>Carrasco, Julio</td>\n",
       "      <td>2025-07-20 20:37:11</td>\n",
       "      <td>2025-07-20 08:37:11 PM</td>\n",
       "      <td>Sunday</td>\n",
       "      <td>True</td>\n",
       "      <td>Summer</td>\n",
       "      <td>08:37 PM</td>\n",
       "      <td>Evening</td>\n",
       "    </tr>\n",
       "    <tr>\n",
       "      <th>2</th>\n",
       "      <td>3</td>\n",
       "      <td>Assault Simple</td>\n",
       "      <td>202500025502</td>\n",
       "      <td>1000</td>\n",
       "      <td>5TH ST SW</td>\n",
       "      <td>CPD</td>\n",
       "      <td>1946</td>\n",
       "      <td>Essex, Dominique</td>\n",
       "      <td>2025-07-20 19:46:57</td>\n",
       "      <td>2025-07-20 07:46:57 PM</td>\n",
       "      <td>Sunday</td>\n",
       "      <td>True</td>\n",
       "      <td>Summer</td>\n",
       "      <td>07:46 PM</td>\n",
       "      <td>Evening</td>\n",
       "    </tr>\n",
       "    <tr>\n",
       "      <th>3</th>\n",
       "      <td>4</td>\n",
       "      <td>Missing Person-juvenile</td>\n",
       "      <td>202500025484</td>\n",
       "      <td>500</td>\n",
       "      <td>PARK ST</td>\n",
       "      <td>CPD</td>\n",
       "      <td>1703</td>\n",
       "      <td>Buckley, Michael</td>\n",
       "      <td>2025-07-20 17:03:57</td>\n",
       "      <td>2025-07-20 05:03:57 PM</td>\n",
       "      <td>Sunday</td>\n",
       "      <td>True</td>\n",
       "      <td>Summer</td>\n",
       "      <td>05:03 PM</td>\n",
       "      <td>Evening</td>\n",
       "    </tr>\n",
       "    <tr>\n",
       "      <th>4</th>\n",
       "      <td>5</td>\n",
       "      <td>Trespass</td>\n",
       "      <td>202500025481</td>\n",
       "      <td>500</td>\n",
       "      <td>1ST ST S</td>\n",
       "      <td>CPD</td>\n",
       "      <td>1642</td>\n",
       "      <td>Essex, Dominique</td>\n",
       "      <td>2025-07-20 16:42:32</td>\n",
       "      <td>2025-07-20 04:42:32 PM</td>\n",
       "      <td>Sunday</td>\n",
       "      <td>True</td>\n",
       "      <td>Summer</td>\n",
       "      <td>04:42 PM</td>\n",
       "      <td>Afternoon</td>\n",
       "    </tr>\n",
       "  </tbody>\n",
       "</table>\n",
       "</div>"
      ],
      "text/plain": [
       "   RecordID                          Offense    IncidentID BlockNumber  \\\n",
       "0         1  Assist Citizen - Mental/TDO/ECO  202500025520         400   \n",
       "1         2     Larceny - From Motor Vehicle  202500025510        1400   \n",
       "2         3                   Assault Simple  202500025502        1000   \n",
       "3         4          Missing Person-juvenile  202500025484         500   \n",
       "4         5                         Trespass  202500025481         500   \n",
       "\n",
       "          StreetName Agency HourReported  ReportingOfficer  \\\n",
       "0  RIDGE MCINTIRE RD    CPD         2252     Hannay, Jacob   \n",
       "1        PEN PARK RD    CPD         2037   Carrasco, Julio   \n",
       "2          5TH ST SW    CPD         1946  Essex, Dominique   \n",
       "3            PARK ST    CPD         1703  Buckley, Michael   \n",
       "4           1ST ST S    CPD         1642  Essex, Dominique   \n",
       "\n",
       "                 Date              DateString DayOfWeek  Weekend  Season  \\\n",
       "0 2025-07-20 22:52:11  2025-07-20 10:52:11 PM    Sunday     True  Summer   \n",
       "1 2025-07-20 20:37:11  2025-07-20 08:37:11 PM    Sunday     True  Summer   \n",
       "2 2025-07-20 19:46:57  2025-07-20 07:46:57 PM    Sunday     True  Summer   \n",
       "3 2025-07-20 17:03:57  2025-07-20 05:03:57 PM    Sunday     True  Summer   \n",
       "4 2025-07-20 16:42:32  2025-07-20 04:42:32 PM    Sunday     True  Summer   \n",
       "\n",
       "   HourAMPM  TimeOfDay  \n",
       "0  10:52 PM      Night  \n",
       "1  08:37 PM    Evening  \n",
       "2  07:46 PM    Evening  \n",
       "3  05:03 PM    Evening  \n",
       "4  04:42 PM  Afternoon  "
      ]
     },
     "execution_count": 7,
     "metadata": {},
     "output_type": "execute_result"
    }
   ],
   "source": [
    "def convert_and_categorize_datereported(df, col='DateReported'):\n",
    "    \"\"\"\n",
    "    Converts an epoch (in milliseconds) date column into a timezone-aware datetime,\n",
    "    converts it to Eastern Time, and then creates columns for day-of-week, weekend flag,\n",
    "    season, 12-hour formatted time, and time-of-day. Keeps both a real datetime column\n",
    "    (Date) and a string representation (DateString).\n",
    "    \"\"\"\n",
    "    import pandas as pd\n",
    "\n",
    "    # Convert the epoch timestamp to a pandas datetime object as UTC, then convert to US/Eastern.\n",
    "    df[\"DateReported_dt\"] = (\n",
    "        pd.to_datetime(df[col], unit=\"ms\", errors=\"coerce\", utc=True)\n",
    "        .dt.tz_convert(\"US/Eastern\")\n",
    "    )\n",
    "    \n",
    "    # Create a true datetime column (remove timezone if you prefer naive datetime)\n",
    "    df[\"Date\"] = df[\"DateReported_dt\"].dt.tz_localize(None)\n",
    "\n",
    "    # Optionally, create a separate string-formatted column\n",
    "    df[\"DateString\"] = df[\"DateReported_dt\"].dt.strftime(\"%Y-%m-%d %I:%M:%S %p\")\n",
    "    \n",
    "    # DayOfWeek\n",
    "    df[\"DayOfWeek\"] = df[\"DateReported_dt\"].dt.day_name()\n",
    "    \n",
    "    # Weekend\n",
    "    df[\"Weekend\"] = df[\"DayOfWeek\"].isin([\"Saturday\", \"Sunday\"])\n",
    "    \n",
    "    # Helper function to determine the season\n",
    "    def get_season(dt):\n",
    "        month = dt.month\n",
    "        day = dt.day\n",
    "        # Approximate Northern Hemisphere season boundaries:\n",
    "        if (month == 12 and day >= 21) or (month < 3) or (month == 3 and day < 20):\n",
    "            return \"Winter\"\n",
    "        elif (month == 3 and day >= 20) or (month < 6) or (month == 6 and day < 21):\n",
    "            return \"Spring\"\n",
    "        elif (month == 6 and day >= 21) or (month < 9) or (month == 9 and day < 22):\n",
    "            return \"Summer\"\n",
    "        else:\n",
    "            return \"Autumn\"\n",
    "    \n",
    "    df[\"Season\"] = df[\"DateReported_dt\"].apply(get_season)\n",
    "    \n",
    "    # 12-hour formatted time (HourAMPM)\n",
    "    df[\"HourAMPM\"] = df[\"DateReported_dt\"].dt.strftime(\"%I:%M %p\")\n",
    "    \n",
    "    # Extract hour (0-23) for time-of-day\n",
    "    df[\"HourValue\"] = df[\"DateReported_dt\"].dt.hour\n",
    "    \n",
    "    def time_of_day(hour):\n",
    "        if pd.isnull(hour):\n",
    "            return None\n",
    "        if 5 <= hour < 12:\n",
    "            return \"Morning\"\n",
    "        elif 12 <= hour < 17:\n",
    "            return \"Afternoon\"\n",
    "        elif 17 <= hour < 21:\n",
    "            return \"Evening\"\n",
    "        else:\n",
    "            return \"Night\"\n",
    "    \n",
    "    df[\"TimeOfDay\"] = df[\"HourValue\"].apply(time_of_day)\n",
    "    \n",
    "    # Drop columns you no longer need\n",
    "    df.drop(columns=[col, \"DateReported_dt\", \"HourValue\"], inplace=True)\n",
    "    \n",
    "    return df\n",
    "\n",
    "# Example usage:\n",
    "df = convert_and_categorize_datereported(df)\n",
    "df.head()\n"
   ]
  },
  {
   "cell_type": "code",
   "execution_count": 8,
   "id": "7fd3679a",
   "metadata": {
    "execution": {
     "iopub.execute_input": "2025-07-23T01:11:18.693673Z",
     "iopub.status.busy": "2025-07-23T01:11:18.693449Z",
     "iopub.status.idle": "2025-07-23T01:11:18.719674Z",
     "shell.execute_reply": "2025-07-23T01:11:18.719110Z"
    },
    "papermill": {
     "duration": 0.031962,
     "end_time": "2025-07-23T01:11:18.720784",
     "exception": false,
     "start_time": "2025-07-23T01:11:18.688822",
     "status": "completed"
    },
    "tags": []
   },
   "outputs": [
    {
     "name": "stdout",
     "output_type": "stream",
     "text": [
      "<class 'pandas.core.frame.DataFrame'>\n",
      "RangeIndex: 25560 entries, 0 to 25559\n",
      "Data columns (total 15 columns):\n",
      " #   Column            Non-Null Count  Dtype         \n",
      "---  ------            --------------  -----         \n",
      " 0   RecordID          25560 non-null  int64         \n",
      " 1   Offense           25560 non-null  object        \n",
      " 2   IncidentID        25560 non-null  object        \n",
      " 3   BlockNumber       25560 non-null  object        \n",
      " 4   StreetName        25560 non-null  object        \n",
      " 5   Agency            25560 non-null  object        \n",
      " 6   HourReported      25560 non-null  object        \n",
      " 7   ReportingOfficer  25543 non-null  object        \n",
      " 8   Date              25560 non-null  datetime64[ns]\n",
      " 9   DateString        25560 non-null  object        \n",
      " 10  DayOfWeek         25560 non-null  object        \n",
      " 11  Weekend           25560 non-null  bool          \n",
      " 12  Season            25560 non-null  object        \n",
      " 13  HourAMPM          25560 non-null  object        \n",
      " 14  TimeOfDay         25560 non-null  object        \n",
      "dtypes: bool(1), datetime64[ns](1), int64(1), object(12)\n",
      "memory usage: 2.8+ MB\n"
     ]
    }
   ],
   "source": [
    "df.info()"
   ]
  },
  {
   "cell_type": "markdown",
   "id": "41d94855",
   "metadata": {
    "papermill": {
     "duration": 0.004098,
     "end_time": "2025-07-23T01:11:18.729296",
     "exception": false,
     "start_time": "2025-07-23T01:11:18.725198",
     "status": "completed"
    },
    "tags": []
   },
   "source": [
    "### Coordinates"
   ]
  },
  {
   "cell_type": "code",
   "execution_count": 9,
   "id": "f0877708",
   "metadata": {
    "execution": {
     "iopub.execute_input": "2025-07-23T01:11:18.738349Z",
     "iopub.status.busy": "2025-07-23T01:11:18.738144Z",
     "iopub.status.idle": "2025-07-23T01:11:18.885394Z",
     "shell.execute_reply": "2025-07-23T01:11:18.884743Z"
    },
    "papermill": {
     "duration": 0.15306,
     "end_time": "2025-07-23T01:11:18.886454",
     "exception": false,
     "start_time": "2025-07-23T01:11:18.733394",
     "status": "completed"
    },
    "tags": []
   },
   "outputs": [
    {
     "name": "stdout",
     "output_type": "stream",
     "text": [
      "Loaded geocode cache.\n",
      "Error geocoding 1100 5TH ST SW, 326: REQUEST_DENIED (You must enable Billing on the Google Cloud Project at https://console.cloud.google.com/project/_/billing/enable Learn more at https://developers.google.com/maps/gmp-get-started)\n",
      "Geocoded 1100 5TH ST SW, 326: None, None\n",
      "Geocode cache updated and saved.\n"
     ]
    },
    {
     "data": {
      "text/html": [
       "<div>\n",
       "<style scoped>\n",
       "    .dataframe tbody tr th:only-of-type {\n",
       "        vertical-align: middle;\n",
       "    }\n",
       "\n",
       "    .dataframe tbody tr th {\n",
       "        vertical-align: top;\n",
       "    }\n",
       "\n",
       "    .dataframe thead th {\n",
       "        text-align: right;\n",
       "    }\n",
       "</style>\n",
       "<table border=\"1\" class=\"dataframe\">\n",
       "  <thead>\n",
       "    <tr style=\"text-align: right;\">\n",
       "      <th></th>\n",
       "      <th>RecordID</th>\n",
       "      <th>Offense</th>\n",
       "      <th>IncidentID</th>\n",
       "      <th>BlockNumber</th>\n",
       "      <th>StreetName</th>\n",
       "      <th>Agency</th>\n",
       "      <th>HourReported</th>\n",
       "      <th>ReportingOfficer</th>\n",
       "      <th>Date</th>\n",
       "      <th>DateString</th>\n",
       "      <th>DayOfWeek</th>\n",
       "      <th>Weekend</th>\n",
       "      <th>Season</th>\n",
       "      <th>HourAMPM</th>\n",
       "      <th>TimeOfDay</th>\n",
       "      <th>FullStreet</th>\n",
       "      <th>lat</th>\n",
       "      <th>lon</th>\n",
       "    </tr>\n",
       "  </thead>\n",
       "  <tbody>\n",
       "    <tr>\n",
       "      <th>0</th>\n",
       "      <td>1</td>\n",
       "      <td>Assist Citizen - Mental/TDO/ECO</td>\n",
       "      <td>202500025520</td>\n",
       "      <td>400</td>\n",
       "      <td>RIDGE MCINTIRE RD</td>\n",
       "      <td>CPD</td>\n",
       "      <td>2252</td>\n",
       "      <td>Hannay, Jacob</td>\n",
       "      <td>2025-07-20 22:52:11</td>\n",
       "      <td>2025-07-20 10:52:11 PM</td>\n",
       "      <td>Sunday</td>\n",
       "      <td>True</td>\n",
       "      <td>Summer</td>\n",
       "      <td>10:52 PM</td>\n",
       "      <td>Night</td>\n",
       "      <td>400 RIDGE MCINTIRE RD</td>\n",
       "      <td>38.032597</td>\n",
       "      <td>-78.484605</td>\n",
       "    </tr>\n",
       "    <tr>\n",
       "      <th>1</th>\n",
       "      <td>2</td>\n",
       "      <td>Larceny - From Motor Vehicle</td>\n",
       "      <td>202500025510</td>\n",
       "      <td>1400</td>\n",
       "      <td>PEN PARK RD</td>\n",
       "      <td>CPD</td>\n",
       "      <td>2037</td>\n",
       "      <td>Carrasco, Julio</td>\n",
       "      <td>2025-07-20 20:37:11</td>\n",
       "      <td>2025-07-20 08:37:11 PM</td>\n",
       "      <td>Sunday</td>\n",
       "      <td>True</td>\n",
       "      <td>Summer</td>\n",
       "      <td>08:37 PM</td>\n",
       "      <td>Evening</td>\n",
       "      <td>1400 PEN PARK RD</td>\n",
       "      <td>38.049861</td>\n",
       "      <td>-78.451616</td>\n",
       "    </tr>\n",
       "    <tr>\n",
       "      <th>2</th>\n",
       "      <td>3</td>\n",
       "      <td>Assault Simple</td>\n",
       "      <td>202500025502</td>\n",
       "      <td>1000</td>\n",
       "      <td>5TH ST SW</td>\n",
       "      <td>CPD</td>\n",
       "      <td>1946</td>\n",
       "      <td>Essex, Dominique</td>\n",
       "      <td>2025-07-20 19:46:57</td>\n",
       "      <td>2025-07-20 07:46:57 PM</td>\n",
       "      <td>Sunday</td>\n",
       "      <td>True</td>\n",
       "      <td>Summer</td>\n",
       "      <td>07:46 PM</td>\n",
       "      <td>Evening</td>\n",
       "      <td>1000 5TH ST SW</td>\n",
       "      <td>38.020564</td>\n",
       "      <td>-78.494547</td>\n",
       "    </tr>\n",
       "    <tr>\n",
       "      <th>3</th>\n",
       "      <td>4</td>\n",
       "      <td>Missing Person-juvenile</td>\n",
       "      <td>202500025484</td>\n",
       "      <td>500</td>\n",
       "      <td>PARK ST</td>\n",
       "      <td>CPD</td>\n",
       "      <td>1703</td>\n",
       "      <td>Buckley, Michael</td>\n",
       "      <td>2025-07-20 17:03:57</td>\n",
       "      <td>2025-07-20 05:03:57 PM</td>\n",
       "      <td>Sunday</td>\n",
       "      <td>True</td>\n",
       "      <td>Summer</td>\n",
       "      <td>05:03 PM</td>\n",
       "      <td>Evening</td>\n",
       "      <td>500 PARK ST</td>\n",
       "      <td>38.033037</td>\n",
       "      <td>-78.475772</td>\n",
       "    </tr>\n",
       "    <tr>\n",
       "      <th>4</th>\n",
       "      <td>5</td>\n",
       "      <td>Trespass</td>\n",
       "      <td>202500025481</td>\n",
       "      <td>500</td>\n",
       "      <td>1ST ST S</td>\n",
       "      <td>CPD</td>\n",
       "      <td>1642</td>\n",
       "      <td>Essex, Dominique</td>\n",
       "      <td>2025-07-20 16:42:32</td>\n",
       "      <td>2025-07-20 04:42:32 PM</td>\n",
       "      <td>Sunday</td>\n",
       "      <td>True</td>\n",
       "      <td>Summer</td>\n",
       "      <td>04:42 PM</td>\n",
       "      <td>Afternoon</td>\n",
       "      <td>500 1ST ST S</td>\n",
       "      <td>38.027065</td>\n",
       "      <td>-78.482991</td>\n",
       "    </tr>\n",
       "  </tbody>\n",
       "</table>\n",
       "</div>"
      ],
      "text/plain": [
       "   RecordID                          Offense    IncidentID BlockNumber  \\\n",
       "0         1  Assist Citizen - Mental/TDO/ECO  202500025520         400   \n",
       "1         2     Larceny - From Motor Vehicle  202500025510        1400   \n",
       "2         3                   Assault Simple  202500025502        1000   \n",
       "3         4          Missing Person-juvenile  202500025484         500   \n",
       "4         5                         Trespass  202500025481         500   \n",
       "\n",
       "          StreetName Agency HourReported  ReportingOfficer  \\\n",
       "0  RIDGE MCINTIRE RD    CPD         2252     Hannay, Jacob   \n",
       "1        PEN PARK RD    CPD         2037   Carrasco, Julio   \n",
       "2          5TH ST SW    CPD         1946  Essex, Dominique   \n",
       "3            PARK ST    CPD         1703  Buckley, Michael   \n",
       "4           1ST ST S    CPD         1642  Essex, Dominique   \n",
       "\n",
       "                 Date              DateString DayOfWeek  Weekend  Season  \\\n",
       "0 2025-07-20 22:52:11  2025-07-20 10:52:11 PM    Sunday     True  Summer   \n",
       "1 2025-07-20 20:37:11  2025-07-20 08:37:11 PM    Sunday     True  Summer   \n",
       "2 2025-07-20 19:46:57  2025-07-20 07:46:57 PM    Sunday     True  Summer   \n",
       "3 2025-07-20 17:03:57  2025-07-20 05:03:57 PM    Sunday     True  Summer   \n",
       "4 2025-07-20 16:42:32  2025-07-20 04:42:32 PM    Sunday     True  Summer   \n",
       "\n",
       "   HourAMPM  TimeOfDay             FullStreet        lat        lon  \n",
       "0  10:52 PM      Night  400 RIDGE MCINTIRE RD  38.032597 -78.484605  \n",
       "1  08:37 PM    Evening       1400 PEN PARK RD  38.049861 -78.451616  \n",
       "2  07:46 PM    Evening         1000 5TH ST SW  38.020564 -78.494547  \n",
       "3  05:03 PM    Evening            500 PARK ST  38.033037 -78.475772  \n",
       "4  04:42 PM  Afternoon           500 1ST ST S  38.027065 -78.482991  "
      ]
     },
     "execution_count": 9,
     "metadata": {},
     "output_type": "execute_result"
    }
   ],
   "source": [
    "# Combine BlockNumber and StreetName into a full address string\n",
    "df['FullStreet'] = df['BlockNumber'].astype(str) + \" \" + df['StreetName']\n",
    "\n",
    "# --- Step 1: Setup the Google Maps Client and Cache ---\n",
    "gmaps = googlemaps.Client(key=GOOGLE_API_KEY)\n",
    "\n",
    "# Try to load cached geocoding results if available.\n",
    "try:\n",
    "    with open(\"geocode_cache_google.pkl\", \"rb\") as f:\n",
    "        street_coords = pickle.load(f)\n",
    "    print(\"Loaded geocode cache.\")\n",
    "except FileNotFoundError:\n",
    "    street_coords = {}\n",
    "    print(\"No cache found; starting fresh.\")\n",
    "\n",
    "def geocode_address(address):\n",
    "    try:\n",
    "        # Append city and state to help geocoding\n",
    "        result = gmaps.geocode(f\"{address}, Charlottesville, VA\")\n",
    "        if result:\n",
    "            lat = result[0]['geometry']['location']['lat']\n",
    "            lon = result[0]['geometry']['location']['lng']\n",
    "            return lat, lon\n",
    "    except Exception as e:\n",
    "        print(f\"Error geocoding {address}: {e}\")\n",
    "    return None, None\n",
    "\n",
    "# --- Step 2: Geocode Only New Addresses ---\n",
    "unique_addresses = df['FullStreet'].unique()\n",
    "for address in unique_addresses:\n",
    "    if address not in street_coords:\n",
    "        lat, lon = geocode_address(address)\n",
    "        street_coords[address] = (lat, lon)\n",
    "        print(f\"Geocoded {address}: {lat}, {lon}\")\n",
    "\n",
    "# Save the updated cache to disk.\n",
    "with open(\"geocode_cache_google.pkl\", \"wb\") as f:\n",
    "    pickle.dump(street_coords, f)\n",
    "    print(\"Geocode cache updated and saved.\")\n",
    "\n",
    "# --- Step 3: Map Coordinates Back to DataFrame ---\n",
    "df['lat'] = df['FullStreet'].map(lambda s: street_coords.get(s, (None, None))[0])\n",
    "df['lon'] = df['FullStreet'].map(lambda s: street_coords.get(s, (None, None))[1])\n",
    "\n",
    "df.head()"
   ]
  },
  {
   "cell_type": "markdown",
   "id": "aada5c5e",
   "metadata": {
    "papermill": {
     "duration": 0.004399,
     "end_time": "2025-07-23T01:11:18.895688",
     "exception": false,
     "start_time": "2025-07-23T01:11:18.891289",
     "status": "completed"
    },
    "tags": []
   },
   "source": [
    "### Neighborhood"
   ]
  },
  {
   "cell_type": "code",
   "execution_count": 10,
   "id": "6adbf3fd",
   "metadata": {
    "execution": {
     "iopub.execute_input": "2025-07-23T01:11:18.905422Z",
     "iopub.status.busy": "2025-07-23T01:11:18.905179Z",
     "iopub.status.idle": "2025-07-23T01:11:20.757344Z",
     "shell.execute_reply": "2025-07-23T01:11:20.756638Z"
    },
    "papermill": {
     "duration": 1.858335,
     "end_time": "2025-07-23T01:11:20.758432",
     "exception": false,
     "start_time": "2025-07-23T01:11:18.900097",
     "status": "completed"
    },
    "tags": []
   },
   "outputs": [
    {
     "name": "stdout",
     "output_type": "stream",
     "text": [
      "Loaded neighborhood cache.\n"
     ]
    },
    {
     "name": "stdout",
     "output_type": "stream",
     "text": [
      "Error getting neighborhood for nan, nan: HTTP Error: 400\n",
      "Error getting neighborhood for nan, nan: HTTP Error: 400\n",
      "Error getting neighborhood for nan, nan: HTTP Error: 400\n"
     ]
    },
    {
     "name": "stdout",
     "output_type": "stream",
     "text": [
      "Error getting neighborhood for nan, nan: HTTP Error: 400\n",
      "Error getting neighborhood for nan, nan: HTTP Error: 400\n",
      "Error getting neighborhood for nan, nan: HTTP Error: 400\n",
      "Error getting neighborhood for nan, nan: HTTP Error: 400\n"
     ]
    },
    {
     "name": "stdout",
     "output_type": "stream",
     "text": [
      "Error getting neighborhood for nan, nan: HTTP Error: 400\n",
      "Error getting neighborhood for nan, nan: HTTP Error: 400\n",
      "Error getting neighborhood for nan, nan: HTTP Error: 400\n",
      "Error getting neighborhood for nan, nan: HTTP Error: 400\n"
     ]
    },
    {
     "name": "stdout",
     "output_type": "stream",
     "text": [
      "Error getting neighborhood for nan, nan: HTTP Error: 400\n",
      "Error getting neighborhood for nan, nan: HTTP Error: 400\n",
      "Error getting neighborhood for nan, nan: HTTP Error: 400\n",
      "Error getting neighborhood for nan, nan: HTTP Error: 400\n"
     ]
    },
    {
     "name": "stdout",
     "output_type": "stream",
     "text": [
      "Error getting neighborhood for nan, nan: HTTP Error: 400\n",
      "Error getting neighborhood for nan, nan: HTTP Error: 400\n",
      "Error getting neighborhood for nan, nan: HTTP Error: 400\n",
      "Error getting neighborhood for nan, nan: HTTP Error: 400\n",
      "Error getting neighborhood for nan, nan: HTTP Error: 400\n"
     ]
    },
    {
     "name": "stdout",
     "output_type": "stream",
     "text": [
      "Error getting neighborhood for nan, nan: HTTP Error: 400\n",
      "Error getting neighborhood for nan, nan: HTTP Error: 400\n",
      "Error getting neighborhood for nan, nan: HTTP Error: 400\n",
      "Error getting neighborhood for nan, nan: HTTP Error: 400\n"
     ]
    },
    {
     "name": "stdout",
     "output_type": "stream",
     "text": [
      "Error getting neighborhood for nan, nan: HTTP Error: 400\n",
      "Error getting neighborhood for nan, nan: HTTP Error: 400\n",
      "Error getting neighborhood for nan, nan: HTTP Error: 400\n",
      "Error getting neighborhood for nan, nan: HTTP Error: 400\n",
      "Error getting neighborhood for nan, nan: HTTP Error: 400\n"
     ]
    },
    {
     "name": "stdout",
     "output_type": "stream",
     "text": [
      "Error getting neighborhood for nan, nan: HTTP Error: 400\n",
      "Error getting neighborhood for nan, nan: HTTP Error: 400\n",
      "Error getting neighborhood for nan, nan: HTTP Error: 400\n",
      "Error getting neighborhood for nan, nan: HTTP Error: 400\n"
     ]
    },
    {
     "name": "stdout",
     "output_type": "stream",
     "text": [
      "Error getting neighborhood for nan, nan: HTTP Error: 400\n",
      "Error getting neighborhood for nan, nan: HTTP Error: 400\n",
      "Error getting neighborhood for nan, nan: HTTP Error: 400\n",
      "Error getting neighborhood for nan, nan: HTTP Error: 400\n",
      "Error getting neighborhood for nan, nan: HTTP Error: 400\n"
     ]
    },
    {
     "name": "stdout",
     "output_type": "stream",
     "text": [
      "Error getting neighborhood for nan, nan: HTTP Error: 400\n",
      "Error getting neighborhood for nan, nan: HTTP Error: 400\n",
      "Error getting neighborhood for nan, nan: HTTP Error: 400\n",
      "Error getting neighborhood for nan, nan: HTTP Error: 400\n"
     ]
    },
    {
     "name": "stdout",
     "output_type": "stream",
     "text": [
      "Error getting neighborhood for nan, nan: HTTP Error: 400\n",
      "Error getting neighborhood for nan, nan: HTTP Error: 400\n",
      "Error getting neighborhood for nan, nan: HTTP Error: 400\n",
      "Error getting neighborhood for nan, nan: HTTP Error: 400\n",
      "Error getting neighborhood for nan, nan: HTTP Error: 400\n"
     ]
    },
    {
     "name": "stdout",
     "output_type": "stream",
     "text": [
      "Error getting neighborhood for nan, nan: HTTP Error: 400\n",
      "Error getting neighborhood for nan, nan: HTTP Error: 400\n",
      "Error getting neighborhood for nan, nan: HTTP Error: 400\n",
      "Error getting neighborhood for nan, nan: HTTP Error: 400\n"
     ]
    },
    {
     "name": "stdout",
     "output_type": "stream",
     "text": [
      "Error getting neighborhood for nan, nan: HTTP Error: 400\n",
      "Error getting neighborhood for nan, nan: HTTP Error: 400\n",
      "Error getting neighborhood for nan, nan: HTTP Error: 400\n",
      "Error getting neighborhood for nan, nan: HTTP Error: 400\n",
      "Error getting neighborhood for nan, nan: HTTP Error: 400\n"
     ]
    },
    {
     "name": "stdout",
     "output_type": "stream",
     "text": [
      "Error getting neighborhood for nan, nan: HTTP Error: 400\n",
      "Error getting neighborhood for nan, nan: HTTP Error: 400\n",
      "Error getting neighborhood for nan, nan: HTTP Error: 400\n",
      "Error getting neighborhood for nan, nan: HTTP Error: 400\n"
     ]
    },
    {
     "name": "stdout",
     "output_type": "stream",
     "text": [
      "Error getting neighborhood for nan, nan: HTTP Error: 400\n",
      "Error getting neighborhood for nan, nan: HTTP Error: 400\n",
      "Error getting neighborhood for nan, nan: HTTP Error: 400\n",
      "Error getting neighborhood for nan, nan: HTTP Error: 400\n"
     ]
    },
    {
     "data": {
      "text/html": [
       "<div>\n",
       "<style scoped>\n",
       "    .dataframe tbody tr th:only-of-type {\n",
       "        vertical-align: middle;\n",
       "    }\n",
       "\n",
       "    .dataframe tbody tr th {\n",
       "        vertical-align: top;\n",
       "    }\n",
       "\n",
       "    .dataframe thead th {\n",
       "        text-align: right;\n",
       "    }\n",
       "</style>\n",
       "<table border=\"1\" class=\"dataframe\">\n",
       "  <thead>\n",
       "    <tr style=\"text-align: right;\">\n",
       "      <th></th>\n",
       "      <th>RecordID</th>\n",
       "      <th>Offense</th>\n",
       "      <th>IncidentID</th>\n",
       "      <th>BlockNumber</th>\n",
       "      <th>StreetName</th>\n",
       "      <th>Agency</th>\n",
       "      <th>HourReported</th>\n",
       "      <th>ReportingOfficer</th>\n",
       "      <th>Date</th>\n",
       "      <th>DateString</th>\n",
       "      <th>DayOfWeek</th>\n",
       "      <th>Weekend</th>\n",
       "      <th>Season</th>\n",
       "      <th>HourAMPM</th>\n",
       "      <th>TimeOfDay</th>\n",
       "      <th>FullStreet</th>\n",
       "      <th>lat</th>\n",
       "      <th>lon</th>\n",
       "      <th>neighborhood</th>\n",
       "    </tr>\n",
       "  </thead>\n",
       "  <tbody>\n",
       "    <tr>\n",
       "      <th>0</th>\n",
       "      <td>1</td>\n",
       "      <td>Assist Citizen - Mental/TDO/ECO</td>\n",
       "      <td>202500025520</td>\n",
       "      <td>400</td>\n",
       "      <td>RIDGE MCINTIRE RD</td>\n",
       "      <td>CPD</td>\n",
       "      <td>2252</td>\n",
       "      <td>Hannay, Jacob</td>\n",
       "      <td>2025-07-20 22:52:11</td>\n",
       "      <td>2025-07-20 10:52:11 PM</td>\n",
       "      <td>Sunday</td>\n",
       "      <td>True</td>\n",
       "      <td>Summer</td>\n",
       "      <td>10:52 PM</td>\n",
       "      <td>Night</td>\n",
       "      <td>400 RIDGE MCINTIRE RD</td>\n",
       "      <td>38.032597</td>\n",
       "      <td>-78.484605</td>\n",
       "      <td>Starr Hill</td>\n",
       "    </tr>\n",
       "    <tr>\n",
       "      <th>1</th>\n",
       "      <td>2</td>\n",
       "      <td>Larceny - From Motor Vehicle</td>\n",
       "      <td>202500025510</td>\n",
       "      <td>1400</td>\n",
       "      <td>PEN PARK RD</td>\n",
       "      <td>CPD</td>\n",
       "      <td>2037</td>\n",
       "      <td>Carrasco, Julio</td>\n",
       "      <td>2025-07-20 20:37:11</td>\n",
       "      <td>2025-07-20 08:37:11 PM</td>\n",
       "      <td>Sunday</td>\n",
       "      <td>True</td>\n",
       "      <td>Summer</td>\n",
       "      <td>08:37 PM</td>\n",
       "      <td>Evening</td>\n",
       "      <td>1400 PEN PARK RD</td>\n",
       "      <td>38.049861</td>\n",
       "      <td>-78.451616</td>\n",
       "      <td>Locust Grove</td>\n",
       "    </tr>\n",
       "    <tr>\n",
       "      <th>2</th>\n",
       "      <td>3</td>\n",
       "      <td>Assault Simple</td>\n",
       "      <td>202500025502</td>\n",
       "      <td>1000</td>\n",
       "      <td>5TH ST SW</td>\n",
       "      <td>CPD</td>\n",
       "      <td>1946</td>\n",
       "      <td>Essex, Dominique</td>\n",
       "      <td>2025-07-20 19:46:57</td>\n",
       "      <td>2025-07-20 07:46:57 PM</td>\n",
       "      <td>Sunday</td>\n",
       "      <td>True</td>\n",
       "      <td>Summer</td>\n",
       "      <td>07:46 PM</td>\n",
       "      <td>Evening</td>\n",
       "      <td>1000 5TH ST SW</td>\n",
       "      <td>38.020564</td>\n",
       "      <td>-78.494547</td>\n",
       "      <td>Fifeville</td>\n",
       "    </tr>\n",
       "    <tr>\n",
       "      <th>3</th>\n",
       "      <td>4</td>\n",
       "      <td>Missing Person-juvenile</td>\n",
       "      <td>202500025484</td>\n",
       "      <td>500</td>\n",
       "      <td>PARK ST</td>\n",
       "      <td>CPD</td>\n",
       "      <td>1703</td>\n",
       "      <td>Buckley, Michael</td>\n",
       "      <td>2025-07-20 17:03:57</td>\n",
       "      <td>2025-07-20 05:03:57 PM</td>\n",
       "      <td>Sunday</td>\n",
       "      <td>True</td>\n",
       "      <td>Summer</td>\n",
       "      <td>05:03 PM</td>\n",
       "      <td>Evening</td>\n",
       "      <td>500 PARK ST</td>\n",
       "      <td>38.033037</td>\n",
       "      <td>-78.475772</td>\n",
       "      <td>North Downtown</td>\n",
       "    </tr>\n",
       "    <tr>\n",
       "      <th>4</th>\n",
       "      <td>5</td>\n",
       "      <td>Trespass</td>\n",
       "      <td>202500025481</td>\n",
       "      <td>500</td>\n",
       "      <td>1ST ST S</td>\n",
       "      <td>CPD</td>\n",
       "      <td>1642</td>\n",
       "      <td>Essex, Dominique</td>\n",
       "      <td>2025-07-20 16:42:32</td>\n",
       "      <td>2025-07-20 04:42:32 PM</td>\n",
       "      <td>Sunday</td>\n",
       "      <td>True</td>\n",
       "      <td>Summer</td>\n",
       "      <td>04:42 PM</td>\n",
       "      <td>Afternoon</td>\n",
       "      <td>500 1ST ST S</td>\n",
       "      <td>38.027065</td>\n",
       "      <td>-78.482991</td>\n",
       "      <td>Ridge St.</td>\n",
       "    </tr>\n",
       "  </tbody>\n",
       "</table>\n",
       "</div>"
      ],
      "text/plain": [
       "   RecordID                          Offense    IncidentID BlockNumber  \\\n",
       "0         1  Assist Citizen - Mental/TDO/ECO  202500025520         400   \n",
       "1         2     Larceny - From Motor Vehicle  202500025510        1400   \n",
       "2         3                   Assault Simple  202500025502        1000   \n",
       "3         4          Missing Person-juvenile  202500025484         500   \n",
       "4         5                         Trespass  202500025481         500   \n",
       "\n",
       "          StreetName Agency HourReported  ReportingOfficer  \\\n",
       "0  RIDGE MCINTIRE RD    CPD         2252     Hannay, Jacob   \n",
       "1        PEN PARK RD    CPD         2037   Carrasco, Julio   \n",
       "2          5TH ST SW    CPD         1946  Essex, Dominique   \n",
       "3            PARK ST    CPD         1703  Buckley, Michael   \n",
       "4           1ST ST S    CPD         1642  Essex, Dominique   \n",
       "\n",
       "                 Date              DateString DayOfWeek  Weekend  Season  \\\n",
       "0 2025-07-20 22:52:11  2025-07-20 10:52:11 PM    Sunday     True  Summer   \n",
       "1 2025-07-20 20:37:11  2025-07-20 08:37:11 PM    Sunday     True  Summer   \n",
       "2 2025-07-20 19:46:57  2025-07-20 07:46:57 PM    Sunday     True  Summer   \n",
       "3 2025-07-20 17:03:57  2025-07-20 05:03:57 PM    Sunday     True  Summer   \n",
       "4 2025-07-20 16:42:32  2025-07-20 04:42:32 PM    Sunday     True  Summer   \n",
       "\n",
       "   HourAMPM  TimeOfDay             FullStreet        lat        lon  \\\n",
       "0  10:52 PM      Night  400 RIDGE MCINTIRE RD  38.032597 -78.484605   \n",
       "1  08:37 PM    Evening       1400 PEN PARK RD  38.049861 -78.451616   \n",
       "2  07:46 PM    Evening         1000 5TH ST SW  38.020564 -78.494547   \n",
       "3  05:03 PM    Evening            500 PARK ST  38.033037 -78.475772   \n",
       "4  04:42 PM  Afternoon           500 1ST ST S  38.027065 -78.482991   \n",
       "\n",
       "     neighborhood  \n",
       "0      Starr Hill  \n",
       "1    Locust Grove  \n",
       "2       Fifeville  \n",
       "3  North Downtown  \n",
       "4       Ridge St.  "
      ]
     },
     "execution_count": 10,
     "metadata": {},
     "output_type": "execute_result"
    }
   ],
   "source": [
    "# Initialize the Google Maps client.\n",
    "gmaps = googlemaps.Client(key=GOOGLE_API_KEY)\n",
    "\n",
    "# Try to load a persistent neighborhood cache if available.\n",
    "try:\n",
    "    with open(\"neighborhood_cache.pkl\", \"rb\") as f:\n",
    "        neighborhood_cache = pickle.load(f)\n",
    "    print(\"Loaded neighborhood cache.\")\n",
    "except FileNotFoundError:\n",
    "    neighborhood_cache = {}\n",
    "    print(\"No neighborhood cache found; starting fresh.\")\n",
    "\n",
    "def get_neighborhood(lat, lon):\n",
    "    \"\"\"\n",
    "    Reverse geocodes a latitude and longitude to retrieve the neighborhood.\n",
    "    Caches results to speed up subsequent lookups.\n",
    "    \"\"\"\n",
    "    key = (lat, lon)\n",
    "    if key in neighborhood_cache:\n",
    "        return neighborhood_cache[key]\n",
    "    \n",
    "    try:\n",
    "        result = gmaps.reverse_geocode((lat, lon))\n",
    "        if result:\n",
    "            # Look for the 'neighborhood' component in the first result.\n",
    "            for component in result[0]['address_components']:\n",
    "                if 'neighborhood' in component['types']:\n",
    "                    neighborhood = component['long_name']\n",
    "                    neighborhood_cache[key] = neighborhood\n",
    "                    return neighborhood\n",
    "            # If no neighborhood is found, return \"N/A\"\n",
    "            neighborhood_cache[key] = \"N/A\"\n",
    "            return \"N/A\"\n",
    "    except Exception as e:\n",
    "        print(f\"Error getting neighborhood for {lat}, {lon}: {e}\")\n",
    "        return \"N/A\"\n",
    "    \n",
    "    # Pause to respect usage limits.\n",
    "    time.sleep(1)\n",
    "\n",
    "# Example usage: Apply to your DataFrame 'df' that already has 'lat' and 'lon' columns.\n",
    "df['neighborhood'] = df.apply(lambda row: get_neighborhood(row['lat'], row['lon']), axis=1)\n",
    "\n",
    "# Save the updated neighborhood cache.\n",
    "with open(\"neighborhood_cache.pkl\", \"wb\") as f:\n",
    "    pickle.dump(neighborhood_cache, f)\n",
    "\n",
    "df.head()\n"
   ]
  },
  {
   "cell_type": "markdown",
   "id": "0c6dd6a4",
   "metadata": {
    "papermill": {
     "duration": 0.005261,
     "end_time": "2025-07-23T01:11:20.769510",
     "exception": false,
     "start_time": "2025-07-23T01:11:20.764249",
     "status": "completed"
    },
    "tags": []
   },
   "source": [
    "### Zip"
   ]
  },
  {
   "cell_type": "code",
   "execution_count": 11,
   "id": "fe828186",
   "metadata": {
    "execution": {
     "iopub.execute_input": "2025-07-23T01:11:20.780852Z",
     "iopub.status.busy": "2025-07-23T01:11:20.780605Z",
     "iopub.status.idle": "2025-07-23T01:12:25.156119Z",
     "shell.execute_reply": "2025-07-23T01:12:25.155400Z"
    },
    "papermill": {
     "duration": 64.382504,
     "end_time": "2025-07-23T01:12:25.157247",
     "exception": false,
     "start_time": "2025-07-23T01:11:20.774743",
     "status": "completed"
    },
    "tags": []
   },
   "outputs": [
    {
     "name": "stdout",
     "output_type": "stream",
     "text": [
      "Loaded zip cache.\n",
      "Error getting ZIP for nan, nan: Must be a coordinate pair or Point\n"
     ]
    },
    {
     "name": "stdout",
     "output_type": "stream",
     "text": [
      "Error getting ZIP for nan, nan: Must be a coordinate pair or Point\n"
     ]
    },
    {
     "name": "stdout",
     "output_type": "stream",
     "text": [
      "Error getting ZIP for nan, nan: Must be a coordinate pair or Point\n"
     ]
    },
    {
     "name": "stdout",
     "output_type": "stream",
     "text": [
      "Error getting ZIP for nan, nan: Must be a coordinate pair or Point\n"
     ]
    },
    {
     "name": "stdout",
     "output_type": "stream",
     "text": [
      "Error getting ZIP for nan, nan: Must be a coordinate pair or Point\n"
     ]
    },
    {
     "name": "stdout",
     "output_type": "stream",
     "text": [
      "Error getting ZIP for nan, nan: Must be a coordinate pair or Point\n"
     ]
    },
    {
     "name": "stdout",
     "output_type": "stream",
     "text": [
      "Error getting ZIP for nan, nan: Must be a coordinate pair or Point\n"
     ]
    },
    {
     "name": "stdout",
     "output_type": "stream",
     "text": [
      "Error getting ZIP for nan, nan: Must be a coordinate pair or Point\n"
     ]
    },
    {
     "name": "stdout",
     "output_type": "stream",
     "text": [
      "Error getting ZIP for nan, nan: Must be a coordinate pair or Point\n"
     ]
    },
    {
     "name": "stdout",
     "output_type": "stream",
     "text": [
      "Error getting ZIP for nan, nan: Must be a coordinate pair or Point\n"
     ]
    },
    {
     "name": "stdout",
     "output_type": "stream",
     "text": [
      "Error getting ZIP for nan, nan: Must be a coordinate pair or Point\n"
     ]
    },
    {
     "name": "stdout",
     "output_type": "stream",
     "text": [
      "Error getting ZIP for nan, nan: Must be a coordinate pair or Point\n"
     ]
    },
    {
     "name": "stdout",
     "output_type": "stream",
     "text": [
      "Error getting ZIP for nan, nan: Must be a coordinate pair or Point\n"
     ]
    },
    {
     "name": "stdout",
     "output_type": "stream",
     "text": [
      "Error getting ZIP for nan, nan: Must be a coordinate pair or Point\n"
     ]
    },
    {
     "name": "stdout",
     "output_type": "stream",
     "text": [
      "Error getting ZIP for nan, nan: Must be a coordinate pair or Point\n"
     ]
    },
    {
     "name": "stdout",
     "output_type": "stream",
     "text": [
      "Error getting ZIP for nan, nan: Must be a coordinate pair or Point\n"
     ]
    },
    {
     "name": "stdout",
     "output_type": "stream",
     "text": [
      "Error getting ZIP for nan, nan: Must be a coordinate pair or Point\n"
     ]
    },
    {
     "name": "stdout",
     "output_type": "stream",
     "text": [
      "Error getting ZIP for nan, nan: Must be a coordinate pair or Point\n"
     ]
    },
    {
     "name": "stdout",
     "output_type": "stream",
     "text": [
      "Error getting ZIP for nan, nan: Must be a coordinate pair or Point\n"
     ]
    },
    {
     "name": "stdout",
     "output_type": "stream",
     "text": [
      "Error getting ZIP for nan, nan: Must be a coordinate pair or Point\n"
     ]
    },
    {
     "name": "stdout",
     "output_type": "stream",
     "text": [
      "Error getting ZIP for nan, nan: Must be a coordinate pair or Point\n"
     ]
    },
    {
     "name": "stdout",
     "output_type": "stream",
     "text": [
      "Error getting ZIP for nan, nan: Must be a coordinate pair or Point\n"
     ]
    },
    {
     "name": "stdout",
     "output_type": "stream",
     "text": [
      "Error getting ZIP for nan, nan: Must be a coordinate pair or Point\n"
     ]
    },
    {
     "name": "stdout",
     "output_type": "stream",
     "text": [
      "Error getting ZIP for nan, nan: Must be a coordinate pair or Point\n"
     ]
    },
    {
     "name": "stdout",
     "output_type": "stream",
     "text": [
      "Error getting ZIP for nan, nan: Must be a coordinate pair or Point\n"
     ]
    },
    {
     "name": "stdout",
     "output_type": "stream",
     "text": [
      "Error getting ZIP for nan, nan: Must be a coordinate pair or Point\n"
     ]
    },
    {
     "name": "stdout",
     "output_type": "stream",
     "text": [
      "Error getting ZIP for nan, nan: Must be a coordinate pair or Point\n"
     ]
    },
    {
     "name": "stdout",
     "output_type": "stream",
     "text": [
      "Error getting ZIP for nan, nan: Must be a coordinate pair or Point\n"
     ]
    },
    {
     "name": "stdout",
     "output_type": "stream",
     "text": [
      "Error getting ZIP for nan, nan: Must be a coordinate pair or Point\n"
     ]
    },
    {
     "name": "stdout",
     "output_type": "stream",
     "text": [
      "Error getting ZIP for nan, nan: Must be a coordinate pair or Point\n"
     ]
    },
    {
     "name": "stdout",
     "output_type": "stream",
     "text": [
      "Error getting ZIP for nan, nan: Must be a coordinate pair or Point\n"
     ]
    },
    {
     "name": "stdout",
     "output_type": "stream",
     "text": [
      "Error getting ZIP for nan, nan: Must be a coordinate pair or Point\n"
     ]
    },
    {
     "name": "stdout",
     "output_type": "stream",
     "text": [
      "Error getting ZIP for nan, nan: Must be a coordinate pair or Point\n"
     ]
    },
    {
     "name": "stdout",
     "output_type": "stream",
     "text": [
      "Error getting ZIP for nan, nan: Must be a coordinate pair or Point\n"
     ]
    },
    {
     "name": "stdout",
     "output_type": "stream",
     "text": [
      "Error getting ZIP for nan, nan: Must be a coordinate pair or Point\n"
     ]
    },
    {
     "name": "stdout",
     "output_type": "stream",
     "text": [
      "Error getting ZIP for nan, nan: Must be a coordinate pair or Point\n"
     ]
    },
    {
     "name": "stdout",
     "output_type": "stream",
     "text": [
      "Error getting ZIP for nan, nan: Must be a coordinate pair or Point\n"
     ]
    },
    {
     "name": "stdout",
     "output_type": "stream",
     "text": [
      "Error getting ZIP for nan, nan: Must be a coordinate pair or Point\n"
     ]
    },
    {
     "name": "stdout",
     "output_type": "stream",
     "text": [
      "Error getting ZIP for nan, nan: Must be a coordinate pair or Point\n"
     ]
    },
    {
     "name": "stdout",
     "output_type": "stream",
     "text": [
      "Error getting ZIP for nan, nan: Must be a coordinate pair or Point\n"
     ]
    },
    {
     "name": "stdout",
     "output_type": "stream",
     "text": [
      "Error getting ZIP for nan, nan: Must be a coordinate pair or Point\n"
     ]
    },
    {
     "name": "stdout",
     "output_type": "stream",
     "text": [
      "Error getting ZIP for nan, nan: Must be a coordinate pair or Point\n"
     ]
    },
    {
     "name": "stdout",
     "output_type": "stream",
     "text": [
      "Error getting ZIP for nan, nan: Must be a coordinate pair or Point\n"
     ]
    },
    {
     "name": "stdout",
     "output_type": "stream",
     "text": [
      "Error getting ZIP for nan, nan: Must be a coordinate pair or Point\n"
     ]
    },
    {
     "name": "stdout",
     "output_type": "stream",
     "text": [
      "Error getting ZIP for nan, nan: Must be a coordinate pair or Point\n"
     ]
    },
    {
     "name": "stdout",
     "output_type": "stream",
     "text": [
      "Error getting ZIP for nan, nan: Must be a coordinate pair or Point\n"
     ]
    },
    {
     "name": "stdout",
     "output_type": "stream",
     "text": [
      "Error getting ZIP for nan, nan: Must be a coordinate pair or Point\n"
     ]
    },
    {
     "name": "stdout",
     "output_type": "stream",
     "text": [
      "Error getting ZIP for nan, nan: Must be a coordinate pair or Point\n"
     ]
    },
    {
     "name": "stdout",
     "output_type": "stream",
     "text": [
      "Error getting ZIP for nan, nan: Must be a coordinate pair or Point\n"
     ]
    },
    {
     "name": "stdout",
     "output_type": "stream",
     "text": [
      "Error getting ZIP for nan, nan: Must be a coordinate pair or Point\n"
     ]
    },
    {
     "name": "stdout",
     "output_type": "stream",
     "text": [
      "Error getting ZIP for nan, nan: Must be a coordinate pair or Point\n"
     ]
    },
    {
     "name": "stdout",
     "output_type": "stream",
     "text": [
      "Error getting ZIP for nan, nan: Must be a coordinate pair or Point\n"
     ]
    },
    {
     "name": "stdout",
     "output_type": "stream",
     "text": [
      "Error getting ZIP for nan, nan: Must be a coordinate pair or Point\n"
     ]
    },
    {
     "name": "stdout",
     "output_type": "stream",
     "text": [
      "Error getting ZIP for nan, nan: Must be a coordinate pair or Point\n"
     ]
    },
    {
     "name": "stdout",
     "output_type": "stream",
     "text": [
      "Error getting ZIP for nan, nan: Must be a coordinate pair or Point\n"
     ]
    },
    {
     "name": "stdout",
     "output_type": "stream",
     "text": [
      "Error getting ZIP for nan, nan: Must be a coordinate pair or Point\n"
     ]
    },
    {
     "name": "stdout",
     "output_type": "stream",
     "text": [
      "Error getting ZIP for nan, nan: Must be a coordinate pair or Point\n"
     ]
    },
    {
     "name": "stdout",
     "output_type": "stream",
     "text": [
      "Error getting ZIP for nan, nan: Must be a coordinate pair or Point\n"
     ]
    },
    {
     "name": "stdout",
     "output_type": "stream",
     "text": [
      "Error getting ZIP for nan, nan: Must be a coordinate pair or Point\n"
     ]
    },
    {
     "name": "stdout",
     "output_type": "stream",
     "text": [
      "Error getting ZIP for nan, nan: Must be a coordinate pair or Point\n"
     ]
    },
    {
     "name": "stdout",
     "output_type": "stream",
     "text": [
      "Error getting ZIP for nan, nan: Must be a coordinate pair or Point\n"
     ]
    },
    {
     "name": "stdout",
     "output_type": "stream",
     "text": [
      "Error getting ZIP for nan, nan: Must be a coordinate pair or Point\n"
     ]
    },
    {
     "name": "stdout",
     "output_type": "stream",
     "text": [
      "Error getting ZIP for nan, nan: Must be a coordinate pair or Point\n"
     ]
    },
    {
     "name": "stdout",
     "output_type": "stream",
     "text": [
      "Error getting ZIP for nan, nan: Must be a coordinate pair or Point\n"
     ]
    },
    {
     "data": {
      "text/html": [
       "<div>\n",
       "<style scoped>\n",
       "    .dataframe tbody tr th:only-of-type {\n",
       "        vertical-align: middle;\n",
       "    }\n",
       "\n",
       "    .dataframe tbody tr th {\n",
       "        vertical-align: top;\n",
       "    }\n",
       "\n",
       "    .dataframe thead th {\n",
       "        text-align: right;\n",
       "    }\n",
       "</style>\n",
       "<table border=\"1\" class=\"dataframe\">\n",
       "  <thead>\n",
       "    <tr style=\"text-align: right;\">\n",
       "      <th></th>\n",
       "      <th>RecordID</th>\n",
       "      <th>Offense</th>\n",
       "      <th>IncidentID</th>\n",
       "      <th>BlockNumber</th>\n",
       "      <th>StreetName</th>\n",
       "      <th>Agency</th>\n",
       "      <th>HourReported</th>\n",
       "      <th>ReportingOfficer</th>\n",
       "      <th>Date</th>\n",
       "      <th>DateString</th>\n",
       "      <th>DayOfWeek</th>\n",
       "      <th>Weekend</th>\n",
       "      <th>Season</th>\n",
       "      <th>HourAMPM</th>\n",
       "      <th>TimeOfDay</th>\n",
       "      <th>FullStreet</th>\n",
       "      <th>lat</th>\n",
       "      <th>lon</th>\n",
       "      <th>neighborhood</th>\n",
       "      <th>zip</th>\n",
       "    </tr>\n",
       "  </thead>\n",
       "  <tbody>\n",
       "    <tr>\n",
       "      <th>0</th>\n",
       "      <td>1</td>\n",
       "      <td>Assist Citizen - Mental/TDO/ECO</td>\n",
       "      <td>202500025520</td>\n",
       "      <td>400</td>\n",
       "      <td>RIDGE MCINTIRE RD</td>\n",
       "      <td>CPD</td>\n",
       "      <td>2252</td>\n",
       "      <td>Hannay, Jacob</td>\n",
       "      <td>2025-07-20 22:52:11</td>\n",
       "      <td>2025-07-20 10:52:11 PM</td>\n",
       "      <td>Sunday</td>\n",
       "      <td>True</td>\n",
       "      <td>Summer</td>\n",
       "      <td>10:52 PM</td>\n",
       "      <td>Night</td>\n",
       "      <td>400 RIDGE MCINTIRE RD</td>\n",
       "      <td>38.032597</td>\n",
       "      <td>-78.484605</td>\n",
       "      <td>Starr Hill</td>\n",
       "      <td>22908</td>\n",
       "    </tr>\n",
       "    <tr>\n",
       "      <th>1</th>\n",
       "      <td>2</td>\n",
       "      <td>Larceny - From Motor Vehicle</td>\n",
       "      <td>202500025510</td>\n",
       "      <td>1400</td>\n",
       "      <td>PEN PARK RD</td>\n",
       "      <td>CPD</td>\n",
       "      <td>2037</td>\n",
       "      <td>Carrasco, Julio</td>\n",
       "      <td>2025-07-20 20:37:11</td>\n",
       "      <td>2025-07-20 08:37:11 PM</td>\n",
       "      <td>Sunday</td>\n",
       "      <td>True</td>\n",
       "      <td>Summer</td>\n",
       "      <td>08:37 PM</td>\n",
       "      <td>Evening</td>\n",
       "      <td>1400 PEN PARK RD</td>\n",
       "      <td>38.049861</td>\n",
       "      <td>-78.451616</td>\n",
       "      <td>Locust Grove</td>\n",
       "      <td>22901</td>\n",
       "    </tr>\n",
       "    <tr>\n",
       "      <th>2</th>\n",
       "      <td>3</td>\n",
       "      <td>Assault Simple</td>\n",
       "      <td>202500025502</td>\n",
       "      <td>1000</td>\n",
       "      <td>5TH ST SW</td>\n",
       "      <td>CPD</td>\n",
       "      <td>1946</td>\n",
       "      <td>Essex, Dominique</td>\n",
       "      <td>2025-07-20 19:46:57</td>\n",
       "      <td>2025-07-20 07:46:57 PM</td>\n",
       "      <td>Sunday</td>\n",
       "      <td>True</td>\n",
       "      <td>Summer</td>\n",
       "      <td>07:46 PM</td>\n",
       "      <td>Evening</td>\n",
       "      <td>1000 5TH ST SW</td>\n",
       "      <td>38.020564</td>\n",
       "      <td>-78.494547</td>\n",
       "      <td>Fifeville</td>\n",
       "      <td>22903</td>\n",
       "    </tr>\n",
       "    <tr>\n",
       "      <th>3</th>\n",
       "      <td>4</td>\n",
       "      <td>Missing Person-juvenile</td>\n",
       "      <td>202500025484</td>\n",
       "      <td>500</td>\n",
       "      <td>PARK ST</td>\n",
       "      <td>CPD</td>\n",
       "      <td>1703</td>\n",
       "      <td>Buckley, Michael</td>\n",
       "      <td>2025-07-20 17:03:57</td>\n",
       "      <td>2025-07-20 05:03:57 PM</td>\n",
       "      <td>Sunday</td>\n",
       "      <td>True</td>\n",
       "      <td>Summer</td>\n",
       "      <td>05:03 PM</td>\n",
       "      <td>Evening</td>\n",
       "      <td>500 PARK ST</td>\n",
       "      <td>38.033037</td>\n",
       "      <td>-78.475772</td>\n",
       "      <td>North Downtown</td>\n",
       "      <td>22902</td>\n",
       "    </tr>\n",
       "    <tr>\n",
       "      <th>4</th>\n",
       "      <td>5</td>\n",
       "      <td>Trespass</td>\n",
       "      <td>202500025481</td>\n",
       "      <td>500</td>\n",
       "      <td>1ST ST S</td>\n",
       "      <td>CPD</td>\n",
       "      <td>1642</td>\n",
       "      <td>Essex, Dominique</td>\n",
       "      <td>2025-07-20 16:42:32</td>\n",
       "      <td>2025-07-20 04:42:32 PM</td>\n",
       "      <td>Sunday</td>\n",
       "      <td>True</td>\n",
       "      <td>Summer</td>\n",
       "      <td>04:42 PM</td>\n",
       "      <td>Afternoon</td>\n",
       "      <td>500 1ST ST S</td>\n",
       "      <td>38.027065</td>\n",
       "      <td>-78.482991</td>\n",
       "      <td>Ridge St.</td>\n",
       "      <td>22903</td>\n",
       "    </tr>\n",
       "  </tbody>\n",
       "</table>\n",
       "</div>"
      ],
      "text/plain": [
       "   RecordID                          Offense    IncidentID BlockNumber  \\\n",
       "0         1  Assist Citizen - Mental/TDO/ECO  202500025520         400   \n",
       "1         2     Larceny - From Motor Vehicle  202500025510        1400   \n",
       "2         3                   Assault Simple  202500025502        1000   \n",
       "3         4          Missing Person-juvenile  202500025484         500   \n",
       "4         5                         Trespass  202500025481         500   \n",
       "\n",
       "          StreetName Agency HourReported  ReportingOfficer  \\\n",
       "0  RIDGE MCINTIRE RD    CPD         2252     Hannay, Jacob   \n",
       "1        PEN PARK RD    CPD         2037   Carrasco, Julio   \n",
       "2          5TH ST SW    CPD         1946  Essex, Dominique   \n",
       "3            PARK ST    CPD         1703  Buckley, Michael   \n",
       "4           1ST ST S    CPD         1642  Essex, Dominique   \n",
       "\n",
       "                 Date              DateString DayOfWeek  Weekend  Season  \\\n",
       "0 2025-07-20 22:52:11  2025-07-20 10:52:11 PM    Sunday     True  Summer   \n",
       "1 2025-07-20 20:37:11  2025-07-20 08:37:11 PM    Sunday     True  Summer   \n",
       "2 2025-07-20 19:46:57  2025-07-20 07:46:57 PM    Sunday     True  Summer   \n",
       "3 2025-07-20 17:03:57  2025-07-20 05:03:57 PM    Sunday     True  Summer   \n",
       "4 2025-07-20 16:42:32  2025-07-20 04:42:32 PM    Sunday     True  Summer   \n",
       "\n",
       "   HourAMPM  TimeOfDay             FullStreet        lat        lon  \\\n",
       "0  10:52 PM      Night  400 RIDGE MCINTIRE RD  38.032597 -78.484605   \n",
       "1  08:37 PM    Evening       1400 PEN PARK RD  38.049861 -78.451616   \n",
       "2  07:46 PM    Evening         1000 5TH ST SW  38.020564 -78.494547   \n",
       "3  05:03 PM    Evening            500 PARK ST  38.033037 -78.475772   \n",
       "4  04:42 PM  Afternoon           500 1ST ST S  38.027065 -78.482991   \n",
       "\n",
       "     neighborhood    zip  \n",
       "0      Starr Hill  22908  \n",
       "1    Locust Grove  22901  \n",
       "2       Fifeville  22903  \n",
       "3  North Downtown  22902  \n",
       "4       Ridge St.  22903  "
      ]
     },
     "execution_count": 11,
     "metadata": {},
     "output_type": "execute_result"
    }
   ],
   "source": [
    "# Initialize the geocoder.\n",
    "geolocator = Nominatim(user_agent=\"zip_lookup\")\n",
    "\n",
    "# Try to load a persistent ZIP cache if available.\n",
    "try:\n",
    "    with open(\"zip_cache.pkl\", \"rb\") as f:\n",
    "        zip_cache = pickle.load(f)\n",
    "    print(\"Loaded zip cache.\")\n",
    "except FileNotFoundError:\n",
    "    zip_cache = {}\n",
    "    print(\"No zip cache found; starting fresh.\")\n",
    "\n",
    "def get_zip(lat, lon):\n",
    "    \"\"\"\n",
    "    Reverse geocodes a latitude and longitude to retrieve the ZIP code.\n",
    "    Caches results to speed up subsequent lookups.\n",
    "    \"\"\"\n",
    "    key = (lat, lon)\n",
    "    if key in zip_cache:\n",
    "        return zip_cache[key]\n",
    "    \n",
    "    try:\n",
    "        location = geolocator.reverse((lat, lon), exactly_one=True, timeout=10)\n",
    "        address = location.raw.get('address', {})\n",
    "        postal_code = address.get('postcode', \"N/A\")\n",
    "    except Exception as e:\n",
    "        print(f\"Error getting ZIP for {lat}, {lon}: {e}\")\n",
    "        postal_code = \"N/A\"\n",
    "    \n",
    "    zip_cache[key] = postal_code\n",
    "    # Pause to respect the usage policy.\n",
    "    time.sleep(1)\n",
    "    return postal_code\n",
    "\n",
    "# Apply the function to each row in the DataFrame.\n",
    "df['zip'] = df.apply(lambda row: get_zip(row['lat'], row['lon']), axis=1)\n",
    "\n",
    "# Save the updated ZIP cache.\n",
    "with open(\"zip_cache.pkl\", \"wb\") as f:\n",
    "    pickle.dump(zip_cache, f)\n",
    "\n",
    "df.head()\n"
   ]
  },
  {
   "cell_type": "code",
   "execution_count": 12,
   "id": "2ccdc30b",
   "metadata": {
    "execution": {
     "iopub.execute_input": "2025-07-23T01:12:25.174801Z",
     "iopub.status.busy": "2025-07-23T01:12:25.174580Z",
     "iopub.status.idle": "2025-07-23T01:12:25.205064Z",
     "shell.execute_reply": "2025-07-23T01:12:25.204456Z"
    },
    "papermill": {
     "duration": 0.040318,
     "end_time": "2025-07-23T01:12:25.206076",
     "exception": false,
     "start_time": "2025-07-23T01:12:25.165758",
     "status": "completed"
    },
    "tags": []
   },
   "outputs": [
    {
     "name": "stdout",
     "output_type": "stream",
     "text": [
      "                  MissingCount  MissingPercentage\n",
      "RecordID                     0               0.00\n",
      "Offense                      0               0.00\n",
      "IncidentID                   0               0.00\n",
      "BlockNumber                  0               0.00\n",
      "StreetName                   0               0.00\n",
      "Agency                       0               0.00\n",
      "HourReported                 0               0.00\n",
      "ReportingOfficer            17               0.07\n",
      "Date                         0               0.00\n",
      "DateString                   0               0.00\n",
      "DayOfWeek                    0               0.00\n",
      "Weekend                      0               0.00\n",
      "Season                       0               0.00\n",
      "HourAMPM                     0               0.00\n",
      "TimeOfDay                    0               0.00\n",
      "FullStreet                   0               0.00\n",
      "lat                         64               0.25\n",
      "lon                         64               0.25\n",
      "neighborhood                 0               0.00\n",
      "zip                          0               0.00\n"
     ]
    }
   ],
   "source": [
    "missing_info = missing_percentage(df)\n",
    "print(missing_info)\n"
   ]
  },
  {
   "cell_type": "code",
   "execution_count": 13,
   "id": "6d335ab7",
   "metadata": {
    "execution": {
     "iopub.execute_input": "2025-07-23T01:12:25.223973Z",
     "iopub.status.busy": "2025-07-23T01:12:25.223692Z",
     "iopub.status.idle": "2025-07-23T01:12:25.254732Z",
     "shell.execute_reply": "2025-07-23T01:12:25.254170Z"
    },
    "papermill": {
     "duration": 0.041145,
     "end_time": "2025-07-23T01:12:25.255806",
     "exception": false,
     "start_time": "2025-07-23T01:12:25.214661",
     "status": "completed"
    },
    "tags": []
   },
   "outputs": [
    {
     "name": "stdout",
     "output_type": "stream",
     "text": [
      "<class 'pandas.core.frame.DataFrame'>\n",
      "RangeIndex: 25560 entries, 0 to 25559\n",
      "Data columns (total 20 columns):\n",
      " #   Column            Non-Null Count  Dtype         \n",
      "---  ------            --------------  -----         \n",
      " 0   RecordID          25560 non-null  int64         \n",
      " 1   Offense           25560 non-null  object        \n",
      " 2   IncidentID        25560 non-null  object        \n",
      " 3   BlockNumber       25560 non-null  object        \n",
      " 4   StreetName        25560 non-null  object        \n",
      " 5   Agency            25560 non-null  object        \n",
      " 6   HourReported      25560 non-null  object        \n",
      " 7   ReportingOfficer  25543 non-null  object        \n",
      " 8   Date              25560 non-null  datetime64[ns]\n",
      " 9   DateString        25560 non-null  object        \n",
      " 10  DayOfWeek         25560 non-null  object        \n",
      " 11  Weekend           25560 non-null  bool          \n",
      " 12  Season            25560 non-null  object        \n",
      " 13  HourAMPM          25560 non-null  object        \n",
      " 14  TimeOfDay         25560 non-null  object        \n",
      " 15  FullStreet        25560 non-null  object        \n",
      " 16  lat               25496 non-null  float64       \n",
      " 17  lon               25496 non-null  float64       \n",
      " 18  neighborhood      25560 non-null  object        \n",
      " 19  zip               25560 non-null  object        \n",
      "dtypes: bool(1), datetime64[ns](1), float64(2), int64(1), object(15)\n",
      "memory usage: 3.7+ MB\n"
     ]
    }
   ],
   "source": [
    "df.info()"
   ]
  },
  {
   "cell_type": "code",
   "execution_count": 14,
   "id": "cb993baa",
   "metadata": {
    "execution": {
     "iopub.execute_input": "2025-07-23T01:12:25.273620Z",
     "iopub.status.busy": "2025-07-23T01:12:25.273427Z",
     "iopub.status.idle": "2025-07-23T01:12:25.317528Z",
     "shell.execute_reply": "2025-07-23T01:12:25.316856Z"
    },
    "papermill": {
     "duration": 0.054093,
     "end_time": "2025-07-23T01:12:25.318581",
     "exception": false,
     "start_time": "2025-07-23T01:12:25.264488",
     "status": "completed"
    },
    "tags": []
   },
   "outputs": [
    {
     "data": {
      "text/html": [
       "<div>\n",
       "<style scoped>\n",
       "    .dataframe tbody tr th:only-of-type {\n",
       "        vertical-align: middle;\n",
       "    }\n",
       "\n",
       "    .dataframe tbody tr th {\n",
       "        vertical-align: top;\n",
       "    }\n",
       "\n",
       "    .dataframe thead th {\n",
       "        text-align: right;\n",
       "    }\n",
       "</style>\n",
       "<table border=\"1\" class=\"dataframe\">\n",
       "  <thead>\n",
       "    <tr style=\"text-align: right;\">\n",
       "      <th></th>\n",
       "      <th>RecordID</th>\n",
       "      <th>Offense</th>\n",
       "      <th>IncidentID</th>\n",
       "      <th>Agency</th>\n",
       "      <th>ReportingOfficer</th>\n",
       "      <th>Date</th>\n",
       "      <th>DayOfWeek</th>\n",
       "      <th>Weekend</th>\n",
       "      <th>Season</th>\n",
       "      <th>TimeOfDay</th>\n",
       "      <th>FullStreet</th>\n",
       "      <th>lat</th>\n",
       "      <th>lon</th>\n",
       "      <th>neighborhood</th>\n",
       "      <th>zip</th>\n",
       "    </tr>\n",
       "  </thead>\n",
       "  <tbody>\n",
       "    <tr>\n",
       "      <th>0</th>\n",
       "      <td>1</td>\n",
       "      <td>Assist Citizen - Mental/TDO/ECO</td>\n",
       "      <td>202500025520</td>\n",
       "      <td>CPD</td>\n",
       "      <td>Hannay, Jacob</td>\n",
       "      <td>2025-07-20 22:52:11</td>\n",
       "      <td>Sunday</td>\n",
       "      <td>True</td>\n",
       "      <td>Summer</td>\n",
       "      <td>Night</td>\n",
       "      <td>400 RIDGE MCINTIRE RD</td>\n",
       "      <td>38.032597</td>\n",
       "      <td>-78.484605</td>\n",
       "      <td>Starr Hill</td>\n",
       "      <td>22908</td>\n",
       "    </tr>\n",
       "    <tr>\n",
       "      <th>1</th>\n",
       "      <td>2</td>\n",
       "      <td>Larceny - From Motor Vehicle</td>\n",
       "      <td>202500025510</td>\n",
       "      <td>CPD</td>\n",
       "      <td>Carrasco, Julio</td>\n",
       "      <td>2025-07-20 20:37:11</td>\n",
       "      <td>Sunday</td>\n",
       "      <td>True</td>\n",
       "      <td>Summer</td>\n",
       "      <td>Evening</td>\n",
       "      <td>1400 PEN PARK RD</td>\n",
       "      <td>38.049861</td>\n",
       "      <td>-78.451616</td>\n",
       "      <td>Locust Grove</td>\n",
       "      <td>22901</td>\n",
       "    </tr>\n",
       "    <tr>\n",
       "      <th>2</th>\n",
       "      <td>3</td>\n",
       "      <td>Assault Simple</td>\n",
       "      <td>202500025502</td>\n",
       "      <td>CPD</td>\n",
       "      <td>Essex, Dominique</td>\n",
       "      <td>2025-07-20 19:46:57</td>\n",
       "      <td>Sunday</td>\n",
       "      <td>True</td>\n",
       "      <td>Summer</td>\n",
       "      <td>Evening</td>\n",
       "      <td>1000 5TH ST SW</td>\n",
       "      <td>38.020564</td>\n",
       "      <td>-78.494547</td>\n",
       "      <td>Fifeville</td>\n",
       "      <td>22903</td>\n",
       "    </tr>\n",
       "    <tr>\n",
       "      <th>3</th>\n",
       "      <td>4</td>\n",
       "      <td>Missing Person-juvenile</td>\n",
       "      <td>202500025484</td>\n",
       "      <td>CPD</td>\n",
       "      <td>Buckley, Michael</td>\n",
       "      <td>2025-07-20 17:03:57</td>\n",
       "      <td>Sunday</td>\n",
       "      <td>True</td>\n",
       "      <td>Summer</td>\n",
       "      <td>Evening</td>\n",
       "      <td>500 PARK ST</td>\n",
       "      <td>38.033037</td>\n",
       "      <td>-78.475772</td>\n",
       "      <td>North Downtown</td>\n",
       "      <td>22902</td>\n",
       "    </tr>\n",
       "    <tr>\n",
       "      <th>4</th>\n",
       "      <td>5</td>\n",
       "      <td>Trespass</td>\n",
       "      <td>202500025481</td>\n",
       "      <td>CPD</td>\n",
       "      <td>Essex, Dominique</td>\n",
       "      <td>2025-07-20 16:42:32</td>\n",
       "      <td>Sunday</td>\n",
       "      <td>True</td>\n",
       "      <td>Summer</td>\n",
       "      <td>Afternoon</td>\n",
       "      <td>500 1ST ST S</td>\n",
       "      <td>38.027065</td>\n",
       "      <td>-78.482991</td>\n",
       "      <td>Ridge St.</td>\n",
       "      <td>22903</td>\n",
       "    </tr>\n",
       "  </tbody>\n",
       "</table>\n",
       "</div>"
      ],
      "text/plain": [
       "   RecordID                          Offense    IncidentID Agency  \\\n",
       "0         1  Assist Citizen - Mental/TDO/ECO  202500025520    CPD   \n",
       "1         2     Larceny - From Motor Vehicle  202500025510    CPD   \n",
       "2         3                   Assault Simple  202500025502    CPD   \n",
       "3         4          Missing Person-juvenile  202500025484    CPD   \n",
       "4         5                         Trespass  202500025481    CPD   \n",
       "\n",
       "   ReportingOfficer                Date DayOfWeek  Weekend  Season  TimeOfDay  \\\n",
       "0     Hannay, Jacob 2025-07-20 22:52:11    Sunday     True  Summer      Night   \n",
       "1   Carrasco, Julio 2025-07-20 20:37:11    Sunday     True  Summer    Evening   \n",
       "2  Essex, Dominique 2025-07-20 19:46:57    Sunday     True  Summer    Evening   \n",
       "3  Buckley, Michael 2025-07-20 17:03:57    Sunday     True  Summer    Evening   \n",
       "4  Essex, Dominique 2025-07-20 16:42:32    Sunday     True  Summer  Afternoon   \n",
       "\n",
       "              FullStreet        lat        lon    neighborhood    zip  \n",
       "0  400 RIDGE MCINTIRE RD  38.032597 -78.484605      Starr Hill  22908  \n",
       "1       1400 PEN PARK RD  38.049861 -78.451616    Locust Grove  22901  \n",
       "2         1000 5TH ST SW  38.020564 -78.494547       Fifeville  22903  \n",
       "3            500 PARK ST  38.033037 -78.475772  North Downtown  22902  \n",
       "4           500 1ST ST S  38.027065 -78.482991       Ridge St.  22903  "
      ]
     },
     "execution_count": 14,
     "metadata": {},
     "output_type": "execute_result"
    }
   ],
   "source": [
    "# Now drop the original BlockNumber and StreetName columns\n",
    "df.drop(columns=['BlockNumber', 'StreetName','HourAMPM','HourReported','DateString'], inplace=True)\n",
    "df[\"zip\"] = df[\"zip\"].astype(str)\n",
    "\n",
    "# Fill all missing values in the DataFrame with \"N/A\"\n",
    "df.replace({None: \"N/A\", np.nan: \"N/A\", \"\": \"N/A\"}, inplace=True)\n",
    "df.head()"
   ]
  },
  {
   "cell_type": "code",
   "execution_count": 15,
   "id": "7a12c457",
   "metadata": {
    "execution": {
     "iopub.execute_input": "2025-07-23T01:12:25.337176Z",
     "iopub.status.busy": "2025-07-23T01:12:25.336976Z",
     "iopub.status.idle": "2025-07-23T01:12:25.355819Z",
     "shell.execute_reply": "2025-07-23T01:12:25.355259Z"
    },
    "papermill": {
     "duration": 0.029158,
     "end_time": "2025-07-23T01:12:25.356896",
     "exception": false,
     "start_time": "2025-07-23T01:12:25.327738",
     "status": "completed"
    },
    "tags": []
   },
   "outputs": [
    {
     "name": "stdout",
     "output_type": "stream",
     "text": [
      "                  MissingCount  MissingPercentage\n",
      "RecordID                     0                0.0\n",
      "Offense                      0                0.0\n",
      "IncidentID                   0                0.0\n",
      "Agency                       0                0.0\n",
      "ReportingOfficer             0                0.0\n",
      "Date                         0                0.0\n",
      "DayOfWeek                    0                0.0\n",
      "Weekend                      0                0.0\n",
      "Season                       0                0.0\n",
      "TimeOfDay                    0                0.0\n",
      "FullStreet                   0                0.0\n",
      "lat                          0                0.0\n",
      "lon                          0                0.0\n",
      "neighborhood                 0                0.0\n",
      "zip                          0                0.0\n"
     ]
    }
   ],
   "source": [
    "missing_info = missing_percentage(df)\n",
    "print(missing_info)"
   ]
  },
  {
   "cell_type": "code",
   "execution_count": 16,
   "id": "1d0ff7fb",
   "metadata": {
    "execution": {
     "iopub.execute_input": "2025-07-23T01:12:25.375162Z",
     "iopub.status.busy": "2025-07-23T01:12:25.374972Z",
     "iopub.status.idle": "2025-07-23T01:12:25.379267Z",
     "shell.execute_reply": "2025-07-23T01:12:25.378584Z"
    },
    "papermill": {
     "duration": 0.014395,
     "end_time": "2025-07-23T01:12:25.380215",
     "exception": false,
     "start_time": "2025-07-23T01:12:25.365820",
     "status": "completed"
    },
    "tags": []
   },
   "outputs": [
    {
     "data": {
      "text/plain": [
       "Index(['RecordID', 'Offense', 'IncidentID', 'Agency', 'ReportingOfficer',\n",
       "       'Date', 'DayOfWeek', 'Weekend', 'Season', 'TimeOfDay', 'FullStreet',\n",
       "       'lat', 'lon', 'neighborhood', 'zip'],\n",
       "      dtype='object')"
      ]
     },
     "execution_count": 16,
     "metadata": {},
     "output_type": "execute_result"
    }
   ],
   "source": [
    "df.columns"
   ]
  },
  {
   "cell_type": "code",
   "execution_count": 17,
   "id": "db68a4de",
   "metadata": {
    "execution": {
     "iopub.execute_input": "2025-07-23T01:12:25.398385Z",
     "iopub.status.busy": "2025-07-23T01:12:25.398203Z",
     "iopub.status.idle": "2025-07-23T01:12:25.418477Z",
     "shell.execute_reply": "2025-07-23T01:12:25.417946Z"
    },
    "papermill": {
     "duration": 0.030441,
     "end_time": "2025-07-23T01:12:25.419496",
     "exception": false,
     "start_time": "2025-07-23T01:12:25.389055",
     "status": "completed"
    },
    "tags": []
   },
   "outputs": [
    {
     "name": "stdout",
     "output_type": "stream",
     "text": [
      "<class 'pandas.core.frame.DataFrame'>\n",
      "RangeIndex: 25560 entries, 0 to 25559\n",
      "Data columns (total 15 columns):\n",
      " #   Column            Non-Null Count  Dtype         \n",
      "---  ------            --------------  -----         \n",
      " 0   RecordID          25560 non-null  int64         \n",
      " 1   Offense           25560 non-null  object        \n",
      " 2   IncidentID        25560 non-null  object        \n",
      " 3   Agency            25560 non-null  object        \n",
      " 4   ReportingOfficer  25560 non-null  object        \n",
      " 5   Date              25560 non-null  datetime64[ns]\n",
      " 6   DayOfWeek         25560 non-null  object        \n",
      " 7   Weekend           25560 non-null  bool          \n",
      " 8   Season            25560 non-null  object        \n",
      " 9   TimeOfDay         25560 non-null  object        \n",
      " 10  FullStreet        25560 non-null  object        \n",
      " 11  lat               25560 non-null  object        \n",
      " 12  lon               25560 non-null  object        \n",
      " 13  neighborhood      25560 non-null  object        \n",
      " 14  zip               25560 non-null  object        \n",
      "dtypes: bool(1), datetime64[ns](1), int64(1), object(12)\n",
      "memory usage: 2.8+ MB\n"
     ]
    }
   ],
   "source": [
    "df.info()"
   ]
  },
  {
   "cell_type": "markdown",
   "id": "8f518ab4",
   "metadata": {
    "papermill": {
     "duration": 0.009117,
     "end_time": "2025-07-23T01:12:25.437654",
     "exception": false,
     "start_time": "2025-07-23T01:12:25.428537",
     "status": "completed"
    },
    "tags": []
   },
   "source": [
    "### Export Clean Data"
   ]
  },
  {
   "cell_type": "code",
   "execution_count": 18,
   "id": "1dac441f",
   "metadata": {
    "execution": {
     "iopub.execute_input": "2025-07-23T01:12:25.456671Z",
     "iopub.status.busy": "2025-07-23T01:12:25.456427Z",
     "iopub.status.idle": "2025-07-23T01:12:34.523863Z",
     "shell.execute_reply": "2025-07-23T01:12:34.523215Z"
    },
    "papermill": {
     "duration": 9.078206,
     "end_time": "2025-07-23T01:12:34.524831",
     "exception": false,
     "start_time": "2025-07-23T01:12:25.446625",
     "status": "completed"
    },
    "tags": []
   },
   "outputs": [
    {
     "name": "stdout",
     "output_type": "stream",
     "text": [
      "Project Root: /home/runner/work/crime-data/crime-data\n"
     ]
    },
    {
     "name": "stdout",
     "output_type": "stream",
     "text": [
      "Data saved to: /home/runner/work/crime-data/crime-data/data/charlottesville_crime_incidents.csv\n"
     ]
    },
    {
     "name": "stdout",
     "output_type": "stream",
     "text": [
      "Excel saved to: /home/runner/work/crime-data/crime-data/data/charlottesville_crime_incidents.xlsx\n"
     ]
    }
   ],
   "source": [
    "# Determine the project root (assuming papermill is run from the repository root)\n",
    "project_root = os.getcwd()\n",
    "print(\"Project Root:\", project_root)\n",
    "\n",
    "# Set the data directory within the project root\n",
    "data_dir = os.path.join(project_root, \"data\")\n",
    "\n",
    "# Ensure the \"data\" directory exists (create it if it doesn't)\n",
    "if not os.path.exists(data_dir):\n",
    "    os.makedirs(data_dir)\n",
    "\n",
    "# Export the DataFrame to CSV in the \"data\" folder located in the project root\n",
    "csv_path = os.path.join(data_dir, \"charlottesville_crime_incidents.csv\")\n",
    "df.to_csv(csv_path, index=False)\n",
    "print(\"Data saved to:\", csv_path)\n",
    "\n",
    "# Construct the path to your Excel file\n",
    "excel_path = os.path.join(data_dir, \"charlottesville_crime_incidents.xlsx\")\n",
    "\n",
    "# Export the DataFrame to Excel\n",
    "df.to_excel(excel_path, index=False)\n",
    "print(\"Excel saved to:\", excel_path)\n"
   ]
  }
 ],
 "metadata": {
  "kernelspec": {
   "display_name": "Python 3",
   "language": "python",
   "name": "python3"
  },
  "language_info": {
   "codemirror_mode": {
    "name": "ipython",
    "version": 3
   },
   "file_extension": ".py",
   "mimetype": "text/x-python",
   "name": "python",
   "nbconvert_exporter": "python",
   "pygments_lexer": "ipython3",
   "version": "3.9.23"
  },
  "papermill": {
   "default_parameters": {},
   "duration": 146.853363,
   "end_time": "2025-07-23T01:12:34.950502",
   "environment_variables": {},
   "exception": null,
   "input_path": "notebook/Crime Data.ipynb",
   "output_path": "notebook/Crime Data_output.ipynb",
   "parameters": {},
   "start_time": "2025-07-23T01:10:08.097139",
   "version": "2.6.0"
  }
 },
 "nbformat": 4,
 "nbformat_minor": 5
}