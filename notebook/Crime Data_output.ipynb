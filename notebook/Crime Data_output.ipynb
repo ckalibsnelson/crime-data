{
 "cells": [
  {
   "cell_type": "markdown",
   "id": "ecdbbedf",
   "metadata": {
    "papermill": {
     "duration": 0.006058,
     "end_time": "2025-04-23T01:00:46.969296",
     "exception": false,
     "start_time": "2025-04-23T01:00:46.963238",
     "status": "completed"
    },
    "tags": []
   },
   "source": [
    "# Charlottesville Open Data Porttal: Crime Data"
   ]
  },
  {
   "cell_type": "markdown",
   "id": "00dc8eb3",
   "metadata": {
    "papermill": {
     "duration": 0.005053,
     "end_time": "2025-04-23T01:00:46.979724",
     "exception": false,
     "start_time": "2025-04-23T01:00:46.974671",
     "status": "completed"
    },
    "tags": []
   },
   "source": [
    "## Import Relevant Librarires & Set WD"
   ]
  },
  {
   "cell_type": "code",
   "execution_count": 1,
   "id": "f58ca699",
   "metadata": {
    "execution": {
     "iopub.execute_input": "2025-04-23T01:00:46.991411Z",
     "iopub.status.busy": "2025-04-23T01:00:46.990767Z",
     "iopub.status.idle": "2025-04-23T01:00:47.677249Z",
     "shell.execute_reply": "2025-04-23T01:00:47.676473Z"
    },
    "papermill": {
     "duration": 0.694267,
     "end_time": "2025-04-23T01:00:47.679049",
     "exception": false,
     "start_time": "2025-04-23T01:00:46.984782",
     "status": "completed"
    },
    "tags": []
   },
   "outputs": [],
   "source": [
    "import requests\n",
    "import pandas as pd\n",
    "import numpy as np\n",
    "import pickle\n",
    "import googlemaps\n",
    "import plotly.express as px\n",
    "from geopy.geocoders import Nominatim\n",
    "import time\n",
    "from dotenv import load_dotenv\n",
    "import os\n",
    "\n",
    "env_path = os.path.join(\"..\", \".env\")\n",
    "#print(\"Looking for .env file at:\", os.path.abspath(env_path))\n",
    "load_dotenv(dotenv_path=env_path)\n",
    "\n",
    "# Retrieve the variables\n",
    "GOOGLE_API_KEY = os.getenv(\"GOOGLE_API_KEY\")\n",
    "WORKING_DIR = os.getenv(\"WORKING_DIR\")\n",
    "\n",
    "if GOOGLE_API_KEY is None or WORKING_DIR is None:\n",
    "    raise RuntimeError(\"No configuration found. Please ensure that your .env file exists with the required variables, or create a local config.py file.\")\n",
    "\n",
    "#print(\"Google API Key:\", GOOGLE_API_KEY)\n",
    "#print(\"Working Directory:\", WORKING_DIR)"
   ]
  },
  {
   "cell_type": "markdown",
   "id": "63db097e",
   "metadata": {
    "papermill": {
     "duration": 0.010047,
     "end_time": "2025-04-23T01:00:47.697375",
     "exception": false,
     "start_time": "2025-04-23T01:00:47.687328",
     "status": "completed"
    },
    "tags": []
   },
   "source": [
    "## Import Data\n",
    "\n",
    "URL: https://opendata.charlottesville.org/datasets/charlottesville::crime-data/about"
   ]
  },
  {
   "cell_type": "code",
   "execution_count": 2,
   "id": "28495485",
   "metadata": {
    "execution": {
     "iopub.execute_input": "2025-04-23T01:00:47.714014Z",
     "iopub.status.busy": "2025-04-23T01:00:47.713621Z",
     "iopub.status.idle": "2025-04-23T01:01:47.933098Z",
     "shell.execute_reply": "2025-04-23T01:01:47.932364Z"
    },
    "papermill": {
     "duration": 60.2332,
     "end_time": "2025-04-23T01:01:47.939429",
     "exception": false,
     "start_time": "2025-04-23T01:00:47.706229",
     "status": "completed"
    },
    "tags": []
   },
   "outputs": [
    {
     "name": "stdout",
     "output_type": "stream",
     "text": [
      "Total records imported: 25251\n"
     ]
    }
   ],
   "source": [
    "# Define the endpoint and initial parameters.\n",
    "url = \"https://gisweb.charlottesville.org/arcgis/rest/services/OpenData_2/MapServer/6/query\"\n",
    "params = {\n",
    "    \"where\": \"1=1\",\n",
    "    \"outFields\": \"*\",\n",
    "    \"outSR\": 4326,\n",
    "    \"f\": \"json\",\n",
    "    \"resultOffset\": 0,       # Starting index for results\n",
    "    \"resultRecordCount\": 10000  # Maximum records per batch (if allowed by the API)\n",
    "}\n",
    "\n",
    "records = []\n",
    "\n",
    "while True:\n",
    "    response = requests.get(url, params=params)\n",
    "    response.raise_for_status()\n",
    "    data = response.json()\n",
    "    \n",
    "    # Get the current batch of features.\n",
    "    features = data.get(\"features\", [])\n",
    "    if not features:\n",
    "        break\n",
    "\n",
    "    # Extract the attributes from the features.\n",
    "    batch_records = [feature.get(\"attributes\", {}) for feature in features]\n",
    "    records.extend(batch_records)\n",
    "    \n",
    "    # If the batch size is less than the requested count, we reached the end.\n",
    "    if len(features) < params[\"resultRecordCount\"]:\n",
    "        break\n",
    "\n",
    "    # Update the resultOffset for the next batch.\n",
    "    params[\"resultOffset\"] += params[\"resultRecordCount\"]\n",
    "\n",
    "# Create a DataFrame from the combined records.\n",
    "df = pd.DataFrame(records)\n",
    "print(\"Total records imported:\", len(df))\n"
   ]
  },
  {
   "cell_type": "code",
   "execution_count": 3,
   "id": "00f9233c",
   "metadata": {
    "execution": {
     "iopub.execute_input": "2025-04-23T01:01:47.951829Z",
     "iopub.status.busy": "2025-04-23T01:01:47.951377Z",
     "iopub.status.idle": "2025-04-23T01:01:47.963653Z",
     "shell.execute_reply": "2025-04-23T01:01:47.963053Z"
    },
    "papermill": {
     "duration": 0.019924,
     "end_time": "2025-04-23T01:01:47.964730",
     "exception": false,
     "start_time": "2025-04-23T01:01:47.944806",
     "status": "completed"
    },
    "tags": []
   },
   "outputs": [
    {
     "data": {
      "text/html": [
       "<div>\n",
       "<style scoped>\n",
       "    .dataframe tbody tr th:only-of-type {\n",
       "        vertical-align: middle;\n",
       "    }\n",
       "\n",
       "    .dataframe tbody tr th {\n",
       "        vertical-align: top;\n",
       "    }\n",
       "\n",
       "    .dataframe thead th {\n",
       "        text-align: right;\n",
       "    }\n",
       "</style>\n",
       "<table border=\"1\" class=\"dataframe\">\n",
       "  <thead>\n",
       "    <tr style=\"text-align: right;\">\n",
       "      <th></th>\n",
       "      <th>RecordID</th>\n",
       "      <th>Offense</th>\n",
       "      <th>IncidentID</th>\n",
       "      <th>BlockNumber</th>\n",
       "      <th>StreetName</th>\n",
       "      <th>Agency</th>\n",
       "      <th>DateReported</th>\n",
       "      <th>HourReported</th>\n",
       "      <th>ReportingOfficer</th>\n",
       "    </tr>\n",
       "  </thead>\n",
       "  <tbody>\n",
       "    <tr>\n",
       "      <th>0</th>\n",
       "      <td>1</td>\n",
       "      <td>Accident - w/out Injuries</td>\n",
       "      <td>202500012907</td>\n",
       "      <td>700</td>\n",
       "      <td>PROSPECT AVE</td>\n",
       "      <td>CPD</td>\n",
       "      <td>1745200639000</td>\n",
       "      <td>2157</td>\n",
       "      <td>Essex, Dominique</td>\n",
       "    </tr>\n",
       "    <tr>\n",
       "      <th>1</th>\n",
       "      <td>2</td>\n",
       "      <td>Lost/FoundProperty</td>\n",
       "      <td>202500012897</td>\n",
       "      <td>200</td>\n",
       "      <td>W MAIN ST</td>\n",
       "      <td>CPD</td>\n",
       "      <td>1745194144000</td>\n",
       "      <td>2009</td>\n",
       "      <td>Benbow, Lauren</td>\n",
       "    </tr>\n",
       "    <tr>\n",
       "      <th>2</th>\n",
       "      <td>3</td>\n",
       "      <td>Assault Simple</td>\n",
       "      <td>202500012879</td>\n",
       "      <td>100</td>\n",
       "      <td>HARTMANS MILL RD</td>\n",
       "      <td>CPD</td>\n",
       "      <td>1745184352000</td>\n",
       "      <td>1725</td>\n",
       "      <td>Essex, Dominique</td>\n",
       "    </tr>\n",
       "    <tr>\n",
       "      <th>3</th>\n",
       "      <td>4</td>\n",
       "      <td>Larceny - All Other</td>\n",
       "      <td>202500012862</td>\n",
       "      <td>900</td>\n",
       "      <td>EMMET ST N</td>\n",
       "      <td>CPD</td>\n",
       "      <td>1745177771000</td>\n",
       "      <td>1536</td>\n",
       "      <td>Mian, Ghulam</td>\n",
       "    </tr>\n",
       "    <tr>\n",
       "      <th>4</th>\n",
       "      <td>5</td>\n",
       "      <td>Fraud-impersonation</td>\n",
       "      <td>202500012855</td>\n",
       "      <td>900</td>\n",
       "      <td>EMMET ST N</td>\n",
       "      <td>CPD</td>\n",
       "      <td>1745175096000</td>\n",
       "      <td>1451</td>\n",
       "      <td>Wisser, Shawn</td>\n",
       "    </tr>\n",
       "  </tbody>\n",
       "</table>\n",
       "</div>"
      ],
      "text/plain": [
       "   RecordID                    Offense    IncidentID BlockNumber  \\\n",
       "0         1  Accident - w/out Injuries  202500012907         700   \n",
       "1         2         Lost/FoundProperty  202500012897         200   \n",
       "2         3             Assault Simple  202500012879         100   \n",
       "3         4        Larceny - All Other  202500012862         900   \n",
       "4         5        Fraud-impersonation  202500012855         900   \n",
       "\n",
       "         StreetName Agency   DateReported HourReported  ReportingOfficer  \n",
       "0      PROSPECT AVE    CPD  1745200639000         2157  Essex, Dominique  \n",
       "1         W MAIN ST    CPD  1745194144000         2009    Benbow, Lauren  \n",
       "2  HARTMANS MILL RD    CPD  1745184352000         1725  Essex, Dominique  \n",
       "3        EMMET ST N    CPD  1745177771000         1536      Mian, Ghulam  \n",
       "4        EMMET ST N    CPD  1745175096000         1451     Wisser, Shawn  "
      ]
     },
     "execution_count": 3,
     "metadata": {},
     "output_type": "execute_result"
    }
   ],
   "source": [
    "df.head()"
   ]
  },
  {
   "cell_type": "code",
   "execution_count": 4,
   "id": "ae94a30b",
   "metadata": {
    "execution": {
     "iopub.execute_input": "2025-04-23T01:01:47.976833Z",
     "iopub.status.busy": "2025-04-23T01:01:47.976338Z",
     "iopub.status.idle": "2025-04-23T01:01:47.980787Z",
     "shell.execute_reply": "2025-04-23T01:01:47.980250Z"
    },
    "papermill": {
     "duration": 0.011488,
     "end_time": "2025-04-23T01:01:47.981745",
     "exception": false,
     "start_time": "2025-04-23T01:01:47.970257",
     "status": "completed"
    },
    "tags": []
   },
   "outputs": [
    {
     "data": {
      "text/plain": [
       "Index(['RecordID', 'Offense', 'IncidentID', 'BlockNumber', 'StreetName',\n",
       "       'Agency', 'DateReported', 'HourReported', 'ReportingOfficer'],\n",
       "      dtype='object')"
      ]
     },
     "execution_count": 4,
     "metadata": {},
     "output_type": "execute_result"
    }
   ],
   "source": [
    "df.columns"
   ]
  },
  {
   "cell_type": "code",
   "execution_count": 5,
   "id": "5f0ffd3c",
   "metadata": {
    "execution": {
     "iopub.execute_input": "2025-04-23T01:01:47.993661Z",
     "iopub.status.busy": "2025-04-23T01:01:47.993470Z",
     "iopub.status.idle": "2025-04-23T01:01:48.016679Z",
     "shell.execute_reply": "2025-04-23T01:01:48.016157Z"
    },
    "papermill": {
     "duration": 0.030352,
     "end_time": "2025-04-23T01:01:48.017671",
     "exception": false,
     "start_time": "2025-04-23T01:01:47.987319",
     "status": "completed"
    },
    "tags": []
   },
   "outputs": [
    {
     "name": "stdout",
     "output_type": "stream",
     "text": [
      "<class 'pandas.core.frame.DataFrame'>\n",
      "RangeIndex: 25251 entries, 0 to 25250\n",
      "Data columns (total 9 columns):\n",
      " #   Column            Non-Null Count  Dtype \n",
      "---  ------            --------------  ----- \n",
      " 0   RecordID          25251 non-null  int64 \n",
      " 1   Offense           25251 non-null  object\n",
      " 2   IncidentID        25251 non-null  object\n",
      " 3   BlockNumber       25251 non-null  object\n",
      " 4   StreetName        25251 non-null  object\n",
      " 5   Agency            25251 non-null  object\n",
      " 6   DateReported      25251 non-null  int64 \n",
      " 7   HourReported      25251 non-null  object\n",
      " 8   ReportingOfficer  25234 non-null  object\n",
      "dtypes: int64(2), object(7)\n",
      "memory usage: 1.7+ MB\n"
     ]
    }
   ],
   "source": [
    "df.info()"
   ]
  },
  {
   "cell_type": "markdown",
   "id": "111623f4",
   "metadata": {
    "papermill": {
     "duration": 0.00557,
     "end_time": "2025-04-23T01:01:48.028944",
     "exception": false,
     "start_time": "2025-04-23T01:01:48.023374",
     "status": "completed"
    },
    "tags": []
   },
   "source": [
    "### Missing Values"
   ]
  },
  {
   "cell_type": "code",
   "execution_count": 6,
   "id": "e492986a",
   "metadata": {
    "execution": {
     "iopub.execute_input": "2025-04-23T01:01:48.040868Z",
     "iopub.status.busy": "2025-04-23T01:01:48.040679Z",
     "iopub.status.idle": "2025-04-23T01:01:48.063798Z",
     "shell.execute_reply": "2025-04-23T01:01:48.063242Z"
    },
    "papermill": {
     "duration": 0.030339,
     "end_time": "2025-04-23T01:01:48.064820",
     "exception": false,
     "start_time": "2025-04-23T01:01:48.034481",
     "status": "completed"
    },
    "tags": []
   },
   "outputs": [
    {
     "name": "stdout",
     "output_type": "stream",
     "text": [
      "                  MissingCount  MissingPercentage\n",
      "RecordID                     0               0.00\n",
      "Offense                      0               0.00\n",
      "IncidentID                   0               0.00\n",
      "BlockNumber                  0               0.00\n",
      "StreetName                   0               0.00\n",
      "Agency                       0               0.00\n",
      "DateReported                 0               0.00\n",
      "HourReported                 0               0.00\n",
      "ReportingOfficer            17               0.07\n"
     ]
    }
   ],
   "source": [
    "def missing_percentage(df):\n",
    "    \"\"\"\n",
    "    Returns a DataFrame with the count and percentage of missing values for each column.\n",
    "    \n",
    "    Parameters:\n",
    "        df (pd.DataFrame): The input DataFrame.\n",
    "    \n",
    "    Returns:\n",
    "        pd.DataFrame: A DataFrame with columns 'MissingCount' and 'MissingPercentage'.\n",
    "    \"\"\"\n",
    "    total_rows = len(df)\n",
    "    missing_count = df.isnull().sum()\n",
    "    missing_percent = (missing_count / total_rows) * 100\n",
    "    \n",
    "    result = pd.DataFrame({\n",
    "        'MissingCount': missing_count,\n",
    "        'MissingPercentage': missing_percent.round(2)\n",
    "    })\n",
    "    \n",
    "    return result\n",
    "\n",
    "# Example usage:\n",
    "missing_info = missing_percentage(df)\n",
    "print(missing_info)\n"
   ]
  },
  {
   "cell_type": "markdown",
   "id": "5800529a",
   "metadata": {
    "papermill": {
     "duration": 0.005883,
     "end_time": "2025-04-23T01:01:48.076808",
     "exception": false,
     "start_time": "2025-04-23T01:01:48.070925",
     "status": "completed"
    },
    "tags": []
   },
   "source": [
    "## Data Preparation"
   ]
  },
  {
   "cell_type": "markdown",
   "id": "eab66424",
   "metadata": {
    "papermill": {
     "duration": 0.005744,
     "end_time": "2025-04-23T01:01:48.088242",
     "exception": false,
     "start_time": "2025-04-23T01:01:48.082498",
     "status": "completed"
    },
    "tags": []
   },
   "source": [
    "### Data Conversion"
   ]
  },
  {
   "cell_type": "code",
   "execution_count": 7,
   "id": "25b1f56c",
   "metadata": {
    "execution": {
     "iopub.execute_input": "2025-04-23T01:01:48.101215Z",
     "iopub.status.busy": "2025-04-23T01:01:48.100704Z",
     "iopub.status.idle": "2025-04-23T01:01:48.467384Z",
     "shell.execute_reply": "2025-04-23T01:01:48.466643Z"
    },
    "papermill": {
     "duration": 0.374587,
     "end_time": "2025-04-23T01:01:48.468487",
     "exception": false,
     "start_time": "2025-04-23T01:01:48.093900",
     "status": "completed"
    },
    "tags": []
   },
   "outputs": [
    {
     "data": {
      "text/html": [
       "<div>\n",
       "<style scoped>\n",
       "    .dataframe tbody tr th:only-of-type {\n",
       "        vertical-align: middle;\n",
       "    }\n",
       "\n",
       "    .dataframe tbody tr th {\n",
       "        vertical-align: top;\n",
       "    }\n",
       "\n",
       "    .dataframe thead th {\n",
       "        text-align: right;\n",
       "    }\n",
       "</style>\n",
       "<table border=\"1\" class=\"dataframe\">\n",
       "  <thead>\n",
       "    <tr style=\"text-align: right;\">\n",
       "      <th></th>\n",
       "      <th>RecordID</th>\n",
       "      <th>Offense</th>\n",
       "      <th>IncidentID</th>\n",
       "      <th>BlockNumber</th>\n",
       "      <th>StreetName</th>\n",
       "      <th>Agency</th>\n",
       "      <th>HourReported</th>\n",
       "      <th>ReportingOfficer</th>\n",
       "      <th>Date</th>\n",
       "      <th>DateString</th>\n",
       "      <th>DayOfWeek</th>\n",
       "      <th>Weekend</th>\n",
       "      <th>Season</th>\n",
       "      <th>HourAMPM</th>\n",
       "      <th>TimeOfDay</th>\n",
       "    </tr>\n",
       "  </thead>\n",
       "  <tbody>\n",
       "    <tr>\n",
       "      <th>0</th>\n",
       "      <td>1</td>\n",
       "      <td>Accident - w/out Injuries</td>\n",
       "      <td>202500012907</td>\n",
       "      <td>700</td>\n",
       "      <td>PROSPECT AVE</td>\n",
       "      <td>CPD</td>\n",
       "      <td>2157</td>\n",
       "      <td>Essex, Dominique</td>\n",
       "      <td>2025-04-20 21:57:19</td>\n",
       "      <td>2025-04-20 09:57:19 PM</td>\n",
       "      <td>Sunday</td>\n",
       "      <td>True</td>\n",
       "      <td>Spring</td>\n",
       "      <td>09:57 PM</td>\n",
       "      <td>Night</td>\n",
       "    </tr>\n",
       "    <tr>\n",
       "      <th>1</th>\n",
       "      <td>2</td>\n",
       "      <td>Lost/FoundProperty</td>\n",
       "      <td>202500012897</td>\n",
       "      <td>200</td>\n",
       "      <td>W MAIN ST</td>\n",
       "      <td>CPD</td>\n",
       "      <td>2009</td>\n",
       "      <td>Benbow, Lauren</td>\n",
       "      <td>2025-04-20 20:09:04</td>\n",
       "      <td>2025-04-20 08:09:04 PM</td>\n",
       "      <td>Sunday</td>\n",
       "      <td>True</td>\n",
       "      <td>Spring</td>\n",
       "      <td>08:09 PM</td>\n",
       "      <td>Evening</td>\n",
       "    </tr>\n",
       "    <tr>\n",
       "      <th>2</th>\n",
       "      <td>3</td>\n",
       "      <td>Assault Simple</td>\n",
       "      <td>202500012879</td>\n",
       "      <td>100</td>\n",
       "      <td>HARTMANS MILL RD</td>\n",
       "      <td>CPD</td>\n",
       "      <td>1725</td>\n",
       "      <td>Essex, Dominique</td>\n",
       "      <td>2025-04-20 17:25:52</td>\n",
       "      <td>2025-04-20 05:25:52 PM</td>\n",
       "      <td>Sunday</td>\n",
       "      <td>True</td>\n",
       "      <td>Spring</td>\n",
       "      <td>05:25 PM</td>\n",
       "      <td>Evening</td>\n",
       "    </tr>\n",
       "    <tr>\n",
       "      <th>3</th>\n",
       "      <td>4</td>\n",
       "      <td>Larceny - All Other</td>\n",
       "      <td>202500012862</td>\n",
       "      <td>900</td>\n",
       "      <td>EMMET ST N</td>\n",
       "      <td>CPD</td>\n",
       "      <td>1536</td>\n",
       "      <td>Mian, Ghulam</td>\n",
       "      <td>2025-04-20 15:36:11</td>\n",
       "      <td>2025-04-20 03:36:11 PM</td>\n",
       "      <td>Sunday</td>\n",
       "      <td>True</td>\n",
       "      <td>Spring</td>\n",
       "      <td>03:36 PM</td>\n",
       "      <td>Afternoon</td>\n",
       "    </tr>\n",
       "    <tr>\n",
       "      <th>4</th>\n",
       "      <td>5</td>\n",
       "      <td>Fraud-impersonation</td>\n",
       "      <td>202500012855</td>\n",
       "      <td>900</td>\n",
       "      <td>EMMET ST N</td>\n",
       "      <td>CPD</td>\n",
       "      <td>1451</td>\n",
       "      <td>Wisser, Shawn</td>\n",
       "      <td>2025-04-20 14:51:36</td>\n",
       "      <td>2025-04-20 02:51:36 PM</td>\n",
       "      <td>Sunday</td>\n",
       "      <td>True</td>\n",
       "      <td>Spring</td>\n",
       "      <td>02:51 PM</td>\n",
       "      <td>Afternoon</td>\n",
       "    </tr>\n",
       "  </tbody>\n",
       "</table>\n",
       "</div>"
      ],
      "text/plain": [
       "   RecordID                    Offense    IncidentID BlockNumber  \\\n",
       "0         1  Accident - w/out Injuries  202500012907         700   \n",
       "1         2         Lost/FoundProperty  202500012897         200   \n",
       "2         3             Assault Simple  202500012879         100   \n",
       "3         4        Larceny - All Other  202500012862         900   \n",
       "4         5        Fraud-impersonation  202500012855         900   \n",
       "\n",
       "         StreetName Agency HourReported  ReportingOfficer                Date  \\\n",
       "0      PROSPECT AVE    CPD         2157  Essex, Dominique 2025-04-20 21:57:19   \n",
       "1         W MAIN ST    CPD         2009    Benbow, Lauren 2025-04-20 20:09:04   \n",
       "2  HARTMANS MILL RD    CPD         1725  Essex, Dominique 2025-04-20 17:25:52   \n",
       "3        EMMET ST N    CPD         1536      Mian, Ghulam 2025-04-20 15:36:11   \n",
       "4        EMMET ST N    CPD         1451     Wisser, Shawn 2025-04-20 14:51:36   \n",
       "\n",
       "               DateString DayOfWeek  Weekend  Season  HourAMPM  TimeOfDay  \n",
       "0  2025-04-20 09:57:19 PM    Sunday     True  Spring  09:57 PM      Night  \n",
       "1  2025-04-20 08:09:04 PM    Sunday     True  Spring  08:09 PM    Evening  \n",
       "2  2025-04-20 05:25:52 PM    Sunday     True  Spring  05:25 PM    Evening  \n",
       "3  2025-04-20 03:36:11 PM    Sunday     True  Spring  03:36 PM  Afternoon  \n",
       "4  2025-04-20 02:51:36 PM    Sunday     True  Spring  02:51 PM  Afternoon  "
      ]
     },
     "execution_count": 7,
     "metadata": {},
     "output_type": "execute_result"
    }
   ],
   "source": [
    "def convert_and_categorize_datereported(df, col='DateReported'):\n",
    "    \"\"\"\n",
    "    Converts an epoch (in milliseconds) date column into a timezone-aware datetime,\n",
    "    converts it to Eastern Time, and then creates columns for day-of-week, weekend flag,\n",
    "    season, 12-hour formatted time, and time-of-day. Keeps both a real datetime column\n",
    "    (Date) and a string representation (DateString).\n",
    "    \"\"\"\n",
    "    import pandas as pd\n",
    "\n",
    "    # Convert the epoch timestamp to a pandas datetime object as UTC, then convert to US/Eastern.\n",
    "    df[\"DateReported_dt\"] = (\n",
    "        pd.to_datetime(df[col], unit=\"ms\", errors=\"coerce\", utc=True)\n",
    "        .dt.tz_convert(\"US/Eastern\")\n",
    "    )\n",
    "    \n",
    "    # Create a true datetime column (remove timezone if you prefer naive datetime)\n",
    "    df[\"Date\"] = df[\"DateReported_dt\"].dt.tz_localize(None)\n",
    "\n",
    "    # Optionally, create a separate string-formatted column\n",
    "    df[\"DateString\"] = df[\"DateReported_dt\"].dt.strftime(\"%Y-%m-%d %I:%M:%S %p\")\n",
    "    \n",
    "    # DayOfWeek\n",
    "    df[\"DayOfWeek\"] = df[\"DateReported_dt\"].dt.day_name()\n",
    "    \n",
    "    # Weekend\n",
    "    df[\"Weekend\"] = df[\"DayOfWeek\"].isin([\"Saturday\", \"Sunday\"])\n",
    "    \n",
    "    # Helper function to determine the season\n",
    "    def get_season(dt):\n",
    "        month = dt.month\n",
    "        day = dt.day\n",
    "        # Approximate Northern Hemisphere season boundaries:\n",
    "        if (month == 12 and day >= 21) or (month < 3) or (month == 3 and day < 20):\n",
    "            return \"Winter\"\n",
    "        elif (month == 3 and day >= 20) or (month < 6) or (month == 6 and day < 21):\n",
    "            return \"Spring\"\n",
    "        elif (month == 6 and day >= 21) or (month < 9) or (month == 9 and day < 22):\n",
    "            return \"Summer\"\n",
    "        else:\n",
    "            return \"Autumn\"\n",
    "    \n",
    "    df[\"Season\"] = df[\"DateReported_dt\"].apply(get_season)\n",
    "    \n",
    "    # 12-hour formatted time (HourAMPM)\n",
    "    df[\"HourAMPM\"] = df[\"DateReported_dt\"].dt.strftime(\"%I:%M %p\")\n",
    "    \n",
    "    # Extract hour (0-23) for time-of-day\n",
    "    df[\"HourValue\"] = df[\"DateReported_dt\"].dt.hour\n",
    "    \n",
    "    def time_of_day(hour):\n",
    "        if pd.isnull(hour):\n",
    "            return None\n",
    "        if 5 <= hour < 12:\n",
    "            return \"Morning\"\n",
    "        elif 12 <= hour < 17:\n",
    "            return \"Afternoon\"\n",
    "        elif 17 <= hour < 21:\n",
    "            return \"Evening\"\n",
    "        else:\n",
    "            return \"Night\"\n",
    "    \n",
    "    df[\"TimeOfDay\"] = df[\"HourValue\"].apply(time_of_day)\n",
    "    \n",
    "    # Drop columns you no longer need\n",
    "    df.drop(columns=[col, \"DateReported_dt\", \"HourValue\"], inplace=True)\n",
    "    \n",
    "    return df\n",
    "\n",
    "# Example usage:\n",
    "df = convert_and_categorize_datereported(df)\n",
    "df.head()\n"
   ]
  },
  {
   "cell_type": "code",
   "execution_count": 8,
   "id": "473e3557",
   "metadata": {
    "execution": {
     "iopub.execute_input": "2025-04-23T01:01:48.481877Z",
     "iopub.status.busy": "2025-04-23T01:01:48.481673Z",
     "iopub.status.idle": "2025-04-23T01:01:48.508255Z",
     "shell.execute_reply": "2025-04-23T01:01:48.507687Z"
    },
    "papermill": {
     "duration": 0.034379,
     "end_time": "2025-04-23T01:01:48.509273",
     "exception": false,
     "start_time": "2025-04-23T01:01:48.474894",
     "status": "completed"
    },
    "tags": []
   },
   "outputs": [
    {
     "name": "stdout",
     "output_type": "stream",
     "text": [
      "<class 'pandas.core.frame.DataFrame'>\n",
      "RangeIndex: 25251 entries, 0 to 25250\n",
      "Data columns (total 15 columns):\n",
      " #   Column            Non-Null Count  Dtype         \n",
      "---  ------            --------------  -----         \n",
      " 0   RecordID          25251 non-null  int64         \n",
      " 1   Offense           25251 non-null  object        \n",
      " 2   IncidentID        25251 non-null  object        \n",
      " 3   BlockNumber       25251 non-null  object        \n",
      " 4   StreetName        25251 non-null  object        \n",
      " 5   Agency            25251 non-null  object        \n",
      " 6   HourReported      25251 non-null  object        \n",
      " 7   ReportingOfficer  25234 non-null  object        \n",
      " 8   Date              25251 non-null  datetime64[ns]\n",
      " 9   DateString        25251 non-null  object        \n",
      " 10  DayOfWeek         25251 non-null  object        \n",
      " 11  Weekend           25251 non-null  bool          \n",
      " 12  Season            25251 non-null  object        \n",
      " 13  HourAMPM          25251 non-null  object        \n",
      " 14  TimeOfDay         25251 non-null  object        \n",
      "dtypes: bool(1), datetime64[ns](1), int64(1), object(12)\n",
      "memory usage: 2.7+ MB\n"
     ]
    }
   ],
   "source": [
    "df.info()"
   ]
  },
  {
   "cell_type": "markdown",
   "id": "bc281449",
   "metadata": {
    "papermill": {
     "duration": 0.005991,
     "end_time": "2025-04-23T01:01:48.521437",
     "exception": false,
     "start_time": "2025-04-23T01:01:48.515446",
     "status": "completed"
    },
    "tags": []
   },
   "source": [
    "### Coordinates"
   ]
  },
  {
   "cell_type": "code",
   "execution_count": 9,
   "id": "4479d1b5",
   "metadata": {
    "execution": {
     "iopub.execute_input": "2025-04-23T01:01:48.534774Z",
     "iopub.status.busy": "2025-04-23T01:01:48.534327Z",
     "iopub.status.idle": "2025-04-23T01:01:48.742252Z",
     "shell.execute_reply": "2025-04-23T01:01:48.741642Z"
    },
    "papermill": {
     "duration": 0.21573,
     "end_time": "2025-04-23T01:01:48.743276",
     "exception": false,
     "start_time": "2025-04-23T01:01:48.527546",
     "status": "completed"
    },
    "tags": []
   },
   "outputs": [
    {
     "name": "stdout",
     "output_type": "stream",
     "text": [
      "Loaded geocode cache.\n"
     ]
    },
    {
     "name": "stdout",
     "output_type": "stream",
     "text": [
      "Geocoded 1500 6TH ST SE, B: 38.0187272, -78.4850371\n",
      "Geocode cache updated and saved.\n"
     ]
    },
    {
     "data": {
      "text/html": [
       "<div>\n",
       "<style scoped>\n",
       "    .dataframe tbody tr th:only-of-type {\n",
       "        vertical-align: middle;\n",
       "    }\n",
       "\n",
       "    .dataframe tbody tr th {\n",
       "        vertical-align: top;\n",
       "    }\n",
       "\n",
       "    .dataframe thead th {\n",
       "        text-align: right;\n",
       "    }\n",
       "</style>\n",
       "<table border=\"1\" class=\"dataframe\">\n",
       "  <thead>\n",
       "    <tr style=\"text-align: right;\">\n",
       "      <th></th>\n",
       "      <th>RecordID</th>\n",
       "      <th>Offense</th>\n",
       "      <th>IncidentID</th>\n",
       "      <th>BlockNumber</th>\n",
       "      <th>StreetName</th>\n",
       "      <th>Agency</th>\n",
       "      <th>HourReported</th>\n",
       "      <th>ReportingOfficer</th>\n",
       "      <th>Date</th>\n",
       "      <th>DateString</th>\n",
       "      <th>DayOfWeek</th>\n",
       "      <th>Weekend</th>\n",
       "      <th>Season</th>\n",
       "      <th>HourAMPM</th>\n",
       "      <th>TimeOfDay</th>\n",
       "      <th>FullStreet</th>\n",
       "      <th>lat</th>\n",
       "      <th>lon</th>\n",
       "    </tr>\n",
       "  </thead>\n",
       "  <tbody>\n",
       "    <tr>\n",
       "      <th>0</th>\n",
       "      <td>1</td>\n",
       "      <td>Accident - w/out Injuries</td>\n",
       "      <td>202500012907</td>\n",
       "      <td>700</td>\n",
       "      <td>PROSPECT AVE</td>\n",
       "      <td>CPD</td>\n",
       "      <td>2157</td>\n",
       "      <td>Essex, Dominique</td>\n",
       "      <td>2025-04-20 21:57:19</td>\n",
       "      <td>2025-04-20 09:57:19 PM</td>\n",
       "      <td>Sunday</td>\n",
       "      <td>True</td>\n",
       "      <td>Spring</td>\n",
       "      <td>09:57 PM</td>\n",
       "      <td>Night</td>\n",
       "      <td>700 PROSPECT AVE</td>\n",
       "      <td>38.024639</td>\n",
       "      <td>-78.494396</td>\n",
       "    </tr>\n",
       "    <tr>\n",
       "      <th>1</th>\n",
       "      <td>2</td>\n",
       "      <td>Lost/FoundProperty</td>\n",
       "      <td>202500012897</td>\n",
       "      <td>200</td>\n",
       "      <td>W MAIN ST</td>\n",
       "      <td>CPD</td>\n",
       "      <td>2009</td>\n",
       "      <td>Benbow, Lauren</td>\n",
       "      <td>2025-04-20 20:09:04</td>\n",
       "      <td>2025-04-20 08:09:04 PM</td>\n",
       "      <td>Sunday</td>\n",
       "      <td>True</td>\n",
       "      <td>Spring</td>\n",
       "      <td>08:09 PM</td>\n",
       "      <td>Evening</td>\n",
       "      <td>200 W MAIN ST</td>\n",
       "      <td>38.030841</td>\n",
       "      <td>-78.482517</td>\n",
       "    </tr>\n",
       "    <tr>\n",
       "      <th>2</th>\n",
       "      <td>3</td>\n",
       "      <td>Assault Simple</td>\n",
       "      <td>202500012879</td>\n",
       "      <td>100</td>\n",
       "      <td>HARTMANS MILL RD</td>\n",
       "      <td>CPD</td>\n",
       "      <td>1725</td>\n",
       "      <td>Essex, Dominique</td>\n",
       "      <td>2025-04-20 17:25:52</td>\n",
       "      <td>2025-04-20 05:25:52 PM</td>\n",
       "      <td>Sunday</td>\n",
       "      <td>True</td>\n",
       "      <td>Spring</td>\n",
       "      <td>05:25 PM</td>\n",
       "      <td>Evening</td>\n",
       "      <td>100 HARTMANS MILL RD</td>\n",
       "      <td>38.018491</td>\n",
       "      <td>-78.488598</td>\n",
       "    </tr>\n",
       "    <tr>\n",
       "      <th>3</th>\n",
       "      <td>4</td>\n",
       "      <td>Larceny - All Other</td>\n",
       "      <td>202500012862</td>\n",
       "      <td>900</td>\n",
       "      <td>EMMET ST N</td>\n",
       "      <td>CPD</td>\n",
       "      <td>1536</td>\n",
       "      <td>Mian, Ghulam</td>\n",
       "      <td>2025-04-20 15:36:11</td>\n",
       "      <td>2025-04-20 03:36:11 PM</td>\n",
       "      <td>Sunday</td>\n",
       "      <td>True</td>\n",
       "      <td>Spring</td>\n",
       "      <td>03:36 PM</td>\n",
       "      <td>Afternoon</td>\n",
       "      <td>900 EMMET ST N</td>\n",
       "      <td>38.048586</td>\n",
       "      <td>-78.502983</td>\n",
       "    </tr>\n",
       "    <tr>\n",
       "      <th>4</th>\n",
       "      <td>5</td>\n",
       "      <td>Fraud-impersonation</td>\n",
       "      <td>202500012855</td>\n",
       "      <td>900</td>\n",
       "      <td>EMMET ST N</td>\n",
       "      <td>CPD</td>\n",
       "      <td>1451</td>\n",
       "      <td>Wisser, Shawn</td>\n",
       "      <td>2025-04-20 14:51:36</td>\n",
       "      <td>2025-04-20 02:51:36 PM</td>\n",
       "      <td>Sunday</td>\n",
       "      <td>True</td>\n",
       "      <td>Spring</td>\n",
       "      <td>02:51 PM</td>\n",
       "      <td>Afternoon</td>\n",
       "      <td>900 EMMET ST N</td>\n",
       "      <td>38.048586</td>\n",
       "      <td>-78.502983</td>\n",
       "    </tr>\n",
       "  </tbody>\n",
       "</table>\n",
       "</div>"
      ],
      "text/plain": [
       "   RecordID                    Offense    IncidentID BlockNumber  \\\n",
       "0         1  Accident - w/out Injuries  202500012907         700   \n",
       "1         2         Lost/FoundProperty  202500012897         200   \n",
       "2         3             Assault Simple  202500012879         100   \n",
       "3         4        Larceny - All Other  202500012862         900   \n",
       "4         5        Fraud-impersonation  202500012855         900   \n",
       "\n",
       "         StreetName Agency HourReported  ReportingOfficer                Date  \\\n",
       "0      PROSPECT AVE    CPD         2157  Essex, Dominique 2025-04-20 21:57:19   \n",
       "1         W MAIN ST    CPD         2009    Benbow, Lauren 2025-04-20 20:09:04   \n",
       "2  HARTMANS MILL RD    CPD         1725  Essex, Dominique 2025-04-20 17:25:52   \n",
       "3        EMMET ST N    CPD         1536      Mian, Ghulam 2025-04-20 15:36:11   \n",
       "4        EMMET ST N    CPD         1451     Wisser, Shawn 2025-04-20 14:51:36   \n",
       "\n",
       "               DateString DayOfWeek  Weekend  Season  HourAMPM  TimeOfDay  \\\n",
       "0  2025-04-20 09:57:19 PM    Sunday     True  Spring  09:57 PM      Night   \n",
       "1  2025-04-20 08:09:04 PM    Sunday     True  Spring  08:09 PM    Evening   \n",
       "2  2025-04-20 05:25:52 PM    Sunday     True  Spring  05:25 PM    Evening   \n",
       "3  2025-04-20 03:36:11 PM    Sunday     True  Spring  03:36 PM  Afternoon   \n",
       "4  2025-04-20 02:51:36 PM    Sunday     True  Spring  02:51 PM  Afternoon   \n",
       "\n",
       "             FullStreet        lat        lon  \n",
       "0      700 PROSPECT AVE  38.024639 -78.494396  \n",
       "1         200 W MAIN ST  38.030841 -78.482517  \n",
       "2  100 HARTMANS MILL RD  38.018491 -78.488598  \n",
       "3        900 EMMET ST N  38.048586 -78.502983  \n",
       "4        900 EMMET ST N  38.048586 -78.502983  "
      ]
     },
     "execution_count": 9,
     "metadata": {},
     "output_type": "execute_result"
    }
   ],
   "source": [
    "# Combine BlockNumber and StreetName into a full address string\n",
    "df['FullStreet'] = df['BlockNumber'].astype(str) + \" \" + df['StreetName']\n",
    "\n",
    "# --- Step 1: Setup the Google Maps Client and Cache ---\n",
    "gmaps = googlemaps.Client(key=GOOGLE_API_KEY)\n",
    "\n",
    "# Try to load cached geocoding results if available.\n",
    "try:\n",
    "    with open(\"geocode_cache_google.pkl\", \"rb\") as f:\n",
    "        street_coords = pickle.load(f)\n",
    "    print(\"Loaded geocode cache.\")\n",
    "except FileNotFoundError:\n",
    "    street_coords = {}\n",
    "    print(\"No cache found; starting fresh.\")\n",
    "\n",
    "def geocode_address(address):\n",
    "    try:\n",
    "        # Append city and state to help geocoding\n",
    "        result = gmaps.geocode(f\"{address}, Charlottesville, VA\")\n",
    "        if result:\n",
    "            lat = result[0]['geometry']['location']['lat']\n",
    "            lon = result[0]['geometry']['location']['lng']\n",
    "            return lat, lon\n",
    "    except Exception as e:\n",
    "        print(f\"Error geocoding {address}: {e}\")\n",
    "    return None, None\n",
    "\n",
    "# --- Step 2: Geocode Only New Addresses ---\n",
    "unique_addresses = df['FullStreet'].unique()\n",
    "for address in unique_addresses:\n",
    "    if address not in street_coords:\n",
    "        lat, lon = geocode_address(address)\n",
    "        street_coords[address] = (lat, lon)\n",
    "        print(f\"Geocoded {address}: {lat}, {lon}\")\n",
    "\n",
    "# Save the updated cache to disk.\n",
    "with open(\"geocode_cache_google.pkl\", \"wb\") as f:\n",
    "    pickle.dump(street_coords, f)\n",
    "    print(\"Geocode cache updated and saved.\")\n",
    "\n",
    "# --- Step 3: Map Coordinates Back to DataFrame ---\n",
    "df['lat'] = df['FullStreet'].map(lambda s: street_coords.get(s, (None, None))[0])\n",
    "df['lon'] = df['FullStreet'].map(lambda s: street_coords.get(s, (None, None))[1])\n",
    "\n",
    "df.head()"
   ]
  },
  {
   "cell_type": "markdown",
   "id": "df7fc083",
   "metadata": {
    "papermill": {
     "duration": 0.006468,
     "end_time": "2025-04-23T01:01:48.756432",
     "exception": false,
     "start_time": "2025-04-23T01:01:48.749964",
     "status": "completed"
    },
    "tags": []
   },
   "source": [
    "### Neighborhood"
   ]
  },
  {
   "cell_type": "code",
   "execution_count": 10,
   "id": "de807f41",
   "metadata": {
    "execution": {
     "iopub.execute_input": "2025-04-23T01:01:48.770281Z",
     "iopub.status.busy": "2025-04-23T01:01:48.769802Z",
     "iopub.status.idle": "2025-04-23T01:01:49.030887Z",
     "shell.execute_reply": "2025-04-23T01:01:49.030220Z"
    },
    "papermill": {
     "duration": 0.269226,
     "end_time": "2025-04-23T01:01:49.031951",
     "exception": false,
     "start_time": "2025-04-23T01:01:48.762725",
     "status": "completed"
    },
    "tags": []
   },
   "outputs": [
    {
     "name": "stdout",
     "output_type": "stream",
     "text": [
      "Loaded neighborhood cache.\n"
     ]
    },
    {
     "data": {
      "text/html": [
       "<div>\n",
       "<style scoped>\n",
       "    .dataframe tbody tr th:only-of-type {\n",
       "        vertical-align: middle;\n",
       "    }\n",
       "\n",
       "    .dataframe tbody tr th {\n",
       "        vertical-align: top;\n",
       "    }\n",
       "\n",
       "    .dataframe thead th {\n",
       "        text-align: right;\n",
       "    }\n",
       "</style>\n",
       "<table border=\"1\" class=\"dataframe\">\n",
       "  <thead>\n",
       "    <tr style=\"text-align: right;\">\n",
       "      <th></th>\n",
       "      <th>RecordID</th>\n",
       "      <th>Offense</th>\n",
       "      <th>IncidentID</th>\n",
       "      <th>BlockNumber</th>\n",
       "      <th>StreetName</th>\n",
       "      <th>Agency</th>\n",
       "      <th>HourReported</th>\n",
       "      <th>ReportingOfficer</th>\n",
       "      <th>Date</th>\n",
       "      <th>DateString</th>\n",
       "      <th>DayOfWeek</th>\n",
       "      <th>Weekend</th>\n",
       "      <th>Season</th>\n",
       "      <th>HourAMPM</th>\n",
       "      <th>TimeOfDay</th>\n",
       "      <th>FullStreet</th>\n",
       "      <th>lat</th>\n",
       "      <th>lon</th>\n",
       "      <th>neighborhood</th>\n",
       "    </tr>\n",
       "  </thead>\n",
       "  <tbody>\n",
       "    <tr>\n",
       "      <th>0</th>\n",
       "      <td>1</td>\n",
       "      <td>Accident - w/out Injuries</td>\n",
       "      <td>202500012907</td>\n",
       "      <td>700</td>\n",
       "      <td>PROSPECT AVE</td>\n",
       "      <td>CPD</td>\n",
       "      <td>2157</td>\n",
       "      <td>Essex, Dominique</td>\n",
       "      <td>2025-04-20 21:57:19</td>\n",
       "      <td>2025-04-20 09:57:19 PM</td>\n",
       "      <td>Sunday</td>\n",
       "      <td>True</td>\n",
       "      <td>Spring</td>\n",
       "      <td>09:57 PM</td>\n",
       "      <td>Night</td>\n",
       "      <td>700 PROSPECT AVE</td>\n",
       "      <td>38.024639</td>\n",
       "      <td>-78.494396</td>\n",
       "      <td>Fifeville</td>\n",
       "    </tr>\n",
       "    <tr>\n",
       "      <th>1</th>\n",
       "      <td>2</td>\n",
       "      <td>Lost/FoundProperty</td>\n",
       "      <td>202500012897</td>\n",
       "      <td>200</td>\n",
       "      <td>W MAIN ST</td>\n",
       "      <td>CPD</td>\n",
       "      <td>2009</td>\n",
       "      <td>Benbow, Lauren</td>\n",
       "      <td>2025-04-20 20:09:04</td>\n",
       "      <td>2025-04-20 08:09:04 PM</td>\n",
       "      <td>Sunday</td>\n",
       "      <td>True</td>\n",
       "      <td>Spring</td>\n",
       "      <td>08:09 PM</td>\n",
       "      <td>Evening</td>\n",
       "      <td>200 W MAIN ST</td>\n",
       "      <td>38.030841</td>\n",
       "      <td>-78.482517</td>\n",
       "      <td>Downtown Mall</td>\n",
       "    </tr>\n",
       "    <tr>\n",
       "      <th>2</th>\n",
       "      <td>3</td>\n",
       "      <td>Assault Simple</td>\n",
       "      <td>202500012879</td>\n",
       "      <td>100</td>\n",
       "      <td>HARTMANS MILL RD</td>\n",
       "      <td>CPD</td>\n",
       "      <td>1725</td>\n",
       "      <td>Essex, Dominique</td>\n",
       "      <td>2025-04-20 17:25:52</td>\n",
       "      <td>2025-04-20 05:25:52 PM</td>\n",
       "      <td>Sunday</td>\n",
       "      <td>True</td>\n",
       "      <td>Spring</td>\n",
       "      <td>05:25 PM</td>\n",
       "      <td>Evening</td>\n",
       "      <td>100 HARTMANS MILL RD</td>\n",
       "      <td>38.018491</td>\n",
       "      <td>-78.488598</td>\n",
       "      <td>Ridge St.</td>\n",
       "    </tr>\n",
       "    <tr>\n",
       "      <th>3</th>\n",
       "      <td>4</td>\n",
       "      <td>Larceny - All Other</td>\n",
       "      <td>202500012862</td>\n",
       "      <td>900</td>\n",
       "      <td>EMMET ST N</td>\n",
       "      <td>CPD</td>\n",
       "      <td>1536</td>\n",
       "      <td>Mian, Ghulam</td>\n",
       "      <td>2025-04-20 15:36:11</td>\n",
       "      <td>2025-04-20 03:36:11 PM</td>\n",
       "      <td>Sunday</td>\n",
       "      <td>True</td>\n",
       "      <td>Spring</td>\n",
       "      <td>03:36 PM</td>\n",
       "      <td>Afternoon</td>\n",
       "      <td>900 EMMET ST N</td>\n",
       "      <td>38.048586</td>\n",
       "      <td>-78.502983</td>\n",
       "      <td>Venable</td>\n",
       "    </tr>\n",
       "    <tr>\n",
       "      <th>4</th>\n",
       "      <td>5</td>\n",
       "      <td>Fraud-impersonation</td>\n",
       "      <td>202500012855</td>\n",
       "      <td>900</td>\n",
       "      <td>EMMET ST N</td>\n",
       "      <td>CPD</td>\n",
       "      <td>1451</td>\n",
       "      <td>Wisser, Shawn</td>\n",
       "      <td>2025-04-20 14:51:36</td>\n",
       "      <td>2025-04-20 02:51:36 PM</td>\n",
       "      <td>Sunday</td>\n",
       "      <td>True</td>\n",
       "      <td>Spring</td>\n",
       "      <td>02:51 PM</td>\n",
       "      <td>Afternoon</td>\n",
       "      <td>900 EMMET ST N</td>\n",
       "      <td>38.048586</td>\n",
       "      <td>-78.502983</td>\n",
       "      <td>Venable</td>\n",
       "    </tr>\n",
       "  </tbody>\n",
       "</table>\n",
       "</div>"
      ],
      "text/plain": [
       "   RecordID                    Offense    IncidentID BlockNumber  \\\n",
       "0         1  Accident - w/out Injuries  202500012907         700   \n",
       "1         2         Lost/FoundProperty  202500012897         200   \n",
       "2         3             Assault Simple  202500012879         100   \n",
       "3         4        Larceny - All Other  202500012862         900   \n",
       "4         5        Fraud-impersonation  202500012855         900   \n",
       "\n",
       "         StreetName Agency HourReported  ReportingOfficer                Date  \\\n",
       "0      PROSPECT AVE    CPD         2157  Essex, Dominique 2025-04-20 21:57:19   \n",
       "1         W MAIN ST    CPD         2009    Benbow, Lauren 2025-04-20 20:09:04   \n",
       "2  HARTMANS MILL RD    CPD         1725  Essex, Dominique 2025-04-20 17:25:52   \n",
       "3        EMMET ST N    CPD         1536      Mian, Ghulam 2025-04-20 15:36:11   \n",
       "4        EMMET ST N    CPD         1451     Wisser, Shawn 2025-04-20 14:51:36   \n",
       "\n",
       "               DateString DayOfWeek  Weekend  Season  HourAMPM  TimeOfDay  \\\n",
       "0  2025-04-20 09:57:19 PM    Sunday     True  Spring  09:57 PM      Night   \n",
       "1  2025-04-20 08:09:04 PM    Sunday     True  Spring  08:09 PM    Evening   \n",
       "2  2025-04-20 05:25:52 PM    Sunday     True  Spring  05:25 PM    Evening   \n",
       "3  2025-04-20 03:36:11 PM    Sunday     True  Spring  03:36 PM  Afternoon   \n",
       "4  2025-04-20 02:51:36 PM    Sunday     True  Spring  02:51 PM  Afternoon   \n",
       "\n",
       "             FullStreet        lat        lon   neighborhood  \n",
       "0      700 PROSPECT AVE  38.024639 -78.494396      Fifeville  \n",
       "1         200 W MAIN ST  38.030841 -78.482517  Downtown Mall  \n",
       "2  100 HARTMANS MILL RD  38.018491 -78.488598      Ridge St.  \n",
       "3        900 EMMET ST N  38.048586 -78.502983        Venable  \n",
       "4        900 EMMET ST N  38.048586 -78.502983        Venable  "
      ]
     },
     "execution_count": 10,
     "metadata": {},
     "output_type": "execute_result"
    }
   ],
   "source": [
    "# Initialize the Google Maps client.\n",
    "gmaps = googlemaps.Client(key=GOOGLE_API_KEY)\n",
    "\n",
    "# Try to load a persistent neighborhood cache if available.\n",
    "try:\n",
    "    with open(\"neighborhood_cache.pkl\", \"rb\") as f:\n",
    "        neighborhood_cache = pickle.load(f)\n",
    "    print(\"Loaded neighborhood cache.\")\n",
    "except FileNotFoundError:\n",
    "    neighborhood_cache = {}\n",
    "    print(\"No neighborhood cache found; starting fresh.\")\n",
    "\n",
    "def get_neighborhood(lat, lon):\n",
    "    \"\"\"\n",
    "    Reverse geocodes a latitude and longitude to retrieve the neighborhood.\n",
    "    Caches results to speed up subsequent lookups.\n",
    "    \"\"\"\n",
    "    key = (lat, lon)\n",
    "    if key in neighborhood_cache:\n",
    "        return neighborhood_cache[key]\n",
    "    \n",
    "    try:\n",
    "        result = gmaps.reverse_geocode((lat, lon))\n",
    "        if result:\n",
    "            # Look for the 'neighborhood' component in the first result.\n",
    "            for component in result[0]['address_components']:\n",
    "                if 'neighborhood' in component['types']:\n",
    "                    neighborhood = component['long_name']\n",
    "                    neighborhood_cache[key] = neighborhood\n",
    "                    return neighborhood\n",
    "            # If no neighborhood is found, return \"N/A\"\n",
    "            neighborhood_cache[key] = \"N/A\"\n",
    "            return \"N/A\"\n",
    "    except Exception as e:\n",
    "        print(f\"Error getting neighborhood for {lat}, {lon}: {e}\")\n",
    "        return \"N/A\"\n",
    "    \n",
    "    # Pause to respect usage limits.\n",
    "    time.sleep(1)\n",
    "\n",
    "# Example usage: Apply to your DataFrame 'df' that already has 'lat' and 'lon' columns.\n",
    "df['neighborhood'] = df.apply(lambda row: get_neighborhood(row['lat'], row['lon']), axis=1)\n",
    "\n",
    "# Save the updated neighborhood cache.\n",
    "with open(\"neighborhood_cache.pkl\", \"wb\") as f:\n",
    "    pickle.dump(neighborhood_cache, f)\n",
    "\n",
    "df.head()\n"
   ]
  },
  {
   "cell_type": "markdown",
   "id": "abada7cc",
   "metadata": {
    "papermill": {
     "duration": 0.006745,
     "end_time": "2025-04-23T01:01:49.045633",
     "exception": false,
     "start_time": "2025-04-23T01:01:49.038888",
     "status": "completed"
    },
    "tags": []
   },
   "source": [
    "### Zip"
   ]
  },
  {
   "cell_type": "code",
   "execution_count": 11,
   "id": "2444f859",
   "metadata": {
    "execution": {
     "iopub.execute_input": "2025-04-23T01:01:49.060276Z",
     "iopub.status.busy": "2025-04-23T01:01:49.059733Z",
     "iopub.status.idle": "2025-04-23T01:01:49.300275Z",
     "shell.execute_reply": "2025-04-23T01:01:49.299674Z"
    },
    "papermill": {
     "duration": 0.249188,
     "end_time": "2025-04-23T01:01:49.301368",
     "exception": false,
     "start_time": "2025-04-23T01:01:49.052180",
     "status": "completed"
    },
    "tags": []
   },
   "outputs": [
    {
     "name": "stdout",
     "output_type": "stream",
     "text": [
      "Loaded zip cache.\n"
     ]
    },
    {
     "data": {
      "text/html": [
       "<div>\n",
       "<style scoped>\n",
       "    .dataframe tbody tr th:only-of-type {\n",
       "        vertical-align: middle;\n",
       "    }\n",
       "\n",
       "    .dataframe tbody tr th {\n",
       "        vertical-align: top;\n",
       "    }\n",
       "\n",
       "    .dataframe thead th {\n",
       "        text-align: right;\n",
       "    }\n",
       "</style>\n",
       "<table border=\"1\" class=\"dataframe\">\n",
       "  <thead>\n",
       "    <tr style=\"text-align: right;\">\n",
       "      <th></th>\n",
       "      <th>RecordID</th>\n",
       "      <th>Offense</th>\n",
       "      <th>IncidentID</th>\n",
       "      <th>BlockNumber</th>\n",
       "      <th>StreetName</th>\n",
       "      <th>Agency</th>\n",
       "      <th>HourReported</th>\n",
       "      <th>ReportingOfficer</th>\n",
       "      <th>Date</th>\n",
       "      <th>DateString</th>\n",
       "      <th>DayOfWeek</th>\n",
       "      <th>Weekend</th>\n",
       "      <th>Season</th>\n",
       "      <th>HourAMPM</th>\n",
       "      <th>TimeOfDay</th>\n",
       "      <th>FullStreet</th>\n",
       "      <th>lat</th>\n",
       "      <th>lon</th>\n",
       "      <th>neighborhood</th>\n",
       "      <th>zip</th>\n",
       "    </tr>\n",
       "  </thead>\n",
       "  <tbody>\n",
       "    <tr>\n",
       "      <th>0</th>\n",
       "      <td>1</td>\n",
       "      <td>Accident - w/out Injuries</td>\n",
       "      <td>202500012907</td>\n",
       "      <td>700</td>\n",
       "      <td>PROSPECT AVE</td>\n",
       "      <td>CPD</td>\n",
       "      <td>2157</td>\n",
       "      <td>Essex, Dominique</td>\n",
       "      <td>2025-04-20 21:57:19</td>\n",
       "      <td>2025-04-20 09:57:19 PM</td>\n",
       "      <td>Sunday</td>\n",
       "      <td>True</td>\n",
       "      <td>Spring</td>\n",
       "      <td>09:57 PM</td>\n",
       "      <td>Night</td>\n",
       "      <td>700 PROSPECT AVE</td>\n",
       "      <td>38.024639</td>\n",
       "      <td>-78.494396</td>\n",
       "      <td>Fifeville</td>\n",
       "      <td>22903</td>\n",
       "    </tr>\n",
       "    <tr>\n",
       "      <th>1</th>\n",
       "      <td>2</td>\n",
       "      <td>Lost/FoundProperty</td>\n",
       "      <td>202500012897</td>\n",
       "      <td>200</td>\n",
       "      <td>W MAIN ST</td>\n",
       "      <td>CPD</td>\n",
       "      <td>2009</td>\n",
       "      <td>Benbow, Lauren</td>\n",
       "      <td>2025-04-20 20:09:04</td>\n",
       "      <td>2025-04-20 08:09:04 PM</td>\n",
       "      <td>Sunday</td>\n",
       "      <td>True</td>\n",
       "      <td>Spring</td>\n",
       "      <td>08:09 PM</td>\n",
       "      <td>Evening</td>\n",
       "      <td>200 W MAIN ST</td>\n",
       "      <td>38.030841</td>\n",
       "      <td>-78.482517</td>\n",
       "      <td>Downtown Mall</td>\n",
       "      <td>22902</td>\n",
       "    </tr>\n",
       "    <tr>\n",
       "      <th>2</th>\n",
       "      <td>3</td>\n",
       "      <td>Assault Simple</td>\n",
       "      <td>202500012879</td>\n",
       "      <td>100</td>\n",
       "      <td>HARTMANS MILL RD</td>\n",
       "      <td>CPD</td>\n",
       "      <td>1725</td>\n",
       "      <td>Essex, Dominique</td>\n",
       "      <td>2025-04-20 17:25:52</td>\n",
       "      <td>2025-04-20 05:25:52 PM</td>\n",
       "      <td>Sunday</td>\n",
       "      <td>True</td>\n",
       "      <td>Spring</td>\n",
       "      <td>05:25 PM</td>\n",
       "      <td>Evening</td>\n",
       "      <td>100 HARTMANS MILL RD</td>\n",
       "      <td>38.018491</td>\n",
       "      <td>-78.488598</td>\n",
       "      <td>Ridge St.</td>\n",
       "      <td>22903</td>\n",
       "    </tr>\n",
       "    <tr>\n",
       "      <th>3</th>\n",
       "      <td>4</td>\n",
       "      <td>Larceny - All Other</td>\n",
       "      <td>202500012862</td>\n",
       "      <td>900</td>\n",
       "      <td>EMMET ST N</td>\n",
       "      <td>CPD</td>\n",
       "      <td>1536</td>\n",
       "      <td>Mian, Ghulam</td>\n",
       "      <td>2025-04-20 15:36:11</td>\n",
       "      <td>2025-04-20 03:36:11 PM</td>\n",
       "      <td>Sunday</td>\n",
       "      <td>True</td>\n",
       "      <td>Spring</td>\n",
       "      <td>03:36 PM</td>\n",
       "      <td>Afternoon</td>\n",
       "      <td>900 EMMET ST N</td>\n",
       "      <td>38.048586</td>\n",
       "      <td>-78.502983</td>\n",
       "      <td>Venable</td>\n",
       "      <td>22903</td>\n",
       "    </tr>\n",
       "    <tr>\n",
       "      <th>4</th>\n",
       "      <td>5</td>\n",
       "      <td>Fraud-impersonation</td>\n",
       "      <td>202500012855</td>\n",
       "      <td>900</td>\n",
       "      <td>EMMET ST N</td>\n",
       "      <td>CPD</td>\n",
       "      <td>1451</td>\n",
       "      <td>Wisser, Shawn</td>\n",
       "      <td>2025-04-20 14:51:36</td>\n",
       "      <td>2025-04-20 02:51:36 PM</td>\n",
       "      <td>Sunday</td>\n",
       "      <td>True</td>\n",
       "      <td>Spring</td>\n",
       "      <td>02:51 PM</td>\n",
       "      <td>Afternoon</td>\n",
       "      <td>900 EMMET ST N</td>\n",
       "      <td>38.048586</td>\n",
       "      <td>-78.502983</td>\n",
       "      <td>Venable</td>\n",
       "      <td>22903</td>\n",
       "    </tr>\n",
       "  </tbody>\n",
       "</table>\n",
       "</div>"
      ],
      "text/plain": [
       "   RecordID                    Offense    IncidentID BlockNumber  \\\n",
       "0         1  Accident - w/out Injuries  202500012907         700   \n",
       "1         2         Lost/FoundProperty  202500012897         200   \n",
       "2         3             Assault Simple  202500012879         100   \n",
       "3         4        Larceny - All Other  202500012862         900   \n",
       "4         5        Fraud-impersonation  202500012855         900   \n",
       "\n",
       "         StreetName Agency HourReported  ReportingOfficer                Date  \\\n",
       "0      PROSPECT AVE    CPD         2157  Essex, Dominique 2025-04-20 21:57:19   \n",
       "1         W MAIN ST    CPD         2009    Benbow, Lauren 2025-04-20 20:09:04   \n",
       "2  HARTMANS MILL RD    CPD         1725  Essex, Dominique 2025-04-20 17:25:52   \n",
       "3        EMMET ST N    CPD         1536      Mian, Ghulam 2025-04-20 15:36:11   \n",
       "4        EMMET ST N    CPD         1451     Wisser, Shawn 2025-04-20 14:51:36   \n",
       "\n",
       "               DateString DayOfWeek  Weekend  Season  HourAMPM  TimeOfDay  \\\n",
       "0  2025-04-20 09:57:19 PM    Sunday     True  Spring  09:57 PM      Night   \n",
       "1  2025-04-20 08:09:04 PM    Sunday     True  Spring  08:09 PM    Evening   \n",
       "2  2025-04-20 05:25:52 PM    Sunday     True  Spring  05:25 PM    Evening   \n",
       "3  2025-04-20 03:36:11 PM    Sunday     True  Spring  03:36 PM  Afternoon   \n",
       "4  2025-04-20 02:51:36 PM    Sunday     True  Spring  02:51 PM  Afternoon   \n",
       "\n",
       "             FullStreet        lat        lon   neighborhood    zip  \n",
       "0      700 PROSPECT AVE  38.024639 -78.494396      Fifeville  22903  \n",
       "1         200 W MAIN ST  38.030841 -78.482517  Downtown Mall  22902  \n",
       "2  100 HARTMANS MILL RD  38.018491 -78.488598      Ridge St.  22903  \n",
       "3        900 EMMET ST N  38.048586 -78.502983        Venable  22903  \n",
       "4        900 EMMET ST N  38.048586 -78.502983        Venable  22903  "
      ]
     },
     "execution_count": 11,
     "metadata": {},
     "output_type": "execute_result"
    }
   ],
   "source": [
    "# Initialize the geocoder.\n",
    "geolocator = Nominatim(user_agent=\"zip_lookup\")\n",
    "\n",
    "# Try to load a persistent ZIP cache if available.\n",
    "try:\n",
    "    with open(\"zip_cache.pkl\", \"rb\") as f:\n",
    "        zip_cache = pickle.load(f)\n",
    "    print(\"Loaded zip cache.\")\n",
    "except FileNotFoundError:\n",
    "    zip_cache = {}\n",
    "    print(\"No zip cache found; starting fresh.\")\n",
    "\n",
    "def get_zip(lat, lon):\n",
    "    \"\"\"\n",
    "    Reverse geocodes a latitude and longitude to retrieve the ZIP code.\n",
    "    Caches results to speed up subsequent lookups.\n",
    "    \"\"\"\n",
    "    key = (lat, lon)\n",
    "    if key in zip_cache:\n",
    "        return zip_cache[key]\n",
    "    \n",
    "    try:\n",
    "        location = geolocator.reverse((lat, lon), exactly_one=True, timeout=10)\n",
    "        address = location.raw.get('address', {})\n",
    "        postal_code = address.get('postcode', \"N/A\")\n",
    "    except Exception as e:\n",
    "        print(f\"Error getting ZIP for {lat}, {lon}: {e}\")\n",
    "        postal_code = \"N/A\"\n",
    "    \n",
    "    zip_cache[key] = postal_code\n",
    "    # Pause to respect the usage policy.\n",
    "    time.sleep(1)\n",
    "    return postal_code\n",
    "\n",
    "# Apply the function to each row in the DataFrame.\n",
    "df['zip'] = df.apply(lambda row: get_zip(row['lat'], row['lon']), axis=1)\n",
    "\n",
    "# Save the updated ZIP cache.\n",
    "with open(\"zip_cache.pkl\", \"wb\") as f:\n",
    "    pickle.dump(zip_cache, f)\n",
    "\n",
    "df.head()\n"
   ]
  },
  {
   "cell_type": "code",
   "execution_count": 12,
   "id": "a1cb04bb",
   "metadata": {
    "execution": {
     "iopub.execute_input": "2025-04-23T01:01:49.316542Z",
     "iopub.status.busy": "2025-04-23T01:01:49.316059Z",
     "iopub.status.idle": "2025-04-23T01:01:49.343917Z",
     "shell.execute_reply": "2025-04-23T01:01:49.343258Z"
    },
    "papermill": {
     "duration": 0.036447,
     "end_time": "2025-04-23T01:01:49.344926",
     "exception": false,
     "start_time": "2025-04-23T01:01:49.308479",
     "status": "completed"
    },
    "tags": []
   },
   "outputs": [
    {
     "name": "stdout",
     "output_type": "stream",
     "text": [
      "                  MissingCount  MissingPercentage\n",
      "RecordID                     0               0.00\n",
      "Offense                      0               0.00\n",
      "IncidentID                   0               0.00\n",
      "BlockNumber                  0               0.00\n",
      "StreetName                   0               0.00\n",
      "Agency                       0               0.00\n",
      "HourReported                 0               0.00\n",
      "ReportingOfficer            17               0.07\n",
      "Date                         0               0.00\n",
      "DateString                   0               0.00\n",
      "DayOfWeek                    0               0.00\n",
      "Weekend                      0               0.00\n",
      "Season                       0               0.00\n",
      "HourAMPM                     0               0.00\n",
      "TimeOfDay                    0               0.00\n",
      "FullStreet                   0               0.00\n",
      "lat                          0               0.00\n",
      "lon                          0               0.00\n",
      "neighborhood                 0               0.00\n",
      "zip                          0               0.00\n"
     ]
    }
   ],
   "source": [
    "missing_info = missing_percentage(df)\n",
    "print(missing_info)\n"
   ]
  },
  {
   "cell_type": "code",
   "execution_count": 13,
   "id": "dfdba8fb",
   "metadata": {
    "execution": {
     "iopub.execute_input": "2025-04-23T01:01:49.360044Z",
     "iopub.status.busy": "2025-04-23T01:01:49.359636Z",
     "iopub.status.idle": "2025-04-23T01:01:49.388545Z",
     "shell.execute_reply": "2025-04-23T01:01:49.387863Z"
    },
    "papermill": {
     "duration": 0.037569,
     "end_time": "2025-04-23T01:01:49.389635",
     "exception": false,
     "start_time": "2025-04-23T01:01:49.352066",
     "status": "completed"
    },
    "tags": []
   },
   "outputs": [
    {
     "name": "stdout",
     "output_type": "stream",
     "text": [
      "<class 'pandas.core.frame.DataFrame'>\n",
      "RangeIndex: 25251 entries, 0 to 25250\n",
      "Data columns (total 20 columns):\n",
      " #   Column            Non-Null Count  Dtype         \n",
      "---  ------            --------------  -----         \n",
      " 0   RecordID          25251 non-null  int64         \n",
      " 1   Offense           25251 non-null  object        \n",
      " 2   IncidentID        25251 non-null  object        \n",
      " 3   BlockNumber       25251 non-null  object        \n",
      " 4   StreetName        25251 non-null  object        \n",
      " 5   Agency            25251 non-null  object        \n",
      " 6   HourReported      25251 non-null  object        \n",
      " 7   ReportingOfficer  25234 non-null  object        \n",
      " 8   Date              25251 non-null  datetime64[ns]\n",
      " 9   DateString        25251 non-null  object        \n",
      " 10  DayOfWeek         25251 non-null  object        \n",
      " 11  Weekend           25251 non-null  bool          \n",
      " 12  Season            25251 non-null  object        \n",
      " 13  HourAMPM          25251 non-null  object        \n",
      " 14  TimeOfDay         25251 non-null  object        \n",
      " 15  FullStreet        25251 non-null  object        \n",
      " 16  lat               25251 non-null  float64       \n",
      " 17  lon               25251 non-null  float64       \n",
      " 18  neighborhood      25251 non-null  object        \n",
      " 19  zip               25251 non-null  object        \n",
      "dtypes: bool(1), datetime64[ns](1), float64(2), int64(1), object(15)\n",
      "memory usage: 3.7+ MB\n"
     ]
    }
   ],
   "source": [
    "df.info()"
   ]
  },
  {
   "cell_type": "code",
   "execution_count": 14,
   "id": "9b3dd38b",
   "metadata": {
    "execution": {
     "iopub.execute_input": "2025-04-23T01:01:49.405208Z",
     "iopub.status.busy": "2025-04-23T01:01:49.404981Z",
     "iopub.status.idle": "2025-04-23T01:01:49.448926Z",
     "shell.execute_reply": "2025-04-23T01:01:49.448246Z"
    },
    "papermill": {
     "duration": 0.052811,
     "end_time": "2025-04-23T01:01:49.450026",
     "exception": false,
     "start_time": "2025-04-23T01:01:49.397215",
     "status": "completed"
    },
    "tags": []
   },
   "outputs": [
    {
     "data": {
      "text/html": [
       "<div>\n",
       "<style scoped>\n",
       "    .dataframe tbody tr th:only-of-type {\n",
       "        vertical-align: middle;\n",
       "    }\n",
       "\n",
       "    .dataframe tbody tr th {\n",
       "        vertical-align: top;\n",
       "    }\n",
       "\n",
       "    .dataframe thead th {\n",
       "        text-align: right;\n",
       "    }\n",
       "</style>\n",
       "<table border=\"1\" class=\"dataframe\">\n",
       "  <thead>\n",
       "    <tr style=\"text-align: right;\">\n",
       "      <th></th>\n",
       "      <th>RecordID</th>\n",
       "      <th>Offense</th>\n",
       "      <th>IncidentID</th>\n",
       "      <th>Agency</th>\n",
       "      <th>ReportingOfficer</th>\n",
       "      <th>Date</th>\n",
       "      <th>DayOfWeek</th>\n",
       "      <th>Weekend</th>\n",
       "      <th>Season</th>\n",
       "      <th>TimeOfDay</th>\n",
       "      <th>FullStreet</th>\n",
       "      <th>lat</th>\n",
       "      <th>lon</th>\n",
       "      <th>neighborhood</th>\n",
       "      <th>zip</th>\n",
       "    </tr>\n",
       "  </thead>\n",
       "  <tbody>\n",
       "    <tr>\n",
       "      <th>0</th>\n",
       "      <td>1</td>\n",
       "      <td>Accident - w/out Injuries</td>\n",
       "      <td>202500012907</td>\n",
       "      <td>CPD</td>\n",
       "      <td>Essex, Dominique</td>\n",
       "      <td>2025-04-20 21:57:19</td>\n",
       "      <td>Sunday</td>\n",
       "      <td>True</td>\n",
       "      <td>Spring</td>\n",
       "      <td>Night</td>\n",
       "      <td>700 PROSPECT AVE</td>\n",
       "      <td>38.024639</td>\n",
       "      <td>-78.494396</td>\n",
       "      <td>Fifeville</td>\n",
       "      <td>22903</td>\n",
       "    </tr>\n",
       "    <tr>\n",
       "      <th>1</th>\n",
       "      <td>2</td>\n",
       "      <td>Lost/FoundProperty</td>\n",
       "      <td>202500012897</td>\n",
       "      <td>CPD</td>\n",
       "      <td>Benbow, Lauren</td>\n",
       "      <td>2025-04-20 20:09:04</td>\n",
       "      <td>Sunday</td>\n",
       "      <td>True</td>\n",
       "      <td>Spring</td>\n",
       "      <td>Evening</td>\n",
       "      <td>200 W MAIN ST</td>\n",
       "      <td>38.030841</td>\n",
       "      <td>-78.482517</td>\n",
       "      <td>Downtown Mall</td>\n",
       "      <td>22902</td>\n",
       "    </tr>\n",
       "    <tr>\n",
       "      <th>2</th>\n",
       "      <td>3</td>\n",
       "      <td>Assault Simple</td>\n",
       "      <td>202500012879</td>\n",
       "      <td>CPD</td>\n",
       "      <td>Essex, Dominique</td>\n",
       "      <td>2025-04-20 17:25:52</td>\n",
       "      <td>Sunday</td>\n",
       "      <td>True</td>\n",
       "      <td>Spring</td>\n",
       "      <td>Evening</td>\n",
       "      <td>100 HARTMANS MILL RD</td>\n",
       "      <td>38.018491</td>\n",
       "      <td>-78.488598</td>\n",
       "      <td>Ridge St.</td>\n",
       "      <td>22903</td>\n",
       "    </tr>\n",
       "    <tr>\n",
       "      <th>3</th>\n",
       "      <td>4</td>\n",
       "      <td>Larceny - All Other</td>\n",
       "      <td>202500012862</td>\n",
       "      <td>CPD</td>\n",
       "      <td>Mian, Ghulam</td>\n",
       "      <td>2025-04-20 15:36:11</td>\n",
       "      <td>Sunday</td>\n",
       "      <td>True</td>\n",
       "      <td>Spring</td>\n",
       "      <td>Afternoon</td>\n",
       "      <td>900 EMMET ST N</td>\n",
       "      <td>38.048586</td>\n",
       "      <td>-78.502983</td>\n",
       "      <td>Venable</td>\n",
       "      <td>22903</td>\n",
       "    </tr>\n",
       "    <tr>\n",
       "      <th>4</th>\n",
       "      <td>5</td>\n",
       "      <td>Fraud-impersonation</td>\n",
       "      <td>202500012855</td>\n",
       "      <td>CPD</td>\n",
       "      <td>Wisser, Shawn</td>\n",
       "      <td>2025-04-20 14:51:36</td>\n",
       "      <td>Sunday</td>\n",
       "      <td>True</td>\n",
       "      <td>Spring</td>\n",
       "      <td>Afternoon</td>\n",
       "      <td>900 EMMET ST N</td>\n",
       "      <td>38.048586</td>\n",
       "      <td>-78.502983</td>\n",
       "      <td>Venable</td>\n",
       "      <td>22903</td>\n",
       "    </tr>\n",
       "  </tbody>\n",
       "</table>\n",
       "</div>"
      ],
      "text/plain": [
       "   RecordID                    Offense    IncidentID Agency  ReportingOfficer  \\\n",
       "0         1  Accident - w/out Injuries  202500012907    CPD  Essex, Dominique   \n",
       "1         2         Lost/FoundProperty  202500012897    CPD    Benbow, Lauren   \n",
       "2         3             Assault Simple  202500012879    CPD  Essex, Dominique   \n",
       "3         4        Larceny - All Other  202500012862    CPD      Mian, Ghulam   \n",
       "4         5        Fraud-impersonation  202500012855    CPD     Wisser, Shawn   \n",
       "\n",
       "                 Date DayOfWeek  Weekend  Season  TimeOfDay  \\\n",
       "0 2025-04-20 21:57:19    Sunday     True  Spring      Night   \n",
       "1 2025-04-20 20:09:04    Sunday     True  Spring    Evening   \n",
       "2 2025-04-20 17:25:52    Sunday     True  Spring    Evening   \n",
       "3 2025-04-20 15:36:11    Sunday     True  Spring  Afternoon   \n",
       "4 2025-04-20 14:51:36    Sunday     True  Spring  Afternoon   \n",
       "\n",
       "             FullStreet        lat        lon   neighborhood    zip  \n",
       "0      700 PROSPECT AVE  38.024639 -78.494396      Fifeville  22903  \n",
       "1         200 W MAIN ST  38.030841 -78.482517  Downtown Mall  22902  \n",
       "2  100 HARTMANS MILL RD  38.018491 -78.488598      Ridge St.  22903  \n",
       "3        900 EMMET ST N  38.048586 -78.502983        Venable  22903  \n",
       "4        900 EMMET ST N  38.048586 -78.502983        Venable  22903  "
      ]
     },
     "execution_count": 14,
     "metadata": {},
     "output_type": "execute_result"
    }
   ],
   "source": [
    "# Now drop the original BlockNumber and StreetName columns\n",
    "df.drop(columns=['BlockNumber', 'StreetName','HourAMPM','HourReported','DateString'], inplace=True)\n",
    "df[\"zip\"] = df[\"zip\"].astype(str)\n",
    "\n",
    "# Fill all missing values in the DataFrame with \"N/A\"\n",
    "df.replace({None: \"N/A\", np.nan: \"N/A\", \"\": \"N/A\"}, inplace=True)\n",
    "df.head()"
   ]
  },
  {
   "cell_type": "code",
   "execution_count": 15,
   "id": "55c27f48",
   "metadata": {
    "execution": {
     "iopub.execute_input": "2025-04-23T01:01:49.466084Z",
     "iopub.status.busy": "2025-04-23T01:01:49.465634Z",
     "iopub.status.idle": "2025-04-23T01:01:49.484453Z",
     "shell.execute_reply": "2025-04-23T01:01:49.483910Z"
    },
    "papermill": {
     "duration": 0.02784,
     "end_time": "2025-04-23T01:01:49.485523",
     "exception": false,
     "start_time": "2025-04-23T01:01:49.457683",
     "status": "completed"
    },
    "tags": []
   },
   "outputs": [
    {
     "name": "stdout",
     "output_type": "stream",
     "text": [
      "                  MissingCount  MissingPercentage\n",
      "RecordID                     0                0.0\n",
      "Offense                      0                0.0\n",
      "IncidentID                   0                0.0\n",
      "Agency                       0                0.0\n",
      "ReportingOfficer             0                0.0\n",
      "Date                         0                0.0\n",
      "DayOfWeek                    0                0.0\n",
      "Weekend                      0                0.0\n",
      "Season                       0                0.0\n",
      "TimeOfDay                    0                0.0\n",
      "FullStreet                   0                0.0\n",
      "lat                          0                0.0\n",
      "lon                          0                0.0\n",
      "neighborhood                 0                0.0\n",
      "zip                          0                0.0\n"
     ]
    }
   ],
   "source": [
    "missing_info = missing_percentage(df)\n",
    "print(missing_info)"
   ]
  },
  {
   "cell_type": "code",
   "execution_count": 16,
   "id": "af0e68b2",
   "metadata": {
    "execution": {
     "iopub.execute_input": "2025-04-23T01:01:49.501362Z",
     "iopub.status.busy": "2025-04-23T01:01:49.500945Z",
     "iopub.status.idle": "2025-04-23T01:01:49.505340Z",
     "shell.execute_reply": "2025-04-23T01:01:49.504684Z"
    },
    "papermill": {
     "duration": 0.013485,
     "end_time": "2025-04-23T01:01:49.506450",
     "exception": false,
     "start_time": "2025-04-23T01:01:49.492965",
     "status": "completed"
    },
    "tags": []
   },
   "outputs": [
    {
     "data": {
      "text/plain": [
       "Index(['RecordID', 'Offense', 'IncidentID', 'Agency', 'ReportingOfficer',\n",
       "       'Date', 'DayOfWeek', 'Weekend', 'Season', 'TimeOfDay', 'FullStreet',\n",
       "       'lat', 'lon', 'neighborhood', 'zip'],\n",
       "      dtype='object')"
      ]
     },
     "execution_count": 16,
     "metadata": {},
     "output_type": "execute_result"
    }
   ],
   "source": [
    "df.columns"
   ]
  },
  {
   "cell_type": "code",
   "execution_count": 17,
   "id": "90876c96",
   "metadata": {
    "execution": {
     "iopub.execute_input": "2025-04-23T01:01:49.522319Z",
     "iopub.status.busy": "2025-04-23T01:01:49.521809Z",
     "iopub.status.idle": "2025-04-23T01:01:49.541961Z",
     "shell.execute_reply": "2025-04-23T01:01:49.541318Z"
    },
    "papermill": {
     "duration": 0.029181,
     "end_time": "2025-04-23T01:01:49.543065",
     "exception": false,
     "start_time": "2025-04-23T01:01:49.513884",
     "status": "completed"
    },
    "tags": []
   },
   "outputs": [
    {
     "name": "stdout",
     "output_type": "stream",
     "text": [
      "<class 'pandas.core.frame.DataFrame'>\n",
      "RangeIndex: 25251 entries, 0 to 25250\n",
      "Data columns (total 15 columns):\n",
      " #   Column            Non-Null Count  Dtype         \n",
      "---  ------            --------------  -----         \n",
      " 0   RecordID          25251 non-null  int64         \n",
      " 1   Offense           25251 non-null  object        \n",
      " 2   IncidentID        25251 non-null  object        \n",
      " 3   Agency            25251 non-null  object        \n",
      " 4   ReportingOfficer  25251 non-null  object        \n",
      " 5   Date              25251 non-null  datetime64[ns]\n",
      " 6   DayOfWeek         25251 non-null  object        \n",
      " 7   Weekend           25251 non-null  bool          \n",
      " 8   Season            25251 non-null  object        \n",
      " 9   TimeOfDay         25251 non-null  object        \n",
      " 10  FullStreet        25251 non-null  object        \n",
      " 11  lat               25251 non-null  float64       \n",
      " 12  lon               25251 non-null  float64       \n",
      " 13  neighborhood      25251 non-null  object        \n",
      " 14  zip               25251 non-null  object        \n",
      "dtypes: bool(1), datetime64[ns](1), float64(2), int64(1), object(10)\n",
      "memory usage: 2.7+ MB\n"
     ]
    }
   ],
   "source": [
    "df.info()"
   ]
  },
  {
   "cell_type": "markdown",
   "id": "08048657",
   "metadata": {
    "papermill": {
     "duration": 0.007414,
     "end_time": "2025-04-23T01:01:49.558087",
     "exception": false,
     "start_time": "2025-04-23T01:01:49.550673",
     "status": "completed"
    },
    "tags": []
   },
   "source": [
    "### Export Clean Data"
   ]
  },
  {
   "cell_type": "code",
   "execution_count": 18,
   "id": "99fb898b",
   "metadata": {
    "execution": {
     "iopub.execute_input": "2025-04-23T01:01:49.574361Z",
     "iopub.status.busy": "2025-04-23T01:01:49.573776Z",
     "iopub.status.idle": "2025-04-23T01:01:58.883544Z",
     "shell.execute_reply": "2025-04-23T01:01:58.882857Z"
    },
    "papermill": {
     "duration": 9.318925,
     "end_time": "2025-04-23T01:01:58.884562",
     "exception": false,
     "start_time": "2025-04-23T01:01:49.565637",
     "status": "completed"
    },
    "tags": []
   },
   "outputs": [
    {
     "name": "stdout",
     "output_type": "stream",
     "text": [
      "Project Root: /home/runner/work/crime-data/crime-data\n"
     ]
    },
    {
     "name": "stdout",
     "output_type": "stream",
     "text": [
      "Data saved to: /home/runner/work/crime-data/crime-data/data/charlottesville_crime_incidents.csv\n"
     ]
    },
    {
     "name": "stdout",
     "output_type": "stream",
     "text": [
      "Excel saved to: /home/runner/work/crime-data/crime-data/data/charlottesville_crime_incidents.xlsx\n"
     ]
    }
   ],
   "source": [
    "# Determine the project root (assuming papermill is run from the repository root)\n",
    "project_root = os.getcwd()\n",
    "print(\"Project Root:\", project_root)\n",
    "\n",
    "# Set the data directory within the project root\n",
    "data_dir = os.path.join(project_root, \"data\")\n",
    "\n",
    "# Ensure the \"data\" directory exists (create it if it doesn't)\n",
    "if not os.path.exists(data_dir):\n",
    "    os.makedirs(data_dir)\n",
    "\n",
    "# Export the DataFrame to CSV in the \"data\" folder located in the project root\n",
    "csv_path = os.path.join(data_dir, \"charlottesville_crime_incidents.csv\")\n",
    "df.to_csv(csv_path, index=False)\n",
    "print(\"Data saved to:\", csv_path)\n",
    "\n",
    "# Construct the path to your Excel file\n",
    "excel_path = os.path.join(data_dir, \"charlottesville_crime_incidents.xlsx\")\n",
    "\n",
    "# Export the DataFrame to Excel\n",
    "df.to_excel(excel_path, index=False)\n",
    "print(\"Excel saved to:\", excel_path)\n"
   ]
  },
  {
   "cell_type": "markdown",
   "id": "9a427d41",
   "metadata": {
    "papermill": {
     "duration": 0.007687,
     "end_time": "2025-04-23T01:01:58.900171",
     "exception": false,
     "start_time": "2025-04-23T01:01:58.892484",
     "status": "completed"
    },
    "tags": []
   },
   "source": [
    "## Predictive Analytics"
   ]
  },
  {
   "cell_type": "code",
   "execution_count": 19,
   "id": "68f7cfb0",
   "metadata": {
    "execution": {
     "iopub.execute_input": "2025-04-23T01:01:58.941347Z",
     "iopub.status.busy": "2025-04-23T01:01:58.940876Z",
     "iopub.status.idle": "2025-04-23T01:01:58.952768Z",
     "shell.execute_reply": "2025-04-23T01:01:58.952077Z"
    },
    "papermill": {
     "duration": 0.021499,
     "end_time": "2025-04-23T01:01:58.953781",
     "exception": false,
     "start_time": "2025-04-23T01:01:58.932282",
     "status": "completed"
    },
    "tags": []
   },
   "outputs": [
    {
     "data": {
      "text/html": [
       "<div>\n",
       "<style scoped>\n",
       "    .dataframe tbody tr th:only-of-type {\n",
       "        vertical-align: middle;\n",
       "    }\n",
       "\n",
       "    .dataframe tbody tr th {\n",
       "        vertical-align: top;\n",
       "    }\n",
       "\n",
       "    .dataframe thead th {\n",
       "        text-align: right;\n",
       "    }\n",
       "</style>\n",
       "<table border=\"1\" class=\"dataframe\">\n",
       "  <thead>\n",
       "    <tr style=\"text-align: right;\">\n",
       "      <th></th>\n",
       "      <th>RecordID</th>\n",
       "      <th>Offense</th>\n",
       "      <th>IncidentID</th>\n",
       "      <th>Agency</th>\n",
       "      <th>ReportingOfficer</th>\n",
       "      <th>Date</th>\n",
       "      <th>DayOfWeek</th>\n",
       "      <th>Weekend</th>\n",
       "      <th>Season</th>\n",
       "      <th>TimeOfDay</th>\n",
       "      <th>FullStreet</th>\n",
       "      <th>lat</th>\n",
       "      <th>lon</th>\n",
       "      <th>neighborhood</th>\n",
       "      <th>zip</th>\n",
       "    </tr>\n",
       "  </thead>\n",
       "  <tbody>\n",
       "    <tr>\n",
       "      <th>0</th>\n",
       "      <td>1</td>\n",
       "      <td>Accident - w/out Injuries</td>\n",
       "      <td>202500012907</td>\n",
       "      <td>CPD</td>\n",
       "      <td>Essex, Dominique</td>\n",
       "      <td>2025-04-20 21:57:19</td>\n",
       "      <td>Sunday</td>\n",
       "      <td>True</td>\n",
       "      <td>Spring</td>\n",
       "      <td>Night</td>\n",
       "      <td>700 PROSPECT AVE</td>\n",
       "      <td>38.024639</td>\n",
       "      <td>-78.494396</td>\n",
       "      <td>Fifeville</td>\n",
       "      <td>22903</td>\n",
       "    </tr>\n",
       "    <tr>\n",
       "      <th>1</th>\n",
       "      <td>2</td>\n",
       "      <td>Lost/FoundProperty</td>\n",
       "      <td>202500012897</td>\n",
       "      <td>CPD</td>\n",
       "      <td>Benbow, Lauren</td>\n",
       "      <td>2025-04-20 20:09:04</td>\n",
       "      <td>Sunday</td>\n",
       "      <td>True</td>\n",
       "      <td>Spring</td>\n",
       "      <td>Evening</td>\n",
       "      <td>200 W MAIN ST</td>\n",
       "      <td>38.030841</td>\n",
       "      <td>-78.482517</td>\n",
       "      <td>Downtown Mall</td>\n",
       "      <td>22902</td>\n",
       "    </tr>\n",
       "    <tr>\n",
       "      <th>2</th>\n",
       "      <td>3</td>\n",
       "      <td>Assault Simple</td>\n",
       "      <td>202500012879</td>\n",
       "      <td>CPD</td>\n",
       "      <td>Essex, Dominique</td>\n",
       "      <td>2025-04-20 17:25:52</td>\n",
       "      <td>Sunday</td>\n",
       "      <td>True</td>\n",
       "      <td>Spring</td>\n",
       "      <td>Evening</td>\n",
       "      <td>100 HARTMANS MILL RD</td>\n",
       "      <td>38.018491</td>\n",
       "      <td>-78.488598</td>\n",
       "      <td>Ridge St.</td>\n",
       "      <td>22903</td>\n",
       "    </tr>\n",
       "    <tr>\n",
       "      <th>3</th>\n",
       "      <td>4</td>\n",
       "      <td>Larceny - All Other</td>\n",
       "      <td>202500012862</td>\n",
       "      <td>CPD</td>\n",
       "      <td>Mian, Ghulam</td>\n",
       "      <td>2025-04-20 15:36:11</td>\n",
       "      <td>Sunday</td>\n",
       "      <td>True</td>\n",
       "      <td>Spring</td>\n",
       "      <td>Afternoon</td>\n",
       "      <td>900 EMMET ST N</td>\n",
       "      <td>38.048586</td>\n",
       "      <td>-78.502983</td>\n",
       "      <td>Venable</td>\n",
       "      <td>22903</td>\n",
       "    </tr>\n",
       "    <tr>\n",
       "      <th>4</th>\n",
       "      <td>5</td>\n",
       "      <td>Fraud-impersonation</td>\n",
       "      <td>202500012855</td>\n",
       "      <td>CPD</td>\n",
       "      <td>Wisser, Shawn</td>\n",
       "      <td>2025-04-20 14:51:36</td>\n",
       "      <td>Sunday</td>\n",
       "      <td>True</td>\n",
       "      <td>Spring</td>\n",
       "      <td>Afternoon</td>\n",
       "      <td>900 EMMET ST N</td>\n",
       "      <td>38.048586</td>\n",
       "      <td>-78.502983</td>\n",
       "      <td>Venable</td>\n",
       "      <td>22903</td>\n",
       "    </tr>\n",
       "  </tbody>\n",
       "</table>\n",
       "</div>"
      ],
      "text/plain": [
       "   RecordID                    Offense    IncidentID Agency  ReportingOfficer  \\\n",
       "0         1  Accident - w/out Injuries  202500012907    CPD  Essex, Dominique   \n",
       "1         2         Lost/FoundProperty  202500012897    CPD    Benbow, Lauren   \n",
       "2         3             Assault Simple  202500012879    CPD  Essex, Dominique   \n",
       "3         4        Larceny - All Other  202500012862    CPD      Mian, Ghulam   \n",
       "4         5        Fraud-impersonation  202500012855    CPD     Wisser, Shawn   \n",
       "\n",
       "                 Date DayOfWeek  Weekend  Season  TimeOfDay  \\\n",
       "0 2025-04-20 21:57:19    Sunday     True  Spring      Night   \n",
       "1 2025-04-20 20:09:04    Sunday     True  Spring    Evening   \n",
       "2 2025-04-20 17:25:52    Sunday     True  Spring    Evening   \n",
       "3 2025-04-20 15:36:11    Sunday     True  Spring  Afternoon   \n",
       "4 2025-04-20 14:51:36    Sunday     True  Spring  Afternoon   \n",
       "\n",
       "             FullStreet        lat        lon   neighborhood    zip  \n",
       "0      700 PROSPECT AVE  38.024639 -78.494396      Fifeville  22903  \n",
       "1         200 W MAIN ST  38.030841 -78.482517  Downtown Mall  22902  \n",
       "2  100 HARTMANS MILL RD  38.018491 -78.488598      Ridge St.  22903  \n",
       "3        900 EMMET ST N  38.048586 -78.502983        Venable  22903  \n",
       "4        900 EMMET ST N  38.048586 -78.502983        Venable  22903  "
      ]
     },
     "execution_count": 19,
     "metadata": {},
     "output_type": "execute_result"
    }
   ],
   "source": [
    "df.head()"
   ]
  },
  {
   "cell_type": "code",
   "execution_count": 20,
   "id": "db92818a",
   "metadata": {
    "execution": {
     "iopub.execute_input": "2025-04-23T01:01:58.970721Z",
     "iopub.status.busy": "2025-04-23T01:01:58.970293Z",
     "iopub.status.idle": "2025-04-23T01:01:58.974608Z",
     "shell.execute_reply": "2025-04-23T01:01:58.974057Z"
    },
    "papermill": {
     "duration": 0.013931,
     "end_time": "2025-04-23T01:01:58.975710",
     "exception": false,
     "start_time": "2025-04-23T01:01:58.961779",
     "status": "completed"
    },
    "tags": []
   },
   "outputs": [
    {
     "data": {
      "text/plain": [
       "Index(['RecordID', 'Offense', 'IncidentID', 'Agency', 'ReportingOfficer',\n",
       "       'Date', 'DayOfWeek', 'Weekend', 'Season', 'TimeOfDay', 'FullStreet',\n",
       "       'lat', 'lon', 'neighborhood', 'zip'],\n",
       "      dtype='object')"
      ]
     },
     "execution_count": 20,
     "metadata": {},
     "output_type": "execute_result"
    }
   ],
   "source": [
    "df.columns"
   ]
  },
  {
   "cell_type": "markdown",
   "id": "1ef70f91",
   "metadata": {
    "papermill": {
     "duration": 0.007946,
     "end_time": "2025-04-23T01:01:58.992015",
     "exception": false,
     "start_time": "2025-04-23T01:01:58.984069",
     "status": "completed"
    },
    "tags": []
   },
   "source": [
    "### Data Preparation\n",
    "\n",
    "We need to ensure the data is in the correct format for modeling and can handle missing values, categorical variables, and dates. Here's how to prepare your data:"
   ]
  },
  {
   "cell_type": "code",
   "execution_count": 21,
   "id": "1aad4231",
   "metadata": {
    "execution": {
     "iopub.execute_input": "2025-04-23T01:01:59.009514Z",
     "iopub.status.busy": "2025-04-23T01:01:59.008819Z",
     "iopub.status.idle": "2025-04-23T01:02:02.696976Z",
     "shell.execute_reply": "2025-04-23T01:02:02.696169Z"
    },
    "papermill": {
     "duration": 3.698701,
     "end_time": "2025-04-23T01:02:02.698604",
     "exception": false,
     "start_time": "2025-04-23T01:01:58.999903",
     "status": "completed"
    },
    "tags": []
   },
   "outputs": [],
   "source": [
    "import pandas as pd\n",
    "from sklearn.model_selection import train_test_split\n",
    "from sklearn.preprocessing import OneHotEncoder, LabelEncoder\n",
    "from sklearn.ensemble import RandomForestClassifier\n",
    "from sklearn.linear_model import LogisticRegression\n",
    "from sklearn.tree import DecisionTreeClassifier\n",
    "from sklearn.metrics import classification_report, accuracy_score\n",
    "import seaborn as sns\n",
    "import matplotlib.pyplot as plt\n",
    "\n",
    "# Convert 'Date' to datetime\n",
    "df['Date'] = pd.to_datetime(df['Date'])\n",
    "\n",
    "# Feature engineering: Extract additional time-based features\n",
    "df['Year'] = df['Date'].dt.year\n",
    "df['Month'] = df['Date'].dt.month\n",
    "df['DayOfMonth'] = df['Date'].dt.day\n",
    "\n",
    "# One-hot encoding for 'FullStreet', 'neighborhood', 'zip'\n",
    "df = pd.get_dummies(df, columns=['FullStreet', 'neighborhood', 'zip'], drop_first=True)\n",
    "\n",
    "# Label encoding for ordered variables (those with a natural order like 'DayOfWeek', 'Season', 'TimeOfDay')\n",
    "label_encoders = {}\n",
    "for column in ['DayOfWeek', 'Season', 'TimeOfDay', 'Agency', 'ReportingOfficer']:  # Example ordinal variables\n",
    "    le = LabelEncoder()\n",
    "    df[column] = le.fit_transform(df[column])\n",
    "    label_encoders[column] = le\n",
    "\n",
    "# Filter the dataset to include only the offenses of interest\n",
    "offenses_of_interest = [\n",
    "    'Hit and Run', 'Assault Simple', 'Suspicious Activity', 'Vandalism', \n",
    "    'Larceny - From Mot Vehicle', 'Larceny - All Other', \n",
    "    'Assist Citizen - Mental/TDO/ECO', 'Lost/FoundProperty'\n",
    "]\n",
    "\n",
    "df = df[df['Offense'].isin(offenses_of_interest)]\n",
    "\n",
    "# Label encode the target variable (Offense)\n",
    "offense_encoder = LabelEncoder()\n",
    "df['Offense'] = offense_encoder.fit_transform(df['Offense'])\n",
    "\n",
    "# Separate features (X) and target (y)\n",
    "X = df[['Year', 'Month', 'DayOfMonth', 'DayOfWeek', 'Weekend', 'Season', 'TimeOfDay', 'lat', 'lon', 'Agency', 'ReportingOfficer']]\n",
    "y = df['Offense']  # Offense is now the encoded target variable\n",
    "\n",
    "# Split the data into training and testing sets\n",
    "X_train, X_test, y_train, y_test = train_test_split(X, y, test_size=0.3, random_state=42)\n"
   ]
  },
  {
   "cell_type": "markdown",
   "id": "bc2a254f",
   "metadata": {
    "papermill": {
     "duration": 0.008159,
     "end_time": "2025-04-23T01:02:02.715523",
     "exception": false,
     "start_time": "2025-04-23T01:02:02.707364",
     "status": "completed"
    },
    "tags": []
   },
   "source": [
    "### Model Training\n",
    "\n",
    "Here we will train several models (e.g., Random Forest, Logistic Regression, and Decision Tree). We will use cross-validation to choose the best model based on accuracy, and then explain the impact of the variables."
   ]
  },
  {
   "cell_type": "code",
   "execution_count": 22,
   "id": "fe1df4e1",
   "metadata": {
    "execution": {
     "iopub.execute_input": "2025-04-23T01:02:02.733077Z",
     "iopub.status.busy": "2025-04-23T01:02:02.732420Z",
     "iopub.status.idle": "2025-04-23T01:02:06.336834Z",
     "shell.execute_reply": "2025-04-23T01:02:06.336240Z"
    },
    "papermill": {
     "duration": 3.614346,
     "end_time": "2025-04-23T01:02:06.337877",
     "exception": false,
     "start_time": "2025-04-23T01:02:02.723531",
     "status": "completed"
    },
    "tags": []
   },
   "outputs": [
    {
     "name": "stderr",
     "output_type": "stream",
     "text": [
      "/opt/hostedtoolcache/Python/3.9.22/x64/lib/python3.9/site-packages/sklearn/linear_model/_logistic.py:465: ConvergenceWarning: lbfgs failed to converge (status=1):\n",
      "STOP: TOTAL NO. of ITERATIONS REACHED LIMIT.\n",
      "\n",
      "Increase the number of iterations (max_iter) or scale the data as shown in:\n",
      "    https://scikit-learn.org/stable/modules/preprocessing.html\n",
      "Please also refer to the documentation for alternative solver options:\n",
      "    https://scikit-learn.org/stable/modules/linear_model.html#logistic-regression\n",
      "  n_iter_i = _check_optimize_result(\n",
      "/opt/hostedtoolcache/Python/3.9.22/x64/lib/python3.9/site-packages/sklearn/metrics/_classification.py:1565: UndefinedMetricWarning: Precision is ill-defined and being set to 0.0 in labels with no predicted samples. Use `zero_division` parameter to control this behavior.\n",
      "  _warn_prf(average, modifier, f\"{metric.capitalize()} is\", len(result))\n",
      "/opt/hostedtoolcache/Python/3.9.22/x64/lib/python3.9/site-packages/sklearn/metrics/_classification.py:1565: UndefinedMetricWarning: Precision is ill-defined and being set to 0.0 in labels with no predicted samples. Use `zero_division` parameter to control this behavior.\n",
      "  _warn_prf(average, modifier, f\"{metric.capitalize()} is\", len(result))\n",
      "/opt/hostedtoolcache/Python/3.9.22/x64/lib/python3.9/site-packages/sklearn/metrics/_classification.py:1565: UndefinedMetricWarning: Precision is ill-defined and being set to 0.0 in labels with no predicted samples. Use `zero_division` parameter to control this behavior.\n",
      "  _warn_prf(average, modifier, f\"{metric.capitalize()} is\", len(result))\n"
     ]
    },
    {
     "name": "stdout",
     "output_type": "stream",
     "text": [
      "\n",
      "Classification Report for All Models:\n",
      "\n",
      "Model: RandomForest\n",
      "Accuracy: 0.2800\n",
      "              precision    recall  f1-score      support\n",
      "0              0.263298  0.343154  0.297968   577.000000\n",
      "1              0.321429  0.230769  0.268657   429.000000\n",
      "2              0.320961  0.432990  0.368652   679.000000\n",
      "3              0.212195  0.192053  0.201622   453.000000\n",
      "4              0.264368  0.221154  0.240838   312.000000\n",
      "5              0.262899  0.198885  0.226455   538.000000\n",
      "6              0.282927  0.243697  0.261851   476.000000\n",
      "accuracy       0.280023  0.280023  0.280023     0.280023\n",
      "macro avg      0.275439  0.266100  0.266578  3464.000000\n",
      "weighted avg   0.277849  0.280023  0.274378  3464.000000\n"
     ]
    },
    {
     "data": {
      "image/png": "[encoded data removed]",
      "text/plain": [
       "<Figure size 800x600 with 2 Axes>"
      ]
     },
     "metadata": {},
     "output_type": "display_data"
    },
    {
     "name": "stdout",
     "output_type": "stream",
     "text": [
      "\n",
      "Model: LogisticRegression\n",
      "Accuracy: 0.2168\n",
      "              precision    recall  f1-score      support\n",
      "0              0.193850  0.502600  0.279788   577.000000\n",
      "1              0.000000  0.000000  0.000000   429.000000\n",
      "2              0.235084  0.678940  0.349242   679.000000\n",
      "3              0.000000  0.000000  0.000000   453.000000\n",
      "4              0.000000  0.000000  0.000000   312.000000\n",
      "5              0.000000  0.000000  0.000000   538.000000\n",
      "6              0.000000  0.000000  0.000000   476.000000\n",
      "accuracy       0.216801  0.216801  0.216801     0.216801\n",
      "macro avg      0.061276  0.168791  0.089861  3464.000000\n",
      "weighted avg   0.078370  0.216801  0.115062  3464.000000\n"
     ]
    },
    {
     "data": {
      "image/png": "[encoded data removed]",
      "text/plain": [
       "<Figure size 800x600 with 2 Axes>"
      ]
     },
     "metadata": {},
     "output_type": "display_data"
    },
    {
     "name": "stdout",
     "output_type": "stream",
     "text": [
      "\n",
      "Model: DecisionTree\n",
      "Accuracy: 0.2223\n",
      "              precision    recall  f1-score      support\n",
      "0              0.238806  0.221837  0.230009   577.000000\n",
      "1              0.206977  0.207459  0.207218   429.000000\n",
      "2              0.311526  0.294551  0.302801   679.000000\n",
      "3              0.140969  0.141280  0.141125   453.000000\n",
      "4              0.196532  0.217949  0.206687   312.000000\n",
      "5              0.207957  0.213755  0.210816   538.000000\n",
      "6              0.210736  0.222689  0.216547   476.000000\n",
      "accuracy       0.222286  0.222286  0.222286     0.222286\n",
      "macro avg      0.216215  0.217074  0.216457  3464.000000\n",
      "weighted avg   0.223868  0.222286  0.222900  3464.000000\n"
     ]
    },
    {
     "data": {
      "image/png": "[encoded data removed]",
      "text/plain": [
       "<Figure size 800x600 with 2 Axes>"
      ]
     },
     "metadata": {},
     "output_type": "display_data"
    },
    {
     "name": "stdout",
     "output_type": "stream",
     "text": [
      "\n",
      "Best Model:\n",
      "Best Model: RandomForestClassifier()\n",
      "Best Model Accuracy: 0.2800\n"
     ]
    }
   ],
   "source": [
    "import pandas as pd\n",
    "from sklearn.model_selection import train_test_split\n",
    "from sklearn.ensemble import RandomForestClassifier\n",
    "from sklearn.linear_model import LogisticRegression\n",
    "from sklearn.tree import DecisionTreeClassifier\n",
    "from sklearn.metrics import classification_report, accuracy_score, confusion_matrix\n",
    "import seaborn as sns\n",
    "import matplotlib.pyplot as plt\n",
    "\n",
    "# Define models\n",
    "models = {\n",
    "    'RandomForest': RandomForestClassifier(),\n",
    "    'LogisticRegression': LogisticRegression(max_iter=1000),\n",
    "    'DecisionTree': DecisionTreeClassifier()\n",
    "}\n",
    "\n",
    "# Train models and evaluate them\n",
    "best_model = None\n",
    "best_score = 0\n",
    "model_reports = {}\n",
    "\n",
    "for model_name, model in models.items():\n",
    "    model.fit(X_train, y_train)  # Train model\n",
    "    y_pred = model.predict(X_test)  # Make predictions\n",
    "    \n",
    "    # Calculate accuracy and generate classification report\n",
    "    accuracy = accuracy_score(y_test, y_pred)\n",
    "    model_reports[model_name] = classification_report(y_test, y_pred, output_dict=True)  # Store as a dictionary for easier analysis\n",
    "    \n",
    "    # Track best performing model\n",
    "    if accuracy > best_score:\n",
    "        best_score = accuracy\n",
    "        best_model = model\n",
    "\n",
    "# Display classification reports and confusion matrices\n",
    "print(\"\\nClassification Report for All Models:\")\n",
    "for model_name, report in model_reports.items():\n",
    "    print(f\"\\nModel: {model_name}\")\n",
    "    print(\"Accuracy: {:.4f}\".format(accuracy_score(y_test, models[model_name].predict(X_test))))  # Display accuracy\n",
    "    print(pd.DataFrame(report).transpose())  # Display classification report as a DataFrame\n",
    "\n",
    "    # Plot Confusion Matrix\n",
    "    cm = confusion_matrix(y_test, models[model_name].predict(X_test))\n",
    "    plt.figure(figsize=(8, 6))\n",
    "    sns.heatmap(cm, annot=True, fmt=\"d\", cmap='Blues', xticklabels=offense_encoder.classes_, yticklabels=offense_encoder.classes_)\n",
    "    plt.title(f\"Confusion Matrix - {model_name}\")\n",
    "    plt.xlabel('Predicted Labels')\n",
    "    plt.ylabel('True Labels')\n",
    "    plt.show()\n",
    "\n",
    "# Display best model details\n",
    "print(\"\\nBest Model:\")\n",
    "print(f\"Best Model: {best_model}\")\n",
    "print(f\"Best Model Accuracy: {best_score:.4f}\")\n"
   ]
  },
  {
   "cell_type": "markdown",
   "id": "c86dfa29",
   "metadata": {
    "papermill": {
     "duration": 0.010801,
     "end_time": "2025-04-23T01:02:06.360251",
     "exception": false,
     "start_time": "2025-04-23T01:02:06.349450",
     "status": "completed"
    },
    "tags": []
   },
   "source": [
    "#### Classification Report for All Models:\n",
    "\n",
    "### Explanation of the Classification Results (RandomForest Model)\n",
    "\n",
    "The results you provided are from a **Random Forest** model, which is used for predicting different types of offenses. Let's break down the key components of the results:\n",
    "\n",
    "#### 1. **Accuracy: 0.2822**\n",
    "   - **Accuracy** measures the overall percentage of correct predictions made by the model. An accuracy of 28.22% means the model correctly predicted the offense in about 28% of the cases. This indicates the model's predictions are not highly reliable, as the accuracy is quite low.\n",
    "\n",
    "#### 2. **Classification Report:**\n",
    "   The classification report includes precision, recall, and F1-score for each offense. Let's go over these terms and how they apply to the results:\n",
    "\n",
    "   - **Precision**: The proportion of true positive predictions out of all positive predictions made by the model for a specific class (offense).\n",
    "   - **Recall**: The proportion of true positive predictions out of all actual positive instances in the dataset.\n",
    "   - **F1-Score**: The harmonic mean of precision and recall, providing a balance between the two metrics.\n",
    "   - **Support**: The number of actual occurrences of each class in the test set.\n",
    "\n",
    "   Let's analyze each offense based on these metrics:\n",
    "\n",
    "   | **Offense**                        | **Precision** | **Recall** | **F1-Score** | **Support** |\n",
    "   |------------------------------------|---------------|------------|--------------|-------------|\n",
    "   | **Assault Simple**                 | 0.2892        | 0.3754     | 0.3267       | 594         |\n",
    "   | **Assist Citizen - Mental/TDO/ECO**| 0.3182        | 0.2274     | 0.2652       | 431         |\n",
    "   | **Hit and Run**                    | 0.2963        | 0.4765     | 0.3654       | 638         |\n",
    "   | **Larceny - All Other**            | 0.2270        | 0.1453     | 0.1772       | 475         |\n",
    "   | **Lost/FoundProperty**             | 0.3333        | 0.2102     | 0.2578       | 352         |\n",
    "   | **Suspicious Activity**            | 0.2344        | 0.2169     | 0.2253       | 484         |\n",
    "   | **Vandalism**                      | 0.2712        | 0.2106     | 0.2371       | 470         |\n",
    "\n",
    "#### 3. **Key Insights from the Report:**\n",
    "\n",
    "- **Precision**:\n",
    "   - The highest precision is for **Larceny - All Other** (0.3333), indicating that when the model predicts this offense, it is correct about 33% of the time. However, this is still quite low.\n",
    "   - **Assist Citizen - Mental/TDO/ECO** has the lowest precision (0.2269), meaning that the model's predictions for this offense tend to be wrong more often than correct.\n",
    "\n",
    "- **Recall**:\n",
    "   - **Hit and Run** has the highest recall (0.4765), meaning the model identifies about 48% of the actual occurrences of this offense. This is better than the precision, which indicates it is missing many true positives but is still able to identify a fair number of cases.\n",
    "   - **Larceny - All Other** and **Suspicious Activity** have the lowest recall values (0.1453 and 0.2169, respectively), indicating that the model is failing to identify most of the actual cases for these offenses.\n",
    "\n",
    "- **F1-Score**:\n",
    "   - The **F1-Score** balances precision and recall. It is highest for **Hit and Run** (0.3654), but still relatively low overall. This suggests the model is better at identifying **Hit and Run** than other offenses but still has room for improvement.\n",
    "   - **Larceny - All Other** has the lowest F1-Score (0.1772), indicating a poor balance between precision and recall for this offense.\n",
    "\n",
    "#### 4. **Macro Average and Weighted Average:**\n",
    "   - **Macro Average**: This gives the average precision, recall, and F1-Score across all classes (offenses) without considering the class distribution. It averages the results for all offenses equally.\n",
    "     - Precision: 0.2814\n",
    "     - Recall: 0.2661\n",
    "     - F1-Score: 0.2649\n",
    "   - **Weighted Average**: This averages the metrics but weighs each class by its support (the number of true instances in the test set). This gives a better sense of overall performance, considering the class distribution.\n",
    "     - Precision: 0.2799\n",
    "     - Recall: 0.2822\n",
    "     - F1-Score: 0.2720\n",
    "\n",
    "#### 5. **Confusion Matrix (Visualization Analysis)**:\n",
    "   - The confusion matrix shows the distribution of true positive, false positive, true negative, and false negative predictions for each class.\n",
    "     - For **Hit and Run**, the model performs relatively well in identifying this offense (304 true positives). However, it also misclassifies some **Hit and Run** instances as other offenses (e.g., **Assault Simple**, **Suspicious Activity**, etc.).\n",
    "     - **Larceny - All Other** is frequently misclassified as **Hit and Run**, **Suspicious Activity**, and others. This is evident from the large number of off-diagonal elements in its row.\n",
    "     - **Assist Citizen - Mental/TDO/ECO** and **Suspicious Activity** are frequently misclassified, as seen by the off-diagonal values in their rows.\n",
    "\n",
    "### Conclusion:\n",
    "The Random Forest model has low accuracy (28.22%), suggesting that it struggles to predict most offenses accurately. Some offenses like **Hit and Run** are better predicted than others, but overall, the model shows a high level of misclassification across all offenses. There may be a need for further tuning of the model, additional feature engineering, or trying different models for better performance.\n",
    "\n",
    "Let me know if you'd like to improve the model or make adjustments based on these results!\n",
    "\n"
   ]
  },
  {
   "cell_type": "markdown",
   "id": "b5d9c4b9",
   "metadata": {
    "papermill": {
     "duration": 0.010689,
     "end_time": "2025-04-23T01:02:06.381589",
     "exception": false,
     "start_time": "2025-04-23T01:02:06.370900",
     "status": "completed"
    },
    "tags": []
   },
   "source": [
    "### Model Explanation\n",
    "\n",
    "Once we’ve chosen the best model, we will explain its predictions by examining feature importance for tree-based models and using statistical methods like logistic regression coefficients for linear models."
   ]
  },
  {
   "cell_type": "markdown",
   "id": "f156ebca",
   "metadata": {
    "papermill": {
     "duration": 0.010821,
     "end_time": "2025-04-23T01:02:06.403287",
     "exception": false,
     "start_time": "2025-04-23T01:02:06.392466",
     "status": "completed"
    },
    "tags": []
   },
   "source": [
    "#### Feature Importance for Random Forest / Decision Tree\n",
    "\n",
    "##### For Tree-based Models (Random Forest, Decision Tree)\n",
    "\n",
    "For Random Forest or Decision Tree, we can look at feature importance to understand which variables contribute the most to the model's predictions. Here's how you can visualize and interpret the importance of each feature:"
   ]
  },
  {
   "cell_type": "code",
   "execution_count": 23,
   "id": "09578f91",
   "metadata": {
    "execution": {
     "iopub.execute_input": "2025-04-23T01:02:06.426600Z",
     "iopub.status.busy": "2025-04-23T01:02:06.426055Z",
     "iopub.status.idle": "2025-04-23T01:02:06.590869Z",
     "shell.execute_reply": "2025-04-23T01:02:06.590179Z"
    },
    "papermill": {
     "duration": 0.177845,
     "end_time": "2025-04-23T01:02:06.591996",
     "exception": false,
     "start_time": "2025-04-23T01:02:06.414151",
     "status": "completed"
    },
    "tags": []
   },
   "outputs": [
    {
     "data": {
      "image/png": "[encoded data removed]",
      "text/plain": [
       "<Figure size 1000x600 with 1 Axes>"
      ]
     },
     "metadata": {},
     "output_type": "display_data"
    }
   ],
   "source": [
    "# For RandomForest or DecisionTree models, we can check feature importance\n",
    "if isinstance(best_model, RandomForestClassifier) or isinstance(best_model, DecisionTreeClassifier):\n",
    "    feature_importance = best_model.feature_importances_\n",
    "    feature_names = X.columns\n",
    "    importance_df = pd.DataFrame({'Feature': feature_names, 'Importance': feature_importance})\n",
    "    importance_df = importance_df.sort_values(by='Importance', ascending=False)\n",
    "    \n",
    "    # Plotting the feature importances\n",
    "    plt.figure(figsize=(10, 6))\n",
    "    sns.barplot(x='Importance', y='Feature', data=importance_df)\n",
    "    plt.title(\"Feature Importance\")\n",
    "    plt.show()\n"
   ]
  },
  {
   "cell_type": "code",
   "execution_count": null,
   "id": "a44d6079",
   "metadata": {
    "papermill": {
     "duration": 0.010983,
     "end_time": "2025-04-23T01:02:06.614490",
     "exception": false,
     "start_time": "2025-04-23T01:02:06.603507",
     "status": "completed"
    },
    "tags": []
   },
   "outputs": [],
   "source": []
  },
  {
   "cell_type": "markdown",
   "id": "abbbe215",
   "metadata": {
    "papermill": {
     "duration": 0.010927,
     "end_time": "2025-04-23T01:02:06.636450",
     "exception": false,
     "start_time": "2025-04-23T01:02:06.625523",
     "status": "completed"
    },
    "tags": []
   },
   "source": [
    "### Evaluation\n",
    "\n",
    "After training the models and examining their performance, we evaluate the chosen model based on metrics like accuracy, precision, recall, and F1 score.\n",
    "\n"
   ]
  },
  {
   "cell_type": "code",
   "execution_count": 24,
   "id": "7d97a51d",
   "metadata": {
    "execution": {
     "iopub.execute_input": "2025-04-23T01:02:06.659886Z",
     "iopub.status.busy": "2025-04-23T01:02:06.659382Z",
     "iopub.status.idle": "2025-04-23T01:02:06.749344Z",
     "shell.execute_reply": "2025-04-23T01:02:06.748578Z"
    },
    "papermill": {
     "duration": 0.103197,
     "end_time": "2025-04-23T01:02:06.750605",
     "exception": false,
     "start_time": "2025-04-23T01:02:06.647408",
     "status": "completed"
    },
    "tags": []
   },
   "outputs": [
    {
     "name": "stdout",
     "output_type": "stream",
     "text": [
      "Accuracy: 0.2800\n",
      "Classification Report:\n",
      "              precision    recall  f1-score   support\n",
      "\n",
      "           0       0.26      0.34      0.30       577\n",
      "           1       0.32      0.23      0.27       429\n",
      "           2       0.32      0.43      0.37       679\n",
      "           3       0.21      0.19      0.20       453\n",
      "           4       0.26      0.22      0.24       312\n",
      "           5       0.26      0.20      0.23       538\n",
      "           6       0.28      0.24      0.26       476\n",
      "\n",
      "    accuracy                           0.28      3464\n",
      "   macro avg       0.28      0.27      0.27      3464\n",
      "weighted avg       0.28      0.28      0.27      3464\n",
      "\n",
      "Confusion Matrix:\n",
      "[[198  55 136  60  22  66  40]\n",
      " [110  99  90  30  22  56  22]\n",
      " [120  33 294  97  31  52  52]\n",
      " [ 90  27 100  87  40  51  58]\n",
      " [ 45  20  70  36  69  24  48]\n",
      " [108  38 128  48  35 107  74]\n",
      " [ 81  36  98  52  42  51 116]]\n",
      "Precision: 0.2778\n",
      "Recall: 0.2800\n",
      "F1 Score: 0.2744\n"
     ]
    }
   ],
   "source": [
    "from sklearn.metrics import classification_report, confusion_matrix, accuracy_score, precision_score, recall_score, f1_score\n",
    "\n",
    "# Predict on the test set\n",
    "y_pred = best_model.predict(X_test)\n",
    "\n",
    "# Calculate Accuracy\n",
    "accuracy = accuracy_score(y_test, y_pred)\n",
    "print(f\"Accuracy: {accuracy:.4f}\")\n",
    "\n",
    "# Classification Report\n",
    "print(\"Classification Report:\")\n",
    "print(classification_report(y_test, y_pred))\n",
    "\n",
    "# Confusion Matrix\n",
    "conf_matrix = confusion_matrix(y_test, y_pred)\n",
    "print(\"Confusion Matrix:\")\n",
    "print(conf_matrix)\n",
    "\n",
    "# Precision, Recall, F1 Score for each class (Offense Type)\n",
    "precision = precision_score(y_test, y_pred, average='weighted')\n",
    "recall = recall_score(y_test, y_pred, average='weighted')\n",
    "f1 = f1_score(y_test, y_pred, average='weighted')\n",
    "\n",
    "print(f\"Precision: {precision:.4f}\")\n",
    "print(f\"Recall: {recall:.4f}\")\n",
    "print(f\"F1 Score: {f1:.4f}\")\n"
   ]
  },
  {
   "cell_type": "markdown",
   "id": "0d2f6f4e",
   "metadata": {
    "papermill": {
     "duration": 0.011142,
     "end_time": "2025-04-23T01:02:06.773347",
     "exception": false,
     "start_time": "2025-04-23T01:02:06.762205",
     "status": "completed"
    },
    "tags": []
   },
   "source": [
    "#### For Logistic Regression (Coefficient Interpretation)\n",
    "\n",
    "For Logistic Regression, the model coefficients can help us understand how each feature affects the likelihood of an offense happening. A positive coefficient indicates a feature increases the likelihood of the offense, and a negative coefficient indicates the opposite."
   ]
  },
  {
   "cell_type": "code",
   "execution_count": 25,
   "id": "9a17b32c",
   "metadata": {
    "execution": {
     "iopub.execute_input": "2025-04-23T01:02:06.796815Z",
     "iopub.status.busy": "2025-04-23T01:02:06.796321Z",
     "iopub.status.idle": "2025-04-23T01:02:06.801183Z",
     "shell.execute_reply": "2025-04-23T01:02:06.800628Z"
    },
    "papermill": {
     "duration": 0.017802,
     "end_time": "2025-04-23T01:02:06.802265",
     "exception": false,
     "start_time": "2025-04-23T01:02:06.784463",
     "status": "completed"
    },
    "tags": []
   },
   "outputs": [],
   "source": [
    "if isinstance(best_model, LogisticRegression):\n",
    "    # Logistic regression coefficients\n",
    "    coef_df = pd.DataFrame({\n",
    "        'Feature': X.columns,\n",
    "        'Coefficient': best_model.coef_[0]\n",
    "    })\n",
    "    coef_df['AbsCoefficient'] = coef_df['Coefficient'].abs()\n",
    "    coef_df = coef_df.sort_values(by='AbsCoefficient', ascending=False)\n",
    "    \n",
    "    # Plotting the coefficients\n",
    "    plt.figure(figsize=(10, 6))\n",
    "    sns.barplot(x='AbsCoefficient', y='Feature', data=coef_df)\n",
    "    plt.title(\"Logistic Regression Coefficients Impact\")\n",
    "    plt.show()\n",
    "\n",
    "    # Print the top 5 most impactful features (by absolute coefficient value)\n",
    "    print(\"Top 5 most impactful features based on coefficients:\")\n",
    "    print(coef_df.head())\n"
   ]
  },
  {
   "cell_type": "markdown",
   "id": "cc771497",
   "metadata": {
    "papermill": {
     "duration": 0.011172,
     "end_time": "2025-04-23T01:02:06.824703",
     "exception": false,
     "start_time": "2025-04-23T01:02:06.813531",
     "status": "completed"
    },
    "tags": []
   },
   "source": [
    "Explanation of Output:\n",
    "\n",
    "Feature Importance (Random Forest/Decision Tree): The bar plot will show how important each feature is in the decision-making process. Features at the top of the list are the most influential in predicting the occurrence of offenses.\n",
    "\n",
    "Logistic Regression Coefficients: The bar plot will show the magnitude of the coefficients for each feature. Features with larger absolute values (either positive or negative) have a stronger impact on the model’s predictions. Positive coefficients increase the probability of an offense, while negative coefficients decrease it."
   ]
  },
  {
   "cell_type": "markdown",
   "id": "5f4788d4",
   "metadata": {
    "papermill": {
     "duration": 0.011014,
     "end_time": "2025-04-23T01:02:06.846823",
     "exception": false,
     "start_time": "2025-04-23T01:02:06.835809",
     "status": "completed"
    },
    "tags": []
   },
   "source": []
  }
 ],
 "metadata": {
  "kernelspec": {
   "display_name": "Python 3",
   "language": "python",
   "name": "python3"
  },
  "language_info": {
   "codemirror_mode": {
    "name": "ipython",
    "version": 3
   },
   "file_extension": ".py",
   "mimetype": "text/x-python",
   "name": "python",
   "nbconvert_exporter": "python",
   "pygments_lexer": "ipython3",
   "version": "3.9.22"
  },
  "papermill": {
   "default_parameters": {},
   "duration": 81.390958,
   "end_time": "2025-04-23T01:02:07.374785",
   "environment_variables": {},
   "exception": null,
   "input_path": "notebook/Crime Data.ipynb",
   "output_path": "notebook/Crime Data_output.ipynb",
   "parameters": {},
   "start_time": "2025-04-23T01:00:45.983827",
   "version": "2.6.0"
  }
 },
 "nbformat": 4,
 "nbformat_minor": 5
}