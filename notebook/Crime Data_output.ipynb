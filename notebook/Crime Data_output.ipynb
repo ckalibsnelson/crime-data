{
 "cells": [
  {
   "cell_type": "markdown",
   "id": "ba1940c4",
   "metadata": {
    "papermill": {
     "duration": 0.00433,
     "end_time": "2025-08-18T01:09:52.737579",
     "exception": false,
     "start_time": "2025-08-18T01:09:52.733249",
     "status": "completed"
    },
    "tags": []
   },
   "source": [
    "# Charlottesville Open Data Porttal: Crime Data"
   ]
  },
  {
   "cell_type": "markdown",
   "id": "d3b7fed6",
   "metadata": {
    "papermill": {
     "duration": 0.003287,
     "end_time": "2025-08-18T01:09:52.744497",
     "exception": false,
     "start_time": "2025-08-18T01:09:52.741210",
     "status": "completed"
    },
    "tags": []
   },
   "source": [
    "## Import Relevant Librarires & Set WD"
   ]
  },
  {
   "cell_type": "code",
   "execution_count": 1,
   "id": "f90f7075",
   "metadata": {
    "execution": {
     "iopub.execute_input": "2025-08-18T01:09:52.752211Z",
     "iopub.status.busy": "2025-08-18T01:09:52.751942Z",
     "iopub.status.idle": "2025-08-18T01:09:53.338133Z",
     "shell.execute_reply": "2025-08-18T01:09:53.337435Z"
    },
    "papermill": {
     "duration": 0.591738,
     "end_time": "2025-08-18T01:09:53.339489",
     "exception": false,
     "start_time": "2025-08-18T01:09:52.747751",
     "status": "completed"
    },
    "tags": []
   },
   "outputs": [],
   "source": [
    "import requests\n",
    "import pandas as pd\n",
    "import numpy as np\n",
    "import pickle\n",
    "import googlemaps\n",
    "import plotly.express as px\n",
    "from geopy.geocoders import Nominatim\n",
    "import time\n",
    "from dotenv import load_dotenv\n",
    "import os\n",
    "\n",
    "env_path = os.path.join(\"..\", \".env\")\n",
    "#print(\"Looking for .env file at:\", os.path.abspath(env_path))\n",
    "load_dotenv(dotenv_path=env_path)\n",
    "\n",
    "# Retrieve the variables\n",
    "GOOGLE_API_KEY = os.getenv(\"GOOGLE_API_KEY\")\n",
    "WORKING_DIR = os.getenv(\"WORKING_DIR\")\n",
    "\n",
    "if GOOGLE_API_KEY is None or WORKING_DIR is None:\n",
    "    raise RuntimeError(\"No configuration found. Please ensure that your .env file exists with the required variables, or create a local config.py file.\")\n",
    "\n",
    "#print(\"Google API Key:\", GOOGLE_API_KEY)\n",
    "#print(\"Working Directory:\", WORKING_DIR)"
   ]
  },
  {
   "cell_type": "markdown",
   "id": "f6f463b6",
   "metadata": {
    "papermill": {
     "duration": 0.003331,
     "end_time": "2025-08-18T01:09:53.347583",
     "exception": false,
     "start_time": "2025-08-18T01:09:53.344252",
     "status": "completed"
    },
    "tags": []
   },
   "source": [
    "## Import Data\n",
    "\n",
    "URL: https://opendata.charlottesville.org/datasets/charlottesville::crime-data/about"
   ]
  },
  {
   "cell_type": "code",
   "execution_count": 2,
   "id": "a1258a0b",
   "metadata": {
    "execution": {
     "iopub.execute_input": "2025-08-18T01:09:53.355206Z",
     "iopub.status.busy": "2025-08-18T01:09:53.354876Z",
     "iopub.status.idle": "2025-08-18T01:11:00.114335Z",
     "shell.execute_reply": "2025-08-18T01:11:00.113637Z"
    },
    "papermill": {
     "duration": 66.767488,
     "end_time": "2025-08-18T01:11:00.118347",
     "exception": false,
     "start_time": "2025-08-18T01:09:53.350859",
     "status": "completed"
    },
    "tags": []
   },
   "outputs": [
    {
     "name": "stdout",
     "output_type": "stream",
     "text": [
      "Total records imported: 25655\n"
     ]
    }
   ],
   "source": [
    "# Define the endpoint and initial parameters.\n",
    "url = \"https://gisweb.charlottesville.org/arcgis/rest/services/OpenData_2/MapServer/6/query\"\n",
    "params = {\n",
    "    \"where\": \"1=1\",\n",
    "    \"outFields\": \"*\",\n",
    "    \"outSR\": 4326,\n",
    "    \"f\": \"json\",\n",
    "    \"resultOffset\": 0,       # Starting index for results\n",
    "    \"resultRecordCount\": 10000  # Maximum records per batch (if allowed by the API)\n",
    "}\n",
    "\n",
    "records = []\n",
    "\n",
    "while True:\n",
    "    response = requests.get(url, params=params)\n",
    "    response.raise_for_status()\n",
    "    data = response.json()\n",
    "    \n",
    "    # Get the current batch of features.\n",
    "    features = data.get(\"features\", [])\n",
    "    if not features:\n",
    "        break\n",
    "\n",
    "    # Extract the attributes from the features.\n",
    "    batch_records = [feature.get(\"attributes\", {}) for feature in features]\n",
    "    records.extend(batch_records)\n",
    "    \n",
    "    # If the batch size is less than the requested count, we reached the end.\n",
    "    if len(features) < params[\"resultRecordCount\"]:\n",
    "        break\n",
    "\n",
    "    # Update the resultOffset for the next batch.\n",
    "    params[\"resultOffset\"] += params[\"resultRecordCount\"]\n",
    "\n",
    "# Create a DataFrame from the combined records.\n",
    "df = pd.DataFrame(records)\n",
    "print(\"Total records imported:\", len(df))\n"
   ]
  },
  {
   "cell_type": "code",
   "execution_count": 3,
   "id": "6d165acb",
   "metadata": {
    "execution": {
     "iopub.execute_input": "2025-08-18T01:11:00.126176Z",
     "iopub.status.busy": "2025-08-18T01:11:00.125981Z",
     "iopub.status.idle": "2025-08-18T01:11:00.137750Z",
     "shell.execute_reply": "2025-08-18T01:11:00.137119Z"
    },
    "papermill": {
     "duration": 0.016832,
     "end_time": "2025-08-18T01:11:00.138713",
     "exception": false,
     "start_time": "2025-08-18T01:11:00.121881",
     "status": "completed"
    },
    "tags": []
   },
   "outputs": [
    {
     "data": {
      "text/html": [
       "<div>\n",
       "<style scoped>\n",
       "    .dataframe tbody tr th:only-of-type {\n",
       "        vertical-align: middle;\n",
       "    }\n",
       "\n",
       "    .dataframe tbody tr th {\n",
       "        vertical-align: top;\n",
       "    }\n",
       "\n",
       "    .dataframe thead th {\n",
       "        text-align: right;\n",
       "    }\n",
       "</style>\n",
       "<table border=\"1\" class=\"dataframe\">\n",
       "  <thead>\n",
       "    <tr style=\"text-align: right;\">\n",
       "      <th></th>\n",
       "      <th>RecordID</th>\n",
       "      <th>Offense</th>\n",
       "      <th>IncidentID</th>\n",
       "      <th>BlockNumber</th>\n",
       "      <th>StreetName</th>\n",
       "      <th>Agency</th>\n",
       "      <th>DateReported</th>\n",
       "      <th>HourReported</th>\n",
       "      <th>ReportingOfficer</th>\n",
       "    </tr>\n",
       "  </thead>\n",
       "  <tbody>\n",
       "    <tr>\n",
       "      <th>0</th>\n",
       "      <td>1</td>\n",
       "      <td>Disturbance - Non Domestic</td>\n",
       "      <td>202500028975</td>\n",
       "      <td>200</td>\n",
       "      <td>E MAIN ST</td>\n",
       "      <td>CPD</td>\n",
       "      <td>1755302702000</td>\n",
       "      <td>2005</td>\n",
       "      <td>Abdelgayed, Adam</td>\n",
       "    </tr>\n",
       "    <tr>\n",
       "      <th>1</th>\n",
       "      <td>2</td>\n",
       "      <td>Drug Equipment Violation</td>\n",
       "      <td>202500028967</td>\n",
       "      <td>1100</td>\n",
       "      <td>5TH ST SW</td>\n",
       "      <td>CPD</td>\n",
       "      <td>1755297678000</td>\n",
       "      <td>1841</td>\n",
       "      <td>Ritter, Kobe</td>\n",
       "    </tr>\n",
       "    <tr>\n",
       "      <th>2</th>\n",
       "      <td>3</td>\n",
       "      <td>Suspicious Activity</td>\n",
       "      <td>202500028937</td>\n",
       "      <td>1000</td>\n",
       "      <td>1ST ST S, 201</td>\n",
       "      <td>CPD</td>\n",
       "      <td>1755285157000</td>\n",
       "      <td>1512</td>\n",
       "      <td>Burnett, James</td>\n",
       "    </tr>\n",
       "    <tr>\n",
       "      <th>3</th>\n",
       "      <td>4</td>\n",
       "      <td>Larceny - From Motor Vehicle</td>\n",
       "      <td>202500028914</td>\n",
       "      <td>500</td>\n",
       "      <td>BAINBRIDGE ST</td>\n",
       "      <td>CPD</td>\n",
       "      <td>1755274068000</td>\n",
       "      <td>1207</td>\n",
       "      <td>Eckenroth, Rachel</td>\n",
       "    </tr>\n",
       "    <tr>\n",
       "      <th>4</th>\n",
       "      <td>5</td>\n",
       "      <td>Comm Relations Initiative - CRI</td>\n",
       "      <td>202500028894</td>\n",
       "      <td>600</td>\n",
       "      <td>MAIN ST N</td>\n",
       "      <td>CPD</td>\n",
       "      <td>1755266133000</td>\n",
       "      <td>0955</td>\n",
       "      <td>Pendleton, Eric</td>\n",
       "    </tr>\n",
       "  </tbody>\n",
       "</table>\n",
       "</div>"
      ],
      "text/plain": [
       "   RecordID                          Offense    IncidentID BlockNumber  \\\n",
       "0         1       Disturbance - Non Domestic  202500028975         200   \n",
       "1         2         Drug Equipment Violation  202500028967        1100   \n",
       "2         3              Suspicious Activity  202500028937        1000   \n",
       "3         4     Larceny - From Motor Vehicle  202500028914         500   \n",
       "4         5  Comm Relations Initiative - CRI  202500028894         600   \n",
       "\n",
       "      StreetName Agency   DateReported HourReported   ReportingOfficer  \n",
       "0      E MAIN ST    CPD  1755302702000         2005   Abdelgayed, Adam  \n",
       "1      5TH ST SW    CPD  1755297678000         1841       Ritter, Kobe  \n",
       "2  1ST ST S, 201    CPD  1755285157000         1512     Burnett, James  \n",
       "3  BAINBRIDGE ST    CPD  1755274068000         1207  Eckenroth, Rachel  \n",
       "4      MAIN ST N    CPD  1755266133000         0955    Pendleton, Eric  "
      ]
     },
     "execution_count": 3,
     "metadata": {},
     "output_type": "execute_result"
    }
   ],
   "source": [
    "df.head()"
   ]
  },
  {
   "cell_type": "code",
   "execution_count": 4,
   "id": "55b5c249",
   "metadata": {
    "execution": {
     "iopub.execute_input": "2025-08-18T01:11:00.146644Z",
     "iopub.status.busy": "2025-08-18T01:11:00.146384Z",
     "iopub.status.idle": "2025-08-18T01:11:00.150754Z",
     "shell.execute_reply": "2025-08-18T01:11:00.150216Z"
    },
    "papermill": {
     "duration": 0.009372,
     "end_time": "2025-08-18T01:11:00.151693",
     "exception": false,
     "start_time": "2025-08-18T01:11:00.142321",
     "status": "completed"
    },
    "tags": []
   },
   "outputs": [
    {
     "data": {
      "text/plain": [
       "Index(['RecordID', 'Offense', 'IncidentID', 'BlockNumber', 'StreetName',\n",
       "       'Agency', 'DateReported', 'HourReported', 'ReportingOfficer'],\n",
       "      dtype='object')"
      ]
     },
     "execution_count": 4,
     "metadata": {},
     "output_type": "execute_result"
    }
   ],
   "source": [
    "df.columns"
   ]
  },
  {
   "cell_type": "code",
   "execution_count": 5,
   "id": "9965531d",
   "metadata": {
    "execution": {
     "iopub.execute_input": "2025-08-18T01:11:00.159809Z",
     "iopub.status.busy": "2025-08-18T01:11:00.159541Z",
     "iopub.status.idle": "2025-08-18T01:11:00.183959Z",
     "shell.execute_reply": "2025-08-18T01:11:00.183404Z"
    },
    "papermill": {
     "duration": 0.02956,
     "end_time": "2025-08-18T01:11:00.184998",
     "exception": false,
     "start_time": "2025-08-18T01:11:00.155438",
     "status": "completed"
    },
    "tags": []
   },
   "outputs": [
    {
     "name": "stdout",
     "output_type": "stream",
     "text": [
      "<class 'pandas.core.frame.DataFrame'>\n",
      "RangeIndex: 25655 entries, 0 to 25654\n",
      "Data columns (total 9 columns):\n",
      " #   Column            Non-Null Count  Dtype \n",
      "---  ------            --------------  ----- \n",
      " 0   RecordID          25655 non-null  int64 \n",
      " 1   Offense           25655 non-null  object\n",
      " 2   IncidentID        25655 non-null  object\n",
      " 3   BlockNumber       25655 non-null  object\n",
      " 4   StreetName        25655 non-null  object\n",
      " 5   Agency            25655 non-null  object\n",
      " 6   DateReported      25655 non-null  int64 \n",
      " 7   HourReported      25655 non-null  object\n",
      " 8   ReportingOfficer  25640 non-null  object\n",
      "dtypes: int64(2), object(7)\n",
      "memory usage: 1.8+ MB\n"
     ]
    }
   ],
   "source": [
    "df.info()"
   ]
  },
  {
   "cell_type": "markdown",
   "id": "dd10f532",
   "metadata": {
    "papermill": {
     "duration": 0.003691,
     "end_time": "2025-08-18T01:11:00.192715",
     "exception": false,
     "start_time": "2025-08-18T01:11:00.189024",
     "status": "completed"
    },
    "tags": []
   },
   "source": [
    "### Missing Values"
   ]
  },
  {
   "cell_type": "code",
   "execution_count": 6,
   "id": "f7f2a1ab",
   "metadata": {
    "execution": {
     "iopub.execute_input": "2025-08-18T01:11:00.200930Z",
     "iopub.status.busy": "2025-08-18T01:11:00.200680Z",
     "iopub.status.idle": "2025-08-18T01:11:00.224310Z",
     "shell.execute_reply": "2025-08-18T01:11:00.223735Z"
    },
    "papermill": {
     "duration": 0.029005,
     "end_time": "2025-08-18T01:11:00.225361",
     "exception": false,
     "start_time": "2025-08-18T01:11:00.196356",
     "status": "completed"
    },
    "tags": []
   },
   "outputs": [
    {
     "name": "stdout",
     "output_type": "stream",
     "text": [
      "                  MissingCount  MissingPercentage\n",
      "RecordID                     0               0.00\n",
      "Offense                      0               0.00\n",
      "IncidentID                   0               0.00\n",
      "BlockNumber                  0               0.00\n",
      "StreetName                   0               0.00\n",
      "Agency                       0               0.00\n",
      "DateReported                 0               0.00\n",
      "HourReported                 0               0.00\n",
      "ReportingOfficer            15               0.06\n"
     ]
    }
   ],
   "source": [
    "def missing_percentage(df):\n",
    "    \"\"\"\n",
    "    Returns a DataFrame with the count and percentage of missing values for each column.\n",
    "    \n",
    "    Parameters:\n",
    "        df (pd.DataFrame): The input DataFrame.\n",
    "    \n",
    "    Returns:\n",
    "        pd.DataFrame: A DataFrame with columns 'MissingCount' and 'MissingPercentage'.\n",
    "    \"\"\"\n",
    "    total_rows = len(df)\n",
    "    missing_count = df.isnull().sum()\n",
    "    missing_percent = (missing_count / total_rows) * 100\n",
    "    \n",
    "    result = pd.DataFrame({\n",
    "        'MissingCount': missing_count,\n",
    "        'MissingPercentage': missing_percent.round(2)\n",
    "    })\n",
    "    \n",
    "    return result\n",
    "\n",
    "# Example usage:\n",
    "missing_info = missing_percentage(df)\n",
    "print(missing_info)\n"
   ]
  },
  {
   "cell_type": "markdown",
   "id": "e1b6162a",
   "metadata": {
    "papermill": {
     "duration": 0.003759,
     "end_time": "2025-08-18T01:11:00.233328",
     "exception": false,
     "start_time": "2025-08-18T01:11:00.229569",
     "status": "completed"
    },
    "tags": []
   },
   "source": [
    "## Data Preparation"
   ]
  },
  {
   "cell_type": "markdown",
   "id": "5ad1606d",
   "metadata": {
    "papermill": {
     "duration": 0.003697,
     "end_time": "2025-08-18T01:11:00.240808",
     "exception": false,
     "start_time": "2025-08-18T01:11:00.237111",
     "status": "completed"
    },
    "tags": []
   },
   "source": [
    "### Data Conversion"
   ]
  },
  {
   "cell_type": "code",
   "execution_count": 7,
   "id": "9013edd2",
   "metadata": {
    "execution": {
     "iopub.execute_input": "2025-08-18T01:11:00.249219Z",
     "iopub.status.busy": "2025-08-18T01:11:00.248997Z",
     "iopub.status.idle": "2025-08-18T01:11:00.608326Z",
     "shell.execute_reply": "2025-08-18T01:11:00.607592Z"
    },
    "papermill": {
     "duration": 0.364835,
     "end_time": "2025-08-18T01:11:00.609451",
     "exception": false,
     "start_time": "2025-08-18T01:11:00.244616",
     "status": "completed"
    },
    "tags": []
   },
   "outputs": [
    {
     "data": {
      "text/html": [
       "<div>\n",
       "<style scoped>\n",
       "    .dataframe tbody tr th:only-of-type {\n",
       "        vertical-align: middle;\n",
       "    }\n",
       "\n",
       "    .dataframe tbody tr th {\n",
       "        vertical-align: top;\n",
       "    }\n",
       "\n",
       "    .dataframe thead th {\n",
       "        text-align: right;\n",
       "    }\n",
       "</style>\n",
       "<table border=\"1\" class=\"dataframe\">\n",
       "  <thead>\n",
       "    <tr style=\"text-align: right;\">\n",
       "      <th></th>\n",
       "      <th>RecordID</th>\n",
       "      <th>Offense</th>\n",
       "      <th>IncidentID</th>\n",
       "      <th>BlockNumber</th>\n",
       "      <th>StreetName</th>\n",
       "      <th>Agency</th>\n",
       "      <th>HourReported</th>\n",
       "      <th>ReportingOfficer</th>\n",
       "      <th>Date</th>\n",
       "      <th>DateString</th>\n",
       "      <th>DayOfWeek</th>\n",
       "      <th>Weekend</th>\n",
       "      <th>Season</th>\n",
       "      <th>HourAMPM</th>\n",
       "      <th>TimeOfDay</th>\n",
       "    </tr>\n",
       "  </thead>\n",
       "  <tbody>\n",
       "    <tr>\n",
       "      <th>0</th>\n",
       "      <td>1</td>\n",
       "      <td>Disturbance - Non Domestic</td>\n",
       "      <td>202500028975</td>\n",
       "      <td>200</td>\n",
       "      <td>E MAIN ST</td>\n",
       "      <td>CPD</td>\n",
       "      <td>2005</td>\n",
       "      <td>Abdelgayed, Adam</td>\n",
       "      <td>2025-08-15 20:05:02</td>\n",
       "      <td>2025-08-15 08:05:02 PM</td>\n",
       "      <td>Friday</td>\n",
       "      <td>False</td>\n",
       "      <td>Summer</td>\n",
       "      <td>08:05 PM</td>\n",
       "      <td>Evening</td>\n",
       "    </tr>\n",
       "    <tr>\n",
       "      <th>1</th>\n",
       "      <td>2</td>\n",
       "      <td>Drug Equipment Violation</td>\n",
       "      <td>202500028967</td>\n",
       "      <td>1100</td>\n",
       "      <td>5TH ST SW</td>\n",
       "      <td>CPD</td>\n",
       "      <td>1841</td>\n",
       "      <td>Ritter, Kobe</td>\n",
       "      <td>2025-08-15 18:41:18</td>\n",
       "      <td>2025-08-15 06:41:18 PM</td>\n",
       "      <td>Friday</td>\n",
       "      <td>False</td>\n",
       "      <td>Summer</td>\n",
       "      <td>06:41 PM</td>\n",
       "      <td>Evening</td>\n",
       "    </tr>\n",
       "    <tr>\n",
       "      <th>2</th>\n",
       "      <td>3</td>\n",
       "      <td>Suspicious Activity</td>\n",
       "      <td>202500028937</td>\n",
       "      <td>1000</td>\n",
       "      <td>1ST ST S, 201</td>\n",
       "      <td>CPD</td>\n",
       "      <td>1512</td>\n",
       "      <td>Burnett, James</td>\n",
       "      <td>2025-08-15 15:12:37</td>\n",
       "      <td>2025-08-15 03:12:37 PM</td>\n",
       "      <td>Friday</td>\n",
       "      <td>False</td>\n",
       "      <td>Summer</td>\n",
       "      <td>03:12 PM</td>\n",
       "      <td>Afternoon</td>\n",
       "    </tr>\n",
       "    <tr>\n",
       "      <th>3</th>\n",
       "      <td>4</td>\n",
       "      <td>Larceny - From Motor Vehicle</td>\n",
       "      <td>202500028914</td>\n",
       "      <td>500</td>\n",
       "      <td>BAINBRIDGE ST</td>\n",
       "      <td>CPD</td>\n",
       "      <td>1207</td>\n",
       "      <td>Eckenroth, Rachel</td>\n",
       "      <td>2025-08-15 12:07:48</td>\n",
       "      <td>2025-08-15 12:07:48 PM</td>\n",
       "      <td>Friday</td>\n",
       "      <td>False</td>\n",
       "      <td>Summer</td>\n",
       "      <td>12:07 PM</td>\n",
       "      <td>Afternoon</td>\n",
       "    </tr>\n",
       "    <tr>\n",
       "      <th>4</th>\n",
       "      <td>5</td>\n",
       "      <td>Comm Relations Initiative - CRI</td>\n",
       "      <td>202500028894</td>\n",
       "      <td>600</td>\n",
       "      <td>MAIN ST N</td>\n",
       "      <td>CPD</td>\n",
       "      <td>0955</td>\n",
       "      <td>Pendleton, Eric</td>\n",
       "      <td>2025-08-15 09:55:33</td>\n",
       "      <td>2025-08-15 09:55:33 AM</td>\n",
       "      <td>Friday</td>\n",
       "      <td>False</td>\n",
       "      <td>Summer</td>\n",
       "      <td>09:55 AM</td>\n",
       "      <td>Morning</td>\n",
       "    </tr>\n",
       "  </tbody>\n",
       "</table>\n",
       "</div>"
      ],
      "text/plain": [
       "   RecordID                          Offense    IncidentID BlockNumber  \\\n",
       "0         1       Disturbance - Non Domestic  202500028975         200   \n",
       "1         2         Drug Equipment Violation  202500028967        1100   \n",
       "2         3              Suspicious Activity  202500028937        1000   \n",
       "3         4     Larceny - From Motor Vehicle  202500028914         500   \n",
       "4         5  Comm Relations Initiative - CRI  202500028894         600   \n",
       "\n",
       "      StreetName Agency HourReported   ReportingOfficer                Date  \\\n",
       "0      E MAIN ST    CPD         2005   Abdelgayed, Adam 2025-08-15 20:05:02   \n",
       "1      5TH ST SW    CPD         1841       Ritter, Kobe 2025-08-15 18:41:18   \n",
       "2  1ST ST S, 201    CPD         1512     Burnett, James 2025-08-15 15:12:37   \n",
       "3  BAINBRIDGE ST    CPD         1207  Eckenroth, Rachel 2025-08-15 12:07:48   \n",
       "4      MAIN ST N    CPD         0955    Pendleton, Eric 2025-08-15 09:55:33   \n",
       "\n",
       "               DateString DayOfWeek  Weekend  Season  HourAMPM  TimeOfDay  \n",
       "0  2025-08-15 08:05:02 PM    Friday    False  Summer  08:05 PM    Evening  \n",
       "1  2025-08-15 06:41:18 PM    Friday    False  Summer  06:41 PM    Evening  \n",
       "2  2025-08-15 03:12:37 PM    Friday    False  Summer  03:12 PM  Afternoon  \n",
       "3  2025-08-15 12:07:48 PM    Friday    False  Summer  12:07 PM  Afternoon  \n",
       "4  2025-08-15 09:55:33 AM    Friday    False  Summer  09:55 AM    Morning  "
      ]
     },
     "execution_count": 7,
     "metadata": {},
     "output_type": "execute_result"
    }
   ],
   "source": [
    "def convert_and_categorize_datereported(df, col='DateReported'):\n",
    "    \"\"\"\n",
    "    Converts an epoch (in milliseconds) date column into a timezone-aware datetime,\n",
    "    converts it to Eastern Time, and then creates columns for day-of-week, weekend flag,\n",
    "    season, 12-hour formatted time, and time-of-day. Keeps both a real datetime column\n",
    "    (Date) and a string representation (DateString).\n",
    "    \"\"\"\n",
    "    import pandas as pd\n",
    "\n",
    "    # Convert the epoch timestamp to a pandas datetime object as UTC, then convert to US/Eastern.\n",
    "    df[\"DateReported_dt\"] = (\n",
    "        pd.to_datetime(df[col], unit=\"ms\", errors=\"coerce\", utc=True)\n",
    "        .dt.tz_convert(\"US/Eastern\")\n",
    "    )\n",
    "    \n",
    "    # Create a true datetime column (remove timezone if you prefer naive datetime)\n",
    "    df[\"Date\"] = df[\"DateReported_dt\"].dt.tz_localize(None)\n",
    "\n",
    "    # Optionally, create a separate string-formatted column\n",
    "    df[\"DateString\"] = df[\"DateReported_dt\"].dt.strftime(\"%Y-%m-%d %I:%M:%S %p\")\n",
    "    \n",
    "    # DayOfWeek\n",
    "    df[\"DayOfWeek\"] = df[\"DateReported_dt\"].dt.day_name()\n",
    "    \n",
    "    # Weekend\n",
    "    df[\"Weekend\"] = df[\"DayOfWeek\"].isin([\"Saturday\", \"Sunday\"])\n",
    "    \n",
    "    # Helper function to determine the season\n",
    "    def get_season(dt):\n",
    "        month = dt.month\n",
    "        day = dt.day\n",
    "        # Approximate Northern Hemisphere season boundaries:\n",
    "        if (month == 12 and day >= 21) or (month < 3) or (month == 3 and day < 20):\n",
    "            return \"Winter\"\n",
    "        elif (month == 3 and day >= 20) or (month < 6) or (month == 6 and day < 21):\n",
    "            return \"Spring\"\n",
    "        elif (month == 6 and day >= 21) or (month < 9) or (month == 9 and day < 22):\n",
    "            return \"Summer\"\n",
    "        else:\n",
    "            return \"Autumn\"\n",
    "    \n",
    "    df[\"Season\"] = df[\"DateReported_dt\"].apply(get_season)\n",
    "    \n",
    "    # 12-hour formatted time (HourAMPM)\n",
    "    df[\"HourAMPM\"] = df[\"DateReported_dt\"].dt.strftime(\"%I:%M %p\")\n",
    "    \n",
    "    # Extract hour (0-23) for time-of-day\n",
    "    df[\"HourValue\"] = df[\"DateReported_dt\"].dt.hour\n",
    "    \n",
    "    def time_of_day(hour):\n",
    "        if pd.isnull(hour):\n",
    "            return None\n",
    "        if 5 <= hour < 12:\n",
    "            return \"Morning\"\n",
    "        elif 12 <= hour < 17:\n",
    "            return \"Afternoon\"\n",
    "        elif 17 <= hour < 21:\n",
    "            return \"Evening\"\n",
    "        else:\n",
    "            return \"Night\"\n",
    "    \n",
    "    df[\"TimeOfDay\"] = df[\"HourValue\"].apply(time_of_day)\n",
    "    \n",
    "    # Drop columns you no longer need\n",
    "    df.drop(columns=[col, \"DateReported_dt\", \"HourValue\"], inplace=True)\n",
    "    \n",
    "    return df\n",
    "\n",
    "# Example usage:\n",
    "df = convert_and_categorize_datereported(df)\n",
    "df.head()\n"
   ]
  },
  {
   "cell_type": "code",
   "execution_count": 8,
   "id": "da0e94bf",
   "metadata": {
    "execution": {
     "iopub.execute_input": "2025-08-18T01:11:00.618983Z",
     "iopub.status.busy": "2025-08-18T01:11:00.618738Z",
     "iopub.status.idle": "2025-08-18T01:11:00.649435Z",
     "shell.execute_reply": "2025-08-18T01:11:00.648831Z"
    },
    "papermill": {
     "duration": 0.036576,
     "end_time": "2025-08-18T01:11:00.650485",
     "exception": false,
     "start_time": "2025-08-18T01:11:00.613909",
     "status": "completed"
    },
    "tags": []
   },
   "outputs": [
    {
     "name": "stdout",
     "output_type": "stream",
     "text": [
      "<class 'pandas.core.frame.DataFrame'>\n",
      "RangeIndex: 25655 entries, 0 to 25654\n",
      "Data columns (total 15 columns):\n",
      " #   Column            Non-Null Count  Dtype         \n",
      "---  ------            --------------  -----         \n",
      " 0   RecordID          25655 non-null  int64         \n",
      " 1   Offense           25655 non-null  object        \n",
      " 2   IncidentID        25655 non-null  object        \n",
      " 3   BlockNumber       25655 non-null  object        \n",
      " 4   StreetName        25655 non-null  object        \n",
      " 5   Agency            25655 non-null  object        \n",
      " 6   HourReported      25655 non-null  object        \n",
      " 7   ReportingOfficer  25640 non-null  object        \n",
      " 8   Date              25655 non-null  datetime64[ns]\n",
      " 9   DateString        25655 non-null  object        \n",
      " 10  DayOfWeek         25655 non-null  object        \n",
      " 11  Weekend           25655 non-null  bool          \n",
      " 12  Season            25655 non-null  object        \n",
      " 13  HourAMPM          25655 non-null  object        \n",
      " 14  TimeOfDay         25655 non-null  object        \n",
      "dtypes: bool(1), datetime64[ns](1), int64(1), object(12)\n",
      "memory usage: 2.8+ MB\n"
     ]
    }
   ],
   "source": [
    "df.info()"
   ]
  },
  {
   "cell_type": "markdown",
   "id": "e9bb7609",
   "metadata": {
    "papermill": {
     "duration": 0.004124,
     "end_time": "2025-08-18T01:11:00.659193",
     "exception": false,
     "start_time": "2025-08-18T01:11:00.655069",
     "status": "completed"
    },
    "tags": []
   },
   "source": [
    "### Coordinates"
   ]
  },
  {
   "cell_type": "code",
   "execution_count": 9,
   "id": "387ae9dd",
   "metadata": {
    "execution": {
     "iopub.execute_input": "2025-08-18T01:11:00.668453Z",
     "iopub.status.busy": "2025-08-18T01:11:00.668212Z",
     "iopub.status.idle": "2025-08-18T01:11:00.878582Z",
     "shell.execute_reply": "2025-08-18T01:11:00.878000Z"
    },
    "papermill": {
     "duration": 0.21631,
     "end_time": "2025-08-18T01:11:00.879626",
     "exception": false,
     "start_time": "2025-08-18T01:11:00.663316",
     "status": "completed"
    },
    "tags": []
   },
   "outputs": [
    {
     "name": "stdout",
     "output_type": "stream",
     "text": [
      "Loaded geocode cache.\n",
      "Error geocoding 600 MAIN ST N: REQUEST_DENIED (You must enable Billing on the Google Cloud Project at https://console.cloud.google.com/project/_/billing/enable Learn more at https://developers.google.com/maps/gmp-get-started)\n",
      "Geocoded 600 MAIN ST N: None, None\n"
     ]
    },
    {
     "name": "stdout",
     "output_type": "stream",
     "text": [
      "Error geocoding 1300 CARLTON AVE, 402: REQUEST_DENIED (You must enable Billing on the Google Cloud Project at https://console.cloud.google.com/project/_/billing/enable Learn more at https://developers.google.com/maps/gmp-get-started)\n",
      "Geocoded 1300 CARLTON AVE, 402: None, None\n",
      "Geocode cache updated and saved.\n"
     ]
    },
    {
     "data": {
      "text/html": [
       "<div>\n",
       "<style scoped>\n",
       "    .dataframe tbody tr th:only-of-type {\n",
       "        vertical-align: middle;\n",
       "    }\n",
       "\n",
       "    .dataframe tbody tr th {\n",
       "        vertical-align: top;\n",
       "    }\n",
       "\n",
       "    .dataframe thead th {\n",
       "        text-align: right;\n",
       "    }\n",
       "</style>\n",
       "<table border=\"1\" class=\"dataframe\">\n",
       "  <thead>\n",
       "    <tr style=\"text-align: right;\">\n",
       "      <th></th>\n",
       "      <th>RecordID</th>\n",
       "      <th>Offense</th>\n",
       "      <th>IncidentID</th>\n",
       "      <th>BlockNumber</th>\n",
       "      <th>StreetName</th>\n",
       "      <th>Agency</th>\n",
       "      <th>HourReported</th>\n",
       "      <th>ReportingOfficer</th>\n",
       "      <th>Date</th>\n",
       "      <th>DateString</th>\n",
       "      <th>DayOfWeek</th>\n",
       "      <th>Weekend</th>\n",
       "      <th>Season</th>\n",
       "      <th>HourAMPM</th>\n",
       "      <th>TimeOfDay</th>\n",
       "      <th>FullStreet</th>\n",
       "      <th>lat</th>\n",
       "      <th>lon</th>\n",
       "    </tr>\n",
       "  </thead>\n",
       "  <tbody>\n",
       "    <tr>\n",
       "      <th>0</th>\n",
       "      <td>1</td>\n",
       "      <td>Disturbance - Non Domestic</td>\n",
       "      <td>202500028975</td>\n",
       "      <td>200</td>\n",
       "      <td>E MAIN ST</td>\n",
       "      <td>CPD</td>\n",
       "      <td>2005</td>\n",
       "      <td>Abdelgayed, Adam</td>\n",
       "      <td>2025-08-15 20:05:02</td>\n",
       "      <td>2025-08-15 08:05:02 PM</td>\n",
       "      <td>Friday</td>\n",
       "      <td>False</td>\n",
       "      <td>Summer</td>\n",
       "      <td>08:05 PM</td>\n",
       "      <td>Evening</td>\n",
       "      <td>200 E MAIN ST</td>\n",
       "      <td>38.030572</td>\n",
       "      <td>-78.480764</td>\n",
       "    </tr>\n",
       "    <tr>\n",
       "      <th>1</th>\n",
       "      <td>2</td>\n",
       "      <td>Drug Equipment Violation</td>\n",
       "      <td>202500028967</td>\n",
       "      <td>1100</td>\n",
       "      <td>5TH ST SW</td>\n",
       "      <td>CPD</td>\n",
       "      <td>1841</td>\n",
       "      <td>Ritter, Kobe</td>\n",
       "      <td>2025-08-15 18:41:18</td>\n",
       "      <td>2025-08-15 06:41:18 PM</td>\n",
       "      <td>Friday</td>\n",
       "      <td>False</td>\n",
       "      <td>Summer</td>\n",
       "      <td>06:41 PM</td>\n",
       "      <td>Evening</td>\n",
       "      <td>1100 5TH ST SW</td>\n",
       "      <td>38.017130</td>\n",
       "      <td>-78.497806</td>\n",
       "    </tr>\n",
       "    <tr>\n",
       "      <th>2</th>\n",
       "      <td>3</td>\n",
       "      <td>Suspicious Activity</td>\n",
       "      <td>202500028937</td>\n",
       "      <td>1000</td>\n",
       "      <td>1ST ST S, 201</td>\n",
       "      <td>CPD</td>\n",
       "      <td>1512</td>\n",
       "      <td>Burnett, James</td>\n",
       "      <td>2025-08-15 15:12:37</td>\n",
       "      <td>2025-08-15 03:12:37 PM</td>\n",
       "      <td>Friday</td>\n",
       "      <td>False</td>\n",
       "      <td>Summer</td>\n",
       "      <td>03:12 PM</td>\n",
       "      <td>Afternoon</td>\n",
       "      <td>1000 1ST ST S, 201</td>\n",
       "      <td>38.020474</td>\n",
       "      <td>-78.486881</td>\n",
       "    </tr>\n",
       "    <tr>\n",
       "      <th>3</th>\n",
       "      <td>4</td>\n",
       "      <td>Larceny - From Motor Vehicle</td>\n",
       "      <td>202500028914</td>\n",
       "      <td>500</td>\n",
       "      <td>BAINBRIDGE ST</td>\n",
       "      <td>CPD</td>\n",
       "      <td>1207</td>\n",
       "      <td>Eckenroth, Rachel</td>\n",
       "      <td>2025-08-15 12:07:48</td>\n",
       "      <td>2025-08-15 12:07:48 PM</td>\n",
       "      <td>Friday</td>\n",
       "      <td>False</td>\n",
       "      <td>Summer</td>\n",
       "      <td>12:07 PM</td>\n",
       "      <td>Afternoon</td>\n",
       "      <td>500 BAINBRIDGE ST</td>\n",
       "      <td>38.023275</td>\n",
       "      <td>-78.472513</td>\n",
       "    </tr>\n",
       "    <tr>\n",
       "      <th>4</th>\n",
       "      <td>5</td>\n",
       "      <td>Comm Relations Initiative - CRI</td>\n",
       "      <td>202500028894</td>\n",
       "      <td>600</td>\n",
       "      <td>MAIN ST N</td>\n",
       "      <td>CPD</td>\n",
       "      <td>0955</td>\n",
       "      <td>Pendleton, Eric</td>\n",
       "      <td>2025-08-15 09:55:33</td>\n",
       "      <td>2025-08-15 09:55:33 AM</td>\n",
       "      <td>Friday</td>\n",
       "      <td>False</td>\n",
       "      <td>Summer</td>\n",
       "      <td>09:55 AM</td>\n",
       "      <td>Morning</td>\n",
       "      <td>600 MAIN ST N</td>\n",
       "      <td>NaN</td>\n",
       "      <td>NaN</td>\n",
       "    </tr>\n",
       "  </tbody>\n",
       "</table>\n",
       "</div>"
      ],
      "text/plain": [
       "   RecordID                          Offense    IncidentID BlockNumber  \\\n",
       "0         1       Disturbance - Non Domestic  202500028975         200   \n",
       "1         2         Drug Equipment Violation  202500028967        1100   \n",
       "2         3              Suspicious Activity  202500028937        1000   \n",
       "3         4     Larceny - From Motor Vehicle  202500028914         500   \n",
       "4         5  Comm Relations Initiative - CRI  202500028894         600   \n",
       "\n",
       "      StreetName Agency HourReported   ReportingOfficer                Date  \\\n",
       "0      E MAIN ST    CPD         2005   Abdelgayed, Adam 2025-08-15 20:05:02   \n",
       "1      5TH ST SW    CPD         1841       Ritter, Kobe 2025-08-15 18:41:18   \n",
       "2  1ST ST S, 201    CPD         1512     Burnett, James 2025-08-15 15:12:37   \n",
       "3  BAINBRIDGE ST    CPD         1207  Eckenroth, Rachel 2025-08-15 12:07:48   \n",
       "4      MAIN ST N    CPD         0955    Pendleton, Eric 2025-08-15 09:55:33   \n",
       "\n",
       "               DateString DayOfWeek  Weekend  Season  HourAMPM  TimeOfDay  \\\n",
       "0  2025-08-15 08:05:02 PM    Friday    False  Summer  08:05 PM    Evening   \n",
       "1  2025-08-15 06:41:18 PM    Friday    False  Summer  06:41 PM    Evening   \n",
       "2  2025-08-15 03:12:37 PM    Friday    False  Summer  03:12 PM  Afternoon   \n",
       "3  2025-08-15 12:07:48 PM    Friday    False  Summer  12:07 PM  Afternoon   \n",
       "4  2025-08-15 09:55:33 AM    Friday    False  Summer  09:55 AM    Morning   \n",
       "\n",
       "           FullStreet        lat        lon  \n",
       "0       200 E MAIN ST  38.030572 -78.480764  \n",
       "1      1100 5TH ST SW  38.017130 -78.497806  \n",
       "2  1000 1ST ST S, 201  38.020474 -78.486881  \n",
       "3   500 BAINBRIDGE ST  38.023275 -78.472513  \n",
       "4       600 MAIN ST N        NaN        NaN  "
      ]
     },
     "execution_count": 9,
     "metadata": {},
     "output_type": "execute_result"
    }
   ],
   "source": [
    "# Combine BlockNumber and StreetName into a full address string\n",
    "df['FullStreet'] = df['BlockNumber'].astype(str) + \" \" + df['StreetName']\n",
    "\n",
    "# --- Step 1: Setup the Google Maps Client and Cache ---\n",
    "gmaps = googlemaps.Client(key=GOOGLE_API_KEY)\n",
    "\n",
    "# Try to load cached geocoding results if available.\n",
    "try:\n",
    "    with open(\"geocode_cache_google.pkl\", \"rb\") as f:\n",
    "        street_coords = pickle.load(f)\n",
    "    print(\"Loaded geocode cache.\")\n",
    "except FileNotFoundError:\n",
    "    street_coords = {}\n",
    "    print(\"No cache found; starting fresh.\")\n",
    "\n",
    "def geocode_address(address):\n",
    "    try:\n",
    "        # Append city and state to help geocoding\n",
    "        result = gmaps.geocode(f\"{address}, Charlottesville, VA\")\n",
    "        if result:\n",
    "            lat = result[0]['geometry']['location']['lat']\n",
    "            lon = result[0]['geometry']['location']['lng']\n",
    "            return lat, lon\n",
    "    except Exception as e:\n",
    "        print(f\"Error geocoding {address}: {e}\")\n",
    "    return None, None\n",
    "\n",
    "# --- Step 2: Geocode Only New Addresses ---\n",
    "unique_addresses = df['FullStreet'].unique()\n",
    "for address in unique_addresses:\n",
    "    if address not in street_coords:\n",
    "        lat, lon = geocode_address(address)\n",
    "        street_coords[address] = (lat, lon)\n",
    "        print(f\"Geocoded {address}: {lat}, {lon}\")\n",
    "\n",
    "# Save the updated cache to disk.\n",
    "with open(\"geocode_cache_google.pkl\", \"wb\") as f:\n",
    "    pickle.dump(street_coords, f)\n",
    "    print(\"Geocode cache updated and saved.\")\n",
    "\n",
    "# --- Step 3: Map Coordinates Back to DataFrame ---\n",
    "df['lat'] = df['FullStreet'].map(lambda s: street_coords.get(s, (None, None))[0])\n",
    "df['lon'] = df['FullStreet'].map(lambda s: street_coords.get(s, (None, None))[1])\n",
    "\n",
    "df.head()"
   ]
  },
  {
   "cell_type": "markdown",
   "id": "098caa1f",
   "metadata": {
    "papermill": {
     "duration": 0.004444,
     "end_time": "2025-08-18T01:11:00.888973",
     "exception": false,
     "start_time": "2025-08-18T01:11:00.884529",
     "status": "completed"
    },
    "tags": []
   },
   "source": [
    "### Neighborhood"
   ]
  },
  {
   "cell_type": "code",
   "execution_count": 10,
   "id": "8db348f3",
   "metadata": {
    "execution": {
     "iopub.execute_input": "2025-08-18T01:11:00.898872Z",
     "iopub.status.busy": "2025-08-18T01:11:00.898478Z",
     "iopub.status.idle": "2025-08-18T01:11:03.503304Z",
     "shell.execute_reply": "2025-08-18T01:11:03.502533Z"
    },
    "papermill": {
     "duration": 2.611017,
     "end_time": "2025-08-18T01:11:03.504343",
     "exception": false,
     "start_time": "2025-08-18T01:11:00.893326",
     "status": "completed"
    },
    "tags": []
   },
   "outputs": [
    {
     "name": "stdout",
     "output_type": "stream",
     "text": [
      "Loaded neighborhood cache.\n",
      "Error getting neighborhood for nan, nan: HTTP Error: 400\n",
      "Error getting neighborhood for nan, nan: HTTP Error: 400\n"
     ]
    },
    {
     "name": "stdout",
     "output_type": "stream",
     "text": [
      "Error getting neighborhood for nan, nan: HTTP Error: 400\n"
     ]
    },
    {
     "name": "stdout",
     "output_type": "stream",
     "text": [
      "Error getting neighborhood for nan, nan: HTTP Error: 400\n",
      "Error getting neighborhood for nan, nan: HTTP Error: 400\n",
      "Error getting neighborhood for nan, nan: HTTP Error: 400\n",
      "Error getting neighborhood for nan, nan: HTTP Error: 400\n",
      "Error getting neighborhood for nan, nan: HTTP Error: 400\n"
     ]
    },
    {
     "name": "stdout",
     "output_type": "stream",
     "text": [
      "Error getting neighborhood for nan, nan: HTTP Error: 400\n"
     ]
    },
    {
     "name": "stdout",
     "output_type": "stream",
     "text": [
      "Error getting neighborhood for nan, nan: HTTP Error: 400\n",
      "Error getting neighborhood for nan, nan: HTTP Error: 400\n",
      "Error getting neighborhood for nan, nan: HTTP Error: 400\n",
      "Error getting neighborhood for nan, nan: HTTP Error: 400\n",
      "Error getting neighborhood for nan, nan: HTTP Error: 400\n",
      "Error getting neighborhood for nan, nan: HTTP Error: 400\n"
     ]
    },
    {
     "name": "stdout",
     "output_type": "stream",
     "text": [
      "Error getting neighborhood for nan, nan: HTTP Error: 400\n"
     ]
    },
    {
     "name": "stdout",
     "output_type": "stream",
     "text": [
      "Error getting neighborhood for nan, nan: HTTP Error: 400\n",
      "Error getting neighborhood for nan, nan: HTTP Error: 400\n",
      "Error getting neighborhood for nan, nan: HTTP Error: 400\n",
      "Error getting neighborhood for nan, nan: HTTP Error: 400\n",
      "Error getting neighborhood for nan, nan: HTTP Error: 400\n",
      "Error getting neighborhood for nan, nan: HTTP Error: 400\n",
      "Error getting neighborhood for nan, nan: HTTP Error: 400\n"
     ]
    },
    {
     "name": "stdout",
     "output_type": "stream",
     "text": [
      "Error getting neighborhood for nan, nan: HTTP Error: 400\n"
     ]
    },
    {
     "name": "stdout",
     "output_type": "stream",
     "text": [
      "Error getting neighborhood for nan, nan: HTTP Error: 400\n",
      "Error getting neighborhood for nan, nan: HTTP Error: 400\n",
      "Error getting neighborhood for nan, nan: HTTP Error: 400\n",
      "Error getting neighborhood for nan, nan: HTTP Error: 400\n",
      "Error getting neighborhood for nan, nan: HTTP Error: 400\n",
      "Error getting neighborhood for nan, nan: HTTP Error: 400\n",
      "Error getting neighborhood for nan, nan: HTTP Error: 400\n",
      "Error getting neighborhood for nan, nan: HTTP Error: 400\n"
     ]
    },
    {
     "name": "stdout",
     "output_type": "stream",
     "text": [
      "Error getting neighborhood for nan, nan: HTTP Error: 400\n",
      "Error getting neighborhood for nan, nan: HTTP Error: 400\n"
     ]
    },
    {
     "name": "stdout",
     "output_type": "stream",
     "text": [
      "Error getting neighborhood for nan, nan: HTTP Error: 400\n",
      "Error getting neighborhood for nan, nan: HTTP Error: 400\n",
      "Error getting neighborhood for nan, nan: HTTP Error: 400\n",
      "Error getting neighborhood for nan, nan: HTTP Error: 400\n",
      "Error getting neighborhood for nan, nan: HTTP Error: 400\n",
      "Error getting neighborhood for nan, nan: HTTP Error: 400\n",
      "Error getting neighborhood for nan, nan: HTTP Error: 400\n",
      "Error getting neighborhood for nan, nan: HTTP Error: 400\n",
      "Error getting neighborhood for nan, nan: HTTP Error: 400\n"
     ]
    },
    {
     "name": "stdout",
     "output_type": "stream",
     "text": [
      "Error getting neighborhood for nan, nan: HTTP Error: 400\n",
      "Error getting neighborhood for nan, nan: HTTP Error: 400\n",
      "Error getting neighborhood for nan, nan: HTTP Error: 400\n"
     ]
    },
    {
     "name": "stdout",
     "output_type": "stream",
     "text": [
      "Error getting neighborhood for nan, nan: HTTP Error: 400\n",
      "Error getting neighborhood for nan, nan: HTTP Error: 400\n",
      "Error getting neighborhood for nan, nan: HTTP Error: 400\n",
      "Error getting neighborhood for nan, nan: HTTP Error: 400\n",
      "Error getting neighborhood for nan, nan: HTTP Error: 400\n",
      "Error getting neighborhood for nan, nan: HTTP Error: 400\n",
      "Error getting neighborhood for nan, nan: HTTP Error: 400\n"
     ]
    },
    {
     "name": "stdout",
     "output_type": "stream",
     "text": [
      "Error getting neighborhood for nan, nan: HTTP Error: 400\n",
      "Error getting neighborhood for nan, nan: HTTP Error: 400\n",
      "Error getting neighborhood for nan, nan: HTTP Error: 400\n"
     ]
    },
    {
     "name": "stdout",
     "output_type": "stream",
     "text": [
      "Error getting neighborhood for nan, nan: HTTP Error: 400\n",
      "Error getting neighborhood for nan, nan: HTTP Error: 400\n",
      "Error getting neighborhood for nan, nan: HTTP Error: 400\n",
      "Error getting neighborhood for nan, nan: HTTP Error: 400\n",
      "Error getting neighborhood for nan, nan: HTTP Error: 400\n",
      "Error getting neighborhood for nan, nan: HTTP Error: 400\n",
      "Error getting neighborhood for nan, nan: HTTP Error: 400\n",
      "Error getting neighborhood for nan, nan: HTTP Error: 400\n"
     ]
    },
    {
     "name": "stdout",
     "output_type": "stream",
     "text": [
      "Error getting neighborhood for nan, nan: HTTP Error: 400\n",
      "Error getting neighborhood for nan, nan: HTTP Error: 400\n",
      "Error getting neighborhood for nan, nan: HTTP Error: 400\n"
     ]
    },
    {
     "name": "stdout",
     "output_type": "stream",
     "text": [
      "Error getting neighborhood for nan, nan: HTTP Error: 400\n",
      "Error getting neighborhood for nan, nan: HTTP Error: 400\n",
      "Error getting neighborhood for nan, nan: HTTP Error: 400\n",
      "Error getting neighborhood for nan, nan: HTTP Error: 400\n",
      "Error getting neighborhood for nan, nan: HTTP Error: 400\n",
      "Error getting neighborhood for nan, nan: HTTP Error: 400\n",
      "Error getting neighborhood for nan, nan: HTTP Error: 400\n",
      "Error getting neighborhood for nan, nan: HTTP Error: 400\n"
     ]
    },
    {
     "name": "stdout",
     "output_type": "stream",
     "text": [
      "Error getting neighborhood for nan, nan: HTTP Error: 400\n",
      "Error getting neighborhood for nan, nan: HTTP Error: 400\n",
      "Error getting neighborhood for nan, nan: HTTP Error: 400\n"
     ]
    },
    {
     "name": "stdout",
     "output_type": "stream",
     "text": [
      "Error getting neighborhood for nan, nan: HTTP Error: 400\n",
      "Error getting neighborhood for nan, nan: HTTP Error: 400\n",
      "Error getting neighborhood for nan, nan: HTTP Error: 400\n",
      "Error getting neighborhood for nan, nan: HTTP Error: 400\n",
      "Error getting neighborhood for nan, nan: HTTP Error: 400\n",
      "Error getting neighborhood for nan, nan: HTTP Error: 400\n",
      "Error getting neighborhood for nan, nan: HTTP Error: 400\n",
      "Error getting neighborhood for nan, nan: HTTP Error: 400\n"
     ]
    },
    {
     "name": "stdout",
     "output_type": "stream",
     "text": [
      "Error getting neighborhood for nan, nan: HTTP Error: 400\n",
      "Error getting neighborhood for nan, nan: HTTP Error: 400\n",
      "Error getting neighborhood for nan, nan: HTTP Error: 400\n"
     ]
    },
    {
     "name": "stdout",
     "output_type": "stream",
     "text": [
      "Error getting neighborhood for nan, nan: HTTP Error: 400\n",
      "Error getting neighborhood for nan, nan: HTTP Error: 400\n",
      "Error getting neighborhood for nan, nan: HTTP Error: 400\n",
      "Error getting neighborhood for nan, nan: HTTP Error: 400\n",
      "Error getting neighborhood for nan, nan: HTTP Error: 400\n",
      "Error getting neighborhood for nan, nan: HTTP Error: 400\n",
      "Error getting neighborhood for nan, nan: HTTP Error: 400\n",
      "Error getting neighborhood for nan, nan: HTTP Error: 400\n",
      "Error getting neighborhood for nan, nan: HTTP Error: 400\n"
     ]
    },
    {
     "name": "stdout",
     "output_type": "stream",
     "text": [
      "Error getting neighborhood for nan, nan: HTTP Error: 400\n",
      "Error getting neighborhood for nan, nan: HTTP Error: 400\n"
     ]
    },
    {
     "name": "stdout",
     "output_type": "stream",
     "text": [
      "Error getting neighborhood for nan, nan: HTTP Error: 400\n",
      "Error getting neighborhood for nan, nan: HTTP Error: 400\n",
      "Error getting neighborhood for nan, nan: HTTP Error: 400\n",
      "Error getting neighborhood for nan, nan: HTTP Error: 400\n",
      "Error getting neighborhood for nan, nan: HTTP Error: 400\n"
     ]
    },
    {
     "data": {
      "text/html": [
       "<div>\n",
       "<style scoped>\n",
       "    .dataframe tbody tr th:only-of-type {\n",
       "        vertical-align: middle;\n",
       "    }\n",
       "\n",
       "    .dataframe tbody tr th {\n",
       "        vertical-align: top;\n",
       "    }\n",
       "\n",
       "    .dataframe thead th {\n",
       "        text-align: right;\n",
       "    }\n",
       "</style>\n",
       "<table border=\"1\" class=\"dataframe\">\n",
       "  <thead>\n",
       "    <tr style=\"text-align: right;\">\n",
       "      <th></th>\n",
       "      <th>RecordID</th>\n",
       "      <th>Offense</th>\n",
       "      <th>IncidentID</th>\n",
       "      <th>BlockNumber</th>\n",
       "      <th>StreetName</th>\n",
       "      <th>Agency</th>\n",
       "      <th>HourReported</th>\n",
       "      <th>ReportingOfficer</th>\n",
       "      <th>Date</th>\n",
       "      <th>DateString</th>\n",
       "      <th>DayOfWeek</th>\n",
       "      <th>Weekend</th>\n",
       "      <th>Season</th>\n",
       "      <th>HourAMPM</th>\n",
       "      <th>TimeOfDay</th>\n",
       "      <th>FullStreet</th>\n",
       "      <th>lat</th>\n",
       "      <th>lon</th>\n",
       "      <th>neighborhood</th>\n",
       "    </tr>\n",
       "  </thead>\n",
       "  <tbody>\n",
       "    <tr>\n",
       "      <th>0</th>\n",
       "      <td>1</td>\n",
       "      <td>Disturbance - Non Domestic</td>\n",
       "      <td>202500028975</td>\n",
       "      <td>200</td>\n",
       "      <td>E MAIN ST</td>\n",
       "      <td>CPD</td>\n",
       "      <td>2005</td>\n",
       "      <td>Abdelgayed, Adam</td>\n",
       "      <td>2025-08-15 20:05:02</td>\n",
       "      <td>2025-08-15 08:05:02 PM</td>\n",
       "      <td>Friday</td>\n",
       "      <td>False</td>\n",
       "      <td>Summer</td>\n",
       "      <td>08:05 PM</td>\n",
       "      <td>Evening</td>\n",
       "      <td>200 E MAIN ST</td>\n",
       "      <td>38.030572</td>\n",
       "      <td>-78.480764</td>\n",
       "      <td>Downtown Mall</td>\n",
       "    </tr>\n",
       "    <tr>\n",
       "      <th>1</th>\n",
       "      <td>2</td>\n",
       "      <td>Drug Equipment Violation</td>\n",
       "      <td>202500028967</td>\n",
       "      <td>1100</td>\n",
       "      <td>5TH ST SW</td>\n",
       "      <td>CPD</td>\n",
       "      <td>1841</td>\n",
       "      <td>Ritter, Kobe</td>\n",
       "      <td>2025-08-15 18:41:18</td>\n",
       "      <td>2025-08-15 06:41:18 PM</td>\n",
       "      <td>Friday</td>\n",
       "      <td>False</td>\n",
       "      <td>Summer</td>\n",
       "      <td>06:41 PM</td>\n",
       "      <td>Evening</td>\n",
       "      <td>1100 5TH ST SW</td>\n",
       "      <td>38.017130</td>\n",
       "      <td>-78.497806</td>\n",
       "      <td>Johnson Village</td>\n",
       "    </tr>\n",
       "    <tr>\n",
       "      <th>2</th>\n",
       "      <td>3</td>\n",
       "      <td>Suspicious Activity</td>\n",
       "      <td>202500028937</td>\n",
       "      <td>1000</td>\n",
       "      <td>1ST ST S, 201</td>\n",
       "      <td>CPD</td>\n",
       "      <td>1512</td>\n",
       "      <td>Burnett, James</td>\n",
       "      <td>2025-08-15 15:12:37</td>\n",
       "      <td>2025-08-15 03:12:37 PM</td>\n",
       "      <td>Friday</td>\n",
       "      <td>False</td>\n",
       "      <td>Summer</td>\n",
       "      <td>03:12 PM</td>\n",
       "      <td>Afternoon</td>\n",
       "      <td>1000 1ST ST S, 201</td>\n",
       "      <td>38.020474</td>\n",
       "      <td>-78.486881</td>\n",
       "      <td>Ridge St.</td>\n",
       "    </tr>\n",
       "    <tr>\n",
       "      <th>3</th>\n",
       "      <td>4</td>\n",
       "      <td>Larceny - From Motor Vehicle</td>\n",
       "      <td>202500028914</td>\n",
       "      <td>500</td>\n",
       "      <td>BAINBRIDGE ST</td>\n",
       "      <td>CPD</td>\n",
       "      <td>1207</td>\n",
       "      <td>Eckenroth, Rachel</td>\n",
       "      <td>2025-08-15 12:07:48</td>\n",
       "      <td>2025-08-15 12:07:48 PM</td>\n",
       "      <td>Friday</td>\n",
       "      <td>False</td>\n",
       "      <td>Summer</td>\n",
       "      <td>12:07 PM</td>\n",
       "      <td>Afternoon</td>\n",
       "      <td>500 BAINBRIDGE ST</td>\n",
       "      <td>38.023275</td>\n",
       "      <td>-78.472513</td>\n",
       "      <td>Belmont</td>\n",
       "    </tr>\n",
       "    <tr>\n",
       "      <th>4</th>\n",
       "      <td>5</td>\n",
       "      <td>Comm Relations Initiative - CRI</td>\n",
       "      <td>202500028894</td>\n",
       "      <td>600</td>\n",
       "      <td>MAIN ST N</td>\n",
       "      <td>CPD</td>\n",
       "      <td>0955</td>\n",
       "      <td>Pendleton, Eric</td>\n",
       "      <td>2025-08-15 09:55:33</td>\n",
       "      <td>2025-08-15 09:55:33 AM</td>\n",
       "      <td>Friday</td>\n",
       "      <td>False</td>\n",
       "      <td>Summer</td>\n",
       "      <td>09:55 AM</td>\n",
       "      <td>Morning</td>\n",
       "      <td>600 MAIN ST N</td>\n",
       "      <td>NaN</td>\n",
       "      <td>NaN</td>\n",
       "      <td>N/A</td>\n",
       "    </tr>\n",
       "  </tbody>\n",
       "</table>\n",
       "</div>"
      ],
      "text/plain": [
       "   RecordID                          Offense    IncidentID BlockNumber  \\\n",
       "0         1       Disturbance - Non Domestic  202500028975         200   \n",
       "1         2         Drug Equipment Violation  202500028967        1100   \n",
       "2         3              Suspicious Activity  202500028937        1000   \n",
       "3         4     Larceny - From Motor Vehicle  202500028914         500   \n",
       "4         5  Comm Relations Initiative - CRI  202500028894         600   \n",
       "\n",
       "      StreetName Agency HourReported   ReportingOfficer                Date  \\\n",
       "0      E MAIN ST    CPD         2005   Abdelgayed, Adam 2025-08-15 20:05:02   \n",
       "1      5TH ST SW    CPD         1841       Ritter, Kobe 2025-08-15 18:41:18   \n",
       "2  1ST ST S, 201    CPD         1512     Burnett, James 2025-08-15 15:12:37   \n",
       "3  BAINBRIDGE ST    CPD         1207  Eckenroth, Rachel 2025-08-15 12:07:48   \n",
       "4      MAIN ST N    CPD         0955    Pendleton, Eric 2025-08-15 09:55:33   \n",
       "\n",
       "               DateString DayOfWeek  Weekend  Season  HourAMPM  TimeOfDay  \\\n",
       "0  2025-08-15 08:05:02 PM    Friday    False  Summer  08:05 PM    Evening   \n",
       "1  2025-08-15 06:41:18 PM    Friday    False  Summer  06:41 PM    Evening   \n",
       "2  2025-08-15 03:12:37 PM    Friday    False  Summer  03:12 PM  Afternoon   \n",
       "3  2025-08-15 12:07:48 PM    Friday    False  Summer  12:07 PM  Afternoon   \n",
       "4  2025-08-15 09:55:33 AM    Friday    False  Summer  09:55 AM    Morning   \n",
       "\n",
       "           FullStreet        lat        lon     neighborhood  \n",
       "0       200 E MAIN ST  38.030572 -78.480764    Downtown Mall  \n",
       "1      1100 5TH ST SW  38.017130 -78.497806  Johnson Village  \n",
       "2  1000 1ST ST S, 201  38.020474 -78.486881        Ridge St.  \n",
       "3   500 BAINBRIDGE ST  38.023275 -78.472513          Belmont  \n",
       "4       600 MAIN ST N        NaN        NaN              N/A  "
      ]
     },
     "execution_count": 10,
     "metadata": {},
     "output_type": "execute_result"
    }
   ],
   "source": [
    "# Initialize the Google Maps client.\n",
    "gmaps = googlemaps.Client(key=GOOGLE_API_KEY)\n",
    "\n",
    "# Try to load a persistent neighborhood cache if available.\n",
    "try:\n",
    "    with open(\"neighborhood_cache.pkl\", \"rb\") as f:\n",
    "        neighborhood_cache = pickle.load(f)\n",
    "    print(\"Loaded neighborhood cache.\")\n",
    "except FileNotFoundError:\n",
    "    neighborhood_cache = {}\n",
    "    print(\"No neighborhood cache found; starting fresh.\")\n",
    "\n",
    "def get_neighborhood(lat, lon):\n",
    "    \"\"\"\n",
    "    Reverse geocodes a latitude and longitude to retrieve the neighborhood.\n",
    "    Caches results to speed up subsequent lookups.\n",
    "    \"\"\"\n",
    "    key = (lat, lon)\n",
    "    if key in neighborhood_cache:\n",
    "        return neighborhood_cache[key]\n",
    "    \n",
    "    try:\n",
    "        result = gmaps.reverse_geocode((lat, lon))\n",
    "        if result:\n",
    "            # Look for the 'neighborhood' component in the first result.\n",
    "            for component in result[0]['address_components']:\n",
    "                if 'neighborhood' in component['types']:\n",
    "                    neighborhood = component['long_name']\n",
    "                    neighborhood_cache[key] = neighborhood\n",
    "                    return neighborhood\n",
    "            # If no neighborhood is found, return \"N/A\"\n",
    "            neighborhood_cache[key] = \"N/A\"\n",
    "            return \"N/A\"\n",
    "    except Exception as e:\n",
    "        print(f\"Error getting neighborhood for {lat}, {lon}: {e}\")\n",
    "        return \"N/A\"\n",
    "    \n",
    "    # Pause to respect usage limits.\n",
    "    time.sleep(1)\n",
    "\n",
    "# Example usage: Apply to your DataFrame 'df' that already has 'lat' and 'lon' columns.\n",
    "df['neighborhood'] = df.apply(lambda row: get_neighborhood(row['lat'], row['lon']), axis=1)\n",
    "\n",
    "# Save the updated neighborhood cache.\n",
    "with open(\"neighborhood_cache.pkl\", \"wb\") as f:\n",
    "    pickle.dump(neighborhood_cache, f)\n",
    "\n",
    "df.head()\n"
   ]
  },
  {
   "cell_type": "markdown",
   "id": "a5848715",
   "metadata": {
    "papermill": {
     "duration": 0.005604,
     "end_time": "2025-08-18T01:11:03.516103",
     "exception": false,
     "start_time": "2025-08-18T01:11:03.510499",
     "status": "completed"
    },
    "tags": []
   },
   "source": [
    "### Zip"
   ]
  },
  {
   "cell_type": "code",
   "execution_count": 11,
   "id": "89bdc377",
   "metadata": {
    "execution": {
     "iopub.execute_input": "2025-08-18T01:11:03.528206Z",
     "iopub.status.busy": "2025-08-18T01:11:03.527943Z",
     "iopub.status.idle": "2025-08-18T01:12:49.168287Z",
     "shell.execute_reply": "2025-08-18T01:12:49.167553Z"
    },
    "papermill": {
     "duration": 105.647704,
     "end_time": "2025-08-18T01:12:49.169366",
     "exception": false,
     "start_time": "2025-08-18T01:11:03.521662",
     "status": "completed"
    },
    "tags": []
   },
   "outputs": [
    {
     "name": "stdout",
     "output_type": "stream",
     "text": [
      "Loaded zip cache.\n",
      "Error getting ZIP for nan, nan: Must be a coordinate pair or Point\n"
     ]
    },
    {
     "name": "stdout",
     "output_type": "stream",
     "text": [
      "Error getting ZIP for nan, nan: Must be a coordinate pair or Point\n"
     ]
    },
    {
     "name": "stdout",
     "output_type": "stream",
     "text": [
      "Error getting ZIP for nan, nan: Must be a coordinate pair or Point\n"
     ]
    },
    {
     "name": "stdout",
     "output_type": "stream",
     "text": [
      "Error getting ZIP for nan, nan: Must be a coordinate pair or Point\n"
     ]
    },
    {
     "name": "stdout",
     "output_type": "stream",
     "text": [
      "Error getting ZIP for nan, nan: Must be a coordinate pair or Point\n"
     ]
    },
    {
     "name": "stdout",
     "output_type": "stream",
     "text": [
      "Error getting ZIP for nan, nan: Must be a coordinate pair or Point\n"
     ]
    },
    {
     "name": "stdout",
     "output_type": "stream",
     "text": [
      "Error getting ZIP for nan, nan: Must be a coordinate pair or Point\n"
     ]
    },
    {
     "name": "stdout",
     "output_type": "stream",
     "text": [
      "Error getting ZIP for nan, nan: Must be a coordinate pair or Point\n"
     ]
    },
    {
     "name": "stdout",
     "output_type": "stream",
     "text": [
      "Error getting ZIP for nan, nan: Must be a coordinate pair or Point\n"
     ]
    },
    {
     "name": "stdout",
     "output_type": "stream",
     "text": [
      "Error getting ZIP for nan, nan: Must be a coordinate pair or Point\n"
     ]
    },
    {
     "name": "stdout",
     "output_type": "stream",
     "text": [
      "Error getting ZIP for nan, nan: Must be a coordinate pair or Point\n"
     ]
    },
    {
     "name": "stdout",
     "output_type": "stream",
     "text": [
      "Error getting ZIP for nan, nan: Must be a coordinate pair or Point\n"
     ]
    },
    {
     "name": "stdout",
     "output_type": "stream",
     "text": [
      "Error getting ZIP for nan, nan: Must be a coordinate pair or Point\n"
     ]
    },
    {
     "name": "stdout",
     "output_type": "stream",
     "text": [
      "Error getting ZIP for nan, nan: Must be a coordinate pair or Point\n"
     ]
    },
    {
     "name": "stdout",
     "output_type": "stream",
     "text": [
      "Error getting ZIP for nan, nan: Must be a coordinate pair or Point\n"
     ]
    },
    {
     "name": "stdout",
     "output_type": "stream",
     "text": [
      "Error getting ZIP for nan, nan: Must be a coordinate pair or Point\n"
     ]
    },
    {
     "name": "stdout",
     "output_type": "stream",
     "text": [
      "Error getting ZIP for nan, nan: Must be a coordinate pair or Point\n"
     ]
    },
    {
     "name": "stdout",
     "output_type": "stream",
     "text": [
      "Error getting ZIP for nan, nan: Must be a coordinate pair or Point\n"
     ]
    },
    {
     "name": "stdout",
     "output_type": "stream",
     "text": [
      "Error getting ZIP for nan, nan: Must be a coordinate pair or Point\n"
     ]
    },
    {
     "name": "stdout",
     "output_type": "stream",
     "text": [
      "Error getting ZIP for nan, nan: Must be a coordinate pair or Point\n"
     ]
    },
    {
     "name": "stdout",
     "output_type": "stream",
     "text": [
      "Error getting ZIP for nan, nan: Must be a coordinate pair or Point\n"
     ]
    },
    {
     "name": "stdout",
     "output_type": "stream",
     "text": [
      "Error getting ZIP for nan, nan: Must be a coordinate pair or Point\n"
     ]
    },
    {
     "name": "stdout",
     "output_type": "stream",
     "text": [
      "Error getting ZIP for nan, nan: Must be a coordinate pair or Point\n"
     ]
    },
    {
     "name": "stdout",
     "output_type": "stream",
     "text": [
      "Error getting ZIP for nan, nan: Must be a coordinate pair or Point\n"
     ]
    },
    {
     "name": "stdout",
     "output_type": "stream",
     "text": [
      "Error getting ZIP for nan, nan: Must be a coordinate pair or Point\n"
     ]
    },
    {
     "name": "stdout",
     "output_type": "stream",
     "text": [
      "Error getting ZIP for nan, nan: Must be a coordinate pair or Point\n"
     ]
    },
    {
     "name": "stdout",
     "output_type": "stream",
     "text": [
      "Error getting ZIP for nan, nan: Must be a coordinate pair or Point\n"
     ]
    },
    {
     "name": "stdout",
     "output_type": "stream",
     "text": [
      "Error getting ZIP for nan, nan: Must be a coordinate pair or Point\n"
     ]
    },
    {
     "name": "stdout",
     "output_type": "stream",
     "text": [
      "Error getting ZIP for nan, nan: Must be a coordinate pair or Point\n"
     ]
    },
    {
     "name": "stdout",
     "output_type": "stream",
     "text": [
      "Error getting ZIP for nan, nan: Must be a coordinate pair or Point\n"
     ]
    },
    {
     "name": "stdout",
     "output_type": "stream",
     "text": [
      "Error getting ZIP for nan, nan: Must be a coordinate pair or Point\n"
     ]
    },
    {
     "name": "stdout",
     "output_type": "stream",
     "text": [
      "Error getting ZIP for nan, nan: Must be a coordinate pair or Point\n"
     ]
    },
    {
     "name": "stdout",
     "output_type": "stream",
     "text": [
      "Error getting ZIP for nan, nan: Must be a coordinate pair or Point\n"
     ]
    },
    {
     "name": "stdout",
     "output_type": "stream",
     "text": [
      "Error getting ZIP for nan, nan: Must be a coordinate pair or Point\n"
     ]
    },
    {
     "name": "stdout",
     "output_type": "stream",
     "text": [
      "Error getting ZIP for nan, nan: Must be a coordinate pair or Point\n"
     ]
    },
    {
     "name": "stdout",
     "output_type": "stream",
     "text": [
      "Error getting ZIP for nan, nan: Must be a coordinate pair or Point\n"
     ]
    },
    {
     "name": "stdout",
     "output_type": "stream",
     "text": [
      "Error getting ZIP for nan, nan: Must be a coordinate pair or Point\n"
     ]
    },
    {
     "name": "stdout",
     "output_type": "stream",
     "text": [
      "Error getting ZIP for nan, nan: Must be a coordinate pair or Point\n"
     ]
    },
    {
     "name": "stdout",
     "output_type": "stream",
     "text": [
      "Error getting ZIP for nan, nan: Must be a coordinate pair or Point\n"
     ]
    },
    {
     "name": "stdout",
     "output_type": "stream",
     "text": [
      "Error getting ZIP for nan, nan: Must be a coordinate pair or Point\n"
     ]
    },
    {
     "name": "stdout",
     "output_type": "stream",
     "text": [
      "Error getting ZIP for nan, nan: Must be a coordinate pair or Point\n"
     ]
    },
    {
     "name": "stdout",
     "output_type": "stream",
     "text": [
      "Error getting ZIP for nan, nan: Must be a coordinate pair or Point\n"
     ]
    },
    {
     "name": "stdout",
     "output_type": "stream",
     "text": [
      "Error getting ZIP for nan, nan: Must be a coordinate pair or Point\n"
     ]
    },
    {
     "name": "stdout",
     "output_type": "stream",
     "text": [
      "Error getting ZIP for nan, nan: Must be a coordinate pair or Point\n"
     ]
    },
    {
     "name": "stdout",
     "output_type": "stream",
     "text": [
      "Error getting ZIP for nan, nan: Must be a coordinate pair or Point\n"
     ]
    },
    {
     "name": "stdout",
     "output_type": "stream",
     "text": [
      "Error getting ZIP for nan, nan: Must be a coordinate pair or Point\n"
     ]
    },
    {
     "name": "stdout",
     "output_type": "stream",
     "text": [
      "Error getting ZIP for nan, nan: Must be a coordinate pair or Point\n"
     ]
    },
    {
     "name": "stdout",
     "output_type": "stream",
     "text": [
      "Error getting ZIP for nan, nan: Must be a coordinate pair or Point\n"
     ]
    },
    {
     "name": "stdout",
     "output_type": "stream",
     "text": [
      "Error getting ZIP for nan, nan: Must be a coordinate pair or Point\n"
     ]
    },
    {
     "name": "stdout",
     "output_type": "stream",
     "text": [
      "Error getting ZIP for nan, nan: Must be a coordinate pair or Point\n"
     ]
    },
    {
     "name": "stdout",
     "output_type": "stream",
     "text": [
      "Error getting ZIP for nan, nan: Must be a coordinate pair or Point\n"
     ]
    },
    {
     "name": "stdout",
     "output_type": "stream",
     "text": [
      "Error getting ZIP for nan, nan: Must be a coordinate pair or Point\n"
     ]
    },
    {
     "name": "stdout",
     "output_type": "stream",
     "text": [
      "Error getting ZIP for nan, nan: Must be a coordinate pair or Point\n"
     ]
    },
    {
     "name": "stdout",
     "output_type": "stream",
     "text": [
      "Error getting ZIP for nan, nan: Must be a coordinate pair or Point\n"
     ]
    },
    {
     "name": "stdout",
     "output_type": "stream",
     "text": [
      "Error getting ZIP for nan, nan: Must be a coordinate pair or Point\n"
     ]
    },
    {
     "name": "stdout",
     "output_type": "stream",
     "text": [
      "Error getting ZIP for nan, nan: Must be a coordinate pair or Point\n"
     ]
    },
    {
     "name": "stdout",
     "output_type": "stream",
     "text": [
      "Error getting ZIP for nan, nan: Must be a coordinate pair or Point\n"
     ]
    },
    {
     "name": "stdout",
     "output_type": "stream",
     "text": [
      "Error getting ZIP for nan, nan: Must be a coordinate pair or Point\n"
     ]
    },
    {
     "name": "stdout",
     "output_type": "stream",
     "text": [
      "Error getting ZIP for nan, nan: Must be a coordinate pair or Point\n"
     ]
    },
    {
     "name": "stdout",
     "output_type": "stream",
     "text": [
      "Error getting ZIP for nan, nan: Must be a coordinate pair or Point\n"
     ]
    },
    {
     "name": "stdout",
     "output_type": "stream",
     "text": [
      "Error getting ZIP for nan, nan: Must be a coordinate pair or Point\n"
     ]
    },
    {
     "name": "stdout",
     "output_type": "stream",
     "text": [
      "Error getting ZIP for nan, nan: Must be a coordinate pair or Point\n"
     ]
    },
    {
     "name": "stdout",
     "output_type": "stream",
     "text": [
      "Error getting ZIP for nan, nan: Must be a coordinate pair or Point\n"
     ]
    },
    {
     "name": "stdout",
     "output_type": "stream",
     "text": [
      "Error getting ZIP for nan, nan: Must be a coordinate pair or Point\n"
     ]
    },
    {
     "name": "stdout",
     "output_type": "stream",
     "text": [
      "Error getting ZIP for nan, nan: Must be a coordinate pair or Point\n"
     ]
    },
    {
     "name": "stdout",
     "output_type": "stream",
     "text": [
      "Error getting ZIP for nan, nan: Must be a coordinate pair or Point\n"
     ]
    },
    {
     "name": "stdout",
     "output_type": "stream",
     "text": [
      "Error getting ZIP for nan, nan: Must be a coordinate pair or Point\n"
     ]
    },
    {
     "name": "stdout",
     "output_type": "stream",
     "text": [
      "Error getting ZIP for nan, nan: Must be a coordinate pair or Point\n"
     ]
    },
    {
     "name": "stdout",
     "output_type": "stream",
     "text": [
      "Error getting ZIP for nan, nan: Must be a coordinate pair or Point\n"
     ]
    },
    {
     "name": "stdout",
     "output_type": "stream",
     "text": [
      "Error getting ZIP for nan, nan: Must be a coordinate pair or Point\n"
     ]
    },
    {
     "name": "stdout",
     "output_type": "stream",
     "text": [
      "Error getting ZIP for nan, nan: Must be a coordinate pair or Point\n"
     ]
    },
    {
     "name": "stdout",
     "output_type": "stream",
     "text": [
      "Error getting ZIP for nan, nan: Must be a coordinate pair or Point\n"
     ]
    },
    {
     "name": "stdout",
     "output_type": "stream",
     "text": [
      "Error getting ZIP for nan, nan: Must be a coordinate pair or Point\n"
     ]
    },
    {
     "name": "stdout",
     "output_type": "stream",
     "text": [
      "Error getting ZIP for nan, nan: Must be a coordinate pair or Point\n"
     ]
    },
    {
     "name": "stdout",
     "output_type": "stream",
     "text": [
      "Error getting ZIP for nan, nan: Must be a coordinate pair or Point\n"
     ]
    },
    {
     "name": "stdout",
     "output_type": "stream",
     "text": [
      "Error getting ZIP for nan, nan: Must be a coordinate pair or Point\n"
     ]
    },
    {
     "name": "stdout",
     "output_type": "stream",
     "text": [
      "Error getting ZIP for nan, nan: Must be a coordinate pair or Point\n"
     ]
    },
    {
     "name": "stdout",
     "output_type": "stream",
     "text": [
      "Error getting ZIP for nan, nan: Must be a coordinate pair or Point\n"
     ]
    },
    {
     "name": "stdout",
     "output_type": "stream",
     "text": [
      "Error getting ZIP for nan, nan: Must be a coordinate pair or Point\n"
     ]
    },
    {
     "name": "stdout",
     "output_type": "stream",
     "text": [
      "Error getting ZIP for nan, nan: Must be a coordinate pair or Point\n"
     ]
    },
    {
     "name": "stdout",
     "output_type": "stream",
     "text": [
      "Error getting ZIP for nan, nan: Must be a coordinate pair or Point\n"
     ]
    },
    {
     "name": "stdout",
     "output_type": "stream",
     "text": [
      "Error getting ZIP for nan, nan: Must be a coordinate pair or Point\n"
     ]
    },
    {
     "name": "stdout",
     "output_type": "stream",
     "text": [
      "Error getting ZIP for nan, nan: Must be a coordinate pair or Point\n"
     ]
    },
    {
     "name": "stdout",
     "output_type": "stream",
     "text": [
      "Error getting ZIP for nan, nan: Must be a coordinate pair or Point\n"
     ]
    },
    {
     "name": "stdout",
     "output_type": "stream",
     "text": [
      "Error getting ZIP for nan, nan: Must be a coordinate pair or Point\n"
     ]
    },
    {
     "name": "stdout",
     "output_type": "stream",
     "text": [
      "Error getting ZIP for nan, nan: Must be a coordinate pair or Point\n"
     ]
    },
    {
     "name": "stdout",
     "output_type": "stream",
     "text": [
      "Error getting ZIP for nan, nan: Must be a coordinate pair or Point\n"
     ]
    },
    {
     "name": "stdout",
     "output_type": "stream",
     "text": [
      "Error getting ZIP for nan, nan: Must be a coordinate pair or Point\n"
     ]
    },
    {
     "name": "stdout",
     "output_type": "stream",
     "text": [
      "Error getting ZIP for nan, nan: Must be a coordinate pair or Point\n"
     ]
    },
    {
     "name": "stdout",
     "output_type": "stream",
     "text": [
      "Error getting ZIP for nan, nan: Must be a coordinate pair or Point\n"
     ]
    },
    {
     "name": "stdout",
     "output_type": "stream",
     "text": [
      "Error getting ZIP for nan, nan: Must be a coordinate pair or Point\n"
     ]
    },
    {
     "name": "stdout",
     "output_type": "stream",
     "text": [
      "Error getting ZIP for nan, nan: Must be a coordinate pair or Point\n"
     ]
    },
    {
     "name": "stdout",
     "output_type": "stream",
     "text": [
      "Error getting ZIP for nan, nan: Must be a coordinate pair or Point\n"
     ]
    },
    {
     "name": "stdout",
     "output_type": "stream",
     "text": [
      "Error getting ZIP for nan, nan: Must be a coordinate pair or Point\n"
     ]
    },
    {
     "name": "stdout",
     "output_type": "stream",
     "text": [
      "Error getting ZIP for nan, nan: Must be a coordinate pair or Point\n"
     ]
    },
    {
     "name": "stdout",
     "output_type": "stream",
     "text": [
      "Error getting ZIP for nan, nan: Must be a coordinate pair or Point\n"
     ]
    },
    {
     "name": "stdout",
     "output_type": "stream",
     "text": [
      "Error getting ZIP for nan, nan: Must be a coordinate pair or Point\n"
     ]
    },
    {
     "name": "stdout",
     "output_type": "stream",
     "text": [
      "Error getting ZIP for nan, nan: Must be a coordinate pair or Point\n"
     ]
    },
    {
     "name": "stdout",
     "output_type": "stream",
     "text": [
      "Error getting ZIP for nan, nan: Must be a coordinate pair or Point\n"
     ]
    },
    {
     "name": "stdout",
     "output_type": "stream",
     "text": [
      "Error getting ZIP for nan, nan: Must be a coordinate pair or Point\n"
     ]
    },
    {
     "name": "stdout",
     "output_type": "stream",
     "text": [
      "Error getting ZIP for nan, nan: Must be a coordinate pair or Point\n"
     ]
    },
    {
     "name": "stdout",
     "output_type": "stream",
     "text": [
      "Error getting ZIP for nan, nan: Must be a coordinate pair or Point\n"
     ]
    },
    {
     "name": "stdout",
     "output_type": "stream",
     "text": [
      "Error getting ZIP for nan, nan: Must be a coordinate pair or Point\n"
     ]
    },
    {
     "name": "stdout",
     "output_type": "stream",
     "text": [
      "Error getting ZIP for nan, nan: Must be a coordinate pair or Point\n"
     ]
    },
    {
     "name": "stdout",
     "output_type": "stream",
     "text": [
      "Error getting ZIP for nan, nan: Must be a coordinate pair or Point\n"
     ]
    },
    {
     "data": {
      "text/html": [
       "<div>\n",
       "<style scoped>\n",
       "    .dataframe tbody tr th:only-of-type {\n",
       "        vertical-align: middle;\n",
       "    }\n",
       "\n",
       "    .dataframe tbody tr th {\n",
       "        vertical-align: top;\n",
       "    }\n",
       "\n",
       "    .dataframe thead th {\n",
       "        text-align: right;\n",
       "    }\n",
       "</style>\n",
       "<table border=\"1\" class=\"dataframe\">\n",
       "  <thead>\n",
       "    <tr style=\"text-align: right;\">\n",
       "      <th></th>\n",
       "      <th>RecordID</th>\n",
       "      <th>Offense</th>\n",
       "      <th>IncidentID</th>\n",
       "      <th>BlockNumber</th>\n",
       "      <th>StreetName</th>\n",
       "      <th>Agency</th>\n",
       "      <th>HourReported</th>\n",
       "      <th>ReportingOfficer</th>\n",
       "      <th>Date</th>\n",
       "      <th>DateString</th>\n",
       "      <th>DayOfWeek</th>\n",
       "      <th>Weekend</th>\n",
       "      <th>Season</th>\n",
       "      <th>HourAMPM</th>\n",
       "      <th>TimeOfDay</th>\n",
       "      <th>FullStreet</th>\n",
       "      <th>lat</th>\n",
       "      <th>lon</th>\n",
       "      <th>neighborhood</th>\n",
       "      <th>zip</th>\n",
       "    </tr>\n",
       "  </thead>\n",
       "  <tbody>\n",
       "    <tr>\n",
       "      <th>0</th>\n",
       "      <td>1</td>\n",
       "      <td>Disturbance - Non Domestic</td>\n",
       "      <td>202500028975</td>\n",
       "      <td>200</td>\n",
       "      <td>E MAIN ST</td>\n",
       "      <td>CPD</td>\n",
       "      <td>2005</td>\n",
       "      <td>Abdelgayed, Adam</td>\n",
       "      <td>2025-08-15 20:05:02</td>\n",
       "      <td>2025-08-15 08:05:02 PM</td>\n",
       "      <td>Friday</td>\n",
       "      <td>False</td>\n",
       "      <td>Summer</td>\n",
       "      <td>08:05 PM</td>\n",
       "      <td>Evening</td>\n",
       "      <td>200 E MAIN ST</td>\n",
       "      <td>38.030572</td>\n",
       "      <td>-78.480764</td>\n",
       "      <td>Downtown Mall</td>\n",
       "      <td>22902</td>\n",
       "    </tr>\n",
       "    <tr>\n",
       "      <th>1</th>\n",
       "      <td>2</td>\n",
       "      <td>Drug Equipment Violation</td>\n",
       "      <td>202500028967</td>\n",
       "      <td>1100</td>\n",
       "      <td>5TH ST SW</td>\n",
       "      <td>CPD</td>\n",
       "      <td>1841</td>\n",
       "      <td>Ritter, Kobe</td>\n",
       "      <td>2025-08-15 18:41:18</td>\n",
       "      <td>2025-08-15 06:41:18 PM</td>\n",
       "      <td>Friday</td>\n",
       "      <td>False</td>\n",
       "      <td>Summer</td>\n",
       "      <td>06:41 PM</td>\n",
       "      <td>Evening</td>\n",
       "      <td>1100 5TH ST SW</td>\n",
       "      <td>38.017130</td>\n",
       "      <td>-78.497806</td>\n",
       "      <td>Johnson Village</td>\n",
       "      <td>22903</td>\n",
       "    </tr>\n",
       "    <tr>\n",
       "      <th>2</th>\n",
       "      <td>3</td>\n",
       "      <td>Suspicious Activity</td>\n",
       "      <td>202500028937</td>\n",
       "      <td>1000</td>\n",
       "      <td>1ST ST S, 201</td>\n",
       "      <td>CPD</td>\n",
       "      <td>1512</td>\n",
       "      <td>Burnett, James</td>\n",
       "      <td>2025-08-15 15:12:37</td>\n",
       "      <td>2025-08-15 03:12:37 PM</td>\n",
       "      <td>Friday</td>\n",
       "      <td>False</td>\n",
       "      <td>Summer</td>\n",
       "      <td>03:12 PM</td>\n",
       "      <td>Afternoon</td>\n",
       "      <td>1000 1ST ST S, 201</td>\n",
       "      <td>38.020474</td>\n",
       "      <td>-78.486881</td>\n",
       "      <td>Ridge St.</td>\n",
       "      <td>22902</td>\n",
       "    </tr>\n",
       "    <tr>\n",
       "      <th>3</th>\n",
       "      <td>4</td>\n",
       "      <td>Larceny - From Motor Vehicle</td>\n",
       "      <td>202500028914</td>\n",
       "      <td>500</td>\n",
       "      <td>BAINBRIDGE ST</td>\n",
       "      <td>CPD</td>\n",
       "      <td>1207</td>\n",
       "      <td>Eckenroth, Rachel</td>\n",
       "      <td>2025-08-15 12:07:48</td>\n",
       "      <td>2025-08-15 12:07:48 PM</td>\n",
       "      <td>Friday</td>\n",
       "      <td>False</td>\n",
       "      <td>Summer</td>\n",
       "      <td>12:07 PM</td>\n",
       "      <td>Afternoon</td>\n",
       "      <td>500 BAINBRIDGE ST</td>\n",
       "      <td>38.023275</td>\n",
       "      <td>-78.472513</td>\n",
       "      <td>Belmont</td>\n",
       "      <td>22903</td>\n",
       "    </tr>\n",
       "    <tr>\n",
       "      <th>4</th>\n",
       "      <td>5</td>\n",
       "      <td>Comm Relations Initiative - CRI</td>\n",
       "      <td>202500028894</td>\n",
       "      <td>600</td>\n",
       "      <td>MAIN ST N</td>\n",
       "      <td>CPD</td>\n",
       "      <td>0955</td>\n",
       "      <td>Pendleton, Eric</td>\n",
       "      <td>2025-08-15 09:55:33</td>\n",
       "      <td>2025-08-15 09:55:33 AM</td>\n",
       "      <td>Friday</td>\n",
       "      <td>False</td>\n",
       "      <td>Summer</td>\n",
       "      <td>09:55 AM</td>\n",
       "      <td>Morning</td>\n",
       "      <td>600 MAIN ST N</td>\n",
       "      <td>NaN</td>\n",
       "      <td>NaN</td>\n",
       "      <td>N/A</td>\n",
       "      <td>N/A</td>\n",
       "    </tr>\n",
       "  </tbody>\n",
       "</table>\n",
       "</div>"
      ],
      "text/plain": [
       "   RecordID                          Offense    IncidentID BlockNumber  \\\n",
       "0         1       Disturbance - Non Domestic  202500028975         200   \n",
       "1         2         Drug Equipment Violation  202500028967        1100   \n",
       "2         3              Suspicious Activity  202500028937        1000   \n",
       "3         4     Larceny - From Motor Vehicle  202500028914         500   \n",
       "4         5  Comm Relations Initiative - CRI  202500028894         600   \n",
       "\n",
       "      StreetName Agency HourReported   ReportingOfficer                Date  \\\n",
       "0      E MAIN ST    CPD         2005   Abdelgayed, Adam 2025-08-15 20:05:02   \n",
       "1      5TH ST SW    CPD         1841       Ritter, Kobe 2025-08-15 18:41:18   \n",
       "2  1ST ST S, 201    CPD         1512     Burnett, James 2025-08-15 15:12:37   \n",
       "3  BAINBRIDGE ST    CPD         1207  Eckenroth, Rachel 2025-08-15 12:07:48   \n",
       "4      MAIN ST N    CPD         0955    Pendleton, Eric 2025-08-15 09:55:33   \n",
       "\n",
       "               DateString DayOfWeek  Weekend  Season  HourAMPM  TimeOfDay  \\\n",
       "0  2025-08-15 08:05:02 PM    Friday    False  Summer  08:05 PM    Evening   \n",
       "1  2025-08-15 06:41:18 PM    Friday    False  Summer  06:41 PM    Evening   \n",
       "2  2025-08-15 03:12:37 PM    Friday    False  Summer  03:12 PM  Afternoon   \n",
       "3  2025-08-15 12:07:48 PM    Friday    False  Summer  12:07 PM  Afternoon   \n",
       "4  2025-08-15 09:55:33 AM    Friday    False  Summer  09:55 AM    Morning   \n",
       "\n",
       "           FullStreet        lat        lon     neighborhood    zip  \n",
       "0       200 E MAIN ST  38.030572 -78.480764    Downtown Mall  22902  \n",
       "1      1100 5TH ST SW  38.017130 -78.497806  Johnson Village  22903  \n",
       "2  1000 1ST ST S, 201  38.020474 -78.486881        Ridge St.  22902  \n",
       "3   500 BAINBRIDGE ST  38.023275 -78.472513          Belmont  22903  \n",
       "4       600 MAIN ST N        NaN        NaN              N/A    N/A  "
      ]
     },
     "execution_count": 11,
     "metadata": {},
     "output_type": "execute_result"
    }
   ],
   "source": [
    "# Initialize the geocoder.\n",
    "geolocator = Nominatim(user_agent=\"zip_lookup\")\n",
    "\n",
    "# Try to load a persistent ZIP cache if available.\n",
    "try:\n",
    "    with open(\"zip_cache.pkl\", \"rb\") as f:\n",
    "        zip_cache = pickle.load(f)\n",
    "    print(\"Loaded zip cache.\")\n",
    "except FileNotFoundError:\n",
    "    zip_cache = {}\n",
    "    print(\"No zip cache found; starting fresh.\")\n",
    "\n",
    "def get_zip(lat, lon):\n",
    "    \"\"\"\n",
    "    Reverse geocodes a latitude and longitude to retrieve the ZIP code.\n",
    "    Caches results to speed up subsequent lookups.\n",
    "    \"\"\"\n",
    "    key = (lat, lon)\n",
    "    if key in zip_cache:\n",
    "        return zip_cache[key]\n",
    "    \n",
    "    try:\n",
    "        location = geolocator.reverse((lat, lon), exactly_one=True, timeout=10)\n",
    "        address = location.raw.get('address', {})\n",
    "        postal_code = address.get('postcode', \"N/A\")\n",
    "    except Exception as e:\n",
    "        print(f\"Error getting ZIP for {lat}, {lon}: {e}\")\n",
    "        postal_code = \"N/A\"\n",
    "    \n",
    "    zip_cache[key] = postal_code\n",
    "    # Pause to respect the usage policy.\n",
    "    time.sleep(1)\n",
    "    return postal_code\n",
    "\n",
    "# Apply the function to each row in the DataFrame.\n",
    "df['zip'] = df.apply(lambda row: get_zip(row['lat'], row['lon']), axis=1)\n",
    "\n",
    "# Save the updated ZIP cache.\n",
    "with open(\"zip_cache.pkl\", \"wb\") as f:\n",
    "    pickle.dump(zip_cache, f)\n",
    "\n",
    "df.head()\n"
   ]
  },
  {
   "cell_type": "code",
   "execution_count": 12,
   "id": "719b3179",
   "metadata": {
    "execution": {
     "iopub.execute_input": "2025-08-18T01:12:49.191442Z",
     "iopub.status.busy": "2025-08-18T01:12:49.191192Z",
     "iopub.status.idle": "2025-08-18T01:12:49.222004Z",
     "shell.execute_reply": "2025-08-18T01:12:49.221362Z"
    },
    "papermill": {
     "duration": 0.042922,
     "end_time": "2025-08-18T01:12:49.223032",
     "exception": false,
     "start_time": "2025-08-18T01:12:49.180110",
     "status": "completed"
    },
    "tags": []
   },
   "outputs": [
    {
     "name": "stdout",
     "output_type": "stream",
     "text": [
      "                  MissingCount  MissingPercentage\n",
      "RecordID                     0               0.00\n",
      "Offense                      0               0.00\n",
      "IncidentID                   0               0.00\n",
      "BlockNumber                  0               0.00\n",
      "StreetName                   0               0.00\n",
      "Agency                       0               0.00\n",
      "HourReported                 0               0.00\n",
      "ReportingOfficer            15               0.06\n",
      "Date                         0               0.00\n",
      "DateString                   0               0.00\n",
      "DayOfWeek                    0               0.00\n",
      "Weekend                      0               0.00\n",
      "Season                       0               0.00\n",
      "HourAMPM                     0               0.00\n",
      "TimeOfDay                    0               0.00\n",
      "FullStreet                   0               0.00\n",
      "lat                        105               0.41\n",
      "lon                        105               0.41\n",
      "neighborhood                 0               0.00\n",
      "zip                          0               0.00\n"
     ]
    }
   ],
   "source": [
    "missing_info = missing_percentage(df)\n",
    "print(missing_info)\n"
   ]
  },
  {
   "cell_type": "code",
   "execution_count": 13,
   "id": "98756693",
   "metadata": {
    "execution": {
     "iopub.execute_input": "2025-08-18T01:12:49.245241Z",
     "iopub.status.busy": "2025-08-18T01:12:49.244954Z",
     "iopub.status.idle": "2025-08-18T01:12:49.278111Z",
     "shell.execute_reply": "2025-08-18T01:12:49.277388Z"
    },
    "papermill": {
     "duration": 0.045453,
     "end_time": "2025-08-18T01:12:49.279272",
     "exception": false,
     "start_time": "2025-08-18T01:12:49.233819",
     "status": "completed"
    },
    "tags": []
   },
   "outputs": [
    {
     "name": "stdout",
     "output_type": "stream",
     "text": [
      "<class 'pandas.core.frame.DataFrame'>\n",
      "RangeIndex: 25655 entries, 0 to 25654\n",
      "Data columns (total 20 columns):\n",
      " #   Column            Non-Null Count  Dtype         \n",
      "---  ------            --------------  -----         \n",
      " 0   RecordID          25655 non-null  int64         \n",
      " 1   Offense           25655 non-null  object        \n",
      " 2   IncidentID        25655 non-null  object        \n",
      " 3   BlockNumber       25655 non-null  object        \n",
      " 4   StreetName        25655 non-null  object        \n",
      " 5   Agency            25655 non-null  object        \n",
      " 6   HourReported      25655 non-null  object        \n",
      " 7   ReportingOfficer  25640 non-null  object        \n",
      " 8   Date              25655 non-null  datetime64[ns]\n",
      " 9   DateString        25655 non-null  object        \n",
      " 10  DayOfWeek         25655 non-null  object        \n",
      " 11  Weekend           25655 non-null  bool          \n",
      " 12  Season            25655 non-null  object        \n",
      " 13  HourAMPM          25655 non-null  object        \n",
      " 14  TimeOfDay         25655 non-null  object        \n",
      " 15  FullStreet        25655 non-null  object        \n",
      " 16  lat               25550 non-null  float64       \n",
      " 17  lon               25550 non-null  float64       \n",
      " 18  neighborhood      25655 non-null  object        \n",
      " 19  zip               25655 non-null  object        \n",
      "dtypes: bool(1), datetime64[ns](1), float64(2), int64(1), object(15)\n",
      "memory usage: 3.7+ MB\n"
     ]
    }
   ],
   "source": [
    "df.info()"
   ]
  },
  {
   "cell_type": "code",
   "execution_count": 14,
   "id": "672a572d",
   "metadata": {
    "execution": {
     "iopub.execute_input": "2025-08-18T01:12:49.302186Z",
     "iopub.status.busy": "2025-08-18T01:12:49.301927Z",
     "iopub.status.idle": "2025-08-18T01:12:49.353910Z",
     "shell.execute_reply": "2025-08-18T01:12:49.353299Z"
    },
    "papermill": {
     "duration": 0.064378,
     "end_time": "2025-08-18T01:12:49.355005",
     "exception": false,
     "start_time": "2025-08-18T01:12:49.290627",
     "status": "completed"
    },
    "tags": []
   },
   "outputs": [
    {
     "data": {
      "text/html": [
       "<div>\n",
       "<style scoped>\n",
       "    .dataframe tbody tr th:only-of-type {\n",
       "        vertical-align: middle;\n",
       "    }\n",
       "\n",
       "    .dataframe tbody tr th {\n",
       "        vertical-align: top;\n",
       "    }\n",
       "\n",
       "    .dataframe thead th {\n",
       "        text-align: right;\n",
       "    }\n",
       "</style>\n",
       "<table border=\"1\" class=\"dataframe\">\n",
       "  <thead>\n",
       "    <tr style=\"text-align: right;\">\n",
       "      <th></th>\n",
       "      <th>RecordID</th>\n",
       "      <th>Offense</th>\n",
       "      <th>IncidentID</th>\n",
       "      <th>Agency</th>\n",
       "      <th>ReportingOfficer</th>\n",
       "      <th>Date</th>\n",
       "      <th>DayOfWeek</th>\n",
       "      <th>Weekend</th>\n",
       "      <th>Season</th>\n",
       "      <th>TimeOfDay</th>\n",
       "      <th>FullStreet</th>\n",
       "      <th>lat</th>\n",
       "      <th>lon</th>\n",
       "      <th>neighborhood</th>\n",
       "      <th>zip</th>\n",
       "    </tr>\n",
       "  </thead>\n",
       "  <tbody>\n",
       "    <tr>\n",
       "      <th>0</th>\n",
       "      <td>1</td>\n",
       "      <td>Disturbance - Non Domestic</td>\n",
       "      <td>202500028975</td>\n",
       "      <td>CPD</td>\n",
       "      <td>Abdelgayed, Adam</td>\n",
       "      <td>2025-08-15 20:05:02</td>\n",
       "      <td>Friday</td>\n",
       "      <td>False</td>\n",
       "      <td>Summer</td>\n",
       "      <td>Evening</td>\n",
       "      <td>200 E MAIN ST</td>\n",
       "      <td>38.030572</td>\n",
       "      <td>-78.480764</td>\n",
       "      <td>Downtown Mall</td>\n",
       "      <td>22902</td>\n",
       "    </tr>\n",
       "    <tr>\n",
       "      <th>1</th>\n",
       "      <td>2</td>\n",
       "      <td>Drug Equipment Violation</td>\n",
       "      <td>202500028967</td>\n",
       "      <td>CPD</td>\n",
       "      <td>Ritter, Kobe</td>\n",
       "      <td>2025-08-15 18:41:18</td>\n",
       "      <td>Friday</td>\n",
       "      <td>False</td>\n",
       "      <td>Summer</td>\n",
       "      <td>Evening</td>\n",
       "      <td>1100 5TH ST SW</td>\n",
       "      <td>38.01713</td>\n",
       "      <td>-78.497806</td>\n",
       "      <td>Johnson Village</td>\n",
       "      <td>22903</td>\n",
       "    </tr>\n",
       "    <tr>\n",
       "      <th>2</th>\n",
       "      <td>3</td>\n",
       "      <td>Suspicious Activity</td>\n",
       "      <td>202500028937</td>\n",
       "      <td>CPD</td>\n",
       "      <td>Burnett, James</td>\n",
       "      <td>2025-08-15 15:12:37</td>\n",
       "      <td>Friday</td>\n",
       "      <td>False</td>\n",
       "      <td>Summer</td>\n",
       "      <td>Afternoon</td>\n",
       "      <td>1000 1ST ST S, 201</td>\n",
       "      <td>38.020474</td>\n",
       "      <td>-78.486881</td>\n",
       "      <td>Ridge St.</td>\n",
       "      <td>22902</td>\n",
       "    </tr>\n",
       "    <tr>\n",
       "      <th>3</th>\n",
       "      <td>4</td>\n",
       "      <td>Larceny - From Motor Vehicle</td>\n",
       "      <td>202500028914</td>\n",
       "      <td>CPD</td>\n",
       "      <td>Eckenroth, Rachel</td>\n",
       "      <td>2025-08-15 12:07:48</td>\n",
       "      <td>Friday</td>\n",
       "      <td>False</td>\n",
       "      <td>Summer</td>\n",
       "      <td>Afternoon</td>\n",
       "      <td>500 BAINBRIDGE ST</td>\n",
       "      <td>38.023275</td>\n",
       "      <td>-78.472513</td>\n",
       "      <td>Belmont</td>\n",
       "      <td>22903</td>\n",
       "    </tr>\n",
       "    <tr>\n",
       "      <th>4</th>\n",
       "      <td>5</td>\n",
       "      <td>Comm Relations Initiative - CRI</td>\n",
       "      <td>202500028894</td>\n",
       "      <td>CPD</td>\n",
       "      <td>Pendleton, Eric</td>\n",
       "      <td>2025-08-15 09:55:33</td>\n",
       "      <td>Friday</td>\n",
       "      <td>False</td>\n",
       "      <td>Summer</td>\n",
       "      <td>Morning</td>\n",
       "      <td>600 MAIN ST N</td>\n",
       "      <td>N/A</td>\n",
       "      <td>N/A</td>\n",
       "      <td>N/A</td>\n",
       "      <td>N/A</td>\n",
       "    </tr>\n",
       "  </tbody>\n",
       "</table>\n",
       "</div>"
      ],
      "text/plain": [
       "   RecordID                          Offense    IncidentID Agency  \\\n",
       "0         1       Disturbance - Non Domestic  202500028975    CPD   \n",
       "1         2         Drug Equipment Violation  202500028967    CPD   \n",
       "2         3              Suspicious Activity  202500028937    CPD   \n",
       "3         4     Larceny - From Motor Vehicle  202500028914    CPD   \n",
       "4         5  Comm Relations Initiative - CRI  202500028894    CPD   \n",
       "\n",
       "    ReportingOfficer                Date DayOfWeek  Weekend  Season  \\\n",
       "0   Abdelgayed, Adam 2025-08-15 20:05:02    Friday    False  Summer   \n",
       "1       Ritter, Kobe 2025-08-15 18:41:18    Friday    False  Summer   \n",
       "2     Burnett, James 2025-08-15 15:12:37    Friday    False  Summer   \n",
       "3  Eckenroth, Rachel 2025-08-15 12:07:48    Friday    False  Summer   \n",
       "4    Pendleton, Eric 2025-08-15 09:55:33    Friday    False  Summer   \n",
       "\n",
       "   TimeOfDay          FullStreet        lat        lon     neighborhood    zip  \n",
       "0    Evening       200 E MAIN ST  38.030572 -78.480764    Downtown Mall  22902  \n",
       "1    Evening      1100 5TH ST SW   38.01713 -78.497806  Johnson Village  22903  \n",
       "2  Afternoon  1000 1ST ST S, 201  38.020474 -78.486881        Ridge St.  22902  \n",
       "3  Afternoon   500 BAINBRIDGE ST  38.023275 -78.472513          Belmont  22903  \n",
       "4    Morning       600 MAIN ST N        N/A        N/A              N/A    N/A  "
      ]
     },
     "execution_count": 14,
     "metadata": {},
     "output_type": "execute_result"
    }
   ],
   "source": [
    "# Now drop the original BlockNumber and StreetName columns\n",
    "df.drop(columns=['BlockNumber', 'StreetName','HourAMPM','HourReported','DateString'], inplace=True)\n",
    "df[\"zip\"] = df[\"zip\"].astype(str)\n",
    "\n",
    "# Fill all missing values in the DataFrame with \"N/A\"\n",
    "df.replace({None: \"N/A\", np.nan: \"N/A\", \"\": \"N/A\"}, inplace=True)\n",
    "df.head()"
   ]
  },
  {
   "cell_type": "code",
   "execution_count": 15,
   "id": "e4c2093a",
   "metadata": {
    "execution": {
     "iopub.execute_input": "2025-08-18T01:12:49.377539Z",
     "iopub.status.busy": "2025-08-18T01:12:49.377246Z",
     "iopub.status.idle": "2025-08-18T01:12:49.400637Z",
     "shell.execute_reply": "2025-08-18T01:12:49.400043Z"
    },
    "papermill": {
     "duration": 0.035782,
     "end_time": "2025-08-18T01:12:49.401662",
     "exception": false,
     "start_time": "2025-08-18T01:12:49.365880",
     "status": "completed"
    },
    "tags": []
   },
   "outputs": [
    {
     "name": "stdout",
     "output_type": "stream",
     "text": [
      "                  MissingCount  MissingPercentage\n",
      "RecordID                     0                0.0\n",
      "Offense                      0                0.0\n",
      "IncidentID                   0                0.0\n",
      "Agency                       0                0.0\n",
      "ReportingOfficer             0                0.0\n",
      "Date                         0                0.0\n",
      "DayOfWeek                    0                0.0\n",
      "Weekend                      0                0.0\n",
      "Season                       0                0.0\n",
      "TimeOfDay                    0                0.0\n",
      "FullStreet                   0                0.0\n",
      "lat                          0                0.0\n",
      "lon                          0                0.0\n",
      "neighborhood                 0                0.0\n",
      "zip                          0                0.0\n"
     ]
    }
   ],
   "source": [
    "missing_info = missing_percentage(df)\n",
    "print(missing_info)"
   ]
  },
  {
   "cell_type": "code",
   "execution_count": 16,
   "id": "b5029a99",
   "metadata": {
    "execution": {
     "iopub.execute_input": "2025-08-18T01:12:49.424693Z",
     "iopub.status.busy": "2025-08-18T01:12:49.424368Z",
     "iopub.status.idle": "2025-08-18T01:12:49.429051Z",
     "shell.execute_reply": "2025-08-18T01:12:49.428348Z"
    },
    "papermill": {
     "duration": 0.017158,
     "end_time": "2025-08-18T01:12:49.430022",
     "exception": false,
     "start_time": "2025-08-18T01:12:49.412864",
     "status": "completed"
    },
    "tags": []
   },
   "outputs": [
    {
     "data": {
      "text/plain": [
       "Index(['RecordID', 'Offense', 'IncidentID', 'Agency', 'ReportingOfficer',\n",
       "       'Date', 'DayOfWeek', 'Weekend', 'Season', 'TimeOfDay', 'FullStreet',\n",
       "       'lat', 'lon', 'neighborhood', 'zip'],\n",
       "      dtype='object')"
      ]
     },
     "execution_count": 16,
     "metadata": {},
     "output_type": "execute_result"
    }
   ],
   "source": [
    "df.columns"
   ]
  },
  {
   "cell_type": "code",
   "execution_count": 17,
   "id": "e924d156",
   "metadata": {
    "execution": {
     "iopub.execute_input": "2025-08-18T01:12:49.453013Z",
     "iopub.status.busy": "2025-08-18T01:12:49.452754Z",
     "iopub.status.idle": "2025-08-18T01:12:49.476967Z",
     "shell.execute_reply": "2025-08-18T01:12:49.476369Z"
    },
    "papermill": {
     "duration": 0.036996,
     "end_time": "2025-08-18T01:12:49.478059",
     "exception": false,
     "start_time": "2025-08-18T01:12:49.441063",
     "status": "completed"
    },
    "tags": []
   },
   "outputs": [
    {
     "name": "stdout",
     "output_type": "stream",
     "text": [
      "<class 'pandas.core.frame.DataFrame'>\n",
      "RangeIndex: 25655 entries, 0 to 25654\n",
      "Data columns (total 15 columns):\n",
      " #   Column            Non-Null Count  Dtype         \n",
      "---  ------            --------------  -----         \n",
      " 0   RecordID          25655 non-null  int64         \n",
      " 1   Offense           25655 non-null  object        \n",
      " 2   IncidentID        25655 non-null  object        \n",
      " 3   Agency            25655 non-null  object        \n",
      " 4   ReportingOfficer  25655 non-null  object        \n",
      " 5   Date              25655 non-null  datetime64[ns]\n",
      " 6   DayOfWeek         25655 non-null  object        \n",
      " 7   Weekend           25655 non-null  bool          \n",
      " 8   Season            25655 non-null  object        \n",
      " 9   TimeOfDay         25655 non-null  object        \n",
      " 10  FullStreet        25655 non-null  object        \n",
      " 11  lat               25655 non-null  object        \n",
      " 12  lon               25655 non-null  object        \n",
      " 13  neighborhood      25655 non-null  object        \n",
      " 14  zip               25655 non-null  object        \n",
      "dtypes: bool(1), datetime64[ns](1), int64(1), object(12)\n",
      "memory usage: 2.8+ MB\n"
     ]
    }
   ],
   "source": [
    "df.info()"
   ]
  },
  {
   "cell_type": "markdown",
   "id": "c1012132",
   "metadata": {
    "papermill": {
     "duration": 0.010809,
     "end_time": "2025-08-18T01:12:49.499986",
     "exception": false,
     "start_time": "2025-08-18T01:12:49.489177",
     "status": "completed"
    },
    "tags": []
   },
   "source": [
    "### Export Clean Data"
   ]
  },
  {
   "cell_type": "code",
   "execution_count": 18,
   "id": "68aeddba",
   "metadata": {
    "execution": {
     "iopub.execute_input": "2025-08-18T01:12:49.522865Z",
     "iopub.status.busy": "2025-08-18T01:12:49.522579Z",
     "iopub.status.idle": "2025-08-18T01:12:58.772054Z",
     "shell.execute_reply": "2025-08-18T01:12:58.771331Z"
    },
    "papermill": {
     "duration": 9.262209,
     "end_time": "2025-08-18T01:12:58.773094",
     "exception": false,
     "start_time": "2025-08-18T01:12:49.510885",
     "status": "completed"
    },
    "tags": []
   },
   "outputs": [
    {
     "name": "stdout",
     "output_type": "stream",
     "text": [
      "Project Root: /home/runner/work/crime-data/crime-data\n"
     ]
    },
    {
     "name": "stdout",
     "output_type": "stream",
     "text": [
      "Data saved to: /home/runner/work/crime-data/crime-data/data/charlottesville_crime_incidents.csv\n"
     ]
    },
    {
     "name": "stdout",
     "output_type": "stream",
     "text": [
      "Excel saved to: /home/runner/work/crime-data/crime-data/data/charlottesville_crime_incidents.xlsx\n"
     ]
    }
   ],
   "source": [
    "# Determine the project root (assuming papermill is run from the repository root)\n",
    "project_root = os.getcwd()\n",
    "print(\"Project Root:\", project_root)\n",
    "\n",
    "# Set the data directory within the project root\n",
    "data_dir = os.path.join(project_root, \"data\")\n",
    "\n",
    "# Ensure the \"data\" directory exists (create it if it doesn't)\n",
    "if not os.path.exists(data_dir):\n",
    "    os.makedirs(data_dir)\n",
    "\n",
    "# Export the DataFrame to CSV in the \"data\" folder located in the project root\n",
    "csv_path = os.path.join(data_dir, \"charlottesville_crime_incidents.csv\")\n",
    "df.to_csv(csv_path, index=False)\n",
    "print(\"Data saved to:\", csv_path)\n",
    "\n",
    "# Construct the path to your Excel file\n",
    "excel_path = os.path.join(data_dir, \"charlottesville_crime_incidents.xlsx\")\n",
    "\n",
    "# Export the DataFrame to Excel\n",
    "df.to_excel(excel_path, index=False)\n",
    "print(\"Excel saved to:\", excel_path)\n"
   ]
  }
 ],
 "metadata": {
  "kernelspec": {
   "display_name": "Python 3",
   "language": "python",
   "name": "python3"
  },
  "language_info": {
   "codemirror_mode": {
    "name": "ipython",
    "version": 3
   },
   "file_extension": ".py",
   "mimetype": "text/x-python",
   "name": "python",
   "nbconvert_exporter": "python",
   "pygments_lexer": "ipython3",
   "version": "3.9.23"
  },
  "papermill": {
   "default_parameters": {},
   "duration": 187.489875,
   "end_time": "2025-08-18T01:12:59.200518",
   "environment_variables": {},
   "exception": null,
   "input_path": "notebook/Crime Data.ipynb",
   "output_path": "notebook/Crime Data_output.ipynb",
   "parameters": {},
   "start_time": "2025-08-18T01:09:51.710643",
   "version": "2.6.0"
  }
 },
 "nbformat": 4,
 "nbformat_minor": 5
}