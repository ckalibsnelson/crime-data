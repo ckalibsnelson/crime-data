{
 "cells": [
  {
   "cell_type": "markdown",
   "id": "98824a68",
   "metadata": {
    "papermill": {
     "duration": 0.004316,
     "end_time": "2025-07-31T01:10:03.007197",
     "exception": false,
     "start_time": "2025-07-31T01:10:03.002881",
     "status": "completed"
    },
    "tags": []
   },
   "source": [
    "# Charlottesville Open Data Porttal: Crime Data"
   ]
  },
  {
   "cell_type": "markdown",
   "id": "ccb5cff0",
   "metadata": {
    "papermill": {
     "duration": 0.004261,
     "end_time": "2025-07-31T01:10:03.015088",
     "exception": false,
     "start_time": "2025-07-31T01:10:03.010827",
     "status": "completed"
    },
    "tags": []
   },
   "source": [
    "## Import Relevant Librarires & Set WD"
   ]
  },
  {
   "cell_type": "code",
   "execution_count": 1,
   "id": "b86b3a2c",
   "metadata": {
    "execution": {
     "iopub.execute_input": "2025-07-31T01:10:03.022925Z",
     "iopub.status.busy": "2025-07-31T01:10:03.022628Z",
     "iopub.status.idle": "2025-07-31T01:10:03.743675Z",
     "shell.execute_reply": "2025-07-31T01:10:03.742913Z"
    },
    "papermill": {
     "duration": 0.726726,
     "end_time": "2025-07-31T01:10:03.745079",
     "exception": false,
     "start_time": "2025-07-31T01:10:03.018353",
     "status": "completed"
    },
    "tags": []
   },
   "outputs": [],
   "source": [
    "import requests\n",
    "import pandas as pd\n",
    "import numpy as np\n",
    "import pickle\n",
    "import googlemaps\n",
    "import plotly.express as px\n",
    "from geopy.geocoders import Nominatim\n",
    "import time\n",
    "from dotenv import load_dotenv\n",
    "import os\n",
    "\n",
    "env_path = os.path.join(\"..\", \".env\")\n",
    "#print(\"Looking for .env file at:\", os.path.abspath(env_path))\n",
    "load_dotenv(dotenv_path=env_path)\n",
    "\n",
    "# Retrieve the variables\n",
    "GOOGLE_API_KEY = os.getenv(\"GOOGLE_API_KEY\")\n",
    "WORKING_DIR = os.getenv(\"WORKING_DIR\")\n",
    "\n",
    "if GOOGLE_API_KEY is None or WORKING_DIR is None:\n",
    "    raise RuntimeError(\"No configuration found. Please ensure that your .env file exists with the required variables, or create a local config.py file.\")\n",
    "\n",
    "#print(\"Google API Key:\", GOOGLE_API_KEY)\n",
    "#print(\"Working Directory:\", WORKING_DIR)"
   ]
  },
  {
   "cell_type": "markdown",
   "id": "f7312e0e",
   "metadata": {
    "papermill": {
     "duration": 0.003329,
     "end_time": "2025-07-31T01:10:03.752126",
     "exception": false,
     "start_time": "2025-07-31T01:10:03.748797",
     "status": "completed"
    },
    "tags": []
   },
   "source": [
    "## Import Data\n",
    "\n",
    "URL: https://opendata.charlottesville.org/datasets/charlottesville::crime-data/about"
   ]
  },
  {
   "cell_type": "code",
   "execution_count": 2,
   "id": "5bcb6fdd",
   "metadata": {
    "execution": {
     "iopub.execute_input": "2025-07-31T01:10:03.759873Z",
     "iopub.status.busy": "2025-07-31T01:10:03.759539Z",
     "iopub.status.idle": "2025-07-31T01:11:12.138441Z",
     "shell.execute_reply": "2025-07-31T01:11:12.137647Z"
    },
    "papermill": {
     "duration": 68.387159,
     "end_time": "2025-07-31T01:11:12.142650",
     "exception": false,
     "start_time": "2025-07-31T01:10:03.755491",
     "status": "completed"
    },
    "tags": []
   },
   "outputs": [
    {
     "name": "stdout",
     "output_type": "stream",
     "text": [
      "Total records imported: 25604\n"
     ]
    }
   ],
   "source": [
    "# Define the endpoint and initial parameters.\n",
    "url = \"https://gisweb.charlottesville.org/arcgis/rest/services/OpenData_2/MapServer/6/query\"\n",
    "params = {\n",
    "    \"where\": \"1=1\",\n",
    "    \"outFields\": \"*\",\n",
    "    \"outSR\": 4326,\n",
    "    \"f\": \"json\",\n",
    "    \"resultOffset\": 0,       # Starting index for results\n",
    "    \"resultRecordCount\": 10000  # Maximum records per batch (if allowed by the API)\n",
    "}\n",
    "\n",
    "records = []\n",
    "\n",
    "while True:\n",
    "    response = requests.get(url, params=params)\n",
    "    response.raise_for_status()\n",
    "    data = response.json()\n",
    "    \n",
    "    # Get the current batch of features.\n",
    "    features = data.get(\"features\", [])\n",
    "    if not features:\n",
    "        break\n",
    "\n",
    "    # Extract the attributes from the features.\n",
    "    batch_records = [feature.get(\"attributes\", {}) for feature in features]\n",
    "    records.extend(batch_records)\n",
    "    \n",
    "    # If the batch size is less than the requested count, we reached the end.\n",
    "    if len(features) < params[\"resultRecordCount\"]:\n",
    "        break\n",
    "\n",
    "    # Update the resultOffset for the next batch.\n",
    "    params[\"resultOffset\"] += params[\"resultRecordCount\"]\n",
    "\n",
    "# Create a DataFrame from the combined records.\n",
    "df = pd.DataFrame(records)\n",
    "print(\"Total records imported:\", len(df))\n"
   ]
  },
  {
   "cell_type": "code",
   "execution_count": 3,
   "id": "fa73280c",
   "metadata": {
    "execution": {
     "iopub.execute_input": "2025-07-31T01:11:12.150612Z",
     "iopub.status.busy": "2025-07-31T01:11:12.150378Z",
     "iopub.status.idle": "2025-07-31T01:11:12.162964Z",
     "shell.execute_reply": "2025-07-31T01:11:12.162366Z"
    },
    "papermill": {
     "duration": 0.01786,
     "end_time": "2025-07-31T01:11:12.164054",
     "exception": false,
     "start_time": "2025-07-31T01:11:12.146194",
     "status": "completed"
    },
    "tags": []
   },
   "outputs": [
    {
     "data": {
      "text/html": [
       "<div>\n",
       "<style scoped>\n",
       "    .dataframe tbody tr th:only-of-type {\n",
       "        vertical-align: middle;\n",
       "    }\n",
       "\n",
       "    .dataframe tbody tr th {\n",
       "        vertical-align: top;\n",
       "    }\n",
       "\n",
       "    .dataframe thead th {\n",
       "        text-align: right;\n",
       "    }\n",
       "</style>\n",
       "<table border=\"1\" class=\"dataframe\">\n",
       "  <thead>\n",
       "    <tr style=\"text-align: right;\">\n",
       "      <th></th>\n",
       "      <th>RecordID</th>\n",
       "      <th>Offense</th>\n",
       "      <th>IncidentID</th>\n",
       "      <th>BlockNumber</th>\n",
       "      <th>StreetName</th>\n",
       "      <th>Agency</th>\n",
       "      <th>DateReported</th>\n",
       "      <th>HourReported</th>\n",
       "      <th>ReportingOfficer</th>\n",
       "    </tr>\n",
       "  </thead>\n",
       "  <tbody>\n",
       "    <tr>\n",
       "      <th>0</th>\n",
       "      <td>1</td>\n",
       "      <td>Suspicious Activity</td>\n",
       "      <td>202500026662</td>\n",
       "      <td>100</td>\n",
       "      <td>APPLE TREE RD, C</td>\n",
       "      <td>CPD</td>\n",
       "      <td>1753745367000</td>\n",
       "      <td>1929</td>\n",
       "      <td>Young, Steven</td>\n",
       "    </tr>\n",
       "    <tr>\n",
       "      <th>1</th>\n",
       "      <td>2</td>\n",
       "      <td>Assault Aggravated</td>\n",
       "      <td>202500026661</td>\n",
       "      <td>100</td>\n",
       "      <td>E MARKET ST</td>\n",
       "      <td>CPD</td>\n",
       "      <td>1753745206000</td>\n",
       "      <td>1926</td>\n",
       "      <td>Thomas, Eric</td>\n",
       "    </tr>\n",
       "    <tr>\n",
       "      <th>2</th>\n",
       "      <td>3</td>\n",
       "      <td>Misc - Criminal Call</td>\n",
       "      <td>202500026648</td>\n",
       "      <td>100</td>\n",
       "      <td>W MAIN ST, 1</td>\n",
       "      <td>CPD</td>\n",
       "      <td>1753735181000</td>\n",
       "      <td>1639</td>\n",
       "      <td>Benbow, Lauren</td>\n",
       "    </tr>\n",
       "    <tr>\n",
       "      <th>3</th>\n",
       "      <td>4</td>\n",
       "      <td>Lost/FoundProperty</td>\n",
       "      <td>202500026640</td>\n",
       "      <td>600</td>\n",
       "      <td>E MARKET ST</td>\n",
       "      <td>CPD</td>\n",
       "      <td>1753732231000</td>\n",
       "      <td>1550</td>\n",
       "      <td>Young, Steven</td>\n",
       "    </tr>\n",
       "    <tr>\n",
       "      <th>4</th>\n",
       "      <td>5</td>\n",
       "      <td>Larceny - Shoplifitng</td>\n",
       "      <td>202500026638</td>\n",
       "      <td>1200</td>\n",
       "      <td>EMMET ST N</td>\n",
       "      <td>CPD</td>\n",
       "      <td>1753731880000</td>\n",
       "      <td>1544</td>\n",
       "      <td>Curry, Brian</td>\n",
       "    </tr>\n",
       "  </tbody>\n",
       "</table>\n",
       "</div>"
      ],
      "text/plain": [
       "   RecordID                Offense    IncidentID BlockNumber  \\\n",
       "0         1    Suspicious Activity  202500026662         100   \n",
       "1         2     Assault Aggravated  202500026661         100   \n",
       "2         3   Misc - Criminal Call  202500026648         100   \n",
       "3         4     Lost/FoundProperty  202500026640         600   \n",
       "4         5  Larceny - Shoplifitng  202500026638        1200   \n",
       "\n",
       "         StreetName Agency   DateReported HourReported ReportingOfficer  \n",
       "0  APPLE TREE RD, C    CPD  1753745367000         1929    Young, Steven  \n",
       "1       E MARKET ST    CPD  1753745206000         1926     Thomas, Eric  \n",
       "2      W MAIN ST, 1    CPD  1753735181000         1639   Benbow, Lauren  \n",
       "3       E MARKET ST    CPD  1753732231000         1550    Young, Steven  \n",
       "4        EMMET ST N    CPD  1753731880000         1544     Curry, Brian  "
      ]
     },
     "execution_count": 3,
     "metadata": {},
     "output_type": "execute_result"
    }
   ],
   "source": [
    "df.head()"
   ]
  },
  {
   "cell_type": "code",
   "execution_count": 4,
   "id": "97dde985",
   "metadata": {
    "execution": {
     "iopub.execute_input": "2025-07-31T01:11:12.172267Z",
     "iopub.status.busy": "2025-07-31T01:11:12.172010Z",
     "iopub.status.idle": "2025-07-31T01:11:12.176334Z",
     "shell.execute_reply": "2025-07-31T01:11:12.175804Z"
    },
    "papermill": {
     "duration": 0.009635,
     "end_time": "2025-07-31T01:11:12.177456",
     "exception": false,
     "start_time": "2025-07-31T01:11:12.167821",
     "status": "completed"
    },
    "tags": []
   },
   "outputs": [
    {
     "data": {
      "text/plain": [
       "Index(['RecordID', 'Offense', 'IncidentID', 'BlockNumber', 'StreetName',\n",
       "       'Agency', 'DateReported', 'HourReported', 'ReportingOfficer'],\n",
       "      dtype='object')"
      ]
     },
     "execution_count": 4,
     "metadata": {},
     "output_type": "execute_result"
    }
   ],
   "source": [
    "df.columns"
   ]
  },
  {
   "cell_type": "code",
   "execution_count": 5,
   "id": "38a36b86",
   "metadata": {
    "execution": {
     "iopub.execute_input": "2025-07-31T01:11:12.185867Z",
     "iopub.status.busy": "2025-07-31T01:11:12.185665Z",
     "iopub.status.idle": "2025-07-31T01:11:12.212861Z",
     "shell.execute_reply": "2025-07-31T01:11:12.212098Z"
    },
    "papermill": {
     "duration": 0.032577,
     "end_time": "2025-07-31T01:11:12.213947",
     "exception": false,
     "start_time": "2025-07-31T01:11:12.181370",
     "status": "completed"
    },
    "tags": []
   },
   "outputs": [
    {
     "name": "stdout",
     "output_type": "stream",
     "text": [
      "<class 'pandas.core.frame.DataFrame'>\n",
      "RangeIndex: 25604 entries, 0 to 25603\n",
      "Data columns (total 9 columns):\n",
      " #   Column            Non-Null Count  Dtype \n",
      "---  ------            --------------  ----- \n",
      " 0   RecordID          25604 non-null  int64 \n",
      " 1   Offense           25604 non-null  object\n",
      " 2   IncidentID        25604 non-null  object\n",
      " 3   BlockNumber       25604 non-null  object\n",
      " 4   StreetName        25604 non-null  object\n",
      " 5   Agency            25604 non-null  object\n",
      " 6   DateReported      25604 non-null  int64 \n",
      " 7   HourReported      25604 non-null  object\n",
      " 8   ReportingOfficer  25587 non-null  object\n",
      "dtypes: int64(2), object(7)\n",
      "memory usage: 1.8+ MB\n"
     ]
    }
   ],
   "source": [
    "df.info()"
   ]
  },
  {
   "cell_type": "markdown",
   "id": "cf179e40",
   "metadata": {
    "papermill": {
     "duration": 0.00384,
     "end_time": "2025-07-31T01:11:12.221924",
     "exception": false,
     "start_time": "2025-07-31T01:11:12.218084",
     "status": "completed"
    },
    "tags": []
   },
   "source": [
    "### Missing Values"
   ]
  },
  {
   "cell_type": "code",
   "execution_count": 6,
   "id": "29da85bd",
   "metadata": {
    "execution": {
     "iopub.execute_input": "2025-07-31T01:11:12.230576Z",
     "iopub.status.busy": "2025-07-31T01:11:12.230270Z",
     "iopub.status.idle": "2025-07-31T01:11:12.257713Z",
     "shell.execute_reply": "2025-07-31T01:11:12.256971Z"
    },
    "papermill": {
     "duration": 0.033158,
     "end_time": "2025-07-31T01:11:12.258886",
     "exception": false,
     "start_time": "2025-07-31T01:11:12.225728",
     "status": "completed"
    },
    "tags": []
   },
   "outputs": [
    {
     "name": "stdout",
     "output_type": "stream",
     "text": [
      "                  MissingCount  MissingPercentage\n",
      "RecordID                     0               0.00\n",
      "Offense                      0               0.00\n",
      "IncidentID                   0               0.00\n",
      "BlockNumber                  0               0.00\n",
      "StreetName                   0               0.00\n",
      "Agency                       0               0.00\n",
      "DateReported                 0               0.00\n",
      "HourReported                 0               0.00\n",
      "ReportingOfficer            17               0.07\n"
     ]
    }
   ],
   "source": [
    "def missing_percentage(df):\n",
    "    \"\"\"\n",
    "    Returns a DataFrame with the count and percentage of missing values for each column.\n",
    "    \n",
    "    Parameters:\n",
    "        df (pd.DataFrame): The input DataFrame.\n",
    "    \n",
    "    Returns:\n",
    "        pd.DataFrame: A DataFrame with columns 'MissingCount' and 'MissingPercentage'.\n",
    "    \"\"\"\n",
    "    total_rows = len(df)\n",
    "    missing_count = df.isnull().sum()\n",
    "    missing_percent = (missing_count / total_rows) * 100\n",
    "    \n",
    "    result = pd.DataFrame({\n",
    "        'MissingCount': missing_count,\n",
    "        'MissingPercentage': missing_percent.round(2)\n",
    "    })\n",
    "    \n",
    "    return result\n",
    "\n",
    "# Example usage:\n",
    "missing_info = missing_percentage(df)\n",
    "print(missing_info)\n"
   ]
  },
  {
   "cell_type": "markdown",
   "id": "5aae01f0",
   "metadata": {
    "papermill": {
     "duration": 0.003909,
     "end_time": "2025-07-31T01:11:12.267268",
     "exception": false,
     "start_time": "2025-07-31T01:11:12.263359",
     "status": "completed"
    },
    "tags": []
   },
   "source": [
    "## Data Preparation"
   ]
  },
  {
   "cell_type": "markdown",
   "id": "e902eb06",
   "metadata": {
    "papermill": {
     "duration": 0.003842,
     "end_time": "2025-07-31T01:11:12.275016",
     "exception": false,
     "start_time": "2025-07-31T01:11:12.271174",
     "status": "completed"
    },
    "tags": []
   },
   "source": [
    "### Data Conversion"
   ]
  },
  {
   "cell_type": "code",
   "execution_count": 7,
   "id": "348fd10e",
   "metadata": {
    "execution": {
     "iopub.execute_input": "2025-07-31T01:11:12.283957Z",
     "iopub.status.busy": "2025-07-31T01:11:12.283693Z",
     "iopub.status.idle": "2025-07-31T01:11:12.654155Z",
     "shell.execute_reply": "2025-07-31T01:11:12.653447Z"
    },
    "papermill": {
     "duration": 0.376365,
     "end_time": "2025-07-31T01:11:12.655310",
     "exception": false,
     "start_time": "2025-07-31T01:11:12.278945",
     "status": "completed"
    },
    "tags": []
   },
   "outputs": [
    {
     "data": {
      "text/html": [
       "<div>\n",
       "<style scoped>\n",
       "    .dataframe tbody tr th:only-of-type {\n",
       "        vertical-align: middle;\n",
       "    }\n",
       "\n",
       "    .dataframe tbody tr th {\n",
       "        vertical-align: top;\n",
       "    }\n",
       "\n",
       "    .dataframe thead th {\n",
       "        text-align: right;\n",
       "    }\n",
       "</style>\n",
       "<table border=\"1\" class=\"dataframe\">\n",
       "  <thead>\n",
       "    <tr style=\"text-align: right;\">\n",
       "      <th></th>\n",
       "      <th>RecordID</th>\n",
       "      <th>Offense</th>\n",
       "      <th>IncidentID</th>\n",
       "      <th>BlockNumber</th>\n",
       "      <th>StreetName</th>\n",
       "      <th>Agency</th>\n",
       "      <th>HourReported</th>\n",
       "      <th>ReportingOfficer</th>\n",
       "      <th>Date</th>\n",
       "      <th>DateString</th>\n",
       "      <th>DayOfWeek</th>\n",
       "      <th>Weekend</th>\n",
       "      <th>Season</th>\n",
       "      <th>HourAMPM</th>\n",
       "      <th>TimeOfDay</th>\n",
       "    </tr>\n",
       "  </thead>\n",
       "  <tbody>\n",
       "    <tr>\n",
       "      <th>0</th>\n",
       "      <td>1</td>\n",
       "      <td>Suspicious Activity</td>\n",
       "      <td>202500026662</td>\n",
       "      <td>100</td>\n",
       "      <td>APPLE TREE RD, C</td>\n",
       "      <td>CPD</td>\n",
       "      <td>1929</td>\n",
       "      <td>Young, Steven</td>\n",
       "      <td>2025-07-28 19:29:27</td>\n",
       "      <td>2025-07-28 07:29:27 PM</td>\n",
       "      <td>Monday</td>\n",
       "      <td>False</td>\n",
       "      <td>Summer</td>\n",
       "      <td>07:29 PM</td>\n",
       "      <td>Evening</td>\n",
       "    </tr>\n",
       "    <tr>\n",
       "      <th>1</th>\n",
       "      <td>2</td>\n",
       "      <td>Assault Aggravated</td>\n",
       "      <td>202500026661</td>\n",
       "      <td>100</td>\n",
       "      <td>E MARKET ST</td>\n",
       "      <td>CPD</td>\n",
       "      <td>1926</td>\n",
       "      <td>Thomas, Eric</td>\n",
       "      <td>2025-07-28 19:26:46</td>\n",
       "      <td>2025-07-28 07:26:46 PM</td>\n",
       "      <td>Monday</td>\n",
       "      <td>False</td>\n",
       "      <td>Summer</td>\n",
       "      <td>07:26 PM</td>\n",
       "      <td>Evening</td>\n",
       "    </tr>\n",
       "    <tr>\n",
       "      <th>2</th>\n",
       "      <td>3</td>\n",
       "      <td>Misc - Criminal Call</td>\n",
       "      <td>202500026648</td>\n",
       "      <td>100</td>\n",
       "      <td>W MAIN ST, 1</td>\n",
       "      <td>CPD</td>\n",
       "      <td>1639</td>\n",
       "      <td>Benbow, Lauren</td>\n",
       "      <td>2025-07-28 16:39:41</td>\n",
       "      <td>2025-07-28 04:39:41 PM</td>\n",
       "      <td>Monday</td>\n",
       "      <td>False</td>\n",
       "      <td>Summer</td>\n",
       "      <td>04:39 PM</td>\n",
       "      <td>Afternoon</td>\n",
       "    </tr>\n",
       "    <tr>\n",
       "      <th>3</th>\n",
       "      <td>4</td>\n",
       "      <td>Lost/FoundProperty</td>\n",
       "      <td>202500026640</td>\n",
       "      <td>600</td>\n",
       "      <td>E MARKET ST</td>\n",
       "      <td>CPD</td>\n",
       "      <td>1550</td>\n",
       "      <td>Young, Steven</td>\n",
       "      <td>2025-07-28 15:50:31</td>\n",
       "      <td>2025-07-28 03:50:31 PM</td>\n",
       "      <td>Monday</td>\n",
       "      <td>False</td>\n",
       "      <td>Summer</td>\n",
       "      <td>03:50 PM</td>\n",
       "      <td>Afternoon</td>\n",
       "    </tr>\n",
       "    <tr>\n",
       "      <th>4</th>\n",
       "      <td>5</td>\n",
       "      <td>Larceny - Shoplifitng</td>\n",
       "      <td>202500026638</td>\n",
       "      <td>1200</td>\n",
       "      <td>EMMET ST N</td>\n",
       "      <td>CPD</td>\n",
       "      <td>1544</td>\n",
       "      <td>Curry, Brian</td>\n",
       "      <td>2025-07-28 15:44:40</td>\n",
       "      <td>2025-07-28 03:44:40 PM</td>\n",
       "      <td>Monday</td>\n",
       "      <td>False</td>\n",
       "      <td>Summer</td>\n",
       "      <td>03:44 PM</td>\n",
       "      <td>Afternoon</td>\n",
       "    </tr>\n",
       "  </tbody>\n",
       "</table>\n",
       "</div>"
      ],
      "text/plain": [
       "   RecordID                Offense    IncidentID BlockNumber  \\\n",
       "0         1    Suspicious Activity  202500026662         100   \n",
       "1         2     Assault Aggravated  202500026661         100   \n",
       "2         3   Misc - Criminal Call  202500026648         100   \n",
       "3         4     Lost/FoundProperty  202500026640         600   \n",
       "4         5  Larceny - Shoplifitng  202500026638        1200   \n",
       "\n",
       "         StreetName Agency HourReported ReportingOfficer                Date  \\\n",
       "0  APPLE TREE RD, C    CPD         1929    Young, Steven 2025-07-28 19:29:27   \n",
       "1       E MARKET ST    CPD         1926     Thomas, Eric 2025-07-28 19:26:46   \n",
       "2      W MAIN ST, 1    CPD         1639   Benbow, Lauren 2025-07-28 16:39:41   \n",
       "3       E MARKET ST    CPD         1550    Young, Steven 2025-07-28 15:50:31   \n",
       "4        EMMET ST N    CPD         1544     Curry, Brian 2025-07-28 15:44:40   \n",
       "\n",
       "               DateString DayOfWeek  Weekend  Season  HourAMPM  TimeOfDay  \n",
       "0  2025-07-28 07:29:27 PM    Monday    False  Summer  07:29 PM    Evening  \n",
       "1  2025-07-28 07:26:46 PM    Monday    False  Summer  07:26 PM    Evening  \n",
       "2  2025-07-28 04:39:41 PM    Monday    False  Summer  04:39 PM  Afternoon  \n",
       "3  2025-07-28 03:50:31 PM    Monday    False  Summer  03:50 PM  Afternoon  \n",
       "4  2025-07-28 03:44:40 PM    Monday    False  Summer  03:44 PM  Afternoon  "
      ]
     },
     "execution_count": 7,
     "metadata": {},
     "output_type": "execute_result"
    }
   ],
   "source": [
    "def convert_and_categorize_datereported(df, col='DateReported'):\n",
    "    \"\"\"\n",
    "    Converts an epoch (in milliseconds) date column into a timezone-aware datetime,\n",
    "    converts it to Eastern Time, and then creates columns for day-of-week, weekend flag,\n",
    "    season, 12-hour formatted time, and time-of-day. Keeps both a real datetime column\n",
    "    (Date) and a string representation (DateString).\n",
    "    \"\"\"\n",
    "    import pandas as pd\n",
    "\n",
    "    # Convert the epoch timestamp to a pandas datetime object as UTC, then convert to US/Eastern.\n",
    "    df[\"DateReported_dt\"] = (\n",
    "        pd.to_datetime(df[col], unit=\"ms\", errors=\"coerce\", utc=True)\n",
    "        .dt.tz_convert(\"US/Eastern\")\n",
    "    )\n",
    "    \n",
    "    # Create a true datetime column (remove timezone if you prefer naive datetime)\n",
    "    df[\"Date\"] = df[\"DateReported_dt\"].dt.tz_localize(None)\n",
    "\n",
    "    # Optionally, create a separate string-formatted column\n",
    "    df[\"DateString\"] = df[\"DateReported_dt\"].dt.strftime(\"%Y-%m-%d %I:%M:%S %p\")\n",
    "    \n",
    "    # DayOfWeek\n",
    "    df[\"DayOfWeek\"] = df[\"DateReported_dt\"].dt.day_name()\n",
    "    \n",
    "    # Weekend\n",
    "    df[\"Weekend\"] = df[\"DayOfWeek\"].isin([\"Saturday\", \"Sunday\"])\n",
    "    \n",
    "    # Helper function to determine the season\n",
    "    def get_season(dt):\n",
    "        month = dt.month\n",
    "        day = dt.day\n",
    "        # Approximate Northern Hemisphere season boundaries:\n",
    "        if (month == 12 and day >= 21) or (month < 3) or (month == 3 and day < 20):\n",
    "            return \"Winter\"\n",
    "        elif (month == 3 and day >= 20) or (month < 6) or (month == 6 and day < 21):\n",
    "            return \"Spring\"\n",
    "        elif (month == 6 and day >= 21) or (month < 9) or (month == 9 and day < 22):\n",
    "            return \"Summer\"\n",
    "        else:\n",
    "            return \"Autumn\"\n",
    "    \n",
    "    df[\"Season\"] = df[\"DateReported_dt\"].apply(get_season)\n",
    "    \n",
    "    # 12-hour formatted time (HourAMPM)\n",
    "    df[\"HourAMPM\"] = df[\"DateReported_dt\"].dt.strftime(\"%I:%M %p\")\n",
    "    \n",
    "    # Extract hour (0-23) for time-of-day\n",
    "    df[\"HourValue\"] = df[\"DateReported_dt\"].dt.hour\n",
    "    \n",
    "    def time_of_day(hour):\n",
    "        if pd.isnull(hour):\n",
    "            return None\n",
    "        if 5 <= hour < 12:\n",
    "            return \"Morning\"\n",
    "        elif 12 <= hour < 17:\n",
    "            return \"Afternoon\"\n",
    "        elif 17 <= hour < 21:\n",
    "            return \"Evening\"\n",
    "        else:\n",
    "            return \"Night\"\n",
    "    \n",
    "    df[\"TimeOfDay\"] = df[\"HourValue\"].apply(time_of_day)\n",
    "    \n",
    "    # Drop columns you no longer need\n",
    "    df.drop(columns=[col, \"DateReported_dt\", \"HourValue\"], inplace=True)\n",
    "    \n",
    "    return df\n",
    "\n",
    "# Example usage:\n",
    "df = convert_and_categorize_datereported(df)\n",
    "df.head()\n"
   ]
  },
  {
   "cell_type": "code",
   "execution_count": 8,
   "id": "07a91d2d",
   "metadata": {
    "execution": {
     "iopub.execute_input": "2025-07-31T01:11:12.664633Z",
     "iopub.status.busy": "2025-07-31T01:11:12.664427Z",
     "iopub.status.idle": "2025-07-31T01:11:12.692219Z",
     "shell.execute_reply": "2025-07-31T01:11:12.691650Z"
    },
    "papermill": {
     "duration": 0.033557,
     "end_time": "2025-07-31T01:11:12.693294",
     "exception": false,
     "start_time": "2025-07-31T01:11:12.659737",
     "status": "completed"
    },
    "tags": []
   },
   "outputs": [
    {
     "name": "stdout",
     "output_type": "stream",
     "text": [
      "<class 'pandas.core.frame.DataFrame'>\n",
      "RangeIndex: 25604 entries, 0 to 25603\n",
      "Data columns (total 15 columns):\n",
      " #   Column            Non-Null Count  Dtype         \n",
      "---  ------            --------------  -----         \n",
      " 0   RecordID          25604 non-null  int64         \n",
      " 1   Offense           25604 non-null  object        \n",
      " 2   IncidentID        25604 non-null  object        \n",
      " 3   BlockNumber       25604 non-null  object        \n",
      " 4   StreetName        25604 non-null  object        \n",
      " 5   Agency            25604 non-null  object        \n",
      " 6   HourReported      25604 non-null  object        \n",
      " 7   ReportingOfficer  25587 non-null  object        \n",
      " 8   Date              25604 non-null  datetime64[ns]\n",
      " 9   DateString        25604 non-null  object        \n",
      " 10  DayOfWeek         25604 non-null  object        \n",
      " 11  Weekend           25604 non-null  bool          \n",
      " 12  Season            25604 non-null  object        \n",
      " 13  HourAMPM          25604 non-null  object        \n",
      " 14  TimeOfDay         25604 non-null  object        \n",
      "dtypes: bool(1), datetime64[ns](1), int64(1), object(12)\n",
      "memory usage: 2.8+ MB\n"
     ]
    }
   ],
   "source": [
    "df.info()"
   ]
  },
  {
   "cell_type": "markdown",
   "id": "65bfbd3d",
   "metadata": {
    "papermill": {
     "duration": 0.004055,
     "end_time": "2025-07-31T01:11:12.701851",
     "exception": false,
     "start_time": "2025-07-31T01:11:12.697796",
     "status": "completed"
    },
    "tags": []
   },
   "source": [
    "### Coordinates"
   ]
  },
  {
   "cell_type": "code",
   "execution_count": 9,
   "id": "811f5655",
   "metadata": {
    "execution": {
     "iopub.execute_input": "2025-07-31T01:11:12.710921Z",
     "iopub.status.busy": "2025-07-31T01:11:12.710727Z",
     "iopub.status.idle": "2025-07-31T01:11:12.819471Z",
     "shell.execute_reply": "2025-07-31T01:11:12.818831Z"
    },
    "papermill": {
     "duration": 0.114548,
     "end_time": "2025-07-31T01:11:12.820546",
     "exception": false,
     "start_time": "2025-07-31T01:11:12.705998",
     "status": "completed"
    },
    "tags": []
   },
   "outputs": [
    {
     "name": "stdout",
     "output_type": "stream",
     "text": [
      "Loaded geocode cache.\n",
      "Error geocoding  HARRIS ROAD, 117: REQUEST_DENIED (You must enable Billing on the Google Cloud Project at https://console.cloud.google.com/project/_/billing/enable Learn more at https://developers.google.com/maps/gmp-get-started)\n",
      "Geocoded  HARRIS ROAD, 117: None, None\n",
      "Geocode cache updated and saved.\n"
     ]
    },
    {
     "data": {
      "text/html": [
       "<div>\n",
       "<style scoped>\n",
       "    .dataframe tbody tr th:only-of-type {\n",
       "        vertical-align: middle;\n",
       "    }\n",
       "\n",
       "    .dataframe tbody tr th {\n",
       "        vertical-align: top;\n",
       "    }\n",
       "\n",
       "    .dataframe thead th {\n",
       "        text-align: right;\n",
       "    }\n",
       "</style>\n",
       "<table border=\"1\" class=\"dataframe\">\n",
       "  <thead>\n",
       "    <tr style=\"text-align: right;\">\n",
       "      <th></th>\n",
       "      <th>RecordID</th>\n",
       "      <th>Offense</th>\n",
       "      <th>IncidentID</th>\n",
       "      <th>BlockNumber</th>\n",
       "      <th>StreetName</th>\n",
       "      <th>Agency</th>\n",
       "      <th>HourReported</th>\n",
       "      <th>ReportingOfficer</th>\n",
       "      <th>Date</th>\n",
       "      <th>DateString</th>\n",
       "      <th>DayOfWeek</th>\n",
       "      <th>Weekend</th>\n",
       "      <th>Season</th>\n",
       "      <th>HourAMPM</th>\n",
       "      <th>TimeOfDay</th>\n",
       "      <th>FullStreet</th>\n",
       "      <th>lat</th>\n",
       "      <th>lon</th>\n",
       "    </tr>\n",
       "  </thead>\n",
       "  <tbody>\n",
       "    <tr>\n",
       "      <th>0</th>\n",
       "      <td>1</td>\n",
       "      <td>Suspicious Activity</td>\n",
       "      <td>202500026662</td>\n",
       "      <td>100</td>\n",
       "      <td>APPLE TREE RD, C</td>\n",
       "      <td>CPD</td>\n",
       "      <td>1929</td>\n",
       "      <td>Young, Steven</td>\n",
       "      <td>2025-07-28 19:29:27</td>\n",
       "      <td>2025-07-28 07:29:27 PM</td>\n",
       "      <td>Monday</td>\n",
       "      <td>False</td>\n",
       "      <td>Summer</td>\n",
       "      <td>07:29 PM</td>\n",
       "      <td>Evening</td>\n",
       "      <td>100 APPLE TREE RD, C</td>\n",
       "      <td>38.026265</td>\n",
       "      <td>-78.519385</td>\n",
       "    </tr>\n",
       "    <tr>\n",
       "      <th>1</th>\n",
       "      <td>2</td>\n",
       "      <td>Assault Aggravated</td>\n",
       "      <td>202500026661</td>\n",
       "      <td>100</td>\n",
       "      <td>E MARKET ST</td>\n",
       "      <td>CPD</td>\n",
       "      <td>1926</td>\n",
       "      <td>Thomas, Eric</td>\n",
       "      <td>2025-07-28 19:26:46</td>\n",
       "      <td>2025-07-28 07:26:46 PM</td>\n",
       "      <td>Monday</td>\n",
       "      <td>False</td>\n",
       "      <td>Summer</td>\n",
       "      <td>07:26 PM</td>\n",
       "      <td>Evening</td>\n",
       "      <td>100 E MARKET ST</td>\n",
       "      <td>38.031539</td>\n",
       "      <td>-78.481144</td>\n",
       "    </tr>\n",
       "    <tr>\n",
       "      <th>2</th>\n",
       "      <td>3</td>\n",
       "      <td>Misc - Criminal Call</td>\n",
       "      <td>202500026648</td>\n",
       "      <td>100</td>\n",
       "      <td>W MAIN ST, 1</td>\n",
       "      <td>CPD</td>\n",
       "      <td>1639</td>\n",
       "      <td>Benbow, Lauren</td>\n",
       "      <td>2025-07-28 16:39:41</td>\n",
       "      <td>2025-07-28 04:39:41 PM</td>\n",
       "      <td>Monday</td>\n",
       "      <td>False</td>\n",
       "      <td>Summer</td>\n",
       "      <td>04:39 PM</td>\n",
       "      <td>Afternoon</td>\n",
       "      <td>100 W MAIN ST, 1</td>\n",
       "      <td>38.030718</td>\n",
       "      <td>-78.481656</td>\n",
       "    </tr>\n",
       "    <tr>\n",
       "      <th>3</th>\n",
       "      <td>4</td>\n",
       "      <td>Lost/FoundProperty</td>\n",
       "      <td>202500026640</td>\n",
       "      <td>600</td>\n",
       "      <td>E MARKET ST</td>\n",
       "      <td>CPD</td>\n",
       "      <td>1550</td>\n",
       "      <td>Young, Steven</td>\n",
       "      <td>2025-07-28 15:50:31</td>\n",
       "      <td>2025-07-28 03:50:31 PM</td>\n",
       "      <td>Monday</td>\n",
       "      <td>False</td>\n",
       "      <td>Summer</td>\n",
       "      <td>03:50 PM</td>\n",
       "      <td>Afternoon</td>\n",
       "      <td>600 E MARKET ST</td>\n",
       "      <td>38.030175</td>\n",
       "      <td>-78.477574</td>\n",
       "    </tr>\n",
       "    <tr>\n",
       "      <th>4</th>\n",
       "      <td>5</td>\n",
       "      <td>Larceny - Shoplifitng</td>\n",
       "      <td>202500026638</td>\n",
       "      <td>1200</td>\n",
       "      <td>EMMET ST N</td>\n",
       "      <td>CPD</td>\n",
       "      <td>1544</td>\n",
       "      <td>Curry, Brian</td>\n",
       "      <td>2025-07-28 15:44:40</td>\n",
       "      <td>2025-07-28 03:44:40 PM</td>\n",
       "      <td>Monday</td>\n",
       "      <td>False</td>\n",
       "      <td>Summer</td>\n",
       "      <td>03:44 PM</td>\n",
       "      <td>Afternoon</td>\n",
       "      <td>1200 EMMET ST N</td>\n",
       "      <td>38.052917</td>\n",
       "      <td>-78.498591</td>\n",
       "    </tr>\n",
       "  </tbody>\n",
       "</table>\n",
       "</div>"
      ],
      "text/plain": [
       "   RecordID                Offense    IncidentID BlockNumber  \\\n",
       "0         1    Suspicious Activity  202500026662         100   \n",
       "1         2     Assault Aggravated  202500026661         100   \n",
       "2         3   Misc - Criminal Call  202500026648         100   \n",
       "3         4     Lost/FoundProperty  202500026640         600   \n",
       "4         5  Larceny - Shoplifitng  202500026638        1200   \n",
       "\n",
       "         StreetName Agency HourReported ReportingOfficer                Date  \\\n",
       "0  APPLE TREE RD, C    CPD         1929    Young, Steven 2025-07-28 19:29:27   \n",
       "1       E MARKET ST    CPD         1926     Thomas, Eric 2025-07-28 19:26:46   \n",
       "2      W MAIN ST, 1    CPD         1639   Benbow, Lauren 2025-07-28 16:39:41   \n",
       "3       E MARKET ST    CPD         1550    Young, Steven 2025-07-28 15:50:31   \n",
       "4        EMMET ST N    CPD         1544     Curry, Brian 2025-07-28 15:44:40   \n",
       "\n",
       "               DateString DayOfWeek  Weekend  Season  HourAMPM  TimeOfDay  \\\n",
       "0  2025-07-28 07:29:27 PM    Monday    False  Summer  07:29 PM    Evening   \n",
       "1  2025-07-28 07:26:46 PM    Monday    False  Summer  07:26 PM    Evening   \n",
       "2  2025-07-28 04:39:41 PM    Monday    False  Summer  04:39 PM  Afternoon   \n",
       "3  2025-07-28 03:50:31 PM    Monday    False  Summer  03:50 PM  Afternoon   \n",
       "4  2025-07-28 03:44:40 PM    Monday    False  Summer  03:44 PM  Afternoon   \n",
       "\n",
       "             FullStreet        lat        lon  \n",
       "0  100 APPLE TREE RD, C  38.026265 -78.519385  \n",
       "1       100 E MARKET ST  38.031539 -78.481144  \n",
       "2      100 W MAIN ST, 1  38.030718 -78.481656  \n",
       "3       600 E MARKET ST  38.030175 -78.477574  \n",
       "4       1200 EMMET ST N  38.052917 -78.498591  "
      ]
     },
     "execution_count": 9,
     "metadata": {},
     "output_type": "execute_result"
    }
   ],
   "source": [
    "# Combine BlockNumber and StreetName into a full address string\n",
    "df['FullStreet'] = df['BlockNumber'].astype(str) + \" \" + df['StreetName']\n",
    "\n",
    "# --- Step 1: Setup the Google Maps Client and Cache ---\n",
    "gmaps = googlemaps.Client(key=GOOGLE_API_KEY)\n",
    "\n",
    "# Try to load cached geocoding results if available.\n",
    "try:\n",
    "    with open(\"geocode_cache_google.pkl\", \"rb\") as f:\n",
    "        street_coords = pickle.load(f)\n",
    "    print(\"Loaded geocode cache.\")\n",
    "except FileNotFoundError:\n",
    "    street_coords = {}\n",
    "    print(\"No cache found; starting fresh.\")\n",
    "\n",
    "def geocode_address(address):\n",
    "    try:\n",
    "        # Append city and state to help geocoding\n",
    "        result = gmaps.geocode(f\"{address}, Charlottesville, VA\")\n",
    "        if result:\n",
    "            lat = result[0]['geometry']['location']['lat']\n",
    "            lon = result[0]['geometry']['location']['lng']\n",
    "            return lat, lon\n",
    "    except Exception as e:\n",
    "        print(f\"Error geocoding {address}: {e}\")\n",
    "    return None, None\n",
    "\n",
    "# --- Step 2: Geocode Only New Addresses ---\n",
    "unique_addresses = df['FullStreet'].unique()\n",
    "for address in unique_addresses:\n",
    "    if address not in street_coords:\n",
    "        lat, lon = geocode_address(address)\n",
    "        street_coords[address] = (lat, lon)\n",
    "        print(f\"Geocoded {address}: {lat}, {lon}\")\n",
    "\n",
    "# Save the updated cache to disk.\n",
    "with open(\"geocode_cache_google.pkl\", \"wb\") as f:\n",
    "    pickle.dump(street_coords, f)\n",
    "    print(\"Geocode cache updated and saved.\")\n",
    "\n",
    "# --- Step 3: Map Coordinates Back to DataFrame ---\n",
    "df['lat'] = df['FullStreet'].map(lambda s: street_coords.get(s, (None, None))[0])\n",
    "df['lon'] = df['FullStreet'].map(lambda s: street_coords.get(s, (None, None))[1])\n",
    "\n",
    "df.head()"
   ]
  },
  {
   "cell_type": "markdown",
   "id": "04074972",
   "metadata": {
    "papermill": {
     "duration": 0.004341,
     "end_time": "2025-07-31T01:11:12.829814",
     "exception": false,
     "start_time": "2025-07-31T01:11:12.825473",
     "status": "completed"
    },
    "tags": []
   },
   "source": [
    "### Neighborhood"
   ]
  },
  {
   "cell_type": "code",
   "execution_count": 10,
   "id": "48173b13",
   "metadata": {
    "execution": {
     "iopub.execute_input": "2025-07-31T01:11:12.839462Z",
     "iopub.status.busy": "2025-07-31T01:11:12.839211Z",
     "iopub.status.idle": "2025-07-31T01:11:14.543148Z",
     "shell.execute_reply": "2025-07-31T01:11:14.542447Z"
    },
    "papermill": {
     "duration": 1.710255,
     "end_time": "2025-07-31T01:11:14.544434",
     "exception": false,
     "start_time": "2025-07-31T01:11:12.834179",
     "status": "completed"
    },
    "tags": []
   },
   "outputs": [
    {
     "name": "stdout",
     "output_type": "stream",
     "text": [
      "Loaded neighborhood cache.\n"
     ]
    },
    {
     "name": "stdout",
     "output_type": "stream",
     "text": [
      "Error getting neighborhood for nan, nan: HTTP Error: 400\n",
      "Error getting neighborhood for nan, nan: HTTP Error: 400\n"
     ]
    },
    {
     "name": "stdout",
     "output_type": "stream",
     "text": [
      "Error getting neighborhood for nan, nan: HTTP Error: 400\n",
      "Error getting neighborhood for nan, nan: HTTP Error: 400\n",
      "Error getting neighborhood for nan, nan: HTTP Error: 400\n",
      "Error getting neighborhood for nan, nan: HTTP Error: 400\n",
      "Error getting neighborhood for nan, nan: HTTP Error: 400\n"
     ]
    },
    {
     "name": "stdout",
     "output_type": "stream",
     "text": [
      "Error getting neighborhood for nan, nan: HTTP Error: 400\n",
      "Error getting neighborhood for nan, nan: HTTP Error: 400\n",
      "Error getting neighborhood for nan, nan: HTTP Error: 400\n",
      "Error getting neighborhood for nan, nan: HTTP Error: 400\n",
      "Error getting neighborhood for nan, nan: HTTP Error: 400\n"
     ]
    },
    {
     "name": "stdout",
     "output_type": "stream",
     "text": [
      "Error getting neighborhood for nan, nan: HTTP Error: 400\n",
      "Error getting neighborhood for nan, nan: HTTP Error: 400\n",
      "Error getting neighborhood for nan, nan: HTTP Error: 400\n",
      "Error getting neighborhood for nan, nan: HTTP Error: 400\n",
      "Error getting neighborhood for nan, nan: HTTP Error: 400\n",
      "Error getting neighborhood for nan, nan: HTTP Error: 400\n"
     ]
    },
    {
     "name": "stdout",
     "output_type": "stream",
     "text": [
      "Error getting neighborhood for nan, nan: HTTP Error: 400\n",
      "Error getting neighborhood for nan, nan: HTTP Error: 400\n",
      "Error getting neighborhood for nan, nan: HTTP Error: 400\n",
      "Error getting neighborhood for nan, nan: HTTP Error: 400\n",
      "Error getting neighborhood for nan, nan: HTTP Error: 400\n",
      "Error getting neighborhood for nan, nan: HTTP Error: 400\n"
     ]
    },
    {
     "name": "stdout",
     "output_type": "stream",
     "text": [
      "Error getting neighborhood for nan, nan: HTTP Error: 400\n",
      "Error getting neighborhood for nan, nan: HTTP Error: 400\n",
      "Error getting neighborhood for nan, nan: HTTP Error: 400\n",
      "Error getting neighborhood for nan, nan: HTTP Error: 400\n",
      "Error getting neighborhood for nan, nan: HTTP Error: 400\n",
      "Error getting neighborhood for nan, nan: HTTP Error: 400\n",
      "Error getting neighborhood for nan, nan: HTTP Error: 400\n"
     ]
    },
    {
     "name": "stdout",
     "output_type": "stream",
     "text": [
      "Error getting neighborhood for nan, nan: HTTP Error: 400\n",
      "Error getting neighborhood for nan, nan: HTTP Error: 400\n",
      "Error getting neighborhood for nan, nan: HTTP Error: 400\n",
      "Error getting neighborhood for nan, nan: HTTP Error: 400\n",
      "Error getting neighborhood for nan, nan: HTTP Error: 400\n",
      "Error getting neighborhood for nan, nan: HTTP Error: 400\n"
     ]
    },
    {
     "name": "stdout",
     "output_type": "stream",
     "text": [
      "Error getting neighborhood for nan, nan: HTTP Error: 400\n",
      "Error getting neighborhood for nan, nan: HTTP Error: 400\n",
      "Error getting neighborhood for nan, nan: HTTP Error: 400\n",
      "Error getting neighborhood for nan, nan: HTTP Error: 400\n",
      "Error getting neighborhood for nan, nan: HTTP Error: 400\n",
      "Error getting neighborhood for nan, nan: HTTP Error: 400\n",
      "Error getting neighborhood for nan, nan: HTTP Error: 400\n"
     ]
    },
    {
     "name": "stdout",
     "output_type": "stream",
     "text": [
      "Error getting neighborhood for nan, nan: HTTP Error: 400\n",
      "Error getting neighborhood for nan, nan: HTTP Error: 400\n",
      "Error getting neighborhood for nan, nan: HTTP Error: 400\n",
      "Error getting neighborhood for nan, nan: HTTP Error: 400\n",
      "Error getting neighborhood for nan, nan: HTTP Error: 400\n"
     ]
    },
    {
     "name": "stdout",
     "output_type": "stream",
     "text": [
      "Error getting neighborhood for nan, nan: HTTP Error: 400\n",
      "Error getting neighborhood for nan, nan: HTTP Error: 400\n",
      "Error getting neighborhood for nan, nan: HTTP Error: 400\n",
      "Error getting neighborhood for nan, nan: HTTP Error: 400\n",
      "Error getting neighborhood for nan, nan: HTTP Error: 400\n",
      "Error getting neighborhood for nan, nan: HTTP Error: 400\n",
      "Error getting neighborhood for nan, nan: HTTP Error: 400\n"
     ]
    },
    {
     "name": "stdout",
     "output_type": "stream",
     "text": [
      "Error getting neighborhood for nan, nan: HTTP Error: 400\n",
      "Error getting neighborhood for nan, nan: HTTP Error: 400\n",
      "Error getting neighborhood for nan, nan: HTTP Error: 400\n",
      "Error getting neighborhood for nan, nan: HTTP Error: 400\n",
      "Error getting neighborhood for nan, nan: HTTP Error: 400\n",
      "Error getting neighborhood for nan, nan: HTTP Error: 400\n"
     ]
    },
    {
     "name": "stdout",
     "output_type": "stream",
     "text": [
      "Error getting neighborhood for nan, nan: HTTP Error: 400\n",
      "Error getting neighborhood for nan, nan: HTTP Error: 400\n",
      "Error getting neighborhood for nan, nan: HTTP Error: 400\n",
      "Error getting neighborhood for nan, nan: HTTP Error: 400\n",
      "Error getting neighborhood for nan, nan: HTTP Error: 400\n",
      "Error getting neighborhood for nan, nan: HTTP Error: 400\n",
      "Error getting neighborhood for nan, nan: HTTP Error: 400\n"
     ]
    },
    {
     "name": "stdout",
     "output_type": "stream",
     "text": [
      "Error getting neighborhood for nan, nan: HTTP Error: 400\n",
      "Error getting neighborhood for nan, nan: HTTP Error: 400\n",
      "Error getting neighborhood for nan, nan: HTTP Error: 400\n",
      "Error getting neighborhood for nan, nan: HTTP Error: 400\n",
      "Error getting neighborhood for nan, nan: HTTP Error: 400\n",
      "Error getting neighborhood for nan, nan: HTTP Error: 400\n"
     ]
    },
    {
     "name": "stdout",
     "output_type": "stream",
     "text": [
      "Error getting neighborhood for nan, nan: HTTP Error: 400\n",
      "Error getting neighborhood for nan, nan: HTTP Error: 400\n"
     ]
    },
    {
     "data": {
      "text/html": [
       "<div>\n",
       "<style scoped>\n",
       "    .dataframe tbody tr th:only-of-type {\n",
       "        vertical-align: middle;\n",
       "    }\n",
       "\n",
       "    .dataframe tbody tr th {\n",
       "        vertical-align: top;\n",
       "    }\n",
       "\n",
       "    .dataframe thead th {\n",
       "        text-align: right;\n",
       "    }\n",
       "</style>\n",
       "<table border=\"1\" class=\"dataframe\">\n",
       "  <thead>\n",
       "    <tr style=\"text-align: right;\">\n",
       "      <th></th>\n",
       "      <th>RecordID</th>\n",
       "      <th>Offense</th>\n",
       "      <th>IncidentID</th>\n",
       "      <th>BlockNumber</th>\n",
       "      <th>StreetName</th>\n",
       "      <th>Agency</th>\n",
       "      <th>HourReported</th>\n",
       "      <th>ReportingOfficer</th>\n",
       "      <th>Date</th>\n",
       "      <th>DateString</th>\n",
       "      <th>DayOfWeek</th>\n",
       "      <th>Weekend</th>\n",
       "      <th>Season</th>\n",
       "      <th>HourAMPM</th>\n",
       "      <th>TimeOfDay</th>\n",
       "      <th>FullStreet</th>\n",
       "      <th>lat</th>\n",
       "      <th>lon</th>\n",
       "      <th>neighborhood</th>\n",
       "    </tr>\n",
       "  </thead>\n",
       "  <tbody>\n",
       "    <tr>\n",
       "      <th>0</th>\n",
       "      <td>1</td>\n",
       "      <td>Suspicious Activity</td>\n",
       "      <td>202500026662</td>\n",
       "      <td>100</td>\n",
       "      <td>APPLE TREE RD, C</td>\n",
       "      <td>CPD</td>\n",
       "      <td>1929</td>\n",
       "      <td>Young, Steven</td>\n",
       "      <td>2025-07-28 19:29:27</td>\n",
       "      <td>2025-07-28 07:29:27 PM</td>\n",
       "      <td>Monday</td>\n",
       "      <td>False</td>\n",
       "      <td>Summer</td>\n",
       "      <td>07:29 PM</td>\n",
       "      <td>Evening</td>\n",
       "      <td>100 APPLE TREE RD, C</td>\n",
       "      <td>38.026265</td>\n",
       "      <td>-78.519385</td>\n",
       "      <td>Jefferson Park Avenue</td>\n",
       "    </tr>\n",
       "    <tr>\n",
       "      <th>1</th>\n",
       "      <td>2</td>\n",
       "      <td>Assault Aggravated</td>\n",
       "      <td>202500026661</td>\n",
       "      <td>100</td>\n",
       "      <td>E MARKET ST</td>\n",
       "      <td>CPD</td>\n",
       "      <td>1926</td>\n",
       "      <td>Thomas, Eric</td>\n",
       "      <td>2025-07-28 19:26:46</td>\n",
       "      <td>2025-07-28 07:26:46 PM</td>\n",
       "      <td>Monday</td>\n",
       "      <td>False</td>\n",
       "      <td>Summer</td>\n",
       "      <td>07:26 PM</td>\n",
       "      <td>Evening</td>\n",
       "      <td>100 E MARKET ST</td>\n",
       "      <td>38.031539</td>\n",
       "      <td>-78.481144</td>\n",
       "      <td>Downtown Mall</td>\n",
       "    </tr>\n",
       "    <tr>\n",
       "      <th>2</th>\n",
       "      <td>3</td>\n",
       "      <td>Misc - Criminal Call</td>\n",
       "      <td>202500026648</td>\n",
       "      <td>100</td>\n",
       "      <td>W MAIN ST, 1</td>\n",
       "      <td>CPD</td>\n",
       "      <td>1639</td>\n",
       "      <td>Benbow, Lauren</td>\n",
       "      <td>2025-07-28 16:39:41</td>\n",
       "      <td>2025-07-28 04:39:41 PM</td>\n",
       "      <td>Monday</td>\n",
       "      <td>False</td>\n",
       "      <td>Summer</td>\n",
       "      <td>04:39 PM</td>\n",
       "      <td>Afternoon</td>\n",
       "      <td>100 W MAIN ST, 1</td>\n",
       "      <td>38.030718</td>\n",
       "      <td>-78.481656</td>\n",
       "      <td>Downtown Mall</td>\n",
       "    </tr>\n",
       "    <tr>\n",
       "      <th>3</th>\n",
       "      <td>4</td>\n",
       "      <td>Lost/FoundProperty</td>\n",
       "      <td>202500026640</td>\n",
       "      <td>600</td>\n",
       "      <td>E MARKET ST</td>\n",
       "      <td>CPD</td>\n",
       "      <td>1550</td>\n",
       "      <td>Young, Steven</td>\n",
       "      <td>2025-07-28 15:50:31</td>\n",
       "      <td>2025-07-28 03:50:31 PM</td>\n",
       "      <td>Monday</td>\n",
       "      <td>False</td>\n",
       "      <td>Summer</td>\n",
       "      <td>03:50 PM</td>\n",
       "      <td>Afternoon</td>\n",
       "      <td>600 E MARKET ST</td>\n",
       "      <td>38.030175</td>\n",
       "      <td>-78.477574</td>\n",
       "      <td>Downtown Mall</td>\n",
       "    </tr>\n",
       "    <tr>\n",
       "      <th>4</th>\n",
       "      <td>5</td>\n",
       "      <td>Larceny - Shoplifitng</td>\n",
       "      <td>202500026638</td>\n",
       "      <td>1200</td>\n",
       "      <td>EMMET ST N</td>\n",
       "      <td>CPD</td>\n",
       "      <td>1544</td>\n",
       "      <td>Curry, Brian</td>\n",
       "      <td>2025-07-28 15:44:40</td>\n",
       "      <td>2025-07-28 03:44:40 PM</td>\n",
       "      <td>Monday</td>\n",
       "      <td>False</td>\n",
       "      <td>Summer</td>\n",
       "      <td>03:44 PM</td>\n",
       "      <td>Afternoon</td>\n",
       "      <td>1200 EMMET ST N</td>\n",
       "      <td>38.052917</td>\n",
       "      <td>-78.498591</td>\n",
       "      <td>The Meadows</td>\n",
       "    </tr>\n",
       "  </tbody>\n",
       "</table>\n",
       "</div>"
      ],
      "text/plain": [
       "   RecordID                Offense    IncidentID BlockNumber  \\\n",
       "0         1    Suspicious Activity  202500026662         100   \n",
       "1         2     Assault Aggravated  202500026661         100   \n",
       "2         3   Misc - Criminal Call  202500026648         100   \n",
       "3         4     Lost/FoundProperty  202500026640         600   \n",
       "4         5  Larceny - Shoplifitng  202500026638        1200   \n",
       "\n",
       "         StreetName Agency HourReported ReportingOfficer                Date  \\\n",
       "0  APPLE TREE RD, C    CPD         1929    Young, Steven 2025-07-28 19:29:27   \n",
       "1       E MARKET ST    CPD         1926     Thomas, Eric 2025-07-28 19:26:46   \n",
       "2      W MAIN ST, 1    CPD         1639   Benbow, Lauren 2025-07-28 16:39:41   \n",
       "3       E MARKET ST    CPD         1550    Young, Steven 2025-07-28 15:50:31   \n",
       "4        EMMET ST N    CPD         1544     Curry, Brian 2025-07-28 15:44:40   \n",
       "\n",
       "               DateString DayOfWeek  Weekend  Season  HourAMPM  TimeOfDay  \\\n",
       "0  2025-07-28 07:29:27 PM    Monday    False  Summer  07:29 PM    Evening   \n",
       "1  2025-07-28 07:26:46 PM    Monday    False  Summer  07:26 PM    Evening   \n",
       "2  2025-07-28 04:39:41 PM    Monday    False  Summer  04:39 PM  Afternoon   \n",
       "3  2025-07-28 03:50:31 PM    Monday    False  Summer  03:50 PM  Afternoon   \n",
       "4  2025-07-28 03:44:40 PM    Monday    False  Summer  03:44 PM  Afternoon   \n",
       "\n",
       "             FullStreet        lat        lon           neighborhood  \n",
       "0  100 APPLE TREE RD, C  38.026265 -78.519385  Jefferson Park Avenue  \n",
       "1       100 E MARKET ST  38.031539 -78.481144          Downtown Mall  \n",
       "2      100 W MAIN ST, 1  38.030718 -78.481656          Downtown Mall  \n",
       "3       600 E MARKET ST  38.030175 -78.477574          Downtown Mall  \n",
       "4       1200 EMMET ST N  38.052917 -78.498591            The Meadows  "
      ]
     },
     "execution_count": 10,
     "metadata": {},
     "output_type": "execute_result"
    }
   ],
   "source": [
    "# Initialize the Google Maps client.\n",
    "gmaps = googlemaps.Client(key=GOOGLE_API_KEY)\n",
    "\n",
    "# Try to load a persistent neighborhood cache if available.\n",
    "try:\n",
    "    with open(\"neighborhood_cache.pkl\", \"rb\") as f:\n",
    "        neighborhood_cache = pickle.load(f)\n",
    "    print(\"Loaded neighborhood cache.\")\n",
    "except FileNotFoundError:\n",
    "    neighborhood_cache = {}\n",
    "    print(\"No neighborhood cache found; starting fresh.\")\n",
    "\n",
    "def get_neighborhood(lat, lon):\n",
    "    \"\"\"\n",
    "    Reverse geocodes a latitude and longitude to retrieve the neighborhood.\n",
    "    Caches results to speed up subsequent lookups.\n",
    "    \"\"\"\n",
    "    key = (lat, lon)\n",
    "    if key in neighborhood_cache:\n",
    "        return neighborhood_cache[key]\n",
    "    \n",
    "    try:\n",
    "        result = gmaps.reverse_geocode((lat, lon))\n",
    "        if result:\n",
    "            # Look for the 'neighborhood' component in the first result.\n",
    "            for component in result[0]['address_components']:\n",
    "                if 'neighborhood' in component['types']:\n",
    "                    neighborhood = component['long_name']\n",
    "                    neighborhood_cache[key] = neighborhood\n",
    "                    return neighborhood\n",
    "            # If no neighborhood is found, return \"N/A\"\n",
    "            neighborhood_cache[key] = \"N/A\"\n",
    "            return \"N/A\"\n",
    "    except Exception as e:\n",
    "        print(f\"Error getting neighborhood for {lat}, {lon}: {e}\")\n",
    "        return \"N/A\"\n",
    "    \n",
    "    # Pause to respect usage limits.\n",
    "    time.sleep(1)\n",
    "\n",
    "# Example usage: Apply to your DataFrame 'df' that already has 'lat' and 'lon' columns.\n",
    "df['neighborhood'] = df.apply(lambda row: get_neighborhood(row['lat'], row['lon']), axis=1)\n",
    "\n",
    "# Save the updated neighborhood cache.\n",
    "with open(\"neighborhood_cache.pkl\", \"wb\") as f:\n",
    "    pickle.dump(neighborhood_cache, f)\n",
    "\n",
    "df.head()\n"
   ]
  },
  {
   "cell_type": "markdown",
   "id": "70332475",
   "metadata": {
    "papermill": {
     "duration": 0.005544,
     "end_time": "2025-07-31T01:11:14.556052",
     "exception": false,
     "start_time": "2025-07-31T01:11:14.550508",
     "status": "completed"
    },
    "tags": []
   },
   "source": [
    "### Zip"
   ]
  },
  {
   "cell_type": "code",
   "execution_count": 11,
   "id": "6dcd3585",
   "metadata": {
    "execution": {
     "iopub.execute_input": "2025-07-31T01:11:14.568055Z",
     "iopub.status.busy": "2025-07-31T01:11:14.567783Z",
     "iopub.status.idle": "2025-07-31T01:12:32.002336Z",
     "shell.execute_reply": "2025-07-31T01:12:32.001606Z"
    },
    "papermill": {
     "duration": 77.44188,
     "end_time": "2025-07-31T01:12:32.003414",
     "exception": false,
     "start_time": "2025-07-31T01:11:14.561534",
     "status": "completed"
    },
    "tags": []
   },
   "outputs": [
    {
     "name": "stdout",
     "output_type": "stream",
     "text": [
      "Loaded zip cache.\n",
      "Error getting ZIP for nan, nan: Must be a coordinate pair or Point\n"
     ]
    },
    {
     "name": "stdout",
     "output_type": "stream",
     "text": [
      "Error getting ZIP for nan, nan: Must be a coordinate pair or Point\n"
     ]
    },
    {
     "name": "stdout",
     "output_type": "stream",
     "text": [
      "Error getting ZIP for nan, nan: Must be a coordinate pair or Point\n"
     ]
    },
    {
     "name": "stdout",
     "output_type": "stream",
     "text": [
      "Error getting ZIP for nan, nan: Must be a coordinate pair or Point\n"
     ]
    },
    {
     "name": "stdout",
     "output_type": "stream",
     "text": [
      "Error getting ZIP for nan, nan: Must be a coordinate pair or Point\n"
     ]
    },
    {
     "name": "stdout",
     "output_type": "stream",
     "text": [
      "Error getting ZIP for nan, nan: Must be a coordinate pair or Point\n"
     ]
    },
    {
     "name": "stdout",
     "output_type": "stream",
     "text": [
      "Error getting ZIP for nan, nan: Must be a coordinate pair or Point\n"
     ]
    },
    {
     "name": "stdout",
     "output_type": "stream",
     "text": [
      "Error getting ZIP for nan, nan: Must be a coordinate pair or Point\n"
     ]
    },
    {
     "name": "stdout",
     "output_type": "stream",
     "text": [
      "Error getting ZIP for nan, nan: Must be a coordinate pair or Point\n"
     ]
    },
    {
     "name": "stdout",
     "output_type": "stream",
     "text": [
      "Error getting ZIP for nan, nan: Must be a coordinate pair or Point\n"
     ]
    },
    {
     "name": "stdout",
     "output_type": "stream",
     "text": [
      "Error getting ZIP for nan, nan: Must be a coordinate pair or Point\n"
     ]
    },
    {
     "name": "stdout",
     "output_type": "stream",
     "text": [
      "Error getting ZIP for nan, nan: Must be a coordinate pair or Point\n"
     ]
    },
    {
     "name": "stdout",
     "output_type": "stream",
     "text": [
      "Error getting ZIP for nan, nan: Must be a coordinate pair or Point\n"
     ]
    },
    {
     "name": "stdout",
     "output_type": "stream",
     "text": [
      "Error getting ZIP for nan, nan: Must be a coordinate pair or Point\n"
     ]
    },
    {
     "name": "stdout",
     "output_type": "stream",
     "text": [
      "Error getting ZIP for nan, nan: Must be a coordinate pair or Point\n"
     ]
    },
    {
     "name": "stdout",
     "output_type": "stream",
     "text": [
      "Error getting ZIP for nan, nan: Must be a coordinate pair or Point\n"
     ]
    },
    {
     "name": "stdout",
     "output_type": "stream",
     "text": [
      "Error getting ZIP for nan, nan: Must be a coordinate pair or Point\n"
     ]
    },
    {
     "name": "stdout",
     "output_type": "stream",
     "text": [
      "Error getting ZIP for nan, nan: Must be a coordinate pair or Point\n"
     ]
    },
    {
     "name": "stdout",
     "output_type": "stream",
     "text": [
      "Error getting ZIP for nan, nan: Must be a coordinate pair or Point\n"
     ]
    },
    {
     "name": "stdout",
     "output_type": "stream",
     "text": [
      "Error getting ZIP for nan, nan: Must be a coordinate pair or Point\n"
     ]
    },
    {
     "name": "stdout",
     "output_type": "stream",
     "text": [
      "Error getting ZIP for nan, nan: Must be a coordinate pair or Point\n"
     ]
    },
    {
     "name": "stdout",
     "output_type": "stream",
     "text": [
      "Error getting ZIP for nan, nan: Must be a coordinate pair or Point\n"
     ]
    },
    {
     "name": "stdout",
     "output_type": "stream",
     "text": [
      "Error getting ZIP for nan, nan: Must be a coordinate pair or Point\n"
     ]
    },
    {
     "name": "stdout",
     "output_type": "stream",
     "text": [
      "Error getting ZIP for nan, nan: Must be a coordinate pair or Point\n"
     ]
    },
    {
     "name": "stdout",
     "output_type": "stream",
     "text": [
      "Error getting ZIP for nan, nan: Must be a coordinate pair or Point\n"
     ]
    },
    {
     "name": "stdout",
     "output_type": "stream",
     "text": [
      "Error getting ZIP for nan, nan: Must be a coordinate pair or Point\n"
     ]
    },
    {
     "name": "stdout",
     "output_type": "stream",
     "text": [
      "Error getting ZIP for nan, nan: Must be a coordinate pair or Point\n"
     ]
    },
    {
     "name": "stdout",
     "output_type": "stream",
     "text": [
      "Error getting ZIP for nan, nan: Must be a coordinate pair or Point\n"
     ]
    },
    {
     "name": "stdout",
     "output_type": "stream",
     "text": [
      "Error getting ZIP for nan, nan: Must be a coordinate pair or Point\n"
     ]
    },
    {
     "name": "stdout",
     "output_type": "stream",
     "text": [
      "Error getting ZIP for nan, nan: Must be a coordinate pair or Point\n"
     ]
    },
    {
     "name": "stdout",
     "output_type": "stream",
     "text": [
      "Error getting ZIP for nan, nan: Must be a coordinate pair or Point\n"
     ]
    },
    {
     "name": "stdout",
     "output_type": "stream",
     "text": [
      "Error getting ZIP for nan, nan: Must be a coordinate pair or Point\n"
     ]
    },
    {
     "name": "stdout",
     "output_type": "stream",
     "text": [
      "Error getting ZIP for nan, nan: Must be a coordinate pair or Point\n"
     ]
    },
    {
     "name": "stdout",
     "output_type": "stream",
     "text": [
      "Error getting ZIP for nan, nan: Must be a coordinate pair or Point\n"
     ]
    },
    {
     "name": "stdout",
     "output_type": "stream",
     "text": [
      "Error getting ZIP for nan, nan: Must be a coordinate pair or Point\n"
     ]
    },
    {
     "name": "stdout",
     "output_type": "stream",
     "text": [
      "Error getting ZIP for nan, nan: Must be a coordinate pair or Point\n"
     ]
    },
    {
     "name": "stdout",
     "output_type": "stream",
     "text": [
      "Error getting ZIP for nan, nan: Must be a coordinate pair or Point\n"
     ]
    },
    {
     "name": "stdout",
     "output_type": "stream",
     "text": [
      "Error getting ZIP for nan, nan: Must be a coordinate pair or Point\n"
     ]
    },
    {
     "name": "stdout",
     "output_type": "stream",
     "text": [
      "Error getting ZIP for nan, nan: Must be a coordinate pair or Point\n"
     ]
    },
    {
     "name": "stdout",
     "output_type": "stream",
     "text": [
      "Error getting ZIP for nan, nan: Must be a coordinate pair or Point\n"
     ]
    },
    {
     "name": "stdout",
     "output_type": "stream",
     "text": [
      "Error getting ZIP for nan, nan: Must be a coordinate pair or Point\n"
     ]
    },
    {
     "name": "stdout",
     "output_type": "stream",
     "text": [
      "Error getting ZIP for nan, nan: Must be a coordinate pair or Point\n"
     ]
    },
    {
     "name": "stdout",
     "output_type": "stream",
     "text": [
      "Error getting ZIP for nan, nan: Must be a coordinate pair or Point\n"
     ]
    },
    {
     "name": "stdout",
     "output_type": "stream",
     "text": [
      "Error getting ZIP for nan, nan: Must be a coordinate pair or Point\n"
     ]
    },
    {
     "name": "stdout",
     "output_type": "stream",
     "text": [
      "Error getting ZIP for nan, nan: Must be a coordinate pair or Point\n"
     ]
    },
    {
     "name": "stdout",
     "output_type": "stream",
     "text": [
      "Error getting ZIP for nan, nan: Must be a coordinate pair or Point\n"
     ]
    },
    {
     "name": "stdout",
     "output_type": "stream",
     "text": [
      "Error getting ZIP for nan, nan: Must be a coordinate pair or Point\n"
     ]
    },
    {
     "name": "stdout",
     "output_type": "stream",
     "text": [
      "Error getting ZIP for nan, nan: Must be a coordinate pair or Point\n"
     ]
    },
    {
     "name": "stdout",
     "output_type": "stream",
     "text": [
      "Error getting ZIP for nan, nan: Must be a coordinate pair or Point\n"
     ]
    },
    {
     "name": "stdout",
     "output_type": "stream",
     "text": [
      "Error getting ZIP for nan, nan: Must be a coordinate pair or Point\n"
     ]
    },
    {
     "name": "stdout",
     "output_type": "stream",
     "text": [
      "Error getting ZIP for nan, nan: Must be a coordinate pair or Point\n"
     ]
    },
    {
     "name": "stdout",
     "output_type": "stream",
     "text": [
      "Error getting ZIP for nan, nan: Must be a coordinate pair or Point\n"
     ]
    },
    {
     "name": "stdout",
     "output_type": "stream",
     "text": [
      "Error getting ZIP for nan, nan: Must be a coordinate pair or Point\n"
     ]
    },
    {
     "name": "stdout",
     "output_type": "stream",
     "text": [
      "Error getting ZIP for nan, nan: Must be a coordinate pair or Point\n"
     ]
    },
    {
     "name": "stdout",
     "output_type": "stream",
     "text": [
      "Error getting ZIP for nan, nan: Must be a coordinate pair or Point\n"
     ]
    },
    {
     "name": "stdout",
     "output_type": "stream",
     "text": [
      "Error getting ZIP for nan, nan: Must be a coordinate pair or Point\n"
     ]
    },
    {
     "name": "stdout",
     "output_type": "stream",
     "text": [
      "Error getting ZIP for nan, nan: Must be a coordinate pair or Point\n"
     ]
    },
    {
     "name": "stdout",
     "output_type": "stream",
     "text": [
      "Error getting ZIP for nan, nan: Must be a coordinate pair or Point\n"
     ]
    },
    {
     "name": "stdout",
     "output_type": "stream",
     "text": [
      "Error getting ZIP for nan, nan: Must be a coordinate pair or Point\n"
     ]
    },
    {
     "name": "stdout",
     "output_type": "stream",
     "text": [
      "Error getting ZIP for nan, nan: Must be a coordinate pair or Point\n"
     ]
    },
    {
     "name": "stdout",
     "output_type": "stream",
     "text": [
      "Error getting ZIP for nan, nan: Must be a coordinate pair or Point\n"
     ]
    },
    {
     "name": "stdout",
     "output_type": "stream",
     "text": [
      "Error getting ZIP for nan, nan: Must be a coordinate pair or Point\n"
     ]
    },
    {
     "name": "stdout",
     "output_type": "stream",
     "text": [
      "Error getting ZIP for nan, nan: Must be a coordinate pair or Point\n"
     ]
    },
    {
     "name": "stdout",
     "output_type": "stream",
     "text": [
      "Error getting ZIP for nan, nan: Must be a coordinate pair or Point\n"
     ]
    },
    {
     "name": "stdout",
     "output_type": "stream",
     "text": [
      "Error getting ZIP for nan, nan: Must be a coordinate pair or Point\n"
     ]
    },
    {
     "name": "stdout",
     "output_type": "stream",
     "text": [
      "Error getting ZIP for nan, nan: Must be a coordinate pair or Point\n"
     ]
    },
    {
     "name": "stdout",
     "output_type": "stream",
     "text": [
      "Error getting ZIP for nan, nan: Must be a coordinate pair or Point\n"
     ]
    },
    {
     "name": "stdout",
     "output_type": "stream",
     "text": [
      "Error getting ZIP for nan, nan: Must be a coordinate pair or Point\n"
     ]
    },
    {
     "name": "stdout",
     "output_type": "stream",
     "text": [
      "Error getting ZIP for nan, nan: Must be a coordinate pair or Point\n"
     ]
    },
    {
     "name": "stdout",
     "output_type": "stream",
     "text": [
      "Error getting ZIP for nan, nan: Must be a coordinate pair or Point\n"
     ]
    },
    {
     "name": "stdout",
     "output_type": "stream",
     "text": [
      "Error getting ZIP for nan, nan: Must be a coordinate pair or Point\n"
     ]
    },
    {
     "name": "stdout",
     "output_type": "stream",
     "text": [
      "Error getting ZIP for nan, nan: Must be a coordinate pair or Point\n"
     ]
    },
    {
     "name": "stdout",
     "output_type": "stream",
     "text": [
      "Error getting ZIP for nan, nan: Must be a coordinate pair or Point\n"
     ]
    },
    {
     "name": "stdout",
     "output_type": "stream",
     "text": [
      "Error getting ZIP for nan, nan: Must be a coordinate pair or Point\n"
     ]
    },
    {
     "name": "stdout",
     "output_type": "stream",
     "text": [
      "Error getting ZIP for nan, nan: Must be a coordinate pair or Point\n"
     ]
    },
    {
     "name": "stdout",
     "output_type": "stream",
     "text": [
      "Error getting ZIP for nan, nan: Must be a coordinate pair or Point\n"
     ]
    },
    {
     "name": "stdout",
     "output_type": "stream",
     "text": [
      "Error getting ZIP for nan, nan: Must be a coordinate pair or Point\n"
     ]
    },
    {
     "data": {
      "text/html": [
       "<div>\n",
       "<style scoped>\n",
       "    .dataframe tbody tr th:only-of-type {\n",
       "        vertical-align: middle;\n",
       "    }\n",
       "\n",
       "    .dataframe tbody tr th {\n",
       "        vertical-align: top;\n",
       "    }\n",
       "\n",
       "    .dataframe thead th {\n",
       "        text-align: right;\n",
       "    }\n",
       "</style>\n",
       "<table border=\"1\" class=\"dataframe\">\n",
       "  <thead>\n",
       "    <tr style=\"text-align: right;\">\n",
       "      <th></th>\n",
       "      <th>RecordID</th>\n",
       "      <th>Offense</th>\n",
       "      <th>IncidentID</th>\n",
       "      <th>BlockNumber</th>\n",
       "      <th>StreetName</th>\n",
       "      <th>Agency</th>\n",
       "      <th>HourReported</th>\n",
       "      <th>ReportingOfficer</th>\n",
       "      <th>Date</th>\n",
       "      <th>DateString</th>\n",
       "      <th>DayOfWeek</th>\n",
       "      <th>Weekend</th>\n",
       "      <th>Season</th>\n",
       "      <th>HourAMPM</th>\n",
       "      <th>TimeOfDay</th>\n",
       "      <th>FullStreet</th>\n",
       "      <th>lat</th>\n",
       "      <th>lon</th>\n",
       "      <th>neighborhood</th>\n",
       "      <th>zip</th>\n",
       "    </tr>\n",
       "  </thead>\n",
       "  <tbody>\n",
       "    <tr>\n",
       "      <th>0</th>\n",
       "      <td>1</td>\n",
       "      <td>Suspicious Activity</td>\n",
       "      <td>202500026662</td>\n",
       "      <td>100</td>\n",
       "      <td>APPLE TREE RD, C</td>\n",
       "      <td>CPD</td>\n",
       "      <td>1929</td>\n",
       "      <td>Young, Steven</td>\n",
       "      <td>2025-07-28 19:29:27</td>\n",
       "      <td>2025-07-28 07:29:27 PM</td>\n",
       "      <td>Monday</td>\n",
       "      <td>False</td>\n",
       "      <td>Summer</td>\n",
       "      <td>07:29 PM</td>\n",
       "      <td>Evening</td>\n",
       "      <td>100 APPLE TREE RD, C</td>\n",
       "      <td>38.026265</td>\n",
       "      <td>-78.519385</td>\n",
       "      <td>Jefferson Park Avenue</td>\n",
       "      <td>22903</td>\n",
       "    </tr>\n",
       "    <tr>\n",
       "      <th>1</th>\n",
       "      <td>2</td>\n",
       "      <td>Assault Aggravated</td>\n",
       "      <td>202500026661</td>\n",
       "      <td>100</td>\n",
       "      <td>E MARKET ST</td>\n",
       "      <td>CPD</td>\n",
       "      <td>1926</td>\n",
       "      <td>Thomas, Eric</td>\n",
       "      <td>2025-07-28 19:26:46</td>\n",
       "      <td>2025-07-28 07:26:46 PM</td>\n",
       "      <td>Monday</td>\n",
       "      <td>False</td>\n",
       "      <td>Summer</td>\n",
       "      <td>07:26 PM</td>\n",
       "      <td>Evening</td>\n",
       "      <td>100 E MARKET ST</td>\n",
       "      <td>38.031539</td>\n",
       "      <td>-78.481144</td>\n",
       "      <td>Downtown Mall</td>\n",
       "      <td>22902</td>\n",
       "    </tr>\n",
       "    <tr>\n",
       "      <th>2</th>\n",
       "      <td>3</td>\n",
       "      <td>Misc - Criminal Call</td>\n",
       "      <td>202500026648</td>\n",
       "      <td>100</td>\n",
       "      <td>W MAIN ST, 1</td>\n",
       "      <td>CPD</td>\n",
       "      <td>1639</td>\n",
       "      <td>Benbow, Lauren</td>\n",
       "      <td>2025-07-28 16:39:41</td>\n",
       "      <td>2025-07-28 04:39:41 PM</td>\n",
       "      <td>Monday</td>\n",
       "      <td>False</td>\n",
       "      <td>Summer</td>\n",
       "      <td>04:39 PM</td>\n",
       "      <td>Afternoon</td>\n",
       "      <td>100 W MAIN ST, 1</td>\n",
       "      <td>38.030718</td>\n",
       "      <td>-78.481656</td>\n",
       "      <td>Downtown Mall</td>\n",
       "      <td>22902</td>\n",
       "    </tr>\n",
       "    <tr>\n",
       "      <th>3</th>\n",
       "      <td>4</td>\n",
       "      <td>Lost/FoundProperty</td>\n",
       "      <td>202500026640</td>\n",
       "      <td>600</td>\n",
       "      <td>E MARKET ST</td>\n",
       "      <td>CPD</td>\n",
       "      <td>1550</td>\n",
       "      <td>Young, Steven</td>\n",
       "      <td>2025-07-28 15:50:31</td>\n",
       "      <td>2025-07-28 03:50:31 PM</td>\n",
       "      <td>Monday</td>\n",
       "      <td>False</td>\n",
       "      <td>Summer</td>\n",
       "      <td>03:50 PM</td>\n",
       "      <td>Afternoon</td>\n",
       "      <td>600 E MARKET ST</td>\n",
       "      <td>38.030175</td>\n",
       "      <td>-78.477574</td>\n",
       "      <td>Downtown Mall</td>\n",
       "      <td>22902</td>\n",
       "    </tr>\n",
       "    <tr>\n",
       "      <th>4</th>\n",
       "      <td>5</td>\n",
       "      <td>Larceny - Shoplifitng</td>\n",
       "      <td>202500026638</td>\n",
       "      <td>1200</td>\n",
       "      <td>EMMET ST N</td>\n",
       "      <td>CPD</td>\n",
       "      <td>1544</td>\n",
       "      <td>Curry, Brian</td>\n",
       "      <td>2025-07-28 15:44:40</td>\n",
       "      <td>2025-07-28 03:44:40 PM</td>\n",
       "      <td>Monday</td>\n",
       "      <td>False</td>\n",
       "      <td>Summer</td>\n",
       "      <td>03:44 PM</td>\n",
       "      <td>Afternoon</td>\n",
       "      <td>1200 EMMET ST N</td>\n",
       "      <td>38.052917</td>\n",
       "      <td>-78.498591</td>\n",
       "      <td>The Meadows</td>\n",
       "      <td>22905</td>\n",
       "    </tr>\n",
       "  </tbody>\n",
       "</table>\n",
       "</div>"
      ],
      "text/plain": [
       "   RecordID                Offense    IncidentID BlockNumber  \\\n",
       "0         1    Suspicious Activity  202500026662         100   \n",
       "1         2     Assault Aggravated  202500026661         100   \n",
       "2         3   Misc - Criminal Call  202500026648         100   \n",
       "3         4     Lost/FoundProperty  202500026640         600   \n",
       "4         5  Larceny - Shoplifitng  202500026638        1200   \n",
       "\n",
       "         StreetName Agency HourReported ReportingOfficer                Date  \\\n",
       "0  APPLE TREE RD, C    CPD         1929    Young, Steven 2025-07-28 19:29:27   \n",
       "1       E MARKET ST    CPD         1926     Thomas, Eric 2025-07-28 19:26:46   \n",
       "2      W MAIN ST, 1    CPD         1639   Benbow, Lauren 2025-07-28 16:39:41   \n",
       "3       E MARKET ST    CPD         1550    Young, Steven 2025-07-28 15:50:31   \n",
       "4        EMMET ST N    CPD         1544     Curry, Brian 2025-07-28 15:44:40   \n",
       "\n",
       "               DateString DayOfWeek  Weekend  Season  HourAMPM  TimeOfDay  \\\n",
       "0  2025-07-28 07:29:27 PM    Monday    False  Summer  07:29 PM    Evening   \n",
       "1  2025-07-28 07:26:46 PM    Monday    False  Summer  07:26 PM    Evening   \n",
       "2  2025-07-28 04:39:41 PM    Monday    False  Summer  04:39 PM  Afternoon   \n",
       "3  2025-07-28 03:50:31 PM    Monday    False  Summer  03:50 PM  Afternoon   \n",
       "4  2025-07-28 03:44:40 PM    Monday    False  Summer  03:44 PM  Afternoon   \n",
       "\n",
       "             FullStreet        lat        lon           neighborhood    zip  \n",
       "0  100 APPLE TREE RD, C  38.026265 -78.519385  Jefferson Park Avenue  22903  \n",
       "1       100 E MARKET ST  38.031539 -78.481144          Downtown Mall  22902  \n",
       "2      100 W MAIN ST, 1  38.030718 -78.481656          Downtown Mall  22902  \n",
       "3       600 E MARKET ST  38.030175 -78.477574          Downtown Mall  22902  \n",
       "4       1200 EMMET ST N  38.052917 -78.498591            The Meadows  22905  "
      ]
     },
     "execution_count": 11,
     "metadata": {},
     "output_type": "execute_result"
    }
   ],
   "source": [
    "# Initialize the geocoder.\n",
    "geolocator = Nominatim(user_agent=\"zip_lookup\")\n",
    "\n",
    "# Try to load a persistent ZIP cache if available.\n",
    "try:\n",
    "    with open(\"zip_cache.pkl\", \"rb\") as f:\n",
    "        zip_cache = pickle.load(f)\n",
    "    print(\"Loaded zip cache.\")\n",
    "except FileNotFoundError:\n",
    "    zip_cache = {}\n",
    "    print(\"No zip cache found; starting fresh.\")\n",
    "\n",
    "def get_zip(lat, lon):\n",
    "    \"\"\"\n",
    "    Reverse geocodes a latitude and longitude to retrieve the ZIP code.\n",
    "    Caches results to speed up subsequent lookups.\n",
    "    \"\"\"\n",
    "    key = (lat, lon)\n",
    "    if key in zip_cache:\n",
    "        return zip_cache[key]\n",
    "    \n",
    "    try:\n",
    "        location = geolocator.reverse((lat, lon), exactly_one=True, timeout=10)\n",
    "        address = location.raw.get('address', {})\n",
    "        postal_code = address.get('postcode', \"N/A\")\n",
    "    except Exception as e:\n",
    "        print(f\"Error getting ZIP for {lat}, {lon}: {e}\")\n",
    "        postal_code = \"N/A\"\n",
    "    \n",
    "    zip_cache[key] = postal_code\n",
    "    # Pause to respect the usage policy.\n",
    "    time.sleep(1)\n",
    "    return postal_code\n",
    "\n",
    "# Apply the function to each row in the DataFrame.\n",
    "df['zip'] = df.apply(lambda row: get_zip(row['lat'], row['lon']), axis=1)\n",
    "\n",
    "# Save the updated ZIP cache.\n",
    "with open(\"zip_cache.pkl\", \"wb\") as f:\n",
    "    pickle.dump(zip_cache, f)\n",
    "\n",
    "df.head()\n"
   ]
  },
  {
   "cell_type": "code",
   "execution_count": 12,
   "id": "abd4dc30",
   "metadata": {
    "execution": {
     "iopub.execute_input": "2025-07-31T01:12:32.022205Z",
     "iopub.status.busy": "2025-07-31T01:12:32.021965Z",
     "iopub.status.idle": "2025-07-31T01:12:32.052975Z",
     "shell.execute_reply": "2025-07-31T01:12:32.052368Z"
    },
    "papermill": {
     "duration": 0.041462,
     "end_time": "2025-07-31T01:12:32.054044",
     "exception": false,
     "start_time": "2025-07-31T01:12:32.012582",
     "status": "completed"
    },
    "tags": []
   },
   "outputs": [
    {
     "name": "stdout",
     "output_type": "stream",
     "text": [
      "                  MissingCount  MissingPercentage\n",
      "RecordID                     0               0.00\n",
      "Offense                      0               0.00\n",
      "IncidentID                   0               0.00\n",
      "BlockNumber                  0               0.00\n",
      "StreetName                   0               0.00\n",
      "Agency                       0               0.00\n",
      "HourReported                 0               0.00\n",
      "ReportingOfficer            17               0.07\n",
      "Date                         0               0.00\n",
      "DateString                   0               0.00\n",
      "DayOfWeek                    0               0.00\n",
      "Weekend                      0               0.00\n",
      "Season                       0               0.00\n",
      "HourAMPM                     0               0.00\n",
      "TimeOfDay                    0               0.00\n",
      "FullStreet                   0               0.00\n",
      "lat                         77               0.30\n",
      "lon                         77               0.30\n",
      "neighborhood                 0               0.00\n",
      "zip                          0               0.00\n"
     ]
    }
   ],
   "source": [
    "missing_info = missing_percentage(df)\n",
    "print(missing_info)\n"
   ]
  },
  {
   "cell_type": "code",
   "execution_count": 13,
   "id": "e38480cf",
   "metadata": {
    "execution": {
     "iopub.execute_input": "2025-07-31T01:12:32.073449Z",
     "iopub.status.busy": "2025-07-31T01:12:32.073140Z",
     "iopub.status.idle": "2025-07-31T01:12:32.106282Z",
     "shell.execute_reply": "2025-07-31T01:12:32.105549Z"
    },
    "papermill": {
     "duration": 0.04418,
     "end_time": "2025-07-31T01:12:32.107454",
     "exception": false,
     "start_time": "2025-07-31T01:12:32.063274",
     "status": "completed"
    },
    "tags": []
   },
   "outputs": [
    {
     "name": "stdout",
     "output_type": "stream",
     "text": [
      "<class 'pandas.core.frame.DataFrame'>\n",
      "RangeIndex: 25604 entries, 0 to 25603\n",
      "Data columns (total 20 columns):\n",
      " #   Column            Non-Null Count  Dtype         \n",
      "---  ------            --------------  -----         \n",
      " 0   RecordID          25604 non-null  int64         \n",
      " 1   Offense           25604 non-null  object        \n",
      " 2   IncidentID        25604 non-null  object        \n",
      " 3   BlockNumber       25604 non-null  object        \n",
      " 4   StreetName        25604 non-null  object        \n",
      " 5   Agency            25604 non-null  object        \n",
      " 6   HourReported      25604 non-null  object        \n",
      " 7   ReportingOfficer  25587 non-null  object        \n",
      " 8   Date              25604 non-null  datetime64[ns]\n",
      " 9   DateString        25604 non-null  object        \n",
      " 10  DayOfWeek         25604 non-null  object        \n",
      " 11  Weekend           25604 non-null  bool          \n",
      " 12  Season            25604 non-null  object        \n",
      " 13  HourAMPM          25604 non-null  object        \n",
      " 14  TimeOfDay         25604 non-null  object        \n",
      " 15  FullStreet        25604 non-null  object        \n",
      " 16  lat               25527 non-null  float64       \n",
      " 17  lon               25527 non-null  float64       \n",
      " 18  neighborhood      25604 non-null  object        \n",
      " 19  zip               25604 non-null  object        \n",
      "dtypes: bool(1), datetime64[ns](1), float64(2), int64(1), object(15)\n",
      "memory usage: 3.7+ MB\n"
     ]
    }
   ],
   "source": [
    "df.info()"
   ]
  },
  {
   "cell_type": "code",
   "execution_count": 14,
   "id": "91f4ce17",
   "metadata": {
    "execution": {
     "iopub.execute_input": "2025-07-31T01:12:32.127909Z",
     "iopub.status.busy": "2025-07-31T01:12:32.127619Z",
     "iopub.status.idle": "2025-07-31T01:12:32.178925Z",
     "shell.execute_reply": "2025-07-31T01:12:32.178182Z"
    },
    "papermill": {
     "duration": 0.062924,
     "end_time": "2025-07-31T01:12:32.180064",
     "exception": false,
     "start_time": "2025-07-31T01:12:32.117140",
     "status": "completed"
    },
    "tags": []
   },
   "outputs": [
    {
     "data": {
      "text/html": [
       "<div>\n",
       "<style scoped>\n",
       "    .dataframe tbody tr th:only-of-type {\n",
       "        vertical-align: middle;\n",
       "    }\n",
       "\n",
       "    .dataframe tbody tr th {\n",
       "        vertical-align: top;\n",
       "    }\n",
       "\n",
       "    .dataframe thead th {\n",
       "        text-align: right;\n",
       "    }\n",
       "</style>\n",
       "<table border=\"1\" class=\"dataframe\">\n",
       "  <thead>\n",
       "    <tr style=\"text-align: right;\">\n",
       "      <th></th>\n",
       "      <th>RecordID</th>\n",
       "      <th>Offense</th>\n",
       "      <th>IncidentID</th>\n",
       "      <th>Agency</th>\n",
       "      <th>ReportingOfficer</th>\n",
       "      <th>Date</th>\n",
       "      <th>DayOfWeek</th>\n",
       "      <th>Weekend</th>\n",
       "      <th>Season</th>\n",
       "      <th>TimeOfDay</th>\n",
       "      <th>FullStreet</th>\n",
       "      <th>lat</th>\n",
       "      <th>lon</th>\n",
       "      <th>neighborhood</th>\n",
       "      <th>zip</th>\n",
       "    </tr>\n",
       "  </thead>\n",
       "  <tbody>\n",
       "    <tr>\n",
       "      <th>0</th>\n",
       "      <td>1</td>\n",
       "      <td>Suspicious Activity</td>\n",
       "      <td>202500026662</td>\n",
       "      <td>CPD</td>\n",
       "      <td>Young, Steven</td>\n",
       "      <td>2025-07-28 19:29:27</td>\n",
       "      <td>Monday</td>\n",
       "      <td>False</td>\n",
       "      <td>Summer</td>\n",
       "      <td>Evening</td>\n",
       "      <td>100 APPLE TREE RD, C</td>\n",
       "      <td>38.026265</td>\n",
       "      <td>-78.519385</td>\n",
       "      <td>Jefferson Park Avenue</td>\n",
       "      <td>22903</td>\n",
       "    </tr>\n",
       "    <tr>\n",
       "      <th>1</th>\n",
       "      <td>2</td>\n",
       "      <td>Assault Aggravated</td>\n",
       "      <td>202500026661</td>\n",
       "      <td>CPD</td>\n",
       "      <td>Thomas, Eric</td>\n",
       "      <td>2025-07-28 19:26:46</td>\n",
       "      <td>Monday</td>\n",
       "      <td>False</td>\n",
       "      <td>Summer</td>\n",
       "      <td>Evening</td>\n",
       "      <td>100 E MARKET ST</td>\n",
       "      <td>38.031539</td>\n",
       "      <td>-78.481144</td>\n",
       "      <td>Downtown Mall</td>\n",
       "      <td>22902</td>\n",
       "    </tr>\n",
       "    <tr>\n",
       "      <th>2</th>\n",
       "      <td>3</td>\n",
       "      <td>Misc - Criminal Call</td>\n",
       "      <td>202500026648</td>\n",
       "      <td>CPD</td>\n",
       "      <td>Benbow, Lauren</td>\n",
       "      <td>2025-07-28 16:39:41</td>\n",
       "      <td>Monday</td>\n",
       "      <td>False</td>\n",
       "      <td>Summer</td>\n",
       "      <td>Afternoon</td>\n",
       "      <td>100 W MAIN ST, 1</td>\n",
       "      <td>38.030718</td>\n",
       "      <td>-78.481656</td>\n",
       "      <td>Downtown Mall</td>\n",
       "      <td>22902</td>\n",
       "    </tr>\n",
       "    <tr>\n",
       "      <th>3</th>\n",
       "      <td>4</td>\n",
       "      <td>Lost/FoundProperty</td>\n",
       "      <td>202500026640</td>\n",
       "      <td>CPD</td>\n",
       "      <td>Young, Steven</td>\n",
       "      <td>2025-07-28 15:50:31</td>\n",
       "      <td>Monday</td>\n",
       "      <td>False</td>\n",
       "      <td>Summer</td>\n",
       "      <td>Afternoon</td>\n",
       "      <td>600 E MARKET ST</td>\n",
       "      <td>38.030175</td>\n",
       "      <td>-78.477574</td>\n",
       "      <td>Downtown Mall</td>\n",
       "      <td>22902</td>\n",
       "    </tr>\n",
       "    <tr>\n",
       "      <th>4</th>\n",
       "      <td>5</td>\n",
       "      <td>Larceny - Shoplifitng</td>\n",
       "      <td>202500026638</td>\n",
       "      <td>CPD</td>\n",
       "      <td>Curry, Brian</td>\n",
       "      <td>2025-07-28 15:44:40</td>\n",
       "      <td>Monday</td>\n",
       "      <td>False</td>\n",
       "      <td>Summer</td>\n",
       "      <td>Afternoon</td>\n",
       "      <td>1200 EMMET ST N</td>\n",
       "      <td>38.052917</td>\n",
       "      <td>-78.498591</td>\n",
       "      <td>The Meadows</td>\n",
       "      <td>22905</td>\n",
       "    </tr>\n",
       "  </tbody>\n",
       "</table>\n",
       "</div>"
      ],
      "text/plain": [
       "   RecordID                Offense    IncidentID Agency ReportingOfficer  \\\n",
       "0         1    Suspicious Activity  202500026662    CPD    Young, Steven   \n",
       "1         2     Assault Aggravated  202500026661    CPD     Thomas, Eric   \n",
       "2         3   Misc - Criminal Call  202500026648    CPD   Benbow, Lauren   \n",
       "3         4     Lost/FoundProperty  202500026640    CPD    Young, Steven   \n",
       "4         5  Larceny - Shoplifitng  202500026638    CPD     Curry, Brian   \n",
       "\n",
       "                 Date DayOfWeek  Weekend  Season  TimeOfDay  \\\n",
       "0 2025-07-28 19:29:27    Monday    False  Summer    Evening   \n",
       "1 2025-07-28 19:26:46    Monday    False  Summer    Evening   \n",
       "2 2025-07-28 16:39:41    Monday    False  Summer  Afternoon   \n",
       "3 2025-07-28 15:50:31    Monday    False  Summer  Afternoon   \n",
       "4 2025-07-28 15:44:40    Monday    False  Summer  Afternoon   \n",
       "\n",
       "             FullStreet        lat        lon           neighborhood    zip  \n",
       "0  100 APPLE TREE RD, C  38.026265 -78.519385  Jefferson Park Avenue  22903  \n",
       "1       100 E MARKET ST  38.031539 -78.481144          Downtown Mall  22902  \n",
       "2      100 W MAIN ST, 1  38.030718 -78.481656          Downtown Mall  22902  \n",
       "3       600 E MARKET ST  38.030175 -78.477574          Downtown Mall  22902  \n",
       "4       1200 EMMET ST N  38.052917 -78.498591            The Meadows  22905  "
      ]
     },
     "execution_count": 14,
     "metadata": {},
     "output_type": "execute_result"
    }
   ],
   "source": [
    "# Now drop the original BlockNumber and StreetName columns\n",
    "df.drop(columns=['BlockNumber', 'StreetName','HourAMPM','HourReported','DateString'], inplace=True)\n",
    "df[\"zip\"] = df[\"zip\"].astype(str)\n",
    "\n",
    "# Fill all missing values in the DataFrame with \"N/A\"\n",
    "df.replace({None: \"N/A\", np.nan: \"N/A\", \"\": \"N/A\"}, inplace=True)\n",
    "df.head()"
   ]
  },
  {
   "cell_type": "code",
   "execution_count": 15,
   "id": "7df29d96",
   "metadata": {
    "execution": {
     "iopub.execute_input": "2025-07-31T01:12:32.200227Z",
     "iopub.status.busy": "2025-07-31T01:12:32.199900Z",
     "iopub.status.idle": "2025-07-31T01:12:32.223955Z",
     "shell.execute_reply": "2025-07-31T01:12:32.223216Z"
    },
    "papermill": {
     "duration": 0.035372,
     "end_time": "2025-07-31T01:12:32.225132",
     "exception": false,
     "start_time": "2025-07-31T01:12:32.189760",
     "status": "completed"
    },
    "tags": []
   },
   "outputs": [
    {
     "name": "stdout",
     "output_type": "stream",
     "text": [
      "                  MissingCount  MissingPercentage\n",
      "RecordID                     0                0.0\n",
      "Offense                      0                0.0\n",
      "IncidentID                   0                0.0\n",
      "Agency                       0                0.0\n",
      "ReportingOfficer             0                0.0\n",
      "Date                         0                0.0\n",
      "DayOfWeek                    0                0.0\n",
      "Weekend                      0                0.0\n",
      "Season                       0                0.0\n",
      "TimeOfDay                    0                0.0\n",
      "FullStreet                   0                0.0\n",
      "lat                          0                0.0\n",
      "lon                          0                0.0\n",
      "neighborhood                 0                0.0\n",
      "zip                          0                0.0\n"
     ]
    }
   ],
   "source": [
    "missing_info = missing_percentage(df)\n",
    "print(missing_info)"
   ]
  },
  {
   "cell_type": "code",
   "execution_count": 16,
   "id": "eeea1bfb",
   "metadata": {
    "execution": {
     "iopub.execute_input": "2025-07-31T01:12:32.245174Z",
     "iopub.status.busy": "2025-07-31T01:12:32.244912Z",
     "iopub.status.idle": "2025-07-31T01:12:32.249651Z",
     "shell.execute_reply": "2025-07-31T01:12:32.249051Z"
    },
    "papermill": {
     "duration": 0.015806,
     "end_time": "2025-07-31T01:12:32.250722",
     "exception": false,
     "start_time": "2025-07-31T01:12:32.234916",
     "status": "completed"
    },
    "tags": []
   },
   "outputs": [
    {
     "data": {
      "text/plain": [
       "Index(['RecordID', 'Offense', 'IncidentID', 'Agency', 'ReportingOfficer',\n",
       "       'Date', 'DayOfWeek', 'Weekend', 'Season', 'TimeOfDay', 'FullStreet',\n",
       "       'lat', 'lon', 'neighborhood', 'zip'],\n",
       "      dtype='object')"
      ]
     },
     "execution_count": 16,
     "metadata": {},
     "output_type": "execute_result"
    }
   ],
   "source": [
    "df.columns"
   ]
  },
  {
   "cell_type": "code",
   "execution_count": 17,
   "id": "9bdea458",
   "metadata": {
    "execution": {
     "iopub.execute_input": "2025-07-31T01:12:32.270537Z",
     "iopub.status.busy": "2025-07-31T01:12:32.270243Z",
     "iopub.status.idle": "2025-07-31T01:12:32.295806Z",
     "shell.execute_reply": "2025-07-31T01:12:32.295143Z"
    },
    "papermill": {
     "duration": 0.036677,
     "end_time": "2025-07-31T01:12:32.296870",
     "exception": false,
     "start_time": "2025-07-31T01:12:32.260193",
     "status": "completed"
    },
    "tags": []
   },
   "outputs": [
    {
     "name": "stdout",
     "output_type": "stream",
     "text": [
      "<class 'pandas.core.frame.DataFrame'>\n",
      "RangeIndex: 25604 entries, 0 to 25603\n",
      "Data columns (total 15 columns):\n",
      " #   Column            Non-Null Count  Dtype         \n",
      "---  ------            --------------  -----         \n",
      " 0   RecordID          25604 non-null  int64         \n",
      " 1   Offense           25604 non-null  object        \n",
      " 2   IncidentID        25604 non-null  object        \n",
      " 3   Agency            25604 non-null  object        \n",
      " 4   ReportingOfficer  25604 non-null  object        \n",
      " 5   Date              25604 non-null  datetime64[ns]\n",
      " 6   DayOfWeek         25604 non-null  object        \n",
      " 7   Weekend           25604 non-null  bool          \n",
      " 8   Season            25604 non-null  object        \n",
      " 9   TimeOfDay         25604 non-null  object        \n",
      " 10  FullStreet        25604 non-null  object        \n",
      " 11  lat               25604 non-null  object        \n",
      " 12  lon               25604 non-null  object        \n",
      " 13  neighborhood      25604 non-null  object        \n",
      " 14  zip               25604 non-null  object        \n",
      "dtypes: bool(1), datetime64[ns](1), int64(1), object(12)\n",
      "memory usage: 2.8+ MB\n"
     ]
    }
   ],
   "source": [
    "df.info()"
   ]
  },
  {
   "cell_type": "markdown",
   "id": "f1a52c3e",
   "metadata": {
    "papermill": {
     "duration": 0.009536,
     "end_time": "2025-07-31T01:12:32.316416",
     "exception": false,
     "start_time": "2025-07-31T01:12:32.306880",
     "status": "completed"
    },
    "tags": []
   },
   "source": [
    "### Export Clean Data"
   ]
  },
  {
   "cell_type": "code",
   "execution_count": 18,
   "id": "5b4e4fb0",
   "metadata": {
    "execution": {
     "iopub.execute_input": "2025-07-31T01:12:32.336539Z",
     "iopub.status.busy": "2025-07-31T01:12:32.336227Z",
     "iopub.status.idle": "2025-07-31T01:12:41.734188Z",
     "shell.execute_reply": "2025-07-31T01:12:41.733458Z"
    },
    "papermill": {
     "duration": 9.409444,
     "end_time": "2025-07-31T01:12:41.735313",
     "exception": false,
     "start_time": "2025-07-31T01:12:32.325869",
     "status": "completed"
    },
    "tags": []
   },
   "outputs": [
    {
     "name": "stdout",
     "output_type": "stream",
     "text": [
      "Project Root: /home/runner/work/crime-data/crime-data\n"
     ]
    },
    {
     "name": "stdout",
     "output_type": "stream",
     "text": [
      "Data saved to: /home/runner/work/crime-data/crime-data/data/charlottesville_crime_incidents.csv\n"
     ]
    },
    {
     "name": "stdout",
     "output_type": "stream",
     "text": [
      "Excel saved to: /home/runner/work/crime-data/crime-data/data/charlottesville_crime_incidents.xlsx\n"
     ]
    }
   ],
   "source": [
    "# Determine the project root (assuming papermill is run from the repository root)\n",
    "project_root = os.getcwd()\n",
    "print(\"Project Root:\", project_root)\n",
    "\n",
    "# Set the data directory within the project root\n",
    "data_dir = os.path.join(project_root, \"data\")\n",
    "\n",
    "# Ensure the \"data\" directory exists (create it if it doesn't)\n",
    "if not os.path.exists(data_dir):\n",
    "    os.makedirs(data_dir)\n",
    "\n",
    "# Export the DataFrame to CSV in the \"data\" folder located in the project root\n",
    "csv_path = os.path.join(data_dir, \"charlottesville_crime_incidents.csv\")\n",
    "df.to_csv(csv_path, index=False)\n",
    "print(\"Data saved to:\", csv_path)\n",
    "\n",
    "# Construct the path to your Excel file\n",
    "excel_path = os.path.join(data_dir, \"charlottesville_crime_incidents.xlsx\")\n",
    "\n",
    "# Export the DataFrame to Excel\n",
    "df.to_excel(excel_path, index=False)\n",
    "print(\"Excel saved to:\", excel_path)\n"
   ]
  }
 ],
 "metadata": {
  "kernelspec": {
   "display_name": "Python 3",
   "language": "python",
   "name": "python3"
  },
  "language_info": {
   "codemirror_mode": {
    "name": "ipython",
    "version": 3
   },
   "file_extension": ".py",
   "mimetype": "text/x-python",
   "name": "python",
   "nbconvert_exporter": "python",
   "pygments_lexer": "ipython3",
   "version": "3.9.23"
  },
  "papermill": {
   "default_parameters": {},
   "duration": 160.649428,
   "end_time": "2025-07-31T01:12:42.262064",
   "environment_variables": {},
   "exception": null,
   "input_path": "notebook/Crime Data.ipynb",
   "output_path": "notebook/Crime Data_output.ipynb",
   "parameters": {},
   "start_time": "2025-07-31T01:10:01.612636",
   "version": "2.6.0"
  }
 },
 "nbformat": 4,
 "nbformat_minor": 5
}