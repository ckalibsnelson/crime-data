{
 "cells": [
  {
   "cell_type": "markdown",
   "id": "83448f73",
   "metadata": {
    "papermill": {
     "duration": 0.007279,
     "end_time": "2025-05-24T01:00:34.904729",
     "exception": false,
     "start_time": "2025-05-24T01:00:34.897450",
     "status": "completed"
    },
    "tags": []
   },
   "source": [
    "# Charlottesville Open Data Porttal: Crime Data"
   ]
  },
  {
   "cell_type": "markdown",
   "id": "ee2254e4",
   "metadata": {
    "papermill": {
     "duration": 0.005005,
     "end_time": "2025-05-24T01:00:34.915189",
     "exception": false,
     "start_time": "2025-05-24T01:00:34.910184",
     "status": "completed"
    },
    "tags": []
   },
   "source": [
    "## Import Relevant Librarires & Set WD"
   ]
  },
  {
   "cell_type": "code",
   "execution_count": 1,
   "id": "c5aaebe2",
   "metadata": {
    "execution": {
     "iopub.execute_input": "2025-05-24T01:00:34.926222Z",
     "iopub.status.busy": "2025-05-24T01:00:34.925972Z",
     "iopub.status.idle": "2025-05-24T01:00:35.691608Z",
     "shell.execute_reply": "2025-05-24T01:00:35.690835Z"
    },
    "papermill": {
     "duration": 0.77321,
     "end_time": "2025-05-24T01:00:35.693419",
     "exception": false,
     "start_time": "2025-05-24T01:00:34.920209",
     "status": "completed"
    },
    "tags": []
   },
   "outputs": [],
   "source": [
    "import requests\n",
    "import pandas as pd\n",
    "import numpy as np\n",
    "import pickle\n",
    "import googlemaps\n",
    "import plotly.express as px\n",
    "from geopy.geocoders import Nominatim\n",
    "import time\n",
    "from dotenv import load_dotenv\n",
    "import os\n",
    "\n",
    "env_path = os.path.join(\"..\", \".env\")\n",
    "#print(\"Looking for .env file at:\", os.path.abspath(env_path))\n",
    "load_dotenv(dotenv_path=env_path)\n",
    "\n",
    "# Retrieve the variables\n",
    "GOOGLE_API_KEY = os.getenv(\"GOOGLE_API_KEY\")\n",
    "WORKING_DIR = os.getenv(\"WORKING_DIR\")\n",
    "\n",
    "if GOOGLE_API_KEY is None or WORKING_DIR is None:\n",
    "    raise RuntimeError(\"No configuration found. Please ensure that your .env file exists with the required variables, or create a local config.py file.\")\n",
    "\n",
    "#print(\"Google API Key:\", GOOGLE_API_KEY)\n",
    "#print(\"Working Directory:\", WORKING_DIR)"
   ]
  },
  {
   "cell_type": "markdown",
   "id": "4f90bda3",
   "metadata": {
    "papermill": {
     "duration": 0.008282,
     "end_time": "2025-05-24T01:00:35.710287",
     "exception": false,
     "start_time": "2025-05-24T01:00:35.702005",
     "status": "completed"
    },
    "tags": []
   },
   "source": [
    "## Import Data\n",
    "\n",
    "URL: https://opendata.charlottesville.org/datasets/charlottesville::crime-data/about"
   ]
  },
  {
   "cell_type": "code",
   "execution_count": 2,
   "id": "2ebf2f3d",
   "metadata": {
    "execution": {
     "iopub.execute_input": "2025-05-24T01:00:35.737313Z",
     "iopub.status.busy": "2025-05-24T01:00:35.736745Z",
     "iopub.status.idle": "2025-05-24T01:01:36.094069Z",
     "shell.execute_reply": "2025-05-24T01:01:36.093336Z"
    },
    "papermill": {
     "duration": 60.403553,
     "end_time": "2025-05-24T01:01:36.121849",
     "exception": false,
     "start_time": "2025-05-24T01:00:35.718296",
     "status": "completed"
    },
    "tags": []
   },
   "outputs": [
    {
     "name": "stdout",
     "output_type": "stream",
     "text": [
      "Total records imported: 25427\n"
     ]
    }
   ],
   "source": [
    "# Define the endpoint and initial parameters.\n",
    "url = \"https://gisweb.charlottesville.org/arcgis/rest/services/OpenData_2/MapServer/6/query\"\n",
    "params = {\n",
    "    \"where\": \"1=1\",\n",
    "    \"outFields\": \"*\",\n",
    "    \"outSR\": 4326,\n",
    "    \"f\": \"json\",\n",
    "    \"resultOffset\": 0,       # Starting index for results\n",
    "    \"resultRecordCount\": 10000  # Maximum records per batch (if allowed by the API)\n",
    "}\n",
    "\n",
    "records = []\n",
    "\n",
    "while True:\n",
    "    response = requests.get(url, params=params)\n",
    "    response.raise_for_status()\n",
    "    data = response.json()\n",
    "    \n",
    "    # Get the current batch of features.\n",
    "    features = data.get(\"features\", [])\n",
    "    if not features:\n",
    "        break\n",
    "\n",
    "    # Extract the attributes from the features.\n",
    "    batch_records = [feature.get(\"attributes\", {}) for feature in features]\n",
    "    records.extend(batch_records)\n",
    "    \n",
    "    # If the batch size is less than the requested count, we reached the end.\n",
    "    if len(features) < params[\"resultRecordCount\"]:\n",
    "        break\n",
    "\n",
    "    # Update the resultOffset for the next batch.\n",
    "    params[\"resultOffset\"] += params[\"resultRecordCount\"]\n",
    "\n",
    "# Create a DataFrame from the combined records.\n",
    "df = pd.DataFrame(records)\n",
    "print(\"Total records imported:\", len(df))\n"
   ]
  },
  {
   "cell_type": "code",
   "execution_count": 3,
   "id": "1249ea4b",
   "metadata": {
    "execution": {
     "iopub.execute_input": "2025-05-24T01:01:36.133739Z",
     "iopub.status.busy": "2025-05-24T01:01:36.133253Z",
     "iopub.status.idle": "2025-05-24T01:01:36.146005Z",
     "shell.execute_reply": "2025-05-24T01:01:36.145357Z"
    },
    "papermill": {
     "duration": 0.019803,
     "end_time": "2025-05-24T01:01:36.146997",
     "exception": false,
     "start_time": "2025-05-24T01:01:36.127194",
     "status": "completed"
    },
    "tags": []
   },
   "outputs": [
    {
     "data": {
      "text/html": [
       "<div>\n",
       "<style scoped>\n",
       "    .dataframe tbody tr th:only-of-type {\n",
       "        vertical-align: middle;\n",
       "    }\n",
       "\n",
       "    .dataframe tbody tr th {\n",
       "        vertical-align: top;\n",
       "    }\n",
       "\n",
       "    .dataframe thead th {\n",
       "        text-align: right;\n",
       "    }\n",
       "</style>\n",
       "<table border=\"1\" class=\"dataframe\">\n",
       "  <thead>\n",
       "    <tr style=\"text-align: right;\">\n",
       "      <th></th>\n",
       "      <th>RecordID</th>\n",
       "      <th>Offense</th>\n",
       "      <th>IncidentID</th>\n",
       "      <th>BlockNumber</th>\n",
       "      <th>StreetName</th>\n",
       "      <th>Agency</th>\n",
       "      <th>DateReported</th>\n",
       "      <th>HourReported</th>\n",
       "      <th>ReportingOfficer</th>\n",
       "    </tr>\n",
       "  </thead>\n",
       "  <tbody>\n",
       "    <tr>\n",
       "      <th>0</th>\n",
       "      <td>1</td>\n",
       "      <td>Assist Citizen - Mental/TDO/ECO</td>\n",
       "      <td>202500017395</td>\n",
       "      <td>100</td>\n",
       "      <td>7TH ST NE</td>\n",
       "      <td>CPD</td>\n",
       "      <td>1747880821000</td>\n",
       "      <td>2227</td>\n",
       "      <td>Abdelgayed, Adam</td>\n",
       "    </tr>\n",
       "    <tr>\n",
       "      <th>1</th>\n",
       "      <td>2</td>\n",
       "      <td>Hit and Run</td>\n",
       "      <td>202500017393</td>\n",
       "      <td></td>\n",
       "      <td>EMMET ST N / EARHART ST</td>\n",
       "      <td>CPD</td>\n",
       "      <td>1747879843000</td>\n",
       "      <td>2210</td>\n",
       "      <td>Hudson, Jesse</td>\n",
       "    </tr>\n",
       "    <tr>\n",
       "      <th>2</th>\n",
       "      <td>3</td>\n",
       "      <td>Disorderly Conduct</td>\n",
       "      <td>202500017392</td>\n",
       "      <td>200</td>\n",
       "      <td>RIDGE MCINTIRE RD</td>\n",
       "      <td>CPD</td>\n",
       "      <td>1747878905000</td>\n",
       "      <td>2155</td>\n",
       "      <td>Venereo, Arturo</td>\n",
       "    </tr>\n",
       "    <tr>\n",
       "      <th>3</th>\n",
       "      <td>4</td>\n",
       "      <td>Larceny - Shoplifitng</td>\n",
       "      <td>202500017383</td>\n",
       "      <td>500</td>\n",
       "      <td>W MAIN ST</td>\n",
       "      <td>CPD</td>\n",
       "      <td>1747871377000</td>\n",
       "      <td>1949</td>\n",
       "      <td>Davis, Charles</td>\n",
       "    </tr>\n",
       "    <tr>\n",
       "      <th>4</th>\n",
       "      <td>5</td>\n",
       "      <td>Weapons Violations</td>\n",
       "      <td>202500017376</td>\n",
       "      <td>300</td>\n",
       "      <td>E WATER ST</td>\n",
       "      <td>CPD</td>\n",
       "      <td>1747867158000</td>\n",
       "      <td>1839</td>\n",
       "      <td>Shiflett, Ethan</td>\n",
       "    </tr>\n",
       "  </tbody>\n",
       "</table>\n",
       "</div>"
      ],
      "text/plain": [
       "   RecordID                          Offense    IncidentID BlockNumber  \\\n",
       "0         1  Assist Citizen - Mental/TDO/ECO  202500017395         100   \n",
       "1         2                      Hit and Run  202500017393               \n",
       "2         3               Disorderly Conduct  202500017392         200   \n",
       "3         4            Larceny - Shoplifitng  202500017383         500   \n",
       "4         5               Weapons Violations  202500017376         300   \n",
       "\n",
       "                StreetName Agency   DateReported HourReported  \\\n",
       "0                7TH ST NE    CPD  1747880821000         2227   \n",
       "1  EMMET ST N / EARHART ST    CPD  1747879843000         2210   \n",
       "2        RIDGE MCINTIRE RD    CPD  1747878905000         2155   \n",
       "3                W MAIN ST    CPD  1747871377000         1949   \n",
       "4               E WATER ST    CPD  1747867158000         1839   \n",
       "\n",
       "   ReportingOfficer  \n",
       "0  Abdelgayed, Adam  \n",
       "1     Hudson, Jesse  \n",
       "2   Venereo, Arturo  \n",
       "3    Davis, Charles  \n",
       "4  Shiflett, Ethan   "
      ]
     },
     "execution_count": 3,
     "metadata": {},
     "output_type": "execute_result"
    }
   ],
   "source": [
    "df.head()"
   ]
  },
  {
   "cell_type": "code",
   "execution_count": 4,
   "id": "00d937f6",
   "metadata": {
    "execution": {
     "iopub.execute_input": "2025-05-24T01:01:36.158543Z",
     "iopub.status.busy": "2025-05-24T01:01:36.158161Z",
     "iopub.status.idle": "2025-05-24T01:01:36.162365Z",
     "shell.execute_reply": "2025-05-24T01:01:36.161751Z"
    },
    "papermill": {
     "duration": 0.011055,
     "end_time": "2025-05-24T01:01:36.163381",
     "exception": false,
     "start_time": "2025-05-24T01:01:36.152326",
     "status": "completed"
    },
    "tags": []
   },
   "outputs": [
    {
     "data": {
      "text/plain": [
       "Index(['RecordID', 'Offense', 'IncidentID', 'BlockNumber', 'StreetName',\n",
       "       'Agency', 'DateReported', 'HourReported', 'ReportingOfficer'],\n",
       "      dtype='object')"
      ]
     },
     "execution_count": 4,
     "metadata": {},
     "output_type": "execute_result"
    }
   ],
   "source": [
    "df.columns"
   ]
  },
  {
   "cell_type": "code",
   "execution_count": 5,
   "id": "e82261b8",
   "metadata": {
    "execution": {
     "iopub.execute_input": "2025-05-24T01:01:36.175194Z",
     "iopub.status.busy": "2025-05-24T01:01:36.174706Z",
     "iopub.status.idle": "2025-05-24T01:01:36.197576Z",
     "shell.execute_reply": "2025-05-24T01:01:36.197043Z"
    },
    "papermill": {
     "duration": 0.029768,
     "end_time": "2025-05-24T01:01:36.198562",
     "exception": false,
     "start_time": "2025-05-24T01:01:36.168794",
     "status": "completed"
    },
    "tags": []
   },
   "outputs": [
    {
     "name": "stdout",
     "output_type": "stream",
     "text": [
      "<class 'pandas.core.frame.DataFrame'>\n",
      "RangeIndex: 25427 entries, 0 to 25426\n",
      "Data columns (total 9 columns):\n",
      " #   Column            Non-Null Count  Dtype \n",
      "---  ------            --------------  ----- \n",
      " 0   RecordID          25427 non-null  int64 \n",
      " 1   Offense           25427 non-null  object\n",
      " 2   IncidentID        25427 non-null  object\n",
      " 3   BlockNumber       25427 non-null  object\n",
      " 4   StreetName        25427 non-null  object\n",
      " 5   Agency            25427 non-null  object\n",
      " 6   DateReported      25427 non-null  int64 \n",
      " 7   HourReported      25427 non-null  object\n",
      " 8   ReportingOfficer  25410 non-null  object\n",
      "dtypes: int64(2), object(7)\n",
      "memory usage: 1.7+ MB\n"
     ]
    }
   ],
   "source": [
    "df.info()"
   ]
  },
  {
   "cell_type": "markdown",
   "id": "28e28e0c",
   "metadata": {
    "papermill": {
     "duration": 0.005466,
     "end_time": "2025-05-24T01:01:36.209639",
     "exception": false,
     "start_time": "2025-05-24T01:01:36.204173",
     "status": "completed"
    },
    "tags": []
   },
   "source": [
    "### Missing Values"
   ]
  },
  {
   "cell_type": "code",
   "execution_count": 6,
   "id": "8622d907",
   "metadata": {
    "execution": {
     "iopub.execute_input": "2025-05-24T01:01:36.221625Z",
     "iopub.status.busy": "2025-05-24T01:01:36.221263Z",
     "iopub.status.idle": "2025-05-24T01:01:36.239629Z",
     "shell.execute_reply": "2025-05-24T01:01:36.239081Z"
    },
    "papermill": {
     "duration": 0.025532,
     "end_time": "2025-05-24T01:01:36.240676",
     "exception": false,
     "start_time": "2025-05-24T01:01:36.215144",
     "status": "completed"
    },
    "tags": []
   },
   "outputs": [
    {
     "name": "stdout",
     "output_type": "stream",
     "text": [
      "                  MissingCount  MissingPercentage\n",
      "RecordID                     0               0.00\n",
      "Offense                      0               0.00\n",
      "IncidentID                   0               0.00\n",
      "BlockNumber                  0               0.00\n",
      "StreetName                   0               0.00\n",
      "Agency                       0               0.00\n",
      "DateReported                 0               0.00\n",
      "HourReported                 0               0.00\n",
      "ReportingOfficer            17               0.07\n"
     ]
    }
   ],
   "source": [
    "def missing_percentage(df):\n",
    "    \"\"\"\n",
    "    Returns a DataFrame with the count and percentage of missing values for each column.\n",
    "    \n",
    "    Parameters:\n",
    "        df (pd.DataFrame): The input DataFrame.\n",
    "    \n",
    "    Returns:\n",
    "        pd.DataFrame: A DataFrame with columns 'MissingCount' and 'MissingPercentage'.\n",
    "    \"\"\"\n",
    "    total_rows = len(df)\n",
    "    missing_count = df.isnull().sum()\n",
    "    missing_percent = (missing_count / total_rows) * 100\n",
    "    \n",
    "    result = pd.DataFrame({\n",
    "        'MissingCount': missing_count,\n",
    "        'MissingPercentage': missing_percent.round(2)\n",
    "    })\n",
    "    \n",
    "    return result\n",
    "\n",
    "# Example usage:\n",
    "missing_info = missing_percentage(df)\n",
    "print(missing_info)\n"
   ]
  },
  {
   "cell_type": "markdown",
   "id": "dd697ffa",
   "metadata": {
    "papermill": {
     "duration": 0.005683,
     "end_time": "2025-05-24T01:01:36.252103",
     "exception": false,
     "start_time": "2025-05-24T01:01:36.246420",
     "status": "completed"
    },
    "tags": []
   },
   "source": [
    "## Data Preparation"
   ]
  },
  {
   "cell_type": "markdown",
   "id": "ce6e9d34",
   "metadata": {
    "papermill": {
     "duration": 0.005512,
     "end_time": "2025-05-24T01:01:36.263145",
     "exception": false,
     "start_time": "2025-05-24T01:01:36.257633",
     "status": "completed"
    },
    "tags": []
   },
   "source": [
    "### Data Conversion"
   ]
  },
  {
   "cell_type": "code",
   "execution_count": 7,
   "id": "146d7a04",
   "metadata": {
    "execution": {
     "iopub.execute_input": "2025-05-24T01:01:36.275483Z",
     "iopub.status.busy": "2025-05-24T01:01:36.275012Z",
     "iopub.status.idle": "2025-05-24T01:01:36.649182Z",
     "shell.execute_reply": "2025-05-24T01:01:36.648481Z"
    },
    "papermill": {
     "duration": 0.381569,
     "end_time": "2025-05-24T01:01:36.650256",
     "exception": false,
     "start_time": "2025-05-24T01:01:36.268687",
     "status": "completed"
    },
    "tags": []
   },
   "outputs": [
    {
     "data": {
      "text/html": [
       "<div>\n",
       "<style scoped>\n",
       "    .dataframe tbody tr th:only-of-type {\n",
       "        vertical-align: middle;\n",
       "    }\n",
       "\n",
       "    .dataframe tbody tr th {\n",
       "        vertical-align: top;\n",
       "    }\n",
       "\n",
       "    .dataframe thead th {\n",
       "        text-align: right;\n",
       "    }\n",
       "</style>\n",
       "<table border=\"1\" class=\"dataframe\">\n",
       "  <thead>\n",
       "    <tr style=\"text-align: right;\">\n",
       "      <th></th>\n",
       "      <th>RecordID</th>\n",
       "      <th>Offense</th>\n",
       "      <th>IncidentID</th>\n",
       "      <th>BlockNumber</th>\n",
       "      <th>StreetName</th>\n",
       "      <th>Agency</th>\n",
       "      <th>HourReported</th>\n",
       "      <th>ReportingOfficer</th>\n",
       "      <th>Date</th>\n",
       "      <th>DateString</th>\n",
       "      <th>DayOfWeek</th>\n",
       "      <th>Weekend</th>\n",
       "      <th>Season</th>\n",
       "      <th>HourAMPM</th>\n",
       "      <th>TimeOfDay</th>\n",
       "    </tr>\n",
       "  </thead>\n",
       "  <tbody>\n",
       "    <tr>\n",
       "      <th>0</th>\n",
       "      <td>1</td>\n",
       "      <td>Assist Citizen - Mental/TDO/ECO</td>\n",
       "      <td>202500017395</td>\n",
       "      <td>100</td>\n",
       "      <td>7TH ST NE</td>\n",
       "      <td>CPD</td>\n",
       "      <td>2227</td>\n",
       "      <td>Abdelgayed, Adam</td>\n",
       "      <td>2025-05-21 22:27:01</td>\n",
       "      <td>2025-05-21 10:27:01 PM</td>\n",
       "      <td>Wednesday</td>\n",
       "      <td>False</td>\n",
       "      <td>Spring</td>\n",
       "      <td>10:27 PM</td>\n",
       "      <td>Night</td>\n",
       "    </tr>\n",
       "    <tr>\n",
       "      <th>1</th>\n",
       "      <td>2</td>\n",
       "      <td>Hit and Run</td>\n",
       "      <td>202500017393</td>\n",
       "      <td></td>\n",
       "      <td>EMMET ST N / EARHART ST</td>\n",
       "      <td>CPD</td>\n",
       "      <td>2210</td>\n",
       "      <td>Hudson, Jesse</td>\n",
       "      <td>2025-05-21 22:10:43</td>\n",
       "      <td>2025-05-21 10:10:43 PM</td>\n",
       "      <td>Wednesday</td>\n",
       "      <td>False</td>\n",
       "      <td>Spring</td>\n",
       "      <td>10:10 PM</td>\n",
       "      <td>Night</td>\n",
       "    </tr>\n",
       "    <tr>\n",
       "      <th>2</th>\n",
       "      <td>3</td>\n",
       "      <td>Disorderly Conduct</td>\n",
       "      <td>202500017392</td>\n",
       "      <td>200</td>\n",
       "      <td>RIDGE MCINTIRE RD</td>\n",
       "      <td>CPD</td>\n",
       "      <td>2155</td>\n",
       "      <td>Venereo, Arturo</td>\n",
       "      <td>2025-05-21 21:55:05</td>\n",
       "      <td>2025-05-21 09:55:05 PM</td>\n",
       "      <td>Wednesday</td>\n",
       "      <td>False</td>\n",
       "      <td>Spring</td>\n",
       "      <td>09:55 PM</td>\n",
       "      <td>Night</td>\n",
       "    </tr>\n",
       "    <tr>\n",
       "      <th>3</th>\n",
       "      <td>4</td>\n",
       "      <td>Larceny - Shoplifitng</td>\n",
       "      <td>202500017383</td>\n",
       "      <td>500</td>\n",
       "      <td>W MAIN ST</td>\n",
       "      <td>CPD</td>\n",
       "      <td>1949</td>\n",
       "      <td>Davis, Charles</td>\n",
       "      <td>2025-05-21 19:49:37</td>\n",
       "      <td>2025-05-21 07:49:37 PM</td>\n",
       "      <td>Wednesday</td>\n",
       "      <td>False</td>\n",
       "      <td>Spring</td>\n",
       "      <td>07:49 PM</td>\n",
       "      <td>Evening</td>\n",
       "    </tr>\n",
       "    <tr>\n",
       "      <th>4</th>\n",
       "      <td>5</td>\n",
       "      <td>Weapons Violations</td>\n",
       "      <td>202500017376</td>\n",
       "      <td>300</td>\n",
       "      <td>E WATER ST</td>\n",
       "      <td>CPD</td>\n",
       "      <td>1839</td>\n",
       "      <td>Shiflett, Ethan</td>\n",
       "      <td>2025-05-21 18:39:18</td>\n",
       "      <td>2025-05-21 06:39:18 PM</td>\n",
       "      <td>Wednesday</td>\n",
       "      <td>False</td>\n",
       "      <td>Spring</td>\n",
       "      <td>06:39 PM</td>\n",
       "      <td>Evening</td>\n",
       "    </tr>\n",
       "  </tbody>\n",
       "</table>\n",
       "</div>"
      ],
      "text/plain": [
       "   RecordID                          Offense    IncidentID BlockNumber  \\\n",
       "0         1  Assist Citizen - Mental/TDO/ECO  202500017395         100   \n",
       "1         2                      Hit and Run  202500017393               \n",
       "2         3               Disorderly Conduct  202500017392         200   \n",
       "3         4            Larceny - Shoplifitng  202500017383         500   \n",
       "4         5               Weapons Violations  202500017376         300   \n",
       "\n",
       "                StreetName Agency HourReported  ReportingOfficer  \\\n",
       "0                7TH ST NE    CPD         2227  Abdelgayed, Adam   \n",
       "1  EMMET ST N / EARHART ST    CPD         2210     Hudson, Jesse   \n",
       "2        RIDGE MCINTIRE RD    CPD         2155   Venereo, Arturo   \n",
       "3                W MAIN ST    CPD         1949    Davis, Charles   \n",
       "4               E WATER ST    CPD         1839  Shiflett, Ethan    \n",
       "\n",
       "                 Date              DateString  DayOfWeek  Weekend  Season  \\\n",
       "0 2025-05-21 22:27:01  2025-05-21 10:27:01 PM  Wednesday    False  Spring   \n",
       "1 2025-05-21 22:10:43  2025-05-21 10:10:43 PM  Wednesday    False  Spring   \n",
       "2 2025-05-21 21:55:05  2025-05-21 09:55:05 PM  Wednesday    False  Spring   \n",
       "3 2025-05-21 19:49:37  2025-05-21 07:49:37 PM  Wednesday    False  Spring   \n",
       "4 2025-05-21 18:39:18  2025-05-21 06:39:18 PM  Wednesday    False  Spring   \n",
       "\n",
       "   HourAMPM TimeOfDay  \n",
       "0  10:27 PM     Night  \n",
       "1  10:10 PM     Night  \n",
       "2  09:55 PM     Night  \n",
       "3  07:49 PM   Evening  \n",
       "4  06:39 PM   Evening  "
      ]
     },
     "execution_count": 7,
     "metadata": {},
     "output_type": "execute_result"
    }
   ],
   "source": [
    "def convert_and_categorize_datereported(df, col='DateReported'):\n",
    "    \"\"\"\n",
    "    Converts an epoch (in milliseconds) date column into a timezone-aware datetime,\n",
    "    converts it to Eastern Time, and then creates columns for day-of-week, weekend flag,\n",
    "    season, 12-hour formatted time, and time-of-day. Keeps both a real datetime column\n",
    "    (Date) and a string representation (DateString).\n",
    "    \"\"\"\n",
    "    import pandas as pd\n",
    "\n",
    "    # Convert the epoch timestamp to a pandas datetime object as UTC, then convert to US/Eastern.\n",
    "    df[\"DateReported_dt\"] = (\n",
    "        pd.to_datetime(df[col], unit=\"ms\", errors=\"coerce\", utc=True)\n",
    "        .dt.tz_convert(\"US/Eastern\")\n",
    "    )\n",
    "    \n",
    "    # Create a true datetime column (remove timezone if you prefer naive datetime)\n",
    "    df[\"Date\"] = df[\"DateReported_dt\"].dt.tz_localize(None)\n",
    "\n",
    "    # Optionally, create a separate string-formatted column\n",
    "    df[\"DateString\"] = df[\"DateReported_dt\"].dt.strftime(\"%Y-%m-%d %I:%M:%S %p\")\n",
    "    \n",
    "    # DayOfWeek\n",
    "    df[\"DayOfWeek\"] = df[\"DateReported_dt\"].dt.day_name()\n",
    "    \n",
    "    # Weekend\n",
    "    df[\"Weekend\"] = df[\"DayOfWeek\"].isin([\"Saturday\", \"Sunday\"])\n",
    "    \n",
    "    # Helper function to determine the season\n",
    "    def get_season(dt):\n",
    "        month = dt.month\n",
    "        day = dt.day\n",
    "        # Approximate Northern Hemisphere season boundaries:\n",
    "        if (month == 12 and day >= 21) or (month < 3) or (month == 3 and day < 20):\n",
    "            return \"Winter\"\n",
    "        elif (month == 3 and day >= 20) or (month < 6) or (month == 6 and day < 21):\n",
    "            return \"Spring\"\n",
    "        elif (month == 6 and day >= 21) or (month < 9) or (month == 9 and day < 22):\n",
    "            return \"Summer\"\n",
    "        else:\n",
    "            return \"Autumn\"\n",
    "    \n",
    "    df[\"Season\"] = df[\"DateReported_dt\"].apply(get_season)\n",
    "    \n",
    "    # 12-hour formatted time (HourAMPM)\n",
    "    df[\"HourAMPM\"] = df[\"DateReported_dt\"].dt.strftime(\"%I:%M %p\")\n",
    "    \n",
    "    # Extract hour (0-23) for time-of-day\n",
    "    df[\"HourValue\"] = df[\"DateReported_dt\"].dt.hour\n",
    "    \n",
    "    def time_of_day(hour):\n",
    "        if pd.isnull(hour):\n",
    "            return None\n",
    "        if 5 <= hour < 12:\n",
    "            return \"Morning\"\n",
    "        elif 12 <= hour < 17:\n",
    "            return \"Afternoon\"\n",
    "        elif 17 <= hour < 21:\n",
    "            return \"Evening\"\n",
    "        else:\n",
    "            return \"Night\"\n",
    "    \n",
    "    df[\"TimeOfDay\"] = df[\"HourValue\"].apply(time_of_day)\n",
    "    \n",
    "    # Drop columns you no longer need\n",
    "    df.drop(columns=[col, \"DateReported_dt\", \"HourValue\"], inplace=True)\n",
    "    \n",
    "    return df\n",
    "\n",
    "# Example usage:\n",
    "df = convert_and_categorize_datereported(df)\n",
    "df.head()\n"
   ]
  },
  {
   "cell_type": "code",
   "execution_count": 8,
   "id": "82e13a62",
   "metadata": {
    "execution": {
     "iopub.execute_input": "2025-05-24T01:01:36.663255Z",
     "iopub.status.busy": "2025-05-24T01:01:36.662992Z",
     "iopub.status.idle": "2025-05-24T01:01:36.687443Z",
     "shell.execute_reply": "2025-05-24T01:01:36.686758Z"
    },
    "papermill": {
     "duration": 0.032109,
     "end_time": "2025-05-24T01:01:36.688503",
     "exception": false,
     "start_time": "2025-05-24T01:01:36.656394",
     "status": "completed"
    },
    "tags": []
   },
   "outputs": [
    {
     "name": "stdout",
     "output_type": "stream",
     "text": [
      "<class 'pandas.core.frame.DataFrame'>\n",
      "RangeIndex: 25427 entries, 0 to 25426\n",
      "Data columns (total 15 columns):\n",
      " #   Column            Non-Null Count  Dtype         \n",
      "---  ------            --------------  -----         \n",
      " 0   RecordID          25427 non-null  int64         \n",
      " 1   Offense           25427 non-null  object        \n",
      " 2   IncidentID        25427 non-null  object        \n",
      " 3   BlockNumber       25427 non-null  object        \n",
      " 4   StreetName        25427 non-null  object        \n",
      " 5   Agency            25427 non-null  object        \n",
      " 6   HourReported      25427 non-null  object        \n",
      " 7   ReportingOfficer  25410 non-null  object        \n",
      " 8   Date              25427 non-null  datetime64[ns]\n",
      " 9   DateString        25427 non-null  object        \n",
      " 10  DayOfWeek         25427 non-null  object        \n",
      " 11  Weekend           25427 non-null  bool          \n",
      " 12  Season            25427 non-null  object        \n",
      " 13  HourAMPM          25427 non-null  object        \n",
      " 14  TimeOfDay         25427 non-null  object        \n",
      "dtypes: bool(1), datetime64[ns](1), int64(1), object(12)\n",
      "memory usage: 2.7+ MB\n"
     ]
    }
   ],
   "source": [
    "df.info()"
   ]
  },
  {
   "cell_type": "markdown",
   "id": "fe1a40ef",
   "metadata": {
    "papermill": {
     "duration": 0.005932,
     "end_time": "2025-05-24T01:01:36.700459",
     "exception": false,
     "start_time": "2025-05-24T01:01:36.694527",
     "status": "completed"
    },
    "tags": []
   },
   "source": [
    "### Coordinates"
   ]
  },
  {
   "cell_type": "code",
   "execution_count": 9,
   "id": "f7a33bac",
   "metadata": {
    "execution": {
     "iopub.execute_input": "2025-05-24T01:01:36.713277Z",
     "iopub.status.busy": "2025-05-24T01:01:36.712908Z",
     "iopub.status.idle": "2025-05-24T01:01:36.920413Z",
     "shell.execute_reply": "2025-05-24T01:01:36.919722Z"
    },
    "papermill": {
     "duration": 0.215096,
     "end_time": "2025-05-24T01:01:36.921410",
     "exception": false,
     "start_time": "2025-05-24T01:01:36.706314",
     "status": "completed"
    },
    "tags": []
   },
   "outputs": [
    {
     "name": "stdout",
     "output_type": "stream",
     "text": [
      "Loaded geocode cache.\n"
     ]
    },
    {
     "name": "stdout",
     "output_type": "stream",
     "text": [
      "Geocoded 700 1ST ST S, 1: 38.0261518, -78.4839422\n",
      "Geocode cache updated and saved.\n"
     ]
    },
    {
     "data": {
      "text/html": [
       "<div>\n",
       "<style scoped>\n",
       "    .dataframe tbody tr th:only-of-type {\n",
       "        vertical-align: middle;\n",
       "    }\n",
       "\n",
       "    .dataframe tbody tr th {\n",
       "        vertical-align: top;\n",
       "    }\n",
       "\n",
       "    .dataframe thead th {\n",
       "        text-align: right;\n",
       "    }\n",
       "</style>\n",
       "<table border=\"1\" class=\"dataframe\">\n",
       "  <thead>\n",
       "    <tr style=\"text-align: right;\">\n",
       "      <th></th>\n",
       "      <th>RecordID</th>\n",
       "      <th>Offense</th>\n",
       "      <th>IncidentID</th>\n",
       "      <th>BlockNumber</th>\n",
       "      <th>StreetName</th>\n",
       "      <th>Agency</th>\n",
       "      <th>HourReported</th>\n",
       "      <th>ReportingOfficer</th>\n",
       "      <th>Date</th>\n",
       "      <th>DateString</th>\n",
       "      <th>DayOfWeek</th>\n",
       "      <th>Weekend</th>\n",
       "      <th>Season</th>\n",
       "      <th>HourAMPM</th>\n",
       "      <th>TimeOfDay</th>\n",
       "      <th>FullStreet</th>\n",
       "      <th>lat</th>\n",
       "      <th>lon</th>\n",
       "    </tr>\n",
       "  </thead>\n",
       "  <tbody>\n",
       "    <tr>\n",
       "      <th>0</th>\n",
       "      <td>1</td>\n",
       "      <td>Assist Citizen - Mental/TDO/ECO</td>\n",
       "      <td>202500017395</td>\n",
       "      <td>100</td>\n",
       "      <td>7TH ST NE</td>\n",
       "      <td>CPD</td>\n",
       "      <td>2227</td>\n",
       "      <td>Abdelgayed, Adam</td>\n",
       "      <td>2025-05-21 22:27:01</td>\n",
       "      <td>2025-05-21 10:27:01 PM</td>\n",
       "      <td>Wednesday</td>\n",
       "      <td>False</td>\n",
       "      <td>Spring</td>\n",
       "      <td>10:27 PM</td>\n",
       "      <td>Night</td>\n",
       "      <td>100 7TH ST NE</td>\n",
       "      <td>38.029771</td>\n",
       "      <td>-78.476525</td>\n",
       "    </tr>\n",
       "    <tr>\n",
       "      <th>1</th>\n",
       "      <td>2</td>\n",
       "      <td>Hit and Run</td>\n",
       "      <td>202500017393</td>\n",
       "      <td></td>\n",
       "      <td>EMMET ST N / EARHART ST</td>\n",
       "      <td>CPD</td>\n",
       "      <td>2210</td>\n",
       "      <td>Hudson, Jesse</td>\n",
       "      <td>2025-05-21 22:10:43</td>\n",
       "      <td>2025-05-21 10:10:43 PM</td>\n",
       "      <td>Wednesday</td>\n",
       "      <td>False</td>\n",
       "      <td>Spring</td>\n",
       "      <td>10:10 PM</td>\n",
       "      <td>Night</td>\n",
       "      <td>EMMET ST N / EARHART ST</td>\n",
       "      <td>38.056041</td>\n",
       "      <td>-78.496501</td>\n",
       "    </tr>\n",
       "    <tr>\n",
       "      <th>2</th>\n",
       "      <td>3</td>\n",
       "      <td>Disorderly Conduct</td>\n",
       "      <td>202500017392</td>\n",
       "      <td>200</td>\n",
       "      <td>RIDGE MCINTIRE RD</td>\n",
       "      <td>CPD</td>\n",
       "      <td>2155</td>\n",
       "      <td>Venereo, Arturo</td>\n",
       "      <td>2025-05-21 21:55:05</td>\n",
       "      <td>2025-05-21 09:55:05 PM</td>\n",
       "      <td>Wednesday</td>\n",
       "      <td>False</td>\n",
       "      <td>Spring</td>\n",
       "      <td>09:55 PM</td>\n",
       "      <td>Night</td>\n",
       "      <td>200 RIDGE MCINTIRE RD</td>\n",
       "      <td>38.031221</td>\n",
       "      <td>-78.483889</td>\n",
       "    </tr>\n",
       "    <tr>\n",
       "      <th>3</th>\n",
       "      <td>4</td>\n",
       "      <td>Larceny - Shoplifitng</td>\n",
       "      <td>202500017383</td>\n",
       "      <td>500</td>\n",
       "      <td>W MAIN ST</td>\n",
       "      <td>CPD</td>\n",
       "      <td>1949</td>\n",
       "      <td>Davis, Charles</td>\n",
       "      <td>2025-05-21 19:49:37</td>\n",
       "      <td>2025-05-21 07:49:37 PM</td>\n",
       "      <td>Wednesday</td>\n",
       "      <td>False</td>\n",
       "      <td>Spring</td>\n",
       "      <td>07:49 PM</td>\n",
       "      <td>Evening</td>\n",
       "      <td>500 W MAIN ST</td>\n",
       "      <td>38.030793</td>\n",
       "      <td>-78.487912</td>\n",
       "    </tr>\n",
       "    <tr>\n",
       "      <th>4</th>\n",
       "      <td>5</td>\n",
       "      <td>Weapons Violations</td>\n",
       "      <td>202500017376</td>\n",
       "      <td>300</td>\n",
       "      <td>E WATER ST</td>\n",
       "      <td>CPD</td>\n",
       "      <td>1839</td>\n",
       "      <td>Shiflett, Ethan</td>\n",
       "      <td>2025-05-21 18:39:18</td>\n",
       "      <td>2025-05-21 06:39:18 PM</td>\n",
       "      <td>Wednesday</td>\n",
       "      <td>False</td>\n",
       "      <td>Spring</td>\n",
       "      <td>06:39 PM</td>\n",
       "      <td>Evening</td>\n",
       "      <td>300 E WATER ST</td>\n",
       "      <td>38.029446</td>\n",
       "      <td>-78.480377</td>\n",
       "    </tr>\n",
       "  </tbody>\n",
       "</table>\n",
       "</div>"
      ],
      "text/plain": [
       "   RecordID                          Offense    IncidentID BlockNumber  \\\n",
       "0         1  Assist Citizen - Mental/TDO/ECO  202500017395         100   \n",
       "1         2                      Hit and Run  202500017393               \n",
       "2         3               Disorderly Conduct  202500017392         200   \n",
       "3         4            Larceny - Shoplifitng  202500017383         500   \n",
       "4         5               Weapons Violations  202500017376         300   \n",
       "\n",
       "                StreetName Agency HourReported  ReportingOfficer  \\\n",
       "0                7TH ST NE    CPD         2227  Abdelgayed, Adam   \n",
       "1  EMMET ST N / EARHART ST    CPD         2210     Hudson, Jesse   \n",
       "2        RIDGE MCINTIRE RD    CPD         2155   Venereo, Arturo   \n",
       "3                W MAIN ST    CPD         1949    Davis, Charles   \n",
       "4               E WATER ST    CPD         1839  Shiflett, Ethan    \n",
       "\n",
       "                 Date              DateString  DayOfWeek  Weekend  Season  \\\n",
       "0 2025-05-21 22:27:01  2025-05-21 10:27:01 PM  Wednesday    False  Spring   \n",
       "1 2025-05-21 22:10:43  2025-05-21 10:10:43 PM  Wednesday    False  Spring   \n",
       "2 2025-05-21 21:55:05  2025-05-21 09:55:05 PM  Wednesday    False  Spring   \n",
       "3 2025-05-21 19:49:37  2025-05-21 07:49:37 PM  Wednesday    False  Spring   \n",
       "4 2025-05-21 18:39:18  2025-05-21 06:39:18 PM  Wednesday    False  Spring   \n",
       "\n",
       "   HourAMPM TimeOfDay                FullStreet        lat        lon  \n",
       "0  10:27 PM     Night             100 7TH ST NE  38.029771 -78.476525  \n",
       "1  10:10 PM     Night   EMMET ST N / EARHART ST  38.056041 -78.496501  \n",
       "2  09:55 PM     Night     200 RIDGE MCINTIRE RD  38.031221 -78.483889  \n",
       "3  07:49 PM   Evening             500 W MAIN ST  38.030793 -78.487912  \n",
       "4  06:39 PM   Evening            300 E WATER ST  38.029446 -78.480377  "
      ]
     },
     "execution_count": 9,
     "metadata": {},
     "output_type": "execute_result"
    }
   ],
   "source": [
    "# Combine BlockNumber and StreetName into a full address string\n",
    "df['FullStreet'] = df['BlockNumber'].astype(str) + \" \" + df['StreetName']\n",
    "\n",
    "# --- Step 1: Setup the Google Maps Client and Cache ---\n",
    "gmaps = googlemaps.Client(key=GOOGLE_API_KEY)\n",
    "\n",
    "# Try to load cached geocoding results if available.\n",
    "try:\n",
    "    with open(\"geocode_cache_google.pkl\", \"rb\") as f:\n",
    "        street_coords = pickle.load(f)\n",
    "    print(\"Loaded geocode cache.\")\n",
    "except FileNotFoundError:\n",
    "    street_coords = {}\n",
    "    print(\"No cache found; starting fresh.\")\n",
    "\n",
    "def geocode_address(address):\n",
    "    try:\n",
    "        # Append city and state to help geocoding\n",
    "        result = gmaps.geocode(f\"{address}, Charlottesville, VA\")\n",
    "        if result:\n",
    "            lat = result[0]['geometry']['location']['lat']\n",
    "            lon = result[0]['geometry']['location']['lng']\n",
    "            return lat, lon\n",
    "    except Exception as e:\n",
    "        print(f\"Error geocoding {address}: {e}\")\n",
    "    return None, None\n",
    "\n",
    "# --- Step 2: Geocode Only New Addresses ---\n",
    "unique_addresses = df['FullStreet'].unique()\n",
    "for address in unique_addresses:\n",
    "    if address not in street_coords:\n",
    "        lat, lon = geocode_address(address)\n",
    "        street_coords[address] = (lat, lon)\n",
    "        print(f\"Geocoded {address}: {lat}, {lon}\")\n",
    "\n",
    "# Save the updated cache to disk.\n",
    "with open(\"geocode_cache_google.pkl\", \"wb\") as f:\n",
    "    pickle.dump(street_coords, f)\n",
    "    print(\"Geocode cache updated and saved.\")\n",
    "\n",
    "# --- Step 3: Map Coordinates Back to DataFrame ---\n",
    "df['lat'] = df['FullStreet'].map(lambda s: street_coords.get(s, (None, None))[0])\n",
    "df['lon'] = df['FullStreet'].map(lambda s: street_coords.get(s, (None, None))[1])\n",
    "\n",
    "df.head()"
   ]
  },
  {
   "cell_type": "markdown",
   "id": "2364d026",
   "metadata": {
    "papermill": {
     "duration": 0.006243,
     "end_time": "2025-05-24T01:01:36.934310",
     "exception": false,
     "start_time": "2025-05-24T01:01:36.928067",
     "status": "completed"
    },
    "tags": []
   },
   "source": [
    "### Neighborhood"
   ]
  },
  {
   "cell_type": "code",
   "execution_count": 10,
   "id": "08ef86e6",
   "metadata": {
    "execution": {
     "iopub.execute_input": "2025-05-24T01:01:36.947847Z",
     "iopub.status.busy": "2025-05-24T01:01:36.947435Z",
     "iopub.status.idle": "2025-05-24T01:01:37.208619Z",
     "shell.execute_reply": "2025-05-24T01:01:37.208030Z"
    },
    "papermill": {
     "duration": 0.269204,
     "end_time": "2025-05-24T01:01:37.209706",
     "exception": false,
     "start_time": "2025-05-24T01:01:36.940502",
     "status": "completed"
    },
    "tags": []
   },
   "outputs": [
    {
     "name": "stdout",
     "output_type": "stream",
     "text": [
      "Loaded neighborhood cache.\n"
     ]
    },
    {
     "data": {
      "text/html": [
       "<div>\n",
       "<style scoped>\n",
       "    .dataframe tbody tr th:only-of-type {\n",
       "        vertical-align: middle;\n",
       "    }\n",
       "\n",
       "    .dataframe tbody tr th {\n",
       "        vertical-align: top;\n",
       "    }\n",
       "\n",
       "    .dataframe thead th {\n",
       "        text-align: right;\n",
       "    }\n",
       "</style>\n",
       "<table border=\"1\" class=\"dataframe\">\n",
       "  <thead>\n",
       "    <tr style=\"text-align: right;\">\n",
       "      <th></th>\n",
       "      <th>RecordID</th>\n",
       "      <th>Offense</th>\n",
       "      <th>IncidentID</th>\n",
       "      <th>BlockNumber</th>\n",
       "      <th>StreetName</th>\n",
       "      <th>Agency</th>\n",
       "      <th>HourReported</th>\n",
       "      <th>ReportingOfficer</th>\n",
       "      <th>Date</th>\n",
       "      <th>DateString</th>\n",
       "      <th>DayOfWeek</th>\n",
       "      <th>Weekend</th>\n",
       "      <th>Season</th>\n",
       "      <th>HourAMPM</th>\n",
       "      <th>TimeOfDay</th>\n",
       "      <th>FullStreet</th>\n",
       "      <th>lat</th>\n",
       "      <th>lon</th>\n",
       "      <th>neighborhood</th>\n",
       "    </tr>\n",
       "  </thead>\n",
       "  <tbody>\n",
       "    <tr>\n",
       "      <th>0</th>\n",
       "      <td>1</td>\n",
       "      <td>Assist Citizen - Mental/TDO/ECO</td>\n",
       "      <td>202500017395</td>\n",
       "      <td>100</td>\n",
       "      <td>7TH ST NE</td>\n",
       "      <td>CPD</td>\n",
       "      <td>2227</td>\n",
       "      <td>Abdelgayed, Adam</td>\n",
       "      <td>2025-05-21 22:27:01</td>\n",
       "      <td>2025-05-21 10:27:01 PM</td>\n",
       "      <td>Wednesday</td>\n",
       "      <td>False</td>\n",
       "      <td>Spring</td>\n",
       "      <td>10:27 PM</td>\n",
       "      <td>Night</td>\n",
       "      <td>100 7TH ST NE</td>\n",
       "      <td>38.029771</td>\n",
       "      <td>-78.476525</td>\n",
       "      <td>Downtown Mall</td>\n",
       "    </tr>\n",
       "    <tr>\n",
       "      <th>1</th>\n",
       "      <td>2</td>\n",
       "      <td>Hit and Run</td>\n",
       "      <td>202500017393</td>\n",
       "      <td></td>\n",
       "      <td>EMMET ST N / EARHART ST</td>\n",
       "      <td>CPD</td>\n",
       "      <td>2210</td>\n",
       "      <td>Hudson, Jesse</td>\n",
       "      <td>2025-05-21 22:10:43</td>\n",
       "      <td>2025-05-21 10:10:43 PM</td>\n",
       "      <td>Wednesday</td>\n",
       "      <td>False</td>\n",
       "      <td>Spring</td>\n",
       "      <td>10:10 PM</td>\n",
       "      <td>Night</td>\n",
       "      <td>EMMET ST N / EARHART ST</td>\n",
       "      <td>38.056041</td>\n",
       "      <td>-78.496501</td>\n",
       "      <td>The Meadows</td>\n",
       "    </tr>\n",
       "    <tr>\n",
       "      <th>2</th>\n",
       "      <td>3</td>\n",
       "      <td>Disorderly Conduct</td>\n",
       "      <td>202500017392</td>\n",
       "      <td>200</td>\n",
       "      <td>RIDGE MCINTIRE RD</td>\n",
       "      <td>CPD</td>\n",
       "      <td>2155</td>\n",
       "      <td>Venereo, Arturo</td>\n",
       "      <td>2025-05-21 21:55:05</td>\n",
       "      <td>2025-05-21 09:55:05 PM</td>\n",
       "      <td>Wednesday</td>\n",
       "      <td>False</td>\n",
       "      <td>Spring</td>\n",
       "      <td>09:55 PM</td>\n",
       "      <td>Night</td>\n",
       "      <td>200 RIDGE MCINTIRE RD</td>\n",
       "      <td>38.031221</td>\n",
       "      <td>-78.483889</td>\n",
       "      <td>Downtown Mall</td>\n",
       "    </tr>\n",
       "    <tr>\n",
       "      <th>3</th>\n",
       "      <td>4</td>\n",
       "      <td>Larceny - Shoplifitng</td>\n",
       "      <td>202500017383</td>\n",
       "      <td>500</td>\n",
       "      <td>W MAIN ST</td>\n",
       "      <td>CPD</td>\n",
       "      <td>1949</td>\n",
       "      <td>Davis, Charles</td>\n",
       "      <td>2025-05-21 19:49:37</td>\n",
       "      <td>2025-05-21 07:49:37 PM</td>\n",
       "      <td>Wednesday</td>\n",
       "      <td>False</td>\n",
       "      <td>Spring</td>\n",
       "      <td>07:49 PM</td>\n",
       "      <td>Evening</td>\n",
       "      <td>500 W MAIN ST</td>\n",
       "      <td>38.030793</td>\n",
       "      <td>-78.487912</td>\n",
       "      <td>Starr Hill</td>\n",
       "    </tr>\n",
       "    <tr>\n",
       "      <th>4</th>\n",
       "      <td>5</td>\n",
       "      <td>Weapons Violations</td>\n",
       "      <td>202500017376</td>\n",
       "      <td>300</td>\n",
       "      <td>E WATER ST</td>\n",
       "      <td>CPD</td>\n",
       "      <td>1839</td>\n",
       "      <td>Shiflett, Ethan</td>\n",
       "      <td>2025-05-21 18:39:18</td>\n",
       "      <td>2025-05-21 06:39:18 PM</td>\n",
       "      <td>Wednesday</td>\n",
       "      <td>False</td>\n",
       "      <td>Spring</td>\n",
       "      <td>06:39 PM</td>\n",
       "      <td>Evening</td>\n",
       "      <td>300 E WATER ST</td>\n",
       "      <td>38.029446</td>\n",
       "      <td>-78.480377</td>\n",
       "      <td>North Downtown</td>\n",
       "    </tr>\n",
       "  </tbody>\n",
       "</table>\n",
       "</div>"
      ],
      "text/plain": [
       "   RecordID                          Offense    IncidentID BlockNumber  \\\n",
       "0         1  Assist Citizen - Mental/TDO/ECO  202500017395         100   \n",
       "1         2                      Hit and Run  202500017393               \n",
       "2         3               Disorderly Conduct  202500017392         200   \n",
       "3         4            Larceny - Shoplifitng  202500017383         500   \n",
       "4         5               Weapons Violations  202500017376         300   \n",
       "\n",
       "                StreetName Agency HourReported  ReportingOfficer  \\\n",
       "0                7TH ST NE    CPD         2227  Abdelgayed, Adam   \n",
       "1  EMMET ST N / EARHART ST    CPD         2210     Hudson, Jesse   \n",
       "2        RIDGE MCINTIRE RD    CPD         2155   Venereo, Arturo   \n",
       "3                W MAIN ST    CPD         1949    Davis, Charles   \n",
       "4               E WATER ST    CPD         1839  Shiflett, Ethan    \n",
       "\n",
       "                 Date              DateString  DayOfWeek  Weekend  Season  \\\n",
       "0 2025-05-21 22:27:01  2025-05-21 10:27:01 PM  Wednesday    False  Spring   \n",
       "1 2025-05-21 22:10:43  2025-05-21 10:10:43 PM  Wednesday    False  Spring   \n",
       "2 2025-05-21 21:55:05  2025-05-21 09:55:05 PM  Wednesday    False  Spring   \n",
       "3 2025-05-21 19:49:37  2025-05-21 07:49:37 PM  Wednesday    False  Spring   \n",
       "4 2025-05-21 18:39:18  2025-05-21 06:39:18 PM  Wednesday    False  Spring   \n",
       "\n",
       "   HourAMPM TimeOfDay                FullStreet        lat        lon  \\\n",
       "0  10:27 PM     Night             100 7TH ST NE  38.029771 -78.476525   \n",
       "1  10:10 PM     Night   EMMET ST N / EARHART ST  38.056041 -78.496501   \n",
       "2  09:55 PM     Night     200 RIDGE MCINTIRE RD  38.031221 -78.483889   \n",
       "3  07:49 PM   Evening             500 W MAIN ST  38.030793 -78.487912   \n",
       "4  06:39 PM   Evening            300 E WATER ST  38.029446 -78.480377   \n",
       "\n",
       "     neighborhood  \n",
       "0   Downtown Mall  \n",
       "1     The Meadows  \n",
       "2   Downtown Mall  \n",
       "3      Starr Hill  \n",
       "4  North Downtown  "
      ]
     },
     "execution_count": 10,
     "metadata": {},
     "output_type": "execute_result"
    }
   ],
   "source": [
    "# Initialize the Google Maps client.\n",
    "gmaps = googlemaps.Client(key=GOOGLE_API_KEY)\n",
    "\n",
    "# Try to load a persistent neighborhood cache if available.\n",
    "try:\n",
    "    with open(\"neighborhood_cache.pkl\", \"rb\") as f:\n",
    "        neighborhood_cache = pickle.load(f)\n",
    "    print(\"Loaded neighborhood cache.\")\n",
    "except FileNotFoundError:\n",
    "    neighborhood_cache = {}\n",
    "    print(\"No neighborhood cache found; starting fresh.\")\n",
    "\n",
    "def get_neighborhood(lat, lon):\n",
    "    \"\"\"\n",
    "    Reverse geocodes a latitude and longitude to retrieve the neighborhood.\n",
    "    Caches results to speed up subsequent lookups.\n",
    "    \"\"\"\n",
    "    key = (lat, lon)\n",
    "    if key in neighborhood_cache:\n",
    "        return neighborhood_cache[key]\n",
    "    \n",
    "    try:\n",
    "        result = gmaps.reverse_geocode((lat, lon))\n",
    "        if result:\n",
    "            # Look for the 'neighborhood' component in the first result.\n",
    "            for component in result[0]['address_components']:\n",
    "                if 'neighborhood' in component['types']:\n",
    "                    neighborhood = component['long_name']\n",
    "                    neighborhood_cache[key] = neighborhood\n",
    "                    return neighborhood\n",
    "            # If no neighborhood is found, return \"N/A\"\n",
    "            neighborhood_cache[key] = \"N/A\"\n",
    "            return \"N/A\"\n",
    "    except Exception as e:\n",
    "        print(f\"Error getting neighborhood for {lat}, {lon}: {e}\")\n",
    "        return \"N/A\"\n",
    "    \n",
    "    # Pause to respect usage limits.\n",
    "    time.sleep(1)\n",
    "\n",
    "# Example usage: Apply to your DataFrame 'df' that already has 'lat' and 'lon' columns.\n",
    "df['neighborhood'] = df.apply(lambda row: get_neighborhood(row['lat'], row['lon']), axis=1)\n",
    "\n",
    "# Save the updated neighborhood cache.\n",
    "with open(\"neighborhood_cache.pkl\", \"wb\") as f:\n",
    "    pickle.dump(neighborhood_cache, f)\n",
    "\n",
    "df.head()\n"
   ]
  },
  {
   "cell_type": "markdown",
   "id": "5ffc0936",
   "metadata": {
    "papermill": {
     "duration": 0.006515,
     "end_time": "2025-05-24T01:01:37.223235",
     "exception": false,
     "start_time": "2025-05-24T01:01:37.216720",
     "status": "completed"
    },
    "tags": []
   },
   "source": [
    "### Zip"
   ]
  },
  {
   "cell_type": "code",
   "execution_count": 11,
   "id": "6a0a739d",
   "metadata": {
    "execution": {
     "iopub.execute_input": "2025-05-24T01:01:37.237390Z",
     "iopub.status.busy": "2025-05-24T01:01:37.236978Z",
     "iopub.status.idle": "2025-05-24T01:01:37.480852Z",
     "shell.execute_reply": "2025-05-24T01:01:37.480265Z"
    },
    "papermill": {
     "duration": 0.252217,
     "end_time": "2025-05-24T01:01:37.481930",
     "exception": false,
     "start_time": "2025-05-24T01:01:37.229713",
     "status": "completed"
    },
    "tags": []
   },
   "outputs": [
    {
     "name": "stdout",
     "output_type": "stream",
     "text": [
      "Loaded zip cache.\n"
     ]
    },
    {
     "data": {
      "text/html": [
       "<div>\n",
       "<style scoped>\n",
       "    .dataframe tbody tr th:only-of-type {\n",
       "        vertical-align: middle;\n",
       "    }\n",
       "\n",
       "    .dataframe tbody tr th {\n",
       "        vertical-align: top;\n",
       "    }\n",
       "\n",
       "    .dataframe thead th {\n",
       "        text-align: right;\n",
       "    }\n",
       "</style>\n",
       "<table border=\"1\" class=\"dataframe\">\n",
       "  <thead>\n",
       "    <tr style=\"text-align: right;\">\n",
       "      <th></th>\n",
       "      <th>RecordID</th>\n",
       "      <th>Offense</th>\n",
       "      <th>IncidentID</th>\n",
       "      <th>BlockNumber</th>\n",
       "      <th>StreetName</th>\n",
       "      <th>Agency</th>\n",
       "      <th>HourReported</th>\n",
       "      <th>ReportingOfficer</th>\n",
       "      <th>Date</th>\n",
       "      <th>DateString</th>\n",
       "      <th>DayOfWeek</th>\n",
       "      <th>Weekend</th>\n",
       "      <th>Season</th>\n",
       "      <th>HourAMPM</th>\n",
       "      <th>TimeOfDay</th>\n",
       "      <th>FullStreet</th>\n",
       "      <th>lat</th>\n",
       "      <th>lon</th>\n",
       "      <th>neighborhood</th>\n",
       "      <th>zip</th>\n",
       "    </tr>\n",
       "  </thead>\n",
       "  <tbody>\n",
       "    <tr>\n",
       "      <th>0</th>\n",
       "      <td>1</td>\n",
       "      <td>Assist Citizen - Mental/TDO/ECO</td>\n",
       "      <td>202500017395</td>\n",
       "      <td>100</td>\n",
       "      <td>7TH ST NE</td>\n",
       "      <td>CPD</td>\n",
       "      <td>2227</td>\n",
       "      <td>Abdelgayed, Adam</td>\n",
       "      <td>2025-05-21 22:27:01</td>\n",
       "      <td>2025-05-21 10:27:01 PM</td>\n",
       "      <td>Wednesday</td>\n",
       "      <td>False</td>\n",
       "      <td>Spring</td>\n",
       "      <td>10:27 PM</td>\n",
       "      <td>Night</td>\n",
       "      <td>100 7TH ST NE</td>\n",
       "      <td>38.029771</td>\n",
       "      <td>-78.476525</td>\n",
       "      <td>Downtown Mall</td>\n",
       "      <td>22902</td>\n",
       "    </tr>\n",
       "    <tr>\n",
       "      <th>1</th>\n",
       "      <td>2</td>\n",
       "      <td>Hit and Run</td>\n",
       "      <td>202500017393</td>\n",
       "      <td></td>\n",
       "      <td>EMMET ST N / EARHART ST</td>\n",
       "      <td>CPD</td>\n",
       "      <td>2210</td>\n",
       "      <td>Hudson, Jesse</td>\n",
       "      <td>2025-05-21 22:10:43</td>\n",
       "      <td>2025-05-21 10:10:43 PM</td>\n",
       "      <td>Wednesday</td>\n",
       "      <td>False</td>\n",
       "      <td>Spring</td>\n",
       "      <td>10:10 PM</td>\n",
       "      <td>Night</td>\n",
       "      <td>EMMET ST N / EARHART ST</td>\n",
       "      <td>38.056041</td>\n",
       "      <td>-78.496501</td>\n",
       "      <td>The Meadows</td>\n",
       "      <td>22903</td>\n",
       "    </tr>\n",
       "    <tr>\n",
       "      <th>2</th>\n",
       "      <td>3</td>\n",
       "      <td>Disorderly Conduct</td>\n",
       "      <td>202500017392</td>\n",
       "      <td>200</td>\n",
       "      <td>RIDGE MCINTIRE RD</td>\n",
       "      <td>CPD</td>\n",
       "      <td>2155</td>\n",
       "      <td>Venereo, Arturo</td>\n",
       "      <td>2025-05-21 21:55:05</td>\n",
       "      <td>2025-05-21 09:55:05 PM</td>\n",
       "      <td>Wednesday</td>\n",
       "      <td>False</td>\n",
       "      <td>Spring</td>\n",
       "      <td>09:55 PM</td>\n",
       "      <td>Night</td>\n",
       "      <td>200 RIDGE MCINTIRE RD</td>\n",
       "      <td>38.031221</td>\n",
       "      <td>-78.483889</td>\n",
       "      <td>Downtown Mall</td>\n",
       "      <td>22903</td>\n",
       "    </tr>\n",
       "    <tr>\n",
       "      <th>3</th>\n",
       "      <td>4</td>\n",
       "      <td>Larceny - Shoplifitng</td>\n",
       "      <td>202500017383</td>\n",
       "      <td>500</td>\n",
       "      <td>W MAIN ST</td>\n",
       "      <td>CPD</td>\n",
       "      <td>1949</td>\n",
       "      <td>Davis, Charles</td>\n",
       "      <td>2025-05-21 19:49:37</td>\n",
       "      <td>2025-05-21 07:49:37 PM</td>\n",
       "      <td>Wednesday</td>\n",
       "      <td>False</td>\n",
       "      <td>Spring</td>\n",
       "      <td>07:49 PM</td>\n",
       "      <td>Evening</td>\n",
       "      <td>500 W MAIN ST</td>\n",
       "      <td>38.030793</td>\n",
       "      <td>-78.487912</td>\n",
       "      <td>Starr Hill</td>\n",
       "      <td>22903</td>\n",
       "    </tr>\n",
       "    <tr>\n",
       "      <th>4</th>\n",
       "      <td>5</td>\n",
       "      <td>Weapons Violations</td>\n",
       "      <td>202500017376</td>\n",
       "      <td>300</td>\n",
       "      <td>E WATER ST</td>\n",
       "      <td>CPD</td>\n",
       "      <td>1839</td>\n",
       "      <td>Shiflett, Ethan</td>\n",
       "      <td>2025-05-21 18:39:18</td>\n",
       "      <td>2025-05-21 06:39:18 PM</td>\n",
       "      <td>Wednesday</td>\n",
       "      <td>False</td>\n",
       "      <td>Spring</td>\n",
       "      <td>06:39 PM</td>\n",
       "      <td>Evening</td>\n",
       "      <td>300 E WATER ST</td>\n",
       "      <td>38.029446</td>\n",
       "      <td>-78.480377</td>\n",
       "      <td>North Downtown</td>\n",
       "      <td>22903</td>\n",
       "    </tr>\n",
       "  </tbody>\n",
       "</table>\n",
       "</div>"
      ],
      "text/plain": [
       "   RecordID                          Offense    IncidentID BlockNumber  \\\n",
       "0         1  Assist Citizen - Mental/TDO/ECO  202500017395         100   \n",
       "1         2                      Hit and Run  202500017393               \n",
       "2         3               Disorderly Conduct  202500017392         200   \n",
       "3         4            Larceny - Shoplifitng  202500017383         500   \n",
       "4         5               Weapons Violations  202500017376         300   \n",
       "\n",
       "                StreetName Agency HourReported  ReportingOfficer  \\\n",
       "0                7TH ST NE    CPD         2227  Abdelgayed, Adam   \n",
       "1  EMMET ST N / EARHART ST    CPD         2210     Hudson, Jesse   \n",
       "2        RIDGE MCINTIRE RD    CPD         2155   Venereo, Arturo   \n",
       "3                W MAIN ST    CPD         1949    Davis, Charles   \n",
       "4               E WATER ST    CPD         1839  Shiflett, Ethan    \n",
       "\n",
       "                 Date              DateString  DayOfWeek  Weekend  Season  \\\n",
       "0 2025-05-21 22:27:01  2025-05-21 10:27:01 PM  Wednesday    False  Spring   \n",
       "1 2025-05-21 22:10:43  2025-05-21 10:10:43 PM  Wednesday    False  Spring   \n",
       "2 2025-05-21 21:55:05  2025-05-21 09:55:05 PM  Wednesday    False  Spring   \n",
       "3 2025-05-21 19:49:37  2025-05-21 07:49:37 PM  Wednesday    False  Spring   \n",
       "4 2025-05-21 18:39:18  2025-05-21 06:39:18 PM  Wednesday    False  Spring   \n",
       "\n",
       "   HourAMPM TimeOfDay                FullStreet        lat        lon  \\\n",
       "0  10:27 PM     Night             100 7TH ST NE  38.029771 -78.476525   \n",
       "1  10:10 PM     Night   EMMET ST N / EARHART ST  38.056041 -78.496501   \n",
       "2  09:55 PM     Night     200 RIDGE MCINTIRE RD  38.031221 -78.483889   \n",
       "3  07:49 PM   Evening             500 W MAIN ST  38.030793 -78.487912   \n",
       "4  06:39 PM   Evening            300 E WATER ST  38.029446 -78.480377   \n",
       "\n",
       "     neighborhood    zip  \n",
       "0   Downtown Mall  22902  \n",
       "1     The Meadows  22903  \n",
       "2   Downtown Mall  22903  \n",
       "3      Starr Hill  22903  \n",
       "4  North Downtown  22903  "
      ]
     },
     "execution_count": 11,
     "metadata": {},
     "output_type": "execute_result"
    }
   ],
   "source": [
    "# Initialize the geocoder.\n",
    "geolocator = Nominatim(user_agent=\"zip_lookup\")\n",
    "\n",
    "# Try to load a persistent ZIP cache if available.\n",
    "try:\n",
    "    with open(\"zip_cache.pkl\", \"rb\") as f:\n",
    "        zip_cache = pickle.load(f)\n",
    "    print(\"Loaded zip cache.\")\n",
    "except FileNotFoundError:\n",
    "    zip_cache = {}\n",
    "    print(\"No zip cache found; starting fresh.\")\n",
    "\n",
    "def get_zip(lat, lon):\n",
    "    \"\"\"\n",
    "    Reverse geocodes a latitude and longitude to retrieve the ZIP code.\n",
    "    Caches results to speed up subsequent lookups.\n",
    "    \"\"\"\n",
    "    key = (lat, lon)\n",
    "    if key in zip_cache:\n",
    "        return zip_cache[key]\n",
    "    \n",
    "    try:\n",
    "        location = geolocator.reverse((lat, lon), exactly_one=True, timeout=10)\n",
    "        address = location.raw.get('address', {})\n",
    "        postal_code = address.get('postcode', \"N/A\")\n",
    "    except Exception as e:\n",
    "        print(f\"Error getting ZIP for {lat}, {lon}: {e}\")\n",
    "        postal_code = \"N/A\"\n",
    "    \n",
    "    zip_cache[key] = postal_code\n",
    "    # Pause to respect the usage policy.\n",
    "    time.sleep(1)\n",
    "    return postal_code\n",
    "\n",
    "# Apply the function to each row in the DataFrame.\n",
    "df['zip'] = df.apply(lambda row: get_zip(row['lat'], row['lon']), axis=1)\n",
    "\n",
    "# Save the updated ZIP cache.\n",
    "with open(\"zip_cache.pkl\", \"wb\") as f:\n",
    "    pickle.dump(zip_cache, f)\n",
    "\n",
    "df.head()\n"
   ]
  },
  {
   "cell_type": "code",
   "execution_count": 12,
   "id": "db6eafad",
   "metadata": {
    "execution": {
     "iopub.execute_input": "2025-05-24T01:01:37.497238Z",
     "iopub.status.busy": "2025-05-24T01:01:37.496729Z",
     "iopub.status.idle": "2025-05-24T01:01:37.524797Z",
     "shell.execute_reply": "2025-05-24T01:01:37.524152Z"
    },
    "papermill": {
     "duration": 0.03667,
     "end_time": "2025-05-24T01:01:37.525775",
     "exception": false,
     "start_time": "2025-05-24T01:01:37.489105",
     "status": "completed"
    },
    "tags": []
   },
   "outputs": [
    {
     "name": "stdout",
     "output_type": "stream",
     "text": [
      "                  MissingCount  MissingPercentage\n",
      "RecordID                     0               0.00\n",
      "Offense                      0               0.00\n",
      "IncidentID                   0               0.00\n",
      "BlockNumber                  0               0.00\n",
      "StreetName                   0               0.00\n",
      "Agency                       0               0.00\n",
      "HourReported                 0               0.00\n",
      "ReportingOfficer            17               0.07\n",
      "Date                         0               0.00\n",
      "DateString                   0               0.00\n",
      "DayOfWeek                    0               0.00\n",
      "Weekend                      0               0.00\n",
      "Season                       0               0.00\n",
      "HourAMPM                     0               0.00\n",
      "TimeOfDay                    0               0.00\n",
      "FullStreet                   0               0.00\n",
      "lat                          0               0.00\n",
      "lon                          0               0.00\n",
      "neighborhood                 0               0.00\n",
      "zip                          0               0.00\n"
     ]
    }
   ],
   "source": [
    "missing_info = missing_percentage(df)\n",
    "print(missing_info)\n"
   ]
  },
  {
   "cell_type": "code",
   "execution_count": 13,
   "id": "1f6d8540",
   "metadata": {
    "execution": {
     "iopub.execute_input": "2025-05-24T01:01:37.540826Z",
     "iopub.status.busy": "2025-05-24T01:01:37.540245Z",
     "iopub.status.idle": "2025-05-24T01:01:37.568696Z",
     "shell.execute_reply": "2025-05-24T01:01:37.568052Z"
    },
    "papermill": {
     "duration": 0.037074,
     "end_time": "2025-05-24T01:01:37.569757",
     "exception": false,
     "start_time": "2025-05-24T01:01:37.532683",
     "status": "completed"
    },
    "tags": []
   },
   "outputs": [
    {
     "name": "stdout",
     "output_type": "stream",
     "text": [
      "<class 'pandas.core.frame.DataFrame'>\n",
      "RangeIndex: 25427 entries, 0 to 25426\n",
      "Data columns (total 20 columns):\n",
      " #   Column            Non-Null Count  Dtype         \n",
      "---  ------            --------------  -----         \n",
      " 0   RecordID          25427 non-null  int64         \n",
      " 1   Offense           25427 non-null  object        \n",
      " 2   IncidentID        25427 non-null  object        \n",
      " 3   BlockNumber       25427 non-null  object        \n",
      " 4   StreetName        25427 non-null  object        \n",
      " 5   Agency            25427 non-null  object        \n",
      " 6   HourReported      25427 non-null  object        \n",
      " 7   ReportingOfficer  25410 non-null  object        \n",
      " 8   Date              25427 non-null  datetime64[ns]\n",
      " 9   DateString        25427 non-null  object        \n",
      " 10  DayOfWeek         25427 non-null  object        \n",
      " 11  Weekend           25427 non-null  bool          \n",
      " 12  Season            25427 non-null  object        \n",
      " 13  HourAMPM          25427 non-null  object        \n",
      " 14  TimeOfDay         25427 non-null  object        \n",
      " 15  FullStreet        25427 non-null  object        \n",
      " 16  lat               25427 non-null  float64       \n",
      " 17  lon               25427 non-null  float64       \n",
      " 18  neighborhood      25427 non-null  object        \n",
      " 19  zip               25427 non-null  object        \n",
      "dtypes: bool(1), datetime64[ns](1), float64(2), int64(1), object(15)\n",
      "memory usage: 3.7+ MB\n"
     ]
    }
   ],
   "source": [
    "df.info()"
   ]
  },
  {
   "cell_type": "code",
   "execution_count": 14,
   "id": "4d678c13",
   "metadata": {
    "execution": {
     "iopub.execute_input": "2025-05-24T01:01:37.585428Z",
     "iopub.status.busy": "2025-05-24T01:01:37.584961Z",
     "iopub.status.idle": "2025-05-24T01:01:37.633501Z",
     "shell.execute_reply": "2025-05-24T01:01:37.632785Z"
    },
    "papermill": {
     "duration": 0.05743,
     "end_time": "2025-05-24T01:01:37.634534",
     "exception": false,
     "start_time": "2025-05-24T01:01:37.577104",
     "status": "completed"
    },
    "tags": []
   },
   "outputs": [
    {
     "data": {
      "text/html": [
       "<div>\n",
       "<style scoped>\n",
       "    .dataframe tbody tr th:only-of-type {\n",
       "        vertical-align: middle;\n",
       "    }\n",
       "\n",
       "    .dataframe tbody tr th {\n",
       "        vertical-align: top;\n",
       "    }\n",
       "\n",
       "    .dataframe thead th {\n",
       "        text-align: right;\n",
       "    }\n",
       "</style>\n",
       "<table border=\"1\" class=\"dataframe\">\n",
       "  <thead>\n",
       "    <tr style=\"text-align: right;\">\n",
       "      <th></th>\n",
       "      <th>RecordID</th>\n",
       "      <th>Offense</th>\n",
       "      <th>IncidentID</th>\n",
       "      <th>Agency</th>\n",
       "      <th>ReportingOfficer</th>\n",
       "      <th>Date</th>\n",
       "      <th>DayOfWeek</th>\n",
       "      <th>Weekend</th>\n",
       "      <th>Season</th>\n",
       "      <th>TimeOfDay</th>\n",
       "      <th>FullStreet</th>\n",
       "      <th>lat</th>\n",
       "      <th>lon</th>\n",
       "      <th>neighborhood</th>\n",
       "      <th>zip</th>\n",
       "    </tr>\n",
       "  </thead>\n",
       "  <tbody>\n",
       "    <tr>\n",
       "      <th>0</th>\n",
       "      <td>1</td>\n",
       "      <td>Assist Citizen - Mental/TDO/ECO</td>\n",
       "      <td>202500017395</td>\n",
       "      <td>CPD</td>\n",
       "      <td>Abdelgayed, Adam</td>\n",
       "      <td>2025-05-21 22:27:01</td>\n",
       "      <td>Wednesday</td>\n",
       "      <td>False</td>\n",
       "      <td>Spring</td>\n",
       "      <td>Night</td>\n",
       "      <td>100 7TH ST NE</td>\n",
       "      <td>38.029771</td>\n",
       "      <td>-78.476525</td>\n",
       "      <td>Downtown Mall</td>\n",
       "      <td>22902</td>\n",
       "    </tr>\n",
       "    <tr>\n",
       "      <th>1</th>\n",
       "      <td>2</td>\n",
       "      <td>Hit and Run</td>\n",
       "      <td>202500017393</td>\n",
       "      <td>CPD</td>\n",
       "      <td>Hudson, Jesse</td>\n",
       "      <td>2025-05-21 22:10:43</td>\n",
       "      <td>Wednesday</td>\n",
       "      <td>False</td>\n",
       "      <td>Spring</td>\n",
       "      <td>Night</td>\n",
       "      <td>EMMET ST N / EARHART ST</td>\n",
       "      <td>38.056041</td>\n",
       "      <td>-78.496501</td>\n",
       "      <td>The Meadows</td>\n",
       "      <td>22903</td>\n",
       "    </tr>\n",
       "    <tr>\n",
       "      <th>2</th>\n",
       "      <td>3</td>\n",
       "      <td>Disorderly Conduct</td>\n",
       "      <td>202500017392</td>\n",
       "      <td>CPD</td>\n",
       "      <td>Venereo, Arturo</td>\n",
       "      <td>2025-05-21 21:55:05</td>\n",
       "      <td>Wednesday</td>\n",
       "      <td>False</td>\n",
       "      <td>Spring</td>\n",
       "      <td>Night</td>\n",
       "      <td>200 RIDGE MCINTIRE RD</td>\n",
       "      <td>38.031221</td>\n",
       "      <td>-78.483889</td>\n",
       "      <td>Downtown Mall</td>\n",
       "      <td>22903</td>\n",
       "    </tr>\n",
       "    <tr>\n",
       "      <th>3</th>\n",
       "      <td>4</td>\n",
       "      <td>Larceny - Shoplifitng</td>\n",
       "      <td>202500017383</td>\n",
       "      <td>CPD</td>\n",
       "      <td>Davis, Charles</td>\n",
       "      <td>2025-05-21 19:49:37</td>\n",
       "      <td>Wednesday</td>\n",
       "      <td>False</td>\n",
       "      <td>Spring</td>\n",
       "      <td>Evening</td>\n",
       "      <td>500 W MAIN ST</td>\n",
       "      <td>38.030793</td>\n",
       "      <td>-78.487912</td>\n",
       "      <td>Starr Hill</td>\n",
       "      <td>22903</td>\n",
       "    </tr>\n",
       "    <tr>\n",
       "      <th>4</th>\n",
       "      <td>5</td>\n",
       "      <td>Weapons Violations</td>\n",
       "      <td>202500017376</td>\n",
       "      <td>CPD</td>\n",
       "      <td>Shiflett, Ethan</td>\n",
       "      <td>2025-05-21 18:39:18</td>\n",
       "      <td>Wednesday</td>\n",
       "      <td>False</td>\n",
       "      <td>Spring</td>\n",
       "      <td>Evening</td>\n",
       "      <td>300 E WATER ST</td>\n",
       "      <td>38.029446</td>\n",
       "      <td>-78.480377</td>\n",
       "      <td>North Downtown</td>\n",
       "      <td>22903</td>\n",
       "    </tr>\n",
       "  </tbody>\n",
       "</table>\n",
       "</div>"
      ],
      "text/plain": [
       "   RecordID                          Offense    IncidentID Agency  \\\n",
       "0         1  Assist Citizen - Mental/TDO/ECO  202500017395    CPD   \n",
       "1         2                      Hit and Run  202500017393    CPD   \n",
       "2         3               Disorderly Conduct  202500017392    CPD   \n",
       "3         4            Larceny - Shoplifitng  202500017383    CPD   \n",
       "4         5               Weapons Violations  202500017376    CPD   \n",
       "\n",
       "   ReportingOfficer                Date  DayOfWeek  Weekend  Season TimeOfDay  \\\n",
       "0  Abdelgayed, Adam 2025-05-21 22:27:01  Wednesday    False  Spring     Night   \n",
       "1     Hudson, Jesse 2025-05-21 22:10:43  Wednesday    False  Spring     Night   \n",
       "2   Venereo, Arturo 2025-05-21 21:55:05  Wednesday    False  Spring     Night   \n",
       "3    Davis, Charles 2025-05-21 19:49:37  Wednesday    False  Spring   Evening   \n",
       "4  Shiflett, Ethan  2025-05-21 18:39:18  Wednesday    False  Spring   Evening   \n",
       "\n",
       "                 FullStreet        lat        lon    neighborhood    zip  \n",
       "0             100 7TH ST NE  38.029771 -78.476525   Downtown Mall  22902  \n",
       "1   EMMET ST N / EARHART ST  38.056041 -78.496501     The Meadows  22903  \n",
       "2     200 RIDGE MCINTIRE RD  38.031221 -78.483889   Downtown Mall  22903  \n",
       "3             500 W MAIN ST  38.030793 -78.487912      Starr Hill  22903  \n",
       "4            300 E WATER ST  38.029446 -78.480377  North Downtown  22903  "
      ]
     },
     "execution_count": 14,
     "metadata": {},
     "output_type": "execute_result"
    }
   ],
   "source": [
    "# Now drop the original BlockNumber and StreetName columns\n",
    "df.drop(columns=['BlockNumber', 'StreetName','HourAMPM','HourReported','DateString'], inplace=True)\n",
    "df[\"zip\"] = df[\"zip\"].astype(str)\n",
    "\n",
    "# Fill all missing values in the DataFrame with \"N/A\"\n",
    "df.replace({None: \"N/A\", np.nan: \"N/A\", \"\": \"N/A\"}, inplace=True)\n",
    "df.head()"
   ]
  },
  {
   "cell_type": "code",
   "execution_count": 15,
   "id": "f7a3f1d0",
   "metadata": {
    "execution": {
     "iopub.execute_input": "2025-05-24T01:01:37.650469Z",
     "iopub.status.busy": "2025-05-24T01:01:37.649998Z",
     "iopub.status.idle": "2025-05-24T01:01:37.665793Z",
     "shell.execute_reply": "2025-05-24T01:01:37.665250Z"
    },
    "papermill": {
     "duration": 0.02479,
     "end_time": "2025-05-24T01:01:37.666920",
     "exception": false,
     "start_time": "2025-05-24T01:01:37.642130",
     "status": "completed"
    },
    "tags": []
   },
   "outputs": [
    {
     "name": "stdout",
     "output_type": "stream",
     "text": [
      "                  MissingCount  MissingPercentage\n",
      "RecordID                     0                0.0\n",
      "Offense                      0                0.0\n",
      "IncidentID                   0                0.0\n",
      "Agency                       0                0.0\n",
      "ReportingOfficer             0                0.0\n",
      "Date                         0                0.0\n",
      "DayOfWeek                    0                0.0\n",
      "Weekend                      0                0.0\n",
      "Season                       0                0.0\n",
      "TimeOfDay                    0                0.0\n",
      "FullStreet                   0                0.0\n",
      "lat                          0                0.0\n",
      "lon                          0                0.0\n",
      "neighborhood                 0                0.0\n",
      "zip                          0                0.0\n"
     ]
    }
   ],
   "source": [
    "missing_info = missing_percentage(df)\n",
    "print(missing_info)"
   ]
  },
  {
   "cell_type": "code",
   "execution_count": 16,
   "id": "0cf79d1e",
   "metadata": {
    "execution": {
     "iopub.execute_input": "2025-05-24T01:01:37.682554Z",
     "iopub.status.busy": "2025-05-24T01:01:37.682030Z",
     "iopub.status.idle": "2025-05-24T01:01:37.686558Z",
     "shell.execute_reply": "2025-05-24T01:01:37.686040Z"
    },
    "papermill": {
     "duration": 0.013396,
     "end_time": "2025-05-24T01:01:37.687522",
     "exception": false,
     "start_time": "2025-05-24T01:01:37.674126",
     "status": "completed"
    },
    "tags": []
   },
   "outputs": [
    {
     "data": {
      "text/plain": [
       "Index(['RecordID', 'Offense', 'IncidentID', 'Agency', 'ReportingOfficer',\n",
       "       'Date', 'DayOfWeek', 'Weekend', 'Season', 'TimeOfDay', 'FullStreet',\n",
       "       'lat', 'lon', 'neighborhood', 'zip'],\n",
       "      dtype='object')"
      ]
     },
     "execution_count": 16,
     "metadata": {},
     "output_type": "execute_result"
    }
   ],
   "source": [
    "df.columns"
   ]
  },
  {
   "cell_type": "code",
   "execution_count": 17,
   "id": "3c3daa39",
   "metadata": {
    "execution": {
     "iopub.execute_input": "2025-05-24T01:01:37.703109Z",
     "iopub.status.busy": "2025-05-24T01:01:37.702845Z",
     "iopub.status.idle": "2025-05-24T01:01:37.719872Z",
     "shell.execute_reply": "2025-05-24T01:01:37.719290Z"
    },
    "papermill": {
     "duration": 0.025902,
     "end_time": "2025-05-24T01:01:37.720845",
     "exception": false,
     "start_time": "2025-05-24T01:01:37.694943",
     "status": "completed"
    },
    "tags": []
   },
   "outputs": [
    {
     "name": "stdout",
     "output_type": "stream",
     "text": [
      "<class 'pandas.core.frame.DataFrame'>\n",
      "RangeIndex: 25427 entries, 0 to 25426\n",
      "Data columns (total 15 columns):\n",
      " #   Column            Non-Null Count  Dtype         \n",
      "---  ------            --------------  -----         \n",
      " 0   RecordID          25427 non-null  int64         \n",
      " 1   Offense           25427 non-null  object        \n",
      " 2   IncidentID        25427 non-null  object        \n",
      " 3   Agency            25427 non-null  object        \n",
      " 4   ReportingOfficer  25427 non-null  object        \n",
      " 5   Date              25427 non-null  datetime64[ns]\n",
      " 6   DayOfWeek         25427 non-null  object        \n",
      " 7   Weekend           25427 non-null  bool          \n",
      " 8   Season            25427 non-null  object        \n",
      " 9   TimeOfDay         25427 non-null  object        \n",
      " 10  FullStreet        25427 non-null  object        \n",
      " 11  lat               25427 non-null  float64       \n",
      " 12  lon               25427 non-null  float64       \n",
      " 13  neighborhood      25427 non-null  object        \n",
      " 14  zip               25427 non-null  object        \n",
      "dtypes: bool(1), datetime64[ns](1), float64(2), int64(1), object(10)\n",
      "memory usage: 2.7+ MB\n"
     ]
    }
   ],
   "source": [
    "df.info()"
   ]
  },
  {
   "cell_type": "markdown",
   "id": "1d2b830f",
   "metadata": {
    "papermill": {
     "duration": 0.008885,
     "end_time": "2025-05-24T01:01:37.737253",
     "exception": false,
     "start_time": "2025-05-24T01:01:37.728368",
     "status": "completed"
    },
    "tags": []
   },
   "source": [
    "### Export Clean Data"
   ]
  },
  {
   "cell_type": "code",
   "execution_count": 18,
   "id": "945cecee",
   "metadata": {
    "execution": {
     "iopub.execute_input": "2025-05-24T01:01:37.753387Z",
     "iopub.status.busy": "2025-05-24T01:01:37.752838Z",
     "iopub.status.idle": "2025-05-24T01:01:47.069650Z",
     "shell.execute_reply": "2025-05-24T01:01:47.068997Z"
    },
    "papermill": {
     "duration": 9.325837,
     "end_time": "2025-05-24T01:01:47.070653",
     "exception": false,
     "start_time": "2025-05-24T01:01:37.744816",
     "status": "completed"
    },
    "tags": []
   },
   "outputs": [
    {
     "name": "stdout",
     "output_type": "stream",
     "text": [
      "Project Root: /home/runner/work/crime-data/crime-data\n"
     ]
    },
    {
     "name": "stdout",
     "output_type": "stream",
     "text": [
      "Data saved to: /home/runner/work/crime-data/crime-data/data/charlottesville_crime_incidents.csv\n"
     ]
    },
    {
     "name": "stdout",
     "output_type": "stream",
     "text": [
      "Excel saved to: /home/runner/work/crime-data/crime-data/data/charlottesville_crime_incidents.xlsx\n"
     ]
    }
   ],
   "source": [
    "# Determine the project root (assuming papermill is run from the repository root)\n",
    "project_root = os.getcwd()\n",
    "print(\"Project Root:\", project_root)\n",
    "\n",
    "# Set the data directory within the project root\n",
    "data_dir = os.path.join(project_root, \"data\")\n",
    "\n",
    "# Ensure the \"data\" directory exists (create it if it doesn't)\n",
    "if not os.path.exists(data_dir):\n",
    "    os.makedirs(data_dir)\n",
    "\n",
    "# Export the DataFrame to CSV in the \"data\" folder located in the project root\n",
    "csv_path = os.path.join(data_dir, \"charlottesville_crime_incidents.csv\")\n",
    "df.to_csv(csv_path, index=False)\n",
    "print(\"Data saved to:\", csv_path)\n",
    "\n",
    "# Construct the path to your Excel file\n",
    "excel_path = os.path.join(data_dir, \"charlottesville_crime_incidents.xlsx\")\n",
    "\n",
    "# Export the DataFrame to Excel\n",
    "df.to_excel(excel_path, index=False)\n",
    "print(\"Excel saved to:\", excel_path)\n"
   ]
  },
  {
   "cell_type": "markdown",
   "id": "7a94de13",
   "metadata": {
    "papermill": {
     "duration": 0.007583,
     "end_time": "2025-05-24T01:01:47.086235",
     "exception": false,
     "start_time": "2025-05-24T01:01:47.078652",
     "status": "completed"
    },
    "tags": []
   },
   "source": [
    "## Predictive Analytics"
   ]
  },
  {
   "cell_type": "code",
   "execution_count": 19,
   "id": "1a408cda",
   "metadata": {
    "execution": {
     "iopub.execute_input": "2025-05-24T01:01:47.102582Z",
     "iopub.status.busy": "2025-05-24T01:01:47.102077Z",
     "iopub.status.idle": "2025-05-24T01:01:47.113564Z",
     "shell.execute_reply": "2025-05-24T01:01:47.113043Z"
    },
    "papermill": {
     "duration": 0.020754,
     "end_time": "2025-05-24T01:01:47.114562",
     "exception": false,
     "start_time": "2025-05-24T01:01:47.093808",
     "status": "completed"
    },
    "tags": []
   },
   "outputs": [
    {
     "data": {
      "text/html": [
       "<div>\n",
       "<style scoped>\n",
       "    .dataframe tbody tr th:only-of-type {\n",
       "        vertical-align: middle;\n",
       "    }\n",
       "\n",
       "    .dataframe tbody tr th {\n",
       "        vertical-align: top;\n",
       "    }\n",
       "\n",
       "    .dataframe thead th {\n",
       "        text-align: right;\n",
       "    }\n",
       "</style>\n",
       "<table border=\"1\" class=\"dataframe\">\n",
       "  <thead>\n",
       "    <tr style=\"text-align: right;\">\n",
       "      <th></th>\n",
       "      <th>RecordID</th>\n",
       "      <th>Offense</th>\n",
       "      <th>IncidentID</th>\n",
       "      <th>Agency</th>\n",
       "      <th>ReportingOfficer</th>\n",
       "      <th>Date</th>\n",
       "      <th>DayOfWeek</th>\n",
       "      <th>Weekend</th>\n",
       "      <th>Season</th>\n",
       "      <th>TimeOfDay</th>\n",
       "      <th>FullStreet</th>\n",
       "      <th>lat</th>\n",
       "      <th>lon</th>\n",
       "      <th>neighborhood</th>\n",
       "      <th>zip</th>\n",
       "    </tr>\n",
       "  </thead>\n",
       "  <tbody>\n",
       "    <tr>\n",
       "      <th>0</th>\n",
       "      <td>1</td>\n",
       "      <td>Assist Citizen - Mental/TDO/ECO</td>\n",
       "      <td>202500017395</td>\n",
       "      <td>CPD</td>\n",
       "      <td>Abdelgayed, Adam</td>\n",
       "      <td>2025-05-21 22:27:01</td>\n",
       "      <td>Wednesday</td>\n",
       "      <td>False</td>\n",
       "      <td>Spring</td>\n",
       "      <td>Night</td>\n",
       "      <td>100 7TH ST NE</td>\n",
       "      <td>38.029771</td>\n",
       "      <td>-78.476525</td>\n",
       "      <td>Downtown Mall</td>\n",
       "      <td>22902</td>\n",
       "    </tr>\n",
       "    <tr>\n",
       "      <th>1</th>\n",
       "      <td>2</td>\n",
       "      <td>Hit and Run</td>\n",
       "      <td>202500017393</td>\n",
       "      <td>CPD</td>\n",
       "      <td>Hudson, Jesse</td>\n",
       "      <td>2025-05-21 22:10:43</td>\n",
       "      <td>Wednesday</td>\n",
       "      <td>False</td>\n",
       "      <td>Spring</td>\n",
       "      <td>Night</td>\n",
       "      <td>EMMET ST N / EARHART ST</td>\n",
       "      <td>38.056041</td>\n",
       "      <td>-78.496501</td>\n",
       "      <td>The Meadows</td>\n",
       "      <td>22903</td>\n",
       "    </tr>\n",
       "    <tr>\n",
       "      <th>2</th>\n",
       "      <td>3</td>\n",
       "      <td>Disorderly Conduct</td>\n",
       "      <td>202500017392</td>\n",
       "      <td>CPD</td>\n",
       "      <td>Venereo, Arturo</td>\n",
       "      <td>2025-05-21 21:55:05</td>\n",
       "      <td>Wednesday</td>\n",
       "      <td>False</td>\n",
       "      <td>Spring</td>\n",
       "      <td>Night</td>\n",
       "      <td>200 RIDGE MCINTIRE RD</td>\n",
       "      <td>38.031221</td>\n",
       "      <td>-78.483889</td>\n",
       "      <td>Downtown Mall</td>\n",
       "      <td>22903</td>\n",
       "    </tr>\n",
       "    <tr>\n",
       "      <th>3</th>\n",
       "      <td>4</td>\n",
       "      <td>Larceny - Shoplifitng</td>\n",
       "      <td>202500017383</td>\n",
       "      <td>CPD</td>\n",
       "      <td>Davis, Charles</td>\n",
       "      <td>2025-05-21 19:49:37</td>\n",
       "      <td>Wednesday</td>\n",
       "      <td>False</td>\n",
       "      <td>Spring</td>\n",
       "      <td>Evening</td>\n",
       "      <td>500 W MAIN ST</td>\n",
       "      <td>38.030793</td>\n",
       "      <td>-78.487912</td>\n",
       "      <td>Starr Hill</td>\n",
       "      <td>22903</td>\n",
       "    </tr>\n",
       "    <tr>\n",
       "      <th>4</th>\n",
       "      <td>5</td>\n",
       "      <td>Weapons Violations</td>\n",
       "      <td>202500017376</td>\n",
       "      <td>CPD</td>\n",
       "      <td>Shiflett, Ethan</td>\n",
       "      <td>2025-05-21 18:39:18</td>\n",
       "      <td>Wednesday</td>\n",
       "      <td>False</td>\n",
       "      <td>Spring</td>\n",
       "      <td>Evening</td>\n",
       "      <td>300 E WATER ST</td>\n",
       "      <td>38.029446</td>\n",
       "      <td>-78.480377</td>\n",
       "      <td>North Downtown</td>\n",
       "      <td>22903</td>\n",
       "    </tr>\n",
       "  </tbody>\n",
       "</table>\n",
       "</div>"
      ],
      "text/plain": [
       "   RecordID                          Offense    IncidentID Agency  \\\n",
       "0         1  Assist Citizen - Mental/TDO/ECO  202500017395    CPD   \n",
       "1         2                      Hit and Run  202500017393    CPD   \n",
       "2         3               Disorderly Conduct  202500017392    CPD   \n",
       "3         4            Larceny - Shoplifitng  202500017383    CPD   \n",
       "4         5               Weapons Violations  202500017376    CPD   \n",
       "\n",
       "   ReportingOfficer                Date  DayOfWeek  Weekend  Season TimeOfDay  \\\n",
       "0  Abdelgayed, Adam 2025-05-21 22:27:01  Wednesday    False  Spring     Night   \n",
       "1     Hudson, Jesse 2025-05-21 22:10:43  Wednesday    False  Spring     Night   \n",
       "2   Venereo, Arturo 2025-05-21 21:55:05  Wednesday    False  Spring     Night   \n",
       "3    Davis, Charles 2025-05-21 19:49:37  Wednesday    False  Spring   Evening   \n",
       "4  Shiflett, Ethan  2025-05-21 18:39:18  Wednesday    False  Spring   Evening   \n",
       "\n",
       "                 FullStreet        lat        lon    neighborhood    zip  \n",
       "0             100 7TH ST NE  38.029771 -78.476525   Downtown Mall  22902  \n",
       "1   EMMET ST N / EARHART ST  38.056041 -78.496501     The Meadows  22903  \n",
       "2     200 RIDGE MCINTIRE RD  38.031221 -78.483889   Downtown Mall  22903  \n",
       "3             500 W MAIN ST  38.030793 -78.487912      Starr Hill  22903  \n",
       "4            300 E WATER ST  38.029446 -78.480377  North Downtown  22903  "
      ]
     },
     "execution_count": 19,
     "metadata": {},
     "output_type": "execute_result"
    }
   ],
   "source": [
    "df.head()"
   ]
  },
  {
   "cell_type": "code",
   "execution_count": 20,
   "id": "83fb3598",
   "metadata": {
    "execution": {
     "iopub.execute_input": "2025-05-24T01:01:47.131173Z",
     "iopub.status.busy": "2025-05-24T01:01:47.130770Z",
     "iopub.status.idle": "2025-05-24T01:01:47.134976Z",
     "shell.execute_reply": "2025-05-24T01:01:47.134438Z"
    },
    "papermill": {
     "duration": 0.013453,
     "end_time": "2025-05-24T01:01:47.135912",
     "exception": false,
     "start_time": "2025-05-24T01:01:47.122459",
     "status": "completed"
    },
    "tags": []
   },
   "outputs": [
    {
     "data": {
      "text/plain": [
       "Index(['RecordID', 'Offense', 'IncidentID', 'Agency', 'ReportingOfficer',\n",
       "       'Date', 'DayOfWeek', 'Weekend', 'Season', 'TimeOfDay', 'FullStreet',\n",
       "       'lat', 'lon', 'neighborhood', 'zip'],\n",
       "      dtype='object')"
      ]
     },
     "execution_count": 20,
     "metadata": {},
     "output_type": "execute_result"
    }
   ],
   "source": [
    "df.columns"
   ]
  },
  {
   "cell_type": "markdown",
   "id": "cffbd98b",
   "metadata": {
    "papermill": {
     "duration": 0.00805,
     "end_time": "2025-05-24T01:01:47.151954",
     "exception": false,
     "start_time": "2025-05-24T01:01:47.143904",
     "status": "completed"
    },
    "tags": []
   },
   "source": [
    "### Data Preparation\n",
    "\n",
    "We need to ensure the data is in the correct format for modeling and can handle missing values, categorical variables, and dates. Here's how to prepare your data:"
   ]
  },
  {
   "cell_type": "code",
   "execution_count": 21,
   "id": "cb67bc6f",
   "metadata": {
    "execution": {
     "iopub.execute_input": "2025-05-24T01:01:47.168557Z",
     "iopub.status.busy": "2025-05-24T01:01:47.168174Z",
     "iopub.status.idle": "2025-05-24T01:01:52.235669Z",
     "shell.execute_reply": "2025-05-24T01:01:52.234921Z"
    },
    "papermill": {
     "duration": 5.077225,
     "end_time": "2025-05-24T01:01:52.237033",
     "exception": false,
     "start_time": "2025-05-24T01:01:47.159808",
     "status": "completed"
    },
    "tags": []
   },
   "outputs": [],
   "source": [
    "import pandas as pd\n",
    "from sklearn.model_selection import train_test_split\n",
    "from sklearn.preprocessing import OneHotEncoder, LabelEncoder\n",
    "from sklearn.ensemble import RandomForestClassifier\n",
    "from sklearn.linear_model import LogisticRegression\n",
    "from sklearn.tree import DecisionTreeClassifier\n",
    "from sklearn.metrics import classification_report, accuracy_score\n",
    "import seaborn as sns\n",
    "import matplotlib.pyplot as plt\n",
    "\n",
    "# Convert 'Date' to datetime\n",
    "df['Date'] = pd.to_datetime(df['Date'])\n",
    "\n",
    "# Feature engineering: Extract additional time-based features\n",
    "df['Year'] = df['Date'].dt.year\n",
    "df['Month'] = df['Date'].dt.month\n",
    "df['DayOfMonth'] = df['Date'].dt.day\n",
    "\n",
    "# One-hot encoding for 'FullStreet', 'neighborhood', 'zip'\n",
    "df = pd.get_dummies(df, columns=['FullStreet', 'neighborhood', 'zip'], drop_first=True)\n",
    "\n",
    "# Label encoding for ordered variables (those with a natural order like 'DayOfWeek', 'Season', 'TimeOfDay')\n",
    "label_encoders = {}\n",
    "for column in ['DayOfWeek', 'Season', 'TimeOfDay', 'Agency', 'ReportingOfficer']:  # Example ordinal variables\n",
    "    le = LabelEncoder()\n",
    "    df[column] = le.fit_transform(df[column])\n",
    "    label_encoders[column] = le\n",
    "\n",
    "# Filter the dataset to include only the offenses of interest\n",
    "offenses_of_interest = [\n",
    "    'Hit and Run', 'Assault Simple', 'Suspicious Activity', 'Vandalism', \n",
    "    'Larceny - From Mot Vehicle', 'Larceny - All Other', \n",
    "    'Assist Citizen - Mental/TDO/ECO', 'Lost/FoundProperty'\n",
    "]\n",
    "\n",
    "df = df[df['Offense'].isin(offenses_of_interest)]\n",
    "\n",
    "# Label encode the target variable (Offense)\n",
    "offense_encoder = LabelEncoder()\n",
    "df['Offense'] = offense_encoder.fit_transform(df['Offense'])\n",
    "\n",
    "# Separate features (X) and target (y)\n",
    "X = df[['Year', 'Month', 'DayOfMonth', 'DayOfWeek', 'Weekend', 'Season', 'TimeOfDay', 'lat', 'lon', 'Agency', 'ReportingOfficer']]\n",
    "y = df['Offense']  # Offense is now the encoded target variable\n",
    "\n",
    "# Split the data into training and testing sets\n",
    "X_train, X_test, y_train, y_test = train_test_split(X, y, test_size=0.3, random_state=42)\n"
   ]
  },
  {
   "cell_type": "markdown",
   "id": "ead25afc",
   "metadata": {
    "papermill": {
     "duration": 0.007992,
     "end_time": "2025-05-24T01:01:52.253348",
     "exception": false,
     "start_time": "2025-05-24T01:01:52.245356",
     "status": "completed"
    },
    "tags": []
   },
   "source": [
    "### Model Training\n",
    "\n",
    "Here we will train several models (e.g., Random Forest, Logistic Regression, and Decision Tree). We will use cross-validation to choose the best model based on accuracy, and then explain the impact of the variables."
   ]
  },
  {
   "cell_type": "code",
   "execution_count": 22,
   "id": "1676c1b4",
   "metadata": {
    "execution": {
     "iopub.execute_input": "2025-05-24T01:01:52.270335Z",
     "iopub.status.busy": "2025-05-24T01:01:52.269936Z",
     "iopub.status.idle": "2025-05-24T01:01:55.894794Z",
     "shell.execute_reply": "2025-05-24T01:01:55.894228Z"
    },
    "papermill": {
     "duration": 3.63467,
     "end_time": "2025-05-24T01:01:55.895887",
     "exception": false,
     "start_time": "2025-05-24T01:01:52.261217",
     "status": "completed"
    },
    "tags": []
   },
   "outputs": [
    {
     "name": "stderr",
     "output_type": "stream",
     "text": [
      "/opt/hostedtoolcache/Python/3.9.22/x64/lib/python3.9/site-packages/sklearn/linear_model/_logistic.py:465: ConvergenceWarning: lbfgs failed to converge (status=1):\n",
      "STOP: TOTAL NO. of ITERATIONS REACHED LIMIT.\n",
      "\n",
      "Increase the number of iterations (max_iter) or scale the data as shown in:\n",
      "    https://scikit-learn.org/stable/modules/preprocessing.html\n",
      "Please also refer to the documentation for alternative solver options:\n",
      "    https://scikit-learn.org/stable/modules/linear_model.html#logistic-regression\n",
      "  n_iter_i = _check_optimize_result(\n",
      "/opt/hostedtoolcache/Python/3.9.22/x64/lib/python3.9/site-packages/sklearn/metrics/_classification.py:1565: UndefinedMetricWarning: Precision is ill-defined and being set to 0.0 in labels with no predicted samples. Use `zero_division` parameter to control this behavior.\n",
      "  _warn_prf(average, modifier, f\"{metric.capitalize()} is\", len(result))\n",
      "/opt/hostedtoolcache/Python/3.9.22/x64/lib/python3.9/site-packages/sklearn/metrics/_classification.py:1565: UndefinedMetricWarning: Precision is ill-defined and being set to 0.0 in labels with no predicted samples. Use `zero_division` parameter to control this behavior.\n",
      "  _warn_prf(average, modifier, f\"{metric.capitalize()} is\", len(result))\n",
      "/opt/hostedtoolcache/Python/3.9.22/x64/lib/python3.9/site-packages/sklearn/metrics/_classification.py:1565: UndefinedMetricWarning: Precision is ill-defined and being set to 0.0 in labels with no predicted samples. Use `zero_division` parameter to control this behavior.\n",
      "  _warn_prf(average, modifier, f\"{metric.capitalize()} is\", len(result))\n"
     ]
    },
    {
     "name": "stdout",
     "output_type": "stream",
     "text": [
      "\n",
      "Classification Report for All Models:\n",
      "\n",
      "Model: RandomForest\n",
      "Accuracy: 0.2824\n",
      "              precision    recall  f1-score      support\n",
      "0              0.264628  0.357271  0.304049   557.000000\n",
      "1              0.292169  0.230404  0.257636   421.000000\n",
      "2              0.314559  0.447130  0.369308   662.000000\n",
      "3              0.229426  0.193277  0.209806   476.000000\n",
      "4              0.368421  0.236620  0.288165   355.000000\n",
      "5              0.269841  0.224528  0.245108   530.000000\n",
      "6              0.249364  0.201232  0.222727   487.000000\n",
      "accuracy       0.282397  0.282397  0.282397     0.282397\n",
      "macro avg      0.284058  0.270066  0.270971  3488.000000\n",
      "weighted avg   0.281850  0.282397  0.276045  3488.000000\n"
     ]
    },
    {
     "data": {
      "image/png": "[encoded data removed]",
      "text/plain": [
       "<Figure size 800x600 with 2 Axes>"
      ]
     },
     "metadata": {},
     "output_type": "display_data"
    },
    {
     "name": "stdout",
     "output_type": "stream",
     "text": [
      "\n",
      "Model: LogisticRegression\n",
      "Accuracy: 0.2081\n",
      "              precision    recall  f1-score      support\n",
      "0              0.188011  0.495512  0.272593   557.000000\n",
      "1              0.000000  0.000000  0.000000   421.000000\n",
      "2              0.222883  0.679758  0.335696   662.000000\n",
      "3              0.000000  0.000000  0.000000   476.000000\n",
      "4              0.000000  0.000000  0.000000   355.000000\n",
      "5              0.000000  0.000000  0.000000   530.000000\n",
      "6              0.000000  0.000000  0.000000   487.000000\n",
      "accuracy       0.208142  0.208142  0.208142     0.208142\n",
      "macro avg      0.058699  0.167896  0.086898  3488.000000\n",
      "weighted avg   0.072325  0.208142  0.107243  3488.000000\n"
     ]
    },
    {
     "data": {
      "image/png": "[encoded data removed]",
      "text/plain": [
       "<Figure size 800x600 with 2 Axes>"
      ]
     },
     "metadata": {},
     "output_type": "display_data"
    },
    {
     "name": "stdout",
     "output_type": "stream",
     "text": [
      "\n",
      "Model: DecisionTree\n",
      "Accuracy: 0.2253\n",
      "              precision    recall  f1-score      support\n",
      "0              0.239482  0.265709  0.251915   557.000000\n",
      "1              0.225581  0.230404  0.227967   421.000000\n",
      "2              0.278963  0.276435  0.277693   662.000000\n",
      "3              0.191011  0.178571  0.184582   476.000000\n",
      "4              0.213650  0.202817  0.208092   355.000000\n",
      "5              0.224907  0.228302  0.226592   530.000000\n",
      "6              0.172414  0.164271  0.168244   487.000000\n",
      "accuracy       0.225344  0.225344  0.225344     0.225344\n",
      "macro avg      0.220858  0.220930  0.220727  3488.000000\n",
      "weighted avg   0.224475  0.225344  0.224738  3488.000000\n"
     ]
    },
    {
     "data": {
      "image/png": "[encoded data removed]",
      "text/plain": [
       "<Figure size 800x600 with 2 Axes>"
      ]
     },
     "metadata": {},
     "output_type": "display_data"
    },
    {
     "name": "stdout",
     "output_type": "stream",
     "text": [
      "\n",
      "Best Model:\n",
      "Best Model: RandomForestClassifier()\n",
      "Best Model Accuracy: 0.2824\n"
     ]
    }
   ],
   "source": [
    "import pandas as pd\n",
    "from sklearn.model_selection import train_test_split\n",
    "from sklearn.ensemble import RandomForestClassifier\n",
    "from sklearn.linear_model import LogisticRegression\n",
    "from sklearn.tree import DecisionTreeClassifier\n",
    "from sklearn.metrics import classification_report, accuracy_score, confusion_matrix\n",
    "import seaborn as sns\n",
    "import matplotlib.pyplot as plt\n",
    "\n",
    "# Define models\n",
    "models = {\n",
    "    'RandomForest': RandomForestClassifier(),\n",
    "    'LogisticRegression': LogisticRegression(max_iter=1000),\n",
    "    'DecisionTree': DecisionTreeClassifier()\n",
    "}\n",
    "\n",
    "# Train models and evaluate them\n",
    "best_model = None\n",
    "best_score = 0\n",
    "model_reports = {}\n",
    "\n",
    "for model_name, model in models.items():\n",
    "    model.fit(X_train, y_train)  # Train model\n",
    "    y_pred = model.predict(X_test)  # Make predictions\n",
    "    \n",
    "    # Calculate accuracy and generate classification report\n",
    "    accuracy = accuracy_score(y_test, y_pred)\n",
    "    model_reports[model_name] = classification_report(y_test, y_pred, output_dict=True)  # Store as a dictionary for easier analysis\n",
    "    \n",
    "    # Track best performing model\n",
    "    if accuracy > best_score:\n",
    "        best_score = accuracy\n",
    "        best_model = model\n",
    "\n",
    "# Display classification reports and confusion matrices\n",
    "print(\"\\nClassification Report for All Models:\")\n",
    "for model_name, report in model_reports.items():\n",
    "    print(f\"\\nModel: {model_name}\")\n",
    "    print(\"Accuracy: {:.4f}\".format(accuracy_score(y_test, models[model_name].predict(X_test))))  # Display accuracy\n",
    "    print(pd.DataFrame(report).transpose())  # Display classification report as a DataFrame\n",
    "\n",
    "    # Plot Confusion Matrix\n",
    "    cm = confusion_matrix(y_test, models[model_name].predict(X_test))\n",
    "    plt.figure(figsize=(8, 6))\n",
    "    sns.heatmap(cm, annot=True, fmt=\"d\", cmap='Blues', xticklabels=offense_encoder.classes_, yticklabels=offense_encoder.classes_)\n",
    "    plt.title(f\"Confusion Matrix - {model_name}\")\n",
    "    plt.xlabel('Predicted Labels')\n",
    "    plt.ylabel('True Labels')\n",
    "    plt.show()\n",
    "\n",
    "# Display best model details\n",
    "print(\"\\nBest Model:\")\n",
    "print(f\"Best Model: {best_model}\")\n",
    "print(f\"Best Model Accuracy: {best_score:.4f}\")\n"
   ]
  },
  {
   "cell_type": "markdown",
   "id": "110f8ccd",
   "metadata": {
    "papermill": {
     "duration": 0.010633,
     "end_time": "2025-05-24T01:01:55.918011",
     "exception": false,
     "start_time": "2025-05-24T01:01:55.907378",
     "status": "completed"
    },
    "tags": []
   },
   "source": [
    "#### Classification Report for All Models:\n",
    "\n",
    "### Explanation of the Classification Results (RandomForest Model)\n",
    "\n",
    "The results you provided are from a **Random Forest** model, which is used for predicting different types of offenses. Let's break down the key components of the results:\n",
    "\n",
    "#### 1. **Accuracy: 0.2822**\n",
    "   - **Accuracy** measures the overall percentage of correct predictions made by the model. An accuracy of 28.22% means the model correctly predicted the offense in about 28% of the cases. This indicates the model's predictions are not highly reliable, as the accuracy is quite low.\n",
    "\n",
    "#### 2. **Classification Report:**\n",
    "   The classification report includes precision, recall, and F1-score for each offense. Let's go over these terms and how they apply to the results:\n",
    "\n",
    "   - **Precision**: The proportion of true positive predictions out of all positive predictions made by the model for a specific class (offense).\n",
    "   - **Recall**: The proportion of true positive predictions out of all actual positive instances in the dataset.\n",
    "   - **F1-Score**: The harmonic mean of precision and recall, providing a balance between the two metrics.\n",
    "   - **Support**: The number of actual occurrences of each class in the test set.\n",
    "\n",
    "   Let's analyze each offense based on these metrics:\n",
    "\n",
    "   | **Offense**                        | **Precision** | **Recall** | **F1-Score** | **Support** |\n",
    "   |------------------------------------|---------------|------------|--------------|-------------|\n",
    "   | **Assault Simple**                 | 0.2892        | 0.3754     | 0.3267       | 594         |\n",
    "   | **Assist Citizen - Mental/TDO/ECO**| 0.3182        | 0.2274     | 0.2652       | 431         |\n",
    "   | **Hit and Run**                    | 0.2963        | 0.4765     | 0.3654       | 638         |\n",
    "   | **Larceny - All Other**            | 0.2270        | 0.1453     | 0.1772       | 475         |\n",
    "   | **Lost/FoundProperty**             | 0.3333        | 0.2102     | 0.2578       | 352         |\n",
    "   | **Suspicious Activity**            | 0.2344        | 0.2169     | 0.2253       | 484         |\n",
    "   | **Vandalism**                      | 0.2712        | 0.2106     | 0.2371       | 470         |\n",
    "\n",
    "#### 3. **Key Insights from the Report:**\n",
    "\n",
    "- **Precision**:\n",
    "   - The highest precision is for **Larceny - All Other** (0.3333), indicating that when the model predicts this offense, it is correct about 33% of the time. However, this is still quite low.\n",
    "   - **Assist Citizen - Mental/TDO/ECO** has the lowest precision (0.2269), meaning that the model's predictions for this offense tend to be wrong more often than correct.\n",
    "\n",
    "- **Recall**:\n",
    "   - **Hit and Run** has the highest recall (0.4765), meaning the model identifies about 48% of the actual occurrences of this offense. This is better than the precision, which indicates it is missing many true positives but is still able to identify a fair number of cases.\n",
    "   - **Larceny - All Other** and **Suspicious Activity** have the lowest recall values (0.1453 and 0.2169, respectively), indicating that the model is failing to identify most of the actual cases for these offenses.\n",
    "\n",
    "- **F1-Score**:\n",
    "   - The **F1-Score** balances precision and recall. It is highest for **Hit and Run** (0.3654), but still relatively low overall. This suggests the model is better at identifying **Hit and Run** than other offenses but still has room for improvement.\n",
    "   - **Larceny - All Other** has the lowest F1-Score (0.1772), indicating a poor balance between precision and recall for this offense.\n",
    "\n",
    "#### 4. **Macro Average and Weighted Average:**\n",
    "   - **Macro Average**: This gives the average precision, recall, and F1-Score across all classes (offenses) without considering the class distribution. It averages the results for all offenses equally.\n",
    "     - Precision: 0.2814\n",
    "     - Recall: 0.2661\n",
    "     - F1-Score: 0.2649\n",
    "   - **Weighted Average**: This averages the metrics but weighs each class by its support (the number of true instances in the test set). This gives a better sense of overall performance, considering the class distribution.\n",
    "     - Precision: 0.2799\n",
    "     - Recall: 0.2822\n",
    "     - F1-Score: 0.2720\n",
    "\n",
    "#### 5. **Confusion Matrix (Visualization Analysis)**:\n",
    "   - The confusion matrix shows the distribution of true positive, false positive, true negative, and false negative predictions for each class.\n",
    "     - For **Hit and Run**, the model performs relatively well in identifying this offense (304 true positives). However, it also misclassifies some **Hit and Run** instances as other offenses (e.g., **Assault Simple**, **Suspicious Activity**, etc.).\n",
    "     - **Larceny - All Other** is frequently misclassified as **Hit and Run**, **Suspicious Activity**, and others. This is evident from the large number of off-diagonal elements in its row.\n",
    "     - **Assist Citizen - Mental/TDO/ECO** and **Suspicious Activity** are frequently misclassified, as seen by the off-diagonal values in their rows.\n",
    "\n",
    "### Conclusion:\n",
    "The Random Forest model has low accuracy (28.22%), suggesting that it struggles to predict most offenses accurately. Some offenses like **Hit and Run** are better predicted than others, but overall, the model shows a high level of misclassification across all offenses. There may be a need for further tuning of the model, additional feature engineering, or trying different models for better performance.\n",
    "\n",
    "Let me know if you'd like to improve the model or make adjustments based on these results!\n",
    "\n"
   ]
  },
  {
   "cell_type": "markdown",
   "id": "e3c2006b",
   "metadata": {
    "papermill": {
     "duration": 0.010612,
     "end_time": "2025-05-24T01:01:55.939269",
     "exception": false,
     "start_time": "2025-05-24T01:01:55.928657",
     "status": "completed"
    },
    "tags": []
   },
   "source": [
    "### Model Explanation\n",
    "\n",
    "Once we’ve chosen the best model, we will explain its predictions by examining feature importance for tree-based models and using statistical methods like logistic regression coefficients for linear models."
   ]
  },
  {
   "cell_type": "markdown",
   "id": "26a4a7e5",
   "metadata": {
    "papermill": {
     "duration": 0.010491,
     "end_time": "2025-05-24T01:01:55.960377",
     "exception": false,
     "start_time": "2025-05-24T01:01:55.949886",
     "status": "completed"
    },
    "tags": []
   },
   "source": [
    "#### Feature Importance for Random Forest / Decision Tree\n",
    "\n",
    "##### For Tree-based Models (Random Forest, Decision Tree)\n",
    "\n",
    "For Random Forest or Decision Tree, we can look at feature importance to understand which variables contribute the most to the model's predictions. Here's how you can visualize and interpret the importance of each feature:"
   ]
  },
  {
   "cell_type": "code",
   "execution_count": 23,
   "id": "f93a7032",
   "metadata": {
    "execution": {
     "iopub.execute_input": "2025-05-24T01:01:55.982818Z",
     "iopub.status.busy": "2025-05-24T01:01:55.982332Z",
     "iopub.status.idle": "2025-05-24T01:01:56.150623Z",
     "shell.execute_reply": "2025-05-24T01:01:56.149941Z"
    },
    "papermill": {
     "duration": 0.18071,
     "end_time": "2025-05-24T01:01:56.151743",
     "exception": false,
     "start_time": "2025-05-24T01:01:55.971033",
     "status": "completed"
    },
    "tags": []
   },
   "outputs": [
    {
     "data": {
      "image/png": "[encoded data removed]",
      "text/plain": [
       "<Figure size 1000x600 with 1 Axes>"
      ]
     },
     "metadata": {},
     "output_type": "display_data"
    }
   ],
   "source": [
    "# For RandomForest or DecisionTree models, we can check feature importance\n",
    "if isinstance(best_model, RandomForestClassifier) or isinstance(best_model, DecisionTreeClassifier):\n",
    "    feature_importance = best_model.feature_importances_\n",
    "    feature_names = X.columns\n",
    "    importance_df = pd.DataFrame({'Feature': feature_names, 'Importance': feature_importance})\n",
    "    importance_df = importance_df.sort_values(by='Importance', ascending=False)\n",
    "    \n",
    "    # Plotting the feature importances\n",
    "    plt.figure(figsize=(10, 6))\n",
    "    sns.barplot(x='Importance', y='Feature', data=importance_df)\n",
    "    plt.title(\"Feature Importance\")\n",
    "    plt.show()\n"
   ]
  },
  {
   "cell_type": "code",
   "execution_count": null,
   "id": "5314d890",
   "metadata": {
    "papermill": {
     "duration": 0.01123,
     "end_time": "2025-05-24T01:01:56.174965",
     "exception": false,
     "start_time": "2025-05-24T01:01:56.163735",
     "status": "completed"
    },
    "tags": []
   },
   "outputs": [],
   "source": []
  },
  {
   "cell_type": "markdown",
   "id": "a012c5e5",
   "metadata": {
    "papermill": {
     "duration": 0.010962,
     "end_time": "2025-05-24T01:01:56.197263",
     "exception": false,
     "start_time": "2025-05-24T01:01:56.186301",
     "status": "completed"
    },
    "tags": []
   },
   "source": [
    "### Evaluation\n",
    "\n",
    "After training the models and examining their performance, we evaluate the chosen model based on metrics like accuracy, precision, recall, and F1 score.\n",
    "\n"
   ]
  },
  {
   "cell_type": "code",
   "execution_count": 24,
   "id": "aa0c0a98",
   "metadata": {
    "execution": {
     "iopub.execute_input": "2025-05-24T01:01:56.220532Z",
     "iopub.status.busy": "2025-05-24T01:01:56.220101Z",
     "iopub.status.idle": "2025-05-24T01:01:56.309475Z",
     "shell.execute_reply": "2025-05-24T01:01:56.308830Z"
    },
    "papermill": {
     "duration": 0.102265,
     "end_time": "2025-05-24T01:01:56.310553",
     "exception": false,
     "start_time": "2025-05-24T01:01:56.208288",
     "status": "completed"
    },
    "tags": []
   },
   "outputs": [
    {
     "name": "stdout",
     "output_type": "stream",
     "text": [
      "Accuracy: 0.2824\n",
      "Classification Report:\n",
      "              precision    recall  f1-score   support\n",
      "\n",
      "           0       0.26      0.36      0.30       557\n",
      "           1       0.29      0.23      0.26       421\n",
      "           2       0.31      0.45      0.37       662\n",
      "           3       0.23      0.19      0.21       476\n",
      "           4       0.37      0.24      0.29       355\n",
      "           5       0.27      0.22      0.25       530\n",
      "           6       0.25      0.20      0.22       487\n",
      "\n",
      "    accuracy                           0.28      3488\n",
      "   macro avg       0.28      0.27      0.27      3488\n",
      "weighted avg       0.28      0.28      0.28      3488\n",
      "\n",
      "Confusion Matrix:\n",
      "[[199  55 131  52  23  66  31]\n",
      " [113  97  94  33  20  33  31]\n",
      " [102  40 296  75  21  75  53]\n",
      " [ 82  29 121  92  27  50  75]\n",
      " [ 47  33  57  37  84  34  63]\n",
      " [126  45 113  63  22 119  42]\n",
      " [ 83  33 129  49  31  64  98]]\n",
      "Precision: 0.2818\n",
      "Recall: 0.2824\n",
      "F1 Score: 0.2760\n"
     ]
    }
   ],
   "source": [
    "from sklearn.metrics import classification_report, confusion_matrix, accuracy_score, precision_score, recall_score, f1_score\n",
    "\n",
    "# Predict on the test set\n",
    "y_pred = best_model.predict(X_test)\n",
    "\n",
    "# Calculate Accuracy\n",
    "accuracy = accuracy_score(y_test, y_pred)\n",
    "print(f\"Accuracy: {accuracy:.4f}\")\n",
    "\n",
    "# Classification Report\n",
    "print(\"Classification Report:\")\n",
    "print(classification_report(y_test, y_pred))\n",
    "\n",
    "# Confusion Matrix\n",
    "conf_matrix = confusion_matrix(y_test, y_pred)\n",
    "print(\"Confusion Matrix:\")\n",
    "print(conf_matrix)\n",
    "\n",
    "# Precision, Recall, F1 Score for each class (Offense Type)\n",
    "precision = precision_score(y_test, y_pred, average='weighted')\n",
    "recall = recall_score(y_test, y_pred, average='weighted')\n",
    "f1 = f1_score(y_test, y_pred, average='weighted')\n",
    "\n",
    "print(f\"Precision: {precision:.4f}\")\n",
    "print(f\"Recall: {recall:.4f}\")\n",
    "print(f\"F1 Score: {f1:.4f}\")\n"
   ]
  },
  {
   "cell_type": "markdown",
   "id": "85c21956",
   "metadata": {
    "papermill": {
     "duration": 0.011033,
     "end_time": "2025-05-24T01:01:56.333151",
     "exception": false,
     "start_time": "2025-05-24T01:01:56.322118",
     "status": "completed"
    },
    "tags": []
   },
   "source": [
    "#### For Logistic Regression (Coefficient Interpretation)\n",
    "\n",
    "For Logistic Regression, the model coefficients can help us understand how each feature affects the likelihood of an offense happening. A positive coefficient indicates a feature increases the likelihood of the offense, and a negative coefficient indicates the opposite."
   ]
  },
  {
   "cell_type": "code",
   "execution_count": 25,
   "id": "d0e6658e",
   "metadata": {
    "execution": {
     "iopub.execute_input": "2025-05-24T01:01:56.356378Z",
     "iopub.status.busy": "2025-05-24T01:01:56.355956Z",
     "iopub.status.idle": "2025-05-24T01:01:56.360534Z",
     "shell.execute_reply": "2025-05-24T01:01:56.360007Z"
    },
    "papermill": {
     "duration": 0.017346,
     "end_time": "2025-05-24T01:01:56.361507",
     "exception": false,
     "start_time": "2025-05-24T01:01:56.344161",
     "status": "completed"
    },
    "tags": []
   },
   "outputs": [],
   "source": [
    "if isinstance(best_model, LogisticRegression):\n",
    "    # Logistic regression coefficients\n",
    "    coef_df = pd.DataFrame({\n",
    "        'Feature': X.columns,\n",
    "        'Coefficient': best_model.coef_[0]\n",
    "    })\n",
    "    coef_df['AbsCoefficient'] = coef_df['Coefficient'].abs()\n",
    "    coef_df = coef_df.sort_values(by='AbsCoefficient', ascending=False)\n",
    "    \n",
    "    # Plotting the coefficients\n",
    "    plt.figure(figsize=(10, 6))\n",
    "    sns.barplot(x='AbsCoefficient', y='Feature', data=coef_df)\n",
    "    plt.title(\"Logistic Regression Coefficients Impact\")\n",
    "    plt.show()\n",
    "\n",
    "    # Print the top 5 most impactful features (by absolute coefficient value)\n",
    "    print(\"Top 5 most impactful features based on coefficients:\")\n",
    "    print(coef_df.head())\n"
   ]
  },
  {
   "cell_type": "markdown",
   "id": "70f07b56",
   "metadata": {
    "papermill": {
     "duration": 0.011062,
     "end_time": "2025-05-24T01:01:56.383595",
     "exception": false,
     "start_time": "2025-05-24T01:01:56.372533",
     "status": "completed"
    },
    "tags": []
   },
   "source": [
    "Explanation of Output:\n",
    "\n",
    "Feature Importance (Random Forest/Decision Tree): The bar plot will show how important each feature is in the decision-making process. Features at the top of the list are the most influential in predicting the occurrence of offenses.\n",
    "\n",
    "Logistic Regression Coefficients: The bar plot will show the magnitude of the coefficients for each feature. Features with larger absolute values (either positive or negative) have a stronger impact on the model’s predictions. Positive coefficients increase the probability of an offense, while negative coefficients decrease it."
   ]
  },
  {
   "cell_type": "markdown",
   "id": "14f6aaf1",
   "metadata": {
    "papermill": {
     "duration": 0.011003,
     "end_time": "2025-05-24T01:01:56.405586",
     "exception": false,
     "start_time": "2025-05-24T01:01:56.394583",
     "status": "completed"
    },
    "tags": []
   },
   "source": []
  }
 ],
 "metadata": {
  "kernelspec": {
   "display_name": "Python 3",
   "language": "python",
   "name": "python3"
  },
  "language_info": {
   "codemirror_mode": {
    "name": "ipython",
    "version": 3
   },
   "file_extension": ".py",
   "mimetype": "text/x-python",
   "name": "python",
   "nbconvert_exporter": "python",
   "pygments_lexer": "ipython3",
   "version": "3.9.22"
  },
  "papermill": {
   "default_parameters": {},
   "duration": 82.956532,
   "end_time": "2025-05-24T01:01:56.832782",
   "environment_variables": {},
   "exception": null,
   "input_path": "notebook/Crime Data.ipynb",
   "output_path": "notebook/Crime Data_output.ipynb",
   "parameters": {},
   "start_time": "2025-05-24T01:00:33.876250",
   "version": "2.6.0"
  }
 },
 "nbformat": 4,
 "nbformat_minor": 5
}