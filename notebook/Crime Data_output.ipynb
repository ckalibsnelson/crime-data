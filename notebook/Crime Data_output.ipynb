{
 "cells": [
  {
   "cell_type": "markdown",
   "id": "a730b319",
   "metadata": {
    "papermill": {
     "duration": 0.004438,
     "end_time": "2025-07-08T01:05:54.914407",
     "exception": false,
     "start_time": "2025-07-08T01:05:54.909969",
     "status": "completed"
    },
    "tags": []
   },
   "source": [
    "# Charlottesville Open Data Porttal: Crime Data"
   ]
  },
  {
   "cell_type": "markdown",
   "id": "45d82227",
   "metadata": {
    "papermill": {
     "duration": 0.003204,
     "end_time": "2025-07-08T01:05:54.921313",
     "exception": false,
     "start_time": "2025-07-08T01:05:54.918109",
     "status": "completed"
    },
    "tags": []
   },
   "source": [
    "## Import Relevant Librarires & Set WD"
   ]
  },
  {
   "cell_type": "code",
   "execution_count": 1,
   "id": "aaef0628",
   "metadata": {
    "execution": {
     "iopub.execute_input": "2025-07-08T01:05:54.929360Z",
     "iopub.status.busy": "2025-07-08T01:05:54.928861Z",
     "iopub.status.idle": "2025-07-08T01:05:55.822477Z",
     "shell.execute_reply": "2025-07-08T01:05:55.821897Z"
    },
    "papermill": {
     "duration": 0.899303,
     "end_time": "2025-07-08T01:05:55.823865",
     "exception": false,
     "start_time": "2025-07-08T01:05:54.924562",
     "status": "completed"
    },
    "tags": []
   },
   "outputs": [],
   "source": [
    "import requests\n",
    "import pandas as pd\n",
    "import numpy as np\n",
    "import pickle\n",
    "import googlemaps\n",
    "import plotly.express as px\n",
    "from geopy.geocoders import Nominatim\n",
    "import time\n",
    "from dotenv import load_dotenv\n",
    "import os\n",
    "\n",
    "env_path = os.path.join(\"..\", \".env\")\n",
    "#print(\"Looking for .env file at:\", os.path.abspath(env_path))\n",
    "load_dotenv(dotenv_path=env_path)\n",
    "\n",
    "# Retrieve the variables\n",
    "GOOGLE_API_KEY = os.getenv(\"GOOGLE_API_KEY\")\n",
    "WORKING_DIR = os.getenv(\"WORKING_DIR\")\n",
    "\n",
    "if GOOGLE_API_KEY is None or WORKING_DIR is None:\n",
    "    raise RuntimeError(\"No configuration found. Please ensure that your .env file exists with the required variables, or create a local config.py file.\")\n",
    "\n",
    "#print(\"Google API Key:\", GOOGLE_API_KEY)\n",
    "#print(\"Working Directory:\", WORKING_DIR)"
   ]
  },
  {
   "cell_type": "markdown",
   "id": "aef9113e",
   "metadata": {
    "papermill": {
     "duration": 0.004701,
     "end_time": "2025-07-08T01:05:55.860571",
     "exception": false,
     "start_time": "2025-07-08T01:05:55.855870",
     "status": "completed"
    },
    "tags": []
   },
   "source": [
    "## Import Data\n",
    "\n",
    "URL: https://opendata.charlottesville.org/datasets/charlottesville::crime-data/about"
   ]
  },
  {
   "cell_type": "code",
   "execution_count": 2,
   "id": "4592cc7f",
   "metadata": {
    "execution": {
     "iopub.execute_input": "2025-07-08T01:05:55.912007Z",
     "iopub.status.busy": "2025-07-08T01:05:55.911250Z",
     "iopub.status.idle": "2025-07-08T01:07:02.602281Z",
     "shell.execute_reply": "2025-07-08T01:07:02.601577Z"
    },
    "papermill": {
     "duration": 66.701845,
     "end_time": "2025-07-08T01:07:02.606674",
     "exception": false,
     "start_time": "2025-07-08T01:05:55.904829",
     "status": "completed"
    },
    "tags": []
   },
   "outputs": [
    {
     "name": "stdout",
     "output_type": "stream",
     "text": [
      "Total records imported: 25533\n"
     ]
    }
   ],
   "source": [
    "# Define the endpoint and initial parameters.\n",
    "url = \"https://gisweb.charlottesville.org/arcgis/rest/services/OpenData_2/MapServer/6/query\"\n",
    "params = {\n",
    "    \"where\": \"1=1\",\n",
    "    \"outFields\": \"*\",\n",
    "    \"outSR\": 4326,\n",
    "    \"f\": \"json\",\n",
    "    \"resultOffset\": 0,       # Starting index for results\n",
    "    \"resultRecordCount\": 10000  # Maximum records per batch (if allowed by the API)\n",
    "}\n",
    "\n",
    "records = []\n",
    "\n",
    "while True:\n",
    "    response = requests.get(url, params=params)\n",
    "    response.raise_for_status()\n",
    "    data = response.json()\n",
    "    \n",
    "    # Get the current batch of features.\n",
    "    features = data.get(\"features\", [])\n",
    "    if not features:\n",
    "        break\n",
    "\n",
    "    # Extract the attributes from the features.\n",
    "    batch_records = [feature.get(\"attributes\", {}) for feature in features]\n",
    "    records.extend(batch_records)\n",
    "    \n",
    "    # If the batch size is less than the requested count, we reached the end.\n",
    "    if len(features) < params[\"resultRecordCount\"]:\n",
    "        break\n",
    "\n",
    "    # Update the resultOffset for the next batch.\n",
    "    params[\"resultOffset\"] += params[\"resultRecordCount\"]\n",
    "\n",
    "# Create a DataFrame from the combined records.\n",
    "df = pd.DataFrame(records)\n",
    "print(\"Total records imported:\", len(df))\n"
   ]
  },
  {
   "cell_type": "code",
   "execution_count": 3,
   "id": "fb942f3b",
   "metadata": {
    "execution": {
     "iopub.execute_input": "2025-07-08T01:07:02.614454Z",
     "iopub.status.busy": "2025-07-08T01:07:02.614245Z",
     "iopub.status.idle": "2025-07-08T01:07:02.626447Z",
     "shell.execute_reply": "2025-07-08T01:07:02.625801Z"
    },
    "papermill": {
     "duration": 0.017306,
     "end_time": "2025-07-08T01:07:02.627517",
     "exception": false,
     "start_time": "2025-07-08T01:07:02.610211",
     "status": "completed"
    },
    "tags": []
   },
   "outputs": [
    {
     "data": {
      "text/html": [
       "<div>\n",
       "<style scoped>\n",
       "    .dataframe tbody tr th:only-of-type {\n",
       "        vertical-align: middle;\n",
       "    }\n",
       "\n",
       "    .dataframe tbody tr th {\n",
       "        vertical-align: top;\n",
       "    }\n",
       "\n",
       "    .dataframe thead th {\n",
       "        text-align: right;\n",
       "    }\n",
       "</style>\n",
       "<table border=\"1\" class=\"dataframe\">\n",
       "  <thead>\n",
       "    <tr style=\"text-align: right;\">\n",
       "      <th></th>\n",
       "      <th>RecordID</th>\n",
       "      <th>Offense</th>\n",
       "      <th>IncidentID</th>\n",
       "      <th>BlockNumber</th>\n",
       "      <th>StreetName</th>\n",
       "      <th>Agency</th>\n",
       "      <th>DateReported</th>\n",
       "      <th>HourReported</th>\n",
       "      <th>ReportingOfficer</th>\n",
       "    </tr>\n",
       "  </thead>\n",
       "  <tbody>\n",
       "    <tr>\n",
       "      <th>0</th>\n",
       "      <td>1</td>\n",
       "      <td>Drug Equipment Violation</td>\n",
       "      <td>202500023266</td>\n",
       "      <td>1300</td>\n",
       "      <td>CARLTON AVE</td>\n",
       "      <td>CPD</td>\n",
       "      <td>1751738016000</td>\n",
       "      <td>1353</td>\n",
       "      <td>O'Briant, Landon</td>\n",
       "    </tr>\n",
       "    <tr>\n",
       "      <th>1</th>\n",
       "      <td>2</td>\n",
       "      <td>Assault Intimidation</td>\n",
       "      <td>202500023265</td>\n",
       "      <td>600</td>\n",
       "      <td>MASON ST, A1</td>\n",
       "      <td>CPD</td>\n",
       "      <td>1751736593000</td>\n",
       "      <td>1329</td>\n",
       "      <td>Eckenroth, Rachel</td>\n",
       "    </tr>\n",
       "    <tr>\n",
       "      <th>2</th>\n",
       "      <td>3</td>\n",
       "      <td>Assist Citizen - Mental/TDO/ECO</td>\n",
       "      <td>202500023251</td>\n",
       "      <td>2000</td>\n",
       "      <td>MEADOWBROOK RD</td>\n",
       "      <td>CPD</td>\n",
       "      <td>1751725502000</td>\n",
       "      <td>1025</td>\n",
       "      <td>Schwartz, Honora</td>\n",
       "    </tr>\n",
       "    <tr>\n",
       "      <th>3</th>\n",
       "      <td>4</td>\n",
       "      <td>Hit and Run</td>\n",
       "      <td>202500023237</td>\n",
       "      <td></td>\n",
       "      <td>RAMP @ EMMET ST</td>\n",
       "      <td>CPD</td>\n",
       "      <td>1751717774000</td>\n",
       "      <td>0816</td>\n",
       "      <td>Prevost, Payten</td>\n",
       "    </tr>\n",
       "    <tr>\n",
       "      <th>4</th>\n",
       "      <td>5</td>\n",
       "      <td>Assault Aggravated</td>\n",
       "      <td>202500023203</td>\n",
       "      <td>700</td>\n",
       "      <td>ORANGEDALE AVE</td>\n",
       "      <td>CPD</td>\n",
       "      <td>1751685801000</td>\n",
       "      <td>2323</td>\n",
       "      <td>Troche, Nicholas</td>\n",
       "    </tr>\n",
       "  </tbody>\n",
       "</table>\n",
       "</div>"
      ],
      "text/plain": [
       "   RecordID                          Offense    IncidentID BlockNumber  \\\n",
       "0         1         Drug Equipment Violation  202500023266        1300   \n",
       "1         2             Assault Intimidation  202500023265         600   \n",
       "2         3  Assist Citizen - Mental/TDO/ECO  202500023251        2000   \n",
       "3         4                      Hit and Run  202500023237               \n",
       "4         5               Assault Aggravated  202500023203         700   \n",
       "\n",
       "        StreetName Agency   DateReported HourReported   ReportingOfficer  \n",
       "0      CARLTON AVE    CPD  1751738016000         1353   O'Briant, Landon  \n",
       "1     MASON ST, A1    CPD  1751736593000         1329  Eckenroth, Rachel  \n",
       "2   MEADOWBROOK RD    CPD  1751725502000         1025   Schwartz, Honora  \n",
       "3  RAMP @ EMMET ST    CPD  1751717774000         0816    Prevost, Payten  \n",
       "4   ORANGEDALE AVE    CPD  1751685801000         2323   Troche, Nicholas  "
      ]
     },
     "execution_count": 3,
     "metadata": {},
     "output_type": "execute_result"
    }
   ],
   "source": [
    "df.head()"
   ]
  },
  {
   "cell_type": "code",
   "execution_count": 4,
   "id": "c6305ee1",
   "metadata": {
    "execution": {
     "iopub.execute_input": "2025-07-08T01:07:02.635675Z",
     "iopub.status.busy": "2025-07-08T01:07:02.635278Z",
     "iopub.status.idle": "2025-07-08T01:07:02.639500Z",
     "shell.execute_reply": "2025-07-08T01:07:02.638992Z"
    },
    "papermill": {
     "duration": 0.009309,
     "end_time": "2025-07-08T01:07:02.640528",
     "exception": false,
     "start_time": "2025-07-08T01:07:02.631219",
     "status": "completed"
    },
    "tags": []
   },
   "outputs": [
    {
     "data": {
      "text/plain": [
       "Index(['RecordID', 'Offense', 'IncidentID', 'BlockNumber', 'StreetName',\n",
       "       'Agency', 'DateReported', 'HourReported', 'ReportingOfficer'],\n",
       "      dtype='object')"
      ]
     },
     "execution_count": 4,
     "metadata": {},
     "output_type": "execute_result"
    }
   ],
   "source": [
    "df.columns"
   ]
  },
  {
   "cell_type": "code",
   "execution_count": 5,
   "id": "f9bd5275",
   "metadata": {
    "execution": {
     "iopub.execute_input": "2025-07-08T01:07:02.649322Z",
     "iopub.status.busy": "2025-07-08T01:07:02.648952Z",
     "iopub.status.idle": "2025-07-08T01:07:02.670458Z",
     "shell.execute_reply": "2025-07-08T01:07:02.669782Z"
    },
    "papermill": {
     "duration": 0.027289,
     "end_time": "2025-07-08T01:07:02.671523",
     "exception": false,
     "start_time": "2025-07-08T01:07:02.644234",
     "status": "completed"
    },
    "tags": []
   },
   "outputs": [
    {
     "name": "stdout",
     "output_type": "stream",
     "text": [
      "<class 'pandas.core.frame.DataFrame'>\n",
      "RangeIndex: 25533 entries, 0 to 25532\n",
      "Data columns (total 9 columns):\n",
      " #   Column            Non-Null Count  Dtype \n",
      "---  ------            --------------  ----- \n",
      " 0   RecordID          25533 non-null  int64 \n",
      " 1   Offense           25533 non-null  object\n",
      " 2   IncidentID        25533 non-null  object\n",
      " 3   BlockNumber       25533 non-null  object\n",
      " 4   StreetName        25533 non-null  object\n",
      " 5   Agency            25533 non-null  object\n",
      " 6   DateReported      25533 non-null  int64 \n",
      " 7   HourReported      25533 non-null  object\n",
      " 8   ReportingOfficer  25516 non-null  object\n",
      "dtypes: int64(2), object(7)\n",
      "memory usage: 1.8+ MB\n"
     ]
    }
   ],
   "source": [
    "df.info()"
   ]
  },
  {
   "cell_type": "markdown",
   "id": "95dd289e",
   "metadata": {
    "papermill": {
     "duration": 0.003671,
     "end_time": "2025-07-08T01:07:02.679098",
     "exception": false,
     "start_time": "2025-07-08T01:07:02.675427",
     "status": "completed"
    },
    "tags": []
   },
   "source": [
    "### Missing Values"
   ]
  },
  {
   "cell_type": "code",
   "execution_count": 6,
   "id": "b2e3005e",
   "metadata": {
    "execution": {
     "iopub.execute_input": "2025-07-08T01:07:02.708955Z",
     "iopub.status.busy": "2025-07-08T01:07:02.708331Z",
     "iopub.status.idle": "2025-07-08T01:07:02.730951Z",
     "shell.execute_reply": "2025-07-08T01:07:02.730364Z"
    },
    "papermill": {
     "duration": 0.028209,
     "end_time": "2025-07-08T01:07:02.731957",
     "exception": false,
     "start_time": "2025-07-08T01:07:02.703748",
     "status": "completed"
    },
    "tags": []
   },
   "outputs": [
    {
     "name": "stdout",
     "output_type": "stream",
     "text": [
      "                  MissingCount  MissingPercentage\n",
      "RecordID                     0               0.00\n",
      "Offense                      0               0.00\n",
      "IncidentID                   0               0.00\n",
      "BlockNumber                  0               0.00\n",
      "StreetName                   0               0.00\n",
      "Agency                       0               0.00\n",
      "DateReported                 0               0.00\n",
      "HourReported                 0               0.00\n",
      "ReportingOfficer            17               0.07\n"
     ]
    }
   ],
   "source": [
    "def missing_percentage(df):\n",
    "    \"\"\"\n",
    "    Returns a DataFrame with the count and percentage of missing values for each column.\n",
    "    \n",
    "    Parameters:\n",
    "        df (pd.DataFrame): The input DataFrame.\n",
    "    \n",
    "    Returns:\n",
    "        pd.DataFrame: A DataFrame with columns 'MissingCount' and 'MissingPercentage'.\n",
    "    \"\"\"\n",
    "    total_rows = len(df)\n",
    "    missing_count = df.isnull().sum()\n",
    "    missing_percent = (missing_count / total_rows) * 100\n",
    "    \n",
    "    result = pd.DataFrame({\n",
    "        'MissingCount': missing_count,\n",
    "        'MissingPercentage': missing_percent.round(2)\n",
    "    })\n",
    "    \n",
    "    return result\n",
    "\n",
    "# Example usage:\n",
    "missing_info = missing_percentage(df)\n",
    "print(missing_info)\n"
   ]
  },
  {
   "cell_type": "markdown",
   "id": "e0a10965",
   "metadata": {
    "papermill": {
     "duration": 0.003893,
     "end_time": "2025-07-08T01:07:02.739940",
     "exception": false,
     "start_time": "2025-07-08T01:07:02.736047",
     "status": "completed"
    },
    "tags": []
   },
   "source": [
    "## Data Preparation"
   ]
  },
  {
   "cell_type": "markdown",
   "id": "8d1f47de",
   "metadata": {
    "papermill": {
     "duration": 0.003667,
     "end_time": "2025-07-08T01:07:02.747341",
     "exception": false,
     "start_time": "2025-07-08T01:07:02.743674",
     "status": "completed"
    },
    "tags": []
   },
   "source": [
    "### Data Conversion"
   ]
  },
  {
   "cell_type": "code",
   "execution_count": 7,
   "id": "4182ee90",
   "metadata": {
    "execution": {
     "iopub.execute_input": "2025-07-08T01:07:02.756016Z",
     "iopub.status.busy": "2025-07-08T01:07:02.755529Z",
     "iopub.status.idle": "2025-07-08T01:07:03.107932Z",
     "shell.execute_reply": "2025-07-08T01:07:03.107321Z"
    },
    "papermill": {
     "duration": 0.357871,
     "end_time": "2025-07-08T01:07:03.109032",
     "exception": false,
     "start_time": "2025-07-08T01:07:02.751161",
     "status": "completed"
    },
    "tags": []
   },
   "outputs": [
    {
     "data": {
      "text/html": [
       "<div>\n",
       "<style scoped>\n",
       "    .dataframe tbody tr th:only-of-type {\n",
       "        vertical-align: middle;\n",
       "    }\n",
       "\n",
       "    .dataframe tbody tr th {\n",
       "        vertical-align: top;\n",
       "    }\n",
       "\n",
       "    .dataframe thead th {\n",
       "        text-align: right;\n",
       "    }\n",
       "</style>\n",
       "<table border=\"1\" class=\"dataframe\">\n",
       "  <thead>\n",
       "    <tr style=\"text-align: right;\">\n",
       "      <th></th>\n",
       "      <th>RecordID</th>\n",
       "      <th>Offense</th>\n",
       "      <th>IncidentID</th>\n",
       "      <th>BlockNumber</th>\n",
       "      <th>StreetName</th>\n",
       "      <th>Agency</th>\n",
       "      <th>HourReported</th>\n",
       "      <th>ReportingOfficer</th>\n",
       "      <th>Date</th>\n",
       "      <th>DateString</th>\n",
       "      <th>DayOfWeek</th>\n",
       "      <th>Weekend</th>\n",
       "      <th>Season</th>\n",
       "      <th>HourAMPM</th>\n",
       "      <th>TimeOfDay</th>\n",
       "    </tr>\n",
       "  </thead>\n",
       "  <tbody>\n",
       "    <tr>\n",
       "      <th>0</th>\n",
       "      <td>1</td>\n",
       "      <td>Drug Equipment Violation</td>\n",
       "      <td>202500023266</td>\n",
       "      <td>1300</td>\n",
       "      <td>CARLTON AVE</td>\n",
       "      <td>CPD</td>\n",
       "      <td>1353</td>\n",
       "      <td>O'Briant, Landon</td>\n",
       "      <td>2025-07-05 13:53:36</td>\n",
       "      <td>2025-07-05 01:53:36 PM</td>\n",
       "      <td>Saturday</td>\n",
       "      <td>True</td>\n",
       "      <td>Summer</td>\n",
       "      <td>01:53 PM</td>\n",
       "      <td>Afternoon</td>\n",
       "    </tr>\n",
       "    <tr>\n",
       "      <th>1</th>\n",
       "      <td>2</td>\n",
       "      <td>Assault Intimidation</td>\n",
       "      <td>202500023265</td>\n",
       "      <td>600</td>\n",
       "      <td>MASON ST, A1</td>\n",
       "      <td>CPD</td>\n",
       "      <td>1329</td>\n",
       "      <td>Eckenroth, Rachel</td>\n",
       "      <td>2025-07-05 13:29:53</td>\n",
       "      <td>2025-07-05 01:29:53 PM</td>\n",
       "      <td>Saturday</td>\n",
       "      <td>True</td>\n",
       "      <td>Summer</td>\n",
       "      <td>01:29 PM</td>\n",
       "      <td>Afternoon</td>\n",
       "    </tr>\n",
       "    <tr>\n",
       "      <th>2</th>\n",
       "      <td>3</td>\n",
       "      <td>Assist Citizen - Mental/TDO/ECO</td>\n",
       "      <td>202500023251</td>\n",
       "      <td>2000</td>\n",
       "      <td>MEADOWBROOK RD</td>\n",
       "      <td>CPD</td>\n",
       "      <td>1025</td>\n",
       "      <td>Schwartz, Honora</td>\n",
       "      <td>2025-07-05 10:25:02</td>\n",
       "      <td>2025-07-05 10:25:02 AM</td>\n",
       "      <td>Saturday</td>\n",
       "      <td>True</td>\n",
       "      <td>Summer</td>\n",
       "      <td>10:25 AM</td>\n",
       "      <td>Morning</td>\n",
       "    </tr>\n",
       "    <tr>\n",
       "      <th>3</th>\n",
       "      <td>4</td>\n",
       "      <td>Hit and Run</td>\n",
       "      <td>202500023237</td>\n",
       "      <td></td>\n",
       "      <td>RAMP @ EMMET ST</td>\n",
       "      <td>CPD</td>\n",
       "      <td>0816</td>\n",
       "      <td>Prevost, Payten</td>\n",
       "      <td>2025-07-05 08:16:14</td>\n",
       "      <td>2025-07-05 08:16:14 AM</td>\n",
       "      <td>Saturday</td>\n",
       "      <td>True</td>\n",
       "      <td>Summer</td>\n",
       "      <td>08:16 AM</td>\n",
       "      <td>Morning</td>\n",
       "    </tr>\n",
       "    <tr>\n",
       "      <th>4</th>\n",
       "      <td>5</td>\n",
       "      <td>Assault Aggravated</td>\n",
       "      <td>202500023203</td>\n",
       "      <td>700</td>\n",
       "      <td>ORANGEDALE AVE</td>\n",
       "      <td>CPD</td>\n",
       "      <td>2323</td>\n",
       "      <td>Troche, Nicholas</td>\n",
       "      <td>2025-07-04 23:23:21</td>\n",
       "      <td>2025-07-04 11:23:21 PM</td>\n",
       "      <td>Friday</td>\n",
       "      <td>False</td>\n",
       "      <td>Summer</td>\n",
       "      <td>11:23 PM</td>\n",
       "      <td>Night</td>\n",
       "    </tr>\n",
       "  </tbody>\n",
       "</table>\n",
       "</div>"
      ],
      "text/plain": [
       "   RecordID                          Offense    IncidentID BlockNumber  \\\n",
       "0         1         Drug Equipment Violation  202500023266        1300   \n",
       "1         2             Assault Intimidation  202500023265         600   \n",
       "2         3  Assist Citizen - Mental/TDO/ECO  202500023251        2000   \n",
       "3         4                      Hit and Run  202500023237               \n",
       "4         5               Assault Aggravated  202500023203         700   \n",
       "\n",
       "        StreetName Agency HourReported   ReportingOfficer                Date  \\\n",
       "0      CARLTON AVE    CPD         1353   O'Briant, Landon 2025-07-05 13:53:36   \n",
       "1     MASON ST, A1    CPD         1329  Eckenroth, Rachel 2025-07-05 13:29:53   \n",
       "2   MEADOWBROOK RD    CPD         1025   Schwartz, Honora 2025-07-05 10:25:02   \n",
       "3  RAMP @ EMMET ST    CPD         0816    Prevost, Payten 2025-07-05 08:16:14   \n",
       "4   ORANGEDALE AVE    CPD         2323   Troche, Nicholas 2025-07-04 23:23:21   \n",
       "\n",
       "               DateString DayOfWeek  Weekend  Season  HourAMPM  TimeOfDay  \n",
       "0  2025-07-05 01:53:36 PM  Saturday     True  Summer  01:53 PM  Afternoon  \n",
       "1  2025-07-05 01:29:53 PM  Saturday     True  Summer  01:29 PM  Afternoon  \n",
       "2  2025-07-05 10:25:02 AM  Saturday     True  Summer  10:25 AM    Morning  \n",
       "3  2025-07-05 08:16:14 AM  Saturday     True  Summer  08:16 AM    Morning  \n",
       "4  2025-07-04 11:23:21 PM    Friday    False  Summer  11:23 PM      Night  "
      ]
     },
     "execution_count": 7,
     "metadata": {},
     "output_type": "execute_result"
    }
   ],
   "source": [
    "def convert_and_categorize_datereported(df, col='DateReported'):\n",
    "    \"\"\"\n",
    "    Converts an epoch (in milliseconds) date column into a timezone-aware datetime,\n",
    "    converts it to Eastern Time, and then creates columns for day-of-week, weekend flag,\n",
    "    season, 12-hour formatted time, and time-of-day. Keeps both a real datetime column\n",
    "    (Date) and a string representation (DateString).\n",
    "    \"\"\"\n",
    "    import pandas as pd\n",
    "\n",
    "    # Convert the epoch timestamp to a pandas datetime object as UTC, then convert to US/Eastern.\n",
    "    df[\"DateReported_dt\"] = (\n",
    "        pd.to_datetime(df[col], unit=\"ms\", errors=\"coerce\", utc=True)\n",
    "        .dt.tz_convert(\"US/Eastern\")\n",
    "    )\n",
    "    \n",
    "    # Create a true datetime column (remove timezone if you prefer naive datetime)\n",
    "    df[\"Date\"] = df[\"DateReported_dt\"].dt.tz_localize(None)\n",
    "\n",
    "    # Optionally, create a separate string-formatted column\n",
    "    df[\"DateString\"] = df[\"DateReported_dt\"].dt.strftime(\"%Y-%m-%d %I:%M:%S %p\")\n",
    "    \n",
    "    # DayOfWeek\n",
    "    df[\"DayOfWeek\"] = df[\"DateReported_dt\"].dt.day_name()\n",
    "    \n",
    "    # Weekend\n",
    "    df[\"Weekend\"] = df[\"DayOfWeek\"].isin([\"Saturday\", \"Sunday\"])\n",
    "    \n",
    "    # Helper function to determine the season\n",
    "    def get_season(dt):\n",
    "        month = dt.month\n",
    "        day = dt.day\n",
    "        # Approximate Northern Hemisphere season boundaries:\n",
    "        if (month == 12 and day >= 21) or (month < 3) or (month == 3 and day < 20):\n",
    "            return \"Winter\"\n",
    "        elif (month == 3 and day >= 20) or (month < 6) or (month == 6 and day < 21):\n",
    "            return \"Spring\"\n",
    "        elif (month == 6 and day >= 21) or (month < 9) or (month == 9 and day < 22):\n",
    "            return \"Summer\"\n",
    "        else:\n",
    "            return \"Autumn\"\n",
    "    \n",
    "    df[\"Season\"] = df[\"DateReported_dt\"].apply(get_season)\n",
    "    \n",
    "    # 12-hour formatted time (HourAMPM)\n",
    "    df[\"HourAMPM\"] = df[\"DateReported_dt\"].dt.strftime(\"%I:%M %p\")\n",
    "    \n",
    "    # Extract hour (0-23) for time-of-day\n",
    "    df[\"HourValue\"] = df[\"DateReported_dt\"].dt.hour\n",
    "    \n",
    "    def time_of_day(hour):\n",
    "        if pd.isnull(hour):\n",
    "            return None\n",
    "        if 5 <= hour < 12:\n",
    "            return \"Morning\"\n",
    "        elif 12 <= hour < 17:\n",
    "            return \"Afternoon\"\n",
    "        elif 17 <= hour < 21:\n",
    "            return \"Evening\"\n",
    "        else:\n",
    "            return \"Night\"\n",
    "    \n",
    "    df[\"TimeOfDay\"] = df[\"HourValue\"].apply(time_of_day)\n",
    "    \n",
    "    # Drop columns you no longer need\n",
    "    df.drop(columns=[col, \"DateReported_dt\", \"HourValue\"], inplace=True)\n",
    "    \n",
    "    return df\n",
    "\n",
    "# Example usage:\n",
    "df = convert_and_categorize_datereported(df)\n",
    "df.head()\n"
   ]
  },
  {
   "cell_type": "code",
   "execution_count": 8,
   "id": "c7ab2edb",
   "metadata": {
    "execution": {
     "iopub.execute_input": "2025-07-08T01:07:03.118835Z",
     "iopub.status.busy": "2025-07-08T01:07:03.118350Z",
     "iopub.status.idle": "2025-07-08T01:07:03.145206Z",
     "shell.execute_reply": "2025-07-08T01:07:03.144669Z"
    },
    "papermill": {
     "duration": 0.032838,
     "end_time": "2025-07-08T01:07:03.146257",
     "exception": false,
     "start_time": "2025-07-08T01:07:03.113419",
     "status": "completed"
    },
    "tags": []
   },
   "outputs": [
    {
     "name": "stdout",
     "output_type": "stream",
     "text": [
      "<class 'pandas.core.frame.DataFrame'>\n",
      "RangeIndex: 25533 entries, 0 to 25532\n",
      "Data columns (total 15 columns):\n",
      " #   Column            Non-Null Count  Dtype         \n",
      "---  ------            --------------  -----         \n",
      " 0   RecordID          25533 non-null  int64         \n",
      " 1   Offense           25533 non-null  object        \n",
      " 2   IncidentID        25533 non-null  object        \n",
      " 3   BlockNumber       25533 non-null  object        \n",
      " 4   StreetName        25533 non-null  object        \n",
      " 5   Agency            25533 non-null  object        \n",
      " 6   HourReported      25533 non-null  object        \n",
      " 7   ReportingOfficer  25516 non-null  object        \n",
      " 8   Date              25533 non-null  datetime64[ns]\n",
      " 9   DateString        25533 non-null  object        \n",
      " 10  DayOfWeek         25533 non-null  object        \n",
      " 11  Weekend           25533 non-null  bool          \n",
      " 12  Season            25533 non-null  object        \n",
      " 13  HourAMPM          25533 non-null  object        \n",
      " 14  TimeOfDay         25533 non-null  object        \n",
      "dtypes: bool(1), datetime64[ns](1), int64(1), object(12)\n",
      "memory usage: 2.8+ MB\n"
     ]
    }
   ],
   "source": [
    "df.info()"
   ]
  },
  {
   "cell_type": "markdown",
   "id": "1e2023fd",
   "metadata": {
    "papermill": {
     "duration": 0.004009,
     "end_time": "2025-07-08T01:07:03.154614",
     "exception": false,
     "start_time": "2025-07-08T01:07:03.150605",
     "status": "completed"
    },
    "tags": []
   },
   "source": [
    "### Coordinates"
   ]
  },
  {
   "cell_type": "code",
   "execution_count": 9,
   "id": "70d20dff",
   "metadata": {
    "execution": {
     "iopub.execute_input": "2025-07-08T01:07:03.163603Z",
     "iopub.status.busy": "2025-07-08T01:07:03.163407Z",
     "iopub.status.idle": "2025-07-08T01:07:03.352733Z",
     "shell.execute_reply": "2025-07-08T01:07:03.352144Z"
    },
    "papermill": {
     "duration": 0.195044,
     "end_time": "2025-07-08T01:07:03.353775",
     "exception": false,
     "start_time": "2025-07-08T01:07:03.158731",
     "status": "completed"
    },
    "tags": []
   },
   "outputs": [
    {
     "name": "stdout",
     "output_type": "stream",
     "text": [
      "Loaded geocode cache.\n",
      "Error geocoding 600 MASON ST, A1: REQUEST_DENIED (You must enable Billing on the Google Cloud Project at https://console.cloud.google.com/project/_/billing/enable Learn more at https://developers.google.com/maps/gmp-get-started)\n",
      "Geocoded 600 MASON ST, A1: None, None\n",
      "Error geocoding  RAMP @ EMMET ST: REQUEST_DENIED (You must enable Billing on the Google Cloud Project at https://console.cloud.google.com/project/_/billing/enable Learn more at https://developers.google.com/maps/gmp-get-started)\n",
      "Geocoded  RAMP @ EMMET ST: None, None\n",
      "Geocode cache updated and saved.\n"
     ]
    },
    {
     "data": {
      "text/html": [
       "<div>\n",
       "<style scoped>\n",
       "    .dataframe tbody tr th:only-of-type {\n",
       "        vertical-align: middle;\n",
       "    }\n",
       "\n",
       "    .dataframe tbody tr th {\n",
       "        vertical-align: top;\n",
       "    }\n",
       "\n",
       "    .dataframe thead th {\n",
       "        text-align: right;\n",
       "    }\n",
       "</style>\n",
       "<table border=\"1\" class=\"dataframe\">\n",
       "  <thead>\n",
       "    <tr style=\"text-align: right;\">\n",
       "      <th></th>\n",
       "      <th>RecordID</th>\n",
       "      <th>Offense</th>\n",
       "      <th>IncidentID</th>\n",
       "      <th>BlockNumber</th>\n",
       "      <th>StreetName</th>\n",
       "      <th>Agency</th>\n",
       "      <th>HourReported</th>\n",
       "      <th>ReportingOfficer</th>\n",
       "      <th>Date</th>\n",
       "      <th>DateString</th>\n",
       "      <th>DayOfWeek</th>\n",
       "      <th>Weekend</th>\n",
       "      <th>Season</th>\n",
       "      <th>HourAMPM</th>\n",
       "      <th>TimeOfDay</th>\n",
       "      <th>FullStreet</th>\n",
       "      <th>lat</th>\n",
       "      <th>lon</th>\n",
       "    </tr>\n",
       "  </thead>\n",
       "  <tbody>\n",
       "    <tr>\n",
       "      <th>0</th>\n",
       "      <td>1</td>\n",
       "      <td>Drug Equipment Violation</td>\n",
       "      <td>202500023266</td>\n",
       "      <td>1300</td>\n",
       "      <td>CARLTON AVE</td>\n",
       "      <td>CPD</td>\n",
       "      <td>1353</td>\n",
       "      <td>O'Briant, Landon</td>\n",
       "      <td>2025-07-05 13:53:36</td>\n",
       "      <td>2025-07-05 01:53:36 PM</td>\n",
       "      <td>Saturday</td>\n",
       "      <td>True</td>\n",
       "      <td>Summer</td>\n",
       "      <td>01:53 PM</td>\n",
       "      <td>Afternoon</td>\n",
       "      <td>1300 CARLTON AVE</td>\n",
       "      <td>38.022060</td>\n",
       "      <td>-78.469336</td>\n",
       "    </tr>\n",
       "    <tr>\n",
       "      <th>1</th>\n",
       "      <td>2</td>\n",
       "      <td>Assault Intimidation</td>\n",
       "      <td>202500023265</td>\n",
       "      <td>600</td>\n",
       "      <td>MASON ST, A1</td>\n",
       "      <td>CPD</td>\n",
       "      <td>1329</td>\n",
       "      <td>Eckenroth, Rachel</td>\n",
       "      <td>2025-07-05 13:29:53</td>\n",
       "      <td>2025-07-05 01:29:53 PM</td>\n",
       "      <td>Saturday</td>\n",
       "      <td>True</td>\n",
       "      <td>Summer</td>\n",
       "      <td>01:29 PM</td>\n",
       "      <td>Afternoon</td>\n",
       "      <td>600 MASON ST, A1</td>\n",
       "      <td>NaN</td>\n",
       "      <td>NaN</td>\n",
       "    </tr>\n",
       "    <tr>\n",
       "      <th>2</th>\n",
       "      <td>3</td>\n",
       "      <td>Assist Citizen - Mental/TDO/ECO</td>\n",
       "      <td>202500023251</td>\n",
       "      <td>2000</td>\n",
       "      <td>MEADOWBROOK RD</td>\n",
       "      <td>CPD</td>\n",
       "      <td>1025</td>\n",
       "      <td>Schwartz, Honora</td>\n",
       "      <td>2025-07-05 10:25:02</td>\n",
       "      <td>2025-07-05 10:25:02 AM</td>\n",
       "      <td>Saturday</td>\n",
       "      <td>True</td>\n",
       "      <td>Summer</td>\n",
       "      <td>10:25 AM</td>\n",
       "      <td>Morning</td>\n",
       "      <td>2000 MEADOWBROOK RD</td>\n",
       "      <td>38.054350</td>\n",
       "      <td>-78.494263</td>\n",
       "    </tr>\n",
       "    <tr>\n",
       "      <th>3</th>\n",
       "      <td>4</td>\n",
       "      <td>Hit and Run</td>\n",
       "      <td>202500023237</td>\n",
       "      <td></td>\n",
       "      <td>RAMP @ EMMET ST</td>\n",
       "      <td>CPD</td>\n",
       "      <td>0816</td>\n",
       "      <td>Prevost, Payten</td>\n",
       "      <td>2025-07-05 08:16:14</td>\n",
       "      <td>2025-07-05 08:16:14 AM</td>\n",
       "      <td>Saturday</td>\n",
       "      <td>True</td>\n",
       "      <td>Summer</td>\n",
       "      <td>08:16 AM</td>\n",
       "      <td>Morning</td>\n",
       "      <td>RAMP @ EMMET ST</td>\n",
       "      <td>NaN</td>\n",
       "      <td>NaN</td>\n",
       "    </tr>\n",
       "    <tr>\n",
       "      <th>4</th>\n",
       "      <td>5</td>\n",
       "      <td>Assault Aggravated</td>\n",
       "      <td>202500023203</td>\n",
       "      <td>700</td>\n",
       "      <td>ORANGEDALE AVE</td>\n",
       "      <td>CPD</td>\n",
       "      <td>2323</td>\n",
       "      <td>Troche, Nicholas</td>\n",
       "      <td>2025-07-04 23:23:21</td>\n",
       "      <td>2025-07-04 11:23:21 PM</td>\n",
       "      <td>Friday</td>\n",
       "      <td>False</td>\n",
       "      <td>Summer</td>\n",
       "      <td>11:23 PM</td>\n",
       "      <td>Night</td>\n",
       "      <td>700 ORANGEDALE AVE</td>\n",
       "      <td>38.024611</td>\n",
       "      <td>-78.495419</td>\n",
       "    </tr>\n",
       "  </tbody>\n",
       "</table>\n",
       "</div>"
      ],
      "text/plain": [
       "   RecordID                          Offense    IncidentID BlockNumber  \\\n",
       "0         1         Drug Equipment Violation  202500023266        1300   \n",
       "1         2             Assault Intimidation  202500023265         600   \n",
       "2         3  Assist Citizen - Mental/TDO/ECO  202500023251        2000   \n",
       "3         4                      Hit and Run  202500023237               \n",
       "4         5               Assault Aggravated  202500023203         700   \n",
       "\n",
       "        StreetName Agency HourReported   ReportingOfficer                Date  \\\n",
       "0      CARLTON AVE    CPD         1353   O'Briant, Landon 2025-07-05 13:53:36   \n",
       "1     MASON ST, A1    CPD         1329  Eckenroth, Rachel 2025-07-05 13:29:53   \n",
       "2   MEADOWBROOK RD    CPD         1025   Schwartz, Honora 2025-07-05 10:25:02   \n",
       "3  RAMP @ EMMET ST    CPD         0816    Prevost, Payten 2025-07-05 08:16:14   \n",
       "4   ORANGEDALE AVE    CPD         2323   Troche, Nicholas 2025-07-04 23:23:21   \n",
       "\n",
       "               DateString DayOfWeek  Weekend  Season  HourAMPM  TimeOfDay  \\\n",
       "0  2025-07-05 01:53:36 PM  Saturday     True  Summer  01:53 PM  Afternoon   \n",
       "1  2025-07-05 01:29:53 PM  Saturday     True  Summer  01:29 PM  Afternoon   \n",
       "2  2025-07-05 10:25:02 AM  Saturday     True  Summer  10:25 AM    Morning   \n",
       "3  2025-07-05 08:16:14 AM  Saturday     True  Summer  08:16 AM    Morning   \n",
       "4  2025-07-04 11:23:21 PM    Friday    False  Summer  11:23 PM      Night   \n",
       "\n",
       "            FullStreet        lat        lon  \n",
       "0     1300 CARLTON AVE  38.022060 -78.469336  \n",
       "1     600 MASON ST, A1        NaN        NaN  \n",
       "2  2000 MEADOWBROOK RD  38.054350 -78.494263  \n",
       "3      RAMP @ EMMET ST        NaN        NaN  \n",
       "4   700 ORANGEDALE AVE  38.024611 -78.495419  "
      ]
     },
     "execution_count": 9,
     "metadata": {},
     "output_type": "execute_result"
    }
   ],
   "source": [
    "# Combine BlockNumber and StreetName into a full address string\n",
    "df['FullStreet'] = df['BlockNumber'].astype(str) + \" \" + df['StreetName']\n",
    "\n",
    "# --- Step 1: Setup the Google Maps Client and Cache ---\n",
    "gmaps = googlemaps.Client(key=GOOGLE_API_KEY)\n",
    "\n",
    "# Try to load cached geocoding results if available.\n",
    "try:\n",
    "    with open(\"geocode_cache_google.pkl\", \"rb\") as f:\n",
    "        street_coords = pickle.load(f)\n",
    "    print(\"Loaded geocode cache.\")\n",
    "except FileNotFoundError:\n",
    "    street_coords = {}\n",
    "    print(\"No cache found; starting fresh.\")\n",
    "\n",
    "def geocode_address(address):\n",
    "    try:\n",
    "        # Append city and state to help geocoding\n",
    "        result = gmaps.geocode(f\"{address}, Charlottesville, VA\")\n",
    "        if result:\n",
    "            lat = result[0]['geometry']['location']['lat']\n",
    "            lon = result[0]['geometry']['location']['lng']\n",
    "            return lat, lon\n",
    "    except Exception as e:\n",
    "        print(f\"Error geocoding {address}: {e}\")\n",
    "    return None, None\n",
    "\n",
    "# --- Step 2: Geocode Only New Addresses ---\n",
    "unique_addresses = df['FullStreet'].unique()\n",
    "for address in unique_addresses:\n",
    "    if address not in street_coords:\n",
    "        lat, lon = geocode_address(address)\n",
    "        street_coords[address] = (lat, lon)\n",
    "        print(f\"Geocoded {address}: {lat}, {lon}\")\n",
    "\n",
    "# Save the updated cache to disk.\n",
    "with open(\"geocode_cache_google.pkl\", \"wb\") as f:\n",
    "    pickle.dump(street_coords, f)\n",
    "    print(\"Geocode cache updated and saved.\")\n",
    "\n",
    "# --- Step 3: Map Coordinates Back to DataFrame ---\n",
    "df['lat'] = df['FullStreet'].map(lambda s: street_coords.get(s, (None, None))[0])\n",
    "df['lon'] = df['FullStreet'].map(lambda s: street_coords.get(s, (None, None))[1])\n",
    "\n",
    "df.head()"
   ]
  },
  {
   "cell_type": "markdown",
   "id": "3ffe5cee",
   "metadata": {
    "papermill": {
     "duration": 0.004464,
     "end_time": "2025-07-08T01:07:03.362927",
     "exception": false,
     "start_time": "2025-07-08T01:07:03.358463",
     "status": "completed"
    },
    "tags": []
   },
   "source": [
    "### Neighborhood"
   ]
  },
  {
   "cell_type": "code",
   "execution_count": 10,
   "id": "9becf0f9",
   "metadata": {
    "execution": {
     "iopub.execute_input": "2025-07-08T01:07:03.372793Z",
     "iopub.status.busy": "2025-07-08T01:07:03.372331Z",
     "iopub.status.idle": "2025-07-08T01:07:04.554138Z",
     "shell.execute_reply": "2025-07-08T01:07:04.553452Z"
    },
    "papermill": {
     "duration": 1.187982,
     "end_time": "2025-07-08T01:07:04.555205",
     "exception": false,
     "start_time": "2025-07-08T01:07:03.367223",
     "status": "completed"
    },
    "tags": []
   },
   "outputs": [
    {
     "name": "stdout",
     "output_type": "stream",
     "text": [
      "Loaded neighborhood cache.\n"
     ]
    },
    {
     "name": "stdout",
     "output_type": "stream",
     "text": [
      "Error getting neighborhood for nan, nan: HTTP Error: 400\n",
      "Error getting neighborhood for nan, nan: HTTP Error: 400\n",
      "Error getting neighborhood for nan, nan: HTTP Error: 400\n"
     ]
    },
    {
     "name": "stdout",
     "output_type": "stream",
     "text": [
      "Error getting neighborhood for nan, nan: HTTP Error: 400\n",
      "Error getting neighborhood for nan, nan: HTTP Error: 400\n",
      "Error getting neighborhood for nan, nan: HTTP Error: 400\n",
      "Error getting neighborhood for nan, nan: HTTP Error: 400\n"
     ]
    },
    {
     "name": "stdout",
     "output_type": "stream",
     "text": [
      "Error getting neighborhood for nan, nan: HTTP Error: 400\n",
      "Error getting neighborhood for nan, nan: HTTP Error: 400\n",
      "Error getting neighborhood for nan, nan: HTTP Error: 400\n",
      "Error getting neighborhood for nan, nan: HTTP Error: 400\n",
      "Error getting neighborhood for nan, nan: HTTP Error: 400\n"
     ]
    },
    {
     "name": "stdout",
     "output_type": "stream",
     "text": [
      "Error getting neighborhood for nan, nan: HTTP Error: 400\n",
      "Error getting neighborhood for nan, nan: HTTP Error: 400\n",
      "Error getting neighborhood for nan, nan: HTTP Error: 400\n",
      "Error getting neighborhood for nan, nan: HTTP Error: 400\n",
      "Error getting neighborhood for nan, nan: HTTP Error: 400\n",
      "Error getting neighborhood for nan, nan: HTTP Error: 400\n"
     ]
    },
    {
     "name": "stdout",
     "output_type": "stream",
     "text": [
      "Error getting neighborhood for nan, nan: HTTP Error: 400\n",
      "Error getting neighborhood for nan, nan: HTTP Error: 400\n",
      "Error getting neighborhood for nan, nan: HTTP Error: 400\n",
      "Error getting neighborhood for nan, nan: HTTP Error: 400\n",
      "Error getting neighborhood for nan, nan: HTTP Error: 400\n",
      "Error getting neighborhood for nan, nan: HTTP Error: 400\n"
     ]
    },
    {
     "name": "stdout",
     "output_type": "stream",
     "text": [
      "Error getting neighborhood for nan, nan: HTTP Error: 400\n",
      "Error getting neighborhood for nan, nan: HTTP Error: 400\n",
      "Error getting neighborhood for nan, nan: HTTP Error: 400\n",
      "Error getting neighborhood for nan, nan: HTTP Error: 400\n",
      "Error getting neighborhood for nan, nan: HTTP Error: 400\n"
     ]
    },
    {
     "name": "stdout",
     "output_type": "stream",
     "text": [
      "Error getting neighborhood for nan, nan: HTTP Error: 400\n",
      "Error getting neighborhood for nan, nan: HTTP Error: 400\n",
      "Error getting neighborhood for nan, nan: HTTP Error: 400\n",
      "Error getting neighborhood for nan, nan: HTTP Error: 400\n",
      "Error getting neighborhood for nan, nan: HTTP Error: 400\n",
      "Error getting neighborhood for nan, nan: HTTP Error: 400\n"
     ]
    },
    {
     "name": "stdout",
     "output_type": "stream",
     "text": [
      "Error getting neighborhood for nan, nan: HTTP Error: 400\n",
      "Error getting neighborhood for nan, nan: HTTP Error: 400\n",
      "Error getting neighborhood for nan, nan: HTTP Error: 400\n",
      "Error getting neighborhood for nan, nan: HTTP Error: 400\n",
      "Error getting neighborhood for nan, nan: HTTP Error: 400\n",
      "Error getting neighborhood for nan, nan: HTTP Error: 400\n"
     ]
    },
    {
     "name": "stdout",
     "output_type": "stream",
     "text": [
      "Error getting neighborhood for nan, nan: HTTP Error: 400\n",
      "Error getting neighborhood for nan, nan: HTTP Error: 400\n"
     ]
    },
    {
     "data": {
      "text/html": [
       "<div>\n",
       "<style scoped>\n",
       "    .dataframe tbody tr th:only-of-type {\n",
       "        vertical-align: middle;\n",
       "    }\n",
       "\n",
       "    .dataframe tbody tr th {\n",
       "        vertical-align: top;\n",
       "    }\n",
       "\n",
       "    .dataframe thead th {\n",
       "        text-align: right;\n",
       "    }\n",
       "</style>\n",
       "<table border=\"1\" class=\"dataframe\">\n",
       "  <thead>\n",
       "    <tr style=\"text-align: right;\">\n",
       "      <th></th>\n",
       "      <th>RecordID</th>\n",
       "      <th>Offense</th>\n",
       "      <th>IncidentID</th>\n",
       "      <th>BlockNumber</th>\n",
       "      <th>StreetName</th>\n",
       "      <th>Agency</th>\n",
       "      <th>HourReported</th>\n",
       "      <th>ReportingOfficer</th>\n",
       "      <th>Date</th>\n",
       "      <th>DateString</th>\n",
       "      <th>DayOfWeek</th>\n",
       "      <th>Weekend</th>\n",
       "      <th>Season</th>\n",
       "      <th>HourAMPM</th>\n",
       "      <th>TimeOfDay</th>\n",
       "      <th>FullStreet</th>\n",
       "      <th>lat</th>\n",
       "      <th>lon</th>\n",
       "      <th>neighborhood</th>\n",
       "    </tr>\n",
       "  </thead>\n",
       "  <tbody>\n",
       "    <tr>\n",
       "      <th>0</th>\n",
       "      <td>1</td>\n",
       "      <td>Drug Equipment Violation</td>\n",
       "      <td>202500023266</td>\n",
       "      <td>1300</td>\n",
       "      <td>CARLTON AVE</td>\n",
       "      <td>CPD</td>\n",
       "      <td>1353</td>\n",
       "      <td>O'Briant, Landon</td>\n",
       "      <td>2025-07-05 13:53:36</td>\n",
       "      <td>2025-07-05 01:53:36 PM</td>\n",
       "      <td>Saturday</td>\n",
       "      <td>True</td>\n",
       "      <td>Summer</td>\n",
       "      <td>01:53 PM</td>\n",
       "      <td>Afternoon</td>\n",
       "      <td>1300 CARLTON AVE</td>\n",
       "      <td>38.022060</td>\n",
       "      <td>-78.469336</td>\n",
       "      <td>Belmont</td>\n",
       "    </tr>\n",
       "    <tr>\n",
       "      <th>1</th>\n",
       "      <td>2</td>\n",
       "      <td>Assault Intimidation</td>\n",
       "      <td>202500023265</td>\n",
       "      <td>600</td>\n",
       "      <td>MASON ST, A1</td>\n",
       "      <td>CPD</td>\n",
       "      <td>1329</td>\n",
       "      <td>Eckenroth, Rachel</td>\n",
       "      <td>2025-07-05 13:29:53</td>\n",
       "      <td>2025-07-05 01:29:53 PM</td>\n",
       "      <td>Saturday</td>\n",
       "      <td>True</td>\n",
       "      <td>Summer</td>\n",
       "      <td>01:29 PM</td>\n",
       "      <td>Afternoon</td>\n",
       "      <td>600 MASON ST, A1</td>\n",
       "      <td>NaN</td>\n",
       "      <td>NaN</td>\n",
       "      <td>N/A</td>\n",
       "    </tr>\n",
       "    <tr>\n",
       "      <th>2</th>\n",
       "      <td>3</td>\n",
       "      <td>Assist Citizen - Mental/TDO/ECO</td>\n",
       "      <td>202500023251</td>\n",
       "      <td>2000</td>\n",
       "      <td>MEADOWBROOK RD</td>\n",
       "      <td>CPD</td>\n",
       "      <td>1025</td>\n",
       "      <td>Schwartz, Honora</td>\n",
       "      <td>2025-07-05 10:25:02</td>\n",
       "      <td>2025-07-05 10:25:02 AM</td>\n",
       "      <td>Saturday</td>\n",
       "      <td>True</td>\n",
       "      <td>Summer</td>\n",
       "      <td>10:25 AM</td>\n",
       "      <td>Morning</td>\n",
       "      <td>2000 MEADOWBROOK RD</td>\n",
       "      <td>38.054350</td>\n",
       "      <td>-78.494263</td>\n",
       "      <td>Barracks Rugby</td>\n",
       "    </tr>\n",
       "    <tr>\n",
       "      <th>3</th>\n",
       "      <td>4</td>\n",
       "      <td>Hit and Run</td>\n",
       "      <td>202500023237</td>\n",
       "      <td></td>\n",
       "      <td>RAMP @ EMMET ST</td>\n",
       "      <td>CPD</td>\n",
       "      <td>0816</td>\n",
       "      <td>Prevost, Payten</td>\n",
       "      <td>2025-07-05 08:16:14</td>\n",
       "      <td>2025-07-05 08:16:14 AM</td>\n",
       "      <td>Saturday</td>\n",
       "      <td>True</td>\n",
       "      <td>Summer</td>\n",
       "      <td>08:16 AM</td>\n",
       "      <td>Morning</td>\n",
       "      <td>RAMP @ EMMET ST</td>\n",
       "      <td>NaN</td>\n",
       "      <td>NaN</td>\n",
       "      <td>N/A</td>\n",
       "    </tr>\n",
       "    <tr>\n",
       "      <th>4</th>\n",
       "      <td>5</td>\n",
       "      <td>Assault Aggravated</td>\n",
       "      <td>202500023203</td>\n",
       "      <td>700</td>\n",
       "      <td>ORANGEDALE AVE</td>\n",
       "      <td>CPD</td>\n",
       "      <td>2323</td>\n",
       "      <td>Troche, Nicholas</td>\n",
       "      <td>2025-07-04 23:23:21</td>\n",
       "      <td>2025-07-04 11:23:21 PM</td>\n",
       "      <td>Friday</td>\n",
       "      <td>False</td>\n",
       "      <td>Summer</td>\n",
       "      <td>11:23 PM</td>\n",
       "      <td>Night</td>\n",
       "      <td>700 ORANGEDALE AVE</td>\n",
       "      <td>38.024611</td>\n",
       "      <td>-78.495419</td>\n",
       "      <td>Fifeville</td>\n",
       "    </tr>\n",
       "  </tbody>\n",
       "</table>\n",
       "</div>"
      ],
      "text/plain": [
       "   RecordID                          Offense    IncidentID BlockNumber  \\\n",
       "0         1         Drug Equipment Violation  202500023266        1300   \n",
       "1         2             Assault Intimidation  202500023265         600   \n",
       "2         3  Assist Citizen - Mental/TDO/ECO  202500023251        2000   \n",
       "3         4                      Hit and Run  202500023237               \n",
       "4         5               Assault Aggravated  202500023203         700   \n",
       "\n",
       "        StreetName Agency HourReported   ReportingOfficer                Date  \\\n",
       "0      CARLTON AVE    CPD         1353   O'Briant, Landon 2025-07-05 13:53:36   \n",
       "1     MASON ST, A1    CPD         1329  Eckenroth, Rachel 2025-07-05 13:29:53   \n",
       "2   MEADOWBROOK RD    CPD         1025   Schwartz, Honora 2025-07-05 10:25:02   \n",
       "3  RAMP @ EMMET ST    CPD         0816    Prevost, Payten 2025-07-05 08:16:14   \n",
       "4   ORANGEDALE AVE    CPD         2323   Troche, Nicholas 2025-07-04 23:23:21   \n",
       "\n",
       "               DateString DayOfWeek  Weekend  Season  HourAMPM  TimeOfDay  \\\n",
       "0  2025-07-05 01:53:36 PM  Saturday     True  Summer  01:53 PM  Afternoon   \n",
       "1  2025-07-05 01:29:53 PM  Saturday     True  Summer  01:29 PM  Afternoon   \n",
       "2  2025-07-05 10:25:02 AM  Saturday     True  Summer  10:25 AM    Morning   \n",
       "3  2025-07-05 08:16:14 AM  Saturday     True  Summer  08:16 AM    Morning   \n",
       "4  2025-07-04 11:23:21 PM    Friday    False  Summer  11:23 PM      Night   \n",
       "\n",
       "            FullStreet        lat        lon    neighborhood  \n",
       "0     1300 CARLTON AVE  38.022060 -78.469336         Belmont  \n",
       "1     600 MASON ST, A1        NaN        NaN             N/A  \n",
       "2  2000 MEADOWBROOK RD  38.054350 -78.494263  Barracks Rugby  \n",
       "3      RAMP @ EMMET ST        NaN        NaN             N/A  \n",
       "4   700 ORANGEDALE AVE  38.024611 -78.495419       Fifeville  "
      ]
     },
     "execution_count": 10,
     "metadata": {},
     "output_type": "execute_result"
    }
   ],
   "source": [
    "# Initialize the Google Maps client.\n",
    "gmaps = googlemaps.Client(key=GOOGLE_API_KEY)\n",
    "\n",
    "# Try to load a persistent neighborhood cache if available.\n",
    "try:\n",
    "    with open(\"neighborhood_cache.pkl\", \"rb\") as f:\n",
    "        neighborhood_cache = pickle.load(f)\n",
    "    print(\"Loaded neighborhood cache.\")\n",
    "except FileNotFoundError:\n",
    "    neighborhood_cache = {}\n",
    "    print(\"No neighborhood cache found; starting fresh.\")\n",
    "\n",
    "def get_neighborhood(lat, lon):\n",
    "    \"\"\"\n",
    "    Reverse geocodes a latitude and longitude to retrieve the neighborhood.\n",
    "    Caches results to speed up subsequent lookups.\n",
    "    \"\"\"\n",
    "    key = (lat, lon)\n",
    "    if key in neighborhood_cache:\n",
    "        return neighborhood_cache[key]\n",
    "    \n",
    "    try:\n",
    "        result = gmaps.reverse_geocode((lat, lon))\n",
    "        if result:\n",
    "            # Look for the 'neighborhood' component in the first result.\n",
    "            for component in result[0]['address_components']:\n",
    "                if 'neighborhood' in component['types']:\n",
    "                    neighborhood = component['long_name']\n",
    "                    neighborhood_cache[key] = neighborhood\n",
    "                    return neighborhood\n",
    "            # If no neighborhood is found, return \"N/A\"\n",
    "            neighborhood_cache[key] = \"N/A\"\n",
    "            return \"N/A\"\n",
    "    except Exception as e:\n",
    "        print(f\"Error getting neighborhood for {lat}, {lon}: {e}\")\n",
    "        return \"N/A\"\n",
    "    \n",
    "    # Pause to respect usage limits.\n",
    "    time.sleep(1)\n",
    "\n",
    "# Example usage: Apply to your DataFrame 'df' that already has 'lat' and 'lon' columns.\n",
    "df['neighborhood'] = df.apply(lambda row: get_neighborhood(row['lat'], row['lon']), axis=1)\n",
    "\n",
    "# Save the updated neighborhood cache.\n",
    "with open(\"neighborhood_cache.pkl\", \"wb\") as f:\n",
    "    pickle.dump(neighborhood_cache, f)\n",
    "\n",
    "df.head()\n"
   ]
  },
  {
   "cell_type": "markdown",
   "id": "5e2c4cf6",
   "metadata": {
    "papermill": {
     "duration": 0.004966,
     "end_time": "2025-07-08T01:07:04.565728",
     "exception": false,
     "start_time": "2025-07-08T01:07:04.560762",
     "status": "completed"
    },
    "tags": []
   },
   "source": [
    "### Zip"
   ]
  },
  {
   "cell_type": "code",
   "execution_count": 11,
   "id": "0a66c9d3",
   "metadata": {
    "execution": {
     "iopub.execute_input": "2025-07-08T01:07:04.576830Z",
     "iopub.status.busy": "2025-07-08T01:07:04.576351Z",
     "iopub.status.idle": "2025-07-08T01:07:47.890617Z",
     "shell.execute_reply": "2025-07-08T01:07:47.890040Z"
    },
    "papermill": {
     "duration": 43.32101,
     "end_time": "2025-07-08T01:07:47.891679",
     "exception": false,
     "start_time": "2025-07-08T01:07:04.570669",
     "status": "completed"
    },
    "tags": []
   },
   "outputs": [
    {
     "name": "stdout",
     "output_type": "stream",
     "text": [
      "Loaded zip cache.\n",
      "Error getting ZIP for nan, nan: Must be a coordinate pair or Point\n"
     ]
    },
    {
     "name": "stdout",
     "output_type": "stream",
     "text": [
      "Error getting ZIP for nan, nan: Must be a coordinate pair or Point\n"
     ]
    },
    {
     "name": "stdout",
     "output_type": "stream",
     "text": [
      "Error getting ZIP for nan, nan: Must be a coordinate pair or Point\n"
     ]
    },
    {
     "name": "stdout",
     "output_type": "stream",
     "text": [
      "Error getting ZIP for nan, nan: Must be a coordinate pair or Point\n"
     ]
    },
    {
     "name": "stdout",
     "output_type": "stream",
     "text": [
      "Error getting ZIP for nan, nan: Must be a coordinate pair or Point\n"
     ]
    },
    {
     "name": "stdout",
     "output_type": "stream",
     "text": [
      "Error getting ZIP for nan, nan: Must be a coordinate pair or Point\n"
     ]
    },
    {
     "name": "stdout",
     "output_type": "stream",
     "text": [
      "Error getting ZIP for nan, nan: Must be a coordinate pair or Point\n"
     ]
    },
    {
     "name": "stdout",
     "output_type": "stream",
     "text": [
      "Error getting ZIP for nan, nan: Must be a coordinate pair or Point\n"
     ]
    },
    {
     "name": "stdout",
     "output_type": "stream",
     "text": [
      "Error getting ZIP for nan, nan: Must be a coordinate pair or Point\n"
     ]
    },
    {
     "name": "stdout",
     "output_type": "stream",
     "text": [
      "Error getting ZIP for nan, nan: Must be a coordinate pair or Point\n"
     ]
    },
    {
     "name": "stdout",
     "output_type": "stream",
     "text": [
      "Error getting ZIP for nan, nan: Must be a coordinate pair or Point\n"
     ]
    },
    {
     "name": "stdout",
     "output_type": "stream",
     "text": [
      "Error getting ZIP for nan, nan: Must be a coordinate pair or Point\n"
     ]
    },
    {
     "name": "stdout",
     "output_type": "stream",
     "text": [
      "Error getting ZIP for nan, nan: Must be a coordinate pair or Point\n"
     ]
    },
    {
     "name": "stdout",
     "output_type": "stream",
     "text": [
      "Error getting ZIP for nan, nan: Must be a coordinate pair or Point\n"
     ]
    },
    {
     "name": "stdout",
     "output_type": "stream",
     "text": [
      "Error getting ZIP for nan, nan: Must be a coordinate pair or Point\n"
     ]
    },
    {
     "name": "stdout",
     "output_type": "stream",
     "text": [
      "Error getting ZIP for nan, nan: Must be a coordinate pair or Point\n"
     ]
    },
    {
     "name": "stdout",
     "output_type": "stream",
     "text": [
      "Error getting ZIP for nan, nan: Must be a coordinate pair or Point\n"
     ]
    },
    {
     "name": "stdout",
     "output_type": "stream",
     "text": [
      "Error getting ZIP for nan, nan: Must be a coordinate pair or Point\n"
     ]
    },
    {
     "name": "stdout",
     "output_type": "stream",
     "text": [
      "Error getting ZIP for nan, nan: Must be a coordinate pair or Point\n"
     ]
    },
    {
     "name": "stdout",
     "output_type": "stream",
     "text": [
      "Error getting ZIP for nan, nan: Must be a coordinate pair or Point\n"
     ]
    },
    {
     "name": "stdout",
     "output_type": "stream",
     "text": [
      "Error getting ZIP for nan, nan: Must be a coordinate pair or Point\n"
     ]
    },
    {
     "name": "stdout",
     "output_type": "stream",
     "text": [
      "Error getting ZIP for nan, nan: Must be a coordinate pair or Point\n"
     ]
    },
    {
     "name": "stdout",
     "output_type": "stream",
     "text": [
      "Error getting ZIP for nan, nan: Must be a coordinate pair or Point\n"
     ]
    },
    {
     "name": "stdout",
     "output_type": "stream",
     "text": [
      "Error getting ZIP for nan, nan: Must be a coordinate pair or Point\n"
     ]
    },
    {
     "name": "stdout",
     "output_type": "stream",
     "text": [
      "Error getting ZIP for nan, nan: Must be a coordinate pair or Point\n"
     ]
    },
    {
     "name": "stdout",
     "output_type": "stream",
     "text": [
      "Error getting ZIP for nan, nan: Must be a coordinate pair or Point\n"
     ]
    },
    {
     "name": "stdout",
     "output_type": "stream",
     "text": [
      "Error getting ZIP for nan, nan: Must be a coordinate pair or Point\n"
     ]
    },
    {
     "name": "stdout",
     "output_type": "stream",
     "text": [
      "Error getting ZIP for nan, nan: Must be a coordinate pair or Point\n"
     ]
    },
    {
     "name": "stdout",
     "output_type": "stream",
     "text": [
      "Error getting ZIP for nan, nan: Must be a coordinate pair or Point\n"
     ]
    },
    {
     "name": "stdout",
     "output_type": "stream",
     "text": [
      "Error getting ZIP for nan, nan: Must be a coordinate pair or Point\n"
     ]
    },
    {
     "name": "stdout",
     "output_type": "stream",
     "text": [
      "Error getting ZIP for nan, nan: Must be a coordinate pair or Point\n"
     ]
    },
    {
     "name": "stdout",
     "output_type": "stream",
     "text": [
      "Error getting ZIP for nan, nan: Must be a coordinate pair or Point\n"
     ]
    },
    {
     "name": "stdout",
     "output_type": "stream",
     "text": [
      "Error getting ZIP for nan, nan: Must be a coordinate pair or Point\n"
     ]
    },
    {
     "name": "stdout",
     "output_type": "stream",
     "text": [
      "Error getting ZIP for nan, nan: Must be a coordinate pair or Point\n"
     ]
    },
    {
     "name": "stdout",
     "output_type": "stream",
     "text": [
      "Error getting ZIP for nan, nan: Must be a coordinate pair or Point\n"
     ]
    },
    {
     "name": "stdout",
     "output_type": "stream",
     "text": [
      "Error getting ZIP for nan, nan: Must be a coordinate pair or Point\n"
     ]
    },
    {
     "name": "stdout",
     "output_type": "stream",
     "text": [
      "Error getting ZIP for nan, nan: Must be a coordinate pair or Point\n"
     ]
    },
    {
     "name": "stdout",
     "output_type": "stream",
     "text": [
      "Error getting ZIP for nan, nan: Must be a coordinate pair or Point\n"
     ]
    },
    {
     "name": "stdout",
     "output_type": "stream",
     "text": [
      "Error getting ZIP for nan, nan: Must be a coordinate pair or Point\n"
     ]
    },
    {
     "name": "stdout",
     "output_type": "stream",
     "text": [
      "Error getting ZIP for nan, nan: Must be a coordinate pair or Point\n"
     ]
    },
    {
     "name": "stdout",
     "output_type": "stream",
     "text": [
      "Error getting ZIP for nan, nan: Must be a coordinate pair or Point\n"
     ]
    },
    {
     "name": "stdout",
     "output_type": "stream",
     "text": [
      "Error getting ZIP for nan, nan: Must be a coordinate pair or Point\n"
     ]
    },
    {
     "name": "stdout",
     "output_type": "stream",
     "text": [
      "Error getting ZIP for nan, nan: Must be a coordinate pair or Point\n"
     ]
    },
    {
     "data": {
      "text/html": [
       "<div>\n",
       "<style scoped>\n",
       "    .dataframe tbody tr th:only-of-type {\n",
       "        vertical-align: middle;\n",
       "    }\n",
       "\n",
       "    .dataframe tbody tr th {\n",
       "        vertical-align: top;\n",
       "    }\n",
       "\n",
       "    .dataframe thead th {\n",
       "        text-align: right;\n",
       "    }\n",
       "</style>\n",
       "<table border=\"1\" class=\"dataframe\">\n",
       "  <thead>\n",
       "    <tr style=\"text-align: right;\">\n",
       "      <th></th>\n",
       "      <th>RecordID</th>\n",
       "      <th>Offense</th>\n",
       "      <th>IncidentID</th>\n",
       "      <th>BlockNumber</th>\n",
       "      <th>StreetName</th>\n",
       "      <th>Agency</th>\n",
       "      <th>HourReported</th>\n",
       "      <th>ReportingOfficer</th>\n",
       "      <th>Date</th>\n",
       "      <th>DateString</th>\n",
       "      <th>DayOfWeek</th>\n",
       "      <th>Weekend</th>\n",
       "      <th>Season</th>\n",
       "      <th>HourAMPM</th>\n",
       "      <th>TimeOfDay</th>\n",
       "      <th>FullStreet</th>\n",
       "      <th>lat</th>\n",
       "      <th>lon</th>\n",
       "      <th>neighborhood</th>\n",
       "      <th>zip</th>\n",
       "    </tr>\n",
       "  </thead>\n",
       "  <tbody>\n",
       "    <tr>\n",
       "      <th>0</th>\n",
       "      <td>1</td>\n",
       "      <td>Drug Equipment Violation</td>\n",
       "      <td>202500023266</td>\n",
       "      <td>1300</td>\n",
       "      <td>CARLTON AVE</td>\n",
       "      <td>CPD</td>\n",
       "      <td>1353</td>\n",
       "      <td>O'Briant, Landon</td>\n",
       "      <td>2025-07-05 13:53:36</td>\n",
       "      <td>2025-07-05 01:53:36 PM</td>\n",
       "      <td>Saturday</td>\n",
       "      <td>True</td>\n",
       "      <td>Summer</td>\n",
       "      <td>01:53 PM</td>\n",
       "      <td>Afternoon</td>\n",
       "      <td>1300 CARLTON AVE</td>\n",
       "      <td>38.022060</td>\n",
       "      <td>-78.469336</td>\n",
       "      <td>Belmont</td>\n",
       "      <td>22902</td>\n",
       "    </tr>\n",
       "    <tr>\n",
       "      <th>1</th>\n",
       "      <td>2</td>\n",
       "      <td>Assault Intimidation</td>\n",
       "      <td>202500023265</td>\n",
       "      <td>600</td>\n",
       "      <td>MASON ST, A1</td>\n",
       "      <td>CPD</td>\n",
       "      <td>1329</td>\n",
       "      <td>Eckenroth, Rachel</td>\n",
       "      <td>2025-07-05 13:29:53</td>\n",
       "      <td>2025-07-05 01:29:53 PM</td>\n",
       "      <td>Saturday</td>\n",
       "      <td>True</td>\n",
       "      <td>Summer</td>\n",
       "      <td>01:29 PM</td>\n",
       "      <td>Afternoon</td>\n",
       "      <td>600 MASON ST, A1</td>\n",
       "      <td>NaN</td>\n",
       "      <td>NaN</td>\n",
       "      <td>N/A</td>\n",
       "      <td>N/A</td>\n",
       "    </tr>\n",
       "    <tr>\n",
       "      <th>2</th>\n",
       "      <td>3</td>\n",
       "      <td>Assist Citizen - Mental/TDO/ECO</td>\n",
       "      <td>202500023251</td>\n",
       "      <td>2000</td>\n",
       "      <td>MEADOWBROOK RD</td>\n",
       "      <td>CPD</td>\n",
       "      <td>1025</td>\n",
       "      <td>Schwartz, Honora</td>\n",
       "      <td>2025-07-05 10:25:02</td>\n",
       "      <td>2025-07-05 10:25:02 AM</td>\n",
       "      <td>Saturday</td>\n",
       "      <td>True</td>\n",
       "      <td>Summer</td>\n",
       "      <td>10:25 AM</td>\n",
       "      <td>Morning</td>\n",
       "      <td>2000 MEADOWBROOK RD</td>\n",
       "      <td>38.054350</td>\n",
       "      <td>-78.494263</td>\n",
       "      <td>Barracks Rugby</td>\n",
       "      <td>22903</td>\n",
       "    </tr>\n",
       "    <tr>\n",
       "      <th>3</th>\n",
       "      <td>4</td>\n",
       "      <td>Hit and Run</td>\n",
       "      <td>202500023237</td>\n",
       "      <td></td>\n",
       "      <td>RAMP @ EMMET ST</td>\n",
       "      <td>CPD</td>\n",
       "      <td>0816</td>\n",
       "      <td>Prevost, Payten</td>\n",
       "      <td>2025-07-05 08:16:14</td>\n",
       "      <td>2025-07-05 08:16:14 AM</td>\n",
       "      <td>Saturday</td>\n",
       "      <td>True</td>\n",
       "      <td>Summer</td>\n",
       "      <td>08:16 AM</td>\n",
       "      <td>Morning</td>\n",
       "      <td>RAMP @ EMMET ST</td>\n",
       "      <td>NaN</td>\n",
       "      <td>NaN</td>\n",
       "      <td>N/A</td>\n",
       "      <td>N/A</td>\n",
       "    </tr>\n",
       "    <tr>\n",
       "      <th>4</th>\n",
       "      <td>5</td>\n",
       "      <td>Assault Aggravated</td>\n",
       "      <td>202500023203</td>\n",
       "      <td>700</td>\n",
       "      <td>ORANGEDALE AVE</td>\n",
       "      <td>CPD</td>\n",
       "      <td>2323</td>\n",
       "      <td>Troche, Nicholas</td>\n",
       "      <td>2025-07-04 23:23:21</td>\n",
       "      <td>2025-07-04 11:23:21 PM</td>\n",
       "      <td>Friday</td>\n",
       "      <td>False</td>\n",
       "      <td>Summer</td>\n",
       "      <td>11:23 PM</td>\n",
       "      <td>Night</td>\n",
       "      <td>700 ORANGEDALE AVE</td>\n",
       "      <td>38.024611</td>\n",
       "      <td>-78.495419</td>\n",
       "      <td>Fifeville</td>\n",
       "      <td>22903</td>\n",
       "    </tr>\n",
       "  </tbody>\n",
       "</table>\n",
       "</div>"
      ],
      "text/plain": [
       "   RecordID                          Offense    IncidentID BlockNumber  \\\n",
       "0         1         Drug Equipment Violation  202500023266        1300   \n",
       "1         2             Assault Intimidation  202500023265         600   \n",
       "2         3  Assist Citizen - Mental/TDO/ECO  202500023251        2000   \n",
       "3         4                      Hit and Run  202500023237               \n",
       "4         5               Assault Aggravated  202500023203         700   \n",
       "\n",
       "        StreetName Agency HourReported   ReportingOfficer                Date  \\\n",
       "0      CARLTON AVE    CPD         1353   O'Briant, Landon 2025-07-05 13:53:36   \n",
       "1     MASON ST, A1    CPD         1329  Eckenroth, Rachel 2025-07-05 13:29:53   \n",
       "2   MEADOWBROOK RD    CPD         1025   Schwartz, Honora 2025-07-05 10:25:02   \n",
       "3  RAMP @ EMMET ST    CPD         0816    Prevost, Payten 2025-07-05 08:16:14   \n",
       "4   ORANGEDALE AVE    CPD         2323   Troche, Nicholas 2025-07-04 23:23:21   \n",
       "\n",
       "               DateString DayOfWeek  Weekend  Season  HourAMPM  TimeOfDay  \\\n",
       "0  2025-07-05 01:53:36 PM  Saturday     True  Summer  01:53 PM  Afternoon   \n",
       "1  2025-07-05 01:29:53 PM  Saturday     True  Summer  01:29 PM  Afternoon   \n",
       "2  2025-07-05 10:25:02 AM  Saturday     True  Summer  10:25 AM    Morning   \n",
       "3  2025-07-05 08:16:14 AM  Saturday     True  Summer  08:16 AM    Morning   \n",
       "4  2025-07-04 11:23:21 PM    Friday    False  Summer  11:23 PM      Night   \n",
       "\n",
       "            FullStreet        lat        lon    neighborhood    zip  \n",
       "0     1300 CARLTON AVE  38.022060 -78.469336         Belmont  22902  \n",
       "1     600 MASON ST, A1        NaN        NaN             N/A    N/A  \n",
       "2  2000 MEADOWBROOK RD  38.054350 -78.494263  Barracks Rugby  22903  \n",
       "3      RAMP @ EMMET ST        NaN        NaN             N/A    N/A  \n",
       "4   700 ORANGEDALE AVE  38.024611 -78.495419       Fifeville  22903  "
      ]
     },
     "execution_count": 11,
     "metadata": {},
     "output_type": "execute_result"
    }
   ],
   "source": [
    "# Initialize the geocoder.\n",
    "geolocator = Nominatim(user_agent=\"zip_lookup\")\n",
    "\n",
    "# Try to load a persistent ZIP cache if available.\n",
    "try:\n",
    "    with open(\"zip_cache.pkl\", \"rb\") as f:\n",
    "        zip_cache = pickle.load(f)\n",
    "    print(\"Loaded zip cache.\")\n",
    "except FileNotFoundError:\n",
    "    zip_cache = {}\n",
    "    print(\"No zip cache found; starting fresh.\")\n",
    "\n",
    "def get_zip(lat, lon):\n",
    "    \"\"\"\n",
    "    Reverse geocodes a latitude and longitude to retrieve the ZIP code.\n",
    "    Caches results to speed up subsequent lookups.\n",
    "    \"\"\"\n",
    "    key = (lat, lon)\n",
    "    if key in zip_cache:\n",
    "        return zip_cache[key]\n",
    "    \n",
    "    try:\n",
    "        location = geolocator.reverse((lat, lon), exactly_one=True, timeout=10)\n",
    "        address = location.raw.get('address', {})\n",
    "        postal_code = address.get('postcode', \"N/A\")\n",
    "    except Exception as e:\n",
    "        print(f\"Error getting ZIP for {lat}, {lon}: {e}\")\n",
    "        postal_code = \"N/A\"\n",
    "    \n",
    "    zip_cache[key] = postal_code\n",
    "    # Pause to respect the usage policy.\n",
    "    time.sleep(1)\n",
    "    return postal_code\n",
    "\n",
    "# Apply the function to each row in the DataFrame.\n",
    "df['zip'] = df.apply(lambda row: get_zip(row['lat'], row['lon']), axis=1)\n",
    "\n",
    "# Save the updated ZIP cache.\n",
    "with open(\"zip_cache.pkl\", \"wb\") as f:\n",
    "    pickle.dump(zip_cache, f)\n",
    "\n",
    "df.head()\n"
   ]
  },
  {
   "cell_type": "code",
   "execution_count": 12,
   "id": "54795398",
   "metadata": {
    "execution": {
     "iopub.execute_input": "2025-07-08T01:07:47.907124Z",
     "iopub.status.busy": "2025-07-08T01:07:47.906680Z",
     "iopub.status.idle": "2025-07-08T01:07:47.933729Z",
     "shell.execute_reply": "2025-07-08T01:07:47.933174Z"
    },
    "papermill": {
     "duration": 0.035732,
     "end_time": "2025-07-08T01:07:47.934776",
     "exception": false,
     "start_time": "2025-07-08T01:07:47.899044",
     "status": "completed"
    },
    "tags": []
   },
   "outputs": [
    {
     "name": "stdout",
     "output_type": "stream",
     "text": [
      "                  MissingCount  MissingPercentage\n",
      "RecordID                     0               0.00\n",
      "Offense                      0               0.00\n",
      "IncidentID                   0               0.00\n",
      "BlockNumber                  0               0.00\n",
      "StreetName                   0               0.00\n",
      "Agency                       0               0.00\n",
      "HourReported                 0               0.00\n",
      "ReportingOfficer            17               0.07\n",
      "Date                         0               0.00\n",
      "DateString                   0               0.00\n",
      "DayOfWeek                    0               0.00\n",
      "Weekend                      0               0.00\n",
      "Season                       0               0.00\n",
      "HourAMPM                     0               0.00\n",
      "TimeOfDay                    0               0.00\n",
      "FullStreet                   0               0.00\n",
      "lat                         43               0.17\n",
      "lon                         43               0.17\n",
      "neighborhood                 0               0.00\n",
      "zip                          0               0.00\n"
     ]
    }
   ],
   "source": [
    "missing_info = missing_percentage(df)\n",
    "print(missing_info)\n"
   ]
  },
  {
   "cell_type": "code",
   "execution_count": 13,
   "id": "2b9d4114",
   "metadata": {
    "execution": {
     "iopub.execute_input": "2025-07-08T01:07:47.950023Z",
     "iopub.status.busy": "2025-07-08T01:07:47.949769Z",
     "iopub.status.idle": "2025-07-08T01:07:47.976547Z",
     "shell.execute_reply": "2025-07-08T01:07:47.975997Z"
    },
    "papermill": {
     "duration": 0.035397,
     "end_time": "2025-07-08T01:07:47.977503",
     "exception": false,
     "start_time": "2025-07-08T01:07:47.942106",
     "status": "completed"
    },
    "tags": []
   },
   "outputs": [
    {
     "name": "stdout",
     "output_type": "stream",
     "text": [
      "<class 'pandas.core.frame.DataFrame'>\n",
      "RangeIndex: 25533 entries, 0 to 25532\n",
      "Data columns (total 20 columns):\n",
      " #   Column            Non-Null Count  Dtype         \n",
      "---  ------            --------------  -----         \n",
      " 0   RecordID          25533 non-null  int64         \n",
      " 1   Offense           25533 non-null  object        \n",
      " 2   IncidentID        25533 non-null  object        \n",
      " 3   BlockNumber       25533 non-null  object        \n",
      " 4   StreetName        25533 non-null  object        \n",
      " 5   Agency            25533 non-null  object        \n",
      " 6   HourReported      25533 non-null  object        \n",
      " 7   ReportingOfficer  25516 non-null  object        \n",
      " 8   Date              25533 non-null  datetime64[ns]\n",
      " 9   DateString        25533 non-null  object        \n",
      " 10  DayOfWeek         25533 non-null  object        \n",
      " 11  Weekend           25533 non-null  bool          \n",
      " 12  Season            25533 non-null  object        \n",
      " 13  HourAMPM          25533 non-null  object        \n",
      " 14  TimeOfDay         25533 non-null  object        \n",
      " 15  FullStreet        25533 non-null  object        \n",
      " 16  lat               25490 non-null  float64       \n",
      " 17  lon               25490 non-null  float64       \n",
      " 18  neighborhood      25533 non-null  object        \n",
      " 19  zip               25533 non-null  object        \n",
      "dtypes: bool(1), datetime64[ns](1), float64(2), int64(1), object(15)\n",
      "memory usage: 3.7+ MB\n"
     ]
    }
   ],
   "source": [
    "df.info()"
   ]
  },
  {
   "cell_type": "code",
   "execution_count": 14,
   "id": "c65a13b9",
   "metadata": {
    "execution": {
     "iopub.execute_input": "2025-07-08T01:07:47.992985Z",
     "iopub.status.busy": "2025-07-08T01:07:47.992737Z",
     "iopub.status.idle": "2025-07-08T01:07:48.032804Z",
     "shell.execute_reply": "2025-07-08T01:07:48.032104Z"
    },
    "papermill": {
     "duration": 0.048877,
     "end_time": "2025-07-08T01:07:48.033833",
     "exception": false,
     "start_time": "2025-07-08T01:07:47.984956",
     "status": "completed"
    },
    "tags": []
   },
   "outputs": [
    {
     "data": {
      "text/html": [
       "<div>\n",
       "<style scoped>\n",
       "    .dataframe tbody tr th:only-of-type {\n",
       "        vertical-align: middle;\n",
       "    }\n",
       "\n",
       "    .dataframe tbody tr th {\n",
       "        vertical-align: top;\n",
       "    }\n",
       "\n",
       "    .dataframe thead th {\n",
       "        text-align: right;\n",
       "    }\n",
       "</style>\n",
       "<table border=\"1\" class=\"dataframe\">\n",
       "  <thead>\n",
       "    <tr style=\"text-align: right;\">\n",
       "      <th></th>\n",
       "      <th>RecordID</th>\n",
       "      <th>Offense</th>\n",
       "      <th>IncidentID</th>\n",
       "      <th>Agency</th>\n",
       "      <th>ReportingOfficer</th>\n",
       "      <th>Date</th>\n",
       "      <th>DayOfWeek</th>\n",
       "      <th>Weekend</th>\n",
       "      <th>Season</th>\n",
       "      <th>TimeOfDay</th>\n",
       "      <th>FullStreet</th>\n",
       "      <th>lat</th>\n",
       "      <th>lon</th>\n",
       "      <th>neighborhood</th>\n",
       "      <th>zip</th>\n",
       "    </tr>\n",
       "  </thead>\n",
       "  <tbody>\n",
       "    <tr>\n",
       "      <th>0</th>\n",
       "      <td>1</td>\n",
       "      <td>Drug Equipment Violation</td>\n",
       "      <td>202500023266</td>\n",
       "      <td>CPD</td>\n",
       "      <td>O'Briant, Landon</td>\n",
       "      <td>2025-07-05 13:53:36</td>\n",
       "      <td>Saturday</td>\n",
       "      <td>True</td>\n",
       "      <td>Summer</td>\n",
       "      <td>Afternoon</td>\n",
       "      <td>1300 CARLTON AVE</td>\n",
       "      <td>38.02206</td>\n",
       "      <td>-78.469336</td>\n",
       "      <td>Belmont</td>\n",
       "      <td>22902</td>\n",
       "    </tr>\n",
       "    <tr>\n",
       "      <th>1</th>\n",
       "      <td>2</td>\n",
       "      <td>Assault Intimidation</td>\n",
       "      <td>202500023265</td>\n",
       "      <td>CPD</td>\n",
       "      <td>Eckenroth, Rachel</td>\n",
       "      <td>2025-07-05 13:29:53</td>\n",
       "      <td>Saturday</td>\n",
       "      <td>True</td>\n",
       "      <td>Summer</td>\n",
       "      <td>Afternoon</td>\n",
       "      <td>600 MASON ST, A1</td>\n",
       "      <td>N/A</td>\n",
       "      <td>N/A</td>\n",
       "      <td>N/A</td>\n",
       "      <td>N/A</td>\n",
       "    </tr>\n",
       "    <tr>\n",
       "      <th>2</th>\n",
       "      <td>3</td>\n",
       "      <td>Assist Citizen - Mental/TDO/ECO</td>\n",
       "      <td>202500023251</td>\n",
       "      <td>CPD</td>\n",
       "      <td>Schwartz, Honora</td>\n",
       "      <td>2025-07-05 10:25:02</td>\n",
       "      <td>Saturday</td>\n",
       "      <td>True</td>\n",
       "      <td>Summer</td>\n",
       "      <td>Morning</td>\n",
       "      <td>2000 MEADOWBROOK RD</td>\n",
       "      <td>38.05435</td>\n",
       "      <td>-78.494263</td>\n",
       "      <td>Barracks Rugby</td>\n",
       "      <td>22903</td>\n",
       "    </tr>\n",
       "    <tr>\n",
       "      <th>3</th>\n",
       "      <td>4</td>\n",
       "      <td>Hit and Run</td>\n",
       "      <td>202500023237</td>\n",
       "      <td>CPD</td>\n",
       "      <td>Prevost, Payten</td>\n",
       "      <td>2025-07-05 08:16:14</td>\n",
       "      <td>Saturday</td>\n",
       "      <td>True</td>\n",
       "      <td>Summer</td>\n",
       "      <td>Morning</td>\n",
       "      <td>RAMP @ EMMET ST</td>\n",
       "      <td>N/A</td>\n",
       "      <td>N/A</td>\n",
       "      <td>N/A</td>\n",
       "      <td>N/A</td>\n",
       "    </tr>\n",
       "    <tr>\n",
       "      <th>4</th>\n",
       "      <td>5</td>\n",
       "      <td>Assault Aggravated</td>\n",
       "      <td>202500023203</td>\n",
       "      <td>CPD</td>\n",
       "      <td>Troche, Nicholas</td>\n",
       "      <td>2025-07-04 23:23:21</td>\n",
       "      <td>Friday</td>\n",
       "      <td>False</td>\n",
       "      <td>Summer</td>\n",
       "      <td>Night</td>\n",
       "      <td>700 ORANGEDALE AVE</td>\n",
       "      <td>38.024611</td>\n",
       "      <td>-78.495419</td>\n",
       "      <td>Fifeville</td>\n",
       "      <td>22903</td>\n",
       "    </tr>\n",
       "  </tbody>\n",
       "</table>\n",
       "</div>"
      ],
      "text/plain": [
       "   RecordID                          Offense    IncidentID Agency  \\\n",
       "0         1         Drug Equipment Violation  202500023266    CPD   \n",
       "1         2             Assault Intimidation  202500023265    CPD   \n",
       "2         3  Assist Citizen - Mental/TDO/ECO  202500023251    CPD   \n",
       "3         4                      Hit and Run  202500023237    CPD   \n",
       "4         5               Assault Aggravated  202500023203    CPD   \n",
       "\n",
       "    ReportingOfficer                Date DayOfWeek  Weekend  Season  \\\n",
       "0   O'Briant, Landon 2025-07-05 13:53:36  Saturday     True  Summer   \n",
       "1  Eckenroth, Rachel 2025-07-05 13:29:53  Saturday     True  Summer   \n",
       "2   Schwartz, Honora 2025-07-05 10:25:02  Saturday     True  Summer   \n",
       "3    Prevost, Payten 2025-07-05 08:16:14  Saturday     True  Summer   \n",
       "4   Troche, Nicholas 2025-07-04 23:23:21    Friday    False  Summer   \n",
       "\n",
       "   TimeOfDay           FullStreet        lat        lon    neighborhood    zip  \n",
       "0  Afternoon     1300 CARLTON AVE   38.02206 -78.469336         Belmont  22902  \n",
       "1  Afternoon     600 MASON ST, A1        N/A        N/A             N/A    N/A  \n",
       "2    Morning  2000 MEADOWBROOK RD   38.05435 -78.494263  Barracks Rugby  22903  \n",
       "3    Morning      RAMP @ EMMET ST        N/A        N/A             N/A    N/A  \n",
       "4      Night   700 ORANGEDALE AVE  38.024611 -78.495419       Fifeville  22903  "
      ]
     },
     "execution_count": 14,
     "metadata": {},
     "output_type": "execute_result"
    }
   ],
   "source": [
    "# Now drop the original BlockNumber and StreetName columns\n",
    "df.drop(columns=['BlockNumber', 'StreetName','HourAMPM','HourReported','DateString'], inplace=True)\n",
    "df[\"zip\"] = df[\"zip\"].astype(str)\n",
    "\n",
    "# Fill all missing values in the DataFrame with \"N/A\"\n",
    "df.replace({None: \"N/A\", np.nan: \"N/A\", \"\": \"N/A\"}, inplace=True)\n",
    "df.head()"
   ]
  },
  {
   "cell_type": "code",
   "execution_count": 15,
   "id": "fd095363",
   "metadata": {
    "execution": {
     "iopub.execute_input": "2025-07-08T01:07:48.050194Z",
     "iopub.status.busy": "2025-07-08T01:07:48.049934Z",
     "iopub.status.idle": "2025-07-08T01:07:48.069292Z",
     "shell.execute_reply": "2025-07-08T01:07:48.068606Z"
    },
    "papermill": {
     "duration": 0.028655,
     "end_time": "2025-07-08T01:07:48.070350",
     "exception": false,
     "start_time": "2025-07-08T01:07:48.041695",
     "status": "completed"
    },
    "tags": []
   },
   "outputs": [
    {
     "name": "stdout",
     "output_type": "stream",
     "text": [
      "                  MissingCount  MissingPercentage\n",
      "RecordID                     0                0.0\n",
      "Offense                      0                0.0\n",
      "IncidentID                   0                0.0\n",
      "Agency                       0                0.0\n",
      "ReportingOfficer             0                0.0\n",
      "Date                         0                0.0\n",
      "DayOfWeek                    0                0.0\n",
      "Weekend                      0                0.0\n",
      "Season                       0                0.0\n",
      "TimeOfDay                    0                0.0\n",
      "FullStreet                   0                0.0\n",
      "lat                          0                0.0\n",
      "lon                          0                0.0\n",
      "neighborhood                 0                0.0\n",
      "zip                          0                0.0\n"
     ]
    }
   ],
   "source": [
    "missing_info = missing_percentage(df)\n",
    "print(missing_info)"
   ]
  },
  {
   "cell_type": "code",
   "execution_count": 16,
   "id": "ac7008cc",
   "metadata": {
    "execution": {
     "iopub.execute_input": "2025-07-08T01:07:48.086696Z",
     "iopub.status.busy": "2025-07-08T01:07:48.086410Z",
     "iopub.status.idle": "2025-07-08T01:07:48.091009Z",
     "shell.execute_reply": "2025-07-08T01:07:48.090377Z"
    },
    "papermill": {
     "duration": 0.013772,
     "end_time": "2025-07-08T01:07:48.091990",
     "exception": false,
     "start_time": "2025-07-08T01:07:48.078218",
     "status": "completed"
    },
    "tags": []
   },
   "outputs": [
    {
     "data": {
      "text/plain": [
       "Index(['RecordID', 'Offense', 'IncidentID', 'Agency', 'ReportingOfficer',\n",
       "       'Date', 'DayOfWeek', 'Weekend', 'Season', 'TimeOfDay', 'FullStreet',\n",
       "       'lat', 'lon', 'neighborhood', 'zip'],\n",
       "      dtype='object')"
      ]
     },
     "execution_count": 16,
     "metadata": {},
     "output_type": "execute_result"
    }
   ],
   "source": [
    "df.columns"
   ]
  },
  {
   "cell_type": "code",
   "execution_count": 17,
   "id": "1e821d3f",
   "metadata": {
    "execution": {
     "iopub.execute_input": "2025-07-08T01:07:48.108105Z",
     "iopub.status.busy": "2025-07-08T01:07:48.107908Z",
     "iopub.status.idle": "2025-07-08T01:07:48.130322Z",
     "shell.execute_reply": "2025-07-08T01:07:48.129791Z"
    },
    "papermill": {
     "duration": 0.031536,
     "end_time": "2025-07-08T01:07:48.131303",
     "exception": false,
     "start_time": "2025-07-08T01:07:48.099767",
     "status": "completed"
    },
    "tags": []
   },
   "outputs": [
    {
     "name": "stdout",
     "output_type": "stream",
     "text": [
      "<class 'pandas.core.frame.DataFrame'>\n",
      "RangeIndex: 25533 entries, 0 to 25532\n",
      "Data columns (total 15 columns):\n",
      " #   Column            Non-Null Count  Dtype         \n",
      "---  ------            --------------  -----         \n",
      " 0   RecordID          25533 non-null  int64         \n",
      " 1   Offense           25533 non-null  object        \n",
      " 2   IncidentID        25533 non-null  object        \n",
      " 3   Agency            25533 non-null  object        \n",
      " 4   ReportingOfficer  25533 non-null  object        \n",
      " 5   Date              25533 non-null  datetime64[ns]\n",
      " 6   DayOfWeek         25533 non-null  object        \n",
      " 7   Weekend           25533 non-null  bool          \n",
      " 8   Season            25533 non-null  object        \n",
      " 9   TimeOfDay         25533 non-null  object        \n",
      " 10  FullStreet        25533 non-null  object        \n",
      " 11  lat               25533 non-null  object        \n",
      " 12  lon               25533 non-null  object        \n",
      " 13  neighborhood      25533 non-null  object        \n",
      " 14  zip               25533 non-null  object        \n",
      "dtypes: bool(1), datetime64[ns](1), int64(1), object(12)\n",
      "memory usage: 2.8+ MB\n"
     ]
    }
   ],
   "source": [
    "df.info()"
   ]
  },
  {
   "cell_type": "markdown",
   "id": "8a02718e",
   "metadata": {
    "papermill": {
     "duration": 0.007503,
     "end_time": "2025-07-08T01:07:48.146712",
     "exception": false,
     "start_time": "2025-07-08T01:07:48.139209",
     "status": "completed"
    },
    "tags": []
   },
   "source": [
    "### Export Clean Data"
   ]
  },
  {
   "cell_type": "code",
   "execution_count": 18,
   "id": "397289ff",
   "metadata": {
    "execution": {
     "iopub.execute_input": "2025-07-08T01:07:48.163334Z",
     "iopub.status.busy": "2025-07-08T01:07:48.162800Z",
     "iopub.status.idle": "2025-07-08T01:07:57.338136Z",
     "shell.execute_reply": "2025-07-08T01:07:57.337413Z"
    },
    "papermill": {
     "duration": 9.184817,
     "end_time": "2025-07-08T01:07:57.339285",
     "exception": false,
     "start_time": "2025-07-08T01:07:48.154468",
     "status": "completed"
    },
    "tags": []
   },
   "outputs": [
    {
     "name": "stdout",
     "output_type": "stream",
     "text": [
      "Project Root: /home/runner/work/crime-data/crime-data\n"
     ]
    },
    {
     "name": "stdout",
     "output_type": "stream",
     "text": [
      "Data saved to: /home/runner/work/crime-data/crime-data/data/charlottesville_crime_incidents.csv\n"
     ]
    },
    {
     "name": "stdout",
     "output_type": "stream",
     "text": [
      "Excel saved to: /home/runner/work/crime-data/crime-data/data/charlottesville_crime_incidents.xlsx\n"
     ]
    }
   ],
   "source": [
    "# Determine the project root (assuming papermill is run from the repository root)\n",
    "project_root = os.getcwd()\n",
    "print(\"Project Root:\", project_root)\n",
    "\n",
    "# Set the data directory within the project root\n",
    "data_dir = os.path.join(project_root, \"data\")\n",
    "\n",
    "# Ensure the \"data\" directory exists (create it if it doesn't)\n",
    "if not os.path.exists(data_dir):\n",
    "    os.makedirs(data_dir)\n",
    "\n",
    "# Export the DataFrame to CSV in the \"data\" folder located in the project root\n",
    "csv_path = os.path.join(data_dir, \"charlottesville_crime_incidents.csv\")\n",
    "df.to_csv(csv_path, index=False)\n",
    "print(\"Data saved to:\", csv_path)\n",
    "\n",
    "# Construct the path to your Excel file\n",
    "excel_path = os.path.join(data_dir, \"charlottesville_crime_incidents.xlsx\")\n",
    "\n",
    "# Export the DataFrame to Excel\n",
    "df.to_excel(excel_path, index=False)\n",
    "print(\"Excel saved to:\", excel_path)\n"
   ]
  }
 ],
 "metadata": {
  "kernelspec": {
   "display_name": "Python 3",
   "language": "python",
   "name": "python3"
  },
  "language_info": {
   "codemirror_mode": {
    "name": "ipython",
    "version": 3
   },
   "file_extension": ".py",
   "mimetype": "text/x-python",
   "name": "python",
   "nbconvert_exporter": "python",
   "pygments_lexer": "ipython3",
   "version": "3.9.23"
  },
  "papermill": {
   "default_parameters": {},
   "duration": 123.776302,
   "end_time": "2025-07-08T01:07:57.763067",
   "environment_variables": {},
   "exception": null,
   "input_path": "notebook/Crime Data.ipynb",
   "output_path": "notebook/Crime Data_output.ipynb",
   "parameters": {},
   "start_time": "2025-07-08T01:05:53.986765",
   "version": "2.6.0"
  }
 },
 "nbformat": 4,
 "nbformat_minor": 5
}