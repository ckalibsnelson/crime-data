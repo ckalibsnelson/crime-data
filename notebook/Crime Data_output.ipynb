{
 "cells": [
  {
   "cell_type": "markdown",
   "id": "f9473765",
   "metadata": {
    "papermill": {
     "duration": 0.005818,
     "end_time": "2025-10-08T00:13:34.440066",
     "exception": false,
     "start_time": "2025-10-08T00:13:34.434248",
     "status": "completed"
    },
    "tags": []
   },
   "source": [
    "# Charlottesville Open Data Porttal: Crime Data"
   ]
  },
  {
   "cell_type": "markdown",
   "id": "1542c7a3",
   "metadata": {
    "papermill": {
     "duration": 0.003308,
     "end_time": "2025-10-08T00:13:34.448725",
     "exception": false,
     "start_time": "2025-10-08T00:13:34.445417",
     "status": "completed"
    },
    "tags": []
   },
   "source": [
    "## Import Relevant Librarires & Set WD"
   ]
  },
  {
   "cell_type": "code",
   "execution_count": 1,
   "id": "e065e4f6",
   "metadata": {
    "execution": {
     "iopub.execute_input": "2025-10-08T00:13:34.456944Z",
     "iopub.status.busy": "2025-10-08T00:13:34.456565Z",
     "iopub.status.idle": "2025-10-08T00:13:35.247203Z",
     "shell.execute_reply": "2025-10-08T00:13:35.246260Z"
    },
    "papermill": {
     "duration": 0.797132,
     "end_time": "2025-10-08T00:13:35.249131",
     "exception": false,
     "start_time": "2025-10-08T00:13:34.451999",
     "status": "completed"
    },
    "tags": []
   },
   "outputs": [],
   "source": [
    "import requests\n",
    "import pandas as pd\n",
    "import numpy as np\n",
    "import pickle\n",
    "import googlemaps\n",
    "import plotly.express as px\n",
    "from geopy.geocoders import Nominatim\n",
    "import time\n",
    "from dotenv import load_dotenv\n",
    "import os\n",
    "\n",
    "env_path = os.path.join(\"..\", \".env\")\n",
    "#print(\"Looking for .env file at:\", os.path.abspath(env_path))\n",
    "load_dotenv(dotenv_path=env_path)\n",
    "\n",
    "# Retrieve the variables\n",
    "GOOGLE_API_KEY = os.getenv(\"GOOGLE_API_KEY\")\n",
    "WORKING_DIR = os.getenv(\"WORKING_DIR\")\n",
    "\n",
    "if GOOGLE_API_KEY is None or WORKING_DIR is None:\n",
    "    raise RuntimeError(\"No configuration found. Please ensure that your .env file exists with the required variables, or create a local config.py file.\")\n",
    "\n",
    "#print(\"Google API Key:\", GOOGLE_API_KEY)\n",
    "#print(\"Working Directory:\", WORKING_DIR)"
   ]
  },
  {
   "cell_type": "markdown",
   "id": "548fd1d3",
   "metadata": {
    "papermill": {
     "duration": 0.003382,
     "end_time": "2025-10-08T00:13:35.257334",
     "exception": false,
     "start_time": "2025-10-08T00:13:35.253952",
     "status": "completed"
    },
    "tags": []
   },
   "source": [
    "## Import Data\n",
    "\n",
    "URL: https://opendata.charlottesville.org/datasets/charlottesville::crime-data/about"
   ]
  },
  {
   "cell_type": "code",
   "execution_count": 2,
   "id": "f89681c4",
   "metadata": {
    "execution": {
     "iopub.execute_input": "2025-10-08T00:13:35.265314Z",
     "iopub.status.busy": "2025-10-08T00:13:35.264919Z",
     "iopub.status.idle": "2025-10-08T00:13:44.992086Z",
     "shell.execute_reply": "2025-10-08T00:13:44.991229Z"
    },
    "papermill": {
     "duration": 9.732555,
     "end_time": "2025-10-08T00:13:44.993311",
     "exception": false,
     "start_time": "2025-10-08T00:13:35.260756",
     "status": "completed"
    },
    "tags": []
   },
   "outputs": [
    {
     "name": "stdout",
     "output_type": "stream",
     "text": [
      "Total records imported: 25883\n"
     ]
    }
   ],
   "source": [
    "# Define the endpoint and initial parameters.\n",
    "url = \"https://gisweb.charlottesville.org/arcgis/rest/services/OpenData_2/MapServer/6/query\"\n",
    "params = {\n",
    "    \"where\": \"1=1\",\n",
    "    \"outFields\": \"*\",\n",
    "    \"outSR\": 4326,\n",
    "    \"f\": \"json\",\n",
    "    \"resultOffset\": 0,       # Starting index for results\n",
    "    \"resultRecordCount\": 10000  # Maximum records per batch (if allowed by the API)\n",
    "}\n",
    "\n",
    "records = []\n",
    "\n",
    "while True:\n",
    "    response = requests.get(url, params=params)\n",
    "    response.raise_for_status()\n",
    "    data = response.json()\n",
    "    \n",
    "    # Get the current batch of features.\n",
    "    features = data.get(\"features\", [])\n",
    "    if not features:\n",
    "        break\n",
    "\n",
    "    # Extract the attributes from the features.\n",
    "    batch_records = [feature.get(\"attributes\", {}) for feature in features]\n",
    "    records.extend(batch_records)\n",
    "    \n",
    "    # If the batch size is less than the requested count, we reached the end.\n",
    "    if len(features) < params[\"resultRecordCount\"]:\n",
    "        break\n",
    "\n",
    "    # Update the resultOffset for the next batch.\n",
    "    params[\"resultOffset\"] += params[\"resultRecordCount\"]\n",
    "\n",
    "# Create a DataFrame from the combined records.\n",
    "df = pd.DataFrame(records)\n",
    "print(\"Total records imported:\", len(df))\n"
   ]
  },
  {
   "cell_type": "code",
   "execution_count": 3,
   "id": "3a09f862",
   "metadata": {
    "execution": {
     "iopub.execute_input": "2025-10-08T00:13:45.002492Z",
     "iopub.status.busy": "2025-10-08T00:13:45.002202Z",
     "iopub.status.idle": "2025-10-08T00:13:45.016928Z",
     "shell.execute_reply": "2025-10-08T00:13:45.016182Z"
    },
    "papermill": {
     "duration": 0.020434,
     "end_time": "2025-10-08T00:13:45.018050",
     "exception": false,
     "start_time": "2025-10-08T00:13:44.997616",
     "status": "completed"
    },
    "tags": []
   },
   "outputs": [
    {
     "data": {
      "text/html": [
       "<div>\n",
       "<style scoped>\n",
       "    .dataframe tbody tr th:only-of-type {\n",
       "        vertical-align: middle;\n",
       "    }\n",
       "\n",
       "    .dataframe tbody tr th {\n",
       "        vertical-align: top;\n",
       "    }\n",
       "\n",
       "    .dataframe thead th {\n",
       "        text-align: right;\n",
       "    }\n",
       "</style>\n",
       "<table border=\"1\" class=\"dataframe\">\n",
       "  <thead>\n",
       "    <tr style=\"text-align: right;\">\n",
       "      <th></th>\n",
       "      <th>RecordID</th>\n",
       "      <th>Offense</th>\n",
       "      <th>IncidentID</th>\n",
       "      <th>BlockNumber</th>\n",
       "      <th>StreetName</th>\n",
       "      <th>Agency</th>\n",
       "      <th>DateReported</th>\n",
       "      <th>HourReported</th>\n",
       "      <th>ReportingOfficer</th>\n",
       "    </tr>\n",
       "  </thead>\n",
       "  <tbody>\n",
       "    <tr>\n",
       "      <th>0</th>\n",
       "      <td>1</td>\n",
       "      <td>Assist Citizen - Mental/TDO/ECO</td>\n",
       "      <td>202500036139</td>\n",
       "      <td>600</td>\n",
       "      <td>PRESTON AVE</td>\n",
       "      <td>CPD</td>\n",
       "      <td>1759715956000</td>\n",
       "      <td>2159</td>\n",
       "      <td>Urban, Jacob</td>\n",
       "    </tr>\n",
       "    <tr>\n",
       "      <th>1</th>\n",
       "      <td>2</td>\n",
       "      <td>Vandalism</td>\n",
       "      <td>202500036121</td>\n",
       "      <td>1100</td>\n",
       "      <td>W MAIN ST</td>\n",
       "      <td>CPD</td>\n",
       "      <td>1759709943000</td>\n",
       "      <td>2019</td>\n",
       "      <td>Wemple, Christopher</td>\n",
       "    </tr>\n",
       "    <tr>\n",
       "      <th>2</th>\n",
       "      <td>3</td>\n",
       "      <td>Drunkeness DIP</td>\n",
       "      <td>202500036107</td>\n",
       "      <td>600</td>\n",
       "      <td>E MARKET ST</td>\n",
       "      <td>CPD</td>\n",
       "      <td>1759703802000</td>\n",
       "      <td>1836</td>\n",
       "      <td>Benbow, Lauren</td>\n",
       "    </tr>\n",
       "    <tr>\n",
       "      <th>3</th>\n",
       "      <td>4</td>\n",
       "      <td>Disorderly Conduct</td>\n",
       "      <td>202500036101</td>\n",
       "      <td></td>\n",
       "      <td>E HIGH ST / 7TH ST NE</td>\n",
       "      <td>CPD</td>\n",
       "      <td>1759700939000</td>\n",
       "      <td>1748</td>\n",
       "      <td>Urban, Jacob</td>\n",
       "    </tr>\n",
       "    <tr>\n",
       "      <th>4</th>\n",
       "      <td>5</td>\n",
       "      <td>Assault Simple</td>\n",
       "      <td>202500036097</td>\n",
       "      <td>600</td>\n",
       "      <td>6TH ST SE, 309</td>\n",
       "      <td>CPD</td>\n",
       "      <td>1759699122000</td>\n",
       "      <td>1718</td>\n",
       "      <td>Vlasis, Christopher</td>\n",
       "    </tr>\n",
       "  </tbody>\n",
       "</table>\n",
       "</div>"
      ],
      "text/plain": [
       "   RecordID                          Offense    IncidentID BlockNumber  \\\n",
       "0         1  Assist Citizen - Mental/TDO/ECO  202500036139         600   \n",
       "1         2                        Vandalism  202500036121        1100   \n",
       "2         3                   Drunkeness DIP  202500036107         600   \n",
       "3         4               Disorderly Conduct  202500036101               \n",
       "4         5                   Assault Simple  202500036097         600   \n",
       "\n",
       "              StreetName Agency   DateReported HourReported  \\\n",
       "0            PRESTON AVE    CPD  1759715956000         2159   \n",
       "1              W MAIN ST    CPD  1759709943000         2019   \n",
       "2            E MARKET ST    CPD  1759703802000         1836   \n",
       "3  E HIGH ST / 7TH ST NE    CPD  1759700939000         1748   \n",
       "4         6TH ST SE, 309    CPD  1759699122000         1718   \n",
       "\n",
       "      ReportingOfficer  \n",
       "0         Urban, Jacob  \n",
       "1  Wemple, Christopher  \n",
       "2       Benbow, Lauren  \n",
       "3         Urban, Jacob  \n",
       "4  Vlasis, Christopher  "
      ]
     },
     "execution_count": 3,
     "metadata": {},
     "output_type": "execute_result"
    }
   ],
   "source": [
    "df.head()"
   ]
  },
  {
   "cell_type": "code",
   "execution_count": 4,
   "id": "6553148c",
   "metadata": {
    "execution": {
     "iopub.execute_input": "2025-10-08T00:13:45.026449Z",
     "iopub.status.busy": "2025-10-08T00:13:45.026255Z",
     "iopub.status.idle": "2025-10-08T00:13:45.030595Z",
     "shell.execute_reply": "2025-10-08T00:13:45.030039Z"
    },
    "papermill": {
     "duration": 0.009729,
     "end_time": "2025-10-08T00:13:45.031642",
     "exception": false,
     "start_time": "2025-10-08T00:13:45.021913",
     "status": "completed"
    },
    "tags": []
   },
   "outputs": [
    {
     "data": {
      "text/plain": [
       "Index(['RecordID', 'Offense', 'IncidentID', 'BlockNumber', 'StreetName',\n",
       "       'Agency', 'DateReported', 'HourReported', 'ReportingOfficer'],\n",
       "      dtype='object')"
      ]
     },
     "execution_count": 4,
     "metadata": {},
     "output_type": "execute_result"
    }
   ],
   "source": [
    "df.columns"
   ]
  },
  {
   "cell_type": "code",
   "execution_count": 5,
   "id": "d9413e6b",
   "metadata": {
    "execution": {
     "iopub.execute_input": "2025-10-08T00:13:45.040157Z",
     "iopub.status.busy": "2025-10-08T00:13:45.039966Z",
     "iopub.status.idle": "2025-10-08T00:13:45.080978Z",
     "shell.execute_reply": "2025-10-08T00:13:45.080270Z"
    },
    "papermill": {
     "duration": 0.046585,
     "end_time": "2025-10-08T00:13:45.082202",
     "exception": false,
     "start_time": "2025-10-08T00:13:45.035617",
     "status": "completed"
    },
    "tags": []
   },
   "outputs": [
    {
     "name": "stdout",
     "output_type": "stream",
     "text": [
      "<class 'pandas.core.frame.DataFrame'>\n",
      "RangeIndex: 25883 entries, 0 to 25882\n",
      "Data columns (total 9 columns):\n",
      " #   Column            Non-Null Count  Dtype \n",
      "---  ------            --------------  ----- \n",
      " 0   RecordID          25883 non-null  int64 \n",
      " 1   Offense           25883 non-null  object\n",
      " 2   IncidentID        25883 non-null  object\n",
      " 3   BlockNumber       25883 non-null  object\n",
      " 4   StreetName        25883 non-null  object\n",
      " 5   Agency            25883 non-null  object\n",
      " 6   DateReported      25883 non-null  int64 \n",
      " 7   HourReported      25883 non-null  object\n",
      " 8   ReportingOfficer  25870 non-null  object\n",
      "dtypes: int64(2), object(7)\n",
      "memory usage: 1.8+ MB\n"
     ]
    }
   ],
   "source": [
    "df.info()"
   ]
  },
  {
   "cell_type": "markdown",
   "id": "d64089ef",
   "metadata": {
    "papermill": {
     "duration": 0.003973,
     "end_time": "2025-10-08T00:13:45.091009",
     "exception": false,
     "start_time": "2025-10-08T00:13:45.087036",
     "status": "completed"
    },
    "tags": []
   },
   "source": [
    "### Missing Values"
   ]
  },
  {
   "cell_type": "code",
   "execution_count": 6,
   "id": "39b29137",
   "metadata": {
    "execution": {
     "iopub.execute_input": "2025-10-08T00:13:45.099820Z",
     "iopub.status.busy": "2025-10-08T00:13:45.099512Z",
     "iopub.status.idle": "2025-10-08T00:13:45.144534Z",
     "shell.execute_reply": "2025-10-08T00:13:45.143810Z"
    },
    "papermill": {
     "duration": 0.050898,
     "end_time": "2025-10-08T00:13:45.145740",
     "exception": false,
     "start_time": "2025-10-08T00:13:45.094842",
     "status": "completed"
    },
    "tags": []
   },
   "outputs": [
    {
     "name": "stdout",
     "output_type": "stream",
     "text": [
      "                  MissingCount  MissingPercentage\n",
      "RecordID                     0               0.00\n",
      "Offense                      0               0.00\n",
      "IncidentID                   0               0.00\n",
      "BlockNumber                  0               0.00\n",
      "StreetName                   0               0.00\n",
      "Agency                       0               0.00\n",
      "DateReported                 0               0.00\n",
      "HourReported                 0               0.00\n",
      "ReportingOfficer            13               0.05\n"
     ]
    }
   ],
   "source": [
    "def missing_percentage(df):\n",
    "    \"\"\"\n",
    "    Returns a DataFrame with the count and percentage of missing values for each column.\n",
    "    \n",
    "    Parameters:\n",
    "        df (pd.DataFrame): The input DataFrame.\n",
    "    \n",
    "    Returns:\n",
    "        pd.DataFrame: A DataFrame with columns 'MissingCount' and 'MissingPercentage'.\n",
    "    \"\"\"\n",
    "    total_rows = len(df)\n",
    "    missing_count = df.isnull().sum()\n",
    "    missing_percent = (missing_count / total_rows) * 100\n",
    "    \n",
    "    result = pd.DataFrame({\n",
    "        'MissingCount': missing_count,\n",
    "        'MissingPercentage': missing_percent.round(2)\n",
    "    })\n",
    "    \n",
    "    return result\n",
    "\n",
    "# Example usage:\n",
    "missing_info = missing_percentage(df)\n",
    "print(missing_info)\n"
   ]
  },
  {
   "cell_type": "markdown",
   "id": "b8fdd73e",
   "metadata": {
    "papermill": {
     "duration": 0.00419,
     "end_time": "2025-10-08T00:13:45.155186",
     "exception": false,
     "start_time": "2025-10-08T00:13:45.150996",
     "status": "completed"
    },
    "tags": []
   },
   "source": [
    "## Data Preparation"
   ]
  },
  {
   "cell_type": "markdown",
   "id": "71044fde",
   "metadata": {
    "papermill": {
     "duration": 0.003903,
     "end_time": "2025-10-08T00:13:45.163121",
     "exception": false,
     "start_time": "2025-10-08T00:13:45.159218",
     "status": "completed"
    },
    "tags": []
   },
   "source": [
    "### Data Conversion"
   ]
  },
  {
   "cell_type": "code",
   "execution_count": 7,
   "id": "fc920d75",
   "metadata": {
    "execution": {
     "iopub.execute_input": "2025-10-08T00:13:45.172627Z",
     "iopub.status.busy": "2025-10-08T00:13:45.172266Z",
     "iopub.status.idle": "2025-10-08T00:13:45.570769Z",
     "shell.execute_reply": "2025-10-08T00:13:45.570048Z"
    },
    "papermill": {
     "duration": 0.404798,
     "end_time": "2025-10-08T00:13:45.571916",
     "exception": false,
     "start_time": "2025-10-08T00:13:45.167118",
     "status": "completed"
    },
    "tags": []
   },
   "outputs": [
    {
     "data": {
      "text/html": [
       "<div>\n",
       "<style scoped>\n",
       "    .dataframe tbody tr th:only-of-type {\n",
       "        vertical-align: middle;\n",
       "    }\n",
       "\n",
       "    .dataframe tbody tr th {\n",
       "        vertical-align: top;\n",
       "    }\n",
       "\n",
       "    .dataframe thead th {\n",
       "        text-align: right;\n",
       "    }\n",
       "</style>\n",
       "<table border=\"1\" class=\"dataframe\">\n",
       "  <thead>\n",
       "    <tr style=\"text-align: right;\">\n",
       "      <th></th>\n",
       "      <th>RecordID</th>\n",
       "      <th>Offense</th>\n",
       "      <th>IncidentID</th>\n",
       "      <th>BlockNumber</th>\n",
       "      <th>StreetName</th>\n",
       "      <th>Agency</th>\n",
       "      <th>HourReported</th>\n",
       "      <th>ReportingOfficer</th>\n",
       "      <th>Date</th>\n",
       "      <th>DateString</th>\n",
       "      <th>DayOfWeek</th>\n",
       "      <th>Weekend</th>\n",
       "      <th>Season</th>\n",
       "      <th>HourAMPM</th>\n",
       "      <th>TimeOfDay</th>\n",
       "    </tr>\n",
       "  </thead>\n",
       "  <tbody>\n",
       "    <tr>\n",
       "      <th>0</th>\n",
       "      <td>1</td>\n",
       "      <td>Assist Citizen - Mental/TDO/ECO</td>\n",
       "      <td>202500036139</td>\n",
       "      <td>600</td>\n",
       "      <td>PRESTON AVE</td>\n",
       "      <td>CPD</td>\n",
       "      <td>2159</td>\n",
       "      <td>Urban, Jacob</td>\n",
       "      <td>2025-10-05 21:59:16</td>\n",
       "      <td>2025-10-05 09:59:16 PM</td>\n",
       "      <td>Sunday</td>\n",
       "      <td>True</td>\n",
       "      <td>Autumn</td>\n",
       "      <td>09:59 PM</td>\n",
       "      <td>Night</td>\n",
       "    </tr>\n",
       "    <tr>\n",
       "      <th>1</th>\n",
       "      <td>2</td>\n",
       "      <td>Vandalism</td>\n",
       "      <td>202500036121</td>\n",
       "      <td>1100</td>\n",
       "      <td>W MAIN ST</td>\n",
       "      <td>CPD</td>\n",
       "      <td>2019</td>\n",
       "      <td>Wemple, Christopher</td>\n",
       "      <td>2025-10-05 20:19:03</td>\n",
       "      <td>2025-10-05 08:19:03 PM</td>\n",
       "      <td>Sunday</td>\n",
       "      <td>True</td>\n",
       "      <td>Autumn</td>\n",
       "      <td>08:19 PM</td>\n",
       "      <td>Evening</td>\n",
       "    </tr>\n",
       "    <tr>\n",
       "      <th>2</th>\n",
       "      <td>3</td>\n",
       "      <td>Drunkeness DIP</td>\n",
       "      <td>202500036107</td>\n",
       "      <td>600</td>\n",
       "      <td>E MARKET ST</td>\n",
       "      <td>CPD</td>\n",
       "      <td>1836</td>\n",
       "      <td>Benbow, Lauren</td>\n",
       "      <td>2025-10-05 18:36:42</td>\n",
       "      <td>2025-10-05 06:36:42 PM</td>\n",
       "      <td>Sunday</td>\n",
       "      <td>True</td>\n",
       "      <td>Autumn</td>\n",
       "      <td>06:36 PM</td>\n",
       "      <td>Evening</td>\n",
       "    </tr>\n",
       "    <tr>\n",
       "      <th>3</th>\n",
       "      <td>4</td>\n",
       "      <td>Disorderly Conduct</td>\n",
       "      <td>202500036101</td>\n",
       "      <td></td>\n",
       "      <td>E HIGH ST / 7TH ST NE</td>\n",
       "      <td>CPD</td>\n",
       "      <td>1748</td>\n",
       "      <td>Urban, Jacob</td>\n",
       "      <td>2025-10-05 17:48:59</td>\n",
       "      <td>2025-10-05 05:48:59 PM</td>\n",
       "      <td>Sunday</td>\n",
       "      <td>True</td>\n",
       "      <td>Autumn</td>\n",
       "      <td>05:48 PM</td>\n",
       "      <td>Evening</td>\n",
       "    </tr>\n",
       "    <tr>\n",
       "      <th>4</th>\n",
       "      <td>5</td>\n",
       "      <td>Assault Simple</td>\n",
       "      <td>202500036097</td>\n",
       "      <td>600</td>\n",
       "      <td>6TH ST SE, 309</td>\n",
       "      <td>CPD</td>\n",
       "      <td>1718</td>\n",
       "      <td>Vlasis, Christopher</td>\n",
       "      <td>2025-10-05 17:18:42</td>\n",
       "      <td>2025-10-05 05:18:42 PM</td>\n",
       "      <td>Sunday</td>\n",
       "      <td>True</td>\n",
       "      <td>Autumn</td>\n",
       "      <td>05:18 PM</td>\n",
       "      <td>Evening</td>\n",
       "    </tr>\n",
       "  </tbody>\n",
       "</table>\n",
       "</div>"
      ],
      "text/plain": [
       "   RecordID                          Offense    IncidentID BlockNumber  \\\n",
       "0         1  Assist Citizen - Mental/TDO/ECO  202500036139         600   \n",
       "1         2                        Vandalism  202500036121        1100   \n",
       "2         3                   Drunkeness DIP  202500036107         600   \n",
       "3         4               Disorderly Conduct  202500036101               \n",
       "4         5                   Assault Simple  202500036097         600   \n",
       "\n",
       "              StreetName Agency HourReported     ReportingOfficer  \\\n",
       "0            PRESTON AVE    CPD         2159         Urban, Jacob   \n",
       "1              W MAIN ST    CPD         2019  Wemple, Christopher   \n",
       "2            E MARKET ST    CPD         1836       Benbow, Lauren   \n",
       "3  E HIGH ST / 7TH ST NE    CPD         1748         Urban, Jacob   \n",
       "4         6TH ST SE, 309    CPD         1718  Vlasis, Christopher   \n",
       "\n",
       "                 Date              DateString DayOfWeek  Weekend  Season  \\\n",
       "0 2025-10-05 21:59:16  2025-10-05 09:59:16 PM    Sunday     True  Autumn   \n",
       "1 2025-10-05 20:19:03  2025-10-05 08:19:03 PM    Sunday     True  Autumn   \n",
       "2 2025-10-05 18:36:42  2025-10-05 06:36:42 PM    Sunday     True  Autumn   \n",
       "3 2025-10-05 17:48:59  2025-10-05 05:48:59 PM    Sunday     True  Autumn   \n",
       "4 2025-10-05 17:18:42  2025-10-05 05:18:42 PM    Sunday     True  Autumn   \n",
       "\n",
       "   HourAMPM TimeOfDay  \n",
       "0  09:59 PM     Night  \n",
       "1  08:19 PM   Evening  \n",
       "2  06:36 PM   Evening  \n",
       "3  05:48 PM   Evening  \n",
       "4  05:18 PM   Evening  "
      ]
     },
     "execution_count": 7,
     "metadata": {},
     "output_type": "execute_result"
    }
   ],
   "source": [
    "def convert_and_categorize_datereported(df, col='DateReported'):\n",
    "    \"\"\"\n",
    "    Converts an epoch (in milliseconds) date column into a timezone-aware datetime,\n",
    "    converts it to Eastern Time, and then creates columns for day-of-week, weekend flag,\n",
    "    season, 12-hour formatted time, and time-of-day. Keeps both a real datetime column\n",
    "    (Date) and a string representation (DateString).\n",
    "    \"\"\"\n",
    "    import pandas as pd\n",
    "\n",
    "    # Convert the epoch timestamp to a pandas datetime object as UTC, then convert to US/Eastern.\n",
    "    df[\"DateReported_dt\"] = (\n",
    "        pd.to_datetime(df[col], unit=\"ms\", errors=\"coerce\", utc=True)\n",
    "        .dt.tz_convert(\"US/Eastern\")\n",
    "    )\n",
    "    \n",
    "    # Create a true datetime column (remove timezone if you prefer naive datetime)\n",
    "    df[\"Date\"] = df[\"DateReported_dt\"].dt.tz_localize(None)\n",
    "\n",
    "    # Optionally, create a separate string-formatted column\n",
    "    df[\"DateString\"] = df[\"DateReported_dt\"].dt.strftime(\"%Y-%m-%d %I:%M:%S %p\")\n",
    "    \n",
    "    # DayOfWeek\n",
    "    df[\"DayOfWeek\"] = df[\"DateReported_dt\"].dt.day_name()\n",
    "    \n",
    "    # Weekend\n",
    "    df[\"Weekend\"] = df[\"DayOfWeek\"].isin([\"Saturday\", \"Sunday\"])\n",
    "    \n",
    "    # Helper function to determine the season\n",
    "    def get_season(dt):\n",
    "        month = dt.month\n",
    "        day = dt.day\n",
    "        # Approximate Northern Hemisphere season boundaries:\n",
    "        if (month == 12 and day >= 21) or (month < 3) or (month == 3 and day < 20):\n",
    "            return \"Winter\"\n",
    "        elif (month == 3 and day >= 20) or (month < 6) or (month == 6 and day < 21):\n",
    "            return \"Spring\"\n",
    "        elif (month == 6 and day >= 21) or (month < 9) or (month == 9 and day < 22):\n",
    "            return \"Summer\"\n",
    "        else:\n",
    "            return \"Autumn\"\n",
    "    \n",
    "    df[\"Season\"] = df[\"DateReported_dt\"].apply(get_season)\n",
    "    \n",
    "    # 12-hour formatted time (HourAMPM)\n",
    "    df[\"HourAMPM\"] = df[\"DateReported_dt\"].dt.strftime(\"%I:%M %p\")\n",
    "    \n",
    "    # Extract hour (0-23) for time-of-day\n",
    "    df[\"HourValue\"] = df[\"DateReported_dt\"].dt.hour\n",
    "    \n",
    "    def time_of_day(hour):\n",
    "        if pd.isnull(hour):\n",
    "            return None\n",
    "        if 5 <= hour < 12:\n",
    "            return \"Morning\"\n",
    "        elif 12 <= hour < 17:\n",
    "            return \"Afternoon\"\n",
    "        elif 17 <= hour < 21:\n",
    "            return \"Evening\"\n",
    "        else:\n",
    "            return \"Night\"\n",
    "    \n",
    "    df[\"TimeOfDay\"] = df[\"HourValue\"].apply(time_of_day)\n",
    "    \n",
    "    # Drop columns you no longer need\n",
    "    df.drop(columns=[col, \"DateReported_dt\", \"HourValue\"], inplace=True)\n",
    "    \n",
    "    return df\n",
    "\n",
    "# Example usage:\n",
    "df = convert_and_categorize_datereported(df)\n",
    "df.head()\n"
   ]
  },
  {
   "cell_type": "code",
   "execution_count": 8,
   "id": "82c8ca28",
   "metadata": {
    "execution": {
     "iopub.execute_input": "2025-10-08T00:13:45.582218Z",
     "iopub.status.busy": "2025-10-08T00:13:45.581959Z",
     "iopub.status.idle": "2025-10-08T00:13:45.626005Z",
     "shell.execute_reply": "2025-10-08T00:13:45.625349Z"
    },
    "papermill": {
     "duration": 0.050064,
     "end_time": "2025-10-08T00:13:45.627149",
     "exception": false,
     "start_time": "2025-10-08T00:13:45.577085",
     "status": "completed"
    },
    "tags": []
   },
   "outputs": [
    {
     "name": "stdout",
     "output_type": "stream",
     "text": [
      "<class 'pandas.core.frame.DataFrame'>\n",
      "RangeIndex: 25883 entries, 0 to 25882\n",
      "Data columns (total 15 columns):\n",
      " #   Column            Non-Null Count  Dtype         \n",
      "---  ------            --------------  -----         \n",
      " 0   RecordID          25883 non-null  int64         \n",
      " 1   Offense           25883 non-null  object        \n",
      " 2   IncidentID        25883 non-null  object        \n",
      " 3   BlockNumber       25883 non-null  object        \n",
      " 4   StreetName        25883 non-null  object        \n",
      " 5   Agency            25883 non-null  object        \n",
      " 6   HourReported      25883 non-null  object        \n",
      " 7   ReportingOfficer  25870 non-null  object        \n",
      " 8   Date              25883 non-null  datetime64[ns]\n",
      " 9   DateString        25883 non-null  object        \n",
      " 10  DayOfWeek         25883 non-null  object        \n",
      " 11  Weekend           25883 non-null  bool          \n",
      " 12  Season            25883 non-null  object        \n",
      " 13  HourAMPM          25883 non-null  object        \n",
      " 14  TimeOfDay         25883 non-null  object        \n",
      "dtypes: bool(1), datetime64[ns](1), int64(1), object(12)\n",
      "memory usage: 2.8+ MB\n"
     ]
    }
   ],
   "source": [
    "df.info()"
   ]
  },
  {
   "cell_type": "markdown",
   "id": "4bf5cc30",
   "metadata": {
    "papermill": {
     "duration": 0.004204,
     "end_time": "2025-10-08T00:13:45.636473",
     "exception": false,
     "start_time": "2025-10-08T00:13:45.632269",
     "status": "completed"
    },
    "tags": []
   },
   "source": [
    "### Coordinates"
   ]
  },
  {
   "cell_type": "code",
   "execution_count": 9,
   "id": "187660b8",
   "metadata": {
    "execution": {
     "iopub.execute_input": "2025-10-08T00:13:45.645872Z",
     "iopub.status.busy": "2025-10-08T00:13:45.645636Z",
     "iopub.status.idle": "2025-10-08T00:13:46.003707Z",
     "shell.execute_reply": "2025-10-08T00:13:46.003055Z"
    },
    "papermill": {
     "duration": 0.364261,
     "end_time": "2025-10-08T00:13:46.004880",
     "exception": false,
     "start_time": "2025-10-08T00:13:45.640619",
     "status": "completed"
    },
    "tags": []
   },
   "outputs": [
    {
     "name": "stdout",
     "output_type": "stream",
     "text": [
      "Loaded geocode cache.\n",
      "Error geocoding  E HIGH ST / 7TH ST NE: REQUEST_DENIED (You must enable Billing on the Google Cloud Project at https://console.cloud.google.com/project/_/billing/enable Learn more at https://developers.google.com/maps/gmp-get-started)\n",
      "Geocoded  E HIGH ST / 7TH ST NE: None, None\n"
     ]
    },
    {
     "name": "stdout",
     "output_type": "stream",
     "text": [
      "Error geocoding 200 E WATER ST, 2: REQUEST_DENIED (You must enable Billing on the Google Cloud Project at https://console.cloud.google.com/project/_/billing/enable Learn more at https://developers.google.com/maps/gmp-get-started)\n",
      "Geocoded 200 E WATER ST, 2: None, None\n",
      "Error geocoding  RIDGE ST / CHERRY AVE: REQUEST_DENIED (You must enable Billing on the Google Cloud Project at https://console.cloud.google.com/project/_/billing/enable Learn more at https://developers.google.com/maps/gmp-get-started)\n",
      "Geocoded  RIDGE ST / CHERRY AVE: None, None\n",
      "Geocode cache updated and saved.\n"
     ]
    },
    {
     "data": {
      "text/html": [
       "<div>\n",
       "<style scoped>\n",
       "    .dataframe tbody tr th:only-of-type {\n",
       "        vertical-align: middle;\n",
       "    }\n",
       "\n",
       "    .dataframe tbody tr th {\n",
       "        vertical-align: top;\n",
       "    }\n",
       "\n",
       "    .dataframe thead th {\n",
       "        text-align: right;\n",
       "    }\n",
       "</style>\n",
       "<table border=\"1\" class=\"dataframe\">\n",
       "  <thead>\n",
       "    <tr style=\"text-align: right;\">\n",
       "      <th></th>\n",
       "      <th>RecordID</th>\n",
       "      <th>Offense</th>\n",
       "      <th>IncidentID</th>\n",
       "      <th>BlockNumber</th>\n",
       "      <th>StreetName</th>\n",
       "      <th>Agency</th>\n",
       "      <th>HourReported</th>\n",
       "      <th>ReportingOfficer</th>\n",
       "      <th>Date</th>\n",
       "      <th>DateString</th>\n",
       "      <th>DayOfWeek</th>\n",
       "      <th>Weekend</th>\n",
       "      <th>Season</th>\n",
       "      <th>HourAMPM</th>\n",
       "      <th>TimeOfDay</th>\n",
       "      <th>FullStreet</th>\n",
       "      <th>lat</th>\n",
       "      <th>lon</th>\n",
       "    </tr>\n",
       "  </thead>\n",
       "  <tbody>\n",
       "    <tr>\n",
       "      <th>0</th>\n",
       "      <td>1</td>\n",
       "      <td>Assist Citizen - Mental/TDO/ECO</td>\n",
       "      <td>202500036139</td>\n",
       "      <td>600</td>\n",
       "      <td>PRESTON AVE</td>\n",
       "      <td>CPD</td>\n",
       "      <td>2159</td>\n",
       "      <td>Urban, Jacob</td>\n",
       "      <td>2025-10-05 21:59:16</td>\n",
       "      <td>2025-10-05 09:59:16 PM</td>\n",
       "      <td>Sunday</td>\n",
       "      <td>True</td>\n",
       "      <td>Autumn</td>\n",
       "      <td>09:59 PM</td>\n",
       "      <td>Night</td>\n",
       "      <td>600 PRESTON AVE</td>\n",
       "      <td>38.034709</td>\n",
       "      <td>-78.486265</td>\n",
       "    </tr>\n",
       "    <tr>\n",
       "      <th>1</th>\n",
       "      <td>2</td>\n",
       "      <td>Vandalism</td>\n",
       "      <td>202500036121</td>\n",
       "      <td>1100</td>\n",
       "      <td>W MAIN ST</td>\n",
       "      <td>CPD</td>\n",
       "      <td>2019</td>\n",
       "      <td>Wemple, Christopher</td>\n",
       "      <td>2025-10-05 20:19:03</td>\n",
       "      <td>2025-10-05 08:19:03 PM</td>\n",
       "      <td>Sunday</td>\n",
       "      <td>True</td>\n",
       "      <td>Autumn</td>\n",
       "      <td>08:19 PM</td>\n",
       "      <td>Evening</td>\n",
       "      <td>1100 W MAIN ST</td>\n",
       "      <td>38.032623</td>\n",
       "      <td>-78.496334</td>\n",
       "    </tr>\n",
       "    <tr>\n",
       "      <th>2</th>\n",
       "      <td>3</td>\n",
       "      <td>Drunkeness DIP</td>\n",
       "      <td>202500036107</td>\n",
       "      <td>600</td>\n",
       "      <td>E MARKET ST</td>\n",
       "      <td>CPD</td>\n",
       "      <td>1836</td>\n",
       "      <td>Benbow, Lauren</td>\n",
       "      <td>2025-10-05 18:36:42</td>\n",
       "      <td>2025-10-05 06:36:42 PM</td>\n",
       "      <td>Sunday</td>\n",
       "      <td>True</td>\n",
       "      <td>Autumn</td>\n",
       "      <td>06:36 PM</td>\n",
       "      <td>Evening</td>\n",
       "      <td>600 E MARKET ST</td>\n",
       "      <td>38.030175</td>\n",
       "      <td>-78.477574</td>\n",
       "    </tr>\n",
       "    <tr>\n",
       "      <th>3</th>\n",
       "      <td>4</td>\n",
       "      <td>Disorderly Conduct</td>\n",
       "      <td>202500036101</td>\n",
       "      <td></td>\n",
       "      <td>E HIGH ST / 7TH ST NE</td>\n",
       "      <td>CPD</td>\n",
       "      <td>1748</td>\n",
       "      <td>Urban, Jacob</td>\n",
       "      <td>2025-10-05 17:48:59</td>\n",
       "      <td>2025-10-05 05:48:59 PM</td>\n",
       "      <td>Sunday</td>\n",
       "      <td>True</td>\n",
       "      <td>Autumn</td>\n",
       "      <td>05:48 PM</td>\n",
       "      <td>Evening</td>\n",
       "      <td>E HIGH ST / 7TH ST NE</td>\n",
       "      <td>NaN</td>\n",
       "      <td>NaN</td>\n",
       "    </tr>\n",
       "    <tr>\n",
       "      <th>4</th>\n",
       "      <td>5</td>\n",
       "      <td>Assault Simple</td>\n",
       "      <td>202500036097</td>\n",
       "      <td>600</td>\n",
       "      <td>6TH ST SE, 309</td>\n",
       "      <td>CPD</td>\n",
       "      <td>1718</td>\n",
       "      <td>Vlasis, Christopher</td>\n",
       "      <td>2025-10-05 17:18:42</td>\n",
       "      <td>2025-10-05 05:18:42 PM</td>\n",
       "      <td>Sunday</td>\n",
       "      <td>True</td>\n",
       "      <td>Autumn</td>\n",
       "      <td>05:18 PM</td>\n",
       "      <td>Evening</td>\n",
       "      <td>600 6TH ST SE, 309</td>\n",
       "      <td>38.025815</td>\n",
       "      <td>-78.480160</td>\n",
       "    </tr>\n",
       "  </tbody>\n",
       "</table>\n",
       "</div>"
      ],
      "text/plain": [
       "   RecordID                          Offense    IncidentID BlockNumber  \\\n",
       "0         1  Assist Citizen - Mental/TDO/ECO  202500036139         600   \n",
       "1         2                        Vandalism  202500036121        1100   \n",
       "2         3                   Drunkeness DIP  202500036107         600   \n",
       "3         4               Disorderly Conduct  202500036101               \n",
       "4         5                   Assault Simple  202500036097         600   \n",
       "\n",
       "              StreetName Agency HourReported     ReportingOfficer  \\\n",
       "0            PRESTON AVE    CPD         2159         Urban, Jacob   \n",
       "1              W MAIN ST    CPD         2019  Wemple, Christopher   \n",
       "2            E MARKET ST    CPD         1836       Benbow, Lauren   \n",
       "3  E HIGH ST / 7TH ST NE    CPD         1748         Urban, Jacob   \n",
       "4         6TH ST SE, 309    CPD         1718  Vlasis, Christopher   \n",
       "\n",
       "                 Date              DateString DayOfWeek  Weekend  Season  \\\n",
       "0 2025-10-05 21:59:16  2025-10-05 09:59:16 PM    Sunday     True  Autumn   \n",
       "1 2025-10-05 20:19:03  2025-10-05 08:19:03 PM    Sunday     True  Autumn   \n",
       "2 2025-10-05 18:36:42  2025-10-05 06:36:42 PM    Sunday     True  Autumn   \n",
       "3 2025-10-05 17:48:59  2025-10-05 05:48:59 PM    Sunday     True  Autumn   \n",
       "4 2025-10-05 17:18:42  2025-10-05 05:18:42 PM    Sunday     True  Autumn   \n",
       "\n",
       "   HourAMPM TimeOfDay              FullStreet        lat        lon  \n",
       "0  09:59 PM     Night         600 PRESTON AVE  38.034709 -78.486265  \n",
       "1  08:19 PM   Evening          1100 W MAIN ST  38.032623 -78.496334  \n",
       "2  06:36 PM   Evening         600 E MARKET ST  38.030175 -78.477574  \n",
       "3  05:48 PM   Evening   E HIGH ST / 7TH ST NE        NaN        NaN  \n",
       "4  05:18 PM   Evening      600 6TH ST SE, 309  38.025815 -78.480160  "
      ]
     },
     "execution_count": 9,
     "metadata": {},
     "output_type": "execute_result"
    }
   ],
   "source": [
    "# Combine BlockNumber and StreetName into a full address string\n",
    "df['FullStreet'] = df['BlockNumber'].astype(str) + \" \" + df['StreetName']\n",
    "\n",
    "# --- Step 1: Setup the Google Maps Client and Cache ---\n",
    "gmaps = googlemaps.Client(key=GOOGLE_API_KEY)\n",
    "\n",
    "# Try to load cached geocoding results if available.\n",
    "try:\n",
    "    with open(\"geocode_cache_google.pkl\", \"rb\") as f:\n",
    "        street_coords = pickle.load(f)\n",
    "    print(\"Loaded geocode cache.\")\n",
    "except FileNotFoundError:\n",
    "    street_coords = {}\n",
    "    print(\"No cache found; starting fresh.\")\n",
    "\n",
    "def geocode_address(address):\n",
    "    try:\n",
    "        # Append city and state to help geocoding\n",
    "        result = gmaps.geocode(f\"{address}, Charlottesville, VA\")\n",
    "        if result:\n",
    "            lat = result[0]['geometry']['location']['lat']\n",
    "            lon = result[0]['geometry']['location']['lng']\n",
    "            return lat, lon\n",
    "    except Exception as e:\n",
    "        print(f\"Error geocoding {address}: {e}\")\n",
    "    return None, None\n",
    "\n",
    "# --- Step 2: Geocode Only New Addresses ---\n",
    "unique_addresses = df['FullStreet'].unique()\n",
    "for address in unique_addresses:\n",
    "    if address not in street_coords:\n",
    "        lat, lon = geocode_address(address)\n",
    "        street_coords[address] = (lat, lon)\n",
    "        print(f\"Geocoded {address}: {lat}, {lon}\")\n",
    "\n",
    "# Save the updated cache to disk.\n",
    "with open(\"geocode_cache_google.pkl\", \"wb\") as f:\n",
    "    pickle.dump(street_coords, f)\n",
    "    print(\"Geocode cache updated and saved.\")\n",
    "\n",
    "# --- Step 3: Map Coordinates Back to DataFrame ---\n",
    "df['lat'] = df['FullStreet'].map(lambda s: street_coords.get(s, (None, None))[0])\n",
    "df['lon'] = df['FullStreet'].map(lambda s: street_coords.get(s, (None, None))[1])\n",
    "\n",
    "df.head()"
   ]
  },
  {
   "cell_type": "markdown",
   "id": "dd80be59",
   "metadata": {
    "papermill": {
     "duration": 0.004798,
     "end_time": "2025-10-08T00:13:46.015247",
     "exception": false,
     "start_time": "2025-10-08T00:13:46.010449",
     "status": "completed"
    },
    "tags": []
   },
   "source": [
    "### Neighborhood"
   ]
  },
  {
   "cell_type": "code",
   "execution_count": 10,
   "id": "7dee56da",
   "metadata": {
    "execution": {
     "iopub.execute_input": "2025-10-08T00:13:46.025631Z",
     "iopub.status.busy": "2025-10-08T00:13:46.025410Z",
     "iopub.status.idle": "2025-10-08T00:13:52.971730Z",
     "shell.execute_reply": "2025-10-08T00:13:52.971014Z"
    },
    "papermill": {
     "duration": 6.953085,
     "end_time": "2025-10-08T00:13:52.973026",
     "exception": false,
     "start_time": "2025-10-08T00:13:46.019941",
     "status": "completed"
    },
    "tags": []
   },
   "outputs": [
    {
     "name": "stdout",
     "output_type": "stream",
     "text": [
      "Loaded neighborhood cache.\n"
     ]
    },
    {
     "name": "stdout",
     "output_type": "stream",
     "text": [
      "Error getting neighborhood for nan, nan: HTTP Error: 400\n",
      "Error getting neighborhood for nan, nan: HTTP Error: 400\n",
      "Error getting neighborhood for nan, nan: HTTP Error: 400\n",
      "Error getting neighborhood for nan, nan: HTTP Error: 400\n",
      "Error getting neighborhood for nan, nan: HTTP Error: 400\n",
      "Error getting neighborhood for nan, nan: HTTP Error: 400\n"
     ]
    },
    {
     "name": "stdout",
     "output_type": "stream",
     "text": [
      "Error getting neighborhood for nan, nan: HTTP Error: 400\n",
      "Error getting neighborhood for nan, nan: HTTP Error: 400\n",
      "Error getting neighborhood for nan, nan: HTTP Error: 400\n",
      "Error getting neighborhood for nan, nan: HTTP Error: 400\n",
      "Error getting neighborhood for nan, nan: HTTP Error: 400\n",
      "Error getting neighborhood for nan, nan: HTTP Error: 400\n",
      "Error getting neighborhood for nan, nan: HTTP Error: 400\n"
     ]
    },
    {
     "name": "stdout",
     "output_type": "stream",
     "text": [
      "Error getting neighborhood for nan, nan: HTTP Error: 400\n",
      "Error getting neighborhood for nan, nan: HTTP Error: 400\n",
      "Error getting neighborhood for nan, nan: HTTP Error: 400\n",
      "Error getting neighborhood for nan, nan: HTTP Error: 400\n",
      "Error getting neighborhood for nan, nan: HTTP Error: 400\n",
      "Error getting neighborhood for nan, nan: HTTP Error: 400\n",
      "Error getting neighborhood for nan, nan: HTTP Error: 400\n",
      "Error getting neighborhood for nan, nan: HTTP Error: 400\n",
      "Error getting neighborhood for nan, nan: HTTP Error: 400\n"
     ]
    },
    {
     "name": "stdout",
     "output_type": "stream",
     "text": [
      "Error getting neighborhood for nan, nan: HTTP Error: 400\n",
      "Error getting neighborhood for nan, nan: HTTP Error: 400\n",
      "Error getting neighborhood for nan, nan: HTTP Error: 400\n",
      "Error getting neighborhood for nan, nan: HTTP Error: 400\n",
      "Error getting neighborhood for nan, nan: HTTP Error: 400\n",
      "Error getting neighborhood for nan, nan: HTTP Error: 400\n",
      "Error getting neighborhood for nan, nan: HTTP Error: 400\n",
      "Error getting neighborhood for nan, nan: HTTP Error: 400\n",
      "Error getting neighborhood for nan, nan: HTTP Error: 400\n",
      "Error getting neighborhood for nan, nan: HTTP Error: 400\n"
     ]
    },
    {
     "name": "stdout",
     "output_type": "stream",
     "text": [
      "Error getting neighborhood for nan, nan: HTTP Error: 400\n",
      "Error getting neighborhood for nan, nan: HTTP Error: 400\n",
      "Error getting neighborhood for nan, nan: HTTP Error: 400\n",
      "Error getting neighborhood for nan, nan: HTTP Error: 400\n",
      "Error getting neighborhood for nan, nan: HTTP Error: 400\n",
      "Error getting neighborhood for nan, nan: HTTP Error: 400\n",
      "Error getting neighborhood for nan, nan: HTTP Error: 400\n",
      "Error getting neighborhood for nan, nan: HTTP Error: 400\n",
      "Error getting neighborhood for nan, nan: HTTP Error: 400\n"
     ]
    },
    {
     "name": "stdout",
     "output_type": "stream",
     "text": [
      "Error getting neighborhood for nan, nan: HTTP Error: 400\n",
      "Error getting neighborhood for nan, nan: HTTP Error: 400\n",
      "Error getting neighborhood for nan, nan: HTTP Error: 400\n",
      "Error getting neighborhood for nan, nan: HTTP Error: 400\n",
      "Error getting neighborhood for nan, nan: HTTP Error: 400\n",
      "Error getting neighborhood for nan, nan: HTTP Error: 400\n",
      "Error getting neighborhood for nan, nan: HTTP Error: 400\n",
      "Error getting neighborhood for nan, nan: HTTP Error: 400\n"
     ]
    },
    {
     "name": "stdout",
     "output_type": "stream",
     "text": [
      "Error getting neighborhood for nan, nan: HTTP Error: 400\n",
      "Error getting neighborhood for nan, nan: HTTP Error: 400\n",
      "Error getting neighborhood for nan, nan: HTTP Error: 400\n",
      "Error getting neighborhood for nan, nan: HTTP Error: 400\n",
      "Error getting neighborhood for nan, nan: HTTP Error: 400\n",
      "Error getting neighborhood for nan, nan: HTTP Error: 400\n",
      "Error getting neighborhood for nan, nan: HTTP Error: 400\n",
      "Error getting neighborhood for nan, nan: HTTP Error: 400\n"
     ]
    },
    {
     "name": "stdout",
     "output_type": "stream",
     "text": [
      "Error getting neighborhood for nan, nan: HTTP Error: 400\n",
      "Error getting neighborhood for nan, nan: HTTP Error: 400\n",
      "Error getting neighborhood for nan, nan: HTTP Error: 400\n",
      "Error getting neighborhood for nan, nan: HTTP Error: 400\n",
      "Error getting neighborhood for nan, nan: HTTP Error: 400\n",
      "Error getting neighborhood for nan, nan: HTTP Error: 400\n",
      "Error getting neighborhood for nan, nan: HTTP Error: 400\n",
      "Error getting neighborhood for nan, nan: HTTP Error: 400\n",
      "Error getting neighborhood for nan, nan: HTTP Error: 400\n"
     ]
    },
    {
     "name": "stdout",
     "output_type": "stream",
     "text": [
      "Error getting neighborhood for nan, nan: HTTP Error: 400\n",
      "Error getting neighborhood for nan, nan: HTTP Error: 400\n",
      "Error getting neighborhood for nan, nan: HTTP Error: 400\n",
      "Error getting neighborhood for nan, nan: HTTP Error: 400\n",
      "Error getting neighborhood for nan, nan: HTTP Error: 400\n",
      "Error getting neighborhood for nan, nan: HTTP Error: 400\n",
      "Error getting neighborhood for nan, nan: HTTP Error: 400\n",
      "Error getting neighborhood for nan, nan: HTTP Error: 400\n"
     ]
    },
    {
     "name": "stdout",
     "output_type": "stream",
     "text": [
      "Error getting neighborhood for nan, nan: HTTP Error: 400\n",
      "Error getting neighborhood for nan, nan: HTTP Error: 400\n",
      "Error getting neighborhood for nan, nan: HTTP Error: 400\n",
      "Error getting neighborhood for nan, nan: HTTP Error: 400\n",
      "Error getting neighborhood for nan, nan: HTTP Error: 400\n",
      "Error getting neighborhood for nan, nan: HTTP Error: 400\n",
      "Error getting neighborhood for nan, nan: HTTP Error: 400\n"
     ]
    },
    {
     "name": "stdout",
     "output_type": "stream",
     "text": [
      "Error getting neighborhood for nan, nan: HTTP Error: 400\n",
      "Error getting neighborhood for nan, nan: HTTP Error: 400\n",
      "Error getting neighborhood for nan, nan: HTTP Error: 400\n",
      "Error getting neighborhood for nan, nan: HTTP Error: 400\n",
      "Error getting neighborhood for nan, nan: HTTP Error: 400\n",
      "Error getting neighborhood for nan, nan: HTTP Error: 400\n",
      "Error getting neighborhood for nan, nan: HTTP Error: 400\n",
      "Error getting neighborhood for nan, nan: HTTP Error: 400\n"
     ]
    },
    {
     "name": "stdout",
     "output_type": "stream",
     "text": [
      "Error getting neighborhood for nan, nan: HTTP Error: 400\n",
      "Error getting neighborhood for nan, nan: HTTP Error: 400\n",
      "Error getting neighborhood for nan, nan: HTTP Error: 400\n",
      "Error getting neighborhood for nan, nan: HTTP Error: 400\n",
      "Error getting neighborhood for nan, nan: HTTP Error: 400\n",
      "Error getting neighborhood for nan, nan: HTTP Error: 400\n",
      "Error getting neighborhood for nan, nan: HTTP Error: 400\n",
      "Error getting neighborhood for nan, nan: HTTP Error: 400\n"
     ]
    },
    {
     "name": "stdout",
     "output_type": "stream",
     "text": [
      "Error getting neighborhood for nan, nan: HTTP Error: 400\n",
      "Error getting neighborhood for nan, nan: HTTP Error: 400\n",
      "Error getting neighborhood for nan, nan: HTTP Error: 400\n",
      "Error getting neighborhood for nan, nan: HTTP Error: 400\n",
      "Error getting neighborhood for nan, nan: HTTP Error: 400\n",
      "Error getting neighborhood for nan, nan: HTTP Error: 400\n",
      "Error getting neighborhood for nan, nan: HTTP Error: 400\n"
     ]
    },
    {
     "name": "stdout",
     "output_type": "stream",
     "text": [
      "Error getting neighborhood for nan, nan: HTTP Error: 400\n",
      "Error getting neighborhood for nan, nan: HTTP Error: 400\n",
      "Error getting neighborhood for nan, nan: HTTP Error: 400\n",
      "Error getting neighborhood for nan, nan: HTTP Error: 400\n",
      "Error getting neighborhood for nan, nan: HTTP Error: 400\n",
      "Error getting neighborhood for nan, nan: HTTP Error: 400\n",
      "Error getting neighborhood for nan, nan: HTTP Error: 400\n",
      "Error getting neighborhood for nan, nan: HTTP Error: 400\n"
     ]
    },
    {
     "name": "stdout",
     "output_type": "stream",
     "text": [
      "Error getting neighborhood for nan, nan: HTTP Error: 400\n",
      "Error getting neighborhood for nan, nan: HTTP Error: 400\n",
      "Error getting neighborhood for nan, nan: HTTP Error: 400\n",
      "Error getting neighborhood for nan, nan: HTTP Error: 400\n",
      "Error getting neighborhood for nan, nan: HTTP Error: 400\n",
      "Error getting neighborhood for nan, nan: HTTP Error: 400\n",
      "Error getting neighborhood for nan, nan: HTTP Error: 400\n"
     ]
    },
    {
     "name": "stdout",
     "output_type": "stream",
     "text": [
      "Error getting neighborhood for nan, nan: HTTP Error: 400\n",
      "Error getting neighborhood for nan, nan: HTTP Error: 400\n",
      "Error getting neighborhood for nan, nan: HTTP Error: 400\n",
      "Error getting neighborhood for nan, nan: HTTP Error: 400\n",
      "Error getting neighborhood for nan, nan: HTTP Error: 400\n",
      "Error getting neighborhood for nan, nan: HTTP Error: 400\n",
      "Error getting neighborhood for nan, nan: HTTP Error: 400\n"
     ]
    },
    {
     "name": "stdout",
     "output_type": "stream",
     "text": [
      "Error getting neighborhood for nan, nan: HTTP Error: 400\n",
      "Error getting neighborhood for nan, nan: HTTP Error: 400\n",
      "Error getting neighborhood for nan, nan: HTTP Error: 400\n",
      "Error getting neighborhood for nan, nan: HTTP Error: 400\n",
      "Error getting neighborhood for nan, nan: HTTP Error: 400\n",
      "Error getting neighborhood for nan, nan: HTTP Error: 400\n",
      "Error getting neighborhood for nan, nan: HTTP Error: 400\n",
      "Error getting neighborhood for nan, nan: HTTP Error: 400\n",
      "Error getting neighborhood for nan, nan: HTTP Error: 400\n"
     ]
    },
    {
     "name": "stdout",
     "output_type": "stream",
     "text": [
      "Error getting neighborhood for nan, nan: HTTP Error: 400\n",
      "Error getting neighborhood for nan, nan: HTTP Error: 400\n",
      "Error getting neighborhood for nan, nan: HTTP Error: 400\n",
      "Error getting neighborhood for nan, nan: HTTP Error: 400\n",
      "Error getting neighborhood for nan, nan: HTTP Error: 400\n",
      "Error getting neighborhood for nan, nan: HTTP Error: 400\n",
      "Error getting neighborhood for nan, nan: HTTP Error: 400\n",
      "Error getting neighborhood for nan, nan: HTTP Error: 400\n"
     ]
    },
    {
     "name": "stdout",
     "output_type": "stream",
     "text": [
      "Error getting neighborhood for nan, nan: HTTP Error: 400\n",
      "Error getting neighborhood for nan, nan: HTTP Error: 400\n",
      "Error getting neighborhood for nan, nan: HTTP Error: 400\n",
      "Error getting neighborhood for nan, nan: HTTP Error: 400\n",
      "Error getting neighborhood for nan, nan: HTTP Error: 400\n",
      "Error getting neighborhood for nan, nan: HTTP Error: 400\n",
      "Error getting neighborhood for nan, nan: HTTP Error: 400\n",
      "Error getting neighborhood for nan, nan: HTTP Error: 400\n"
     ]
    },
    {
     "name": "stdout",
     "output_type": "stream",
     "text": [
      "Error getting neighborhood for nan, nan: HTTP Error: 400\n",
      "Error getting neighborhood for nan, nan: HTTP Error: 400\n",
      "Error getting neighborhood for nan, nan: HTTP Error: 400\n",
      "Error getting neighborhood for nan, nan: HTTP Error: 400\n",
      "Error getting neighborhood for nan, nan: HTTP Error: 400\n",
      "Error getting neighborhood for nan, nan: HTTP Error: 400\n",
      "Error getting neighborhood for nan, nan: HTTP Error: 400\n",
      "Error getting neighborhood for nan, nan: HTTP Error: 400\n"
     ]
    },
    {
     "name": "stdout",
     "output_type": "stream",
     "text": [
      "Error getting neighborhood for nan, nan: HTTP Error: 400\n",
      "Error getting neighborhood for nan, nan: HTTP Error: 400\n",
      "Error getting neighborhood for nan, nan: HTTP Error: 400\n",
      "Error getting neighborhood for nan, nan: HTTP Error: 400\n",
      "Error getting neighborhood for nan, nan: HTTP Error: 400\n",
      "Error getting neighborhood for nan, nan: HTTP Error: 400\n",
      "Error getting neighborhood for nan, nan: HTTP Error: 400\n"
     ]
    },
    {
     "name": "stdout",
     "output_type": "stream",
     "text": [
      "Error getting neighborhood for nan, nan: HTTP Error: 400\n",
      "Error getting neighborhood for nan, nan: HTTP Error: 400\n"
     ]
    },
    {
     "name": "stdout",
     "output_type": "stream",
     "text": [
      "Error getting neighborhood for nan, nan: HTTP Error: 400\n",
      "Error getting neighborhood for nan, nan: HTTP Error: 400\n",
      "Error getting neighborhood for nan, nan: HTTP Error: 400\n",
      "Error getting neighborhood for nan, nan: HTTP Error: 400\n",
      "Error getting neighborhood for nan, nan: HTTP Error: 400\n",
      "Error getting neighborhood for nan, nan: HTTP Error: 400\n",
      "Error getting neighborhood for nan, nan: HTTP Error: 400\n",
      "Error getting neighborhood for nan, nan: HTTP Error: 400\n"
     ]
    },
    {
     "name": "stdout",
     "output_type": "stream",
     "text": [
      "Error getting neighborhood for nan, nan: HTTP Error: 400\n",
      "Error getting neighborhood for nan, nan: HTTP Error: 400\n",
      "Error getting neighborhood for nan, nan: HTTP Error: 400\n",
      "Error getting neighborhood for nan, nan: HTTP Error: 400\n",
      "Error getting neighborhood for nan, nan: HTTP Error: 400\n",
      "Error getting neighborhood for nan, nan: HTTP Error: 400\n",
      "Error getting neighborhood for nan, nan: HTTP Error: 400\n",
      "Error getting neighborhood for nan, nan: HTTP Error: 400\n",
      "Error getting neighborhood for nan, nan: HTTP Error: 400\n"
     ]
    },
    {
     "name": "stdout",
     "output_type": "stream",
     "text": [
      "Error getting neighborhood for nan, nan: HTTP Error: 400\n",
      "Error getting neighborhood for nan, nan: HTTP Error: 400\n",
      "Error getting neighborhood for nan, nan: HTTP Error: 400\n",
      "Error getting neighborhood for nan, nan: HTTP Error: 400\n",
      "Error getting neighborhood for nan, nan: HTTP Error: 400\n",
      "Error getting neighborhood for nan, nan: HTTP Error: 400\n",
      "Error getting neighborhood for nan, nan: HTTP Error: 400\n",
      "Error getting neighborhood for nan, nan: HTTP Error: 400\n",
      "Error getting neighborhood for nan, nan: HTTP Error: 400\n"
     ]
    },
    {
     "name": "stdout",
     "output_type": "stream",
     "text": [
      "Error getting neighborhood for nan, nan: HTTP Error: 400\n",
      "Error getting neighborhood for nan, nan: HTTP Error: 400\n",
      "Error getting neighborhood for nan, nan: HTTP Error: 400\n",
      "Error getting neighborhood for nan, nan: HTTP Error: 400\n",
      "Error getting neighborhood for nan, nan: HTTP Error: 400\n",
      "Error getting neighborhood for nan, nan: HTTP Error: 400\n",
      "Error getting neighborhood for nan, nan: HTTP Error: 400\n",
      "Error getting neighborhood for nan, nan: HTTP Error: 400\n",
      "Error getting neighborhood for nan, nan: HTTP Error: 400\n"
     ]
    },
    {
     "name": "stdout",
     "output_type": "stream",
     "text": [
      "Error getting neighborhood for nan, nan: HTTP Error: 400\n",
      "Error getting neighborhood for nan, nan: HTTP Error: 400\n",
      "Error getting neighborhood for nan, nan: HTTP Error: 400\n",
      "Error getting neighborhood for nan, nan: HTTP Error: 400\n",
      "Error getting neighborhood for nan, nan: HTTP Error: 400\n",
      "Error getting neighborhood for nan, nan: HTTP Error: 400\n"
     ]
    },
    {
     "name": "stdout",
     "output_type": "stream",
     "text": [
      "Error getting neighborhood for nan, nan: HTTP Error: 400\n",
      "Error getting neighborhood for nan, nan: HTTP Error: 400\n",
      "Error getting neighborhood for nan, nan: HTTP Error: 400\n",
      "Error getting neighborhood for nan, nan: HTTP Error: 400\n",
      "Error getting neighborhood for nan, nan: HTTP Error: 400\n",
      "Error getting neighborhood for nan, nan: HTTP Error: 400\n",
      "Error getting neighborhood for nan, nan: HTTP Error: 400\n"
     ]
    },
    {
     "name": "stdout",
     "output_type": "stream",
     "text": [
      "Error getting neighborhood for nan, nan: HTTP Error: 400\n",
      "Error getting neighborhood for nan, nan: HTTP Error: 400\n",
      "Error getting neighborhood for nan, nan: HTTP Error: 400\n",
      "Error getting neighborhood for nan, nan: HTTP Error: 400\n",
      "Error getting neighborhood for nan, nan: HTTP Error: 400\n",
      "Error getting neighborhood for nan, nan: HTTP Error: 400\n",
      "Error getting neighborhood for nan, nan: HTTP Error: 400\n",
      "Error getting neighborhood for nan, nan: HTTP Error: 400\n"
     ]
    },
    {
     "name": "stdout",
     "output_type": "stream",
     "text": [
      "Error getting neighborhood for nan, nan: HTTP Error: 400\n",
      "Error getting neighborhood for nan, nan: HTTP Error: 400\n",
      "Error getting neighborhood for nan, nan: HTTP Error: 400\n",
      "Error getting neighborhood for nan, nan: HTTP Error: 400\n",
      "Error getting neighborhood for nan, nan: HTTP Error: 400\n",
      "Error getting neighborhood for nan, nan: HTTP Error: 400\n",
      "Error getting neighborhood for nan, nan: HTTP Error: 400\n",
      "Error getting neighborhood for nan, nan: HTTP Error: 400\n"
     ]
    },
    {
     "data": {
      "text/html": [
       "<div>\n",
       "<style scoped>\n",
       "    .dataframe tbody tr th:only-of-type {\n",
       "        vertical-align: middle;\n",
       "    }\n",
       "\n",
       "    .dataframe tbody tr th {\n",
       "        vertical-align: top;\n",
       "    }\n",
       "\n",
       "    .dataframe thead th {\n",
       "        text-align: right;\n",
       "    }\n",
       "</style>\n",
       "<table border=\"1\" class=\"dataframe\">\n",
       "  <thead>\n",
       "    <tr style=\"text-align: right;\">\n",
       "      <th></th>\n",
       "      <th>RecordID</th>\n",
       "      <th>Offense</th>\n",
       "      <th>IncidentID</th>\n",
       "      <th>BlockNumber</th>\n",
       "      <th>StreetName</th>\n",
       "      <th>Agency</th>\n",
       "      <th>HourReported</th>\n",
       "      <th>ReportingOfficer</th>\n",
       "      <th>Date</th>\n",
       "      <th>DateString</th>\n",
       "      <th>DayOfWeek</th>\n",
       "      <th>Weekend</th>\n",
       "      <th>Season</th>\n",
       "      <th>HourAMPM</th>\n",
       "      <th>TimeOfDay</th>\n",
       "      <th>FullStreet</th>\n",
       "      <th>lat</th>\n",
       "      <th>lon</th>\n",
       "      <th>neighborhood</th>\n",
       "    </tr>\n",
       "  </thead>\n",
       "  <tbody>\n",
       "    <tr>\n",
       "      <th>0</th>\n",
       "      <td>1</td>\n",
       "      <td>Assist Citizen - Mental/TDO/ECO</td>\n",
       "      <td>202500036139</td>\n",
       "      <td>600</td>\n",
       "      <td>PRESTON AVE</td>\n",
       "      <td>CPD</td>\n",
       "      <td>2159</td>\n",
       "      <td>Urban, Jacob</td>\n",
       "      <td>2025-10-05 21:59:16</td>\n",
       "      <td>2025-10-05 09:59:16 PM</td>\n",
       "      <td>Sunday</td>\n",
       "      <td>True</td>\n",
       "      <td>Autumn</td>\n",
       "      <td>09:59 PM</td>\n",
       "      <td>Night</td>\n",
       "      <td>600 PRESTON AVE</td>\n",
       "      <td>38.034709</td>\n",
       "      <td>-78.486265</td>\n",
       "      <td>Starr Hill</td>\n",
       "    </tr>\n",
       "    <tr>\n",
       "      <th>1</th>\n",
       "      <td>2</td>\n",
       "      <td>Vandalism</td>\n",
       "      <td>202500036121</td>\n",
       "      <td>1100</td>\n",
       "      <td>W MAIN ST</td>\n",
       "      <td>CPD</td>\n",
       "      <td>2019</td>\n",
       "      <td>Wemple, Christopher</td>\n",
       "      <td>2025-10-05 20:19:03</td>\n",
       "      <td>2025-10-05 08:19:03 PM</td>\n",
       "      <td>Sunday</td>\n",
       "      <td>True</td>\n",
       "      <td>Autumn</td>\n",
       "      <td>08:19 PM</td>\n",
       "      <td>Evening</td>\n",
       "      <td>1100 W MAIN ST</td>\n",
       "      <td>38.032623</td>\n",
       "      <td>-78.496334</td>\n",
       "      <td>10th &amp; Page</td>\n",
       "    </tr>\n",
       "    <tr>\n",
       "      <th>2</th>\n",
       "      <td>3</td>\n",
       "      <td>Drunkeness DIP</td>\n",
       "      <td>202500036107</td>\n",
       "      <td>600</td>\n",
       "      <td>E MARKET ST</td>\n",
       "      <td>CPD</td>\n",
       "      <td>1836</td>\n",
       "      <td>Benbow, Lauren</td>\n",
       "      <td>2025-10-05 18:36:42</td>\n",
       "      <td>2025-10-05 06:36:42 PM</td>\n",
       "      <td>Sunday</td>\n",
       "      <td>True</td>\n",
       "      <td>Autumn</td>\n",
       "      <td>06:36 PM</td>\n",
       "      <td>Evening</td>\n",
       "      <td>600 E MARKET ST</td>\n",
       "      <td>38.030175</td>\n",
       "      <td>-78.477574</td>\n",
       "      <td>Downtown Mall</td>\n",
       "    </tr>\n",
       "    <tr>\n",
       "      <th>3</th>\n",
       "      <td>4</td>\n",
       "      <td>Disorderly Conduct</td>\n",
       "      <td>202500036101</td>\n",
       "      <td></td>\n",
       "      <td>E HIGH ST / 7TH ST NE</td>\n",
       "      <td>CPD</td>\n",
       "      <td>1748</td>\n",
       "      <td>Urban, Jacob</td>\n",
       "      <td>2025-10-05 17:48:59</td>\n",
       "      <td>2025-10-05 05:48:59 PM</td>\n",
       "      <td>Sunday</td>\n",
       "      <td>True</td>\n",
       "      <td>Autumn</td>\n",
       "      <td>05:48 PM</td>\n",
       "      <td>Evening</td>\n",
       "      <td>E HIGH ST / 7TH ST NE</td>\n",
       "      <td>NaN</td>\n",
       "      <td>NaN</td>\n",
       "      <td>N/A</td>\n",
       "    </tr>\n",
       "    <tr>\n",
       "      <th>4</th>\n",
       "      <td>5</td>\n",
       "      <td>Assault Simple</td>\n",
       "      <td>202500036097</td>\n",
       "      <td>600</td>\n",
       "      <td>6TH ST SE, 309</td>\n",
       "      <td>CPD</td>\n",
       "      <td>1718</td>\n",
       "      <td>Vlasis, Christopher</td>\n",
       "      <td>2025-10-05 17:18:42</td>\n",
       "      <td>2025-10-05 05:18:42 PM</td>\n",
       "      <td>Sunday</td>\n",
       "      <td>True</td>\n",
       "      <td>Autumn</td>\n",
       "      <td>05:18 PM</td>\n",
       "      <td>Evening</td>\n",
       "      <td>600 6TH ST SE, 309</td>\n",
       "      <td>38.025815</td>\n",
       "      <td>-78.480160</td>\n",
       "      <td>North Downtown</td>\n",
       "    </tr>\n",
       "  </tbody>\n",
       "</table>\n",
       "</div>"
      ],
      "text/plain": [
       "   RecordID                          Offense    IncidentID BlockNumber  \\\n",
       "0         1  Assist Citizen - Mental/TDO/ECO  202500036139         600   \n",
       "1         2                        Vandalism  202500036121        1100   \n",
       "2         3                   Drunkeness DIP  202500036107         600   \n",
       "3         4               Disorderly Conduct  202500036101               \n",
       "4         5                   Assault Simple  202500036097         600   \n",
       "\n",
       "              StreetName Agency HourReported     ReportingOfficer  \\\n",
       "0            PRESTON AVE    CPD         2159         Urban, Jacob   \n",
       "1              W MAIN ST    CPD         2019  Wemple, Christopher   \n",
       "2            E MARKET ST    CPD         1836       Benbow, Lauren   \n",
       "3  E HIGH ST / 7TH ST NE    CPD         1748         Urban, Jacob   \n",
       "4         6TH ST SE, 309    CPD         1718  Vlasis, Christopher   \n",
       "\n",
       "                 Date              DateString DayOfWeek  Weekend  Season  \\\n",
       "0 2025-10-05 21:59:16  2025-10-05 09:59:16 PM    Sunday     True  Autumn   \n",
       "1 2025-10-05 20:19:03  2025-10-05 08:19:03 PM    Sunday     True  Autumn   \n",
       "2 2025-10-05 18:36:42  2025-10-05 06:36:42 PM    Sunday     True  Autumn   \n",
       "3 2025-10-05 17:48:59  2025-10-05 05:48:59 PM    Sunday     True  Autumn   \n",
       "4 2025-10-05 17:18:42  2025-10-05 05:18:42 PM    Sunday     True  Autumn   \n",
       "\n",
       "   HourAMPM TimeOfDay              FullStreet        lat        lon  \\\n",
       "0  09:59 PM     Night         600 PRESTON AVE  38.034709 -78.486265   \n",
       "1  08:19 PM   Evening          1100 W MAIN ST  38.032623 -78.496334   \n",
       "2  06:36 PM   Evening         600 E MARKET ST  38.030175 -78.477574   \n",
       "3  05:48 PM   Evening   E HIGH ST / 7TH ST NE        NaN        NaN   \n",
       "4  05:18 PM   Evening      600 6TH ST SE, 309  38.025815 -78.480160   \n",
       "\n",
       "     neighborhood  \n",
       "0      Starr Hill  \n",
       "1     10th & Page  \n",
       "2   Downtown Mall  \n",
       "3             N/A  \n",
       "4  North Downtown  "
      ]
     },
     "execution_count": 10,
     "metadata": {},
     "output_type": "execute_result"
    }
   ],
   "source": [
    "# Initialize the Google Maps client.\n",
    "gmaps = googlemaps.Client(key=GOOGLE_API_KEY)\n",
    "\n",
    "# Try to load a persistent neighborhood cache if available.\n",
    "try:\n",
    "    with open(\"neighborhood_cache.pkl\", \"rb\") as f:\n",
    "        neighborhood_cache = pickle.load(f)\n",
    "    print(\"Loaded neighborhood cache.\")\n",
    "except FileNotFoundError:\n",
    "    neighborhood_cache = {}\n",
    "    print(\"No neighborhood cache found; starting fresh.\")\n",
    "\n",
    "def get_neighborhood(lat, lon):\n",
    "    \"\"\"\n",
    "    Reverse geocodes a latitude and longitude to retrieve the neighborhood.\n",
    "    Caches results to speed up subsequent lookups.\n",
    "    \"\"\"\n",
    "    key = (lat, lon)\n",
    "    if key in neighborhood_cache:\n",
    "        return neighborhood_cache[key]\n",
    "    \n",
    "    try:\n",
    "        result = gmaps.reverse_geocode((lat, lon))\n",
    "        if result:\n",
    "            # Look for the 'neighborhood' component in the first result.\n",
    "            for component in result[0]['address_components']:\n",
    "                if 'neighborhood' in component['types']:\n",
    "                    neighborhood = component['long_name']\n",
    "                    neighborhood_cache[key] = neighborhood\n",
    "                    return neighborhood\n",
    "            # If no neighborhood is found, return \"N/A\"\n",
    "            neighborhood_cache[key] = \"N/A\"\n",
    "            return \"N/A\"\n",
    "    except Exception as e:\n",
    "        print(f\"Error getting neighborhood for {lat}, {lon}: {e}\")\n",
    "        return \"N/A\"\n",
    "    \n",
    "    # Pause to respect usage limits.\n",
    "    time.sleep(1)\n",
    "\n",
    "# Example usage: Apply to your DataFrame 'df' that already has 'lat' and 'lon' columns.\n",
    "df['neighborhood'] = df.apply(lambda row: get_neighborhood(row['lat'], row['lon']), axis=1)\n",
    "\n",
    "# Save the updated neighborhood cache.\n",
    "with open(\"neighborhood_cache.pkl\", \"wb\") as f:\n",
    "    pickle.dump(neighborhood_cache, f)\n",
    "\n",
    "df.head()\n"
   ]
  },
  {
   "cell_type": "markdown",
   "id": "60612082",
   "metadata": {
    "papermill": {
     "duration": 0.006392,
     "end_time": "2025-10-08T00:13:52.987742",
     "exception": false,
     "start_time": "2025-10-08T00:13:52.981350",
     "status": "completed"
    },
    "tags": []
   },
   "source": [
    "### Zip"
   ]
  },
  {
   "cell_type": "code",
   "execution_count": 11,
   "id": "949b8bfb",
   "metadata": {
    "execution": {
     "iopub.execute_input": "2025-10-08T00:13:53.001242Z",
     "iopub.status.busy": "2025-10-08T00:13:53.000997Z",
     "iopub.status.idle": "2025-10-08T00:17:48.488078Z",
     "shell.execute_reply": "2025-10-08T00:17:48.487215Z"
    },
    "papermill": {
     "duration": 235.495237,
     "end_time": "2025-10-08T00:17:48.489237",
     "exception": false,
     "start_time": "2025-10-08T00:13:52.994000",
     "status": "completed"
    },
    "tags": []
   },
   "outputs": [
    {
     "name": "stdout",
     "output_type": "stream",
     "text": [
      "Loaded zip cache.\n",
      "Error getting ZIP for nan, nan: Must be a coordinate pair or Point\n"
     ]
    },
    {
     "name": "stdout",
     "output_type": "stream",
     "text": [
      "Error getting ZIP for nan, nan: Must be a coordinate pair or Point\n"
     ]
    },
    {
     "name": "stdout",
     "output_type": "stream",
     "text": [
      "Error getting ZIP for nan, nan: Must be a coordinate pair or Point\n"
     ]
    },
    {
     "name": "stdout",
     "output_type": "stream",
     "text": [
      "Error getting ZIP for nan, nan: Must be a coordinate pair or Point\n"
     ]
    },
    {
     "name": "stdout",
     "output_type": "stream",
     "text": [
      "Error getting ZIP for nan, nan: Must be a coordinate pair or Point\n"
     ]
    },
    {
     "name": "stdout",
     "output_type": "stream",
     "text": [
      "Error getting ZIP for nan, nan: Must be a coordinate pair or Point\n"
     ]
    },
    {
     "name": "stdout",
     "output_type": "stream",
     "text": [
      "Error getting ZIP for nan, nan: Must be a coordinate pair or Point\n"
     ]
    },
    {
     "name": "stdout",
     "output_type": "stream",
     "text": [
      "Error getting ZIP for nan, nan: Must be a coordinate pair or Point\n"
     ]
    },
    {
     "name": "stdout",
     "output_type": "stream",
     "text": [
      "Error getting ZIP for nan, nan: Must be a coordinate pair or Point\n"
     ]
    },
    {
     "name": "stdout",
     "output_type": "stream",
     "text": [
      "Error getting ZIP for nan, nan: Must be a coordinate pair or Point\n"
     ]
    },
    {
     "name": "stdout",
     "output_type": "stream",
     "text": [
      "Error getting ZIP for nan, nan: Must be a coordinate pair or Point\n"
     ]
    },
    {
     "name": "stdout",
     "output_type": "stream",
     "text": [
      "Error getting ZIP for nan, nan: Must be a coordinate pair or Point\n"
     ]
    },
    {
     "name": "stdout",
     "output_type": "stream",
     "text": [
      "Error getting ZIP for nan, nan: Must be a coordinate pair or Point\n"
     ]
    },
    {
     "name": "stdout",
     "output_type": "stream",
     "text": [
      "Error getting ZIP for nan, nan: Must be a coordinate pair or Point\n"
     ]
    },
    {
     "name": "stdout",
     "output_type": "stream",
     "text": [
      "Error getting ZIP for nan, nan: Must be a coordinate pair or Point\n"
     ]
    },
    {
     "name": "stdout",
     "output_type": "stream",
     "text": [
      "Error getting ZIP for nan, nan: Must be a coordinate pair or Point\n"
     ]
    },
    {
     "name": "stdout",
     "output_type": "stream",
     "text": [
      "Error getting ZIP for nan, nan: Must be a coordinate pair or Point\n"
     ]
    },
    {
     "name": "stdout",
     "output_type": "stream",
     "text": [
      "Error getting ZIP for nan, nan: Must be a coordinate pair or Point\n"
     ]
    },
    {
     "name": "stdout",
     "output_type": "stream",
     "text": [
      "Error getting ZIP for nan, nan: Must be a coordinate pair or Point\n"
     ]
    },
    {
     "name": "stdout",
     "output_type": "stream",
     "text": [
      "Error getting ZIP for nan, nan: Must be a coordinate pair or Point\n"
     ]
    },
    {
     "name": "stdout",
     "output_type": "stream",
     "text": [
      "Error getting ZIP for nan, nan: Must be a coordinate pair or Point\n"
     ]
    },
    {
     "name": "stdout",
     "output_type": "stream",
     "text": [
      "Error getting ZIP for nan, nan: Must be a coordinate pair or Point\n"
     ]
    },
    {
     "name": "stdout",
     "output_type": "stream",
     "text": [
      "Error getting ZIP for nan, nan: Must be a coordinate pair or Point\n"
     ]
    },
    {
     "name": "stdout",
     "output_type": "stream",
     "text": [
      "Error getting ZIP for nan, nan: Must be a coordinate pair or Point\n"
     ]
    },
    {
     "name": "stdout",
     "output_type": "stream",
     "text": [
      "Error getting ZIP for nan, nan: Must be a coordinate pair or Point\n"
     ]
    },
    {
     "name": "stdout",
     "output_type": "stream",
     "text": [
      "Error getting ZIP for nan, nan: Must be a coordinate pair or Point\n"
     ]
    },
    {
     "name": "stdout",
     "output_type": "stream",
     "text": [
      "Error getting ZIP for nan, nan: Must be a coordinate pair or Point\n"
     ]
    },
    {
     "name": "stdout",
     "output_type": "stream",
     "text": [
      "Error getting ZIP for nan, nan: Must be a coordinate pair or Point\n"
     ]
    },
    {
     "name": "stdout",
     "output_type": "stream",
     "text": [
      "Error getting ZIP for nan, nan: Must be a coordinate pair or Point\n"
     ]
    },
    {
     "name": "stdout",
     "output_type": "stream",
     "text": [
      "Error getting ZIP for nan, nan: Must be a coordinate pair or Point\n"
     ]
    },
    {
     "name": "stdout",
     "output_type": "stream",
     "text": [
      "Error getting ZIP for nan, nan: Must be a coordinate pair or Point\n"
     ]
    },
    {
     "name": "stdout",
     "output_type": "stream",
     "text": [
      "Error getting ZIP for nan, nan: Must be a coordinate pair or Point\n"
     ]
    },
    {
     "name": "stdout",
     "output_type": "stream",
     "text": [
      "Error getting ZIP for nan, nan: Must be a coordinate pair or Point\n"
     ]
    },
    {
     "name": "stdout",
     "output_type": "stream",
     "text": [
      "Error getting ZIP for nan, nan: Must be a coordinate pair or Point\n"
     ]
    },
    {
     "name": "stdout",
     "output_type": "stream",
     "text": [
      "Error getting ZIP for nan, nan: Must be a coordinate pair or Point\n"
     ]
    },
    {
     "name": "stdout",
     "output_type": "stream",
     "text": [
      "Error getting ZIP for nan, nan: Must be a coordinate pair or Point\n"
     ]
    },
    {
     "name": "stdout",
     "output_type": "stream",
     "text": [
      "Error getting ZIP for nan, nan: Must be a coordinate pair or Point\n"
     ]
    },
    {
     "name": "stdout",
     "output_type": "stream",
     "text": [
      "Error getting ZIP for nan, nan: Must be a coordinate pair or Point\n"
     ]
    },
    {
     "name": "stdout",
     "output_type": "stream",
     "text": [
      "Error getting ZIP for nan, nan: Must be a coordinate pair or Point\n"
     ]
    },
    {
     "name": "stdout",
     "output_type": "stream",
     "text": [
      "Error getting ZIP for nan, nan: Must be a coordinate pair or Point\n"
     ]
    },
    {
     "name": "stdout",
     "output_type": "stream",
     "text": [
      "Error getting ZIP for nan, nan: Must be a coordinate pair or Point\n"
     ]
    },
    {
     "name": "stdout",
     "output_type": "stream",
     "text": [
      "Error getting ZIP for nan, nan: Must be a coordinate pair or Point\n"
     ]
    },
    {
     "name": "stdout",
     "output_type": "stream",
     "text": [
      "Error getting ZIP for nan, nan: Must be a coordinate pair or Point\n"
     ]
    },
    {
     "name": "stdout",
     "output_type": "stream",
     "text": [
      "Error getting ZIP for nan, nan: Must be a coordinate pair or Point\n"
     ]
    },
    {
     "name": "stdout",
     "output_type": "stream",
     "text": [
      "Error getting ZIP for nan, nan: Must be a coordinate pair or Point\n"
     ]
    },
    {
     "name": "stdout",
     "output_type": "stream",
     "text": [
      "Error getting ZIP for nan, nan: Must be a coordinate pair or Point\n"
     ]
    },
    {
     "name": "stdout",
     "output_type": "stream",
     "text": [
      "Error getting ZIP for nan, nan: Must be a coordinate pair or Point\n"
     ]
    },
    {
     "name": "stdout",
     "output_type": "stream",
     "text": [
      "Error getting ZIP for nan, nan: Must be a coordinate pair or Point\n"
     ]
    },
    {
     "name": "stdout",
     "output_type": "stream",
     "text": [
      "Error getting ZIP for nan, nan: Must be a coordinate pair or Point\n"
     ]
    },
    {
     "name": "stdout",
     "output_type": "stream",
     "text": [
      "Error getting ZIP for nan, nan: Must be a coordinate pair or Point\n"
     ]
    },
    {
     "name": "stdout",
     "output_type": "stream",
     "text": [
      "Error getting ZIP for nan, nan: Must be a coordinate pair or Point\n"
     ]
    },
    {
     "name": "stdout",
     "output_type": "stream",
     "text": [
      "Error getting ZIP for nan, nan: Must be a coordinate pair or Point\n"
     ]
    },
    {
     "name": "stdout",
     "output_type": "stream",
     "text": [
      "Error getting ZIP for nan, nan: Must be a coordinate pair or Point\n"
     ]
    },
    {
     "name": "stdout",
     "output_type": "stream",
     "text": [
      "Error getting ZIP for nan, nan: Must be a coordinate pair or Point\n"
     ]
    },
    {
     "name": "stdout",
     "output_type": "stream",
     "text": [
      "Error getting ZIP for nan, nan: Must be a coordinate pair or Point\n"
     ]
    },
    {
     "name": "stdout",
     "output_type": "stream",
     "text": [
      "Error getting ZIP for nan, nan: Must be a coordinate pair or Point\n"
     ]
    },
    {
     "name": "stdout",
     "output_type": "stream",
     "text": [
      "Error getting ZIP for nan, nan: Must be a coordinate pair or Point\n"
     ]
    },
    {
     "name": "stdout",
     "output_type": "stream",
     "text": [
      "Error getting ZIP for nan, nan: Must be a coordinate pair or Point\n"
     ]
    },
    {
     "name": "stdout",
     "output_type": "stream",
     "text": [
      "Error getting ZIP for nan, nan: Must be a coordinate pair or Point\n"
     ]
    },
    {
     "name": "stdout",
     "output_type": "stream",
     "text": [
      "Error getting ZIP for nan, nan: Must be a coordinate pair or Point\n"
     ]
    },
    {
     "name": "stdout",
     "output_type": "stream",
     "text": [
      "Error getting ZIP for nan, nan: Must be a coordinate pair or Point\n"
     ]
    },
    {
     "name": "stdout",
     "output_type": "stream",
     "text": [
      "Error getting ZIP for nan, nan: Must be a coordinate pair or Point\n"
     ]
    },
    {
     "name": "stdout",
     "output_type": "stream",
     "text": [
      "Error getting ZIP for nan, nan: Must be a coordinate pair or Point\n"
     ]
    },
    {
     "name": "stdout",
     "output_type": "stream",
     "text": [
      "Error getting ZIP for nan, nan: Must be a coordinate pair or Point\n"
     ]
    },
    {
     "name": "stdout",
     "output_type": "stream",
     "text": [
      "Error getting ZIP for nan, nan: Must be a coordinate pair or Point\n"
     ]
    },
    {
     "name": "stdout",
     "output_type": "stream",
     "text": [
      "Error getting ZIP for nan, nan: Must be a coordinate pair or Point\n"
     ]
    },
    {
     "name": "stdout",
     "output_type": "stream",
     "text": [
      "Error getting ZIP for nan, nan: Must be a coordinate pair or Point\n"
     ]
    },
    {
     "name": "stdout",
     "output_type": "stream",
     "text": [
      "Error getting ZIP for nan, nan: Must be a coordinate pair or Point\n"
     ]
    },
    {
     "name": "stdout",
     "output_type": "stream",
     "text": [
      "Error getting ZIP for nan, nan: Must be a coordinate pair or Point\n"
     ]
    },
    {
     "name": "stdout",
     "output_type": "stream",
     "text": [
      "Error getting ZIP for nan, nan: Must be a coordinate pair or Point\n"
     ]
    },
    {
     "name": "stdout",
     "output_type": "stream",
     "text": [
      "Error getting ZIP for nan, nan: Must be a coordinate pair or Point\n"
     ]
    },
    {
     "name": "stdout",
     "output_type": "stream",
     "text": [
      "Error getting ZIP for nan, nan: Must be a coordinate pair or Point\n"
     ]
    },
    {
     "name": "stdout",
     "output_type": "stream",
     "text": [
      "Error getting ZIP for nan, nan: Must be a coordinate pair or Point\n"
     ]
    },
    {
     "name": "stdout",
     "output_type": "stream",
     "text": [
      "Error getting ZIP for nan, nan: Must be a coordinate pair or Point\n"
     ]
    },
    {
     "name": "stdout",
     "output_type": "stream",
     "text": [
      "Error getting ZIP for nan, nan: Must be a coordinate pair or Point\n"
     ]
    },
    {
     "name": "stdout",
     "output_type": "stream",
     "text": [
      "Error getting ZIP for nan, nan: Must be a coordinate pair or Point\n"
     ]
    },
    {
     "name": "stdout",
     "output_type": "stream",
     "text": [
      "Error getting ZIP for nan, nan: Must be a coordinate pair or Point\n"
     ]
    },
    {
     "name": "stdout",
     "output_type": "stream",
     "text": [
      "Error getting ZIP for nan, nan: Must be a coordinate pair or Point\n"
     ]
    },
    {
     "name": "stdout",
     "output_type": "stream",
     "text": [
      "Error getting ZIP for nan, nan: Must be a coordinate pair or Point\n"
     ]
    },
    {
     "name": "stdout",
     "output_type": "stream",
     "text": [
      "Error getting ZIP for nan, nan: Must be a coordinate pair or Point\n"
     ]
    },
    {
     "name": "stdout",
     "output_type": "stream",
     "text": [
      "Error getting ZIP for nan, nan: Must be a coordinate pair or Point\n"
     ]
    },
    {
     "name": "stdout",
     "output_type": "stream",
     "text": [
      "Error getting ZIP for nan, nan: Must be a coordinate pair or Point\n"
     ]
    },
    {
     "name": "stdout",
     "output_type": "stream",
     "text": [
      "Error getting ZIP for nan, nan: Must be a coordinate pair or Point\n"
     ]
    },
    {
     "name": "stdout",
     "output_type": "stream",
     "text": [
      "Error getting ZIP for nan, nan: Must be a coordinate pair or Point\n"
     ]
    },
    {
     "name": "stdout",
     "output_type": "stream",
     "text": [
      "Error getting ZIP for nan, nan: Must be a coordinate pair or Point\n"
     ]
    },
    {
     "name": "stdout",
     "output_type": "stream",
     "text": [
      "Error getting ZIP for nan, nan: Must be a coordinate pair or Point\n"
     ]
    },
    {
     "name": "stdout",
     "output_type": "stream",
     "text": [
      "Error getting ZIP for nan, nan: Must be a coordinate pair or Point\n"
     ]
    },
    {
     "name": "stdout",
     "output_type": "stream",
     "text": [
      "Error getting ZIP for nan, nan: Must be a coordinate pair or Point\n"
     ]
    },
    {
     "name": "stdout",
     "output_type": "stream",
     "text": [
      "Error getting ZIP for nan, nan: Must be a coordinate pair or Point\n"
     ]
    },
    {
     "name": "stdout",
     "output_type": "stream",
     "text": [
      "Error getting ZIP for nan, nan: Must be a coordinate pair or Point\n"
     ]
    },
    {
     "name": "stdout",
     "output_type": "stream",
     "text": [
      "Error getting ZIP for nan, nan: Must be a coordinate pair or Point\n"
     ]
    },
    {
     "name": "stdout",
     "output_type": "stream",
     "text": [
      "Error getting ZIP for nan, nan: Must be a coordinate pair or Point\n"
     ]
    },
    {
     "name": "stdout",
     "output_type": "stream",
     "text": [
      "Error getting ZIP for nan, nan: Must be a coordinate pair or Point\n"
     ]
    },
    {
     "name": "stdout",
     "output_type": "stream",
     "text": [
      "Error getting ZIP for nan, nan: Must be a coordinate pair or Point\n"
     ]
    },
    {
     "name": "stdout",
     "output_type": "stream",
     "text": [
      "Error getting ZIP for nan, nan: Must be a coordinate pair or Point\n"
     ]
    },
    {
     "name": "stdout",
     "output_type": "stream",
     "text": [
      "Error getting ZIP for nan, nan: Must be a coordinate pair or Point\n"
     ]
    },
    {
     "name": "stdout",
     "output_type": "stream",
     "text": [
      "Error getting ZIP for nan, nan: Must be a coordinate pair or Point\n"
     ]
    },
    {
     "name": "stdout",
     "output_type": "stream",
     "text": [
      "Error getting ZIP for nan, nan: Must be a coordinate pair or Point\n"
     ]
    },
    {
     "name": "stdout",
     "output_type": "stream",
     "text": [
      "Error getting ZIP for nan, nan: Must be a coordinate pair or Point\n"
     ]
    },
    {
     "name": "stdout",
     "output_type": "stream",
     "text": [
      "Error getting ZIP for nan, nan: Must be a coordinate pair or Point\n"
     ]
    },
    {
     "name": "stdout",
     "output_type": "stream",
     "text": [
      "Error getting ZIP for nan, nan: Must be a coordinate pair or Point\n"
     ]
    },
    {
     "name": "stdout",
     "output_type": "stream",
     "text": [
      "Error getting ZIP for nan, nan: Must be a coordinate pair or Point\n"
     ]
    },
    {
     "name": "stdout",
     "output_type": "stream",
     "text": [
      "Error getting ZIP for nan, nan: Must be a coordinate pair or Point\n"
     ]
    },
    {
     "name": "stdout",
     "output_type": "stream",
     "text": [
      "Error getting ZIP for nan, nan: Must be a coordinate pair or Point\n"
     ]
    },
    {
     "name": "stdout",
     "output_type": "stream",
     "text": [
      "Error getting ZIP for nan, nan: Must be a coordinate pair or Point\n"
     ]
    },
    {
     "name": "stdout",
     "output_type": "stream",
     "text": [
      "Error getting ZIP for nan, nan: Must be a coordinate pair or Point\n"
     ]
    },
    {
     "name": "stdout",
     "output_type": "stream",
     "text": [
      "Error getting ZIP for nan, nan: Must be a coordinate pair or Point\n"
     ]
    },
    {
     "name": "stdout",
     "output_type": "stream",
     "text": [
      "Error getting ZIP for nan, nan: Must be a coordinate pair or Point\n"
     ]
    },
    {
     "name": "stdout",
     "output_type": "stream",
     "text": [
      "Error getting ZIP for nan, nan: Must be a coordinate pair or Point\n"
     ]
    },
    {
     "name": "stdout",
     "output_type": "stream",
     "text": [
      "Error getting ZIP for nan, nan: Must be a coordinate pair or Point\n"
     ]
    },
    {
     "name": "stdout",
     "output_type": "stream",
     "text": [
      "Error getting ZIP for nan, nan: Must be a coordinate pair or Point\n"
     ]
    },
    {
     "name": "stdout",
     "output_type": "stream",
     "text": [
      "Error getting ZIP for nan, nan: Must be a coordinate pair or Point\n"
     ]
    },
    {
     "name": "stdout",
     "output_type": "stream",
     "text": [
      "Error getting ZIP for nan, nan: Must be a coordinate pair or Point\n"
     ]
    },
    {
     "name": "stdout",
     "output_type": "stream",
     "text": [
      "Error getting ZIP for nan, nan: Must be a coordinate pair or Point\n"
     ]
    },
    {
     "name": "stdout",
     "output_type": "stream",
     "text": [
      "Error getting ZIP for nan, nan: Must be a coordinate pair or Point\n"
     ]
    },
    {
     "name": "stdout",
     "output_type": "stream",
     "text": [
      "Error getting ZIP for nan, nan: Must be a coordinate pair or Point\n"
     ]
    },
    {
     "name": "stdout",
     "output_type": "stream",
     "text": [
      "Error getting ZIP for nan, nan: Must be a coordinate pair or Point\n"
     ]
    },
    {
     "name": "stdout",
     "output_type": "stream",
     "text": [
      "Error getting ZIP for nan, nan: Must be a coordinate pair or Point\n"
     ]
    },
    {
     "name": "stdout",
     "output_type": "stream",
     "text": [
      "Error getting ZIP for nan, nan: Must be a coordinate pair or Point\n"
     ]
    },
    {
     "name": "stdout",
     "output_type": "stream",
     "text": [
      "Error getting ZIP for nan, nan: Must be a coordinate pair or Point\n"
     ]
    },
    {
     "name": "stdout",
     "output_type": "stream",
     "text": [
      "Error getting ZIP for nan, nan: Must be a coordinate pair or Point\n"
     ]
    },
    {
     "name": "stdout",
     "output_type": "stream",
     "text": [
      "Error getting ZIP for nan, nan: Must be a coordinate pair or Point\n"
     ]
    },
    {
     "name": "stdout",
     "output_type": "stream",
     "text": [
      "Error getting ZIP for nan, nan: Must be a coordinate pair or Point\n"
     ]
    },
    {
     "name": "stdout",
     "output_type": "stream",
     "text": [
      "Error getting ZIP for nan, nan: Must be a coordinate pair or Point\n"
     ]
    },
    {
     "name": "stdout",
     "output_type": "stream",
     "text": [
      "Error getting ZIP for nan, nan: Must be a coordinate pair or Point\n"
     ]
    },
    {
     "name": "stdout",
     "output_type": "stream",
     "text": [
      "Error getting ZIP for nan, nan: Must be a coordinate pair or Point\n"
     ]
    },
    {
     "name": "stdout",
     "output_type": "stream",
     "text": [
      "Error getting ZIP for nan, nan: Must be a coordinate pair or Point\n"
     ]
    },
    {
     "name": "stdout",
     "output_type": "stream",
     "text": [
      "Error getting ZIP for nan, nan: Must be a coordinate pair or Point\n"
     ]
    },
    {
     "name": "stdout",
     "output_type": "stream",
     "text": [
      "Error getting ZIP for nan, nan: Must be a coordinate pair or Point\n"
     ]
    },
    {
     "name": "stdout",
     "output_type": "stream",
     "text": [
      "Error getting ZIP for nan, nan: Must be a coordinate pair or Point\n"
     ]
    },
    {
     "name": "stdout",
     "output_type": "stream",
     "text": [
      "Error getting ZIP for nan, nan: Must be a coordinate pair or Point\n"
     ]
    },
    {
     "name": "stdout",
     "output_type": "stream",
     "text": [
      "Error getting ZIP for nan, nan: Must be a coordinate pair or Point\n"
     ]
    },
    {
     "name": "stdout",
     "output_type": "stream",
     "text": [
      "Error getting ZIP for nan, nan: Must be a coordinate pair or Point\n"
     ]
    },
    {
     "name": "stdout",
     "output_type": "stream",
     "text": [
      "Error getting ZIP for nan, nan: Must be a coordinate pair or Point\n"
     ]
    },
    {
     "name": "stdout",
     "output_type": "stream",
     "text": [
      "Error getting ZIP for nan, nan: Must be a coordinate pair or Point\n"
     ]
    },
    {
     "name": "stdout",
     "output_type": "stream",
     "text": [
      "Error getting ZIP for nan, nan: Must be a coordinate pair or Point\n"
     ]
    },
    {
     "name": "stdout",
     "output_type": "stream",
     "text": [
      "Error getting ZIP for nan, nan: Must be a coordinate pair or Point\n"
     ]
    },
    {
     "name": "stdout",
     "output_type": "stream",
     "text": [
      "Error getting ZIP for nan, nan: Must be a coordinate pair or Point\n"
     ]
    },
    {
     "name": "stdout",
     "output_type": "stream",
     "text": [
      "Error getting ZIP for nan, nan: Must be a coordinate pair or Point\n"
     ]
    },
    {
     "name": "stdout",
     "output_type": "stream",
     "text": [
      "Error getting ZIP for nan, nan: Must be a coordinate pair or Point\n"
     ]
    },
    {
     "name": "stdout",
     "output_type": "stream",
     "text": [
      "Error getting ZIP for nan, nan: Must be a coordinate pair or Point\n"
     ]
    },
    {
     "name": "stdout",
     "output_type": "stream",
     "text": [
      "Error getting ZIP for nan, nan: Must be a coordinate pair or Point\n"
     ]
    },
    {
     "name": "stdout",
     "output_type": "stream",
     "text": [
      "Error getting ZIP for nan, nan: Must be a coordinate pair or Point\n"
     ]
    },
    {
     "name": "stdout",
     "output_type": "stream",
     "text": [
      "Error getting ZIP for nan, nan: Must be a coordinate pair or Point\n"
     ]
    },
    {
     "name": "stdout",
     "output_type": "stream",
     "text": [
      "Error getting ZIP for nan, nan: Must be a coordinate pair or Point\n"
     ]
    },
    {
     "name": "stdout",
     "output_type": "stream",
     "text": [
      "Error getting ZIP for nan, nan: Must be a coordinate pair or Point\n"
     ]
    },
    {
     "name": "stdout",
     "output_type": "stream",
     "text": [
      "Error getting ZIP for nan, nan: Must be a coordinate pair or Point\n"
     ]
    },
    {
     "name": "stdout",
     "output_type": "stream",
     "text": [
      "Error getting ZIP for nan, nan: Must be a coordinate pair or Point\n"
     ]
    },
    {
     "name": "stdout",
     "output_type": "stream",
     "text": [
      "Error getting ZIP for nan, nan: Must be a coordinate pair or Point\n"
     ]
    },
    {
     "name": "stdout",
     "output_type": "stream",
     "text": [
      "Error getting ZIP for nan, nan: Must be a coordinate pair or Point\n"
     ]
    },
    {
     "name": "stdout",
     "output_type": "stream",
     "text": [
      "Error getting ZIP for nan, nan: Must be a coordinate pair or Point\n"
     ]
    },
    {
     "name": "stdout",
     "output_type": "stream",
     "text": [
      "Error getting ZIP for nan, nan: Must be a coordinate pair or Point\n"
     ]
    },
    {
     "name": "stdout",
     "output_type": "stream",
     "text": [
      "Error getting ZIP for nan, nan: Must be a coordinate pair or Point\n"
     ]
    },
    {
     "name": "stdout",
     "output_type": "stream",
     "text": [
      "Error getting ZIP for nan, nan: Must be a coordinate pair or Point\n"
     ]
    },
    {
     "name": "stdout",
     "output_type": "stream",
     "text": [
      "Error getting ZIP for nan, nan: Must be a coordinate pair or Point\n"
     ]
    },
    {
     "name": "stdout",
     "output_type": "stream",
     "text": [
      "Error getting ZIP for nan, nan: Must be a coordinate pair or Point\n"
     ]
    },
    {
     "name": "stdout",
     "output_type": "stream",
     "text": [
      "Error getting ZIP for nan, nan: Must be a coordinate pair or Point\n"
     ]
    },
    {
     "name": "stdout",
     "output_type": "stream",
     "text": [
      "Error getting ZIP for nan, nan: Must be a coordinate pair or Point\n"
     ]
    },
    {
     "name": "stdout",
     "output_type": "stream",
     "text": [
      "Error getting ZIP for nan, nan: Must be a coordinate pair or Point\n"
     ]
    },
    {
     "name": "stdout",
     "output_type": "stream",
     "text": [
      "Error getting ZIP for nan, nan: Must be a coordinate pair or Point\n"
     ]
    },
    {
     "name": "stdout",
     "output_type": "stream",
     "text": [
      "Error getting ZIP for nan, nan: Must be a coordinate pair or Point\n"
     ]
    },
    {
     "name": "stdout",
     "output_type": "stream",
     "text": [
      "Error getting ZIP for nan, nan: Must be a coordinate pair or Point\n"
     ]
    },
    {
     "name": "stdout",
     "output_type": "stream",
     "text": [
      "Error getting ZIP for nan, nan: Must be a coordinate pair or Point\n"
     ]
    },
    {
     "name": "stdout",
     "output_type": "stream",
     "text": [
      "Error getting ZIP for nan, nan: Must be a coordinate pair or Point\n"
     ]
    },
    {
     "name": "stdout",
     "output_type": "stream",
     "text": [
      "Error getting ZIP for nan, nan: Must be a coordinate pair or Point\n"
     ]
    },
    {
     "name": "stdout",
     "output_type": "stream",
     "text": [
      "Error getting ZIP for nan, nan: Must be a coordinate pair or Point\n"
     ]
    },
    {
     "name": "stdout",
     "output_type": "stream",
     "text": [
      "Error getting ZIP for nan, nan: Must be a coordinate pair or Point\n"
     ]
    },
    {
     "name": "stdout",
     "output_type": "stream",
     "text": [
      "Error getting ZIP for nan, nan: Must be a coordinate pair or Point\n"
     ]
    },
    {
     "name": "stdout",
     "output_type": "stream",
     "text": [
      "Error getting ZIP for nan, nan: Must be a coordinate pair or Point\n"
     ]
    },
    {
     "name": "stdout",
     "output_type": "stream",
     "text": [
      "Error getting ZIP for nan, nan: Must be a coordinate pair or Point\n"
     ]
    },
    {
     "name": "stdout",
     "output_type": "stream",
     "text": [
      "Error getting ZIP for nan, nan: Must be a coordinate pair or Point\n"
     ]
    },
    {
     "name": "stdout",
     "output_type": "stream",
     "text": [
      "Error getting ZIP for nan, nan: Must be a coordinate pair or Point\n"
     ]
    },
    {
     "name": "stdout",
     "output_type": "stream",
     "text": [
      "Error getting ZIP for nan, nan: Must be a coordinate pair or Point\n"
     ]
    },
    {
     "name": "stdout",
     "output_type": "stream",
     "text": [
      "Error getting ZIP for nan, nan: Must be a coordinate pair or Point\n"
     ]
    },
    {
     "name": "stdout",
     "output_type": "stream",
     "text": [
      "Error getting ZIP for nan, nan: Must be a coordinate pair or Point\n"
     ]
    },
    {
     "name": "stdout",
     "output_type": "stream",
     "text": [
      "Error getting ZIP for nan, nan: Must be a coordinate pair or Point\n"
     ]
    },
    {
     "name": "stdout",
     "output_type": "stream",
     "text": [
      "Error getting ZIP for nan, nan: Must be a coordinate pair or Point\n"
     ]
    },
    {
     "name": "stdout",
     "output_type": "stream",
     "text": [
      "Error getting ZIP for nan, nan: Must be a coordinate pair or Point\n"
     ]
    },
    {
     "name": "stdout",
     "output_type": "stream",
     "text": [
      "Error getting ZIP for nan, nan: Must be a coordinate pair or Point\n"
     ]
    },
    {
     "name": "stdout",
     "output_type": "stream",
     "text": [
      "Error getting ZIP for nan, nan: Must be a coordinate pair or Point\n"
     ]
    },
    {
     "name": "stdout",
     "output_type": "stream",
     "text": [
      "Error getting ZIP for nan, nan: Must be a coordinate pair or Point\n"
     ]
    },
    {
     "name": "stdout",
     "output_type": "stream",
     "text": [
      "Error getting ZIP for nan, nan: Must be a coordinate pair or Point\n"
     ]
    },
    {
     "name": "stdout",
     "output_type": "stream",
     "text": [
      "Error getting ZIP for nan, nan: Must be a coordinate pair or Point\n"
     ]
    },
    {
     "name": "stdout",
     "output_type": "stream",
     "text": [
      "Error getting ZIP for nan, nan: Must be a coordinate pair or Point\n"
     ]
    },
    {
     "name": "stdout",
     "output_type": "stream",
     "text": [
      "Error getting ZIP for nan, nan: Must be a coordinate pair or Point\n"
     ]
    },
    {
     "name": "stdout",
     "output_type": "stream",
     "text": [
      "Error getting ZIP for nan, nan: Must be a coordinate pair or Point\n"
     ]
    },
    {
     "name": "stdout",
     "output_type": "stream",
     "text": [
      "Error getting ZIP for nan, nan: Must be a coordinate pair or Point\n"
     ]
    },
    {
     "name": "stdout",
     "output_type": "stream",
     "text": [
      "Error getting ZIP for nan, nan: Must be a coordinate pair or Point\n"
     ]
    },
    {
     "name": "stdout",
     "output_type": "stream",
     "text": [
      "Error getting ZIP for nan, nan: Must be a coordinate pair or Point\n"
     ]
    },
    {
     "name": "stdout",
     "output_type": "stream",
     "text": [
      "Error getting ZIP for nan, nan: Must be a coordinate pair or Point\n"
     ]
    },
    {
     "name": "stdout",
     "output_type": "stream",
     "text": [
      "Error getting ZIP for nan, nan: Must be a coordinate pair or Point\n"
     ]
    },
    {
     "name": "stdout",
     "output_type": "stream",
     "text": [
      "Error getting ZIP for nan, nan: Must be a coordinate pair or Point\n"
     ]
    },
    {
     "name": "stdout",
     "output_type": "stream",
     "text": [
      "Error getting ZIP for nan, nan: Must be a coordinate pair or Point\n"
     ]
    },
    {
     "name": "stdout",
     "output_type": "stream",
     "text": [
      "Error getting ZIP for nan, nan: Must be a coordinate pair or Point\n"
     ]
    },
    {
     "name": "stdout",
     "output_type": "stream",
     "text": [
      "Error getting ZIP for nan, nan: Must be a coordinate pair or Point\n"
     ]
    },
    {
     "name": "stdout",
     "output_type": "stream",
     "text": [
      "Error getting ZIP for nan, nan: Must be a coordinate pair or Point\n"
     ]
    },
    {
     "name": "stdout",
     "output_type": "stream",
     "text": [
      "Error getting ZIP for nan, nan: Must be a coordinate pair or Point\n"
     ]
    },
    {
     "name": "stdout",
     "output_type": "stream",
     "text": [
      "Error getting ZIP for nan, nan: Must be a coordinate pair or Point\n"
     ]
    },
    {
     "name": "stdout",
     "output_type": "stream",
     "text": [
      "Error getting ZIP for nan, nan: Must be a coordinate pair or Point\n"
     ]
    },
    {
     "name": "stdout",
     "output_type": "stream",
     "text": [
      "Error getting ZIP for nan, nan: Must be a coordinate pair or Point\n"
     ]
    },
    {
     "name": "stdout",
     "output_type": "stream",
     "text": [
      "Error getting ZIP for nan, nan: Must be a coordinate pair or Point\n"
     ]
    },
    {
     "name": "stdout",
     "output_type": "stream",
     "text": [
      "Error getting ZIP for nan, nan: Must be a coordinate pair or Point\n"
     ]
    },
    {
     "name": "stdout",
     "output_type": "stream",
     "text": [
      "Error getting ZIP for nan, nan: Must be a coordinate pair or Point\n"
     ]
    },
    {
     "name": "stdout",
     "output_type": "stream",
     "text": [
      "Error getting ZIP for nan, nan: Must be a coordinate pair or Point\n"
     ]
    },
    {
     "name": "stdout",
     "output_type": "stream",
     "text": [
      "Error getting ZIP for nan, nan: Must be a coordinate pair or Point\n"
     ]
    },
    {
     "name": "stdout",
     "output_type": "stream",
     "text": [
      "Error getting ZIP for nan, nan: Must be a coordinate pair or Point\n"
     ]
    },
    {
     "name": "stdout",
     "output_type": "stream",
     "text": [
      "Error getting ZIP for nan, nan: Must be a coordinate pair or Point\n"
     ]
    },
    {
     "name": "stdout",
     "output_type": "stream",
     "text": [
      "Error getting ZIP for nan, nan: Must be a coordinate pair or Point\n"
     ]
    },
    {
     "name": "stdout",
     "output_type": "stream",
     "text": [
      "Error getting ZIP for nan, nan: Must be a coordinate pair or Point\n"
     ]
    },
    {
     "name": "stdout",
     "output_type": "stream",
     "text": [
      "Error getting ZIP for nan, nan: Must be a coordinate pair or Point\n"
     ]
    },
    {
     "name": "stdout",
     "output_type": "stream",
     "text": [
      "Error getting ZIP for nan, nan: Must be a coordinate pair or Point\n"
     ]
    },
    {
     "name": "stdout",
     "output_type": "stream",
     "text": [
      "Error getting ZIP for nan, nan: Must be a coordinate pair or Point\n"
     ]
    },
    {
     "name": "stdout",
     "output_type": "stream",
     "text": [
      "Error getting ZIP for nan, nan: Must be a coordinate pair or Point\n"
     ]
    },
    {
     "name": "stdout",
     "output_type": "stream",
     "text": [
      "Error getting ZIP for nan, nan: Must be a coordinate pair or Point\n"
     ]
    },
    {
     "name": "stdout",
     "output_type": "stream",
     "text": [
      "Error getting ZIP for nan, nan: Must be a coordinate pair or Point\n"
     ]
    },
    {
     "name": "stdout",
     "output_type": "stream",
     "text": [
      "Error getting ZIP for nan, nan: Must be a coordinate pair or Point\n"
     ]
    },
    {
     "name": "stdout",
     "output_type": "stream",
     "text": [
      "Error getting ZIP for nan, nan: Must be a coordinate pair or Point\n"
     ]
    },
    {
     "name": "stdout",
     "output_type": "stream",
     "text": [
      "Error getting ZIP for nan, nan: Must be a coordinate pair or Point\n"
     ]
    },
    {
     "name": "stdout",
     "output_type": "stream",
     "text": [
      "Error getting ZIP for nan, nan: Must be a coordinate pair or Point\n"
     ]
    },
    {
     "name": "stdout",
     "output_type": "stream",
     "text": [
      "Error getting ZIP for nan, nan: Must be a coordinate pair or Point\n"
     ]
    },
    {
     "name": "stdout",
     "output_type": "stream",
     "text": [
      "Error getting ZIP for nan, nan: Must be a coordinate pair or Point\n"
     ]
    },
    {
     "name": "stdout",
     "output_type": "stream",
     "text": [
      "Error getting ZIP for nan, nan: Must be a coordinate pair or Point\n"
     ]
    },
    {
     "name": "stdout",
     "output_type": "stream",
     "text": [
      "Error getting ZIP for nan, nan: Must be a coordinate pair or Point\n"
     ]
    },
    {
     "name": "stdout",
     "output_type": "stream",
     "text": [
      "Error getting ZIP for nan, nan: Must be a coordinate pair or Point\n"
     ]
    },
    {
     "name": "stdout",
     "output_type": "stream",
     "text": [
      "Error getting ZIP for nan, nan: Must be a coordinate pair or Point\n"
     ]
    },
    {
     "name": "stdout",
     "output_type": "stream",
     "text": [
      "Error getting ZIP for nan, nan: Must be a coordinate pair or Point\n"
     ]
    },
    {
     "name": "stdout",
     "output_type": "stream",
     "text": [
      "Error getting ZIP for nan, nan: Must be a coordinate pair or Point\n"
     ]
    },
    {
     "name": "stdout",
     "output_type": "stream",
     "text": [
      "Error getting ZIP for nan, nan: Must be a coordinate pair or Point\n"
     ]
    },
    {
     "name": "stdout",
     "output_type": "stream",
     "text": [
      "Error getting ZIP for nan, nan: Must be a coordinate pair or Point\n"
     ]
    },
    {
     "name": "stdout",
     "output_type": "stream",
     "text": [
      "Error getting ZIP for nan, nan: Must be a coordinate pair or Point\n"
     ]
    },
    {
     "name": "stdout",
     "output_type": "stream",
     "text": [
      "Error getting ZIP for nan, nan: Must be a coordinate pair or Point\n"
     ]
    },
    {
     "name": "stdout",
     "output_type": "stream",
     "text": [
      "Error getting ZIP for nan, nan: Must be a coordinate pair or Point\n"
     ]
    },
    {
     "data": {
      "text/html": [
       "<div>\n",
       "<style scoped>\n",
       "    .dataframe tbody tr th:only-of-type {\n",
       "        vertical-align: middle;\n",
       "    }\n",
       "\n",
       "    .dataframe tbody tr th {\n",
       "        vertical-align: top;\n",
       "    }\n",
       "\n",
       "    .dataframe thead th {\n",
       "        text-align: right;\n",
       "    }\n",
       "</style>\n",
       "<table border=\"1\" class=\"dataframe\">\n",
       "  <thead>\n",
       "    <tr style=\"text-align: right;\">\n",
       "      <th></th>\n",
       "      <th>RecordID</th>\n",
       "      <th>Offense</th>\n",
       "      <th>IncidentID</th>\n",
       "      <th>BlockNumber</th>\n",
       "      <th>StreetName</th>\n",
       "      <th>Agency</th>\n",
       "      <th>HourReported</th>\n",
       "      <th>ReportingOfficer</th>\n",
       "      <th>Date</th>\n",
       "      <th>DateString</th>\n",
       "      <th>DayOfWeek</th>\n",
       "      <th>Weekend</th>\n",
       "      <th>Season</th>\n",
       "      <th>HourAMPM</th>\n",
       "      <th>TimeOfDay</th>\n",
       "      <th>FullStreet</th>\n",
       "      <th>lat</th>\n",
       "      <th>lon</th>\n",
       "      <th>neighborhood</th>\n",
       "      <th>zip</th>\n",
       "    </tr>\n",
       "  </thead>\n",
       "  <tbody>\n",
       "    <tr>\n",
       "      <th>0</th>\n",
       "      <td>1</td>\n",
       "      <td>Assist Citizen - Mental/TDO/ECO</td>\n",
       "      <td>202500036139</td>\n",
       "      <td>600</td>\n",
       "      <td>PRESTON AVE</td>\n",
       "      <td>CPD</td>\n",
       "      <td>2159</td>\n",
       "      <td>Urban, Jacob</td>\n",
       "      <td>2025-10-05 21:59:16</td>\n",
       "      <td>2025-10-05 09:59:16 PM</td>\n",
       "      <td>Sunday</td>\n",
       "      <td>True</td>\n",
       "      <td>Autumn</td>\n",
       "      <td>09:59 PM</td>\n",
       "      <td>Night</td>\n",
       "      <td>600 PRESTON AVE</td>\n",
       "      <td>38.034709</td>\n",
       "      <td>-78.486265</td>\n",
       "      <td>Starr Hill</td>\n",
       "      <td>22903</td>\n",
       "    </tr>\n",
       "    <tr>\n",
       "      <th>1</th>\n",
       "      <td>2</td>\n",
       "      <td>Vandalism</td>\n",
       "      <td>202500036121</td>\n",
       "      <td>1100</td>\n",
       "      <td>W MAIN ST</td>\n",
       "      <td>CPD</td>\n",
       "      <td>2019</td>\n",
       "      <td>Wemple, Christopher</td>\n",
       "      <td>2025-10-05 20:19:03</td>\n",
       "      <td>2025-10-05 08:19:03 PM</td>\n",
       "      <td>Sunday</td>\n",
       "      <td>True</td>\n",
       "      <td>Autumn</td>\n",
       "      <td>08:19 PM</td>\n",
       "      <td>Evening</td>\n",
       "      <td>1100 W MAIN ST</td>\n",
       "      <td>38.032623</td>\n",
       "      <td>-78.496334</td>\n",
       "      <td>10th &amp; Page</td>\n",
       "      <td>22903</td>\n",
       "    </tr>\n",
       "    <tr>\n",
       "      <th>2</th>\n",
       "      <td>3</td>\n",
       "      <td>Drunkeness DIP</td>\n",
       "      <td>202500036107</td>\n",
       "      <td>600</td>\n",
       "      <td>E MARKET ST</td>\n",
       "      <td>CPD</td>\n",
       "      <td>1836</td>\n",
       "      <td>Benbow, Lauren</td>\n",
       "      <td>2025-10-05 18:36:42</td>\n",
       "      <td>2025-10-05 06:36:42 PM</td>\n",
       "      <td>Sunday</td>\n",
       "      <td>True</td>\n",
       "      <td>Autumn</td>\n",
       "      <td>06:36 PM</td>\n",
       "      <td>Evening</td>\n",
       "      <td>600 E MARKET ST</td>\n",
       "      <td>38.030175</td>\n",
       "      <td>-78.477574</td>\n",
       "      <td>Downtown Mall</td>\n",
       "      <td>22902</td>\n",
       "    </tr>\n",
       "    <tr>\n",
       "      <th>3</th>\n",
       "      <td>4</td>\n",
       "      <td>Disorderly Conduct</td>\n",
       "      <td>202500036101</td>\n",
       "      <td></td>\n",
       "      <td>E HIGH ST / 7TH ST NE</td>\n",
       "      <td>CPD</td>\n",
       "      <td>1748</td>\n",
       "      <td>Urban, Jacob</td>\n",
       "      <td>2025-10-05 17:48:59</td>\n",
       "      <td>2025-10-05 05:48:59 PM</td>\n",
       "      <td>Sunday</td>\n",
       "      <td>True</td>\n",
       "      <td>Autumn</td>\n",
       "      <td>05:48 PM</td>\n",
       "      <td>Evening</td>\n",
       "      <td>E HIGH ST / 7TH ST NE</td>\n",
       "      <td>NaN</td>\n",
       "      <td>NaN</td>\n",
       "      <td>N/A</td>\n",
       "      <td>N/A</td>\n",
       "    </tr>\n",
       "    <tr>\n",
       "      <th>4</th>\n",
       "      <td>5</td>\n",
       "      <td>Assault Simple</td>\n",
       "      <td>202500036097</td>\n",
       "      <td>600</td>\n",
       "      <td>6TH ST SE, 309</td>\n",
       "      <td>CPD</td>\n",
       "      <td>1718</td>\n",
       "      <td>Vlasis, Christopher</td>\n",
       "      <td>2025-10-05 17:18:42</td>\n",
       "      <td>2025-10-05 05:18:42 PM</td>\n",
       "      <td>Sunday</td>\n",
       "      <td>True</td>\n",
       "      <td>Autumn</td>\n",
       "      <td>05:18 PM</td>\n",
       "      <td>Evening</td>\n",
       "      <td>600 6TH ST SE, 309</td>\n",
       "      <td>38.025815</td>\n",
       "      <td>-78.480160</td>\n",
       "      <td>North Downtown</td>\n",
       "      <td>22903</td>\n",
       "    </tr>\n",
       "  </tbody>\n",
       "</table>\n",
       "</div>"
      ],
      "text/plain": [
       "   RecordID                          Offense    IncidentID BlockNumber  \\\n",
       "0         1  Assist Citizen - Mental/TDO/ECO  202500036139         600   \n",
       "1         2                        Vandalism  202500036121        1100   \n",
       "2         3                   Drunkeness DIP  202500036107         600   \n",
       "3         4               Disorderly Conduct  202500036101               \n",
       "4         5                   Assault Simple  202500036097         600   \n",
       "\n",
       "              StreetName Agency HourReported     ReportingOfficer  \\\n",
       "0            PRESTON AVE    CPD         2159         Urban, Jacob   \n",
       "1              W MAIN ST    CPD         2019  Wemple, Christopher   \n",
       "2            E MARKET ST    CPD         1836       Benbow, Lauren   \n",
       "3  E HIGH ST / 7TH ST NE    CPD         1748         Urban, Jacob   \n",
       "4         6TH ST SE, 309    CPD         1718  Vlasis, Christopher   \n",
       "\n",
       "                 Date              DateString DayOfWeek  Weekend  Season  \\\n",
       "0 2025-10-05 21:59:16  2025-10-05 09:59:16 PM    Sunday     True  Autumn   \n",
       "1 2025-10-05 20:19:03  2025-10-05 08:19:03 PM    Sunday     True  Autumn   \n",
       "2 2025-10-05 18:36:42  2025-10-05 06:36:42 PM    Sunday     True  Autumn   \n",
       "3 2025-10-05 17:48:59  2025-10-05 05:48:59 PM    Sunday     True  Autumn   \n",
       "4 2025-10-05 17:18:42  2025-10-05 05:18:42 PM    Sunday     True  Autumn   \n",
       "\n",
       "   HourAMPM TimeOfDay              FullStreet        lat        lon  \\\n",
       "0  09:59 PM     Night         600 PRESTON AVE  38.034709 -78.486265   \n",
       "1  08:19 PM   Evening          1100 W MAIN ST  38.032623 -78.496334   \n",
       "2  06:36 PM   Evening         600 E MARKET ST  38.030175 -78.477574   \n",
       "3  05:48 PM   Evening   E HIGH ST / 7TH ST NE        NaN        NaN   \n",
       "4  05:18 PM   Evening      600 6TH ST SE, 309  38.025815 -78.480160   \n",
       "\n",
       "     neighborhood    zip  \n",
       "0      Starr Hill  22903  \n",
       "1     10th & Page  22903  \n",
       "2   Downtown Mall  22902  \n",
       "3             N/A    N/A  \n",
       "4  North Downtown  22903  "
      ]
     },
     "execution_count": 11,
     "metadata": {},
     "output_type": "execute_result"
    }
   ],
   "source": [
    "# Initialize the geocoder.\n",
    "geolocator = Nominatim(user_agent=\"zip_lookup\")\n",
    "\n",
    "# Try to load a persistent ZIP cache if available.\n",
    "try:\n",
    "    with open(\"zip_cache.pkl\", \"rb\") as f:\n",
    "        zip_cache = pickle.load(f)\n",
    "    print(\"Loaded zip cache.\")\n",
    "except FileNotFoundError:\n",
    "    zip_cache = {}\n",
    "    print(\"No zip cache found; starting fresh.\")\n",
    "\n",
    "def get_zip(lat, lon):\n",
    "    \"\"\"\n",
    "    Reverse geocodes a latitude and longitude to retrieve the ZIP code.\n",
    "    Caches results to speed up subsequent lookups.\n",
    "    \"\"\"\n",
    "    key = (lat, lon)\n",
    "    if key in zip_cache:\n",
    "        return zip_cache[key]\n",
    "    \n",
    "    try:\n",
    "        location = geolocator.reverse((lat, lon), exactly_one=True, timeout=10)\n",
    "        address = location.raw.get('address', {})\n",
    "        postal_code = address.get('postcode', \"N/A\")\n",
    "    except Exception as e:\n",
    "        print(f\"Error getting ZIP for {lat}, {lon}: {e}\")\n",
    "        postal_code = \"N/A\"\n",
    "    \n",
    "    zip_cache[key] = postal_code\n",
    "    # Pause to respect the usage policy.\n",
    "    time.sleep(1)\n",
    "    return postal_code\n",
    "\n",
    "# Apply the function to each row in the DataFrame.\n",
    "df['zip'] = df.apply(lambda row: get_zip(row['lat'], row['lon']), axis=1)\n",
    "\n",
    "# Save the updated ZIP cache.\n",
    "with open(\"zip_cache.pkl\", \"wb\") as f:\n",
    "    pickle.dump(zip_cache, f)\n",
    "\n",
    "df.head()\n"
   ]
  },
  {
   "cell_type": "code",
   "execution_count": 12,
   "id": "1d2c403c",
   "metadata": {
    "execution": {
     "iopub.execute_input": "2025-10-08T00:17:48.524771Z",
     "iopub.status.busy": "2025-10-08T00:17:48.524532Z",
     "iopub.status.idle": "2025-10-08T00:17:48.572523Z",
     "shell.execute_reply": "2025-10-08T00:17:48.571865Z"
    },
    "papermill": {
     "duration": 0.066438,
     "end_time": "2025-10-08T00:17:48.573672",
     "exception": false,
     "start_time": "2025-10-08T00:17:48.507234",
     "status": "completed"
    },
    "tags": []
   },
   "outputs": [
    {
     "name": "stdout",
     "output_type": "stream",
     "text": [
      "                  MissingCount  MissingPercentage\n",
      "RecordID                     0               0.00\n",
      "Offense                      0               0.00\n",
      "IncidentID                   0               0.00\n",
      "BlockNumber                  0               0.00\n",
      "StreetName                   0               0.00\n",
      "Agency                       0               0.00\n",
      "HourReported                 0               0.00\n",
      "ReportingOfficer            13               0.05\n",
      "Date                         0               0.00\n",
      "DateString                   0               0.00\n",
      "DayOfWeek                    0               0.00\n",
      "Weekend                      0               0.00\n",
      "Season                       0               0.00\n",
      "HourAMPM                     0               0.00\n",
      "TimeOfDay                    0               0.00\n",
      "FullStreet                   0               0.00\n",
      "lat                        232               0.90\n",
      "lon                        232               0.90\n",
      "neighborhood                 0               0.00\n",
      "zip                          0               0.00\n"
     ]
    }
   ],
   "source": [
    "missing_info = missing_percentage(df)\n",
    "print(missing_info)\n"
   ]
  },
  {
   "cell_type": "code",
   "execution_count": 13,
   "id": "9bbae7c9",
   "metadata": {
    "execution": {
     "iopub.execute_input": "2025-10-08T00:17:48.608270Z",
     "iopub.status.busy": "2025-10-08T00:17:48.607966Z",
     "iopub.status.idle": "2025-10-08T00:17:48.654544Z",
     "shell.execute_reply": "2025-10-08T00:17:48.653747Z"
    },
    "papermill": {
     "duration": 0.064693,
     "end_time": "2025-10-08T00:17:48.655807",
     "exception": false,
     "start_time": "2025-10-08T00:17:48.591114",
     "status": "completed"
    },
    "tags": []
   },
   "outputs": [
    {
     "name": "stdout",
     "output_type": "stream",
     "text": [
      "<class 'pandas.core.frame.DataFrame'>\n",
      "RangeIndex: 25883 entries, 0 to 25882\n",
      "Data columns (total 20 columns):\n",
      " #   Column            Non-Null Count  Dtype         \n",
      "---  ------            --------------  -----         \n",
      " 0   RecordID          25883 non-null  int64         \n",
      " 1   Offense           25883 non-null  object        \n",
      " 2   IncidentID        25883 non-null  object        \n",
      " 3   BlockNumber       25883 non-null  object        \n",
      " 4   StreetName        25883 non-null  object        \n",
      " 5   Agency            25883 non-null  object        \n",
      " 6   HourReported      25883 non-null  object        \n",
      " 7   ReportingOfficer  25870 non-null  object        \n",
      " 8   Date              25883 non-null  datetime64[ns]\n",
      " 9   DateString        25883 non-null  object        \n",
      " 10  DayOfWeek         25883 non-null  object        \n",
      " 11  Weekend           25883 non-null  bool          \n",
      " 12  Season            25883 non-null  object        \n",
      " 13  HourAMPM          25883 non-null  object        \n",
      " 14  TimeOfDay         25883 non-null  object        \n",
      " 15  FullStreet        25883 non-null  object        \n",
      " 16  lat               25651 non-null  float64       \n",
      " 17  lon               25651 non-null  float64       \n",
      " 18  neighborhood      25883 non-null  object        \n",
      " 19  zip               25883 non-null  object        \n",
      "dtypes: bool(1), datetime64[ns](1), float64(2), int64(1), object(15)\n",
      "memory usage: 3.8+ MB\n"
     ]
    }
   ],
   "source": [
    "df.info()"
   ]
  },
  {
   "cell_type": "code",
   "execution_count": 14,
   "id": "9b1bf66a",
   "metadata": {
    "execution": {
     "iopub.execute_input": "2025-10-08T00:17:48.692984Z",
     "iopub.status.busy": "2025-10-08T00:17:48.692679Z",
     "iopub.status.idle": "2025-10-08T00:17:48.754316Z",
     "shell.execute_reply": "2025-10-08T00:17:48.753400Z"
    },
    "papermill": {
     "duration": 0.080793,
     "end_time": "2025-10-08T00:17:48.755588",
     "exception": false,
     "start_time": "2025-10-08T00:17:48.674795",
     "status": "completed"
    },
    "tags": []
   },
   "outputs": [
    {
     "data": {
      "text/html": [
       "<div>\n",
       "<style scoped>\n",
       "    .dataframe tbody tr th:only-of-type {\n",
       "        vertical-align: middle;\n",
       "    }\n",
       "\n",
       "    .dataframe tbody tr th {\n",
       "        vertical-align: top;\n",
       "    }\n",
       "\n",
       "    .dataframe thead th {\n",
       "        text-align: right;\n",
       "    }\n",
       "</style>\n",
       "<table border=\"1\" class=\"dataframe\">\n",
       "  <thead>\n",
       "    <tr style=\"text-align: right;\">\n",
       "      <th></th>\n",
       "      <th>RecordID</th>\n",
       "      <th>Offense</th>\n",
       "      <th>IncidentID</th>\n",
       "      <th>Agency</th>\n",
       "      <th>ReportingOfficer</th>\n",
       "      <th>Date</th>\n",
       "      <th>DayOfWeek</th>\n",
       "      <th>Weekend</th>\n",
       "      <th>Season</th>\n",
       "      <th>TimeOfDay</th>\n",
       "      <th>FullStreet</th>\n",
       "      <th>lat</th>\n",
       "      <th>lon</th>\n",
       "      <th>neighborhood</th>\n",
       "      <th>zip</th>\n",
       "    </tr>\n",
       "  </thead>\n",
       "  <tbody>\n",
       "    <tr>\n",
       "      <th>0</th>\n",
       "      <td>1</td>\n",
       "      <td>Assist Citizen - Mental/TDO/ECO</td>\n",
       "      <td>202500036139</td>\n",
       "      <td>CPD</td>\n",
       "      <td>Urban, Jacob</td>\n",
       "      <td>2025-10-05 21:59:16</td>\n",
       "      <td>Sunday</td>\n",
       "      <td>True</td>\n",
       "      <td>Autumn</td>\n",
       "      <td>Night</td>\n",
       "      <td>600 PRESTON AVE</td>\n",
       "      <td>38.034709</td>\n",
       "      <td>-78.486265</td>\n",
       "      <td>Starr Hill</td>\n",
       "      <td>22903</td>\n",
       "    </tr>\n",
       "    <tr>\n",
       "      <th>1</th>\n",
       "      <td>2</td>\n",
       "      <td>Vandalism</td>\n",
       "      <td>202500036121</td>\n",
       "      <td>CPD</td>\n",
       "      <td>Wemple, Christopher</td>\n",
       "      <td>2025-10-05 20:19:03</td>\n",
       "      <td>Sunday</td>\n",
       "      <td>True</td>\n",
       "      <td>Autumn</td>\n",
       "      <td>Evening</td>\n",
       "      <td>1100 W MAIN ST</td>\n",
       "      <td>38.032623</td>\n",
       "      <td>-78.496334</td>\n",
       "      <td>10th &amp; Page</td>\n",
       "      <td>22903</td>\n",
       "    </tr>\n",
       "    <tr>\n",
       "      <th>2</th>\n",
       "      <td>3</td>\n",
       "      <td>Drunkeness DIP</td>\n",
       "      <td>202500036107</td>\n",
       "      <td>CPD</td>\n",
       "      <td>Benbow, Lauren</td>\n",
       "      <td>2025-10-05 18:36:42</td>\n",
       "      <td>Sunday</td>\n",
       "      <td>True</td>\n",
       "      <td>Autumn</td>\n",
       "      <td>Evening</td>\n",
       "      <td>600 E MARKET ST</td>\n",
       "      <td>38.030175</td>\n",
       "      <td>-78.477574</td>\n",
       "      <td>Downtown Mall</td>\n",
       "      <td>22902</td>\n",
       "    </tr>\n",
       "    <tr>\n",
       "      <th>3</th>\n",
       "      <td>4</td>\n",
       "      <td>Disorderly Conduct</td>\n",
       "      <td>202500036101</td>\n",
       "      <td>CPD</td>\n",
       "      <td>Urban, Jacob</td>\n",
       "      <td>2025-10-05 17:48:59</td>\n",
       "      <td>Sunday</td>\n",
       "      <td>True</td>\n",
       "      <td>Autumn</td>\n",
       "      <td>Evening</td>\n",
       "      <td>E HIGH ST / 7TH ST NE</td>\n",
       "      <td>N/A</td>\n",
       "      <td>N/A</td>\n",
       "      <td>N/A</td>\n",
       "      <td>N/A</td>\n",
       "    </tr>\n",
       "    <tr>\n",
       "      <th>4</th>\n",
       "      <td>5</td>\n",
       "      <td>Assault Simple</td>\n",
       "      <td>202500036097</td>\n",
       "      <td>CPD</td>\n",
       "      <td>Vlasis, Christopher</td>\n",
       "      <td>2025-10-05 17:18:42</td>\n",
       "      <td>Sunday</td>\n",
       "      <td>True</td>\n",
       "      <td>Autumn</td>\n",
       "      <td>Evening</td>\n",
       "      <td>600 6TH ST SE, 309</td>\n",
       "      <td>38.025815</td>\n",
       "      <td>-78.48016</td>\n",
       "      <td>North Downtown</td>\n",
       "      <td>22903</td>\n",
       "    </tr>\n",
       "  </tbody>\n",
       "</table>\n",
       "</div>"
      ],
      "text/plain": [
       "   RecordID                          Offense    IncidentID Agency  \\\n",
       "0         1  Assist Citizen - Mental/TDO/ECO  202500036139    CPD   \n",
       "1         2                        Vandalism  202500036121    CPD   \n",
       "2         3                   Drunkeness DIP  202500036107    CPD   \n",
       "3         4               Disorderly Conduct  202500036101    CPD   \n",
       "4         5                   Assault Simple  202500036097    CPD   \n",
       "\n",
       "      ReportingOfficer                Date DayOfWeek  Weekend  Season  \\\n",
       "0         Urban, Jacob 2025-10-05 21:59:16    Sunday     True  Autumn   \n",
       "1  Wemple, Christopher 2025-10-05 20:19:03    Sunday     True  Autumn   \n",
       "2       Benbow, Lauren 2025-10-05 18:36:42    Sunday     True  Autumn   \n",
       "3         Urban, Jacob 2025-10-05 17:48:59    Sunday     True  Autumn   \n",
       "4  Vlasis, Christopher 2025-10-05 17:18:42    Sunday     True  Autumn   \n",
       "\n",
       "  TimeOfDay              FullStreet        lat        lon    neighborhood  \\\n",
       "0     Night         600 PRESTON AVE  38.034709 -78.486265      Starr Hill   \n",
       "1   Evening          1100 W MAIN ST  38.032623 -78.496334     10th & Page   \n",
       "2   Evening         600 E MARKET ST  38.030175 -78.477574   Downtown Mall   \n",
       "3   Evening   E HIGH ST / 7TH ST NE        N/A        N/A             N/A   \n",
       "4   Evening      600 6TH ST SE, 309  38.025815  -78.48016  North Downtown   \n",
       "\n",
       "     zip  \n",
       "0  22903  \n",
       "1  22903  \n",
       "2  22902  \n",
       "3    N/A  \n",
       "4  22903  "
      ]
     },
     "execution_count": 14,
     "metadata": {},
     "output_type": "execute_result"
    }
   ],
   "source": [
    "# Now drop the original BlockNumber and StreetName columns\n",
    "df.drop(columns=['BlockNumber', 'StreetName','HourAMPM','HourReported','DateString'], inplace=True)\n",
    "df[\"zip\"] = df[\"zip\"].astype(str)\n",
    "\n",
    "# Fill all missing values in the DataFrame with \"N/A\"\n",
    "df.replace({None: \"N/A\", np.nan: \"N/A\", \"\": \"N/A\"}, inplace=True)\n",
    "df.head()"
   ]
  },
  {
   "cell_type": "code",
   "execution_count": 15,
   "id": "f55c6768",
   "metadata": {
    "execution": {
     "iopub.execute_input": "2025-10-08T00:17:48.792486Z",
     "iopub.status.busy": "2025-10-08T00:17:48.792202Z",
     "iopub.status.idle": "2025-10-08T00:17:48.818289Z",
     "shell.execute_reply": "2025-10-08T00:17:48.817619Z"
    },
    "papermill": {
     "duration": 0.045165,
     "end_time": "2025-10-08T00:17:48.819481",
     "exception": false,
     "start_time": "2025-10-08T00:17:48.774316",
     "status": "completed"
    },
    "tags": []
   },
   "outputs": [
    {
     "name": "stdout",
     "output_type": "stream",
     "text": [
      "                  MissingCount  MissingPercentage\n",
      "RecordID                     0                0.0\n",
      "Offense                      0                0.0\n",
      "IncidentID                   0                0.0\n",
      "Agency                       0                0.0\n",
      "ReportingOfficer             0                0.0\n",
      "Date                         0                0.0\n",
      "DayOfWeek                    0                0.0\n",
      "Weekend                      0                0.0\n",
      "Season                       0                0.0\n",
      "TimeOfDay                    0                0.0\n",
      "FullStreet                   0                0.0\n",
      "lat                          0                0.0\n",
      "lon                          0                0.0\n",
      "neighborhood                 0                0.0\n",
      "zip                          0                0.0\n"
     ]
    }
   ],
   "source": [
    "missing_info = missing_percentage(df)\n",
    "print(missing_info)"
   ]
  },
  {
   "cell_type": "code",
   "execution_count": 16,
   "id": "2f478cf8",
   "metadata": {
    "execution": {
     "iopub.execute_input": "2025-10-08T00:17:48.856656Z",
     "iopub.status.busy": "2025-10-08T00:17:48.856331Z",
     "iopub.status.idle": "2025-10-08T00:17:48.861616Z",
     "shell.execute_reply": "2025-10-08T00:17:48.860941Z"
    },
    "papermill": {
     "duration": 0.024761,
     "end_time": "2025-10-08T00:17:48.862677",
     "exception": false,
     "start_time": "2025-10-08T00:17:48.837916",
     "status": "completed"
    },
    "tags": []
   },
   "outputs": [
    {
     "data": {
      "text/plain": [
       "Index(['RecordID', 'Offense', 'IncidentID', 'Agency', 'ReportingOfficer',\n",
       "       'Date', 'DayOfWeek', 'Weekend', 'Season', 'TimeOfDay', 'FullStreet',\n",
       "       'lat', 'lon', 'neighborhood', 'zip'],\n",
       "      dtype='object')"
      ]
     },
     "execution_count": 16,
     "metadata": {},
     "output_type": "execute_result"
    }
   ],
   "source": [
    "df.columns"
   ]
  },
  {
   "cell_type": "code",
   "execution_count": 17,
   "id": "e16b81ca",
   "metadata": {
    "execution": {
     "iopub.execute_input": "2025-10-08T00:17:48.899167Z",
     "iopub.status.busy": "2025-10-08T00:17:48.898900Z",
     "iopub.status.idle": "2025-10-08T00:17:48.931866Z",
     "shell.execute_reply": "2025-10-08T00:17:48.931150Z"
    },
    "papermill": {
     "duration": 0.052626,
     "end_time": "2025-10-08T00:17:48.933215",
     "exception": false,
     "start_time": "2025-10-08T00:17:48.880589",
     "status": "completed"
    },
    "tags": []
   },
   "outputs": [
    {
     "name": "stdout",
     "output_type": "stream",
     "text": [
      "<class 'pandas.core.frame.DataFrame'>\n",
      "RangeIndex: 25883 entries, 0 to 25882\n",
      "Data columns (total 15 columns):\n",
      " #   Column            Non-Null Count  Dtype         \n",
      "---  ------            --------------  -----         \n",
      " 0   RecordID          25883 non-null  int64         \n",
      " 1   Offense           25883 non-null  object        \n",
      " 2   IncidentID        25883 non-null  object        \n",
      " 3   Agency            25883 non-null  object        \n",
      " 4   ReportingOfficer  25883 non-null  object        \n",
      " 5   Date              25883 non-null  datetime64[ns]\n",
      " 6   DayOfWeek         25883 non-null  object        \n",
      " 7   Weekend           25883 non-null  bool          \n",
      " 8   Season            25883 non-null  object        \n",
      " 9   TimeOfDay         25883 non-null  object        \n",
      " 10  FullStreet        25883 non-null  object        \n",
      " 11  lat               25883 non-null  object        \n",
      " 12  lon               25883 non-null  object        \n",
      " 13  neighborhood      25883 non-null  object        \n",
      " 14  zip               25883 non-null  object        \n",
      "dtypes: bool(1), datetime64[ns](1), int64(1), object(12)\n",
      "memory usage: 2.8+ MB\n"
     ]
    }
   ],
   "source": [
    "df.info()"
   ]
  },
  {
   "cell_type": "markdown",
   "id": "192cbd8b",
   "metadata": {
    "papermill": {
     "duration": 0.017778,
     "end_time": "2025-10-08T00:17:48.970246",
     "exception": false,
     "start_time": "2025-10-08T00:17:48.952468",
     "status": "completed"
    },
    "tags": []
   },
   "source": [
    "### Export Clean Data"
   ]
  },
  {
   "cell_type": "code",
   "execution_count": 18,
   "id": "b4dc7192",
   "metadata": {
    "execution": {
     "iopub.execute_input": "2025-10-08T00:17:49.006124Z",
     "iopub.status.busy": "2025-10-08T00:17:49.005753Z",
     "iopub.status.idle": "2025-10-08T00:18:00.126771Z",
     "shell.execute_reply": "2025-10-08T00:18:00.125931Z"
    },
    "papermill": {
     "duration": 11.140221,
     "end_time": "2025-10-08T00:18:00.128019",
     "exception": false,
     "start_time": "2025-10-08T00:17:48.987798",
     "status": "completed"
    },
    "tags": []
   },
   "outputs": [
    {
     "name": "stdout",
     "output_type": "stream",
     "text": [
      "Project Root: /home/runner/work/crime-data/crime-data\n"
     ]
    },
    {
     "name": "stdout",
     "output_type": "stream",
     "text": [
      "Data saved to: /home/runner/work/crime-data/crime-data/data/charlottesville_crime_incidents.csv\n"
     ]
    },
    {
     "name": "stdout",
     "output_type": "stream",
     "text": [
      "Excel saved to: /home/runner/work/crime-data/crime-data/data/charlottesville_crime_incidents.xlsx\n"
     ]
    }
   ],
   "source": [
    "# Determine the project root (assuming papermill is run from the repository root)\n",
    "project_root = os.getcwd()\n",
    "print(\"Project Root:\", project_root)\n",
    "\n",
    "# Set the data directory within the project root\n",
    "data_dir = os.path.join(project_root, \"data\")\n",
    "\n",
    "# Ensure the \"data\" directory exists (create it if it doesn't)\n",
    "if not os.path.exists(data_dir):\n",
    "    os.makedirs(data_dir)\n",
    "\n",
    "# Export the DataFrame to CSV in the \"data\" folder located in the project root\n",
    "csv_path = os.path.join(data_dir, \"charlottesville_crime_incidents.csv\")\n",
    "df.to_csv(csv_path, index=False)\n",
    "print(\"Data saved to:\", csv_path)\n",
    "\n",
    "# Construct the path to your Excel file\n",
    "excel_path = os.path.join(data_dir, \"charlottesville_crime_incidents.xlsx\")\n",
    "\n",
    "# Export the DataFrame to Excel\n",
    "df.to_excel(excel_path, index=False)\n",
    "print(\"Excel saved to:\", excel_path)\n"
   ]
  }
 ],
 "metadata": {
  "kernelspec": {
   "display_name": "Python 3",
   "language": "python",
   "name": "python3"
  },
  "language_info": {
   "codemirror_mode": {
    "name": "ipython",
    "version": 3
   },
   "file_extension": ".py",
   "mimetype": "text/x-python",
   "name": "python",
   "nbconvert_exporter": "python",
   "pygments_lexer": "ipython3",
   "version": "3.9.23"
  },
  "papermill": {
   "default_parameters": {},
   "duration": 267.877889,
   "end_time": "2025-10-08T00:18:01.168410",
   "environment_variables": {},
   "exception": null,
   "input_path": "notebook/Crime Data.ipynb",
   "output_path": "notebook/Crime Data_output.ipynb",
   "parameters": {},
   "start_time": "2025-10-08T00:13:33.290521",
   "version": "2.6.0"
  }
 },
 "nbformat": 4,
 "nbformat_minor": 5
}