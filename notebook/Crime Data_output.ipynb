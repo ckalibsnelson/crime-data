{
 "cells": [
  {
   "cell_type": "markdown",
   "id": "f47ff6a9",
   "metadata": {
    "papermill": {
     "duration": 0.00623,
     "end_time": "2025-04-17T01:00:04.418248",
     "exception": false,
     "start_time": "2025-04-17T01:00:04.412018",
     "status": "completed"
    },
    "tags": []
   },
   "source": [
    "# Charlottesville Open Data Porttal: Crime Data"
   ]
  },
  {
   "cell_type": "markdown",
   "id": "e9a6ccd1",
   "metadata": {
    "papermill": {
     "duration": 0.005024,
     "end_time": "2025-04-17T01:00:04.428748",
     "exception": false,
     "start_time": "2025-04-17T01:00:04.423724",
     "status": "completed"
    },
    "tags": []
   },
   "source": [
    "## Import Relevant Librarires & Set WD"
   ]
  },
  {
   "cell_type": "code",
   "execution_count": 1,
   "id": "f4f9442a",
   "metadata": {
    "execution": {
     "iopub.execute_input": "2025-04-17T01:00:04.440176Z",
     "iopub.status.busy": "2025-04-17T01:00:04.439717Z",
     "iopub.status.idle": "2025-04-17T01:00:05.182043Z",
     "shell.execute_reply": "2025-04-17T01:00:05.181301Z"
    },
    "papermill": {
     "duration": 0.749653,
     "end_time": "2025-04-17T01:00:05.183467",
     "exception": false,
     "start_time": "2025-04-17T01:00:04.433814",
     "status": "completed"
    },
    "tags": []
   },
   "outputs": [],
   "source": [
    "import requests\n",
    "import pandas as pd\n",
    "import numpy as np\n",
    "import pickle\n",
    "import googlemaps\n",
    "import plotly.express as px\n",
    "from geopy.geocoders import Nominatim\n",
    "import time\n",
    "from dotenv import load_dotenv\n",
    "import os\n",
    "\n",
    "env_path = os.path.join(\"..\", \".env\")\n",
    "#print(\"Looking for .env file at:\", os.path.abspath(env_path))\n",
    "load_dotenv(dotenv_path=env_path)\n",
    "\n",
    "# Retrieve the variables\n",
    "GOOGLE_API_KEY = os.getenv(\"GOOGLE_API_KEY\")\n",
    "WORKING_DIR = os.getenv(\"WORKING_DIR\")\n",
    "\n",
    "if GOOGLE_API_KEY is None or WORKING_DIR is None:\n",
    "    raise RuntimeError(\"No configuration found. Please ensure that your .env file exists with the required variables, or create a local config.py file.\")\n",
    "\n",
    "#print(\"Google API Key:\", GOOGLE_API_KEY)\n",
    "#print(\"Working Directory:\", WORKING_DIR)"
   ]
  },
  {
   "cell_type": "markdown",
   "id": "231033b1",
   "metadata": {
    "papermill": {
     "duration": 0.00502,
     "end_time": "2025-04-17T01:00:05.193982",
     "exception": false,
     "start_time": "2025-04-17T01:00:05.188962",
     "status": "completed"
    },
    "tags": []
   },
   "source": [
    "## Import Data\n",
    "\n",
    "URL: https://opendata.charlottesville.org/datasets/charlottesville::crime-data/about"
   ]
  },
  {
   "cell_type": "code",
   "execution_count": 2,
   "id": "0ba3c3b6",
   "metadata": {
    "execution": {
     "iopub.execute_input": "2025-04-17T01:00:05.205403Z",
     "iopub.status.busy": "2025-04-17T01:00:05.204840Z",
     "iopub.status.idle": "2025-04-17T01:01:08.013953Z",
     "shell.execute_reply": "2025-04-17T01:01:08.013155Z"
    },
    "papermill": {
     "duration": 62.820801,
     "end_time": "2025-04-17T01:01:08.019859",
     "exception": false,
     "start_time": "2025-04-17T01:00:05.199058",
     "status": "completed"
    },
    "tags": []
   },
   "outputs": [
    {
     "name": "stdout",
     "output_type": "stream",
     "text": [
      "Total records imported: 25186\n"
     ]
    }
   ],
   "source": [
    "# Define the endpoint and initial parameters.\n",
    "url = \"https://gisweb.charlottesville.org/arcgis/rest/services/OpenData_2/MapServer/6/query\"\n",
    "params = {\n",
    "    \"where\": \"1=1\",\n",
    "    \"outFields\": \"*\",\n",
    "    \"outSR\": 4326,\n",
    "    \"f\": \"json\",\n",
    "    \"resultOffset\": 0,       # Starting index for results\n",
    "    \"resultRecordCount\": 10000  # Maximum records per batch (if allowed by the API)\n",
    "}\n",
    "\n",
    "records = []\n",
    "\n",
    "while True:\n",
    "    response = requests.get(url, params=params)\n",
    "    response.raise_for_status()\n",
    "    data = response.json()\n",
    "    \n",
    "    # Get the current batch of features.\n",
    "    features = data.get(\"features\", [])\n",
    "    if not features:\n",
    "        break\n",
    "\n",
    "    # Extract the attributes from the features.\n",
    "    batch_records = [feature.get(\"attributes\", {}) for feature in features]\n",
    "    records.extend(batch_records)\n",
    "    \n",
    "    # If the batch size is less than the requested count, we reached the end.\n",
    "    if len(features) < params[\"resultRecordCount\"]:\n",
    "        break\n",
    "\n",
    "    # Update the resultOffset for the next batch.\n",
    "    params[\"resultOffset\"] += params[\"resultRecordCount\"]\n",
    "\n",
    "# Create a DataFrame from the combined records.\n",
    "df = pd.DataFrame(records)\n",
    "print(\"Total records imported:\", len(df))\n"
   ]
  },
  {
   "cell_type": "code",
   "execution_count": 3,
   "id": "17d28925",
   "metadata": {
    "execution": {
     "iopub.execute_input": "2025-04-17T01:01:08.032385Z",
     "iopub.status.busy": "2025-04-17T01:01:08.031857Z",
     "iopub.status.idle": "2025-04-17T01:01:08.048272Z",
     "shell.execute_reply": "2025-04-17T01:01:08.047612Z"
    },
    "papermill": {
     "duration": 0.024172,
     "end_time": "2025-04-17T01:01:08.049386",
     "exception": false,
     "start_time": "2025-04-17T01:01:08.025214",
     "status": "completed"
    },
    "tags": []
   },
   "outputs": [
    {
     "data": {
      "text/html": [
       "<div>\n",
       "<style scoped>\n",
       "    .dataframe tbody tr th:only-of-type {\n",
       "        vertical-align: middle;\n",
       "    }\n",
       "\n",
       "    .dataframe tbody tr th {\n",
       "        vertical-align: top;\n",
       "    }\n",
       "\n",
       "    .dataframe thead th {\n",
       "        text-align: right;\n",
       "    }\n",
       "</style>\n",
       "<table border=\"1\" class=\"dataframe\">\n",
       "  <thead>\n",
       "    <tr style=\"text-align: right;\">\n",
       "      <th></th>\n",
       "      <th>RecordID</th>\n",
       "      <th>Offense</th>\n",
       "      <th>IncidentID</th>\n",
       "      <th>BlockNumber</th>\n",
       "      <th>StreetName</th>\n",
       "      <th>Agency</th>\n",
       "      <th>DateReported</th>\n",
       "      <th>HourReported</th>\n",
       "      <th>ReportingOfficer</th>\n",
       "    </tr>\n",
       "  </thead>\n",
       "  <tbody>\n",
       "    <tr>\n",
       "      <th>0</th>\n",
       "      <td>1</td>\n",
       "      <td>Assist Citizen - Misc</td>\n",
       "      <td>202500012023</td>\n",
       "      <td>1100</td>\n",
       "      <td>EMMET ST N</td>\n",
       "      <td>CPD</td>\n",
       "      <td>1744674397000</td>\n",
       "      <td>1946</td>\n",
       "      <td>Essex, Dominique</td>\n",
       "    </tr>\n",
       "    <tr>\n",
       "      <th>1</th>\n",
       "      <td>2</td>\n",
       "      <td>Suspicious Activity</td>\n",
       "      <td>202500012013</td>\n",
       "      <td>1300</td>\n",
       "      <td>W MAIN ST</td>\n",
       "      <td>CPD</td>\n",
       "      <td>1744667881000</td>\n",
       "      <td>1758</td>\n",
       "      <td>Crowley, Raeann</td>\n",
       "    </tr>\n",
       "    <tr>\n",
       "      <th>2</th>\n",
       "      <td>3</td>\n",
       "      <td>Larceny - Shoplifitng</td>\n",
       "      <td>202500012006</td>\n",
       "      <td>500</td>\n",
       "      <td>W MAIN ST</td>\n",
       "      <td>CPD</td>\n",
       "      <td>1744666491000</td>\n",
       "      <td>1734</td>\n",
       "      <td>Crowley, Raeann</td>\n",
       "    </tr>\n",
       "    <tr>\n",
       "      <th>3</th>\n",
       "      <td>4</td>\n",
       "      <td>Suspicious Activity</td>\n",
       "      <td>202500012010</td>\n",
       "      <td>600</td>\n",
       "      <td>E MARKET ST</td>\n",
       "      <td>CPD</td>\n",
       "      <td>1744665231000</td>\n",
       "      <td>1713</td>\n",
       "      <td>Crowley, Raeann</td>\n",
       "    </tr>\n",
       "    <tr>\n",
       "      <th>4</th>\n",
       "      <td>5</td>\n",
       "      <td>Lost/FoundProperty</td>\n",
       "      <td>202500011996</td>\n",
       "      <td>100</td>\n",
       "      <td>9TH ST SE</td>\n",
       "      <td>CPD</td>\n",
       "      <td>1744661305000</td>\n",
       "      <td>1608</td>\n",
       "      <td>Prevost, Payten</td>\n",
       "    </tr>\n",
       "  </tbody>\n",
       "</table>\n",
       "</div>"
      ],
      "text/plain": [
       "   RecordID                Offense    IncidentID BlockNumber   StreetName  \\\n",
       "0         1  Assist Citizen - Misc  202500012023        1100   EMMET ST N   \n",
       "1         2    Suspicious Activity  202500012013        1300    W MAIN ST   \n",
       "2         3  Larceny - Shoplifitng  202500012006         500    W MAIN ST   \n",
       "3         4    Suspicious Activity  202500012010         600  E MARKET ST   \n",
       "4         5     Lost/FoundProperty  202500011996         100    9TH ST SE   \n",
       "\n",
       "  Agency   DateReported HourReported  ReportingOfficer  \n",
       "0    CPD  1744674397000         1946  Essex, Dominique  \n",
       "1    CPD  1744667881000         1758   Crowley, Raeann  \n",
       "2    CPD  1744666491000         1734   Crowley, Raeann  \n",
       "3    CPD  1744665231000         1713   Crowley, Raeann  \n",
       "4    CPD  1744661305000         1608   Prevost, Payten  "
      ]
     },
     "execution_count": 3,
     "metadata": {},
     "output_type": "execute_result"
    }
   ],
   "source": [
    "df.head()"
   ]
  },
  {
   "cell_type": "code",
   "execution_count": 4,
   "id": "a4e1393c",
   "metadata": {
    "execution": {
     "iopub.execute_input": "2025-04-17T01:01:08.061830Z",
     "iopub.status.busy": "2025-04-17T01:01:08.061254Z",
     "iopub.status.idle": "2025-04-17T01:01:08.066001Z",
     "shell.execute_reply": "2025-04-17T01:01:08.065304Z"
    },
    "papermill": {
     "duration": 0.011994,
     "end_time": "2025-04-17T01:01:08.067021",
     "exception": false,
     "start_time": "2025-04-17T01:01:08.055027",
     "status": "completed"
    },
    "tags": []
   },
   "outputs": [
    {
     "data": {
      "text/plain": [
       "Index(['RecordID', 'Offense', 'IncidentID', 'BlockNumber', 'StreetName',\n",
       "       'Agency', 'DateReported', 'HourReported', 'ReportingOfficer'],\n",
       "      dtype='object')"
      ]
     },
     "execution_count": 4,
     "metadata": {},
     "output_type": "execute_result"
    }
   ],
   "source": [
    "df.columns"
   ]
  },
  {
   "cell_type": "code",
   "execution_count": 5,
   "id": "f95d619c",
   "metadata": {
    "execution": {
     "iopub.execute_input": "2025-04-17T01:01:08.079411Z",
     "iopub.status.busy": "2025-04-17T01:01:08.079001Z",
     "iopub.status.idle": "2025-04-17T01:01:08.103936Z",
     "shell.execute_reply": "2025-04-17T01:01:08.103294Z"
    },
    "papermill": {
     "duration": 0.032265,
     "end_time": "2025-04-17T01:01:08.104955",
     "exception": false,
     "start_time": "2025-04-17T01:01:08.072690",
     "status": "completed"
    },
    "tags": []
   },
   "outputs": [
    {
     "name": "stdout",
     "output_type": "stream",
     "text": [
      "<class 'pandas.core.frame.DataFrame'>\n",
      "RangeIndex: 25186 entries, 0 to 25185\n",
      "Data columns (total 9 columns):\n",
      " #   Column            Non-Null Count  Dtype \n",
      "---  ------            --------------  ----- \n",
      " 0   RecordID          25186 non-null  int64 \n",
      " 1   Offense           25186 non-null  object\n",
      " 2   IncidentID        25186 non-null  object\n",
      " 3   BlockNumber       25186 non-null  object\n",
      " 4   StreetName        25186 non-null  object\n",
      " 5   Agency            25186 non-null  object\n",
      " 6   DateReported      25186 non-null  int64 \n",
      " 7   HourReported      25186 non-null  object\n",
      " 8   ReportingOfficer  25169 non-null  object\n",
      "dtypes: int64(2), object(7)\n",
      "memory usage: 1.7+ MB\n"
     ]
    }
   ],
   "source": [
    "df.info()"
   ]
  },
  {
   "cell_type": "markdown",
   "id": "04aa4074",
   "metadata": {
    "papermill": {
     "duration": 0.005599,
     "end_time": "2025-04-17T01:01:08.116423",
     "exception": false,
     "start_time": "2025-04-17T01:01:08.110824",
     "status": "completed"
    },
    "tags": []
   },
   "source": [
    "### Missing Values"
   ]
  },
  {
   "cell_type": "code",
   "execution_count": 6,
   "id": "be8589eb",
   "metadata": {
    "execution": {
     "iopub.execute_input": "2025-04-17T01:01:08.128927Z",
     "iopub.status.busy": "2025-04-17T01:01:08.128364Z",
     "iopub.status.idle": "2025-04-17T01:01:08.153430Z",
     "shell.execute_reply": "2025-04-17T01:01:08.152856Z"
    },
    "papermill": {
     "duration": 0.032459,
     "end_time": "2025-04-17T01:01:08.154437",
     "exception": false,
     "start_time": "2025-04-17T01:01:08.121978",
     "status": "completed"
    },
    "tags": []
   },
   "outputs": [
    {
     "name": "stdout",
     "output_type": "stream",
     "text": [
      "                  MissingCount  MissingPercentage\n",
      "RecordID                     0               0.00\n",
      "Offense                      0               0.00\n",
      "IncidentID                   0               0.00\n",
      "BlockNumber                  0               0.00\n",
      "StreetName                   0               0.00\n",
      "Agency                       0               0.00\n",
      "DateReported                 0               0.00\n",
      "HourReported                 0               0.00\n",
      "ReportingOfficer            17               0.07\n"
     ]
    }
   ],
   "source": [
    "def missing_percentage(df):\n",
    "    \"\"\"\n",
    "    Returns a DataFrame with the count and percentage of missing values for each column.\n",
    "    \n",
    "    Parameters:\n",
    "        df (pd.DataFrame): The input DataFrame.\n",
    "    \n",
    "    Returns:\n",
    "        pd.DataFrame: A DataFrame with columns 'MissingCount' and 'MissingPercentage'.\n",
    "    \"\"\"\n",
    "    total_rows = len(df)\n",
    "    missing_count = df.isnull().sum()\n",
    "    missing_percent = (missing_count / total_rows) * 100\n",
    "    \n",
    "    result = pd.DataFrame({\n",
    "        'MissingCount': missing_count,\n",
    "        'MissingPercentage': missing_percent.round(2)\n",
    "    })\n",
    "    \n",
    "    return result\n",
    "\n",
    "# Example usage:\n",
    "missing_info = missing_percentage(df)\n",
    "print(missing_info)\n"
   ]
  },
  {
   "cell_type": "markdown",
   "id": "972d381c",
   "metadata": {
    "papermill": {
     "duration": 0.005779,
     "end_time": "2025-04-17T01:01:08.166251",
     "exception": false,
     "start_time": "2025-04-17T01:01:08.160472",
     "status": "completed"
    },
    "tags": []
   },
   "source": [
    "## Data Preparation"
   ]
  },
  {
   "cell_type": "markdown",
   "id": "6d7f95ce",
   "metadata": {
    "papermill": {
     "duration": 0.005616,
     "end_time": "2025-04-17T01:01:08.177474",
     "exception": false,
     "start_time": "2025-04-17T01:01:08.171858",
     "status": "completed"
    },
    "tags": []
   },
   "source": [
    "### Data Conversion"
   ]
  },
  {
   "cell_type": "code",
   "execution_count": 7,
   "id": "cbfc16cd",
   "metadata": {
    "execution": {
     "iopub.execute_input": "2025-04-17T01:01:08.190167Z",
     "iopub.status.busy": "2025-04-17T01:01:08.189699Z",
     "iopub.status.idle": "2025-04-17T01:01:08.567443Z",
     "shell.execute_reply": "2025-04-17T01:01:08.566718Z"
    },
    "papermill": {
     "duration": 0.385449,
     "end_time": "2025-04-17T01:01:08.568506",
     "exception": false,
     "start_time": "2025-04-17T01:01:08.183057",
     "status": "completed"
    },
    "tags": []
   },
   "outputs": [
    {
     "data": {
      "text/html": [
       "<div>\n",
       "<style scoped>\n",
       "    .dataframe tbody tr th:only-of-type {\n",
       "        vertical-align: middle;\n",
       "    }\n",
       "\n",
       "    .dataframe tbody tr th {\n",
       "        vertical-align: top;\n",
       "    }\n",
       "\n",
       "    .dataframe thead th {\n",
       "        text-align: right;\n",
       "    }\n",
       "</style>\n",
       "<table border=\"1\" class=\"dataframe\">\n",
       "  <thead>\n",
       "    <tr style=\"text-align: right;\">\n",
       "      <th></th>\n",
       "      <th>RecordID</th>\n",
       "      <th>Offense</th>\n",
       "      <th>IncidentID</th>\n",
       "      <th>BlockNumber</th>\n",
       "      <th>StreetName</th>\n",
       "      <th>Agency</th>\n",
       "      <th>HourReported</th>\n",
       "      <th>ReportingOfficer</th>\n",
       "      <th>Date</th>\n",
       "      <th>DateString</th>\n",
       "      <th>DayOfWeek</th>\n",
       "      <th>Weekend</th>\n",
       "      <th>Season</th>\n",
       "      <th>HourAMPM</th>\n",
       "      <th>TimeOfDay</th>\n",
       "    </tr>\n",
       "  </thead>\n",
       "  <tbody>\n",
       "    <tr>\n",
       "      <th>0</th>\n",
       "      <td>1</td>\n",
       "      <td>Assist Citizen - Misc</td>\n",
       "      <td>202500012023</td>\n",
       "      <td>1100</td>\n",
       "      <td>EMMET ST N</td>\n",
       "      <td>CPD</td>\n",
       "      <td>1946</td>\n",
       "      <td>Essex, Dominique</td>\n",
       "      <td>2025-04-14 19:46:37</td>\n",
       "      <td>2025-04-14 07:46:37 PM</td>\n",
       "      <td>Monday</td>\n",
       "      <td>False</td>\n",
       "      <td>Spring</td>\n",
       "      <td>07:46 PM</td>\n",
       "      <td>Evening</td>\n",
       "    </tr>\n",
       "    <tr>\n",
       "      <th>1</th>\n",
       "      <td>2</td>\n",
       "      <td>Suspicious Activity</td>\n",
       "      <td>202500012013</td>\n",
       "      <td>1300</td>\n",
       "      <td>W MAIN ST</td>\n",
       "      <td>CPD</td>\n",
       "      <td>1758</td>\n",
       "      <td>Crowley, Raeann</td>\n",
       "      <td>2025-04-14 17:58:01</td>\n",
       "      <td>2025-04-14 05:58:01 PM</td>\n",
       "      <td>Monday</td>\n",
       "      <td>False</td>\n",
       "      <td>Spring</td>\n",
       "      <td>05:58 PM</td>\n",
       "      <td>Evening</td>\n",
       "    </tr>\n",
       "    <tr>\n",
       "      <th>2</th>\n",
       "      <td>3</td>\n",
       "      <td>Larceny - Shoplifitng</td>\n",
       "      <td>202500012006</td>\n",
       "      <td>500</td>\n",
       "      <td>W MAIN ST</td>\n",
       "      <td>CPD</td>\n",
       "      <td>1734</td>\n",
       "      <td>Crowley, Raeann</td>\n",
       "      <td>2025-04-14 17:34:51</td>\n",
       "      <td>2025-04-14 05:34:51 PM</td>\n",
       "      <td>Monday</td>\n",
       "      <td>False</td>\n",
       "      <td>Spring</td>\n",
       "      <td>05:34 PM</td>\n",
       "      <td>Evening</td>\n",
       "    </tr>\n",
       "    <tr>\n",
       "      <th>3</th>\n",
       "      <td>4</td>\n",
       "      <td>Suspicious Activity</td>\n",
       "      <td>202500012010</td>\n",
       "      <td>600</td>\n",
       "      <td>E MARKET ST</td>\n",
       "      <td>CPD</td>\n",
       "      <td>1713</td>\n",
       "      <td>Crowley, Raeann</td>\n",
       "      <td>2025-04-14 17:13:51</td>\n",
       "      <td>2025-04-14 05:13:51 PM</td>\n",
       "      <td>Monday</td>\n",
       "      <td>False</td>\n",
       "      <td>Spring</td>\n",
       "      <td>05:13 PM</td>\n",
       "      <td>Evening</td>\n",
       "    </tr>\n",
       "    <tr>\n",
       "      <th>4</th>\n",
       "      <td>5</td>\n",
       "      <td>Lost/FoundProperty</td>\n",
       "      <td>202500011996</td>\n",
       "      <td>100</td>\n",
       "      <td>9TH ST SE</td>\n",
       "      <td>CPD</td>\n",
       "      <td>1608</td>\n",
       "      <td>Prevost, Payten</td>\n",
       "      <td>2025-04-14 16:08:25</td>\n",
       "      <td>2025-04-14 04:08:25 PM</td>\n",
       "      <td>Monday</td>\n",
       "      <td>False</td>\n",
       "      <td>Spring</td>\n",
       "      <td>04:08 PM</td>\n",
       "      <td>Afternoon</td>\n",
       "    </tr>\n",
       "  </tbody>\n",
       "</table>\n",
       "</div>"
      ],
      "text/plain": [
       "   RecordID                Offense    IncidentID BlockNumber   StreetName  \\\n",
       "0         1  Assist Citizen - Misc  202500012023        1100   EMMET ST N   \n",
       "1         2    Suspicious Activity  202500012013        1300    W MAIN ST   \n",
       "2         3  Larceny - Shoplifitng  202500012006         500    W MAIN ST   \n",
       "3         4    Suspicious Activity  202500012010         600  E MARKET ST   \n",
       "4         5     Lost/FoundProperty  202500011996         100    9TH ST SE   \n",
       "\n",
       "  Agency HourReported  ReportingOfficer                Date  \\\n",
       "0    CPD         1946  Essex, Dominique 2025-04-14 19:46:37   \n",
       "1    CPD         1758   Crowley, Raeann 2025-04-14 17:58:01   \n",
       "2    CPD         1734   Crowley, Raeann 2025-04-14 17:34:51   \n",
       "3    CPD         1713   Crowley, Raeann 2025-04-14 17:13:51   \n",
       "4    CPD         1608   Prevost, Payten 2025-04-14 16:08:25   \n",
       "\n",
       "               DateString DayOfWeek  Weekend  Season  HourAMPM  TimeOfDay  \n",
       "0  2025-04-14 07:46:37 PM    Monday    False  Spring  07:46 PM    Evening  \n",
       "1  2025-04-14 05:58:01 PM    Monday    False  Spring  05:58 PM    Evening  \n",
       "2  2025-04-14 05:34:51 PM    Monday    False  Spring  05:34 PM    Evening  \n",
       "3  2025-04-14 05:13:51 PM    Monday    False  Spring  05:13 PM    Evening  \n",
       "4  2025-04-14 04:08:25 PM    Monday    False  Spring  04:08 PM  Afternoon  "
      ]
     },
     "execution_count": 7,
     "metadata": {},
     "output_type": "execute_result"
    }
   ],
   "source": [
    "def convert_and_categorize_datereported(df, col='DateReported'):\n",
    "    \"\"\"\n",
    "    Converts an epoch (in milliseconds) date column into a timezone-aware datetime,\n",
    "    converts it to Eastern Time, and then creates columns for day-of-week, weekend flag,\n",
    "    season, 12-hour formatted time, and time-of-day. Keeps both a real datetime column\n",
    "    (Date) and a string representation (DateString).\n",
    "    \"\"\"\n",
    "    import pandas as pd\n",
    "\n",
    "    # Convert the epoch timestamp to a pandas datetime object as UTC, then convert to US/Eastern.\n",
    "    df[\"DateReported_dt\"] = (\n",
    "        pd.to_datetime(df[col], unit=\"ms\", errors=\"coerce\", utc=True)\n",
    "        .dt.tz_convert(\"US/Eastern\")\n",
    "    )\n",
    "    \n",
    "    # Create a true datetime column (remove timezone if you prefer naive datetime)\n",
    "    df[\"Date\"] = df[\"DateReported_dt\"].dt.tz_localize(None)\n",
    "\n",
    "    # Optionally, create a separate string-formatted column\n",
    "    df[\"DateString\"] = df[\"DateReported_dt\"].dt.strftime(\"%Y-%m-%d %I:%M:%S %p\")\n",
    "    \n",
    "    # DayOfWeek\n",
    "    df[\"DayOfWeek\"] = df[\"DateReported_dt\"].dt.day_name()\n",
    "    \n",
    "    # Weekend\n",
    "    df[\"Weekend\"] = df[\"DayOfWeek\"].isin([\"Saturday\", \"Sunday\"])\n",
    "    \n",
    "    # Helper function to determine the season\n",
    "    def get_season(dt):\n",
    "        month = dt.month\n",
    "        day = dt.day\n",
    "        # Approximate Northern Hemisphere season boundaries:\n",
    "        if (month == 12 and day >= 21) or (month < 3) or (month == 3 and day < 20):\n",
    "            return \"Winter\"\n",
    "        elif (month == 3 and day >= 20) or (month < 6) or (month == 6 and day < 21):\n",
    "            return \"Spring\"\n",
    "        elif (month == 6 and day >= 21) or (month < 9) or (month == 9 and day < 22):\n",
    "            return \"Summer\"\n",
    "        else:\n",
    "            return \"Autumn\"\n",
    "    \n",
    "    df[\"Season\"] = df[\"DateReported_dt\"].apply(get_season)\n",
    "    \n",
    "    # 12-hour formatted time (HourAMPM)\n",
    "    df[\"HourAMPM\"] = df[\"DateReported_dt\"].dt.strftime(\"%I:%M %p\")\n",
    "    \n",
    "    # Extract hour (0-23) for time-of-day\n",
    "    df[\"HourValue\"] = df[\"DateReported_dt\"].dt.hour\n",
    "    \n",
    "    def time_of_day(hour):\n",
    "        if pd.isnull(hour):\n",
    "            return None\n",
    "        if 5 <= hour < 12:\n",
    "            return \"Morning\"\n",
    "        elif 12 <= hour < 17:\n",
    "            return \"Afternoon\"\n",
    "        elif 17 <= hour < 21:\n",
    "            return \"Evening\"\n",
    "        else:\n",
    "            return \"Night\"\n",
    "    \n",
    "    df[\"TimeOfDay\"] = df[\"HourValue\"].apply(time_of_day)\n",
    "    \n",
    "    # Drop columns you no longer need\n",
    "    df.drop(columns=[col, \"DateReported_dt\", \"HourValue\"], inplace=True)\n",
    "    \n",
    "    return df\n",
    "\n",
    "# Example usage:\n",
    "df = convert_and_categorize_datereported(df)\n",
    "df.head()\n"
   ]
  },
  {
   "cell_type": "code",
   "execution_count": 8,
   "id": "9880a611",
   "metadata": {
    "execution": {
     "iopub.execute_input": "2025-04-17T01:01:08.581717Z",
     "iopub.status.busy": "2025-04-17T01:01:08.581438Z",
     "iopub.status.idle": "2025-04-17T01:01:08.610397Z",
     "shell.execute_reply": "2025-04-17T01:01:08.609836Z"
    },
    "papermill": {
     "duration": 0.036815,
     "end_time": "2025-04-17T01:01:08.611516",
     "exception": false,
     "start_time": "2025-04-17T01:01:08.574701",
     "status": "completed"
    },
    "tags": []
   },
   "outputs": [
    {
     "name": "stdout",
     "output_type": "stream",
     "text": [
      "<class 'pandas.core.frame.DataFrame'>\n",
      "RangeIndex: 25186 entries, 0 to 25185\n",
      "Data columns (total 15 columns):\n",
      " #   Column            Non-Null Count  Dtype         \n",
      "---  ------            --------------  -----         \n",
      " 0   RecordID          25186 non-null  int64         \n",
      " 1   Offense           25186 non-null  object        \n",
      " 2   IncidentID        25186 non-null  object        \n",
      " 3   BlockNumber       25186 non-null  object        \n",
      " 4   StreetName        25186 non-null  object        \n",
      " 5   Agency            25186 non-null  object        \n",
      " 6   HourReported      25186 non-null  object        \n",
      " 7   ReportingOfficer  25169 non-null  object        \n",
      " 8   Date              25186 non-null  datetime64[ns]\n",
      " 9   DateString        25186 non-null  object        \n",
      " 10  DayOfWeek         25186 non-null  object        \n",
      " 11  Weekend           25186 non-null  bool          \n",
      " 12  Season            25186 non-null  object        \n",
      " 13  HourAMPM          25186 non-null  object        \n",
      " 14  TimeOfDay         25186 non-null  object        \n",
      "dtypes: bool(1), datetime64[ns](1), int64(1), object(12)\n",
      "memory usage: 2.7+ MB\n"
     ]
    }
   ],
   "source": [
    "df.info()"
   ]
  },
  {
   "cell_type": "markdown",
   "id": "f37eda99",
   "metadata": {
    "papermill": {
     "duration": 0.005933,
     "end_time": "2025-04-17T01:01:08.623649",
     "exception": false,
     "start_time": "2025-04-17T01:01:08.617716",
     "status": "completed"
    },
    "tags": []
   },
   "source": [
    "### Coordinates"
   ]
  },
  {
   "cell_type": "code",
   "execution_count": 9,
   "id": "7d07ae5f",
   "metadata": {
    "execution": {
     "iopub.execute_input": "2025-04-17T01:01:08.636587Z",
     "iopub.status.busy": "2025-04-17T01:01:08.636282Z",
     "iopub.status.idle": "2025-04-17T01:01:08.848718Z",
     "shell.execute_reply": "2025-04-17T01:01:08.848149Z"
    },
    "papermill": {
     "duration": 0.22026,
     "end_time": "2025-04-17T01:01:08.849794",
     "exception": false,
     "start_time": "2025-04-17T01:01:08.629534",
     "status": "completed"
    },
    "tags": []
   },
   "outputs": [
    {
     "name": "stdout",
     "output_type": "stream",
     "text": [
      "Loaded geocode cache.\n"
     ]
    },
    {
     "name": "stdout",
     "output_type": "stream",
     "text": [
      "Geocoded  FONTAINE DR N: 38.0311849, -78.4988225\n",
      "Geocode cache updated and saved.\n"
     ]
    },
    {
     "data": {
      "text/html": [
       "<div>\n",
       "<style scoped>\n",
       "    .dataframe tbody tr th:only-of-type {\n",
       "        vertical-align: middle;\n",
       "    }\n",
       "\n",
       "    .dataframe tbody tr th {\n",
       "        vertical-align: top;\n",
       "    }\n",
       "\n",
       "    .dataframe thead th {\n",
       "        text-align: right;\n",
       "    }\n",
       "</style>\n",
       "<table border=\"1\" class=\"dataframe\">\n",
       "  <thead>\n",
       "    <tr style=\"text-align: right;\">\n",
       "      <th></th>\n",
       "      <th>RecordID</th>\n",
       "      <th>Offense</th>\n",
       "      <th>IncidentID</th>\n",
       "      <th>BlockNumber</th>\n",
       "      <th>StreetName</th>\n",
       "      <th>Agency</th>\n",
       "      <th>HourReported</th>\n",
       "      <th>ReportingOfficer</th>\n",
       "      <th>Date</th>\n",
       "      <th>DateString</th>\n",
       "      <th>DayOfWeek</th>\n",
       "      <th>Weekend</th>\n",
       "      <th>Season</th>\n",
       "      <th>HourAMPM</th>\n",
       "      <th>TimeOfDay</th>\n",
       "      <th>FullStreet</th>\n",
       "      <th>lat</th>\n",
       "      <th>lon</th>\n",
       "    </tr>\n",
       "  </thead>\n",
       "  <tbody>\n",
       "    <tr>\n",
       "      <th>0</th>\n",
       "      <td>1</td>\n",
       "      <td>Assist Citizen - Misc</td>\n",
       "      <td>202500012023</td>\n",
       "      <td>1100</td>\n",
       "      <td>EMMET ST N</td>\n",
       "      <td>CPD</td>\n",
       "      <td>1946</td>\n",
       "      <td>Essex, Dominique</td>\n",
       "      <td>2025-04-14 19:46:37</td>\n",
       "      <td>2025-04-14 07:46:37 PM</td>\n",
       "      <td>Monday</td>\n",
       "      <td>False</td>\n",
       "      <td>Spring</td>\n",
       "      <td>07:46 PM</td>\n",
       "      <td>Evening</td>\n",
       "      <td>1100 EMMET ST N</td>\n",
       "      <td>38.051639</td>\n",
       "      <td>-78.501523</td>\n",
       "    </tr>\n",
       "    <tr>\n",
       "      <th>1</th>\n",
       "      <td>2</td>\n",
       "      <td>Suspicious Activity</td>\n",
       "      <td>202500012013</td>\n",
       "      <td>1300</td>\n",
       "      <td>W MAIN ST</td>\n",
       "      <td>CPD</td>\n",
       "      <td>1758</td>\n",
       "      <td>Crowley, Raeann</td>\n",
       "      <td>2025-04-14 17:58:01</td>\n",
       "      <td>2025-04-14 05:58:01 PM</td>\n",
       "      <td>Monday</td>\n",
       "      <td>False</td>\n",
       "      <td>Spring</td>\n",
       "      <td>05:58 PM</td>\n",
       "      <td>Evening</td>\n",
       "      <td>1300 W MAIN ST</td>\n",
       "      <td>38.033288</td>\n",
       "      <td>-78.497940</td>\n",
       "    </tr>\n",
       "    <tr>\n",
       "      <th>2</th>\n",
       "      <td>3</td>\n",
       "      <td>Larceny - Shoplifitng</td>\n",
       "      <td>202500012006</td>\n",
       "      <td>500</td>\n",
       "      <td>W MAIN ST</td>\n",
       "      <td>CPD</td>\n",
       "      <td>1734</td>\n",
       "      <td>Crowley, Raeann</td>\n",
       "      <td>2025-04-14 17:34:51</td>\n",
       "      <td>2025-04-14 05:34:51 PM</td>\n",
       "      <td>Monday</td>\n",
       "      <td>False</td>\n",
       "      <td>Spring</td>\n",
       "      <td>05:34 PM</td>\n",
       "      <td>Evening</td>\n",
       "      <td>500 W MAIN ST</td>\n",
       "      <td>38.030793</td>\n",
       "      <td>-78.487912</td>\n",
       "    </tr>\n",
       "    <tr>\n",
       "      <th>3</th>\n",
       "      <td>4</td>\n",
       "      <td>Suspicious Activity</td>\n",
       "      <td>202500012010</td>\n",
       "      <td>600</td>\n",
       "      <td>E MARKET ST</td>\n",
       "      <td>CPD</td>\n",
       "      <td>1713</td>\n",
       "      <td>Crowley, Raeann</td>\n",
       "      <td>2025-04-14 17:13:51</td>\n",
       "      <td>2025-04-14 05:13:51 PM</td>\n",
       "      <td>Monday</td>\n",
       "      <td>False</td>\n",
       "      <td>Spring</td>\n",
       "      <td>05:13 PM</td>\n",
       "      <td>Evening</td>\n",
       "      <td>600 E MARKET ST</td>\n",
       "      <td>38.030175</td>\n",
       "      <td>-78.477574</td>\n",
       "    </tr>\n",
       "    <tr>\n",
       "      <th>4</th>\n",
       "      <td>5</td>\n",
       "      <td>Lost/FoundProperty</td>\n",
       "      <td>202500011996</td>\n",
       "      <td>100</td>\n",
       "      <td>9TH ST SE</td>\n",
       "      <td>CPD</td>\n",
       "      <td>1608</td>\n",
       "      <td>Prevost, Payten</td>\n",
       "      <td>2025-04-14 16:08:25</td>\n",
       "      <td>2025-04-14 04:08:25 PM</td>\n",
       "      <td>Monday</td>\n",
       "      <td>False</td>\n",
       "      <td>Spring</td>\n",
       "      <td>04:08 PM</td>\n",
       "      <td>Afternoon</td>\n",
       "      <td>100 9TH ST SE</td>\n",
       "      <td>38.028000</td>\n",
       "      <td>-78.476890</td>\n",
       "    </tr>\n",
       "  </tbody>\n",
       "</table>\n",
       "</div>"
      ],
      "text/plain": [
       "   RecordID                Offense    IncidentID BlockNumber   StreetName  \\\n",
       "0         1  Assist Citizen - Misc  202500012023        1100   EMMET ST N   \n",
       "1         2    Suspicious Activity  202500012013        1300    W MAIN ST   \n",
       "2         3  Larceny - Shoplifitng  202500012006         500    W MAIN ST   \n",
       "3         4    Suspicious Activity  202500012010         600  E MARKET ST   \n",
       "4         5     Lost/FoundProperty  202500011996         100    9TH ST SE   \n",
       "\n",
       "  Agency HourReported  ReportingOfficer                Date  \\\n",
       "0    CPD         1946  Essex, Dominique 2025-04-14 19:46:37   \n",
       "1    CPD         1758   Crowley, Raeann 2025-04-14 17:58:01   \n",
       "2    CPD         1734   Crowley, Raeann 2025-04-14 17:34:51   \n",
       "3    CPD         1713   Crowley, Raeann 2025-04-14 17:13:51   \n",
       "4    CPD         1608   Prevost, Payten 2025-04-14 16:08:25   \n",
       "\n",
       "               DateString DayOfWeek  Weekend  Season  HourAMPM  TimeOfDay  \\\n",
       "0  2025-04-14 07:46:37 PM    Monday    False  Spring  07:46 PM    Evening   \n",
       "1  2025-04-14 05:58:01 PM    Monday    False  Spring  05:58 PM    Evening   \n",
       "2  2025-04-14 05:34:51 PM    Monday    False  Spring  05:34 PM    Evening   \n",
       "3  2025-04-14 05:13:51 PM    Monday    False  Spring  05:13 PM    Evening   \n",
       "4  2025-04-14 04:08:25 PM    Monday    False  Spring  04:08 PM  Afternoon   \n",
       "\n",
       "        FullStreet        lat        lon  \n",
       "0  1100 EMMET ST N  38.051639 -78.501523  \n",
       "1   1300 W MAIN ST  38.033288 -78.497940  \n",
       "2    500 W MAIN ST  38.030793 -78.487912  \n",
       "3  600 E MARKET ST  38.030175 -78.477574  \n",
       "4    100 9TH ST SE  38.028000 -78.476890  "
      ]
     },
     "execution_count": 9,
     "metadata": {},
     "output_type": "execute_result"
    }
   ],
   "source": [
    "# Combine BlockNumber and StreetName into a full address string\n",
    "df['FullStreet'] = df['BlockNumber'].astype(str) + \" \" + df['StreetName']\n",
    "\n",
    "# --- Step 1: Setup the Google Maps Client and Cache ---\n",
    "gmaps = googlemaps.Client(key=GOOGLE_API_KEY)\n",
    "\n",
    "# Try to load cached geocoding results if available.\n",
    "try:\n",
    "    with open(\"geocode_cache_google.pkl\", \"rb\") as f:\n",
    "        street_coords = pickle.load(f)\n",
    "    print(\"Loaded geocode cache.\")\n",
    "except FileNotFoundError:\n",
    "    street_coords = {}\n",
    "    print(\"No cache found; starting fresh.\")\n",
    "\n",
    "def geocode_address(address):\n",
    "    try:\n",
    "        # Append city and state to help geocoding\n",
    "        result = gmaps.geocode(f\"{address}, Charlottesville, VA\")\n",
    "        if result:\n",
    "            lat = result[0]['geometry']['location']['lat']\n",
    "            lon = result[0]['geometry']['location']['lng']\n",
    "            return lat, lon\n",
    "    except Exception as e:\n",
    "        print(f\"Error geocoding {address}: {e}\")\n",
    "    return None, None\n",
    "\n",
    "# --- Step 2: Geocode Only New Addresses ---\n",
    "unique_addresses = df['FullStreet'].unique()\n",
    "for address in unique_addresses:\n",
    "    if address not in street_coords:\n",
    "        lat, lon = geocode_address(address)\n",
    "        street_coords[address] = (lat, lon)\n",
    "        print(f\"Geocoded {address}: {lat}, {lon}\")\n",
    "\n",
    "# Save the updated cache to disk.\n",
    "with open(\"geocode_cache_google.pkl\", \"wb\") as f:\n",
    "    pickle.dump(street_coords, f)\n",
    "    print(\"Geocode cache updated and saved.\")\n",
    "\n",
    "# --- Step 3: Map Coordinates Back to DataFrame ---\n",
    "df['lat'] = df['FullStreet'].map(lambda s: street_coords.get(s, (None, None))[0])\n",
    "df['lon'] = df['FullStreet'].map(lambda s: street_coords.get(s, (None, None))[1])\n",
    "\n",
    "df.head()"
   ]
  },
  {
   "cell_type": "markdown",
   "id": "1d025b3e",
   "metadata": {
    "papermill": {
     "duration": 0.006328,
     "end_time": "2025-04-17T01:01:08.862663",
     "exception": false,
     "start_time": "2025-04-17T01:01:08.856335",
     "status": "completed"
    },
    "tags": []
   },
   "source": [
    "### Neighborhood"
   ]
  },
  {
   "cell_type": "code",
   "execution_count": 10,
   "id": "d9574911",
   "metadata": {
    "execution": {
     "iopub.execute_input": "2025-04-17T01:01:08.876256Z",
     "iopub.status.busy": "2025-04-17T01:01:08.875724Z",
     "iopub.status.idle": "2025-04-17T01:01:09.307072Z",
     "shell.execute_reply": "2025-04-17T01:01:09.306409Z"
    },
    "papermill": {
     "duration": 0.439391,
     "end_time": "2025-04-17T01:01:09.308212",
     "exception": false,
     "start_time": "2025-04-17T01:01:08.868821",
     "status": "completed"
    },
    "tags": []
   },
   "outputs": [
    {
     "name": "stdout",
     "output_type": "stream",
     "text": [
      "Loaded neighborhood cache.\n"
     ]
    },
    {
     "data": {
      "text/html": [
       "<div>\n",
       "<style scoped>\n",
       "    .dataframe tbody tr th:only-of-type {\n",
       "        vertical-align: middle;\n",
       "    }\n",
       "\n",
       "    .dataframe tbody tr th {\n",
       "        vertical-align: top;\n",
       "    }\n",
       "\n",
       "    .dataframe thead th {\n",
       "        text-align: right;\n",
       "    }\n",
       "</style>\n",
       "<table border=\"1\" class=\"dataframe\">\n",
       "  <thead>\n",
       "    <tr style=\"text-align: right;\">\n",
       "      <th></th>\n",
       "      <th>RecordID</th>\n",
       "      <th>Offense</th>\n",
       "      <th>IncidentID</th>\n",
       "      <th>BlockNumber</th>\n",
       "      <th>StreetName</th>\n",
       "      <th>Agency</th>\n",
       "      <th>HourReported</th>\n",
       "      <th>ReportingOfficer</th>\n",
       "      <th>Date</th>\n",
       "      <th>DateString</th>\n",
       "      <th>DayOfWeek</th>\n",
       "      <th>Weekend</th>\n",
       "      <th>Season</th>\n",
       "      <th>HourAMPM</th>\n",
       "      <th>TimeOfDay</th>\n",
       "      <th>FullStreet</th>\n",
       "      <th>lat</th>\n",
       "      <th>lon</th>\n",
       "      <th>neighborhood</th>\n",
       "    </tr>\n",
       "  </thead>\n",
       "  <tbody>\n",
       "    <tr>\n",
       "      <th>0</th>\n",
       "      <td>1</td>\n",
       "      <td>Assist Citizen - Misc</td>\n",
       "      <td>202500012023</td>\n",
       "      <td>1100</td>\n",
       "      <td>EMMET ST N</td>\n",
       "      <td>CPD</td>\n",
       "      <td>1946</td>\n",
       "      <td>Essex, Dominique</td>\n",
       "      <td>2025-04-14 19:46:37</td>\n",
       "      <td>2025-04-14 07:46:37 PM</td>\n",
       "      <td>Monday</td>\n",
       "      <td>False</td>\n",
       "      <td>Spring</td>\n",
       "      <td>07:46 PM</td>\n",
       "      <td>Evening</td>\n",
       "      <td>1100 EMMET ST N</td>\n",
       "      <td>38.051639</td>\n",
       "      <td>-78.501523</td>\n",
       "      <td>Barracks Road</td>\n",
       "    </tr>\n",
       "    <tr>\n",
       "      <th>1</th>\n",
       "      <td>2</td>\n",
       "      <td>Suspicious Activity</td>\n",
       "      <td>202500012013</td>\n",
       "      <td>1300</td>\n",
       "      <td>W MAIN ST</td>\n",
       "      <td>CPD</td>\n",
       "      <td>1758</td>\n",
       "      <td>Crowley, Raeann</td>\n",
       "      <td>2025-04-14 17:58:01</td>\n",
       "      <td>2025-04-14 05:58:01 PM</td>\n",
       "      <td>Monday</td>\n",
       "      <td>False</td>\n",
       "      <td>Spring</td>\n",
       "      <td>05:58 PM</td>\n",
       "      <td>Evening</td>\n",
       "      <td>1300 W MAIN ST</td>\n",
       "      <td>38.033288</td>\n",
       "      <td>-78.497940</td>\n",
       "      <td>Venable</td>\n",
       "    </tr>\n",
       "    <tr>\n",
       "      <th>2</th>\n",
       "      <td>3</td>\n",
       "      <td>Larceny - Shoplifitng</td>\n",
       "      <td>202500012006</td>\n",
       "      <td>500</td>\n",
       "      <td>W MAIN ST</td>\n",
       "      <td>CPD</td>\n",
       "      <td>1734</td>\n",
       "      <td>Crowley, Raeann</td>\n",
       "      <td>2025-04-14 17:34:51</td>\n",
       "      <td>2025-04-14 05:34:51 PM</td>\n",
       "      <td>Monday</td>\n",
       "      <td>False</td>\n",
       "      <td>Spring</td>\n",
       "      <td>05:34 PM</td>\n",
       "      <td>Evening</td>\n",
       "      <td>500 W MAIN ST</td>\n",
       "      <td>38.030793</td>\n",
       "      <td>-78.487912</td>\n",
       "      <td>Starr Hill</td>\n",
       "    </tr>\n",
       "    <tr>\n",
       "      <th>3</th>\n",
       "      <td>4</td>\n",
       "      <td>Suspicious Activity</td>\n",
       "      <td>202500012010</td>\n",
       "      <td>600</td>\n",
       "      <td>E MARKET ST</td>\n",
       "      <td>CPD</td>\n",
       "      <td>1713</td>\n",
       "      <td>Crowley, Raeann</td>\n",
       "      <td>2025-04-14 17:13:51</td>\n",
       "      <td>2025-04-14 05:13:51 PM</td>\n",
       "      <td>Monday</td>\n",
       "      <td>False</td>\n",
       "      <td>Spring</td>\n",
       "      <td>05:13 PM</td>\n",
       "      <td>Evening</td>\n",
       "      <td>600 E MARKET ST</td>\n",
       "      <td>38.030175</td>\n",
       "      <td>-78.477574</td>\n",
       "      <td>Downtown Mall</td>\n",
       "    </tr>\n",
       "    <tr>\n",
       "      <th>4</th>\n",
       "      <td>5</td>\n",
       "      <td>Lost/FoundProperty</td>\n",
       "      <td>202500011996</td>\n",
       "      <td>100</td>\n",
       "      <td>9TH ST SE</td>\n",
       "      <td>CPD</td>\n",
       "      <td>1608</td>\n",
       "      <td>Prevost, Payten</td>\n",
       "      <td>2025-04-14 16:08:25</td>\n",
       "      <td>2025-04-14 04:08:25 PM</td>\n",
       "      <td>Monday</td>\n",
       "      <td>False</td>\n",
       "      <td>Spring</td>\n",
       "      <td>04:08 PM</td>\n",
       "      <td>Afternoon</td>\n",
       "      <td>100 9TH ST SE</td>\n",
       "      <td>38.028000</td>\n",
       "      <td>-78.476890</td>\n",
       "      <td>Belmont</td>\n",
       "    </tr>\n",
       "  </tbody>\n",
       "</table>\n",
       "</div>"
      ],
      "text/plain": [
       "   RecordID                Offense    IncidentID BlockNumber   StreetName  \\\n",
       "0         1  Assist Citizen - Misc  202500012023        1100   EMMET ST N   \n",
       "1         2    Suspicious Activity  202500012013        1300    W MAIN ST   \n",
       "2         3  Larceny - Shoplifitng  202500012006         500    W MAIN ST   \n",
       "3         4    Suspicious Activity  202500012010         600  E MARKET ST   \n",
       "4         5     Lost/FoundProperty  202500011996         100    9TH ST SE   \n",
       "\n",
       "  Agency HourReported  ReportingOfficer                Date  \\\n",
       "0    CPD         1946  Essex, Dominique 2025-04-14 19:46:37   \n",
       "1    CPD         1758   Crowley, Raeann 2025-04-14 17:58:01   \n",
       "2    CPD         1734   Crowley, Raeann 2025-04-14 17:34:51   \n",
       "3    CPD         1713   Crowley, Raeann 2025-04-14 17:13:51   \n",
       "4    CPD         1608   Prevost, Payten 2025-04-14 16:08:25   \n",
       "\n",
       "               DateString DayOfWeek  Weekend  Season  HourAMPM  TimeOfDay  \\\n",
       "0  2025-04-14 07:46:37 PM    Monday    False  Spring  07:46 PM    Evening   \n",
       "1  2025-04-14 05:58:01 PM    Monday    False  Spring  05:58 PM    Evening   \n",
       "2  2025-04-14 05:34:51 PM    Monday    False  Spring  05:34 PM    Evening   \n",
       "3  2025-04-14 05:13:51 PM    Monday    False  Spring  05:13 PM    Evening   \n",
       "4  2025-04-14 04:08:25 PM    Monday    False  Spring  04:08 PM  Afternoon   \n",
       "\n",
       "        FullStreet        lat        lon   neighborhood  \n",
       "0  1100 EMMET ST N  38.051639 -78.501523  Barracks Road  \n",
       "1   1300 W MAIN ST  38.033288 -78.497940        Venable  \n",
       "2    500 W MAIN ST  38.030793 -78.487912     Starr Hill  \n",
       "3  600 E MARKET ST  38.030175 -78.477574  Downtown Mall  \n",
       "4    100 9TH ST SE  38.028000 -78.476890        Belmont  "
      ]
     },
     "execution_count": 10,
     "metadata": {},
     "output_type": "execute_result"
    }
   ],
   "source": [
    "# Initialize the Google Maps client.\n",
    "gmaps = googlemaps.Client(key=GOOGLE_API_KEY)\n",
    "\n",
    "# Try to load a persistent neighborhood cache if available.\n",
    "try:\n",
    "    with open(\"neighborhood_cache.pkl\", \"rb\") as f:\n",
    "        neighborhood_cache = pickle.load(f)\n",
    "    print(\"Loaded neighborhood cache.\")\n",
    "except FileNotFoundError:\n",
    "    neighborhood_cache = {}\n",
    "    print(\"No neighborhood cache found; starting fresh.\")\n",
    "\n",
    "def get_neighborhood(lat, lon):\n",
    "    \"\"\"\n",
    "    Reverse geocodes a latitude and longitude to retrieve the neighborhood.\n",
    "    Caches results to speed up subsequent lookups.\n",
    "    \"\"\"\n",
    "    key = (lat, lon)\n",
    "    if key in neighborhood_cache:\n",
    "        return neighborhood_cache[key]\n",
    "    \n",
    "    try:\n",
    "        result = gmaps.reverse_geocode((lat, lon))\n",
    "        if result:\n",
    "            # Look for the 'neighborhood' component in the first result.\n",
    "            for component in result[0]['address_components']:\n",
    "                if 'neighborhood' in component['types']:\n",
    "                    neighborhood = component['long_name']\n",
    "                    neighborhood_cache[key] = neighborhood\n",
    "                    return neighborhood\n",
    "            # If no neighborhood is found, return \"N/A\"\n",
    "            neighborhood_cache[key] = \"N/A\"\n",
    "            return \"N/A\"\n",
    "    except Exception as e:\n",
    "        print(f\"Error getting neighborhood for {lat}, {lon}: {e}\")\n",
    "        return \"N/A\"\n",
    "    \n",
    "    # Pause to respect usage limits.\n",
    "    time.sleep(1)\n",
    "\n",
    "# Example usage: Apply to your DataFrame 'df' that already has 'lat' and 'lon' columns.\n",
    "df['neighborhood'] = df.apply(lambda row: get_neighborhood(row['lat'], row['lon']), axis=1)\n",
    "\n",
    "# Save the updated neighborhood cache.\n",
    "with open(\"neighborhood_cache.pkl\", \"wb\") as f:\n",
    "    pickle.dump(neighborhood_cache, f)\n",
    "\n",
    "df.head()\n"
   ]
  },
  {
   "cell_type": "markdown",
   "id": "b897f3a8",
   "metadata": {
    "papermill": {
     "duration": 0.006653,
     "end_time": "2025-04-17T01:01:09.321809",
     "exception": false,
     "start_time": "2025-04-17T01:01:09.315156",
     "status": "completed"
    },
    "tags": []
   },
   "source": [
    "### Zip"
   ]
  },
  {
   "cell_type": "code",
   "execution_count": 11,
   "id": "85eaffcf",
   "metadata": {
    "execution": {
     "iopub.execute_input": "2025-04-17T01:01:09.336119Z",
     "iopub.status.busy": "2025-04-17T01:01:09.335849Z",
     "iopub.status.idle": "2025-04-17T01:01:10.958103Z",
     "shell.execute_reply": "2025-04-17T01:01:10.957502Z"
    },
    "papermill": {
     "duration": 1.630751,
     "end_time": "2025-04-17T01:01:10.959081",
     "exception": false,
     "start_time": "2025-04-17T01:01:09.328330",
     "status": "completed"
    },
    "tags": []
   },
   "outputs": [
    {
     "name": "stdout",
     "output_type": "stream",
     "text": [
      "Loaded zip cache.\n"
     ]
    },
    {
     "data": {
      "text/html": [
       "<div>\n",
       "<style scoped>\n",
       "    .dataframe tbody tr th:only-of-type {\n",
       "        vertical-align: middle;\n",
       "    }\n",
       "\n",
       "    .dataframe tbody tr th {\n",
       "        vertical-align: top;\n",
       "    }\n",
       "\n",
       "    .dataframe thead th {\n",
       "        text-align: right;\n",
       "    }\n",
       "</style>\n",
       "<table border=\"1\" class=\"dataframe\">\n",
       "  <thead>\n",
       "    <tr style=\"text-align: right;\">\n",
       "      <th></th>\n",
       "      <th>RecordID</th>\n",
       "      <th>Offense</th>\n",
       "      <th>IncidentID</th>\n",
       "      <th>BlockNumber</th>\n",
       "      <th>StreetName</th>\n",
       "      <th>Agency</th>\n",
       "      <th>HourReported</th>\n",
       "      <th>ReportingOfficer</th>\n",
       "      <th>Date</th>\n",
       "      <th>DateString</th>\n",
       "      <th>DayOfWeek</th>\n",
       "      <th>Weekend</th>\n",
       "      <th>Season</th>\n",
       "      <th>HourAMPM</th>\n",
       "      <th>TimeOfDay</th>\n",
       "      <th>FullStreet</th>\n",
       "      <th>lat</th>\n",
       "      <th>lon</th>\n",
       "      <th>neighborhood</th>\n",
       "      <th>zip</th>\n",
       "    </tr>\n",
       "  </thead>\n",
       "  <tbody>\n",
       "    <tr>\n",
       "      <th>0</th>\n",
       "      <td>1</td>\n",
       "      <td>Assist Citizen - Misc</td>\n",
       "      <td>202500012023</td>\n",
       "      <td>1100</td>\n",
       "      <td>EMMET ST N</td>\n",
       "      <td>CPD</td>\n",
       "      <td>1946</td>\n",
       "      <td>Essex, Dominique</td>\n",
       "      <td>2025-04-14 19:46:37</td>\n",
       "      <td>2025-04-14 07:46:37 PM</td>\n",
       "      <td>Monday</td>\n",
       "      <td>False</td>\n",
       "      <td>Spring</td>\n",
       "      <td>07:46 PM</td>\n",
       "      <td>Evening</td>\n",
       "      <td>1100 EMMET ST N</td>\n",
       "      <td>38.051639</td>\n",
       "      <td>-78.501523</td>\n",
       "      <td>Barracks Road</td>\n",
       "      <td>22901</td>\n",
       "    </tr>\n",
       "    <tr>\n",
       "      <th>1</th>\n",
       "      <td>2</td>\n",
       "      <td>Suspicious Activity</td>\n",
       "      <td>202500012013</td>\n",
       "      <td>1300</td>\n",
       "      <td>W MAIN ST</td>\n",
       "      <td>CPD</td>\n",
       "      <td>1758</td>\n",
       "      <td>Crowley, Raeann</td>\n",
       "      <td>2025-04-14 17:58:01</td>\n",
       "      <td>2025-04-14 05:58:01 PM</td>\n",
       "      <td>Monday</td>\n",
       "      <td>False</td>\n",
       "      <td>Spring</td>\n",
       "      <td>05:58 PM</td>\n",
       "      <td>Evening</td>\n",
       "      <td>1300 W MAIN ST</td>\n",
       "      <td>38.033288</td>\n",
       "      <td>-78.497940</td>\n",
       "      <td>Venable</td>\n",
       "      <td>22903</td>\n",
       "    </tr>\n",
       "    <tr>\n",
       "      <th>2</th>\n",
       "      <td>3</td>\n",
       "      <td>Larceny - Shoplifitng</td>\n",
       "      <td>202500012006</td>\n",
       "      <td>500</td>\n",
       "      <td>W MAIN ST</td>\n",
       "      <td>CPD</td>\n",
       "      <td>1734</td>\n",
       "      <td>Crowley, Raeann</td>\n",
       "      <td>2025-04-14 17:34:51</td>\n",
       "      <td>2025-04-14 05:34:51 PM</td>\n",
       "      <td>Monday</td>\n",
       "      <td>False</td>\n",
       "      <td>Spring</td>\n",
       "      <td>05:34 PM</td>\n",
       "      <td>Evening</td>\n",
       "      <td>500 W MAIN ST</td>\n",
       "      <td>38.030793</td>\n",
       "      <td>-78.487912</td>\n",
       "      <td>Starr Hill</td>\n",
       "      <td>22903</td>\n",
       "    </tr>\n",
       "    <tr>\n",
       "      <th>3</th>\n",
       "      <td>4</td>\n",
       "      <td>Suspicious Activity</td>\n",
       "      <td>202500012010</td>\n",
       "      <td>600</td>\n",
       "      <td>E MARKET ST</td>\n",
       "      <td>CPD</td>\n",
       "      <td>1713</td>\n",
       "      <td>Crowley, Raeann</td>\n",
       "      <td>2025-04-14 17:13:51</td>\n",
       "      <td>2025-04-14 05:13:51 PM</td>\n",
       "      <td>Monday</td>\n",
       "      <td>False</td>\n",
       "      <td>Spring</td>\n",
       "      <td>05:13 PM</td>\n",
       "      <td>Evening</td>\n",
       "      <td>600 E MARKET ST</td>\n",
       "      <td>38.030175</td>\n",
       "      <td>-78.477574</td>\n",
       "      <td>Downtown Mall</td>\n",
       "      <td>22902</td>\n",
       "    </tr>\n",
       "    <tr>\n",
       "      <th>4</th>\n",
       "      <td>5</td>\n",
       "      <td>Lost/FoundProperty</td>\n",
       "      <td>202500011996</td>\n",
       "      <td>100</td>\n",
       "      <td>9TH ST SE</td>\n",
       "      <td>CPD</td>\n",
       "      <td>1608</td>\n",
       "      <td>Prevost, Payten</td>\n",
       "      <td>2025-04-14 16:08:25</td>\n",
       "      <td>2025-04-14 04:08:25 PM</td>\n",
       "      <td>Monday</td>\n",
       "      <td>False</td>\n",
       "      <td>Spring</td>\n",
       "      <td>04:08 PM</td>\n",
       "      <td>Afternoon</td>\n",
       "      <td>100 9TH ST SE</td>\n",
       "      <td>38.028000</td>\n",
       "      <td>-78.476890</td>\n",
       "      <td>Belmont</td>\n",
       "      <td>22902</td>\n",
       "    </tr>\n",
       "  </tbody>\n",
       "</table>\n",
       "</div>"
      ],
      "text/plain": [
       "   RecordID                Offense    IncidentID BlockNumber   StreetName  \\\n",
       "0         1  Assist Citizen - Misc  202500012023        1100   EMMET ST N   \n",
       "1         2    Suspicious Activity  202500012013        1300    W MAIN ST   \n",
       "2         3  Larceny - Shoplifitng  202500012006         500    W MAIN ST   \n",
       "3         4    Suspicious Activity  202500012010         600  E MARKET ST   \n",
       "4         5     Lost/FoundProperty  202500011996         100    9TH ST SE   \n",
       "\n",
       "  Agency HourReported  ReportingOfficer                Date  \\\n",
       "0    CPD         1946  Essex, Dominique 2025-04-14 19:46:37   \n",
       "1    CPD         1758   Crowley, Raeann 2025-04-14 17:58:01   \n",
       "2    CPD         1734   Crowley, Raeann 2025-04-14 17:34:51   \n",
       "3    CPD         1713   Crowley, Raeann 2025-04-14 17:13:51   \n",
       "4    CPD         1608   Prevost, Payten 2025-04-14 16:08:25   \n",
       "\n",
       "               DateString DayOfWeek  Weekend  Season  HourAMPM  TimeOfDay  \\\n",
       "0  2025-04-14 07:46:37 PM    Monday    False  Spring  07:46 PM    Evening   \n",
       "1  2025-04-14 05:58:01 PM    Monday    False  Spring  05:58 PM    Evening   \n",
       "2  2025-04-14 05:34:51 PM    Monday    False  Spring  05:34 PM    Evening   \n",
       "3  2025-04-14 05:13:51 PM    Monday    False  Spring  05:13 PM    Evening   \n",
       "4  2025-04-14 04:08:25 PM    Monday    False  Spring  04:08 PM  Afternoon   \n",
       "\n",
       "        FullStreet        lat        lon   neighborhood    zip  \n",
       "0  1100 EMMET ST N  38.051639 -78.501523  Barracks Road  22901  \n",
       "1   1300 W MAIN ST  38.033288 -78.497940        Venable  22903  \n",
       "2    500 W MAIN ST  38.030793 -78.487912     Starr Hill  22903  \n",
       "3  600 E MARKET ST  38.030175 -78.477574  Downtown Mall  22902  \n",
       "4    100 9TH ST SE  38.028000 -78.476890        Belmont  22902  "
      ]
     },
     "execution_count": 11,
     "metadata": {},
     "output_type": "execute_result"
    }
   ],
   "source": [
    "# Initialize the geocoder.\n",
    "geolocator = Nominatim(user_agent=\"zip_lookup\")\n",
    "\n",
    "# Try to load a persistent ZIP cache if available.\n",
    "try:\n",
    "    with open(\"zip_cache.pkl\", \"rb\") as f:\n",
    "        zip_cache = pickle.load(f)\n",
    "    print(\"Loaded zip cache.\")\n",
    "except FileNotFoundError:\n",
    "    zip_cache = {}\n",
    "    print(\"No zip cache found; starting fresh.\")\n",
    "\n",
    "def get_zip(lat, lon):\n",
    "    \"\"\"\n",
    "    Reverse geocodes a latitude and longitude to retrieve the ZIP code.\n",
    "    Caches results to speed up subsequent lookups.\n",
    "    \"\"\"\n",
    "    key = (lat, lon)\n",
    "    if key in zip_cache:\n",
    "        return zip_cache[key]\n",
    "    \n",
    "    try:\n",
    "        location = geolocator.reverse((lat, lon), exactly_one=True, timeout=10)\n",
    "        address = location.raw.get('address', {})\n",
    "        postal_code = address.get('postcode', \"N/A\")\n",
    "    except Exception as e:\n",
    "        print(f\"Error getting ZIP for {lat}, {lon}: {e}\")\n",
    "        postal_code = \"N/A\"\n",
    "    \n",
    "    zip_cache[key] = postal_code\n",
    "    # Pause to respect the usage policy.\n",
    "    time.sleep(1)\n",
    "    return postal_code\n",
    "\n",
    "# Apply the function to each row in the DataFrame.\n",
    "df['zip'] = df.apply(lambda row: get_zip(row['lat'], row['lon']), axis=1)\n",
    "\n",
    "# Save the updated ZIP cache.\n",
    "with open(\"zip_cache.pkl\", \"wb\") as f:\n",
    "    pickle.dump(zip_cache, f)\n",
    "\n",
    "df.head()\n"
   ]
  },
  {
   "cell_type": "code",
   "execution_count": 12,
   "id": "0487e56c",
   "metadata": {
    "execution": {
     "iopub.execute_input": "2025-04-17T01:01:10.974268Z",
     "iopub.status.busy": "2025-04-17T01:01:10.973737Z",
     "iopub.status.idle": "2025-04-17T01:01:11.002634Z",
     "shell.execute_reply": "2025-04-17T01:01:11.002040Z"
    },
    "papermill": {
     "duration": 0.037508,
     "end_time": "2025-04-17T01:01:11.003630",
     "exception": false,
     "start_time": "2025-04-17T01:01:10.966122",
     "status": "completed"
    },
    "tags": []
   },
   "outputs": [
    {
     "name": "stdout",
     "output_type": "stream",
     "text": [
      "                  MissingCount  MissingPercentage\n",
      "RecordID                     0               0.00\n",
      "Offense                      0               0.00\n",
      "IncidentID                   0               0.00\n",
      "BlockNumber                  0               0.00\n",
      "StreetName                   0               0.00\n",
      "Agency                       0               0.00\n",
      "HourReported                 0               0.00\n",
      "ReportingOfficer            17               0.07\n",
      "Date                         0               0.00\n",
      "DateString                   0               0.00\n",
      "DayOfWeek                    0               0.00\n",
      "Weekend                      0               0.00\n",
      "Season                       0               0.00\n",
      "HourAMPM                     0               0.00\n",
      "TimeOfDay                    0               0.00\n",
      "FullStreet                   0               0.00\n",
      "lat                          0               0.00\n",
      "lon                          0               0.00\n",
      "neighborhood                 0               0.00\n",
      "zip                          0               0.00\n"
     ]
    }
   ],
   "source": [
    "missing_info = missing_percentage(df)\n",
    "print(missing_info)\n"
   ]
  },
  {
   "cell_type": "code",
   "execution_count": 13,
   "id": "459f8b37",
   "metadata": {
    "execution": {
     "iopub.execute_input": "2025-04-17T01:01:11.018579Z",
     "iopub.status.busy": "2025-04-17T01:01:11.018326Z",
     "iopub.status.idle": "2025-04-17T01:01:11.048383Z",
     "shell.execute_reply": "2025-04-17T01:01:11.047828Z"
    },
    "papermill": {
     "duration": 0.038666,
     "end_time": "2025-04-17T01:01:11.049457",
     "exception": false,
     "start_time": "2025-04-17T01:01:11.010791",
     "status": "completed"
    },
    "tags": []
   },
   "outputs": [
    {
     "name": "stdout",
     "output_type": "stream",
     "text": [
      "<class 'pandas.core.frame.DataFrame'>\n",
      "RangeIndex: 25186 entries, 0 to 25185\n",
      "Data columns (total 20 columns):\n",
      " #   Column            Non-Null Count  Dtype         \n",
      "---  ------            --------------  -----         \n",
      " 0   RecordID          25186 non-null  int64         \n",
      " 1   Offense           25186 non-null  object        \n",
      " 2   IncidentID        25186 non-null  object        \n",
      " 3   BlockNumber       25186 non-null  object        \n",
      " 4   StreetName        25186 non-null  object        \n",
      " 5   Agency            25186 non-null  object        \n",
      " 6   HourReported      25186 non-null  object        \n",
      " 7   ReportingOfficer  25169 non-null  object        \n",
      " 8   Date              25186 non-null  datetime64[ns]\n",
      " 9   DateString        25186 non-null  object        \n",
      " 10  DayOfWeek         25186 non-null  object        \n",
      " 11  Weekend           25186 non-null  bool          \n",
      " 12  Season            25186 non-null  object        \n",
      " 13  HourAMPM          25186 non-null  object        \n",
      " 14  TimeOfDay         25186 non-null  object        \n",
      " 15  FullStreet        25186 non-null  object        \n",
      " 16  lat               25186 non-null  float64       \n",
      " 17  lon               25186 non-null  float64       \n",
      " 18  neighborhood      25186 non-null  object        \n",
      " 19  zip               25186 non-null  object        \n",
      "dtypes: bool(1), datetime64[ns](1), float64(2), int64(1), object(15)\n",
      "memory usage: 3.7+ MB\n"
     ]
    }
   ],
   "source": [
    "df.info()"
   ]
  },
  {
   "cell_type": "code",
   "execution_count": 14,
   "id": "5bbda206",
   "metadata": {
    "execution": {
     "iopub.execute_input": "2025-04-17T01:01:11.065344Z",
     "iopub.status.busy": "2025-04-17T01:01:11.064728Z",
     "iopub.status.idle": "2025-04-17T01:01:11.111057Z",
     "shell.execute_reply": "2025-04-17T01:01:11.110352Z"
    },
    "papermill": {
     "duration": 0.055334,
     "end_time": "2025-04-17T01:01:11.112073",
     "exception": false,
     "start_time": "2025-04-17T01:01:11.056739",
     "status": "completed"
    },
    "tags": []
   },
   "outputs": [
    {
     "data": {
      "text/html": [
       "<div>\n",
       "<style scoped>\n",
       "    .dataframe tbody tr th:only-of-type {\n",
       "        vertical-align: middle;\n",
       "    }\n",
       "\n",
       "    .dataframe tbody tr th {\n",
       "        vertical-align: top;\n",
       "    }\n",
       "\n",
       "    .dataframe thead th {\n",
       "        text-align: right;\n",
       "    }\n",
       "</style>\n",
       "<table border=\"1\" class=\"dataframe\">\n",
       "  <thead>\n",
       "    <tr style=\"text-align: right;\">\n",
       "      <th></th>\n",
       "      <th>RecordID</th>\n",
       "      <th>Offense</th>\n",
       "      <th>IncidentID</th>\n",
       "      <th>Agency</th>\n",
       "      <th>ReportingOfficer</th>\n",
       "      <th>Date</th>\n",
       "      <th>DayOfWeek</th>\n",
       "      <th>Weekend</th>\n",
       "      <th>Season</th>\n",
       "      <th>TimeOfDay</th>\n",
       "      <th>FullStreet</th>\n",
       "      <th>lat</th>\n",
       "      <th>lon</th>\n",
       "      <th>neighborhood</th>\n",
       "      <th>zip</th>\n",
       "    </tr>\n",
       "  </thead>\n",
       "  <tbody>\n",
       "    <tr>\n",
       "      <th>0</th>\n",
       "      <td>1</td>\n",
       "      <td>Assist Citizen - Misc</td>\n",
       "      <td>202500012023</td>\n",
       "      <td>CPD</td>\n",
       "      <td>Essex, Dominique</td>\n",
       "      <td>2025-04-14 19:46:37</td>\n",
       "      <td>Monday</td>\n",
       "      <td>False</td>\n",
       "      <td>Spring</td>\n",
       "      <td>Evening</td>\n",
       "      <td>1100 EMMET ST N</td>\n",
       "      <td>38.051639</td>\n",
       "      <td>-78.501523</td>\n",
       "      <td>Barracks Road</td>\n",
       "      <td>22901</td>\n",
       "    </tr>\n",
       "    <tr>\n",
       "      <th>1</th>\n",
       "      <td>2</td>\n",
       "      <td>Suspicious Activity</td>\n",
       "      <td>202500012013</td>\n",
       "      <td>CPD</td>\n",
       "      <td>Crowley, Raeann</td>\n",
       "      <td>2025-04-14 17:58:01</td>\n",
       "      <td>Monday</td>\n",
       "      <td>False</td>\n",
       "      <td>Spring</td>\n",
       "      <td>Evening</td>\n",
       "      <td>1300 W MAIN ST</td>\n",
       "      <td>38.033288</td>\n",
       "      <td>-78.497940</td>\n",
       "      <td>Venable</td>\n",
       "      <td>22903</td>\n",
       "    </tr>\n",
       "    <tr>\n",
       "      <th>2</th>\n",
       "      <td>3</td>\n",
       "      <td>Larceny - Shoplifitng</td>\n",
       "      <td>202500012006</td>\n",
       "      <td>CPD</td>\n",
       "      <td>Crowley, Raeann</td>\n",
       "      <td>2025-04-14 17:34:51</td>\n",
       "      <td>Monday</td>\n",
       "      <td>False</td>\n",
       "      <td>Spring</td>\n",
       "      <td>Evening</td>\n",
       "      <td>500 W MAIN ST</td>\n",
       "      <td>38.030793</td>\n",
       "      <td>-78.487912</td>\n",
       "      <td>Starr Hill</td>\n",
       "      <td>22903</td>\n",
       "    </tr>\n",
       "    <tr>\n",
       "      <th>3</th>\n",
       "      <td>4</td>\n",
       "      <td>Suspicious Activity</td>\n",
       "      <td>202500012010</td>\n",
       "      <td>CPD</td>\n",
       "      <td>Crowley, Raeann</td>\n",
       "      <td>2025-04-14 17:13:51</td>\n",
       "      <td>Monday</td>\n",
       "      <td>False</td>\n",
       "      <td>Spring</td>\n",
       "      <td>Evening</td>\n",
       "      <td>600 E MARKET ST</td>\n",
       "      <td>38.030175</td>\n",
       "      <td>-78.477574</td>\n",
       "      <td>Downtown Mall</td>\n",
       "      <td>22902</td>\n",
       "    </tr>\n",
       "    <tr>\n",
       "      <th>4</th>\n",
       "      <td>5</td>\n",
       "      <td>Lost/FoundProperty</td>\n",
       "      <td>202500011996</td>\n",
       "      <td>CPD</td>\n",
       "      <td>Prevost, Payten</td>\n",
       "      <td>2025-04-14 16:08:25</td>\n",
       "      <td>Monday</td>\n",
       "      <td>False</td>\n",
       "      <td>Spring</td>\n",
       "      <td>Afternoon</td>\n",
       "      <td>100 9TH ST SE</td>\n",
       "      <td>38.028000</td>\n",
       "      <td>-78.476890</td>\n",
       "      <td>Belmont</td>\n",
       "      <td>22902</td>\n",
       "    </tr>\n",
       "  </tbody>\n",
       "</table>\n",
       "</div>"
      ],
      "text/plain": [
       "   RecordID                Offense    IncidentID Agency  ReportingOfficer  \\\n",
       "0         1  Assist Citizen - Misc  202500012023    CPD  Essex, Dominique   \n",
       "1         2    Suspicious Activity  202500012013    CPD   Crowley, Raeann   \n",
       "2         3  Larceny - Shoplifitng  202500012006    CPD   Crowley, Raeann   \n",
       "3         4    Suspicious Activity  202500012010    CPD   Crowley, Raeann   \n",
       "4         5     Lost/FoundProperty  202500011996    CPD   Prevost, Payten   \n",
       "\n",
       "                 Date DayOfWeek  Weekend  Season  TimeOfDay       FullStreet  \\\n",
       "0 2025-04-14 19:46:37    Monday    False  Spring    Evening  1100 EMMET ST N   \n",
       "1 2025-04-14 17:58:01    Monday    False  Spring    Evening   1300 W MAIN ST   \n",
       "2 2025-04-14 17:34:51    Monday    False  Spring    Evening    500 W MAIN ST   \n",
       "3 2025-04-14 17:13:51    Monday    False  Spring    Evening  600 E MARKET ST   \n",
       "4 2025-04-14 16:08:25    Monday    False  Spring  Afternoon    100 9TH ST SE   \n",
       "\n",
       "         lat        lon   neighborhood    zip  \n",
       "0  38.051639 -78.501523  Barracks Road  22901  \n",
       "1  38.033288 -78.497940        Venable  22903  \n",
       "2  38.030793 -78.487912     Starr Hill  22903  \n",
       "3  38.030175 -78.477574  Downtown Mall  22902  \n",
       "4  38.028000 -78.476890        Belmont  22902  "
      ]
     },
     "execution_count": 14,
     "metadata": {},
     "output_type": "execute_result"
    }
   ],
   "source": [
    "# Now drop the original BlockNumber and StreetName columns\n",
    "df.drop(columns=['BlockNumber', 'StreetName','HourAMPM','HourReported','DateString'], inplace=True)\n",
    "df[\"zip\"] = df[\"zip\"].astype(str)\n",
    "\n",
    "# Fill all missing values in the DataFrame with \"N/A\"\n",
    "df.replace({None: \"N/A\", np.nan: \"N/A\", \"\": \"N/A\"}, inplace=True)\n",
    "df.head()"
   ]
  },
  {
   "cell_type": "code",
   "execution_count": 15,
   "id": "7ae3a913",
   "metadata": {
    "execution": {
     "iopub.execute_input": "2025-04-17T01:01:11.128398Z",
     "iopub.status.busy": "2025-04-17T01:01:11.127907Z",
     "iopub.status.idle": "2025-04-17T01:01:11.148910Z",
     "shell.execute_reply": "2025-04-17T01:01:11.148311Z"
    },
    "papermill": {
     "duration": 0.030284,
     "end_time": "2025-04-17T01:01:11.149952",
     "exception": false,
     "start_time": "2025-04-17T01:01:11.119668",
     "status": "completed"
    },
    "tags": []
   },
   "outputs": [
    {
     "name": "stdout",
     "output_type": "stream",
     "text": [
      "                  MissingCount  MissingPercentage\n",
      "RecordID                     0                0.0\n",
      "Offense                      0                0.0\n",
      "IncidentID                   0                0.0\n",
      "Agency                       0                0.0\n",
      "ReportingOfficer             0                0.0\n",
      "Date                         0                0.0\n",
      "DayOfWeek                    0                0.0\n",
      "Weekend                      0                0.0\n",
      "Season                       0                0.0\n",
      "TimeOfDay                    0                0.0\n",
      "FullStreet                   0                0.0\n",
      "lat                          0                0.0\n",
      "lon                          0                0.0\n",
      "neighborhood                 0                0.0\n",
      "zip                          0                0.0\n"
     ]
    }
   ],
   "source": [
    "missing_info = missing_percentage(df)\n",
    "print(missing_info)"
   ]
  },
  {
   "cell_type": "code",
   "execution_count": 16,
   "id": "996d4fde",
   "metadata": {
    "execution": {
     "iopub.execute_input": "2025-04-17T01:01:11.165791Z",
     "iopub.status.busy": "2025-04-17T01:01:11.165520Z",
     "iopub.status.idle": "2025-04-17T01:01:11.170064Z",
     "shell.execute_reply": "2025-04-17T01:01:11.169558Z"
    },
    "papermill": {
     "duration": 0.013637,
     "end_time": "2025-04-17T01:01:11.171096",
     "exception": false,
     "start_time": "2025-04-17T01:01:11.157459",
     "status": "completed"
    },
    "tags": []
   },
   "outputs": [
    {
     "data": {
      "text/plain": [
       "Index(['RecordID', 'Offense', 'IncidentID', 'Agency', 'ReportingOfficer',\n",
       "       'Date', 'DayOfWeek', 'Weekend', 'Season', 'TimeOfDay', 'FullStreet',\n",
       "       'lat', 'lon', 'neighborhood', 'zip'],\n",
       "      dtype='object')"
      ]
     },
     "execution_count": 16,
     "metadata": {},
     "output_type": "execute_result"
    }
   ],
   "source": [
    "df.columns"
   ]
  },
  {
   "cell_type": "code",
   "execution_count": 17,
   "id": "2ed0c9f7",
   "metadata": {
    "execution": {
     "iopub.execute_input": "2025-04-17T01:01:11.186986Z",
     "iopub.status.busy": "2025-04-17T01:01:11.186447Z",
     "iopub.status.idle": "2025-04-17T01:01:11.208704Z",
     "shell.execute_reply": "2025-04-17T01:01:11.208145Z"
    },
    "papermill": {
     "duration": 0.03128,
     "end_time": "2025-04-17T01:01:11.209801",
     "exception": false,
     "start_time": "2025-04-17T01:01:11.178521",
     "status": "completed"
    },
    "tags": []
   },
   "outputs": [
    {
     "name": "stdout",
     "output_type": "stream",
     "text": [
      "<class 'pandas.core.frame.DataFrame'>\n",
      "RangeIndex: 25186 entries, 0 to 25185\n",
      "Data columns (total 15 columns):\n",
      " #   Column            Non-Null Count  Dtype         \n",
      "---  ------            --------------  -----         \n",
      " 0   RecordID          25186 non-null  int64         \n",
      " 1   Offense           25186 non-null  object        \n",
      " 2   IncidentID        25186 non-null  object        \n",
      " 3   Agency            25186 non-null  object        \n",
      " 4   ReportingOfficer  25186 non-null  object        \n",
      " 5   Date              25186 non-null  datetime64[ns]\n",
      " 6   DayOfWeek         25186 non-null  object        \n",
      " 7   Weekend           25186 non-null  bool          \n",
      " 8   Season            25186 non-null  object        \n",
      " 9   TimeOfDay         25186 non-null  object        \n",
      " 10  FullStreet        25186 non-null  object        \n",
      " 11  lat               25186 non-null  float64       \n",
      " 12  lon               25186 non-null  float64       \n",
      " 13  neighborhood      25186 non-null  object        \n",
      " 14  zip               25186 non-null  object        \n",
      "dtypes: bool(1), datetime64[ns](1), float64(2), int64(1), object(10)\n",
      "memory usage: 2.7+ MB\n"
     ]
    }
   ],
   "source": [
    "df.info()"
   ]
  },
  {
   "cell_type": "markdown",
   "id": "45d479d2",
   "metadata": {
    "papermill": {
     "duration": 0.007331,
     "end_time": "2025-04-17T01:01:11.224919",
     "exception": false,
     "start_time": "2025-04-17T01:01:11.217588",
     "status": "completed"
    },
    "tags": []
   },
   "source": [
    "### Export Clean Data"
   ]
  },
  {
   "cell_type": "code",
   "execution_count": 18,
   "id": "582eed3e",
   "metadata": {
    "execution": {
     "iopub.execute_input": "2025-04-17T01:01:11.241522Z",
     "iopub.status.busy": "2025-04-17T01:01:11.240906Z",
     "iopub.status.idle": "2025-04-17T01:01:20.501103Z",
     "shell.execute_reply": "2025-04-17T01:01:20.500395Z"
    },
    "papermill": {
     "duration": 9.26975,
     "end_time": "2025-04-17T01:01:20.502220",
     "exception": false,
     "start_time": "2025-04-17T01:01:11.232470",
     "status": "completed"
    },
    "tags": []
   },
   "outputs": [
    {
     "name": "stdout",
     "output_type": "stream",
     "text": [
      "Project Root: /home/runner/work/crime-data/crime-data\n"
     ]
    },
    {
     "name": "stdout",
     "output_type": "stream",
     "text": [
      "Data saved to: /home/runner/work/crime-data/crime-data/data/charlottesville_crime_incidents.csv\n"
     ]
    },
    {
     "name": "stdout",
     "output_type": "stream",
     "text": [
      "Excel saved to: /home/runner/work/crime-data/crime-data/data/charlottesville_crime_incidents.xlsx\n"
     ]
    }
   ],
   "source": [
    "# Determine the project root (assuming papermill is run from the repository root)\n",
    "project_root = os.getcwd()\n",
    "print(\"Project Root:\", project_root)\n",
    "\n",
    "# Set the data directory within the project root\n",
    "data_dir = os.path.join(project_root, \"data\")\n",
    "\n",
    "# Ensure the \"data\" directory exists (create it if it doesn't)\n",
    "if not os.path.exists(data_dir):\n",
    "    os.makedirs(data_dir)\n",
    "\n",
    "# Export the DataFrame to CSV in the \"data\" folder located in the project root\n",
    "csv_path = os.path.join(data_dir, \"charlottesville_crime_incidents.csv\")\n",
    "df.to_csv(csv_path, index=False)\n",
    "print(\"Data saved to:\", csv_path)\n",
    "\n",
    "# Construct the path to your Excel file\n",
    "excel_path = os.path.join(data_dir, \"charlottesville_crime_incidents.xlsx\")\n",
    "\n",
    "# Export the DataFrame to Excel\n",
    "df.to_excel(excel_path, index=False)\n",
    "print(\"Excel saved to:\", excel_path)\n"
   ]
  },
  {
   "cell_type": "markdown",
   "id": "28a18094",
   "metadata": {
    "papermill": {
     "duration": 0.007713,
     "end_time": "2025-04-17T01:01:20.517872",
     "exception": false,
     "start_time": "2025-04-17T01:01:20.510159",
     "status": "completed"
    },
    "tags": []
   },
   "source": [
    "## Predictive Analytics"
   ]
  },
  {
   "cell_type": "code",
   "execution_count": 19,
   "id": "98750a14",
   "metadata": {
    "execution": {
     "iopub.execute_input": "2025-04-17T01:01:20.555964Z",
     "iopub.status.busy": "2025-04-17T01:01:20.555653Z",
     "iopub.status.idle": "2025-04-17T01:01:20.567435Z",
     "shell.execute_reply": "2025-04-17T01:01:20.566893Z"
    },
    "papermill": {
     "duration": 0.021483,
     "end_time": "2025-04-17T01:01:20.568413",
     "exception": false,
     "start_time": "2025-04-17T01:01:20.546930",
     "status": "completed"
    },
    "tags": []
   },
   "outputs": [
    {
     "data": {
      "text/html": [
       "<div>\n",
       "<style scoped>\n",
       "    .dataframe tbody tr th:only-of-type {\n",
       "        vertical-align: middle;\n",
       "    }\n",
       "\n",
       "    .dataframe tbody tr th {\n",
       "        vertical-align: top;\n",
       "    }\n",
       "\n",
       "    .dataframe thead th {\n",
       "        text-align: right;\n",
       "    }\n",
       "</style>\n",
       "<table border=\"1\" class=\"dataframe\">\n",
       "  <thead>\n",
       "    <tr style=\"text-align: right;\">\n",
       "      <th></th>\n",
       "      <th>RecordID</th>\n",
       "      <th>Offense</th>\n",
       "      <th>IncidentID</th>\n",
       "      <th>Agency</th>\n",
       "      <th>ReportingOfficer</th>\n",
       "      <th>Date</th>\n",
       "      <th>DayOfWeek</th>\n",
       "      <th>Weekend</th>\n",
       "      <th>Season</th>\n",
       "      <th>TimeOfDay</th>\n",
       "      <th>FullStreet</th>\n",
       "      <th>lat</th>\n",
       "      <th>lon</th>\n",
       "      <th>neighborhood</th>\n",
       "      <th>zip</th>\n",
       "    </tr>\n",
       "  </thead>\n",
       "  <tbody>\n",
       "    <tr>\n",
       "      <th>0</th>\n",
       "      <td>1</td>\n",
       "      <td>Assist Citizen - Misc</td>\n",
       "      <td>202500012023</td>\n",
       "      <td>CPD</td>\n",
       "      <td>Essex, Dominique</td>\n",
       "      <td>2025-04-14 19:46:37</td>\n",
       "      <td>Monday</td>\n",
       "      <td>False</td>\n",
       "      <td>Spring</td>\n",
       "      <td>Evening</td>\n",
       "      <td>1100 EMMET ST N</td>\n",
       "      <td>38.051639</td>\n",
       "      <td>-78.501523</td>\n",
       "      <td>Barracks Road</td>\n",
       "      <td>22901</td>\n",
       "    </tr>\n",
       "    <tr>\n",
       "      <th>1</th>\n",
       "      <td>2</td>\n",
       "      <td>Suspicious Activity</td>\n",
       "      <td>202500012013</td>\n",
       "      <td>CPD</td>\n",
       "      <td>Crowley, Raeann</td>\n",
       "      <td>2025-04-14 17:58:01</td>\n",
       "      <td>Monday</td>\n",
       "      <td>False</td>\n",
       "      <td>Spring</td>\n",
       "      <td>Evening</td>\n",
       "      <td>1300 W MAIN ST</td>\n",
       "      <td>38.033288</td>\n",
       "      <td>-78.497940</td>\n",
       "      <td>Venable</td>\n",
       "      <td>22903</td>\n",
       "    </tr>\n",
       "    <tr>\n",
       "      <th>2</th>\n",
       "      <td>3</td>\n",
       "      <td>Larceny - Shoplifitng</td>\n",
       "      <td>202500012006</td>\n",
       "      <td>CPD</td>\n",
       "      <td>Crowley, Raeann</td>\n",
       "      <td>2025-04-14 17:34:51</td>\n",
       "      <td>Monday</td>\n",
       "      <td>False</td>\n",
       "      <td>Spring</td>\n",
       "      <td>Evening</td>\n",
       "      <td>500 W MAIN ST</td>\n",
       "      <td>38.030793</td>\n",
       "      <td>-78.487912</td>\n",
       "      <td>Starr Hill</td>\n",
       "      <td>22903</td>\n",
       "    </tr>\n",
       "    <tr>\n",
       "      <th>3</th>\n",
       "      <td>4</td>\n",
       "      <td>Suspicious Activity</td>\n",
       "      <td>202500012010</td>\n",
       "      <td>CPD</td>\n",
       "      <td>Crowley, Raeann</td>\n",
       "      <td>2025-04-14 17:13:51</td>\n",
       "      <td>Monday</td>\n",
       "      <td>False</td>\n",
       "      <td>Spring</td>\n",
       "      <td>Evening</td>\n",
       "      <td>600 E MARKET ST</td>\n",
       "      <td>38.030175</td>\n",
       "      <td>-78.477574</td>\n",
       "      <td>Downtown Mall</td>\n",
       "      <td>22902</td>\n",
       "    </tr>\n",
       "    <tr>\n",
       "      <th>4</th>\n",
       "      <td>5</td>\n",
       "      <td>Lost/FoundProperty</td>\n",
       "      <td>202500011996</td>\n",
       "      <td>CPD</td>\n",
       "      <td>Prevost, Payten</td>\n",
       "      <td>2025-04-14 16:08:25</td>\n",
       "      <td>Monday</td>\n",
       "      <td>False</td>\n",
       "      <td>Spring</td>\n",
       "      <td>Afternoon</td>\n",
       "      <td>100 9TH ST SE</td>\n",
       "      <td>38.028000</td>\n",
       "      <td>-78.476890</td>\n",
       "      <td>Belmont</td>\n",
       "      <td>22902</td>\n",
       "    </tr>\n",
       "  </tbody>\n",
       "</table>\n",
       "</div>"
      ],
      "text/plain": [
       "   RecordID                Offense    IncidentID Agency  ReportingOfficer  \\\n",
       "0         1  Assist Citizen - Misc  202500012023    CPD  Essex, Dominique   \n",
       "1         2    Suspicious Activity  202500012013    CPD   Crowley, Raeann   \n",
       "2         3  Larceny - Shoplifitng  202500012006    CPD   Crowley, Raeann   \n",
       "3         4    Suspicious Activity  202500012010    CPD   Crowley, Raeann   \n",
       "4         5     Lost/FoundProperty  202500011996    CPD   Prevost, Payten   \n",
       "\n",
       "                 Date DayOfWeek  Weekend  Season  TimeOfDay       FullStreet  \\\n",
       "0 2025-04-14 19:46:37    Monday    False  Spring    Evening  1100 EMMET ST N   \n",
       "1 2025-04-14 17:58:01    Monday    False  Spring    Evening   1300 W MAIN ST   \n",
       "2 2025-04-14 17:34:51    Monday    False  Spring    Evening    500 W MAIN ST   \n",
       "3 2025-04-14 17:13:51    Monday    False  Spring    Evening  600 E MARKET ST   \n",
       "4 2025-04-14 16:08:25    Monday    False  Spring  Afternoon    100 9TH ST SE   \n",
       "\n",
       "         lat        lon   neighborhood    zip  \n",
       "0  38.051639 -78.501523  Barracks Road  22901  \n",
       "1  38.033288 -78.497940        Venable  22903  \n",
       "2  38.030793 -78.487912     Starr Hill  22903  \n",
       "3  38.030175 -78.477574  Downtown Mall  22902  \n",
       "4  38.028000 -78.476890        Belmont  22902  "
      ]
     },
     "execution_count": 19,
     "metadata": {},
     "output_type": "execute_result"
    }
   ],
   "source": [
    "df.head()"
   ]
  },
  {
   "cell_type": "code",
   "execution_count": 20,
   "id": "987e4220",
   "metadata": {
    "execution": {
     "iopub.execute_input": "2025-04-17T01:01:20.585107Z",
     "iopub.status.busy": "2025-04-17T01:01:20.584889Z",
     "iopub.status.idle": "2025-04-17T01:01:20.589074Z",
     "shell.execute_reply": "2025-04-17T01:01:20.588567Z"
    },
    "papermill": {
     "duration": 0.013615,
     "end_time": "2025-04-17T01:01:20.590028",
     "exception": false,
     "start_time": "2025-04-17T01:01:20.576413",
     "status": "completed"
    },
    "tags": []
   },
   "outputs": [
    {
     "data": {
      "text/plain": [
       "Index(['RecordID', 'Offense', 'IncidentID', 'Agency', 'ReportingOfficer',\n",
       "       'Date', 'DayOfWeek', 'Weekend', 'Season', 'TimeOfDay', 'FullStreet',\n",
       "       'lat', 'lon', 'neighborhood', 'zip'],\n",
       "      dtype='object')"
      ]
     },
     "execution_count": 20,
     "metadata": {},
     "output_type": "execute_result"
    }
   ],
   "source": [
    "df.columns"
   ]
  },
  {
   "cell_type": "markdown",
   "id": "33458e5d",
   "metadata": {
    "papermill": {
     "duration": 0.007821,
     "end_time": "2025-04-17T01:01:20.605726",
     "exception": false,
     "start_time": "2025-04-17T01:01:20.597905",
     "status": "completed"
    },
    "tags": []
   },
   "source": [
    "### Data Preparation\n",
    "\n",
    "We need to ensure the data is in the correct format for modeling and can handle missing values, categorical variables, and dates. Here's how to prepare your data:"
   ]
  },
  {
   "cell_type": "code",
   "execution_count": 21,
   "id": "1844a71c",
   "metadata": {
    "execution": {
     "iopub.execute_input": "2025-04-17T01:01:20.622508Z",
     "iopub.status.busy": "2025-04-17T01:01:20.621999Z",
     "iopub.status.idle": "2025-04-17T01:01:22.521013Z",
     "shell.execute_reply": "2025-04-17T01:01:22.520177Z"
    },
    "papermill": {
     "duration": 1.90876,
     "end_time": "2025-04-17T01:01:22.522353",
     "exception": false,
     "start_time": "2025-04-17T01:01:20.613593",
     "status": "completed"
    },
    "tags": []
   },
   "outputs": [],
   "source": [
    "import pandas as pd\n",
    "from sklearn.model_selection import train_test_split\n",
    "from sklearn.preprocessing import OneHotEncoder, LabelEncoder\n",
    "from sklearn.ensemble import RandomForestClassifier\n",
    "from sklearn.linear_model import LogisticRegression\n",
    "from sklearn.tree import DecisionTreeClassifier\n",
    "from sklearn.metrics import classification_report, accuracy_score\n",
    "import seaborn as sns\n",
    "import matplotlib.pyplot as plt\n",
    "\n",
    "# Convert 'Date' to datetime\n",
    "df['Date'] = pd.to_datetime(df['Date'])\n",
    "\n",
    "# Feature engineering: Extract additional time-based features\n",
    "df['Year'] = df['Date'].dt.year\n",
    "df['Month'] = df['Date'].dt.month\n",
    "df['DayOfMonth'] = df['Date'].dt.day\n",
    "\n",
    "# One-hot encoding for 'FullStreet', 'neighborhood', 'zip'\n",
    "df = pd.get_dummies(df, columns=['FullStreet', 'neighborhood', 'zip'], drop_first=True)\n",
    "\n",
    "# Label encoding for ordered variables (those with a natural order like 'DayOfWeek', 'Season', 'TimeOfDay')\n",
    "label_encoders = {}\n",
    "for column in ['DayOfWeek', 'Season', 'TimeOfDay', 'Agency', 'ReportingOfficer']:  # Example ordinal variables\n",
    "    le = LabelEncoder()\n",
    "    df[column] = le.fit_transform(df[column])\n",
    "    label_encoders[column] = le\n",
    "\n",
    "# Filter the dataset to include only the offenses of interest\n",
    "offenses_of_interest = [\n",
    "    'Hit and Run', 'Assault Simple', 'Suspicious Activity', 'Vandalism', \n",
    "    'Larceny - From Mot Vehicle', 'Larceny - All Other', \n",
    "    'Assist Citizen - Mental/TDO/ECO', 'Lost/FoundProperty'\n",
    "]\n",
    "\n",
    "df = df[df['Offense'].isin(offenses_of_interest)]\n",
    "\n",
    "# Label encode the target variable (Offense)\n",
    "offense_encoder = LabelEncoder()\n",
    "df['Offense'] = offense_encoder.fit_transform(df['Offense'])\n",
    "\n",
    "# Separate features (X) and target (y)\n",
    "X = df[['Year', 'Month', 'DayOfMonth', 'DayOfWeek', 'Weekend', 'Season', 'TimeOfDay', 'lat', 'lon', 'Agency', 'ReportingOfficer']]\n",
    "y = df['Offense']  # Offense is now the encoded target variable\n",
    "\n",
    "# Split the data into training and testing sets\n",
    "X_train, X_test, y_train, y_test = train_test_split(X, y, test_size=0.3, random_state=42)\n"
   ]
  },
  {
   "cell_type": "markdown",
   "id": "49b5c7f3",
   "metadata": {
    "papermill": {
     "duration": 0.007928,
     "end_time": "2025-04-17T01:01:22.539509",
     "exception": false,
     "start_time": "2025-04-17T01:01:22.531581",
     "status": "completed"
    },
    "tags": []
   },
   "source": [
    "### Model Training\n",
    "\n",
    "Here we will train several models (e.g., Random Forest, Logistic Regression, and Decision Tree). We will use cross-validation to choose the best model based on accuracy, and then explain the impact of the variables."
   ]
  },
  {
   "cell_type": "code",
   "execution_count": 22,
   "id": "28bd6aa2",
   "metadata": {
    "execution": {
     "iopub.execute_input": "2025-04-17T01:01:22.557120Z",
     "iopub.status.busy": "2025-04-17T01:01:22.556348Z",
     "iopub.status.idle": "2025-04-17T01:01:26.185447Z",
     "shell.execute_reply": "2025-04-17T01:01:26.184862Z"
    },
    "papermill": {
     "duration": 3.639101,
     "end_time": "2025-04-17T01:01:26.186599",
     "exception": false,
     "start_time": "2025-04-17T01:01:22.547498",
     "status": "completed"
    },
    "tags": []
   },
   "outputs": [
    {
     "name": "stderr",
     "output_type": "stream",
     "text": [
      "/opt/hostedtoolcache/Python/3.9.22/x64/lib/python3.9/site-packages/sklearn/linear_model/_logistic.py:465: ConvergenceWarning: lbfgs failed to converge (status=1):\n",
      "STOP: TOTAL NO. of ITERATIONS REACHED LIMIT.\n",
      "\n",
      "Increase the number of iterations (max_iter) or scale the data as shown in:\n",
      "    https://scikit-learn.org/stable/modules/preprocessing.html\n",
      "Please also refer to the documentation for alternative solver options:\n",
      "    https://scikit-learn.org/stable/modules/linear_model.html#logistic-regression\n",
      "  n_iter_i = _check_optimize_result(\n",
      "/opt/hostedtoolcache/Python/3.9.22/x64/lib/python3.9/site-packages/sklearn/metrics/_classification.py:1565: UndefinedMetricWarning: Precision is ill-defined and being set to 0.0 in labels with no predicted samples. Use `zero_division` parameter to control this behavior.\n",
      "  _warn_prf(average, modifier, f\"{metric.capitalize()} is\", len(result))\n",
      "/opt/hostedtoolcache/Python/3.9.22/x64/lib/python3.9/site-packages/sklearn/metrics/_classification.py:1565: UndefinedMetricWarning: Precision is ill-defined and being set to 0.0 in labels with no predicted samples. Use `zero_division` parameter to control this behavior.\n",
      "  _warn_prf(average, modifier, f\"{metric.capitalize()} is\", len(result))\n",
      "/opt/hostedtoolcache/Python/3.9.22/x64/lib/python3.9/site-packages/sklearn/metrics/_classification.py:1565: UndefinedMetricWarning: Precision is ill-defined and being set to 0.0 in labels with no predicted samples. Use `zero_division` parameter to control this behavior.\n",
      "  _warn_prf(average, modifier, f\"{metric.capitalize()} is\", len(result))\n"
     ]
    },
    {
     "name": "stdout",
     "output_type": "stream",
     "text": [
      "\n",
      "Classification Report for All Models:\n",
      "\n",
      "Model: RandomForest\n",
      "Accuracy: 0.2876\n",
      "              precision    recall  f1-score      support\n",
      "0              0.269923  0.369718  0.312036   568.000000\n",
      "1              0.288961  0.205069  0.239892   434.000000\n",
      "2              0.336382  0.486765  0.397837   680.000000\n",
      "3              0.244776  0.177489  0.205772   462.000000\n",
      "4              0.296296  0.210526  0.246154   342.000000\n",
      "5              0.252983  0.205426  0.226738   516.000000\n",
      "6              0.267352  0.229075  0.246738   454.000000\n",
      "accuracy       0.287616  0.287616  0.287616     0.287616\n",
      "macro avg      0.279525  0.269153  0.267881  3456.000000\n",
      "weighted avg   0.281771  0.287616  0.277820  3456.000000\n"
     ]
    },
    {
     "data": {
      "image/png": "[encoded data removed]",
      "text/plain": [
       "<Figure size 800x600 with 2 Axes>"
      ]
     },
     "metadata": {},
     "output_type": "display_data"
    },
    {
     "name": "stdout",
     "output_type": "stream",
     "text": [
      "\n",
      "Model: LogisticRegression\n",
      "Accuracy: 0.2112\n",
      "              precision    recall  f1-score      support\n",
      "0              0.183938  0.500000  0.268939   568.000000\n",
      "1              0.000000  0.000000  0.000000   434.000000\n",
      "2              0.234087  0.654412  0.344828   680.000000\n",
      "3              0.200000  0.002165  0.004283   462.000000\n",
      "4              0.000000  0.000000  0.000000   342.000000\n",
      "5              0.000000  0.000000  0.000000   516.000000\n",
      "6              0.000000  0.000000  0.000000   454.000000\n",
      "accuracy       0.211227  0.211227  0.211227     0.211227\n",
      "macro avg      0.088289  0.165225  0.088293  3456.000000\n",
      "weighted avg   0.103025  0.211227  0.112621  3456.000000\n"
     ]
    },
    {
     "data": {
      "image/png": "[encoded data removed]",
      "text/plain": [
       "<Figure size 800x600 with 2 Axes>"
      ]
     },
     "metadata": {},
     "output_type": "display_data"
    },
    {
     "name": "stdout",
     "output_type": "stream",
     "text": [
      "\n",
      "Model: DecisionTree\n",
      "Accuracy: 0.2216\n",
      "              precision    recall  f1-score      support\n",
      "0              0.224832  0.235915  0.230241   568.000000\n",
      "1              0.209932  0.214286  0.212087   434.000000\n",
      "2              0.301685  0.289706  0.295574   680.000000\n",
      "3              0.199074  0.186147  0.192394   462.000000\n",
      "4              0.188623  0.184211  0.186391   342.000000\n",
      "5              0.185484  0.178295  0.181818   516.000000\n",
      "6              0.201195  0.222467  0.211297   454.000000\n",
      "accuracy       0.221644  0.221644  0.221644     0.221644\n",
      "macro avg      0.215832  0.215861  0.215686  3456.000000\n",
      "weighted avg   0.222076  0.221644  0.221699  3456.000000\n"
     ]
    },
    {
     "data": {
      "image/png": "[encoded data removed]",
      "text/plain": [
       "<Figure size 800x600 with 2 Axes>"
      ]
     },
     "metadata": {},
     "output_type": "display_data"
    },
    {
     "name": "stdout",
     "output_type": "stream",
     "text": [
      "\n",
      "Best Model:\n",
      "Best Model: RandomForestClassifier()\n",
      "Best Model Accuracy: 0.2876\n"
     ]
    }
   ],
   "source": [
    "import pandas as pd\n",
    "from sklearn.model_selection import train_test_split\n",
    "from sklearn.ensemble import RandomForestClassifier\n",
    "from sklearn.linear_model import LogisticRegression\n",
    "from sklearn.tree import DecisionTreeClassifier\n",
    "from sklearn.metrics import classification_report, accuracy_score, confusion_matrix\n",
    "import seaborn as sns\n",
    "import matplotlib.pyplot as plt\n",
    "\n",
    "# Define models\n",
    "models = {\n",
    "    'RandomForest': RandomForestClassifier(),\n",
    "    'LogisticRegression': LogisticRegression(max_iter=1000),\n",
    "    'DecisionTree': DecisionTreeClassifier()\n",
    "}\n",
    "\n",
    "# Train models and evaluate them\n",
    "best_model = None\n",
    "best_score = 0\n",
    "model_reports = {}\n",
    "\n",
    "for model_name, model in models.items():\n",
    "    model.fit(X_train, y_train)  # Train model\n",
    "    y_pred = model.predict(X_test)  # Make predictions\n",
    "    \n",
    "    # Calculate accuracy and generate classification report\n",
    "    accuracy = accuracy_score(y_test, y_pred)\n",
    "    model_reports[model_name] = classification_report(y_test, y_pred, output_dict=True)  # Store as a dictionary for easier analysis\n",
    "    \n",
    "    # Track best performing model\n",
    "    if accuracy > best_score:\n",
    "        best_score = accuracy\n",
    "        best_model = model\n",
    "\n",
    "# Display classification reports and confusion matrices\n",
    "print(\"\\nClassification Report for All Models:\")\n",
    "for model_name, report in model_reports.items():\n",
    "    print(f\"\\nModel: {model_name}\")\n",
    "    print(\"Accuracy: {:.4f}\".format(accuracy_score(y_test, models[model_name].predict(X_test))))  # Display accuracy\n",
    "    print(pd.DataFrame(report).transpose())  # Display classification report as a DataFrame\n",
    "\n",
    "    # Plot Confusion Matrix\n",
    "    cm = confusion_matrix(y_test, models[model_name].predict(X_test))\n",
    "    plt.figure(figsize=(8, 6))\n",
    "    sns.heatmap(cm, annot=True, fmt=\"d\", cmap='Blues', xticklabels=offense_encoder.classes_, yticklabels=offense_encoder.classes_)\n",
    "    plt.title(f\"Confusion Matrix - {model_name}\")\n",
    "    plt.xlabel('Predicted Labels')\n",
    "    plt.ylabel('True Labels')\n",
    "    plt.show()\n",
    "\n",
    "# Display best model details\n",
    "print(\"\\nBest Model:\")\n",
    "print(f\"Best Model: {best_model}\")\n",
    "print(f\"Best Model Accuracy: {best_score:.4f}\")\n"
   ]
  },
  {
   "cell_type": "markdown",
   "id": "ba02dec6",
   "metadata": {
    "papermill": {
     "duration": 0.010883,
     "end_time": "2025-04-17T01:01:26.208856",
     "exception": false,
     "start_time": "2025-04-17T01:01:26.197973",
     "status": "completed"
    },
    "tags": []
   },
   "source": [
    "#### Classification Report for All Models:\n",
    "\n",
    "### Explanation of the Classification Results (RandomForest Model)\n",
    "\n",
    "The results you provided are from a **Random Forest** model, which is used for predicting different types of offenses. Let's break down the key components of the results:\n",
    "\n",
    "#### 1. **Accuracy: 0.2822**\n",
    "   - **Accuracy** measures the overall percentage of correct predictions made by the model. An accuracy of 28.22% means the model correctly predicted the offense in about 28% of the cases. This indicates the model's predictions are not highly reliable, as the accuracy is quite low.\n",
    "\n",
    "#### 2. **Classification Report:**\n",
    "   The classification report includes precision, recall, and F1-score for each offense. Let's go over these terms and how they apply to the results:\n",
    "\n",
    "   - **Precision**: The proportion of true positive predictions out of all positive predictions made by the model for a specific class (offense).\n",
    "   - **Recall**: The proportion of true positive predictions out of all actual positive instances in the dataset.\n",
    "   - **F1-Score**: The harmonic mean of precision and recall, providing a balance between the two metrics.\n",
    "   - **Support**: The number of actual occurrences of each class in the test set.\n",
    "\n",
    "   Let's analyze each offense based on these metrics:\n",
    "\n",
    "   | **Offense**                        | **Precision** | **Recall** | **F1-Score** | **Support** |\n",
    "   |------------------------------------|---------------|------------|--------------|-------------|\n",
    "   | **Assault Simple**                 | 0.2892        | 0.3754     | 0.3267       | 594         |\n",
    "   | **Assist Citizen - Mental/TDO/ECO**| 0.3182        | 0.2274     | 0.2652       | 431         |\n",
    "   | **Hit and Run**                    | 0.2963        | 0.4765     | 0.3654       | 638         |\n",
    "   | **Larceny - All Other**            | 0.2270        | 0.1453     | 0.1772       | 475         |\n",
    "   | **Lost/FoundProperty**             | 0.3333        | 0.2102     | 0.2578       | 352         |\n",
    "   | **Suspicious Activity**            | 0.2344        | 0.2169     | 0.2253       | 484         |\n",
    "   | **Vandalism**                      | 0.2712        | 0.2106     | 0.2371       | 470         |\n",
    "\n",
    "#### 3. **Key Insights from the Report:**\n",
    "\n",
    "- **Precision**:\n",
    "   - The highest precision is for **Larceny - All Other** (0.3333), indicating that when the model predicts this offense, it is correct about 33% of the time. However, this is still quite low.\n",
    "   - **Assist Citizen - Mental/TDO/ECO** has the lowest precision (0.2269), meaning that the model's predictions for this offense tend to be wrong more often than correct.\n",
    "\n",
    "- **Recall**:\n",
    "   - **Hit and Run** has the highest recall (0.4765), meaning the model identifies about 48% of the actual occurrences of this offense. This is better than the precision, which indicates it is missing many true positives but is still able to identify a fair number of cases.\n",
    "   - **Larceny - All Other** and **Suspicious Activity** have the lowest recall values (0.1453 and 0.2169, respectively), indicating that the model is failing to identify most of the actual cases for these offenses.\n",
    "\n",
    "- **F1-Score**:\n",
    "   - The **F1-Score** balances precision and recall. It is highest for **Hit and Run** (0.3654), but still relatively low overall. This suggests the model is better at identifying **Hit and Run** than other offenses but still has room for improvement.\n",
    "   - **Larceny - All Other** has the lowest F1-Score (0.1772), indicating a poor balance between precision and recall for this offense.\n",
    "\n",
    "#### 4. **Macro Average and Weighted Average:**\n",
    "   - **Macro Average**: This gives the average precision, recall, and F1-Score across all classes (offenses) without considering the class distribution. It averages the results for all offenses equally.\n",
    "     - Precision: 0.2814\n",
    "     - Recall: 0.2661\n",
    "     - F1-Score: 0.2649\n",
    "   - **Weighted Average**: This averages the metrics but weighs each class by its support (the number of true instances in the test set). This gives a better sense of overall performance, considering the class distribution.\n",
    "     - Precision: 0.2799\n",
    "     - Recall: 0.2822\n",
    "     - F1-Score: 0.2720\n",
    "\n",
    "#### 5. **Confusion Matrix (Visualization Analysis)**:\n",
    "   - The confusion matrix shows the distribution of true positive, false positive, true negative, and false negative predictions for each class.\n",
    "     - For **Hit and Run**, the model performs relatively well in identifying this offense (304 true positives). However, it also misclassifies some **Hit and Run** instances as other offenses (e.g., **Assault Simple**, **Suspicious Activity**, etc.).\n",
    "     - **Larceny - All Other** is frequently misclassified as **Hit and Run**, **Suspicious Activity**, and others. This is evident from the large number of off-diagonal elements in its row.\n",
    "     - **Assist Citizen - Mental/TDO/ECO** and **Suspicious Activity** are frequently misclassified, as seen by the off-diagonal values in their rows.\n",
    "\n",
    "### Conclusion:\n",
    "The Random Forest model has low accuracy (28.22%), suggesting that it struggles to predict most offenses accurately. Some offenses like **Hit and Run** are better predicted than others, but overall, the model shows a high level of misclassification across all offenses. There may be a need for further tuning of the model, additional feature engineering, or trying different models for better performance.\n",
    "\n",
    "Let me know if you'd like to improve the model or make adjustments based on these results!\n",
    "\n"
   ]
  },
  {
   "cell_type": "markdown",
   "id": "81389b9c",
   "metadata": {
    "papermill": {
     "duration": 0.010755,
     "end_time": "2025-04-17T01:01:26.230408",
     "exception": false,
     "start_time": "2025-04-17T01:01:26.219653",
     "status": "completed"
    },
    "tags": []
   },
   "source": [
    "### Model Explanation\n",
    "\n",
    "Once we’ve chosen the best model, we will explain its predictions by examining feature importance for tree-based models and using statistical methods like logistic regression coefficients for linear models."
   ]
  },
  {
   "cell_type": "markdown",
   "id": "1ac283fb",
   "metadata": {
    "papermill": {
     "duration": 0.011018,
     "end_time": "2025-04-17T01:01:26.252350",
     "exception": false,
     "start_time": "2025-04-17T01:01:26.241332",
     "status": "completed"
    },
    "tags": []
   },
   "source": [
    "#### Feature Importance for Random Forest / Decision Tree\n",
    "\n",
    "##### For Tree-based Models (Random Forest, Decision Tree)\n",
    "\n",
    "For Random Forest or Decision Tree, we can look at feature importance to understand which variables contribute the most to the model's predictions. Here's how you can visualize and interpret the importance of each feature:"
   ]
  },
  {
   "cell_type": "code",
   "execution_count": 23,
   "id": "b78479fa",
   "metadata": {
    "execution": {
     "iopub.execute_input": "2025-04-17T01:01:26.275570Z",
     "iopub.status.busy": "2025-04-17T01:01:26.275245Z",
     "iopub.status.idle": "2025-04-17T01:01:26.447287Z",
     "shell.execute_reply": "2025-04-17T01:01:26.446461Z"
    },
    "papermill": {
     "duration": 0.185159,
     "end_time": "2025-04-17T01:01:26.448430",
     "exception": false,
     "start_time": "2025-04-17T01:01:26.263271",
     "status": "completed"
    },
    "tags": []
   },
   "outputs": [
    {
     "data": {
      "image/png": "[encoded data removed]",
      "text/plain": [
       "<Figure size 1000x600 with 1 Axes>"
      ]
     },
     "metadata": {},
     "output_type": "display_data"
    }
   ],
   "source": [
    "# For RandomForest or DecisionTree models, we can check feature importance\n",
    "if isinstance(best_model, RandomForestClassifier) or isinstance(best_model, DecisionTreeClassifier):\n",
    "    feature_importance = best_model.feature_importances_\n",
    "    feature_names = X.columns\n",
    "    importance_df = pd.DataFrame({'Feature': feature_names, 'Importance': feature_importance})\n",
    "    importance_df = importance_df.sort_values(by='Importance', ascending=False)\n",
    "    \n",
    "    # Plotting the feature importances\n",
    "    plt.figure(figsize=(10, 6))\n",
    "    sns.barplot(x='Importance', y='Feature', data=importance_df)\n",
    "    plt.title(\"Feature Importance\")\n",
    "    plt.show()\n"
   ]
  },
  {
   "cell_type": "code",
   "execution_count": null,
   "id": "ba73ceea",
   "metadata": {
    "papermill": {
     "duration": 0.011191,
     "end_time": "2025-04-17T01:01:26.471375",
     "exception": false,
     "start_time": "2025-04-17T01:01:26.460184",
     "status": "completed"
    },
    "tags": []
   },
   "outputs": [],
   "source": []
  },
  {
   "cell_type": "markdown",
   "id": "cf66c716",
   "metadata": {
    "papermill": {
     "duration": 0.011063,
     "end_time": "2025-04-17T01:01:26.493531",
     "exception": false,
     "start_time": "2025-04-17T01:01:26.482468",
     "status": "completed"
    },
    "tags": []
   },
   "source": [
    "### Evaluation\n",
    "\n",
    "After training the models and examining their performance, we evaluate the chosen model based on metrics like accuracy, precision, recall, and F1 score.\n",
    "\n"
   ]
  },
  {
   "cell_type": "code",
   "execution_count": 24,
   "id": "38c693f1",
   "metadata": {
    "execution": {
     "iopub.execute_input": "2025-04-17T01:01:26.517879Z",
     "iopub.status.busy": "2025-04-17T01:01:26.517348Z",
     "iopub.status.idle": "2025-04-17T01:01:26.607807Z",
     "shell.execute_reply": "2025-04-17T01:01:26.607080Z"
    },
    "papermill": {
     "duration": 0.104163,
     "end_time": "2025-04-17T01:01:26.608952",
     "exception": false,
     "start_time": "2025-04-17T01:01:26.504789",
     "status": "completed"
    },
    "tags": []
   },
   "outputs": [
    {
     "name": "stdout",
     "output_type": "stream",
     "text": [
      "Accuracy: 0.2876\n",
      "Classification Report:\n",
      "              precision    recall  f1-score   support\n",
      "\n",
      "           0       0.27      0.37      0.31       568\n",
      "           1       0.29      0.21      0.24       434\n",
      "           2       0.34      0.49      0.40       680\n",
      "           3       0.24      0.18      0.21       462\n",
      "           4       0.30      0.21      0.25       342\n",
      "           5       0.25      0.21      0.23       516\n",
      "           6       0.27      0.23      0.25       454\n",
      "\n",
      "    accuracy                           0.29      3456\n",
      "   macro avg       0.28      0.27      0.27      3456\n",
      "weighted avg       0.28      0.29      0.28      3456\n",
      "\n",
      "Confusion Matrix:\n",
      "[[210  55 136  42  16  65  44]\n",
      " [112  89  94  30  22  52  35]\n",
      " [114  45 331  57  26  62  45]\n",
      " [ 80  31 135  82  26  49  59]\n",
      " [ 71  23  57  46  72  31  42]\n",
      " [118  36 127  38  31 106  60]\n",
      " [ 73  29 104  40  50  54 104]]\n",
      "Precision: 0.2818\n",
      "Recall: 0.2876\n",
      "F1 Score: 0.2778\n"
     ]
    }
   ],
   "source": [
    "from sklearn.metrics import classification_report, confusion_matrix, accuracy_score, precision_score, recall_score, f1_score\n",
    "\n",
    "# Predict on the test set\n",
    "y_pred = best_model.predict(X_test)\n",
    "\n",
    "# Calculate Accuracy\n",
    "accuracy = accuracy_score(y_test, y_pred)\n",
    "print(f\"Accuracy: {accuracy:.4f}\")\n",
    "\n",
    "# Classification Report\n",
    "print(\"Classification Report:\")\n",
    "print(classification_report(y_test, y_pred))\n",
    "\n",
    "# Confusion Matrix\n",
    "conf_matrix = confusion_matrix(y_test, y_pred)\n",
    "print(\"Confusion Matrix:\")\n",
    "print(conf_matrix)\n",
    "\n",
    "# Precision, Recall, F1 Score for each class (Offense Type)\n",
    "precision = precision_score(y_test, y_pred, average='weighted')\n",
    "recall = recall_score(y_test, y_pred, average='weighted')\n",
    "f1 = f1_score(y_test, y_pred, average='weighted')\n",
    "\n",
    "print(f\"Precision: {precision:.4f}\")\n",
    "print(f\"Recall: {recall:.4f}\")\n",
    "print(f\"F1 Score: {f1:.4f}\")\n"
   ]
  },
  {
   "cell_type": "markdown",
   "id": "b3840471",
   "metadata": {
    "papermill": {
     "duration": 0.011054,
     "end_time": "2025-04-17T01:01:26.631518",
     "exception": false,
     "start_time": "2025-04-17T01:01:26.620464",
     "status": "completed"
    },
    "tags": []
   },
   "source": [
    "#### For Logistic Regression (Coefficient Interpretation)\n",
    "\n",
    "For Logistic Regression, the model coefficients can help us understand how each feature affects the likelihood of an offense happening. A positive coefficient indicates a feature increases the likelihood of the offense, and a negative coefficient indicates the opposite."
   ]
  },
  {
   "cell_type": "code",
   "execution_count": 25,
   "id": "45fb68dd",
   "metadata": {
    "execution": {
     "iopub.execute_input": "2025-04-17T01:01:26.655448Z",
     "iopub.status.busy": "2025-04-17T01:01:26.654852Z",
     "iopub.status.idle": "2025-04-17T01:01:26.659894Z",
     "shell.execute_reply": "2025-04-17T01:01:26.659213Z"
    },
    "papermill": {
     "duration": 0.01815,
     "end_time": "2025-04-17T01:01:26.660912",
     "exception": false,
     "start_time": "2025-04-17T01:01:26.642762",
     "status": "completed"
    },
    "tags": []
   },
   "outputs": [],
   "source": [
    "if isinstance(best_model, LogisticRegression):\n",
    "    # Logistic regression coefficients\n",
    "    coef_df = pd.DataFrame({\n",
    "        'Feature': X.columns,\n",
    "        'Coefficient': best_model.coef_[0]\n",
    "    })\n",
    "    coef_df['AbsCoefficient'] = coef_df['Coefficient'].abs()\n",
    "    coef_df = coef_df.sort_values(by='AbsCoefficient', ascending=False)\n",
    "    \n",
    "    # Plotting the coefficients\n",
    "    plt.figure(figsize=(10, 6))\n",
    "    sns.barplot(x='AbsCoefficient', y='Feature', data=coef_df)\n",
    "    plt.title(\"Logistic Regression Coefficients Impact\")\n",
    "    plt.show()\n",
    "\n",
    "    # Print the top 5 most impactful features (by absolute coefficient value)\n",
    "    print(\"Top 5 most impactful features based on coefficients:\")\n",
    "    print(coef_df.head())\n"
   ]
  },
  {
   "cell_type": "markdown",
   "id": "749d9614",
   "metadata": {
    "papermill": {
     "duration": 0.011217,
     "end_time": "2025-04-17T01:01:26.683571",
     "exception": false,
     "start_time": "2025-04-17T01:01:26.672354",
     "status": "completed"
    },
    "tags": []
   },
   "source": [
    "Explanation of Output:\n",
    "\n",
    "Feature Importance (Random Forest/Decision Tree): The bar plot will show how important each feature is in the decision-making process. Features at the top of the list are the most influential in predicting the occurrence of offenses.\n",
    "\n",
    "Logistic Regression Coefficients: The bar plot will show the magnitude of the coefficients for each feature. Features with larger absolute values (either positive or negative) have a stronger impact on the model’s predictions. Positive coefficients increase the probability of an offense, while negative coefficients decrease it."
   ]
  },
  {
   "cell_type": "markdown",
   "id": "a3e0d762",
   "metadata": {
    "papermill": {
     "duration": 0.011349,
     "end_time": "2025-04-17T01:01:26.706326",
     "exception": false,
     "start_time": "2025-04-17T01:01:26.694977",
     "status": "completed"
    },
    "tags": []
   },
   "source": []
  }
 ],
 "metadata": {
  "kernelspec": {
   "display_name": "Python 3",
   "language": "python",
   "name": "python3"
  },
  "language_info": {
   "codemirror_mode": {
    "name": "ipython",
    "version": 3
   },
   "file_extension": ".py",
   "mimetype": "text/x-python",
   "name": "python",
   "nbconvert_exporter": "python",
   "pygments_lexer": "ipython3",
   "version": "3.9.22"
  },
  "papermill": {
   "default_parameters": {},
   "duration": 83.733415,
   "end_time": "2025-04-17T01:01:27.235469",
   "environment_variables": {},
   "exception": null,
   "input_path": "notebook/Crime Data.ipynb",
   "output_path": "notebook/Crime Data_output.ipynb",
   "parameters": {},
   "start_time": "2025-04-17T01:00:03.502054",
   "version": "2.6.0"
  }
 },
 "nbformat": 4,
 "nbformat_minor": 5
}