{
 "cells": [
  {
   "cell_type": "markdown",
   "id": "05fe2777",
   "metadata": {
    "papermill": {
     "duration": 0.004284,
     "end_time": "2025-07-27T01:15:21.965447",
     "exception": false,
     "start_time": "2025-07-27T01:15:21.961163",
     "status": "completed"
    },
    "tags": []
   },
   "source": [
    "# Charlottesville Open Data Porttal: Crime Data"
   ]
  },
  {
   "cell_type": "markdown",
   "id": "1a1ad872",
   "metadata": {
    "papermill": {
     "duration": 0.004202,
     "end_time": "2025-07-27T01:15:21.973199",
     "exception": false,
     "start_time": "2025-07-27T01:15:21.968997",
     "status": "completed"
    },
    "tags": []
   },
   "source": [
    "## Import Relevant Librarires & Set WD"
   ]
  },
  {
   "cell_type": "code",
   "execution_count": 1,
   "id": "76a98d65",
   "metadata": {
    "execution": {
     "iopub.execute_input": "2025-07-27T01:15:21.980675Z",
     "iopub.status.busy": "2025-07-27T01:15:21.980397Z",
     "iopub.status.idle": "2025-07-27T01:15:22.573620Z",
     "shell.execute_reply": "2025-07-27T01:15:22.572983Z"
    },
    "papermill": {
     "duration": 0.598476,
     "end_time": "2025-07-27T01:15:22.574901",
     "exception": false,
     "start_time": "2025-07-27T01:15:21.976425",
     "status": "completed"
    },
    "tags": []
   },
   "outputs": [],
   "source": [
    "import requests\n",
    "import pandas as pd\n",
    "import numpy as np\n",
    "import pickle\n",
    "import googlemaps\n",
    "import plotly.express as px\n",
    "from geopy.geocoders import Nominatim\n",
    "import time\n",
    "from dotenv import load_dotenv\n",
    "import os\n",
    "\n",
    "env_path = os.path.join(\"..\", \".env\")\n",
    "#print(\"Looking for .env file at:\", os.path.abspath(env_path))\n",
    "load_dotenv(dotenv_path=env_path)\n",
    "\n",
    "# Retrieve the variables\n",
    "GOOGLE_API_KEY = os.getenv(\"GOOGLE_API_KEY\")\n",
    "WORKING_DIR = os.getenv(\"WORKING_DIR\")\n",
    "\n",
    "if GOOGLE_API_KEY is None or WORKING_DIR is None:\n",
    "    raise RuntimeError(\"No configuration found. Please ensure that your .env file exists with the required variables, or create a local config.py file.\")\n",
    "\n",
    "#print(\"Google API Key:\", GOOGLE_API_KEY)\n",
    "#print(\"Working Directory:\", WORKING_DIR)"
   ]
  },
  {
   "cell_type": "markdown",
   "id": "9c895391",
   "metadata": {
    "papermill": {
     "duration": 0.003271,
     "end_time": "2025-07-27T01:15:22.581800",
     "exception": false,
     "start_time": "2025-07-27T01:15:22.578529",
     "status": "completed"
    },
    "tags": []
   },
   "source": [
    "## Import Data\n",
    "\n",
    "URL: https://opendata.charlottesville.org/datasets/charlottesville::crime-data/about"
   ]
  },
  {
   "cell_type": "code",
   "execution_count": 2,
   "id": "5ad8edfe",
   "metadata": {
    "execution": {
     "iopub.execute_input": "2025-07-27T01:15:22.589166Z",
     "iopub.status.busy": "2025-07-27T01:15:22.588906Z",
     "iopub.status.idle": "2025-07-27T01:16:31.001493Z",
     "shell.execute_reply": "2025-07-27T01:16:31.000721Z"
    },
    "papermill": {
     "duration": 68.420643,
     "end_time": "2025-07-27T01:16:31.005698",
     "exception": false,
     "start_time": "2025-07-27T01:15:22.585055",
     "status": "completed"
    },
    "tags": []
   },
   "outputs": [
    {
     "name": "stdout",
     "output_type": "stream",
     "text": [
      "Total records imported: 25583\n"
     ]
    }
   ],
   "source": [
    "# Define the endpoint and initial parameters.\n",
    "url = \"https://gisweb.charlottesville.org/arcgis/rest/services/OpenData_2/MapServer/6/query\"\n",
    "params = {\n",
    "    \"where\": \"1=1\",\n",
    "    \"outFields\": \"*\",\n",
    "    \"outSR\": 4326,\n",
    "    \"f\": \"json\",\n",
    "    \"resultOffset\": 0,       # Starting index for results\n",
    "    \"resultRecordCount\": 10000  # Maximum records per batch (if allowed by the API)\n",
    "}\n",
    "\n",
    "records = []\n",
    "\n",
    "while True:\n",
    "    response = requests.get(url, params=params)\n",
    "    response.raise_for_status()\n",
    "    data = response.json()\n",
    "    \n",
    "    # Get the current batch of features.\n",
    "    features = data.get(\"features\", [])\n",
    "    if not features:\n",
    "        break\n",
    "\n",
    "    # Extract the attributes from the features.\n",
    "    batch_records = [feature.get(\"attributes\", {}) for feature in features]\n",
    "    records.extend(batch_records)\n",
    "    \n",
    "    # If the batch size is less than the requested count, we reached the end.\n",
    "    if len(features) < params[\"resultRecordCount\"]:\n",
    "        break\n",
    "\n",
    "    # Update the resultOffset for the next batch.\n",
    "    params[\"resultOffset\"] += params[\"resultRecordCount\"]\n",
    "\n",
    "# Create a DataFrame from the combined records.\n",
    "df = pd.DataFrame(records)\n",
    "print(\"Total records imported:\", len(df))\n"
   ]
  },
  {
   "cell_type": "code",
   "execution_count": 3,
   "id": "fc42c663",
   "metadata": {
    "execution": {
     "iopub.execute_input": "2025-07-27T01:16:31.013486Z",
     "iopub.status.busy": "2025-07-27T01:16:31.013286Z",
     "iopub.status.idle": "2025-07-27T01:16:31.025146Z",
     "shell.execute_reply": "2025-07-27T01:16:31.024592Z"
    },
    "papermill": {
     "duration": 0.016983,
     "end_time": "2025-07-27T01:16:31.026170",
     "exception": false,
     "start_time": "2025-07-27T01:16:31.009187",
     "status": "completed"
    },
    "tags": []
   },
   "outputs": [
    {
     "data": {
      "text/html": [
       "<div>\n",
       "<style scoped>\n",
       "    .dataframe tbody tr th:only-of-type {\n",
       "        vertical-align: middle;\n",
       "    }\n",
       "\n",
       "    .dataframe tbody tr th {\n",
       "        vertical-align: top;\n",
       "    }\n",
       "\n",
       "    .dataframe thead th {\n",
       "        text-align: right;\n",
       "    }\n",
       "</style>\n",
       "<table border=\"1\" class=\"dataframe\">\n",
       "  <thead>\n",
       "    <tr style=\"text-align: right;\">\n",
       "      <th></th>\n",
       "      <th>RecordID</th>\n",
       "      <th>Offense</th>\n",
       "      <th>IncidentID</th>\n",
       "      <th>BlockNumber</th>\n",
       "      <th>StreetName</th>\n",
       "      <th>Agency</th>\n",
       "      <th>DateReported</th>\n",
       "      <th>HourReported</th>\n",
       "      <th>ReportingOfficer</th>\n",
       "    </tr>\n",
       "  </thead>\n",
       "  <tbody>\n",
       "    <tr>\n",
       "      <th>0</th>\n",
       "      <td>1</td>\n",
       "      <td>Vandalism</td>\n",
       "      <td>202500026131</td>\n",
       "      <td>300</td>\n",
       "      <td>VALLEY RD, A</td>\n",
       "      <td>CPD</td>\n",
       "      <td>1753408409000</td>\n",
       "      <td>2153</td>\n",
       "      <td>Reed, Danielle</td>\n",
       "    </tr>\n",
       "    <tr>\n",
       "      <th>1</th>\n",
       "      <td>2</td>\n",
       "      <td>Larceny - All Other</td>\n",
       "      <td>202500026116</td>\n",
       "      <td>300</td>\n",
       "      <td>13TH ST NW</td>\n",
       "      <td>CPD</td>\n",
       "      <td>1753402114000</td>\n",
       "      <td>2008</td>\n",
       "      <td>Rigsby, Lloyd</td>\n",
       "    </tr>\n",
       "    <tr>\n",
       "      <th>2</th>\n",
       "      <td>3</td>\n",
       "      <td>Assist Citizen - Mental/TDO/ECO</td>\n",
       "      <td>202500026111</td>\n",
       "      <td>500</td>\n",
       "      <td>HARRIS RD, 102</td>\n",
       "      <td>CPD</td>\n",
       "      <td>1753400714000</td>\n",
       "      <td>1945</td>\n",
       "      <td>Troche, Nicholas</td>\n",
       "    </tr>\n",
       "    <tr>\n",
       "      <th>3</th>\n",
       "      <td>4</td>\n",
       "      <td>Burglary</td>\n",
       "      <td>202500026107</td>\n",
       "      <td>200</td>\n",
       "      <td>RIDGE ST</td>\n",
       "      <td>CPD</td>\n",
       "      <td>1753398559000</td>\n",
       "      <td>1909</td>\n",
       "      <td>Reed, Danielle</td>\n",
       "    </tr>\n",
       "    <tr>\n",
       "      <th>4</th>\n",
       "      <td>5</td>\n",
       "      <td>Sex Offense</td>\n",
       "      <td>202500026089</td>\n",
       "      <td>1500</td>\n",
       "      <td>ANTOINETTE AVE</td>\n",
       "      <td>CPD</td>\n",
       "      <td>1753391491000</td>\n",
       "      <td>1711</td>\n",
       "      <td>Venereo, Arturo</td>\n",
       "    </tr>\n",
       "  </tbody>\n",
       "</table>\n",
       "</div>"
      ],
      "text/plain": [
       "   RecordID                          Offense    IncidentID BlockNumber  \\\n",
       "0         1                        Vandalism  202500026131         300   \n",
       "1         2              Larceny - All Other  202500026116         300   \n",
       "2         3  Assist Citizen - Mental/TDO/ECO  202500026111         500   \n",
       "3         4                         Burglary  202500026107         200   \n",
       "4         5                      Sex Offense  202500026089        1500   \n",
       "\n",
       "       StreetName Agency   DateReported HourReported  ReportingOfficer  \n",
       "0    VALLEY RD, A    CPD  1753408409000         2153    Reed, Danielle  \n",
       "1      13TH ST NW    CPD  1753402114000         2008     Rigsby, Lloyd  \n",
       "2  HARRIS RD, 102    CPD  1753400714000         1945  Troche, Nicholas  \n",
       "3        RIDGE ST    CPD  1753398559000         1909    Reed, Danielle  \n",
       "4  ANTOINETTE AVE    CPD  1753391491000         1711   Venereo, Arturo  "
      ]
     },
     "execution_count": 3,
     "metadata": {},
     "output_type": "execute_result"
    }
   ],
   "source": [
    "df.head()"
   ]
  },
  {
   "cell_type": "code",
   "execution_count": 4,
   "id": "32f82ff6",
   "metadata": {
    "execution": {
     "iopub.execute_input": "2025-07-27T01:16:31.034129Z",
     "iopub.status.busy": "2025-07-27T01:16:31.033928Z",
     "iopub.status.idle": "2025-07-27T01:16:31.038236Z",
     "shell.execute_reply": "2025-07-27T01:16:31.037685Z"
    },
    "papermill": {
     "duration": 0.009514,
     "end_time": "2025-07-27T01:16:31.039248",
     "exception": false,
     "start_time": "2025-07-27T01:16:31.029734",
     "status": "completed"
    },
    "tags": []
   },
   "outputs": [
    {
     "data": {
      "text/plain": [
       "Index(['RecordID', 'Offense', 'IncidentID', 'BlockNumber', 'StreetName',\n",
       "       'Agency', 'DateReported', 'HourReported', 'ReportingOfficer'],\n",
       "      dtype='object')"
      ]
     },
     "execution_count": 4,
     "metadata": {},
     "output_type": "execute_result"
    }
   ],
   "source": [
    "df.columns"
   ]
  },
  {
   "cell_type": "code",
   "execution_count": 5,
   "id": "c082f1c1",
   "metadata": {
    "execution": {
     "iopub.execute_input": "2025-07-27T01:16:31.047290Z",
     "iopub.status.busy": "2025-07-27T01:16:31.047096Z",
     "iopub.status.idle": "2025-07-27T01:16:31.068689Z",
     "shell.execute_reply": "2025-07-27T01:16:31.068143Z"
    },
    "papermill": {
     "duration": 0.026621,
     "end_time": "2025-07-27T01:16:31.069665",
     "exception": false,
     "start_time": "2025-07-27T01:16:31.043044",
     "status": "completed"
    },
    "tags": []
   },
   "outputs": [
    {
     "name": "stdout",
     "output_type": "stream",
     "text": [
      "<class 'pandas.core.frame.DataFrame'>\n",
      "RangeIndex: 25583 entries, 0 to 25582\n",
      "Data columns (total 9 columns):\n",
      " #   Column            Non-Null Count  Dtype \n",
      "---  ------            --------------  ----- \n",
      " 0   RecordID          25583 non-null  int64 \n",
      " 1   Offense           25583 non-null  object\n",
      " 2   IncidentID        25583 non-null  object\n",
      " 3   BlockNumber       25583 non-null  object\n",
      " 4   StreetName        25583 non-null  object\n",
      " 5   Agency            25583 non-null  object\n",
      " 6   DateReported      25583 non-null  int64 \n",
      " 7   HourReported      25583 non-null  object\n",
      " 8   ReportingOfficer  25566 non-null  object\n",
      "dtypes: int64(2), object(7)\n",
      "memory usage: 1.8+ MB\n"
     ]
    }
   ],
   "source": [
    "df.info()"
   ]
  },
  {
   "cell_type": "markdown",
   "id": "7bb01e22",
   "metadata": {
    "papermill": {
     "duration": 0.003715,
     "end_time": "2025-07-27T01:16:31.077211",
     "exception": false,
     "start_time": "2025-07-27T01:16:31.073496",
     "status": "completed"
    },
    "tags": []
   },
   "source": [
    "### Missing Values"
   ]
  },
  {
   "cell_type": "code",
   "execution_count": 6,
   "id": "126711c3",
   "metadata": {
    "execution": {
     "iopub.execute_input": "2025-07-27T01:16:31.085275Z",
     "iopub.status.busy": "2025-07-27T01:16:31.085074Z",
     "iopub.status.idle": "2025-07-27T01:16:31.103609Z",
     "shell.execute_reply": "2025-07-27T01:16:31.102948Z"
    },
    "papermill": {
     "duration": 0.023745,
     "end_time": "2025-07-27T01:16:31.104637",
     "exception": false,
     "start_time": "2025-07-27T01:16:31.080892",
     "status": "completed"
    },
    "tags": []
   },
   "outputs": [
    {
     "name": "stdout",
     "output_type": "stream",
     "text": [
      "                  MissingCount  MissingPercentage\n",
      "RecordID                     0               0.00\n",
      "Offense                      0               0.00\n",
      "IncidentID                   0               0.00\n",
      "BlockNumber                  0               0.00\n",
      "StreetName                   0               0.00\n",
      "Agency                       0               0.00\n",
      "DateReported                 0               0.00\n",
      "HourReported                 0               0.00\n",
      "ReportingOfficer            17               0.07\n"
     ]
    }
   ],
   "source": [
    "def missing_percentage(df):\n",
    "    \"\"\"\n",
    "    Returns a DataFrame with the count and percentage of missing values for each column.\n",
    "    \n",
    "    Parameters:\n",
    "        df (pd.DataFrame): The input DataFrame.\n",
    "    \n",
    "    Returns:\n",
    "        pd.DataFrame: A DataFrame with columns 'MissingCount' and 'MissingPercentage'.\n",
    "    \"\"\"\n",
    "    total_rows = len(df)\n",
    "    missing_count = df.isnull().sum()\n",
    "    missing_percent = (missing_count / total_rows) * 100\n",
    "    \n",
    "    result = pd.DataFrame({\n",
    "        'MissingCount': missing_count,\n",
    "        'MissingPercentage': missing_percent.round(2)\n",
    "    })\n",
    "    \n",
    "    return result\n",
    "\n",
    "# Example usage:\n",
    "missing_info = missing_percentage(df)\n",
    "print(missing_info)\n"
   ]
  },
  {
   "cell_type": "markdown",
   "id": "1c63c650",
   "metadata": {
    "papermill": {
     "duration": 0.003769,
     "end_time": "2025-07-27T01:16:31.112399",
     "exception": false,
     "start_time": "2025-07-27T01:16:31.108630",
     "status": "completed"
    },
    "tags": []
   },
   "source": [
    "## Data Preparation"
   ]
  },
  {
   "cell_type": "markdown",
   "id": "32303e64",
   "metadata": {
    "papermill": {
     "duration": 0.003797,
     "end_time": "2025-07-27T01:16:31.120109",
     "exception": false,
     "start_time": "2025-07-27T01:16:31.116312",
     "status": "completed"
    },
    "tags": []
   },
   "source": [
    "### Data Conversion"
   ]
  },
  {
   "cell_type": "code",
   "execution_count": 7,
   "id": "e9d6a971",
   "metadata": {
    "execution": {
     "iopub.execute_input": "2025-07-27T01:16:31.128628Z",
     "iopub.status.busy": "2025-07-27T01:16:31.128438Z",
     "iopub.status.idle": "2025-07-27T01:16:31.485514Z",
     "shell.execute_reply": "2025-07-27T01:16:31.484932Z"
    },
    "papermill": {
     "duration": 0.362497,
     "end_time": "2025-07-27T01:16:31.486535",
     "exception": false,
     "start_time": "2025-07-27T01:16:31.124038",
     "status": "completed"
    },
    "tags": []
   },
   "outputs": [
    {
     "data": {
      "text/html": [
       "<div>\n",
       "<style scoped>\n",
       "    .dataframe tbody tr th:only-of-type {\n",
       "        vertical-align: middle;\n",
       "    }\n",
       "\n",
       "    .dataframe tbody tr th {\n",
       "        vertical-align: top;\n",
       "    }\n",
       "\n",
       "    .dataframe thead th {\n",
       "        text-align: right;\n",
       "    }\n",
       "</style>\n",
       "<table border=\"1\" class=\"dataframe\">\n",
       "  <thead>\n",
       "    <tr style=\"text-align: right;\">\n",
       "      <th></th>\n",
       "      <th>RecordID</th>\n",
       "      <th>Offense</th>\n",
       "      <th>IncidentID</th>\n",
       "      <th>BlockNumber</th>\n",
       "      <th>StreetName</th>\n",
       "      <th>Agency</th>\n",
       "      <th>HourReported</th>\n",
       "      <th>ReportingOfficer</th>\n",
       "      <th>Date</th>\n",
       "      <th>DateString</th>\n",
       "      <th>DayOfWeek</th>\n",
       "      <th>Weekend</th>\n",
       "      <th>Season</th>\n",
       "      <th>HourAMPM</th>\n",
       "      <th>TimeOfDay</th>\n",
       "    </tr>\n",
       "  </thead>\n",
       "  <tbody>\n",
       "    <tr>\n",
       "      <th>0</th>\n",
       "      <td>1</td>\n",
       "      <td>Vandalism</td>\n",
       "      <td>202500026131</td>\n",
       "      <td>300</td>\n",
       "      <td>VALLEY RD, A</td>\n",
       "      <td>CPD</td>\n",
       "      <td>2153</td>\n",
       "      <td>Reed, Danielle</td>\n",
       "      <td>2025-07-24 21:53:29</td>\n",
       "      <td>2025-07-24 09:53:29 PM</td>\n",
       "      <td>Thursday</td>\n",
       "      <td>False</td>\n",
       "      <td>Summer</td>\n",
       "      <td>09:53 PM</td>\n",
       "      <td>Night</td>\n",
       "    </tr>\n",
       "    <tr>\n",
       "      <th>1</th>\n",
       "      <td>2</td>\n",
       "      <td>Larceny - All Other</td>\n",
       "      <td>202500026116</td>\n",
       "      <td>300</td>\n",
       "      <td>13TH ST NW</td>\n",
       "      <td>CPD</td>\n",
       "      <td>2008</td>\n",
       "      <td>Rigsby, Lloyd</td>\n",
       "      <td>2025-07-24 20:08:34</td>\n",
       "      <td>2025-07-24 08:08:34 PM</td>\n",
       "      <td>Thursday</td>\n",
       "      <td>False</td>\n",
       "      <td>Summer</td>\n",
       "      <td>08:08 PM</td>\n",
       "      <td>Evening</td>\n",
       "    </tr>\n",
       "    <tr>\n",
       "      <th>2</th>\n",
       "      <td>3</td>\n",
       "      <td>Assist Citizen - Mental/TDO/ECO</td>\n",
       "      <td>202500026111</td>\n",
       "      <td>500</td>\n",
       "      <td>HARRIS RD, 102</td>\n",
       "      <td>CPD</td>\n",
       "      <td>1945</td>\n",
       "      <td>Troche, Nicholas</td>\n",
       "      <td>2025-07-24 19:45:14</td>\n",
       "      <td>2025-07-24 07:45:14 PM</td>\n",
       "      <td>Thursday</td>\n",
       "      <td>False</td>\n",
       "      <td>Summer</td>\n",
       "      <td>07:45 PM</td>\n",
       "      <td>Evening</td>\n",
       "    </tr>\n",
       "    <tr>\n",
       "      <th>3</th>\n",
       "      <td>4</td>\n",
       "      <td>Burglary</td>\n",
       "      <td>202500026107</td>\n",
       "      <td>200</td>\n",
       "      <td>RIDGE ST</td>\n",
       "      <td>CPD</td>\n",
       "      <td>1909</td>\n",
       "      <td>Reed, Danielle</td>\n",
       "      <td>2025-07-24 19:09:19</td>\n",
       "      <td>2025-07-24 07:09:19 PM</td>\n",
       "      <td>Thursday</td>\n",
       "      <td>False</td>\n",
       "      <td>Summer</td>\n",
       "      <td>07:09 PM</td>\n",
       "      <td>Evening</td>\n",
       "    </tr>\n",
       "    <tr>\n",
       "      <th>4</th>\n",
       "      <td>5</td>\n",
       "      <td>Sex Offense</td>\n",
       "      <td>202500026089</td>\n",
       "      <td>1500</td>\n",
       "      <td>ANTOINETTE AVE</td>\n",
       "      <td>CPD</td>\n",
       "      <td>1711</td>\n",
       "      <td>Venereo, Arturo</td>\n",
       "      <td>2025-07-24 17:11:31</td>\n",
       "      <td>2025-07-24 05:11:31 PM</td>\n",
       "      <td>Thursday</td>\n",
       "      <td>False</td>\n",
       "      <td>Summer</td>\n",
       "      <td>05:11 PM</td>\n",
       "      <td>Evening</td>\n",
       "    </tr>\n",
       "  </tbody>\n",
       "</table>\n",
       "</div>"
      ],
      "text/plain": [
       "   RecordID                          Offense    IncidentID BlockNumber  \\\n",
       "0         1                        Vandalism  202500026131         300   \n",
       "1         2              Larceny - All Other  202500026116         300   \n",
       "2         3  Assist Citizen - Mental/TDO/ECO  202500026111         500   \n",
       "3         4                         Burglary  202500026107         200   \n",
       "4         5                      Sex Offense  202500026089        1500   \n",
       "\n",
       "       StreetName Agency HourReported  ReportingOfficer                Date  \\\n",
       "0    VALLEY RD, A    CPD         2153    Reed, Danielle 2025-07-24 21:53:29   \n",
       "1      13TH ST NW    CPD         2008     Rigsby, Lloyd 2025-07-24 20:08:34   \n",
       "2  HARRIS RD, 102    CPD         1945  Troche, Nicholas 2025-07-24 19:45:14   \n",
       "3        RIDGE ST    CPD         1909    Reed, Danielle 2025-07-24 19:09:19   \n",
       "4  ANTOINETTE AVE    CPD         1711   Venereo, Arturo 2025-07-24 17:11:31   \n",
       "\n",
       "               DateString DayOfWeek  Weekend  Season  HourAMPM TimeOfDay  \n",
       "0  2025-07-24 09:53:29 PM  Thursday    False  Summer  09:53 PM     Night  \n",
       "1  2025-07-24 08:08:34 PM  Thursday    False  Summer  08:08 PM   Evening  \n",
       "2  2025-07-24 07:45:14 PM  Thursday    False  Summer  07:45 PM   Evening  \n",
       "3  2025-07-24 07:09:19 PM  Thursday    False  Summer  07:09 PM   Evening  \n",
       "4  2025-07-24 05:11:31 PM  Thursday    False  Summer  05:11 PM   Evening  "
      ]
     },
     "execution_count": 7,
     "metadata": {},
     "output_type": "execute_result"
    }
   ],
   "source": [
    "def convert_and_categorize_datereported(df, col='DateReported'):\n",
    "    \"\"\"\n",
    "    Converts an epoch (in milliseconds) date column into a timezone-aware datetime,\n",
    "    converts it to Eastern Time, and then creates columns for day-of-week, weekend flag,\n",
    "    season, 12-hour formatted time, and time-of-day. Keeps both a real datetime column\n",
    "    (Date) and a string representation (DateString).\n",
    "    \"\"\"\n",
    "    import pandas as pd\n",
    "\n",
    "    # Convert the epoch timestamp to a pandas datetime object as UTC, then convert to US/Eastern.\n",
    "    df[\"DateReported_dt\"] = (\n",
    "        pd.to_datetime(df[col], unit=\"ms\", errors=\"coerce\", utc=True)\n",
    "        .dt.tz_convert(\"US/Eastern\")\n",
    "    )\n",
    "    \n",
    "    # Create a true datetime column (remove timezone if you prefer naive datetime)\n",
    "    df[\"Date\"] = df[\"DateReported_dt\"].dt.tz_localize(None)\n",
    "\n",
    "    # Optionally, create a separate string-formatted column\n",
    "    df[\"DateString\"] = df[\"DateReported_dt\"].dt.strftime(\"%Y-%m-%d %I:%M:%S %p\")\n",
    "    \n",
    "    # DayOfWeek\n",
    "    df[\"DayOfWeek\"] = df[\"DateReported_dt\"].dt.day_name()\n",
    "    \n",
    "    # Weekend\n",
    "    df[\"Weekend\"] = df[\"DayOfWeek\"].isin([\"Saturday\", \"Sunday\"])\n",
    "    \n",
    "    # Helper function to determine the season\n",
    "    def get_season(dt):\n",
    "        month = dt.month\n",
    "        day = dt.day\n",
    "        # Approximate Northern Hemisphere season boundaries:\n",
    "        if (month == 12 and day >= 21) or (month < 3) or (month == 3 and day < 20):\n",
    "            return \"Winter\"\n",
    "        elif (month == 3 and day >= 20) or (month < 6) or (month == 6 and day < 21):\n",
    "            return \"Spring\"\n",
    "        elif (month == 6 and day >= 21) or (month < 9) or (month == 9 and day < 22):\n",
    "            return \"Summer\"\n",
    "        else:\n",
    "            return \"Autumn\"\n",
    "    \n",
    "    df[\"Season\"] = df[\"DateReported_dt\"].apply(get_season)\n",
    "    \n",
    "    # 12-hour formatted time (HourAMPM)\n",
    "    df[\"HourAMPM\"] = df[\"DateReported_dt\"].dt.strftime(\"%I:%M %p\")\n",
    "    \n",
    "    # Extract hour (0-23) for time-of-day\n",
    "    df[\"HourValue\"] = df[\"DateReported_dt\"].dt.hour\n",
    "    \n",
    "    def time_of_day(hour):\n",
    "        if pd.isnull(hour):\n",
    "            return None\n",
    "        if 5 <= hour < 12:\n",
    "            return \"Morning\"\n",
    "        elif 12 <= hour < 17:\n",
    "            return \"Afternoon\"\n",
    "        elif 17 <= hour < 21:\n",
    "            return \"Evening\"\n",
    "        else:\n",
    "            return \"Night\"\n",
    "    \n",
    "    df[\"TimeOfDay\"] = df[\"HourValue\"].apply(time_of_day)\n",
    "    \n",
    "    # Drop columns you no longer need\n",
    "    df.drop(columns=[col, \"DateReported_dt\", \"HourValue\"], inplace=True)\n",
    "    \n",
    "    return df\n",
    "\n",
    "# Example usage:\n",
    "df = convert_and_categorize_datereported(df)\n",
    "df.head()\n"
   ]
  },
  {
   "cell_type": "code",
   "execution_count": 8,
   "id": "7e16d5b3",
   "metadata": {
    "execution": {
     "iopub.execute_input": "2025-07-27T01:16:31.495602Z",
     "iopub.status.busy": "2025-07-27T01:16:31.495378Z",
     "iopub.status.idle": "2025-07-27T01:16:31.520224Z",
     "shell.execute_reply": "2025-07-27T01:16:31.519651Z"
    },
    "papermill": {
     "duration": 0.03038,
     "end_time": "2025-07-27T01:16:31.521223",
     "exception": false,
     "start_time": "2025-07-27T01:16:31.490843",
     "status": "completed"
    },
    "tags": []
   },
   "outputs": [
    {
     "name": "stdout",
     "output_type": "stream",
     "text": [
      "<class 'pandas.core.frame.DataFrame'>\n",
      "RangeIndex: 25583 entries, 0 to 25582\n",
      "Data columns (total 15 columns):\n",
      " #   Column            Non-Null Count  Dtype         \n",
      "---  ------            --------------  -----         \n",
      " 0   RecordID          25583 non-null  int64         \n",
      " 1   Offense           25583 non-null  object        \n",
      " 2   IncidentID        25583 non-null  object        \n",
      " 3   BlockNumber       25583 non-null  object        \n",
      " 4   StreetName        25583 non-null  object        \n",
      " 5   Agency            25583 non-null  object        \n",
      " 6   HourReported      25583 non-null  object        \n",
      " 7   ReportingOfficer  25566 non-null  object        \n",
      " 8   Date              25583 non-null  datetime64[ns]\n",
      " 9   DateString        25583 non-null  object        \n",
      " 10  DayOfWeek         25583 non-null  object        \n",
      " 11  Weekend           25583 non-null  bool          \n",
      " 12  Season            25583 non-null  object        \n",
      " 13  HourAMPM          25583 non-null  object        \n",
      " 14  TimeOfDay         25583 non-null  object        \n",
      "dtypes: bool(1), datetime64[ns](1), int64(1), object(12)\n",
      "memory usage: 2.8+ MB\n"
     ]
    }
   ],
   "source": [
    "df.info()"
   ]
  },
  {
   "cell_type": "markdown",
   "id": "db61345a",
   "metadata": {
    "papermill": {
     "duration": 0.004055,
     "end_time": "2025-07-27T01:16:31.529729",
     "exception": false,
     "start_time": "2025-07-27T01:16:31.525674",
     "status": "completed"
    },
    "tags": []
   },
   "source": [
    "### Coordinates"
   ]
  },
  {
   "cell_type": "code",
   "execution_count": 9,
   "id": "2258acff",
   "metadata": {
    "execution": {
     "iopub.execute_input": "2025-07-27T01:16:31.538589Z",
     "iopub.status.busy": "2025-07-27T01:16:31.538367Z",
     "iopub.status.idle": "2025-07-27T01:16:31.656782Z",
     "shell.execute_reply": "2025-07-27T01:16:31.656167Z"
    },
    "papermill": {
     "duration": 0.124047,
     "end_time": "2025-07-27T01:16:31.657817",
     "exception": false,
     "start_time": "2025-07-27T01:16:31.533770",
     "status": "completed"
    },
    "tags": []
   },
   "outputs": [
    {
     "name": "stdout",
     "output_type": "stream",
     "text": [
      "Loaded geocode cache.\n",
      "Error geocoding 800 W MAIN ST, 406: REQUEST_DENIED (You must enable Billing on the Google Cloud Project at https://console.cloud.google.com/project/_/billing/enable Learn more at https://developers.google.com/maps/gmp-get-started)\n",
      "Geocoded 800 W MAIN ST, 406: None, None\n",
      "Geocode cache updated and saved.\n"
     ]
    },
    {
     "data": {
      "text/html": [
       "<div>\n",
       "<style scoped>\n",
       "    .dataframe tbody tr th:only-of-type {\n",
       "        vertical-align: middle;\n",
       "    }\n",
       "\n",
       "    .dataframe tbody tr th {\n",
       "        vertical-align: top;\n",
       "    }\n",
       "\n",
       "    .dataframe thead th {\n",
       "        text-align: right;\n",
       "    }\n",
       "</style>\n",
       "<table border=\"1\" class=\"dataframe\">\n",
       "  <thead>\n",
       "    <tr style=\"text-align: right;\">\n",
       "      <th></th>\n",
       "      <th>RecordID</th>\n",
       "      <th>Offense</th>\n",
       "      <th>IncidentID</th>\n",
       "      <th>BlockNumber</th>\n",
       "      <th>StreetName</th>\n",
       "      <th>Agency</th>\n",
       "      <th>HourReported</th>\n",
       "      <th>ReportingOfficer</th>\n",
       "      <th>Date</th>\n",
       "      <th>DateString</th>\n",
       "      <th>DayOfWeek</th>\n",
       "      <th>Weekend</th>\n",
       "      <th>Season</th>\n",
       "      <th>HourAMPM</th>\n",
       "      <th>TimeOfDay</th>\n",
       "      <th>FullStreet</th>\n",
       "      <th>lat</th>\n",
       "      <th>lon</th>\n",
       "    </tr>\n",
       "  </thead>\n",
       "  <tbody>\n",
       "    <tr>\n",
       "      <th>0</th>\n",
       "      <td>1</td>\n",
       "      <td>Vandalism</td>\n",
       "      <td>202500026131</td>\n",
       "      <td>300</td>\n",
       "      <td>VALLEY RD, A</td>\n",
       "      <td>CPD</td>\n",
       "      <td>2153</td>\n",
       "      <td>Reed, Danielle</td>\n",
       "      <td>2025-07-24 21:53:29</td>\n",
       "      <td>2025-07-24 09:53:29 PM</td>\n",
       "      <td>Thursday</td>\n",
       "      <td>False</td>\n",
       "      <td>Summer</td>\n",
       "      <td>09:53 PM</td>\n",
       "      <td>Night</td>\n",
       "      <td>300 VALLEY RD, A</td>\n",
       "      <td>38.030818</td>\n",
       "      <td>-78.505274</td>\n",
       "    </tr>\n",
       "    <tr>\n",
       "      <th>1</th>\n",
       "      <td>2</td>\n",
       "      <td>Larceny - All Other</td>\n",
       "      <td>202500026116</td>\n",
       "      <td>300</td>\n",
       "      <td>13TH ST NW</td>\n",
       "      <td>CPD</td>\n",
       "      <td>2008</td>\n",
       "      <td>Rigsby, Lloyd</td>\n",
       "      <td>2025-07-24 20:08:34</td>\n",
       "      <td>2025-07-24 08:08:34 PM</td>\n",
       "      <td>Thursday</td>\n",
       "      <td>False</td>\n",
       "      <td>Summer</td>\n",
       "      <td>08:08 PM</td>\n",
       "      <td>Evening</td>\n",
       "      <td>300 13TH ST NW</td>\n",
       "      <td>38.035911</td>\n",
       "      <td>-78.497320</td>\n",
       "    </tr>\n",
       "    <tr>\n",
       "      <th>2</th>\n",
       "      <td>3</td>\n",
       "      <td>Assist Citizen - Mental/TDO/ECO</td>\n",
       "      <td>202500026111</td>\n",
       "      <td>500</td>\n",
       "      <td>HARRIS RD, 102</td>\n",
       "      <td>CPD</td>\n",
       "      <td>1945</td>\n",
       "      <td>Troche, Nicholas</td>\n",
       "      <td>2025-07-24 19:45:14</td>\n",
       "      <td>2025-07-24 07:45:14 PM</td>\n",
       "      <td>Thursday</td>\n",
       "      <td>False</td>\n",
       "      <td>Summer</td>\n",
       "      <td>07:45 PM</td>\n",
       "      <td>Evening</td>\n",
       "      <td>500 HARRIS RD, 102</td>\n",
       "      <td>38.015099</td>\n",
       "      <td>-78.503687</td>\n",
       "    </tr>\n",
       "    <tr>\n",
       "      <th>3</th>\n",
       "      <td>4</td>\n",
       "      <td>Burglary</td>\n",
       "      <td>202500026107</td>\n",
       "      <td>200</td>\n",
       "      <td>RIDGE ST</td>\n",
       "      <td>CPD</td>\n",
       "      <td>1909</td>\n",
       "      <td>Reed, Danielle</td>\n",
       "      <td>2025-07-24 19:09:19</td>\n",
       "      <td>2025-07-24 07:09:19 PM</td>\n",
       "      <td>Thursday</td>\n",
       "      <td>False</td>\n",
       "      <td>Summer</td>\n",
       "      <td>07:09 PM</td>\n",
       "      <td>Evening</td>\n",
       "      <td>200 RIDGE ST</td>\n",
       "      <td>38.029522</td>\n",
       "      <td>-78.485560</td>\n",
       "    </tr>\n",
       "    <tr>\n",
       "      <th>4</th>\n",
       "      <td>5</td>\n",
       "      <td>Sex Offense</td>\n",
       "      <td>202500026089</td>\n",
       "      <td>1500</td>\n",
       "      <td>ANTOINETTE AVE</td>\n",
       "      <td>CPD</td>\n",
       "      <td>1711</td>\n",
       "      <td>Venereo, Arturo</td>\n",
       "      <td>2025-07-24 17:11:31</td>\n",
       "      <td>2025-07-24 05:11:31 PM</td>\n",
       "      <td>Thursday</td>\n",
       "      <td>False</td>\n",
       "      <td>Summer</td>\n",
       "      <td>05:11 PM</td>\n",
       "      <td>Evening</td>\n",
       "      <td>1500 ANTOINETTE AVE</td>\n",
       "      <td>38.020606</td>\n",
       "      <td>-78.499495</td>\n",
       "    </tr>\n",
       "  </tbody>\n",
       "</table>\n",
       "</div>"
      ],
      "text/plain": [
       "   RecordID                          Offense    IncidentID BlockNumber  \\\n",
       "0         1                        Vandalism  202500026131         300   \n",
       "1         2              Larceny - All Other  202500026116         300   \n",
       "2         3  Assist Citizen - Mental/TDO/ECO  202500026111         500   \n",
       "3         4                         Burglary  202500026107         200   \n",
       "4         5                      Sex Offense  202500026089        1500   \n",
       "\n",
       "       StreetName Agency HourReported  ReportingOfficer                Date  \\\n",
       "0    VALLEY RD, A    CPD         2153    Reed, Danielle 2025-07-24 21:53:29   \n",
       "1      13TH ST NW    CPD         2008     Rigsby, Lloyd 2025-07-24 20:08:34   \n",
       "2  HARRIS RD, 102    CPD         1945  Troche, Nicholas 2025-07-24 19:45:14   \n",
       "3        RIDGE ST    CPD         1909    Reed, Danielle 2025-07-24 19:09:19   \n",
       "4  ANTOINETTE AVE    CPD         1711   Venereo, Arturo 2025-07-24 17:11:31   \n",
       "\n",
       "               DateString DayOfWeek  Weekend  Season  HourAMPM TimeOfDay  \\\n",
       "0  2025-07-24 09:53:29 PM  Thursday    False  Summer  09:53 PM     Night   \n",
       "1  2025-07-24 08:08:34 PM  Thursday    False  Summer  08:08 PM   Evening   \n",
       "2  2025-07-24 07:45:14 PM  Thursday    False  Summer  07:45 PM   Evening   \n",
       "3  2025-07-24 07:09:19 PM  Thursday    False  Summer  07:09 PM   Evening   \n",
       "4  2025-07-24 05:11:31 PM  Thursday    False  Summer  05:11 PM   Evening   \n",
       "\n",
       "            FullStreet        lat        lon  \n",
       "0     300 VALLEY RD, A  38.030818 -78.505274  \n",
       "1       300 13TH ST NW  38.035911 -78.497320  \n",
       "2   500 HARRIS RD, 102  38.015099 -78.503687  \n",
       "3         200 RIDGE ST  38.029522 -78.485560  \n",
       "4  1500 ANTOINETTE AVE  38.020606 -78.499495  "
      ]
     },
     "execution_count": 9,
     "metadata": {},
     "output_type": "execute_result"
    }
   ],
   "source": [
    "# Combine BlockNumber and StreetName into a full address string\n",
    "df['FullStreet'] = df['BlockNumber'].astype(str) + \" \" + df['StreetName']\n",
    "\n",
    "# --- Step 1: Setup the Google Maps Client and Cache ---\n",
    "gmaps = googlemaps.Client(key=GOOGLE_API_KEY)\n",
    "\n",
    "# Try to load cached geocoding results if available.\n",
    "try:\n",
    "    with open(\"geocode_cache_google.pkl\", \"rb\") as f:\n",
    "        street_coords = pickle.load(f)\n",
    "    print(\"Loaded geocode cache.\")\n",
    "except FileNotFoundError:\n",
    "    street_coords = {}\n",
    "    print(\"No cache found; starting fresh.\")\n",
    "\n",
    "def geocode_address(address):\n",
    "    try:\n",
    "        # Append city and state to help geocoding\n",
    "        result = gmaps.geocode(f\"{address}, Charlottesville, VA\")\n",
    "        if result:\n",
    "            lat = result[0]['geometry']['location']['lat']\n",
    "            lon = result[0]['geometry']['location']['lng']\n",
    "            return lat, lon\n",
    "    except Exception as e:\n",
    "        print(f\"Error geocoding {address}: {e}\")\n",
    "    return None, None\n",
    "\n",
    "# --- Step 2: Geocode Only New Addresses ---\n",
    "unique_addresses = df['FullStreet'].unique()\n",
    "for address in unique_addresses:\n",
    "    if address not in street_coords:\n",
    "        lat, lon = geocode_address(address)\n",
    "        street_coords[address] = (lat, lon)\n",
    "        print(f\"Geocoded {address}: {lat}, {lon}\")\n",
    "\n",
    "# Save the updated cache to disk.\n",
    "with open(\"geocode_cache_google.pkl\", \"wb\") as f:\n",
    "    pickle.dump(street_coords, f)\n",
    "    print(\"Geocode cache updated and saved.\")\n",
    "\n",
    "# --- Step 3: Map Coordinates Back to DataFrame ---\n",
    "df['lat'] = df['FullStreet'].map(lambda s: street_coords.get(s, (None, None))[0])\n",
    "df['lon'] = df['FullStreet'].map(lambda s: street_coords.get(s, (None, None))[1])\n",
    "\n",
    "df.head()"
   ]
  },
  {
   "cell_type": "markdown",
   "id": "4ed7f461",
   "metadata": {
    "papermill": {
     "duration": 0.004355,
     "end_time": "2025-07-27T01:16:31.666934",
     "exception": false,
     "start_time": "2025-07-27T01:16:31.662579",
     "status": "completed"
    },
    "tags": []
   },
   "source": [
    "### Neighborhood"
   ]
  },
  {
   "cell_type": "code",
   "execution_count": 10,
   "id": "13f1ae81",
   "metadata": {
    "execution": {
     "iopub.execute_input": "2025-07-27T01:16:31.676447Z",
     "iopub.status.busy": "2025-07-27T01:16:31.676251Z",
     "iopub.status.idle": "2025-07-27T01:16:33.697718Z",
     "shell.execute_reply": "2025-07-27T01:16:33.697144Z"
    },
    "papermill": {
     "duration": 2.027489,
     "end_time": "2025-07-27T01:16:33.698776",
     "exception": false,
     "start_time": "2025-07-27T01:16:31.671287",
     "status": "completed"
    },
    "tags": []
   },
   "outputs": [
    {
     "name": "stdout",
     "output_type": "stream",
     "text": [
      "Loaded neighborhood cache.\n"
     ]
    },
    {
     "name": "stdout",
     "output_type": "stream",
     "text": [
      "Error getting neighborhood for nan, nan: HTTP Error: 400\n",
      "Error getting neighborhood for nan, nan: HTTP Error: 400\n",
      "Error getting neighborhood for nan, nan: HTTP Error: 400\n",
      "Error getting neighborhood for nan, nan: HTTP Error: 400\n"
     ]
    },
    {
     "name": "stdout",
     "output_type": "stream",
     "text": [
      "Error getting neighborhood for nan, nan: HTTP Error: 400\n",
      "Error getting neighborhood for nan, nan: HTTP Error: 400\n",
      "Error getting neighborhood for nan, nan: HTTP Error: 400\n"
     ]
    },
    {
     "name": "stdout",
     "output_type": "stream",
     "text": [
      "Error getting neighborhood for nan, nan: HTTP Error: 400\n",
      "Error getting neighborhood for nan, nan: HTTP Error: 400\n",
      "Error getting neighborhood for nan, nan: HTTP Error: 400\n",
      "Error getting neighborhood for nan, nan: HTTP Error: 400\n",
      "Error getting neighborhood for nan, nan: HTTP Error: 400\n"
     ]
    },
    {
     "name": "stdout",
     "output_type": "stream",
     "text": [
      "Error getting neighborhood for nan, nan: HTTP Error: 400\n",
      "Error getting neighborhood for nan, nan: HTTP Error: 400\n",
      "Error getting neighborhood for nan, nan: HTTP Error: 400\n",
      "Error getting neighborhood for nan, nan: HTTP Error: 400\n"
     ]
    },
    {
     "name": "stdout",
     "output_type": "stream",
     "text": [
      "Error getting neighborhood for nan, nan: HTTP Error: 400\n",
      "Error getting neighborhood for nan, nan: HTTP Error: 400\n",
      "Error getting neighborhood for nan, nan: HTTP Error: 400\n",
      "Error getting neighborhood for nan, nan: HTTP Error: 400\n",
      "Error getting neighborhood for nan, nan: HTTP Error: 400\n"
     ]
    },
    {
     "name": "stdout",
     "output_type": "stream",
     "text": [
      "Error getting neighborhood for nan, nan: HTTP Error: 400\n",
      "Error getting neighborhood for nan, nan: HTTP Error: 400\n",
      "Error getting neighborhood for nan, nan: HTTP Error: 400\n",
      "Error getting neighborhood for nan, nan: HTTP Error: 400\n"
     ]
    },
    {
     "name": "stdout",
     "output_type": "stream",
     "text": [
      "Error getting neighborhood for nan, nan: HTTP Error: 400\n",
      "Error getting neighborhood for nan, nan: HTTP Error: 400\n",
      "Error getting neighborhood for nan, nan: HTTP Error: 400\n",
      "Error getting neighborhood for nan, nan: HTTP Error: 400\n",
      "Error getting neighborhood for nan, nan: HTTP Error: 400\n"
     ]
    },
    {
     "name": "stdout",
     "output_type": "stream",
     "text": [
      "Error getting neighborhood for nan, nan: HTTP Error: 400\n",
      "Error getting neighborhood for nan, nan: HTTP Error: 400\n",
      "Error getting neighborhood for nan, nan: HTTP Error: 400\n",
      "Error getting neighborhood for nan, nan: HTTP Error: 400\n"
     ]
    },
    {
     "name": "stdout",
     "output_type": "stream",
     "text": [
      "Error getting neighborhood for nan, nan: HTTP Error: 400\n",
      "Error getting neighborhood for nan, nan: HTTP Error: 400\n",
      "Error getting neighborhood for nan, nan: HTTP Error: 400\n",
      "Error getting neighborhood for nan, nan: HTTP Error: 400\n",
      "Error getting neighborhood for nan, nan: HTTP Error: 400\n"
     ]
    },
    {
     "name": "stdout",
     "output_type": "stream",
     "text": [
      "Error getting neighborhood for nan, nan: HTTP Error: 400\n",
      "Error getting neighborhood for nan, nan: HTTP Error: 400\n",
      "Error getting neighborhood for nan, nan: HTTP Error: 400\n",
      "Error getting neighborhood for nan, nan: HTTP Error: 400\n"
     ]
    },
    {
     "name": "stdout",
     "output_type": "stream",
     "text": [
      "Error getting neighborhood for nan, nan: HTTP Error: 400\n",
      "Error getting neighborhood for nan, nan: HTTP Error: 400\n",
      "Error getting neighborhood for nan, nan: HTTP Error: 400\n",
      "Error getting neighborhood for nan, nan: HTTP Error: 400\n",
      "Error getting neighborhood for nan, nan: HTTP Error: 400\n"
     ]
    },
    {
     "name": "stdout",
     "output_type": "stream",
     "text": [
      "Error getting neighborhood for nan, nan: HTTP Error: 400\n",
      "Error getting neighborhood for nan, nan: HTTP Error: 400\n",
      "Error getting neighborhood for nan, nan: HTTP Error: 400\n",
      "Error getting neighborhood for nan, nan: HTTP Error: 400\n"
     ]
    },
    {
     "name": "stdout",
     "output_type": "stream",
     "text": [
      "Error getting neighborhood for nan, nan: HTTP Error: 400\n",
      "Error getting neighborhood for nan, nan: HTTP Error: 400\n",
      "Error getting neighborhood for nan, nan: HTTP Error: 400\n",
      "Error getting neighborhood for nan, nan: HTTP Error: 400\n",
      "Error getting neighborhood for nan, nan: HTTP Error: 400\n"
     ]
    },
    {
     "name": "stdout",
     "output_type": "stream",
     "text": [
      "Error getting neighborhood for nan, nan: HTTP Error: 400\n",
      "Error getting neighborhood for nan, nan: HTTP Error: 400\n",
      "Error getting neighborhood for nan, nan: HTTP Error: 400\n",
      "Error getting neighborhood for nan, nan: HTTP Error: 400\n"
     ]
    },
    {
     "name": "stdout",
     "output_type": "stream",
     "text": [
      "Error getting neighborhood for nan, nan: HTTP Error: 400\n",
      "Error getting neighborhood for nan, nan: HTTP Error: 400\n",
      "Error getting neighborhood for nan, nan: HTTP Error: 400\n",
      "Error getting neighborhood for nan, nan: HTTP Error: 400\n",
      "Error getting neighborhood for nan, nan: HTTP Error: 400\n"
     ]
    },
    {
     "name": "stdout",
     "output_type": "stream",
     "text": [
      "Error getting neighborhood for nan, nan: HTTP Error: 400\n",
      "Error getting neighborhood for nan, nan: HTTP Error: 400\n",
      "Error getting neighborhood for nan, nan: HTTP Error: 400\n",
      "Error getting neighborhood for nan, nan: HTTP Error: 400\n"
     ]
    },
    {
     "name": "stdout",
     "output_type": "stream",
     "text": [
      "Error getting neighborhood for nan, nan: HTTP Error: 400\n",
      "Error getting neighborhood for nan, nan: HTTP Error: 400\n"
     ]
    },
    {
     "data": {
      "text/html": [
       "<div>\n",
       "<style scoped>\n",
       "    .dataframe tbody tr th:only-of-type {\n",
       "        vertical-align: middle;\n",
       "    }\n",
       "\n",
       "    .dataframe tbody tr th {\n",
       "        vertical-align: top;\n",
       "    }\n",
       "\n",
       "    .dataframe thead th {\n",
       "        text-align: right;\n",
       "    }\n",
       "</style>\n",
       "<table border=\"1\" class=\"dataframe\">\n",
       "  <thead>\n",
       "    <tr style=\"text-align: right;\">\n",
       "      <th></th>\n",
       "      <th>RecordID</th>\n",
       "      <th>Offense</th>\n",
       "      <th>IncidentID</th>\n",
       "      <th>BlockNumber</th>\n",
       "      <th>StreetName</th>\n",
       "      <th>Agency</th>\n",
       "      <th>HourReported</th>\n",
       "      <th>ReportingOfficer</th>\n",
       "      <th>Date</th>\n",
       "      <th>DateString</th>\n",
       "      <th>DayOfWeek</th>\n",
       "      <th>Weekend</th>\n",
       "      <th>Season</th>\n",
       "      <th>HourAMPM</th>\n",
       "      <th>TimeOfDay</th>\n",
       "      <th>FullStreet</th>\n",
       "      <th>lat</th>\n",
       "      <th>lon</th>\n",
       "      <th>neighborhood</th>\n",
       "    </tr>\n",
       "  </thead>\n",
       "  <tbody>\n",
       "    <tr>\n",
       "      <th>0</th>\n",
       "      <td>1</td>\n",
       "      <td>Vandalism</td>\n",
       "      <td>202500026131</td>\n",
       "      <td>300</td>\n",
       "      <td>VALLEY RD, A</td>\n",
       "      <td>CPD</td>\n",
       "      <td>2153</td>\n",
       "      <td>Reed, Danielle</td>\n",
       "      <td>2025-07-24 21:53:29</td>\n",
       "      <td>2025-07-24 09:53:29 PM</td>\n",
       "      <td>Thursday</td>\n",
       "      <td>False</td>\n",
       "      <td>Summer</td>\n",
       "      <td>09:53 PM</td>\n",
       "      <td>Night</td>\n",
       "      <td>300 VALLEY RD, A</td>\n",
       "      <td>38.030818</td>\n",
       "      <td>-78.505274</td>\n",
       "      <td>Jefferson Park Avenue</td>\n",
       "    </tr>\n",
       "    <tr>\n",
       "      <th>1</th>\n",
       "      <td>2</td>\n",
       "      <td>Larceny - All Other</td>\n",
       "      <td>202500026116</td>\n",
       "      <td>300</td>\n",
       "      <td>13TH ST NW</td>\n",
       "      <td>CPD</td>\n",
       "      <td>2008</td>\n",
       "      <td>Rigsby, Lloyd</td>\n",
       "      <td>2025-07-24 20:08:34</td>\n",
       "      <td>2025-07-24 08:08:34 PM</td>\n",
       "      <td>Thursday</td>\n",
       "      <td>False</td>\n",
       "      <td>Summer</td>\n",
       "      <td>08:08 PM</td>\n",
       "      <td>Evening</td>\n",
       "      <td>300 13TH ST NW</td>\n",
       "      <td>38.035911</td>\n",
       "      <td>-78.497320</td>\n",
       "      <td>Venable</td>\n",
       "    </tr>\n",
       "    <tr>\n",
       "      <th>2</th>\n",
       "      <td>3</td>\n",
       "      <td>Assist Citizen - Mental/TDO/ECO</td>\n",
       "      <td>202500026111</td>\n",
       "      <td>500</td>\n",
       "      <td>HARRIS RD, 102</td>\n",
       "      <td>CPD</td>\n",
       "      <td>1945</td>\n",
       "      <td>Troche, Nicholas</td>\n",
       "      <td>2025-07-24 19:45:14</td>\n",
       "      <td>2025-07-24 07:45:14 PM</td>\n",
       "      <td>Thursday</td>\n",
       "      <td>False</td>\n",
       "      <td>Summer</td>\n",
       "      <td>07:45 PM</td>\n",
       "      <td>Evening</td>\n",
       "      <td>500 HARRIS RD, 102</td>\n",
       "      <td>38.015099</td>\n",
       "      <td>-78.503687</td>\n",
       "      <td>Fry's Spring</td>\n",
       "    </tr>\n",
       "    <tr>\n",
       "      <th>3</th>\n",
       "      <td>4</td>\n",
       "      <td>Burglary</td>\n",
       "      <td>202500026107</td>\n",
       "      <td>200</td>\n",
       "      <td>RIDGE ST</td>\n",
       "      <td>CPD</td>\n",
       "      <td>1909</td>\n",
       "      <td>Reed, Danielle</td>\n",
       "      <td>2025-07-24 19:09:19</td>\n",
       "      <td>2025-07-24 07:09:19 PM</td>\n",
       "      <td>Thursday</td>\n",
       "      <td>False</td>\n",
       "      <td>Summer</td>\n",
       "      <td>07:09 PM</td>\n",
       "      <td>Evening</td>\n",
       "      <td>200 RIDGE ST</td>\n",
       "      <td>38.029522</td>\n",
       "      <td>-78.485560</td>\n",
       "      <td>Fifeville</td>\n",
       "    </tr>\n",
       "    <tr>\n",
       "      <th>4</th>\n",
       "      <td>5</td>\n",
       "      <td>Sex Offense</td>\n",
       "      <td>202500026089</td>\n",
       "      <td>1500</td>\n",
       "      <td>ANTOINETTE AVE</td>\n",
       "      <td>CPD</td>\n",
       "      <td>1711</td>\n",
       "      <td>Venereo, Arturo</td>\n",
       "      <td>2025-07-24 17:11:31</td>\n",
       "      <td>2025-07-24 05:11:31 PM</td>\n",
       "      <td>Thursday</td>\n",
       "      <td>False</td>\n",
       "      <td>Summer</td>\n",
       "      <td>05:11 PM</td>\n",
       "      <td>Evening</td>\n",
       "      <td>1500 ANTOINETTE AVE</td>\n",
       "      <td>38.020606</td>\n",
       "      <td>-78.499495</td>\n",
       "      <td>Johnson Village</td>\n",
       "    </tr>\n",
       "  </tbody>\n",
       "</table>\n",
       "</div>"
      ],
      "text/plain": [
       "   RecordID                          Offense    IncidentID BlockNumber  \\\n",
       "0         1                        Vandalism  202500026131         300   \n",
       "1         2              Larceny - All Other  202500026116         300   \n",
       "2         3  Assist Citizen - Mental/TDO/ECO  202500026111         500   \n",
       "3         4                         Burglary  202500026107         200   \n",
       "4         5                      Sex Offense  202500026089        1500   \n",
       "\n",
       "       StreetName Agency HourReported  ReportingOfficer                Date  \\\n",
       "0    VALLEY RD, A    CPD         2153    Reed, Danielle 2025-07-24 21:53:29   \n",
       "1      13TH ST NW    CPD         2008     Rigsby, Lloyd 2025-07-24 20:08:34   \n",
       "2  HARRIS RD, 102    CPD         1945  Troche, Nicholas 2025-07-24 19:45:14   \n",
       "3        RIDGE ST    CPD         1909    Reed, Danielle 2025-07-24 19:09:19   \n",
       "4  ANTOINETTE AVE    CPD         1711   Venereo, Arturo 2025-07-24 17:11:31   \n",
       "\n",
       "               DateString DayOfWeek  Weekend  Season  HourAMPM TimeOfDay  \\\n",
       "0  2025-07-24 09:53:29 PM  Thursday    False  Summer  09:53 PM     Night   \n",
       "1  2025-07-24 08:08:34 PM  Thursday    False  Summer  08:08 PM   Evening   \n",
       "2  2025-07-24 07:45:14 PM  Thursday    False  Summer  07:45 PM   Evening   \n",
       "3  2025-07-24 07:09:19 PM  Thursday    False  Summer  07:09 PM   Evening   \n",
       "4  2025-07-24 05:11:31 PM  Thursday    False  Summer  05:11 PM   Evening   \n",
       "\n",
       "            FullStreet        lat        lon           neighborhood  \n",
       "0     300 VALLEY RD, A  38.030818 -78.505274  Jefferson Park Avenue  \n",
       "1       300 13TH ST NW  38.035911 -78.497320                Venable  \n",
       "2   500 HARRIS RD, 102  38.015099 -78.503687           Fry's Spring  \n",
       "3         200 RIDGE ST  38.029522 -78.485560              Fifeville  \n",
       "4  1500 ANTOINETTE AVE  38.020606 -78.499495        Johnson Village  "
      ]
     },
     "execution_count": 10,
     "metadata": {},
     "output_type": "execute_result"
    }
   ],
   "source": [
    "# Initialize the Google Maps client.\n",
    "gmaps = googlemaps.Client(key=GOOGLE_API_KEY)\n",
    "\n",
    "# Try to load a persistent neighborhood cache if available.\n",
    "try:\n",
    "    with open(\"neighborhood_cache.pkl\", \"rb\") as f:\n",
    "        neighborhood_cache = pickle.load(f)\n",
    "    print(\"Loaded neighborhood cache.\")\n",
    "except FileNotFoundError:\n",
    "    neighborhood_cache = {}\n",
    "    print(\"No neighborhood cache found; starting fresh.\")\n",
    "\n",
    "def get_neighborhood(lat, lon):\n",
    "    \"\"\"\n",
    "    Reverse geocodes a latitude and longitude to retrieve the neighborhood.\n",
    "    Caches results to speed up subsequent lookups.\n",
    "    \"\"\"\n",
    "    key = (lat, lon)\n",
    "    if key in neighborhood_cache:\n",
    "        return neighborhood_cache[key]\n",
    "    \n",
    "    try:\n",
    "        result = gmaps.reverse_geocode((lat, lon))\n",
    "        if result:\n",
    "            # Look for the 'neighborhood' component in the first result.\n",
    "            for component in result[0]['address_components']:\n",
    "                if 'neighborhood' in component['types']:\n",
    "                    neighborhood = component['long_name']\n",
    "                    neighborhood_cache[key] = neighborhood\n",
    "                    return neighborhood\n",
    "            # If no neighborhood is found, return \"N/A\"\n",
    "            neighborhood_cache[key] = \"N/A\"\n",
    "            return \"N/A\"\n",
    "    except Exception as e:\n",
    "        print(f\"Error getting neighborhood for {lat}, {lon}: {e}\")\n",
    "        return \"N/A\"\n",
    "    \n",
    "    # Pause to respect usage limits.\n",
    "    time.sleep(1)\n",
    "\n",
    "# Example usage: Apply to your DataFrame 'df' that already has 'lat' and 'lon' columns.\n",
    "df['neighborhood'] = df.apply(lambda row: get_neighborhood(row['lat'], row['lon']), axis=1)\n",
    "\n",
    "# Save the updated neighborhood cache.\n",
    "with open(\"neighborhood_cache.pkl\", \"wb\") as f:\n",
    "    pickle.dump(neighborhood_cache, f)\n",
    "\n",
    "df.head()\n"
   ]
  },
  {
   "cell_type": "markdown",
   "id": "6605914e",
   "metadata": {
    "papermill": {
     "duration": 0.005358,
     "end_time": "2025-07-27T01:16:33.709959",
     "exception": false,
     "start_time": "2025-07-27T01:16:33.704601",
     "status": "completed"
    },
    "tags": []
   },
   "source": [
    "### Zip"
   ]
  },
  {
   "cell_type": "code",
   "execution_count": 11,
   "id": "d4d1ac33",
   "metadata": {
    "execution": {
     "iopub.execute_input": "2025-07-27T01:16:33.721342Z",
     "iopub.status.busy": "2025-07-27T01:16:33.721114Z",
     "iopub.status.idle": "2025-07-27T01:17:46.123429Z",
     "shell.execute_reply": "2025-07-27T01:17:46.122705Z"
    },
    "papermill": {
     "duration": 72.409269,
     "end_time": "2025-07-27T01:17:46.124489",
     "exception": false,
     "start_time": "2025-07-27T01:16:33.715220",
     "status": "completed"
    },
    "tags": []
   },
   "outputs": [
    {
     "name": "stdout",
     "output_type": "stream",
     "text": [
      "Loaded zip cache.\n",
      "Error getting ZIP for nan, nan: Must be a coordinate pair or Point\n"
     ]
    },
    {
     "name": "stdout",
     "output_type": "stream",
     "text": [
      "Error getting ZIP for nan, nan: Must be a coordinate pair or Point\n"
     ]
    },
    {
     "name": "stdout",
     "output_type": "stream",
     "text": [
      "Error getting ZIP for nan, nan: Must be a coordinate pair or Point\n"
     ]
    },
    {
     "name": "stdout",
     "output_type": "stream",
     "text": [
      "Error getting ZIP for nan, nan: Must be a coordinate pair or Point\n"
     ]
    },
    {
     "name": "stdout",
     "output_type": "stream",
     "text": [
      "Error getting ZIP for nan, nan: Must be a coordinate pair or Point\n"
     ]
    },
    {
     "name": "stdout",
     "output_type": "stream",
     "text": [
      "Error getting ZIP for nan, nan: Must be a coordinate pair or Point\n"
     ]
    },
    {
     "name": "stdout",
     "output_type": "stream",
     "text": [
      "Error getting ZIP for nan, nan: Must be a coordinate pair or Point\n"
     ]
    },
    {
     "name": "stdout",
     "output_type": "stream",
     "text": [
      "Error getting ZIP for nan, nan: Must be a coordinate pair or Point\n"
     ]
    },
    {
     "name": "stdout",
     "output_type": "stream",
     "text": [
      "Error getting ZIP for nan, nan: Must be a coordinate pair or Point\n"
     ]
    },
    {
     "name": "stdout",
     "output_type": "stream",
     "text": [
      "Error getting ZIP for nan, nan: Must be a coordinate pair or Point\n"
     ]
    },
    {
     "name": "stdout",
     "output_type": "stream",
     "text": [
      "Error getting ZIP for nan, nan: Must be a coordinate pair or Point\n"
     ]
    },
    {
     "name": "stdout",
     "output_type": "stream",
     "text": [
      "Error getting ZIP for nan, nan: Must be a coordinate pair or Point\n"
     ]
    },
    {
     "name": "stdout",
     "output_type": "stream",
     "text": [
      "Error getting ZIP for nan, nan: Must be a coordinate pair or Point\n"
     ]
    },
    {
     "name": "stdout",
     "output_type": "stream",
     "text": [
      "Error getting ZIP for nan, nan: Must be a coordinate pair or Point\n"
     ]
    },
    {
     "name": "stdout",
     "output_type": "stream",
     "text": [
      "Error getting ZIP for nan, nan: Must be a coordinate pair or Point\n"
     ]
    },
    {
     "name": "stdout",
     "output_type": "stream",
     "text": [
      "Error getting ZIP for nan, nan: Must be a coordinate pair or Point\n"
     ]
    },
    {
     "name": "stdout",
     "output_type": "stream",
     "text": [
      "Error getting ZIP for nan, nan: Must be a coordinate pair or Point\n"
     ]
    },
    {
     "name": "stdout",
     "output_type": "stream",
     "text": [
      "Error getting ZIP for nan, nan: Must be a coordinate pair or Point\n"
     ]
    },
    {
     "name": "stdout",
     "output_type": "stream",
     "text": [
      "Error getting ZIP for nan, nan: Must be a coordinate pair or Point\n"
     ]
    },
    {
     "name": "stdout",
     "output_type": "stream",
     "text": [
      "Error getting ZIP for nan, nan: Must be a coordinate pair or Point\n"
     ]
    },
    {
     "name": "stdout",
     "output_type": "stream",
     "text": [
      "Error getting ZIP for nan, nan: Must be a coordinate pair or Point\n"
     ]
    },
    {
     "name": "stdout",
     "output_type": "stream",
     "text": [
      "Error getting ZIP for nan, nan: Must be a coordinate pair or Point\n"
     ]
    },
    {
     "name": "stdout",
     "output_type": "stream",
     "text": [
      "Error getting ZIP for nan, nan: Must be a coordinate pair or Point\n"
     ]
    },
    {
     "name": "stdout",
     "output_type": "stream",
     "text": [
      "Error getting ZIP for nan, nan: Must be a coordinate pair or Point\n"
     ]
    },
    {
     "name": "stdout",
     "output_type": "stream",
     "text": [
      "Error getting ZIP for nan, nan: Must be a coordinate pair or Point\n"
     ]
    },
    {
     "name": "stdout",
     "output_type": "stream",
     "text": [
      "Error getting ZIP for nan, nan: Must be a coordinate pair or Point\n"
     ]
    },
    {
     "name": "stdout",
     "output_type": "stream",
     "text": [
      "Error getting ZIP for nan, nan: Must be a coordinate pair or Point\n"
     ]
    },
    {
     "name": "stdout",
     "output_type": "stream",
     "text": [
      "Error getting ZIP for nan, nan: Must be a coordinate pair or Point\n"
     ]
    },
    {
     "name": "stdout",
     "output_type": "stream",
     "text": [
      "Error getting ZIP for nan, nan: Must be a coordinate pair or Point\n"
     ]
    },
    {
     "name": "stdout",
     "output_type": "stream",
     "text": [
      "Error getting ZIP for nan, nan: Must be a coordinate pair or Point\n"
     ]
    },
    {
     "name": "stdout",
     "output_type": "stream",
     "text": [
      "Error getting ZIP for nan, nan: Must be a coordinate pair or Point\n"
     ]
    },
    {
     "name": "stdout",
     "output_type": "stream",
     "text": [
      "Error getting ZIP for nan, nan: Must be a coordinate pair or Point\n"
     ]
    },
    {
     "name": "stdout",
     "output_type": "stream",
     "text": [
      "Error getting ZIP for nan, nan: Must be a coordinate pair or Point\n"
     ]
    },
    {
     "name": "stdout",
     "output_type": "stream",
     "text": [
      "Error getting ZIP for nan, nan: Must be a coordinate pair or Point\n"
     ]
    },
    {
     "name": "stdout",
     "output_type": "stream",
     "text": [
      "Error getting ZIP for nan, nan: Must be a coordinate pair or Point\n"
     ]
    },
    {
     "name": "stdout",
     "output_type": "stream",
     "text": [
      "Error getting ZIP for nan, nan: Must be a coordinate pair or Point\n"
     ]
    },
    {
     "name": "stdout",
     "output_type": "stream",
     "text": [
      "Error getting ZIP for nan, nan: Must be a coordinate pair or Point\n"
     ]
    },
    {
     "name": "stdout",
     "output_type": "stream",
     "text": [
      "Error getting ZIP for nan, nan: Must be a coordinate pair or Point\n"
     ]
    },
    {
     "name": "stdout",
     "output_type": "stream",
     "text": [
      "Error getting ZIP for nan, nan: Must be a coordinate pair or Point\n"
     ]
    },
    {
     "name": "stdout",
     "output_type": "stream",
     "text": [
      "Error getting ZIP for nan, nan: Must be a coordinate pair or Point\n"
     ]
    },
    {
     "name": "stdout",
     "output_type": "stream",
     "text": [
      "Error getting ZIP for nan, nan: Must be a coordinate pair or Point\n"
     ]
    },
    {
     "name": "stdout",
     "output_type": "stream",
     "text": [
      "Error getting ZIP for nan, nan: Must be a coordinate pair or Point\n"
     ]
    },
    {
     "name": "stdout",
     "output_type": "stream",
     "text": [
      "Error getting ZIP for nan, nan: Must be a coordinate pair or Point\n"
     ]
    },
    {
     "name": "stdout",
     "output_type": "stream",
     "text": [
      "Error getting ZIP for nan, nan: Must be a coordinate pair or Point\n"
     ]
    },
    {
     "name": "stdout",
     "output_type": "stream",
     "text": [
      "Error getting ZIP for nan, nan: Must be a coordinate pair or Point\n"
     ]
    },
    {
     "name": "stdout",
     "output_type": "stream",
     "text": [
      "Error getting ZIP for nan, nan: Must be a coordinate pair or Point\n"
     ]
    },
    {
     "name": "stdout",
     "output_type": "stream",
     "text": [
      "Error getting ZIP for nan, nan: Must be a coordinate pair or Point\n"
     ]
    },
    {
     "name": "stdout",
     "output_type": "stream",
     "text": [
      "Error getting ZIP for nan, nan: Must be a coordinate pair or Point\n"
     ]
    },
    {
     "name": "stdout",
     "output_type": "stream",
     "text": [
      "Error getting ZIP for nan, nan: Must be a coordinate pair or Point\n"
     ]
    },
    {
     "name": "stdout",
     "output_type": "stream",
     "text": [
      "Error getting ZIP for nan, nan: Must be a coordinate pair or Point\n"
     ]
    },
    {
     "name": "stdout",
     "output_type": "stream",
     "text": [
      "Error getting ZIP for nan, nan: Must be a coordinate pair or Point\n"
     ]
    },
    {
     "name": "stdout",
     "output_type": "stream",
     "text": [
      "Error getting ZIP for nan, nan: Must be a coordinate pair or Point\n"
     ]
    },
    {
     "name": "stdout",
     "output_type": "stream",
     "text": [
      "Error getting ZIP for nan, nan: Must be a coordinate pair or Point\n"
     ]
    },
    {
     "name": "stdout",
     "output_type": "stream",
     "text": [
      "Error getting ZIP for nan, nan: Must be a coordinate pair or Point\n"
     ]
    },
    {
     "name": "stdout",
     "output_type": "stream",
     "text": [
      "Error getting ZIP for nan, nan: Must be a coordinate pair or Point\n"
     ]
    },
    {
     "name": "stdout",
     "output_type": "stream",
     "text": [
      "Error getting ZIP for nan, nan: Must be a coordinate pair or Point\n"
     ]
    },
    {
     "name": "stdout",
     "output_type": "stream",
     "text": [
      "Error getting ZIP for nan, nan: Must be a coordinate pair or Point\n"
     ]
    },
    {
     "name": "stdout",
     "output_type": "stream",
     "text": [
      "Error getting ZIP for nan, nan: Must be a coordinate pair or Point\n"
     ]
    },
    {
     "name": "stdout",
     "output_type": "stream",
     "text": [
      "Error getting ZIP for nan, nan: Must be a coordinate pair or Point\n"
     ]
    },
    {
     "name": "stdout",
     "output_type": "stream",
     "text": [
      "Error getting ZIP for nan, nan: Must be a coordinate pair or Point\n"
     ]
    },
    {
     "name": "stdout",
     "output_type": "stream",
     "text": [
      "Error getting ZIP for nan, nan: Must be a coordinate pair or Point\n"
     ]
    },
    {
     "name": "stdout",
     "output_type": "stream",
     "text": [
      "Error getting ZIP for nan, nan: Must be a coordinate pair or Point\n"
     ]
    },
    {
     "name": "stdout",
     "output_type": "stream",
     "text": [
      "Error getting ZIP for nan, nan: Must be a coordinate pair or Point\n"
     ]
    },
    {
     "name": "stdout",
     "output_type": "stream",
     "text": [
      "Error getting ZIP for nan, nan: Must be a coordinate pair or Point\n"
     ]
    },
    {
     "name": "stdout",
     "output_type": "stream",
     "text": [
      "Error getting ZIP for nan, nan: Must be a coordinate pair or Point\n"
     ]
    },
    {
     "name": "stdout",
     "output_type": "stream",
     "text": [
      "Error getting ZIP for nan, nan: Must be a coordinate pair or Point\n"
     ]
    },
    {
     "name": "stdout",
     "output_type": "stream",
     "text": [
      "Error getting ZIP for nan, nan: Must be a coordinate pair or Point\n"
     ]
    },
    {
     "name": "stdout",
     "output_type": "stream",
     "text": [
      "Error getting ZIP for nan, nan: Must be a coordinate pair or Point\n"
     ]
    },
    {
     "name": "stdout",
     "output_type": "stream",
     "text": [
      "Error getting ZIP for nan, nan: Must be a coordinate pair or Point\n"
     ]
    },
    {
     "name": "stdout",
     "output_type": "stream",
     "text": [
      "Error getting ZIP for nan, nan: Must be a coordinate pair or Point\n"
     ]
    },
    {
     "name": "stdout",
     "output_type": "stream",
     "text": [
      "Error getting ZIP for nan, nan: Must be a coordinate pair or Point\n"
     ]
    },
    {
     "name": "stdout",
     "output_type": "stream",
     "text": [
      "Error getting ZIP for nan, nan: Must be a coordinate pair or Point\n"
     ]
    },
    {
     "data": {
      "text/html": [
       "<div>\n",
       "<style scoped>\n",
       "    .dataframe tbody tr th:only-of-type {\n",
       "        vertical-align: middle;\n",
       "    }\n",
       "\n",
       "    .dataframe tbody tr th {\n",
       "        vertical-align: top;\n",
       "    }\n",
       "\n",
       "    .dataframe thead th {\n",
       "        text-align: right;\n",
       "    }\n",
       "</style>\n",
       "<table border=\"1\" class=\"dataframe\">\n",
       "  <thead>\n",
       "    <tr style=\"text-align: right;\">\n",
       "      <th></th>\n",
       "      <th>RecordID</th>\n",
       "      <th>Offense</th>\n",
       "      <th>IncidentID</th>\n",
       "      <th>BlockNumber</th>\n",
       "      <th>StreetName</th>\n",
       "      <th>Agency</th>\n",
       "      <th>HourReported</th>\n",
       "      <th>ReportingOfficer</th>\n",
       "      <th>Date</th>\n",
       "      <th>DateString</th>\n",
       "      <th>DayOfWeek</th>\n",
       "      <th>Weekend</th>\n",
       "      <th>Season</th>\n",
       "      <th>HourAMPM</th>\n",
       "      <th>TimeOfDay</th>\n",
       "      <th>FullStreet</th>\n",
       "      <th>lat</th>\n",
       "      <th>lon</th>\n",
       "      <th>neighborhood</th>\n",
       "      <th>zip</th>\n",
       "    </tr>\n",
       "  </thead>\n",
       "  <tbody>\n",
       "    <tr>\n",
       "      <th>0</th>\n",
       "      <td>1</td>\n",
       "      <td>Vandalism</td>\n",
       "      <td>202500026131</td>\n",
       "      <td>300</td>\n",
       "      <td>VALLEY RD, A</td>\n",
       "      <td>CPD</td>\n",
       "      <td>2153</td>\n",
       "      <td>Reed, Danielle</td>\n",
       "      <td>2025-07-24 21:53:29</td>\n",
       "      <td>2025-07-24 09:53:29 PM</td>\n",
       "      <td>Thursday</td>\n",
       "      <td>False</td>\n",
       "      <td>Summer</td>\n",
       "      <td>09:53 PM</td>\n",
       "      <td>Night</td>\n",
       "      <td>300 VALLEY RD, A</td>\n",
       "      <td>38.030818</td>\n",
       "      <td>-78.505274</td>\n",
       "      <td>Jefferson Park Avenue</td>\n",
       "      <td>22903</td>\n",
       "    </tr>\n",
       "    <tr>\n",
       "      <th>1</th>\n",
       "      <td>2</td>\n",
       "      <td>Larceny - All Other</td>\n",
       "      <td>202500026116</td>\n",
       "      <td>300</td>\n",
       "      <td>13TH ST NW</td>\n",
       "      <td>CPD</td>\n",
       "      <td>2008</td>\n",
       "      <td>Rigsby, Lloyd</td>\n",
       "      <td>2025-07-24 20:08:34</td>\n",
       "      <td>2025-07-24 08:08:34 PM</td>\n",
       "      <td>Thursday</td>\n",
       "      <td>False</td>\n",
       "      <td>Summer</td>\n",
       "      <td>08:08 PM</td>\n",
       "      <td>Evening</td>\n",
       "      <td>300 13TH ST NW</td>\n",
       "      <td>38.035911</td>\n",
       "      <td>-78.497320</td>\n",
       "      <td>Venable</td>\n",
       "      <td>22903</td>\n",
       "    </tr>\n",
       "    <tr>\n",
       "      <th>2</th>\n",
       "      <td>3</td>\n",
       "      <td>Assist Citizen - Mental/TDO/ECO</td>\n",
       "      <td>202500026111</td>\n",
       "      <td>500</td>\n",
       "      <td>HARRIS RD, 102</td>\n",
       "      <td>CPD</td>\n",
       "      <td>1945</td>\n",
       "      <td>Troche, Nicholas</td>\n",
       "      <td>2025-07-24 19:45:14</td>\n",
       "      <td>2025-07-24 07:45:14 PM</td>\n",
       "      <td>Thursday</td>\n",
       "      <td>False</td>\n",
       "      <td>Summer</td>\n",
       "      <td>07:45 PM</td>\n",
       "      <td>Evening</td>\n",
       "      <td>500 HARRIS RD, 102</td>\n",
       "      <td>38.015099</td>\n",
       "      <td>-78.503687</td>\n",
       "      <td>Fry's Spring</td>\n",
       "      <td>22903</td>\n",
       "    </tr>\n",
       "    <tr>\n",
       "      <th>3</th>\n",
       "      <td>4</td>\n",
       "      <td>Burglary</td>\n",
       "      <td>202500026107</td>\n",
       "      <td>200</td>\n",
       "      <td>RIDGE ST</td>\n",
       "      <td>CPD</td>\n",
       "      <td>1909</td>\n",
       "      <td>Reed, Danielle</td>\n",
       "      <td>2025-07-24 19:09:19</td>\n",
       "      <td>2025-07-24 07:09:19 PM</td>\n",
       "      <td>Thursday</td>\n",
       "      <td>False</td>\n",
       "      <td>Summer</td>\n",
       "      <td>07:09 PM</td>\n",
       "      <td>Evening</td>\n",
       "      <td>200 RIDGE ST</td>\n",
       "      <td>38.029522</td>\n",
       "      <td>-78.485560</td>\n",
       "      <td>Fifeville</td>\n",
       "      <td>22902</td>\n",
       "    </tr>\n",
       "    <tr>\n",
       "      <th>4</th>\n",
       "      <td>5</td>\n",
       "      <td>Sex Offense</td>\n",
       "      <td>202500026089</td>\n",
       "      <td>1500</td>\n",
       "      <td>ANTOINETTE AVE</td>\n",
       "      <td>CPD</td>\n",
       "      <td>1711</td>\n",
       "      <td>Venereo, Arturo</td>\n",
       "      <td>2025-07-24 17:11:31</td>\n",
       "      <td>2025-07-24 05:11:31 PM</td>\n",
       "      <td>Thursday</td>\n",
       "      <td>False</td>\n",
       "      <td>Summer</td>\n",
       "      <td>05:11 PM</td>\n",
       "      <td>Evening</td>\n",
       "      <td>1500 ANTOINETTE AVE</td>\n",
       "      <td>38.020606</td>\n",
       "      <td>-78.499495</td>\n",
       "      <td>Johnson Village</td>\n",
       "      <td>22903</td>\n",
       "    </tr>\n",
       "  </tbody>\n",
       "</table>\n",
       "</div>"
      ],
      "text/plain": [
       "   RecordID                          Offense    IncidentID BlockNumber  \\\n",
       "0         1                        Vandalism  202500026131         300   \n",
       "1         2              Larceny - All Other  202500026116         300   \n",
       "2         3  Assist Citizen - Mental/TDO/ECO  202500026111         500   \n",
       "3         4                         Burglary  202500026107         200   \n",
       "4         5                      Sex Offense  202500026089        1500   \n",
       "\n",
       "       StreetName Agency HourReported  ReportingOfficer                Date  \\\n",
       "0    VALLEY RD, A    CPD         2153    Reed, Danielle 2025-07-24 21:53:29   \n",
       "1      13TH ST NW    CPD         2008     Rigsby, Lloyd 2025-07-24 20:08:34   \n",
       "2  HARRIS RD, 102    CPD         1945  Troche, Nicholas 2025-07-24 19:45:14   \n",
       "3        RIDGE ST    CPD         1909    Reed, Danielle 2025-07-24 19:09:19   \n",
       "4  ANTOINETTE AVE    CPD         1711   Venereo, Arturo 2025-07-24 17:11:31   \n",
       "\n",
       "               DateString DayOfWeek  Weekend  Season  HourAMPM TimeOfDay  \\\n",
       "0  2025-07-24 09:53:29 PM  Thursday    False  Summer  09:53 PM     Night   \n",
       "1  2025-07-24 08:08:34 PM  Thursday    False  Summer  08:08 PM   Evening   \n",
       "2  2025-07-24 07:45:14 PM  Thursday    False  Summer  07:45 PM   Evening   \n",
       "3  2025-07-24 07:09:19 PM  Thursday    False  Summer  07:09 PM   Evening   \n",
       "4  2025-07-24 05:11:31 PM  Thursday    False  Summer  05:11 PM   Evening   \n",
       "\n",
       "            FullStreet        lat        lon           neighborhood    zip  \n",
       "0     300 VALLEY RD, A  38.030818 -78.505274  Jefferson Park Avenue  22903  \n",
       "1       300 13TH ST NW  38.035911 -78.497320                Venable  22903  \n",
       "2   500 HARRIS RD, 102  38.015099 -78.503687           Fry's Spring  22903  \n",
       "3         200 RIDGE ST  38.029522 -78.485560              Fifeville  22902  \n",
       "4  1500 ANTOINETTE AVE  38.020606 -78.499495        Johnson Village  22903  "
      ]
     },
     "execution_count": 11,
     "metadata": {},
     "output_type": "execute_result"
    }
   ],
   "source": [
    "# Initialize the geocoder.\n",
    "geolocator = Nominatim(user_agent=\"zip_lookup\")\n",
    "\n",
    "# Try to load a persistent ZIP cache if available.\n",
    "try:\n",
    "    with open(\"zip_cache.pkl\", \"rb\") as f:\n",
    "        zip_cache = pickle.load(f)\n",
    "    print(\"Loaded zip cache.\")\n",
    "except FileNotFoundError:\n",
    "    zip_cache = {}\n",
    "    print(\"No zip cache found; starting fresh.\")\n",
    "\n",
    "def get_zip(lat, lon):\n",
    "    \"\"\"\n",
    "    Reverse geocodes a latitude and longitude to retrieve the ZIP code.\n",
    "    Caches results to speed up subsequent lookups.\n",
    "    \"\"\"\n",
    "    key = (lat, lon)\n",
    "    if key in zip_cache:\n",
    "        return zip_cache[key]\n",
    "    \n",
    "    try:\n",
    "        location = geolocator.reverse((lat, lon), exactly_one=True, timeout=10)\n",
    "        address = location.raw.get('address', {})\n",
    "        postal_code = address.get('postcode', \"N/A\")\n",
    "    except Exception as e:\n",
    "        print(f\"Error getting ZIP for {lat}, {lon}: {e}\")\n",
    "        postal_code = \"N/A\"\n",
    "    \n",
    "    zip_cache[key] = postal_code\n",
    "    # Pause to respect the usage policy.\n",
    "    time.sleep(1)\n",
    "    return postal_code\n",
    "\n",
    "# Apply the function to each row in the DataFrame.\n",
    "df['zip'] = df.apply(lambda row: get_zip(row['lat'], row['lon']), axis=1)\n",
    "\n",
    "# Save the updated ZIP cache.\n",
    "with open(\"zip_cache.pkl\", \"wb\") as f:\n",
    "    pickle.dump(zip_cache, f)\n",
    "\n",
    "df.head()\n"
   ]
  },
  {
   "cell_type": "code",
   "execution_count": 12,
   "id": "d0186183",
   "metadata": {
    "execution": {
     "iopub.execute_input": "2025-07-27T01:17:46.142811Z",
     "iopub.status.busy": "2025-07-27T01:17:46.142598Z",
     "iopub.status.idle": "2025-07-27T01:17:46.169238Z",
     "shell.execute_reply": "2025-07-27T01:17:46.168563Z"
    },
    "papermill": {
     "duration": 0.036809,
     "end_time": "2025-07-27T01:17:46.170281",
     "exception": false,
     "start_time": "2025-07-27T01:17:46.133472",
     "status": "completed"
    },
    "tags": []
   },
   "outputs": [
    {
     "name": "stdout",
     "output_type": "stream",
     "text": [
      "                  MissingCount  MissingPercentage\n",
      "RecordID                     0               0.00\n",
      "Offense                      0               0.00\n",
      "IncidentID                   0               0.00\n",
      "BlockNumber                  0               0.00\n",
      "StreetName                   0               0.00\n",
      "Agency                       0               0.00\n",
      "HourReported                 0               0.00\n",
      "ReportingOfficer            17               0.07\n",
      "Date                         0               0.00\n",
      "DateString                   0               0.00\n",
      "DayOfWeek                    0               0.00\n",
      "Weekend                      0               0.00\n",
      "Season                       0               0.00\n",
      "HourAMPM                     0               0.00\n",
      "TimeOfDay                    0               0.00\n",
      "FullStreet                   0               0.00\n",
      "lat                         72               0.28\n",
      "lon                         72               0.28\n",
      "neighborhood                 0               0.00\n",
      "zip                          0               0.00\n"
     ]
    }
   ],
   "source": [
    "missing_info = missing_percentage(df)\n",
    "print(missing_info)\n"
   ]
  },
  {
   "cell_type": "code",
   "execution_count": 13,
   "id": "a70bb59b",
   "metadata": {
    "execution": {
     "iopub.execute_input": "2025-07-27T01:17:46.188561Z",
     "iopub.status.busy": "2025-07-27T01:17:46.188311Z",
     "iopub.status.idle": "2025-07-27T01:17:46.215870Z",
     "shell.execute_reply": "2025-07-27T01:17:46.215198Z"
    },
    "papermill": {
     "duration": 0.037797,
     "end_time": "2025-07-27T01:17:46.216934",
     "exception": false,
     "start_time": "2025-07-27T01:17:46.179137",
     "status": "completed"
    },
    "tags": []
   },
   "outputs": [
    {
     "name": "stdout",
     "output_type": "stream",
     "text": [
      "<class 'pandas.core.frame.DataFrame'>\n",
      "RangeIndex: 25583 entries, 0 to 25582\n",
      "Data columns (total 20 columns):\n",
      " #   Column            Non-Null Count  Dtype         \n",
      "---  ------            --------------  -----         \n",
      " 0   RecordID          25583 non-null  int64         \n",
      " 1   Offense           25583 non-null  object        \n",
      " 2   IncidentID        25583 non-null  object        \n",
      " 3   BlockNumber       25583 non-null  object        \n",
      " 4   StreetName        25583 non-null  object        \n",
      " 5   Agency            25583 non-null  object        \n",
      " 6   HourReported      25583 non-null  object        \n",
      " 7   ReportingOfficer  25566 non-null  object        \n",
      " 8   Date              25583 non-null  datetime64[ns]\n",
      " 9   DateString        25583 non-null  object        \n",
      " 10  DayOfWeek         25583 non-null  object        \n",
      " 11  Weekend           25583 non-null  bool          \n",
      " 12  Season            25583 non-null  object        \n",
      " 13  HourAMPM          25583 non-null  object        \n",
      " 14  TimeOfDay         25583 non-null  object        \n",
      " 15  FullStreet        25583 non-null  object        \n",
      " 16  lat               25511 non-null  float64       \n",
      " 17  lon               25511 non-null  float64       \n",
      " 18  neighborhood      25583 non-null  object        \n",
      " 19  zip               25583 non-null  object        \n",
      "dtypes: bool(1), datetime64[ns](1), float64(2), int64(1), object(15)\n",
      "memory usage: 3.7+ MB\n"
     ]
    }
   ],
   "source": [
    "df.info()"
   ]
  },
  {
   "cell_type": "code",
   "execution_count": 14,
   "id": "72b7e155",
   "metadata": {
    "execution": {
     "iopub.execute_input": "2025-07-27T01:17:46.235321Z",
     "iopub.status.busy": "2025-07-27T01:17:46.235103Z",
     "iopub.status.idle": "2025-07-27T01:17:46.278361Z",
     "shell.execute_reply": "2025-07-27T01:17:46.277654Z"
    },
    "papermill": {
     "duration": 0.053471,
     "end_time": "2025-07-27T01:17:46.279344",
     "exception": false,
     "start_time": "2025-07-27T01:17:46.225873",
     "status": "completed"
    },
    "tags": []
   },
   "outputs": [
    {
     "data": {
      "text/html": [
       "<div>\n",
       "<style scoped>\n",
       "    .dataframe tbody tr th:only-of-type {\n",
       "        vertical-align: middle;\n",
       "    }\n",
       "\n",
       "    .dataframe tbody tr th {\n",
       "        vertical-align: top;\n",
       "    }\n",
       "\n",
       "    .dataframe thead th {\n",
       "        text-align: right;\n",
       "    }\n",
       "</style>\n",
       "<table border=\"1\" class=\"dataframe\">\n",
       "  <thead>\n",
       "    <tr style=\"text-align: right;\">\n",
       "      <th></th>\n",
       "      <th>RecordID</th>\n",
       "      <th>Offense</th>\n",
       "      <th>IncidentID</th>\n",
       "      <th>Agency</th>\n",
       "      <th>ReportingOfficer</th>\n",
       "      <th>Date</th>\n",
       "      <th>DayOfWeek</th>\n",
       "      <th>Weekend</th>\n",
       "      <th>Season</th>\n",
       "      <th>TimeOfDay</th>\n",
       "      <th>FullStreet</th>\n",
       "      <th>lat</th>\n",
       "      <th>lon</th>\n",
       "      <th>neighborhood</th>\n",
       "      <th>zip</th>\n",
       "    </tr>\n",
       "  </thead>\n",
       "  <tbody>\n",
       "    <tr>\n",
       "      <th>0</th>\n",
       "      <td>1</td>\n",
       "      <td>Vandalism</td>\n",
       "      <td>202500026131</td>\n",
       "      <td>CPD</td>\n",
       "      <td>Reed, Danielle</td>\n",
       "      <td>2025-07-24 21:53:29</td>\n",
       "      <td>Thursday</td>\n",
       "      <td>False</td>\n",
       "      <td>Summer</td>\n",
       "      <td>Night</td>\n",
       "      <td>300 VALLEY RD, A</td>\n",
       "      <td>38.030818</td>\n",
       "      <td>-78.505274</td>\n",
       "      <td>Jefferson Park Avenue</td>\n",
       "      <td>22903</td>\n",
       "    </tr>\n",
       "    <tr>\n",
       "      <th>1</th>\n",
       "      <td>2</td>\n",
       "      <td>Larceny - All Other</td>\n",
       "      <td>202500026116</td>\n",
       "      <td>CPD</td>\n",
       "      <td>Rigsby, Lloyd</td>\n",
       "      <td>2025-07-24 20:08:34</td>\n",
       "      <td>Thursday</td>\n",
       "      <td>False</td>\n",
       "      <td>Summer</td>\n",
       "      <td>Evening</td>\n",
       "      <td>300 13TH ST NW</td>\n",
       "      <td>38.035911</td>\n",
       "      <td>-78.49732</td>\n",
       "      <td>Venable</td>\n",
       "      <td>22903</td>\n",
       "    </tr>\n",
       "    <tr>\n",
       "      <th>2</th>\n",
       "      <td>3</td>\n",
       "      <td>Assist Citizen - Mental/TDO/ECO</td>\n",
       "      <td>202500026111</td>\n",
       "      <td>CPD</td>\n",
       "      <td>Troche, Nicholas</td>\n",
       "      <td>2025-07-24 19:45:14</td>\n",
       "      <td>Thursday</td>\n",
       "      <td>False</td>\n",
       "      <td>Summer</td>\n",
       "      <td>Evening</td>\n",
       "      <td>500 HARRIS RD, 102</td>\n",
       "      <td>38.015099</td>\n",
       "      <td>-78.503687</td>\n",
       "      <td>Fry's Spring</td>\n",
       "      <td>22903</td>\n",
       "    </tr>\n",
       "    <tr>\n",
       "      <th>3</th>\n",
       "      <td>4</td>\n",
       "      <td>Burglary</td>\n",
       "      <td>202500026107</td>\n",
       "      <td>CPD</td>\n",
       "      <td>Reed, Danielle</td>\n",
       "      <td>2025-07-24 19:09:19</td>\n",
       "      <td>Thursday</td>\n",
       "      <td>False</td>\n",
       "      <td>Summer</td>\n",
       "      <td>Evening</td>\n",
       "      <td>200 RIDGE ST</td>\n",
       "      <td>38.029522</td>\n",
       "      <td>-78.48556</td>\n",
       "      <td>Fifeville</td>\n",
       "      <td>22902</td>\n",
       "    </tr>\n",
       "    <tr>\n",
       "      <th>4</th>\n",
       "      <td>5</td>\n",
       "      <td>Sex Offense</td>\n",
       "      <td>202500026089</td>\n",
       "      <td>CPD</td>\n",
       "      <td>Venereo, Arturo</td>\n",
       "      <td>2025-07-24 17:11:31</td>\n",
       "      <td>Thursday</td>\n",
       "      <td>False</td>\n",
       "      <td>Summer</td>\n",
       "      <td>Evening</td>\n",
       "      <td>1500 ANTOINETTE AVE</td>\n",
       "      <td>38.020606</td>\n",
       "      <td>-78.499495</td>\n",
       "      <td>Johnson Village</td>\n",
       "      <td>22903</td>\n",
       "    </tr>\n",
       "  </tbody>\n",
       "</table>\n",
       "</div>"
      ],
      "text/plain": [
       "   RecordID                          Offense    IncidentID Agency  \\\n",
       "0         1                        Vandalism  202500026131    CPD   \n",
       "1         2              Larceny - All Other  202500026116    CPD   \n",
       "2         3  Assist Citizen - Mental/TDO/ECO  202500026111    CPD   \n",
       "3         4                         Burglary  202500026107    CPD   \n",
       "4         5                      Sex Offense  202500026089    CPD   \n",
       "\n",
       "   ReportingOfficer                Date DayOfWeek  Weekend  Season TimeOfDay  \\\n",
       "0    Reed, Danielle 2025-07-24 21:53:29  Thursday    False  Summer     Night   \n",
       "1     Rigsby, Lloyd 2025-07-24 20:08:34  Thursday    False  Summer   Evening   \n",
       "2  Troche, Nicholas 2025-07-24 19:45:14  Thursday    False  Summer   Evening   \n",
       "3    Reed, Danielle 2025-07-24 19:09:19  Thursday    False  Summer   Evening   \n",
       "4   Venereo, Arturo 2025-07-24 17:11:31  Thursday    False  Summer   Evening   \n",
       "\n",
       "            FullStreet        lat        lon           neighborhood    zip  \n",
       "0     300 VALLEY RD, A  38.030818 -78.505274  Jefferson Park Avenue  22903  \n",
       "1       300 13TH ST NW  38.035911  -78.49732                Venable  22903  \n",
       "2   500 HARRIS RD, 102  38.015099 -78.503687           Fry's Spring  22903  \n",
       "3         200 RIDGE ST  38.029522  -78.48556              Fifeville  22902  \n",
       "4  1500 ANTOINETTE AVE  38.020606 -78.499495        Johnson Village  22903  "
      ]
     },
     "execution_count": 14,
     "metadata": {},
     "output_type": "execute_result"
    }
   ],
   "source": [
    "# Now drop the original BlockNumber and StreetName columns\n",
    "df.drop(columns=['BlockNumber', 'StreetName','HourAMPM','HourReported','DateString'], inplace=True)\n",
    "df[\"zip\"] = df[\"zip\"].astype(str)\n",
    "\n",
    "# Fill all missing values in the DataFrame with \"N/A\"\n",
    "df.replace({None: \"N/A\", np.nan: \"N/A\", \"\": \"N/A\"}, inplace=True)\n",
    "df.head()"
   ]
  },
  {
   "cell_type": "code",
   "execution_count": 15,
   "id": "eb40ddf2",
   "metadata": {
    "execution": {
     "iopub.execute_input": "2025-07-27T01:17:46.298302Z",
     "iopub.status.busy": "2025-07-27T01:17:46.298107Z",
     "iopub.status.idle": "2025-07-27T01:17:46.314661Z",
     "shell.execute_reply": "2025-07-27T01:17:46.314121Z"
    },
    "papermill": {
     "duration": 0.026992,
     "end_time": "2025-07-27T01:17:46.315647",
     "exception": false,
     "start_time": "2025-07-27T01:17:46.288655",
     "status": "completed"
    },
    "tags": []
   },
   "outputs": [
    {
     "name": "stdout",
     "output_type": "stream",
     "text": [
      "                  MissingCount  MissingPercentage\n",
      "RecordID                     0                0.0\n",
      "Offense                      0                0.0\n",
      "IncidentID                   0                0.0\n",
      "Agency                       0                0.0\n",
      "ReportingOfficer             0                0.0\n",
      "Date                         0                0.0\n",
      "DayOfWeek                    0                0.0\n",
      "Weekend                      0                0.0\n",
      "Season                       0                0.0\n",
      "TimeOfDay                    0                0.0\n",
      "FullStreet                   0                0.0\n",
      "lat                          0                0.0\n",
      "lon                          0                0.0\n",
      "neighborhood                 0                0.0\n",
      "zip                          0                0.0\n"
     ]
    }
   ],
   "source": [
    "missing_info = missing_percentage(df)\n",
    "print(missing_info)"
   ]
  },
  {
   "cell_type": "code",
   "execution_count": 16,
   "id": "1ca56fb6",
   "metadata": {
    "execution": {
     "iopub.execute_input": "2025-07-27T01:17:46.334302Z",
     "iopub.status.busy": "2025-07-27T01:17:46.334106Z",
     "iopub.status.idle": "2025-07-27T01:17:46.338099Z",
     "shell.execute_reply": "2025-07-27T01:17:46.337558Z"
    },
    "papermill": {
     "duration": 0.014507,
     "end_time": "2025-07-27T01:17:46.339111",
     "exception": false,
     "start_time": "2025-07-27T01:17:46.324604",
     "status": "completed"
    },
    "tags": []
   },
   "outputs": [
    {
     "data": {
      "text/plain": [
       "Index(['RecordID', 'Offense', 'IncidentID', 'Agency', 'ReportingOfficer',\n",
       "       'Date', 'DayOfWeek', 'Weekend', 'Season', 'TimeOfDay', 'FullStreet',\n",
       "       'lat', 'lon', 'neighborhood', 'zip'],\n",
       "      dtype='object')"
      ]
     },
     "execution_count": 16,
     "metadata": {},
     "output_type": "execute_result"
    }
   ],
   "source": [
    "df.columns"
   ]
  },
  {
   "cell_type": "code",
   "execution_count": 17,
   "id": "fb4a0622",
   "metadata": {
    "execution": {
     "iopub.execute_input": "2025-07-27T01:17:46.357815Z",
     "iopub.status.busy": "2025-07-27T01:17:46.357595Z",
     "iopub.status.idle": "2025-07-27T01:17:46.375559Z",
     "shell.execute_reply": "2025-07-27T01:17:46.375039Z"
    },
    "papermill": {
     "duration": 0.028319,
     "end_time": "2025-07-27T01:17:46.376521",
     "exception": false,
     "start_time": "2025-07-27T01:17:46.348202",
     "status": "completed"
    },
    "tags": []
   },
   "outputs": [
    {
     "name": "stdout",
     "output_type": "stream",
     "text": [
      "<class 'pandas.core.frame.DataFrame'>\n",
      "RangeIndex: 25583 entries, 0 to 25582\n",
      "Data columns (total 15 columns):\n",
      " #   Column            Non-Null Count  Dtype         \n",
      "---  ------            --------------  -----         \n",
      " 0   RecordID          25583 non-null  int64         \n",
      " 1   Offense           25583 non-null  object        \n",
      " 2   IncidentID        25583 non-null  object        \n",
      " 3   Agency            25583 non-null  object        \n",
      " 4   ReportingOfficer  25583 non-null  object        \n",
      " 5   Date              25583 non-null  datetime64[ns]\n",
      " 6   DayOfWeek         25583 non-null  object        \n",
      " 7   Weekend           25583 non-null  bool          \n",
      " 8   Season            25583 non-null  object        \n",
      " 9   TimeOfDay         25583 non-null  object        \n",
      " 10  FullStreet        25583 non-null  object        \n",
      " 11  lat               25583 non-null  object        \n",
      " 12  lon               25583 non-null  object        \n",
      " 13  neighborhood      25583 non-null  object        \n",
      " 14  zip               25583 non-null  object        \n",
      "dtypes: bool(1), datetime64[ns](1), int64(1), object(12)\n",
      "memory usage: 2.8+ MB\n"
     ]
    }
   ],
   "source": [
    "df.info()"
   ]
  },
  {
   "cell_type": "markdown",
   "id": "1332a8bd",
   "metadata": {
    "papermill": {
     "duration": 0.009071,
     "end_time": "2025-07-27T01:17:46.394949",
     "exception": false,
     "start_time": "2025-07-27T01:17:46.385878",
     "status": "completed"
    },
    "tags": []
   },
   "source": [
    "### Export Clean Data"
   ]
  },
  {
   "cell_type": "code",
   "execution_count": 18,
   "id": "54a50b53",
   "metadata": {
    "execution": {
     "iopub.execute_input": "2025-07-27T01:17:46.414045Z",
     "iopub.status.busy": "2025-07-27T01:17:46.413840Z",
     "iopub.status.idle": "2025-07-27T01:17:55.383210Z",
     "shell.execute_reply": "2025-07-27T01:17:55.382569Z"
    },
    "papermill": {
     "duration": 8.98007,
     "end_time": "2025-07-27T01:17:55.384228",
     "exception": false,
     "start_time": "2025-07-27T01:17:46.404158",
     "status": "completed"
    },
    "tags": []
   },
   "outputs": [
    {
     "name": "stdout",
     "output_type": "stream",
     "text": [
      "Project Root: /home/runner/work/crime-data/crime-data\n"
     ]
    },
    {
     "name": "stdout",
     "output_type": "stream",
     "text": [
      "Data saved to: /home/runner/work/crime-data/crime-data/data/charlottesville_crime_incidents.csv\n"
     ]
    },
    {
     "name": "stdout",
     "output_type": "stream",
     "text": [
      "Excel saved to: /home/runner/work/crime-data/crime-data/data/charlottesville_crime_incidents.xlsx\n"
     ]
    }
   ],
   "source": [
    "# Determine the project root (assuming papermill is run from the repository root)\n",
    "project_root = os.getcwd()\n",
    "print(\"Project Root:\", project_root)\n",
    "\n",
    "# Set the data directory within the project root\n",
    "data_dir = os.path.join(project_root, \"data\")\n",
    "\n",
    "# Ensure the \"data\" directory exists (create it if it doesn't)\n",
    "if not os.path.exists(data_dir):\n",
    "    os.makedirs(data_dir)\n",
    "\n",
    "# Export the DataFrame to CSV in the \"data\" folder located in the project root\n",
    "csv_path = os.path.join(data_dir, \"charlottesville_crime_incidents.csv\")\n",
    "df.to_csv(csv_path, index=False)\n",
    "print(\"Data saved to:\", csv_path)\n",
    "\n",
    "# Construct the path to your Excel file\n",
    "excel_path = os.path.join(data_dir, \"charlottesville_crime_incidents.xlsx\")\n",
    "\n",
    "# Export the DataFrame to Excel\n",
    "df.to_excel(excel_path, index=False)\n",
    "print(\"Excel saved to:\", excel_path)\n"
   ]
  }
 ],
 "metadata": {
  "kernelspec": {
   "display_name": "Python 3",
   "language": "python",
   "name": "python3"
  },
  "language_info": {
   "codemirror_mode": {
    "name": "ipython",
    "version": 3
   },
   "file_extension": ".py",
   "mimetype": "text/x-python",
   "name": "python",
   "nbconvert_exporter": "python",
   "pygments_lexer": "ipython3",
   "version": "3.9.23"
  },
  "papermill": {
   "default_parameters": {},
   "duration": 154.776798,
   "end_time": "2025-07-27T01:17:55.810418",
   "environment_variables": {},
   "exception": null,
   "input_path": "notebook/Crime Data.ipynb",
   "output_path": "notebook/Crime Data_output.ipynb",
   "parameters": {},
   "start_time": "2025-07-27T01:15:21.033620",
   "version": "2.6.0"
  }
 },
 "nbformat": 4,
 "nbformat_minor": 5
}