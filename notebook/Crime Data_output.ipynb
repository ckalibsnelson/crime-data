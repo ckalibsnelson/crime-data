{
 "cells": [
  {
   "cell_type": "markdown",
   "id": "fec827a4",
   "metadata": {
    "papermill": {
     "duration": 0.006527,
     "end_time": "2025-04-20T01:04:23.830981",
     "exception": false,
     "start_time": "2025-04-20T01:04:23.824454",
     "status": "completed"
    },
    "tags": []
   },
   "source": [
    "# Charlottesville Open Data Porttal: Crime Data"
   ]
  },
  {
   "cell_type": "markdown",
   "id": "351fa5c5",
   "metadata": {
    "papermill": {
     "duration": 0.005106,
     "end_time": "2025-04-20T01:04:23.841528",
     "exception": false,
     "start_time": "2025-04-20T01:04:23.836422",
     "status": "completed"
    },
    "tags": []
   },
   "source": [
    "## Import Relevant Librarires & Set WD"
   ]
  },
  {
   "cell_type": "code",
   "execution_count": 1,
   "id": "a1f7553f",
   "metadata": {
    "execution": {
     "iopub.execute_input": "2025-04-20T01:04:23.852912Z",
     "iopub.status.busy": "2025-04-20T01:04:23.852630Z",
     "iopub.status.idle": "2025-04-20T01:04:24.382358Z",
     "shell.execute_reply": "2025-04-20T01:04:24.381695Z"
    },
    "papermill": {
     "duration": 0.537185,
     "end_time": "2025-04-20T01:04:24.383734",
     "exception": false,
     "start_time": "2025-04-20T01:04:23.846549",
     "status": "completed"
    },
    "tags": []
   },
   "outputs": [],
   "source": [
    "import requests\n",
    "import pandas as pd\n",
    "import numpy as np\n",
    "import pickle\n",
    "import googlemaps\n",
    "import plotly.express as px\n",
    "from geopy.geocoders import Nominatim\n",
    "import time\n",
    "from dotenv import load_dotenv\n",
    "import os\n",
    "\n",
    "env_path = os.path.join(\"..\", \".env\")\n",
    "#print(\"Looking for .env file at:\", os.path.abspath(env_path))\n",
    "load_dotenv(dotenv_path=env_path)\n",
    "\n",
    "# Retrieve the variables\n",
    "GOOGLE_API_KEY = os.getenv(\"GOOGLE_API_KEY\")\n",
    "WORKING_DIR = os.getenv(\"WORKING_DIR\")\n",
    "\n",
    "if GOOGLE_API_KEY is None or WORKING_DIR is None:\n",
    "    raise RuntimeError(\"No configuration found. Please ensure that your .env file exists with the required variables, or create a local config.py file.\")\n",
    "\n",
    "#print(\"Google API Key:\", GOOGLE_API_KEY)\n",
    "#print(\"Working Directory:\", WORKING_DIR)"
   ]
  },
  {
   "cell_type": "markdown",
   "id": "50fae383",
   "metadata": {
    "papermill": {
     "duration": 0.005081,
     "end_time": "2025-04-20T01:04:24.394601",
     "exception": false,
     "start_time": "2025-04-20T01:04:24.389520",
     "status": "completed"
    },
    "tags": []
   },
   "source": [
    "## Import Data\n",
    "\n",
    "URL: https://opendata.charlottesville.org/datasets/charlottesville::crime-data/about"
   ]
  },
  {
   "cell_type": "code",
   "execution_count": 2,
   "id": "077b2217",
   "metadata": {
    "execution": {
     "iopub.execute_input": "2025-04-20T01:04:24.405784Z",
     "iopub.status.busy": "2025-04-20T01:04:24.405487Z",
     "iopub.status.idle": "2025-04-20T01:05:25.464636Z",
     "shell.execute_reply": "2025-04-20T01:05:25.463882Z"
    },
    "papermill": {
     "duration": 61.071249,
     "end_time": "2025-04-20T01:05:25.470957",
     "exception": false,
     "start_time": "2025-04-20T01:04:24.399708",
     "status": "completed"
    },
    "tags": []
   },
   "outputs": [
    {
     "name": "stdout",
     "output_type": "stream",
     "text": [
      "Total records imported: 25230\n"
     ]
    }
   ],
   "source": [
    "# Define the endpoint and initial parameters.\n",
    "url = \"https://gisweb.charlottesville.org/arcgis/rest/services/OpenData_2/MapServer/6/query\"\n",
    "params = {\n",
    "    \"where\": \"1=1\",\n",
    "    \"outFields\": \"*\",\n",
    "    \"outSR\": 4326,\n",
    "    \"f\": \"json\",\n",
    "    \"resultOffset\": 0,       # Starting index for results\n",
    "    \"resultRecordCount\": 10000  # Maximum records per batch (if allowed by the API)\n",
    "}\n",
    "\n",
    "records = []\n",
    "\n",
    "while True:\n",
    "    response = requests.get(url, params=params)\n",
    "    response.raise_for_status()\n",
    "    data = response.json()\n",
    "    \n",
    "    # Get the current batch of features.\n",
    "    features = data.get(\"features\", [])\n",
    "    if not features:\n",
    "        break\n",
    "\n",
    "    # Extract the attributes from the features.\n",
    "    batch_records = [feature.get(\"attributes\", {}) for feature in features]\n",
    "    records.extend(batch_records)\n",
    "    \n",
    "    # If the batch size is less than the requested count, we reached the end.\n",
    "    if len(features) < params[\"resultRecordCount\"]:\n",
    "        break\n",
    "\n",
    "    # Update the resultOffset for the next batch.\n",
    "    params[\"resultOffset\"] += params[\"resultRecordCount\"]\n",
    "\n",
    "# Create a DataFrame from the combined records.\n",
    "df = pd.DataFrame(records)\n",
    "print(\"Total records imported:\", len(df))\n"
   ]
  },
  {
   "cell_type": "code",
   "execution_count": 3,
   "id": "88817c97",
   "metadata": {
    "execution": {
     "iopub.execute_input": "2025-04-20T01:05:25.483177Z",
     "iopub.status.busy": "2025-04-20T01:05:25.482616Z",
     "iopub.status.idle": "2025-04-20T01:05:25.495184Z",
     "shell.execute_reply": "2025-04-20T01:05:25.494643Z"
    },
    "papermill": {
     "duration": 0.019863,
     "end_time": "2025-04-20T01:05:25.496156",
     "exception": false,
     "start_time": "2025-04-20T01:05:25.476293",
     "status": "completed"
    },
    "tags": []
   },
   "outputs": [
    {
     "data": {
      "text/html": [
       "<div>\n",
       "<style scoped>\n",
       "    .dataframe tbody tr th:only-of-type {\n",
       "        vertical-align: middle;\n",
       "    }\n",
       "\n",
       "    .dataframe tbody tr th {\n",
       "        vertical-align: top;\n",
       "    }\n",
       "\n",
       "    .dataframe thead th {\n",
       "        text-align: right;\n",
       "    }\n",
       "</style>\n",
       "<table border=\"1\" class=\"dataframe\">\n",
       "  <thead>\n",
       "    <tr style=\"text-align: right;\">\n",
       "      <th></th>\n",
       "      <th>RecordID</th>\n",
       "      <th>Offense</th>\n",
       "      <th>IncidentID</th>\n",
       "      <th>BlockNumber</th>\n",
       "      <th>StreetName</th>\n",
       "      <th>Agency</th>\n",
       "      <th>DateReported</th>\n",
       "      <th>HourReported</th>\n",
       "      <th>ReportingOfficer</th>\n",
       "    </tr>\n",
       "  </thead>\n",
       "  <tbody>\n",
       "    <tr>\n",
       "      <th>0</th>\n",
       "      <td>1</td>\n",
       "      <td>Suspicious Activity</td>\n",
       "      <td>202500012456</td>\n",
       "      <td>1500</td>\n",
       "      <td>CARLTON AVE, 17</td>\n",
       "      <td>CPD</td>\n",
       "      <td>1744938953000</td>\n",
       "      <td>2115</td>\n",
       "      <td>Vlasis, Christopher</td>\n",
       "    </tr>\n",
       "    <tr>\n",
       "      <th>1</th>\n",
       "      <td>2</td>\n",
       "      <td>Assist Citizen - Welfare Check</td>\n",
       "      <td>202500012452</td>\n",
       "      <td>700</td>\n",
       "      <td>PROSPECT AVE, A</td>\n",
       "      <td>CPD</td>\n",
       "      <td>1744937143000</td>\n",
       "      <td>2045</td>\n",
       "      <td>Venereo, Arturo</td>\n",
       "    </tr>\n",
       "    <tr>\n",
       "      <th>2</th>\n",
       "      <td>3</td>\n",
       "      <td>Misc - Non-Criminal Call</td>\n",
       "      <td>202500012410</td>\n",
       "      <td>500</td>\n",
       "      <td>HARRIS RD</td>\n",
       "      <td>CPD</td>\n",
       "      <td>1744920373000</td>\n",
       "      <td>1606</td>\n",
       "      <td>Moriarty, Thomas</td>\n",
       "    </tr>\n",
       "    <tr>\n",
       "      <th>3</th>\n",
       "      <td>4</td>\n",
       "      <td>Larceny - All Other</td>\n",
       "      <td>202500012407</td>\n",
       "      <td>700</td>\n",
       "      <td>PROSPECT AVE, B</td>\n",
       "      <td>CPD</td>\n",
       "      <td>1744919074000</td>\n",
       "      <td>1544</td>\n",
       "      <td>Venereo, Arturo</td>\n",
       "    </tr>\n",
       "    <tr>\n",
       "      <th>4</th>\n",
       "      <td>5</td>\n",
       "      <td>Suspicious Activity</td>\n",
       "      <td>202500012405</td>\n",
       "      <td>900</td>\n",
       "      <td>MONTICELLO AVE</td>\n",
       "      <td>CPD</td>\n",
       "      <td>1744918735000</td>\n",
       "      <td>1538</td>\n",
       "      <td>Bentz, Benjamin</td>\n",
       "    </tr>\n",
       "  </tbody>\n",
       "</table>\n",
       "</div>"
      ],
      "text/plain": [
       "   RecordID                         Offense    IncidentID BlockNumber  \\\n",
       "0         1             Suspicious Activity  202500012456        1500   \n",
       "1         2  Assist Citizen - Welfare Check  202500012452         700   \n",
       "2         3        Misc - Non-Criminal Call  202500012410         500   \n",
       "3         4             Larceny - All Other  202500012407         700   \n",
       "4         5             Suspicious Activity  202500012405         900   \n",
       "\n",
       "        StreetName Agency   DateReported HourReported     ReportingOfficer  \n",
       "0  CARLTON AVE, 17    CPD  1744938953000         2115  Vlasis, Christopher  \n",
       "1  PROSPECT AVE, A    CPD  1744937143000         2045      Venereo, Arturo  \n",
       "2        HARRIS RD    CPD  1744920373000         1606     Moriarty, Thomas  \n",
       "3  PROSPECT AVE, B    CPD  1744919074000         1544      Venereo, Arturo  \n",
       "4   MONTICELLO AVE    CPD  1744918735000         1538     Bentz, Benjamin   "
      ]
     },
     "execution_count": 3,
     "metadata": {},
     "output_type": "execute_result"
    }
   ],
   "source": [
    "df.head()"
   ]
  },
  {
   "cell_type": "code",
   "execution_count": 4,
   "id": "97366154",
   "metadata": {
    "execution": {
     "iopub.execute_input": "2025-04-20T01:05:25.507822Z",
     "iopub.status.busy": "2025-04-20T01:05:25.507458Z",
     "iopub.status.idle": "2025-04-20T01:05:25.511753Z",
     "shell.execute_reply": "2025-04-20T01:05:25.511086Z"
    },
    "papermill": {
     "duration": 0.011287,
     "end_time": "2025-04-20T01:05:25.512815",
     "exception": false,
     "start_time": "2025-04-20T01:05:25.501528",
     "status": "completed"
    },
    "tags": []
   },
   "outputs": [
    {
     "data": {
      "text/plain": [
       "Index(['RecordID', 'Offense', 'IncidentID', 'BlockNumber', 'StreetName',\n",
       "       'Agency', 'DateReported', 'HourReported', 'ReportingOfficer'],\n",
       "      dtype='object')"
      ]
     },
     "execution_count": 4,
     "metadata": {},
     "output_type": "execute_result"
    }
   ],
   "source": [
    "df.columns"
   ]
  },
  {
   "cell_type": "code",
   "execution_count": 5,
   "id": "72c627d0",
   "metadata": {
    "execution": {
     "iopub.execute_input": "2025-04-20T01:05:25.524802Z",
     "iopub.status.busy": "2025-04-20T01:05:25.524312Z",
     "iopub.status.idle": "2025-04-20T01:05:25.551581Z",
     "shell.execute_reply": "2025-04-20T01:05:25.550864Z"
    },
    "papermill": {
     "duration": 0.034405,
     "end_time": "2025-04-20T01:05:25.552736",
     "exception": false,
     "start_time": "2025-04-20T01:05:25.518331",
     "status": "completed"
    },
    "tags": []
   },
   "outputs": [
    {
     "name": "stdout",
     "output_type": "stream",
     "text": [
      "<class 'pandas.core.frame.DataFrame'>\n",
      "RangeIndex: 25230 entries, 0 to 25229\n",
      "Data columns (total 9 columns):\n",
      " #   Column            Non-Null Count  Dtype \n",
      "---  ------            --------------  ----- \n",
      " 0   RecordID          25230 non-null  int64 \n",
      " 1   Offense           25230 non-null  object\n",
      " 2   IncidentID        25230 non-null  object\n",
      " 3   BlockNumber       25230 non-null  object\n",
      " 4   StreetName        25230 non-null  object\n",
      " 5   Agency            25230 non-null  object\n",
      " 6   DateReported      25230 non-null  int64 \n",
      " 7   HourReported      25230 non-null  object\n",
      " 8   ReportingOfficer  25213 non-null  object\n",
      "dtypes: int64(2), object(7)\n",
      "memory usage: 1.7+ MB\n"
     ]
    }
   ],
   "source": [
    "df.info()"
   ]
  },
  {
   "cell_type": "markdown",
   "id": "90c60c2c",
   "metadata": {
    "papermill": {
     "duration": 0.005579,
     "end_time": "2025-04-20T01:05:25.564189",
     "exception": false,
     "start_time": "2025-04-20T01:05:25.558610",
     "status": "completed"
    },
    "tags": []
   },
   "source": [
    "### Missing Values"
   ]
  },
  {
   "cell_type": "code",
   "execution_count": 6,
   "id": "845d7e3e",
   "metadata": {
    "execution": {
     "iopub.execute_input": "2025-04-20T01:05:25.576297Z",
     "iopub.status.busy": "2025-04-20T01:05:25.575817Z",
     "iopub.status.idle": "2025-04-20T01:05:25.601943Z",
     "shell.execute_reply": "2025-04-20T01:05:25.601383Z"
    },
    "papermill": {
     "duration": 0.033324,
     "end_time": "2025-04-20T01:05:25.602969",
     "exception": false,
     "start_time": "2025-04-20T01:05:25.569645",
     "status": "completed"
    },
    "tags": []
   },
   "outputs": [
    {
     "name": "stdout",
     "output_type": "stream",
     "text": [
      "                  MissingCount  MissingPercentage\n",
      "RecordID                     0               0.00\n",
      "Offense                      0               0.00\n",
      "IncidentID                   0               0.00\n",
      "BlockNumber                  0               0.00\n",
      "StreetName                   0               0.00\n",
      "Agency                       0               0.00\n",
      "DateReported                 0               0.00\n",
      "HourReported                 0               0.00\n",
      "ReportingOfficer            17               0.07\n"
     ]
    }
   ],
   "source": [
    "def missing_percentage(df):\n",
    "    \"\"\"\n",
    "    Returns a DataFrame with the count and percentage of missing values for each column.\n",
    "    \n",
    "    Parameters:\n",
    "        df (pd.DataFrame): The input DataFrame.\n",
    "    \n",
    "    Returns:\n",
    "        pd.DataFrame: A DataFrame with columns 'MissingCount' and 'MissingPercentage'.\n",
    "    \"\"\"\n",
    "    total_rows = len(df)\n",
    "    missing_count = df.isnull().sum()\n",
    "    missing_percent = (missing_count / total_rows) * 100\n",
    "    \n",
    "    result = pd.DataFrame({\n",
    "        'MissingCount': missing_count,\n",
    "        'MissingPercentage': missing_percent.round(2)\n",
    "    })\n",
    "    \n",
    "    return result\n",
    "\n",
    "# Example usage:\n",
    "missing_info = missing_percentage(df)\n",
    "print(missing_info)\n"
   ]
  },
  {
   "cell_type": "markdown",
   "id": "f6fe9a97",
   "metadata": {
    "papermill": {
     "duration": 0.005639,
     "end_time": "2025-04-20T01:05:25.614429",
     "exception": false,
     "start_time": "2025-04-20T01:05:25.608790",
     "status": "completed"
    },
    "tags": []
   },
   "source": [
    "## Data Preparation"
   ]
  },
  {
   "cell_type": "markdown",
   "id": "b958e3f6",
   "metadata": {
    "papermill": {
     "duration": 0.005533,
     "end_time": "2025-04-20T01:05:25.625454",
     "exception": false,
     "start_time": "2025-04-20T01:05:25.619921",
     "status": "completed"
    },
    "tags": []
   },
   "source": [
    "### Data Conversion"
   ]
  },
  {
   "cell_type": "code",
   "execution_count": 7,
   "id": "f229588e",
   "metadata": {
    "execution": {
     "iopub.execute_input": "2025-04-20T01:05:25.637657Z",
     "iopub.status.busy": "2025-04-20T01:05:25.637159Z",
     "iopub.status.idle": "2025-04-20T01:05:26.019478Z",
     "shell.execute_reply": "2025-04-20T01:05:26.018715Z"
    },
    "papermill": {
     "duration": 0.389524,
     "end_time": "2025-04-20T01:05:26.020494",
     "exception": false,
     "start_time": "2025-04-20T01:05:25.630970",
     "status": "completed"
    },
    "tags": []
   },
   "outputs": [
    {
     "data": {
      "text/html": [
       "<div>\n",
       "<style scoped>\n",
       "    .dataframe tbody tr th:only-of-type {\n",
       "        vertical-align: middle;\n",
       "    }\n",
       "\n",
       "    .dataframe tbody tr th {\n",
       "        vertical-align: top;\n",
       "    }\n",
       "\n",
       "    .dataframe thead th {\n",
       "        text-align: right;\n",
       "    }\n",
       "</style>\n",
       "<table border=\"1\" class=\"dataframe\">\n",
       "  <thead>\n",
       "    <tr style=\"text-align: right;\">\n",
       "      <th></th>\n",
       "      <th>RecordID</th>\n",
       "      <th>Offense</th>\n",
       "      <th>IncidentID</th>\n",
       "      <th>BlockNumber</th>\n",
       "      <th>StreetName</th>\n",
       "      <th>Agency</th>\n",
       "      <th>HourReported</th>\n",
       "      <th>ReportingOfficer</th>\n",
       "      <th>Date</th>\n",
       "      <th>DateString</th>\n",
       "      <th>DayOfWeek</th>\n",
       "      <th>Weekend</th>\n",
       "      <th>Season</th>\n",
       "      <th>HourAMPM</th>\n",
       "      <th>TimeOfDay</th>\n",
       "    </tr>\n",
       "  </thead>\n",
       "  <tbody>\n",
       "    <tr>\n",
       "      <th>0</th>\n",
       "      <td>1</td>\n",
       "      <td>Suspicious Activity</td>\n",
       "      <td>202500012456</td>\n",
       "      <td>1500</td>\n",
       "      <td>CARLTON AVE, 17</td>\n",
       "      <td>CPD</td>\n",
       "      <td>2115</td>\n",
       "      <td>Vlasis, Christopher</td>\n",
       "      <td>2025-04-17 21:15:53</td>\n",
       "      <td>2025-04-17 09:15:53 PM</td>\n",
       "      <td>Thursday</td>\n",
       "      <td>False</td>\n",
       "      <td>Spring</td>\n",
       "      <td>09:15 PM</td>\n",
       "      <td>Night</td>\n",
       "    </tr>\n",
       "    <tr>\n",
       "      <th>1</th>\n",
       "      <td>2</td>\n",
       "      <td>Assist Citizen - Welfare Check</td>\n",
       "      <td>202500012452</td>\n",
       "      <td>700</td>\n",
       "      <td>PROSPECT AVE, A</td>\n",
       "      <td>CPD</td>\n",
       "      <td>2045</td>\n",
       "      <td>Venereo, Arturo</td>\n",
       "      <td>2025-04-17 20:45:43</td>\n",
       "      <td>2025-04-17 08:45:43 PM</td>\n",
       "      <td>Thursday</td>\n",
       "      <td>False</td>\n",
       "      <td>Spring</td>\n",
       "      <td>08:45 PM</td>\n",
       "      <td>Evening</td>\n",
       "    </tr>\n",
       "    <tr>\n",
       "      <th>2</th>\n",
       "      <td>3</td>\n",
       "      <td>Misc - Non-Criminal Call</td>\n",
       "      <td>202500012410</td>\n",
       "      <td>500</td>\n",
       "      <td>HARRIS RD</td>\n",
       "      <td>CPD</td>\n",
       "      <td>1606</td>\n",
       "      <td>Moriarty, Thomas</td>\n",
       "      <td>2025-04-17 16:06:13</td>\n",
       "      <td>2025-04-17 04:06:13 PM</td>\n",
       "      <td>Thursday</td>\n",
       "      <td>False</td>\n",
       "      <td>Spring</td>\n",
       "      <td>04:06 PM</td>\n",
       "      <td>Afternoon</td>\n",
       "    </tr>\n",
       "    <tr>\n",
       "      <th>3</th>\n",
       "      <td>4</td>\n",
       "      <td>Larceny - All Other</td>\n",
       "      <td>202500012407</td>\n",
       "      <td>700</td>\n",
       "      <td>PROSPECT AVE, B</td>\n",
       "      <td>CPD</td>\n",
       "      <td>1544</td>\n",
       "      <td>Venereo, Arturo</td>\n",
       "      <td>2025-04-17 15:44:34</td>\n",
       "      <td>2025-04-17 03:44:34 PM</td>\n",
       "      <td>Thursday</td>\n",
       "      <td>False</td>\n",
       "      <td>Spring</td>\n",
       "      <td>03:44 PM</td>\n",
       "      <td>Afternoon</td>\n",
       "    </tr>\n",
       "    <tr>\n",
       "      <th>4</th>\n",
       "      <td>5</td>\n",
       "      <td>Suspicious Activity</td>\n",
       "      <td>202500012405</td>\n",
       "      <td>900</td>\n",
       "      <td>MONTICELLO AVE</td>\n",
       "      <td>CPD</td>\n",
       "      <td>1538</td>\n",
       "      <td>Bentz, Benjamin</td>\n",
       "      <td>2025-04-17 15:38:55</td>\n",
       "      <td>2025-04-17 03:38:55 PM</td>\n",
       "      <td>Thursday</td>\n",
       "      <td>False</td>\n",
       "      <td>Spring</td>\n",
       "      <td>03:38 PM</td>\n",
       "      <td>Afternoon</td>\n",
       "    </tr>\n",
       "  </tbody>\n",
       "</table>\n",
       "</div>"
      ],
      "text/plain": [
       "   RecordID                         Offense    IncidentID BlockNumber  \\\n",
       "0         1             Suspicious Activity  202500012456        1500   \n",
       "1         2  Assist Citizen - Welfare Check  202500012452         700   \n",
       "2         3        Misc - Non-Criminal Call  202500012410         500   \n",
       "3         4             Larceny - All Other  202500012407         700   \n",
       "4         5             Suspicious Activity  202500012405         900   \n",
       "\n",
       "        StreetName Agency HourReported     ReportingOfficer  \\\n",
       "0  CARLTON AVE, 17    CPD         2115  Vlasis, Christopher   \n",
       "1  PROSPECT AVE, A    CPD         2045      Venereo, Arturo   \n",
       "2        HARRIS RD    CPD         1606     Moriarty, Thomas   \n",
       "3  PROSPECT AVE, B    CPD         1544      Venereo, Arturo   \n",
       "4   MONTICELLO AVE    CPD         1538     Bentz, Benjamin    \n",
       "\n",
       "                 Date              DateString DayOfWeek  Weekend  Season  \\\n",
       "0 2025-04-17 21:15:53  2025-04-17 09:15:53 PM  Thursday    False  Spring   \n",
       "1 2025-04-17 20:45:43  2025-04-17 08:45:43 PM  Thursday    False  Spring   \n",
       "2 2025-04-17 16:06:13  2025-04-17 04:06:13 PM  Thursday    False  Spring   \n",
       "3 2025-04-17 15:44:34  2025-04-17 03:44:34 PM  Thursday    False  Spring   \n",
       "4 2025-04-17 15:38:55  2025-04-17 03:38:55 PM  Thursday    False  Spring   \n",
       "\n",
       "   HourAMPM  TimeOfDay  \n",
       "0  09:15 PM      Night  \n",
       "1  08:45 PM    Evening  \n",
       "2  04:06 PM  Afternoon  \n",
       "3  03:44 PM  Afternoon  \n",
       "4  03:38 PM  Afternoon  "
      ]
     },
     "execution_count": 7,
     "metadata": {},
     "output_type": "execute_result"
    }
   ],
   "source": [
    "def convert_and_categorize_datereported(df, col='DateReported'):\n",
    "    \"\"\"\n",
    "    Converts an epoch (in milliseconds) date column into a timezone-aware datetime,\n",
    "    converts it to Eastern Time, and then creates columns for day-of-week, weekend flag,\n",
    "    season, 12-hour formatted time, and time-of-day. Keeps both a real datetime column\n",
    "    (Date) and a string representation (DateString).\n",
    "    \"\"\"\n",
    "    import pandas as pd\n",
    "\n",
    "    # Convert the epoch timestamp to a pandas datetime object as UTC, then convert to US/Eastern.\n",
    "    df[\"DateReported_dt\"] = (\n",
    "        pd.to_datetime(df[col], unit=\"ms\", errors=\"coerce\", utc=True)\n",
    "        .dt.tz_convert(\"US/Eastern\")\n",
    "    )\n",
    "    \n",
    "    # Create a true datetime column (remove timezone if you prefer naive datetime)\n",
    "    df[\"Date\"] = df[\"DateReported_dt\"].dt.tz_localize(None)\n",
    "\n",
    "    # Optionally, create a separate string-formatted column\n",
    "    df[\"DateString\"] = df[\"DateReported_dt\"].dt.strftime(\"%Y-%m-%d %I:%M:%S %p\")\n",
    "    \n",
    "    # DayOfWeek\n",
    "    df[\"DayOfWeek\"] = df[\"DateReported_dt\"].dt.day_name()\n",
    "    \n",
    "    # Weekend\n",
    "    df[\"Weekend\"] = df[\"DayOfWeek\"].isin([\"Saturday\", \"Sunday\"])\n",
    "    \n",
    "    # Helper function to determine the season\n",
    "    def get_season(dt):\n",
    "        month = dt.month\n",
    "        day = dt.day\n",
    "        # Approximate Northern Hemisphere season boundaries:\n",
    "        if (month == 12 and day >= 21) or (month < 3) or (month == 3 and day < 20):\n",
    "            return \"Winter\"\n",
    "        elif (month == 3 and day >= 20) or (month < 6) or (month == 6 and day < 21):\n",
    "            return \"Spring\"\n",
    "        elif (month == 6 and day >= 21) or (month < 9) or (month == 9 and day < 22):\n",
    "            return \"Summer\"\n",
    "        else:\n",
    "            return \"Autumn\"\n",
    "    \n",
    "    df[\"Season\"] = df[\"DateReported_dt\"].apply(get_season)\n",
    "    \n",
    "    # 12-hour formatted time (HourAMPM)\n",
    "    df[\"HourAMPM\"] = df[\"DateReported_dt\"].dt.strftime(\"%I:%M %p\")\n",
    "    \n",
    "    # Extract hour (0-23) for time-of-day\n",
    "    df[\"HourValue\"] = df[\"DateReported_dt\"].dt.hour\n",
    "    \n",
    "    def time_of_day(hour):\n",
    "        if pd.isnull(hour):\n",
    "            return None\n",
    "        if 5 <= hour < 12:\n",
    "            return \"Morning\"\n",
    "        elif 12 <= hour < 17:\n",
    "            return \"Afternoon\"\n",
    "        elif 17 <= hour < 21:\n",
    "            return \"Evening\"\n",
    "        else:\n",
    "            return \"Night\"\n",
    "    \n",
    "    df[\"TimeOfDay\"] = df[\"HourValue\"].apply(time_of_day)\n",
    "    \n",
    "    # Drop columns you no longer need\n",
    "    df.drop(columns=[col, \"DateReported_dt\", \"HourValue\"], inplace=True)\n",
    "    \n",
    "    return df\n",
    "\n",
    "# Example usage:\n",
    "df = convert_and_categorize_datereported(df)\n",
    "df.head()\n"
   ]
  },
  {
   "cell_type": "code",
   "execution_count": 8,
   "id": "bf042d65",
   "metadata": {
    "execution": {
     "iopub.execute_input": "2025-04-20T01:05:26.033744Z",
     "iopub.status.busy": "2025-04-20T01:05:26.033301Z",
     "iopub.status.idle": "2025-04-20T01:05:26.067934Z",
     "shell.execute_reply": "2025-04-20T01:05:26.067298Z"
    },
    "papermill": {
     "duration": 0.042275,
     "end_time": "2025-04-20T01:05:26.068968",
     "exception": false,
     "start_time": "2025-04-20T01:05:26.026693",
     "status": "completed"
    },
    "tags": []
   },
   "outputs": [
    {
     "name": "stdout",
     "output_type": "stream",
     "text": [
      "<class 'pandas.core.frame.DataFrame'>\n",
      "RangeIndex: 25230 entries, 0 to 25229\n",
      "Data columns (total 15 columns):\n",
      " #   Column            Non-Null Count  Dtype         \n",
      "---  ------            --------------  -----         \n",
      " 0   RecordID          25230 non-null  int64         \n",
      " 1   Offense           25230 non-null  object        \n",
      " 2   IncidentID        25230 non-null  object        \n",
      " 3   BlockNumber       25230 non-null  object        \n",
      " 4   StreetName        25230 non-null  object        \n",
      " 5   Agency            25230 non-null  object        \n",
      " 6   HourReported      25230 non-null  object        \n",
      " 7   ReportingOfficer  25213 non-null  object        \n",
      " 8   Date              25230 non-null  datetime64[ns]\n",
      " 9   DateString        25230 non-null  object        \n",
      " 10  DayOfWeek         25230 non-null  object        \n",
      " 11  Weekend           25230 non-null  bool          \n",
      " 12  Season            25230 non-null  object        \n",
      " 13  HourAMPM          25230 non-null  object        \n",
      " 14  TimeOfDay         25230 non-null  object        \n",
      "dtypes: bool(1), datetime64[ns](1), int64(1), object(12)\n",
      "memory usage: 2.7+ MB\n"
     ]
    }
   ],
   "source": [
    "df.info()"
   ]
  },
  {
   "cell_type": "markdown",
   "id": "3b43fa11",
   "metadata": {
    "papermill": {
     "duration": 0.005923,
     "end_time": "2025-04-20T01:05:26.081109",
     "exception": false,
     "start_time": "2025-04-20T01:05:26.075186",
     "status": "completed"
    },
    "tags": []
   },
   "source": [
    "### Coordinates"
   ]
  },
  {
   "cell_type": "code",
   "execution_count": 9,
   "id": "93a0dd28",
   "metadata": {
    "execution": {
     "iopub.execute_input": "2025-04-20T01:05:26.094003Z",
     "iopub.status.busy": "2025-04-20T01:05:26.093583Z",
     "iopub.status.idle": "2025-04-20T01:05:26.383488Z",
     "shell.execute_reply": "2025-04-20T01:05:26.382884Z"
    },
    "papermill": {
     "duration": 0.297575,
     "end_time": "2025-04-20T01:05:26.384495",
     "exception": false,
     "start_time": "2025-04-20T01:05:26.086920",
     "status": "completed"
    },
    "tags": []
   },
   "outputs": [
    {
     "name": "stdout",
     "output_type": "stream",
     "text": [
      "Loaded geocode cache.\n",
      "Geocoded  AVON STREET EXT / WOOD DUCK PL: 38.0036209, -78.495344\n"
     ]
    },
    {
     "name": "stdout",
     "output_type": "stream",
     "text": [
      "Geocoded 700 HARRIS ST, 104: 38.035679, -78.48472869999999\n",
      "Geocode cache updated and saved.\n"
     ]
    },
    {
     "data": {
      "text/html": [
       "<div>\n",
       "<style scoped>\n",
       "    .dataframe tbody tr th:only-of-type {\n",
       "        vertical-align: middle;\n",
       "    }\n",
       "\n",
       "    .dataframe tbody tr th {\n",
       "        vertical-align: top;\n",
       "    }\n",
       "\n",
       "    .dataframe thead th {\n",
       "        text-align: right;\n",
       "    }\n",
       "</style>\n",
       "<table border=\"1\" class=\"dataframe\">\n",
       "  <thead>\n",
       "    <tr style=\"text-align: right;\">\n",
       "      <th></th>\n",
       "      <th>RecordID</th>\n",
       "      <th>Offense</th>\n",
       "      <th>IncidentID</th>\n",
       "      <th>BlockNumber</th>\n",
       "      <th>StreetName</th>\n",
       "      <th>Agency</th>\n",
       "      <th>HourReported</th>\n",
       "      <th>ReportingOfficer</th>\n",
       "      <th>Date</th>\n",
       "      <th>DateString</th>\n",
       "      <th>DayOfWeek</th>\n",
       "      <th>Weekend</th>\n",
       "      <th>Season</th>\n",
       "      <th>HourAMPM</th>\n",
       "      <th>TimeOfDay</th>\n",
       "      <th>FullStreet</th>\n",
       "      <th>lat</th>\n",
       "      <th>lon</th>\n",
       "    </tr>\n",
       "  </thead>\n",
       "  <tbody>\n",
       "    <tr>\n",
       "      <th>0</th>\n",
       "      <td>1</td>\n",
       "      <td>Suspicious Activity</td>\n",
       "      <td>202500012456</td>\n",
       "      <td>1500</td>\n",
       "      <td>CARLTON AVE, 17</td>\n",
       "      <td>CPD</td>\n",
       "      <td>2115</td>\n",
       "      <td>Vlasis, Christopher</td>\n",
       "      <td>2025-04-17 21:15:53</td>\n",
       "      <td>2025-04-17 09:15:53 PM</td>\n",
       "      <td>Thursday</td>\n",
       "      <td>False</td>\n",
       "      <td>Spring</td>\n",
       "      <td>09:15 PM</td>\n",
       "      <td>Night</td>\n",
       "      <td>1500 CARLTON AVE, 17</td>\n",
       "      <td>38.020508</td>\n",
       "      <td>-78.465411</td>\n",
       "    </tr>\n",
       "    <tr>\n",
       "      <th>1</th>\n",
       "      <td>2</td>\n",
       "      <td>Assist Citizen - Welfare Check</td>\n",
       "      <td>202500012452</td>\n",
       "      <td>700</td>\n",
       "      <td>PROSPECT AVE, A</td>\n",
       "      <td>CPD</td>\n",
       "      <td>2045</td>\n",
       "      <td>Venereo, Arturo</td>\n",
       "      <td>2025-04-17 20:45:43</td>\n",
       "      <td>2025-04-17 08:45:43 PM</td>\n",
       "      <td>Thursday</td>\n",
       "      <td>False</td>\n",
       "      <td>Spring</td>\n",
       "      <td>08:45 PM</td>\n",
       "      <td>Evening</td>\n",
       "      <td>700 PROSPECT AVE, A</td>\n",
       "      <td>38.024632</td>\n",
       "      <td>-78.494454</td>\n",
       "    </tr>\n",
       "    <tr>\n",
       "      <th>2</th>\n",
       "      <td>3</td>\n",
       "      <td>Misc - Non-Criminal Call</td>\n",
       "      <td>202500012410</td>\n",
       "      <td>500</td>\n",
       "      <td>HARRIS RD</td>\n",
       "      <td>CPD</td>\n",
       "      <td>1606</td>\n",
       "      <td>Moriarty, Thomas</td>\n",
       "      <td>2025-04-17 16:06:13</td>\n",
       "      <td>2025-04-17 04:06:13 PM</td>\n",
       "      <td>Thursday</td>\n",
       "      <td>False</td>\n",
       "      <td>Spring</td>\n",
       "      <td>04:06 PM</td>\n",
       "      <td>Afternoon</td>\n",
       "      <td>500 HARRIS RD</td>\n",
       "      <td>38.015099</td>\n",
       "      <td>-78.503687</td>\n",
       "    </tr>\n",
       "    <tr>\n",
       "      <th>3</th>\n",
       "      <td>4</td>\n",
       "      <td>Larceny - All Other</td>\n",
       "      <td>202500012407</td>\n",
       "      <td>700</td>\n",
       "      <td>PROSPECT AVE, B</td>\n",
       "      <td>CPD</td>\n",
       "      <td>1544</td>\n",
       "      <td>Venereo, Arturo</td>\n",
       "      <td>2025-04-17 15:44:34</td>\n",
       "      <td>2025-04-17 03:44:34 PM</td>\n",
       "      <td>Thursday</td>\n",
       "      <td>False</td>\n",
       "      <td>Spring</td>\n",
       "      <td>03:44 PM</td>\n",
       "      <td>Afternoon</td>\n",
       "      <td>700 PROSPECT AVE, B</td>\n",
       "      <td>38.024675</td>\n",
       "      <td>-78.494326</td>\n",
       "    </tr>\n",
       "    <tr>\n",
       "      <th>4</th>\n",
       "      <td>5</td>\n",
       "      <td>Suspicious Activity</td>\n",
       "      <td>202500012405</td>\n",
       "      <td>900</td>\n",
       "      <td>MONTICELLO AVE</td>\n",
       "      <td>CPD</td>\n",
       "      <td>1538</td>\n",
       "      <td>Bentz, Benjamin</td>\n",
       "      <td>2025-04-17 15:38:55</td>\n",
       "      <td>2025-04-17 03:38:55 PM</td>\n",
       "      <td>Thursday</td>\n",
       "      <td>False</td>\n",
       "      <td>Spring</td>\n",
       "      <td>03:38 PM</td>\n",
       "      <td>Afternoon</td>\n",
       "      <td>900 MONTICELLO AVE</td>\n",
       "      <td>38.022670</td>\n",
       "      <td>-78.475939</td>\n",
       "    </tr>\n",
       "  </tbody>\n",
       "</table>\n",
       "</div>"
      ],
      "text/plain": [
       "   RecordID                         Offense    IncidentID BlockNumber  \\\n",
       "0         1             Suspicious Activity  202500012456        1500   \n",
       "1         2  Assist Citizen - Welfare Check  202500012452         700   \n",
       "2         3        Misc - Non-Criminal Call  202500012410         500   \n",
       "3         4             Larceny - All Other  202500012407         700   \n",
       "4         5             Suspicious Activity  202500012405         900   \n",
       "\n",
       "        StreetName Agency HourReported     ReportingOfficer  \\\n",
       "0  CARLTON AVE, 17    CPD         2115  Vlasis, Christopher   \n",
       "1  PROSPECT AVE, A    CPD         2045      Venereo, Arturo   \n",
       "2        HARRIS RD    CPD         1606     Moriarty, Thomas   \n",
       "3  PROSPECT AVE, B    CPD         1544      Venereo, Arturo   \n",
       "4   MONTICELLO AVE    CPD         1538     Bentz, Benjamin    \n",
       "\n",
       "                 Date              DateString DayOfWeek  Weekend  Season  \\\n",
       "0 2025-04-17 21:15:53  2025-04-17 09:15:53 PM  Thursday    False  Spring   \n",
       "1 2025-04-17 20:45:43  2025-04-17 08:45:43 PM  Thursday    False  Spring   \n",
       "2 2025-04-17 16:06:13  2025-04-17 04:06:13 PM  Thursday    False  Spring   \n",
       "3 2025-04-17 15:44:34  2025-04-17 03:44:34 PM  Thursday    False  Spring   \n",
       "4 2025-04-17 15:38:55  2025-04-17 03:38:55 PM  Thursday    False  Spring   \n",
       "\n",
       "   HourAMPM  TimeOfDay            FullStreet        lat        lon  \n",
       "0  09:15 PM      Night  1500 CARLTON AVE, 17  38.020508 -78.465411  \n",
       "1  08:45 PM    Evening   700 PROSPECT AVE, A  38.024632 -78.494454  \n",
       "2  04:06 PM  Afternoon         500 HARRIS RD  38.015099 -78.503687  \n",
       "3  03:44 PM  Afternoon   700 PROSPECT AVE, B  38.024675 -78.494326  \n",
       "4  03:38 PM  Afternoon    900 MONTICELLO AVE  38.022670 -78.475939  "
      ]
     },
     "execution_count": 9,
     "metadata": {},
     "output_type": "execute_result"
    }
   ],
   "source": [
    "# Combine BlockNumber and StreetName into a full address string\n",
    "df['FullStreet'] = df['BlockNumber'].astype(str) + \" \" + df['StreetName']\n",
    "\n",
    "# --- Step 1: Setup the Google Maps Client and Cache ---\n",
    "gmaps = googlemaps.Client(key=GOOGLE_API_KEY)\n",
    "\n",
    "# Try to load cached geocoding results if available.\n",
    "try:\n",
    "    with open(\"geocode_cache_google.pkl\", \"rb\") as f:\n",
    "        street_coords = pickle.load(f)\n",
    "    print(\"Loaded geocode cache.\")\n",
    "except FileNotFoundError:\n",
    "    street_coords = {}\n",
    "    print(\"No cache found; starting fresh.\")\n",
    "\n",
    "def geocode_address(address):\n",
    "    try:\n",
    "        # Append city and state to help geocoding\n",
    "        result = gmaps.geocode(f\"{address}, Charlottesville, VA\")\n",
    "        if result:\n",
    "            lat = result[0]['geometry']['location']['lat']\n",
    "            lon = result[0]['geometry']['location']['lng']\n",
    "            return lat, lon\n",
    "    except Exception as e:\n",
    "        print(f\"Error geocoding {address}: {e}\")\n",
    "    return None, None\n",
    "\n",
    "# --- Step 2: Geocode Only New Addresses ---\n",
    "unique_addresses = df['FullStreet'].unique()\n",
    "for address in unique_addresses:\n",
    "    if address not in street_coords:\n",
    "        lat, lon = geocode_address(address)\n",
    "        street_coords[address] = (lat, lon)\n",
    "        print(f\"Geocoded {address}: {lat}, {lon}\")\n",
    "\n",
    "# Save the updated cache to disk.\n",
    "with open(\"geocode_cache_google.pkl\", \"wb\") as f:\n",
    "    pickle.dump(street_coords, f)\n",
    "    print(\"Geocode cache updated and saved.\")\n",
    "\n",
    "# --- Step 3: Map Coordinates Back to DataFrame ---\n",
    "df['lat'] = df['FullStreet'].map(lambda s: street_coords.get(s, (None, None))[0])\n",
    "df['lon'] = df['FullStreet'].map(lambda s: street_coords.get(s, (None, None))[1])\n",
    "\n",
    "df.head()"
   ]
  },
  {
   "cell_type": "markdown",
   "id": "3ead8a58",
   "metadata": {
    "papermill": {
     "duration": 0.006335,
     "end_time": "2025-04-20T01:05:26.397471",
     "exception": false,
     "start_time": "2025-04-20T01:05:26.391136",
     "status": "completed"
    },
    "tags": []
   },
   "source": [
    "### Neighborhood"
   ]
  },
  {
   "cell_type": "code",
   "execution_count": 10,
   "id": "7bad70aa",
   "metadata": {
    "execution": {
     "iopub.execute_input": "2025-04-20T01:05:26.410799Z",
     "iopub.status.busy": "2025-04-20T01:05:26.410563Z",
     "iopub.status.idle": "2025-04-20T01:05:26.934008Z",
     "shell.execute_reply": "2025-04-20T01:05:26.933376Z"
    },
    "papermill": {
     "duration": 0.531505,
     "end_time": "2025-04-20T01:05:26.935113",
     "exception": false,
     "start_time": "2025-04-20T01:05:26.403608",
     "status": "completed"
    },
    "tags": []
   },
   "outputs": [
    {
     "name": "stdout",
     "output_type": "stream",
     "text": [
      "Loaded neighborhood cache.\n"
     ]
    },
    {
     "data": {
      "text/html": [
       "<div>\n",
       "<style scoped>\n",
       "    .dataframe tbody tr th:only-of-type {\n",
       "        vertical-align: middle;\n",
       "    }\n",
       "\n",
       "    .dataframe tbody tr th {\n",
       "        vertical-align: top;\n",
       "    }\n",
       "\n",
       "    .dataframe thead th {\n",
       "        text-align: right;\n",
       "    }\n",
       "</style>\n",
       "<table border=\"1\" class=\"dataframe\">\n",
       "  <thead>\n",
       "    <tr style=\"text-align: right;\">\n",
       "      <th></th>\n",
       "      <th>RecordID</th>\n",
       "      <th>Offense</th>\n",
       "      <th>IncidentID</th>\n",
       "      <th>BlockNumber</th>\n",
       "      <th>StreetName</th>\n",
       "      <th>Agency</th>\n",
       "      <th>HourReported</th>\n",
       "      <th>ReportingOfficer</th>\n",
       "      <th>Date</th>\n",
       "      <th>DateString</th>\n",
       "      <th>DayOfWeek</th>\n",
       "      <th>Weekend</th>\n",
       "      <th>Season</th>\n",
       "      <th>HourAMPM</th>\n",
       "      <th>TimeOfDay</th>\n",
       "      <th>FullStreet</th>\n",
       "      <th>lat</th>\n",
       "      <th>lon</th>\n",
       "      <th>neighborhood</th>\n",
       "    </tr>\n",
       "  </thead>\n",
       "  <tbody>\n",
       "    <tr>\n",
       "      <th>0</th>\n",
       "      <td>1</td>\n",
       "      <td>Suspicious Activity</td>\n",
       "      <td>202500012456</td>\n",
       "      <td>1500</td>\n",
       "      <td>CARLTON AVE, 17</td>\n",
       "      <td>CPD</td>\n",
       "      <td>2115</td>\n",
       "      <td>Vlasis, Christopher</td>\n",
       "      <td>2025-04-17 21:15:53</td>\n",
       "      <td>2025-04-17 09:15:53 PM</td>\n",
       "      <td>Thursday</td>\n",
       "      <td>False</td>\n",
       "      <td>Spring</td>\n",
       "      <td>09:15 PM</td>\n",
       "      <td>Night</td>\n",
       "      <td>1500 CARLTON AVE, 17</td>\n",
       "      <td>38.020508</td>\n",
       "      <td>-78.465411</td>\n",
       "      <td>Belmont</td>\n",
       "    </tr>\n",
       "    <tr>\n",
       "      <th>1</th>\n",
       "      <td>2</td>\n",
       "      <td>Assist Citizen - Welfare Check</td>\n",
       "      <td>202500012452</td>\n",
       "      <td>700</td>\n",
       "      <td>PROSPECT AVE, A</td>\n",
       "      <td>CPD</td>\n",
       "      <td>2045</td>\n",
       "      <td>Venereo, Arturo</td>\n",
       "      <td>2025-04-17 20:45:43</td>\n",
       "      <td>2025-04-17 08:45:43 PM</td>\n",
       "      <td>Thursday</td>\n",
       "      <td>False</td>\n",
       "      <td>Spring</td>\n",
       "      <td>08:45 PM</td>\n",
       "      <td>Evening</td>\n",
       "      <td>700 PROSPECT AVE, A</td>\n",
       "      <td>38.024632</td>\n",
       "      <td>-78.494454</td>\n",
       "      <td>Fifeville</td>\n",
       "    </tr>\n",
       "    <tr>\n",
       "      <th>2</th>\n",
       "      <td>3</td>\n",
       "      <td>Misc - Non-Criminal Call</td>\n",
       "      <td>202500012410</td>\n",
       "      <td>500</td>\n",
       "      <td>HARRIS RD</td>\n",
       "      <td>CPD</td>\n",
       "      <td>1606</td>\n",
       "      <td>Moriarty, Thomas</td>\n",
       "      <td>2025-04-17 16:06:13</td>\n",
       "      <td>2025-04-17 04:06:13 PM</td>\n",
       "      <td>Thursday</td>\n",
       "      <td>False</td>\n",
       "      <td>Spring</td>\n",
       "      <td>04:06 PM</td>\n",
       "      <td>Afternoon</td>\n",
       "      <td>500 HARRIS RD</td>\n",
       "      <td>38.015099</td>\n",
       "      <td>-78.503687</td>\n",
       "      <td>Fry's Spring</td>\n",
       "    </tr>\n",
       "    <tr>\n",
       "      <th>3</th>\n",
       "      <td>4</td>\n",
       "      <td>Larceny - All Other</td>\n",
       "      <td>202500012407</td>\n",
       "      <td>700</td>\n",
       "      <td>PROSPECT AVE, B</td>\n",
       "      <td>CPD</td>\n",
       "      <td>1544</td>\n",
       "      <td>Venereo, Arturo</td>\n",
       "      <td>2025-04-17 15:44:34</td>\n",
       "      <td>2025-04-17 03:44:34 PM</td>\n",
       "      <td>Thursday</td>\n",
       "      <td>False</td>\n",
       "      <td>Spring</td>\n",
       "      <td>03:44 PM</td>\n",
       "      <td>Afternoon</td>\n",
       "      <td>700 PROSPECT AVE, B</td>\n",
       "      <td>38.024675</td>\n",
       "      <td>-78.494326</td>\n",
       "      <td>Fifeville</td>\n",
       "    </tr>\n",
       "    <tr>\n",
       "      <th>4</th>\n",
       "      <td>5</td>\n",
       "      <td>Suspicious Activity</td>\n",
       "      <td>202500012405</td>\n",
       "      <td>900</td>\n",
       "      <td>MONTICELLO AVE</td>\n",
       "      <td>CPD</td>\n",
       "      <td>1538</td>\n",
       "      <td>Bentz, Benjamin</td>\n",
       "      <td>2025-04-17 15:38:55</td>\n",
       "      <td>2025-04-17 03:38:55 PM</td>\n",
       "      <td>Thursday</td>\n",
       "      <td>False</td>\n",
       "      <td>Spring</td>\n",
       "      <td>03:38 PM</td>\n",
       "      <td>Afternoon</td>\n",
       "      <td>900 MONTICELLO AVE</td>\n",
       "      <td>38.022670</td>\n",
       "      <td>-78.475939</td>\n",
       "      <td>Belmont</td>\n",
       "    </tr>\n",
       "  </tbody>\n",
       "</table>\n",
       "</div>"
      ],
      "text/plain": [
       "   RecordID                         Offense    IncidentID BlockNumber  \\\n",
       "0         1             Suspicious Activity  202500012456        1500   \n",
       "1         2  Assist Citizen - Welfare Check  202500012452         700   \n",
       "2         3        Misc - Non-Criminal Call  202500012410         500   \n",
       "3         4             Larceny - All Other  202500012407         700   \n",
       "4         5             Suspicious Activity  202500012405         900   \n",
       "\n",
       "        StreetName Agency HourReported     ReportingOfficer  \\\n",
       "0  CARLTON AVE, 17    CPD         2115  Vlasis, Christopher   \n",
       "1  PROSPECT AVE, A    CPD         2045      Venereo, Arturo   \n",
       "2        HARRIS RD    CPD         1606     Moriarty, Thomas   \n",
       "3  PROSPECT AVE, B    CPD         1544      Venereo, Arturo   \n",
       "4   MONTICELLO AVE    CPD         1538     Bentz, Benjamin    \n",
       "\n",
       "                 Date              DateString DayOfWeek  Weekend  Season  \\\n",
       "0 2025-04-17 21:15:53  2025-04-17 09:15:53 PM  Thursday    False  Spring   \n",
       "1 2025-04-17 20:45:43  2025-04-17 08:45:43 PM  Thursday    False  Spring   \n",
       "2 2025-04-17 16:06:13  2025-04-17 04:06:13 PM  Thursday    False  Spring   \n",
       "3 2025-04-17 15:44:34  2025-04-17 03:44:34 PM  Thursday    False  Spring   \n",
       "4 2025-04-17 15:38:55  2025-04-17 03:38:55 PM  Thursday    False  Spring   \n",
       "\n",
       "   HourAMPM  TimeOfDay            FullStreet        lat        lon  \\\n",
       "0  09:15 PM      Night  1500 CARLTON AVE, 17  38.020508 -78.465411   \n",
       "1  08:45 PM    Evening   700 PROSPECT AVE, A  38.024632 -78.494454   \n",
       "2  04:06 PM  Afternoon         500 HARRIS RD  38.015099 -78.503687   \n",
       "3  03:44 PM  Afternoon   700 PROSPECT AVE, B  38.024675 -78.494326   \n",
       "4  03:38 PM  Afternoon    900 MONTICELLO AVE  38.022670 -78.475939   \n",
       "\n",
       "   neighborhood  \n",
       "0       Belmont  \n",
       "1     Fifeville  \n",
       "2  Fry's Spring  \n",
       "3     Fifeville  \n",
       "4       Belmont  "
      ]
     },
     "execution_count": 10,
     "metadata": {},
     "output_type": "execute_result"
    }
   ],
   "source": [
    "# Initialize the Google Maps client.\n",
    "gmaps = googlemaps.Client(key=GOOGLE_API_KEY)\n",
    "\n",
    "# Try to load a persistent neighborhood cache if available.\n",
    "try:\n",
    "    with open(\"neighborhood_cache.pkl\", \"rb\") as f:\n",
    "        neighborhood_cache = pickle.load(f)\n",
    "    print(\"Loaded neighborhood cache.\")\n",
    "except FileNotFoundError:\n",
    "    neighborhood_cache = {}\n",
    "    print(\"No neighborhood cache found; starting fresh.\")\n",
    "\n",
    "def get_neighborhood(lat, lon):\n",
    "    \"\"\"\n",
    "    Reverse geocodes a latitude and longitude to retrieve the neighborhood.\n",
    "    Caches results to speed up subsequent lookups.\n",
    "    \"\"\"\n",
    "    key = (lat, lon)\n",
    "    if key in neighborhood_cache:\n",
    "        return neighborhood_cache[key]\n",
    "    \n",
    "    try:\n",
    "        result = gmaps.reverse_geocode((lat, lon))\n",
    "        if result:\n",
    "            # Look for the 'neighborhood' component in the first result.\n",
    "            for component in result[0]['address_components']:\n",
    "                if 'neighborhood' in component['types']:\n",
    "                    neighborhood = component['long_name']\n",
    "                    neighborhood_cache[key] = neighborhood\n",
    "                    return neighborhood\n",
    "            # If no neighborhood is found, return \"N/A\"\n",
    "            neighborhood_cache[key] = \"N/A\"\n",
    "            return \"N/A\"\n",
    "    except Exception as e:\n",
    "        print(f\"Error getting neighborhood for {lat}, {lon}: {e}\")\n",
    "        return \"N/A\"\n",
    "    \n",
    "    # Pause to respect usage limits.\n",
    "    time.sleep(1)\n",
    "\n",
    "# Example usage: Apply to your DataFrame 'df' that already has 'lat' and 'lon' columns.\n",
    "df['neighborhood'] = df.apply(lambda row: get_neighborhood(row['lat'], row['lon']), axis=1)\n",
    "\n",
    "# Save the updated neighborhood cache.\n",
    "with open(\"neighborhood_cache.pkl\", \"wb\") as f:\n",
    "    pickle.dump(neighborhood_cache, f)\n",
    "\n",
    "df.head()\n"
   ]
  },
  {
   "cell_type": "markdown",
   "id": "1e0486a6",
   "metadata": {
    "papermill": {
     "duration": 0.006583,
     "end_time": "2025-04-20T01:05:26.948503",
     "exception": false,
     "start_time": "2025-04-20T01:05:26.941920",
     "status": "completed"
    },
    "tags": []
   },
   "source": [
    "### Zip"
   ]
  },
  {
   "cell_type": "code",
   "execution_count": 11,
   "id": "2a1d09ac",
   "metadata": {
    "execution": {
     "iopub.execute_input": "2025-04-20T01:05:26.962305Z",
     "iopub.status.busy": "2025-04-20T01:05:26.962031Z",
     "iopub.status.idle": "2025-04-20T01:05:29.681104Z",
     "shell.execute_reply": "2025-04-20T01:05:29.680402Z"
    },
    "papermill": {
     "duration": 2.727292,
     "end_time": "2025-04-20T01:05:29.682164",
     "exception": false,
     "start_time": "2025-04-20T01:05:26.954872",
     "status": "completed"
    },
    "tags": []
   },
   "outputs": [
    {
     "name": "stdout",
     "output_type": "stream",
     "text": [
      "Loaded zip cache.\n"
     ]
    },
    {
     "data": {
      "text/html": [
       "<div>\n",
       "<style scoped>\n",
       "    .dataframe tbody tr th:only-of-type {\n",
       "        vertical-align: middle;\n",
       "    }\n",
       "\n",
       "    .dataframe tbody tr th {\n",
       "        vertical-align: top;\n",
       "    }\n",
       "\n",
       "    .dataframe thead th {\n",
       "        text-align: right;\n",
       "    }\n",
       "</style>\n",
       "<table border=\"1\" class=\"dataframe\">\n",
       "  <thead>\n",
       "    <tr style=\"text-align: right;\">\n",
       "      <th></th>\n",
       "      <th>RecordID</th>\n",
       "      <th>Offense</th>\n",
       "      <th>IncidentID</th>\n",
       "      <th>BlockNumber</th>\n",
       "      <th>StreetName</th>\n",
       "      <th>Agency</th>\n",
       "      <th>HourReported</th>\n",
       "      <th>ReportingOfficer</th>\n",
       "      <th>Date</th>\n",
       "      <th>DateString</th>\n",
       "      <th>DayOfWeek</th>\n",
       "      <th>Weekend</th>\n",
       "      <th>Season</th>\n",
       "      <th>HourAMPM</th>\n",
       "      <th>TimeOfDay</th>\n",
       "      <th>FullStreet</th>\n",
       "      <th>lat</th>\n",
       "      <th>lon</th>\n",
       "      <th>neighborhood</th>\n",
       "      <th>zip</th>\n",
       "    </tr>\n",
       "  </thead>\n",
       "  <tbody>\n",
       "    <tr>\n",
       "      <th>0</th>\n",
       "      <td>1</td>\n",
       "      <td>Suspicious Activity</td>\n",
       "      <td>202500012456</td>\n",
       "      <td>1500</td>\n",
       "      <td>CARLTON AVE, 17</td>\n",
       "      <td>CPD</td>\n",
       "      <td>2115</td>\n",
       "      <td>Vlasis, Christopher</td>\n",
       "      <td>2025-04-17 21:15:53</td>\n",
       "      <td>2025-04-17 09:15:53 PM</td>\n",
       "      <td>Thursday</td>\n",
       "      <td>False</td>\n",
       "      <td>Spring</td>\n",
       "      <td>09:15 PM</td>\n",
       "      <td>Night</td>\n",
       "      <td>1500 CARLTON AVE, 17</td>\n",
       "      <td>38.020508</td>\n",
       "      <td>-78.465411</td>\n",
       "      <td>Belmont</td>\n",
       "      <td>22902</td>\n",
       "    </tr>\n",
       "    <tr>\n",
       "      <th>1</th>\n",
       "      <td>2</td>\n",
       "      <td>Assist Citizen - Welfare Check</td>\n",
       "      <td>202500012452</td>\n",
       "      <td>700</td>\n",
       "      <td>PROSPECT AVE, A</td>\n",
       "      <td>CPD</td>\n",
       "      <td>2045</td>\n",
       "      <td>Venereo, Arturo</td>\n",
       "      <td>2025-04-17 20:45:43</td>\n",
       "      <td>2025-04-17 08:45:43 PM</td>\n",
       "      <td>Thursday</td>\n",
       "      <td>False</td>\n",
       "      <td>Spring</td>\n",
       "      <td>08:45 PM</td>\n",
       "      <td>Evening</td>\n",
       "      <td>700 PROSPECT AVE, A</td>\n",
       "      <td>38.024632</td>\n",
       "      <td>-78.494454</td>\n",
       "      <td>Fifeville</td>\n",
       "      <td>22903</td>\n",
       "    </tr>\n",
       "    <tr>\n",
       "      <th>2</th>\n",
       "      <td>3</td>\n",
       "      <td>Misc - Non-Criminal Call</td>\n",
       "      <td>202500012410</td>\n",
       "      <td>500</td>\n",
       "      <td>HARRIS RD</td>\n",
       "      <td>CPD</td>\n",
       "      <td>1606</td>\n",
       "      <td>Moriarty, Thomas</td>\n",
       "      <td>2025-04-17 16:06:13</td>\n",
       "      <td>2025-04-17 04:06:13 PM</td>\n",
       "      <td>Thursday</td>\n",
       "      <td>False</td>\n",
       "      <td>Spring</td>\n",
       "      <td>04:06 PM</td>\n",
       "      <td>Afternoon</td>\n",
       "      <td>500 HARRIS RD</td>\n",
       "      <td>38.015099</td>\n",
       "      <td>-78.503687</td>\n",
       "      <td>Fry's Spring</td>\n",
       "      <td>22903</td>\n",
       "    </tr>\n",
       "    <tr>\n",
       "      <th>3</th>\n",
       "      <td>4</td>\n",
       "      <td>Larceny - All Other</td>\n",
       "      <td>202500012407</td>\n",
       "      <td>700</td>\n",
       "      <td>PROSPECT AVE, B</td>\n",
       "      <td>CPD</td>\n",
       "      <td>1544</td>\n",
       "      <td>Venereo, Arturo</td>\n",
       "      <td>2025-04-17 15:44:34</td>\n",
       "      <td>2025-04-17 03:44:34 PM</td>\n",
       "      <td>Thursday</td>\n",
       "      <td>False</td>\n",
       "      <td>Spring</td>\n",
       "      <td>03:44 PM</td>\n",
       "      <td>Afternoon</td>\n",
       "      <td>700 PROSPECT AVE, B</td>\n",
       "      <td>38.024675</td>\n",
       "      <td>-78.494326</td>\n",
       "      <td>Fifeville</td>\n",
       "      <td>22903</td>\n",
       "    </tr>\n",
       "    <tr>\n",
       "      <th>4</th>\n",
       "      <td>5</td>\n",
       "      <td>Suspicious Activity</td>\n",
       "      <td>202500012405</td>\n",
       "      <td>900</td>\n",
       "      <td>MONTICELLO AVE</td>\n",
       "      <td>CPD</td>\n",
       "      <td>1538</td>\n",
       "      <td>Bentz, Benjamin</td>\n",
       "      <td>2025-04-17 15:38:55</td>\n",
       "      <td>2025-04-17 03:38:55 PM</td>\n",
       "      <td>Thursday</td>\n",
       "      <td>False</td>\n",
       "      <td>Spring</td>\n",
       "      <td>03:38 PM</td>\n",
       "      <td>Afternoon</td>\n",
       "      <td>900 MONTICELLO AVE</td>\n",
       "      <td>38.022670</td>\n",
       "      <td>-78.475939</td>\n",
       "      <td>Belmont</td>\n",
       "      <td>22903</td>\n",
       "    </tr>\n",
       "  </tbody>\n",
       "</table>\n",
       "</div>"
      ],
      "text/plain": [
       "   RecordID                         Offense    IncidentID BlockNumber  \\\n",
       "0         1             Suspicious Activity  202500012456        1500   \n",
       "1         2  Assist Citizen - Welfare Check  202500012452         700   \n",
       "2         3        Misc - Non-Criminal Call  202500012410         500   \n",
       "3         4             Larceny - All Other  202500012407         700   \n",
       "4         5             Suspicious Activity  202500012405         900   \n",
       "\n",
       "        StreetName Agency HourReported     ReportingOfficer  \\\n",
       "0  CARLTON AVE, 17    CPD         2115  Vlasis, Christopher   \n",
       "1  PROSPECT AVE, A    CPD         2045      Venereo, Arturo   \n",
       "2        HARRIS RD    CPD         1606     Moriarty, Thomas   \n",
       "3  PROSPECT AVE, B    CPD         1544      Venereo, Arturo   \n",
       "4   MONTICELLO AVE    CPD         1538     Bentz, Benjamin    \n",
       "\n",
       "                 Date              DateString DayOfWeek  Weekend  Season  \\\n",
       "0 2025-04-17 21:15:53  2025-04-17 09:15:53 PM  Thursday    False  Spring   \n",
       "1 2025-04-17 20:45:43  2025-04-17 08:45:43 PM  Thursday    False  Spring   \n",
       "2 2025-04-17 16:06:13  2025-04-17 04:06:13 PM  Thursday    False  Spring   \n",
       "3 2025-04-17 15:44:34  2025-04-17 03:44:34 PM  Thursday    False  Spring   \n",
       "4 2025-04-17 15:38:55  2025-04-17 03:38:55 PM  Thursday    False  Spring   \n",
       "\n",
       "   HourAMPM  TimeOfDay            FullStreet        lat        lon  \\\n",
       "0  09:15 PM      Night  1500 CARLTON AVE, 17  38.020508 -78.465411   \n",
       "1  08:45 PM    Evening   700 PROSPECT AVE, A  38.024632 -78.494454   \n",
       "2  04:06 PM  Afternoon         500 HARRIS RD  38.015099 -78.503687   \n",
       "3  03:44 PM  Afternoon   700 PROSPECT AVE, B  38.024675 -78.494326   \n",
       "4  03:38 PM  Afternoon    900 MONTICELLO AVE  38.022670 -78.475939   \n",
       "\n",
       "   neighborhood    zip  \n",
       "0       Belmont  22902  \n",
       "1     Fifeville  22903  \n",
       "2  Fry's Spring  22903  \n",
       "3     Fifeville  22903  \n",
       "4       Belmont  22903  "
      ]
     },
     "execution_count": 11,
     "metadata": {},
     "output_type": "execute_result"
    }
   ],
   "source": [
    "# Initialize the geocoder.\n",
    "geolocator = Nominatim(user_agent=\"zip_lookup\")\n",
    "\n",
    "# Try to load a persistent ZIP cache if available.\n",
    "try:\n",
    "    with open(\"zip_cache.pkl\", \"rb\") as f:\n",
    "        zip_cache = pickle.load(f)\n",
    "    print(\"Loaded zip cache.\")\n",
    "except FileNotFoundError:\n",
    "    zip_cache = {}\n",
    "    print(\"No zip cache found; starting fresh.\")\n",
    "\n",
    "def get_zip(lat, lon):\n",
    "    \"\"\"\n",
    "    Reverse geocodes a latitude and longitude to retrieve the ZIP code.\n",
    "    Caches results to speed up subsequent lookups.\n",
    "    \"\"\"\n",
    "    key = (lat, lon)\n",
    "    if key in zip_cache:\n",
    "        return zip_cache[key]\n",
    "    \n",
    "    try:\n",
    "        location = geolocator.reverse((lat, lon), exactly_one=True, timeout=10)\n",
    "        address = location.raw.get('address', {})\n",
    "        postal_code = address.get('postcode', \"N/A\")\n",
    "    except Exception as e:\n",
    "        print(f\"Error getting ZIP for {lat}, {lon}: {e}\")\n",
    "        postal_code = \"N/A\"\n",
    "    \n",
    "    zip_cache[key] = postal_code\n",
    "    # Pause to respect the usage policy.\n",
    "    time.sleep(1)\n",
    "    return postal_code\n",
    "\n",
    "# Apply the function to each row in the DataFrame.\n",
    "df['zip'] = df.apply(lambda row: get_zip(row['lat'], row['lon']), axis=1)\n",
    "\n",
    "# Save the updated ZIP cache.\n",
    "with open(\"zip_cache.pkl\", \"wb\") as f:\n",
    "    pickle.dump(zip_cache, f)\n",
    "\n",
    "df.head()\n"
   ]
  },
  {
   "cell_type": "code",
   "execution_count": 12,
   "id": "81bb284d",
   "metadata": {
    "execution": {
     "iopub.execute_input": "2025-04-20T01:05:29.697044Z",
     "iopub.status.busy": "2025-04-20T01:05:29.696645Z",
     "iopub.status.idle": "2025-04-20T01:05:29.724835Z",
     "shell.execute_reply": "2025-04-20T01:05:29.724293Z"
    },
    "papermill": {
     "duration": 0.036668,
     "end_time": "2025-04-20T01:05:29.725846",
     "exception": false,
     "start_time": "2025-04-20T01:05:29.689178",
     "status": "completed"
    },
    "tags": []
   },
   "outputs": [
    {
     "name": "stdout",
     "output_type": "stream",
     "text": [
      "                  MissingCount  MissingPercentage\n",
      "RecordID                     0               0.00\n",
      "Offense                      0               0.00\n",
      "IncidentID                   0               0.00\n",
      "BlockNumber                  0               0.00\n",
      "StreetName                   0               0.00\n",
      "Agency                       0               0.00\n",
      "HourReported                 0               0.00\n",
      "ReportingOfficer            17               0.07\n",
      "Date                         0               0.00\n",
      "DateString                   0               0.00\n",
      "DayOfWeek                    0               0.00\n",
      "Weekend                      0               0.00\n",
      "Season                       0               0.00\n",
      "HourAMPM                     0               0.00\n",
      "TimeOfDay                    0               0.00\n",
      "FullStreet                   0               0.00\n",
      "lat                          0               0.00\n",
      "lon                          0               0.00\n",
      "neighborhood                 0               0.00\n",
      "zip                          0               0.00\n"
     ]
    }
   ],
   "source": [
    "missing_info = missing_percentage(df)\n",
    "print(missing_info)\n"
   ]
  },
  {
   "cell_type": "code",
   "execution_count": 13,
   "id": "d6612ee9",
   "metadata": {
    "execution": {
     "iopub.execute_input": "2025-04-20T01:05:29.740791Z",
     "iopub.status.busy": "2025-04-20T01:05:29.740369Z",
     "iopub.status.idle": "2025-04-20T01:05:29.770668Z",
     "shell.execute_reply": "2025-04-20T01:05:29.770016Z"
    },
    "papermill": {
     "duration": 0.038857,
     "end_time": "2025-04-20T01:05:29.771746",
     "exception": false,
     "start_time": "2025-04-20T01:05:29.732889",
     "status": "completed"
    },
    "tags": []
   },
   "outputs": [
    {
     "name": "stdout",
     "output_type": "stream",
     "text": [
      "<class 'pandas.core.frame.DataFrame'>\n",
      "RangeIndex: 25230 entries, 0 to 25229\n",
      "Data columns (total 20 columns):\n",
      " #   Column            Non-Null Count  Dtype         \n",
      "---  ------            --------------  -----         \n",
      " 0   RecordID          25230 non-null  int64         \n",
      " 1   Offense           25230 non-null  object        \n",
      " 2   IncidentID        25230 non-null  object        \n",
      " 3   BlockNumber       25230 non-null  object        \n",
      " 4   StreetName        25230 non-null  object        \n",
      " 5   Agency            25230 non-null  object        \n",
      " 6   HourReported      25230 non-null  object        \n",
      " 7   ReportingOfficer  25213 non-null  object        \n",
      " 8   Date              25230 non-null  datetime64[ns]\n",
      " 9   DateString        25230 non-null  object        \n",
      " 10  DayOfWeek         25230 non-null  object        \n",
      " 11  Weekend           25230 non-null  bool          \n",
      " 12  Season            25230 non-null  object        \n",
      " 13  HourAMPM          25230 non-null  object        \n",
      " 14  TimeOfDay         25230 non-null  object        \n",
      " 15  FullStreet        25230 non-null  object        \n",
      " 16  lat               25230 non-null  float64       \n",
      " 17  lon               25230 non-null  float64       \n",
      " 18  neighborhood      25230 non-null  object        \n",
      " 19  zip               25230 non-null  object        \n",
      "dtypes: bool(1), datetime64[ns](1), float64(2), int64(1), object(15)\n",
      "memory usage: 3.7+ MB\n"
     ]
    }
   ],
   "source": [
    "df.info()"
   ]
  },
  {
   "cell_type": "code",
   "execution_count": 14,
   "id": "a862cdfd",
   "metadata": {
    "execution": {
     "iopub.execute_input": "2025-04-20T01:05:29.787454Z",
     "iopub.status.busy": "2025-04-20T01:05:29.786894Z",
     "iopub.status.idle": "2025-04-20T01:05:29.836479Z",
     "shell.execute_reply": "2025-04-20T01:05:29.835791Z"
    },
    "papermill": {
     "duration": 0.058461,
     "end_time": "2025-04-20T01:05:29.837568",
     "exception": false,
     "start_time": "2025-04-20T01:05:29.779107",
     "status": "completed"
    },
    "tags": []
   },
   "outputs": [
    {
     "data": {
      "text/html": [
       "<div>\n",
       "<style scoped>\n",
       "    .dataframe tbody tr th:only-of-type {\n",
       "        vertical-align: middle;\n",
       "    }\n",
       "\n",
       "    .dataframe tbody tr th {\n",
       "        vertical-align: top;\n",
       "    }\n",
       "\n",
       "    .dataframe thead th {\n",
       "        text-align: right;\n",
       "    }\n",
       "</style>\n",
       "<table border=\"1\" class=\"dataframe\">\n",
       "  <thead>\n",
       "    <tr style=\"text-align: right;\">\n",
       "      <th></th>\n",
       "      <th>RecordID</th>\n",
       "      <th>Offense</th>\n",
       "      <th>IncidentID</th>\n",
       "      <th>Agency</th>\n",
       "      <th>ReportingOfficer</th>\n",
       "      <th>Date</th>\n",
       "      <th>DayOfWeek</th>\n",
       "      <th>Weekend</th>\n",
       "      <th>Season</th>\n",
       "      <th>TimeOfDay</th>\n",
       "      <th>FullStreet</th>\n",
       "      <th>lat</th>\n",
       "      <th>lon</th>\n",
       "      <th>neighborhood</th>\n",
       "      <th>zip</th>\n",
       "    </tr>\n",
       "  </thead>\n",
       "  <tbody>\n",
       "    <tr>\n",
       "      <th>0</th>\n",
       "      <td>1</td>\n",
       "      <td>Suspicious Activity</td>\n",
       "      <td>202500012456</td>\n",
       "      <td>CPD</td>\n",
       "      <td>Vlasis, Christopher</td>\n",
       "      <td>2025-04-17 21:15:53</td>\n",
       "      <td>Thursday</td>\n",
       "      <td>False</td>\n",
       "      <td>Spring</td>\n",
       "      <td>Night</td>\n",
       "      <td>1500 CARLTON AVE, 17</td>\n",
       "      <td>38.020508</td>\n",
       "      <td>-78.465411</td>\n",
       "      <td>Belmont</td>\n",
       "      <td>22902</td>\n",
       "    </tr>\n",
       "    <tr>\n",
       "      <th>1</th>\n",
       "      <td>2</td>\n",
       "      <td>Assist Citizen - Welfare Check</td>\n",
       "      <td>202500012452</td>\n",
       "      <td>CPD</td>\n",
       "      <td>Venereo, Arturo</td>\n",
       "      <td>2025-04-17 20:45:43</td>\n",
       "      <td>Thursday</td>\n",
       "      <td>False</td>\n",
       "      <td>Spring</td>\n",
       "      <td>Evening</td>\n",
       "      <td>700 PROSPECT AVE, A</td>\n",
       "      <td>38.024632</td>\n",
       "      <td>-78.494454</td>\n",
       "      <td>Fifeville</td>\n",
       "      <td>22903</td>\n",
       "    </tr>\n",
       "    <tr>\n",
       "      <th>2</th>\n",
       "      <td>3</td>\n",
       "      <td>Misc - Non-Criminal Call</td>\n",
       "      <td>202500012410</td>\n",
       "      <td>CPD</td>\n",
       "      <td>Moriarty, Thomas</td>\n",
       "      <td>2025-04-17 16:06:13</td>\n",
       "      <td>Thursday</td>\n",
       "      <td>False</td>\n",
       "      <td>Spring</td>\n",
       "      <td>Afternoon</td>\n",
       "      <td>500 HARRIS RD</td>\n",
       "      <td>38.015099</td>\n",
       "      <td>-78.503687</td>\n",
       "      <td>Fry's Spring</td>\n",
       "      <td>22903</td>\n",
       "    </tr>\n",
       "    <tr>\n",
       "      <th>3</th>\n",
       "      <td>4</td>\n",
       "      <td>Larceny - All Other</td>\n",
       "      <td>202500012407</td>\n",
       "      <td>CPD</td>\n",
       "      <td>Venereo, Arturo</td>\n",
       "      <td>2025-04-17 15:44:34</td>\n",
       "      <td>Thursday</td>\n",
       "      <td>False</td>\n",
       "      <td>Spring</td>\n",
       "      <td>Afternoon</td>\n",
       "      <td>700 PROSPECT AVE, B</td>\n",
       "      <td>38.024675</td>\n",
       "      <td>-78.494326</td>\n",
       "      <td>Fifeville</td>\n",
       "      <td>22903</td>\n",
       "    </tr>\n",
       "    <tr>\n",
       "      <th>4</th>\n",
       "      <td>5</td>\n",
       "      <td>Suspicious Activity</td>\n",
       "      <td>202500012405</td>\n",
       "      <td>CPD</td>\n",
       "      <td>Bentz, Benjamin</td>\n",
       "      <td>2025-04-17 15:38:55</td>\n",
       "      <td>Thursday</td>\n",
       "      <td>False</td>\n",
       "      <td>Spring</td>\n",
       "      <td>Afternoon</td>\n",
       "      <td>900 MONTICELLO AVE</td>\n",
       "      <td>38.022670</td>\n",
       "      <td>-78.475939</td>\n",
       "      <td>Belmont</td>\n",
       "      <td>22903</td>\n",
       "    </tr>\n",
       "  </tbody>\n",
       "</table>\n",
       "</div>"
      ],
      "text/plain": [
       "   RecordID                         Offense    IncidentID Agency  \\\n",
       "0         1             Suspicious Activity  202500012456    CPD   \n",
       "1         2  Assist Citizen - Welfare Check  202500012452    CPD   \n",
       "2         3        Misc - Non-Criminal Call  202500012410    CPD   \n",
       "3         4             Larceny - All Other  202500012407    CPD   \n",
       "4         5             Suspicious Activity  202500012405    CPD   \n",
       "\n",
       "      ReportingOfficer                Date DayOfWeek  Weekend  Season  \\\n",
       "0  Vlasis, Christopher 2025-04-17 21:15:53  Thursday    False  Spring   \n",
       "1      Venereo, Arturo 2025-04-17 20:45:43  Thursday    False  Spring   \n",
       "2     Moriarty, Thomas 2025-04-17 16:06:13  Thursday    False  Spring   \n",
       "3      Venereo, Arturo 2025-04-17 15:44:34  Thursday    False  Spring   \n",
       "4     Bentz, Benjamin  2025-04-17 15:38:55  Thursday    False  Spring   \n",
       "\n",
       "   TimeOfDay            FullStreet        lat        lon  neighborhood    zip  \n",
       "0      Night  1500 CARLTON AVE, 17  38.020508 -78.465411       Belmont  22902  \n",
       "1    Evening   700 PROSPECT AVE, A  38.024632 -78.494454     Fifeville  22903  \n",
       "2  Afternoon         500 HARRIS RD  38.015099 -78.503687  Fry's Spring  22903  \n",
       "3  Afternoon   700 PROSPECT AVE, B  38.024675 -78.494326     Fifeville  22903  \n",
       "4  Afternoon    900 MONTICELLO AVE  38.022670 -78.475939       Belmont  22903  "
      ]
     },
     "execution_count": 14,
     "metadata": {},
     "output_type": "execute_result"
    }
   ],
   "source": [
    "# Now drop the original BlockNumber and StreetName columns\n",
    "df.drop(columns=['BlockNumber', 'StreetName','HourAMPM','HourReported','DateString'], inplace=True)\n",
    "df[\"zip\"] = df[\"zip\"].astype(str)\n",
    "\n",
    "# Fill all missing values in the DataFrame with \"N/A\"\n",
    "df.replace({None: \"N/A\", np.nan: \"N/A\", \"\": \"N/A\"}, inplace=True)\n",
    "df.head()"
   ]
  },
  {
   "cell_type": "code",
   "execution_count": 15,
   "id": "0a86c304",
   "metadata": {
    "execution": {
     "iopub.execute_input": "2025-04-20T01:05:29.853341Z",
     "iopub.status.busy": "2025-04-20T01:05:29.853058Z",
     "iopub.status.idle": "2025-04-20T01:05:29.870658Z",
     "shell.execute_reply": "2025-04-20T01:05:29.869989Z"
    },
    "papermill": {
     "duration": 0.026632,
     "end_time": "2025-04-20T01:05:29.871716",
     "exception": false,
     "start_time": "2025-04-20T01:05:29.845084",
     "status": "completed"
    },
    "tags": []
   },
   "outputs": [
    {
     "name": "stdout",
     "output_type": "stream",
     "text": [
      "                  MissingCount  MissingPercentage\n",
      "RecordID                     0                0.0\n",
      "Offense                      0                0.0\n",
      "IncidentID                   0                0.0\n",
      "Agency                       0                0.0\n",
      "ReportingOfficer             0                0.0\n",
      "Date                         0                0.0\n",
      "DayOfWeek                    0                0.0\n",
      "Weekend                      0                0.0\n",
      "Season                       0                0.0\n",
      "TimeOfDay                    0                0.0\n",
      "FullStreet                   0                0.0\n",
      "lat                          0                0.0\n",
      "lon                          0                0.0\n",
      "neighborhood                 0                0.0\n",
      "zip                          0                0.0\n"
     ]
    }
   ],
   "source": [
    "missing_info = missing_percentage(df)\n",
    "print(missing_info)"
   ]
  },
  {
   "cell_type": "code",
   "execution_count": 16,
   "id": "fdc86056",
   "metadata": {
    "execution": {
     "iopub.execute_input": "2025-04-20T01:05:29.887389Z",
     "iopub.status.busy": "2025-04-20T01:05:29.886967Z",
     "iopub.status.idle": "2025-04-20T01:05:29.891459Z",
     "shell.execute_reply": "2025-04-20T01:05:29.890819Z"
    },
    "papermill": {
     "duration": 0.013492,
     "end_time": "2025-04-20T01:05:29.892547",
     "exception": false,
     "start_time": "2025-04-20T01:05:29.879055",
     "status": "completed"
    },
    "tags": []
   },
   "outputs": [
    {
     "data": {
      "text/plain": [
       "Index(['RecordID', 'Offense', 'IncidentID', 'Agency', 'ReportingOfficer',\n",
       "       'Date', 'DayOfWeek', 'Weekend', 'Season', 'TimeOfDay', 'FullStreet',\n",
       "       'lat', 'lon', 'neighborhood', 'zip'],\n",
       "      dtype='object')"
      ]
     },
     "execution_count": 16,
     "metadata": {},
     "output_type": "execute_result"
    }
   ],
   "source": [
    "df.columns"
   ]
  },
  {
   "cell_type": "code",
   "execution_count": 17,
   "id": "92057061",
   "metadata": {
    "execution": {
     "iopub.execute_input": "2025-04-20T01:05:29.908196Z",
     "iopub.status.busy": "2025-04-20T01:05:29.907876Z",
     "iopub.status.idle": "2025-04-20T01:05:29.928562Z",
     "shell.execute_reply": "2025-04-20T01:05:29.927997Z"
    },
    "papermill": {
     "duration": 0.029656,
     "end_time": "2025-04-20T01:05:29.929552",
     "exception": false,
     "start_time": "2025-04-20T01:05:29.899896",
     "status": "completed"
    },
    "tags": []
   },
   "outputs": [
    {
     "name": "stdout",
     "output_type": "stream",
     "text": [
      "<class 'pandas.core.frame.DataFrame'>\n",
      "RangeIndex: 25230 entries, 0 to 25229\n",
      "Data columns (total 15 columns):\n",
      " #   Column            Non-Null Count  Dtype         \n",
      "---  ------            --------------  -----         \n",
      " 0   RecordID          25230 non-null  int64         \n",
      " 1   Offense           25230 non-null  object        \n",
      " 2   IncidentID        25230 non-null  object        \n",
      " 3   Agency            25230 non-null  object        \n",
      " 4   ReportingOfficer  25230 non-null  object        \n",
      " 5   Date              25230 non-null  datetime64[ns]\n",
      " 6   DayOfWeek         25230 non-null  object        \n",
      " 7   Weekend           25230 non-null  bool          \n",
      " 8   Season            25230 non-null  object        \n",
      " 9   TimeOfDay         25230 non-null  object        \n",
      " 10  FullStreet        25230 non-null  object        \n",
      " 11  lat               25230 non-null  float64       \n",
      " 12  lon               25230 non-null  float64       \n",
      " 13  neighborhood      25230 non-null  object        \n",
      " 14  zip               25230 non-null  object        \n",
      "dtypes: bool(1), datetime64[ns](1), float64(2), int64(1), object(10)\n",
      "memory usage: 2.7+ MB\n"
     ]
    }
   ],
   "source": [
    "df.info()"
   ]
  },
  {
   "cell_type": "markdown",
   "id": "10ffca76",
   "metadata": {
    "papermill": {
     "duration": 0.007245,
     "end_time": "2025-04-20T01:05:29.944317",
     "exception": false,
     "start_time": "2025-04-20T01:05:29.937072",
     "status": "completed"
    },
    "tags": []
   },
   "source": [
    "### Export Clean Data"
   ]
  },
  {
   "cell_type": "code",
   "execution_count": 18,
   "id": "7a455082",
   "metadata": {
    "execution": {
     "iopub.execute_input": "2025-04-20T01:05:29.960252Z",
     "iopub.status.busy": "2025-04-20T01:05:29.959849Z",
     "iopub.status.idle": "2025-04-20T01:05:39.385102Z",
     "shell.execute_reply": "2025-04-20T01:05:39.384475Z"
    },
    "papermill": {
     "duration": 9.434311,
     "end_time": "2025-04-20T01:05:39.386114",
     "exception": false,
     "start_time": "2025-04-20T01:05:29.951803",
     "status": "completed"
    },
    "tags": []
   },
   "outputs": [
    {
     "name": "stdout",
     "output_type": "stream",
     "text": [
      "Project Root: /home/runner/work/crime-data/crime-data\n"
     ]
    },
    {
     "name": "stdout",
     "output_type": "stream",
     "text": [
      "Data saved to: /home/runner/work/crime-data/crime-data/data/charlottesville_crime_incidents.csv\n"
     ]
    },
    {
     "name": "stdout",
     "output_type": "stream",
     "text": [
      "Excel saved to: /home/runner/work/crime-data/crime-data/data/charlottesville_crime_incidents.xlsx\n"
     ]
    }
   ],
   "source": [
    "# Determine the project root (assuming papermill is run from the repository root)\n",
    "project_root = os.getcwd()\n",
    "print(\"Project Root:\", project_root)\n",
    "\n",
    "# Set the data directory within the project root\n",
    "data_dir = os.path.join(project_root, \"data\")\n",
    "\n",
    "# Ensure the \"data\" directory exists (create it if it doesn't)\n",
    "if not os.path.exists(data_dir):\n",
    "    os.makedirs(data_dir)\n",
    "\n",
    "# Export the DataFrame to CSV in the \"data\" folder located in the project root\n",
    "csv_path = os.path.join(data_dir, \"charlottesville_crime_incidents.csv\")\n",
    "df.to_csv(csv_path, index=False)\n",
    "print(\"Data saved to:\", csv_path)\n",
    "\n",
    "# Construct the path to your Excel file\n",
    "excel_path = os.path.join(data_dir, \"charlottesville_crime_incidents.xlsx\")\n",
    "\n",
    "# Export the DataFrame to Excel\n",
    "df.to_excel(excel_path, index=False)\n",
    "print(\"Excel saved to:\", excel_path)\n"
   ]
  },
  {
   "cell_type": "markdown",
   "id": "15557505",
   "metadata": {
    "papermill": {
     "duration": 0.0076,
     "end_time": "2025-04-20T01:05:39.401643",
     "exception": false,
     "start_time": "2025-04-20T01:05:39.394043",
     "status": "completed"
    },
    "tags": []
   },
   "source": [
    "## Predictive Analytics"
   ]
  },
  {
   "cell_type": "code",
   "execution_count": 19,
   "id": "3e8a855b",
   "metadata": {
    "execution": {
     "iopub.execute_input": "2025-04-20T01:05:39.442968Z",
     "iopub.status.busy": "2025-04-20T01:05:39.442336Z",
     "iopub.status.idle": "2025-04-20T01:05:39.454398Z",
     "shell.execute_reply": "2025-04-20T01:05:39.453819Z"
    },
    "papermill": {
     "duration": 0.02186,
     "end_time": "2025-04-20T01:05:39.455378",
     "exception": false,
     "start_time": "2025-04-20T01:05:39.433518",
     "status": "completed"
    },
    "tags": []
   },
   "outputs": [
    {
     "data": {
      "text/html": [
       "<div>\n",
       "<style scoped>\n",
       "    .dataframe tbody tr th:only-of-type {\n",
       "        vertical-align: middle;\n",
       "    }\n",
       "\n",
       "    .dataframe tbody tr th {\n",
       "        vertical-align: top;\n",
       "    }\n",
       "\n",
       "    .dataframe thead th {\n",
       "        text-align: right;\n",
       "    }\n",
       "</style>\n",
       "<table border=\"1\" class=\"dataframe\">\n",
       "  <thead>\n",
       "    <tr style=\"text-align: right;\">\n",
       "      <th></th>\n",
       "      <th>RecordID</th>\n",
       "      <th>Offense</th>\n",
       "      <th>IncidentID</th>\n",
       "      <th>Agency</th>\n",
       "      <th>ReportingOfficer</th>\n",
       "      <th>Date</th>\n",
       "      <th>DayOfWeek</th>\n",
       "      <th>Weekend</th>\n",
       "      <th>Season</th>\n",
       "      <th>TimeOfDay</th>\n",
       "      <th>FullStreet</th>\n",
       "      <th>lat</th>\n",
       "      <th>lon</th>\n",
       "      <th>neighborhood</th>\n",
       "      <th>zip</th>\n",
       "    </tr>\n",
       "  </thead>\n",
       "  <tbody>\n",
       "    <tr>\n",
       "      <th>0</th>\n",
       "      <td>1</td>\n",
       "      <td>Suspicious Activity</td>\n",
       "      <td>202500012456</td>\n",
       "      <td>CPD</td>\n",
       "      <td>Vlasis, Christopher</td>\n",
       "      <td>2025-04-17 21:15:53</td>\n",
       "      <td>Thursday</td>\n",
       "      <td>False</td>\n",
       "      <td>Spring</td>\n",
       "      <td>Night</td>\n",
       "      <td>1500 CARLTON AVE, 17</td>\n",
       "      <td>38.020508</td>\n",
       "      <td>-78.465411</td>\n",
       "      <td>Belmont</td>\n",
       "      <td>22902</td>\n",
       "    </tr>\n",
       "    <tr>\n",
       "      <th>1</th>\n",
       "      <td>2</td>\n",
       "      <td>Assist Citizen - Welfare Check</td>\n",
       "      <td>202500012452</td>\n",
       "      <td>CPD</td>\n",
       "      <td>Venereo, Arturo</td>\n",
       "      <td>2025-04-17 20:45:43</td>\n",
       "      <td>Thursday</td>\n",
       "      <td>False</td>\n",
       "      <td>Spring</td>\n",
       "      <td>Evening</td>\n",
       "      <td>700 PROSPECT AVE, A</td>\n",
       "      <td>38.024632</td>\n",
       "      <td>-78.494454</td>\n",
       "      <td>Fifeville</td>\n",
       "      <td>22903</td>\n",
       "    </tr>\n",
       "    <tr>\n",
       "      <th>2</th>\n",
       "      <td>3</td>\n",
       "      <td>Misc - Non-Criminal Call</td>\n",
       "      <td>202500012410</td>\n",
       "      <td>CPD</td>\n",
       "      <td>Moriarty, Thomas</td>\n",
       "      <td>2025-04-17 16:06:13</td>\n",
       "      <td>Thursday</td>\n",
       "      <td>False</td>\n",
       "      <td>Spring</td>\n",
       "      <td>Afternoon</td>\n",
       "      <td>500 HARRIS RD</td>\n",
       "      <td>38.015099</td>\n",
       "      <td>-78.503687</td>\n",
       "      <td>Fry's Spring</td>\n",
       "      <td>22903</td>\n",
       "    </tr>\n",
       "    <tr>\n",
       "      <th>3</th>\n",
       "      <td>4</td>\n",
       "      <td>Larceny - All Other</td>\n",
       "      <td>202500012407</td>\n",
       "      <td>CPD</td>\n",
       "      <td>Venereo, Arturo</td>\n",
       "      <td>2025-04-17 15:44:34</td>\n",
       "      <td>Thursday</td>\n",
       "      <td>False</td>\n",
       "      <td>Spring</td>\n",
       "      <td>Afternoon</td>\n",
       "      <td>700 PROSPECT AVE, B</td>\n",
       "      <td>38.024675</td>\n",
       "      <td>-78.494326</td>\n",
       "      <td>Fifeville</td>\n",
       "      <td>22903</td>\n",
       "    </tr>\n",
       "    <tr>\n",
       "      <th>4</th>\n",
       "      <td>5</td>\n",
       "      <td>Suspicious Activity</td>\n",
       "      <td>202500012405</td>\n",
       "      <td>CPD</td>\n",
       "      <td>Bentz, Benjamin</td>\n",
       "      <td>2025-04-17 15:38:55</td>\n",
       "      <td>Thursday</td>\n",
       "      <td>False</td>\n",
       "      <td>Spring</td>\n",
       "      <td>Afternoon</td>\n",
       "      <td>900 MONTICELLO AVE</td>\n",
       "      <td>38.022670</td>\n",
       "      <td>-78.475939</td>\n",
       "      <td>Belmont</td>\n",
       "      <td>22903</td>\n",
       "    </tr>\n",
       "  </tbody>\n",
       "</table>\n",
       "</div>"
      ],
      "text/plain": [
       "   RecordID                         Offense    IncidentID Agency  \\\n",
       "0         1             Suspicious Activity  202500012456    CPD   \n",
       "1         2  Assist Citizen - Welfare Check  202500012452    CPD   \n",
       "2         3        Misc - Non-Criminal Call  202500012410    CPD   \n",
       "3         4             Larceny - All Other  202500012407    CPD   \n",
       "4         5             Suspicious Activity  202500012405    CPD   \n",
       "\n",
       "      ReportingOfficer                Date DayOfWeek  Weekend  Season  \\\n",
       "0  Vlasis, Christopher 2025-04-17 21:15:53  Thursday    False  Spring   \n",
       "1      Venereo, Arturo 2025-04-17 20:45:43  Thursday    False  Spring   \n",
       "2     Moriarty, Thomas 2025-04-17 16:06:13  Thursday    False  Spring   \n",
       "3      Venereo, Arturo 2025-04-17 15:44:34  Thursday    False  Spring   \n",
       "4     Bentz, Benjamin  2025-04-17 15:38:55  Thursday    False  Spring   \n",
       "\n",
       "   TimeOfDay            FullStreet        lat        lon  neighborhood    zip  \n",
       "0      Night  1500 CARLTON AVE, 17  38.020508 -78.465411       Belmont  22902  \n",
       "1    Evening   700 PROSPECT AVE, A  38.024632 -78.494454     Fifeville  22903  \n",
       "2  Afternoon         500 HARRIS RD  38.015099 -78.503687  Fry's Spring  22903  \n",
       "3  Afternoon   700 PROSPECT AVE, B  38.024675 -78.494326     Fifeville  22903  \n",
       "4  Afternoon    900 MONTICELLO AVE  38.022670 -78.475939       Belmont  22903  "
      ]
     },
     "execution_count": 19,
     "metadata": {},
     "output_type": "execute_result"
    }
   ],
   "source": [
    "df.head()"
   ]
  },
  {
   "cell_type": "code",
   "execution_count": 20,
   "id": "149ef9d6",
   "metadata": {
    "execution": {
     "iopub.execute_input": "2025-04-20T01:05:39.472943Z",
     "iopub.status.busy": "2025-04-20T01:05:39.472737Z",
     "iopub.status.idle": "2025-04-20T01:05:39.477251Z",
     "shell.execute_reply": "2025-04-20T01:05:39.476579Z"
    },
    "papermill": {
     "duration": 0.014033,
     "end_time": "2025-04-20T01:05:39.478340",
     "exception": false,
     "start_time": "2025-04-20T01:05:39.464307",
     "status": "completed"
    },
    "tags": []
   },
   "outputs": [
    {
     "data": {
      "text/plain": [
       "Index(['RecordID', 'Offense', 'IncidentID', 'Agency', 'ReportingOfficer',\n",
       "       'Date', 'DayOfWeek', 'Weekend', 'Season', 'TimeOfDay', 'FullStreet',\n",
       "       'lat', 'lon', 'neighborhood', 'zip'],\n",
       "      dtype='object')"
      ]
     },
     "execution_count": 20,
     "metadata": {},
     "output_type": "execute_result"
    }
   ],
   "source": [
    "df.columns"
   ]
  },
  {
   "cell_type": "markdown",
   "id": "649f1be5",
   "metadata": {
    "papermill": {
     "duration": 0.007649,
     "end_time": "2025-04-20T01:05:39.493931",
     "exception": false,
     "start_time": "2025-04-20T01:05:39.486282",
     "status": "completed"
    },
    "tags": []
   },
   "source": [
    "### Data Preparation\n",
    "\n",
    "We need to ensure the data is in the correct format for modeling and can handle missing values, categorical variables, and dates. Here's how to prepare your data:"
   ]
  },
  {
   "cell_type": "code",
   "execution_count": 21,
   "id": "0ef6c357",
   "metadata": {
    "execution": {
     "iopub.execute_input": "2025-04-20T01:05:39.510700Z",
     "iopub.status.busy": "2025-04-20T01:05:39.510280Z",
     "iopub.status.idle": "2025-04-20T01:05:41.117395Z",
     "shell.execute_reply": "2025-04-20T01:05:41.116676Z"
    },
    "papermill": {
     "duration": 1.61702,
     "end_time": "2025-04-20T01:05:41.118747",
     "exception": false,
     "start_time": "2025-04-20T01:05:39.501727",
     "status": "completed"
    },
    "tags": []
   },
   "outputs": [],
   "source": [
    "import pandas as pd\n",
    "from sklearn.model_selection import train_test_split\n",
    "from sklearn.preprocessing import OneHotEncoder, LabelEncoder\n",
    "from sklearn.ensemble import RandomForestClassifier\n",
    "from sklearn.linear_model import LogisticRegression\n",
    "from sklearn.tree import DecisionTreeClassifier\n",
    "from sklearn.metrics import classification_report, accuracy_score\n",
    "import seaborn as sns\n",
    "import matplotlib.pyplot as plt\n",
    "\n",
    "# Convert 'Date' to datetime\n",
    "df['Date'] = pd.to_datetime(df['Date'])\n",
    "\n",
    "# Feature engineering: Extract additional time-based features\n",
    "df['Year'] = df['Date'].dt.year\n",
    "df['Month'] = df['Date'].dt.month\n",
    "df['DayOfMonth'] = df['Date'].dt.day\n",
    "\n",
    "# One-hot encoding for 'FullStreet', 'neighborhood', 'zip'\n",
    "df = pd.get_dummies(df, columns=['FullStreet', 'neighborhood', 'zip'], drop_first=True)\n",
    "\n",
    "# Label encoding for ordered variables (those with a natural order like 'DayOfWeek', 'Season', 'TimeOfDay')\n",
    "label_encoders = {}\n",
    "for column in ['DayOfWeek', 'Season', 'TimeOfDay', 'Agency', 'ReportingOfficer']:  # Example ordinal variables\n",
    "    le = LabelEncoder()\n",
    "    df[column] = le.fit_transform(df[column])\n",
    "    label_encoders[column] = le\n",
    "\n",
    "# Filter the dataset to include only the offenses of interest\n",
    "offenses_of_interest = [\n",
    "    'Hit and Run', 'Assault Simple', 'Suspicious Activity', 'Vandalism', \n",
    "    'Larceny - From Mot Vehicle', 'Larceny - All Other', \n",
    "    'Assist Citizen - Mental/TDO/ECO', 'Lost/FoundProperty'\n",
    "]\n",
    "\n",
    "df = df[df['Offense'].isin(offenses_of_interest)]\n",
    "\n",
    "# Label encode the target variable (Offense)\n",
    "offense_encoder = LabelEncoder()\n",
    "df['Offense'] = offense_encoder.fit_transform(df['Offense'])\n",
    "\n",
    "# Separate features (X) and target (y)\n",
    "X = df[['Year', 'Month', 'DayOfMonth', 'DayOfWeek', 'Weekend', 'Season', 'TimeOfDay', 'lat', 'lon', 'Agency', 'ReportingOfficer']]\n",
    "y = df['Offense']  # Offense is now the encoded target variable\n",
    "\n",
    "# Split the data into training and testing sets\n",
    "X_train, X_test, y_train, y_test = train_test_split(X, y, test_size=0.3, random_state=42)\n"
   ]
  },
  {
   "cell_type": "markdown",
   "id": "60acfd23",
   "metadata": {
    "papermill": {
     "duration": 0.008219,
     "end_time": "2025-04-20T01:05:41.135386",
     "exception": false,
     "start_time": "2025-04-20T01:05:41.127167",
     "status": "completed"
    },
    "tags": []
   },
   "source": [
    "### Model Training\n",
    "\n",
    "Here we will train several models (e.g., Random Forest, Logistic Regression, and Decision Tree). We will use cross-validation to choose the best model based on accuracy, and then explain the impact of the variables."
   ]
  },
  {
   "cell_type": "code",
   "execution_count": 22,
   "id": "a985a33e",
   "metadata": {
    "execution": {
     "iopub.execute_input": "2025-04-20T01:05:41.152982Z",
     "iopub.status.busy": "2025-04-20T01:05:41.152340Z",
     "iopub.status.idle": "2025-04-20T01:05:44.665101Z",
     "shell.execute_reply": "2025-04-20T01:05:44.664526Z"
    },
    "papermill": {
     "duration": 3.522707,
     "end_time": "2025-04-20T01:05:44.666112",
     "exception": false,
     "start_time": "2025-04-20T01:05:41.143405",
     "status": "completed"
    },
    "tags": []
   },
   "outputs": [
    {
     "name": "stderr",
     "output_type": "stream",
     "text": [
      "/opt/hostedtoolcache/Python/3.9.22/x64/lib/python3.9/site-packages/sklearn/linear_model/_logistic.py:465: ConvergenceWarning: lbfgs failed to converge (status=1):\n",
      "STOP: TOTAL NO. of ITERATIONS REACHED LIMIT.\n",
      "\n",
      "Increase the number of iterations (max_iter) or scale the data as shown in:\n",
      "    https://scikit-learn.org/stable/modules/preprocessing.html\n",
      "Please also refer to the documentation for alternative solver options:\n",
      "    https://scikit-learn.org/stable/modules/linear_model.html#logistic-regression\n",
      "  n_iter_i = _check_optimize_result(\n",
      "/opt/hostedtoolcache/Python/3.9.22/x64/lib/python3.9/site-packages/sklearn/metrics/_classification.py:1565: UndefinedMetricWarning: Precision is ill-defined and being set to 0.0 in labels with no predicted samples. Use `zero_division` parameter to control this behavior.\n",
      "  _warn_prf(average, modifier, f\"{metric.capitalize()} is\", len(result))\n",
      "/opt/hostedtoolcache/Python/3.9.22/x64/lib/python3.9/site-packages/sklearn/metrics/_classification.py:1565: UndefinedMetricWarning: Precision is ill-defined and being set to 0.0 in labels with no predicted samples. Use `zero_division` parameter to control this behavior.\n",
      "  _warn_prf(average, modifier, f\"{metric.capitalize()} is\", len(result))\n",
      "/opt/hostedtoolcache/Python/3.9.22/x64/lib/python3.9/site-packages/sklearn/metrics/_classification.py:1565: UndefinedMetricWarning: Precision is ill-defined and being set to 0.0 in labels with no predicted samples. Use `zero_division` parameter to control this behavior.\n",
      "  _warn_prf(average, modifier, f\"{metric.capitalize()} is\", len(result))\n"
     ]
    },
    {
     "name": "stdout",
     "output_type": "stream",
     "text": [
      "\n",
      "Classification Report for All Models:\n",
      "\n",
      "Model: RandomForest\n",
      "Accuracy: 0.2860\n",
      "              precision    recall  f1-score      support\n",
      "0              0.252802  0.367089  0.299410   553.000000\n",
      "1              0.341772  0.244344  0.284960   442.000000\n",
      "2              0.340684  0.434599  0.381953   711.000000\n",
      "3              0.260870  0.193966  0.222497   464.000000\n",
      "4              0.299065  0.186589  0.229803   343.000000\n",
      "5              0.219616  0.211066  0.215256   488.000000\n",
      "6              0.276961  0.245119  0.260069   461.000000\n",
      "accuracy       0.285962  0.285962  0.285962     0.285962\n",
      "macro avg      0.284539  0.268967  0.270564  3462.000000\n",
      "weighted avg   0.286413  0.285962  0.280212  3462.000000\n"
     ]
    },
    {
     "data": {
      "image/png": "[encoded data removed]",
      "text/plain": [
       "<Figure size 800x600 with 2 Axes>"
      ]
     },
     "metadata": {},
     "output_type": "display_data"
    },
    {
     "name": "stdout",
     "output_type": "stream",
     "text": [
      "\n",
      "Model: LogisticRegression\n",
      "Accuracy: 0.2181\n",
      "              precision    recall  f1-score      support\n",
      "0              0.189633  0.542495  0.281030   553.000000\n",
      "1              0.000000  0.000000  0.000000   442.000000\n",
      "2              0.243011  0.635724  0.351614   711.000000\n",
      "3              0.000000  0.000000  0.000000   464.000000\n",
      "4              0.000000  0.000000  0.000000   343.000000\n",
      "5              0.000000  0.000000  0.000000   488.000000\n",
      "6              0.157895  0.006508  0.012500   461.000000\n",
      "accuracy       0.218082  0.218082  0.218082     0.218082\n",
      "macro avg      0.084363  0.169247  0.092164  3462.000000\n",
      "weighted avg   0.101224  0.218082  0.118767  3462.000000\n"
     ]
    },
    {
     "data": {
      "image/png": "[encoded data removed]",
      "text/plain": [
       "<Figure size 800x600 with 2 Axes>"
      ]
     },
     "metadata": {},
     "output_type": "display_data"
    },
    {
     "name": "stdout",
     "output_type": "stream",
     "text": [
      "\n",
      "Model: DecisionTree\n",
      "Accuracy: 0.2218\n",
      "              precision    recall  f1-score      support\n",
      "0              0.244833  0.278481  0.260575   553.000000\n",
      "1              0.236504  0.208145  0.221420   442.000000\n",
      "2              0.294488  0.263010  0.277860   711.000000\n",
      "3              0.185022  0.181034  0.183007   464.000000\n",
      "4              0.188791  0.186589  0.187683   343.000000\n",
      "5              0.176577  0.200820  0.187919   488.000000\n",
      "6              0.193059  0.193059  0.193059   461.000000\n",
      "accuracy       0.221837  0.221837  0.221837     0.221837\n",
      "macro avg      0.217039  0.215877  0.215932  3462.000000\n",
      "weighted avg   0.223883  0.221837  0.222276  3462.000000\n"
     ]
    },
    {
     "data": {
      "image/png": "[encoded data removed]",
      "text/plain": [
       "<Figure size 800x600 with 2 Axes>"
      ]
     },
     "metadata": {},
     "output_type": "display_data"
    },
    {
     "name": "stdout",
     "output_type": "stream",
     "text": [
      "\n",
      "Best Model:\n",
      "Best Model: RandomForestClassifier()\n",
      "Best Model Accuracy: 0.2860\n"
     ]
    }
   ],
   "source": [
    "import pandas as pd\n",
    "from sklearn.model_selection import train_test_split\n",
    "from sklearn.ensemble import RandomForestClassifier\n",
    "from sklearn.linear_model import LogisticRegression\n",
    "from sklearn.tree import DecisionTreeClassifier\n",
    "from sklearn.metrics import classification_report, accuracy_score, confusion_matrix\n",
    "import seaborn as sns\n",
    "import matplotlib.pyplot as plt\n",
    "\n",
    "# Define models\n",
    "models = {\n",
    "    'RandomForest': RandomForestClassifier(),\n",
    "    'LogisticRegression': LogisticRegression(max_iter=1000),\n",
    "    'DecisionTree': DecisionTreeClassifier()\n",
    "}\n",
    "\n",
    "# Train models and evaluate them\n",
    "best_model = None\n",
    "best_score = 0\n",
    "model_reports = {}\n",
    "\n",
    "for model_name, model in models.items():\n",
    "    model.fit(X_train, y_train)  # Train model\n",
    "    y_pred = model.predict(X_test)  # Make predictions\n",
    "    \n",
    "    # Calculate accuracy and generate classification report\n",
    "    accuracy = accuracy_score(y_test, y_pred)\n",
    "    model_reports[model_name] = classification_report(y_test, y_pred, output_dict=True)  # Store as a dictionary for easier analysis\n",
    "    \n",
    "    # Track best performing model\n",
    "    if accuracy > best_score:\n",
    "        best_score = accuracy\n",
    "        best_model = model\n",
    "\n",
    "# Display classification reports and confusion matrices\n",
    "print(\"\\nClassification Report for All Models:\")\n",
    "for model_name, report in model_reports.items():\n",
    "    print(f\"\\nModel: {model_name}\")\n",
    "    print(\"Accuracy: {:.4f}\".format(accuracy_score(y_test, models[model_name].predict(X_test))))  # Display accuracy\n",
    "    print(pd.DataFrame(report).transpose())  # Display classification report as a DataFrame\n",
    "\n",
    "    # Plot Confusion Matrix\n",
    "    cm = confusion_matrix(y_test, models[model_name].predict(X_test))\n",
    "    plt.figure(figsize=(8, 6))\n",
    "    sns.heatmap(cm, annot=True, fmt=\"d\", cmap='Blues', xticklabels=offense_encoder.classes_, yticklabels=offense_encoder.classes_)\n",
    "    plt.title(f\"Confusion Matrix - {model_name}\")\n",
    "    plt.xlabel('Predicted Labels')\n",
    "    plt.ylabel('True Labels')\n",
    "    plt.show()\n",
    "\n",
    "# Display best model details\n",
    "print(\"\\nBest Model:\")\n",
    "print(f\"Best Model: {best_model}\")\n",
    "print(f\"Best Model Accuracy: {best_score:.4f}\")\n"
   ]
  },
  {
   "cell_type": "markdown",
   "id": "114bd3e5",
   "metadata": {
    "papermill": {
     "duration": 0.01069,
     "end_time": "2025-04-20T01:05:44.688166",
     "exception": false,
     "start_time": "2025-04-20T01:05:44.677476",
     "status": "completed"
    },
    "tags": []
   },
   "source": [
    "#### Classification Report for All Models:\n",
    "\n",
    "### Explanation of the Classification Results (RandomForest Model)\n",
    "\n",
    "The results you provided are from a **Random Forest** model, which is used for predicting different types of offenses. Let's break down the key components of the results:\n",
    "\n",
    "#### 1. **Accuracy: 0.2822**\n",
    "   - **Accuracy** measures the overall percentage of correct predictions made by the model. An accuracy of 28.22% means the model correctly predicted the offense in about 28% of the cases. This indicates the model's predictions are not highly reliable, as the accuracy is quite low.\n",
    "\n",
    "#### 2. **Classification Report:**\n",
    "   The classification report includes precision, recall, and F1-score for each offense. Let's go over these terms and how they apply to the results:\n",
    "\n",
    "   - **Precision**: The proportion of true positive predictions out of all positive predictions made by the model for a specific class (offense).\n",
    "   - **Recall**: The proportion of true positive predictions out of all actual positive instances in the dataset.\n",
    "   - **F1-Score**: The harmonic mean of precision and recall, providing a balance between the two metrics.\n",
    "   - **Support**: The number of actual occurrences of each class in the test set.\n",
    "\n",
    "   Let's analyze each offense based on these metrics:\n",
    "\n",
    "   | **Offense**                        | **Precision** | **Recall** | **F1-Score** | **Support** |\n",
    "   |------------------------------------|---------------|------------|--------------|-------------|\n",
    "   | **Assault Simple**                 | 0.2892        | 0.3754     | 0.3267       | 594         |\n",
    "   | **Assist Citizen - Mental/TDO/ECO**| 0.3182        | 0.2274     | 0.2652       | 431         |\n",
    "   | **Hit and Run**                    | 0.2963        | 0.4765     | 0.3654       | 638         |\n",
    "   | **Larceny - All Other**            | 0.2270        | 0.1453     | 0.1772       | 475         |\n",
    "   | **Lost/FoundProperty**             | 0.3333        | 0.2102     | 0.2578       | 352         |\n",
    "   | **Suspicious Activity**            | 0.2344        | 0.2169     | 0.2253       | 484         |\n",
    "   | **Vandalism**                      | 0.2712        | 0.2106     | 0.2371       | 470         |\n",
    "\n",
    "#### 3. **Key Insights from the Report:**\n",
    "\n",
    "- **Precision**:\n",
    "   - The highest precision is for **Larceny - All Other** (0.3333), indicating that when the model predicts this offense, it is correct about 33% of the time. However, this is still quite low.\n",
    "   - **Assist Citizen - Mental/TDO/ECO** has the lowest precision (0.2269), meaning that the model's predictions for this offense tend to be wrong more often than correct.\n",
    "\n",
    "- **Recall**:\n",
    "   - **Hit and Run** has the highest recall (0.4765), meaning the model identifies about 48% of the actual occurrences of this offense. This is better than the precision, which indicates it is missing many true positives but is still able to identify a fair number of cases.\n",
    "   - **Larceny - All Other** and **Suspicious Activity** have the lowest recall values (0.1453 and 0.2169, respectively), indicating that the model is failing to identify most of the actual cases for these offenses.\n",
    "\n",
    "- **F1-Score**:\n",
    "   - The **F1-Score** balances precision and recall. It is highest for **Hit and Run** (0.3654), but still relatively low overall. This suggests the model is better at identifying **Hit and Run** than other offenses but still has room for improvement.\n",
    "   - **Larceny - All Other** has the lowest F1-Score (0.1772), indicating a poor balance between precision and recall for this offense.\n",
    "\n",
    "#### 4. **Macro Average and Weighted Average:**\n",
    "   - **Macro Average**: This gives the average precision, recall, and F1-Score across all classes (offenses) without considering the class distribution. It averages the results for all offenses equally.\n",
    "     - Precision: 0.2814\n",
    "     - Recall: 0.2661\n",
    "     - F1-Score: 0.2649\n",
    "   - **Weighted Average**: This averages the metrics but weighs each class by its support (the number of true instances in the test set). This gives a better sense of overall performance, considering the class distribution.\n",
    "     - Precision: 0.2799\n",
    "     - Recall: 0.2822\n",
    "     - F1-Score: 0.2720\n",
    "\n",
    "#### 5. **Confusion Matrix (Visualization Analysis)**:\n",
    "   - The confusion matrix shows the distribution of true positive, false positive, true negative, and false negative predictions for each class.\n",
    "     - For **Hit and Run**, the model performs relatively well in identifying this offense (304 true positives). However, it also misclassifies some **Hit and Run** instances as other offenses (e.g., **Assault Simple**, **Suspicious Activity**, etc.).\n",
    "     - **Larceny - All Other** is frequently misclassified as **Hit and Run**, **Suspicious Activity**, and others. This is evident from the large number of off-diagonal elements in its row.\n",
    "     - **Assist Citizen - Mental/TDO/ECO** and **Suspicious Activity** are frequently misclassified, as seen by the off-diagonal values in their rows.\n",
    "\n",
    "### Conclusion:\n",
    "The Random Forest model has low accuracy (28.22%), suggesting that it struggles to predict most offenses accurately. Some offenses like **Hit and Run** are better predicted than others, but overall, the model shows a high level of misclassification across all offenses. There may be a need for further tuning of the model, additional feature engineering, or trying different models for better performance.\n",
    "\n",
    "Let me know if you'd like to improve the model or make adjustments based on these results!\n",
    "\n"
   ]
  },
  {
   "cell_type": "markdown",
   "id": "3a3ca940",
   "metadata": {
    "papermill": {
     "duration": 0.010557,
     "end_time": "2025-04-20T01:05:44.709442",
     "exception": false,
     "start_time": "2025-04-20T01:05:44.698885",
     "status": "completed"
    },
    "tags": []
   },
   "source": [
    "### Model Explanation\n",
    "\n",
    "Once we’ve chosen the best model, we will explain its predictions by examining feature importance for tree-based models and using statistical methods like logistic regression coefficients for linear models."
   ]
  },
  {
   "cell_type": "markdown",
   "id": "a67c8c04",
   "metadata": {
    "papermill": {
     "duration": 0.010488,
     "end_time": "2025-04-20T01:05:44.730441",
     "exception": false,
     "start_time": "2025-04-20T01:05:44.719953",
     "status": "completed"
    },
    "tags": []
   },
   "source": [
    "#### Feature Importance for Random Forest / Decision Tree\n",
    "\n",
    "##### For Tree-based Models (Random Forest, Decision Tree)\n",
    "\n",
    "For Random Forest or Decision Tree, we can look at feature importance to understand which variables contribute the most to the model's predictions. Here's how you can visualize and interpret the importance of each feature:"
   ]
  },
  {
   "cell_type": "code",
   "execution_count": 23,
   "id": "bbfa8923",
   "metadata": {
    "execution": {
     "iopub.execute_input": "2025-04-20T01:05:44.753078Z",
     "iopub.status.busy": "2025-04-20T01:05:44.752555Z",
     "iopub.status.idle": "2025-04-20T01:05:44.920919Z",
     "shell.execute_reply": "2025-04-20T01:05:44.920250Z"
    },
    "papermill": {
     "duration": 0.181026,
     "end_time": "2025-04-20T01:05:44.921979",
     "exception": false,
     "start_time": "2025-04-20T01:05:44.740953",
     "status": "completed"
    },
    "tags": []
   },
   "outputs": [
    {
     "data": {
      "image/png": "[encoded data removed]",
      "text/plain": [
       "<Figure size 1000x600 with 1 Axes>"
      ]
     },
     "metadata": {},
     "output_type": "display_data"
    }
   ],
   "source": [
    "# For RandomForest or DecisionTree models, we can check feature importance\n",
    "if isinstance(best_model, RandomForestClassifier) or isinstance(best_model, DecisionTreeClassifier):\n",
    "    feature_importance = best_model.feature_importances_\n",
    "    feature_names = X.columns\n",
    "    importance_df = pd.DataFrame({'Feature': feature_names, 'Importance': feature_importance})\n",
    "    importance_df = importance_df.sort_values(by='Importance', ascending=False)\n",
    "    \n",
    "    # Plotting the feature importances\n",
    "    plt.figure(figsize=(10, 6))\n",
    "    sns.barplot(x='Importance', y='Feature', data=importance_df)\n",
    "    plt.title(\"Feature Importance\")\n",
    "    plt.show()\n"
   ]
  },
  {
   "cell_type": "code",
   "execution_count": null,
   "id": "ee0b933a",
   "metadata": {
    "papermill": {
     "duration": 0.011015,
     "end_time": "2025-04-20T01:05:44.944561",
     "exception": false,
     "start_time": "2025-04-20T01:05:44.933546",
     "status": "completed"
    },
    "tags": []
   },
   "outputs": [],
   "source": []
  },
  {
   "cell_type": "markdown",
   "id": "b7f26ac7",
   "metadata": {
    "papermill": {
     "duration": 0.010911,
     "end_time": "2025-04-20T01:05:44.966454",
     "exception": false,
     "start_time": "2025-04-20T01:05:44.955543",
     "status": "completed"
    },
    "tags": []
   },
   "source": [
    "### Evaluation\n",
    "\n",
    "After training the models and examining their performance, we evaluate the chosen model based on metrics like accuracy, precision, recall, and F1 score.\n",
    "\n"
   ]
  },
  {
   "cell_type": "code",
   "execution_count": 24,
   "id": "3667075f",
   "metadata": {
    "execution": {
     "iopub.execute_input": "2025-04-20T01:05:44.989565Z",
     "iopub.status.busy": "2025-04-20T01:05:44.989082Z",
     "iopub.status.idle": "2025-04-20T01:05:45.085921Z",
     "shell.execute_reply": "2025-04-20T01:05:45.085244Z"
    },
    "papermill": {
     "duration": 0.109825,
     "end_time": "2025-04-20T01:05:45.087156",
     "exception": false,
     "start_time": "2025-04-20T01:05:44.977331",
     "status": "completed"
    },
    "tags": []
   },
   "outputs": [
    {
     "name": "stdout",
     "output_type": "stream",
     "text": [
      "Accuracy: 0.2860\n",
      "Classification Report:\n",
      "              precision    recall  f1-score   support\n",
      "\n",
      "           0       0.25      0.37      0.30       553\n",
      "           1       0.34      0.24      0.28       442\n",
      "           2       0.34      0.43      0.38       711\n",
      "           3       0.26      0.19      0.22       464\n",
      "           4       0.30      0.19      0.23       343\n",
      "           5       0.22      0.21      0.22       488\n",
      "           6       0.28      0.25      0.26       461\n",
      "\n",
      "    accuracy                           0.29      3462\n",
      "   macro avg       0.28      0.27      0.27      3462\n",
      "weighted avg       0.29      0.29      0.28      3462\n",
      "\n",
      "Confusion Matrix:\n",
      "[[203  50 119  44  27  79  31]\n",
      " [110 108  87  29  17  53  38]\n",
      " [137  42 309  72  21  74  56]\n",
      " [ 83  28 112  90  30  56  65]\n",
      " [ 69  21  69  30  64  41  49]\n",
      " [115  39 115  36  24 103  56]\n",
      " [ 86  28  96  44  31  63 113]]\n",
      "Precision: 0.2864\n",
      "Recall: 0.2860\n",
      "F1 Score: 0.2802\n"
     ]
    }
   ],
   "source": [
    "from sklearn.metrics import classification_report, confusion_matrix, accuracy_score, precision_score, recall_score, f1_score\n",
    "\n",
    "# Predict on the test set\n",
    "y_pred = best_model.predict(X_test)\n",
    "\n",
    "# Calculate Accuracy\n",
    "accuracy = accuracy_score(y_test, y_pred)\n",
    "print(f\"Accuracy: {accuracy:.4f}\")\n",
    "\n",
    "# Classification Report\n",
    "print(\"Classification Report:\")\n",
    "print(classification_report(y_test, y_pred))\n",
    "\n",
    "# Confusion Matrix\n",
    "conf_matrix = confusion_matrix(y_test, y_pred)\n",
    "print(\"Confusion Matrix:\")\n",
    "print(conf_matrix)\n",
    "\n",
    "# Precision, Recall, F1 Score for each class (Offense Type)\n",
    "precision = precision_score(y_test, y_pred, average='weighted')\n",
    "recall = recall_score(y_test, y_pred, average='weighted')\n",
    "f1 = f1_score(y_test, y_pred, average='weighted')\n",
    "\n",
    "print(f\"Precision: {precision:.4f}\")\n",
    "print(f\"Recall: {recall:.4f}\")\n",
    "print(f\"F1 Score: {f1:.4f}\")\n"
   ]
  },
  {
   "cell_type": "markdown",
   "id": "f17f7ca7",
   "metadata": {
    "papermill": {
     "duration": 0.010959,
     "end_time": "2025-04-20T01:05:45.109729",
     "exception": false,
     "start_time": "2025-04-20T01:05:45.098770",
     "status": "completed"
    },
    "tags": []
   },
   "source": [
    "#### For Logistic Regression (Coefficient Interpretation)\n",
    "\n",
    "For Logistic Regression, the model coefficients can help us understand how each feature affects the likelihood of an offense happening. A positive coefficient indicates a feature increases the likelihood of the offense, and a negative coefficient indicates the opposite."
   ]
  },
  {
   "cell_type": "code",
   "execution_count": 25,
   "id": "75ffa829",
   "metadata": {
    "execution": {
     "iopub.execute_input": "2025-04-20T01:05:45.132869Z",
     "iopub.status.busy": "2025-04-20T01:05:45.132404Z",
     "iopub.status.idle": "2025-04-20T01:05:45.137272Z",
     "shell.execute_reply": "2025-04-20T01:05:45.136647Z"
    },
    "papermill": {
     "duration": 0.017692,
     "end_time": "2025-04-20T01:05:45.138327",
     "exception": false,
     "start_time": "2025-04-20T01:05:45.120635",
     "status": "completed"
    },
    "tags": []
   },
   "outputs": [],
   "source": [
    "if isinstance(best_model, LogisticRegression):\n",
    "    # Logistic regression coefficients\n",
    "    coef_df = pd.DataFrame({\n",
    "        'Feature': X.columns,\n",
    "        'Coefficient': best_model.coef_[0]\n",
    "    })\n",
    "    coef_df['AbsCoefficient'] = coef_df['Coefficient'].abs()\n",
    "    coef_df = coef_df.sort_values(by='AbsCoefficient', ascending=False)\n",
    "    \n",
    "    # Plotting the coefficients\n",
    "    plt.figure(figsize=(10, 6))\n",
    "    sns.barplot(x='AbsCoefficient', y='Feature', data=coef_df)\n",
    "    plt.title(\"Logistic Regression Coefficients Impact\")\n",
    "    plt.show()\n",
    "\n",
    "    # Print the top 5 most impactful features (by absolute coefficient value)\n",
    "    print(\"Top 5 most impactful features based on coefficients:\")\n",
    "    print(coef_df.head())\n"
   ]
  },
  {
   "cell_type": "markdown",
   "id": "fee59952",
   "metadata": {
    "papermill": {
     "duration": 0.011033,
     "end_time": "2025-04-20T01:05:45.160617",
     "exception": false,
     "start_time": "2025-04-20T01:05:45.149584",
     "status": "completed"
    },
    "tags": []
   },
   "source": [
    "Explanation of Output:\n",
    "\n",
    "Feature Importance (Random Forest/Decision Tree): The bar plot will show how important each feature is in the decision-making process. Features at the top of the list are the most influential in predicting the occurrence of offenses.\n",
    "\n",
    "Logistic Regression Coefficients: The bar plot will show the magnitude of the coefficients for each feature. Features with larger absolute values (either positive or negative) have a stronger impact on the model’s predictions. Positive coefficients increase the probability of an offense, while negative coefficients decrease it."
   ]
  },
  {
   "cell_type": "markdown",
   "id": "26c933da",
   "metadata": {
    "papermill": {
     "duration": 0.01115,
     "end_time": "2025-04-20T01:05:45.182903",
     "exception": false,
     "start_time": "2025-04-20T01:05:45.171753",
     "status": "completed"
    },
    "tags": []
   },
   "source": []
  }
 ],
 "metadata": {
  "kernelspec": {
   "display_name": "Python 3",
   "language": "python",
   "name": "python3"
  },
  "language_info": {
   "codemirror_mode": {
    "name": "ipython",
    "version": 3
   },
   "file_extension": ".py",
   "mimetype": "text/x-python",
   "name": "python",
   "nbconvert_exporter": "python",
   "pygments_lexer": "ipython3",
   "version": "3.9.22"
  },
  "papermill": {
   "default_parameters": {},
   "duration": 82.812662,
   "end_time": "2025-04-20T01:05:45.710188",
   "environment_variables": {},
   "exception": null,
   "input_path": "notebook/Crime Data.ipynb",
   "output_path": "notebook/Crime Data_output.ipynb",
   "parameters": {},
   "start_time": "2025-04-20T01:04:22.897526",
   "version": "2.6.0"
  }
 },
 "nbformat": 4,
 "nbformat_minor": 5
}