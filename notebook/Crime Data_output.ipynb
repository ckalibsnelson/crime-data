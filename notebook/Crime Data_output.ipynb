{
 "cells": [
  {
   "cell_type": "markdown",
   "id": "9ca1049e",
   "metadata": {
    "papermill": {
     "duration": 0.004204,
     "end_time": "2025-07-01T01:12:44.905189",
     "exception": false,
     "start_time": "2025-07-01T01:12:44.900985",
     "status": "completed"
    },
    "tags": []
   },
   "source": [
    "# Charlottesville Open Data Porttal: Crime Data"
   ]
  },
  {
   "cell_type": "markdown",
   "id": "9123ffbe",
   "metadata": {
    "papermill": {
     "duration": 0.00328,
     "end_time": "2025-07-01T01:12:44.912001",
     "exception": false,
     "start_time": "2025-07-01T01:12:44.908721",
     "status": "completed"
    },
    "tags": []
   },
   "source": [
    "## Import Relevant Librarires & Set WD"
   ]
  },
  {
   "cell_type": "code",
   "execution_count": 1,
   "id": "d782577a",
   "metadata": {
    "execution": {
     "iopub.execute_input": "2025-07-01T01:12:44.919872Z",
     "iopub.status.busy": "2025-07-01T01:12:44.919554Z",
     "iopub.status.idle": "2025-07-01T01:12:45.492340Z",
     "shell.execute_reply": "2025-07-01T01:12:45.491528Z"
    },
    "papermill": {
     "duration": 0.578578,
     "end_time": "2025-07-01T01:12:45.493837",
     "exception": false,
     "start_time": "2025-07-01T01:12:44.915259",
     "status": "completed"
    },
    "tags": []
   },
   "outputs": [],
   "source": [
    "import requests\n",
    "import pandas as pd\n",
    "import numpy as np\n",
    "import pickle\n",
    "import googlemaps\n",
    "import plotly.express as px\n",
    "from geopy.geocoders import Nominatim\n",
    "import time\n",
    "from dotenv import load_dotenv\n",
    "import os\n",
    "\n",
    "env_path = os.path.join(\"..\", \".env\")\n",
    "#print(\"Looking for .env file at:\", os.path.abspath(env_path))\n",
    "load_dotenv(dotenv_path=env_path)\n",
    "\n",
    "# Retrieve the variables\n",
    "GOOGLE_API_KEY = os.getenv(\"GOOGLE_API_KEY\")\n",
    "WORKING_DIR = os.getenv(\"WORKING_DIR\")\n",
    "\n",
    "if GOOGLE_API_KEY is None or WORKING_DIR is None:\n",
    "    raise RuntimeError(\"No configuration found. Please ensure that your .env file exists with the required variables, or create a local config.py file.\")\n",
    "\n",
    "#print(\"Google API Key:\", GOOGLE_API_KEY)\n",
    "#print(\"Working Directory:\", WORKING_DIR)"
   ]
  },
  {
   "cell_type": "markdown",
   "id": "fb357808",
   "metadata": {
    "papermill": {
     "duration": 0.003289,
     "end_time": "2025-07-01T01:12:45.500769",
     "exception": false,
     "start_time": "2025-07-01T01:12:45.497480",
     "status": "completed"
    },
    "tags": []
   },
   "source": [
    "## Import Data\n",
    "\n",
    "URL: https://opendata.charlottesville.org/datasets/charlottesville::crime-data/about"
   ]
  },
  {
   "cell_type": "code",
   "execution_count": 2,
   "id": "b7112fef",
   "metadata": {
    "execution": {
     "iopub.execute_input": "2025-07-01T01:12:45.509046Z",
     "iopub.status.busy": "2025-07-01T01:12:45.508554Z",
     "iopub.status.idle": "2025-07-01T01:13:53.706446Z",
     "shell.execute_reply": "2025-07-01T01:13:53.705708Z"
    },
    "papermill": {
     "duration": 68.207256,
     "end_time": "2025-07-01T01:13:53.711340",
     "exception": false,
     "start_time": "2025-07-01T01:12:45.504084",
     "status": "completed"
    },
    "tags": []
   },
   "outputs": [
    {
     "name": "stdout",
     "output_type": "stream",
     "text": [
      "Total records imported: 25541\n"
     ]
    }
   ],
   "source": [
    "# Define the endpoint and initial parameters.\n",
    "url = \"https://gisweb.charlottesville.org/arcgis/rest/services/OpenData_2/MapServer/6/query\"\n",
    "params = {\n",
    "    \"where\": \"1=1\",\n",
    "    \"outFields\": \"*\",\n",
    "    \"outSR\": 4326,\n",
    "    \"f\": \"json\",\n",
    "    \"resultOffset\": 0,       # Starting index for results\n",
    "    \"resultRecordCount\": 10000  # Maximum records per batch (if allowed by the API)\n",
    "}\n",
    "\n",
    "records = []\n",
    "\n",
    "while True:\n",
    "    response = requests.get(url, params=params)\n",
    "    response.raise_for_status()\n",
    "    data = response.json()\n",
    "    \n",
    "    # Get the current batch of features.\n",
    "    features = data.get(\"features\", [])\n",
    "    if not features:\n",
    "        break\n",
    "\n",
    "    # Extract the attributes from the features.\n",
    "    batch_records = [feature.get(\"attributes\", {}) for feature in features]\n",
    "    records.extend(batch_records)\n",
    "    \n",
    "    # If the batch size is less than the requested count, we reached the end.\n",
    "    if len(features) < params[\"resultRecordCount\"]:\n",
    "        break\n",
    "\n",
    "    # Update the resultOffset for the next batch.\n",
    "    params[\"resultOffset\"] += params[\"resultRecordCount\"]\n",
    "\n",
    "# Create a DataFrame from the combined records.\n",
    "df = pd.DataFrame(records)\n",
    "print(\"Total records imported:\", len(df))\n"
   ]
  },
  {
   "cell_type": "code",
   "execution_count": 3,
   "id": "44578ddc",
   "metadata": {
    "execution": {
     "iopub.execute_input": "2025-07-01T01:13:53.720056Z",
     "iopub.status.busy": "2025-07-01T01:13:53.719519Z",
     "iopub.status.idle": "2025-07-01T01:13:53.732653Z",
     "shell.execute_reply": "2025-07-01T01:13:53.731995Z"
    },
    "papermill": {
     "duration": 0.01876,
     "end_time": "2025-07-01T01:13:53.733759",
     "exception": false,
     "start_time": "2025-07-01T01:13:53.714999",
     "status": "completed"
    },
    "tags": []
   },
   "outputs": [
    {
     "data": {
      "text/html": [
       "<div>\n",
       "<style scoped>\n",
       "    .dataframe tbody tr th:only-of-type {\n",
       "        vertical-align: middle;\n",
       "    }\n",
       "\n",
       "    .dataframe tbody tr th {\n",
       "        vertical-align: top;\n",
       "    }\n",
       "\n",
       "    .dataframe thead th {\n",
       "        text-align: right;\n",
       "    }\n",
       "</style>\n",
       "<table border=\"1\" class=\"dataframe\">\n",
       "  <thead>\n",
       "    <tr style=\"text-align: right;\">\n",
       "      <th></th>\n",
       "      <th>RecordID</th>\n",
       "      <th>Offense</th>\n",
       "      <th>IncidentID</th>\n",
       "      <th>BlockNumber</th>\n",
       "      <th>StreetName</th>\n",
       "      <th>Agency</th>\n",
       "      <th>DateReported</th>\n",
       "      <th>HourReported</th>\n",
       "      <th>ReportingOfficer</th>\n",
       "    </tr>\n",
       "  </thead>\n",
       "  <tbody>\n",
       "    <tr>\n",
       "      <th>0</th>\n",
       "      <td>1</td>\n",
       "      <td>Assist Citizen - Mental/TDO/ECO</td>\n",
       "      <td>202500022361</td>\n",
       "      <td>1600</td>\n",
       "      <td>EMMET ST N</td>\n",
       "      <td>CPD</td>\n",
       "      <td>1751155139000</td>\n",
       "      <td>1958</td>\n",
       "      <td>Carrasco, Julio</td>\n",
       "    </tr>\n",
       "    <tr>\n",
       "      <th>1</th>\n",
       "      <td>2</td>\n",
       "      <td>Hit and Run</td>\n",
       "      <td>202500022312</td>\n",
       "      <td>500</td>\n",
       "      <td>CLEVELAND AVE, B</td>\n",
       "      <td>CPD</td>\n",
       "      <td>1751122810000</td>\n",
       "      <td>1100</td>\n",
       "      <td>Ritter, Kobe</td>\n",
       "    </tr>\n",
       "    <tr>\n",
       "      <th>2</th>\n",
       "      <td>3</td>\n",
       "      <td>Vandalism</td>\n",
       "      <td>202500022307</td>\n",
       "      <td>500</td>\n",
       "      <td>14TH ST NW</td>\n",
       "      <td>CPD</td>\n",
       "      <td>1751119357000</td>\n",
       "      <td>1002</td>\n",
       "      <td>Mian, Ghulam</td>\n",
       "    </tr>\n",
       "    <tr>\n",
       "      <th>3</th>\n",
       "      <td>4</td>\n",
       "      <td>Larceny - From Motor Vehicle</td>\n",
       "      <td>202500022309</td>\n",
       "      <td>200</td>\n",
       "      <td>HARTMANS MILL RD</td>\n",
       "      <td>CPD</td>\n",
       "      <td>1751118495000</td>\n",
       "      <td>0948</td>\n",
       "      <td>Schwartz, Honora</td>\n",
       "    </tr>\n",
       "    <tr>\n",
       "      <th>4</th>\n",
       "      <td>5</td>\n",
       "      <td>Hit and Run</td>\n",
       "      <td>202500022302</td>\n",
       "      <td>600</td>\n",
       "      <td>E HIGH ST</td>\n",
       "      <td>CPD</td>\n",
       "      <td>1751114906000</td>\n",
       "      <td>0848</td>\n",
       "      <td>Mian, Ghulam</td>\n",
       "    </tr>\n",
       "  </tbody>\n",
       "</table>\n",
       "</div>"
      ],
      "text/plain": [
       "   RecordID                          Offense    IncidentID BlockNumber  \\\n",
       "0         1  Assist Citizen - Mental/TDO/ECO  202500022361        1600   \n",
       "1         2                      Hit and Run  202500022312         500   \n",
       "2         3                        Vandalism  202500022307         500   \n",
       "3         4     Larceny - From Motor Vehicle  202500022309         200   \n",
       "4         5                      Hit and Run  202500022302         600   \n",
       "\n",
       "         StreetName Agency   DateReported HourReported  ReportingOfficer  \n",
       "0        EMMET ST N    CPD  1751155139000         1958   Carrasco, Julio  \n",
       "1  CLEVELAND AVE, B    CPD  1751122810000         1100      Ritter, Kobe  \n",
       "2        14TH ST NW    CPD  1751119357000         1002      Mian, Ghulam  \n",
       "3  HARTMANS MILL RD    CPD  1751118495000         0948  Schwartz, Honora  \n",
       "4         E HIGH ST    CPD  1751114906000         0848      Mian, Ghulam  "
      ]
     },
     "execution_count": 3,
     "metadata": {},
     "output_type": "execute_result"
    }
   ],
   "source": [
    "df.head()"
   ]
  },
  {
   "cell_type": "code",
   "execution_count": 4,
   "id": "a6dab58b",
   "metadata": {
    "execution": {
     "iopub.execute_input": "2025-07-01T01:13:53.742475Z",
     "iopub.status.busy": "2025-07-01T01:13:53.742044Z",
     "iopub.status.idle": "2025-07-01T01:13:53.746632Z",
     "shell.execute_reply": "2025-07-01T01:13:53.745965Z"
    },
    "papermill": {
     "duration": 0.010042,
     "end_time": "2025-07-01T01:13:53.747711",
     "exception": false,
     "start_time": "2025-07-01T01:13:53.737669",
     "status": "completed"
    },
    "tags": []
   },
   "outputs": [
    {
     "data": {
      "text/plain": [
       "Index(['RecordID', 'Offense', 'IncidentID', 'BlockNumber', 'StreetName',\n",
       "       'Agency', 'DateReported', 'HourReported', 'ReportingOfficer'],\n",
       "      dtype='object')"
      ]
     },
     "execution_count": 4,
     "metadata": {},
     "output_type": "execute_result"
    }
   ],
   "source": [
    "df.columns"
   ]
  },
  {
   "cell_type": "code",
   "execution_count": 5,
   "id": "78a92730",
   "metadata": {
    "execution": {
     "iopub.execute_input": "2025-07-01T01:13:53.756938Z",
     "iopub.status.busy": "2025-07-01T01:13:53.756383Z",
     "iopub.status.idle": "2025-07-01T01:13:53.780719Z",
     "shell.execute_reply": "2025-07-01T01:13:53.780035Z"
    },
    "papermill": {
     "duration": 0.030213,
     "end_time": "2025-07-01T01:13:53.781724",
     "exception": false,
     "start_time": "2025-07-01T01:13:53.751511",
     "status": "completed"
    },
    "tags": []
   },
   "outputs": [
    {
     "name": "stdout",
     "output_type": "stream",
     "text": [
      "<class 'pandas.core.frame.DataFrame'>\n",
      "RangeIndex: 25541 entries, 0 to 25540\n",
      "Data columns (total 9 columns):\n",
      " #   Column            Non-Null Count  Dtype \n",
      "---  ------            --------------  ----- \n",
      " 0   RecordID          25541 non-null  int64 \n",
      " 1   Offense           25541 non-null  object\n",
      " 2   IncidentID        25541 non-null  object\n",
      " 3   BlockNumber       25541 non-null  object\n",
      " 4   StreetName        25541 non-null  object\n",
      " 5   Agency            25541 non-null  object\n",
      " 6   DateReported      25541 non-null  int64 \n",
      " 7   HourReported      25541 non-null  object\n",
      " 8   ReportingOfficer  25524 non-null  object\n",
      "dtypes: int64(2), object(7)\n",
      "memory usage: 1.8+ MB\n"
     ]
    }
   ],
   "source": [
    "df.info()"
   ]
  },
  {
   "cell_type": "markdown",
   "id": "38c1bdb4",
   "metadata": {
    "papermill": {
     "duration": 0.003717,
     "end_time": "2025-07-01T01:13:53.789452",
     "exception": false,
     "start_time": "2025-07-01T01:13:53.785735",
     "status": "completed"
    },
    "tags": []
   },
   "source": [
    "### Missing Values"
   ]
  },
  {
   "cell_type": "code",
   "execution_count": 6,
   "id": "4f9928d4",
   "metadata": {
    "execution": {
     "iopub.execute_input": "2025-07-01T01:13:53.824461Z",
     "iopub.status.busy": "2025-07-01T01:13:53.823993Z",
     "iopub.status.idle": "2025-07-01T01:13:53.847716Z",
     "shell.execute_reply": "2025-07-01T01:13:53.847011Z"
    },
    "papermill": {
     "duration": 0.02985,
     "end_time": "2025-07-01T01:13:53.849015",
     "exception": false,
     "start_time": "2025-07-01T01:13:53.819165",
     "status": "completed"
    },
    "tags": []
   },
   "outputs": [
    {
     "name": "stdout",
     "output_type": "stream",
     "text": [
      "                  MissingCount  MissingPercentage\n",
      "RecordID                     0               0.00\n",
      "Offense                      0               0.00\n",
      "IncidentID                   0               0.00\n",
      "BlockNumber                  0               0.00\n",
      "StreetName                   0               0.00\n",
      "Agency                       0               0.00\n",
      "DateReported                 0               0.00\n",
      "HourReported                 0               0.00\n",
      "ReportingOfficer            17               0.07\n"
     ]
    }
   ],
   "source": [
    "def missing_percentage(df):\n",
    "    \"\"\"\n",
    "    Returns a DataFrame with the count and percentage of missing values for each column.\n",
    "    \n",
    "    Parameters:\n",
    "        df (pd.DataFrame): The input DataFrame.\n",
    "    \n",
    "    Returns:\n",
    "        pd.DataFrame: A DataFrame with columns 'MissingCount' and 'MissingPercentage'.\n",
    "    \"\"\"\n",
    "    total_rows = len(df)\n",
    "    missing_count = df.isnull().sum()\n",
    "    missing_percent = (missing_count / total_rows) * 100\n",
    "    \n",
    "    result = pd.DataFrame({\n",
    "        'MissingCount': missing_count,\n",
    "        'MissingPercentage': missing_percent.round(2)\n",
    "    })\n",
    "    \n",
    "    return result\n",
    "\n",
    "# Example usage:\n",
    "missing_info = missing_percentage(df)\n",
    "print(missing_info)\n"
   ]
  },
  {
   "cell_type": "markdown",
   "id": "5a4189e9",
   "metadata": {
    "papermill": {
     "duration": 0.003858,
     "end_time": "2025-07-01T01:13:53.856930",
     "exception": false,
     "start_time": "2025-07-01T01:13:53.853072",
     "status": "completed"
    },
    "tags": []
   },
   "source": [
    "## Data Preparation"
   ]
  },
  {
   "cell_type": "markdown",
   "id": "06a98370",
   "metadata": {
    "papermill": {
     "duration": 0.003755,
     "end_time": "2025-07-01T01:13:53.864484",
     "exception": false,
     "start_time": "2025-07-01T01:13:53.860729",
     "status": "completed"
    },
    "tags": []
   },
   "source": [
    "### Data Conversion"
   ]
  },
  {
   "cell_type": "code",
   "execution_count": 7,
   "id": "c76a73ad",
   "metadata": {
    "execution": {
     "iopub.execute_input": "2025-07-01T01:13:53.873339Z",
     "iopub.status.busy": "2025-07-01T01:13:53.872880Z",
     "iopub.status.idle": "2025-07-01T01:13:54.242860Z",
     "shell.execute_reply": "2025-07-01T01:13:54.242134Z"
    },
    "papermill": {
     "duration": 0.375679,
     "end_time": "2025-07-01T01:13:54.243992",
     "exception": false,
     "start_time": "2025-07-01T01:13:53.868313",
     "status": "completed"
    },
    "tags": []
   },
   "outputs": [
    {
     "data": {
      "text/html": [
       "<div>\n",
       "<style scoped>\n",
       "    .dataframe tbody tr th:only-of-type {\n",
       "        vertical-align: middle;\n",
       "    }\n",
       "\n",
       "    .dataframe tbody tr th {\n",
       "        vertical-align: top;\n",
       "    }\n",
       "\n",
       "    .dataframe thead th {\n",
       "        text-align: right;\n",
       "    }\n",
       "</style>\n",
       "<table border=\"1\" class=\"dataframe\">\n",
       "  <thead>\n",
       "    <tr style=\"text-align: right;\">\n",
       "      <th></th>\n",
       "      <th>RecordID</th>\n",
       "      <th>Offense</th>\n",
       "      <th>IncidentID</th>\n",
       "      <th>BlockNumber</th>\n",
       "      <th>StreetName</th>\n",
       "      <th>Agency</th>\n",
       "      <th>HourReported</th>\n",
       "      <th>ReportingOfficer</th>\n",
       "      <th>Date</th>\n",
       "      <th>DateString</th>\n",
       "      <th>DayOfWeek</th>\n",
       "      <th>Weekend</th>\n",
       "      <th>Season</th>\n",
       "      <th>HourAMPM</th>\n",
       "      <th>TimeOfDay</th>\n",
       "    </tr>\n",
       "  </thead>\n",
       "  <tbody>\n",
       "    <tr>\n",
       "      <th>0</th>\n",
       "      <td>1</td>\n",
       "      <td>Assist Citizen - Mental/TDO/ECO</td>\n",
       "      <td>202500022361</td>\n",
       "      <td>1600</td>\n",
       "      <td>EMMET ST N</td>\n",
       "      <td>CPD</td>\n",
       "      <td>1958</td>\n",
       "      <td>Carrasco, Julio</td>\n",
       "      <td>2025-06-28 19:58:59</td>\n",
       "      <td>2025-06-28 07:58:59 PM</td>\n",
       "      <td>Saturday</td>\n",
       "      <td>True</td>\n",
       "      <td>Summer</td>\n",
       "      <td>07:58 PM</td>\n",
       "      <td>Evening</td>\n",
       "    </tr>\n",
       "    <tr>\n",
       "      <th>1</th>\n",
       "      <td>2</td>\n",
       "      <td>Hit and Run</td>\n",
       "      <td>202500022312</td>\n",
       "      <td>500</td>\n",
       "      <td>CLEVELAND AVE, B</td>\n",
       "      <td>CPD</td>\n",
       "      <td>1100</td>\n",
       "      <td>Ritter, Kobe</td>\n",
       "      <td>2025-06-28 11:00:10</td>\n",
       "      <td>2025-06-28 11:00:10 AM</td>\n",
       "      <td>Saturday</td>\n",
       "      <td>True</td>\n",
       "      <td>Summer</td>\n",
       "      <td>11:00 AM</td>\n",
       "      <td>Morning</td>\n",
       "    </tr>\n",
       "    <tr>\n",
       "      <th>2</th>\n",
       "      <td>3</td>\n",
       "      <td>Vandalism</td>\n",
       "      <td>202500022307</td>\n",
       "      <td>500</td>\n",
       "      <td>14TH ST NW</td>\n",
       "      <td>CPD</td>\n",
       "      <td>1002</td>\n",
       "      <td>Mian, Ghulam</td>\n",
       "      <td>2025-06-28 10:02:37</td>\n",
       "      <td>2025-06-28 10:02:37 AM</td>\n",
       "      <td>Saturday</td>\n",
       "      <td>True</td>\n",
       "      <td>Summer</td>\n",
       "      <td>10:02 AM</td>\n",
       "      <td>Morning</td>\n",
       "    </tr>\n",
       "    <tr>\n",
       "      <th>3</th>\n",
       "      <td>4</td>\n",
       "      <td>Larceny - From Motor Vehicle</td>\n",
       "      <td>202500022309</td>\n",
       "      <td>200</td>\n",
       "      <td>HARTMANS MILL RD</td>\n",
       "      <td>CPD</td>\n",
       "      <td>0948</td>\n",
       "      <td>Schwartz, Honora</td>\n",
       "      <td>2025-06-28 09:48:15</td>\n",
       "      <td>2025-06-28 09:48:15 AM</td>\n",
       "      <td>Saturday</td>\n",
       "      <td>True</td>\n",
       "      <td>Summer</td>\n",
       "      <td>09:48 AM</td>\n",
       "      <td>Morning</td>\n",
       "    </tr>\n",
       "    <tr>\n",
       "      <th>4</th>\n",
       "      <td>5</td>\n",
       "      <td>Hit and Run</td>\n",
       "      <td>202500022302</td>\n",
       "      <td>600</td>\n",
       "      <td>E HIGH ST</td>\n",
       "      <td>CPD</td>\n",
       "      <td>0848</td>\n",
       "      <td>Mian, Ghulam</td>\n",
       "      <td>2025-06-28 08:48:26</td>\n",
       "      <td>2025-06-28 08:48:26 AM</td>\n",
       "      <td>Saturday</td>\n",
       "      <td>True</td>\n",
       "      <td>Summer</td>\n",
       "      <td>08:48 AM</td>\n",
       "      <td>Morning</td>\n",
       "    </tr>\n",
       "  </tbody>\n",
       "</table>\n",
       "</div>"
      ],
      "text/plain": [
       "   RecordID                          Offense    IncidentID BlockNumber  \\\n",
       "0         1  Assist Citizen - Mental/TDO/ECO  202500022361        1600   \n",
       "1         2                      Hit and Run  202500022312         500   \n",
       "2         3                        Vandalism  202500022307         500   \n",
       "3         4     Larceny - From Motor Vehicle  202500022309         200   \n",
       "4         5                      Hit and Run  202500022302         600   \n",
       "\n",
       "         StreetName Agency HourReported  ReportingOfficer                Date  \\\n",
       "0        EMMET ST N    CPD         1958   Carrasco, Julio 2025-06-28 19:58:59   \n",
       "1  CLEVELAND AVE, B    CPD         1100      Ritter, Kobe 2025-06-28 11:00:10   \n",
       "2        14TH ST NW    CPD         1002      Mian, Ghulam 2025-06-28 10:02:37   \n",
       "3  HARTMANS MILL RD    CPD         0948  Schwartz, Honora 2025-06-28 09:48:15   \n",
       "4         E HIGH ST    CPD         0848      Mian, Ghulam 2025-06-28 08:48:26   \n",
       "\n",
       "               DateString DayOfWeek  Weekend  Season  HourAMPM TimeOfDay  \n",
       "0  2025-06-28 07:58:59 PM  Saturday     True  Summer  07:58 PM   Evening  \n",
       "1  2025-06-28 11:00:10 AM  Saturday     True  Summer  11:00 AM   Morning  \n",
       "2  2025-06-28 10:02:37 AM  Saturday     True  Summer  10:02 AM   Morning  \n",
       "3  2025-06-28 09:48:15 AM  Saturday     True  Summer  09:48 AM   Morning  \n",
       "4  2025-06-28 08:48:26 AM  Saturday     True  Summer  08:48 AM   Morning  "
      ]
     },
     "execution_count": 7,
     "metadata": {},
     "output_type": "execute_result"
    }
   ],
   "source": [
    "def convert_and_categorize_datereported(df, col='DateReported'):\n",
    "    \"\"\"\n",
    "    Converts an epoch (in milliseconds) date column into a timezone-aware datetime,\n",
    "    converts it to Eastern Time, and then creates columns for day-of-week, weekend flag,\n",
    "    season, 12-hour formatted time, and time-of-day. Keeps both a real datetime column\n",
    "    (Date) and a string representation (DateString).\n",
    "    \"\"\"\n",
    "    import pandas as pd\n",
    "\n",
    "    # Convert the epoch timestamp to a pandas datetime object as UTC, then convert to US/Eastern.\n",
    "    df[\"DateReported_dt\"] = (\n",
    "        pd.to_datetime(df[col], unit=\"ms\", errors=\"coerce\", utc=True)\n",
    "        .dt.tz_convert(\"US/Eastern\")\n",
    "    )\n",
    "    \n",
    "    # Create a true datetime column (remove timezone if you prefer naive datetime)\n",
    "    df[\"Date\"] = df[\"DateReported_dt\"].dt.tz_localize(None)\n",
    "\n",
    "    # Optionally, create a separate string-formatted column\n",
    "    df[\"DateString\"] = df[\"DateReported_dt\"].dt.strftime(\"%Y-%m-%d %I:%M:%S %p\")\n",
    "    \n",
    "    # DayOfWeek\n",
    "    df[\"DayOfWeek\"] = df[\"DateReported_dt\"].dt.day_name()\n",
    "    \n",
    "    # Weekend\n",
    "    df[\"Weekend\"] = df[\"DayOfWeek\"].isin([\"Saturday\", \"Sunday\"])\n",
    "    \n",
    "    # Helper function to determine the season\n",
    "    def get_season(dt):\n",
    "        month = dt.month\n",
    "        day = dt.day\n",
    "        # Approximate Northern Hemisphere season boundaries:\n",
    "        if (month == 12 and day >= 21) or (month < 3) or (month == 3 and day < 20):\n",
    "            return \"Winter\"\n",
    "        elif (month == 3 and day >= 20) or (month < 6) or (month == 6 and day < 21):\n",
    "            return \"Spring\"\n",
    "        elif (month == 6 and day >= 21) or (month < 9) or (month == 9 and day < 22):\n",
    "            return \"Summer\"\n",
    "        else:\n",
    "            return \"Autumn\"\n",
    "    \n",
    "    df[\"Season\"] = df[\"DateReported_dt\"].apply(get_season)\n",
    "    \n",
    "    # 12-hour formatted time (HourAMPM)\n",
    "    df[\"HourAMPM\"] = df[\"DateReported_dt\"].dt.strftime(\"%I:%M %p\")\n",
    "    \n",
    "    # Extract hour (0-23) for time-of-day\n",
    "    df[\"HourValue\"] = df[\"DateReported_dt\"].dt.hour\n",
    "    \n",
    "    def time_of_day(hour):\n",
    "        if pd.isnull(hour):\n",
    "            return None\n",
    "        if 5 <= hour < 12:\n",
    "            return \"Morning\"\n",
    "        elif 12 <= hour < 17:\n",
    "            return \"Afternoon\"\n",
    "        elif 17 <= hour < 21:\n",
    "            return \"Evening\"\n",
    "        else:\n",
    "            return \"Night\"\n",
    "    \n",
    "    df[\"TimeOfDay\"] = df[\"HourValue\"].apply(time_of_day)\n",
    "    \n",
    "    # Drop columns you no longer need\n",
    "    df.drop(columns=[col, \"DateReported_dt\", \"HourValue\"], inplace=True)\n",
    "    \n",
    "    return df\n",
    "\n",
    "# Example usage:\n",
    "df = convert_and_categorize_datereported(df)\n",
    "df.head()\n"
   ]
  },
  {
   "cell_type": "code",
   "execution_count": 8,
   "id": "33d202e1",
   "metadata": {
    "execution": {
     "iopub.execute_input": "2025-07-01T01:13:54.254117Z",
     "iopub.status.busy": "2025-07-01T01:13:54.253522Z",
     "iopub.status.idle": "2025-07-01T01:13:54.282997Z",
     "shell.execute_reply": "2025-07-01T01:13:54.282249Z"
    },
    "papermill": {
     "duration": 0.03568,
     "end_time": "2025-07-01T01:13:54.284185",
     "exception": false,
     "start_time": "2025-07-01T01:13:54.248505",
     "status": "completed"
    },
    "tags": []
   },
   "outputs": [
    {
     "name": "stdout",
     "output_type": "stream",
     "text": [
      "<class 'pandas.core.frame.DataFrame'>\n",
      "RangeIndex: 25541 entries, 0 to 25540\n",
      "Data columns (total 15 columns):\n",
      " #   Column            Non-Null Count  Dtype         \n",
      "---  ------            --------------  -----         \n",
      " 0   RecordID          25541 non-null  int64         \n",
      " 1   Offense           25541 non-null  object        \n",
      " 2   IncidentID        25541 non-null  object        \n",
      " 3   BlockNumber       25541 non-null  object        \n",
      " 4   StreetName        25541 non-null  object        \n",
      " 5   Agency            25541 non-null  object        \n",
      " 6   HourReported      25541 non-null  object        \n",
      " 7   ReportingOfficer  25524 non-null  object        \n",
      " 8   Date              25541 non-null  datetime64[ns]\n",
      " 9   DateString        25541 non-null  object        \n",
      " 10  DayOfWeek         25541 non-null  object        \n",
      " 11  Weekend           25541 non-null  bool          \n",
      " 12  Season            25541 non-null  object        \n",
      " 13  HourAMPM          25541 non-null  object        \n",
      " 14  TimeOfDay         25541 non-null  object        \n",
      "dtypes: bool(1), datetime64[ns](1), int64(1), object(12)\n",
      "memory usage: 2.8+ MB\n"
     ]
    }
   ],
   "source": [
    "df.info()"
   ]
  },
  {
   "cell_type": "markdown",
   "id": "256dca89",
   "metadata": {
    "papermill": {
     "duration": 0.004187,
     "end_time": "2025-07-01T01:13:54.292770",
     "exception": false,
     "start_time": "2025-07-01T01:13:54.288583",
     "status": "completed"
    },
    "tags": []
   },
   "source": [
    "### Coordinates"
   ]
  },
  {
   "cell_type": "code",
   "execution_count": 9,
   "id": "015db374",
   "metadata": {
    "execution": {
     "iopub.execute_input": "2025-07-01T01:13:54.302629Z",
     "iopub.status.busy": "2025-07-01T01:13:54.302164Z",
     "iopub.status.idle": "2025-07-01T01:13:54.347833Z",
     "shell.execute_reply": "2025-07-01T01:13:54.347187Z"
    },
    "papermill": {
     "duration": 0.051827,
     "end_time": "2025-07-01T01:13:54.348863",
     "exception": false,
     "start_time": "2025-07-01T01:13:54.297036",
     "status": "completed"
    },
    "tags": []
   },
   "outputs": [
    {
     "name": "stdout",
     "output_type": "stream",
     "text": [
      "Loaded geocode cache.\n",
      "Geocode cache updated and saved.\n"
     ]
    },
    {
     "data": {
      "text/html": [
       "<div>\n",
       "<style scoped>\n",
       "    .dataframe tbody tr th:only-of-type {\n",
       "        vertical-align: middle;\n",
       "    }\n",
       "\n",
       "    .dataframe tbody tr th {\n",
       "        vertical-align: top;\n",
       "    }\n",
       "\n",
       "    .dataframe thead th {\n",
       "        text-align: right;\n",
       "    }\n",
       "</style>\n",
       "<table border=\"1\" class=\"dataframe\">\n",
       "  <thead>\n",
       "    <tr style=\"text-align: right;\">\n",
       "      <th></th>\n",
       "      <th>RecordID</th>\n",
       "      <th>Offense</th>\n",
       "      <th>IncidentID</th>\n",
       "      <th>BlockNumber</th>\n",
       "      <th>StreetName</th>\n",
       "      <th>Agency</th>\n",
       "      <th>HourReported</th>\n",
       "      <th>ReportingOfficer</th>\n",
       "      <th>Date</th>\n",
       "      <th>DateString</th>\n",
       "      <th>DayOfWeek</th>\n",
       "      <th>Weekend</th>\n",
       "      <th>Season</th>\n",
       "      <th>HourAMPM</th>\n",
       "      <th>TimeOfDay</th>\n",
       "      <th>FullStreet</th>\n",
       "      <th>lat</th>\n",
       "      <th>lon</th>\n",
       "    </tr>\n",
       "  </thead>\n",
       "  <tbody>\n",
       "    <tr>\n",
       "      <th>0</th>\n",
       "      <td>1</td>\n",
       "      <td>Assist Citizen - Mental/TDO/ECO</td>\n",
       "      <td>202500022361</td>\n",
       "      <td>1600</td>\n",
       "      <td>EMMET ST N</td>\n",
       "      <td>CPD</td>\n",
       "      <td>1958</td>\n",
       "      <td>Carrasco, Julio</td>\n",
       "      <td>2025-06-28 19:58:59</td>\n",
       "      <td>2025-06-28 07:58:59 PM</td>\n",
       "      <td>Saturday</td>\n",
       "      <td>True</td>\n",
       "      <td>Summer</td>\n",
       "      <td>07:58 PM</td>\n",
       "      <td>Evening</td>\n",
       "      <td>1600 EMMET ST N</td>\n",
       "      <td>38.057947</td>\n",
       "      <td>-78.493911</td>\n",
       "    </tr>\n",
       "    <tr>\n",
       "      <th>1</th>\n",
       "      <td>2</td>\n",
       "      <td>Hit and Run</td>\n",
       "      <td>202500022312</td>\n",
       "      <td>500</td>\n",
       "      <td>CLEVELAND AVE, B</td>\n",
       "      <td>CPD</td>\n",
       "      <td>1100</td>\n",
       "      <td>Ritter, Kobe</td>\n",
       "      <td>2025-06-28 11:00:10</td>\n",
       "      <td>2025-06-28 11:00:10 AM</td>\n",
       "      <td>Saturday</td>\n",
       "      <td>True</td>\n",
       "      <td>Summer</td>\n",
       "      <td>11:00 AM</td>\n",
       "      <td>Morning</td>\n",
       "      <td>500 CLEVELAND AVE, B</td>\n",
       "      <td>38.017032</td>\n",
       "      <td>-78.498393</td>\n",
       "    </tr>\n",
       "    <tr>\n",
       "      <th>2</th>\n",
       "      <td>3</td>\n",
       "      <td>Vandalism</td>\n",
       "      <td>202500022307</td>\n",
       "      <td>500</td>\n",
       "      <td>14TH ST NW</td>\n",
       "      <td>CPD</td>\n",
       "      <td>1002</td>\n",
       "      <td>Mian, Ghulam</td>\n",
       "      <td>2025-06-28 10:02:37</td>\n",
       "      <td>2025-06-28 10:02:37 AM</td>\n",
       "      <td>Saturday</td>\n",
       "      <td>True</td>\n",
       "      <td>Summer</td>\n",
       "      <td>10:02 AM</td>\n",
       "      <td>Morning</td>\n",
       "      <td>500 14TH ST NW</td>\n",
       "      <td>38.039318</td>\n",
       "      <td>-78.496467</td>\n",
       "    </tr>\n",
       "    <tr>\n",
       "      <th>3</th>\n",
       "      <td>4</td>\n",
       "      <td>Larceny - From Motor Vehicle</td>\n",
       "      <td>202500022309</td>\n",
       "      <td>200</td>\n",
       "      <td>HARTMANS MILL RD</td>\n",
       "      <td>CPD</td>\n",
       "      <td>0948</td>\n",
       "      <td>Schwartz, Honora</td>\n",
       "      <td>2025-06-28 09:48:15</td>\n",
       "      <td>2025-06-28 09:48:15 AM</td>\n",
       "      <td>Saturday</td>\n",
       "      <td>True</td>\n",
       "      <td>Summer</td>\n",
       "      <td>09:48 AM</td>\n",
       "      <td>Morning</td>\n",
       "      <td>200 HARTMANS MILL RD</td>\n",
       "      <td>38.019711</td>\n",
       "      <td>-78.488405</td>\n",
       "    </tr>\n",
       "    <tr>\n",
       "      <th>4</th>\n",
       "      <td>5</td>\n",
       "      <td>Hit and Run</td>\n",
       "      <td>202500022302</td>\n",
       "      <td>600</td>\n",
       "      <td>E HIGH ST</td>\n",
       "      <td>CPD</td>\n",
       "      <td>0848</td>\n",
       "      <td>Mian, Ghulam</td>\n",
       "      <td>2025-06-28 08:48:26</td>\n",
       "      <td>2025-06-28 08:48:26 AM</td>\n",
       "      <td>Saturday</td>\n",
       "      <td>True</td>\n",
       "      <td>Summer</td>\n",
       "      <td>08:48 AM</td>\n",
       "      <td>Morning</td>\n",
       "      <td>600 E HIGH ST</td>\n",
       "      <td>38.031946</td>\n",
       "      <td>-78.476952</td>\n",
       "    </tr>\n",
       "  </tbody>\n",
       "</table>\n",
       "</div>"
      ],
      "text/plain": [
       "   RecordID                          Offense    IncidentID BlockNumber  \\\n",
       "0         1  Assist Citizen - Mental/TDO/ECO  202500022361        1600   \n",
       "1         2                      Hit and Run  202500022312         500   \n",
       "2         3                        Vandalism  202500022307         500   \n",
       "3         4     Larceny - From Motor Vehicle  202500022309         200   \n",
       "4         5                      Hit and Run  202500022302         600   \n",
       "\n",
       "         StreetName Agency HourReported  ReportingOfficer                Date  \\\n",
       "0        EMMET ST N    CPD         1958   Carrasco, Julio 2025-06-28 19:58:59   \n",
       "1  CLEVELAND AVE, B    CPD         1100      Ritter, Kobe 2025-06-28 11:00:10   \n",
       "2        14TH ST NW    CPD         1002      Mian, Ghulam 2025-06-28 10:02:37   \n",
       "3  HARTMANS MILL RD    CPD         0948  Schwartz, Honora 2025-06-28 09:48:15   \n",
       "4         E HIGH ST    CPD         0848      Mian, Ghulam 2025-06-28 08:48:26   \n",
       "\n",
       "               DateString DayOfWeek  Weekend  Season  HourAMPM TimeOfDay  \\\n",
       "0  2025-06-28 07:58:59 PM  Saturday     True  Summer  07:58 PM   Evening   \n",
       "1  2025-06-28 11:00:10 AM  Saturday     True  Summer  11:00 AM   Morning   \n",
       "2  2025-06-28 10:02:37 AM  Saturday     True  Summer  10:02 AM   Morning   \n",
       "3  2025-06-28 09:48:15 AM  Saturday     True  Summer  09:48 AM   Morning   \n",
       "4  2025-06-28 08:48:26 AM  Saturday     True  Summer  08:48 AM   Morning   \n",
       "\n",
       "             FullStreet        lat        lon  \n",
       "0       1600 EMMET ST N  38.057947 -78.493911  \n",
       "1  500 CLEVELAND AVE, B  38.017032 -78.498393  \n",
       "2        500 14TH ST NW  38.039318 -78.496467  \n",
       "3  200 HARTMANS MILL RD  38.019711 -78.488405  \n",
       "4         600 E HIGH ST  38.031946 -78.476952  "
      ]
     },
     "execution_count": 9,
     "metadata": {},
     "output_type": "execute_result"
    }
   ],
   "source": [
    "# Combine BlockNumber and StreetName into a full address string\n",
    "df['FullStreet'] = df['BlockNumber'].astype(str) + \" \" + df['StreetName']\n",
    "\n",
    "# --- Step 1: Setup the Google Maps Client and Cache ---\n",
    "gmaps = googlemaps.Client(key=GOOGLE_API_KEY)\n",
    "\n",
    "# Try to load cached geocoding results if available.\n",
    "try:\n",
    "    with open(\"geocode_cache_google.pkl\", \"rb\") as f:\n",
    "        street_coords = pickle.load(f)\n",
    "    print(\"Loaded geocode cache.\")\n",
    "except FileNotFoundError:\n",
    "    street_coords = {}\n",
    "    print(\"No cache found; starting fresh.\")\n",
    "\n",
    "def geocode_address(address):\n",
    "    try:\n",
    "        # Append city and state to help geocoding\n",
    "        result = gmaps.geocode(f\"{address}, Charlottesville, VA\")\n",
    "        if result:\n",
    "            lat = result[0]['geometry']['location']['lat']\n",
    "            lon = result[0]['geometry']['location']['lng']\n",
    "            return lat, lon\n",
    "    except Exception as e:\n",
    "        print(f\"Error geocoding {address}: {e}\")\n",
    "    return None, None\n",
    "\n",
    "# --- Step 2: Geocode Only New Addresses ---\n",
    "unique_addresses = df['FullStreet'].unique()\n",
    "for address in unique_addresses:\n",
    "    if address not in street_coords:\n",
    "        lat, lon = geocode_address(address)\n",
    "        street_coords[address] = (lat, lon)\n",
    "        print(f\"Geocoded {address}: {lat}, {lon}\")\n",
    "\n",
    "# Save the updated cache to disk.\n",
    "with open(\"geocode_cache_google.pkl\", \"wb\") as f:\n",
    "    pickle.dump(street_coords, f)\n",
    "    print(\"Geocode cache updated and saved.\")\n",
    "\n",
    "# --- Step 3: Map Coordinates Back to DataFrame ---\n",
    "df['lat'] = df['FullStreet'].map(lambda s: street_coords.get(s, (None, None))[0])\n",
    "df['lon'] = df['FullStreet'].map(lambda s: street_coords.get(s, (None, None))[1])\n",
    "\n",
    "df.head()"
   ]
  },
  {
   "cell_type": "markdown",
   "id": "976bc905",
   "metadata": {
    "papermill": {
     "duration": 0.004509,
     "end_time": "2025-07-01T01:13:54.358211",
     "exception": false,
     "start_time": "2025-07-01T01:13:54.353702",
     "status": "completed"
    },
    "tags": []
   },
   "source": [
    "### Neighborhood"
   ]
  },
  {
   "cell_type": "code",
   "execution_count": 10,
   "id": "385aca5b",
   "metadata": {
    "execution": {
     "iopub.execute_input": "2025-07-01T01:13:54.368182Z",
     "iopub.status.busy": "2025-07-01T01:13:54.367712Z",
     "iopub.status.idle": "2025-07-01T01:13:55.296537Z",
     "shell.execute_reply": "2025-07-01T01:13:55.295930Z"
    },
    "papermill": {
     "duration": 0.935004,
     "end_time": "2025-07-01T01:13:55.297603",
     "exception": false,
     "start_time": "2025-07-01T01:13:54.362599",
     "status": "completed"
    },
    "tags": []
   },
   "outputs": [
    {
     "name": "stdout",
     "output_type": "stream",
     "text": [
      "Loaded neighborhood cache.\n"
     ]
    },
    {
     "name": "stdout",
     "output_type": "stream",
     "text": [
      "Error getting neighborhood for nan, nan: HTTP Error: 400\n",
      "Error getting neighborhood for nan, nan: HTTP Error: 400\n"
     ]
    },
    {
     "name": "stdout",
     "output_type": "stream",
     "text": [
      "Error getting neighborhood for nan, nan: HTTP Error: 400\n",
      "Error getting neighborhood for nan, nan: HTTP Error: 400\n"
     ]
    },
    {
     "name": "stdout",
     "output_type": "stream",
     "text": [
      "Error getting neighborhood for nan, nan: HTTP Error: 400\n",
      "Error getting neighborhood for nan, nan: HTTP Error: 400\n",
      "Error getting neighborhood for nan, nan: HTTP Error: 400\n",
      "Error getting neighborhood for nan, nan: HTTP Error: 400\n",
      "Error getting neighborhood for nan, nan: HTTP Error: 400\n"
     ]
    },
    {
     "name": "stdout",
     "output_type": "stream",
     "text": [
      "Error getting neighborhood for nan, nan: HTTP Error: 400\n",
      "Error getting neighborhood for nan, nan: HTTP Error: 400\n",
      "Error getting neighborhood for nan, nan: HTTP Error: 400\n"
     ]
    },
    {
     "name": "stdout",
     "output_type": "stream",
     "text": [
      "Error getting neighborhood for nan, nan: HTTP Error: 400\n",
      "Error getting neighborhood for nan, nan: HTTP Error: 400\n",
      "Error getting neighborhood for nan, nan: HTTP Error: 400\n"
     ]
    },
    {
     "name": "stdout",
     "output_type": "stream",
     "text": [
      "Error getting neighborhood for nan, nan: HTTP Error: 400\n",
      "Error getting neighborhood for nan, nan: HTTP Error: 400\n",
      "Error getting neighborhood for nan, nan: HTTP Error: 400\n",
      "Error getting neighborhood for nan, nan: HTTP Error: 400\n",
      "Error getting neighborhood for nan, nan: HTTP Error: 400\n",
      "Error getting neighborhood for nan, nan: HTTP Error: 400\n",
      "Error getting neighborhood for nan, nan: HTTP Error: 400\n"
     ]
    },
    {
     "name": "stdout",
     "output_type": "stream",
     "text": [
      "Error getting neighborhood for nan, nan: HTTP Error: 400\n",
      "Error getting neighborhood for nan, nan: HTTP Error: 400\n",
      "Error getting neighborhood for nan, nan: HTTP Error: 400\n"
     ]
    },
    {
     "name": "stdout",
     "output_type": "stream",
     "text": [
      "Error getting neighborhood for nan, nan: HTTP Error: 400\n",
      "Error getting neighborhood for nan, nan: HTTP Error: 400\n",
      "Error getting neighborhood for nan, nan: HTTP Error: 400\n"
     ]
    },
    {
     "name": "stdout",
     "output_type": "stream",
     "text": [
      "Error getting neighborhood for nan, nan: HTTP Error: 400\n",
      "Error getting neighborhood for nan, nan: HTTP Error: 400\n",
      "Error getting neighborhood for nan, nan: HTTP Error: 400\n",
      "Error getting neighborhood for nan, nan: HTTP Error: 400\n",
      "Error getting neighborhood for nan, nan: HTTP Error: 400\n",
      "Error getting neighborhood for nan, nan: HTTP Error: 400\n",
      "Error getting neighborhood for nan, nan: HTTP Error: 400\n"
     ]
    },
    {
     "data": {
      "text/html": [
       "<div>\n",
       "<style scoped>\n",
       "    .dataframe tbody tr th:only-of-type {\n",
       "        vertical-align: middle;\n",
       "    }\n",
       "\n",
       "    .dataframe tbody tr th {\n",
       "        vertical-align: top;\n",
       "    }\n",
       "\n",
       "    .dataframe thead th {\n",
       "        text-align: right;\n",
       "    }\n",
       "</style>\n",
       "<table border=\"1\" class=\"dataframe\">\n",
       "  <thead>\n",
       "    <tr style=\"text-align: right;\">\n",
       "      <th></th>\n",
       "      <th>RecordID</th>\n",
       "      <th>Offense</th>\n",
       "      <th>IncidentID</th>\n",
       "      <th>BlockNumber</th>\n",
       "      <th>StreetName</th>\n",
       "      <th>Agency</th>\n",
       "      <th>HourReported</th>\n",
       "      <th>ReportingOfficer</th>\n",
       "      <th>Date</th>\n",
       "      <th>DateString</th>\n",
       "      <th>DayOfWeek</th>\n",
       "      <th>Weekend</th>\n",
       "      <th>Season</th>\n",
       "      <th>HourAMPM</th>\n",
       "      <th>TimeOfDay</th>\n",
       "      <th>FullStreet</th>\n",
       "      <th>lat</th>\n",
       "      <th>lon</th>\n",
       "      <th>neighborhood</th>\n",
       "    </tr>\n",
       "  </thead>\n",
       "  <tbody>\n",
       "    <tr>\n",
       "      <th>0</th>\n",
       "      <td>1</td>\n",
       "      <td>Assist Citizen - Mental/TDO/ECO</td>\n",
       "      <td>202500022361</td>\n",
       "      <td>1600</td>\n",
       "      <td>EMMET ST N</td>\n",
       "      <td>CPD</td>\n",
       "      <td>1958</td>\n",
       "      <td>Carrasco, Julio</td>\n",
       "      <td>2025-06-28 19:58:59</td>\n",
       "      <td>2025-06-28 07:58:59 PM</td>\n",
       "      <td>Saturday</td>\n",
       "      <td>True</td>\n",
       "      <td>Summer</td>\n",
       "      <td>07:58 PM</td>\n",
       "      <td>Evening</td>\n",
       "      <td>1600 EMMET ST N</td>\n",
       "      <td>38.057947</td>\n",
       "      <td>-78.493911</td>\n",
       "      <td>The Meadows</td>\n",
       "    </tr>\n",
       "    <tr>\n",
       "      <th>1</th>\n",
       "      <td>2</td>\n",
       "      <td>Hit and Run</td>\n",
       "      <td>202500022312</td>\n",
       "      <td>500</td>\n",
       "      <td>CLEVELAND AVE, B</td>\n",
       "      <td>CPD</td>\n",
       "      <td>1100</td>\n",
       "      <td>Ritter, Kobe</td>\n",
       "      <td>2025-06-28 11:00:10</td>\n",
       "      <td>2025-06-28 11:00:10 AM</td>\n",
       "      <td>Saturday</td>\n",
       "      <td>True</td>\n",
       "      <td>Summer</td>\n",
       "      <td>11:00 AM</td>\n",
       "      <td>Morning</td>\n",
       "      <td>500 CLEVELAND AVE, B</td>\n",
       "      <td>38.017032</td>\n",
       "      <td>-78.498393</td>\n",
       "      <td>Johnson Village</td>\n",
       "    </tr>\n",
       "    <tr>\n",
       "      <th>2</th>\n",
       "      <td>3</td>\n",
       "      <td>Vandalism</td>\n",
       "      <td>202500022307</td>\n",
       "      <td>500</td>\n",
       "      <td>14TH ST NW</td>\n",
       "      <td>CPD</td>\n",
       "      <td>1002</td>\n",
       "      <td>Mian, Ghulam</td>\n",
       "      <td>2025-06-28 10:02:37</td>\n",
       "      <td>2025-06-28 10:02:37 AM</td>\n",
       "      <td>Saturday</td>\n",
       "      <td>True</td>\n",
       "      <td>Summer</td>\n",
       "      <td>10:02 AM</td>\n",
       "      <td>Morning</td>\n",
       "      <td>500 14TH ST NW</td>\n",
       "      <td>38.039318</td>\n",
       "      <td>-78.496467</td>\n",
       "      <td>Venable</td>\n",
       "    </tr>\n",
       "    <tr>\n",
       "      <th>3</th>\n",
       "      <td>4</td>\n",
       "      <td>Larceny - From Motor Vehicle</td>\n",
       "      <td>202500022309</td>\n",
       "      <td>200</td>\n",
       "      <td>HARTMANS MILL RD</td>\n",
       "      <td>CPD</td>\n",
       "      <td>0948</td>\n",
       "      <td>Schwartz, Honora</td>\n",
       "      <td>2025-06-28 09:48:15</td>\n",
       "      <td>2025-06-28 09:48:15 AM</td>\n",
       "      <td>Saturday</td>\n",
       "      <td>True</td>\n",
       "      <td>Summer</td>\n",
       "      <td>09:48 AM</td>\n",
       "      <td>Morning</td>\n",
       "      <td>200 HARTMANS MILL RD</td>\n",
       "      <td>38.019711</td>\n",
       "      <td>-78.488405</td>\n",
       "      <td>Ridge St.</td>\n",
       "    </tr>\n",
       "    <tr>\n",
       "      <th>4</th>\n",
       "      <td>5</td>\n",
       "      <td>Hit and Run</td>\n",
       "      <td>202500022302</td>\n",
       "      <td>600</td>\n",
       "      <td>E HIGH ST</td>\n",
       "      <td>CPD</td>\n",
       "      <td>0848</td>\n",
       "      <td>Mian, Ghulam</td>\n",
       "      <td>2025-06-28 08:48:26</td>\n",
       "      <td>2025-06-28 08:48:26 AM</td>\n",
       "      <td>Saturday</td>\n",
       "      <td>True</td>\n",
       "      <td>Summer</td>\n",
       "      <td>08:48 AM</td>\n",
       "      <td>Morning</td>\n",
       "      <td>600 E HIGH ST</td>\n",
       "      <td>38.031946</td>\n",
       "      <td>-78.476952</td>\n",
       "      <td>North Downtown</td>\n",
       "    </tr>\n",
       "  </tbody>\n",
       "</table>\n",
       "</div>"
      ],
      "text/plain": [
       "   RecordID                          Offense    IncidentID BlockNumber  \\\n",
       "0         1  Assist Citizen - Mental/TDO/ECO  202500022361        1600   \n",
       "1         2                      Hit and Run  202500022312         500   \n",
       "2         3                        Vandalism  202500022307         500   \n",
       "3         4     Larceny - From Motor Vehicle  202500022309         200   \n",
       "4         5                      Hit and Run  202500022302         600   \n",
       "\n",
       "         StreetName Agency HourReported  ReportingOfficer                Date  \\\n",
       "0        EMMET ST N    CPD         1958   Carrasco, Julio 2025-06-28 19:58:59   \n",
       "1  CLEVELAND AVE, B    CPD         1100      Ritter, Kobe 2025-06-28 11:00:10   \n",
       "2        14TH ST NW    CPD         1002      Mian, Ghulam 2025-06-28 10:02:37   \n",
       "3  HARTMANS MILL RD    CPD         0948  Schwartz, Honora 2025-06-28 09:48:15   \n",
       "4         E HIGH ST    CPD         0848      Mian, Ghulam 2025-06-28 08:48:26   \n",
       "\n",
       "               DateString DayOfWeek  Weekend  Season  HourAMPM TimeOfDay  \\\n",
       "0  2025-06-28 07:58:59 PM  Saturday     True  Summer  07:58 PM   Evening   \n",
       "1  2025-06-28 11:00:10 AM  Saturday     True  Summer  11:00 AM   Morning   \n",
       "2  2025-06-28 10:02:37 AM  Saturday     True  Summer  10:02 AM   Morning   \n",
       "3  2025-06-28 09:48:15 AM  Saturday     True  Summer  09:48 AM   Morning   \n",
       "4  2025-06-28 08:48:26 AM  Saturday     True  Summer  08:48 AM   Morning   \n",
       "\n",
       "             FullStreet        lat        lon     neighborhood  \n",
       "0       1600 EMMET ST N  38.057947 -78.493911      The Meadows  \n",
       "1  500 CLEVELAND AVE, B  38.017032 -78.498393  Johnson Village  \n",
       "2        500 14TH ST NW  38.039318 -78.496467          Venable  \n",
       "3  200 HARTMANS MILL RD  38.019711 -78.488405        Ridge St.  \n",
       "4         600 E HIGH ST  38.031946 -78.476952   North Downtown  "
      ]
     },
     "execution_count": 10,
     "metadata": {},
     "output_type": "execute_result"
    }
   ],
   "source": [
    "# Initialize the Google Maps client.\n",
    "gmaps = googlemaps.Client(key=GOOGLE_API_KEY)\n",
    "\n",
    "# Try to load a persistent neighborhood cache if available.\n",
    "try:\n",
    "    with open(\"neighborhood_cache.pkl\", \"rb\") as f:\n",
    "        neighborhood_cache = pickle.load(f)\n",
    "    print(\"Loaded neighborhood cache.\")\n",
    "except FileNotFoundError:\n",
    "    neighborhood_cache = {}\n",
    "    print(\"No neighborhood cache found; starting fresh.\")\n",
    "\n",
    "def get_neighborhood(lat, lon):\n",
    "    \"\"\"\n",
    "    Reverse geocodes a latitude and longitude to retrieve the neighborhood.\n",
    "    Caches results to speed up subsequent lookups.\n",
    "    \"\"\"\n",
    "    key = (lat, lon)\n",
    "    if key in neighborhood_cache:\n",
    "        return neighborhood_cache[key]\n",
    "    \n",
    "    try:\n",
    "        result = gmaps.reverse_geocode((lat, lon))\n",
    "        if result:\n",
    "            # Look for the 'neighborhood' component in the first result.\n",
    "            for component in result[0]['address_components']:\n",
    "                if 'neighborhood' in component['types']:\n",
    "                    neighborhood = component['long_name']\n",
    "                    neighborhood_cache[key] = neighborhood\n",
    "                    return neighborhood\n",
    "            # If no neighborhood is found, return \"N/A\"\n",
    "            neighborhood_cache[key] = \"N/A\"\n",
    "            return \"N/A\"\n",
    "    except Exception as e:\n",
    "        print(f\"Error getting neighborhood for {lat}, {lon}: {e}\")\n",
    "        return \"N/A\"\n",
    "    \n",
    "    # Pause to respect usage limits.\n",
    "    time.sleep(1)\n",
    "\n",
    "# Example usage: Apply to your DataFrame 'df' that already has 'lat' and 'lon' columns.\n",
    "df['neighborhood'] = df.apply(lambda row: get_neighborhood(row['lat'], row['lon']), axis=1)\n",
    "\n",
    "# Save the updated neighborhood cache.\n",
    "with open(\"neighborhood_cache.pkl\", \"wb\") as f:\n",
    "    pickle.dump(neighborhood_cache, f)\n",
    "\n",
    "df.head()\n"
   ]
  },
  {
   "cell_type": "markdown",
   "id": "89d86bbd",
   "metadata": {
    "papermill": {
     "duration": 0.00517,
     "end_time": "2025-07-01T01:13:55.308364",
     "exception": false,
     "start_time": "2025-07-01T01:13:55.303194",
     "status": "completed"
    },
    "tags": []
   },
   "source": [
    "### Zip"
   ]
  },
  {
   "cell_type": "code",
   "execution_count": 11,
   "id": "e5340cc6",
   "metadata": {
    "execution": {
     "iopub.execute_input": "2025-07-01T01:13:55.319831Z",
     "iopub.status.busy": "2025-07-01T01:13:55.319339Z",
     "iopub.status.idle": "2025-07-01T01:14:30.616500Z",
     "shell.execute_reply": "2025-07-01T01:14:30.615881Z"
    },
    "papermill": {
     "duration": 35.304168,
     "end_time": "2025-07-01T01:14:30.617589",
     "exception": false,
     "start_time": "2025-07-01T01:13:55.313421",
     "status": "completed"
    },
    "tags": []
   },
   "outputs": [
    {
     "name": "stdout",
     "output_type": "stream",
     "text": [
      "Loaded zip cache.\n",
      "Error getting ZIP for nan, nan: Must be a coordinate pair or Point\n"
     ]
    },
    {
     "name": "stdout",
     "output_type": "stream",
     "text": [
      "Error getting ZIP for nan, nan: Must be a coordinate pair or Point\n"
     ]
    },
    {
     "name": "stdout",
     "output_type": "stream",
     "text": [
      "Error getting ZIP for nan, nan: Must be a coordinate pair or Point\n"
     ]
    },
    {
     "name": "stdout",
     "output_type": "stream",
     "text": [
      "Error getting ZIP for nan, nan: Must be a coordinate pair or Point\n"
     ]
    },
    {
     "name": "stdout",
     "output_type": "stream",
     "text": [
      "Error getting ZIP for nan, nan: Must be a coordinate pair or Point\n"
     ]
    },
    {
     "name": "stdout",
     "output_type": "stream",
     "text": [
      "Error getting ZIP for nan, nan: Must be a coordinate pair or Point\n"
     ]
    },
    {
     "name": "stdout",
     "output_type": "stream",
     "text": [
      "Error getting ZIP for nan, nan: Must be a coordinate pair or Point\n"
     ]
    },
    {
     "name": "stdout",
     "output_type": "stream",
     "text": [
      "Error getting ZIP for nan, nan: Must be a coordinate pair or Point\n"
     ]
    },
    {
     "name": "stdout",
     "output_type": "stream",
     "text": [
      "Error getting ZIP for nan, nan: Must be a coordinate pair or Point\n"
     ]
    },
    {
     "name": "stdout",
     "output_type": "stream",
     "text": [
      "Error getting ZIP for nan, nan: Must be a coordinate pair or Point\n"
     ]
    },
    {
     "name": "stdout",
     "output_type": "stream",
     "text": [
      "Error getting ZIP for nan, nan: Must be a coordinate pair or Point\n"
     ]
    },
    {
     "name": "stdout",
     "output_type": "stream",
     "text": [
      "Error getting ZIP for nan, nan: Must be a coordinate pair or Point\n"
     ]
    },
    {
     "name": "stdout",
     "output_type": "stream",
     "text": [
      "Error getting ZIP for nan, nan: Must be a coordinate pair or Point\n"
     ]
    },
    {
     "name": "stdout",
     "output_type": "stream",
     "text": [
      "Error getting ZIP for nan, nan: Must be a coordinate pair or Point\n"
     ]
    },
    {
     "name": "stdout",
     "output_type": "stream",
     "text": [
      "Error getting ZIP for nan, nan: Must be a coordinate pair or Point\n"
     ]
    },
    {
     "name": "stdout",
     "output_type": "stream",
     "text": [
      "Error getting ZIP for nan, nan: Must be a coordinate pair or Point\n"
     ]
    },
    {
     "name": "stdout",
     "output_type": "stream",
     "text": [
      "Error getting ZIP for nan, nan: Must be a coordinate pair or Point\n"
     ]
    },
    {
     "name": "stdout",
     "output_type": "stream",
     "text": [
      "Error getting ZIP for nan, nan: Must be a coordinate pair or Point\n"
     ]
    },
    {
     "name": "stdout",
     "output_type": "stream",
     "text": [
      "Error getting ZIP for nan, nan: Must be a coordinate pair or Point\n"
     ]
    },
    {
     "name": "stdout",
     "output_type": "stream",
     "text": [
      "Error getting ZIP for nan, nan: Must be a coordinate pair or Point\n"
     ]
    },
    {
     "name": "stdout",
     "output_type": "stream",
     "text": [
      "Error getting ZIP for nan, nan: Must be a coordinate pair or Point\n"
     ]
    },
    {
     "name": "stdout",
     "output_type": "stream",
     "text": [
      "Error getting ZIP for nan, nan: Must be a coordinate pair or Point\n"
     ]
    },
    {
     "name": "stdout",
     "output_type": "stream",
     "text": [
      "Error getting ZIP for nan, nan: Must be a coordinate pair or Point\n"
     ]
    },
    {
     "name": "stdout",
     "output_type": "stream",
     "text": [
      "Error getting ZIP for nan, nan: Must be a coordinate pair or Point\n"
     ]
    },
    {
     "name": "stdout",
     "output_type": "stream",
     "text": [
      "Error getting ZIP for nan, nan: Must be a coordinate pair or Point\n"
     ]
    },
    {
     "name": "stdout",
     "output_type": "stream",
     "text": [
      "Error getting ZIP for nan, nan: Must be a coordinate pair or Point\n"
     ]
    },
    {
     "name": "stdout",
     "output_type": "stream",
     "text": [
      "Error getting ZIP for nan, nan: Must be a coordinate pair or Point\n"
     ]
    },
    {
     "name": "stdout",
     "output_type": "stream",
     "text": [
      "Error getting ZIP for nan, nan: Must be a coordinate pair or Point\n"
     ]
    },
    {
     "name": "stdout",
     "output_type": "stream",
     "text": [
      "Error getting ZIP for nan, nan: Must be a coordinate pair or Point\n"
     ]
    },
    {
     "name": "stdout",
     "output_type": "stream",
     "text": [
      "Error getting ZIP for nan, nan: Must be a coordinate pair or Point\n"
     ]
    },
    {
     "name": "stdout",
     "output_type": "stream",
     "text": [
      "Error getting ZIP for nan, nan: Must be a coordinate pair or Point\n"
     ]
    },
    {
     "name": "stdout",
     "output_type": "stream",
     "text": [
      "Error getting ZIP for nan, nan: Must be a coordinate pair or Point\n"
     ]
    },
    {
     "name": "stdout",
     "output_type": "stream",
     "text": [
      "Error getting ZIP for nan, nan: Must be a coordinate pair or Point\n"
     ]
    },
    {
     "name": "stdout",
     "output_type": "stream",
     "text": [
      "Error getting ZIP for nan, nan: Must be a coordinate pair or Point\n"
     ]
    },
    {
     "name": "stdout",
     "output_type": "stream",
     "text": [
      "Error getting ZIP for nan, nan: Must be a coordinate pair or Point\n"
     ]
    },
    {
     "data": {
      "text/html": [
       "<div>\n",
       "<style scoped>\n",
       "    .dataframe tbody tr th:only-of-type {\n",
       "        vertical-align: middle;\n",
       "    }\n",
       "\n",
       "    .dataframe tbody tr th {\n",
       "        vertical-align: top;\n",
       "    }\n",
       "\n",
       "    .dataframe thead th {\n",
       "        text-align: right;\n",
       "    }\n",
       "</style>\n",
       "<table border=\"1\" class=\"dataframe\">\n",
       "  <thead>\n",
       "    <tr style=\"text-align: right;\">\n",
       "      <th></th>\n",
       "      <th>RecordID</th>\n",
       "      <th>Offense</th>\n",
       "      <th>IncidentID</th>\n",
       "      <th>BlockNumber</th>\n",
       "      <th>StreetName</th>\n",
       "      <th>Agency</th>\n",
       "      <th>HourReported</th>\n",
       "      <th>ReportingOfficer</th>\n",
       "      <th>Date</th>\n",
       "      <th>DateString</th>\n",
       "      <th>DayOfWeek</th>\n",
       "      <th>Weekend</th>\n",
       "      <th>Season</th>\n",
       "      <th>HourAMPM</th>\n",
       "      <th>TimeOfDay</th>\n",
       "      <th>FullStreet</th>\n",
       "      <th>lat</th>\n",
       "      <th>lon</th>\n",
       "      <th>neighborhood</th>\n",
       "      <th>zip</th>\n",
       "    </tr>\n",
       "  </thead>\n",
       "  <tbody>\n",
       "    <tr>\n",
       "      <th>0</th>\n",
       "      <td>1</td>\n",
       "      <td>Assist Citizen - Mental/TDO/ECO</td>\n",
       "      <td>202500022361</td>\n",
       "      <td>1600</td>\n",
       "      <td>EMMET ST N</td>\n",
       "      <td>CPD</td>\n",
       "      <td>1958</td>\n",
       "      <td>Carrasco, Julio</td>\n",
       "      <td>2025-06-28 19:58:59</td>\n",
       "      <td>2025-06-28 07:58:59 PM</td>\n",
       "      <td>Saturday</td>\n",
       "      <td>True</td>\n",
       "      <td>Summer</td>\n",
       "      <td>07:58 PM</td>\n",
       "      <td>Evening</td>\n",
       "      <td>1600 EMMET ST N</td>\n",
       "      <td>38.057947</td>\n",
       "      <td>-78.493911</td>\n",
       "      <td>The Meadows</td>\n",
       "      <td>22901</td>\n",
       "    </tr>\n",
       "    <tr>\n",
       "      <th>1</th>\n",
       "      <td>2</td>\n",
       "      <td>Hit and Run</td>\n",
       "      <td>202500022312</td>\n",
       "      <td>500</td>\n",
       "      <td>CLEVELAND AVE, B</td>\n",
       "      <td>CPD</td>\n",
       "      <td>1100</td>\n",
       "      <td>Ritter, Kobe</td>\n",
       "      <td>2025-06-28 11:00:10</td>\n",
       "      <td>2025-06-28 11:00:10 AM</td>\n",
       "      <td>Saturday</td>\n",
       "      <td>True</td>\n",
       "      <td>Summer</td>\n",
       "      <td>11:00 AM</td>\n",
       "      <td>Morning</td>\n",
       "      <td>500 CLEVELAND AVE, B</td>\n",
       "      <td>38.017032</td>\n",
       "      <td>-78.498393</td>\n",
       "      <td>Johnson Village</td>\n",
       "      <td>22903</td>\n",
       "    </tr>\n",
       "    <tr>\n",
       "      <th>2</th>\n",
       "      <td>3</td>\n",
       "      <td>Vandalism</td>\n",
       "      <td>202500022307</td>\n",
       "      <td>500</td>\n",
       "      <td>14TH ST NW</td>\n",
       "      <td>CPD</td>\n",
       "      <td>1002</td>\n",
       "      <td>Mian, Ghulam</td>\n",
       "      <td>2025-06-28 10:02:37</td>\n",
       "      <td>2025-06-28 10:02:37 AM</td>\n",
       "      <td>Saturday</td>\n",
       "      <td>True</td>\n",
       "      <td>Summer</td>\n",
       "      <td>10:02 AM</td>\n",
       "      <td>Morning</td>\n",
       "      <td>500 14TH ST NW</td>\n",
       "      <td>38.039318</td>\n",
       "      <td>-78.496467</td>\n",
       "      <td>Venable</td>\n",
       "      <td>22903</td>\n",
       "    </tr>\n",
       "    <tr>\n",
       "      <th>3</th>\n",
       "      <td>4</td>\n",
       "      <td>Larceny - From Motor Vehicle</td>\n",
       "      <td>202500022309</td>\n",
       "      <td>200</td>\n",
       "      <td>HARTMANS MILL RD</td>\n",
       "      <td>CPD</td>\n",
       "      <td>0948</td>\n",
       "      <td>Schwartz, Honora</td>\n",
       "      <td>2025-06-28 09:48:15</td>\n",
       "      <td>2025-06-28 09:48:15 AM</td>\n",
       "      <td>Saturday</td>\n",
       "      <td>True</td>\n",
       "      <td>Summer</td>\n",
       "      <td>09:48 AM</td>\n",
       "      <td>Morning</td>\n",
       "      <td>200 HARTMANS MILL RD</td>\n",
       "      <td>38.019711</td>\n",
       "      <td>-78.488405</td>\n",
       "      <td>Ridge St.</td>\n",
       "      <td>22903</td>\n",
       "    </tr>\n",
       "    <tr>\n",
       "      <th>4</th>\n",
       "      <td>5</td>\n",
       "      <td>Hit and Run</td>\n",
       "      <td>202500022302</td>\n",
       "      <td>600</td>\n",
       "      <td>E HIGH ST</td>\n",
       "      <td>CPD</td>\n",
       "      <td>0848</td>\n",
       "      <td>Mian, Ghulam</td>\n",
       "      <td>2025-06-28 08:48:26</td>\n",
       "      <td>2025-06-28 08:48:26 AM</td>\n",
       "      <td>Saturday</td>\n",
       "      <td>True</td>\n",
       "      <td>Summer</td>\n",
       "      <td>08:48 AM</td>\n",
       "      <td>Morning</td>\n",
       "      <td>600 E HIGH ST</td>\n",
       "      <td>38.031946</td>\n",
       "      <td>-78.476952</td>\n",
       "      <td>North Downtown</td>\n",
       "      <td>22902</td>\n",
       "    </tr>\n",
       "  </tbody>\n",
       "</table>\n",
       "</div>"
      ],
      "text/plain": [
       "   RecordID                          Offense    IncidentID BlockNumber  \\\n",
       "0         1  Assist Citizen - Mental/TDO/ECO  202500022361        1600   \n",
       "1         2                      Hit and Run  202500022312         500   \n",
       "2         3                        Vandalism  202500022307         500   \n",
       "3         4     Larceny - From Motor Vehicle  202500022309         200   \n",
       "4         5                      Hit and Run  202500022302         600   \n",
       "\n",
       "         StreetName Agency HourReported  ReportingOfficer                Date  \\\n",
       "0        EMMET ST N    CPD         1958   Carrasco, Julio 2025-06-28 19:58:59   \n",
       "1  CLEVELAND AVE, B    CPD         1100      Ritter, Kobe 2025-06-28 11:00:10   \n",
       "2        14TH ST NW    CPD         1002      Mian, Ghulam 2025-06-28 10:02:37   \n",
       "3  HARTMANS MILL RD    CPD         0948  Schwartz, Honora 2025-06-28 09:48:15   \n",
       "4         E HIGH ST    CPD         0848      Mian, Ghulam 2025-06-28 08:48:26   \n",
       "\n",
       "               DateString DayOfWeek  Weekend  Season  HourAMPM TimeOfDay  \\\n",
       "0  2025-06-28 07:58:59 PM  Saturday     True  Summer  07:58 PM   Evening   \n",
       "1  2025-06-28 11:00:10 AM  Saturday     True  Summer  11:00 AM   Morning   \n",
       "2  2025-06-28 10:02:37 AM  Saturday     True  Summer  10:02 AM   Morning   \n",
       "3  2025-06-28 09:48:15 AM  Saturday     True  Summer  09:48 AM   Morning   \n",
       "4  2025-06-28 08:48:26 AM  Saturday     True  Summer  08:48 AM   Morning   \n",
       "\n",
       "             FullStreet        lat        lon     neighborhood    zip  \n",
       "0       1600 EMMET ST N  38.057947 -78.493911      The Meadows  22901  \n",
       "1  500 CLEVELAND AVE, B  38.017032 -78.498393  Johnson Village  22903  \n",
       "2        500 14TH ST NW  38.039318 -78.496467          Venable  22903  \n",
       "3  200 HARTMANS MILL RD  38.019711 -78.488405        Ridge St.  22903  \n",
       "4         600 E HIGH ST  38.031946 -78.476952   North Downtown  22902  "
      ]
     },
     "execution_count": 11,
     "metadata": {},
     "output_type": "execute_result"
    }
   ],
   "source": [
    "# Initialize the geocoder.\n",
    "geolocator = Nominatim(user_agent=\"zip_lookup\")\n",
    "\n",
    "# Try to load a persistent ZIP cache if available.\n",
    "try:\n",
    "    with open(\"zip_cache.pkl\", \"rb\") as f:\n",
    "        zip_cache = pickle.load(f)\n",
    "    print(\"Loaded zip cache.\")\n",
    "except FileNotFoundError:\n",
    "    zip_cache = {}\n",
    "    print(\"No zip cache found; starting fresh.\")\n",
    "\n",
    "def get_zip(lat, lon):\n",
    "    \"\"\"\n",
    "    Reverse geocodes a latitude and longitude to retrieve the ZIP code.\n",
    "    Caches results to speed up subsequent lookups.\n",
    "    \"\"\"\n",
    "    key = (lat, lon)\n",
    "    if key in zip_cache:\n",
    "        return zip_cache[key]\n",
    "    \n",
    "    try:\n",
    "        location = geolocator.reverse((lat, lon), exactly_one=True, timeout=10)\n",
    "        address = location.raw.get('address', {})\n",
    "        postal_code = address.get('postcode', \"N/A\")\n",
    "    except Exception as e:\n",
    "        print(f\"Error getting ZIP for {lat}, {lon}: {e}\")\n",
    "        postal_code = \"N/A\"\n",
    "    \n",
    "    zip_cache[key] = postal_code\n",
    "    # Pause to respect the usage policy.\n",
    "    time.sleep(1)\n",
    "    return postal_code\n",
    "\n",
    "# Apply the function to each row in the DataFrame.\n",
    "df['zip'] = df.apply(lambda row: get_zip(row['lat'], row['lon']), axis=1)\n",
    "\n",
    "# Save the updated ZIP cache.\n",
    "with open(\"zip_cache.pkl\", \"wb\") as f:\n",
    "    pickle.dump(zip_cache, f)\n",
    "\n",
    "df.head()\n"
   ]
  },
  {
   "cell_type": "code",
   "execution_count": 12,
   "id": "5ef1c262",
   "metadata": {
    "execution": {
     "iopub.execute_input": "2025-07-01T01:14:30.632735Z",
     "iopub.status.busy": "2025-07-01T01:14:30.632317Z",
     "iopub.status.idle": "2025-07-01T01:14:30.663586Z",
     "shell.execute_reply": "2025-07-01T01:14:30.662984Z"
    },
    "papermill": {
     "duration": 0.039917,
     "end_time": "2025-07-01T01:14:30.664671",
     "exception": false,
     "start_time": "2025-07-01T01:14:30.624754",
     "status": "completed"
    },
    "tags": []
   },
   "outputs": [
    {
     "name": "stdout",
     "output_type": "stream",
     "text": [
      "                  MissingCount  MissingPercentage\n",
      "RecordID                     0               0.00\n",
      "Offense                      0               0.00\n",
      "IncidentID                   0               0.00\n",
      "BlockNumber                  0               0.00\n",
      "StreetName                   0               0.00\n",
      "Agency                       0               0.00\n",
      "HourReported                 0               0.00\n",
      "ReportingOfficer            17               0.07\n",
      "Date                         0               0.00\n",
      "DateString                   0               0.00\n",
      "DayOfWeek                    0               0.00\n",
      "Weekend                      0               0.00\n",
      "Season                       0               0.00\n",
      "HourAMPM                     0               0.00\n",
      "TimeOfDay                    0               0.00\n",
      "FullStreet                   0               0.00\n",
      "lat                         35               0.14\n",
      "lon                         35               0.14\n",
      "neighborhood                 0               0.00\n",
      "zip                          0               0.00\n"
     ]
    }
   ],
   "source": [
    "missing_info = missing_percentage(df)\n",
    "print(missing_info)\n"
   ]
  },
  {
   "cell_type": "code",
   "execution_count": 13,
   "id": "beaf2170",
   "metadata": {
    "execution": {
     "iopub.execute_input": "2025-07-01T01:14:30.680123Z",
     "iopub.status.busy": "2025-07-01T01:14:30.679476Z",
     "iopub.status.idle": "2025-07-01T01:14:30.711102Z",
     "shell.execute_reply": "2025-07-01T01:14:30.710478Z"
    },
    "papermill": {
     "duration": 0.04036,
     "end_time": "2025-07-01T01:14:30.712159",
     "exception": false,
     "start_time": "2025-07-01T01:14:30.671799",
     "status": "completed"
    },
    "tags": []
   },
   "outputs": [
    {
     "name": "stdout",
     "output_type": "stream",
     "text": [
      "<class 'pandas.core.frame.DataFrame'>\n",
      "RangeIndex: 25541 entries, 0 to 25540\n",
      "Data columns (total 20 columns):\n",
      " #   Column            Non-Null Count  Dtype         \n",
      "---  ------            --------------  -----         \n",
      " 0   RecordID          25541 non-null  int64         \n",
      " 1   Offense           25541 non-null  object        \n",
      " 2   IncidentID        25541 non-null  object        \n",
      " 3   BlockNumber       25541 non-null  object        \n",
      " 4   StreetName        25541 non-null  object        \n",
      " 5   Agency            25541 non-null  object        \n",
      " 6   HourReported      25541 non-null  object        \n",
      " 7   ReportingOfficer  25524 non-null  object        \n",
      " 8   Date              25541 non-null  datetime64[ns]\n",
      " 9   DateString        25541 non-null  object        \n",
      " 10  DayOfWeek         25541 non-null  object        \n",
      " 11  Weekend           25541 non-null  bool          \n",
      " 12  Season            25541 non-null  object        \n",
      " 13  HourAMPM          25541 non-null  object        \n",
      " 14  TimeOfDay         25541 non-null  object        \n",
      " 15  FullStreet        25541 non-null  object        \n",
      " 16  lat               25506 non-null  float64       \n",
      " 17  lon               25506 non-null  float64       \n",
      " 18  neighborhood      25541 non-null  object        \n",
      " 19  zip               25541 non-null  object        \n",
      "dtypes: bool(1), datetime64[ns](1), float64(2), int64(1), object(15)\n",
      "memory usage: 3.7+ MB\n"
     ]
    }
   ],
   "source": [
    "df.info()"
   ]
  },
  {
   "cell_type": "code",
   "execution_count": 14,
   "id": "4ec0b195",
   "metadata": {
    "execution": {
     "iopub.execute_input": "2025-07-01T01:14:30.727703Z",
     "iopub.status.busy": "2025-07-01T01:14:30.727135Z",
     "iopub.status.idle": "2025-07-01T01:14:30.776989Z",
     "shell.execute_reply": "2025-07-01T01:14:30.776254Z"
    },
    "papermill": {
     "duration": 0.058735,
     "end_time": "2025-07-01T01:14:30.778091",
     "exception": false,
     "start_time": "2025-07-01T01:14:30.719356",
     "status": "completed"
    },
    "tags": []
   },
   "outputs": [
    {
     "data": {
      "text/html": [
       "<div>\n",
       "<style scoped>\n",
       "    .dataframe tbody tr th:only-of-type {\n",
       "        vertical-align: middle;\n",
       "    }\n",
       "\n",
       "    .dataframe tbody tr th {\n",
       "        vertical-align: top;\n",
       "    }\n",
       "\n",
       "    .dataframe thead th {\n",
       "        text-align: right;\n",
       "    }\n",
       "</style>\n",
       "<table border=\"1\" class=\"dataframe\">\n",
       "  <thead>\n",
       "    <tr style=\"text-align: right;\">\n",
       "      <th></th>\n",
       "      <th>RecordID</th>\n",
       "      <th>Offense</th>\n",
       "      <th>IncidentID</th>\n",
       "      <th>Agency</th>\n",
       "      <th>ReportingOfficer</th>\n",
       "      <th>Date</th>\n",
       "      <th>DayOfWeek</th>\n",
       "      <th>Weekend</th>\n",
       "      <th>Season</th>\n",
       "      <th>TimeOfDay</th>\n",
       "      <th>FullStreet</th>\n",
       "      <th>lat</th>\n",
       "      <th>lon</th>\n",
       "      <th>neighborhood</th>\n",
       "      <th>zip</th>\n",
       "    </tr>\n",
       "  </thead>\n",
       "  <tbody>\n",
       "    <tr>\n",
       "      <th>0</th>\n",
       "      <td>1</td>\n",
       "      <td>Assist Citizen - Mental/TDO/ECO</td>\n",
       "      <td>202500022361</td>\n",
       "      <td>CPD</td>\n",
       "      <td>Carrasco, Julio</td>\n",
       "      <td>2025-06-28 19:58:59</td>\n",
       "      <td>Saturday</td>\n",
       "      <td>True</td>\n",
       "      <td>Summer</td>\n",
       "      <td>Evening</td>\n",
       "      <td>1600 EMMET ST N</td>\n",
       "      <td>38.057947</td>\n",
       "      <td>-78.493911</td>\n",
       "      <td>The Meadows</td>\n",
       "      <td>22901</td>\n",
       "    </tr>\n",
       "    <tr>\n",
       "      <th>1</th>\n",
       "      <td>2</td>\n",
       "      <td>Hit and Run</td>\n",
       "      <td>202500022312</td>\n",
       "      <td>CPD</td>\n",
       "      <td>Ritter, Kobe</td>\n",
       "      <td>2025-06-28 11:00:10</td>\n",
       "      <td>Saturday</td>\n",
       "      <td>True</td>\n",
       "      <td>Summer</td>\n",
       "      <td>Morning</td>\n",
       "      <td>500 CLEVELAND AVE, B</td>\n",
       "      <td>38.017032</td>\n",
       "      <td>-78.498393</td>\n",
       "      <td>Johnson Village</td>\n",
       "      <td>22903</td>\n",
       "    </tr>\n",
       "    <tr>\n",
       "      <th>2</th>\n",
       "      <td>3</td>\n",
       "      <td>Vandalism</td>\n",
       "      <td>202500022307</td>\n",
       "      <td>CPD</td>\n",
       "      <td>Mian, Ghulam</td>\n",
       "      <td>2025-06-28 10:02:37</td>\n",
       "      <td>Saturday</td>\n",
       "      <td>True</td>\n",
       "      <td>Summer</td>\n",
       "      <td>Morning</td>\n",
       "      <td>500 14TH ST NW</td>\n",
       "      <td>38.039318</td>\n",
       "      <td>-78.496467</td>\n",
       "      <td>Venable</td>\n",
       "      <td>22903</td>\n",
       "    </tr>\n",
       "    <tr>\n",
       "      <th>3</th>\n",
       "      <td>4</td>\n",
       "      <td>Larceny - From Motor Vehicle</td>\n",
       "      <td>202500022309</td>\n",
       "      <td>CPD</td>\n",
       "      <td>Schwartz, Honora</td>\n",
       "      <td>2025-06-28 09:48:15</td>\n",
       "      <td>Saturday</td>\n",
       "      <td>True</td>\n",
       "      <td>Summer</td>\n",
       "      <td>Morning</td>\n",
       "      <td>200 HARTMANS MILL RD</td>\n",
       "      <td>38.019711</td>\n",
       "      <td>-78.488405</td>\n",
       "      <td>Ridge St.</td>\n",
       "      <td>22903</td>\n",
       "    </tr>\n",
       "    <tr>\n",
       "      <th>4</th>\n",
       "      <td>5</td>\n",
       "      <td>Hit and Run</td>\n",
       "      <td>202500022302</td>\n",
       "      <td>CPD</td>\n",
       "      <td>Mian, Ghulam</td>\n",
       "      <td>2025-06-28 08:48:26</td>\n",
       "      <td>Saturday</td>\n",
       "      <td>True</td>\n",
       "      <td>Summer</td>\n",
       "      <td>Morning</td>\n",
       "      <td>600 E HIGH ST</td>\n",
       "      <td>38.031946</td>\n",
       "      <td>-78.476952</td>\n",
       "      <td>North Downtown</td>\n",
       "      <td>22902</td>\n",
       "    </tr>\n",
       "  </tbody>\n",
       "</table>\n",
       "</div>"
      ],
      "text/plain": [
       "   RecordID                          Offense    IncidentID Agency  \\\n",
       "0         1  Assist Citizen - Mental/TDO/ECO  202500022361    CPD   \n",
       "1         2                      Hit and Run  202500022312    CPD   \n",
       "2         3                        Vandalism  202500022307    CPD   \n",
       "3         4     Larceny - From Motor Vehicle  202500022309    CPD   \n",
       "4         5                      Hit and Run  202500022302    CPD   \n",
       "\n",
       "   ReportingOfficer                Date DayOfWeek  Weekend  Season TimeOfDay  \\\n",
       "0   Carrasco, Julio 2025-06-28 19:58:59  Saturday     True  Summer   Evening   \n",
       "1      Ritter, Kobe 2025-06-28 11:00:10  Saturday     True  Summer   Morning   \n",
       "2      Mian, Ghulam 2025-06-28 10:02:37  Saturday     True  Summer   Morning   \n",
       "3  Schwartz, Honora 2025-06-28 09:48:15  Saturday     True  Summer   Morning   \n",
       "4      Mian, Ghulam 2025-06-28 08:48:26  Saturday     True  Summer   Morning   \n",
       "\n",
       "             FullStreet        lat        lon     neighborhood    zip  \n",
       "0       1600 EMMET ST N  38.057947 -78.493911      The Meadows  22901  \n",
       "1  500 CLEVELAND AVE, B  38.017032 -78.498393  Johnson Village  22903  \n",
       "2        500 14TH ST NW  38.039318 -78.496467          Venable  22903  \n",
       "3  200 HARTMANS MILL RD  38.019711 -78.488405        Ridge St.  22903  \n",
       "4         600 E HIGH ST  38.031946 -78.476952   North Downtown  22902  "
      ]
     },
     "execution_count": 14,
     "metadata": {},
     "output_type": "execute_result"
    }
   ],
   "source": [
    "# Now drop the original BlockNumber and StreetName columns\n",
    "df.drop(columns=['BlockNumber', 'StreetName','HourAMPM','HourReported','DateString'], inplace=True)\n",
    "df[\"zip\"] = df[\"zip\"].astype(str)\n",
    "\n",
    "# Fill all missing values in the DataFrame with \"N/A\"\n",
    "df.replace({None: \"N/A\", np.nan: \"N/A\", \"\": \"N/A\"}, inplace=True)\n",
    "df.head()"
   ]
  },
  {
   "cell_type": "code",
   "execution_count": 15,
   "id": "3f042d3b",
   "metadata": {
    "execution": {
     "iopub.execute_input": "2025-07-01T01:14:30.794457Z",
     "iopub.status.busy": "2025-07-01T01:14:30.793872Z",
     "iopub.status.idle": "2025-07-01T01:14:30.817707Z",
     "shell.execute_reply": "2025-07-01T01:14:30.817101Z"
    },
    "papermill": {
     "duration": 0.033117,
     "end_time": "2025-07-01T01:14:30.818741",
     "exception": false,
     "start_time": "2025-07-01T01:14:30.785624",
     "status": "completed"
    },
    "tags": []
   },
   "outputs": [
    {
     "name": "stdout",
     "output_type": "stream",
     "text": [
      "                  MissingCount  MissingPercentage\n",
      "RecordID                     0                0.0\n",
      "Offense                      0                0.0\n",
      "IncidentID                   0                0.0\n",
      "Agency                       0                0.0\n",
      "ReportingOfficer             0                0.0\n",
      "Date                         0                0.0\n",
      "DayOfWeek                    0                0.0\n",
      "Weekend                      0                0.0\n",
      "Season                       0                0.0\n",
      "TimeOfDay                    0                0.0\n",
      "FullStreet                   0                0.0\n",
      "lat                          0                0.0\n",
      "lon                          0                0.0\n",
      "neighborhood                 0                0.0\n",
      "zip                          0                0.0\n"
     ]
    }
   ],
   "source": [
    "missing_info = missing_percentage(df)\n",
    "print(missing_info)"
   ]
  },
  {
   "cell_type": "code",
   "execution_count": 16,
   "id": "bfb2b6be",
   "metadata": {
    "execution": {
     "iopub.execute_input": "2025-07-01T01:14:30.834700Z",
     "iopub.status.busy": "2025-07-01T01:14:30.834236Z",
     "iopub.status.idle": "2025-07-01T01:14:30.839079Z",
     "shell.execute_reply": "2025-07-01T01:14:30.838508Z"
    },
    "papermill": {
     "duration": 0.01388,
     "end_time": "2025-07-01T01:14:30.840100",
     "exception": false,
     "start_time": "2025-07-01T01:14:30.826220",
     "status": "completed"
    },
    "tags": []
   },
   "outputs": [
    {
     "data": {
      "text/plain": [
       "Index(['RecordID', 'Offense', 'IncidentID', 'Agency', 'ReportingOfficer',\n",
       "       'Date', 'DayOfWeek', 'Weekend', 'Season', 'TimeOfDay', 'FullStreet',\n",
       "       'lat', 'lon', 'neighborhood', 'zip'],\n",
       "      dtype='object')"
      ]
     },
     "execution_count": 16,
     "metadata": {},
     "output_type": "execute_result"
    }
   ],
   "source": [
    "df.columns"
   ]
  },
  {
   "cell_type": "code",
   "execution_count": 17,
   "id": "0beb6bfd",
   "metadata": {
    "execution": {
     "iopub.execute_input": "2025-07-01T01:14:30.856063Z",
     "iopub.status.busy": "2025-07-01T01:14:30.855540Z",
     "iopub.status.idle": "2025-07-01T01:14:30.879765Z",
     "shell.execute_reply": "2025-07-01T01:14:30.879072Z"
    },
    "papermill": {
     "duration": 0.033364,
     "end_time": "2025-07-01T01:14:30.880828",
     "exception": false,
     "start_time": "2025-07-01T01:14:30.847464",
     "status": "completed"
    },
    "tags": []
   },
   "outputs": [
    {
     "name": "stdout",
     "output_type": "stream",
     "text": [
      "<class 'pandas.core.frame.DataFrame'>\n",
      "RangeIndex: 25541 entries, 0 to 25540\n",
      "Data columns (total 15 columns):\n",
      " #   Column            Non-Null Count  Dtype         \n",
      "---  ------            --------------  -----         \n",
      " 0   RecordID          25541 non-null  int64         \n",
      " 1   Offense           25541 non-null  object        \n",
      " 2   IncidentID        25541 non-null  object        \n",
      " 3   Agency            25541 non-null  object        \n",
      " 4   ReportingOfficer  25541 non-null  object        \n",
      " 5   Date              25541 non-null  datetime64[ns]\n",
      " 6   DayOfWeek         25541 non-null  object        \n",
      " 7   Weekend           25541 non-null  bool          \n",
      " 8   Season            25541 non-null  object        \n",
      " 9   TimeOfDay         25541 non-null  object        \n",
      " 10  FullStreet        25541 non-null  object        \n",
      " 11  lat               25541 non-null  object        \n",
      " 12  lon               25541 non-null  object        \n",
      " 13  neighborhood      25541 non-null  object        \n",
      " 14  zip               25541 non-null  object        \n",
      "dtypes: bool(1), datetime64[ns](1), int64(1), object(12)\n",
      "memory usage: 2.8+ MB\n"
     ]
    }
   ],
   "source": [
    "df.info()"
   ]
  },
  {
   "cell_type": "markdown",
   "id": "e467f000",
   "metadata": {
    "papermill": {
     "duration": 0.007572,
     "end_time": "2025-07-01T01:14:30.896221",
     "exception": false,
     "start_time": "2025-07-01T01:14:30.888649",
     "status": "completed"
    },
    "tags": []
   },
   "source": [
    "### Export Clean Data"
   ]
  },
  {
   "cell_type": "code",
   "execution_count": 18,
   "id": "7c73d49e",
   "metadata": {
    "execution": {
     "iopub.execute_input": "2025-07-01T01:14:30.912479Z",
     "iopub.status.busy": "2025-07-01T01:14:30.912017Z",
     "iopub.status.idle": "2025-07-01T01:14:40.091404Z",
     "shell.execute_reply": "2025-07-01T01:14:40.090785Z"
    },
    "papermill": {
     "duration": 9.189078,
     "end_time": "2025-07-01T01:14:40.092528",
     "exception": false,
     "start_time": "2025-07-01T01:14:30.903450",
     "status": "completed"
    },
    "tags": []
   },
   "outputs": [
    {
     "name": "stdout",
     "output_type": "stream",
     "text": [
      "Project Root: /home/runner/work/crime-data/crime-data\n"
     ]
    },
    {
     "name": "stdout",
     "output_type": "stream",
     "text": [
      "Data saved to: /home/runner/work/crime-data/crime-data/data/charlottesville_crime_incidents.csv\n"
     ]
    },
    {
     "name": "stdout",
     "output_type": "stream",
     "text": [
      "Excel saved to: /home/runner/work/crime-data/crime-data/data/charlottesville_crime_incidents.xlsx\n"
     ]
    }
   ],
   "source": [
    "# Determine the project root (assuming papermill is run from the repository root)\n",
    "project_root = os.getcwd()\n",
    "print(\"Project Root:\", project_root)\n",
    "\n",
    "# Set the data directory within the project root\n",
    "data_dir = os.path.join(project_root, \"data\")\n",
    "\n",
    "# Ensure the \"data\" directory exists (create it if it doesn't)\n",
    "if not os.path.exists(data_dir):\n",
    "    os.makedirs(data_dir)\n",
    "\n",
    "# Export the DataFrame to CSV in the \"data\" folder located in the project root\n",
    "csv_path = os.path.join(data_dir, \"charlottesville_crime_incidents.csv\")\n",
    "df.to_csv(csv_path, index=False)\n",
    "print(\"Data saved to:\", csv_path)\n",
    "\n",
    "# Construct the path to your Excel file\n",
    "excel_path = os.path.join(data_dir, \"charlottesville_crime_incidents.xlsx\")\n",
    "\n",
    "# Export the DataFrame to Excel\n",
    "df.to_excel(excel_path, index=False)\n",
    "print(\"Excel saved to:\", excel_path)\n"
   ]
  }
 ],
 "metadata": {
  "kernelspec": {
   "display_name": "Python 3",
   "language": "python",
   "name": "python3"
  },
  "language_info": {
   "codemirror_mode": {
    "name": "ipython",
    "version": 3
   },
   "file_extension": ".py",
   "mimetype": "text/x-python",
   "name": "python",
   "nbconvert_exporter": "python",
   "pygments_lexer": "ipython3",
   "version": "3.9.23"
  },
  "papermill": {
   "default_parameters": {},
   "duration": 116.53023,
   "end_time": "2025-07-01T01:14:40.516955",
   "environment_variables": {},
   "exception": null,
   "input_path": "notebook/Crime Data.ipynb",
   "output_path": "notebook/Crime Data_output.ipynb",
   "parameters": {},
   "start_time": "2025-07-01T01:12:43.986725",
   "version": "2.6.0"
  }
 },
 "nbformat": 4,
 "nbformat_minor": 5
}