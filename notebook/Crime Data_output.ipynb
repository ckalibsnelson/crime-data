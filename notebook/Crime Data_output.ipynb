{
 "cells": [
  {
   "cell_type": "markdown",
   "id": "deacf4d1",
   "metadata": {
    "papermill": {
     "duration": 0.004289,
     "end_time": "2025-08-03T01:16:41.813093",
     "exception": false,
     "start_time": "2025-08-03T01:16:41.808804",
     "status": "completed"
    },
    "tags": []
   },
   "source": [
    "# Charlottesville Open Data Porttal: Crime Data"
   ]
  },
  {
   "cell_type": "markdown",
   "id": "50940a4d",
   "metadata": {
    "papermill": {
     "duration": 0.004214,
     "end_time": "2025-08-03T01:16:41.820886",
     "exception": false,
     "start_time": "2025-08-03T01:16:41.816672",
     "status": "completed"
    },
    "tags": []
   },
   "source": [
    "## Import Relevant Librarires & Set WD"
   ]
  },
  {
   "cell_type": "code",
   "execution_count": 1,
   "id": "4aaab290",
   "metadata": {
    "execution": {
     "iopub.execute_input": "2025-08-03T01:16:41.828536Z",
     "iopub.status.busy": "2025-08-03T01:16:41.828267Z",
     "iopub.status.idle": "2025-08-03T01:16:42.458328Z",
     "shell.execute_reply": "2025-08-03T01:16:42.457648Z"
    },
    "papermill": {
     "duration": 0.635525,
     "end_time": "2025-08-03T01:16:42.459649",
     "exception": false,
     "start_time": "2025-08-03T01:16:41.824124",
     "status": "completed"
    },
    "tags": []
   },
   "outputs": [],
   "source": [
    "import requests\n",
    "import pandas as pd\n",
    "import numpy as np\n",
    "import pickle\n",
    "import googlemaps\n",
    "import plotly.express as px\n",
    "from geopy.geocoders import Nominatim\n",
    "import time\n",
    "from dotenv import load_dotenv\n",
    "import os\n",
    "\n",
    "env_path = os.path.join(\"..\", \".env\")\n",
    "#print(\"Looking for .env file at:\", os.path.abspath(env_path))\n",
    "load_dotenv(dotenv_path=env_path)\n",
    "\n",
    "# Retrieve the variables\n",
    "GOOGLE_API_KEY = os.getenv(\"GOOGLE_API_KEY\")\n",
    "WORKING_DIR = os.getenv(\"WORKING_DIR\")\n",
    "\n",
    "if GOOGLE_API_KEY is None or WORKING_DIR is None:\n",
    "    raise RuntimeError(\"No configuration found. Please ensure that your .env file exists with the required variables, or create a local config.py file.\")\n",
    "\n",
    "#print(\"Google API Key:\", GOOGLE_API_KEY)\n",
    "#print(\"Working Directory:\", WORKING_DIR)"
   ]
  },
  {
   "cell_type": "markdown",
   "id": "5ab24264",
   "metadata": {
    "papermill": {
     "duration": 0.003262,
     "end_time": "2025-08-03T01:16:42.466638",
     "exception": false,
     "start_time": "2025-08-03T01:16:42.463376",
     "status": "completed"
    },
    "tags": []
   },
   "source": [
    "## Import Data\n",
    "\n",
    "URL: https://opendata.charlottesville.org/datasets/charlottesville::crime-data/about"
   ]
  },
  {
   "cell_type": "code",
   "execution_count": 2,
   "id": "bef233c9",
   "metadata": {
    "execution": {
     "iopub.execute_input": "2025-08-03T01:16:42.474218Z",
     "iopub.status.busy": "2025-08-03T01:16:42.473917Z",
     "iopub.status.idle": "2025-08-03T01:17:52.312126Z",
     "shell.execute_reply": "2025-08-03T01:17:52.311385Z"
    },
    "papermill": {
     "duration": 69.846495,
     "end_time": "2025-08-03T01:17:52.316437",
     "exception": false,
     "start_time": "2025-08-03T01:16:42.469942",
     "status": "completed"
    },
    "tags": []
   },
   "outputs": [
    {
     "name": "stdout",
     "output_type": "stream",
     "text": [
      "Total records imported: 25615\n"
     ]
    }
   ],
   "source": [
    "# Define the endpoint and initial parameters.\n",
    "url = \"https://gisweb.charlottesville.org/arcgis/rest/services/OpenData_2/MapServer/6/query\"\n",
    "params = {\n",
    "    \"where\": \"1=1\",\n",
    "    \"outFields\": \"*\",\n",
    "    \"outSR\": 4326,\n",
    "    \"f\": \"json\",\n",
    "    \"resultOffset\": 0,       # Starting index for results\n",
    "    \"resultRecordCount\": 10000  # Maximum records per batch (if allowed by the API)\n",
    "}\n",
    "\n",
    "records = []\n",
    "\n",
    "while True:\n",
    "    response = requests.get(url, params=params)\n",
    "    response.raise_for_status()\n",
    "    data = response.json()\n",
    "    \n",
    "    # Get the current batch of features.\n",
    "    features = data.get(\"features\", [])\n",
    "    if not features:\n",
    "        break\n",
    "\n",
    "    # Extract the attributes from the features.\n",
    "    batch_records = [feature.get(\"attributes\", {}) for feature in features]\n",
    "    records.extend(batch_records)\n",
    "    \n",
    "    # If the batch size is less than the requested count, we reached the end.\n",
    "    if len(features) < params[\"resultRecordCount\"]:\n",
    "        break\n",
    "\n",
    "    # Update the resultOffset for the next batch.\n",
    "    params[\"resultOffset\"] += params[\"resultRecordCount\"]\n",
    "\n",
    "# Create a DataFrame from the combined records.\n",
    "df = pd.DataFrame(records)\n",
    "print(\"Total records imported:\", len(df))\n"
   ]
  },
  {
   "cell_type": "code",
   "execution_count": 3,
   "id": "cc989e93",
   "metadata": {
    "execution": {
     "iopub.execute_input": "2025-08-03T01:17:52.324400Z",
     "iopub.status.busy": "2025-08-03T01:17:52.324138Z",
     "iopub.status.idle": "2025-08-03T01:17:52.336066Z",
     "shell.execute_reply": "2025-08-03T01:17:52.335521Z"
    },
    "papermill": {
     "duration": 0.017037,
     "end_time": "2025-08-03T01:17:52.337046",
     "exception": false,
     "start_time": "2025-08-03T01:17:52.320009",
     "status": "completed"
    },
    "tags": []
   },
   "outputs": [
    {
     "data": {
      "text/html": [
       "<div>\n",
       "<style scoped>\n",
       "    .dataframe tbody tr th:only-of-type {\n",
       "        vertical-align: middle;\n",
       "    }\n",
       "\n",
       "    .dataframe tbody tr th {\n",
       "        vertical-align: top;\n",
       "    }\n",
       "\n",
       "    .dataframe thead th {\n",
       "        text-align: right;\n",
       "    }\n",
       "</style>\n",
       "<table border=\"1\" class=\"dataframe\">\n",
       "  <thead>\n",
       "    <tr style=\"text-align: right;\">\n",
       "      <th></th>\n",
       "      <th>RecordID</th>\n",
       "      <th>Offense</th>\n",
       "      <th>IncidentID</th>\n",
       "      <th>BlockNumber</th>\n",
       "      <th>StreetName</th>\n",
       "      <th>Agency</th>\n",
       "      <th>DateReported</th>\n",
       "      <th>HourReported</th>\n",
       "      <th>ReportingOfficer</th>\n",
       "    </tr>\n",
       "  </thead>\n",
       "  <tbody>\n",
       "    <tr>\n",
       "      <th>0</th>\n",
       "      <td>1</td>\n",
       "      <td>Assist Citizen - Mental/TDO/ECO</td>\n",
       "      <td>202500027053</td>\n",
       "      <td></td>\n",
       "      <td>JOHN W WARNER PKWY / RAMP</td>\n",
       "      <td>CPD</td>\n",
       "      <td>1754012568000</td>\n",
       "      <td>2142</td>\n",
       "      <td>Reed, Danielle</td>\n",
       "    </tr>\n",
       "    <tr>\n",
       "      <th>1</th>\n",
       "      <td>2</td>\n",
       "      <td>Assault Simple</td>\n",
       "      <td>202500027051</td>\n",
       "      <td></td>\n",
       "      <td>12TH ST NW / GRADY AVE</td>\n",
       "      <td>CPD</td>\n",
       "      <td>1754012300000</td>\n",
       "      <td>2138</td>\n",
       "      <td>Abdelgayed, Adam</td>\n",
       "    </tr>\n",
       "    <tr>\n",
       "      <th>2</th>\n",
       "      <td>3</td>\n",
       "      <td>Larceny - From Motor Vehicle</td>\n",
       "      <td>202500027040</td>\n",
       "      <td>1600</td>\n",
       "      <td>EMMET ST N</td>\n",
       "      <td>CPD</td>\n",
       "      <td>1754005688000</td>\n",
       "      <td>1948</td>\n",
       "      <td>Hudson, Jesse</td>\n",
       "    </tr>\n",
       "    <tr>\n",
       "      <th>3</th>\n",
       "      <td>4</td>\n",
       "      <td>Warrant Service</td>\n",
       "      <td>202500027038</td>\n",
       "      <td>800</td>\n",
       "      <td>HARDY DR, D</td>\n",
       "      <td>CPD</td>\n",
       "      <td>1754004096000</td>\n",
       "      <td>1921</td>\n",
       "      <td>Venereo, Arturo</td>\n",
       "    </tr>\n",
       "    <tr>\n",
       "      <th>4</th>\n",
       "      <td>5</td>\n",
       "      <td>Larceny - All Other</td>\n",
       "      <td>202500027026</td>\n",
       "      <td>200</td>\n",
       "      <td>CARLTON RD, 4</td>\n",
       "      <td>CPD</td>\n",
       "      <td>1753996818000</td>\n",
       "      <td>1720</td>\n",
       "      <td>Ritter, Kobe</td>\n",
       "    </tr>\n",
       "  </tbody>\n",
       "</table>\n",
       "</div>"
      ],
      "text/plain": [
       "   RecordID                          Offense    IncidentID BlockNumber  \\\n",
       "0         1  Assist Citizen - Mental/TDO/ECO  202500027053               \n",
       "1         2                   Assault Simple  202500027051               \n",
       "2         3     Larceny - From Motor Vehicle  202500027040        1600   \n",
       "3         4                  Warrant Service  202500027038         800   \n",
       "4         5              Larceny - All Other  202500027026         200   \n",
       "\n",
       "                  StreetName Agency   DateReported HourReported  \\\n",
       "0  JOHN W WARNER PKWY / RAMP    CPD  1754012568000         2142   \n",
       "1     12TH ST NW / GRADY AVE    CPD  1754012300000         2138   \n",
       "2                 EMMET ST N    CPD  1754005688000         1948   \n",
       "3                HARDY DR, D    CPD  1754004096000         1921   \n",
       "4              CARLTON RD, 4    CPD  1753996818000         1720   \n",
       "\n",
       "   ReportingOfficer  \n",
       "0    Reed, Danielle  \n",
       "1  Abdelgayed, Adam  \n",
       "2     Hudson, Jesse  \n",
       "3   Venereo, Arturo  \n",
       "4      Ritter, Kobe  "
      ]
     },
     "execution_count": 3,
     "metadata": {},
     "output_type": "execute_result"
    }
   ],
   "source": [
    "df.head()"
   ]
  },
  {
   "cell_type": "code",
   "execution_count": 4,
   "id": "ca382593",
   "metadata": {
    "execution": {
     "iopub.execute_input": "2025-08-03T01:17:52.345006Z",
     "iopub.status.busy": "2025-08-03T01:17:52.344776Z",
     "iopub.status.idle": "2025-08-03T01:17:52.348911Z",
     "shell.execute_reply": "2025-08-03T01:17:52.348390Z"
    },
    "papermill": {
     "duration": 0.009208,
     "end_time": "2025-08-03T01:17:52.349855",
     "exception": false,
     "start_time": "2025-08-03T01:17:52.340647",
     "status": "completed"
    },
    "tags": []
   },
   "outputs": [
    {
     "data": {
      "text/plain": [
       "Index(['RecordID', 'Offense', 'IncidentID', 'BlockNumber', 'StreetName',\n",
       "       'Agency', 'DateReported', 'HourReported', 'ReportingOfficer'],\n",
       "      dtype='object')"
      ]
     },
     "execution_count": 4,
     "metadata": {},
     "output_type": "execute_result"
    }
   ],
   "source": [
    "df.columns"
   ]
  },
  {
   "cell_type": "code",
   "execution_count": 5,
   "id": "2fcc9dd1",
   "metadata": {
    "execution": {
     "iopub.execute_input": "2025-08-03T01:17:52.357877Z",
     "iopub.status.busy": "2025-08-03T01:17:52.357700Z",
     "iopub.status.idle": "2025-08-03T01:17:52.377740Z",
     "shell.execute_reply": "2025-08-03T01:17:52.377157Z"
    },
    "papermill": {
     "duration": 0.025133,
     "end_time": "2025-08-03T01:17:52.378716",
     "exception": false,
     "start_time": "2025-08-03T01:17:52.353583",
     "status": "completed"
    },
    "tags": []
   },
   "outputs": [
    {
     "name": "stdout",
     "output_type": "stream",
     "text": [
      "<class 'pandas.core.frame.DataFrame'>\n",
      "RangeIndex: 25615 entries, 0 to 25614\n",
      "Data columns (total 9 columns):\n",
      " #   Column            Non-Null Count  Dtype \n",
      "---  ------            --------------  ----- \n",
      " 0   RecordID          25615 non-null  int64 \n",
      " 1   Offense           25615 non-null  object\n",
      " 2   IncidentID        25615 non-null  object\n",
      " 3   BlockNumber       25615 non-null  object\n",
      " 4   StreetName        25615 non-null  object\n",
      " 5   Agency            25615 non-null  object\n",
      " 6   DateReported      25615 non-null  int64 \n",
      " 7   HourReported      25615 non-null  object\n",
      " 8   ReportingOfficer  25598 non-null  object\n",
      "dtypes: int64(2), object(7)\n",
      "memory usage: 1.8+ MB\n"
     ]
    }
   ],
   "source": [
    "df.info()"
   ]
  },
  {
   "cell_type": "markdown",
   "id": "5a789995",
   "metadata": {
    "papermill": {
     "duration": 0.003794,
     "end_time": "2025-08-03T01:17:52.386345",
     "exception": false,
     "start_time": "2025-08-03T01:17:52.382551",
     "status": "completed"
    },
    "tags": []
   },
   "source": [
    "### Missing Values"
   ]
  },
  {
   "cell_type": "code",
   "execution_count": 6,
   "id": "676279c1",
   "metadata": {
    "execution": {
     "iopub.execute_input": "2025-08-03T01:17:52.394524Z",
     "iopub.status.busy": "2025-08-03T01:17:52.394342Z",
     "iopub.status.idle": "2025-08-03T01:17:52.413889Z",
     "shell.execute_reply": "2025-08-03T01:17:52.413180Z"
    },
    "papermill": {
     "duration": 0.024785,
     "end_time": "2025-08-03T01:17:52.414888",
     "exception": false,
     "start_time": "2025-08-03T01:17:52.390103",
     "status": "completed"
    },
    "tags": []
   },
   "outputs": [
    {
     "name": "stdout",
     "output_type": "stream",
     "text": [
      "                  MissingCount  MissingPercentage\n",
      "RecordID                     0               0.00\n",
      "Offense                      0               0.00\n",
      "IncidentID                   0               0.00\n",
      "BlockNumber                  0               0.00\n",
      "StreetName                   0               0.00\n",
      "Agency                       0               0.00\n",
      "DateReported                 0               0.00\n",
      "HourReported                 0               0.00\n",
      "ReportingOfficer            17               0.07\n"
     ]
    }
   ],
   "source": [
    "def missing_percentage(df):\n",
    "    \"\"\"\n",
    "    Returns a DataFrame with the count and percentage of missing values for each column.\n",
    "    \n",
    "    Parameters:\n",
    "        df (pd.DataFrame): The input DataFrame.\n",
    "    \n",
    "    Returns:\n",
    "        pd.DataFrame: A DataFrame with columns 'MissingCount' and 'MissingPercentage'.\n",
    "    \"\"\"\n",
    "    total_rows = len(df)\n",
    "    missing_count = df.isnull().sum()\n",
    "    missing_percent = (missing_count / total_rows) * 100\n",
    "    \n",
    "    result = pd.DataFrame({\n",
    "        'MissingCount': missing_count,\n",
    "        'MissingPercentage': missing_percent.round(2)\n",
    "    })\n",
    "    \n",
    "    return result\n",
    "\n",
    "# Example usage:\n",
    "missing_info = missing_percentage(df)\n",
    "print(missing_info)\n"
   ]
  },
  {
   "cell_type": "markdown",
   "id": "7df22c8e",
   "metadata": {
    "papermill": {
     "duration": 0.003807,
     "end_time": "2025-08-03T01:17:52.422850",
     "exception": false,
     "start_time": "2025-08-03T01:17:52.419043",
     "status": "completed"
    },
    "tags": []
   },
   "source": [
    "## Data Preparation"
   ]
  },
  {
   "cell_type": "markdown",
   "id": "d2b7099d",
   "metadata": {
    "papermill": {
     "duration": 0.003875,
     "end_time": "2025-08-03T01:17:52.430695",
     "exception": false,
     "start_time": "2025-08-03T01:17:52.426820",
     "status": "completed"
    },
    "tags": []
   },
   "source": [
    "### Data Conversion"
   ]
  },
  {
   "cell_type": "code",
   "execution_count": 7,
   "id": "fc36cfbc",
   "metadata": {
    "execution": {
     "iopub.execute_input": "2025-08-03T01:17:52.439395Z",
     "iopub.status.busy": "2025-08-03T01:17:52.439110Z",
     "iopub.status.idle": "2025-08-03T01:17:52.796426Z",
     "shell.execute_reply": "2025-08-03T01:17:52.795685Z"
    },
    "papermill": {
     "duration": 0.362894,
     "end_time": "2025-08-03T01:17:52.797524",
     "exception": false,
     "start_time": "2025-08-03T01:17:52.434630",
     "status": "completed"
    },
    "tags": []
   },
   "outputs": [
    {
     "data": {
      "text/html": [
       "<div>\n",
       "<style scoped>\n",
       "    .dataframe tbody tr th:only-of-type {\n",
       "        vertical-align: middle;\n",
       "    }\n",
       "\n",
       "    .dataframe tbody tr th {\n",
       "        vertical-align: top;\n",
       "    }\n",
       "\n",
       "    .dataframe thead th {\n",
       "        text-align: right;\n",
       "    }\n",
       "</style>\n",
       "<table border=\"1\" class=\"dataframe\">\n",
       "  <thead>\n",
       "    <tr style=\"text-align: right;\">\n",
       "      <th></th>\n",
       "      <th>RecordID</th>\n",
       "      <th>Offense</th>\n",
       "      <th>IncidentID</th>\n",
       "      <th>BlockNumber</th>\n",
       "      <th>StreetName</th>\n",
       "      <th>Agency</th>\n",
       "      <th>HourReported</th>\n",
       "      <th>ReportingOfficer</th>\n",
       "      <th>Date</th>\n",
       "      <th>DateString</th>\n",
       "      <th>DayOfWeek</th>\n",
       "      <th>Weekend</th>\n",
       "      <th>Season</th>\n",
       "      <th>HourAMPM</th>\n",
       "      <th>TimeOfDay</th>\n",
       "    </tr>\n",
       "  </thead>\n",
       "  <tbody>\n",
       "    <tr>\n",
       "      <th>0</th>\n",
       "      <td>1</td>\n",
       "      <td>Assist Citizen - Mental/TDO/ECO</td>\n",
       "      <td>202500027053</td>\n",
       "      <td></td>\n",
       "      <td>JOHN W WARNER PKWY / RAMP</td>\n",
       "      <td>CPD</td>\n",
       "      <td>2142</td>\n",
       "      <td>Reed, Danielle</td>\n",
       "      <td>2025-07-31 21:42:48</td>\n",
       "      <td>2025-07-31 09:42:48 PM</td>\n",
       "      <td>Thursday</td>\n",
       "      <td>False</td>\n",
       "      <td>Summer</td>\n",
       "      <td>09:42 PM</td>\n",
       "      <td>Night</td>\n",
       "    </tr>\n",
       "    <tr>\n",
       "      <th>1</th>\n",
       "      <td>2</td>\n",
       "      <td>Assault Simple</td>\n",
       "      <td>202500027051</td>\n",
       "      <td></td>\n",
       "      <td>12TH ST NW / GRADY AVE</td>\n",
       "      <td>CPD</td>\n",
       "      <td>2138</td>\n",
       "      <td>Abdelgayed, Adam</td>\n",
       "      <td>2025-07-31 21:38:20</td>\n",
       "      <td>2025-07-31 09:38:20 PM</td>\n",
       "      <td>Thursday</td>\n",
       "      <td>False</td>\n",
       "      <td>Summer</td>\n",
       "      <td>09:38 PM</td>\n",
       "      <td>Night</td>\n",
       "    </tr>\n",
       "    <tr>\n",
       "      <th>2</th>\n",
       "      <td>3</td>\n",
       "      <td>Larceny - From Motor Vehicle</td>\n",
       "      <td>202500027040</td>\n",
       "      <td>1600</td>\n",
       "      <td>EMMET ST N</td>\n",
       "      <td>CPD</td>\n",
       "      <td>1948</td>\n",
       "      <td>Hudson, Jesse</td>\n",
       "      <td>2025-07-31 19:48:08</td>\n",
       "      <td>2025-07-31 07:48:08 PM</td>\n",
       "      <td>Thursday</td>\n",
       "      <td>False</td>\n",
       "      <td>Summer</td>\n",
       "      <td>07:48 PM</td>\n",
       "      <td>Evening</td>\n",
       "    </tr>\n",
       "    <tr>\n",
       "      <th>3</th>\n",
       "      <td>4</td>\n",
       "      <td>Warrant Service</td>\n",
       "      <td>202500027038</td>\n",
       "      <td>800</td>\n",
       "      <td>HARDY DR, D</td>\n",
       "      <td>CPD</td>\n",
       "      <td>1921</td>\n",
       "      <td>Venereo, Arturo</td>\n",
       "      <td>2025-07-31 19:21:36</td>\n",
       "      <td>2025-07-31 07:21:36 PM</td>\n",
       "      <td>Thursday</td>\n",
       "      <td>False</td>\n",
       "      <td>Summer</td>\n",
       "      <td>07:21 PM</td>\n",
       "      <td>Evening</td>\n",
       "    </tr>\n",
       "    <tr>\n",
       "      <th>4</th>\n",
       "      <td>5</td>\n",
       "      <td>Larceny - All Other</td>\n",
       "      <td>202500027026</td>\n",
       "      <td>200</td>\n",
       "      <td>CARLTON RD, 4</td>\n",
       "      <td>CPD</td>\n",
       "      <td>1720</td>\n",
       "      <td>Ritter, Kobe</td>\n",
       "      <td>2025-07-31 17:20:18</td>\n",
       "      <td>2025-07-31 05:20:18 PM</td>\n",
       "      <td>Thursday</td>\n",
       "      <td>False</td>\n",
       "      <td>Summer</td>\n",
       "      <td>05:20 PM</td>\n",
       "      <td>Evening</td>\n",
       "    </tr>\n",
       "  </tbody>\n",
       "</table>\n",
       "</div>"
      ],
      "text/plain": [
       "   RecordID                          Offense    IncidentID BlockNumber  \\\n",
       "0         1  Assist Citizen - Mental/TDO/ECO  202500027053               \n",
       "1         2                   Assault Simple  202500027051               \n",
       "2         3     Larceny - From Motor Vehicle  202500027040        1600   \n",
       "3         4                  Warrant Service  202500027038         800   \n",
       "4         5              Larceny - All Other  202500027026         200   \n",
       "\n",
       "                  StreetName Agency HourReported  ReportingOfficer  \\\n",
       "0  JOHN W WARNER PKWY / RAMP    CPD         2142    Reed, Danielle   \n",
       "1     12TH ST NW / GRADY AVE    CPD         2138  Abdelgayed, Adam   \n",
       "2                 EMMET ST N    CPD         1948     Hudson, Jesse   \n",
       "3                HARDY DR, D    CPD         1921   Venereo, Arturo   \n",
       "4              CARLTON RD, 4    CPD         1720      Ritter, Kobe   \n",
       "\n",
       "                 Date              DateString DayOfWeek  Weekend  Season  \\\n",
       "0 2025-07-31 21:42:48  2025-07-31 09:42:48 PM  Thursday    False  Summer   \n",
       "1 2025-07-31 21:38:20  2025-07-31 09:38:20 PM  Thursday    False  Summer   \n",
       "2 2025-07-31 19:48:08  2025-07-31 07:48:08 PM  Thursday    False  Summer   \n",
       "3 2025-07-31 19:21:36  2025-07-31 07:21:36 PM  Thursday    False  Summer   \n",
       "4 2025-07-31 17:20:18  2025-07-31 05:20:18 PM  Thursday    False  Summer   \n",
       "\n",
       "   HourAMPM TimeOfDay  \n",
       "0  09:42 PM     Night  \n",
       "1  09:38 PM     Night  \n",
       "2  07:48 PM   Evening  \n",
       "3  07:21 PM   Evening  \n",
       "4  05:20 PM   Evening  "
      ]
     },
     "execution_count": 7,
     "metadata": {},
     "output_type": "execute_result"
    }
   ],
   "source": [
    "def convert_and_categorize_datereported(df, col='DateReported'):\n",
    "    \"\"\"\n",
    "    Converts an epoch (in milliseconds) date column into a timezone-aware datetime,\n",
    "    converts it to Eastern Time, and then creates columns for day-of-week, weekend flag,\n",
    "    season, 12-hour formatted time, and time-of-day. Keeps both a real datetime column\n",
    "    (Date) and a string representation (DateString).\n",
    "    \"\"\"\n",
    "    import pandas as pd\n",
    "\n",
    "    # Convert the epoch timestamp to a pandas datetime object as UTC, then convert to US/Eastern.\n",
    "    df[\"DateReported_dt\"] = (\n",
    "        pd.to_datetime(df[col], unit=\"ms\", errors=\"coerce\", utc=True)\n",
    "        .dt.tz_convert(\"US/Eastern\")\n",
    "    )\n",
    "    \n",
    "    # Create a true datetime column (remove timezone if you prefer naive datetime)\n",
    "    df[\"Date\"] = df[\"DateReported_dt\"].dt.tz_localize(None)\n",
    "\n",
    "    # Optionally, create a separate string-formatted column\n",
    "    df[\"DateString\"] = df[\"DateReported_dt\"].dt.strftime(\"%Y-%m-%d %I:%M:%S %p\")\n",
    "    \n",
    "    # DayOfWeek\n",
    "    df[\"DayOfWeek\"] = df[\"DateReported_dt\"].dt.day_name()\n",
    "    \n",
    "    # Weekend\n",
    "    df[\"Weekend\"] = df[\"DayOfWeek\"].isin([\"Saturday\", \"Sunday\"])\n",
    "    \n",
    "    # Helper function to determine the season\n",
    "    def get_season(dt):\n",
    "        month = dt.month\n",
    "        day = dt.day\n",
    "        # Approximate Northern Hemisphere season boundaries:\n",
    "        if (month == 12 and day >= 21) or (month < 3) or (month == 3 and day < 20):\n",
    "            return \"Winter\"\n",
    "        elif (month == 3 and day >= 20) or (month < 6) or (month == 6 and day < 21):\n",
    "            return \"Spring\"\n",
    "        elif (month == 6 and day >= 21) or (month < 9) or (month == 9 and day < 22):\n",
    "            return \"Summer\"\n",
    "        else:\n",
    "            return \"Autumn\"\n",
    "    \n",
    "    df[\"Season\"] = df[\"DateReported_dt\"].apply(get_season)\n",
    "    \n",
    "    # 12-hour formatted time (HourAMPM)\n",
    "    df[\"HourAMPM\"] = df[\"DateReported_dt\"].dt.strftime(\"%I:%M %p\")\n",
    "    \n",
    "    # Extract hour (0-23) for time-of-day\n",
    "    df[\"HourValue\"] = df[\"DateReported_dt\"].dt.hour\n",
    "    \n",
    "    def time_of_day(hour):\n",
    "        if pd.isnull(hour):\n",
    "            return None\n",
    "        if 5 <= hour < 12:\n",
    "            return \"Morning\"\n",
    "        elif 12 <= hour < 17:\n",
    "            return \"Afternoon\"\n",
    "        elif 17 <= hour < 21:\n",
    "            return \"Evening\"\n",
    "        else:\n",
    "            return \"Night\"\n",
    "    \n",
    "    df[\"TimeOfDay\"] = df[\"HourValue\"].apply(time_of_day)\n",
    "    \n",
    "    # Drop columns you no longer need\n",
    "    df.drop(columns=[col, \"DateReported_dt\", \"HourValue\"], inplace=True)\n",
    "    \n",
    "    return df\n",
    "\n",
    "# Example usage:\n",
    "df = convert_and_categorize_datereported(df)\n",
    "df.head()\n"
   ]
  },
  {
   "cell_type": "code",
   "execution_count": 8,
   "id": "c6a8b3bb",
   "metadata": {
    "execution": {
     "iopub.execute_input": "2025-08-03T01:17:52.806717Z",
     "iopub.status.busy": "2025-08-03T01:17:52.806472Z",
     "iopub.status.idle": "2025-08-03T01:17:52.833694Z",
     "shell.execute_reply": "2025-08-03T01:17:52.833016Z"
    },
    "papermill": {
     "duration": 0.032909,
     "end_time": "2025-08-03T01:17:52.834704",
     "exception": false,
     "start_time": "2025-08-03T01:17:52.801795",
     "status": "completed"
    },
    "tags": []
   },
   "outputs": [
    {
     "name": "stdout",
     "output_type": "stream",
     "text": [
      "<class 'pandas.core.frame.DataFrame'>\n",
      "RangeIndex: 25615 entries, 0 to 25614\n",
      "Data columns (total 15 columns):\n",
      " #   Column            Non-Null Count  Dtype         \n",
      "---  ------            --------------  -----         \n",
      " 0   RecordID          25615 non-null  int64         \n",
      " 1   Offense           25615 non-null  object        \n",
      " 2   IncidentID        25615 non-null  object        \n",
      " 3   BlockNumber       25615 non-null  object        \n",
      " 4   StreetName        25615 non-null  object        \n",
      " 5   Agency            25615 non-null  object        \n",
      " 6   HourReported      25615 non-null  object        \n",
      " 7   ReportingOfficer  25598 non-null  object        \n",
      " 8   Date              25615 non-null  datetime64[ns]\n",
      " 9   DateString        25615 non-null  object        \n",
      " 10  DayOfWeek         25615 non-null  object        \n",
      " 11  Weekend           25615 non-null  bool          \n",
      " 12  Season            25615 non-null  object        \n",
      " 13  HourAMPM          25615 non-null  object        \n",
      " 14  TimeOfDay         25615 non-null  object        \n",
      "dtypes: bool(1), datetime64[ns](1), int64(1), object(12)\n",
      "memory usage: 2.8+ MB\n"
     ]
    }
   ],
   "source": [
    "df.info()"
   ]
  },
  {
   "cell_type": "markdown",
   "id": "cdaa7b09",
   "metadata": {
    "papermill": {
     "duration": 0.004136,
     "end_time": "2025-08-03T01:17:52.843300",
     "exception": false,
     "start_time": "2025-08-03T01:17:52.839164",
     "status": "completed"
    },
    "tags": []
   },
   "source": [
    "### Coordinates"
   ]
  },
  {
   "cell_type": "code",
   "execution_count": 9,
   "id": "48dd765d",
   "metadata": {
    "execution": {
     "iopub.execute_input": "2025-08-03T01:17:52.852371Z",
     "iopub.status.busy": "2025-08-03T01:17:52.852118Z",
     "iopub.status.idle": "2025-08-03T01:17:53.123472Z",
     "shell.execute_reply": "2025-08-03T01:17:53.122892Z"
    },
    "papermill": {
     "duration": 0.277154,
     "end_time": "2025-08-03T01:17:53.124554",
     "exception": false,
     "start_time": "2025-08-03T01:17:52.847400",
     "status": "completed"
    },
    "tags": []
   },
   "outputs": [
    {
     "name": "stdout",
     "output_type": "stream",
     "text": [
      "Loaded geocode cache.\n",
      "Error geocoding 200 CARLTON RD, 4: REQUEST_DENIED (You must enable Billing on the Google Cloud Project at https://console.cloud.google.com/project/_/billing/enable Learn more at https://developers.google.com/maps/gmp-get-started)\n",
      "Geocoded 200 CARLTON RD, 4: None, None\n",
      "Error geocoding 100 ROBINSON WOODS: REQUEST_DENIED (You must enable Billing on the Google Cloud Project at https://console.cloud.google.com/project/_/billing/enable Learn more at https://developers.google.com/maps/gmp-get-started)\n",
      "Geocoded 100 ROBINSON WOODS: None, None\n"
     ]
    },
    {
     "name": "stdout",
     "output_type": "stream",
     "text": [
      "Error geocoding 500 RIDGE ST, 205: REQUEST_DENIED (You must enable Billing on the Google Cloud Project at https://console.cloud.google.com/project/_/billing/enable Learn more at https://developers.google.com/maps/gmp-get-started)\n",
      "Geocoded 500 RIDGE ST, 205: None, None\n",
      "Geocode cache updated and saved.\n"
     ]
    },
    {
     "data": {
      "text/html": [
       "<div>\n",
       "<style scoped>\n",
       "    .dataframe tbody tr th:only-of-type {\n",
       "        vertical-align: middle;\n",
       "    }\n",
       "\n",
       "    .dataframe tbody tr th {\n",
       "        vertical-align: top;\n",
       "    }\n",
       "\n",
       "    .dataframe thead th {\n",
       "        text-align: right;\n",
       "    }\n",
       "</style>\n",
       "<table border=\"1\" class=\"dataframe\">\n",
       "  <thead>\n",
       "    <tr style=\"text-align: right;\">\n",
       "      <th></th>\n",
       "      <th>RecordID</th>\n",
       "      <th>Offense</th>\n",
       "      <th>IncidentID</th>\n",
       "      <th>BlockNumber</th>\n",
       "      <th>StreetName</th>\n",
       "      <th>Agency</th>\n",
       "      <th>HourReported</th>\n",
       "      <th>ReportingOfficer</th>\n",
       "      <th>Date</th>\n",
       "      <th>DateString</th>\n",
       "      <th>DayOfWeek</th>\n",
       "      <th>Weekend</th>\n",
       "      <th>Season</th>\n",
       "      <th>HourAMPM</th>\n",
       "      <th>TimeOfDay</th>\n",
       "      <th>FullStreet</th>\n",
       "      <th>lat</th>\n",
       "      <th>lon</th>\n",
       "    </tr>\n",
       "  </thead>\n",
       "  <tbody>\n",
       "    <tr>\n",
       "      <th>0</th>\n",
       "      <td>1</td>\n",
       "      <td>Assist Citizen - Mental/TDO/ECO</td>\n",
       "      <td>202500027053</td>\n",
       "      <td></td>\n",
       "      <td>JOHN W WARNER PKWY / RAMP</td>\n",
       "      <td>CPD</td>\n",
       "      <td>2142</td>\n",
       "      <td>Reed, Danielle</td>\n",
       "      <td>2025-07-31 21:42:48</td>\n",
       "      <td>2025-07-31 09:42:48 PM</td>\n",
       "      <td>Thursday</td>\n",
       "      <td>False</td>\n",
       "      <td>Summer</td>\n",
       "      <td>09:42 PM</td>\n",
       "      <td>Night</td>\n",
       "      <td>JOHN W WARNER PKWY / RAMP</td>\n",
       "      <td>38.052286</td>\n",
       "      <td>-78.469412</td>\n",
       "    </tr>\n",
       "    <tr>\n",
       "      <th>1</th>\n",
       "      <td>2</td>\n",
       "      <td>Assault Simple</td>\n",
       "      <td>202500027051</td>\n",
       "      <td></td>\n",
       "      <td>12TH ST NW / GRADY AVE</td>\n",
       "      <td>CPD</td>\n",
       "      <td>2138</td>\n",
       "      <td>Abdelgayed, Adam</td>\n",
       "      <td>2025-07-31 21:38:20</td>\n",
       "      <td>2025-07-31 09:38:20 PM</td>\n",
       "      <td>Thursday</td>\n",
       "      <td>False</td>\n",
       "      <td>Summer</td>\n",
       "      <td>09:38 PM</td>\n",
       "      <td>Night</td>\n",
       "      <td>12TH ST NW / GRADY AVE</td>\n",
       "      <td>38.039440</td>\n",
       "      <td>-78.494294</td>\n",
       "    </tr>\n",
       "    <tr>\n",
       "      <th>2</th>\n",
       "      <td>3</td>\n",
       "      <td>Larceny - From Motor Vehicle</td>\n",
       "      <td>202500027040</td>\n",
       "      <td>1600</td>\n",
       "      <td>EMMET ST N</td>\n",
       "      <td>CPD</td>\n",
       "      <td>1948</td>\n",
       "      <td>Hudson, Jesse</td>\n",
       "      <td>2025-07-31 19:48:08</td>\n",
       "      <td>2025-07-31 07:48:08 PM</td>\n",
       "      <td>Thursday</td>\n",
       "      <td>False</td>\n",
       "      <td>Summer</td>\n",
       "      <td>07:48 PM</td>\n",
       "      <td>Evening</td>\n",
       "      <td>1600 EMMET ST N</td>\n",
       "      <td>38.057947</td>\n",
       "      <td>-78.493911</td>\n",
       "    </tr>\n",
       "    <tr>\n",
       "      <th>3</th>\n",
       "      <td>4</td>\n",
       "      <td>Warrant Service</td>\n",
       "      <td>202500027038</td>\n",
       "      <td>800</td>\n",
       "      <td>HARDY DR, D</td>\n",
       "      <td>CPD</td>\n",
       "      <td>1921</td>\n",
       "      <td>Venereo, Arturo</td>\n",
       "      <td>2025-07-31 19:21:36</td>\n",
       "      <td>2025-07-31 07:21:36 PM</td>\n",
       "      <td>Thursday</td>\n",
       "      <td>False</td>\n",
       "      <td>Summer</td>\n",
       "      <td>07:21 PM</td>\n",
       "      <td>Evening</td>\n",
       "      <td>800 HARDY DR, D</td>\n",
       "      <td>38.033239</td>\n",
       "      <td>-78.490398</td>\n",
       "    </tr>\n",
       "    <tr>\n",
       "      <th>4</th>\n",
       "      <td>5</td>\n",
       "      <td>Larceny - All Other</td>\n",
       "      <td>202500027026</td>\n",
       "      <td>200</td>\n",
       "      <td>CARLTON RD, 4</td>\n",
       "      <td>CPD</td>\n",
       "      <td>1720</td>\n",
       "      <td>Ritter, Kobe</td>\n",
       "      <td>2025-07-31 17:20:18</td>\n",
       "      <td>2025-07-31 05:20:18 PM</td>\n",
       "      <td>Thursday</td>\n",
       "      <td>False</td>\n",
       "      <td>Summer</td>\n",
       "      <td>05:20 PM</td>\n",
       "      <td>Evening</td>\n",
       "      <td>200 CARLTON RD, 4</td>\n",
       "      <td>NaN</td>\n",
       "      <td>NaN</td>\n",
       "    </tr>\n",
       "  </tbody>\n",
       "</table>\n",
       "</div>"
      ],
      "text/plain": [
       "   RecordID                          Offense    IncidentID BlockNumber  \\\n",
       "0         1  Assist Citizen - Mental/TDO/ECO  202500027053               \n",
       "1         2                   Assault Simple  202500027051               \n",
       "2         3     Larceny - From Motor Vehicle  202500027040        1600   \n",
       "3         4                  Warrant Service  202500027038         800   \n",
       "4         5              Larceny - All Other  202500027026         200   \n",
       "\n",
       "                  StreetName Agency HourReported  ReportingOfficer  \\\n",
       "0  JOHN W WARNER PKWY / RAMP    CPD         2142    Reed, Danielle   \n",
       "1     12TH ST NW / GRADY AVE    CPD         2138  Abdelgayed, Adam   \n",
       "2                 EMMET ST N    CPD         1948     Hudson, Jesse   \n",
       "3                HARDY DR, D    CPD         1921   Venereo, Arturo   \n",
       "4              CARLTON RD, 4    CPD         1720      Ritter, Kobe   \n",
       "\n",
       "                 Date              DateString DayOfWeek  Weekend  Season  \\\n",
       "0 2025-07-31 21:42:48  2025-07-31 09:42:48 PM  Thursday    False  Summer   \n",
       "1 2025-07-31 21:38:20  2025-07-31 09:38:20 PM  Thursday    False  Summer   \n",
       "2 2025-07-31 19:48:08  2025-07-31 07:48:08 PM  Thursday    False  Summer   \n",
       "3 2025-07-31 19:21:36  2025-07-31 07:21:36 PM  Thursday    False  Summer   \n",
       "4 2025-07-31 17:20:18  2025-07-31 05:20:18 PM  Thursday    False  Summer   \n",
       "\n",
       "   HourAMPM TimeOfDay                  FullStreet        lat        lon  \n",
       "0  09:42 PM     Night   JOHN W WARNER PKWY / RAMP  38.052286 -78.469412  \n",
       "1  09:38 PM     Night      12TH ST NW / GRADY AVE  38.039440 -78.494294  \n",
       "2  07:48 PM   Evening             1600 EMMET ST N  38.057947 -78.493911  \n",
       "3  07:21 PM   Evening             800 HARDY DR, D  38.033239 -78.490398  \n",
       "4  05:20 PM   Evening           200 CARLTON RD, 4        NaN        NaN  "
      ]
     },
     "execution_count": 9,
     "metadata": {},
     "output_type": "execute_result"
    }
   ],
   "source": [
    "# Combine BlockNumber and StreetName into a full address string\n",
    "df['FullStreet'] = df['BlockNumber'].astype(str) + \" \" + df['StreetName']\n",
    "\n",
    "# --- Step 1: Setup the Google Maps Client and Cache ---\n",
    "gmaps = googlemaps.Client(key=GOOGLE_API_KEY)\n",
    "\n",
    "# Try to load cached geocoding results if available.\n",
    "try:\n",
    "    with open(\"geocode_cache_google.pkl\", \"rb\") as f:\n",
    "        street_coords = pickle.load(f)\n",
    "    print(\"Loaded geocode cache.\")\n",
    "except FileNotFoundError:\n",
    "    street_coords = {}\n",
    "    print(\"No cache found; starting fresh.\")\n",
    "\n",
    "def geocode_address(address):\n",
    "    try:\n",
    "        # Append city and state to help geocoding\n",
    "        result = gmaps.geocode(f\"{address}, Charlottesville, VA\")\n",
    "        if result:\n",
    "            lat = result[0]['geometry']['location']['lat']\n",
    "            lon = result[0]['geometry']['location']['lng']\n",
    "            return lat, lon\n",
    "    except Exception as e:\n",
    "        print(f\"Error geocoding {address}: {e}\")\n",
    "    return None, None\n",
    "\n",
    "# --- Step 2: Geocode Only New Addresses ---\n",
    "unique_addresses = df['FullStreet'].unique()\n",
    "for address in unique_addresses:\n",
    "    if address not in street_coords:\n",
    "        lat, lon = geocode_address(address)\n",
    "        street_coords[address] = (lat, lon)\n",
    "        print(f\"Geocoded {address}: {lat}, {lon}\")\n",
    "\n",
    "# Save the updated cache to disk.\n",
    "with open(\"geocode_cache_google.pkl\", \"wb\") as f:\n",
    "    pickle.dump(street_coords, f)\n",
    "    print(\"Geocode cache updated and saved.\")\n",
    "\n",
    "# --- Step 3: Map Coordinates Back to DataFrame ---\n",
    "df['lat'] = df['FullStreet'].map(lambda s: street_coords.get(s, (None, None))[0])\n",
    "df['lon'] = df['FullStreet'].map(lambda s: street_coords.get(s, (None, None))[1])\n",
    "\n",
    "df.head()"
   ]
  },
  {
   "cell_type": "markdown",
   "id": "fb1853e2",
   "metadata": {
    "papermill": {
     "duration": 0.004386,
     "end_time": "2025-08-03T01:17:53.133880",
     "exception": false,
     "start_time": "2025-08-03T01:17:53.129494",
     "status": "completed"
    },
    "tags": []
   },
   "source": [
    "### Neighborhood"
   ]
  },
  {
   "cell_type": "code",
   "execution_count": 10,
   "id": "83aaceb0",
   "metadata": {
    "execution": {
     "iopub.execute_input": "2025-08-03T01:17:53.143497Z",
     "iopub.status.busy": "2025-08-03T01:17:53.143302Z",
     "iopub.status.idle": "2025-08-03T01:17:55.002372Z",
     "shell.execute_reply": "2025-08-03T01:17:55.001777Z"
    },
    "papermill": {
     "duration": 1.865052,
     "end_time": "2025-08-03T01:17:55.003366",
     "exception": false,
     "start_time": "2025-08-03T01:17:53.138314",
     "status": "completed"
    },
    "tags": []
   },
   "outputs": [
    {
     "name": "stdout",
     "output_type": "stream",
     "text": [
      "Loaded neighborhood cache.\n",
      "Error getting neighborhood for nan, nan: HTTP Error: 400\n",
      "Error getting neighborhood for nan, nan: HTTP Error: 400\n"
     ]
    },
    {
     "name": "stdout",
     "output_type": "stream",
     "text": [
      "Error getting neighborhood for nan, nan: HTTP Error: 400\n"
     ]
    },
    {
     "name": "stdout",
     "output_type": "stream",
     "text": [
      "Error getting neighborhood for nan, nan: HTTP Error: 400\n",
      "Error getting neighborhood for nan, nan: HTTP Error: 400\n",
      "Error getting neighborhood for nan, nan: HTTP Error: 400\n",
      "Error getting neighborhood for nan, nan: HTTP Error: 400\n",
      "Error getting neighborhood for nan, nan: HTTP Error: 400\n",
      "Error getting neighborhood for nan, nan: HTTP Error: 400\n"
     ]
    },
    {
     "name": "stdout",
     "output_type": "stream",
     "text": [
      "Error getting neighborhood for nan, nan: HTTP Error: 400\n"
     ]
    },
    {
     "name": "stdout",
     "output_type": "stream",
     "text": [
      "Error getting neighborhood for nan, nan: HTTP Error: 400\n",
      "Error getting neighborhood for nan, nan: HTTP Error: 400\n",
      "Error getting neighborhood for nan, nan: HTTP Error: 400\n",
      "Error getting neighborhood for nan, nan: HTTP Error: 400\n",
      "Error getting neighborhood for nan, nan: HTTP Error: 400\n",
      "Error getting neighborhood for nan, nan: HTTP Error: 400\n",
      "Error getting neighborhood for nan, nan: HTTP Error: 400\n",
      "Error getting neighborhood for nan, nan: HTTP Error: 400\n",
      "Error getting neighborhood for nan, nan: HTTP Error: 400\n",
      "Error getting neighborhood for nan, nan: HTTP Error: 400\n"
     ]
    },
    {
     "name": "stdout",
     "output_type": "stream",
     "text": [
      "Error getting neighborhood for nan, nan: HTTP Error: 400\n"
     ]
    },
    {
     "name": "stdout",
     "output_type": "stream",
     "text": [
      "Error getting neighborhood for nan, nan: HTTP Error: 400\n",
      "Error getting neighborhood for nan, nan: HTTP Error: 400\n",
      "Error getting neighborhood for nan, nan: HTTP Error: 400\n",
      "Error getting neighborhood for nan, nan: HTTP Error: 400\n",
      "Error getting neighborhood for nan, nan: HTTP Error: 400\n",
      "Error getting neighborhood for nan, nan: HTTP Error: 400\n",
      "Error getting neighborhood for nan, nan: HTTP Error: 400\n",
      "Error getting neighborhood for nan, nan: HTTP Error: 400\n",
      "Error getting neighborhood for nan, nan: HTTP Error: 400\n",
      "Error getting neighborhood for nan, nan: HTTP Error: 400\n",
      "Error getting neighborhood for nan, nan: HTTP Error: 400\n"
     ]
    },
    {
     "name": "stdout",
     "output_type": "stream",
     "text": [
      "Error getting neighborhood for nan, nan: HTTP Error: 400\n"
     ]
    },
    {
     "name": "stdout",
     "output_type": "stream",
     "text": [
      "Error getting neighborhood for nan, nan: HTTP Error: 400\n",
      "Error getting neighborhood for nan, nan: HTTP Error: 400\n",
      "Error getting neighborhood for nan, nan: HTTP Error: 400\n",
      "Error getting neighborhood for nan, nan: HTTP Error: 400\n",
      "Error getting neighborhood for nan, nan: HTTP Error: 400\n",
      "Error getting neighborhood for nan, nan: HTTP Error: 400\n",
      "Error getting neighborhood for nan, nan: HTTP Error: 400\n",
      "Error getting neighborhood for nan, nan: HTTP Error: 400\n",
      "Error getting neighborhood for nan, nan: HTTP Error: 400\n",
      "Error getting neighborhood for nan, nan: HTTP Error: 400\n",
      "Error getting neighborhood for nan, nan: HTTP Error: 400\n"
     ]
    },
    {
     "name": "stdout",
     "output_type": "stream",
     "text": [
      "Error getting neighborhood for nan, nan: HTTP Error: 400\n"
     ]
    },
    {
     "name": "stdout",
     "output_type": "stream",
     "text": [
      "Error getting neighborhood for nan, nan: HTTP Error: 400\n",
      "Error getting neighborhood for nan, nan: HTTP Error: 400\n",
      "Error getting neighborhood for nan, nan: HTTP Error: 400\n",
      "Error getting neighborhood for nan, nan: HTTP Error: 400\n",
      "Error getting neighborhood for nan, nan: HTTP Error: 400\n",
      "Error getting neighborhood for nan, nan: HTTP Error: 400\n",
      "Error getting neighborhood for nan, nan: HTTP Error: 400\n",
      "Error getting neighborhood for nan, nan: HTTP Error: 400\n",
      "Error getting neighborhood for nan, nan: HTTP Error: 400\n",
      "Error getting neighborhood for nan, nan: HTTP Error: 400\n",
      "Error getting neighborhood for nan, nan: HTTP Error: 400\n"
     ]
    },
    {
     "name": "stdout",
     "output_type": "stream",
     "text": [
      "Error getting neighborhood for nan, nan: HTTP Error: 400\n"
     ]
    },
    {
     "name": "stdout",
     "output_type": "stream",
     "text": [
      "Error getting neighborhood for nan, nan: HTTP Error: 400\n",
      "Error getting neighborhood for nan, nan: HTTP Error: 400\n",
      "Error getting neighborhood for nan, nan: HTTP Error: 400\n",
      "Error getting neighborhood for nan, nan: HTTP Error: 400\n",
      "Error getting neighborhood for nan, nan: HTTP Error: 400\n",
      "Error getting neighborhood for nan, nan: HTTP Error: 400\n",
      "Error getting neighborhood for nan, nan: HTTP Error: 400\n",
      "Error getting neighborhood for nan, nan: HTTP Error: 400\n",
      "Error getting neighborhood for nan, nan: HTTP Error: 400\n",
      "Error getting neighborhood for nan, nan: HTTP Error: 400\n",
      "Error getting neighborhood for nan, nan: HTTP Error: 400\n"
     ]
    },
    {
     "name": "stdout",
     "output_type": "stream",
     "text": [
      "Error getting neighborhood for nan, nan: HTTP Error: 400\n"
     ]
    },
    {
     "name": "stdout",
     "output_type": "stream",
     "text": [
      "Error getting neighborhood for nan, nan: HTTP Error: 400\n",
      "Error getting neighborhood for nan, nan: HTTP Error: 400\n",
      "Error getting neighborhood for nan, nan: HTTP Error: 400\n",
      "Error getting neighborhood for nan, nan: HTTP Error: 400\n",
      "Error getting neighborhood for nan, nan: HTTP Error: 400\n",
      "Error getting neighborhood for nan, nan: HTTP Error: 400\n",
      "Error getting neighborhood for nan, nan: HTTP Error: 400\n",
      "Error getting neighborhood for nan, nan: HTTP Error: 400\n",
      "Error getting neighborhood for nan, nan: HTTP Error: 400\n",
      "Error getting neighborhood for nan, nan: HTTP Error: 400\n",
      "Error getting neighborhood for nan, nan: HTTP Error: 400\n"
     ]
    },
    {
     "name": "stdout",
     "output_type": "stream",
     "text": [
      "Error getting neighborhood for nan, nan: HTTP Error: 400\n"
     ]
    },
    {
     "name": "stdout",
     "output_type": "stream",
     "text": [
      "Error getting neighborhood for nan, nan: HTTP Error: 400\n"
     ]
    },
    {
     "data": {
      "text/html": [
       "<div>\n",
       "<style scoped>\n",
       "    .dataframe tbody tr th:only-of-type {\n",
       "        vertical-align: middle;\n",
       "    }\n",
       "\n",
       "    .dataframe tbody tr th {\n",
       "        vertical-align: top;\n",
       "    }\n",
       "\n",
       "    .dataframe thead th {\n",
       "        text-align: right;\n",
       "    }\n",
       "</style>\n",
       "<table border=\"1\" class=\"dataframe\">\n",
       "  <thead>\n",
       "    <tr style=\"text-align: right;\">\n",
       "      <th></th>\n",
       "      <th>RecordID</th>\n",
       "      <th>Offense</th>\n",
       "      <th>IncidentID</th>\n",
       "      <th>BlockNumber</th>\n",
       "      <th>StreetName</th>\n",
       "      <th>Agency</th>\n",
       "      <th>HourReported</th>\n",
       "      <th>ReportingOfficer</th>\n",
       "      <th>Date</th>\n",
       "      <th>DateString</th>\n",
       "      <th>DayOfWeek</th>\n",
       "      <th>Weekend</th>\n",
       "      <th>Season</th>\n",
       "      <th>HourAMPM</th>\n",
       "      <th>TimeOfDay</th>\n",
       "      <th>FullStreet</th>\n",
       "      <th>lat</th>\n",
       "      <th>lon</th>\n",
       "      <th>neighborhood</th>\n",
       "    </tr>\n",
       "  </thead>\n",
       "  <tbody>\n",
       "    <tr>\n",
       "      <th>0</th>\n",
       "      <td>1</td>\n",
       "      <td>Assist Citizen - Mental/TDO/ECO</td>\n",
       "      <td>202500027053</td>\n",
       "      <td></td>\n",
       "      <td>JOHN W WARNER PKWY / RAMP</td>\n",
       "      <td>CPD</td>\n",
       "      <td>2142</td>\n",
       "      <td>Reed, Danielle</td>\n",
       "      <td>2025-07-31 21:42:48</td>\n",
       "      <td>2025-07-31 09:42:48 PM</td>\n",
       "      <td>Thursday</td>\n",
       "      <td>False</td>\n",
       "      <td>Summer</td>\n",
       "      <td>09:42 PM</td>\n",
       "      <td>Night</td>\n",
       "      <td>JOHN W WARNER PKWY / RAMP</td>\n",
       "      <td>38.052286</td>\n",
       "      <td>-78.469412</td>\n",
       "      <td>N/A</td>\n",
       "    </tr>\n",
       "    <tr>\n",
       "      <th>1</th>\n",
       "      <td>2</td>\n",
       "      <td>Assault Simple</td>\n",
       "      <td>202500027051</td>\n",
       "      <td></td>\n",
       "      <td>12TH ST NW / GRADY AVE</td>\n",
       "      <td>CPD</td>\n",
       "      <td>2138</td>\n",
       "      <td>Abdelgayed, Adam</td>\n",
       "      <td>2025-07-31 21:38:20</td>\n",
       "      <td>2025-07-31 09:38:20 PM</td>\n",
       "      <td>Thursday</td>\n",
       "      <td>False</td>\n",
       "      <td>Summer</td>\n",
       "      <td>09:38 PM</td>\n",
       "      <td>Night</td>\n",
       "      <td>12TH ST NW / GRADY AVE</td>\n",
       "      <td>38.039440</td>\n",
       "      <td>-78.494294</td>\n",
       "      <td>Venable</td>\n",
       "    </tr>\n",
       "    <tr>\n",
       "      <th>2</th>\n",
       "      <td>3</td>\n",
       "      <td>Larceny - From Motor Vehicle</td>\n",
       "      <td>202500027040</td>\n",
       "      <td>1600</td>\n",
       "      <td>EMMET ST N</td>\n",
       "      <td>CPD</td>\n",
       "      <td>1948</td>\n",
       "      <td>Hudson, Jesse</td>\n",
       "      <td>2025-07-31 19:48:08</td>\n",
       "      <td>2025-07-31 07:48:08 PM</td>\n",
       "      <td>Thursday</td>\n",
       "      <td>False</td>\n",
       "      <td>Summer</td>\n",
       "      <td>07:48 PM</td>\n",
       "      <td>Evening</td>\n",
       "      <td>1600 EMMET ST N</td>\n",
       "      <td>38.057947</td>\n",
       "      <td>-78.493911</td>\n",
       "      <td>The Meadows</td>\n",
       "    </tr>\n",
       "    <tr>\n",
       "      <th>3</th>\n",
       "      <td>4</td>\n",
       "      <td>Warrant Service</td>\n",
       "      <td>202500027038</td>\n",
       "      <td>800</td>\n",
       "      <td>HARDY DR, D</td>\n",
       "      <td>CPD</td>\n",
       "      <td>1921</td>\n",
       "      <td>Venereo, Arturo</td>\n",
       "      <td>2025-07-31 19:21:36</td>\n",
       "      <td>2025-07-31 07:21:36 PM</td>\n",
       "      <td>Thursday</td>\n",
       "      <td>False</td>\n",
       "      <td>Summer</td>\n",
       "      <td>07:21 PM</td>\n",
       "      <td>Evening</td>\n",
       "      <td>800 HARDY DR, D</td>\n",
       "      <td>38.033239</td>\n",
       "      <td>-78.490398</td>\n",
       "      <td>10th &amp; Page</td>\n",
       "    </tr>\n",
       "    <tr>\n",
       "      <th>4</th>\n",
       "      <td>5</td>\n",
       "      <td>Larceny - All Other</td>\n",
       "      <td>202500027026</td>\n",
       "      <td>200</td>\n",
       "      <td>CARLTON RD, 4</td>\n",
       "      <td>CPD</td>\n",
       "      <td>1720</td>\n",
       "      <td>Ritter, Kobe</td>\n",
       "      <td>2025-07-31 17:20:18</td>\n",
       "      <td>2025-07-31 05:20:18 PM</td>\n",
       "      <td>Thursday</td>\n",
       "      <td>False</td>\n",
       "      <td>Summer</td>\n",
       "      <td>05:20 PM</td>\n",
       "      <td>Evening</td>\n",
       "      <td>200 CARLTON RD, 4</td>\n",
       "      <td>NaN</td>\n",
       "      <td>NaN</td>\n",
       "      <td>N/A</td>\n",
       "    </tr>\n",
       "  </tbody>\n",
       "</table>\n",
       "</div>"
      ],
      "text/plain": [
       "   RecordID                          Offense    IncidentID BlockNumber  \\\n",
       "0         1  Assist Citizen - Mental/TDO/ECO  202500027053               \n",
       "1         2                   Assault Simple  202500027051               \n",
       "2         3     Larceny - From Motor Vehicle  202500027040        1600   \n",
       "3         4                  Warrant Service  202500027038         800   \n",
       "4         5              Larceny - All Other  202500027026         200   \n",
       "\n",
       "                  StreetName Agency HourReported  ReportingOfficer  \\\n",
       "0  JOHN W WARNER PKWY / RAMP    CPD         2142    Reed, Danielle   \n",
       "1     12TH ST NW / GRADY AVE    CPD         2138  Abdelgayed, Adam   \n",
       "2                 EMMET ST N    CPD         1948     Hudson, Jesse   \n",
       "3                HARDY DR, D    CPD         1921   Venereo, Arturo   \n",
       "4              CARLTON RD, 4    CPD         1720      Ritter, Kobe   \n",
       "\n",
       "                 Date              DateString DayOfWeek  Weekend  Season  \\\n",
       "0 2025-07-31 21:42:48  2025-07-31 09:42:48 PM  Thursday    False  Summer   \n",
       "1 2025-07-31 21:38:20  2025-07-31 09:38:20 PM  Thursday    False  Summer   \n",
       "2 2025-07-31 19:48:08  2025-07-31 07:48:08 PM  Thursday    False  Summer   \n",
       "3 2025-07-31 19:21:36  2025-07-31 07:21:36 PM  Thursday    False  Summer   \n",
       "4 2025-07-31 17:20:18  2025-07-31 05:20:18 PM  Thursday    False  Summer   \n",
       "\n",
       "   HourAMPM TimeOfDay                  FullStreet        lat        lon  \\\n",
       "0  09:42 PM     Night   JOHN W WARNER PKWY / RAMP  38.052286 -78.469412   \n",
       "1  09:38 PM     Night      12TH ST NW / GRADY AVE  38.039440 -78.494294   \n",
       "2  07:48 PM   Evening             1600 EMMET ST N  38.057947 -78.493911   \n",
       "3  07:21 PM   Evening             800 HARDY DR, D  38.033239 -78.490398   \n",
       "4  05:20 PM   Evening           200 CARLTON RD, 4        NaN        NaN   \n",
       "\n",
       "  neighborhood  \n",
       "0          N/A  \n",
       "1      Venable  \n",
       "2  The Meadows  \n",
       "3  10th & Page  \n",
       "4          N/A  "
      ]
     },
     "execution_count": 10,
     "metadata": {},
     "output_type": "execute_result"
    }
   ],
   "source": [
    "# Initialize the Google Maps client.\n",
    "gmaps = googlemaps.Client(key=GOOGLE_API_KEY)\n",
    "\n",
    "# Try to load a persistent neighborhood cache if available.\n",
    "try:\n",
    "    with open(\"neighborhood_cache.pkl\", \"rb\") as f:\n",
    "        neighborhood_cache = pickle.load(f)\n",
    "    print(\"Loaded neighborhood cache.\")\n",
    "except FileNotFoundError:\n",
    "    neighborhood_cache = {}\n",
    "    print(\"No neighborhood cache found; starting fresh.\")\n",
    "\n",
    "def get_neighborhood(lat, lon):\n",
    "    \"\"\"\n",
    "    Reverse geocodes a latitude and longitude to retrieve the neighborhood.\n",
    "    Caches results to speed up subsequent lookups.\n",
    "    \"\"\"\n",
    "    key = (lat, lon)\n",
    "    if key in neighborhood_cache:\n",
    "        return neighborhood_cache[key]\n",
    "    \n",
    "    try:\n",
    "        result = gmaps.reverse_geocode((lat, lon))\n",
    "        if result:\n",
    "            # Look for the 'neighborhood' component in the first result.\n",
    "            for component in result[0]['address_components']:\n",
    "                if 'neighborhood' in component['types']:\n",
    "                    neighborhood = component['long_name']\n",
    "                    neighborhood_cache[key] = neighborhood\n",
    "                    return neighborhood\n",
    "            # If no neighborhood is found, return \"N/A\"\n",
    "            neighborhood_cache[key] = \"N/A\"\n",
    "            return \"N/A\"\n",
    "    except Exception as e:\n",
    "        print(f\"Error getting neighborhood for {lat}, {lon}: {e}\")\n",
    "        return \"N/A\"\n",
    "    \n",
    "    # Pause to respect usage limits.\n",
    "    time.sleep(1)\n",
    "\n",
    "# Example usage: Apply to your DataFrame 'df' that already has 'lat' and 'lon' columns.\n",
    "df['neighborhood'] = df.apply(lambda row: get_neighborhood(row['lat'], row['lon']), axis=1)\n",
    "\n",
    "# Save the updated neighborhood cache.\n",
    "with open(\"neighborhood_cache.pkl\", \"wb\") as f:\n",
    "    pickle.dump(neighborhood_cache, f)\n",
    "\n",
    "df.head()\n"
   ]
  },
  {
   "cell_type": "markdown",
   "id": "63542eb7",
   "metadata": {
    "papermill": {
     "duration": 0.005536,
     "end_time": "2025-08-03T01:17:55.014801",
     "exception": false,
     "start_time": "2025-08-03T01:17:55.009265",
     "status": "completed"
    },
    "tags": []
   },
   "source": [
    "### Zip"
   ]
  },
  {
   "cell_type": "code",
   "execution_count": 11,
   "id": "a48b2cd4",
   "metadata": {
    "execution": {
     "iopub.execute_input": "2025-08-03T01:17:55.026466Z",
     "iopub.status.busy": "2025-08-03T01:17:55.026206Z",
     "iopub.status.idle": "2025-08-03T01:19:17.474788Z",
     "shell.execute_reply": "2025-08-03T01:19:17.474182Z"
    },
    "papermill": {
     "duration": 82.455627,
     "end_time": "2025-08-03T01:19:17.475815",
     "exception": false,
     "start_time": "2025-08-03T01:17:55.020188",
     "status": "completed"
    },
    "tags": []
   },
   "outputs": [
    {
     "name": "stdout",
     "output_type": "stream",
     "text": [
      "Loaded zip cache.\n",
      "Error getting ZIP for nan, nan: Must be a coordinate pair or Point\n"
     ]
    },
    {
     "name": "stdout",
     "output_type": "stream",
     "text": [
      "Error getting ZIP for nan, nan: Must be a coordinate pair or Point\n"
     ]
    },
    {
     "name": "stdout",
     "output_type": "stream",
     "text": [
      "Error getting ZIP for nan, nan: Must be a coordinate pair or Point\n"
     ]
    },
    {
     "name": "stdout",
     "output_type": "stream",
     "text": [
      "Error getting ZIP for nan, nan: Must be a coordinate pair or Point\n"
     ]
    },
    {
     "name": "stdout",
     "output_type": "stream",
     "text": [
      "Error getting ZIP for nan, nan: Must be a coordinate pair or Point\n"
     ]
    },
    {
     "name": "stdout",
     "output_type": "stream",
     "text": [
      "Error getting ZIP for nan, nan: Must be a coordinate pair or Point\n"
     ]
    },
    {
     "name": "stdout",
     "output_type": "stream",
     "text": [
      "Error getting ZIP for nan, nan: Must be a coordinate pair or Point\n"
     ]
    },
    {
     "name": "stdout",
     "output_type": "stream",
     "text": [
      "Error getting ZIP for nan, nan: Must be a coordinate pair or Point\n"
     ]
    },
    {
     "name": "stdout",
     "output_type": "stream",
     "text": [
      "Error getting ZIP for nan, nan: Must be a coordinate pair or Point\n"
     ]
    },
    {
     "name": "stdout",
     "output_type": "stream",
     "text": [
      "Error getting ZIP for nan, nan: Must be a coordinate pair or Point\n"
     ]
    },
    {
     "name": "stdout",
     "output_type": "stream",
     "text": [
      "Error getting ZIP for nan, nan: Must be a coordinate pair or Point\n"
     ]
    },
    {
     "name": "stdout",
     "output_type": "stream",
     "text": [
      "Error getting ZIP for nan, nan: Must be a coordinate pair or Point\n"
     ]
    },
    {
     "name": "stdout",
     "output_type": "stream",
     "text": [
      "Error getting ZIP for nan, nan: Must be a coordinate pair or Point\n"
     ]
    },
    {
     "name": "stdout",
     "output_type": "stream",
     "text": [
      "Error getting ZIP for nan, nan: Must be a coordinate pair or Point\n"
     ]
    },
    {
     "name": "stdout",
     "output_type": "stream",
     "text": [
      "Error getting ZIP for nan, nan: Must be a coordinate pair or Point\n"
     ]
    },
    {
     "name": "stdout",
     "output_type": "stream",
     "text": [
      "Error getting ZIP for nan, nan: Must be a coordinate pair or Point\n"
     ]
    },
    {
     "name": "stdout",
     "output_type": "stream",
     "text": [
      "Error getting ZIP for nan, nan: Must be a coordinate pair or Point\n"
     ]
    },
    {
     "name": "stdout",
     "output_type": "stream",
     "text": [
      "Error getting ZIP for nan, nan: Must be a coordinate pair or Point\n"
     ]
    },
    {
     "name": "stdout",
     "output_type": "stream",
     "text": [
      "Error getting ZIP for nan, nan: Must be a coordinate pair or Point\n"
     ]
    },
    {
     "name": "stdout",
     "output_type": "stream",
     "text": [
      "Error getting ZIP for nan, nan: Must be a coordinate pair or Point\n"
     ]
    },
    {
     "name": "stdout",
     "output_type": "stream",
     "text": [
      "Error getting ZIP for nan, nan: Must be a coordinate pair or Point\n"
     ]
    },
    {
     "name": "stdout",
     "output_type": "stream",
     "text": [
      "Error getting ZIP for nan, nan: Must be a coordinate pair or Point\n"
     ]
    },
    {
     "name": "stdout",
     "output_type": "stream",
     "text": [
      "Error getting ZIP for nan, nan: Must be a coordinate pair or Point\n"
     ]
    },
    {
     "name": "stdout",
     "output_type": "stream",
     "text": [
      "Error getting ZIP for nan, nan: Must be a coordinate pair or Point\n"
     ]
    },
    {
     "name": "stdout",
     "output_type": "stream",
     "text": [
      "Error getting ZIP for nan, nan: Must be a coordinate pair or Point\n"
     ]
    },
    {
     "name": "stdout",
     "output_type": "stream",
     "text": [
      "Error getting ZIP for nan, nan: Must be a coordinate pair or Point\n"
     ]
    },
    {
     "name": "stdout",
     "output_type": "stream",
     "text": [
      "Error getting ZIP for nan, nan: Must be a coordinate pair or Point\n"
     ]
    },
    {
     "name": "stdout",
     "output_type": "stream",
     "text": [
      "Error getting ZIP for nan, nan: Must be a coordinate pair or Point\n"
     ]
    },
    {
     "name": "stdout",
     "output_type": "stream",
     "text": [
      "Error getting ZIP for nan, nan: Must be a coordinate pair or Point\n"
     ]
    },
    {
     "name": "stdout",
     "output_type": "stream",
     "text": [
      "Error getting ZIP for nan, nan: Must be a coordinate pair or Point\n"
     ]
    },
    {
     "name": "stdout",
     "output_type": "stream",
     "text": [
      "Error getting ZIP for nan, nan: Must be a coordinate pair or Point\n"
     ]
    },
    {
     "name": "stdout",
     "output_type": "stream",
     "text": [
      "Error getting ZIP for nan, nan: Must be a coordinate pair or Point\n"
     ]
    },
    {
     "name": "stdout",
     "output_type": "stream",
     "text": [
      "Error getting ZIP for nan, nan: Must be a coordinate pair or Point\n"
     ]
    },
    {
     "name": "stdout",
     "output_type": "stream",
     "text": [
      "Error getting ZIP for nan, nan: Must be a coordinate pair or Point\n"
     ]
    },
    {
     "name": "stdout",
     "output_type": "stream",
     "text": [
      "Error getting ZIP for nan, nan: Must be a coordinate pair or Point\n"
     ]
    },
    {
     "name": "stdout",
     "output_type": "stream",
     "text": [
      "Error getting ZIP for nan, nan: Must be a coordinate pair or Point\n"
     ]
    },
    {
     "name": "stdout",
     "output_type": "stream",
     "text": [
      "Error getting ZIP for nan, nan: Must be a coordinate pair or Point\n"
     ]
    },
    {
     "name": "stdout",
     "output_type": "stream",
     "text": [
      "Error getting ZIP for nan, nan: Must be a coordinate pair or Point\n"
     ]
    },
    {
     "name": "stdout",
     "output_type": "stream",
     "text": [
      "Error getting ZIP for nan, nan: Must be a coordinate pair or Point\n"
     ]
    },
    {
     "name": "stdout",
     "output_type": "stream",
     "text": [
      "Error getting ZIP for nan, nan: Must be a coordinate pair or Point\n"
     ]
    },
    {
     "name": "stdout",
     "output_type": "stream",
     "text": [
      "Error getting ZIP for nan, nan: Must be a coordinate pair or Point\n"
     ]
    },
    {
     "name": "stdout",
     "output_type": "stream",
     "text": [
      "Error getting ZIP for nan, nan: Must be a coordinate pair or Point\n"
     ]
    },
    {
     "name": "stdout",
     "output_type": "stream",
     "text": [
      "Error getting ZIP for nan, nan: Must be a coordinate pair or Point\n"
     ]
    },
    {
     "name": "stdout",
     "output_type": "stream",
     "text": [
      "Error getting ZIP for nan, nan: Must be a coordinate pair or Point\n"
     ]
    },
    {
     "name": "stdout",
     "output_type": "stream",
     "text": [
      "Error getting ZIP for nan, nan: Must be a coordinate pair or Point\n"
     ]
    },
    {
     "name": "stdout",
     "output_type": "stream",
     "text": [
      "Error getting ZIP for nan, nan: Must be a coordinate pair or Point\n"
     ]
    },
    {
     "name": "stdout",
     "output_type": "stream",
     "text": [
      "Error getting ZIP for nan, nan: Must be a coordinate pair or Point\n"
     ]
    },
    {
     "name": "stdout",
     "output_type": "stream",
     "text": [
      "Error getting ZIP for nan, nan: Must be a coordinate pair or Point\n"
     ]
    },
    {
     "name": "stdout",
     "output_type": "stream",
     "text": [
      "Error getting ZIP for nan, nan: Must be a coordinate pair or Point\n"
     ]
    },
    {
     "name": "stdout",
     "output_type": "stream",
     "text": [
      "Error getting ZIP for nan, nan: Must be a coordinate pair or Point\n"
     ]
    },
    {
     "name": "stdout",
     "output_type": "stream",
     "text": [
      "Error getting ZIP for nan, nan: Must be a coordinate pair or Point\n"
     ]
    },
    {
     "name": "stdout",
     "output_type": "stream",
     "text": [
      "Error getting ZIP for nan, nan: Must be a coordinate pair or Point\n"
     ]
    },
    {
     "name": "stdout",
     "output_type": "stream",
     "text": [
      "Error getting ZIP for nan, nan: Must be a coordinate pair or Point\n"
     ]
    },
    {
     "name": "stdout",
     "output_type": "stream",
     "text": [
      "Error getting ZIP for nan, nan: Must be a coordinate pair or Point\n"
     ]
    },
    {
     "name": "stdout",
     "output_type": "stream",
     "text": [
      "Error getting ZIP for nan, nan: Must be a coordinate pair or Point\n"
     ]
    },
    {
     "name": "stdout",
     "output_type": "stream",
     "text": [
      "Error getting ZIP for nan, nan: Must be a coordinate pair or Point\n"
     ]
    },
    {
     "name": "stdout",
     "output_type": "stream",
     "text": [
      "Error getting ZIP for nan, nan: Must be a coordinate pair or Point\n"
     ]
    },
    {
     "name": "stdout",
     "output_type": "stream",
     "text": [
      "Error getting ZIP for nan, nan: Must be a coordinate pair or Point\n"
     ]
    },
    {
     "name": "stdout",
     "output_type": "stream",
     "text": [
      "Error getting ZIP for nan, nan: Must be a coordinate pair or Point\n"
     ]
    },
    {
     "name": "stdout",
     "output_type": "stream",
     "text": [
      "Error getting ZIP for nan, nan: Must be a coordinate pair or Point\n"
     ]
    },
    {
     "name": "stdout",
     "output_type": "stream",
     "text": [
      "Error getting ZIP for nan, nan: Must be a coordinate pair or Point\n"
     ]
    },
    {
     "name": "stdout",
     "output_type": "stream",
     "text": [
      "Error getting ZIP for nan, nan: Must be a coordinate pair or Point\n"
     ]
    },
    {
     "name": "stdout",
     "output_type": "stream",
     "text": [
      "Error getting ZIP for nan, nan: Must be a coordinate pair or Point\n"
     ]
    },
    {
     "name": "stdout",
     "output_type": "stream",
     "text": [
      "Error getting ZIP for nan, nan: Must be a coordinate pair or Point\n"
     ]
    },
    {
     "name": "stdout",
     "output_type": "stream",
     "text": [
      "Error getting ZIP for nan, nan: Must be a coordinate pair or Point\n"
     ]
    },
    {
     "name": "stdout",
     "output_type": "stream",
     "text": [
      "Error getting ZIP for nan, nan: Must be a coordinate pair or Point\n"
     ]
    },
    {
     "name": "stdout",
     "output_type": "stream",
     "text": [
      "Error getting ZIP for nan, nan: Must be a coordinate pair or Point\n"
     ]
    },
    {
     "name": "stdout",
     "output_type": "stream",
     "text": [
      "Error getting ZIP for nan, nan: Must be a coordinate pair or Point\n"
     ]
    },
    {
     "name": "stdout",
     "output_type": "stream",
     "text": [
      "Error getting ZIP for nan, nan: Must be a coordinate pair or Point\n"
     ]
    },
    {
     "name": "stdout",
     "output_type": "stream",
     "text": [
      "Error getting ZIP for nan, nan: Must be a coordinate pair or Point\n"
     ]
    },
    {
     "name": "stdout",
     "output_type": "stream",
     "text": [
      "Error getting ZIP for nan, nan: Must be a coordinate pair or Point\n"
     ]
    },
    {
     "name": "stdout",
     "output_type": "stream",
     "text": [
      "Error getting ZIP for nan, nan: Must be a coordinate pair or Point\n"
     ]
    },
    {
     "name": "stdout",
     "output_type": "stream",
     "text": [
      "Error getting ZIP for nan, nan: Must be a coordinate pair or Point\n"
     ]
    },
    {
     "name": "stdout",
     "output_type": "stream",
     "text": [
      "Error getting ZIP for nan, nan: Must be a coordinate pair or Point\n"
     ]
    },
    {
     "name": "stdout",
     "output_type": "stream",
     "text": [
      "Error getting ZIP for nan, nan: Must be a coordinate pair or Point\n"
     ]
    },
    {
     "name": "stdout",
     "output_type": "stream",
     "text": [
      "Error getting ZIP for nan, nan: Must be a coordinate pair or Point\n"
     ]
    },
    {
     "name": "stdout",
     "output_type": "stream",
     "text": [
      "Error getting ZIP for nan, nan: Must be a coordinate pair or Point\n"
     ]
    },
    {
     "name": "stdout",
     "output_type": "stream",
     "text": [
      "Error getting ZIP for nan, nan: Must be a coordinate pair or Point\n"
     ]
    },
    {
     "name": "stdout",
     "output_type": "stream",
     "text": [
      "Error getting ZIP for nan, nan: Must be a coordinate pair or Point\n"
     ]
    },
    {
     "name": "stdout",
     "output_type": "stream",
     "text": [
      "Error getting ZIP for nan, nan: Must be a coordinate pair or Point\n"
     ]
    },
    {
     "name": "stdout",
     "output_type": "stream",
     "text": [
      "Error getting ZIP for nan, nan: Must be a coordinate pair or Point\n"
     ]
    },
    {
     "name": "stdout",
     "output_type": "stream",
     "text": [
      "Error getting ZIP for nan, nan: Must be a coordinate pair or Point\n"
     ]
    },
    {
     "data": {
      "text/html": [
       "<div>\n",
       "<style scoped>\n",
       "    .dataframe tbody tr th:only-of-type {\n",
       "        vertical-align: middle;\n",
       "    }\n",
       "\n",
       "    .dataframe tbody tr th {\n",
       "        vertical-align: top;\n",
       "    }\n",
       "\n",
       "    .dataframe thead th {\n",
       "        text-align: right;\n",
       "    }\n",
       "</style>\n",
       "<table border=\"1\" class=\"dataframe\">\n",
       "  <thead>\n",
       "    <tr style=\"text-align: right;\">\n",
       "      <th></th>\n",
       "      <th>RecordID</th>\n",
       "      <th>Offense</th>\n",
       "      <th>IncidentID</th>\n",
       "      <th>BlockNumber</th>\n",
       "      <th>StreetName</th>\n",
       "      <th>Agency</th>\n",
       "      <th>HourReported</th>\n",
       "      <th>ReportingOfficer</th>\n",
       "      <th>Date</th>\n",
       "      <th>DateString</th>\n",
       "      <th>DayOfWeek</th>\n",
       "      <th>Weekend</th>\n",
       "      <th>Season</th>\n",
       "      <th>HourAMPM</th>\n",
       "      <th>TimeOfDay</th>\n",
       "      <th>FullStreet</th>\n",
       "      <th>lat</th>\n",
       "      <th>lon</th>\n",
       "      <th>neighborhood</th>\n",
       "      <th>zip</th>\n",
       "    </tr>\n",
       "  </thead>\n",
       "  <tbody>\n",
       "    <tr>\n",
       "      <th>0</th>\n",
       "      <td>1</td>\n",
       "      <td>Assist Citizen - Mental/TDO/ECO</td>\n",
       "      <td>202500027053</td>\n",
       "      <td></td>\n",
       "      <td>JOHN W WARNER PKWY / RAMP</td>\n",
       "      <td>CPD</td>\n",
       "      <td>2142</td>\n",
       "      <td>Reed, Danielle</td>\n",
       "      <td>2025-07-31 21:42:48</td>\n",
       "      <td>2025-07-31 09:42:48 PM</td>\n",
       "      <td>Thursday</td>\n",
       "      <td>False</td>\n",
       "      <td>Summer</td>\n",
       "      <td>09:42 PM</td>\n",
       "      <td>Night</td>\n",
       "      <td>JOHN W WARNER PKWY / RAMP</td>\n",
       "      <td>38.052286</td>\n",
       "      <td>-78.469412</td>\n",
       "      <td>N/A</td>\n",
       "      <td>22901</td>\n",
       "    </tr>\n",
       "    <tr>\n",
       "      <th>1</th>\n",
       "      <td>2</td>\n",
       "      <td>Assault Simple</td>\n",
       "      <td>202500027051</td>\n",
       "      <td></td>\n",
       "      <td>12TH ST NW / GRADY AVE</td>\n",
       "      <td>CPD</td>\n",
       "      <td>2138</td>\n",
       "      <td>Abdelgayed, Adam</td>\n",
       "      <td>2025-07-31 21:38:20</td>\n",
       "      <td>2025-07-31 09:38:20 PM</td>\n",
       "      <td>Thursday</td>\n",
       "      <td>False</td>\n",
       "      <td>Summer</td>\n",
       "      <td>09:38 PM</td>\n",
       "      <td>Night</td>\n",
       "      <td>12TH ST NW / GRADY AVE</td>\n",
       "      <td>38.039440</td>\n",
       "      <td>-78.494294</td>\n",
       "      <td>Venable</td>\n",
       "      <td>22903</td>\n",
       "    </tr>\n",
       "    <tr>\n",
       "      <th>2</th>\n",
       "      <td>3</td>\n",
       "      <td>Larceny - From Motor Vehicle</td>\n",
       "      <td>202500027040</td>\n",
       "      <td>1600</td>\n",
       "      <td>EMMET ST N</td>\n",
       "      <td>CPD</td>\n",
       "      <td>1948</td>\n",
       "      <td>Hudson, Jesse</td>\n",
       "      <td>2025-07-31 19:48:08</td>\n",
       "      <td>2025-07-31 07:48:08 PM</td>\n",
       "      <td>Thursday</td>\n",
       "      <td>False</td>\n",
       "      <td>Summer</td>\n",
       "      <td>07:48 PM</td>\n",
       "      <td>Evening</td>\n",
       "      <td>1600 EMMET ST N</td>\n",
       "      <td>38.057947</td>\n",
       "      <td>-78.493911</td>\n",
       "      <td>The Meadows</td>\n",
       "      <td>22901</td>\n",
       "    </tr>\n",
       "    <tr>\n",
       "      <th>3</th>\n",
       "      <td>4</td>\n",
       "      <td>Warrant Service</td>\n",
       "      <td>202500027038</td>\n",
       "      <td>800</td>\n",
       "      <td>HARDY DR, D</td>\n",
       "      <td>CPD</td>\n",
       "      <td>1921</td>\n",
       "      <td>Venereo, Arturo</td>\n",
       "      <td>2025-07-31 19:21:36</td>\n",
       "      <td>2025-07-31 07:21:36 PM</td>\n",
       "      <td>Thursday</td>\n",
       "      <td>False</td>\n",
       "      <td>Summer</td>\n",
       "      <td>07:21 PM</td>\n",
       "      <td>Evening</td>\n",
       "      <td>800 HARDY DR, D</td>\n",
       "      <td>38.033239</td>\n",
       "      <td>-78.490398</td>\n",
       "      <td>10th &amp; Page</td>\n",
       "      <td>22903</td>\n",
       "    </tr>\n",
       "    <tr>\n",
       "      <th>4</th>\n",
       "      <td>5</td>\n",
       "      <td>Larceny - All Other</td>\n",
       "      <td>202500027026</td>\n",
       "      <td>200</td>\n",
       "      <td>CARLTON RD, 4</td>\n",
       "      <td>CPD</td>\n",
       "      <td>1720</td>\n",
       "      <td>Ritter, Kobe</td>\n",
       "      <td>2025-07-31 17:20:18</td>\n",
       "      <td>2025-07-31 05:20:18 PM</td>\n",
       "      <td>Thursday</td>\n",
       "      <td>False</td>\n",
       "      <td>Summer</td>\n",
       "      <td>05:20 PM</td>\n",
       "      <td>Evening</td>\n",
       "      <td>200 CARLTON RD, 4</td>\n",
       "      <td>NaN</td>\n",
       "      <td>NaN</td>\n",
       "      <td>N/A</td>\n",
       "      <td>N/A</td>\n",
       "    </tr>\n",
       "  </tbody>\n",
       "</table>\n",
       "</div>"
      ],
      "text/plain": [
       "   RecordID                          Offense    IncidentID BlockNumber  \\\n",
       "0         1  Assist Citizen - Mental/TDO/ECO  202500027053               \n",
       "1         2                   Assault Simple  202500027051               \n",
       "2         3     Larceny - From Motor Vehicle  202500027040        1600   \n",
       "3         4                  Warrant Service  202500027038         800   \n",
       "4         5              Larceny - All Other  202500027026         200   \n",
       "\n",
       "                  StreetName Agency HourReported  ReportingOfficer  \\\n",
       "0  JOHN W WARNER PKWY / RAMP    CPD         2142    Reed, Danielle   \n",
       "1     12TH ST NW / GRADY AVE    CPD         2138  Abdelgayed, Adam   \n",
       "2                 EMMET ST N    CPD         1948     Hudson, Jesse   \n",
       "3                HARDY DR, D    CPD         1921   Venereo, Arturo   \n",
       "4              CARLTON RD, 4    CPD         1720      Ritter, Kobe   \n",
       "\n",
       "                 Date              DateString DayOfWeek  Weekend  Season  \\\n",
       "0 2025-07-31 21:42:48  2025-07-31 09:42:48 PM  Thursday    False  Summer   \n",
       "1 2025-07-31 21:38:20  2025-07-31 09:38:20 PM  Thursday    False  Summer   \n",
       "2 2025-07-31 19:48:08  2025-07-31 07:48:08 PM  Thursday    False  Summer   \n",
       "3 2025-07-31 19:21:36  2025-07-31 07:21:36 PM  Thursday    False  Summer   \n",
       "4 2025-07-31 17:20:18  2025-07-31 05:20:18 PM  Thursday    False  Summer   \n",
       "\n",
       "   HourAMPM TimeOfDay                  FullStreet        lat        lon  \\\n",
       "0  09:42 PM     Night   JOHN W WARNER PKWY / RAMP  38.052286 -78.469412   \n",
       "1  09:38 PM     Night      12TH ST NW / GRADY AVE  38.039440 -78.494294   \n",
       "2  07:48 PM   Evening             1600 EMMET ST N  38.057947 -78.493911   \n",
       "3  07:21 PM   Evening             800 HARDY DR, D  38.033239 -78.490398   \n",
       "4  05:20 PM   Evening           200 CARLTON RD, 4        NaN        NaN   \n",
       "\n",
       "  neighborhood    zip  \n",
       "0          N/A  22901  \n",
       "1      Venable  22903  \n",
       "2  The Meadows  22901  \n",
       "3  10th & Page  22903  \n",
       "4          N/A    N/A  "
      ]
     },
     "execution_count": 11,
     "metadata": {},
     "output_type": "execute_result"
    }
   ],
   "source": [
    "# Initialize the geocoder.\n",
    "geolocator = Nominatim(user_agent=\"zip_lookup\")\n",
    "\n",
    "# Try to load a persistent ZIP cache if available.\n",
    "try:\n",
    "    with open(\"zip_cache.pkl\", \"rb\") as f:\n",
    "        zip_cache = pickle.load(f)\n",
    "    print(\"Loaded zip cache.\")\n",
    "except FileNotFoundError:\n",
    "    zip_cache = {}\n",
    "    print(\"No zip cache found; starting fresh.\")\n",
    "\n",
    "def get_zip(lat, lon):\n",
    "    \"\"\"\n",
    "    Reverse geocodes a latitude and longitude to retrieve the ZIP code.\n",
    "    Caches results to speed up subsequent lookups.\n",
    "    \"\"\"\n",
    "    key = (lat, lon)\n",
    "    if key in zip_cache:\n",
    "        return zip_cache[key]\n",
    "    \n",
    "    try:\n",
    "        location = geolocator.reverse((lat, lon), exactly_one=True, timeout=10)\n",
    "        address = location.raw.get('address', {})\n",
    "        postal_code = address.get('postcode', \"N/A\")\n",
    "    except Exception as e:\n",
    "        print(f\"Error getting ZIP for {lat}, {lon}: {e}\")\n",
    "        postal_code = \"N/A\"\n",
    "    \n",
    "    zip_cache[key] = postal_code\n",
    "    # Pause to respect the usage policy.\n",
    "    time.sleep(1)\n",
    "    return postal_code\n",
    "\n",
    "# Apply the function to each row in the DataFrame.\n",
    "df['zip'] = df.apply(lambda row: get_zip(row['lat'], row['lon']), axis=1)\n",
    "\n",
    "# Save the updated ZIP cache.\n",
    "with open(\"zip_cache.pkl\", \"wb\") as f:\n",
    "    pickle.dump(zip_cache, f)\n",
    "\n",
    "df.head()\n"
   ]
  },
  {
   "cell_type": "code",
   "execution_count": 12,
   "id": "686177c9",
   "metadata": {
    "execution": {
     "iopub.execute_input": "2025-08-03T01:19:17.495226Z",
     "iopub.status.busy": "2025-08-03T01:19:17.495041Z",
     "iopub.status.idle": "2025-08-03T01:19:17.521606Z",
     "shell.execute_reply": "2025-08-03T01:19:17.520933Z"
    },
    "papermill": {
     "duration": 0.037441,
     "end_time": "2025-08-03T01:19:17.522667",
     "exception": false,
     "start_time": "2025-08-03T01:19:17.485226",
     "status": "completed"
    },
    "tags": []
   },
   "outputs": [
    {
     "name": "stdout",
     "output_type": "stream",
     "text": [
      "                  MissingCount  MissingPercentage\n",
      "RecordID                     0               0.00\n",
      "Offense                      0               0.00\n",
      "IncidentID                   0               0.00\n",
      "BlockNumber                  0               0.00\n",
      "StreetName                   0               0.00\n",
      "Agency                       0               0.00\n",
      "HourReported                 0               0.00\n",
      "ReportingOfficer            17               0.07\n",
      "Date                         0               0.00\n",
      "DateString                   0               0.00\n",
      "DayOfWeek                    0               0.00\n",
      "Weekend                      0               0.00\n",
      "Season                       0               0.00\n",
      "HourAMPM                     0               0.00\n",
      "TimeOfDay                    0               0.00\n",
      "FullStreet                   0               0.00\n",
      "lat                         82               0.32\n",
      "lon                         82               0.32\n",
      "neighborhood                 0               0.00\n",
      "zip                          0               0.00\n"
     ]
    }
   ],
   "source": [
    "missing_info = missing_percentage(df)\n",
    "print(missing_info)\n"
   ]
  },
  {
   "cell_type": "code",
   "execution_count": 13,
   "id": "ab499551",
   "metadata": {
    "execution": {
     "iopub.execute_input": "2025-08-03T01:19:17.542174Z",
     "iopub.status.busy": "2025-08-03T01:19:17.541984Z",
     "iopub.status.idle": "2025-08-03T01:19:17.567922Z",
     "shell.execute_reply": "2025-08-03T01:19:17.567365Z"
    },
    "papermill": {
     "duration": 0.036788,
     "end_time": "2025-08-03T01:19:17.568944",
     "exception": false,
     "start_time": "2025-08-03T01:19:17.532156",
     "status": "completed"
    },
    "tags": []
   },
   "outputs": [
    {
     "name": "stdout",
     "output_type": "stream",
     "text": [
      "<class 'pandas.core.frame.DataFrame'>\n",
      "RangeIndex: 25615 entries, 0 to 25614\n",
      "Data columns (total 20 columns):\n",
      " #   Column            Non-Null Count  Dtype         \n",
      "---  ------            --------------  -----         \n",
      " 0   RecordID          25615 non-null  int64         \n",
      " 1   Offense           25615 non-null  object        \n",
      " 2   IncidentID        25615 non-null  object        \n",
      " 3   BlockNumber       25615 non-null  object        \n",
      " 4   StreetName        25615 non-null  object        \n",
      " 5   Agency            25615 non-null  object        \n",
      " 6   HourReported      25615 non-null  object        \n",
      " 7   ReportingOfficer  25598 non-null  object        \n",
      " 8   Date              25615 non-null  datetime64[ns]\n",
      " 9   DateString        25615 non-null  object        \n",
      " 10  DayOfWeek         25615 non-null  object        \n",
      " 11  Weekend           25615 non-null  bool          \n",
      " 12  Season            25615 non-null  object        \n",
      " 13  HourAMPM          25615 non-null  object        \n",
      " 14  TimeOfDay         25615 non-null  object        \n",
      " 15  FullStreet        25615 non-null  object        \n",
      " 16  lat               25533 non-null  float64       \n",
      " 17  lon               25533 non-null  float64       \n",
      " 18  neighborhood      25615 non-null  object        \n",
      " 19  zip               25615 non-null  object        \n",
      "dtypes: bool(1), datetime64[ns](1), float64(2), int64(1), object(15)\n",
      "memory usage: 3.7+ MB\n"
     ]
    }
   ],
   "source": [
    "df.info()"
   ]
  },
  {
   "cell_type": "code",
   "execution_count": 14,
   "id": "d800d9dc",
   "metadata": {
    "execution": {
     "iopub.execute_input": "2025-08-03T01:19:17.588671Z",
     "iopub.status.busy": "2025-08-03T01:19:17.588478Z",
     "iopub.status.idle": "2025-08-03T01:19:17.628467Z",
     "shell.execute_reply": "2025-08-03T01:19:17.627757Z"
    },
    "papermill": {
     "duration": 0.050859,
     "end_time": "2025-08-03T01:19:17.629489",
     "exception": false,
     "start_time": "2025-08-03T01:19:17.578630",
     "status": "completed"
    },
    "tags": []
   },
   "outputs": [
    {
     "data": {
      "text/html": [
       "<div>\n",
       "<style scoped>\n",
       "    .dataframe tbody tr th:only-of-type {\n",
       "        vertical-align: middle;\n",
       "    }\n",
       "\n",
       "    .dataframe tbody tr th {\n",
       "        vertical-align: top;\n",
       "    }\n",
       "\n",
       "    .dataframe thead th {\n",
       "        text-align: right;\n",
       "    }\n",
       "</style>\n",
       "<table border=\"1\" class=\"dataframe\">\n",
       "  <thead>\n",
       "    <tr style=\"text-align: right;\">\n",
       "      <th></th>\n",
       "      <th>RecordID</th>\n",
       "      <th>Offense</th>\n",
       "      <th>IncidentID</th>\n",
       "      <th>Agency</th>\n",
       "      <th>ReportingOfficer</th>\n",
       "      <th>Date</th>\n",
       "      <th>DayOfWeek</th>\n",
       "      <th>Weekend</th>\n",
       "      <th>Season</th>\n",
       "      <th>TimeOfDay</th>\n",
       "      <th>FullStreet</th>\n",
       "      <th>lat</th>\n",
       "      <th>lon</th>\n",
       "      <th>neighborhood</th>\n",
       "      <th>zip</th>\n",
       "    </tr>\n",
       "  </thead>\n",
       "  <tbody>\n",
       "    <tr>\n",
       "      <th>0</th>\n",
       "      <td>1</td>\n",
       "      <td>Assist Citizen - Mental/TDO/ECO</td>\n",
       "      <td>202500027053</td>\n",
       "      <td>CPD</td>\n",
       "      <td>Reed, Danielle</td>\n",
       "      <td>2025-07-31 21:42:48</td>\n",
       "      <td>Thursday</td>\n",
       "      <td>False</td>\n",
       "      <td>Summer</td>\n",
       "      <td>Night</td>\n",
       "      <td>JOHN W WARNER PKWY / RAMP</td>\n",
       "      <td>38.052286</td>\n",
       "      <td>-78.469412</td>\n",
       "      <td>N/A</td>\n",
       "      <td>22901</td>\n",
       "    </tr>\n",
       "    <tr>\n",
       "      <th>1</th>\n",
       "      <td>2</td>\n",
       "      <td>Assault Simple</td>\n",
       "      <td>202500027051</td>\n",
       "      <td>CPD</td>\n",
       "      <td>Abdelgayed, Adam</td>\n",
       "      <td>2025-07-31 21:38:20</td>\n",
       "      <td>Thursday</td>\n",
       "      <td>False</td>\n",
       "      <td>Summer</td>\n",
       "      <td>Night</td>\n",
       "      <td>12TH ST NW / GRADY AVE</td>\n",
       "      <td>38.03944</td>\n",
       "      <td>-78.494294</td>\n",
       "      <td>Venable</td>\n",
       "      <td>22903</td>\n",
       "    </tr>\n",
       "    <tr>\n",
       "      <th>2</th>\n",
       "      <td>3</td>\n",
       "      <td>Larceny - From Motor Vehicle</td>\n",
       "      <td>202500027040</td>\n",
       "      <td>CPD</td>\n",
       "      <td>Hudson, Jesse</td>\n",
       "      <td>2025-07-31 19:48:08</td>\n",
       "      <td>Thursday</td>\n",
       "      <td>False</td>\n",
       "      <td>Summer</td>\n",
       "      <td>Evening</td>\n",
       "      <td>1600 EMMET ST N</td>\n",
       "      <td>38.057947</td>\n",
       "      <td>-78.493911</td>\n",
       "      <td>The Meadows</td>\n",
       "      <td>22901</td>\n",
       "    </tr>\n",
       "    <tr>\n",
       "      <th>3</th>\n",
       "      <td>4</td>\n",
       "      <td>Warrant Service</td>\n",
       "      <td>202500027038</td>\n",
       "      <td>CPD</td>\n",
       "      <td>Venereo, Arturo</td>\n",
       "      <td>2025-07-31 19:21:36</td>\n",
       "      <td>Thursday</td>\n",
       "      <td>False</td>\n",
       "      <td>Summer</td>\n",
       "      <td>Evening</td>\n",
       "      <td>800 HARDY DR, D</td>\n",
       "      <td>38.033239</td>\n",
       "      <td>-78.490398</td>\n",
       "      <td>10th &amp; Page</td>\n",
       "      <td>22903</td>\n",
       "    </tr>\n",
       "    <tr>\n",
       "      <th>4</th>\n",
       "      <td>5</td>\n",
       "      <td>Larceny - All Other</td>\n",
       "      <td>202500027026</td>\n",
       "      <td>CPD</td>\n",
       "      <td>Ritter, Kobe</td>\n",
       "      <td>2025-07-31 17:20:18</td>\n",
       "      <td>Thursday</td>\n",
       "      <td>False</td>\n",
       "      <td>Summer</td>\n",
       "      <td>Evening</td>\n",
       "      <td>200 CARLTON RD, 4</td>\n",
       "      <td>N/A</td>\n",
       "      <td>N/A</td>\n",
       "      <td>N/A</td>\n",
       "      <td>N/A</td>\n",
       "    </tr>\n",
       "  </tbody>\n",
       "</table>\n",
       "</div>"
      ],
      "text/plain": [
       "   RecordID                          Offense    IncidentID Agency  \\\n",
       "0         1  Assist Citizen - Mental/TDO/ECO  202500027053    CPD   \n",
       "1         2                   Assault Simple  202500027051    CPD   \n",
       "2         3     Larceny - From Motor Vehicle  202500027040    CPD   \n",
       "3         4                  Warrant Service  202500027038    CPD   \n",
       "4         5              Larceny - All Other  202500027026    CPD   \n",
       "\n",
       "   ReportingOfficer                Date DayOfWeek  Weekend  Season TimeOfDay  \\\n",
       "0    Reed, Danielle 2025-07-31 21:42:48  Thursday    False  Summer     Night   \n",
       "1  Abdelgayed, Adam 2025-07-31 21:38:20  Thursday    False  Summer     Night   \n",
       "2     Hudson, Jesse 2025-07-31 19:48:08  Thursday    False  Summer   Evening   \n",
       "3   Venereo, Arturo 2025-07-31 19:21:36  Thursday    False  Summer   Evening   \n",
       "4      Ritter, Kobe 2025-07-31 17:20:18  Thursday    False  Summer   Evening   \n",
       "\n",
       "                   FullStreet        lat        lon neighborhood    zip  \n",
       "0   JOHN W WARNER PKWY / RAMP  38.052286 -78.469412          N/A  22901  \n",
       "1      12TH ST NW / GRADY AVE   38.03944 -78.494294      Venable  22903  \n",
       "2             1600 EMMET ST N  38.057947 -78.493911  The Meadows  22901  \n",
       "3             800 HARDY DR, D  38.033239 -78.490398  10th & Page  22903  \n",
       "4           200 CARLTON RD, 4        N/A        N/A          N/A    N/A  "
      ]
     },
     "execution_count": 14,
     "metadata": {},
     "output_type": "execute_result"
    }
   ],
   "source": [
    "# Now drop the original BlockNumber and StreetName columns\n",
    "df.drop(columns=['BlockNumber', 'StreetName','HourAMPM','HourReported','DateString'], inplace=True)\n",
    "df[\"zip\"] = df[\"zip\"].astype(str)\n",
    "\n",
    "# Fill all missing values in the DataFrame with \"N/A\"\n",
    "df.replace({None: \"N/A\", np.nan: \"N/A\", \"\": \"N/A\"}, inplace=True)\n",
    "df.head()"
   ]
  },
  {
   "cell_type": "code",
   "execution_count": 15,
   "id": "944fa492",
   "metadata": {
    "execution": {
     "iopub.execute_input": "2025-08-03T01:19:17.649758Z",
     "iopub.status.busy": "2025-08-03T01:19:17.649501Z",
     "iopub.status.idle": "2025-08-03T01:19:17.667150Z",
     "shell.execute_reply": "2025-08-03T01:19:17.666506Z"
    },
    "papermill": {
     "duration": 0.028798,
     "end_time": "2025-08-03T01:19:17.668163",
     "exception": false,
     "start_time": "2025-08-03T01:19:17.639365",
     "status": "completed"
    },
    "tags": []
   },
   "outputs": [
    {
     "name": "stdout",
     "output_type": "stream",
     "text": [
      "                  MissingCount  MissingPercentage\n",
      "RecordID                     0                0.0\n",
      "Offense                      0                0.0\n",
      "IncidentID                   0                0.0\n",
      "Agency                       0                0.0\n",
      "ReportingOfficer             0                0.0\n",
      "Date                         0                0.0\n",
      "DayOfWeek                    0                0.0\n",
      "Weekend                      0                0.0\n",
      "Season                       0                0.0\n",
      "TimeOfDay                    0                0.0\n",
      "FullStreet                   0                0.0\n",
      "lat                          0                0.0\n",
      "lon                          0                0.0\n",
      "neighborhood                 0                0.0\n",
      "zip                          0                0.0\n"
     ]
    }
   ],
   "source": [
    "missing_info = missing_percentage(df)\n",
    "print(missing_info)"
   ]
  },
  {
   "cell_type": "code",
   "execution_count": 16,
   "id": "b4186dc1",
   "metadata": {
    "execution": {
     "iopub.execute_input": "2025-08-03T01:19:17.687983Z",
     "iopub.status.busy": "2025-08-03T01:19:17.687788Z",
     "iopub.status.idle": "2025-08-03T01:19:17.691917Z",
     "shell.execute_reply": "2025-08-03T01:19:17.691307Z"
    },
    "papermill": {
     "duration": 0.015193,
     "end_time": "2025-08-03T01:19:17.692921",
     "exception": false,
     "start_time": "2025-08-03T01:19:17.677728",
     "status": "completed"
    },
    "tags": []
   },
   "outputs": [
    {
     "data": {
      "text/plain": [
       "Index(['RecordID', 'Offense', 'IncidentID', 'Agency', 'ReportingOfficer',\n",
       "       'Date', 'DayOfWeek', 'Weekend', 'Season', 'TimeOfDay', 'FullStreet',\n",
       "       'lat', 'lon', 'neighborhood', 'zip'],\n",
       "      dtype='object')"
      ]
     },
     "execution_count": 16,
     "metadata": {},
     "output_type": "execute_result"
    }
   ],
   "source": [
    "df.columns"
   ]
  },
  {
   "cell_type": "code",
   "execution_count": 17,
   "id": "c6303122",
   "metadata": {
    "execution": {
     "iopub.execute_input": "2025-08-03T01:19:17.712680Z",
     "iopub.status.busy": "2025-08-03T01:19:17.712501Z",
     "iopub.status.idle": "2025-08-03T01:19:17.731501Z",
     "shell.execute_reply": "2025-08-03T01:19:17.730838Z"
    },
    "papermill": {
     "duration": 0.030003,
     "end_time": "2025-08-03T01:19:17.732475",
     "exception": false,
     "start_time": "2025-08-03T01:19:17.702472",
     "status": "completed"
    },
    "tags": []
   },
   "outputs": [
    {
     "name": "stdout",
     "output_type": "stream",
     "text": [
      "<class 'pandas.core.frame.DataFrame'>\n",
      "RangeIndex: 25615 entries, 0 to 25614\n",
      "Data columns (total 15 columns):\n",
      " #   Column            Non-Null Count  Dtype         \n",
      "---  ------            --------------  -----         \n",
      " 0   RecordID          25615 non-null  int64         \n",
      " 1   Offense           25615 non-null  object        \n",
      " 2   IncidentID        25615 non-null  object        \n",
      " 3   Agency            25615 non-null  object        \n",
      " 4   ReportingOfficer  25615 non-null  object        \n",
      " 5   Date              25615 non-null  datetime64[ns]\n",
      " 6   DayOfWeek         25615 non-null  object        \n",
      " 7   Weekend           25615 non-null  bool          \n",
      " 8   Season            25615 non-null  object        \n",
      " 9   TimeOfDay         25615 non-null  object        \n",
      " 10  FullStreet        25615 non-null  object        \n",
      " 11  lat               25615 non-null  object        \n",
      " 12  lon               25615 non-null  object        \n",
      " 13  neighborhood      25615 non-null  object        \n",
      " 14  zip               25615 non-null  object        \n",
      "dtypes: bool(1), datetime64[ns](1), int64(1), object(12)\n",
      "memory usage: 2.8+ MB\n"
     ]
    }
   ],
   "source": [
    "df.info()"
   ]
  },
  {
   "cell_type": "markdown",
   "id": "8b2d0b3e",
   "metadata": {
    "papermill": {
     "duration": 0.009587,
     "end_time": "2025-08-03T01:19:17.751937",
     "exception": false,
     "start_time": "2025-08-03T01:19:17.742350",
     "status": "completed"
    },
    "tags": []
   },
   "source": [
    "### Export Clean Data"
   ]
  },
  {
   "cell_type": "code",
   "execution_count": 18,
   "id": "9c62c0a5",
   "metadata": {
    "execution": {
     "iopub.execute_input": "2025-08-03T01:19:17.771883Z",
     "iopub.status.busy": "2025-08-03T01:19:17.771697Z",
     "iopub.status.idle": "2025-08-03T01:19:26.936969Z",
     "shell.execute_reply": "2025-08-03T01:19:26.936371Z"
    },
    "papermill": {
     "duration": 9.176394,
     "end_time": "2025-08-03T01:19:26.937980",
     "exception": false,
     "start_time": "2025-08-03T01:19:17.761586",
     "status": "completed"
    },
    "tags": []
   },
   "outputs": [
    {
     "name": "stdout",
     "output_type": "stream",
     "text": [
      "Project Root: /home/runner/work/crime-data/crime-data\n"
     ]
    },
    {
     "name": "stdout",
     "output_type": "stream",
     "text": [
      "Data saved to: /home/runner/work/crime-data/crime-data/data/charlottesville_crime_incidents.csv\n"
     ]
    },
    {
     "name": "stdout",
     "output_type": "stream",
     "text": [
      "Excel saved to: /home/runner/work/crime-data/crime-data/data/charlottesville_crime_incidents.xlsx\n"
     ]
    }
   ],
   "source": [
    "# Determine the project root (assuming papermill is run from the repository root)\n",
    "project_root = os.getcwd()\n",
    "print(\"Project Root:\", project_root)\n",
    "\n",
    "# Set the data directory within the project root\n",
    "data_dir = os.path.join(project_root, \"data\")\n",
    "\n",
    "# Ensure the \"data\" directory exists (create it if it doesn't)\n",
    "if not os.path.exists(data_dir):\n",
    "    os.makedirs(data_dir)\n",
    "\n",
    "# Export the DataFrame to CSV in the \"data\" folder located in the project root\n",
    "csv_path = os.path.join(data_dir, \"charlottesville_crime_incidents.csv\")\n",
    "df.to_csv(csv_path, index=False)\n",
    "print(\"Data saved to:\", csv_path)\n",
    "\n",
    "# Construct the path to your Excel file\n",
    "excel_path = os.path.join(data_dir, \"charlottesville_crime_incidents.xlsx\")\n",
    "\n",
    "# Export the DataFrame to Excel\n",
    "df.to_excel(excel_path, index=False)\n",
    "print(\"Excel saved to:\", excel_path)\n"
   ]
  }
 ],
 "metadata": {
  "kernelspec": {
   "display_name": "Python 3",
   "language": "python",
   "name": "python3"
  },
  "language_info": {
   "codemirror_mode": {
    "name": "ipython",
    "version": 3
   },
   "file_extension": ".py",
   "mimetype": "text/x-python",
   "name": "python",
   "nbconvert_exporter": "python",
   "pygments_lexer": "ipython3",
   "version": "3.9.23"
  },
  "papermill": {
   "default_parameters": {},
   "duration": 166.502865,
   "end_time": "2025-08-03T01:19:27.364935",
   "environment_variables": {},
   "exception": null,
   "input_path": "notebook/Crime Data.ipynb",
   "output_path": "notebook/Crime Data_output.ipynb",
   "parameters": {},
   "start_time": "2025-08-03T01:16:40.862070",
   "version": "2.6.0"
  }
 },
 "nbformat": 4,
 "nbformat_minor": 5
}