{
 "cells": [
  {
   "cell_type": "markdown",
   "id": "9a1484dd",
   "metadata": {
    "papermill": {
     "duration": 0.006121,
     "end_time": "2025-05-13T01:03:02.372633",
     "exception": false,
     "start_time": "2025-05-13T01:03:02.366512",
     "status": "completed"
    },
    "tags": []
   },
   "source": [
    "# Charlottesville Open Data Porttal: Crime Data"
   ]
  },
  {
   "cell_type": "markdown",
   "id": "73a3c4d8",
   "metadata": {
    "papermill": {
     "duration": 0.00494,
     "end_time": "2025-05-13T01:03:02.382926",
     "exception": false,
     "start_time": "2025-05-13T01:03:02.377986",
     "status": "completed"
    },
    "tags": []
   },
   "source": [
    "## Import Relevant Librarires & Set WD"
   ]
  },
  {
   "cell_type": "code",
   "execution_count": 1,
   "id": "beecb9f6",
   "metadata": {
    "execution": {
     "iopub.execute_input": "2025-05-13T01:03:02.394386Z",
     "iopub.status.busy": "2025-05-13T01:03:02.393808Z",
     "iopub.status.idle": "2025-05-13T01:03:03.020049Z",
     "shell.execute_reply": "2025-05-13T01:03:03.019283Z"
    },
    "papermill": {
     "duration": 0.633566,
     "end_time": "2025-05-13T01:03:03.021556",
     "exception": false,
     "start_time": "2025-05-13T01:03:02.387990",
     "status": "completed"
    },
    "tags": []
   },
   "outputs": [],
   "source": [
    "import requests\n",
    "import pandas as pd\n",
    "import numpy as np\n",
    "import pickle\n",
    "import googlemaps\n",
    "import plotly.express as px\n",
    "from geopy.geocoders import Nominatim\n",
    "import time\n",
    "from dotenv import load_dotenv\n",
    "import os\n",
    "\n",
    "env_path = os.path.join(\"..\", \".env\")\n",
    "#print(\"Looking for .env file at:\", os.path.abspath(env_path))\n",
    "load_dotenv(dotenv_path=env_path)\n",
    "\n",
    "# Retrieve the variables\n",
    "GOOGLE_API_KEY = os.getenv(\"GOOGLE_API_KEY\")\n",
    "WORKING_DIR = os.getenv(\"WORKING_DIR\")\n",
    "\n",
    "if GOOGLE_API_KEY is None or WORKING_DIR is None:\n",
    "    raise RuntimeError(\"No configuration found. Please ensure that your .env file exists with the required variables, or create a local config.py file.\")\n",
    "\n",
    "#print(\"Google API Key:\", GOOGLE_API_KEY)\n",
    "#print(\"Working Directory:\", WORKING_DIR)"
   ]
  },
  {
   "cell_type": "markdown",
   "id": "b288ab0a",
   "metadata": {
    "papermill": {
     "duration": 0.005068,
     "end_time": "2025-05-13T01:03:03.032136",
     "exception": false,
     "start_time": "2025-05-13T01:03:03.027068",
     "status": "completed"
    },
    "tags": []
   },
   "source": [
    "## Import Data\n",
    "\n",
    "URL: https://opendata.charlottesville.org/datasets/charlottesville::crime-data/about"
   ]
  },
  {
   "cell_type": "code",
   "execution_count": 2,
   "id": "1195be36",
   "metadata": {
    "execution": {
     "iopub.execute_input": "2025-05-13T01:03:03.044225Z",
     "iopub.status.busy": "2025-05-13T01:03:03.043576Z",
     "iopub.status.idle": "2025-05-13T01:04:03.395507Z",
     "shell.execute_reply": "2025-05-13T01:04:03.394735Z"
    },
    "papermill": {
     "duration": 60.385136,
     "end_time": "2025-05-13T01:04:03.423018",
     "exception": false,
     "start_time": "2025-05-13T01:03:03.037882",
     "status": "completed"
    },
    "tags": []
   },
   "outputs": [
    {
     "name": "stdout",
     "output_type": "stream",
     "text": [
      "Total records imported: 25379\n"
     ]
    }
   ],
   "source": [
    "# Define the endpoint and initial parameters.\n",
    "url = \"https://gisweb.charlottesville.org/arcgis/rest/services/OpenData_2/MapServer/6/query\"\n",
    "params = {\n",
    "    \"where\": \"1=1\",\n",
    "    \"outFields\": \"*\",\n",
    "    \"outSR\": 4326,\n",
    "    \"f\": \"json\",\n",
    "    \"resultOffset\": 0,       # Starting index for results\n",
    "    \"resultRecordCount\": 10000  # Maximum records per batch (if allowed by the API)\n",
    "}\n",
    "\n",
    "records = []\n",
    "\n",
    "while True:\n",
    "    response = requests.get(url, params=params)\n",
    "    response.raise_for_status()\n",
    "    data = response.json()\n",
    "    \n",
    "    # Get the current batch of features.\n",
    "    features = data.get(\"features\", [])\n",
    "    if not features:\n",
    "        break\n",
    "\n",
    "    # Extract the attributes from the features.\n",
    "    batch_records = [feature.get(\"attributes\", {}) for feature in features]\n",
    "    records.extend(batch_records)\n",
    "    \n",
    "    # If the batch size is less than the requested count, we reached the end.\n",
    "    if len(features) < params[\"resultRecordCount\"]:\n",
    "        break\n",
    "\n",
    "    # Update the resultOffset for the next batch.\n",
    "    params[\"resultOffset\"] += params[\"resultRecordCount\"]\n",
    "\n",
    "# Create a DataFrame from the combined records.\n",
    "df = pd.DataFrame(records)\n",
    "print(\"Total records imported:\", len(df))\n"
   ]
  },
  {
   "cell_type": "code",
   "execution_count": 3,
   "id": "9a2a0eac",
   "metadata": {
    "execution": {
     "iopub.execute_input": "2025-05-13T01:04:03.434766Z",
     "iopub.status.busy": "2025-05-13T01:04:03.434336Z",
     "iopub.status.idle": "2025-05-13T01:04:03.446682Z",
     "shell.execute_reply": "2025-05-13T01:04:03.446139Z"
    },
    "papermill": {
     "duration": 0.019441,
     "end_time": "2025-05-13T01:04:03.447718",
     "exception": false,
     "start_time": "2025-05-13T01:04:03.428277",
     "status": "completed"
    },
    "tags": []
   },
   "outputs": [
    {
     "data": {
      "text/html": [
       "<div>\n",
       "<style scoped>\n",
       "    .dataframe tbody tr th:only-of-type {\n",
       "        vertical-align: middle;\n",
       "    }\n",
       "\n",
       "    .dataframe tbody tr th {\n",
       "        vertical-align: top;\n",
       "    }\n",
       "\n",
       "    .dataframe thead th {\n",
       "        text-align: right;\n",
       "    }\n",
       "</style>\n",
       "<table border=\"1\" class=\"dataframe\">\n",
       "  <thead>\n",
       "    <tr style=\"text-align: right;\">\n",
       "      <th></th>\n",
       "      <th>RecordID</th>\n",
       "      <th>Offense</th>\n",
       "      <th>IncidentID</th>\n",
       "      <th>BlockNumber</th>\n",
       "      <th>StreetName</th>\n",
       "      <th>Agency</th>\n",
       "      <th>DateReported</th>\n",
       "      <th>HourReported</th>\n",
       "      <th>ReportingOfficer</th>\n",
       "    </tr>\n",
       "  </thead>\n",
       "  <tbody>\n",
       "    <tr>\n",
       "      <th>0</th>\n",
       "      <td>1</td>\n",
       "      <td>Larceny - All Other</td>\n",
       "      <td>202500015844</td>\n",
       "      <td>400</td>\n",
       "      <td>GARRETT ST, G</td>\n",
       "      <td>CPD</td>\n",
       "      <td>1746926604000</td>\n",
       "      <td>2123</td>\n",
       "      <td>Davis, Charles</td>\n",
       "    </tr>\n",
       "    <tr>\n",
       "      <th>1</th>\n",
       "      <td>2</td>\n",
       "      <td>Drug/Narcotics Violation</td>\n",
       "      <td>202500015843</td>\n",
       "      <td>400</td>\n",
       "      <td>GARRETT ST, G</td>\n",
       "      <td>CPD</td>\n",
       "      <td>1746926478000</td>\n",
       "      <td>2121</td>\n",
       "      <td>Ritter, Kobe</td>\n",
       "    </tr>\n",
       "    <tr>\n",
       "      <th>2</th>\n",
       "      <td>3</td>\n",
       "      <td>Larceny - From Motor Vehicle</td>\n",
       "      <td>202500015842</td>\n",
       "      <td>300</td>\n",
       "      <td>3RD ST NE</td>\n",
       "      <td>CPD</td>\n",
       "      <td>1746926431000</td>\n",
       "      <td>2120</td>\n",
       "      <td>Essex, Dominique</td>\n",
       "    </tr>\n",
       "    <tr>\n",
       "      <th>3</th>\n",
       "      <td>4</td>\n",
       "      <td>Assault Simple</td>\n",
       "      <td>202500015776</td>\n",
       "      <td></td>\n",
       "      <td>W MAIN ST / W WATER ST</td>\n",
       "      <td>CPD</td>\n",
       "      <td>1746894216000</td>\n",
       "      <td>1223</td>\n",
       "      <td>O'Briant, Landon</td>\n",
       "    </tr>\n",
       "    <tr>\n",
       "      <th>4</th>\n",
       "      <td>5</td>\n",
       "      <td>Fraud-false pretense</td>\n",
       "      <td>202500015772</td>\n",
       "      <td>400</td>\n",
       "      <td>QUARRY RD</td>\n",
       "      <td>CPD</td>\n",
       "      <td>1746892652000</td>\n",
       "      <td>1157</td>\n",
       "      <td>Prevost, Payten</td>\n",
       "    </tr>\n",
       "  </tbody>\n",
       "</table>\n",
       "</div>"
      ],
      "text/plain": [
       "   RecordID                       Offense    IncidentID BlockNumber  \\\n",
       "0         1           Larceny - All Other  202500015844         400   \n",
       "1         2      Drug/Narcotics Violation  202500015843         400   \n",
       "2         3  Larceny - From Motor Vehicle  202500015842         300   \n",
       "3         4                Assault Simple  202500015776               \n",
       "4         5          Fraud-false pretense  202500015772         400   \n",
       "\n",
       "               StreetName Agency   DateReported HourReported  ReportingOfficer  \n",
       "0           GARRETT ST, G    CPD  1746926604000         2123    Davis, Charles  \n",
       "1           GARRETT ST, G    CPD  1746926478000         2121      Ritter, Kobe  \n",
       "2               3RD ST NE    CPD  1746926431000         2120  Essex, Dominique  \n",
       "3  W MAIN ST / W WATER ST    CPD  1746894216000         1223  O'Briant, Landon  \n",
       "4               QUARRY RD    CPD  1746892652000         1157   Prevost, Payten  "
      ]
     },
     "execution_count": 3,
     "metadata": {},
     "output_type": "execute_result"
    }
   ],
   "source": [
    "df.head()"
   ]
  },
  {
   "cell_type": "code",
   "execution_count": 4,
   "id": "2f4306bd",
   "metadata": {
    "execution": {
     "iopub.execute_input": "2025-05-13T01:04:03.459362Z",
     "iopub.status.busy": "2025-05-13T01:04:03.459164Z",
     "iopub.status.idle": "2025-05-13T01:04:03.463262Z",
     "shell.execute_reply": "2025-05-13T01:04:03.462633Z"
    },
    "papermill": {
     "duration": 0.01118,
     "end_time": "2025-05-13T01:04:03.464280",
     "exception": false,
     "start_time": "2025-05-13T01:04:03.453100",
     "status": "completed"
    },
    "tags": []
   },
   "outputs": [
    {
     "data": {
      "text/plain": [
       "Index(['RecordID', 'Offense', 'IncidentID', 'BlockNumber', 'StreetName',\n",
       "       'Agency', 'DateReported', 'HourReported', 'ReportingOfficer'],\n",
       "      dtype='object')"
      ]
     },
     "execution_count": 4,
     "metadata": {},
     "output_type": "execute_result"
    }
   ],
   "source": [
    "df.columns"
   ]
  },
  {
   "cell_type": "code",
   "execution_count": 5,
   "id": "c766779c",
   "metadata": {
    "execution": {
     "iopub.execute_input": "2025-05-13T01:04:03.476233Z",
     "iopub.status.busy": "2025-05-13T01:04:03.475705Z",
     "iopub.status.idle": "2025-05-13T01:04:03.497500Z",
     "shell.execute_reply": "2025-05-13T01:04:03.496960Z"
    },
    "papermill": {
     "duration": 0.02881,
     "end_time": "2025-05-13T01:04:03.498516",
     "exception": false,
     "start_time": "2025-05-13T01:04:03.469706",
     "status": "completed"
    },
    "tags": []
   },
   "outputs": [
    {
     "name": "stdout",
     "output_type": "stream",
     "text": [
      "<class 'pandas.core.frame.DataFrame'>\n",
      "RangeIndex: 25379 entries, 0 to 25378\n",
      "Data columns (total 9 columns):\n",
      " #   Column            Non-Null Count  Dtype \n",
      "---  ------            --------------  ----- \n",
      " 0   RecordID          25379 non-null  int64 \n",
      " 1   Offense           25379 non-null  object\n",
      " 2   IncidentID        25379 non-null  object\n",
      " 3   BlockNumber       25379 non-null  object\n",
      " 4   StreetName        25379 non-null  object\n",
      " 5   Agency            25379 non-null  object\n",
      " 6   DateReported      25379 non-null  int64 \n",
      " 7   HourReported      25379 non-null  object\n",
      " 8   ReportingOfficer  25362 non-null  object\n",
      "dtypes: int64(2), object(7)\n",
      "memory usage: 1.7+ MB\n"
     ]
    }
   ],
   "source": [
    "df.info()"
   ]
  },
  {
   "cell_type": "markdown",
   "id": "f23e8c19",
   "metadata": {
    "papermill": {
     "duration": 0.005488,
     "end_time": "2025-05-13T01:04:03.509579",
     "exception": false,
     "start_time": "2025-05-13T01:04:03.504091",
     "status": "completed"
    },
    "tags": []
   },
   "source": [
    "### Missing Values"
   ]
  },
  {
   "cell_type": "code",
   "execution_count": 6,
   "id": "1920c729",
   "metadata": {
    "execution": {
     "iopub.execute_input": "2025-05-13T01:04:03.521759Z",
     "iopub.status.busy": "2025-05-13T01:04:03.521293Z",
     "iopub.status.idle": "2025-05-13T01:04:03.537457Z",
     "shell.execute_reply": "2025-05-13T01:04:03.536938Z"
    },
    "papermill": {
     "duration": 0.023292,
     "end_time": "2025-05-13T01:04:03.538406",
     "exception": false,
     "start_time": "2025-05-13T01:04:03.515114",
     "status": "completed"
    },
    "tags": []
   },
   "outputs": [
    {
     "name": "stdout",
     "output_type": "stream",
     "text": [
      "                  MissingCount  MissingPercentage\n",
      "RecordID                     0               0.00\n",
      "Offense                      0               0.00\n",
      "IncidentID                   0               0.00\n",
      "BlockNumber                  0               0.00\n",
      "StreetName                   0               0.00\n",
      "Agency                       0               0.00\n",
      "DateReported                 0               0.00\n",
      "HourReported                 0               0.00\n",
      "ReportingOfficer            17               0.07\n"
     ]
    }
   ],
   "source": [
    "def missing_percentage(df):\n",
    "    \"\"\"\n",
    "    Returns a DataFrame with the count and percentage of missing values for each column.\n",
    "    \n",
    "    Parameters:\n",
    "        df (pd.DataFrame): The input DataFrame.\n",
    "    \n",
    "    Returns:\n",
    "        pd.DataFrame: A DataFrame with columns 'MissingCount' and 'MissingPercentage'.\n",
    "    \"\"\"\n",
    "    total_rows = len(df)\n",
    "    missing_count = df.isnull().sum()\n",
    "    missing_percent = (missing_count / total_rows) * 100\n",
    "    \n",
    "    result = pd.DataFrame({\n",
    "        'MissingCount': missing_count,\n",
    "        'MissingPercentage': missing_percent.round(2)\n",
    "    })\n",
    "    \n",
    "    return result\n",
    "\n",
    "# Example usage:\n",
    "missing_info = missing_percentage(df)\n",
    "print(missing_info)\n"
   ]
  },
  {
   "cell_type": "markdown",
   "id": "df14a9ea",
   "metadata": {
    "papermill": {
     "duration": 0.005713,
     "end_time": "2025-05-13T01:04:03.549843",
     "exception": false,
     "start_time": "2025-05-13T01:04:03.544130",
     "status": "completed"
    },
    "tags": []
   },
   "source": [
    "## Data Preparation"
   ]
  },
  {
   "cell_type": "markdown",
   "id": "1b90cdaa",
   "metadata": {
    "papermill": {
     "duration": 0.005601,
     "end_time": "2025-05-13T01:04:03.561007",
     "exception": false,
     "start_time": "2025-05-13T01:04:03.555406",
     "status": "completed"
    },
    "tags": []
   },
   "source": [
    "### Data Conversion"
   ]
  },
  {
   "cell_type": "code",
   "execution_count": 7,
   "id": "451cf691",
   "metadata": {
    "execution": {
     "iopub.execute_input": "2025-05-13T01:04:03.572922Z",
     "iopub.status.busy": "2025-05-13T01:04:03.572717Z",
     "iopub.status.idle": "2025-05-13T01:04:03.943747Z",
     "shell.execute_reply": "2025-05-13T01:04:03.943044Z"
    },
    "papermill": {
     "duration": 0.378252,
     "end_time": "2025-05-13T01:04:03.944797",
     "exception": false,
     "start_time": "2025-05-13T01:04:03.566545",
     "status": "completed"
    },
    "tags": []
   },
   "outputs": [
    {
     "data": {
      "text/html": [
       "<div>\n",
       "<style scoped>\n",
       "    .dataframe tbody tr th:only-of-type {\n",
       "        vertical-align: middle;\n",
       "    }\n",
       "\n",
       "    .dataframe tbody tr th {\n",
       "        vertical-align: top;\n",
       "    }\n",
       "\n",
       "    .dataframe thead th {\n",
       "        text-align: right;\n",
       "    }\n",
       "</style>\n",
       "<table border=\"1\" class=\"dataframe\">\n",
       "  <thead>\n",
       "    <tr style=\"text-align: right;\">\n",
       "      <th></th>\n",
       "      <th>RecordID</th>\n",
       "      <th>Offense</th>\n",
       "      <th>IncidentID</th>\n",
       "      <th>BlockNumber</th>\n",
       "      <th>StreetName</th>\n",
       "      <th>Agency</th>\n",
       "      <th>HourReported</th>\n",
       "      <th>ReportingOfficer</th>\n",
       "      <th>Date</th>\n",
       "      <th>DateString</th>\n",
       "      <th>DayOfWeek</th>\n",
       "      <th>Weekend</th>\n",
       "      <th>Season</th>\n",
       "      <th>HourAMPM</th>\n",
       "      <th>TimeOfDay</th>\n",
       "    </tr>\n",
       "  </thead>\n",
       "  <tbody>\n",
       "    <tr>\n",
       "      <th>0</th>\n",
       "      <td>1</td>\n",
       "      <td>Larceny - All Other</td>\n",
       "      <td>202500015844</td>\n",
       "      <td>400</td>\n",
       "      <td>GARRETT ST, G</td>\n",
       "      <td>CPD</td>\n",
       "      <td>2123</td>\n",
       "      <td>Davis, Charles</td>\n",
       "      <td>2025-05-10 21:23:24</td>\n",
       "      <td>2025-05-10 09:23:24 PM</td>\n",
       "      <td>Saturday</td>\n",
       "      <td>True</td>\n",
       "      <td>Spring</td>\n",
       "      <td>09:23 PM</td>\n",
       "      <td>Night</td>\n",
       "    </tr>\n",
       "    <tr>\n",
       "      <th>1</th>\n",
       "      <td>2</td>\n",
       "      <td>Drug/Narcotics Violation</td>\n",
       "      <td>202500015843</td>\n",
       "      <td>400</td>\n",
       "      <td>GARRETT ST, G</td>\n",
       "      <td>CPD</td>\n",
       "      <td>2121</td>\n",
       "      <td>Ritter, Kobe</td>\n",
       "      <td>2025-05-10 21:21:18</td>\n",
       "      <td>2025-05-10 09:21:18 PM</td>\n",
       "      <td>Saturday</td>\n",
       "      <td>True</td>\n",
       "      <td>Spring</td>\n",
       "      <td>09:21 PM</td>\n",
       "      <td>Night</td>\n",
       "    </tr>\n",
       "    <tr>\n",
       "      <th>2</th>\n",
       "      <td>3</td>\n",
       "      <td>Larceny - From Motor Vehicle</td>\n",
       "      <td>202500015842</td>\n",
       "      <td>300</td>\n",
       "      <td>3RD ST NE</td>\n",
       "      <td>CPD</td>\n",
       "      <td>2120</td>\n",
       "      <td>Essex, Dominique</td>\n",
       "      <td>2025-05-10 21:20:31</td>\n",
       "      <td>2025-05-10 09:20:31 PM</td>\n",
       "      <td>Saturday</td>\n",
       "      <td>True</td>\n",
       "      <td>Spring</td>\n",
       "      <td>09:20 PM</td>\n",
       "      <td>Night</td>\n",
       "    </tr>\n",
       "    <tr>\n",
       "      <th>3</th>\n",
       "      <td>4</td>\n",
       "      <td>Assault Simple</td>\n",
       "      <td>202500015776</td>\n",
       "      <td></td>\n",
       "      <td>W MAIN ST / W WATER ST</td>\n",
       "      <td>CPD</td>\n",
       "      <td>1223</td>\n",
       "      <td>O'Briant, Landon</td>\n",
       "      <td>2025-05-10 12:23:36</td>\n",
       "      <td>2025-05-10 12:23:36 PM</td>\n",
       "      <td>Saturday</td>\n",
       "      <td>True</td>\n",
       "      <td>Spring</td>\n",
       "      <td>12:23 PM</td>\n",
       "      <td>Afternoon</td>\n",
       "    </tr>\n",
       "    <tr>\n",
       "      <th>4</th>\n",
       "      <td>5</td>\n",
       "      <td>Fraud-false pretense</td>\n",
       "      <td>202500015772</td>\n",
       "      <td>400</td>\n",
       "      <td>QUARRY RD</td>\n",
       "      <td>CPD</td>\n",
       "      <td>1157</td>\n",
       "      <td>Prevost, Payten</td>\n",
       "      <td>2025-05-10 11:57:32</td>\n",
       "      <td>2025-05-10 11:57:32 AM</td>\n",
       "      <td>Saturday</td>\n",
       "      <td>True</td>\n",
       "      <td>Spring</td>\n",
       "      <td>11:57 AM</td>\n",
       "      <td>Morning</td>\n",
       "    </tr>\n",
       "  </tbody>\n",
       "</table>\n",
       "</div>"
      ],
      "text/plain": [
       "   RecordID                       Offense    IncidentID BlockNumber  \\\n",
       "0         1           Larceny - All Other  202500015844         400   \n",
       "1         2      Drug/Narcotics Violation  202500015843         400   \n",
       "2         3  Larceny - From Motor Vehicle  202500015842         300   \n",
       "3         4                Assault Simple  202500015776               \n",
       "4         5          Fraud-false pretense  202500015772         400   \n",
       "\n",
       "               StreetName Agency HourReported  ReportingOfficer  \\\n",
       "0           GARRETT ST, G    CPD         2123    Davis, Charles   \n",
       "1           GARRETT ST, G    CPD         2121      Ritter, Kobe   \n",
       "2               3RD ST NE    CPD         2120  Essex, Dominique   \n",
       "3  W MAIN ST / W WATER ST    CPD         1223  O'Briant, Landon   \n",
       "4               QUARRY RD    CPD         1157   Prevost, Payten   \n",
       "\n",
       "                 Date              DateString DayOfWeek  Weekend  Season  \\\n",
       "0 2025-05-10 21:23:24  2025-05-10 09:23:24 PM  Saturday     True  Spring   \n",
       "1 2025-05-10 21:21:18  2025-05-10 09:21:18 PM  Saturday     True  Spring   \n",
       "2 2025-05-10 21:20:31  2025-05-10 09:20:31 PM  Saturday     True  Spring   \n",
       "3 2025-05-10 12:23:36  2025-05-10 12:23:36 PM  Saturday     True  Spring   \n",
       "4 2025-05-10 11:57:32  2025-05-10 11:57:32 AM  Saturday     True  Spring   \n",
       "\n",
       "   HourAMPM  TimeOfDay  \n",
       "0  09:23 PM      Night  \n",
       "1  09:21 PM      Night  \n",
       "2  09:20 PM      Night  \n",
       "3  12:23 PM  Afternoon  \n",
       "4  11:57 AM    Morning  "
      ]
     },
     "execution_count": 7,
     "metadata": {},
     "output_type": "execute_result"
    }
   ],
   "source": [
    "def convert_and_categorize_datereported(df, col='DateReported'):\n",
    "    \"\"\"\n",
    "    Converts an epoch (in milliseconds) date column into a timezone-aware datetime,\n",
    "    converts it to Eastern Time, and then creates columns for day-of-week, weekend flag,\n",
    "    season, 12-hour formatted time, and time-of-day. Keeps both a real datetime column\n",
    "    (Date) and a string representation (DateString).\n",
    "    \"\"\"\n",
    "    import pandas as pd\n",
    "\n",
    "    # Convert the epoch timestamp to a pandas datetime object as UTC, then convert to US/Eastern.\n",
    "    df[\"DateReported_dt\"] = (\n",
    "        pd.to_datetime(df[col], unit=\"ms\", errors=\"coerce\", utc=True)\n",
    "        .dt.tz_convert(\"US/Eastern\")\n",
    "    )\n",
    "    \n",
    "    # Create a true datetime column (remove timezone if you prefer naive datetime)\n",
    "    df[\"Date\"] = df[\"DateReported_dt\"].dt.tz_localize(None)\n",
    "\n",
    "    # Optionally, create a separate string-formatted column\n",
    "    df[\"DateString\"] = df[\"DateReported_dt\"].dt.strftime(\"%Y-%m-%d %I:%M:%S %p\")\n",
    "    \n",
    "    # DayOfWeek\n",
    "    df[\"DayOfWeek\"] = df[\"DateReported_dt\"].dt.day_name()\n",
    "    \n",
    "    # Weekend\n",
    "    df[\"Weekend\"] = df[\"DayOfWeek\"].isin([\"Saturday\", \"Sunday\"])\n",
    "    \n",
    "    # Helper function to determine the season\n",
    "    def get_season(dt):\n",
    "        month = dt.month\n",
    "        day = dt.day\n",
    "        # Approximate Northern Hemisphere season boundaries:\n",
    "        if (month == 12 and day >= 21) or (month < 3) or (month == 3 and day < 20):\n",
    "            return \"Winter\"\n",
    "        elif (month == 3 and day >= 20) or (month < 6) or (month == 6 and day < 21):\n",
    "            return \"Spring\"\n",
    "        elif (month == 6 and day >= 21) or (month < 9) or (month == 9 and day < 22):\n",
    "            return \"Summer\"\n",
    "        else:\n",
    "            return \"Autumn\"\n",
    "    \n",
    "    df[\"Season\"] = df[\"DateReported_dt\"].apply(get_season)\n",
    "    \n",
    "    # 12-hour formatted time (HourAMPM)\n",
    "    df[\"HourAMPM\"] = df[\"DateReported_dt\"].dt.strftime(\"%I:%M %p\")\n",
    "    \n",
    "    # Extract hour (0-23) for time-of-day\n",
    "    df[\"HourValue\"] = df[\"DateReported_dt\"].dt.hour\n",
    "    \n",
    "    def time_of_day(hour):\n",
    "        if pd.isnull(hour):\n",
    "            return None\n",
    "        if 5 <= hour < 12:\n",
    "            return \"Morning\"\n",
    "        elif 12 <= hour < 17:\n",
    "            return \"Afternoon\"\n",
    "        elif 17 <= hour < 21:\n",
    "            return \"Evening\"\n",
    "        else:\n",
    "            return \"Night\"\n",
    "    \n",
    "    df[\"TimeOfDay\"] = df[\"HourValue\"].apply(time_of_day)\n",
    "    \n",
    "    # Drop columns you no longer need\n",
    "    df.drop(columns=[col, \"DateReported_dt\", \"HourValue\"], inplace=True)\n",
    "    \n",
    "    return df\n",
    "\n",
    "# Example usage:\n",
    "df = convert_and_categorize_datereported(df)\n",
    "df.head()\n"
   ]
  },
  {
   "cell_type": "code",
   "execution_count": 8,
   "id": "9a3b3f38",
   "metadata": {
    "execution": {
     "iopub.execute_input": "2025-05-13T01:04:03.957923Z",
     "iopub.status.busy": "2025-05-13T01:04:03.957530Z",
     "iopub.status.idle": "2025-05-13T01:04:03.981355Z",
     "shell.execute_reply": "2025-05-13T01:04:03.980835Z"
    },
    "papermill": {
     "duration": 0.031426,
     "end_time": "2025-05-13T01:04:03.982379",
     "exception": false,
     "start_time": "2025-05-13T01:04:03.950953",
     "status": "completed"
    },
    "tags": []
   },
   "outputs": [
    {
     "name": "stdout",
     "output_type": "stream",
     "text": [
      "<class 'pandas.core.frame.DataFrame'>\n",
      "RangeIndex: 25379 entries, 0 to 25378\n",
      "Data columns (total 15 columns):\n",
      " #   Column            Non-Null Count  Dtype         \n",
      "---  ------            --------------  -----         \n",
      " 0   RecordID          25379 non-null  int64         \n",
      " 1   Offense           25379 non-null  object        \n",
      " 2   IncidentID        25379 non-null  object        \n",
      " 3   BlockNumber       25379 non-null  object        \n",
      " 4   StreetName        25379 non-null  object        \n",
      " 5   Agency            25379 non-null  object        \n",
      " 6   HourReported      25379 non-null  object        \n",
      " 7   ReportingOfficer  25362 non-null  object        \n",
      " 8   Date              25379 non-null  datetime64[ns]\n",
      " 9   DateString        25379 non-null  object        \n",
      " 10  DayOfWeek         25379 non-null  object        \n",
      " 11  Weekend           25379 non-null  bool          \n",
      " 12  Season            25379 non-null  object        \n",
      " 13  HourAMPM          25379 non-null  object        \n",
      " 14  TimeOfDay         25379 non-null  object        \n",
      "dtypes: bool(1), datetime64[ns](1), int64(1), object(12)\n",
      "memory usage: 2.7+ MB\n"
     ]
    }
   ],
   "source": [
    "df.info()"
   ]
  },
  {
   "cell_type": "markdown",
   "id": "ab875440",
   "metadata": {
    "papermill": {
     "duration": 0.005837,
     "end_time": "2025-05-13T01:04:03.994182",
     "exception": false,
     "start_time": "2025-05-13T01:04:03.988345",
     "status": "completed"
    },
    "tags": []
   },
   "source": [
    "### Coordinates"
   ]
  },
  {
   "cell_type": "code",
   "execution_count": 9,
   "id": "c66b399a",
   "metadata": {
    "execution": {
     "iopub.execute_input": "2025-05-13T01:04:04.006899Z",
     "iopub.status.busy": "2025-05-13T01:04:04.006511Z",
     "iopub.status.idle": "2025-05-13T01:04:04.261271Z",
     "shell.execute_reply": "2025-05-13T01:04:04.260574Z"
    },
    "papermill": {
     "duration": 0.262354,
     "end_time": "2025-05-13T01:04:04.262350",
     "exception": false,
     "start_time": "2025-05-13T01:04:03.999996",
     "status": "completed"
    },
    "tags": []
   },
   "outputs": [
    {
     "name": "stdout",
     "output_type": "stream",
     "text": [
      "Loaded geocode cache.\n"
     ]
    },
    {
     "name": "stdout",
     "output_type": "stream",
     "text": [
      "Geocoded 300 3RD ST NE: 38.031821, -78.4792946\n",
      "Geocode cache updated and saved.\n"
     ]
    },
    {
     "data": {
      "text/html": [
       "<div>\n",
       "<style scoped>\n",
       "    .dataframe tbody tr th:only-of-type {\n",
       "        vertical-align: middle;\n",
       "    }\n",
       "\n",
       "    .dataframe tbody tr th {\n",
       "        vertical-align: top;\n",
       "    }\n",
       "\n",
       "    .dataframe thead th {\n",
       "        text-align: right;\n",
       "    }\n",
       "</style>\n",
       "<table border=\"1\" class=\"dataframe\">\n",
       "  <thead>\n",
       "    <tr style=\"text-align: right;\">\n",
       "      <th></th>\n",
       "      <th>RecordID</th>\n",
       "      <th>Offense</th>\n",
       "      <th>IncidentID</th>\n",
       "      <th>BlockNumber</th>\n",
       "      <th>StreetName</th>\n",
       "      <th>Agency</th>\n",
       "      <th>HourReported</th>\n",
       "      <th>ReportingOfficer</th>\n",
       "      <th>Date</th>\n",
       "      <th>DateString</th>\n",
       "      <th>DayOfWeek</th>\n",
       "      <th>Weekend</th>\n",
       "      <th>Season</th>\n",
       "      <th>HourAMPM</th>\n",
       "      <th>TimeOfDay</th>\n",
       "      <th>FullStreet</th>\n",
       "      <th>lat</th>\n",
       "      <th>lon</th>\n",
       "    </tr>\n",
       "  </thead>\n",
       "  <tbody>\n",
       "    <tr>\n",
       "      <th>0</th>\n",
       "      <td>1</td>\n",
       "      <td>Larceny - All Other</td>\n",
       "      <td>202500015844</td>\n",
       "      <td>400</td>\n",
       "      <td>GARRETT ST, G</td>\n",
       "      <td>CPD</td>\n",
       "      <td>2123</td>\n",
       "      <td>Davis, Charles</td>\n",
       "      <td>2025-05-10 21:23:24</td>\n",
       "      <td>2025-05-10 09:23:24 PM</td>\n",
       "      <td>Saturday</td>\n",
       "      <td>True</td>\n",
       "      <td>Spring</td>\n",
       "      <td>09:23 PM</td>\n",
       "      <td>Night</td>\n",
       "      <td>400 GARRETT ST, G</td>\n",
       "      <td>38.027935</td>\n",
       "      <td>-78.481659</td>\n",
       "    </tr>\n",
       "    <tr>\n",
       "      <th>1</th>\n",
       "      <td>2</td>\n",
       "      <td>Drug/Narcotics Violation</td>\n",
       "      <td>202500015843</td>\n",
       "      <td>400</td>\n",
       "      <td>GARRETT ST, G</td>\n",
       "      <td>CPD</td>\n",
       "      <td>2121</td>\n",
       "      <td>Ritter, Kobe</td>\n",
       "      <td>2025-05-10 21:21:18</td>\n",
       "      <td>2025-05-10 09:21:18 PM</td>\n",
       "      <td>Saturday</td>\n",
       "      <td>True</td>\n",
       "      <td>Spring</td>\n",
       "      <td>09:21 PM</td>\n",
       "      <td>Night</td>\n",
       "      <td>400 GARRETT ST, G</td>\n",
       "      <td>38.027935</td>\n",
       "      <td>-78.481659</td>\n",
       "    </tr>\n",
       "    <tr>\n",
       "      <th>2</th>\n",
       "      <td>3</td>\n",
       "      <td>Larceny - From Motor Vehicle</td>\n",
       "      <td>202500015842</td>\n",
       "      <td>300</td>\n",
       "      <td>3RD ST NE</td>\n",
       "      <td>CPD</td>\n",
       "      <td>2120</td>\n",
       "      <td>Essex, Dominique</td>\n",
       "      <td>2025-05-10 21:20:31</td>\n",
       "      <td>2025-05-10 09:20:31 PM</td>\n",
       "      <td>Saturday</td>\n",
       "      <td>True</td>\n",
       "      <td>Spring</td>\n",
       "      <td>09:20 PM</td>\n",
       "      <td>Night</td>\n",
       "      <td>300 3RD ST NE</td>\n",
       "      <td>38.031821</td>\n",
       "      <td>-78.479295</td>\n",
       "    </tr>\n",
       "    <tr>\n",
       "      <th>3</th>\n",
       "      <td>4</td>\n",
       "      <td>Assault Simple</td>\n",
       "      <td>202500015776</td>\n",
       "      <td></td>\n",
       "      <td>W MAIN ST / W WATER ST</td>\n",
       "      <td>CPD</td>\n",
       "      <td>1223</td>\n",
       "      <td>O'Briant, Landon</td>\n",
       "      <td>2025-05-10 12:23:36</td>\n",
       "      <td>2025-05-10 12:23:36 PM</td>\n",
       "      <td>Saturday</td>\n",
       "      <td>True</td>\n",
       "      <td>Spring</td>\n",
       "      <td>12:23 PM</td>\n",
       "      <td>Afternoon</td>\n",
       "      <td>W MAIN ST / W WATER ST</td>\n",
       "      <td>38.030541</td>\n",
       "      <td>-78.485195</td>\n",
       "    </tr>\n",
       "    <tr>\n",
       "      <th>4</th>\n",
       "      <td>5</td>\n",
       "      <td>Fraud-false pretense</td>\n",
       "      <td>202500015772</td>\n",
       "      <td>400</td>\n",
       "      <td>QUARRY RD</td>\n",
       "      <td>CPD</td>\n",
       "      <td>1157</td>\n",
       "      <td>Prevost, Payten</td>\n",
       "      <td>2025-05-10 11:57:32</td>\n",
       "      <td>2025-05-10 11:57:32 AM</td>\n",
       "      <td>Saturday</td>\n",
       "      <td>True</td>\n",
       "      <td>Spring</td>\n",
       "      <td>11:57 AM</td>\n",
       "      <td>Morning</td>\n",
       "      <td>400 QUARRY RD</td>\n",
       "      <td>38.014383</td>\n",
       "      <td>-78.473605</td>\n",
       "    </tr>\n",
       "  </tbody>\n",
       "</table>\n",
       "</div>"
      ],
      "text/plain": [
       "   RecordID                       Offense    IncidentID BlockNumber  \\\n",
       "0         1           Larceny - All Other  202500015844         400   \n",
       "1         2      Drug/Narcotics Violation  202500015843         400   \n",
       "2         3  Larceny - From Motor Vehicle  202500015842         300   \n",
       "3         4                Assault Simple  202500015776               \n",
       "4         5          Fraud-false pretense  202500015772         400   \n",
       "\n",
       "               StreetName Agency HourReported  ReportingOfficer  \\\n",
       "0           GARRETT ST, G    CPD         2123    Davis, Charles   \n",
       "1           GARRETT ST, G    CPD         2121      Ritter, Kobe   \n",
       "2               3RD ST NE    CPD         2120  Essex, Dominique   \n",
       "3  W MAIN ST / W WATER ST    CPD         1223  O'Briant, Landon   \n",
       "4               QUARRY RD    CPD         1157   Prevost, Payten   \n",
       "\n",
       "                 Date              DateString DayOfWeek  Weekend  Season  \\\n",
       "0 2025-05-10 21:23:24  2025-05-10 09:23:24 PM  Saturday     True  Spring   \n",
       "1 2025-05-10 21:21:18  2025-05-10 09:21:18 PM  Saturday     True  Spring   \n",
       "2 2025-05-10 21:20:31  2025-05-10 09:20:31 PM  Saturday     True  Spring   \n",
       "3 2025-05-10 12:23:36  2025-05-10 12:23:36 PM  Saturday     True  Spring   \n",
       "4 2025-05-10 11:57:32  2025-05-10 11:57:32 AM  Saturday     True  Spring   \n",
       "\n",
       "   HourAMPM  TimeOfDay               FullStreet        lat        lon  \n",
       "0  09:23 PM      Night        400 GARRETT ST, G  38.027935 -78.481659  \n",
       "1  09:21 PM      Night        400 GARRETT ST, G  38.027935 -78.481659  \n",
       "2  09:20 PM      Night            300 3RD ST NE  38.031821 -78.479295  \n",
       "3  12:23 PM  Afternoon   W MAIN ST / W WATER ST  38.030541 -78.485195  \n",
       "4  11:57 AM    Morning            400 QUARRY RD  38.014383 -78.473605  "
      ]
     },
     "execution_count": 9,
     "metadata": {},
     "output_type": "execute_result"
    }
   ],
   "source": [
    "# Combine BlockNumber and StreetName into a full address string\n",
    "df['FullStreet'] = df['BlockNumber'].astype(str) + \" \" + df['StreetName']\n",
    "\n",
    "# --- Step 1: Setup the Google Maps Client and Cache ---\n",
    "gmaps = googlemaps.Client(key=GOOGLE_API_KEY)\n",
    "\n",
    "# Try to load cached geocoding results if available.\n",
    "try:\n",
    "    with open(\"geocode_cache_google.pkl\", \"rb\") as f:\n",
    "        street_coords = pickle.load(f)\n",
    "    print(\"Loaded geocode cache.\")\n",
    "except FileNotFoundError:\n",
    "    street_coords = {}\n",
    "    print(\"No cache found; starting fresh.\")\n",
    "\n",
    "def geocode_address(address):\n",
    "    try:\n",
    "        # Append city and state to help geocoding\n",
    "        result = gmaps.geocode(f\"{address}, Charlottesville, VA\")\n",
    "        if result:\n",
    "            lat = result[0]['geometry']['location']['lat']\n",
    "            lon = result[0]['geometry']['location']['lng']\n",
    "            return lat, lon\n",
    "    except Exception as e:\n",
    "        print(f\"Error geocoding {address}: {e}\")\n",
    "    return None, None\n",
    "\n",
    "# --- Step 2: Geocode Only New Addresses ---\n",
    "unique_addresses = df['FullStreet'].unique()\n",
    "for address in unique_addresses:\n",
    "    if address not in street_coords:\n",
    "        lat, lon = geocode_address(address)\n",
    "        street_coords[address] = (lat, lon)\n",
    "        print(f\"Geocoded {address}: {lat}, {lon}\")\n",
    "\n",
    "# Save the updated cache to disk.\n",
    "with open(\"geocode_cache_google.pkl\", \"wb\") as f:\n",
    "    pickle.dump(street_coords, f)\n",
    "    print(\"Geocode cache updated and saved.\")\n",
    "\n",
    "# --- Step 3: Map Coordinates Back to DataFrame ---\n",
    "df['lat'] = df['FullStreet'].map(lambda s: street_coords.get(s, (None, None))[0])\n",
    "df['lon'] = df['FullStreet'].map(lambda s: street_coords.get(s, (None, None))[1])\n",
    "\n",
    "df.head()"
   ]
  },
  {
   "cell_type": "markdown",
   "id": "9a1824d1",
   "metadata": {
    "papermill": {
     "duration": 0.006192,
     "end_time": "2025-05-13T01:04:04.275122",
     "exception": false,
     "start_time": "2025-05-13T01:04:04.268930",
     "status": "completed"
    },
    "tags": []
   },
   "source": [
    "### Neighborhood"
   ]
  },
  {
   "cell_type": "code",
   "execution_count": 10,
   "id": "2f515195",
   "metadata": {
    "execution": {
     "iopub.execute_input": "2025-05-13T01:04:04.288325Z",
     "iopub.status.busy": "2025-05-13T01:04:04.288122Z",
     "iopub.status.idle": "2025-05-13T01:04:04.541318Z",
     "shell.execute_reply": "2025-05-13T01:04:04.540707Z"
    },
    "papermill": {
     "duration": 0.26105,
     "end_time": "2025-05-13T01:04:04.542321",
     "exception": false,
     "start_time": "2025-05-13T01:04:04.281271",
     "status": "completed"
    },
    "tags": []
   },
   "outputs": [
    {
     "name": "stdout",
     "output_type": "stream",
     "text": [
      "Loaded neighborhood cache.\n"
     ]
    },
    {
     "data": {
      "text/html": [
       "<div>\n",
       "<style scoped>\n",
       "    .dataframe tbody tr th:only-of-type {\n",
       "        vertical-align: middle;\n",
       "    }\n",
       "\n",
       "    .dataframe tbody tr th {\n",
       "        vertical-align: top;\n",
       "    }\n",
       "\n",
       "    .dataframe thead th {\n",
       "        text-align: right;\n",
       "    }\n",
       "</style>\n",
       "<table border=\"1\" class=\"dataframe\">\n",
       "  <thead>\n",
       "    <tr style=\"text-align: right;\">\n",
       "      <th></th>\n",
       "      <th>RecordID</th>\n",
       "      <th>Offense</th>\n",
       "      <th>IncidentID</th>\n",
       "      <th>BlockNumber</th>\n",
       "      <th>StreetName</th>\n",
       "      <th>Agency</th>\n",
       "      <th>HourReported</th>\n",
       "      <th>ReportingOfficer</th>\n",
       "      <th>Date</th>\n",
       "      <th>DateString</th>\n",
       "      <th>DayOfWeek</th>\n",
       "      <th>Weekend</th>\n",
       "      <th>Season</th>\n",
       "      <th>HourAMPM</th>\n",
       "      <th>TimeOfDay</th>\n",
       "      <th>FullStreet</th>\n",
       "      <th>lat</th>\n",
       "      <th>lon</th>\n",
       "      <th>neighborhood</th>\n",
       "    </tr>\n",
       "  </thead>\n",
       "  <tbody>\n",
       "    <tr>\n",
       "      <th>0</th>\n",
       "      <td>1</td>\n",
       "      <td>Larceny - All Other</td>\n",
       "      <td>202500015844</td>\n",
       "      <td>400</td>\n",
       "      <td>GARRETT ST, G</td>\n",
       "      <td>CPD</td>\n",
       "      <td>2123</td>\n",
       "      <td>Davis, Charles</td>\n",
       "      <td>2025-05-10 21:23:24</td>\n",
       "      <td>2025-05-10 09:23:24 PM</td>\n",
       "      <td>Saturday</td>\n",
       "      <td>True</td>\n",
       "      <td>Spring</td>\n",
       "      <td>09:23 PM</td>\n",
       "      <td>Night</td>\n",
       "      <td>400 GARRETT ST, G</td>\n",
       "      <td>38.027935</td>\n",
       "      <td>-78.481659</td>\n",
       "      <td>North Downtown</td>\n",
       "    </tr>\n",
       "    <tr>\n",
       "      <th>1</th>\n",
       "      <td>2</td>\n",
       "      <td>Drug/Narcotics Violation</td>\n",
       "      <td>202500015843</td>\n",
       "      <td>400</td>\n",
       "      <td>GARRETT ST, G</td>\n",
       "      <td>CPD</td>\n",
       "      <td>2121</td>\n",
       "      <td>Ritter, Kobe</td>\n",
       "      <td>2025-05-10 21:21:18</td>\n",
       "      <td>2025-05-10 09:21:18 PM</td>\n",
       "      <td>Saturday</td>\n",
       "      <td>True</td>\n",
       "      <td>Spring</td>\n",
       "      <td>09:21 PM</td>\n",
       "      <td>Night</td>\n",
       "      <td>400 GARRETT ST, G</td>\n",
       "      <td>38.027935</td>\n",
       "      <td>-78.481659</td>\n",
       "      <td>North Downtown</td>\n",
       "    </tr>\n",
       "    <tr>\n",
       "      <th>2</th>\n",
       "      <td>3</td>\n",
       "      <td>Larceny - From Motor Vehicle</td>\n",
       "      <td>202500015842</td>\n",
       "      <td>300</td>\n",
       "      <td>3RD ST NE</td>\n",
       "      <td>CPD</td>\n",
       "      <td>2120</td>\n",
       "      <td>Essex, Dominique</td>\n",
       "      <td>2025-05-10 21:20:31</td>\n",
       "      <td>2025-05-10 09:20:31 PM</td>\n",
       "      <td>Saturday</td>\n",
       "      <td>True</td>\n",
       "      <td>Spring</td>\n",
       "      <td>09:20 PM</td>\n",
       "      <td>Night</td>\n",
       "      <td>300 3RD ST NE</td>\n",
       "      <td>38.031821</td>\n",
       "      <td>-78.479295</td>\n",
       "      <td>North Downtown</td>\n",
       "    </tr>\n",
       "    <tr>\n",
       "      <th>3</th>\n",
       "      <td>4</td>\n",
       "      <td>Assault Simple</td>\n",
       "      <td>202500015776</td>\n",
       "      <td></td>\n",
       "      <td>W MAIN ST / W WATER ST</td>\n",
       "      <td>CPD</td>\n",
       "      <td>1223</td>\n",
       "      <td>O'Briant, Landon</td>\n",
       "      <td>2025-05-10 12:23:36</td>\n",
       "      <td>2025-05-10 12:23:36 PM</td>\n",
       "      <td>Saturday</td>\n",
       "      <td>True</td>\n",
       "      <td>Spring</td>\n",
       "      <td>12:23 PM</td>\n",
       "      <td>Afternoon</td>\n",
       "      <td>W MAIN ST / W WATER ST</td>\n",
       "      <td>38.030541</td>\n",
       "      <td>-78.485195</td>\n",
       "      <td>Starr Hill</td>\n",
       "    </tr>\n",
       "    <tr>\n",
       "      <th>4</th>\n",
       "      <td>5</td>\n",
       "      <td>Fraud-false pretense</td>\n",
       "      <td>202500015772</td>\n",
       "      <td>400</td>\n",
       "      <td>QUARRY RD</td>\n",
       "      <td>CPD</td>\n",
       "      <td>1157</td>\n",
       "      <td>Prevost, Payten</td>\n",
       "      <td>2025-05-10 11:57:32</td>\n",
       "      <td>2025-05-10 11:57:32 AM</td>\n",
       "      <td>Saturday</td>\n",
       "      <td>True</td>\n",
       "      <td>Spring</td>\n",
       "      <td>11:57 AM</td>\n",
       "      <td>Morning</td>\n",
       "      <td>400 QUARRY RD</td>\n",
       "      <td>38.014383</td>\n",
       "      <td>-78.473605</td>\n",
       "      <td>Belmont</td>\n",
       "    </tr>\n",
       "  </tbody>\n",
       "</table>\n",
       "</div>"
      ],
      "text/plain": [
       "   RecordID                       Offense    IncidentID BlockNumber  \\\n",
       "0         1           Larceny - All Other  202500015844         400   \n",
       "1         2      Drug/Narcotics Violation  202500015843         400   \n",
       "2         3  Larceny - From Motor Vehicle  202500015842         300   \n",
       "3         4                Assault Simple  202500015776               \n",
       "4         5          Fraud-false pretense  202500015772         400   \n",
       "\n",
       "               StreetName Agency HourReported  ReportingOfficer  \\\n",
       "0           GARRETT ST, G    CPD         2123    Davis, Charles   \n",
       "1           GARRETT ST, G    CPD         2121      Ritter, Kobe   \n",
       "2               3RD ST NE    CPD         2120  Essex, Dominique   \n",
       "3  W MAIN ST / W WATER ST    CPD         1223  O'Briant, Landon   \n",
       "4               QUARRY RD    CPD         1157   Prevost, Payten   \n",
       "\n",
       "                 Date              DateString DayOfWeek  Weekend  Season  \\\n",
       "0 2025-05-10 21:23:24  2025-05-10 09:23:24 PM  Saturday     True  Spring   \n",
       "1 2025-05-10 21:21:18  2025-05-10 09:21:18 PM  Saturday     True  Spring   \n",
       "2 2025-05-10 21:20:31  2025-05-10 09:20:31 PM  Saturday     True  Spring   \n",
       "3 2025-05-10 12:23:36  2025-05-10 12:23:36 PM  Saturday     True  Spring   \n",
       "4 2025-05-10 11:57:32  2025-05-10 11:57:32 AM  Saturday     True  Spring   \n",
       "\n",
       "   HourAMPM  TimeOfDay               FullStreet        lat        lon  \\\n",
       "0  09:23 PM      Night        400 GARRETT ST, G  38.027935 -78.481659   \n",
       "1  09:21 PM      Night        400 GARRETT ST, G  38.027935 -78.481659   \n",
       "2  09:20 PM      Night            300 3RD ST NE  38.031821 -78.479295   \n",
       "3  12:23 PM  Afternoon   W MAIN ST / W WATER ST  38.030541 -78.485195   \n",
       "4  11:57 AM    Morning            400 QUARRY RD  38.014383 -78.473605   \n",
       "\n",
       "     neighborhood  \n",
       "0  North Downtown  \n",
       "1  North Downtown  \n",
       "2  North Downtown  \n",
       "3      Starr Hill  \n",
       "4         Belmont  "
      ]
     },
     "execution_count": 10,
     "metadata": {},
     "output_type": "execute_result"
    }
   ],
   "source": [
    "# Initialize the Google Maps client.\n",
    "gmaps = googlemaps.Client(key=GOOGLE_API_KEY)\n",
    "\n",
    "# Try to load a persistent neighborhood cache if available.\n",
    "try:\n",
    "    with open(\"neighborhood_cache.pkl\", \"rb\") as f:\n",
    "        neighborhood_cache = pickle.load(f)\n",
    "    print(\"Loaded neighborhood cache.\")\n",
    "except FileNotFoundError:\n",
    "    neighborhood_cache = {}\n",
    "    print(\"No neighborhood cache found; starting fresh.\")\n",
    "\n",
    "def get_neighborhood(lat, lon):\n",
    "    \"\"\"\n",
    "    Reverse geocodes a latitude and longitude to retrieve the neighborhood.\n",
    "    Caches results to speed up subsequent lookups.\n",
    "    \"\"\"\n",
    "    key = (lat, lon)\n",
    "    if key in neighborhood_cache:\n",
    "        return neighborhood_cache[key]\n",
    "    \n",
    "    try:\n",
    "        result = gmaps.reverse_geocode((lat, lon))\n",
    "        if result:\n",
    "            # Look for the 'neighborhood' component in the first result.\n",
    "            for component in result[0]['address_components']:\n",
    "                if 'neighborhood' in component['types']:\n",
    "                    neighborhood = component['long_name']\n",
    "                    neighborhood_cache[key] = neighborhood\n",
    "                    return neighborhood\n",
    "            # If no neighborhood is found, return \"N/A\"\n",
    "            neighborhood_cache[key] = \"N/A\"\n",
    "            return \"N/A\"\n",
    "    except Exception as e:\n",
    "        print(f\"Error getting neighborhood for {lat}, {lon}: {e}\")\n",
    "        return \"N/A\"\n",
    "    \n",
    "    # Pause to respect usage limits.\n",
    "    time.sleep(1)\n",
    "\n",
    "# Example usage: Apply to your DataFrame 'df' that already has 'lat' and 'lon' columns.\n",
    "df['neighborhood'] = df.apply(lambda row: get_neighborhood(row['lat'], row['lon']), axis=1)\n",
    "\n",
    "# Save the updated neighborhood cache.\n",
    "with open(\"neighborhood_cache.pkl\", \"wb\") as f:\n",
    "    pickle.dump(neighborhood_cache, f)\n",
    "\n",
    "df.head()\n"
   ]
  },
  {
   "cell_type": "markdown",
   "id": "23ba6169",
   "metadata": {
    "papermill": {
     "duration": 0.006513,
     "end_time": "2025-05-13T01:04:04.555691",
     "exception": false,
     "start_time": "2025-05-13T01:04:04.549178",
     "status": "completed"
    },
    "tags": []
   },
   "source": [
    "### Zip"
   ]
  },
  {
   "cell_type": "code",
   "execution_count": 11,
   "id": "7b88e52c",
   "metadata": {
    "execution": {
     "iopub.execute_input": "2025-05-13T01:04:04.570005Z",
     "iopub.status.busy": "2025-05-13T01:04:04.569489Z",
     "iopub.status.idle": "2025-05-13T01:04:04.809170Z",
     "shell.execute_reply": "2025-05-13T01:04:04.808589Z"
    },
    "papermill": {
     "duration": 0.247997,
     "end_time": "2025-05-13T01:04:04.810293",
     "exception": false,
     "start_time": "2025-05-13T01:04:04.562296",
     "status": "completed"
    },
    "tags": []
   },
   "outputs": [
    {
     "name": "stdout",
     "output_type": "stream",
     "text": [
      "Loaded zip cache.\n"
     ]
    },
    {
     "data": {
      "text/html": [
       "<div>\n",
       "<style scoped>\n",
       "    .dataframe tbody tr th:only-of-type {\n",
       "        vertical-align: middle;\n",
       "    }\n",
       "\n",
       "    .dataframe tbody tr th {\n",
       "        vertical-align: top;\n",
       "    }\n",
       "\n",
       "    .dataframe thead th {\n",
       "        text-align: right;\n",
       "    }\n",
       "</style>\n",
       "<table border=\"1\" class=\"dataframe\">\n",
       "  <thead>\n",
       "    <tr style=\"text-align: right;\">\n",
       "      <th></th>\n",
       "      <th>RecordID</th>\n",
       "      <th>Offense</th>\n",
       "      <th>IncidentID</th>\n",
       "      <th>BlockNumber</th>\n",
       "      <th>StreetName</th>\n",
       "      <th>Agency</th>\n",
       "      <th>HourReported</th>\n",
       "      <th>ReportingOfficer</th>\n",
       "      <th>Date</th>\n",
       "      <th>DateString</th>\n",
       "      <th>DayOfWeek</th>\n",
       "      <th>Weekend</th>\n",
       "      <th>Season</th>\n",
       "      <th>HourAMPM</th>\n",
       "      <th>TimeOfDay</th>\n",
       "      <th>FullStreet</th>\n",
       "      <th>lat</th>\n",
       "      <th>lon</th>\n",
       "      <th>neighborhood</th>\n",
       "      <th>zip</th>\n",
       "    </tr>\n",
       "  </thead>\n",
       "  <tbody>\n",
       "    <tr>\n",
       "      <th>0</th>\n",
       "      <td>1</td>\n",
       "      <td>Larceny - All Other</td>\n",
       "      <td>202500015844</td>\n",
       "      <td>400</td>\n",
       "      <td>GARRETT ST, G</td>\n",
       "      <td>CPD</td>\n",
       "      <td>2123</td>\n",
       "      <td>Davis, Charles</td>\n",
       "      <td>2025-05-10 21:23:24</td>\n",
       "      <td>2025-05-10 09:23:24 PM</td>\n",
       "      <td>Saturday</td>\n",
       "      <td>True</td>\n",
       "      <td>Spring</td>\n",
       "      <td>09:23 PM</td>\n",
       "      <td>Night</td>\n",
       "      <td>400 GARRETT ST, G</td>\n",
       "      <td>38.027935</td>\n",
       "      <td>-78.481659</td>\n",
       "      <td>North Downtown</td>\n",
       "      <td>22903</td>\n",
       "    </tr>\n",
       "    <tr>\n",
       "      <th>1</th>\n",
       "      <td>2</td>\n",
       "      <td>Drug/Narcotics Violation</td>\n",
       "      <td>202500015843</td>\n",
       "      <td>400</td>\n",
       "      <td>GARRETT ST, G</td>\n",
       "      <td>CPD</td>\n",
       "      <td>2121</td>\n",
       "      <td>Ritter, Kobe</td>\n",
       "      <td>2025-05-10 21:21:18</td>\n",
       "      <td>2025-05-10 09:21:18 PM</td>\n",
       "      <td>Saturday</td>\n",
       "      <td>True</td>\n",
       "      <td>Spring</td>\n",
       "      <td>09:21 PM</td>\n",
       "      <td>Night</td>\n",
       "      <td>400 GARRETT ST, G</td>\n",
       "      <td>38.027935</td>\n",
       "      <td>-78.481659</td>\n",
       "      <td>North Downtown</td>\n",
       "      <td>22903</td>\n",
       "    </tr>\n",
       "    <tr>\n",
       "      <th>2</th>\n",
       "      <td>3</td>\n",
       "      <td>Larceny - From Motor Vehicle</td>\n",
       "      <td>202500015842</td>\n",
       "      <td>300</td>\n",
       "      <td>3RD ST NE</td>\n",
       "      <td>CPD</td>\n",
       "      <td>2120</td>\n",
       "      <td>Essex, Dominique</td>\n",
       "      <td>2025-05-10 21:20:31</td>\n",
       "      <td>2025-05-10 09:20:31 PM</td>\n",
       "      <td>Saturday</td>\n",
       "      <td>True</td>\n",
       "      <td>Spring</td>\n",
       "      <td>09:20 PM</td>\n",
       "      <td>Night</td>\n",
       "      <td>300 3RD ST NE</td>\n",
       "      <td>38.031821</td>\n",
       "      <td>-78.479295</td>\n",
       "      <td>North Downtown</td>\n",
       "      <td>22902</td>\n",
       "    </tr>\n",
       "    <tr>\n",
       "      <th>3</th>\n",
       "      <td>4</td>\n",
       "      <td>Assault Simple</td>\n",
       "      <td>202500015776</td>\n",
       "      <td></td>\n",
       "      <td>W MAIN ST / W WATER ST</td>\n",
       "      <td>CPD</td>\n",
       "      <td>1223</td>\n",
       "      <td>O'Briant, Landon</td>\n",
       "      <td>2025-05-10 12:23:36</td>\n",
       "      <td>2025-05-10 12:23:36 PM</td>\n",
       "      <td>Saturday</td>\n",
       "      <td>True</td>\n",
       "      <td>Spring</td>\n",
       "      <td>12:23 PM</td>\n",
       "      <td>Afternoon</td>\n",
       "      <td>W MAIN ST / W WATER ST</td>\n",
       "      <td>38.030541</td>\n",
       "      <td>-78.485195</td>\n",
       "      <td>Starr Hill</td>\n",
       "      <td>22903</td>\n",
       "    </tr>\n",
       "    <tr>\n",
       "      <th>4</th>\n",
       "      <td>5</td>\n",
       "      <td>Fraud-false pretense</td>\n",
       "      <td>202500015772</td>\n",
       "      <td>400</td>\n",
       "      <td>QUARRY RD</td>\n",
       "      <td>CPD</td>\n",
       "      <td>1157</td>\n",
       "      <td>Prevost, Payten</td>\n",
       "      <td>2025-05-10 11:57:32</td>\n",
       "      <td>2025-05-10 11:57:32 AM</td>\n",
       "      <td>Saturday</td>\n",
       "      <td>True</td>\n",
       "      <td>Spring</td>\n",
       "      <td>11:57 AM</td>\n",
       "      <td>Morning</td>\n",
       "      <td>400 QUARRY RD</td>\n",
       "      <td>38.014383</td>\n",
       "      <td>-78.473605</td>\n",
       "      <td>Belmont</td>\n",
       "      <td>22902</td>\n",
       "    </tr>\n",
       "  </tbody>\n",
       "</table>\n",
       "</div>"
      ],
      "text/plain": [
       "   RecordID                       Offense    IncidentID BlockNumber  \\\n",
       "0         1           Larceny - All Other  202500015844         400   \n",
       "1         2      Drug/Narcotics Violation  202500015843         400   \n",
       "2         3  Larceny - From Motor Vehicle  202500015842         300   \n",
       "3         4                Assault Simple  202500015776               \n",
       "4         5          Fraud-false pretense  202500015772         400   \n",
       "\n",
       "               StreetName Agency HourReported  ReportingOfficer  \\\n",
       "0           GARRETT ST, G    CPD         2123    Davis, Charles   \n",
       "1           GARRETT ST, G    CPD         2121      Ritter, Kobe   \n",
       "2               3RD ST NE    CPD         2120  Essex, Dominique   \n",
       "3  W MAIN ST / W WATER ST    CPD         1223  O'Briant, Landon   \n",
       "4               QUARRY RD    CPD         1157   Prevost, Payten   \n",
       "\n",
       "                 Date              DateString DayOfWeek  Weekend  Season  \\\n",
       "0 2025-05-10 21:23:24  2025-05-10 09:23:24 PM  Saturday     True  Spring   \n",
       "1 2025-05-10 21:21:18  2025-05-10 09:21:18 PM  Saturday     True  Spring   \n",
       "2 2025-05-10 21:20:31  2025-05-10 09:20:31 PM  Saturday     True  Spring   \n",
       "3 2025-05-10 12:23:36  2025-05-10 12:23:36 PM  Saturday     True  Spring   \n",
       "4 2025-05-10 11:57:32  2025-05-10 11:57:32 AM  Saturday     True  Spring   \n",
       "\n",
       "   HourAMPM  TimeOfDay               FullStreet        lat        lon  \\\n",
       "0  09:23 PM      Night        400 GARRETT ST, G  38.027935 -78.481659   \n",
       "1  09:21 PM      Night        400 GARRETT ST, G  38.027935 -78.481659   \n",
       "2  09:20 PM      Night            300 3RD ST NE  38.031821 -78.479295   \n",
       "3  12:23 PM  Afternoon   W MAIN ST / W WATER ST  38.030541 -78.485195   \n",
       "4  11:57 AM    Morning            400 QUARRY RD  38.014383 -78.473605   \n",
       "\n",
       "     neighborhood    zip  \n",
       "0  North Downtown  22903  \n",
       "1  North Downtown  22903  \n",
       "2  North Downtown  22902  \n",
       "3      Starr Hill  22903  \n",
       "4         Belmont  22902  "
      ]
     },
     "execution_count": 11,
     "metadata": {},
     "output_type": "execute_result"
    }
   ],
   "source": [
    "# Initialize the geocoder.\n",
    "geolocator = Nominatim(user_agent=\"zip_lookup\")\n",
    "\n",
    "# Try to load a persistent ZIP cache if available.\n",
    "try:\n",
    "    with open(\"zip_cache.pkl\", \"rb\") as f:\n",
    "        zip_cache = pickle.load(f)\n",
    "    print(\"Loaded zip cache.\")\n",
    "except FileNotFoundError:\n",
    "    zip_cache = {}\n",
    "    print(\"No zip cache found; starting fresh.\")\n",
    "\n",
    "def get_zip(lat, lon):\n",
    "    \"\"\"\n",
    "    Reverse geocodes a latitude and longitude to retrieve the ZIP code.\n",
    "    Caches results to speed up subsequent lookups.\n",
    "    \"\"\"\n",
    "    key = (lat, lon)\n",
    "    if key in zip_cache:\n",
    "        return zip_cache[key]\n",
    "    \n",
    "    try:\n",
    "        location = geolocator.reverse((lat, lon), exactly_one=True, timeout=10)\n",
    "        address = location.raw.get('address', {})\n",
    "        postal_code = address.get('postcode', \"N/A\")\n",
    "    except Exception as e:\n",
    "        print(f\"Error getting ZIP for {lat}, {lon}: {e}\")\n",
    "        postal_code = \"N/A\"\n",
    "    \n",
    "    zip_cache[key] = postal_code\n",
    "    # Pause to respect the usage policy.\n",
    "    time.sleep(1)\n",
    "    return postal_code\n",
    "\n",
    "# Apply the function to each row in the DataFrame.\n",
    "df['zip'] = df.apply(lambda row: get_zip(row['lat'], row['lon']), axis=1)\n",
    "\n",
    "# Save the updated ZIP cache.\n",
    "with open(\"zip_cache.pkl\", \"wb\") as f:\n",
    "    pickle.dump(zip_cache, f)\n",
    "\n",
    "df.head()\n"
   ]
  },
  {
   "cell_type": "code",
   "execution_count": 12,
   "id": "7b5011fa",
   "metadata": {
    "execution": {
     "iopub.execute_input": "2025-05-13T01:04:04.825332Z",
     "iopub.status.busy": "2025-05-13T01:04:04.824865Z",
     "iopub.status.idle": "2025-05-13T01:04:04.849892Z",
     "shell.execute_reply": "2025-05-13T01:04:04.849319Z"
    },
    "papermill": {
     "duration": 0.033489,
     "end_time": "2025-05-13T01:04:04.850903",
     "exception": false,
     "start_time": "2025-05-13T01:04:04.817414",
     "status": "completed"
    },
    "tags": []
   },
   "outputs": [
    {
     "name": "stdout",
     "output_type": "stream",
     "text": [
      "                  MissingCount  MissingPercentage\n",
      "RecordID                     0               0.00\n",
      "Offense                      0               0.00\n",
      "IncidentID                   0               0.00\n",
      "BlockNumber                  0               0.00\n",
      "StreetName                   0               0.00\n",
      "Agency                       0               0.00\n",
      "HourReported                 0               0.00\n",
      "ReportingOfficer            17               0.07\n",
      "Date                         0               0.00\n",
      "DateString                   0               0.00\n",
      "DayOfWeek                    0               0.00\n",
      "Weekend                      0               0.00\n",
      "Season                       0               0.00\n",
      "HourAMPM                     0               0.00\n",
      "TimeOfDay                    0               0.00\n",
      "FullStreet                   0               0.00\n",
      "lat                          0               0.00\n",
      "lon                          0               0.00\n",
      "neighborhood                 0               0.00\n",
      "zip                          0               0.00\n"
     ]
    }
   ],
   "source": [
    "missing_info = missing_percentage(df)\n",
    "print(missing_info)\n"
   ]
  },
  {
   "cell_type": "code",
   "execution_count": 13,
   "id": "a69e11f6",
   "metadata": {
    "execution": {
     "iopub.execute_input": "2025-05-13T01:04:04.865738Z",
     "iopub.status.busy": "2025-05-13T01:04:04.865265Z",
     "iopub.status.idle": "2025-05-13T01:04:04.890138Z",
     "shell.execute_reply": "2025-05-13T01:04:04.889474Z"
    },
    "papermill": {
     "duration": 0.033325,
     "end_time": "2025-05-13T01:04:04.891182",
     "exception": false,
     "start_time": "2025-05-13T01:04:04.857857",
     "status": "completed"
    },
    "tags": []
   },
   "outputs": [
    {
     "name": "stdout",
     "output_type": "stream",
     "text": [
      "<class 'pandas.core.frame.DataFrame'>\n",
      "RangeIndex: 25379 entries, 0 to 25378\n",
      "Data columns (total 20 columns):\n",
      " #   Column            Non-Null Count  Dtype         \n",
      "---  ------            --------------  -----         \n",
      " 0   RecordID          25379 non-null  int64         \n",
      " 1   Offense           25379 non-null  object        \n",
      " 2   IncidentID        25379 non-null  object        \n",
      " 3   BlockNumber       25379 non-null  object        \n",
      " 4   StreetName        25379 non-null  object        \n",
      " 5   Agency            25379 non-null  object        \n",
      " 6   HourReported      25379 non-null  object        \n",
      " 7   ReportingOfficer  25362 non-null  object        \n",
      " 8   Date              25379 non-null  datetime64[ns]\n",
      " 9   DateString        25379 non-null  object        \n",
      " 10  DayOfWeek         25379 non-null  object        \n",
      " 11  Weekend           25379 non-null  bool          \n",
      " 12  Season            25379 non-null  object        \n",
      " 13  HourAMPM          25379 non-null  object        \n",
      " 14  TimeOfDay         25379 non-null  object        \n",
      " 15  FullStreet        25379 non-null  object        \n",
      " 16  lat               25379 non-null  float64       \n",
      " 17  lon               25379 non-null  float64       \n",
      " 18  neighborhood      25379 non-null  object        \n",
      " 19  zip               25379 non-null  object        \n",
      "dtypes: bool(1), datetime64[ns](1), float64(2), int64(1), object(15)\n",
      "memory usage: 3.7+ MB\n"
     ]
    }
   ],
   "source": [
    "df.info()"
   ]
  },
  {
   "cell_type": "code",
   "execution_count": 14,
   "id": "b5acc46b",
   "metadata": {
    "execution": {
     "iopub.execute_input": "2025-05-13T01:04:04.906302Z",
     "iopub.status.busy": "2025-05-13T01:04:04.905754Z",
     "iopub.status.idle": "2025-05-13T01:04:04.945050Z",
     "shell.execute_reply": "2025-05-13T01:04:04.944365Z"
    },
    "papermill": {
     "duration": 0.047887,
     "end_time": "2025-05-13T01:04:04.946068",
     "exception": false,
     "start_time": "2025-05-13T01:04:04.898181",
     "status": "completed"
    },
    "tags": []
   },
   "outputs": [
    {
     "data": {
      "text/html": [
       "<div>\n",
       "<style scoped>\n",
       "    .dataframe tbody tr th:only-of-type {\n",
       "        vertical-align: middle;\n",
       "    }\n",
       "\n",
       "    .dataframe tbody tr th {\n",
       "        vertical-align: top;\n",
       "    }\n",
       "\n",
       "    .dataframe thead th {\n",
       "        text-align: right;\n",
       "    }\n",
       "</style>\n",
       "<table border=\"1\" class=\"dataframe\">\n",
       "  <thead>\n",
       "    <tr style=\"text-align: right;\">\n",
       "      <th></th>\n",
       "      <th>RecordID</th>\n",
       "      <th>Offense</th>\n",
       "      <th>IncidentID</th>\n",
       "      <th>Agency</th>\n",
       "      <th>ReportingOfficer</th>\n",
       "      <th>Date</th>\n",
       "      <th>DayOfWeek</th>\n",
       "      <th>Weekend</th>\n",
       "      <th>Season</th>\n",
       "      <th>TimeOfDay</th>\n",
       "      <th>FullStreet</th>\n",
       "      <th>lat</th>\n",
       "      <th>lon</th>\n",
       "      <th>neighborhood</th>\n",
       "      <th>zip</th>\n",
       "    </tr>\n",
       "  </thead>\n",
       "  <tbody>\n",
       "    <tr>\n",
       "      <th>0</th>\n",
       "      <td>1</td>\n",
       "      <td>Larceny - All Other</td>\n",
       "      <td>202500015844</td>\n",
       "      <td>CPD</td>\n",
       "      <td>Davis, Charles</td>\n",
       "      <td>2025-05-10 21:23:24</td>\n",
       "      <td>Saturday</td>\n",
       "      <td>True</td>\n",
       "      <td>Spring</td>\n",
       "      <td>Night</td>\n",
       "      <td>400 GARRETT ST, G</td>\n",
       "      <td>38.027935</td>\n",
       "      <td>-78.481659</td>\n",
       "      <td>North Downtown</td>\n",
       "      <td>22903</td>\n",
       "    </tr>\n",
       "    <tr>\n",
       "      <th>1</th>\n",
       "      <td>2</td>\n",
       "      <td>Drug/Narcotics Violation</td>\n",
       "      <td>202500015843</td>\n",
       "      <td>CPD</td>\n",
       "      <td>Ritter, Kobe</td>\n",
       "      <td>2025-05-10 21:21:18</td>\n",
       "      <td>Saturday</td>\n",
       "      <td>True</td>\n",
       "      <td>Spring</td>\n",
       "      <td>Night</td>\n",
       "      <td>400 GARRETT ST, G</td>\n",
       "      <td>38.027935</td>\n",
       "      <td>-78.481659</td>\n",
       "      <td>North Downtown</td>\n",
       "      <td>22903</td>\n",
       "    </tr>\n",
       "    <tr>\n",
       "      <th>2</th>\n",
       "      <td>3</td>\n",
       "      <td>Larceny - From Motor Vehicle</td>\n",
       "      <td>202500015842</td>\n",
       "      <td>CPD</td>\n",
       "      <td>Essex, Dominique</td>\n",
       "      <td>2025-05-10 21:20:31</td>\n",
       "      <td>Saturday</td>\n",
       "      <td>True</td>\n",
       "      <td>Spring</td>\n",
       "      <td>Night</td>\n",
       "      <td>300 3RD ST NE</td>\n",
       "      <td>38.031821</td>\n",
       "      <td>-78.479295</td>\n",
       "      <td>North Downtown</td>\n",
       "      <td>22902</td>\n",
       "    </tr>\n",
       "    <tr>\n",
       "      <th>3</th>\n",
       "      <td>4</td>\n",
       "      <td>Assault Simple</td>\n",
       "      <td>202500015776</td>\n",
       "      <td>CPD</td>\n",
       "      <td>O'Briant, Landon</td>\n",
       "      <td>2025-05-10 12:23:36</td>\n",
       "      <td>Saturday</td>\n",
       "      <td>True</td>\n",
       "      <td>Spring</td>\n",
       "      <td>Afternoon</td>\n",
       "      <td>W MAIN ST / W WATER ST</td>\n",
       "      <td>38.030541</td>\n",
       "      <td>-78.485195</td>\n",
       "      <td>Starr Hill</td>\n",
       "      <td>22903</td>\n",
       "    </tr>\n",
       "    <tr>\n",
       "      <th>4</th>\n",
       "      <td>5</td>\n",
       "      <td>Fraud-false pretense</td>\n",
       "      <td>202500015772</td>\n",
       "      <td>CPD</td>\n",
       "      <td>Prevost, Payten</td>\n",
       "      <td>2025-05-10 11:57:32</td>\n",
       "      <td>Saturday</td>\n",
       "      <td>True</td>\n",
       "      <td>Spring</td>\n",
       "      <td>Morning</td>\n",
       "      <td>400 QUARRY RD</td>\n",
       "      <td>38.014383</td>\n",
       "      <td>-78.473605</td>\n",
       "      <td>Belmont</td>\n",
       "      <td>22902</td>\n",
       "    </tr>\n",
       "  </tbody>\n",
       "</table>\n",
       "</div>"
      ],
      "text/plain": [
       "   RecordID                       Offense    IncidentID Agency  \\\n",
       "0         1           Larceny - All Other  202500015844    CPD   \n",
       "1         2      Drug/Narcotics Violation  202500015843    CPD   \n",
       "2         3  Larceny - From Motor Vehicle  202500015842    CPD   \n",
       "3         4                Assault Simple  202500015776    CPD   \n",
       "4         5          Fraud-false pretense  202500015772    CPD   \n",
       "\n",
       "   ReportingOfficer                Date DayOfWeek  Weekend  Season  TimeOfDay  \\\n",
       "0    Davis, Charles 2025-05-10 21:23:24  Saturday     True  Spring      Night   \n",
       "1      Ritter, Kobe 2025-05-10 21:21:18  Saturday     True  Spring      Night   \n",
       "2  Essex, Dominique 2025-05-10 21:20:31  Saturday     True  Spring      Night   \n",
       "3  O'Briant, Landon 2025-05-10 12:23:36  Saturday     True  Spring  Afternoon   \n",
       "4   Prevost, Payten 2025-05-10 11:57:32  Saturday     True  Spring    Morning   \n",
       "\n",
       "                FullStreet        lat        lon    neighborhood    zip  \n",
       "0        400 GARRETT ST, G  38.027935 -78.481659  North Downtown  22903  \n",
       "1        400 GARRETT ST, G  38.027935 -78.481659  North Downtown  22903  \n",
       "2            300 3RD ST NE  38.031821 -78.479295  North Downtown  22902  \n",
       "3   W MAIN ST / W WATER ST  38.030541 -78.485195      Starr Hill  22903  \n",
       "4            400 QUARRY RD  38.014383 -78.473605         Belmont  22902  "
      ]
     },
     "execution_count": 14,
     "metadata": {},
     "output_type": "execute_result"
    }
   ],
   "source": [
    "# Now drop the original BlockNumber and StreetName columns\n",
    "df.drop(columns=['BlockNumber', 'StreetName','HourAMPM','HourReported','DateString'], inplace=True)\n",
    "df[\"zip\"] = df[\"zip\"].astype(str)\n",
    "\n",
    "# Fill all missing values in the DataFrame with \"N/A\"\n",
    "df.replace({None: \"N/A\", np.nan: \"N/A\", \"\": \"N/A\"}, inplace=True)\n",
    "df.head()"
   ]
  },
  {
   "cell_type": "code",
   "execution_count": 15,
   "id": "8ad5ac7e",
   "metadata": {
    "execution": {
     "iopub.execute_input": "2025-05-13T01:04:04.962086Z",
     "iopub.status.busy": "2025-05-13T01:04:04.961631Z",
     "iopub.status.idle": "2025-05-13T01:04:04.976787Z",
     "shell.execute_reply": "2025-05-13T01:04:04.976125Z"
    },
    "papermill": {
     "duration": 0.024219,
     "end_time": "2025-05-13T01:04:04.977817",
     "exception": false,
     "start_time": "2025-05-13T01:04:04.953598",
     "status": "completed"
    },
    "tags": []
   },
   "outputs": [
    {
     "name": "stdout",
     "output_type": "stream",
     "text": [
      "                  MissingCount  MissingPercentage\n",
      "RecordID                     0                0.0\n",
      "Offense                      0                0.0\n",
      "IncidentID                   0                0.0\n",
      "Agency                       0                0.0\n",
      "ReportingOfficer             0                0.0\n",
      "Date                         0                0.0\n",
      "DayOfWeek                    0                0.0\n",
      "Weekend                      0                0.0\n",
      "Season                       0                0.0\n",
      "TimeOfDay                    0                0.0\n",
      "FullStreet                   0                0.0\n",
      "lat                          0                0.0\n",
      "lon                          0                0.0\n",
      "neighborhood                 0                0.0\n",
      "zip                          0                0.0\n"
     ]
    }
   ],
   "source": [
    "missing_info = missing_percentage(df)\n",
    "print(missing_info)"
   ]
  },
  {
   "cell_type": "code",
   "execution_count": 16,
   "id": "4f89f45e",
   "metadata": {
    "execution": {
     "iopub.execute_input": "2025-05-13T01:04:04.993369Z",
     "iopub.status.busy": "2025-05-13T01:04:04.992905Z",
     "iopub.status.idle": "2025-05-13T01:04:04.997322Z",
     "shell.execute_reply": "2025-05-13T01:04:04.996666Z"
    },
    "papermill": {
     "duration": 0.013242,
     "end_time": "2025-05-13T01:04:04.998328",
     "exception": false,
     "start_time": "2025-05-13T01:04:04.985086",
     "status": "completed"
    },
    "tags": []
   },
   "outputs": [
    {
     "data": {
      "text/plain": [
       "Index(['RecordID', 'Offense', 'IncidentID', 'Agency', 'ReportingOfficer',\n",
       "       'Date', 'DayOfWeek', 'Weekend', 'Season', 'TimeOfDay', 'FullStreet',\n",
       "       'lat', 'lon', 'neighborhood', 'zip'],\n",
       "      dtype='object')"
      ]
     },
     "execution_count": 16,
     "metadata": {},
     "output_type": "execute_result"
    }
   ],
   "source": [
    "df.columns"
   ]
  },
  {
   "cell_type": "code",
   "execution_count": 17,
   "id": "e581e515",
   "metadata": {
    "execution": {
     "iopub.execute_input": "2025-05-13T01:04:05.014004Z",
     "iopub.status.busy": "2025-05-13T01:04:05.013558Z",
     "iopub.status.idle": "2025-05-13T01:04:05.029747Z",
     "shell.execute_reply": "2025-05-13T01:04:05.029094Z"
    },
    "papermill": {
     "duration": 0.025152,
     "end_time": "2025-05-13T01:04:05.030894",
     "exception": false,
     "start_time": "2025-05-13T01:04:05.005742",
     "status": "completed"
    },
    "tags": []
   },
   "outputs": [
    {
     "name": "stdout",
     "output_type": "stream",
     "text": [
      "<class 'pandas.core.frame.DataFrame'>\n",
      "RangeIndex: 25379 entries, 0 to 25378\n",
      "Data columns (total 15 columns):\n",
      " #   Column            Non-Null Count  Dtype         \n",
      "---  ------            --------------  -----         \n",
      " 0   RecordID          25379 non-null  int64         \n",
      " 1   Offense           25379 non-null  object        \n",
      " 2   IncidentID        25379 non-null  object        \n",
      " 3   Agency            25379 non-null  object        \n",
      " 4   ReportingOfficer  25379 non-null  object        \n",
      " 5   Date              25379 non-null  datetime64[ns]\n",
      " 6   DayOfWeek         25379 non-null  object        \n",
      " 7   Weekend           25379 non-null  bool          \n",
      " 8   Season            25379 non-null  object        \n",
      " 9   TimeOfDay         25379 non-null  object        \n",
      " 10  FullStreet        25379 non-null  object        \n",
      " 11  lat               25379 non-null  float64       \n",
      " 12  lon               25379 non-null  float64       \n",
      " 13  neighborhood      25379 non-null  object        \n",
      " 14  zip               25379 non-null  object        \n",
      "dtypes: bool(1), datetime64[ns](1), float64(2), int64(1), object(10)\n",
      "memory usage: 2.7+ MB\n"
     ]
    }
   ],
   "source": [
    "df.info()"
   ]
  },
  {
   "cell_type": "markdown",
   "id": "b419bf4e",
   "metadata": {
    "papermill": {
     "duration": 0.007289,
     "end_time": "2025-05-13T01:04:05.045753",
     "exception": false,
     "start_time": "2025-05-13T01:04:05.038464",
     "status": "completed"
    },
    "tags": []
   },
   "source": [
    "### Export Clean Data"
   ]
  },
  {
   "cell_type": "code",
   "execution_count": 18,
   "id": "bb6fb82e",
   "metadata": {
    "execution": {
     "iopub.execute_input": "2025-05-13T01:04:05.061646Z",
     "iopub.status.busy": "2025-05-13T01:04:05.061175Z",
     "iopub.status.idle": "2025-05-13T01:04:14.305529Z",
     "shell.execute_reply": "2025-05-13T01:04:14.304856Z"
    },
    "papermill": {
     "duration": 9.253523,
     "end_time": "2025-05-13T01:04:14.306733",
     "exception": false,
     "start_time": "2025-05-13T01:04:05.053210",
     "status": "completed"
    },
    "tags": []
   },
   "outputs": [
    {
     "name": "stdout",
     "output_type": "stream",
     "text": [
      "Project Root: /home/runner/work/crime-data/crime-data\n"
     ]
    },
    {
     "name": "stdout",
     "output_type": "stream",
     "text": [
      "Data saved to: /home/runner/work/crime-data/crime-data/data/charlottesville_crime_incidents.csv\n"
     ]
    },
    {
     "name": "stdout",
     "output_type": "stream",
     "text": [
      "Excel saved to: /home/runner/work/crime-data/crime-data/data/charlottesville_crime_incidents.xlsx\n"
     ]
    }
   ],
   "source": [
    "# Determine the project root (assuming papermill is run from the repository root)\n",
    "project_root = os.getcwd()\n",
    "print(\"Project Root:\", project_root)\n",
    "\n",
    "# Set the data directory within the project root\n",
    "data_dir = os.path.join(project_root, \"data\")\n",
    "\n",
    "# Ensure the \"data\" directory exists (create it if it doesn't)\n",
    "if not os.path.exists(data_dir):\n",
    "    os.makedirs(data_dir)\n",
    "\n",
    "# Export the DataFrame to CSV in the \"data\" folder located in the project root\n",
    "csv_path = os.path.join(data_dir, \"charlottesville_crime_incidents.csv\")\n",
    "df.to_csv(csv_path, index=False)\n",
    "print(\"Data saved to:\", csv_path)\n",
    "\n",
    "# Construct the path to your Excel file\n",
    "excel_path = os.path.join(data_dir, \"charlottesville_crime_incidents.xlsx\")\n",
    "\n",
    "# Export the DataFrame to Excel\n",
    "df.to_excel(excel_path, index=False)\n",
    "print(\"Excel saved to:\", excel_path)\n"
   ]
  },
  {
   "cell_type": "markdown",
   "id": "d14276f7",
   "metadata": {
    "papermill": {
     "duration": 0.007584,
     "end_time": "2025-05-13T01:04:14.322255",
     "exception": false,
     "start_time": "2025-05-13T01:04:14.314671",
     "status": "completed"
    },
    "tags": []
   },
   "source": [
    "## Predictive Analytics"
   ]
  },
  {
   "cell_type": "code",
   "execution_count": 19,
   "id": "c89c58d6",
   "metadata": {
    "execution": {
     "iopub.execute_input": "2025-05-13T01:04:14.338668Z",
     "iopub.status.busy": "2025-05-13T01:04:14.338221Z",
     "iopub.status.idle": "2025-05-13T01:04:14.350078Z",
     "shell.execute_reply": "2025-05-13T01:04:14.349496Z"
    },
    "papermill": {
     "duration": 0.021183,
     "end_time": "2025-05-13T01:04:14.351090",
     "exception": false,
     "start_time": "2025-05-13T01:04:14.329907",
     "status": "completed"
    },
    "tags": []
   },
   "outputs": [
    {
     "data": {
      "text/html": [
       "<div>\n",
       "<style scoped>\n",
       "    .dataframe tbody tr th:only-of-type {\n",
       "        vertical-align: middle;\n",
       "    }\n",
       "\n",
       "    .dataframe tbody tr th {\n",
       "        vertical-align: top;\n",
       "    }\n",
       "\n",
       "    .dataframe thead th {\n",
       "        text-align: right;\n",
       "    }\n",
       "</style>\n",
       "<table border=\"1\" class=\"dataframe\">\n",
       "  <thead>\n",
       "    <tr style=\"text-align: right;\">\n",
       "      <th></th>\n",
       "      <th>RecordID</th>\n",
       "      <th>Offense</th>\n",
       "      <th>IncidentID</th>\n",
       "      <th>Agency</th>\n",
       "      <th>ReportingOfficer</th>\n",
       "      <th>Date</th>\n",
       "      <th>DayOfWeek</th>\n",
       "      <th>Weekend</th>\n",
       "      <th>Season</th>\n",
       "      <th>TimeOfDay</th>\n",
       "      <th>FullStreet</th>\n",
       "      <th>lat</th>\n",
       "      <th>lon</th>\n",
       "      <th>neighborhood</th>\n",
       "      <th>zip</th>\n",
       "    </tr>\n",
       "  </thead>\n",
       "  <tbody>\n",
       "    <tr>\n",
       "      <th>0</th>\n",
       "      <td>1</td>\n",
       "      <td>Larceny - All Other</td>\n",
       "      <td>202500015844</td>\n",
       "      <td>CPD</td>\n",
       "      <td>Davis, Charles</td>\n",
       "      <td>2025-05-10 21:23:24</td>\n",
       "      <td>Saturday</td>\n",
       "      <td>True</td>\n",
       "      <td>Spring</td>\n",
       "      <td>Night</td>\n",
       "      <td>400 GARRETT ST, G</td>\n",
       "      <td>38.027935</td>\n",
       "      <td>-78.481659</td>\n",
       "      <td>North Downtown</td>\n",
       "      <td>22903</td>\n",
       "    </tr>\n",
       "    <tr>\n",
       "      <th>1</th>\n",
       "      <td>2</td>\n",
       "      <td>Drug/Narcotics Violation</td>\n",
       "      <td>202500015843</td>\n",
       "      <td>CPD</td>\n",
       "      <td>Ritter, Kobe</td>\n",
       "      <td>2025-05-10 21:21:18</td>\n",
       "      <td>Saturday</td>\n",
       "      <td>True</td>\n",
       "      <td>Spring</td>\n",
       "      <td>Night</td>\n",
       "      <td>400 GARRETT ST, G</td>\n",
       "      <td>38.027935</td>\n",
       "      <td>-78.481659</td>\n",
       "      <td>North Downtown</td>\n",
       "      <td>22903</td>\n",
       "    </tr>\n",
       "    <tr>\n",
       "      <th>2</th>\n",
       "      <td>3</td>\n",
       "      <td>Larceny - From Motor Vehicle</td>\n",
       "      <td>202500015842</td>\n",
       "      <td>CPD</td>\n",
       "      <td>Essex, Dominique</td>\n",
       "      <td>2025-05-10 21:20:31</td>\n",
       "      <td>Saturday</td>\n",
       "      <td>True</td>\n",
       "      <td>Spring</td>\n",
       "      <td>Night</td>\n",
       "      <td>300 3RD ST NE</td>\n",
       "      <td>38.031821</td>\n",
       "      <td>-78.479295</td>\n",
       "      <td>North Downtown</td>\n",
       "      <td>22902</td>\n",
       "    </tr>\n",
       "    <tr>\n",
       "      <th>3</th>\n",
       "      <td>4</td>\n",
       "      <td>Assault Simple</td>\n",
       "      <td>202500015776</td>\n",
       "      <td>CPD</td>\n",
       "      <td>O'Briant, Landon</td>\n",
       "      <td>2025-05-10 12:23:36</td>\n",
       "      <td>Saturday</td>\n",
       "      <td>True</td>\n",
       "      <td>Spring</td>\n",
       "      <td>Afternoon</td>\n",
       "      <td>W MAIN ST / W WATER ST</td>\n",
       "      <td>38.030541</td>\n",
       "      <td>-78.485195</td>\n",
       "      <td>Starr Hill</td>\n",
       "      <td>22903</td>\n",
       "    </tr>\n",
       "    <tr>\n",
       "      <th>4</th>\n",
       "      <td>5</td>\n",
       "      <td>Fraud-false pretense</td>\n",
       "      <td>202500015772</td>\n",
       "      <td>CPD</td>\n",
       "      <td>Prevost, Payten</td>\n",
       "      <td>2025-05-10 11:57:32</td>\n",
       "      <td>Saturday</td>\n",
       "      <td>True</td>\n",
       "      <td>Spring</td>\n",
       "      <td>Morning</td>\n",
       "      <td>400 QUARRY RD</td>\n",
       "      <td>38.014383</td>\n",
       "      <td>-78.473605</td>\n",
       "      <td>Belmont</td>\n",
       "      <td>22902</td>\n",
       "    </tr>\n",
       "  </tbody>\n",
       "</table>\n",
       "</div>"
      ],
      "text/plain": [
       "   RecordID                       Offense    IncidentID Agency  \\\n",
       "0         1           Larceny - All Other  202500015844    CPD   \n",
       "1         2      Drug/Narcotics Violation  202500015843    CPD   \n",
       "2         3  Larceny - From Motor Vehicle  202500015842    CPD   \n",
       "3         4                Assault Simple  202500015776    CPD   \n",
       "4         5          Fraud-false pretense  202500015772    CPD   \n",
       "\n",
       "   ReportingOfficer                Date DayOfWeek  Weekend  Season  TimeOfDay  \\\n",
       "0    Davis, Charles 2025-05-10 21:23:24  Saturday     True  Spring      Night   \n",
       "1      Ritter, Kobe 2025-05-10 21:21:18  Saturday     True  Spring      Night   \n",
       "2  Essex, Dominique 2025-05-10 21:20:31  Saturday     True  Spring      Night   \n",
       "3  O'Briant, Landon 2025-05-10 12:23:36  Saturday     True  Spring  Afternoon   \n",
       "4   Prevost, Payten 2025-05-10 11:57:32  Saturday     True  Spring    Morning   \n",
       "\n",
       "                FullStreet        lat        lon    neighborhood    zip  \n",
       "0        400 GARRETT ST, G  38.027935 -78.481659  North Downtown  22903  \n",
       "1        400 GARRETT ST, G  38.027935 -78.481659  North Downtown  22903  \n",
       "2            300 3RD ST NE  38.031821 -78.479295  North Downtown  22902  \n",
       "3   W MAIN ST / W WATER ST  38.030541 -78.485195      Starr Hill  22903  \n",
       "4            400 QUARRY RD  38.014383 -78.473605         Belmont  22902  "
      ]
     },
     "execution_count": 19,
     "metadata": {},
     "output_type": "execute_result"
    }
   ],
   "source": [
    "df.head()"
   ]
  },
  {
   "cell_type": "code",
   "execution_count": 20,
   "id": "79534ab4",
   "metadata": {
    "execution": {
     "iopub.execute_input": "2025-05-13T01:04:14.367551Z",
     "iopub.status.busy": "2025-05-13T01:04:14.367309Z",
     "iopub.status.idle": "2025-05-13T01:04:14.371758Z",
     "shell.execute_reply": "2025-05-13T01:04:14.371145Z"
    },
    "papermill": {
     "duration": 0.013787,
     "end_time": "2025-05-13T01:04:14.372760",
     "exception": false,
     "start_time": "2025-05-13T01:04:14.358973",
     "status": "completed"
    },
    "tags": []
   },
   "outputs": [
    {
     "data": {
      "text/plain": [
       "Index(['RecordID', 'Offense', 'IncidentID', 'Agency', 'ReportingOfficer',\n",
       "       'Date', 'DayOfWeek', 'Weekend', 'Season', 'TimeOfDay', 'FullStreet',\n",
       "       'lat', 'lon', 'neighborhood', 'zip'],\n",
       "      dtype='object')"
      ]
     },
     "execution_count": 20,
     "metadata": {},
     "output_type": "execute_result"
    }
   ],
   "source": [
    "df.columns"
   ]
  },
  {
   "cell_type": "markdown",
   "id": "744b01d0",
   "metadata": {
    "papermill": {
     "duration": 0.007808,
     "end_time": "2025-05-13T01:04:14.388501",
     "exception": false,
     "start_time": "2025-05-13T01:04:14.380693",
     "status": "completed"
    },
    "tags": []
   },
   "source": [
    "### Data Preparation\n",
    "\n",
    "We need to ensure the data is in the correct format for modeling and can handle missing values, categorical variables, and dates. Here's how to prepare your data:"
   ]
  },
  {
   "cell_type": "code",
   "execution_count": 21,
   "id": "6ed9af70",
   "metadata": {
    "execution": {
     "iopub.execute_input": "2025-05-13T01:04:14.405445Z",
     "iopub.status.busy": "2025-05-13T01:04:14.405070Z",
     "iopub.status.idle": "2025-05-13T01:04:16.359764Z",
     "shell.execute_reply": "2025-05-13T01:04:16.359078Z"
    },
    "papermill": {
     "duration": 1.964811,
     "end_time": "2025-05-13T01:04:16.361199",
     "exception": false,
     "start_time": "2025-05-13T01:04:14.396388",
     "status": "completed"
    },
    "tags": []
   },
   "outputs": [],
   "source": [
    "import pandas as pd\n",
    "from sklearn.model_selection import train_test_split\n",
    "from sklearn.preprocessing import OneHotEncoder, LabelEncoder\n",
    "from sklearn.ensemble import RandomForestClassifier\n",
    "from sklearn.linear_model import LogisticRegression\n",
    "from sklearn.tree import DecisionTreeClassifier\n",
    "from sklearn.metrics import classification_report, accuracy_score\n",
    "import seaborn as sns\n",
    "import matplotlib.pyplot as plt\n",
    "\n",
    "# Convert 'Date' to datetime\n",
    "df['Date'] = pd.to_datetime(df['Date'])\n",
    "\n",
    "# Feature engineering: Extract additional time-based features\n",
    "df['Year'] = df['Date'].dt.year\n",
    "df['Month'] = df['Date'].dt.month\n",
    "df['DayOfMonth'] = df['Date'].dt.day\n",
    "\n",
    "# One-hot encoding for 'FullStreet', 'neighborhood', 'zip'\n",
    "df = pd.get_dummies(df, columns=['FullStreet', 'neighborhood', 'zip'], drop_first=True)\n",
    "\n",
    "# Label encoding for ordered variables (those with a natural order like 'DayOfWeek', 'Season', 'TimeOfDay')\n",
    "label_encoders = {}\n",
    "for column in ['DayOfWeek', 'Season', 'TimeOfDay', 'Agency', 'ReportingOfficer']:  # Example ordinal variables\n",
    "    le = LabelEncoder()\n",
    "    df[column] = le.fit_transform(df[column])\n",
    "    label_encoders[column] = le\n",
    "\n",
    "# Filter the dataset to include only the offenses of interest\n",
    "offenses_of_interest = [\n",
    "    'Hit and Run', 'Assault Simple', 'Suspicious Activity', 'Vandalism', \n",
    "    'Larceny - From Mot Vehicle', 'Larceny - All Other', \n",
    "    'Assist Citizen - Mental/TDO/ECO', 'Lost/FoundProperty'\n",
    "]\n",
    "\n",
    "df = df[df['Offense'].isin(offenses_of_interest)]\n",
    "\n",
    "# Label encode the target variable (Offense)\n",
    "offense_encoder = LabelEncoder()\n",
    "df['Offense'] = offense_encoder.fit_transform(df['Offense'])\n",
    "\n",
    "# Separate features (X) and target (y)\n",
    "X = df[['Year', 'Month', 'DayOfMonth', 'DayOfWeek', 'Weekend', 'Season', 'TimeOfDay', 'lat', 'lon', 'Agency', 'ReportingOfficer']]\n",
    "y = df['Offense']  # Offense is now the encoded target variable\n",
    "\n",
    "# Split the data into training and testing sets\n",
    "X_train, X_test, y_train, y_test = train_test_split(X, y, test_size=0.3, random_state=42)\n"
   ]
  },
  {
   "cell_type": "markdown",
   "id": "05eafb1b",
   "metadata": {
    "papermill": {
     "duration": 0.007846,
     "end_time": "2025-05-13T01:04:16.377554",
     "exception": false,
     "start_time": "2025-05-13T01:04:16.369708",
     "status": "completed"
    },
    "tags": []
   },
   "source": [
    "### Model Training\n",
    "\n",
    "Here we will train several models (e.g., Random Forest, Logistic Regression, and Decision Tree). We will use cross-validation to choose the best model based on accuracy, and then explain the impact of the variables."
   ]
  },
  {
   "cell_type": "code",
   "execution_count": 22,
   "id": "bc47fb64",
   "metadata": {
    "execution": {
     "iopub.execute_input": "2025-05-13T01:04:16.394708Z",
     "iopub.status.busy": "2025-05-13T01:04:16.394171Z",
     "iopub.status.idle": "2025-05-13T01:04:19.859131Z",
     "shell.execute_reply": "2025-05-13T01:04:19.858555Z"
    },
    "papermill": {
     "duration": 3.474744,
     "end_time": "2025-05-13T01:04:19.860191",
     "exception": false,
     "start_time": "2025-05-13T01:04:16.385447",
     "status": "completed"
    },
    "tags": []
   },
   "outputs": [
    {
     "name": "stderr",
     "output_type": "stream",
     "text": [
      "/opt/hostedtoolcache/Python/3.9.22/x64/lib/python3.9/site-packages/sklearn/linear_model/_logistic.py:465: ConvergenceWarning: lbfgs failed to converge (status=1):\n",
      "STOP: TOTAL NO. of ITERATIONS REACHED LIMIT.\n",
      "\n",
      "Increase the number of iterations (max_iter) or scale the data as shown in:\n",
      "    https://scikit-learn.org/stable/modules/preprocessing.html\n",
      "Please also refer to the documentation for alternative solver options:\n",
      "    https://scikit-learn.org/stable/modules/linear_model.html#logistic-regression\n",
      "  n_iter_i = _check_optimize_result(\n",
      "/opt/hostedtoolcache/Python/3.9.22/x64/lib/python3.9/site-packages/sklearn/metrics/_classification.py:1565: UndefinedMetricWarning: Precision is ill-defined and being set to 0.0 in labels with no predicted samples. Use `zero_division` parameter to control this behavior.\n",
      "  _warn_prf(average, modifier, f\"{metric.capitalize()} is\", len(result))\n",
      "/opt/hostedtoolcache/Python/3.9.22/x64/lib/python3.9/site-packages/sklearn/metrics/_classification.py:1565: UndefinedMetricWarning: Precision is ill-defined and being set to 0.0 in labels with no predicted samples. Use `zero_division` parameter to control this behavior.\n",
      "  _warn_prf(average, modifier, f\"{metric.capitalize()} is\", len(result))\n",
      "/opt/hostedtoolcache/Python/3.9.22/x64/lib/python3.9/site-packages/sklearn/metrics/_classification.py:1565: UndefinedMetricWarning: Precision is ill-defined and being set to 0.0 in labels with no predicted samples. Use `zero_division` parameter to control this behavior.\n",
      "  _warn_prf(average, modifier, f\"{metric.capitalize()} is\", len(result))\n"
     ]
    },
    {
     "name": "stdout",
     "output_type": "stream",
     "text": [
      "\n",
      "Classification Report for All Models:\n",
      "\n",
      "Model: RandomForest\n",
      "Accuracy: 0.2890\n",
      "              precision    recall  f1-score      support\n",
      "0              0.298867  0.364421  0.328405   579.000000\n",
      "1              0.276786  0.228501  0.250336   407.000000\n",
      "2              0.303607  0.471963  0.369512   642.000000\n",
      "3              0.251515  0.169734  0.202686   489.000000\n",
      "4              0.308300  0.208000  0.248408   375.000000\n",
      "5              0.224622  0.211382  0.217801   492.000000\n",
      "6              0.339196  0.270000  0.300668   500.000000\n",
      "accuracy       0.289036  0.289036  0.289036     0.289036\n",
      "macro avg      0.286128  0.274857  0.273974  3484.000000\n",
      "weighted avg   0.286833  0.289036  0.281004  3484.000000\n"
     ]
    },
    {
     "data": {
      "image/png": "[encoded data removed]",
      "text/plain": [
       "<Figure size 800x600 with 2 Axes>"
      ]
     },
     "metadata": {},
     "output_type": "display_data"
    },
    {
     "name": "stdout",
     "output_type": "stream",
     "text": [
      "\n",
      "Model: LogisticRegression\n",
      "Accuracy: 0.2041\n",
      "              precision    recall  f1-score      support\n",
      "0              0.212510  0.457686  0.290252   579.000000\n",
      "1              0.000000  0.000000  0.000000   407.000000\n",
      "2              0.199283  0.693146  0.309565   642.000000\n",
      "3              0.000000  0.000000  0.000000   489.000000\n",
      "4              0.000000  0.000000  0.000000   375.000000\n",
      "5              0.000000  0.000000  0.000000   492.000000\n",
      "6              0.333333  0.002000  0.003976   500.000000\n",
      "accuracy       0.204076  0.204076  0.204076     0.204076\n",
      "macro avg      0.106447  0.164690  0.086256  3484.000000\n",
      "weighted avg   0.119877  0.204076  0.105851  3484.000000\n"
     ]
    },
    {
     "data": {
      "image/png": "[encoded data removed]",
      "text/plain": [
       "<Figure size 800x600 with 2 Axes>"
      ]
     },
     "metadata": {},
     "output_type": "display_data"
    },
    {
     "name": "stdout",
     "output_type": "stream",
     "text": [
      "\n",
      "Model: DecisionTree\n",
      "Accuracy: 0.2138\n",
      "              precision    recall  f1-score      support\n",
      "0              0.233677  0.234888  0.234281   579.000000\n",
      "1              0.205189  0.213759  0.209386   407.000000\n",
      "2              0.272727  0.285047  0.278751   642.000000\n",
      "3              0.179541  0.175869  0.177686   489.000000\n",
      "4              0.229851  0.205333  0.216901   375.000000\n",
      "5              0.151093  0.154472  0.152764   492.000000\n",
      "6              0.204082  0.200000  0.202020   500.000000\n",
      "accuracy       0.213835  0.213835  0.213835     0.213835\n",
      "macro avg      0.210880  0.209910  0.210256  3484.000000\n",
      "weighted avg   0.213625  0.213835  0.213612  3484.000000\n"
     ]
    },
    {
     "data": {
      "image/png": "[encoded data removed]",
      "text/plain": [
       "<Figure size 800x600 with 2 Axes>"
      ]
     },
     "metadata": {},
     "output_type": "display_data"
    },
    {
     "name": "stdout",
     "output_type": "stream",
     "text": [
      "\n",
      "Best Model:\n",
      "Best Model: RandomForestClassifier()\n",
      "Best Model Accuracy: 0.2890\n"
     ]
    }
   ],
   "source": [
    "import pandas as pd\n",
    "from sklearn.model_selection import train_test_split\n",
    "from sklearn.ensemble import RandomForestClassifier\n",
    "from sklearn.linear_model import LogisticRegression\n",
    "from sklearn.tree import DecisionTreeClassifier\n",
    "from sklearn.metrics import classification_report, accuracy_score, confusion_matrix\n",
    "import seaborn as sns\n",
    "import matplotlib.pyplot as plt\n",
    "\n",
    "# Define models\n",
    "models = {\n",
    "    'RandomForest': RandomForestClassifier(),\n",
    "    'LogisticRegression': LogisticRegression(max_iter=1000),\n",
    "    'DecisionTree': DecisionTreeClassifier()\n",
    "}\n",
    "\n",
    "# Train models and evaluate them\n",
    "best_model = None\n",
    "best_score = 0\n",
    "model_reports = {}\n",
    "\n",
    "for model_name, model in models.items():\n",
    "    model.fit(X_train, y_train)  # Train model\n",
    "    y_pred = model.predict(X_test)  # Make predictions\n",
    "    \n",
    "    # Calculate accuracy and generate classification report\n",
    "    accuracy = accuracy_score(y_test, y_pred)\n",
    "    model_reports[model_name] = classification_report(y_test, y_pred, output_dict=True)  # Store as a dictionary for easier analysis\n",
    "    \n",
    "    # Track best performing model\n",
    "    if accuracy > best_score:\n",
    "        best_score = accuracy\n",
    "        best_model = model\n",
    "\n",
    "# Display classification reports and confusion matrices\n",
    "print(\"\\nClassification Report for All Models:\")\n",
    "for model_name, report in model_reports.items():\n",
    "    print(f\"\\nModel: {model_name}\")\n",
    "    print(\"Accuracy: {:.4f}\".format(accuracy_score(y_test, models[model_name].predict(X_test))))  # Display accuracy\n",
    "    print(pd.DataFrame(report).transpose())  # Display classification report as a DataFrame\n",
    "\n",
    "    # Plot Confusion Matrix\n",
    "    cm = confusion_matrix(y_test, models[model_name].predict(X_test))\n",
    "    plt.figure(figsize=(8, 6))\n",
    "    sns.heatmap(cm, annot=True, fmt=\"d\", cmap='Blues', xticklabels=offense_encoder.classes_, yticklabels=offense_encoder.classes_)\n",
    "    plt.title(f\"Confusion Matrix - {model_name}\")\n",
    "    plt.xlabel('Predicted Labels')\n",
    "    plt.ylabel('True Labels')\n",
    "    plt.show()\n",
    "\n",
    "# Display best model details\n",
    "print(\"\\nBest Model:\")\n",
    "print(f\"Best Model: {best_model}\")\n",
    "print(f\"Best Model Accuracy: {best_score:.4f}\")\n"
   ]
  },
  {
   "cell_type": "markdown",
   "id": "93d3ca0b",
   "metadata": {
    "papermill": {
     "duration": 0.010698,
     "end_time": "2025-05-13T01:04:19.882443",
     "exception": false,
     "start_time": "2025-05-13T01:04:19.871745",
     "status": "completed"
    },
    "tags": []
   },
   "source": [
    "#### Classification Report for All Models:\n",
    "\n",
    "### Explanation of the Classification Results (RandomForest Model)\n",
    "\n",
    "The results you provided are from a **Random Forest** model, which is used for predicting different types of offenses. Let's break down the key components of the results:\n",
    "\n",
    "#### 1. **Accuracy: 0.2822**\n",
    "   - **Accuracy** measures the overall percentage of correct predictions made by the model. An accuracy of 28.22% means the model correctly predicted the offense in about 28% of the cases. This indicates the model's predictions are not highly reliable, as the accuracy is quite low.\n",
    "\n",
    "#### 2. **Classification Report:**\n",
    "   The classification report includes precision, recall, and F1-score for each offense. Let's go over these terms and how they apply to the results:\n",
    "\n",
    "   - **Precision**: The proportion of true positive predictions out of all positive predictions made by the model for a specific class (offense).\n",
    "   - **Recall**: The proportion of true positive predictions out of all actual positive instances in the dataset.\n",
    "   - **F1-Score**: The harmonic mean of precision and recall, providing a balance between the two metrics.\n",
    "   - **Support**: The number of actual occurrences of each class in the test set.\n",
    "\n",
    "   Let's analyze each offense based on these metrics:\n",
    "\n",
    "   | **Offense**                        | **Precision** | **Recall** | **F1-Score** | **Support** |\n",
    "   |------------------------------------|---------------|------------|--------------|-------------|\n",
    "   | **Assault Simple**                 | 0.2892        | 0.3754     | 0.3267       | 594         |\n",
    "   | **Assist Citizen - Mental/TDO/ECO**| 0.3182        | 0.2274     | 0.2652       | 431         |\n",
    "   | **Hit and Run**                    | 0.2963        | 0.4765     | 0.3654       | 638         |\n",
    "   | **Larceny - All Other**            | 0.2270        | 0.1453     | 0.1772       | 475         |\n",
    "   | **Lost/FoundProperty**             | 0.3333        | 0.2102     | 0.2578       | 352         |\n",
    "   | **Suspicious Activity**            | 0.2344        | 0.2169     | 0.2253       | 484         |\n",
    "   | **Vandalism**                      | 0.2712        | 0.2106     | 0.2371       | 470         |\n",
    "\n",
    "#### 3. **Key Insights from the Report:**\n",
    "\n",
    "- **Precision**:\n",
    "   - The highest precision is for **Larceny - All Other** (0.3333), indicating that when the model predicts this offense, it is correct about 33% of the time. However, this is still quite low.\n",
    "   - **Assist Citizen - Mental/TDO/ECO** has the lowest precision (0.2269), meaning that the model's predictions for this offense tend to be wrong more often than correct.\n",
    "\n",
    "- **Recall**:\n",
    "   - **Hit and Run** has the highest recall (0.4765), meaning the model identifies about 48% of the actual occurrences of this offense. This is better than the precision, which indicates it is missing many true positives but is still able to identify a fair number of cases.\n",
    "   - **Larceny - All Other** and **Suspicious Activity** have the lowest recall values (0.1453 and 0.2169, respectively), indicating that the model is failing to identify most of the actual cases for these offenses.\n",
    "\n",
    "- **F1-Score**:\n",
    "   - The **F1-Score** balances precision and recall. It is highest for **Hit and Run** (0.3654), but still relatively low overall. This suggests the model is better at identifying **Hit and Run** than other offenses but still has room for improvement.\n",
    "   - **Larceny - All Other** has the lowest F1-Score (0.1772), indicating a poor balance between precision and recall for this offense.\n",
    "\n",
    "#### 4. **Macro Average and Weighted Average:**\n",
    "   - **Macro Average**: This gives the average precision, recall, and F1-Score across all classes (offenses) without considering the class distribution. It averages the results for all offenses equally.\n",
    "     - Precision: 0.2814\n",
    "     - Recall: 0.2661\n",
    "     - F1-Score: 0.2649\n",
    "   - **Weighted Average**: This averages the metrics but weighs each class by its support (the number of true instances in the test set). This gives a better sense of overall performance, considering the class distribution.\n",
    "     - Precision: 0.2799\n",
    "     - Recall: 0.2822\n",
    "     - F1-Score: 0.2720\n",
    "\n",
    "#### 5. **Confusion Matrix (Visualization Analysis)**:\n",
    "   - The confusion matrix shows the distribution of true positive, false positive, true negative, and false negative predictions for each class.\n",
    "     - For **Hit and Run**, the model performs relatively well in identifying this offense (304 true positives). However, it also misclassifies some **Hit and Run** instances as other offenses (e.g., **Assault Simple**, **Suspicious Activity**, etc.).\n",
    "     - **Larceny - All Other** is frequently misclassified as **Hit and Run**, **Suspicious Activity**, and others. This is evident from the large number of off-diagonal elements in its row.\n",
    "     - **Assist Citizen - Mental/TDO/ECO** and **Suspicious Activity** are frequently misclassified, as seen by the off-diagonal values in their rows.\n",
    "\n",
    "### Conclusion:\n",
    "The Random Forest model has low accuracy (28.22%), suggesting that it struggles to predict most offenses accurately. Some offenses like **Hit and Run** are better predicted than others, but overall, the model shows a high level of misclassification across all offenses. There may be a need for further tuning of the model, additional feature engineering, or trying different models for better performance.\n",
    "\n",
    "Let me know if you'd like to improve the model or make adjustments based on these results!\n",
    "\n"
   ]
  },
  {
   "cell_type": "markdown",
   "id": "3f3e0fa2",
   "metadata": {
    "papermill": {
     "duration": 0.010447,
     "end_time": "2025-05-13T01:04:19.903616",
     "exception": false,
     "start_time": "2025-05-13T01:04:19.893169",
     "status": "completed"
    },
    "tags": []
   },
   "source": [
    "### Model Explanation\n",
    "\n",
    "Once we’ve chosen the best model, we will explain its predictions by examining feature importance for tree-based models and using statistical methods like logistic regression coefficients for linear models."
   ]
  },
  {
   "cell_type": "markdown",
   "id": "94f918b9",
   "metadata": {
    "papermill": {
     "duration": 0.010512,
     "end_time": "2025-05-13T01:04:19.924747",
     "exception": false,
     "start_time": "2025-05-13T01:04:19.914235",
     "status": "completed"
    },
    "tags": []
   },
   "source": [
    "#### Feature Importance for Random Forest / Decision Tree\n",
    "\n",
    "##### For Tree-based Models (Random Forest, Decision Tree)\n",
    "\n",
    "For Random Forest or Decision Tree, we can look at feature importance to understand which variables contribute the most to the model's predictions. Here's how you can visualize and interpret the importance of each feature:"
   ]
  },
  {
   "cell_type": "code",
   "execution_count": 23,
   "id": "477b1836",
   "metadata": {
    "execution": {
     "iopub.execute_input": "2025-05-13T01:04:19.947156Z",
     "iopub.status.busy": "2025-05-13T01:04:19.946583Z",
     "iopub.status.idle": "2025-05-13T01:04:20.188422Z",
     "shell.execute_reply": "2025-05-13T01:04:20.187712Z"
    },
    "papermill": {
     "duration": 0.254181,
     "end_time": "2025-05-13T01:04:20.189530",
     "exception": false,
     "start_time": "2025-05-13T01:04:19.935349",
     "status": "completed"
    },
    "tags": []
   },
   "outputs": [
    {
     "data": {
      "image/png": "[encoded data removed]",
      "text/plain": [
       "<Figure size 1000x600 with 1 Axes>"
      ]
     },
     "metadata": {},
     "output_type": "display_data"
    }
   ],
   "source": [
    "# For RandomForest or DecisionTree models, we can check feature importance\n",
    "if isinstance(best_model, RandomForestClassifier) or isinstance(best_model, DecisionTreeClassifier):\n",
    "    feature_importance = best_model.feature_importances_\n",
    "    feature_names = X.columns\n",
    "    importance_df = pd.DataFrame({'Feature': feature_names, 'Importance': feature_importance})\n",
    "    importance_df = importance_df.sort_values(by='Importance', ascending=False)\n",
    "    \n",
    "    # Plotting the feature importances\n",
    "    plt.figure(figsize=(10, 6))\n",
    "    sns.barplot(x='Importance', y='Feature', data=importance_df)\n",
    "    plt.title(\"Feature Importance\")\n",
    "    plt.show()\n"
   ]
  },
  {
   "cell_type": "code",
   "execution_count": null,
   "id": "501a9a6b",
   "metadata": {
    "papermill": {
     "duration": 0.011092,
     "end_time": "2025-05-13T01:04:20.212114",
     "exception": false,
     "start_time": "2025-05-13T01:04:20.201022",
     "status": "completed"
    },
    "tags": []
   },
   "outputs": [],
   "source": []
  },
  {
   "cell_type": "markdown",
   "id": "40de3769",
   "metadata": {
    "papermill": {
     "duration": 0.010992,
     "end_time": "2025-05-13T01:04:20.234136",
     "exception": false,
     "start_time": "2025-05-13T01:04:20.223144",
     "status": "completed"
    },
    "tags": []
   },
   "source": [
    "### Evaluation\n",
    "\n",
    "After training the models and examining their performance, we evaluate the chosen model based on metrics like accuracy, precision, recall, and F1 score.\n",
    "\n"
   ]
  },
  {
   "cell_type": "code",
   "execution_count": 24,
   "id": "9e582a73",
   "metadata": {
    "execution": {
     "iopub.execute_input": "2025-05-13T01:04:20.257267Z",
     "iopub.status.busy": "2025-05-13T01:04:20.256814Z",
     "iopub.status.idle": "2025-05-13T01:04:20.344421Z",
     "shell.execute_reply": "2025-05-13T01:04:20.343893Z"
    },
    "papermill": {
     "duration": 0.10023,
     "end_time": "2025-05-13T01:04:20.345334",
     "exception": false,
     "start_time": "2025-05-13T01:04:20.245104",
     "status": "completed"
    },
    "tags": []
   },
   "outputs": [
    {
     "name": "stdout",
     "output_type": "stream",
     "text": [
      "Accuracy: 0.2890\n",
      "Classification Report:\n",
      "              precision    recall  f1-score   support\n",
      "\n",
      "           0       0.30      0.36      0.33       579\n",
      "           1       0.28      0.23      0.25       407\n",
      "           2       0.30      0.47      0.37       642\n",
      "           3       0.25      0.17      0.20       489\n",
      "           4       0.31      0.21      0.25       375\n",
      "           5       0.22      0.21      0.22       492\n",
      "           6       0.34      0.27      0.30       500\n",
      "\n",
      "    accuracy                           0.29      3484\n",
      "   macro avg       0.29      0.27      0.27      3484\n",
      "weighted avg       0.29      0.29      0.28      3484\n",
      "\n",
      "Confusion Matrix:\n",
      "[[211  70 141  43  17  70  27]\n",
      " [ 97  93  95  24  21  54  23]\n",
      " [ 98  44 303  50  26  72  49]\n",
      " [ 74  29 140  83  41  67  55]\n",
      " [ 46  30  91  37  78  38  55]\n",
      " [107  37 126  36  28 104  54]\n",
      " [ 73  33 102  57  42  58 135]]\n",
      "Precision: 0.2868\n",
      "Recall: 0.2890\n",
      "F1 Score: 0.2810\n"
     ]
    }
   ],
   "source": [
    "from sklearn.metrics import classification_report, confusion_matrix, accuracy_score, precision_score, recall_score, f1_score\n",
    "\n",
    "# Predict on the test set\n",
    "y_pred = best_model.predict(X_test)\n",
    "\n",
    "# Calculate Accuracy\n",
    "accuracy = accuracy_score(y_test, y_pred)\n",
    "print(f\"Accuracy: {accuracy:.4f}\")\n",
    "\n",
    "# Classification Report\n",
    "print(\"Classification Report:\")\n",
    "print(classification_report(y_test, y_pred))\n",
    "\n",
    "# Confusion Matrix\n",
    "conf_matrix = confusion_matrix(y_test, y_pred)\n",
    "print(\"Confusion Matrix:\")\n",
    "print(conf_matrix)\n",
    "\n",
    "# Precision, Recall, F1 Score for each class (Offense Type)\n",
    "precision = precision_score(y_test, y_pred, average='weighted')\n",
    "recall = recall_score(y_test, y_pred, average='weighted')\n",
    "f1 = f1_score(y_test, y_pred, average='weighted')\n",
    "\n",
    "print(f\"Precision: {precision:.4f}\")\n",
    "print(f\"Recall: {recall:.4f}\")\n",
    "print(f\"F1 Score: {f1:.4f}\")\n"
   ]
  },
  {
   "cell_type": "markdown",
   "id": "59511733",
   "metadata": {
    "papermill": {
     "duration": 0.01094,
     "end_time": "2025-05-13T01:04:20.367704",
     "exception": false,
     "start_time": "2025-05-13T01:04:20.356764",
     "status": "completed"
    },
    "tags": []
   },
   "source": [
    "#### For Logistic Regression (Coefficient Interpretation)\n",
    "\n",
    "For Logistic Regression, the model coefficients can help us understand how each feature affects the likelihood of an offense happening. A positive coefficient indicates a feature increases the likelihood of the offense, and a negative coefficient indicates the opposite."
   ]
  },
  {
   "cell_type": "code",
   "execution_count": 25,
   "id": "6c69d80e",
   "metadata": {
    "execution": {
     "iopub.execute_input": "2025-05-13T01:04:20.390637Z",
     "iopub.status.busy": "2025-05-13T01:04:20.390207Z",
     "iopub.status.idle": "2025-05-13T01:04:20.394627Z",
     "shell.execute_reply": "2025-05-13T01:04:20.394087Z"
    },
    "papermill": {
     "duration": 0.016992,
     "end_time": "2025-05-13T01:04:20.395630",
     "exception": false,
     "start_time": "2025-05-13T01:04:20.378638",
     "status": "completed"
    },
    "tags": []
   },
   "outputs": [],
   "source": [
    "if isinstance(best_model, LogisticRegression):\n",
    "    # Logistic regression coefficients\n",
    "    coef_df = pd.DataFrame({\n",
    "        'Feature': X.columns,\n",
    "        'Coefficient': best_model.coef_[0]\n",
    "    })\n",
    "    coef_df['AbsCoefficient'] = coef_df['Coefficient'].abs()\n",
    "    coef_df = coef_df.sort_values(by='AbsCoefficient', ascending=False)\n",
    "    \n",
    "    # Plotting the coefficients\n",
    "    plt.figure(figsize=(10, 6))\n",
    "    sns.barplot(x='AbsCoefficient', y='Feature', data=coef_df)\n",
    "    plt.title(\"Logistic Regression Coefficients Impact\")\n",
    "    plt.show()\n",
    "\n",
    "    # Print the top 5 most impactful features (by absolute coefficient value)\n",
    "    print(\"Top 5 most impactful features based on coefficients:\")\n",
    "    print(coef_df.head())\n"
   ]
  },
  {
   "cell_type": "markdown",
   "id": "2a834f8f",
   "metadata": {
    "papermill": {
     "duration": 0.011041,
     "end_time": "2025-05-13T01:04:20.417773",
     "exception": false,
     "start_time": "2025-05-13T01:04:20.406732",
     "status": "completed"
    },
    "tags": []
   },
   "source": [
    "Explanation of Output:\n",
    "\n",
    "Feature Importance (Random Forest/Decision Tree): The bar plot will show how important each feature is in the decision-making process. Features at the top of the list are the most influential in predicting the occurrence of offenses.\n",
    "\n",
    "Logistic Regression Coefficients: The bar plot will show the magnitude of the coefficients for each feature. Features with larger absolute values (either positive or negative) have a stronger impact on the model’s predictions. Positive coefficients increase the probability of an offense, while negative coefficients decrease it."
   ]
  },
  {
   "cell_type": "markdown",
   "id": "f1b32847",
   "metadata": {
    "papermill": {
     "duration": 0.010982,
     "end_time": "2025-05-13T01:04:20.439867",
     "exception": false,
     "start_time": "2025-05-13T01:04:20.428885",
     "status": "completed"
    },
    "tags": []
   },
   "source": []
  }
 ],
 "metadata": {
  "kernelspec": {
   "display_name": "Python 3",
   "language": "python",
   "name": "python3"
  },
  "language_info": {
   "codemirror_mode": {
    "name": "ipython",
    "version": 3
   },
   "file_extension": ".py",
   "mimetype": "text/x-python",
   "name": "python",
   "nbconvert_exporter": "python",
   "pygments_lexer": "ipython3",
   "version": "3.9.22"
  },
  "papermill": {
   "default_parameters": {},
   "duration": 79.418279,
   "end_time": "2025-05-13T01:04:20.866872",
   "environment_variables": {},
   "exception": null,
   "input_path": "notebook/Crime Data.ipynb",
   "output_path": "notebook/Crime Data_output.ipynb",
   "parameters": {},
   "start_time": "2025-05-13T01:03:01.448593",
   "version": "2.6.0"
  }
 },
 "nbformat": 4,
 "nbformat_minor": 5
}