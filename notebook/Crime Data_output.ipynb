{
 "cells": [
  {
   "cell_type": "markdown",
   "id": "c78d0aec",
   "metadata": {
    "papermill": {
     "duration": 0.004384,
     "end_time": "2025-06-10T01:05:08.614092",
     "exception": false,
     "start_time": "2025-06-10T01:05:08.609708",
     "status": "completed"
    },
    "tags": []
   },
   "source": [
    "# Charlottesville Open Data Porttal: Crime Data"
   ]
  },
  {
   "cell_type": "markdown",
   "id": "cccb12b0",
   "metadata": {
    "papermill": {
     "duration": 0.003208,
     "end_time": "2025-06-10T01:05:08.620898",
     "exception": false,
     "start_time": "2025-06-10T01:05:08.617690",
     "status": "completed"
    },
    "tags": []
   },
   "source": [
    "## Import Relevant Librarires & Set WD"
   ]
  },
  {
   "cell_type": "code",
   "execution_count": 1,
   "id": "640962c4",
   "metadata": {
    "execution": {
     "iopub.execute_input": "2025-06-10T01:05:08.628989Z",
     "iopub.status.busy": "2025-06-10T01:05:08.628387Z",
     "iopub.status.idle": "2025-06-10T01:05:09.136768Z",
     "shell.execute_reply": "2025-06-10T01:05:09.136136Z"
    },
    "papermill": {
     "duration": 0.514178,
     "end_time": "2025-06-10T01:05:09.138273",
     "exception": false,
     "start_time": "2025-06-10T01:05:08.624095",
     "status": "completed"
    },
    "tags": []
   },
   "outputs": [],
   "source": [
    "import requests\n",
    "import pandas as pd\n",
    "import numpy as np\n",
    "import pickle\n",
    "import googlemaps\n",
    "import plotly.express as px\n",
    "from geopy.geocoders import Nominatim\n",
    "import time\n",
    "from dotenv import load_dotenv\n",
    "import os\n",
    "\n",
    "env_path = os.path.join(\"..\", \".env\")\n",
    "#print(\"Looking for .env file at:\", os.path.abspath(env_path))\n",
    "load_dotenv(dotenv_path=env_path)\n",
    "\n",
    "# Retrieve the variables\n",
    "GOOGLE_API_KEY = os.getenv(\"GOOGLE_API_KEY\")\n",
    "WORKING_DIR = os.getenv(\"WORKING_DIR\")\n",
    "\n",
    "if GOOGLE_API_KEY is None or WORKING_DIR is None:\n",
    "    raise RuntimeError(\"No configuration found. Please ensure that your .env file exists with the required variables, or create a local config.py file.\")\n",
    "\n",
    "#print(\"Google API Key:\", GOOGLE_API_KEY)\n",
    "#print(\"Working Directory:\", WORKING_DIR)"
   ]
  },
  {
   "cell_type": "markdown",
   "id": "6329528a",
   "metadata": {
    "papermill": {
     "duration": 0.003257,
     "end_time": "2025-06-10T01:05:09.145212",
     "exception": false,
     "start_time": "2025-06-10T01:05:09.141955",
     "status": "completed"
    },
    "tags": []
   },
   "source": [
    "## Import Data\n",
    "\n",
    "URL: https://opendata.charlottesville.org/datasets/charlottesville::crime-data/about"
   ]
  },
  {
   "cell_type": "code",
   "execution_count": 2,
   "id": "5a515ced",
   "metadata": {
    "execution": {
     "iopub.execute_input": "2025-06-10T01:05:09.153104Z",
     "iopub.status.busy": "2025-06-10T01:05:09.152484Z",
     "iopub.status.idle": "2025-06-10T01:06:14.852995Z",
     "shell.execute_reply": "2025-06-10T01:06:14.852212Z"
    },
    "papermill": {
     "duration": 65.708684,
     "end_time": "2025-06-10T01:06:14.857228",
     "exception": false,
     "start_time": "2025-06-10T01:05:09.148544",
     "status": "completed"
    },
    "tags": []
   },
   "outputs": [
    {
     "name": "stdout",
     "output_type": "stream",
     "text": [
      "Total records imported: 25469\n"
     ]
    }
   ],
   "source": [
    "# Define the endpoint and initial parameters.\n",
    "url = \"https://gisweb.charlottesville.org/arcgis/rest/services/OpenData_2/MapServer/6/query\"\n",
    "params = {\n",
    "    \"where\": \"1=1\",\n",
    "    \"outFields\": \"*\",\n",
    "    \"outSR\": 4326,\n",
    "    \"f\": \"json\",\n",
    "    \"resultOffset\": 0,       # Starting index for results\n",
    "    \"resultRecordCount\": 10000  # Maximum records per batch (if allowed by the API)\n",
    "}\n",
    "\n",
    "records = []\n",
    "\n",
    "while True:\n",
    "    response = requests.get(url, params=params)\n",
    "    response.raise_for_status()\n",
    "    data = response.json()\n",
    "    \n",
    "    # Get the current batch of features.\n",
    "    features = data.get(\"features\", [])\n",
    "    if not features:\n",
    "        break\n",
    "\n",
    "    # Extract the attributes from the features.\n",
    "    batch_records = [feature.get(\"attributes\", {}) for feature in features]\n",
    "    records.extend(batch_records)\n",
    "    \n",
    "    # If the batch size is less than the requested count, we reached the end.\n",
    "    if len(features) < params[\"resultRecordCount\"]:\n",
    "        break\n",
    "\n",
    "    # Update the resultOffset for the next batch.\n",
    "    params[\"resultOffset\"] += params[\"resultRecordCount\"]\n",
    "\n",
    "# Create a DataFrame from the combined records.\n",
    "df = pd.DataFrame(records)\n",
    "print(\"Total records imported:\", len(df))\n"
   ]
  },
  {
   "cell_type": "code",
   "execution_count": 3,
   "id": "74d8d3fa",
   "metadata": {
    "execution": {
     "iopub.execute_input": "2025-06-10T01:06:14.865129Z",
     "iopub.status.busy": "2025-06-10T01:06:14.864879Z",
     "iopub.status.idle": "2025-06-10T01:06:14.877318Z",
     "shell.execute_reply": "2025-06-10T01:06:14.876753Z"
    },
    "papermill": {
     "duration": 0.017625,
     "end_time": "2025-06-10T01:06:14.878354",
     "exception": false,
     "start_time": "2025-06-10T01:06:14.860729",
     "status": "completed"
    },
    "tags": []
   },
   "outputs": [
    {
     "data": {
      "text/html": [
       "<div>\n",
       "<style scoped>\n",
       "    .dataframe tbody tr th:only-of-type {\n",
       "        vertical-align: middle;\n",
       "    }\n",
       "\n",
       "    .dataframe tbody tr th {\n",
       "        vertical-align: top;\n",
       "    }\n",
       "\n",
       "    .dataframe thead th {\n",
       "        text-align: right;\n",
       "    }\n",
       "</style>\n",
       "<table border=\"1\" class=\"dataframe\">\n",
       "  <thead>\n",
       "    <tr style=\"text-align: right;\">\n",
       "      <th></th>\n",
       "      <th>RecordID</th>\n",
       "      <th>Offense</th>\n",
       "      <th>IncidentID</th>\n",
       "      <th>BlockNumber</th>\n",
       "      <th>StreetName</th>\n",
       "      <th>Agency</th>\n",
       "      <th>DateReported</th>\n",
       "      <th>HourReported</th>\n",
       "      <th>ReportingOfficer</th>\n",
       "    </tr>\n",
       "  </thead>\n",
       "  <tbody>\n",
       "    <tr>\n",
       "      <th>0</th>\n",
       "      <td>1</td>\n",
       "      <td>Sex Offense - Forcible Rape</td>\n",
       "      <td>202500019539</td>\n",
       "      <td>200</td>\n",
       "      <td>W MAIN ST</td>\n",
       "      <td>CPD</td>\n",
       "      <td>1749346416000</td>\n",
       "      <td>2133</td>\n",
       "      <td>Benbow, Lauren</td>\n",
       "    </tr>\n",
       "    <tr>\n",
       "      <th>1</th>\n",
       "      <td>2</td>\n",
       "      <td>Larceny - Shoplifitng</td>\n",
       "      <td>202500019503</td>\n",
       "      <td>1100</td>\n",
       "      <td>5TH ST SW</td>\n",
       "      <td>CPD</td>\n",
       "      <td>1749327272000</td>\n",
       "      <td>1614</td>\n",
       "      <td>Schwartz, Honora</td>\n",
       "    </tr>\n",
       "    <tr>\n",
       "      <th>2</th>\n",
       "      <td>3</td>\n",
       "      <td>Missing Person-adult</td>\n",
       "      <td>202500019496</td>\n",
       "      <td>900</td>\n",
       "      <td>PRESTON AVE</td>\n",
       "      <td>CPD</td>\n",
       "      <td>1749324681000</td>\n",
       "      <td>1531</td>\n",
       "      <td>Abdelgayed, Adam</td>\n",
       "    </tr>\n",
       "    <tr>\n",
       "      <th>3</th>\n",
       "      <td>4</td>\n",
       "      <td>Hit and Run</td>\n",
       "      <td>202500019493</td>\n",
       "      <td></td>\n",
       "      <td>EMMET ST N / EARHART ST</td>\n",
       "      <td>CPD</td>\n",
       "      <td>1749322567000</td>\n",
       "      <td>1456</td>\n",
       "      <td>Wisser, Shawn</td>\n",
       "    </tr>\n",
       "    <tr>\n",
       "      <th>4</th>\n",
       "      <td>5</td>\n",
       "      <td>Larceny - Shoplifitng</td>\n",
       "      <td>202500019492</td>\n",
       "      <td>200</td>\n",
       "      <td>E MAIN ST</td>\n",
       "      <td>CPD</td>\n",
       "      <td>1749321276000</td>\n",
       "      <td>1434</td>\n",
       "      <td>Kirby, Tyree</td>\n",
       "    </tr>\n",
       "  </tbody>\n",
       "</table>\n",
       "</div>"
      ],
      "text/plain": [
       "   RecordID                      Offense    IncidentID BlockNumber  \\\n",
       "0         1  Sex Offense - Forcible Rape  202500019539         200   \n",
       "1         2        Larceny - Shoplifitng  202500019503        1100   \n",
       "2         3         Missing Person-adult  202500019496         900   \n",
       "3         4                  Hit and Run  202500019493               \n",
       "4         5        Larceny - Shoplifitng  202500019492         200   \n",
       "\n",
       "                StreetName Agency   DateReported HourReported  \\\n",
       "0                W MAIN ST    CPD  1749346416000         2133   \n",
       "1                5TH ST SW    CPD  1749327272000         1614   \n",
       "2              PRESTON AVE    CPD  1749324681000         1531   \n",
       "3  EMMET ST N / EARHART ST    CPD  1749322567000         1456   \n",
       "4                E MAIN ST    CPD  1749321276000         1434   \n",
       "\n",
       "   ReportingOfficer  \n",
       "0    Benbow, Lauren  \n",
       "1  Schwartz, Honora  \n",
       "2  Abdelgayed, Adam  \n",
       "3     Wisser, Shawn  \n",
       "4      Kirby, Tyree  "
      ]
     },
     "execution_count": 3,
     "metadata": {},
     "output_type": "execute_result"
    }
   ],
   "source": [
    "df.head()"
   ]
  },
  {
   "cell_type": "code",
   "execution_count": 4,
   "id": "84ecac26",
   "metadata": {
    "execution": {
     "iopub.execute_input": "2025-06-10T01:06:14.886598Z",
     "iopub.status.busy": "2025-06-10T01:06:14.886179Z",
     "iopub.status.idle": "2025-06-10T01:06:14.890498Z",
     "shell.execute_reply": "2025-06-10T01:06:14.889889Z"
    },
    "papermill": {
     "duration": 0.00962,
     "end_time": "2025-06-10T01:06:14.891659",
     "exception": false,
     "start_time": "2025-06-10T01:06:14.882039",
     "status": "completed"
    },
    "tags": []
   },
   "outputs": [
    {
     "data": {
      "text/plain": [
       "Index(['RecordID', 'Offense', 'IncidentID', 'BlockNumber', 'StreetName',\n",
       "       'Agency', 'DateReported', 'HourReported', 'ReportingOfficer'],\n",
       "      dtype='object')"
      ]
     },
     "execution_count": 4,
     "metadata": {},
     "output_type": "execute_result"
    }
   ],
   "source": [
    "df.columns"
   ]
  },
  {
   "cell_type": "code",
   "execution_count": 5,
   "id": "6bf22cab",
   "metadata": {
    "execution": {
     "iopub.execute_input": "2025-06-10T01:06:14.900565Z",
     "iopub.status.busy": "2025-06-10T01:06:14.900211Z",
     "iopub.status.idle": "2025-06-10T01:06:14.921758Z",
     "shell.execute_reply": "2025-06-10T01:06:14.921100Z"
    },
    "papermill": {
     "duration": 0.027477,
     "end_time": "2025-06-10T01:06:14.922925",
     "exception": false,
     "start_time": "2025-06-10T01:06:14.895448",
     "status": "completed"
    },
    "tags": []
   },
   "outputs": [
    {
     "name": "stdout",
     "output_type": "stream",
     "text": [
      "<class 'pandas.core.frame.DataFrame'>\n",
      "RangeIndex: 25469 entries, 0 to 25468\n",
      "Data columns (total 9 columns):\n",
      " #   Column            Non-Null Count  Dtype \n",
      "---  ------            --------------  ----- \n",
      " 0   RecordID          25469 non-null  int64 \n",
      " 1   Offense           25469 non-null  object\n",
      " 2   IncidentID        25469 non-null  object\n",
      " 3   BlockNumber       25469 non-null  object\n",
      " 4   StreetName        25469 non-null  object\n",
      " 5   Agency            25469 non-null  object\n",
      " 6   DateReported      25469 non-null  int64 \n",
      " 7   HourReported      25469 non-null  object\n",
      " 8   ReportingOfficer  25452 non-null  object\n",
      "dtypes: int64(2), object(7)\n",
      "memory usage: 1.7+ MB\n"
     ]
    }
   ],
   "source": [
    "df.info()"
   ]
  },
  {
   "cell_type": "markdown",
   "id": "32d05e8f",
   "metadata": {
    "papermill": {
     "duration": 0.00365,
     "end_time": "2025-06-10T01:06:14.930407",
     "exception": false,
     "start_time": "2025-06-10T01:06:14.926757",
     "status": "completed"
    },
    "tags": []
   },
   "source": [
    "### Missing Values"
   ]
  },
  {
   "cell_type": "code",
   "execution_count": 6,
   "id": "9713e361",
   "metadata": {
    "execution": {
     "iopub.execute_input": "2025-06-10T01:06:14.962429Z",
     "iopub.status.busy": "2025-06-10T01:06:14.961947Z",
     "iopub.status.idle": "2025-06-10T01:06:14.985073Z",
     "shell.execute_reply": "2025-06-10T01:06:14.984483Z"
    },
    "papermill": {
     "duration": 0.02885,
     "end_time": "2025-06-10T01:06:14.986157",
     "exception": false,
     "start_time": "2025-06-10T01:06:14.957307",
     "status": "completed"
    },
    "tags": []
   },
   "outputs": [
    {
     "name": "stdout",
     "output_type": "stream",
     "text": [
      "                  MissingCount  MissingPercentage\n",
      "RecordID                     0               0.00\n",
      "Offense                      0               0.00\n",
      "IncidentID                   0               0.00\n",
      "BlockNumber                  0               0.00\n",
      "StreetName                   0               0.00\n",
      "Agency                       0               0.00\n",
      "DateReported                 0               0.00\n",
      "HourReported                 0               0.00\n",
      "ReportingOfficer            17               0.07\n"
     ]
    }
   ],
   "source": [
    "def missing_percentage(df):\n",
    "    \"\"\"\n",
    "    Returns a DataFrame with the count and percentage of missing values for each column.\n",
    "    \n",
    "    Parameters:\n",
    "        df (pd.DataFrame): The input DataFrame.\n",
    "    \n",
    "    Returns:\n",
    "        pd.DataFrame: A DataFrame with columns 'MissingCount' and 'MissingPercentage'.\n",
    "    \"\"\"\n",
    "    total_rows = len(df)\n",
    "    missing_count = df.isnull().sum()\n",
    "    missing_percent = (missing_count / total_rows) * 100\n",
    "    \n",
    "    result = pd.DataFrame({\n",
    "        'MissingCount': missing_count,\n",
    "        'MissingPercentage': missing_percent.round(2)\n",
    "    })\n",
    "    \n",
    "    return result\n",
    "\n",
    "# Example usage:\n",
    "missing_info = missing_percentage(df)\n",
    "print(missing_info)\n"
   ]
  },
  {
   "cell_type": "markdown",
   "id": "f797c8d2",
   "metadata": {
    "papermill": {
     "duration": 0.003933,
     "end_time": "2025-06-10T01:06:14.994270",
     "exception": false,
     "start_time": "2025-06-10T01:06:14.990337",
     "status": "completed"
    },
    "tags": []
   },
   "source": [
    "## Data Preparation"
   ]
  },
  {
   "cell_type": "markdown",
   "id": "37160370",
   "metadata": {
    "papermill": {
     "duration": 0.003786,
     "end_time": "2025-06-10T01:06:15.001931",
     "exception": false,
     "start_time": "2025-06-10T01:06:14.998145",
     "status": "completed"
    },
    "tags": []
   },
   "source": [
    "### Data Conversion"
   ]
  },
  {
   "cell_type": "code",
   "execution_count": 7,
   "id": "7f2d1349",
   "metadata": {
    "execution": {
     "iopub.execute_input": "2025-06-10T01:06:15.010911Z",
     "iopub.status.busy": "2025-06-10T01:06:15.010373Z",
     "iopub.status.idle": "2025-06-10T01:06:15.366977Z",
     "shell.execute_reply": "2025-06-10T01:06:15.366262Z"
    },
    "papermill": {
     "duration": 0.362201,
     "end_time": "2025-06-10T01:06:15.368058",
     "exception": false,
     "start_time": "2025-06-10T01:06:15.005857",
     "status": "completed"
    },
    "tags": []
   },
   "outputs": [
    {
     "data": {
      "text/html": [
       "<div>\n",
       "<style scoped>\n",
       "    .dataframe tbody tr th:only-of-type {\n",
       "        vertical-align: middle;\n",
       "    }\n",
       "\n",
       "    .dataframe tbody tr th {\n",
       "        vertical-align: top;\n",
       "    }\n",
       "\n",
       "    .dataframe thead th {\n",
       "        text-align: right;\n",
       "    }\n",
       "</style>\n",
       "<table border=\"1\" class=\"dataframe\">\n",
       "  <thead>\n",
       "    <tr style=\"text-align: right;\">\n",
       "      <th></th>\n",
       "      <th>RecordID</th>\n",
       "      <th>Offense</th>\n",
       "      <th>IncidentID</th>\n",
       "      <th>BlockNumber</th>\n",
       "      <th>StreetName</th>\n",
       "      <th>Agency</th>\n",
       "      <th>HourReported</th>\n",
       "      <th>ReportingOfficer</th>\n",
       "      <th>Date</th>\n",
       "      <th>DateString</th>\n",
       "      <th>DayOfWeek</th>\n",
       "      <th>Weekend</th>\n",
       "      <th>Season</th>\n",
       "      <th>HourAMPM</th>\n",
       "      <th>TimeOfDay</th>\n",
       "    </tr>\n",
       "  </thead>\n",
       "  <tbody>\n",
       "    <tr>\n",
       "      <th>0</th>\n",
       "      <td>1</td>\n",
       "      <td>Sex Offense - Forcible Rape</td>\n",
       "      <td>202500019539</td>\n",
       "      <td>200</td>\n",
       "      <td>W MAIN ST</td>\n",
       "      <td>CPD</td>\n",
       "      <td>2133</td>\n",
       "      <td>Benbow, Lauren</td>\n",
       "      <td>2025-06-07 21:33:36</td>\n",
       "      <td>2025-06-07 09:33:36 PM</td>\n",
       "      <td>Saturday</td>\n",
       "      <td>True</td>\n",
       "      <td>Spring</td>\n",
       "      <td>09:33 PM</td>\n",
       "      <td>Night</td>\n",
       "    </tr>\n",
       "    <tr>\n",
       "      <th>1</th>\n",
       "      <td>2</td>\n",
       "      <td>Larceny - Shoplifitng</td>\n",
       "      <td>202500019503</td>\n",
       "      <td>1100</td>\n",
       "      <td>5TH ST SW</td>\n",
       "      <td>CPD</td>\n",
       "      <td>1614</td>\n",
       "      <td>Schwartz, Honora</td>\n",
       "      <td>2025-06-07 16:14:32</td>\n",
       "      <td>2025-06-07 04:14:32 PM</td>\n",
       "      <td>Saturday</td>\n",
       "      <td>True</td>\n",
       "      <td>Spring</td>\n",
       "      <td>04:14 PM</td>\n",
       "      <td>Afternoon</td>\n",
       "    </tr>\n",
       "    <tr>\n",
       "      <th>2</th>\n",
       "      <td>3</td>\n",
       "      <td>Missing Person-adult</td>\n",
       "      <td>202500019496</td>\n",
       "      <td>900</td>\n",
       "      <td>PRESTON AVE</td>\n",
       "      <td>CPD</td>\n",
       "      <td>1531</td>\n",
       "      <td>Abdelgayed, Adam</td>\n",
       "      <td>2025-06-07 15:31:21</td>\n",
       "      <td>2025-06-07 03:31:21 PM</td>\n",
       "      <td>Saturday</td>\n",
       "      <td>True</td>\n",
       "      <td>Spring</td>\n",
       "      <td>03:31 PM</td>\n",
       "      <td>Afternoon</td>\n",
       "    </tr>\n",
       "    <tr>\n",
       "      <th>3</th>\n",
       "      <td>4</td>\n",
       "      <td>Hit and Run</td>\n",
       "      <td>202500019493</td>\n",
       "      <td></td>\n",
       "      <td>EMMET ST N / EARHART ST</td>\n",
       "      <td>CPD</td>\n",
       "      <td>1456</td>\n",
       "      <td>Wisser, Shawn</td>\n",
       "      <td>2025-06-07 14:56:07</td>\n",
       "      <td>2025-06-07 02:56:07 PM</td>\n",
       "      <td>Saturday</td>\n",
       "      <td>True</td>\n",
       "      <td>Spring</td>\n",
       "      <td>02:56 PM</td>\n",
       "      <td>Afternoon</td>\n",
       "    </tr>\n",
       "    <tr>\n",
       "      <th>4</th>\n",
       "      <td>5</td>\n",
       "      <td>Larceny - Shoplifitng</td>\n",
       "      <td>202500019492</td>\n",
       "      <td>200</td>\n",
       "      <td>E MAIN ST</td>\n",
       "      <td>CPD</td>\n",
       "      <td>1434</td>\n",
       "      <td>Kirby, Tyree</td>\n",
       "      <td>2025-06-07 14:34:36</td>\n",
       "      <td>2025-06-07 02:34:36 PM</td>\n",
       "      <td>Saturday</td>\n",
       "      <td>True</td>\n",
       "      <td>Spring</td>\n",
       "      <td>02:34 PM</td>\n",
       "      <td>Afternoon</td>\n",
       "    </tr>\n",
       "  </tbody>\n",
       "</table>\n",
       "</div>"
      ],
      "text/plain": [
       "   RecordID                      Offense    IncidentID BlockNumber  \\\n",
       "0         1  Sex Offense - Forcible Rape  202500019539         200   \n",
       "1         2        Larceny - Shoplifitng  202500019503        1100   \n",
       "2         3         Missing Person-adult  202500019496         900   \n",
       "3         4                  Hit and Run  202500019493               \n",
       "4         5        Larceny - Shoplifitng  202500019492         200   \n",
       "\n",
       "                StreetName Agency HourReported  ReportingOfficer  \\\n",
       "0                W MAIN ST    CPD         2133    Benbow, Lauren   \n",
       "1                5TH ST SW    CPD         1614  Schwartz, Honora   \n",
       "2              PRESTON AVE    CPD         1531  Abdelgayed, Adam   \n",
       "3  EMMET ST N / EARHART ST    CPD         1456     Wisser, Shawn   \n",
       "4                E MAIN ST    CPD         1434      Kirby, Tyree   \n",
       "\n",
       "                 Date              DateString DayOfWeek  Weekend  Season  \\\n",
       "0 2025-06-07 21:33:36  2025-06-07 09:33:36 PM  Saturday     True  Spring   \n",
       "1 2025-06-07 16:14:32  2025-06-07 04:14:32 PM  Saturday     True  Spring   \n",
       "2 2025-06-07 15:31:21  2025-06-07 03:31:21 PM  Saturday     True  Spring   \n",
       "3 2025-06-07 14:56:07  2025-06-07 02:56:07 PM  Saturday     True  Spring   \n",
       "4 2025-06-07 14:34:36  2025-06-07 02:34:36 PM  Saturday     True  Spring   \n",
       "\n",
       "   HourAMPM  TimeOfDay  \n",
       "0  09:33 PM      Night  \n",
       "1  04:14 PM  Afternoon  \n",
       "2  03:31 PM  Afternoon  \n",
       "3  02:56 PM  Afternoon  \n",
       "4  02:34 PM  Afternoon  "
      ]
     },
     "execution_count": 7,
     "metadata": {},
     "output_type": "execute_result"
    }
   ],
   "source": [
    "def convert_and_categorize_datereported(df, col='DateReported'):\n",
    "    \"\"\"\n",
    "    Converts an epoch (in milliseconds) date column into a timezone-aware datetime,\n",
    "    converts it to Eastern Time, and then creates columns for day-of-week, weekend flag,\n",
    "    season, 12-hour formatted time, and time-of-day. Keeps both a real datetime column\n",
    "    (Date) and a string representation (DateString).\n",
    "    \"\"\"\n",
    "    import pandas as pd\n",
    "\n",
    "    # Convert the epoch timestamp to a pandas datetime object as UTC, then convert to US/Eastern.\n",
    "    df[\"DateReported_dt\"] = (\n",
    "        pd.to_datetime(df[col], unit=\"ms\", errors=\"coerce\", utc=True)\n",
    "        .dt.tz_convert(\"US/Eastern\")\n",
    "    )\n",
    "    \n",
    "    # Create a true datetime column (remove timezone if you prefer naive datetime)\n",
    "    df[\"Date\"] = df[\"DateReported_dt\"].dt.tz_localize(None)\n",
    "\n",
    "    # Optionally, create a separate string-formatted column\n",
    "    df[\"DateString\"] = df[\"DateReported_dt\"].dt.strftime(\"%Y-%m-%d %I:%M:%S %p\")\n",
    "    \n",
    "    # DayOfWeek\n",
    "    df[\"DayOfWeek\"] = df[\"DateReported_dt\"].dt.day_name()\n",
    "    \n",
    "    # Weekend\n",
    "    df[\"Weekend\"] = df[\"DayOfWeek\"].isin([\"Saturday\", \"Sunday\"])\n",
    "    \n",
    "    # Helper function to determine the season\n",
    "    def get_season(dt):\n",
    "        month = dt.month\n",
    "        day = dt.day\n",
    "        # Approximate Northern Hemisphere season boundaries:\n",
    "        if (month == 12 and day >= 21) or (month < 3) or (month == 3 and day < 20):\n",
    "            return \"Winter\"\n",
    "        elif (month == 3 and day >= 20) or (month < 6) or (month == 6 and day < 21):\n",
    "            return \"Spring\"\n",
    "        elif (month == 6 and day >= 21) or (month < 9) or (month == 9 and day < 22):\n",
    "            return \"Summer\"\n",
    "        else:\n",
    "            return \"Autumn\"\n",
    "    \n",
    "    df[\"Season\"] = df[\"DateReported_dt\"].apply(get_season)\n",
    "    \n",
    "    # 12-hour formatted time (HourAMPM)\n",
    "    df[\"HourAMPM\"] = df[\"DateReported_dt\"].dt.strftime(\"%I:%M %p\")\n",
    "    \n",
    "    # Extract hour (0-23) for time-of-day\n",
    "    df[\"HourValue\"] = df[\"DateReported_dt\"].dt.hour\n",
    "    \n",
    "    def time_of_day(hour):\n",
    "        if pd.isnull(hour):\n",
    "            return None\n",
    "        if 5 <= hour < 12:\n",
    "            return \"Morning\"\n",
    "        elif 12 <= hour < 17:\n",
    "            return \"Afternoon\"\n",
    "        elif 17 <= hour < 21:\n",
    "            return \"Evening\"\n",
    "        else:\n",
    "            return \"Night\"\n",
    "    \n",
    "    df[\"TimeOfDay\"] = df[\"HourValue\"].apply(time_of_day)\n",
    "    \n",
    "    # Drop columns you no longer need\n",
    "    df.drop(columns=[col, \"DateReported_dt\", \"HourValue\"], inplace=True)\n",
    "    \n",
    "    return df\n",
    "\n",
    "# Example usage:\n",
    "df = convert_and_categorize_datereported(df)\n",
    "df.head()\n"
   ]
  },
  {
   "cell_type": "code",
   "execution_count": 8,
   "id": "df147b49",
   "metadata": {
    "execution": {
     "iopub.execute_input": "2025-06-10T01:06:15.377554Z",
     "iopub.status.busy": "2025-06-10T01:06:15.377301Z",
     "iopub.status.idle": "2025-06-10T01:06:15.402758Z",
     "shell.execute_reply": "2025-06-10T01:06:15.402185Z"
    },
    "papermill": {
     "duration": 0.03136,
     "end_time": "2025-06-10T01:06:15.403761",
     "exception": false,
     "start_time": "2025-06-10T01:06:15.372401",
     "status": "completed"
    },
    "tags": []
   },
   "outputs": [
    {
     "name": "stdout",
     "output_type": "stream",
     "text": [
      "<class 'pandas.core.frame.DataFrame'>\n",
      "RangeIndex: 25469 entries, 0 to 25468\n",
      "Data columns (total 15 columns):\n",
      " #   Column            Non-Null Count  Dtype         \n",
      "---  ------            --------------  -----         \n",
      " 0   RecordID          25469 non-null  int64         \n",
      " 1   Offense           25469 non-null  object        \n",
      " 2   IncidentID        25469 non-null  object        \n",
      " 3   BlockNumber       25469 non-null  object        \n",
      " 4   StreetName        25469 non-null  object        \n",
      " 5   Agency            25469 non-null  object        \n",
      " 6   HourReported      25469 non-null  object        \n",
      " 7   ReportingOfficer  25452 non-null  object        \n",
      " 8   Date              25469 non-null  datetime64[ns]\n",
      " 9   DateString        25469 non-null  object        \n",
      " 10  DayOfWeek         25469 non-null  object        \n",
      " 11  Weekend           25469 non-null  bool          \n",
      " 12  Season            25469 non-null  object        \n",
      " 13  HourAMPM          25469 non-null  object        \n",
      " 14  TimeOfDay         25469 non-null  object        \n",
      "dtypes: bool(1), datetime64[ns](1), int64(1), object(12)\n",
      "memory usage: 2.7+ MB\n"
     ]
    }
   ],
   "source": [
    "df.info()"
   ]
  },
  {
   "cell_type": "markdown",
   "id": "a18f40dd",
   "metadata": {
    "papermill": {
     "duration": 0.004162,
     "end_time": "2025-06-10T01:06:15.412217",
     "exception": false,
     "start_time": "2025-06-10T01:06:15.408055",
     "status": "completed"
    },
    "tags": []
   },
   "source": [
    "### Coordinates"
   ]
  },
  {
   "cell_type": "code",
   "execution_count": 9,
   "id": "1683cead",
   "metadata": {
    "execution": {
     "iopub.execute_input": "2025-06-10T01:06:15.423854Z",
     "iopub.status.busy": "2025-06-10T01:06:15.423614Z",
     "iopub.status.idle": "2025-06-10T01:06:15.467424Z",
     "shell.execute_reply": "2025-06-10T01:06:15.466845Z"
    },
    "papermill": {
     "duration": 0.049502,
     "end_time": "2025-06-10T01:06:15.468394",
     "exception": false,
     "start_time": "2025-06-10T01:06:15.418892",
     "status": "completed"
    },
    "tags": []
   },
   "outputs": [
    {
     "name": "stdout",
     "output_type": "stream",
     "text": [
      "Loaded geocode cache.\n",
      "Geocode cache updated and saved.\n"
     ]
    },
    {
     "data": {
      "text/html": [
       "<div>\n",
       "<style scoped>\n",
       "    .dataframe tbody tr th:only-of-type {\n",
       "        vertical-align: middle;\n",
       "    }\n",
       "\n",
       "    .dataframe tbody tr th {\n",
       "        vertical-align: top;\n",
       "    }\n",
       "\n",
       "    .dataframe thead th {\n",
       "        text-align: right;\n",
       "    }\n",
       "</style>\n",
       "<table border=\"1\" class=\"dataframe\">\n",
       "  <thead>\n",
       "    <tr style=\"text-align: right;\">\n",
       "      <th></th>\n",
       "      <th>RecordID</th>\n",
       "      <th>Offense</th>\n",
       "      <th>IncidentID</th>\n",
       "      <th>BlockNumber</th>\n",
       "      <th>StreetName</th>\n",
       "      <th>Agency</th>\n",
       "      <th>HourReported</th>\n",
       "      <th>ReportingOfficer</th>\n",
       "      <th>Date</th>\n",
       "      <th>DateString</th>\n",
       "      <th>DayOfWeek</th>\n",
       "      <th>Weekend</th>\n",
       "      <th>Season</th>\n",
       "      <th>HourAMPM</th>\n",
       "      <th>TimeOfDay</th>\n",
       "      <th>FullStreet</th>\n",
       "      <th>lat</th>\n",
       "      <th>lon</th>\n",
       "    </tr>\n",
       "  </thead>\n",
       "  <tbody>\n",
       "    <tr>\n",
       "      <th>0</th>\n",
       "      <td>1</td>\n",
       "      <td>Sex Offense - Forcible Rape</td>\n",
       "      <td>202500019539</td>\n",
       "      <td>200</td>\n",
       "      <td>W MAIN ST</td>\n",
       "      <td>CPD</td>\n",
       "      <td>2133</td>\n",
       "      <td>Benbow, Lauren</td>\n",
       "      <td>2025-06-07 21:33:36</td>\n",
       "      <td>2025-06-07 09:33:36 PM</td>\n",
       "      <td>Saturday</td>\n",
       "      <td>True</td>\n",
       "      <td>Spring</td>\n",
       "      <td>09:33 PM</td>\n",
       "      <td>Night</td>\n",
       "      <td>200 W MAIN ST</td>\n",
       "      <td>38.030841</td>\n",
       "      <td>-78.482517</td>\n",
       "    </tr>\n",
       "    <tr>\n",
       "      <th>1</th>\n",
       "      <td>2</td>\n",
       "      <td>Larceny - Shoplifitng</td>\n",
       "      <td>202500019503</td>\n",
       "      <td>1100</td>\n",
       "      <td>5TH ST SW</td>\n",
       "      <td>CPD</td>\n",
       "      <td>1614</td>\n",
       "      <td>Schwartz, Honora</td>\n",
       "      <td>2025-06-07 16:14:32</td>\n",
       "      <td>2025-06-07 04:14:32 PM</td>\n",
       "      <td>Saturday</td>\n",
       "      <td>True</td>\n",
       "      <td>Spring</td>\n",
       "      <td>04:14 PM</td>\n",
       "      <td>Afternoon</td>\n",
       "      <td>1100 5TH ST SW</td>\n",
       "      <td>38.017130</td>\n",
       "      <td>-78.497806</td>\n",
       "    </tr>\n",
       "    <tr>\n",
       "      <th>2</th>\n",
       "      <td>3</td>\n",
       "      <td>Missing Person-adult</td>\n",
       "      <td>202500019496</td>\n",
       "      <td>900</td>\n",
       "      <td>PRESTON AVE</td>\n",
       "      <td>CPD</td>\n",
       "      <td>1531</td>\n",
       "      <td>Abdelgayed, Adam</td>\n",
       "      <td>2025-06-07 15:31:21</td>\n",
       "      <td>2025-06-07 03:31:21 PM</td>\n",
       "      <td>Saturday</td>\n",
       "      <td>True</td>\n",
       "      <td>Spring</td>\n",
       "      <td>03:31 PM</td>\n",
       "      <td>Afternoon</td>\n",
       "      <td>900 PRESTON AVE</td>\n",
       "      <td>38.037011</td>\n",
       "      <td>-78.489464</td>\n",
       "    </tr>\n",
       "    <tr>\n",
       "      <th>3</th>\n",
       "      <td>4</td>\n",
       "      <td>Hit and Run</td>\n",
       "      <td>202500019493</td>\n",
       "      <td></td>\n",
       "      <td>EMMET ST N / EARHART ST</td>\n",
       "      <td>CPD</td>\n",
       "      <td>1456</td>\n",
       "      <td>Wisser, Shawn</td>\n",
       "      <td>2025-06-07 14:56:07</td>\n",
       "      <td>2025-06-07 02:56:07 PM</td>\n",
       "      <td>Saturday</td>\n",
       "      <td>True</td>\n",
       "      <td>Spring</td>\n",
       "      <td>02:56 PM</td>\n",
       "      <td>Afternoon</td>\n",
       "      <td>EMMET ST N / EARHART ST</td>\n",
       "      <td>38.056041</td>\n",
       "      <td>-78.496501</td>\n",
       "    </tr>\n",
       "    <tr>\n",
       "      <th>4</th>\n",
       "      <td>5</td>\n",
       "      <td>Larceny - Shoplifitng</td>\n",
       "      <td>202500019492</td>\n",
       "      <td>200</td>\n",
       "      <td>E MAIN ST</td>\n",
       "      <td>CPD</td>\n",
       "      <td>1434</td>\n",
       "      <td>Kirby, Tyree</td>\n",
       "      <td>2025-06-07 14:34:36</td>\n",
       "      <td>2025-06-07 02:34:36 PM</td>\n",
       "      <td>Saturday</td>\n",
       "      <td>True</td>\n",
       "      <td>Spring</td>\n",
       "      <td>02:34 PM</td>\n",
       "      <td>Afternoon</td>\n",
       "      <td>200 E MAIN ST</td>\n",
       "      <td>38.030572</td>\n",
       "      <td>-78.480764</td>\n",
       "    </tr>\n",
       "  </tbody>\n",
       "</table>\n",
       "</div>"
      ],
      "text/plain": [
       "   RecordID                      Offense    IncidentID BlockNumber  \\\n",
       "0         1  Sex Offense - Forcible Rape  202500019539         200   \n",
       "1         2        Larceny - Shoplifitng  202500019503        1100   \n",
       "2         3         Missing Person-adult  202500019496         900   \n",
       "3         4                  Hit and Run  202500019493               \n",
       "4         5        Larceny - Shoplifitng  202500019492         200   \n",
       "\n",
       "                StreetName Agency HourReported  ReportingOfficer  \\\n",
       "0                W MAIN ST    CPD         2133    Benbow, Lauren   \n",
       "1                5TH ST SW    CPD         1614  Schwartz, Honora   \n",
       "2              PRESTON AVE    CPD         1531  Abdelgayed, Adam   \n",
       "3  EMMET ST N / EARHART ST    CPD         1456     Wisser, Shawn   \n",
       "4                E MAIN ST    CPD         1434      Kirby, Tyree   \n",
       "\n",
       "                 Date              DateString DayOfWeek  Weekend  Season  \\\n",
       "0 2025-06-07 21:33:36  2025-06-07 09:33:36 PM  Saturday     True  Spring   \n",
       "1 2025-06-07 16:14:32  2025-06-07 04:14:32 PM  Saturday     True  Spring   \n",
       "2 2025-06-07 15:31:21  2025-06-07 03:31:21 PM  Saturday     True  Spring   \n",
       "3 2025-06-07 14:56:07  2025-06-07 02:56:07 PM  Saturday     True  Spring   \n",
       "4 2025-06-07 14:34:36  2025-06-07 02:34:36 PM  Saturday     True  Spring   \n",
       "\n",
       "   HourAMPM  TimeOfDay                FullStreet        lat        lon  \n",
       "0  09:33 PM      Night             200 W MAIN ST  38.030841 -78.482517  \n",
       "1  04:14 PM  Afternoon            1100 5TH ST SW  38.017130 -78.497806  \n",
       "2  03:31 PM  Afternoon           900 PRESTON AVE  38.037011 -78.489464  \n",
       "3  02:56 PM  Afternoon   EMMET ST N / EARHART ST  38.056041 -78.496501  \n",
       "4  02:34 PM  Afternoon             200 E MAIN ST  38.030572 -78.480764  "
      ]
     },
     "execution_count": 9,
     "metadata": {},
     "output_type": "execute_result"
    }
   ],
   "source": [
    "# Combine BlockNumber and StreetName into a full address string\n",
    "df['FullStreet'] = df['BlockNumber'].astype(str) + \" \" + df['StreetName']\n",
    "\n",
    "# --- Step 1: Setup the Google Maps Client and Cache ---\n",
    "gmaps = googlemaps.Client(key=GOOGLE_API_KEY)\n",
    "\n",
    "# Try to load cached geocoding results if available.\n",
    "try:\n",
    "    with open(\"geocode_cache_google.pkl\", \"rb\") as f:\n",
    "        street_coords = pickle.load(f)\n",
    "    print(\"Loaded geocode cache.\")\n",
    "except FileNotFoundError:\n",
    "    street_coords = {}\n",
    "    print(\"No cache found; starting fresh.\")\n",
    "\n",
    "def geocode_address(address):\n",
    "    try:\n",
    "        # Append city and state to help geocoding\n",
    "        result = gmaps.geocode(f\"{address}, Charlottesville, VA\")\n",
    "        if result:\n",
    "            lat = result[0]['geometry']['location']['lat']\n",
    "            lon = result[0]['geometry']['location']['lng']\n",
    "            return lat, lon\n",
    "    except Exception as e:\n",
    "        print(f\"Error geocoding {address}: {e}\")\n",
    "    return None, None\n",
    "\n",
    "# --- Step 2: Geocode Only New Addresses ---\n",
    "unique_addresses = df['FullStreet'].unique()\n",
    "for address in unique_addresses:\n",
    "    if address not in street_coords:\n",
    "        lat, lon = geocode_address(address)\n",
    "        street_coords[address] = (lat, lon)\n",
    "        print(f\"Geocoded {address}: {lat}, {lon}\")\n",
    "\n",
    "# Save the updated cache to disk.\n",
    "with open(\"geocode_cache_google.pkl\", \"wb\") as f:\n",
    "    pickle.dump(street_coords, f)\n",
    "    print(\"Geocode cache updated and saved.\")\n",
    "\n",
    "# --- Step 3: Map Coordinates Back to DataFrame ---\n",
    "df['lat'] = df['FullStreet'].map(lambda s: street_coords.get(s, (None, None))[0])\n",
    "df['lon'] = df['FullStreet'].map(lambda s: street_coords.get(s, (None, None))[1])\n",
    "\n",
    "df.head()"
   ]
  },
  {
   "cell_type": "markdown",
   "id": "bb6ac56d",
   "metadata": {
    "papermill": {
     "duration": 0.004471,
     "end_time": "2025-06-10T01:06:15.477602",
     "exception": false,
     "start_time": "2025-06-10T01:06:15.473131",
     "status": "completed"
    },
    "tags": []
   },
   "source": [
    "### Neighborhood"
   ]
  },
  {
   "cell_type": "code",
   "execution_count": 10,
   "id": "834fe97b",
   "metadata": {
    "execution": {
     "iopub.execute_input": "2025-06-10T01:06:15.487501Z",
     "iopub.status.busy": "2025-06-10T01:06:15.487006Z",
     "iopub.status.idle": "2025-06-10T01:06:16.109082Z",
     "shell.execute_reply": "2025-06-10T01:06:16.108378Z"
    },
    "papermill": {
     "duration": 0.62824,
     "end_time": "2025-06-10T01:06:16.110191",
     "exception": false,
     "start_time": "2025-06-10T01:06:15.481951",
     "status": "completed"
    },
    "tags": []
   },
   "outputs": [
    {
     "name": "stdout",
     "output_type": "stream",
     "text": [
      "Loaded neighborhood cache.\n"
     ]
    },
    {
     "name": "stdout",
     "output_type": "stream",
     "text": [
      "Error getting neighborhood for nan, nan: HTTP Error: 400\n"
     ]
    },
    {
     "name": "stdout",
     "output_type": "stream",
     "text": [
      "Error getting neighborhood for nan, nan: HTTP Error: 400\n",
      "Error getting neighborhood for nan, nan: HTTP Error: 400\n"
     ]
    },
    {
     "name": "stdout",
     "output_type": "stream",
     "text": [
      "Error getting neighborhood for nan, nan: HTTP Error: 400\n",
      "Error getting neighborhood for nan, nan: HTTP Error: 400\n",
      "Error getting neighborhood for nan, nan: HTTP Error: 400\n",
      "Error getting neighborhood for nan, nan: HTTP Error: 400\n"
     ]
    },
    {
     "name": "stdout",
     "output_type": "stream",
     "text": [
      "Error getting neighborhood for nan, nan: HTTP Error: 400\n"
     ]
    },
    {
     "name": "stdout",
     "output_type": "stream",
     "text": [
      "Error getting neighborhood for nan, nan: HTTP Error: 400\n",
      "Error getting neighborhood for nan, nan: HTTP Error: 400\n"
     ]
    },
    {
     "data": {
      "text/html": [
       "<div>\n",
       "<style scoped>\n",
       "    .dataframe tbody tr th:only-of-type {\n",
       "        vertical-align: middle;\n",
       "    }\n",
       "\n",
       "    .dataframe tbody tr th {\n",
       "        vertical-align: top;\n",
       "    }\n",
       "\n",
       "    .dataframe thead th {\n",
       "        text-align: right;\n",
       "    }\n",
       "</style>\n",
       "<table border=\"1\" class=\"dataframe\">\n",
       "  <thead>\n",
       "    <tr style=\"text-align: right;\">\n",
       "      <th></th>\n",
       "      <th>RecordID</th>\n",
       "      <th>Offense</th>\n",
       "      <th>IncidentID</th>\n",
       "      <th>BlockNumber</th>\n",
       "      <th>StreetName</th>\n",
       "      <th>Agency</th>\n",
       "      <th>HourReported</th>\n",
       "      <th>ReportingOfficer</th>\n",
       "      <th>Date</th>\n",
       "      <th>DateString</th>\n",
       "      <th>DayOfWeek</th>\n",
       "      <th>Weekend</th>\n",
       "      <th>Season</th>\n",
       "      <th>HourAMPM</th>\n",
       "      <th>TimeOfDay</th>\n",
       "      <th>FullStreet</th>\n",
       "      <th>lat</th>\n",
       "      <th>lon</th>\n",
       "      <th>neighborhood</th>\n",
       "    </tr>\n",
       "  </thead>\n",
       "  <tbody>\n",
       "    <tr>\n",
       "      <th>0</th>\n",
       "      <td>1</td>\n",
       "      <td>Sex Offense - Forcible Rape</td>\n",
       "      <td>202500019539</td>\n",
       "      <td>200</td>\n",
       "      <td>W MAIN ST</td>\n",
       "      <td>CPD</td>\n",
       "      <td>2133</td>\n",
       "      <td>Benbow, Lauren</td>\n",
       "      <td>2025-06-07 21:33:36</td>\n",
       "      <td>2025-06-07 09:33:36 PM</td>\n",
       "      <td>Saturday</td>\n",
       "      <td>True</td>\n",
       "      <td>Spring</td>\n",
       "      <td>09:33 PM</td>\n",
       "      <td>Night</td>\n",
       "      <td>200 W MAIN ST</td>\n",
       "      <td>38.030841</td>\n",
       "      <td>-78.482517</td>\n",
       "      <td>Downtown Mall</td>\n",
       "    </tr>\n",
       "    <tr>\n",
       "      <th>1</th>\n",
       "      <td>2</td>\n",
       "      <td>Larceny - Shoplifitng</td>\n",
       "      <td>202500019503</td>\n",
       "      <td>1100</td>\n",
       "      <td>5TH ST SW</td>\n",
       "      <td>CPD</td>\n",
       "      <td>1614</td>\n",
       "      <td>Schwartz, Honora</td>\n",
       "      <td>2025-06-07 16:14:32</td>\n",
       "      <td>2025-06-07 04:14:32 PM</td>\n",
       "      <td>Saturday</td>\n",
       "      <td>True</td>\n",
       "      <td>Spring</td>\n",
       "      <td>04:14 PM</td>\n",
       "      <td>Afternoon</td>\n",
       "      <td>1100 5TH ST SW</td>\n",
       "      <td>38.017130</td>\n",
       "      <td>-78.497806</td>\n",
       "      <td>Johnson Village</td>\n",
       "    </tr>\n",
       "    <tr>\n",
       "      <th>2</th>\n",
       "      <td>3</td>\n",
       "      <td>Missing Person-adult</td>\n",
       "      <td>202500019496</td>\n",
       "      <td>900</td>\n",
       "      <td>PRESTON AVE</td>\n",
       "      <td>CPD</td>\n",
       "      <td>1531</td>\n",
       "      <td>Abdelgayed, Adam</td>\n",
       "      <td>2025-06-07 15:31:21</td>\n",
       "      <td>2025-06-07 03:31:21 PM</td>\n",
       "      <td>Saturday</td>\n",
       "      <td>True</td>\n",
       "      <td>Spring</td>\n",
       "      <td>03:31 PM</td>\n",
       "      <td>Afternoon</td>\n",
       "      <td>900 PRESTON AVE</td>\n",
       "      <td>38.037011</td>\n",
       "      <td>-78.489464</td>\n",
       "      <td>10th &amp; Page</td>\n",
       "    </tr>\n",
       "    <tr>\n",
       "      <th>3</th>\n",
       "      <td>4</td>\n",
       "      <td>Hit and Run</td>\n",
       "      <td>202500019493</td>\n",
       "      <td></td>\n",
       "      <td>EMMET ST N / EARHART ST</td>\n",
       "      <td>CPD</td>\n",
       "      <td>1456</td>\n",
       "      <td>Wisser, Shawn</td>\n",
       "      <td>2025-06-07 14:56:07</td>\n",
       "      <td>2025-06-07 02:56:07 PM</td>\n",
       "      <td>Saturday</td>\n",
       "      <td>True</td>\n",
       "      <td>Spring</td>\n",
       "      <td>02:56 PM</td>\n",
       "      <td>Afternoon</td>\n",
       "      <td>EMMET ST N / EARHART ST</td>\n",
       "      <td>38.056041</td>\n",
       "      <td>-78.496501</td>\n",
       "      <td>The Meadows</td>\n",
       "    </tr>\n",
       "    <tr>\n",
       "      <th>4</th>\n",
       "      <td>5</td>\n",
       "      <td>Larceny - Shoplifitng</td>\n",
       "      <td>202500019492</td>\n",
       "      <td>200</td>\n",
       "      <td>E MAIN ST</td>\n",
       "      <td>CPD</td>\n",
       "      <td>1434</td>\n",
       "      <td>Kirby, Tyree</td>\n",
       "      <td>2025-06-07 14:34:36</td>\n",
       "      <td>2025-06-07 02:34:36 PM</td>\n",
       "      <td>Saturday</td>\n",
       "      <td>True</td>\n",
       "      <td>Spring</td>\n",
       "      <td>02:34 PM</td>\n",
       "      <td>Afternoon</td>\n",
       "      <td>200 E MAIN ST</td>\n",
       "      <td>38.030572</td>\n",
       "      <td>-78.480764</td>\n",
       "      <td>Downtown Mall</td>\n",
       "    </tr>\n",
       "  </tbody>\n",
       "</table>\n",
       "</div>"
      ],
      "text/plain": [
       "   RecordID                      Offense    IncidentID BlockNumber  \\\n",
       "0         1  Sex Offense - Forcible Rape  202500019539         200   \n",
       "1         2        Larceny - Shoplifitng  202500019503        1100   \n",
       "2         3         Missing Person-adult  202500019496         900   \n",
       "3         4                  Hit and Run  202500019493               \n",
       "4         5        Larceny - Shoplifitng  202500019492         200   \n",
       "\n",
       "                StreetName Agency HourReported  ReportingOfficer  \\\n",
       "0                W MAIN ST    CPD         2133    Benbow, Lauren   \n",
       "1                5TH ST SW    CPD         1614  Schwartz, Honora   \n",
       "2              PRESTON AVE    CPD         1531  Abdelgayed, Adam   \n",
       "3  EMMET ST N / EARHART ST    CPD         1456     Wisser, Shawn   \n",
       "4                E MAIN ST    CPD         1434      Kirby, Tyree   \n",
       "\n",
       "                 Date              DateString DayOfWeek  Weekend  Season  \\\n",
       "0 2025-06-07 21:33:36  2025-06-07 09:33:36 PM  Saturday     True  Spring   \n",
       "1 2025-06-07 16:14:32  2025-06-07 04:14:32 PM  Saturday     True  Spring   \n",
       "2 2025-06-07 15:31:21  2025-06-07 03:31:21 PM  Saturday     True  Spring   \n",
       "3 2025-06-07 14:56:07  2025-06-07 02:56:07 PM  Saturday     True  Spring   \n",
       "4 2025-06-07 14:34:36  2025-06-07 02:34:36 PM  Saturday     True  Spring   \n",
       "\n",
       "   HourAMPM  TimeOfDay                FullStreet        lat        lon  \\\n",
       "0  09:33 PM      Night             200 W MAIN ST  38.030841 -78.482517   \n",
       "1  04:14 PM  Afternoon            1100 5TH ST SW  38.017130 -78.497806   \n",
       "2  03:31 PM  Afternoon           900 PRESTON AVE  38.037011 -78.489464   \n",
       "3  02:56 PM  Afternoon   EMMET ST N / EARHART ST  38.056041 -78.496501   \n",
       "4  02:34 PM  Afternoon             200 E MAIN ST  38.030572 -78.480764   \n",
       "\n",
       "      neighborhood  \n",
       "0    Downtown Mall  \n",
       "1  Johnson Village  \n",
       "2      10th & Page  \n",
       "3      The Meadows  \n",
       "4    Downtown Mall  "
      ]
     },
     "execution_count": 10,
     "metadata": {},
     "output_type": "execute_result"
    }
   ],
   "source": [
    "# Initialize the Google Maps client.\n",
    "gmaps = googlemaps.Client(key=GOOGLE_API_KEY)\n",
    "\n",
    "# Try to load a persistent neighborhood cache if available.\n",
    "try:\n",
    "    with open(\"neighborhood_cache.pkl\", \"rb\") as f:\n",
    "        neighborhood_cache = pickle.load(f)\n",
    "    print(\"Loaded neighborhood cache.\")\n",
    "except FileNotFoundError:\n",
    "    neighborhood_cache = {}\n",
    "    print(\"No neighborhood cache found; starting fresh.\")\n",
    "\n",
    "def get_neighborhood(lat, lon):\n",
    "    \"\"\"\n",
    "    Reverse geocodes a latitude and longitude to retrieve the neighborhood.\n",
    "    Caches results to speed up subsequent lookups.\n",
    "    \"\"\"\n",
    "    key = (lat, lon)\n",
    "    if key in neighborhood_cache:\n",
    "        return neighborhood_cache[key]\n",
    "    \n",
    "    try:\n",
    "        result = gmaps.reverse_geocode((lat, lon))\n",
    "        if result:\n",
    "            # Look for the 'neighborhood' component in the first result.\n",
    "            for component in result[0]['address_components']:\n",
    "                if 'neighborhood' in component['types']:\n",
    "                    neighborhood = component['long_name']\n",
    "                    neighborhood_cache[key] = neighborhood\n",
    "                    return neighborhood\n",
    "            # If no neighborhood is found, return \"N/A\"\n",
    "            neighborhood_cache[key] = \"N/A\"\n",
    "            return \"N/A\"\n",
    "    except Exception as e:\n",
    "        print(f\"Error getting neighborhood for {lat}, {lon}: {e}\")\n",
    "        return \"N/A\"\n",
    "    \n",
    "    # Pause to respect usage limits.\n",
    "    time.sleep(1)\n",
    "\n",
    "# Example usage: Apply to your DataFrame 'df' that already has 'lat' and 'lon' columns.\n",
    "df['neighborhood'] = df.apply(lambda row: get_neighborhood(row['lat'], row['lon']), axis=1)\n",
    "\n",
    "# Save the updated neighborhood cache.\n",
    "with open(\"neighborhood_cache.pkl\", \"wb\") as f:\n",
    "    pickle.dump(neighborhood_cache, f)\n",
    "\n",
    "df.head()\n"
   ]
  },
  {
   "cell_type": "markdown",
   "id": "fd5aa06e",
   "metadata": {
    "papermill": {
     "duration": 0.004885,
     "end_time": "2025-06-10T01:06:16.120204",
     "exception": false,
     "start_time": "2025-06-10T01:06:16.115319",
     "status": "completed"
    },
    "tags": []
   },
   "source": [
    "### Zip"
   ]
  },
  {
   "cell_type": "code",
   "execution_count": 11,
   "id": "3738dc3f",
   "metadata": {
    "execution": {
     "iopub.execute_input": "2025-06-10T01:06:16.130999Z",
     "iopub.status.busy": "2025-06-10T01:06:16.130573Z",
     "iopub.status.idle": "2025-06-10T01:06:26.385904Z",
     "shell.execute_reply": "2025-06-10T01:06:26.385287Z"
    },
    "papermill": {
     "duration": 10.261917,
     "end_time": "2025-06-10T01:06:26.387026",
     "exception": false,
     "start_time": "2025-06-10T01:06:16.125109",
     "status": "completed"
    },
    "tags": []
   },
   "outputs": [
    {
     "name": "stdout",
     "output_type": "stream",
     "text": [
      "Loaded zip cache.\n",
      "Error getting ZIP for nan, nan: Must be a coordinate pair or Point\n"
     ]
    },
    {
     "name": "stdout",
     "output_type": "stream",
     "text": [
      "Error getting ZIP for nan, nan: Must be a coordinate pair or Point\n"
     ]
    },
    {
     "name": "stdout",
     "output_type": "stream",
     "text": [
      "Error getting ZIP for nan, nan: Must be a coordinate pair or Point\n"
     ]
    },
    {
     "name": "stdout",
     "output_type": "stream",
     "text": [
      "Error getting ZIP for nan, nan: Must be a coordinate pair or Point\n"
     ]
    },
    {
     "name": "stdout",
     "output_type": "stream",
     "text": [
      "Error getting ZIP for nan, nan: Must be a coordinate pair or Point\n"
     ]
    },
    {
     "name": "stdout",
     "output_type": "stream",
     "text": [
      "Error getting ZIP for nan, nan: Must be a coordinate pair or Point\n"
     ]
    },
    {
     "name": "stdout",
     "output_type": "stream",
     "text": [
      "Error getting ZIP for nan, nan: Must be a coordinate pair or Point\n"
     ]
    },
    {
     "name": "stdout",
     "output_type": "stream",
     "text": [
      "Error getting ZIP for nan, nan: Must be a coordinate pair or Point\n"
     ]
    },
    {
     "name": "stdout",
     "output_type": "stream",
     "text": [
      "Error getting ZIP for nan, nan: Must be a coordinate pair or Point\n"
     ]
    },
    {
     "name": "stdout",
     "output_type": "stream",
     "text": [
      "Error getting ZIP for nan, nan: Must be a coordinate pair or Point\n"
     ]
    },
    {
     "data": {
      "text/html": [
       "<div>\n",
       "<style scoped>\n",
       "    .dataframe tbody tr th:only-of-type {\n",
       "        vertical-align: middle;\n",
       "    }\n",
       "\n",
       "    .dataframe tbody tr th {\n",
       "        vertical-align: top;\n",
       "    }\n",
       "\n",
       "    .dataframe thead th {\n",
       "        text-align: right;\n",
       "    }\n",
       "</style>\n",
       "<table border=\"1\" class=\"dataframe\">\n",
       "  <thead>\n",
       "    <tr style=\"text-align: right;\">\n",
       "      <th></th>\n",
       "      <th>RecordID</th>\n",
       "      <th>Offense</th>\n",
       "      <th>IncidentID</th>\n",
       "      <th>BlockNumber</th>\n",
       "      <th>StreetName</th>\n",
       "      <th>Agency</th>\n",
       "      <th>HourReported</th>\n",
       "      <th>ReportingOfficer</th>\n",
       "      <th>Date</th>\n",
       "      <th>DateString</th>\n",
       "      <th>DayOfWeek</th>\n",
       "      <th>Weekend</th>\n",
       "      <th>Season</th>\n",
       "      <th>HourAMPM</th>\n",
       "      <th>TimeOfDay</th>\n",
       "      <th>FullStreet</th>\n",
       "      <th>lat</th>\n",
       "      <th>lon</th>\n",
       "      <th>neighborhood</th>\n",
       "      <th>zip</th>\n",
       "    </tr>\n",
       "  </thead>\n",
       "  <tbody>\n",
       "    <tr>\n",
       "      <th>0</th>\n",
       "      <td>1</td>\n",
       "      <td>Sex Offense - Forcible Rape</td>\n",
       "      <td>202500019539</td>\n",
       "      <td>200</td>\n",
       "      <td>W MAIN ST</td>\n",
       "      <td>CPD</td>\n",
       "      <td>2133</td>\n",
       "      <td>Benbow, Lauren</td>\n",
       "      <td>2025-06-07 21:33:36</td>\n",
       "      <td>2025-06-07 09:33:36 PM</td>\n",
       "      <td>Saturday</td>\n",
       "      <td>True</td>\n",
       "      <td>Spring</td>\n",
       "      <td>09:33 PM</td>\n",
       "      <td>Night</td>\n",
       "      <td>200 W MAIN ST</td>\n",
       "      <td>38.030841</td>\n",
       "      <td>-78.482517</td>\n",
       "      <td>Downtown Mall</td>\n",
       "      <td>22902</td>\n",
       "    </tr>\n",
       "    <tr>\n",
       "      <th>1</th>\n",
       "      <td>2</td>\n",
       "      <td>Larceny - Shoplifitng</td>\n",
       "      <td>202500019503</td>\n",
       "      <td>1100</td>\n",
       "      <td>5TH ST SW</td>\n",
       "      <td>CPD</td>\n",
       "      <td>1614</td>\n",
       "      <td>Schwartz, Honora</td>\n",
       "      <td>2025-06-07 16:14:32</td>\n",
       "      <td>2025-06-07 04:14:32 PM</td>\n",
       "      <td>Saturday</td>\n",
       "      <td>True</td>\n",
       "      <td>Spring</td>\n",
       "      <td>04:14 PM</td>\n",
       "      <td>Afternoon</td>\n",
       "      <td>1100 5TH ST SW</td>\n",
       "      <td>38.017130</td>\n",
       "      <td>-78.497806</td>\n",
       "      <td>Johnson Village</td>\n",
       "      <td>22903</td>\n",
       "    </tr>\n",
       "    <tr>\n",
       "      <th>2</th>\n",
       "      <td>3</td>\n",
       "      <td>Missing Person-adult</td>\n",
       "      <td>202500019496</td>\n",
       "      <td>900</td>\n",
       "      <td>PRESTON AVE</td>\n",
       "      <td>CPD</td>\n",
       "      <td>1531</td>\n",
       "      <td>Abdelgayed, Adam</td>\n",
       "      <td>2025-06-07 15:31:21</td>\n",
       "      <td>2025-06-07 03:31:21 PM</td>\n",
       "      <td>Saturday</td>\n",
       "      <td>True</td>\n",
       "      <td>Spring</td>\n",
       "      <td>03:31 PM</td>\n",
       "      <td>Afternoon</td>\n",
       "      <td>900 PRESTON AVE</td>\n",
       "      <td>38.037011</td>\n",
       "      <td>-78.489464</td>\n",
       "      <td>10th &amp; Page</td>\n",
       "      <td>22903</td>\n",
       "    </tr>\n",
       "    <tr>\n",
       "      <th>3</th>\n",
       "      <td>4</td>\n",
       "      <td>Hit and Run</td>\n",
       "      <td>202500019493</td>\n",
       "      <td></td>\n",
       "      <td>EMMET ST N / EARHART ST</td>\n",
       "      <td>CPD</td>\n",
       "      <td>1456</td>\n",
       "      <td>Wisser, Shawn</td>\n",
       "      <td>2025-06-07 14:56:07</td>\n",
       "      <td>2025-06-07 02:56:07 PM</td>\n",
       "      <td>Saturday</td>\n",
       "      <td>True</td>\n",
       "      <td>Spring</td>\n",
       "      <td>02:56 PM</td>\n",
       "      <td>Afternoon</td>\n",
       "      <td>EMMET ST N / EARHART ST</td>\n",
       "      <td>38.056041</td>\n",
       "      <td>-78.496501</td>\n",
       "      <td>The Meadows</td>\n",
       "      <td>22903</td>\n",
       "    </tr>\n",
       "    <tr>\n",
       "      <th>4</th>\n",
       "      <td>5</td>\n",
       "      <td>Larceny - Shoplifitng</td>\n",
       "      <td>202500019492</td>\n",
       "      <td>200</td>\n",
       "      <td>E MAIN ST</td>\n",
       "      <td>CPD</td>\n",
       "      <td>1434</td>\n",
       "      <td>Kirby, Tyree</td>\n",
       "      <td>2025-06-07 14:34:36</td>\n",
       "      <td>2025-06-07 02:34:36 PM</td>\n",
       "      <td>Saturday</td>\n",
       "      <td>True</td>\n",
       "      <td>Spring</td>\n",
       "      <td>02:34 PM</td>\n",
       "      <td>Afternoon</td>\n",
       "      <td>200 E MAIN ST</td>\n",
       "      <td>38.030572</td>\n",
       "      <td>-78.480764</td>\n",
       "      <td>Downtown Mall</td>\n",
       "      <td>22902</td>\n",
       "    </tr>\n",
       "  </tbody>\n",
       "</table>\n",
       "</div>"
      ],
      "text/plain": [
       "   RecordID                      Offense    IncidentID BlockNumber  \\\n",
       "0         1  Sex Offense - Forcible Rape  202500019539         200   \n",
       "1         2        Larceny - Shoplifitng  202500019503        1100   \n",
       "2         3         Missing Person-adult  202500019496         900   \n",
       "3         4                  Hit and Run  202500019493               \n",
       "4         5        Larceny - Shoplifitng  202500019492         200   \n",
       "\n",
       "                StreetName Agency HourReported  ReportingOfficer  \\\n",
       "0                W MAIN ST    CPD         2133    Benbow, Lauren   \n",
       "1                5TH ST SW    CPD         1614  Schwartz, Honora   \n",
       "2              PRESTON AVE    CPD         1531  Abdelgayed, Adam   \n",
       "3  EMMET ST N / EARHART ST    CPD         1456     Wisser, Shawn   \n",
       "4                E MAIN ST    CPD         1434      Kirby, Tyree   \n",
       "\n",
       "                 Date              DateString DayOfWeek  Weekend  Season  \\\n",
       "0 2025-06-07 21:33:36  2025-06-07 09:33:36 PM  Saturday     True  Spring   \n",
       "1 2025-06-07 16:14:32  2025-06-07 04:14:32 PM  Saturday     True  Spring   \n",
       "2 2025-06-07 15:31:21  2025-06-07 03:31:21 PM  Saturday     True  Spring   \n",
       "3 2025-06-07 14:56:07  2025-06-07 02:56:07 PM  Saturday     True  Spring   \n",
       "4 2025-06-07 14:34:36  2025-06-07 02:34:36 PM  Saturday     True  Spring   \n",
       "\n",
       "   HourAMPM  TimeOfDay                FullStreet        lat        lon  \\\n",
       "0  09:33 PM      Night             200 W MAIN ST  38.030841 -78.482517   \n",
       "1  04:14 PM  Afternoon            1100 5TH ST SW  38.017130 -78.497806   \n",
       "2  03:31 PM  Afternoon           900 PRESTON AVE  38.037011 -78.489464   \n",
       "3  02:56 PM  Afternoon   EMMET ST N / EARHART ST  38.056041 -78.496501   \n",
       "4  02:34 PM  Afternoon             200 E MAIN ST  38.030572 -78.480764   \n",
       "\n",
       "      neighborhood    zip  \n",
       "0    Downtown Mall  22902  \n",
       "1  Johnson Village  22903  \n",
       "2      10th & Page  22903  \n",
       "3      The Meadows  22903  \n",
       "4    Downtown Mall  22902  "
      ]
     },
     "execution_count": 11,
     "metadata": {},
     "output_type": "execute_result"
    }
   ],
   "source": [
    "# Initialize the geocoder.\n",
    "geolocator = Nominatim(user_agent=\"zip_lookup\")\n",
    "\n",
    "# Try to load a persistent ZIP cache if available.\n",
    "try:\n",
    "    with open(\"zip_cache.pkl\", \"rb\") as f:\n",
    "        zip_cache = pickle.load(f)\n",
    "    print(\"Loaded zip cache.\")\n",
    "except FileNotFoundError:\n",
    "    zip_cache = {}\n",
    "    print(\"No zip cache found; starting fresh.\")\n",
    "\n",
    "def get_zip(lat, lon):\n",
    "    \"\"\"\n",
    "    Reverse geocodes a latitude and longitude to retrieve the ZIP code.\n",
    "    Caches results to speed up subsequent lookups.\n",
    "    \"\"\"\n",
    "    key = (lat, lon)\n",
    "    if key in zip_cache:\n",
    "        return zip_cache[key]\n",
    "    \n",
    "    try:\n",
    "        location = geolocator.reverse((lat, lon), exactly_one=True, timeout=10)\n",
    "        address = location.raw.get('address', {})\n",
    "        postal_code = address.get('postcode', \"N/A\")\n",
    "    except Exception as e:\n",
    "        print(f\"Error getting ZIP for {lat}, {lon}: {e}\")\n",
    "        postal_code = \"N/A\"\n",
    "    \n",
    "    zip_cache[key] = postal_code\n",
    "    # Pause to respect the usage policy.\n",
    "    time.sleep(1)\n",
    "    return postal_code\n",
    "\n",
    "# Apply the function to each row in the DataFrame.\n",
    "df['zip'] = df.apply(lambda row: get_zip(row['lat'], row['lon']), axis=1)\n",
    "\n",
    "# Save the updated ZIP cache.\n",
    "with open(\"zip_cache.pkl\", \"wb\") as f:\n",
    "    pickle.dump(zip_cache, f)\n",
    "\n",
    "df.head()\n"
   ]
  },
  {
   "cell_type": "code",
   "execution_count": 12,
   "id": "ca543268",
   "metadata": {
    "execution": {
     "iopub.execute_input": "2025-06-10T01:06:26.399374Z",
     "iopub.status.busy": "2025-06-10T01:06:26.398947Z",
     "iopub.status.idle": "2025-06-10T01:06:26.426743Z",
     "shell.execute_reply": "2025-06-10T01:06:26.426185Z"
    },
    "papermill": {
     "duration": 0.034923,
     "end_time": "2025-06-10T01:06:26.427781",
     "exception": false,
     "start_time": "2025-06-10T01:06:26.392858",
     "status": "completed"
    },
    "tags": []
   },
   "outputs": [
    {
     "name": "stdout",
     "output_type": "stream",
     "text": [
      "                  MissingCount  MissingPercentage\n",
      "RecordID                     0               0.00\n",
      "Offense                      0               0.00\n",
      "IncidentID                   0               0.00\n",
      "BlockNumber                  0               0.00\n",
      "StreetName                   0               0.00\n",
      "Agency                       0               0.00\n",
      "HourReported                 0               0.00\n",
      "ReportingOfficer            17               0.07\n",
      "Date                         0               0.00\n",
      "DateString                   0               0.00\n",
      "DayOfWeek                    0               0.00\n",
      "Weekend                      0               0.00\n",
      "Season                       0               0.00\n",
      "HourAMPM                     0               0.00\n",
      "TimeOfDay                    0               0.00\n",
      "FullStreet                   0               0.00\n",
      "lat                         10               0.04\n",
      "lon                         10               0.04\n",
      "neighborhood                 0               0.00\n",
      "zip                          0               0.00\n"
     ]
    }
   ],
   "source": [
    "missing_info = missing_percentage(df)\n",
    "print(missing_info)\n"
   ]
  },
  {
   "cell_type": "code",
   "execution_count": 13,
   "id": "993edb17",
   "metadata": {
    "execution": {
     "iopub.execute_input": "2025-06-10T01:06:26.440534Z",
     "iopub.status.busy": "2025-06-10T01:06:26.440133Z",
     "iopub.status.idle": "2025-06-10T01:06:26.467716Z",
     "shell.execute_reply": "2025-06-10T01:06:26.467199Z"
    },
    "papermill": {
     "duration": 0.035124,
     "end_time": "2025-06-10T01:06:26.468803",
     "exception": false,
     "start_time": "2025-06-10T01:06:26.433679",
     "status": "completed"
    },
    "tags": []
   },
   "outputs": [
    {
     "name": "stdout",
     "output_type": "stream",
     "text": [
      "<class 'pandas.core.frame.DataFrame'>\n",
      "RangeIndex: 25469 entries, 0 to 25468\n",
      "Data columns (total 20 columns):\n",
      " #   Column            Non-Null Count  Dtype         \n",
      "---  ------            --------------  -----         \n",
      " 0   RecordID          25469 non-null  int64         \n",
      " 1   Offense           25469 non-null  object        \n",
      " 2   IncidentID        25469 non-null  object        \n",
      " 3   BlockNumber       25469 non-null  object        \n",
      " 4   StreetName        25469 non-null  object        \n",
      " 5   Agency            25469 non-null  object        \n",
      " 6   HourReported      25469 non-null  object        \n",
      " 7   ReportingOfficer  25452 non-null  object        \n",
      " 8   Date              25469 non-null  datetime64[ns]\n",
      " 9   DateString        25469 non-null  object        \n",
      " 10  DayOfWeek         25469 non-null  object        \n",
      " 11  Weekend           25469 non-null  bool          \n",
      " 12  Season            25469 non-null  object        \n",
      " 13  HourAMPM          25469 non-null  object        \n",
      " 14  TimeOfDay         25469 non-null  object        \n",
      " 15  FullStreet        25469 non-null  object        \n",
      " 16  lat               25459 non-null  float64       \n",
      " 17  lon               25459 non-null  float64       \n",
      " 18  neighborhood      25469 non-null  object        \n",
      " 19  zip               25469 non-null  object        \n",
      "dtypes: bool(1), datetime64[ns](1), float64(2), int64(1), object(15)\n",
      "memory usage: 3.7+ MB\n"
     ]
    }
   ],
   "source": [
    "df.info()"
   ]
  },
  {
   "cell_type": "code",
   "execution_count": 14,
   "id": "5803b09e",
   "metadata": {
    "execution": {
     "iopub.execute_input": "2025-06-10T01:06:26.481175Z",
     "iopub.status.busy": "2025-06-10T01:06:26.480974Z",
     "iopub.status.idle": "2025-06-10T01:06:26.527162Z",
     "shell.execute_reply": "2025-06-10T01:06:26.526463Z"
    },
    "papermill": {
     "duration": 0.053481,
     "end_time": "2025-06-10T01:06:26.528160",
     "exception": false,
     "start_time": "2025-06-10T01:06:26.474679",
     "status": "completed"
    },
    "tags": []
   },
   "outputs": [
    {
     "data": {
      "text/html": [
       "<div>\n",
       "<style scoped>\n",
       "    .dataframe tbody tr th:only-of-type {\n",
       "        vertical-align: middle;\n",
       "    }\n",
       "\n",
       "    .dataframe tbody tr th {\n",
       "        vertical-align: top;\n",
       "    }\n",
       "\n",
       "    .dataframe thead th {\n",
       "        text-align: right;\n",
       "    }\n",
       "</style>\n",
       "<table border=\"1\" class=\"dataframe\">\n",
       "  <thead>\n",
       "    <tr style=\"text-align: right;\">\n",
       "      <th></th>\n",
       "      <th>RecordID</th>\n",
       "      <th>Offense</th>\n",
       "      <th>IncidentID</th>\n",
       "      <th>Agency</th>\n",
       "      <th>ReportingOfficer</th>\n",
       "      <th>Date</th>\n",
       "      <th>DayOfWeek</th>\n",
       "      <th>Weekend</th>\n",
       "      <th>Season</th>\n",
       "      <th>TimeOfDay</th>\n",
       "      <th>FullStreet</th>\n",
       "      <th>lat</th>\n",
       "      <th>lon</th>\n",
       "      <th>neighborhood</th>\n",
       "      <th>zip</th>\n",
       "    </tr>\n",
       "  </thead>\n",
       "  <tbody>\n",
       "    <tr>\n",
       "      <th>0</th>\n",
       "      <td>1</td>\n",
       "      <td>Sex Offense - Forcible Rape</td>\n",
       "      <td>202500019539</td>\n",
       "      <td>CPD</td>\n",
       "      <td>Benbow, Lauren</td>\n",
       "      <td>2025-06-07 21:33:36</td>\n",
       "      <td>Saturday</td>\n",
       "      <td>True</td>\n",
       "      <td>Spring</td>\n",
       "      <td>Night</td>\n",
       "      <td>200 W MAIN ST</td>\n",
       "      <td>38.030841</td>\n",
       "      <td>-78.482517</td>\n",
       "      <td>Downtown Mall</td>\n",
       "      <td>22902</td>\n",
       "    </tr>\n",
       "    <tr>\n",
       "      <th>1</th>\n",
       "      <td>2</td>\n",
       "      <td>Larceny - Shoplifitng</td>\n",
       "      <td>202500019503</td>\n",
       "      <td>CPD</td>\n",
       "      <td>Schwartz, Honora</td>\n",
       "      <td>2025-06-07 16:14:32</td>\n",
       "      <td>Saturday</td>\n",
       "      <td>True</td>\n",
       "      <td>Spring</td>\n",
       "      <td>Afternoon</td>\n",
       "      <td>1100 5TH ST SW</td>\n",
       "      <td>38.01713</td>\n",
       "      <td>-78.497806</td>\n",
       "      <td>Johnson Village</td>\n",
       "      <td>22903</td>\n",
       "    </tr>\n",
       "    <tr>\n",
       "      <th>2</th>\n",
       "      <td>3</td>\n",
       "      <td>Missing Person-adult</td>\n",
       "      <td>202500019496</td>\n",
       "      <td>CPD</td>\n",
       "      <td>Abdelgayed, Adam</td>\n",
       "      <td>2025-06-07 15:31:21</td>\n",
       "      <td>Saturday</td>\n",
       "      <td>True</td>\n",
       "      <td>Spring</td>\n",
       "      <td>Afternoon</td>\n",
       "      <td>900 PRESTON AVE</td>\n",
       "      <td>38.037011</td>\n",
       "      <td>-78.489464</td>\n",
       "      <td>10th &amp; Page</td>\n",
       "      <td>22903</td>\n",
       "    </tr>\n",
       "    <tr>\n",
       "      <th>3</th>\n",
       "      <td>4</td>\n",
       "      <td>Hit and Run</td>\n",
       "      <td>202500019493</td>\n",
       "      <td>CPD</td>\n",
       "      <td>Wisser, Shawn</td>\n",
       "      <td>2025-06-07 14:56:07</td>\n",
       "      <td>Saturday</td>\n",
       "      <td>True</td>\n",
       "      <td>Spring</td>\n",
       "      <td>Afternoon</td>\n",
       "      <td>EMMET ST N / EARHART ST</td>\n",
       "      <td>38.056041</td>\n",
       "      <td>-78.496501</td>\n",
       "      <td>The Meadows</td>\n",
       "      <td>22903</td>\n",
       "    </tr>\n",
       "    <tr>\n",
       "      <th>4</th>\n",
       "      <td>5</td>\n",
       "      <td>Larceny - Shoplifitng</td>\n",
       "      <td>202500019492</td>\n",
       "      <td>CPD</td>\n",
       "      <td>Kirby, Tyree</td>\n",
       "      <td>2025-06-07 14:34:36</td>\n",
       "      <td>Saturday</td>\n",
       "      <td>True</td>\n",
       "      <td>Spring</td>\n",
       "      <td>Afternoon</td>\n",
       "      <td>200 E MAIN ST</td>\n",
       "      <td>38.030572</td>\n",
       "      <td>-78.480764</td>\n",
       "      <td>Downtown Mall</td>\n",
       "      <td>22902</td>\n",
       "    </tr>\n",
       "  </tbody>\n",
       "</table>\n",
       "</div>"
      ],
      "text/plain": [
       "   RecordID                      Offense    IncidentID Agency  \\\n",
       "0         1  Sex Offense - Forcible Rape  202500019539    CPD   \n",
       "1         2        Larceny - Shoplifitng  202500019503    CPD   \n",
       "2         3         Missing Person-adult  202500019496    CPD   \n",
       "3         4                  Hit and Run  202500019493    CPD   \n",
       "4         5        Larceny - Shoplifitng  202500019492    CPD   \n",
       "\n",
       "   ReportingOfficer                Date DayOfWeek  Weekend  Season  TimeOfDay  \\\n",
       "0    Benbow, Lauren 2025-06-07 21:33:36  Saturday     True  Spring      Night   \n",
       "1  Schwartz, Honora 2025-06-07 16:14:32  Saturday     True  Spring  Afternoon   \n",
       "2  Abdelgayed, Adam 2025-06-07 15:31:21  Saturday     True  Spring  Afternoon   \n",
       "3     Wisser, Shawn 2025-06-07 14:56:07  Saturday     True  Spring  Afternoon   \n",
       "4      Kirby, Tyree 2025-06-07 14:34:36  Saturday     True  Spring  Afternoon   \n",
       "\n",
       "                 FullStreet        lat        lon     neighborhood    zip  \n",
       "0             200 W MAIN ST  38.030841 -78.482517    Downtown Mall  22902  \n",
       "1            1100 5TH ST SW   38.01713 -78.497806  Johnson Village  22903  \n",
       "2           900 PRESTON AVE  38.037011 -78.489464      10th & Page  22903  \n",
       "3   EMMET ST N / EARHART ST  38.056041 -78.496501      The Meadows  22903  \n",
       "4             200 E MAIN ST  38.030572 -78.480764    Downtown Mall  22902  "
      ]
     },
     "execution_count": 14,
     "metadata": {},
     "output_type": "execute_result"
    }
   ],
   "source": [
    "# Now drop the original BlockNumber and StreetName columns\n",
    "df.drop(columns=['BlockNumber', 'StreetName','HourAMPM','HourReported','DateString'], inplace=True)\n",
    "df[\"zip\"] = df[\"zip\"].astype(str)\n",
    "\n",
    "# Fill all missing values in the DataFrame with \"N/A\"\n",
    "df.replace({None: \"N/A\", np.nan: \"N/A\", \"\": \"N/A\"}, inplace=True)\n",
    "df.head()"
   ]
  },
  {
   "cell_type": "code",
   "execution_count": 15,
   "id": "7870b419",
   "metadata": {
    "execution": {
     "iopub.execute_input": "2025-06-10T01:06:26.541437Z",
     "iopub.status.busy": "2025-06-10T01:06:26.541030Z",
     "iopub.status.idle": "2025-06-10T01:06:26.559802Z",
     "shell.execute_reply": "2025-06-10T01:06:26.559265Z"
    },
    "papermill": {
     "duration": 0.026384,
     "end_time": "2025-06-10T01:06:26.560843",
     "exception": false,
     "start_time": "2025-06-10T01:06:26.534459",
     "status": "completed"
    },
    "tags": []
   },
   "outputs": [
    {
     "name": "stdout",
     "output_type": "stream",
     "text": [
      "                  MissingCount  MissingPercentage\n",
      "RecordID                     0                0.0\n",
      "Offense                      0                0.0\n",
      "IncidentID                   0                0.0\n",
      "Agency                       0                0.0\n",
      "ReportingOfficer             0                0.0\n",
      "Date                         0                0.0\n",
      "DayOfWeek                    0                0.0\n",
      "Weekend                      0                0.0\n",
      "Season                       0                0.0\n",
      "TimeOfDay                    0                0.0\n",
      "FullStreet                   0                0.0\n",
      "lat                          0                0.0\n",
      "lon                          0                0.0\n",
      "neighborhood                 0                0.0\n",
      "zip                          0                0.0\n"
     ]
    }
   ],
   "source": [
    "missing_info = missing_percentage(df)\n",
    "print(missing_info)"
   ]
  },
  {
   "cell_type": "code",
   "execution_count": 16,
   "id": "dee9afbc",
   "metadata": {
    "execution": {
     "iopub.execute_input": "2025-06-10T01:06:26.573657Z",
     "iopub.status.busy": "2025-06-10T01:06:26.573463Z",
     "iopub.status.idle": "2025-06-10T01:06:26.577863Z",
     "shell.execute_reply": "2025-06-10T01:06:26.577207Z"
    },
    "papermill": {
     "duration": 0.01199,
     "end_time": "2025-06-10T01:06:26.578859",
     "exception": false,
     "start_time": "2025-06-10T01:06:26.566869",
     "status": "completed"
    },
    "tags": []
   },
   "outputs": [
    {
     "data": {
      "text/plain": [
       "Index(['RecordID', 'Offense', 'IncidentID', 'Agency', 'ReportingOfficer',\n",
       "       'Date', 'DayOfWeek', 'Weekend', 'Season', 'TimeOfDay', 'FullStreet',\n",
       "       'lat', 'lon', 'neighborhood', 'zip'],\n",
       "      dtype='object')"
      ]
     },
     "execution_count": 16,
     "metadata": {},
     "output_type": "execute_result"
    }
   ],
   "source": [
    "df.columns"
   ]
  },
  {
   "cell_type": "code",
   "execution_count": 17,
   "id": "d48b097b",
   "metadata": {
    "execution": {
     "iopub.execute_input": "2025-06-10T01:06:26.591718Z",
     "iopub.status.busy": "2025-06-10T01:06:26.591533Z",
     "iopub.status.idle": "2025-06-10T01:06:26.610606Z",
     "shell.execute_reply": "2025-06-10T01:06:26.610047Z"
    },
    "papermill": {
     "duration": 0.026577,
     "end_time": "2025-06-10T01:06:26.611548",
     "exception": false,
     "start_time": "2025-06-10T01:06:26.584971",
     "status": "completed"
    },
    "tags": []
   },
   "outputs": [
    {
     "name": "stdout",
     "output_type": "stream",
     "text": [
      "<class 'pandas.core.frame.DataFrame'>\n",
      "RangeIndex: 25469 entries, 0 to 25468\n",
      "Data columns (total 15 columns):\n",
      " #   Column            Non-Null Count  Dtype         \n",
      "---  ------            --------------  -----         \n",
      " 0   RecordID          25469 non-null  int64         \n",
      " 1   Offense           25469 non-null  object        \n",
      " 2   IncidentID        25469 non-null  object        \n",
      " 3   Agency            25469 non-null  object        \n",
      " 4   ReportingOfficer  25469 non-null  object        \n",
      " 5   Date              25469 non-null  datetime64[ns]\n",
      " 6   DayOfWeek         25469 non-null  object        \n",
      " 7   Weekend           25469 non-null  bool          \n",
      " 8   Season            25469 non-null  object        \n",
      " 9   TimeOfDay         25469 non-null  object        \n",
      " 10  FullStreet        25469 non-null  object        \n",
      " 11  lat               25469 non-null  object        \n",
      " 12  lon               25469 non-null  object        \n",
      " 13  neighborhood      25469 non-null  object        \n",
      " 14  zip               25469 non-null  object        \n",
      "dtypes: bool(1), datetime64[ns](1), int64(1), object(12)\n",
      "memory usage: 2.7+ MB\n"
     ]
    }
   ],
   "source": [
    "df.info()"
   ]
  },
  {
   "cell_type": "markdown",
   "id": "91cfd6da",
   "metadata": {
    "papermill": {
     "duration": 0.006123,
     "end_time": "2025-06-10T01:06:26.623970",
     "exception": false,
     "start_time": "2025-06-10T01:06:26.617847",
     "status": "completed"
    },
    "tags": []
   },
   "source": [
    "### Export Clean Data"
   ]
  },
  {
   "cell_type": "code",
   "execution_count": 18,
   "id": "f9a70fa0",
   "metadata": {
    "execution": {
     "iopub.execute_input": "2025-06-10T01:06:26.637362Z",
     "iopub.status.busy": "2025-06-10T01:06:26.636951Z",
     "iopub.status.idle": "2025-06-10T01:06:35.902169Z",
     "shell.execute_reply": "2025-06-10T01:06:35.901476Z"
    },
    "papermill": {
     "duration": 9.273193,
     "end_time": "2025-06-10T01:06:35.903286",
     "exception": false,
     "start_time": "2025-06-10T01:06:26.630093",
     "status": "completed"
    },
    "tags": []
   },
   "outputs": [
    {
     "name": "stdout",
     "output_type": "stream",
     "text": [
      "Project Root: /home/runner/work/crime-data/crime-data\n"
     ]
    },
    {
     "name": "stdout",
     "output_type": "stream",
     "text": [
      "Data saved to: /home/runner/work/crime-data/crime-data/data/charlottesville_crime_incidents.csv\n"
     ]
    },
    {
     "name": "stdout",
     "output_type": "stream",
     "text": [
      "Excel saved to: /home/runner/work/crime-data/crime-data/data/charlottesville_crime_incidents.xlsx\n"
     ]
    }
   ],
   "source": [
    "# Determine the project root (assuming papermill is run from the repository root)\n",
    "project_root = os.getcwd()\n",
    "print(\"Project Root:\", project_root)\n",
    "\n",
    "# Set the data directory within the project root\n",
    "data_dir = os.path.join(project_root, \"data\")\n",
    "\n",
    "# Ensure the \"data\" directory exists (create it if it doesn't)\n",
    "if not os.path.exists(data_dir):\n",
    "    os.makedirs(data_dir)\n",
    "\n",
    "# Export the DataFrame to CSV in the \"data\" folder located in the project root\n",
    "csv_path = os.path.join(data_dir, \"charlottesville_crime_incidents.csv\")\n",
    "df.to_csv(csv_path, index=False)\n",
    "print(\"Data saved to:\", csv_path)\n",
    "\n",
    "# Construct the path to your Excel file\n",
    "excel_path = os.path.join(data_dir, \"charlottesville_crime_incidents.xlsx\")\n",
    "\n",
    "# Export the DataFrame to Excel\n",
    "df.to_excel(excel_path, index=False)\n",
    "print(\"Excel saved to:\", excel_path)\n"
   ]
  }
 ],
 "metadata": {
  "kernelspec": {
   "display_name": "Python 3",
   "language": "python",
   "name": "python3"
  },
  "language_info": {
   "codemirror_mode": {
    "name": "ipython",
    "version": 3
   },
   "file_extension": ".py",
   "mimetype": "text/x-python",
   "name": "python",
   "nbconvert_exporter": "python",
   "pygments_lexer": "ipython3",
   "version": "3.9.22"
  },
  "papermill": {
   "default_parameters": {},
   "duration": 88.615463,
   "end_time": "2025-06-10T01:06:36.326396",
   "environment_variables": {},
   "exception": null,
   "input_path": "notebook/Crime Data.ipynb",
   "output_path": "notebook/Crime Data_output.ipynb",
   "parameters": {},
   "start_time": "2025-06-10T01:05:07.710933",
   "version": "2.6.0"
  }
 },
 "nbformat": 4,
 "nbformat_minor": 5
}