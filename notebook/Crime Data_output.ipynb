{
 "cells": [
  {
   "cell_type": "markdown",
   "id": "3fcb82ce",
   "metadata": {
    "papermill": {
     "duration": 0.004272,
     "end_time": "2025-08-23T00:59:10.290028",
     "exception": false,
     "start_time": "2025-08-23T00:59:10.285756",
     "status": "completed"
    },
    "tags": []
   },
   "source": [
    "# Charlottesville Open Data Porttal: Crime Data"
   ]
  },
  {
   "cell_type": "markdown",
   "id": "a9ebde3c",
   "metadata": {
    "papermill": {
     "duration": 0.004214,
     "end_time": "2025-08-23T00:59:10.297819",
     "exception": false,
     "start_time": "2025-08-23T00:59:10.293605",
     "status": "completed"
    },
    "tags": []
   },
   "source": [
    "## Import Relevant Librarires & Set WD"
   ]
  },
  {
   "cell_type": "code",
   "execution_count": 1,
   "id": "1efe450d",
   "metadata": {
    "execution": {
     "iopub.execute_input": "2025-08-23T00:59:10.305468Z",
     "iopub.status.busy": "2025-08-23T00:59:10.305174Z",
     "iopub.status.idle": "2025-08-23T00:59:10.886861Z",
     "shell.execute_reply": "2025-08-23T00:59:10.886245Z"
    },
    "papermill": {
     "duration": 0.587147,
     "end_time": "2025-08-23T00:59:10.888211",
     "exception": false,
     "start_time": "2025-08-23T00:59:10.301064",
     "status": "completed"
    },
    "tags": []
   },
   "outputs": [],
   "source": [
    "import requests\n",
    "import pandas as pd\n",
    "import numpy as np\n",
    "import pickle\n",
    "import googlemaps\n",
    "import plotly.express as px\n",
    "from geopy.geocoders import Nominatim\n",
    "import time\n",
    "from dotenv import load_dotenv\n",
    "import os\n",
    "\n",
    "env_path = os.path.join(\"..\", \".env\")\n",
    "#print(\"Looking for .env file at:\", os.path.abspath(env_path))\n",
    "load_dotenv(dotenv_path=env_path)\n",
    "\n",
    "# Retrieve the variables\n",
    "GOOGLE_API_KEY = os.getenv(\"GOOGLE_API_KEY\")\n",
    "WORKING_DIR = os.getenv(\"WORKING_DIR\")\n",
    "\n",
    "if GOOGLE_API_KEY is None or WORKING_DIR is None:\n",
    "    raise RuntimeError(\"No configuration found. Please ensure that your .env file exists with the required variables, or create a local config.py file.\")\n",
    "\n",
    "#print(\"Google API Key:\", GOOGLE_API_KEY)\n",
    "#print(\"Working Directory:\", WORKING_DIR)"
   ]
  },
  {
   "cell_type": "markdown",
   "id": "61fb9074",
   "metadata": {
    "papermill": {
     "duration": 0.003341,
     "end_time": "2025-08-23T00:59:10.895330",
     "exception": false,
     "start_time": "2025-08-23T00:59:10.891989",
     "status": "completed"
    },
    "tags": []
   },
   "source": [
    "## Import Data\n",
    "\n",
    "URL: https://opendata.charlottesville.org/datasets/charlottesville::crime-data/about"
   ]
  },
  {
   "cell_type": "code",
   "execution_count": 2,
   "id": "2ceac7b5",
   "metadata": {
    "execution": {
     "iopub.execute_input": "2025-08-23T00:59:10.902763Z",
     "iopub.status.busy": "2025-08-23T00:59:10.902489Z",
     "iopub.status.idle": "2025-08-23T01:00:17.714205Z",
     "shell.execute_reply": "2025-08-23T01:00:17.713417Z"
    },
    "papermill": {
     "duration": 66.819807,
     "end_time": "2025-08-23T01:00:17.718363",
     "exception": false,
     "start_time": "2025-08-23T00:59:10.898556",
     "status": "completed"
    },
    "tags": []
   },
   "outputs": [
    {
     "name": "stdout",
     "output_type": "stream",
     "text": [
      "Total records imported: 25662\n"
     ]
    }
   ],
   "source": [
    "# Define the endpoint and initial parameters.\n",
    "url = \"https://gisweb.charlottesville.org/arcgis/rest/services/OpenData_2/MapServer/6/query\"\n",
    "params = {\n",
    "    \"where\": \"1=1\",\n",
    "    \"outFields\": \"*\",\n",
    "    \"outSR\": 4326,\n",
    "    \"f\": \"json\",\n",
    "    \"resultOffset\": 0,       # Starting index for results\n",
    "    \"resultRecordCount\": 10000  # Maximum records per batch (if allowed by the API)\n",
    "}\n",
    "\n",
    "records = []\n",
    "\n",
    "while True:\n",
    "    response = requests.get(url, params=params)\n",
    "    response.raise_for_status()\n",
    "    data = response.json()\n",
    "    \n",
    "    # Get the current batch of features.\n",
    "    features = data.get(\"features\", [])\n",
    "    if not features:\n",
    "        break\n",
    "\n",
    "    # Extract the attributes from the features.\n",
    "    batch_records = [feature.get(\"attributes\", {}) for feature in features]\n",
    "    records.extend(batch_records)\n",
    "    \n",
    "    # If the batch size is less than the requested count, we reached the end.\n",
    "    if len(features) < params[\"resultRecordCount\"]:\n",
    "        break\n",
    "\n",
    "    # Update the resultOffset for the next batch.\n",
    "    params[\"resultOffset\"] += params[\"resultRecordCount\"]\n",
    "\n",
    "# Create a DataFrame from the combined records.\n",
    "df = pd.DataFrame(records)\n",
    "print(\"Total records imported:\", len(df))\n"
   ]
  },
  {
   "cell_type": "code",
   "execution_count": 3,
   "id": "cd47c840",
   "metadata": {
    "execution": {
     "iopub.execute_input": "2025-08-23T01:00:17.726160Z",
     "iopub.status.busy": "2025-08-23T01:00:17.725941Z",
     "iopub.status.idle": "2025-08-23T01:00:17.738133Z",
     "shell.execute_reply": "2025-08-23T01:00:17.737535Z"
    },
    "papermill": {
     "duration": 0.017248,
     "end_time": "2025-08-23T01:00:17.739113",
     "exception": false,
     "start_time": "2025-08-23T01:00:17.721865",
     "status": "completed"
    },
    "tags": []
   },
   "outputs": [
    {
     "data": {
      "text/html": [
       "<div>\n",
       "<style scoped>\n",
       "    .dataframe tbody tr th:only-of-type {\n",
       "        vertical-align: middle;\n",
       "    }\n",
       "\n",
       "    .dataframe tbody tr th {\n",
       "        vertical-align: top;\n",
       "    }\n",
       "\n",
       "    .dataframe thead th {\n",
       "        text-align: right;\n",
       "    }\n",
       "</style>\n",
       "<table border=\"1\" class=\"dataframe\">\n",
       "  <thead>\n",
       "    <tr style=\"text-align: right;\">\n",
       "      <th></th>\n",
       "      <th>RecordID</th>\n",
       "      <th>Offense</th>\n",
       "      <th>IncidentID</th>\n",
       "      <th>BlockNumber</th>\n",
       "      <th>StreetName</th>\n",
       "      <th>Agency</th>\n",
       "      <th>DateReported</th>\n",
       "      <th>HourReported</th>\n",
       "      <th>ReportingOfficer</th>\n",
       "    </tr>\n",
       "  </thead>\n",
       "  <tbody>\n",
       "    <tr>\n",
       "      <th>0</th>\n",
       "      <td>1</td>\n",
       "      <td>Assist Citizen - Mental/TDO/ECO</td>\n",
       "      <td>202500029640</td>\n",
       "      <td>600</td>\n",
       "      <td>RAINIER RD</td>\n",
       "      <td>CPD</td>\n",
       "      <td>1755741525000</td>\n",
       "      <td>2158</td>\n",
       "      <td>Bentz, Benjamin</td>\n",
       "    </tr>\n",
       "    <tr>\n",
       "      <th>1</th>\n",
       "      <td>2</td>\n",
       "      <td>Assist Agency - Backup/Assist</td>\n",
       "      <td>202500029639</td>\n",
       "      <td>500</td>\n",
       "      <td>HARRIS RD</td>\n",
       "      <td>CPD</td>\n",
       "      <td>1755741520000</td>\n",
       "      <td>2158</td>\n",
       "      <td>Urban, Jacob</td>\n",
       "    </tr>\n",
       "    <tr>\n",
       "      <th>2</th>\n",
       "      <td>3</td>\n",
       "      <td>Harassment</td>\n",
       "      <td>202500029632</td>\n",
       "      <td>200</td>\n",
       "      <td>E MARKET ST</td>\n",
       "      <td>CPD</td>\n",
       "      <td>1755737700000</td>\n",
       "      <td>2055</td>\n",
       "      <td>Hudson, Jesse</td>\n",
       "    </tr>\n",
       "    <tr>\n",
       "      <th>3</th>\n",
       "      <td>4</td>\n",
       "      <td>Fraud-false pretense</td>\n",
       "      <td>202500029617</td>\n",
       "      <td>500</td>\n",
       "      <td>HARRIS RD, 127</td>\n",
       "      <td>CPD</td>\n",
       "      <td>1755726131000</td>\n",
       "      <td>1742</td>\n",
       "      <td>Venereo, Arturo</td>\n",
       "    </tr>\n",
       "    <tr>\n",
       "      <th>4</th>\n",
       "      <td>5</td>\n",
       "      <td>Assault Simple</td>\n",
       "      <td>202500029607</td>\n",
       "      <td>400</td>\n",
       "      <td>4TH ST NW</td>\n",
       "      <td>CPD</td>\n",
       "      <td>1755722499000</td>\n",
       "      <td>1641</td>\n",
       "      <td>Urban, Jacob</td>\n",
       "    </tr>\n",
       "  </tbody>\n",
       "</table>\n",
       "</div>"
      ],
      "text/plain": [
       "   RecordID                          Offense    IncidentID BlockNumber  \\\n",
       "0         1  Assist Citizen - Mental/TDO/ECO  202500029640         600   \n",
       "1         2    Assist Agency - Backup/Assist  202500029639         500   \n",
       "2         3                       Harassment  202500029632         200   \n",
       "3         4             Fraud-false pretense  202500029617         500   \n",
       "4         5                   Assault Simple  202500029607         400   \n",
       "\n",
       "       StreetName Agency   DateReported HourReported  ReportingOfficer  \n",
       "0      RAINIER RD    CPD  1755741525000         2158  Bentz, Benjamin   \n",
       "1       HARRIS RD    CPD  1755741520000         2158      Urban, Jacob  \n",
       "2     E MARKET ST    CPD  1755737700000         2055     Hudson, Jesse  \n",
       "3  HARRIS RD, 127    CPD  1755726131000         1742   Venereo, Arturo  \n",
       "4       4TH ST NW    CPD  1755722499000         1641      Urban, Jacob  "
      ]
     },
     "execution_count": 3,
     "metadata": {},
     "output_type": "execute_result"
    }
   ],
   "source": [
    "df.head()"
   ]
  },
  {
   "cell_type": "code",
   "execution_count": 4,
   "id": "5d799617",
   "metadata": {
    "execution": {
     "iopub.execute_input": "2025-08-23T01:00:17.747258Z",
     "iopub.status.busy": "2025-08-23T01:00:17.747038Z",
     "iopub.status.idle": "2025-08-23T01:00:17.751489Z",
     "shell.execute_reply": "2025-08-23T01:00:17.750807Z"
    },
    "papermill": {
     "duration": 0.009707,
     "end_time": "2025-08-23T01:00:17.752547",
     "exception": false,
     "start_time": "2025-08-23T01:00:17.742840",
     "status": "completed"
    },
    "tags": []
   },
   "outputs": [
    {
     "data": {
      "text/plain": [
       "Index(['RecordID', 'Offense', 'IncidentID', 'BlockNumber', 'StreetName',\n",
       "       'Agency', 'DateReported', 'HourReported', 'ReportingOfficer'],\n",
       "      dtype='object')"
      ]
     },
     "execution_count": 4,
     "metadata": {},
     "output_type": "execute_result"
    }
   ],
   "source": [
    "df.columns"
   ]
  },
  {
   "cell_type": "code",
   "execution_count": 5,
   "id": "7624035a",
   "metadata": {
    "execution": {
     "iopub.execute_input": "2025-08-23T01:00:17.760824Z",
     "iopub.status.busy": "2025-08-23T01:00:17.760626Z",
     "iopub.status.idle": "2025-08-23T01:00:17.787197Z",
     "shell.execute_reply": "2025-08-23T01:00:17.786619Z"
    },
    "papermill": {
     "duration": 0.031815,
     "end_time": "2025-08-23T01:00:17.788243",
     "exception": false,
     "start_time": "2025-08-23T01:00:17.756428",
     "status": "completed"
    },
    "tags": []
   },
   "outputs": [
    {
     "name": "stdout",
     "output_type": "stream",
     "text": [
      "<class 'pandas.core.frame.DataFrame'>\n",
      "RangeIndex: 25662 entries, 0 to 25661\n",
      "Data columns (total 9 columns):\n",
      " #   Column            Non-Null Count  Dtype \n",
      "---  ------            --------------  ----- \n",
      " 0   RecordID          25662 non-null  int64 \n",
      " 1   Offense           25662 non-null  object\n",
      " 2   IncidentID        25662 non-null  object\n",
      " 3   BlockNumber       25662 non-null  object\n",
      " 4   StreetName        25662 non-null  object\n",
      " 5   Agency            25662 non-null  object\n",
      " 6   DateReported      25662 non-null  int64 \n",
      " 7   HourReported      25662 non-null  object\n",
      " 8   ReportingOfficer  25647 non-null  object\n",
      "dtypes: int64(2), object(7)\n",
      "memory usage: 1.8+ MB\n"
     ]
    }
   ],
   "source": [
    "df.info()"
   ]
  },
  {
   "cell_type": "markdown",
   "id": "5856203a",
   "metadata": {
    "papermill": {
     "duration": 0.003785,
     "end_time": "2025-08-23T01:00:17.796085",
     "exception": false,
     "start_time": "2025-08-23T01:00:17.792300",
     "status": "completed"
    },
    "tags": []
   },
   "source": [
    "### Missing Values"
   ]
  },
  {
   "cell_type": "code",
   "execution_count": 6,
   "id": "dff5732e",
   "metadata": {
    "execution": {
     "iopub.execute_input": "2025-08-23T01:00:17.804467Z",
     "iopub.status.busy": "2025-08-23T01:00:17.804214Z",
     "iopub.status.idle": "2025-08-23T01:00:17.829960Z",
     "shell.execute_reply": "2025-08-23T01:00:17.829361Z"
    },
    "papermill": {
     "duration": 0.031202,
     "end_time": "2025-08-23T01:00:17.831023",
     "exception": false,
     "start_time": "2025-08-23T01:00:17.799821",
     "status": "completed"
    },
    "tags": []
   },
   "outputs": [
    {
     "name": "stdout",
     "output_type": "stream",
     "text": [
      "                  MissingCount  MissingPercentage\n",
      "RecordID                     0               0.00\n",
      "Offense                      0               0.00\n",
      "IncidentID                   0               0.00\n",
      "BlockNumber                  0               0.00\n",
      "StreetName                   0               0.00\n",
      "Agency                       0               0.00\n",
      "DateReported                 0               0.00\n",
      "HourReported                 0               0.00\n",
      "ReportingOfficer            15               0.06\n"
     ]
    }
   ],
   "source": [
    "def missing_percentage(df):\n",
    "    \"\"\"\n",
    "    Returns a DataFrame with the count and percentage of missing values for each column.\n",
    "    \n",
    "    Parameters:\n",
    "        df (pd.DataFrame): The input DataFrame.\n",
    "    \n",
    "    Returns:\n",
    "        pd.DataFrame: A DataFrame with columns 'MissingCount' and 'MissingPercentage'.\n",
    "    \"\"\"\n",
    "    total_rows = len(df)\n",
    "    missing_count = df.isnull().sum()\n",
    "    missing_percent = (missing_count / total_rows) * 100\n",
    "    \n",
    "    result = pd.DataFrame({\n",
    "        'MissingCount': missing_count,\n",
    "        'MissingPercentage': missing_percent.round(2)\n",
    "    })\n",
    "    \n",
    "    return result\n",
    "\n",
    "# Example usage:\n",
    "missing_info = missing_percentage(df)\n",
    "print(missing_info)\n"
   ]
  },
  {
   "cell_type": "markdown",
   "id": "b455aa76",
   "metadata": {
    "papermill": {
     "duration": 0.003868,
     "end_time": "2025-08-23T01:00:17.839239",
     "exception": false,
     "start_time": "2025-08-23T01:00:17.835371",
     "status": "completed"
    },
    "tags": []
   },
   "source": [
    "## Data Preparation"
   ]
  },
  {
   "cell_type": "markdown",
   "id": "d6137e73",
   "metadata": {
    "papermill": {
     "duration": 0.003778,
     "end_time": "2025-08-23T01:00:17.846869",
     "exception": false,
     "start_time": "2025-08-23T01:00:17.843091",
     "status": "completed"
    },
    "tags": []
   },
   "source": [
    "### Data Conversion"
   ]
  },
  {
   "cell_type": "code",
   "execution_count": 7,
   "id": "ac6c1235",
   "metadata": {
    "execution": {
     "iopub.execute_input": "2025-08-23T01:00:17.855527Z",
     "iopub.status.busy": "2025-08-23T01:00:17.855251Z",
     "iopub.status.idle": "2025-08-23T01:00:18.218970Z",
     "shell.execute_reply": "2025-08-23T01:00:18.218209Z"
    },
    "papermill": {
     "duration": 0.369207,
     "end_time": "2025-08-23T01:00:18.219970",
     "exception": false,
     "start_time": "2025-08-23T01:00:17.850763",
     "status": "completed"
    },
    "tags": []
   },
   "outputs": [
    {
     "data": {
      "text/html": [
       "<div>\n",
       "<style scoped>\n",
       "    .dataframe tbody tr th:only-of-type {\n",
       "        vertical-align: middle;\n",
       "    }\n",
       "\n",
       "    .dataframe tbody tr th {\n",
       "        vertical-align: top;\n",
       "    }\n",
       "\n",
       "    .dataframe thead th {\n",
       "        text-align: right;\n",
       "    }\n",
       "</style>\n",
       "<table border=\"1\" class=\"dataframe\">\n",
       "  <thead>\n",
       "    <tr style=\"text-align: right;\">\n",
       "      <th></th>\n",
       "      <th>RecordID</th>\n",
       "      <th>Offense</th>\n",
       "      <th>IncidentID</th>\n",
       "      <th>BlockNumber</th>\n",
       "      <th>StreetName</th>\n",
       "      <th>Agency</th>\n",
       "      <th>HourReported</th>\n",
       "      <th>ReportingOfficer</th>\n",
       "      <th>Date</th>\n",
       "      <th>DateString</th>\n",
       "      <th>DayOfWeek</th>\n",
       "      <th>Weekend</th>\n",
       "      <th>Season</th>\n",
       "      <th>HourAMPM</th>\n",
       "      <th>TimeOfDay</th>\n",
       "    </tr>\n",
       "  </thead>\n",
       "  <tbody>\n",
       "    <tr>\n",
       "      <th>0</th>\n",
       "      <td>1</td>\n",
       "      <td>Assist Citizen - Mental/TDO/ECO</td>\n",
       "      <td>202500029640</td>\n",
       "      <td>600</td>\n",
       "      <td>RAINIER RD</td>\n",
       "      <td>CPD</td>\n",
       "      <td>2158</td>\n",
       "      <td>Bentz, Benjamin</td>\n",
       "      <td>2025-08-20 21:58:45</td>\n",
       "      <td>2025-08-20 09:58:45 PM</td>\n",
       "      <td>Wednesday</td>\n",
       "      <td>False</td>\n",
       "      <td>Summer</td>\n",
       "      <td>09:58 PM</td>\n",
       "      <td>Night</td>\n",
       "    </tr>\n",
       "    <tr>\n",
       "      <th>1</th>\n",
       "      <td>2</td>\n",
       "      <td>Assist Agency - Backup/Assist</td>\n",
       "      <td>202500029639</td>\n",
       "      <td>500</td>\n",
       "      <td>HARRIS RD</td>\n",
       "      <td>CPD</td>\n",
       "      <td>2158</td>\n",
       "      <td>Urban, Jacob</td>\n",
       "      <td>2025-08-20 21:58:40</td>\n",
       "      <td>2025-08-20 09:58:40 PM</td>\n",
       "      <td>Wednesday</td>\n",
       "      <td>False</td>\n",
       "      <td>Summer</td>\n",
       "      <td>09:58 PM</td>\n",
       "      <td>Night</td>\n",
       "    </tr>\n",
       "    <tr>\n",
       "      <th>2</th>\n",
       "      <td>3</td>\n",
       "      <td>Harassment</td>\n",
       "      <td>202500029632</td>\n",
       "      <td>200</td>\n",
       "      <td>E MARKET ST</td>\n",
       "      <td>CPD</td>\n",
       "      <td>2055</td>\n",
       "      <td>Hudson, Jesse</td>\n",
       "      <td>2025-08-20 20:55:00</td>\n",
       "      <td>2025-08-20 08:55:00 PM</td>\n",
       "      <td>Wednesday</td>\n",
       "      <td>False</td>\n",
       "      <td>Summer</td>\n",
       "      <td>08:55 PM</td>\n",
       "      <td>Evening</td>\n",
       "    </tr>\n",
       "    <tr>\n",
       "      <th>3</th>\n",
       "      <td>4</td>\n",
       "      <td>Fraud-false pretense</td>\n",
       "      <td>202500029617</td>\n",
       "      <td>500</td>\n",
       "      <td>HARRIS RD, 127</td>\n",
       "      <td>CPD</td>\n",
       "      <td>1742</td>\n",
       "      <td>Venereo, Arturo</td>\n",
       "      <td>2025-08-20 17:42:11</td>\n",
       "      <td>2025-08-20 05:42:11 PM</td>\n",
       "      <td>Wednesday</td>\n",
       "      <td>False</td>\n",
       "      <td>Summer</td>\n",
       "      <td>05:42 PM</td>\n",
       "      <td>Evening</td>\n",
       "    </tr>\n",
       "    <tr>\n",
       "      <th>4</th>\n",
       "      <td>5</td>\n",
       "      <td>Assault Simple</td>\n",
       "      <td>202500029607</td>\n",
       "      <td>400</td>\n",
       "      <td>4TH ST NW</td>\n",
       "      <td>CPD</td>\n",
       "      <td>1641</td>\n",
       "      <td>Urban, Jacob</td>\n",
       "      <td>2025-08-20 16:41:39</td>\n",
       "      <td>2025-08-20 04:41:39 PM</td>\n",
       "      <td>Wednesday</td>\n",
       "      <td>False</td>\n",
       "      <td>Summer</td>\n",
       "      <td>04:41 PM</td>\n",
       "      <td>Afternoon</td>\n",
       "    </tr>\n",
       "  </tbody>\n",
       "</table>\n",
       "</div>"
      ],
      "text/plain": [
       "   RecordID                          Offense    IncidentID BlockNumber  \\\n",
       "0         1  Assist Citizen - Mental/TDO/ECO  202500029640         600   \n",
       "1         2    Assist Agency - Backup/Assist  202500029639         500   \n",
       "2         3                       Harassment  202500029632         200   \n",
       "3         4             Fraud-false pretense  202500029617         500   \n",
       "4         5                   Assault Simple  202500029607         400   \n",
       "\n",
       "       StreetName Agency HourReported  ReportingOfficer                Date  \\\n",
       "0      RAINIER RD    CPD         2158  Bentz, Benjamin  2025-08-20 21:58:45   \n",
       "1       HARRIS RD    CPD         2158      Urban, Jacob 2025-08-20 21:58:40   \n",
       "2     E MARKET ST    CPD         2055     Hudson, Jesse 2025-08-20 20:55:00   \n",
       "3  HARRIS RD, 127    CPD         1742   Venereo, Arturo 2025-08-20 17:42:11   \n",
       "4       4TH ST NW    CPD         1641      Urban, Jacob 2025-08-20 16:41:39   \n",
       "\n",
       "               DateString  DayOfWeek  Weekend  Season  HourAMPM  TimeOfDay  \n",
       "0  2025-08-20 09:58:45 PM  Wednesday    False  Summer  09:58 PM      Night  \n",
       "1  2025-08-20 09:58:40 PM  Wednesday    False  Summer  09:58 PM      Night  \n",
       "2  2025-08-20 08:55:00 PM  Wednesday    False  Summer  08:55 PM    Evening  \n",
       "3  2025-08-20 05:42:11 PM  Wednesday    False  Summer  05:42 PM    Evening  \n",
       "4  2025-08-20 04:41:39 PM  Wednesday    False  Summer  04:41 PM  Afternoon  "
      ]
     },
     "execution_count": 7,
     "metadata": {},
     "output_type": "execute_result"
    }
   ],
   "source": [
    "def convert_and_categorize_datereported(df, col='DateReported'):\n",
    "    \"\"\"\n",
    "    Converts an epoch (in milliseconds) date column into a timezone-aware datetime,\n",
    "    converts it to Eastern Time, and then creates columns for day-of-week, weekend flag,\n",
    "    season, 12-hour formatted time, and time-of-day. Keeps both a real datetime column\n",
    "    (Date) and a string representation (DateString).\n",
    "    \"\"\"\n",
    "    import pandas as pd\n",
    "\n",
    "    # Convert the epoch timestamp to a pandas datetime object as UTC, then convert to US/Eastern.\n",
    "    df[\"DateReported_dt\"] = (\n",
    "        pd.to_datetime(df[col], unit=\"ms\", errors=\"coerce\", utc=True)\n",
    "        .dt.tz_convert(\"US/Eastern\")\n",
    "    )\n",
    "    \n",
    "    # Create a true datetime column (remove timezone if you prefer naive datetime)\n",
    "    df[\"Date\"] = df[\"DateReported_dt\"].dt.tz_localize(None)\n",
    "\n",
    "    # Optionally, create a separate string-formatted column\n",
    "    df[\"DateString\"] = df[\"DateReported_dt\"].dt.strftime(\"%Y-%m-%d %I:%M:%S %p\")\n",
    "    \n",
    "    # DayOfWeek\n",
    "    df[\"DayOfWeek\"] = df[\"DateReported_dt\"].dt.day_name()\n",
    "    \n",
    "    # Weekend\n",
    "    df[\"Weekend\"] = df[\"DayOfWeek\"].isin([\"Saturday\", \"Sunday\"])\n",
    "    \n",
    "    # Helper function to determine the season\n",
    "    def get_season(dt):\n",
    "        month = dt.month\n",
    "        day = dt.day\n",
    "        # Approximate Northern Hemisphere season boundaries:\n",
    "        if (month == 12 and day >= 21) or (month < 3) or (month == 3 and day < 20):\n",
    "            return \"Winter\"\n",
    "        elif (month == 3 and day >= 20) or (month < 6) or (month == 6 and day < 21):\n",
    "            return \"Spring\"\n",
    "        elif (month == 6 and day >= 21) or (month < 9) or (month == 9 and day < 22):\n",
    "            return \"Summer\"\n",
    "        else:\n",
    "            return \"Autumn\"\n",
    "    \n",
    "    df[\"Season\"] = df[\"DateReported_dt\"].apply(get_season)\n",
    "    \n",
    "    # 12-hour formatted time (HourAMPM)\n",
    "    df[\"HourAMPM\"] = df[\"DateReported_dt\"].dt.strftime(\"%I:%M %p\")\n",
    "    \n",
    "    # Extract hour (0-23) for time-of-day\n",
    "    df[\"HourValue\"] = df[\"DateReported_dt\"].dt.hour\n",
    "    \n",
    "    def time_of_day(hour):\n",
    "        if pd.isnull(hour):\n",
    "            return None\n",
    "        if 5 <= hour < 12:\n",
    "            return \"Morning\"\n",
    "        elif 12 <= hour < 17:\n",
    "            return \"Afternoon\"\n",
    "        elif 17 <= hour < 21:\n",
    "            return \"Evening\"\n",
    "        else:\n",
    "            return \"Night\"\n",
    "    \n",
    "    df[\"TimeOfDay\"] = df[\"HourValue\"].apply(time_of_day)\n",
    "    \n",
    "    # Drop columns you no longer need\n",
    "    df.drop(columns=[col, \"DateReported_dt\", \"HourValue\"], inplace=True)\n",
    "    \n",
    "    return df\n",
    "\n",
    "# Example usage:\n",
    "df = convert_and_categorize_datereported(df)\n",
    "df.head()\n"
   ]
  },
  {
   "cell_type": "code",
   "execution_count": 8,
   "id": "ec71da8b",
   "metadata": {
    "execution": {
     "iopub.execute_input": "2025-08-23T01:00:18.229392Z",
     "iopub.status.busy": "2025-08-23T01:00:18.229151Z",
     "iopub.status.idle": "2025-08-23T01:00:18.260465Z",
     "shell.execute_reply": "2025-08-23T01:00:18.259864Z"
    },
    "papermill": {
     "duration": 0.037091,
     "end_time": "2025-08-23T01:00:18.261529",
     "exception": false,
     "start_time": "2025-08-23T01:00:18.224438",
     "status": "completed"
    },
    "tags": []
   },
   "outputs": [
    {
     "name": "stdout",
     "output_type": "stream",
     "text": [
      "<class 'pandas.core.frame.DataFrame'>\n",
      "RangeIndex: 25662 entries, 0 to 25661\n",
      "Data columns (total 15 columns):\n",
      " #   Column            Non-Null Count  Dtype         \n",
      "---  ------            --------------  -----         \n",
      " 0   RecordID          25662 non-null  int64         \n",
      " 1   Offense           25662 non-null  object        \n",
      " 2   IncidentID        25662 non-null  object        \n",
      " 3   BlockNumber       25662 non-null  object        \n",
      " 4   StreetName        25662 non-null  object        \n",
      " 5   Agency            25662 non-null  object        \n",
      " 6   HourReported      25662 non-null  object        \n",
      " 7   ReportingOfficer  25647 non-null  object        \n",
      " 8   Date              25662 non-null  datetime64[ns]\n",
      " 9   DateString        25662 non-null  object        \n",
      " 10  DayOfWeek         25662 non-null  object        \n",
      " 11  Weekend           25662 non-null  bool          \n",
      " 12  Season            25662 non-null  object        \n",
      " 13  HourAMPM          25662 non-null  object        \n",
      " 14  TimeOfDay         25662 non-null  object        \n",
      "dtypes: bool(1), datetime64[ns](1), int64(1), object(12)\n",
      "memory usage: 2.8+ MB\n"
     ]
    }
   ],
   "source": [
    "df.info()"
   ]
  },
  {
   "cell_type": "markdown",
   "id": "9b124269",
   "metadata": {
    "papermill": {
     "duration": 0.004235,
     "end_time": "2025-08-23T01:00:18.270375",
     "exception": false,
     "start_time": "2025-08-23T01:00:18.266140",
     "status": "completed"
    },
    "tags": []
   },
   "source": [
    "### Coordinates"
   ]
  },
  {
   "cell_type": "code",
   "execution_count": 9,
   "id": "ef9cd4d7",
   "metadata": {
    "execution": {
     "iopub.execute_input": "2025-08-23T01:00:18.279983Z",
     "iopub.status.busy": "2025-08-23T01:00:18.279715Z",
     "iopub.status.idle": "2025-08-23T01:00:18.492231Z",
     "shell.execute_reply": "2025-08-23T01:00:18.491650Z"
    },
    "papermill": {
     "duration": 0.218641,
     "end_time": "2025-08-23T01:00:18.493322",
     "exception": false,
     "start_time": "2025-08-23T01:00:18.274681",
     "status": "completed"
    },
    "tags": []
   },
   "outputs": [
    {
     "name": "stdout",
     "output_type": "stream",
     "text": [
      "Loaded geocode cache.\n",
      "Error geocoding 1200 BLAND CIR: REQUEST_DENIED (You must enable Billing on the Google Cloud Project at https://console.cloud.google.com/project/_/billing/enable Learn more at https://developers.google.com/maps/gmp-get-started)\n",
      "Geocoded 1200 BLAND CIR: None, None\n"
     ]
    },
    {
     "name": "stdout",
     "output_type": "stream",
     "text": [
      "Error geocoding 1100 5TH ST SW, Room 220: REQUEST_DENIED (You must enable Billing on the Google Cloud Project at https://console.cloud.google.com/project/_/billing/enable Learn more at https://developers.google.com/maps/gmp-get-started)\n",
      "Geocoded 1100 5TH ST SW, Room 220: None, None\n",
      "Geocode cache updated and saved.\n"
     ]
    },
    {
     "data": {
      "text/html": [
       "<div>\n",
       "<style scoped>\n",
       "    .dataframe tbody tr th:only-of-type {\n",
       "        vertical-align: middle;\n",
       "    }\n",
       "\n",
       "    .dataframe tbody tr th {\n",
       "        vertical-align: top;\n",
       "    }\n",
       "\n",
       "    .dataframe thead th {\n",
       "        text-align: right;\n",
       "    }\n",
       "</style>\n",
       "<table border=\"1\" class=\"dataframe\">\n",
       "  <thead>\n",
       "    <tr style=\"text-align: right;\">\n",
       "      <th></th>\n",
       "      <th>RecordID</th>\n",
       "      <th>Offense</th>\n",
       "      <th>IncidentID</th>\n",
       "      <th>BlockNumber</th>\n",
       "      <th>StreetName</th>\n",
       "      <th>Agency</th>\n",
       "      <th>HourReported</th>\n",
       "      <th>ReportingOfficer</th>\n",
       "      <th>Date</th>\n",
       "      <th>DateString</th>\n",
       "      <th>DayOfWeek</th>\n",
       "      <th>Weekend</th>\n",
       "      <th>Season</th>\n",
       "      <th>HourAMPM</th>\n",
       "      <th>TimeOfDay</th>\n",
       "      <th>FullStreet</th>\n",
       "      <th>lat</th>\n",
       "      <th>lon</th>\n",
       "    </tr>\n",
       "  </thead>\n",
       "  <tbody>\n",
       "    <tr>\n",
       "      <th>0</th>\n",
       "      <td>1</td>\n",
       "      <td>Assist Citizen - Mental/TDO/ECO</td>\n",
       "      <td>202500029640</td>\n",
       "      <td>600</td>\n",
       "      <td>RAINIER RD</td>\n",
       "      <td>CPD</td>\n",
       "      <td>2158</td>\n",
       "      <td>Bentz, Benjamin</td>\n",
       "      <td>2025-08-20 21:58:45</td>\n",
       "      <td>2025-08-20 09:58:45 PM</td>\n",
       "      <td>Wednesday</td>\n",
       "      <td>False</td>\n",
       "      <td>Summer</td>\n",
       "      <td>09:58 PM</td>\n",
       "      <td>Night</td>\n",
       "      <td>600 RAINIER RD</td>\n",
       "      <td>38.021293</td>\n",
       "      <td>-78.509378</td>\n",
       "    </tr>\n",
       "    <tr>\n",
       "      <th>1</th>\n",
       "      <td>2</td>\n",
       "      <td>Assist Agency - Backup/Assist</td>\n",
       "      <td>202500029639</td>\n",
       "      <td>500</td>\n",
       "      <td>HARRIS RD</td>\n",
       "      <td>CPD</td>\n",
       "      <td>2158</td>\n",
       "      <td>Urban, Jacob</td>\n",
       "      <td>2025-08-20 21:58:40</td>\n",
       "      <td>2025-08-20 09:58:40 PM</td>\n",
       "      <td>Wednesday</td>\n",
       "      <td>False</td>\n",
       "      <td>Summer</td>\n",
       "      <td>09:58 PM</td>\n",
       "      <td>Night</td>\n",
       "      <td>500 HARRIS RD</td>\n",
       "      <td>38.015099</td>\n",
       "      <td>-78.503687</td>\n",
       "    </tr>\n",
       "    <tr>\n",
       "      <th>2</th>\n",
       "      <td>3</td>\n",
       "      <td>Harassment</td>\n",
       "      <td>202500029632</td>\n",
       "      <td>200</td>\n",
       "      <td>E MARKET ST</td>\n",
       "      <td>CPD</td>\n",
       "      <td>2055</td>\n",
       "      <td>Hudson, Jesse</td>\n",
       "      <td>2025-08-20 20:55:00</td>\n",
       "      <td>2025-08-20 08:55:00 PM</td>\n",
       "      <td>Wednesday</td>\n",
       "      <td>False</td>\n",
       "      <td>Summer</td>\n",
       "      <td>08:55 PM</td>\n",
       "      <td>Evening</td>\n",
       "      <td>200 E MARKET ST</td>\n",
       "      <td>38.031104</td>\n",
       "      <td>-78.480367</td>\n",
       "    </tr>\n",
       "    <tr>\n",
       "      <th>3</th>\n",
       "      <td>4</td>\n",
       "      <td>Fraud-false pretense</td>\n",
       "      <td>202500029617</td>\n",
       "      <td>500</td>\n",
       "      <td>HARRIS RD, 127</td>\n",
       "      <td>CPD</td>\n",
       "      <td>1742</td>\n",
       "      <td>Venereo, Arturo</td>\n",
       "      <td>2025-08-20 17:42:11</td>\n",
       "      <td>2025-08-20 05:42:11 PM</td>\n",
       "      <td>Wednesday</td>\n",
       "      <td>False</td>\n",
       "      <td>Summer</td>\n",
       "      <td>05:42 PM</td>\n",
       "      <td>Evening</td>\n",
       "      <td>500 HARRIS RD, 127</td>\n",
       "      <td>NaN</td>\n",
       "      <td>NaN</td>\n",
       "    </tr>\n",
       "    <tr>\n",
       "      <th>4</th>\n",
       "      <td>5</td>\n",
       "      <td>Assault Simple</td>\n",
       "      <td>202500029607</td>\n",
       "      <td>400</td>\n",
       "      <td>4TH ST NW</td>\n",
       "      <td>CPD</td>\n",
       "      <td>1641</td>\n",
       "      <td>Urban, Jacob</td>\n",
       "      <td>2025-08-20 16:41:39</td>\n",
       "      <td>2025-08-20 04:41:39 PM</td>\n",
       "      <td>Wednesday</td>\n",
       "      <td>False</td>\n",
       "      <td>Summer</td>\n",
       "      <td>04:41 PM</td>\n",
       "      <td>Afternoon</td>\n",
       "      <td>400 4TH ST NW</td>\n",
       "      <td>38.033603</td>\n",
       "      <td>-78.485441</td>\n",
       "    </tr>\n",
       "  </tbody>\n",
       "</table>\n",
       "</div>"
      ],
      "text/plain": [
       "   RecordID                          Offense    IncidentID BlockNumber  \\\n",
       "0         1  Assist Citizen - Mental/TDO/ECO  202500029640         600   \n",
       "1         2    Assist Agency - Backup/Assist  202500029639         500   \n",
       "2         3                       Harassment  202500029632         200   \n",
       "3         4             Fraud-false pretense  202500029617         500   \n",
       "4         5                   Assault Simple  202500029607         400   \n",
       "\n",
       "       StreetName Agency HourReported  ReportingOfficer                Date  \\\n",
       "0      RAINIER RD    CPD         2158  Bentz, Benjamin  2025-08-20 21:58:45   \n",
       "1       HARRIS RD    CPD         2158      Urban, Jacob 2025-08-20 21:58:40   \n",
       "2     E MARKET ST    CPD         2055     Hudson, Jesse 2025-08-20 20:55:00   \n",
       "3  HARRIS RD, 127    CPD         1742   Venereo, Arturo 2025-08-20 17:42:11   \n",
       "4       4TH ST NW    CPD         1641      Urban, Jacob 2025-08-20 16:41:39   \n",
       "\n",
       "               DateString  DayOfWeek  Weekend  Season  HourAMPM  TimeOfDay  \\\n",
       "0  2025-08-20 09:58:45 PM  Wednesday    False  Summer  09:58 PM      Night   \n",
       "1  2025-08-20 09:58:40 PM  Wednesday    False  Summer  09:58 PM      Night   \n",
       "2  2025-08-20 08:55:00 PM  Wednesday    False  Summer  08:55 PM    Evening   \n",
       "3  2025-08-20 05:42:11 PM  Wednesday    False  Summer  05:42 PM    Evening   \n",
       "4  2025-08-20 04:41:39 PM  Wednesday    False  Summer  04:41 PM  Afternoon   \n",
       "\n",
       "           FullStreet        lat        lon  \n",
       "0      600 RAINIER RD  38.021293 -78.509378  \n",
       "1       500 HARRIS RD  38.015099 -78.503687  \n",
       "2     200 E MARKET ST  38.031104 -78.480367  \n",
       "3  500 HARRIS RD, 127        NaN        NaN  \n",
       "4       400 4TH ST NW  38.033603 -78.485441  "
      ]
     },
     "execution_count": 9,
     "metadata": {},
     "output_type": "execute_result"
    }
   ],
   "source": [
    "# Combine BlockNumber and StreetName into a full address string\n",
    "df['FullStreet'] = df['BlockNumber'].astype(str) + \" \" + df['StreetName']\n",
    "\n",
    "# --- Step 1: Setup the Google Maps Client and Cache ---\n",
    "gmaps = googlemaps.Client(key=GOOGLE_API_KEY)\n",
    "\n",
    "# Try to load cached geocoding results if available.\n",
    "try:\n",
    "    with open(\"geocode_cache_google.pkl\", \"rb\") as f:\n",
    "        street_coords = pickle.load(f)\n",
    "    print(\"Loaded geocode cache.\")\n",
    "except FileNotFoundError:\n",
    "    street_coords = {}\n",
    "    print(\"No cache found; starting fresh.\")\n",
    "\n",
    "def geocode_address(address):\n",
    "    try:\n",
    "        # Append city and state to help geocoding\n",
    "        result = gmaps.geocode(f\"{address}, Charlottesville, VA\")\n",
    "        if result:\n",
    "            lat = result[0]['geometry']['location']['lat']\n",
    "            lon = result[0]['geometry']['location']['lng']\n",
    "            return lat, lon\n",
    "    except Exception as e:\n",
    "        print(f\"Error geocoding {address}: {e}\")\n",
    "    return None, None\n",
    "\n",
    "# --- Step 2: Geocode Only New Addresses ---\n",
    "unique_addresses = df['FullStreet'].unique()\n",
    "for address in unique_addresses:\n",
    "    if address not in street_coords:\n",
    "        lat, lon = geocode_address(address)\n",
    "        street_coords[address] = (lat, lon)\n",
    "        print(f\"Geocoded {address}: {lat}, {lon}\")\n",
    "\n",
    "# Save the updated cache to disk.\n",
    "with open(\"geocode_cache_google.pkl\", \"wb\") as f:\n",
    "    pickle.dump(street_coords, f)\n",
    "    print(\"Geocode cache updated and saved.\")\n",
    "\n",
    "# --- Step 3: Map Coordinates Back to DataFrame ---\n",
    "df['lat'] = df['FullStreet'].map(lambda s: street_coords.get(s, (None, None))[0])\n",
    "df['lon'] = df['FullStreet'].map(lambda s: street_coords.get(s, (None, None))[1])\n",
    "\n",
    "df.head()"
   ]
  },
  {
   "cell_type": "markdown",
   "id": "f12424d6",
   "metadata": {
    "papermill": {
     "duration": 0.004496,
     "end_time": "2025-08-23T01:00:18.502757",
     "exception": false,
     "start_time": "2025-08-23T01:00:18.498261",
     "status": "completed"
    },
    "tags": []
   },
   "source": [
    "### Neighborhood"
   ]
  },
  {
   "cell_type": "code",
   "execution_count": 10,
   "id": "670c2019",
   "metadata": {
    "execution": {
     "iopub.execute_input": "2025-08-23T01:00:18.512752Z",
     "iopub.status.busy": "2025-08-23T01:00:18.512456Z",
     "iopub.status.idle": "2025-08-23T01:00:21.057788Z",
     "shell.execute_reply": "2025-08-23T01:00:21.057172Z"
    },
    "papermill": {
     "duration": 2.551672,
     "end_time": "2025-08-23T01:00:21.058858",
     "exception": false,
     "start_time": "2025-08-23T01:00:18.507186",
     "status": "completed"
    },
    "tags": []
   },
   "outputs": [
    {
     "name": "stdout",
     "output_type": "stream",
     "text": [
      "Loaded neighborhood cache.\n",
      "Error getting neighborhood for nan, nan: HTTP Error: 400\n"
     ]
    },
    {
     "name": "stdout",
     "output_type": "stream",
     "text": [
      "Error getting neighborhood for nan, nan: HTTP Error: 400\n",
      "Error getting neighborhood for nan, nan: HTTP Error: 400\n"
     ]
    },
    {
     "name": "stdout",
     "output_type": "stream",
     "text": [
      "Error getting neighborhood for nan, nan: HTTP Error: 400\n",
      "Error getting neighborhood for nan, nan: HTTP Error: 400\n",
      "Error getting neighborhood for nan, nan: HTTP Error: 400\n",
      "Error getting neighborhood for nan, nan: HTTP Error: 400\n",
      "Error getting neighborhood for nan, nan: HTTP Error: 400\n",
      "Error getting neighborhood for nan, nan: HTTP Error: 400\n",
      "Error getting neighborhood for nan, nan: HTTP Error: 400\n"
     ]
    },
    {
     "name": "stdout",
     "output_type": "stream",
     "text": [
      "Error getting neighborhood for nan, nan: HTTP Error: 400\n",
      "Error getting neighborhood for nan, nan: HTTP Error: 400\n"
     ]
    },
    {
     "name": "stdout",
     "output_type": "stream",
     "text": [
      "Error getting neighborhood for nan, nan: HTTP Error: 400\n",
      "Error getting neighborhood for nan, nan: HTTP Error: 400\n",
      "Error getting neighborhood for nan, nan: HTTP Error: 400\n",
      "Error getting neighborhood for nan, nan: HTTP Error: 400\n",
      "Error getting neighborhood for nan, nan: HTTP Error: 400\n",
      "Error getting neighborhood for nan, nan: HTTP Error: 400\n",
      "Error getting neighborhood for nan, nan: HTTP Error: 400\n",
      "Error getting neighborhood for nan, nan: HTTP Error: 400\n",
      "Error getting neighborhood for nan, nan: HTTP Error: 400\n"
     ]
    },
    {
     "name": "stdout",
     "output_type": "stream",
     "text": [
      "Error getting neighborhood for nan, nan: HTTP Error: 400\n",
      "Error getting neighborhood for nan, nan: HTTP Error: 400\n",
      "Error getting neighborhood for nan, nan: HTTP Error: 400\n",
      "Error getting neighborhood for nan, nan: HTTP Error: 400\n"
     ]
    },
    {
     "name": "stdout",
     "output_type": "stream",
     "text": [
      "Error getting neighborhood for nan, nan: HTTP Error: 400\n",
      "Error getting neighborhood for nan, nan: HTTP Error: 400\n",
      "Error getting neighborhood for nan, nan: HTTP Error: 400\n",
      "Error getting neighborhood for nan, nan: HTTP Error: 400\n",
      "Error getting neighborhood for nan, nan: HTTP Error: 400\n",
      "Error getting neighborhood for nan, nan: HTTP Error: 400\n",
      "Error getting neighborhood for nan, nan: HTTP Error: 400\n",
      "Error getting neighborhood for nan, nan: HTTP Error: 400\n",
      "Error getting neighborhood for nan, nan: HTTP Error: 400\n",
      "Error getting neighborhood for nan, nan: HTTP Error: 400\n"
     ]
    },
    {
     "name": "stdout",
     "output_type": "stream",
     "text": [
      "Error getting neighborhood for nan, nan: HTTP Error: 400\n",
      "Error getting neighborhood for nan, nan: HTTP Error: 400\n",
      "Error getting neighborhood for nan, nan: HTTP Error: 400\n"
     ]
    },
    {
     "name": "stdout",
     "output_type": "stream",
     "text": [
      "Error getting neighborhood for nan, nan: HTTP Error: 400\n",
      "Error getting neighborhood for nan, nan: HTTP Error: 400\n",
      "Error getting neighborhood for nan, nan: HTTP Error: 400\n",
      "Error getting neighborhood for nan, nan: HTTP Error: 400\n",
      "Error getting neighborhood for nan, nan: HTTP Error: 400\n",
      "Error getting neighborhood for nan, nan: HTTP Error: 400\n",
      "Error getting neighborhood for nan, nan: HTTP Error: 400\n",
      "Error getting neighborhood for nan, nan: HTTP Error: 400\n",
      "Error getting neighborhood for nan, nan: HTTP Error: 400\n",
      "Error getting neighborhood for nan, nan: HTTP Error: 400\n",
      "Error getting neighborhood for nan, nan: HTTP Error: 400\n"
     ]
    },
    {
     "name": "stdout",
     "output_type": "stream",
     "text": [
      "Error getting neighborhood for nan, nan: HTTP Error: 400\n",
      "Error getting neighborhood for nan, nan: HTTP Error: 400\n",
      "Error getting neighborhood for nan, nan: HTTP Error: 400\n"
     ]
    },
    {
     "name": "stdout",
     "output_type": "stream",
     "text": [
      "Error getting neighborhood for nan, nan: HTTP Error: 400\n",
      "Error getting neighborhood for nan, nan: HTTP Error: 400\n",
      "Error getting neighborhood for nan, nan: HTTP Error: 400\n",
      "Error getting neighborhood for nan, nan: HTTP Error: 400\n",
      "Error getting neighborhood for nan, nan: HTTP Error: 400\n",
      "Error getting neighborhood for nan, nan: HTTP Error: 400\n",
      "Error getting neighborhood for nan, nan: HTTP Error: 400\n",
      "Error getting neighborhood for nan, nan: HTTP Error: 400\n",
      "Error getting neighborhood for nan, nan: HTTP Error: 400\n",
      "Error getting neighborhood for nan, nan: HTTP Error: 400\n",
      "Error getting neighborhood for nan, nan: HTTP Error: 400\n"
     ]
    },
    {
     "name": "stdout",
     "output_type": "stream",
     "text": [
      "Error getting neighborhood for nan, nan: HTTP Error: 400\n",
      "Error getting neighborhood for nan, nan: HTTP Error: 400\n"
     ]
    },
    {
     "name": "stdout",
     "output_type": "stream",
     "text": [
      "Error getting neighborhood for nan, nan: HTTP Error: 400\n",
      "Error getting neighborhood for nan, nan: HTTP Error: 400\n",
      "Error getting neighborhood for nan, nan: HTTP Error: 400\n",
      "Error getting neighborhood for nan, nan: HTTP Error: 400\n",
      "Error getting neighborhood for nan, nan: HTTP Error: 400\n",
      "Error getting neighborhood for nan, nan: HTTP Error: 400\n",
      "Error getting neighborhood for nan, nan: HTTP Error: 400\n",
      "Error getting neighborhood for nan, nan: HTTP Error: 400\n",
      "Error getting neighborhood for nan, nan: HTTP Error: 400\n",
      "Error getting neighborhood for nan, nan: HTTP Error: 400\n",
      "Error getting neighborhood for nan, nan: HTTP Error: 400\n"
     ]
    },
    {
     "name": "stdout",
     "output_type": "stream",
     "text": [
      "Error getting neighborhood for nan, nan: HTTP Error: 400\n",
      "Error getting neighborhood for nan, nan: HTTP Error: 400\n"
     ]
    },
    {
     "name": "stdout",
     "output_type": "stream",
     "text": [
      "Error getting neighborhood for nan, nan: HTTP Error: 400\n",
      "Error getting neighborhood for nan, nan: HTTP Error: 400\n",
      "Error getting neighborhood for nan, nan: HTTP Error: 400\n",
      "Error getting neighborhood for nan, nan: HTTP Error: 400\n",
      "Error getting neighborhood for nan, nan: HTTP Error: 400\n",
      "Error getting neighborhood for nan, nan: HTTP Error: 400\n",
      "Error getting neighborhood for nan, nan: HTTP Error: 400\n",
      "Error getting neighborhood for nan, nan: HTTP Error: 400\n",
      "Error getting neighborhood for nan, nan: HTTP Error: 400\n",
      "Error getting neighborhood for nan, nan: HTTP Error: 400\n",
      "Error getting neighborhood for nan, nan: HTTP Error: 400\n"
     ]
    },
    {
     "name": "stdout",
     "output_type": "stream",
     "text": [
      "Error getting neighborhood for nan, nan: HTTP Error: 400\n",
      "Error getting neighborhood for nan, nan: HTTP Error: 400\n",
      "Error getting neighborhood for nan, nan: HTTP Error: 400\n"
     ]
    },
    {
     "name": "stdout",
     "output_type": "stream",
     "text": [
      "Error getting neighborhood for nan, nan: HTTP Error: 400\n",
      "Error getting neighborhood for nan, nan: HTTP Error: 400\n",
      "Error getting neighborhood for nan, nan: HTTP Error: 400\n",
      "Error getting neighborhood for nan, nan: HTTP Error: 400\n",
      "Error getting neighborhood for nan, nan: HTTP Error: 400\n",
      "Error getting neighborhood for nan, nan: HTTP Error: 400\n",
      "Error getting neighborhood for nan, nan: HTTP Error: 400\n",
      "Error getting neighborhood for nan, nan: HTTP Error: 400\n",
      "Error getting neighborhood for nan, nan: HTTP Error: 400\n"
     ]
    },
    {
     "name": "stdout",
     "output_type": "stream",
     "text": [
      "Error getting neighborhood for nan, nan: HTTP Error: 400\n",
      "Error getting neighborhood for nan, nan: HTTP Error: 400\n",
      "Error getting neighborhood for nan, nan: HTTP Error: 400\n"
     ]
    },
    {
     "name": "stdout",
     "output_type": "stream",
     "text": [
      "Error getting neighborhood for nan, nan: HTTP Error: 400\n",
      "Error getting neighborhood for nan, nan: HTTP Error: 400\n",
      "Error getting neighborhood for nan, nan: HTTP Error: 400\n",
      "Error getting neighborhood for nan, nan: HTTP Error: 400\n",
      "Error getting neighborhood for nan, nan: HTTP Error: 400\n",
      "Error getting neighborhood for nan, nan: HTTP Error: 400\n",
      "Error getting neighborhood for nan, nan: HTTP Error: 400\n",
      "Error getting neighborhood for nan, nan: HTTP Error: 400\n",
      "Error getting neighborhood for nan, nan: HTTP Error: 400\n",
      "Error getting neighborhood for nan, nan: HTTP Error: 400\n",
      "Error getting neighborhood for nan, nan: HTTP Error: 400\n"
     ]
    },
    {
     "name": "stdout",
     "output_type": "stream",
     "text": [
      "Error getting neighborhood for nan, nan: HTTP Error: 400\n",
      "Error getting neighborhood for nan, nan: HTTP Error: 400\n",
      "Error getting neighborhood for nan, nan: HTTP Error: 400\n"
     ]
    },
    {
     "name": "stdout",
     "output_type": "stream",
     "text": [
      "Error getting neighborhood for nan, nan: HTTP Error: 400\n",
      "Error getting neighborhood for nan, nan: HTTP Error: 400\n",
      "Error getting neighborhood for nan, nan: HTTP Error: 400\n",
      "Error getting neighborhood for nan, nan: HTTP Error: 400\n",
      "Error getting neighborhood for nan, nan: HTTP Error: 400\n",
      "Error getting neighborhood for nan, nan: HTTP Error: 400\n",
      "Error getting neighborhood for nan, nan: HTTP Error: 400\n",
      "Error getting neighborhood for nan, nan: HTTP Error: 400\n"
     ]
    },
    {
     "name": "stdout",
     "output_type": "stream",
     "text": [
      "Error getting neighborhood for nan, nan: HTTP Error: 400\n",
      "Error getting neighborhood for nan, nan: HTTP Error: 400\n",
      "Error getting neighborhood for nan, nan: HTTP Error: 400\n",
      "Error getting neighborhood for nan, nan: HTTP Error: 400\n",
      "Error getting neighborhood for nan, nan: HTTP Error: 400\n",
      "Error getting neighborhood for nan, nan: HTTP Error: 400\n"
     ]
    },
    {
     "name": "stdout",
     "output_type": "stream",
     "text": [
      "Error getting neighborhood for nan, nan: HTTP Error: 400\n",
      "Error getting neighborhood for nan, nan: HTTP Error: 400\n",
      "Error getting neighborhood for nan, nan: HTTP Error: 400\n",
      "Error getting neighborhood for nan, nan: HTTP Error: 400\n",
      "Error getting neighborhood for nan, nan: HTTP Error: 400\n"
     ]
    },
    {
     "data": {
      "text/html": [
       "<div>\n",
       "<style scoped>\n",
       "    .dataframe tbody tr th:only-of-type {\n",
       "        vertical-align: middle;\n",
       "    }\n",
       "\n",
       "    .dataframe tbody tr th {\n",
       "        vertical-align: top;\n",
       "    }\n",
       "\n",
       "    .dataframe thead th {\n",
       "        text-align: right;\n",
       "    }\n",
       "</style>\n",
       "<table border=\"1\" class=\"dataframe\">\n",
       "  <thead>\n",
       "    <tr style=\"text-align: right;\">\n",
       "      <th></th>\n",
       "      <th>RecordID</th>\n",
       "      <th>Offense</th>\n",
       "      <th>IncidentID</th>\n",
       "      <th>BlockNumber</th>\n",
       "      <th>StreetName</th>\n",
       "      <th>Agency</th>\n",
       "      <th>HourReported</th>\n",
       "      <th>ReportingOfficer</th>\n",
       "      <th>Date</th>\n",
       "      <th>DateString</th>\n",
       "      <th>DayOfWeek</th>\n",
       "      <th>Weekend</th>\n",
       "      <th>Season</th>\n",
       "      <th>HourAMPM</th>\n",
       "      <th>TimeOfDay</th>\n",
       "      <th>FullStreet</th>\n",
       "      <th>lat</th>\n",
       "      <th>lon</th>\n",
       "      <th>neighborhood</th>\n",
       "    </tr>\n",
       "  </thead>\n",
       "  <tbody>\n",
       "    <tr>\n",
       "      <th>0</th>\n",
       "      <td>1</td>\n",
       "      <td>Assist Citizen - Mental/TDO/ECO</td>\n",
       "      <td>202500029640</td>\n",
       "      <td>600</td>\n",
       "      <td>RAINIER RD</td>\n",
       "      <td>CPD</td>\n",
       "      <td>2158</td>\n",
       "      <td>Bentz, Benjamin</td>\n",
       "      <td>2025-08-20 21:58:45</td>\n",
       "      <td>2025-08-20 09:58:45 PM</td>\n",
       "      <td>Wednesday</td>\n",
       "      <td>False</td>\n",
       "      <td>Summer</td>\n",
       "      <td>09:58 PM</td>\n",
       "      <td>Night</td>\n",
       "      <td>600 RAINIER RD</td>\n",
       "      <td>38.021293</td>\n",
       "      <td>-78.509378</td>\n",
       "      <td>Johnson Village</td>\n",
       "    </tr>\n",
       "    <tr>\n",
       "      <th>1</th>\n",
       "      <td>2</td>\n",
       "      <td>Assist Agency - Backup/Assist</td>\n",
       "      <td>202500029639</td>\n",
       "      <td>500</td>\n",
       "      <td>HARRIS RD</td>\n",
       "      <td>CPD</td>\n",
       "      <td>2158</td>\n",
       "      <td>Urban, Jacob</td>\n",
       "      <td>2025-08-20 21:58:40</td>\n",
       "      <td>2025-08-20 09:58:40 PM</td>\n",
       "      <td>Wednesday</td>\n",
       "      <td>False</td>\n",
       "      <td>Summer</td>\n",
       "      <td>09:58 PM</td>\n",
       "      <td>Night</td>\n",
       "      <td>500 HARRIS RD</td>\n",
       "      <td>38.015099</td>\n",
       "      <td>-78.503687</td>\n",
       "      <td>Fry's Spring</td>\n",
       "    </tr>\n",
       "    <tr>\n",
       "      <th>2</th>\n",
       "      <td>3</td>\n",
       "      <td>Harassment</td>\n",
       "      <td>202500029632</td>\n",
       "      <td>200</td>\n",
       "      <td>E MARKET ST</td>\n",
       "      <td>CPD</td>\n",
       "      <td>2055</td>\n",
       "      <td>Hudson, Jesse</td>\n",
       "      <td>2025-08-20 20:55:00</td>\n",
       "      <td>2025-08-20 08:55:00 PM</td>\n",
       "      <td>Wednesday</td>\n",
       "      <td>False</td>\n",
       "      <td>Summer</td>\n",
       "      <td>08:55 PM</td>\n",
       "      <td>Evening</td>\n",
       "      <td>200 E MARKET ST</td>\n",
       "      <td>38.031104</td>\n",
       "      <td>-78.480367</td>\n",
       "      <td>Downtown Mall</td>\n",
       "    </tr>\n",
       "    <tr>\n",
       "      <th>3</th>\n",
       "      <td>4</td>\n",
       "      <td>Fraud-false pretense</td>\n",
       "      <td>202500029617</td>\n",
       "      <td>500</td>\n",
       "      <td>HARRIS RD, 127</td>\n",
       "      <td>CPD</td>\n",
       "      <td>1742</td>\n",
       "      <td>Venereo, Arturo</td>\n",
       "      <td>2025-08-20 17:42:11</td>\n",
       "      <td>2025-08-20 05:42:11 PM</td>\n",
       "      <td>Wednesday</td>\n",
       "      <td>False</td>\n",
       "      <td>Summer</td>\n",
       "      <td>05:42 PM</td>\n",
       "      <td>Evening</td>\n",
       "      <td>500 HARRIS RD, 127</td>\n",
       "      <td>NaN</td>\n",
       "      <td>NaN</td>\n",
       "      <td>N/A</td>\n",
       "    </tr>\n",
       "    <tr>\n",
       "      <th>4</th>\n",
       "      <td>5</td>\n",
       "      <td>Assault Simple</td>\n",
       "      <td>202500029607</td>\n",
       "      <td>400</td>\n",
       "      <td>4TH ST NW</td>\n",
       "      <td>CPD</td>\n",
       "      <td>1641</td>\n",
       "      <td>Urban, Jacob</td>\n",
       "      <td>2025-08-20 16:41:39</td>\n",
       "      <td>2025-08-20 04:41:39 PM</td>\n",
       "      <td>Wednesday</td>\n",
       "      <td>False</td>\n",
       "      <td>Summer</td>\n",
       "      <td>04:41 PM</td>\n",
       "      <td>Afternoon</td>\n",
       "      <td>400 4TH ST NW</td>\n",
       "      <td>38.033603</td>\n",
       "      <td>-78.485441</td>\n",
       "      <td>Starr Hill</td>\n",
       "    </tr>\n",
       "  </tbody>\n",
       "</table>\n",
       "</div>"
      ],
      "text/plain": [
       "   RecordID                          Offense    IncidentID BlockNumber  \\\n",
       "0         1  Assist Citizen - Mental/TDO/ECO  202500029640         600   \n",
       "1         2    Assist Agency - Backup/Assist  202500029639         500   \n",
       "2         3                       Harassment  202500029632         200   \n",
       "3         4             Fraud-false pretense  202500029617         500   \n",
       "4         5                   Assault Simple  202500029607         400   \n",
       "\n",
       "       StreetName Agency HourReported  ReportingOfficer                Date  \\\n",
       "0      RAINIER RD    CPD         2158  Bentz, Benjamin  2025-08-20 21:58:45   \n",
       "1       HARRIS RD    CPD         2158      Urban, Jacob 2025-08-20 21:58:40   \n",
       "2     E MARKET ST    CPD         2055     Hudson, Jesse 2025-08-20 20:55:00   \n",
       "3  HARRIS RD, 127    CPD         1742   Venereo, Arturo 2025-08-20 17:42:11   \n",
       "4       4TH ST NW    CPD         1641      Urban, Jacob 2025-08-20 16:41:39   \n",
       "\n",
       "               DateString  DayOfWeek  Weekend  Season  HourAMPM  TimeOfDay  \\\n",
       "0  2025-08-20 09:58:45 PM  Wednesday    False  Summer  09:58 PM      Night   \n",
       "1  2025-08-20 09:58:40 PM  Wednesday    False  Summer  09:58 PM      Night   \n",
       "2  2025-08-20 08:55:00 PM  Wednesday    False  Summer  08:55 PM    Evening   \n",
       "3  2025-08-20 05:42:11 PM  Wednesday    False  Summer  05:42 PM    Evening   \n",
       "4  2025-08-20 04:41:39 PM  Wednesday    False  Summer  04:41 PM  Afternoon   \n",
       "\n",
       "           FullStreet        lat        lon     neighborhood  \n",
       "0      600 RAINIER RD  38.021293 -78.509378  Johnson Village  \n",
       "1       500 HARRIS RD  38.015099 -78.503687     Fry's Spring  \n",
       "2     200 E MARKET ST  38.031104 -78.480367    Downtown Mall  \n",
       "3  500 HARRIS RD, 127        NaN        NaN              N/A  \n",
       "4       400 4TH ST NW  38.033603 -78.485441       Starr Hill  "
      ]
     },
     "execution_count": 10,
     "metadata": {},
     "output_type": "execute_result"
    }
   ],
   "source": [
    "# Initialize the Google Maps client.\n",
    "gmaps = googlemaps.Client(key=GOOGLE_API_KEY)\n",
    "\n",
    "# Try to load a persistent neighborhood cache if available.\n",
    "try:\n",
    "    with open(\"neighborhood_cache.pkl\", \"rb\") as f:\n",
    "        neighborhood_cache = pickle.load(f)\n",
    "    print(\"Loaded neighborhood cache.\")\n",
    "except FileNotFoundError:\n",
    "    neighborhood_cache = {}\n",
    "    print(\"No neighborhood cache found; starting fresh.\")\n",
    "\n",
    "def get_neighborhood(lat, lon):\n",
    "    \"\"\"\n",
    "    Reverse geocodes a latitude and longitude to retrieve the neighborhood.\n",
    "    Caches results to speed up subsequent lookups.\n",
    "    \"\"\"\n",
    "    key = (lat, lon)\n",
    "    if key in neighborhood_cache:\n",
    "        return neighborhood_cache[key]\n",
    "    \n",
    "    try:\n",
    "        result = gmaps.reverse_geocode((lat, lon))\n",
    "        if result:\n",
    "            # Look for the 'neighborhood' component in the first result.\n",
    "            for component in result[0]['address_components']:\n",
    "                if 'neighborhood' in component['types']:\n",
    "                    neighborhood = component['long_name']\n",
    "                    neighborhood_cache[key] = neighborhood\n",
    "                    return neighborhood\n",
    "            # If no neighborhood is found, return \"N/A\"\n",
    "            neighborhood_cache[key] = \"N/A\"\n",
    "            return \"N/A\"\n",
    "    except Exception as e:\n",
    "        print(f\"Error getting neighborhood for {lat}, {lon}: {e}\")\n",
    "        return \"N/A\"\n",
    "    \n",
    "    # Pause to respect usage limits.\n",
    "    time.sleep(1)\n",
    "\n",
    "# Example usage: Apply to your DataFrame 'df' that already has 'lat' and 'lon' columns.\n",
    "df['neighborhood'] = df.apply(lambda row: get_neighborhood(row['lat'], row['lon']), axis=1)\n",
    "\n",
    "# Save the updated neighborhood cache.\n",
    "with open(\"neighborhood_cache.pkl\", \"wb\") as f:\n",
    "    pickle.dump(neighborhood_cache, f)\n",
    "\n",
    "df.head()\n"
   ]
  },
  {
   "cell_type": "markdown",
   "id": "46b8b89f",
   "metadata": {
    "papermill": {
     "duration": 0.00561,
     "end_time": "2025-08-23T01:00:21.070724",
     "exception": false,
     "start_time": "2025-08-23T01:00:21.065114",
     "status": "completed"
    },
    "tags": []
   },
   "source": [
    "### Zip"
   ]
  },
  {
   "cell_type": "code",
   "execution_count": 11,
   "id": "e8a5d00d",
   "metadata": {
    "execution": {
     "iopub.execute_input": "2025-08-23T01:00:21.083465Z",
     "iopub.status.busy": "2025-08-23T01:00:21.083173Z",
     "iopub.status.idle": "2025-08-23T01:02:38.854026Z",
     "shell.execute_reply": "2025-08-23T01:02:38.853401Z"
    },
    "papermill": {
     "duration": 137.778616,
     "end_time": "2025-08-23T01:02:38.855118",
     "exception": false,
     "start_time": "2025-08-23T01:00:21.076502",
     "status": "completed"
    },
    "tags": []
   },
   "outputs": [
    {
     "name": "stdout",
     "output_type": "stream",
     "text": [
      "Loaded zip cache.\n",
      "Error getting ZIP for nan, nan: Must be a coordinate pair or Point\n"
     ]
    },
    {
     "name": "stdout",
     "output_type": "stream",
     "text": [
      "Error getting ZIP for nan, nan: Must be a coordinate pair or Point\n"
     ]
    },
    {
     "name": "stdout",
     "output_type": "stream",
     "text": [
      "Error getting ZIP for nan, nan: Must be a coordinate pair or Point\n"
     ]
    },
    {
     "name": "stdout",
     "output_type": "stream",
     "text": [
      "Error getting ZIP for nan, nan: Must be a coordinate pair or Point\n"
     ]
    },
    {
     "name": "stdout",
     "output_type": "stream",
     "text": [
      "Error getting ZIP for nan, nan: Must be a coordinate pair or Point\n"
     ]
    },
    {
     "name": "stdout",
     "output_type": "stream",
     "text": [
      "Error getting ZIP for nan, nan: Must be a coordinate pair or Point\n"
     ]
    },
    {
     "name": "stdout",
     "output_type": "stream",
     "text": [
      "Error getting ZIP for nan, nan: Must be a coordinate pair or Point\n"
     ]
    },
    {
     "name": "stdout",
     "output_type": "stream",
     "text": [
      "Error getting ZIP for nan, nan: Must be a coordinate pair or Point\n"
     ]
    },
    {
     "name": "stdout",
     "output_type": "stream",
     "text": [
      "Error getting ZIP for nan, nan: Must be a coordinate pair or Point\n"
     ]
    },
    {
     "name": "stdout",
     "output_type": "stream",
     "text": [
      "Error getting ZIP for nan, nan: Must be a coordinate pair or Point\n"
     ]
    },
    {
     "name": "stdout",
     "output_type": "stream",
     "text": [
      "Error getting ZIP for nan, nan: Must be a coordinate pair or Point\n"
     ]
    },
    {
     "name": "stdout",
     "output_type": "stream",
     "text": [
      "Error getting ZIP for nan, nan: Must be a coordinate pair or Point\n"
     ]
    },
    {
     "name": "stdout",
     "output_type": "stream",
     "text": [
      "Error getting ZIP for nan, nan: Must be a coordinate pair or Point\n"
     ]
    },
    {
     "name": "stdout",
     "output_type": "stream",
     "text": [
      "Error getting ZIP for nan, nan: Must be a coordinate pair or Point\n"
     ]
    },
    {
     "name": "stdout",
     "output_type": "stream",
     "text": [
      "Error getting ZIP for nan, nan: Must be a coordinate pair or Point\n"
     ]
    },
    {
     "name": "stdout",
     "output_type": "stream",
     "text": [
      "Error getting ZIP for nan, nan: Must be a coordinate pair or Point\n"
     ]
    },
    {
     "name": "stdout",
     "output_type": "stream",
     "text": [
      "Error getting ZIP for nan, nan: Must be a coordinate pair or Point\n"
     ]
    },
    {
     "name": "stdout",
     "output_type": "stream",
     "text": [
      "Error getting ZIP for nan, nan: Must be a coordinate pair or Point\n"
     ]
    },
    {
     "name": "stdout",
     "output_type": "stream",
     "text": [
      "Error getting ZIP for nan, nan: Must be a coordinate pair or Point\n"
     ]
    },
    {
     "name": "stdout",
     "output_type": "stream",
     "text": [
      "Error getting ZIP for nan, nan: Must be a coordinate pair or Point\n"
     ]
    },
    {
     "name": "stdout",
     "output_type": "stream",
     "text": [
      "Error getting ZIP for nan, nan: Must be a coordinate pair or Point\n"
     ]
    },
    {
     "name": "stdout",
     "output_type": "stream",
     "text": [
      "Error getting ZIP for nan, nan: Must be a coordinate pair or Point\n"
     ]
    },
    {
     "name": "stdout",
     "output_type": "stream",
     "text": [
      "Error getting ZIP for nan, nan: Must be a coordinate pair or Point\n"
     ]
    },
    {
     "name": "stdout",
     "output_type": "stream",
     "text": [
      "Error getting ZIP for nan, nan: Must be a coordinate pair or Point\n"
     ]
    },
    {
     "name": "stdout",
     "output_type": "stream",
     "text": [
      "Error getting ZIP for nan, nan: Must be a coordinate pair or Point\n"
     ]
    },
    {
     "name": "stdout",
     "output_type": "stream",
     "text": [
      "Error getting ZIP for nan, nan: Must be a coordinate pair or Point\n"
     ]
    },
    {
     "name": "stdout",
     "output_type": "stream",
     "text": [
      "Error getting ZIP for nan, nan: Must be a coordinate pair or Point\n"
     ]
    },
    {
     "name": "stdout",
     "output_type": "stream",
     "text": [
      "Error getting ZIP for nan, nan: Must be a coordinate pair or Point\n"
     ]
    },
    {
     "name": "stdout",
     "output_type": "stream",
     "text": [
      "Error getting ZIP for nan, nan: Must be a coordinate pair or Point\n"
     ]
    },
    {
     "name": "stdout",
     "output_type": "stream",
     "text": [
      "Error getting ZIP for nan, nan: Must be a coordinate pair or Point\n"
     ]
    },
    {
     "name": "stdout",
     "output_type": "stream",
     "text": [
      "Error getting ZIP for nan, nan: Must be a coordinate pair or Point\n"
     ]
    },
    {
     "name": "stdout",
     "output_type": "stream",
     "text": [
      "Error getting ZIP for nan, nan: Must be a coordinate pair or Point\n"
     ]
    },
    {
     "name": "stdout",
     "output_type": "stream",
     "text": [
      "Error getting ZIP for nan, nan: Must be a coordinate pair or Point\n"
     ]
    },
    {
     "name": "stdout",
     "output_type": "stream",
     "text": [
      "Error getting ZIP for nan, nan: Must be a coordinate pair or Point\n"
     ]
    },
    {
     "name": "stdout",
     "output_type": "stream",
     "text": [
      "Error getting ZIP for nan, nan: Must be a coordinate pair or Point\n"
     ]
    },
    {
     "name": "stdout",
     "output_type": "stream",
     "text": [
      "Error getting ZIP for nan, nan: Must be a coordinate pair or Point\n"
     ]
    },
    {
     "name": "stdout",
     "output_type": "stream",
     "text": [
      "Error getting ZIP for nan, nan: Must be a coordinate pair or Point\n"
     ]
    },
    {
     "name": "stdout",
     "output_type": "stream",
     "text": [
      "Error getting ZIP for nan, nan: Must be a coordinate pair or Point\n"
     ]
    },
    {
     "name": "stdout",
     "output_type": "stream",
     "text": [
      "Error getting ZIP for nan, nan: Must be a coordinate pair or Point\n"
     ]
    },
    {
     "name": "stdout",
     "output_type": "stream",
     "text": [
      "Error getting ZIP for nan, nan: Must be a coordinate pair or Point\n"
     ]
    },
    {
     "name": "stdout",
     "output_type": "stream",
     "text": [
      "Error getting ZIP for nan, nan: Must be a coordinate pair or Point\n"
     ]
    },
    {
     "name": "stdout",
     "output_type": "stream",
     "text": [
      "Error getting ZIP for nan, nan: Must be a coordinate pair or Point\n"
     ]
    },
    {
     "name": "stdout",
     "output_type": "stream",
     "text": [
      "Error getting ZIP for nan, nan: Must be a coordinate pair or Point\n"
     ]
    },
    {
     "name": "stdout",
     "output_type": "stream",
     "text": [
      "Error getting ZIP for nan, nan: Must be a coordinate pair or Point\n"
     ]
    },
    {
     "name": "stdout",
     "output_type": "stream",
     "text": [
      "Error getting ZIP for nan, nan: Must be a coordinate pair or Point\n"
     ]
    },
    {
     "name": "stdout",
     "output_type": "stream",
     "text": [
      "Error getting ZIP for nan, nan: Must be a coordinate pair or Point\n"
     ]
    },
    {
     "name": "stdout",
     "output_type": "stream",
     "text": [
      "Error getting ZIP for nan, nan: Must be a coordinate pair or Point\n"
     ]
    },
    {
     "name": "stdout",
     "output_type": "stream",
     "text": [
      "Error getting ZIP for nan, nan: Must be a coordinate pair or Point\n"
     ]
    },
    {
     "name": "stdout",
     "output_type": "stream",
     "text": [
      "Error getting ZIP for nan, nan: Must be a coordinate pair or Point\n"
     ]
    },
    {
     "name": "stdout",
     "output_type": "stream",
     "text": [
      "Error getting ZIP for nan, nan: Must be a coordinate pair or Point\n"
     ]
    },
    {
     "name": "stdout",
     "output_type": "stream",
     "text": [
      "Error getting ZIP for nan, nan: Must be a coordinate pair or Point\n"
     ]
    },
    {
     "name": "stdout",
     "output_type": "stream",
     "text": [
      "Error getting ZIP for nan, nan: Must be a coordinate pair or Point\n"
     ]
    },
    {
     "name": "stdout",
     "output_type": "stream",
     "text": [
      "Error getting ZIP for nan, nan: Must be a coordinate pair or Point\n"
     ]
    },
    {
     "name": "stdout",
     "output_type": "stream",
     "text": [
      "Error getting ZIP for nan, nan: Must be a coordinate pair or Point\n"
     ]
    },
    {
     "name": "stdout",
     "output_type": "stream",
     "text": [
      "Error getting ZIP for nan, nan: Must be a coordinate pair or Point\n"
     ]
    },
    {
     "name": "stdout",
     "output_type": "stream",
     "text": [
      "Error getting ZIP for nan, nan: Must be a coordinate pair or Point\n"
     ]
    },
    {
     "name": "stdout",
     "output_type": "stream",
     "text": [
      "Error getting ZIP for nan, nan: Must be a coordinate pair or Point\n"
     ]
    },
    {
     "name": "stdout",
     "output_type": "stream",
     "text": [
      "Error getting ZIP for nan, nan: Must be a coordinate pair or Point\n"
     ]
    },
    {
     "name": "stdout",
     "output_type": "stream",
     "text": [
      "Error getting ZIP for nan, nan: Must be a coordinate pair or Point\n"
     ]
    },
    {
     "name": "stdout",
     "output_type": "stream",
     "text": [
      "Error getting ZIP for nan, nan: Must be a coordinate pair or Point\n"
     ]
    },
    {
     "name": "stdout",
     "output_type": "stream",
     "text": [
      "Error getting ZIP for nan, nan: Must be a coordinate pair or Point\n"
     ]
    },
    {
     "name": "stdout",
     "output_type": "stream",
     "text": [
      "Error getting ZIP for nan, nan: Must be a coordinate pair or Point\n"
     ]
    },
    {
     "name": "stdout",
     "output_type": "stream",
     "text": [
      "Error getting ZIP for nan, nan: Must be a coordinate pair or Point\n"
     ]
    },
    {
     "name": "stdout",
     "output_type": "stream",
     "text": [
      "Error getting ZIP for nan, nan: Must be a coordinate pair or Point\n"
     ]
    },
    {
     "name": "stdout",
     "output_type": "stream",
     "text": [
      "Error getting ZIP for nan, nan: Must be a coordinate pair or Point\n"
     ]
    },
    {
     "name": "stdout",
     "output_type": "stream",
     "text": [
      "Error getting ZIP for nan, nan: Must be a coordinate pair or Point\n"
     ]
    },
    {
     "name": "stdout",
     "output_type": "stream",
     "text": [
      "Error getting ZIP for nan, nan: Must be a coordinate pair or Point\n"
     ]
    },
    {
     "name": "stdout",
     "output_type": "stream",
     "text": [
      "Error getting ZIP for nan, nan: Must be a coordinate pair or Point\n"
     ]
    },
    {
     "name": "stdout",
     "output_type": "stream",
     "text": [
      "Error getting ZIP for nan, nan: Must be a coordinate pair or Point\n"
     ]
    },
    {
     "name": "stdout",
     "output_type": "stream",
     "text": [
      "Error getting ZIP for nan, nan: Must be a coordinate pair or Point\n"
     ]
    },
    {
     "name": "stdout",
     "output_type": "stream",
     "text": [
      "Error getting ZIP for nan, nan: Must be a coordinate pair or Point\n"
     ]
    },
    {
     "name": "stdout",
     "output_type": "stream",
     "text": [
      "Error getting ZIP for nan, nan: Must be a coordinate pair or Point\n"
     ]
    },
    {
     "name": "stdout",
     "output_type": "stream",
     "text": [
      "Error getting ZIP for nan, nan: Must be a coordinate pair or Point\n"
     ]
    },
    {
     "name": "stdout",
     "output_type": "stream",
     "text": [
      "Error getting ZIP for nan, nan: Must be a coordinate pair or Point\n"
     ]
    },
    {
     "name": "stdout",
     "output_type": "stream",
     "text": [
      "Error getting ZIP for nan, nan: Must be a coordinate pair or Point\n"
     ]
    },
    {
     "name": "stdout",
     "output_type": "stream",
     "text": [
      "Error getting ZIP for nan, nan: Must be a coordinate pair or Point\n"
     ]
    },
    {
     "name": "stdout",
     "output_type": "stream",
     "text": [
      "Error getting ZIP for nan, nan: Must be a coordinate pair or Point\n"
     ]
    },
    {
     "name": "stdout",
     "output_type": "stream",
     "text": [
      "Error getting ZIP for nan, nan: Must be a coordinate pair or Point\n"
     ]
    },
    {
     "name": "stdout",
     "output_type": "stream",
     "text": [
      "Error getting ZIP for nan, nan: Must be a coordinate pair or Point\n"
     ]
    },
    {
     "name": "stdout",
     "output_type": "stream",
     "text": [
      "Error getting ZIP for nan, nan: Must be a coordinate pair or Point\n"
     ]
    },
    {
     "name": "stdout",
     "output_type": "stream",
     "text": [
      "Error getting ZIP for nan, nan: Must be a coordinate pair or Point\n"
     ]
    },
    {
     "name": "stdout",
     "output_type": "stream",
     "text": [
      "Error getting ZIP for nan, nan: Must be a coordinate pair or Point\n"
     ]
    },
    {
     "name": "stdout",
     "output_type": "stream",
     "text": [
      "Error getting ZIP for nan, nan: Must be a coordinate pair or Point\n"
     ]
    },
    {
     "name": "stdout",
     "output_type": "stream",
     "text": [
      "Error getting ZIP for nan, nan: Must be a coordinate pair or Point\n"
     ]
    },
    {
     "name": "stdout",
     "output_type": "stream",
     "text": [
      "Error getting ZIP for nan, nan: Must be a coordinate pair or Point\n"
     ]
    },
    {
     "name": "stdout",
     "output_type": "stream",
     "text": [
      "Error getting ZIP for nan, nan: Must be a coordinate pair or Point\n"
     ]
    },
    {
     "name": "stdout",
     "output_type": "stream",
     "text": [
      "Error getting ZIP for nan, nan: Must be a coordinate pair or Point\n"
     ]
    },
    {
     "name": "stdout",
     "output_type": "stream",
     "text": [
      "Error getting ZIP for nan, nan: Must be a coordinate pair or Point\n"
     ]
    },
    {
     "name": "stdout",
     "output_type": "stream",
     "text": [
      "Error getting ZIP for nan, nan: Must be a coordinate pair or Point\n"
     ]
    },
    {
     "name": "stdout",
     "output_type": "stream",
     "text": [
      "Error getting ZIP for nan, nan: Must be a coordinate pair or Point\n"
     ]
    },
    {
     "name": "stdout",
     "output_type": "stream",
     "text": [
      "Error getting ZIP for nan, nan: Must be a coordinate pair or Point\n"
     ]
    },
    {
     "name": "stdout",
     "output_type": "stream",
     "text": [
      "Error getting ZIP for nan, nan: Must be a coordinate pair or Point\n"
     ]
    },
    {
     "name": "stdout",
     "output_type": "stream",
     "text": [
      "Error getting ZIP for nan, nan: Must be a coordinate pair or Point\n"
     ]
    },
    {
     "name": "stdout",
     "output_type": "stream",
     "text": [
      "Error getting ZIP for nan, nan: Must be a coordinate pair or Point\n"
     ]
    },
    {
     "name": "stdout",
     "output_type": "stream",
     "text": [
      "Error getting ZIP for nan, nan: Must be a coordinate pair or Point\n"
     ]
    },
    {
     "name": "stdout",
     "output_type": "stream",
     "text": [
      "Error getting ZIP for nan, nan: Must be a coordinate pair or Point\n"
     ]
    },
    {
     "name": "stdout",
     "output_type": "stream",
     "text": [
      "Error getting ZIP for nan, nan: Must be a coordinate pair or Point\n"
     ]
    },
    {
     "name": "stdout",
     "output_type": "stream",
     "text": [
      "Error getting ZIP for nan, nan: Must be a coordinate pair or Point\n"
     ]
    },
    {
     "name": "stdout",
     "output_type": "stream",
     "text": [
      "Error getting ZIP for nan, nan: Must be a coordinate pair or Point\n"
     ]
    },
    {
     "name": "stdout",
     "output_type": "stream",
     "text": [
      "Error getting ZIP for nan, nan: Must be a coordinate pair or Point\n"
     ]
    },
    {
     "name": "stdout",
     "output_type": "stream",
     "text": [
      "Error getting ZIP for nan, nan: Must be a coordinate pair or Point\n"
     ]
    },
    {
     "name": "stdout",
     "output_type": "stream",
     "text": [
      "Error getting ZIP for nan, nan: Must be a coordinate pair or Point\n"
     ]
    },
    {
     "name": "stdout",
     "output_type": "stream",
     "text": [
      "Error getting ZIP for nan, nan: Must be a coordinate pair or Point\n"
     ]
    },
    {
     "name": "stdout",
     "output_type": "stream",
     "text": [
      "Error getting ZIP for nan, nan: Must be a coordinate pair or Point\n"
     ]
    },
    {
     "name": "stdout",
     "output_type": "stream",
     "text": [
      "Error getting ZIP for nan, nan: Must be a coordinate pair or Point\n"
     ]
    },
    {
     "name": "stdout",
     "output_type": "stream",
     "text": [
      "Error getting ZIP for nan, nan: Must be a coordinate pair or Point\n"
     ]
    },
    {
     "name": "stdout",
     "output_type": "stream",
     "text": [
      "Error getting ZIP for nan, nan: Must be a coordinate pair or Point\n"
     ]
    },
    {
     "name": "stdout",
     "output_type": "stream",
     "text": [
      "Error getting ZIP for nan, nan: Must be a coordinate pair or Point\n"
     ]
    },
    {
     "name": "stdout",
     "output_type": "stream",
     "text": [
      "Error getting ZIP for nan, nan: Must be a coordinate pair or Point\n"
     ]
    },
    {
     "name": "stdout",
     "output_type": "stream",
     "text": [
      "Error getting ZIP for nan, nan: Must be a coordinate pair or Point\n"
     ]
    },
    {
     "name": "stdout",
     "output_type": "stream",
     "text": [
      "Error getting ZIP for nan, nan: Must be a coordinate pair or Point\n"
     ]
    },
    {
     "name": "stdout",
     "output_type": "stream",
     "text": [
      "Error getting ZIP for nan, nan: Must be a coordinate pair or Point\n"
     ]
    },
    {
     "name": "stdout",
     "output_type": "stream",
     "text": [
      "Error getting ZIP for nan, nan: Must be a coordinate pair or Point\n"
     ]
    },
    {
     "name": "stdout",
     "output_type": "stream",
     "text": [
      "Error getting ZIP for nan, nan: Must be a coordinate pair or Point\n"
     ]
    },
    {
     "name": "stdout",
     "output_type": "stream",
     "text": [
      "Error getting ZIP for nan, nan: Must be a coordinate pair or Point\n"
     ]
    },
    {
     "name": "stdout",
     "output_type": "stream",
     "text": [
      "Error getting ZIP for nan, nan: Must be a coordinate pair or Point\n"
     ]
    },
    {
     "name": "stdout",
     "output_type": "stream",
     "text": [
      "Error getting ZIP for nan, nan: Must be a coordinate pair or Point\n"
     ]
    },
    {
     "name": "stdout",
     "output_type": "stream",
     "text": [
      "Error getting ZIP for nan, nan: Must be a coordinate pair or Point\n"
     ]
    },
    {
     "name": "stdout",
     "output_type": "stream",
     "text": [
      "Error getting ZIP for nan, nan: Must be a coordinate pair or Point\n"
     ]
    },
    {
     "name": "stdout",
     "output_type": "stream",
     "text": [
      "Error getting ZIP for nan, nan: Must be a coordinate pair or Point\n"
     ]
    },
    {
     "name": "stdout",
     "output_type": "stream",
     "text": [
      "Error getting ZIP for nan, nan: Must be a coordinate pair or Point\n"
     ]
    },
    {
     "name": "stdout",
     "output_type": "stream",
     "text": [
      "Error getting ZIP for nan, nan: Must be a coordinate pair or Point\n"
     ]
    },
    {
     "name": "stdout",
     "output_type": "stream",
     "text": [
      "Error getting ZIP for nan, nan: Must be a coordinate pair or Point\n"
     ]
    },
    {
     "name": "stdout",
     "output_type": "stream",
     "text": [
      "Error getting ZIP for nan, nan: Must be a coordinate pair or Point\n"
     ]
    },
    {
     "name": "stdout",
     "output_type": "stream",
     "text": [
      "Error getting ZIP for nan, nan: Must be a coordinate pair or Point\n"
     ]
    },
    {
     "name": "stdout",
     "output_type": "stream",
     "text": [
      "Error getting ZIP for nan, nan: Must be a coordinate pair or Point\n"
     ]
    },
    {
     "name": "stdout",
     "output_type": "stream",
     "text": [
      "Error getting ZIP for nan, nan: Must be a coordinate pair or Point\n"
     ]
    },
    {
     "name": "stdout",
     "output_type": "stream",
     "text": [
      "Error getting ZIP for nan, nan: Must be a coordinate pair or Point\n"
     ]
    },
    {
     "name": "stdout",
     "output_type": "stream",
     "text": [
      "Error getting ZIP for nan, nan: Must be a coordinate pair or Point\n"
     ]
    },
    {
     "name": "stdout",
     "output_type": "stream",
     "text": [
      "Error getting ZIP for nan, nan: Must be a coordinate pair or Point\n"
     ]
    },
    {
     "name": "stdout",
     "output_type": "stream",
     "text": [
      "Error getting ZIP for nan, nan: Must be a coordinate pair or Point\n"
     ]
    },
    {
     "name": "stdout",
     "output_type": "stream",
     "text": [
      "Error getting ZIP for nan, nan: Must be a coordinate pair or Point\n"
     ]
    },
    {
     "name": "stdout",
     "output_type": "stream",
     "text": [
      "Error getting ZIP for nan, nan: Must be a coordinate pair or Point\n"
     ]
    },
    {
     "name": "stdout",
     "output_type": "stream",
     "text": [
      "Error getting ZIP for nan, nan: Must be a coordinate pair or Point\n"
     ]
    },
    {
     "name": "stdout",
     "output_type": "stream",
     "text": [
      "Error getting ZIP for nan, nan: Must be a coordinate pair or Point\n"
     ]
    },
    {
     "name": "stdout",
     "output_type": "stream",
     "text": [
      "Error getting ZIP for nan, nan: Must be a coordinate pair or Point\n"
     ]
    },
    {
     "name": "stdout",
     "output_type": "stream",
     "text": [
      "Error getting ZIP for nan, nan: Must be a coordinate pair or Point\n"
     ]
    },
    {
     "data": {
      "text/html": [
       "<div>\n",
       "<style scoped>\n",
       "    .dataframe tbody tr th:only-of-type {\n",
       "        vertical-align: middle;\n",
       "    }\n",
       "\n",
       "    .dataframe tbody tr th {\n",
       "        vertical-align: top;\n",
       "    }\n",
       "\n",
       "    .dataframe thead th {\n",
       "        text-align: right;\n",
       "    }\n",
       "</style>\n",
       "<table border=\"1\" class=\"dataframe\">\n",
       "  <thead>\n",
       "    <tr style=\"text-align: right;\">\n",
       "      <th></th>\n",
       "      <th>RecordID</th>\n",
       "      <th>Offense</th>\n",
       "      <th>IncidentID</th>\n",
       "      <th>BlockNumber</th>\n",
       "      <th>StreetName</th>\n",
       "      <th>Agency</th>\n",
       "      <th>HourReported</th>\n",
       "      <th>ReportingOfficer</th>\n",
       "      <th>Date</th>\n",
       "      <th>DateString</th>\n",
       "      <th>DayOfWeek</th>\n",
       "      <th>Weekend</th>\n",
       "      <th>Season</th>\n",
       "      <th>HourAMPM</th>\n",
       "      <th>TimeOfDay</th>\n",
       "      <th>FullStreet</th>\n",
       "      <th>lat</th>\n",
       "      <th>lon</th>\n",
       "      <th>neighborhood</th>\n",
       "      <th>zip</th>\n",
       "    </tr>\n",
       "  </thead>\n",
       "  <tbody>\n",
       "    <tr>\n",
       "      <th>0</th>\n",
       "      <td>1</td>\n",
       "      <td>Assist Citizen - Mental/TDO/ECO</td>\n",
       "      <td>202500029640</td>\n",
       "      <td>600</td>\n",
       "      <td>RAINIER RD</td>\n",
       "      <td>CPD</td>\n",
       "      <td>2158</td>\n",
       "      <td>Bentz, Benjamin</td>\n",
       "      <td>2025-08-20 21:58:45</td>\n",
       "      <td>2025-08-20 09:58:45 PM</td>\n",
       "      <td>Wednesday</td>\n",
       "      <td>False</td>\n",
       "      <td>Summer</td>\n",
       "      <td>09:58 PM</td>\n",
       "      <td>Night</td>\n",
       "      <td>600 RAINIER RD</td>\n",
       "      <td>38.021293</td>\n",
       "      <td>-78.509378</td>\n",
       "      <td>Johnson Village</td>\n",
       "      <td>22903</td>\n",
       "    </tr>\n",
       "    <tr>\n",
       "      <th>1</th>\n",
       "      <td>2</td>\n",
       "      <td>Assist Agency - Backup/Assist</td>\n",
       "      <td>202500029639</td>\n",
       "      <td>500</td>\n",
       "      <td>HARRIS RD</td>\n",
       "      <td>CPD</td>\n",
       "      <td>2158</td>\n",
       "      <td>Urban, Jacob</td>\n",
       "      <td>2025-08-20 21:58:40</td>\n",
       "      <td>2025-08-20 09:58:40 PM</td>\n",
       "      <td>Wednesday</td>\n",
       "      <td>False</td>\n",
       "      <td>Summer</td>\n",
       "      <td>09:58 PM</td>\n",
       "      <td>Night</td>\n",
       "      <td>500 HARRIS RD</td>\n",
       "      <td>38.015099</td>\n",
       "      <td>-78.503687</td>\n",
       "      <td>Fry's Spring</td>\n",
       "      <td>22903</td>\n",
       "    </tr>\n",
       "    <tr>\n",
       "      <th>2</th>\n",
       "      <td>3</td>\n",
       "      <td>Harassment</td>\n",
       "      <td>202500029632</td>\n",
       "      <td>200</td>\n",
       "      <td>E MARKET ST</td>\n",
       "      <td>CPD</td>\n",
       "      <td>2055</td>\n",
       "      <td>Hudson, Jesse</td>\n",
       "      <td>2025-08-20 20:55:00</td>\n",
       "      <td>2025-08-20 08:55:00 PM</td>\n",
       "      <td>Wednesday</td>\n",
       "      <td>False</td>\n",
       "      <td>Summer</td>\n",
       "      <td>08:55 PM</td>\n",
       "      <td>Evening</td>\n",
       "      <td>200 E MARKET ST</td>\n",
       "      <td>38.031104</td>\n",
       "      <td>-78.480367</td>\n",
       "      <td>Downtown Mall</td>\n",
       "      <td>22902</td>\n",
       "    </tr>\n",
       "    <tr>\n",
       "      <th>3</th>\n",
       "      <td>4</td>\n",
       "      <td>Fraud-false pretense</td>\n",
       "      <td>202500029617</td>\n",
       "      <td>500</td>\n",
       "      <td>HARRIS RD, 127</td>\n",
       "      <td>CPD</td>\n",
       "      <td>1742</td>\n",
       "      <td>Venereo, Arturo</td>\n",
       "      <td>2025-08-20 17:42:11</td>\n",
       "      <td>2025-08-20 05:42:11 PM</td>\n",
       "      <td>Wednesday</td>\n",
       "      <td>False</td>\n",
       "      <td>Summer</td>\n",
       "      <td>05:42 PM</td>\n",
       "      <td>Evening</td>\n",
       "      <td>500 HARRIS RD, 127</td>\n",
       "      <td>NaN</td>\n",
       "      <td>NaN</td>\n",
       "      <td>N/A</td>\n",
       "      <td>N/A</td>\n",
       "    </tr>\n",
       "    <tr>\n",
       "      <th>4</th>\n",
       "      <td>5</td>\n",
       "      <td>Assault Simple</td>\n",
       "      <td>202500029607</td>\n",
       "      <td>400</td>\n",
       "      <td>4TH ST NW</td>\n",
       "      <td>CPD</td>\n",
       "      <td>1641</td>\n",
       "      <td>Urban, Jacob</td>\n",
       "      <td>2025-08-20 16:41:39</td>\n",
       "      <td>2025-08-20 04:41:39 PM</td>\n",
       "      <td>Wednesday</td>\n",
       "      <td>False</td>\n",
       "      <td>Summer</td>\n",
       "      <td>04:41 PM</td>\n",
       "      <td>Afternoon</td>\n",
       "      <td>400 4TH ST NW</td>\n",
       "      <td>38.033603</td>\n",
       "      <td>-78.485441</td>\n",
       "      <td>Starr Hill</td>\n",
       "      <td>22903</td>\n",
       "    </tr>\n",
       "  </tbody>\n",
       "</table>\n",
       "</div>"
      ],
      "text/plain": [
       "   RecordID                          Offense    IncidentID BlockNumber  \\\n",
       "0         1  Assist Citizen - Mental/TDO/ECO  202500029640         600   \n",
       "1         2    Assist Agency - Backup/Assist  202500029639         500   \n",
       "2         3                       Harassment  202500029632         200   \n",
       "3         4             Fraud-false pretense  202500029617         500   \n",
       "4         5                   Assault Simple  202500029607         400   \n",
       "\n",
       "       StreetName Agency HourReported  ReportingOfficer                Date  \\\n",
       "0      RAINIER RD    CPD         2158  Bentz, Benjamin  2025-08-20 21:58:45   \n",
       "1       HARRIS RD    CPD         2158      Urban, Jacob 2025-08-20 21:58:40   \n",
       "2     E MARKET ST    CPD         2055     Hudson, Jesse 2025-08-20 20:55:00   \n",
       "3  HARRIS RD, 127    CPD         1742   Venereo, Arturo 2025-08-20 17:42:11   \n",
       "4       4TH ST NW    CPD         1641      Urban, Jacob 2025-08-20 16:41:39   \n",
       "\n",
       "               DateString  DayOfWeek  Weekend  Season  HourAMPM  TimeOfDay  \\\n",
       "0  2025-08-20 09:58:45 PM  Wednesday    False  Summer  09:58 PM      Night   \n",
       "1  2025-08-20 09:58:40 PM  Wednesday    False  Summer  09:58 PM      Night   \n",
       "2  2025-08-20 08:55:00 PM  Wednesday    False  Summer  08:55 PM    Evening   \n",
       "3  2025-08-20 05:42:11 PM  Wednesday    False  Summer  05:42 PM    Evening   \n",
       "4  2025-08-20 04:41:39 PM  Wednesday    False  Summer  04:41 PM  Afternoon   \n",
       "\n",
       "           FullStreet        lat        lon     neighborhood    zip  \n",
       "0      600 RAINIER RD  38.021293 -78.509378  Johnson Village  22903  \n",
       "1       500 HARRIS RD  38.015099 -78.503687     Fry's Spring  22903  \n",
       "2     200 E MARKET ST  38.031104 -78.480367    Downtown Mall  22902  \n",
       "3  500 HARRIS RD, 127        NaN        NaN              N/A    N/A  \n",
       "4       400 4TH ST NW  38.033603 -78.485441       Starr Hill  22903  "
      ]
     },
     "execution_count": 11,
     "metadata": {},
     "output_type": "execute_result"
    }
   ],
   "source": [
    "# Initialize the geocoder.\n",
    "geolocator = Nominatim(user_agent=\"zip_lookup\")\n",
    "\n",
    "# Try to load a persistent ZIP cache if available.\n",
    "try:\n",
    "    with open(\"zip_cache.pkl\", \"rb\") as f:\n",
    "        zip_cache = pickle.load(f)\n",
    "    print(\"Loaded zip cache.\")\n",
    "except FileNotFoundError:\n",
    "    zip_cache = {}\n",
    "    print(\"No zip cache found; starting fresh.\")\n",
    "\n",
    "def get_zip(lat, lon):\n",
    "    \"\"\"\n",
    "    Reverse geocodes a latitude and longitude to retrieve the ZIP code.\n",
    "    Caches results to speed up subsequent lookups.\n",
    "    \"\"\"\n",
    "    key = (lat, lon)\n",
    "    if key in zip_cache:\n",
    "        return zip_cache[key]\n",
    "    \n",
    "    try:\n",
    "        location = geolocator.reverse((lat, lon), exactly_one=True, timeout=10)\n",
    "        address = location.raw.get('address', {})\n",
    "        postal_code = address.get('postcode', \"N/A\")\n",
    "    except Exception as e:\n",
    "        print(f\"Error getting ZIP for {lat}, {lon}: {e}\")\n",
    "        postal_code = \"N/A\"\n",
    "    \n",
    "    zip_cache[key] = postal_code\n",
    "    # Pause to respect the usage policy.\n",
    "    time.sleep(1)\n",
    "    return postal_code\n",
    "\n",
    "# Apply the function to each row in the DataFrame.\n",
    "df['zip'] = df.apply(lambda row: get_zip(row['lat'], row['lon']), axis=1)\n",
    "\n",
    "# Save the updated ZIP cache.\n",
    "with open(\"zip_cache.pkl\", \"wb\") as f:\n",
    "    pickle.dump(zip_cache, f)\n",
    "\n",
    "df.head()\n"
   ]
  },
  {
   "cell_type": "code",
   "execution_count": 12,
   "id": "06f10f0e",
   "metadata": {
    "execution": {
     "iopub.execute_input": "2025-08-23T01:02:38.880383Z",
     "iopub.status.busy": "2025-08-23T01:02:38.880034Z",
     "iopub.status.idle": "2025-08-23T01:02:38.908860Z",
     "shell.execute_reply": "2025-08-23T01:02:38.908251Z"
    },
    "papermill": {
     "duration": 0.042423,
     "end_time": "2025-08-23T01:02:38.909837",
     "exception": false,
     "start_time": "2025-08-23T01:02:38.867414",
     "status": "completed"
    },
    "tags": []
   },
   "outputs": [
    {
     "name": "stdout",
     "output_type": "stream",
     "text": [
      "                  MissingCount  MissingPercentage\n",
      "RecordID                     0               0.00\n",
      "Offense                      0               0.00\n",
      "IncidentID                   0               0.00\n",
      "BlockNumber                  0               0.00\n",
      "StreetName                   0               0.00\n",
      "Agency                       0               0.00\n",
      "HourReported                 0               0.00\n",
      "ReportingOfficer            15               0.06\n",
      "Date                         0               0.00\n",
      "DateString                   0               0.00\n",
      "DayOfWeek                    0               0.00\n",
      "Weekend                      0               0.00\n",
      "Season                       0               0.00\n",
      "HourAMPM                     0               0.00\n",
      "TimeOfDay                    0               0.00\n",
      "FullStreet                   0               0.00\n",
      "lat                        137               0.53\n",
      "lon                        137               0.53\n",
      "neighborhood                 0               0.00\n",
      "zip                          0               0.00\n"
     ]
    }
   ],
   "source": [
    "missing_info = missing_percentage(df)\n",
    "print(missing_info)\n"
   ]
  },
  {
   "cell_type": "code",
   "execution_count": 13,
   "id": "fc119d4a",
   "metadata": {
    "execution": {
     "iopub.execute_input": "2025-08-23T01:02:38.934829Z",
     "iopub.status.busy": "2025-08-23T01:02:38.934565Z",
     "iopub.status.idle": "2025-08-23T01:02:38.965892Z",
     "shell.execute_reply": "2025-08-23T01:02:38.965300Z"
    },
    "papermill": {
     "duration": 0.045046,
     "end_time": "2025-08-23T01:02:38.966921",
     "exception": false,
     "start_time": "2025-08-23T01:02:38.921875",
     "status": "completed"
    },
    "tags": []
   },
   "outputs": [
    {
     "name": "stdout",
     "output_type": "stream",
     "text": [
      "<class 'pandas.core.frame.DataFrame'>\n",
      "RangeIndex: 25662 entries, 0 to 25661\n",
      "Data columns (total 20 columns):\n",
      " #   Column            Non-Null Count  Dtype         \n",
      "---  ------            --------------  -----         \n",
      " 0   RecordID          25662 non-null  int64         \n",
      " 1   Offense           25662 non-null  object        \n",
      " 2   IncidentID        25662 non-null  object        \n",
      " 3   BlockNumber       25662 non-null  object        \n",
      " 4   StreetName        25662 non-null  object        \n",
      " 5   Agency            25662 non-null  object        \n",
      " 6   HourReported      25662 non-null  object        \n",
      " 7   ReportingOfficer  25647 non-null  object        \n",
      " 8   Date              25662 non-null  datetime64[ns]\n",
      " 9   DateString        25662 non-null  object        \n",
      " 10  DayOfWeek         25662 non-null  object        \n",
      " 11  Weekend           25662 non-null  bool          \n",
      " 12  Season            25662 non-null  object        \n",
      " 13  HourAMPM          25662 non-null  object        \n",
      " 14  TimeOfDay         25662 non-null  object        \n",
      " 15  FullStreet        25662 non-null  object        \n",
      " 16  lat               25525 non-null  float64       \n",
      " 17  lon               25525 non-null  float64       \n",
      " 18  neighborhood      25662 non-null  object        \n",
      " 19  zip               25662 non-null  object        \n",
      "dtypes: bool(1), datetime64[ns](1), float64(2), int64(1), object(15)\n",
      "memory usage: 3.7+ MB\n"
     ]
    }
   ],
   "source": [
    "df.info()"
   ]
  },
  {
   "cell_type": "code",
   "execution_count": 14,
   "id": "7cc4e74d",
   "metadata": {
    "execution": {
     "iopub.execute_input": "2025-08-23T01:02:38.991866Z",
     "iopub.status.busy": "2025-08-23T01:02:38.991620Z",
     "iopub.status.idle": "2025-08-23T01:02:39.039500Z",
     "shell.execute_reply": "2025-08-23T01:02:39.038775Z"
    },
    "papermill": {
     "duration": 0.061491,
     "end_time": "2025-08-23T01:02:39.040559",
     "exception": false,
     "start_time": "2025-08-23T01:02:38.979068",
     "status": "completed"
    },
    "tags": []
   },
   "outputs": [
    {
     "data": {
      "text/html": [
       "<div>\n",
       "<style scoped>\n",
       "    .dataframe tbody tr th:only-of-type {\n",
       "        vertical-align: middle;\n",
       "    }\n",
       "\n",
       "    .dataframe tbody tr th {\n",
       "        vertical-align: top;\n",
       "    }\n",
       "\n",
       "    .dataframe thead th {\n",
       "        text-align: right;\n",
       "    }\n",
       "</style>\n",
       "<table border=\"1\" class=\"dataframe\">\n",
       "  <thead>\n",
       "    <tr style=\"text-align: right;\">\n",
       "      <th></th>\n",
       "      <th>RecordID</th>\n",
       "      <th>Offense</th>\n",
       "      <th>IncidentID</th>\n",
       "      <th>Agency</th>\n",
       "      <th>ReportingOfficer</th>\n",
       "      <th>Date</th>\n",
       "      <th>DayOfWeek</th>\n",
       "      <th>Weekend</th>\n",
       "      <th>Season</th>\n",
       "      <th>TimeOfDay</th>\n",
       "      <th>FullStreet</th>\n",
       "      <th>lat</th>\n",
       "      <th>lon</th>\n",
       "      <th>neighborhood</th>\n",
       "      <th>zip</th>\n",
       "    </tr>\n",
       "  </thead>\n",
       "  <tbody>\n",
       "    <tr>\n",
       "      <th>0</th>\n",
       "      <td>1</td>\n",
       "      <td>Assist Citizen - Mental/TDO/ECO</td>\n",
       "      <td>202500029640</td>\n",
       "      <td>CPD</td>\n",
       "      <td>Bentz, Benjamin</td>\n",
       "      <td>2025-08-20 21:58:45</td>\n",
       "      <td>Wednesday</td>\n",
       "      <td>False</td>\n",
       "      <td>Summer</td>\n",
       "      <td>Night</td>\n",
       "      <td>600 RAINIER RD</td>\n",
       "      <td>38.021293</td>\n",
       "      <td>-78.509378</td>\n",
       "      <td>Johnson Village</td>\n",
       "      <td>22903</td>\n",
       "    </tr>\n",
       "    <tr>\n",
       "      <th>1</th>\n",
       "      <td>2</td>\n",
       "      <td>Assist Agency - Backup/Assist</td>\n",
       "      <td>202500029639</td>\n",
       "      <td>CPD</td>\n",
       "      <td>Urban, Jacob</td>\n",
       "      <td>2025-08-20 21:58:40</td>\n",
       "      <td>Wednesday</td>\n",
       "      <td>False</td>\n",
       "      <td>Summer</td>\n",
       "      <td>Night</td>\n",
       "      <td>500 HARRIS RD</td>\n",
       "      <td>38.015099</td>\n",
       "      <td>-78.503687</td>\n",
       "      <td>Fry's Spring</td>\n",
       "      <td>22903</td>\n",
       "    </tr>\n",
       "    <tr>\n",
       "      <th>2</th>\n",
       "      <td>3</td>\n",
       "      <td>Harassment</td>\n",
       "      <td>202500029632</td>\n",
       "      <td>CPD</td>\n",
       "      <td>Hudson, Jesse</td>\n",
       "      <td>2025-08-20 20:55:00</td>\n",
       "      <td>Wednesday</td>\n",
       "      <td>False</td>\n",
       "      <td>Summer</td>\n",
       "      <td>Evening</td>\n",
       "      <td>200 E MARKET ST</td>\n",
       "      <td>38.031104</td>\n",
       "      <td>-78.480367</td>\n",
       "      <td>Downtown Mall</td>\n",
       "      <td>22902</td>\n",
       "    </tr>\n",
       "    <tr>\n",
       "      <th>3</th>\n",
       "      <td>4</td>\n",
       "      <td>Fraud-false pretense</td>\n",
       "      <td>202500029617</td>\n",
       "      <td>CPD</td>\n",
       "      <td>Venereo, Arturo</td>\n",
       "      <td>2025-08-20 17:42:11</td>\n",
       "      <td>Wednesday</td>\n",
       "      <td>False</td>\n",
       "      <td>Summer</td>\n",
       "      <td>Evening</td>\n",
       "      <td>500 HARRIS RD, 127</td>\n",
       "      <td>N/A</td>\n",
       "      <td>N/A</td>\n",
       "      <td>N/A</td>\n",
       "      <td>N/A</td>\n",
       "    </tr>\n",
       "    <tr>\n",
       "      <th>4</th>\n",
       "      <td>5</td>\n",
       "      <td>Assault Simple</td>\n",
       "      <td>202500029607</td>\n",
       "      <td>CPD</td>\n",
       "      <td>Urban, Jacob</td>\n",
       "      <td>2025-08-20 16:41:39</td>\n",
       "      <td>Wednesday</td>\n",
       "      <td>False</td>\n",
       "      <td>Summer</td>\n",
       "      <td>Afternoon</td>\n",
       "      <td>400 4TH ST NW</td>\n",
       "      <td>38.033603</td>\n",
       "      <td>-78.485441</td>\n",
       "      <td>Starr Hill</td>\n",
       "      <td>22903</td>\n",
       "    </tr>\n",
       "  </tbody>\n",
       "</table>\n",
       "</div>"
      ],
      "text/plain": [
       "   RecordID                          Offense    IncidentID Agency  \\\n",
       "0         1  Assist Citizen - Mental/TDO/ECO  202500029640    CPD   \n",
       "1         2    Assist Agency - Backup/Assist  202500029639    CPD   \n",
       "2         3                       Harassment  202500029632    CPD   \n",
       "3         4             Fraud-false pretense  202500029617    CPD   \n",
       "4         5                   Assault Simple  202500029607    CPD   \n",
       "\n",
       "   ReportingOfficer                Date  DayOfWeek  Weekend  Season  \\\n",
       "0  Bentz, Benjamin  2025-08-20 21:58:45  Wednesday    False  Summer   \n",
       "1      Urban, Jacob 2025-08-20 21:58:40  Wednesday    False  Summer   \n",
       "2     Hudson, Jesse 2025-08-20 20:55:00  Wednesday    False  Summer   \n",
       "3   Venereo, Arturo 2025-08-20 17:42:11  Wednesday    False  Summer   \n",
       "4      Urban, Jacob 2025-08-20 16:41:39  Wednesday    False  Summer   \n",
       "\n",
       "   TimeOfDay          FullStreet        lat        lon     neighborhood    zip  \n",
       "0      Night      600 RAINIER RD  38.021293 -78.509378  Johnson Village  22903  \n",
       "1      Night       500 HARRIS RD  38.015099 -78.503687     Fry's Spring  22903  \n",
       "2    Evening     200 E MARKET ST  38.031104 -78.480367    Downtown Mall  22902  \n",
       "3    Evening  500 HARRIS RD, 127        N/A        N/A              N/A    N/A  \n",
       "4  Afternoon       400 4TH ST NW  38.033603 -78.485441       Starr Hill  22903  "
      ]
     },
     "execution_count": 14,
     "metadata": {},
     "output_type": "execute_result"
    }
   ],
   "source": [
    "# Now drop the original BlockNumber and StreetName columns\n",
    "df.drop(columns=['BlockNumber', 'StreetName','HourAMPM','HourReported','DateString'], inplace=True)\n",
    "df[\"zip\"] = df[\"zip\"].astype(str)\n",
    "\n",
    "# Fill all missing values in the DataFrame with \"N/A\"\n",
    "df.replace({None: \"N/A\", np.nan: \"N/A\", \"\": \"N/A\"}, inplace=True)\n",
    "df.head()"
   ]
  },
  {
   "cell_type": "code",
   "execution_count": 15,
   "id": "5ef0e296",
   "metadata": {
    "execution": {
     "iopub.execute_input": "2025-08-23T01:02:39.066047Z",
     "iopub.status.busy": "2025-08-23T01:02:39.065788Z",
     "iopub.status.idle": "2025-08-23T01:02:39.089125Z",
     "shell.execute_reply": "2025-08-23T01:02:39.088563Z"
    },
    "papermill": {
     "duration": 0.037309,
     "end_time": "2025-08-23T01:02:39.090171",
     "exception": false,
     "start_time": "2025-08-23T01:02:39.052862",
     "status": "completed"
    },
    "tags": []
   },
   "outputs": [
    {
     "name": "stdout",
     "output_type": "stream",
     "text": [
      "                  MissingCount  MissingPercentage\n",
      "RecordID                     0                0.0\n",
      "Offense                      0                0.0\n",
      "IncidentID                   0                0.0\n",
      "Agency                       0                0.0\n",
      "ReportingOfficer             0                0.0\n",
      "Date                         0                0.0\n",
      "DayOfWeek                    0                0.0\n",
      "Weekend                      0                0.0\n",
      "Season                       0                0.0\n",
      "TimeOfDay                    0                0.0\n",
      "FullStreet                   0                0.0\n",
      "lat                          0                0.0\n",
      "lon                          0                0.0\n",
      "neighborhood                 0                0.0\n",
      "zip                          0                0.0\n"
     ]
    }
   ],
   "source": [
    "missing_info = missing_percentage(df)\n",
    "print(missing_info)"
   ]
  },
  {
   "cell_type": "code",
   "execution_count": 16,
   "id": "fb2f7a81",
   "metadata": {
    "execution": {
     "iopub.execute_input": "2025-08-23T01:02:39.116435Z",
     "iopub.status.busy": "2025-08-23T01:02:39.116138Z",
     "iopub.status.idle": "2025-08-23T01:02:39.120729Z",
     "shell.execute_reply": "2025-08-23T01:02:39.120037Z"
    },
    "papermill": {
     "duration": 0.019062,
     "end_time": "2025-08-23T01:02:39.121813",
     "exception": false,
     "start_time": "2025-08-23T01:02:39.102751",
     "status": "completed"
    },
    "tags": []
   },
   "outputs": [
    {
     "data": {
      "text/plain": [
       "Index(['RecordID', 'Offense', 'IncidentID', 'Agency', 'ReportingOfficer',\n",
       "       'Date', 'DayOfWeek', 'Weekend', 'Season', 'TimeOfDay', 'FullStreet',\n",
       "       'lat', 'lon', 'neighborhood', 'zip'],\n",
       "      dtype='object')"
      ]
     },
     "execution_count": 16,
     "metadata": {},
     "output_type": "execute_result"
    }
   ],
   "source": [
    "df.columns"
   ]
  },
  {
   "cell_type": "code",
   "execution_count": 17,
   "id": "6d2a28af",
   "metadata": {
    "execution": {
     "iopub.execute_input": "2025-08-23T01:02:39.147200Z",
     "iopub.status.busy": "2025-08-23T01:02:39.146976Z",
     "iopub.status.idle": "2025-08-23T01:02:39.170339Z",
     "shell.execute_reply": "2025-08-23T01:02:39.169763Z"
    },
    "papermill": {
     "duration": 0.037229,
     "end_time": "2025-08-23T01:02:39.171383",
     "exception": false,
     "start_time": "2025-08-23T01:02:39.134154",
     "status": "completed"
    },
    "tags": []
   },
   "outputs": [
    {
     "name": "stdout",
     "output_type": "stream",
     "text": [
      "<class 'pandas.core.frame.DataFrame'>\n",
      "RangeIndex: 25662 entries, 0 to 25661\n",
      "Data columns (total 15 columns):\n",
      " #   Column            Non-Null Count  Dtype         \n",
      "---  ------            --------------  -----         \n",
      " 0   RecordID          25662 non-null  int64         \n",
      " 1   Offense           25662 non-null  object        \n",
      " 2   IncidentID        25662 non-null  object        \n",
      " 3   Agency            25662 non-null  object        \n",
      " 4   ReportingOfficer  25662 non-null  object        \n",
      " 5   Date              25662 non-null  datetime64[ns]\n",
      " 6   DayOfWeek         25662 non-null  object        \n",
      " 7   Weekend           25662 non-null  bool          \n",
      " 8   Season            25662 non-null  object        \n",
      " 9   TimeOfDay         25662 non-null  object        \n",
      " 10  FullStreet        25662 non-null  object        \n",
      " 11  lat               25662 non-null  object        \n",
      " 12  lon               25662 non-null  object        \n",
      " 13  neighborhood      25662 non-null  object        \n",
      " 14  zip               25662 non-null  object        \n",
      "dtypes: bool(1), datetime64[ns](1), int64(1), object(12)\n",
      "memory usage: 2.8+ MB\n"
     ]
    }
   ],
   "source": [
    "df.info()"
   ]
  },
  {
   "cell_type": "markdown",
   "id": "db6c5379",
   "metadata": {
    "papermill": {
     "duration": 0.012212,
     "end_time": "2025-08-23T01:02:39.196123",
     "exception": false,
     "start_time": "2025-08-23T01:02:39.183911",
     "status": "completed"
    },
    "tags": []
   },
   "source": [
    "### Export Clean Data"
   ]
  },
  {
   "cell_type": "code",
   "execution_count": 18,
   "id": "7cfc68e2",
   "metadata": {
    "execution": {
     "iopub.execute_input": "2025-08-23T01:02:39.221898Z",
     "iopub.status.busy": "2025-08-23T01:02:39.221636Z",
     "iopub.status.idle": "2025-08-23T01:02:48.400951Z",
     "shell.execute_reply": "2025-08-23T01:02:48.400232Z"
    },
    "papermill": {
     "duration": 9.193492,
     "end_time": "2025-08-23T01:02:48.402012",
     "exception": false,
     "start_time": "2025-08-23T01:02:39.208520",
     "status": "completed"
    },
    "tags": []
   },
   "outputs": [
    {
     "name": "stdout",
     "output_type": "stream",
     "text": [
      "Project Root: /home/runner/work/crime-data/crime-data\n"
     ]
    },
    {
     "name": "stdout",
     "output_type": "stream",
     "text": [
      "Data saved to: /home/runner/work/crime-data/crime-data/data/charlottesville_crime_incidents.csv\n"
     ]
    },
    {
     "name": "stdout",
     "output_type": "stream",
     "text": [
      "Excel saved to: /home/runner/work/crime-data/crime-data/data/charlottesville_crime_incidents.xlsx\n"
     ]
    }
   ],
   "source": [
    "# Determine the project root (assuming papermill is run from the repository root)\n",
    "project_root = os.getcwd()\n",
    "print(\"Project Root:\", project_root)\n",
    "\n",
    "# Set the data directory within the project root\n",
    "data_dir = os.path.join(project_root, \"data\")\n",
    "\n",
    "# Ensure the \"data\" directory exists (create it if it doesn't)\n",
    "if not os.path.exists(data_dir):\n",
    "    os.makedirs(data_dir)\n",
    "\n",
    "# Export the DataFrame to CSV in the \"data\" folder located in the project root\n",
    "csv_path = os.path.join(data_dir, \"charlottesville_crime_incidents.csv\")\n",
    "df.to_csv(csv_path, index=False)\n",
    "print(\"Data saved to:\", csv_path)\n",
    "\n",
    "# Construct the path to your Excel file\n",
    "excel_path = os.path.join(data_dir, \"charlottesville_crime_incidents.xlsx\")\n",
    "\n",
    "# Export the DataFrame to Excel\n",
    "df.to_excel(excel_path, index=False)\n",
    "print(\"Excel saved to:\", excel_path)\n"
   ]
  }
 ],
 "metadata": {
  "kernelspec": {
   "display_name": "Python 3",
   "language": "python",
   "name": "python3"
  },
  "language_info": {
   "codemirror_mode": {
    "name": "ipython",
    "version": 3
   },
   "file_extension": ".py",
   "mimetype": "text/x-python",
   "name": "python",
   "nbconvert_exporter": "python",
   "pygments_lexer": "ipython3",
   "version": "3.9.23"
  },
  "papermill": {
   "default_parameters": {},
   "duration": 219.557444,
   "end_time": "2025-08-23T01:02:48.832046",
   "environment_variables": {},
   "exception": null,
   "input_path": "notebook/Crime Data.ipynb",
   "output_path": "notebook/Crime Data_output.ipynb",
   "parameters": {},
   "start_time": "2025-08-23T00:59:09.274602",
   "version": "2.6.0"
  }
 },
 "nbformat": 4,
 "nbformat_minor": 5
}