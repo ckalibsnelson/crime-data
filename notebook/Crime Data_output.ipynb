{
 "cells": [
  {
   "cell_type": "markdown",
   "id": "abbac625",
   "metadata": {
    "papermill": {
     "duration": 0.004916,
     "end_time": "2025-08-02T01:07:03.828827",
     "exception": false,
     "start_time": "2025-08-02T01:07:03.823911",
     "status": "completed"
    },
    "tags": []
   },
   "source": [
    "# Charlottesville Open Data Porttal: Crime Data"
   ]
  },
  {
   "cell_type": "markdown",
   "id": "e56e2e6b",
   "metadata": {
    "papermill": {
     "duration": 0.00458,
     "end_time": "2025-08-02T01:07:03.838068",
     "exception": false,
     "start_time": "2025-08-02T01:07:03.833488",
     "status": "completed"
    },
    "tags": []
   },
   "source": [
    "## Import Relevant Librarires & Set WD"
   ]
  },
  {
   "cell_type": "code",
   "execution_count": 1,
   "id": "64de5524",
   "metadata": {
    "execution": {
     "iopub.execute_input": "2025-08-02T01:07:03.846012Z",
     "iopub.status.busy": "2025-08-02T01:07:03.845669Z",
     "iopub.status.idle": "2025-08-02T01:07:04.634851Z",
     "shell.execute_reply": "2025-08-02T01:07:04.634046Z"
    },
    "papermill": {
     "duration": 0.795249,
     "end_time": "2025-08-02T01:07:04.636628",
     "exception": false,
     "start_time": "2025-08-02T01:07:03.841379",
     "status": "completed"
    },
    "tags": []
   },
   "outputs": [],
   "source": [
    "import requests\n",
    "import pandas as pd\n",
    "import numpy as np\n",
    "import pickle\n",
    "import googlemaps\n",
    "import plotly.express as px\n",
    "from geopy.geocoders import Nominatim\n",
    "import time\n",
    "from dotenv import load_dotenv\n",
    "import os\n",
    "\n",
    "env_path = os.path.join(\"..\", \".env\")\n",
    "#print(\"Looking for .env file at:\", os.path.abspath(env_path))\n",
    "load_dotenv(dotenv_path=env_path)\n",
    "\n",
    "# Retrieve the variables\n",
    "GOOGLE_API_KEY = os.getenv(\"GOOGLE_API_KEY\")\n",
    "WORKING_DIR = os.getenv(\"WORKING_DIR\")\n",
    "\n",
    "if GOOGLE_API_KEY is None or WORKING_DIR is None:\n",
    "    raise RuntimeError(\"No configuration found. Please ensure that your .env file exists with the required variables, or create a local config.py file.\")\n",
    "\n",
    "#print(\"Google API Key:\", GOOGLE_API_KEY)\n",
    "#print(\"Working Directory:\", WORKING_DIR)"
   ]
  },
  {
   "cell_type": "markdown",
   "id": "44151301",
   "metadata": {
    "papermill": {
     "duration": 0.003315,
     "end_time": "2025-08-02T01:07:04.644223",
     "exception": false,
     "start_time": "2025-08-02T01:07:04.640908",
     "status": "completed"
    },
    "tags": []
   },
   "source": [
    "## Import Data\n",
    "\n",
    "URL: https://opendata.charlottesville.org/datasets/charlottesville::crime-data/about"
   ]
  },
  {
   "cell_type": "code",
   "execution_count": 2,
   "id": "bcf9a290",
   "metadata": {
    "execution": {
     "iopub.execute_input": "2025-08-02T01:07:04.652042Z",
     "iopub.status.busy": "2025-08-02T01:07:04.651630Z",
     "iopub.status.idle": "2025-08-02T01:08:13.433148Z",
     "shell.execute_reply": "2025-08-02T01:08:13.432322Z"
    },
    "papermill": {
     "duration": 68.789836,
     "end_time": "2025-08-02T01:08:13.437342",
     "exception": false,
     "start_time": "2025-08-02T01:07:04.647506",
     "status": "completed"
    },
    "tags": []
   },
   "outputs": [
    {
     "name": "stdout",
     "output_type": "stream",
     "text": [
      "Total records imported: 25615\n"
     ]
    }
   ],
   "source": [
    "# Define the endpoint and initial parameters.\n",
    "url = \"https://gisweb.charlottesville.org/arcgis/rest/services/OpenData_2/MapServer/6/query\"\n",
    "params = {\n",
    "    \"where\": \"1=1\",\n",
    "    \"outFields\": \"*\",\n",
    "    \"outSR\": 4326,\n",
    "    \"f\": \"json\",\n",
    "    \"resultOffset\": 0,       # Starting index for results\n",
    "    \"resultRecordCount\": 10000  # Maximum records per batch (if allowed by the API)\n",
    "}\n",
    "\n",
    "records = []\n",
    "\n",
    "while True:\n",
    "    response = requests.get(url, params=params)\n",
    "    response.raise_for_status()\n",
    "    data = response.json()\n",
    "    \n",
    "    # Get the current batch of features.\n",
    "    features = data.get(\"features\", [])\n",
    "    if not features:\n",
    "        break\n",
    "\n",
    "    # Extract the attributes from the features.\n",
    "    batch_records = [feature.get(\"attributes\", {}) for feature in features]\n",
    "    records.extend(batch_records)\n",
    "    \n",
    "    # If the batch size is less than the requested count, we reached the end.\n",
    "    if len(features) < params[\"resultRecordCount\"]:\n",
    "        break\n",
    "\n",
    "    # Update the resultOffset for the next batch.\n",
    "    params[\"resultOffset\"] += params[\"resultRecordCount\"]\n",
    "\n",
    "# Create a DataFrame from the combined records.\n",
    "df = pd.DataFrame(records)\n",
    "print(\"Total records imported:\", len(df))\n"
   ]
  },
  {
   "cell_type": "code",
   "execution_count": 3,
   "id": "d8cdb761",
   "metadata": {
    "execution": {
     "iopub.execute_input": "2025-08-02T01:08:13.445254Z",
     "iopub.status.busy": "2025-08-02T01:08:13.444976Z",
     "iopub.status.idle": "2025-08-02T01:08:13.457598Z",
     "shell.execute_reply": "2025-08-02T01:08:13.457024Z"
    },
    "papermill": {
     "duration": 0.017758,
     "end_time": "2025-08-02T01:08:13.458646",
     "exception": false,
     "start_time": "2025-08-02T01:08:13.440888",
     "status": "completed"
    },
    "tags": []
   },
   "outputs": [
    {
     "data": {
      "text/html": [
       "<div>\n",
       "<style scoped>\n",
       "    .dataframe tbody tr th:only-of-type {\n",
       "        vertical-align: middle;\n",
       "    }\n",
       "\n",
       "    .dataframe tbody tr th {\n",
       "        vertical-align: top;\n",
       "    }\n",
       "\n",
       "    .dataframe thead th {\n",
       "        text-align: right;\n",
       "    }\n",
       "</style>\n",
       "<table border=\"1\" class=\"dataframe\">\n",
       "  <thead>\n",
       "    <tr style=\"text-align: right;\">\n",
       "      <th></th>\n",
       "      <th>RecordID</th>\n",
       "      <th>Offense</th>\n",
       "      <th>IncidentID</th>\n",
       "      <th>BlockNumber</th>\n",
       "      <th>StreetName</th>\n",
       "      <th>Agency</th>\n",
       "      <th>DateReported</th>\n",
       "      <th>HourReported</th>\n",
       "      <th>ReportingOfficer</th>\n",
       "    </tr>\n",
       "  </thead>\n",
       "  <tbody>\n",
       "    <tr>\n",
       "      <th>0</th>\n",
       "      <td>1</td>\n",
       "      <td>Hit and Run</td>\n",
       "      <td>202500026878</td>\n",
       "      <td></td>\n",
       "      <td>6TH ST SE / GARRETT ST</td>\n",
       "      <td>CPD</td>\n",
       "      <td>1753904680000</td>\n",
       "      <td>1544</td>\n",
       "      <td>Mullins, James</td>\n",
       "    </tr>\n",
       "    <tr>\n",
       "      <th>1</th>\n",
       "      <td>2</td>\n",
       "      <td>Lost/FoundProperty</td>\n",
       "      <td>202500026867</td>\n",
       "      <td>200</td>\n",
       "      <td>4TH ST NW</td>\n",
       "      <td>CPD</td>\n",
       "      <td>1753897061000</td>\n",
       "      <td>1337</td>\n",
       "      <td>Nash, Darius</td>\n",
       "    </tr>\n",
       "    <tr>\n",
       "      <th>2</th>\n",
       "      <td>3</td>\n",
       "      <td>Larceny - Theft from Building</td>\n",
       "      <td>202500026856</td>\n",
       "      <td>400</td>\n",
       "      <td>MONROE LN, 109</td>\n",
       "      <td>CPD</td>\n",
       "      <td>1753889444000</td>\n",
       "      <td>1130</td>\n",
       "      <td>Eckenroth, Rachel</td>\n",
       "    </tr>\n",
       "    <tr>\n",
       "      <th>3</th>\n",
       "      <td>4</td>\n",
       "      <td>Vandalism</td>\n",
       "      <td>202500026844</td>\n",
       "      <td>1800</td>\n",
       "      <td>EMMET ST N, 316</td>\n",
       "      <td>CPD</td>\n",
       "      <td>1753882418000</td>\n",
       "      <td>0933</td>\n",
       "      <td>Love-Baker, Sydney</td>\n",
       "    </tr>\n",
       "    <tr>\n",
       "      <th>4</th>\n",
       "      <td>5</td>\n",
       "      <td>Vandalism</td>\n",
       "      <td>202500026835</td>\n",
       "      <td>200</td>\n",
       "      <td>12TH ST NE</td>\n",
       "      <td>CPD</td>\n",
       "      <td>1753877818000</td>\n",
       "      <td>0816</td>\n",
       "      <td>Schwartz, Honora</td>\n",
       "    </tr>\n",
       "  </tbody>\n",
       "</table>\n",
       "</div>"
      ],
      "text/plain": [
       "   RecordID                        Offense    IncidentID BlockNumber  \\\n",
       "0         1                    Hit and Run  202500026878               \n",
       "1         2             Lost/FoundProperty  202500026867         200   \n",
       "2         3  Larceny - Theft from Building  202500026856         400   \n",
       "3         4                      Vandalism  202500026844        1800   \n",
       "4         5                      Vandalism  202500026835         200   \n",
       "\n",
       "               StreetName Agency   DateReported HourReported  \\\n",
       "0  6TH ST SE / GARRETT ST    CPD  1753904680000         1544   \n",
       "1               4TH ST NW    CPD  1753897061000         1337   \n",
       "2          MONROE LN, 109    CPD  1753889444000         1130   \n",
       "3         EMMET ST N, 316    CPD  1753882418000         0933   \n",
       "4              12TH ST NE    CPD  1753877818000         0816   \n",
       "\n",
       "     ReportingOfficer  \n",
       "0      Mullins, James  \n",
       "1        Nash, Darius  \n",
       "2   Eckenroth, Rachel  \n",
       "3  Love-Baker, Sydney  \n",
       "4    Schwartz, Honora  "
      ]
     },
     "execution_count": 3,
     "metadata": {},
     "output_type": "execute_result"
    }
   ],
   "source": [
    "df.head()"
   ]
  },
  {
   "cell_type": "code",
   "execution_count": 4,
   "id": "fcc2eaa7",
   "metadata": {
    "execution": {
     "iopub.execute_input": "2025-08-02T01:08:13.467044Z",
     "iopub.status.busy": "2025-08-02T01:08:13.466762Z",
     "iopub.status.idle": "2025-08-02T01:08:13.471487Z",
     "shell.execute_reply": "2025-08-02T01:08:13.470883Z"
    },
    "papermill": {
     "duration": 0.010002,
     "end_time": "2025-08-02T01:08:13.472485",
     "exception": false,
     "start_time": "2025-08-02T01:08:13.462483",
     "status": "completed"
    },
    "tags": []
   },
   "outputs": [
    {
     "data": {
      "text/plain": [
       "Index(['RecordID', 'Offense', 'IncidentID', 'BlockNumber', 'StreetName',\n",
       "       'Agency', 'DateReported', 'HourReported', 'ReportingOfficer'],\n",
       "      dtype='object')"
      ]
     },
     "execution_count": 4,
     "metadata": {},
     "output_type": "execute_result"
    }
   ],
   "source": [
    "df.columns"
   ]
  },
  {
   "cell_type": "code",
   "execution_count": 5,
   "id": "5b3ee4e8",
   "metadata": {
    "execution": {
     "iopub.execute_input": "2025-08-02T01:08:13.481077Z",
     "iopub.status.busy": "2025-08-02T01:08:13.480793Z",
     "iopub.status.idle": "2025-08-02T01:08:13.509544Z",
     "shell.execute_reply": "2025-08-02T01:08:13.508793Z"
    },
    "papermill": {
     "duration": 0.034266,
     "end_time": "2025-08-02T01:08:13.510627",
     "exception": false,
     "start_time": "2025-08-02T01:08:13.476361",
     "status": "completed"
    },
    "tags": []
   },
   "outputs": [
    {
     "name": "stdout",
     "output_type": "stream",
     "text": [
      "<class 'pandas.core.frame.DataFrame'>\n",
      "RangeIndex: 25615 entries, 0 to 25614\n",
      "Data columns (total 9 columns):\n",
      " #   Column            Non-Null Count  Dtype \n",
      "---  ------            --------------  ----- \n",
      " 0   RecordID          25615 non-null  int64 \n",
      " 1   Offense           25615 non-null  object\n",
      " 2   IncidentID        25615 non-null  object\n",
      " 3   BlockNumber       25615 non-null  object\n",
      " 4   StreetName        25615 non-null  object\n",
      " 5   Agency            25615 non-null  object\n",
      " 6   DateReported      25615 non-null  int64 \n",
      " 7   HourReported      25615 non-null  object\n",
      " 8   ReportingOfficer  25598 non-null  object\n",
      "dtypes: int64(2), object(7)\n",
      "memory usage: 1.8+ MB\n"
     ]
    }
   ],
   "source": [
    "df.info()"
   ]
  },
  {
   "cell_type": "markdown",
   "id": "b8ee726f",
   "metadata": {
    "papermill": {
     "duration": 0.003744,
     "end_time": "2025-08-02T01:08:13.518491",
     "exception": false,
     "start_time": "2025-08-02T01:08:13.514747",
     "status": "completed"
    },
    "tags": []
   },
   "source": [
    "### Missing Values"
   ]
  },
  {
   "cell_type": "code",
   "execution_count": 6,
   "id": "773b4f94",
   "metadata": {
    "execution": {
     "iopub.execute_input": "2025-08-02T01:08:13.526933Z",
     "iopub.status.busy": "2025-08-02T01:08:13.526643Z",
     "iopub.status.idle": "2025-08-02T01:08:13.553661Z",
     "shell.execute_reply": "2025-08-02T01:08:13.552980Z"
    },
    "papermill": {
     "duration": 0.03248,
     "end_time": "2025-08-02T01:08:13.554736",
     "exception": false,
     "start_time": "2025-08-02T01:08:13.522256",
     "status": "completed"
    },
    "tags": []
   },
   "outputs": [
    {
     "name": "stdout",
     "output_type": "stream",
     "text": [
      "                  MissingCount  MissingPercentage\n",
      "RecordID                     0               0.00\n",
      "Offense                      0               0.00\n",
      "IncidentID                   0               0.00\n",
      "BlockNumber                  0               0.00\n",
      "StreetName                   0               0.00\n",
      "Agency                       0               0.00\n",
      "DateReported                 0               0.00\n",
      "HourReported                 0               0.00\n",
      "ReportingOfficer            17               0.07\n"
     ]
    }
   ],
   "source": [
    "def missing_percentage(df):\n",
    "    \"\"\"\n",
    "    Returns a DataFrame with the count and percentage of missing values for each column.\n",
    "    \n",
    "    Parameters:\n",
    "        df (pd.DataFrame): The input DataFrame.\n",
    "    \n",
    "    Returns:\n",
    "        pd.DataFrame: A DataFrame with columns 'MissingCount' and 'MissingPercentage'.\n",
    "    \"\"\"\n",
    "    total_rows = len(df)\n",
    "    missing_count = df.isnull().sum()\n",
    "    missing_percent = (missing_count / total_rows) * 100\n",
    "    \n",
    "    result = pd.DataFrame({\n",
    "        'MissingCount': missing_count,\n",
    "        'MissingPercentage': missing_percent.round(2)\n",
    "    })\n",
    "    \n",
    "    return result\n",
    "\n",
    "# Example usage:\n",
    "missing_info = missing_percentage(df)\n",
    "print(missing_info)\n"
   ]
  },
  {
   "cell_type": "markdown",
   "id": "e207c71c",
   "metadata": {
    "papermill": {
     "duration": 0.003758,
     "end_time": "2025-08-02T01:08:13.562888",
     "exception": false,
     "start_time": "2025-08-02T01:08:13.559130",
     "status": "completed"
    },
    "tags": []
   },
   "source": [
    "## Data Preparation"
   ]
  },
  {
   "cell_type": "markdown",
   "id": "b3470167",
   "metadata": {
    "papermill": {
     "duration": 0.003844,
     "end_time": "2025-08-02T01:08:13.570485",
     "exception": false,
     "start_time": "2025-08-02T01:08:13.566641",
     "status": "completed"
    },
    "tags": []
   },
   "source": [
    "### Data Conversion"
   ]
  },
  {
   "cell_type": "code",
   "execution_count": 7,
   "id": "58d3cdd1",
   "metadata": {
    "execution": {
     "iopub.execute_input": "2025-08-02T01:08:13.579166Z",
     "iopub.status.busy": "2025-08-02T01:08:13.578874Z",
     "iopub.status.idle": "2025-08-02T01:08:13.943810Z",
     "shell.execute_reply": "2025-08-02T01:08:13.943071Z"
    },
    "papermill": {
     "duration": 0.370666,
     "end_time": "2025-08-02T01:08:13.944976",
     "exception": false,
     "start_time": "2025-08-02T01:08:13.574310",
     "status": "completed"
    },
    "tags": []
   },
   "outputs": [
    {
     "data": {
      "text/html": [
       "<div>\n",
       "<style scoped>\n",
       "    .dataframe tbody tr th:only-of-type {\n",
       "        vertical-align: middle;\n",
       "    }\n",
       "\n",
       "    .dataframe tbody tr th {\n",
       "        vertical-align: top;\n",
       "    }\n",
       "\n",
       "    .dataframe thead th {\n",
       "        text-align: right;\n",
       "    }\n",
       "</style>\n",
       "<table border=\"1\" class=\"dataframe\">\n",
       "  <thead>\n",
       "    <tr style=\"text-align: right;\">\n",
       "      <th></th>\n",
       "      <th>RecordID</th>\n",
       "      <th>Offense</th>\n",
       "      <th>IncidentID</th>\n",
       "      <th>BlockNumber</th>\n",
       "      <th>StreetName</th>\n",
       "      <th>Agency</th>\n",
       "      <th>HourReported</th>\n",
       "      <th>ReportingOfficer</th>\n",
       "      <th>Date</th>\n",
       "      <th>DateString</th>\n",
       "      <th>DayOfWeek</th>\n",
       "      <th>Weekend</th>\n",
       "      <th>Season</th>\n",
       "      <th>HourAMPM</th>\n",
       "      <th>TimeOfDay</th>\n",
       "    </tr>\n",
       "  </thead>\n",
       "  <tbody>\n",
       "    <tr>\n",
       "      <th>0</th>\n",
       "      <td>1</td>\n",
       "      <td>Hit and Run</td>\n",
       "      <td>202500026878</td>\n",
       "      <td></td>\n",
       "      <td>6TH ST SE / GARRETT ST</td>\n",
       "      <td>CPD</td>\n",
       "      <td>1544</td>\n",
       "      <td>Mullins, James</td>\n",
       "      <td>2025-07-30 15:44:40</td>\n",
       "      <td>2025-07-30 03:44:40 PM</td>\n",
       "      <td>Wednesday</td>\n",
       "      <td>False</td>\n",
       "      <td>Summer</td>\n",
       "      <td>03:44 PM</td>\n",
       "      <td>Afternoon</td>\n",
       "    </tr>\n",
       "    <tr>\n",
       "      <th>1</th>\n",
       "      <td>2</td>\n",
       "      <td>Lost/FoundProperty</td>\n",
       "      <td>202500026867</td>\n",
       "      <td>200</td>\n",
       "      <td>4TH ST NW</td>\n",
       "      <td>CPD</td>\n",
       "      <td>1337</td>\n",
       "      <td>Nash, Darius</td>\n",
       "      <td>2025-07-30 13:37:41</td>\n",
       "      <td>2025-07-30 01:37:41 PM</td>\n",
       "      <td>Wednesday</td>\n",
       "      <td>False</td>\n",
       "      <td>Summer</td>\n",
       "      <td>01:37 PM</td>\n",
       "      <td>Afternoon</td>\n",
       "    </tr>\n",
       "    <tr>\n",
       "      <th>2</th>\n",
       "      <td>3</td>\n",
       "      <td>Larceny - Theft from Building</td>\n",
       "      <td>202500026856</td>\n",
       "      <td>400</td>\n",
       "      <td>MONROE LN, 109</td>\n",
       "      <td>CPD</td>\n",
       "      <td>1130</td>\n",
       "      <td>Eckenroth, Rachel</td>\n",
       "      <td>2025-07-30 11:30:44</td>\n",
       "      <td>2025-07-30 11:30:44 AM</td>\n",
       "      <td>Wednesday</td>\n",
       "      <td>False</td>\n",
       "      <td>Summer</td>\n",
       "      <td>11:30 AM</td>\n",
       "      <td>Morning</td>\n",
       "    </tr>\n",
       "    <tr>\n",
       "      <th>3</th>\n",
       "      <td>4</td>\n",
       "      <td>Vandalism</td>\n",
       "      <td>202500026844</td>\n",
       "      <td>1800</td>\n",
       "      <td>EMMET ST N, 316</td>\n",
       "      <td>CPD</td>\n",
       "      <td>0933</td>\n",
       "      <td>Love-Baker, Sydney</td>\n",
       "      <td>2025-07-30 09:33:38</td>\n",
       "      <td>2025-07-30 09:33:38 AM</td>\n",
       "      <td>Wednesday</td>\n",
       "      <td>False</td>\n",
       "      <td>Summer</td>\n",
       "      <td>09:33 AM</td>\n",
       "      <td>Morning</td>\n",
       "    </tr>\n",
       "    <tr>\n",
       "      <th>4</th>\n",
       "      <td>5</td>\n",
       "      <td>Vandalism</td>\n",
       "      <td>202500026835</td>\n",
       "      <td>200</td>\n",
       "      <td>12TH ST NE</td>\n",
       "      <td>CPD</td>\n",
       "      <td>0816</td>\n",
       "      <td>Schwartz, Honora</td>\n",
       "      <td>2025-07-30 08:16:58</td>\n",
       "      <td>2025-07-30 08:16:58 AM</td>\n",
       "      <td>Wednesday</td>\n",
       "      <td>False</td>\n",
       "      <td>Summer</td>\n",
       "      <td>08:16 AM</td>\n",
       "      <td>Morning</td>\n",
       "    </tr>\n",
       "  </tbody>\n",
       "</table>\n",
       "</div>"
      ],
      "text/plain": [
       "   RecordID                        Offense    IncidentID BlockNumber  \\\n",
       "0         1                    Hit and Run  202500026878               \n",
       "1         2             Lost/FoundProperty  202500026867         200   \n",
       "2         3  Larceny - Theft from Building  202500026856         400   \n",
       "3         4                      Vandalism  202500026844        1800   \n",
       "4         5                      Vandalism  202500026835         200   \n",
       "\n",
       "               StreetName Agency HourReported    ReportingOfficer  \\\n",
       "0  6TH ST SE / GARRETT ST    CPD         1544      Mullins, James   \n",
       "1               4TH ST NW    CPD         1337        Nash, Darius   \n",
       "2          MONROE LN, 109    CPD         1130   Eckenroth, Rachel   \n",
       "3         EMMET ST N, 316    CPD         0933  Love-Baker, Sydney   \n",
       "4              12TH ST NE    CPD         0816    Schwartz, Honora   \n",
       "\n",
       "                 Date              DateString  DayOfWeek  Weekend  Season  \\\n",
       "0 2025-07-30 15:44:40  2025-07-30 03:44:40 PM  Wednesday    False  Summer   \n",
       "1 2025-07-30 13:37:41  2025-07-30 01:37:41 PM  Wednesday    False  Summer   \n",
       "2 2025-07-30 11:30:44  2025-07-30 11:30:44 AM  Wednesday    False  Summer   \n",
       "3 2025-07-30 09:33:38  2025-07-30 09:33:38 AM  Wednesday    False  Summer   \n",
       "4 2025-07-30 08:16:58  2025-07-30 08:16:58 AM  Wednesday    False  Summer   \n",
       "\n",
       "   HourAMPM  TimeOfDay  \n",
       "0  03:44 PM  Afternoon  \n",
       "1  01:37 PM  Afternoon  \n",
       "2  11:30 AM    Morning  \n",
       "3  09:33 AM    Morning  \n",
       "4  08:16 AM    Morning  "
      ]
     },
     "execution_count": 7,
     "metadata": {},
     "output_type": "execute_result"
    }
   ],
   "source": [
    "def convert_and_categorize_datereported(df, col='DateReported'):\n",
    "    \"\"\"\n",
    "    Converts an epoch (in milliseconds) date column into a timezone-aware datetime,\n",
    "    converts it to Eastern Time, and then creates columns for day-of-week, weekend flag,\n",
    "    season, 12-hour formatted time, and time-of-day. Keeps both a real datetime column\n",
    "    (Date) and a string representation (DateString).\n",
    "    \"\"\"\n",
    "    import pandas as pd\n",
    "\n",
    "    # Convert the epoch timestamp to a pandas datetime object as UTC, then convert to US/Eastern.\n",
    "    df[\"DateReported_dt\"] = (\n",
    "        pd.to_datetime(df[col], unit=\"ms\", errors=\"coerce\", utc=True)\n",
    "        .dt.tz_convert(\"US/Eastern\")\n",
    "    )\n",
    "    \n",
    "    # Create a true datetime column (remove timezone if you prefer naive datetime)\n",
    "    df[\"Date\"] = df[\"DateReported_dt\"].dt.tz_localize(None)\n",
    "\n",
    "    # Optionally, create a separate string-formatted column\n",
    "    df[\"DateString\"] = df[\"DateReported_dt\"].dt.strftime(\"%Y-%m-%d %I:%M:%S %p\")\n",
    "    \n",
    "    # DayOfWeek\n",
    "    df[\"DayOfWeek\"] = df[\"DateReported_dt\"].dt.day_name()\n",
    "    \n",
    "    # Weekend\n",
    "    df[\"Weekend\"] = df[\"DayOfWeek\"].isin([\"Saturday\", \"Sunday\"])\n",
    "    \n",
    "    # Helper function to determine the season\n",
    "    def get_season(dt):\n",
    "        month = dt.month\n",
    "        day = dt.day\n",
    "        # Approximate Northern Hemisphere season boundaries:\n",
    "        if (month == 12 and day >= 21) or (month < 3) or (month == 3 and day < 20):\n",
    "            return \"Winter\"\n",
    "        elif (month == 3 and day >= 20) or (month < 6) or (month == 6 and day < 21):\n",
    "            return \"Spring\"\n",
    "        elif (month == 6 and day >= 21) or (month < 9) or (month == 9 and day < 22):\n",
    "            return \"Summer\"\n",
    "        else:\n",
    "            return \"Autumn\"\n",
    "    \n",
    "    df[\"Season\"] = df[\"DateReported_dt\"].apply(get_season)\n",
    "    \n",
    "    # 12-hour formatted time (HourAMPM)\n",
    "    df[\"HourAMPM\"] = df[\"DateReported_dt\"].dt.strftime(\"%I:%M %p\")\n",
    "    \n",
    "    # Extract hour (0-23) for time-of-day\n",
    "    df[\"HourValue\"] = df[\"DateReported_dt\"].dt.hour\n",
    "    \n",
    "    def time_of_day(hour):\n",
    "        if pd.isnull(hour):\n",
    "            return None\n",
    "        if 5 <= hour < 12:\n",
    "            return \"Morning\"\n",
    "        elif 12 <= hour < 17:\n",
    "            return \"Afternoon\"\n",
    "        elif 17 <= hour < 21:\n",
    "            return \"Evening\"\n",
    "        else:\n",
    "            return \"Night\"\n",
    "    \n",
    "    df[\"TimeOfDay\"] = df[\"HourValue\"].apply(time_of_day)\n",
    "    \n",
    "    # Drop columns you no longer need\n",
    "    df.drop(columns=[col, \"DateReported_dt\", \"HourValue\"], inplace=True)\n",
    "    \n",
    "    return df\n",
    "\n",
    "# Example usage:\n",
    "df = convert_and_categorize_datereported(df)\n",
    "df.head()\n"
   ]
  },
  {
   "cell_type": "code",
   "execution_count": 8,
   "id": "a32cf573",
   "metadata": {
    "execution": {
     "iopub.execute_input": "2025-08-02T01:08:13.954377Z",
     "iopub.status.busy": "2025-08-02T01:08:13.954172Z",
     "iopub.status.idle": "2025-08-02T01:08:13.985416Z",
     "shell.execute_reply": "2025-08-02T01:08:13.984804Z"
    },
    "papermill": {
     "duration": 0.037114,
     "end_time": "2025-08-02T01:08:13.986548",
     "exception": false,
     "start_time": "2025-08-02T01:08:13.949434",
     "status": "completed"
    },
    "tags": []
   },
   "outputs": [
    {
     "name": "stdout",
     "output_type": "stream",
     "text": [
      "<class 'pandas.core.frame.DataFrame'>\n",
      "RangeIndex: 25615 entries, 0 to 25614\n",
      "Data columns (total 15 columns):\n",
      " #   Column            Non-Null Count  Dtype         \n",
      "---  ------            --------------  -----         \n",
      " 0   RecordID          25615 non-null  int64         \n",
      " 1   Offense           25615 non-null  object        \n",
      " 2   IncidentID        25615 non-null  object        \n",
      " 3   BlockNumber       25615 non-null  object        \n",
      " 4   StreetName        25615 non-null  object        \n",
      " 5   Agency            25615 non-null  object        \n",
      " 6   HourReported      25615 non-null  object        \n",
      " 7   ReportingOfficer  25598 non-null  object        \n",
      " 8   Date              25615 non-null  datetime64[ns]\n",
      " 9   DateString        25615 non-null  object        \n",
      " 10  DayOfWeek         25615 non-null  object        \n",
      " 11  Weekend           25615 non-null  bool          \n",
      " 12  Season            25615 non-null  object        \n",
      " 13  HourAMPM          25615 non-null  object        \n",
      " 14  TimeOfDay         25615 non-null  object        \n",
      "dtypes: bool(1), datetime64[ns](1), int64(1), object(12)\n",
      "memory usage: 2.8+ MB\n"
     ]
    }
   ],
   "source": [
    "df.info()"
   ]
  },
  {
   "cell_type": "markdown",
   "id": "cc66b2e3",
   "metadata": {
    "papermill": {
     "duration": 0.004056,
     "end_time": "2025-08-02T01:08:13.995321",
     "exception": false,
     "start_time": "2025-08-02T01:08:13.991265",
     "status": "completed"
    },
    "tags": []
   },
   "source": [
    "### Coordinates"
   ]
  },
  {
   "cell_type": "code",
   "execution_count": 9,
   "id": "d8a4d611",
   "metadata": {
    "execution": {
     "iopub.execute_input": "2025-08-02T01:08:14.004491Z",
     "iopub.status.busy": "2025-08-02T01:08:14.004219Z",
     "iopub.status.idle": "2025-08-02T01:08:14.215114Z",
     "shell.execute_reply": "2025-08-02T01:08:14.214381Z"
    },
    "papermill": {
     "duration": 0.216917,
     "end_time": "2025-08-02T01:08:14.216314",
     "exception": false,
     "start_time": "2025-08-02T01:08:13.999397",
     "status": "completed"
    },
    "tags": []
   },
   "outputs": [
    {
     "name": "stdout",
     "output_type": "stream",
     "text": [
      "Loaded geocode cache.\n",
      "Error geocoding 400 MONROE LN, 109: REQUEST_DENIED (You must enable Billing on the Google Cloud Project at https://console.cloud.google.com/project/_/billing/enable Learn more at https://developers.google.com/maps/gmp-get-started)\n",
      "Geocoded 400 MONROE LN, 109: None, None\n"
     ]
    },
    {
     "name": "stdout",
     "output_type": "stream",
     "text": [
      "Error geocoding 1800 EMMET ST N, 316: REQUEST_DENIED (You must enable Billing on the Google Cloud Project at https://console.cloud.google.com/project/_/billing/enable Learn more at https://developers.google.com/maps/gmp-get-started)\n",
      "Geocoded 1800 EMMET ST N, 316: None, None\n",
      "Geocode cache updated and saved.\n"
     ]
    },
    {
     "data": {
      "text/html": [
       "<div>\n",
       "<style scoped>\n",
       "    .dataframe tbody tr th:only-of-type {\n",
       "        vertical-align: middle;\n",
       "    }\n",
       "\n",
       "    .dataframe tbody tr th {\n",
       "        vertical-align: top;\n",
       "    }\n",
       "\n",
       "    .dataframe thead th {\n",
       "        text-align: right;\n",
       "    }\n",
       "</style>\n",
       "<table border=\"1\" class=\"dataframe\">\n",
       "  <thead>\n",
       "    <tr style=\"text-align: right;\">\n",
       "      <th></th>\n",
       "      <th>RecordID</th>\n",
       "      <th>Offense</th>\n",
       "      <th>IncidentID</th>\n",
       "      <th>BlockNumber</th>\n",
       "      <th>StreetName</th>\n",
       "      <th>Agency</th>\n",
       "      <th>HourReported</th>\n",
       "      <th>ReportingOfficer</th>\n",
       "      <th>Date</th>\n",
       "      <th>DateString</th>\n",
       "      <th>DayOfWeek</th>\n",
       "      <th>Weekend</th>\n",
       "      <th>Season</th>\n",
       "      <th>HourAMPM</th>\n",
       "      <th>TimeOfDay</th>\n",
       "      <th>FullStreet</th>\n",
       "      <th>lat</th>\n",
       "      <th>lon</th>\n",
       "    </tr>\n",
       "  </thead>\n",
       "  <tbody>\n",
       "    <tr>\n",
       "      <th>0</th>\n",
       "      <td>1</td>\n",
       "      <td>Hit and Run</td>\n",
       "      <td>202500026878</td>\n",
       "      <td></td>\n",
       "      <td>6TH ST SE / GARRETT ST</td>\n",
       "      <td>CPD</td>\n",
       "      <td>1544</td>\n",
       "      <td>Mullins, James</td>\n",
       "      <td>2025-07-30 15:44:40</td>\n",
       "      <td>2025-07-30 03:44:40 PM</td>\n",
       "      <td>Wednesday</td>\n",
       "      <td>False</td>\n",
       "      <td>Summer</td>\n",
       "      <td>03:44 PM</td>\n",
       "      <td>Afternoon</td>\n",
       "      <td>6TH ST SE / GARRETT ST</td>\n",
       "      <td>38.027349</td>\n",
       "      <td>-78.478970</td>\n",
       "    </tr>\n",
       "    <tr>\n",
       "      <th>1</th>\n",
       "      <td>2</td>\n",
       "      <td>Lost/FoundProperty</td>\n",
       "      <td>202500026867</td>\n",
       "      <td>200</td>\n",
       "      <td>4TH ST NW</td>\n",
       "      <td>CPD</td>\n",
       "      <td>1337</td>\n",
       "      <td>Nash, Darius</td>\n",
       "      <td>2025-07-30 13:37:41</td>\n",
       "      <td>2025-07-30 01:37:41 PM</td>\n",
       "      <td>Wednesday</td>\n",
       "      <td>False</td>\n",
       "      <td>Summer</td>\n",
       "      <td>01:37 PM</td>\n",
       "      <td>Afternoon</td>\n",
       "      <td>200 4TH ST NW</td>\n",
       "      <td>38.031474</td>\n",
       "      <td>-78.486204</td>\n",
       "    </tr>\n",
       "    <tr>\n",
       "      <th>2</th>\n",
       "      <td>3</td>\n",
       "      <td>Larceny - Theft from Building</td>\n",
       "      <td>202500026856</td>\n",
       "      <td>400</td>\n",
       "      <td>MONROE LN, 109</td>\n",
       "      <td>CPD</td>\n",
       "      <td>1130</td>\n",
       "      <td>Eckenroth, Rachel</td>\n",
       "      <td>2025-07-30 11:30:44</td>\n",
       "      <td>2025-07-30 11:30:44 AM</td>\n",
       "      <td>Wednesday</td>\n",
       "      <td>False</td>\n",
       "      <td>Summer</td>\n",
       "      <td>11:30 AM</td>\n",
       "      <td>Morning</td>\n",
       "      <td>400 MONROE LN, 109</td>\n",
       "      <td>NaN</td>\n",
       "      <td>NaN</td>\n",
       "    </tr>\n",
       "    <tr>\n",
       "      <th>3</th>\n",
       "      <td>4</td>\n",
       "      <td>Vandalism</td>\n",
       "      <td>202500026844</td>\n",
       "      <td>1800</td>\n",
       "      <td>EMMET ST N, 316</td>\n",
       "      <td>CPD</td>\n",
       "      <td>0933</td>\n",
       "      <td>Love-Baker, Sydney</td>\n",
       "      <td>2025-07-30 09:33:38</td>\n",
       "      <td>2025-07-30 09:33:38 AM</td>\n",
       "      <td>Wednesday</td>\n",
       "      <td>False</td>\n",
       "      <td>Summer</td>\n",
       "      <td>09:33 AM</td>\n",
       "      <td>Morning</td>\n",
       "      <td>1800 EMMET ST N, 316</td>\n",
       "      <td>NaN</td>\n",
       "      <td>NaN</td>\n",
       "    </tr>\n",
       "    <tr>\n",
       "      <th>4</th>\n",
       "      <td>5</td>\n",
       "      <td>Vandalism</td>\n",
       "      <td>202500026835</td>\n",
       "      <td>200</td>\n",
       "      <td>12TH ST NE</td>\n",
       "      <td>CPD</td>\n",
       "      <td>0816</td>\n",
       "      <td>Schwartz, Honora</td>\n",
       "      <td>2025-07-30 08:16:58</td>\n",
       "      <td>2025-07-30 08:16:58 AM</td>\n",
       "      <td>Wednesday</td>\n",
       "      <td>False</td>\n",
       "      <td>Summer</td>\n",
       "      <td>08:16 AM</td>\n",
       "      <td>Morning</td>\n",
       "      <td>200 12TH ST NE</td>\n",
       "      <td>38.027394</td>\n",
       "      <td>-78.469923</td>\n",
       "    </tr>\n",
       "  </tbody>\n",
       "</table>\n",
       "</div>"
      ],
      "text/plain": [
       "   RecordID                        Offense    IncidentID BlockNumber  \\\n",
       "0         1                    Hit and Run  202500026878               \n",
       "1         2             Lost/FoundProperty  202500026867         200   \n",
       "2         3  Larceny - Theft from Building  202500026856         400   \n",
       "3         4                      Vandalism  202500026844        1800   \n",
       "4         5                      Vandalism  202500026835         200   \n",
       "\n",
       "               StreetName Agency HourReported    ReportingOfficer  \\\n",
       "0  6TH ST SE / GARRETT ST    CPD         1544      Mullins, James   \n",
       "1               4TH ST NW    CPD         1337        Nash, Darius   \n",
       "2          MONROE LN, 109    CPD         1130   Eckenroth, Rachel   \n",
       "3         EMMET ST N, 316    CPD         0933  Love-Baker, Sydney   \n",
       "4              12TH ST NE    CPD         0816    Schwartz, Honora   \n",
       "\n",
       "                 Date              DateString  DayOfWeek  Weekend  Season  \\\n",
       "0 2025-07-30 15:44:40  2025-07-30 03:44:40 PM  Wednesday    False  Summer   \n",
       "1 2025-07-30 13:37:41  2025-07-30 01:37:41 PM  Wednesday    False  Summer   \n",
       "2 2025-07-30 11:30:44  2025-07-30 11:30:44 AM  Wednesday    False  Summer   \n",
       "3 2025-07-30 09:33:38  2025-07-30 09:33:38 AM  Wednesday    False  Summer   \n",
       "4 2025-07-30 08:16:58  2025-07-30 08:16:58 AM  Wednesday    False  Summer   \n",
       "\n",
       "   HourAMPM  TimeOfDay               FullStreet        lat        lon  \n",
       "0  03:44 PM  Afternoon   6TH ST SE / GARRETT ST  38.027349 -78.478970  \n",
       "1  01:37 PM  Afternoon            200 4TH ST NW  38.031474 -78.486204  \n",
       "2  11:30 AM    Morning       400 MONROE LN, 109        NaN        NaN  \n",
       "3  09:33 AM    Morning     1800 EMMET ST N, 316        NaN        NaN  \n",
       "4  08:16 AM    Morning           200 12TH ST NE  38.027394 -78.469923  "
      ]
     },
     "execution_count": 9,
     "metadata": {},
     "output_type": "execute_result"
    }
   ],
   "source": [
    "# Combine BlockNumber and StreetName into a full address string\n",
    "df['FullStreet'] = df['BlockNumber'].astype(str) + \" \" + df['StreetName']\n",
    "\n",
    "# --- Step 1: Setup the Google Maps Client and Cache ---\n",
    "gmaps = googlemaps.Client(key=GOOGLE_API_KEY)\n",
    "\n",
    "# Try to load cached geocoding results if available.\n",
    "try:\n",
    "    with open(\"geocode_cache_google.pkl\", \"rb\") as f:\n",
    "        street_coords = pickle.load(f)\n",
    "    print(\"Loaded geocode cache.\")\n",
    "except FileNotFoundError:\n",
    "    street_coords = {}\n",
    "    print(\"No cache found; starting fresh.\")\n",
    "\n",
    "def geocode_address(address):\n",
    "    try:\n",
    "        # Append city and state to help geocoding\n",
    "        result = gmaps.geocode(f\"{address}, Charlottesville, VA\")\n",
    "        if result:\n",
    "            lat = result[0]['geometry']['location']['lat']\n",
    "            lon = result[0]['geometry']['location']['lng']\n",
    "            return lat, lon\n",
    "    except Exception as e:\n",
    "        print(f\"Error geocoding {address}: {e}\")\n",
    "    return None, None\n",
    "\n",
    "# --- Step 2: Geocode Only New Addresses ---\n",
    "unique_addresses = df['FullStreet'].unique()\n",
    "for address in unique_addresses:\n",
    "    if address not in street_coords:\n",
    "        lat, lon = geocode_address(address)\n",
    "        street_coords[address] = (lat, lon)\n",
    "        print(f\"Geocoded {address}: {lat}, {lon}\")\n",
    "\n",
    "# Save the updated cache to disk.\n",
    "with open(\"geocode_cache_google.pkl\", \"wb\") as f:\n",
    "    pickle.dump(street_coords, f)\n",
    "    print(\"Geocode cache updated and saved.\")\n",
    "\n",
    "# --- Step 3: Map Coordinates Back to DataFrame ---\n",
    "df['lat'] = df['FullStreet'].map(lambda s: street_coords.get(s, (None, None))[0])\n",
    "df['lon'] = df['FullStreet'].map(lambda s: street_coords.get(s, (None, None))[1])\n",
    "\n",
    "df.head()"
   ]
  },
  {
   "cell_type": "markdown",
   "id": "9a446998",
   "metadata": {
    "papermill": {
     "duration": 0.004426,
     "end_time": "2025-08-02T01:08:14.225874",
     "exception": false,
     "start_time": "2025-08-02T01:08:14.221448",
     "status": "completed"
    },
    "tags": []
   },
   "source": [
    "### Neighborhood"
   ]
  },
  {
   "cell_type": "code",
   "execution_count": 10,
   "id": "698d7903",
   "metadata": {
    "execution": {
     "iopub.execute_input": "2025-08-02T01:08:14.235964Z",
     "iopub.status.busy": "2025-08-02T01:08:14.235675Z",
     "iopub.status.idle": "2025-08-02T01:08:15.884677Z",
     "shell.execute_reply": "2025-08-02T01:08:15.883892Z"
    },
    "papermill": {
     "duration": 1.655498,
     "end_time": "2025-08-02T01:08:15.885816",
     "exception": false,
     "start_time": "2025-08-02T01:08:14.230318",
     "status": "completed"
    },
    "tags": []
   },
   "outputs": [
    {
     "name": "stdout",
     "output_type": "stream",
     "text": [
      "Loaded neighborhood cache.\n",
      "Error getting neighborhood for nan, nan: HTTP Error: 400\n"
     ]
    },
    {
     "name": "stdout",
     "output_type": "stream",
     "text": [
      "Error getting neighborhood for nan, nan: HTTP Error: 400\n",
      "Error getting neighborhood for nan, nan: HTTP Error: 400\n"
     ]
    },
    {
     "name": "stdout",
     "output_type": "stream",
     "text": [
      "Error getting neighborhood for nan, nan: HTTP Error: 400\n",
      "Error getting neighborhood for nan, nan: HTTP Error: 400\n",
      "Error getting neighborhood for nan, nan: HTTP Error: 400\n",
      "Error getting neighborhood for nan, nan: HTTP Error: 400\n",
      "Error getting neighborhood for nan, nan: HTTP Error: 400\n"
     ]
    },
    {
     "name": "stdout",
     "output_type": "stream",
     "text": [
      "Error getting neighborhood for nan, nan: HTTP Error: 400\n",
      "Error getting neighborhood for nan, nan: HTTP Error: 400\n",
      "Error getting neighborhood for nan, nan: HTTP Error: 400\n"
     ]
    },
    {
     "name": "stdout",
     "output_type": "stream",
     "text": [
      "Error getting neighborhood for nan, nan: HTTP Error: 400\n",
      "Error getting neighborhood for nan, nan: HTTP Error: 400\n",
      "Error getting neighborhood for nan, nan: HTTP Error: 400\n",
      "Error getting neighborhood for nan, nan: HTTP Error: 400\n",
      "Error getting neighborhood for nan, nan: HTTP Error: 400\n",
      "Error getting neighborhood for nan, nan: HTTP Error: 400\n",
      "Error getting neighborhood for nan, nan: HTTP Error: 400\n",
      "Error getting neighborhood for nan, nan: HTTP Error: 400\n",
      "Error getting neighborhood for nan, nan: HTTP Error: 400\n",
      "Error getting neighborhood for nan, nan: HTTP Error: 400\n",
      "Error getting neighborhood for nan, nan: HTTP Error: 400\n"
     ]
    },
    {
     "name": "stdout",
     "output_type": "stream",
     "text": [
      "Error getting neighborhood for nan, nan: HTTP Error: 400\n",
      "Error getting neighborhood for nan, nan: HTTP Error: 400\n",
      "Error getting neighborhood for nan, nan: HTTP Error: 400\n",
      "Error getting neighborhood for nan, nan: HTTP Error: 400\n"
     ]
    },
    {
     "name": "stdout",
     "output_type": "stream",
     "text": [
      "Error getting neighborhood for nan, nan: HTTP Error: 400\n",
      "Error getting neighborhood for nan, nan: HTTP Error: 400\n",
      "Error getting neighborhood for nan, nan: HTTP Error: 400\n",
      "Error getting neighborhood for nan, nan: HTTP Error: 400\n",
      "Error getting neighborhood for nan, nan: HTTP Error: 400\n",
      "Error getting neighborhood for nan, nan: HTTP Error: 400\n",
      "Error getting neighborhood for nan, nan: HTTP Error: 400\n",
      "Error getting neighborhood for nan, nan: HTTP Error: 400\n",
      "Error getting neighborhood for nan, nan: HTTP Error: 400\n",
      "Error getting neighborhood for nan, nan: HTTP Error: 400\n"
     ]
    },
    {
     "name": "stdout",
     "output_type": "stream",
     "text": [
      "Error getting neighborhood for nan, nan: HTTP Error: 400\n",
      "Error getting neighborhood for nan, nan: HTTP Error: 400\n",
      "Error getting neighborhood for nan, nan: HTTP Error: 400\n",
      "Error getting neighborhood for nan, nan: HTTP Error: 400\n"
     ]
    },
    {
     "name": "stdout",
     "output_type": "stream",
     "text": [
      "Error getting neighborhood for nan, nan: HTTP Error: 400\n",
      "Error getting neighborhood for nan, nan: HTTP Error: 400\n",
      "Error getting neighborhood for nan, nan: HTTP Error: 400\n",
      "Error getting neighborhood for nan, nan: HTTP Error: 400\n",
      "Error getting neighborhood for nan, nan: HTTP Error: 400\n",
      "Error getting neighborhood for nan, nan: HTTP Error: 400\n",
      "Error getting neighborhood for nan, nan: HTTP Error: 400\n",
      "Error getting neighborhood for nan, nan: HTTP Error: 400\n",
      "Error getting neighborhood for nan, nan: HTTP Error: 400\n"
     ]
    },
    {
     "name": "stdout",
     "output_type": "stream",
     "text": [
      "Error getting neighborhood for nan, nan: HTTP Error: 400\n",
      "Error getting neighborhood for nan, nan: HTTP Error: 400\n",
      "Error getting neighborhood for nan, nan: HTTP Error: 400\n",
      "Error getting neighborhood for nan, nan: HTTP Error: 400\n"
     ]
    },
    {
     "name": "stdout",
     "output_type": "stream",
     "text": [
      "Error getting neighborhood for nan, nan: HTTP Error: 400\n",
      "Error getting neighborhood for nan, nan: HTTP Error: 400\n",
      "Error getting neighborhood for nan, nan: HTTP Error: 400\n",
      "Error getting neighborhood for nan, nan: HTTP Error: 400\n",
      "Error getting neighborhood for nan, nan: HTTP Error: 400\n",
      "Error getting neighborhood for nan, nan: HTTP Error: 400\n",
      "Error getting neighborhood for nan, nan: HTTP Error: 400\n",
      "Error getting neighborhood for nan, nan: HTTP Error: 400\n",
      "Error getting neighborhood for nan, nan: HTTP Error: 400\n",
      "Error getting neighborhood for nan, nan: HTTP Error: 400\n"
     ]
    },
    {
     "name": "stdout",
     "output_type": "stream",
     "text": [
      "Error getting neighborhood for nan, nan: HTTP Error: 400\n",
      "Error getting neighborhood for nan, nan: HTTP Error: 400\n",
      "Error getting neighborhood for nan, nan: HTTP Error: 400\n",
      "Error getting neighborhood for nan, nan: HTTP Error: 400\n"
     ]
    },
    {
     "name": "stdout",
     "output_type": "stream",
     "text": [
      "Error getting neighborhood for nan, nan: HTTP Error: 400\n",
      "Error getting neighborhood for nan, nan: HTTP Error: 400\n",
      "Error getting neighborhood for nan, nan: HTTP Error: 400\n",
      "Error getting neighborhood for nan, nan: HTTP Error: 400\n",
      "Error getting neighborhood for nan, nan: HTTP Error: 400\n",
      "Error getting neighborhood for nan, nan: HTTP Error: 400\n",
      "Error getting neighborhood for nan, nan: HTTP Error: 400\n",
      "Error getting neighborhood for nan, nan: HTTP Error: 400\n",
      "Error getting neighborhood for nan, nan: HTTP Error: 400\n"
     ]
    },
    {
     "name": "stdout",
     "output_type": "stream",
     "text": [
      "Error getting neighborhood for nan, nan: HTTP Error: 400\n",
      "Error getting neighborhood for nan, nan: HTTP Error: 400\n",
      "Error getting neighborhood for nan, nan: HTTP Error: 400\n"
     ]
    },
    {
     "data": {
      "text/html": [
       "<div>\n",
       "<style scoped>\n",
       "    .dataframe tbody tr th:only-of-type {\n",
       "        vertical-align: middle;\n",
       "    }\n",
       "\n",
       "    .dataframe tbody tr th {\n",
       "        vertical-align: top;\n",
       "    }\n",
       "\n",
       "    .dataframe thead th {\n",
       "        text-align: right;\n",
       "    }\n",
       "</style>\n",
       "<table border=\"1\" class=\"dataframe\">\n",
       "  <thead>\n",
       "    <tr style=\"text-align: right;\">\n",
       "      <th></th>\n",
       "      <th>RecordID</th>\n",
       "      <th>Offense</th>\n",
       "      <th>IncidentID</th>\n",
       "      <th>BlockNumber</th>\n",
       "      <th>StreetName</th>\n",
       "      <th>Agency</th>\n",
       "      <th>HourReported</th>\n",
       "      <th>ReportingOfficer</th>\n",
       "      <th>Date</th>\n",
       "      <th>DateString</th>\n",
       "      <th>DayOfWeek</th>\n",
       "      <th>Weekend</th>\n",
       "      <th>Season</th>\n",
       "      <th>HourAMPM</th>\n",
       "      <th>TimeOfDay</th>\n",
       "      <th>FullStreet</th>\n",
       "      <th>lat</th>\n",
       "      <th>lon</th>\n",
       "      <th>neighborhood</th>\n",
       "    </tr>\n",
       "  </thead>\n",
       "  <tbody>\n",
       "    <tr>\n",
       "      <th>0</th>\n",
       "      <td>1</td>\n",
       "      <td>Hit and Run</td>\n",
       "      <td>202500026878</td>\n",
       "      <td></td>\n",
       "      <td>6TH ST SE / GARRETT ST</td>\n",
       "      <td>CPD</td>\n",
       "      <td>1544</td>\n",
       "      <td>Mullins, James</td>\n",
       "      <td>2025-07-30 15:44:40</td>\n",
       "      <td>2025-07-30 03:44:40 PM</td>\n",
       "      <td>Wednesday</td>\n",
       "      <td>False</td>\n",
       "      <td>Summer</td>\n",
       "      <td>03:44 PM</td>\n",
       "      <td>Afternoon</td>\n",
       "      <td>6TH ST SE / GARRETT ST</td>\n",
       "      <td>38.027349</td>\n",
       "      <td>-78.478970</td>\n",
       "      <td>North Downtown</td>\n",
       "    </tr>\n",
       "    <tr>\n",
       "      <th>1</th>\n",
       "      <td>2</td>\n",
       "      <td>Lost/FoundProperty</td>\n",
       "      <td>202500026867</td>\n",
       "      <td>200</td>\n",
       "      <td>4TH ST NW</td>\n",
       "      <td>CPD</td>\n",
       "      <td>1337</td>\n",
       "      <td>Nash, Darius</td>\n",
       "      <td>2025-07-30 13:37:41</td>\n",
       "      <td>2025-07-30 01:37:41 PM</td>\n",
       "      <td>Wednesday</td>\n",
       "      <td>False</td>\n",
       "      <td>Summer</td>\n",
       "      <td>01:37 PM</td>\n",
       "      <td>Afternoon</td>\n",
       "      <td>200 4TH ST NW</td>\n",
       "      <td>38.031474</td>\n",
       "      <td>-78.486204</td>\n",
       "      <td>Starr Hill</td>\n",
       "    </tr>\n",
       "    <tr>\n",
       "      <th>2</th>\n",
       "      <td>3</td>\n",
       "      <td>Larceny - Theft from Building</td>\n",
       "      <td>202500026856</td>\n",
       "      <td>400</td>\n",
       "      <td>MONROE LN, 109</td>\n",
       "      <td>CPD</td>\n",
       "      <td>1130</td>\n",
       "      <td>Eckenroth, Rachel</td>\n",
       "      <td>2025-07-30 11:30:44</td>\n",
       "      <td>2025-07-30 11:30:44 AM</td>\n",
       "      <td>Wednesday</td>\n",
       "      <td>False</td>\n",
       "      <td>Summer</td>\n",
       "      <td>11:30 AM</td>\n",
       "      <td>Morning</td>\n",
       "      <td>400 MONROE LN, 109</td>\n",
       "      <td>NaN</td>\n",
       "      <td>NaN</td>\n",
       "      <td>N/A</td>\n",
       "    </tr>\n",
       "    <tr>\n",
       "      <th>3</th>\n",
       "      <td>4</td>\n",
       "      <td>Vandalism</td>\n",
       "      <td>202500026844</td>\n",
       "      <td>1800</td>\n",
       "      <td>EMMET ST N, 316</td>\n",
       "      <td>CPD</td>\n",
       "      <td>0933</td>\n",
       "      <td>Love-Baker, Sydney</td>\n",
       "      <td>2025-07-30 09:33:38</td>\n",
       "      <td>2025-07-30 09:33:38 AM</td>\n",
       "      <td>Wednesday</td>\n",
       "      <td>False</td>\n",
       "      <td>Summer</td>\n",
       "      <td>09:33 AM</td>\n",
       "      <td>Morning</td>\n",
       "      <td>1800 EMMET ST N, 316</td>\n",
       "      <td>NaN</td>\n",
       "      <td>NaN</td>\n",
       "      <td>N/A</td>\n",
       "    </tr>\n",
       "    <tr>\n",
       "      <th>4</th>\n",
       "      <td>5</td>\n",
       "      <td>Vandalism</td>\n",
       "      <td>202500026835</td>\n",
       "      <td>200</td>\n",
       "      <td>12TH ST NE</td>\n",
       "      <td>CPD</td>\n",
       "      <td>0816</td>\n",
       "      <td>Schwartz, Honora</td>\n",
       "      <td>2025-07-30 08:16:58</td>\n",
       "      <td>2025-07-30 08:16:58 AM</td>\n",
       "      <td>Wednesday</td>\n",
       "      <td>False</td>\n",
       "      <td>Summer</td>\n",
       "      <td>08:16 AM</td>\n",
       "      <td>Morning</td>\n",
       "      <td>200 12TH ST NE</td>\n",
       "      <td>38.027394</td>\n",
       "      <td>-78.469923</td>\n",
       "      <td>Martha Jefferson</td>\n",
       "    </tr>\n",
       "  </tbody>\n",
       "</table>\n",
       "</div>"
      ],
      "text/plain": [
       "   RecordID                        Offense    IncidentID BlockNumber  \\\n",
       "0         1                    Hit and Run  202500026878               \n",
       "1         2             Lost/FoundProperty  202500026867         200   \n",
       "2         3  Larceny - Theft from Building  202500026856         400   \n",
       "3         4                      Vandalism  202500026844        1800   \n",
       "4         5                      Vandalism  202500026835         200   \n",
       "\n",
       "               StreetName Agency HourReported    ReportingOfficer  \\\n",
       "0  6TH ST SE / GARRETT ST    CPD         1544      Mullins, James   \n",
       "1               4TH ST NW    CPD         1337        Nash, Darius   \n",
       "2          MONROE LN, 109    CPD         1130   Eckenroth, Rachel   \n",
       "3         EMMET ST N, 316    CPD         0933  Love-Baker, Sydney   \n",
       "4              12TH ST NE    CPD         0816    Schwartz, Honora   \n",
       "\n",
       "                 Date              DateString  DayOfWeek  Weekend  Season  \\\n",
       "0 2025-07-30 15:44:40  2025-07-30 03:44:40 PM  Wednesday    False  Summer   \n",
       "1 2025-07-30 13:37:41  2025-07-30 01:37:41 PM  Wednesday    False  Summer   \n",
       "2 2025-07-30 11:30:44  2025-07-30 11:30:44 AM  Wednesday    False  Summer   \n",
       "3 2025-07-30 09:33:38  2025-07-30 09:33:38 AM  Wednesday    False  Summer   \n",
       "4 2025-07-30 08:16:58  2025-07-30 08:16:58 AM  Wednesday    False  Summer   \n",
       "\n",
       "   HourAMPM  TimeOfDay               FullStreet        lat        lon  \\\n",
       "0  03:44 PM  Afternoon   6TH ST SE / GARRETT ST  38.027349 -78.478970   \n",
       "1  01:37 PM  Afternoon            200 4TH ST NW  38.031474 -78.486204   \n",
       "2  11:30 AM    Morning       400 MONROE LN, 109        NaN        NaN   \n",
       "3  09:33 AM    Morning     1800 EMMET ST N, 316        NaN        NaN   \n",
       "4  08:16 AM    Morning           200 12TH ST NE  38.027394 -78.469923   \n",
       "\n",
       "       neighborhood  \n",
       "0    North Downtown  \n",
       "1        Starr Hill  \n",
       "2               N/A  \n",
       "3               N/A  \n",
       "4  Martha Jefferson  "
      ]
     },
     "execution_count": 10,
     "metadata": {},
     "output_type": "execute_result"
    }
   ],
   "source": [
    "# Initialize the Google Maps client.\n",
    "gmaps = googlemaps.Client(key=GOOGLE_API_KEY)\n",
    "\n",
    "# Try to load a persistent neighborhood cache if available.\n",
    "try:\n",
    "    with open(\"neighborhood_cache.pkl\", \"rb\") as f:\n",
    "        neighborhood_cache = pickle.load(f)\n",
    "    print(\"Loaded neighborhood cache.\")\n",
    "except FileNotFoundError:\n",
    "    neighborhood_cache = {}\n",
    "    print(\"No neighborhood cache found; starting fresh.\")\n",
    "\n",
    "def get_neighborhood(lat, lon):\n",
    "    \"\"\"\n",
    "    Reverse geocodes a latitude and longitude to retrieve the neighborhood.\n",
    "    Caches results to speed up subsequent lookups.\n",
    "    \"\"\"\n",
    "    key = (lat, lon)\n",
    "    if key in neighborhood_cache:\n",
    "        return neighborhood_cache[key]\n",
    "    \n",
    "    try:\n",
    "        result = gmaps.reverse_geocode((lat, lon))\n",
    "        if result:\n",
    "            # Look for the 'neighborhood' component in the first result.\n",
    "            for component in result[0]['address_components']:\n",
    "                if 'neighborhood' in component['types']:\n",
    "                    neighborhood = component['long_name']\n",
    "                    neighborhood_cache[key] = neighborhood\n",
    "                    return neighborhood\n",
    "            # If no neighborhood is found, return \"N/A\"\n",
    "            neighborhood_cache[key] = \"N/A\"\n",
    "            return \"N/A\"\n",
    "    except Exception as e:\n",
    "        print(f\"Error getting neighborhood for {lat}, {lon}: {e}\")\n",
    "        return \"N/A\"\n",
    "    \n",
    "    # Pause to respect usage limits.\n",
    "    time.sleep(1)\n",
    "\n",
    "# Example usage: Apply to your DataFrame 'df' that already has 'lat' and 'lon' columns.\n",
    "df['neighborhood'] = df.apply(lambda row: get_neighborhood(row['lat'], row['lon']), axis=1)\n",
    "\n",
    "# Save the updated neighborhood cache.\n",
    "with open(\"neighborhood_cache.pkl\", \"wb\") as f:\n",
    "    pickle.dump(neighborhood_cache, f)\n",
    "\n",
    "df.head()\n"
   ]
  },
  {
   "cell_type": "markdown",
   "id": "05a1051c",
   "metadata": {
    "papermill": {
     "duration": 0.005495,
     "end_time": "2025-08-02T01:08:15.897214",
     "exception": false,
     "start_time": "2025-08-02T01:08:15.891719",
     "status": "completed"
    },
    "tags": []
   },
   "source": [
    "### Zip"
   ]
  },
  {
   "cell_type": "code",
   "execution_count": 11,
   "id": "13bb7a07",
   "metadata": {
    "execution": {
     "iopub.execute_input": "2025-08-02T01:08:15.908882Z",
     "iopub.status.busy": "2025-08-02T01:08:15.908589Z",
     "iopub.status.idle": "2025-08-02T01:09:35.376455Z",
     "shell.execute_reply": "2025-08-02T01:09:35.375688Z"
    },
    "papermill": {
     "duration": 79.475151,
     "end_time": "2025-08-02T01:09:35.377643",
     "exception": false,
     "start_time": "2025-08-02T01:08:15.902492",
     "status": "completed"
    },
    "tags": []
   },
   "outputs": [
    {
     "name": "stdout",
     "output_type": "stream",
     "text": [
      "Loaded zip cache.\n",
      "Error getting ZIP for nan, nan: Must be a coordinate pair or Point\n"
     ]
    },
    {
     "name": "stdout",
     "output_type": "stream",
     "text": [
      "Error getting ZIP for nan, nan: Must be a coordinate pair or Point\n"
     ]
    },
    {
     "name": "stdout",
     "output_type": "stream",
     "text": [
      "Error getting ZIP for nan, nan: Must be a coordinate pair or Point\n"
     ]
    },
    {
     "name": "stdout",
     "output_type": "stream",
     "text": [
      "Error getting ZIP for nan, nan: Must be a coordinate pair or Point\n"
     ]
    },
    {
     "name": "stdout",
     "output_type": "stream",
     "text": [
      "Error getting ZIP for nan, nan: Must be a coordinate pair or Point\n"
     ]
    },
    {
     "name": "stdout",
     "output_type": "stream",
     "text": [
      "Error getting ZIP for nan, nan: Must be a coordinate pair or Point\n"
     ]
    },
    {
     "name": "stdout",
     "output_type": "stream",
     "text": [
      "Error getting ZIP for nan, nan: Must be a coordinate pair or Point\n"
     ]
    },
    {
     "name": "stdout",
     "output_type": "stream",
     "text": [
      "Error getting ZIP for nan, nan: Must be a coordinate pair or Point\n"
     ]
    },
    {
     "name": "stdout",
     "output_type": "stream",
     "text": [
      "Error getting ZIP for nan, nan: Must be a coordinate pair or Point\n"
     ]
    },
    {
     "name": "stdout",
     "output_type": "stream",
     "text": [
      "Error getting ZIP for nan, nan: Must be a coordinate pair or Point\n"
     ]
    },
    {
     "name": "stdout",
     "output_type": "stream",
     "text": [
      "Error getting ZIP for nan, nan: Must be a coordinate pair or Point\n"
     ]
    },
    {
     "name": "stdout",
     "output_type": "stream",
     "text": [
      "Error getting ZIP for nan, nan: Must be a coordinate pair or Point\n"
     ]
    },
    {
     "name": "stdout",
     "output_type": "stream",
     "text": [
      "Error getting ZIP for nan, nan: Must be a coordinate pair or Point\n"
     ]
    },
    {
     "name": "stdout",
     "output_type": "stream",
     "text": [
      "Error getting ZIP for nan, nan: Must be a coordinate pair or Point\n"
     ]
    },
    {
     "name": "stdout",
     "output_type": "stream",
     "text": [
      "Error getting ZIP for nan, nan: Must be a coordinate pair or Point\n"
     ]
    },
    {
     "name": "stdout",
     "output_type": "stream",
     "text": [
      "Error getting ZIP for nan, nan: Must be a coordinate pair or Point\n"
     ]
    },
    {
     "name": "stdout",
     "output_type": "stream",
     "text": [
      "Error getting ZIP for nan, nan: Must be a coordinate pair or Point\n"
     ]
    },
    {
     "name": "stdout",
     "output_type": "stream",
     "text": [
      "Error getting ZIP for nan, nan: Must be a coordinate pair or Point\n"
     ]
    },
    {
     "name": "stdout",
     "output_type": "stream",
     "text": [
      "Error getting ZIP for nan, nan: Must be a coordinate pair or Point\n"
     ]
    },
    {
     "name": "stdout",
     "output_type": "stream",
     "text": [
      "Error getting ZIP for nan, nan: Must be a coordinate pair or Point\n"
     ]
    },
    {
     "name": "stdout",
     "output_type": "stream",
     "text": [
      "Error getting ZIP for nan, nan: Must be a coordinate pair or Point\n"
     ]
    },
    {
     "name": "stdout",
     "output_type": "stream",
     "text": [
      "Error getting ZIP for nan, nan: Must be a coordinate pair or Point\n"
     ]
    },
    {
     "name": "stdout",
     "output_type": "stream",
     "text": [
      "Error getting ZIP for nan, nan: Must be a coordinate pair or Point\n"
     ]
    },
    {
     "name": "stdout",
     "output_type": "stream",
     "text": [
      "Error getting ZIP for nan, nan: Must be a coordinate pair or Point\n"
     ]
    },
    {
     "name": "stdout",
     "output_type": "stream",
     "text": [
      "Error getting ZIP for nan, nan: Must be a coordinate pair or Point\n"
     ]
    },
    {
     "name": "stdout",
     "output_type": "stream",
     "text": [
      "Error getting ZIP for nan, nan: Must be a coordinate pair or Point\n"
     ]
    },
    {
     "name": "stdout",
     "output_type": "stream",
     "text": [
      "Error getting ZIP for nan, nan: Must be a coordinate pair or Point\n"
     ]
    },
    {
     "name": "stdout",
     "output_type": "stream",
     "text": [
      "Error getting ZIP for nan, nan: Must be a coordinate pair or Point\n"
     ]
    },
    {
     "name": "stdout",
     "output_type": "stream",
     "text": [
      "Error getting ZIP for nan, nan: Must be a coordinate pair or Point\n"
     ]
    },
    {
     "name": "stdout",
     "output_type": "stream",
     "text": [
      "Error getting ZIP for nan, nan: Must be a coordinate pair or Point\n"
     ]
    },
    {
     "name": "stdout",
     "output_type": "stream",
     "text": [
      "Error getting ZIP for nan, nan: Must be a coordinate pair or Point\n"
     ]
    },
    {
     "name": "stdout",
     "output_type": "stream",
     "text": [
      "Error getting ZIP for nan, nan: Must be a coordinate pair or Point\n"
     ]
    },
    {
     "name": "stdout",
     "output_type": "stream",
     "text": [
      "Error getting ZIP for nan, nan: Must be a coordinate pair or Point\n"
     ]
    },
    {
     "name": "stdout",
     "output_type": "stream",
     "text": [
      "Error getting ZIP for nan, nan: Must be a coordinate pair or Point\n"
     ]
    },
    {
     "name": "stdout",
     "output_type": "stream",
     "text": [
      "Error getting ZIP for nan, nan: Must be a coordinate pair or Point\n"
     ]
    },
    {
     "name": "stdout",
     "output_type": "stream",
     "text": [
      "Error getting ZIP for nan, nan: Must be a coordinate pair or Point\n"
     ]
    },
    {
     "name": "stdout",
     "output_type": "stream",
     "text": [
      "Error getting ZIP for nan, nan: Must be a coordinate pair or Point\n"
     ]
    },
    {
     "name": "stdout",
     "output_type": "stream",
     "text": [
      "Error getting ZIP for nan, nan: Must be a coordinate pair or Point\n"
     ]
    },
    {
     "name": "stdout",
     "output_type": "stream",
     "text": [
      "Error getting ZIP for nan, nan: Must be a coordinate pair or Point\n"
     ]
    },
    {
     "name": "stdout",
     "output_type": "stream",
     "text": [
      "Error getting ZIP for nan, nan: Must be a coordinate pair or Point\n"
     ]
    },
    {
     "name": "stdout",
     "output_type": "stream",
     "text": [
      "Error getting ZIP for nan, nan: Must be a coordinate pair or Point\n"
     ]
    },
    {
     "name": "stdout",
     "output_type": "stream",
     "text": [
      "Error getting ZIP for nan, nan: Must be a coordinate pair or Point\n"
     ]
    },
    {
     "name": "stdout",
     "output_type": "stream",
     "text": [
      "Error getting ZIP for nan, nan: Must be a coordinate pair or Point\n"
     ]
    },
    {
     "name": "stdout",
     "output_type": "stream",
     "text": [
      "Error getting ZIP for nan, nan: Must be a coordinate pair or Point\n"
     ]
    },
    {
     "name": "stdout",
     "output_type": "stream",
     "text": [
      "Error getting ZIP for nan, nan: Must be a coordinate pair or Point\n"
     ]
    },
    {
     "name": "stdout",
     "output_type": "stream",
     "text": [
      "Error getting ZIP for nan, nan: Must be a coordinate pair or Point\n"
     ]
    },
    {
     "name": "stdout",
     "output_type": "stream",
     "text": [
      "Error getting ZIP for nan, nan: Must be a coordinate pair or Point\n"
     ]
    },
    {
     "name": "stdout",
     "output_type": "stream",
     "text": [
      "Error getting ZIP for nan, nan: Must be a coordinate pair or Point\n"
     ]
    },
    {
     "name": "stdout",
     "output_type": "stream",
     "text": [
      "Error getting ZIP for nan, nan: Must be a coordinate pair or Point\n"
     ]
    },
    {
     "name": "stdout",
     "output_type": "stream",
     "text": [
      "Error getting ZIP for nan, nan: Must be a coordinate pair or Point\n"
     ]
    },
    {
     "name": "stdout",
     "output_type": "stream",
     "text": [
      "Error getting ZIP for nan, nan: Must be a coordinate pair or Point\n"
     ]
    },
    {
     "name": "stdout",
     "output_type": "stream",
     "text": [
      "Error getting ZIP for nan, nan: Must be a coordinate pair or Point\n"
     ]
    },
    {
     "name": "stdout",
     "output_type": "stream",
     "text": [
      "Error getting ZIP for nan, nan: Must be a coordinate pair or Point\n"
     ]
    },
    {
     "name": "stdout",
     "output_type": "stream",
     "text": [
      "Error getting ZIP for nan, nan: Must be a coordinate pair or Point\n"
     ]
    },
    {
     "name": "stdout",
     "output_type": "stream",
     "text": [
      "Error getting ZIP for nan, nan: Must be a coordinate pair or Point\n"
     ]
    },
    {
     "name": "stdout",
     "output_type": "stream",
     "text": [
      "Error getting ZIP for nan, nan: Must be a coordinate pair or Point\n"
     ]
    },
    {
     "name": "stdout",
     "output_type": "stream",
     "text": [
      "Error getting ZIP for nan, nan: Must be a coordinate pair or Point\n"
     ]
    },
    {
     "name": "stdout",
     "output_type": "stream",
     "text": [
      "Error getting ZIP for nan, nan: Must be a coordinate pair or Point\n"
     ]
    },
    {
     "name": "stdout",
     "output_type": "stream",
     "text": [
      "Error getting ZIP for nan, nan: Must be a coordinate pair or Point\n"
     ]
    },
    {
     "name": "stdout",
     "output_type": "stream",
     "text": [
      "Error getting ZIP for nan, nan: Must be a coordinate pair or Point\n"
     ]
    },
    {
     "name": "stdout",
     "output_type": "stream",
     "text": [
      "Error getting ZIP for nan, nan: Must be a coordinate pair or Point\n"
     ]
    },
    {
     "name": "stdout",
     "output_type": "stream",
     "text": [
      "Error getting ZIP for nan, nan: Must be a coordinate pair or Point\n"
     ]
    },
    {
     "name": "stdout",
     "output_type": "stream",
     "text": [
      "Error getting ZIP for nan, nan: Must be a coordinate pair or Point\n"
     ]
    },
    {
     "name": "stdout",
     "output_type": "stream",
     "text": [
      "Error getting ZIP for nan, nan: Must be a coordinate pair or Point\n"
     ]
    },
    {
     "name": "stdout",
     "output_type": "stream",
     "text": [
      "Error getting ZIP for nan, nan: Must be a coordinate pair or Point\n"
     ]
    },
    {
     "name": "stdout",
     "output_type": "stream",
     "text": [
      "Error getting ZIP for nan, nan: Must be a coordinate pair or Point\n"
     ]
    },
    {
     "name": "stdout",
     "output_type": "stream",
     "text": [
      "Error getting ZIP for nan, nan: Must be a coordinate pair or Point\n"
     ]
    },
    {
     "name": "stdout",
     "output_type": "stream",
     "text": [
      "Error getting ZIP for nan, nan: Must be a coordinate pair or Point\n"
     ]
    },
    {
     "name": "stdout",
     "output_type": "stream",
     "text": [
      "Error getting ZIP for nan, nan: Must be a coordinate pair or Point\n"
     ]
    },
    {
     "name": "stdout",
     "output_type": "stream",
     "text": [
      "Error getting ZIP for nan, nan: Must be a coordinate pair or Point\n"
     ]
    },
    {
     "name": "stdout",
     "output_type": "stream",
     "text": [
      "Error getting ZIP for nan, nan: Must be a coordinate pair or Point\n"
     ]
    },
    {
     "name": "stdout",
     "output_type": "stream",
     "text": [
      "Error getting ZIP for nan, nan: Must be a coordinate pair or Point\n"
     ]
    },
    {
     "name": "stdout",
     "output_type": "stream",
     "text": [
      "Error getting ZIP for nan, nan: Must be a coordinate pair or Point\n"
     ]
    },
    {
     "name": "stdout",
     "output_type": "stream",
     "text": [
      "Error getting ZIP for nan, nan: Must be a coordinate pair or Point\n"
     ]
    },
    {
     "name": "stdout",
     "output_type": "stream",
     "text": [
      "Error getting ZIP for nan, nan: Must be a coordinate pair or Point\n"
     ]
    },
    {
     "name": "stdout",
     "output_type": "stream",
     "text": [
      "Error getting ZIP for nan, nan: Must be a coordinate pair or Point\n"
     ]
    },
    {
     "name": "stdout",
     "output_type": "stream",
     "text": [
      "Error getting ZIP for nan, nan: Must be a coordinate pair or Point\n"
     ]
    },
    {
     "name": "stdout",
     "output_type": "stream",
     "text": [
      "Error getting ZIP for nan, nan: Must be a coordinate pair or Point\n"
     ]
    },
    {
     "name": "stdout",
     "output_type": "stream",
     "text": [
      "Error getting ZIP for nan, nan: Must be a coordinate pair or Point\n"
     ]
    },
    {
     "data": {
      "text/html": [
       "<div>\n",
       "<style scoped>\n",
       "    .dataframe tbody tr th:only-of-type {\n",
       "        vertical-align: middle;\n",
       "    }\n",
       "\n",
       "    .dataframe tbody tr th {\n",
       "        vertical-align: top;\n",
       "    }\n",
       "\n",
       "    .dataframe thead th {\n",
       "        text-align: right;\n",
       "    }\n",
       "</style>\n",
       "<table border=\"1\" class=\"dataframe\">\n",
       "  <thead>\n",
       "    <tr style=\"text-align: right;\">\n",
       "      <th></th>\n",
       "      <th>RecordID</th>\n",
       "      <th>Offense</th>\n",
       "      <th>IncidentID</th>\n",
       "      <th>BlockNumber</th>\n",
       "      <th>StreetName</th>\n",
       "      <th>Agency</th>\n",
       "      <th>HourReported</th>\n",
       "      <th>ReportingOfficer</th>\n",
       "      <th>Date</th>\n",
       "      <th>DateString</th>\n",
       "      <th>DayOfWeek</th>\n",
       "      <th>Weekend</th>\n",
       "      <th>Season</th>\n",
       "      <th>HourAMPM</th>\n",
       "      <th>TimeOfDay</th>\n",
       "      <th>FullStreet</th>\n",
       "      <th>lat</th>\n",
       "      <th>lon</th>\n",
       "      <th>neighborhood</th>\n",
       "      <th>zip</th>\n",
       "    </tr>\n",
       "  </thead>\n",
       "  <tbody>\n",
       "    <tr>\n",
       "      <th>0</th>\n",
       "      <td>1</td>\n",
       "      <td>Hit and Run</td>\n",
       "      <td>202500026878</td>\n",
       "      <td></td>\n",
       "      <td>6TH ST SE / GARRETT ST</td>\n",
       "      <td>CPD</td>\n",
       "      <td>1544</td>\n",
       "      <td>Mullins, James</td>\n",
       "      <td>2025-07-30 15:44:40</td>\n",
       "      <td>2025-07-30 03:44:40 PM</td>\n",
       "      <td>Wednesday</td>\n",
       "      <td>False</td>\n",
       "      <td>Summer</td>\n",
       "      <td>03:44 PM</td>\n",
       "      <td>Afternoon</td>\n",
       "      <td>6TH ST SE / GARRETT ST</td>\n",
       "      <td>38.027349</td>\n",
       "      <td>-78.478970</td>\n",
       "      <td>North Downtown</td>\n",
       "      <td>22902</td>\n",
       "    </tr>\n",
       "    <tr>\n",
       "      <th>1</th>\n",
       "      <td>2</td>\n",
       "      <td>Lost/FoundProperty</td>\n",
       "      <td>202500026867</td>\n",
       "      <td>200</td>\n",
       "      <td>4TH ST NW</td>\n",
       "      <td>CPD</td>\n",
       "      <td>1337</td>\n",
       "      <td>Nash, Darius</td>\n",
       "      <td>2025-07-30 13:37:41</td>\n",
       "      <td>2025-07-30 01:37:41 PM</td>\n",
       "      <td>Wednesday</td>\n",
       "      <td>False</td>\n",
       "      <td>Summer</td>\n",
       "      <td>01:37 PM</td>\n",
       "      <td>Afternoon</td>\n",
       "      <td>200 4TH ST NW</td>\n",
       "      <td>38.031474</td>\n",
       "      <td>-78.486204</td>\n",
       "      <td>Starr Hill</td>\n",
       "      <td>22903</td>\n",
       "    </tr>\n",
       "    <tr>\n",
       "      <th>2</th>\n",
       "      <td>3</td>\n",
       "      <td>Larceny - Theft from Building</td>\n",
       "      <td>202500026856</td>\n",
       "      <td>400</td>\n",
       "      <td>MONROE LN, 109</td>\n",
       "      <td>CPD</td>\n",
       "      <td>1130</td>\n",
       "      <td>Eckenroth, Rachel</td>\n",
       "      <td>2025-07-30 11:30:44</td>\n",
       "      <td>2025-07-30 11:30:44 AM</td>\n",
       "      <td>Wednesday</td>\n",
       "      <td>False</td>\n",
       "      <td>Summer</td>\n",
       "      <td>11:30 AM</td>\n",
       "      <td>Morning</td>\n",
       "      <td>400 MONROE LN, 109</td>\n",
       "      <td>NaN</td>\n",
       "      <td>NaN</td>\n",
       "      <td>N/A</td>\n",
       "      <td>N/A</td>\n",
       "    </tr>\n",
       "    <tr>\n",
       "      <th>3</th>\n",
       "      <td>4</td>\n",
       "      <td>Vandalism</td>\n",
       "      <td>202500026844</td>\n",
       "      <td>1800</td>\n",
       "      <td>EMMET ST N, 316</td>\n",
       "      <td>CPD</td>\n",
       "      <td>0933</td>\n",
       "      <td>Love-Baker, Sydney</td>\n",
       "      <td>2025-07-30 09:33:38</td>\n",
       "      <td>2025-07-30 09:33:38 AM</td>\n",
       "      <td>Wednesday</td>\n",
       "      <td>False</td>\n",
       "      <td>Summer</td>\n",
       "      <td>09:33 AM</td>\n",
       "      <td>Morning</td>\n",
       "      <td>1800 EMMET ST N, 316</td>\n",
       "      <td>NaN</td>\n",
       "      <td>NaN</td>\n",
       "      <td>N/A</td>\n",
       "      <td>N/A</td>\n",
       "    </tr>\n",
       "    <tr>\n",
       "      <th>4</th>\n",
       "      <td>5</td>\n",
       "      <td>Vandalism</td>\n",
       "      <td>202500026835</td>\n",
       "      <td>200</td>\n",
       "      <td>12TH ST NE</td>\n",
       "      <td>CPD</td>\n",
       "      <td>0816</td>\n",
       "      <td>Schwartz, Honora</td>\n",
       "      <td>2025-07-30 08:16:58</td>\n",
       "      <td>2025-07-30 08:16:58 AM</td>\n",
       "      <td>Wednesday</td>\n",
       "      <td>False</td>\n",
       "      <td>Summer</td>\n",
       "      <td>08:16 AM</td>\n",
       "      <td>Morning</td>\n",
       "      <td>200 12TH ST NE</td>\n",
       "      <td>38.027394</td>\n",
       "      <td>-78.469923</td>\n",
       "      <td>Martha Jefferson</td>\n",
       "      <td>22902</td>\n",
       "    </tr>\n",
       "  </tbody>\n",
       "</table>\n",
       "</div>"
      ],
      "text/plain": [
       "   RecordID                        Offense    IncidentID BlockNumber  \\\n",
       "0         1                    Hit and Run  202500026878               \n",
       "1         2             Lost/FoundProperty  202500026867         200   \n",
       "2         3  Larceny - Theft from Building  202500026856         400   \n",
       "3         4                      Vandalism  202500026844        1800   \n",
       "4         5                      Vandalism  202500026835         200   \n",
       "\n",
       "               StreetName Agency HourReported    ReportingOfficer  \\\n",
       "0  6TH ST SE / GARRETT ST    CPD         1544      Mullins, James   \n",
       "1               4TH ST NW    CPD         1337        Nash, Darius   \n",
       "2          MONROE LN, 109    CPD         1130   Eckenroth, Rachel   \n",
       "3         EMMET ST N, 316    CPD         0933  Love-Baker, Sydney   \n",
       "4              12TH ST NE    CPD         0816    Schwartz, Honora   \n",
       "\n",
       "                 Date              DateString  DayOfWeek  Weekend  Season  \\\n",
       "0 2025-07-30 15:44:40  2025-07-30 03:44:40 PM  Wednesday    False  Summer   \n",
       "1 2025-07-30 13:37:41  2025-07-30 01:37:41 PM  Wednesday    False  Summer   \n",
       "2 2025-07-30 11:30:44  2025-07-30 11:30:44 AM  Wednesday    False  Summer   \n",
       "3 2025-07-30 09:33:38  2025-07-30 09:33:38 AM  Wednesday    False  Summer   \n",
       "4 2025-07-30 08:16:58  2025-07-30 08:16:58 AM  Wednesday    False  Summer   \n",
       "\n",
       "   HourAMPM  TimeOfDay               FullStreet        lat        lon  \\\n",
       "0  03:44 PM  Afternoon   6TH ST SE / GARRETT ST  38.027349 -78.478970   \n",
       "1  01:37 PM  Afternoon            200 4TH ST NW  38.031474 -78.486204   \n",
       "2  11:30 AM    Morning       400 MONROE LN, 109        NaN        NaN   \n",
       "3  09:33 AM    Morning     1800 EMMET ST N, 316        NaN        NaN   \n",
       "4  08:16 AM    Morning           200 12TH ST NE  38.027394 -78.469923   \n",
       "\n",
       "       neighborhood    zip  \n",
       "0    North Downtown  22902  \n",
       "1        Starr Hill  22903  \n",
       "2               N/A    N/A  \n",
       "3               N/A    N/A  \n",
       "4  Martha Jefferson  22902  "
      ]
     },
     "execution_count": 11,
     "metadata": {},
     "output_type": "execute_result"
    }
   ],
   "source": [
    "# Initialize the geocoder.\n",
    "geolocator = Nominatim(user_agent=\"zip_lookup\")\n",
    "\n",
    "# Try to load a persistent ZIP cache if available.\n",
    "try:\n",
    "    with open(\"zip_cache.pkl\", \"rb\") as f:\n",
    "        zip_cache = pickle.load(f)\n",
    "    print(\"Loaded zip cache.\")\n",
    "except FileNotFoundError:\n",
    "    zip_cache = {}\n",
    "    print(\"No zip cache found; starting fresh.\")\n",
    "\n",
    "def get_zip(lat, lon):\n",
    "    \"\"\"\n",
    "    Reverse geocodes a latitude and longitude to retrieve the ZIP code.\n",
    "    Caches results to speed up subsequent lookups.\n",
    "    \"\"\"\n",
    "    key = (lat, lon)\n",
    "    if key in zip_cache:\n",
    "        return zip_cache[key]\n",
    "    \n",
    "    try:\n",
    "        location = geolocator.reverse((lat, lon), exactly_one=True, timeout=10)\n",
    "        address = location.raw.get('address', {})\n",
    "        postal_code = address.get('postcode', \"N/A\")\n",
    "    except Exception as e:\n",
    "        print(f\"Error getting ZIP for {lat}, {lon}: {e}\")\n",
    "        postal_code = \"N/A\"\n",
    "    \n",
    "    zip_cache[key] = postal_code\n",
    "    # Pause to respect the usage policy.\n",
    "    time.sleep(1)\n",
    "    return postal_code\n",
    "\n",
    "# Apply the function to each row in the DataFrame.\n",
    "df['zip'] = df.apply(lambda row: get_zip(row['lat'], row['lon']), axis=1)\n",
    "\n",
    "# Save the updated ZIP cache.\n",
    "with open(\"zip_cache.pkl\", \"wb\") as f:\n",
    "    pickle.dump(zip_cache, f)\n",
    "\n",
    "df.head()\n"
   ]
  },
  {
   "cell_type": "code",
   "execution_count": 12,
   "id": "17569b79",
   "metadata": {
    "execution": {
     "iopub.execute_input": "2025-08-02T01:09:35.397214Z",
     "iopub.status.busy": "2025-08-02T01:09:35.396915Z",
     "iopub.status.idle": "2025-08-02T01:09:35.430622Z",
     "shell.execute_reply": "2025-08-02T01:09:35.430009Z"
    },
    "papermill": {
     "duration": 0.044616,
     "end_time": "2025-08-02T01:09:35.431733",
     "exception": false,
     "start_time": "2025-08-02T01:09:35.387117",
     "status": "completed"
    },
    "tags": []
   },
   "outputs": [
    {
     "name": "stdout",
     "output_type": "stream",
     "text": [
      "                  MissingCount  MissingPercentage\n",
      "RecordID                     0               0.00\n",
      "Offense                      0               0.00\n",
      "IncidentID                   0               0.00\n",
      "BlockNumber                  0               0.00\n",
      "StreetName                   0               0.00\n",
      "Agency                       0               0.00\n",
      "HourReported                 0               0.00\n",
      "ReportingOfficer            17               0.07\n",
      "Date                         0               0.00\n",
      "DateString                   0               0.00\n",
      "DayOfWeek                    0               0.00\n",
      "Weekend                      0               0.00\n",
      "Season                       0               0.00\n",
      "HourAMPM                     0               0.00\n",
      "TimeOfDay                    0               0.00\n",
      "FullStreet                   0               0.00\n",
      "lat                         79               0.31\n",
      "lon                         79               0.31\n",
      "neighborhood                 0               0.00\n",
      "zip                          0               0.00\n"
     ]
    }
   ],
   "source": [
    "missing_info = missing_percentage(df)\n",
    "print(missing_info)\n"
   ]
  },
  {
   "cell_type": "code",
   "execution_count": 13,
   "id": "0f726118",
   "metadata": {
    "execution": {
     "iopub.execute_input": "2025-08-02T01:09:35.452126Z",
     "iopub.status.busy": "2025-08-02T01:09:35.451795Z",
     "iopub.status.idle": "2025-08-02T01:09:35.488390Z",
     "shell.execute_reply": "2025-08-02T01:09:35.487769Z"
    },
    "papermill": {
     "duration": 0.048278,
     "end_time": "2025-08-02T01:09:35.489569",
     "exception": false,
     "start_time": "2025-08-02T01:09:35.441291",
     "status": "completed"
    },
    "tags": []
   },
   "outputs": [
    {
     "name": "stdout",
     "output_type": "stream",
     "text": [
      "<class 'pandas.core.frame.DataFrame'>\n",
      "RangeIndex: 25615 entries, 0 to 25614\n",
      "Data columns (total 20 columns):\n",
      " #   Column            Non-Null Count  Dtype         \n",
      "---  ------            --------------  -----         \n",
      " 0   RecordID          25615 non-null  int64         \n",
      " 1   Offense           25615 non-null  object        \n",
      " 2   IncidentID        25615 non-null  object        \n",
      " 3   BlockNumber       25615 non-null  object        \n",
      " 4   StreetName        25615 non-null  object        \n",
      " 5   Agency            25615 non-null  object        \n",
      " 6   HourReported      25615 non-null  object        \n",
      " 7   ReportingOfficer  25598 non-null  object        \n",
      " 8   Date              25615 non-null  datetime64[ns]\n",
      " 9   DateString        25615 non-null  object        \n",
      " 10  DayOfWeek         25615 non-null  object        \n",
      " 11  Weekend           25615 non-null  bool          \n",
      " 12  Season            25615 non-null  object        \n",
      " 13  HourAMPM          25615 non-null  object        \n",
      " 14  TimeOfDay         25615 non-null  object        \n",
      " 15  FullStreet        25615 non-null  object        \n",
      " 16  lat               25536 non-null  float64       \n",
      " 17  lon               25536 non-null  float64       \n",
      " 18  neighborhood      25615 non-null  object        \n",
      " 19  zip               25615 non-null  object        \n",
      "dtypes: bool(1), datetime64[ns](1), float64(2), int64(1), object(15)\n",
      "memory usage: 3.7+ MB\n"
     ]
    }
   ],
   "source": [
    "df.info()"
   ]
  },
  {
   "cell_type": "code",
   "execution_count": 14,
   "id": "0b53dded",
   "metadata": {
    "execution": {
     "iopub.execute_input": "2025-08-02T01:09:35.509774Z",
     "iopub.status.busy": "2025-08-02T01:09:35.509466Z",
     "iopub.status.idle": "2025-08-02T01:09:35.563575Z",
     "shell.execute_reply": "2025-08-02T01:09:35.562818Z"
    },
    "papermill": {
     "duration": 0.065375,
     "end_time": "2025-08-02T01:09:35.564714",
     "exception": false,
     "start_time": "2025-08-02T01:09:35.499339",
     "status": "completed"
    },
    "tags": []
   },
   "outputs": [
    {
     "data": {
      "text/html": [
       "<div>\n",
       "<style scoped>\n",
       "    .dataframe tbody tr th:only-of-type {\n",
       "        vertical-align: middle;\n",
       "    }\n",
       "\n",
       "    .dataframe tbody tr th {\n",
       "        vertical-align: top;\n",
       "    }\n",
       "\n",
       "    .dataframe thead th {\n",
       "        text-align: right;\n",
       "    }\n",
       "</style>\n",
       "<table border=\"1\" class=\"dataframe\">\n",
       "  <thead>\n",
       "    <tr style=\"text-align: right;\">\n",
       "      <th></th>\n",
       "      <th>RecordID</th>\n",
       "      <th>Offense</th>\n",
       "      <th>IncidentID</th>\n",
       "      <th>Agency</th>\n",
       "      <th>ReportingOfficer</th>\n",
       "      <th>Date</th>\n",
       "      <th>DayOfWeek</th>\n",
       "      <th>Weekend</th>\n",
       "      <th>Season</th>\n",
       "      <th>TimeOfDay</th>\n",
       "      <th>FullStreet</th>\n",
       "      <th>lat</th>\n",
       "      <th>lon</th>\n",
       "      <th>neighborhood</th>\n",
       "      <th>zip</th>\n",
       "    </tr>\n",
       "  </thead>\n",
       "  <tbody>\n",
       "    <tr>\n",
       "      <th>0</th>\n",
       "      <td>1</td>\n",
       "      <td>Hit and Run</td>\n",
       "      <td>202500026878</td>\n",
       "      <td>CPD</td>\n",
       "      <td>Mullins, James</td>\n",
       "      <td>2025-07-30 15:44:40</td>\n",
       "      <td>Wednesday</td>\n",
       "      <td>False</td>\n",
       "      <td>Summer</td>\n",
       "      <td>Afternoon</td>\n",
       "      <td>6TH ST SE / GARRETT ST</td>\n",
       "      <td>38.027349</td>\n",
       "      <td>-78.47897</td>\n",
       "      <td>North Downtown</td>\n",
       "      <td>22902</td>\n",
       "    </tr>\n",
       "    <tr>\n",
       "      <th>1</th>\n",
       "      <td>2</td>\n",
       "      <td>Lost/FoundProperty</td>\n",
       "      <td>202500026867</td>\n",
       "      <td>CPD</td>\n",
       "      <td>Nash, Darius</td>\n",
       "      <td>2025-07-30 13:37:41</td>\n",
       "      <td>Wednesday</td>\n",
       "      <td>False</td>\n",
       "      <td>Summer</td>\n",
       "      <td>Afternoon</td>\n",
       "      <td>200 4TH ST NW</td>\n",
       "      <td>38.031474</td>\n",
       "      <td>-78.486204</td>\n",
       "      <td>Starr Hill</td>\n",
       "      <td>22903</td>\n",
       "    </tr>\n",
       "    <tr>\n",
       "      <th>2</th>\n",
       "      <td>3</td>\n",
       "      <td>Larceny - Theft from Building</td>\n",
       "      <td>202500026856</td>\n",
       "      <td>CPD</td>\n",
       "      <td>Eckenroth, Rachel</td>\n",
       "      <td>2025-07-30 11:30:44</td>\n",
       "      <td>Wednesday</td>\n",
       "      <td>False</td>\n",
       "      <td>Summer</td>\n",
       "      <td>Morning</td>\n",
       "      <td>400 MONROE LN, 109</td>\n",
       "      <td>N/A</td>\n",
       "      <td>N/A</td>\n",
       "      <td>N/A</td>\n",
       "      <td>N/A</td>\n",
       "    </tr>\n",
       "    <tr>\n",
       "      <th>3</th>\n",
       "      <td>4</td>\n",
       "      <td>Vandalism</td>\n",
       "      <td>202500026844</td>\n",
       "      <td>CPD</td>\n",
       "      <td>Love-Baker, Sydney</td>\n",
       "      <td>2025-07-30 09:33:38</td>\n",
       "      <td>Wednesday</td>\n",
       "      <td>False</td>\n",
       "      <td>Summer</td>\n",
       "      <td>Morning</td>\n",
       "      <td>1800 EMMET ST N, 316</td>\n",
       "      <td>N/A</td>\n",
       "      <td>N/A</td>\n",
       "      <td>N/A</td>\n",
       "      <td>N/A</td>\n",
       "    </tr>\n",
       "    <tr>\n",
       "      <th>4</th>\n",
       "      <td>5</td>\n",
       "      <td>Vandalism</td>\n",
       "      <td>202500026835</td>\n",
       "      <td>CPD</td>\n",
       "      <td>Schwartz, Honora</td>\n",
       "      <td>2025-07-30 08:16:58</td>\n",
       "      <td>Wednesday</td>\n",
       "      <td>False</td>\n",
       "      <td>Summer</td>\n",
       "      <td>Morning</td>\n",
       "      <td>200 12TH ST NE</td>\n",
       "      <td>38.027394</td>\n",
       "      <td>-78.469923</td>\n",
       "      <td>Martha Jefferson</td>\n",
       "      <td>22902</td>\n",
       "    </tr>\n",
       "  </tbody>\n",
       "</table>\n",
       "</div>"
      ],
      "text/plain": [
       "   RecordID                        Offense    IncidentID Agency  \\\n",
       "0         1                    Hit and Run  202500026878    CPD   \n",
       "1         2             Lost/FoundProperty  202500026867    CPD   \n",
       "2         3  Larceny - Theft from Building  202500026856    CPD   \n",
       "3         4                      Vandalism  202500026844    CPD   \n",
       "4         5                      Vandalism  202500026835    CPD   \n",
       "\n",
       "     ReportingOfficer                Date  DayOfWeek  Weekend  Season  \\\n",
       "0      Mullins, James 2025-07-30 15:44:40  Wednesday    False  Summer   \n",
       "1        Nash, Darius 2025-07-30 13:37:41  Wednesday    False  Summer   \n",
       "2   Eckenroth, Rachel 2025-07-30 11:30:44  Wednesday    False  Summer   \n",
       "3  Love-Baker, Sydney 2025-07-30 09:33:38  Wednesday    False  Summer   \n",
       "4    Schwartz, Honora 2025-07-30 08:16:58  Wednesday    False  Summer   \n",
       "\n",
       "   TimeOfDay               FullStreet        lat        lon      neighborhood  \\\n",
       "0  Afternoon   6TH ST SE / GARRETT ST  38.027349  -78.47897    North Downtown   \n",
       "1  Afternoon            200 4TH ST NW  38.031474 -78.486204        Starr Hill   \n",
       "2    Morning       400 MONROE LN, 109        N/A        N/A               N/A   \n",
       "3    Morning     1800 EMMET ST N, 316        N/A        N/A               N/A   \n",
       "4    Morning           200 12TH ST NE  38.027394 -78.469923  Martha Jefferson   \n",
       "\n",
       "     zip  \n",
       "0  22902  \n",
       "1  22903  \n",
       "2    N/A  \n",
       "3    N/A  \n",
       "4  22902  "
      ]
     },
     "execution_count": 14,
     "metadata": {},
     "output_type": "execute_result"
    }
   ],
   "source": [
    "# Now drop the original BlockNumber and StreetName columns\n",
    "df.drop(columns=['BlockNumber', 'StreetName','HourAMPM','HourReported','DateString'], inplace=True)\n",
    "df[\"zip\"] = df[\"zip\"].astype(str)\n",
    "\n",
    "# Fill all missing values in the DataFrame with \"N/A\"\n",
    "df.replace({None: \"N/A\", np.nan: \"N/A\", \"\": \"N/A\"}, inplace=True)\n",
    "df.head()"
   ]
  },
  {
   "cell_type": "code",
   "execution_count": 15,
   "id": "6aba20de",
   "metadata": {
    "execution": {
     "iopub.execute_input": "2025-08-02T01:09:35.584984Z",
     "iopub.status.busy": "2025-08-02T01:09:35.584706Z",
     "iopub.status.idle": "2025-08-02T01:09:35.610021Z",
     "shell.execute_reply": "2025-08-02T01:09:35.609352Z"
    },
    "papermill": {
     "duration": 0.03672,
     "end_time": "2025-08-02T01:09:35.611155",
     "exception": false,
     "start_time": "2025-08-02T01:09:35.574435",
     "status": "completed"
    },
    "tags": []
   },
   "outputs": [
    {
     "name": "stdout",
     "output_type": "stream",
     "text": [
      "                  MissingCount  MissingPercentage\n",
      "RecordID                     0                0.0\n",
      "Offense                      0                0.0\n",
      "IncidentID                   0                0.0\n",
      "Agency                       0                0.0\n",
      "ReportingOfficer             0                0.0\n",
      "Date                         0                0.0\n",
      "DayOfWeek                    0                0.0\n",
      "Weekend                      0                0.0\n",
      "Season                       0                0.0\n",
      "TimeOfDay                    0                0.0\n",
      "FullStreet                   0                0.0\n",
      "lat                          0                0.0\n",
      "lon                          0                0.0\n",
      "neighborhood                 0                0.0\n",
      "zip                          0                0.0\n"
     ]
    }
   ],
   "source": [
    "missing_info = missing_percentage(df)\n",
    "print(missing_info)"
   ]
  },
  {
   "cell_type": "code",
   "execution_count": 16,
   "id": "4e80cb24",
   "metadata": {
    "execution": {
     "iopub.execute_input": "2025-08-02T01:09:35.631727Z",
     "iopub.status.busy": "2025-08-02T01:09:35.631418Z",
     "iopub.status.idle": "2025-08-02T01:09:35.636817Z",
     "shell.execute_reply": "2025-08-02T01:09:35.635977Z"
    },
    "papermill": {
     "duration": 0.017795,
     "end_time": "2025-08-02T01:09:35.638675",
     "exception": false,
     "start_time": "2025-08-02T01:09:35.620880",
     "status": "completed"
    },
    "tags": []
   },
   "outputs": [
    {
     "data": {
      "text/plain": [
       "Index(['RecordID', 'Offense', 'IncidentID', 'Agency', 'ReportingOfficer',\n",
       "       'Date', 'DayOfWeek', 'Weekend', 'Season', 'TimeOfDay', 'FullStreet',\n",
       "       'lat', 'lon', 'neighborhood', 'zip'],\n",
       "      dtype='object')"
      ]
     },
     "execution_count": 16,
     "metadata": {},
     "output_type": "execute_result"
    }
   ],
   "source": [
    "df.columns"
   ]
  },
  {
   "cell_type": "code",
   "execution_count": 17,
   "id": "09a8e1e7",
   "metadata": {
    "execution": {
     "iopub.execute_input": "2025-08-02T01:09:35.659827Z",
     "iopub.status.busy": "2025-08-02T01:09:35.659545Z",
     "iopub.status.idle": "2025-08-02T01:09:35.689180Z",
     "shell.execute_reply": "2025-08-02T01:09:35.688555Z"
    },
    "papermill": {
     "duration": 0.041049,
     "end_time": "2025-08-02T01:09:35.690266",
     "exception": false,
     "start_time": "2025-08-02T01:09:35.649217",
     "status": "completed"
    },
    "tags": []
   },
   "outputs": [
    {
     "name": "stdout",
     "output_type": "stream",
     "text": [
      "<class 'pandas.core.frame.DataFrame'>\n",
      "RangeIndex: 25615 entries, 0 to 25614\n",
      "Data columns (total 15 columns):\n",
      " #   Column            Non-Null Count  Dtype         \n",
      "---  ------            --------------  -----         \n",
      " 0   RecordID          25615 non-null  int64         \n",
      " 1   Offense           25615 non-null  object        \n",
      " 2   IncidentID        25615 non-null  object        \n",
      " 3   Agency            25615 non-null  object        \n",
      " 4   ReportingOfficer  25615 non-null  object        \n",
      " 5   Date              25615 non-null  datetime64[ns]\n",
      " 6   DayOfWeek         25615 non-null  object        \n",
      " 7   Weekend           25615 non-null  bool          \n",
      " 8   Season            25615 non-null  object        \n",
      " 9   TimeOfDay         25615 non-null  object        \n",
      " 10  FullStreet        25615 non-null  object        \n",
      " 11  lat               25615 non-null  object        \n",
      " 12  lon               25615 non-null  object        \n",
      " 13  neighborhood      25615 non-null  object        \n",
      " 14  zip               25615 non-null  object        \n",
      "dtypes: bool(1), datetime64[ns](1), int64(1), object(12)\n",
      "memory usage: 2.8+ MB\n"
     ]
    }
   ],
   "source": [
    "df.info()"
   ]
  },
  {
   "cell_type": "markdown",
   "id": "cd07d6b4",
   "metadata": {
    "papermill": {
     "duration": 0.009411,
     "end_time": "2025-08-02T01:09:35.709694",
     "exception": false,
     "start_time": "2025-08-02T01:09:35.700283",
     "status": "completed"
    },
    "tags": []
   },
   "source": [
    "### Export Clean Data"
   ]
  },
  {
   "cell_type": "code",
   "execution_count": 18,
   "id": "21eaeb88",
   "metadata": {
    "execution": {
     "iopub.execute_input": "2025-08-02T01:09:35.730281Z",
     "iopub.status.busy": "2025-08-02T01:09:35.729860Z",
     "iopub.status.idle": "2025-08-02T01:09:45.244565Z",
     "shell.execute_reply": "2025-08-02T01:09:45.243908Z"
    },
    "papermill": {
     "duration": 9.526407,
     "end_time": "2025-08-02T01:09:45.245636",
     "exception": false,
     "start_time": "2025-08-02T01:09:35.719229",
     "status": "completed"
    },
    "tags": []
   },
   "outputs": [
    {
     "name": "stdout",
     "output_type": "stream",
     "text": [
      "Project Root: /home/runner/work/crime-data/crime-data\n"
     ]
    },
    {
     "name": "stdout",
     "output_type": "stream",
     "text": [
      "Data saved to: /home/runner/work/crime-data/crime-data/data/charlottesville_crime_incidents.csv\n"
     ]
    },
    {
     "name": "stdout",
     "output_type": "stream",
     "text": [
      "Excel saved to: /home/runner/work/crime-data/crime-data/data/charlottesville_crime_incidents.xlsx\n"
     ]
    }
   ],
   "source": [
    "# Determine the project root (assuming papermill is run from the repository root)\n",
    "project_root = os.getcwd()\n",
    "print(\"Project Root:\", project_root)\n",
    "\n",
    "# Set the data directory within the project root\n",
    "data_dir = os.path.join(project_root, \"data\")\n",
    "\n",
    "# Ensure the \"data\" directory exists (create it if it doesn't)\n",
    "if not os.path.exists(data_dir):\n",
    "    os.makedirs(data_dir)\n",
    "\n",
    "# Export the DataFrame to CSV in the \"data\" folder located in the project root\n",
    "csv_path = os.path.join(data_dir, \"charlottesville_crime_incidents.csv\")\n",
    "df.to_csv(csv_path, index=False)\n",
    "print(\"Data saved to:\", csv_path)\n",
    "\n",
    "# Construct the path to your Excel file\n",
    "excel_path = os.path.join(data_dir, \"charlottesville_crime_incidents.xlsx\")\n",
    "\n",
    "# Export the DataFrame to Excel\n",
    "df.to_excel(excel_path, index=False)\n",
    "print(\"Excel saved to:\", excel_path)\n"
   ]
  }
 ],
 "metadata": {
  "kernelspec": {
   "display_name": "Python 3",
   "language": "python",
   "name": "python3"
  },
  "language_info": {
   "codemirror_mode": {
    "name": "ipython",
    "version": 3
   },
   "file_extension": ".py",
   "mimetype": "text/x-python",
   "name": "python",
   "nbconvert_exporter": "python",
   "pygments_lexer": "ipython3",
   "version": "3.9.23"
  },
  "papermill": {
   "default_parameters": {},
   "duration": 163.004482,
   "end_time": "2025-08-02T01:09:45.772564",
   "environment_variables": {},
   "exception": null,
   "input_path": "notebook/Crime Data.ipynb",
   "output_path": "notebook/Crime Data_output.ipynb",
   "parameters": {},
   "start_time": "2025-08-02T01:07:02.768082",
   "version": "2.6.0"
  }
 },
 "nbformat": 4,
 "nbformat_minor": 5
}