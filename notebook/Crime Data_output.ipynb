{
 "cells": [
  {
   "cell_type": "markdown",
   "id": "2dedbe3e",
   "metadata": {
    "papermill": {
     "duration": 0.006059,
     "end_time": "2025-05-27T01:02:13.564375",
     "exception": false,
     "start_time": "2025-05-27T01:02:13.558316",
     "status": "completed"
    },
    "tags": []
   },
   "source": [
    "# Charlottesville Open Data Porttal: Crime Data"
   ]
  },
  {
   "cell_type": "markdown",
   "id": "987e880b",
   "metadata": {
    "papermill": {
     "duration": 0.00497,
     "end_time": "2025-05-27T01:02:13.574767",
     "exception": false,
     "start_time": "2025-05-27T01:02:13.569797",
     "status": "completed"
    },
    "tags": []
   },
   "source": [
    "## Import Relevant Librarires & Set WD"
   ]
  },
  {
   "cell_type": "code",
   "execution_count": 1,
   "id": "827a1643",
   "metadata": {
    "execution": {
     "iopub.execute_input": "2025-05-27T01:02:13.586346Z",
     "iopub.status.busy": "2025-05-27T01:02:13.585762Z",
     "iopub.status.idle": "2025-05-27T01:02:14.100515Z",
     "shell.execute_reply": "2025-05-27T01:02:14.099843Z"
    },
    "papermill": {
     "duration": 0.522065,
     "end_time": "2025-05-27T01:02:14.101922",
     "exception": false,
     "start_time": "2025-05-27T01:02:13.579857",
     "status": "completed"
    },
    "tags": []
   },
   "outputs": [],
   "source": [
    "import requests\n",
    "import pandas as pd\n",
    "import numpy as np\n",
    "import pickle\n",
    "import googlemaps\n",
    "import plotly.express as px\n",
    "from geopy.geocoders import Nominatim\n",
    "import time\n",
    "from dotenv import load_dotenv\n",
    "import os\n",
    "\n",
    "env_path = os.path.join(\"..\", \".env\")\n",
    "#print(\"Looking for .env file at:\", os.path.abspath(env_path))\n",
    "load_dotenv(dotenv_path=env_path)\n",
    "\n",
    "# Retrieve the variables\n",
    "GOOGLE_API_KEY = os.getenv(\"GOOGLE_API_KEY\")\n",
    "WORKING_DIR = os.getenv(\"WORKING_DIR\")\n",
    "\n",
    "if GOOGLE_API_KEY is None or WORKING_DIR is None:\n",
    "    raise RuntimeError(\"No configuration found. Please ensure that your .env file exists with the required variables, or create a local config.py file.\")\n",
    "\n",
    "#print(\"Google API Key:\", GOOGLE_API_KEY)\n",
    "#print(\"Working Directory:\", WORKING_DIR)"
   ]
  },
  {
   "cell_type": "markdown",
   "id": "5913f4bb",
   "metadata": {
    "papermill": {
     "duration": 0.005058,
     "end_time": "2025-05-27T01:02:14.112450",
     "exception": false,
     "start_time": "2025-05-27T01:02:14.107392",
     "status": "completed"
    },
    "tags": []
   },
   "source": [
    "## Import Data\n",
    "\n",
    "URL: https://opendata.charlottesville.org/datasets/charlottesville::crime-data/about"
   ]
  },
  {
   "cell_type": "code",
   "execution_count": 2,
   "id": "38104d6c",
   "metadata": {
    "execution": {
     "iopub.execute_input": "2025-05-27T01:02:14.124107Z",
     "iopub.status.busy": "2025-05-27T01:02:14.123811Z",
     "iopub.status.idle": "2025-05-27T01:03:15.760966Z",
     "shell.execute_reply": "2025-05-27T01:03:15.760187Z"
    },
    "papermill": {
     "duration": 61.672686,
     "end_time": "2025-05-27T01:03:15.790845",
     "exception": false,
     "start_time": "2025-05-27T01:02:14.118159",
     "status": "completed"
    },
    "tags": []
   },
   "outputs": [
    {
     "name": "stdout",
     "output_type": "stream",
     "text": [
      "Total records imported: 25420\n"
     ]
    }
   ],
   "source": [
    "# Define the endpoint and initial parameters.\n",
    "url = \"https://gisweb.charlottesville.org/arcgis/rest/services/OpenData_2/MapServer/6/query\"\n",
    "params = {\n",
    "    \"where\": \"1=1\",\n",
    "    \"outFields\": \"*\",\n",
    "    \"outSR\": 4326,\n",
    "    \"f\": \"json\",\n",
    "    \"resultOffset\": 0,       # Starting index for results\n",
    "    \"resultRecordCount\": 10000  # Maximum records per batch (if allowed by the API)\n",
    "}\n",
    "\n",
    "records = []\n",
    "\n",
    "while True:\n",
    "    response = requests.get(url, params=params)\n",
    "    response.raise_for_status()\n",
    "    data = response.json()\n",
    "    \n",
    "    # Get the current batch of features.\n",
    "    features = data.get(\"features\", [])\n",
    "    if not features:\n",
    "        break\n",
    "\n",
    "    # Extract the attributes from the features.\n",
    "    batch_records = [feature.get(\"attributes\", {}) for feature in features]\n",
    "    records.extend(batch_records)\n",
    "    \n",
    "    # If the batch size is less than the requested count, we reached the end.\n",
    "    if len(features) < params[\"resultRecordCount\"]:\n",
    "        break\n",
    "\n",
    "    # Update the resultOffset for the next batch.\n",
    "    params[\"resultOffset\"] += params[\"resultRecordCount\"]\n",
    "\n",
    "# Create a DataFrame from the combined records.\n",
    "df = pd.DataFrame(records)\n",
    "print(\"Total records imported:\", len(df))\n"
   ]
  },
  {
   "cell_type": "code",
   "execution_count": 3,
   "id": "e26e9085",
   "metadata": {
    "execution": {
     "iopub.execute_input": "2025-05-27T01:03:15.802785Z",
     "iopub.status.busy": "2025-05-27T01:03:15.802292Z",
     "iopub.status.idle": "2025-05-27T01:03:15.814842Z",
     "shell.execute_reply": "2025-05-27T01:03:15.814186Z"
    },
    "papermill": {
     "duration": 0.019772,
     "end_time": "2025-05-27T01:03:15.815953",
     "exception": false,
     "start_time": "2025-05-27T01:03:15.796181",
     "status": "completed"
    },
    "tags": []
   },
   "outputs": [
    {
     "data": {
      "text/html": [
       "<div>\n",
       "<style scoped>\n",
       "    .dataframe tbody tr th:only-of-type {\n",
       "        vertical-align: middle;\n",
       "    }\n",
       "\n",
       "    .dataframe tbody tr th {\n",
       "        vertical-align: top;\n",
       "    }\n",
       "\n",
       "    .dataframe thead th {\n",
       "        text-align: right;\n",
       "    }\n",
       "</style>\n",
       "<table border=\"1\" class=\"dataframe\">\n",
       "  <thead>\n",
       "    <tr style=\"text-align: right;\">\n",
       "      <th></th>\n",
       "      <th>RecordID</th>\n",
       "      <th>Offense</th>\n",
       "      <th>IncidentID</th>\n",
       "      <th>BlockNumber</th>\n",
       "      <th>StreetName</th>\n",
       "      <th>Agency</th>\n",
       "      <th>DateReported</th>\n",
       "      <th>HourReported</th>\n",
       "      <th>ReportingOfficer</th>\n",
       "    </tr>\n",
       "  </thead>\n",
       "  <tbody>\n",
       "    <tr>\n",
       "      <th>0</th>\n",
       "      <td>1</td>\n",
       "      <td>Hit and Run</td>\n",
       "      <td>202500017742</td>\n",
       "      <td></td>\n",
       "      <td>E WATER ST / 4TH ST SE</td>\n",
       "      <td>CPD</td>\n",
       "      <td>1748132981000</td>\n",
       "      <td>2029</td>\n",
       "      <td>Rigsby, Lloyd</td>\n",
       "    </tr>\n",
       "    <tr>\n",
       "      <th>1</th>\n",
       "      <td>2</td>\n",
       "      <td>Hit and Run</td>\n",
       "      <td>202500017739</td>\n",
       "      <td>1500</td>\n",
       "      <td>ROSE HILL DR</td>\n",
       "      <td>CPD</td>\n",
       "      <td>1748128930000</td>\n",
       "      <td>1922</td>\n",
       "      <td>Abdelgayed, Adam</td>\n",
       "    </tr>\n",
       "    <tr>\n",
       "      <th>2</th>\n",
       "      <td>3</td>\n",
       "      <td>Hit and Run</td>\n",
       "      <td>202500017729</td>\n",
       "      <td>800</td>\n",
       "      <td>HARDY DR</td>\n",
       "      <td>CPD</td>\n",
       "      <td>1748123461000</td>\n",
       "      <td>1751</td>\n",
       "      <td>Essex, Dominique</td>\n",
       "    </tr>\n",
       "    <tr>\n",
       "      <th>3</th>\n",
       "      <td>4</td>\n",
       "      <td>Assault Simple</td>\n",
       "      <td>202500017716</td>\n",
       "      <td>300</td>\n",
       "      <td>E MAIN ST</td>\n",
       "      <td>CPD</td>\n",
       "      <td>1748115364000</td>\n",
       "      <td>1536</td>\n",
       "      <td>Rigsby, Lloyd</td>\n",
       "    </tr>\n",
       "    <tr>\n",
       "      <th>4</th>\n",
       "      <td>5</td>\n",
       "      <td>Lost/FoundProperty</td>\n",
       "      <td>202500017705</td>\n",
       "      <td>600</td>\n",
       "      <td>E MARKET ST</td>\n",
       "      <td>CPD</td>\n",
       "      <td>1748104015000</td>\n",
       "      <td>1226</td>\n",
       "      <td>Prevost, Payten</td>\n",
       "    </tr>\n",
       "  </tbody>\n",
       "</table>\n",
       "</div>"
      ],
      "text/plain": [
       "   RecordID             Offense    IncidentID BlockNumber  \\\n",
       "0         1         Hit and Run  202500017742               \n",
       "1         2         Hit and Run  202500017739        1500   \n",
       "2         3         Hit and Run  202500017729         800   \n",
       "3         4      Assault Simple  202500017716         300   \n",
       "4         5  Lost/FoundProperty  202500017705         600   \n",
       "\n",
       "               StreetName Agency   DateReported HourReported  ReportingOfficer  \n",
       "0  E WATER ST / 4TH ST SE    CPD  1748132981000         2029     Rigsby, Lloyd  \n",
       "1            ROSE HILL DR    CPD  1748128930000         1922  Abdelgayed, Adam  \n",
       "2                HARDY DR    CPD  1748123461000         1751  Essex, Dominique  \n",
       "3               E MAIN ST    CPD  1748115364000         1536     Rigsby, Lloyd  \n",
       "4             E MARKET ST    CPD  1748104015000         1226   Prevost, Payten  "
      ]
     },
     "execution_count": 3,
     "metadata": {},
     "output_type": "execute_result"
    }
   ],
   "source": [
    "df.head()"
   ]
  },
  {
   "cell_type": "code",
   "execution_count": 4,
   "id": "00c4fddd",
   "metadata": {
    "execution": {
     "iopub.execute_input": "2025-05-27T01:03:15.827486Z",
     "iopub.status.busy": "2025-05-27T01:03:15.827298Z",
     "iopub.status.idle": "2025-05-27T01:03:15.831451Z",
     "shell.execute_reply": "2025-05-27T01:03:15.830920Z"
    },
    "papermill": {
     "duration": 0.011228,
     "end_time": "2025-05-27T01:03:15.832514",
     "exception": false,
     "start_time": "2025-05-27T01:03:15.821286",
     "status": "completed"
    },
    "tags": []
   },
   "outputs": [
    {
     "data": {
      "text/plain": [
       "Index(['RecordID', 'Offense', 'IncidentID', 'BlockNumber', 'StreetName',\n",
       "       'Agency', 'DateReported', 'HourReported', 'ReportingOfficer'],\n",
       "      dtype='object')"
      ]
     },
     "execution_count": 4,
     "metadata": {},
     "output_type": "execute_result"
    }
   ],
   "source": [
    "df.columns"
   ]
  },
  {
   "cell_type": "code",
   "execution_count": 5,
   "id": "d5530c1c",
   "metadata": {
    "execution": {
     "iopub.execute_input": "2025-05-27T01:03:15.844290Z",
     "iopub.status.busy": "2025-05-27T01:03:15.843864Z",
     "iopub.status.idle": "2025-05-27T01:03:15.869028Z",
     "shell.execute_reply": "2025-05-27T01:03:15.868477Z"
    },
    "papermill": {
     "duration": 0.032155,
     "end_time": "2025-05-27T01:03:15.870122",
     "exception": false,
     "start_time": "2025-05-27T01:03:15.837967",
     "status": "completed"
    },
    "tags": []
   },
   "outputs": [
    {
     "name": "stdout",
     "output_type": "stream",
     "text": [
      "<class 'pandas.core.frame.DataFrame'>\n",
      "RangeIndex: 25420 entries, 0 to 25419\n",
      "Data columns (total 9 columns):\n",
      " #   Column            Non-Null Count  Dtype \n",
      "---  ------            --------------  ----- \n",
      " 0   RecordID          25420 non-null  int64 \n",
      " 1   Offense           25420 non-null  object\n",
      " 2   IncidentID        25420 non-null  object\n",
      " 3   BlockNumber       25420 non-null  object\n",
      " 4   StreetName        25420 non-null  object\n",
      " 5   Agency            25420 non-null  object\n",
      " 6   DateReported      25420 non-null  int64 \n",
      " 7   HourReported      25420 non-null  object\n",
      " 8   ReportingOfficer  25403 non-null  object\n",
      "dtypes: int64(2), object(7)\n",
      "memory usage: 1.7+ MB\n"
     ]
    }
   ],
   "source": [
    "df.info()"
   ]
  },
  {
   "cell_type": "markdown",
   "id": "3ae01e38",
   "metadata": {
    "papermill": {
     "duration": 0.005523,
     "end_time": "2025-05-27T01:03:15.881251",
     "exception": false,
     "start_time": "2025-05-27T01:03:15.875728",
     "status": "completed"
    },
    "tags": []
   },
   "source": [
    "### Missing Values"
   ]
  },
  {
   "cell_type": "code",
   "execution_count": 6,
   "id": "48aa62a2",
   "metadata": {
    "execution": {
     "iopub.execute_input": "2025-05-27T01:03:15.893300Z",
     "iopub.status.busy": "2025-05-27T01:03:15.892902Z",
     "iopub.status.idle": "2025-05-27T01:03:15.914835Z",
     "shell.execute_reply": "2025-05-27T01:03:15.914174Z"
    },
    "papermill": {
     "duration": 0.029083,
     "end_time": "2025-05-27T01:03:15.915856",
     "exception": false,
     "start_time": "2025-05-27T01:03:15.886773",
     "status": "completed"
    },
    "tags": []
   },
   "outputs": [
    {
     "name": "stdout",
     "output_type": "stream",
     "text": [
      "                  MissingCount  MissingPercentage\n",
      "RecordID                     0               0.00\n",
      "Offense                      0               0.00\n",
      "IncidentID                   0               0.00\n",
      "BlockNumber                  0               0.00\n",
      "StreetName                   0               0.00\n",
      "Agency                       0               0.00\n",
      "DateReported                 0               0.00\n",
      "HourReported                 0               0.00\n",
      "ReportingOfficer            17               0.07\n"
     ]
    }
   ],
   "source": [
    "def missing_percentage(df):\n",
    "    \"\"\"\n",
    "    Returns a DataFrame with the count and percentage of missing values for each column.\n",
    "    \n",
    "    Parameters:\n",
    "        df (pd.DataFrame): The input DataFrame.\n",
    "    \n",
    "    Returns:\n",
    "        pd.DataFrame: A DataFrame with columns 'MissingCount' and 'MissingPercentage'.\n",
    "    \"\"\"\n",
    "    total_rows = len(df)\n",
    "    missing_count = df.isnull().sum()\n",
    "    missing_percent = (missing_count / total_rows) * 100\n",
    "    \n",
    "    result = pd.DataFrame({\n",
    "        'MissingCount': missing_count,\n",
    "        'MissingPercentage': missing_percent.round(2)\n",
    "    })\n",
    "    \n",
    "    return result\n",
    "\n",
    "# Example usage:\n",
    "missing_info = missing_percentage(df)\n",
    "print(missing_info)\n"
   ]
  },
  {
   "cell_type": "markdown",
   "id": "ce9311c1",
   "metadata": {
    "papermill": {
     "duration": 0.005658,
     "end_time": "2025-05-27T01:03:15.927310",
     "exception": false,
     "start_time": "2025-05-27T01:03:15.921652",
     "status": "completed"
    },
    "tags": []
   },
   "source": [
    "## Data Preparation"
   ]
  },
  {
   "cell_type": "markdown",
   "id": "845a5086",
   "metadata": {
    "papermill": {
     "duration": 0.005564,
     "end_time": "2025-05-27T01:03:15.938492",
     "exception": false,
     "start_time": "2025-05-27T01:03:15.932928",
     "status": "completed"
    },
    "tags": []
   },
   "source": [
    "### Data Conversion"
   ]
  },
  {
   "cell_type": "code",
   "execution_count": 7,
   "id": "835f43d2",
   "metadata": {
    "execution": {
     "iopub.execute_input": "2025-05-27T01:03:15.950978Z",
     "iopub.status.busy": "2025-05-27T01:03:15.950557Z",
     "iopub.status.idle": "2025-05-27T01:03:16.323082Z",
     "shell.execute_reply": "2025-05-27T01:03:16.322377Z"
    },
    "papermill": {
     "duration": 0.380014,
     "end_time": "2025-05-27T01:03:16.324114",
     "exception": false,
     "start_time": "2025-05-27T01:03:15.944100",
     "status": "completed"
    },
    "tags": []
   },
   "outputs": [
    {
     "data": {
      "text/html": [
       "<div>\n",
       "<style scoped>\n",
       "    .dataframe tbody tr th:only-of-type {\n",
       "        vertical-align: middle;\n",
       "    }\n",
       "\n",
       "    .dataframe tbody tr th {\n",
       "        vertical-align: top;\n",
       "    }\n",
       "\n",
       "    .dataframe thead th {\n",
       "        text-align: right;\n",
       "    }\n",
       "</style>\n",
       "<table border=\"1\" class=\"dataframe\">\n",
       "  <thead>\n",
       "    <tr style=\"text-align: right;\">\n",
       "      <th></th>\n",
       "      <th>RecordID</th>\n",
       "      <th>Offense</th>\n",
       "      <th>IncidentID</th>\n",
       "      <th>BlockNumber</th>\n",
       "      <th>StreetName</th>\n",
       "      <th>Agency</th>\n",
       "      <th>HourReported</th>\n",
       "      <th>ReportingOfficer</th>\n",
       "      <th>Date</th>\n",
       "      <th>DateString</th>\n",
       "      <th>DayOfWeek</th>\n",
       "      <th>Weekend</th>\n",
       "      <th>Season</th>\n",
       "      <th>HourAMPM</th>\n",
       "      <th>TimeOfDay</th>\n",
       "    </tr>\n",
       "  </thead>\n",
       "  <tbody>\n",
       "    <tr>\n",
       "      <th>0</th>\n",
       "      <td>1</td>\n",
       "      <td>Hit and Run</td>\n",
       "      <td>202500017742</td>\n",
       "      <td></td>\n",
       "      <td>E WATER ST / 4TH ST SE</td>\n",
       "      <td>CPD</td>\n",
       "      <td>2029</td>\n",
       "      <td>Rigsby, Lloyd</td>\n",
       "      <td>2025-05-24 20:29:41</td>\n",
       "      <td>2025-05-24 08:29:41 PM</td>\n",
       "      <td>Saturday</td>\n",
       "      <td>True</td>\n",
       "      <td>Spring</td>\n",
       "      <td>08:29 PM</td>\n",
       "      <td>Evening</td>\n",
       "    </tr>\n",
       "    <tr>\n",
       "      <th>1</th>\n",
       "      <td>2</td>\n",
       "      <td>Hit and Run</td>\n",
       "      <td>202500017739</td>\n",
       "      <td>1500</td>\n",
       "      <td>ROSE HILL DR</td>\n",
       "      <td>CPD</td>\n",
       "      <td>1922</td>\n",
       "      <td>Abdelgayed, Adam</td>\n",
       "      <td>2025-05-24 19:22:10</td>\n",
       "      <td>2025-05-24 07:22:10 PM</td>\n",
       "      <td>Saturday</td>\n",
       "      <td>True</td>\n",
       "      <td>Spring</td>\n",
       "      <td>07:22 PM</td>\n",
       "      <td>Evening</td>\n",
       "    </tr>\n",
       "    <tr>\n",
       "      <th>2</th>\n",
       "      <td>3</td>\n",
       "      <td>Hit and Run</td>\n",
       "      <td>202500017729</td>\n",
       "      <td>800</td>\n",
       "      <td>HARDY DR</td>\n",
       "      <td>CPD</td>\n",
       "      <td>1751</td>\n",
       "      <td>Essex, Dominique</td>\n",
       "      <td>2025-05-24 17:51:01</td>\n",
       "      <td>2025-05-24 05:51:01 PM</td>\n",
       "      <td>Saturday</td>\n",
       "      <td>True</td>\n",
       "      <td>Spring</td>\n",
       "      <td>05:51 PM</td>\n",
       "      <td>Evening</td>\n",
       "    </tr>\n",
       "    <tr>\n",
       "      <th>3</th>\n",
       "      <td>4</td>\n",
       "      <td>Assault Simple</td>\n",
       "      <td>202500017716</td>\n",
       "      <td>300</td>\n",
       "      <td>E MAIN ST</td>\n",
       "      <td>CPD</td>\n",
       "      <td>1536</td>\n",
       "      <td>Rigsby, Lloyd</td>\n",
       "      <td>2025-05-24 15:36:04</td>\n",
       "      <td>2025-05-24 03:36:04 PM</td>\n",
       "      <td>Saturday</td>\n",
       "      <td>True</td>\n",
       "      <td>Spring</td>\n",
       "      <td>03:36 PM</td>\n",
       "      <td>Afternoon</td>\n",
       "    </tr>\n",
       "    <tr>\n",
       "      <th>4</th>\n",
       "      <td>5</td>\n",
       "      <td>Lost/FoundProperty</td>\n",
       "      <td>202500017705</td>\n",
       "      <td>600</td>\n",
       "      <td>E MARKET ST</td>\n",
       "      <td>CPD</td>\n",
       "      <td>1226</td>\n",
       "      <td>Prevost, Payten</td>\n",
       "      <td>2025-05-24 12:26:55</td>\n",
       "      <td>2025-05-24 12:26:55 PM</td>\n",
       "      <td>Saturday</td>\n",
       "      <td>True</td>\n",
       "      <td>Spring</td>\n",
       "      <td>12:26 PM</td>\n",
       "      <td>Afternoon</td>\n",
       "    </tr>\n",
       "  </tbody>\n",
       "</table>\n",
       "</div>"
      ],
      "text/plain": [
       "   RecordID             Offense    IncidentID BlockNumber  \\\n",
       "0         1         Hit and Run  202500017742               \n",
       "1         2         Hit and Run  202500017739        1500   \n",
       "2         3         Hit and Run  202500017729         800   \n",
       "3         4      Assault Simple  202500017716         300   \n",
       "4         5  Lost/FoundProperty  202500017705         600   \n",
       "\n",
       "               StreetName Agency HourReported  ReportingOfficer  \\\n",
       "0  E WATER ST / 4TH ST SE    CPD         2029     Rigsby, Lloyd   \n",
       "1            ROSE HILL DR    CPD         1922  Abdelgayed, Adam   \n",
       "2                HARDY DR    CPD         1751  Essex, Dominique   \n",
       "3               E MAIN ST    CPD         1536     Rigsby, Lloyd   \n",
       "4             E MARKET ST    CPD         1226   Prevost, Payten   \n",
       "\n",
       "                 Date              DateString DayOfWeek  Weekend  Season  \\\n",
       "0 2025-05-24 20:29:41  2025-05-24 08:29:41 PM  Saturday     True  Spring   \n",
       "1 2025-05-24 19:22:10  2025-05-24 07:22:10 PM  Saturday     True  Spring   \n",
       "2 2025-05-24 17:51:01  2025-05-24 05:51:01 PM  Saturday     True  Spring   \n",
       "3 2025-05-24 15:36:04  2025-05-24 03:36:04 PM  Saturday     True  Spring   \n",
       "4 2025-05-24 12:26:55  2025-05-24 12:26:55 PM  Saturday     True  Spring   \n",
       "\n",
       "   HourAMPM  TimeOfDay  \n",
       "0  08:29 PM    Evening  \n",
       "1  07:22 PM    Evening  \n",
       "2  05:51 PM    Evening  \n",
       "3  03:36 PM  Afternoon  \n",
       "4  12:26 PM  Afternoon  "
      ]
     },
     "execution_count": 7,
     "metadata": {},
     "output_type": "execute_result"
    }
   ],
   "source": [
    "def convert_and_categorize_datereported(df, col='DateReported'):\n",
    "    \"\"\"\n",
    "    Converts an epoch (in milliseconds) date column into a timezone-aware datetime,\n",
    "    converts it to Eastern Time, and then creates columns for day-of-week, weekend flag,\n",
    "    season, 12-hour formatted time, and time-of-day. Keeps both a real datetime column\n",
    "    (Date) and a string representation (DateString).\n",
    "    \"\"\"\n",
    "    import pandas as pd\n",
    "\n",
    "    # Convert the epoch timestamp to a pandas datetime object as UTC, then convert to US/Eastern.\n",
    "    df[\"DateReported_dt\"] = (\n",
    "        pd.to_datetime(df[col], unit=\"ms\", errors=\"coerce\", utc=True)\n",
    "        .dt.tz_convert(\"US/Eastern\")\n",
    "    )\n",
    "    \n",
    "    # Create a true datetime column (remove timezone if you prefer naive datetime)\n",
    "    df[\"Date\"] = df[\"DateReported_dt\"].dt.tz_localize(None)\n",
    "\n",
    "    # Optionally, create a separate string-formatted column\n",
    "    df[\"DateString\"] = df[\"DateReported_dt\"].dt.strftime(\"%Y-%m-%d %I:%M:%S %p\")\n",
    "    \n",
    "    # DayOfWeek\n",
    "    df[\"DayOfWeek\"] = df[\"DateReported_dt\"].dt.day_name()\n",
    "    \n",
    "    # Weekend\n",
    "    df[\"Weekend\"] = df[\"DayOfWeek\"].isin([\"Saturday\", \"Sunday\"])\n",
    "    \n",
    "    # Helper function to determine the season\n",
    "    def get_season(dt):\n",
    "        month = dt.month\n",
    "        day = dt.day\n",
    "        # Approximate Northern Hemisphere season boundaries:\n",
    "        if (month == 12 and day >= 21) or (month < 3) or (month == 3 and day < 20):\n",
    "            return \"Winter\"\n",
    "        elif (month == 3 and day >= 20) or (month < 6) or (month == 6 and day < 21):\n",
    "            return \"Spring\"\n",
    "        elif (month == 6 and day >= 21) or (month < 9) or (month == 9 and day < 22):\n",
    "            return \"Summer\"\n",
    "        else:\n",
    "            return \"Autumn\"\n",
    "    \n",
    "    df[\"Season\"] = df[\"DateReported_dt\"].apply(get_season)\n",
    "    \n",
    "    # 12-hour formatted time (HourAMPM)\n",
    "    df[\"HourAMPM\"] = df[\"DateReported_dt\"].dt.strftime(\"%I:%M %p\")\n",
    "    \n",
    "    # Extract hour (0-23) for time-of-day\n",
    "    df[\"HourValue\"] = df[\"DateReported_dt\"].dt.hour\n",
    "    \n",
    "    def time_of_day(hour):\n",
    "        if pd.isnull(hour):\n",
    "            return None\n",
    "        if 5 <= hour < 12:\n",
    "            return \"Morning\"\n",
    "        elif 12 <= hour < 17:\n",
    "            return \"Afternoon\"\n",
    "        elif 17 <= hour < 21:\n",
    "            return \"Evening\"\n",
    "        else:\n",
    "            return \"Night\"\n",
    "    \n",
    "    df[\"TimeOfDay\"] = df[\"HourValue\"].apply(time_of_day)\n",
    "    \n",
    "    # Drop columns you no longer need\n",
    "    df.drop(columns=[col, \"DateReported_dt\", \"HourValue\"], inplace=True)\n",
    "    \n",
    "    return df\n",
    "\n",
    "# Example usage:\n",
    "df = convert_and_categorize_datereported(df)\n",
    "df.head()\n"
   ]
  },
  {
   "cell_type": "code",
   "execution_count": 8,
   "id": "80d420ab",
   "metadata": {
    "execution": {
     "iopub.execute_input": "2025-05-27T01:03:16.337206Z",
     "iopub.status.busy": "2025-05-27T01:03:16.337002Z",
     "iopub.status.idle": "2025-05-27T01:03:16.365962Z",
     "shell.execute_reply": "2025-05-27T01:03:16.365251Z"
    },
    "papermill": {
     "duration": 0.036561,
     "end_time": "2025-05-27T01:03:16.366975",
     "exception": false,
     "start_time": "2025-05-27T01:03:16.330414",
     "status": "completed"
    },
    "tags": []
   },
   "outputs": [
    {
     "name": "stdout",
     "output_type": "stream",
     "text": [
      "<class 'pandas.core.frame.DataFrame'>\n",
      "RangeIndex: 25420 entries, 0 to 25419\n",
      "Data columns (total 15 columns):\n",
      " #   Column            Non-Null Count  Dtype         \n",
      "---  ------            --------------  -----         \n",
      " 0   RecordID          25420 non-null  int64         \n",
      " 1   Offense           25420 non-null  object        \n",
      " 2   IncidentID        25420 non-null  object        \n",
      " 3   BlockNumber       25420 non-null  object        \n",
      " 4   StreetName        25420 non-null  object        \n",
      " 5   Agency            25420 non-null  object        \n",
      " 6   HourReported      25420 non-null  object        \n",
      " 7   ReportingOfficer  25403 non-null  object        \n",
      " 8   Date              25420 non-null  datetime64[ns]\n",
      " 9   DateString        25420 non-null  object        \n",
      " 10  DayOfWeek         25420 non-null  object        \n",
      " 11  Weekend           25420 non-null  bool          \n",
      " 12  Season            25420 non-null  object        \n",
      " 13  HourAMPM          25420 non-null  object        \n",
      " 14  TimeOfDay         25420 non-null  object        \n",
      "dtypes: bool(1), datetime64[ns](1), int64(1), object(12)\n",
      "memory usage: 2.7+ MB\n"
     ]
    }
   ],
   "source": [
    "df.info()"
   ]
  },
  {
   "cell_type": "markdown",
   "id": "037ad52e",
   "metadata": {
    "papermill": {
     "duration": 0.00587,
     "end_time": "2025-05-27T01:03:16.379018",
     "exception": false,
     "start_time": "2025-05-27T01:03:16.373148",
     "status": "completed"
    },
    "tags": []
   },
   "source": [
    "### Coordinates"
   ]
  },
  {
   "cell_type": "code",
   "execution_count": 9,
   "id": "a92ced2e",
   "metadata": {
    "execution": {
     "iopub.execute_input": "2025-05-27T01:03:16.392008Z",
     "iopub.status.busy": "2025-05-27T01:03:16.391517Z",
     "iopub.status.idle": "2025-05-27T01:03:16.694205Z",
     "shell.execute_reply": "2025-05-27T01:03:16.693517Z"
    },
    "papermill": {
     "duration": 0.310319,
     "end_time": "2025-05-27T01:03:16.695224",
     "exception": false,
     "start_time": "2025-05-27T01:03:16.384905",
     "status": "completed"
    },
    "tags": []
   },
   "outputs": [
    {
     "name": "stdout",
     "output_type": "stream",
     "text": [
      "Loaded geocode cache.\n"
     ]
    },
    {
     "name": "stdout",
     "output_type": "stream",
     "text": [
      "Geocoded 1100 E JEFFERSON ST, 3: 38.0291653, -78.4713725\n",
      "Geocode cache updated and saved.\n"
     ]
    },
    {
     "data": {
      "text/html": [
       "<div>\n",
       "<style scoped>\n",
       "    .dataframe tbody tr th:only-of-type {\n",
       "        vertical-align: middle;\n",
       "    }\n",
       "\n",
       "    .dataframe tbody tr th {\n",
       "        vertical-align: top;\n",
       "    }\n",
       "\n",
       "    .dataframe thead th {\n",
       "        text-align: right;\n",
       "    }\n",
       "</style>\n",
       "<table border=\"1\" class=\"dataframe\">\n",
       "  <thead>\n",
       "    <tr style=\"text-align: right;\">\n",
       "      <th></th>\n",
       "      <th>RecordID</th>\n",
       "      <th>Offense</th>\n",
       "      <th>IncidentID</th>\n",
       "      <th>BlockNumber</th>\n",
       "      <th>StreetName</th>\n",
       "      <th>Agency</th>\n",
       "      <th>HourReported</th>\n",
       "      <th>ReportingOfficer</th>\n",
       "      <th>Date</th>\n",
       "      <th>DateString</th>\n",
       "      <th>DayOfWeek</th>\n",
       "      <th>Weekend</th>\n",
       "      <th>Season</th>\n",
       "      <th>HourAMPM</th>\n",
       "      <th>TimeOfDay</th>\n",
       "      <th>FullStreet</th>\n",
       "      <th>lat</th>\n",
       "      <th>lon</th>\n",
       "    </tr>\n",
       "  </thead>\n",
       "  <tbody>\n",
       "    <tr>\n",
       "      <th>0</th>\n",
       "      <td>1</td>\n",
       "      <td>Hit and Run</td>\n",
       "      <td>202500017742</td>\n",
       "      <td></td>\n",
       "      <td>E WATER ST / 4TH ST SE</td>\n",
       "      <td>CPD</td>\n",
       "      <td>2029</td>\n",
       "      <td>Rigsby, Lloyd</td>\n",
       "      <td>2025-05-24 20:29:41</td>\n",
       "      <td>2025-05-24 08:29:41 PM</td>\n",
       "      <td>Saturday</td>\n",
       "      <td>True</td>\n",
       "      <td>Spring</td>\n",
       "      <td>08:29 PM</td>\n",
       "      <td>Evening</td>\n",
       "      <td>E WATER ST / 4TH ST SE</td>\n",
       "      <td>38.029325</td>\n",
       "      <td>-78.479617</td>\n",
       "    </tr>\n",
       "    <tr>\n",
       "      <th>1</th>\n",
       "      <td>2</td>\n",
       "      <td>Hit and Run</td>\n",
       "      <td>202500017739</td>\n",
       "      <td>1500</td>\n",
       "      <td>ROSE HILL DR</td>\n",
       "      <td>CPD</td>\n",
       "      <td>1922</td>\n",
       "      <td>Abdelgayed, Adam</td>\n",
       "      <td>2025-05-24 19:22:10</td>\n",
       "      <td>2025-05-24 07:22:10 PM</td>\n",
       "      <td>Saturday</td>\n",
       "      <td>True</td>\n",
       "      <td>Spring</td>\n",
       "      <td>07:22 PM</td>\n",
       "      <td>Evening</td>\n",
       "      <td>1500 ROSE HILL DR</td>\n",
       "      <td>38.048752</td>\n",
       "      <td>-78.482931</td>\n",
       "    </tr>\n",
       "    <tr>\n",
       "      <th>2</th>\n",
       "      <td>3</td>\n",
       "      <td>Hit and Run</td>\n",
       "      <td>202500017729</td>\n",
       "      <td>800</td>\n",
       "      <td>HARDY DR</td>\n",
       "      <td>CPD</td>\n",
       "      <td>1751</td>\n",
       "      <td>Essex, Dominique</td>\n",
       "      <td>2025-05-24 17:51:01</td>\n",
       "      <td>2025-05-24 05:51:01 PM</td>\n",
       "      <td>Saturday</td>\n",
       "      <td>True</td>\n",
       "      <td>Spring</td>\n",
       "      <td>05:51 PM</td>\n",
       "      <td>Evening</td>\n",
       "      <td>800 HARDY DR</td>\n",
       "      <td>38.033239</td>\n",
       "      <td>-78.490398</td>\n",
       "    </tr>\n",
       "    <tr>\n",
       "      <th>3</th>\n",
       "      <td>4</td>\n",
       "      <td>Assault Simple</td>\n",
       "      <td>202500017716</td>\n",
       "      <td>300</td>\n",
       "      <td>E MAIN ST</td>\n",
       "      <td>CPD</td>\n",
       "      <td>1536</td>\n",
       "      <td>Rigsby, Lloyd</td>\n",
       "      <td>2025-05-24 15:36:04</td>\n",
       "      <td>2025-05-24 03:36:04 PM</td>\n",
       "      <td>Saturday</td>\n",
       "      <td>True</td>\n",
       "      <td>Spring</td>\n",
       "      <td>03:36 PM</td>\n",
       "      <td>Afternoon</td>\n",
       "      <td>300 E MAIN ST</td>\n",
       "      <td>38.030104</td>\n",
       "      <td>-78.479945</td>\n",
       "    </tr>\n",
       "    <tr>\n",
       "      <th>4</th>\n",
       "      <td>5</td>\n",
       "      <td>Lost/FoundProperty</td>\n",
       "      <td>202500017705</td>\n",
       "      <td>600</td>\n",
       "      <td>E MARKET ST</td>\n",
       "      <td>CPD</td>\n",
       "      <td>1226</td>\n",
       "      <td>Prevost, Payten</td>\n",
       "      <td>2025-05-24 12:26:55</td>\n",
       "      <td>2025-05-24 12:26:55 PM</td>\n",
       "      <td>Saturday</td>\n",
       "      <td>True</td>\n",
       "      <td>Spring</td>\n",
       "      <td>12:26 PM</td>\n",
       "      <td>Afternoon</td>\n",
       "      <td>600 E MARKET ST</td>\n",
       "      <td>38.030175</td>\n",
       "      <td>-78.477574</td>\n",
       "    </tr>\n",
       "  </tbody>\n",
       "</table>\n",
       "</div>"
      ],
      "text/plain": [
       "   RecordID             Offense    IncidentID BlockNumber  \\\n",
       "0         1         Hit and Run  202500017742               \n",
       "1         2         Hit and Run  202500017739        1500   \n",
       "2         3         Hit and Run  202500017729         800   \n",
       "3         4      Assault Simple  202500017716         300   \n",
       "4         5  Lost/FoundProperty  202500017705         600   \n",
       "\n",
       "               StreetName Agency HourReported  ReportingOfficer  \\\n",
       "0  E WATER ST / 4TH ST SE    CPD         2029     Rigsby, Lloyd   \n",
       "1            ROSE HILL DR    CPD         1922  Abdelgayed, Adam   \n",
       "2                HARDY DR    CPD         1751  Essex, Dominique   \n",
       "3               E MAIN ST    CPD         1536     Rigsby, Lloyd   \n",
       "4             E MARKET ST    CPD         1226   Prevost, Payten   \n",
       "\n",
       "                 Date              DateString DayOfWeek  Weekend  Season  \\\n",
       "0 2025-05-24 20:29:41  2025-05-24 08:29:41 PM  Saturday     True  Spring   \n",
       "1 2025-05-24 19:22:10  2025-05-24 07:22:10 PM  Saturday     True  Spring   \n",
       "2 2025-05-24 17:51:01  2025-05-24 05:51:01 PM  Saturday     True  Spring   \n",
       "3 2025-05-24 15:36:04  2025-05-24 03:36:04 PM  Saturday     True  Spring   \n",
       "4 2025-05-24 12:26:55  2025-05-24 12:26:55 PM  Saturday     True  Spring   \n",
       "\n",
       "   HourAMPM  TimeOfDay               FullStreet        lat        lon  \n",
       "0  08:29 PM    Evening   E WATER ST / 4TH ST SE  38.029325 -78.479617  \n",
       "1  07:22 PM    Evening        1500 ROSE HILL DR  38.048752 -78.482931  \n",
       "2  05:51 PM    Evening             800 HARDY DR  38.033239 -78.490398  \n",
       "3  03:36 PM  Afternoon            300 E MAIN ST  38.030104 -78.479945  \n",
       "4  12:26 PM  Afternoon          600 E MARKET ST  38.030175 -78.477574  "
      ]
     },
     "execution_count": 9,
     "metadata": {},
     "output_type": "execute_result"
    }
   ],
   "source": [
    "# Combine BlockNumber and StreetName into a full address string\n",
    "df['FullStreet'] = df['BlockNumber'].astype(str) + \" \" + df['StreetName']\n",
    "\n",
    "# --- Step 1: Setup the Google Maps Client and Cache ---\n",
    "gmaps = googlemaps.Client(key=GOOGLE_API_KEY)\n",
    "\n",
    "# Try to load cached geocoding results if available.\n",
    "try:\n",
    "    with open(\"geocode_cache_google.pkl\", \"rb\") as f:\n",
    "        street_coords = pickle.load(f)\n",
    "    print(\"Loaded geocode cache.\")\n",
    "except FileNotFoundError:\n",
    "    street_coords = {}\n",
    "    print(\"No cache found; starting fresh.\")\n",
    "\n",
    "def geocode_address(address):\n",
    "    try:\n",
    "        # Append city and state to help geocoding\n",
    "        result = gmaps.geocode(f\"{address}, Charlottesville, VA\")\n",
    "        if result:\n",
    "            lat = result[0]['geometry']['location']['lat']\n",
    "            lon = result[0]['geometry']['location']['lng']\n",
    "            return lat, lon\n",
    "    except Exception as e:\n",
    "        print(f\"Error geocoding {address}: {e}\")\n",
    "    return None, None\n",
    "\n",
    "# --- Step 2: Geocode Only New Addresses ---\n",
    "unique_addresses = df['FullStreet'].unique()\n",
    "for address in unique_addresses:\n",
    "    if address not in street_coords:\n",
    "        lat, lon = geocode_address(address)\n",
    "        street_coords[address] = (lat, lon)\n",
    "        print(f\"Geocoded {address}: {lat}, {lon}\")\n",
    "\n",
    "# Save the updated cache to disk.\n",
    "with open(\"geocode_cache_google.pkl\", \"wb\") as f:\n",
    "    pickle.dump(street_coords, f)\n",
    "    print(\"Geocode cache updated and saved.\")\n",
    "\n",
    "# --- Step 3: Map Coordinates Back to DataFrame ---\n",
    "df['lat'] = df['FullStreet'].map(lambda s: street_coords.get(s, (None, None))[0])\n",
    "df['lon'] = df['FullStreet'].map(lambda s: street_coords.get(s, (None, None))[1])\n",
    "\n",
    "df.head()"
   ]
  },
  {
   "cell_type": "markdown",
   "id": "d102934a",
   "metadata": {
    "papermill": {
     "duration": 0.006277,
     "end_time": "2025-05-27T01:03:16.708066",
     "exception": false,
     "start_time": "2025-05-27T01:03:16.701789",
     "status": "completed"
    },
    "tags": []
   },
   "source": [
    "### Neighborhood"
   ]
  },
  {
   "cell_type": "code",
   "execution_count": 10,
   "id": "c242fd7e",
   "metadata": {
    "execution": {
     "iopub.execute_input": "2025-05-27T01:03:16.721694Z",
     "iopub.status.busy": "2025-05-27T01:03:16.721266Z",
     "iopub.status.idle": "2025-05-27T01:03:16.980593Z",
     "shell.execute_reply": "2025-05-27T01:03:16.979907Z"
    },
    "papermill": {
     "duration": 0.267323,
     "end_time": "2025-05-27T01:03:16.981620",
     "exception": false,
     "start_time": "2025-05-27T01:03:16.714297",
     "status": "completed"
    },
    "tags": []
   },
   "outputs": [
    {
     "name": "stdout",
     "output_type": "stream",
     "text": [
      "Loaded neighborhood cache.\n"
     ]
    },
    {
     "data": {
      "text/html": [
       "<div>\n",
       "<style scoped>\n",
       "    .dataframe tbody tr th:only-of-type {\n",
       "        vertical-align: middle;\n",
       "    }\n",
       "\n",
       "    .dataframe tbody tr th {\n",
       "        vertical-align: top;\n",
       "    }\n",
       "\n",
       "    .dataframe thead th {\n",
       "        text-align: right;\n",
       "    }\n",
       "</style>\n",
       "<table border=\"1\" class=\"dataframe\">\n",
       "  <thead>\n",
       "    <tr style=\"text-align: right;\">\n",
       "      <th></th>\n",
       "      <th>RecordID</th>\n",
       "      <th>Offense</th>\n",
       "      <th>IncidentID</th>\n",
       "      <th>BlockNumber</th>\n",
       "      <th>StreetName</th>\n",
       "      <th>Agency</th>\n",
       "      <th>HourReported</th>\n",
       "      <th>ReportingOfficer</th>\n",
       "      <th>Date</th>\n",
       "      <th>DateString</th>\n",
       "      <th>DayOfWeek</th>\n",
       "      <th>Weekend</th>\n",
       "      <th>Season</th>\n",
       "      <th>HourAMPM</th>\n",
       "      <th>TimeOfDay</th>\n",
       "      <th>FullStreet</th>\n",
       "      <th>lat</th>\n",
       "      <th>lon</th>\n",
       "      <th>neighborhood</th>\n",
       "    </tr>\n",
       "  </thead>\n",
       "  <tbody>\n",
       "    <tr>\n",
       "      <th>0</th>\n",
       "      <td>1</td>\n",
       "      <td>Hit and Run</td>\n",
       "      <td>202500017742</td>\n",
       "      <td></td>\n",
       "      <td>E WATER ST / 4TH ST SE</td>\n",
       "      <td>CPD</td>\n",
       "      <td>2029</td>\n",
       "      <td>Rigsby, Lloyd</td>\n",
       "      <td>2025-05-24 20:29:41</td>\n",
       "      <td>2025-05-24 08:29:41 PM</td>\n",
       "      <td>Saturday</td>\n",
       "      <td>True</td>\n",
       "      <td>Spring</td>\n",
       "      <td>08:29 PM</td>\n",
       "      <td>Evening</td>\n",
       "      <td>E WATER ST / 4TH ST SE</td>\n",
       "      <td>38.029325</td>\n",
       "      <td>-78.479617</td>\n",
       "      <td>North Downtown</td>\n",
       "    </tr>\n",
       "    <tr>\n",
       "      <th>1</th>\n",
       "      <td>2</td>\n",
       "      <td>Hit and Run</td>\n",
       "      <td>202500017739</td>\n",
       "      <td>1500</td>\n",
       "      <td>ROSE HILL DR</td>\n",
       "      <td>CPD</td>\n",
       "      <td>1922</td>\n",
       "      <td>Abdelgayed, Adam</td>\n",
       "      <td>2025-05-24 19:22:10</td>\n",
       "      <td>2025-05-24 07:22:10 PM</td>\n",
       "      <td>Saturday</td>\n",
       "      <td>True</td>\n",
       "      <td>Spring</td>\n",
       "      <td>07:22 PM</td>\n",
       "      <td>Evening</td>\n",
       "      <td>1500 ROSE HILL DR</td>\n",
       "      <td>38.048752</td>\n",
       "      <td>-78.482931</td>\n",
       "      <td>Barracks Rugby</td>\n",
       "    </tr>\n",
       "    <tr>\n",
       "      <th>2</th>\n",
       "      <td>3</td>\n",
       "      <td>Hit and Run</td>\n",
       "      <td>202500017729</td>\n",
       "      <td>800</td>\n",
       "      <td>HARDY DR</td>\n",
       "      <td>CPD</td>\n",
       "      <td>1751</td>\n",
       "      <td>Essex, Dominique</td>\n",
       "      <td>2025-05-24 17:51:01</td>\n",
       "      <td>2025-05-24 05:51:01 PM</td>\n",
       "      <td>Saturday</td>\n",
       "      <td>True</td>\n",
       "      <td>Spring</td>\n",
       "      <td>05:51 PM</td>\n",
       "      <td>Evening</td>\n",
       "      <td>800 HARDY DR</td>\n",
       "      <td>38.033239</td>\n",
       "      <td>-78.490398</td>\n",
       "      <td>10th &amp; Page</td>\n",
       "    </tr>\n",
       "    <tr>\n",
       "      <th>3</th>\n",
       "      <td>4</td>\n",
       "      <td>Assault Simple</td>\n",
       "      <td>202500017716</td>\n",
       "      <td>300</td>\n",
       "      <td>E MAIN ST</td>\n",
       "      <td>CPD</td>\n",
       "      <td>1536</td>\n",
       "      <td>Rigsby, Lloyd</td>\n",
       "      <td>2025-05-24 15:36:04</td>\n",
       "      <td>2025-05-24 03:36:04 PM</td>\n",
       "      <td>Saturday</td>\n",
       "      <td>True</td>\n",
       "      <td>Spring</td>\n",
       "      <td>03:36 PM</td>\n",
       "      <td>Afternoon</td>\n",
       "      <td>300 E MAIN ST</td>\n",
       "      <td>38.030104</td>\n",
       "      <td>-78.479945</td>\n",
       "      <td>Downtown Mall</td>\n",
       "    </tr>\n",
       "    <tr>\n",
       "      <th>4</th>\n",
       "      <td>5</td>\n",
       "      <td>Lost/FoundProperty</td>\n",
       "      <td>202500017705</td>\n",
       "      <td>600</td>\n",
       "      <td>E MARKET ST</td>\n",
       "      <td>CPD</td>\n",
       "      <td>1226</td>\n",
       "      <td>Prevost, Payten</td>\n",
       "      <td>2025-05-24 12:26:55</td>\n",
       "      <td>2025-05-24 12:26:55 PM</td>\n",
       "      <td>Saturday</td>\n",
       "      <td>True</td>\n",
       "      <td>Spring</td>\n",
       "      <td>12:26 PM</td>\n",
       "      <td>Afternoon</td>\n",
       "      <td>600 E MARKET ST</td>\n",
       "      <td>38.030175</td>\n",
       "      <td>-78.477574</td>\n",
       "      <td>Downtown Mall</td>\n",
       "    </tr>\n",
       "  </tbody>\n",
       "</table>\n",
       "</div>"
      ],
      "text/plain": [
       "   RecordID             Offense    IncidentID BlockNumber  \\\n",
       "0         1         Hit and Run  202500017742               \n",
       "1         2         Hit and Run  202500017739        1500   \n",
       "2         3         Hit and Run  202500017729         800   \n",
       "3         4      Assault Simple  202500017716         300   \n",
       "4         5  Lost/FoundProperty  202500017705         600   \n",
       "\n",
       "               StreetName Agency HourReported  ReportingOfficer  \\\n",
       "0  E WATER ST / 4TH ST SE    CPD         2029     Rigsby, Lloyd   \n",
       "1            ROSE HILL DR    CPD         1922  Abdelgayed, Adam   \n",
       "2                HARDY DR    CPD         1751  Essex, Dominique   \n",
       "3               E MAIN ST    CPD         1536     Rigsby, Lloyd   \n",
       "4             E MARKET ST    CPD         1226   Prevost, Payten   \n",
       "\n",
       "                 Date              DateString DayOfWeek  Weekend  Season  \\\n",
       "0 2025-05-24 20:29:41  2025-05-24 08:29:41 PM  Saturday     True  Spring   \n",
       "1 2025-05-24 19:22:10  2025-05-24 07:22:10 PM  Saturday     True  Spring   \n",
       "2 2025-05-24 17:51:01  2025-05-24 05:51:01 PM  Saturday     True  Spring   \n",
       "3 2025-05-24 15:36:04  2025-05-24 03:36:04 PM  Saturday     True  Spring   \n",
       "4 2025-05-24 12:26:55  2025-05-24 12:26:55 PM  Saturday     True  Spring   \n",
       "\n",
       "   HourAMPM  TimeOfDay               FullStreet        lat        lon  \\\n",
       "0  08:29 PM    Evening   E WATER ST / 4TH ST SE  38.029325 -78.479617   \n",
       "1  07:22 PM    Evening        1500 ROSE HILL DR  38.048752 -78.482931   \n",
       "2  05:51 PM    Evening             800 HARDY DR  38.033239 -78.490398   \n",
       "3  03:36 PM  Afternoon            300 E MAIN ST  38.030104 -78.479945   \n",
       "4  12:26 PM  Afternoon          600 E MARKET ST  38.030175 -78.477574   \n",
       "\n",
       "     neighborhood  \n",
       "0  North Downtown  \n",
       "1  Barracks Rugby  \n",
       "2     10th & Page  \n",
       "3   Downtown Mall  \n",
       "4   Downtown Mall  "
      ]
     },
     "execution_count": 10,
     "metadata": {},
     "output_type": "execute_result"
    }
   ],
   "source": [
    "# Initialize the Google Maps client.\n",
    "gmaps = googlemaps.Client(key=GOOGLE_API_KEY)\n",
    "\n",
    "# Try to load a persistent neighborhood cache if available.\n",
    "try:\n",
    "    with open(\"neighborhood_cache.pkl\", \"rb\") as f:\n",
    "        neighborhood_cache = pickle.load(f)\n",
    "    print(\"Loaded neighborhood cache.\")\n",
    "except FileNotFoundError:\n",
    "    neighborhood_cache = {}\n",
    "    print(\"No neighborhood cache found; starting fresh.\")\n",
    "\n",
    "def get_neighborhood(lat, lon):\n",
    "    \"\"\"\n",
    "    Reverse geocodes a latitude and longitude to retrieve the neighborhood.\n",
    "    Caches results to speed up subsequent lookups.\n",
    "    \"\"\"\n",
    "    key = (lat, lon)\n",
    "    if key in neighborhood_cache:\n",
    "        return neighborhood_cache[key]\n",
    "    \n",
    "    try:\n",
    "        result = gmaps.reverse_geocode((lat, lon))\n",
    "        if result:\n",
    "            # Look for the 'neighborhood' component in the first result.\n",
    "            for component in result[0]['address_components']:\n",
    "                if 'neighborhood' in component['types']:\n",
    "                    neighborhood = component['long_name']\n",
    "                    neighborhood_cache[key] = neighborhood\n",
    "                    return neighborhood\n",
    "            # If no neighborhood is found, return \"N/A\"\n",
    "            neighborhood_cache[key] = \"N/A\"\n",
    "            return \"N/A\"\n",
    "    except Exception as e:\n",
    "        print(f\"Error getting neighborhood for {lat}, {lon}: {e}\")\n",
    "        return \"N/A\"\n",
    "    \n",
    "    # Pause to respect usage limits.\n",
    "    time.sleep(1)\n",
    "\n",
    "# Example usage: Apply to your DataFrame 'df' that already has 'lat' and 'lon' columns.\n",
    "df['neighborhood'] = df.apply(lambda row: get_neighborhood(row['lat'], row['lon']), axis=1)\n",
    "\n",
    "# Save the updated neighborhood cache.\n",
    "with open(\"neighborhood_cache.pkl\", \"wb\") as f:\n",
    "    pickle.dump(neighborhood_cache, f)\n",
    "\n",
    "df.head()\n"
   ]
  },
  {
   "cell_type": "markdown",
   "id": "002dd487",
   "metadata": {
    "papermill": {
     "duration": 0.006532,
     "end_time": "2025-05-27T01:03:16.994954",
     "exception": false,
     "start_time": "2025-05-27T01:03:16.988422",
     "status": "completed"
    },
    "tags": []
   },
   "source": [
    "### Zip"
   ]
  },
  {
   "cell_type": "code",
   "execution_count": 11,
   "id": "4845818f",
   "metadata": {
    "execution": {
     "iopub.execute_input": "2025-05-27T01:03:17.008960Z",
     "iopub.status.busy": "2025-05-27T01:03:17.008505Z",
     "iopub.status.idle": "2025-05-27T01:03:17.252409Z",
     "shell.execute_reply": "2025-05-27T01:03:17.251792Z"
    },
    "papermill": {
     "duration": 0.252105,
     "end_time": "2025-05-27T01:03:17.253451",
     "exception": false,
     "start_time": "2025-05-27T01:03:17.001346",
     "status": "completed"
    },
    "tags": []
   },
   "outputs": [
    {
     "name": "stdout",
     "output_type": "stream",
     "text": [
      "Loaded zip cache.\n"
     ]
    },
    {
     "data": {
      "text/html": [
       "<div>\n",
       "<style scoped>\n",
       "    .dataframe tbody tr th:only-of-type {\n",
       "        vertical-align: middle;\n",
       "    }\n",
       "\n",
       "    .dataframe tbody tr th {\n",
       "        vertical-align: top;\n",
       "    }\n",
       "\n",
       "    .dataframe thead th {\n",
       "        text-align: right;\n",
       "    }\n",
       "</style>\n",
       "<table border=\"1\" class=\"dataframe\">\n",
       "  <thead>\n",
       "    <tr style=\"text-align: right;\">\n",
       "      <th></th>\n",
       "      <th>RecordID</th>\n",
       "      <th>Offense</th>\n",
       "      <th>IncidentID</th>\n",
       "      <th>BlockNumber</th>\n",
       "      <th>StreetName</th>\n",
       "      <th>Agency</th>\n",
       "      <th>HourReported</th>\n",
       "      <th>ReportingOfficer</th>\n",
       "      <th>Date</th>\n",
       "      <th>DateString</th>\n",
       "      <th>DayOfWeek</th>\n",
       "      <th>Weekend</th>\n",
       "      <th>Season</th>\n",
       "      <th>HourAMPM</th>\n",
       "      <th>TimeOfDay</th>\n",
       "      <th>FullStreet</th>\n",
       "      <th>lat</th>\n",
       "      <th>lon</th>\n",
       "      <th>neighborhood</th>\n",
       "      <th>zip</th>\n",
       "    </tr>\n",
       "  </thead>\n",
       "  <tbody>\n",
       "    <tr>\n",
       "      <th>0</th>\n",
       "      <td>1</td>\n",
       "      <td>Hit and Run</td>\n",
       "      <td>202500017742</td>\n",
       "      <td></td>\n",
       "      <td>E WATER ST / 4TH ST SE</td>\n",
       "      <td>CPD</td>\n",
       "      <td>2029</td>\n",
       "      <td>Rigsby, Lloyd</td>\n",
       "      <td>2025-05-24 20:29:41</td>\n",
       "      <td>2025-05-24 08:29:41 PM</td>\n",
       "      <td>Saturday</td>\n",
       "      <td>True</td>\n",
       "      <td>Spring</td>\n",
       "      <td>08:29 PM</td>\n",
       "      <td>Evening</td>\n",
       "      <td>E WATER ST / 4TH ST SE</td>\n",
       "      <td>38.029325</td>\n",
       "      <td>-78.479617</td>\n",
       "      <td>North Downtown</td>\n",
       "      <td>22902</td>\n",
       "    </tr>\n",
       "    <tr>\n",
       "      <th>1</th>\n",
       "      <td>2</td>\n",
       "      <td>Hit and Run</td>\n",
       "      <td>202500017739</td>\n",
       "      <td>1500</td>\n",
       "      <td>ROSE HILL DR</td>\n",
       "      <td>CPD</td>\n",
       "      <td>1922</td>\n",
       "      <td>Abdelgayed, Adam</td>\n",
       "      <td>2025-05-24 19:22:10</td>\n",
       "      <td>2025-05-24 07:22:10 PM</td>\n",
       "      <td>Saturday</td>\n",
       "      <td>True</td>\n",
       "      <td>Spring</td>\n",
       "      <td>07:22 PM</td>\n",
       "      <td>Evening</td>\n",
       "      <td>1500 ROSE HILL DR</td>\n",
       "      <td>38.048752</td>\n",
       "      <td>-78.482931</td>\n",
       "      <td>Barracks Rugby</td>\n",
       "      <td>22903</td>\n",
       "    </tr>\n",
       "    <tr>\n",
       "      <th>2</th>\n",
       "      <td>3</td>\n",
       "      <td>Hit and Run</td>\n",
       "      <td>202500017729</td>\n",
       "      <td>800</td>\n",
       "      <td>HARDY DR</td>\n",
       "      <td>CPD</td>\n",
       "      <td>1751</td>\n",
       "      <td>Essex, Dominique</td>\n",
       "      <td>2025-05-24 17:51:01</td>\n",
       "      <td>2025-05-24 05:51:01 PM</td>\n",
       "      <td>Saturday</td>\n",
       "      <td>True</td>\n",
       "      <td>Spring</td>\n",
       "      <td>05:51 PM</td>\n",
       "      <td>Evening</td>\n",
       "      <td>800 HARDY DR</td>\n",
       "      <td>38.033239</td>\n",
       "      <td>-78.490398</td>\n",
       "      <td>10th &amp; Page</td>\n",
       "      <td>22903</td>\n",
       "    </tr>\n",
       "    <tr>\n",
       "      <th>3</th>\n",
       "      <td>4</td>\n",
       "      <td>Assault Simple</td>\n",
       "      <td>202500017716</td>\n",
       "      <td>300</td>\n",
       "      <td>E MAIN ST</td>\n",
       "      <td>CPD</td>\n",
       "      <td>1536</td>\n",
       "      <td>Rigsby, Lloyd</td>\n",
       "      <td>2025-05-24 15:36:04</td>\n",
       "      <td>2025-05-24 03:36:04 PM</td>\n",
       "      <td>Saturday</td>\n",
       "      <td>True</td>\n",
       "      <td>Spring</td>\n",
       "      <td>03:36 PM</td>\n",
       "      <td>Afternoon</td>\n",
       "      <td>300 E MAIN ST</td>\n",
       "      <td>38.030104</td>\n",
       "      <td>-78.479945</td>\n",
       "      <td>Downtown Mall</td>\n",
       "      <td>22902</td>\n",
       "    </tr>\n",
       "    <tr>\n",
       "      <th>4</th>\n",
       "      <td>5</td>\n",
       "      <td>Lost/FoundProperty</td>\n",
       "      <td>202500017705</td>\n",
       "      <td>600</td>\n",
       "      <td>E MARKET ST</td>\n",
       "      <td>CPD</td>\n",
       "      <td>1226</td>\n",
       "      <td>Prevost, Payten</td>\n",
       "      <td>2025-05-24 12:26:55</td>\n",
       "      <td>2025-05-24 12:26:55 PM</td>\n",
       "      <td>Saturday</td>\n",
       "      <td>True</td>\n",
       "      <td>Spring</td>\n",
       "      <td>12:26 PM</td>\n",
       "      <td>Afternoon</td>\n",
       "      <td>600 E MARKET ST</td>\n",
       "      <td>38.030175</td>\n",
       "      <td>-78.477574</td>\n",
       "      <td>Downtown Mall</td>\n",
       "      <td>22902</td>\n",
       "    </tr>\n",
       "  </tbody>\n",
       "</table>\n",
       "</div>"
      ],
      "text/plain": [
       "   RecordID             Offense    IncidentID BlockNumber  \\\n",
       "0         1         Hit and Run  202500017742               \n",
       "1         2         Hit and Run  202500017739        1500   \n",
       "2         3         Hit and Run  202500017729         800   \n",
       "3         4      Assault Simple  202500017716         300   \n",
       "4         5  Lost/FoundProperty  202500017705         600   \n",
       "\n",
       "               StreetName Agency HourReported  ReportingOfficer  \\\n",
       "0  E WATER ST / 4TH ST SE    CPD         2029     Rigsby, Lloyd   \n",
       "1            ROSE HILL DR    CPD         1922  Abdelgayed, Adam   \n",
       "2                HARDY DR    CPD         1751  Essex, Dominique   \n",
       "3               E MAIN ST    CPD         1536     Rigsby, Lloyd   \n",
       "4             E MARKET ST    CPD         1226   Prevost, Payten   \n",
       "\n",
       "                 Date              DateString DayOfWeek  Weekend  Season  \\\n",
       "0 2025-05-24 20:29:41  2025-05-24 08:29:41 PM  Saturday     True  Spring   \n",
       "1 2025-05-24 19:22:10  2025-05-24 07:22:10 PM  Saturday     True  Spring   \n",
       "2 2025-05-24 17:51:01  2025-05-24 05:51:01 PM  Saturday     True  Spring   \n",
       "3 2025-05-24 15:36:04  2025-05-24 03:36:04 PM  Saturday     True  Spring   \n",
       "4 2025-05-24 12:26:55  2025-05-24 12:26:55 PM  Saturday     True  Spring   \n",
       "\n",
       "   HourAMPM  TimeOfDay               FullStreet        lat        lon  \\\n",
       "0  08:29 PM    Evening   E WATER ST / 4TH ST SE  38.029325 -78.479617   \n",
       "1  07:22 PM    Evening        1500 ROSE HILL DR  38.048752 -78.482931   \n",
       "2  05:51 PM    Evening             800 HARDY DR  38.033239 -78.490398   \n",
       "3  03:36 PM  Afternoon            300 E MAIN ST  38.030104 -78.479945   \n",
       "4  12:26 PM  Afternoon          600 E MARKET ST  38.030175 -78.477574   \n",
       "\n",
       "     neighborhood    zip  \n",
       "0  North Downtown  22902  \n",
       "1  Barracks Rugby  22903  \n",
       "2     10th & Page  22903  \n",
       "3   Downtown Mall  22902  \n",
       "4   Downtown Mall  22902  "
      ]
     },
     "execution_count": 11,
     "metadata": {},
     "output_type": "execute_result"
    }
   ],
   "source": [
    "# Initialize the geocoder.\n",
    "geolocator = Nominatim(user_agent=\"zip_lookup\")\n",
    "\n",
    "# Try to load a persistent ZIP cache if available.\n",
    "try:\n",
    "    with open(\"zip_cache.pkl\", \"rb\") as f:\n",
    "        zip_cache = pickle.load(f)\n",
    "    print(\"Loaded zip cache.\")\n",
    "except FileNotFoundError:\n",
    "    zip_cache = {}\n",
    "    print(\"No zip cache found; starting fresh.\")\n",
    "\n",
    "def get_zip(lat, lon):\n",
    "    \"\"\"\n",
    "    Reverse geocodes a latitude and longitude to retrieve the ZIP code.\n",
    "    Caches results to speed up subsequent lookups.\n",
    "    \"\"\"\n",
    "    key = (lat, lon)\n",
    "    if key in zip_cache:\n",
    "        return zip_cache[key]\n",
    "    \n",
    "    try:\n",
    "        location = geolocator.reverse((lat, lon), exactly_one=True, timeout=10)\n",
    "        address = location.raw.get('address', {})\n",
    "        postal_code = address.get('postcode', \"N/A\")\n",
    "    except Exception as e:\n",
    "        print(f\"Error getting ZIP for {lat}, {lon}: {e}\")\n",
    "        postal_code = \"N/A\"\n",
    "    \n",
    "    zip_cache[key] = postal_code\n",
    "    # Pause to respect the usage policy.\n",
    "    time.sleep(1)\n",
    "    return postal_code\n",
    "\n",
    "# Apply the function to each row in the DataFrame.\n",
    "df['zip'] = df.apply(lambda row: get_zip(row['lat'], row['lon']), axis=1)\n",
    "\n",
    "# Save the updated ZIP cache.\n",
    "with open(\"zip_cache.pkl\", \"wb\") as f:\n",
    "    pickle.dump(zip_cache, f)\n",
    "\n",
    "df.head()\n"
   ]
  },
  {
   "cell_type": "code",
   "execution_count": 12,
   "id": "a8351c72",
   "metadata": {
    "execution": {
     "iopub.execute_input": "2025-05-27T01:03:17.268495Z",
     "iopub.status.busy": "2025-05-27T01:03:17.268045Z",
     "iopub.status.idle": "2025-05-27T01:03:17.297863Z",
     "shell.execute_reply": "2025-05-27T01:03:17.297281Z"
    },
    "papermill": {
     "duration": 0.038392,
     "end_time": "2025-05-27T01:03:17.298904",
     "exception": false,
     "start_time": "2025-05-27T01:03:17.260512",
     "status": "completed"
    },
    "tags": []
   },
   "outputs": [
    {
     "name": "stdout",
     "output_type": "stream",
     "text": [
      "                  MissingCount  MissingPercentage\n",
      "RecordID                     0               0.00\n",
      "Offense                      0               0.00\n",
      "IncidentID                   0               0.00\n",
      "BlockNumber                  0               0.00\n",
      "StreetName                   0               0.00\n",
      "Agency                       0               0.00\n",
      "HourReported                 0               0.00\n",
      "ReportingOfficer            17               0.07\n",
      "Date                         0               0.00\n",
      "DateString                   0               0.00\n",
      "DayOfWeek                    0               0.00\n",
      "Weekend                      0               0.00\n",
      "Season                       0               0.00\n",
      "HourAMPM                     0               0.00\n",
      "TimeOfDay                    0               0.00\n",
      "FullStreet                   0               0.00\n",
      "lat                          0               0.00\n",
      "lon                          0               0.00\n",
      "neighborhood                 0               0.00\n",
      "zip                          0               0.00\n"
     ]
    }
   ],
   "source": [
    "missing_info = missing_percentage(df)\n",
    "print(missing_info)\n"
   ]
  },
  {
   "cell_type": "code",
   "execution_count": 13,
   "id": "5bc88dd3",
   "metadata": {
    "execution": {
     "iopub.execute_input": "2025-05-27T01:03:17.314037Z",
     "iopub.status.busy": "2025-05-27T01:03:17.313528Z",
     "iopub.status.idle": "2025-05-27T01:03:17.343750Z",
     "shell.execute_reply": "2025-05-27T01:03:17.343197Z"
    },
    "papermill": {
     "duration": 0.038896,
     "end_time": "2025-05-27T01:03:17.344834",
     "exception": false,
     "start_time": "2025-05-27T01:03:17.305938",
     "status": "completed"
    },
    "tags": []
   },
   "outputs": [
    {
     "name": "stdout",
     "output_type": "stream",
     "text": [
      "<class 'pandas.core.frame.DataFrame'>\n",
      "RangeIndex: 25420 entries, 0 to 25419\n",
      "Data columns (total 20 columns):\n",
      " #   Column            Non-Null Count  Dtype         \n",
      "---  ------            --------------  -----         \n",
      " 0   RecordID          25420 non-null  int64         \n",
      " 1   Offense           25420 non-null  object        \n",
      " 2   IncidentID        25420 non-null  object        \n",
      " 3   BlockNumber       25420 non-null  object        \n",
      " 4   StreetName        25420 non-null  object        \n",
      " 5   Agency            25420 non-null  object        \n",
      " 6   HourReported      25420 non-null  object        \n",
      " 7   ReportingOfficer  25403 non-null  object        \n",
      " 8   Date              25420 non-null  datetime64[ns]\n",
      " 9   DateString        25420 non-null  object        \n",
      " 10  DayOfWeek         25420 non-null  object        \n",
      " 11  Weekend           25420 non-null  bool          \n",
      " 12  Season            25420 non-null  object        \n",
      " 13  HourAMPM          25420 non-null  object        \n",
      " 14  TimeOfDay         25420 non-null  object        \n",
      " 15  FullStreet        25420 non-null  object        \n",
      " 16  lat               25420 non-null  float64       \n",
      " 17  lon               25420 non-null  float64       \n",
      " 18  neighborhood      25420 non-null  object        \n",
      " 19  zip               25420 non-null  object        \n",
      "dtypes: bool(1), datetime64[ns](1), float64(2), int64(1), object(15)\n",
      "memory usage: 3.7+ MB\n"
     ]
    }
   ],
   "source": [
    "df.info()"
   ]
  },
  {
   "cell_type": "code",
   "execution_count": 14,
   "id": "9eebad08",
   "metadata": {
    "execution": {
     "iopub.execute_input": "2025-05-27T01:03:17.360149Z",
     "iopub.status.busy": "2025-05-27T01:03:17.359621Z",
     "iopub.status.idle": "2025-05-27T01:03:17.405858Z",
     "shell.execute_reply": "2025-05-27T01:03:17.405158Z"
    },
    "papermill": {
     "duration": 0.055012,
     "end_time": "2025-05-27T01:03:17.407054",
     "exception": false,
     "start_time": "2025-05-27T01:03:17.352042",
     "status": "completed"
    },
    "tags": []
   },
   "outputs": [
    {
     "data": {
      "text/html": [
       "<div>\n",
       "<style scoped>\n",
       "    .dataframe tbody tr th:only-of-type {\n",
       "        vertical-align: middle;\n",
       "    }\n",
       "\n",
       "    .dataframe tbody tr th {\n",
       "        vertical-align: top;\n",
       "    }\n",
       "\n",
       "    .dataframe thead th {\n",
       "        text-align: right;\n",
       "    }\n",
       "</style>\n",
       "<table border=\"1\" class=\"dataframe\">\n",
       "  <thead>\n",
       "    <tr style=\"text-align: right;\">\n",
       "      <th></th>\n",
       "      <th>RecordID</th>\n",
       "      <th>Offense</th>\n",
       "      <th>IncidentID</th>\n",
       "      <th>Agency</th>\n",
       "      <th>ReportingOfficer</th>\n",
       "      <th>Date</th>\n",
       "      <th>DayOfWeek</th>\n",
       "      <th>Weekend</th>\n",
       "      <th>Season</th>\n",
       "      <th>TimeOfDay</th>\n",
       "      <th>FullStreet</th>\n",
       "      <th>lat</th>\n",
       "      <th>lon</th>\n",
       "      <th>neighborhood</th>\n",
       "      <th>zip</th>\n",
       "    </tr>\n",
       "  </thead>\n",
       "  <tbody>\n",
       "    <tr>\n",
       "      <th>0</th>\n",
       "      <td>1</td>\n",
       "      <td>Hit and Run</td>\n",
       "      <td>202500017742</td>\n",
       "      <td>CPD</td>\n",
       "      <td>Rigsby, Lloyd</td>\n",
       "      <td>2025-05-24 20:29:41</td>\n",
       "      <td>Saturday</td>\n",
       "      <td>True</td>\n",
       "      <td>Spring</td>\n",
       "      <td>Evening</td>\n",
       "      <td>E WATER ST / 4TH ST SE</td>\n",
       "      <td>38.029325</td>\n",
       "      <td>-78.479617</td>\n",
       "      <td>North Downtown</td>\n",
       "      <td>22902</td>\n",
       "    </tr>\n",
       "    <tr>\n",
       "      <th>1</th>\n",
       "      <td>2</td>\n",
       "      <td>Hit and Run</td>\n",
       "      <td>202500017739</td>\n",
       "      <td>CPD</td>\n",
       "      <td>Abdelgayed, Adam</td>\n",
       "      <td>2025-05-24 19:22:10</td>\n",
       "      <td>Saturday</td>\n",
       "      <td>True</td>\n",
       "      <td>Spring</td>\n",
       "      <td>Evening</td>\n",
       "      <td>1500 ROSE HILL DR</td>\n",
       "      <td>38.048752</td>\n",
       "      <td>-78.482931</td>\n",
       "      <td>Barracks Rugby</td>\n",
       "      <td>22903</td>\n",
       "    </tr>\n",
       "    <tr>\n",
       "      <th>2</th>\n",
       "      <td>3</td>\n",
       "      <td>Hit and Run</td>\n",
       "      <td>202500017729</td>\n",
       "      <td>CPD</td>\n",
       "      <td>Essex, Dominique</td>\n",
       "      <td>2025-05-24 17:51:01</td>\n",
       "      <td>Saturday</td>\n",
       "      <td>True</td>\n",
       "      <td>Spring</td>\n",
       "      <td>Evening</td>\n",
       "      <td>800 HARDY DR</td>\n",
       "      <td>38.033239</td>\n",
       "      <td>-78.490398</td>\n",
       "      <td>10th &amp; Page</td>\n",
       "      <td>22903</td>\n",
       "    </tr>\n",
       "    <tr>\n",
       "      <th>3</th>\n",
       "      <td>4</td>\n",
       "      <td>Assault Simple</td>\n",
       "      <td>202500017716</td>\n",
       "      <td>CPD</td>\n",
       "      <td>Rigsby, Lloyd</td>\n",
       "      <td>2025-05-24 15:36:04</td>\n",
       "      <td>Saturday</td>\n",
       "      <td>True</td>\n",
       "      <td>Spring</td>\n",
       "      <td>Afternoon</td>\n",
       "      <td>300 E MAIN ST</td>\n",
       "      <td>38.030104</td>\n",
       "      <td>-78.479945</td>\n",
       "      <td>Downtown Mall</td>\n",
       "      <td>22902</td>\n",
       "    </tr>\n",
       "    <tr>\n",
       "      <th>4</th>\n",
       "      <td>5</td>\n",
       "      <td>Lost/FoundProperty</td>\n",
       "      <td>202500017705</td>\n",
       "      <td>CPD</td>\n",
       "      <td>Prevost, Payten</td>\n",
       "      <td>2025-05-24 12:26:55</td>\n",
       "      <td>Saturday</td>\n",
       "      <td>True</td>\n",
       "      <td>Spring</td>\n",
       "      <td>Afternoon</td>\n",
       "      <td>600 E MARKET ST</td>\n",
       "      <td>38.030175</td>\n",
       "      <td>-78.477574</td>\n",
       "      <td>Downtown Mall</td>\n",
       "      <td>22902</td>\n",
       "    </tr>\n",
       "  </tbody>\n",
       "</table>\n",
       "</div>"
      ],
      "text/plain": [
       "   RecordID             Offense    IncidentID Agency  ReportingOfficer  \\\n",
       "0         1         Hit and Run  202500017742    CPD     Rigsby, Lloyd   \n",
       "1         2         Hit and Run  202500017739    CPD  Abdelgayed, Adam   \n",
       "2         3         Hit and Run  202500017729    CPD  Essex, Dominique   \n",
       "3         4      Assault Simple  202500017716    CPD     Rigsby, Lloyd   \n",
       "4         5  Lost/FoundProperty  202500017705    CPD   Prevost, Payten   \n",
       "\n",
       "                 Date DayOfWeek  Weekend  Season  TimeOfDay  \\\n",
       "0 2025-05-24 20:29:41  Saturday     True  Spring    Evening   \n",
       "1 2025-05-24 19:22:10  Saturday     True  Spring    Evening   \n",
       "2 2025-05-24 17:51:01  Saturday     True  Spring    Evening   \n",
       "3 2025-05-24 15:36:04  Saturday     True  Spring  Afternoon   \n",
       "4 2025-05-24 12:26:55  Saturday     True  Spring  Afternoon   \n",
       "\n",
       "                FullStreet        lat        lon    neighborhood    zip  \n",
       "0   E WATER ST / 4TH ST SE  38.029325 -78.479617  North Downtown  22902  \n",
       "1        1500 ROSE HILL DR  38.048752 -78.482931  Barracks Rugby  22903  \n",
       "2             800 HARDY DR  38.033239 -78.490398     10th & Page  22903  \n",
       "3            300 E MAIN ST  38.030104 -78.479945   Downtown Mall  22902  \n",
       "4          600 E MARKET ST  38.030175 -78.477574   Downtown Mall  22902  "
      ]
     },
     "execution_count": 14,
     "metadata": {},
     "output_type": "execute_result"
    }
   ],
   "source": [
    "# Now drop the original BlockNumber and StreetName columns\n",
    "df.drop(columns=['BlockNumber', 'StreetName','HourAMPM','HourReported','DateString'], inplace=True)\n",
    "df[\"zip\"] = df[\"zip\"].astype(str)\n",
    "\n",
    "# Fill all missing values in the DataFrame with \"N/A\"\n",
    "df.replace({None: \"N/A\", np.nan: \"N/A\", \"\": \"N/A\"}, inplace=True)\n",
    "df.head()"
   ]
  },
  {
   "cell_type": "code",
   "execution_count": 15,
   "id": "2aab1d4b",
   "metadata": {
    "execution": {
     "iopub.execute_input": "2025-05-27T01:03:17.423221Z",
     "iopub.status.busy": "2025-05-27T01:03:17.422697Z",
     "iopub.status.idle": "2025-05-27T01:03:17.442280Z",
     "shell.execute_reply": "2025-05-27T01:03:17.441688Z"
    },
    "papermill": {
     "duration": 0.028696,
     "end_time": "2025-05-27T01:03:17.443400",
     "exception": false,
     "start_time": "2025-05-27T01:03:17.414704",
     "status": "completed"
    },
    "tags": []
   },
   "outputs": [
    {
     "name": "stdout",
     "output_type": "stream",
     "text": [
      "                  MissingCount  MissingPercentage\n",
      "RecordID                     0                0.0\n",
      "Offense                      0                0.0\n",
      "IncidentID                   0                0.0\n",
      "Agency                       0                0.0\n",
      "ReportingOfficer             0                0.0\n",
      "Date                         0                0.0\n",
      "DayOfWeek                    0                0.0\n",
      "Weekend                      0                0.0\n",
      "Season                       0                0.0\n",
      "TimeOfDay                    0                0.0\n",
      "FullStreet                   0                0.0\n",
      "lat                          0                0.0\n",
      "lon                          0                0.0\n",
      "neighborhood                 0                0.0\n",
      "zip                          0                0.0\n"
     ]
    }
   ],
   "source": [
    "missing_info = missing_percentage(df)\n",
    "print(missing_info)"
   ]
  },
  {
   "cell_type": "code",
   "execution_count": 16,
   "id": "45d289b8",
   "metadata": {
    "execution": {
     "iopub.execute_input": "2025-05-27T01:03:17.459378Z",
     "iopub.status.busy": "2025-05-27T01:03:17.458810Z",
     "iopub.status.idle": "2025-05-27T01:03:17.463496Z",
     "shell.execute_reply": "2025-05-27T01:03:17.462950Z"
    },
    "papermill": {
     "duration": 0.013605,
     "end_time": "2025-05-27T01:03:17.464500",
     "exception": false,
     "start_time": "2025-05-27T01:03:17.450895",
     "status": "completed"
    },
    "tags": []
   },
   "outputs": [
    {
     "data": {
      "text/plain": [
       "Index(['RecordID', 'Offense', 'IncidentID', 'Agency', 'ReportingOfficer',\n",
       "       'Date', 'DayOfWeek', 'Weekend', 'Season', 'TimeOfDay', 'FullStreet',\n",
       "       'lat', 'lon', 'neighborhood', 'zip'],\n",
       "      dtype='object')"
      ]
     },
     "execution_count": 16,
     "metadata": {},
     "output_type": "execute_result"
    }
   ],
   "source": [
    "df.columns"
   ]
  },
  {
   "cell_type": "code",
   "execution_count": 17,
   "id": "cfb3ad6e",
   "metadata": {
    "execution": {
     "iopub.execute_input": "2025-05-27T01:03:17.480353Z",
     "iopub.status.busy": "2025-05-27T01:03:17.480105Z",
     "iopub.status.idle": "2025-05-27T01:03:17.502857Z",
     "shell.execute_reply": "2025-05-27T01:03:17.502205Z"
    },
    "papermill": {
     "duration": 0.03174,
     "end_time": "2025-05-27T01:03:17.503857",
     "exception": false,
     "start_time": "2025-05-27T01:03:17.472117",
     "status": "completed"
    },
    "tags": []
   },
   "outputs": [
    {
     "name": "stdout",
     "output_type": "stream",
     "text": [
      "<class 'pandas.core.frame.DataFrame'>\n",
      "RangeIndex: 25420 entries, 0 to 25419\n",
      "Data columns (total 15 columns):\n",
      " #   Column            Non-Null Count  Dtype         \n",
      "---  ------            --------------  -----         \n",
      " 0   RecordID          25420 non-null  int64         \n",
      " 1   Offense           25420 non-null  object        \n",
      " 2   IncidentID        25420 non-null  object        \n",
      " 3   Agency            25420 non-null  object        \n",
      " 4   ReportingOfficer  25420 non-null  object        \n",
      " 5   Date              25420 non-null  datetime64[ns]\n",
      " 6   DayOfWeek         25420 non-null  object        \n",
      " 7   Weekend           25420 non-null  bool          \n",
      " 8   Season            25420 non-null  object        \n",
      " 9   TimeOfDay         25420 non-null  object        \n",
      " 10  FullStreet        25420 non-null  object        \n",
      " 11  lat               25420 non-null  float64       \n",
      " 12  lon               25420 non-null  float64       \n",
      " 13  neighborhood      25420 non-null  object        \n",
      " 14  zip               25420 non-null  object        \n",
      "dtypes: bool(1), datetime64[ns](1), float64(2), int64(1), object(10)\n",
      "memory usage: 2.7+ MB\n"
     ]
    }
   ],
   "source": [
    "df.info()"
   ]
  },
  {
   "cell_type": "markdown",
   "id": "267b3f11",
   "metadata": {
    "papermill": {
     "duration": 0.007294,
     "end_time": "2025-05-27T01:03:17.518828",
     "exception": false,
     "start_time": "2025-05-27T01:03:17.511534",
     "status": "completed"
    },
    "tags": []
   },
   "source": [
    "### Export Clean Data"
   ]
  },
  {
   "cell_type": "code",
   "execution_count": 18,
   "id": "d34295e3",
   "metadata": {
    "execution": {
     "iopub.execute_input": "2025-05-27T01:03:17.535083Z",
     "iopub.status.busy": "2025-05-27T01:03:17.534432Z",
     "iopub.status.idle": "2025-05-27T01:03:26.861403Z",
     "shell.execute_reply": "2025-05-27T01:03:26.860764Z"
    },
    "papermill": {
     "duration": 9.336207,
     "end_time": "2025-05-27T01:03:26.862549",
     "exception": false,
     "start_time": "2025-05-27T01:03:17.526342",
     "status": "completed"
    },
    "tags": []
   },
   "outputs": [
    {
     "name": "stdout",
     "output_type": "stream",
     "text": [
      "Project Root: /home/runner/work/crime-data/crime-data\n"
     ]
    },
    {
     "name": "stdout",
     "output_type": "stream",
     "text": [
      "Data saved to: /home/runner/work/crime-data/crime-data/data/charlottesville_crime_incidents.csv\n"
     ]
    },
    {
     "name": "stdout",
     "output_type": "stream",
     "text": [
      "Excel saved to: /home/runner/work/crime-data/crime-data/data/charlottesville_crime_incidents.xlsx\n"
     ]
    }
   ],
   "source": [
    "# Determine the project root (assuming papermill is run from the repository root)\n",
    "project_root = os.getcwd()\n",
    "print(\"Project Root:\", project_root)\n",
    "\n",
    "# Set the data directory within the project root\n",
    "data_dir = os.path.join(project_root, \"data\")\n",
    "\n",
    "# Ensure the \"data\" directory exists (create it if it doesn't)\n",
    "if not os.path.exists(data_dir):\n",
    "    os.makedirs(data_dir)\n",
    "\n",
    "# Export the DataFrame to CSV in the \"data\" folder located in the project root\n",
    "csv_path = os.path.join(data_dir, \"charlottesville_crime_incidents.csv\")\n",
    "df.to_csv(csv_path, index=False)\n",
    "print(\"Data saved to:\", csv_path)\n",
    "\n",
    "# Construct the path to your Excel file\n",
    "excel_path = os.path.join(data_dir, \"charlottesville_crime_incidents.xlsx\")\n",
    "\n",
    "# Export the DataFrame to Excel\n",
    "df.to_excel(excel_path, index=False)\n",
    "print(\"Excel saved to:\", excel_path)\n"
   ]
  },
  {
   "cell_type": "markdown",
   "id": "250bd3e7",
   "metadata": {
    "papermill": {
     "duration": 0.007515,
     "end_time": "2025-05-27T01:03:26.877956",
     "exception": false,
     "start_time": "2025-05-27T01:03:26.870441",
     "status": "completed"
    },
    "tags": []
   },
   "source": [
    "## Predictive Analytics"
   ]
  },
  {
   "cell_type": "code",
   "execution_count": 19,
   "id": "8a05c1ed",
   "metadata": {
    "execution": {
     "iopub.execute_input": "2025-05-27T01:03:26.894289Z",
     "iopub.status.busy": "2025-05-27T01:03:26.893832Z",
     "iopub.status.idle": "2025-05-27T01:03:26.905416Z",
     "shell.execute_reply": "2025-05-27T01:03:26.904890Z"
    },
    "papermill": {
     "duration": 0.020796,
     "end_time": "2025-05-27T01:03:26.906418",
     "exception": false,
     "start_time": "2025-05-27T01:03:26.885622",
     "status": "completed"
    },
    "tags": []
   },
   "outputs": [
    {
     "data": {
      "text/html": [
       "<div>\n",
       "<style scoped>\n",
       "    .dataframe tbody tr th:only-of-type {\n",
       "        vertical-align: middle;\n",
       "    }\n",
       "\n",
       "    .dataframe tbody tr th {\n",
       "        vertical-align: top;\n",
       "    }\n",
       "\n",
       "    .dataframe thead th {\n",
       "        text-align: right;\n",
       "    }\n",
       "</style>\n",
       "<table border=\"1\" class=\"dataframe\">\n",
       "  <thead>\n",
       "    <tr style=\"text-align: right;\">\n",
       "      <th></th>\n",
       "      <th>RecordID</th>\n",
       "      <th>Offense</th>\n",
       "      <th>IncidentID</th>\n",
       "      <th>Agency</th>\n",
       "      <th>ReportingOfficer</th>\n",
       "      <th>Date</th>\n",
       "      <th>DayOfWeek</th>\n",
       "      <th>Weekend</th>\n",
       "      <th>Season</th>\n",
       "      <th>TimeOfDay</th>\n",
       "      <th>FullStreet</th>\n",
       "      <th>lat</th>\n",
       "      <th>lon</th>\n",
       "      <th>neighborhood</th>\n",
       "      <th>zip</th>\n",
       "    </tr>\n",
       "  </thead>\n",
       "  <tbody>\n",
       "    <tr>\n",
       "      <th>0</th>\n",
       "      <td>1</td>\n",
       "      <td>Hit and Run</td>\n",
       "      <td>202500017742</td>\n",
       "      <td>CPD</td>\n",
       "      <td>Rigsby, Lloyd</td>\n",
       "      <td>2025-05-24 20:29:41</td>\n",
       "      <td>Saturday</td>\n",
       "      <td>True</td>\n",
       "      <td>Spring</td>\n",
       "      <td>Evening</td>\n",
       "      <td>E WATER ST / 4TH ST SE</td>\n",
       "      <td>38.029325</td>\n",
       "      <td>-78.479617</td>\n",
       "      <td>North Downtown</td>\n",
       "      <td>22902</td>\n",
       "    </tr>\n",
       "    <tr>\n",
       "      <th>1</th>\n",
       "      <td>2</td>\n",
       "      <td>Hit and Run</td>\n",
       "      <td>202500017739</td>\n",
       "      <td>CPD</td>\n",
       "      <td>Abdelgayed, Adam</td>\n",
       "      <td>2025-05-24 19:22:10</td>\n",
       "      <td>Saturday</td>\n",
       "      <td>True</td>\n",
       "      <td>Spring</td>\n",
       "      <td>Evening</td>\n",
       "      <td>1500 ROSE HILL DR</td>\n",
       "      <td>38.048752</td>\n",
       "      <td>-78.482931</td>\n",
       "      <td>Barracks Rugby</td>\n",
       "      <td>22903</td>\n",
       "    </tr>\n",
       "    <tr>\n",
       "      <th>2</th>\n",
       "      <td>3</td>\n",
       "      <td>Hit and Run</td>\n",
       "      <td>202500017729</td>\n",
       "      <td>CPD</td>\n",
       "      <td>Essex, Dominique</td>\n",
       "      <td>2025-05-24 17:51:01</td>\n",
       "      <td>Saturday</td>\n",
       "      <td>True</td>\n",
       "      <td>Spring</td>\n",
       "      <td>Evening</td>\n",
       "      <td>800 HARDY DR</td>\n",
       "      <td>38.033239</td>\n",
       "      <td>-78.490398</td>\n",
       "      <td>10th &amp; Page</td>\n",
       "      <td>22903</td>\n",
       "    </tr>\n",
       "    <tr>\n",
       "      <th>3</th>\n",
       "      <td>4</td>\n",
       "      <td>Assault Simple</td>\n",
       "      <td>202500017716</td>\n",
       "      <td>CPD</td>\n",
       "      <td>Rigsby, Lloyd</td>\n",
       "      <td>2025-05-24 15:36:04</td>\n",
       "      <td>Saturday</td>\n",
       "      <td>True</td>\n",
       "      <td>Spring</td>\n",
       "      <td>Afternoon</td>\n",
       "      <td>300 E MAIN ST</td>\n",
       "      <td>38.030104</td>\n",
       "      <td>-78.479945</td>\n",
       "      <td>Downtown Mall</td>\n",
       "      <td>22902</td>\n",
       "    </tr>\n",
       "    <tr>\n",
       "      <th>4</th>\n",
       "      <td>5</td>\n",
       "      <td>Lost/FoundProperty</td>\n",
       "      <td>202500017705</td>\n",
       "      <td>CPD</td>\n",
       "      <td>Prevost, Payten</td>\n",
       "      <td>2025-05-24 12:26:55</td>\n",
       "      <td>Saturday</td>\n",
       "      <td>True</td>\n",
       "      <td>Spring</td>\n",
       "      <td>Afternoon</td>\n",
       "      <td>600 E MARKET ST</td>\n",
       "      <td>38.030175</td>\n",
       "      <td>-78.477574</td>\n",
       "      <td>Downtown Mall</td>\n",
       "      <td>22902</td>\n",
       "    </tr>\n",
       "  </tbody>\n",
       "</table>\n",
       "</div>"
      ],
      "text/plain": [
       "   RecordID             Offense    IncidentID Agency  ReportingOfficer  \\\n",
       "0         1         Hit and Run  202500017742    CPD     Rigsby, Lloyd   \n",
       "1         2         Hit and Run  202500017739    CPD  Abdelgayed, Adam   \n",
       "2         3         Hit and Run  202500017729    CPD  Essex, Dominique   \n",
       "3         4      Assault Simple  202500017716    CPD     Rigsby, Lloyd   \n",
       "4         5  Lost/FoundProperty  202500017705    CPD   Prevost, Payten   \n",
       "\n",
       "                 Date DayOfWeek  Weekend  Season  TimeOfDay  \\\n",
       "0 2025-05-24 20:29:41  Saturday     True  Spring    Evening   \n",
       "1 2025-05-24 19:22:10  Saturday     True  Spring    Evening   \n",
       "2 2025-05-24 17:51:01  Saturday     True  Spring    Evening   \n",
       "3 2025-05-24 15:36:04  Saturday     True  Spring  Afternoon   \n",
       "4 2025-05-24 12:26:55  Saturday     True  Spring  Afternoon   \n",
       "\n",
       "                FullStreet        lat        lon    neighborhood    zip  \n",
       "0   E WATER ST / 4TH ST SE  38.029325 -78.479617  North Downtown  22902  \n",
       "1        1500 ROSE HILL DR  38.048752 -78.482931  Barracks Rugby  22903  \n",
       "2             800 HARDY DR  38.033239 -78.490398     10th & Page  22903  \n",
       "3            300 E MAIN ST  38.030104 -78.479945   Downtown Mall  22902  \n",
       "4          600 E MARKET ST  38.030175 -78.477574   Downtown Mall  22902  "
      ]
     },
     "execution_count": 19,
     "metadata": {},
     "output_type": "execute_result"
    }
   ],
   "source": [
    "df.head()"
   ]
  },
  {
   "cell_type": "code",
   "execution_count": 20,
   "id": "56073966",
   "metadata": {
    "execution": {
     "iopub.execute_input": "2025-05-27T01:03:26.922866Z",
     "iopub.status.busy": "2025-05-27T01:03:26.922452Z",
     "iopub.status.idle": "2025-05-27T01:03:26.926806Z",
     "shell.execute_reply": "2025-05-27T01:03:26.926287Z"
    },
    "papermill": {
     "duration": 0.013644,
     "end_time": "2025-05-27T01:03:26.927815",
     "exception": false,
     "start_time": "2025-05-27T01:03:26.914171",
     "status": "completed"
    },
    "tags": []
   },
   "outputs": [
    {
     "data": {
      "text/plain": [
       "Index(['RecordID', 'Offense', 'IncidentID', 'Agency', 'ReportingOfficer',\n",
       "       'Date', 'DayOfWeek', 'Weekend', 'Season', 'TimeOfDay', 'FullStreet',\n",
       "       'lat', 'lon', 'neighborhood', 'zip'],\n",
       "      dtype='object')"
      ]
     },
     "execution_count": 20,
     "metadata": {},
     "output_type": "execute_result"
    }
   ],
   "source": [
    "df.columns"
   ]
  },
  {
   "cell_type": "markdown",
   "id": "63384e0d",
   "metadata": {
    "papermill": {
     "duration": 0.007786,
     "end_time": "2025-05-27T01:03:26.943518",
     "exception": false,
     "start_time": "2025-05-27T01:03:26.935732",
     "status": "completed"
    },
    "tags": []
   },
   "source": [
    "### Data Preparation\n",
    "\n",
    "We need to ensure the data is in the correct format for modeling and can handle missing values, categorical variables, and dates. Here's how to prepare your data:"
   ]
  },
  {
   "cell_type": "code",
   "execution_count": 21,
   "id": "a92f0789",
   "metadata": {
    "execution": {
     "iopub.execute_input": "2025-05-27T01:03:26.960511Z",
     "iopub.status.busy": "2025-05-27T01:03:26.960064Z",
     "iopub.status.idle": "2025-05-27T01:03:28.637114Z",
     "shell.execute_reply": "2025-05-27T01:03:28.636410Z"
    },
    "papermill": {
     "duration": 1.687076,
     "end_time": "2025-05-27T01:03:28.638436",
     "exception": false,
     "start_time": "2025-05-27T01:03:26.951360",
     "status": "completed"
    },
    "tags": []
   },
   "outputs": [],
   "source": [
    "import pandas as pd\n",
    "from sklearn.model_selection import train_test_split\n",
    "from sklearn.preprocessing import OneHotEncoder, LabelEncoder\n",
    "from sklearn.ensemble import RandomForestClassifier\n",
    "from sklearn.linear_model import LogisticRegression\n",
    "from sklearn.tree import DecisionTreeClassifier\n",
    "from sklearn.metrics import classification_report, accuracy_score\n",
    "import seaborn as sns\n",
    "import matplotlib.pyplot as plt\n",
    "\n",
    "# Convert 'Date' to datetime\n",
    "df['Date'] = pd.to_datetime(df['Date'])\n",
    "\n",
    "# Feature engineering: Extract additional time-based features\n",
    "df['Year'] = df['Date'].dt.year\n",
    "df['Month'] = df['Date'].dt.month\n",
    "df['DayOfMonth'] = df['Date'].dt.day\n",
    "\n",
    "# One-hot encoding for 'FullStreet', 'neighborhood', 'zip'\n",
    "df = pd.get_dummies(df, columns=['FullStreet', 'neighborhood', 'zip'], drop_first=True)\n",
    "\n",
    "# Label encoding for ordered variables (those with a natural order like 'DayOfWeek', 'Season', 'TimeOfDay')\n",
    "label_encoders = {}\n",
    "for column in ['DayOfWeek', 'Season', 'TimeOfDay', 'Agency', 'ReportingOfficer']:  # Example ordinal variables\n",
    "    le = LabelEncoder()\n",
    "    df[column] = le.fit_transform(df[column])\n",
    "    label_encoders[column] = le\n",
    "\n",
    "# Filter the dataset to include only the offenses of interest\n",
    "offenses_of_interest = [\n",
    "    'Hit and Run', 'Assault Simple', 'Suspicious Activity', 'Vandalism', \n",
    "    'Larceny - From Mot Vehicle', 'Larceny - All Other', \n",
    "    'Assist Citizen - Mental/TDO/ECO', 'Lost/FoundProperty'\n",
    "]\n",
    "\n",
    "df = df[df['Offense'].isin(offenses_of_interest)]\n",
    "\n",
    "# Label encode the target variable (Offense)\n",
    "offense_encoder = LabelEncoder()\n",
    "df['Offense'] = offense_encoder.fit_transform(df['Offense'])\n",
    "\n",
    "# Separate features (X) and target (y)\n",
    "X = df[['Year', 'Month', 'DayOfMonth', 'DayOfWeek', 'Weekend', 'Season', 'TimeOfDay', 'lat', 'lon', 'Agency', 'ReportingOfficer']]\n",
    "y = df['Offense']  # Offense is now the encoded target variable\n",
    "\n",
    "# Split the data into training and testing sets\n",
    "X_train, X_test, y_train, y_test = train_test_split(X, y, test_size=0.3, random_state=42)\n"
   ]
  },
  {
   "cell_type": "markdown",
   "id": "8d8755a5",
   "metadata": {
    "papermill": {
     "duration": 0.007844,
     "end_time": "2025-05-27T01:03:28.654616",
     "exception": false,
     "start_time": "2025-05-27T01:03:28.646772",
     "status": "completed"
    },
    "tags": []
   },
   "source": [
    "### Model Training\n",
    "\n",
    "Here we will train several models (e.g., Random Forest, Logistic Regression, and Decision Tree). We will use cross-validation to choose the best model based on accuracy, and then explain the impact of the variables."
   ]
  },
  {
   "cell_type": "code",
   "execution_count": 22,
   "id": "569db0f6",
   "metadata": {
    "execution": {
     "iopub.execute_input": "2025-05-27T01:03:28.671717Z",
     "iopub.status.busy": "2025-05-27T01:03:28.671157Z",
     "iopub.status.idle": "2025-05-27T01:03:32.209157Z",
     "shell.execute_reply": "2025-05-27T01:03:32.208418Z"
    },
    "papermill": {
     "duration": 3.547866,
     "end_time": "2025-05-27T01:03:32.210325",
     "exception": false,
     "start_time": "2025-05-27T01:03:28.662459",
     "status": "completed"
    },
    "tags": []
   },
   "outputs": [
    {
     "name": "stderr",
     "output_type": "stream",
     "text": [
      "/opt/hostedtoolcache/Python/3.9.22/x64/lib/python3.9/site-packages/sklearn/linear_model/_logistic.py:465: ConvergenceWarning: lbfgs failed to converge (status=1):\n",
      "STOP: TOTAL NO. of ITERATIONS REACHED LIMIT.\n",
      "\n",
      "Increase the number of iterations (max_iter) or scale the data as shown in:\n",
      "    https://scikit-learn.org/stable/modules/preprocessing.html\n",
      "Please also refer to the documentation for alternative solver options:\n",
      "    https://scikit-learn.org/stable/modules/linear_model.html#logistic-regression\n",
      "  n_iter_i = _check_optimize_result(\n",
      "/opt/hostedtoolcache/Python/3.9.22/x64/lib/python3.9/site-packages/sklearn/metrics/_classification.py:1565: UndefinedMetricWarning: Precision is ill-defined and being set to 0.0 in labels with no predicted samples. Use `zero_division` parameter to control this behavior.\n",
      "  _warn_prf(average, modifier, f\"{metric.capitalize()} is\", len(result))\n",
      "/opt/hostedtoolcache/Python/3.9.22/x64/lib/python3.9/site-packages/sklearn/metrics/_classification.py:1565: UndefinedMetricWarning: Precision is ill-defined and being set to 0.0 in labels with no predicted samples. Use `zero_division` parameter to control this behavior.\n",
      "  _warn_prf(average, modifier, f\"{metric.capitalize()} is\", len(result))\n",
      "/opt/hostedtoolcache/Python/3.9.22/x64/lib/python3.9/site-packages/sklearn/metrics/_classification.py:1565: UndefinedMetricWarning: Precision is ill-defined and being set to 0.0 in labels with no predicted samples. Use `zero_division` parameter to control this behavior.\n",
      "  _warn_prf(average, modifier, f\"{metric.capitalize()} is\", len(result))\n"
     ]
    },
    {
     "name": "stdout",
     "output_type": "stream",
     "text": [
      "\n",
      "Classification Report for All Models:\n",
      "\n",
      "Model: RandomForest\n",
      "Accuracy: 0.2903\n",
      "              precision    recall  f1-score      support\n",
      "0              0.288410  0.352554  0.317272   607.000000\n",
      "1              0.323171  0.240909  0.276042   440.000000\n",
      "2              0.316129  0.433628  0.365672   678.000000\n",
      "3              0.219653  0.158333  0.184019   480.000000\n",
      "4              0.324000  0.252336  0.283713   321.000000\n",
      "5              0.246888  0.241379  0.244103   493.000000\n",
      "6              0.298544  0.261146  0.278596   471.000000\n",
      "accuracy       0.290258  0.290258  0.290258     0.290258\n",
      "macro avg      0.288113  0.277184  0.278488  3490.000000\n",
      "weighted avg   0.287496  0.290258  0.284507  3490.000000\n"
     ]
    },
    {
     "data": {
      "image/png": "[encoded data removed]",
      "text/plain": [
       "<Figure size 800x600 with 2 Axes>"
      ]
     },
     "metadata": {},
     "output_type": "display_data"
    },
    {
     "name": "stdout",
     "output_type": "stream",
     "text": [
      "\n",
      "Model: LogisticRegression\n",
      "Accuracy: 0.2244\n",
      "              precision    recall  f1-score      support\n",
      "0              0.221188  0.509061  0.308383   607.000000\n",
      "1              0.000000  0.000000  0.000000   440.000000\n",
      "2              0.226424  0.697640  0.341887   678.000000\n",
      "3              0.000000  0.000000  0.000000   480.000000\n",
      "4              0.000000  0.000000  0.000000   321.000000\n",
      "5              0.000000  0.000000  0.000000   493.000000\n",
      "6              0.250000  0.002123  0.004211   471.000000\n",
      "accuracy       0.224355  0.224355  0.224355     0.224355\n",
      "macro avg      0.099659  0.172689  0.093497  3490.000000\n",
      "weighted avg   0.116197  0.224355  0.120622  3490.000000\n"
     ]
    },
    {
     "data": {
      "image/png": "[encoded data removed]",
      "text/plain": [
       "<Figure size 800x600 with 2 Axes>"
      ]
     },
     "metadata": {},
     "output_type": "display_data"
    },
    {
     "name": "stdout",
     "output_type": "stream",
     "text": [
      "\n",
      "Model: DecisionTree\n",
      "Accuracy: 0.2072\n",
      "              precision    recall  f1-score      support\n",
      "0              0.243056  0.230643  0.236686   607.000000\n",
      "1              0.222222  0.222727  0.222474   440.000000\n",
      "2              0.255354  0.228614  0.241245   678.000000\n",
      "3              0.182000  0.189583  0.185714   480.000000\n",
      "4              0.189702  0.218069  0.202899   321.000000\n",
      "5              0.158301  0.166329  0.162216   493.000000\n",
      "6              0.181628  0.184713  0.183158   471.000000\n",
      "accuracy       0.207163  0.207163  0.207163     0.207163\n",
      "macro avg      0.204609  0.205811  0.204913  3490.000000\n",
      "weighted avg   0.209251  0.207163  0.207918  3490.000000\n"
     ]
    },
    {
     "data": {
      "image/png": "[encoded data removed]",
      "text/plain": [
       "<Figure size 800x600 with 2 Axes>"
      ]
     },
     "metadata": {},
     "output_type": "display_data"
    },
    {
     "name": "stdout",
     "output_type": "stream",
     "text": [
      "\n",
      "Best Model:\n",
      "Best Model: RandomForestClassifier()\n",
      "Best Model Accuracy: 0.2903\n"
     ]
    }
   ],
   "source": [
    "import pandas as pd\n",
    "from sklearn.model_selection import train_test_split\n",
    "from sklearn.ensemble import RandomForestClassifier\n",
    "from sklearn.linear_model import LogisticRegression\n",
    "from sklearn.tree import DecisionTreeClassifier\n",
    "from sklearn.metrics import classification_report, accuracy_score, confusion_matrix\n",
    "import seaborn as sns\n",
    "import matplotlib.pyplot as plt\n",
    "\n",
    "# Define models\n",
    "models = {\n",
    "    'RandomForest': RandomForestClassifier(),\n",
    "    'LogisticRegression': LogisticRegression(max_iter=1000),\n",
    "    'DecisionTree': DecisionTreeClassifier()\n",
    "}\n",
    "\n",
    "# Train models and evaluate them\n",
    "best_model = None\n",
    "best_score = 0\n",
    "model_reports = {}\n",
    "\n",
    "for model_name, model in models.items():\n",
    "    model.fit(X_train, y_train)  # Train model\n",
    "    y_pred = model.predict(X_test)  # Make predictions\n",
    "    \n",
    "    # Calculate accuracy and generate classification report\n",
    "    accuracy = accuracy_score(y_test, y_pred)\n",
    "    model_reports[model_name] = classification_report(y_test, y_pred, output_dict=True)  # Store as a dictionary for easier analysis\n",
    "    \n",
    "    # Track best performing model\n",
    "    if accuracy > best_score:\n",
    "        best_score = accuracy\n",
    "        best_model = model\n",
    "\n",
    "# Display classification reports and confusion matrices\n",
    "print(\"\\nClassification Report for All Models:\")\n",
    "for model_name, report in model_reports.items():\n",
    "    print(f\"\\nModel: {model_name}\")\n",
    "    print(\"Accuracy: {:.4f}\".format(accuracy_score(y_test, models[model_name].predict(X_test))))  # Display accuracy\n",
    "    print(pd.DataFrame(report).transpose())  # Display classification report as a DataFrame\n",
    "\n",
    "    # Plot Confusion Matrix\n",
    "    cm = confusion_matrix(y_test, models[model_name].predict(X_test))\n",
    "    plt.figure(figsize=(8, 6))\n",
    "    sns.heatmap(cm, annot=True, fmt=\"d\", cmap='Blues', xticklabels=offense_encoder.classes_, yticklabels=offense_encoder.classes_)\n",
    "    plt.title(f\"Confusion Matrix - {model_name}\")\n",
    "    plt.xlabel('Predicted Labels')\n",
    "    plt.ylabel('True Labels')\n",
    "    plt.show()\n",
    "\n",
    "# Display best model details\n",
    "print(\"\\nBest Model:\")\n",
    "print(f\"Best Model: {best_model}\")\n",
    "print(f\"Best Model Accuracy: {best_score:.4f}\")\n"
   ]
  },
  {
   "cell_type": "markdown",
   "id": "130aab9e",
   "metadata": {
    "papermill": {
     "duration": 0.010719,
     "end_time": "2025-05-27T01:03:32.232747",
     "exception": false,
     "start_time": "2025-05-27T01:03:32.222028",
     "status": "completed"
    },
    "tags": []
   },
   "source": [
    "#### Classification Report for All Models:\n",
    "\n",
    "### Explanation of the Classification Results (RandomForest Model)\n",
    "\n",
    "The results you provided are from a **Random Forest** model, which is used for predicting different types of offenses. Let's break down the key components of the results:\n",
    "\n",
    "#### 1. **Accuracy: 0.2822**\n",
    "   - **Accuracy** measures the overall percentage of correct predictions made by the model. An accuracy of 28.22% means the model correctly predicted the offense in about 28% of the cases. This indicates the model's predictions are not highly reliable, as the accuracy is quite low.\n",
    "\n",
    "#### 2. **Classification Report:**\n",
    "   The classification report includes precision, recall, and F1-score for each offense. Let's go over these terms and how they apply to the results:\n",
    "\n",
    "   - **Precision**: The proportion of true positive predictions out of all positive predictions made by the model for a specific class (offense).\n",
    "   - **Recall**: The proportion of true positive predictions out of all actual positive instances in the dataset.\n",
    "   - **F1-Score**: The harmonic mean of precision and recall, providing a balance between the two metrics.\n",
    "   - **Support**: The number of actual occurrences of each class in the test set.\n",
    "\n",
    "   Let's analyze each offense based on these metrics:\n",
    "\n",
    "   | **Offense**                        | **Precision** | **Recall** | **F1-Score** | **Support** |\n",
    "   |------------------------------------|---------------|------------|--------------|-------------|\n",
    "   | **Assault Simple**                 | 0.2892        | 0.3754     | 0.3267       | 594         |\n",
    "   | **Assist Citizen - Mental/TDO/ECO**| 0.3182        | 0.2274     | 0.2652       | 431         |\n",
    "   | **Hit and Run**                    | 0.2963        | 0.4765     | 0.3654       | 638         |\n",
    "   | **Larceny - All Other**            | 0.2270        | 0.1453     | 0.1772       | 475         |\n",
    "   | **Lost/FoundProperty**             | 0.3333        | 0.2102     | 0.2578       | 352         |\n",
    "   | **Suspicious Activity**            | 0.2344        | 0.2169     | 0.2253       | 484         |\n",
    "   | **Vandalism**                      | 0.2712        | 0.2106     | 0.2371       | 470         |\n",
    "\n",
    "#### 3. **Key Insights from the Report:**\n",
    "\n",
    "- **Precision**:\n",
    "   - The highest precision is for **Larceny - All Other** (0.3333), indicating that when the model predicts this offense, it is correct about 33% of the time. However, this is still quite low.\n",
    "   - **Assist Citizen - Mental/TDO/ECO** has the lowest precision (0.2269), meaning that the model's predictions for this offense tend to be wrong more often than correct.\n",
    "\n",
    "- **Recall**:\n",
    "   - **Hit and Run** has the highest recall (0.4765), meaning the model identifies about 48% of the actual occurrences of this offense. This is better than the precision, which indicates it is missing many true positives but is still able to identify a fair number of cases.\n",
    "   - **Larceny - All Other** and **Suspicious Activity** have the lowest recall values (0.1453 and 0.2169, respectively), indicating that the model is failing to identify most of the actual cases for these offenses.\n",
    "\n",
    "- **F1-Score**:\n",
    "   - The **F1-Score** balances precision and recall. It is highest for **Hit and Run** (0.3654), but still relatively low overall. This suggests the model is better at identifying **Hit and Run** than other offenses but still has room for improvement.\n",
    "   - **Larceny - All Other** has the lowest F1-Score (0.1772), indicating a poor balance between precision and recall for this offense.\n",
    "\n",
    "#### 4. **Macro Average and Weighted Average:**\n",
    "   - **Macro Average**: This gives the average precision, recall, and F1-Score across all classes (offenses) without considering the class distribution. It averages the results for all offenses equally.\n",
    "     - Precision: 0.2814\n",
    "     - Recall: 0.2661\n",
    "     - F1-Score: 0.2649\n",
    "   - **Weighted Average**: This averages the metrics but weighs each class by its support (the number of true instances in the test set). This gives a better sense of overall performance, considering the class distribution.\n",
    "     - Precision: 0.2799\n",
    "     - Recall: 0.2822\n",
    "     - F1-Score: 0.2720\n",
    "\n",
    "#### 5. **Confusion Matrix (Visualization Analysis)**:\n",
    "   - The confusion matrix shows the distribution of true positive, false positive, true negative, and false negative predictions for each class.\n",
    "     - For **Hit and Run**, the model performs relatively well in identifying this offense (304 true positives). However, it also misclassifies some **Hit and Run** instances as other offenses (e.g., **Assault Simple**, **Suspicious Activity**, etc.).\n",
    "     - **Larceny - All Other** is frequently misclassified as **Hit and Run**, **Suspicious Activity**, and others. This is evident from the large number of off-diagonal elements in its row.\n",
    "     - **Assist Citizen - Mental/TDO/ECO** and **Suspicious Activity** are frequently misclassified, as seen by the off-diagonal values in their rows.\n",
    "\n",
    "### Conclusion:\n",
    "The Random Forest model has low accuracy (28.22%), suggesting that it struggles to predict most offenses accurately. Some offenses like **Hit and Run** are better predicted than others, but overall, the model shows a high level of misclassification across all offenses. There may be a need for further tuning of the model, additional feature engineering, or trying different models for better performance.\n",
    "\n",
    "Let me know if you'd like to improve the model or make adjustments based on these results!\n",
    "\n"
   ]
  },
  {
   "cell_type": "markdown",
   "id": "91f5f57a",
   "metadata": {
    "papermill": {
     "duration": 0.010519,
     "end_time": "2025-05-27T01:03:32.253927",
     "exception": false,
     "start_time": "2025-05-27T01:03:32.243408",
     "status": "completed"
    },
    "tags": []
   },
   "source": [
    "### Model Explanation\n",
    "\n",
    "Once we’ve chosen the best model, we will explain its predictions by examining feature importance for tree-based models and using statistical methods like logistic regression coefficients for linear models."
   ]
  },
  {
   "cell_type": "markdown",
   "id": "392998a4",
   "metadata": {
    "papermill": {
     "duration": 0.010585,
     "end_time": "2025-05-27T01:03:32.275198",
     "exception": false,
     "start_time": "2025-05-27T01:03:32.264613",
     "status": "completed"
    },
    "tags": []
   },
   "source": [
    "#### Feature Importance for Random Forest / Decision Tree\n",
    "\n",
    "##### For Tree-based Models (Random Forest, Decision Tree)\n",
    "\n",
    "For Random Forest or Decision Tree, we can look at feature importance to understand which variables contribute the most to the model's predictions. Here's how you can visualize and interpret the importance of each feature:"
   ]
  },
  {
   "cell_type": "code",
   "execution_count": 23,
   "id": "edb0914b",
   "metadata": {
    "execution": {
     "iopub.execute_input": "2025-05-27T01:03:32.297735Z",
     "iopub.status.busy": "2025-05-27T01:03:32.297156Z",
     "iopub.status.idle": "2025-05-27T01:03:32.462189Z",
     "shell.execute_reply": "2025-05-27T01:03:32.461448Z"
    },
    "papermill": {
     "duration": 0.177446,
     "end_time": "2025-05-27T01:03:32.463365",
     "exception": false,
     "start_time": "2025-05-27T01:03:32.285919",
     "status": "completed"
    },
    "tags": []
   },
   "outputs": [
    {
     "data": {
      "image/png": "[encoded data removed]",
      "text/plain": [
       "<Figure size 1000x600 with 1 Axes>"
      ]
     },
     "metadata": {},
     "output_type": "display_data"
    }
   ],
   "source": [
    "# For RandomForest or DecisionTree models, we can check feature importance\n",
    "if isinstance(best_model, RandomForestClassifier) or isinstance(best_model, DecisionTreeClassifier):\n",
    "    feature_importance = best_model.feature_importances_\n",
    "    feature_names = X.columns\n",
    "    importance_df = pd.DataFrame({'Feature': feature_names, 'Importance': feature_importance})\n",
    "    importance_df = importance_df.sort_values(by='Importance', ascending=False)\n",
    "    \n",
    "    # Plotting the feature importances\n",
    "    plt.figure(figsize=(10, 6))\n",
    "    sns.barplot(x='Importance', y='Feature', data=importance_df)\n",
    "    plt.title(\"Feature Importance\")\n",
    "    plt.show()\n"
   ]
  },
  {
   "cell_type": "code",
   "execution_count": null,
   "id": "8a7acec4",
   "metadata": {
    "papermill": {
     "duration": 0.01103,
     "end_time": "2025-05-27T01:03:32.485933",
     "exception": false,
     "start_time": "2025-05-27T01:03:32.474903",
     "status": "completed"
    },
    "tags": []
   },
   "outputs": [],
   "source": []
  },
  {
   "cell_type": "markdown",
   "id": "263e4c28",
   "metadata": {
    "papermill": {
     "duration": 0.010876,
     "end_time": "2025-05-27T01:03:32.507667",
     "exception": false,
     "start_time": "2025-05-27T01:03:32.496791",
     "status": "completed"
    },
    "tags": []
   },
   "source": [
    "### Evaluation\n",
    "\n",
    "After training the models and examining their performance, we evaluate the chosen model based on metrics like accuracy, precision, recall, and F1 score.\n",
    "\n"
   ]
  },
  {
   "cell_type": "code",
   "execution_count": 24,
   "id": "9fa2d316",
   "metadata": {
    "execution": {
     "iopub.execute_input": "2025-05-27T01:03:32.530930Z",
     "iopub.status.busy": "2025-05-27T01:03:32.530436Z",
     "iopub.status.idle": "2025-05-27T01:03:32.620661Z",
     "shell.execute_reply": "2025-05-27T01:03:32.620049Z"
    },
    "papermill": {
     "duration": 0.103023,
     "end_time": "2025-05-27T01:03:32.621701",
     "exception": false,
     "start_time": "2025-05-27T01:03:32.518678",
     "status": "completed"
    },
    "tags": []
   },
   "outputs": [
    {
     "name": "stdout",
     "output_type": "stream",
     "text": [
      "Accuracy: 0.2903\n",
      "Classification Report:\n",
      "              precision    recall  f1-score   support\n",
      "\n",
      "           0       0.29      0.35      0.32       607\n",
      "           1       0.32      0.24      0.28       440\n",
      "           2       0.32      0.43      0.37       678\n",
      "           3       0.22      0.16      0.18       480\n",
      "           4       0.32      0.25      0.28       321\n",
      "           5       0.25      0.24      0.24       493\n",
      "           6       0.30      0.26      0.28       471\n",
      "\n",
      "    accuracy                           0.29      3490\n",
      "   macro avg       0.29      0.28      0.28      3490\n",
      "weighted avg       0.29      0.29      0.28      3490\n",
      "\n",
      "Confusion Matrix:\n",
      "[[214  58 140  38  28  89  40]\n",
      " [103 106 109  27  16  48  31]\n",
      " [119  44 294  70  25  71  55]\n",
      " [ 89  24 123  76  34  66  68]\n",
      " [ 45  18  55  45  81  29  48]\n",
      " [ 95  42 117  46  27 119  47]\n",
      " [ 77  36  92  44  39  60 123]]\n",
      "Precision: 0.2875\n",
      "Recall: 0.2903\n",
      "F1 Score: 0.2845\n"
     ]
    }
   ],
   "source": [
    "from sklearn.metrics import classification_report, confusion_matrix, accuracy_score, precision_score, recall_score, f1_score\n",
    "\n",
    "# Predict on the test set\n",
    "y_pred = best_model.predict(X_test)\n",
    "\n",
    "# Calculate Accuracy\n",
    "accuracy = accuracy_score(y_test, y_pred)\n",
    "print(f\"Accuracy: {accuracy:.4f}\")\n",
    "\n",
    "# Classification Report\n",
    "print(\"Classification Report:\")\n",
    "print(classification_report(y_test, y_pred))\n",
    "\n",
    "# Confusion Matrix\n",
    "conf_matrix = confusion_matrix(y_test, y_pred)\n",
    "print(\"Confusion Matrix:\")\n",
    "print(conf_matrix)\n",
    "\n",
    "# Precision, Recall, F1 Score for each class (Offense Type)\n",
    "precision = precision_score(y_test, y_pred, average='weighted')\n",
    "recall = recall_score(y_test, y_pred, average='weighted')\n",
    "f1 = f1_score(y_test, y_pred, average='weighted')\n",
    "\n",
    "print(f\"Precision: {precision:.4f}\")\n",
    "print(f\"Recall: {recall:.4f}\")\n",
    "print(f\"F1 Score: {f1:.4f}\")\n"
   ]
  },
  {
   "cell_type": "markdown",
   "id": "d5048c17",
   "metadata": {
    "papermill": {
     "duration": 0.011177,
     "end_time": "2025-05-27T01:03:32.644564",
     "exception": false,
     "start_time": "2025-05-27T01:03:32.633387",
     "status": "completed"
    },
    "tags": []
   },
   "source": [
    "#### For Logistic Regression (Coefficient Interpretation)\n",
    "\n",
    "For Logistic Regression, the model coefficients can help us understand how each feature affects the likelihood of an offense happening. A positive coefficient indicates a feature increases the likelihood of the offense, and a negative coefficient indicates the opposite."
   ]
  },
  {
   "cell_type": "code",
   "execution_count": 25,
   "id": "b90cfb40",
   "metadata": {
    "execution": {
     "iopub.execute_input": "2025-05-27T01:03:32.668446Z",
     "iopub.status.busy": "2025-05-27T01:03:32.667846Z",
     "iopub.status.idle": "2025-05-27T01:03:32.673195Z",
     "shell.execute_reply": "2025-05-27T01:03:32.672598Z"
    },
    "papermill": {
     "duration": 0.018477,
     "end_time": "2025-05-27T01:03:32.674235",
     "exception": false,
     "start_time": "2025-05-27T01:03:32.655758",
     "status": "completed"
    },
    "tags": []
   },
   "outputs": [],
   "source": [
    "if isinstance(best_model, LogisticRegression):\n",
    "    # Logistic regression coefficients\n",
    "    coef_df = pd.DataFrame({\n",
    "        'Feature': X.columns,\n",
    "        'Coefficient': best_model.coef_[0]\n",
    "    })\n",
    "    coef_df['AbsCoefficient'] = coef_df['Coefficient'].abs()\n",
    "    coef_df = coef_df.sort_values(by='AbsCoefficient', ascending=False)\n",
    "    \n",
    "    # Plotting the coefficients\n",
    "    plt.figure(figsize=(10, 6))\n",
    "    sns.barplot(x='AbsCoefficient', y='Feature', data=coef_df)\n",
    "    plt.title(\"Logistic Regression Coefficients Impact\")\n",
    "    plt.show()\n",
    "\n",
    "    # Print the top 5 most impactful features (by absolute coefficient value)\n",
    "    print(\"Top 5 most impactful features based on coefficients:\")\n",
    "    print(coef_df.head())\n"
   ]
  },
  {
   "cell_type": "markdown",
   "id": "b49e2c01",
   "metadata": {
    "papermill": {
     "duration": 0.011047,
     "end_time": "2025-05-27T01:03:32.696570",
     "exception": false,
     "start_time": "2025-05-27T01:03:32.685523",
     "status": "completed"
    },
    "tags": []
   },
   "source": [
    "Explanation of Output:\n",
    "\n",
    "Feature Importance (Random Forest/Decision Tree): The bar plot will show how important each feature is in the decision-making process. Features at the top of the list are the most influential in predicting the occurrence of offenses.\n",
    "\n",
    "Logistic Regression Coefficients: The bar plot will show the magnitude of the coefficients for each feature. Features with larger absolute values (either positive or negative) have a stronger impact on the model’s predictions. Positive coefficients increase the probability of an offense, while negative coefficients decrease it."
   ]
  },
  {
   "cell_type": "markdown",
   "id": "987ce182",
   "metadata": {
    "papermill": {
     "duration": 0.01098,
     "end_time": "2025-05-27T01:03:32.718630",
     "exception": false,
     "start_time": "2025-05-27T01:03:32.707650",
     "status": "completed"
    },
    "tags": []
   },
   "source": []
  }
 ],
 "metadata": {
  "kernelspec": {
   "display_name": "Python 3",
   "language": "python",
   "name": "python3"
  },
  "language_info": {
   "codemirror_mode": {
    "name": "ipython",
    "version": 3
   },
   "file_extension": ".py",
   "mimetype": "text/x-python",
   "name": "python",
   "nbconvert_exporter": "python",
   "pygments_lexer": "ipython3",
   "version": "3.9.22"
  },
  "papermill": {
   "default_parameters": {},
   "duration": 80.576013,
   "end_time": "2025-05-27T01:03:33.246357",
   "environment_variables": {},
   "exception": null,
   "input_path": "notebook/Crime Data.ipynb",
   "output_path": "notebook/Crime Data_output.ipynb",
   "parameters": {},
   "start_time": "2025-05-27T01:02:12.670344",
   "version": "2.6.0"
  }
 },
 "nbformat": 4,
 "nbformat_minor": 5
}